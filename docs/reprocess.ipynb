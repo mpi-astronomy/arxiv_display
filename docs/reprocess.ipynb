{
 "cells": [
  {
   "cell_type": "markdown",
   "id": "92bcb855",
   "metadata": {
    "papermill": {
     "duration": 0.004578,
     "end_time": "2023-03-07T16:14:14.433530",
     "exception": false,
     "start_time": "2023-03-07T16:14:14.428952",
     "status": "completed"
    },
    "tags": []
   },
   "source": [
    "# MPIA Arxiv on Deck 2: reprocessing\n",
    "\n",
    "This notebook reprocesses some papers with the current baseline."
   ]
  },
  {
   "cell_type": "code",
   "execution_count": 1,
   "id": "3a0d6e11",
   "metadata": {
    "execution": {
     "iopub.execute_input": "2023-03-07T16:14:14.442509Z",
     "iopub.status.busy": "2023-03-07T16:14:14.441823Z",
     "iopub.status.idle": "2023-03-07T16:14:14.654294Z",
     "shell.execute_reply": "2023-03-07T16:14:14.653758Z"
    },
    "papermill": {
     "duration": 0.218641,
     "end_time": "2023-03-07T16:14:14.656179",
     "exception": false,
     "start_time": "2023-03-07T16:14:14.437538",
     "status": "completed"
    },
    "tags": []
   },
   "outputs": [],
   "source": [
    "# Imports\n",
    "import os\n",
    "from IPython.display import Markdown, display\n",
    "from tqdm.notebook import tqdm\n",
    "import warnings\n",
    "from PIL import Image \n",
    "\n",
    "# requires arxiv_on_deck_2\n",
    "\n",
    "from arxiv_on_deck_2.arxiv2 import (get_new_papers, \n",
    "                                    get_paper_from_identifier,\n",
    "                                    retrieve_document_source, \n",
    "                                    get_markdown_badge)\n",
    "from arxiv_on_deck_2 import (latex,\n",
    "                             latex_bib,\n",
    "                             mpia,\n",
    "                             highlight_authors_in_list)\n",
    "\n",
    "# Sometimes images are really big\n",
    "Image.MAX_IMAGE_PIXELS = 1000000000 "
   ]
  },
  {
   "cell_type": "code",
   "execution_count": 2,
   "id": "22aa9d44",
   "metadata": {
    "execution": {
     "iopub.execute_input": "2023-03-07T16:14:14.664639Z",
     "iopub.status.busy": "2023-03-07T16:14:14.664196Z",
     "iopub.status.idle": "2023-03-07T16:14:14.668992Z",
     "shell.execute_reply": "2023-03-07T16:14:14.668362Z"
    },
    "papermill": {
     "duration": 0.010912,
     "end_time": "2023-03-07T16:14:14.670690",
     "exception": false,
     "start_time": "2023-03-07T16:14:14.659778",
     "status": "completed"
    },
    "tags": []
   },
   "outputs": [],
   "source": [
    "# Some useful definitions.\n",
    "\n",
    "class AffiliationWarning(UserWarning):\n",
    "    pass\n",
    "\n",
    "class AffiliationError(RuntimeError):\n",
    "    pass\n",
    "\n",
    "def validation(source: str):\n",
    "    \"\"\"Raises error paper during parsing of source file\n",
    "    \n",
    "    Allows checks before parsing TeX code.\n",
    "    \n",
    "    Raises AffiliationWarning\n",
    "    \"\"\"\n",
    "    check = mpia.affiliation_verifications(source, verbose=True)\n",
    "    if check is not True:\n",
    "        raise AffiliationError(\"mpia.affiliation_verifications: \" + check)\n",
    "\n",
    "        \n",
    "warnings.simplefilter('always', AffiliationWarning)"
   ]
  },
  {
   "cell_type": "code",
   "execution_count": 3,
   "id": "14622700",
   "metadata": {
    "execution": {
     "iopub.execute_input": "2023-03-07T16:14:14.678141Z",
     "iopub.status.busy": "2023-03-07T16:14:14.677940Z",
     "iopub.status.idle": "2023-03-07T16:14:14.681348Z",
     "shell.execute_reply": "2023-03-07T16:14:14.680756Z"
    },
    "papermill": {
     "duration": 0.008826,
     "end_time": "2023-03-07T16:14:14.682782",
     "exception": false,
     "start_time": "2023-03-07T16:14:14.673956",
     "status": "completed"
    },
    "tags": []
   },
   "outputs": [],
   "source": [
    "# additional CSS to consider. \n",
    "# TODO: Current into each exported file. \n",
    "#       This should be set once into the webpages directly.\n",
    "#       With only the class/id definitions in the .md files.\n",
    "\n",
    "debug_html = \"\"\"\n",
    "<style>\n",
    "#wrap{ overflow:auto; }\n",
    "#fig1{ background:yellow; width:100%; float:left; padding:5px;  }\n",
    "#fig2{ background:red; width:50%; float:left; clear:left; padding:5px;  }\n",
    "#fig3{ background:green; width:50%; float:left; padding:5px;   }\n",
    ".macros{ background:yellow; visibility:visible;}\n",
    "h1 {margin: 0 0 0 0;}\n",
    "mark {background-color:#fff3b6;}\n",
    "img {object-fit:contain; max-height:250px; display:inline-block; text-align: center;}\n",
    "</style>\n",
    "\"\"\" \n",
    "html = \"\"\"\n",
    "<style>\n",
    "#wrap{ overflow:auto; }\n",
    "#fig1{ width:100%; float:left; padding: 5px;  }\n",
    "#fig2{ width:50%; float:left; clear:left; padding: 5px;  }\n",
    "#fig3{ width:50%; float:left; padding: 5px;  }\n",
    ".macros{ visibility:hidden; height:0px; }\n",
    "h1 {margin: 0em 0 0 0;}\n",
    "mark {background-color:#fff3b6;}\n",
    "img {object-fit:contain; max-height:250px; display:inline-block; text-align: center;}\n",
    "</style>\n",
    "\"\"\""
   ]
  },
  {
   "cell_type": "markdown",
   "id": "14bd6310",
   "metadata": {
    "papermill": {
     "duration": 0.003205,
     "end_time": "2023-03-07T16:14:14.689356",
     "exception": false,
     "start_time": "2023-03-07T16:14:14.686151",
     "status": "completed"
    },
    "tags": []
   },
   "source": [
    "## get list of arxiv paper to reprocess\n",
    "\n",
    "We use the MPIA mitarbeiter list webpage from mpia.de to get author names\n",
    "We then get all papers from Arxiv and match authors"
   ]
  },
  {
   "cell_type": "code",
   "execution_count": 4,
   "id": "293f1550",
   "metadata": {
    "execution": {
     "iopub.execute_input": "2023-03-07T16:14:14.697025Z",
     "iopub.status.busy": "2023-03-07T16:14:14.696614Z",
     "iopub.status.idle": "2023-03-07T16:14:39.433872Z",
     "shell.execute_reply": "2023-03-07T16:14:39.433312Z"
    },
    "papermill": {
     "duration": 24.743022,
     "end_time": "2023-03-07T16:14:39.435614",
     "exception": false,
     "start_time": "2023-03-07T16:14:14.692592",
     "status": "completed"
    },
    "tags": []
   },
   "outputs": [],
   "source": [
    "# get list from MPIA website\n",
    "# it automatically filters identified non-scientists :func:`mpia.filter_non_scientists`\n",
    "mpia_authors = mpia.get_mpia_mitarbeiter_list()"
   ]
  },
  {
   "cell_type": "code",
   "execution_count": 5,
   "id": "d525e0bc",
   "metadata": {},
   "outputs": [
    {
     "name": "stdout",
     "output_type": "stream",
     "text": [
      "Found 219 from past processing.\n"
     ]
    }
   ],
   "source": [
    "from glob import glob\n",
    "paper_refs = [k.split('/')[-1].replace('.md',  '') for k in glob('_build/html/**md')]\n",
    "n_papers = len(paper_refs)\n",
    "print(f\"Found {n_papers:,d} from past processing.\")"
   ]
  },
  {
   "cell_type": "code",
   "execution_count": 6,
   "id": "2645e73a",
   "metadata": {
    "execution": {
     "iopub.execute_input": "2023-03-07T16:14:14.697025Z",
     "iopub.status.busy": "2023-03-07T16:14:14.696614Z",
     "iopub.status.idle": "2023-03-07T16:14:39.433872Z",
     "shell.execute_reply": "2023-03-07T16:14:39.433312Z"
    },
    "papermill": {
     "duration": 24.743022,
     "end_time": "2023-03-07T16:14:39.435614",
     "exception": false,
     "start_time": "2023-03-07T16:14:14.692592",
     "status": "completed"
    },
    "tags": []
   },
   "outputs": [
    {
     "data": {
      "application/vnd.jupyter.widget-view+json": {
       "model_id": "dbbb5bf6447d4d6b888a960384c29666",
       "version_major": 2,
       "version_minor": 0
      },
      "text/plain": [
       "  0%|          | 0/219 [00:00<?, ?it/s]"
      ]
     },
     "metadata": {},
     "output_type": "display_data"
    },
    {
     "name": "stdout",
     "output_type": "stream",
     "text": [
      "Arxiv has 219 new papers today\n",
      "          191 with possible author matches\n"
     ]
    }
   ],
   "source": [
    "new_papers = [get_paper_from_identifier(k) for k in tqdm(paper_refs)]\n",
    "\n",
    "# select only papers with matching author names and highlight authors\n",
    "hl_list = [k[0] for k in mpia_authors]\n",
    "\n",
    "candidates = []\n",
    "for paperk in new_papers:\n",
    "    hl_authors = highlight_authors_in_list(paperk['authors'], hl_list)\n",
    "    matches = [(hl, orig) for hl, orig in zip(hl_authors, paperk['authors']) if 'mark' in hl]\n",
    "    paperk['authors'] = hl_authors\n",
    "    if matches:\n",
    "        candidates.append(paperk)\n",
    "print(\"\"\"Arxiv has {0:,d} new papers today\"\"\".format(len(new_papers)))        \n",
    "print(\"\"\"          {0:,d} with possible author matches\"\"\".format(len(candidates)))"
   ]
  },
  {
   "cell_type": "code",
   "execution_count": 21,
   "id": "923691af",
   "metadata": {},
   "outputs": [
    {
     "name": "stdout",
     "output_type": "stream",
     "text": [
      "moving 2203.16735 to _build/html/removed\n",
      "moving 2203.16856 to _build/html/removed\n",
      "moving 2204.01758 to _build/html/removed\n",
      "moving 2204.02109 to _build/html/removed\n",
      "moving 2204.02998 to _build/html/removed\n",
      "moving 2209.09823 to _build/html/removed\n",
      "moving 2209.11096 to _build/html/removed\n",
      "moving 2209.11781 to _build/html/removed\n",
      "moving 2210.00863 to _build/html/removed\n",
      "moving 2210.08078 to _build/html/removed\n",
      "moving 2210.11103 to _build/html/removed\n",
      "moving 2211.00667 to _build/html/removed\n",
      "moving 2211.06454 to _build/html/removed\n",
      "moving 2211.09217 to _build/html/removed\n",
      "moving 2211.13318 to _build/html/removed\n",
      "moving 2211.16996 to _build/html/removed\n",
      "moving 2212.00047 to _build/html/removed\n",
      "moving 2212.07332 to _build/html/removed\n",
      "moving 2212.09307 to _build/html/removed\n",
      "moving 2212.09443 to _build/html/removed\n",
      "moving 2212.10804 to _build/html/removed\n",
      "moving 2212.11991 to _build/html/removed\n",
      "moving 2301.02265 to _build/html/removed\n",
      "moving 2301.03387 to _build/html/removed\n",
      "moving 2301.07366 to _build/html/removed\n",
      "moving 2301.10496 to _build/html/removed\n",
      "moving 2302.02890 to _build/html/removed\n",
      "moving 2302.03039 to _build/html/removed\n"
     ]
    }
   ],
   "source": [
    "# move papers that are not matching\n",
    "\n",
    "import os\n",
    "import shutil\n",
    "\n",
    "storage = \"_build/html\"\n",
    "\n",
    "try:\n",
    "    os.makedirs(os.path.join(storage, \"removed\"))\n",
    "except FileExistsError:\n",
    "    pass\n",
    "\n",
    "for paper in new_papers:\n",
    "    if paper not in candidates:\n",
    "        print(f\"moving {paper['identifier']} to {storage}/removed\")\n",
    "        shutil.move(os.path.join(storage, paper['identifier'] + '.md'),\n",
    "                    os.path.join(storage, \"removed\", paper['identifier'] + '.md'))\n",
    "        shutil.move(os.path.join(storage, \"tmp_\" + paper['identifier']),\n",
    "                    os.path.join(storage, \"removed\", \"tmp_\" + paper['identifier']))"
   ]
  },
  {
   "cell_type": "markdown",
   "id": "3543b34a",
   "metadata": {
    "papermill": {
     "duration": 0.003388,
     "end_time": "2023-03-07T16:14:39.442713",
     "exception": false,
     "start_time": "2023-03-07T16:14:39.439325",
     "status": "completed"
    },
    "tags": []
   },
   "source": [
    "# Parse sources and generate relevant outputs\n",
    "\n",
    "From the candidates, we do the following steps:\n",
    "* get their tarball from ArXiv (and extract data)\n",
    "* find the main .tex file: find one with \\documentclass{...} (sometimes it's non trivial)\n",
    "* Check affiliations with :func:`validation`, which uses :func:`mpia.affiliation_verifications`\n",
    "* If passing the affiliations: we parse the .tex source\n",
    "   * inject sub-documents into the main (flatten the main document)\n",
    "   * parse structure, extract information (title, abstract, authors, figures...)\n",
    "   * handles `\\graphicspath` if provided\n",
    "* Generate the .md document."
   ]
  },
  {
   "cell_type": "code",
   "execution_count": null,
   "id": "9576b79e",
   "metadata": {
    "execution": {
     "iopub.execute_input": "2023-03-07T16:14:39.450949Z",
     "iopub.status.busy": "2023-03-07T16:14:39.450403Z",
     "iopub.status.idle": "2023-03-07T16:15:15.012775Z",
     "shell.execute_reply": "2023-03-07T16:15:15.012197Z"
    },
    "papermill": {
     "duration": 35.568655,
     "end_time": "2023-03-07T16:15:15.014738",
     "exception": false,
     "start_time": "2023-03-07T16:14:39.446083",
     "status": "completed"
    },
    "scrolled": true,
    "tags": []
   },
   "outputs": [
    {
     "data": {
      "application/vnd.jupyter.widget-view+json": {
       "model_id": "36e29c301843434180652bfeae3f9136",
       "version_major": 2,
       "version_minor": 0
      },
      "text/plain": [
       "  0%|          | 0/190 [00:00<?, ?it/s]"
      ]
     },
     "metadata": {},
     "output_type": "display_data"
    },
    {
     "name": "stdout",
     "output_type": "stream",
     "text": [
      "Retrieving document from  https://arxiv.org/e-print/2203.15811\n",
      "extracting tarball to tmp_2203.15811... done.\n",
      "plugin pybtex.database.input.suffixes for suffix .bbl not found\n",
      "Retrieving document from  https://arxiv.org/e-print/2203.15822\n",
      "extracting tarball to tmp_2203.15822... done.\n"
     ]
    },
    {
     "name": "stderr",
     "output_type": "stream",
     "text": [
      "/home/fouesneau/Work/projects/arxiv_display/venv/lib/python3.10/site-packages/IPython/core/interactiveshell.py:3460: LatexWarning: Multiple tex files.\n",
      "\n",
      "  exec(code_obj, self.user_global_ns, self.user_ns)\n",
      "/home/fouesneau/Work/projects/arxiv_display/venv/lib/python3.10/site-packages/IPython/core/interactiveshell.py:3460: LatexWarning: Found documentclass in tmp_2203.15822/_region_.tex\n",
      "\n",
      "  exec(code_obj, self.user_global_ns, self.user_ns)\n",
      "/home/fouesneau/Work/projects/arxiv_display/venv/lib/python3.10/site-packages/arxiv_on_deck_2/latex.py:119: LatexWarning: attempting recovering figure figure/figure1\n",
      "  warnings.warn(LatexWarning(f'attempting recovering figure {image}'))\n",
      "/home/fouesneau/Work/projects/arxiv_display/venv/lib/python3.10/site-packages/arxiv_on_deck_2/latex.py:119: LatexWarning: attempting recovering figure figure/figure3\n",
      "  warnings.warn(LatexWarning(f'attempting recovering figure {image}'))\n",
      "/tmp/ipykernel_12931/4289671964.py:41: LatexWarning: 2203.15822 did not run properly\n",
      "Could not find figure figure/figure3\n",
      "  warnings.warn(latex.LatexWarning(f\"{paper_id:s} did not run properly\\n\" +\n"
     ]
    },
    {
     "name": "stdout",
     "output_type": "stream",
     "text": [
      "Retrieving document from  https://arxiv.org/e-print/2203.16504\n",
      "extracting tarball to tmp_2203.16504... done.\n",
      "plugin pybtex.database.input.suffixes for suffix .bbl not found\n",
      "Retrieving document from  https://arxiv.org/e-print/2203.16734\n",
      "extracting tarball to tmp_2203.16734... done.\n",
      "list index out of range\n",
      "Retrieving document from  https://arxiv.org/e-print/2203.16959\n",
      "extracting tarball to tmp_2203.16959... done.\n"
     ]
    },
    {
     "name": "stderr",
     "output_type": "stream",
     "text": [
      "/home/fouesneau/Work/projects/arxiv_display/venv/lib/python3.10/site-packages/IPython/core/interactiveshell.py:3460: LatexWarning: Multiple tex files.\n",
      "\n",
      "  exec(code_obj, self.user_global_ns, self.user_ns)\n",
      "/home/fouesneau/Work/projects/arxiv_display/venv/lib/python3.10/site-packages/IPython/core/interactiveshell.py:3460: LatexWarning: Found documentclass in tmp_2203.16959/K2-2016-BLG-0005Lb.tex\n",
      "\n",
      "  exec(code_obj, self.user_global_ns, self.user_ns)\n",
      "/home/fouesneau/Work/projects/arxiv_display/venv/lib/python3.10/site-packages/arxiv_on_deck_2/latex.py:318: LatexWarning: Latex injecting: 'affils' from 'tmp_2203.16959/affils.tex'\n",
      "  warnings.warn(LatexWarning(f\"Latex injecting: '{ext}' from '{subsource}'\"))\n",
      "/home/fouesneau/Work/projects/arxiv_display/venv/lib/python3.10/site-packages/arxiv_on_deck_2/latex.py:318: LatexWarning: Latex injecting: 'authors' from 'tmp_2203.16959/authors.tex'\n",
      "  warnings.warn(LatexWarning(f\"Latex injecting: '{ext}' from '{subsource}'\"))\n"
     ]
    },
    {
     "name": "stdout",
     "output_type": "stream",
     "text": [
      "list index out of range\n",
      "Retrieving document from  https://arxiv.org/e-print/2204.00342\n",
      "extracting tarball to tmp_2204.00342... done.\n"
     ]
    },
    {
     "name": "stderr",
     "output_type": "stream",
     "text": [
      "/home/fouesneau/Work/projects/arxiv_display/venv/lib/python3.10/site-packages/IPython/core/interactiveshell.py:3460: LatexWarning: Multiple tex files.\n",
      "\n",
      "  exec(code_obj, self.user_global_ns, self.user_ns)\n",
      "/home/fouesneau/Work/projects/arxiv_display/venv/lib/python3.10/site-packages/IPython/core/interactiveshell.py:3460: LatexWarning: Found documentclass in tmp_2204.00342/MagneticEnergy.tex\n",
      "\n",
      "  exec(code_obj, self.user_global_ns, self.user_ns)\n",
      "/home/fouesneau/Work/projects/arxiv_display/venv/lib/python3.10/site-packages/arxiv_on_deck_2/latex.py:318: LatexWarning: Latex injecting: 'TableB1' from 'tmp_2204.00342/TableB1.tex'\n",
      "  warnings.warn(LatexWarning(f\"Latex injecting: '{ext}' from '{subsource}'\"))\n",
      "/home/fouesneau/Work/projects/arxiv_display/venv/lib/python3.10/site-packages/arxiv_on_deck_2/latex.py:119: LatexWarning: attempting recovering figure P_M.eps\n",
      "  warnings.warn(LatexWarning(f'attempting recovering figure {image}'))\n",
      "/tmp/ipykernel_12931/4289671964.py:41: LatexWarning: 2204.00342 did not run properly\n",
      "Could not find figure P_M.eps\n",
      "  warnings.warn(latex.LatexWarning(f\"{paper_id:s} did not run properly\\n\" +\n"
     ]
    },
    {
     "name": "stdout",
     "output_type": "stream",
     "text": [
      "Retrieving document from  https://arxiv.org/e-print/2204.00793\n",
      "extracting tarball to tmp_2204.00793... done.\n",
      "list index out of range\n",
      "Retrieving document from  https://arxiv.org/e-print/2204.01245\n",
      "extracting tarball to tmp_2204.01245... done.\n",
      "Retrieving document from  https://arxiv.org/e-print/2204.01824\n",
      "extracting tarball to tmp_2204.01824... done.\n"
     ]
    },
    {
     "name": "stderr",
     "output_type": "stream",
     "text": [
      "/home/fouesneau/Work/projects/arxiv_display/venv/lib/python3.10/site-packages/arxiv_on_deck_2/latex.py:392: LatexWarning: Error parsing the document directly. Trying to recover.\n",
      "  warnings.warn(LatexWarning(f\"Error parsing the document directly. Trying to recover.\"))\n"
     ]
    },
    {
     "name": "stdout",
     "output_type": "stream",
     "text": [
      "✔ → 0:header\n",
      "  ↳ 2335:\\section{Introduction}\n",
      "✘ → 2335:\\section{Introduction}\n",
      "  ↳ 5212:\\section{Analysis and Results}\n",
      "✔ → 5212:\\section{Analysis and Results}\n",
      "  ↳ 16512:end\n",
      "Retrieving document from  https://arxiv.org/e-print/2204.02017\n"
     ]
    },
    {
     "name": "stderr",
     "output_type": "stream",
     "text": [
      "/tmp/ipykernel_12931/4289671964.py:41: LatexWarning: 2204.02017 did not run properly\n",
      "not a gzip file\n",
      "  warnings.warn(latex.LatexWarning(f\"{paper_id:s} did not run properly\\n\" +\n"
     ]
    },
    {
     "name": "stdout",
     "output_type": "stream",
     "text": [
      "Retrieving document from  https://arxiv.org/e-print/2204.03253\n",
      "extracting tarball to tmp_2204.03253... done.\n"
     ]
    },
    {
     "name": "stderr",
     "output_type": "stream",
     "text": [
      "/home/fouesneau/Work/projects/arxiv_display/venv/lib/python3.10/site-packages/arxiv_on_deck_2/latex.py:392: LatexWarning: Error parsing the document directly. Trying to recover.\n",
      "  warnings.warn(LatexWarning(f\"Error parsing the document directly. Trying to recover.\"))\n"
     ]
    },
    {
     "name": "stdout",
     "output_type": "stream",
     "text": [
      "✔ → 0:header\n",
      "  ↳ 21421:\\section{Introduction}\n",
      "✔ → 21421:\\section{Introduction}\n",
      "  ↳ 27677:\\section{The instrument and data reduction}\n",
      "✔ → 27677:\\section{The instrument and data reduction}\n",
      "  ↳ 39827:\\section{Results}\n",
      "✔ → 39827:\\section{Results}\n",
      "  ↳ 68449:\\section{Physical interpretation }\n",
      "✔ → 68449:\\section{Physical interpretation }\n",
      "  ↳ 71008:\\section{Discussion and Summary}\n",
      "✔ → 71008:\\section{Discussion and Summary}\n",
      "  ↳ 73311:\\section{Acknowledgments}\n",
      "✔ → 73311:\\section{Acknowledgments}\n",
      "  ↳ 74181:end\n"
     ]
    },
    {
     "name": "stderr",
     "output_type": "stream",
     "text": [
      "/home/fouesneau/Work/projects/arxiv_display/venv/lib/python3.10/site-packages/arxiv_on_deck_2/latex.py:119: LatexWarning: attempting recovering figure FigMELCdeadtime\n",
      "  warnings.warn(LatexWarning(f'attempting recovering figure {image}'))\n",
      "/home/fouesneau/Work/projects/arxiv_display/venv/lib/python3.10/site-packages/arxiv_on_deck_2/latex.py:119: LatexWarning: attempting recovering figure FigHXMT_ME_lcfit4\n",
      "  warnings.warn(LatexWarning(f'attempting recovering figure {image}'))\n",
      "/home/fouesneau/Work/projects/arxiv_display/venv/lib/python3.10/site-packages/arxiv_on_deck_2/latex.py:119: LatexWarning: attempting recovering figure FigMELeahyPower\n",
      "  warnings.warn(LatexWarning(f'attempting recovering figure {image}'))\n",
      "/home/fouesneau/Work/projects/arxiv_display/venv/lib/python3.10/site-packages/arxiv_on_deck_2/latex.py:119: LatexWarning: attempting recovering figure FigBPLandPLandBLorentzfit\n",
      "  warnings.warn(LatexWarning(f'attempting recovering figure {image}'))\n",
      "/home/fouesneau/Work/projects/arxiv_display/venv/lib/python3.10/site-packages/arxiv_on_deck_2/latex.py:119: LatexWarning: attempting recovering figure FigPLposteriorDis\n",
      "  warnings.warn(LatexWarning(f'attempting recovering figure {image}'))\n",
      "/home/fouesneau/Work/projects/arxiv_display/venv/lib/python3.10/site-packages/arxiv_on_deck_2/latex.py:119: LatexWarning: attempting recovering figure FigPL_LRT\n",
      "  warnings.warn(LatexWarning(f'attempting recovering figure {image}'))\n",
      "/home/fouesneau/Work/projects/arxiv_display/venv/lib/python3.10/site-packages/arxiv_on_deck_2/latex.py:119: LatexWarning: attempting recovering figure Figwavelet\n",
      "  warnings.warn(LatexWarning(f'attempting recovering figure {image}'))\n",
      "/home/fouesneau/Work/projects/arxiv_display/venv/lib/python3.10/site-packages/arxiv_on_deck_2/latex.py:119: LatexWarning: attempting recovering figure Figall_LRT\n",
      "  warnings.warn(LatexWarning(f'attempting recovering figure {image}'))\n",
      "/home/fouesneau/Work/projects/arxiv_display/venv/lib/python3.10/site-packages/arxiv_on_deck_2/latex.py:119: LatexWarning: attempting recovering figure FigME1p28srebin\n",
      "  warnings.warn(LatexWarning(f'attempting recovering figure {image}'))\n",
      "/home/fouesneau/Work/projects/arxiv_display/venv/lib/python3.10/site-packages/arxiv_on_deck_2/latex.py:119: LatexWarning: attempting recovering figure KW_ME_nois_corr2\n",
      "  warnings.warn(LatexWarning(f'attempting recovering figure {image}'))\n",
      "/home/fouesneau/Work/projects/arxiv_display/venv/lib/python3.10/site-packages/arxiv_on_deck_2/latex.py:119: LatexWarning: attempting recovering figure sin_nois_lc\n",
      "  warnings.warn(LatexWarning(f'attempting recovering figure {image}'))\n",
      "/home/fouesneau/Work/projects/arxiv_display/venv/lib/python3.10/site-packages/arxiv_on_deck_2/latex.py:119: LatexWarning: attempting recovering figure sin_sin_xcorr\n",
      "  warnings.warn(LatexWarning(f'attempting recovering figure {image}'))\n",
      "/home/fouesneau/Work/projects/arxiv_display/venv/lib/python3.10/site-packages/arxiv_on_deck_2/latex.py:119: LatexWarning: attempting recovering figure sin_nois_xcorr\n",
      "  warnings.warn(LatexWarning(f'attempting recovering figure {image}'))\n"
     ]
    },
    {
     "name": "stdout",
     "output_type": "stream",
     "text": [
      "repeated bibliograhpy entry: beloborodov17\n",
      "Retrieving document from  https://arxiv.org/e-print/2204.03335\n",
      "extracting tarball to tmp_2204.03335... done.\n"
     ]
    },
    {
     "name": "stderr",
     "output_type": "stream",
     "text": [
      "/home/fouesneau/Work/projects/arxiv_display/venv/lib/python3.10/site-packages/arxiv_on_deck_2/latex.py:392: LatexWarning: Error parsing the document directly. Trying to recover.\n",
      "  warnings.warn(LatexWarning(f\"Error parsing the document directly. Trying to recover.\"))\n"
     ]
    },
    {
     "name": "stdout",
     "output_type": "stream",
     "text": [
      "✔ → 0:header\n",
      "  ↳ 8437:\\section{Introduction}\n",
      "✘ → 8437:\\section{Introduction}\n",
      "  ↳ 16092:\\section{Quasar Sample and Composites} \\label{sec:sample-composites}\n",
      "✔ → 16092:\\section{Quasar Sample and Composites} \\label{sec:sample-composites}\n",
      "  ↳ 37012:\\section{Line Fitting and Metallicity Measurement} \\label{sec:metallicity}\n",
      "✔ → 37012:\\section{Line Fitting and Metallicity Measurement} \\label{sec:metallicity}\n",
      "  ↳ 56493:\\section{Results} \\label{sec:results}\n",
      "✔ → 56493:\\section{Results} \\label{sec:results}\n",
      "  ↳ 77578:\\section{Discussion} \\label{sec:discussion}\n",
      "✔ → 77578:\\section{Discussion} \\label{sec:discussion}\n",
      "  ↳ 89018:\\section{Conclusions} \\label{sec:conclusion}\n",
      "✔ → 89018:\\section{Conclusions} \\label{sec:conclusion}\n",
      "  ↳ 95624:\\section{Comparison of emission-line fitting methods} \\label{appendix:line-fitting-compare}\n",
      "✔ → 95624:\\section{Comparison of emission-line fitting methods} \\label{appendix:line-fitting-compare}\n",
      "  ↳ 100381:\\section{Additional Tables and Figures}\n",
      "✘ → 100381:\\section{Additional Tables and Figures}\n",
      "  ↳ 114994:end\n",
      "Retrieving document from  https://arxiv.org/e-print/2204.06393\n",
      "extracting tarball to tmp_2204.06393... done.\n"
     ]
    },
    {
     "name": "stderr",
     "output_type": "stream",
     "text": [
      "/home/fouesneau/Work/projects/arxiv_display/venv/lib/python3.10/site-packages/IPython/core/interactiveshell.py:3460: LatexWarning: Multiple tex files.\n",
      "\n",
      "  exec(code_obj, self.user_global_ns, self.user_ns)\n",
      "/home/fouesneau/Work/projects/arxiv_display/venv/lib/python3.10/site-packages/IPython/core/interactiveshell.py:3460: LatexWarning: Found documentclass in tmp_2204.06393/_Full_maintext.tex\n",
      "\n",
      "  exec(code_obj, self.user_global_ns, self.user_ns)\n",
      "/home/fouesneau/Work/projects/arxiv_display/venv/lib/python3.10/site-packages/arxiv_on_deck_2/latex.py:318: LatexWarning: Latex injecting: '_author_contribution' from 'tmp_2204.06393/_author_contribution.tex'\n",
      "  warnings.warn(LatexWarning(f\"Latex injecting: '{ext}' from '{subsource}'\"))\n",
      "/home/fouesneau/Work/projects/arxiv_display/venv/lib/python3.10/site-packages/arxiv_on_deck_2/latex.py:318: LatexWarning: Latex injecting: '_acknowledgement' from 'tmp_2204.06393/_acknowledgement.tex'\n",
      "  warnings.warn(LatexWarning(f\"Latex injecting: '{ext}' from '{subsource}'\"))\n"
     ]
    },
    {
     "name": "stdout",
     "output_type": "stream",
     "text": [
      "list index out of range\n",
      "Retrieving document from  https://arxiv.org/e-print/2208.08872\n",
      "extracting tarball to tmp_2208.08872... done.\n",
      "Retrieving document from  https://arxiv.org/e-print/2208.09335\n",
      "extracting tarball to tmp_2208.09335... done.\n",
      "Retrieving document from  https://arxiv.org/e-print/2208.14927\n",
      "extracting tarball to tmp_2208.14927... done.\n",
      "Retrieving document from  https://arxiv.org/e-print/2209.00363\n",
      "extracting tarball to tmp_2209.00363... done.\n",
      "list index out of range\n",
      "Retrieving document from  https://arxiv.org/e-print/2209.00828\n",
      "extracting tarball to tmp_2209.00828... done.\n"
     ]
    },
    {
     "name": "stderr",
     "output_type": "stream",
     "text": [
      "/home/fouesneau/Work/projects/arxiv_display/venv/lib/python3.10/site-packages/arxiv_on_deck_2/latex.py:119: LatexWarning: attempting recovering figure graphics/AMRF_model_part2\n",
      "  warnings.warn(LatexWarning(f'attempting recovering figure {image}'))\n"
     ]
    },
    {
     "name": "stdout",
     "output_type": "stream",
     "text": [
      "plugin pybtex.database.input.suffixes for suffix .bbl not found\n",
      "Retrieving document from  https://arxiv.org/e-print/2209.01125\n",
      "extracting tarball to tmp_2209.01125... done.\n",
      "plugin pybtex.database.input.suffixes for suffix .bbl not found\n",
      "Retrieving document from  https://arxiv.org/e-print/2209.02092\n",
      "extracting tarball to tmp_2209.02092... done.\n"
     ]
    },
    {
     "name": "stderr",
     "output_type": "stream",
     "text": [
      "/home/fouesneau/Work/projects/arxiv_display/venv/lib/python3.10/site-packages/arxiv_on_deck_2/latex.py:119: LatexWarning: attempting recovering figure optomeca_saxoplus\n",
      "  warnings.warn(LatexWarning(f'attempting recovering figure {image}'))\n"
     ]
    },
    {
     "name": "stdout",
     "output_type": "stream",
     "text": [
      "list index out of range\n",
      "Retrieving document from  https://arxiv.org/e-print/2209.02722\n",
      "extracting tarball to tmp_2209.02722... done.\n",
      "Retrieving document from  https://arxiv.org/e-print/2209.02725\n"
     ]
    },
    {
     "name": "stderr",
     "output_type": "stream",
     "text": [
      "/home/fouesneau/Work/projects/arxiv_display/venv/lib/python3.10/site-packages/IPython/core/interactiveshell.py:3460: LatexWarning: Multiple tex files.\n",
      "\n",
      "  exec(code_obj, self.user_global_ns, self.user_ns)\n",
      "/home/fouesneau/Work/projects/arxiv_display/venv/lib/python3.10/site-packages/IPython/core/interactiveshell.py:3460: LatexWarning: Found documentclass in tmp_2209.02722/aassymbols.tex\n",
      "\n",
      "  exec(code_obj, self.user_global_ns, self.user_ns)\n"
     ]
    },
    {
     "name": "stdout",
     "output_type": "stream",
     "text": [
      "extracting tarball to tmp_2209.02725... done.\n",
      "repeated bibliograhpy entry: Becker2011\n",
      "Retrieving document from  https://arxiv.org/e-print/2209.02872\n",
      "extracting tarball to tmp_2209.02872... done.\n"
     ]
    },
    {
     "name": "stderr",
     "output_type": "stream",
     "text": [
      "/home/fouesneau/Work/projects/arxiv_display/venv/lib/python3.10/site-packages/IPython/core/interactiveshell.py:3460: LatexWarning: Multiple tex files.\n",
      "\n",
      "  exec(code_obj, self.user_global_ns, self.user_ns)\n",
      "/home/fouesneau/Work/projects/arxiv_display/venv/lib/python3.10/site-packages/IPython/core/interactiveshell.py:3460: LatexWarning: Found documentclass in tmp_2209.02872/main.tex\n",
      "\n",
      "  exec(code_obj, self.user_global_ns, self.user_ns)\n",
      "/home/fouesneau/Work/projects/arxiv_display/venv/lib/python3.10/site-packages/arxiv_on_deck_2/latex.py:318: LatexWarning: Latex injecting: 'tables/table_ccf_plaw' from 'tmp_2209.02872/tables/table_ccf_plaw.tex'\n",
      "  warnings.warn(LatexWarning(f\"Latex injecting: '{ext}' from '{subsource}'\"))\n",
      "/home/fouesneau/Work/projects/arxiv_display/venv/lib/python3.10/site-packages/arxiv_on_deck_2/latex.py:318: LatexWarning: Latex injecting: 'tables/table_tpcf_plaw' from 'tmp_2209.02872/tables/table_tpcf_plaw.tex'\n",
      "  warnings.warn(LatexWarning(f\"Latex injecting: '{ext}' from '{subsource}'\"))\n",
      "/home/fouesneau/Work/projects/arxiv_display/venv/lib/python3.10/site-packages/arxiv_on_deck_2/latex.py:318: LatexWarning: Latex injecting: 'tables/table_env_assoc' from 'tmp_2209.02872/tables/table_env_assoc.tex'\n",
      "  warnings.warn(LatexWarning(f\"Latex injecting: '{ext}' from '{subsource}'\"))\n",
      "/home/fouesneau/Work/projects/arxiv_display/venv/lib/python3.10/site-packages/arxiv_on_deck_2/latex.py:318: LatexWarning: Latex injecting: 'tables/table_gals_assoc' from 'tmp_2209.02872/tables/table_gals_assoc.tex'\n",
      "  warnings.warn(LatexWarning(f\"Latex injecting: '{ext}' from '{subsource}'\"))\n",
      "/home/fouesneau/Work/projects/arxiv_display/venv/lib/python3.10/site-packages/arxiv_on_deck_2/latex.py:318: LatexWarning: Latex injecting: 'tables/table_galaxies' from 'tmp_2209.02872/tables/table_galaxies.tex'\n",
      "  warnings.warn(LatexWarning(f\"Latex injecting: '{ext}' from '{subsource}'\"))\n"
     ]
    },
    {
     "name": "stdout",
     "output_type": "stream",
     "text": [
      "list index out of range\n",
      "Retrieving document from  https://arxiv.org/e-print/2209.03367\n",
      "extracting tarball to tmp_2209.03367... done.\n",
      "plugin pybtex.database.input.suffixes for suffix .bbl not found\n",
      "Retrieving document from  https://arxiv.org/e-print/2209.04304\n",
      "extracting tarball to tmp_2209.04304... done.\n",
      "Retrieving document from  https://arxiv.org/e-print/2209.05593\n",
      "extracting tarball to tmp_2209.05593... done.\n",
      "Retrieving document from  https://arxiv.org/e-print/2209.05814\n",
      "extracting tarball to tmp_2209.05814... done.\n",
      "Retrieving document from  https://arxiv.org/e-print/2209.06833\n",
      "extracting tarball to tmp_2209.06833... done.\n"
     ]
    },
    {
     "name": "stderr",
     "output_type": "stream",
     "text": [
      "/home/fouesneau/Work/projects/arxiv_display/venv/lib/python3.10/site-packages/arxiv_on_deck_2/latex.py:392: LatexWarning: Error parsing the document directly. Trying to recover.\n",
      "  warnings.warn(LatexWarning(f\"Error parsing the document directly. Trying to recover.\"))\n"
     ]
    },
    {
     "name": "stdout",
     "output_type": "stream",
     "text": [
      "✔ → 0:header\n",
      "  ↳ 5512:\\section{Introduction}\n",
      "✔ → 5512:\\section{Introduction}\n",
      "  ↳ 11344:\\section{Discovery}\n",
      "✔ → 11344:\\section{Discovery}\n",
      "  ↳ 18262:\\section{Radial velocities}\n",
      "✔ → 18262:\\section{Radial velocities}\n",
      "  ↳ 22420:\\section{Companion mass}\n",
      "✘ → 22420:\\section{Companion mass}\n",
      "  ↳ 41352:\\section{Analysis of the G star spectrum}\n",
      "✔ → 41352:\\section{Analysis of the G star spectrum}\n",
      "  ↳ 53798:\\section{Galactic orbit}\n",
      "✔ → 53798:\\section{Galactic orbit}\n",
      "  ↳ 55174:\\section{X-ray and radio upper limits}\n",
      "✘ → 55174:\\section{X-ray and radio upper limits}\n",
      "  ↳ 59809:\\section{Discussion}\n",
      "✘ → 59809:\\section{Discussion}\n",
      "  ↳ 95927:\\section{How many similar objects exist?}\n",
      "✔ → 95927:\\section{How many similar objects exist?}\n",
      "  ↳ 119147:\\section{Summary and conclusions}\n",
      "✔ → 119147:\\section{Summary and conclusions}\n",
      "  ↳ 179242:\\section{Observations and data reduction}\n",
      "✔ → 179242:\\section{Observations and data reduction}\n",
      "  ↳ 186016:\\section{Gaia observations}\n",
      "✔ → 186016:\\section{Gaia observations}\n",
      "  ↳ 189222:\\section{Comparison of the astrometric and RV solutions}\n",
      "✔ → 189222:\\section{Comparison of the astrometric and RV solutions}\n",
      "  ↳ 192645:\\section{Radial velocities}\n",
      "✔ → 192645:\\section{Radial velocities}\n",
      "  ↳ 195495:\\section{Other candidates}\n",
      "✔ → 195495:\\section{Other candidates}\n",
      "  ↳ 205709:\\section{HIRES Cannon labels}\n",
      "✔ → 205709:\\section{HIRES Cannon labels}\n",
      "  ↳ 207466:\\section{Dependence of Gaia astrometric uncertainties on observables}\n",
      "✔ → 207466:\\section{Dependence of Gaia astrometric uncertainties on observables}\n",
      "  ↳ 212146:end\n",
      "list index out of range\n",
      "Retrieving document from  https://arxiv.org/e-print/2209.07931\n",
      "extracting tarball to tmp_2209.07931... done.\n"
     ]
    },
    {
     "name": "stderr",
     "output_type": "stream",
     "text": [
      "/home/fouesneau/Work/projects/arxiv_display/venv/lib/python3.10/site-packages/arxiv_on_deck_2/latex.py:392: LatexWarning: Error parsing the document directly. Trying to recover.\n",
      "  warnings.warn(LatexWarning(f\"Error parsing the document directly. Trying to recover.\"))\n"
     ]
    },
    {
     "name": "stdout",
     "output_type": "stream",
     "text": [
      "✔ → 0:header\n",
      "  ↳ 3826:\\section{Introduction}\n",
      "✔ → 3826:\\section{Introduction}\n",
      "  ↳ 11397:\\section{Models}\n",
      "✔ → 11397:\\section{Models}\n",
      "  ↳ 29075:\\section{Simulation setup}\n",
      "✔ → 29075:\\section{Simulation setup}\n",
      "  ↳ 49706:\\section{Results}\n",
      "✔ → 49706:\\section{Results}\n",
      "  ↳ 70722:\\section{Discussion}\n",
      "✔ → 70722:\\section{Discussion}\n",
      "  ↳ 112918:\\section{Conclusions} \\label{sec:conclusions}\n",
      "✔ → 112918:\\section{Conclusions} \\label{sec:conclusions}\n",
      "  ↳ 118919:\\begin{appendix}\n",
      "✔ → 118919:\\begin{appendix}\n",
      "  ↳ 118947:\\section{Supporting figures}\n",
      "✔ → 118947:\\section{Supporting figures}\n",
      "  ↳ 121007:end\n",
      "Retrieving document from  https://arxiv.org/e-print/2209.07962\n",
      "extracting tarball to tmp_2209.07962... done.\n"
     ]
    },
    {
     "name": "stderr",
     "output_type": "stream",
     "text": [
      "/home/fouesneau/Work/projects/arxiv_display/venv/lib/python3.10/site-packages/IPython/core/interactiveshell.py:3460: LatexWarning: Multiple tex files.\n",
      "\n",
      "  exec(code_obj, self.user_global_ns, self.user_ns)\n",
      "/home/fouesneau/Work/projects/arxiv_display/venv/lib/python3.10/site-packages/IPython/core/interactiveshell.py:3460: LatexWarning: Found documentclass in tmp_2209.07962/main.tex\n",
      "\n",
      "  exec(code_obj, self.user_global_ns, self.user_ns)\n",
      "/home/fouesneau/Work/projects/arxiv_display/venv/lib/python3.10/site-packages/arxiv_on_deck_2/latex.py:318: LatexWarning: Latex injecting: 'bibliography' from 'tmp_2209.07962/bibliography.tex'\n",
      "  warnings.warn(LatexWarning(f\"Latex injecting: '{ext}' from '{subsource}'\"))\n",
      "/home/fouesneau/Work/projects/arxiv_display/venv/lib/python3.10/site-packages/arxiv_on_deck_2/latex.py:318: LatexWarning: Latex injecting: 'latexdefs' from 'tmp_2209.07962/latexdefs.tex'\n",
      "  warnings.warn(LatexWarning(f\"Latex injecting: '{ext}' from '{subsource}'\"))\n"
     ]
    },
    {
     "name": "stdout",
     "output_type": "stream",
     "text": [
      "list index out of range\n",
      "Retrieving document from  https://arxiv.org/e-print/2209.08106\n",
      "extracting tarball to tmp_2209.08106... done.\n",
      "Retrieving document from  https://arxiv.org/e-print/2209.08120\n",
      "extracting tarball to tmp_2209.08120... done.\n",
      "plugin pybtex.database.input.suffixes for suffix .bbl not found\n",
      "Retrieving document from  https://arxiv.org/e-print/2209.08242\n",
      "extracting tarball to tmp_2209.08242... done.\n"
     ]
    },
    {
     "name": "stderr",
     "output_type": "stream",
     "text": [
      "/home/fouesneau/Work/projects/arxiv_display/venv/lib/python3.10/site-packages/arxiv_on_deck_2/latex.py:392: LatexWarning: Error parsing the document directly. Trying to recover.\n",
      "  warnings.warn(LatexWarning(f\"Error parsing the document directly. Trying to recover.\"))\n"
     ]
    },
    {
     "name": "stdout",
     "output_type": "stream",
     "text": [
      "✔ → 0:header\n",
      "  ↳ 4593:\\section{Introduction}\n",
      "✔ → 4593:\\section{Introduction}\n",
      "  ↳ 8019:\\section{Data and Detection}\n",
      "✔ → 8019:\\section{Data and Detection}\n",
      "  ↳ 20760:\\section{Photometric and Structural Properties}\n",
      "✘ → 20760:\\section{Photometric and Structural Properties}\n",
      "  ↳ 37491:\\section{Dynamics and Metallicity}\n",
      "✔ → 37491:\\section{Dynamics and Metallicity}\n",
      "  ↳ 48127:\\section{Classification and Conclusions}\n",
      "✔ → 48127:\\section{Classification and Conclusions}\n",
      "  ↳ 55204:\\section{Ackownledgements}\n",
      "✔ → 55204:\\section{Ackownledgements}\n",
      "  ↳ 59692:end\n",
      "Retrieving document from  https://arxiv.org/e-print/2209.09914\n",
      "extracting tarball to tmp_2209.09914... done.\n",
      "plugin pybtex.database.input.suffixes for suffix .bbl not found\n",
      "Retrieving document from  https://arxiv.org/e-print/2209.10618\n",
      "extracting tarball to tmp_2209.10618... done.\n"
     ]
    },
    {
     "name": "stderr",
     "output_type": "stream",
     "text": [
      "/home/fouesneau/Work/projects/arxiv_display/venv/lib/python3.10/site-packages/IPython/core/interactiveshell.py:3460: LatexWarning: Multiple tex files.\n",
      "\n",
      "  exec(code_obj, self.user_global_ns, self.user_ns)\n",
      "/home/fouesneau/Work/projects/arxiv_display/venv/lib/python3.10/site-packages/IPython/core/interactiveshell.py:3460: LatexWarning: Found documentclass in tmp_2209.10618/W33-retrieval.tex\n",
      "\n",
      "  exec(code_obj, self.user_global_ns, self.user_ns)\n"
     ]
    },
    {
     "name": "stdout",
     "output_type": "stream",
     "text": [
      "Retrieving document from  https://arxiv.org/e-print/2209.11248\n",
      "extracting tarball to tmp_2209.11248... done.\n"
     ]
    },
    {
     "name": "stderr",
     "output_type": "stream",
     "text": [
      "/home/fouesneau/Work/projects/arxiv_display/venv/lib/python3.10/site-packages/IPython/core/interactiveshell.py:3460: LatexWarning: Multiple tex files.\n",
      "\n",
      "  exec(code_obj, self.user_global_ns, self.user_ns)\n",
      "/home/fouesneau/Work/projects/arxiv_display/venv/lib/python3.10/site-packages/IPython/core/interactiveshell.py:3460: LatexWarning: Found documentclass in tmp_2209.11248/ml.tex\n",
      "\n",
      "  exec(code_obj, self.user_global_ns, self.user_ns)\n",
      "/home/fouesneau/Work/projects/arxiv_display/venv/lib/python3.10/site-packages/arxiv_on_deck_2/latex.py:318: LatexWarning: Latex injecting: 'ml_app' from 'tmp_2209.11248/ml_app.tex'\n",
      "  warnings.warn(LatexWarning(f\"Latex injecting: '{ext}' from '{subsource}'\"))\n",
      "/home/fouesneau/Work/projects/arxiv_display/venv/lib/python3.10/site-packages/arxiv_on_deck_2/latex.py:318: LatexWarning: Latex injecting: 'ml_conclu' from 'tmp_2209.11248/ml_conclu.tex'\n",
      "  warnings.warn(LatexWarning(f\"Latex injecting: '{ext}' from '{subsource}'\"))\n",
      "/home/fouesneau/Work/projects/arxiv_display/venv/lib/python3.10/site-packages/arxiv_on_deck_2/latex.py:318: LatexWarning: Latex injecting: 'ml_body' from 'tmp_2209.11248/ml_body.tex'\n",
      "  warnings.warn(LatexWarning(f\"Latex injecting: '{ext}' from '{subsource}'\"))\n",
      "/home/fouesneau/Work/projects/arxiv_display/venv/lib/python3.10/site-packages/arxiv_on_deck_2/latex.py:318: LatexWarning: Latex injecting: 'ml_intro' from 'tmp_2209.11248/ml_intro.tex'\n",
      "  warnings.warn(LatexWarning(f\"Latex injecting: '{ext}' from '{subsource}'\"))\n",
      "/home/fouesneau/Work/projects/arxiv_display/venv/lib/python3.10/site-packages/arxiv_on_deck_2/latex.py:318: LatexWarning: Latex injecting: 'ml_abs' from 'tmp_2209.11248/ml_abs.tex'\n",
      "  warnings.warn(LatexWarning(f\"Latex injecting: '{ext}' from '{subsource}'\"))\n"
     ]
    },
    {
     "name": "stdout",
     "output_type": "stream",
     "text": [
      "Retrieving document from  https://arxiv.org/e-print/2209.11602\n",
      "extracting tarball to tmp_2209.11602... done.\n"
     ]
    },
    {
     "name": "stderr",
     "output_type": "stream",
     "text": [
      "/home/fouesneau/Work/projects/arxiv_display/venv/lib/python3.10/site-packages/IPython/core/interactiveshell.py:3460: LatexWarning: Multiple tex files.\n",
      "\n",
      "  exec(code_obj, self.user_global_ns, self.user_ns)\n",
      "/home/fouesneau/Work/projects/arxiv_display/venv/lib/python3.10/site-packages/IPython/core/interactiveshell.py:3460: LatexWarning: Found documentclass in tmp_2209.11602/main.tex\n",
      "\n",
      "  exec(code_obj, self.user_global_ns, self.user_ns)\n"
     ]
    },
    {
     "name": "stdout",
     "output_type": "stream",
     "text": [
      "Retrieving document from  https://arxiv.org/e-print/2209.12906\n",
      "extracting tarball to tmp_2209.12906... done.\n"
     ]
    },
    {
     "name": "stderr",
     "output_type": "stream",
     "text": [
      "/home/fouesneau/Work/projects/arxiv_display/venv/lib/python3.10/site-packages/arxiv_on_deck_2/latex.py:392: LatexWarning: Error parsing the document directly. Trying to recover.\n",
      "  warnings.warn(LatexWarning(f\"Error parsing the document directly. Trying to recover.\"))\n"
     ]
    },
    {
     "name": "stdout",
     "output_type": "stream",
     "text": [
      "✔ → 0:header\n",
      "  ↳ 26153:\\section{Introduction}\n",
      "✔ → 26153:\\section{Introduction}\n",
      "  ↳ 30733:\\section{Simulating the \\Euclid universe} \\label{sim}\n",
      "✘ → 30733:\\section{Simulating the \\Euclid universe} \\label{sim}\n",
      "  ↳ 55525:\\section{Model-fitting software packages} \\label{codes}\n",
      "✔ → 55525:\\section{Model-fitting software packages} \\label{codes}\n",
      "  ↳ 68975:\\section{Diagnostic metric} \\label{fom}\n",
      "✔ → 68975:\\section{Diagnostic metric} \\label{fom}\n",
      "  ↳ 83073:\\section{Results} \\label{results}\n",
      "✔ → 83073:\\section{Results} \\label{results}\n",
      "  ↳ 116049:\\section{Conclusions} \\label{conclusions}\n",
      "✔ → 116049:\\section{Conclusions} \\label{conclusions}\n",
      "  ↳ 126006:\\section{Technical information} \\label{AppTec}\n",
      "✔ → 126006:\\section{Technical information} \\label{AppTec}\n",
      "  ↳ 130546:\\section{Computational times and separate analysis of the performance of each software package} \\label{AppCodes}\n",
      "✔ → 130546:\\section{Computational times and separate analysis of the performance of each software package} \\label{AppCodes}\n",
      "  ↳ 153710:end\n",
      "list index out of range\n",
      "Retrieving document from  https://arxiv.org/e-print/2209.13336\n",
      "extracting tarball to tmp_2209.13336... done.\n",
      "plugin pybtex.database.input.suffixes for suffix .bbl not found\n",
      "Retrieving document from  https://arxiv.org/e-print/2209.13717\n",
      "extracting tarball to tmp_2209.13717... done.\n",
      "syntax error in line 353: '}' expected\n",
      "Retrieving document from  https://arxiv.org/e-print/2209.14396\n",
      "extracting tarball to tmp_2209.14396... done.\n"
     ]
    },
    {
     "name": "stderr",
     "output_type": "stream",
     "text": [
      "/home/fouesneau/Work/projects/arxiv_display/venv/lib/python3.10/site-packages/IPython/core/interactiveshell.py:3460: LatexWarning: Multiple tex files.\n",
      "\n",
      "  exec(code_obj, self.user_global_ns, self.user_ns)\n",
      "/home/fouesneau/Work/projects/arxiv_display/venv/lib/python3.10/site-packages/IPython/core/interactiveshell.py:3460: LatexWarning: Found documentclass in tmp_2209.14396/toi2000.tex\n",
      "\n",
      "  exec(code_obj, self.user_global_ns, self.user_ns)\n",
      "/home/fouesneau/Work/projects/arxiv_display/venv/lib/python3.10/site-packages/arxiv_on_deck_2/latex.py:318: LatexWarning: Latex injecting: 'tables/rv_harps.tex' from 'tmp_2209.14396/tables/rv_harps.tex'\n",
      "  warnings.warn(LatexWarning(f\"Latex injecting: '{ext}' from '{subsource}'\"))\n",
      "/home/fouesneau/Work/projects/arxiv_display/venv/lib/python3.10/site-packages/arxiv_on_deck_2/latex.py:318: LatexWarning: Latex injecting: 'tables/giant_multi.tex' from 'tmp_2209.14396/tables/giant_multi.tex'\n",
      "  warnings.warn(LatexWarning(f\"Latex injecting: '{ext}' from '{subsource}'\"))\n",
      "/home/fouesneau/Work/projects/arxiv_display/venv/lib/python3.10/site-packages/arxiv_on_deck_2/latex.py:318: LatexWarning: Latex injecting: 'tables/nuissance' from 'tmp_2209.14396/tables/nuissance.tex'\n",
      "  warnings.warn(LatexWarning(f\"Latex injecting: '{ext}' from '{subsource}'\"))\n",
      "/home/fouesneau/Work/projects/arxiv_display/venv/lib/python3.10/site-packages/arxiv_on_deck_2/latex.py:318: LatexWarning: Latex injecting: 'tables/planet_params' from 'tmp_2209.14396/tables/planet_params.tex'\n",
      "  warnings.warn(LatexWarning(f\"Latex injecting: '{ext}' from '{subsource}'\"))\n",
      "/home/fouesneau/Work/projects/arxiv_display/venv/lib/python3.10/site-packages/arxiv_on_deck_2/latex.py:318: LatexWarning: Latex injecting: 'tables/stellar_params' from 'tmp_2209.14396/tables/stellar_params.tex'\n",
      "  warnings.warn(LatexWarning(f\"Latex injecting: '{ext}' from '{subsource}'\"))\n",
      "/home/fouesneau/Work/projects/arxiv_display/venv/lib/python3.10/site-packages/arxiv_on_deck_2/latex.py:318: LatexWarning: Latex injecting: 'tables/abundances.tex' from 'tmp_2209.14396/tables/abundances.tex'\n",
      "  warnings.warn(LatexWarning(f\"Latex injecting: '{ext}' from '{subsource}'\"))\n",
      "/home/fouesneau/Work/projects/arxiv_display/venv/lib/python3.10/site-packages/arxiv_on_deck_2/latex.py:318: LatexWarning: Latex injecting: 'tables/rv' from 'tmp_2209.14396/tables/rv.tex'\n",
      "  warnings.warn(LatexWarning(f\"Latex injecting: '{ext}' from '{subsource}'\"))\n",
      "/home/fouesneau/Work/projects/arxiv_display/venv/lib/python3.10/site-packages/arxiv_on_deck_2/latex.py:318: LatexWarning: Latex injecting: 'tables/spectroscopy.tex' from 'tmp_2209.14396/tables/spectroscopy.tex'\n",
      "  warnings.warn(LatexWarning(f\"Latex injecting: '{ext}' from '{subsource}'\"))\n",
      "/home/fouesneau/Work/projects/arxiv_display/venv/lib/python3.10/site-packages/arxiv_on_deck_2/latex.py:318: LatexWarning: Latex injecting: 'tables/astep' from 'tmp_2209.14396/tables/astep.tex'\n",
      "  warnings.warn(LatexWarning(f\"Latex injecting: '{ext}' from '{subsource}'\"))\n",
      "/home/fouesneau/Work/projects/arxiv_display/venv/lib/python3.10/site-packages/arxiv_on_deck_2/latex.py:318: LatexWarning: Latex injecting: 'tables/pest' from 'tmp_2209.14396/tables/pest.tex'\n",
      "  warnings.warn(LatexWarning(f\"Latex injecting: '{ext}' from '{subsource}'\"))\n",
      "/home/fouesneau/Work/projects/arxiv_display/venv/lib/python3.10/site-packages/arxiv_on_deck_2/latex.py:318: LatexWarning: Latex injecting: 'tables/lcogt_sso' from 'tmp_2209.14396/tables/lcogt_sso.tex'\n",
      "  warnings.warn(LatexWarning(f\"Latex injecting: '{ext}' from '{subsource}'\"))\n",
      "/home/fouesneau/Work/projects/arxiv_display/venv/lib/python3.10/site-packages/arxiv_on_deck_2/latex.py:318: LatexWarning: Latex injecting: 'tables/tess_20s' from 'tmp_2209.14396/tables/tess_20s.tex'\n",
      "  warnings.warn(LatexWarning(f\"Latex injecting: '{ext}' from '{subsource}'\"))\n",
      "/home/fouesneau/Work/projects/arxiv_display/venv/lib/python3.10/site-packages/arxiv_on_deck_2/latex.py:318: LatexWarning: Latex injecting: 'tables/tess_30m' from 'tmp_2209.14396/tables/tess_30m.tex'\n",
      "  warnings.warn(LatexWarning(f\"Latex injecting: '{ext}' from '{subsource}'\"))\n",
      "/home/fouesneau/Work/projects/arxiv_display/venv/lib/python3.10/site-packages/arxiv_on_deck_2/latex.py:318: LatexWarning: Latex injecting: 'tables/photometry.tex' from 'tmp_2209.14396/tables/photometry.tex'\n",
      "  warnings.warn(LatexWarning(f\"Latex injecting: '{ext}' from '{subsource}'\"))\n",
      "/home/fouesneau/Work/projects/arxiv_display/venv/lib/python3.10/site-packages/arxiv_on_deck_2/latex.py:318: LatexWarning: Latex injecting: 'all_params' from 'tmp_2209.14396/all_params.tex'\n",
      "  warnings.warn(LatexWarning(f\"Latex injecting: '{ext}' from '{subsource}'\"))\n"
     ]
    },
    {
     "name": "stdout",
     "output_type": "stream",
     "text": [
      "list index out of range\n",
      "Retrieving document from  https://arxiv.org/e-print/2209.14410\n",
      "extracting tarball to tmp_2209.14410... done.\n"
     ]
    },
    {
     "name": "stderr",
     "output_type": "stream",
     "text": [
      "/home/fouesneau/Work/projects/arxiv_display/venv/lib/python3.10/site-packages/IPython/core/interactiveshell.py:3460: LatexWarning: Multiple tex files.\n",
      "\n",
      "  exec(code_obj, self.user_global_ns, self.user_ns)\n",
      "/home/fouesneau/Work/projects/arxiv_display/venv/lib/python3.10/site-packages/IPython/core/interactiveshell.py:3460: LatexWarning: Found documentclass in tmp_2209.14410/ms.tex\n",
      "\n",
      "  exec(code_obj, self.user_global_ns, self.user_ns)\n",
      "/home/fouesneau/Work/projects/arxiv_display/venv/lib/python3.10/site-packages/arxiv_on_deck_2/latex.py:318: LatexWarning: Latex injecting: 'tab3' from 'tmp_2209.14410/tab3.tex'\n",
      "  warnings.warn(LatexWarning(f\"Latex injecting: '{ext}' from '{subsource}'\"))\n",
      "/home/fouesneau/Work/projects/arxiv_display/venv/lib/python3.10/site-packages/arxiv_on_deck_2/latex.py:318: LatexWarning: Latex injecting: 'tab2' from 'tmp_2209.14410/tab2.tex'\n",
      "  warnings.warn(LatexWarning(f\"Latex injecting: '{ext}' from '{subsource}'\"))\n",
      "/home/fouesneau/Work/projects/arxiv_display/venv/lib/python3.10/site-packages/arxiv_on_deck_2/latex.py:318: LatexWarning: Latex injecting: 'tab1' from 'tmp_2209.14410/tab1.tex'\n",
      "  warnings.warn(LatexWarning(f\"Latex injecting: '{ext}' from '{subsource}'\"))\n"
     ]
    },
    {
     "name": "stdout",
     "output_type": "stream",
     "text": [
      "Retrieving document from  https://arxiv.org/e-print/2209.15110\n",
      "extracting tarball to tmp_2209.15110... done.\n"
     ]
    },
    {
     "name": "stderr",
     "output_type": "stream",
     "text": [
      "/home/fouesneau/Work/projects/arxiv_display/venv/lib/python3.10/site-packages/arxiv_on_deck_2/latex.py:636: LatexWarning: Could not extract abstract from tmp_2209.15110/HAWCVF.tex\n",
      "  warnings.warn(LatexWarning(f\"Could not extract abstract from {self.main_file}\"))\n"
     ]
    },
    {
     "name": "stdout",
     "output_type": "stream",
     "text": [
      "list index out of range\n",
      "Retrieving document from  https://arxiv.org/e-print/2209.15403\n",
      "extracting tarball to tmp_2209.15403... done.\n"
     ]
    },
    {
     "name": "stderr",
     "output_type": "stream",
     "text": [
      "/home/fouesneau/Work/projects/arxiv_display/venv/lib/python3.10/site-packages/arxiv_on_deck_2/latex.py:392: LatexWarning: Error parsing the document directly. Trying to recover.\n",
      "  warnings.warn(LatexWarning(f\"Error parsing the document directly. Trying to recover.\"))\n"
     ]
    },
    {
     "name": "stdout",
     "output_type": "stream",
     "text": [
      "✔ → 0:header\n",
      "  ↳ 2960:\\section{INTRODUCTION}\n",
      "✔ → 2960:\\section{INTRODUCTION}\n",
      "  ↳ 8416:\\section{METHODS}\\label{sec:methods}\n",
      "✘ → 8416:\\section{METHODS}\\label{sec:methods}\n",
      "  ↳ 24951:\\section{RESULTS}\\label{sec:results}\n",
      "✔ → 24951:\\section{RESULTS}\\label{sec:results}\n",
      "  ↳ 39400:\\section{DISCUSSION}\\label{sec:discussion}\n",
      "✘ → 39400:\\section{DISCUSSION}\\label{sec:discussion}\n",
      "  ↳ 56299:\\section{Summary and future work} \\label{sec:conclusion}\n",
      "✔ → 56299:\\section{Summary and future work} \\label{sec:conclusion}\n",
      "  ↳ 60185:\\section{Ancillary Plots}\\label{appendix}\n",
      "✔ → 60185:\\section{Ancillary Plots}\\label{appendix}\n",
      "  ↳ 61623:end\n",
      "Retrieving document from  https://arxiv.org/e-print/2210.00560\n",
      "extracting tarball to tmp_2210.00560... done.\n"
     ]
    },
    {
     "name": "stderr",
     "output_type": "stream",
     "text": [
      "/home/fouesneau/Work/projects/arxiv_display/venv/lib/python3.10/site-packages/IPython/core/interactiveshell.py:3460: LatexWarning: Multiple tex files.\n",
      "\n",
      "  exec(code_obj, self.user_global_ns, self.user_ns)\n",
      "/home/fouesneau/Work/projects/arxiv_display/venv/lib/python3.10/site-packages/IPython/core/interactiveshell.py:3460: LatexWarning: Found documentclass in tmp_2210.00560/main.tex\n",
      "\n",
      "  exec(code_obj, self.user_global_ns, self.user_ns)\n",
      "/home/fouesneau/Work/projects/arxiv_display/venv/lib/python3.10/site-packages/arxiv_on_deck_2/latex.py:119: LatexWarning: attempting recovering figure Gstr_er\n",
      "  warnings.warn(LatexWarning(f'attempting recovering figure {image}'))\n",
      "/home/fouesneau/Work/projects/arxiv_display/venv/lib/python3.10/site-packages/arxiv_on_deck_2/latex.py:119: LatexWarning: attempting recovering figure HistoSI\n",
      "  warnings.warn(LatexWarning(f'attempting recovering figure {image}'))\n"
     ]
    },
    {
     "name": "stdout",
     "output_type": "stream",
     "text": [
      "Retrieving document from  https://arxiv.org/e-print/2210.01556\n",
      "extracting tarball to tmp_2210.01556... done.\n",
      "Retrieving document from  https://arxiv.org/e-print/2210.01809\n",
      "extracting tarball to tmp_2210.01809... done.\n",
      "list index out of range\n",
      "Retrieving document from  https://arxiv.org/e-print/2210.01811\n",
      "extracting tarball to tmp_2210.01811... done.\n",
      "syntax error in line 2797: '}' expected\n",
      "Retrieving document from  https://arxiv.org/e-print/2210.03615\n",
      "extracting tarball to tmp_2210.03615... done.\n"
     ]
    },
    {
     "name": "stderr",
     "output_type": "stream",
     "text": [
      "/home/fouesneau/Work/projects/arxiv_display/venv/lib/python3.10/site-packages/IPython/core/interactiveshell.py:3460: LatexWarning: Multiple tex files.\n",
      "\n",
      "  exec(code_obj, self.user_global_ns, self.user_ns)\n",
      "/home/fouesneau/Work/projects/arxiv_display/venv/lib/python3.10/site-packages/IPython/core/interactiveshell.py:3460: LatexWarning: Found documentclass in tmp_2210.03615/Main.tex\n",
      "\n",
      "  exec(code_obj, self.user_global_ns, self.user_ns)\n",
      "/home/fouesneau/Work/projects/arxiv_display/venv/lib/python3.10/site-packages/arxiv_on_deck_2/latex.py:318: LatexWarning: Latex injecting: 'app_3Dplots' from 'tmp_2210.03615/app_3Dplots.tex'\n",
      "  warnings.warn(LatexWarning(f\"Latex injecting: '{ext}' from '{subsource}'\"))\n",
      "/home/fouesneau/Work/projects/arxiv_display/venv/lib/python3.10/site-packages/arxiv_on_deck_2/latex.py:318: LatexWarning: Latex injecting: 'app_2Dplots' from 'tmp_2210.03615/app_2Dplots.tex'\n",
      "  warnings.warn(LatexWarning(f\"Latex injecting: '{ext}' from '{subsource}'\"))\n",
      "/home/fouesneau/Work/projects/arxiv_display/venv/lib/python3.10/site-packages/arxiv_on_deck_2/latex.py:318: LatexWarning: Latex injecting: 'Tables/TabCols' from 'tmp_2210.03615/Tables/TabCols.tex'\n",
      "  warnings.warn(LatexWarning(f\"Latex injecting: '{ext}' from '{subsource}'\"))\n",
      "/home/fouesneau/Work/projects/arxiv_display/venv/lib/python3.10/site-packages/arxiv_on_deck_2/latex.py:318: LatexWarning: Latex injecting: 'Tables/gpy_Params' from 'tmp_2210.03615/Tables/gpy_Params.tex'\n",
      "  warnings.warn(LatexWarning(f\"Latex injecting: '{ext}' from '{subsource}'\"))\n",
      "/home/fouesneau/Work/projects/arxiv_display/venv/lib/python3.10/site-packages/arxiv_on_deck_2/latex.py:318: LatexWarning: Latex injecting: 'lazy_jitter' from 'tmp_2210.03615/lazy_jitter.tex'\n",
      "  warnings.warn(LatexWarning(f\"Latex injecting: '{ext}' from '{subsource}'\"))\n",
      "/home/fouesneau/Work/projects/arxiv_display/venv/lib/python3.10/site-packages/arxiv_on_deck_2/latex.py:318: LatexWarning: Latex injecting: 'Tables/LeafExtents_Coords' from 'tmp_2210.03615/Tables/LeafExtents_Coords.tex'\n",
      "  warnings.warn(LatexWarning(f\"Latex injecting: '{ext}' from '{subsource}'\"))\n",
      "/home/fouesneau/Work/projects/arxiv_display/venv/lib/python3.10/site-packages/arxiv_on_deck_2/latex.py:318: LatexWarning: Latex injecting: 'Tables/MainTrunkDend' from 'tmp_2210.03615/Tables/MainTrunkDend.tex'\n",
      "  warnings.warn(LatexWarning(f\"Latex injecting: '{ext}' from '{subsource}'\"))\n",
      "/home/fouesneau/Work/projects/arxiv_display/venv/lib/python3.10/site-packages/arxiv_on_deck_2/latex.py:318: LatexWarning: Latex injecting: 'Tables/RegionDend' from 'tmp_2210.03615/Tables/RegionDend.tex'\n",
      "  warnings.warn(LatexWarning(f\"Latex injecting: '{ext}' from '{subsource}'\"))\n"
     ]
    },
    {
     "name": "stdout",
     "output_type": "stream",
     "text": [
      "Retrieving document from  https://arxiv.org/e-print/2210.04721\n",
      "extracting tarball to tmp_2210.04721... done.\n",
      "list index out of range\n",
      "Retrieving document from  https://arxiv.org/e-print/2210.05505\n",
      "extracting tarball to tmp_2210.05505... done.\n",
      "Retrieving document from  https://arxiv.org/e-print/2210.05595\n",
      "extracting tarball to tmp_2210.05595... done.\n"
     ]
    },
    {
     "name": "stderr",
     "output_type": "stream",
     "text": [
      "/home/fouesneau/Work/projects/arxiv_display/venv/lib/python3.10/site-packages/arxiv_on_deck_2/latex.py:119: LatexWarning: attempting recovering figure Model_C_mixture_edited.png\n",
      "  warnings.warn(LatexWarning(f'attempting recovering figure {image}'))\n"
     ]
    },
    {
     "name": "stdout",
     "output_type": "stream",
     "text": [
      "plugin pybtex.database.input.suffixes for suffix .bbl not found\n",
      "Retrieving document from  https://arxiv.org/e-print/2210.05695\n",
      "extracting tarball to tmp_2210.05695... done.\n"
     ]
    },
    {
     "name": "stderr",
     "output_type": "stream",
     "text": [
      "/home/fouesneau/Work/projects/arxiv_display/venv/lib/python3.10/site-packages/IPython/core/interactiveshell.py:3460: LatexWarning: Multiple tex files.\n",
      "\n",
      "  exec(code_obj, self.user_global_ns, self.user_ns)\n",
      "/home/fouesneau/Work/projects/arxiv_display/venv/lib/python3.10/site-packages/IPython/core/interactiveshell.py:3460: LatexWarning: Found documentclass in tmp_2210.05695/main_SGRBs_compilation.tex\n",
      "\n",
      "  exec(code_obj, self.user_global_ns, self.user_ns)\n",
      "/home/fouesneau/Work/projects/arxiv_display/venv/lib/python3.10/site-packages/arxiv_on_deck_2/latex.py:318: LatexWarning: Latex injecting: 'authors_compilation' from 'tmp_2210.05695/authors_compilation.tex'\n",
      "  warnings.warn(LatexWarning(f\"Latex injecting: '{ext}' from '{subsource}'\"))\n",
      "/home/fouesneau/Work/projects/arxiv_display/venv/lib/python3.10/site-packages/arxiv_on_deck_2/latex.py:318: LatexWarning: Latex injecting: 'affiliations.tex' from 'tmp_2210.05695/affiliations.tex'\n",
      "  warnings.warn(LatexWarning(f\"Latex injecting: '{ext}' from '{subsource}'\"))\n"
     ]
    },
    {
     "name": "stdout",
     "output_type": "stream",
     "text": [
      "repeated bibliograhpy entry: Kilpatrick2021\n",
      "Retrieving document from  https://arxiv.org/e-print/2210.06504\n",
      "extracting tarball to tmp_2210.06504... done.\n",
      "Retrieving document from  https://arxiv.org/e-print/2210.08510\n",
      "extracting tarball to tmp_2210.08510... done.\n"
     ]
    },
    {
     "name": "stderr",
     "output_type": "stream",
     "text": [
      "/home/fouesneau/Work/projects/arxiv_display/venv/lib/python3.10/site-packages/IPython/core/interactiveshell.py:3460: LatexWarning: Multiple tex files.\n",
      "\n",
      "  exec(code_obj, self.user_global_ns, self.user_ns)\n",
      "/home/fouesneau/Work/projects/arxiv_display/venv/lib/python3.10/site-packages/IPython/core/interactiveshell.py:3460: LatexWarning: Found documentclass in tmp_2210.08510/paper.tex\n",
      "\n",
      "  exec(code_obj, self.user_global_ns, self.user_ns)\n",
      "/home/fouesneau/Work/projects/arxiv_display/venv/lib/python3.10/site-packages/arxiv_on_deck_2/latex.py:318: LatexWarning: Latex injecting: 'aux_tex/table3' from 'tmp_2210.08510/aux_tex/table3.tex'\n",
      "  warnings.warn(LatexWarning(f\"Latex injecting: '{ext}' from '{subsource}'\"))\n",
      "/home/fouesneau/Work/projects/arxiv_display/venv/lib/python3.10/site-packages/arxiv_on_deck_2/latex.py:318: LatexWarning: Latex injecting: 'aux_tex/table2' from 'tmp_2210.08510/aux_tex/table2.tex'\n",
      "  warnings.warn(LatexWarning(f\"Latex injecting: '{ext}' from '{subsource}'\"))\n",
      "/home/fouesneau/Work/projects/arxiv_display/venv/lib/python3.10/site-packages/arxiv_on_deck_2/latex.py:318: LatexWarning: Latex injecting: 'aux_tex/table_ages' from 'tmp_2210.08510/aux_tex/table_ages.tex'\n",
      "  warnings.warn(LatexWarning(f\"Latex injecting: '{ext}' from '{subsource}'\"))\n",
      "/home/fouesneau/Work/projects/arxiv_display/venv/lib/python3.10/site-packages/arxiv_on_deck_2/latex.py:318: LatexWarning: Latex injecting: 'aux_tex/table_hc_groups' from 'tmp_2210.08510/aux_tex/table_hc_groups.tex'\n",
      "  warnings.warn(LatexWarning(f\"Latex injecting: '{ext}' from '{subsource}'\"))\n",
      "/home/fouesneau/Work/projects/arxiv_display/venv/lib/python3.10/site-packages/arxiv_on_deck_2/latex.py:318: LatexWarning: Latex injecting: 'aux_tex/table_metallicities' from 'tmp_2210.08510/aux_tex/table_metallicities.tex'\n",
      "  warnings.warn(LatexWarning(f\"Latex injecting: '{ext}' from '{subsource}'\"))\n"
     ]
    },
    {
     "name": "stdout",
     "output_type": "stream",
     "text": [
      "plugin pybtex.database.input.suffixes for suffix .bbl not found\n",
      "Retrieving document from  https://arxiv.org/e-print/2210.08517\n",
      "extracting tarball to tmp_2210.08517... done.\n",
      "Retrieving document from  https://arxiv.org/e-print/2210.08996\n",
      "extracting tarball to tmp_2210.08996... done.\n",
      "list index out of range\n",
      "Retrieving document from  https://arxiv.org/e-print/2210.09930\n",
      "extracting tarball to tmp_2210.09930... done.\n",
      "Retrieving document from  https://arxiv.org/e-print/2210.10707\n",
      "extracting tarball to tmp_2210.10707... done.\n",
      "list index out of range\n",
      "Retrieving document from  https://arxiv.org/e-print/2210.11551\n",
      "extracting tarball to tmp_2210.11551... done.\n"
     ]
    },
    {
     "name": "stderr",
     "output_type": "stream",
     "text": [
      "/home/fouesneau/Work/projects/arxiv_display/venv/lib/python3.10/site-packages/IPython/core/interactiveshell.py:3460: LatexWarning: Multiple tex files.\n",
      "\n",
      "  exec(code_obj, self.user_global_ns, self.user_ns)\n",
      "/home/fouesneau/Work/projects/arxiv_display/venv/lib/python3.10/site-packages/IPython/core/interactiveshell.py:3460: LatexWarning: Found documentclass in tmp_2210.11551/mnras.tex\n",
      "\n",
      "  exec(code_obj, self.user_global_ns, self.user_ns)\n"
     ]
    },
    {
     "name": "stdout",
     "output_type": "stream",
     "text": [
      "plugin pybtex.database.input.suffixes for suffix .bbl not found\n",
      "Retrieving document from  https://arxiv.org/e-print/2210.11926\n",
      "extracting tarball to tmp_2210.11926... done.\n"
     ]
    },
    {
     "name": "stderr",
     "output_type": "stream",
     "text": [
      "/home/fouesneau/Work/projects/arxiv_display/venv/lib/python3.10/site-packages/arxiv_on_deck_2/latex.py:119: LatexWarning: attempting recovering figure tilted_ring\n",
      "  warnings.warn(LatexWarning(f'attempting recovering figure {image}'))\n",
      "/home/fouesneau/Work/projects/arxiv_display/venv/lib/python3.10/site-packages/arxiv_on_deck_2/latex.py:119: LatexWarning: attempting recovering figure J2310_split_12m+7m_cii_image_chan29-60_mom0\n",
      "  warnings.warn(LatexWarning(f'attempting recovering figure {image}'))\n",
      "/home/fouesneau/Work/projects/arxiv_display/venv/lib/python3.10/site-packages/arxiv_on_deck_2/latex.py:119: LatexWarning: attempting recovering figure J2310_split_12m+7m_cii_image_chan29-60_4sigma_mom1\n",
      "  warnings.warn(LatexWarning(f'attempting recovering figure {image}'))\n",
      "/home/fouesneau/Work/projects/arxiv_display/venv/lib/python3.10/site-packages/arxiv_on_deck_2/latex.py:119: LatexWarning: attempting recovering figure J2310_split_12m+7m_cii_image_chan29-60_mom0_2sigma_spectrum\n",
      "  warnings.warn(LatexWarning(f'attempting recovering figure {image}'))\n",
      "/home/fouesneau/Work/projects/arxiv_display/venv/lib/python3.10/site-packages/arxiv_on_deck_2/latex.py:119: LatexWarning: attempting recovering figure J2310_rb0_5_15_625MHz_co98_image_chan49-63_mom0\n",
      "  warnings.warn(LatexWarning(f'attempting recovering figure {image}'))\n",
      "/home/fouesneau/Work/projects/arxiv_display/venv/lib/python3.10/site-packages/arxiv_on_deck_2/latex.py:119: LatexWarning: attempting recovering figure J2310_rb0_5_15_625MHz_co98_image_chan49-63_4sigma_mom1\n",
      "  warnings.warn(LatexWarning(f'attempting recovering figure {image}'))\n",
      "/home/fouesneau/Work/projects/arxiv_display/venv/lib/python3.10/site-packages/arxiv_on_deck_2/latex.py:119: LatexWarning: attempting recovering figure J2310_br0_5_15_625MHz_co98_image_mom0_2sigma_spectrum\n",
      "  warnings.warn(LatexWarning(f'attempting recovering figure {image}'))\n",
      "/home/fouesneau/Work/projects/arxiv_display/venv/lib/python3.10/site-packages/arxiv_on_deck_2/latex.py:119: LatexWarning: attempting recovering figure J2310_rb2_allchannels_1sigma_oh+_image_mom0\n",
      "  warnings.warn(LatexWarning(f'attempting recovering figure {image}'))\n",
      "/home/fouesneau/Work/projects/arxiv_display/venv/lib/python3.10/site-packages/arxiv_on_deck_2/latex.py:119: LatexWarning: attempting recovering figure J2310_oh+_2sigma_3comp_spectrum\n",
      "  warnings.warn(LatexWarning(f'attempting recovering figure {image}'))\n",
      "/home/fouesneau/Work/projects/arxiv_display/venv/lib/python3.10/site-packages/arxiv_on_deck_2/latex.py:119: LatexWarning: attempting recovering figure sb_cii_model_fit_plot_final_mc\n",
      "  warnings.warn(LatexWarning(f'attempting recovering figure {image}'))\n",
      "/home/fouesneau/Work/projects/arxiv_display/venv/lib/python3.10/site-packages/arxiv_on_deck_2/latex.py:119: LatexWarning: attempting recovering figure sb_co98_model_fit_plot_final_mc_compare\n",
      "  warnings.warn(LatexWarning(f'attempting recovering figure {image}'))\n",
      "/home/fouesneau/Work/projects/arxiv_display/venv/lib/python3.10/site-packages/arxiv_on_deck_2/latex.py:119: LatexWarning: attempting recovering figure rcd\n",
      "  warnings.warn(LatexWarning(f'attempting recovering figure {image}'))\n",
      "/home/fouesneau/Work/projects/arxiv_display/venv/lib/python3.10/site-packages/arxiv_on_deck_2/latex.py:119: LatexWarning: attempting recovering figure rcd2\n",
      "  warnings.warn(LatexWarning(f'attempting recovering figure {image}'))\n",
      "/home/fouesneau/Work/projects/arxiv_display/venv/lib/python3.10/site-packages/arxiv_on_deck_2/latex.py:119: LatexWarning: attempting recovering figure J2310_withoutbh\n",
      "  warnings.warn(LatexWarning(f'attempting recovering figure {image}'))\n",
      "/home/fouesneau/Work/projects/arxiv_display/venv/lib/python3.10/site-packages/arxiv_on_deck_2/latex.py:119: LatexWarning: attempting recovering figure deficit\n",
      "  warnings.warn(LatexWarning(f'attempting recovering figure {image}'))\n",
      "/home/fouesneau/Work/projects/arxiv_display/venv/lib/python3.10/site-packages/arxiv_on_deck_2/latex.py:119: LatexWarning: attempting recovering figure plot_trend\n",
      "  warnings.warn(LatexWarning(f'attempting recovering figure {image}'))\n",
      "/home/fouesneau/Work/projects/arxiv_display/venv/lib/python3.10/site-packages/arxiv_on_deck_2/latex.py:119: LatexWarning: attempting recovering figure KS_plot\n",
      "  warnings.warn(LatexWarning(f'attempting recovering figure {image}'))\n",
      "/home/fouesneau/Work/projects/arxiv_display/venv/lib/python3.10/site-packages/arxiv_on_deck_2/latex.py:119: LatexWarning: attempting recovering figure plot_for_paper\n",
      "  warnings.warn(LatexWarning(f'attempting recovering figure {image}'))\n",
      "/home/fouesneau/Work/projects/arxiv_display/venv/lib/python3.10/site-packages/arxiv_on_deck_2/latex.py:119: LatexWarning: attempting recovering figure sb_262GHz_model_fit_plot_final_mc_compare\n",
      "  warnings.warn(LatexWarning(f'attempting recovering figure {image}'))\n",
      "/home/fouesneau/Work/projects/arxiv_display/venv/lib/python3.10/site-packages/arxiv_on_deck_2/latex.py:119: LatexWarning: attempting recovering figure sb_147GHz_model_fit_plot_final_mc_compare\n",
      "  warnings.warn(LatexWarning(f'attempting recovering figure {image}'))\n"
     ]
    },
    {
     "name": "stdout",
     "output_type": "stream",
     "text": [
      "list index out of range\n",
      "Retrieving document from  https://arxiv.org/e-print/2210.12412\n",
      "extracting tarball to tmp_2210.12412... done.\n"
     ]
    },
    {
     "name": "stderr",
     "output_type": "stream",
     "text": [
      "/home/fouesneau/Work/projects/arxiv_display/venv/lib/python3.10/site-packages/IPython/core/interactiveshell.py:3460: LatexWarning: Multiple tex files.\n",
      "\n",
      "  exec(code_obj, self.user_global_ns, self.user_ns)\n",
      "/home/fouesneau/Work/projects/arxiv_display/venv/lib/python3.10/site-packages/IPython/core/interactiveshell.py:3460: LatexWarning: Found documentclass in tmp_2210.12412/main.tex\n",
      "\n",
      "  exec(code_obj, self.user_global_ns, self.user_ns)\n"
     ]
    },
    {
     "name": "stdout",
     "output_type": "stream",
     "text": [
      "Retrieving document from  https://arxiv.org/e-print/2210.17434\n",
      "extracting tarball to tmp_2210.17434... done.\n",
      "Retrieving document from  https://arxiv.org/e-print/2211.00010\n",
      "extracting tarball to tmp_2211.00010... done.\n"
     ]
    },
    {
     "name": "stderr",
     "output_type": "stream",
     "text": [
      "/home/fouesneau/Work/projects/arxiv_display/venv/lib/python3.10/site-packages/IPython/core/interactiveshell.py:3460: LatexWarning: Multiple tex files.\n",
      "\n",
      "  exec(code_obj, self.user_global_ns, self.user_ns)\n",
      "/home/fouesneau/Work/projects/arxiv_display/venv/lib/python3.10/site-packages/IPython/core/interactiveshell.py:3460: LatexWarning: Found documentclass in tmp_2211.00010/MWM31Sats_gasContent.tex\n",
      "\n",
      "  exec(code_obj, self.user_global_ns, self.user_ns)\n",
      "/home/fouesneau/Work/projects/arxiv_display/venv/lib/python3.10/site-packages/arxiv_on_deck_2/latex.py:119: LatexWarning: attempting recovering figure t90_vs_t50_MWM31\n",
      "  warnings.warn(LatexWarning(f'attempting recovering figure {image}'))\n",
      "/home/fouesneau/Work/projects/arxiv_display/venv/lib/python3.10/site-packages/arxiv_on_deck_2/latex.py:119: LatexWarning: attempting recovering figure fquench_vs_mstar_compSAGAIIMatchings_limBySurfBright\n",
      "  warnings.warn(LatexWarning(f'attempting recovering figure {image}'))\n",
      "/home/fouesneau/Work/projects/arxiv_display/venv/lib/python3.10/site-packages/arxiv_on_deck_2/latex.py:119: LatexWarning: attempting recovering figure fquench_vs_mstar_main_SAGAII_incELVES\n",
      "  warnings.warn(LatexWarning(f'attempting recovering figure {image}'))\n",
      "/home/fouesneau/Work/projects/arxiv_display/venv/lib/python3.10/site-packages/arxiv_on_deck_2/latex.py:119: LatexWarning: attempting recovering figure fquench_vs_mstar_incScatter\n",
      "  warnings.warn(LatexWarning(f'attempting recovering figure {image}'))\n",
      "/home/fouesneau/Work/projects/arxiv_display/venv/lib/python3.10/site-packages/arxiv_on_deck_2/latex.py:119: LatexWarning: attempting recovering figure fquench_vs_mstar_compSAGAII_alt\n",
      "  warnings.warn(LatexWarning(f'attempting recovering figure {image}'))\n",
      "/home/fouesneau/Work/projects/arxiv_display/venv/lib/python3.10/site-packages/arxiv_on_deck_2/latex.py:119: LatexWarning: attempting recovering figure fquench_vs_mstar_perMHost_medCut\n",
      "  warnings.warn(LatexWarning(f'attempting recovering figure {image}'))\n",
      "/home/fouesneau/Work/projects/arxiv_display/venv/lib/python3.10/site-packages/arxiv_on_deck_2/latex.py:119: LatexWarning: attempting recovering figure fquench_vs_mstar_perInfall_Infall_medCut\n",
      "  warnings.warn(LatexWarning(f'attempting recovering figure {image}'))\n",
      "/home/fouesneau/Work/projects/arxiv_display/venv/lib/python3.10/site-packages/arxiv_on_deck_2/latex.py:119: LatexWarning: attempting recovering figure fquench_vs_mstar_perDist\n",
      "  warnings.warn(LatexWarning(f'attempting recovering figure {image}'))\n",
      "/home/fouesneau/Work/projects/arxiv_display/venv/lib/python3.10/site-packages/arxiv_on_deck_2/latex.py:119: LatexWarning: attempting recovering figure fquench_vs_mstar_iso-vs-LGHosts1000kpc\n",
      "  warnings.warn(LatexWarning(f'attempting recovering figure {image}'))\n",
      "/home/fouesneau/Work/projects/arxiv_display/venv/lib/python3.10/site-packages/arxiv_on_deck_2/latex.py:119: LatexWarning: attempting recovering figure mHI_vs_disthost\n",
      "  warnings.warn(LatexWarning(f'attempting recovering figure {image}'))\n",
      "/home/fouesneau/Work/projects/arxiv_display/venv/lib/python3.10/site-packages/arxiv_on_deck_2/latex.py:119: LatexWarning: attempting recovering figure phaseSpace2D_gasFracInBins_inRad\n",
      "  warnings.warn(LatexWarning(f'attempting recovering figure {image}'))\n",
      "/home/fouesneau/Work/projects/arxiv_display/venv/lib/python3.10/site-packages/arxiv_on_deck_2/latex.py:119: LatexWarning: attempting recovering figure phaseSpace3D_gasFracInBins_inRad\n",
      "  warnings.warn(LatexWarning(f'attempting recovering figure {image}'))\n",
      "/home/fouesneau/Work/projects/arxiv_display/venv/lib/python3.10/site-packages/arxiv_on_deck_2/latex.py:119: LatexWarning: attempting recovering figure phaseSpace3D_infallInBins_Infall\n",
      "  warnings.warn(LatexWarning(f'attempting recovering figure {image}'))\n",
      "/home/fouesneau/Work/projects/arxiv_display/venv/lib/python3.10/site-packages/arxiv_on_deck_2/latex.py:119: LatexWarning: attempting recovering figure gasfrac-inRad_vs_infalltime\n",
      "  warnings.warn(LatexWarning(f'attempting recovering figure {image}'))\n",
      "/home/fouesneau/Work/projects/arxiv_display/venv/lib/python3.10/site-packages/arxiv_on_deck_2/latex.py:119: LatexWarning: attempting recovering figure SFH_perMstar_perInfall_MWlikeHosts\n",
      "  warnings.warn(LatexWarning(f'attempting recovering figure {image}'))\n",
      "/home/fouesneau/Work/projects/arxiv_display/venv/lib/python3.10/site-packages/arxiv_on_deck_2/latex.py:119: LatexWarning: attempting recovering figure SFH_perMstar_perInfall_M31likeHosts\n",
      "  warnings.warn(LatexWarning(f'attempting recovering figure {image}'))\n",
      "/home/fouesneau/Work/projects/arxiv_display/venv/lib/python3.10/site-packages/arxiv_on_deck_2/latex.py:119: LatexWarning: attempting recovering figure stellarAssembly_vs_VMag_MWM31\n",
      "  warnings.warn(LatexWarning(f'attempting recovering figure {image}'))\n",
      "/home/fouesneau/Work/projects/arxiv_display/venv/lib/python3.10/site-packages/arxiv_on_deck_2/latex.py:119: LatexWarning: attempting recovering figure massEvo_afterInfall\n",
      "  warnings.warn(LatexWarning(f'attempting recovering figure {image}'))\n",
      "/home/fouesneau/Work/projects/arxiv_display/venv/lib/python3.10/site-packages/arxiv_on_deck_2/latex.py:119: LatexWarning: attempting recovering figure jellyfish_ID424295\n",
      "  warnings.warn(LatexWarning(f'attempting recovering figure {image}'))\n",
      "/home/fouesneau/Work/projects/arxiv_display/venv/lib/python3.10/site-packages/arxiv_on_deck_2/latex.py:119: LatexWarning: attempting recovering figure jellyfish_ID443056\n",
      "  warnings.warn(LatexWarning(f'attempting recovering figure {image}'))\n",
      "/home/fouesneau/Work/projects/arxiv_display/venv/lib/python3.10/site-packages/arxiv_on_deck_2/latex.py:119: LatexWarning: attempting recovering figure jellyfish_ID499706\n",
      "  warnings.warn(LatexWarning(f'attempting recovering figure {image}'))\n",
      "/home/fouesneau/Work/projects/arxiv_display/venv/lib/python3.10/site-packages/arxiv_on_deck_2/latex.py:119: LatexWarning: attempting recovering figure jellyfish_ID515298\n",
      "  warnings.warn(LatexWarning(f'attempting recovering figure {image}'))\n",
      "/home/fouesneau/Work/projects/arxiv_display/venv/lib/python3.10/site-packages/arxiv_on_deck_2/latex.py:119: LatexWarning: attempting recovering figure surfBright_vs_mag_SFact\n",
      "  warnings.warn(LatexWarning(f'attempting recovering figure {image}'))\n",
      "/home/fouesneau/Work/projects/arxiv_display/venv/lib/python3.10/site-packages/arxiv_on_deck_2/latex.py:119: LatexWarning: attempting recovering figure surfBright_vs_mag_SFact_SAGAlike\n",
      "  warnings.warn(LatexWarning(f'attempting recovering figure {image}'))\n",
      "/home/fouesneau/Work/projects/arxiv_display/venv/lib/python3.10/site-packages/arxiv_on_deck_2/latex.py:119: LatexWarning: attempting recovering figure SFH_perMstar_perInfall_in600kpc\n",
      "  warnings.warn(LatexWarning(f'attempting recovering figure {image}'))\n"
     ]
    },
    {
     "name": "stdout",
     "output_type": "stream",
     "text": [
      "Retrieving document from  https://arxiv.org/e-print/2211.00020\n",
      "extracting tarball to tmp_2211.00020... done.\n",
      "Retrieving document from  https://arxiv.org/e-print/2211.00036\n",
      "extracting tarball to tmp_2211.00036... done.\n"
     ]
    },
    {
     "name": "stderr",
     "output_type": "stream",
     "text": [
      "/home/fouesneau/Work/projects/arxiv_display/venv/lib/python3.10/site-packages/IPython/core/interactiveshell.py:3460: LatexWarning: Multiple tex files.\n",
      "\n",
      "  exec(code_obj, self.user_global_ns, self.user_ns)\n",
      "/home/fouesneau/Work/projects/arxiv_display/venv/lib/python3.10/site-packages/IPython/core/interactiveshell.py:3460: LatexWarning: Found documentclass in tmp_2211.00036/main.tex\n",
      "\n",
      "  exec(code_obj, self.user_global_ns, self.user_ns)\n",
      "/home/fouesneau/Work/projects/arxiv_display/venv/lib/python3.10/site-packages/arxiv_on_deck_2/latex.py:119: LatexWarning: attempting recovering figure Figures/scatter_h12_4rdVsLength_OnlyDiskStars_fits_z0_Lin005_5kpc02_RdFromDiego_Lin1R12_4R12_2\n",
      "  warnings.warn(LatexWarning(f'attempting recovering figure {image}'))\n"
     ]
    },
    {
     "name": "stdout",
     "output_type": "stream",
     "text": [
      "syntax error in line 1834: '}' expected\n",
      "Retrieving document from  https://arxiv.org/e-print/2211.00087\n",
      "extracting tarball to tmp_2211.00087... done.\n"
     ]
    },
    {
     "name": "stderr",
     "output_type": "stream",
     "text": [
      "/home/fouesneau/Work/projects/arxiv_display/venv/lib/python3.10/site-packages/IPython/core/interactiveshell.py:3460: LatexWarning: Multiple tex files.\n",
      "\n",
      "  exec(code_obj, self.user_global_ns, self.user_ns)\n",
      "/home/fouesneau/Work/projects/arxiv_display/venv/lib/python3.10/site-packages/IPython/core/interactiveshell.py:3460: LatexWarning: Found documentclass in tmp_2211.00087/emp.tex\n",
      "\n",
      "  exec(code_obj, self.user_global_ns, self.user_ns)\n",
      "/home/fouesneau/Work/projects/arxiv_display/venv/lib/python3.10/site-packages/arxiv_on_deck_2/latex.py:318: LatexWarning: Latex injecting: 'emp_app' from 'tmp_2211.00087/emp_app.tex'\n",
      "  warnings.warn(LatexWarning(f\"Latex injecting: '{ext}' from '{subsource}'\"))\n",
      "/home/fouesneau/Work/projects/arxiv_display/venv/lib/python3.10/site-packages/arxiv_on_deck_2/latex.py:318: LatexWarning: Latex injecting: 'emp_conclu' from 'tmp_2211.00087/emp_conclu.tex'\n",
      "  warnings.warn(LatexWarning(f\"Latex injecting: '{ext}' from '{subsource}'\"))\n",
      "/home/fouesneau/Work/projects/arxiv_display/venv/lib/python3.10/site-packages/arxiv_on_deck_2/latex.py:318: LatexWarning: Latex injecting: 'emp_body' from 'tmp_2211.00087/emp_body.tex'\n",
      "  warnings.warn(LatexWarning(f\"Latex injecting: '{ext}' from '{subsource}'\"))\n",
      "/home/fouesneau/Work/projects/arxiv_display/venv/lib/python3.10/site-packages/arxiv_on_deck_2/latex.py:318: LatexWarning: Latex injecting: 'emp_intro' from 'tmp_2211.00087/emp_intro.tex'\n",
      "  warnings.warn(LatexWarning(f\"Latex injecting: '{ext}' from '{subsource}'\"))\n",
      "/home/fouesneau/Work/projects/arxiv_display/venv/lib/python3.10/site-packages/arxiv_on_deck_2/latex.py:318: LatexWarning: Latex injecting: 'emp_abs' from 'tmp_2211.00087/emp_abs.tex'\n",
      "  warnings.warn(LatexWarning(f\"Latex injecting: '{ext}' from '{subsource}'\"))\n"
     ]
    },
    {
     "name": "stdout",
     "output_type": "stream",
     "text": [
      "Retrieving document from  https://arxiv.org/e-print/2211.00657\n",
      "extracting tarball to tmp_2211.00657... done.\n",
      "Retrieving document from  https://arxiv.org/e-print/2211.01474\n"
     ]
    },
    {
     "name": "stderr",
     "output_type": "stream",
     "text": [
      "/tmp/ipykernel_12931/4289671964.py:41: LatexWarning: 2211.01474 did not run properly\n",
      "not a gzip file\n",
      "  warnings.warn(latex.LatexWarning(f\"{paper_id:s} did not run properly\\n\" +\n"
     ]
    },
    {
     "name": "stdout",
     "output_type": "stream",
     "text": [
      "Retrieving document from  https://arxiv.org/e-print/2211.02502\n",
      "extracting tarball to tmp_2211.02502... done.\n"
     ]
    },
    {
     "name": "stderr",
     "output_type": "stream",
     "text": [
      "/home/fouesneau/Work/projects/arxiv_display/venv/lib/python3.10/site-packages/IPython/core/interactiveshell.py:3460: LatexWarning: Multiple tex files.\n",
      "\n",
      "  exec(code_obj, self.user_global_ns, self.user_ns)\n",
      "/home/fouesneau/Work/projects/arxiv_display/venv/lib/python3.10/site-packages/IPython/core/interactiveshell.py:3460: LatexWarning: Found documentclass in tmp_2211.02502/ms.tex\n",
      "\n",
      "  exec(code_obj, self.user_global_ns, self.user_ns)\n",
      "/home/fouesneau/Work/projects/arxiv_display/venv/lib/python3.10/site-packages/arxiv_on_deck_2/latex.py:119: LatexWarning: attempting recovering figure f11\n",
      "  warnings.warn(LatexWarning(f'attempting recovering figure {image}'))\n",
      "/home/fouesneau/Work/projects/arxiv_display/venv/lib/python3.10/site-packages/arxiv_on_deck_2/latex.py:119: LatexWarning: attempting recovering figure f12\n",
      "  warnings.warn(LatexWarning(f'attempting recovering figure {image}'))\n",
      "/home/fouesneau/Work/projects/arxiv_display/venv/lib/python3.10/site-packages/arxiv_on_deck_2/latex.py:119: LatexWarning: attempting recovering figure f25\n",
      "  warnings.warn(LatexWarning(f'attempting recovering figure {image}'))\n",
      "/home/fouesneau/Work/projects/arxiv_display/venv/lib/python3.10/site-packages/arxiv_on_deck_2/latex.py:119: LatexWarning: attempting recovering figure f27\n",
      "  warnings.warn(LatexWarning(f'attempting recovering figure {image}'))\n",
      "/home/fouesneau/Work/projects/arxiv_display/venv/lib/python3.10/site-packages/arxiv_on_deck_2/latex.py:119: LatexWarning: attempting recovering figure f38\n",
      "  warnings.warn(LatexWarning(f'attempting recovering figure {image}'))\n",
      "/home/fouesneau/Work/projects/arxiv_display/venv/lib/python3.10/site-packages/arxiv_on_deck_2/latex.py:119: LatexWarning: attempting recovering figure f39\n",
      "  warnings.warn(LatexWarning(f'attempting recovering figure {image}'))\n",
      "/home/fouesneau/Work/projects/arxiv_display/venv/lib/python3.10/site-packages/arxiv_on_deck_2/latex.py:119: LatexWarning: attempting recovering figure f1\n",
      "  warnings.warn(LatexWarning(f'attempting recovering figure {image}'))\n",
      "/home/fouesneau/Work/projects/arxiv_display/venv/lib/python3.10/site-packages/arxiv_on_deck_2/latex.py:119: LatexWarning: attempting recovering figure f2\n",
      "  warnings.warn(LatexWarning(f'attempting recovering figure {image}'))\n",
      "/home/fouesneau/Work/projects/arxiv_display/venv/lib/python3.10/site-packages/arxiv_on_deck_2/latex.py:119: LatexWarning: attempting recovering figure f3\n",
      "  warnings.warn(LatexWarning(f'attempting recovering figure {image}'))\n",
      "/home/fouesneau/Work/projects/arxiv_display/venv/lib/python3.10/site-packages/arxiv_on_deck_2/latex.py:119: LatexWarning: attempting recovering figure f4\n",
      "  warnings.warn(LatexWarning(f'attempting recovering figure {image}'))\n",
      "/home/fouesneau/Work/projects/arxiv_display/venv/lib/python3.10/site-packages/arxiv_on_deck_2/latex.py:119: LatexWarning: attempting recovering figure f5\n",
      "  warnings.warn(LatexWarning(f'attempting recovering figure {image}'))\n",
      "/home/fouesneau/Work/projects/arxiv_display/venv/lib/python3.10/site-packages/arxiv_on_deck_2/latex.py:119: LatexWarning: attempting recovering figure f6\n",
      "  warnings.warn(LatexWarning(f'attempting recovering figure {image}'))\n",
      "/home/fouesneau/Work/projects/arxiv_display/venv/lib/python3.10/site-packages/arxiv_on_deck_2/latex.py:119: LatexWarning: attempting recovering figure f7\n",
      "  warnings.warn(LatexWarning(f'attempting recovering figure {image}'))\n",
      "/home/fouesneau/Work/projects/arxiv_display/venv/lib/python3.10/site-packages/arxiv_on_deck_2/latex.py:119: LatexWarning: attempting recovering figure f8\n",
      "  warnings.warn(LatexWarning(f'attempting recovering figure {image}'))\n",
      "/home/fouesneau/Work/projects/arxiv_display/venv/lib/python3.10/site-packages/arxiv_on_deck_2/latex.py:119: LatexWarning: attempting recovering figure f9\n",
      "  warnings.warn(LatexWarning(f'attempting recovering figure {image}'))\n",
      "/home/fouesneau/Work/projects/arxiv_display/venv/lib/python3.10/site-packages/arxiv_on_deck_2/latex.py:119: LatexWarning: attempting recovering figure f10\n",
      "  warnings.warn(LatexWarning(f'attempting recovering figure {image}'))\n",
      "/home/fouesneau/Work/projects/arxiv_display/venv/lib/python3.10/site-packages/arxiv_on_deck_2/latex.py:119: LatexWarning: attempting recovering figure f13\n",
      "  warnings.warn(LatexWarning(f'attempting recovering figure {image}'))\n",
      "/home/fouesneau/Work/projects/arxiv_display/venv/lib/python3.10/site-packages/arxiv_on_deck_2/latex.py:119: LatexWarning: attempting recovering figure f14\n",
      "  warnings.warn(LatexWarning(f'attempting recovering figure {image}'))\n",
      "/home/fouesneau/Work/projects/arxiv_display/venv/lib/python3.10/site-packages/arxiv_on_deck_2/latex.py:119: LatexWarning: attempting recovering figure f15\n",
      "  warnings.warn(LatexWarning(f'attempting recovering figure {image}'))\n",
      "/home/fouesneau/Work/projects/arxiv_display/venv/lib/python3.10/site-packages/arxiv_on_deck_2/latex.py:119: LatexWarning: attempting recovering figure f16\n",
      "  warnings.warn(LatexWarning(f'attempting recovering figure {image}'))\n",
      "/home/fouesneau/Work/projects/arxiv_display/venv/lib/python3.10/site-packages/arxiv_on_deck_2/latex.py:119: LatexWarning: attempting recovering figure f17\n",
      "  warnings.warn(LatexWarning(f'attempting recovering figure {image}'))\n",
      "/home/fouesneau/Work/projects/arxiv_display/venv/lib/python3.10/site-packages/arxiv_on_deck_2/latex.py:119: LatexWarning: attempting recovering figure f18\n",
      "  warnings.warn(LatexWarning(f'attempting recovering figure {image}'))\n",
      "/home/fouesneau/Work/projects/arxiv_display/venv/lib/python3.10/site-packages/arxiv_on_deck_2/latex.py:119: LatexWarning: attempting recovering figure f19\n",
      "  warnings.warn(LatexWarning(f'attempting recovering figure {image}'))\n",
      "/home/fouesneau/Work/projects/arxiv_display/venv/lib/python3.10/site-packages/arxiv_on_deck_2/latex.py:119: LatexWarning: attempting recovering figure f20\n",
      "  warnings.warn(LatexWarning(f'attempting recovering figure {image}'))\n",
      "/home/fouesneau/Work/projects/arxiv_display/venv/lib/python3.10/site-packages/arxiv_on_deck_2/latex.py:119: LatexWarning: attempting recovering figure f21\n",
      "  warnings.warn(LatexWarning(f'attempting recovering figure {image}'))\n",
      "/home/fouesneau/Work/projects/arxiv_display/venv/lib/python3.10/site-packages/arxiv_on_deck_2/latex.py:119: LatexWarning: attempting recovering figure f22\n",
      "  warnings.warn(LatexWarning(f'attempting recovering figure {image}'))\n",
      "/home/fouesneau/Work/projects/arxiv_display/venv/lib/python3.10/site-packages/arxiv_on_deck_2/latex.py:119: LatexWarning: attempting recovering figure f23\n",
      "  warnings.warn(LatexWarning(f'attempting recovering figure {image}'))\n",
      "/home/fouesneau/Work/projects/arxiv_display/venv/lib/python3.10/site-packages/arxiv_on_deck_2/latex.py:119: LatexWarning: attempting recovering figure f24\n",
      "  warnings.warn(LatexWarning(f'attempting recovering figure {image}'))\n",
      "/home/fouesneau/Work/projects/arxiv_display/venv/lib/python3.10/site-packages/arxiv_on_deck_2/latex.py:119: LatexWarning: attempting recovering figure f28\n",
      "  warnings.warn(LatexWarning(f'attempting recovering figure {image}'))\n",
      "/home/fouesneau/Work/projects/arxiv_display/venv/lib/python3.10/site-packages/arxiv_on_deck_2/latex.py:119: LatexWarning: attempting recovering figure f29\n",
      "  warnings.warn(LatexWarning(f'attempting recovering figure {image}'))\n",
      "/home/fouesneau/Work/projects/arxiv_display/venv/lib/python3.10/site-packages/arxiv_on_deck_2/latex.py:119: LatexWarning: attempting recovering figure f30\n",
      "  warnings.warn(LatexWarning(f'attempting recovering figure {image}'))\n",
      "/home/fouesneau/Work/projects/arxiv_display/venv/lib/python3.10/site-packages/arxiv_on_deck_2/latex.py:119: LatexWarning: attempting recovering figure f31\n",
      "  warnings.warn(LatexWarning(f'attempting recovering figure {image}'))\n",
      "/home/fouesneau/Work/projects/arxiv_display/venv/lib/python3.10/site-packages/arxiv_on_deck_2/latex.py:119: LatexWarning: attempting recovering figure f32\n",
      "  warnings.warn(LatexWarning(f'attempting recovering figure {image}'))\n",
      "/home/fouesneau/Work/projects/arxiv_display/venv/lib/python3.10/site-packages/arxiv_on_deck_2/latex.py:119: LatexWarning: attempting recovering figure f33\n",
      "  warnings.warn(LatexWarning(f'attempting recovering figure {image}'))\n",
      "/home/fouesneau/Work/projects/arxiv_display/venv/lib/python3.10/site-packages/arxiv_on_deck_2/latex.py:119: LatexWarning: attempting recovering figure f34\n",
      "  warnings.warn(LatexWarning(f'attempting recovering figure {image}'))\n",
      "/home/fouesneau/Work/projects/arxiv_display/venv/lib/python3.10/site-packages/arxiv_on_deck_2/latex.py:119: LatexWarning: attempting recovering figure f35\n",
      "  warnings.warn(LatexWarning(f'attempting recovering figure {image}'))\n",
      "/home/fouesneau/Work/projects/arxiv_display/venv/lib/python3.10/site-packages/arxiv_on_deck_2/latex.py:119: LatexWarning: attempting recovering figure f36\n",
      "  warnings.warn(LatexWarning(f'attempting recovering figure {image}'))\n",
      "/home/fouesneau/Work/projects/arxiv_display/venv/lib/python3.10/site-packages/arxiv_on_deck_2/latex.py:119: LatexWarning: attempting recovering figure f37\n",
      "  warnings.warn(LatexWarning(f'attempting recovering figure {image}'))\n",
      "/home/fouesneau/Work/projects/arxiv_display/venv/lib/python3.10/site-packages/arxiv_on_deck_2/latex.py:119: LatexWarning: attempting recovering figure f40\n",
      "  warnings.warn(LatexWarning(f'attempting recovering figure {image}'))\n",
      "/home/fouesneau/Work/projects/arxiv_display/venv/lib/python3.10/site-packages/arxiv_on_deck_2/latex.py:119: LatexWarning: attempting recovering figure f41\n",
      "  warnings.warn(LatexWarning(f'attempting recovering figure {image}'))\n",
      "/home/fouesneau/Work/projects/arxiv_display/venv/lib/python3.10/site-packages/arxiv_on_deck_2/latex.py:119: LatexWarning: attempting recovering figure f42\n",
      "  warnings.warn(LatexWarning(f'attempting recovering figure {image}'))\n",
      "/home/fouesneau/Work/projects/arxiv_display/venv/lib/python3.10/site-packages/arxiv_on_deck_2/latex.py:119: LatexWarning: attempting recovering figure f43\n",
      "  warnings.warn(LatexWarning(f'attempting recovering figure {image}'))\n",
      "/home/fouesneau/Work/projects/arxiv_display/venv/lib/python3.10/site-packages/arxiv_on_deck_2/latex.py:119: LatexWarning: attempting recovering figure f44\n",
      "  warnings.warn(LatexWarning(f'attempting recovering figure {image}'))\n",
      "/home/fouesneau/Work/projects/arxiv_display/venv/lib/python3.10/site-packages/arxiv_on_deck_2/latex.py:119: LatexWarning: attempting recovering figure f45\n",
      "  warnings.warn(LatexWarning(f'attempting recovering figure {image}'))\n",
      "/home/fouesneau/Work/projects/arxiv_display/venv/lib/python3.10/site-packages/arxiv_on_deck_2/latex.py:119: LatexWarning: attempting recovering figure f46\n",
      "  warnings.warn(LatexWarning(f'attempting recovering figure {image}'))\n",
      "/home/fouesneau/Work/projects/arxiv_display/venv/lib/python3.10/site-packages/arxiv_on_deck_2/latex.py:119: LatexWarning: attempting recovering figure f47\n",
      "  warnings.warn(LatexWarning(f'attempting recovering figure {image}'))\n",
      "/home/fouesneau/Work/projects/arxiv_display/venv/lib/python3.10/site-packages/arxiv_on_deck_2/latex.py:119: LatexWarning: attempting recovering figure f48\n",
      "  warnings.warn(LatexWarning(f'attempting recovering figure {image}'))\n",
      "/home/fouesneau/Work/projects/arxiv_display/venv/lib/python3.10/site-packages/arxiv_on_deck_2/latex.py:119: LatexWarning: attempting recovering figure f49\n",
      "  warnings.warn(LatexWarning(f'attempting recovering figure {image}'))\n",
      "/home/fouesneau/Work/projects/arxiv_display/venv/lib/python3.10/site-packages/arxiv_on_deck_2/latex.py:119: LatexWarning: attempting recovering figure f50\n",
      "  warnings.warn(LatexWarning(f'attempting recovering figure {image}'))\n",
      "/home/fouesneau/Work/projects/arxiv_display/venv/lib/python3.10/site-packages/arxiv_on_deck_2/latex.py:119: LatexWarning: attempting recovering figure f51\n",
      "  warnings.warn(LatexWarning(f'attempting recovering figure {image}'))\n",
      "/home/fouesneau/Work/projects/arxiv_display/venv/lib/python3.10/site-packages/arxiv_on_deck_2/latex.py:119: LatexWarning: attempting recovering figure f52\n",
      "  warnings.warn(LatexWarning(f'attempting recovering figure {image}'))\n",
      "/home/fouesneau/Work/projects/arxiv_display/venv/lib/python3.10/site-packages/arxiv_on_deck_2/latex.py:119: LatexWarning: attempting recovering figure f53\n",
      "  warnings.warn(LatexWarning(f'attempting recovering figure {image}'))\n",
      "/home/fouesneau/Work/projects/arxiv_display/venv/lib/python3.10/site-packages/arxiv_on_deck_2/latex.py:119: LatexWarning: attempting recovering figure f54\n",
      "  warnings.warn(LatexWarning(f'attempting recovering figure {image}'))\n",
      "/home/fouesneau/Work/projects/arxiv_display/venv/lib/python3.10/site-packages/arxiv_on_deck_2/latex.py:119: LatexWarning: attempting recovering figure f55\n",
      "  warnings.warn(LatexWarning(f'attempting recovering figure {image}'))\n",
      "/home/fouesneau/Work/projects/arxiv_display/venv/lib/python3.10/site-packages/arxiv_on_deck_2/latex.py:119: LatexWarning: attempting recovering figure f56\n",
      "  warnings.warn(LatexWarning(f'attempting recovering figure {image}'))\n",
      "/home/fouesneau/Work/projects/arxiv_display/venv/lib/python3.10/site-packages/arxiv_on_deck_2/latex.py:119: LatexWarning: attempting recovering figure f57\n",
      "  warnings.warn(LatexWarning(f'attempting recovering figure {image}'))\n",
      "/home/fouesneau/Work/projects/arxiv_display/venv/lib/python3.10/site-packages/arxiv_on_deck_2/latex.py:119: LatexWarning: attempting recovering figure f58\n",
      "  warnings.warn(LatexWarning(f'attempting recovering figure {image}'))\n",
      "/home/fouesneau/Work/projects/arxiv_display/venv/lib/python3.10/site-packages/arxiv_on_deck_2/latex.py:119: LatexWarning: attempting recovering figure f59\n",
      "  warnings.warn(LatexWarning(f'attempting recovering figure {image}'))\n",
      "/home/fouesneau/Work/projects/arxiv_display/venv/lib/python3.10/site-packages/arxiv_on_deck_2/latex.py:119: LatexWarning: attempting recovering figure f60\n",
      "  warnings.warn(LatexWarning(f'attempting recovering figure {image}'))\n",
      "/home/fouesneau/Work/projects/arxiv_display/venv/lib/python3.10/site-packages/arxiv_on_deck_2/latex.py:119: LatexWarning: attempting recovering figure f61\n",
      "  warnings.warn(LatexWarning(f'attempting recovering figure {image}'))\n",
      "/home/fouesneau/Work/projects/arxiv_display/venv/lib/python3.10/site-packages/arxiv_on_deck_2/latex.py:119: LatexWarning: attempting recovering figure f62\n",
      "  warnings.warn(LatexWarning(f'attempting recovering figure {image}'))\n",
      "/home/fouesneau/Work/projects/arxiv_display/venv/lib/python3.10/site-packages/arxiv_on_deck_2/latex.py:119: LatexWarning: attempting recovering figure f63\n",
      "  warnings.warn(LatexWarning(f'attempting recovering figure {image}'))\n",
      "/home/fouesneau/Work/projects/arxiv_display/venv/lib/python3.10/site-packages/arxiv_on_deck_2/latex.py:119: LatexWarning: attempting recovering figure f64\n",
      "  warnings.warn(LatexWarning(f'attempting recovering figure {image}'))\n",
      "/home/fouesneau/Work/projects/arxiv_display/venv/lib/python3.10/site-packages/arxiv_on_deck_2/latex.py:119: LatexWarning: attempting recovering figure f65\n",
      "  warnings.warn(LatexWarning(f'attempting recovering figure {image}'))\n",
      "/home/fouesneau/Work/projects/arxiv_display/venv/lib/python3.10/site-packages/arxiv_on_deck_2/latex.py:119: LatexWarning: attempting recovering figure f66\n",
      "  warnings.warn(LatexWarning(f'attempting recovering figure {image}'))\n",
      "/home/fouesneau/Work/projects/arxiv_display/venv/lib/python3.10/site-packages/arxiv_on_deck_2/latex.py:119: LatexWarning: attempting recovering figure f67\n",
      "  warnings.warn(LatexWarning(f'attempting recovering figure {image}'))\n",
      "/home/fouesneau/Work/projects/arxiv_display/venv/lib/python3.10/site-packages/arxiv_on_deck_2/latex.py:119: LatexWarning: attempting recovering figure f68\n",
      "  warnings.warn(LatexWarning(f'attempting recovering figure {image}'))\n",
      "/home/fouesneau/Work/projects/arxiv_display/venv/lib/python3.10/site-packages/arxiv_on_deck_2/latex.py:119: LatexWarning: attempting recovering figure f69\n",
      "  warnings.warn(LatexWarning(f'attempting recovering figure {image}'))\n",
      "/home/fouesneau/Work/projects/arxiv_display/venv/lib/python3.10/site-packages/arxiv_on_deck_2/latex.py:119: LatexWarning: attempting recovering figure f70\n",
      "  warnings.warn(LatexWarning(f'attempting recovering figure {image}'))\n",
      "/home/fouesneau/Work/projects/arxiv_display/venv/lib/python3.10/site-packages/arxiv_on_deck_2/latex.py:119: LatexWarning: attempting recovering figure f71\n",
      "  warnings.warn(LatexWarning(f'attempting recovering figure {image}'))\n",
      "/home/fouesneau/Work/projects/arxiv_display/venv/lib/python3.10/site-packages/arxiv_on_deck_2/latex.py:119: LatexWarning: attempting recovering figure f72\n",
      "  warnings.warn(LatexWarning(f'attempting recovering figure {image}'))\n",
      "/home/fouesneau/Work/projects/arxiv_display/venv/lib/python3.10/site-packages/arxiv_on_deck_2/latex.py:119: LatexWarning: attempting recovering figure f73\n",
      "  warnings.warn(LatexWarning(f'attempting recovering figure {image}'))\n",
      "/home/fouesneau/Work/projects/arxiv_display/venv/lib/python3.10/site-packages/arxiv_on_deck_2/latex.py:119: LatexWarning: attempting recovering figure f74\n",
      "  warnings.warn(LatexWarning(f'attempting recovering figure {image}'))\n",
      "/home/fouesneau/Work/projects/arxiv_display/venv/lib/python3.10/site-packages/arxiv_on_deck_2/latex.py:119: LatexWarning: attempting recovering figure f75\n",
      "  warnings.warn(LatexWarning(f'attempting recovering figure {image}'))\n",
      "/home/fouesneau/Work/projects/arxiv_display/venv/lib/python3.10/site-packages/arxiv_on_deck_2/latex.py:119: LatexWarning: attempting recovering figure f76\n",
      "  warnings.warn(LatexWarning(f'attempting recovering figure {image}'))\n",
      "/home/fouesneau/Work/projects/arxiv_display/venv/lib/python3.10/site-packages/arxiv_on_deck_2/latex.py:119: LatexWarning: attempting recovering figure f77\n",
      "  warnings.warn(LatexWarning(f'attempting recovering figure {image}'))\n",
      "/home/fouesneau/Work/projects/arxiv_display/venv/lib/python3.10/site-packages/arxiv_on_deck_2/latex.py:119: LatexWarning: attempting recovering figure f78\n",
      "  warnings.warn(LatexWarning(f'attempting recovering figure {image}'))\n",
      "/home/fouesneau/Work/projects/arxiv_display/venv/lib/python3.10/site-packages/arxiv_on_deck_2/latex.py:119: LatexWarning: attempting recovering figure f79\n",
      "  warnings.warn(LatexWarning(f'attempting recovering figure {image}'))\n",
      "/home/fouesneau/Work/projects/arxiv_display/venv/lib/python3.10/site-packages/arxiv_on_deck_2/latex.py:119: LatexWarning: attempting recovering figure f80\n",
      "  warnings.warn(LatexWarning(f'attempting recovering figure {image}'))\n",
      "/home/fouesneau/Work/projects/arxiv_display/venv/lib/python3.10/site-packages/arxiv_on_deck_2/latex.py:119: LatexWarning: attempting recovering figure f81\n",
      "  warnings.warn(LatexWarning(f'attempting recovering figure {image}'))\n",
      "/home/fouesneau/Work/projects/arxiv_display/venv/lib/python3.10/site-packages/arxiv_on_deck_2/latex.py:119: LatexWarning: attempting recovering figure f82\n",
      "  warnings.warn(LatexWarning(f'attempting recovering figure {image}'))\n",
      "/home/fouesneau/Work/projects/arxiv_display/venv/lib/python3.10/site-packages/arxiv_on_deck_2/latex.py:119: LatexWarning: attempting recovering figure f83\n",
      "  warnings.warn(LatexWarning(f'attempting recovering figure {image}'))\n",
      "/home/fouesneau/Work/projects/arxiv_display/venv/lib/python3.10/site-packages/arxiv_on_deck_2/latex.py:119: LatexWarning: attempting recovering figure f84\n",
      "  warnings.warn(LatexWarning(f'attempting recovering figure {image}'))\n"
     ]
    },
    {
     "name": "stdout",
     "output_type": "stream",
     "text": [
      "list index out of range\n",
      "Retrieving document from  https://arxiv.org/e-print/2211.03641\n",
      "extracting tarball to tmp_2211.03641... done.\n"
     ]
    },
    {
     "name": "stderr",
     "output_type": "stream",
     "text": [
      "/home/fouesneau/Work/projects/arxiv_display/venv/lib/python3.10/site-packages/IPython/core/interactiveshell.py:3460: LatexWarning: Multiple tex files.\n",
      "\n",
      "  exec(code_obj, self.user_global_ns, self.user_ns)\n",
      "/home/fouesneau/Work/projects/arxiv_display/venv/lib/python3.10/site-packages/IPython/core/interactiveshell.py:3460: LatexWarning: Found documentclass in tmp_2211.03641/main.tex\n",
      "\n",
      "  exec(code_obj, self.user_global_ns, self.user_ns)\n",
      "/home/fouesneau/Work/projects/arxiv_display/venv/lib/python3.10/site-packages/arxiv_on_deck_2/latex.py:318: LatexWarning: Latex injecting: 'tables/clusters-table.tex' from 'tmp_2211.03641/tables/clusters-table.tex'\n",
      "  warnings.warn(LatexWarning(f\"Latex injecting: '{ext}' from '{subsource}'\"))\n",
      "/home/fouesneau/Work/projects/arxiv_display/venv/lib/python3.10/site-packages/arxiv_on_deck_2/latex.py:318: LatexWarning: Latex injecting: 'tables/hmac-banyan-cluster-tags.tex' from 'tmp_2211.03641/tables/hmac-banyan-cluster-tags.tex'\n",
      "  warnings.warn(LatexWarning(f\"Latex injecting: '{ext}' from '{subsource}'\"))\n",
      "/home/fouesneau/Work/projects/arxiv_display/venv/lib/python3.10/site-packages/arxiv_on_deck_2/latex.py:318: LatexWarning: Latex injecting: 'fig/model_plate_notation' from 'tmp_2211.03641/fig/model_plate_notation.tex'\n",
      "  warnings.warn(LatexWarning(f\"Latex injecting: '{ext}' from '{subsource}'\"))\n",
      "/home/fouesneau/Work/projects/arxiv_display/venv/lib/python3.10/site-packages/arxiv_on_deck_2/latex.py:318: LatexWarning: Latex injecting: 'tables/standards_used' from 'tmp_2211.03641/tables/standards_used.tex'\n",
      "  warnings.warn(LatexWarning(f\"Latex injecting: '{ext}' from '{subsource}'\"))\n",
      "/home/fouesneau/Work/projects/arxiv_display/venv/lib/python3.10/site-packages/arxiv_on_deck_2/latex.py:392: LatexWarning: Error parsing the document directly. Trying to recover.\n",
      "  warnings.warn(LatexWarning(f\"Error parsing the document directly. Trying to recover.\"))\n"
     ]
    },
    {
     "name": "stdout",
     "output_type": "stream",
     "text": [
      "✔ → 0:header\n",
      "  ↳ 20510:\\section{Introduction \\label{sec:intro}}\n",
      "✔ → 20510:\\section{Introduction \\label{sec:intro}}\n",
      "  ↳ 26996:\\section{The Gaia catalogue of UCD candidates}\n",
      "✔ → 26996:\\section{The Gaia catalogue of UCD candidates}\n",
      "  ↳ 40448:\\section{RP Spectra} \\label{sec:rpspectra}\n",
      "✔ → 40448:\\section{RP Spectra} \\label{sec:rpspectra}\n",
      "  ↳ 56193:\\section{Bayesian distances and the Luminosity Function}\\label{sec:LF}\n",
      "✔ → 56193:\\section{Bayesian distances and the Luminosity Function}\\label{sec:LF}\n",
      "  ↳ 79968:\\section{UCDs in binary systems}\n",
      "✔ → 79968:\\section{UCDs in binary systems}\n",
      "  ↳ 87335:\\section{UCDs in star forming regions, clusters and moving groups.}\n",
      "✔ → 87335:\\section{UCDs in star forming regions, clusters and moving groups.}\n",
      "  ↳ 103422:\\section{Variability of UCDs}\n",
      "✔ → 103422:\\section{Variability of UCDs}\n",
      "  ↳ 108453:\\section{Summary}\n",
      "✔ → 108453:\\section{Summary}\n",
      "  ↳ 111572:\\begin{appendix}\n",
      "✔ → 111572:\\begin{appendix}\n",
      "  ↳ 111591:\\section{Alternative colour-absolute magnitude diagrams}\n",
      "✔ → 111591:\\section{Alternative colour-absolute magnitude diagrams}\n",
      "  ↳ 113753:\\section{Details of the probabilistic model}\\label{appendix:ModelConsiderations}\n",
      "✔ → 113753:\\section{Details of the probabilistic model}\\label{appendix:ModelConsiderations}\n",
      "  ↳ 118461:\\section{Stellar associations complementary material}\\label{appendix:clusters}\n",
      "✔ → 118461:\\section{Stellar associations complementary material}\\label{appendix:clusters}\n",
      "  ↳ 126079:end\n"
     ]
    },
    {
     "name": "stderr",
     "output_type": "stream",
     "text": [
      "/home/fouesneau/Work/projects/arxiv_display/venv/lib/python3.10/site-packages/arxiv_on_deck_2/latex.py:119: LatexWarning: attempting recovering figure fig/RPs\n",
      "  warnings.warn(LatexWarning(f'attempting recovering figure {image}'))\n",
      "/home/fouesneau/Work/projects/arxiv_display/venv/lib/python3.10/site-packages/arxiv_on_deck_2/latex.py:119: LatexWarning: attempting recovering figure fig/gtcomparison\n",
      "  warnings.warn(LatexWarning(f'attempting recovering figure {image}'))\n",
      "/home/fouesneau/Work/projects/arxiv_display/venv/lib/python3.10/site-packages/arxiv_on_deck_2/latex.py:119: LatexWarning: attempting recovering figure fig/gtcomparisoncalib\n",
      "  warnings.warn(LatexWarning(f'attempting recovering figure {image}'))\n"
     ]
    },
    {
     "name": "stdout",
     "output_type": "stream",
     "text": [
      "plugin pybtex.database.input.suffixes for suffix .bbl not found\n",
      "Retrieving document from  https://arxiv.org/e-print/2211.04048\n",
      "extracting tarball to tmp_2211.04048... done.\n",
      "plugin pybtex.database.input.suffixes for suffix .bbl not found\n",
      "Retrieving document from  https://arxiv.org/e-print/2211.05022\n",
      "extracting tarball to tmp_2211.05022... done.\n",
      "list index out of range\n",
      "Retrieving document from  https://arxiv.org/e-print/2211.06194\n",
      "extracting tarball to tmp_2211.06194... done.\n"
     ]
    },
    {
     "name": "stderr",
     "output_type": "stream",
     "text": [
      "/home/fouesneau/Work/projects/arxiv_display/venv/lib/python3.10/site-packages/IPython/core/interactiveshell.py:3460: LatexWarning: Multiple tex files.\n",
      "\n",
      "  exec(code_obj, self.user_global_ns, self.user_ns)\n",
      "/home/fouesneau/Work/projects/arxiv_display/venv/lib/python3.10/site-packages/IPython/core/interactiveshell.py:3460: LatexWarning: Found documentclass in tmp_2211.06194/BEER_binaries_in_TESS.tex\n",
      "\n",
      "  exec(code_obj, self.user_global_ns, self.user_ns)\n"
     ]
    },
    {
     "name": "stdout",
     "output_type": "stream",
     "text": [
      "Retrieving document from  https://arxiv.org/e-print/2211.06205\n",
      "extracting tarball to tmp_2211.06205... done.\n"
     ]
    },
    {
     "name": "stderr",
     "output_type": "stream",
     "text": [
      "/home/fouesneau/Work/projects/arxiv_display/venv/lib/python3.10/site-packages/arxiv_on_deck_2/latex.py:119: LatexWarning: attempting recovering figure TOI1695I-dc20200528-Brgamma_plot\n",
      "  warnings.warn(LatexWarning(f'attempting recovering figure {image}'))\n",
      "/home/fouesneau/Work/projects/arxiv_display/venv/lib/python3.10/site-packages/arxiv_on_deck_2/latex.py:119: LatexWarning: attempting recovering figure MassRadiusPlot\n",
      "  warnings.warn(LatexWarning(f'attempting recovering figure {image}'))\n"
     ]
    },
    {
     "name": "stdout",
     "output_type": "stream",
     "text": [
      "Retrieving document from  https://arxiv.org/e-print/2211.07659\n",
      "extracting tarball to tmp_2211.07659... done.\n",
      "Retrieving document from  https://arxiv.org/e-print/2211.07667\n",
      "extracting tarball to tmp_2211.07667... done.\n"
     ]
    },
    {
     "name": "stderr",
     "output_type": "stream",
     "text": [
      "/home/fouesneau/Work/projects/arxiv_display/venv/lib/python3.10/site-packages/IPython/core/interactiveshell.py:3460: LatexWarning: Multiple tex files.\n",
      "\n",
      "  exec(code_obj, self.user_global_ns, self.user_ns)\n",
      "/home/fouesneau/Work/projects/arxiv_display/venv/lib/python3.10/site-packages/IPython/core/interactiveshell.py:3460: LatexWarning: Found documentclass in tmp_2211.07667/main_file.tex\n",
      "\n",
      "  exec(code_obj, self.user_global_ns, self.user_ns)\n",
      "/home/fouesneau/Work/projects/arxiv_display/venv/lib/python3.10/site-packages/arxiv_on_deck_2/latex.py:392: LatexWarning: Error parsing the document directly. Trying to recover.\n",
      "  warnings.warn(LatexWarning(f\"Error parsing the document directly. Trying to recover.\"))\n"
     ]
    },
    {
     "name": "stdout",
     "output_type": "stream",
     "text": [
      "✔ → 0:header\n",
      "  ↳ 3249:\\section{Introduction}\n",
      "✔ → 3249:\\section{Introduction}\n",
      "  ↳ 11052:\\section{Data}\\label{sec:dust_3D_data}\n",
      "✔ → 11052:\\section{Data}\\label{sec:dust_3D_data}\n",
      "  ↳ 14372:\\section{Methods}\\label{sec:dust_3D_methods}\n",
      "✔ → 14372:\\section{Methods}\\label{sec:dust_3D_methods}\n",
      "  ↳ 30357:\\section{Results and Discussion}\\label{sec:3D_dust_results}\n",
      "✘ → 30357:\\section{Results and Discussion}\\label{sec:3D_dust_results}\n",
      "  ↳ 41162:\\section{Applications of the 3D dust temperature map}\\label{sec:3D_dust_applications}\n",
      "✔ → 41162:\\section{Applications of the 3D dust temperature map}\\label{sec:3D_dust_applications}\n",
      "  ↳ 45516:\\section{Conclusion}\\label{sec:dust_3D_conclussion}\n",
      "✔ → 45516:\\section{Conclusion}\\label{sec:dust_3D_conclussion}\n",
      "  ↳ 48614:\\section{Optimizer}\n",
      "✔ → 48614:\\section{Optimizer}\n",
      "  ↳ 61772:end\n",
      "syntax error in line 525: entry key expected\n",
      "Retrieving document from  https://arxiv.org/e-print/2211.08294\n",
      "extracting tarball to tmp_2211.08294... done.\n",
      "Retrieving document from  https://arxiv.org/e-print/2211.08487\n",
      "extracting tarball to tmp_2211.08487... done.\n",
      "list index out of range\n",
      "Retrieving document from  https://arxiv.org/e-print/2211.08493\n",
      "extracting tarball to tmp_2211.08493... done.\n",
      "Retrieving document from  https://arxiv.org/e-print/2211.09840\n",
      "extracting tarball to tmp_2211.09840... done.\n"
     ]
    },
    {
     "name": "stderr",
     "output_type": "stream",
     "text": [
      "/home/fouesneau/Work/projects/arxiv_display/venv/lib/python3.10/site-packages/IPython/core/interactiveshell.py:3460: LatexWarning: Multiple tex files.\n",
      "\n",
      "  exec(code_obj, self.user_global_ns, self.user_ns)\n",
      "/home/fouesneau/Work/projects/arxiv_display/venv/lib/python3.10/site-packages/IPython/core/interactiveshell.py:3460: LatexWarning: Found documentclass in tmp_2211.09840/sample631.tex\n",
      "\n",
      "  exec(code_obj, self.user_global_ns, self.user_ns)\n",
      "/home/fouesneau/Work/projects/arxiv_display/venv/lib/python3.10/site-packages/arxiv_on_deck_2/latex.py:318: LatexWarning: Latex injecting: 'tables/retrieval_posteriors_red1_table.tex' from 'tmp_2211.09840/tables/retrieval_posteriors_red1_table.tex'\n",
      "  warnings.warn(LatexWarning(f\"Latex injecting: '{ext}' from '{subsource}'\"))\n",
      "/home/fouesneau/Work/projects/arxiv_display/venv/lib/python3.10/site-packages/arxiv_on_deck_2/latex.py:318: LatexWarning: Latex injecting: 'tables/retrieval_posteriors_red2_table.tex' from 'tmp_2211.09840/tables/retrieval_posteriors_red2_table.tex'\n",
      "  warnings.warn(LatexWarning(f\"Latex injecting: '{ext}' from '{subsource}'\"))\n",
      "/home/fouesneau/Work/projects/arxiv_display/venv/lib/python3.10/site-packages/arxiv_on_deck_2/latex.py:318: LatexWarning: Latex injecting: 'tables/sphere_spectrum_table.tex' from 'tmp_2211.09840/tables/sphere_spectrum_table.tex'\n",
      "  warnings.warn(LatexWarning(f\"Latex injecting: '{ext}' from '{subsource}'\"))\n",
      "/home/fouesneau/Work/projects/arxiv_display/venv/lib/python3.10/site-packages/arxiv_on_deck_2/latex.py:318: LatexWarning: Latex injecting: 'tables/orbitfit_table_hip55507.tex' from 'tmp_2211.09840/tables/orbitfit_table_hip55507.tex'\n",
      "  warnings.warn(LatexWarning(f\"Latex injecting: '{ext}' from '{subsource}'\"))\n",
      "/home/fouesneau/Work/projects/arxiv_display/venv/lib/python3.10/site-packages/arxiv_on_deck_2/latex.py:318: LatexWarning: Latex injecting: 'tables/astrometry_table_hip55507.tex' from 'tmp_2211.09840/tables/astrometry_table_hip55507.tex'\n",
      "  warnings.warn(LatexWarning(f\"Latex injecting: '{ext}' from '{subsource}'\"))\n",
      "/home/fouesneau/Work/projects/arxiv_display/venv/lib/python3.10/site-packages/arxiv_on_deck_2/latex.py:318: LatexWarning: Latex injecting: 'tables/properties_table_hip21152c.tex' from 'tmp_2211.09840/tables/properties_table_hip21152c.tex'\n",
      "  warnings.warn(LatexWarning(f\"Latex injecting: '{ext}' from '{subsource}'\"))\n",
      "/home/fouesneau/Work/projects/arxiv_display/venv/lib/python3.10/site-packages/arxiv_on_deck_2/latex.py:318: LatexWarning: Latex injecting: 'tables/retrieval_evidence_table.tex' from 'tmp_2211.09840/tables/retrieval_evidence_table.tex'\n",
      "  warnings.warn(LatexWarning(f\"Latex injecting: '{ext}' from '{subsource}'\"))\n",
      "/home/fouesneau/Work/projects/arxiv_display/venv/lib/python3.10/site-packages/arxiv_on_deck_2/latex.py:318: LatexWarning: Latex injecting: 'tables/retrieval_params_table.tex' from 'tmp_2211.09840/tables/retrieval_params_table.tex'\n",
      "  warnings.warn(LatexWarning(f\"Latex injecting: '{ext}' from '{subsource}'\"))\n",
      "/home/fouesneau/Work/projects/arxiv_display/venv/lib/python3.10/site-packages/arxiv_on_deck_2/latex.py:318: LatexWarning: Latex injecting: 'tables/model_comp_table.tex' from 'tmp_2211.09840/tables/model_comp_table.tex'\n",
      "  warnings.warn(LatexWarning(f\"Latex injecting: '{ext}' from '{subsource}'\"))\n",
      "/home/fouesneau/Work/projects/arxiv_display/venv/lib/python3.10/site-packages/arxiv_on_deck_2/latex.py:318: LatexWarning: Latex injecting: 'tables/orbitfit_table.tex' from 'tmp_2211.09840/tables/orbitfit_table.tex'\n",
      "  warnings.warn(LatexWarning(f\"Latex injecting: '{ext}' from '{subsource}'\"))\n",
      "/home/fouesneau/Work/projects/arxiv_display/venv/lib/python3.10/site-packages/arxiv_on_deck_2/latex.py:318: LatexWarning: Latex injecting: 'tables/charis_spectrum_table.tex' from 'tmp_2211.09840/tables/charis_spectrum_table.tex'\n",
      "  warnings.warn(LatexWarning(f\"Latex injecting: '{ext}' from '{subsource}'\"))\n",
      "/home/fouesneau/Work/projects/arxiv_display/venv/lib/python3.10/site-packages/arxiv_on_deck_2/latex.py:318: LatexWarning: Latex injecting: 'tables/astrometry_table.tex' from 'tmp_2211.09840/tables/astrometry_table.tex'\n",
      "  warnings.warn(LatexWarning(f\"Latex injecting: '{ext}' from '{subsource}'\"))\n",
      "/home/fouesneau/Work/projects/arxiv_display/venv/lib/python3.10/site-packages/arxiv_on_deck_2/latex.py:318: LatexWarning: Latex injecting: 'tables/properties_table.tex' from 'tmp_2211.09840/tables/properties_table.tex'\n",
      "  warnings.warn(LatexWarning(f\"Latex injecting: '{ext}' from '{subsource}'\"))\n"
     ]
    },
    {
     "name": "stdout",
     "output_type": "stream",
     "text": [
      "Retrieving document from  https://arxiv.org/e-print/2211.11767\n",
      "extracting tarball to tmp_2211.11767... done.\n",
      "list index out of range\n",
      "Retrieving document from  https://arxiv.org/e-print/2211.12613\n",
      "extracting tarball to tmp_2211.12613... done.\n",
      "plugin pybtex.database.input.suffixes for suffix .bbl not found\n",
      "Retrieving document from  https://arxiv.org/e-print/2211.13146\n",
      "extracting tarball to tmp_2211.13146... done.\n",
      "repeated bibliograhpy entry: 2014_springer\n",
      "Retrieving document from  https://arxiv.org/e-print/2211.13426\n",
      "extracting tarball to tmp_2211.13426... done.\n",
      "list index out of range\n",
      "Retrieving document from  https://arxiv.org/e-print/2211.13811\n",
      "extracting tarball to tmp_2211.13811... done.\n",
      "repeated bibliograhpy entry: 2005ApJ...626..343B\n",
      "Retrieving document from  https://arxiv.org/e-print/2211.14132\n",
      "extracting tarball to tmp_2211.14132... done.\n"
     ]
    },
    {
     "name": "stderr",
     "output_type": "stream",
     "text": [
      "/home/fouesneau/Work/projects/arxiv_display/venv/lib/python3.10/site-packages/IPython/core/interactiveshell.py:3460: LatexWarning: Multiple tex files.\n",
      "\n",
      "  exec(code_obj, self.user_global_ns, self.user_ns)\n",
      "/home/fouesneau/Work/projects/arxiv_display/venv/lib/python3.10/site-packages/IPython/core/interactiveshell.py:3460: LatexWarning: Found documentclass in tmp_2211.14132/paper.tex\n",
      "\n",
      "  exec(code_obj, self.user_global_ns, self.user_ns)\n",
      "/home/fouesneau/Work/projects/arxiv_display/venv/lib/python3.10/site-packages/arxiv_on_deck_2/latex.py:318: LatexWarning: Latex injecting: 'tables/super_solar_mgfe' from 'tmp_2211.14132/tables/super_solar_mgfe.tex'\n",
      "  warnings.warn(LatexWarning(f\"Latex injecting: '{ext}' from '{subsource}'\"))\n",
      "/home/fouesneau/Work/projects/arxiv_display/venv/lib/python3.10/site-packages/arxiv_on_deck_2/latex.py:318: LatexWarning: Latex injecting: 'tables/super_solar_li_corr' from 'tmp_2211.14132/tables/super_solar_li_corr.tex'\n",
      "  warnings.warn(LatexWarning(f\"Latex injecting: '{ext}' from '{subsource}'\"))\n",
      "/home/fouesneau/Work/projects/arxiv_display/venv/lib/python3.10/site-packages/arxiv_on_deck_2/latex.py:318: LatexWarning: Latex injecting: 'tables/mmr_general' from 'tmp_2211.14132/tables/mmr_general.tex'\n",
      "  warnings.warn(LatexWarning(f\"Latex injecting: '{ext}' from '{subsource}'\"))\n"
     ]
    },
    {
     "name": "stdout",
     "output_type": "stream",
     "text": [
      "plugin pybtex.database.input.suffixes for suffix .bbl not found\n",
      "Retrieving document from  https://arxiv.org/e-print/2211.14322\n",
      "extracting tarball to tmp_2211.14322... done.\n"
     ]
    },
    {
     "name": "stderr",
     "output_type": "stream",
     "text": [
      "/home/fouesneau/Work/projects/arxiv_display/venv/lib/python3.10/site-packages/arxiv_on_deck_2/latex.py:392: LatexWarning: Error parsing the document directly. Trying to recover.\n",
      "  warnings.warn(LatexWarning(f\"Error parsing the document directly. Trying to recover.\"))\n"
     ]
    },
    {
     "name": "stdout",
     "output_type": "stream",
     "text": [
      "✔ → 0:header\n",
      "  ↳ 4899:\\section{Introduction}\n",
      "✔ → 4899:\\section{Introduction}\n",
      "  ↳ 13466:\\section{Targets}\\label{sec:targets}\n",
      "✔ → 13466:\\section{Targets}\\label{sec:targets}\n",
      "  ↳ 26913:\\section{Observations and data reduction}\\label{sec:observations}\n",
      "✔ → 26913:\\section{Observations and data reduction}\\label{sec:observations}\n",
      "  ↳ 36899:\\section{Scattered light polarisation in multiples}\\label{sec:two_light_sources}\n",
      "✔ → 36899:\\section{Scattered light polarisation in multiples}\\label{sec:two_light_sources}\n",
      "  ↳ 42857:\\section{Results}\\label{sec:results}\n",
      "✔ → 42857:\\section{Results}\\label{sec:results}\n",
      "  ↳ 68107:\\section{Discussion}\\label{sec:discussion}\n",
      "✔ → 68107:\\section{Discussion}\\label{sec:discussion}\n",
      "  ↳ 97698:\\section{Conclusions}\\label{sec:conclusions}\n",
      "✔ → 97698:\\section{Conclusions}\\label{sec:conclusions}\n",
      "  ↳ 103957:\\section{Software}\n",
      "✔ → 103957:\\section{Software}\n",
      "  ↳ 105461:\\section{{$Q_\\phi$ / $U_\\phi$ analysis in binary systems}}\\label{appendix:QUphi}\n",
      "✔ → 105461:\\section{{$Q_\\phi$ / $U_\\phi$ analysis in binary systems}}\\label{appendix:QUphi}\n",
      "  ↳ 110878:\\section{Subtracting the stellar polarisation in binary systems}\\label{appendix:star_pol}\n",
      "✔ → 110878:\\section{Subtracting the stellar polarisation in binary systems}\\label{appendix:star_pol}\n",
      "  ↳ 117946:\\section{{Uncorrected and de-noised image of SR~24}}\\label{appendix:SR24_0}\n",
      "✔ → 117946:\\section{{Uncorrected and de-noised image of SR~24}}\\label{appendix:SR24_0}\n",
      "  ↳ 120933:\\section{Radiative Transfer Model for SR~24S}\\label{appendix:SR24S_RT}\n",
      "✔ → 120933:\\section{Radiative Transfer Model for SR~24S}\\label{appendix:SR24S_RT}\n",
      "  ↳ 122735:end\n",
      "Retrieving document from  https://arxiv.org/e-print/2211.14330\n",
      "extracting tarball to tmp_2211.14330... done.\n",
      "Retrieving document from  https://arxiv.org/e-print/2211.14543\n",
      "extracting tarball to tmp_2211.14543... done.\n",
      "Retrieving document from  https://arxiv.org/e-print/2211.15224\n",
      "extracting tarball to tmp_2211.15224... done.\n"
     ]
    },
    {
     "name": "stderr",
     "output_type": "stream",
     "text": [
      "/home/fouesneau/Work/projects/arxiv_display/venv/lib/python3.10/site-packages/arxiv_on_deck_2/latex.py:392: LatexWarning: Error parsing the document directly. Trying to recover.\n",
      "  warnings.warn(LatexWarning(f\"Error parsing the document directly. Trying to recover.\"))\n"
     ]
    },
    {
     "name": "stdout",
     "output_type": "stream",
     "text": [
      "✔ → 0:header\n",
      "  ↳ 3939:\\section{Introduction}\n",
      "✔ → 3939:\\section{Introduction}\n",
      "  ↳ 10922:\\section{Pristine Inner Galaxy Survey (PIGS)} \\label{sect:pigs}\n",
      "✘ → 10922:\\section{Pristine Inner Galaxy Survey (PIGS)} \\label{sect:pigs}\n",
      "  ↳ 21322:\\section{Fit and measure DIBs in stacked spectra} \\label{sect:fit-dib}\n",
      "✔ → 21322:\\section{Fit and measure DIBs in stacked spectra} \\label{sect:fit-dib}\n",
      "  ↳ 31369:\\section{Result} \\label{sect:result}\n",
      "✔ → 31369:\\section{Result} \\label{sect:result}\n",
      "  ↳ 47425:\\section{Discussion} \\label{sect:discuss}\n",
      "✔ → 47425:\\section{Discussion} \\label{sect:discuss}\n",
      "  ↳ 54350:\\section{Conclusions} \\label{sect:conclusion}\n",
      "✔ → 54350:\\section{Conclusions} \\label{sect:conclusion}\n",
      "  ↳ 57753:\\section{DIB fitting in stacked ISM spectra} \\label{appsec:fit-stack}\n",
      "✔ → 57753:\\section{DIB fitting in stacked ISM spectra} \\label{appsec:fit-stack}\n",
      "  ↳ 58529:end\n",
      "list index out of range\n",
      "Retrieving document from  https://arxiv.org/e-print/2211.15288\n",
      "extracting tarball to tmp_2211.15288... done.\n",
      "undefined string in line 3528: March\n",
      "Retrieving document from  https://arxiv.org/e-print/2211.15434\n",
      "extracting tarball to tmp_2211.15434... done.\n",
      "list index out of range\n",
      "Retrieving document from  https://arxiv.org/e-print/2211.15576\n",
      "extracting tarball to tmp_2211.15576... done.\n",
      "plugin pybtex.database.input.suffixes for suffix .bbl not found\n",
      "Retrieving document from  https://arxiv.org/e-print/2211.15698\n",
      "extracting tarball to tmp_2211.15698... done.\n",
      "list index out of range\n",
      "Retrieving document from  https://arxiv.org/e-print/2211.15816\n",
      "extracting tarball to tmp_2211.15816... done.\n"
     ]
    },
    {
     "name": "stderr",
     "output_type": "stream",
     "text": [
      "/home/fouesneau/Work/projects/arxiv_display/venv/lib/python3.10/site-packages/arxiv_on_deck_2/latex.py:392: LatexWarning: Error parsing the document directly. Trying to recover.\n",
      "  warnings.warn(LatexWarning(f\"Error parsing the document directly. Trying to recover.\"))\n"
     ]
    },
    {
     "name": "stdout",
     "output_type": "stream",
     "text": [
      "✔ → 0:header\n",
      "  ↳ 5712:\\section{Introduction}\n",
      "✔ → 5712:\\section{Introduction}\n",
      "  ↳ 13385:\\section{Observations and Data Processing}\\label{sec:sample}\n",
      "✔ → 13385:\\section{Observations and Data Processing}\\label{sec:sample}\n",
      "  ↳ 19291:\\section{Absorption line catalog}\\label{sec:method}\n",
      "✔ → 19291:\\section{Absorption line catalog}\\label{sec:method}\n",
      "  ↳ 59384:\\section{Sample Properties}\\label{sec:absorber_properties}\n",
      "✔ → 59384:\\section{Sample Properties}\\label{sec:absorber_properties}\n",
      "  ↳ 72593:\\section{Completeness And False-Positive Rate}\\label{sec:completeness}\n",
      "✘ → 72593:\\section{Completeness And False-Positive Rate}\\label{sec:completeness}\n",
      "  ↳ 94920:\\section{Description of Released Products}\\label{sec:catalog_desc}\n",
      "✘ → 94920:\\section{Description of Released Products}\\label{sec:catalog_desc}\n",
      "  ↳ 105580:\\section{Summary}\\label{sec:summary}\n",
      "✔ → 105580:\\section{Summary}\\label{sec:summary}\n",
      "  ↳ 112143:\\section{Velocity shifting}\\label{appendix:velshift}\n",
      "✔ → 112143:\\section{Velocity shifting}\\label{appendix:velshift}\n",
      "  ↳ 116337:\\section{Accompanying Data Tables and Figures}\n",
      "✘ → 116337:\\section{Accompanying Data Tables and Figures}\n",
      "  ↳ 129505:end\n",
      "list index out of range\n",
      "Retrieving document from  https://arxiv.org/e-print/2211.16123\n",
      "extracting tarball to tmp_2211.16123... done.\n",
      "plugin pybtex.database.input.suffixes for suffix .bbl not found\n",
      "Retrieving document from  https://arxiv.org/e-print/2211.16510\n",
      "extracting tarball to tmp_2211.16510... done.\n",
      "list index out of range\n",
      "Retrieving document from  https://arxiv.org/e-print/2212.00032\n",
      "extracting tarball to tmp_2212.00032... done.\n",
      "Retrieving document from  https://arxiv.org/e-print/2212.00806\n",
      "extracting tarball to tmp_2212.00806... done.\n",
      "Retrieving document from  https://arxiv.org/e-print/2212.00811\n"
     ]
    },
    {
     "name": "stderr",
     "output_type": "stream",
     "text": [
      "/home/fouesneau/Work/projects/arxiv_display/venv/lib/python3.10/site-packages/IPython/core/interactiveshell.py:3460: LatexWarning: Multiple tex files.\n",
      "\n",
      "  exec(code_obj, self.user_global_ns, self.user_ns)\n",
      "/home/fouesneau/Work/projects/arxiv_display/venv/lib/python3.10/site-packages/IPython/core/interactiveshell.py:3460: LatexWarning: Found documentclass in tmp_2212.00806/aassymbols.tex\n",
      "\n",
      "  exec(code_obj, self.user_global_ns, self.user_ns)\n"
     ]
    },
    {
     "name": "stdout",
     "output_type": "stream",
     "text": [
      "extracting tarball to tmp_2212.00811... done.\n"
     ]
    }
   ],
   "source": [
    "documents = []\n",
    "failed = []\n",
    "for paper in tqdm(candidates[:-1]):\n",
    "    paper_id = paper['identifier'].lower().replace('arxiv:', '')\n",
    "    \n",
    "    folder = f'tmp_{paper_id}'\n",
    "\n",
    "    try:\n",
    "        if not os.path.isdir(folder):\n",
    "            folder = retrieve_document_source(f\"{paper_id}\", f'tmp_{paper_id}')\n",
    "        \n",
    "        try:\n",
    "            doc = latex.LatexDocument(folder, validation=validation)    \n",
    "        except AffiliationError as affilerror:\n",
    "            msg = f\"ArXiv:{paper_id:s} is not an MPIA paper... \" + str(affilerror)\n",
    "            failed.append((paper, \"affiliation error: \" + str(affilerror) ))\n",
    "            continue\n",
    "        \n",
    "        # Hack because sometimes author parsing does not work well\n",
    "        if (len(doc.authors) != len(paper['authors'])):\n",
    "            doc._authors = paper['authors']\n",
    "        if (doc.abstract) in (None, ''):\n",
    "            doc._abstract = paper['abstract']\n",
    "            \n",
    "        doc.comment = (get_markdown_badge(paper_id) + \n",
    "                       \"<mark>Appeared on: \" + paper['date'] + \"</mark> - \" +\n",
    "                       \"_\" + paper['comments'] + \"_\")\n",
    "        doc.highlight_authors_in_list(hl_list)\n",
    "\n",
    "        full_md = doc.generate_markdown_text()\n",
    "        \n",
    "        # replace citations\n",
    "        try:\n",
    "            bibdata = latex_bib.LatexBib.from_doc(doc)\n",
    "            full_md = latex_bib.replace_citations(full_md, bibdata)\n",
    "        except Exception as e:\n",
    "            print(e)\n",
    "        \n",
    "        documents.append((paper_id, full_md))\n",
    "    except Exception as e:\n",
    "        warnings.warn(latex.LatexWarning(f\"{paper_id:s} did not run properly\\n\" +\n",
    "                                         str(e)\n",
    "                                        ))\n",
    "        failed.append((paper, \"latex error \" + str(e)))"
   ]
  },
  {
   "cell_type": "markdown",
   "id": "2505a25c",
   "metadata": {
    "papermill": {
     "duration": 0.007032,
     "end_time": "2023-03-07T16:15:15.028057",
     "exception": false,
     "start_time": "2023-03-07T16:15:15.021025",
     "status": "completed"
    },
    "tags": []
   },
   "source": [
    "### Export the logs\n",
    "\n",
    "Throughout, we also keep track of the logs per paper. see `logs-{today date}.md` "
   ]
  },
  {
   "cell_type": "code",
   "execution_count": 6,
   "id": "d733828a",
   "metadata": {
    "execution": {
     "iopub.execute_input": "2023-03-07T16:15:15.041729Z",
     "iopub.status.busy": "2023-03-07T16:15:15.041082Z",
     "iopub.status.idle": "2023-03-07T16:15:15.073248Z",
     "shell.execute_reply": "2023-03-07T16:15:15.072554Z"
    },
    "papermill": {
     "duration": 0.040616,
     "end_time": "2023-03-07T16:15:15.074674",
     "exception": false,
     "start_time": "2023-03-07T16:15:15.034058",
     "status": "completed"
    },
    "scrolled": false,
    "tags": []
   },
   "outputs": [
    {
     "data": {
      "text/markdown": [
       "## Successful papers"
      ],
      "text/plain": [
       "<IPython.core.display.Markdown object>"
      ]
     },
     "metadata": {},
     "output_type": "display_data"
    },
    {
     "data": {
      "text/markdown": [
       "\n",
       "|||\n",
       "|---:|:---|\n",
       "| [![arXiv](https://img.shields.io/badge/arXiv-arXiv:2303.02816-b31b1b.svg)](https://arxiv.org/abs/arXiv:2303.02816) | **Examining the Decline in the C IV Content of the Universe over 4.3 < z <  6.3 using the E-XQR-30 Sample**  |\n",
       "|| <mark>Rebecca L. Davies</mark>, et al. -- incl., <mark>Sarah E. I. Bosman</mark>, <mark>Romain A. Meyer</mark>, <mark>Frederick B. Davies</mark> |\n",
       "|*Appeared on*| *2023-03-07*|\n",
       "|*Comments*| *20 pages, 8 figures, 4 tables. Published in MNRAS*|\n",
       "|**Abstract**| Intervening CIV absorbers are key tracers of metal-enriched gas in galaxy halos over cosmic time. Previous studies suggest that the CIV cosmic mass density ($\\Omega_{\\rm CIV}$) decreases slowly over 1.5 $\\lesssim z\\lesssim$ 5 before declining rapidly at $z\\gtrsim$ 5, but the cause of this downturn is poorly understood. We characterize the $\\Omega_{\\rm CIV}$ evolution over 4.3 $\\lesssim z\\lesssim$ 6.3 using 260 absorbers found in 42 XSHOOTER spectra of $z\\sim$ 6 quasars, of which 30 come from the ESO Large Program XQR-30. The large sample enables us to robustly constrain the rate and timing of the downturn. We find that $\\Omega_{\\rm CIV}$ decreases by a factor of 4.8 $\\pm$ 2.0 over the ~300 Myr interval between $z\\sim$ 4.7 and $z\\sim$ 5.8. The slope of the column density (log N) distribution function does not change, suggesting that CIV absorption is suppressed approximately uniformly across 13.2 $\\leq$ log N/cm$^{-2}$ < 15.0. Assuming that the carbon content of galaxy halos evolves as the integral of the cosmic star formation rate density (with some delay due to stellar lifetimes and outflow travel times), we show that chemical evolution alone could plausibly explain the fast decline in $\\Omega_{\\rm CIV}$ over 4.3 $\\lesssim z\\lesssim$ 6.3. However, the CIV/CII ratio decreases at the highest redshifts, so the accelerated decline in $\\Omega_{\\rm CIV}$ at $z\\gtrsim$ 5 may be more naturally explained by rapid changes in the gas ionization state driven by evolution of the UV background towards the end of hydrogen reionization. |"
      ],
      "text/plain": [
       "[arXiv:2303.02816] Examining the Decline in the C IV Content of the Universe over 4.3 < z <  6.3 using the E-XQR-30 Sample\n",
       "\t<mark>Rebecca L. Davies</mark>, et al. -- incl., <mark>Sarah E. I. Bosman</mark>, <mark>Romain A. Meyer</mark>, <mark>Frederick B. Davies</mark>"
      ]
     },
     "metadata": {},
     "output_type": "display_data"
    },
    {
     "data": {
      "text/markdown": [
       "## Failed papers"
      ],
      "text/plain": [
       "<IPython.core.display.Markdown object>"
      ]
     },
     "metadata": {},
     "output_type": "display_data"
    },
    {
     "data": {
      "text/markdown": [
       "\n",
       "|||\n",
       "|---:|:---|\n",
       "| [![arXiv](https://img.shields.io/badge/arXiv-arXiv:2303.02177-b31b1b.svg)](https://arxiv.org/abs/arXiv:2303.02177) | **Data Combination: Interferometry and Single-dish Imaging in Radio  Astronomy**  |\n",
       "|| Adele Plunkett, et al. -- incl., <mark>Lydia Moser-Fischer</mark> |\n",
       "|*Appeared on*| *2023-03-07*|\n",
       "|*Comments*| *29 pages, 20 figures. Accepted for publication in PASP. Code repository available at: github.com/teuben/DataComb*|\n",
       "|**Abstract**| Modern interferometers routinely provide radio-astronomical images down to subarcsecond resolution. However, interferometers filter out spatial scales larger than those sampled by the shortest baselines, which affects the measurement of both spatial and spectral features. Complementary single-dish data are vital for recovering the true flux distribution of spatially resolved astronomical sources with such extended emission. In this work, we provide an overview of the prominent available methods to combine single-dish and interferometric observations. We test each of these methods in the framework of the CASA data analysis software package on both synthetic continuum and observed spectral data sets. We develop a set of new assessment tools that are generally applicable to all radio-astronomical cases of data combination. Applying these new assessment diagnostics, we evaluate the methods' performance and demonstrate the significant improvement of the combined results in comparison to purely interferometric reductions. We provide combination and assessment scripts as add-on material. Our results highlight the advantage of using data combination to ensure high-quality science images of spatially resolved objects. |\n",
       "|<p style=\"color:green\"> **ERROR** </p>| <p style=\"color:green\">affiliation error: mpia.affiliation_verifications: 'Heidelberg' keyword not found.</p> |"
      ],
      "text/plain": [
       "<IPython.core.display.Markdown object>"
      ]
     },
     "metadata": {},
     "output_type": "display_data"
    },
    {
     "data": {
      "text/markdown": [
       "\n",
       "|||\n",
       "|---:|:---|\n",
       "| [![arXiv](https://img.shields.io/badge/arXiv-arXiv:2303.02211-b31b1b.svg)](https://arxiv.org/abs/arXiv:2303.02211) | **RR Lyrae Visual to Infrared Absolute Magnitude Calibrations. In the  light of Gaia DR3**  |\n",
       "|| K. Looijmans, J. Lub, <mark>A.G.A. Brown</mark> |\n",
       "|*Appeared on*| *2023-03-07*|\n",
       "|*Comments*| *This paper reflects the presentation as given by J. Lub at the RRLCEP2022 conference (September 2022). Unfortunately after preparing this report we found out that only invited contributions would be published in the Proceedings*|\n",
       "|**Abstract**| A probabilistic approach has been used in combination with the parallax data from Gaia (e)DR3 to calibrate Period-Luminosity-(Abundance) (PLZ) Relations covering a wide range of visual to Infrared observations of RR Lyrae stars. Absolute Magnitude Relations are given, derived from the same selection of stars, for $V$, $G$, $I$, $K_\\mathrm{s}$ and WISE $W1$ as well as for for the reddening free pseudo-magnitudes $WBV$, $WVI$ and finally also Gaia $WG$. The classical relation between $M_V$ and [Fe/H] is redetermined and as an illustration distances are given to a few selected objects. |\n",
       "|<p style=\"color:green\"> **ERROR** </p>| <p style=\"color:green\">affiliation error: mpia.affiliation_verifications: 'Heidelberg' keyword not found.</p> |"
      ],
      "text/plain": [
       "<IPython.core.display.Markdown object>"
      ]
     },
     "metadata": {},
     "output_type": "display_data"
    },
    {
     "data": {
      "text/markdown": [
       "\n",
       "|||\n",
       "|---:|:---|\n",
       "| [![arXiv](https://img.shields.io/badge/arXiv-arXiv:2303.02289-b31b1b.svg)](https://arxiv.org/abs/arXiv:2303.02289) | **Central BH mass of tidal disruption event candidate SDSS J0159 through  long-term optical variabilities**  |\n",
       "|| <mark>Zhang XueGuang</mark> |\n",
       "|*Appeared on*| *2023-03-07*|\n",
       "|*Comments*| *14 pages, 6 figures, 1 table, accepted to be published in ApJ*|\n",
       "|**Abstract**| In this manuscript, central BH mass is determined in the tidal disruption event (TDE) candidate SDSS J0159, through the nine years long variabilities, in order to check whether the virial BH mass is consistent with the mass estimated by another independent methods. First, host galaxy spectroscopic features are described by 350 simple stellar templates, to confirm the total stellar mass about $7\\times10^{10}{\\rm M_\\odot}$ in SDSS J0159, indicating the virial BH mass about two magnitudes larger than the BH mass estimated by the total stellar mass. Second, based on an efficient method and fitting procedure, through theoretical TDE model applied to describe the SDSS $ugriz$-band light curves of SDSS J0159, central BH mass can be determined as $M_{BH}\\sim4.5_{-1.1}^{+1.3}\\times10^6{\\rm M_\\odot}$, well consistent with the M-sigma relation expected BH mass and the total stellar mass expected BH mass. Third, the theoretical TDE model with parameter of central BH mass limited to be higher than $10^8{\\rm M_\\odot}$ can not lead to reasonable descriptions to the light curves of SDSS J0159, indicating central BH mass higher than $10^8{\\rm M_\\odot}$ is not preferred in SDSS J0159. Therefore, the TDE model determined central BH mass of SDSS J0159 are about two magnitudes lower than the virial BH mass, to support central BLRs including accreting debris contributions from central TDE, and provide interesting clues to reconfirm that outliers in the space of virial BH mass versus stellar velocity dispersion should be better candidates of TDE. |\n",
       "|<p style=\"color:green\"> **ERROR** </p>| <p style=\"color:green\">affiliation error: mpia.affiliation_verifications: 'Heidelberg' keyword not found.</p> |"
      ],
      "text/plain": [
       "<IPython.core.display.Markdown object>"
      ]
     },
     "metadata": {},
     "output_type": "display_data"
    },
    {
     "data": {
      "text/markdown": [
       "\n",
       "|||\n",
       "|---:|:---|\n",
       "| [![arXiv](https://img.shields.io/badge/arXiv-arXiv:2303.02772-b31b1b.svg)](https://arxiv.org/abs/arXiv:2303.02772) | **Astrochemical Diagnostics of the Isolated Massive Protostar G28.20-0.05**  |\n",
       "|| Prasanta Gorai, et al. -- incl., <mark>Yichen Zhang</mark> |\n",
       "|*Appeared on*| *2023-03-07*|\n",
       "|*Comments*| *submitted to ApJ, comments welcome*|\n",
       "|**Abstract**| We study the astrochemical diagnostics of the isolated massive protostar G28.20-0.05. We analyze data from ALMA 1.3~mm observations with resolution of 0.2 arcsec ($\\sim$1,000 au). We detect emission from a wealth of species, including oxygen-bearing (e.g., $\\rm{H_2CO}$, $\\rm{CH_3OH}$, $\\rm{CH_3OCH_3}$), sulfur-bearing (SO$_2$, H$_2$S) and nitrogen-bearing (e.g., HNCO, NH$_2$CHO, C$_2$H$_3$CN, C$_2$H$_5$CN) molecules. We discuss their spatial distributions, physical conditions, correlation between different species and possible chemical origins. In the central region near the protostar, we identify three hot molecular cores (HMCs). HMC1 is part of a mm continuum ring-like structure, is closest in projection to the protostar, has the highest temperature of $\\sim300\\:$K, and shows the most line-rich spectra. HMC2 is on the other side of the ring, has a temperature of $\\sim250\\:$K, and is of intermediate chemical complexity. HMC3 is further away, $\\sim3,000\\:$au in projection, cooler ($\\sim70\\:$K) and is the least line-rich. The three HMCs have similar mass surface densities ($\\sim10\\:{\\rm{g\\:cm}}^{-2}$), number densities ($n_{\\rm H}\\sim10^9\\:{\\rm{cm}}^{-3}$) and masses of a few $M_\\odot$. The total gas mass in the cores and in the region out to $3,000\\:$au is $\\sim 25\\:M_\\odot$, which is comparable to that of the central protostar. Based on spatial distributions of peak line intensities as a function of excitation energy, we infer that the HMCs are externally heated by the protostar. We estimate column densities and abundances of the detected species and discuss the implications for hot core astrochemistry. |\n",
       "|<p style=\"color:green\"> **ERROR** </p>| <p style=\"color:green\">affiliation error: mpia.affiliation_verifications: 'Heidelberg' keyword not found.</p> |"
      ],
      "text/plain": [
       "<IPython.core.display.Markdown object>"
      ]
     },
     "metadata": {},
     "output_type": "display_data"
    },
    {
     "data": {
      "text/markdown": [
       "\n",
       "|||\n",
       "|---:|:---|\n",
       "| [![arXiv](https://img.shields.io/badge/arXiv-arXiv:2303.02847-b31b1b.svg)](https://arxiv.org/abs/arXiv:2303.02847) | **First sodium laser guide star asterism launching platform in China on  1.8m telescope at Gaomeigu Observatory**  |\n",
       "|| Rui-Tao Wang, et al. -- incl., <mark>Hong-Yang Li</mark>, <mark>Min Li</mark>, <mark>Ding-Wen Zhang</mark>, <mark>You-Ming Guo</mark> |\n",
       "|*Appeared on*| *2023-03-07*|\n",
       "|*Comments*| **|\n",
       "|**Abstract**| The application of sodium laser guide star is the key difference between modern adaptive optics system and traditional adaptive optics system. Especially in system like multi-conjugate adaptive optics, sodium laser guide star asterism which is formed by several laser guide stars in certain pattern is required to probe more atmospheric turbulence in different directions. To achieve this, a sodium laser guide star asterism launching platform is required. In this paper, we will introduce the sodium laser guide star asterism launching platform built and tested on the 1.8m telescope of the Gaomeigu Observatory. The platform has two functions: one is to compare the performance of sodium laser guide stars generated by different lasers at the same place; the other is to generate sodium laser guide star asterism with adjustable shape. The field test results at the beginning of 2021 verify the important role of the platform, which is also the first time to realize sodium laser guide star asterism in China. |\n",
       "|<p style=\"color:green\"> **ERROR** </p>| <p style=\"color:green\">affiliation error: mpia.affiliation_verifications: 'Heidelberg' keyword not found.</p> |"
      ],
      "text/plain": [
       "<IPython.core.display.Markdown object>"
      ]
     },
     "metadata": {},
     "output_type": "display_data"
    },
    {
     "data": {
      "text/markdown": [
       "\n",
       "|||\n",
       "|---:|:---|\n",
       "| [![arXiv](https://img.shields.io/badge/arXiv-arXiv:2303.02929-b31b1b.svg)](https://arxiv.org/abs/arXiv:2303.02929) | **The Stellar Mass - Black Hole Mass Relation at $z\\sim2$ Down to  $\\mathcal{M}_\\mathrm{BH}\\sim10^7 M_\\odot$ Determined by HETDEX**  |\n",
       "|| <mark>Yechi Zhang</mark>, et al. |\n",
       "|*Appeared on*| *2023-03-07*|\n",
       "|*Comments*| *16 pages, 8 figures, accepted for publication in ApJ*|\n",
       "|**Abstract**| We investigate the stellar mass - black hole mass ($\\mathcal{M}_*-\\mathcal{M}_\\mathrm{BH}$) relation with type 1 AGN down to $\\mathcal{M}_\\mathrm{BH}=10^7 M_\\odot$, corresponding to a $\\simeq -21$ absolute magnitude in rest-frame ultraviolet (UV), at $z = 2-2.5$. Exploiting the deep and large-area spectroscopic survey of the Hobby-Eberly Telescope Dark Energy Experiment (HETDEX), we identify 66 type 1 AGN with $\\mathcal{M}_\\mathrm{BH}$ ranging from $10^7$ to $10^{10} M_\\odot$ that are measured with single-epoch virial method using C{\\sc iv} emission lines detected in the HETDEX spectra. $\\mathcal{M}_*$ of the host galaxies are estimated from optical to near-infrared photometric data taken with Spitzer, WISE, and ground-based 4-8m class telescopes by CIGALE SED fitting. We further assess the validity of SED fitting in two cases by host-nuclear decomposition performed through surface brightness profile fitting on spatially-resolved host galaxies with JWST/NIRCam CEERS data. We obtain the $\\mathcal{M}_*-\\mathcal{M}_\\mathrm{BH}$ relation covering the unexplored low-mass ranges of $\\mathcal{M}_\\mathrm{BH}~\\sim~10^7-10^8~M_\\odot$, and conduct forward modelling to fully account for the selection biases and observational uncertainties. The intrinsic $\\mathcal{M}_*-\\mathcal{M}_\\mathrm{BH}$ relation at $z\\sim 2$ has a moderate positive offset of $0.52\\pm0.14$~dex from the local relation, suggestive of more efficient black hole growth at higher redshift even in the low-mass regime of $\\mathcal{M}_\\mathrm{BH}~\\sim~10^7-10^8~M_\\odot$. Our $\\mathcal{M}_*-\\mathcal{M}_\\mathrm{BH}$ relation is inconsistent with the $\\mathcal{M}_\\mathrm{BH}$ suppression at the low-$\\mathcal{M}_*$ regime predicted by recent hydrodynamic simulations at a $98\\%$ confidence level, suggesting that feedback in the low-mass systems may be weaker than those produced in hydrodynamic simulations. |\n",
       "|<p style=\"color:green\"> **ERROR** </p>| <p style=\"color:green\">affiliation error: mpia.affiliation_verifications: 'Heidelberg' keyword not found.</p> |"
      ],
      "text/plain": [
       "<IPython.core.display.Markdown object>"
      ]
     },
     "metadata": {},
     "output_type": "display_data"
    },
    {
     "data": {
      "text/markdown": [
       "\n",
       "|||\n",
       "|---:|:---|\n",
       "| [![arXiv](https://img.shields.io/badge/arXiv-arXiv:2303.02941-b31b1b.svg)](https://arxiv.org/abs/arXiv:2303.02941) | **Planetary Orbit Eccentricity Trends (POET). I. The  Eccentricity-Metallicity Trend for Small Planets Revealed by the  LAMOST-Gaia-Kepler Sample**  |\n",
       "|| Dong-Sheng An, <mark>Ji-Wei Xie</mark>, Yuan-Zhe Dai, Ji-Lin Zhou |\n",
       "|*Appeared on*| *2023-03-07*|\n",
       "|*Comments*| *21 pages, 15 figures*|\n",
       "|**Abstract**| Orbital eccentricity is one of the basic planetary properties, whose distribution may shed light on the history of planet formation and evolution. Here, in a series of works on Planetary Orbit Eccentricity Trends (dubbed POET), we study the distribution of planetary eccentricities and their dependence on stellar/planetary properties. In this paper, the first work of the POET series, we investigate whether and how the eccentricities of small planets depend on stellar metallicities (e.g., [Fe/H]). Previous studies on giant planets have found a significant correlation between planetary eccentricities and their host metallicities. Nevertheless, whether such a correlation exists in small planets (e.g. super-Earth and sub-Neptune) remains unclear. Here, benefiting from the large and homogeneous LAMOST-Gaia-Kepler sample, we characterize the eccentricity distributions of 244 (286) small planets in single (multiple) transiting systems with the transit duration ratio method. We confirm the eccentricity-metallicity trend that eccentricities of single small planets increase with stellar metallicities. Interestingly, a similar trend between eccentricity and metallicity is also found in the radial velocity (RV) sample. We also found that the mutual inclination of multiple transiting systems increases with metallicity, which predicts a moderate eccentricity-metallicity rising trend. Our results of the correlation between eccentricity (inclination) and metallicity for small planet support the core accretion model for planet formation, and they could be footprints of self (and/or external) excitation processes during the history of planet formation and evolution. |\n",
       "|<p style=\"color:green\"> **ERROR** </p>| <p style=\"color:green\">affiliation error: mpia.affiliation_verifications: 'Heidelberg' keyword not found.</p> |"
      ],
      "text/plain": [
       "<IPython.core.display.Markdown object>"
      ]
     },
     "metadata": {},
     "output_type": "display_data"
    },
    {
     "data": {
      "text/markdown": [
       "\n",
       "|||\n",
       "|---:|:---|\n",
       "| [![arXiv](https://img.shields.io/badge/arXiv-arXiv:2303.02973-b31b1b.svg)](https://arxiv.org/abs/arXiv:2303.02973) | **Resolving the stellar-collapse and hierarchical-merger origins of the  coalescing black holes**  |\n",
       "|| <mark>Yin-Jie Li</mark>, Yuan-Zhu Wang, Shao-Peng Tang, Yi-Zhong Fan |\n",
       "|*Appeared on*| *2023-03-07*|\n",
       "|*Comments*| *20 pages, 8 figures*|\n",
       "|**Abstract**| Spin and mass properties provide essential clues in distinguishing the formation channels for coalescing binary black holes (BBHs). With a dedicated non-parametric population model for the joint distributions of mass, spin magnitude, and spin orientation of the black holes (BHs) in the coalescing binaries, we find two distinct categories of BHs among the GWTC-3 events with considerably different spin and mass distributions. One category, with a mass ranging from $\\sim 25M_\\odot$ to $\\sim 80M_\\odot$, is distinguished by the high spin-magnitudes and consistent with the (hierarchical) merger origin. The other category, characterized by low spins, has a sharp mass cutoff at $\\sim 40M_\\odot$ ($<56.8M_{\\odot}$ at 90\\% credible level), which is natural for the stellar-collapse origin. In particular, such a mass cutoff is expected for the pair-instability explosion of massive stars. The stellar-collapse category is estimated to consist of $\\sim 70\\%$ filed binaries and $\\sim 30\\%$ dynamical assembly from star clusters (mostly globular clusters); while the merger-origin category may contain comparable amounts of events from the Active Galactic Nuclei disks and star clusters. |\n",
       "|<p style=\"color:green\"> **ERROR** </p>| <p style=\"color:green\">affiliation error: mpia.affiliation_verifications: 'Heidelberg' keyword not found.</p> |"
      ],
      "text/plain": [
       "<IPython.core.display.Markdown object>"
      ]
     },
     "metadata": {},
     "output_type": "display_data"
    },
    {
     "data": {
      "text/markdown": [
       "\n",
       "|||\n",
       "|---:|:---|\n",
       "| [![arXiv](https://img.shields.io/badge/arXiv-arXiv:2303.03021-b31b1b.svg)](https://arxiv.org/abs/arXiv:2303.03021) | **Probing the origin of cosmic rays in Cygnus Cocoon using  ultrahigh-energy gamma-ray and neutrino observations**  |\n",
       "|| Prabir Banik, <mark>Sanjay K. Ghosh</mark> |\n",
       "|*Appeared on*| *2023-03-07*|\n",
       "|*Comments*| *9 pages, 4 figures*|\n",
       "|**Abstract**| Recent ultrahigh energy gamma-ray observations by the HAWC up to 100 TeV and LHAASO observatories up to 1.4 PeV energies from the direction of Fermi-LAT 4FGL source 4FGL J2028.6+4110e (Cygnus Cocoon), are indicative of a hadronic origin over a leptonic process for their creation. The IceCube Neutrino Observatory has reported IceCube-201120A, a neutrino event coming from the same direction, suggesting that the Cygnus Cocoon may correspond to one of the most plausible sources of high-energy cosmic rays. The apparent relationship of the neutrino event with the observed ultra high energy gamma-rays from Cygnus Cocoon is investigated in this work to study if it can be explained consistently in hadronic interactions of accelerated cosmic rays with ambient matter. Our findings reveal that leptonic mechanisms, together with pure hadronic mechanisms, make a considerable contribution to the understanding of the total electromagnetic spectrum as well as the observed neutrino event. The estimate of expected muon neutrino events from the Cygnus cocoon agrees with the one muon neutrino event detected so far in IceCube multi-year observations. Thus, our results are indicative of the potential of the Cygnus Cocoon to be a galactic cosmic ray source capable of accelerating at least up to PeV energies. |\n",
       "|<p style=\"color:green\"> **ERROR** </p>| <p style=\"color:green\">affiliation error: mpia.affiliation_verifications: 'Heidelberg' keyword not found.</p> |"
      ],
      "text/plain": [
       "<IPython.core.display.Markdown object>"
      ]
     },
     "metadata": {},
     "output_type": "display_data"
    },
    {
     "data": {
      "text/markdown": [
       "\n",
       "|||\n",
       "|---:|:---|\n",
       "| [![arXiv](https://img.shields.io/badge/arXiv-arXiv:2303.03025-b31b1b.svg)](https://arxiv.org/abs/arXiv:2303.03025) | **Is there a dwarf galaxy satellite-of-satellite problem in $Λ$CDM?**  |\n",
       "|| <mark>Oliver Müller</mark>, et al. |\n",
       "|*Appeared on*| *2023-03-07*|\n",
       "|*Comments*| *8 pages, 7 figures, 3 tables. Accepted for publication in Astronomy & Astrophysics. Abstract shortened due to arxiv abstract length requirements*|\n",
       "|**Abstract**| Dark matter clusters on all scales, therefore it is expected that even substructure should host its own substructure. Using the Extragalactic Distance Database, we searched for dwarf galaxy satellites of dwarf galaxies, i.e. satellite-of-satellite galaxies, corresponding to these substructures-of-substructure. Going through HST data of 117 dwarf galaxies, we report the discovery of a dwarf galaxy around the ultra-diffuse M96 companion M96-DF6 at 10 Mpc. Modelling its structural parameters, we find that it is an ultra-faint dwarf galaxy which is 135 times fainter than its host. Based on its close projection to M96-DF6 it is unlikely that their association occurs by chance. We compare the luminosity ratio of this and three other known satellite-of-satellite systems with results from two different cosmological sets of CDM simulations. For the observed stellar mass range of the central dwarf galaxies, the simulated dwarfs have a higher luminosity ratio between the central dwarf and its first satellite ($\\approx$10'000) than observed ($\\approx$100), excluding the LMC system. No simulated dwarf analog at these observed stellar masses has the observed luminosity ratio. This cannot be due to missing resolution, because it is the brightest subhalos that are missing. This may indicate that there is a satellite-of-satellite (SoS) problem for CDM in the stellar mass range between 10$^6$ and 10$^8$ M$_\\odot$ - the regime of the classical dwarf galaxies. However, simulated dwarf models at both a lower ($<10^6$ M$_\\odot$) and higher ($>10^8$ M$_\\odot$) stellar mass have comparable luminosity ratios. For the higher stellar mass systems, the LMC system is reproduced by simulations, for the lower stellar masses, no observed SoS system has been observed to date. More observations and simulations of SoS systems are needed to assess whether the luminosity ratio is at odds with CDM. |\n",
       "|<p style=\"color:green\"> **ERROR** </p>| <p style=\"color:green\">affiliation error: mpia.affiliation_verifications: 'Heidelberg' keyword not found.</p> |"
      ],
      "text/plain": [
       "<IPython.core.display.Markdown object>"
      ]
     },
     "metadata": {},
     "output_type": "display_data"
    },
    {
     "data": {
      "text/markdown": [
       "\n",
       "|||\n",
       "|---:|:---|\n",
       "| [![arXiv](https://img.shields.io/badge/arXiv-arXiv:2303.03026-b31b1b.svg)](https://arxiv.org/abs/arXiv:2303.03026) | **MPI-AMRVAC 3.0: updates to an open-source simulation framework**  |\n",
       "|| Rony Keppens, et al. -- incl., <mark>Yang Guo</mark> |\n",
       "|*Appeared on*| *2023-03-07*|\n",
       "|*Comments*| *Accepted for A&A*|\n",
       "|**Abstract**| Computational astrophysics routinely combines grid-adaptive capabilities with modern shock-capturing, high resolution spatio-temporal schemes on multi-dimensional hydro- and magnetohydrodynamics. We provide an update on developments within the open-source MPI-AMRVAC code. With online documentation, the MPI-AMRVAC 3.0 release includes several added equation sets, and many options to explore and quantify the influence of implementation details. Showcasing this on a variety of hydro and MHD tests, we document new modules of interest for state-of-the-art solar applications. Test cases address how higher order reconstructions impact long term simulations of shear layers, with and without gas-dust coupling, how runaway radiative losses transit to intricate multi-temperature, multi-phase dynamics, and how different flavors of spatio-temporal schemes and magnetic monopole control produce consistent MHD results in combination with adaptive meshes. We demonstrate Super-Time-Stepping strategies for specific parabolic terms and give details on all implemented Implicit-Explicit integrators. A new magnetofrictional module can be used for computing force-free magnetic fields or for data-driven time-dependent evolutions, while the Regularized-Biot-Savart-Law approach can insert fluxropes in 3D domains. Synthetic observations of 3D MHD simulations can be rendered on-the-fly, or in post-processing, in many spectral wavebands. A particle module and a generic fieldline tracing, compatible with the hierarchical meshes, can be used to sample information at prescribed locations, to follow dynamics of charged particles, or realize two-way coupled simulations between MHD setups and field-aligned non-thermal processes. Highlighting the latest additions and various technical aspects, our open-source strategy welcomes any further code usage, contribution, or spin-off development. |\n",
       "|<p style=\"color:green\"> **ERROR** </p>| <p style=\"color:green\">affiliation error: mpia.affiliation_verifications: 'Heidelberg' keyword not found.</p> |"
      ],
      "text/plain": [
       "<IPython.core.display.Markdown object>"
      ]
     },
     "metadata": {},
     "output_type": "display_data"
    },
    {
     "data": {
      "text/markdown": [
       "\n",
       "|||\n",
       "|---:|:---|\n",
       "| [![arXiv](https://img.shields.io/badge/arXiv-arXiv:2303.03058-b31b1b.svg)](https://arxiv.org/abs/arXiv:2303.03058) | **Reoriented Memory of Galaxy Spins for the Early Universe**  |\n",
       "|| Jun-Sung Moon, <mark>Jounghun Lee</mark> |\n",
       "|*Appeared on*| *2023-03-07*|\n",
       "|*Comments*| *4 pages, 4 figures, comments welcome*|\n",
       "|**Abstract**| Galaxy spins are believed to retain initially acquired tendency of being aligned with the intermediate principal axes of the linear tidal field, which disseminates a prospect of using them as a probe of the early universe physics. This roseate prospect, however, is contingent upon the key assumption that the observable stellar spins of the present galaxies measured at inner radii have the same alignment tendency toward the initial tidal field as their dark matter counterparts measured at virial limits. We test this assumption directly against a high-resolution hydrodynamical simulation to find that the present galaxy stellar spins have strong but {\\it reoriented} memory for the early universe. An analytic single-parameter formula for this reorientation is derived and found to be in good accord with the numerical results. |\n",
       "|<p style=\"color:green\"> **ERROR** </p>| <p style=\"color:green\">affiliation error: mpia.affiliation_verifications: 'Heidelberg' keyword not found.</p> |"
      ],
      "text/plain": [
       "<IPython.core.display.Markdown object>"
      ]
     },
     "metadata": {},
     "output_type": "display_data"
    },
    {
     "data": {
      "text/markdown": [
       "\n",
       "|||\n",
       "|---:|:---|\n",
       "| [![arXiv](https://img.shields.io/badge/arXiv-arXiv:2303.03261-b31b1b.svg)](https://arxiv.org/abs/arXiv:2303.03261) | **General-relativistic radiation transport scheme in $\\texttt{Gmunu}$ I:  Implementation of two-moment based multi-frequency radiative transfer and  code tests**  |\n",
       "|| Patrick Chi-Kit Cheong, Harry Ho-Yin Ng, Alan Tsz-Lok Lam, <mark>Tjonnie Guang Feng Li</mark> |\n",
       "|*Appeared on*| *2023-03-07*|\n",
       "|*Comments*| **|\n",
       "|**Abstract**| We present the implementation of two-moment based general-relativistic multi-group radiation transport module in the $\\texttt{G}$eneral-relativistic $\\texttt{mu}$ltigrid $\\texttt{nu}$merical ($\\texttt{Gmunu}$) code. On top of solving the general-relativistic magnetohydrodynamics and the Einstein equations with conformally flat approximations, the code solves the evolution equations of the zeroth- and first-order moments of the radiations. Analytic closure relation is used to obtain the higher order moments and close the system. The finite-volume discretisation has been adopted for the radiation moments. The advection in spatial and frequency spaces are handled explicitly. In addition, the radiation-matter interaction terms, which are very stiff in the optically thick region, are solved implicitly. Implicit-explicit Runge-Kutta schemes are adopted for time integration. We test the implementation with a number of numerical benchmarks from frequency-integrated to frequency dependent cases. Furthermore, we also illustrate the astrophysical applications in hot neutron star and core-collapse supernovae modellings, and compare with other neutrino transport codes. |\n",
       "|<p style=\"color:green\"> **ERROR** </p>| <p style=\"color:green\">affiliation error: mpia.affiliation_verifications: 'Heidelberg' keyword not found.</p> |"
      ],
      "text/plain": [
       "<IPython.core.display.Markdown object>"
      ]
     },
     "metadata": {},
     "output_type": "display_data"
    },
    {
     "data": {
      "text/markdown": [
       "\n",
       "|||\n",
       "|---:|:---|\n",
       "| [![arXiv](https://img.shields.io/badge/arXiv-arXiv:2303.03266-b31b1b.svg)](https://arxiv.org/abs/arXiv:2303.03266) | **Dark Stars and Gravitational Waves: Topical Review**  |\n",
       "|| <mark>Kilar Zhang</mark>, et al. -- incl., <mark>Feng-Li Lin</mark> |\n",
       "|*Appeared on*| *2023-03-07*|\n",
       "|*Comments*| *27 pages, 8 figures*|\n",
       "|**Abstract**| Motivated by recent observations of compact binary gravitational wave events reported by LIGO/Virgo/KAGRA, we review the basics of dark and hybrid stars and examine their probabilities as mimickers for black holes and neutron stars. This review aims to survey this exciting topic and offer necessary tools for the research study at the introductory level. |\n",
       "|<p style=\"color:green\"> **ERROR** </p>| <p style=\"color:green\">affiliation error: mpia.affiliation_verifications: 'Heidelberg' keyword not found.</p> |"
      ],
      "text/plain": [
       "<IPython.core.display.Markdown object>"
      ]
     },
     "metadata": {},
     "output_type": "display_data"
    },
    {
     "data": {
      "text/markdown": [
       "\n",
       "|||\n",
       "|---:|:---|\n",
       "| [![arXiv](https://img.shields.io/badge/arXiv-arXiv:2303.03119-b31b1b.svg)](https://arxiv.org/abs/arXiv:2303.03119) | **Multiverse Predictions for Habitability: Stellar and Atmospheric  Habitability**  |\n",
       "|| McCullen Sandora, Vladimir Airapetian, Luke Barnes, <mark>Geraint F. Lewis</mark> |\n",
       "|*Appeared on*| *2023-03-07*|\n",
       "|*Comments*| *23 pages, 2 figures*|\n",
       "|**Abstract**| Stellar activity and planetary atmospheric properties have the potential to strongly influence habitability. To date, neither have been adequately studied in the multiverse context, so there has been no assessment of how these effects impact the probabilities of observing our fundamental constants. Here, we consider the effects of solar wind, mass loss, and extreme ultra-violet (XUV) flux on planetary atmospheres, how these effects scale with fundamental constants, and how this affects the likelihood of our observations. We determine the minimum atmospheric mass that can withstand erosion, maintain liquid surface water, and buffer diurnal temperature changes. We consider two plausible sources of Earth's atmosphere, as well as the notion that only initially slowly rotating stars are habitable, and find that all are equally compatible with the multiverse. We consider whether planetary magnetic fields are necessary for habitability, and find five boundaries in parameter space where magnetic fields are precluded. We find that if an Earth-like carbon-to-oxygen ratio is required for life, atmospheric effects do not have much of an impact on multiverse calculations. If significantly different carbon-to-oxygen ratios are compatible with life, magnetic fields must not be essential for life, and planet atmosphere must not scale with stellar nitrogen abundance, or else the multiverse would be ruled out to a high degree of confidence. |\n",
       "|<p style=\"color:green\"> **ERROR** </p>| <p style=\"color:green\">affiliation error: mpia.affiliation_verifications: 'Max' keyword not found.</p> |"
      ],
      "text/plain": [
       "<IPython.core.display.Markdown object>"
      ]
     },
     "metadata": {},
     "output_type": "display_data"
    },
    {
     "data": {
      "text/markdown": [
       "\n",
       "|||\n",
       "|---:|:---|\n",
       "| [![arXiv](https://img.shields.io/badge/arXiv-arXiv:2303.02161-b31b1b.svg)](https://arxiv.org/abs/arXiv:2303.02161) | **Exploring Fundamental Particle Acceleration and Loss Processes in  Heliophysics through an Orbiting X-ray Instrument in the Jovian System**  |\n",
       "|| W. Dunn, et al. -- incl., <mark>W. Li</mark>, <mark>H. T. Smith</mark> |\n",
       "|*Appeared on*| *2023-03-07*|\n",
       "|*Comments*| *A White Paper for the 2024-2033 Solar and Space Physics (Heliophysics) Decadal Survey*|\n",
       "|**Abstract**| Jupiter's magnetosphere is considered to be the most powerful particle accelerator in the Solar System, accelerating electrons from eV to 70 MeV and ions to GeV energies. How electromagnetic processes drive energy and particle flows, producing and removing energetic particles, is at the heart of Heliophysics. Particularly, the 2013 Decadal Strategy for Solar and Space Physics was to \"Discover and characterize fundamental processes that occur both within the heliosphere and throughout the universe\". The Jovian system offers an ideal natural laboratory to investigate all of the universal processes highlighted in the previous Decadal. The X-ray waveband has been widely used to remotely study plasma across astrophysical systems. The majority of astrophysical emissions can be grouped into 5 X-ray processes: fluorescence, thermal/coronal, scattering, charge exchange and particle acceleration. The Jovian system offers perhaps the only system that presents a rich catalog of all of these X-ray emission processes and can also be visited in-situ, affording the special possibility to directly link fundamental plasma processes with their resulting X-ray signatures. This offers invaluable ground-truths for astrophysical objects beyond the reach of in-situ exploration (e.g. brown dwarfs, magnetars or galaxy clusters that map the cosmos). Here, we show how coupling in-situ measurements with in-orbit X-ray observations of Jupiter's radiation belts, Galilean satellites, Io Torus, and atmosphere addresses fundamental heliophysics questions with wide-reaching impact across helio- and astrophysics. New developments like miniaturized X-ray optics and radiation-tolerant detectors, provide compact, lightweight, wide-field X-ray instruments perfectly suited to the Jupiter system, enabling this exciting new possibility. |\n",
       "|<p style=\"color:red\"> **ERROR** </p>| <p style=\"color:red\">latex error not a gzip file</p> |"
      ],
      "text/plain": [
       "<IPython.core.display.Markdown object>"
      ]
     },
     "metadata": {},
     "output_type": "display_data"
    },
    {
     "data": {
      "text/markdown": [
       "\n",
       "|||\n",
       "|---:|:---|\n",
       "| [![arXiv](https://img.shields.io/badge/arXiv-arXiv:2303.02330-b31b1b.svg)](https://arxiv.org/abs/arXiv:2303.02330) | **The Solar Cause of the 2022 February 3 Geomagnetic Storm that Led to the  Demise of the Starlink Satellites**  |\n",
       "|| Nat Gopalswamy, <mark>Hong Xie</mark>, Seiji Yashiro, Sachiko Akiyama |\n",
       "|*Appeared on*| *2023-03-07*|\n",
       "|*Comments*| *14 pages, 8 figures, to appear in Sun and Geosphere*|\n",
       "|**Abstract**| We report on the solar source of the 2022 February 3 geomagnetic storm of moderate strength that contributed to the loss of 39 Starlink satellites. The geomagnetic storm was caused by the 2022 January 29 halo coronal mass ejection (CME) that was of moderate speed (about 690 km/s) originating from NOAA active region 12936 located in the northeast quadrant (N18E06) of the Sun. The eruption was marked by an M1.1 flare, which started at 22:45 UT, peaked at 23:32 UT on January 29 and ended at 00:24 UT the next day. The CME ended up as a shock-driving magnetic cloud (MC) observed at Sun-Earth L1 and at STEREO-Ahead (STA) located about 34 deg behind Earth. The geomagnetic storm was caused by a strong southward component of the MC that was boosted by a high speed solar wind stream behind the MC. Even though Earth and STA were separated by only about 34 deg, the MC appeared quite different at Earth and L1. One possibility is that the MC was writhed reflecting the curved neutral line at the Sun. In-situ observations suggest that the MC was heading closer to STA than to Earth because of the earlier arrival at STA. However, the shock arrived at STA and Earth around the same time, suggesting a weaker shock at Earth due to flank passage. |\n",
       "|<p style=\"color:red\"> **ERROR** </p>| <p style=\"color:red\">latex error not a gzip file</p> |"
      ],
      "text/plain": [
       "<IPython.core.display.Markdown object>"
      ]
     },
     "metadata": {},
     "output_type": "display_data"
    },
    {
     "data": {
      "text/markdown": [
       "\n",
       "|||\n",
       "|---:|:---|\n",
       "| [![arXiv](https://img.shields.io/badge/arXiv-arXiv:2303.02895-b31b1b.svg)](https://arxiv.org/abs/arXiv:2303.02895) | **The Multiview Observatory for Solar Terrestrial Science (MOST)**  |\n",
       "|| N. Gopalswamy, et al. -- incl., <mark>L. Li</mark>, <mark>J. Zhao</mark>, <mark>J. Zhang</mark> |\n",
       "|*Appeared on*| *2023-03-07*|\n",
       "|*Comments*| *40 pages, 19 figures, 8 tables*|\n",
       "|**Abstract**| We report on a study of the Multiview Observatory for Solar Terrestrial Science (MOST) mission that will provide comprehensive imagery and time series data needed to understand the magnetic connection between the solar interior and the solar atmosphere/inner heliosphere. MOST will build upon the successes of SOHO and STEREO missions with new views of the Sun and enhanced instrument capabilities. This article is based on a study conducted at NASA Goddard Space Flight Center that determined the required instrument refinement, spacecraft accommodation, launch configuration, and flight dynamics for mission success. MOST is envisioned as the next generation great observatory positioned to obtain three-dimensional information of solar wind structures such as coronal mass ejections, stream interaction regions, and the solar wind. The MOST mission consists of 2 pairs of spacecraft located in the vicinity of Sun Earth Lagrange points L4 (MOST1, MOST3) and L5 (MOST2 and MOST4). The spacecraft stationed at L4 (MOST1) and L5 (MOST2) will each carry seven remote-sensing and three in-situ instrument suites. MOST will also carry a novel radio package known as the Faraday Effect Tracker of Coronal and Heliospheric structures (FETCH). FETCH will have polarized radio transmitters and receivers on all four spacecraft to measure the magnetic content of solar wind structures propagating from the Sun to Earth using the Faraday rotation technique. The MOST mission will be able to sample the magnetized plasma throughout the Sun Earth connected space during the mission lifetime over a solar cycle. |\n",
       "|<p style=\"color:red\"> **ERROR** </p>| <p style=\"color:red\">latex error not a gzip file</p> |"
      ],
      "text/plain": [
       "<IPython.core.display.Markdown object>"
      ]
     },
     "metadata": {},
     "output_type": "display_data"
    },
    {
     "data": {
      "text/markdown": [
       "\n",
       "|||\n",
       "|---:|:---|\n",
       "| [![arXiv](https://img.shields.io/badge/arXiv-arXiv:2303.02952-b31b1b.svg)](https://arxiv.org/abs/arXiv:2303.02952) | **Pupil aberrations correction of the afocal telescope for the TianQin  project**  |\n",
       "|| Zichao Fan, et al. -- incl., <mark>Lujia Zhao</mark> |\n",
       "|*Appeared on*| *2023-03-07*|\n",
       "|*Comments*| **|\n",
       "|**Abstract**| TianQin is a planned Chinese space-based gravitational wave (GW) observatory with a frequency band of 10-4 to 1Hz. Optical telescopes are essential for the delivery of the measurement beam to support a precise distance measurement between pairs of proof masses. As the design is driven by the interferometric displacement sensitivity requirements, the stability control of optical path length (OPL) is extremely important beyond the traditional requirement of diffraction-limited imaging quality. In a telescope system, the recurring tilt-to-length (TTL) coupling noise arises from the OPL variation due to the wavefront deformation and angular misalignment. The pupil aberrations are preferred option to understand the OPL specifications and further suppress TTL coupling noise. To correct the pupil aberrations, we derive primary pupil aberrations in a series expansion form, and then refine the formulation of merit function by combining the pupil aberration theory and traditional image aberration theory. The automatic correction of pupil aberrations is carried out by using the macro programming in the commercial optical software Zemax, leading to a high performance telescope design. The design results show that on one side the pupil aberrations have been corrected, and on the other side, its optical performance meets the requirements for TianQin project. The RMS wavefront error over the science field of view (FOV) is less than {\\lambda}/200 and the maximum TTL coupling noise over the entire 300 urad FOV is 0.0034nm/urad. We believe that our design approach can be a good guide for the space telescope design in any other space-based GW detection project, as well as other similar optical systems. |\n",
       "|<p style=\"color:red\"> **ERROR** </p>| <p style=\"color:red\">latex error not a gzip file</p> |"
      ],
      "text/plain": [
       "<IPython.core.display.Markdown object>"
      ]
     },
     "metadata": {},
     "output_type": "display_data"
    }
   ],
   "source": [
    "import datetime\n",
    "today = str(datetime.date.today())\n",
    "logfile = f\"_build/html/logs/log-{today}.md\"\n",
    "\n",
    "\n",
    "with open(logfile, 'w') as logs:\n",
    "    # Success\n",
    "    logs.write(f'# Arxiv on Deck 2: Logs - {today}\\n\\n')\n",
    "    logs.write(\"\"\"* Arxiv had {0:,d} new papers\\n\"\"\".format(len(new_papers)))\n",
    "    logs.write(\"\"\"    * {0:,d} with possible author matches\\n\\n\"\"\".format(len(candidates)))\n",
    "    logs.write(\"## Sucessful papers\\n\\n\")\n",
    "    display(Markdown(\"## Successful papers\"))\n",
    "    success = [k[0] for k in documents]\n",
    "    for candid in candidates:\n",
    "        if candid['identifier'].split(':')[-1] in success:\n",
    "            display(candid)\n",
    "            logs.write(candid.generate_markdown_text() + '\\n\\n')\n",
    "\n",
    "    ## failed\n",
    "    logs.write(\"## Failed papers\\n\\n\")\n",
    "    display(Markdown(\"## Failed papers\"))\n",
    "    failed = sorted(failed, key=lambda x: x[1])\n",
    "    current_reason = \"\"\n",
    "    for paper, reason in failed:\n",
    "        if 'affiliation' in reason:\n",
    "            color = 'green'\n",
    "        else:\n",
    "            color = 'red'\n",
    "        data = Markdown(\n",
    "                paper.generate_markdown_text() + \n",
    "                f'\\n|<p style=\"color:{color:s}\"> **ERROR** </p>| <p style=\"color:{color:s}\">{reason:s}</p> |'\n",
    "               )\n",
    "        if reason != current_reason:\n",
    "            logs.write(f'### {reason:s} \\n\\n')\n",
    "            current_reason = reason\n",
    "        logs.write(data.data + '\\n\\n')\n",
    "        \n",
    "        # only display here the important errors (all in logs)\n",
    "        # if color in ('red',):\n",
    "        display(data)"
   ]
  },
  {
   "cell_type": "markdown",
   "id": "472d20ee",
   "metadata": {
    "papermill": {
     "duration": 0.008878,
     "end_time": "2023-03-07T16:15:15.092427",
     "exception": false,
     "start_time": "2023-03-07T16:15:15.083549",
     "status": "completed"
    },
    "tags": []
   },
   "source": [
    "## Export documents\n",
    "\n",
    "We now write the .md files and export relevant images"
   ]
  },
  {
   "cell_type": "code",
   "execution_count": 7,
   "id": "d426aed9",
   "metadata": {
    "execution": {
     "iopub.execute_input": "2023-03-07T16:15:15.110773Z",
     "iopub.status.busy": "2023-03-07T16:15:15.110332Z",
     "iopub.status.idle": "2023-03-07T16:15:15.117316Z",
     "shell.execute_reply": "2023-03-07T16:15:15.116713Z"
    },
    "papermill": {
     "duration": 0.017774,
     "end_time": "2023-03-07T16:15:15.118688",
     "exception": false,
     "start_time": "2023-03-07T16:15:15.100914",
     "status": "completed"
    },
    "tags": []
   },
   "outputs": [],
   "source": [
    "def export_markdown_summary(md: str, md_fname:str, directory: str):\n",
    "    \"\"\"Export MD document and associated relevant images\"\"\"\n",
    "    import os\n",
    "    import shutil\n",
    "    import re\n",
    "\n",
    "    if (os.path.exists(directory) and not os.path.isdir(directory)):\n",
    "        raise RuntimeError(f\"a non-directory file exists with name {directory:s}\")\n",
    "\n",
    "    if (not os.path.exists(directory)):\n",
    "        print(f\"creating directory {directory:s}\")\n",
    "        os.mkdir(directory)\n",
    "\n",
    "    fig_fnames = (re.compile(r'\\[Fig.*\\]\\((.*)\\)').findall(md) + \n",
    "                  re.compile(r'\\<img src=\"([^>\\s]*)\"[^>]*/>').findall(md))\n",
    "    for fname in fig_fnames:\n",
    "        if 'http' in fname:\n",
    "            # No need to copy online figures\n",
    "            continue\n",
    "        destdir = os.path.join(directory, os.path.dirname(fname))\n",
    "        destfname = os.path.join(destdir, os.path.basename(fname))\n",
    "        try:\n",
    "            os.makedirs(destdir)\n",
    "        except FileExistsError:\n",
    "            pass\n",
    "        shutil.copy(fname, destfname)\n",
    "    with open(os.path.join(directory, md_fname), 'w') as fout:\n",
    "        fout.write(md)\n",
    "    print(\"exported in \", os.path.join(directory, md_fname))\n",
    "    [print(\"    + \" + os.path.join(directory,fk)) for fk in fig_fnames]"
   ]
  },
  {
   "cell_type": "code",
   "execution_count": 8,
   "id": "014d04a4",
   "metadata": {
    "execution": {
     "iopub.execute_input": "2023-03-07T16:15:15.137098Z",
     "iopub.status.busy": "2023-03-07T16:15:15.136691Z",
     "iopub.status.idle": "2023-03-07T16:15:15.142024Z",
     "shell.execute_reply": "2023-03-07T16:15:15.141403Z"
    },
    "papermill": {
     "duration": 0.016061,
     "end_time": "2023-03-07T16:15:15.143383",
     "exception": false,
     "start_time": "2023-03-07T16:15:15.127322",
     "status": "completed"
    },
    "tags": []
   },
   "outputs": [
    {
     "name": "stdout",
     "output_type": "stream",
     "text": [
      "exported in  _build/html/2303.02816.md\n",
      "    + _build/html/tmp_2303.02816/./CIV_sightlines.png\n",
      "    + _build/html/tmp_2303.02816/./completeness_CIV.png\n",
      "    + _build/html/tmp_2303.02816/./C_ion_fractions_13.2_15.0.png\n",
      "    + _build/html/tmp_2303.02816/./c_ion_modelling.png\n"
     ]
    }
   ],
   "source": [
    "for paper_id, md in documents:\n",
    "    export_markdown_summary(md, f\"{paper_id:s}.md\", '_build/html/')"
   ]
  },
  {
   "cell_type": "markdown",
   "id": "f087a0a7",
   "metadata": {
    "papermill": {
     "duration": 0.008636,
     "end_time": "2023-03-07T16:15:15.160625",
     "exception": false,
     "start_time": "2023-03-07T16:15:15.151989",
     "status": "completed"
    },
    "tags": []
   },
   "source": [
    "## Display the papers\n",
    "\n",
    "Not necessary but allows for a quick check."
   ]
  },
  {
   "cell_type": "code",
   "execution_count": 9,
   "id": "fd25f625",
   "metadata": {
    "execution": {
     "iopub.execute_input": "2023-03-07T16:15:15.179108Z",
     "iopub.status.busy": "2023-03-07T16:15:15.178684Z",
     "iopub.status.idle": "2023-03-07T16:15:15.183373Z",
     "shell.execute_reply": "2023-03-07T16:15:15.182789Z"
    },
    "papermill": {
     "duration": 0.015501,
     "end_time": "2023-03-07T16:15:15.184749",
     "exception": false,
     "start_time": "2023-03-07T16:15:15.169248",
     "status": "completed"
    },
    "scrolled": false,
    "tags": []
   },
   "outputs": [
    {
     "data": {
      "text/markdown": [
       "<div class=\"macros\" style=\"visibility:hidden;\">\n",
       "$\\newcommand{\\ensuremath}{}$\n",
       "$\\newcommand{\\xspace}{}$\n",
       "$\\newcommand{\\object}[1]{\\texttt{#1}}$\n",
       "$\\newcommand{\\farcs}{{.}''}$\n",
       "$\\newcommand{\\farcm}{{.}'}$\n",
       "$\\newcommand{\\arcsec}{''}$\n",
       "$\\newcommand{\\arcmin}{'}$\n",
       "$\\newcommand{\\ion}[2]{#1#2}$\n",
       "$\\newcommand{\\textsc}[1]{\\textrm{#1}}$\n",
       "$\\newcommand{\\hl}[1]{\\textrm{#1}}$\n",
       "$\\newcommand{\\OmCIV}{\\mbox{\\Omega_{\\rm C   \\textsc{iv}}}}$\n",
       "$\\newcommand{\\OmCII}{\\mbox{\\Omega_{\\rm C   \\textsc{ii}}}}$\n",
       "$\\newcommand{\\HII}{\\mbox{H \\textsc{ii}}}$\n",
       "$\\newcommand{\\CI}{\\mbox{C \\textsc{i}}}$\n",
       "$\\newcommand{\\CII}{\\mbox{C \\textsc{ii}}}$\n",
       "$\\newcommand{\\CIII}{\\mbox{C \\textsc{iii}}}$\n",
       "$\\newcommand{\\CIV}{\\mbox{C \\textsc{iv}}}$\n",
       "$\\newcommand{\\CV}{\\mbox{C \\textsc{v}}}$\n",
       "$\\newcommand{\\SiII}{\\mbox{Si \\textsc{ii}}}$\n",
       "$\\newcommand{\\SiIV}{\\mbox{Si \\textsc{iv}}}$\n",
       "$\\newcommand{\\NV}{\\mbox{N \\textsc{v}}}$\n",
       "$\\newcommand{\\HeII}{\\mbox{He \\textsc{ii}}}$\n",
       "$\\newcommand{\\FeII}{\\mbox{Fe \\textsc{ii}}}$\n",
       "$\\newcommand{\\MgII}{\\mbox{Mg \\textsc{ii}}}$\n",
       "$\\newcommand{\\OI}{\\mbox{O \\textsc{i}}}$\n",
       "$\\newcommand{\\Lya}{Ly\\alpha}$\n",
       "$\\newcommand{\\kms}{ km s^{-1}}$\n",
       "$\\newcommand{\\dndx}{dn/dX}$\n",
       "$\\newcommand{\\bibtex}{\\textsc{Bib}\\!\\TeX}$\n",
       "$\\newcommand{\\appropto}{\\mathrel{\\vcenter{$\n",
       "$  \\offinterlineskip\\halign{\\hfil##\\cr$\n",
       "$    \\propto\\cr\\noalign{\\kern2pt}\\sim\\cr\\noalign{\\kern-2pt}}}}}$</div>\n",
       "\n",
       "<div class=\"macros\" style=\"visibility:hidden;\">\n",
       "$\\newcommand{\\ensuremath}{}$\n",
       "$\\newcommand{\\xspace}{}$\n",
       "$\\newcommand{\\object}[1]{\\texttt{#1}}$\n",
       "$\\newcommand{\\farcs}{{.}''}$\n",
       "$\\newcommand{\\farcm}{{.}'}$\n",
       "$\\newcommand{\\arcsec}{''}$\n",
       "$\\newcommand{\\arcmin}{'}$\n",
       "$\\newcommand{\\ion}[2]{#1#2}$\n",
       "$\\newcommand{\\textsc}[1]{\\textrm{#1}}$\n",
       "$\\newcommand{\\hl}[1]{\\textrm{#1}}$\n",
       "$\\newcommand{\\OmCIV}{\\mbox{\\Omega_{\\rm C   \\textsc{iv}}}}$\n",
       "$\\newcommand{\\OmCII}{\\mbox{\\Omega_{\\rm C   \\textsc{ii}}}}$\n",
       "$\\newcommand{\\HII}{\\mbox{H \\textsc{ii}}}$\n",
       "$\\newcommand{\\CI}{\\mbox{C \\textsc{i}}}$\n",
       "$\\newcommand{\\CII}{\\mbox{C \\textsc{ii}}}$\n",
       "$\\newcommand{\\CIII}{\\mbox{C \\textsc{iii}}}$\n",
       "$\\newcommand{\\CIV}{\\mbox{C \\textsc{iv}}}$\n",
       "$\\newcommand{\\CV}{\\mbox{C \\textsc{v}}}$\n",
       "$\\newcommand{\\SiII}{\\mbox{Si \\textsc{ii}}}$\n",
       "$\\newcommand{\\SiIV}{\\mbox{Si \\textsc{iv}}}$\n",
       "$\\newcommand{\\NV}{\\mbox{N \\textsc{v}}}$\n",
       "$\\newcommand{\\HeII}{\\mbox{He \\textsc{ii}}}$\n",
       "$\\newcommand{\\FeII}{\\mbox{Fe \\textsc{ii}}}$\n",
       "$\\newcommand{\\MgII}{\\mbox{Mg \\textsc{ii}}}$\n",
       "$\\newcommand{\\OI}{\\mbox{O \\textsc{i}}}$\n",
       "$\\newcommand{\\Lya}{Ly\\alpha}$\n",
       "$\\newcommand{\\kms}{ km s^{-1}}$\n",
       "$\\newcommand{\\dndx}{dn/dX}$\n",
       "$\\newcommand{\\bibtex}{\\textsc{Bib}\\!\\TeX}$\n",
       "$\\newcommand{\\appropto}{\\mathrel{\\vcenter{$\n",
       "$  \\offinterlineskip\\halign{\\hfil##\\cr$\n",
       "$    \\propto\\cr\\noalign{\\kern2pt}\\sim\\cr\\noalign{\\kern-2pt}}}}}$</div>\n",
       "\n",
       "\n",
       "\n",
       "<div id=\"title\">\n",
       "\n",
       "# Examining the Decline in the C IV Content of the Universe over \\mbox{4.3 $\\lesssim z \\lesssim$ 6.3} using the E-XQR-30 Sample\n",
       "\n",
       "</div>\n",
       "<div id=\"comments\">\n",
       "\n",
       "[![arXiv](https://img.shields.io/badge/arXiv-2303.02816-b31b1b.svg)](https://arxiv.org/abs/2303.02816)<mark>Appeared on: 2023-03-07</mark> - _20 pages, 8 figures, 4 tables. Published in MNRAS_\n",
       "\n",
       "</div>\n",
       "<div id=\"authors\">\n",
       "\n",
       "<mark><mark>Rebecca L. Davies</mark></mark>, et al. -- incl., <mark><mark>Sarah E. I. Bosman</mark></mark>, <mark><mark>Romain A. Meyer</mark></mark>, <mark><mark>Frederick B. Davies</mark></mark>\n",
       "\n",
       "</div>\n",
       "<div id=\"abstract\">\n",
       "\n",
       "**Abstract:** Intervening \\CIV absorbers are key tracers of metal-enriched gas in galaxy halos over cosmic time. Previous studies suggest that the \\CIV cosmic mass density ( \\OmCIV ) decreases slowly over \\mbox{1.5 $\\lesssim z\\lesssim$ 5} before declining rapidly at \\mbox{$z\\gtrsim$ 5} , but the cause of this downturn is poorly understood. We characterize the \\OmCIV evolution over \\mbox{4.3 $\\lesssim z\\lesssim$ 6.3} using 260 absorbers found in 42 XSHOOTER spectra of $z\\sim$ 6 quasars, of which 30 come from the ESO Large Program XQR-30. The large sample enables us to robustly constrain the rate and timing of the downturn. We find that \\OmCIV decreases by a factor of 4.8 $\\pm$ 2.0 over the \\mbox{$\\sim$ 300 Myr} interval between $z\\sim$ 4.7 and $z\\sim$ 5.8. The slope of the column density ( $\\log N$ ) distribution function does not change, suggesting that \\CIV absorption is suppressed approximately uniformly across \\mbox{13.2 $\\leq\\log N$/cm$^{-2}$ $<$ 15.0} . Assuming that the carbon content of galaxy halos evolves as the integral of the cosmic star formation rate density (with some delay due to stellar lifetimes and outflow travel times), we show that chemical evolution alone could plausibly explain the fast decline in \\OmCIV over \\mbox{4.3 $\\lesssim z\\lesssim$ 6.3} . However, the \\CIV / \\CII ratio decreases at the highest redshifts, so the accelerated decline in \\OmCIV at $z\\gtrsim$ 5 may be more naturally explained by rapid changes in the gas ionization state driven by evolution of the UV background towards the end of hydrogen reionization.\n",
       "\n",
       "</div>\n",
       "\n",
       "<div id=\"div_fig1\">\n",
       "\n",
       "<img src=\"tmp_2303.02816/./CIV_sightlines.png\" alt=\"Fig4.1\" width=\"50%\"/><img src=\"tmp_2303.02816/./completeness_CIV.png\" alt=\"Fig4.2\" width=\"50%\"/>\n",
       "\n",
       "**Figure 4. -** Left: Illustration of the $\\CI$V absorber sample. Horizontal lines show the redshift intervals over which the search for $\\CI$V absorbers was conducted for each of the 42 quasar sightlines. Grey dashed regions highlight proximity zones within 10,000 $\\kms$ of the quasar redshift. Longer gaps trace redshift intervals where the $\\CI$V lines fall within BAL features or regions that were masked due to strong skyline or telluric contamination. The markers show all $\\CI$V absorbers in the catalog, where solid circles indicate primary absorbers (those that were automatically identified, pass the visual inspection check, and do not fall in masked wavelength regions or BAL regions) and open squares indicate secondary absorbers (all others). Proximate absorbers are shown in black. The intervening absorbers are split into two redshift bins (indicated by the marker color), divided at the path-length-weighted mean redshift of our survey. Right: Completeness as a function of column density for $\\CI$V absorbers in the two redshift intervals considered in \\citetalias{Davies22Survey}. The dashed lines show the best-fit arctan functions published in that work. (*fig:completeness*)\n",
       "\n",
       "</div>\n",
       "<div id=\"div_fig2\">\n",
       "\n",
       "<img src=\"tmp_2303.02816/./C_ion_fractions_13.2_15.0.png\" alt=\"Fig2\" width=\"100%\"/>\n",
       "\n",
       "**Figure 2. -** Bar graph illustrating the contribution of $\\CI$V and $\\CI$I to the cosmic mass density of carbon in each redshift bin. Vertical lines illustrate the measurement errors and are centered on the path-length-weighted mean redshift of each bin with small offsets added for clarity. We are unable to measure $\\OmCII$ in the two lowest redshift bins due to the saturation of the $\\Lya$ forest. The evolving balance between $\\OmCII$ and $\\OmCIV$ across the two highest redshift bins suggests that changes in the UV background driven by hydrogen reionization may contribute to the decline in $\\OmCIV$. (*fig:carbon_ion_fractions*)\n",
       "\n",
       "</div>\n",
       "<div id=\"div_fig3\">\n",
       "\n",
       "<img src=\"tmp_2303.02816/./c_ion_modelling.png\" alt=\"Fig3\" width=\"100%\"/>\n",
       "\n",
       "**Figure 3. -** Illustration of the possible ranges of gas densities probed by different ionization states of carbon at $z$ = 5 and $z$ = 6. The curves are the outputs of cloudy photoionization models. We fix the gas temperature to 10$^4$ K and adopt the 2011 update of the \\citet{FaucherGiguere09} ionizing spectrum with a density-dependent correction for gas self-shielding as described in \\citet{Keating16}. The ionizing spectrum is re-scaled at each redshift to match the H i photoionization rates measured by \\citet{Calverley11}. (*fig:cloudy_modelling*)\n",
       "\n",
       "</div>"
      ],
      "text/plain": [
       "<IPython.core.display.Markdown object>"
      ]
     },
     "metadata": {},
     "output_type": "display_data"
    }
   ],
   "source": [
    "[display(Markdown(k[1])) for k in documents];"
   ]
  },
  {
   "cell_type": "markdown",
   "id": "873873a4",
   "metadata": {
    "papermill": {
     "duration": 0.008899,
     "end_time": "2023-03-07T16:15:15.202569",
     "exception": false,
     "start_time": "2023-03-07T16:15:15.193670",
     "status": "completed"
    },
    "tags": []
   },
   "source": [
    "# Create HTML index"
   ]
  },
  {
   "cell_type": "code",
   "execution_count": 10,
   "id": "cf665672",
   "metadata": {
    "execution": {
     "iopub.execute_input": "2023-03-07T16:15:15.221666Z",
     "iopub.status.busy": "2023-03-07T16:15:15.221436Z",
     "iopub.status.idle": "2023-03-07T16:15:15.232481Z",
     "shell.execute_reply": "2023-03-07T16:15:15.231824Z"
    },
    "papermill": {
     "duration": 0.02246,
     "end_time": "2023-03-07T16:15:15.233923",
     "exception": false,
     "start_time": "2023-03-07T16:15:15.211463",
     "status": "completed"
    },
    "tags": []
   },
   "outputs": [
    {
     "name": "stdout",
     "output_type": "stream",
     "text": [
      "5  publications in the last 7 days.\n",
      "\t _build/html/2303.02816.md\n",
      "\t _build/html/2303.01528.md\n",
      "\t _build/html/2303.00044.md\n",
      "\t _build/html/2303.00012.md\n",
      "\t _build/html/2302.14137.md\n"
     ]
    }
   ],
   "source": [
    "from datetime import datetime, timedelta, timezone\n",
    "from glob import glob\n",
    "\n",
    "files = glob('_build/html/*.md')\n",
    "days = 7\n",
    "now = datetime.today()\n",
    "res = []\n",
    "for fk in files:\n",
    "    stat_result = os.stat(fk).st_ctime\n",
    "    modified = datetime.fromtimestamp(stat_result, tz=timezone.utc).replace(tzinfo=None)\n",
    "    delta = now.today() - modified\n",
    "    if delta <= timedelta(days=days):\n",
    "        res.append((delta.seconds, fk))\n",
    "res = [k[1] for k in reversed(sorted(res, key=lambda x:x[1]))]\n",
    "npub = len(res)\n",
    "print(len(res), f\" publications in the last {days:d} days.\")\n",
    "[ print('\\t', k) for k in res ];"
   ]
  },
  {
   "cell_type": "code",
   "execution_count": 11,
   "id": "015de740",
   "metadata": {
    "execution": {
     "iopub.execute_input": "2023-03-07T16:15:15.253735Z",
     "iopub.status.busy": "2023-03-07T16:15:15.253162Z",
     "iopub.status.idle": "2023-03-07T16:15:15.274747Z",
     "shell.execute_reply": "2023-03-07T16:15:15.274184Z"
    },
    "papermill": {
     "duration": 0.033854,
     "end_time": "2023-03-07T16:15:15.277060",
     "exception": false,
     "start_time": "2023-03-07T16:15:15.243206",
     "status": "completed"
    },
    "tags": []
   },
   "outputs": [
    {
     "name": "stdout",
     "output_type": "stream",
     "text": [
      "5  publications in the last 7 days.\n"
     ]
    }
   ],
   "source": [
    "import datetime\n",
    "from glob import glob\n",
    "\n",
    "def get_last_n_days(lst, days=1):\n",
    "    \"\"\" Get the documents from the last n days \"\"\"\n",
    "    sorted_lst = sorted(lst, key=lambda x: x[1], reverse=True)\n",
    "    for fname, date in sorted_lst:\n",
    "        if date >= str(datetime.date.today() - datetime.timedelta(days=days)):\n",
    "            yield fname\n",
    "\n",
    "def extract_appearance_dates(lst_file):\n",
    "    dates = []\n",
    "\n",
    "    def get_date(line):\n",
    "        return line\\\n",
    "            .split('Appeared on:')[-1]\\\n",
    "            .split('</mark>')[0].strip()\n",
    "\n",
    "    for fname in lst:\n",
    "        with open(fname, 'r') as f:\n",
    "            found_date = False\n",
    "            for line in f:\n",
    "                if not found_date:\n",
    "                    if \"Appeared on\" in line:\n",
    "                        found_date = True\n",
    "                        dates.append((fname, get_date(line)))\n",
    "                else:\n",
    "                    break\n",
    "    return dates\n",
    "\n",
    "from glob import glob\n",
    "lst = glob('_build/html/*md')\n",
    "days = 7\n",
    "dates = extract_appearance_dates(lst)\n",
    "res = list(get_last_n_days(dates, days))\n",
    "npub = len(res)\n",
    "print(len(res), f\" publications in the last {days:d} days.\")"
   ]
  },
  {
   "cell_type": "code",
   "execution_count": 12,
   "id": "52ca0208",
   "metadata": {
    "execution": {
     "iopub.execute_input": "2023-03-07T16:15:15.296741Z",
     "iopub.status.busy": "2023-03-07T16:15:15.296508Z",
     "iopub.status.idle": "2023-03-07T16:15:15.300692Z",
     "shell.execute_reply": "2023-03-07T16:15:15.300053Z"
    },
    "papermill": {
     "duration": 0.016133,
     "end_time": "2023-03-07T16:15:15.302387",
     "exception": false,
     "start_time": "2023-03-07T16:15:15.286254",
     "status": "completed"
    },
    "scrolled": false,
    "tags": []
   },
   "outputs": [],
   "source": [
    "def create_carousel(npub=4):\n",
    "    \"\"\" Generate the HTML code for a carousel with `npub` slides \"\"\"\n",
    "    carousel = [\"\"\"  <div class=\"carousel\" \"\"\",\n",
    "                \"\"\"       data-flickity='{ \"autoPlay\": 10000, \"adaptiveHeight\": true, \"resize\": true, \"wrapAround\": true, \"pauseAutoPlayOnHover\": true, \"groupCells\": 1 }' id=\"asyncTypeset\">\"\"\"\n",
    "                ]\n",
    "    \n",
    "    item_str = \"\"\"    <div class=\"carousel-cell\"> <div id=\"slide{k}\" class=\"md_view\">Content {k}</div> </div>\"\"\"\n",
    "    for k in range(1, npub + 1):\n",
    "        carousel.append(item_str.format(k=k))\n",
    "    carousel.append(\"  </div>\")\n",
    "    return '\\n'.join(carousel)"
   ]
  },
  {
   "cell_type": "code",
   "execution_count": 13,
   "id": "a6eac5b6",
   "metadata": {
    "execution": {
     "iopub.execute_input": "2023-03-07T16:15:15.322310Z",
     "iopub.status.busy": "2023-03-07T16:15:15.322089Z",
     "iopub.status.idle": "2023-03-07T16:15:15.327040Z",
     "shell.execute_reply": "2023-03-07T16:15:15.326548Z"
    },
    "papermill": {
     "duration": 0.016618,
     "end_time": "2023-03-07T16:15:15.328399",
     "exception": false,
     "start_time": "2023-03-07T16:15:15.311781",
     "status": "completed"
    },
    "scrolled": false,
    "tags": []
   },
   "outputs": [],
   "source": [
    "carousel = create_carousel(npub)\n",
    "docs = ', '.join(['\"{0:s}\"'.format(k.split('/')[-1]) for k in res])\n",
    "slides = ', '.join([f'\"slide{k}\"' for k in range(1, npub + 1)])\n",
    "\n",
    "with open(\"daily_template.html\", \"r\") as tpl:\n",
    "    page = tpl.read()\n",
    "    page = page.replace(\"{%-- carousel:s --%}\", carousel)\\\n",
    "               .replace(\"{%-- suptitle:s --%}\",  \"7-day archives\" )\\\n",
    "               .replace(\"{%-- docs:s --%}\", docs)\\\n",
    "               .replace(\"{%-- slides:s --%}\", slides)\n",
    "    \n",
    "with open(\"_build/html/index_7days.html\", 'w') as fout:\n",
    "    fout.write(page)"
   ]
  },
  {
   "cell_type": "code",
   "execution_count": 14,
   "id": "adc1a1ec",
   "metadata": {
    "execution": {
     "iopub.execute_input": "2023-03-07T16:15:15.374981Z",
     "iopub.status.busy": "2023-03-07T16:15:15.374293Z",
     "iopub.status.idle": "2023-03-07T16:15:15.381481Z",
     "shell.execute_reply": "2023-03-07T16:15:15.380852Z"
    },
    "papermill": {
     "duration": 0.045201,
     "end_time": "2023-03-07T16:15:15.382904",
     "exception": false,
     "start_time": "2023-03-07T16:15:15.337703",
     "status": "completed"
    },
    "tags": []
   },
   "outputs": [
    {
     "name": "stdout",
     "output_type": "stream",
     "text": [
      "2  publications in the last day.\n"
     ]
    }
   ],
   "source": [
    "# redo for today\n",
    "days = 1\n",
    "res = list(get_last_n_days(dates, days))\n",
    "npub = len(res)\n",
    "print(len(res), f\" publications in the last day.\")\n",
    "\n",
    "carousel = create_carousel(npub)\n",
    "docs = ', '.join(['\"{0:s}\"'.format(k.split('/')[-1]) for k in res])\n",
    "slides = ', '.join([f'\"slide{k}_content\"' for k in range(1, npub + 1)])\n",
    "\n",
    "with open(\"daily_template.html\", \"r\") as tpl:\n",
    "    page = tpl.read()\n",
    "    page = page.replace(\"{%-- carousel:s --%}\", carousel)\\\n",
    "               .replace(\"{%-- suptitle:s --%}\",  \"Daily\" )\\\n",
    "               .replace(\"{%-- docs:s --%}\", docs)\\\n",
    "               .replace(\"{%-- slides:s --%}\", slides)\n",
    "    \n",
    "\n",
    "with open(\"_build/html/index_daily.html\", 'w') as fout:\n",
    "    fout.write(page)"
   ]
  },
  {
   "cell_type": "code",
   "execution_count": 17,
   "id": "514fd313",
   "metadata": {},
   "outputs": [
    {
     "name": "stdout",
     "output_type": "stream",
     "text": [
      "<!DOCTYPE html>\n",
      "<html lang=\"en\">\n",
      "\n",
      "<head>\n",
      "    <meta charset=\"utf-8\">\n",
      "    <meta name=\"viewport\" content=\"width=device-width, initial-scale=1.0\" />\n",
      "    <!-- Remove caching as much as possible -->\n",
      "    <meta http-equiv=\"cache-control\" content=\"no-cache\" />\n",
      "    <meta http-equiv=\"Pragma\" content=\"no-cache\" />\n",
      "    <meta http-equiv=\"Expires\" content=\"-1\" />\n",
      "    <!-- flickity bootstrap CSS -->\n",
      "    <link rel=\"stylesheet\" href=\"https://unpkg.com/flickity@2/dist/flickity.min.css\">\n",
      "    <!-- Bootstrap CSS -->\n",
      "    <link href=\"https://cdn.jsdelivr.net/npm/bootstrap@5.0.2/dist/css/bootstrap.min.css\" rel=\"stylesheet\"\n",
      "        integrity=\"sha384-EVSTQN3/azprG1Anm3QDgpJLIm9Nao0Yz1ztcQTwFspd3yD65VohhpuuCOmLASjC\" crossorigin=\"anonymous\">\n",
      "    <!-- highlight.js CSS -->\n",
      "    <link rel=\"stylesheet\" href=\"https://cdnjs.cloudflare.com/ajax/libs/highlight.js/11.1.0/styles/default.min.css\">\n",
      "    <!-- flickity local CSS -->\n",
      "    <link rel=\"stylesheet\" href=\"flickity.css\">\n",
      "    <!-- markdown local CSS -->\n",
      "    <link rel=\"stylesheet\" href=\"markdown.css\">\n",
      "\n",
      "    <link rel=\"icon\" type=\"image/x-icon\"\n",
      "        href=\"https://www.mpia.de/assets/touch-icon-32x32-a66937bcebc4e8894ebff1f41a366c7c7220fd97a38869ee0f2db65a9f59b6c1.png\">\n",
      "    <title>MPIA Arxiv on deck!</title>\n",
      "</head>\n",
      "\n",
      "<body>\n",
      "    <div id=\"header\"> <img src=\"header_banner.png\" width=\"100%\"></div>\n",
      "    <div id=\"suptitle\"> Daily </div>\n",
      "    <div id=\"info\">\n",
      "        <img src=\"https://pngimg.com/uploads/github/github_PNG58.png\" height=30rem></img>\n",
      "        <a href=https://github.com/mpi-astronomy/arxiv_display style=\"color:black;\">github/mpi-astronomy/arxiv_display</a>\n",
      "    </div>\n",
      "\n",
      "    <!-- Flickity HTML init -->\n",
      "      <div class=\"carousel\" \n",
      "       data-flickity='{ \"autoPlay\": 10000, \"adaptiveHeight\": true, \"resize\": true, \"wrapAround\": true, \"pauseAutoPlayOnHover\": true, \"groupCells\": 1 }' id=\"asyncTypeset\">\n",
      "    <div class=\"carousel-cell\"> <div id=\"slide1\" class=\"md_view\">Content 1</div> </div>\n",
      "    <div class=\"carousel-cell\"> <div id=\"slide2\" class=\"md_view\">Content 2</div> </div>\n",
      "  </div>\n",
      "\n",
      "</body>\n",
      "\n",
      "<script src=\"//cdnjs.cloudflare.com/ajax/libs/jquery/2.1.3/jquery.min.js\"></script>\n",
      "<script src=\"https://unpkg.com/flickity@2/dist/flickity.pkgd.min.js\"></script>\n",
      "<script src=\"https://cdnjs.cloudflare.com/ajax/libs/highlight.js/11.5.0/highlight.min.js\"></script>\n",
      "<!-- marked.js -->\n",
      "<script src=\"https://cdn.jsdelivr.net/npm/marked/marked.min.js\"></script>\n",
      "<!-- MD content -->\n",
      "<script>\n",
      "    const docs = [\"2303.02816.md\", \"2303.01528.md\"];\n",
      "    const slides = [\"slide1_content\", \"slide2_content\"];\n",
      "\n",
      "    async function run() {\n",
      "        for (let i = 0; i < docs.length; i++) {\n",
      "            let file = await fetch(docs[i]);\n",
      "            let text = await file.text()\n",
      "            document.getElementById(slides[i]).innerHTML =\n",
      "                marked.parse(text);\n",
      "        }\n",
      "        hljs.highlightAll();\n",
      "    }\n",
      "    run()\n",
      "</script>\n",
      "<!-- Mathjax 3 -->\n",
      "<script type=\"text/javascript\" id=\"MathJax-config\" src=\"mathjax_config.js\"> </script>\n",
      "<script type=\"text/javascript\" id=\"MathJax-script\" async src=\"https://cdn.jsdelivr.net/npm/mathjax@3/es5/tex-svg.js\"></script>\n",
      "<!-- Mathjax 3 async promise refresh for dynamic text -->\n",
      "<script>\n",
      "    const asyncTypeset = document.querySelector('#asyncTypeset')\n",
      "    setTimeout(async function () {\n",
      "        await MathJax.typesetPromise().catch((err) => console.log('Typeset failed: ' + err.message));\n",
      "        console.log('refreshed MathJax typeset');\n",
      "    }, 3000)\n",
      "</script>\n",
      "\n",
      "</html>\n"
     ]
    }
   ],
   "source": [
    "print(page)"
   ]
  },
  {
   "cell_type": "code",
   "execution_count": null,
   "id": "238064c0",
   "metadata": {},
   "outputs": [],
   "source": []
  }
 ],
 "metadata": {
  "kernelspec": {
   "display_name": "Python 3 (ipykernel)",
   "language": "python",
   "name": "python3"
  },
  "language_info": {
   "codemirror_mode": {
    "name": "ipython",
    "version": 3
   },
   "file_extension": ".py",
   "mimetype": "text/x-python",
   "name": "python",
   "nbconvert_exporter": "python",
   "pygments_lexer": "ipython3",
   "version": "3.10.9"
  },
  "papermill": {
   "default_parameters": {},
   "duration": 62.483498,
   "end_time": "2023-03-07T16:15:15.609639",
   "environment_variables": {},
   "exception": null,
   "input_path": "MPIA daily digest.ipynb",
   "output_path": "log.ipynb",
   "parameters": {},
   "start_time": "2023-03-07T16:14:13.126141",
   "version": "2.4.0"
  },
  "vscode": {
   "interpreter": {
    "hash": "aee8b7b246df8f9039afb4144a1f6fd8d2ca17a180786b69acc140d282b71a49"
   }
  },
  "widgets": {
   "application/vnd.jupyter.widget-state+json": {
    "state": {
     "030906d311bf4fd78f512546234abc3d": {
      "model_module": "@jupyter-widgets/controls",
      "model_module_version": "2.0.0",
      "model_name": "ProgressStyleModel",
      "state": {
       "_model_module": "@jupyter-widgets/controls",
       "_model_module_version": "2.0.0",
       "_model_name": "ProgressStyleModel",
       "_view_count": null,
       "_view_module": "@jupyter-widgets/base",
       "_view_module_version": "2.0.0",
       "_view_name": "StyleView",
       "bar_color": null,
       "description_width": ""
      }
     },
     "1a591fde247a47cbaa6f8939fb00d983": {
      "model_module": "@jupyter-widgets/controls",
      "model_module_version": "2.0.0",
      "model_name": "HTMLStyleModel",
      "state": {
       "_model_module": "@jupyter-widgets/controls",
       "_model_module_version": "2.0.0",
       "_model_name": "HTMLStyleModel",
       "_view_count": null,
       "_view_module": "@jupyter-widgets/base",
       "_view_module_version": "2.0.0",
       "_view_name": "StyleView",
       "background": null,
       "description_width": "",
       "font_size": null,
       "text_color": null
      }
     },
     "1ef3f820efe7496387510ad70bf8489f": {
      "model_module": "@jupyter-widgets/controls",
      "model_module_version": "2.0.0",
      "model_name": "HTMLModel",
      "state": {
       "_dom_classes": [],
       "_model_module": "@jupyter-widgets/controls",
       "_model_module_version": "2.0.0",
       "_model_name": "HTMLModel",
       "_view_count": null,
       "_view_module": "@jupyter-widgets/controls",
       "_view_module_version": "2.0.0",
       "_view_name": "HTMLView",
       "description": "",
       "description_allow_html": false,
       "layout": "IPY_MODEL_b14094542a6f44a8bd9ce8f56ceac463",
       "placeholder": "​",
       "style": "IPY_MODEL_21e295ac9b614527b4e506b0323af3b2",
       "tabbable": null,
       "tooltip": null,
       "value": " 20/20 [00:35&lt;00:00,  1.26s/it]"
      }
     },
     "21e295ac9b614527b4e506b0323af3b2": {
      "model_module": "@jupyter-widgets/controls",
      "model_module_version": "2.0.0",
      "model_name": "HTMLStyleModel",
      "state": {
       "_model_module": "@jupyter-widgets/controls",
       "_model_module_version": "2.0.0",
       "_model_name": "HTMLStyleModel",
       "_view_count": null,
       "_view_module": "@jupyter-widgets/base",
       "_view_module_version": "2.0.0",
       "_view_name": "StyleView",
       "background": null,
       "description_width": "",
       "font_size": null,
       "text_color": null
      }
     },
     "2f65d748c3d6447b8b28fb87ab9a12e7": {
      "model_module": "@jupyter-widgets/base",
      "model_module_version": "2.0.0",
      "model_name": "LayoutModel",
      "state": {
       "_model_module": "@jupyter-widgets/base",
       "_model_module_version": "2.0.0",
       "_model_name": "LayoutModel",
       "_view_count": null,
       "_view_module": "@jupyter-widgets/base",
       "_view_module_version": "2.0.0",
       "_view_name": "LayoutView",
       "align_content": null,
       "align_items": null,
       "align_self": null,
       "border_bottom": null,
       "border_left": null,
       "border_right": null,
       "border_top": null,
       "bottom": null,
       "display": null,
       "flex": null,
       "flex_flow": null,
       "grid_area": null,
       "grid_auto_columns": null,
       "grid_auto_flow": null,
       "grid_auto_rows": null,
       "grid_column": null,
       "grid_gap": null,
       "grid_row": null,
       "grid_template_areas": null,
       "grid_template_columns": null,
       "grid_template_rows": null,
       "height": null,
       "justify_content": null,
       "justify_items": null,
       "left": null,
       "margin": null,
       "max_height": null,
       "max_width": null,
       "min_height": null,
       "min_width": null,
       "object_fit": null,
       "object_position": null,
       "order": null,
       "overflow": null,
       "padding": null,
       "right": null,
       "top": null,
       "visibility": null,
       "width": null
      }
     },
     "4f308746b0814e169a024fa97c9f9882": {
      "model_module": "@jupyter-widgets/base",
      "model_module_version": "2.0.0",
      "model_name": "LayoutModel",
      "state": {
       "_model_module": "@jupyter-widgets/base",
       "_model_module_version": "2.0.0",
       "_model_name": "LayoutModel",
       "_view_count": null,
       "_view_module": "@jupyter-widgets/base",
       "_view_module_version": "2.0.0",
       "_view_name": "LayoutView",
       "align_content": null,
       "align_items": null,
       "align_self": null,
       "border_bottom": null,
       "border_left": null,
       "border_right": null,
       "border_top": null,
       "bottom": null,
       "display": null,
       "flex": null,
       "flex_flow": null,
       "grid_area": null,
       "grid_auto_columns": null,
       "grid_auto_flow": null,
       "grid_auto_rows": null,
       "grid_column": null,
       "grid_gap": null,
       "grid_row": null,
       "grid_template_areas": null,
       "grid_template_columns": null,
       "grid_template_rows": null,
       "height": null,
       "justify_content": null,
       "justify_items": null,
       "left": null,
       "margin": null,
       "max_height": null,
       "max_width": null,
       "min_height": null,
       "min_width": null,
       "object_fit": null,
       "object_position": null,
       "order": null,
       "overflow": null,
       "padding": null,
       "right": null,
       "top": null,
       "visibility": null,
       "width": null
      }
     },
     "82ff502819094449a13b88c29b8885c6": {
      "model_module": "@jupyter-widgets/controls",
      "model_module_version": "2.0.0",
      "model_name": "HBoxModel",
      "state": {
       "_dom_classes": [],
       "_model_module": "@jupyter-widgets/controls",
       "_model_module_version": "2.0.0",
       "_model_name": "HBoxModel",
       "_view_count": null,
       "_view_module": "@jupyter-widgets/controls",
       "_view_module_version": "2.0.0",
       "_view_name": "HBoxView",
       "box_style": "",
       "children": [
        "IPY_MODEL_c275c40b30f0427ba9a5a405f7797a5a",
        "IPY_MODEL_bfd9d9ee20784f57b13865dddfa59f24",
        "IPY_MODEL_1ef3f820efe7496387510ad70bf8489f"
       ],
       "layout": "IPY_MODEL_2f65d748c3d6447b8b28fb87ab9a12e7",
       "tabbable": null,
       "tooltip": null
      }
     },
     "b14094542a6f44a8bd9ce8f56ceac463": {
      "model_module": "@jupyter-widgets/base",
      "model_module_version": "2.0.0",
      "model_name": "LayoutModel",
      "state": {
       "_model_module": "@jupyter-widgets/base",
       "_model_module_version": "2.0.0",
       "_model_name": "LayoutModel",
       "_view_count": null,
       "_view_module": "@jupyter-widgets/base",
       "_view_module_version": "2.0.0",
       "_view_name": "LayoutView",
       "align_content": null,
       "align_items": null,
       "align_self": null,
       "border_bottom": null,
       "border_left": null,
       "border_right": null,
       "border_top": null,
       "bottom": null,
       "display": null,
       "flex": null,
       "flex_flow": null,
       "grid_area": null,
       "grid_auto_columns": null,
       "grid_auto_flow": null,
       "grid_auto_rows": null,
       "grid_column": null,
       "grid_gap": null,
       "grid_row": null,
       "grid_template_areas": null,
       "grid_template_columns": null,
       "grid_template_rows": null,
       "height": null,
       "justify_content": null,
       "justify_items": null,
       "left": null,
       "margin": null,
       "max_height": null,
       "max_width": null,
       "min_height": null,
       "min_width": null,
       "object_fit": null,
       "object_position": null,
       "order": null,
       "overflow": null,
       "padding": null,
       "right": null,
       "top": null,
       "visibility": null,
       "width": null
      }
     },
     "bfd9d9ee20784f57b13865dddfa59f24": {
      "model_module": "@jupyter-widgets/controls",
      "model_module_version": "2.0.0",
      "model_name": "FloatProgressModel",
      "state": {
       "_dom_classes": [],
       "_model_module": "@jupyter-widgets/controls",
       "_model_module_version": "2.0.0",
       "_model_name": "FloatProgressModel",
       "_view_count": null,
       "_view_module": "@jupyter-widgets/controls",
       "_view_module_version": "2.0.0",
       "_view_name": "ProgressView",
       "bar_style": "success",
       "description": "",
       "description_allow_html": false,
       "layout": "IPY_MODEL_4f308746b0814e169a024fa97c9f9882",
       "max": 20,
       "min": 0,
       "orientation": "horizontal",
       "style": "IPY_MODEL_030906d311bf4fd78f512546234abc3d",
       "tabbable": null,
       "tooltip": null,
       "value": 20
      }
     },
     "c275c40b30f0427ba9a5a405f7797a5a": {
      "model_module": "@jupyter-widgets/controls",
      "model_module_version": "2.0.0",
      "model_name": "HTMLModel",
      "state": {
       "_dom_classes": [],
       "_model_module": "@jupyter-widgets/controls",
       "_model_module_version": "2.0.0",
       "_model_name": "HTMLModel",
       "_view_count": null,
       "_view_module": "@jupyter-widgets/controls",
       "_view_module_version": "2.0.0",
       "_view_name": "HTMLView",
       "description": "",
       "description_allow_html": false,
       "layout": "IPY_MODEL_de52f6458af744c986d431371cb39ca0",
       "placeholder": "​",
       "style": "IPY_MODEL_1a591fde247a47cbaa6f8939fb00d983",
       "tabbable": null,
       "tooltip": null,
       "value": "100%"
      }
     },
     "de52f6458af744c986d431371cb39ca0": {
      "model_module": "@jupyter-widgets/base",
      "model_module_version": "2.0.0",
      "model_name": "LayoutModel",
      "state": {
       "_model_module": "@jupyter-widgets/base",
       "_model_module_version": "2.0.0",
       "_model_name": "LayoutModel",
       "_view_count": null,
       "_view_module": "@jupyter-widgets/base",
       "_view_module_version": "2.0.0",
       "_view_name": "LayoutView",
       "align_content": null,
       "align_items": null,
       "align_self": null,
       "border_bottom": null,
       "border_left": null,
       "border_right": null,
       "border_top": null,
       "bottom": null,
       "display": null,
       "flex": null,
       "flex_flow": null,
       "grid_area": null,
       "grid_auto_columns": null,
       "grid_auto_flow": null,
       "grid_auto_rows": null,
       "grid_column": null,
       "grid_gap": null,
       "grid_row": null,
       "grid_template_areas": null,
       "grid_template_columns": null,
       "grid_template_rows": null,
       "height": null,
       "justify_content": null,
       "justify_items": null,
       "left": null,
       "margin": null,
       "max_height": null,
       "max_width": null,
       "min_height": null,
       "min_width": null,
       "object_fit": null,
       "object_position": null,
       "order": null,
       "overflow": null,
       "padding": null,
       "right": null,
       "top": null,
       "visibility": null,
       "width": null
      }
     }
    },
    "version_major": 2,
    "version_minor": 0
   }
  }
 },
 "nbformat": 4,
 "nbformat_minor": 5
}
