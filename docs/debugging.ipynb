{
 "cells": [
  {
   "cell_type": "markdown",
   "id": "a37a5752",
   "metadata": {},
   "source": [
    "# MPIA Arxiv on Deck 2: Debugging notebook\n",
    "\n",
    "In this notebook, I keep some first order commands for diagnostic of issues with papers.\n",
    "Main definitions are taken from the main notebook."
   ]
  },
  {
   "cell_type": "code",
   "execution_count": 1,
   "id": "7d232022",
   "metadata": {},
   "outputs": [],
   "source": [
    "# Imports\n",
    "import os\n",
    "from IPython.display import Markdown, display\n",
    "from tqdm.notebook import tqdm\n",
    "import warnings\n",
    "from PIL import Image \n",
    "\n",
    "# requires arxiv_on_deck_2\n",
    "\n",
    "from arxiv_on_deck_2.arxiv2 import (get_new_papers, \n",
    "                                    get_paper_from_identifier,\n",
    "                                    retrieve_document_source, \n",
    "                                    get_markdown_badge)\n",
    "from arxiv_on_deck_2 import (latex,\n",
    "                             latex_bib,\n",
    "                             mpia,\n",
    "                             highlight_authors_in_list)\n",
    "\n",
    "# Sometimes images are really big\n",
    "Image.MAX_IMAGE_PIXELS = 1000000000 \n",
    "\n",
    "# Some useful definitions.\n",
    "class AffiliationWarning(UserWarning):\n",
    "    pass\n",
    "\n",
    "class AffiliationError(RuntimeError):\n",
    "    pass\n",
    "\n",
    "def validation(source: str):\n",
    "    \"\"\"Raises error paper during parsing of source file\n",
    "    \n",
    "    Allows checks before parsing TeX code.\n",
    "    \n",
    "    Raises AffiliationWarning\n",
    "    \"\"\"\n",
    "    check = mpia.affiliation_verifications(source, verbose=True)\n",
    "    if check is not True:\n",
    "        raise AffiliationError(\"mpia.affiliation_verifications: \" + check)\n",
    "\n",
    "        \n",
    "warnings.simplefilter('always', AffiliationWarning)"
   ]
  },
  {
   "cell_type": "markdown",
   "id": "6faf91a3",
   "metadata": {},
   "source": [
    "We get the author list from the MPIA website"
   ]
  },
  {
   "cell_type": "code",
   "execution_count": 4,
   "id": "94dc07a4",
   "metadata": {},
   "outputs": [],
   "source": [
    "# !rm -f tmp_mpia_authors.yml"
   ]
  },
  {
   "cell_type": "code",
   "execution_count": 5,
   "id": "d2dc3fa8",
   "metadata": {},
   "outputs": [
    {
     "name": "stdout",
     "output_type": "stream",
     "text": [
      "`mpia.get_mpia_mitarbeiter_list()`: cannot be restored from cache.\n"
     ]
    }
   ],
   "source": [
    "# Getting the list of authors can take sometimes (internet connection)\n",
    "# Caching the MPIA author list to avoid running this line every time we restart the kernel.\n",
    "import yaml\n",
    "try:\n",
    "    with open('tmp_mpia_authors.yml', 'r') as fin:\n",
    "        mpia_authors = yaml.load(fin, yaml.BaseLoader)\n",
    "    print(\"`mpia.get_mpia_mitarbeiter_list()`: restored from cache\")\n",
    "except FileNotFoundError:\n",
    "    print(\"`mpia.get_mpia_mitarbeiter_list()`: cannot be restored from cache.\")\n",
    "    # get list from MPIA website\n",
    "    # it automatically filters identified non-scientists :func:`mpia.filter_non_scientists`\n",
    "    mpia_authors = mpia.get_mpia_mitarbeiter_list()\n",
    "    with open('tmp_mpia_authors.yml', 'w') as fout:\n",
    "        fout.write(yaml.dump(mpia_authors))"
   ]
  },
  {
   "cell_type": "markdown",
   "id": "1464cd28",
   "metadata": {},
   "source": [
    "We get the paper to debug"
   ]
  },
  {
   "cell_type": "code",
   "execution_count": 6,
   "id": "ec77bbda",
   "metadata": {},
   "outputs": [
    {
     "data": {
      "text/markdown": [
       "\n",
       "|||\n",
       "|---:|:---|\n",
       "| [![arXiv](https://img.shields.io/badge/arXiv-2409.13189-b31b1b.svg)](https://arxiv.org/abs/2409.13189) | **Fast Outflow in the Host Galaxy of the Luminous z $=$ 7.5 Quasar J1007$+$2115**  |\n",
       "|| Weizhe Liu, et al. |\n",
       "|*Appeared on*| *2024-09-20*|\n",
       "|*Comments*| **|\n",
       "|**Abstract**| James Webb Space Telescope opens a new window to directly probe luminous quasars powered by billion solar mass black holes in the epoch of reionization and their co-evolution with massive galaxies with unprecedented details. In this paper, we report the first results from the deep NIRSpec integral field spectroscopy study of a quasar at $z = 7.5$. We obtain a bolometric luminosity of $\\sim$$1.8\\times10^{47}$ erg s$^{-1}$ and a black hole mass of $\\sim$0.7--2.5$\\times10^{9}$ M$_{\\odot}$ based on H$\\beta$ emission line from the quasar spectrum. We discover $\\sim$2 kpc scale, highly blueshifted ($\\sim$$-$870 km/s) and broad ($\\sim$1400 km/s) [O III] line emission after the quasar PSF has been subtracted. Such line emission most likely originates from a fast, quasar-driven outflow, the earliest one on galactic-scale known so far. The dynamical properties of this outflow fall within the typical ranges of quasar-driven outflows at lower redshift, and the outflow may be fast enough to reach the circumgalactic medium. Combining both the extended and nuclear outflow together, the mass outflow rate, $\\sim$300 M$_{\\odot}$yr, is $\\sim$60%--380% of the star formation rate of the quasar host galaxy, suggesting that the outflow may expel a significant amount of gas from the inner region of the galaxy. The kinetic energy outflow rate, $\\sim$3.6$\\times10^{44}$ erg s$^{-1}$, is $\\sim$0.2% of the quasar bolometric luminosity, which is comparable to the minimum value required for negative feedback based on simulation predictions. The dynamical timescale of the extended outflow is $\\sim$1.7 Myr, consistent with the typical quasar lifetime in this era.|"
      ],
      "text/plain": [
       "[2409.13189] Fast Outflow in the Host Galaxy of the Luminous z $=$ 7.5 Quasar J1007$+$2115\n",
       "\tWeizhe Liu, et al."
      ]
     },
     "execution_count": 6,
     "metadata": {},
     "output_type": "execute_result"
    }
   ],
   "source": [
    "which = \"2409.13189\"\n",
    "paper = get_paper_from_identifier(which)\n",
    "paper"
   ]
  },
  {
   "cell_type": "code",
   "execution_count": 7,
   "id": "9d005322",
   "metadata": {},
   "outputs": [],
   "source": [
    "import re\n",
    "from typing import Sequence\n",
    "\n",
    "def author_match(author: str, hl_list: Sequence[str], verbose=False) -> Sequence[str]:\n",
    "    \"\"\" Matching author names with a family name reference list\n",
    "    \n",
    "    :param author: the author string to check\n",
    "    :param hl_list: the list of reference authors to match\n",
    "    :param verbose: prints matching results if set\n",
    "    :return: the matching sequences or empty sequence if None\n",
    "    \"\"\"\n",
    "    for hl in hl_list:\n",
    "        match = re.findall(r\"\\b{:s}\\b\".format(author), hl, re.IGNORECASE)\n",
    "        if match:\n",
    "            if verbose:\n",
    "                print(author, ' -> ',  hl, ' | ', match)\n",
    "            return match\n",
    "        \n",
    "from typing import Sequence\n",
    "\n",
    "def highlight_authors_in_list(author_list: Sequence[str], \n",
    "                              hl_list: Sequence[str], \n",
    "                              verbose: bool = False) -> Sequence[str]:\n",
    "    \"\"\" highlight all authors of the paper that match `lst` entries\n",
    "\n",
    "    :param author_list: the list of authors\n",
    "    :param hl_list: the list of authors to highlight\n",
    "    :param verbose: prints matching results if set\n",
    "    :return: the list of authors with the highlighted authors\n",
    "    \"\"\"\n",
    "    new_authors = []\n",
    "    for author in author_list:\n",
    "        match = author_match(author, hl_list, verbose)\n",
    "        if match:\n",
    "            new_authors.append(f\"<mark>{author}</mark>\")\n",
    "        else:\n",
    "            new_authors.append(f\"{author}\")\n",
    "    return new_authors"
   ]
  },
  {
   "cell_type": "code",
   "execution_count": 8,
   "id": "3c199068",
   "metadata": {},
   "outputs": [
    {
     "name": "stdout",
     "output_type": "stream",
     "text": [
      "E. Bañados  ->  E. Bañados  |  ['E. Bañados']\n",
      "J. Wolf  ->  D. J. Wolf  |  ['J. Wolf']\n"
     ]
    },
    {
     "data": {
      "text/markdown": [
       "\n",
       "|||\n",
       "|---:|:---|\n",
       "| [![arXiv](https://img.shields.io/badge/arXiv-2409.13189-b31b1b.svg)](https://arxiv.org/abs/2409.13189) | **Fast Outflow in the Host Galaxy of the Luminous z $=$ 7.5 Quasar J1007$+$2115**  |\n",
       "|| W. Liu, et al. -- incl., <mark>E. Bañados</mark>, <mark>J. Wolf</mark> |\n",
       "|*Appeared on*| *2024-09-20*|\n",
       "|*Comments*| **|\n",
       "|**Abstract**| James Webb Space Telescope opens a new window to directly probe luminous quasars powered by billion solar mass black holes in the epoch of reionization and their co-evolution with massive galaxies with unprecedented details. In this paper, we report the first results from the deep NIRSpec integral field spectroscopy study of a quasar at $z = 7.5$. We obtain a bolometric luminosity of $\\sim$$1.8\\times10^{47}$ erg s$^{-1}$ and a black hole mass of $\\sim$0.7--2.5$\\times10^{9}$ M$_{\\odot}$ based on H$\\beta$ emission line from the quasar spectrum. We discover $\\sim$2 kpc scale, highly blueshifted ($\\sim$$-$870 km/s) and broad ($\\sim$1400 km/s) [O III] line emission after the quasar PSF has been subtracted. Such line emission most likely originates from a fast, quasar-driven outflow, the earliest one on galactic-scale known so far. The dynamical properties of this outflow fall within the typical ranges of quasar-driven outflows at lower redshift, and the outflow may be fast enough to reach the circumgalactic medium. Combining both the extended and nuclear outflow together, the mass outflow rate, $\\sim$300 M$_{\\odot}$yr, is $\\sim$60%--380% of the star formation rate of the quasar host galaxy, suggesting that the outflow may expel a significant amount of gas from the inner region of the galaxy. The kinetic energy outflow rate, $\\sim$3.6$\\times10^{44}$ erg s$^{-1}$, is $\\sim$0.2% of the quasar bolometric luminosity, which is comparable to the minimum value required for negative feedback based on simulation predictions. The dynamical timescale of the extended outflow is $\\sim$1.7 Myr, consistent with the typical quasar lifetime in this era.|"
      ],
      "text/plain": [
       "[2409.13189] Fast Outflow in the Host Galaxy of the Luminous z $=$ 7.5 Quasar J1007$+$2115\n",
       "\tW. Liu, et al. -- incl., <mark>E. Bañados</mark>, <mark>J. Wolf</mark>"
      ]
     },
     "execution_count": 8,
     "metadata": {},
     "output_type": "execute_result"
    }
   ],
   "source": [
    "# Check author list with their initials\n",
    "normed_author_list = [mpia.get_initials(k) for k in paper['authors']]\n",
    "normed_mpia_authors = [k[1] for k in mpia_authors]\n",
    "hl_authors = highlight_authors_in_list(normed_author_list, normed_mpia_authors, verbose=True)\n",
    "matches = [(hl, orig) for hl, orig in zip(hl_authors, paper['authors']) if 'mark' in hl]\n",
    "if not matches:\n",
    "    warnings.warn(AffiliationWarning(\"WARNING: This paper does not seem to have MPIA authors.\"))\n",
    "    \n",
    "paper['authors'] = hl_authors\n",
    "paper"
   ]
  },
  {
   "cell_type": "markdown",
   "id": "f295192e",
   "metadata": {},
   "source": [
    "We get the (TeX) source\n",
    "* retrieve the tarball\n",
    "* find the main tex file and parse it\n",
    "* parse for affiliations (but debugging so we do not stop if not found)\n",
    "* generate the the output markdown"
   ]
  },
  {
   "cell_type": "code",
   "execution_count": 9,
   "id": "14ed8746",
   "metadata": {},
   "outputs": [],
   "source": [
    "def get_markdown_qrcode(paper_id: str):\n",
    "    \"\"\" Generate a qrcode to the arxiv page using qrserver.com\n",
    "    \n",
    "    :param paper: Arxiv paper\n",
    "    :returns: markdown text\n",
    "    \"\"\"\n",
    "    url = r\"https://api.qrserver.com/v1/create-qr-code/?size=100x100&data=\"\n",
    "    txt = f\"\"\"<img src={url}\"https://arxiv.org/abs/{paper_id}\">\"\"\"\n",
    "    txt = '<div id=\"qrcode\">' + txt + '</div>'\n",
    "    return txt"
   ]
  },
  {
   "cell_type": "code",
   "execution_count": 28,
   "id": "7cf2c6cd",
   "metadata": {},
   "outputs": [
    {
     "data": {
      "text/plain": [
       "['W. Liu (刘伟哲)',\n",
       " 'X. Fan',\n",
       " 'J. Yang',\n",
       " 'E. Bañados',\n",
       " 'F. Wang',\n",
       " 'J. Wolf',\n",
       " 'A. J. Barth',\n",
       " 'T. Costa',\n",
       " 'R. Decarli',\n",
       " 'A.-C. Eilers',\n",
       " 'F. Loiacono',\n",
       " 'Y. Shen',\n",
       " 'E. P. Farina',\n",
       " 'X. Jin',\n",
       " 'H. D. Jun',\n",
       " 'M. Li',\n",
       " 'A. Lupi',\n",
       " 'M. A. Marshall',\n",
       " 'Z. Pan',\n",
       " 'M. Pudoka',\n",
       " 'M.-Y. Zhuang (庄明阳)',\n",
       " 'Jaclyn~B.~Champagne',\n",
       " 'H. Li',\n",
       " 'F. Sun',\n",
       " 'W. L. Tee',\n",
       " 'A. Vayner',\n",
       " 'H. Zhang']"
      ]
     },
     "execution_count": 28,
     "metadata": {},
     "output_type": "execute_result"
    }
   ],
   "source": [
    "def clean_non_western_encoded_characters_commands(text: str) -> str:\n",
    "    \"\"\" Remove non-western encoded characters from a string\n",
    "    \n",
    "    :param text: the text to clean\n",
    "    :return: the cleaned text\n",
    "    \"\"\"\n",
    "    text = re.sub(r\"(\\\\begin{CJK}{UTF8}{gbsn})(.*?)(\\\\end{CJK})\", r\"\\2\", text)\n",
    "    return text\n",
    "\n",
    "\n",
    "def get_initials(name: str) -> str:\n",
    "    \"\"\" Get the short name, e.g., A.-B. FamName\n",
    "    :param name: full name\n",
    "    :returns: initials\n",
    "    \"\"\"\n",
    "    initials = []\n",
    "    if '(' in name:\n",
    "        name = clean_non_western_encoded_characters_commands(name)\n",
    "        suffix = re.findall(r\"\\((.*?)\\)\", name)[0]\n",
    "        name = name.replace(f\"({suffix})\", '')\n",
    "    else:\n",
    "        suffix = ''\n",
    "    split = name.split()\n",
    "    for token in split[:-1]:\n",
    "        if '-' in token:\n",
    "            current = '-'.join([k[0] + '.' for k in token.split('-')])\n",
    "        else:\n",
    "            current = token[0] + '.'\n",
    "        initials.append(current)\n",
    "    initials.append(split[-1].strip())\n",
    "    if suffix:\n",
    "        initials.append(f\"({suffix})\")\n",
    "    return ' '.join(initials)"
   ]
  },
  {
   "cell_type": "code",
   "execution_count": 30,
   "id": "70fdd37f",
   "metadata": {
    "scrolled": false
   },
   "outputs": [
    {
     "name": "stdout",
     "output_type": "stream",
     "text": [
      "E. Bañados  ->  E. Bañados  |  ['E. Bañados']\n",
      "J. Wolf  ->  D. J. Wolf  |  ['J. Wolf']\n",
      "Found 109 bibliographic references in tmp_2409.13189/J1007.bbl.\n"
     ]
    }
   ],
   "source": [
    "paper_id = f'{which:s}'\n",
    "folder = f'tmp_{paper_id:s}'\n",
    "\n",
    "def robust_call(fn, value, *args, **kwargs):\n",
    "    try:\n",
    "        return fn(value, *args, **kwargs)\n",
    "    except Exception:\n",
    "        return value\n",
    "    \n",
    "\n",
    "if not os.path.isdir(folder):\n",
    "    folder = retrieve_document_source(f\"{paper_id}\", f'tmp_{paper_id}')\n",
    "\n",
    "try:\n",
    "    doc = latex.LatexDocument(folder, validation=validation)    \n",
    "except AffiliationError as affilerror:\n",
    "    msg = f\"ArXiv:{paper_id:s} is not an MPIA paper... \" + str(affilerror)\n",
    "    print(msg)\n",
    "\n",
    "# Hack because sometimes author parsing does not work well\n",
    "if (len(doc.authors) != len(paper['authors'])):\n",
    "    doc._authors = paper['authors']\n",
    "else:\n",
    "    # highlight authors (FIXME: doc.highlight_authors)\n",
    "    # done on arxiv paper already\n",
    "    doc._authors = highlight_authors_in_list(\n",
    "        [robust_call(get_initials, k) for k in doc.authors], \n",
    "        normed_mpia_authors, verbose=True)\n",
    "if (doc.abstract) in (None, ''):\n",
    "    doc._abstract = paper['abstract']\n",
    "\n",
    "doc.comment = get_markdown_badge(paper_id) \n",
    "if paper['comments']:\n",
    "    doc.comment += \" _\" + paper['comments'] + \"_\"\n",
    "\n",
    "full_md = doc.generate_markdown_text()\n",
    "\n",
    "full_md += get_markdown_qrcode(paper_id)\n",
    "\n",
    "# replace citations\n",
    "try:\n",
    "    bibdata = latex_bib.LatexBib.from_doc(doc)\n",
    "    full_md = latex_bib.replace_citations(full_md, bibdata)\n",
    "except Exception as e:\n",
    "    #raise e\n",
    "    ..."
   ]
  },
  {
   "cell_type": "code",
   "execution_count": 31,
   "id": "2eebb72b",
   "metadata": {
    "scrolled": false
   },
   "outputs": [
    {
     "name": "stdout",
     "output_type": "stream",
     "text": [
      "<div class=\"macros\" style=\"visibility:hidden;\">\n",
      "$\\newcommand{\\ensuremath}{}$\n",
      "$\\newcommand{\\xspace}{}$\n",
      "$\\newcommand{\\object}[1]{\\texttt{#1}}$\n",
      "$\\newcommand{\\farcs}{{.}''}$\n",
      "$\\newcommand{\\farcm}{{.}'}$\n",
      "$\\newcommand{\\arcsec}{''}$\n",
      "$\\newcommand{\\arcmin}{'}$\n",
      "$\\newcommand{\\ion}[2]{#1#2}$\n",
      "$\\newcommand{\\textsc}[1]{\\textrm{#1}}$\n",
      "$\\newcommand{\\hl}[1]{\\textrm{#1}}$\n",
      "$\\newcommand{\\footnote}[1]{}$\n",
      "$\\newcommand{\\ftm}{J1007+2115}$\n",
      "$\\newcommand{\\vdag}{(v)^\\dagger}$\n",
      "$\\newcommand$\n",
      "$\\newcommand$\n",
      "$\\newcommand{\\xh}{<\\chi_{H I}>}$\n",
      "$\\newcommand{\\TQ}{t_{Q}}$\n",
      "$\\newcommand{\\paa}{{Pa\\alpha}}$\n",
      "$\\newcommand{\\pab}{{Pa\\beta}}$\n",
      "$\\newcommand{\\av}{{A_{V}}}$\n",
      "$\\newcommand{\\ebv}{E(B-V)}$\n",
      "$\\newcommand{\\siv}{[S~{\\sc iv}] 10.51 \\mum}$\n",
      "$\\newcommand{\\oiiitext}{[O~{\\sc iii}]}$\n",
      "$\\newcommand{\\sivtext}{[S~{\\sc iv}]}$\n",
      "$\\newcommand{\\lya}{Ly\\alpha}$\n",
      "$\\newcommand{\\cii}{[C~{\\sc ii}] 158 \\mum}$\n",
      "$\\newcommand{\\ciitext}{[C~{\\sc ii}]}$\n",
      "$\\newcommand{\\mum}{\\ifmmode{\\rm \\mu m}\\else{\\mum}\\fi}$\n",
      "$\\newcommand{\\vdisp}{\\vdisp}$\n",
      "$\\newcommand{\\wba}{W_{80}}$\n",
      "$\\newcommand{\\vwu}{{v_{50}}}$\n",
      "$\\newcommand{\\vjiu}{{v_{90}}}$\n",
      "$\\newcommand{\\vyi}{{v_{10}}}$\n",
      "$\\newcommand{\\vbasi}{{v_{84}}}$\n",
      "$\\newcommand{\\vyiliu}{{v_{16}}}$\n",
      "$\\newcommand{\\flux}{erg cm^{-2} s^{-1}}$\n",
      "$\\newcommand{\\fsb}{erg cm^{-2} s^{-1} }$\n",
      "$\\newcommand{\\spi}{{\\it Spitzer}}$\n",
      "$\\newcommand{\\her}{{\\it Herschel}}$\n",
      "$\\newcommand{\\oi}{\\hbox{[O {\\scriptsize I}]}}$\n",
      "$\\newcommand{\\oii}{{[O {\\scriptsize II}]}}$\n",
      "$\\newcommand{\\oiii}{{[O {\\scriptsize III}] \\lambda5007}}$\n",
      "$\\newcommand{\\oiiiab}{{[O {\\scriptsize III}] \\lambda\\lambda4959,5007}}$\n",
      "$\\newcommand{\\oiiib}{{[O {\\scriptsize III}] \\lambda4959}}$\n",
      "$\\newcommand{\\nv}{\\hbox{N {\\scriptsize V}}}$\n",
      "$\\newcommand{\\civ}{\\hbox{C {\\scriptsize IV} \\lambda1549}}$\n",
      "$\\newcommand{\\nev}{\\hbox{[Ne {\\scriptsize V}]}}$\n",
      "$\\newcommand{\\nii}{\\hbox{[N {\\scriptsize II}]}}$\n",
      "$\\newcommand{\\sii}{\\hbox{[S {\\scriptsize II}]}}$\n",
      "$\\newcommand{\\ha}{\\hbox{H\\alpha}}$\n",
      "$\\newcommand{\\hb}{\\hbox{H\\beta}}$\n",
      "$\\newcommand{\\hg}{\\hbox{H\\gamma}}$\n",
      "$\\newcommand{\\hd}{\\hbox{H\\delta}}$\n",
      "$\\newcommand{\\mgii}{\\hbox{Mg {\\scriptsize II}}}$\n",
      "$\\newcommand{\\feii}{\\hbox{Fe {\\scriptsize II}}}$\n",
      "$\\newcommand{\\red}[1]{\\textcolor{red}{#1}}$\n",
      "$\\newcommand{\\blue}[1]{\\textcolor{blue}{#1}}$\n",
      "$\\newcommand{\\kms}{km s^{-1}}$\n",
      "$\\newcommand{\\msun}{M_{\\odot}}$\n",
      "$\\newcommand{\\msunyr}{{M_{\\sun} yr^{-1}}}$\n",
      "$\\newcommand{\\lsun}{\\ensuremath{\\mathrm{L}_{\\odot}}}$\n",
      "$\\newcommand{\\eden}{cm^{-3}}$\n",
      "$\\newcommand{\\momfluxsfr}{\\dot{P}_{SFR} }$\n",
      "$\\newcommand{\\momfluxagn}{\\dot{P}_{QSO} }$\n",
      "$\\newcommand{\\momfluxout}{\\dot{P}_{outflow} }$\n",
      "$\\newcommand{\\momfluxratio}{\\frac{\\dot{P}_{outflow}}{\\dot{P}_{AGN}}}$\n",
      "$\\newcommand{\\msigma}{M_{\\bullet}-\\sigma~}$\n",
      "$\\newcommand{\\ergs}{erg s^{-1}}$\n",
      "$\\newcommand{\\ergscm}{erg s^{-1} cm^{-2}}$\n",
      "$\\newcommand{\\myr}{M_\\odot~yr^{-1}}$\n",
      "$\\newcommand{\\loghn}{log(\\nii/\\ha) }$\n",
      "$\\newcommand{\\logohb}{log(\\oiii/\\hb) }$\n",
      "$\\newcommand$\n",
      "$\\newcommand$\n",
      "$\\newcommand$\n",
      "$\\newcommand$\n",
      "$\\newcommand$\n",
      "$\\newcommand$</div>\n",
      "\n",
      "\n",
      "\n",
      "<div id=\"title\">\n",
      "\n",
      "# Fast Outflow in the Host Galaxy of the Luminous $z=7.5$ Quasar J1007$+$2115\n",
      "\n",
      "</div>\n",
      "<div id=\"comments\">\n",
      "\n",
      "[![arXiv](https://img.shields.io/badge/arXiv-2409.13189-b31b1b.svg)](https://arxiv.org/abs/2409.13189)\n",
      "\n",
      "</div>\n",
      "<div id=\"authors\">\n",
      "\n",
      "W. Liu (刘伟哲), et al. -- incl., <mark>E. Bañados</mark>, <mark>J. Wolf</mark>\n",
      "\n",
      "</div>\n",
      "<div id=\"abstract\">\n",
      "\n",
      "**Abstract:** James Webb Space Telescope opens a new window to directly probe luminous quasars powered by billion solar mass black holes in the epoch of reionization and their co-evolution with massive galaxies with unprecedented details. In this paper, we report the first results from the deep NIRSpec integral field spectroscopy study of a quasar at $z = 7.5$ . We obtain a bolometric luminosity of $\\sim1.8\\times10^{47}$ $\\ergs$ and a black hole mass of ${$\\sim$0.7--2.5$\\times10^{9}$}$ $\\msun$ based on $\\hb$ emission line from the quasar spectrum. We discover $\\sim$ 2 kpc scale, highly blueshifted ( $\\sim-$ 870 $\\kms$ ) and broad ( $\\sim$ 1400 $\\kms$ ) $\\oiiitext$ line emission after the quasar PSF has been subtracted. Such line emission most likely originates from a fast, quasar-driven outflow, the earliest one on galactic-scale known so far. The dynamical properties of this outflow fall within the typical ranges of quasar-driven outflows at lower redshift, and the outflow may be fast enough to reach the circumgalactic medium. Combining both the extended and nuclear outflow together, the mass outflow rate, ${$\\sim$300 \\msunyr, is $\\sim$60\\%--380\\%}$ of the star formation rate of the quasar host galaxy, suggesting that the outflow may expel a significant amount of gas from the inner region of the galaxy. The kinetic energy outflow rate, ${$\\sim$3.6$\\times10^{44}$ erg s$^{-1}$}$ , is ${$\\sim$0.2\\%}$ of the quasar bolometric luminosity, which is comparable to the minimum value required for negative feedback based on simulation predictions. The dynamical timescale of the extended outflow is $\\sim$ 1.7 Myr, consistent with the typical quasar lifetime in this era.\n",
      "\n",
      "</div>\n",
      "\n",
      "<div id=\"div_fig1\">\n",
      "\n",
      "<img src=\"tmp_2409.13189/./J1007spec.png\" alt=\"Fig3\" width=\"100%\"/>\n",
      "\n",
      "**Figure 3. -** Quasar spectrum extracted from the $r=0$\\farcs$25$ aperture centered on the brightest spaxel of the IFU data cube. **Top:** Data (black) and best-fit quasar continuum (orange), iron emission (cyan) and overall emission line model (blue). The individual Balmer and $\\oiiitext$ emission line components are shown in red and green, respectively. The locations of major emission lines at the systemic velocity are indicated by the vertical dotted lines. The residual from the best-fit is shown in the dotted, light gray line. The spectral windows adopted for quasar pseudo-continuum fit are marked in thick gray bars. **Bottom:** Zoom-in view of the emission line-only spectrum for the $\\hb$ and $\\oiiitext$ region. The color coding is the same as the top panel. (*fig:fig0*)\n",
      "\n",
      "</div>\n",
      "<div id=\"div_fig2\">\n",
      "\n",
      "<img src=\"tmp_2409.13189/./J1007_Fig3.png\" alt=\"Fig5\" width=\"100%\"/>\n",
      "\n",
      "**Figure 5. -** Flux, velocity dispersion $\\sigma$, and velocity $\\vwu$ maps of the $\\oi$ii-emitting gas in J1007$+$2115, after the quasar PSF has been subtracted. The spatial scales are in unit of kpc. The location of the quasar is indicated by the black cross. {As stated in Sec. \\ref{sec:41}, only spaxels with peak flux density above 2$\\sigma$ and passing visual inspection are kept and shown in these figures.} (*fig:fig3*)\n",
      "\n",
      "</div>\n",
      "<div id=\"div_fig3\">\n",
      "\n",
      "<img src=\"tmp_2409.13189/./J1007_outflow.png\" alt=\"Fig6.1\" width=\"33%\"/><img src=\"tmp_2409.13189/./J1007_outflow2.png\" alt=\"Fig6.2\" width=\"33%\"/><img src=\"tmp_2409.13189/./J1007_outflow3.png\" alt=\"Fig6.3\" width=\"33%\"/>\n",
      "\n",
      "**Figure 6. -** Maximum outflow velocity (left), mass outflow rate (middle) and kinetic energy outflow rate (right) as a function of bolometric AGN luminosity for the extended outflow in our object J1007$+$2115 (red star) in comparison with the outflows discovered in two $z\\sim6.8$ quasars (blue triangles) from [Marshall, Perna and Willott (2023)]() and other AGN-driven outflows at $z<4$ compiled by [Fiore, Feruglio and Shankar (2017)](). In the middle and right panels, for J1007$+$2115, we also show the total rates for both the nuclear and extended outflows combined (orange star). For the $z\\sim6.8$ quasars, we only quote the $\\oiiitext$ emission line based results for consistency. For our object and the $z\\sim6.8$ quasars, the error bars are not shown when the sizes of them are smaller than the symbol sizes. For sources from [Fiore, Feruglio and Shankar (2017)](), no formal errors were reported for individual objects. {The uncertainties caused by electron density ($n_{e}= $1000 -- 100 cm$^{-3}$) and extinction ($A_V = $0 -- 1) are indicated by the blue and orange bars at the bottom right corners of the middle and right panels.} (*fig:outflow*)\n",
      "\n",
      "</div><div id=\"qrcode\"><img src=https://api.qrserver.com/v1/create-qr-code/?size=100x100&data=\"https://arxiv.org/abs/2409.13189\"></div>\n"
     ]
    }
   ],
   "source": [
    "print(full_md)"
   ]
  },
  {
   "cell_type": "code",
   "execution_count": 32,
   "id": "9332316f",
   "metadata": {},
   "outputs": [
    {
     "name": "stdout",
     "output_type": "stream",
     "text": [
      "James Webb Space Telescope opens a new window to directly probe luminous quasars powered by billion solar mass black holes in the epoch of reionization and their co-evolution with massive galaxies with unprecedented details. In this paper, we report the first results from the deep NIRSpec integral field spectroscopy study of a quasar at $z = 7.5$ . We obtain a bolometric luminosity of $\\sim1.8\\times10^{47}$ $\\ergs$ and a black hole mass of ${$\\sim$0.7--2.5$\\times10^{9}$}$ $\\msun$ based on $\\hb$ emission line from the quasar spectrum. We discover $\\sim$ 2 kpc scale, highly blueshifted ( $\\sim-$ 870 $\\kms$ ) and broad ( $\\sim$ 1400 $\\kms$ ) $\\oiiitext$ line emission after the quasar PSF has been subtracted. Such line emission most likely originates from a fast, quasar-driven outflow, the earliest one on galactic-scale known so far. The dynamical properties of this outflow fall within the typical ranges of quasar-driven outflows at lower redshift, and the outflow may be fast enough to reach the circumgalactic medium. Combining both the extended and nuclear outflow together, the mass outflow rate, ${$\\sim$300 \\msunyr, is $\\sim$60\\%--380\\%}$ of the star formation rate of the quasar host galaxy, suggesting that the outflow may expel a significant amount of gas from the inner region of the galaxy. The kinetic energy outflow rate, ${$\\sim$3.6$\\times10^{44}$ erg s$^{-1}$}$ , is ${$\\sim$0.2\\%}$ of the quasar bolometric luminosity, which is comparable to the minimum value required for negative feedback based on simulation predictions. The dynamical timescale of the extended outflow is $\\sim$ 1.7 Myr, consistent with the typical quasar lifetime in this era.\n"
     ]
    }
   ],
   "source": [
    "print(doc.abstract)"
   ]
  },
  {
   "cell_type": "code",
   "execution_count": 33,
   "id": "fe0e1424",
   "metadata": {},
   "outputs": [],
   "source": [
    "def export_markdown_summary(md: str, md_fname:str, directory: str):\n",
    "    \"\"\"Export MD document and associated relevant images\"\"\"\n",
    "    import os\n",
    "    import shutil\n",
    "    import re\n",
    "\n",
    "    if (os.path.exists(directory) and not os.path.isdir(directory)):\n",
    "        raise RuntimeError(f\"a non-directory file exists with name {directory:s}\")\n",
    "\n",
    "    if (not os.path.exists(directory)):\n",
    "        print(f\"creating directory {directory:s}\")\n",
    "        os.mkdir(directory)\n",
    "\n",
    "    fig_fnames = (re.compile(r'\\[Fig.*\\]\\((.*)\\)').findall(md) + \n",
    "                  re.compile(r'\\<img src=\"([^>\\s]*)\"[^>]*/>').findall(md))\n",
    "    for fname in fig_fnames:\n",
    "        if 'http' in fname:\n",
    "            # No need to copy online figures\n",
    "            continue\n",
    "        destdir = os.path.join(directory, os.path.dirname(fname))\n",
    "        destfname = os.path.join(destdir, os.path.basename(fname))\n",
    "        try:\n",
    "            os.makedirs(destdir)\n",
    "        except FileExistsError:\n",
    "            pass\n",
    "        shutil.copy(fname, destfname)\n",
    "    with open(os.path.join(directory, md_fname), 'w') as fout:\n",
    "        fout.write(md)\n",
    "    print(\"exported in \", os.path.join(directory, md_fname))\n",
    "    [print(\"    + \" + os.path.join(directory,fk)) for fk in fig_fnames]"
   ]
  },
  {
   "cell_type": "code",
   "execution_count": 34,
   "id": "45a6ec34",
   "metadata": {},
   "outputs": [
    {
     "name": "stdout",
     "output_type": "stream",
     "text": [
      "exported in  _build/html/2409.13189.md\n",
      "    + _build/html/tmp_2409.13189/./J1007spec.png\n",
      "    + _build/html/tmp_2409.13189/./J1007_Fig3.png\n",
      "    + _build/html/tmp_2409.13189/./J1007_outflow.png\n",
      "    + _build/html/tmp_2409.13189/./J1007_outflow2.png\n",
      "    + _build/html/tmp_2409.13189/./J1007_outflow3.png\n"
     ]
    }
   ],
   "source": [
    "export_markdown_summary(full_md, f\"{paper_id:s}.md\", '_build/html/')"
   ]
  },
  {
   "cell_type": "code",
   "execution_count": null,
   "id": "3078d560",
   "metadata": {},
   "outputs": [],
   "source": []
  },
  {
   "cell_type": "code",
   "execution_count": null,
   "id": "22f189a8",
   "metadata": {},
   "outputs": [],
   "source": []
  }
 ],
 "metadata": {
  "kernelspec": {
   "display_name": "Python 3 (ipykernel)",
   "language": "python",
   "name": "python3"
  },
  "language_info": {
   "codemirror_mode": {
    "name": "ipython",
    "version": 3
   },
   "file_extension": ".py",
   "mimetype": "text/x-python",
   "name": "python",
   "nbconvert_exporter": "python",
   "pygments_lexer": "ipython3",
   "version": "3.11.3"
  }
 },
 "nbformat": 4,
 "nbformat_minor": 5
}
