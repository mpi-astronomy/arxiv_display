{
 "cells": [
  {
   "cell_type": "markdown",
   "id": "a37a5752",
   "metadata": {},
   "source": [
    "# MPIA Arxiv on Deck 2: Debugging notebook\n",
    "\n",
    "In this notebook, I keep some first order commands for diagnostic of issues with papers.\n",
    "Main definitions are taken from the main notebook."
   ]
  },
  {
   "cell_type": "code",
   "execution_count": 1,
   "id": "7d232022",
   "metadata": {},
   "outputs": [],
   "source": [
    "# Imports\n",
    "import os\n",
    "from IPython.display import Markdown, display\n",
    "from tqdm.notebook import tqdm\n",
    "import warnings\n",
    "from PIL import Image \n",
    "\n",
    "# requires arxiv_on_deck_2\n",
    "\n",
    "from arxiv_on_deck_2.arxiv2 import (get_new_papers, \n",
    "                                    get_paper_from_identifier,\n",
    "                                    retrieve_document_source, \n",
    "                                    get_markdown_badge)\n",
    "from arxiv_on_deck_2 import (latex,\n",
    "                             latex_bib,\n",
    "                             mpia,\n",
    "                             highlight_authors_in_list)\n",
    "\n",
    "# Sometimes images are really big\n",
    "Image.MAX_IMAGE_PIXELS = 1000000000 \n",
    "\n",
    "# Some useful definitions.\n",
    "class AffiliationWarning(UserWarning):\n",
    "    pass\n",
    "\n",
    "class AffiliationError(RuntimeError):\n",
    "    pass\n",
    "\n",
    "def validation(source: str):\n",
    "    \"\"\"Raises error paper during parsing of source file\n",
    "    \n",
    "    Allows checks before parsing TeX code.\n",
    "    \n",
    "    Raises AffiliationWarning\n",
    "    \"\"\"\n",
    "    check = mpia.affiliation_verifications(source, verbose=True)\n",
    "    if check is not True:\n",
    "        raise AffiliationError(\"mpia.affiliation_verifications: \" + check)\n",
    "\n",
    "        \n",
    "warnings.simplefilter('always', AffiliationWarning)"
   ]
  },
  {
   "cell_type": "markdown",
   "id": "6faf91a3",
   "metadata": {},
   "source": [
    "We get the author list from the MPIA website"
   ]
  },
  {
   "cell_type": "code",
   "execution_count": 2,
   "id": "94dc07a4",
   "metadata": {},
   "outputs": [],
   "source": [
    "# !rm -f tmp_mpia_authors.yml"
   ]
  },
  {
   "cell_type": "code",
   "execution_count": 3,
   "id": "d2dc3fa8",
   "metadata": {},
   "outputs": [
    {
     "name": "stdout",
     "output_type": "stream",
     "text": [
      "`mpia.get_mpia_mitarbeiter_list()`: restored from cache\n"
     ]
    }
   ],
   "source": [
    "# Getting the list of authors can take sometimes (internet connection)\n",
    "# Caching the MPIA author list to avoid running this line every time we restart the kernel.\n",
    "import yaml\n",
    "try:\n",
    "    with open('tmp_mpia_authors.yml', 'r') as fin:\n",
    "        mpia_authors = yaml.load(fin, yaml.BaseLoader)\n",
    "    print(\"`mpia.get_mpia_mitarbeiter_list()`: restored from cache\")\n",
    "except FileNotFoundError:\n",
    "    print(\"`mpia.get_mpia_mitarbeiter_list()`: cannot be restored from cache.\")\n",
    "    # get list from MPIA website\n",
    "    # it automatically filters identified non-scientists :func:`mpia.filter_non_scientists`\n",
    "    mpia_authors = mpia.get_mpia_mitarbeiter_list()\n",
    "    with open('tmp_mpia_authors.yml', 'w') as fout:\n",
    "        fout.write(yaml.dump(mpia_authors))"
   ]
  },
  {
   "cell_type": "markdown",
   "id": "1464cd28",
   "metadata": {},
   "source": [
    "We get the paper to debug"
   ]
  },
  {
   "cell_type": "code",
   "execution_count": 4,
   "id": "ec77bbda",
   "metadata": {},
   "outputs": [
    {
     "data": {
      "text/markdown": [
       "\n",
       "|||\n",
       "|---:|:---|\n",
       "| [![arXiv](https://img.shields.io/badge/arXiv-2406.10032-b31b1b.svg)](https://arxiv.org/abs/2406.10032) | **GASTLI: An open-source coupled interior-atmosphere model to unveil gas giant composition**  |\n",
       "|| Lorena Acuña, Laura Kreidberg, Meng Zhai, Paul Mollière |\n",
       "|*Appeared on*| *2024-06-14*|\n",
       "|*Comments*| *18 pages, 9 figures. In review in Astronomy & Astrophysics*|\n",
       "|**Abstract**| The metal mass fractions of gas giants are a powerful tool to constrain their formation mechanisms and evolution. The metal content is inferred by comparing mass and radius measurements with interior structure and evolution models. In the midst of the JWST, CHEOPS, TESS, and the forthcoming PLATO era, we are at the brink of obtaining unprecedented precision in radius, age and atmospheric metallicity measurements. To prepare for this wealth of data, we present the GAS gianT modeL for Interiors (GASTLI), an easy-to-use, publicly available Python package. The code is optimized to rapidly calculate mass-radius relations, and radius and luminosity thermal evolution curves for a variety of envelope compositions and core mass fractions. Its applicability spans planets with masses $17 \\ M_{\\oplus} < M < 6 \\ M_{Jup}$, and equilibrium temperatures $T_{eq} < 1000$ K. The interior model is stratified in a core composed of water and rock, and an envelope constituted by H/He and metals (water). The interior is coupled to a grid of self-consistent, cloud-free atmospheric models to determine the atmospheric and boundary interior temperature, as well as the contribution of the atmosphere to the total radius. We successfully validate GASTLI by comparing it to previous work and data of the Solar System's gas giants and Neptune. We also test GASTLI on the Neptune-mass exoplanet HAT-P-26 b, finding a bulk metal mass fraction between 0.60-0.78 and a core mass of 8.5-14.4 $M_{\\oplus}$. Finally, we explore the impact of different equations of state and assumptions, such as C/O ratio and transit pressure, in the estimation of bulk metal mass fraction. These differences between interior models entail a change in radius of up to 2.5% for Jupiter-mass planets, but more than 10\\% for Neptune-mass. These are equivalent to variations in core mass fraction of 0.07, or 0.10 in envelope metal mass fraction.|"
      ],
      "text/plain": [
       "[2406.10032] GASTLI: An open-source coupled interior-atmosphere model to unveil gas giant composition\n",
       "\tLorena Acuña, Laura Kreidberg, Meng Zhai, Paul Mollière"
      ]
     },
     "execution_count": 4,
     "metadata": {},
     "output_type": "execute_result"
    }
   ],
   "source": [
    "which = \"2406.10032\"\n",
    "paper = get_paper_from_identifier(which)\n",
    "paper"
   ]
  },
  {
   "cell_type": "code",
   "execution_count": 5,
   "id": "9d005322",
   "metadata": {},
   "outputs": [],
   "source": [
    "import re\n",
    "from typing import Sequence\n",
    "\n",
    "def author_match(author: str, hl_list: Sequence[str], verbose=False) -> Sequence[str]:\n",
    "    \"\"\" Matching author names with a family name reference list\n",
    "    \n",
    "    :param author: the author string to check\n",
    "    :param hl_list: the list of reference authors to match\n",
    "    :param verbose: prints matching results if set\n",
    "    :return: the matching sequences or empty sequence if None\n",
    "    \"\"\"\n",
    "    for hl in hl_list:\n",
    "        match = re.findall(r\"\\b{:s}\\b\".format(author), hl, re.IGNORECASE)\n",
    "        if match:\n",
    "            if verbose:\n",
    "                print(author, ' -> ',  hl, ' | ', match)\n",
    "            return match\n",
    "        \n",
    "from typing import Sequence\n",
    "\n",
    "def highlight_authors_in_list(author_list: Sequence[str], \n",
    "                              hl_list: Sequence[str], \n",
    "                              verbose: bool = False) -> Sequence[str]:\n",
    "    \"\"\" highlight all authors of the paper that match `lst` entries\n",
    "\n",
    "    :param author_list: the list of authors\n",
    "    :param hl_list: the list of authors to highlight\n",
    "    :param verbose: prints matching results if set\n",
    "    :return: the list of authors with the highlighted authors\n",
    "    \"\"\"\n",
    "    new_authors = []\n",
    "    for author in author_list:\n",
    "        match = author_match(author, hl_list, verbose)\n",
    "        if match:\n",
    "            new_authors.append(f\"<mark>{author}</mark>\")\n",
    "        else:\n",
    "            new_authors.append(f\"{author}\")\n",
    "    return new_authors"
   ]
  },
  {
   "cell_type": "code",
   "execution_count": 6,
   "id": "3c199068",
   "metadata": {},
   "outputs": [
    {
     "name": "stdout",
     "output_type": "stream",
     "text": [
      "L. Kreidberg  ->  L. Kreidberg  |  ['L. Kreidberg']\n",
      "P. Mollière  ->  P. Mollière  |  ['P. Mollière']\n"
     ]
    },
    {
     "data": {
      "text/markdown": [
       "\n",
       "|||\n",
       "|---:|:---|\n",
       "| [![arXiv](https://img.shields.io/badge/arXiv-2406.10032-b31b1b.svg)](https://arxiv.org/abs/2406.10032) | **GASTLI: An open-source coupled interior-atmosphere model to unveil gas giant composition**  |\n",
       "|| L. Acuña, <mark>L. Kreidberg</mark>, M. Zhai, <mark>P. Mollière</mark> |\n",
       "|*Appeared on*| *2024-06-14*|\n",
       "|*Comments*| *18 pages, 9 figures. In review in Astronomy & Astrophysics*|\n",
       "|**Abstract**| The metal mass fractions of gas giants are a powerful tool to constrain their formation mechanisms and evolution. The metal content is inferred by comparing mass and radius measurements with interior structure and evolution models. In the midst of the JWST, CHEOPS, TESS, and the forthcoming PLATO era, we are at the brink of obtaining unprecedented precision in radius, age and atmospheric metallicity measurements. To prepare for this wealth of data, we present the GAS gianT modeL for Interiors (GASTLI), an easy-to-use, publicly available Python package. The code is optimized to rapidly calculate mass-radius relations, and radius and luminosity thermal evolution curves for a variety of envelope compositions and core mass fractions. Its applicability spans planets with masses $17 \\ M_{\\oplus} < M < 6 \\ M_{Jup}$, and equilibrium temperatures $T_{eq} < 1000$ K. The interior model is stratified in a core composed of water and rock, and an envelope constituted by H/He and metals (water). The interior is coupled to a grid of self-consistent, cloud-free atmospheric models to determine the atmospheric and boundary interior temperature, as well as the contribution of the atmosphere to the total radius. We successfully validate GASTLI by comparing it to previous work and data of the Solar System's gas giants and Neptune. We also test GASTLI on the Neptune-mass exoplanet HAT-P-26 b, finding a bulk metal mass fraction between 0.60-0.78 and a core mass of 8.5-14.4 $M_{\\oplus}$. Finally, we explore the impact of different equations of state and assumptions, such as C/O ratio and transit pressure, in the estimation of bulk metal mass fraction. These differences between interior models entail a change in radius of up to 2.5% for Jupiter-mass planets, but more than 10\\% for Neptune-mass. These are equivalent to variations in core mass fraction of 0.07, or 0.10 in envelope metal mass fraction.|"
      ],
      "text/plain": [
       "[2406.10032] GASTLI: An open-source coupled interior-atmosphere model to unveil gas giant composition\n",
       "\tL. Acuña, <mark>L. Kreidberg</mark>, M. Zhai, <mark>P. Mollière</mark>"
      ]
     },
     "execution_count": 6,
     "metadata": {},
     "output_type": "execute_result"
    }
   ],
   "source": [
    "# Check author list with their initials\n",
    "normed_author_list = [mpia.get_initials(k) for k in paper['authors']]\n",
    "normed_mpia_authors = [k[1] for k in mpia_authors]\n",
    "hl_authors = highlight_authors_in_list(normed_author_list, normed_mpia_authors, verbose=True)\n",
    "matches = [(hl, orig) for hl, orig in zip(hl_authors, paper['authors']) if 'mark' in hl]\n",
    "if not matches:\n",
    "    warnings.warn(AffiliationWarning(\"WARNING: This paper does not seem to have MPIA authors.\"))\n",
    "    \n",
    "paper['authors'] = hl_authors\n",
    "paper"
   ]
  },
  {
   "cell_type": "markdown",
   "id": "f295192e",
   "metadata": {},
   "source": [
    "We get the (TeX) source\n",
    "* retrieve the tarball\n",
    "* find the main tex file and parse it\n",
    "* parse for affiliations (but debugging so we do not stop if not found)\n",
    "* generate the the output markdown"
   ]
  },
  {
   "cell_type": "code",
   "execution_count": 7,
   "id": "14ed8746",
   "metadata": {},
   "outputs": [],
   "source": [
    "def get_markdown_qrcode(paper_id: str):\n",
    "    \"\"\" Generate a qrcode to the arxiv page using qrserver.com\n",
    "    \n",
    "    :param paper: Arxiv paper\n",
    "    :returns: markdown text\n",
    "    \"\"\"\n",
    "    url = r\"https://api.qrserver.com/v1/create-qr-code/?size=100x100&data=\"\n",
    "    txt = f\"\"\"<img src={url}\"https://arxiv.org/abs/{paper_id}\">\"\"\"\n",
    "    txt = '<div id=\"qrcode\">' + txt + '</div>'\n",
    "    return txt"
   ]
  },
  {
   "cell_type": "code",
   "execution_count": 8,
   "id": "70fdd37f",
   "metadata": {
    "scrolled": false
   },
   "outputs": [
    {
     "name": "stdout",
     "output_type": "stream",
     "text": [
      "L. Kreidberg  ->  L. Kreidberg  |  ['L. Kreidberg']\n",
      "P. Mollière  ->  P. Mollière  |  ['P. Mollière']\n"
     ]
    },
    {
     "name": "stderr",
     "output_type": "stream",
     "text": [
      "/home/codespace/.python/current/lib/python3.10/site-packages/arxiv_on_deck_2/latex.py:132: LatexWarning: attempting recovering figure empty.eps\n",
      "  warnings.warn(LatexWarning(f'attempting recovering figure {image}'))\n",
      "/home/codespace/.python/current/lib/python3.10/site-packages/arxiv_on_deck_2/latex.py:707: LatexWarning: Could not find graphic \\includegraphics[width=\\hsize]{empty.eps}\n",
      "  warnings.warn(LatexWarning(f\"Could not find graphic {k}\"))\n",
      "/home/codespace/.python/current/lib/python3.10/site-packages/arxiv_on_deck_2/latex.py:132: LatexWarning: attempting recovering figure empty.eps\n",
      "  warnings.warn(LatexWarning(f'attempting recovering figure {image}'))\n",
      "/home/codespace/.python/current/lib/python3.10/site-packages/arxiv_on_deck_2/latex.py:707: LatexWarning: Could not find graphic \\includegraphics[angle=-90,width=3cm]{empty.eps}\n",
      "  warnings.warn(LatexWarning(f\"Could not find graphic {k}\"))\n",
      "/home/codespace/.python/current/lib/python3.10/site-packages/arxiv_on_deck_2/latex.py:132: LatexWarning: attempting recovering figure empty.eps\n",
      "  warnings.warn(LatexWarning(f'attempting recovering figure {image}'))\n",
      "/home/codespace/.python/current/lib/python3.10/site-packages/arxiv_on_deck_2/latex.py:707: LatexWarning: Could not find graphic \\includegraphics[width=3cm]{empty.eps}\n",
      "  warnings.warn(LatexWarning(f\"Could not find graphic {k}\"))\n",
      "/home/codespace/.python/current/lib/python3.10/site-packages/arxiv_on_deck_2/latex.py:132: LatexWarning: attempting recovering figure empty.eps\n",
      "  warnings.warn(LatexWarning(f'attempting recovering figure {image}'))\n",
      "/home/codespace/.python/current/lib/python3.10/site-packages/arxiv_on_deck_2/latex.py:707: LatexWarning: Could not find graphic \\includegraphics[bb=10 20 100 300,width=3cm,clip]{empty.eps}\n",
      "  warnings.warn(LatexWarning(f\"Could not find graphic {k}\"))\n",
      "/home/codespace/.python/current/lib/python3.10/site-packages/arxiv_on_deck_2/latex.py:132: LatexWarning: attempting recovering figure 1787f23.eps\n",
      "  warnings.warn(LatexWarning(f'attempting recovering figure {image}'))\n",
      "/home/codespace/.python/current/lib/python3.10/site-packages/arxiv_on_deck_2/latex.py:707: LatexWarning: Could not find graphic \\includegraphics[width=10.9cm]{1787f23.eps}\n",
      "  warnings.warn(LatexWarning(f\"Could not find graphic {k}\"))\n",
      "/home/codespace/.python/current/lib/python3.10/site-packages/arxiv_on_deck_2/latex.py:132: LatexWarning: attempting recovering figure 1787f24.ps\n",
      "  warnings.warn(LatexWarning(f'attempting recovering figure {image}'))\n",
      "/home/codespace/.python/current/lib/python3.10/site-packages/arxiv_on_deck_2/latex.py:707: LatexWarning: Could not find graphic \\includegraphics[width=16.4cm,clip]{1787f24.ps}\n",
      "  warnings.warn(LatexWarning(f\"Could not find graphic {k}\"))\n"
     ]
    },
    {
     "name": "stdout",
     "output_type": "stream",
     "text": [
      "Found 158 bibliographic references in tmp_2406.10032/aanda.bbl.\n"
     ]
    }
   ],
   "source": [
    "paper_id = f'{which:s}'\n",
    "folder = f'tmp_{paper_id:s}'\n",
    "\n",
    "if not os.path.isdir(folder):\n",
    "    folder = retrieve_document_source(f\"{paper_id}\", f'tmp_{paper_id}')\n",
    "\n",
    "try:\n",
    "    doc = latex.LatexDocument(folder, validation=validation)    \n",
    "except AffiliationError as affilerror:\n",
    "    msg = f\"ArXiv:{paper_id:s} is not an MPIA paper... \" + str(affilerror)\n",
    "    print(msg)\n",
    "\n",
    "# Hack because sometimes author parsing does not work well\n",
    "if (len(doc.authors) != len(paper['authors'])):\n",
    "    doc._authors = paper['authors']\n",
    "else:\n",
    "    # highlight authors (FIXME: doc.highlight_authors)\n",
    "    # done on arxiv paper already\n",
    "    doc._authors = highlight_authors_in_list(\n",
    "        [mpia.get_initials(k) for k in doc.authors], \n",
    "        normed_mpia_authors, verbose=True)\n",
    "if (doc.abstract) in (None, ''):\n",
    "    doc._abstract = paper['abstract']\n",
    "\n",
    "doc.comment = get_markdown_badge(paper_id) \n",
    "if paper['comments']:\n",
    "    doc.comment += \" _\" + paper['comments'] + \"_\"\n",
    "\n",
    "full_md = doc.generate_markdown_text()\n",
    "\n",
    "full_md += get_markdown_qrcode(paper_id)\n",
    "\n",
    "# replace citations\n",
    "try:\n",
    "    bibdata = latex_bib.LatexBib.from_doc(doc)\n",
    "    full_md = latex_bib.replace_citations(full_md, bibdata)\n",
    "except Exception as e:\n",
    "    raise e"
   ]
  },
  {
   "cell_type": "code",
   "execution_count": 18,
   "id": "2eebb72b",
   "metadata": {
    "scrolled": false
   },
   "outputs": [
    {
     "name": "stdout",
     "output_type": "stream",
     "text": [
      "<div class=\"macros\" style=\"visibility:hidden;\">\n",
      "$\\newcommand{\\ensuremath}{}$\n",
      "$\\newcommand{\\xspace}{}$\n",
      "$\\newcommand{\\object}[1]{\\texttt{#1}}$\n",
      "$\\newcommand{\\farcs}{{.}''}$\n",
      "$\\newcommand{\\farcm}{{.}'}$\n",
      "$\\newcommand{\\arcsec}{''}$\n",
      "$\\newcommand{\\arcmin}{'}$\n",
      "$\\newcommand{\\ion}[2]{#1#2}$\n",
      "$\\newcommand{\\textsc}[1]{\\textrm{#1}}$\n",
      "$\\newcommand{\\hl}[1]{\\textrm{#1}}$\n",
      "$\\newcommand{\\footnote}[1]{}$</div>\n",
      "\n",
      "\n",
      "\n",
      "<div id=\"title\">\n",
      "\n",
      "# GASTLI\n",
      "\n",
      "</div>\n",
      "<div id=\"comments\">\n",
      "\n",
      "[![arXiv](https://img.shields.io/badge/arXiv-2406.10032-b31b1b.svg)](https://arxiv.org/abs/2406.10032) _18 pages, 9 figures. In review in Astronomy & Astrophysics_\n",
      "\n",
      "</div>\n",
      "<div id=\"authors\">\n",
      "\n",
      "L. Acuña, <mark>L. Kreidberg</mark>, M. Zhai, <mark>P. Mollière</mark>\n",
      "\n",
      "</div>\n",
      "<div id=\"abstract\">\n",
      "\n",
      "**Abstract:** The metal mass fractions of gas giants are a powerful tool to constrain their formation mechanisms and evolution. The metal content is inferred by comparing mass and radius measurements with interior structure and evolution models. In the midst of the JWST, CHEOPS, TESS, and the forthcoming PLATO era, we are at the brink of obtaining unprecedented precision in radius, age and atmospheric metallicity measurements.   To prepare for this wealth of data, we present the GAS gianT modeL for Interiors (GASTLI), an easy-to-use, publicly available Python package. The code is optimized to rapidly calculate mass-radius relations, and radius and luminosity thermal evolution curves for a variety of envelope compositions and core mass fractions. Its applicability spans planets with masses $17  M_{\\oplus} < M < 6  M_{Jup}$ , and equilibrium temperatures $T_{eq} < 1000$ K.   The interior model is stratified in a core composed of water and rock, and an envelope constituted by H/He and metals (water). The interior is coupled to a grid of self-consistent, cloud-free atmospheric models to determine the atmospheric and boundary interior temperature, as well as the contribution of the atmosphere to the total radius.   We successfully validate GASTLI by comparing it to previous work and data of the Solar System’s gas giants and Neptune. We also test GASTLI on the Neptune-mass exoplanet HAT-P-26 b, finding a bulk metal mass fraction between 0.60-0.78 and a core mass of 8.5-14.4 $M_{\\oplus}$ . Finally, we explore the impact of different equations of state and assumptions, such as C/O ratio and transit pressure, in the estimation of bulk metal mass fraction. These differences between interior models entail a change in radius of up to 2.5 \\% for Jupiter-mass planets, but more than 10 \\% for Neptune-mass. These are equivalent to variations in core mass fraction of 0.07, or 0.10 in envelope metal mass fraction.\n",
      "\n",
      "</div>\n",
      "\n",
      "<div id=\"div_fig1\">\n",
      "\n",
      "<img src=\"tmp_2406.10032/./Figures/Saturn_MRrel_comparison_v2.png\" alt=\"Fig10.1\" width=\"50%\"/><img src=\"tmp_2406.10032/./Figures/Neptune_MRrel_comparison_v2.png\" alt=\"Fig10.2\" width=\"50%\"/>\n",
      "\n",
      "**Figure 10. -** Left: Mass-radius relations for Saturn. GASTLI's fiducial model for Saturn can reproduce with a better precision Saturn's mass and radius data than HG21. We assumed an equilibrium temperature of $T_{eq} = $ 100 K across all models, while we adopt an internal temperature $T_{int}$ = 77 for Saturn. Models for Saturn were calculated for a fixed envelope metallicity of 8.9 $\\times$ solar, equivalent to $Z_{env}$ = 0.10 for the HG21 model. Right: Mass-radius relations for Neptune. The fiducial model (black) agrees well with mass and radius data. We assumed an internal temperature $T_{int}$ = 52 K for Neptune. (*fig:Saturn_and_Neptune*)\n",
      "\n",
      "</div>\n",
      "<div id=\"div_fig2\">\n",
      "\n",
      "<img src=\"tmp_2406.10032/./Figures/atmospheric_profiles_Jupiter_v2_referee.png\" alt=\"Fig5\" width=\"100%\"/>\n",
      "\n",
      "**Figure 5. -** Atmospheric profiles for Jupiter's interior-atmosphere models. Our clear petitCODE fiducial model is 50 K warmer than Jupiter's atmospheric data provided by the Voyager and the Galileo probe \\citep{Seiff98,Gupta22,Li24}. We assumed the fiducial case, with an internal temperature of $T_{int} $ = 107 K, a solar composition, and a core mass fraction of CMF = 0.03. For the \\cite{Guillot10} atmospheric models, we adopted an infrared opacity $\\kappa_{th}$ = 0.01 cm$^{2}$/g, and a visible-to-thermal opacity ratio of $\\kappa_{v}/\\kappa_{th} = \\gamma$ = 0.4. (*fig:Jupiter_atm_prof*)\n",
      "\n",
      "</div>\n",
      "<div id=\"div_fig3\">\n",
      "\n",
      "<img src=\"tmp_2406.10032/./Figures/Jupiter_MRrel_comparison_v2_referee.png\" alt=\"Fig9\" width=\"100%\"/>\n",
      "\n",
      "**Figure 9. -** Left: GASTLI models for Jupiter. GASTLI can reproduce Jupiter's mass and radius data with the fiducial model within 1.6\\%. Solid lines show the total radius obtained with GASTLI for core mass fractions (CMF) equal to 0 and 0.03 (fiducial) assuming a solar metallicity in the envelope. The global average equilibrium temperature (122 K) and internal temperature (107 K) of Jupiter were adopted .\n",
      "      Right: Comparison of mass-radius relations between GASTLI and two widely used interior models for gas giants: \\cite{Fortney07}(F07) and \\cite{Muller21}(MH21). For the same composition, GASTLI agrees within uncertainties with other publicly available mass-radius relations. The fiducial case at CMF = 0.03 is indicated in black for all models. F07 and MH21 models were obtained assuming the irradiation and age of Jupiter. For MH21 at CMF = 0, a solar $Z_{env}$ = 0.013 is not available, so $Z_{env}$ = 0 is assumed instead. (*fig:Jupiter_MRrel*)\n",
      "\n",
      "</div><div id=\"qrcode\"><img src=https://api.qrserver.com/v1/create-qr-code/?size=100x100&data=\"https://arxiv.org/abs/2406.10032\"></div>\n"
     ]
    }
   ],
   "source": [
    "print(full_md)"
   ]
  },
  {
   "cell_type": "code",
   "execution_count": null,
   "id": "9332316f",
   "metadata": {},
   "outputs": [],
   "source": [
    "print(doc.abstract)"
   ]
  },
  {
   "cell_type": "code",
   "execution_count": null,
   "id": "fe0e1424",
   "metadata": {},
   "outputs": [],
   "source": [
    "def export_markdown_summary(md: str, md_fname:str, directory: str):\n",
    "    \"\"\"Export MD document and associated relevant images\"\"\"\n",
    "    import os\n",
    "    import shutil\n",
    "    import re\n",
    "\n",
    "    if (os.path.exists(directory) and not os.path.isdir(directory)):\n",
    "        raise RuntimeError(f\"a non-directory file exists with name {directory:s}\")\n",
    "\n",
    "    if (not os.path.exists(directory)):\n",
    "        print(f\"creating directory {directory:s}\")\n",
    "        os.mkdir(directory)\n",
    "\n",
    "    fig_fnames = (re.compile(r'\\[Fig.*\\]\\((.*)\\)').findall(md) + \n",
    "                  re.compile(r'\\<img src=\"([^>\\s]*)\"[^>]*/>').findall(md))\n",
    "    for fname in fig_fnames:\n",
    "        if 'http' in fname:\n",
    "            # No need to copy online figures\n",
    "            continue\n",
    "        destdir = os.path.join(directory, os.path.dirname(fname))\n",
    "        destfname = os.path.join(destdir, os.path.basename(fname))\n",
    "        try:\n",
    "            os.makedirs(destdir)\n",
    "        except FileExistsError:\n",
    "            pass\n",
    "        shutil.copy(fname, destfname)\n",
    "    with open(os.path.join(directory, md_fname), 'w') as fout:\n",
    "        fout.write(md)\n",
    "    print(\"exported in \", os.path.join(directory, md_fname))\n",
    "    [print(\"    + \" + os.path.join(directory,fk)) for fk in fig_fnames]"
   ]
  },
  {
   "cell_type": "code",
   "execution_count": 72,
   "id": "45a6ec34",
   "metadata": {},
   "outputs": [
    {
     "name": "stdout",
     "output_type": "stream",
     "text": [
      "exported in  _build/html/2304.12343.md\n",
      "    + _build/html/tmp_2304.12343/./selection.png\n",
      "    + _build/html/tmp_2304.12343/./mzr.png\n",
      "    + _build/html/tmp_2304.12343/./line_ratios.png\n"
     ]
    }
   ],
   "source": [
    "export_markdown_summary(full_md, f\"{paper_id:s}.md\", '_build/html/')"
   ]
  },
  {
   "cell_type": "code",
   "execution_count": null,
   "id": "3078d560",
   "metadata": {},
   "outputs": [],
   "source": []
  }
 ],
 "metadata": {
  "kernelspec": {
   "display_name": "Python 3 (ipykernel)",
   "language": "python",
   "name": "python3"
  },
  "language_info": {
   "codemirror_mode": {
    "name": "ipython",
    "version": 3
   },
   "file_extension": ".py",
   "mimetype": "text/x-python",
   "name": "python",
   "nbconvert_exporter": "python",
   "pygments_lexer": "ipython3",
   "version": "3.11.3"
  }
 },
 "nbformat": 4,
 "nbformat_minor": 5
}
