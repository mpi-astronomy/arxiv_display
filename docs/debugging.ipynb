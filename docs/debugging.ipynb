{
 "cells": [
  {
   "cell_type": "markdown",
   "id": "a37a5752",
   "metadata": {},
   "source": [
    "# MPIA Arxiv on Deck 2: Debugging notebook\n",
    "\n",
    "In this notebook, I keep some first order commands for diagnostic of issues with papers.\n",
    "Main definitions are taken from the main notebook."
   ]
  },
  {
   "cell_type": "code",
   "execution_count": 1,
   "id": "7d232022",
   "metadata": {},
   "outputs": [],
   "source": [
    "# Imports\n",
    "import os\n",
    "from IPython.display import Markdown, display\n",
    "from tqdm.notebook import tqdm\n",
    "import warnings\n",
    "from PIL import Image \n",
    "\n",
    "# requires arxiv_on_deck_2\n",
    "\n",
    "from arxiv_on_deck_2.arxiv2 import (get_new_papers, \n",
    "                                    get_paper_from_identifier,\n",
    "                                    retrieve_document_source, \n",
    "                                    get_markdown_badge)\n",
    "from arxiv_on_deck_2 import (latex,\n",
    "                             latex_bib,\n",
    "                             mpia,\n",
    "                             highlight_authors_in_list)\n",
    "\n",
    "# Sometimes images are really big\n",
    "Image.MAX_IMAGE_PIXELS = 1000000000 \n",
    "\n",
    "# Some useful definitions.\n",
    "class AffiliationWarning(UserWarning):\n",
    "    pass\n",
    "\n",
    "class AffiliationError(RuntimeError):\n",
    "    pass\n",
    "\n",
    "def validation(source: str):\n",
    "    \"\"\"Raises error paper during parsing of source file\n",
    "    \n",
    "    Allows checks before parsing TeX code.\n",
    "    \n",
    "    Raises AffiliationWarning\n",
    "    \"\"\"\n",
    "    check = mpia.affiliation_verifications(source, verbose=True)\n",
    "    if check is not True:\n",
    "        raise AffiliationError(\"mpia.affiliation_verifications: \" + check)\n",
    "\n",
    "        \n",
    "warnings.simplefilter('always', AffiliationWarning)"
   ]
  },
  {
   "cell_type": "markdown",
   "id": "6faf91a3",
   "metadata": {},
   "source": [
    "We get the author list from the MPIA website"
   ]
  },
  {
   "cell_type": "code",
   "execution_count": 2,
   "id": "94dc07a4",
   "metadata": {},
   "outputs": [],
   "source": [
    "# !rm -f tmp_mpia_authors.yml"
   ]
  },
  {
   "cell_type": "code",
   "execution_count": 3,
   "id": "d2dc3fa8",
   "metadata": {},
   "outputs": [
    {
     "name": "stdout",
     "output_type": "stream",
     "text": [
      "`mpia.get_mpia_mitarbeiter_list()`: cannot be restored from cache.\n"
     ]
    }
   ],
   "source": [
    "# Getting the list of authors can take sometimes (internet connection)\n",
    "# Caching the MPIA author list to avoid running this line every time we restart the kernel.\n",
    "import yaml\n",
    "try:\n",
    "    with open('tmp_mpia_authors.yml', 'r') as fin:\n",
    "        mpia_authors = yaml.load(fin, yaml.BaseLoader)\n",
    "    print(\"`mpia.get_mpia_mitarbeiter_list()`: restored from cache\")\n",
    "except FileNotFoundError:\n",
    "    print(\"`mpia.get_mpia_mitarbeiter_list()`: cannot be restored from cache.\")\n",
    "    # get list from MPIA website\n",
    "    # it automatically filters identified non-scientists :func:`mpia.filter_non_scientists`\n",
    "    mpia_authors = mpia.get_mpia_mitarbeiter_list()\n",
    "    with open('tmp_mpia_authors.yml', 'w') as fout:\n",
    "        fout.write(yaml.dump(mpia_authors))"
   ]
  },
  {
   "cell_type": "markdown",
   "id": "1464cd28",
   "metadata": {},
   "source": [
    "We get the paper to debug"
   ]
  },
  {
   "cell_type": "code",
   "execution_count": 68,
   "id": "ec77bbda",
   "metadata": {},
   "outputs": [
    {
     "data": {
      "text/markdown": [
       "\n",
       "|||\n",
       "|---:|:---|\n",
       "| [![arXiv](https://img.shields.io/badge/arXiv-2304.12343-b31b1b.svg)](https://arxiv.org/abs/2304.12343) | **The Gas-Phase Mass--Metallicity Relation for Massive Galaxies at $z\\sim0.7$ with the LEGA-C Survey**  |\n",
       "|| Zach J. Lewis, et al. |\n",
       "|*Appeared on*| *2023-04-24*|\n",
       "|*Comments*| *10 pages, 4 figures, 1 table*|\n",
       "|**Abstract**| The massive end of the gas-phase mass--metallicity relation (MZR) is asensitive probe of active galactic nuclei (AGN) feedback that is a crucial buthighly uncertain component of galaxy evolution models. In this paper, we extendthe $z\\sim0.7$ MZR by $\\sim$0.5 dex up tolog$(M_\\star/\\textrm{M}_\\odot)\\sim11.1$. We use extremely deep VLT VIMOSspectra from the Large Early Galaxy Astrophysics Census (LEGA-C) survey tomeasure metallicities for 145 galaxies. The LEGA-C MZR matches thenormalization of the $z\\sim0.8$ DEEP2 MZR where they overlap, so we combine thetwo to create an MZR spanning from 9.3 to 11.1 log$(M_\\star/\\textrm{M}_\\odot)$.The LEGA-C+DEEP2 MZR at $z\\sim0.7$ is offset to slightly lower metallicities(0.05-0.13 dex) than the $z\\sim0$ MZR, but it otherwise mirrors the establishedpower law rise at low/intermediate stellar masses and asymptotic flattening athigh stellar masses. We compare the LEGA-C+DEEP2 MZR to the MZR from twocosmological simulations (IllustrisTNG and SIMBA), which predict qualitativelydifferent metallicity trends for high-mass galaxies. This comparison highlightsthat our extended MZR provides a crucial observational constraint for galaxyevolution models in a mass regime where the MZR is very sensitive to choicesabout the implementation of AGN feedback.|"
      ],
      "text/plain": [
       "[2304.12343] The Gas-Phase Mass--Metallicity Relation for Massive Galaxies at $z\\sim0.7$ with the LEGA-C Survey\n",
       "\tZach J. Lewis, et al."
      ]
     },
     "execution_count": 68,
     "metadata": {},
     "output_type": "execute_result"
    }
   ],
   "source": [
    "which = \"2304.12343\"\n",
    "paper = get_paper_from_identifier(which)\n",
    "paper"
   ]
  },
  {
   "cell_type": "code",
   "execution_count": 65,
   "id": "9d005322",
   "metadata": {},
   "outputs": [],
   "source": [
    "import re\n",
    "\n",
    "def author_match(author: str, hl_list: Sequence[str], verbose=False) -> Sequence[str]:\n",
    "    \"\"\" Matching author names with a family name reference list\n",
    "    \n",
    "    :param author: the author string to check\n",
    "    :param hl_list: the list of reference authors to match\n",
    "    :param verbose: prints matching results if set\n",
    "    :return: the matching sequences or empty sequence if None\n",
    "    \"\"\"\n",
    "    for hl in hl_list:\n",
    "        match = re.findall(r\"\\b{:s}\\b\".format(author), hl, re.IGNORECASE)\n",
    "        if match:\n",
    "            if verbose:\n",
    "                print(author, ' -> ',  hl, ' | ', match)\n",
    "            return match\n",
    "        \n",
    "from typing import Sequence\n",
    "\n",
    "def highlight_authors_in_list(author_list: Sequence[str], \n",
    "                              hl_list: Sequence[str], \n",
    "                              verbose: bool = False) -> Sequence[str]:\n",
    "    \"\"\" highlight all authors of the paper that match `lst` entries\n",
    "\n",
    "    :param author_list: the list of authors\n",
    "    :param hl_list: the list of authors to highlight\n",
    "    :param verbose: prints matching results if set\n",
    "    :return: the list of authors with the highlighted authors\n",
    "    \"\"\"\n",
    "    new_authors = []\n",
    "    for author in author_list:\n",
    "        match = author_match(author, hl_list, verbose)\n",
    "        if match:\n",
    "            new_authors.append(f\"<mark>{author}</mark>\")\n",
    "        else:\n",
    "            new_authors.append(f\"{author}\")\n",
    "    return new_authors"
   ]
  },
  {
   "cell_type": "code",
   "execution_count": 69,
   "id": "3c199068",
   "metadata": {},
   "outputs": [
    {
     "name": "stdout",
     "output_type": "stream",
     "text": [
      "A. d. Graaff  ->  A. D. Graaff  |  ['A. D. Graaff']\n"
     ]
    },
    {
     "data": {
      "text/markdown": [
       "\n",
       "|||\n",
       "|---:|:---|\n",
       "| [![arXiv](https://img.shields.io/badge/arXiv-2304.12343-b31b1b.svg)](https://arxiv.org/abs/2304.12343) | **The Gas-Phase Mass--Metallicity Relation for Massive Galaxies at $z\\sim0.7$ with the LEGA-C Survey**  |\n",
       "|| Z. J. Lewis, et al. -- incl., <mark>A. d. Graaff</mark> |\n",
       "|*Appeared on*| *2023-04-24*|\n",
       "|*Comments*| *10 pages, 4 figures, 1 table*|\n",
       "|**Abstract**| The massive end of the gas-phase mass--metallicity relation (MZR) is asensitive probe of active galactic nuclei (AGN) feedback that is a crucial buthighly uncertain component of galaxy evolution models. In this paper, we extendthe $z\\sim0.7$ MZR by $\\sim$0.5 dex up tolog$(M_\\star/\\textrm{M}_\\odot)\\sim11.1$. We use extremely deep VLT VIMOSspectra from the Large Early Galaxy Astrophysics Census (LEGA-C) survey tomeasure metallicities for 145 galaxies. The LEGA-C MZR matches thenormalization of the $z\\sim0.8$ DEEP2 MZR where they overlap, so we combine thetwo to create an MZR spanning from 9.3 to 11.1 log$(M_\\star/\\textrm{M}_\\odot)$.The LEGA-C+DEEP2 MZR at $z\\sim0.7$ is offset to slightly lower metallicities(0.05-0.13 dex) than the $z\\sim0$ MZR, but it otherwise mirrors the establishedpower law rise at low/intermediate stellar masses and asymptotic flattening athigh stellar masses. We compare the LEGA-C+DEEP2 MZR to the MZR from twocosmological simulations (IllustrisTNG and SIMBA), which predict qualitativelydifferent metallicity trends for high-mass galaxies. This comparison highlightsthat our extended MZR provides a crucial observational constraint for galaxyevolution models in a mass regime where the MZR is very sensitive to choicesabout the implementation of AGN feedback.|"
      ],
      "text/plain": [
       "[2304.12343] The Gas-Phase Mass--Metallicity Relation for Massive Galaxies at $z\\sim0.7$ with the LEGA-C Survey\n",
       "\tZ. J. Lewis, et al. -- incl., <mark>A. d. Graaff</mark>"
      ]
     },
     "execution_count": 69,
     "metadata": {},
     "output_type": "execute_result"
    }
   ],
   "source": [
    "# Check author list with their initials\n",
    "normed_author_list = [mpia.get_initials(k) for k in paper['authors']]\n",
    "normed_mpia_authors = [k[1] for k in mpia_authors]\n",
    "hl_authors = highlight_authors_in_list(normed_author_list, normed_mpia_authors, verbose=True)\n",
    "matches = [(hl, orig) for hl, orig in zip(hl_authors, paper['authors']) if 'mark' in hl]\n",
    "if not matches:\n",
    "    warnings.warn(AffiliationWarning(\"WARNING: This paper does not seem to have MPIA authors.\"))\n",
    "    \n",
    "paper['authors'] = hl_authors\n",
    "paper"
   ]
  },
  {
   "cell_type": "markdown",
   "id": "f295192e",
   "metadata": {},
   "source": [
    "We get the (TeX) source\n",
    "* retrieve the tarball\n",
    "* find the main tex file and parse it\n",
    "* parse for affiliations (but debugging so we do not stop if not found)\n",
    "* generate the the output markdown"
   ]
  },
  {
   "cell_type": "code",
   "execution_count": 70,
   "id": "14ed8746",
   "metadata": {},
   "outputs": [],
   "source": [
    "def get_markdown_qrcode(paper_id: str):\n",
    "    \"\"\" Generate a qrcode to the arxiv page using qrserver.com\n",
    "    \n",
    "    :param paper: Arxiv paper\n",
    "    :returns: markdown text\n",
    "    \"\"\"\n",
    "    url = r\"https://api.qrserver.com/v1/create-qr-code/?size=100x100&data=\"\n",
    "    txt = f\"\"\"<img src={url}\"https://arxiv.org/abs/{paper_id}\">\"\"\"\n",
    "    txt = '<div id=\"qrcode\">' + txt + '</div>'\n",
    "    return txt"
   ]
  },
  {
   "cell_type": "code",
   "execution_count": 71,
   "id": "70fdd37f",
   "metadata": {
    "scrolled": false
   },
   "outputs": [
    {
     "name": "stdout",
     "output_type": "stream",
     "text": [
      "Retrieving document from  https://arxiv.org/e-print/2304.12343\n",
      "extracting tarball to tmp_2304.12343... done.\n",
      "A. d. Graaff  ->  A. D. Graaff  |  ['A. D. Graaff']\n",
      "Found 86 bibliographic references in tmp_2304.12343/lega-c_metallicities.bbl.\n"
     ]
    },
    {
     "ename": "TokenRequired",
     "evalue": "syntax error in line 270: '=' expected",
     "output_type": "error",
     "traceback": [
      "\u001b[0;31m---------------------------------------------------------------------------\u001b[0m",
      "\u001b[0;31mTokenRequired\u001b[0m                             Traceback (most recent call last)",
      "Cell \u001b[0;32mIn[71], line 38\u001b[0m\n\u001b[1;32m     36\u001b[0m     full_md \u001b[38;5;241m=\u001b[39m latex_bib\u001b[38;5;241m.\u001b[39mreplace_citations(full_md, bibdata)\n\u001b[1;32m     37\u001b[0m \u001b[38;5;28;01mexcept\u001b[39;00m \u001b[38;5;167;01mException\u001b[39;00m \u001b[38;5;28;01mas\u001b[39;00m e:\n\u001b[0;32m---> 38\u001b[0m     \u001b[38;5;28;01mraise\u001b[39;00m e\n",
      "Cell \u001b[0;32mIn[71], line 35\u001b[0m\n\u001b[1;32m     33\u001b[0m \u001b[38;5;66;03m# replace citations\u001b[39;00m\n\u001b[1;32m     34\u001b[0m \u001b[38;5;28;01mtry\u001b[39;00m:\n\u001b[0;32m---> 35\u001b[0m     bibdata \u001b[38;5;241m=\u001b[39m \u001b[43mlatex_bib\u001b[49m\u001b[38;5;241;43m.\u001b[39;49m\u001b[43mLatexBib\u001b[49m\u001b[38;5;241;43m.\u001b[39;49m\u001b[43mfrom_doc\u001b[49m\u001b[43m(\u001b[49m\u001b[43mdoc\u001b[49m\u001b[43m)\u001b[49m\n\u001b[1;32m     36\u001b[0m     full_md \u001b[38;5;241m=\u001b[39m latex_bib\u001b[38;5;241m.\u001b[39mreplace_citations(full_md, bibdata)\n\u001b[1;32m     37\u001b[0m \u001b[38;5;28;01mexcept\u001b[39;00m \u001b[38;5;167;01mException\u001b[39;00m \u001b[38;5;28;01mas\u001b[39;00m e:\n",
      "File \u001b[0;32m~/Work/projects/arxiv_display/venv/lib/python3.11/site-packages/arxiv_on_deck_2/latex_bib.py:284\u001b[0m, in \u001b[0;36mLatexBib.from_doc\u001b[0;34m(cls, doc)\u001b[0m\n\u001b[1;32m    282\u001b[0m bbl_files \u001b[38;5;241m=\u001b[39m glob(os\u001b[38;5;241m.\u001b[39mpath\u001b[38;5;241m.\u001b[39mjoin(doc\u001b[38;5;241m.\u001b[39mfolder, \u001b[38;5;124m'\u001b[39m\u001b[38;5;124m*.bbl\u001b[39m\u001b[38;5;124m'\u001b[39m))\n\u001b[1;32m    283\u001b[0m \u001b[38;5;28;01mif\u001b[39;00m bbl_files:\n\u001b[0;32m--> 284\u001b[0m     bib_data \u001b[38;5;241m=\u001b[39m \u001b[43m[\u001b[49m\u001b[43mparse_bbl\u001b[49m\u001b[43m(\u001b[49m\u001b[43mfname\u001b[49m\u001b[43m)\u001b[49m\u001b[43m \u001b[49m\u001b[38;5;28;43;01mfor\u001b[39;49;00m\u001b[43m \u001b[49m\u001b[43mfname\u001b[49m\u001b[43m \u001b[49m\u001b[38;5;129;43;01min\u001b[39;49;00m\u001b[43m \u001b[49m\u001b[43mbbl_files\u001b[49m\u001b[43m]\u001b[49m\n\u001b[1;32m    285\u001b[0m \u001b[38;5;28;01melse\u001b[39;00m:\n\u001b[1;32m    286\u001b[0m     bibfiles \u001b[38;5;241m=\u001b[39m doc\u001b[38;5;241m.\u001b[39mcontent\u001b[38;5;241m.\u001b[39mfind_all(\u001b[38;5;124m'\u001b[39m\u001b[38;5;124mbibliography\u001b[39m\u001b[38;5;124m'\u001b[39m)[\u001b[38;5;241m0\u001b[39m]\u001b[38;5;241m.\u001b[39mtext\n",
      "File \u001b[0;32m~/Work/projects/arxiv_display/venv/lib/python3.11/site-packages/arxiv_on_deck_2/latex_bib.py:284\u001b[0m, in \u001b[0;36m<listcomp>\u001b[0;34m(.0)\u001b[0m\n\u001b[1;32m    282\u001b[0m bbl_files \u001b[38;5;241m=\u001b[39m glob(os\u001b[38;5;241m.\u001b[39mpath\u001b[38;5;241m.\u001b[39mjoin(doc\u001b[38;5;241m.\u001b[39mfolder, \u001b[38;5;124m'\u001b[39m\u001b[38;5;124m*.bbl\u001b[39m\u001b[38;5;124m'\u001b[39m))\n\u001b[1;32m    283\u001b[0m \u001b[38;5;28;01mif\u001b[39;00m bbl_files:\n\u001b[0;32m--> 284\u001b[0m     bib_data \u001b[38;5;241m=\u001b[39m [\u001b[43mparse_bbl\u001b[49m\u001b[43m(\u001b[49m\u001b[43mfname\u001b[49m\u001b[43m)\u001b[49m \u001b[38;5;28;01mfor\u001b[39;00m fname \u001b[38;5;129;01min\u001b[39;00m bbl_files]\n\u001b[1;32m    285\u001b[0m \u001b[38;5;28;01melse\u001b[39;00m:\n\u001b[1;32m    286\u001b[0m     bibfiles \u001b[38;5;241m=\u001b[39m doc\u001b[38;5;241m.\u001b[39mcontent\u001b[38;5;241m.\u001b[39mfind_all(\u001b[38;5;124m'\u001b[39m\u001b[38;5;124mbibliography\u001b[39m\u001b[38;5;124m'\u001b[39m)[\u001b[38;5;241m0\u001b[39m]\u001b[38;5;241m.\u001b[39mtext\n",
      "File \u001b[0;32m~/Work/projects/arxiv_display/venv/lib/python3.11/site-packages/arxiv_on_deck_2/latex_bib.py:136\u001b[0m, in \u001b[0;36mparse_bbl\u001b[0;34m(fname)\u001b[0m\n\u001b[1;32m    134\u001b[0m \u001b[38;5;66;03m# create the bibtex text\u001b[39;00m\n\u001b[1;32m    135\u001b[0m bibtex \u001b[38;5;241m=\u001b[39m \u001b[38;5;124m'\u001b[39m\u001b[38;5;124m'\u001b[39m\u001b[38;5;241m.\u001b[39mjoin(get_bibtex_code(rk) \u001b[38;5;28;01mfor\u001b[39;00m rk \u001b[38;5;129;01min\u001b[39;00m r)\n\u001b[0;32m--> 136\u001b[0m \u001b[38;5;28;01mreturn\u001b[39;00m \u001b[43mBibliographyData\u001b[49m\u001b[38;5;241;43m.\u001b[39;49m\u001b[43mfrom_string\u001b[49m\u001b[43m(\u001b[49m\u001b[43mbibtex\u001b[49m\u001b[43m,\u001b[49m\u001b[43m \u001b[49m\u001b[38;5;124;43m'\u001b[39;49m\u001b[38;5;124;43mbibtex\u001b[39;49m\u001b[38;5;124;43m'\u001b[39;49m\u001b[43m)\u001b[49m\n",
      "File \u001b[0;32m~/Work/projects/arxiv_display/venv/lib/python3.11/site-packages/pybtex/database/__init__.py:321\u001b[0m, in \u001b[0;36mBibliographyData.from_string\u001b[0;34m(cls, value, bib_format, **kwargs)\u001b[0m\n\u001b[1;32m    312\u001b[0m \u001b[38;5;129m@classmethod\u001b[39m\n\u001b[1;32m    313\u001b[0m \u001b[38;5;28;01mdef\u001b[39;00m \u001b[38;5;21mfrom_string\u001b[39m(\u001b[38;5;28mcls\u001b[39m, value, bib_format, \u001b[38;5;241m*\u001b[39m\u001b[38;5;241m*\u001b[39mkwargs):\n\u001b[1;32m    314\u001b[0m \u001b[38;5;250m    \u001b[39m\u001b[38;5;124;03m\"\"\"\u001b[39;00m\n\u001b[1;32m    315\u001b[0m \u001b[38;5;124;03m    Return the data from a unicode string in the given format.\u001b[39;00m\n\u001b[1;32m    316\u001b[0m \n\u001b[0;32m   (...)\u001b[0m\n\u001b[1;32m    319\u001b[0m \u001b[38;5;124;03m    .. versionadded:: 0.22.2\u001b[39;00m\n\u001b[1;32m    320\u001b[0m \u001b[38;5;124;03m    \"\"\"\u001b[39;00m\n\u001b[0;32m--> 321\u001b[0m     \u001b[38;5;28;01mreturn\u001b[39;00m \u001b[43mparse_string\u001b[49m\u001b[43m(\u001b[49m\u001b[43mvalue\u001b[49m\u001b[43m,\u001b[49m\u001b[43m \u001b[49m\u001b[43mbib_format\u001b[49m\u001b[43m,\u001b[49m\u001b[43m \u001b[49m\u001b[38;5;241;43m*\u001b[39;49m\u001b[38;5;241;43m*\u001b[39;49m\u001b[43mkwargs\u001b[49m\u001b[43m)\u001b[49m\n",
      "File \u001b[0;32m~/Work/projects/arxiv_display/venv/lib/python3.11/site-packages/pybtex/database/__init__.py:942\u001b[0m, in \u001b[0;36mparse_string\u001b[0;34m(value, bib_format, **kwargs)\u001b[0m\n\u001b[1;32m    932\u001b[0m \u001b[38;5;250m\u001b[39m\u001b[38;5;124;03m\"\"\"\u001b[39;00m\n\u001b[1;32m    933\u001b[0m \u001b[38;5;124;03mParse a Unicode string containing bibliography data and return a :py:class:`.BibliographyData` object.\u001b[39;00m\n\u001b[1;32m    934\u001b[0m \n\u001b[0;32m   (...)\u001b[0m\n\u001b[1;32m    938\u001b[0m \u001b[38;5;124;03m.. versionadded:: 0.19\u001b[39;00m\n\u001b[1;32m    939\u001b[0m \u001b[38;5;124;03m\"\"\"\u001b[39;00m\n\u001b[1;32m    941\u001b[0m parser \u001b[38;5;241m=\u001b[39m find_plugin(\u001b[38;5;124m'\u001b[39m\u001b[38;5;124mpybtex.database.input\u001b[39m\u001b[38;5;124m'\u001b[39m, bib_format)(\u001b[38;5;241m*\u001b[39m\u001b[38;5;241m*\u001b[39mkwargs)\n\u001b[0;32m--> 942\u001b[0m \u001b[38;5;28;01mreturn\u001b[39;00m \u001b[43mparser\u001b[49m\u001b[38;5;241;43m.\u001b[39;49m\u001b[43mparse_string\u001b[49m\u001b[43m(\u001b[49m\u001b[43mvalue\u001b[49m\u001b[43m)\u001b[49m\n",
      "File \u001b[0;32m~/Work/projects/arxiv_display/venv/lib/python3.11/site-packages/pybtex/database/input/bibtex.py:399\u001b[0m, in \u001b[0;36mParser.parse_string\u001b[0;34m(self, text)\u001b[0m\n\u001b[1;32m    389\u001b[0m \u001b[38;5;28mself\u001b[39m\u001b[38;5;241m.\u001b[39mcommand_start \u001b[38;5;241m=\u001b[39m \u001b[38;5;241m0\u001b[39m\n\u001b[1;32m    391\u001b[0m entry_iterator \u001b[38;5;241m=\u001b[39m LowLevelParser(\n\u001b[1;32m    392\u001b[0m     text,\n\u001b[1;32m    393\u001b[0m     keyless_entries\u001b[38;5;241m=\u001b[39m\u001b[38;5;28mself\u001b[39m\u001b[38;5;241m.\u001b[39mkeyless_entries,\n\u001b[0;32m   (...)\u001b[0m\n\u001b[1;32m    397\u001b[0m     macros\u001b[38;5;241m=\u001b[39m\u001b[38;5;28mself\u001b[39m\u001b[38;5;241m.\u001b[39mmacros,\n\u001b[1;32m    398\u001b[0m )\n\u001b[0;32m--> 399\u001b[0m \u001b[38;5;28;01mfor\u001b[39;00m entry \u001b[38;5;129;01min\u001b[39;00m entry_iterator:\n\u001b[1;32m    400\u001b[0m     entry_type \u001b[38;5;241m=\u001b[39m entry[\u001b[38;5;241m0\u001b[39m]\n\u001b[1;32m    401\u001b[0m     entry_type_lower \u001b[38;5;241m=\u001b[39m entry_type\u001b[38;5;241m.\u001b[39mlower()\n",
      "File \u001b[0;32m~/Work/projects/arxiv_display/venv/lib/python3.11/site-packages/pybtex/database/input/bibtex.py:195\u001b[0m, in \u001b[0;36mLowLevelParser.parse_bibliography\u001b[0;34m(self)\u001b[0m\n\u001b[1;32m    193\u001b[0m     \u001b[38;5;28;01myield\u001b[39;00m \u001b[38;5;28mtuple\u001b[39m(\u001b[38;5;28mself\u001b[39m\u001b[38;5;241m.\u001b[39mparse_command())\n\u001b[1;32m    194\u001b[0m \u001b[38;5;28;01mexcept\u001b[39;00m PybtexSyntaxError \u001b[38;5;28;01mas\u001b[39;00m error:\n\u001b[0;32m--> 195\u001b[0m     \u001b[38;5;28;43mself\u001b[39;49m\u001b[38;5;241;43m.\u001b[39;49m\u001b[43mhandle_error\u001b[49m\u001b[43m(\u001b[49m\u001b[43merror\u001b[49m\u001b[43m)\u001b[49m\n\u001b[1;32m    196\u001b[0m \u001b[38;5;28;01mexcept\u001b[39;00m SkipEntry:\n\u001b[1;32m    197\u001b[0m     \u001b[38;5;28;01mpass\u001b[39;00m\n",
      "File \u001b[0;32m~/Work/projects/arxiv_display/venv/lib/python3.11/site-packages/pybtex/database/input/bibtex.py:385\u001b[0m, in \u001b[0;36mParser.handle_error\u001b[0;34m(self, error)\u001b[0m\n\u001b[1;32m    383\u001b[0m \u001b[38;5;28;01mdef\u001b[39;00m \u001b[38;5;21mhandle_error\u001b[39m(\u001b[38;5;28mself\u001b[39m, error):\n\u001b[1;32m    384\u001b[0m     \u001b[38;5;28;01mfrom\u001b[39;00m \u001b[38;5;21;01mpybtex\u001b[39;00m\u001b[38;5;21;01m.\u001b[39;00m\u001b[38;5;21;01merrors\u001b[39;00m \u001b[38;5;28;01mimport\u001b[39;00m report_error\n\u001b[0;32m--> 385\u001b[0m     \u001b[43mreport_error\u001b[49m\u001b[43m(\u001b[49m\u001b[43merror\u001b[49m\u001b[43m)\u001b[49m\n",
      "File \u001b[0;32m~/Work/projects/arxiv_display/venv/lib/python3.11/site-packages/pybtex/errors.py:78\u001b[0m, in \u001b[0;36mreport_error\u001b[0;34m(exception)\u001b[0m\n\u001b[1;32m     75\u001b[0m     \u001b[38;5;28;01mreturn\u001b[39;00m\n\u001b[1;32m     77\u001b[0m \u001b[38;5;28;01mif\u001b[39;00m strict:\n\u001b[0;32m---> 78\u001b[0m     \u001b[38;5;28;01mraise\u001b[39;00m exception\n\u001b[1;32m     79\u001b[0m \u001b[38;5;28;01melse\u001b[39;00m:\n\u001b[1;32m     80\u001b[0m     print_error(exception, \u001b[38;5;124m'\u001b[39m\u001b[38;5;124mWARNING: \u001b[39m\u001b[38;5;124m'\u001b[39m)\n",
      "File \u001b[0;32m~/Work/projects/arxiv_display/venv/lib/python3.11/site-packages/pybtex/database/input/bibtex.py:193\u001b[0m, in \u001b[0;36mLowLevelParser.parse_bibliography\u001b[0;34m(self)\u001b[0m\n\u001b[1;32m    191\u001b[0m \u001b[38;5;28mself\u001b[39m\u001b[38;5;241m.\u001b[39mcommand_start \u001b[38;5;241m=\u001b[39m \u001b[38;5;28mself\u001b[39m\u001b[38;5;241m.\u001b[39mpos \u001b[38;5;241m-\u001b[39m \u001b[38;5;241m1\u001b[39m\n\u001b[1;32m    192\u001b[0m \u001b[38;5;28;01mtry\u001b[39;00m:\n\u001b[0;32m--> 193\u001b[0m     \u001b[38;5;28;01myield\u001b[39;00m \u001b[38;5;28mtuple\u001b[39m(\u001b[38;5;28;43mself\u001b[39;49m\u001b[38;5;241;43m.\u001b[39;49m\u001b[43mparse_command\u001b[49m\u001b[43m(\u001b[49m\u001b[43m)\u001b[49m)\n\u001b[1;32m    194\u001b[0m \u001b[38;5;28;01mexcept\u001b[39;00m PybtexSyntaxError \u001b[38;5;28;01mas\u001b[39;00m error:\n\u001b[1;32m    195\u001b[0m     \u001b[38;5;28mself\u001b[39m\u001b[38;5;241m.\u001b[39mhandle_error(error)\n",
      "File \u001b[0;32m~/Work/projects/arxiv_display/venv/lib/python3.11/site-packages/pybtex/database/input/bibtex.py:226\u001b[0m, in \u001b[0;36mLowLevelParser.parse_command\u001b[0;34m(self)\u001b[0m\n\u001b[1;32m    224\u001b[0m     \u001b[38;5;28mself\u001b[39m\u001b[38;5;241m.\u001b[39mrequired([body_end])\n\u001b[1;32m    225\u001b[0m \u001b[38;5;28;01mexcept\u001b[39;00m PybtexSyntaxError \u001b[38;5;28;01mas\u001b[39;00m error:\n\u001b[0;32m--> 226\u001b[0m     \u001b[38;5;28;43mself\u001b[39;49m\u001b[38;5;241;43m.\u001b[39;49m\u001b[43mhandle_error\u001b[49m\u001b[43m(\u001b[49m\u001b[43merror\u001b[49m\u001b[43m)\u001b[49m\n\u001b[1;32m    227\u001b[0m \u001b[38;5;28;01mreturn\u001b[39;00m make_result()\n",
      "File \u001b[0;32m~/Work/projects/arxiv_display/venv/lib/python3.11/site-packages/pybtex/database/input/bibtex.py:385\u001b[0m, in \u001b[0;36mParser.handle_error\u001b[0;34m(self, error)\u001b[0m\n\u001b[1;32m    383\u001b[0m \u001b[38;5;28;01mdef\u001b[39;00m \u001b[38;5;21mhandle_error\u001b[39m(\u001b[38;5;28mself\u001b[39m, error):\n\u001b[1;32m    384\u001b[0m     \u001b[38;5;28;01mfrom\u001b[39;00m \u001b[38;5;21;01mpybtex\u001b[39;00m\u001b[38;5;21;01m.\u001b[39;00m\u001b[38;5;21;01merrors\u001b[39;00m \u001b[38;5;28;01mimport\u001b[39;00m report_error\n\u001b[0;32m--> 385\u001b[0m     \u001b[43mreport_error\u001b[49m\u001b[43m(\u001b[49m\u001b[43merror\u001b[49m\u001b[43m)\u001b[49m\n",
      "File \u001b[0;32m~/Work/projects/arxiv_display/venv/lib/python3.11/site-packages/pybtex/errors.py:78\u001b[0m, in \u001b[0;36mreport_error\u001b[0;34m(exception)\u001b[0m\n\u001b[1;32m     75\u001b[0m     \u001b[38;5;28;01mreturn\u001b[39;00m\n\u001b[1;32m     77\u001b[0m \u001b[38;5;28;01mif\u001b[39;00m strict:\n\u001b[0;32m---> 78\u001b[0m     \u001b[38;5;28;01mraise\u001b[39;00m exception\n\u001b[1;32m     79\u001b[0m \u001b[38;5;28;01melse\u001b[39;00m:\n\u001b[1;32m     80\u001b[0m     print_error(exception, \u001b[38;5;124m'\u001b[39m\u001b[38;5;124mWARNING: \u001b[39m\u001b[38;5;124m'\u001b[39m)\n",
      "File \u001b[0;32m~/Work/projects/arxiv_display/venv/lib/python3.11/site-packages/pybtex/database/input/bibtex.py:223\u001b[0m, in \u001b[0;36mLowLevelParser.parse_command\u001b[0;34m(self)\u001b[0m\n\u001b[1;32m    221\u001b[0m     make_result \u001b[38;5;241m=\u001b[39m \u001b[38;5;28;01mlambda\u001b[39;00m: (command, (\u001b[38;5;28mself\u001b[39m\u001b[38;5;241m.\u001b[39mcurrent_entry_key, \u001b[38;5;28mself\u001b[39m\u001b[38;5;241m.\u001b[39mcurrent_fields))\n\u001b[1;32m    222\u001b[0m \u001b[38;5;28;01mtry\u001b[39;00m:\n\u001b[0;32m--> 223\u001b[0m     \u001b[43mparse_body\u001b[49m\u001b[43m(\u001b[49m\u001b[43mbody_end\u001b[49m\u001b[43m)\u001b[49m\n\u001b[1;32m    224\u001b[0m     \u001b[38;5;28mself\u001b[39m\u001b[38;5;241m.\u001b[39mrequired([body_end])\n\u001b[1;32m    225\u001b[0m \u001b[38;5;28;01mexcept\u001b[39;00m PybtexSyntaxError \u001b[38;5;28;01mas\u001b[39;00m error:\n",
      "File \u001b[0;32m~/Work/projects/arxiv_display/venv/lib/python3.11/site-packages/pybtex/database/input/bibtex.py:242\u001b[0m, in \u001b[0;36mLowLevelParser.parse_entry_body\u001b[0;34m(self, body_end)\u001b[0m\n\u001b[1;32m    240\u001b[0m     key_pattern \u001b[38;5;241m=\u001b[39m \u001b[38;5;28mself\u001b[39m\u001b[38;5;241m.\u001b[39mKEY_PAREN \u001b[38;5;28;01mif\u001b[39;00m body_end \u001b[38;5;241m==\u001b[39m \u001b[38;5;28mself\u001b[39m\u001b[38;5;241m.\u001b[39mRPAREN \u001b[38;5;28;01melse\u001b[39;00m \u001b[38;5;28mself\u001b[39m\u001b[38;5;241m.\u001b[39mKEY_BRACE\n\u001b[1;32m    241\u001b[0m     \u001b[38;5;28mself\u001b[39m\u001b[38;5;241m.\u001b[39mcurrent_entry_key \u001b[38;5;241m=\u001b[39m \u001b[38;5;28mself\u001b[39m\u001b[38;5;241m.\u001b[39mrequired([key_pattern])\u001b[38;5;241m.\u001b[39mvalue\n\u001b[0;32m--> 242\u001b[0m \u001b[38;5;28;43mself\u001b[39;49m\u001b[38;5;241;43m.\u001b[39;49m\u001b[43mparse_entry_fields\u001b[49m\u001b[43m(\u001b[49m\u001b[43m)\u001b[49m\n\u001b[1;32m    243\u001b[0m \u001b[38;5;28;01mif\u001b[39;00m \u001b[38;5;129;01mnot\u001b[39;00m \u001b[38;5;28mself\u001b[39m\u001b[38;5;241m.\u001b[39mwant_current_entry():\n\u001b[1;32m    244\u001b[0m     \u001b[38;5;28;01mraise\u001b[39;00m SkipEntry\n",
      "File \u001b[0;32m~/Work/projects/arxiv_display/venv/lib/python3.11/site-packages/pybtex/database/input/bibtex.py:250\u001b[0m, in \u001b[0;36mLowLevelParser.parse_entry_fields\u001b[0;34m(self)\u001b[0m\n\u001b[1;32m    248\u001b[0m \u001b[38;5;28mself\u001b[39m\u001b[38;5;241m.\u001b[39mcurrent_field_name \u001b[38;5;241m=\u001b[39m \u001b[38;5;28;01mNone\u001b[39;00m\n\u001b[1;32m    249\u001b[0m \u001b[38;5;28mself\u001b[39m\u001b[38;5;241m.\u001b[39mcurrent_value \u001b[38;5;241m=\u001b[39m []\n\u001b[0;32m--> 250\u001b[0m \u001b[38;5;28;43mself\u001b[39;49m\u001b[38;5;241;43m.\u001b[39;49m\u001b[43mparse_field\u001b[49m\u001b[43m(\u001b[49m\u001b[43m)\u001b[49m\n\u001b[1;32m    251\u001b[0m \u001b[38;5;28;01mif\u001b[39;00m \u001b[38;5;28mself\u001b[39m\u001b[38;5;241m.\u001b[39mcurrent_field_name \u001b[38;5;129;01mand\u001b[39;00m \u001b[38;5;28mself\u001b[39m\u001b[38;5;241m.\u001b[39mcurrent_value:\n\u001b[1;32m    252\u001b[0m     \u001b[38;5;28mself\u001b[39m\u001b[38;5;241m.\u001b[39mcurrent_fields\u001b[38;5;241m.\u001b[39mappend((\u001b[38;5;28mself\u001b[39m\u001b[38;5;241m.\u001b[39mcurrent_field_name, \u001b[38;5;28mself\u001b[39m\u001b[38;5;241m.\u001b[39mcurrent_value))\n",
      "File \u001b[0;32m~/Work/projects/arxiv_display/venv/lib/python3.11/site-packages/pybtex/database/input/bibtex.py:262\u001b[0m, in \u001b[0;36mLowLevelParser.parse_field\u001b[0;34m(self)\u001b[0m\n\u001b[1;32m    260\u001b[0m     \u001b[38;5;28;01mreturn\u001b[39;00m\n\u001b[1;32m    261\u001b[0m \u001b[38;5;28mself\u001b[39m\u001b[38;5;241m.\u001b[39mcurrent_field_name \u001b[38;5;241m=\u001b[39m name\u001b[38;5;241m.\u001b[39mvalue\n\u001b[0;32m--> 262\u001b[0m \u001b[38;5;28;43mself\u001b[39;49m\u001b[38;5;241;43m.\u001b[39;49m\u001b[43mrequired\u001b[49m\u001b[43m(\u001b[49m\u001b[43m[\u001b[49m\u001b[38;5;28;43mself\u001b[39;49m\u001b[38;5;241;43m.\u001b[39;49m\u001b[43mEQUALS\u001b[49m\u001b[43m]\u001b[49m\u001b[43m)\u001b[49m\n\u001b[1;32m    263\u001b[0m \u001b[38;5;28mself\u001b[39m\u001b[38;5;241m.\u001b[39mparse_value()\n",
      "File \u001b[0;32m~/Work/projects/arxiv_display/venv/lib/python3.11/site-packages/pybtex/scanner.py:120\u001b[0m, in \u001b[0;36mScanner.required\u001b[0;34m(self, patterns, description, allow_eof)\u001b[0m\n\u001b[1;32m    118\u001b[0m     \u001b[38;5;28;01mif\u001b[39;00m \u001b[38;5;129;01mnot\u001b[39;00m description:\n\u001b[1;32m    119\u001b[0m         description \u001b[38;5;241m=\u001b[39m \u001b[38;5;124m'\u001b[39m\u001b[38;5;124m or \u001b[39m\u001b[38;5;124m'\u001b[39m\u001b[38;5;241m.\u001b[39mjoin(pattern\u001b[38;5;241m.\u001b[39mdescription \u001b[38;5;28;01mfor\u001b[39;00m pattern \u001b[38;5;129;01min\u001b[39;00m patterns)\n\u001b[0;32m--> 120\u001b[0m     \u001b[38;5;28;01mraise\u001b[39;00m TokenRequired(description, \u001b[38;5;28mself\u001b[39m)\n\u001b[1;32m    121\u001b[0m \u001b[38;5;28;01melse\u001b[39;00m:\n\u001b[1;32m    122\u001b[0m     \u001b[38;5;28;01mreturn\u001b[39;00m token\n",
      "\u001b[0;31mTokenRequired\u001b[0m: syntax error in line 270: '=' expected"
     ]
    }
   ],
   "source": [
    "paper_id = f'{which:s}'\n",
    "folder = f'tmp_{paper_id:s}'\n",
    "\n",
    "if not os.path.isdir(folder):\n",
    "    folder = retrieve_document_source(f\"{paper_id}\", f'tmp_{paper_id}')\n",
    "\n",
    "try:\n",
    "    doc = latex.LatexDocument(folder, validation=validation)    \n",
    "except AffiliationError as affilerror:\n",
    "    msg = f\"ArXiv:{paper_id:s} is not an MPIA paper... \" + str(affilerror)\n",
    "    print(msg)\n",
    "\n",
    "# Hack because sometimes author parsing does not work well\n",
    "if (len(doc.authors) != len(paper['authors'])):\n",
    "    doc._authors = paper['authors']\n",
    "else:\n",
    "    # highlight authors (FIXME: doc.highlight_authors)\n",
    "    # done on arxiv paper already\n",
    "    doc._authors = highlight_authors_in_list(\n",
    "        [mpia.get_initials(k) for k in doc.authors], \n",
    "        normed_mpia_authors, verbose=True)\n",
    "if (doc.abstract) in (None, ''):\n",
    "    doc._abstract = paper['abstract']\n",
    "\n",
    "doc.comment = get_markdown_badge(paper_id) \n",
    "if paper['comments']:\n",
    "    doc.comment += \" _\" + paper['comments'] + \"_\"\n",
    "\n",
    "full_md = doc.generate_markdown_text()\n",
    "\n",
    "full_md += get_markdown_qrcode(paper_id)\n",
    "\n",
    "# replace citations\n",
    "try:\n",
    "    bibdata = latex_bib.LatexBib.from_doc(doc)\n",
    "    full_md = latex_bib.replace_citations(full_md, bibdata)\n",
    "except Exception as e:\n",
    "    raise e"
   ]
  },
  {
   "cell_type": "code",
   "execution_count": null,
   "id": "e394c1b5",
   "metadata": {},
   "outputs": [],
   "source": [
    "paper['comments']"
   ]
  },
  {
   "cell_type": "code",
   "execution_count": null,
   "id": "2eebb72b",
   "metadata": {
    "scrolled": false
   },
   "outputs": [],
   "source": [
    "Markdown(full_md)"
   ]
  },
  {
   "cell_type": "code",
   "execution_count": null,
   "id": "9332316f",
   "metadata": {},
   "outputs": [],
   "source": [
    "print(doc.abstract)"
   ]
  },
  {
   "cell_type": "code",
   "execution_count": null,
   "id": "fe0e1424",
   "metadata": {},
   "outputs": [],
   "source": [
    "def export_markdown_summary(md: str, md_fname:str, directory: str):\n",
    "    \"\"\"Export MD document and associated relevant images\"\"\"\n",
    "    import os\n",
    "    import shutil\n",
    "    import re\n",
    "\n",
    "    if (os.path.exists(directory) and not os.path.isdir(directory)):\n",
    "        raise RuntimeError(f\"a non-directory file exists with name {directory:s}\")\n",
    "\n",
    "    if (not os.path.exists(directory)):\n",
    "        print(f\"creating directory {directory:s}\")\n",
    "        os.mkdir(directory)\n",
    "\n",
    "    fig_fnames = (re.compile(r'\\[Fig.*\\]\\((.*)\\)').findall(md) + \n",
    "                  re.compile(r'\\<img src=\"([^>\\s]*)\"[^>]*/>').findall(md))\n",
    "    for fname in fig_fnames:\n",
    "        if 'http' in fname:\n",
    "            # No need to copy online figures\n",
    "            continue\n",
    "        destdir = os.path.join(directory, os.path.dirname(fname))\n",
    "        destfname = os.path.join(destdir, os.path.basename(fname))\n",
    "        try:\n",
    "            os.makedirs(destdir)\n",
    "        except FileExistsError:\n",
    "            pass\n",
    "        shutil.copy(fname, destfname)\n",
    "    with open(os.path.join(directory, md_fname), 'w') as fout:\n",
    "        fout.write(md)\n",
    "    print(\"exported in \", os.path.join(directory, md_fname))\n",
    "    [print(\"    + \" + os.path.join(directory,fk)) for fk in fig_fnames]"
   ]
  },
  {
   "cell_type": "code",
   "execution_count": 72,
   "id": "45a6ec34",
   "metadata": {},
   "outputs": [
    {
     "name": "stdout",
     "output_type": "stream",
     "text": [
      "exported in  _build/html/2304.12343.md\n",
      "    + _build/html/tmp_2304.12343/./selection.png\n",
      "    + _build/html/tmp_2304.12343/./mzr.png\n",
      "    + _build/html/tmp_2304.12343/./line_ratios.png\n"
     ]
    }
   ],
   "source": [
    "export_markdown_summary(full_md, f\"{paper_id:s}.md\", '_build/html/')"
   ]
  },
  {
   "cell_type": "code",
   "execution_count": null,
   "id": "3078d560",
   "metadata": {},
   "outputs": [],
   "source": []
  }
 ],
 "metadata": {
  "kernelspec": {
   "display_name": "Python 3 (ipykernel)",
   "language": "python",
   "name": "python3"
  },
  "language_info": {
   "codemirror_mode": {
    "name": "ipython",
    "version": 3
   },
   "file_extension": ".py",
   "mimetype": "text/x-python",
   "name": "python",
   "nbconvert_exporter": "python",
   "pygments_lexer": "ipython3",
   "version": "3.11.3"
  }
 },
 "nbformat": 4,
 "nbformat_minor": 5
}
