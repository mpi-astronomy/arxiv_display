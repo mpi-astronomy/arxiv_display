{
 "cells": [
  {
   "cell_type": "markdown",
   "id": "a37a5752",
   "metadata": {},
   "source": [
    "# MPIA Arxiv on Deck 2: Debugging notebook\n",
    "\n",
    "In this notebook, I keep some first order commands for diagnostic of issues with papers.\n",
    "Main definitions are taken from the main notebook."
   ]
  },
  {
   "cell_type": "code",
   "execution_count": 1,
   "id": "7d232022",
   "metadata": {},
   "outputs": [],
   "source": [
    "# Imports\n",
    "import os\n",
    "from IPython.display import Markdown, display\n",
    "from tqdm.notebook import tqdm\n",
    "import warnings\n",
    "from PIL import Image \n",
    "\n",
    "# requires arxiv_on_deck_2\n",
    "\n",
    "from arxiv_on_deck_2.arxiv2 import (get_new_papers, \n",
    "                                    get_paper_from_identifier,\n",
    "                                    retrieve_document_source, \n",
    "                                    get_markdown_badge)\n",
    "from arxiv_on_deck_2 import (latex,\n",
    "                             latex_bib,\n",
    "                             mpia,\n",
    "                             highlight_authors_in_list)\n",
    "\n",
    "# Sometimes images are really big\n",
    "Image.MAX_IMAGE_PIXELS = 1000000000 \n",
    "\n",
    "# Some useful definitions.\n",
    "class AffiliationWarning(UserWarning):\n",
    "    pass\n",
    "\n",
    "class AffiliationError(RuntimeError):\n",
    "    pass\n",
    "\n",
    "def validation(source: str):\n",
    "    \"\"\"Raises error paper during parsing of source file\n",
    "    \n",
    "    Allows checks before parsing TeX code.\n",
    "    \n",
    "    Raises AffiliationWarning\n",
    "    \"\"\"\n",
    "    check = mpia.affiliation_verifications(source, verbose=True)\n",
    "    if check is not True:\n",
    "        raise AffiliationError(\"mpia.affiliation_verifications: \" + check)\n",
    "\n",
    "        \n",
    "warnings.simplefilter('always', AffiliationWarning)"
   ]
  },
  {
   "cell_type": "markdown",
   "id": "6faf91a3",
   "metadata": {},
   "source": [
    "We get the author list from the MPIA website"
   ]
  },
  {
   "cell_type": "code",
   "execution_count": 2,
   "id": "94dc07a4",
   "metadata": {},
   "outputs": [],
   "source": [
    "# !rm -f tmp_mpia_authors.yml"
   ]
  },
  {
   "cell_type": "code",
   "execution_count": 3,
   "id": "d2dc3fa8",
   "metadata": {},
   "outputs": [
    {
     "name": "stdout",
     "output_type": "stream",
     "text": [
      "`mpia.get_mpia_mitarbeiter_list()`: restored from cache\n"
     ]
    }
   ],
   "source": [
    "# Getting the list of authors can take sometimes (internet connection)\n",
    "# Caching the MPIA author list to avoid running this line every time we restart the kernel.\n",
    "import yaml\n",
    "try:\n",
    "    with open('tmp_mpia_authors.yml', 'r') as fin:\n",
    "        mpia_authors = yaml.load(fin, yaml.BaseLoader)\n",
    "    print(\"`mpia.get_mpia_mitarbeiter_list()`: restored from cache\")\n",
    "except FileNotFoundError:\n",
    "    print(\"`mpia.get_mpia_mitarbeiter_list()`: cannot be restored from cache.\")\n",
    "    # get list from MPIA website\n",
    "    # it automatically filters identified non-scientists :func:`mpia.filter_non_scientists`\n",
    "    mpia_authors = mpia.get_mpia_mitarbeiter_list()\n",
    "    with open('tmp_mpia_authors.yml', 'w') as fout:\n",
    "        fout.write(yaml.dump(mpia_authors))"
   ]
  },
  {
   "cell_type": "markdown",
   "id": "1464cd28",
   "metadata": {},
   "source": [
    "We get the paper to debug"
   ]
  },
  {
   "cell_type": "code",
   "execution_count": 4,
   "id": "ec77bbda",
   "metadata": {},
   "outputs": [
    {
     "data": {
      "text/markdown": [
       "\n",
       "|||\n",
       "|---:|:---|\n",
       "| [![arXiv](https://img.shields.io/badge/arXiv-2303.12101-b31b1b.svg)](https://arxiv.org/abs/2303.12101) | **Stellar associations powering HII regions $\\unicode{x2013}$ I. Defining an evolutionary sequence**  |\n",
       "|| Fabian Scheuermann, et al. |\n",
       "|*Appeared on*| *2023-03-21*|\n",
       "|*Comments*| *15 pages, 12 figures. Accepted for publication in MNRAS*|\n",
       "|**Abstract**| Connecting the gas in HII regions to the underlying source of the ionizingradiation can help us constrain the physical processes of stellar feedback andhow HII regions evolve over time. With PHANGS$\\unicode{x2013}$MUSE we detectnearly 24,000 HII regions across 19 galaxies and measure the physicalproperties of the ionized gas (e.g. metallicity, ionization parameter,density). We use catalogues of multi-scale stellar associations fromPHANGS$\\unicode{x2013}$HST to obtain constraints on the age of the ionizingsources. We construct a matched catalogue of 4,177 HII regions that are clearlylinked to a single ionizing association. A weak anti-correlation is observedbetween the association ages and the H$\\alpha$ equivalent width EW(H$\\alpha$),the H$\\alpha$/FUV flux ratio and the ionization parameter, log q. As all threeare expected to decrease as the stellar population ages, this could indicatethat we observe an evolutionary sequence. This interpretation is furthersupported by correlations between all three properties. Interpreting these asevolutionary tracers, we find younger nebulae to be more attenuated by dust andcloser to giant molecular clouds, in line with recent models offeedback-regulated star formation. We also observe strong correlations with thelocal metallicity variations and all three proposed age tracers, suggestive ofstar formation preferentially occurring in locations of locally enhancedmetallicity. Overall, EW(H$\\alpha$) and log q show the most consistent trendsand appear to be most reliable tracers for the age of an HII region.|"
      ],
      "text/plain": [
       "[2303.12101] Stellar associations powering HII regions $\\unicode{x2013}$ I. Defining an evolutionary sequence\n",
       "\tFabian Scheuermann, et al."
      ]
     },
     "execution_count": 4,
     "metadata": {},
     "output_type": "execute_result"
    }
   ],
   "source": [
    "which = \"2303.12101\"\n",
    "paper = get_paper_from_identifier(which)\n",
    "paper"
   ]
  },
  {
   "cell_type": "code",
   "execution_count": 5,
   "id": "3c199068",
   "metadata": {},
   "outputs": [
    {
     "data": {
      "text/markdown": [
       "\n",
       "|||\n",
       "|---:|:---|\n",
       "| [![arXiv](https://img.shields.io/badge/arXiv-2303.12101-b31b1b.svg)](https://arxiv.org/abs/2303.12101) | **Stellar associations powering HII regions $\\unicode{x2013}$ I. Defining an evolutionary sequence**  |\n",
       "|| F. Scheuermann, et al. -- incl., <mark>K. Kreckel</mark>, <mark>S. Hannon</mark>, <mark>E. Schinnerer</mark> |\n",
       "|*Appeared on*| *2023-03-21*|\n",
       "|*Comments*| *15 pages, 12 figures. Accepted for publication in MNRAS*|\n",
       "|**Abstract**| Connecting the gas in HII regions to the underlying source of the ionizingradiation can help us constrain the physical processes of stellar feedback andhow HII regions evolve over time. With PHANGS$\\unicode{x2013}$MUSE we detectnearly 24,000 HII regions across 19 galaxies and measure the physicalproperties of the ionized gas (e.g. metallicity, ionization parameter,density). We use catalogues of multi-scale stellar associations fromPHANGS$\\unicode{x2013}$HST to obtain constraints on the age of the ionizingsources. We construct a matched catalogue of 4,177 HII regions that are clearlylinked to a single ionizing association. A weak anti-correlation is observedbetween the association ages and the H$\\alpha$ equivalent width EW(H$\\alpha$),the H$\\alpha$/FUV flux ratio and the ionization parameter, log q. As all threeare expected to decrease as the stellar population ages, this could indicatethat we observe an evolutionary sequence. This interpretation is furthersupported by correlations between all three properties. Interpreting these asevolutionary tracers, we find younger nebulae to be more attenuated by dust andcloser to giant molecular clouds, in line with recent models offeedback-regulated star formation. We also observe strong correlations with thelocal metallicity variations and all three proposed age tracers, suggestive ofstar formation preferentially occurring in locations of locally enhancedmetallicity. Overall, EW(H$\\alpha$) and log q show the most consistent trendsand appear to be most reliable tracers for the age of an HII region.|"
      ],
      "text/plain": [
       "[2303.12101] Stellar associations powering HII regions $\\unicode{x2013}$ I. Defining an evolutionary sequence\n",
       "\tF. Scheuermann, et al. -- incl., <mark>K. Kreckel</mark>, <mark>S. Hannon</mark>, <mark>E. Schinnerer</mark>"
      ]
     },
     "execution_count": 5,
     "metadata": {},
     "output_type": "execute_result"
    }
   ],
   "source": [
    "# Check author list with their initials\n",
    "normed_author_list = [mpia.get_initials(k) for k in paper['authors']]\n",
    "normed_mpia_authors = [k[1] for k in mpia_authors]\n",
    "hl_authors = highlight_authors_in_list(normed_author_list, normed_mpia_authors, verbose=True)\n",
    "matches = [(hl, orig) for hl, orig in zip(hl_authors, paper['authors']) if 'mark' in hl]\n",
    "if not matches:\n",
    "    warnings.warn(AffiliationWarning(\"WARNING: This paper does not seem to have MPIA authors.\"))\n",
    "    \n",
    "paper['authors'] = hl_authors\n",
    "paper"
   ]
  },
  {
   "cell_type": "markdown",
   "id": "f295192e",
   "metadata": {},
   "source": [
    "We get the (TeX) source\n",
    "* retrieve the tarball\n",
    "* find the main tex file and parse it\n",
    "* parse for affiliations (but debugging so we do not stop if not found)\n",
    "* generate the the output markdown"
   ]
  },
  {
   "cell_type": "code",
   "execution_count": 6,
   "id": "14ed8746",
   "metadata": {},
   "outputs": [],
   "source": [
    "def get_markdown_qrcode(paper_id: str):\n",
    "    \"\"\" Generate a qrcode to the arxiv page using qrserver.com\n",
    "    \n",
    "    :param paper: Arxiv paper\n",
    "    :returns: markdown text\n",
    "    \"\"\"\n",
    "    url = r\"https://api.qrserver.com/v1/create-qr-code/?size=100x100&data=\"\n",
    "    txt = f\"\"\"<img src={url}\"https://arxiv.org/abs/{paper_id}\">\"\"\"\n",
    "    txt = '<div id=\"qrcode\">' + txt + '</div>'\n",
    "    return txt"
   ]
  },
  {
   "cell_type": "code",
   "execution_count": 7,
   "id": "70fdd37f",
   "metadata": {
    "scrolled": false
   },
   "outputs": [
    {
     "name": "stderr",
     "output_type": "stream",
     "text": [
      "/home/fouesneau/Work/projects/arxiv_display/venv/lib/python3.10/site-packages/IPython/core/interactiveshell.py:3460: LatexWarning: Multiple tex files.\n",
      "\n",
      "  exec(code_obj, self.user_global_ns, self.user_ns)\n",
      "/home/fouesneau/Work/projects/arxiv_display/venv/lib/python3.10/site-packages/IPython/core/interactiveshell.py:3460: LatexWarning: Found documentclass in tmp_2303.12101/main.tex\n",
      "\n",
      "  exec(code_obj, self.user_global_ns, self.user_ns)\n",
      "/home/fouesneau/Work/projects/arxiv_display/venv/lib/python3.10/site-packages/arxiv_on_deck_2/latex.py:369: LatexWarning: Latex injecting: 'tex/06appendix' from 'tmp_2303.12101/tex/06appendix.tex'\n",
      "  warnings.warn(LatexWarning(f\"Latex injecting: '{ext}' from '{subsource}'\"))\n",
      "/home/fouesneau/Work/projects/arxiv_display/venv/lib/python3.10/site-packages/arxiv_on_deck_2/latex.py:369: LatexWarning: Latex injecting: 'tex/05conclusion' from 'tmp_2303.12101/tex/05conclusion.tex'\n",
      "  warnings.warn(LatexWarning(f\"Latex injecting: '{ext}' from '{subsource}'\"))\n",
      "/home/fouesneau/Work/projects/arxiv_display/venv/lib/python3.10/site-packages/arxiv_on_deck_2/latex.py:369: LatexWarning: Latex injecting: 'tex/04evolutionary_sequence' from 'tmp_2303.12101/tex/04evolutionary_sequence.tex'\n",
      "  warnings.warn(LatexWarning(f\"Latex injecting: '{ext}' from '{subsource}'\"))\n",
      "/home/fouesneau/Work/projects/arxiv_display/venv/lib/python3.10/site-packages/arxiv_on_deck_2/latex.py:369: LatexWarning: Latex injecting: 'tex/03match_catalogues' from 'tmp_2303.12101/tex/03match_catalogues.tex'\n",
      "  warnings.warn(LatexWarning(f\"Latex injecting: '{ext}' from '{subsource}'\"))\n",
      "/home/fouesneau/Work/projects/arxiv_display/venv/lib/python3.10/site-packages/arxiv_on_deck_2/latex.py:369: LatexWarning: Latex injecting: 'tex/02data' from 'tmp_2303.12101/tex/02data.tex'\n",
      "  warnings.warn(LatexWarning(f\"Latex injecting: '{ext}' from '{subsource}'\"))\n",
      "/home/fouesneau/Work/projects/arxiv_display/venv/lib/python3.10/site-packages/arxiv_on_deck_2/latex.py:369: LatexWarning: Latex injecting: 'tex/01introduction' from 'tmp_2303.12101/tex/01introduction.tex'\n",
      "  warnings.warn(LatexWarning(f\"Latex injecting: '{ext}' from '{subsource}'\"))\n",
      "/home/fouesneau/Work/projects/arxiv_display/venv/lib/python3.10/site-packages/arxiv_on_deck_2/latex.py:120: LatexWarning: attempting recovering figure overlap_rgb\n",
      "  warnings.warn(LatexWarning(f'attempting recovering figure {image}'))\n",
      "/home/fouesneau/Work/projects/arxiv_display/venv/lib/python3.10/site-packages/arxiv_on_deck_2/latex.py:125: LatexWarning: Recovered figure overlap_rgb as tmp_2303.12101/fig/overlap_rgb.png\n",
      "  warnings.warn(LatexWarning(f'Recovered figure {image} as {fname}'))\n",
      "/home/fouesneau/Work/projects/arxiv_display/venv/lib/python3.10/site-packages/arxiv_on_deck_2/latex.py:120: LatexWarning: attempting recovering figure catalogue_properties_2D_hist\n",
      "  warnings.warn(LatexWarning(f'attempting recovering figure {image}'))\n",
      "/home/fouesneau/Work/projects/arxiv_display/venv/lib/python3.10/site-packages/arxiv_on_deck_2/latex.py:125: LatexWarning: Recovered figure catalogue_properties_2D_hist as tmp_2303.12101/fig/catalogue_properties_2D_hist.png\n",
      "  warnings.warn(LatexWarning(f'Recovered figure {image} as {fname}'))\n",
      "/home/fouesneau/Work/projects/arxiv_display/venv/lib/python3.10/site-packages/arxiv_on_deck_2/latex.py:120: LatexWarning: attempting recovering figure Halpha_luminosity_function\n",
      "  warnings.warn(LatexWarning(f'attempting recovering figure {image}'))\n",
      "/home/fouesneau/Work/projects/arxiv_display/venv/lib/python3.10/site-packages/arxiv_on_deck_2/latex.py:125: LatexWarning: Recovered figure Halpha_luminosity_function as tmp_2303.12101/fig/Halpha_luminosity_function.png\n",
      "  warnings.warn(LatexWarning(f'Recovered figure {image} as {fname}'))\n",
      "/home/fouesneau/Work/projects/arxiv_display/venv/lib/python3.10/site-packages/arxiv_on_deck_2/latex.py:120: LatexWarning: attempting recovering figure mass_HA_EBV\n",
      "  warnings.warn(LatexWarning(f'attempting recovering figure {image}'))\n",
      "/home/fouesneau/Work/projects/arxiv_display/venv/lib/python3.10/site-packages/arxiv_on_deck_2/latex.py:125: LatexWarning: Recovered figure mass_HA_EBV as tmp_2303.12101/fig/mass_HA_EBV.png\n",
      "  warnings.warn(LatexWarning(f'Recovered figure {image} as {fname}'))\n",
      "/home/fouesneau/Work/projects/arxiv_display/venv/lib/python3.10/site-packages/arxiv_on_deck_2/latex.py:120: LatexWarning: attempting recovering figure age_tracers\n",
      "  warnings.warn(LatexWarning(f'attempting recovering figure {image}'))\n",
      "/home/fouesneau/Work/projects/arxiv_display/venv/lib/python3.10/site-packages/arxiv_on_deck_2/latex.py:125: LatexWarning: Recovered figure age_tracers as tmp_2303.12101/fig/age_tracers.png\n",
      "  warnings.warn(LatexWarning(f'Recovered figure {image} as {fname}'))\n",
      "/home/fouesneau/Work/projects/arxiv_display/venv/lib/python3.10/site-packages/arxiv_on_deck_2/latex.py:120: LatexWarning: attempting recovering figure nebulae_age_tracers_corner\n",
      "  warnings.warn(LatexWarning(f'attempting recovering figure {image}'))\n",
      "/home/fouesneau/Work/projects/arxiv_display/venv/lib/python3.10/site-packages/arxiv_on_deck_2/latex.py:125: LatexWarning: Recovered figure nebulae_age_tracers_corner as tmp_2303.12101/fig/nebulae_age_tracers_corner.png\n",
      "  warnings.warn(LatexWarning(f'Recovered figure {image} as {fname}'))\n",
      "/home/fouesneau/Work/projects/arxiv_display/venv/lib/python3.10/site-packages/arxiv_on_deck_2/latex.py:120: LatexWarning: attempting recovering figure age_vs_Ha_over_FUV\n",
      "  warnings.warn(LatexWarning(f'attempting recovering figure {image}'))\n",
      "/home/fouesneau/Work/projects/arxiv_display/venv/lib/python3.10/site-packages/arxiv_on_deck_2/latex.py:125: LatexWarning: Recovered figure age_vs_Ha_over_FUV as tmp_2303.12101/fig/age_vs_Ha_over_FUV.png\n",
      "  warnings.warn(LatexWarning(f'Recovered figure {image} as {fname}'))\n",
      "/home/fouesneau/Work/projects/arxiv_display/venv/lib/python3.10/site-packages/arxiv_on_deck_2/latex.py:120: LatexWarning: attempting recovering figure fig/density_getCrossTemDen\n",
      "  warnings.warn(LatexWarning(f'attempting recovering figure {image}'))\n",
      "/home/fouesneau/Work/projects/arxiv_display/venv/lib/python3.10/site-packages/arxiv_on_deck_2/latex.py:658: LatexWarning: Could not find graphic \\includegraphics[width=0.8\\columnwidth]{fig/density_getCrossTemDen}\n",
      "  warnings.warn(LatexWarning(f\"Could not find graphic {k}\"))\n",
      "/home/fouesneau/Work/projects/arxiv_display/venv/lib/python3.10/site-packages/arxiv_on_deck_2/latex.py:120: LatexWarning: attempting recovering figure dolphot_peaks_stellar_models\n",
      "  warnings.warn(LatexWarning(f'attempting recovering figure {image}'))\n",
      "/home/fouesneau/Work/projects/arxiv_display/venv/lib/python3.10/site-packages/arxiv_on_deck_2/latex.py:125: LatexWarning: Recovered figure dolphot_peaks_stellar_models as tmp_2303.12101/fig/dolphot_peaks_stellar_models.png\n",
      "  warnings.warn(LatexWarning(f'Recovered figure {image} as {fname}'))\n",
      "/home/fouesneau/Work/projects/arxiv_display/venv/lib/python3.10/site-packages/arxiv_on_deck_2/latex.py:120: LatexWarning: attempting recovering figure trends_with_age_tracers\n",
      "  warnings.warn(LatexWarning(f'attempting recovering figure {image}'))\n",
      "/home/fouesneau/Work/projects/arxiv_display/venv/lib/python3.10/site-packages/arxiv_on_deck_2/latex.py:125: LatexWarning: Recovered figure trends_with_age_tracers as tmp_2303.12101/fig/trends_with_age_tracers.png\n",
      "  warnings.warn(LatexWarning(f'Recovered figure {image} as {fname}'))\n",
      "/home/fouesneau/Work/projects/arxiv_display/venv/lib/python3.10/site-packages/arxiv_on_deck_2/latex.py:120: LatexWarning: attempting recovering figure age_hist_contained\n",
      "  warnings.warn(LatexWarning(f'attempting recovering figure {image}'))\n",
      "/home/fouesneau/Work/projects/arxiv_display/venv/lib/python3.10/site-packages/arxiv_on_deck_2/latex.py:125: LatexWarning: Recovered figure age_hist_contained as tmp_2303.12101/fig/age_hist_contained.png\n",
      "  warnings.warn(LatexWarning(f'Recovered figure {image} as {fname}'))\n",
      "/home/fouesneau/Work/projects/arxiv_display/venv/lib/python3.10/site-packages/arxiv_on_deck_2/latex.py:120: LatexWarning: attempting recovering figure age_hist_eq_width\n",
      "  warnings.warn(LatexWarning(f'attempting recovering figure {image}'))\n",
      "/home/fouesneau/Work/projects/arxiv_display/venv/lib/python3.10/site-packages/arxiv_on_deck_2/latex.py:125: LatexWarning: Recovered figure age_hist_eq_width as tmp_2303.12101/fig/age_hist_eq_width.png\n",
      "  warnings.warn(LatexWarning(f'Recovered figure {image} as {fname}'))\n"
     ]
    },
    {
     "name": "stdout",
     "output_type": "stream",
     "text": [
      "Found 113 bibliographic references in tmp_2303.12101/main.bbl.\n"
     ]
    }
   ],
   "source": [
    "paper_id = f'{which:s}'\n",
    "folder = f'tmp_{paper_id:s}'\n",
    "\n",
    "if not os.path.isdir(folder):\n",
    "    folder = retrieve_document_source(f\"{paper_id}\", f'tmp_{paper_id}')\n",
    "\n",
    "try:\n",
    "    doc = latex.LatexDocument(folder, validation=validation)    \n",
    "except AffiliationError as affilerror:\n",
    "    msg = f\"ArXiv:{paper_id:s} is not an MPIA paper... \" + str(affilerror)\n",
    "    print(msg)\n",
    "\n",
    "# Hack because sometimes author parsing does not work well\n",
    "if (len(doc.authors) != len(paper['authors'])):\n",
    "    doc._authors = paper['authors']\n",
    "else:\n",
    "    # highlight authors (FIXME: doc.highlight_authors)\n",
    "    # done on arxiv paper already\n",
    "    doc._authors = highlight_authors_in_list(\n",
    "        [mpia.get_initials(k) for k in doc.authors], \n",
    "        normed_mpia_authors, verbose=True)\n",
    "if (doc.abstract) in (None, ''):\n",
    "    doc._abstract = paper['abstract']\n",
    "\n",
    "doc.comment = get_markdown_badge(paper_id) + \" _\" + paper['comments'] + \"_\"\n",
    "\n",
    "full_md = doc.generate_markdown_text()\n",
    "\n",
    "full_md += get_markdown_qrcode(paper_id)\n",
    "\n",
    "# replace citations\n",
    "try:\n",
    "    bibdata = latex_bib.LatexBib.from_doc(doc)\n",
    "    full_md = latex_bib.replace_citations(full_md, bibdata)\n",
    "except Exception as e:\n",
    "    raise e"
   ]
  },
  {
   "cell_type": "code",
   "execution_count": 8,
   "id": "2eebb72b",
   "metadata": {
    "scrolled": false
   },
   "outputs": [
    {
     "data": {
      "text/markdown": [
       "<div class=\"macros\" style=\"visibility:hidden;\">\n",
       "$\\newcommand{\\ensuremath}{}$\n",
       "$\\newcommand{\\xspace}{}$\n",
       "$\\newcommand{\\object}[1]{\\texttt{#1}}$\n",
       "$\\newcommand{\\farcs}{{.}''}$\n",
       "$\\newcommand{\\farcm}{{.}'}$\n",
       "$\\newcommand{\\arcsec}{''}$\n",
       "$\\newcommand{\\arcmin}{'}$\n",
       "$\\newcommand{\\ion}[2]{#1#2}$\n",
       "$\\newcommand{\\textsc}[1]{\\textrm{#1}}$\n",
       "$\\newcommand{\\hl}[1]{\\textrm{#1}}$\n",
       "$\\newcommand{\\footnote}[1]{}$\n",
       "$\\newcommand{\\uncertainty}[3]{#1^{+#2}_{-#3}}$\n",
       "$\\newcommand{\\StoN}{\\mathrm{S}/\\mathrm{N}}$\n",
       "$\\newcommand$\n",
       "$\\newcommand$\n",
       "$\\newcommand$\n",
       "$\\newcommand$\n",
       "$\\newcommand$\n",
       "$\\newcommand$\n",
       "$\\newcommand$\n",
       "$\\newcommand$\n",
       "$\\newcommand$\n",
       "$\\newcommand$\n",
       "$\\newcommand$\n",
       "$\\newcommand$\n",
       "$\\newcommand$\n",
       "$\\newcommand$\n",
       "$\\newcommand$\n",
       "$\\newcommand$\n",
       "$\\newcommand$\n",
       "$\\newcommand$\n",
       "$\\newcommand$\n",
       "$\\newcommand$\n",
       "$\\newcommand{\\change}[1]{{\\color{orange}#1}}$\n",
       "$\\newcommand{\\thebibliography}{\\DeclareRobustCommand{\\VAN}[3]{##3}\\VANthebibliography}$</div>\n",
       "\n",
       "\n",
       "\n",
       "<div id=\"title\">\n",
       "\n",
       "# Stellar associations powering $\\HII$ regions -- I. Defining an evolutionary sequence\n",
       "\n",
       "</div>\n",
       "<div id=\"comments\">\n",
       "\n",
       "[![arXiv](https://img.shields.io/badge/arXiv-2303.12101-b31b1b.svg)](https://arxiv.org/abs/2303.12101) _15 pages, 12 figures. Accepted for publication in MNRAS_\n",
       "\n",
       "</div>\n",
       "<div id=\"authors\">\n",
       "\n",
       "F. Scheuermann, et al. -- incl., <mark>K. Kreckel</mark>, <mark>S. Hannon</mark>, <mark>E. Schinnerer</mark>\n",
       "\n",
       "</div>\n",
       "<div id=\"abstract\">\n",
       "\n",
       "**Abstract:** Connecting the gas in $\\HII$ regions to the underlying source of the ionizing radiation can help us constrain the physical processes of stellar feedback and how $\\HII$ regions evolve over time.With PHANGS--MUSE we detect nearly $\\num{24000}$ $\\HII$ regions across 19 galaxies and measure the physical properties of the ionized gas (e.g. metallicity, ionization parameter, density).We use catalogues of multi-scale stellar associations from PHANGS-- _HST_ to obtain constraints on the age of the ionizing sources.We construct a matched catalogue of $\\num{4177}$ $\\HII$ regions that are clearly linked to a single ionizing association.A weak anti-correlation is observed between the association ages and the $\\HA$ equivalent width $\\EW$ , the $\\HA/\\FUV$ flux ratio and the ionization parameter, $\\log q$ .As all three are expected to decrease as the stellar population ages, this could indicate that we observe an evolutionary sequence.This interpretation is further supported by correlations between all three properties.Interpreting these as evolutionary tracers, we find younger nebulae to be more attenuated by dust and closer to giant molecular clouds, in line with recent models of feedback-regulated star formation.We also observe strong correlations with the local metallicity variations and all three proposed age tracers, suggestive of star formation preferentially occurring in locations of locally enhanced metallicity.Overall, $\\EW$ and $\\log q$ show the most consistent trends and appear to be most reliable tracers for the age of an $\\HII$ region.\n",
       "\n",
       "</div>\n",
       "\n",
       "<div id=\"div_fig1\">\n",
       "\n",
       "<img src=\"tmp_2303.12101/fig/nebulae_age_tracers_corner.png\" alt=\"Fig6\" width=\"100%\"/>\n",
       "\n",
       "**Figure 6. -** Comparison between the proposed age tracers for the full \\HII region catalogue. The nebulae are grouped by their host galaxy, sorted by stellar mass $M_{\\star}$, with the median of the entire sample indicated by a black line. The 68 and 98 percentile ranges are shaded in grey. (*fig:age_tracers_corner*)\n",
       "\n",
       "</div>\n",
       "<div id=\"div_fig2\">\n",
       "\n",
       "<img src=\"tmp_2303.12101/fig/overlap_rgb.png\" alt=\"Fig1\" width=\"100%\"/>\n",
       "\n",
       "**Figure 1. -** Examples for the overlap between the \\HII regions and stellar associations in \\galaxyname{NGC}{1365}. The cutouts show a three colour composite images, based on the 5 available _HST_ bands, overlaid with the $\\HA$ line emission of MUSE in red. The boundaries of the \\HII regions are shown in red and the stellar associations in blue. Flags that characterise the overlap between the two catalogues are showcased in this figure. (*fig:overlap*)\n",
       "\n",
       "</div>\n",
       "<div id=\"div_fig3\">\n",
       "\n",
       "<img src=\"tmp_2303.12101/fig/catalogue_properties_2D_hist.png\" alt=\"Fig2\" width=\"100%\"/>\n",
       "\n",
       "**Figure 2. -** Distribution of masses and ages of the stellar associations in the matched catalogue (the \\texttt{one-to-one} sample). The black lines mark the cuts that we apply to the sample to ensure a fully sampled IMF (more massive than $>\\SI{e4}{\\Msun}$) and to only include young clusters that should be associated with ionized gas (younger than $\\leq\\SI{8}{\\mega\\year}$). The mass cut leaves us with a sample of \\num{1014} objects and the age cut with \\num{3531}. Applying both cuts results in a sample of \\num{756} objects. (*fig:catalogue_properties_2D_hist_v2*)\n",
       "\n",
       "</div><div id=\"qrcode\"><img src=https://api.qrserver.com/v1/create-qr-code/?size=100x100&data=\"https://arxiv.org/abs/2303.12101\"></div>"
      ],
      "text/plain": [
       "<IPython.core.display.Markdown object>"
      ]
     },
     "execution_count": 8,
     "metadata": {},
     "output_type": "execute_result"
    }
   ],
   "source": [
    "Markdown(full_md)"
   ]
  },
  {
   "cell_type": "code",
   "execution_count": 9,
   "id": "fe0e1424",
   "metadata": {},
   "outputs": [],
   "source": [
    "def export_markdown_summary(md: str, md_fname:str, directory: str):\n",
    "    \"\"\"Export MD document and associated relevant images\"\"\"\n",
    "    import os\n",
    "    import shutil\n",
    "    import re\n",
    "\n",
    "    if (os.path.exists(directory) and not os.path.isdir(directory)):\n",
    "        raise RuntimeError(f\"a non-directory file exists with name {directory:s}\")\n",
    "\n",
    "    if (not os.path.exists(directory)):\n",
    "        print(f\"creating directory {directory:s}\")\n",
    "        os.mkdir(directory)\n",
    "\n",
    "    fig_fnames = (re.compile(r'\\[Fig.*\\]\\((.*)\\)').findall(md) + \n",
    "                  re.compile(r'\\<img src=\"([^>\\s]*)\"[^>]*/>').findall(md))\n",
    "    for fname in fig_fnames:\n",
    "        if 'http' in fname:\n",
    "            # No need to copy online figures\n",
    "            continue\n",
    "        destdir = os.path.join(directory, os.path.dirname(fname))\n",
    "        destfname = os.path.join(destdir, os.path.basename(fname))\n",
    "        try:\n",
    "            os.makedirs(destdir)\n",
    "        except FileExistsError:\n",
    "            pass\n",
    "        shutil.copy(fname, destfname)\n",
    "    with open(os.path.join(directory, md_fname), 'w') as fout:\n",
    "        fout.write(md)\n",
    "    print(\"exported in \", os.path.join(directory, md_fname))\n",
    "    [print(\"    + \" + os.path.join(directory,fk)) for fk in fig_fnames]"
   ]
  },
  {
   "cell_type": "code",
   "execution_count": 10,
   "id": "45a6ec34",
   "metadata": {},
   "outputs": [
    {
     "name": "stdout",
     "output_type": "stream",
     "text": [
      "exported in  _build/html/2303.12101.md\n",
      "    + _build/html/tmp_2303.12101/fig/nebulae_age_tracers_corner.png\n",
      "    + _build/html/tmp_2303.12101/fig/overlap_rgb.png\n",
      "    + _build/html/tmp_2303.12101/fig/catalogue_properties_2D_hist.png\n"
     ]
    }
   ],
   "source": [
    "export_markdown_summary(full_md, f\"{paper_id:s}.md\", '_build/html/')"
   ]
  }
 ],
 "metadata": {
  "kernelspec": {
   "display_name": "Python 3 (ipykernel)",
   "language": "python",
   "name": "python3"
  },
  "language_info": {
   "codemirror_mode": {
    "name": "ipython",
    "version": 3
   },
   "file_extension": ".py",
   "mimetype": "text/x-python",
   "name": "python",
   "nbconvert_exporter": "python",
   "pygments_lexer": "ipython3",
   "version": "3.10.10"
  }
 },
 "nbformat": 4,
 "nbformat_minor": 5
}
