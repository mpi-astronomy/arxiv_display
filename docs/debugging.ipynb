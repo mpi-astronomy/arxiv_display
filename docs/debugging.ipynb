{
 "cells": [
  {
   "cell_type": "markdown",
   "id": "a37a5752",
   "metadata": {},
   "source": [
    "# MPIA Arxiv on Deck 2: Debugging notebook\n",
    "\n",
    "In this notebook, I keep some first order commands for diagnostic of issues with papers.\n",
    "Main definitions are taken from the main notebook."
   ]
  },
  {
   "cell_type": "code",
   "execution_count": 1,
   "id": "7d232022",
   "metadata": {},
   "outputs": [],
   "source": [
    "# Imports\n",
    "import os\n",
    "from IPython.display import Markdown, display\n",
    "from tqdm.notebook import tqdm\n",
    "import warnings\n",
    "from PIL import Image \n",
    "\n",
    "# requires arxiv_on_deck_2\n",
    "\n",
    "from arxiv_on_deck_2.arxiv2 import (get_new_papers, \n",
    "                                    get_paper_from_identifier,\n",
    "                                    retrieve_document_source, \n",
    "                                    get_markdown_badge)\n",
    "from arxiv_on_deck_2 import (latex,\n",
    "                             latex_bib,\n",
    "                             mpia,\n",
    "                             highlight_authors_in_list)\n",
    "\n",
    "# Sometimes images are really big\n",
    "Image.MAX_IMAGE_PIXELS = 1000000000 \n",
    "\n",
    "# Some useful definitions.\n",
    "class AffiliationWarning(UserWarning):\n",
    "    pass\n",
    "\n",
    "class AffiliationError(RuntimeError):\n",
    "    pass\n",
    "\n",
    "def validation(source: str):\n",
    "    \"\"\"Raises error paper during parsing of source file\n",
    "    \n",
    "    Allows checks before parsing TeX code.\n",
    "    \n",
    "    Raises AffiliationWarning\n",
    "    \"\"\"\n",
    "    check = mpia.affiliation_verifications(source, verbose=True)\n",
    "    if check is not True:\n",
    "        raise AffiliationError(\"mpia.affiliation_verifications: \" + check)\n",
    "\n",
    "        \n",
    "warnings.simplefilter('always', AffiliationWarning)"
   ]
  },
  {
   "cell_type": "markdown",
   "id": "6faf91a3",
   "metadata": {},
   "source": [
    "We get the author list from the MPIA website"
   ]
  },
  {
   "cell_type": "code",
   "execution_count": 2,
   "id": "94dc07a4",
   "metadata": {},
   "outputs": [],
   "source": [
    "# !rm -f tmp_mpia_authors.yml"
   ]
  },
  {
   "cell_type": "code",
   "execution_count": 3,
   "id": "d2dc3fa8",
   "metadata": {},
   "outputs": [
    {
     "name": "stdout",
     "output_type": "stream",
     "text": [
      "`mpia.get_mpia_mitarbeiter_list()`: restored from cache\n"
     ]
    }
   ],
   "source": [
    "# Getting the list of authors can take sometimes (internet connection)\n",
    "# Caching the MPIA author list to avoid running this line every time we restart the kernel.\n",
    "import yaml\n",
    "try:\n",
    "    with open('tmp_mpia_authors.yml', 'r') as fin:\n",
    "        mpia_authors = yaml.load(fin, yaml.BaseLoader)\n",
    "    print(\"`mpia.get_mpia_mitarbeiter_list()`: restored from cache\")\n",
    "except FileNotFoundError:\n",
    "    print(\"`mpia.get_mpia_mitarbeiter_list()`: cannot be restored from cache.\")\n",
    "    # get list from MPIA website\n",
    "    # it automatically filters identified non-scientists :func:`mpia.filter_non_scientists`\n",
    "    mpia_authors = mpia.get_mpia_mitarbeiter_list()\n",
    "    with open('tmp_mpia_authors.yml', 'w') as fout:\n",
    "        fout.write(yaml.dump(mpia_authors))"
   ]
  },
  {
   "cell_type": "markdown",
   "id": "1464cd28",
   "metadata": {},
   "source": [
    "We get the paper to debug"
   ]
  },
  {
   "cell_type": "code",
   "execution_count": 4,
   "id": "ec77bbda",
   "metadata": {},
   "outputs": [
    {
     "data": {
      "text/markdown": [
       "\n",
       "|||\n",
       "|---:|:---|\n",
       "| [![arXiv](https://img.shields.io/badge/arXiv-2303.13732-b31b1b.svg)](https://arxiv.org/abs/2303.13732) | **Thermal Emission from the Hot Jupiter WASP-103b in $J$ and $K_{\\rm s}$ Bands**  |\n",
       "|| Yaqing Shi, et al. |\n",
       "|*Appeared on*| *2023-03-24*|\n",
       "|*Comments*| **|\n",
       "|**Abstract**| Hot Jupiters, particularly those with temperature higher than 2000\\,K are thebest sample of planets that allow in-depth characterization of theiratmospheres. We present here a thermal emission study of the ultra hot JupiterWASP\\mbox{-}103\\,b observed in two secondary eclipses with CFHT/WIRCam in $J$and $K_{\\rm s}$ bands. By means of high precision differential photometry, wedetermine eclipse depths in $J$ and $K_{\\rm s}$ to an accuracy of 220 and270\\,ppm, which are combined with the published HST/WFC3 and Spitzer data toretrieve a joint constraints on the properties of WASP-103\\,b daysideatmosphere. We find that the atmosphere is best fit with a thermal inversionlayer included. The equilibrium chemistry retrieval indicates an enhanced C/O(1.35$^{+0.14}_{-0.17}$) and a super metallicity with[Fe/H]$=2.19^{+0.51}_{-0.63}$ composition. Given the near-solar metallicity ofWASP-103 of [Fe/H]=0.06, this planet seems to be $\\sim$100 more abundant thanits host star. The free chemistry retrieval analysis yields a large abundanceof FeH, H$^{-}$, CO$_2$ and CH$_4$. Additional data of better accuracy fromfuture observations of JWST should provide better constraint of the atmosphericproperties of WASP-103b.|"
      ],
      "text/plain": [
       "[2303.13732] Thermal Emission from the Hot Jupiter WASP-103b in $J$ and $K_{\\rm s}$ Bands\n",
       "\tYaqing Shi, et al."
      ]
     },
     "execution_count": 4,
     "metadata": {},
     "output_type": "execute_result"
    }
   ],
   "source": [
    "which = \"2303.13732\"\n",
    "paper = get_paper_from_identifier(which)\n",
    "paper"
   ]
  },
  {
   "cell_type": "code",
   "execution_count": 5,
   "id": "3c199068",
   "metadata": {},
   "outputs": [
    {
     "data": {
      "text/markdown": [
       "\n",
       "|||\n",
       "|---:|:---|\n",
       "| [![arXiv](https://img.shields.io/badge/arXiv-2303.13732-b31b1b.svg)](https://arxiv.org/abs/2303.13732) | **Thermal Emission from the Hot Jupiter WASP-103b in $J$ and $K_{\\rm s}$ Bands**  |\n",
       "|| Y. Shi, et al. -- incl., <mark>M. Zhai</mark>, <mark>R. v. Boekel</mark> |\n",
       "|*Appeared on*| *2023-03-24*|\n",
       "|*Comments*| **|\n",
       "|**Abstract**| Hot Jupiters, particularly those with temperature higher than 2000\\,K are thebest sample of planets that allow in-depth characterization of theiratmospheres. We present here a thermal emission study of the ultra hot JupiterWASP\\mbox{-}103\\,b observed in two secondary eclipses with CFHT/WIRCam in $J$and $K_{\\rm s}$ bands. By means of high precision differential photometry, wedetermine eclipse depths in $J$ and $K_{\\rm s}$ to an accuracy of 220 and270\\,ppm, which are combined with the published HST/WFC3 and Spitzer data toretrieve a joint constraints on the properties of WASP-103\\,b daysideatmosphere. We find that the atmosphere is best fit with a thermal inversionlayer included. The equilibrium chemistry retrieval indicates an enhanced C/O(1.35$^{+0.14}_{-0.17}$) and a super metallicity with[Fe/H]$=2.19^{+0.51}_{-0.63}$ composition. Given the near-solar metallicity ofWASP-103 of [Fe/H]=0.06, this planet seems to be $\\sim$100 more abundant thanits host star. The free chemistry retrieval analysis yields a large abundanceof FeH, H$^{-}$, CO$_2$ and CH$_4$. Additional data of better accuracy fromfuture observations of JWST should provide better constraint of the atmosphericproperties of WASP-103b.|"
      ],
      "text/plain": [
       "[2303.13732] Thermal Emission from the Hot Jupiter WASP-103b in $J$ and $K_{\\rm s}$ Bands\n",
       "\tY. Shi, et al. -- incl., <mark>M. Zhai</mark>, <mark>R. v. Boekel</mark>"
      ]
     },
     "execution_count": 5,
     "metadata": {},
     "output_type": "execute_result"
    }
   ],
   "source": [
    "# Check author list with their initials\n",
    "normed_author_list = [mpia.get_initials(k) for k in paper['authors']]\n",
    "normed_mpia_authors = [k[1] for k in mpia_authors]\n",
    "hl_authors = highlight_authors_in_list(normed_author_list, normed_mpia_authors, verbose=True)\n",
    "matches = [(hl, orig) for hl, orig in zip(hl_authors, paper['authors']) if 'mark' in hl]\n",
    "if not matches:\n",
    "    warnings.warn(AffiliationWarning(\"WARNING: This paper does not seem to have MPIA authors.\"))\n",
    "    \n",
    "paper['authors'] = hl_authors\n",
    "paper"
   ]
  },
  {
   "cell_type": "markdown",
   "id": "f295192e",
   "metadata": {},
   "source": [
    "We get the (TeX) source\n",
    "* retrieve the tarball\n",
    "* find the main tex file and parse it\n",
    "* parse for affiliations (but debugging so we do not stop if not found)\n",
    "* generate the the output markdown"
   ]
  },
  {
   "cell_type": "code",
   "execution_count": 6,
   "id": "14ed8746",
   "metadata": {},
   "outputs": [],
   "source": [
    "def get_markdown_qrcode(paper_id: str):\n",
    "    \"\"\" Generate a qrcode to the arxiv page using qrserver.com\n",
    "    \n",
    "    :param paper: Arxiv paper\n",
    "    :returns: markdown text\n",
    "    \"\"\"\n",
    "    url = r\"https://api.qrserver.com/v1/create-qr-code/?size=100x100&data=\"\n",
    "    txt = f\"\"\"<img src={url}\"https://arxiv.org/abs/{paper_id}\">\"\"\"\n",
    "    txt = '<div id=\"qrcode\">' + txt + '</div>'\n",
    "    return txt"
   ]
  },
  {
   "cell_type": "code",
   "execution_count": 7,
   "id": "70fdd37f",
   "metadata": {
    "scrolled": false
   },
   "outputs": [
    {
     "name": "stderr",
     "output_type": "stream",
     "text": [
      "/home/fouesneau/Work/projects/arxiv_display/venv/lib/python3.10/site-packages/IPython/core/interactiveshell.py:3460: LatexWarning: Multiple tex files.\n",
      "\n",
      "  exec(code_obj, self.user_global_ns, self.user_ns)\n",
      "/home/fouesneau/Work/projects/arxiv_display/venv/lib/python3.10/site-packages/IPython/core/interactiveshell.py:3460: LatexWarning: Found documentclass in tmp_2303.13732/W103b_R2.tex\n",
      "\n",
      "  exec(code_obj, self.user_global_ns, self.user_ns)\n"
     ]
    },
    {
     "name": "stdout",
     "output_type": "stream",
     "text": [
      "Found 90 bibliographic references in tmp_2303.13732/W103b_R2.bbl.\n"
     ]
    }
   ],
   "source": [
    "paper_id = f'{which:s}'\n",
    "folder = f'tmp_{paper_id:s}'\n",
    "\n",
    "if not os.path.isdir(folder):\n",
    "    folder = retrieve_document_source(f\"{paper_id}\", f'tmp_{paper_id}')\n",
    "\n",
    "try:\n",
    "    doc = latex.LatexDocument(folder, validation=validation)    \n",
    "except AffiliationError as affilerror:\n",
    "    msg = f\"ArXiv:{paper_id:s} is not an MPIA paper... \" + str(affilerror)\n",
    "    print(msg)\n",
    "\n",
    "# Hack because sometimes author parsing does not work well\n",
    "if (len(doc.authors) != len(paper['authors'])):\n",
    "    doc._authors = paper['authors']\n",
    "else:\n",
    "    # highlight authors (FIXME: doc.highlight_authors)\n",
    "    # done on arxiv paper already\n",
    "    doc._authors = highlight_authors_in_list(\n",
    "        [mpia.get_initials(k) for k in doc.authors], \n",
    "        normed_mpia_authors, verbose=True)\n",
    "if (doc.abstract) in (None, ''):\n",
    "    doc._abstract = paper['abstract']\n",
    "\n",
    "doc.comment = get_markdown_badge(paper_id) \n",
    "if paper['comments']:\n",
    "    doc.comment += \" _\" + paper['comments'] + \"_\"\n",
    "\n",
    "full_md = doc.generate_markdown_text()\n",
    "\n",
    "full_md += get_markdown_qrcode(paper_id)\n",
    "\n",
    "# replace citations\n",
    "try:\n",
    "    bibdata = latex_bib.LatexBib.from_doc(doc)\n",
    "    full_md = latex_bib.replace_citations(full_md, bibdata)\n",
    "except Exception as e:\n",
    "    raise e"
   ]
  },
  {
   "cell_type": "code",
   "execution_count": 8,
   "id": "e394c1b5",
   "metadata": {},
   "outputs": [
    {
     "data": {
      "text/plain": [
       "''"
      ]
     },
     "execution_count": 8,
     "metadata": {},
     "output_type": "execute_result"
    }
   ],
   "source": [
    "paper['comments']"
   ]
  },
  {
   "cell_type": "code",
   "execution_count": 9,
   "id": "2eebb72b",
   "metadata": {
    "scrolled": false
   },
   "outputs": [
    {
     "data": {
      "text/markdown": [
       "<div class=\"macros\" style=\"visibility:hidden;\">\n",
       "$\\newcommand{\\ensuremath}{}$\n",
       "$\\newcommand{\\xspace}{}$\n",
       "$\\newcommand{\\object}[1]{\\texttt{#1}}$\n",
       "$\\newcommand{\\farcs}{{.}''}$\n",
       "$\\newcommand{\\farcm}{{.}'}$\n",
       "$\\newcommand{\\arcsec}{''}$\n",
       "$\\newcommand{\\arcmin}{'}$\n",
       "$\\newcommand{\\ion}[2]{#1#2}$\n",
       "$\\newcommand{\\textsc}[1]{\\textrm{#1}}$\n",
       "$\\newcommand{\\hl}[1]{\\textrm{#1}}$\n",
       "$\\newcommand{\\footnote}[1]{}$\n",
       "$\\newcommand{\\ww}[1]{{\\textcolor{black}{#1}}}$\n",
       "$\\newcommand{\\thebibliography}{\\DeclareRobustCommand{\\VAN}[3]{##3}\\VANthebibliography}$</div>\n",
       "\n",
       "\n",
       "\n",
       "<div id=\"title\">\n",
       "\n",
       "# THERMAL EMISSION FROM THE HOT JUPITER WASP-103 b IN $J$ AND $K{\\rm s}$ BANDS\n",
       "\n",
       "</div>\n",
       "<div id=\"comments\">\n",
       "\n",
       "[![arXiv](https://img.shields.io/badge/arXiv-2303.13732-b31b1b.svg)](https://arxiv.org/abs/2303.13732)\n",
       "\n",
       "</div>\n",
       "<div id=\"authors\">\n",
       "\n",
       "Y. Shi, et al. -- incl., <mark>M. Zhai</mark>, <mark>R. v. Boekel</mark>\n",
       "\n",
       "</div>\n",
       "<div id=\"abstract\">\n",
       "\n",
       "**Abstract:** Hot Jupiters, particularly those with temperature higher than 2000 K are the best sample of planets that allow in-depth characterization of their atmospheres. We present here a thermal emission study of the ultra hot Jupiter WASP $\\mbox{-}$ 103 b observed in two secondary eclipses with CFHT/WIRCam in $J$ and $K_{\\rm s}$ bands. By means of high precision differential photometry, we determine eclipse depths in $J$ and $K_{\\rm s}$ to an accuracy of 220 and 270 ppm, which are combined with the published HST/WFC3 and Spitzer data to retrieve a joint constraints on the properties of WASP-103 b dayside atmosphere. We find that the atmosphere is best fit with a thermal inversion layer included. The equilibrium chemistry retrieval indicates an enhanced C/O (1.35 $^{+0.14}_{-0.17}$ ) and a super metallicity with [ Fe/H ] $=2.19^{+0.51}_{-0.63}$ composition. Given the near-solar metallicity of WASP-103 of [ Fe/H ] =0.06, this planet seems to be $\\sim$ 100 more abundant than its host star. The free chemistry retrieval analysis yields a large abundance of FeH, H $^{-}$ , $CO_2$ and $CH_4$ . Additional data of better accuracy from future observations of JWST should provide better constraint of the atmospheric properties of WASP-103b.\n",
       "\n",
       "</div>\n",
       "\n",
       "<div id=\"div_fig1\">\n",
       "\n",
       "<img src=\"tmp_2303.13732/./pic/model_103b.png\" alt=\"Fig7\" width=\"100%\"/>\n",
       "\n",
       "**Figure 7. -** Observations and model spectra of dayside thermal emission of WASP-103b. Our $J$ and $K_{\\rm s}$ data are presented by purple solid square, and other archival data are presented by black solid circle. The orange line shows the EQ model, while the violet line shows the FREE model. $\\ww${The two dotted lines show the EQ and FREE models assuming isothermal. } (*Fig7*)\n",
       "\n",
       "</div>\n",
       "<div id=\"div_fig2\">\n",
       "\n",
       "<img src=\"tmp_2303.13732/./pic/rxb2_J.png\" alt=\"Fig2\" width=\"100%\"/>\n",
       "\n",
       "**Figure 2. -** The normalized rms$\\times\\beta^{2}$ distribution overlaid with contour maps for the various combinations of aperture diameter $D$ and the number of reference star group ($N_{\\rm RSG}$) in the $J$ band. The minimum value of rms$\\times\\beta^{2}$ is reached with $D=34$ and $N_{\\rm RSG}=5$. (*Fig2*)\n",
       "\n",
       "</div>\n",
       "<div id=\"div_fig3\">\n",
       "\n",
       "<img src=\"tmp_2303.13732/./pic/rms-beta.png\" alt=\"Fig6\" width=\"100%\"/>\n",
       "\n",
       "**Figure 6. -** RMS and noise factor $\\beta$ of our residuals to the best-fit model for the various data sets in $J$ band.  (*Fig6*)\n",
       "\n",
       "</div><div id=\"qrcode\"><img src=https://api.qrserver.com/v1/create-qr-code/?size=100x100&data=\"https://arxiv.org/abs/2303.13732\"></div>"
      ],
      "text/plain": [
       "<IPython.core.display.Markdown object>"
      ]
     },
     "execution_count": 9,
     "metadata": {},
     "output_type": "execute_result"
    }
   ],
   "source": [
    "Markdown(full_md)"
   ]
  },
  {
   "cell_type": "code",
   "execution_count": 10,
   "id": "9332316f",
   "metadata": {},
   "outputs": [
    {
     "name": "stdout",
     "output_type": "stream",
     "text": [
      "Hot Jupiters, particularly those with temperature higher than 2000 K are the best sample of planets that allow in-depth characterization of their atmospheres. We present here a thermal emission study of the ultra hot Jupiter WASP $\\mbox{-}$ 103 b observed in two secondary eclipses with CFHT/WIRCam in $J$ and $K_{\\rm s}$ bands. By means of high precision differential photometry, we determine eclipse depths in $J$ and $K_{\\rm s}$ to an accuracy of 220 and 270 ppm, which are combined with the published HST/WFC3 and Spitzer data to retrieve a joint constraints on the properties of WASP-103 b dayside atmosphere. We find that the atmosphere is best fit with a thermal inversion layer included. The equilibrium chemistry retrieval indicates an enhanced C/O (1.35 $^{+0.14}_{-0.17}$ ) and a super metallicity with [ Fe/H ] $=2.19^{+0.51}_{-0.63}$ composition. Given the near-solar metallicity of WASP-103 of [ Fe/H ] =0.06, this planet seems to be $\\sim$ 100 more abundant than its host star. The free chemistry retrieval analysis yields a large abundance of FeH, H $^{-}$ , CO $_2$ and CH $_4$ . Additional data of better accuracy from future observations of JWST should provide better constraint of the atmospheric properties of WASP-103b.\n"
     ]
    }
   ],
   "source": [
    "print(doc.abstract)"
   ]
  },
  {
   "cell_type": "code",
   "execution_count": 9,
   "id": "fe0e1424",
   "metadata": {},
   "outputs": [],
   "source": [
    "def export_markdown_summary(md: str, md_fname:str, directory: str):\n",
    "    \"\"\"Export MD document and associated relevant images\"\"\"\n",
    "    import os\n",
    "    import shutil\n",
    "    import re\n",
    "\n",
    "    if (os.path.exists(directory) and not os.path.isdir(directory)):\n",
    "        raise RuntimeError(f\"a non-directory file exists with name {directory:s}\")\n",
    "\n",
    "    if (not os.path.exists(directory)):\n",
    "        print(f\"creating directory {directory:s}\")\n",
    "        os.mkdir(directory)\n",
    "\n",
    "    fig_fnames = (re.compile(r'\\[Fig.*\\]\\((.*)\\)').findall(md) + \n",
    "                  re.compile(r'\\<img src=\"([^>\\s]*)\"[^>]*/>').findall(md))\n",
    "    for fname in fig_fnames:\n",
    "        if 'http' in fname:\n",
    "            # No need to copy online figures\n",
    "            continue\n",
    "        destdir = os.path.join(directory, os.path.dirname(fname))\n",
    "        destfname = os.path.join(destdir, os.path.basename(fname))\n",
    "        try:\n",
    "            os.makedirs(destdir)\n",
    "        except FileExistsError:\n",
    "            pass\n",
    "        shutil.copy(fname, destfname)\n",
    "    with open(os.path.join(directory, md_fname), 'w') as fout:\n",
    "        fout.write(md)\n",
    "    print(\"exported in \", os.path.join(directory, md_fname))\n",
    "    [print(\"    + \" + os.path.join(directory,fk)) for fk in fig_fnames]"
   ]
  },
  {
   "cell_type": "code",
   "execution_count": 10,
   "id": "45a6ec34",
   "metadata": {},
   "outputs": [
    {
     "name": "stdout",
     "output_type": "stream",
     "text": [
      "exported in  _build/html/2303.12101.md\n",
      "    + _build/html/tmp_2303.12101/fig/nebulae_age_tracers_corner.png\n",
      "    + _build/html/tmp_2303.12101/fig/overlap_rgb.png\n",
      "    + _build/html/tmp_2303.12101/fig/catalogue_properties_2D_hist.png\n"
     ]
    }
   ],
   "source": [
    "export_markdown_summary(full_md, f\"{paper_id:s}.md\", '_build/html/')"
   ]
  }
 ],
 "metadata": {
  "kernelspec": {
   "display_name": "Python 3 (ipykernel)",
   "language": "python",
   "name": "python3"
  },
  "language_info": {
   "codemirror_mode": {
    "name": "ipython",
    "version": 3
   },
   "file_extension": ".py",
   "mimetype": "text/x-python",
   "name": "python",
   "nbconvert_exporter": "python",
   "pygments_lexer": "ipython3",
   "version": "3.10.10"
  }
 },
 "nbformat": 4,
 "nbformat_minor": 5
}
