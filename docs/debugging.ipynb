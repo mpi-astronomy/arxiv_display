{
 "cells": [
  {
   "cell_type": "markdown",
   "id": "a37a5752",
   "metadata": {},
   "source": [
    "# MPIA Arxiv on Deck 2: Debugging notebook\n",
    "\n",
    "In this notebook, I keep some first order commands for diagnostic of issues with papers.\n",
    "Main definitions are taken from the main notebook."
   ]
  },
  {
   "cell_type": "code",
   "execution_count": 1,
   "id": "7d232022",
   "metadata": {},
   "outputs": [],
   "source": [
    "# Imports\n",
    "import os\n",
    "from IPython.display import Markdown, display\n",
    "from tqdm.notebook import tqdm\n",
    "import warnings\n",
    "from PIL import Image \n",
    "\n",
    "# requires arxiv_on_deck_2\n",
    "\n",
    "from arxiv_on_deck_2.arxiv2 import (get_new_papers, \n",
    "                                    get_paper_from_identifier,\n",
    "                                    retrieve_document_source, \n",
    "                                    get_markdown_badge)\n",
    "from arxiv_on_deck_2 import (latex,\n",
    "                             latex_bib,\n",
    "                             mpia,\n",
    "                             highlight_authors_in_list)\n",
    "\n",
    "# Sometimes images are really big\n",
    "Image.MAX_IMAGE_PIXELS = 1000000000 \n",
    "\n",
    "# Some useful definitions.\n",
    "class AffiliationWarning(UserWarning):\n",
    "    pass\n",
    "\n",
    "class AffiliationError(RuntimeError):\n",
    "    pass\n",
    "\n",
    "def validation(source: str):\n",
    "    \"\"\"Raises error paper during parsing of source file\n",
    "    \n",
    "    Allows checks before parsing TeX code.\n",
    "    \n",
    "    Raises AffiliationWarning\n",
    "    \"\"\"\n",
    "    check = mpia.affiliation_verifications(source, verbose=True)\n",
    "    if check is not True:\n",
    "        raise AffiliationError(\"mpia.affiliation_verifications: \" + check)\n",
    "\n",
    "        \n",
    "warnings.simplefilter('always', AffiliationWarning)"
   ]
  },
  {
   "cell_type": "markdown",
   "id": "6faf91a3",
   "metadata": {},
   "source": [
    "We get the author list from the MPIA website"
   ]
  },
  {
   "cell_type": "code",
   "execution_count": 2,
   "id": "d2dc3fa8",
   "metadata": {},
   "outputs": [
    {
     "name": "stdout",
     "output_type": "stream",
     "text": [
      "`mpia.get_mpia_mitarbeiter_list()`: restored from cache\n"
     ]
    }
   ],
   "source": [
    "# Getting the list of authors can take sometimes (internet connection)\n",
    "# Caching the MPIA author list to avoid running this line every time we restart the kernel.\n",
    "import yaml\n",
    "try:\n",
    "    with open('tmp_mpia_authors.yml', 'r') as fin:\n",
    "        mpia_authors = yaml.load(fin, yaml.BaseLoader)\n",
    "    print(\"`mpia.get_mpia_mitarbeiter_list()`: restored from cache\")\n",
    "except FileNotFoundError:\n",
    "    print(\"`mpia.get_mpia_mitarbeiter_list()`: cannot be restored from cache.\")\n",
    "    # get list from MPIA website\n",
    "    # it automatically filters identified non-scientists :func:`mpia.filter_non_scientists`\n",
    "    mpia_authors = mpia.get_mpia_mitarbeiter_list()\n",
    "    with open('tmp_mpia_authors.yml', 'w') as fout:\n",
    "        fout.write(yaml.dump(mpia_authors))"
   ]
  },
  {
   "cell_type": "code",
   "execution_count": 3,
   "id": "00e157fa",
   "metadata": {},
   "outputs": [],
   "source": [
    "# Get family names only\n",
    "data = [k[-1] for k in mpia_authors]\n",
    "\n",
    "# clean -- Having titles is something new at MPIA\n",
    "data = [k.replace('Dr. ', '').strip() for k in data]\n",
    "\n",
    "filtered_data = list(filter(mpia.filter_non_scientists, data))\n",
    "\n",
    "name_variations = filter(lambda x: x is not None,\n",
    "                         [mpia.consider_variations(name) for name in filtered_data])\n",
    "mitarbeiter_list = sorted(filtered_data + list(name_variations))\n",
    "\n",
    "lst = [(mpia.get_special_corrections(mpia.get_initials(name)), name) for name in mitarbeiter_list]\n",
    "lst = [(mpia.family_name_from_initials(k[0]), k[0], k[1]) for k in lst]\n",
    "lst = sorted(lst, key=lambda x: x[0])\n",
    "lst = set(lst)"
   ]
  },
  {
   "cell_type": "markdown",
   "id": "1464cd28",
   "metadata": {},
   "source": [
    "We get the paper to debug"
   ]
  },
  {
   "cell_type": "code",
   "execution_count": 4,
   "id": "ec77bbda",
   "metadata": {},
   "outputs": [
    {
     "data": {
      "text/markdown": [
       "\n",
       "|||\n",
       "|---:|:---|\n",
       "| [![arXiv](https://img.shields.io/badge/arXiv-2303.00044-b31b1b.svg)](https://arxiv.org/abs/2303.00044) | **The Initial Mass Function and Other Stellar Properties Across the Core of the Hydra I Cluster**  |\n",
       "|| Ilaria Lonoce, Wendy Freedman, Anja Feldmeier-Krause |\n",
       "|*Appeared on*| *2023-02-28*|\n",
       "|*Comments*| *32 pages, 18 figures. Accepted for publication in ApJ*|\n",
       "|**Abstract**| The Hydra I cluster offers an excellent opportunity to study and compare therelic old stellar populations in the core of its two brightest galaxies. Inaddition, the differing kinematics of the two galaxies allows a test of thelocal validity of general scaling relations. In this work we present a directcomparison employing full spectral fitting of new high-quality long-slitoptical and NIR spectroscopic data. We retrieve age, metallicity and 19elemental abundances out to about 12 kpc within each galaxy, as well as the IMFin their central regions. Our results suggest that the inner 5 kpc region ofboth galaxies, despite their different masses, formed at the same time andevolved with a similar star formation time-scale and chemical enrichment,confirming their early formation in the cluster build up. Only the overallmetallicity and IMF radial profiles show differences connected with theirdifferent velocity dispersion profiles. The radial trend of the IMF positivelycorrelates with both [Z/H] and velocity dispersion. While the trends of the IMFwith metallicity agree with a global trend for both galaxies, the trends withthe velocity dispersion exhibit differences. The outer regions show signs ofmixed stellar populations with large differences in chemical content comparedto the centers, but with similar old ages.|"
      ],
      "text/plain": [
       "[2303.00044] The Initial Mass Function and Other Stellar Properties Across the Core of the Hydra I Cluster\n",
       "\tIlaria Lonoce, Wendy Freedman, Anja Feldmeier-Krause"
      ]
     },
     "execution_count": 4,
     "metadata": {},
     "output_type": "execute_result"
    }
   ],
   "source": [
    "which = \"2303.00044\"\n",
    "paper = get_paper_from_identifier(which)\n",
    "paper"
   ]
  },
  {
   "cell_type": "code",
   "execution_count": 5,
   "id": "6dced14c",
   "metadata": {},
   "outputs": [
    {
     "data": {
      "text/markdown": [
       "\n",
       "|||\n",
       "|---:|:---|\n",
       "| [![arXiv](https://img.shields.io/badge/arXiv-2303.00044-b31b1b.svg)](https://arxiv.org/abs/2303.00044) | **The Initial Mass Function and Other Stellar Properties Across the Core of the Hydra I Cluster**  |\n",
       "|| Ilaria Lonoce, Wendy Freedman, <mark>Anja Feldmeier-Krause</mark> |\n",
       "|*Appeared on*| *2023-02-28*|\n",
       "|*Comments*| *32 pages, 18 figures. Accepted for publication in ApJ*|\n",
       "|**Abstract**| The Hydra I cluster offers an excellent opportunity to study and compare therelic old stellar populations in the core of its two brightest galaxies. Inaddition, the differing kinematics of the two galaxies allows a test of thelocal validity of general scaling relations. In this work we present a directcomparison employing full spectral fitting of new high-quality long-slitoptical and NIR spectroscopic data. We retrieve age, metallicity and 19elemental abundances out to about 12 kpc within each galaxy, as well as the IMFin their central regions. Our results suggest that the inner 5 kpc region ofboth galaxies, despite their different masses, formed at the same time andevolved with a similar star formation time-scale and chemical enrichment,confirming their early formation in the cluster build up. Only the overallmetallicity and IMF radial profiles show differences connected with theirdifferent velocity dispersion profiles. The radial trend of the IMF positivelycorrelates with both [Z/H] and velocity dispersion. While the trends of the IMFwith metallicity agree with a global trend for both galaxies, the trends withthe velocity dispersion exhibit differences. The outer regions show signs ofmixed stellar populations with large differences in chemical content comparedto the centers, but with similar old ages.|"
      ],
      "text/plain": [
       "[2303.00044] The Initial Mass Function and Other Stellar Properties Across the Core of the Hydra I Cluster\n",
       "\tIlaria Lonoce, Wendy Freedman, <mark>Anja Feldmeier-Krause</mark>"
      ]
     },
     "execution_count": 5,
     "metadata": {},
     "output_type": "execute_result"
    }
   ],
   "source": [
    "# select only papers with matching author names and highlight authors\n",
    "hl_list = [k[0] for k in lst]\n",
    "\n",
    "hl_authors = highlight_authors_in_list(paper['authors'], hl_list, verbose=True)\n",
    "matches = [(hl, orig) for hl, orig in zip(hl_authors, paper['authors']) if 'mark' in hl]\n",
    "if not matches:\n",
    "    warnings.warn(AffiliationWarning(\"WARNING: This paper does not seem to have MPIA authors.\"))\n",
    "paper['authors'] = hl_authors\n",
    "paper"
   ]
  },
  {
   "cell_type": "markdown",
   "id": "f295192e",
   "metadata": {},
   "source": [
    "We get the (TeX) source\n",
    "* retrieve the tarball\n",
    "* find the main tex file and parse it\n",
    "* parse for affiliations (but debugging so we do not stop if not found)\n",
    "* generate the the output markdown"
   ]
  },
  {
   "cell_type": "code",
   "execution_count": 6,
   "id": "70fdd37f",
   "metadata": {
    "scrolled": false
   },
   "outputs": [
    {
     "name": "stdout",
     "output_type": "stream",
     "text": [
      "Found 93 bibliographic references in tmp_2303.00044/main.bbl.\n"
     ]
    }
   ],
   "source": [
    "paper_id = f'{which:s}'\n",
    "folder = f'tmp_{paper_id:s}'\n",
    "\n",
    "if not os.path.isdir(folder):\n",
    "    folder = retrieve_document_source(f\"{paper_id}\", f'tmp_{paper_id}')\n",
    "\n",
    "try:\n",
    "    doc = latex.LatexDocument(folder, validation=validation)    \n",
    "except AffiliationError as affilerror:\n",
    "    msg = f\"ArXiv:{paper_id:s} is not an MPIA paper... \" + str(affilerror)\n",
    "    print(msg)\n",
    "\n",
    "# Hack because sometimes author parsing does not work well\n",
    "if (len(doc.authors) != len(paper['authors'])):\n",
    "    doc._authors = paper['authors']\n",
    "if (doc.abstract) in (None, ''):\n",
    "    doc._abstract = paper['abstract']\n",
    "\n",
    "doc.comment = get_markdown_badge(paper_id) + \" _\" + paper['comments'] + \"_\"\n",
    "doc.highlight_authors_in_list(hl_list, verbose=True)\n",
    "\n",
    "full_md = doc.generate_markdown_text()\n",
    "\n",
    "# replace citations\n",
    "try:\n",
    "    bibdata = latex_bib.LatexBib.from_doc(doc)\n",
    "    full_md = latex_bib.replace_citations(full_md, bibdata)\n",
    "except Exception as e:\n",
    "    raise e"
   ]
  },
  {
   "cell_type": "code",
   "execution_count": 7,
   "id": "2d7d8091",
   "metadata": {
    "scrolled": false
   },
   "outputs": [
    {
     "data": {
      "text/markdown": [
       "<div class=\"macros\" style=\"visibility:hidden;\">\n",
       "$\\newcommand{\\ensuremath}{}$\n",
       "$\\newcommand{\\xspace}{}$\n",
       "$\\newcommand{\\object}[1]{\\texttt{#1}}$\n",
       "$\\newcommand{\\farcs}{{.}''}$\n",
       "$\\newcommand{\\farcm}{{.}'}$\n",
       "$\\newcommand{\\arcsec}{''}$\n",
       "$\\newcommand{\\arcmin}{'}$\n",
       "$\\newcommand{\\ion}[2]{#1#2}$\n",
       "$\\newcommand{\\textsc}[1]{\\textrm{#1}}$\n",
       "$\\newcommand{\\hl}[1]{\\textrm{#1}}$\n",
       "$\\newcommand{\\footnote}[1]{}$\n",
       "$\\newcommand$\n",
       "$\\newcommand$\n",
       "$\\newcommand{\\afk}[1]{\\textcolor{purple}{\\uline{#1}}}$\n",
       "$\\newcommand{\\afks}[1]{\\textcolor{purple}{\\sout{#1}}}$\n",
       "$\\newcommand{\\il}[1]{\\textcolor{cyan}{\\uline{#1}}}$\n",
       "$\\newcommand{\\ils}[1]{\\textcolor{cyan}{\\sout{#1}}}$\n",
       "$\\newcommand{\\wf}[1]{\\textcolor{blue}{\\uline{#1}}}$\n",
       "$\\newcommand{\\wfs}[1]{\\textcolor{blue}{\\sout{#1}}}$</div>\n",
       "\n",
       "<div class=\"macros\" style=\"visibility:hidden;\">\n",
       "$\\newcommand{\\ensuremath}{}$\n",
       "$\\newcommand{\\xspace}{}$\n",
       "$\\newcommand{\\object}[1]{\\texttt{#1}}$\n",
       "$\\newcommand{\\farcs}{{.}''}$\n",
       "$\\newcommand{\\farcm}{{.}'}$\n",
       "$\\newcommand{\\arcsec}{''}$\n",
       "$\\newcommand{\\arcmin}{'}$\n",
       "$\\newcommand{\\ion}[2]{#1#2}$\n",
       "$\\newcommand{\\textsc}[1]{\\textrm{#1}}$\n",
       "$\\newcommand{\\hl}[1]{\\textrm{#1}}$\n",
       "$\\newcommand{\\footnote}[1]{}$\n",
       "$\\newcommand$\n",
       "$\\newcommand$\n",
       "$\\newcommand{\\afk}[1]{\\textcolor{purple}{\\uline{#1}}}$\n",
       "$\\newcommand{\\afks}[1]{\\textcolor{purple}{\\sout{#1}}}$\n",
       "$\\newcommand{\\il}[1]{\\textcolor{cyan}{\\uline{#1}}}$\n",
       "$\\newcommand{\\ils}[1]{\\textcolor{cyan}{\\sout{#1}}}$\n",
       "$\\newcommand{\\wf}[1]{\\textcolor{blue}{\\uline{#1}}}$\n",
       "$\\newcommand{\\wfs}[1]{\\textcolor{blue}{\\sout{#1}}}$</div>\n",
       "\n",
       "\n",
       "\n",
       "<div id=\"title\">\n",
       "\n",
       "# The initial mass function and other stellar properties across the core of the Hydra I cluster$\\footnote{This paper includes data gathered with the 6.5 meterMagellan Telescopes located at Las Campanas Observatory, Chile.}$\n",
       "\n",
       "</div>\n",
       "<div id=\"comments\">\n",
       "\n",
       "[![arXiv](https://img.shields.io/badge/arXiv-2303.00044-b31b1b.svg)](https://arxiv.org/abs/2303.00044) _32 pages, 18 figures. Accepted for publication in ApJ_\n",
       "\n",
       "</div>\n",
       "<div id=\"authors\">\n",
       "\n",
       "Ilaria Lonoce, W. L. Freedman, <mark>A. Feldmeier-Krause</mark>\n",
       "\n",
       "</div>\n",
       "<div id=\"abstract\">\n",
       "\n",
       "**Abstract:** The Hydra I cluster offers an excellent opportunity to study and compare the relic old stellar populations in the core of its two brightest galaxies. In addition, the differing kinematics of the two galaxies allows a test of the local validity of general scaling relations. In this work we present a direct comparison employing full spectral fitting of new high-quality long-slit optical and NIR spectroscopic  data. We retrieve age, metallicity and 19 elemental abundances out to $\\sim12$ kpc within each galaxy, as well as the IMF in their central regions.Our results suggest that the inner $\\sim5$ kpc region of both galaxies, despite their different masses, formed at the same time and evolved with a similar star formation time-scale and chemical enrichment, confirming their early formation in the cluster build up. Only the overall metallicity and IMF radial profiles show differences connected with their different velocity dispersion profiles. The radial trend of the IMF positively correlates with both [ Z/H ] and $\\sigma$ . While the trends of the IMF with metallicity agree with a global trend for both galaxies, the trends with the velocity dispersion exhibit differences. The outer regions show signs of mixed stellar populations with large differences in chemical content compared to the centers, but with similar old ages.\n",
       "\n",
       "</div>\n",
       "\n",
       "<div id=\"div_fig1\">\n",
       "\n",
       "<img src=\"tmp_2303.00044/./figures/ALF_ageZHimfALPHA_Hydra_FINAL.png\" alt=\"Fig8\" width=\"100%\"/>\n",
       "\n",
       "**Figure 8. -** \\small{Age, metallicity and IMF slope trends across the Hydra I cluster center as retrieved with ALF. West is on the left, East is on the right. The bottom panel\n",
       "shows the derived mismatch parameter $\\alpha_r$.\n",
       "Dash-dotted horizontal tan lines in the IMF and $\\alpha_r$ panels outline the corresponding values for a Salpeter IMF, dashed those for a Kroupa IMF. Open diamonds refer to regions where the results are less robust due to lower S/N, velocity dispersion broadening and/or lack of important features. } (*fig:ageZimf*)\n",
       "\n",
       "</div>\n",
       "<div id=\"div_fig2\">\n",
       "\n",
       "<img src=\"tmp_2303.00044/./figures/Literature_comparison_KIN_PAPER.png\" alt=\"Fig11\" width=\"100%\"/>\n",
       "\n",
       "**Figure 11. -** \\small{Velocity dispersion (upper panel) and radial velocity (lower panel) profiles as retrieved with ALF (orange).\n",
       "Green triangles and red circles show an indication of the trends retrieved by the works of  ([Richtler, Salinas and Misgeld (2011)]())  and  ([Hilker, Richtler and Barbosa (2018)]()) , respectively, as they appear in figure $6$ of  ([Hilker, Richtler and Barbosa (2018)]())  for the case of position angle $108$◦.  Typical error bars are shown on the right of both panels.\n",
       "} (*fig:kinematics*)\n",
       "\n",
       "</div>\n",
       "<div id=\"div_fig3\">\n",
       "\n",
       "<img src=\"tmp_2303.00044/./figures/ALF_ALLelements_Hydra_moreMask_FINALproc.png\" alt=\"Fig9\" width=\"100%\"/>\n",
       "\n",
       "**Figure 9. -** Similar to Figure \\ref{fig:ageZimf but for all the retrieved elemental abundances.} (*fig:elements*)\n",
       "\n",
       "</div>"
      ],
      "text/plain": [
       "<IPython.core.display.Markdown object>"
      ]
     },
     "execution_count": 7,
     "metadata": {},
     "output_type": "execute_result"
    }
   ],
   "source": [
    "Markdown(full_md)"
   ]
  },
  {
   "cell_type": "code",
   "execution_count": 8,
   "id": "fe0e1424",
   "metadata": {},
   "outputs": [],
   "source": [
    "def export_markdown_summary(md: str, md_fname:str, directory: str):\n",
    "    \"\"\"Export MD document and associated relevant images\"\"\"\n",
    "    import os\n",
    "    import shutil\n",
    "    import re\n",
    "\n",
    "    if (os.path.exists(directory) and not os.path.isdir(directory)):\n",
    "        raise RuntimeError(f\"a non-directory file exists with name {directory:s}\")\n",
    "\n",
    "    if (not os.path.exists(directory)):\n",
    "        print(f\"creating directory {directory:s}\")\n",
    "        os.mkdir(directory)\n",
    "\n",
    "    fig_fnames = (re.compile(r'\\[Fig.*\\]\\((.*)\\)').findall(md) + \n",
    "                  re.compile(r'\\<img src=\"([^>\\s]*)\"[^>]*/>').findall(md))\n",
    "    for fname in fig_fnames:\n",
    "        if 'http' in fname:\n",
    "            # No need to copy online figures\n",
    "            continue\n",
    "        destdir = os.path.join(directory, os.path.dirname(fname))\n",
    "        destfname = os.path.join(destdir, os.path.basename(fname))\n",
    "        try:\n",
    "            os.makedirs(destdir)\n",
    "        except FileExistsError:\n",
    "            pass\n",
    "        shutil.copy(fname, destfname)\n",
    "    with open(os.path.join(directory, md_fname), 'w') as fout:\n",
    "        fout.write(md)\n",
    "    print(\"exported in \", os.path.join(directory, md_fname))\n",
    "    [print(\"    + \" + os.path.join(directory,fk)) for fk in fig_fnames]"
   ]
  },
  {
   "cell_type": "code",
   "execution_count": 10,
   "id": "45a6ec34",
   "metadata": {},
   "outputs": [
    {
     "name": "stdout",
     "output_type": "stream",
     "text": [
      "exported in  _build/html/2303.00044.md\n",
      "    + _build/html/tmp_2303.00044/./figures/ALF_ageZHimfALPHA_Hydra_FINAL.png\n",
      "    + _build/html/tmp_2303.00044/./figures/Literature_comparison_KIN_PAPER.png\n",
      "    + _build/html/tmp_2303.00044/./figures/ALF_ALLelements_Hydra_moreMask_FINALproc.png\n"
     ]
    }
   ],
   "source": [
    "export_markdown_summary(full_md, f\"{paper_id:s}.md\", '_build/html/')"
   ]
  },
  {
   "cell_type": "code",
   "execution_count": null,
   "id": "9f88063f",
   "metadata": {},
   "outputs": [],
   "source": []
  }
 ],
 "metadata": {
  "kernelspec": {
   "display_name": "Python 3 (ipykernel)",
   "language": "python",
   "name": "python3"
  },
  "language_info": {
   "codemirror_mode": {
    "name": "ipython",
    "version": 3
   },
   "file_extension": ".py",
   "mimetype": "text/x-python",
   "name": "python",
   "nbconvert_exporter": "python",
   "pygments_lexer": "ipython3",
   "version": "3.11.2"
  }
 },
 "nbformat": 4,
 "nbformat_minor": 5
}
