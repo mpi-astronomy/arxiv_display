{
 "cells": [
  {
   "cell_type": "markdown",
   "id": "a37a5752",
   "metadata": {},
   "source": [
    "# MPIA Arxiv on Deck 2: Debugging notebook\n",
    "\n",
    "In this notebook, I keep some first order commands for diagnostic of issues with papers.\n",
    "Main definitions are taken from the main notebook."
   ]
  },
  {
   "cell_type": "code",
   "execution_count": 1,
   "id": "7d232022",
   "metadata": {},
   "outputs": [],
   "source": [
    "# Imports\n",
    "import os\n",
    "from IPython.display import Markdown, display\n",
    "from tqdm.notebook import tqdm\n",
    "import warnings\n",
    "from PIL import Image \n",
    "\n",
    "# requires arxiv_on_deck_2\n",
    "\n",
    "from arxiv_on_deck_2.arxiv2 import (get_new_papers, \n",
    "                                    get_paper_from_identifier,\n",
    "                                    retrieve_document_source, \n",
    "                                    get_markdown_badge)\n",
    "from arxiv_on_deck_2 import (latex,\n",
    "                             latex_bib,\n",
    "                             mpia,\n",
    "                             highlight_authors_in_list)\n",
    "\n",
    "# Sometimes images are really big\n",
    "Image.MAX_IMAGE_PIXELS = 1000000000 \n",
    "\n",
    "# Some useful definitions.\n",
    "class AffiliationWarning(UserWarning):\n",
    "    pass\n",
    "\n",
    "class AffiliationError(RuntimeError):\n",
    "    pass\n",
    "\n",
    "def validation(source: str):\n",
    "    \"\"\"Raises error paper during parsing of source file\n",
    "    \n",
    "    Allows checks before parsing TeX code.\n",
    "    \n",
    "    Raises AffiliationWarning\n",
    "    \"\"\"\n",
    "    check = mpia.affiliation_verifications(source, verbose=True)\n",
    "    if check is not True:\n",
    "        raise AffiliationError(\"mpia.affiliation_verifications: \" + check)\n",
    "\n",
    "        \n",
    "warnings.simplefilter('always', AffiliationWarning)"
   ]
  },
  {
   "cell_type": "markdown",
   "id": "6faf91a3",
   "metadata": {},
   "source": [
    "We get the author list from the MPIA website"
   ]
  },
  {
   "cell_type": "code",
   "execution_count": 2,
   "id": "d2dc3fa8",
   "metadata": {},
   "outputs": [
    {
     "name": "stdout",
     "output_type": "stream",
     "text": [
      "`mpia.get_mpia_mitarbeiter_list()`: restored from cache\n"
     ]
    }
   ],
   "source": [
    "# Getting the list of authors can take sometimes (internet connection)\n",
    "# Caching the MPIA author list to avoid running this line every time we restart the kernel.\n",
    "import yaml\n",
    "try:\n",
    "    with open('tmp_mpia_authors.yml', 'r') as fin:\n",
    "        mpia_authors = yaml.load(fin, yaml.BaseLoader)\n",
    "    print(\"`mpia.get_mpia_mitarbeiter_list()`: restored from cache\")\n",
    "except FileNotFoundError:\n",
    "    print(\"`mpia.get_mpia_mitarbeiter_list()`: cannot be restored from cache.\")\n",
    "    # get list from MPIA website\n",
    "    # it automatically filters identified non-scientists :func:`mpia.filter_non_scientists`\n",
    "    mpia_authors = mpia.get_mpia_mitarbeiter_list()\n",
    "    with open('tmp_mpia_authors.yml', 'w') as fout:\n",
    "        fout.write(yaml.dump(mpia_authors))"
   ]
  },
  {
   "cell_type": "code",
   "execution_count": 3,
   "id": "00e157fa",
   "metadata": {},
   "outputs": [],
   "source": [
    "# Get family names only\n",
    "data = [k[-1] for k in mpia_authors]\n",
    "\n",
    "# clean -- Having titles is something new at MPIA\n",
    "data = [k.replace('Dr. ', '').strip() for k in data]\n",
    "\n",
    "filtered_data = list(filter(mpia.filter_non_scientists, data))\n",
    "\n",
    "name_variations = filter(lambda x: x is not None,\n",
    "                         [mpia.consider_variations(name) for name in filtered_data])\n",
    "mitarbeiter_list = sorted(filtered_data + list(name_variations))\n",
    "\n",
    "lst = [(mpia.get_special_corrections(mpia.get_initials(name)), name) for name in mitarbeiter_list]\n",
    "lst = [(mpia.family_name_from_initials(k[0]), k[0], k[1]) for k in lst]\n",
    "lst = sorted(lst, key=lambda x: x[0])\n",
    "lst = set(lst)"
   ]
  },
  {
   "cell_type": "markdown",
   "id": "1464cd28",
   "metadata": {},
   "source": [
    "We get the paper to debug"
   ]
  },
  {
   "cell_type": "code",
   "execution_count": 4,
   "id": "ec77bbda",
   "metadata": {},
   "outputs": [
    {
     "data": {
      "text/markdown": [
       "\n",
       "|||\n",
       "|---:|:---|\n",
       "| [![arXiv](https://img.shields.io/badge/arXiv-2303.02816-b31b1b.svg)](https://arxiv.org/abs/2303.02816) | **Examining the Decline in the C IV Content of the Universe over 4.3 < z < 6.3 using the E-XQR-30 Sample**  |\n",
       "|| Rebecca L. Davies, et al. |\n",
       "|*Appeared on*| *2023-03-06*|\n",
       "|*Comments*| *20 pages, 8 figures, 4 tables. Published in MNRAS*|\n",
       "|**Abstract**| Intervening CIV absorbers are key tracers of metal-enriched gas in galaxyhalos over cosmic time. Previous studies suggest that the CIV cosmic massdensity ($\\Omega_{\\rm CIV}$) decreases slowly over 1.5 $\\lesssim z\\lesssim$ 5before declining rapidly at $z\\gtrsim$ 5, but the cause of this downturn ispoorly understood. We characterize the $\\Omega_{\\rm CIV}$ evolution over 4.3$\\lesssim z\\lesssim$ 6.3 using 260 absorbers found in 42 XSHOOTER spectra of$z\\sim$ 6 quasars, of which 30 come from the ESO Large Program XQR-30. Thelarge sample enables us to robustly constrain the rate and timing of thedownturn. We find that $\\Omega_{\\rm CIV}$ decreases by a factor of 4.8 $\\pm$2.0 over the ~300 Myr interval between $z\\sim$ 4.7 and $z\\sim$ 5.8. The slopeof the column density (log N) distribution function does not change, suggestingthat CIV absorption is suppressed approximately uniformly across 13.2 $\\leq$log N/cm$^{-2}$ < 15.0. Assuming that the carbon content of galaxy halosevolves as the integral of the cosmic star formation rate density (with somedelay due to stellar lifetimes and outflow travel times), we show that chemicalevolution alone could plausibly explain the fast decline in $\\Omega_{\\rm CIV}$over 4.3 $\\lesssim z\\lesssim$ 6.3. However, the CIV/CII ratio decreases at thehighest redshifts, so the accelerated decline in $\\Omega_{\\rm CIV}$ at$z\\gtrsim$ 5 may be more naturally explained by rapid changes in the gasionization state driven by evolution of the UV background towards the end ofhydrogen reionization.|"
      ],
      "text/plain": [
       "[2303.02816] Examining the Decline in the C IV Content of the Universe over 4.3 < z < 6.3 using the E-XQR-30 Sample\n",
       "\tRebecca L. Davies, et al."
      ]
     },
     "execution_count": 4,
     "metadata": {},
     "output_type": "execute_result"
    }
   ],
   "source": [
    "which = \"2303.02816\"\n",
    "paper = get_paper_from_identifier(which)\n",
    "paper"
   ]
  },
  {
   "cell_type": "code",
   "execution_count": 5,
   "id": "6dced14c",
   "metadata": {},
   "outputs": [
    {
     "data": {
      "text/markdown": [
       "\n",
       "|||\n",
       "|---:|:---|\n",
       "| [![arXiv](https://img.shields.io/badge/arXiv-2303.02816-b31b1b.svg)](https://arxiv.org/abs/2303.02816) | **Examining the Decline in the C IV Content of the Universe over 4.3 < z < 6.3 using the E-XQR-30 Sample**  |\n",
       "|| <mark>Rebecca L. Davies</mark>, et al. -- incl., <mark>Sarah E. I. Bosman</mark>, <mark>Romain A. Meyer</mark>, <mark>Frederick B. Davies</mark> |\n",
       "|*Appeared on*| *2023-03-06*|\n",
       "|*Comments*| *20 pages, 8 figures, 4 tables. Published in MNRAS*|\n",
       "|**Abstract**| Intervening CIV absorbers are key tracers of metal-enriched gas in galaxyhalos over cosmic time. Previous studies suggest that the CIV cosmic massdensity ($\\Omega_{\\rm CIV}$) decreases slowly over 1.5 $\\lesssim z\\lesssim$ 5before declining rapidly at $z\\gtrsim$ 5, but the cause of this downturn ispoorly understood. We characterize the $\\Omega_{\\rm CIV}$ evolution over 4.3$\\lesssim z\\lesssim$ 6.3 using 260 absorbers found in 42 XSHOOTER spectra of$z\\sim$ 6 quasars, of which 30 come from the ESO Large Program XQR-30. Thelarge sample enables us to robustly constrain the rate and timing of thedownturn. We find that $\\Omega_{\\rm CIV}$ decreases by a factor of 4.8 $\\pm$2.0 over the ~300 Myr interval between $z\\sim$ 4.7 and $z\\sim$ 5.8. The slopeof the column density (log N) distribution function does not change, suggestingthat CIV absorption is suppressed approximately uniformly across 13.2 $\\leq$log N/cm$^{-2}$ < 15.0. Assuming that the carbon content of galaxy halosevolves as the integral of the cosmic star formation rate density (with somedelay due to stellar lifetimes and outflow travel times), we show that chemicalevolution alone could plausibly explain the fast decline in $\\Omega_{\\rm CIV}$over 4.3 $\\lesssim z\\lesssim$ 6.3. However, the CIV/CII ratio decreases at thehighest redshifts, so the accelerated decline in $\\Omega_{\\rm CIV}$ at$z\\gtrsim$ 5 may be more naturally explained by rapid changes in the gasionization state driven by evolution of the UV background towards the end ofhydrogen reionization.|"
      ],
      "text/plain": [
       "[2303.02816] Examining the Decline in the C IV Content of the Universe over 4.3 < z < 6.3 using the E-XQR-30 Sample\n",
       "\t<mark>Rebecca L. Davies</mark>, et al. -- incl., <mark>Sarah E. I. Bosman</mark>, <mark>Romain A. Meyer</mark>, <mark>Frederick B. Davies</mark>"
      ]
     },
     "execution_count": 5,
     "metadata": {},
     "output_type": "execute_result"
    }
   ],
   "source": [
    "# select only papers with matching author names and highlight authors\n",
    "hl_list = [k[0] for k in lst]\n",
    "\n",
    "hl_authors = highlight_authors_in_list(paper['authors'], hl_list, verbose=True)\n",
    "matches = [(hl, orig) for hl, orig in zip(hl_authors, paper['authors']) if 'mark' in hl]\n",
    "if not matches:\n",
    "    warnings.warn(AffiliationWarning(\"WARNING: This paper does not seem to have MPIA authors.\"))\n",
    "paper['authors'] = hl_authors\n",
    "paper"
   ]
  },
  {
   "cell_type": "markdown",
   "id": "f295192e",
   "metadata": {},
   "source": [
    "We get the (TeX) source\n",
    "* retrieve the tarball\n",
    "* find the main tex file and parse it\n",
    "* parse for affiliations (but debugging so we do not stop if not found)\n",
    "* generate the the output markdown"
   ]
  },
  {
   "cell_type": "code",
   "execution_count": 6,
   "id": "70fdd37f",
   "metadata": {
    "scrolled": false
   },
   "outputs": [
    {
     "name": "stderr",
     "output_type": "stream",
     "text": [
      "/Users/fouesneau/Work/arxiv_display/venv/lib/python3.11/site-packages/arxiv_on_deck_2/latex.py:434: LatexWarning: Error parsing the document directly. Trying to recover.\n",
      "  warnings.warn(LatexWarning(f\"Error parsing the document directly. Trying to recover.\"))\n"
     ]
    },
    {
     "name": "stdout",
     "output_type": "stream",
     "text": [
      "✔ → 0:header\n",
      "  ↳ 5777:\\section{Introduction}\n",
      "✔ → 5777:\\section{Introduction}\n",
      "  ↳ 14249:\\section{Sample and Data Processing}\\label{sec:sample}\n",
      "✔ → 14249:\\section{Sample and Data Processing}\\label{sec:sample}\n",
      "  ↳ 35264:\\section{C~IV Line Statistics}\\label{sec:results}\n",
      "✘ → 35264:\\section{C~IV Line Statistics}\\label{sec:results}\n",
      "  ↳ 69546:\\section{Discussion}\\label{sec:discussion}\n",
      "✔ → 69546:\\section{Discussion}\\label{sec:discussion}\n",
      "  ↳ 106506:\\section{Summary}\\label{sec:conclusions}\n",
      "✔ → 106506:\\section{Summary}\\label{sec:conclusions}\n",
      "  ↳ 115467:end\n"
     ]
    }
   ],
   "source": [
    "paper_id = f'{which:s}'\n",
    "folder = f'tmp_{paper_id:s}'\n",
    "\n",
    "if not os.path.isdir(folder):\n",
    "    folder = retrieve_document_source(f\"{paper_id}\", f'tmp_{paper_id}')\n",
    "\n",
    "try:\n",
    "    doc = latex.LatexDocument(folder, validation=validation)    \n",
    "except AffiliationError as affilerror:\n",
    "    msg = f\"ArXiv:{paper_id:s} is not an MPIA paper... \" + str(affilerror)\n",
    "    print(msg)\n",
    "\n",
    "# Hack because sometimes author parsing does not work well\n",
    "if (len(doc.authors) != len(paper['authors'])):\n",
    "    doc._authors = paper['authors']\n",
    "if (doc.abstract) in (None, ''):\n",
    "    doc._abstract = paper['abstract']\n",
    "\n",
    "doc.comment = get_markdown_badge(paper_id) + \" _\" + paper['comments'] + \"_\"\n",
    "doc.highlight_authors_in_list(hl_list, verbose=True)\n",
    "\n",
    "full_md = doc.generate_markdown_text()"
   ]
  },
  {
   "cell_type": "code",
   "execution_count": 7,
   "id": "2d7d8091",
   "metadata": {
    "scrolled": false
   },
   "outputs": [
    {
     "data": {
      "text/markdown": [
       "<div class=\"macros\" style=\"visibility:hidden;\">\n",
       "$\\newcommand{\\ensuremath}{}$\n",
       "$\\newcommand{\\xspace}{}$\n",
       "$\\newcommand{\\object}[1]{\\texttt{#1}}$\n",
       "$\\newcommand{\\farcs}{{.}''}$\n",
       "$\\newcommand{\\farcm}{{.}'}$\n",
       "$\\newcommand{\\arcsec}{''}$\n",
       "$\\newcommand{\\arcmin}{'}$\n",
       "$\\newcommand{\\ion}[2]{#1#2}$\n",
       "$\\newcommand{\\textsc}[1]{\\textrm{#1}}$\n",
       "$\\newcommand{\\hl}[1]{\\textrm{#1}}$\n",
       "$\\newcommand{\\OmCIV}{\\mbox{\\Omega_{\\rm C   \\textsc{iv}}}}$\n",
       "$\\newcommand{\\OmCII}{\\mbox{\\Omega_{\\rm C   \\textsc{ii}}}}$\n",
       "$\\newcommand{\\HII}{\\mbox{H \\textsc{ii}}}$\n",
       "$\\newcommand{\\CI}{\\mbox{C \\textsc{i}}}$\n",
       "$\\newcommand{\\CII}{\\mbox{C \\textsc{ii}}}$\n",
       "$\\newcommand{\\CIII}{\\mbox{C \\textsc{iii}}}$\n",
       "$\\newcommand{\\CIV}{\\mbox{C \\textsc{iv}}}$\n",
       "$\\newcommand{\\CV}{\\mbox{C \\textsc{v}}}$\n",
       "$\\newcommand{\\SiII}{\\mbox{Si \\textsc{ii}}}$\n",
       "$\\newcommand{\\SiIV}{\\mbox{Si \\textsc{iv}}}$\n",
       "$\\newcommand{\\NV}{\\mbox{N \\textsc{v}}}$\n",
       "$\\newcommand{\\HeII}{\\mbox{He \\textsc{ii}}}$\n",
       "$\\newcommand{\\FeII}{\\mbox{Fe \\textsc{ii}}}$\n",
       "$\\newcommand{\\MgII}{\\mbox{Mg \\textsc{ii}}}$\n",
       "$\\newcommand{\\OI}{\\mbox{O \\textsc{i}}}$\n",
       "$\\newcommand{\\Lya}{Ly\\alpha}$\n",
       "$\\newcommand{\\kms}{ km s^{-1}}$\n",
       "$\\newcommand{\\dndx}{dn/dX}$\n",
       "$\\newcommand{\\bibtex}{\\textsc{Bib}\\!\\TeX}$\n",
       "$\\newcommand{\\appropto}{\\mathrel{\\vcenter{$\n",
       "$  \\offinterlineskip\\halign{\\hfil##\\cr$\n",
       "$    \\propto\\cr\\noalign{\\kern2pt}\\sim\\cr\\noalign{\\kern-2pt}}}}}$</div>\n",
       "\n",
       "<div class=\"macros\" style=\"visibility:hidden;\">\n",
       "$\\newcommand{\\ensuremath}{}$\n",
       "$\\newcommand{\\xspace}{}$\n",
       "$\\newcommand{\\object}[1]{\\texttt{#1}}$\n",
       "$\\newcommand{\\farcs}{{.}''}$\n",
       "$\\newcommand{\\farcm}{{.}'}$\n",
       "$\\newcommand{\\arcsec}{''}$\n",
       "$\\newcommand{\\arcmin}{'}$\n",
       "$\\newcommand{\\ion}[2]{#1#2}$\n",
       "$\\newcommand{\\textsc}[1]{\\textrm{#1}}$\n",
       "$\\newcommand{\\hl}[1]{\\textrm{#1}}$\n",
       "$\\newcommand{\\OmCIV}{\\mbox{\\Omega_{\\rm C   \\textsc{iv}}}}$\n",
       "$\\newcommand{\\OmCII}{\\mbox{\\Omega_{\\rm C   \\textsc{ii}}}}$\n",
       "$\\newcommand{\\HII}{\\mbox{H \\textsc{ii}}}$\n",
       "$\\newcommand{\\CI}{\\mbox{C \\textsc{i}}}$\n",
       "$\\newcommand{\\CII}{\\mbox{C \\textsc{ii}}}$\n",
       "$\\newcommand{\\CIII}{\\mbox{C \\textsc{iii}}}$\n",
       "$\\newcommand{\\CIV}{\\mbox{C \\textsc{iv}}}$\n",
       "$\\newcommand{\\CV}{\\mbox{C \\textsc{v}}}$\n",
       "$\\newcommand{\\SiII}{\\mbox{Si \\textsc{ii}}}$\n",
       "$\\newcommand{\\SiIV}{\\mbox{Si \\textsc{iv}}}$\n",
       "$\\newcommand{\\NV}{\\mbox{N \\textsc{v}}}$\n",
       "$\\newcommand{\\HeII}{\\mbox{He \\textsc{ii}}}$\n",
       "$\\newcommand{\\FeII}{\\mbox{Fe \\textsc{ii}}}$\n",
       "$\\newcommand{\\MgII}{\\mbox{Mg \\textsc{ii}}}$\n",
       "$\\newcommand{\\OI}{\\mbox{O \\textsc{i}}}$\n",
       "$\\newcommand{\\Lya}{Ly\\alpha}$\n",
       "$\\newcommand{\\kms}{ km s^{-1}}$\n",
       "$\\newcommand{\\dndx}{dn/dX}$\n",
       "$\\newcommand{\\bibtex}{\\textsc{Bib}\\!\\TeX}$\n",
       "$\\newcommand{\\appropto}{\\mathrel{\\vcenter{$\n",
       "$  \\offinterlineskip\\halign{\\hfil##\\cr$\n",
       "$    \\propto\\cr\\noalign{\\kern2pt}\\sim\\cr\\noalign{\\kern-2pt}}}}}$</div>\n",
       "\n",
       "\n",
       "\n",
       "<div id=\"title\">\n",
       "\n",
       "# Examining the Decline in the C IV Content of the Universe over $\\mbox{4.3 $\\lesssim z \\lesssim$ 6.3}$ using the E-XQR-30 Sample\n",
       "\n",
       "</div>\n",
       "<div id=\"comments\">\n",
       "\n",
       "[![arXiv](https://img.shields.io/badge/arXiv-2303.02816-b31b1b.svg)](https://arxiv.org/abs/2303.02816) _20 pages, 8 figures, 4 tables. Published in MNRAS_\n",
       "\n",
       "</div>\n",
       "<div id=\"authors\">\n",
       "\n",
       "<mark><mark>Rebecca L. Davies</mark></mark>, et al. -- incl., <mark><mark>Sarah E. I. Bosman</mark></mark>, <mark><mark>Romain A. Meyer</mark></mark>, <mark><mark>Frederick B. Davies</mark></mark>\n",
       "\n",
       "</div>\n",
       "<div id=\"abstract\">\n",
       "\n",
       "**Abstract:** Intervening $\\CIV$ absorbers are key tracers of metal-enriched gas in galaxy halos over cosmic time. Previous studies suggest that the $\\CIV$ cosmic mass density ( $\\OmCIV$ ) decreases slowly over $\\mbox{1.5 $\\lesssim z\\lesssim$ 5}$ before declining rapidly at $\\mbox{$z\\gtrsim$ 5}$ , but the cause of this downturn is poorly understood. We characterize the $\\OmCIV$ evolution over $\\mbox{4.3 $\\lesssim z\\lesssim$ 6.3}$ using 260 absorbers found in 42 XSHOOTER spectra of $z\\sim$ 6 quasars, of which 30 come from the ESO Large Program XQR-30. The large sample enables us to robustly constrain the rate and timing of the downturn. We find that $\\OmCIV$ decreases by a factor of 4.8 $\\pm$ 2.0 over the $\\mbox{$\\sim$ 300 Myr}$ interval between $z\\sim$ 4.7 and $z\\sim$ 5.8. The slope of the column density ( $\\log N$ ) distribution function does not change, suggesting that $\\CIV$ absorption is suppressed approximately uniformly across $\\mbox{13.2 $\\leq\\log N$/cm$^{-2}$ $<$ 15.0}$ . Assuming that the carbon content of galaxy halos evolves as the integral of the cosmic star formation rate density (with some delay due to stellar lifetimes and outflow travel times), we show that chemical evolution alone could plausibly explain the fast decline in $\\OmCIV$ over $\\mbox{4.3 $\\lesssim z\\lesssim$ 6.3}$ . However, the $\\CIV$ / $\\CII$ ratio decreases at the highest redshifts, so the accelerated decline in $\\OmCIV$ at $z\\gtrsim$ 5 may be more naturally explained by rapid changes in the gas ionization state driven by evolution of the UV background towards the end of hydrogen reionization.\n",
       "\n",
       "</div>\n",
       "\n",
       "<div id=\"div_fig1\">\n",
       "\n",
       "<img src=\"tmp_2303.02816/./CIV_sightlines.png\" alt=\"Fig4.1\" width=\"50%\"/><img src=\"tmp_2303.02816/./completeness_CIV.png\" alt=\"Fig4.2\" width=\"50%\"/>\n",
       "\n",
       "**Figure 4. -** Left: Illustration of the $\\CI$V absorber sample. Horizontal lines show the redshift intervals over which the search for $\\CI$V absorbers was conducted for each of the 42 quasar sightlines. Grey dashed regions highlight proximity zones within 10,000 $\\kms$ of the quasar redshift. Longer gaps trace redshift intervals where the $\\CI$V lines fall within BAL features or regions that were masked due to strong skyline or telluric contamination. The markers show all $\\CI$V absorbers in the catalog, where solid circles indicate primary absorbers (those that were automatically identified, pass the visual inspection check, and do not fall in masked wavelength regions or BAL regions) and open squares indicate secondary absorbers (all others). Proximate absorbers are shown in black. The intervening absorbers are split into two redshift bins (indicated by the marker color), divided at the path-length-weighted mean redshift of our survey. Right: Completeness as a function of column density for $\\CI$V absorbers in the two redshift intervals considered in \\citetalias{Davies22Survey}. The dashed lines show the best-fit arctan functions published in that work. (*fig:completeness*)\n",
       "\n",
       "</div>\n",
       "<div id=\"div_fig2\">\n",
       "\n",
       "<img src=\"tmp_2303.02816/./C_ion_fractions_13.2_15.0.png\" alt=\"Fig2\" width=\"100%\"/>\n",
       "\n",
       "**Figure 2. -** Bar graph illustrating the contribution of $\\CI$V and $\\CI$I to the cosmic mass density of carbon in each redshift bin. Vertical lines illustrate the measurement errors and are centered on the path-length-weighted mean redshift of each bin with small offsets added for clarity. We are unable to measure $\\OmCII$ in the two lowest redshift bins due to the saturation of the $\\Lya$ forest. The evolving balance between $\\OmCII$ and $\\OmCIV$ across the two highest redshift bins suggests that changes in the UV background driven by hydrogen reionization may contribute to the decline in $\\OmCIV$. (*fig:carbon_ion_fractions*)\n",
       "\n",
       "</div>\n",
       "<div id=\"div_fig3\">\n",
       "\n",
       "<img src=\"tmp_2303.02816/./c_ion_modelling.png\" alt=\"Fig3\" width=\"100%\"/>\n",
       "\n",
       "**Figure 3. -** Illustration of the possible ranges of gas densities probed by different ionization states of carbon at $z$ = 5 and $z$ = 6. The curves are the outputs of cloudy photoionization models. We fix the gas temperature to 10$^4$ K and adopt the 2011 update of the \\citet{FaucherGiguere09} ionizing spectrum with a density-dependent correction for gas self-shielding as described in \\citet{Keating16}. The ionizing spectrum is re-scaled at each redshift to match the H i photoionization rates measured by \\citet{Calverley11}. (*fig:cloudy_modelling*)\n",
       "\n",
       "</div>"
      ],
      "text/plain": [
       "<IPython.core.display.Markdown object>"
      ]
     },
     "execution_count": 7,
     "metadata": {},
     "output_type": "execute_result"
    }
   ],
   "source": [
    "Markdown(full_md)"
   ]
  }
 ],
 "metadata": {
  "kernelspec": {
   "display_name": "Python 3 (ipykernel)",
   "language": "python",
   "name": "python3"
  },
  "language_info": {
   "codemirror_mode": {
    "name": "ipython",
    "version": 3
   },
   "file_extension": ".py",
   "mimetype": "text/x-python",
   "name": "python",
   "nbconvert_exporter": "python",
   "pygments_lexer": "ipython3",
   "version": "3.11.2"
  }
 },
 "nbformat": 4,
 "nbformat_minor": 5
}
