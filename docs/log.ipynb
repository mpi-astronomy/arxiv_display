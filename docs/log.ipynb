{
 "cells": [
  {
   "cell_type": "markdown",
   "id": "92bcb855",
   "metadata": {
    "papermill": {
     "duration": 0.00623,
     "end_time": "2023-06-07T04:05:32.695191",
     "exception": false,
     "start_time": "2023-06-07T04:05:32.688961",
     "status": "completed"
    },
    "tags": []
   },
   "source": [
    "# MPIA Arxiv on Deck 2\n",
    "\n",
    "Contains the steps to produce the paper extractions."
   ]
  },
  {
   "cell_type": "code",
   "execution_count": 1,
   "id": "3a0d6e11",
   "metadata": {
    "execution": {
     "iopub.execute_input": "2023-06-07T04:05:32.707747Z",
     "iopub.status.busy": "2023-06-07T04:05:32.706904Z",
     "iopub.status.idle": "2023-06-07T04:05:33.036003Z",
     "shell.execute_reply": "2023-06-07T04:05:33.034871Z"
    },
    "papermill": {
     "duration": 0.338769,
     "end_time": "2023-06-07T04:05:33.039214",
     "exception": false,
     "start_time": "2023-06-07T04:05:32.700445",
     "status": "completed"
    },
    "tags": []
   },
   "outputs": [],
   "source": [
    "# Imports\n",
    "import os\n",
    "from IPython.display import Markdown, display\n",
    "from tqdm.notebook import tqdm\n",
    "import warnings\n",
    "from PIL import Image \n",
    "\n",
    "# requires arxiv_on_deck_2\n",
    "\n",
    "from arxiv_on_deck_2.arxiv2 import (get_new_papers, \n",
    "                                    get_paper_from_identifier,\n",
    "                                    retrieve_document_source, \n",
    "                                    get_markdown_badge)\n",
    "from arxiv_on_deck_2 import (latex,\n",
    "                             latex_bib,\n",
    "                             mpia,\n",
    "                             highlight_authors_in_list)\n",
    "\n",
    "# Sometimes images are really big\n",
    "Image.MAX_IMAGE_PIXELS = 1000000000 "
   ]
  },
  {
   "cell_type": "code",
   "execution_count": 2,
   "id": "22aa9d44",
   "metadata": {
    "execution": {
     "iopub.execute_input": "2023-06-07T04:05:33.051398Z",
     "iopub.status.busy": "2023-06-07T04:05:33.050639Z",
     "iopub.status.idle": "2023-06-07T04:05:33.062988Z",
     "shell.execute_reply": "2023-06-07T04:05:33.061944Z"
    },
    "papermill": {
     "duration": 0.020468,
     "end_time": "2023-06-07T04:05:33.065099",
     "exception": false,
     "start_time": "2023-06-07T04:05:33.044631",
     "status": "completed"
    },
    "tags": []
   },
   "outputs": [],
   "source": [
    "# Some useful definitions.\n",
    "\n",
    "class AffiliationWarning(UserWarning):\n",
    "    pass\n",
    "\n",
    "class AffiliationError(RuntimeError):\n",
    "    pass\n",
    "\n",
    "def validation(source: str):\n",
    "    \"\"\"Raises error paper during parsing of source file\n",
    "    \n",
    "    Allows checks before parsing TeX code.\n",
    "    \n",
    "    Raises AffiliationWarning\n",
    "    \"\"\"\n",
    "    check = mpia.affiliation_verifications(source, verbose=True)\n",
    "    if check is not True:\n",
    "        raise AffiliationError(\"mpia.affiliation_verifications: \" + check)\n",
    "\n",
    "        \n",
    "warnings.simplefilter('always', AffiliationWarning)\n",
    "\n",
    "\n",
    "def get_markdown_qrcode(paper_id: str):\n",
    "    \"\"\" Generate a qrcode to the arxiv page using qrserver.com\n",
    "    \n",
    "    :param paper: Arxiv paper\n",
    "    :returns: markdown text\n",
    "    \"\"\"\n",
    "    url = r\"https://api.qrserver.com/v1/create-qr-code/?size=100x100&data=\"\n",
    "    txt = f\"\"\"<img src={url}\"https://arxiv.org/abs/{paper_id}\">\"\"\"\n",
    "    txt = '<div id=\"qrcode\">' + txt + '</div>'\n",
    "    return txt"
   ]
  },
  {
   "cell_type": "markdown",
   "id": "14bd6310",
   "metadata": {
    "papermill": {
     "duration": 0.00451,
     "end_time": "2023-06-07T04:05:33.076264",
     "exception": false,
     "start_time": "2023-06-07T04:05:33.071754",
     "status": "completed"
    },
    "tags": []
   },
   "source": [
    "## get list of arxiv paper candidates\n",
    "\n",
    "We use the MPIA mitarbeiter list webpage from mpia.de to get author names\n",
    "We then get all new papers from Arxiv and match authors"
   ]
  },
  {
   "cell_type": "code",
   "execution_count": 3,
   "id": "2645e73a",
   "metadata": {
    "execution": {
     "iopub.execute_input": "2023-06-07T04:05:33.088788Z",
     "iopub.status.busy": "2023-06-07T04:05:33.088212Z",
     "iopub.status.idle": "2023-06-07T04:06:00.757578Z",
     "shell.execute_reply": "2023-06-07T04:06:00.755842Z"
    },
    "papermill": {
     "duration": 27.679019,
     "end_time": "2023-06-07T04:06:00.760026",
     "exception": false,
     "start_time": "2023-06-07T04:05:33.081007",
     "status": "completed"
    },
    "tags": []
   },
   "outputs": [
    {
     "name": "stdout",
     "output_type": "stream",
     "text": [
      "H.-W. Rix  ->  H.-W. Rix  |  ['H.-W. Rix']\n",
      "K. Jahnke  ->  K. Jahnke  |  ['K. Jahnke']\n"
     ]
    },
    {
     "name": "stdout",
     "output_type": "stream",
     "text": [
      "X. Zhang  ->  X. Zhang  |  ['X. Zhang']\n",
      "Arxiv has 70 new papers today\n",
      "          3 with possible author matches\n"
     ]
    }
   ],
   "source": [
    "# get list from MPIA website\n",
    "# it automatically filters identified non-scientists :func:`mpia.filter_non_scientists`\n",
    "mpia_authors = mpia.get_mpia_mitarbeiter_list()\n",
    "normed_mpia_authors = [k[1] for k in mpia_authors]   # initials + fullname\n",
    "new_papers = get_new_papers()\n",
    "# add manual references\n",
    "add_paper_refs = []\n",
    "new_papers.extend([get_paper_from_identifier(k) for k in add_paper_refs])\n",
    "\n",
    "candidates = []\n",
    "for paperk in new_papers:\n",
    "    # Check author list with their initials\n",
    "    normed_author_list = [mpia.get_initials(k) for k in paperk['authors']]\n",
    "    hl_authors = highlight_authors_in_list(normed_author_list, normed_mpia_authors, verbose=True)\n",
    "    matches = [(hl, orig) for hl, orig in zip(hl_authors, paperk['authors']) if 'mark' in hl]\n",
    "    paperk['authors'] = hl_authors\n",
    "    if matches:\n",
    "        # only select paper if an author matched our list\n",
    "        candidates.append(paperk)\n",
    "print(\"\"\"Arxiv has {0:,d} new papers today\"\"\".format(len(new_papers)))        \n",
    "print(\"\"\"          {0:,d} with possible author matches\"\"\".format(len(candidates)))"
   ]
  },
  {
   "cell_type": "markdown",
   "id": "3543b34a",
   "metadata": {
    "papermill": {
     "duration": 0.006138,
     "end_time": "2023-06-07T04:06:00.773041",
     "exception": false,
     "start_time": "2023-06-07T04:06:00.766903",
     "status": "completed"
    },
    "tags": []
   },
   "source": [
    "# Parse sources and generate relevant outputs\n",
    "\n",
    "From the candidates, we do the following steps:\n",
    "* get their tarball from ArXiv (and extract data)\n",
    "* find the main .tex file: find one with \\documentclass{...} (sometimes it's non trivial)\n",
    "* Check affiliations with :func:`validation`, which uses :func:`mpia.affiliation_verifications`\n",
    "* If passing the affiliations: we parse the .tex source\n",
    "   * inject sub-documents into the main (flatten the main document)\n",
    "   * parse structure, extract information (title, abstract, authors, figures...)\n",
    "   * handles `\\graphicspath` if provided\n",
    "* Generate the .md document."
   ]
  },
  {
   "cell_type": "code",
   "execution_count": 4,
   "id": "9576b79e",
   "metadata": {
    "execution": {
     "iopub.execute_input": "2023-06-07T04:06:00.786327Z",
     "iopub.status.busy": "2023-06-07T04:06:00.785829Z",
     "iopub.status.idle": "2023-06-07T04:06:57.416584Z",
     "shell.execute_reply": "2023-06-07T04:06:57.415522Z"
    },
    "papermill": {
     "duration": 56.640756,
     "end_time": "2023-06-07T04:06:57.419082",
     "exception": false,
     "start_time": "2023-06-07T04:06:00.778326",
     "status": "completed"
    },
    "scrolled": false,
    "tags": []
   },
   "outputs": [
    {
     "data": {
      "application/vnd.jupyter.widget-view+json": {
       "model_id": "a048344a5ee14c5ba8a344a503e0b6c3",
       "version_major": 2,
       "version_minor": 0
      },
      "text/plain": [
       "  0%|          | 0/2 [00:00<?, ?it/s]"
      ]
     },
     "metadata": {},
     "output_type": "display_data"
    },
    {
     "name": "stdout",
     "output_type": "stream",
     "text": [
      "Retrieving document from  https://arxiv.org/e-print/2306.03120\n"
     ]
    },
    {
     "name": "stdout",
     "output_type": "stream",
     "text": [
      "extracting tarball to tmp_2306.03120..."
     ]
    },
    {
     "name": "stdout",
     "output_type": "stream",
     "text": [
      " done.\n"
     ]
    },
    {
     "name": "stdout",
     "output_type": "stream",
     "text": [
      "H.-W. Rix  ->  H.-W. Rix  |  ['H.-W. Rix']\n"
     ]
    },
    {
     "name": "stdout",
     "output_type": "stream",
     "text": [
      "Found 125 bibliographic references in tmp_2306.03120/main.bbl.\n",
      "Retrieving document from  https://arxiv.org/e-print/2306.03205\n"
     ]
    },
    {
     "name": "stdout",
     "output_type": "stream",
     "text": [
      "extracting tarball to tmp_2306.03205..."
     ]
    },
    {
     "name": "stdout",
     "output_type": "stream",
     "text": [
      " done.\n"
     ]
    },
    {
     "name": "stdout",
     "output_type": "stream",
     "text": [
      "K. Jahnke  ->  K. Jahnke  |  ['K. Jahnke']\n"
     ]
    },
    {
     "name": "stdout",
     "output_type": "stream",
     "text": [
      "Found 50 bibliographic references in tmp_2306.03205/ms_v2.bbl.\n"
     ]
    }
   ],
   "source": [
    "documents = []\n",
    "failed = []\n",
    "for paper in tqdm(candidates[:-1]):\n",
    "    paper_id = paper['identifier'].lower().replace('arxiv:', '')\n",
    "    \n",
    "    folder = f'tmp_{paper_id}'\n",
    "\n",
    "    try:\n",
    "        if not os.path.isdir(folder):\n",
    "            folder = retrieve_document_source(f\"{paper_id}\", f'tmp_{paper_id}')\n",
    "        \n",
    "        try:\n",
    "            doc = latex.LatexDocument(folder, validation=validation)    \n",
    "        except AffiliationError as affilerror:\n",
    "            msg = f\"ArXiv:{paper_id:s} is not an MPIA paper... \" + str(affilerror)\n",
    "            failed.append((paper, \"affiliation error: \" + str(affilerror) ))\n",
    "            continue\n",
    "        \n",
    "        # Hack because sometimes author parsing does not work well\n",
    "        if (len(doc.authors) != len(paper['authors'])):\n",
    "            doc._authors = paper['authors']\n",
    "        else:\n",
    "            # highlight authors (FIXME: doc.highlight_authors)\n",
    "            # done on arxiv paper already\n",
    "            doc._authors = highlight_authors_in_list(\n",
    "                [mpia.get_initials(k) for k in doc.authors], \n",
    "                normed_mpia_authors, verbose=True)\n",
    "        if (doc.abstract) in (None, ''):\n",
    "            doc._abstract = paper['abstract']\n",
    "            \n",
    "        doc.comment = (get_markdown_badge(paper_id) + \n",
    "                       \"<mark>Appeared on: \" + paper['date'] + \"</mark> - \")\n",
    "        if paper['comments']:\n",
    "            doc.comment += \" _\" + paper['comments'] + \"_\"\n",
    "        \n",
    "        full_md = doc.generate_markdown_text()\n",
    "        \n",
    "        full_md += get_markdown_qrcode(paper_id)\n",
    "        \n",
    "        # replace citations\n",
    "        try:\n",
    "            bibdata = latex_bib.LatexBib.from_doc(doc)\n",
    "            full_md = latex_bib.replace_citations(full_md, bibdata)\n",
    "        except Exception as e:\n",
    "            print(e)\n",
    "        \n",
    "        documents.append((paper_id, full_md))\n",
    "    except Exception as e:\n",
    "        warnings.warn(latex.LatexWarning(f\"{paper_id:s} did not run properly\\n\" +\n",
    "                                         str(e)\n",
    "                                        ))\n",
    "        failed.append((paper, \"latex error \" + str(e)))"
   ]
  },
  {
   "cell_type": "markdown",
   "id": "2505a25c",
   "metadata": {
    "papermill": {
     "duration": 0.006726,
     "end_time": "2023-06-07T04:06:57.431998",
     "exception": false,
     "start_time": "2023-06-07T04:06:57.425272",
     "status": "completed"
    },
    "tags": []
   },
   "source": [
    "### Export the logs\n",
    "\n",
    "Throughout, we also keep track of the logs per paper. see `logs-{today date}.md` "
   ]
  },
  {
   "cell_type": "code",
   "execution_count": 5,
   "id": "d733828a",
   "metadata": {
    "execution": {
     "iopub.execute_input": "2023-06-07T04:06:57.446866Z",
     "iopub.status.busy": "2023-06-07T04:06:57.445991Z",
     "iopub.status.idle": "2023-06-07T04:06:57.466220Z",
     "shell.execute_reply": "2023-06-07T04:06:57.465072Z"
    },
    "papermill": {
     "duration": 0.032672,
     "end_time": "2023-06-07T04:06:57.470701",
     "exception": false,
     "start_time": "2023-06-07T04:06:57.438029",
     "status": "completed"
    },
    "scrolled": false,
    "tags": []
   },
   "outputs": [
    {
     "data": {
      "text/markdown": [
       "## Successful papers"
      ],
      "text/plain": [
       "<IPython.core.display.Markdown object>"
      ]
     },
     "metadata": {},
     "output_type": "display_data"
    },
    {
     "data": {
      "text/markdown": [
       "\n",
       "|||\n",
       "|---:|:---|\n",
       "| [![arXiv](https://img.shields.io/badge/arXiv-arXiv:2306.03120-b31b1b.svg)](https://arxiv.org/abs/arXiv:2306.03120) | **JADES: Detecting [OIII]$λ4363$ Emitters and Testing Strong Line  Calibrations in the High-$z$ Universe with Ultra-deep JWST/NIRSpec  Spectroscopy up to $z \\sim 9.5$**  |\n",
       "|| I. H. Laseter, et al. -- incl., <mark>H.-W. Rix</mark> |\n",
       "|*Appeared on*| *2023-06-07*|\n",
       "|*Comments*| *28 pages, 13 figures*|\n",
       "|**Abstract**| We present 10 novel [OIII]$\\lambda 4363$ auroral line detections up to $z\\sim 9.5$ measured from ultra-deep JWST/NIRSpec MSA spectroscopy from the JWST Advanced Deep Extragalactic Survey (JADES). We leverage the deepest spectroscopic observations yet taken with NIRSpec to determine electron temperatures and oxygen abundances using the direct T$_e$ method. We directly compare against a suite of locally calibrated strong-line diagnostics and recent high-$z$ calibrations. We find the calibrations fail to simultaneously match our JADES sample, thus warranting a self-consistent revision of these calibrations for the high-$z$ Universe. We find weak dependence between R2 and O3O2 with metallicity, thus suggesting these line-ratios are ineffective in the high-$z$ Universe as metallicity diagnostics and degeneracy breakers. We find R3 and R23 still correlate with metallicity, but we find tentative flattening of these diagnostics, thus suggesting future difficulties when applying these strong-line ratios as metallicity indicators in the high-$z$ Universe. We also propose and test an alternative diagnostic based on a different combination of R3 and R2 with a higher dynamic range. We find a reasonably good agreement (median offset of 0.002 dex, median absolute offset of 0.13 dex) with the JWST sample at low metallicity. Our sample demonstrates higher ionization/excitation ratios than local galaxies with rest-frame EWs(H$\\beta$) $\\approx 200 -300$ Angstroms. However, we find the median rest-frame EWs(H$\\beta$) of our sample to be $\\sim 2\\text{x}$ less than the galaxies used for the local calibrations. This EW discrepancy combined with the high ionization of our galaxies does not present a clear description of [OIII]$\\lambda 4363$ production in the high-$z$ Universe, thus warranting a much deeper examination into the factors affecting production. |"
      ],
      "text/plain": [
       "[arXiv:2306.03120] JADES: Detecting [OIII]$λ4363$ Emitters and Testing Strong Line  Calibrations in the High-$z$ Universe with Ultra-deep JWST/NIRSpec  Spectroscopy up to $z \\sim 9.5$\n",
       "\tI. H. Laseter, et al. -- incl., <mark>H.-W. Rix</mark>"
      ]
     },
     "metadata": {},
     "output_type": "display_data"
    },
    {
     "data": {
      "text/markdown": [
       "\n",
       "|||\n",
       "|---:|:---|\n",
       "| [![arXiv](https://img.shields.io/badge/arXiv-arXiv:2306.03205-b31b1b.svg)](https://arxiv.org/abs/arXiv:2306.03205) | **Resolving galactic-scale obscuration of X-ray AGN at $z\\gtrsim1$ with  COSMOS-Web**  |\n",
       "|| J. D. Silverman, et al. -- incl., <mark>K. Jahnke</mark> |\n",
       "|*Appeared on*| *2023-06-07*|\n",
       "|*Comments*| *12 pages, 8 figures, Accepted for publication in ApJL*|\n",
       "|**Abstract**| A large fraction of the accreting supermassive black hole population is shrouded by copious amounts of gas and dust, particularly in the distant ($z\\gtrsim1$) Universe. While much of the obscuration is attributed to a parsec-scale torus, there is a known contribution from the larger-scale host galaxy. Using JWST/NIRCam imaging from the COSMOS-Web survey, we probe the galaxy-wide dust distribution in X-ray selected AGN up to $z\\sim2$. Here, we focus on a sample of three AGNs with their host galaxies exhibiting prominent dust lanes, potentially due to their edge-on alignment. These represent 27% (3 out of 11 with early NIRCam data) of the heavily obscured ($N_H>10^{23}$ cm$^{-2}$) AGN population. With limited signs of a central AGN in the optical and near-infrared, the NIRCam images are used to produce reddening maps $E(B-V)$ of the host galaxies. We compare the mean central value of $E(B-V)$ to the X-ray obscuring column density along the line-of-sight to the AGN ($N_H\\sim10^{23-23.5}$ cm$^{-2}$). We find that the extinction due to the host galaxy is present ($0.6\\lesssim E(B-V) \\lesssim 0.9$; $1.9 \\lesssim A_V \\lesssim 2.8$) and significantly contributes to the X-ray obscuration at a level of $N_H\\sim10^{22.5}$ cm$^{-2}$ assuming an SMC gas-to-dust ratio which amounts to $\\lesssim$30% of the total obscuring column density. These early results, including three additional cases from CEERS, demonstrate the ability to resolve such dust structures with JWST and separate the different circumnuclear and galaxy-scale obscuring structures. |"
      ],
      "text/plain": [
       "[arXiv:2306.03205] Resolving galactic-scale obscuration of X-ray AGN at $z\\gtrsim1$ with  COSMOS-Web\n",
       "\tJ. D. Silverman, et al. -- incl., <mark>K. Jahnke</mark>"
      ]
     },
     "metadata": {},
     "output_type": "display_data"
    },
    {
     "data": {
      "text/markdown": [
       "## Failed papers"
      ],
      "text/plain": [
       "<IPython.core.display.Markdown object>"
      ]
     },
     "metadata": {},
     "output_type": "display_data"
    }
   ],
   "source": [
    "import datetime\n",
    "today = str(datetime.date.today())\n",
    "logfile = f\"_build/html/logs/log-{today}.md\"\n",
    "\n",
    "\n",
    "with open(logfile, 'w') as logs:\n",
    "    # Success\n",
    "    logs.write(f'# Arxiv on Deck 2: Logs - {today}\\n\\n')\n",
    "    logs.write(\"\"\"* Arxiv had {0:,d} new papers\\n\"\"\".format(len(new_papers)))\n",
    "    logs.write(\"\"\"    * {0:,d} with possible author matches\\n\\n\"\"\".format(len(candidates)))\n",
    "    logs.write(\"## Sucessful papers\\n\\n\")\n",
    "    display(Markdown(\"## Successful papers\"))\n",
    "    success = [k[0] for k in documents]\n",
    "    for candid in candidates:\n",
    "        if candid['identifier'].split(':')[-1] in success:\n",
    "            display(candid)\n",
    "            logs.write(candid.generate_markdown_text() + '\\n\\n')\n",
    "\n",
    "    ## failed\n",
    "    logs.write(\"## Failed papers\\n\\n\")\n",
    "    display(Markdown(\"## Failed papers\"))\n",
    "    failed = sorted(failed, key=lambda x: x[1])\n",
    "    current_reason = \"\"\n",
    "    for paper, reason in failed:\n",
    "        if 'affiliation' in reason:\n",
    "            color = 'green'\n",
    "        else:\n",
    "            color = 'red'\n",
    "        data = Markdown(\n",
    "                paper.generate_markdown_text() + \n",
    "                f'\\n|<p style=\"color:{color:s}\"> **ERROR** </p>| <p style=\"color:{color:s}\">{reason:s}</p> |'\n",
    "               )\n",
    "        if reason != current_reason:\n",
    "            logs.write(f'### {reason:s} \\n\\n')\n",
    "            current_reason = reason\n",
    "        logs.write(data.data + '\\n\\n')\n",
    "        \n",
    "        # only display here the important errors (all in logs)\n",
    "        # if color in ('red',):\n",
    "        display(data)"
   ]
  },
  {
   "cell_type": "markdown",
   "id": "472d20ee",
   "metadata": {
    "papermill": {
     "duration": 0.006652,
     "end_time": "2023-06-07T04:06:57.484442",
     "exception": false,
     "start_time": "2023-06-07T04:06:57.477790",
     "status": "completed"
    },
    "tags": []
   },
   "source": [
    "## Export documents\n",
    "\n",
    "We now write the .md files and export relevant images"
   ]
  },
  {
   "cell_type": "code",
   "execution_count": 6,
   "id": "d426aed9",
   "metadata": {
    "execution": {
     "iopub.execute_input": "2023-06-07T04:06:57.500770Z",
     "iopub.status.busy": "2023-06-07T04:06:57.500158Z",
     "iopub.status.idle": "2023-06-07T04:06:57.511761Z",
     "shell.execute_reply": "2023-06-07T04:06:57.510685Z"
    },
    "papermill": {
     "duration": 0.022689,
     "end_time": "2023-06-07T04:06:57.514201",
     "exception": false,
     "start_time": "2023-06-07T04:06:57.491512",
     "status": "completed"
    },
    "tags": []
   },
   "outputs": [],
   "source": [
    "def export_markdown_summary(md: str, md_fname:str, directory: str):\n",
    "    \"\"\"Export MD document and associated relevant images\"\"\"\n",
    "    import os\n",
    "    import shutil\n",
    "    import re\n",
    "\n",
    "    if (os.path.exists(directory) and not os.path.isdir(directory)):\n",
    "        raise RuntimeError(f\"a non-directory file exists with name {directory:s}\")\n",
    "\n",
    "    if (not os.path.exists(directory)):\n",
    "        print(f\"creating directory {directory:s}\")\n",
    "        os.mkdir(directory)\n",
    "\n",
    "    fig_fnames = (re.compile(r'\\[Fig.*\\]\\((.*)\\)').findall(md) + \n",
    "                  re.compile(r'\\<img src=\"([^>\\s]*)\"[^>]*/>').findall(md))\n",
    "    for fname in fig_fnames:\n",
    "        if 'http' in fname:\n",
    "            # No need to copy online figures\n",
    "            continue\n",
    "        destdir = os.path.join(directory, os.path.dirname(fname))\n",
    "        destfname = os.path.join(destdir, os.path.basename(fname))\n",
    "        try:\n",
    "            os.makedirs(destdir)\n",
    "        except FileExistsError:\n",
    "            pass\n",
    "        shutil.copy(fname, destfname)\n",
    "    with open(os.path.join(directory, md_fname), 'w') as fout:\n",
    "        fout.write(md)\n",
    "    print(\"exported in \", os.path.join(directory, md_fname))\n",
    "    [print(\"    + \" + os.path.join(directory,fk)) for fk in fig_fnames]"
   ]
  },
  {
   "cell_type": "code",
   "execution_count": 7,
   "id": "014d04a4",
   "metadata": {
    "execution": {
     "iopub.execute_input": "2023-06-07T04:06:57.531638Z",
     "iopub.status.busy": "2023-06-07T04:06:57.530803Z",
     "iopub.status.idle": "2023-06-07T04:06:57.547448Z",
     "shell.execute_reply": "2023-06-07T04:06:57.546428Z"
    },
    "papermill": {
     "duration": 0.028807,
     "end_time": "2023-06-07T04:06:57.550135",
     "exception": false,
     "start_time": "2023-06-07T04:06:57.521328",
     "status": "completed"
    },
    "tags": []
   },
   "outputs": [
    {
     "name": "stdout",
     "output_type": "stream",
     "text": [
      "exported in  _build/html/2306.03120.md\n",
      "    + _build/html/tmp_2306.03120/./R2_Strong_line_calibration_comparison_PYNEB.png\n",
      "    + _build/html/tmp_2306.03120/./R23_Strong_line_calibration_comparison_PYNEB.png\n",
      "    + _build/html/tmp_2306.03120/./O3O2_Strong_line_calibration_comparison_PYNEB.png\n",
      "exported in  _build/html/2306.03205.md\n",
      "    + _build/html/tmp_2306.03205/./f2.png\n",
      "    + _build/html/tmp_2306.03205/./f4a.png\n",
      "    + _build/html/tmp_2306.03205/./f4b.png\n",
      "    + _build/html/tmp_2306.03205/./f4c.png\n",
      "    + _build/html/tmp_2306.03205/./f5a.png\n",
      "    + _build/html/tmp_2306.03205/./f5b.png\n",
      "    + _build/html/tmp_2306.03205/./f5c.png\n"
     ]
    }
   ],
   "source": [
    "for paper_id, md in documents:\n",
    "    export_markdown_summary(md, f\"{paper_id:s}.md\", '_build/html/')"
   ]
  },
  {
   "cell_type": "markdown",
   "id": "f087a0a7",
   "metadata": {
    "papermill": {
     "duration": 0.007089,
     "end_time": "2023-06-07T04:06:57.564071",
     "exception": false,
     "start_time": "2023-06-07T04:06:57.556982",
     "status": "completed"
    },
    "tags": []
   },
   "source": [
    "## Display the papers\n",
    "\n",
    "Not necessary but allows for a quick check."
   ]
  },
  {
   "cell_type": "code",
   "execution_count": 8,
   "id": "fd25f625",
   "metadata": {
    "execution": {
     "iopub.execute_input": "2023-06-07T04:06:57.580783Z",
     "iopub.status.busy": "2023-06-07T04:06:57.580178Z",
     "iopub.status.idle": "2023-06-07T04:06:57.589345Z",
     "shell.execute_reply": "2023-06-07T04:06:57.588369Z"
    },
    "papermill": {
     "duration": 0.023445,
     "end_time": "2023-06-07T04:06:57.594623",
     "exception": false,
     "start_time": "2023-06-07T04:06:57.571178",
     "status": "completed"
    },
    "scrolled": false,
    "tags": []
   },
   "outputs": [
    {
     "data": {
      "text/markdown": [
       "<div class=\"macros\" style=\"visibility:hidden;\">\n",
       "$\\newcommand{\\ensuremath}{}$\n",
       "$\\newcommand{\\xspace}{}$\n",
       "$\\newcommand{\\object}[1]{\\texttt{#1}}$\n",
       "$\\newcommand{\\farcs}{{.}''}$\n",
       "$\\newcommand{\\farcm}{{.}'}$\n",
       "$\\newcommand{\\arcsec}{''}$\n",
       "$\\newcommand{\\arcmin}{'}$\n",
       "$\\newcommand{\\ion}[2]{#1#2}$\n",
       "$\\newcommand{\\textsc}[1]{\\textrm{#1}}$\n",
       "$\\newcommand{\\hl}[1]{\\textrm{#1}}$\n",
       "$\\newcommand{\\footnote}[1]{}$</div>\n",
       "\n",
       "\n",
       "\n",
       "<div id=\"title\">\n",
       "\n",
       "# **JADES: Detecting [OIII]$\\lambda 4363$ Emitters and Testing Strong Line Calibrations in the High-_z** Universe with Ultra-deep JWST/NIRSpec Spectroscopy up to $z \\sim 9.5$_\n",
       "\n",
       "</div>\n",
       "<div id=\"comments\">\n",
       "\n",
       "[![arXiv](https://img.shields.io/badge/arXiv-2306.03120-b31b1b.svg)](https://arxiv.org/abs/2306.03120)<mark>Appeared on: 2023-06-07</mark> -  _28 pages, 13 figures_\n",
       "\n",
       "</div>\n",
       "<div id=\"authors\">\n",
       "\n",
       "I. H. Laseter, et al. -- incl., <mark>H.-W. Rix</mark>\n",
       "\n",
       "</div>\n",
       "<div id=\"abstract\">\n",
       "\n",
       "**Abstract:** We present 10 novel [ OIII ] $\\lambda 4363$ auroral line detections up to $z\\sim 9.5$ measured from ultra-deep JWST/NIRSpec MSA spectroscopy from the JWST Advanced Deep Extragalactic Survey (JADES). We leverage the deepest spectroscopic observations yet taken with NIRSpec to determine electron temperatures and oxygen abundances using the direct $T_e$ method. We directly compare against a suite of locally calibrated strong-line diagnostics and recent high- _z_ calibrations. We find the calibrations fail to simultaneously match our JADES sample, thus warranting a _self-consistent_ revision of these calibrations for the high- _z_ Universe. We find weak dependence between R2 and O3O2 with metallicity, thus suggesting these line-ratios are ineffective in the high- _z_ Universe as metallicity diagnostics and degeneracy breakers. We find R3 and R23 still correlate with metallicity, but we find tentative flattening of these diagnostics, thus suggesting future difficulties when applying these strong-line ratios as metallicity indicators in the high- _z_ Universe. We also propose and test an alternative diagnostic based on a different combination of R3 and R2 with a higher dynamic range. We find a reasonably good agreement (median offset of 0.002 dex, median absolute offset of 0.13 dex) with the JWST sample at low metallicity, but future investigation is required on larger samples to probe past the turnover point. At a given metallicity, our sample demonstrates higher ionization/excitation ratios than local galaxies with rest-frame EWs(H $\\beta$ ) $\\approx 200 -300$ Å. However, we find the median rest-frame EWs(H $\\beta$ ) of our sample to be $\\sim 2\\text{x}$ less than the galaxies used for the local calibrations. This EW discrepancy combined with the high ionization of our galaxies does not present a clear description of [ OIII ] $\\lambda 4363$ production in the high- _z_ Universe, thus warranting a much deeper examination into the factors affecting production.\n",
       "\n",
       "</div>\n",
       "\n",
       "<div id=\"div_fig1\">\n",
       "\n",
       "<img src=\"tmp_2306.03120/./R2_Strong_line_calibration_comparison_PYNEB.png\" alt=\"Fig9\" width=\"100%\"/>\n",
       "\n",
       "**Figure 9. -** The relationship between $T_e$ metallicity and R2 for our JADES sample compared with strong-line calibrations from [Maiolino, Nagao and Grazian (2008)](), [Curti, Cresci and Mannucci (2017)](), [Curti, et. al (2020)](), and the \"All\", \"Large Equivalent Width (EW)\", and \"Small EW\" calibrations from [Nakajima, Ouchi and Xu (2022)](). [Bian, Kewley and Dopita (2018)]() does not include a calibration for R2, but we include their calibrations for O3O2, R3, and R23 in Figures \\ref{fig:O3O2 Strong Line Comparison} - \\ref{fig:R23 Strong Line Comparison}. Solid lines indicate calibrated ranges whereas dotted lines indicate the extrapolation of the calibration over the metallicity range $6.9 \\leq 12 + \\log(\\text{O/H}) \\leq 9.0$. The six subplots demonstrate the change between $T_e$ derived metallicities and calibration derived metallicities for our individual galaxies. The vertical lines represent the failure of a strong-line calibration to account for the measured line ratios at the given metallicity. (*fig:R2 Strong Line Comparison*)\n",
       "\n",
       "</div>\n",
       "<div id=\"div_fig2\">\n",
       "\n",
       "<img src=\"tmp_2306.03120/./R23_Strong_line_calibration_comparison_PYNEB.png\" alt=\"Fig12\" width=\"100%\"/>\n",
       "\n",
       "**Figure 12. -** Identical to Figure \\ref{fig:R2 Strong Line Comparison} except for the relationship between $T_e$ metallicity and R23. (*fig:R23 Strong Line Comparison*)\n",
       "\n",
       "</div>\n",
       "<div id=\"div_fig3\">\n",
       "\n",
       "<img src=\"tmp_2306.03120/./O3O2_Strong_line_calibration_comparison_PYNEB.png\" alt=\"Fig10\" width=\"100%\"/>\n",
       "\n",
       "**Figure 10. -** Identical to Figure \\ref{fig:R2 Strong Line Comparison} except the relationship is between $T_e$ metallicity and O3O2. (*fig:O3O2 Strong Line Comparison*)\n",
       "\n",
       "</div><div id=\"qrcode\"><img src=https://api.qrserver.com/v1/create-qr-code/?size=100x100&data=\"https://arxiv.org/abs/2306.03120\"></div>"
      ],
      "text/plain": [
       "<IPython.core.display.Markdown object>"
      ]
     },
     "metadata": {},
     "output_type": "display_data"
    },
    {
     "data": {
      "text/markdown": [
       "<div class=\"macros\" style=\"visibility:hidden;\">\n",
       "$\\newcommand{\\ensuremath}{}$\n",
       "$\\newcommand{\\xspace}{}$\n",
       "$\\newcommand{\\object}[1]{\\texttt{#1}}$\n",
       "$\\newcommand{\\farcs}{{.}''}$\n",
       "$\\newcommand{\\farcm}{{.}'}$\n",
       "$\\newcommand{\\arcsec}{''}$\n",
       "$\\newcommand{\\arcmin}{'}$\n",
       "$\\newcommand{\\ion}[2]{#1#2}$\n",
       "$\\newcommand{\\textsc}[1]{\\textrm{#1}}$\n",
       "$\\newcommand{\\hl}[1]{\\textrm{#1}}$\n",
       "$\\newcommand{\\footnote}[1]{}$\n",
       "$\\newcommand$\n",
       "$\\newcommand$\n",
       "$\\newcommand{\\sersic}{Sérsic}$\n",
       "$\\newcommand{\\lenstronomy}{\\texttt{lenstronomy}}$\n",
       "$\\newcommand{\\galight}{\\texttt{galight}}$\n",
       "$\\newcommand{\\vdag}{(v)^\\dagger}$\n",
       "$\\newcommand{\\myemail}{john.silverman@ipmu.jp}$\n",
       "$\\newcommand{\\ss}{\\textit{\\rm S\\acute{e}rsic}}$</div>\n",
       "\n",
       "\n",
       "\n",
       "<div id=\"title\">\n",
       "\n",
       "# Resolving galactic-scale obscuration of X-ray AGN at $z\\gtrsim 1$ with COSMOS-Web\n",
       "\n",
       "</div>\n",
       "<div id=\"comments\">\n",
       "\n",
       "[![arXiv](https://img.shields.io/badge/arXiv-2306.03205-b31b1b.svg)](https://arxiv.org/abs/2306.03205)<mark>Appeared on: 2023-06-07</mark> -  _12 pages, 8 figures, Accepted for publication in ApJL_\n",
       "\n",
       "</div>\n",
       "<div id=\"authors\">\n",
       "\n",
       "J. D. Silverman, et al. -- incl., <mark>K. Jahnke</mark>\n",
       "\n",
       "</div>\n",
       "<div id=\"abstract\">\n",
       "\n",
       "**Abstract:** A large fraction of the accreting supermassive black hole population is shrouded by copious amounts of gas and dust, particularly in the distant ( $z\\gtrsim1$ ) Universe. While much of the obscuration is attributed to a parsec-scale torus, there is a known contribution from the larger-scale host galaxy. Using JWST/NIRCam imaging from the COSMOS-Web survey, we probe the galaxy-wide dust distribution in X-ray selected AGN up to $z\\sim2$ . Here, we focus on a sample of three AGNs with their host galaxies exhibiting prominent dust lanes, potentially due to their edge-on alignment. These represent 27 \\% (3 out of 11 with early NIRCam data) of the heavily obscured ( $N_H>10^{23}$ cm $^{-2}$ ) AGN population. With limited signs of a central AGN in the optical and near-infrared, the NIRCam images are used to produce reddening maps $E(B-V)$ of the host galaxies. We compare the mean central value of $E(B-V)$ to the X-ray obscuring column density along the line-of-sight to the AGN ( $N_H\\sim10^{23-23.5}$ cm $^{-2}$ ). We find that the extinction due to the host galaxy is present ( $0.6\\lesssim E(B-V) \\lesssim 0.9$ ; $1.9 \\lesssim A_V\\lesssim 2.8$ ) and significantly contributes to the X-ray obscuration at a level of $N_H\\sim10^{22.5}$ cm $^{-2}$ assuming an SMC gas-to-dust ratio which amounts to $\\lesssim$ 30 \\% of the total obscuring column density. These early results, including three additional cases from CEERS, demonstrate the ability to resolve such dust structures with JWST and separate the different circumnuclear and galaxy-scale obscuring structures.\n",
       "\n",
       "</div>\n",
       "\n",
       "<div id=\"div_fig1\">\n",
       "\n",
       "<img src=\"tmp_2306.03205/./f2.png\" alt=\"Fig5\" width=\"100%\"/>\n",
       "\n",
       "**Figure 5. -** HST/ACS F814W and JWST/NIRCam (F115W, F150W, F277W, F444W) images of three X-ray AGN in COSMOS-Web exhibiting galaxy-scale dust lanes. The axes are labeled in units of arcsecs while the physical scale is also shown in the top panels. The galaxies are ordered by increasing redshift (shown in the top panel) from left to right. (*fig:cw_images*)\n",
       "\n",
       "</div>\n",
       "<div id=\"div_fig2\">\n",
       "\n",
       "<img src=\"tmp_2306.03205/./f4a.png\" alt=\"Fig1.1\" width=\"33%\"/><img src=\"tmp_2306.03205/./f4b.png\" alt=\"Fig1.2\" width=\"33%\"/><img src=\"tmp_2306.03205/./f4c.png\" alt=\"Fig1.3\" width=\"33%\"/>\n",
       "\n",
       "**Figure 1. -** Host galaxy fluxes and best-fit SEDs using MICHI2 (red) and CIGALE (black). The observed fluxes are given in red with 1$\\sigma$ uncertainties. The unattenuated model SED from CIGALE is shown in blue. The JWST/NIRCam filters are shown in the top panel. (*fig:galaxy_sed-fits*)\n",
       "\n",
       "</div>\n",
       "<div id=\"div_fig3\">\n",
       "\n",
       "<img src=\"tmp_2306.03205/./f5a.png\" alt=\"Fig2.1\" width=\"33%\"/><img src=\"tmp_2306.03205/./f5b.png\" alt=\"Fig2.2\" width=\"33%\"/><img src=\"tmp_2306.03205/./f5c.png\" alt=\"Fig2.3\" width=\"33%\"/>\n",
       "\n",
       "**Figure 2. -** Decomposed AGN JWST fluxes (circles) and best-fit SED (blue=unattenuated; black=attenuated) from [Lyu, Rieke and Shi (2017)](). Open symbols indicated upper limits on AGN emission. (*fig:agn_sed-fits*)\n",
       "\n",
       "</div><div id=\"qrcode\"><img src=https://api.qrserver.com/v1/create-qr-code/?size=100x100&data=\"https://arxiv.org/abs/2306.03205\"></div>"
      ],
      "text/plain": [
       "<IPython.core.display.Markdown object>"
      ]
     },
     "metadata": {},
     "output_type": "display_data"
    }
   ],
   "source": [
    "[display(Markdown(k[1])) for k in documents];"
   ]
  },
  {
   "cell_type": "markdown",
   "id": "873873a4",
   "metadata": {
    "papermill": {
     "duration": 0.007388,
     "end_time": "2023-06-07T04:06:57.609263",
     "exception": false,
     "start_time": "2023-06-07T04:06:57.601875",
     "status": "completed"
    },
    "tags": []
   },
   "source": [
    "# Create HTML index"
   ]
  },
  {
   "cell_type": "code",
   "execution_count": 9,
   "id": "cf665672",
   "metadata": {
    "execution": {
     "iopub.execute_input": "2023-06-07T04:06:57.625888Z",
     "iopub.status.busy": "2023-06-07T04:06:57.625291Z",
     "iopub.status.idle": "2023-06-07T04:06:57.639761Z",
     "shell.execute_reply": "2023-06-07T04:06:57.638805Z"
    },
    "papermill": {
     "duration": 0.031014,
     "end_time": "2023-06-07T04:06:57.647697",
     "exception": false,
     "start_time": "2023-06-07T04:06:57.616683",
     "status": "completed"
    },
    "tags": []
   },
   "outputs": [
    {
     "name": "stdout",
     "output_type": "stream",
     "text": [
      "218  publications files modified in the last 7 days.\n"
     ]
    }
   ],
   "source": [
    "from datetime import datetime, timedelta, timezone\n",
    "from glob import glob\n",
    "import os\n",
    "\n",
    "files = glob('_build/html/*.md')\n",
    "days = 7\n",
    "now = datetime.today()\n",
    "res = []\n",
    "for fk in files:\n",
    "    stat_result = os.stat(fk).st_ctime\n",
    "    modified = datetime.fromtimestamp(stat_result, tz=timezone.utc).replace(tzinfo=None)\n",
    "    delta = now.today() - modified\n",
    "    if delta <= timedelta(days=days):\n",
    "        res.append((delta.seconds, fk))\n",
    "res = [k[1] for k in reversed(sorted(res, key=lambda x:x[1]))]\n",
    "npub = len(res)\n",
    "print(len(res), f\" publications files modified in the last {days:d} days.\")\n",
    "# [ print('\\t', k) for k in res ];"
   ]
  },
  {
   "cell_type": "code",
   "execution_count": 10,
   "id": "015de740",
   "metadata": {
    "execution": {
     "iopub.execute_input": "2023-06-07T04:06:57.672049Z",
     "iopub.status.busy": "2023-06-07T04:06:57.671585Z",
     "iopub.status.idle": "2023-06-07T04:06:57.699374Z",
     "shell.execute_reply": "2023-06-07T04:06:57.698323Z"
    },
    "papermill": {
     "duration": 0.041123,
     "end_time": "2023-06-07T04:06:57.703093",
     "exception": false,
     "start_time": "2023-06-07T04:06:57.661970",
     "status": "completed"
    },
    "tags": []
   },
   "outputs": [
    {
     "name": "stdout",
     "output_type": "stream",
     "text": [
      "7  publications in the last 7 days.\n"
     ]
    }
   ],
   "source": [
    "import datetime\n",
    "from glob import glob\n",
    "\n",
    "def get_last_n_days(lst, days=1):\n",
    "    \"\"\" Get the documents from the last n days \"\"\"\n",
    "    sorted_lst = sorted(lst, key=lambda x: x[1], reverse=True)\n",
    "    for fname, date in sorted_lst:\n",
    "        if date >= str(datetime.date.today() - datetime.timedelta(days=days)):\n",
    "            yield fname\n",
    "\n",
    "def extract_appearance_dates(lst_file):\n",
    "    dates = []\n",
    "\n",
    "    def get_date(line):\n",
    "        return line\\\n",
    "            .split('Appeared on:')[-1]\\\n",
    "            .split('</mark>')[0].strip()\n",
    "\n",
    "    for fname in lst:\n",
    "        with open(fname, 'r') as f:\n",
    "            found_date = False\n",
    "            for line in f:\n",
    "                if not found_date:\n",
    "                    if \"Appeared on\" in line:\n",
    "                        found_date = True\n",
    "                        dates.append((fname, get_date(line)))\n",
    "                else:\n",
    "                    break\n",
    "    return dates\n",
    "\n",
    "from glob import glob\n",
    "lst = glob('_build/html/*md')\n",
    "days = 7\n",
    "dates = extract_appearance_dates(lst)\n",
    "res = list(get_last_n_days(dates, days))\n",
    "npub = len(res)\n",
    "print(len(res), f\" publications in the last {days:d} days.\")"
   ]
  },
  {
   "cell_type": "code",
   "execution_count": 11,
   "id": "52ca0208",
   "metadata": {
    "execution": {
     "iopub.execute_input": "2023-06-07T04:06:57.724204Z",
     "iopub.status.busy": "2023-06-07T04:06:57.723378Z",
     "iopub.status.idle": "2023-06-07T04:06:57.730879Z",
     "shell.execute_reply": "2023-06-07T04:06:57.729983Z"
    },
    "papermill": {
     "duration": 0.020195,
     "end_time": "2023-06-07T04:06:57.733172",
     "exception": false,
     "start_time": "2023-06-07T04:06:57.712977",
     "status": "completed"
    },
    "scrolled": false,
    "tags": []
   },
   "outputs": [],
   "source": [
    "def create_carousel(npub=4):\n",
    "    \"\"\" Generate the HTML code for a carousel with `npub` slides \"\"\"\n",
    "    carousel = [\"\"\"  <div class=\"carousel\" \"\"\",\n",
    "                \"\"\"       data-flickity='{ \"autoPlay\": 10000, \"adaptiveHeight\": true, \"resize\": true, \"wrapAround\": true, \"pauseAutoPlayOnHover\": true, \"groupCells\": 1 }' id=\"asyncTypeset\">\"\"\"\n",
    "                ]\n",
    "    \n",
    "    item_str = \"\"\"    <div class=\"carousel-cell\"> <div id=\"slide{k}\" class=\"md_view\">Content {k}</div> </div>\"\"\"\n",
    "    for k in range(1, npub + 1):\n",
    "        carousel.append(item_str.format(k=k))\n",
    "    carousel.append(\"  </div>\")\n",
    "    return '\\n'.join(carousel)\n",
    "\n",
    "def create_grid(npub=4):\n",
    "    \"\"\" Generate the HTML code for a flat grid with `npub` slides \"\"\"\n",
    "    grid = [\"\"\"  <div class=\"grid\"> \"\"\",\n",
    "                ]\n",
    "    \n",
    "    item_str = \"\"\"    <div class=\"grid-item\"> <div id=\"slide{k}\" class=\"md_view\">Content {k}</div> </div>\"\"\"\n",
    "    for k in range(1, npub + 1):\n",
    "        grid.append(item_str.format(k=k))\n",
    "    grid.append(\"  </div>\")\n",
    "    return '\\n'.join(grid)"
   ]
  },
  {
   "cell_type": "code",
   "execution_count": 12,
   "id": "a6eac5b6",
   "metadata": {
    "execution": {
     "iopub.execute_input": "2023-06-07T04:06:57.752233Z",
     "iopub.status.busy": "2023-06-07T04:06:57.751423Z",
     "iopub.status.idle": "2023-06-07T04:06:57.759330Z",
     "shell.execute_reply": "2023-06-07T04:06:57.758179Z"
    },
    "papermill": {
     "duration": 0.021109,
     "end_time": "2023-06-07T04:06:57.761717",
     "exception": false,
     "start_time": "2023-06-07T04:06:57.740608",
     "status": "completed"
    },
    "scrolled": false,
    "tags": []
   },
   "outputs": [],
   "source": [
    "carousel = create_carousel(npub)\n",
    "docs = ', '.join(['\"{0:s}\"'.format(k.split('/')[-1]) for k in res])\n",
    "slides = ', '.join([f'\"slide{k}\"' for k in range(1, npub + 1)])\n",
    "\n",
    "with open(\"daily_template.html\", \"r\") as tpl:\n",
    "    page = tpl.read()\n",
    "    page = page.replace(\"{%-- carousel:s --%}\", carousel)\\\n",
    "               .replace(\"{%-- suptitle:s --%}\",  \"7-day archives\" )\\\n",
    "               .replace(\"{%-- docs:s --%}\", docs)\\\n",
    "               .replace(\"{%-- slides:s --%}\", slides)\n",
    "    \n",
    "with open(\"_build/html/index_7days.html\", 'w') as fout:\n",
    "    fout.write(page)"
   ]
  },
  {
   "cell_type": "code",
   "execution_count": 13,
   "id": "adc1a1ec",
   "metadata": {
    "execution": {
     "iopub.execute_input": "2023-06-07T04:06:57.779781Z",
     "iopub.status.busy": "2023-06-07T04:06:57.778989Z",
     "iopub.status.idle": "2023-06-07T04:06:57.789245Z",
     "shell.execute_reply": "2023-06-07T04:06:57.788469Z"
    },
    "papermill": {
     "duration": 0.021542,
     "end_time": "2023-06-07T04:06:57.791213",
     "exception": false,
     "start_time": "2023-06-07T04:06:57.769671",
     "status": "completed"
    },
    "tags": []
   },
   "outputs": [
    {
     "name": "stdout",
     "output_type": "stream",
     "text": [
      "5  publications in the last day.\n"
     ]
    }
   ],
   "source": [
    "# redo for today\n",
    "days = 1\n",
    "res = list(get_last_n_days(dates, days))\n",
    "npub = len(res)\n",
    "print(len(res), f\" publications in the last day.\")\n",
    "\n",
    "carousel = create_carousel(npub)\n",
    "docs = ', '.join(['\"{0:s}\"'.format(k.split('/')[-1]) for k in res])\n",
    "slides = ', '.join([f'\"slide{k}\"' for k in range(1, npub + 1)])\n",
    "\n",
    "with open(\"daily_template.html\", \"r\") as tpl:\n",
    "    page = tpl.read()\n",
    "    page = page.replace(\"{%-- carousel:s --%}\", carousel)\\\n",
    "               .replace(\"{%-- suptitle:s --%}\",  \"Daily\" )\\\n",
    "               .replace(\"{%-- docs:s --%}\", docs)\\\n",
    "               .replace(\"{%-- slides:s --%}\", slides)\n",
    "    \n",
    "# print(carousel, docs, slides)\n",
    "# print(page)\n",
    "with open(\"_build/html/index_daily.html\", 'w') as fout:\n",
    "    fout.write(page)"
   ]
  },
  {
   "cell_type": "code",
   "execution_count": 14,
   "id": "00eece82",
   "metadata": {
    "execution": {
     "iopub.execute_input": "2023-06-07T04:06:57.810246Z",
     "iopub.status.busy": "2023-06-07T04:06:57.809306Z",
     "iopub.status.idle": "2023-06-07T04:06:57.820717Z",
     "shell.execute_reply": "2023-06-07T04:06:57.819748Z"
    },
    "papermill": {
     "duration": 0.023199,
     "end_time": "2023-06-07T04:06:57.822943",
     "exception": false,
     "start_time": "2023-06-07T04:06:57.799744",
     "status": "completed"
    },
    "scrolled": false,
    "tags": []
   },
   "outputs": [
    {
     "name": "stdout",
     "output_type": "stream",
     "text": [
      "6  6 publications selected.\n"
     ]
    }
   ],
   "source": [
    "# Create the flat grid of the last N papers (fixed number regardless of dates)\n",
    "from itertools import islice \n",
    "\n",
    "npub = 6\n",
    "res = [k[0] for k in (islice(reversed(sorted(dates, key=lambda x: x[1])), 6))]\n",
    "print(len(res), f\" {npub} publications selected.\")\n",
    "\n",
    "grid = create_grid(npub)\n",
    "docs = ', '.join(['\"{0:s}\"'.format(k.split('/')[-1]) for k in res])\n",
    "slides = ', '.join([f'\"slide{k}\"' for k in range(1, npub + 1)])\n",
    "\n",
    "with open(\"grid_template.html\", \"r\") as tpl:\n",
    "    page = tpl.read()\n",
    "    page = page.replace(\"{%-- grid-content:s --%}\", grid)\\\n",
    "               .replace(\"{%-- suptitle:s --%}\",  f\"Last {npub:,d} papers\" )\\\n",
    "               .replace(\"{%-- docs:s --%}\", docs)\\\n",
    "               .replace(\"{%-- slides:s --%}\", slides)\n",
    "    \n",
    "# print(grid, docs, slides)\n",
    "# print(page)\n",
    "with open(\"_build/html/index_npub_grid.html\", 'w') as fout:\n",
    "    fout.write(page)"
   ]
  }
 ],
 "metadata": {
  "kernelspec": {
   "display_name": "Python 3 (ipykernel)",
   "language": "python",
   "name": "python3"
  },
  "language_info": {
   "codemirror_mode": {
    "name": "ipython",
    "version": 3
   },
   "file_extension": ".py",
   "mimetype": "text/x-python",
   "name": "python",
   "nbconvert_exporter": "python",
   "pygments_lexer": "ipython3",
   "version": "3.9.16"
  },
  "papermill": {
   "default_parameters": {},
   "duration": 87.092377,
   "end_time": "2023-06-07T04:06:58.251356",
   "environment_variables": {},
   "exception": null,
   "input_path": "MPIA daily digest.ipynb",
   "output_path": "log.ipynb",
   "parameters": {},
   "start_time": "2023-06-07T04:05:31.158979",
   "version": "2.4.0"
  },
  "vscode": {
   "interpreter": {
    "hash": "aee8b7b246df8f9039afb4144a1f6fd8d2ca17a180786b69acc140d282b71a49"
   }
  },
  "widgets": {
   "application/vnd.jupyter.widget-state+json": {
    "state": {
     "01f501fdfdff4ce3bb2d1a6aae26cf7d": {
      "model_module": "@jupyter-widgets/controls",
      "model_module_version": "2.0.0",
      "model_name": "HTMLStyleModel",
      "state": {
       "_model_module": "@jupyter-widgets/controls",
       "_model_module_version": "2.0.0",
       "_model_name": "HTMLStyleModel",
       "_view_count": null,
       "_view_module": "@jupyter-widgets/base",
       "_view_module_version": "2.0.0",
       "_view_name": "StyleView",
       "background": null,
       "description_width": "",
       "font_size": null,
       "text_color": null
      }
     },
     "056d84003f72413eb4f53f87c4673071": {
      "model_module": "@jupyter-widgets/base",
      "model_module_version": "2.0.0",
      "model_name": "LayoutModel",
      "state": {
       "_model_module": "@jupyter-widgets/base",
       "_model_module_version": "2.0.0",
       "_model_name": "LayoutModel",
       "_view_count": null,
       "_view_module": "@jupyter-widgets/base",
       "_view_module_version": "2.0.0",
       "_view_name": "LayoutView",
       "align_content": null,
       "align_items": null,
       "align_self": null,
       "border_bottom": null,
       "border_left": null,
       "border_right": null,
       "border_top": null,
       "bottom": null,
       "display": null,
       "flex": null,
       "flex_flow": null,
       "grid_area": null,
       "grid_auto_columns": null,
       "grid_auto_flow": null,
       "grid_auto_rows": null,
       "grid_column": null,
       "grid_gap": null,
       "grid_row": null,
       "grid_template_areas": null,
       "grid_template_columns": null,
       "grid_template_rows": null,
       "height": null,
       "justify_content": null,
       "justify_items": null,
       "left": null,
       "margin": null,
       "max_height": null,
       "max_width": null,
       "min_height": null,
       "min_width": null,
       "object_fit": null,
       "object_position": null,
       "order": null,
       "overflow": null,
       "padding": null,
       "right": null,
       "top": null,
       "visibility": null,
       "width": null
      }
     },
     "36ff5fc238b345afb898e5388ef68978": {
      "model_module": "@jupyter-widgets/controls",
      "model_module_version": "2.0.0",
      "model_name": "HTMLStyleModel",
      "state": {
       "_model_module": "@jupyter-widgets/controls",
       "_model_module_version": "2.0.0",
       "_model_name": "HTMLStyleModel",
       "_view_count": null,
       "_view_module": "@jupyter-widgets/base",
       "_view_module_version": "2.0.0",
       "_view_name": "StyleView",
       "background": null,
       "description_width": "",
       "font_size": null,
       "text_color": null
      }
     },
     "371ae3d042194f3ca9e08628cb681dc2": {
      "model_module": "@jupyter-widgets/base",
      "model_module_version": "2.0.0",
      "model_name": "LayoutModel",
      "state": {
       "_model_module": "@jupyter-widgets/base",
       "_model_module_version": "2.0.0",
       "_model_name": "LayoutModel",
       "_view_count": null,
       "_view_module": "@jupyter-widgets/base",
       "_view_module_version": "2.0.0",
       "_view_name": "LayoutView",
       "align_content": null,
       "align_items": null,
       "align_self": null,
       "border_bottom": null,
       "border_left": null,
       "border_right": null,
       "border_top": null,
       "bottom": null,
       "display": null,
       "flex": null,
       "flex_flow": null,
       "grid_area": null,
       "grid_auto_columns": null,
       "grid_auto_flow": null,
       "grid_auto_rows": null,
       "grid_column": null,
       "grid_gap": null,
       "grid_row": null,
       "grid_template_areas": null,
       "grid_template_columns": null,
       "grid_template_rows": null,
       "height": null,
       "justify_content": null,
       "justify_items": null,
       "left": null,
       "margin": null,
       "max_height": null,
       "max_width": null,
       "min_height": null,
       "min_width": null,
       "object_fit": null,
       "object_position": null,
       "order": null,
       "overflow": null,
       "padding": null,
       "right": null,
       "top": null,
       "visibility": null,
       "width": null
      }
     },
     "6377b7fd795a44d68cdadf9aa9c12b73": {
      "model_module": "@jupyter-widgets/controls",
      "model_module_version": "2.0.0",
      "model_name": "ProgressStyleModel",
      "state": {
       "_model_module": "@jupyter-widgets/controls",
       "_model_module_version": "2.0.0",
       "_model_name": "ProgressStyleModel",
       "_view_count": null,
       "_view_module": "@jupyter-widgets/base",
       "_view_module_version": "2.0.0",
       "_view_name": "StyleView",
       "bar_color": null,
       "description_width": ""
      }
     },
     "70f1b78310cc41a9b02efa492e47fb8a": {
      "model_module": "@jupyter-widgets/controls",
      "model_module_version": "2.0.0",
      "model_name": "HTMLModel",
      "state": {
       "_dom_classes": [],
       "_model_module": "@jupyter-widgets/controls",
       "_model_module_version": "2.0.0",
       "_model_name": "HTMLModel",
       "_view_count": null,
       "_view_module": "@jupyter-widgets/controls",
       "_view_module_version": "2.0.0",
       "_view_name": "HTMLView",
       "description": "",
       "description_allow_html": false,
       "layout": "IPY_MODEL_922e1af0f7fe4463bb8493ef891d37a8",
       "placeholder": "​",
       "style": "IPY_MODEL_36ff5fc238b345afb898e5388ef68978",
       "tabbable": null,
       "tooltip": null,
       "value": " 2/2 [00:56&lt;00:00, 25.02s/it]"
      }
     },
     "8ac17f2d6906454b8275ecd6723233fc": {
      "model_module": "@jupyter-widgets/controls",
      "model_module_version": "2.0.0",
      "model_name": "HTMLModel",
      "state": {
       "_dom_classes": [],
       "_model_module": "@jupyter-widgets/controls",
       "_model_module_version": "2.0.0",
       "_model_name": "HTMLModel",
       "_view_count": null,
       "_view_module": "@jupyter-widgets/controls",
       "_view_module_version": "2.0.0",
       "_view_name": "HTMLView",
       "description": "",
       "description_allow_html": false,
       "layout": "IPY_MODEL_371ae3d042194f3ca9e08628cb681dc2",
       "placeholder": "​",
       "style": "IPY_MODEL_01f501fdfdff4ce3bb2d1a6aae26cf7d",
       "tabbable": null,
       "tooltip": null,
       "value": "100%"
      }
     },
     "922e1af0f7fe4463bb8493ef891d37a8": {
      "model_module": "@jupyter-widgets/base",
      "model_module_version": "2.0.0",
      "model_name": "LayoutModel",
      "state": {
       "_model_module": "@jupyter-widgets/base",
       "_model_module_version": "2.0.0",
       "_model_name": "LayoutModel",
       "_view_count": null,
       "_view_module": "@jupyter-widgets/base",
       "_view_module_version": "2.0.0",
       "_view_name": "LayoutView",
       "align_content": null,
       "align_items": null,
       "align_self": null,
       "border_bottom": null,
       "border_left": null,
       "border_right": null,
       "border_top": null,
       "bottom": null,
       "display": null,
       "flex": null,
       "flex_flow": null,
       "grid_area": null,
       "grid_auto_columns": null,
       "grid_auto_flow": null,
       "grid_auto_rows": null,
       "grid_column": null,
       "grid_gap": null,
       "grid_row": null,
       "grid_template_areas": null,
       "grid_template_columns": null,
       "grid_template_rows": null,
       "height": null,
       "justify_content": null,
       "justify_items": null,
       "left": null,
       "margin": null,
       "max_height": null,
       "max_width": null,
       "min_height": null,
       "min_width": null,
       "object_fit": null,
       "object_position": null,
       "order": null,
       "overflow": null,
       "padding": null,
       "right": null,
       "top": null,
       "visibility": null,
       "width": null
      }
     },
     "a048344a5ee14c5ba8a344a503e0b6c3": {
      "model_module": "@jupyter-widgets/controls",
      "model_module_version": "2.0.0",
      "model_name": "HBoxModel",
      "state": {
       "_dom_classes": [],
       "_model_module": "@jupyter-widgets/controls",
       "_model_module_version": "2.0.0",
       "_model_name": "HBoxModel",
       "_view_count": null,
       "_view_module": "@jupyter-widgets/controls",
       "_view_module_version": "2.0.0",
       "_view_name": "HBoxView",
       "box_style": "",
       "children": [
        "IPY_MODEL_8ac17f2d6906454b8275ecd6723233fc",
        "IPY_MODEL_bc14f80070cf4a9c96582ef503f71f63",
        "IPY_MODEL_70f1b78310cc41a9b02efa492e47fb8a"
       ],
       "layout": "IPY_MODEL_056d84003f72413eb4f53f87c4673071",
       "tabbable": null,
       "tooltip": null
      }
     },
     "bc14f80070cf4a9c96582ef503f71f63": {
      "model_module": "@jupyter-widgets/controls",
      "model_module_version": "2.0.0",
      "model_name": "FloatProgressModel",
      "state": {
       "_dom_classes": [],
       "_model_module": "@jupyter-widgets/controls",
       "_model_module_version": "2.0.0",
       "_model_name": "FloatProgressModel",
       "_view_count": null,
       "_view_module": "@jupyter-widgets/controls",
       "_view_module_version": "2.0.0",
       "_view_name": "ProgressView",
       "bar_style": "success",
       "description": "",
       "description_allow_html": false,
       "layout": "IPY_MODEL_d1ec762c0e8f4bfead322f5e22de623f",
       "max": 2.0,
       "min": 0.0,
       "orientation": "horizontal",
       "style": "IPY_MODEL_6377b7fd795a44d68cdadf9aa9c12b73",
       "tabbable": null,
       "tooltip": null,
       "value": 2.0
      }
     },
     "d1ec762c0e8f4bfead322f5e22de623f": {
      "model_module": "@jupyter-widgets/base",
      "model_module_version": "2.0.0",
      "model_name": "LayoutModel",
      "state": {
       "_model_module": "@jupyter-widgets/base",
       "_model_module_version": "2.0.0",
       "_model_name": "LayoutModel",
       "_view_count": null,
       "_view_module": "@jupyter-widgets/base",
       "_view_module_version": "2.0.0",
       "_view_name": "LayoutView",
       "align_content": null,
       "align_items": null,
       "align_self": null,
       "border_bottom": null,
       "border_left": null,
       "border_right": null,
       "border_top": null,
       "bottom": null,
       "display": null,
       "flex": null,
       "flex_flow": null,
       "grid_area": null,
       "grid_auto_columns": null,
       "grid_auto_flow": null,
       "grid_auto_rows": null,
       "grid_column": null,
       "grid_gap": null,
       "grid_row": null,
       "grid_template_areas": null,
       "grid_template_columns": null,
       "grid_template_rows": null,
       "height": null,
       "justify_content": null,
       "justify_items": null,
       "left": null,
       "margin": null,
       "max_height": null,
       "max_width": null,
       "min_height": null,
       "min_width": null,
       "object_fit": null,
       "object_position": null,
       "order": null,
       "overflow": null,
       "padding": null,
       "right": null,
       "top": null,
       "visibility": null,
       "width": null
      }
     }
    },
    "version_major": 2,
    "version_minor": 0
   }
  }
 },
 "nbformat": 4,
 "nbformat_minor": 5
}