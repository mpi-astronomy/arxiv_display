{
 "cells": [
  {
   "cell_type": "markdown",
   "id": "92bcb855",
   "metadata": {
    "papermill": {
     "duration": 0.006568,
     "end_time": "2023-10-20T04:08:27.668279",
     "exception": false,
     "start_time": "2023-10-20T04:08:27.661711",
     "status": "completed"
    },
    "tags": []
   },
   "source": [
    "# MPIA Arxiv on Deck 2\n",
    "\n",
    "Contains the steps to produce the paper extractions."
   ]
  },
  {
   "cell_type": "code",
   "execution_count": 1,
   "id": "3a0d6e11",
   "metadata": {
    "execution": {
     "iopub.execute_input": "2023-10-20T04:08:27.678804Z",
     "iopub.status.busy": "2023-10-20T04:08:27.678477Z",
     "iopub.status.idle": "2023-10-20T04:08:28.221907Z",
     "shell.execute_reply": "2023-10-20T04:08:28.220990Z"
    },
    "papermill": {
     "duration": 0.551494,
     "end_time": "2023-10-20T04:08:28.224572",
     "exception": false,
     "start_time": "2023-10-20T04:08:27.673078",
     "status": "completed"
    },
    "tags": []
   },
   "outputs": [],
   "source": [
    "# Imports\n",
    "import os\n",
    "from IPython.display import Markdown, display\n",
    "from tqdm.notebook import tqdm\n",
    "import warnings\n",
    "from PIL import Image \n",
    "\n",
    "# requires arxiv_on_deck_2\n",
    "\n",
    "from arxiv_on_deck_2.arxiv2 import (get_new_papers, \n",
    "                                    get_paper_from_identifier,\n",
    "                                    retrieve_document_source, \n",
    "                                    get_markdown_badge)\n",
    "from arxiv_on_deck_2 import (latex,\n",
    "                             latex_bib,\n",
    "                             mpia,\n",
    "                             highlight_authors_in_list)\n",
    "\n",
    "# Sometimes images are really big\n",
    "Image.MAX_IMAGE_PIXELS = 1000000000 "
   ]
  },
  {
   "cell_type": "code",
   "execution_count": 2,
   "id": "22aa9d44",
   "metadata": {
    "execution": {
     "iopub.execute_input": "2023-10-20T04:08:28.237401Z",
     "iopub.status.busy": "2023-10-20T04:08:28.236952Z",
     "iopub.status.idle": "2023-10-20T04:08:28.246253Z",
     "shell.execute_reply": "2023-10-20T04:08:28.245208Z"
    },
    "papermill": {
     "duration": 0.018562,
     "end_time": "2023-10-20T04:08:28.249786",
     "exception": false,
     "start_time": "2023-10-20T04:08:28.231224",
     "status": "completed"
    },
    "tags": []
   },
   "outputs": [],
   "source": [
    "# Some useful definitions.\n",
    "\n",
    "class AffiliationWarning(UserWarning):\n",
    "    pass\n",
    "\n",
    "class AffiliationError(RuntimeError):\n",
    "    pass\n",
    "\n",
    "def validation(source: str):\n",
    "    \"\"\"Raises error paper during parsing of source file\n",
    "    \n",
    "    Allows checks before parsing TeX code.\n",
    "    \n",
    "    Raises AffiliationWarning\n",
    "    \"\"\"\n",
    "    check = mpia.affiliation_verifications(source, verbose=True)\n",
    "    if check is not True:\n",
    "        raise AffiliationError(\"mpia.affiliation_verifications: \" + check)\n",
    "\n",
    "        \n",
    "warnings.simplefilter('always', AffiliationWarning)\n",
    "\n",
    "\n",
    "def get_markdown_qrcode(paper_id: str):\n",
    "    \"\"\" Generate a qrcode to the arxiv page using qrserver.com\n",
    "    \n",
    "    :param paper: Arxiv paper\n",
    "    :returns: markdown text\n",
    "    \"\"\"\n",
    "    url = r\"https://api.qrserver.com/v1/create-qr-code/?size=100x100&data=\"\n",
    "    txt = f\"\"\"<img src={url}\"https://arxiv.org/abs/{paper_id}\">\"\"\"\n",
    "    txt = '<div id=\"qrcode\">' + txt + '</div>'\n",
    "    return txt"
   ]
  },
  {
   "cell_type": "markdown",
   "id": "14bd6310",
   "metadata": {
    "papermill": {
     "duration": 0.004711,
     "end_time": "2023-10-20T04:08:28.258761",
     "exception": false,
     "start_time": "2023-10-20T04:08:28.254050",
     "status": "completed"
    },
    "tags": []
   },
   "source": [
    "## get list of arxiv paper candidates\n",
    "\n",
    "We use the MPIA mitarbeiter list webpage from mpia.de to get author names\n",
    "We then get all new papers from Arxiv and match authors"
   ]
  },
  {
   "cell_type": "code",
   "execution_count": 3,
   "id": "2645e73a",
   "metadata": {
    "execution": {
     "iopub.execute_input": "2023-10-20T04:08:28.268499Z",
     "iopub.status.busy": "2023-10-20T04:08:28.268212Z",
     "iopub.status.idle": "2023-10-20T04:09:01.729110Z",
     "shell.execute_reply": "2023-10-20T04:09:01.726923Z"
    },
    "papermill": {
     "duration": 33.468244,
     "end_time": "2023-10-20T04:09:01.731212",
     "exception": false,
     "start_time": "2023-10-20T04:08:28.262968",
     "status": "completed"
    },
    "tags": []
   },
   "outputs": [
    {
     "name": "stdout",
     "output_type": "stream",
     "text": [
      "J. Li  ->  J. Li  |  ['J. Li']\n",
      "A. d. Graaff  ->  A. D. Graaff  |  ['A. D. Graaff']\n",
      "H.-W. Rix  ->  H.-W. Rix  |  ['H.-W. Rix']\n"
     ]
    },
    {
     "name": "stdout",
     "output_type": "stream",
     "text": [
      "M. Fouesneau  ->  M. Fouesneau  |  ['M. Fouesneau']\n",
      "P. Gaikwad  ->  P. Gaikwad  |  ['P. Gaikwad']\n",
      "H. Beuther  ->  H. Beuther  |  ['H. Beuther']\n",
      "Arxiv has 67 new papers today\n",
      "          5 with possible author matches\n"
     ]
    }
   ],
   "source": [
    "# get list from MPIA website\n",
    "# it automatically filters identified non-scientists :func:`mpia.filter_non_scientists`\n",
    "mpia_authors = mpia.get_mpia_mitarbeiter_list()\n",
    "normed_mpia_authors = [k[1] for k in mpia_authors]   # initials + fullname\n",
    "new_papers = get_new_papers()\n",
    "# add manual references\n",
    "add_paper_refs = []\n",
    "new_papers.extend([get_paper_from_identifier(k) for k in add_paper_refs])\n",
    "\n",
    "candidates = []\n",
    "for paperk in new_papers:\n",
    "    # Check author list with their initials\n",
    "    normed_author_list = [mpia.get_initials(k) for k in paperk['authors']]\n",
    "    hl_authors = highlight_authors_in_list(normed_author_list, normed_mpia_authors, verbose=True)\n",
    "    matches = [(hl, orig) for hl, orig in zip(hl_authors, paperk['authors']) if 'mark' in hl]\n",
    "    paperk['authors'] = hl_authors\n",
    "    if matches:\n",
    "        # only select paper if an author matched our list\n",
    "        candidates.append(paperk)\n",
    "print(\"\"\"Arxiv has {0:,d} new papers today\"\"\".format(len(new_papers)))        \n",
    "print(\"\"\"          {0:,d} with possible author matches\"\"\".format(len(candidates)))"
   ]
  },
  {
   "cell_type": "markdown",
   "id": "3543b34a",
   "metadata": {
    "papermill": {
     "duration": 0.004852,
     "end_time": "2023-10-20T04:09:01.741709",
     "exception": false,
     "start_time": "2023-10-20T04:09:01.736857",
     "status": "completed"
    },
    "tags": []
   },
   "source": [
    "# Parse sources and generate relevant outputs\n",
    "\n",
    "From the candidates, we do the following steps:\n",
    "* get their tarball from ArXiv (and extract data)\n",
    "* find the main .tex file: find one with \\documentclass{...} (sometimes it's non trivial)\n",
    "* Check affiliations with :func:`validation`, which uses :func:`mpia.affiliation_verifications`\n",
    "* If passing the affiliations: we parse the .tex source\n",
    "   * inject sub-documents into the main (flatten the main document)\n",
    "   * parse structure, extract information (title, abstract, authors, figures...)\n",
    "   * handles `\\graphicspath` if provided\n",
    "* Generate the .md document."
   ]
  },
  {
   "cell_type": "code",
   "execution_count": 4,
   "id": "9576b79e",
   "metadata": {
    "execution": {
     "iopub.execute_input": "2023-10-20T04:09:01.753899Z",
     "iopub.status.busy": "2023-10-20T04:09:01.753163Z",
     "iopub.status.idle": "2023-10-20T04:09:59.789161Z",
     "shell.execute_reply": "2023-10-20T04:09:59.788267Z"
    },
    "papermill": {
     "duration": 58.04658,
     "end_time": "2023-10-20T04:09:59.792763",
     "exception": false,
     "start_time": "2023-10-20T04:09:01.746183",
     "status": "completed"
    },
    "scrolled": false,
    "tags": []
   },
   "outputs": [
    {
     "data": {
      "application/vnd.jupyter.widget-view+json": {
       "model_id": "432a5500f04c41ca8f90cb9308e0cde1",
       "version_major": 2,
       "version_minor": 0
      },
      "text/plain": [
       "  0%|          | 0/5 [00:00<?, ?it/s]"
      ]
     },
     "metadata": {},
     "output_type": "display_data"
    },
    {
     "name": "stdout",
     "output_type": "stream",
     "text": [
      "Retrieving document from  https://arxiv.org/e-print/2310.12208\n"
     ]
    },
    {
     "name": "stdout",
     "output_type": "stream",
     "text": [
      "extracting tarball to tmp_2310.12208..."
     ]
    },
    {
     "name": "stdout",
     "output_type": "stream",
     "text": [
      " done.\n",
      "Retrieving document from  https://arxiv.org/e-print/2310.12340\n"
     ]
    },
    {
     "name": "stdout",
     "output_type": "stream",
     "text": [
      "extracting tarball to tmp_2310.12340..."
     ]
    },
    {
     "name": "stdout",
     "output_type": "stream",
     "text": [
      " done.\n"
     ]
    },
    {
     "name": "stderr",
     "output_type": "stream",
     "text": [
      "/opt/hostedtoolcache/Python/3.9.18/x64/lib/python3.9/site-packages/IPython/core/interactiveshell.py:3526: LatexWarning: Multiple tex files.\n",
      "\n",
      "  exec(code_obj, self.user_global_ns, self.user_ns)\n",
      "/opt/hostedtoolcache/Python/3.9.18/x64/lib/python3.9/site-packages/IPython/core/interactiveshell.py:3526: LatexWarning: Found documentclass in tmp_2310.12340/dr2_deepfield.tex\n",
      "\n",
      "  exec(code_obj, self.user_global_ns, self.user_ns)\n",
      "/opt/hostedtoolcache/Python/3.9.18/x64/lib/python3.9/site-packages/arxiv_on_deck_2/latex.py:399: LatexWarning: Latex injecting: 'authors' from 'tmp_2310.12340/authors.tex'\n",
      "  warnings.warn(LatexWarning(f\"Latex injecting: '{ext}' from '{subsource}'\"))\n"
     ]
    },
    {
     "name": "stdout",
     "output_type": "stream",
     "text": [
      "Found 143 bibliographic references in tmp_2310.12340/dr2_deepfield.bbl.\n",
      "Retrieving document from  https://arxiv.org/e-print/2310.12528\n"
     ]
    },
    {
     "name": "stdout",
     "output_type": "stream",
     "text": [
      "extracting tarball to tmp_2310.12528... done.\n"
     ]
    },
    {
     "name": "stderr",
     "output_type": "stream",
     "text": [
      "/opt/hostedtoolcache/Python/3.9.18/x64/lib/python3.9/site-packages/IPython/core/interactiveshell.py:3526: LatexWarning: Multiple tex files.\n",
      "\n",
      "  exec(code_obj, self.user_global_ns, self.user_ns)\n",
      "/opt/hostedtoolcache/Python/3.9.18/x64/lib/python3.9/site-packages/IPython/core/interactiveshell.py:3526: LatexWarning: Found documentclass in tmp_2310.12528/main.tex\n",
      "\n",
      "  exec(code_obj, self.user_global_ns, self.user_ns)\n",
      "/opt/hostedtoolcache/Python/3.9.18/x64/lib/python3.9/site-packages/arxiv_on_deck_2/latex.py:399: LatexWarning: Latex injecting: 'tradeoff' from 'tmp_2310.12528/tradeoff.tex'\n",
      "  warnings.warn(LatexWarning(f\"Latex injecting: '{ext}' from '{subsource}'\"))\n"
     ]
    },
    {
     "name": "stdout",
     "output_type": "stream",
     "text": [
      "M. Fouesneau  ->  M. Fouesneau  |  ['M. Fouesneau']\n"
     ]
    },
    {
     "name": "stderr",
     "output_type": "stream",
     "text": [
      "/tmp/ipykernel_2121/3009462391.py:49: LatexWarning: 2310.12528 did not run properly\n",
      "list index out of range\n",
      "  warnings.warn(latex.LatexWarning(f\"{paper_id:s} did not run properly\\n\" +\n"
     ]
    },
    {
     "name": "stdout",
     "output_type": "stream",
     "text": [
      "Retrieving document from  https://arxiv.org/e-print/2310.12720\n"
     ]
    },
    {
     "name": "stdout",
     "output_type": "stream",
     "text": [
      "extracting tarball to tmp_2310.12720..."
     ]
    },
    {
     "name": "stdout",
     "output_type": "stream",
     "text": [
      " done.\n"
     ]
    },
    {
     "name": "stderr",
     "output_type": "stream",
     "text": [
      "/opt/hostedtoolcache/Python/3.9.18/x64/lib/python3.9/site-packages/arxiv_on_deck_2/latex.py:473: LatexWarning: Error parsing the document directly. Trying to recover.\n",
      "  warnings.warn(LatexWarning(f\"Error parsing the document directly. Trying to recover.\"))\n"
     ]
    },
    {
     "name": "stdout",
     "output_type": "stream",
     "text": [
      "✔ → 0:header\n",
      "  ↳ 4548:\\section{Introduction}\n",
      "✔ → 4548:\\section{Introduction}\n",
      "  ↳ 9676:\\section{Simulations \\& Method}\n"
     ]
    },
    {
     "name": "stdout",
     "output_type": "stream",
     "text": [
      "✔ → 9676:\\section{Simulations \\& Method}\n",
      "  ↳ 17196:\\section{Results}\n"
     ]
    },
    {
     "name": "stdout",
     "output_type": "stream",
     "text": [
      "✔ → 17196:\\section{Results}\n",
      "  ↳ 28764:\\section{Discussion}\n"
     ]
    },
    {
     "name": "stdout",
     "output_type": "stream",
     "text": [
      "✔ → 28764:\\section{Discussion}\n",
      "  ↳ 41143:\\section{Conclusions}\n",
      "✔ → 41143:\\section{Conclusions}\n",
      "  ↳ 44161:end\n"
     ]
    },
    {
     "name": "stdout",
     "output_type": "stream",
     "text": [
      "Found 52 bibliographic references in tmp_2310.12720/paper2_jcap.bbl.\n",
      "Retrieving document from  https://arxiv.org/e-print/2310.12867\n"
     ]
    },
    {
     "name": "stderr",
     "output_type": "stream",
     "text": [
      "/opt/hostedtoolcache/Python/3.9.18/x64/lib/python3.9/site-packages/arxiv_on_deck_2/latex_bib.py:132: UserWarning: Error processing bibitem\n",
      " item = \\bibitem{Rauch_1998}M.~Rauch, \\emph{The lyman alpha forest in the spectra of quasistellar objects},  \\href{http://dx.doi.org/10.1146/annurev.astro.36.1.267}{\\emph{Annual Review  of Astronomy and Astrophysics} {\\bf 36} (1998) 267--316},  [\\href{http://arxiv.org/abs/https://doi.org/10.1146/annurev.astro.36.1.267}{{\\tt  https://doi.org/10.1146/annurev.astro.36.1.267}}].\n",
      " regex = \n",
      "        \\\\bibitem(\\[[^\\[\\]]*?\\]){(?P<bibkey>[a-zA-Z0-9\\-\\+\\.\\S]+?)}(?P<authors>|([\\D]*?))(?P<year>[12][0-9]{3}).*?href(.*?{(?P<url>http[\\S]*)})(?P<rest>.*)\n",
      "        \n",
      "  warnings.warn(str(e))\n",
      "/opt/hostedtoolcache/Python/3.9.18/x64/lib/python3.9/site-packages/arxiv_on_deck_2/latex_bib.py:132: UserWarning: Error processing bibitem\n",
      " item = \\bibitem{Weinberg_2003}D.~H. Weinberg, \\emph{The lyman-$\\alpha$ forest as a cosmological tool},  in  \\emph{{AIP} Conference Proceedings}, {AIP}, 2003.\\newblock \\href{http://dx.doi.org/10.1063/1.1581786}{DOI}.\n",
      " regex = \n",
      "        \\\\bibitem(\\[[^\\[\\]]*?\\]){(?P<bibkey>[a-zA-Z0-9\\-\\+\\.\\S]+?)}(?P<authors>|([\\D]*?))(?P<year>[12][0-9]{3}).*?href(.*?{(?P<url>http[\\S]*)})(?P<rest>.*)\n",
      "        \n",
      "  warnings.warn(str(e))\n",
      "/opt/hostedtoolcache/Python/3.9.18/x64/lib/python3.9/site-packages/arxiv_on_deck_2/latex_bib.py:132: UserWarning: Error processing bibitem\n",
      " item = \\bibitem{Meiksin_2009}A.~A. Meiksin, \\emph{The physics of the intergalactic medium},  \\href{http://dx.doi.org/10.1103/revmodphys.81.1405}{\\emph{Reviews of Modern  Physics} {\\bf 81} (oct, 2009) 1405--1469}.\n",
      " regex = \n",
      "        \\\\bibitem(\\[[^\\[\\]]*?\\]){(?P<bibkey>[a-zA-Z0-9\\-\\+\\.\\S]+?)}(?P<authors>|([\\D]*?))(?P<year>[12][0-9]{3}).*?href(.*?{(?P<url>http[\\S]*)})(?P<rest>.*)\n",
      "        \n",
      "  warnings.warn(str(e))\n",
      "/opt/hostedtoolcache/Python/3.9.18/x64/lib/python3.9/site-packages/arxiv_on_deck_2/latex_bib.py:132: UserWarning: Error processing bibitem\n",
      " item = \\bibitem{McQuinn_2016}M.~McQuinn, \\emph{The evolution of the intergalactic medium},  \\href{http://dx.doi.org/10.1146/annurev-astro-082214-122355}{\\emph{Annual  Review of Astronomy and Astrophysics} {\\bf 54} (sep, 2016) 313--362}.\n",
      " regex = \n",
      "        \\\\bibitem(\\[[^\\[\\]]*?\\]){(?P<bibkey>[a-zA-Z0-9\\-\\+\\.\\S]+?)}(?P<authors>|([\\D]*?))(?P<year>[12][0-9]{3}).*?href(.*?{(?P<url>http[\\S]*)})(?P<rest>.*)\n",
      "        \n",
      "  warnings.warn(str(e))\n",
      "/opt/hostedtoolcache/Python/3.9.18/x64/lib/python3.9/site-packages/arxiv_on_deck_2/latex_bib.py:132: UserWarning: Error processing bibitem\n",
      " item = \\bibitem{hansen_2002}S.~H. Hansen, J.~Lesgourgues, S.~Pastor and J.~Silk, \\emph{{Constraining the  window on sterile neutrinos as warm dark matter}},  \\href{http://dx.doi.org/10.1046/j.1365-8711.2002.05410.x}{\\emph{Monthly  Notices of the Royal Astronomical Society} {\\bf 333} (07, 2002) 544--546},  [\\href{http://arxiv.org/abs/https://academic.oup.com/mnras/article-pdf/333/3/544/3218304/333-3-544.pdf}{{\\tt  https://academic.oup.com/mnras/article-pdf/333/3/544/3218304/333-3-544.pdf}}].\n",
      " regex = \n",
      "        \\\\bibitem(\\[[^\\[\\]]*?\\]){(?P<bibkey>[a-zA-Z0-9\\-\\+\\.\\S]+?)}(?P<authors>|([\\D]*?))(?P<year>[12][0-9]{3}).*?href(.*?{(?P<url>http[\\S]*)})(?P<rest>.*)\n",
      "        \n",
      "  warnings.warn(str(e))\n",
      "/opt/hostedtoolcache/Python/3.9.18/x64/lib/python3.9/site-packages/arxiv_on_deck_2/latex_bib.py:132: UserWarning: Error processing bibitem\n",
      " item = \\bibitem{Viel_2005}M.~Viel, J.~Lesgourgues, M.~G. Haehnelt, S.~Matarrese and A.~Riotto,  \\emph{Constraining warm dark matter candidates including sterile neutrinos  and light gravitinos with {WMAP} and the lyman-alpha forest},  \\href{http://dx.doi.org/10.1103/physrevd.71.063534}{\\emph{Physical Review D}  {\\bf 71} (mar, 2005) }.\n",
      " regex = \n",
      "        \\\\bibitem(\\[[^\\[\\]]*?\\]){(?P<bibkey>[a-zA-Z0-9\\-\\+\\.\\S]+?)}(?P<authors>|([\\D]*?))(?P<year>[12][0-9]{3}).*?href(.*?{(?P<url>http[\\S]*)})(?P<rest>.*)\n",
      "        \n",
      "  warnings.warn(str(e))\n",
      "/opt/hostedtoolcache/Python/3.9.18/x64/lib/python3.9/site-packages/arxiv_on_deck_2/latex_bib.py:132: UserWarning: Error processing bibitem\n",
      " item = \\bibitem{baur_2017}J.~{Baur}, N.~{Palanque-Delabrouille}, C.~{Y{è}che}, A.~{Boyarsky},  O.~{Ruchayskiy}, {É}.~{Armengaud} et~al., \\emph{{Constraints from  Ly-{\\ensuremath{\\alpha}} forests on non-thermal dark matter including  resonantly-produced sterile neutrinos}},  \\href{http://dx.doi.org/10.1088/1475-7516/2017/12/013}{\\emph{\\jcap} {\\bf  2017} (Dec., 2017) 013}, [\\href{http://arxiv.org/abs/1706.03118}{{\\tt  1706.03118}}].\n",
      " regex = \n",
      "        \\\\bibitem(\\[[^\\[\\]]*?\\]){(?P<bibkey>[a-zA-Z0-9\\-\\+\\.\\S]+?)}(?P<authors>|([\\D]*?))(?P<year>[12][0-9]{3}).*?href(.*?{(?P<url>http[\\S]*)})(?P<rest>.*)\n",
      "        \n",
      "  warnings.warn(str(e))\n",
      "/opt/hostedtoolcache/Python/3.9.18/x64/lib/python3.9/site-packages/arxiv_on_deck_2/latex_bib.py:132: UserWarning: Error processing bibitem\n",
      " item = \\bibitem{irsic_17b}V.~{Ir{\\v{s}}i{\\v{c}}}, M.~{Viel}, M.~G. {Haehnelt}, J.~S. {Bolton},  S.~{Cristiani}, G.~D. {Becker} et~al., \\emph{{New constraints on the  free-streaming of warm dark matter from intermediate and small scale  Lyman-{\\ensuremath{\\alpha}} forest data}},  \\href{http://dx.doi.org/10.1103/PhysRevD.96.023522}{\\emph{\\prd} {\\bf 96}  (July, 2017) 023522}, [\\href{http://arxiv.org/abs/1702.01764}{{\\tt  1702.01764}}].\n",
      " regex = \n",
      "        \\\\bibitem(\\[[^\\[\\]]*?\\]){(?P<bibkey>[a-zA-Z0-9\\-\\+\\.\\S]+?)}(?P<authors>|([\\D]*?))(?P<year>[12][0-9]{3}).*?href(.*?{(?P<url>http[\\S]*)})(?P<rest>.*)\n",
      "        \n",
      "  warnings.warn(str(e))\n",
      "/opt/hostedtoolcache/Python/3.9.18/x64/lib/python3.9/site-packages/arxiv_on_deck_2/latex_bib.py:132: UserWarning: Error processing bibitem\n",
      " item = \\bibitem{bose_2019}S.~{Bose}, M.~{Vogelsberger}, J.~{Zavala}, C.~{Pfrommer}, F.-Y. {Cyr-Racine},  S.~{Bohr} et~al., \\emph{{ETHOS - an Effective Theory of Structure Formation:  detecting dark matter interactions through the Lyman-{\\ensuremath{\\alpha}}  forest}}, \\href{http://dx.doi.org/10.1093/mnras/stz1276}{\\emph{\\mnras} {\\bf  487} (July, 2019) 522--536}, [\\href{http://arxiv.org/abs/1811.10630}{{\\tt  1811.10630}}].\n",
      " regex = \n",
      "        \\\\bibitem(\\[[^\\[\\]]*?\\]){(?P<bibkey>[a-zA-Z0-9\\-\\+\\.\\S]+?)}(?P<authors>|([\\D]*?))(?P<year>[12][0-9]{3}).*?href(.*?{(?P<url>http[\\S]*)})(?P<rest>.*)\n",
      "        \n",
      "  warnings.warn(str(e))\n",
      "/opt/hostedtoolcache/Python/3.9.18/x64/lib/python3.9/site-packages/arxiv_on_deck_2/latex_bib.py:132: UserWarning: Error processing bibitem\n",
      " item = \\bibitem{garzilli_2019}A.~{Garzilli}, A.~{Magalich}, T.~{Theuns}, C.~S. {Frenk}, C.~{Weniger},  O.~{Ruchayskiy} et~al., \\emph{{The Lyman-{\\ensuremath{\\alpha}} forest as a  diagnostic of the nature of the dark matter}},  \\href{http://dx.doi.org/10.1093/mnras/stz2188}{\\emph{\\mnras} {\\bf 489} (Nov.,  2019) 3456--3471}, [\\href{http://arxiv.org/abs/1809.06585}{{\\tt  1809.06585}}].\n",
      " regex = \n",
      "        \\\\bibitem(\\[[^\\[\\]]*?\\]){(?P<bibkey>[a-zA-Z0-9\\-\\+\\.\\S]+?)}(?P<authors>|([\\D]*?))(?P<year>[12][0-9]{3}).*?href(.*?{(?P<url>http[\\S]*)})(?P<rest>.*)\n",
      "        \n",
      "  warnings.warn(str(e))\n",
      "/opt/hostedtoolcache/Python/3.9.18/x64/lib/python3.9/site-packages/arxiv_on_deck_2/latex_bib.py:132: UserWarning: Error processing bibitem\n",
      " item = \\bibitem{palanque_2020}N.~{Palanque-Delabrouille}, C.~{Y{è}che}, N.~{Sch{ö}neberg},  J.~{Lesgourgues}, M.~{Walther}, S.~{Chabanier} et~al., \\emph{{Hints, neutrino  bounds, and WDM constraints from SDSS DR14 Lyman-{\\ensuremath{\\alpha}} and  Planck full-survey data}},  \\href{http://dx.doi.org/10.1088/1475-7516/2020/04/038}{\\emph{\\jcap} {\\bf  2020} (Apr., 2020) 038}, [\\href{http://arxiv.org/abs/1911.09073}{{\\tt  1911.09073}}].\n",
      " regex = \n",
      "        \\\\bibitem(\\[[^\\[\\]]*?\\]){(?P<bibkey>[a-zA-Z0-9\\-\\+\\.\\S]+?)}(?P<authors>|([\\D]*?))(?P<year>[12][0-9]{3}).*?href(.*?{(?P<url>http[\\S]*)})(?P<rest>.*)\n",
      "        \n",
      "  warnings.warn(str(e))\n",
      "/opt/hostedtoolcache/Python/3.9.18/x64/lib/python3.9/site-packages/arxiv_on_deck_2/latex_bib.py:132: UserWarning: Error processing bibitem\n",
      " item = \\bibitem{pedersen_2020}C.~{Pedersen}, A.~{Font-Ribera}, T.~D. {Kitching}, P.~{McDonald}, S.~{Bird},  A.~{Slosar} et~al., \\emph{{Massive neutrinos and degeneracies in Lyman-alpha  forest simulations}},  \\href{http://dx.doi.org/10.1088/1475-7516/2020/04/025}{\\emph{\\jcap} {\\bf  2020} (Apr., 2020) 025}, [\\href{http://arxiv.org/abs/1911.09596}{{\\tt  1911.09596}}].\n",
      " regex = \n",
      "        \\\\bibitem(\\[[^\\[\\]]*?\\]){(?P<bibkey>[a-zA-Z0-9\\-\\+\\.\\S]+?)}(?P<authors>|([\\D]*?))(?P<year>[12][0-9]{3}).*?href(.*?{(?P<url>http[\\S]*)})(?P<rest>.*)\n",
      "        \n",
      "  warnings.warn(str(e))\n",
      "/opt/hostedtoolcache/Python/3.9.18/x64/lib/python3.9/site-packages/arxiv_on_deck_2/latex_bib.py:132: UserWarning: Error processing bibitem\n",
      " item = \\bibitem{garzilli_2021}A.~{Garzilli}, A.~{Magalich}, O.~{Ruchayskiy} and A.~{Boyarsky}, \\emph{{How to  constrain warm dark matter with the Lyman-{\\ensuremath{\\alpha}} forest}},  \\href{http://dx.doi.org/10.1093/mnras/stab192}{\\emph{\\mnras} {\\bf 502} (Apr.,  2021) 2356--2363}, [\\href{http://arxiv.org/abs/1912.09397}{{\\tt  1912.09397}}].\n",
      " regex = \n",
      "        \\\\bibitem(\\[[^\\[\\]]*?\\]){(?P<bibkey>[a-zA-Z0-9\\-\\+\\.\\S]+?)}(?P<authors>|([\\D]*?))(?P<year>[12][0-9]{3}).*?href(.*?{(?P<url>http[\\S]*)})(?P<rest>.*)\n",
      "        \n",
      "  warnings.warn(str(e))\n",
      "/opt/hostedtoolcache/Python/3.9.18/x64/lib/python3.9/site-packages/arxiv_on_deck_2/latex_bib.py:132: UserWarning: Error processing bibitem\n",
      " item = \\bibitem{sarkar_2021}A.~K. {Sarkar}, K.~L. {Pandey} and S.~K. {Sethi}, \\emph{{Using the redshift  evolution of the Lyman-{\\ensuremath{\\alpha}} effective opacity as a probe of  dark matter models}},  \\href{http://dx.doi.org/10.1088/1475-7516/2021/10/077}{\\emph{\\jcap} {\\bf  2021} (Oct., 2021) 077}, [\\href{http://arxiv.org/abs/2101.09917}{{\\tt  2101.09917}}].\n",
      " regex = \n",
      "        \\\\bibitem(\\[[^\\[\\]]*?\\]){(?P<bibkey>[a-zA-Z0-9\\-\\+\\.\\S]+?)}(?P<authors>|([\\D]*?))(?P<year>[12][0-9]{3}).*?href(.*?{(?P<url>http[\\S]*)})(?P<rest>.*)\n",
      "        \n",
      "  warnings.warn(str(e))\n",
      "/opt/hostedtoolcache/Python/3.9.18/x64/lib/python3.9/site-packages/arxiv_on_deck_2/latex_bib.py:132: UserWarning: Error processing bibitem\n",
      " item = \\bibitem{1992AN....313..265L}D.-E. {Liebscher}, W.~{Priester} and J.~{Hoell}, \\emph{{Lyman-alpha forest and  the evolution of the universe.}},  \\href{http://dx.doi.org/10.1002/asna.2113130502}{\\emph{Astronomische  Nachrichten} {\\bf 313} (Sept., 1992) 265--273}.\n",
      " regex = \n",
      "        \\\\bibitem(\\[[^\\[\\]]*?\\]){(?P<bibkey>[a-zA-Z0-9\\-\\+\\.\\S]+?)}(?P<authors>|([\\D]*?))(?P<year>[12][0-9]{3}).*?href(.*?{(?P<url>http[\\S]*)})(?P<rest>.*)\n",
      "        \n",
      "  warnings.warn(str(e))\n",
      "/opt/hostedtoolcache/Python/3.9.18/x64/lib/python3.9/site-packages/arxiv_on_deck_2/latex_bib.py:132: UserWarning: Error processing bibitem\n",
      " item = \\bibitem{1998APS..APR.8WK05W}D.~{Weinberg}, \\emph{{Measuring Cosmological Parameters with the Lyman-alpha  Forest}},  in \\emph{APS April Meeting Abstracts}, APS Meeting Abstracts,  p.~8WK.05, Apr., 1998.\n",
      " regex = \n",
      "        \\\\bibitem(\\[[^\\[\\]]*?\\]){(?P<bibkey>[a-zA-Z0-9\\-\\+\\.\\S]+?)}(?P<authors>|([\\D]*?))(?P<year>[12][0-9]{3})(?P<rest>.*)\n",
      "        \n",
      "  warnings.warn(str(e))\n",
      "/opt/hostedtoolcache/Python/3.9.18/x64/lib/python3.9/site-packages/arxiv_on_deck_2/latex_bib.py:132: UserWarning: Error processing bibitem\n",
      " item = \\bibitem{2003MNRAS.342L..79S}U.~{Seljak}, P.~{McDonald} and A.~{Makarov}, \\emph{{Cosmological constraints  from the cosmic microwave background and Lyman {\\ensuremath{\\alpha}} forest  revisited}},  \\href{http://dx.doi.org/10.1046/j.1365-8711.2003.06809.x}{\\emph{\\mnras} {\\bf  342} (July, 2003) L79--L84},  [\\href{http://arxiv.org/abs/astro-ph/0302571}{{\\tt astro-ph/0302571}}].\n",
      " regex = \n",
      "        \\\\bibitem(\\[[^\\[\\]]*?\\]){(?P<bibkey>[a-zA-Z0-9\\-\\+\\.\\S]+?)}(?P<authors>|([\\D]*?))(?P<year>[12][0-9]{3}).*?href(.*?{(?P<url>http[\\S]*)})(?P<rest>.*)\n",
      "        \n",
      "  warnings.warn(str(e))\n",
      "/opt/hostedtoolcache/Python/3.9.18/x64/lib/python3.9/site-packages/arxiv_on_deck_2/latex_bib.py:132: UserWarning: Error processing bibitem\n",
      " item = \\bibitem{2003MNRAS.344..776M}R.~{Mandelbaum}, P.~{McDonald}, U.~{Seljak} and R.~{Cen}, \\emph{{Precision  cosmology from the Lyman {\\ensuremath{\\alpha}} forest: power spectrum and  bispectrum}},  \\href{http://dx.doi.org/10.1046/j.1365-8711.2003.06859.x}{\\emph{\\mnras} {\\bf  344} (Sept., 2003) 776--788},  [\\href{http://arxiv.org/abs/astro-ph/0302112}{{\\tt astro-ph/0302112}}].\n",
      " regex = \n",
      "        \\\\bibitem(\\[[^\\[\\]]*?\\]){(?P<bibkey>[a-zA-Z0-9\\-\\+\\.\\S]+?)}(?P<authors>|([\\D]*?))(?P<year>[12][0-9]{3}).*?href(.*?{(?P<url>http[\\S]*)})(?P<rest>.*)\n",
      "        \n",
      "  warnings.warn(str(e))\n",
      "/opt/hostedtoolcache/Python/3.9.18/x64/lib/python3.9/site-packages/arxiv_on_deck_2/latex_bib.py:132: UserWarning: Error processing bibitem\n",
      " item = \\bibitem{Bird2023priya}S.~Bird, M.~Fernandez, M.-F. Ho, M.~Qezlou, R.~Monadi, Y.~Ni et~al.,  \\emph{Priya: A new suite of lyman-alpha forest simulations for cosmology},  2023.\n",
      " regex = \n",
      "        \\\\bibitem(\\[[^\\[\\]]*?\\]){(?P<bibkey>[a-zA-Z0-9\\-\\+\\.\\S]+?)}(?P<authors>|([\\D]*?))(?P<year>[12][0-9]{3})(?P<rest>.*)\n",
      "        \n",
      "  warnings.warn(str(e))\n",
      "/opt/hostedtoolcache/Python/3.9.18/x64/lib/python3.9/site-packages/arxiv_on_deck_2/latex_bib.py:132: UserWarning: Error processing bibitem\n",
      " item = \\bibitem{tohfa2023forecast}H.~Tohfa, S.~Bird, M.-F. Ho, M.~Quezlou and M.~Ferandez, \\emph{Forecast  cosmological constraints with the 1d wavelet scattering transform and the  lyman-$\\alpha$ forest},  2023.\n",
      " regex = \n",
      "        \\\\bibitem(\\[[^\\[\\]]*?\\]){(?P<bibkey>[a-zA-Z0-9\\-\\+\\.\\S]+?)}(?P<authors>|([\\D]*?))(?P<year>[12][0-9]{3})(?P<rest>.*)\n",
      "        \n",
      "  warnings.warn(str(e))\n",
      "/opt/hostedtoolcache/Python/3.9.18/x64/lib/python3.9/site-packages/arxiv_on_deck_2/latex_bib.py:132: UserWarning: Error processing bibitem\n",
      " item = \\bibitem{2000bgfp.conf..455S}J.~{Schaye}, T.~{Theuns}, A.~{Leonard} and G.~{Efstathiou}, \\emph{{Measuring  the temperature of the intergalactic medium}},  in \\emph{Building Galaxies;  from the Primordial Universe to the Present} (F.~{Hammer}, T.~X. {Thuan},  V.~{Cayatte}, B.~{Guiderdoni} and J.~T. {Thanh Van}, eds.), p.~455, Jan.,  2000.\\newblock \\href{http://arxiv.org/abs/astro-ph/9905364}{{\\tt astro-ph/9905364}}.\\newblock \\href{http://dx.doi.org/10.48550/arXiv.astro-ph/9905364}{DOI}.\n",
      " regex = \n",
      "        \\\\bibitem(\\[[^\\[\\]]*?\\]){(?P<bibkey>[a-zA-Z0-9\\-\\+\\.\\S]+?)}(?P<authors>|([\\D]*?))(?P<year>[12][0-9]{3}).*?href(.*?{(?P<url>http[\\S]*)})(?P<rest>.*)\n",
      "        \n",
      "  warnings.warn(str(e))\n",
      "/opt/hostedtoolcache/Python/3.9.18/x64/lib/python3.9/site-packages/arxiv_on_deck_2/latex_bib.py:132: UserWarning: Error processing bibitem\n",
      " item = \\bibitem{Bolton_2005}J.~S. Bolton, M.~G. Haehnelt, M.~Viel and V.~Springel, \\emph{The lyman a forest  opacity and the metagalactic hydrogen ionization rate at $z \\sim 2-4$},  \\href{http://dx.doi.org/10.1111/j.1365-2966.2005.08704.x}{\\emph{Monthly  Notices of the Royal Astronomical Society} {\\bf 357} (mar, 2005) 1178--1188}.\n",
      " regex = \n",
      "        \\\\bibitem(\\[[^\\[\\]]*?\\]){(?P<bibkey>[a-zA-Z0-9\\-\\+\\.\\S]+?)}(?P<authors>|([\\D]*?))(?P<year>[12][0-9]{3}).*?href(.*?{(?P<url>http[\\S]*)})(?P<rest>.*)\n",
      "        \n",
      "  warnings.warn(str(e))\n",
      "/opt/hostedtoolcache/Python/3.9.18/x64/lib/python3.9/site-packages/arxiv_on_deck_2/latex_bib.py:132: UserWarning: Error processing bibitem\n",
      " item = \\bibitem{gaikwad2020}P.~{Gaikwad}, M.~{Rauch}, M.~G. {Haehnelt}, E.~{Puchwein}, J.~S. {Bolton},  L.~C. {Keating} et~al., \\emph{{Probing the thermal state of the intergalactic  medium at $z > 5$ with the transmission spikes in high-resolution Ly  {\\ensuremath{\\alpha}} forest spectra}},  \\href{http://dx.doi.org/10.1093/mnras/staa907}{\\emph{\\mnras} {\\bf 494} (June,  2020) 5091--5109}, [\\href{http://arxiv.org/abs/2001.10018}{{\\tt  2001.10018}}].\n",
      " regex = \n",
      "        \\\\bibitem(\\[[^\\[\\]]*?\\]){(?P<bibkey>[a-zA-Z0-9\\-\\+\\.\\S]+?)}(?P<authors>|([\\D]*?))(?P<year>[12][0-9]{3}).*?href(.*?{(?P<url>http[\\S]*)})(?P<rest>.*)\n",
      "        \n",
      "  warnings.warn(str(e))\n",
      "/opt/hostedtoolcache/Python/3.9.18/x64/lib/python3.9/site-packages/arxiv_on_deck_2/latex_bib.py:132: UserWarning: Error processing bibitem\n",
      " item = \\bibitem{Gaikwad_2021}P.~Gaikwad, R.~Srianand, M.~G. Haehnelt and T.~R. Choudhury, \\emph{A consistent  and robust measurement of the thermal state of the {IGM} at 2 $\\leq z \\leq$ 4  from a large sample of {\\hspace{0.167em} }ly{\\hspace{0.167em}}$\\alpha$ forest  spectra: evidence for late and rapid he{\\hspace{0.167em}} reionization},  \\href{http://dx.doi.org/10.1093/mnras/stab2017}{\\emph{Monthly Notices of the  Royal Astronomical Society} {\\bf 506} (jul, 2021) 4389--4412}.\n",
      " regex = \n",
      "        \\\\bibitem(\\[[^\\[\\]]*?\\]){(?P<bibkey>[a-zA-Z0-9\\-\\+\\.\\S]+?)}(?P<authors>|([\\D]*?))(?P<year>[12][0-9]{3}).*?href(.*?{(?P<url>http[\\S]*)})(?P<rest>.*)\n",
      "        \n",
      "  warnings.warn(str(e))\n",
      "/opt/hostedtoolcache/Python/3.9.18/x64/lib/python3.9/site-packages/arxiv_on_deck_2/latex_bib.py:132: UserWarning: Error processing bibitem\n",
      " item = \\bibitem{ribera_2018}A.~{Font-Ribera}, \\emph{{Dark Energy with DESI}},  in \\emph{42nd COSPAR  Scientific Assembly}, vol.~42, pp.~E1.1--15--18, July, 2018.\n",
      " regex = \n",
      "        \\\\bibitem(\\[[^\\[\\]]*?\\]){(?P<bibkey>[a-zA-Z0-9\\-\\+\\.\\S]+?)}(?P<authors>|([\\D]*?))(?P<year>[12][0-9]{3})(?P<rest>.*)\n",
      "        \n",
      "  warnings.warn(str(e))\n",
      "/opt/hostedtoolcache/Python/3.9.18/x64/lib/python3.9/site-packages/arxiv_on_deck_2/latex_bib.py:132: UserWarning: Error processing bibitem\n",
      " item = \\bibitem{karacayli_2020}N.~G. {Kara{ç}ayl{\\i}}, A.~{Font-Ribera} and N.~{Padmanabhan},  \\emph{{Optimal 1D Ly {\\ensuremath{\\alpha}} forest power spectrum estimation -  I. DESI-lite spectra}},  \\href{http://dx.doi.org/10.1093/mnras/staa2331}{\\emph{\\mnras} {\\bf 497}  (Oct., 2020) 4742--4752}, [\\href{http://arxiv.org/abs/2008.06421}{{\\tt  2008.06421}}].\n",
      " regex = \n",
      "        \\\\bibitem(\\[[^\\[\\]]*?\\]){(?P<bibkey>[a-zA-Z0-9\\-\\+\\.\\S]+?)}(?P<authors>|([\\D]*?))(?P<year>[12][0-9]{3}).*?href(.*?{(?P<url>http[\\S]*)})(?P<rest>.*)\n",
      "        \n",
      "  warnings.warn(str(e))\n",
      "/opt/hostedtoolcache/Python/3.9.18/x64/lib/python3.9/site-packages/arxiv_on_deck_2/latex_bib.py:132: UserWarning: Error processing bibitem\n",
      " item = \\bibitem{walther_2021}M.~{Walther}, E.~{Armengaud}, C.~{Ravoux}, N.~{Palanque-Delabrouille},  C.~{Y{è}che} and Z.~{Luki{\\'c}}, \\emph{{Simulating intergalactic gas for  DESI-like small scale Lyman{\\ensuremath{\\alpha}} forest observations}},  \\href{http://dx.doi.org/10.1088/1475-7516/2021/04/059}{\\emph{\\jcap} {\\bf  2021} (Apr., 2021) 059}, [\\href{http://arxiv.org/abs/2012.04008}{{\\tt  2012.04008}}].\n",
      " regex = \n",
      "        \\\\bibitem(\\[[^\\[\\]]*?\\]){(?P<bibkey>[a-zA-Z0-9\\-\\+\\.\\S]+?)}(?P<authors>|([\\D]*?))(?P<year>[12][0-9]{3}).*?href(.*?{(?P<url>http[\\S]*)})(?P<rest>.*)\n",
      "        \n",
      "  warnings.warn(str(e))\n",
      "/opt/hostedtoolcache/Python/3.9.18/x64/lib/python3.9/site-packages/arxiv_on_deck_2/latex_bib.py:132: UserWarning: Error processing bibitem\n",
      " item = \\bibitem{desi_2022}Z.~{Ding}, C.-H. {Chuang}, Y.~{Yu}, L.~H. {Garrison}, A.~E. {Bayer}, Y.~{Feng}  et~al., \\emph{{The DESI $N$-body Simulation Project II: Suppressing Sample  Variance with Fast Simulations}}, {\\emph{arXiv e-prints} (Feb., 2022)  arXiv:2202.06074}, [\\href{http://arxiv.org/abs/2202.06074}{{\\tt  2202.06074}}].\n",
      " regex = \n",
      "        \\\\bibitem(\\[[^\\[\\]]*?\\]){(?P<bibkey>[a-zA-Z0-9\\-\\+\\.\\S]+?)}(?P<authors>|([\\D]*?))(?P<year>[12][0-9]{3}).*?href(.*?{(?P<url>http[\\S]*)})(?P<rest>.*)\n",
      "        \n",
      "  warnings.warn(str(e))\n",
      "/opt/hostedtoolcache/Python/3.9.18/x64/lib/python3.9/site-packages/arxiv_on_deck_2/latex_bib.py:132: UserWarning: Error processing bibitem\n",
      " item = \\bibitem{satya_2022}S.~{Gontcho A Gontcho} and I.~{P{é}rez R{à}fols}, \\emph{{First measurements  of Lyman alpha correlations from DESI}},  in \\emph{APS April Meeting  Abstracts}, vol.~2022 of \\emph{APS Meeting Abstracts}, p.~H13.005, Apr.,  2022.\n",
      " regex = \n",
      "        \\\\bibitem(\\[[^\\[\\]]*?\\]){(?P<bibkey>[a-zA-Z0-9\\-\\+\\.\\S]+?)}(?P<authors>|([\\D]*?))(?P<year>[12][0-9]{3})(?P<rest>.*)\n",
      "        \n",
      "  warnings.warn(str(e))\n",
      "/opt/hostedtoolcache/Python/3.9.18/x64/lib/python3.9/site-packages/arxiv_on_deck_2/latex_bib.py:132: UserWarning: Error processing bibitem\n",
      " item = \\bibitem{dalton_2012}G.~{Dalton}, S.~C. {Trager}, D.~C. {Abrams}, D.~{Carter}, P.~{Bonifacio},  J.~A.~L. {Aguerri} et~al., \\emph{{WEAVE: the next generation wide-field  spectroscopy facility for the William Herschel Telescope}},  in  \\emph{Ground-based and Airborne Instrumentation for Astronomy IV} (I.~S.  {McLean}, S.~K. {Ramsay} and H.~{Takami}, eds.), vol.~8446 of \\emph{Society  of Photo-Optical Instrumentation Engineers (SPIE) Conference Series},  p.~84460P, Sept., 2012.\\newblock \\href{http://dx.doi.org/10.1117/12.925950}{DOI}.\n",
      " regex = \n",
      "        \\\\bibitem(\\[[^\\[\\]]*?\\]){(?P<bibkey>[a-zA-Z0-9\\-\\+\\.\\S]+?)}(?P<authors>|([\\D]*?))(?P<year>[12][0-9]{3}).*?href(.*?{(?P<url>http[\\S]*)})(?P<rest>.*)\n",
      "        \n",
      "  warnings.warn(str(e))\n",
      "/opt/hostedtoolcache/Python/3.9.18/x64/lib/python3.9/site-packages/arxiv_on_deck_2/latex_bib.py:132: UserWarning: Error processing bibitem\n",
      " item = \\bibitem{weave_2022}K.~{Kraljic}, C.~{Laigle}, C.~{Pichon}, S.~{Peirani}, S.~{Codis}, J.~{Shim}  et~al., \\emph{{Forecasts for WEAVE-QSO: 3D clustering and connectivity of  critical points with Lyman-$\\alpha$ tomography}}, {\\emph{arXiv e-prints}  (Jan., 2022) arXiv:2201.02606}, [\\href{http://arxiv.org/abs/2201.02606}{{\\tt  2201.02606}}].\n",
      " regex = \n",
      "        \\\\bibitem(\\[[^\\[\\]]*?\\]){(?P<bibkey>[a-zA-Z0-9\\-\\+\\.\\S]+?)}(?P<authors>|([\\D]*?))(?P<year>[12][0-9]{3}).*?href(.*?{(?P<url>http[\\S]*)})(?P<rest>.*)\n",
      "        \n",
      "  warnings.warn(str(e))\n",
      "/opt/hostedtoolcache/Python/3.9.18/x64/lib/python3.9/site-packages/arxiv_on_deck_2/latex_bib.py:132: UserWarning: Error processing bibitem\n",
      " item = \\bibitem{Arya_2023}B.~Arya, T.~R. Choudhury, A.~Paranjape and P.~Gaikwad, \\emph{Lognormal  seminumerical simulations of the lyman{\\hspace{0.167em} }$\\alpha$ forest:  comparison with full hydrodynamic simulations},  \\href{http://dx.doi.org/10.1093/mnras/stad386}{\\emph{Monthly Notices of the  Royal Astronomical Society} {\\bf 520} (feb, 2023) 4023--4036}.\n",
      " regex = \n",
      "        \\\\bibitem(\\[[^\\[\\]]*?\\]){(?P<bibkey>[a-zA-Z0-9\\-\\+\\.\\S]+?)}(?P<authors>|([\\D]*?))(?P<year>[12][0-9]{3}).*?href(.*?{(?P<url>http[\\S]*)})(?P<rest>.*)\n",
      "        \n",
      "  warnings.warn(str(e))\n",
      "/opt/hostedtoolcache/Python/3.9.18/x64/lib/python3.9/site-packages/arxiv_on_deck_2/latex_bib.py:132: UserWarning: Error processing bibitem\n",
      " item = \\bibitem{ivanov2023dont}M.~M. Ivanov, \\emph{Don't miss the forest for the trees: the lyman alpha forest  power spectrum in effective field theory},  2023.\n",
      " regex = \n",
      "        \\\\bibitem(\\[[^\\[\\]]*?\\]){(?P<bibkey>[a-zA-Z0-9\\-\\+\\.\\S]+?)}(?P<authors>|([\\D]*?))(?P<year>[12][0-9]{3})(?P<rest>.*)\n",
      "        \n",
      "  warnings.warn(str(e))\n",
      "/opt/hostedtoolcache/Python/3.9.18/x64/lib/python3.9/site-packages/arxiv_on_deck_2/latex_bib.py:132: UserWarning: Error processing bibitem\n",
      " item = \\bibitem{jacobus2023reconstructing}C.~Jacobus, P.~Harrington and Z.~Lukić, \\emph{Reconstructing lyman-$\\alpha$  fields from low-resolution hydrodynamical simulations with deep learning},  2023.\n",
      " regex = \n",
      "        \\\\bibitem(\\[[^\\[\\]]*?\\]){(?P<bibkey>[a-zA-Z0-9\\-\\+\\.\\S]+?)}(?P<authors>|([\\D]*?))(?P<year>[12][0-9]{3})(?P<rest>.*)\n",
      "        \n",
      "  warnings.warn(str(e))\n",
      "/opt/hostedtoolcache/Python/3.9.18/x64/lib/python3.9/site-packages/arxiv_on_deck_2/latex_bib.py:132: UserWarning: Error processing bibitem\n",
      " item = \\bibitem{2013AAS...22132304R}G.~{Rossi}, N.~{Palanque-Delabrouille}, C.~{Yeche}, A.~{Borde}, J.~{Rich},  M.~{Viel} et~al., \\emph{{Neutrino Masses, Cosmological Parameters and Dark  Energy from the Transmitted Flux in the Lyman-alpha Forest}},  in  \\emph{American Astronomical Society Meeting Abstracts \\#221}, vol.~221 of  \\emph{American Astronomical Society Meeting Abstracts}, p.~323.04, Jan.,  2013.\n",
      " regex = \n",
      "        \\\\bibitem(\\[[^\\[\\]]*?\\]){(?P<bibkey>[a-zA-Z0-9\\-\\+\\.\\S]+?)}(?P<authors>|([\\D]*?))(?P<year>[12][0-9]{3})(?P<rest>.*)\n",
      "        \n",
      "  warnings.warn(str(e))\n",
      "/opt/hostedtoolcache/Python/3.9.18/x64/lib/python3.9/site-packages/arxiv_on_deck_2/latex_bib.py:132: UserWarning: Error processing bibitem\n",
      " item = \\bibitem{Borde_2014}A.~Borde, N.~Palanque-Delabrouille, G.~Rossi, M.~Viel, J.~S. Bolton, C.~Y{è  }che et~al., \\emph{New approach for precise computation of lyman-$\\alpha$  forest power spectrum with hydrodynamical simulations},  \\href{http://dx.doi.org/10.1088/1475-7516/2014/07/005}{\\emph{Journal of  Cosmology and Astroparticle Physics} {\\bf 2014} (jul, 2014) 005--005}.\n",
      " regex = \n",
      "        \\\\bibitem(\\[[^\\[\\]]*?\\]){(?P<bibkey>[a-zA-Z0-9\\-\\+\\.\\S]+?)}(?P<authors>|([\\D]*?))(?P<year>[12][0-9]{3}).*?href(.*?{(?P<url>http[\\S]*)})(?P<rest>.*)\n",
      "        \n",
      "  warnings.warn(str(e))\n",
      "/opt/hostedtoolcache/Python/3.9.18/x64/lib/python3.9/site-packages/arxiv_on_deck_2/latex_bib.py:132: UserWarning: Error processing bibitem\n",
      " item = \\bibitem{Nasir_2016}F.~Nasir, J.~S. Bolton and G.~D. Becker, \\emph{Inferring the {IGM} thermal  history during reionization with the lyman $\\alpha$ forest power spectrum at  redshift $z \\simeq $ 5},  \\href{http://dx.doi.org/10.1093/mnras/stw2147}{\\emph{Monthly Notices of the  Royal Astronomical Society} {\\bf 463} (aug, 2016) 2335--2347}.\n",
      " regex = \n",
      "        \\\\bibitem(\\[[^\\[\\]]*?\\]){(?P<bibkey>[a-zA-Z0-9\\-\\+\\.\\S]+?)}(?P<authors>|([\\D]*?))(?P<year>[12][0-9]{3}).*?href(.*?{(?P<url>http[\\S]*)})(?P<rest>.*)\n",
      "        \n",
      "  warnings.warn(str(e))\n",
      "/opt/hostedtoolcache/Python/3.9.18/x64/lib/python3.9/site-packages/arxiv_on_deck_2/latex_bib.py:132: UserWarning: Error processing bibitem\n",
      " item = \\bibitem{Villasenor_2023}B.~Villasenor, B.~Robertson, P.~Madau and E.~Schneider, \\emph{New constraints  on warm dark matter from the lyman-$\\alpha$ forest power spectrum},  \\href{http://dx.doi.org/10.1103/physrevd.108.023502}{\\emph{Physical Review D}  {\\bf 108} (jul, 2023) }.\n",
      " regex = \n",
      "        \\\\bibitem(\\[[^\\[\\]]*?\\]){(?P<bibkey>[a-zA-Z0-9\\-\\+\\.\\S]+?)}(?P<authors>|([\\D]*?))(?P<year>[12][0-9]{3}).*?href(.*?{(?P<url>http[\\S]*)})(?P<rest>.*)\n",
      "        \n",
      "  warnings.warn(str(e))\n",
      "/opt/hostedtoolcache/Python/3.9.18/x64/lib/python3.9/site-packages/arxiv_on_deck_2/latex_bib.py:132: UserWarning: Error processing bibitem\n",
      " item = \\bibitem{Irsic_2023}V.~{Ir{\\v{s}}i{\\v{c}}}, M.~{Viel}, M.~G. {Haehnelt}, J.~S. {Bolton},  M.~{Molaro}, E.~{Puchwein} et~al., \\emph{{Unveiling Dark Matter  free-streaming at the smallest scales with high redshift Lyman-alpha  forest}}, \\href{http://dx.doi.org/10.48550/arXiv.2309.04533}{\\emph{arXiv  e-prints} (Sept., 2023) arXiv:2309.04533},  [\\href{http://arxiv.org/abs/2309.04533}{{\\tt 2309.04533}}].\n",
      " regex = \n",
      "        \\\\bibitem(\\[[^\\[\\]]*?\\]){(?P<bibkey>[a-zA-Z0-9\\-\\+\\.\\S]+?)}(?P<authors>|([\\D]*?))(?P<year>[12][0-9]{3}).*?href(.*?{(?P<url>http[\\S]*)})(?P<rest>.*)\n",
      "        \n",
      "  warnings.warn(str(e))\n",
      "/opt/hostedtoolcache/Python/3.9.18/x64/lib/python3.9/site-packages/arxiv_on_deck_2/latex_bib.py:132: UserWarning: Error processing bibitem\n",
      " item = \\bibitem{cabayolgarcia2023neural}L.~Cabayol-Garcia, J.~Chaves-Montero, A.~Font-Ribera and C.~Pedersen, \\emph{A  neural network emulator for the lyman-$\\alpha$ 1d flux power spectrum},  2023.\n",
      " regex = \n",
      "        \\\\bibitem(\\[[^\\[\\]]*?\\]){(?P<bibkey>[a-zA-Z0-9\\-\\+\\.\\S]+?)}(?P<authors>|([\\D]*?))(?P<year>[12][0-9]{3})(?P<rest>.*)\n",
      "        \n",
      "  warnings.warn(str(e))\n",
      "/opt/hostedtoolcache/Python/3.9.18/x64/lib/python3.9/site-packages/arxiv_on_deck_2/latex_bib.py:132: UserWarning: Error processing bibitem\n",
      " item = \\bibitem{Planck_2014}{Planck Collaboration}, P.~A.~R. {Ade}, N.~{Aghanim}, C.~{Armitage-Caplan},  M.~{Arnaud}, M.~{Ashdown} et~al., \\emph{{Planck 2013 results. XVI.  Cosmological parameters}},  \\href{http://dx.doi.org/10.1051/0004-6361/201321591}{\\emph{\\aap} {\\bf 571}  (Nov., 2014) A16}, [\\href{http://arxiv.org/abs/1303.5076}{{\\tt 1303.5076}}].\n",
      " regex = \n",
      "        \\\\bibitem(\\[[^\\[\\]]*?\\]){(?P<bibkey>[a-zA-Z0-9\\-\\+\\.\\S]+?)}(?P<authors>|([\\D]*?))(?P<year>[12][0-9]{3}).*?href(.*?{(?P<url>http[\\S]*)})(?P<rest>.*)\n",
      "        \n",
      "  warnings.warn(str(e))\n",
      "/opt/hostedtoolcache/Python/3.9.18/x64/lib/python3.9/site-packages/arxiv_on_deck_2/latex_bib.py:132: UserWarning: Error processing bibitem\n",
      " item = \\bibitem{camb}A.~{Lewis} and A.~{Challinor}, ``{CAMB: Code for Anisotropies in the Microwave  Background}.'' Astrophysics Source Code Library, record ascl:1102.026, Feb.,  2011.\n",
      " regex = \n",
      "        \\\\bibitem(\\[[^\\[\\]]*?\\]){(?P<bibkey>[a-zA-Z0-9\\-\\+\\.\\S]+?)}(?P<authors>|([\\D]*?))(?P<year>[12][0-9]{3})(?P<rest>.*)\n",
      "        \n",
      "  warnings.warn(str(e))\n",
      "/opt/hostedtoolcache/Python/3.9.18/x64/lib/python3.9/site-packages/arxiv_on_deck_2/latex_bib.py:132: UserWarning: Error processing bibitem\n",
      " item = \\bibitem{bolton+17-sherwood}J.~S. {Bolton}, E.~{Puchwein}, D.~{Sijacki}, M.~G. {Haehnelt}, T.-S. {Kim},  A.~{Meiksin} et~al., \\emph{{The Sherwood simulation suite: overview and data  comparisons with the Lyman {\\ensuremath{\\alpha}} forest at redshifts 2  {\\ensuremath{\\leq}} z {\\ensuremath{\\leq}} 5}},  \\href{http://dx.doi.org/10.1093/mnras/stw2397}{\\emph{\\mnras} {\\bf 464} (Jan.,  2017) 897--914}, [\\href{http://arxiv.org/abs/1605.03462}{{\\tt 1605.03462}}].\n",
      " regex = \n",
      "        \\\\bibitem(\\[[^\\[\\]]*?\\]){(?P<bibkey>[a-zA-Z0-9\\-\\+\\.\\S]+?)}(?P<authors>|([\\D]*?))(?P<year>[12][0-9]{3}).*?href(.*?{(?P<url>http[\\S]*)})(?P<rest>.*)\n",
      "        \n",
      "  warnings.warn(str(e))\n",
      "/opt/hostedtoolcache/Python/3.9.18/x64/lib/python3.9/site-packages/arxiv_on_deck_2/latex_bib.py:132: UserWarning: Error processing bibitem\n",
      " item = \\bibitem{Kulkarni_2015}G.~Kulkarni, J.~F. Hennawi, J.~O{ñ }orbe, A.~Rorai and V.~Springel,  \\emph{{CHARACTERIZING} {THE} {PRESSURE} {SMOOTHING} {SCALE} {OF} {THE}  {INTERGALACTIC} {MEDIUM}},  \\href{http://dx.doi.org/10.1088/0004-637x/812/1/30}{\\emph{The Astrophysical  Journal} {\\bf 812} (oct, 2015) 30}.\n",
      " regex = \n",
      "        \\\\bibitem(\\[[^\\[\\]]*?\\]){(?P<bibkey>[a-zA-Z0-9\\-\\+\\.\\S]+?)}(?P<authors>|([\\D]*?))(?P<year>[12][0-9]{3}).*?href(.*?{(?P<url>http[\\S]*)})(?P<rest>.*)\n",
      "        \n",
      "  warnings.warn(str(e))\n",
      "/opt/hostedtoolcache/Python/3.9.18/x64/lib/python3.9/site-packages/arxiv_on_deck_2/latex_bib.py:132: UserWarning: Error processing bibitem\n",
      " item = \\bibitem{rorai_2017}A.~{Rorai}, G.~D. {Becker}, M.~G. {Haehnelt}, R.~F. {Carswell}, J.~S. {Bolton},  S.~{Cristiani} et~al., \\emph{{Exploring the thermal state of the low-density  intergalactic medium at z = 3 with an ultrahigh signal-to-noise QSO  spectrum}}, \\href{http://dx.doi.org/10.1093/mnras/stw2917}{\\emph{\\mnras} {\\bf  466} (Apr., 2017) 2690--2709}, [\\href{http://arxiv.org/abs/1611.03805}{{\\tt  1611.03805}}].\n",
      " regex = \n",
      "        \\\\bibitem(\\[[^\\[\\]]*?\\]){(?P<bibkey>[a-zA-Z0-9\\-\\+\\.\\S]+?)}(?P<authors>|([\\D]*?))(?P<year>[12][0-9]{3}).*?href(.*?{(?P<url>http[\\S]*)})(?P<rest>.*)\n",
      "        \n",
      "  warnings.warn(str(e))\n",
      "/opt/hostedtoolcache/Python/3.9.18/x64/lib/python3.9/site-packages/arxiv_on_deck_2/latex_bib.py:132: UserWarning: Error processing bibitem\n",
      " item = \\bibitem{Springel_2005}V.~Springel, \\emph{The cosmological simulation code gadget-2},  \\href{http://dx.doi.org/10.1111/j.1365-2966.2005.09655.x}{\\emph{Monthly  Notices of the Royal Astronomical Society} {\\bf 364} (dec, 2005) 1105--1134}.\n",
      " regex = \n",
      "        \\\\bibitem(\\[[^\\[\\]]*?\\]){(?P<bibkey>[a-zA-Z0-9\\-\\+\\.\\S]+?)}(?P<authors>|([\\D]*?))(?P<year>[12][0-9]{3}).*?href(.*?{(?P<url>http[\\S]*)})(?P<rest>.*)\n",
      "        \n",
      "  warnings.warn(str(e))\n",
      "/opt/hostedtoolcache/Python/3.9.18/x64/lib/python3.9/site-packages/arxiv_on_deck_2/latex_bib.py:132: UserWarning: Error processing bibitem\n",
      " item = \\bibitem{Lewis_2002}A.~Lewis and S.~Bridle, \\emph{Cosmological parameters from {CMB} and other  data: A monte carlo approach},  \\href{http://dx.doi.org/10.1103/physrevd.66.103511}{\\emph{Physical Review D}  {\\bf 66} (nov, 2002) }.\n",
      " regex = \n",
      "        \\\\bibitem(\\[[^\\[\\]]*?\\]){(?P<bibkey>[a-zA-Z0-9\\-\\+\\.\\S]+?)}(?P<authors>|([\\D]*?))(?P<year>[12][0-9]{3}).*?href(.*?{(?P<url>http[\\S]*)})(?P<rest>.*)\n",
      "        \n",
      "  warnings.warn(str(e))\n",
      "/opt/hostedtoolcache/Python/3.9.18/x64/lib/python3.9/site-packages/arxiv_on_deck_2/latex_bib.py:132: UserWarning: Error processing bibitem\n",
      " item = \\bibitem{Lewis_2013}A.~Lewis, \\emph{Efficient sampling of fast and slow cosmological parameters},  \\href{http://dx.doi.org/10.1103/physrevd.87.103529}{\\emph{Physical Review D}  {\\bf 87} (may, 2013) }.\n",
      " regex = \n",
      "        \\\\bibitem(\\[[^\\[\\]]*?\\]){(?P<bibkey>[a-zA-Z0-9\\-\\+\\.\\S]+?)}(?P<authors>|([\\D]*?))(?P<year>[12][0-9]{3}).*?href(.*?{(?P<url>http[\\S]*)})(?P<rest>.*)\n",
      "        \n",
      "  warnings.warn(str(e))\n",
      "/opt/hostedtoolcache/Python/3.9.18/x64/lib/python3.9/site-packages/arxiv_on_deck_2/latex_bib.py:132: UserWarning: Error processing bibitem\n",
      " item = \\bibitem{Torrado_2021}J.~Torrado and A.~Lewis, \\emph{Cobaya: code for bayesian analysis of  hierarchical physical models},  \\href{http://dx.doi.org/10.1088/1475-7516/2021/05/057}{\\emph{Journal of  Cosmology and Astroparticle Physics} {\\bf 2021} (may, 2021) 057}.\n",
      " regex = \n",
      "        \\\\bibitem(\\[[^\\[\\]]*?\\]){(?P<bibkey>[a-zA-Z0-9\\-\\+\\.\\S]+?)}(?P<authors>|([\\D]*?))(?P<year>[12][0-9]{3}).*?href(.*?{(?P<url>http[\\S]*)})(?P<rest>.*)\n",
      "        \n",
      "  warnings.warn(str(e))\n",
      "/opt/hostedtoolcache/Python/3.9.18/x64/lib/python3.9/site-packages/arxiv_on_deck_2/latex_bib.py:132: UserWarning: Error processing bibitem\n",
      " item = \\bibitem{gelman_rubin}A.~{Gelman} and D.~B. {Rubin}, \\emph{{Inference from Iterative Simulation Using  Multiple Sequences}},  \\href{http://dx.doi.org/10.1214/ss/1177011136}{\\emph{Statistical Science}  {\\bf 7} (Jan., 1992) 457--472}.\n",
      " regex = \n",
      "        \\\\bibitem(\\[[^\\[\\]]*?\\]){(?P<bibkey>[a-zA-Z0-9\\-\\+\\.\\S]+?)}(?P<authors>|([\\D]*?))(?P<year>[12][0-9]{3}).*?href(.*?{(?P<url>http[\\S]*)})(?P<rest>.*)\n",
      "        \n",
      "  warnings.warn(str(e))\n",
      "/opt/hostedtoolcache/Python/3.9.18/x64/lib/python3.9/site-packages/arxiv_on_deck_2/latex_bib.py:132: UserWarning: Error processing bibitem\n",
      " item = \\bibitem{schaye_2001}J.~{Schaye}, \\emph{{Explaining the Lyman-alpha forest}}, {\\emph{arXiv e-prints}  (Dec., 2001) astro--ph/0112022},  [\\href{http://arxiv.org/abs/astro-ph/0112022}{{\\tt astro-ph/0112022}}].\n",
      " regex = \n",
      "        \\\\bibitem(\\[[^\\[\\]]*?\\]){(?P<bibkey>[a-zA-Z0-9\\-\\+\\.\\S]+?)}(?P<authors>|([\\D]*?))(?P<year>[12][0-9]{3}).*?href(.*?{(?P<url>http[\\S]*)})(?P<rest>.*)\n",
      "        \n",
      "  warnings.warn(str(e))\n",
      "/opt/hostedtoolcache/Python/3.9.18/x64/lib/python3.9/site-packages/arxiv_on_deck_2/latex_bib.py:132: UserWarning: Error processing bibitem\n",
      " item = \\bibitem{Eisenstein_1998}D.~J. Eisenstein and W.~Hu, \\emph{Baryonic features in the matter transfer  function}, \\href{http://dx.doi.org/10.1086/305424}{\\emph{The Astrophysical  Journal} {\\bf 496} (apr, 1998) 605--614}.\\end{thebibliography}\\endgroup\n",
      " regex = \n",
      "        \\\\bibitem(\\[[^\\[\\]]*?\\]){(?P<bibkey>[a-zA-Z0-9\\-\\+\\.\\S]+?)}(?P<authors>|([\\D]*?))(?P<year>[12][0-9]{3}).*?href(.*?{(?P<url>http[\\S]*)})(?P<rest>.*)\n",
      "        \n",
      "  warnings.warn(str(e))\n"
     ]
    },
    {
     "name": "stdout",
     "output_type": "stream",
     "text": [
      "extracting tarball to tmp_2310.12867..."
     ]
    },
    {
     "name": "stdout",
     "output_type": "stream",
     "text": [
      " done.\n"
     ]
    },
    {
     "name": "stderr",
     "output_type": "stream",
     "text": [
      "/tmp/ipykernel_2121/3009462391.py:49: LatexWarning: 2310.12867 did not run properly\n",
      "bad escape \\l at position 10\n",
      "  warnings.warn(latex.LatexWarning(f\"{paper_id:s} did not run properly\\n\" +\n"
     ]
    }
   ],
   "source": [
    "documents = []\n",
    "failed = []\n",
    "for paper in tqdm(candidates):\n",
    "    paper_id = paper['identifier'].lower().replace('arxiv:', '')\n",
    "    \n",
    "    folder = f'tmp_{paper_id}'\n",
    "\n",
    "    try:\n",
    "        if not os.path.isdir(folder):\n",
    "            folder = retrieve_document_source(f\"{paper_id}\", f'tmp_{paper_id}')\n",
    "        \n",
    "        try:\n",
    "            doc = latex.LatexDocument(folder, validation=validation)    \n",
    "        except AffiliationError as affilerror:\n",
    "            msg = f\"ArXiv:{paper_id:s} is not an MPIA paper... \" + str(affilerror)\n",
    "            failed.append((paper, \"affiliation error: \" + str(affilerror) ))\n",
    "            continue\n",
    "        \n",
    "        # Hack because sometimes author parsing does not work well\n",
    "        if (len(doc.authors) != len(paper['authors'])):\n",
    "            doc._authors = paper['authors']\n",
    "        else:\n",
    "            # highlight authors (FIXME: doc.highlight_authors)\n",
    "            # done on arxiv paper already\n",
    "            doc._authors = highlight_authors_in_list(\n",
    "                [mpia.get_initials(k) for k in doc.authors], \n",
    "                normed_mpia_authors, verbose=True)\n",
    "        if (doc.abstract) in (None, ''):\n",
    "            doc._abstract = paper['abstract']\n",
    "            \n",
    "        doc.comment = (get_markdown_badge(paper_id) + \n",
    "                       \"<mark>Appeared on: \" + paper['date'] + \"</mark> - \")\n",
    "        if paper['comments']:\n",
    "            doc.comment += \" _\" + paper['comments'] + \"_\"\n",
    "        \n",
    "        full_md = doc.generate_markdown_text()\n",
    "        \n",
    "        full_md += get_markdown_qrcode(paper_id)\n",
    "        \n",
    "        # replace citations\n",
    "        try:\n",
    "            bibdata = latex_bib.LatexBib.from_doc(doc)\n",
    "            full_md = latex_bib.replace_citations(full_md, bibdata)\n",
    "        except Exception as e:\n",
    "            print(e)\n",
    "        \n",
    "        documents.append((paper_id, full_md))\n",
    "    except Exception as e:\n",
    "        warnings.warn(latex.LatexWarning(f\"{paper_id:s} did not run properly\\n\" +\n",
    "                                         str(e)\n",
    "                                        ))\n",
    "        failed.append((paper, \"latex error \" + str(e)))"
   ]
  },
  {
   "cell_type": "markdown",
   "id": "2505a25c",
   "metadata": {
    "papermill": {
     "duration": 0.007147,
     "end_time": "2023-10-20T04:09:59.808210",
     "exception": false,
     "start_time": "2023-10-20T04:09:59.801063",
     "status": "completed"
    },
    "tags": []
   },
   "source": [
    "### Export the logs\n",
    "\n",
    "Throughout, we also keep track of the logs per paper. see `logs-{today date}.md` "
   ]
  },
  {
   "cell_type": "code",
   "execution_count": 5,
   "id": "d733828a",
   "metadata": {
    "execution": {
     "iopub.execute_input": "2023-10-20T04:09:59.824071Z",
     "iopub.status.busy": "2023-10-20T04:09:59.823079Z",
     "iopub.status.idle": "2023-10-20T04:09:59.846325Z",
     "shell.execute_reply": "2023-10-20T04:09:59.845227Z"
    },
    "papermill": {
     "duration": 0.036971,
     "end_time": "2023-10-20T04:09:59.851951",
     "exception": false,
     "start_time": "2023-10-20T04:09:59.814980",
     "status": "completed"
    },
    "scrolled": false,
    "tags": []
   },
   "outputs": [
    {
     "data": {
      "text/markdown": [
       "## Successful papers"
      ],
      "text/plain": [
       "<IPython.core.display.Markdown object>"
      ]
     },
     "metadata": {},
     "output_type": "display_data"
    },
    {
     "data": {
      "text/markdown": [
       "\n",
       "|||\n",
       "|---:|:---|\n",
       "| [![arXiv](https://img.shields.io/badge/arXiv-arXiv:2310.12340-b31b1b.svg)](https://arxiv.org/abs/arXiv:2310.12340) | **The JADES Origins Field: A New JWST Deep Field in the JADES Second  NIRCam Data Release**  |\n",
       "|| D. J. Eisenstein, et al. -- incl., <mark>A. d. Graaff</mark>, <mark>H.-W. Rix</mark> |\n",
       "|*Appeared on*| *2023-10-20*|\n",
       "|*Comments*| *Submitted to ApJ Supplement. Images and catalogs are available at this https URL . A FITSmap portal to view the images is at this https URL*|\n",
       "|**Abstract**| We summarize the properties and initial data release of the JADES Origins Field (JOF), which will soon be the deepest imaging field yet observed with the James Webb Space Telescope (JWST). This field falls within the GOODS-S region about 8' south-west of the Hubble Ultra Deep Field (HUDF), where it was formed initially in Cycle 1 as a parallel field of HUDF spectroscopic observations within the JWST Advanced Deep Extragalactic Survey (JADES). This imaging will be greatly extended in Cycle 2 program 3215, which will observe the JOF for 5 days in six medium-band filters, seeking robust candidates for z>15 galaxies. This program will also include ultra-deep parallel NIRSpec spectroscopy (up to 104 hours on-source, summing over the dispersion modes) on the HUDF. Cycle 3 observations from program 4540 will add 20 hours of NIRCam slitless spectroscopy to the JOF. With these three campaigns, the JOF will be observed for 380 open-shutter hours with NIRCam using 15 imaging filters and 2 grism bandpasses. Further, parts of the JOF have deep 43 hr MIRI observations in F770W. Taken together, the JOF will soon be one of the most compelling deep fields available with JWST and a powerful window into the early Universe. This paper presents the second data release from JADES, featuring the imaging and catalogs from the year 1 JOF observations. |"
      ],
      "text/plain": [
       "[arXiv:2310.12340] The JADES Origins Field: A New JWST Deep Field in the JADES Second  NIRCam Data Release\n",
       "\tD. J. Eisenstein, et al. -- incl., <mark>A. d. Graaff</mark>, <mark>H.-W. Rix</mark>"
      ]
     },
     "metadata": {},
     "output_type": "display_data"
    },
    {
     "data": {
      "text/markdown": [
       "\n",
       "|||\n",
       "|---:|:---|\n",
       "| [![arXiv](https://img.shields.io/badge/arXiv-arXiv:2310.12720-b31b1b.svg)](https://arxiv.org/abs/arXiv:2310.12720) | **A modified lognormal approximation of the Lyman-$α$ forest:  comparison with full hydrodynamic simulations at $2\\leq z\\leq 2.7$**  |\n",
       "|| B. Arya, T. R. Choudhury, A. Paranjape, <mark>P. Gaikwad</mark> |\n",
       "|*Appeared on*| *2023-10-20*|\n",
       "|*Comments*| *17 pages, 8 figures*|\n",
       "|**Abstract**| Observations of the Lyman-$\\alpha$ forest in distant quasar spectra with upcoming surveys are expected to provide significantly larger and higher-quality datasets. To interpret these datasets, it is imperative to develop efficient simulations. One such approach is based on the assumption that baryonic densities in the intergalactic medium (IGM) follow a lognormal distribution. We extend our earlier work to assess the robustness of the lognormal model of the Lyman-$\\alpha$ forest in recovering the parameters characterizing IGM state, namely, the mean-density IGM temperature ($T_0$), the slope of the temperature-density relation ($\\gamma$), and the hydrogen photoionization rate ($\\Gamma_{12}$), by comparing with high-resolution Sherwood SPH simulations across the redshift range $2 \\leq z \\leq 2.7$. These parameters are estimated through a Markov Chain Monte Carlo technique, using the mean and power spectrum of the transmitted flux. We find that the usual lognormal distribution of IGM densities cannot recover the parameters of the SPH simulations. This limitation arises from the fact that the SPH baryonic density distribution cannot be described by a simple lognormal form. To address this, we extend the model by scaling the linear density contrast by a parameter $\\nu$. While the resulting baryonic density is still lognormal, the additional parameter gives us extra freedom in setting the variance of density fluctuations. With this extension, values of $T_0$ and $\\gamma$ implied in the SPH simulations are recovered at $\\sim 1-\\sigma$ ($\\lesssim$ 10%) of the median (best-fit) values for most redshifts bins. However, this extended lognormal model cannot recover $\\Gamma_{12}$ reliably, with the best-fit value discrepant by $\\gtrsim 3-\\sigma$ for $z > 2.2$. Despite this limitation in the recovery of $\\Gamma_{12}$, we argue that the model remains useful for constraining cosmological parameters. |"
      ],
      "text/plain": [
       "[arXiv:2310.12720] A modified lognormal approximation of the Lyman-$α$ forest:  comparison with full hydrodynamic simulations at $2\\leq z\\leq 2.7$\n",
       "\tB. Arya, T. R. Choudhury, A. Paranjape, <mark>P. Gaikwad</mark>"
      ]
     },
     "metadata": {},
     "output_type": "display_data"
    },
    {
     "data": {
      "text/markdown": [
       "## Failed papers"
      ],
      "text/plain": [
       "<IPython.core.display.Markdown object>"
      ]
     },
     "metadata": {},
     "output_type": "display_data"
    },
    {
     "data": {
      "text/markdown": [
       "\n",
       "|||\n",
       "|---:|:---|\n",
       "| [![arXiv](https://img.shields.io/badge/arXiv-arXiv:2310.12208-b31b1b.svg)](https://arxiv.org/abs/arXiv:2310.12208) | **Dynamical Friction Models for Black-Hole Binary Formation in AGN Disks**  |\n",
       "|| K. Qian, <mark>J. Li</mark>, D. Lai |\n",
       "|*Appeared on*| *2023-10-20*|\n",
       "|*Comments*| *17 pages, 13 figures, submitted to ApJ*|\n",
       "|**Abstract**| Stellar-mass black holes (sBH) embedded in gaseous disks of active galactic nuclei (AGN) can be important sources of detectable gravitational radiation for LIGO/Virgo when they form binaries and coalesce due to orbital decay. In this paper, we study the effect of gas dynamical friction (DF) on the formation of BH binaries in AGN disks using $N$-body simulations. We employ two simplified models of DF, with the force on the BH depending on $\\Delta {\\bf v}$, the velocity of the sBH relative to the background Keplerian gas. We integrate the motion of two sBH initially on circular orbits around the central supermassive black hole (SMBH), and evaluate the probability of binary formation under various conditions. We find that both models of DF (with different dependence of the frictional coefficient on $|\\Delta{\\bf v}|$) can foster the formation of binaries when the effective friction timescale $\\tau$ satisfies $\\Omega_{\\rm K}\\tau\\lesssim 20-30$ (where $\\Omega_{\\rm K}$ is the Keplerian frequency around the SMBH): prograde binaries are formed when the DF is stronger (smaller $\\tau$), while retrograde binaries dominate when the DF is weaker (larger $\\tau$). We determine the distribution of both prograde and retrograde binaries as a function of initial orbital separation and the DF strength. Using our models of DF, we show that for a given sBH number density in the AGN disk, the formation rate of sBH binaries increases with decreasing $\\tau$ and can reach a moderate value with a sufficiently strong DF. |\n",
       "|<p style=\"color:green\"> **ERROR** </p>| <p style=\"color:green\">affiliation error: mpia.affiliation_verifications: 'Heidelberg' keyword not found.</p> |"
      ],
      "text/plain": [
       "<IPython.core.display.Markdown object>"
      ]
     },
     "metadata": {},
     "output_type": "display_data"
    },
    {
     "data": {
      "text/markdown": [
       "\n",
       "|||\n",
       "|---:|:---|\n",
       "| [![arXiv](https://img.shields.io/badge/arXiv-arXiv:2310.12867-b31b1b.svg)](https://arxiv.org/abs/arXiv:2310.12867) | **Far-Infrared Luminosity Bursts Trace Mass Accretion onto Protostars**  |\n",
       "|| W. J. Fischer, et al. -- incl., <mark>H. Beuther</mark> |\n",
       "|*Appeared on*| *2023-10-20*|\n",
       "|*Comments*| *To be submitted to AAS Journals*|\n",
       "|**Abstract**| Evidence abounds that young stellar objects undergo luminous bursts of intense accretion that are short compared to the time it takes to form a star. It remains unclear how much these events contribute to the main-sequence masses of the stars. We demonstrate the power of time-series far-infrared (far-IR) photometry to answer this question compared to similar observations at shorter and longer wavelengths. We start with model spectral energy distributions that have been fit to 86 Class 0 protostars in the Orion molecular clouds. The protostars sample a broad range of envelope densities, cavity geometries, and viewing angles. We then increase the luminosity of each model by factors of 10, 50, and 100 and assess how these luminosity increases manifest in the form of flux increases over wavelength ranges of interest. We find that the fractional change in the far-IR luminosity during a burst more closely traces the change in the accretion rate than photometric diagnostics at mid-infrared and submillimeter wavelengths. We also show that observations at far-IR and longer wavelengths reliably track accretion changes without confusion from large, variable circumstellar and interstellar extinction that plague studies at shorter wavelengths. We close by discussing the ability of a proposed far-IR surveyor for the 2030s to enable improvements in our understanding of the role of accretion bursts in mass assembly. |\n",
       "|<p style=\"color:red\"> **ERROR** </p>| <p style=\"color:red\">latex error bad escape \\l at position 10</p> |"
      ],
      "text/plain": [
       "<IPython.core.display.Markdown object>"
      ]
     },
     "metadata": {},
     "output_type": "display_data"
    },
    {
     "data": {
      "text/markdown": [
       "\n",
       "|||\n",
       "|---:|:---|\n",
       "| [![arXiv](https://img.shields.io/badge/arXiv-arXiv:2310.12528-b31b1b.svg)](https://arxiv.org/abs/arXiv:2310.12528) | **Constructing Impactful Machine Learning Research for Astronomy: Best  Practices for Researchers and Reviewers**  |\n",
       "|| D. Huppenkothen, et al. -- incl., <mark>M. Fouesneau</mark> |\n",
       "|*Appeared on*| *2023-10-20*|\n",
       "|*Comments*| *14 pages, 3 figures; submitted to the Bulletin of the American Astronomical Society*|\n",
       "|**Abstract**| Machine learning has rapidly become a tool of choice for the astronomical community. It is being applied across a wide range of wavelengths and problems, from the classification of transients to neural network emulators of cosmological simulations, and is shifting paradigms about how we generate and report scientific results. At the same time, this class of method comes with its own set of best practices, challenges, and drawbacks, which, at present, are often reported on incompletely in the astrophysical literature. With this paper, we aim to provide a primer to the astronomical community, including authors, reviewers, and editors, on how to implement machine learning models and report their results in a way that ensures the accuracy of the results, reproducibility of the findings, and usefulness of the method. |\n",
       "|<p style=\"color:red\"> **ERROR** </p>| <p style=\"color:red\">latex error list index out of range</p> |"
      ],
      "text/plain": [
       "<IPython.core.display.Markdown object>"
      ]
     },
     "metadata": {},
     "output_type": "display_data"
    }
   ],
   "source": [
    "import datetime\n",
    "today = str(datetime.date.today())\n",
    "logfile = f\"_build/html/logs/log-{today}.md\"\n",
    "\n",
    "\n",
    "with open(logfile, 'w') as logs:\n",
    "    # Success\n",
    "    logs.write(f'# Arxiv on Deck 2: Logs - {today}\\n\\n')\n",
    "    logs.write(\"\"\"* Arxiv had {0:,d} new papers\\n\"\"\".format(len(new_papers)))\n",
    "    logs.write(\"\"\"    * {0:,d} with possible author matches\\n\\n\"\"\".format(len(candidates)))\n",
    "    logs.write(\"## Sucessful papers\\n\\n\")\n",
    "    display(Markdown(\"## Successful papers\"))\n",
    "    success = [k[0] for k in documents]\n",
    "    for candid in candidates:\n",
    "        if candid['identifier'].split(':')[-1] in success:\n",
    "            display(candid)\n",
    "            logs.write(candid.generate_markdown_text() + '\\n\\n')\n",
    "\n",
    "    ## failed\n",
    "    logs.write(\"## Failed papers\\n\\n\")\n",
    "    display(Markdown(\"## Failed papers\"))\n",
    "    failed = sorted(failed, key=lambda x: x[1])\n",
    "    current_reason = \"\"\n",
    "    for paper, reason in failed:\n",
    "        if 'affiliation' in reason:\n",
    "            color = 'green'\n",
    "        else:\n",
    "            color = 'red'\n",
    "        data = Markdown(\n",
    "                paper.generate_markdown_text() + \n",
    "                f'\\n|<p style=\"color:{color:s}\"> **ERROR** </p>| <p style=\"color:{color:s}\">{reason:s}</p> |'\n",
    "               )\n",
    "        if reason != current_reason:\n",
    "            logs.write(f'### {reason:s} \\n\\n')\n",
    "            current_reason = reason\n",
    "        logs.write(data.data + '\\n\\n')\n",
    "        \n",
    "        # only display here the important errors (all in logs)\n",
    "        # if color in ('red',):\n",
    "        display(data)"
   ]
  },
  {
   "cell_type": "markdown",
   "id": "472d20ee",
   "metadata": {
    "papermill": {
     "duration": 0.009518,
     "end_time": "2023-10-20T04:09:59.870349",
     "exception": false,
     "start_time": "2023-10-20T04:09:59.860831",
     "status": "completed"
    },
    "tags": []
   },
   "source": [
    "## Export documents\n",
    "\n",
    "We now write the .md files and export relevant images"
   ]
  },
  {
   "cell_type": "code",
   "execution_count": 6,
   "id": "d426aed9",
   "metadata": {
    "execution": {
     "iopub.execute_input": "2023-10-20T04:09:59.890581Z",
     "iopub.status.busy": "2023-10-20T04:09:59.889929Z",
     "iopub.status.idle": "2023-10-20T04:09:59.899897Z",
     "shell.execute_reply": "2023-10-20T04:09:59.898851Z"
    },
    "papermill": {
     "duration": 0.023079,
     "end_time": "2023-10-20T04:09:59.901777",
     "exception": false,
     "start_time": "2023-10-20T04:09:59.878698",
     "status": "completed"
    },
    "tags": []
   },
   "outputs": [],
   "source": [
    "def export_markdown_summary(md: str, md_fname:str, directory: str):\n",
    "    \"\"\"Export MD document and associated relevant images\"\"\"\n",
    "    import os\n",
    "    import shutil\n",
    "    import re\n",
    "\n",
    "    if (os.path.exists(directory) and not os.path.isdir(directory)):\n",
    "        raise RuntimeError(f\"a non-directory file exists with name {directory:s}\")\n",
    "\n",
    "    if (not os.path.exists(directory)):\n",
    "        print(f\"creating directory {directory:s}\")\n",
    "        os.mkdir(directory)\n",
    "\n",
    "    fig_fnames = (re.compile(r'\\[Fig.*\\]\\((.*)\\)').findall(md) + \n",
    "                  re.compile(r'\\<img src=\"([^>\\s]*)\"[^>]*/>').findall(md))\n",
    "    for fname in fig_fnames:\n",
    "        if 'http' in fname:\n",
    "            # No need to copy online figures\n",
    "            continue\n",
    "        destdir = os.path.join(directory, os.path.dirname(fname))\n",
    "        destfname = os.path.join(destdir, os.path.basename(fname))\n",
    "        try:\n",
    "            os.makedirs(destdir)\n",
    "        except FileExistsError:\n",
    "            pass\n",
    "        shutil.copy(fname, destfname)\n",
    "    with open(os.path.join(directory, md_fname), 'w') as fout:\n",
    "        fout.write(md)\n",
    "    print(\"exported in \", os.path.join(directory, md_fname))\n",
    "    [print(\"    + \" + os.path.join(directory,fk)) for fk in fig_fnames]"
   ]
  },
  {
   "cell_type": "code",
   "execution_count": 7,
   "id": "014d04a4",
   "metadata": {
    "execution": {
     "iopub.execute_input": "2023-10-20T04:09:59.920998Z",
     "iopub.status.busy": "2023-10-20T04:09:59.920368Z",
     "iopub.status.idle": "2023-10-20T04:09:59.932062Z",
     "shell.execute_reply": "2023-10-20T04:09:59.931139Z"
    },
    "papermill": {
     "duration": 0.024248,
     "end_time": "2023-10-20T04:09:59.934638",
     "exception": false,
     "start_time": "2023-10-20T04:09:59.910390",
     "status": "completed"
    },
    "tags": []
   },
   "outputs": [
    {
     "name": "stdout",
     "output_type": "stream",
     "text": [
      "exported in  _build/html/2310.12340.md\n",
      "    + _build/html/tmp_2310.12340/./jades-redshift-frontier-composite-v3.png\n",
      "    + _build/html/tmp_2310.12340/./real_pz_snr.png\n",
      "    + _build/html/tmp_2310.12340/./z_F444W_3215.png\n",
      "exported in  _build/html/2310.12720.md\n",
      "    + _build/html/tmp_2310.12720/./figures_jcap/param_redshift_evol_mcmc.png\n",
      "    + _build/html/tmp_2310.12720/./figures_jcap/xJ_nu_chi2_stat_redshift_KS15_fbar_gaikwad.png\n",
      "    + _build/html/tmp_2310.12720/./figures_jcap/xJ_nu_chi2_redshift_KS15_pk_fbar_gaikwad.png\n"
     ]
    }
   ],
   "source": [
    "for paper_id, md in documents:\n",
    "    export_markdown_summary(md, f\"{paper_id:s}.md\", '_build/html/')"
   ]
  },
  {
   "cell_type": "markdown",
   "id": "f087a0a7",
   "metadata": {
    "papermill": {
     "duration": 0.008564,
     "end_time": "2023-10-20T04:09:59.952052",
     "exception": false,
     "start_time": "2023-10-20T04:09:59.943488",
     "status": "completed"
    },
    "tags": []
   },
   "source": [
    "## Display the papers\n",
    "\n",
    "Not necessary but allows for a quick check."
   ]
  },
  {
   "cell_type": "code",
   "execution_count": 8,
   "id": "fd25f625",
   "metadata": {
    "execution": {
     "iopub.execute_input": "2023-10-20T04:09:59.970618Z",
     "iopub.status.busy": "2023-10-20T04:09:59.970051Z",
     "iopub.status.idle": "2023-10-20T04:09:59.979352Z",
     "shell.execute_reply": "2023-10-20T04:09:59.978537Z"
    },
    "papermill": {
     "duration": 0.020909,
     "end_time": "2023-10-20T04:09:59.981281",
     "exception": false,
     "start_time": "2023-10-20T04:09:59.960372",
     "status": "completed"
    },
    "scrolled": false,
    "tags": []
   },
   "outputs": [
    {
     "data": {
      "text/markdown": [
       "<div class=\"macros\" style=\"visibility:hidden;\">\n",
       "$\\newcommand{\\ensuremath}{}$\n",
       "$\\newcommand{\\xspace}{}$\n",
       "$\\newcommand{\\object}[1]{\\texttt{#1}}$\n",
       "$\\newcommand{\\farcs}{{.}''}$\n",
       "$\\newcommand{\\farcm}{{.}'}$\n",
       "$\\newcommand{\\arcsec}{''}$\n",
       "$\\newcommand{\\arcmin}{'}$\n",
       "$\\newcommand{\\ion}[2]{#1#2}$\n",
       "$\\newcommand{\\textsc}[1]{\\textrm{#1}}$\n",
       "$\\newcommand{\\hl}[1]{\\textrm{#1}}$\n",
       "$\\newcommand{\\footnote}[1]{}$\n",
       "$\\newcommand{\\lya}{\\ensuremath{{\\rm Ly}\\alpha}}$\n",
       "$\\newcommand{\\kms}{\\ensuremath{{\\rm\\;km\\;s^{-1}}}}$\n",
       "$\\newcommand{\\Mpc}{\\ensuremath{{\\rm\\;Mpc}}}$\n",
       "$\\newcommand{\\Myr}{\\ensuremath{{\\rm\\;Myr}}}$\n",
       "$\\newcommand{\\Msun}{\\ensuremath{{\\rm\\;M_\\odot}}}$\n",
       "$\\newcommand{\\yr}{\\ensuremath{{\\rm\\;yr}}}$\n",
       "$\\newcommand{\\cm}{\\ensuremath{{\\rm\\;cm}}}$\n",
       "$\\newcommand{\\ergscms}{\\ensuremath{{\\rm\\;ergs\\;cm^{-2}\\;s^{-1}}}}$\n",
       "$\\newcommand{\\ergss}{\\ensuremath{{\\rm\\;ergs\\;s^{-1}}}}$\n",
       "$\\newcommand{\\mic}{\\ensuremath{\\mu\\rm m}}$\n",
       "$\\newcommand{\\todo}[1]{{\\color{blue} \\tt #1}}$\n",
       "$\\newcommand{\\tbc}[1]{#1 ({\\color{red} \\tt TBC})}$\n",
       "$\\newcommand{\\tbd}{({\\color{red} \\tt TBD})}$\n",
       "$\\newcommand{\\outline}[1]{{\\color{black}\\it #1}}$\n",
       "$\\newcommand{\\BRC}[1]{{\\color{red!55!black} BR: #1}}$\n",
       "$\\newcommand{\\CWC}[1]{{\\color{purple!55!black} CW: #1}}$\n",
       "$\\newcommand{\\RM}[1]{{\\color{green!25!black} RM: #1}}$\n",
       "$\\newcommand{\\DJE}[1]{{\\color{blue!25!black} DE: #1}}$\n",
       "$\\newcommand{\\um}{\\ensuremath{\\mu{\\rm m}}}$\n",
       "$\\newcommand{\\nod}{---}$</div>\n",
       "\n",
       "\n",
       "\n",
       "<div id=\"title\">\n",
       "\n",
       "# The JADES Origins Field: A New JWST Deep Field in the JADES Second NIRCam Data Release\n",
       "\n",
       "</div>\n",
       "<div id=\"comments\">\n",
       "\n",
       "[![arXiv](https://img.shields.io/badge/arXiv-2310.12340-b31b1b.svg)](https://arxiv.org/abs/2310.12340)<mark>Appeared on: 2023-10-20</mark> -  _Submitted to ApJ Supplement. Images and catalogs are available at this https URL . A FITSmap portal to view the images is at this https URL_\n",
       "\n",
       "</div>\n",
       "<div id=\"authors\">\n",
       "\n",
       "D. J. Eisenstein, et al. -- incl., <mark>A. d. Graaff</mark>, <mark>H.-W. Rix</mark>\n",
       "\n",
       "</div>\n",
       "<div id=\"abstract\">\n",
       "\n",
       "**Abstract:** We summarize the properties and initial data release of the JADES Origins Field (JOF),which will soon be the deepest imaging field yet observed with the James Webb Space Telescope (JWST).This field falls within the GOODS-S region about 8' south-west of the Hubble Ultra Deep Field (HUDF), where it was formed initially in Cycle 1 as a parallel field of HUDF spectroscopic observations within the JWST AdvancedDeep Extragalactic Survey (JADES).This imaging will be greatly extended in Cycle 2 program 3215,which will observe the JOF for 5 days in six medium-bandfilters, seeking robust candidates for $z>15$ galaxies.This program will also include ultra-deep parallel NIRSpec spectroscopy (up to 104 hours on-source, summing over the dispersion modes) on the HUDF.Cycle 3 observations from program 4540 will add 20 hours of NIRCam slitless spectroscopy to the JOF.With these three campaigns, the JOF will be observed for 380 open-shutter hours with NIRCam using 15 imaging filters and 2 grism bandpasses.  Further, parts of the JOF have deep 43 hr MIRI observations in F770W.Taken together, the JOF will soon be one of the most compelling deep fields availablewith JWST and a powerful window into the early Universe.  This paper presents the second data release from JADES, featuring the imaging and catalogs from the year 1 JOF observations.\n",
       "\n",
       "</div>\n",
       "\n",
       "<div id=\"div_fig1\">\n",
       "\n",
       "<img src=\"tmp_2310.12340/./jades-redshift-frontier-composite-v3.png\" alt=\"Fig1\" width=\"100%\"/>\n",
       "\n",
       "**Figure 1. -** \n",
       "The layout of data sets in the GOODS-S field most immediate to this paper, showing the context of observations most germane to this deep field.  The grey-scale shows the F277W exposure map, as rendered from the Cycle 1 program 1180 \\& 1210 APT files.  The parallel imaging in 1210 is the deepest portion; program 3215 is extending this with 6 medium-bands. The forthcoming JADES 1286 Observation 5 NIRCam footprint is also shown.\n",
       "The footprints of the HUDF ACS field  ([Beckwith, Stiavelli and Koekemoer 2006]()) , deep MUSE spectroscopy  ([Bacon, Brinchmann and Conseil 2023]()) , FRESCO grism \\citep[][program 1895;]{Oesch23}, JEMS medium-band\n",
       "\\citep[program 1963;][]{Williams2023}, and the\n",
       "NGDEEP NIRISS field \\citep[program 2079;][]{Bagley23} are shown, as these are immediately supportive of the target selection for the 3215 NIRSpec observations.  There are many other powerful data sets in this region, not shown for brevity! (*fig:layout*)\n",
       "\n",
       "</div>\n",
       "<div id=\"div_fig2\">\n",
       "\n",
       "<img src=\"tmp_2310.12340/./real_pz_snr.png\" alt=\"Fig2\" width=\"100%\"/>\n",
       "\n",
       "**Figure 2. -** \n",
       "We now take the high-redshift fit and shift it in redshift, holding F277W $S/N=7$, and fit with Prospector both for the case of only the Cycle 1 wide-bands and for the case with the Cycle 2 imaging.  We report the $\\Delta\\chi^2$ that a true high-$z$ galaxy would be mistaken at low-$z$.  The combined imaging allows the two solutions to be robustly separated, with $\\Delta\\chi^2>15$.  One also sees how the wide-bands alone fail to separate these cases, with the confusion increasing badly at $z>15$, where the dropout shifts from F150W to F200W.\n",
       " (*fig:mb2*)\n",
       "\n",
       "</div>\n",
       "<div id=\"div_fig3\">\n",
       "\n",
       "<img src=\"tmp_2310.12340/./z_F444W_3215.png\" alt=\"Fig3\" width=\"100%\"/>\n",
       "\n",
       "**Figure 3. -** \n",
       "F444W magnitude versus photometric redshift for the galaxies for which shutters were allocated for NIRSpec observations in program 3215. The color coding indicates the exposure time with the prism for each target.\n",
       " (*fig:ns_targets*)\n",
       "\n",
       "</div><div id=\"qrcode\"><img src=https://api.qrserver.com/v1/create-qr-code/?size=100x100&data=\"https://arxiv.org/abs/2310.12340\"></div>"
      ],
      "text/plain": [
       "<IPython.core.display.Markdown object>"
      ]
     },
     "metadata": {},
     "output_type": "display_data"
    },
    {
     "data": {
      "text/markdown": [
       "<div class=\"macros\" style=\"visibility:hidden;\">\n",
       "$\\newcommand{\\ensuremath}{}$\n",
       "$\\newcommand{\\xspace}{}$\n",
       "$\\newcommand{\\object}[1]{\\texttt{#1}}$\n",
       "$\\newcommand{\\farcs}{{.}''}$\n",
       "$\\newcommand{\\farcm}{{.}'}$\n",
       "$\\newcommand{\\arcsec}{''}$\n",
       "$\\newcommand{\\arcmin}{'}$\n",
       "$\\newcommand{\\ion}[2]{#1#2}$\n",
       "$\\newcommand{\\textsc}[1]{\\textrm{#1}}$\n",
       "$\\newcommand{\\hl}[1]{\\textrm{#1}}$\n",
       "$\\newcommand{\\footnote}[1]{}$\n",
       "$\\newcommand{\\keywords}[1]$\n",
       "$\\newcommand{\\p}{\\ensuremath{\\partial}}$\n",
       "$\\newcommand{\\Msun}{\\ensuremath{M_{\\odot}}}$\n",
       "$\\newcommand{\\Mh}{\\ensuremath{h^{-1}M_{\\odot}}}$\n",
       "$\\newcommand{\\Mhsq}{\\ensuremath{h^{-2}M_{\\odot}}}$\n",
       "$\\newcommand{\\Mpch}{\\ensuremath{h^{-1}{\\rm Mpc}}}$\n",
       "$\\newcommand{\\kpch}{\\ensuremath{h^{-1}{\\rm kpc}}}$\n",
       "$\\newcommand{\\avg}[1]{\\ensuremath{\\left\\langle #1  \\right\\rangle}}$\n",
       "$\\newcommand{\\e}[1]{\\ensuremath{{\\rm e}^{#1}}}$\n",
       "$\\newcommand{\\der}{\\ensuremath{{\\rm d}}}$\n",
       "$\\newcommand{\\Der}{\\ensuremath{{\\rm D}}}$\n",
       "$\\newcommand{\\dir}{\\ensuremath{\\delta_{\\rm D}}}$\n",
       "$\\newcommand{\\erfc}[1]{\\ensuremath{{\\rm erfc}\\left(#1\\right)}}$\n",
       "$\\newcommand{\\erf}[1]{\\ensuremath{{\\rm erf}\\left(#1\\right)}}$\n",
       "$\\newcommand{\\eqn}[1]{equation~\\eqref{#1}}$\n",
       "$\\newcommand{\\eqns}[1]{equations~\\eqref{#1}}$\n",
       "$\\newcommand{\\ph}[1]{\\phantom{#1}}$\n",
       "$\\newcommand{\\be}{\\begin{equation}}$\n",
       "$\\newcommand{\\ee}{\\end{equation}}$\n",
       "$\\newcommand{\\Cal}[1]{\\ensuremath{\\mathcal{#1}}}$\n",
       "$\\newcommand{\\AP}[1]{\\emph{\\color{blue}[AP: #1]}}$\n",
       "$\\newcommand{\\TRC}[1]{{\\color{Green}[{\\bf TRC:} #1]}}$\n",
       "$\\newcommand{\\BA}[1]{\\emph{\\color{red}[BA: #1]}}$\n",
       "$\\newcommand{\\red}[1]{\\textcolor{red}{#1}}$\n",
       "$\\newcommand{\\PG}[1]{{\\color{magenta}{\\bf #1}}}$\n",
       "$\\title{\\boldmath A modified lognormal approximation of the Lyman-\\alpha forest: comparison with full hydrodynamic simulations at 2\\leq z\\leq 2.7}$\n",
       "$\\author[a,1]{B. Arya,\\note{Corresponding author.}}$\n",
       "$\\author[b]{T. Roy Choudhury,}$\n",
       "$\\author[a]{A. Paranjape.}$\n",
       "$\\author[c]{and P. Gaikwad}$\n",
       "$\\affiliation[a]{Inter-University Centre for Astronomy \\& Astrophysics,\\Ganeshkhind, Post Bag 4, Pune 411007, India}$\n",
       "$\\affiliation[b]{National Centre for Radio Astrophysics, TIFR,\\\\Post Bag 3, Ganeshkhind, Pune 411007, India}$\n",
       "$\\affiliation[c]{Max-Planck-Institut für Astronomie,\\Königstuhl 17, D-69117 Heidelberg, Germany}$\n",
       "$\\emailAdd{bharya@iucaa.in}$\n",
       "$\\emailAdd{tirth@ncra.tifr.res.in}$\n",
       "$\\emailAdd{aseem@iucaa.in}$\n",
       "$\\emailAdd{gaikwad@mpia-hd.mpg.de}$\n",
       "$\\abstract{Observations of the Lyman-\\alpha forest in distant quasar spectra with upcoming surveys are expected to new significantly larger and higher-quality datasets. To interpret these datasets, it is imperative to develop efficient simulations. One such approach is based on the assumption that baryonic densities in the intergalactic medium (IGM) follow a lognormal distribution.$\n",
       "$We extend our earlier work to assess the robustness of the lognormal model of the Lyman-\\alpha forest in recovering the parameters characterizing IGM state, namely, the mean-density IGM temperature (T_0), the slope of the temperature-density relation (\\gamma), and the hydrogen photoionization rate (\\Gamma_{12}), by comparing with high-resolution Sherwood SPH simulations across the redshift range 2 \\leq z \\leq 2.7. These parameters are estimated through a Markov Chain Monte Carlo (MCMC) technique, using the mean and power spectrum of the transmitted flux.$\n",
       "$We find that the usual lognormal distribution of IGM densities cannot recover the parameters of the SPH simulations. This limitation arises from the fact that the SPH baryonic density distribution cannot be described by a simple lognormal form. To address this, we extend the model by scaling the linear density contrast by a parameter \\nu. While the resulting baryonic density is still lognormal, the additional parameter gives us extra freedom in setting the variance of density fluctuations. With this extension, values of T_0 and \\gamma implied in the SPH simulations are recovered at \\sim 1-\\sigma (\\lesssim 10\\%) of the median (best-fit) values for most redshifts bins. However, this extended lognormal model cannot recover \\Gamma_{12} reliably, with the best-fit value discrepant by \\gtrsim 3-\\sigma for z > 2.2. Despite this limitation in the recovery of \\Gamma_{12}, whose origins we explain, we argue that the model remains useful for constraining cosmological parameters.}$\n",
       "$\\keywords{intergalactic media, Lyman-\\alpha forest, power spectrum}$\n",
       "$\\begin{document}$\n",
       "$\\label{firstpage}$\n",
       "$\\maketitle$\n",
       "$\\flushbottom$\n",
       "$\\n\\end{document}\\end{equation}}}}}$\n",
       "$\\newcommand{\\e}[1]{\\ensuremath{{\\rm e}^{#1}}}$\n",
       "$\\newcommand{\\der}{\\ensuremath{{\\rm d}}}$\n",
       "$\\newcommand{\\Der}{\\ensuremath{{\\rm D}}}$\n",
       "$\\newcommand{\\dir}{\\ensuremath{\\delta_{\\rm D}}}$\n",
       "$\\newcommand{\\erfc}[1]{\\ensuremath{{\\rm erfc}\\left(#1\\right)}}$\n",
       "$\\newcommand{\\erf}[1]{\\ensuremath{{\\rm erf}\\left(#1\\right)}}$\n",
       "$\\newcommand{\\eqn}[1]{equation~\\eqref{#1}}$\n",
       "$\\newcommand{\\eqns}[1]{equations~\\eqref{#1}}$\n",
       "$\\newcommand{\\ph}[1]{\\phantom{#1}}$\n",
       "$\\newcommand{\\be}{\\begin{equation}}$\n",
       "$\\newcommand{\\ee}{\\end{equation}}$\n",
       "$\\newcommand{\\Cal}[1]{\\ensuremath{\\mathcal{#1}}}$\n",
       "$\\newcommand{\\AP}[1]{\\emph{\\color{blue}[AP: #1]}}$\n",
       "$\\newcommand{\\TRC}[1]{{\\color{Green}[{\\bf TRC:} #1]}}$\n",
       "$\\newcommand{\\BA}[1]{\\emph{\\color{red}[BA: #1]}}$\n",
       "$\\newcommand{\\red}[1]{\\textcolor{red}{#1}}$\n",
       "$\\newcommand{\\PG}[1]{{\\color{magenta}{\\bf #1}}}$\n",
       "$\\title{\\boldmath A modified lognormal approximation of the Lyman-\\alpha forest: comparison with full hydrodynamic simulations at 2\\leq z\\leq 2.7}$\n",
       "$\\author[a,1]{B. Arya,\\note{Corresponding author.}}$\n",
       "$\\author[b]{T. Roy Choudhury,}$\n",
       "$\\author[a]{A. Paranjape.}$\n",
       "$\\author[c]{and P. Gaikwad}$\n",
       "$\\affiliation[a]{Inter-University Centre for Astronomy \\& Astrophysics,\\Ganeshkhind, Post Bag 4, Pune 411007, India}$\n",
       "$\\affiliation[b]{National Centre for Radio Astrophysics, TIFR,\\\\Post Bag 3, Ganeshkhind, Pune 411007, India}$\n",
       "$\\affiliation[c]{Max-Planck-Institut für Astronomie,\\Königstuhl 17, D-69117 Heidelberg, Germany}$\n",
       "$\\emailAdd{bharya@iucaa.in}$\n",
       "$\\emailAdd{tirth@ncra.tifr.res.in}$\n",
       "$\\emailAdd{aseem@iucaa.in}$\n",
       "$\\emailAdd{gaikwad@mpia-hd.mpg.de}$\n",
       "$\\abstract{Observations of the Lyman-\\alpha forest in distant quasar spectra with upcoming surveys are expected to new significantly larger and higher-quality datasets. To interpret these datasets, it is imperative to develop efficient simulations. One such approach is based on the assumption that baryonic densities in the intergalactic medium (IGM) follow a lognormal distribution.$\n",
       "$We extend our earlier work to assess the robustness of the lognormal model of the Lyman-\\alpha forest in recovering the parameters characterizing IGM state, namely, the mean-density IGM temperature (T_0), the slope of the temperature-density relation (\\gamma), and the hydrogen photoionization rate (\\Gamma_{12}), by comparing with high-resolution Sherwood SPH simulations across the redshift range 2 \\leq z \\leq 2.7. These parameters are estimated through a Markov Chain Monte Carlo (MCMC) technique, using the mean and power spectrum of the transmitted flux.$\n",
       "$We find that the usual lognormal distribution of IGM densities cannot recover the parameters of the SPH simulations. This limitation arises from the fact that the SPH baryonic density distribution cannot be described by a simple lognormal form. To address this, we extend the model by scaling the linear density contrast by a parameter \\nu. While the resulting baryonic density is still lognormal, the additional parameter gives us extra freedom in setting the variance of density fluctuations. With this extension, values of T_0 and \\gamma implied in the SPH simulations are recovered at \\sim 1-\\sigma (\\lesssim 10\\%) of the median (best-fit) values for most redshifts bins. However, this extended lognormal model cannot recover \\Gamma_{12} reliably, with the best-fit value discrepant by \\gtrsim 3-\\sigma for z > 2.2. Despite this limitation in the recovery of \\Gamma_{12}, whose origins we explain, we argue that the model remains useful for constraining cosmological parameters.}$\n",
       "$\\keywords{intergalactic media, Lyman-\\alpha forest, power spectrum}$\n",
       "$\\begin{document}$\n",
       "$\\label{firstpage}$\n",
       "$\\maketitle$\n",
       "$\\flushbottom$\n",
       "$\\n\\end{document}\\end{equation}}}}$\n",
       "$\\newcommand{\\erf}[1]{\\ensuremath{{\\rm erf}\\left(#1\\right)}}$\n",
       "$\\newcommand{\\eqn}[1]{equation~\\eqref{#1}}$\n",
       "$\\newcommand{\\eqns}[1]{equations~\\eqref{#1}}$\n",
       "$\\newcommand{\\ph}[1]{\\phantom{#1}}$\n",
       "$\\newcommand{\\be}{\\begin{equation}}$\n",
       "$\\newcommand{\\ee}{\\end{equation}}$\n",
       "$\\newcommand{\\Cal}[1]{\\ensuremath{\\mathcal{#1}}}$\n",
       "$\\newcommand{\\AP}[1]{\\emph{\\color{blue}[AP: #1]}}$\n",
       "$\\newcommand{\\TRC}[1]{{\\color{Green}[{\\bf TRC:} #1]}}$\n",
       "$\\newcommand{\\BA}[1]{\\emph{\\color{red}[BA: #1]}}$\n",
       "$\\newcommand{\\red}[1]{\\textcolor{red}{#1}}$\n",
       "$\\newcommand{\\PG}[1]{{\\color{magenta}{\\bf #1}}}$\n",
       "$\\title{\\boldmath A modified lognormal approximation of the Lyman-\\alpha forest: comparison with full hydrodynamic simulations at 2\\leq z\\leq 2.7}$\n",
       "$\\author[a,1]{B. Arya,\\note{Corresponding author.}}$\n",
       "$\\author[b]{T. Roy Choudhury,}$\n",
       "$\\author[a]{A. Paranjape.}$\n",
       "$\\author[c]{and P. Gaikwad}$\n",
       "$\\affiliation[a]{Inter-University Centre for Astronomy \\& Astrophysics,\\Ganeshkhind, Post Bag 4, Pune 411007, India}$\n",
       "$\\affiliation[b]{National Centre for Radio Astrophysics, TIFR,\\\\Post Bag 3, Ganeshkhind, Pune 411007, India}$\n",
       "$\\affiliation[c]{Max-Planck-Institut für Astronomie,\\Königstuhl 17, D-69117 Heidelberg, Germany}$\n",
       "$\\emailAdd{bharya@iucaa.in}$\n",
       "$\\emailAdd{tirth@ncra.tifr.res.in}$\n",
       "$\\emailAdd{aseem@iucaa.in}$\n",
       "$\\emailAdd{gaikwad@mpia-hd.mpg.de}$\n",
       "$\\abstract{Observations of the Lyman-\\alpha forest in distant quasar spectra with upcoming surveys are expected to new significantly larger and higher-quality datasets. To interpret these datasets, it is imperative to develop efficient simulations. One such approach is based on the assumption that baryonic densities in the intergalactic medium (IGM) follow a lognormal distribution.$\n",
       "$We extend our earlier work to assess the robustness of the lognormal model of the Lyman-\\alpha forest in recovering the parameters characterizing IGM state, namely, the mean-density IGM temperature (T_0), the slope of the temperature-density relation (\\gamma), and the hydrogen photoionization rate (\\Gamma_{12}), by comparing with high-resolution Sherwood SPH simulations across the redshift range 2 \\leq z \\leq 2.7. These parameters are estimated through a Markov Chain Monte Carlo (MCMC) technique, using the mean and power spectrum of the transmitted flux.$\n",
       "$We find that the usual lognormal distribution of IGM densities cannot recover the parameters of the SPH simulations. This limitation arises from the fact that the SPH baryonic density distribution cannot be described by a simple lognormal form. To address this, we extend the model by scaling the linear density contrast by a parameter \\nu. While the resulting baryonic density is still lognormal, the additional parameter gives us extra freedom in setting the variance of density fluctuations. With this extension, values of T_0 and \\gamma implied in the SPH simulations are recovered at \\sim 1-\\sigma (\\lesssim 10\\%) of the median (best-fit) values for most redshifts bins. However, this extended lognormal model cannot recover \\Gamma_{12} reliably, with the best-fit value discrepant by \\gtrsim 3-\\sigma for z > 2.2. Despite this limitation in the recovery of \\Gamma_{12}, whose origins we explain, we argue that the model remains useful for constraining cosmological parameters.}$\n",
       "$\\keywords{intergalactic media, Lyman-\\alpha forest, power spectrum}$\n",
       "$\\begin{document}$\n",
       "$\\label{firstpage}$\n",
       "$\\maketitle$\n",
       "$\\flushbottom$\n",
       "$\\n\\end{document}\\end{equation}}}$\n",
       "$\\newcommand{\\eqn}[1]{equation~\\eqref{#1}}$\n",
       "$\\newcommand{\\eqns}[1]{equations~\\eqref{#1}}$\n",
       "$\\newcommand{\\ph}[1]{\\phantom{#1}}$\n",
       "$\\newcommand{\\be}{\\begin{equation}}$\n",
       "$\\newcommand{\\ee}{\\end{equation}}$\n",
       "$\\newcommand{\\Cal}[1]{\\ensuremath{\\mathcal{#1}}}$\n",
       "$\\newcommand{\\AP}[1]{\\emph{\\color{blue}[AP: #1]}}$\n",
       "$\\newcommand{\\TRC}[1]{{\\color{Green}[{\\bf TRC:} #1]}}$\n",
       "$\\newcommand{\\BA}[1]{\\emph{\\color{red}[BA: #1]}}$\n",
       "$\\newcommand{\\red}[1]{\\textcolor{red}{#1}}$\n",
       "$\\newcommand{\\PG}[1]{{\\color{magenta}{\\bf #1}}}$\n",
       "$\\title{\\boldmath A modified lognormal approximation of the Lyman-\\alpha forest: comparison with full hydrodynamic simulations at 2\\leq z\\leq 2.7}$\n",
       "$\\author[a,1]{B. Arya,\\note{Corresponding author.}}$\n",
       "$\\author[b]{T. Roy Choudhury,}$\n",
       "$\\author[a]{A. Paranjape.}$\n",
       "$\\author[c]{and P. Gaikwad}$\n",
       "$\\affiliation[a]{Inter-University Centre for Astronomy \\& Astrophysics,\\Ganeshkhind, Post Bag 4, Pune 411007, India}$\n",
       "$\\affiliation[b]{National Centre for Radio Astrophysics, TIFR,\\\\Post Bag 3, Ganeshkhind, Pune 411007, India}$\n",
       "$\\affiliation[c]{Max-Planck-Institut für Astronomie,\\Königstuhl 17, D-69117 Heidelberg, Germany}$\n",
       "$\\emailAdd{bharya@iucaa.in}$\n",
       "$\\emailAdd{tirth@ncra.tifr.res.in}$\n",
       "$\\emailAdd{aseem@iucaa.in}$\n",
       "$\\emailAdd{gaikwad@mpia-hd.mpg.de}$\n",
       "$\\abstract{Observations of the Lyman-\\alpha forest in distant quasar spectra with upcoming surveys are expected to new significantly larger and higher-quality datasets. To interpret these datasets, it is imperative to develop efficient simulations. One such approach is based on the assumption that baryonic densities in the intergalactic medium (IGM) follow a lognormal distribution.$\n",
       "$We extend our earlier work to assess the robustness of the lognormal model of the Lyman-\\alpha forest in recovering the parameters characterizing IGM state, namely, the mean-density IGM temperature (T_0), the slope of the temperature-density relation (\\gamma), and the hydrogen photoionization rate (\\Gamma_{12}), by comparing with high-resolution Sherwood SPH simulations across the redshift range 2 \\leq z \\leq 2.7. These parameters are estimated through a Markov Chain Monte Carlo (MCMC) technique, using the mean and power spectrum of the transmitted flux.$\n",
       "$We find that the usual lognormal distribution of IGM densities cannot recover the parameters of the SPH simulations. This limitation arises from the fact that the SPH baryonic density distribution cannot be described by a simple lognormal form. To address this, we extend the model by scaling the linear density contrast by a parameter \\nu. While the resulting baryonic density is still lognormal, the additional parameter gives us extra freedom in setting the variance of density fluctuations. With this extension, values of T_0 and \\gamma implied in the SPH simulations are recovered at \\sim 1-\\sigma (\\lesssim 10\\%) of the median (best-fit) values for most redshifts bins. However, this extended lognormal model cannot recover \\Gamma_{12} reliably, with the best-fit value discrepant by \\gtrsim 3-\\sigma for z > 2.2. Despite this limitation in the recovery of \\Gamma_{12}, whose origins we explain, we argue that the model remains useful for constraining cosmological parameters.}$\n",
       "$\\keywords{intergalactic media, Lyman-\\alpha forest, power spectrum}$\n",
       "$\\begin{document}$\n",
       "$\\label{firstpage}$\n",
       "$\\maketitle$\n",
       "$\\flushbottom$\n",
       "$\\n\\end{document}\\end{equation}}$\n",
       "$\\newcommand{\\ee}{\\end{equation}}$\n",
       "$\\newcommand{\\Cal}[1]{\\ensuremath{\\mathcal{#1}}}$\n",
       "$\\newcommand{\\AP}[1]{\\emph{\\color{blue}[AP: #1]}}$\n",
       "$\\newcommand{\\TRC}[1]{{\\color{Green}[{\\bf TRC:} #1]}}$\n",
       "$\\newcommand{\\BA}[1]{\\emph{\\color{red}[BA: #1]}}$\n",
       "$\\newcommand{\\red}[1]{\\textcolor{red}{#1}}$\n",
       "$\\newcommand{\\PG}[1]{{\\color{magenta}{\\bf #1}}}$</div>\n",
       "\n",
       "\n",
       "\n",
       "<div id=\"title\">\n",
       "\n",
       "# $\\boldmath$ A modified lognormal approximation of the Lyman-$\\alpha$ forest: comparison with full hydrodynamic simulations at $2\\leq z\\leq 2.7$\n",
       "\n",
       "</div>\n",
       "<div id=\"comments\">\n",
       "\n",
       "[![arXiv](https://img.shields.io/badge/arXiv-2310.12720-b31b1b.svg)](https://arxiv.org/abs/2310.12720)<mark>Appeared on: 2023-10-20</mark> -  _17 pages, 8 figures_\n",
       "\n",
       "</div>\n",
       "<div id=\"authors\">\n",
       "\n",
       "B. A. author.}, T. R. Choudhury,, A. Paranjape., a. P. Gaikwad\n",
       "\n",
       "</div>\n",
       "<div id=\"abstract\">\n",
       "\n",
       "**Abstract:** Observations of the Lyman- $\\alpha$ forest in distant quasar spectra with upcoming surveys are expected to provide significantly larger and higher-quality datasets. To interpret these datasets, it is imperative to develop efficient simulations. One such approach is based on the assumption that baryonic densities in the intergalactic medium (IGM) follow a lognormal distribution.We extend our earlier work to assess the robustness of the lognormal model of the Lyman- $\\alpha$ forest in recovering the parameters characterizing IGM state, namely, the mean-density IGM temperature ( $T_0$ ), the slope of the temperature-density relation ( $\\gamma$ ), and the hydrogen photoionization rate ( $\\Gamma_{12}$ ), by comparing with high-resolution Sherwood SPH simulations across the redshift range $2 \\leq z \\leq 2.7$ . These parameters are estimated through a Markov Chain Monte Carlo (MCMC) technique, using the mean and power spectrum of the transmitted flux.We find that the usual lognormal distribution of IGM densities cannot recover the parameters of the SPH simulations. This limitation arises from the fact that the SPH baryonic density distribution cannot be described by a simple lognormal form. To address this, we extend the model by scaling the linear density contrast by a parameter $\\nu$ . While the resulting baryonic density is still lognormal, the additional parameter gives us extra freedom in setting the variance of density fluctuations. With this extension, values of $T_0$ and $\\gamma$ implied in the SPH simulations are recovered at $\\sim 1-\\sigma$ ( $\\lesssim$ 10 \\% ) of the median (best-fit) values for most redshifts bins. However, this extended lognormal model cannot recover $\\Gamma_{12}$ reliably, with the best-fit value discrepant by $\\gtrsim 3-\\sigma$ for $z > 2.2$ . Despite this limitation in the recovery of $\\Gamma_{12}$ , whose origins we explain, we argue that the model remains useful for constraining cosmological parameters.\n",
       "\n",
       "</div>\n",
       "\n",
       "<div id=\"div_fig1\">\n",
       "\n",
       "<img src=\"tmp_2310.12720/./figures_jcap/param_redshift_evol_mcmc.png\" alt=\"Fig7\" width=\"100%\"/>\n",
       "\n",
       "**Figure 7. -** Redshift evolution of parameters and reduced $\\chi^2$ shown with black circles. Gray shaded regions 16 and 84 percentiles from MCMC chains. Red triangles are true values of parameters in SPH. (*fig:param_evol*)\n",
       "\n",
       "</div>\n",
       "<div id=\"div_fig2\">\n",
       "\n",
       "<img src=\"tmp_2310.12720/./figures_jcap/xJ_nu_chi2_stat_redshift_KS15_fbar_gaikwad.png\" alt=\"Fig2\" width=\"100%\"/>\n",
       "\n",
       "**Figure 2. -** Flux statistics for SPH data and best-fit parameters obtained from 2D $\\chi^2$ analysis. Solid curves are best-fit lognormal and dashed curves are SPH. (*fig:2d_chi2_stat*)\n",
       "\n",
       "</div>\n",
       "<div id=\"div_fig3\">\n",
       "\n",
       "<img src=\"tmp_2310.12720/./figures_jcap/xJ_nu_chi2_redshift_KS15_pk_fbar_gaikwad.png\" alt=\"Fig1\" width=\"100%\"/>\n",
       "\n",
       "**Figure 1. -** $\\chi^2$ colormap on log $x_{\\textrm{J}}$ - $\\nu$ grid with \\{$T_0, \\gamma, \\Gamma_{12}$\\} fixed to their true values for all 8 redshift bins. We get acceptable fits for $z \\leq 2.5$. Black contours show 1 and 2-$\\sigma$ confidence levels and gold stars show position of best-fit \\{$x_{\\mathrm{J}}$, $\\nu$\\}. (*fig:2d_chi2*)\n",
       "\n",
       "</div><div id=\"qrcode\"><img src=https://api.qrserver.com/v1/create-qr-code/?size=100x100&data=\"https://arxiv.org/abs/2310.12720\"></div>"
      ],
      "text/plain": [
       "<IPython.core.display.Markdown object>"
      ]
     },
     "metadata": {},
     "output_type": "display_data"
    }
   ],
   "source": [
    "[display(Markdown(k[1])) for k in documents];"
   ]
  },
  {
   "cell_type": "markdown",
   "id": "873873a4",
   "metadata": {
    "papermill": {
     "duration": 0.009503,
     "end_time": "2023-10-20T04:10:00.000273",
     "exception": false,
     "start_time": "2023-10-20T04:09:59.990770",
     "status": "completed"
    },
    "tags": []
   },
   "source": [
    "# Create HTML index"
   ]
  },
  {
   "cell_type": "code",
   "execution_count": 9,
   "id": "cf665672",
   "metadata": {
    "execution": {
     "iopub.execute_input": "2023-10-20T04:10:00.022119Z",
     "iopub.status.busy": "2023-10-20T04:10:00.021276Z",
     "iopub.status.idle": "2023-10-20T04:10:00.035448Z",
     "shell.execute_reply": "2023-10-20T04:10:00.034491Z"
    },
    "papermill": {
     "duration": 0.027318,
     "end_time": "2023-10-20T04:10:00.037470",
     "exception": false,
     "start_time": "2023-10-20T04:10:00.010152",
     "status": "completed"
    },
    "tags": []
   },
   "outputs": [
    {
     "name": "stdout",
     "output_type": "stream",
     "text": [
      "304  publications files modified in the last 7 days.\n"
     ]
    }
   ],
   "source": [
    "from datetime import datetime, timedelta, timezone\n",
    "from glob import glob\n",
    "import os\n",
    "\n",
    "files = glob('_build/html/*.md')\n",
    "days = 7\n",
    "now = datetime.today()\n",
    "res = []\n",
    "for fk in files:\n",
    "    stat_result = os.stat(fk).st_ctime\n",
    "    modified = datetime.fromtimestamp(stat_result, tz=timezone.utc).replace(tzinfo=None)\n",
    "    delta = now.today() - modified\n",
    "    if delta <= timedelta(days=days):\n",
    "        res.append((delta.seconds, fk))\n",
    "res = [k[1] for k in reversed(sorted(res, key=lambda x:x[1]))]\n",
    "npub = len(res)\n",
    "print(len(res), f\" publications files modified in the last {days:d} days.\")\n",
    "# [ print('\\t', k) for k in res ];"
   ]
  },
  {
   "cell_type": "code",
   "execution_count": 10,
   "id": "015de740",
   "metadata": {
    "execution": {
     "iopub.execute_input": "2023-10-20T04:10:00.059101Z",
     "iopub.status.busy": "2023-10-20T04:10:00.058243Z",
     "iopub.status.idle": "2023-10-20T04:10:00.090783Z",
     "shell.execute_reply": "2023-10-20T04:10:00.089302Z"
    },
    "papermill": {
     "duration": 0.045831,
     "end_time": "2023-10-20T04:10:00.093374",
     "exception": false,
     "start_time": "2023-10-20T04:10:00.047543",
     "status": "completed"
    },
    "tags": []
   },
   "outputs": [
    {
     "name": "stdout",
     "output_type": "stream",
     "text": [
      "6  publications in the last 7 days.\n"
     ]
    }
   ],
   "source": [
    "import datetime\n",
    "from glob import glob\n",
    "\n",
    "def get_last_n_days(lst, days=1):\n",
    "    \"\"\" Get the documents from the last n days \"\"\"\n",
    "    sorted_lst = sorted(lst, key=lambda x: x[1], reverse=True)\n",
    "    for fname, date in sorted_lst:\n",
    "        if date >= str(datetime.date.today() - datetime.timedelta(days=days)):\n",
    "            yield fname\n",
    "\n",
    "def extract_appearance_dates(lst_file):\n",
    "    dates = []\n",
    "\n",
    "    def get_date(line):\n",
    "        return line\\\n",
    "            .split('Appeared on:')[-1]\\\n",
    "            .split('</mark>')[0].strip()\n",
    "\n",
    "    for fname in lst:\n",
    "        with open(fname, 'r') as f:\n",
    "            found_date = False\n",
    "            for line in f:\n",
    "                if not found_date:\n",
    "                    if \"Appeared on\" in line:\n",
    "                        found_date = True\n",
    "                        dates.append((fname, get_date(line)))\n",
    "                else:\n",
    "                    break\n",
    "    return dates\n",
    "\n",
    "from glob import glob\n",
    "lst = glob('_build/html/*md')\n",
    "days = 7\n",
    "dates = extract_appearance_dates(lst)\n",
    "res = list(get_last_n_days(dates, days))\n",
    "npub = len(res)\n",
    "print(len(res), f\" publications in the last {days:d} days.\")"
   ]
  },
  {
   "cell_type": "code",
   "execution_count": 11,
   "id": "52ca0208",
   "metadata": {
    "execution": {
     "iopub.execute_input": "2023-10-20T04:10:00.116247Z",
     "iopub.status.busy": "2023-10-20T04:10:00.115909Z",
     "iopub.status.idle": "2023-10-20T04:10:00.125428Z",
     "shell.execute_reply": "2023-10-20T04:10:00.124206Z"
    },
    "papermill": {
     "duration": 0.023436,
     "end_time": "2023-10-20T04:10:00.127463",
     "exception": false,
     "start_time": "2023-10-20T04:10:00.104027",
     "status": "completed"
    },
    "scrolled": false,
    "tags": []
   },
   "outputs": [],
   "source": [
    "def create_carousel(npub=4):\n",
    "    \"\"\" Generate the HTML code for a carousel with `npub` slides \"\"\"\n",
    "    carousel = [\"\"\"  <div class=\"carousel\" \"\"\",\n",
    "                \"\"\"       data-flickity='{ \"autoPlay\": 10000, \"adaptiveHeight\": true, \"resize\": true, \"wrapAround\": true, \"pauseAutoPlayOnHover\": true, \"groupCells\": 1 }' id=\"asyncTypeset\">\"\"\"\n",
    "                ]\n",
    "    \n",
    "    item_str = \"\"\"    <div class=\"carousel-cell\"> <div id=\"slide{k}\" class=\"md_view\">Content {k}</div> </div>\"\"\"\n",
    "    for k in range(1, npub + 1):\n",
    "        carousel.append(item_str.format(k=k))\n",
    "    carousel.append(\"  </div>\")\n",
    "    return '\\n'.join(carousel)\n",
    "\n",
    "def create_grid(npub=4):\n",
    "    \"\"\" Generate the HTML code for a flat grid with `npub` slides \"\"\"\n",
    "    grid = [\"\"\"  <div class=\"grid\"> \"\"\",\n",
    "                ]\n",
    "    \n",
    "    item_str = \"\"\"    <div class=\"grid-item\"> <div id=\"slide{k}\" class=\"md_view\">Content {k}</div> </div>\"\"\"\n",
    "    for k in range(1, npub + 1):\n",
    "        grid.append(item_str.format(k=k))\n",
    "    grid.append(\"  </div>\")\n",
    "    return '\\n'.join(grid)"
   ]
  },
  {
   "cell_type": "code",
   "execution_count": 12,
   "id": "a6eac5b6",
   "metadata": {
    "execution": {
     "iopub.execute_input": "2023-10-20T04:10:00.149825Z",
     "iopub.status.busy": "2023-10-20T04:10:00.148819Z",
     "iopub.status.idle": "2023-10-20T04:10:00.156657Z",
     "shell.execute_reply": "2023-10-20T04:10:00.155684Z"
    },
    "papermill": {
     "duration": 0.021933,
     "end_time": "2023-10-20T04:10:00.159261",
     "exception": false,
     "start_time": "2023-10-20T04:10:00.137328",
     "status": "completed"
    },
    "scrolled": false,
    "tags": []
   },
   "outputs": [],
   "source": [
    "carousel = create_carousel(npub)\n",
    "docs = ', '.join(['\"{0:s}\"'.format(k.split('/')[-1]) for k in res])\n",
    "slides = ', '.join([f'\"slide{k}\"' for k in range(1, npub + 1)])\n",
    "\n",
    "with open(\"daily_template.html\", \"r\") as tpl:\n",
    "    page = tpl.read()\n",
    "    page = page.replace(\"{%-- carousel:s --%}\", carousel)\\\n",
    "               .replace(\"{%-- suptitle:s --%}\",  \"7-day archives\" )\\\n",
    "               .replace(\"{%-- docs:s --%}\", docs)\\\n",
    "               .replace(\"{%-- slides:s --%}\", slides)\n",
    "    \n",
    "with open(\"_build/html/index_7days.html\", 'w') as fout:\n",
    "    fout.write(page)"
   ]
  },
  {
   "cell_type": "code",
   "execution_count": 13,
   "id": "adc1a1ec",
   "metadata": {
    "execution": {
     "iopub.execute_input": "2023-10-20T04:10:00.181613Z",
     "iopub.status.busy": "2023-10-20T04:10:00.180823Z",
     "iopub.status.idle": "2023-10-20T04:10:00.191914Z",
     "shell.execute_reply": "2023-10-20T04:10:00.190084Z"
    },
    "papermill": {
     "duration": 0.024503,
     "end_time": "2023-10-20T04:10:00.193976",
     "exception": false,
     "start_time": "2023-10-20T04:10:00.169473",
     "status": "completed"
    },
    "tags": []
   },
   "outputs": [
    {
     "name": "stdout",
     "output_type": "stream",
     "text": [
      "2  publications in the last day.\n"
     ]
    }
   ],
   "source": [
    "# redo for today\n",
    "days = 1\n",
    "res = list(get_last_n_days(dates, days))\n",
    "npub = len(res)\n",
    "print(len(res), f\" publications in the last day.\")\n",
    "\n",
    "carousel = create_carousel(npub)\n",
    "docs = ', '.join(['\"{0:s}\"'.format(k.split('/')[-1]) for k in res])\n",
    "slides = ', '.join([f'\"slide{k}\"' for k in range(1, npub + 1)])\n",
    "\n",
    "with open(\"daily_template.html\", \"r\") as tpl:\n",
    "    page = tpl.read()\n",
    "    page = page.replace(\"{%-- carousel:s --%}\", carousel)\\\n",
    "               .replace(\"{%-- suptitle:s --%}\",  \"Daily\" )\\\n",
    "               .replace(\"{%-- docs:s --%}\", docs)\\\n",
    "               .replace(\"{%-- slides:s --%}\", slides)\n",
    "    \n",
    "# print(carousel, docs, slides)\n",
    "# print(page)\n",
    "with open(\"_build/html/index_daily.html\", 'w') as fout:\n",
    "    fout.write(page)"
   ]
  },
  {
   "cell_type": "code",
   "execution_count": 14,
   "id": "00eece82",
   "metadata": {
    "execution": {
     "iopub.execute_input": "2023-10-20T04:10:00.216090Z",
     "iopub.status.busy": "2023-10-20T04:10:00.215288Z",
     "iopub.status.idle": "2023-10-20T04:10:00.224801Z",
     "shell.execute_reply": "2023-10-20T04:10:00.223919Z"
    },
    "papermill": {
     "duration": 0.023317,
     "end_time": "2023-10-20T04:10:00.226637",
     "exception": false,
     "start_time": "2023-10-20T04:10:00.203320",
     "status": "completed"
    },
    "scrolled": false,
    "tags": []
   },
   "outputs": [
    {
     "name": "stdout",
     "output_type": "stream",
     "text": [
      "6  6 publications selected.\n"
     ]
    }
   ],
   "source": [
    "# Create the flat grid of the last N papers (fixed number regardless of dates)\n",
    "from itertools import islice \n",
    "\n",
    "npub = 6\n",
    "res = [k[0] for k in (islice(reversed(sorted(dates, key=lambda x: x[1])), 6))]\n",
    "print(len(res), f\" {npub} publications selected.\")\n",
    "\n",
    "grid = create_grid(npub)\n",
    "docs = ', '.join(['\"{0:s}\"'.format(k.split('/')[-1]) for k in res])\n",
    "slides = ', '.join([f'\"slide{k}\"' for k in range(1, npub + 1)])\n",
    "\n",
    "with open(\"grid_template.html\", \"r\") as tpl:\n",
    "    page = tpl.read()\n",
    "    page = page.replace(\"{%-- grid-content:s --%}\", grid)\\\n",
    "               .replace(\"{%-- suptitle:s --%}\",  f\"Last {npub:,d} papers\" )\\\n",
    "               .replace(\"{%-- docs:s --%}\", docs)\\\n",
    "               .replace(\"{%-- slides:s --%}\", slides)\n",
    "    \n",
    "# print(grid, docs, slides)\n",
    "# print(page)\n",
    "with open(\"_build/html/index_npub_grid.html\", 'w') as fout:\n",
    "    fout.write(page)"
   ]
  }
 ],
 "metadata": {
  "kernelspec": {
   "display_name": "Python 3 (ipykernel)",
   "language": "python",
   "name": "python3"
  },
  "language_info": {
   "codemirror_mode": {
    "name": "ipython",
    "version": 3
   },
   "file_extension": ".py",
   "mimetype": "text/x-python",
   "name": "python",
   "nbconvert_exporter": "python",
   "pygments_lexer": "ipython3",
   "version": "3.9.18"
  },
  "papermill": {
   "default_parameters": {},
   "duration": 94.057338,
   "end_time": "2023-10-20T04:10:00.458641",
   "environment_variables": {},
   "exception": null,
   "input_path": "MPIA daily digest.ipynb",
   "output_path": "log.ipynb",
   "parameters": {},
   "start_time": "2023-10-20T04:08:26.401303",
   "version": "2.4.0"
  },
  "vscode": {
   "interpreter": {
    "hash": "aee8b7b246df8f9039afb4144a1f6fd8d2ca17a180786b69acc140d282b71a49"
   }
  },
  "widgets": {
   "application/vnd.jupyter.widget-state+json": {
    "state": {
     "25375087f5da4cf0b67492cf1a6a2527": {
      "model_module": "@jupyter-widgets/controls",
      "model_module_version": "2.0.0",
      "model_name": "HTMLModel",
      "state": {
       "_dom_classes": [],
       "_model_module": "@jupyter-widgets/controls",
       "_model_module_version": "2.0.0",
       "_model_name": "HTMLModel",
       "_view_count": null,
       "_view_module": "@jupyter-widgets/controls",
       "_view_module_version": "2.0.0",
       "_view_name": "HTMLView",
       "description": "",
       "description_allow_html": false,
       "layout": "IPY_MODEL_6d7e199b0ed74f68b6ebba3f48e10f03",
       "placeholder": "​",
       "style": "IPY_MODEL_c334648251e74751a8460f9583afacc5",
       "tabbable": null,
       "tooltip": null,
       "value": "100%"
      }
     },
     "352ef7b53f8b4d8ebdb431b34d2ddd17": {
      "model_module": "@jupyter-widgets/base",
      "model_module_version": "2.0.0",
      "model_name": "LayoutModel",
      "state": {
       "_model_module": "@jupyter-widgets/base",
       "_model_module_version": "2.0.0",
       "_model_name": "LayoutModel",
       "_view_count": null,
       "_view_module": "@jupyter-widgets/base",
       "_view_module_version": "2.0.0",
       "_view_name": "LayoutView",
       "align_content": null,
       "align_items": null,
       "align_self": null,
       "border_bottom": null,
       "border_left": null,
       "border_right": null,
       "border_top": null,
       "bottom": null,
       "display": null,
       "flex": null,
       "flex_flow": null,
       "grid_area": null,
       "grid_auto_columns": null,
       "grid_auto_flow": null,
       "grid_auto_rows": null,
       "grid_column": null,
       "grid_gap": null,
       "grid_row": null,
       "grid_template_areas": null,
       "grid_template_columns": null,
       "grid_template_rows": null,
       "height": null,
       "justify_content": null,
       "justify_items": null,
       "left": null,
       "margin": null,
       "max_height": null,
       "max_width": null,
       "min_height": null,
       "min_width": null,
       "object_fit": null,
       "object_position": null,
       "order": null,
       "overflow": null,
       "padding": null,
       "right": null,
       "top": null,
       "visibility": null,
       "width": null
      }
     },
     "432a5500f04c41ca8f90cb9308e0cde1": {
      "model_module": "@jupyter-widgets/controls",
      "model_module_version": "2.0.0",
      "model_name": "HBoxModel",
      "state": {
       "_dom_classes": [],
       "_model_module": "@jupyter-widgets/controls",
       "_model_module_version": "2.0.0",
       "_model_name": "HBoxModel",
       "_view_count": null,
       "_view_module": "@jupyter-widgets/controls",
       "_view_module_version": "2.0.0",
       "_view_name": "HBoxView",
       "box_style": "",
       "children": [
        "IPY_MODEL_25375087f5da4cf0b67492cf1a6a2527",
        "IPY_MODEL_e0317a3837034198a77b8f28263d381d",
        "IPY_MODEL_bc70d5efacc34753b9ba46ac2900dd40"
       ],
       "layout": "IPY_MODEL_7811bde2b00a4542a4344c70fb54aa8c",
       "tabbable": null,
       "tooltip": null
      }
     },
     "5c3b27e93cc643278e6f1d82e12e44ce": {
      "model_module": "@jupyter-widgets/controls",
      "model_module_version": "2.0.0",
      "model_name": "HTMLStyleModel",
      "state": {
       "_model_module": "@jupyter-widgets/controls",
       "_model_module_version": "2.0.0",
       "_model_name": "HTMLStyleModel",
       "_view_count": null,
       "_view_module": "@jupyter-widgets/base",
       "_view_module_version": "2.0.0",
       "_view_name": "StyleView",
       "background": null,
       "description_width": "",
       "font_size": null,
       "text_color": null
      }
     },
     "6d7e199b0ed74f68b6ebba3f48e10f03": {
      "model_module": "@jupyter-widgets/base",
      "model_module_version": "2.0.0",
      "model_name": "LayoutModel",
      "state": {
       "_model_module": "@jupyter-widgets/base",
       "_model_module_version": "2.0.0",
       "_model_name": "LayoutModel",
       "_view_count": null,
       "_view_module": "@jupyter-widgets/base",
       "_view_module_version": "2.0.0",
       "_view_name": "LayoutView",
       "align_content": null,
       "align_items": null,
       "align_self": null,
       "border_bottom": null,
       "border_left": null,
       "border_right": null,
       "border_top": null,
       "bottom": null,
       "display": null,
       "flex": null,
       "flex_flow": null,
       "grid_area": null,
       "grid_auto_columns": null,
       "grid_auto_flow": null,
       "grid_auto_rows": null,
       "grid_column": null,
       "grid_gap": null,
       "grid_row": null,
       "grid_template_areas": null,
       "grid_template_columns": null,
       "grid_template_rows": null,
       "height": null,
       "justify_content": null,
       "justify_items": null,
       "left": null,
       "margin": null,
       "max_height": null,
       "max_width": null,
       "min_height": null,
       "min_width": null,
       "object_fit": null,
       "object_position": null,
       "order": null,
       "overflow": null,
       "padding": null,
       "right": null,
       "top": null,
       "visibility": null,
       "width": null
      }
     },
     "7811bde2b00a4542a4344c70fb54aa8c": {
      "model_module": "@jupyter-widgets/base",
      "model_module_version": "2.0.0",
      "model_name": "LayoutModel",
      "state": {
       "_model_module": "@jupyter-widgets/base",
       "_model_module_version": "2.0.0",
       "_model_name": "LayoutModel",
       "_view_count": null,
       "_view_module": "@jupyter-widgets/base",
       "_view_module_version": "2.0.0",
       "_view_name": "LayoutView",
       "align_content": null,
       "align_items": null,
       "align_self": null,
       "border_bottom": null,
       "border_left": null,
       "border_right": null,
       "border_top": null,
       "bottom": null,
       "display": null,
       "flex": null,
       "flex_flow": null,
       "grid_area": null,
       "grid_auto_columns": null,
       "grid_auto_flow": null,
       "grid_auto_rows": null,
       "grid_column": null,
       "grid_gap": null,
       "grid_row": null,
       "grid_template_areas": null,
       "grid_template_columns": null,
       "grid_template_rows": null,
       "height": null,
       "justify_content": null,
       "justify_items": null,
       "left": null,
       "margin": null,
       "max_height": null,
       "max_width": null,
       "min_height": null,
       "min_width": null,
       "object_fit": null,
       "object_position": null,
       "order": null,
       "overflow": null,
       "padding": null,
       "right": null,
       "top": null,
       "visibility": null,
       "width": null
      }
     },
     "7a9feee4c1eb473196098670b164f439": {
      "model_module": "@jupyter-widgets/base",
      "model_module_version": "2.0.0",
      "model_name": "LayoutModel",
      "state": {
       "_model_module": "@jupyter-widgets/base",
       "_model_module_version": "2.0.0",
       "_model_name": "LayoutModel",
       "_view_count": null,
       "_view_module": "@jupyter-widgets/base",
       "_view_module_version": "2.0.0",
       "_view_name": "LayoutView",
       "align_content": null,
       "align_items": null,
       "align_self": null,
       "border_bottom": null,
       "border_left": null,
       "border_right": null,
       "border_top": null,
       "bottom": null,
       "display": null,
       "flex": null,
       "flex_flow": null,
       "grid_area": null,
       "grid_auto_columns": null,
       "grid_auto_flow": null,
       "grid_auto_rows": null,
       "grid_column": null,
       "grid_gap": null,
       "grid_row": null,
       "grid_template_areas": null,
       "grid_template_columns": null,
       "grid_template_rows": null,
       "height": null,
       "justify_content": null,
       "justify_items": null,
       "left": null,
       "margin": null,
       "max_height": null,
       "max_width": null,
       "min_height": null,
       "min_width": null,
       "object_fit": null,
       "object_position": null,
       "order": null,
       "overflow": null,
       "padding": null,
       "right": null,
       "top": null,
       "visibility": null,
       "width": null
      }
     },
     "bc70d5efacc34753b9ba46ac2900dd40": {
      "model_module": "@jupyter-widgets/controls",
      "model_module_version": "2.0.0",
      "model_name": "HTMLModel",
      "state": {
       "_dom_classes": [],
       "_model_module": "@jupyter-widgets/controls",
       "_model_module_version": "2.0.0",
       "_model_name": "HTMLModel",
       "_view_count": null,
       "_view_module": "@jupyter-widgets/controls",
       "_view_module_version": "2.0.0",
       "_view_name": "HTMLView",
       "description": "",
       "description_allow_html": false,
       "layout": "IPY_MODEL_352ef7b53f8b4d8ebdb431b34d2ddd17",
       "placeholder": "​",
       "style": "IPY_MODEL_5c3b27e93cc643278e6f1d82e12e44ce",
       "tabbable": null,
       "tooltip": null,
       "value": " 5/5 [00:58&lt;00:00, 10.89s/it]"
      }
     },
     "c334648251e74751a8460f9583afacc5": {
      "model_module": "@jupyter-widgets/controls",
      "model_module_version": "2.0.0",
      "model_name": "HTMLStyleModel",
      "state": {
       "_model_module": "@jupyter-widgets/controls",
       "_model_module_version": "2.0.0",
       "_model_name": "HTMLStyleModel",
       "_view_count": null,
       "_view_module": "@jupyter-widgets/base",
       "_view_module_version": "2.0.0",
       "_view_name": "StyleView",
       "background": null,
       "description_width": "",
       "font_size": null,
       "text_color": null
      }
     },
     "e0317a3837034198a77b8f28263d381d": {
      "model_module": "@jupyter-widgets/controls",
      "model_module_version": "2.0.0",
      "model_name": "FloatProgressModel",
      "state": {
       "_dom_classes": [],
       "_model_module": "@jupyter-widgets/controls",
       "_model_module_version": "2.0.0",
       "_model_name": "FloatProgressModel",
       "_view_count": null,
       "_view_module": "@jupyter-widgets/controls",
       "_view_module_version": "2.0.0",
       "_view_name": "ProgressView",
       "bar_style": "success",
       "description": "",
       "description_allow_html": false,
       "layout": "IPY_MODEL_7a9feee4c1eb473196098670b164f439",
       "max": 5.0,
       "min": 0.0,
       "orientation": "horizontal",
       "style": "IPY_MODEL_f2f8585b8bac4c718d1ef68e22eeed62",
       "tabbable": null,
       "tooltip": null,
       "value": 5.0
      }
     },
     "f2f8585b8bac4c718d1ef68e22eeed62": {
      "model_module": "@jupyter-widgets/controls",
      "model_module_version": "2.0.0",
      "model_name": "ProgressStyleModel",
      "state": {
       "_model_module": "@jupyter-widgets/controls",
       "_model_module_version": "2.0.0",
       "_model_name": "ProgressStyleModel",
       "_view_count": null,
       "_view_module": "@jupyter-widgets/base",
       "_view_module_version": "2.0.0",
       "_view_name": "StyleView",
       "bar_color": null,
       "description_width": ""
      }
     }
    },
    "version_major": 2,
    "version_minor": 0
   }
  }
 },
 "nbformat": 4,
 "nbformat_minor": 5
}