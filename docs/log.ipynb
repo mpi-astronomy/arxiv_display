{
 "cells": [
  {
   "cell_type": "markdown",
   "id": "92bcb855",
   "metadata": {
    "papermill": {
     "duration": 0.003811,
     "end_time": "2024-11-04T04:11:13.961697",
     "exception": false,
     "start_time": "2024-11-04T04:11:13.957886",
     "status": "completed"
    },
    "tags": []
   },
   "source": [
    "# MPIA Arxiv on Deck 2\n",
    "\n",
    "Contains the steps to produce the paper extractions."
   ]
  },
  {
   "cell_type": "code",
   "execution_count": 1,
   "id": "3a0d6e11",
   "metadata": {
    "execution": {
     "iopub.execute_input": "2024-11-04T04:11:13.969867Z",
     "iopub.status.busy": "2024-11-04T04:11:13.969208Z",
     "iopub.status.idle": "2024-11-04T04:11:14.382749Z",
     "shell.execute_reply": "2024-11-04T04:11:14.382009Z"
    },
    "papermill": {
     "duration": 0.418924,
     "end_time": "2024-11-04T04:11:14.384086",
     "exception": false,
     "start_time": "2024-11-04T04:11:13.965162",
     "status": "completed"
    },
    "tags": []
   },
   "outputs": [],
   "source": [
    "# Imports\n",
    "import os\n",
    "from IPython.display import Markdown, display\n",
    "from tqdm.notebook import tqdm\n",
    "import warnings\n",
    "from PIL import Image \n",
    "import re\n",
    "\n",
    "# requires arxiv_on_deck_2\n",
    "\n",
    "from arxiv_on_deck_2.arxiv2 import (get_new_papers, \n",
    "                                    get_paper_from_identifier,\n",
    "                                    retrieve_document_source, \n",
    "                                    get_markdown_badge)\n",
    "from arxiv_on_deck_2 import (latex,\n",
    "                             latex_bib,\n",
    "                             mpia,\n",
    "                             highlight_authors_in_list)\n",
    "\n",
    "# Sometimes images are really big\n",
    "Image.MAX_IMAGE_PIXELS = 1000000000 "
   ]
  },
  {
   "cell_type": "code",
   "execution_count": 2,
   "id": "22aa9d44",
   "metadata": {
    "execution": {
     "iopub.execute_input": "2024-11-04T04:11:14.391566Z",
     "iopub.status.busy": "2024-11-04T04:11:14.391123Z",
     "iopub.status.idle": "2024-11-04T04:11:14.398972Z",
     "shell.execute_reply": "2024-11-04T04:11:14.398341Z"
    },
    "papermill": {
     "duration": 0.012601,
     "end_time": "2024-11-04T04:11:14.399986",
     "exception": false,
     "start_time": "2024-11-04T04:11:14.387385",
     "status": "completed"
    },
    "tags": []
   },
   "outputs": [],
   "source": [
    "# Some useful definitions.\n",
    "\n",
    "class AffiliationWarning(UserWarning):\n",
    "    pass\n",
    "\n",
    "class AffiliationError(RuntimeError):\n",
    "    pass\n",
    "\n",
    "def validation(source: str):\n",
    "    \"\"\"Raises error paper during parsing of source file\n",
    "    \n",
    "    Allows checks before parsing TeX code.\n",
    "    \n",
    "    Raises AffiliationWarning\n",
    "    \"\"\"\n",
    "    check = mpia.affiliation_verifications(source, verbose=True)\n",
    "    if check is not True:\n",
    "        raise AffiliationError(\"mpia.affiliation_verifications: \" + check)\n",
    "\n",
    "        \n",
    "warnings.simplefilter('always', AffiliationWarning)\n",
    "\n",
    "\n",
    "def get_markdown_qrcode(paper_id: str):\n",
    "    \"\"\" Generate a qrcode to the arxiv page using qrserver.com\n",
    "    \n",
    "    :param paper: Arxiv paper\n",
    "    :returns: markdown text\n",
    "    \"\"\"\n",
    "    url = r\"https://api.qrserver.com/v1/create-qr-code/?size=100x100&data=\"\n",
    "    txt = f\"\"\"<img src={url}\"https://arxiv.org/abs/{paper_id}\">\"\"\"\n",
    "    txt = '<div id=\"qrcode\">' + txt + '</div>'\n",
    "    return txt\n",
    "\n",
    "\n",
    "def clean_non_western_encoded_characters_commands(text: str) -> str:\n",
    "    \"\"\" Remove non-western encoded characters from a string\n",
    "    List may need to grow.\n",
    "    \n",
    "    :param text: the text to clean\n",
    "    :return: the cleaned text\n",
    "    \"\"\"\n",
    "    text = re.sub(r\"(\\\\begin{CJK}{UTF8}{gbsn})(.*?)(\\\\end{CJK})\", r\"\\2\", text)\n",
    "    return text\n",
    "\n",
    "\n",
    "def get_initials(name: str) -> str:\n",
    "    \"\"\" Get the short name, e.g., A.-B. FamName\n",
    "    :param name: full name\n",
    "    :returns: initials\n",
    "    \"\"\"\n",
    "    initials = []\n",
    "    # account for non western names often in ()\n",
    "    if '(' in name:\n",
    "        name = clean_non_western_encoded_characters_commands(name)\n",
    "        suffix = re.findall(r\"\\((.*?)\\)\", name)[0]\n",
    "        name = name.replace(f\"({suffix})\", '')\n",
    "    else:\n",
    "        suffix = ''\n",
    "    split = name.split()\n",
    "    for token in split[:-1]:\n",
    "        if '-' in token:\n",
    "            current = '-'.join([k[0] + '.' for k in token.split('-')])\n",
    "        else:\n",
    "            current = token[0] + '.'\n",
    "        initials.append(current)\n",
    "    initials.append(split[-1].strip())\n",
    "    if suffix:\n",
    "        initials.append(f\"({suffix})\")\n",
    "    return ' '.join(initials)"
   ]
  },
  {
   "cell_type": "markdown",
   "id": "14bd6310",
   "metadata": {
    "papermill": {
     "duration": 0.00292,
     "end_time": "2024-11-04T04:11:14.405946",
     "exception": false,
     "start_time": "2024-11-04T04:11:14.403026",
     "status": "completed"
    },
    "tags": []
   },
   "source": [
    "## get list of arxiv paper candidates\n",
    "\n",
    "We use the MPIA mitarbeiter list webpage from mpia.de to get author names\n",
    "We then get all new papers from Arxiv and match authors"
   ]
  },
  {
   "cell_type": "code",
   "execution_count": 3,
   "id": "7ea813a8",
   "metadata": {
    "execution": {
     "iopub.execute_input": "2024-11-04T04:11:14.412854Z",
     "iopub.status.busy": "2024-11-04T04:11:14.412346Z",
     "iopub.status.idle": "2024-11-04T04:11:33.404652Z",
     "shell.execute_reply": "2024-11-04T04:11:33.404013Z"
    },
    "papermill": {
     "duration": 18.997032,
     "end_time": "2024-11-04T04:11:33.405911",
     "exception": false,
     "start_time": "2024-11-04T04:11:14.408879",
     "status": "completed"
    },
    "tags": []
   },
   "outputs": [],
   "source": [
    "# deal with the author list and edge cases of people that cannot be consistent on their name  \n",
    "\n",
    "def filter_non_scientists(name: str) -> bool:\n",
    "    \"\"\" Loose filter on expected authorships\n",
    "\n",
    "    removing IT, administration, technical staff\n",
    "    :param name: name\n",
    "    :returns: False if name is not a scientist\n",
    "    \"\"\"\n",
    "    remove_list = ['Licht', 'Binroth', 'Witzel', 'Jordan',\n",
    "                   'Zähringer', 'Scheerer', 'Hoffmann', 'Düe',\n",
    "                   'Hellmich', 'Enkler-Scharpegge', 'Witte-Nguy',\n",
    "                   'Dehen', 'Beckmann', 'Jager', 'Jäger'\n",
    "                  ]\n",
    "\n",
    "    for k in remove_list:\n",
    "        if k in name:\n",
    "            return False\n",
    "    return True\n",
    "\n",
    "def add_author_to_list(author_list: list) -> list:\n",
    "    \"\"\" Add author to list if not already in list\n",
    "    \n",
    "    :param author: author name\n",
    "    :param author_list: list of authors\n",
    "    :returns: updated list of authors\n",
    "    \"\"\"\n",
    "    add_list = ['T. Henning']\n",
    "\n",
    "    for author in add_list:\n",
    "        if author not in author_list:\n",
    "            author_list.append(author)\n",
    "    return author_list\n",
    "\n",
    "# get list from MPIA website\n",
    "# filter for non-scientists (mpia.get_mpia_mitarbeiter_list() does some filtering)\n",
    "mpia_authors = [k[1] for k in mpia.get_mpia_mitarbeiter_list() if filter_non_scientists(k[1])]\n",
    "# add some missing author because of inconsistencies in their MPIA name and author name on papers\n",
    "mpia_authors = add_author_to_list(mpia_authors)"
   ]
  },
  {
   "cell_type": "code",
   "execution_count": 4,
   "id": "2645e73a",
   "metadata": {
    "execution": {
     "iopub.execute_input": "2024-11-04T04:11:33.413472Z",
     "iopub.status.busy": "2024-11-04T04:11:33.413040Z",
     "iopub.status.idle": "2024-11-04T04:11:34.009495Z",
     "shell.execute_reply": "2024-11-04T04:11:34.008751Z"
    },
    "papermill": {
     "duration": 0.601311,
     "end_time": "2024-11-04T04:11:34.010573",
     "exception": false,
     "start_time": "2024-11-04T04:11:33.409262",
     "status": "completed"
    },
    "tags": []
   },
   "outputs": [
    {
     "name": "stdout",
     "output_type": "stream",
     "text": [
      "K. El-Badry  ->  K. El-Badry  |  ['K. El-Badry']\n",
      "H.-W. Rix  ->  H.-W. Rix  |  ['H.-W. Rix']\n",
      "R. Hviding  ->  R. Hviding  |  ['R. Hviding']\n",
      "H. Linz  ->  H. Linz  |  ['H. Linz']\n",
      "T. Henning  ->  T. Henning  |  ['T. Henning']\n",
      "M. Flock  ->  M. Flock  |  ['M. Flock']\n",
      "R. Zhang  ->  R. Zhang  |  ['R. Zhang']\n",
      "J. Li  ->  J. Li  |  ['J. Li']\n",
      "K. El-Badry  ->  K. El-Badry  |  ['K. El-Badry']\n",
      "Arxiv has 54 new papers today\n",
      "          6 with possible author matches\n"
     ]
    }
   ],
   "source": [
    "new_papers = get_new_papers()\n",
    "# add manual references\n",
    "add_paper_refs = []\n",
    "new_papers.extend([get_paper_from_identifier(k) for k in add_paper_refs])\n",
    "\n",
    "def robust_call(fn, value, *args, **kwargs):\n",
    "    try:\n",
    "        return fn(value, *args, **kwargs)\n",
    "    except Exception:\n",
    "        return value\n",
    "\n",
    "candidates = []\n",
    "for paperk in new_papers:\n",
    "    # Check author list with their initials\n",
    "    normed_author_list = [robust_call(mpia.get_initials, k) for k in paperk['authors']]\n",
    "    hl_authors = highlight_authors_in_list(normed_author_list, mpia_authors, verbose=True)\n",
    "    matches = [(hl, orig) for hl, orig in zip(hl_authors, paperk['authors']) if 'mark' in hl]\n",
    "    paperk['authors'] = hl_authors\n",
    "    if matches:\n",
    "        # only select paper if an author matched our list\n",
    "        candidates.append(paperk)\n",
    "print(\"\"\"Arxiv has {0:,d} new papers today\"\"\".format(len(new_papers)))        \n",
    "print(\"\"\"          {0:,d} with possible author matches\"\"\".format(len(candidates)))"
   ]
  },
  {
   "cell_type": "markdown",
   "id": "3543b34a",
   "metadata": {
    "papermill": {
     "duration": 0.003065,
     "end_time": "2024-11-04T04:11:34.017091",
     "exception": false,
     "start_time": "2024-11-04T04:11:34.014026",
     "status": "completed"
    },
    "tags": []
   },
   "source": [
    "# Parse sources and generate relevant outputs\n",
    "\n",
    "From the candidates, we do the following steps:\n",
    "* get their tarball from ArXiv (and extract data)\n",
    "* find the main .tex file: find one with \\documentclass{...} (sometimes it's non trivial)\n",
    "* Check affiliations with :func:`validation`, which uses :func:`mpia.affiliation_verifications`\n",
    "* If passing the affiliations: we parse the .tex source\n",
    "   * inject sub-documents into the main (flatten the main document)\n",
    "   * parse structure, extract information (title, abstract, authors, figures...)\n",
    "   * handles `\\graphicspath` if provided\n",
    "* Generate the .md document."
   ]
  },
  {
   "cell_type": "code",
   "execution_count": 5,
   "id": "9576b79e",
   "metadata": {
    "execution": {
     "iopub.execute_input": "2024-11-04T04:11:34.024275Z",
     "iopub.status.busy": "2024-11-04T04:11:34.023844Z",
     "iopub.status.idle": "2024-11-04T04:12:06.830346Z",
     "shell.execute_reply": "2024-11-04T04:12:06.829578Z"
    },
    "papermill": {
     "duration": 32.811387,
     "end_time": "2024-11-04T04:12:06.831533",
     "exception": false,
     "start_time": "2024-11-04T04:11:34.020146",
     "status": "completed"
    },
    "scrolled": false,
    "tags": []
   },
   "outputs": [
    {
     "data": {
      "application/vnd.jupyter.widget-view+json": {
       "model_id": "cd4c9ab7187c4d9ea3c643bb6c280889",
       "version_major": 2,
       "version_minor": 0
      },
      "text/plain": [
       "  0%|          | 0/6 [00:00<?, ?it/s]"
      ]
     },
     "metadata": {},
     "output_type": "display_data"
    },
    {
     "name": "stdout",
     "output_type": "stream",
     "text": [
      "Retrieving document from  https://arxiv.org/e-print/2411.00088\n"
     ]
    },
    {
     "name": "stdout",
     "output_type": "stream",
     "text": [
      "extracting tarball to tmp_2411.00088..."
     ]
    },
    {
     "name": "stdout",
     "output_type": "stream",
     "text": [
      " done.\n"
     ]
    },
    {
     "name": "stderr",
     "output_type": "stream",
     "text": [
      "/tmp/ipykernel_2776/2822249172.py:52: LatexWarning: 2411.00088 did not run properly\n",
      "bad escape \\o at position 11\n",
      "  warnings.warn(latex.LatexWarning(f\"{paper_id:s} did not run properly\\n\" +\n"
     ]
    },
    {
     "name": "stdout",
     "output_type": "stream",
     "text": [
      "Retrieving document from  https://arxiv.org/e-print/2411.00091\n"
     ]
    },
    {
     "name": "stdout",
     "output_type": "stream",
     "text": [
      "extracting tarball to tmp_2411.00091..."
     ]
    },
    {
     "name": "stdout",
     "output_type": "stream",
     "text": [
      " done.\n",
      "  1: tmp_2411.00091/aassymbols.tex, 579 lines\n",
      "  2: tmp_2411.00091/pucha2024.tex, 1,015 lines\n"
     ]
    },
    {
     "name": "stderr",
     "output_type": "stream",
     "text": [
      "/opt/hostedtoolcache/Python/3.9.20/x64/lib/python3.9/site-packages/IPython/core/interactiveshell.py:3550: LatexWarning: Multiple tex files.\n",
      "\n",
      "  exec(code_obj, self.user_global_ns, self.user_ns)\n",
      "/opt/hostedtoolcache/Python/3.9.20/x64/lib/python3.9/site-packages/IPython/core/interactiveshell.py:3550: LatexWarning: Found 2 candidates with documentclass definition.\n",
      "  exec(code_obj, self.user_global_ns, self.user_ns)\n",
      "/opt/hostedtoolcache/Python/3.9.20/x64/lib/python3.9/site-packages/IPython/core/interactiveshell.py:3550: LatexWarning: Assuming tmp_2411.00091/pucha2024.tex as main document.\n",
      "  exec(code_obj, self.user_global_ns, self.user_ns)\n",
      "/opt/hostedtoolcache/Python/3.9.20/x64/lib/python3.9/site-packages/arxiv_on_deck_2/latex.py:414: LatexWarning: Latex injecting: 'pucha2024_aj_authors.tex' from 'tmp_2411.00091/pucha2024_aj_authors.tex'\n",
      "  warnings.warn(LatexWarning(f\"Latex injecting: '{ext}' from '{subsource}'\"))\n"
     ]
    },
    {
     "name": "stdout",
     "output_type": "stream",
     "text": [
      "Found 152 bibliographic references in tmp_2411.00091/pucha2024.bbl.\n",
      "Issues with the citations\n",
      "syntax error in line 697: '=' expected\n",
      "Retrieving document from  https://arxiv.org/e-print/2411.00277\n"
     ]
    },
    {
     "name": "stdout",
     "output_type": "stream",
     "text": [
      "extracting tarball to tmp_2411.00277..."
     ]
    },
    {
     "name": "stdout",
     "output_type": "stream",
     "text": [
      " done.\n"
     ]
    },
    {
     "name": "stdout",
     "output_type": "stream",
     "text": [
      "H. Linz  ->  H. Linz  |  ['H. Linz']\n",
      "T. Henning  ->  T. Henning  |  ['T. Henning']\n",
      "M. Flock  ->  M. Flock  |  ['M. Flock']\n"
     ]
    },
    {
     "name": "stderr",
     "output_type": "stream",
     "text": [
      "/tmp/ipykernel_2776/2822249172.py:52: LatexWarning: 2411.00277 did not run properly\n",
      "Unable to locate Ghostscript on paths\n",
      "  warnings.warn(latex.LatexWarning(f\"{paper_id:s} did not run properly\\n\" +\n"
     ]
    },
    {
     "name": "stdout",
     "output_type": "stream",
     "text": [
      "Retrieving document from  https://arxiv.org/e-print/2411.00333\n",
      "extracting tarball to tmp_2411.00333..."
     ]
    },
    {
     "name": "stdout",
     "output_type": "stream",
     "text": [
      " done.\n",
      "Retrieving document from  https://arxiv.org/e-print/2411.00619\n"
     ]
    },
    {
     "name": "stdout",
     "output_type": "stream",
     "text": [
      "extracting tarball to tmp_2411.00619..."
     ]
    },
    {
     "name": "stdout",
     "output_type": "stream",
     "text": [
      " done.\n",
      "Retrieving document from  https://arxiv.org/e-print/2411.00654\n"
     ]
    },
    {
     "name": "stdout",
     "output_type": "stream",
     "text": [
      "extracting tarball to tmp_2411.00654..."
     ]
    },
    {
     "name": "stdout",
     "output_type": "stream",
     "text": [
      " done.\n"
     ]
    }
   ],
   "source": [
    "documents = []\n",
    "failed = []\n",
    "for paper in tqdm(candidates):\n",
    "    # debug crap\n",
    "    paper['identifier'] = paper['identifier'].lower().replace('arxiv:', '').replace(r'\\n', '').strip()\n",
    "    paper_id = paper['identifier']\n",
    "    \n",
    "    folder = f'tmp_{paper_id}'\n",
    "\n",
    "    try:\n",
    "        if not os.path.isdir(folder):\n",
    "            folder = retrieve_document_source(f\"{paper_id}\", f'tmp_{paper_id}')\n",
    "        \n",
    "        try:\n",
    "            doc = latex.LatexDocument(folder, validation=validation)    \n",
    "        except AffiliationError as affilerror:\n",
    "            msg = f\"ArXiv:{paper_id:s} is not an MPIA paper... \" + str(affilerror)\n",
    "            failed.append((paper, \"affiliation error: \" + str(affilerror) ))\n",
    "            continue\n",
    "        \n",
    "        # Hack because sometimes author parsing does not work well\n",
    "        if (len(doc.authors) != len(paper['authors'])):\n",
    "            doc._authors = paper['authors']\n",
    "        else:\n",
    "            # highlight authors (FIXME: doc.highlight_authors)\n",
    "            # done on arxiv paper already\n",
    "            doc._authors = highlight_authors_in_list(\n",
    "                [get_initials(k) for k in doc.authors], \n",
    "                mpia_authors, verbose=True)\n",
    "        if (doc.abstract) in (None, ''):\n",
    "            doc._abstract = paper['abstract']\n",
    "            \n",
    "        doc.comment = (get_markdown_badge(paper_id) + \n",
    "                       \"<mark>Appeared on: \" + paper['date'] + \"</mark> - \")\n",
    "        if paper['comments']:\n",
    "            doc.comment += \" _\" + paper['comments'] + \"_\"\n",
    "        \n",
    "        full_md = doc.generate_markdown_text()\n",
    "        \n",
    "        full_md += get_markdown_qrcode(paper_id)\n",
    "        \n",
    "        # replace citations\n",
    "        try:\n",
    "            bibdata = latex_bib.LatexBib.from_doc(doc)\n",
    "            full_md = latex_bib.replace_citations(full_md, bibdata)\n",
    "        except Exception as e:\n",
    "            print(\"Issues with the citations\")\n",
    "            print(e)\n",
    "        \n",
    "        documents.append((paper_id, full_md))\n",
    "    except Exception as e:\n",
    "        warnings.warn(latex.LatexWarning(f\"{paper_id:s} did not run properly\\n\" +\n",
    "                                         str(e)\n",
    "                                        ))\n",
    "        failed.append((paper, \"latex error \" + str(e)))"
   ]
  },
  {
   "cell_type": "markdown",
   "id": "2505a25c",
   "metadata": {
    "papermill": {
     "duration": 0.00408,
     "end_time": "2024-11-04T04:12:06.840109",
     "exception": false,
     "start_time": "2024-11-04T04:12:06.836029",
     "status": "completed"
    },
    "tags": []
   },
   "source": [
    "### Export the logs\n",
    "\n",
    "Throughout, we also keep track of the logs per paper. see `logs-{today date}.md` "
   ]
  },
  {
   "cell_type": "code",
   "execution_count": 6,
   "id": "d733828a",
   "metadata": {
    "execution": {
     "iopub.execute_input": "2024-11-04T04:12:06.849522Z",
     "iopub.status.busy": "2024-11-04T04:12:06.848993Z",
     "iopub.status.idle": "2024-11-04T04:12:06.865966Z",
     "shell.execute_reply": "2024-11-04T04:12:06.865418Z"
    },
    "papermill": {
     "duration": 0.022821,
     "end_time": "2024-11-04T04:12:06.866971",
     "exception": false,
     "start_time": "2024-11-04T04:12:06.844150",
     "status": "completed"
    },
    "scrolled": false,
    "tags": []
   },
   "outputs": [
    {
     "data": {
      "text/markdown": [
       "## Successful papers"
      ],
      "text/plain": [
       "<IPython.core.display.Markdown object>"
      ]
     },
     "metadata": {},
     "output_type": "display_data"
    },
    {
     "data": {
      "text/markdown": [
       "\n",
       "|||\n",
       "|---:|:---|\n",
       "| [![arXiv](https://img.shields.io/badge/arXiv-2411.00091-b31b1b.svg)](https://arxiv.org/abs/2411.00091) | **Tripling the Census of Dwarf AGN Candidates Using DESI Early Data**  |\n",
       "|| R. Pucha, et al. -- incl., <mark>R. Hviding</mark> |\n",
       "|*Appeared on*| *2024-11-04*|\n",
       "|*Comments*| *35 pages, 22 figures, Submitted to AAS Journals, Comments are welcome*|\n",
       "|**Abstract**|            Using early data from the Dark Energy Spectroscopic Instrument (DESI) survey, we search for AGN signatures in 410,757 line-emitting galaxies. By employing the BPT emission-line ratio diagnostic diagram, we identify AGN in 75,928/296,261 ($\\approx$25.6%) high-mass ($\\log (M_{\\star}/\\rm M_{\\odot}) >$ 9.5) and 2,444/114,496 ($\\approx$2.1%) dwarf ($\\log (M_{\\star}/\\rm M_{\\odot}) \\leq$ 9.5) galaxies. Of these AGN candidates, 4,181 sources exhibit a broad H$\\alpha$ component, allowing us to estimate their BH masses via virial techniques. This study more than triples the census of dwarf AGN as well as that of intermediate-mass black hole (IMBH; $M_{\\rm BH} \\le 10^6~\\rm M_{\\odot}$) candidates, spanning a broad discovery space in stellar mass (7 $< \\log (M_{\\star}/\\rm M_{\\odot}) <$ 12) and redshift (0.001 $< \\rm z <$ 0.45). The observed AGN fraction in dwarf galaxies ($\\approx$2.1%) is nearly four times higher than prior estimates, primarily due to DESI's smaller fiber size, which enables the detection of lower luminosity dwarf AGN candidates. We also extend the $M_{\\rm BH}$ - $M_{\\star}$ scaling relation down to $\\log (M_{\\star}/\\rm M_{\\odot}) \\approx$ 8.5 and $\\log (M_{\\rm BH}/M_{\\odot}) \\approx$ 4.4, with our results aligning well with previous low-redshift studies. The large statistical sample of dwarf AGN candidates from current and future DESI releases will be invaluable for enhancing our understanding of galaxy evolution at the low-mass end of the galaxy mass function.         |"
      ],
      "text/plain": [
       "[2411.00091] Tripling the Census of Dwarf AGN Candidates Using DESI Early Data\n",
       "\tR. Pucha, et al. -- incl., <mark>R. Hviding</mark>"
      ]
     },
     "metadata": {},
     "output_type": "display_data"
    },
    {
     "data": {
      "text/markdown": [
       "## Failed papers"
      ],
      "text/plain": [
       "<IPython.core.display.Markdown object>"
      ]
     },
     "metadata": {},
     "output_type": "display_data"
    },
    {
     "data": {
      "text/markdown": [
       "\n",
       "|||\n",
       "|---:|:---|\n",
       "| [![arXiv](https://img.shields.io/badge/arXiv-2411.00333-b31b1b.svg)](https://arxiv.org/abs/2411.00333) | **Multi-Layer Perceptron for Predicting Galaxy Parameters (MLP-GaP): stellar masses and star formation rates**  |\n",
       "|| X. Guo, G. Fang, H. Feng, <mark>R. Zhang</mark> |\n",
       "|*Appeared on*| *2024-11-04*|\n",
       "|*Comments*| *13 pages, 6 figures, 3 tables. Accepted in Research in Astronomy and Astrophysics*|\n",
       "|**Abstract**|            The large-scale imaging survey will produce massive photometric data in multi-bands for billions of galaxies. Defining strategies to quickly and efficiently extract useful physical information from this data is mandatory. Among the stellar population parameters for galaxies, their stellar masses and star formation rates (SFRs) are the most fundamental. We develop a novel tool, \\textit{Multi-Layer Perceptron for Predicting Galaxy Parameters} (MLP-GaP), that uses a machine-learning (ML) algorithm to accurately and efficiently derive the stellar masses and SFRs from multi-band catalogs. We first adopt a mock dataset generated by the \\textit{Code Investigating GALaxy Emission} (CIGALE) for training and testing datasets. Subsequently, we used a multi-layer perceptron model to build MLP-GaP and effectively trained it with the training dataset. The results of the test performed on the mock dataset show that MLP-GaP can accurately predict the reference values. Besides MLP-GaP has a significantly faster processing speed than CIGALE. To demonstrate the science-readiness of the MLP-GaP, we also apply it to a real data sample and compare the stellar masses and SFRs with CIGALE. Overall, the predicted values of MLP-GaP show a very good consistency with the estimated values derived from SED fitting. Therefore, the capability of MLP-GaP to rapidly and accurately predict stellar masses and SFRs makes it particularly well-suited for analyzing huge amounts of galaxies in the era of large sky surveys.         |\n",
       "|<p style=\"color:green\"> **ERROR** </p>| <p style=\"color:green\">affiliation error: mpia.affiliation_verifications: 'Heidelberg' keyword not found.</p> |"
      ],
      "text/plain": [
       "<IPython.core.display.Markdown object>"
      ]
     },
     "metadata": {},
     "output_type": "display_data"
    },
    {
     "data": {
      "text/markdown": [
       "\n",
       "|||\n",
       "|---:|:---|\n",
       "| [![arXiv](https://img.shields.io/badge/arXiv-2411.00619-b31b1b.svg)](https://arxiv.org/abs/2411.00619) | **The Flattest Infrared Extinction Curve in Four Isolated Dense Molecular Cloud Cores**  |\n",
       "|| <mark>J. Li</mark>, et al. |\n",
       "|*Appeared on*| *2024-11-04*|\n",
       "|*Comments*| *Accepted for publication in The Astrophysical Journal Letters (15 pages, 8 figures, 3 tables)*|\n",
       "|**Abstract**|            The extinction curve of interstellar dust in the dense molecular cloud cores is crucial for understanding dust properties, particularly size distribution and composition. We investigate the infrared extinction law in four nearby isolated molecular cloud cores, L429, L483, L673, and L1165, across the 1.2 - 8.0 $\\mu$m wavelength range, using deep near-infrared (NIR) and mid-infrared (MIR) photometric data from UKIDSS and Spitzer Space Telescope. These observations probe an unprecedented extinction depth, reaching $A_V\\sim$ 40-60 mag in these dense cloud cores. We derive color-excess ratios $E(K-\\lambda)/E(H-K)$ by fitting color-color diagrams of $(K-\\lambda)$ versus $(H-K)$, which are subsequently used to calculate the extinction law $A_\\lambda/A_K$. Our analysis reveals remarkably similar and exceptionally flat infrared extinction curves for all four cloud cores, exhibiting the most pronounced flattening reported in the literature to date. This flatness is consistent with the presence of large dust grains, suggesting significant grain growth in dense environments. Intriguingly, our findings align closely with the Astrodust model for a diffuse interstellar environment proposed by Hensley \\& Draine. This agreement between dense core observations and a diffuse medium model highlights the complexity of dust evolution and the need for further investigation into the processes governing dust properties in different interstellar environments.         |\n",
       "|<p style=\"color:green\"> **ERROR** </p>| <p style=\"color:green\">affiliation error: mpia.affiliation_verifications: 'Heidelberg' keyword not found.</p> |"
      ],
      "text/plain": [
       "<IPython.core.display.Markdown object>"
      ]
     },
     "metadata": {},
     "output_type": "display_data"
    },
    {
     "data": {
      "text/markdown": [
       "\n",
       "|||\n",
       "|---:|:---|\n",
       "| [![arXiv](https://img.shields.io/badge/arXiv-2411.00654-b31b1b.svg)](https://arxiv.org/abs/2411.00654) | **A Fast, Analytic Empirical Model of the Gaia Data Release 3 Astrometric Orbit Catalog Selection Function**  |\n",
       "|| C. Y. Lam, <mark>K. El-Badry</mark>, J. D. Simon |\n",
       "|*Appeared on*| *2024-11-04*|\n",
       "|*Comments*| *24 pages, 14 figures, 2 appendices. Submitted to ApJ, comments welcome. Selection function code will be available here: this https URL*|\n",
       "|**Abstract**|            In June 2022, the Gaia mission released a catalog of astrometric orbital solutions for 168,065 binary systems, by far the largest such catalog to date. Unlike previous binary stars catalogs, which were heterogeneous collections of orbits from different surveys and instruments, these orbits were derived using Gaia data alone. Despite this homogeneity, the selection function is difficult to characterize because of choices made in the construction of the catalog. Understanding the catalog's selection function is required to model and interpret its contents. We use a combination of analytic and empirical prescriptions to construct a function that computes the probability that a binary with a given set of properties would have been published in the Gaia Data Release 3 astrometric orbit catalog. We also construct a binary population synthesis model based on Moe & Di Stefano (2017) to validate our characterization of the selection function, finding good agreement with the actual Gaia NSS catalog, with the exception of the orbital eccentricity distribution. The NSS catalog suggests high-eccentricity orbits are relatively uncommon at intermediate periods $100 \\lesssim P_{orb} \\lesssim 1000$ days. As an example application of the selection function, we estimate the Gaia DR3 detection probabilities of the star + BH binaries Gaia BH1, BH2, and BH3. We also estimate the population of Sun-like star + BH binaries in the Galaxy to be $\\sim 5000$ for $100 < P_{orb} < 400$ day, $\\lesssim 2,000$ for $400 < P_{orb} < 1000$ day, and $ \\lesssim 20,000$ for $1000 < P_{orb} < 2000$ days.         |\n",
       "|<p style=\"color:green\"> **ERROR** </p>| <p style=\"color:green\">affiliation error: mpia.affiliation_verifications: 'Heidelberg' keyword not found.</p> |"
      ],
      "text/plain": [
       "<IPython.core.display.Markdown object>"
      ]
     },
     "metadata": {},
     "output_type": "display_data"
    },
    {
     "data": {
      "text/markdown": [
       "\n",
       "|||\n",
       "|---:|:---|\n",
       "| [![arXiv](https://img.shields.io/badge/arXiv-2411.00277-b31b1b.svg)](https://arxiv.org/abs/2411.00277) | **Dust mass in protoplanetary disks with porous dust opacities**  |\n",
       "|| Y. Liu, et al. -- incl., <mark>H. Linz</mark>, <mark>T. Henning</mark>, <mark>M. Flock</mark> |\n",
       "|*Appeared on*| *2024-11-04*|\n",
       "|*Comments*| *11 pages, 7 figures, Accepted for publication in A&A*|\n",
       "|**Abstract**|            ALMA surveys have suggested that protoplanetary disks are not massive enough to form the known exoplanet population, under the assumption that the millimeter continuum emission is optically thin. In this work, we investigate how the mass determination is influenced when the porosity of dust grains is considered in radiative transfer models. The results show that disks with porous dust opacities yield similar dust temperature, but systematically lower millimeter fluxes compared to disks incorporating compact dust grains. Moreover, we recalibrate the relation between dust temperature and stellar luminosity for a wide range of stellar parameters, and calculate the dust masses of a large sample of disks using the traditionally analytic approach. The median dust mass from our calculation is about 6 times higher than the literature result, and this is mostly driven by the different opacities of porous and compact grains. A comparison of the cumulative distribution function between disk dust masses and exoplanet masses show that the median exoplanet mass is about 2 times lower than the median dust mass, if grains are porous, and there are no exoplanetary systems with masses higher than the most massive disks. Our analysis suggests that adopting porous dust opacities may alleviate the mass budget problem for planet formation. As an example illustrating the combined effects of optical depth and porous dust opacities on the mass estimation, we conduct new IRAM/NIKA-2 observations toward the IRAS 04370+2559 disk and perform a detailed radiative transfer modeling of the spectral energy distribution. The best-fit dust mass is roughly 100 times higher than the value from the traditionally analytic calculation. Future spatially resolved observations at various wavelengths are required to better constrain the dust mass.         |\n",
       "|<p style=\"color:red\"> **ERROR** </p>| <p style=\"color:red\">latex error Unable to locate Ghostscript on paths</p> |"
      ],
      "text/plain": [
       "<IPython.core.display.Markdown object>"
      ]
     },
     "metadata": {},
     "output_type": "display_data"
    },
    {
     "data": {
      "text/markdown": [
       "\n",
       "|||\n",
       "|---:|:---|\n",
       "| [![arXiv](https://img.shields.io/badge/arXiv-2411.00088-b31b1b.svg)](https://arxiv.org/abs/2411.00088) | **A generative model for Gaia astrometric orbit catalogs: selection functions for binary stars, giant planets, and compact object companions**  |\n",
       "|| <mark>K. El-Badry</mark>, et al. -- incl., <mark>H.-W. Rix</mark> |\n",
       "|*Appeared on*| *2024-11-04*|\n",
       "|*Comments*| *22 pages, 17 figures, accepted to OJAp. Code at this https URL*|\n",
       "|**Abstract**|            Astrometry from Gaia DR3 has produced a sample of $\\sim$170,000 Keplerian orbital solutions, with many more anticipated in the next few years. These data have enormous potential to constrain the population of binary stars, giant planets, and compact objects in the Solar neighborhood. But in order to use the published orbit catalogs for statistical inference, it is necessary to understand their selection function: what is the probability that a binary with a given set of properties ends up in a catalog? We show that such a selection function for the Gaia DR3 astrometric binary catalog can be forward-modeled from the Gaia scanning law, including individual 1D astrometric measurements, the fitting of a cascade of astrometric models, and quality cuts applied in post-processing. We populate a synthetic Milky Way model with binary stars and generate a mock catalog of astrometric orbits. The mock catalog is quite similar to the DR3 astrometric binary sample, suggesting that our selection function is a sensible approximation of reality. Our fitting also produces a sample of spurious astrometric orbits similar to those found in DR3; these are mainly the result of scan angle-dependent astrometric biases in marginally resolved wide binaries. We show that Gaia's sensitivity to astrometric binaries falls off rapidly at high eccentricities, but only weakly at high inclinations. We predict that DR4 will yield $\\sim 1$ million astrometric orbits, mostly for bright ($G \\lesssim 15$) systems with long periods ($P_{\\rm orb} \\gtrsim 1000$ d). We provide code to simulate and fit realistic Gaia epoch astrometry for any data release and determine whether any hypothetical binary would receive a cataloged orbital solution.         |\n",
       "|<p style=\"color:red\"> **ERROR** </p>| <p style=\"color:red\">latex error bad escape \\o at position 11</p> |"
      ],
      "text/plain": [
       "<IPython.core.display.Markdown object>"
      ]
     },
     "metadata": {},
     "output_type": "display_data"
    }
   ],
   "source": [
    "import datetime\n",
    "today = str(datetime.date.today())\n",
    "logfile = f\"_build/html/logs/log-{today}.md\"\n",
    "\n",
    "\n",
    "with open(logfile, 'w') as logs:\n",
    "    # Success\n",
    "    logs.write(f'# Arxiv on Deck 2: Logs - {today}\\n\\n')\n",
    "    logs.write(\"\"\"* Arxiv had {0:,d} new papers\\n\"\"\".format(len(new_papers)))\n",
    "    logs.write(\"\"\"    * {0:,d} with possible author matches\\n\\n\"\"\".format(len(candidates)))\n",
    "    logs.write(\"## Sucessful papers\\n\\n\")\n",
    "    display(Markdown(\"## Successful papers\"))\n",
    "    success = [k[0] for k in documents]\n",
    "    for candid in candidates:\n",
    "        if candid['identifier'].split(':')[-1] in success:\n",
    "            display(candid)\n",
    "            logs.write(candid.generate_markdown_text() + '\\n\\n')\n",
    "\n",
    "    ## failed\n",
    "    logs.write(\"## Failed papers\\n\\n\")\n",
    "    display(Markdown(\"## Failed papers\"))\n",
    "    failed = sorted(failed, key=lambda x: x[1])\n",
    "    current_reason = \"\"\n",
    "    for paper, reason in failed:\n",
    "        if 'affiliation' in reason:\n",
    "            color = 'green'\n",
    "        else:\n",
    "            color = 'red'\n",
    "        data = Markdown(\n",
    "                paper.generate_markdown_text() + \n",
    "                f'\\n|<p style=\"color:{color:s}\"> **ERROR** </p>| <p style=\"color:{color:s}\">{reason:s}</p> |'\n",
    "               )\n",
    "        if reason != current_reason:\n",
    "            logs.write(f'### {reason:s} \\n\\n')\n",
    "            current_reason = reason\n",
    "        logs.write(data.data + '\\n\\n')\n",
    "        \n",
    "        # only display here the important errors (all in logs)\n",
    "        # if color in ('red',):\n",
    "        display(data)"
   ]
  },
  {
   "cell_type": "markdown",
   "id": "472d20ee",
   "metadata": {
    "papermill": {
     "duration": 0.004822,
     "end_time": "2024-11-04T04:12:06.876739",
     "exception": false,
     "start_time": "2024-11-04T04:12:06.871917",
     "status": "completed"
    },
    "tags": []
   },
   "source": [
    "## Export documents\n",
    "\n",
    "We now write the .md files and export relevant images"
   ]
  },
  {
   "cell_type": "code",
   "execution_count": 7,
   "id": "d426aed9",
   "metadata": {
    "execution": {
     "iopub.execute_input": "2024-11-04T04:12:06.887451Z",
     "iopub.status.busy": "2024-11-04T04:12:06.887029Z",
     "iopub.status.idle": "2024-11-04T04:12:06.893565Z",
     "shell.execute_reply": "2024-11-04T04:12:06.893050Z"
    },
    "papermill": {
     "duration": 0.012919,
     "end_time": "2024-11-04T04:12:06.894513",
     "exception": false,
     "start_time": "2024-11-04T04:12:06.881594",
     "status": "completed"
    },
    "tags": []
   },
   "outputs": [],
   "source": [
    "def export_markdown_summary(md: str, md_fname:str, directory: str):\n",
    "    \"\"\"Export MD document and associated relevant images\"\"\"\n",
    "    import os\n",
    "    import shutil\n",
    "    import re\n",
    "\n",
    "    if (os.path.exists(directory) and not os.path.isdir(directory)):\n",
    "        raise RuntimeError(f\"a non-directory file exists with name {directory:s}\")\n",
    "\n",
    "    if (not os.path.exists(directory)):\n",
    "        print(f\"creating directory {directory:s}\")\n",
    "        os.mkdir(directory)\n",
    "\n",
    "    fig_fnames = (re.compile(r'\\[Fig.*\\]\\((.*)\\)').findall(md) + \n",
    "                  re.compile(r'\\<img src=\"([^>\\s]*)\"[^>]*/>').findall(md))\n",
    "    print(\"found figures\", fig_fnames)\n",
    "    for fname in fig_fnames:\n",
    "        if 'http' in fname:\n",
    "            # No need to copy online figures\n",
    "            continue\n",
    "        if not os.path.exists(fname):\n",
    "            print(\"file not found\", fname)\n",
    "            continue\n",
    "        print(\"copying \", fname, \"to\", directory)\n",
    "        destdir = os.path.join(directory, os.path.dirname(fname))\n",
    "        destfname = os.path.join(destdir, os.path.basename(fname))\n",
    "        try:\n",
    "            os.makedirs(destdir)\n",
    "        except FileExistsError:\n",
    "            pass\n",
    "        shutil.copy(fname, destfname)\n",
    "    with open(os.path.join(directory, md_fname), 'w') as fout:\n",
    "        fout.write(md)\n",
    "    print(\"exported in \", os.path.join(directory, md_fname))\n",
    "    [print(\"    + \" + os.path.join(directory,fk)) for fk in fig_fnames]"
   ]
  },
  {
   "cell_type": "code",
   "execution_count": 8,
   "id": "014d04a4",
   "metadata": {
    "execution": {
     "iopub.execute_input": "2024-11-04T04:12:06.905321Z",
     "iopub.status.busy": "2024-11-04T04:12:06.904820Z",
     "iopub.status.idle": "2024-11-04T04:12:06.909780Z",
     "shell.execute_reply": "2024-11-04T04:12:06.909161Z"
    },
    "papermill": {
     "duration": 0.011362,
     "end_time": "2024-11-04T04:12:06.910790",
     "exception": false,
     "start_time": "2024-11-04T04:12:06.899428",
     "status": "completed"
    },
    "tags": []
   },
   "outputs": [
    {
     "name": "stdout",
     "output_type": "stream",
     "text": [
      "found figures ['tmp_2411.00091/./07_agnfrac_mstar.png', 'tmp_2411.00091/./11_mbh-mstar.png', 'tmp_2411.00091/./04_bpt_all.png']\n",
      "copying  tmp_2411.00091/./07_agnfrac_mstar.png to _build/html/\n",
      "copying  tmp_2411.00091/./11_mbh-mstar.png to _build/html/\n",
      "copying  tmp_2411.00091/./04_bpt_all.png to _build/html/\n",
      "exported in  _build/html/2411.00091.md\n",
      "    + _build/html/tmp_2411.00091/./07_agnfrac_mstar.png\n",
      "    + _build/html/tmp_2411.00091/./11_mbh-mstar.png\n",
      "    + _build/html/tmp_2411.00091/./04_bpt_all.png\n"
     ]
    }
   ],
   "source": [
    "for paper_id, md in documents:\n",
    "    export_markdown_summary(md, f\"{paper_id:s}.md\", '_build/html/')"
   ]
  },
  {
   "cell_type": "markdown",
   "id": "f087a0a7",
   "metadata": {
    "papermill": {
     "duration": 0.004845,
     "end_time": "2024-11-04T04:12:06.920652",
     "exception": false,
     "start_time": "2024-11-04T04:12:06.915807",
     "status": "completed"
    },
    "tags": []
   },
   "source": [
    "## Display the papers\n",
    "\n",
    "Not necessary but allows for a quick check."
   ]
  },
  {
   "cell_type": "code",
   "execution_count": 9,
   "id": "fd25f625",
   "metadata": {
    "execution": {
     "iopub.execute_input": "2024-11-04T04:12:06.931407Z",
     "iopub.status.busy": "2024-11-04T04:12:06.931047Z",
     "iopub.status.idle": "2024-11-04T04:12:06.935402Z",
     "shell.execute_reply": "2024-11-04T04:12:06.934887Z"
    },
    "papermill": {
     "duration": 0.010778,
     "end_time": "2024-11-04T04:12:06.936338",
     "exception": false,
     "start_time": "2024-11-04T04:12:06.925560",
     "status": "completed"
    },
    "scrolled": false,
    "tags": []
   },
   "outputs": [
    {
     "data": {
      "text/markdown": [
       "<div class=\"macros\" style=\"visibility:hidden;\">\n",
       "$\\newcommand{\\ensuremath}{}$\n",
       "$\\newcommand{\\xspace}{}$\n",
       "$\\newcommand{\\object}[1]{\\texttt{#1}}$\n",
       "$\\newcommand{\\farcs}{{.}''}$\n",
       "$\\newcommand{\\farcm}{{.}'}$\n",
       "$\\newcommand{\\arcsec}{''}$\n",
       "$\\newcommand{\\arcmin}{'}$\n",
       "$\\newcommand{\\ion}[2]{#1#2}$\n",
       "$\\newcommand{\\textsc}[1]{\\textrm{#1}}$\n",
       "$\\newcommand{\\hl}[1]{\\textrm{#1}}$\n",
       "$\\newcommand{\\footnote}[1]{}$\n",
       "$\\newcommand{\\todo}[1]{\\noindent \\textcolor{red}{{ [TODO:~{#1}]}}}$\n",
       "$\\newcommand$\n",
       "$\\newcommand$\n",
       "$\\newcommand$\n",
       "$\\newcommand{\\lya}{\\textrm{Ly}\\ensuremath{\\alpha}}$\n",
       "$\\newcommand{\\cii}{\\textrm{C}\\textsc{ii}]}$\n",
       "$\\newcommand{\\ciii}{\\textrm{C}\\textsc{iii}]}$\n",
       "$\\newcommand{\\civ}{\\textrm{C}\\textsc{iv}}$\n",
       "$\\newcommand{\\ha}{\\textrm{H}\\ensuremath{\\alpha}}$\n",
       "$\\newcommand{\\hb}{\\textrm{H}\\ensuremath{\\beta}}$\n",
       "$\\newcommand{\\hgam}{\\textrm{H}\\ensuremath{\\gamma}}$\n",
       "$\\newcommand{\\oi}{[\\textrm{O} \\textsc{i}]}$\n",
       "$\\newcommand{\\oii}{[\\textrm{O} \\textsc{ii}]}$\n",
       "$\\newcommand{\\oiilam}{[\\textrm{O}~\\textsc{ii}]\\ensuremath{\\lambda\\lambda}3726,3729}$\n",
       "$\\newcommand{\\oiii}{[\\textrm{O}\\textsc{iii}]}$\n",
       "$\\newcommand{\\nii}{[\\textrm{N}\\textsc{ii}]}$\n",
       "$\\newcommand{\\sii}{[\\textrm{S}\\textsc{ii}]}$\n",
       "$\\newcommand{\\mgii}{\\textrm{Mg}\\textsc{ii}}$\n",
       "$\\newcommand{\\oiiilam}{[\\textrm{O}\\textsc{iii}]\\ensuremath{\\lambda}5007}$\n",
       "$\\newcommand{\\niilam}{[\\textrm{N}\\textsc{ii}]\\ensuremath{\\lambda}6584}$\n",
       "$\\newcommand{\\nevlam}{[\\textrm{Ne}\\textsc{iv}]\\ensuremath{\\lambda}3425}$\n",
       "$\\newcommand{\\oilam}{[\\textrm{O}\\textsc{i}]\\ensuremath{\\lambda}6300}$\n",
       "$\\newcommand{\\siilam}{[\\textrm{S}\\textsc{ii}]\\ensuremath{\\lambda\\lambda}6717,6731}$\n",
       "$\\newcommand{\\niilamlam}{[\\textrm{N}\\textsc{ii}]\\ensuremath{\\lambda\\lambda}6548,6584}$\n",
       "$\\newcommand{\\zspec}{z_{\\rm spec}}$\n",
       "$\\newcommand{\\mbh}{{M}\\ensuremath{_{\\rm BH}}}$\n",
       "$\\newcommand{\\mstar}{{M}\\ensuremath{_{\\star}}}$\n",
       "$\\newcommand{\\msun}{{\\rm M}\\ensuremath{_{\\odot}}}$\n",
       "$\\newcommand{\\logmass}{\\ensuremath{\\log (\\mstar/\\msun)}}$\n",
       "$\\newcommand{\\logmbh}{\\ensuremath{\\log (\\mbh/\\msun)}}$\n",
       "$\\newcommand{\\ergscmsq}{\\textrm{ergs s^{-1} cm^{-2}}}$\n",
       "$\\newcommand{\\imtxt}[1]{\\textcolor{magenta}{#1}}$\n",
       "$\\newcommand{\\imsout}[1]{\\textcolor{magenta}{\\sout{#1}}}$\n",
       "$\\newcommand{\\deg}{^{\\circ}}$</div>\n",
       "\n",
       "\n",
       "\n",
       "<div id=\"title\">\n",
       "\n",
       "# Tripling the Census of Dwarf AGN Candidates Using DESI Early Data\n",
       "\n",
       "</div>\n",
       "<div id=\"comments\">\n",
       "\n",
       "[![arXiv](https://img.shields.io/badge/arXiv-2411.00091-b31b1b.svg)](https://arxiv.org/abs/2411.00091)<mark>Appeared on: 2024-11-04</mark> -  _35 pages, 22 figures, Submitted to AAS Journals, Comments are welcome_\n",
       "\n",
       "</div>\n",
       "<div id=\"authors\">\n",
       "\n",
       "Ragadeepika~Pucha, et al.\n",
       "\n",
       "</div>\n",
       "<div id=\"abstract\">\n",
       "\n",
       "**Abstract:** Using early data from the Dark Energy Spectroscopic Instrument (DESI) survey, we search for AGN signatures in 410,757 line-emitting galaxies. By employing the BPT emission-line ratio diagnostic diagram, we identify AGN in 75,928/296,261 ( $\\approx$ 25.6 \\% ) high-mass ( $\\logmass >$ 9.5) and 2,444/114,496 ( $\\approx$ 2.1 \\% ) dwarf ( $\\logmass \\leq$ 9.5) galaxies. Of these AGN candidates, 4,181 sources exhibit a broad $\\ha$ component, allowing us to estimate their BH masses via virial techniques. This study more than triples the census of dwarf AGN as well as that of intermediate-mass black hole (IMBH; $\\mbh \\le 10^6 \\msun$ ) candidates, spanning a broad discovery space in stellar mass (7 $< \\logmass <$ 12) and redshift (0.001 $< \\rm z <$ 0.45). The observed AGN fraction in dwarf galaxies ( $\\approx$ 2.1 \\% ) is nearly four times higher than prior estimates, primarily due to DESI's smaller fiber size, which enables the detection of lower luminosity dwarf AGN candidates. We also extend the $\\mbh - \\mstar$ scaling relation down to $\\logmass \\approx$ 8.5 and $\\logmbh \\approx$ 4.4, with our results aligning well with previous low-redshift studies. The large statistical sample of dwarf AGN candidates from current and future DESI releases will be invaluable for enhancing our understanding of galaxy evolution at the low-mass end of the galaxy mass function.\n",
       "\n",
       "</div>\n",
       "\n",
       "<div id=\"div_fig1\">\n",
       "\n",
       "<img src=\"tmp_2411.00091/./07_agnfrac_mstar.png\" alt=\"Fig12\" width=\"100%\"/>\n",
       "\n",
       "**Figure 12. -** BPT-AGN Fraction as a function of stellar mass: The fraction of BPT-AGN candidates in line-emitting galaxies is shown as red squares, while the fraction of BPT-AGN candidates considering all galaxies is shown as black circles. _ Right:_ BPT-AGN Fraction as a function of stellar mass in the dwarf galaxy regime. The overall observed BPT-AGN fraction from our study and \\citet{Reines+2013} are shown as a dashed-dotted red line and dashed pink line, respectively. (*fig:agnfrac-mstar*)\n",
       "\n",
       "</div>\n",
       "<div id=\"div_fig2\">\n",
       "\n",
       "<img src=\"tmp_2411.00091/./11_mbh-mstar.png\" alt=\"Fig14\" width=\"100%\"/>\n",
       "\n",
       "**Figure 14. -** $\\mbh - $\\mstar$$ scaling relation of _ confident_ BL-AGN candidates (_ Left_) and all BL-AGN candidates(_ Right_), excluding point sources. The color bar displays the number of sources within each bin of the 2D distribution. In each of the panels, our empirical fits for confident and all BL-AGN candidates are plotted as solid and dashed red lines, respectively. The fits from \\citet{Reines&Volonteri2015} and \\citet{Suh+2020} are shown as black and orange lines, respectively. (*fig:mbh-mstar*)\n",
       "\n",
       "</div>\n",
       "<div id=\"div_fig3\">\n",
       "\n",
       "<img src=\"tmp_2411.00091/./04_bpt_all.png\" alt=\"Fig10\" width=\"100%\"/>\n",
       "\n",
       "**Figure 10. -** BPT $\\oi$ii/$\\hb$ vs $\\nii$/$\\ha$ narrow-line diagnostic diagram for high-mass ($\\logmass > 9.5$; _ Top_) and dwarf ($\\logmass \\leq 9.5$; _ Bottom_) galaxies, divided as NL (_ Left_) and BL (_ Right_) candidates. The solid line in all the panels is from \\citet{Kauffmann+2003}, which separates the pure star-forming sources and those with AGN contribution. The dashed line represents the \"maximum starburst line\" using stellar photoionization models \\citep{Kewley+2001}. (*fig:bpt_all*)\n",
       "\n",
       "</div><div id=\"qrcode\"><img src=https://api.qrserver.com/v1/create-qr-code/?size=100x100&data=\"https://arxiv.org/abs/2411.00091\"></div>"
      ],
      "text/plain": [
       "<IPython.core.display.Markdown object>"
      ]
     },
     "metadata": {},
     "output_type": "display_data"
    }
   ],
   "source": [
    "[display(Markdown(k[1])) for k in documents];"
   ]
  },
  {
   "cell_type": "markdown",
   "id": "873873a4",
   "metadata": {
    "papermill": {
     "duration": 0.005194,
     "end_time": "2024-11-04T04:12:06.946883",
     "exception": false,
     "start_time": "2024-11-04T04:12:06.941689",
     "status": "completed"
    },
    "tags": []
   },
   "source": [
    "# Create HTML index"
   ]
  },
  {
   "cell_type": "code",
   "execution_count": 10,
   "id": "cf665672",
   "metadata": {
    "execution": {
     "iopub.execute_input": "2024-11-04T04:12:06.958395Z",
     "iopub.status.busy": "2024-11-04T04:12:06.957840Z",
     "iopub.status.idle": "2024-11-04T04:12:06.966495Z",
     "shell.execute_reply": "2024-11-04T04:12:06.965903Z"
    },
    "papermill": {
     "duration": 0.015505,
     "end_time": "2024-11-04T04:12:06.967534",
     "exception": false,
     "start_time": "2024-11-04T04:12:06.952029",
     "status": "completed"
    },
    "tags": []
   },
   "outputs": [
    {
     "name": "stdout",
     "output_type": "stream",
     "text": [
      "238  publications files modified in the last 7 days.\n"
     ]
    }
   ],
   "source": [
    "from datetime import datetime, timedelta, timezone\n",
    "from glob import glob\n",
    "import os\n",
    "\n",
    "files = glob('_build/html/*.md')\n",
    "days = 7\n",
    "now = datetime.today()\n",
    "res = []\n",
    "for fk in files:\n",
    "    stat_result = os.stat(fk).st_ctime\n",
    "    modified = datetime.fromtimestamp(stat_result, tz=timezone.utc).replace(tzinfo=None)\n",
    "    delta = now.today() - modified\n",
    "    if delta <= timedelta(days=days):\n",
    "        res.append((delta.seconds, fk))\n",
    "res = [k[1] for k in reversed(sorted(res, key=lambda x:x[1]))]\n",
    "npub = len(res)\n",
    "print(len(res), f\" publications files modified in the last {days:d} days.\")\n",
    "# [ print('\\t', k) for k in res ];"
   ]
  },
  {
   "cell_type": "code",
   "execution_count": 11,
   "id": "015de740",
   "metadata": {
    "execution": {
     "iopub.execute_input": "2024-11-04T04:12:06.979068Z",
     "iopub.status.busy": "2024-11-04T04:12:06.978679Z",
     "iopub.status.idle": "2024-11-04T04:12:06.994740Z",
     "shell.execute_reply": "2024-11-04T04:12:06.994189Z"
    },
    "papermill": {
     "duration": 0.022764,
     "end_time": "2024-11-04T04:12:06.995637",
     "exception": false,
     "start_time": "2024-11-04T04:12:06.972873",
     "status": "completed"
    },
    "tags": []
   },
   "outputs": [
    {
     "name": "stdout",
     "output_type": "stream",
     "text": [
      "9  publications in the last 7 days.\n"
     ]
    }
   ],
   "source": [
    "import datetime\n",
    "from glob import glob\n",
    "\n",
    "def get_last_n_days(lst, days=1):\n",
    "    \"\"\" Get the documents from the last n days \"\"\"\n",
    "    sorted_lst = sorted(lst, key=lambda x: x[1], reverse=True)\n",
    "    for fname, date in sorted_lst:\n",
    "        if date >= str(datetime.date.today() - datetime.timedelta(days=days)):\n",
    "            yield fname\n",
    "\n",
    "def extract_appearance_dates(lst_file):\n",
    "    dates = []\n",
    "\n",
    "    def get_date(line):\n",
    "        return line\\\n",
    "            .split('Appeared on:')[-1]\\\n",
    "            .split('</mark>')[0].strip()\n",
    "\n",
    "    for fname in lst:\n",
    "        with open(fname, 'r') as f:\n",
    "            found_date = False\n",
    "            for line in f:\n",
    "                if not found_date:\n",
    "                    if \"Appeared on\" in line:\n",
    "                        found_date = True\n",
    "                        dates.append((fname, get_date(line)))\n",
    "                else:\n",
    "                    break\n",
    "    return dates\n",
    "\n",
    "from glob import glob\n",
    "lst = glob('_build/html/*md')\n",
    "days = 7\n",
    "dates = extract_appearance_dates(lst)\n",
    "res = list(get_last_n_days(dates, days))\n",
    "npub = len(res)\n",
    "print(len(res), f\" publications in the last {days:d} days.\")"
   ]
  },
  {
   "cell_type": "code",
   "execution_count": 12,
   "id": "52ca0208",
   "metadata": {
    "execution": {
     "iopub.execute_input": "2024-11-04T04:12:07.007387Z",
     "iopub.status.busy": "2024-11-04T04:12:07.007043Z",
     "iopub.status.idle": "2024-11-04T04:12:07.011868Z",
     "shell.execute_reply": "2024-11-04T04:12:07.011336Z"
    },
    "papermill": {
     "duration": 0.011764,
     "end_time": "2024-11-04T04:12:07.012782",
     "exception": false,
     "start_time": "2024-11-04T04:12:07.001018",
     "status": "completed"
    },
    "scrolled": false,
    "tags": []
   },
   "outputs": [],
   "source": [
    "def create_carousel(npub=4):\n",
    "    \"\"\" Generate the HTML code for a carousel with `npub` slides \"\"\"\n",
    "    carousel = [\"\"\"  <div class=\"carousel\" \"\"\",\n",
    "                \"\"\"       data-flickity='{ \"autoPlay\": 10000, \"adaptiveHeight\": true, \"resize\": true, \"wrapAround\": true, \"pauseAutoPlayOnHover\": true, \"groupCells\": 1 }' id=\"asyncTypeset\">\"\"\"\n",
    "                ]\n",
    "    \n",
    "    item_str = \"\"\"    <div class=\"carousel-cell\"> <div id=\"slide{k}\" class=\"md_view\">Content {k}</div> </div>\"\"\"\n",
    "    for k in range(1, npub + 1):\n",
    "        carousel.append(item_str.format(k=k))\n",
    "    carousel.append(\"  </div>\")\n",
    "    return '\\n'.join(carousel)\n",
    "\n",
    "def create_grid(npub=4):\n",
    "    \"\"\" Generate the HTML code for a flat grid with `npub` slides \"\"\"\n",
    "    grid = [\"\"\"  <div class=\"grid\"> \"\"\",\n",
    "                ]\n",
    "    \n",
    "    item_str = \"\"\"    <div class=\"grid-item\"> <div id=\"slide{k}\" class=\"md_view\">Content {k}</div> </div>\"\"\"\n",
    "    for k in range(1, npub + 1):\n",
    "        grid.append(item_str.format(k=k))\n",
    "    grid.append(\"  </div>\")\n",
    "    return '\\n'.join(grid)"
   ]
  },
  {
   "cell_type": "code",
   "execution_count": 13,
   "id": "a6eac5b6",
   "metadata": {
    "execution": {
     "iopub.execute_input": "2024-11-04T04:12:07.024620Z",
     "iopub.status.busy": "2024-11-04T04:12:07.024196Z",
     "iopub.status.idle": "2024-11-04T04:12:07.029284Z",
     "shell.execute_reply": "2024-11-04T04:12:07.028651Z"
    },
    "papermill": {
     "duration": 0.012105,
     "end_time": "2024-11-04T04:12:07.030347",
     "exception": false,
     "start_time": "2024-11-04T04:12:07.018242",
     "status": "completed"
    },
    "scrolled": false,
    "tags": []
   },
   "outputs": [],
   "source": [
    "carousel = create_carousel(npub)\n",
    "docs = ', '.join(['\"{0:s}\"'.format(k.split('/')[-1]) for k in res])\n",
    "slides = ', '.join([f'\"slide{k}\"' for k in range(1, npub + 1)])\n",
    "\n",
    "with open(\"daily_template.html\", \"r\") as tpl:\n",
    "    page = tpl.read()\n",
    "    page = page.replace(\"{%-- carousel:s --%}\", carousel)\\\n",
    "               .replace(\"{%-- suptitle:s --%}\",  \"7-day archives\" )\\\n",
    "               .replace(\"{%-- docs:s --%}\", docs)\\\n",
    "               .replace(\"{%-- slides:s --%}\", slides)\n",
    "    \n",
    "with open(\"_build/html/index_7days.html\", 'w') as fout:\n",
    "    fout.write(page)"
   ]
  },
  {
   "cell_type": "code",
   "execution_count": 14,
   "id": "adc1a1ec",
   "metadata": {
    "execution": {
     "iopub.execute_input": "2024-11-04T04:12:07.042180Z",
     "iopub.status.busy": "2024-11-04T04:12:07.041653Z",
     "iopub.status.idle": "2024-11-04T04:12:07.048172Z",
     "shell.execute_reply": "2024-11-04T04:12:07.047557Z"
    },
    "papermill": {
     "duration": 0.013463,
     "end_time": "2024-11-04T04:12:07.049204",
     "exception": false,
     "start_time": "2024-11-04T04:12:07.035741",
     "status": "completed"
    },
    "tags": []
   },
   "outputs": [
    {
     "name": "stdout",
     "output_type": "stream",
     "text": [
      "1  publications in the last day.\n"
     ]
    }
   ],
   "source": [
    "# redo for today\n",
    "days = 1\n",
    "res = list(get_last_n_days(dates, days))\n",
    "npub = len(res)\n",
    "print(len(res), f\" publications in the last day.\")\n",
    "\n",
    "carousel = create_carousel(npub)\n",
    "docs = ', '.join(['\"{0:s}\"'.format(k.split('/')[-1]) for k in res])\n",
    "slides = ', '.join([f'\"slide{k}\"' for k in range(1, npub + 1)])\n",
    "\n",
    "with open(\"daily_template.html\", \"r\") as tpl:\n",
    "    page = tpl.read()\n",
    "    page = page.replace(\"{%-- carousel:s --%}\", carousel)\\\n",
    "               .replace(\"{%-- suptitle:s --%}\",  \"Daily\" )\\\n",
    "               .replace(\"{%-- docs:s --%}\", docs)\\\n",
    "               .replace(\"{%-- slides:s --%}\", slides)\n",
    "    \n",
    "# print(carousel, docs, slides)\n",
    "# print(page)\n",
    "with open(\"_build/html/index_daily.html\", 'w') as fout:\n",
    "    fout.write(page)"
   ]
  },
  {
   "cell_type": "code",
   "execution_count": 15,
   "id": "00eece82",
   "metadata": {
    "execution": {
     "iopub.execute_input": "2024-11-04T04:12:07.061388Z",
     "iopub.status.busy": "2024-11-04T04:12:07.060975Z",
     "iopub.status.idle": "2024-11-04T04:12:07.067406Z",
     "shell.execute_reply": "2024-11-04T04:12:07.066794Z"
    },
    "papermill": {
     "duration": 0.013609,
     "end_time": "2024-11-04T04:12:07.068480",
     "exception": false,
     "start_time": "2024-11-04T04:12:07.054871",
     "status": "completed"
    },
    "scrolled": false,
    "tags": []
   },
   "outputs": [
    {
     "name": "stdout",
     "output_type": "stream",
     "text": [
      "6  6 publications selected.\n"
     ]
    }
   ],
   "source": [
    "# Create the flat grid of the last N papers (fixed number regardless of dates)\n",
    "from itertools import islice \n",
    "\n",
    "npub = 6\n",
    "res = [k[0] for k in (islice(reversed(sorted(dates, key=lambda x: x[1])), 6))]\n",
    "print(len(res), f\" {npub} publications selected.\")\n",
    "\n",
    "grid = create_grid(npub)\n",
    "docs = ', '.join(['\"{0:s}\"'.format(k.split('/')[-1]) for k in res])\n",
    "slides = ', '.join([f'\"slide{k}\"' for k in range(1, npub + 1)])\n",
    "\n",
    "with open(\"grid_template.html\", \"r\") as tpl:\n",
    "    page = tpl.read()\n",
    "    page = page.replace(\"{%-- grid-content:s --%}\", grid)\\\n",
    "               .replace(\"{%-- suptitle:s --%}\",  f\"Last {npub:,d} papers\" )\\\n",
    "               .replace(\"{%-- docs:s --%}\", docs)\\\n",
    "               .replace(\"{%-- slides:s --%}\", slides)\n",
    "    \n",
    "# print(grid, docs, slides)\n",
    "# print(page)\n",
    "with open(\"_build/html/index_npub_grid.html\", 'w') as fout:\n",
    "    fout.write(page)"
   ]
  }
 ],
 "metadata": {
  "kernelspec": {
   "display_name": "Python 3 (ipykernel)",
   "language": "python",
   "name": "python3"
  },
  "language_info": {
   "codemirror_mode": {
    "name": "ipython",
    "version": 3
   },
   "file_extension": ".py",
   "mimetype": "text/x-python",
   "name": "python",
   "nbconvert_exporter": "python",
   "pygments_lexer": "ipython3",
   "version": "3.9.20"
  },
  "papermill": {
   "default_parameters": {},
   "duration": 54.18079,
   "end_time": "2024-11-04T04:12:07.290461",
   "environment_variables": {},
   "exception": null,
   "input_path": "MPIA daily digest.ipynb",
   "output_path": "log.ipynb",
   "parameters": {},
   "start_time": "2024-11-04T04:11:13.109671",
   "version": "2.6.0"
  },
  "vscode": {
   "interpreter": {
    "hash": "aee8b7b246df8f9039afb4144a1f6fd8d2ca17a180786b69acc140d282b71a49"
   }
  },
  "widgets": {
   "application/vnd.jupyter.widget-state+json": {
    "state": {
     "000d8f2f9e1d465db4b25125bfb39a1d": {
      "model_module": "@jupyter-widgets/controls",
      "model_module_version": "2.0.0",
      "model_name": "HTMLModel",
      "state": {
       "_dom_classes": [],
       "_model_module": "@jupyter-widgets/controls",
       "_model_module_version": "2.0.0",
       "_model_name": "HTMLModel",
       "_view_count": null,
       "_view_module": "@jupyter-widgets/controls",
       "_view_module_version": "2.0.0",
       "_view_name": "HTMLView",
       "description": "",
       "description_allow_html": false,
       "layout": "IPY_MODEL_f714f862c5af41738ac58ab00314ac9f",
       "placeholder": "​",
       "style": "IPY_MODEL_7d3a6e7d31834ca6aedbe52f933ed0f7",
       "tabbable": null,
       "tooltip": null,
       "value": "100%"
      }
     },
     "287577c0118047249dce2dbc34c76b15": {
      "model_module": "@jupyter-widgets/base",
      "model_module_version": "2.0.0",
      "model_name": "LayoutModel",
      "state": {
       "_model_module": "@jupyter-widgets/base",
       "_model_module_version": "2.0.0",
       "_model_name": "LayoutModel",
       "_view_count": null,
       "_view_module": "@jupyter-widgets/base",
       "_view_module_version": "2.0.0",
       "_view_name": "LayoutView",
       "align_content": null,
       "align_items": null,
       "align_self": null,
       "border_bottom": null,
       "border_left": null,
       "border_right": null,
       "border_top": null,
       "bottom": null,
       "display": null,
       "flex": null,
       "flex_flow": null,
       "grid_area": null,
       "grid_auto_columns": null,
       "grid_auto_flow": null,
       "grid_auto_rows": null,
       "grid_column": null,
       "grid_gap": null,
       "grid_row": null,
       "grid_template_areas": null,
       "grid_template_columns": null,
       "grid_template_rows": null,
       "height": null,
       "justify_content": null,
       "justify_items": null,
       "left": null,
       "margin": null,
       "max_height": null,
       "max_width": null,
       "min_height": null,
       "min_width": null,
       "object_fit": null,
       "object_position": null,
       "order": null,
       "overflow": null,
       "padding": null,
       "right": null,
       "top": null,
       "visibility": null,
       "width": null
      }
     },
     "37102c4f4d994d4695091c5a90f6bd8c": {
      "model_module": "@jupyter-widgets/base",
      "model_module_version": "2.0.0",
      "model_name": "LayoutModel",
      "state": {
       "_model_module": "@jupyter-widgets/base",
       "_model_module_version": "2.0.0",
       "_model_name": "LayoutModel",
       "_view_count": null,
       "_view_module": "@jupyter-widgets/base",
       "_view_module_version": "2.0.0",
       "_view_name": "LayoutView",
       "align_content": null,
       "align_items": null,
       "align_self": null,
       "border_bottom": null,
       "border_left": null,
       "border_right": null,
       "border_top": null,
       "bottom": null,
       "display": null,
       "flex": null,
       "flex_flow": null,
       "grid_area": null,
       "grid_auto_columns": null,
       "grid_auto_flow": null,
       "grid_auto_rows": null,
       "grid_column": null,
       "grid_gap": null,
       "grid_row": null,
       "grid_template_areas": null,
       "grid_template_columns": null,
       "grid_template_rows": null,
       "height": null,
       "justify_content": null,
       "justify_items": null,
       "left": null,
       "margin": null,
       "max_height": null,
       "max_width": null,
       "min_height": null,
       "min_width": null,
       "object_fit": null,
       "object_position": null,
       "order": null,
       "overflow": null,
       "padding": null,
       "right": null,
       "top": null,
       "visibility": null,
       "width": null
      }
     },
     "440b8632a600401bbc11e8cce40fd31f": {
      "model_module": "@jupyter-widgets/controls",
      "model_module_version": "2.0.0",
      "model_name": "ProgressStyleModel",
      "state": {
       "_model_module": "@jupyter-widgets/controls",
       "_model_module_version": "2.0.0",
       "_model_name": "ProgressStyleModel",
       "_view_count": null,
       "_view_module": "@jupyter-widgets/base",
       "_view_module_version": "2.0.0",
       "_view_name": "StyleView",
       "bar_color": null,
       "description_width": ""
      }
     },
     "7d3a6e7d31834ca6aedbe52f933ed0f7": {
      "model_module": "@jupyter-widgets/controls",
      "model_module_version": "2.0.0",
      "model_name": "HTMLStyleModel",
      "state": {
       "_model_module": "@jupyter-widgets/controls",
       "_model_module_version": "2.0.0",
       "_model_name": "HTMLStyleModel",
       "_view_count": null,
       "_view_module": "@jupyter-widgets/base",
       "_view_module_version": "2.0.0",
       "_view_name": "StyleView",
       "background": null,
       "description_width": "",
       "font_size": null,
       "text_color": null
      }
     },
     "af91dbc521654f93af07c3e98d7eab45": {
      "model_module": "@jupyter-widgets/base",
      "model_module_version": "2.0.0",
      "model_name": "LayoutModel",
      "state": {
       "_model_module": "@jupyter-widgets/base",
       "_model_module_version": "2.0.0",
       "_model_name": "LayoutModel",
       "_view_count": null,
       "_view_module": "@jupyter-widgets/base",
       "_view_module_version": "2.0.0",
       "_view_name": "LayoutView",
       "align_content": null,
       "align_items": null,
       "align_self": null,
       "border_bottom": null,
       "border_left": null,
       "border_right": null,
       "border_top": null,
       "bottom": null,
       "display": null,
       "flex": null,
       "flex_flow": null,
       "grid_area": null,
       "grid_auto_columns": null,
       "grid_auto_flow": null,
       "grid_auto_rows": null,
       "grid_column": null,
       "grid_gap": null,
       "grid_row": null,
       "grid_template_areas": null,
       "grid_template_columns": null,
       "grid_template_rows": null,
       "height": null,
       "justify_content": null,
       "justify_items": null,
       "left": null,
       "margin": null,
       "max_height": null,
       "max_width": null,
       "min_height": null,
       "min_width": null,
       "object_fit": null,
       "object_position": null,
       "order": null,
       "overflow": null,
       "padding": null,
       "right": null,
       "top": null,
       "visibility": null,
       "width": null
      }
     },
     "bb599eb2edcb417298843509399eb102": {
      "model_module": "@jupyter-widgets/controls",
      "model_module_version": "2.0.0",
      "model_name": "HTMLStyleModel",
      "state": {
       "_model_module": "@jupyter-widgets/controls",
       "_model_module_version": "2.0.0",
       "_model_name": "HTMLStyleModel",
       "_view_count": null,
       "_view_module": "@jupyter-widgets/base",
       "_view_module_version": "2.0.0",
       "_view_name": "StyleView",
       "background": null,
       "description_width": "",
       "font_size": null,
       "text_color": null
      }
     },
     "cd4c9ab7187c4d9ea3c643bb6c280889": {
      "model_module": "@jupyter-widgets/controls",
      "model_module_version": "2.0.0",
      "model_name": "HBoxModel",
      "state": {
       "_dom_classes": [],
       "_model_module": "@jupyter-widgets/controls",
       "_model_module_version": "2.0.0",
       "_model_name": "HBoxModel",
       "_view_count": null,
       "_view_module": "@jupyter-widgets/controls",
       "_view_module_version": "2.0.0",
       "_view_name": "HBoxView",
       "box_style": "",
       "children": [
        "IPY_MODEL_000d8f2f9e1d465db4b25125bfb39a1d",
        "IPY_MODEL_f94e6b7b2db942c6a7b257881982315f",
        "IPY_MODEL_cf770cc5433445c2b7c403e08b0e5e5a"
       ],
       "layout": "IPY_MODEL_af91dbc521654f93af07c3e98d7eab45",
       "tabbable": null,
       "tooltip": null
      }
     },
     "cf770cc5433445c2b7c403e08b0e5e5a": {
      "model_module": "@jupyter-widgets/controls",
      "model_module_version": "2.0.0",
      "model_name": "HTMLModel",
      "state": {
       "_dom_classes": [],
       "_model_module": "@jupyter-widgets/controls",
       "_model_module_version": "2.0.0",
       "_model_name": "HTMLModel",
       "_view_count": null,
       "_view_module": "@jupyter-widgets/controls",
       "_view_module_version": "2.0.0",
       "_view_name": "HTMLView",
       "description": "",
       "description_allow_html": false,
       "layout": "IPY_MODEL_37102c4f4d994d4695091c5a90f6bd8c",
       "placeholder": "​",
       "style": "IPY_MODEL_bb599eb2edcb417298843509399eb102",
       "tabbable": null,
       "tooltip": null,
       "value": " 6/6 [00:32&lt;00:00,  3.86s/it]"
      }
     },
     "f714f862c5af41738ac58ab00314ac9f": {
      "model_module": "@jupyter-widgets/base",
      "model_module_version": "2.0.0",
      "model_name": "LayoutModel",
      "state": {
       "_model_module": "@jupyter-widgets/base",
       "_model_module_version": "2.0.0",
       "_model_name": "LayoutModel",
       "_view_count": null,
       "_view_module": "@jupyter-widgets/base",
       "_view_module_version": "2.0.0",
       "_view_name": "LayoutView",
       "align_content": null,
       "align_items": null,
       "align_self": null,
       "border_bottom": null,
       "border_left": null,
       "border_right": null,
       "border_top": null,
       "bottom": null,
       "display": null,
       "flex": null,
       "flex_flow": null,
       "grid_area": null,
       "grid_auto_columns": null,
       "grid_auto_flow": null,
       "grid_auto_rows": null,
       "grid_column": null,
       "grid_gap": null,
       "grid_row": null,
       "grid_template_areas": null,
       "grid_template_columns": null,
       "grid_template_rows": null,
       "height": null,
       "justify_content": null,
       "justify_items": null,
       "left": null,
       "margin": null,
       "max_height": null,
       "max_width": null,
       "min_height": null,
       "min_width": null,
       "object_fit": null,
       "object_position": null,
       "order": null,
       "overflow": null,
       "padding": null,
       "right": null,
       "top": null,
       "visibility": null,
       "width": null
      }
     },
     "f94e6b7b2db942c6a7b257881982315f": {
      "model_module": "@jupyter-widgets/controls",
      "model_module_version": "2.0.0",
      "model_name": "FloatProgressModel",
      "state": {
       "_dom_classes": [],
       "_model_module": "@jupyter-widgets/controls",
       "_model_module_version": "2.0.0",
       "_model_name": "FloatProgressModel",
       "_view_count": null,
       "_view_module": "@jupyter-widgets/controls",
       "_view_module_version": "2.0.0",
       "_view_name": "ProgressView",
       "bar_style": "success",
       "description": "",
       "description_allow_html": false,
       "layout": "IPY_MODEL_287577c0118047249dce2dbc34c76b15",
       "max": 6.0,
       "min": 0.0,
       "orientation": "horizontal",
       "style": "IPY_MODEL_440b8632a600401bbc11e8cce40fd31f",
       "tabbable": null,
       "tooltip": null,
       "value": 6.0
      }
     }
    },
    "version_major": 2,
    "version_minor": 0
   }
  }
 },
 "nbformat": 4,
 "nbformat_minor": 5
}