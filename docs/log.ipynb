{
 "cells": [
  {
   "cell_type": "markdown",
   "id": "92bcb855",
   "metadata": {
    "papermill": {
     "duration": 0.003962,
     "end_time": "2025-09-26T04:12:32.297313",
     "exception": false,
     "start_time": "2025-09-26T04:12:32.293351",
     "status": "completed"
    },
    "tags": []
   },
   "source": [
    "# MPIA Arxiv on Deck 2\n",
    "\n",
    "Contains the steps to produce the paper extractions."
   ]
  },
  {
   "cell_type": "code",
   "execution_count": 1,
   "id": "3a0d6e11",
   "metadata": {
    "execution": {
     "iopub.execute_input": "2025-09-26T04:12:32.304744Z",
     "iopub.status.busy": "2025-09-26T04:12:32.304426Z",
     "iopub.status.idle": "2025-09-26T04:12:32.516617Z",
     "shell.execute_reply": "2025-09-26T04:12:32.515961Z"
    },
    "papermill": {
     "duration": 0.217411,
     "end_time": "2025-09-26T04:12:32.517940",
     "exception": false,
     "start_time": "2025-09-26T04:12:32.300529",
     "status": "completed"
    },
    "tags": []
   },
   "outputs": [],
   "source": [
    "# Imports\n",
    "import os\n",
    "from IPython.display import Markdown, display\n",
    "from tqdm.notebook import tqdm\n",
    "import warnings\n",
    "from PIL import Image \n",
    "import re\n",
    "\n",
    "# requires arxiv_on_deck_2\n",
    "\n",
    "from arxiv_on_deck_2.arxiv2 import (get_new_papers, \n",
    "                                    get_paper_from_identifier,\n",
    "                                    retrieve_document_source, \n",
    "                                    get_markdown_badge)\n",
    "from arxiv_on_deck_2 import (latex,\n",
    "                             latex_bib,\n",
    "                             mpia,\n",
    "                             highlight_authors_in_list)\n",
    "\n",
    "# Sometimes images are really big\n",
    "Image.MAX_IMAGE_PIXELS = 1000000000 "
   ]
  },
  {
   "cell_type": "code",
   "execution_count": 2,
   "id": "22aa9d44",
   "metadata": {
    "execution": {
     "iopub.execute_input": "2025-09-26T04:12:32.525102Z",
     "iopub.status.busy": "2025-09-26T04:12:32.524839Z",
     "iopub.status.idle": "2025-09-26T04:12:32.532728Z",
     "shell.execute_reply": "2025-09-26T04:12:32.532215Z"
    },
    "papermill": {
     "duration": 0.012503,
     "end_time": "2025-09-26T04:12:32.533744",
     "exception": false,
     "start_time": "2025-09-26T04:12:32.521241",
     "status": "completed"
    },
    "tags": []
   },
   "outputs": [],
   "source": [
    "# Some useful definitions.\n",
    "\n",
    "class AffiliationWarning(UserWarning):\n",
    "    pass\n",
    "\n",
    "class AffiliationError(RuntimeError):\n",
    "    pass\n",
    "\n",
    "def validation(source: str):\n",
    "    \"\"\"Raises error paper during parsing of source file\n",
    "    \n",
    "    Allows checks before parsing TeX code.\n",
    "    \n",
    "    Raises AffiliationWarning\n",
    "    \"\"\"\n",
    "    check = mpia.affiliation_verifications(source, verbose=True)\n",
    "    if check is not True:\n",
    "        raise AffiliationError(\"mpia.affiliation_verifications: \" + check)\n",
    "\n",
    "        \n",
    "warnings.simplefilter('always', AffiliationWarning)\n",
    "\n",
    "\n",
    "def get_markdown_qrcode(paper_id: str):\n",
    "    \"\"\" Generate a qrcode to the arxiv page using qrserver.com\n",
    "    \n",
    "    :param paper: Arxiv paper\n",
    "    :returns: markdown text\n",
    "    \"\"\"\n",
    "    url = r\"https://api.qrserver.com/v1/create-qr-code/?size=100x100&data=\"\n",
    "    txt = f\"\"\"<img src={url}\"https://arxiv.org/abs/{paper_id}\">\"\"\"\n",
    "    txt = '<div id=\"qrcode\">' + txt + '</div>'\n",
    "    return txt\n",
    "\n",
    "\n",
    "def clean_non_western_encoded_characters_commands(text: str) -> str:\n",
    "    \"\"\" Remove non-western encoded characters from a string\n",
    "    List may need to grow.\n",
    "    \n",
    "    :param text: the text to clean\n",
    "    :return: the cleaned text\n",
    "    \"\"\"\n",
    "    text = re.sub(r\"(\\\\begin{CJK}{UTF8}{gbsn})(.*?)(\\\\end{CJK})\", r\"\\2\", text)\n",
    "    return text\n",
    "\n",
    "\n",
    "def get_initials(name: str) -> str:\n",
    "    \"\"\" Get the short name, e.g., A.-B. FamName\n",
    "    :param name: full name\n",
    "    :returns: initials\n",
    "    \"\"\"\n",
    "    initials = []\n",
    "    # account for non western names often in ()\n",
    "    if '(' in name:\n",
    "        name = clean_non_western_encoded_characters_commands(name)\n",
    "        suffix = re.findall(r\"\\((.*?)\\)\", name)[0]\n",
    "        name = name.replace(f\"({suffix})\", '')\n",
    "    else:\n",
    "        suffix = ''\n",
    "    split = name.split()\n",
    "    for token in split[:-1]:\n",
    "        if '-' in token:\n",
    "            current = '-'.join([k[0] + '.' for k in token.split('-')])\n",
    "        else:\n",
    "            current = token[0] + '.'\n",
    "        initials.append(current)\n",
    "    initials.append(split[-1].strip())\n",
    "    if suffix:\n",
    "        initials.append(f\"({suffix})\")\n",
    "    return ' '.join(initials)"
   ]
  },
  {
   "cell_type": "markdown",
   "id": "14bd6310",
   "metadata": {
    "papermill": {
     "duration": 0.002899,
     "end_time": "2025-09-26T04:12:32.539626",
     "exception": false,
     "start_time": "2025-09-26T04:12:32.536727",
     "status": "completed"
    },
    "tags": []
   },
   "source": [
    "## get list of arxiv paper candidates\n",
    "\n",
    "We use the MPIA mitarbeiter list webpage from mpia.de to get author names\n",
    "We then get all new papers from Arxiv and match authors"
   ]
  },
  {
   "cell_type": "code",
   "execution_count": 3,
   "id": "7ea813a8",
   "metadata": {
    "execution": {
     "iopub.execute_input": "2025-09-26T04:12:32.546547Z",
     "iopub.status.busy": "2025-09-26T04:12:32.546280Z",
     "iopub.status.idle": "2025-09-26T04:12:55.271937Z",
     "shell.execute_reply": "2025-09-26T04:12:55.271283Z"
    },
    "papermill": {
     "duration": 22.730566,
     "end_time": "2025-09-26T04:12:55.273217",
     "exception": false,
     "start_time": "2025-09-26T04:12:32.542651",
     "status": "completed"
    },
    "tags": []
   },
   "outputs": [],
   "source": [
    "# deal with the author list and edge cases of people that cannot be consistent on their name  \n",
    "\n",
    "def filter_non_scientists(name: str) -> bool:\n",
    "    \"\"\" Loose filter on expected authorships\n",
    "\n",
    "    removing IT, administration, technical staff\n",
    "    :param name: name\n",
    "    :returns: False if name is not a scientist\n",
    "    \"\"\"\n",
    "    remove_list = ['Licht', 'Binroth', 'Witzel', 'Jordan',\n",
    "                   'Zähringer', 'Scheerer', 'Hoffmann', 'Düe',\n",
    "                   'Hellmich', 'Enkler-Scharpegge', 'Witte-Nguy',\n",
    "                   'Dehen', 'Beckmann', 'Jager', 'Jäger'\n",
    "                  ]\n",
    "\n",
    "    for k in remove_list:\n",
    "        if k in name:\n",
    "            return False\n",
    "    return True\n",
    "\n",
    "def add_author_to_list(author_list: list) -> list:\n",
    "    \"\"\" Add author to list if not already in list\n",
    "    \n",
    "    :param author: author name\n",
    "    :param author_list: list of authors\n",
    "    :returns: updated list of authors\n",
    "    \"\"\"\n",
    "    add_list = ['T. Henning']\n",
    "\n",
    "    for author in add_list:\n",
    "        if author not in author_list:\n",
    "            author_list.append(author)\n",
    "    return author_list\n",
    "\n",
    "# get list from MPIA website\n",
    "# filter for non-scientists (mpia.get_mpia_mitarbeiter_list() does some filtering)\n",
    "mpia_authors = [k[1] for k in mpia.get_mpia_mitarbeiter_list() if filter_non_scientists(k[1])]\n",
    "# add some missing author because of inconsistencies in their MPIA name and author name on papers\n",
    "mpia_authors = add_author_to_list(mpia_authors)"
   ]
  },
  {
   "cell_type": "code",
   "execution_count": 4,
   "id": "2645e73a",
   "metadata": {
    "execution": {
     "iopub.execute_input": "2025-09-26T04:12:55.280373Z",
     "iopub.status.busy": "2025-09-26T04:12:55.280168Z",
     "iopub.status.idle": "2025-09-26T04:12:56.169046Z",
     "shell.execute_reply": "2025-09-26T04:12:56.168281Z"
    },
    "papermill": {
     "duration": 0.893638,
     "end_time": "2025-09-26T04:12:56.170188",
     "exception": false,
     "start_time": "2025-09-26T04:12:55.276550",
     "status": "completed"
    },
    "tags": []
   },
   "outputs": [
    {
     "name": "stdout",
     "output_type": "stream",
     "text": [
      "Y. Wang  ->  Y. Wang  |  ['Y. Wang']\n",
      "W. Brandner  ->  W. Brandner  |  ['W. Brandner']\n",
      "G. Chauvin  ->  G. Chauvin  |  ['G. Chauvin']\n",
      "P. Garcia  ->  A. P. Garcia  |  ['P. Garcia']\n",
      "T. Henning  ->  T. Henning  |  ['T. Henning']\n",
      "L. Kreidberg  ->  L. Kreidberg  |  ['L. Kreidberg']\n"
     ]
    },
    {
     "name": "stdout",
     "output_type": "stream",
     "text": [
      "Y. Wang  ->  Y. Wang  |  ['Y. Wang']\n",
      "Arxiv has 79 new papers today\n",
      "          3 with possible author matches\n"
     ]
    }
   ],
   "source": [
    "new_papers = get_new_papers()\n",
    "# add manual references\n",
    "add_paper_refs = []\n",
    "new_papers.extend([get_paper_from_identifier(k) for k in add_paper_refs])\n",
    "\n",
    "def robust_call(fn, value, *args, **kwargs):\n",
    "    try:\n",
    "        return fn(value, *args, **kwargs)\n",
    "    except Exception:\n",
    "        return value\n",
    "\n",
    "candidates = []\n",
    "for paperk in new_papers:\n",
    "    # Check author list with their initials\n",
    "    normed_author_list = [robust_call(mpia.get_initials, k) for k in paperk['authors']]\n",
    "    hl_authors = highlight_authors_in_list(normed_author_list, mpia_authors, verbose=True)\n",
    "    matches = [(hl, orig) for hl, orig in zip(hl_authors, paperk['authors']) if 'mark' in hl]\n",
    "    paperk['authors'] = hl_authors\n",
    "    if matches:\n",
    "        # only select paper if an author matched our list\n",
    "        candidates.append(paperk)\n",
    "print(\"\"\"Arxiv has {0:,d} new papers today\"\"\".format(len(new_papers)))        \n",
    "print(\"\"\"          {0:,d} with possible author matches\"\"\".format(len(candidates)))"
   ]
  },
  {
   "cell_type": "markdown",
   "id": "3543b34a",
   "metadata": {
    "papermill": {
     "duration": 0.003101,
     "end_time": "2025-09-26T04:12:56.176877",
     "exception": false,
     "start_time": "2025-09-26T04:12:56.173776",
     "status": "completed"
    },
    "tags": []
   },
   "source": [
    "# Parse sources and generate relevant outputs\n",
    "\n",
    "From the candidates, we do the following steps:\n",
    "* get their tarball from ArXiv (and extract data)\n",
    "* find the main .tex file: find one with \\documentclass{...} (sometimes it's non trivial)\n",
    "* Check affiliations with :func:`validation`, which uses :func:`mpia.affiliation_verifications`\n",
    "* If passing the affiliations: we parse the .tex source\n",
    "   * inject sub-documents into the main (flatten the main document)\n",
    "   * parse structure, extract information (title, abstract, authors, figures...)\n",
    "   * handles `\\graphicspath` if provided\n",
    "* Generate the .md document."
   ]
  },
  {
   "cell_type": "code",
   "execution_count": 5,
   "id": "9576b79e",
   "metadata": {
    "execution": {
     "iopub.execute_input": "2025-09-26T04:12:56.183970Z",
     "iopub.status.busy": "2025-09-26T04:12:56.183710Z",
     "iopub.status.idle": "2025-09-26T04:13:15.531873Z",
     "shell.execute_reply": "2025-09-26T04:13:15.531086Z"
    },
    "papermill": {
     "duration": 19.353087,
     "end_time": "2025-09-26T04:13:15.533025",
     "exception": false,
     "start_time": "2025-09-26T04:12:56.179938",
     "status": "completed"
    },
    "scrolled": false,
    "tags": []
   },
   "outputs": [
    {
     "data": {
      "application/vnd.jupyter.widget-view+json": {
       "model_id": "c168a9e987064c529b1bfcb5be0e55d0",
       "version_major": 2,
       "version_minor": 0
      },
      "text/plain": [
       "  0%|          | 0/3 [00:00<?, ?it/s]"
      ]
     },
     "metadata": {},
     "output_type": "display_data"
    },
    {
     "name": "stdout",
     "output_type": "stream",
     "text": [
      "Retrieving document from  https://arxiv.org/e-print/2509.20444\n"
     ]
    },
    {
     "name": "stdout",
     "output_type": "stream",
     "text": [
      "extracting tarball to tmp_2509.20444... done.\n",
      "Retrieving document from  https://arxiv.org/e-print/2509.20621\n"
     ]
    },
    {
     "name": "stdout",
     "output_type": "stream",
     "text": [
      "extracting tarball to tmp_2509.20621... done.\n"
     ]
    },
    {
     "name": "stdout",
     "output_type": "stream",
     "text": [
      "Found 69 bibliographic references in tmp_2509.20621/main.bbl.\n",
      "Issues with the citations\n",
      "syntax error in line 5: unbalanced braces\n",
      "Retrieving document from  https://arxiv.org/e-print/2509.21299\n"
     ]
    },
    {
     "name": "stdout",
     "output_type": "stream",
     "text": [
      "extracting tarball to tmp_2509.21299... done.\n"
     ]
    }
   ],
   "source": [
    "documents = []\n",
    "failed = []\n",
    "for paper in tqdm(candidates):\n",
    "    # debug crap\n",
    "    paper['identifier'] = paper['identifier'].lower().replace('arxiv:', '').replace(r'\\n', '').strip()\n",
    "    paper_id = paper['identifier']\n",
    "    \n",
    "    folder = f'tmp_{paper_id}'\n",
    "\n",
    "    try:\n",
    "        if not os.path.isdir(folder):\n",
    "            folder = retrieve_document_source(f\"{paper_id}\", f'tmp_{paper_id}')\n",
    "        \n",
    "        try:\n",
    "            doc = latex.LatexDocument(folder, validation=validation)    \n",
    "        except AffiliationError as affilerror:\n",
    "            msg = f\"ArXiv:{paper_id:s} is not an MPIA paper... \" + str(affilerror)\n",
    "            failed.append((paper, \"affiliation error: \" + str(affilerror) ))\n",
    "            continue\n",
    "        \n",
    "        # Hack because sometimes author parsing does not work well\n",
    "        if (len(doc.authors) != len(paper['authors'])):\n",
    "            doc._authors = paper['authors']\n",
    "        else:\n",
    "            # highlight authors (FIXME: doc.highlight_authors)\n",
    "            # done on arxiv paper already\n",
    "            doc._authors = highlight_authors_in_list(\n",
    "                [get_initials(k) for k in doc.authors], \n",
    "                mpia_authors, verbose=True)\n",
    "        if (doc.abstract) in (None, ''):\n",
    "            doc._abstract = paper['abstract']\n",
    "            \n",
    "        doc.comment = (get_markdown_badge(paper_id) + \n",
    "                       \"<mark>Appeared on: \" + paper['date'] + \"</mark> - \")\n",
    "        if paper['comments']:\n",
    "            doc.comment += \" _\" + paper['comments'] + \"_\"\n",
    "        \n",
    "        full_md = doc.generate_markdown_text()\n",
    "        \n",
    "        full_md += get_markdown_qrcode(paper_id)\n",
    "        \n",
    "        # replace citations\n",
    "        try:\n",
    "            bibdata = latex_bib.LatexBib.from_doc(doc)\n",
    "            full_md = latex_bib.replace_citations(full_md, bibdata)\n",
    "        except Exception as e:\n",
    "            print(\"Issues with the citations\")\n",
    "            print(e)\n",
    "        \n",
    "        documents.append((paper_id, full_md))\n",
    "    except Exception as e:\n",
    "        warnings.warn(latex.LatexWarning(f\"{paper_id:s} did not run properly\\n\" +\n",
    "                                         str(e)\n",
    "                                        ))\n",
    "        failed.append((paper, \"latex error \" + str(e)))"
   ]
  },
  {
   "cell_type": "markdown",
   "id": "2505a25c",
   "metadata": {
    "papermill": {
     "duration": 0.003452,
     "end_time": "2025-09-26T04:13:15.540406",
     "exception": false,
     "start_time": "2025-09-26T04:13:15.536954",
     "status": "completed"
    },
    "tags": []
   },
   "source": [
    "### Export the logs\n",
    "\n",
    "Throughout, we also keep track of the logs per paper. see `logs-{today date}.md` "
   ]
  },
  {
   "cell_type": "code",
   "execution_count": 6,
   "id": "d733828a",
   "metadata": {
    "execution": {
     "iopub.execute_input": "2025-09-26T04:13:15.548487Z",
     "iopub.status.busy": "2025-09-26T04:13:15.548239Z",
     "iopub.status.idle": "2025-09-26T04:13:15.562210Z",
     "shell.execute_reply": "2025-09-26T04:13:15.561627Z"
    },
    "papermill": {
     "duration": 0.019327,
     "end_time": "2025-09-26T04:13:15.563234",
     "exception": false,
     "start_time": "2025-09-26T04:13:15.543907",
     "status": "completed"
    },
    "scrolled": false,
    "tags": []
   },
   "outputs": [
    {
     "data": {
      "text/markdown": [
       "## Successful papers"
      ],
      "text/plain": [
       "<IPython.core.display.Markdown object>"
      ]
     },
     "metadata": {},
     "output_type": "display_data"
    },
    {
     "data": {
      "text/markdown": [
       "\n",
       "|||\n",
       "|---:|:---|\n",
       "| [![arXiv](https://img.shields.io/badge/arXiv-2509.20621-b31b1b.svg)](https://arxiv.org/abs/2509.20621) | **Constraints on the Orbit of the Young Substellar Companion GQ Lup B from High-Resolution Spectroscopy and VLTI/GRAVITY Astrometry**  |\n",
       "|| V. Venkatesan, et al. -- incl., <mark>W. Brandner</mark>, <mark>G. Chauvin</mark>, <mark>P. Garcia</mark>, <mark>T. Henning</mark>, <mark>L. Kreidberg</mark> |\n",
       "|*Appeared on*| *2025-09-26*|\n",
       "|*Comments*| *15 pages, 5 figures, Accepted to ApJ*|\n",
       "|**Abstract**|            Understanding the orbits of giant planets is critical for testing planet formation models, particularly at wide separations greater than 10 au where traditional core accretion becomes inefficient. However, constraining orbits at these separations has been challenging because of sparse orbital coverage and degeneracies in the orbital parameters. We use existing high-resolution spectroscopic measurements from CRIRES+ (R ~ 100000), astrometric data from SPHERE, NACO, and ALMA, and new high-precision GRAVITY astrometry to refine the orbit of GQ Lup B, a ~30 M_J companion at ~100 au, in a system that also hosts a circumstellar disk and a wide companion, GQ Lup C. Including radial velocity data significantly improves orbital constraints by breaking the degeneracy between inclination and eccentricity that affects astrometry-only fits for long-period companions. This work is among the first to combine high-precision astrometry with the companion's relative radial velocity to achieve improved orbital constraints. The eccentricity is refined from e = 0.47 (+0.14, -0.16) with GRAVITY alone to e = 0.35 (+0.10, -0.09) when RVs and GRAVITY data are combined. The orbit is misaligned by 63 (+6, -14) deg relative to the circumstellar disk and 52 (+19, -24) deg relative to the host star spin axis, and is more consistent (34 (+6, -13) deg) with the inclination of the wide tertiary companion GQ Lup C disk. These results support a formation scenario for GQ Lup B consistent with cloud fragmentation and highlight the power of combining companion RV constraints with interferometric astrometry to probe the dynamics and formation of wide-orbit substellar companions.         |"
      ],
      "text/plain": [
       "[2509.20621] Constraints on the Orbit of the Young Substellar Companion GQ Lup B from High-Resolution Spectroscopy and VLTI/GRAVITY Astrometry\n",
       "\tV. Venkatesan, et al. -- incl., <mark>W. Brandner</mark>, <mark>G. Chauvin</mark>, <mark>P. Garcia</mark>, <mark>T. Henning</mark>, <mark>L. Kreidberg</mark>"
      ]
     },
     "metadata": {},
     "output_type": "display_data"
    },
    {
     "data": {
      "text/markdown": [
       "## Failed papers"
      ],
      "text/plain": [
       "<IPython.core.display.Markdown object>"
      ]
     },
     "metadata": {},
     "output_type": "display_data"
    },
    {
     "data": {
      "text/markdown": [
       "\n",
       "|||\n",
       "|---:|:---|\n",
       "| [![arXiv](https://img.shields.io/badge/arXiv-2509.20444-b31b1b.svg)](https://arxiv.org/abs/2509.20444) | **SAGAbg III: Environmental Stellar Mass Functions, Self-Quenching, and the Stellar-to-Halo Mass Relation in the Dwarf Galaxy Regime**  |\n",
       "|| E. Kado-Fong, et al. -- incl., <mark>Y. Wang</mark> |\n",
       "|*Appeared on*| *2025-09-26*|\n",
       "|*Comments*| *34 pages, 12 figures, 6 pages; submitted to ApJ*|\n",
       "|**Abstract**|            Recent efforts have extended our view of the number and properties of satellite galaxies beyond the Local Group firmly down to $\\rm M_\\star\\sim 10^6 M_\\odot$. A similarly complete view of the field dwarf population has lagged behind. Using the background galaxies sample from the Satellites Around Galactic Analogs (SAGA) Survey at $z<0.05$, we take inventory of the dwarf population down to $\\rm M_\\star \\sim 5\\times10^6 M_\\odot$ using three metrics: the stellar mass function (SMF) as function of environment, the stellar-to-halo mass relation (SHMR) of dwarf galaxies inferred via abundance matching, and the quenched fraction of highly isolated dwarfs. We find that the low-mass SMF shape shows minimal environmental dependence, with the field dwarf SMF described by a low-mass power-law index of $\\alpha_1=-1.44\\pm0.09$ down to $\\rm M_\\star \\sim 5\\times10^6 M_\\odot$, and that the quenched fraction of isolated dwarfs drops monotonically to $f_{q} \\sim 10^{-3}$ at $\\rm M_\\star \\sim \\rm 10^{8.5} M_\\odot$. Though slightly steeper than estimates from \\HI{} kinematic measures, our inferred SHMR agrees with literature measurements of satellite systems, consistent with minimal environmental dependence of the SHMR in the probed mass range. Finally, although most contemporary cosmological simulations against which we compare accurately predict the \\sagalocal{} SHMR, we find that big-box cosmological simulations largely over-predict isolated galaxy quenched fractions via a turnaround in $f_q(\\rm M_\\star)$ at $\\rm 10^8\\lesssim M_\\star/M_\\odot\\lesssim 10^9$, underscoring the complexities in disentangling the drivers of galaxy formation and the need for systematic multidimensional observations of the dwarf population across environments.         |\n",
       "|<p style=\"color:green\"> **ERROR** </p>| <p style=\"color:green\">affiliation error: mpia.affiliation_verifications: 'Heidelberg' keyword not found.</p> |"
      ],
      "text/plain": [
       "<IPython.core.display.Markdown object>"
      ]
     },
     "metadata": {},
     "output_type": "display_data"
    },
    {
     "data": {
      "text/markdown": [
       "\n",
       "|||\n",
       "|---:|:---|\n",
       "| [![arXiv](https://img.shields.io/badge/arXiv-2509.21299-b31b1b.svg)](https://arxiv.org/abs/2509.21299) | **Outflow-cloud interaction as the possible origin of the peculiar radio emission in the tidal disruption event AT2018cqh**  |\n",
       "|| L. Yang, et al. -- incl., <mark>Y. Wang</mark> |\n",
       "|*Appeared on*| *2025-09-26*|\n",
       "|*Comments*| *12 pages, 6 figures, accepted for publication in ApJL*|\n",
       "|**Abstract**|            AT2018cqh is a unique optical tidal disruption event (TDE) discovered in a dwarf galaxy exhibiting delayed X-ray and radio flares. We present the results from high-resolution VLBA and e-MERLIN radio observations of AT2018cqh extending to $\\delta$t $\\sim$ 2250 days post discovery, which reveal a compact radio emission, unresolved at a scale of <~ 0.13 pc at 7.6 GHz, with a high brightness temperature of $T_b$ ~> 4.03 $\\times$ 10$^{9}$ K. The radio spectral energy distribution (SED) is found to gradually shift towards a higher peak flux density and frequency over a period of $\\sim$1000 days. An equipartition analysis suggests that there is a little change in the radio emitting region over this period, while the electron density increases by a factor of 3. The radio light curve at 0.89 GHz continues to rise, with a bump feature lasting for 240 days. These properties are in contrast to the predictions of standard shockwave model from a diffuse circumnuclear medium, but could be explained if dense clouds exist in the circumnuclear environment. The latter scenario is supported by our hydrodynamic simulations of the interaction of TDE outflow with a cloud, which can reproduce the temporal evolution in the radio SED. This work highlights the importance of the outflow-cloud interaction in explaining the delayed, fast-rising radio emission observed in some TDEs, especially those occurring in galaxies with pre-existing AGN activity.         |\n",
       "|<p style=\"color:green\"> **ERROR** </p>| <p style=\"color:green\">affiliation error: mpia.affiliation_verifications: 'Heidelberg' keyword not found.</p> |"
      ],
      "text/plain": [
       "<IPython.core.display.Markdown object>"
      ]
     },
     "metadata": {},
     "output_type": "display_data"
    }
   ],
   "source": [
    "import datetime\n",
    "today = str(datetime.date.today())\n",
    "logfile = f\"_build/html/logs/log-{today}.md\"\n",
    "\n",
    "\n",
    "with open(logfile, 'w') as logs:\n",
    "    # Success\n",
    "    logs.write(f'# Arxiv on Deck 2: Logs - {today}\\n\\n')\n",
    "    logs.write(\"\"\"* Arxiv had {0:,d} new papers\\n\"\"\".format(len(new_papers)))\n",
    "    logs.write(\"\"\"    * {0:,d} with possible author matches\\n\\n\"\"\".format(len(candidates)))\n",
    "    logs.write(\"## Sucessful papers\\n\\n\")\n",
    "    display(Markdown(\"## Successful papers\"))\n",
    "    success = [k[0] for k in documents]\n",
    "    for candid in candidates:\n",
    "        if candid['identifier'].split(':')[-1] in success:\n",
    "            display(candid)\n",
    "            logs.write(candid.generate_markdown_text() + '\\n\\n')\n",
    "\n",
    "    ## failed\n",
    "    logs.write(\"## Failed papers\\n\\n\")\n",
    "    display(Markdown(\"## Failed papers\"))\n",
    "    failed = sorted(failed, key=lambda x: x[1])\n",
    "    current_reason = \"\"\n",
    "    for paper, reason in failed:\n",
    "        if 'affiliation' in reason:\n",
    "            color = 'green'\n",
    "        else:\n",
    "            color = 'red'\n",
    "        data = Markdown(\n",
    "                paper.generate_markdown_text() + \n",
    "                f'\\n|<p style=\"color:{color:s}\"> **ERROR** </p>| <p style=\"color:{color:s}\">{reason:s}</p> |'\n",
    "               )\n",
    "        if reason != current_reason:\n",
    "            logs.write(f'### {reason:s} \\n\\n')\n",
    "            current_reason = reason\n",
    "        logs.write(data.data + '\\n\\n')\n",
    "        \n",
    "        # only display here the important errors (all in logs)\n",
    "        # if color in ('red',):\n",
    "        display(data)"
   ]
  },
  {
   "cell_type": "markdown",
   "id": "472d20ee",
   "metadata": {
    "papermill": {
     "duration": 0.003919,
     "end_time": "2025-09-26T04:13:15.571318",
     "exception": false,
     "start_time": "2025-09-26T04:13:15.567399",
     "status": "completed"
    },
    "tags": []
   },
   "source": [
    "## Export documents\n",
    "\n",
    "We now write the .md files and export relevant images"
   ]
  },
  {
   "cell_type": "code",
   "execution_count": 7,
   "id": "d426aed9",
   "metadata": {
    "execution": {
     "iopub.execute_input": "2025-09-26T04:13:15.580140Z",
     "iopub.status.busy": "2025-09-26T04:13:15.579917Z",
     "iopub.status.idle": "2025-09-26T04:13:15.586927Z",
     "shell.execute_reply": "2025-09-26T04:13:15.586254Z"
    },
    "papermill": {
     "duration": 0.012634,
     "end_time": "2025-09-26T04:13:15.587969",
     "exception": false,
     "start_time": "2025-09-26T04:13:15.575335",
     "status": "completed"
    },
    "tags": []
   },
   "outputs": [],
   "source": [
    "def export_markdown_summary(md: str, md_fname:str, directory: str):\n",
    "    \"\"\"Export MD document and associated relevant images\"\"\"\n",
    "    import os\n",
    "    import shutil\n",
    "    import re\n",
    "\n",
    "    if (os.path.exists(directory) and not os.path.isdir(directory)):\n",
    "        raise RuntimeError(f\"a non-directory file exists with name {directory:s}\")\n",
    "\n",
    "    if (not os.path.exists(directory)):\n",
    "        print(f\"creating directory {directory:s}\")\n",
    "        os.mkdir(directory)\n",
    "\n",
    "    fig_fnames = (re.compile(r'\\[Fig.*\\]\\((.*)\\)').findall(md) + \n",
    "                  re.compile(r'\\<img src=\"([^>\\s]*)\"[^>]*/>').findall(md))\n",
    "    print(\"found figures\", fig_fnames)\n",
    "    for fname in fig_fnames:\n",
    "        if 'http' in fname:\n",
    "            # No need to copy online figures\n",
    "            continue\n",
    "        if not os.path.exists(fname):\n",
    "            print(\"file not found\", fname)\n",
    "            continue\n",
    "        print(\"copying \", fname, \"to\", directory)\n",
    "        destdir = os.path.join(directory, os.path.dirname(fname))\n",
    "        destfname = os.path.join(destdir, os.path.basename(fname))\n",
    "        try:\n",
    "            os.makedirs(destdir)\n",
    "        except FileExistsError:\n",
    "            pass\n",
    "        shutil.copy(fname, destfname)\n",
    "    with open(os.path.join(directory, md_fname), 'w') as fout:\n",
    "        fout.write(md)\n",
    "    print(\"exported in \", os.path.join(directory, md_fname))\n",
    "    [print(\"    + \" + os.path.join(directory,fk)) for fk in fig_fnames]"
   ]
  },
  {
   "cell_type": "code",
   "execution_count": 8,
   "id": "014d04a4",
   "metadata": {
    "execution": {
     "iopub.execute_input": "2025-09-26T04:13:15.596806Z",
     "iopub.status.busy": "2025-09-26T04:13:15.596571Z",
     "iopub.status.idle": "2025-09-26T04:13:15.603326Z",
     "shell.execute_reply": "2025-09-26T04:13:15.602779Z"
    },
    "papermill": {
     "duration": 0.012328,
     "end_time": "2025-09-26T04:13:15.604344",
     "exception": false,
     "start_time": "2025-09-26T04:13:15.592016",
     "status": "completed"
    },
    "tags": []
   },
   "outputs": [
    {
     "name": "stdout",
     "output_type": "stream",
     "text": [
      "found figures ['tmp_2509.20621/./ecc_inc_4panel.png', 'tmp_2509.20621/./combined_contour.png', 'tmp_2509.20621/./updated_orbit.png']\n",
      "copying  tmp_2509.20621/./ecc_inc_4panel.png to _build/html/\n",
      "copying  tmp_2509.20621/./combined_contour.png to _build/html/\n",
      "copying  tmp_2509.20621/./updated_orbit.png to _build/html/\n",
      "exported in  _build/html/2509.20621.md\n",
      "    + _build/html/tmp_2509.20621/./ecc_inc_4panel.png\n",
      "    + _build/html/tmp_2509.20621/./combined_contour.png\n",
      "    + _build/html/tmp_2509.20621/./updated_orbit.png\n"
     ]
    }
   ],
   "source": [
    "for paper_id, md in documents:\n",
    "    export_markdown_summary(md, f\"{paper_id:s}.md\", '_build/html/')"
   ]
  },
  {
   "cell_type": "markdown",
   "id": "f087a0a7",
   "metadata": {
    "papermill": {
     "duration": 0.004546,
     "end_time": "2025-09-26T04:13:15.613143",
     "exception": false,
     "start_time": "2025-09-26T04:13:15.608597",
     "status": "completed"
    },
    "tags": []
   },
   "source": [
    "## Display the papers\n",
    "\n",
    "Not necessary but allows for a quick check."
   ]
  },
  {
   "cell_type": "code",
   "execution_count": 9,
   "id": "fd25f625",
   "metadata": {
    "execution": {
     "iopub.execute_input": "2025-09-26T04:13:15.622132Z",
     "iopub.status.busy": "2025-09-26T04:13:15.621815Z",
     "iopub.status.idle": "2025-09-26T04:13:15.626525Z",
     "shell.execute_reply": "2025-09-26T04:13:15.625991Z"
    },
    "papermill": {
     "duration": 0.010329,
     "end_time": "2025-09-26T04:13:15.627496",
     "exception": false,
     "start_time": "2025-09-26T04:13:15.617167",
     "status": "completed"
    },
    "scrolled": false,
    "tags": []
   },
   "outputs": [
    {
     "data": {
      "text/markdown": [
       "<div class=\"macros\" style=\"visibility:hidden;\">\n",
       "$\\newcommand{\\ensuremath}{}$\n",
       "$\\newcommand{\\xspace}{}$\n",
       "$\\newcommand{\\object}[1]{\\texttt{#1}}$\n",
       "$\\newcommand{\\farcs}{{.}''}$\n",
       "$\\newcommand{\\farcm}{{.}'}$\n",
       "$\\newcommand{\\arcsec}{''}$\n",
       "$\\newcommand{\\arcmin}{'}$\n",
       "$\\newcommand{\\ion}[2]{#1#2}$\n",
       "$\\newcommand{\\textsc}[1]{\\textrm{#1}}$\n",
       "$\\newcommand{\\hl}[1]{\\textrm{#1}}$\n",
       "$\\newcommand{\\footnote}[1]{}$</div>\n",
       "\n",
       "\n",
       "\n",
       "<div id=\"title\">\n",
       "\n",
       "# Constraints on the Orbit of the Young Substellar Companion GQ Lup B from High-Resolution Spectroscopy and VLTI/GRAVITY Astrometry $\\footnote{Based on observations collected at the European Southern Observatory under ESO programmes 1104.C-0651 and 109.238N.001.}$\n",
       "\n",
       "</div>\n",
       "<div id=\"comments\">\n",
       "\n",
       "[![arXiv](https://img.shields.io/badge/arXiv-2509.20621-b31b1b.svg)](https://arxiv.org/abs/2509.20621)<mark>Appeared on: 2025-09-26</mark> -  _15 pages, 5 figures, Accepted to ApJ_\n",
       "\n",
       "</div>\n",
       "<div id=\"authors\">\n",
       "\n",
       "V. Venkatesan, et al. -- incl., <mark>W. Brandner</mark>, <mark>G. Chauvin</mark>, <mark>P. Garcia</mark>, <mark>T. Henning</mark>, <mark>L. Kreidberg</mark>\n",
       "\n",
       "</div>\n",
       "<div id=\"abstract\">\n",
       "\n",
       "**Abstract:** Understanding the orbits of giant planets is critical for testing planet formation models, particularly at wide separations ( $>$ 10 au) where traditional core accretion becomes inefficient. However, constraining orbits at these separations has historically been challenging due to sparse orbital coverage and related degeneracies in the orbital parameters. In this work, we use existing high-resolution ( $R \\sim 100{,}000$ ) spectroscopic measurements from CRIRES+, astrometric data from SPHERE, NACO, and ALMA, and combine it with new high-precision GRAVITY astrometry data to refine the orbit of GQ Lup B, a $\\sim$ 30 $M_{\\mathrm{J}}$ companion at $\\sim$ 100 au, in a system that also hosts a circumstellar disk and a wide companion, GQ Lup C. Including RV data significantly improves orbital constraints by breaking the degeneracy between inclination and eccentricity that plagues astrometry-only fits for long-period companions. Our work is one of the first to combine high-precision astrometry with the companion’s relative radial velocity measurements to achieve significantly improved orbital constraint. The eccentricity is refined from $e = 0.47^{+0.14}_{-0.16}$ (GRAVITY only) to $e = 0.35^{+0.10}_{-0.09}$ when RVs and GRAVITY data are combined. We also compute the mutual inclinations between the orbit of GQ Lup B, the circumstellar disk, the stellar spin axis, and the disk of GQ Lup C. The orbit is misaligned by $63^{+6}_{-14}^\\circ$ relative to the circumstellar disk, $52^{+19}_{-24}^\\circ$ with the host star's spin axis, but appears more consistent ( $34^{+6}_{-13}^\\circ$ ) with the inclination of the wide tertiary companion GQ Lup C's disk. These results support a formation scenario for GQ Lup B consistent with cloud fragmentation. They highlight the power of combining companion RV constraints with interferometric astrometry to probe the dynamics and formation of wide-orbit substellar companions.\n",
       "\n",
       "</div>\n",
       "\n",
       "<div id=\"div_fig1\">\n",
       "\n",
       "<img src=\"tmp_2509.20621/./ecc_inc_4panel.png\" alt=\"Fig4\" width=\"100%\"/>\n",
       "\n",
       "**Figure 4. -** Posterior eccentricity and inclination distributions for GQ Lup B based on six orbital fits (see Table \\ref{tab:fit_cases}), grouped by inclusion of GRAVITY astrometry. The histograms show the relative probability of eccentricity and inclination values. Inclusion of GRAVITY and relative RV measurements substantially tightens the constraints. While the high-precision RV case (orange) provides the narrowest distribution, it may be biased due to stellar variability or unresolved companions. The adopted blue case ({\\texttt{GRAVLowRV}}) incorporates GRAVITY astrometry and low-precision RV, offering a robust and physically plausible solution consistent with a moderately eccentric and inclined orbit. (*fig:ecc*)\n",
       "\n",
       "</div>\n",
       "<div id=\"div_fig2\">\n",
       "\n",
       "<img src=\"tmp_2509.20621/./combined_contour.png\" alt=\"Fig1\" width=\"100%\"/>\n",
       "\n",
       "**Figure 1. -** 1$\\sigma$ and 2$\\sigma$ joint posterior distributions of eccentricity and inclination for GQ Lup B under four cases (see Table \\ref{tab:fit_cases}) are shown by lines and dashed lines, respectively. The inclusion of GRAVITY astrometry significantly narrows the orbital parameter space, particularly by reducing the volume of the joint eccentricity-inclination posterior. Adding radial velocity measurements—especially in the {{\\texttt{GRAVLowRV}}} and {{\\texttt{GRAVHighRV}}} cases—further sharpens the constraints by reducing the eccentricity-inclination degeneracy, yielding a well-localized solution consistent with a moderately eccentric orbit. (*fig:contours*)\n",
       "\n",
       "</div>\n",
       "<div id=\"div_fig3\">\n",
       "\n",
       "<img src=\"tmp_2509.20621/./updated_orbit.png\" alt=\"Fig2\" width=\"100%\"/>\n",
       "\n",
       "**Figure 2. -** Orbit fit for Case \\texttt{GRAVLowRV}(see Table \\ref{tab:fit_cases}), using astrometry including GRAVITY data and low-precision radial velocity measurement. The plot shows posterior samples from the orbit fit for GQ Lup B, generated using \\texttt{orbitize!}. Blue ellipses represent 100 orbits randomly drawn from the posterior, and red points indicate the relative astrometric data. In the right panels, red points correspond to astrometric measurements from both the literature and new GRAVITY data included in the fit; gray lines trace the same 100 posterior orbits in separation and position angle. The results illustrate the power of GRAVITY data in improving the orbit solution for GQ Lup B. (*fig:orbit*)\n",
       "\n",
       "</div><div id=\"qrcode\"><img src=https://api.qrserver.com/v1/create-qr-code/?size=100x100&data=\"https://arxiv.org/abs/2509.20621\"></div>"
      ],
      "text/plain": [
       "<IPython.core.display.Markdown object>"
      ]
     },
     "metadata": {},
     "output_type": "display_data"
    }
   ],
   "source": [
    "[display(Markdown(k[1])) for k in documents];"
   ]
  },
  {
   "cell_type": "markdown",
   "id": "873873a4",
   "metadata": {
    "papermill": {
     "duration": 0.004329,
     "end_time": "2025-09-26T04:13:15.636239",
     "exception": false,
     "start_time": "2025-09-26T04:13:15.631910",
     "status": "completed"
    },
    "tags": []
   },
   "source": [
    "# Create HTML index"
   ]
  },
  {
   "cell_type": "code",
   "execution_count": 10,
   "id": "cf665672",
   "metadata": {
    "execution": {
     "iopub.execute_input": "2025-09-26T04:13:15.646151Z",
     "iopub.status.busy": "2025-09-26T04:13:15.645928Z",
     "iopub.status.idle": "2025-09-26T04:13:15.653248Z",
     "shell.execute_reply": "2025-09-26T04:13:15.652672Z"
    },
    "papermill": {
     "duration": 0.013473,
     "end_time": "2025-09-26T04:13:15.654277",
     "exception": false,
     "start_time": "2025-09-26T04:13:15.640804",
     "status": "completed"
    },
    "tags": []
   },
   "outputs": [
    {
     "name": "stdout",
     "output_type": "stream",
     "text": [
      "122  publications files modified in the last 7 days.\n"
     ]
    }
   ],
   "source": [
    "from datetime import datetime, timedelta, timezone\n",
    "from glob import glob\n",
    "import os\n",
    "\n",
    "files = glob('_build/html/*.md')\n",
    "days = 7\n",
    "now = datetime.today()\n",
    "res = []\n",
    "for fk in files:\n",
    "    stat_result = os.stat(fk).st_ctime\n",
    "    modified = datetime.fromtimestamp(stat_result, tz=timezone.utc).replace(tzinfo=None)\n",
    "    delta = now.today() - modified\n",
    "    if delta <= timedelta(days=days):\n",
    "        res.append((delta.seconds, fk))\n",
    "res = [k[1] for k in reversed(sorted(res, key=lambda x:x[1]))]\n",
    "npub = len(res)\n",
    "print(len(res), f\" publications files modified in the last {days:d} days.\")\n",
    "# [ print('\\t', k) for k in res ];"
   ]
  },
  {
   "cell_type": "code",
   "execution_count": 11,
   "id": "015de740",
   "metadata": {
    "execution": {
     "iopub.execute_input": "2025-09-26T04:13:15.663939Z",
     "iopub.status.busy": "2025-09-26T04:13:15.663710Z",
     "iopub.status.idle": "2025-09-26T04:13:15.675756Z",
     "shell.execute_reply": "2025-09-26T04:13:15.675214Z"
    },
    "papermill": {
     "duration": 0.017965,
     "end_time": "2025-09-26T04:13:15.676761",
     "exception": false,
     "start_time": "2025-09-26T04:13:15.658796",
     "status": "completed"
    },
    "tags": []
   },
   "outputs": [
    {
     "name": "stdout",
     "output_type": "stream",
     "text": [
      "5  publications in the last 7 days.\n"
     ]
    }
   ],
   "source": [
    "import datetime\n",
    "from glob import glob\n",
    "\n",
    "def get_last_n_days(lst, days=1):\n",
    "    \"\"\" Get the documents from the last n days \"\"\"\n",
    "    sorted_lst = sorted(lst, key=lambda x: x[1], reverse=True)\n",
    "    for fname, date in sorted_lst:\n",
    "        if date >= str(datetime.date.today() - datetime.timedelta(days=days)):\n",
    "            yield fname\n",
    "\n",
    "def extract_appearance_dates(lst_file):\n",
    "    dates = []\n",
    "\n",
    "    def get_date(line):\n",
    "        return line\\\n",
    "            .split('Appeared on:')[-1]\\\n",
    "            .split('</mark>')[0].strip()\n",
    "\n",
    "    for fname in lst:\n",
    "        with open(fname, 'r') as f:\n",
    "            found_date = False\n",
    "            for line in f:\n",
    "                if not found_date:\n",
    "                    if \"Appeared on\" in line:\n",
    "                        found_date = True\n",
    "                        dates.append((fname, get_date(line)))\n",
    "                else:\n",
    "                    break\n",
    "    return dates\n",
    "\n",
    "from glob import glob\n",
    "lst = glob('_build/html/*md')\n",
    "days = 7\n",
    "dates = extract_appearance_dates(lst)\n",
    "res = list(get_last_n_days(dates, days))\n",
    "npub = len(res)\n",
    "print(len(res), f\" publications in the last {days:d} days.\")"
   ]
  },
  {
   "cell_type": "code",
   "execution_count": 12,
   "id": "52ca0208",
   "metadata": {
    "execution": {
     "iopub.execute_input": "2025-09-26T04:13:15.686730Z",
     "iopub.status.busy": "2025-09-26T04:13:15.686531Z",
     "iopub.status.idle": "2025-09-26T04:13:15.691211Z",
     "shell.execute_reply": "2025-09-26T04:13:15.690671Z"
    },
    "papermill": {
     "duration": 0.010903,
     "end_time": "2025-09-26T04:13:15.692226",
     "exception": false,
     "start_time": "2025-09-26T04:13:15.681323",
     "status": "completed"
    },
    "scrolled": false,
    "tags": []
   },
   "outputs": [],
   "source": [
    "def create_carousel(npub=4):\n",
    "    \"\"\" Generate the HTML code for a carousel with `npub` slides \"\"\"\n",
    "    carousel = [\"\"\"  <div class=\"carousel\" \"\"\",\n",
    "                \"\"\"       data-flickity='{ \"autoPlay\": 10000, \"adaptiveHeight\": true, \"resize\": true, \"wrapAround\": true, \"pauseAutoPlayOnHover\": true, \"groupCells\": 1 }' id=\"asyncTypeset\">\"\"\"\n",
    "                ]\n",
    "    \n",
    "    item_str = \"\"\"    <div class=\"carousel-cell\"> <div id=\"slide{k}\" class=\"md_view\">Content {k}</div> </div>\"\"\"\n",
    "    for k in range(1, npub + 1):\n",
    "        carousel.append(item_str.format(k=k))\n",
    "    carousel.append(\"  </div>\")\n",
    "    return '\\n'.join(carousel)\n",
    "\n",
    "def create_grid(npub=4):\n",
    "    \"\"\" Generate the HTML code for a flat grid with `npub` slides \"\"\"\n",
    "    grid = [\"\"\"  <div class=\"grid\"> \"\"\",\n",
    "                ]\n",
    "    \n",
    "    item_str = \"\"\"    <div class=\"grid-item\"> <div id=\"slide{k}\" class=\"md_view\">Content {k}</div> </div>\"\"\"\n",
    "    for k in range(1, npub + 1):\n",
    "        grid.append(item_str.format(k=k))\n",
    "    grid.append(\"  </div>\")\n",
    "    return '\\n'.join(grid)"
   ]
  },
  {
   "cell_type": "code",
   "execution_count": 13,
   "id": "a6eac5b6",
   "metadata": {
    "execution": {
     "iopub.execute_input": "2025-09-26T04:13:15.702085Z",
     "iopub.status.busy": "2025-09-26T04:13:15.701835Z",
     "iopub.status.idle": "2025-09-26T04:13:15.706879Z",
     "shell.execute_reply": "2025-09-26T04:13:15.706242Z"
    },
    "papermill": {
     "duration": 0.011187,
     "end_time": "2025-09-26T04:13:15.707969",
     "exception": false,
     "start_time": "2025-09-26T04:13:15.696782",
     "status": "completed"
    },
    "scrolled": false,
    "tags": []
   },
   "outputs": [],
   "source": [
    "carousel = create_carousel(npub)\n",
    "docs = ', '.join(['\"{0:s}\"'.format(k.split('/')[-1]) for k in res])\n",
    "slides = ', '.join([f'\"slide{k}\"' for k in range(1, npub + 1)])\n",
    "\n",
    "with open(\"daily_template.html\", \"r\") as tpl:\n",
    "    page = tpl.read()\n",
    "    page = page.replace(\"{%-- carousel:s --%}\", carousel)\\\n",
    "               .replace(\"{%-- suptitle:s --%}\",  \"7-day archives\" )\\\n",
    "               .replace(\"{%-- docs:s --%}\", docs)\\\n",
    "               .replace(\"{%-- slides:s --%}\", slides)\n",
    "    \n",
    "with open(\"_build/html/index_7days.html\", 'w') as fout:\n",
    "    fout.write(page)"
   ]
  },
  {
   "cell_type": "code",
   "execution_count": 14,
   "id": "adc1a1ec",
   "metadata": {
    "execution": {
     "iopub.execute_input": "2025-09-26T04:13:15.717939Z",
     "iopub.status.busy": "2025-09-26T04:13:15.717673Z",
     "iopub.status.idle": "2025-09-26T04:13:15.724133Z",
     "shell.execute_reply": "2025-09-26T04:13:15.723559Z"
    },
    "papermill": {
     "duration": 0.012566,
     "end_time": "2025-09-26T04:13:15.725112",
     "exception": false,
     "start_time": "2025-09-26T04:13:15.712546",
     "status": "completed"
    },
    "tags": []
   },
   "outputs": [
    {
     "name": "stdout",
     "output_type": "stream",
     "text": [
      "2  publications in the last day.\n"
     ]
    }
   ],
   "source": [
    "# redo for today\n",
    "days = 1\n",
    "res = list(get_last_n_days(dates, days))\n",
    "npub = len(res)\n",
    "print(len(res), f\" publications in the last day.\")\n",
    "\n",
    "carousel = create_carousel(npub)\n",
    "docs = ', '.join(['\"{0:s}\"'.format(k.split('/')[-1]) for k in res])\n",
    "slides = ', '.join([f'\"slide{k}\"' for k in range(1, npub + 1)])\n",
    "\n",
    "with open(\"daily_template.html\", \"r\") as tpl:\n",
    "    page = tpl.read()\n",
    "    page = page.replace(\"{%-- carousel:s --%}\", carousel)\\\n",
    "               .replace(\"{%-- suptitle:s --%}\",  \"Daily\" )\\\n",
    "               .replace(\"{%-- docs:s --%}\", docs)\\\n",
    "               .replace(\"{%-- slides:s --%}\", slides)\n",
    "    \n",
    "# print(carousel, docs, slides)\n",
    "# print(page)\n",
    "with open(\"_build/html/index_daily.html\", 'w') as fout:\n",
    "    fout.write(page)"
   ]
  },
  {
   "cell_type": "code",
   "execution_count": 15,
   "id": "00eece82",
   "metadata": {
    "execution": {
     "iopub.execute_input": "2025-09-26T04:13:15.735075Z",
     "iopub.status.busy": "2025-09-26T04:13:15.734887Z",
     "iopub.status.idle": "2025-09-26T04:13:15.741276Z",
     "shell.execute_reply": "2025-09-26T04:13:15.740613Z"
    },
    "papermill": {
     "duration": 0.012472,
     "end_time": "2025-09-26T04:13:15.742291",
     "exception": false,
     "start_time": "2025-09-26T04:13:15.729819",
     "status": "completed"
    },
    "scrolled": false,
    "tags": []
   },
   "outputs": [
    {
     "name": "stdout",
     "output_type": "stream",
     "text": [
      "6  6 publications selected.\n"
     ]
    }
   ],
   "source": [
    "# Create the flat grid of the last N papers (fixed number regardless of dates)\n",
    "from itertools import islice \n",
    "\n",
    "npub = 6\n",
    "res = [k[0] for k in (islice(reversed(sorted(dates, key=lambda x: x[1])), 6))]\n",
    "print(len(res), f\" {npub} publications selected.\")\n",
    "\n",
    "grid = create_grid(npub)\n",
    "docs = ', '.join(['\"{0:s}\"'.format(k.split('/')[-1]) for k in res])\n",
    "slides = ', '.join([f'\"slide{k}\"' for k in range(1, npub + 1)])\n",
    "\n",
    "with open(\"grid_template.html\", \"r\") as tpl:\n",
    "    page = tpl.read()\n",
    "    page = page.replace(\"{%-- grid-content:s --%}\", grid)\\\n",
    "               .replace(\"{%-- suptitle:s --%}\",  f\"Last {npub:,d} papers\" )\\\n",
    "               .replace(\"{%-- docs:s --%}\", docs)\\\n",
    "               .replace(\"{%-- slides:s --%}\", slides)\n",
    "    \n",
    "# print(grid, docs, slides)\n",
    "# print(page)\n",
    "with open(\"_build/html/index_npub_grid.html\", 'w') as fout:\n",
    "    fout.write(page)"
   ]
  }
 ],
 "metadata": {
  "kernelspec": {
   "display_name": "Python 3 (ipykernel)",
   "language": "python",
   "name": "python3"
  },
  "language_info": {
   "codemirror_mode": {
    "name": "ipython",
    "version": 3
   },
   "file_extension": ".py",
   "mimetype": "text/x-python",
   "name": "python",
   "nbconvert_exporter": "python",
   "pygments_lexer": "ipython3",
   "version": "3.9.23"
  },
  "papermill": {
   "default_parameters": {},
   "duration": 44.588293,
   "end_time": "2025-09-26T04:13:15.964244",
   "environment_variables": {},
   "exception": null,
   "input_path": "MPIA daily digest.ipynb",
   "output_path": "log.ipynb",
   "parameters": {},
   "start_time": "2025-09-26T04:12:31.375951",
   "version": "2.6.0"
  },
  "vscode": {
   "interpreter": {
    "hash": "aee8b7b246df8f9039afb4144a1f6fd8d2ca17a180786b69acc140d282b71a49"
   }
  },
  "widgets": {
   "application/vnd.jupyter.widget-state+json": {
    "state": {
     "1ad82822431c4e8d84dfe02e6aec3e5c": {
      "model_module": "@jupyter-widgets/controls",
      "model_module_version": "2.0.0",
      "model_name": "HTMLModel",
      "state": {
       "_dom_classes": [],
       "_model_module": "@jupyter-widgets/controls",
       "_model_module_version": "2.0.0",
       "_model_name": "HTMLModel",
       "_view_count": null,
       "_view_module": "@jupyter-widgets/controls",
       "_view_module_version": "2.0.0",
       "_view_name": "HTMLView",
       "description": "",
       "description_allow_html": false,
       "layout": "IPY_MODEL_74f1d597df6b4afab253252d466fe1d2",
       "placeholder": "​",
       "style": "IPY_MODEL_824628bb62aa44dba3df4db7aa005e4d",
       "tabbable": null,
       "tooltip": null,
       "value": " 3/3 [00:19&lt;00:00,  6.21s/it]"
      }
     },
     "3357cc557aa547138592dd23b3fbf802": {
      "model_module": "@jupyter-widgets/controls",
      "model_module_version": "2.0.0",
      "model_name": "ProgressStyleModel",
      "state": {
       "_model_module": "@jupyter-widgets/controls",
       "_model_module_version": "2.0.0",
       "_model_name": "ProgressStyleModel",
       "_view_count": null,
       "_view_module": "@jupyter-widgets/base",
       "_view_module_version": "2.0.0",
       "_view_name": "StyleView",
       "bar_color": null,
       "description_width": ""
      }
     },
     "3b4f3b5787174316a4f33cc840260f36": {
      "model_module": "@jupyter-widgets/base",
      "model_module_version": "2.0.0",
      "model_name": "LayoutModel",
      "state": {
       "_model_module": "@jupyter-widgets/base",
       "_model_module_version": "2.0.0",
       "_model_name": "LayoutModel",
       "_view_count": null,
       "_view_module": "@jupyter-widgets/base",
       "_view_module_version": "2.0.0",
       "_view_name": "LayoutView",
       "align_content": null,
       "align_items": null,
       "align_self": null,
       "border_bottom": null,
       "border_left": null,
       "border_right": null,
       "border_top": null,
       "bottom": null,
       "display": null,
       "flex": null,
       "flex_flow": null,
       "grid_area": null,
       "grid_auto_columns": null,
       "grid_auto_flow": null,
       "grid_auto_rows": null,
       "grid_column": null,
       "grid_gap": null,
       "grid_row": null,
       "grid_template_areas": null,
       "grid_template_columns": null,
       "grid_template_rows": null,
       "height": null,
       "justify_content": null,
       "justify_items": null,
       "left": null,
       "margin": null,
       "max_height": null,
       "max_width": null,
       "min_height": null,
       "min_width": null,
       "object_fit": null,
       "object_position": null,
       "order": null,
       "overflow": null,
       "padding": null,
       "right": null,
       "top": null,
       "visibility": null,
       "width": null
      }
     },
     "74f1d597df6b4afab253252d466fe1d2": {
      "model_module": "@jupyter-widgets/base",
      "model_module_version": "2.0.0",
      "model_name": "LayoutModel",
      "state": {
       "_model_module": "@jupyter-widgets/base",
       "_model_module_version": "2.0.0",
       "_model_name": "LayoutModel",
       "_view_count": null,
       "_view_module": "@jupyter-widgets/base",
       "_view_module_version": "2.0.0",
       "_view_name": "LayoutView",
       "align_content": null,
       "align_items": null,
       "align_self": null,
       "border_bottom": null,
       "border_left": null,
       "border_right": null,
       "border_top": null,
       "bottom": null,
       "display": null,
       "flex": null,
       "flex_flow": null,
       "grid_area": null,
       "grid_auto_columns": null,
       "grid_auto_flow": null,
       "grid_auto_rows": null,
       "grid_column": null,
       "grid_gap": null,
       "grid_row": null,
       "grid_template_areas": null,
       "grid_template_columns": null,
       "grid_template_rows": null,
       "height": null,
       "justify_content": null,
       "justify_items": null,
       "left": null,
       "margin": null,
       "max_height": null,
       "max_width": null,
       "min_height": null,
       "min_width": null,
       "object_fit": null,
       "object_position": null,
       "order": null,
       "overflow": null,
       "padding": null,
       "right": null,
       "top": null,
       "visibility": null,
       "width": null
      }
     },
     "75df41e48c074b9db1169ef79e2dd7e9": {
      "model_module": "@jupyter-widgets/base",
      "model_module_version": "2.0.0",
      "model_name": "LayoutModel",
      "state": {
       "_model_module": "@jupyter-widgets/base",
       "_model_module_version": "2.0.0",
       "_model_name": "LayoutModel",
       "_view_count": null,
       "_view_module": "@jupyter-widgets/base",
       "_view_module_version": "2.0.0",
       "_view_name": "LayoutView",
       "align_content": null,
       "align_items": null,
       "align_self": null,
       "border_bottom": null,
       "border_left": null,
       "border_right": null,
       "border_top": null,
       "bottom": null,
       "display": null,
       "flex": null,
       "flex_flow": null,
       "grid_area": null,
       "grid_auto_columns": null,
       "grid_auto_flow": null,
       "grid_auto_rows": null,
       "grid_column": null,
       "grid_gap": null,
       "grid_row": null,
       "grid_template_areas": null,
       "grid_template_columns": null,
       "grid_template_rows": null,
       "height": null,
       "justify_content": null,
       "justify_items": null,
       "left": null,
       "margin": null,
       "max_height": null,
       "max_width": null,
       "min_height": null,
       "min_width": null,
       "object_fit": null,
       "object_position": null,
       "order": null,
       "overflow": null,
       "padding": null,
       "right": null,
       "top": null,
       "visibility": null,
       "width": null
      }
     },
     "786121173f9d4e7ab22b5d1de84ea108": {
      "model_module": "@jupyter-widgets/controls",
      "model_module_version": "2.0.0",
      "model_name": "FloatProgressModel",
      "state": {
       "_dom_classes": [],
       "_model_module": "@jupyter-widgets/controls",
       "_model_module_version": "2.0.0",
       "_model_name": "FloatProgressModel",
       "_view_count": null,
       "_view_module": "@jupyter-widgets/controls",
       "_view_module_version": "2.0.0",
       "_view_name": "ProgressView",
       "bar_style": "success",
       "description": "",
       "description_allow_html": false,
       "layout": "IPY_MODEL_3b4f3b5787174316a4f33cc840260f36",
       "max": 3.0,
       "min": 0.0,
       "orientation": "horizontal",
       "style": "IPY_MODEL_3357cc557aa547138592dd23b3fbf802",
       "tabbable": null,
       "tooltip": null,
       "value": 3.0
      }
     },
     "824628bb62aa44dba3df4db7aa005e4d": {
      "model_module": "@jupyter-widgets/controls",
      "model_module_version": "2.0.0",
      "model_name": "HTMLStyleModel",
      "state": {
       "_model_module": "@jupyter-widgets/controls",
       "_model_module_version": "2.0.0",
       "_model_name": "HTMLStyleModel",
       "_view_count": null,
       "_view_module": "@jupyter-widgets/base",
       "_view_module_version": "2.0.0",
       "_view_name": "StyleView",
       "background": null,
       "description_width": "",
       "font_size": null,
       "text_color": null
      }
     },
     "84f043e5deaf4b519ba47b3f67da3e4c": {
      "model_module": "@jupyter-widgets/controls",
      "model_module_version": "2.0.0",
      "model_name": "HTMLStyleModel",
      "state": {
       "_model_module": "@jupyter-widgets/controls",
       "_model_module_version": "2.0.0",
       "_model_name": "HTMLStyleModel",
       "_view_count": null,
       "_view_module": "@jupyter-widgets/base",
       "_view_module_version": "2.0.0",
       "_view_name": "StyleView",
       "background": null,
       "description_width": "",
       "font_size": null,
       "text_color": null
      }
     },
     "8a9c06878e2544cea4cdc213d3f521b5": {
      "model_module": "@jupyter-widgets/base",
      "model_module_version": "2.0.0",
      "model_name": "LayoutModel",
      "state": {
       "_model_module": "@jupyter-widgets/base",
       "_model_module_version": "2.0.0",
       "_model_name": "LayoutModel",
       "_view_count": null,
       "_view_module": "@jupyter-widgets/base",
       "_view_module_version": "2.0.0",
       "_view_name": "LayoutView",
       "align_content": null,
       "align_items": null,
       "align_self": null,
       "border_bottom": null,
       "border_left": null,
       "border_right": null,
       "border_top": null,
       "bottom": null,
       "display": null,
       "flex": null,
       "flex_flow": null,
       "grid_area": null,
       "grid_auto_columns": null,
       "grid_auto_flow": null,
       "grid_auto_rows": null,
       "grid_column": null,
       "grid_gap": null,
       "grid_row": null,
       "grid_template_areas": null,
       "grid_template_columns": null,
       "grid_template_rows": null,
       "height": null,
       "justify_content": null,
       "justify_items": null,
       "left": null,
       "margin": null,
       "max_height": null,
       "max_width": null,
       "min_height": null,
       "min_width": null,
       "object_fit": null,
       "object_position": null,
       "order": null,
       "overflow": null,
       "padding": null,
       "right": null,
       "top": null,
       "visibility": null,
       "width": null
      }
     },
     "c168a9e987064c529b1bfcb5be0e55d0": {
      "model_module": "@jupyter-widgets/controls",
      "model_module_version": "2.0.0",
      "model_name": "HBoxModel",
      "state": {
       "_dom_classes": [],
       "_model_module": "@jupyter-widgets/controls",
       "_model_module_version": "2.0.0",
       "_model_name": "HBoxModel",
       "_view_count": null,
       "_view_module": "@jupyter-widgets/controls",
       "_view_module_version": "2.0.0",
       "_view_name": "HBoxView",
       "box_style": "",
       "children": [
        "IPY_MODEL_deef9eb3a8b049a799f8fa8bd3085538",
        "IPY_MODEL_786121173f9d4e7ab22b5d1de84ea108",
        "IPY_MODEL_1ad82822431c4e8d84dfe02e6aec3e5c"
       ],
       "layout": "IPY_MODEL_8a9c06878e2544cea4cdc213d3f521b5",
       "tabbable": null,
       "tooltip": null
      }
     },
     "deef9eb3a8b049a799f8fa8bd3085538": {
      "model_module": "@jupyter-widgets/controls",
      "model_module_version": "2.0.0",
      "model_name": "HTMLModel",
      "state": {
       "_dom_classes": [],
       "_model_module": "@jupyter-widgets/controls",
       "_model_module_version": "2.0.0",
       "_model_name": "HTMLModel",
       "_view_count": null,
       "_view_module": "@jupyter-widgets/controls",
       "_view_module_version": "2.0.0",
       "_view_name": "HTMLView",
       "description": "",
       "description_allow_html": false,
       "layout": "IPY_MODEL_75df41e48c074b9db1169ef79e2dd7e9",
       "placeholder": "​",
       "style": "IPY_MODEL_84f043e5deaf4b519ba47b3f67da3e4c",
       "tabbable": null,
       "tooltip": null,
       "value": "100%"
      }
     }
    },
    "version_major": 2,
    "version_minor": 0
   }
  }
 },
 "nbformat": 4,
 "nbformat_minor": 5
}