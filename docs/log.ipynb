{
 "cells": [
  {
   "cell_type": "markdown",
   "id": "92bcb855",
   "metadata": {
    "papermill": {
     "duration": 0.005968,
     "end_time": "2023-09-21T04:06:36.911608",
     "exception": false,
     "start_time": "2023-09-21T04:06:36.905640",
     "status": "completed"
    },
    "tags": []
   },
   "source": [
    "# MPIA Arxiv on Deck 2\n",
    "\n",
    "Contains the steps to produce the paper extractions."
   ]
  },
  {
   "cell_type": "code",
   "execution_count": 1,
   "id": "3a0d6e11",
   "metadata": {
    "execution": {
     "iopub.execute_input": "2023-09-21T04:06:36.923710Z",
     "iopub.status.busy": "2023-09-21T04:06:36.923263Z",
     "iopub.status.idle": "2023-09-21T04:06:37.513375Z",
     "shell.execute_reply": "2023-09-21T04:06:37.512225Z"
    },
    "papermill": {
     "duration": 0.599153,
     "end_time": "2023-09-21T04:06:37.516184",
     "exception": false,
     "start_time": "2023-09-21T04:06:36.917031",
     "status": "completed"
    },
    "tags": []
   },
   "outputs": [],
   "source": [
    "# Imports\n",
    "import os\n",
    "from IPython.display import Markdown, display\n",
    "from tqdm.notebook import tqdm\n",
    "import warnings\n",
    "from PIL import Image \n",
    "\n",
    "# requires arxiv_on_deck_2\n",
    "\n",
    "from arxiv_on_deck_2.arxiv2 import (get_new_papers, \n",
    "                                    get_paper_from_identifier,\n",
    "                                    retrieve_document_source, \n",
    "                                    get_markdown_badge)\n",
    "from arxiv_on_deck_2 import (latex,\n",
    "                             latex_bib,\n",
    "                             mpia,\n",
    "                             highlight_authors_in_list)\n",
    "\n",
    "# Sometimes images are really big\n",
    "Image.MAX_IMAGE_PIXELS = 1000000000 "
   ]
  },
  {
   "cell_type": "code",
   "execution_count": 2,
   "id": "22aa9d44",
   "metadata": {
    "execution": {
     "iopub.execute_input": "2023-09-21T04:06:37.529942Z",
     "iopub.status.busy": "2023-09-21T04:06:37.529360Z",
     "iopub.status.idle": "2023-09-21T04:06:37.538093Z",
     "shell.execute_reply": "2023-09-21T04:06:37.537187Z"
    },
    "papermill": {
     "duration": 0.017304,
     "end_time": "2023-09-21T04:06:37.540180",
     "exception": false,
     "start_time": "2023-09-21T04:06:37.522876",
     "status": "completed"
    },
    "tags": []
   },
   "outputs": [],
   "source": [
    "# Some useful definitions.\n",
    "\n",
    "class AffiliationWarning(UserWarning):\n",
    "    pass\n",
    "\n",
    "class AffiliationError(RuntimeError):\n",
    "    pass\n",
    "\n",
    "def validation(source: str):\n",
    "    \"\"\"Raises error paper during parsing of source file\n",
    "    \n",
    "    Allows checks before parsing TeX code.\n",
    "    \n",
    "    Raises AffiliationWarning\n",
    "    \"\"\"\n",
    "    check = mpia.affiliation_verifications(source, verbose=True)\n",
    "    if check is not True:\n",
    "        raise AffiliationError(\"mpia.affiliation_verifications: \" + check)\n",
    "\n",
    "        \n",
    "warnings.simplefilter('always', AffiliationWarning)\n",
    "\n",
    "\n",
    "def get_markdown_qrcode(paper_id: str):\n",
    "    \"\"\" Generate a qrcode to the arxiv page using qrserver.com\n",
    "    \n",
    "    :param paper: Arxiv paper\n",
    "    :returns: markdown text\n",
    "    \"\"\"\n",
    "    url = r\"https://api.qrserver.com/v1/create-qr-code/?size=100x100&data=\"\n",
    "    txt = f\"\"\"<img src={url}\"https://arxiv.org/abs/{paper_id}\">\"\"\"\n",
    "    txt = '<div id=\"qrcode\">' + txt + '</div>'\n",
    "    return txt"
   ]
  },
  {
   "cell_type": "markdown",
   "id": "14bd6310",
   "metadata": {
    "papermill": {
     "duration": 0.004557,
     "end_time": "2023-09-21T04:06:37.551190",
     "exception": false,
     "start_time": "2023-09-21T04:06:37.546633",
     "status": "completed"
    },
    "tags": []
   },
   "source": [
    "## get list of arxiv paper candidates\n",
    "\n",
    "We use the MPIA mitarbeiter list webpage from mpia.de to get author names\n",
    "We then get all new papers from Arxiv and match authors"
   ]
  },
  {
   "cell_type": "code",
   "execution_count": 3,
   "id": "2645e73a",
   "metadata": {
    "execution": {
     "iopub.execute_input": "2023-09-21T04:06:37.562078Z",
     "iopub.status.busy": "2023-09-21T04:06:37.561488Z",
     "iopub.status.idle": "2023-09-21T04:07:03.462838Z",
     "shell.execute_reply": "2023-09-21T04:07:03.461841Z"
    },
    "papermill": {
     "duration": 25.909383,
     "end_time": "2023-09-21T04:07:03.465003",
     "exception": false,
     "start_time": "2023-09-21T04:06:37.555620",
     "status": "completed"
    },
    "tags": []
   },
   "outputs": [
    {
     "name": "stdout",
     "output_type": "stream",
     "text": [
      "L. Kreidberg  ->  L. Kreidberg  |  ['L. Kreidberg']\n",
      "T. Mikal-Evans  ->  T. Mikal-Evans  |  ['T. Mikal-Evans']\n",
      "J. Li  ->  J. Li  |  ['J. Li']\n",
      "S. Li  ->  S. Li  |  ['S. Li']\n"
     ]
    },
    {
     "name": "stdout",
     "output_type": "stream",
     "text": [
      "Arxiv has 53 new papers today\n",
      "          3 with possible author matches\n"
     ]
    }
   ],
   "source": [
    "# get list from MPIA website\n",
    "# it automatically filters identified non-scientists :func:`mpia.filter_non_scientists`\n",
    "mpia_authors = mpia.get_mpia_mitarbeiter_list()\n",
    "normed_mpia_authors = [k[1] for k in mpia_authors]   # initials + fullname\n",
    "new_papers = get_new_papers()\n",
    "# add manual references\n",
    "add_paper_refs = []\n",
    "new_papers.extend([get_paper_from_identifier(k) for k in add_paper_refs])\n",
    "\n",
    "candidates = []\n",
    "for paperk in new_papers:\n",
    "    # Check author list with their initials\n",
    "    normed_author_list = [mpia.get_initials(k) for k in paperk['authors']]\n",
    "    hl_authors = highlight_authors_in_list(normed_author_list, normed_mpia_authors, verbose=True)\n",
    "    matches = [(hl, orig) for hl, orig in zip(hl_authors, paperk['authors']) if 'mark' in hl]\n",
    "    paperk['authors'] = hl_authors\n",
    "    if matches:\n",
    "        # only select paper if an author matched our list\n",
    "        candidates.append(paperk)\n",
    "print(\"\"\"Arxiv has {0:,d} new papers today\"\"\".format(len(new_papers)))        \n",
    "print(\"\"\"          {0:,d} with possible author matches\"\"\".format(len(candidates)))"
   ]
  },
  {
   "cell_type": "markdown",
   "id": "3543b34a",
   "metadata": {
    "papermill": {
     "duration": 0.005884,
     "end_time": "2023-09-21T04:07:03.476126",
     "exception": false,
     "start_time": "2023-09-21T04:07:03.470242",
     "status": "completed"
    },
    "tags": []
   },
   "source": [
    "# Parse sources and generate relevant outputs\n",
    "\n",
    "From the candidates, we do the following steps:\n",
    "* get their tarball from ArXiv (and extract data)\n",
    "* find the main .tex file: find one with \\documentclass{...} (sometimes it's non trivial)\n",
    "* Check affiliations with :func:`validation`, which uses :func:`mpia.affiliation_verifications`\n",
    "* If passing the affiliations: we parse the .tex source\n",
    "   * inject sub-documents into the main (flatten the main document)\n",
    "   * parse structure, extract information (title, abstract, authors, figures...)\n",
    "   * handles `\\graphicspath` if provided\n",
    "* Generate the .md document."
   ]
  },
  {
   "cell_type": "code",
   "execution_count": 4,
   "id": "9576b79e",
   "metadata": {
    "execution": {
     "iopub.execute_input": "2023-09-21T04:07:03.488264Z",
     "iopub.status.busy": "2023-09-21T04:07:03.487762Z",
     "iopub.status.idle": "2023-09-21T04:07:37.831570Z",
     "shell.execute_reply": "2023-09-21T04:07:37.830663Z"
    },
    "papermill": {
     "duration": 34.353643,
     "end_time": "2023-09-21T04:07:37.834540",
     "exception": false,
     "start_time": "2023-09-21T04:07:03.480897",
     "status": "completed"
    },
    "scrolled": false,
    "tags": []
   },
   "outputs": [
    {
     "data": {
      "application/vnd.jupyter.widget-view+json": {
       "model_id": "10b230d9d01946d7a590a9c0fd963692",
       "version_major": 2,
       "version_minor": 0
      },
      "text/plain": [
       "  0%|          | 0/3 [00:00<?, ?it/s]"
      ]
     },
     "metadata": {},
     "output_type": "display_data"
    },
    {
     "name": "stdout",
     "output_type": "stream",
     "text": [
      "Retrieving document from  https://arxiv.org/e-print/2309.10845\n"
     ]
    },
    {
     "name": "stdout",
     "output_type": "stream",
     "text": [
      "extracting tarball to tmp_2309.10845..."
     ]
    },
    {
     "name": "stdout",
     "output_type": "stream",
     "text": [
      " done.\n"
     ]
    },
    {
     "name": "stdout",
     "output_type": "stream",
     "text": [
      "L. Kreidberg  ->  L. Kreidberg  |  ['L. Kreidberg']\n",
      "T. Mikal-Evans  ->  T. Mikal-Evans  |  ['T. Mikal-Evans']\n"
     ]
    },
    {
     "name": "stdout",
     "output_type": "stream",
     "text": [
      "Found 61 bibliographic references in tmp_2309.10845/main.bbl.\n",
      "Retrieving document from  https://arxiv.org/e-print/2309.11016\n"
     ]
    },
    {
     "name": "stdout",
     "output_type": "stream",
     "text": [
      "extracting tarball to tmp_2309.11016..."
     ]
    },
    {
     "name": "stdout",
     "output_type": "stream",
     "text": [
      " done.\n",
      "Retrieving document from  https://arxiv.org/e-print/2309.11090\n"
     ]
    },
    {
     "name": "stdout",
     "output_type": "stream",
     "text": [
      "extracting tarball to tmp_2309.11090..."
     ]
    },
    {
     "name": "stdout",
     "output_type": "stream",
     "text": [
      " done.\n"
     ]
    }
   ],
   "source": [
    "documents = []\n",
    "failed = []\n",
    "for paper in tqdm(candidates):\n",
    "    paper_id = paper['identifier'].lower().replace('arxiv:', '')\n",
    "    \n",
    "    folder = f'tmp_{paper_id}'\n",
    "\n",
    "    try:\n",
    "        if not os.path.isdir(folder):\n",
    "            folder = retrieve_document_source(f\"{paper_id}\", f'tmp_{paper_id}')\n",
    "        \n",
    "        try:\n",
    "            doc = latex.LatexDocument(folder, validation=validation)    \n",
    "        except AffiliationError as affilerror:\n",
    "            msg = f\"ArXiv:{paper_id:s} is not an MPIA paper... \" + str(affilerror)\n",
    "            failed.append((paper, \"affiliation error: \" + str(affilerror) ))\n",
    "            continue\n",
    "        \n",
    "        # Hack because sometimes author parsing does not work well\n",
    "        if (len(doc.authors) != len(paper['authors'])):\n",
    "            doc._authors = paper['authors']\n",
    "        else:\n",
    "            # highlight authors (FIXME: doc.highlight_authors)\n",
    "            # done on arxiv paper already\n",
    "            doc._authors = highlight_authors_in_list(\n",
    "                [mpia.get_initials(k) for k in doc.authors], \n",
    "                normed_mpia_authors, verbose=True)\n",
    "        if (doc.abstract) in (None, ''):\n",
    "            doc._abstract = paper['abstract']\n",
    "            \n",
    "        doc.comment = (get_markdown_badge(paper_id) + \n",
    "                       \"<mark>Appeared on: \" + paper['date'] + \"</mark> - \")\n",
    "        if paper['comments']:\n",
    "            doc.comment += \" _\" + paper['comments'] + \"_\"\n",
    "        \n",
    "        full_md = doc.generate_markdown_text()\n",
    "        \n",
    "        full_md += get_markdown_qrcode(paper_id)\n",
    "        \n",
    "        # replace citations\n",
    "        try:\n",
    "            bibdata = latex_bib.LatexBib.from_doc(doc)\n",
    "            full_md = latex_bib.replace_citations(full_md, bibdata)\n",
    "        except Exception as e:\n",
    "            print(e)\n",
    "        \n",
    "        documents.append((paper_id, full_md))\n",
    "    except Exception as e:\n",
    "        warnings.warn(latex.LatexWarning(f\"{paper_id:s} did not run properly\\n\" +\n",
    "                                         str(e)\n",
    "                                        ))\n",
    "        failed.append((paper, \"latex error \" + str(e)))"
   ]
  },
  {
   "cell_type": "markdown",
   "id": "2505a25c",
   "metadata": {
    "papermill": {
     "duration": 0.005409,
     "end_time": "2023-09-21T04:07:37.845584",
     "exception": false,
     "start_time": "2023-09-21T04:07:37.840175",
     "status": "completed"
    },
    "tags": []
   },
   "source": [
    "### Export the logs\n",
    "\n",
    "Throughout, we also keep track of the logs per paper. see `logs-{today date}.md` "
   ]
  },
  {
   "cell_type": "code",
   "execution_count": 5,
   "id": "d733828a",
   "metadata": {
    "execution": {
     "iopub.execute_input": "2023-09-21T04:07:37.859358Z",
     "iopub.status.busy": "2023-09-21T04:07:37.858549Z",
     "iopub.status.idle": "2023-09-21T04:07:37.879426Z",
     "shell.execute_reply": "2023-09-21T04:07:37.878428Z"
    },
    "papermill": {
     "duration": 0.030341,
     "end_time": "2023-09-21T04:07:37.881660",
     "exception": false,
     "start_time": "2023-09-21T04:07:37.851319",
     "status": "completed"
    },
    "scrolled": false,
    "tags": []
   },
   "outputs": [
    {
     "data": {
      "text/markdown": [
       "## Successful papers"
      ],
      "text/plain": [
       "<IPython.core.display.Markdown object>"
      ]
     },
     "metadata": {},
     "output_type": "display_data"
    },
    {
     "data": {
      "text/markdown": [
       "\n",
       "|||\n",
       "|---:|:---|\n",
       "| [![arXiv](https://img.shields.io/badge/arXiv-arXiv:2309.10845-b31b1b.svg)](https://arxiv.org/abs/arXiv:2309.10845) | **Water absorption in the transmission spectrum of the water-world  candidate GJ9827d**  |\n",
       "|| P.-A. Roy, et al. -- incl., <mark>L. Kreidberg</mark>, <mark>T. Mikal-Evans</mark> |\n",
       "|*Appeared on*| *2023-09-21*|\n",
       "|*Comments*| *Published in ApJL, 11 pages, 6 figures*|\n",
       "|**Abstract**| Recent work on the characterization of small exoplanets has allowed us to accumulate growing evidence that the sub-Neptunes with radii greater than $\\sim2.5\\,R_\\oplus$ often host H$_2$/He-dominated atmospheres both from measurements of their low bulk densities and direct detections of their low mean-molecular-mass atmospheres. However, the smaller sub-Neptunes in the 1.5-2.2 R$_\\oplus$ size regime are much less understood, and often have bulk densities that can be explained either by the H$_2$/He-rich scenario, or by a volatile-dominated composition known as the \"water world\" scenario. Here, we report the detection of water vapor in the transmission spectrum of the $1.96\\pm0.08$ R$_\\oplus$ sub-Neptune GJ9827d obtained with the Hubble Space Telescope. We observed 11 HST/WFC3 transits of GJ9827d and find an absorption feature at 1.4$\\mu$m in its transit spectrum, which is best explained (at 3.39$\\sigma$) by the presence of water in GJ9827d's atmosphere. We further show that this feature cannot be caused by unnoculted star spots during the transits by combining an analysis of the K2 photometry and transit light-source effect retrievals. We reveal that the water absorption feature can be similarly well explained by a small amount of water vapor in a cloudy H$_2$/He atmosphere, or by a water vapor envelope on GJ9827d. Given that recent studies have inferred an important mass-loss rate ($>0.5\\,$M$_\\oplus$/Gyr) for GJ9827d making it unlikely to retain a H-dominated envelope, our findings highlight GJ9827d as a promising water world candidate that could host a volatile-dominated atmosphere. This water detection also makes GJ9827d the smallest exoplanet with an atmospheric molecular detection to date. |"
      ],
      "text/plain": [
       "[arXiv:2309.10845] Water absorption in the transmission spectrum of the water-world  candidate GJ9827d\n",
       "\tP.-A. Roy, et al. -- incl., <mark>L. Kreidberg</mark>, <mark>T. Mikal-Evans</mark>"
      ]
     },
     "metadata": {},
     "output_type": "display_data"
    },
    {
     "data": {
      "text/markdown": [
       "## Failed papers"
      ],
      "text/plain": [
       "<IPython.core.display.Markdown object>"
      ]
     },
     "metadata": {},
     "output_type": "display_data"
    },
    {
     "data": {
      "text/markdown": [
       "\n",
       "|||\n",
       "|---:|:---|\n",
       "| [![arXiv](https://img.shields.io/badge/arXiv-arXiv:2309.11016-b31b1b.svg)](https://arxiv.org/abs/arXiv:2309.11016) | **A Gigantic Mid-Infrared Outburst in an Embedded Class-I Young Stellar  Object J064722.95+031644.6**  |\n",
       "|| T. Wang, et al. -- incl., <mark>J. Li</mark> |\n",
       "|*Appeared on*| *2023-09-21*|\n",
       "|*Comments*| *15 pages, 7 figures, accepted to ApJ*|\n",
       "|**Abstract**| We report the serendipitous discovery of a giant mid-infrared (MIR) outburst from a previously unknown source near a star-forming region in the constellation Monoceros. The source gradually brightened by a factor of 5 from 2014 to 2016 before an abrupt rise by a factor of more than 100 in 2017. A total amplitude increase of >500 at 4.5 microns has since faded by a factor of about 10. Prior to the outburst, it was only detected at wavelengths longer than 1.8 microns in UKIDSS, Spitzer, and Herschel with a spectral energy distribution of a Class I Young Stellar Object (YSO). It has not been detected in recent optical surveys, suggesting that it is deeply embedded. With a minimum distance of 3.5 kpc, the source has a bolometric luminosity of at least 9 $L_\\odot$ in the quiescent state and 400 $L_\\odot$ at the peak of the eruption. The maximum accretion rate is estimated to be at least a few $10^{-5}$ $M_\\odot$ year$^{-1}$. It shares several common properties with another eruptive event, WISE~J142238.82-611553.7: exceptionally large amplitude, featureless near-infrared spectrum with the exception of H_2 lines, intermediate eruption duration, an embedded Class I YSO, and a low radiative temperature (<600-700 K) in outburst. We interpret that the radiation from the inner accretion disk and young star is obscured and reprocessed by either an inflated outer disk or thick dusty outflow on scales > 6.5 AU during the outburst. |\n",
       "|<p style=\"color:green\"> **ERROR** </p>| <p style=\"color:green\">affiliation error: mpia.affiliation_verifications: '69117' keyword not found.</p> |"
      ],
      "text/plain": [
       "<IPython.core.display.Markdown object>"
      ]
     },
     "metadata": {},
     "output_type": "display_data"
    },
    {
     "data": {
      "text/markdown": [
       "\n",
       "|||\n",
       "|---:|:---|\n",
       "| [![arXiv](https://img.shields.io/badge/arXiv-arXiv:2309.11090-b31b1b.svg)](https://arxiv.org/abs/arXiv:2309.11090) | **Optimal map-making with singularities**  |\n",
       "|| Z. Zhang, et al. -- incl., <mark>S. Li</mark> |\n",
       "|*Appeared on*| *2023-09-21*|\n",
       "|*Comments*| *24 pages, 7 figures, and 2 appendices*|\n",
       "|**Abstract**| In this work, we investigate the optimal map-making technique for the linear system $\\bm{d}=\\bm{A}\\bm{x}+\\bm{n}$ while carefully taking into account singularities that may come from either the covariance matrix $\\bm{C} = \\<\\bm{n}\\bm{n}^t\\>$ or the main matrix $\\bm{A}$. We first describe the general optimal solution, which is quite complex, and then use the modified pseudo inverse to create a near-optimal solution, which is simple, robust, and can significantly alleviate the unwanted noise amplification during map-making. The effectiveness of the nearly optimal solution is then compared to that of the naive co-adding solution and the standard pseudo inverse solution, showing noticeable improvements. Interestingly, all one needs to get the near-optimal solution with singularity is just a tiny change to the traditional optimal solution that is designed for the case without singularity. |\n",
       "|<p style=\"color:green\"> **ERROR** </p>| <p style=\"color:green\">affiliation error: mpia.affiliation_verifications: 'Heidelberg' keyword not found.</p> |"
      ],
      "text/plain": [
       "<IPython.core.display.Markdown object>"
      ]
     },
     "metadata": {},
     "output_type": "display_data"
    }
   ],
   "source": [
    "import datetime\n",
    "today = str(datetime.date.today())\n",
    "logfile = f\"_build/html/logs/log-{today}.md\"\n",
    "\n",
    "\n",
    "with open(logfile, 'w') as logs:\n",
    "    # Success\n",
    "    logs.write(f'# Arxiv on Deck 2: Logs - {today}\\n\\n')\n",
    "    logs.write(\"\"\"* Arxiv had {0:,d} new papers\\n\"\"\".format(len(new_papers)))\n",
    "    logs.write(\"\"\"    * {0:,d} with possible author matches\\n\\n\"\"\".format(len(candidates)))\n",
    "    logs.write(\"## Sucessful papers\\n\\n\")\n",
    "    display(Markdown(\"## Successful papers\"))\n",
    "    success = [k[0] for k in documents]\n",
    "    for candid in candidates:\n",
    "        if candid['identifier'].split(':')[-1] in success:\n",
    "            display(candid)\n",
    "            logs.write(candid.generate_markdown_text() + '\\n\\n')\n",
    "\n",
    "    ## failed\n",
    "    logs.write(\"## Failed papers\\n\\n\")\n",
    "    display(Markdown(\"## Failed papers\"))\n",
    "    failed = sorted(failed, key=lambda x: x[1])\n",
    "    current_reason = \"\"\n",
    "    for paper, reason in failed:\n",
    "        if 'affiliation' in reason:\n",
    "            color = 'green'\n",
    "        else:\n",
    "            color = 'red'\n",
    "        data = Markdown(\n",
    "                paper.generate_markdown_text() + \n",
    "                f'\\n|<p style=\"color:{color:s}\"> **ERROR** </p>| <p style=\"color:{color:s}\">{reason:s}</p> |'\n",
    "               )\n",
    "        if reason != current_reason:\n",
    "            logs.write(f'### {reason:s} \\n\\n')\n",
    "            current_reason = reason\n",
    "        logs.write(data.data + '\\n\\n')\n",
    "        \n",
    "        # only display here the important errors (all in logs)\n",
    "        # if color in ('red',):\n",
    "        display(data)"
   ]
  },
  {
   "cell_type": "markdown",
   "id": "472d20ee",
   "metadata": {
    "papermill": {
     "duration": 0.006288,
     "end_time": "2023-09-21T04:07:37.894848",
     "exception": false,
     "start_time": "2023-09-21T04:07:37.888560",
     "status": "completed"
    },
    "tags": []
   },
   "source": [
    "## Export documents\n",
    "\n",
    "We now write the .md files and export relevant images"
   ]
  },
  {
   "cell_type": "code",
   "execution_count": 6,
   "id": "d426aed9",
   "metadata": {
    "execution": {
     "iopub.execute_input": "2023-09-21T04:07:37.911274Z",
     "iopub.status.busy": "2023-09-21T04:07:37.910866Z",
     "iopub.status.idle": "2023-09-21T04:07:37.920631Z",
     "shell.execute_reply": "2023-09-21T04:07:37.919820Z"
    },
    "papermill": {
     "duration": 0.021578,
     "end_time": "2023-09-21T04:07:37.922906",
     "exception": false,
     "start_time": "2023-09-21T04:07:37.901328",
     "status": "completed"
    },
    "tags": []
   },
   "outputs": [],
   "source": [
    "def export_markdown_summary(md: str, md_fname:str, directory: str):\n",
    "    \"\"\"Export MD document and associated relevant images\"\"\"\n",
    "    import os\n",
    "    import shutil\n",
    "    import re\n",
    "\n",
    "    if (os.path.exists(directory) and not os.path.isdir(directory)):\n",
    "        raise RuntimeError(f\"a non-directory file exists with name {directory:s}\")\n",
    "\n",
    "    if (not os.path.exists(directory)):\n",
    "        print(f\"creating directory {directory:s}\")\n",
    "        os.mkdir(directory)\n",
    "\n",
    "    fig_fnames = (re.compile(r'\\[Fig.*\\]\\((.*)\\)').findall(md) + \n",
    "                  re.compile(r'\\<img src=\"([^>\\s]*)\"[^>]*/>').findall(md))\n",
    "    for fname in fig_fnames:\n",
    "        if 'http' in fname:\n",
    "            # No need to copy online figures\n",
    "            continue\n",
    "        destdir = os.path.join(directory, os.path.dirname(fname))\n",
    "        destfname = os.path.join(destdir, os.path.basename(fname))\n",
    "        try:\n",
    "            os.makedirs(destdir)\n",
    "        except FileExistsError:\n",
    "            pass\n",
    "        shutil.copy(fname, destfname)\n",
    "    with open(os.path.join(directory, md_fname), 'w') as fout:\n",
    "        fout.write(md)\n",
    "    print(\"exported in \", os.path.join(directory, md_fname))\n",
    "    [print(\"    + \" + os.path.join(directory,fk)) for fk in fig_fnames]"
   ]
  },
  {
   "cell_type": "code",
   "execution_count": 7,
   "id": "014d04a4",
   "metadata": {
    "execution": {
     "iopub.execute_input": "2023-09-21T04:07:37.938804Z",
     "iopub.status.busy": "2023-09-21T04:07:37.938078Z",
     "iopub.status.idle": "2023-09-21T04:07:37.948487Z",
     "shell.execute_reply": "2023-09-21T04:07:37.947588Z"
    },
    "papermill": {
     "duration": 0.020564,
     "end_time": "2023-09-21T04:07:37.950622",
     "exception": false,
     "start_time": "2023-09-21T04:07:37.930058",
     "status": "completed"
    },
    "tags": []
   },
   "outputs": [
    {
     "name": "stdout",
     "output_type": "stream",
     "text": [
      "exported in  _build/html/2309.10845.md\n",
      "    + _build/html/tmp_2309.10845/./ReRun_SpectraFit_range_with_star_May17.png\n",
      "    + _build/html/tmp_2309.10845/./GJ9827d_2D_posterior_H2OVsClouds_mar27.png\n",
      "    + _build/html/tmp_2309.10845/./GJ9827d_AllWLCLightCurves_dev_May19.png\n",
      "    + _build/html/tmp_2309.10845/./GJ9827d_RetrievalSamplesAndForwardModels_June28.png\n"
     ]
    }
   ],
   "source": [
    "for paper_id, md in documents:\n",
    "    export_markdown_summary(md, f\"{paper_id:s}.md\", '_build/html/')"
   ]
  },
  {
   "cell_type": "markdown",
   "id": "f087a0a7",
   "metadata": {
    "papermill": {
     "duration": 0.006636,
     "end_time": "2023-09-21T04:07:37.964364",
     "exception": false,
     "start_time": "2023-09-21T04:07:37.957728",
     "status": "completed"
    },
    "tags": []
   },
   "source": [
    "## Display the papers\n",
    "\n",
    "Not necessary but allows for a quick check."
   ]
  },
  {
   "cell_type": "code",
   "execution_count": 8,
   "id": "fd25f625",
   "metadata": {
    "execution": {
     "iopub.execute_input": "2023-09-21T04:07:37.980110Z",
     "iopub.status.busy": "2023-09-21T04:07:37.979341Z",
     "iopub.status.idle": "2023-09-21T04:07:37.986684Z",
     "shell.execute_reply": "2023-09-21T04:07:37.985654Z"
    },
    "papermill": {
     "duration": 0.017735,
     "end_time": "2023-09-21T04:07:37.988823",
     "exception": false,
     "start_time": "2023-09-21T04:07:37.971088",
     "status": "completed"
    },
    "scrolled": false,
    "tags": []
   },
   "outputs": [
    {
     "data": {
      "text/markdown": [
       "<div class=\"macros\" style=\"visibility:hidden;\">\n",
       "$\\newcommand{\\ensuremath}{}$\n",
       "$\\newcommand{\\xspace}{}$\n",
       "$\\newcommand{\\object}[1]{\\texttt{#1}}$\n",
       "$\\newcommand{\\farcs}{{.}''}$\n",
       "$\\newcommand{\\farcm}{{.}'}$\n",
       "$\\newcommand{\\arcsec}{''}$\n",
       "$\\newcommand{\\arcmin}{'}$\n",
       "$\\newcommand{\\ion}[2]{#1#2}$\n",
       "$\\newcommand{\\textsc}[1]{\\textrm{#1}}$\n",
       "$\\newcommand{\\hl}[1]{\\textrm{#1}}$\n",
       "$\\newcommand{\\footnote}[1]{}$\n",
       "$\\newcommand{\\vdag}{(v)^\\dagger}$\n",
       "$\\newcommand$\n",
       "$\\newcommand$</div>\n",
       "\n",
       "\n",
       "\n",
       "<div id=\"title\">\n",
       "\n",
       "# $\\large{Water absorption in the transmission spectrum of the water-world candidate GJ 9827 d}$\n",
       "\n",
       "</div>\n",
       "<div id=\"comments\">\n",
       "\n",
       "[![arXiv](https://img.shields.io/badge/arXiv-2309.10845-b31b1b.svg)](https://arxiv.org/abs/2309.10845)<mark>Appeared on: 2023-09-21</mark> -  _Published in ApJL, 11 pages, 6 figures_\n",
       "\n",
       "</div>\n",
       "<div id=\"authors\">\n",
       "\n",
       "P.-A. Roy, et al. -- incl., <mark>L. Kreidberg</mark>, <mark>T. Mikal-Evans</mark>\n",
       "\n",
       "</div>\n",
       "<div id=\"abstract\">\n",
       "\n",
       "**Abstract:** Recent work on the characterization of small exoplanets has allowed us to accumulate growing evidence that the sub-Neptunes with radii greater than $\\sim2.5 R_\\oplus$ often host $H_2$ /He-dominated atmospheres both from measurements of their low bulk densities and direct detections of their low mean-molecular-mass atmospheres.However, the smaller sub-Neptunes in the 1.5-2.2 R $_\\oplus$ size regime are much less understood, and often have bulk densities that can be explained either by the $H_2$ /He-rich scenario, or by a volatile-dominated composition known as the \"water world\" scenario.Here, we report the detection of water vapor in the transmission spectrum of the $1.96\\pm0.08$ R $_\\oplus$ sub-Neptune GJ 9827 d obtained with the Hubble Space Telescope.We observed 11 HST/WFC3 transits of GJ 9827 d and find an absorption feature at 1.4 $\\mu$ m in its transit spectrum, which is best explained (at 3.39 $\\sigma$ ) by the presence of water in GJ 9827 d's atmosphere. We further show that this feature cannot be caused by unnoculted star spots during the transits by combining an analysis of the K2 photometry and transit light-source effect retrievals. We reveal that the water absorption feature can be similarly well explained by a small amount of water vapor in a cloudy $H_2$ /He atmosphere, or by a water vapor envelope on GJ 9827 d.Given that recent studies have inferred an important mass-loss rate ( $>0.5 $ M $_\\oplus$ /Gyr) for GJ 9827 d making it unlikely to retain a H-dominated envelope, our findings highlight GJ 9827 d as a promising water world candidate that could host a volatile-dominated atmosphere. This water detection also makes GJ 9827 d the smallest exoplanet with an atmospheric molecular detection to date.\n",
       "\n",
       "</div>\n",
       "\n",
       "<div id=\"div_fig1\">\n",
       "\n",
       "<img src=\"tmp_2309.10845/./ReRun_SpectraFit_range_with_star_May17.png\" alt=\"Fig4.1\" width=\"50%\"/><img src=\"tmp_2309.10845/./GJ9827d_2D_posterior_H2OVsClouds_mar27.png\" alt=\"Fig4.2\" width=\"50%\"/>\n",
       "\n",
       "**Figure 4. -** Water detection in the transmission spectrum of GJ 9827 d. **Left:** Transmission spectrum of GJ 9827 d (black points) shown with our model transmission spectra constraints from the nested sampling atmosphere retrieval (blue) and from the photometry-informed \"transit light-source effect\" retrieval (orange). The dark blue and light blue shaded regions show the 1$\\sigma$ and 2$\\sigma$ Bayesian credible intervals  from the atmosphere retrieval respectively. The atmospheric median transmission model is shown in blue and the best-fitting model is shown in red. The best-fitting TLS model is shown in orange along with the 1$\\sigma$ and 2$\\sigma$ Bayesian credible intervals in light orange. **Right:** Joint constraints on the cloud-top pressure versus the water mixing ratio derived from our Scarlet well-mixed retrieval. The colored shading describes the normalized probability density as a function of the water mixing ratio (assuming uniform vertical profiles) of the atmosphere, and of the cloud-top pressure. The black contours highlight the 1, 2 and 3$\\sigma$ Bayesian credible regions. The water abundance relative to a solar composition atmosphere is shown on the top axis. The posterior probability distribution allows for multiple atmospheric scenarios ranging from $H_2$/He envelopes with small amounts of water to water-dominated envelopes. The blue points identify two representative samples of these two scenarios which are displayed in Figure \\ref{fig:spectrum_forward}. (*fig:spectrum_retrieval*)\n",
       "\n",
       "</div>\n",
       "<div id=\"div_fig2\">\n",
       "\n",
       "<img src=\"tmp_2309.10845/./GJ9827d_AllWLCLightCurves_dev_May19.png\" alt=\"Fig2\" width=\"100%\"/>\n",
       "\n",
       "**Figure 2. -** All 10 HST/WFC3 broadband light-curve fits of the transits of GJ 9827 d. **Left:** Systematics-corrected and normalized broadband light curves for the 10 transits of GJ 9827 d (data points). Each visit is centered around the fitted transit time for that visit. The best-fitting transit model is also shown as the grey line. **Right:** Residuals of the broadband light-curve fits shown on the left. (*fig:wlc*)\n",
       "\n",
       "</div>\n",
       "<div id=\"div_fig3\">\n",
       "\n",
       "<img src=\"tmp_2309.10845/./GJ9827d_RetrievalSamplesAndForwardModels_June28.png\" alt=\"Fig6\" width=\"100%\"/>\n",
       "\n",
       "**Figure 6. -** HST/WFC3 transmission spectrum of GJ 9827 d (data points) along with SCARLET forward atmosphere models (colored lines). **Top:** Two samples from our well-mixed retrieval analysis (Figure \\ref{fig:spectrum_retrieval}) are shown, representing the mini-Neptune scenario with a cloudy $H_2$/He atmosphere composed of $\\sim$1\\% water (pale blue) and a water world scenario with a water-rich atmosphere (dark blue). **Middle:** A secondary atmosphere model for a pure methane envelope is also shown (red) in order to highlight the methane absorption features. Chemically consistent models (still assuming a uniform temperature profile) are shown for a cloud-free, solar composition case (solar metallicity, solar C/O; orange) and for a cloudy case with C/O=0.1  and a 100 $\\times$ solar metallicity (green). The observed spectrum is inconsistent with cloud-free low-metallicity scenarios and prefers water absorption features to methane absorption features, mainly around 1.2 and 1.65 $\\mu$m. The strength of the features in the spectrum is also displayed in units of H/He scale heights (right axis). **Bottom:** The best-fit model from the retrieval analysis is shown (pale blue), along with the transmission spectrum of the same model once the water opacity is turned off (grey). The contribution of water opacity to the spectral signatures is highlighted in blue. We also present a binned version of the transmission spectrum where points are binned together by pair with the exception of the blue-most channel. (*fig:spectrum_forward*)\n",
       "\n",
       "</div><div id=\"qrcode\"><img src=https://api.qrserver.com/v1/create-qr-code/?size=100x100&data=\"https://arxiv.org/abs/2309.10845\"></div>"
      ],
      "text/plain": [
       "<IPython.core.display.Markdown object>"
      ]
     },
     "metadata": {},
     "output_type": "display_data"
    }
   ],
   "source": [
    "[display(Markdown(k[1])) for k in documents];"
   ]
  },
  {
   "cell_type": "markdown",
   "id": "873873a4",
   "metadata": {
    "papermill": {
     "duration": 0.007192,
     "end_time": "2023-09-21T04:07:38.004265",
     "exception": false,
     "start_time": "2023-09-21T04:07:37.997073",
     "status": "completed"
    },
    "tags": []
   },
   "source": [
    "# Create HTML index"
   ]
  },
  {
   "cell_type": "code",
   "execution_count": 9,
   "id": "cf665672",
   "metadata": {
    "execution": {
     "iopub.execute_input": "2023-09-21T04:07:38.022235Z",
     "iopub.status.busy": "2023-09-21T04:07:38.021844Z",
     "iopub.status.idle": "2023-09-21T04:07:38.035405Z",
     "shell.execute_reply": "2023-09-21T04:07:38.034463Z"
    },
    "papermill": {
     "duration": 0.026338,
     "end_time": "2023-09-21T04:07:38.037526",
     "exception": false,
     "start_time": "2023-09-21T04:07:38.011188",
     "status": "completed"
    },
    "tags": []
   },
   "outputs": [
    {
     "name": "stdout",
     "output_type": "stream",
     "text": [
      "276  publications files modified in the last 7 days.\n"
     ]
    }
   ],
   "source": [
    "from datetime import datetime, timedelta, timezone\n",
    "from glob import glob\n",
    "import os\n",
    "\n",
    "files = glob('_build/html/*.md')\n",
    "days = 7\n",
    "now = datetime.today()\n",
    "res = []\n",
    "for fk in files:\n",
    "    stat_result = os.stat(fk).st_ctime\n",
    "    modified = datetime.fromtimestamp(stat_result, tz=timezone.utc).replace(tzinfo=None)\n",
    "    delta = now.today() - modified\n",
    "    if delta <= timedelta(days=days):\n",
    "        res.append((delta.seconds, fk))\n",
    "res = [k[1] for k in reversed(sorted(res, key=lambda x:x[1]))]\n",
    "npub = len(res)\n",
    "print(len(res), f\" publications files modified in the last {days:d} days.\")\n",
    "# [ print('\\t', k) for k in res ];"
   ]
  },
  {
   "cell_type": "code",
   "execution_count": 10,
   "id": "015de740",
   "metadata": {
    "execution": {
     "iopub.execute_input": "2023-09-21T04:07:38.055223Z",
     "iopub.status.busy": "2023-09-21T04:07:38.054505Z",
     "iopub.status.idle": "2023-09-21T04:07:38.085706Z",
     "shell.execute_reply": "2023-09-21T04:07:38.084746Z"
    },
    "papermill": {
     "duration": 0.042567,
     "end_time": "2023-09-21T04:07:38.087846",
     "exception": false,
     "start_time": "2023-09-21T04:07:38.045279",
     "status": "completed"
    },
    "tags": []
   },
   "outputs": [
    {
     "name": "stdout",
     "output_type": "stream",
     "text": [
      "7  publications in the last 7 days.\n"
     ]
    }
   ],
   "source": [
    "import datetime\n",
    "from glob import glob\n",
    "\n",
    "def get_last_n_days(lst, days=1):\n",
    "    \"\"\" Get the documents from the last n days \"\"\"\n",
    "    sorted_lst = sorted(lst, key=lambda x: x[1], reverse=True)\n",
    "    for fname, date in sorted_lst:\n",
    "        if date >= str(datetime.date.today() - datetime.timedelta(days=days)):\n",
    "            yield fname\n",
    "\n",
    "def extract_appearance_dates(lst_file):\n",
    "    dates = []\n",
    "\n",
    "    def get_date(line):\n",
    "        return line\\\n",
    "            .split('Appeared on:')[-1]\\\n",
    "            .split('</mark>')[0].strip()\n",
    "\n",
    "    for fname in lst:\n",
    "        with open(fname, 'r') as f:\n",
    "            found_date = False\n",
    "            for line in f:\n",
    "                if not found_date:\n",
    "                    if \"Appeared on\" in line:\n",
    "                        found_date = True\n",
    "                        dates.append((fname, get_date(line)))\n",
    "                else:\n",
    "                    break\n",
    "    return dates\n",
    "\n",
    "from glob import glob\n",
    "lst = glob('_build/html/*md')\n",
    "days = 7\n",
    "dates = extract_appearance_dates(lst)\n",
    "res = list(get_last_n_days(dates, days))\n",
    "npub = len(res)\n",
    "print(len(res), f\" publications in the last {days:d} days.\")"
   ]
  },
  {
   "cell_type": "code",
   "execution_count": 11,
   "id": "52ca0208",
   "metadata": {
    "execution": {
     "iopub.execute_input": "2023-09-21T04:07:38.105402Z",
     "iopub.status.busy": "2023-09-21T04:07:38.104556Z",
     "iopub.status.idle": "2023-09-21T04:07:38.112540Z",
     "shell.execute_reply": "2023-09-21T04:07:38.111616Z"
    },
    "papermill": {
     "duration": 0.019563,
     "end_time": "2023-09-21T04:07:38.115245",
     "exception": false,
     "start_time": "2023-09-21T04:07:38.095682",
     "status": "completed"
    },
    "scrolled": false,
    "tags": []
   },
   "outputs": [],
   "source": [
    "def create_carousel(npub=4):\n",
    "    \"\"\" Generate the HTML code for a carousel with `npub` slides \"\"\"\n",
    "    carousel = [\"\"\"  <div class=\"carousel\" \"\"\",\n",
    "                \"\"\"       data-flickity='{ \"autoPlay\": 10000, \"adaptiveHeight\": true, \"resize\": true, \"wrapAround\": true, \"pauseAutoPlayOnHover\": true, \"groupCells\": 1 }' id=\"asyncTypeset\">\"\"\"\n",
    "                ]\n",
    "    \n",
    "    item_str = \"\"\"    <div class=\"carousel-cell\"> <div id=\"slide{k}\" class=\"md_view\">Content {k}</div> </div>\"\"\"\n",
    "    for k in range(1, npub + 1):\n",
    "        carousel.append(item_str.format(k=k))\n",
    "    carousel.append(\"  </div>\")\n",
    "    return '\\n'.join(carousel)\n",
    "\n",
    "def create_grid(npub=4):\n",
    "    \"\"\" Generate the HTML code for a flat grid with `npub` slides \"\"\"\n",
    "    grid = [\"\"\"  <div class=\"grid\"> \"\"\",\n",
    "                ]\n",
    "    \n",
    "    item_str = \"\"\"    <div class=\"grid-item\"> <div id=\"slide{k}\" class=\"md_view\">Content {k}</div> </div>\"\"\"\n",
    "    for k in range(1, npub + 1):\n",
    "        grid.append(item_str.format(k=k))\n",
    "    grid.append(\"  </div>\")\n",
    "    return '\\n'.join(grid)"
   ]
  },
  {
   "cell_type": "code",
   "execution_count": 12,
   "id": "a6eac5b6",
   "metadata": {
    "execution": {
     "iopub.execute_input": "2023-09-21T04:07:38.137279Z",
     "iopub.status.busy": "2023-09-21T04:07:38.135032Z",
     "iopub.status.idle": "2023-09-21T04:07:38.149764Z",
     "shell.execute_reply": "2023-09-21T04:07:38.148472Z"
    },
    "papermill": {
     "duration": 0.029383,
     "end_time": "2023-09-21T04:07:38.152028",
     "exception": false,
     "start_time": "2023-09-21T04:07:38.122645",
     "status": "completed"
    },
    "scrolled": false,
    "tags": []
   },
   "outputs": [],
   "source": [
    "carousel = create_carousel(npub)\n",
    "docs = ', '.join(['\"{0:s}\"'.format(k.split('/')[-1]) for k in res])\n",
    "slides = ', '.join([f'\"slide{k}\"' for k in range(1, npub + 1)])\n",
    "\n",
    "with open(\"daily_template.html\", \"r\") as tpl:\n",
    "    page = tpl.read()\n",
    "    page = page.replace(\"{%-- carousel:s --%}\", carousel)\\\n",
    "               .replace(\"{%-- suptitle:s --%}\",  \"7-day archives\" )\\\n",
    "               .replace(\"{%-- docs:s --%}\", docs)\\\n",
    "               .replace(\"{%-- slides:s --%}\", slides)\n",
    "    \n",
    "with open(\"_build/html/index_7days.html\", 'w') as fout:\n",
    "    fout.write(page)"
   ]
  },
  {
   "cell_type": "code",
   "execution_count": 13,
   "id": "adc1a1ec",
   "metadata": {
    "execution": {
     "iopub.execute_input": "2023-09-21T04:07:38.168489Z",
     "iopub.status.busy": "2023-09-21T04:07:38.167791Z",
     "iopub.status.idle": "2023-09-21T04:07:38.178296Z",
     "shell.execute_reply": "2023-09-21T04:07:38.177264Z"
    },
    "papermill": {
     "duration": 0.021274,
     "end_time": "2023-09-21T04:07:38.180783",
     "exception": false,
     "start_time": "2023-09-21T04:07:38.159509",
     "status": "completed"
    },
    "tags": []
   },
   "outputs": [
    {
     "name": "stdout",
     "output_type": "stream",
     "text": [
      "3  publications in the last day.\n"
     ]
    }
   ],
   "source": [
    "# redo for today\n",
    "days = 1\n",
    "res = list(get_last_n_days(dates, days))\n",
    "npub = len(res)\n",
    "print(len(res), f\" publications in the last day.\")\n",
    "\n",
    "carousel = create_carousel(npub)\n",
    "docs = ', '.join(['\"{0:s}\"'.format(k.split('/')[-1]) for k in res])\n",
    "slides = ', '.join([f'\"slide{k}\"' for k in range(1, npub + 1)])\n",
    "\n",
    "with open(\"daily_template.html\", \"r\") as tpl:\n",
    "    page = tpl.read()\n",
    "    page = page.replace(\"{%-- carousel:s --%}\", carousel)\\\n",
    "               .replace(\"{%-- suptitle:s --%}\",  \"Daily\" )\\\n",
    "               .replace(\"{%-- docs:s --%}\", docs)\\\n",
    "               .replace(\"{%-- slides:s --%}\", slides)\n",
    "    \n",
    "# print(carousel, docs, slides)\n",
    "# print(page)\n",
    "with open(\"_build/html/index_daily.html\", 'w') as fout:\n",
    "    fout.write(page)"
   ]
  },
  {
   "cell_type": "code",
   "execution_count": 14,
   "id": "00eece82",
   "metadata": {
    "execution": {
     "iopub.execute_input": "2023-09-21T04:07:38.197501Z",
     "iopub.status.busy": "2023-09-21T04:07:38.197104Z",
     "iopub.status.idle": "2023-09-21T04:07:38.209623Z",
     "shell.execute_reply": "2023-09-21T04:07:38.208756Z"
    },
    "papermill": {
     "duration": 0.023795,
     "end_time": "2023-09-21T04:07:38.211830",
     "exception": false,
     "start_time": "2023-09-21T04:07:38.188035",
     "status": "completed"
    },
    "scrolled": false,
    "tags": []
   },
   "outputs": [
    {
     "name": "stdout",
     "output_type": "stream",
     "text": [
      "6  6 publications selected.\n"
     ]
    }
   ],
   "source": [
    "# Create the flat grid of the last N papers (fixed number regardless of dates)\n",
    "from itertools import islice \n",
    "\n",
    "npub = 6\n",
    "res = [k[0] for k in (islice(reversed(sorted(dates, key=lambda x: x[1])), 6))]\n",
    "print(len(res), f\" {npub} publications selected.\")\n",
    "\n",
    "grid = create_grid(npub)\n",
    "docs = ', '.join(['\"{0:s}\"'.format(k.split('/')[-1]) for k in res])\n",
    "slides = ', '.join([f'\"slide{k}\"' for k in range(1, npub + 1)])\n",
    "\n",
    "with open(\"grid_template.html\", \"r\") as tpl:\n",
    "    page = tpl.read()\n",
    "    page = page.replace(\"{%-- grid-content:s --%}\", grid)\\\n",
    "               .replace(\"{%-- suptitle:s --%}\",  f\"Last {npub:,d} papers\" )\\\n",
    "               .replace(\"{%-- docs:s --%}\", docs)\\\n",
    "               .replace(\"{%-- slides:s --%}\", slides)\n",
    "    \n",
    "# print(grid, docs, slides)\n",
    "# print(page)\n",
    "with open(\"_build/html/index_npub_grid.html\", 'w') as fout:\n",
    "    fout.write(page)"
   ]
  }
 ],
 "metadata": {
  "kernelspec": {
   "display_name": "Python 3 (ipykernel)",
   "language": "python",
   "name": "python3"
  },
  "language_info": {
   "codemirror_mode": {
    "name": "ipython",
    "version": 3
   },
   "file_extension": ".py",
   "mimetype": "text/x-python",
   "name": "python",
   "nbconvert_exporter": "python",
   "pygments_lexer": "ipython3",
   "version": "3.9.18"
  },
  "papermill": {
   "default_parameters": {},
   "duration": 62.947543,
   "end_time": "2023-09-21T04:07:38.540875",
   "environment_variables": {},
   "exception": null,
   "input_path": "MPIA daily digest.ipynb",
   "output_path": "log.ipynb",
   "parameters": {},
   "start_time": "2023-09-21T04:06:35.593332",
   "version": "2.4.0"
  },
  "vscode": {
   "interpreter": {
    "hash": "aee8b7b246df8f9039afb4144a1f6fd8d2ca17a180786b69acc140d282b71a49"
   }
  },
  "widgets": {
   "application/vnd.jupyter.widget-state+json": {
    "state": {
     "0f6cae1f166c4e3397ab0d03e1ba344e": {
      "model_module": "@jupyter-widgets/controls",
      "model_module_version": "2.0.0",
      "model_name": "HTMLModel",
      "state": {
       "_dom_classes": [],
       "_model_module": "@jupyter-widgets/controls",
       "_model_module_version": "2.0.0",
       "_model_name": "HTMLModel",
       "_view_count": null,
       "_view_module": "@jupyter-widgets/controls",
       "_view_module_version": "2.0.0",
       "_view_name": "HTMLView",
       "description": "",
       "description_allow_html": false,
       "layout": "IPY_MODEL_e7417631bde84f9ba92d546db3440c4c",
       "placeholder": "​",
       "style": "IPY_MODEL_3b77250805af40aab7ac0d3c56bd9b2a",
       "tabbable": null,
       "tooltip": null,
       "value": " 3/3 [00:34&lt;00:00,  8.03s/it]"
      }
     },
     "0f8d849fffe64931b55596169fcb3f65": {
      "model_module": "@jupyter-widgets/controls",
      "model_module_version": "2.0.0",
      "model_name": "ProgressStyleModel",
      "state": {
       "_model_module": "@jupyter-widgets/controls",
       "_model_module_version": "2.0.0",
       "_model_name": "ProgressStyleModel",
       "_view_count": null,
       "_view_module": "@jupyter-widgets/base",
       "_view_module_version": "2.0.0",
       "_view_name": "StyleView",
       "bar_color": null,
       "description_width": ""
      }
     },
     "10b230d9d01946d7a590a9c0fd963692": {
      "model_module": "@jupyter-widgets/controls",
      "model_module_version": "2.0.0",
      "model_name": "HBoxModel",
      "state": {
       "_dom_classes": [],
       "_model_module": "@jupyter-widgets/controls",
       "_model_module_version": "2.0.0",
       "_model_name": "HBoxModel",
       "_view_count": null,
       "_view_module": "@jupyter-widgets/controls",
       "_view_module_version": "2.0.0",
       "_view_name": "HBoxView",
       "box_style": "",
       "children": [
        "IPY_MODEL_ace46b2214004b53a7586190f4453c13",
        "IPY_MODEL_f3fd2ca159594cf7ab4018b98dc5e655",
        "IPY_MODEL_0f6cae1f166c4e3397ab0d03e1ba344e"
       ],
       "layout": "IPY_MODEL_21ebd37d96bc441d85276f327e8284a7",
       "tabbable": null,
       "tooltip": null
      }
     },
     "21ebd37d96bc441d85276f327e8284a7": {
      "model_module": "@jupyter-widgets/base",
      "model_module_version": "2.0.0",
      "model_name": "LayoutModel",
      "state": {
       "_model_module": "@jupyter-widgets/base",
       "_model_module_version": "2.0.0",
       "_model_name": "LayoutModel",
       "_view_count": null,
       "_view_module": "@jupyter-widgets/base",
       "_view_module_version": "2.0.0",
       "_view_name": "LayoutView",
       "align_content": null,
       "align_items": null,
       "align_self": null,
       "border_bottom": null,
       "border_left": null,
       "border_right": null,
       "border_top": null,
       "bottom": null,
       "display": null,
       "flex": null,
       "flex_flow": null,
       "grid_area": null,
       "grid_auto_columns": null,
       "grid_auto_flow": null,
       "grid_auto_rows": null,
       "grid_column": null,
       "grid_gap": null,
       "grid_row": null,
       "grid_template_areas": null,
       "grid_template_columns": null,
       "grid_template_rows": null,
       "height": null,
       "justify_content": null,
       "justify_items": null,
       "left": null,
       "margin": null,
       "max_height": null,
       "max_width": null,
       "min_height": null,
       "min_width": null,
       "object_fit": null,
       "object_position": null,
       "order": null,
       "overflow": null,
       "padding": null,
       "right": null,
       "top": null,
       "visibility": null,
       "width": null
      }
     },
     "3b77250805af40aab7ac0d3c56bd9b2a": {
      "model_module": "@jupyter-widgets/controls",
      "model_module_version": "2.0.0",
      "model_name": "HTMLStyleModel",
      "state": {
       "_model_module": "@jupyter-widgets/controls",
       "_model_module_version": "2.0.0",
       "_model_name": "HTMLStyleModel",
       "_view_count": null,
       "_view_module": "@jupyter-widgets/base",
       "_view_module_version": "2.0.0",
       "_view_name": "StyleView",
       "background": null,
       "description_width": "",
       "font_size": null,
       "text_color": null
      }
     },
     "581ffe2e227748fcae0603a9481cf587": {
      "model_module": "@jupyter-widgets/base",
      "model_module_version": "2.0.0",
      "model_name": "LayoutModel",
      "state": {
       "_model_module": "@jupyter-widgets/base",
       "_model_module_version": "2.0.0",
       "_model_name": "LayoutModel",
       "_view_count": null,
       "_view_module": "@jupyter-widgets/base",
       "_view_module_version": "2.0.0",
       "_view_name": "LayoutView",
       "align_content": null,
       "align_items": null,
       "align_self": null,
       "border_bottom": null,
       "border_left": null,
       "border_right": null,
       "border_top": null,
       "bottom": null,
       "display": null,
       "flex": null,
       "flex_flow": null,
       "grid_area": null,
       "grid_auto_columns": null,
       "grid_auto_flow": null,
       "grid_auto_rows": null,
       "grid_column": null,
       "grid_gap": null,
       "grid_row": null,
       "grid_template_areas": null,
       "grid_template_columns": null,
       "grid_template_rows": null,
       "height": null,
       "justify_content": null,
       "justify_items": null,
       "left": null,
       "margin": null,
       "max_height": null,
       "max_width": null,
       "min_height": null,
       "min_width": null,
       "object_fit": null,
       "object_position": null,
       "order": null,
       "overflow": null,
       "padding": null,
       "right": null,
       "top": null,
       "visibility": null,
       "width": null
      }
     },
     "ace46b2214004b53a7586190f4453c13": {
      "model_module": "@jupyter-widgets/controls",
      "model_module_version": "2.0.0",
      "model_name": "HTMLModel",
      "state": {
       "_dom_classes": [],
       "_model_module": "@jupyter-widgets/controls",
       "_model_module_version": "2.0.0",
       "_model_name": "HTMLModel",
       "_view_count": null,
       "_view_module": "@jupyter-widgets/controls",
       "_view_module_version": "2.0.0",
       "_view_name": "HTMLView",
       "description": "",
       "description_allow_html": false,
       "layout": "IPY_MODEL_581ffe2e227748fcae0603a9481cf587",
       "placeholder": "​",
       "style": "IPY_MODEL_fe1dbf2df6d34a129f87f7a24b6c1699",
       "tabbable": null,
       "tooltip": null,
       "value": "100%"
      }
     },
     "e7417631bde84f9ba92d546db3440c4c": {
      "model_module": "@jupyter-widgets/base",
      "model_module_version": "2.0.0",
      "model_name": "LayoutModel",
      "state": {
       "_model_module": "@jupyter-widgets/base",
       "_model_module_version": "2.0.0",
       "_model_name": "LayoutModel",
       "_view_count": null,
       "_view_module": "@jupyter-widgets/base",
       "_view_module_version": "2.0.0",
       "_view_name": "LayoutView",
       "align_content": null,
       "align_items": null,
       "align_self": null,
       "border_bottom": null,
       "border_left": null,
       "border_right": null,
       "border_top": null,
       "bottom": null,
       "display": null,
       "flex": null,
       "flex_flow": null,
       "grid_area": null,
       "grid_auto_columns": null,
       "grid_auto_flow": null,
       "grid_auto_rows": null,
       "grid_column": null,
       "grid_gap": null,
       "grid_row": null,
       "grid_template_areas": null,
       "grid_template_columns": null,
       "grid_template_rows": null,
       "height": null,
       "justify_content": null,
       "justify_items": null,
       "left": null,
       "margin": null,
       "max_height": null,
       "max_width": null,
       "min_height": null,
       "min_width": null,
       "object_fit": null,
       "object_position": null,
       "order": null,
       "overflow": null,
       "padding": null,
       "right": null,
       "top": null,
       "visibility": null,
       "width": null
      }
     },
     "f3fd2ca159594cf7ab4018b98dc5e655": {
      "model_module": "@jupyter-widgets/controls",
      "model_module_version": "2.0.0",
      "model_name": "FloatProgressModel",
      "state": {
       "_dom_classes": [],
       "_model_module": "@jupyter-widgets/controls",
       "_model_module_version": "2.0.0",
       "_model_name": "FloatProgressModel",
       "_view_count": null,
       "_view_module": "@jupyter-widgets/controls",
       "_view_module_version": "2.0.0",
       "_view_name": "ProgressView",
       "bar_style": "success",
       "description": "",
       "description_allow_html": false,
       "layout": "IPY_MODEL_fb27b4e2f636448cb0f7cbb52d91e058",
       "max": 3.0,
       "min": 0.0,
       "orientation": "horizontal",
       "style": "IPY_MODEL_0f8d849fffe64931b55596169fcb3f65",
       "tabbable": null,
       "tooltip": null,
       "value": 3.0
      }
     },
     "fb27b4e2f636448cb0f7cbb52d91e058": {
      "model_module": "@jupyter-widgets/base",
      "model_module_version": "2.0.0",
      "model_name": "LayoutModel",
      "state": {
       "_model_module": "@jupyter-widgets/base",
       "_model_module_version": "2.0.0",
       "_model_name": "LayoutModel",
       "_view_count": null,
       "_view_module": "@jupyter-widgets/base",
       "_view_module_version": "2.0.0",
       "_view_name": "LayoutView",
       "align_content": null,
       "align_items": null,
       "align_self": null,
       "border_bottom": null,
       "border_left": null,
       "border_right": null,
       "border_top": null,
       "bottom": null,
       "display": null,
       "flex": null,
       "flex_flow": null,
       "grid_area": null,
       "grid_auto_columns": null,
       "grid_auto_flow": null,
       "grid_auto_rows": null,
       "grid_column": null,
       "grid_gap": null,
       "grid_row": null,
       "grid_template_areas": null,
       "grid_template_columns": null,
       "grid_template_rows": null,
       "height": null,
       "justify_content": null,
       "justify_items": null,
       "left": null,
       "margin": null,
       "max_height": null,
       "max_width": null,
       "min_height": null,
       "min_width": null,
       "object_fit": null,
       "object_position": null,
       "order": null,
       "overflow": null,
       "padding": null,
       "right": null,
       "top": null,
       "visibility": null,
       "width": null
      }
     },
     "fe1dbf2df6d34a129f87f7a24b6c1699": {
      "model_module": "@jupyter-widgets/controls",
      "model_module_version": "2.0.0",
      "model_name": "HTMLStyleModel",
      "state": {
       "_model_module": "@jupyter-widgets/controls",
       "_model_module_version": "2.0.0",
       "_model_name": "HTMLStyleModel",
       "_view_count": null,
       "_view_module": "@jupyter-widgets/base",
       "_view_module_version": "2.0.0",
       "_view_name": "StyleView",
       "background": null,
       "description_width": "",
       "font_size": null,
       "text_color": null
      }
     }
    },
    "version_major": 2,
    "version_minor": 0
   }
  }
 },
 "nbformat": 4,
 "nbformat_minor": 5
}