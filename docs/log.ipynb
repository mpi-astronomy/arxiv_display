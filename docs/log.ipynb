{
 "cells": [
  {
   "cell_type": "markdown",
   "id": "92bcb855",
   "metadata": {
    "papermill": {
     "duration": 0.005189,
     "end_time": "2023-08-30T04:04:35.506208",
     "exception": false,
     "start_time": "2023-08-30T04:04:35.501019",
     "status": "completed"
    },
    "tags": []
   },
   "source": [
    "# MPIA Arxiv on Deck 2\n",
    "\n",
    "Contains the steps to produce the paper extractions."
   ]
  },
  {
   "cell_type": "code",
   "execution_count": 1,
   "id": "3a0d6e11",
   "metadata": {
    "execution": {
     "iopub.execute_input": "2023-08-30T04:04:35.515727Z",
     "iopub.status.busy": "2023-08-30T04:04:35.514962Z",
     "iopub.status.idle": "2023-08-30T04:04:35.755695Z",
     "shell.execute_reply": "2023-08-30T04:04:35.754988Z"
    },
    "papermill": {
     "duration": 0.247525,
     "end_time": "2023-08-30T04:04:35.757813",
     "exception": false,
     "start_time": "2023-08-30T04:04:35.510288",
     "status": "completed"
    },
    "tags": []
   },
   "outputs": [],
   "source": [
    "# Imports\n",
    "import os\n",
    "from IPython.display import Markdown, display\n",
    "from tqdm.notebook import tqdm\n",
    "import warnings\n",
    "from PIL import Image \n",
    "\n",
    "# requires arxiv_on_deck_2\n",
    "\n",
    "from arxiv_on_deck_2.arxiv2 import (get_new_papers, \n",
    "                                    get_paper_from_identifier,\n",
    "                                    retrieve_document_source, \n",
    "                                    get_markdown_badge)\n",
    "from arxiv_on_deck_2 import (latex,\n",
    "                             latex_bib,\n",
    "                             mpia,\n",
    "                             highlight_authors_in_list)\n",
    "\n",
    "# Sometimes images are really big\n",
    "Image.MAX_IMAGE_PIXELS = 1000000000 "
   ]
  },
  {
   "cell_type": "code",
   "execution_count": 2,
   "id": "22aa9d44",
   "metadata": {
    "execution": {
     "iopub.execute_input": "2023-08-30T04:04:35.767250Z",
     "iopub.status.busy": "2023-08-30T04:04:35.766809Z",
     "iopub.status.idle": "2023-08-30T04:04:35.772597Z",
     "shell.execute_reply": "2023-08-30T04:04:35.771912Z"
    },
    "papermill": {
     "duration": 0.011997,
     "end_time": "2023-08-30T04:04:35.774182",
     "exception": false,
     "start_time": "2023-08-30T04:04:35.762185",
     "status": "completed"
    },
    "tags": []
   },
   "outputs": [],
   "source": [
    "# Some useful definitions.\n",
    "\n",
    "class AffiliationWarning(UserWarning):\n",
    "    pass\n",
    "\n",
    "class AffiliationError(RuntimeError):\n",
    "    pass\n",
    "\n",
    "def validation(source: str):\n",
    "    \"\"\"Raises error paper during parsing of source file\n",
    "    \n",
    "    Allows checks before parsing TeX code.\n",
    "    \n",
    "    Raises AffiliationWarning\n",
    "    \"\"\"\n",
    "    check = mpia.affiliation_verifications(source, verbose=True)\n",
    "    if check is not True:\n",
    "        raise AffiliationError(\"mpia.affiliation_verifications: \" + check)\n",
    "\n",
    "        \n",
    "warnings.simplefilter('always', AffiliationWarning)\n",
    "\n",
    "\n",
    "def get_markdown_qrcode(paper_id: str):\n",
    "    \"\"\" Generate a qrcode to the arxiv page using qrserver.com\n",
    "    \n",
    "    :param paper: Arxiv paper\n",
    "    :returns: markdown text\n",
    "    \"\"\"\n",
    "    url = r\"https://api.qrserver.com/v1/create-qr-code/?size=100x100&data=\"\n",
    "    txt = f\"\"\"<img src={url}\"https://arxiv.org/abs/{paper_id}\">\"\"\"\n",
    "    txt = '<div id=\"qrcode\">' + txt + '</div>'\n",
    "    return txt"
   ]
  },
  {
   "cell_type": "markdown",
   "id": "14bd6310",
   "metadata": {
    "papermill": {
     "duration": 0.003418,
     "end_time": "2023-08-30T04:04:35.781040",
     "exception": false,
     "start_time": "2023-08-30T04:04:35.777622",
     "status": "completed"
    },
    "tags": []
   },
   "source": [
    "## get list of arxiv paper candidates\n",
    "\n",
    "We use the MPIA mitarbeiter list webpage from mpia.de to get author names\n",
    "We then get all new papers from Arxiv and match authors"
   ]
  },
  {
   "cell_type": "code",
   "execution_count": 3,
   "id": "2645e73a",
   "metadata": {
    "execution": {
     "iopub.execute_input": "2023-08-30T04:04:35.790669Z",
     "iopub.status.busy": "2023-08-30T04:04:35.790090Z",
     "iopub.status.idle": "2023-08-30T04:04:57.287916Z",
     "shell.execute_reply": "2023-08-30T04:04:57.287212Z"
    },
    "papermill": {
     "duration": 21.503635,
     "end_time": "2023-08-30T04:04:57.289483",
     "exception": false,
     "start_time": "2023-08-30T04:04:35.785848",
     "status": "completed"
    },
    "tags": []
   },
   "outputs": [
    {
     "name": "stdout",
     "output_type": "stream",
     "text": [
      "A. Pillepich  ->  A. Pillepich  |  ['A. Pillepich']\n",
      "L. Eisert  ->  L. Eisert  |  ['L. Eisert']\n",
      "J. Mah  ->  J. Mah  |  ['J. Mah']\n",
      "Arxiv has 56 new papers today\n",
      "          2 with possible author matches\n"
     ]
    }
   ],
   "source": [
    "# get list from MPIA website\n",
    "# it automatically filters identified non-scientists :func:`mpia.filter_non_scientists`\n",
    "mpia_authors = mpia.get_mpia_mitarbeiter_list()\n",
    "normed_mpia_authors = [k[1] for k in mpia_authors]   # initials + fullname\n",
    "new_papers = get_new_papers()\n",
    "# add manual references\n",
    "add_paper_refs = []\n",
    "new_papers.extend([get_paper_from_identifier(k) for k in add_paper_refs])\n",
    "\n",
    "candidates = []\n",
    "for paperk in new_papers:\n",
    "    # Check author list with their initials\n",
    "    normed_author_list = [mpia.get_initials(k) for k in paperk['authors']]\n",
    "    hl_authors = highlight_authors_in_list(normed_author_list, normed_mpia_authors, verbose=True)\n",
    "    matches = [(hl, orig) for hl, orig in zip(hl_authors, paperk['authors']) if 'mark' in hl]\n",
    "    paperk['authors'] = hl_authors\n",
    "    if matches:\n",
    "        # only select paper if an author matched our list\n",
    "        candidates.append(paperk)\n",
    "print(\"\"\"Arxiv has {0:,d} new papers today\"\"\".format(len(new_papers)))        \n",
    "print(\"\"\"          {0:,d} with possible author matches\"\"\".format(len(candidates)))"
   ]
  },
  {
   "cell_type": "markdown",
   "id": "3543b34a",
   "metadata": {
    "papermill": {
     "duration": 0.003725,
     "end_time": "2023-08-30T04:04:57.297182",
     "exception": false,
     "start_time": "2023-08-30T04:04:57.293457",
     "status": "completed"
    },
    "tags": []
   },
   "source": [
    "# Parse sources and generate relevant outputs\n",
    "\n",
    "From the candidates, we do the following steps:\n",
    "* get their tarball from ArXiv (and extract data)\n",
    "* find the main .tex file: find one with \\documentclass{...} (sometimes it's non trivial)\n",
    "* Check affiliations with :func:`validation`, which uses :func:`mpia.affiliation_verifications`\n",
    "* If passing the affiliations: we parse the .tex source\n",
    "   * inject sub-documents into the main (flatten the main document)\n",
    "   * parse structure, extract information (title, abstract, authors, figures...)\n",
    "   * handles `\\graphicspath` if provided\n",
    "* Generate the .md document."
   ]
  },
  {
   "cell_type": "code",
   "execution_count": 4,
   "id": "9576b79e",
   "metadata": {
    "execution": {
     "iopub.execute_input": "2023-08-30T04:04:57.305839Z",
     "iopub.status.busy": "2023-08-30T04:04:57.305580Z",
     "iopub.status.idle": "2023-08-30T04:05:53.275852Z",
     "shell.execute_reply": "2023-08-30T04:05:53.275131Z"
    },
    "papermill": {
     "duration": 55.980115,
     "end_time": "2023-08-30T04:05:53.280866",
     "exception": false,
     "start_time": "2023-08-30T04:04:57.300751",
     "status": "completed"
    },
    "scrolled": false,
    "tags": []
   },
   "outputs": [
    {
     "data": {
      "application/vnd.jupyter.widget-view+json": {
       "model_id": "efd68f7c9b874bde998635f7b54bced6",
       "version_major": 2,
       "version_minor": 0
      },
      "text/plain": [
       "  0%|          | 0/2 [00:00<?, ?it/s]"
      ]
     },
     "metadata": {},
     "output_type": "display_data"
    },
    {
     "name": "stdout",
     "output_type": "stream",
     "text": [
      "Retrieving document from  https://arxiv.org/e-print/2308.14793\n"
     ]
    },
    {
     "name": "stdout",
     "output_type": "stream",
     "text": [
      "extracting tarball to tmp_2308.14793..."
     ]
    },
    {
     "name": "stdout",
     "output_type": "stream",
     "text": [
      " done.\n"
     ]
    },
    {
     "name": "stderr",
     "output_type": "stream",
     "text": [
      "/opt/hostedtoolcache/Python/3.9.17/x64/lib/python3.9/site-packages/arxiv_on_deck_2/latex.py:473: LatexWarning: Error parsing the document directly. Trying to recover.\n",
      "  warnings.warn(LatexWarning(f\"Error parsing the document directly. Trying to recover.\"))\n"
     ]
    },
    {
     "name": "stdout",
     "output_type": "stream",
     "text": [
      "✔ → 0:header\n",
      "  ↳ 6684:\\section{Introduction}\n"
     ]
    },
    {
     "name": "stdout",
     "output_type": "stream",
     "text": [
      "✔ → 6684:\\section{Introduction}\n",
      "  ↳ 19350:\\section{Simulation data and forward-modelling}\\label{sec:data}\n"
     ]
    },
    {
     "name": "stdout",
     "output_type": "stream",
     "text": [
      "✔ → 19350:\\section{Simulation data and forward-modelling}\\label{sec:data}\n",
      "  ↳ 49443:\\section{Measurements and methods}\\label{sec:measurements}\n"
     ]
    },
    {
     "name": "stdout",
     "output_type": "stream",
     "text": [
      "✘ → 49443:\\section{Measurements and methods}\\label{sec:measurements}\n",
      "  ↳ 81222:\\section{Results with TNG50: Star formation, Asymmetry, and Mergers}\\label{sec:results}\n"
     ]
    },
    {
     "name": "stdout",
     "output_type": "stream",
     "text": [
      "✔ → 81222:\\section{Results with TNG50: Star formation, Asymmetry, and Mergers}\\label{sec:results}\n",
      "  ↳ 126725:\\section{Discussion}\\label{sec:discussion}\n"
     ]
    },
    {
     "name": "stdout",
     "output_type": "stream",
     "text": [
      "✔ → 126725:\\section{Discussion}\\label{sec:discussion}\n",
      "  ↳ 162921:\\section{Summary}\n"
     ]
    },
    {
     "name": "stdout",
     "output_type": "stream",
     "text": [
      "✔ → 162921:\\section{Summary}\n",
      "  ↳ 174746:\\section{Merger and environment tables} \\label{sec:tables}\n"
     ]
    },
    {
     "name": "stdout",
     "output_type": "stream",
     "text": [
      "✔ → 174746:\\section{Merger and environment tables} \\label{sec:tables}\n",
      "  ↳ 183166:end\n"
     ]
    },
    {
     "name": "stdout",
     "output_type": "stream",
     "text": [
      "Found 322 bibliographic references in tmp_2308.14793/ms.bbl.\n",
      "syntax error in line 501: '=' expected\n",
      "Retrieving document from  https://arxiv.org/e-print/2308.15128\n"
     ]
    },
    {
     "name": "stdout",
     "output_type": "stream",
     "text": [
      "extracting tarball to tmp_2308.15128..."
     ]
    },
    {
     "name": "stdout",
     "output_type": "stream",
     "text": [
      " done.\n"
     ]
    },
    {
     "name": "stdout",
     "output_type": "stream",
     "text": [
      "J. Mah  ->  J. Mah  |  ['J. Mah']\n"
     ]
    },
    {
     "name": "stdout",
     "output_type": "stream",
     "text": [
      "Found 72 bibliographic references in tmp_2308.15128/main.bbl.\n",
      "syntax error in line 310: '}' expected\n"
     ]
    }
   ],
   "source": [
    "documents = []\n",
    "failed = []\n",
    "for paper in tqdm(candidates):\n",
    "    paper_id = paper['identifier'].lower().replace('arxiv:', '')\n",
    "    \n",
    "    folder = f'tmp_{paper_id}'\n",
    "\n",
    "    try:\n",
    "        if not os.path.isdir(folder):\n",
    "            folder = retrieve_document_source(f\"{paper_id}\", f'tmp_{paper_id}')\n",
    "        \n",
    "        try:\n",
    "            doc = latex.LatexDocument(folder, validation=validation)    \n",
    "        except AffiliationError as affilerror:\n",
    "            msg = f\"ArXiv:{paper_id:s} is not an MPIA paper... \" + str(affilerror)\n",
    "            failed.append((paper, \"affiliation error: \" + str(affilerror) ))\n",
    "            continue\n",
    "        \n",
    "        # Hack because sometimes author parsing does not work well\n",
    "        if (len(doc.authors) != len(paper['authors'])):\n",
    "            doc._authors = paper['authors']\n",
    "        else:\n",
    "            # highlight authors (FIXME: doc.highlight_authors)\n",
    "            # done on arxiv paper already\n",
    "            doc._authors = highlight_authors_in_list(\n",
    "                [mpia.get_initials(k) for k in doc.authors], \n",
    "                normed_mpia_authors, verbose=True)\n",
    "        if (doc.abstract) in (None, ''):\n",
    "            doc._abstract = paper['abstract']\n",
    "            \n",
    "        doc.comment = (get_markdown_badge(paper_id) + \n",
    "                       \"<mark>Appeared on: \" + paper['date'] + \"</mark> - \")\n",
    "        if paper['comments']:\n",
    "            doc.comment += \" _\" + paper['comments'] + \"_\"\n",
    "        \n",
    "        full_md = doc.generate_markdown_text()\n",
    "        \n",
    "        full_md += get_markdown_qrcode(paper_id)\n",
    "        \n",
    "        # replace citations\n",
    "        try:\n",
    "            bibdata = latex_bib.LatexBib.from_doc(doc)\n",
    "            full_md = latex_bib.replace_citations(full_md, bibdata)\n",
    "        except Exception as e:\n",
    "            print(e)\n",
    "        \n",
    "        documents.append((paper_id, full_md))\n",
    "    except Exception as e:\n",
    "        warnings.warn(latex.LatexWarning(f\"{paper_id:s} did not run properly\\n\" +\n",
    "                                         str(e)\n",
    "                                        ))\n",
    "        failed.append((paper, \"latex error \" + str(e)))"
   ]
  },
  {
   "cell_type": "markdown",
   "id": "2505a25c",
   "metadata": {
    "papermill": {
     "duration": 0.005135,
     "end_time": "2023-08-30T04:05:53.290988",
     "exception": false,
     "start_time": "2023-08-30T04:05:53.285853",
     "status": "completed"
    },
    "tags": []
   },
   "source": [
    "### Export the logs\n",
    "\n",
    "Throughout, we also keep track of the logs per paper. see `logs-{today date}.md` "
   ]
  },
  {
   "cell_type": "code",
   "execution_count": 5,
   "id": "d733828a",
   "metadata": {
    "execution": {
     "iopub.execute_input": "2023-08-30T04:05:53.302868Z",
     "iopub.status.busy": "2023-08-30T04:05:53.301915Z",
     "iopub.status.idle": "2023-08-30T04:05:53.316104Z",
     "shell.execute_reply": "2023-08-30T04:05:53.315544Z"
    },
    "papermill": {
     "duration": 0.021806,
     "end_time": "2023-08-30T04:05:53.317573",
     "exception": false,
     "start_time": "2023-08-30T04:05:53.295767",
     "status": "completed"
    },
    "scrolled": false,
    "tags": []
   },
   "outputs": [
    {
     "data": {
      "text/markdown": [
       "## Successful papers"
      ],
      "text/plain": [
       "<IPython.core.display.Markdown object>"
      ]
     },
     "metadata": {},
     "output_type": "display_data"
    },
    {
     "data": {
      "text/markdown": [
       "\n",
       "|||\n",
       "|---:|:---|\n",
       "| [![arXiv](https://img.shields.io/badge/arXiv-arXiv:2308.14793-b31b1b.svg)](https://arxiv.org/abs/arXiv:2308.14793) | **IllustrisTNG in the HSC-SSP: image data release and the major role of  mini mergers as drivers of asymmetry and star formation**  |\n",
       "|| C. Bottrell, et al. -- incl., <mark>A. Pillepich</mark>, <mark>L. Eisert</mark> |\n",
       "|*Appeared on*| *2023-08-30*|\n",
       "|*Comments*| *32 pages; 18 figures; submitted to MNRAS; Image data available via the TNG website: www.tng-project.org/bottrell23*|\n",
       "|**Abstract**| At fixed galaxy stellar mass, there is a clear observational connection between structural asymmetry and offset from the star forming main sequence, $\\Delta$SFMS. Herein, we use the TNG50 simulation to investigate the relative roles of major mergers (stellar mass ratios $\\mu\\geq0.25$), minor ($0.1 \\leq \\mu < 0.25$), and mini mergers ($0.01 \\leq \\mu < 0.1$) in driving this connection amongst star forming galaxies (SFGs). We use dust radiative transfer post-processing with SKIRT to make a large, public collection of synthetic Hyper Suprime-Cam Subaru Strategic Program (HSC-SSP) images of simulated TNG galaxies over $0.1\\leq z \\leq 0.7$ with $\\log M_{\\star} / \\mathrm{M}_{\\odot}\\geq9$ ($\\sim750$k images). Using their instantaneous SFRs, known merger histories/forecasts, and HSC-SSP asymmetries, we show (1) that TNG50 SFGs qualitatively reproduce the observed trend between $\\Delta$SFMS and asymmetry and (2) a strikingly similar trend emerges between $\\Delta$SFMS and the time-to-coalescence for mini mergers. Controlling for redshift, stellar mass, environment, and gas fraction, we show that individual mini merger events yield small enhancements in SFRs and asymmetries that are sustained on long timescales (at least $\\sim3$ Gyr after coalescence, on average) -- in contrast to major/minor merger remnants which peak at much greater amplitudes but are consistent with controls only $\\sim1$ Gyr after coalescence. Integrating the boosts in SFRs and asymmetries driven by $\\mu\\geq0.01$ mergers since $z=0.7$ in TNG50 SFGs, we show that mini mergers are responsible for (i) $55$ per cent of all merger-driven star formation and (ii) $70$ per cent of merger-driven asymmetric structure. Due to their relative frequency and prolonged boost timescales, mini mergers dominate over their minor and major counterparts in driving star formation and asymmetry in SFGs. |"
      ],
      "text/plain": [
       "[arXiv:2308.14793] IllustrisTNG in the HSC-SSP: image data release and the major role of  mini mergers as drivers of asymmetry and star formation\n",
       "\tC. Bottrell, et al. -- incl., <mark>A. Pillepich</mark>, <mark>L. Eisert</mark>"
      ]
     },
     "metadata": {},
     "output_type": "display_data"
    },
    {
     "data": {
      "text/markdown": [
       "\n",
       "|||\n",
       "|---:|:---|\n",
       "| [![arXiv](https://img.shields.io/badge/arXiv-arXiv:2308.15128-b31b1b.svg)](https://arxiv.org/abs/arXiv:2308.15128) | **Close-in ice lines and the super-stellar C/O ratio in discs around very  low-mass stars**  |\n",
       "|| <mark>J. Mah</mark>, B. Bitsch, I. Pascucci, T. Henning |\n",
       "|*Appeared on*| *2023-08-30*|\n",
       "|*Comments*| *Accepted for publication in A&A*|\n",
       "|**Abstract**| The origin of the elevated C/O ratios in discs around late M dwarfs compared to discs around solar-type stars is not well understood. Here we endeavour to reproduce the observed differences in the disc C/O ratios as a function of stellar mass using a viscosity-driven disc evolution model and study the corresponding atmospheric composition of planets that grow inside the water-ice line in these discs. We carried out simulations using a coupled disc evolution and planet formation code that includes pebble drift and evaporation. We used a chemical partitioning model for the dust composition in the disc midplane. Inside the water-ice line, the disc's C/O ratio initially decreases to sub-stellar due to the inward drift and evaporation of water-ice-rich pebbles before increasing again to super-stellar values due to the inward diffusion of carbon-rich vapour. We show that this process is more efficient for very low-mass stars compared to solar-type stars due to the closer-in ice lines and shorter disc viscous timescales. In high-viscosity discs, the transition from sub-stellar to super-stellar takes place faster due to the fast inward advection of carbon-rich gas. Our results suggest that planets accreting their atmospheres early (when the disc C/O is still sub-stellar) will have low atmospheric C/O ratios, while planets that accrete their atmospheres late (when the disc C/O has become super-stellar) can obtain high C/O ratios. Our model predictions are consistent with observations, under the assumption that all stars have the same metallicity and chemical composition, and that the vertical mixing timescales in the inner disc are much shorter than the radial advection timescales. This further strengthens the case for considering stellar abundances alongside disc evolution in future studies that aim to link planet (atmospheric) composition to disc composition. |"
      ],
      "text/plain": [
       "[arXiv:2308.15128] Close-in ice lines and the super-stellar C/O ratio in discs around very  low-mass stars\n",
       "\t<mark>J. Mah</mark>, B. Bitsch, I. Pascucci, T. Henning"
      ]
     },
     "metadata": {},
     "output_type": "display_data"
    },
    {
     "data": {
      "text/markdown": [
       "## Failed papers"
      ],
      "text/plain": [
       "<IPython.core.display.Markdown object>"
      ]
     },
     "metadata": {},
     "output_type": "display_data"
    }
   ],
   "source": [
    "import datetime\n",
    "today = str(datetime.date.today())\n",
    "logfile = f\"_build/html/logs/log-{today}.md\"\n",
    "\n",
    "\n",
    "with open(logfile, 'w') as logs:\n",
    "    # Success\n",
    "    logs.write(f'# Arxiv on Deck 2: Logs - {today}\\n\\n')\n",
    "    logs.write(\"\"\"* Arxiv had {0:,d} new papers\\n\"\"\".format(len(new_papers)))\n",
    "    logs.write(\"\"\"    * {0:,d} with possible author matches\\n\\n\"\"\".format(len(candidates)))\n",
    "    logs.write(\"## Sucessful papers\\n\\n\")\n",
    "    display(Markdown(\"## Successful papers\"))\n",
    "    success = [k[0] for k in documents]\n",
    "    for candid in candidates:\n",
    "        if candid['identifier'].split(':')[-1] in success:\n",
    "            display(candid)\n",
    "            logs.write(candid.generate_markdown_text() + '\\n\\n')\n",
    "\n",
    "    ## failed\n",
    "    logs.write(\"## Failed papers\\n\\n\")\n",
    "    display(Markdown(\"## Failed papers\"))\n",
    "    failed = sorted(failed, key=lambda x: x[1])\n",
    "    current_reason = \"\"\n",
    "    for paper, reason in failed:\n",
    "        if 'affiliation' in reason:\n",
    "            color = 'green'\n",
    "        else:\n",
    "            color = 'red'\n",
    "        data = Markdown(\n",
    "                paper.generate_markdown_text() + \n",
    "                f'\\n|<p style=\"color:{color:s}\"> **ERROR** </p>| <p style=\"color:{color:s}\">{reason:s}</p> |'\n",
    "               )\n",
    "        if reason != current_reason:\n",
    "            logs.write(f'### {reason:s} \\n\\n')\n",
    "            current_reason = reason\n",
    "        logs.write(data.data + '\\n\\n')\n",
    "        \n",
    "        # only display here the important errors (all in logs)\n",
    "        # if color in ('red',):\n",
    "        display(data)"
   ]
  },
  {
   "cell_type": "markdown",
   "id": "472d20ee",
   "metadata": {
    "papermill": {
     "duration": 0.005281,
     "end_time": "2023-08-30T04:05:53.328282",
     "exception": false,
     "start_time": "2023-08-30T04:05:53.323001",
     "status": "completed"
    },
    "tags": []
   },
   "source": [
    "## Export documents\n",
    "\n",
    "We now write the .md files and export relevant images"
   ]
  },
  {
   "cell_type": "code",
   "execution_count": 6,
   "id": "d426aed9",
   "metadata": {
    "execution": {
     "iopub.execute_input": "2023-08-30T04:05:53.340504Z",
     "iopub.status.busy": "2023-08-30T04:05:53.339840Z",
     "iopub.status.idle": "2023-08-30T04:05:53.347413Z",
     "shell.execute_reply": "2023-08-30T04:05:53.346831Z"
    },
    "papermill": {
     "duration": 0.015479,
     "end_time": "2023-08-30T04:05:53.348993",
     "exception": false,
     "start_time": "2023-08-30T04:05:53.333514",
     "status": "completed"
    },
    "tags": []
   },
   "outputs": [],
   "source": [
    "def export_markdown_summary(md: str, md_fname:str, directory: str):\n",
    "    \"\"\"Export MD document and associated relevant images\"\"\"\n",
    "    import os\n",
    "    import shutil\n",
    "    import re\n",
    "\n",
    "    if (os.path.exists(directory) and not os.path.isdir(directory)):\n",
    "        raise RuntimeError(f\"a non-directory file exists with name {directory:s}\")\n",
    "\n",
    "    if (not os.path.exists(directory)):\n",
    "        print(f\"creating directory {directory:s}\")\n",
    "        os.mkdir(directory)\n",
    "\n",
    "    fig_fnames = (re.compile(r'\\[Fig.*\\]\\((.*)\\)').findall(md) + \n",
    "                  re.compile(r'\\<img src=\"([^>\\s]*)\"[^>]*/>').findall(md))\n",
    "    for fname in fig_fnames:\n",
    "        if 'http' in fname:\n",
    "            # No need to copy online figures\n",
    "            continue\n",
    "        destdir = os.path.join(directory, os.path.dirname(fname))\n",
    "        destfname = os.path.join(destdir, os.path.basename(fname))\n",
    "        try:\n",
    "            os.makedirs(destdir)\n",
    "        except FileExistsError:\n",
    "            pass\n",
    "        shutil.copy(fname, destfname)\n",
    "    with open(os.path.join(directory, md_fname), 'w') as fout:\n",
    "        fout.write(md)\n",
    "    print(\"exported in \", os.path.join(directory, md_fname))\n",
    "    [print(\"    + \" + os.path.join(directory,fk)) for fk in fig_fnames]"
   ]
  },
  {
   "cell_type": "code",
   "execution_count": 7,
   "id": "014d04a4",
   "metadata": {
    "execution": {
     "iopub.execute_input": "2023-08-30T04:05:53.360846Z",
     "iopub.status.busy": "2023-08-30T04:05:53.360268Z",
     "iopub.status.idle": "2023-08-30T04:05:53.368805Z",
     "shell.execute_reply": "2023-08-30T04:05:53.368155Z"
    },
    "papermill": {
     "duration": 0.016128,
     "end_time": "2023-08-30T04:05:53.370368",
     "exception": false,
     "start_time": "2023-08-30T04:05:53.354240",
     "status": "completed"
    },
    "tags": []
   },
   "outputs": [
    {
     "name": "stdout",
     "output_type": "stream",
     "text": [
      "exported in  _build/html/2308.14793.md\n",
      "    + _build/html/tmp_2308.14793/./Figures/IllustrisTNG50_1_MergersInf_RA_Isolated_3Gyr.png\n",
      "    + _build/html/tmp_2308.14793/./Figures/IllustrisTNG50_1_MergersInf_SFR_Isolated_3Gyr.png\n",
      "    + _build/html/tmp_2308.14793/./Figures/TypeFraction_RA_NoDoubles.png\n",
      "    + _build/html/tmp_2308.14793/./Figures/SSFR_Mstar_091_ResidualAsymmetry_HighRes.jpg\n",
      "exported in  _build/html/2308.15128.md\n",
      "    + _build/html/tmp_2308.15128/./discCO_C60_5ms.png\n",
      "    + _build/html/tmp_2308.15128/./disc_tvisc.png\n",
      "    + _build/html/tmp_2308.15128/./disc_temp.png\n"
     ]
    }
   ],
   "source": [
    "for paper_id, md in documents:\n",
    "    export_markdown_summary(md, f\"{paper_id:s}.md\", '_build/html/')"
   ]
  },
  {
   "cell_type": "markdown",
   "id": "f087a0a7",
   "metadata": {
    "papermill": {
     "duration": 0.00531,
     "end_time": "2023-08-30T04:05:53.381096",
     "exception": false,
     "start_time": "2023-08-30T04:05:53.375786",
     "status": "completed"
    },
    "tags": []
   },
   "source": [
    "## Display the papers\n",
    "\n",
    "Not necessary but allows for a quick check."
   ]
  },
  {
   "cell_type": "code",
   "execution_count": 8,
   "id": "fd25f625",
   "metadata": {
    "execution": {
     "iopub.execute_input": "2023-08-30T04:05:53.393291Z",
     "iopub.status.busy": "2023-08-30T04:05:53.392726Z",
     "iopub.status.idle": "2023-08-30T04:05:53.398862Z",
     "shell.execute_reply": "2023-08-30T04:05:53.398326Z"
    },
    "papermill": {
     "duration": 0.0138,
     "end_time": "2023-08-30T04:05:53.400409",
     "exception": false,
     "start_time": "2023-08-30T04:05:53.386609",
     "status": "completed"
    },
    "scrolled": false,
    "tags": []
   },
   "outputs": [
    {
     "data": {
      "text/markdown": [
       "<div class=\"macros\" style=\"visibility:hidden;\">\n",
       "$\\newcommand{\\ensuremath}{}$\n",
       "$\\newcommand{\\xspace}{}$\n",
       "$\\newcommand{\\object}[1]{\\texttt{#1}}$\n",
       "$\\newcommand{\\farcs}{{.}''}$\n",
       "$\\newcommand{\\farcm}{{.}'}$\n",
       "$\\newcommand{\\arcsec}{''}$\n",
       "$\\newcommand{\\arcmin}{'}$\n",
       "$\\newcommand{\\ion}[2]{#1#2}$\n",
       "$\\newcommand{\\textsc}[1]{\\textrm{#1}}$\n",
       "$\\newcommand{\\hl}[1]{\\textrm{#1}}$\n",
       "$\\newcommand{\\footnote}[1]{}$\n",
       "$\\newcommand{\\gimtwod}{\\textsc{gim2d}}$\n",
       "$\\newcommand{\\sersic}{sérsic}$\n",
       "$\\newcommand{\\Sersic}{Sérsic}$\n",
       "$\\newcommand{\\sextractor}{\\textsc{SExtractor}}$\n",
       "$\\newcommand{\\thebibliography}{\\DeclareRobustCommand{\\VAN}[3]{##3}\\VANthebibliography}$\n",
       "$\\newcommand{\\}{nuprocess}$\n",
       "$\\newcommand{\\}{nodata}$\n",
       "$\\newcommand{ ◦ee}{^{\\circ}}$\n",
       "$\\newcommand{\\}{Msolar}$\n",
       "$\\newcommand{\\}{alphafe}$\n",
       "$\\newcommand{\\}{na}$\n",
       "$\\newcommand{\\}{HI}$\n",
       "$\\newcommand{\\}{sion}$\n",
       "$\\newcommand{\\}{vninety}$\n",
       "$\\newcommand{\\}{Lbol}$\n",
       "$\\newcommand{\\}{Mstar}$\n",
       "$\\newcommand{\\}{logMstar}$\n",
       "$\\newcommand{\\}{logRimp}$\n",
       "$\\newcommand{\\}{logLbol}$\n",
       "$\\newcommand{\\}{logsSFR}$\n",
       "$\\newcommand{\\}{kms}$\n",
       "$\\newcommand{\\}{zabs}$\n",
       "$\\newcommand{\\}{zem}$\n",
       "$\\newcommand{\\}{Rimp}$\n",
       "$\\newcommand{\\}{Rvir}$\n",
       "$\\newcommand{\\}{deltaEW}$\n",
       "$\\newcommand{\\}{RadRat}$\n",
       "$\\newcommand{\\}{mnfe}$\n",
       "$\\newcommand{\\}{Mgeqw}$\n",
       "$\\newcommand{\\}{Feeqw}$\n",
       "$\\newcommand{\\}{fracMgFe}$\n",
       "$\\newcommand{\\}{omegaDLA}$\n",
       "$\\newcommand{\\}{ndla}$\n",
       "$\\newcommand{\\}{npdla}$\n",
       "$\\newcommand{\\}{nlpdla}$\n",
       "$\\newcommand{\\}{nxpdla}$\n",
       "$\\newcommand{\\}{nmdla}$\n",
       "$\\newcommand{\\}{nlmdla}$\n",
       "$\\newcommand{\\}{nxmdla}$\n",
       "$\\newcommand{\\}{CosmoZ}$\n",
       "$\\newcommand{\\}{fNX}$\n",
       "$\\newcommand{\\}{rifs}$\n",
       "$\\newcommand{\\}{realsim}$\n",
       "$\\newcommand{\\}{tpost}$\n",
       "$\\newcommand{\\}{dtc}$\n",
       "$\\newcommand{\\}{dtcoal}$\n",
       "$\\newcommand{\\}{skirt}$\n",
       "$\\newcommand{\\}{deltasfms}$\n",
       "$\\newcommand{\\}{dlogsfms}$\n",
       "$\\newcommand{\\}{fgas}$\n",
       "$\\newcommand{\\}{mstar}$\n",
       "$\\newcommand{\\}{logsfr}$\n",
       "$\\newcommand{\\}{dlogsfr}$\n",
       "$\\newcommand{\\}{logssfr}$\n",
       "$\\newcommand{\\}{dra}$\n",
       "$\\newcommand{\\}{dsfr}$\n",
       "$\\newcommand{\\}{dtcoffset}$\n",
       "$\\newcommand{\\}{dtcoaloffset}$\n",
       "$\\newcommand{\\}{dsfms}$</div>\n",
       "\n",
       "\n",
       "\n",
       "<div id=\"title\">\n",
       "\n",
       "# IllustrisTNG in the HSC-SSP: image data release and the major role of mini mergers as drivers of asymmetry and star formation\n",
       "\n",
       "</div>\n",
       "<div id=\"comments\">\n",
       "\n",
       "[![arXiv](https://img.shields.io/badge/arXiv-2308.14793-b31b1b.svg)](https://arxiv.org/abs/2308.14793)<mark>Appeared on: 2023-08-30</mark> -  _32 pages; 18 figures; submitted to MNRAS; Image data available via the TNG website: www.tng-project.org/bottrell23_\n",
       "\n",
       "</div>\n",
       "<div id=\"authors\">\n",
       "\n",
       "C. Bottrell, et al. -- incl., <mark>A. Pillepich</mark>, <mark>L. Eisert</mark>\n",
       "\n",
       "</div>\n",
       "<div id=\"abstract\">\n",
       "\n",
       "**Abstract:** At fixed galaxy stellar mass, there is a clear observational connection between structural asymmetry and offset from the star forming main sequence, $\\dsfms$ . Herein, we use the TNG50 simulation to investigate the relative roles of major mergers (stellar mass ratios $\\mu\\geq0.25$ ), minor ( $0.1 \\leq \\mu < 0.25$ ), and mini mergers ( $0.01 \\leq \\mu < 0.1$ ) in driving this connection amongst star forming galaxies (SFGs). We use dust radiative transfer post-processing with SKIRT to make a large, public collection of synthetic Hyper Suprime-Cam Subaru Strategic Program (HSC-SSP) images of simulated TNG galaxies over $0.1\\leq z \\leq 0.7$ with $\\logMstar\\geq9$ ( $\\sim750$ k images). Using their instantaneous SFRs, known merger histories/forecasts, and HSC-SSP asymmetries, we show (1) that TNG50 SFGs qualitatively reproduce the observed trend between $\\dsfms$ and asymmetry and (2) a strikingly similar trend emerges between $\\dsfms$ and the time-to-coalescence for mini mergers. Controlling for redshift, stellar mass, environment, and gas fraction, we show that individual mini merger events yield small enhancements in SFRs and asymmetries that are sustained on long timescales (at least $\\sim3$ Gyr after coalescence, on average) -- in contrast to major/minor merger remnants which peak at much greater amplitudes but are consistent with controls only $\\sim1$ Gyr after coalescence. Integrating the boosts in SFRs and asymmetries driven by $\\mu\\geq0.01$ mergers since $z=0.7$ in TNG50 SFGs, we show that mini mergers are responsible for (i) $55$ per cent of all merger-driven star formation and (ii) $70$ per cent of merger-driven asymmetric structure. Due to their relative frequency and prolonged boost timescales, mini mergers dominate over their minor and major counterparts in driving star formation and asymmetry in SFGs.\n",
       "\n",
       "</div>\n",
       "\n",
       "<div id=\"div_fig1\">\n",
       "\n",
       "<img src=\"tmp_2308.14793/./Figures/IllustrisTNG50_1_MergersInf_RA_Isolated_3Gyr.png\" alt=\"Fig16.1\" width=\"50%\"/><img src=\"tmp_2308.14793/./Figures/IllustrisTNG50_1_MergersInf_SFR_Isolated_3Gyr.png\" alt=\"Fig16.2\" width=\"50%\"/>\n",
       "\n",
       "**Figure 16. -** $\\dra$ vs $\\dtcoal$ in individual mergersResidual asymmetry enhancements, $\\dra$, and SFR enhancements, $\\dlogsfr$, in individual mergers compared to non-merging controls as a function of merger $\\dtcoal$ in TNG50. Galaxies are considered individual mergers if they have *exactly* one coalescence event within $|\\dtcoal|<3$ Gyr and no other mergers from other mass ratio range. Each individual merger is matched to a control which has no coalescence event satisfying $|\\dtcoal|<3$ Gyr (see Section \\ref{sec:iso_selection}). Mini mergers exhibit statistically enhanced asymmetries and SFRs across the full range in $\\dtcoal$. The peak enhancement amplitude in asymmetry and SFR increases with mass ratio. However, the enhancements in minor and major mergers are short-lived after coalescence. The asymmetries of individual minor and major merger remnants are consistent with their controls for $\\dtcoal>1$ Gyr. In contrast, mini mergers yield long-lasting, modest asymmetry enhancements. Similarly, the longevity of SFR enhancement declines with increasing mass ratio. The SFRs of individual minor and major merger remnants are consistent with their controls for  $\\dtcoal>2$ Gyr and $\\dtcoal>1$ Gyr, respectively. *Individual* mini mergers in TNG50 drive statistically significant changes to galaxy morphologies and SFRs. Mini mergers are not piggybacking on the enhancements driven by minor and major mergers. (*fig:iso_merg*)\n",
       "\n",
       "</div>\n",
       "<div id=\"div_fig2\">\n",
       "\n",
       "<img src=\"tmp_2308.14793/./Figures/TypeFraction_RA_NoDoubles.png\" alt=\"Fig3\" width=\"100%\"/>\n",
       "\n",
       "**Figure 3. -** $R_A$ by merger typeStatistics of merging SFGs near coalescence, $| \\dtcoal |<1.5$ Gyr, as a function of HSC residual asymmetry for $z\\leq 0.3$. *Upper panel*: The merger fraction in each bin, $f_\\mu$, split into major, minor, and mini regimes. The unshaded area shows the fraction of SFGs that have no $\\mu\\geq0.01$ merger within $1.5$ Gyr. Compared to minor and major mergers combined, mini mergers dominate for $R_A<0.3$. $68$ per cent of galaxies at $R_A>0.3$ are close to a merger -- of which $47$ per cent are mini mergers with no major or minor merger within $1.5$ Gyr. $32$ per cent of galaxies with asymmetries $R_A>0.3$ are non-mergers. *Middle panel*: Merger type fractions relative to $f_\\mu(R_A\\approx0)$(grey band). The fraction of high-$\\mu$ mergers increases more rapidly with $R_A$ than low-$\\mu$ mergers. *Lower panel*: Completeness and purity curves as a function of asymmetry threshold, $R_A>X$. Dark lines show statistics for all $\\mu>0.01$ mergers. (*fig:ra_mergers*)\n",
       "\n",
       "</div>\n",
       "<div id=\"div_fig3\">\n",
       "\n",
       "<img src=\"tmp_2308.14793/./Figures/SSFR_Mstar_091_ResidualAsymmetry_HighRes.jpg\" alt=\"Fig11\" width=\"100%\"/>\n",
       "\n",
       "**Figure 11. -** SFMS and Residual AsymmetryStar-forming main sequence (SFMS) fitting, star forming galaxy (SFG) selection, and the relationship between SFMS offset and galaxy residual asymmetries for TNG50 galaxies at $z=0.1$. The left panel shows the full sample of 12,088 galaxies ($3,047$ galaxies $\\times 4$ sightlines). The solid black line shows the linear fit to the SFMS described in Section \\ref{sec:sfms} and in Table \\ref{tab:sfms}. The dotted line shows $\\dsfms = \\log(\\mathrm{SSFR}) - \\langle \\log(\\mathrm{SSFR})\\rangle_{\\mathrm{MS}} = -1$ dex. We define SFGs as those above this line. Each galaxy is coloured by its residual asymmetry, $R_A$(measured after removal of the best-fitting Sérsic model). For visual purposes, an artificial $0.05$ dex scatter in SFR and $M_{\\star}$ is introduced such that different orientations of the same intrinsic galaxy are not directly atop each other. The right panel shows 2D locally weighted regression in $R_A$ for the star-forming sample (LOESS: \\citealt{1988Cleveland2DLoess,2013MNRAS.432.1862C}). The trend between $\\dsfms$ and $R_A$ is qualitatively similar to that shown by \\cite{2021ApJ...923..205Y}. (*fig:sfms_ra*)\n",
       "\n",
       "</div><div id=\"qrcode\"><img src=https://api.qrserver.com/v1/create-qr-code/?size=100x100&data=\"https://arxiv.org/abs/2308.14793\"></div>"
      ],
      "text/plain": [
       "<IPython.core.display.Markdown object>"
      ]
     },
     "metadata": {},
     "output_type": "display_data"
    },
    {
     "data": {
      "text/markdown": [
       "<div class=\"macros\" style=\"visibility:hidden;\">\n",
       "$\\newcommand{\\ensuremath}{}$\n",
       "$\\newcommand{\\xspace}{}$\n",
       "$\\newcommand{\\object}[1]{\\texttt{#1}}$\n",
       "$\\newcommand{\\farcs}{{.}''}$\n",
       "$\\newcommand{\\farcm}{{.}'}$\n",
       "$\\newcommand{\\arcsec}{''}$\n",
       "$\\newcommand{\\arcmin}{'}$\n",
       "$\\newcommand{\\ion}[2]{#1#2}$\n",
       "$\\newcommand{\\textsc}[1]{\\textrm{#1}}$\n",
       "$\\newcommand{\\hl}[1]{\\textrm{#1}}$\n",
       "$\\newcommand{\\footnote}[1]{}$</div>\n",
       "\n",
       "\n",
       "\n",
       "<div id=\"title\">\n",
       "\n",
       "# Close-in ice lines and the super-stellar C/O ratio in discs around very low-mass stars\n",
       "\n",
       "</div>\n",
       "<div id=\"comments\">\n",
       "\n",
       "[![arXiv](https://img.shields.io/badge/arXiv-2308.15128-b31b1b.svg)](https://arxiv.org/abs/2308.15128)<mark>Appeared on: 2023-08-30</mark> -  _Accepted for publication in A&A_\n",
       "\n",
       "</div>\n",
       "<div id=\"authors\">\n",
       "\n",
       "<mark>J. Mah</mark>, B. Bitsch, I. Pascucci, T. Henning\n",
       "\n",
       "</div>\n",
       "<div id=\"abstract\">\n",
       "\n",
       "**Abstract:** The origin of the elevated C/O ratios in discs around late M dwarfs compared to discs around solar-type stars is not well understood. Here we endeavour to reproduce the observed differences in the disc C/O ratios as a function of stellar mass using a viscosity-driven disc evolution model and study the corresponding atmospheric composition of planets that grow inside the water-ice line in these discs. We carried out simulations using a coupled disc evolution and planet formation code that includes pebble drift and evaporation. We used a chemical partitioning model for the dust composition in the disc midplane. Inside the water-ice line, the disc's C/O ratio initially decreases to sub-stellar due to the inward drift and evaporation of water-ice-rich pebbles before increasing again to super-stellar values due to the inward diffusion of carbon-rich vapour. We show that this process is more efficient for very low-mass stars compared to solar-type stars due to the closer-in ice lines and shorter disc viscous timescales. In high-viscosity discs, the transition from sub-stellar to super-stellar takes place faster due to the fast inward advection of carbon-rich gas. Our results suggest that planets accreting their atmospheres early (when the disc C/O is still sub-stellar) will have low atmospheric C/O ratios, while planets that accrete their atmospheres late (when the disc C/O has become super-stellar) can obtain high C/O ratios. Our model predictions are consistent with observations, under the assumption that all stars have the same metallicity and chemical composition, and that the vertical mixing timescales in the inner disc are much shorter than the radial advection timescales. This further strengthens the case for considering stellar abundances alongside disc evolution in future studies that aim to link planet (atmospheric) composition to disc composition.\n",
       "\n",
       "</div>\n",
       "\n",
       "<div id=\"div_fig1\">\n",
       "\n",
       "<img src=\"tmp_2308.15128/./discCO_C60_5ms.png\" alt=\"Fig1\" width=\"100%\"/>\n",
       "\n",
       "**Figure 1. -** Temporal evolution of the gas disc C/O ratio (normalised to the stellar value) as a function of distance from the star, stellar mass (left to right), and disc viscosity (top and bottom rows). Ice lines are marked by vertical dashed white lines, and solid black lines indicate an absolute C/O ratio of 1. The carbon line is absent in the top leftmost panel because it is located inside 0.1 AU. Outside the CO ice line ($T_{\\rm disc} \\leq 20 {\\rm K}$; white region in the subplots), all chemical species are assumed to be frozen in the solid phase. (*fig:discCO_C60_5ms*)\n",
       "\n",
       "</div>\n",
       "<div id=\"div_fig2\">\n",
       "\n",
       "<img src=\"tmp_2308.15128/./disc_tvisc.png\" alt=\"Fig5\" width=\"100%\"/>\n",
       "\n",
       "**Figure 5. -** Comparison of disc properties for a disc around an M dwarf and a solar-type star in our model. _ Left_: Aspect ratio of a disc around a $0.1 M_{\\odot}$ star (black lines) and a disc around a $1.0 M_{\\odot}$ star (orange lines) for low (solid lines) and high (dashed lines) disc viscosities. _ Right_: Viscous accretion timescale of the discs as a function of radial distance, stellar mass, and disc viscosity. Solid circles indicate the location of the water-ice (blue) and $CH_4$-ice (red) lines in each disc. (*fig:disc_tvisc*)\n",
       "\n",
       "</div>\n",
       "<div id=\"div_fig3\">\n",
       "\n",
       "<img src=\"tmp_2308.15128/./disc_temp.png\" alt=\"Fig3\" width=\"100%\"/>\n",
       "\n",
       "**Figure 3. -** Disc midplane temperature profile as a function of stellar mass and disc viscosity. The condensation temperatures of carbon- and oxygen-bearing species in the disc are marked with dashed grey lines. (*fig:disc_temp*)\n",
       "\n",
       "</div><div id=\"qrcode\"><img src=https://api.qrserver.com/v1/create-qr-code/?size=100x100&data=\"https://arxiv.org/abs/2308.15128\"></div>"
      ],
      "text/plain": [
       "<IPython.core.display.Markdown object>"
      ]
     },
     "metadata": {},
     "output_type": "display_data"
    }
   ],
   "source": [
    "[display(Markdown(k[1])) for k in documents];"
   ]
  },
  {
   "cell_type": "markdown",
   "id": "873873a4",
   "metadata": {
    "papermill": {
     "duration": 0.005931,
     "end_time": "2023-08-30T04:05:53.412311",
     "exception": false,
     "start_time": "2023-08-30T04:05:53.406380",
     "status": "completed"
    },
    "tags": []
   },
   "source": [
    "# Create HTML index"
   ]
  },
  {
   "cell_type": "code",
   "execution_count": 9,
   "id": "cf665672",
   "metadata": {
    "execution": {
     "iopub.execute_input": "2023-08-30T04:05:53.425644Z",
     "iopub.status.busy": "2023-08-30T04:05:53.425014Z",
     "iopub.status.idle": "2023-08-30T04:05:53.434810Z",
     "shell.execute_reply": "2023-08-30T04:05:53.434107Z"
    },
    "papermill": {
     "duration": 0.018094,
     "end_time": "2023-08-30T04:05:53.436281",
     "exception": false,
     "start_time": "2023-08-30T04:05:53.418187",
     "status": "completed"
    },
    "tags": []
   },
   "outputs": [
    {
     "name": "stdout",
     "output_type": "stream",
     "text": [
      "257  publications files modified in the last 7 days.\n"
     ]
    }
   ],
   "source": [
    "from datetime import datetime, timedelta, timezone\n",
    "from glob import glob\n",
    "import os\n",
    "\n",
    "files = glob('_build/html/*.md')\n",
    "days = 7\n",
    "now = datetime.today()\n",
    "res = []\n",
    "for fk in files:\n",
    "    stat_result = os.stat(fk).st_ctime\n",
    "    modified = datetime.fromtimestamp(stat_result, tz=timezone.utc).replace(tzinfo=None)\n",
    "    delta = now.today() - modified\n",
    "    if delta <= timedelta(days=days):\n",
    "        res.append((delta.seconds, fk))\n",
    "res = [k[1] for k in reversed(sorted(res, key=lambda x:x[1]))]\n",
    "npub = len(res)\n",
    "print(len(res), f\" publications files modified in the last {days:d} days.\")\n",
    "# [ print('\\t', k) for k in res ];"
   ]
  },
  {
   "cell_type": "code",
   "execution_count": 10,
   "id": "015de740",
   "metadata": {
    "execution": {
     "iopub.execute_input": "2023-08-30T04:05:53.449501Z",
     "iopub.status.busy": "2023-08-30T04:05:53.448939Z",
     "iopub.status.idle": "2023-08-30T04:05:53.468514Z",
     "shell.execute_reply": "2023-08-30T04:05:53.467864Z"
    },
    "papermill": {
     "duration": 0.027851,
     "end_time": "2023-08-30T04:05:53.470083",
     "exception": false,
     "start_time": "2023-08-30T04:05:53.442232",
     "status": "completed"
    },
    "tags": []
   },
   "outputs": [
    {
     "name": "stdout",
     "output_type": "stream",
     "text": [
      "8  publications in the last 7 days.\n"
     ]
    }
   ],
   "source": [
    "import datetime\n",
    "from glob import glob\n",
    "\n",
    "def get_last_n_days(lst, days=1):\n",
    "    \"\"\" Get the documents from the last n days \"\"\"\n",
    "    sorted_lst = sorted(lst, key=lambda x: x[1], reverse=True)\n",
    "    for fname, date in sorted_lst:\n",
    "        if date >= str(datetime.date.today() - datetime.timedelta(days=days)):\n",
    "            yield fname\n",
    "\n",
    "def extract_appearance_dates(lst_file):\n",
    "    dates = []\n",
    "\n",
    "    def get_date(line):\n",
    "        return line\\\n",
    "            .split('Appeared on:')[-1]\\\n",
    "            .split('</mark>')[0].strip()\n",
    "\n",
    "    for fname in lst:\n",
    "        with open(fname, 'r') as f:\n",
    "            found_date = False\n",
    "            for line in f:\n",
    "                if not found_date:\n",
    "                    if \"Appeared on\" in line:\n",
    "                        found_date = True\n",
    "                        dates.append((fname, get_date(line)))\n",
    "                else:\n",
    "                    break\n",
    "    return dates\n",
    "\n",
    "from glob import glob\n",
    "lst = glob('_build/html/*md')\n",
    "days = 7\n",
    "dates = extract_appearance_dates(lst)\n",
    "res = list(get_last_n_days(dates, days))\n",
    "npub = len(res)\n",
    "print(len(res), f\" publications in the last {days:d} days.\")"
   ]
  },
  {
   "cell_type": "code",
   "execution_count": 11,
   "id": "52ca0208",
   "metadata": {
    "execution": {
     "iopub.execute_input": "2023-08-30T04:05:53.483602Z",
     "iopub.status.busy": "2023-08-30T04:05:53.483166Z",
     "iopub.status.idle": "2023-08-30T04:05:53.488675Z",
     "shell.execute_reply": "2023-08-30T04:05:53.488027Z"
    },
    "papermill": {
     "duration": 0.01397,
     "end_time": "2023-08-30T04:05:53.490216",
     "exception": false,
     "start_time": "2023-08-30T04:05:53.476246",
     "status": "completed"
    },
    "scrolled": false,
    "tags": []
   },
   "outputs": [],
   "source": [
    "def create_carousel(npub=4):\n",
    "    \"\"\" Generate the HTML code for a carousel with `npub` slides \"\"\"\n",
    "    carousel = [\"\"\"  <div class=\"carousel\" \"\"\",\n",
    "                \"\"\"       data-flickity='{ \"autoPlay\": 10000, \"adaptiveHeight\": true, \"resize\": true, \"wrapAround\": true, \"pauseAutoPlayOnHover\": true, \"groupCells\": 1 }' id=\"asyncTypeset\">\"\"\"\n",
    "                ]\n",
    "    \n",
    "    item_str = \"\"\"    <div class=\"carousel-cell\"> <div id=\"slide{k}\" class=\"md_view\">Content {k}</div> </div>\"\"\"\n",
    "    for k in range(1, npub + 1):\n",
    "        carousel.append(item_str.format(k=k))\n",
    "    carousel.append(\"  </div>\")\n",
    "    return '\\n'.join(carousel)\n",
    "\n",
    "def create_grid(npub=4):\n",
    "    \"\"\" Generate the HTML code for a flat grid with `npub` slides \"\"\"\n",
    "    grid = [\"\"\"  <div class=\"grid\"> \"\"\",\n",
    "                ]\n",
    "    \n",
    "    item_str = \"\"\"    <div class=\"grid-item\"> <div id=\"slide{k}\" class=\"md_view\">Content {k}</div> </div>\"\"\"\n",
    "    for k in range(1, npub + 1):\n",
    "        grid.append(item_str.format(k=k))\n",
    "    grid.append(\"  </div>\")\n",
    "    return '\\n'.join(grid)"
   ]
  },
  {
   "cell_type": "code",
   "execution_count": 12,
   "id": "a6eac5b6",
   "metadata": {
    "execution": {
     "iopub.execute_input": "2023-08-30T04:05:53.504181Z",
     "iopub.status.busy": "2023-08-30T04:05:53.503608Z",
     "iopub.status.idle": "2023-08-30T04:05:53.509154Z",
     "shell.execute_reply": "2023-08-30T04:05:53.508501Z"
    },
    "papermill": {
     "duration": 0.014235,
     "end_time": "2023-08-30T04:05:53.510672",
     "exception": false,
     "start_time": "2023-08-30T04:05:53.496437",
     "status": "completed"
    },
    "scrolled": false,
    "tags": []
   },
   "outputs": [],
   "source": [
    "carousel = create_carousel(npub)\n",
    "docs = ', '.join(['\"{0:s}\"'.format(k.split('/')[-1]) for k in res])\n",
    "slides = ', '.join([f'\"slide{k}\"' for k in range(1, npub + 1)])\n",
    "\n",
    "with open(\"daily_template.html\", \"r\") as tpl:\n",
    "    page = tpl.read()\n",
    "    page = page.replace(\"{%-- carousel:s --%}\", carousel)\\\n",
    "               .replace(\"{%-- suptitle:s --%}\",  \"7-day archives\" )\\\n",
    "               .replace(\"{%-- docs:s --%}\", docs)\\\n",
    "               .replace(\"{%-- slides:s --%}\", slides)\n",
    "    \n",
    "with open(\"_build/html/index_7days.html\", 'w') as fout:\n",
    "    fout.write(page)"
   ]
  },
  {
   "cell_type": "code",
   "execution_count": 13,
   "id": "adc1a1ec",
   "metadata": {
    "execution": {
     "iopub.execute_input": "2023-08-30T04:05:53.524256Z",
     "iopub.status.busy": "2023-08-30T04:05:53.523826Z",
     "iopub.status.idle": "2023-08-30T04:05:53.531146Z",
     "shell.execute_reply": "2023-08-30T04:05:53.530487Z"
    },
    "papermill": {
     "duration": 0.015869,
     "end_time": "2023-08-30T04:05:53.532666",
     "exception": false,
     "start_time": "2023-08-30T04:05:53.516797",
     "status": "completed"
    },
    "tags": []
   },
   "outputs": [
    {
     "name": "stdout",
     "output_type": "stream",
     "text": [
      "4  publications in the last day.\n"
     ]
    }
   ],
   "source": [
    "# redo for today\n",
    "days = 1\n",
    "res = list(get_last_n_days(dates, days))\n",
    "npub = len(res)\n",
    "print(len(res), f\" publications in the last day.\")\n",
    "\n",
    "carousel = create_carousel(npub)\n",
    "docs = ', '.join(['\"{0:s}\"'.format(k.split('/')[-1]) for k in res])\n",
    "slides = ', '.join([f'\"slide{k}\"' for k in range(1, npub + 1)])\n",
    "\n",
    "with open(\"daily_template.html\", \"r\") as tpl:\n",
    "    page = tpl.read()\n",
    "    page = page.replace(\"{%-- carousel:s --%}\", carousel)\\\n",
    "               .replace(\"{%-- suptitle:s --%}\",  \"Daily\" )\\\n",
    "               .replace(\"{%-- docs:s --%}\", docs)\\\n",
    "               .replace(\"{%-- slides:s --%}\", slides)\n",
    "    \n",
    "# print(carousel, docs, slides)\n",
    "# print(page)\n",
    "with open(\"_build/html/index_daily.html\", 'w') as fout:\n",
    "    fout.write(page)"
   ]
  },
  {
   "cell_type": "code",
   "execution_count": 14,
   "id": "00eece82",
   "metadata": {
    "execution": {
     "iopub.execute_input": "2023-08-30T04:05:53.548050Z",
     "iopub.status.busy": "2023-08-30T04:05:53.547809Z",
     "iopub.status.idle": "2023-08-30T04:05:53.556570Z",
     "shell.execute_reply": "2023-08-30T04:05:53.555978Z"
    },
    "papermill": {
     "duration": 0.019079,
     "end_time": "2023-08-30T04:05:53.558018",
     "exception": false,
     "start_time": "2023-08-30T04:05:53.538939",
     "status": "completed"
    },
    "scrolled": false,
    "tags": []
   },
   "outputs": [
    {
     "name": "stdout",
     "output_type": "stream",
     "text": [
      "6  6 publications selected.\n"
     ]
    }
   ],
   "source": [
    "# Create the flat grid of the last N papers (fixed number regardless of dates)\n",
    "from itertools import islice \n",
    "\n",
    "npub = 6\n",
    "res = [k[0] for k in (islice(reversed(sorted(dates, key=lambda x: x[1])), 6))]\n",
    "print(len(res), f\" {npub} publications selected.\")\n",
    "\n",
    "grid = create_grid(npub)\n",
    "docs = ', '.join(['\"{0:s}\"'.format(k.split('/')[-1]) for k in res])\n",
    "slides = ', '.join([f'\"slide{k}\"' for k in range(1, npub + 1)])\n",
    "\n",
    "with open(\"grid_template.html\", \"r\") as tpl:\n",
    "    page = tpl.read()\n",
    "    page = page.replace(\"{%-- grid-content:s --%}\", grid)\\\n",
    "               .replace(\"{%-- suptitle:s --%}\",  f\"Last {npub:,d} papers\" )\\\n",
    "               .replace(\"{%-- docs:s --%}\", docs)\\\n",
    "               .replace(\"{%-- slides:s --%}\", slides)\n",
    "    \n",
    "# print(grid, docs, slides)\n",
    "# print(page)\n",
    "with open(\"_build/html/index_npub_grid.html\", 'w') as fout:\n",
    "    fout.write(page)"
   ]
  }
 ],
 "metadata": {
  "kernelspec": {
   "display_name": "Python 3 (ipykernel)",
   "language": "python",
   "name": "python3"
  },
  "language_info": {
   "codemirror_mode": {
    "name": "ipython",
    "version": 3
   },
   "file_extension": ".py",
   "mimetype": "text/x-python",
   "name": "python",
   "nbconvert_exporter": "python",
   "pygments_lexer": "ipython3",
   "version": "3.9.17"
  },
  "papermill": {
   "default_parameters": {},
   "duration": 79.612373,
   "end_time": "2023-08-30T04:05:53.783521",
   "environment_variables": {},
   "exception": null,
   "input_path": "MPIA daily digest.ipynb",
   "output_path": "log.ipynb",
   "parameters": {},
   "start_time": "2023-08-30T04:04:34.171148",
   "version": "2.4.0"
  },
  "vscode": {
   "interpreter": {
    "hash": "aee8b7b246df8f9039afb4144a1f6fd8d2ca17a180786b69acc140d282b71a49"
   }
  },
  "widgets": {
   "application/vnd.jupyter.widget-state+json": {
    "state": {
     "2ee8f672c79448b7b823d3597577950a": {
      "model_module": "@jupyter-widgets/controls",
      "model_module_version": "2.0.0",
      "model_name": "HTMLStyleModel",
      "state": {
       "_model_module": "@jupyter-widgets/controls",
       "_model_module_version": "2.0.0",
       "_model_name": "HTMLStyleModel",
       "_view_count": null,
       "_view_module": "@jupyter-widgets/base",
       "_view_module_version": "2.0.0",
       "_view_name": "StyleView",
       "background": null,
       "description_width": "",
       "font_size": null,
       "text_color": null
      }
     },
     "3d7a7416962b4145b35a769faef7c0ed": {
      "model_module": "@jupyter-widgets/base",
      "model_module_version": "2.0.0",
      "model_name": "LayoutModel",
      "state": {
       "_model_module": "@jupyter-widgets/base",
       "_model_module_version": "2.0.0",
       "_model_name": "LayoutModel",
       "_view_count": null,
       "_view_module": "@jupyter-widgets/base",
       "_view_module_version": "2.0.0",
       "_view_name": "LayoutView",
       "align_content": null,
       "align_items": null,
       "align_self": null,
       "border_bottom": null,
       "border_left": null,
       "border_right": null,
       "border_top": null,
       "bottom": null,
       "display": null,
       "flex": null,
       "flex_flow": null,
       "grid_area": null,
       "grid_auto_columns": null,
       "grid_auto_flow": null,
       "grid_auto_rows": null,
       "grid_column": null,
       "grid_gap": null,
       "grid_row": null,
       "grid_template_areas": null,
       "grid_template_columns": null,
       "grid_template_rows": null,
       "height": null,
       "justify_content": null,
       "justify_items": null,
       "left": null,
       "margin": null,
       "max_height": null,
       "max_width": null,
       "min_height": null,
       "min_width": null,
       "object_fit": null,
       "object_position": null,
       "order": null,
       "overflow": null,
       "padding": null,
       "right": null,
       "top": null,
       "visibility": null,
       "width": null
      }
     },
     "505fe275673f40ed93d00b25cf0a7067": {
      "model_module": "@jupyter-widgets/base",
      "model_module_version": "2.0.0",
      "model_name": "LayoutModel",
      "state": {
       "_model_module": "@jupyter-widgets/base",
       "_model_module_version": "2.0.0",
       "_model_name": "LayoutModel",
       "_view_count": null,
       "_view_module": "@jupyter-widgets/base",
       "_view_module_version": "2.0.0",
       "_view_name": "LayoutView",
       "align_content": null,
       "align_items": null,
       "align_self": null,
       "border_bottom": null,
       "border_left": null,
       "border_right": null,
       "border_top": null,
       "bottom": null,
       "display": null,
       "flex": null,
       "flex_flow": null,
       "grid_area": null,
       "grid_auto_columns": null,
       "grid_auto_flow": null,
       "grid_auto_rows": null,
       "grid_column": null,
       "grid_gap": null,
       "grid_row": null,
       "grid_template_areas": null,
       "grid_template_columns": null,
       "grid_template_rows": null,
       "height": null,
       "justify_content": null,
       "justify_items": null,
       "left": null,
       "margin": null,
       "max_height": null,
       "max_width": null,
       "min_height": null,
       "min_width": null,
       "object_fit": null,
       "object_position": null,
       "order": null,
       "overflow": null,
       "padding": null,
       "right": null,
       "top": null,
       "visibility": null,
       "width": null
      }
     },
     "5ef0704d66fe43eda7f6f3cde105cf3c": {
      "model_module": "@jupyter-widgets/controls",
      "model_module_version": "2.0.0",
      "model_name": "FloatProgressModel",
      "state": {
       "_dom_classes": [],
       "_model_module": "@jupyter-widgets/controls",
       "_model_module_version": "2.0.0",
       "_model_name": "FloatProgressModel",
       "_view_count": null,
       "_view_module": "@jupyter-widgets/controls",
       "_view_module_version": "2.0.0",
       "_view_name": "ProgressView",
       "bar_style": "success",
       "description": "",
       "description_allow_html": false,
       "layout": "IPY_MODEL_505fe275673f40ed93d00b25cf0a7067",
       "max": 2.0,
       "min": 0.0,
       "orientation": "horizontal",
       "style": "IPY_MODEL_fd281b2703ca4313a88000147add90a6",
       "tabbable": null,
       "tooltip": null,
       "value": 2.0
      }
     },
     "8221fd0885064a33858ef72e83c98167": {
      "model_module": "@jupyter-widgets/controls",
      "model_module_version": "2.0.0",
      "model_name": "HTMLModel",
      "state": {
       "_dom_classes": [],
       "_model_module": "@jupyter-widgets/controls",
       "_model_module_version": "2.0.0",
       "_model_name": "HTMLModel",
       "_view_count": null,
       "_view_module": "@jupyter-widgets/controls",
       "_view_module_version": "2.0.0",
       "_view_name": "HTMLView",
       "description": "",
       "description_allow_html": false,
       "layout": "IPY_MODEL_ca2d4f6dea7f4617ab727d099f1d4baa",
       "placeholder": "​",
       "style": "IPY_MODEL_2ee8f672c79448b7b823d3597577950a",
       "tabbable": null,
       "tooltip": null,
       "value": " 2/2 [00:55&lt;00:00, 28.30s/it]"
      }
     },
     "c698f58057884ef69cd3b32f3f8252cb": {
      "model_module": "@jupyter-widgets/base",
      "model_module_version": "2.0.0",
      "model_name": "LayoutModel",
      "state": {
       "_model_module": "@jupyter-widgets/base",
       "_model_module_version": "2.0.0",
       "_model_name": "LayoutModel",
       "_view_count": null,
       "_view_module": "@jupyter-widgets/base",
       "_view_module_version": "2.0.0",
       "_view_name": "LayoutView",
       "align_content": null,
       "align_items": null,
       "align_self": null,
       "border_bottom": null,
       "border_left": null,
       "border_right": null,
       "border_top": null,
       "bottom": null,
       "display": null,
       "flex": null,
       "flex_flow": null,
       "grid_area": null,
       "grid_auto_columns": null,
       "grid_auto_flow": null,
       "grid_auto_rows": null,
       "grid_column": null,
       "grid_gap": null,
       "grid_row": null,
       "grid_template_areas": null,
       "grid_template_columns": null,
       "grid_template_rows": null,
       "height": null,
       "justify_content": null,
       "justify_items": null,
       "left": null,
       "margin": null,
       "max_height": null,
       "max_width": null,
       "min_height": null,
       "min_width": null,
       "object_fit": null,
       "object_position": null,
       "order": null,
       "overflow": null,
       "padding": null,
       "right": null,
       "top": null,
       "visibility": null,
       "width": null
      }
     },
     "c71084e46fb149b8a8ec50cb18551198": {
      "model_module": "@jupyter-widgets/controls",
      "model_module_version": "2.0.0",
      "model_name": "HTMLStyleModel",
      "state": {
       "_model_module": "@jupyter-widgets/controls",
       "_model_module_version": "2.0.0",
       "_model_name": "HTMLStyleModel",
       "_view_count": null,
       "_view_module": "@jupyter-widgets/base",
       "_view_module_version": "2.0.0",
       "_view_name": "StyleView",
       "background": null,
       "description_width": "",
       "font_size": null,
       "text_color": null
      }
     },
     "ca2d4f6dea7f4617ab727d099f1d4baa": {
      "model_module": "@jupyter-widgets/base",
      "model_module_version": "2.0.0",
      "model_name": "LayoutModel",
      "state": {
       "_model_module": "@jupyter-widgets/base",
       "_model_module_version": "2.0.0",
       "_model_name": "LayoutModel",
       "_view_count": null,
       "_view_module": "@jupyter-widgets/base",
       "_view_module_version": "2.0.0",
       "_view_name": "LayoutView",
       "align_content": null,
       "align_items": null,
       "align_self": null,
       "border_bottom": null,
       "border_left": null,
       "border_right": null,
       "border_top": null,
       "bottom": null,
       "display": null,
       "flex": null,
       "flex_flow": null,
       "grid_area": null,
       "grid_auto_columns": null,
       "grid_auto_flow": null,
       "grid_auto_rows": null,
       "grid_column": null,
       "grid_gap": null,
       "grid_row": null,
       "grid_template_areas": null,
       "grid_template_columns": null,
       "grid_template_rows": null,
       "height": null,
       "justify_content": null,
       "justify_items": null,
       "left": null,
       "margin": null,
       "max_height": null,
       "max_width": null,
       "min_height": null,
       "min_width": null,
       "object_fit": null,
       "object_position": null,
       "order": null,
       "overflow": null,
       "padding": null,
       "right": null,
       "top": null,
       "visibility": null,
       "width": null
      }
     },
     "e3d78370abd8433c98d89d64c103a70c": {
      "model_module": "@jupyter-widgets/controls",
      "model_module_version": "2.0.0",
      "model_name": "HTMLModel",
      "state": {
       "_dom_classes": [],
       "_model_module": "@jupyter-widgets/controls",
       "_model_module_version": "2.0.0",
       "_model_name": "HTMLModel",
       "_view_count": null,
       "_view_module": "@jupyter-widgets/controls",
       "_view_module_version": "2.0.0",
       "_view_name": "HTMLView",
       "description": "",
       "description_allow_html": false,
       "layout": "IPY_MODEL_3d7a7416962b4145b35a769faef7c0ed",
       "placeholder": "​",
       "style": "IPY_MODEL_c71084e46fb149b8a8ec50cb18551198",
       "tabbable": null,
       "tooltip": null,
       "value": "100%"
      }
     },
     "efd68f7c9b874bde998635f7b54bced6": {
      "model_module": "@jupyter-widgets/controls",
      "model_module_version": "2.0.0",
      "model_name": "HBoxModel",
      "state": {
       "_dom_classes": [],
       "_model_module": "@jupyter-widgets/controls",
       "_model_module_version": "2.0.0",
       "_model_name": "HBoxModel",
       "_view_count": null,
       "_view_module": "@jupyter-widgets/controls",
       "_view_module_version": "2.0.0",
       "_view_name": "HBoxView",
       "box_style": "",
       "children": [
        "IPY_MODEL_e3d78370abd8433c98d89d64c103a70c",
        "IPY_MODEL_5ef0704d66fe43eda7f6f3cde105cf3c",
        "IPY_MODEL_8221fd0885064a33858ef72e83c98167"
       ],
       "layout": "IPY_MODEL_c698f58057884ef69cd3b32f3f8252cb",
       "tabbable": null,
       "tooltip": null
      }
     },
     "fd281b2703ca4313a88000147add90a6": {
      "model_module": "@jupyter-widgets/controls",
      "model_module_version": "2.0.0",
      "model_name": "ProgressStyleModel",
      "state": {
       "_model_module": "@jupyter-widgets/controls",
       "_model_module_version": "2.0.0",
       "_model_name": "ProgressStyleModel",
       "_view_count": null,
       "_view_module": "@jupyter-widgets/base",
       "_view_module_version": "2.0.0",
       "_view_name": "StyleView",
       "bar_color": null,
       "description_width": ""
      }
     }
    },
    "version_major": 2,
    "version_minor": 0
   }
  }
 },
 "nbformat": 4,
 "nbformat_minor": 5
}