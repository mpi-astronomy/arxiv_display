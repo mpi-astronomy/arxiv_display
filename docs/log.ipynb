{
 "cells": [
  {
   "cell_type": "markdown",
   "id": "92bcb855",
   "metadata": {
    "papermill": {
     "duration": 0.006052,
     "end_time": "2023-09-18T04:06:03.195153",
     "exception": false,
     "start_time": "2023-09-18T04:06:03.189101",
     "status": "completed"
    },
    "tags": []
   },
   "source": [
    "# MPIA Arxiv on Deck 2\n",
    "\n",
    "Contains the steps to produce the paper extractions."
   ]
  },
  {
   "cell_type": "code",
   "execution_count": 1,
   "id": "3a0d6e11",
   "metadata": {
    "execution": {
     "iopub.execute_input": "2023-09-18T04:06:03.207218Z",
     "iopub.status.busy": "2023-09-18T04:06:03.206814Z",
     "iopub.status.idle": "2023-09-18T04:06:03.830348Z",
     "shell.execute_reply": "2023-09-18T04:06:03.829238Z"
    },
    "papermill": {
     "duration": 0.633114,
     "end_time": "2023-09-18T04:06:03.833089",
     "exception": false,
     "start_time": "2023-09-18T04:06:03.199975",
     "status": "completed"
    },
    "tags": []
   },
   "outputs": [],
   "source": [
    "# Imports\n",
    "import os\n",
    "from IPython.display import Markdown, display\n",
    "from tqdm.notebook import tqdm\n",
    "import warnings\n",
    "from PIL import Image \n",
    "\n",
    "# requires arxiv_on_deck_2\n",
    "\n",
    "from arxiv_on_deck_2.arxiv2 import (get_new_papers, \n",
    "                                    get_paper_from_identifier,\n",
    "                                    retrieve_document_source, \n",
    "                                    get_markdown_badge)\n",
    "from arxiv_on_deck_2 import (latex,\n",
    "                             latex_bib,\n",
    "                             mpia,\n",
    "                             highlight_authors_in_list)\n",
    "\n",
    "# Sometimes images are really big\n",
    "Image.MAX_IMAGE_PIXELS = 1000000000 "
   ]
  },
  {
   "cell_type": "code",
   "execution_count": 2,
   "id": "22aa9d44",
   "metadata": {
    "execution": {
     "iopub.execute_input": "2023-09-18T04:06:03.844199Z",
     "iopub.status.busy": "2023-09-18T04:06:03.843747Z",
     "iopub.status.idle": "2023-09-18T04:06:03.852156Z",
     "shell.execute_reply": "2023-09-18T04:06:03.851224Z"
    },
    "papermill": {
     "duration": 0.016145,
     "end_time": "2023-09-18T04:06:03.854425",
     "exception": false,
     "start_time": "2023-09-18T04:06:03.838280",
     "status": "completed"
    },
    "tags": []
   },
   "outputs": [],
   "source": [
    "# Some useful definitions.\n",
    "\n",
    "class AffiliationWarning(UserWarning):\n",
    "    pass\n",
    "\n",
    "class AffiliationError(RuntimeError):\n",
    "    pass\n",
    "\n",
    "def validation(source: str):\n",
    "    \"\"\"Raises error paper during parsing of source file\n",
    "    \n",
    "    Allows checks before parsing TeX code.\n",
    "    \n",
    "    Raises AffiliationWarning\n",
    "    \"\"\"\n",
    "    check = mpia.affiliation_verifications(source, verbose=True)\n",
    "    if check is not True:\n",
    "        raise AffiliationError(\"mpia.affiliation_verifications: \" + check)\n",
    "\n",
    "        \n",
    "warnings.simplefilter('always', AffiliationWarning)\n",
    "\n",
    "\n",
    "def get_markdown_qrcode(paper_id: str):\n",
    "    \"\"\" Generate a qrcode to the arxiv page using qrserver.com\n",
    "    \n",
    "    :param paper: Arxiv paper\n",
    "    :returns: markdown text\n",
    "    \"\"\"\n",
    "    url = r\"https://api.qrserver.com/v1/create-qr-code/?size=100x100&data=\"\n",
    "    txt = f\"\"\"<img src={url}\"https://arxiv.org/abs/{paper_id}\">\"\"\"\n",
    "    txt = '<div id=\"qrcode\">' + txt + '</div>'\n",
    "    return txt"
   ]
  },
  {
   "cell_type": "markdown",
   "id": "14bd6310",
   "metadata": {
    "papermill": {
     "duration": 0.004737,
     "end_time": "2023-09-18T04:06:03.865517",
     "exception": false,
     "start_time": "2023-09-18T04:06:03.860780",
     "status": "completed"
    },
    "tags": []
   },
   "source": [
    "## get list of arxiv paper candidates\n",
    "\n",
    "We use the MPIA mitarbeiter list webpage from mpia.de to get author names\n",
    "We then get all new papers from Arxiv and match authors"
   ]
  },
  {
   "cell_type": "code",
   "execution_count": 3,
   "id": "2645e73a",
   "metadata": {
    "execution": {
     "iopub.execute_input": "2023-09-18T04:06:03.876652Z",
     "iopub.status.busy": "2023-09-18T04:06:03.875670Z",
     "iopub.status.idle": "2023-09-18T04:06:27.745712Z",
     "shell.execute_reply": "2023-09-18T04:06:27.744398Z"
    },
    "papermill": {
     "duration": 23.877758,
     "end_time": "2023-09-18T04:06:27.747662",
     "exception": false,
     "start_time": "2023-09-18T04:06:03.869904",
     "status": "completed"
    },
    "tags": []
   },
   "outputs": [
    {
     "name": "stdout",
     "output_type": "stream",
     "text": [
      "X. Zhang  ->  X. Zhang  |  ['X. Zhang']\n",
      "A. Hughes  ->  A. Hughes  |  ['A. Hughes']\n",
      "T. K. Henning  ->  T. K. Henning  |  ['T. K. Henning']\n",
      "F. Walter  ->  F. Walter  |  ['F. Walter']\n",
      "Arxiv has 51 new papers today\n",
      "          3 with possible author matches\n"
     ]
    }
   ],
   "source": [
    "# get list from MPIA website\n",
    "# it automatically filters identified non-scientists :func:`mpia.filter_non_scientists`\n",
    "mpia_authors = mpia.get_mpia_mitarbeiter_list()\n",
    "normed_mpia_authors = [k[1] for k in mpia_authors]   # initials + fullname\n",
    "new_papers = get_new_papers()\n",
    "# add manual references\n",
    "add_paper_refs = []\n",
    "new_papers.extend([get_paper_from_identifier(k) for k in add_paper_refs])\n",
    "\n",
    "candidates = []\n",
    "for paperk in new_papers:\n",
    "    # Check author list with their initials\n",
    "    normed_author_list = [mpia.get_initials(k) for k in paperk['authors']]\n",
    "    hl_authors = highlight_authors_in_list(normed_author_list, normed_mpia_authors, verbose=True)\n",
    "    matches = [(hl, orig) for hl, orig in zip(hl_authors, paperk['authors']) if 'mark' in hl]\n",
    "    paperk['authors'] = hl_authors\n",
    "    if matches:\n",
    "        # only select paper if an author matched our list\n",
    "        candidates.append(paperk)\n",
    "print(\"\"\"Arxiv has {0:,d} new papers today\"\"\".format(len(new_papers)))        \n",
    "print(\"\"\"          {0:,d} with possible author matches\"\"\".format(len(candidates)))"
   ]
  },
  {
   "cell_type": "markdown",
   "id": "3543b34a",
   "metadata": {
    "papermill": {
     "duration": 0.004311,
     "end_time": "2023-09-18T04:06:27.757052",
     "exception": false,
     "start_time": "2023-09-18T04:06:27.752741",
     "status": "completed"
    },
    "tags": []
   },
   "source": [
    "# Parse sources and generate relevant outputs\n",
    "\n",
    "From the candidates, we do the following steps:\n",
    "* get their tarball from ArXiv (and extract data)\n",
    "* find the main .tex file: find one with \\documentclass{...} (sometimes it's non trivial)\n",
    "* Check affiliations with :func:`validation`, which uses :func:`mpia.affiliation_verifications`\n",
    "* If passing the affiliations: we parse the .tex source\n",
    "   * inject sub-documents into the main (flatten the main document)\n",
    "   * parse structure, extract information (title, abstract, authors, figures...)\n",
    "   * handles `\\graphicspath` if provided\n",
    "* Generate the .md document."
   ]
  },
  {
   "cell_type": "code",
   "execution_count": 4,
   "id": "9576b79e",
   "metadata": {
    "execution": {
     "iopub.execute_input": "2023-09-18T04:06:27.768255Z",
     "iopub.status.busy": "2023-09-18T04:06:27.767843Z",
     "iopub.status.idle": "2023-09-18T04:07:05.713363Z",
     "shell.execute_reply": "2023-09-18T04:07:05.712445Z"
    },
    "papermill": {
     "duration": 37.959931,
     "end_time": "2023-09-18T04:07:05.721744",
     "exception": false,
     "start_time": "2023-09-18T04:06:27.761813",
     "status": "completed"
    },
    "scrolled": false,
    "tags": []
   },
   "outputs": [
    {
     "data": {
      "application/vnd.jupyter.widget-view+json": {
       "model_id": "e313c5ce87e24903a6b1c90a63525a58",
       "version_major": 2,
       "version_minor": 0
      },
      "text/plain": [
       "  0%|          | 0/3 [00:00<?, ?it/s]"
      ]
     },
     "metadata": {},
     "output_type": "display_data"
    },
    {
     "name": "stdout",
     "output_type": "stream",
     "text": [
      "Retrieving document from  https://arxiv.org/e-print/2309.08078\n"
     ]
    },
    {
     "name": "stdout",
     "output_type": "stream",
     "text": [
      "extracting tarball to tmp_2309.08078..."
     ]
    },
    {
     "name": "stdout",
     "output_type": "stream",
     "text": [
      " done.\n",
      "Retrieving document from  https://arxiv.org/e-print/2309.08403\n"
     ]
    },
    {
     "name": "stdout",
     "output_type": "stream",
     "text": [
      "extracting tarball to tmp_2309.08403..."
     ]
    },
    {
     "name": "stdout",
     "output_type": "stream",
     "text": [
      " done.\n",
      "Retrieving document from  https://arxiv.org/e-print/2309.08515\n"
     ]
    },
    {
     "name": "stderr",
     "output_type": "stream",
     "text": [
      "/opt/hostedtoolcache/Python/3.9.18/x64/lib/python3.9/site-packages/IPython/core/interactiveshell.py:3526: LatexWarning: Multiple tex files.\n",
      "\n",
      "  exec(code_obj, self.user_global_ns, self.user_ns)\n",
      "/opt/hostedtoolcache/Python/3.9.18/x64/lib/python3.9/site-packages/IPython/core/interactiveshell.py:3526: LatexWarning: Found documentclass in tmp_2309.08403/main.tex\n",
      "\n",
      "  exec(code_obj, self.user_global_ns, self.user_ns)\n"
     ]
    },
    {
     "name": "stdout",
     "output_type": "stream",
     "text": [
      "extracting tarball to tmp_2309.08515..."
     ]
    },
    {
     "name": "stdout",
     "output_type": "stream",
     "text": [
      " done.\n"
     ]
    },
    {
     "name": "stdout",
     "output_type": "stream",
     "text": [
      "T. K. Henning  ->  T. K. Henning  |  ['T. K. Henning']\n",
      "F. Walter  ->  F. Walter  |  ['F. Walter']\n"
     ]
    },
    {
     "name": "stdout",
     "output_type": "stream",
     "text": [
      "Found 116 bibliographic references in tmp_2309.08515/paper.bbl.\n",
      "syntax error in line 634: '=' expected\n"
     ]
    }
   ],
   "source": [
    "documents = []\n",
    "failed = []\n",
    "for paper in tqdm(candidates):\n",
    "    paper_id = paper['identifier'].lower().replace('arxiv:', '')\n",
    "    \n",
    "    folder = f'tmp_{paper_id}'\n",
    "\n",
    "    try:\n",
    "        if not os.path.isdir(folder):\n",
    "            folder = retrieve_document_source(f\"{paper_id}\", f'tmp_{paper_id}')\n",
    "        \n",
    "        try:\n",
    "            doc = latex.LatexDocument(folder, validation=validation)    \n",
    "        except AffiliationError as affilerror:\n",
    "            msg = f\"ArXiv:{paper_id:s} is not an MPIA paper... \" + str(affilerror)\n",
    "            failed.append((paper, \"affiliation error: \" + str(affilerror) ))\n",
    "            continue\n",
    "        \n",
    "        # Hack because sometimes author parsing does not work well\n",
    "        if (len(doc.authors) != len(paper['authors'])):\n",
    "            doc._authors = paper['authors']\n",
    "        else:\n",
    "            # highlight authors (FIXME: doc.highlight_authors)\n",
    "            # done on arxiv paper already\n",
    "            doc._authors = highlight_authors_in_list(\n",
    "                [mpia.get_initials(k) for k in doc.authors], \n",
    "                normed_mpia_authors, verbose=True)\n",
    "        if (doc.abstract) in (None, ''):\n",
    "            doc._abstract = paper['abstract']\n",
    "            \n",
    "        doc.comment = (get_markdown_badge(paper_id) + \n",
    "                       \"<mark>Appeared on: \" + paper['date'] + \"</mark> - \")\n",
    "        if paper['comments']:\n",
    "            doc.comment += \" _\" + paper['comments'] + \"_\"\n",
    "        \n",
    "        full_md = doc.generate_markdown_text()\n",
    "        \n",
    "        full_md += get_markdown_qrcode(paper_id)\n",
    "        \n",
    "        # replace citations\n",
    "        try:\n",
    "            bibdata = latex_bib.LatexBib.from_doc(doc)\n",
    "            full_md = latex_bib.replace_citations(full_md, bibdata)\n",
    "        except Exception as e:\n",
    "            print(e)\n",
    "        \n",
    "        documents.append((paper_id, full_md))\n",
    "    except Exception as e:\n",
    "        warnings.warn(latex.LatexWarning(f\"{paper_id:s} did not run properly\\n\" +\n",
    "                                         str(e)\n",
    "                                        ))\n",
    "        failed.append((paper, \"latex error \" + str(e)))"
   ]
  },
  {
   "cell_type": "markdown",
   "id": "2505a25c",
   "metadata": {
    "papermill": {
     "duration": 0.005287,
     "end_time": "2023-09-18T04:07:05.732143",
     "exception": false,
     "start_time": "2023-09-18T04:07:05.726856",
     "status": "completed"
    },
    "tags": []
   },
   "source": [
    "### Export the logs\n",
    "\n",
    "Throughout, we also keep track of the logs per paper. see `logs-{today date}.md` "
   ]
  },
  {
   "cell_type": "code",
   "execution_count": 5,
   "id": "d733828a",
   "metadata": {
    "execution": {
     "iopub.execute_input": "2023-09-18T04:07:05.745391Z",
     "iopub.status.busy": "2023-09-18T04:07:05.744791Z",
     "iopub.status.idle": "2023-09-18T04:07:05.770235Z",
     "shell.execute_reply": "2023-09-18T04:07:05.769128Z"
    },
    "papermill": {
     "duration": 0.035732,
     "end_time": "2023-09-18T04:07:05.772930",
     "exception": false,
     "start_time": "2023-09-18T04:07:05.737198",
     "status": "completed"
    },
    "scrolled": false,
    "tags": []
   },
   "outputs": [
    {
     "data": {
      "text/markdown": [
       "## Successful papers"
      ],
      "text/plain": [
       "<IPython.core.display.Markdown object>"
      ]
     },
     "metadata": {},
     "output_type": "display_data"
    },
    {
     "data": {
      "text/markdown": [
       "\n",
       "|||\n",
       "|---:|:---|\n",
       "| [![arXiv](https://img.shields.io/badge/arXiv-arXiv:2309.08515-b31b1b.svg)](https://arxiv.org/abs/arXiv:2309.08515) | **MIDIS. JWST NIRCam and MIRI unveil the stellar population properties of  Ly$α$-emitters and Lyman-Break galaxies at z ~ 3-7**  |\n",
       "|| E. Iani, et al. -- incl., <mark>T. K. Henning</mark>, <mark>F. Walter</mark> |\n",
       "|*Appeared on*| *2023-09-18*|\n",
       "|*Comments*| *19 pages, 15 figures, 5 tables. Submitted to APJ*|\n",
       "|**Abstract**| We study the stellar population properties of 182 spectroscopically-confirmed (MUSE/VLT) Lyman-$\\alpha$ emitters (LAEs) and 450 photometrically-selected Lyman-Break galaxies (LBGs) at z = 2.8 - 6.7 in the Hubble eXtreme Deep Field (XDF). Leveraging the combined power of HST and JWST NIRCam and MIRI observations, we analyse their rest-frame UV-through-near-IR spectral energy distributions (SEDs) with MIRI playing a crucial role in robustly assessing the LAE's stellar mass and ages. Our LAEs are low-mass objects (log$_{10}$(M$_\\star$[M$_\\odot$]) ~ 7.5), with little or no dust extinction (E(B - V) ~ 0.1) and a blue UV continuum slope ($\\beta$ ~ -2.2). While 75% of our LAEs are young (< 100 Myr), the remaining 25% have significantly older stellar populations (> 100 Myr). These old LAEs are statistically more massive, less extinct and have lower specific star formation rate (sSFR) compared to young LAEs. Besides, they populate the M$_\\star$ - SFR plane along the main-sequence (MS) of star-forming galaxies, while young LAEs populate the starburst region. The comparison between the LAEs properties to those of a stellar-mass matched sample of LBGs shows no statistical difference between these objects, except for the LBGs redder UV continuum slope and marginally larger E(B - V) values. Interestingly, 48% of the LBGs have ages < 10 Myr and are classified as starbursts, but lack detectable Ly$\\alpha$ emission. This is likely due to HI resonant scattering and/or selective dust extinction. Overall, we find that JWST observations are crucial in determining the properties of LAEs and shedding light on the properties and similarities between LAEs and LBGs. |"
      ],
      "text/plain": [
       "[arXiv:2309.08515] MIDIS. JWST NIRCam and MIRI unveil the stellar population properties of  Ly$α$-emitters and Lyman-Break galaxies at z ~ 3-7\n",
       "\tE. Iani, et al. -- incl., <mark>T. K. Henning</mark>, <mark>F. Walter</mark>"
      ]
     },
     "metadata": {},
     "output_type": "display_data"
    },
    {
     "data": {
      "text/markdown": [
       "## Failed papers"
      ],
      "text/plain": [
       "<IPython.core.display.Markdown object>"
      ]
     },
     "metadata": {},
     "output_type": "display_data"
    },
    {
     "data": {
      "text/markdown": [
       "\n",
       "|||\n",
       "|---:|:---|\n",
       "| [![arXiv](https://img.shields.io/badge/arXiv-arXiv:2309.08078-b31b1b.svg)](https://arxiv.org/abs/arXiv:2309.08078) | **A sub-pc BBH system in SDSS J1609+1756 through optical QPOs in ZTF light  curves**  |\n",
       "|| <mark>X. Zhang</mark> |\n",
       "|*Appeared on*| *2023-09-18*|\n",
       "|*Comments*| *13 pages, 2 tables, 1 figures, Accepted to be published in MNRAS*|\n",
       "|**Abstract**| Optical quasi-periodic oscillations (QPOs) are the most preferred signs of sub-pc binary black hole (BBH) systems in AGN. In this manuscript, robust optical QPOs are reported in quasar SDSS J1609+1756 at $z=0.347$. In order to detect reliable optical QPOs, four different methods are applied to analyze the 4.45 years-long ZTF g/r/i-band light curves of SDSS J1609+1756, direct fitting results by sine function, Generalized Lomb-Scargle periodogram, Auto-Cross Correlation Function and Weighted Wavelet Z-transform method. The Four different methods can lead to well determined reliable optical QPOs with periodicities $\\sim340$ days with confidence levels higher than 5$\\sigma$, to guarantee the robustness of the optical QPOs in SDSS J1609+1756. Meanwhile, based on simulated light curves through CAR process to trace intrinsic AGN activities, confidence level higher than $3\\sigma$ can be confirmed that the optical QPOs are not mis-detected in intrinsic AGN activities, re-confirming the robust optical QPOs and strongly indicating a central sub-pc BBH system in SDSS J1609+1756. Furthermore, based on apparent red-shifted shoulders in broad Balmer emission lines in SDSS J1609+1756, space separation of the expected central BBH system can be estimated to be smaller than $107\\pm60$ light-days, accepted upper limit of total BH mass $\\sim(1.03\\pm0.22)\\times10^8{\\rm M_\\odot}$. Therefore, to detect and report BBH system expected optical QPOs with periodicities around 1 year is efficiently practicable through ZTF light curves, and combining with peculiar broad line emission features, further clues should be given on space separations of BBH systems in broad line AGN in the near future. |\n",
       "|<p style=\"color:green\"> **ERROR** </p>| <p style=\"color:green\">affiliation error: mpia.affiliation_verifications: 'Heidelberg' keyword not found.</p> |"
      ],
      "text/plain": [
       "<IPython.core.display.Markdown object>"
      ]
     },
     "metadata": {},
     "output_type": "display_data"
    },
    {
     "data": {
      "text/markdown": [
       "\n",
       "|||\n",
       "|---:|:---|\n",
       "| [![arXiv](https://img.shields.io/badge/arXiv-arXiv:2309.08403-b31b1b.svg)](https://arxiv.org/abs/arXiv:2309.08403) | **The stratification of ISM properties in the edge-on galaxy NGC 891  revealed by NIKA2**  |\n",
       "|| S. Katsioli, et al. -- incl., <mark>A. Hughes</mark> |\n",
       "|*Appeared on*| *2023-09-18*|\n",
       "|*Comments*| *15 pages, 10 figures, Accepted for publication in A&A*|\n",
       "|**Abstract**| As the millimeter wavelength range remains a largely unexplored spectral region for galaxies, the IMEGIN large program aims to map the millimeter continuum emission of 22 nearby galaxies at 1.15 and 2 mm. Using the high-resolution maps produced by the NIKA2 camera, we explore the existence of very cold dust and take possible contamination by free-free and synchrotron emission into account. We study the IR-to-radio emission coming from different regions along the galactic plane and at large vertical distances. New observations of NGC 891, using the NIKA2 camera on the IRAM 30m telescope, along with a suite of observations at other wavelengths were used to perform a multiwavelength study of the spectral energy distribution in the interstellar medium in this galaxy. This analysis was performed globally and locally, using the advanced hierarchical Bayesian fitting code, HerBIE, coupled with the THEMIS dust model. Our dust modeling is able to reproduce the near-IR to millimeter emission of NGC 891, with the exception of an excess at a level of 25% obtained by the NIKA2 observations in the outermost parts of the disk. The radio continuum and thermal dust emission are distributed differently in the disk and galaxy halo. Different dusty environments are also revealed by a multiwavelength investigation of the emission features. Our detailed decomposition at millimeter and centimeter wavelengths shows that emission at 1 mm is purely originated by dust. Radio components become progressively important with increasing wavelengths. Finally, we find that emission arising from small dust grains accounts for ~ 9.5% of the total dust mass, reaching up to 20% at large galactic latitudes. Shock waves in the outflows that shatter the dust grains might explain this higher fraction of small grains in the halo. |\n",
       "|<p style=\"color:green\"> **ERROR** </p>| <p style=\"color:green\">affiliation error: mpia.affiliation_verifications: 'Heidelberg' keyword not found.</p> |"
      ],
      "text/plain": [
       "<IPython.core.display.Markdown object>"
      ]
     },
     "metadata": {},
     "output_type": "display_data"
    }
   ],
   "source": [
    "import datetime\n",
    "today = str(datetime.date.today())\n",
    "logfile = f\"_build/html/logs/log-{today}.md\"\n",
    "\n",
    "\n",
    "with open(logfile, 'w') as logs:\n",
    "    # Success\n",
    "    logs.write(f'# Arxiv on Deck 2: Logs - {today}\\n\\n')\n",
    "    logs.write(\"\"\"* Arxiv had {0:,d} new papers\\n\"\"\".format(len(new_papers)))\n",
    "    logs.write(\"\"\"    * {0:,d} with possible author matches\\n\\n\"\"\".format(len(candidates)))\n",
    "    logs.write(\"## Sucessful papers\\n\\n\")\n",
    "    display(Markdown(\"## Successful papers\"))\n",
    "    success = [k[0] for k in documents]\n",
    "    for candid in candidates:\n",
    "        if candid['identifier'].split(':')[-1] in success:\n",
    "            display(candid)\n",
    "            logs.write(candid.generate_markdown_text() + '\\n\\n')\n",
    "\n",
    "    ## failed\n",
    "    logs.write(\"## Failed papers\\n\\n\")\n",
    "    display(Markdown(\"## Failed papers\"))\n",
    "    failed = sorted(failed, key=lambda x: x[1])\n",
    "    current_reason = \"\"\n",
    "    for paper, reason in failed:\n",
    "        if 'affiliation' in reason:\n",
    "            color = 'green'\n",
    "        else:\n",
    "            color = 'red'\n",
    "        data = Markdown(\n",
    "                paper.generate_markdown_text() + \n",
    "                f'\\n|<p style=\"color:{color:s}\"> **ERROR** </p>| <p style=\"color:{color:s}\">{reason:s}</p> |'\n",
    "               )\n",
    "        if reason != current_reason:\n",
    "            logs.write(f'### {reason:s} \\n\\n')\n",
    "            current_reason = reason\n",
    "        logs.write(data.data + '\\n\\n')\n",
    "        \n",
    "        # only display here the important errors (all in logs)\n",
    "        # if color in ('red',):\n",
    "        display(data)"
   ]
  },
  {
   "cell_type": "markdown",
   "id": "472d20ee",
   "metadata": {
    "papermill": {
     "duration": 0.007062,
     "end_time": "2023-09-18T04:07:05.786682",
     "exception": false,
     "start_time": "2023-09-18T04:07:05.779620",
     "status": "completed"
    },
    "tags": []
   },
   "source": [
    "## Export documents\n",
    "\n",
    "We now write the .md files and export relevant images"
   ]
  },
  {
   "cell_type": "code",
   "execution_count": 6,
   "id": "d426aed9",
   "metadata": {
    "execution": {
     "iopub.execute_input": "2023-09-18T04:07:05.801127Z",
     "iopub.status.busy": "2023-09-18T04:07:05.800577Z",
     "iopub.status.idle": "2023-09-18T04:07:05.811136Z",
     "shell.execute_reply": "2023-09-18T04:07:05.810013Z"
    },
    "papermill": {
     "duration": 0.020197,
     "end_time": "2023-09-18T04:07:05.813223",
     "exception": false,
     "start_time": "2023-09-18T04:07:05.793026",
     "status": "completed"
    },
    "tags": []
   },
   "outputs": [],
   "source": [
    "def export_markdown_summary(md: str, md_fname:str, directory: str):\n",
    "    \"\"\"Export MD document and associated relevant images\"\"\"\n",
    "    import os\n",
    "    import shutil\n",
    "    import re\n",
    "\n",
    "    if (os.path.exists(directory) and not os.path.isdir(directory)):\n",
    "        raise RuntimeError(f\"a non-directory file exists with name {directory:s}\")\n",
    "\n",
    "    if (not os.path.exists(directory)):\n",
    "        print(f\"creating directory {directory:s}\")\n",
    "        os.mkdir(directory)\n",
    "\n",
    "    fig_fnames = (re.compile(r'\\[Fig.*\\]\\((.*)\\)').findall(md) + \n",
    "                  re.compile(r'\\<img src=\"([^>\\s]*)\"[^>]*/>').findall(md))\n",
    "    for fname in fig_fnames:\n",
    "        if 'http' in fname:\n",
    "            # No need to copy online figures\n",
    "            continue\n",
    "        destdir = os.path.join(directory, os.path.dirname(fname))\n",
    "        destfname = os.path.join(destdir, os.path.basename(fname))\n",
    "        try:\n",
    "            os.makedirs(destdir)\n",
    "        except FileExistsError:\n",
    "            pass\n",
    "        shutil.copy(fname, destfname)\n",
    "    with open(os.path.join(directory, md_fname), 'w') as fout:\n",
    "        fout.write(md)\n",
    "    print(\"exported in \", os.path.join(directory, md_fname))\n",
    "    [print(\"    + \" + os.path.join(directory,fk)) for fk in fig_fnames]"
   ]
  },
  {
   "cell_type": "code",
   "execution_count": 7,
   "id": "014d04a4",
   "metadata": {
    "execution": {
     "iopub.execute_input": "2023-09-18T04:07:05.827526Z",
     "iopub.status.busy": "2023-09-18T04:07:05.826990Z",
     "iopub.status.idle": "2023-09-18T04:07:05.837798Z",
     "shell.execute_reply": "2023-09-18T04:07:05.836825Z"
    },
    "papermill": {
     "duration": 0.020814,
     "end_time": "2023-09-18T04:07:05.840146",
     "exception": false,
     "start_time": "2023-09-18T04:07:05.819332",
     "status": "completed"
    },
    "tags": []
   },
   "outputs": [
    {
     "name": "stdout",
     "output_type": "stream",
     "text": [
      "exported in  _build/html/2309.08515.md\n",
      "    + _build/html/tmp_2309.08515/./figures/ebv_dist.png\n",
      "    + _build/html/tmp_2309.08515/./figures/mass_dist.png\n",
      "    + _build/html/tmp_2309.08515/./figures/age_dist.png\n",
      "    + _build/html/tmp_2309.08515/./figures/beta_dist.png\n",
      "    + _build/html/tmp_2309.08515/./figures/muv_dist.png\n",
      "    + _build/html/tmp_2309.08515/./figures/sfr_dist.png\n",
      "    + _build/html/tmp_2309.08515/./figures/ssfr_dist.png\n",
      "    + _build/html/tmp_2309.08515/./figures/AGE_BEST_massmatch.png\n",
      "    + _build/html/tmp_2309.08515/./figures/EBV_BEST_massmatch.png\n",
      "    + _build/html/tmp_2309.08515/./figures/BETA_SLOPE_massmatch.png\n",
      "    + _build/html/tmp_2309.08515/./figures/MUV_corr_massmatch.png\n",
      "    + _build/html/tmp_2309.08515/./figures/SFR_UV_massmatch.png\n",
      "    + _build/html/tmp_2309.08515/./figures/sSFR_UV_massmatch.png\n",
      "    + _build/html/tmp_2309.08515/./figures/llya_z.png\n"
     ]
    }
   ],
   "source": [
    "for paper_id, md in documents:\n",
    "    export_markdown_summary(md, f\"{paper_id:s}.md\", '_build/html/')"
   ]
  },
  {
   "cell_type": "markdown",
   "id": "f087a0a7",
   "metadata": {
    "papermill": {
     "duration": 0.007439,
     "end_time": "2023-09-18T04:07:05.855884",
     "exception": false,
     "start_time": "2023-09-18T04:07:05.848445",
     "status": "completed"
    },
    "tags": []
   },
   "source": [
    "## Display the papers\n",
    "\n",
    "Not necessary but allows for a quick check."
   ]
  },
  {
   "cell_type": "code",
   "execution_count": 8,
   "id": "fd25f625",
   "metadata": {
    "execution": {
     "iopub.execute_input": "2023-09-18T04:07:05.871442Z",
     "iopub.status.busy": "2023-09-18T04:07:05.870942Z",
     "iopub.status.idle": "2023-09-18T04:07:05.878542Z",
     "shell.execute_reply": "2023-09-18T04:07:05.877628Z"
    },
    "papermill": {
     "duration": 0.017773,
     "end_time": "2023-09-18T04:07:05.880536",
     "exception": false,
     "start_time": "2023-09-18T04:07:05.862763",
     "status": "completed"
    },
    "scrolled": false,
    "tags": []
   },
   "outputs": [
    {
     "data": {
      "text/markdown": [
       "<div class=\"macros\" style=\"visibility:hidden;\">\n",
       "$\\newcommand{\\ensuremath}{}$\n",
       "$\\newcommand{\\xspace}{}$\n",
       "$\\newcommand{\\object}[1]{\\texttt{#1}}$\n",
       "$\\newcommand{\\farcs}{{.}''}$\n",
       "$\\newcommand{\\farcm}{{.}'}$\n",
       "$\\newcommand{\\arcsec}{''}$\n",
       "$\\newcommand{\\arcmin}{'}$\n",
       "$\\newcommand{\\ion}[2]{#1#2}$\n",
       "$\\newcommand{\\textsc}[1]{\\textrm{#1}}$\n",
       "$\\newcommand{\\hl}[1]{\\textrm{#1}}$\n",
       "$\\newcommand{\\footnote}[1]{}$\n",
       "$\\newcommand{\\vdag}{(v)^\\dagger}$\n",
       "$\\newcommand$\n",
       "$\\newcommand$\n",
       "$\\newcommand{\\jwst}{{\\it JWST}}$\n",
       "$\\newcommand{\\hst}{{\\it HST}}$\n",
       "$\\newcommand{\\lya}{Ly\\alpha}$\n",
       "$\\newcommand{\\lephare}{\\textsc{LePHARE}}$\n",
       "$\\newcommand{\\ebv}{E(B-V)}$\n",
       "$\\newcommand{\\mstar}{M_\\star}$\n",
       "$\\newcommand{\\python}{\\textsc{Python}}$</div>\n",
       "\n",
       "\n",
       "\n",
       "<div id=\"title\">\n",
       "\n",
       "# MIDIS. $\\jwst$ NIRCam and MIRI unveil the stellar population properties of $\\lya$-emitters and Lyman-Break galaxies at $z \\simeq 3 - 7$\n",
       "\n",
       "</div>\n",
       "<div id=\"comments\">\n",
       "\n",
       "[![arXiv](https://img.shields.io/badge/arXiv-2309.08515-b31b1b.svg)](https://arxiv.org/abs/2309.08515)<mark>Appeared on: 2023-09-18</mark> -  _19 pages, 15 figures, 5 tables. Submitted to APJ_\n",
       "\n",
       "</div>\n",
       "<div id=\"authors\">\n",
       "\n",
       "E. Iani, et al. -- incl., <mark>T. K. Henning</mark>, <mark>F. Walter</mark>\n",
       "\n",
       "</div>\n",
       "<div id=\"abstract\">\n",
       "\n",
       "**Abstract:** We study the stellar population properties of 182 spectroscopically-confirmed (MUSE/VLT) Lyman- $\\alpha$ emitters (LAEs) and 450 photometrically-selected Lyman-Break galaxies (LBGs) at $z = 2.8 - 6.7$ in the Hubble eXtreme Deep Field (XDF).Leveraging the combined power of $\\hst$ and $\\jwst$ NIRCam and MIRI observations, we analyse their rest-frame UV-through-near-IR spectral energy distributions (SEDs) with MIRI playing a crucial role in robustly assessing the LAE's stellar mass and ages.Our LAEs are low-mass objects ( $\\rm \\log_{10}(M_\\star [M_\\odot]) \\simeq 7.5$ ), with little or no dust extinction ( $\\rm E(B-V) \\simeq 0.1$ ) and a blue UV continuum slope ( $\\beta \\simeq -2.2$ ).While 75 \\% of our LAEs are young ( $<$ 100 Myr), the remaining 25 \\% have significantly older stellar populations ( $\\geq 100$ Myr).These old LAEs are statistically more massive, less extinct and have lower specific star formation rate (sSFR) compared to young LAEs. Besides, they populate the M $_\\star$ -- SFR plane along the main-sequence (MS) of star-forming galaxies, while young LAEs populate the starburst region.The comparison between the LAEs properties to those of a stellar-mass matched sample of LBGs shows no statistical difference between these objects, except for the LBGs redder UV continuum slope and marginally larger E(B-V) values.Interestingly, 48 \\% of the LBGs have ages $<$ 10 Myr and are classified as starbursts, but lack detectable $\\lya$ emission. This is likely due to HI resonant scattering and/or selective dust extinction.Overall, we find that $\\jwst$ observations are crucial in determining the properties of LAEs and shedding light on the properties and similarities between LAEs and LBGs.\n",
       "\n",
       "</div>\n",
       "\n",
       "<div id=\"div_fig1\">\n",
       "\n",
       "<img src=\"tmp_2309.08515/./figures/ebv_dist.png\" alt=\"Fig11.1\" width=\"14%\"/><img src=\"tmp_2309.08515/./figures/mass_dist.png\" alt=\"Fig11.2\" width=\"14%\"/><img src=\"tmp_2309.08515/./figures/age_dist.png\" alt=\"Fig11.3\" width=\"14%\"/><img src=\"tmp_2309.08515/./figures/beta_dist.png\" alt=\"Fig11.4\" width=\"14%\"/><img src=\"tmp_2309.08515/./figures/muv_dist.png\" alt=\"Fig11.5\" width=\"14%\"/><img src=\"tmp_2309.08515/./figures/sfr_dist.png\" alt=\"Fig11.6\" width=\"14%\"/><img src=\"tmp_2309.08515/./figures/ssfr_dist.png\" alt=\"Fig11.7\" width=\"14%\"/>\n",
       "\n",
       "**Figure 11. -** Distributions of the physical properties for our sample of LAEs (in blue) and LBGs (in green). In the top row we present the colour excess, stellar mass and age as derived from the $\\lephare$ SED fitting, while in the central and bottom rows, we display the distribution of the parameters directly derived from the analysis of the UV photometry of our sources, i.e. the UV continuum slope ($\\beta$), the UV absolute magnitude, the star formation rate and the specific star formation rate. (*fig:sed_prop_hist*)\n",
       "\n",
       "</div>\n",
       "<div id=\"div_fig2\">\n",
       "\n",
       "<img src=\"tmp_2309.08515/./figures/AGE_BEST_massmatch.png\" alt=\"Fig15.1\" width=\"16%\"/><img src=\"tmp_2309.08515/./figures/EBV_BEST_massmatch.png\" alt=\"Fig15.2\" width=\"16%\"/><img src=\"tmp_2309.08515/./figures/BETA_SLOPE_massmatch.png\" alt=\"Fig15.3\" width=\"16%\"/><img src=\"tmp_2309.08515/./figures/MUV_corr_massmatch.png\" alt=\"Fig15.4\" width=\"16%\"/><img src=\"tmp_2309.08515/./figures/SFR_UV_massmatch.png\" alt=\"Fig15.5\" width=\"16%\"/><img src=\"tmp_2309.08515/./figures/sSFR_UV_massmatch.png\" alt=\"Fig15.6\" width=\"16%\"/>\n",
       "\n",
       "**Figure 15. -** Comparison between the distribution of the physical properties of LAEs (in blue) and mass-matched LBGs (in green). The vertical solid lines highlight the median value of the distributions, while the dashed lines are indicative of the 68\\% confidence interval, i.e. the 16th and 84th percentiles, respectively. (*fig:mass_matched*)\n",
       "\n",
       "</div>\n",
       "<div id=\"div_fig3\">\n",
       "\n",
       "<img src=\"tmp_2309.08515/./figures/llya_z.png\" alt=\"Fig1\" width=\"100%\"/>\n",
       "\n",
       "**Figure 1. -** Observed $\\lya$ luminosity vs. redshift diagram of our final sample of LAEs. We highlight with orange and red edges LAEs matched to two and three photometric counterparts, respectively.\n",
       "    The top and right panels show the redshift and $\\lya$ luminosity distribution of our source. The grey shaded region indicates the luminosity corresponding to the 2$\\sigma$ depth of the MUSE observations \\citep{Bacon+23}, i.e. $2.1 \\times 10^{-19}$ and $4.2 \\times 10^{-20}$ erg/s/cm$^2$ at 10- and 141-h depths, respectively. (*fig:z-llya*)\n",
       "\n",
       "</div><div id=\"qrcode\"><img src=https://api.qrserver.com/v1/create-qr-code/?size=100x100&data=\"https://arxiv.org/abs/2309.08515\"></div>"
      ],
      "text/plain": [
       "<IPython.core.display.Markdown object>"
      ]
     },
     "metadata": {},
     "output_type": "display_data"
    }
   ],
   "source": [
    "[display(Markdown(k[1])) for k in documents];"
   ]
  },
  {
   "cell_type": "markdown",
   "id": "873873a4",
   "metadata": {
    "papermill": {
     "duration": 0.007153,
     "end_time": "2023-09-18T04:07:05.894961",
     "exception": false,
     "start_time": "2023-09-18T04:07:05.887808",
     "status": "completed"
    },
    "tags": []
   },
   "source": [
    "# Create HTML index"
   ]
  },
  {
   "cell_type": "code",
   "execution_count": 9,
   "id": "cf665672",
   "metadata": {
    "execution": {
     "iopub.execute_input": "2023-09-18T04:07:05.911631Z",
     "iopub.status.busy": "2023-09-18T04:07:05.910890Z",
     "iopub.status.idle": "2023-09-18T04:07:05.924103Z",
     "shell.execute_reply": "2023-09-18T04:07:05.923195Z"
    },
    "papermill": {
     "duration": 0.024615,
     "end_time": "2023-09-18T04:07:05.926057",
     "exception": false,
     "start_time": "2023-09-18T04:07:05.901442",
     "status": "completed"
    },
    "tags": []
   },
   "outputs": [
    {
     "name": "stdout",
     "output_type": "stream",
     "text": [
      "271  publications files modified in the last 7 days.\n"
     ]
    }
   ],
   "source": [
    "from datetime import datetime, timedelta, timezone\n",
    "from glob import glob\n",
    "import os\n",
    "\n",
    "files = glob('_build/html/*.md')\n",
    "days = 7\n",
    "now = datetime.today()\n",
    "res = []\n",
    "for fk in files:\n",
    "    stat_result = os.stat(fk).st_ctime\n",
    "    modified = datetime.fromtimestamp(stat_result, tz=timezone.utc).replace(tzinfo=None)\n",
    "    delta = now.today() - modified\n",
    "    if delta <= timedelta(days=days):\n",
    "        res.append((delta.seconds, fk))\n",
    "res = [k[1] for k in reversed(sorted(res, key=lambda x:x[1]))]\n",
    "npub = len(res)\n",
    "print(len(res), f\" publications files modified in the last {days:d} days.\")\n",
    "# [ print('\\t', k) for k in res ];"
   ]
  },
  {
   "cell_type": "code",
   "execution_count": 10,
   "id": "015de740",
   "metadata": {
    "execution": {
     "iopub.execute_input": "2023-09-18T04:07:05.942410Z",
     "iopub.status.busy": "2023-09-18T04:07:05.941812Z",
     "iopub.status.idle": "2023-09-18T04:07:05.970987Z",
     "shell.execute_reply": "2023-09-18T04:07:05.969906Z"
    },
    "papermill": {
     "duration": 0.040738,
     "end_time": "2023-09-18T04:07:05.973813",
     "exception": false,
     "start_time": "2023-09-18T04:07:05.933075",
     "status": "completed"
    },
    "tags": []
   },
   "outputs": [
    {
     "name": "stdout",
     "output_type": "stream",
     "text": [
      "7  publications in the last 7 days.\n"
     ]
    }
   ],
   "source": [
    "import datetime\n",
    "from glob import glob\n",
    "\n",
    "def get_last_n_days(lst, days=1):\n",
    "    \"\"\" Get the documents from the last n days \"\"\"\n",
    "    sorted_lst = sorted(lst, key=lambda x: x[1], reverse=True)\n",
    "    for fname, date in sorted_lst:\n",
    "        if date >= str(datetime.date.today() - datetime.timedelta(days=days)):\n",
    "            yield fname\n",
    "\n",
    "def extract_appearance_dates(lst_file):\n",
    "    dates = []\n",
    "\n",
    "    def get_date(line):\n",
    "        return line\\\n",
    "            .split('Appeared on:')[-1]\\\n",
    "            .split('</mark>')[0].strip()\n",
    "\n",
    "    for fname in lst:\n",
    "        with open(fname, 'r') as f:\n",
    "            found_date = False\n",
    "            for line in f:\n",
    "                if not found_date:\n",
    "                    if \"Appeared on\" in line:\n",
    "                        found_date = True\n",
    "                        dates.append((fname, get_date(line)))\n",
    "                else:\n",
    "                    break\n",
    "    return dates\n",
    "\n",
    "from glob import glob\n",
    "lst = glob('_build/html/*md')\n",
    "days = 7\n",
    "dates = extract_appearance_dates(lst)\n",
    "res = list(get_last_n_days(dates, days))\n",
    "npub = len(res)\n",
    "print(len(res), f\" publications in the last {days:d} days.\")"
   ]
  },
  {
   "cell_type": "code",
   "execution_count": 11,
   "id": "52ca0208",
   "metadata": {
    "execution": {
     "iopub.execute_input": "2023-09-18T04:07:05.990709Z",
     "iopub.status.busy": "2023-09-18T04:07:05.990375Z",
     "iopub.status.idle": "2023-09-18T04:07:05.997143Z",
     "shell.execute_reply": "2023-09-18T04:07:05.996260Z"
    },
    "papermill": {
     "duration": 0.017714,
     "end_time": "2023-09-18T04:07:05.999307",
     "exception": false,
     "start_time": "2023-09-18T04:07:05.981593",
     "status": "completed"
    },
    "scrolled": false,
    "tags": []
   },
   "outputs": [],
   "source": [
    "def create_carousel(npub=4):\n",
    "    \"\"\" Generate the HTML code for a carousel with `npub` slides \"\"\"\n",
    "    carousel = [\"\"\"  <div class=\"carousel\" \"\"\",\n",
    "                \"\"\"       data-flickity='{ \"autoPlay\": 10000, \"adaptiveHeight\": true, \"resize\": true, \"wrapAround\": true, \"pauseAutoPlayOnHover\": true, \"groupCells\": 1 }' id=\"asyncTypeset\">\"\"\"\n",
    "                ]\n",
    "    \n",
    "    item_str = \"\"\"    <div class=\"carousel-cell\"> <div id=\"slide{k}\" class=\"md_view\">Content {k}</div> </div>\"\"\"\n",
    "    for k in range(1, npub + 1):\n",
    "        carousel.append(item_str.format(k=k))\n",
    "    carousel.append(\"  </div>\")\n",
    "    return '\\n'.join(carousel)\n",
    "\n",
    "def create_grid(npub=4):\n",
    "    \"\"\" Generate the HTML code for a flat grid with `npub` slides \"\"\"\n",
    "    grid = [\"\"\"  <div class=\"grid\"> \"\"\",\n",
    "                ]\n",
    "    \n",
    "    item_str = \"\"\"    <div class=\"grid-item\"> <div id=\"slide{k}\" class=\"md_view\">Content {k}</div> </div>\"\"\"\n",
    "    for k in range(1, npub + 1):\n",
    "        grid.append(item_str.format(k=k))\n",
    "    grid.append(\"  </div>\")\n",
    "    return '\\n'.join(grid)"
   ]
  },
  {
   "cell_type": "code",
   "execution_count": 12,
   "id": "a6eac5b6",
   "metadata": {
    "execution": {
     "iopub.execute_input": "2023-09-18T04:07:06.015148Z",
     "iopub.status.busy": "2023-09-18T04:07:06.014312Z",
     "iopub.status.idle": "2023-09-18T04:07:06.021692Z",
     "shell.execute_reply": "2023-09-18T04:07:06.020650Z"
    },
    "papermill": {
     "duration": 0.01761,
     "end_time": "2023-09-18T04:07:06.023745",
     "exception": false,
     "start_time": "2023-09-18T04:07:06.006135",
     "status": "completed"
    },
    "scrolled": false,
    "tags": []
   },
   "outputs": [],
   "source": [
    "carousel = create_carousel(npub)\n",
    "docs = ', '.join(['\"{0:s}\"'.format(k.split('/')[-1]) for k in res])\n",
    "slides = ', '.join([f'\"slide{k}\"' for k in range(1, npub + 1)])\n",
    "\n",
    "with open(\"daily_template.html\", \"r\") as tpl:\n",
    "    page = tpl.read()\n",
    "    page = page.replace(\"{%-- carousel:s --%}\", carousel)\\\n",
    "               .replace(\"{%-- suptitle:s --%}\",  \"7-day archives\" )\\\n",
    "               .replace(\"{%-- docs:s --%}\", docs)\\\n",
    "               .replace(\"{%-- slides:s --%}\", slides)\n",
    "    \n",
    "with open(\"_build/html/index_7days.html\", 'w') as fout:\n",
    "    fout.write(page)"
   ]
  },
  {
   "cell_type": "code",
   "execution_count": 13,
   "id": "adc1a1ec",
   "metadata": {
    "execution": {
     "iopub.execute_input": "2023-09-18T04:07:06.039339Z",
     "iopub.status.busy": "2023-09-18T04:07:06.038608Z",
     "iopub.status.idle": "2023-09-18T04:07:06.047787Z",
     "shell.execute_reply": "2023-09-18T04:07:06.047011Z"
    },
    "papermill": {
     "duration": 0.01936,
     "end_time": "2023-09-18T04:07:06.050042",
     "exception": false,
     "start_time": "2023-09-18T04:07:06.030682",
     "status": "completed"
    },
    "tags": []
   },
   "outputs": [
    {
     "name": "stdout",
     "output_type": "stream",
     "text": [
      "1  publications in the last day.\n"
     ]
    }
   ],
   "source": [
    "# redo for today\n",
    "days = 1\n",
    "res = list(get_last_n_days(dates, days))\n",
    "npub = len(res)\n",
    "print(len(res), f\" publications in the last day.\")\n",
    "\n",
    "carousel = create_carousel(npub)\n",
    "docs = ', '.join(['\"{0:s}\"'.format(k.split('/')[-1]) for k in res])\n",
    "slides = ', '.join([f'\"slide{k}\"' for k in range(1, npub + 1)])\n",
    "\n",
    "with open(\"daily_template.html\", \"r\") as tpl:\n",
    "    page = tpl.read()\n",
    "    page = page.replace(\"{%-- carousel:s --%}\", carousel)\\\n",
    "               .replace(\"{%-- suptitle:s --%}\",  \"Daily\" )\\\n",
    "               .replace(\"{%-- docs:s --%}\", docs)\\\n",
    "               .replace(\"{%-- slides:s --%}\", slides)\n",
    "    \n",
    "# print(carousel, docs, slides)\n",
    "# print(page)\n",
    "with open(\"_build/html/index_daily.html\", 'w') as fout:\n",
    "    fout.write(page)"
   ]
  },
  {
   "cell_type": "code",
   "execution_count": 14,
   "id": "00eece82",
   "metadata": {
    "execution": {
     "iopub.execute_input": "2023-09-18T04:07:06.068372Z",
     "iopub.status.busy": "2023-09-18T04:07:06.067575Z",
     "iopub.status.idle": "2023-09-18T04:07:06.079285Z",
     "shell.execute_reply": "2023-09-18T04:07:06.078413Z"
    },
    "papermill": {
     "duration": 0.023532,
     "end_time": "2023-09-18T04:07:06.081305",
     "exception": false,
     "start_time": "2023-09-18T04:07:06.057773",
     "status": "completed"
    },
    "scrolled": false,
    "tags": []
   },
   "outputs": [
    {
     "name": "stdout",
     "output_type": "stream",
     "text": [
      "6  6 publications selected.\n"
     ]
    }
   ],
   "source": [
    "# Create the flat grid of the last N papers (fixed number regardless of dates)\n",
    "from itertools import islice \n",
    "\n",
    "npub = 6\n",
    "res = [k[0] for k in (islice(reversed(sorted(dates, key=lambda x: x[1])), 6))]\n",
    "print(len(res), f\" {npub} publications selected.\")\n",
    "\n",
    "grid = create_grid(npub)\n",
    "docs = ', '.join(['\"{0:s}\"'.format(k.split('/')[-1]) for k in res])\n",
    "slides = ', '.join([f'\"slide{k}\"' for k in range(1, npub + 1)])\n",
    "\n",
    "with open(\"grid_template.html\", \"r\") as tpl:\n",
    "    page = tpl.read()\n",
    "    page = page.replace(\"{%-- grid-content:s --%}\", grid)\\\n",
    "               .replace(\"{%-- suptitle:s --%}\",  f\"Last {npub:,d} papers\" )\\\n",
    "               .replace(\"{%-- docs:s --%}\", docs)\\\n",
    "               .replace(\"{%-- slides:s --%}\", slides)\n",
    "    \n",
    "# print(grid, docs, slides)\n",
    "# print(page)\n",
    "with open(\"_build/html/index_npub_grid.html\", 'w') as fout:\n",
    "    fout.write(page)"
   ]
  }
 ],
 "metadata": {
  "kernelspec": {
   "display_name": "Python 3 (ipykernel)",
   "language": "python",
   "name": "python3"
  },
  "language_info": {
   "codemirror_mode": {
    "name": "ipython",
    "version": 3
   },
   "file_extension": ".py",
   "mimetype": "text/x-python",
   "name": "python",
   "nbconvert_exporter": "python",
   "pygments_lexer": "ipython3",
   "version": "3.9.18"
  },
  "papermill": {
   "default_parameters": {},
   "duration": 64.674839,
   "end_time": "2023-09-18T04:07:06.413383",
   "environment_variables": {},
   "exception": null,
   "input_path": "MPIA daily digest.ipynb",
   "output_path": "log.ipynb",
   "parameters": {},
   "start_time": "2023-09-18T04:06:01.738544",
   "version": "2.4.0"
  },
  "vscode": {
   "interpreter": {
    "hash": "aee8b7b246df8f9039afb4144a1f6fd8d2ca17a180786b69acc140d282b71a49"
   }
  },
  "widgets": {
   "application/vnd.jupyter.widget-state+json": {
    "state": {
     "09ffd02f11844fc4bd02b43278162682": {
      "model_module": "@jupyter-widgets/controls",
      "model_module_version": "2.0.0",
      "model_name": "ProgressStyleModel",
      "state": {
       "_model_module": "@jupyter-widgets/controls",
       "_model_module_version": "2.0.0",
       "_model_name": "ProgressStyleModel",
       "_view_count": null,
       "_view_module": "@jupyter-widgets/base",
       "_view_module_version": "2.0.0",
       "_view_name": "StyleView",
       "bar_color": null,
       "description_width": ""
      }
     },
     "665e24f143db48d58f1bdc3e5b3a4f57": {
      "model_module": "@jupyter-widgets/controls",
      "model_module_version": "2.0.0",
      "model_name": "FloatProgressModel",
      "state": {
       "_dom_classes": [],
       "_model_module": "@jupyter-widgets/controls",
       "_model_module_version": "2.0.0",
       "_model_name": "FloatProgressModel",
       "_view_count": null,
       "_view_module": "@jupyter-widgets/controls",
       "_view_module_version": "2.0.0",
       "_view_name": "ProgressView",
       "bar_style": "success",
       "description": "",
       "description_allow_html": false,
       "layout": "IPY_MODEL_afba995145d046a5ae6c07174a2e6338",
       "max": 3.0,
       "min": 0.0,
       "orientation": "horizontal",
       "style": "IPY_MODEL_09ffd02f11844fc4bd02b43278162682",
       "tabbable": null,
       "tooltip": null,
       "value": 3.0
      }
     },
     "7b3c829ada884eeaaf4c56aca51749b3": {
      "model_module": "@jupyter-widgets/controls",
      "model_module_version": "2.0.0",
      "model_name": "HTMLStyleModel",
      "state": {
       "_model_module": "@jupyter-widgets/controls",
       "_model_module_version": "2.0.0",
       "_model_name": "HTMLStyleModel",
       "_view_count": null,
       "_view_module": "@jupyter-widgets/base",
       "_view_module_version": "2.0.0",
       "_view_name": "StyleView",
       "background": null,
       "description_width": "",
       "font_size": null,
       "text_color": null
      }
     },
     "8b2a4ae089ed48ee82379356fb82a8b2": {
      "model_module": "@jupyter-widgets/base",
      "model_module_version": "2.0.0",
      "model_name": "LayoutModel",
      "state": {
       "_model_module": "@jupyter-widgets/base",
       "_model_module_version": "2.0.0",
       "_model_name": "LayoutModel",
       "_view_count": null,
       "_view_module": "@jupyter-widgets/base",
       "_view_module_version": "2.0.0",
       "_view_name": "LayoutView",
       "align_content": null,
       "align_items": null,
       "align_self": null,
       "border_bottom": null,
       "border_left": null,
       "border_right": null,
       "border_top": null,
       "bottom": null,
       "display": null,
       "flex": null,
       "flex_flow": null,
       "grid_area": null,
       "grid_auto_columns": null,
       "grid_auto_flow": null,
       "grid_auto_rows": null,
       "grid_column": null,
       "grid_gap": null,
       "grid_row": null,
       "grid_template_areas": null,
       "grid_template_columns": null,
       "grid_template_rows": null,
       "height": null,
       "justify_content": null,
       "justify_items": null,
       "left": null,
       "margin": null,
       "max_height": null,
       "max_width": null,
       "min_height": null,
       "min_width": null,
       "object_fit": null,
       "object_position": null,
       "order": null,
       "overflow": null,
       "padding": null,
       "right": null,
       "top": null,
       "visibility": null,
       "width": null
      }
     },
     "ad9aaeaebcf14efabefdffd89394f860": {
      "model_module": "@jupyter-widgets/base",
      "model_module_version": "2.0.0",
      "model_name": "LayoutModel",
      "state": {
       "_model_module": "@jupyter-widgets/base",
       "_model_module_version": "2.0.0",
       "_model_name": "LayoutModel",
       "_view_count": null,
       "_view_module": "@jupyter-widgets/base",
       "_view_module_version": "2.0.0",
       "_view_name": "LayoutView",
       "align_content": null,
       "align_items": null,
       "align_self": null,
       "border_bottom": null,
       "border_left": null,
       "border_right": null,
       "border_top": null,
       "bottom": null,
       "display": null,
       "flex": null,
       "flex_flow": null,
       "grid_area": null,
       "grid_auto_columns": null,
       "grid_auto_flow": null,
       "grid_auto_rows": null,
       "grid_column": null,
       "grid_gap": null,
       "grid_row": null,
       "grid_template_areas": null,
       "grid_template_columns": null,
       "grid_template_rows": null,
       "height": null,
       "justify_content": null,
       "justify_items": null,
       "left": null,
       "margin": null,
       "max_height": null,
       "max_width": null,
       "min_height": null,
       "min_width": null,
       "object_fit": null,
       "object_position": null,
       "order": null,
       "overflow": null,
       "padding": null,
       "right": null,
       "top": null,
       "visibility": null,
       "width": null
      }
     },
     "afba995145d046a5ae6c07174a2e6338": {
      "model_module": "@jupyter-widgets/base",
      "model_module_version": "2.0.0",
      "model_name": "LayoutModel",
      "state": {
       "_model_module": "@jupyter-widgets/base",
       "_model_module_version": "2.0.0",
       "_model_name": "LayoutModel",
       "_view_count": null,
       "_view_module": "@jupyter-widgets/base",
       "_view_module_version": "2.0.0",
       "_view_name": "LayoutView",
       "align_content": null,
       "align_items": null,
       "align_self": null,
       "border_bottom": null,
       "border_left": null,
       "border_right": null,
       "border_top": null,
       "bottom": null,
       "display": null,
       "flex": null,
       "flex_flow": null,
       "grid_area": null,
       "grid_auto_columns": null,
       "grid_auto_flow": null,
       "grid_auto_rows": null,
       "grid_column": null,
       "grid_gap": null,
       "grid_row": null,
       "grid_template_areas": null,
       "grid_template_columns": null,
       "grid_template_rows": null,
       "height": null,
       "justify_content": null,
       "justify_items": null,
       "left": null,
       "margin": null,
       "max_height": null,
       "max_width": null,
       "min_height": null,
       "min_width": null,
       "object_fit": null,
       "object_position": null,
       "order": null,
       "overflow": null,
       "padding": null,
       "right": null,
       "top": null,
       "visibility": null,
       "width": null
      }
     },
     "bcf5b9990c8e4e8ca981bf1c32d4c6a3": {
      "model_module": "@jupyter-widgets/controls",
      "model_module_version": "2.0.0",
      "model_name": "HTMLModel",
      "state": {
       "_dom_classes": [],
       "_model_module": "@jupyter-widgets/controls",
       "_model_module_version": "2.0.0",
       "_model_name": "HTMLModel",
       "_view_count": null,
       "_view_module": "@jupyter-widgets/controls",
       "_view_module_version": "2.0.0",
       "_view_name": "HTMLView",
       "description": "",
       "description_allow_html": false,
       "layout": "IPY_MODEL_8b2a4ae089ed48ee82379356fb82a8b2",
       "placeholder": "​",
       "style": "IPY_MODEL_f4c542be61834959875e6370481ea2f0",
       "tabbable": null,
       "tooltip": null,
       "value": "100%"
      }
     },
     "e313c5ce87e24903a6b1c90a63525a58": {
      "model_module": "@jupyter-widgets/controls",
      "model_module_version": "2.0.0",
      "model_name": "HBoxModel",
      "state": {
       "_dom_classes": [],
       "_model_module": "@jupyter-widgets/controls",
       "_model_module_version": "2.0.0",
       "_model_name": "HBoxModel",
       "_view_count": null,
       "_view_module": "@jupyter-widgets/controls",
       "_view_module_version": "2.0.0",
       "_view_name": "HBoxView",
       "box_style": "",
       "children": [
        "IPY_MODEL_bcf5b9990c8e4e8ca981bf1c32d4c6a3",
        "IPY_MODEL_665e24f143db48d58f1bdc3e5b3a4f57",
        "IPY_MODEL_f8049ff63e244bf885bd080ba2e2e079"
       ],
       "layout": "IPY_MODEL_ad9aaeaebcf14efabefdffd89394f860",
       "tabbable": null,
       "tooltip": null
      }
     },
     "f4c542be61834959875e6370481ea2f0": {
      "model_module": "@jupyter-widgets/controls",
      "model_module_version": "2.0.0",
      "model_name": "HTMLStyleModel",
      "state": {
       "_model_module": "@jupyter-widgets/controls",
       "_model_module_version": "2.0.0",
       "_model_name": "HTMLStyleModel",
       "_view_count": null,
       "_view_module": "@jupyter-widgets/base",
       "_view_module_version": "2.0.0",
       "_view_name": "StyleView",
       "background": null,
       "description_width": "",
       "font_size": null,
       "text_color": null
      }
     },
     "f8049ff63e244bf885bd080ba2e2e079": {
      "model_module": "@jupyter-widgets/controls",
      "model_module_version": "2.0.0",
      "model_name": "HTMLModel",
      "state": {
       "_dom_classes": [],
       "_model_module": "@jupyter-widgets/controls",
       "_model_module_version": "2.0.0",
       "_model_name": "HTMLModel",
       "_view_count": null,
       "_view_module": "@jupyter-widgets/controls",
       "_view_module_version": "2.0.0",
       "_view_name": "HTMLView",
       "description": "",
       "description_allow_html": false,
       "layout": "IPY_MODEL_f8e9c82f64a5463e8641c729e911a04a",
       "placeholder": "​",
       "style": "IPY_MODEL_7b3c829ada884eeaaf4c56aca51749b3",
       "tabbable": null,
       "tooltip": null,
       "value": " 3/3 [00:37&lt;00:00, 16.71s/it]"
      }
     },
     "f8e9c82f64a5463e8641c729e911a04a": {
      "model_module": "@jupyter-widgets/base",
      "model_module_version": "2.0.0",
      "model_name": "LayoutModel",
      "state": {
       "_model_module": "@jupyter-widgets/base",
       "_model_module_version": "2.0.0",
       "_model_name": "LayoutModel",
       "_view_count": null,
       "_view_module": "@jupyter-widgets/base",
       "_view_module_version": "2.0.0",
       "_view_name": "LayoutView",
       "align_content": null,
       "align_items": null,
       "align_self": null,
       "border_bottom": null,
       "border_left": null,
       "border_right": null,
       "border_top": null,
       "bottom": null,
       "display": null,
       "flex": null,
       "flex_flow": null,
       "grid_area": null,
       "grid_auto_columns": null,
       "grid_auto_flow": null,
       "grid_auto_rows": null,
       "grid_column": null,
       "grid_gap": null,
       "grid_row": null,
       "grid_template_areas": null,
       "grid_template_columns": null,
       "grid_template_rows": null,
       "height": null,
       "justify_content": null,
       "justify_items": null,
       "left": null,
       "margin": null,
       "max_height": null,
       "max_width": null,
       "min_height": null,
       "min_width": null,
       "object_fit": null,
       "object_position": null,
       "order": null,
       "overflow": null,
       "padding": null,
       "right": null,
       "top": null,
       "visibility": null,
       "width": null
      }
     }
    },
    "version_major": 2,
    "version_minor": 0
   }
  }
 },
 "nbformat": 4,
 "nbformat_minor": 5
}