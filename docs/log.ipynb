{
 "cells": [
  {
   "cell_type": "markdown",
   "id": "92bcb855",
   "metadata": {
    "papermill": {
     "duration": 0.004578,
     "end_time": "2023-03-07T16:14:14.433530",
     "exception": false,
     "start_time": "2023-03-07T16:14:14.428952",
     "status": "completed"
    },
    "tags": []
   },
   "source": [
    "# MPIA Arxiv on Deck 2\n",
    "\n",
    "Contains the steps to produce the paper extractions."
   ]
  },
  {
   "cell_type": "code",
   "execution_count": 1,
   "id": "3a0d6e11",
   "metadata": {
    "execution": {
     "iopub.execute_input": "2023-03-07T16:14:14.442509Z",
     "iopub.status.busy": "2023-03-07T16:14:14.441823Z",
     "iopub.status.idle": "2023-03-07T16:14:14.654294Z",
     "shell.execute_reply": "2023-03-07T16:14:14.653758Z"
    },
    "papermill": {
     "duration": 0.218641,
     "end_time": "2023-03-07T16:14:14.656179",
     "exception": false,
     "start_time": "2023-03-07T16:14:14.437538",
     "status": "completed"
    },
    "tags": []
   },
   "outputs": [],
   "source": [
    "# Imports\n",
    "import os\n",
    "from IPython.display import Markdown, display\n",
    "from tqdm.notebook import tqdm\n",
    "import warnings\n",
    "from PIL import Image \n",
    "\n",
    "# requires arxiv_on_deck_2\n",
    "\n",
    "from arxiv_on_deck_2.arxiv2 import (get_new_papers, \n",
    "                                    get_paper_from_identifier,\n",
    "                                    retrieve_document_source, \n",
    "                                    get_markdown_badge)\n",
    "from arxiv_on_deck_2 import (latex,\n",
    "                             latex_bib,\n",
    "                             mpia,\n",
    "                             highlight_authors_in_list)\n",
    "\n",
    "# Sometimes images are really big\n",
    "Image.MAX_IMAGE_PIXELS = 1000000000 "
   ]
  },
  {
   "cell_type": "code",
   "execution_count": 2,
   "id": "22aa9d44",
   "metadata": {
    "execution": {
     "iopub.execute_input": "2023-03-07T16:14:14.664639Z",
     "iopub.status.busy": "2023-03-07T16:14:14.664196Z",
     "iopub.status.idle": "2023-03-07T16:14:14.668992Z",
     "shell.execute_reply": "2023-03-07T16:14:14.668362Z"
    },
    "papermill": {
     "duration": 0.010912,
     "end_time": "2023-03-07T16:14:14.670690",
     "exception": false,
     "start_time": "2023-03-07T16:14:14.659778",
     "status": "completed"
    },
    "tags": []
   },
   "outputs": [],
   "source": [
    "# Some useful definitions.\n",
    "\n",
    "class AffiliationWarning(UserWarning):\n",
    "    pass\n",
    "\n",
    "class AffiliationError(RuntimeError):\n",
    "    pass\n",
    "\n",
    "def validation(source: str):\n",
    "    \"\"\"Raises error paper during parsing of source file\n",
    "    \n",
    "    Allows checks before parsing TeX code.\n",
    "    \n",
    "    Raises AffiliationWarning\n",
    "    \"\"\"\n",
    "    check = mpia.affiliation_verifications(source, verbose=True)\n",
    "    if check is not True:\n",
    "        raise AffiliationError(\"mpia.affiliation_verifications: \" + check)\n",
    "\n",
    "        \n",
    "warnings.simplefilter('always', AffiliationWarning)"
   ]
  },
  {
   "cell_type": "code",
   "execution_count": 3,
   "id": "14622700",
   "metadata": {
    "execution": {
     "iopub.execute_input": "2023-03-07T16:14:14.678141Z",
     "iopub.status.busy": "2023-03-07T16:14:14.677940Z",
     "iopub.status.idle": "2023-03-07T16:14:14.681348Z",
     "shell.execute_reply": "2023-03-07T16:14:14.680756Z"
    },
    "papermill": {
     "duration": 0.008826,
     "end_time": "2023-03-07T16:14:14.682782",
     "exception": false,
     "start_time": "2023-03-07T16:14:14.673956",
     "status": "completed"
    },
    "tags": []
   },
   "outputs": [],
   "source": [
    "# additional CSS to consider. \n",
    "# TODO: Current into each exported file. \n",
    "#       This should be set once into the webpages directly.\n",
    "#       With only the class/id definitions in the .md files.\n",
    "\n",
    "debug_html = \"\"\"\n",
    "<style>\n",
    "#wrap{ overflow:auto; }\n",
    "#fig1{ background:yellow; width:100%; float:left; padding:5px;  }\n",
    "#fig2{ background:red; width:50%; float:left; clear:left; padding:5px;  }\n",
    "#fig3{ background:green; width:50%; float:left; padding:5px;   }\n",
    ".macros{ background:yellow; visibility:visible;}\n",
    "h1 {margin: 0 0 0 0;}\n",
    "mark {background-color:#fff3b6;}\n",
    "img {object-fit:contain; max-height:250px; display:inline-block; text-align: center;}\n",
    "</style>\n",
    "\"\"\" \n",
    "html = \"\"\"\n",
    "<style>\n",
    "#wrap{ overflow:auto; }\n",
    "#fig1{ width:100%; float:left; padding: 5px;  }\n",
    "#fig2{ width:50%; float:left; clear:left; padding: 5px;  }\n",
    "#fig3{ width:50%; float:left; padding: 5px;  }\n",
    ".macros{ visibility:hidden; height:0px; }\n",
    "h1 {margin: 0em 0 0 0;}\n",
    "mark {background-color:#fff3b6;}\n",
    "img {object-fit:contain; max-height:250px; display:inline-block; text-align: center;}\n",
    "</style>\n",
    "\"\"\""
   ]
  },
  {
   "cell_type": "markdown",
   "id": "14bd6310",
   "metadata": {
    "papermill": {
     "duration": 0.003205,
     "end_time": "2023-03-07T16:14:14.689356",
     "exception": false,
     "start_time": "2023-03-07T16:14:14.686151",
     "status": "completed"
    },
    "tags": []
   },
   "source": [
    "## get list of arxiv paper candidates\n",
    "\n",
    "We use the MPIA mitarbeiter list webpage from mpia.de to get author names\n",
    "We then get all new papers from Arxiv and match authors"
   ]
  },
  {
   "cell_type": "code",
   "execution_count": 4,
   "id": "2645e73a",
   "metadata": {
    "execution": {
     "iopub.execute_input": "2023-03-07T16:14:14.697025Z",
     "iopub.status.busy": "2023-03-07T16:14:14.696614Z",
     "iopub.status.idle": "2023-03-07T16:14:39.433872Z",
     "shell.execute_reply": "2023-03-07T16:14:39.433312Z"
    },
    "papermill": {
     "duration": 24.743022,
     "end_time": "2023-03-07T16:14:39.435614",
     "exception": false,
     "start_time": "2023-03-07T16:14:14.692592",
     "status": "completed"
    },
    "tags": []
   },
   "outputs": [
    {
     "name": "stdout",
     "output_type": "stream",
     "text": [
      "Arxiv has 79 new papers today\n",
      "          21 with possible author matches\n"
     ]
    }
   ],
   "source": [
    "# get list from MPIA website\n",
    "# it automatically filters identified non-scientists :func:`mpia.filter_non_scientists`\n",
    "mpia_authors = mpia.get_mpia_mitarbeiter_list()\n",
    "new_papers = get_new_papers()\n",
    "# add manual references\n",
    "add_paper_refs = []\n",
    "new_papers.extend([get_paper_from_identifier(k) for k in add_paper_refs])\n",
    "\n",
    "# select only papers with matching author names and highlight authors\n",
    "hl_list = [k[0] for k in mpia_authors]\n",
    "\n",
    "candidates = []\n",
    "for paperk in new_papers:\n",
    "    hl_authors = highlight_authors_in_list(paperk['authors'], hl_list)\n",
    "    matches = [(hl, orig) for hl, orig in zip(hl_authors, paperk['authors']) if 'mark' in hl]\n",
    "    paperk['authors'] = hl_authors\n",
    "    if matches:\n",
    "        candidates.append(paperk)\n",
    "print(\"\"\"Arxiv has {0:,d} new papers today\"\"\".format(len(new_papers)))        \n",
    "print(\"\"\"          {0:,d} with possible author matches\"\"\".format(len(candidates)))"
   ]
  },
  {
   "cell_type": "markdown",
   "id": "3543b34a",
   "metadata": {
    "papermill": {
     "duration": 0.003388,
     "end_time": "2023-03-07T16:14:39.442713",
     "exception": false,
     "start_time": "2023-03-07T16:14:39.439325",
     "status": "completed"
    },
    "tags": []
   },
   "source": [
    "# Parse sources and generate relevant outputs\n",
    "\n",
    "From the candidates, we do the following steps:\n",
    "* get their tarball from ArXiv (and extract data)\n",
    "* find the main .tex file: find one with \\documentclass{...} (sometimes it's non trivial)\n",
    "* Check affiliations with :func:`validation`, which uses :func:`mpia.affiliation_verifications`\n",
    "* If passing the affiliations: we parse the .tex source\n",
    "   * inject sub-documents into the main (flatten the main document)\n",
    "   * parse structure, extract information (title, abstract, authors, figures...)\n",
    "   * handles `\\graphicspath` if provided\n",
    "* Generate the .md document."
   ]
  },
  {
   "cell_type": "code",
   "execution_count": 5,
   "id": "9576b79e",
   "metadata": {
    "execution": {
     "iopub.execute_input": "2023-03-07T16:14:39.450949Z",
     "iopub.status.busy": "2023-03-07T16:14:39.450403Z",
     "iopub.status.idle": "2023-03-07T16:15:15.012775Z",
     "shell.execute_reply": "2023-03-07T16:15:15.012197Z"
    },
    "papermill": {
     "duration": 35.568655,
     "end_time": "2023-03-07T16:15:15.014738",
     "exception": false,
     "start_time": "2023-03-07T16:14:39.446083",
     "status": "completed"
    },
    "scrolled": false,
    "tags": []
   },
   "outputs": [
    {
     "data": {
      "application/vnd.jupyter.widget-view+json": {
       "model_id": "82ff502819094449a13b88c29b8885c6",
       "version_major": 2,
       "version_minor": 0
      },
      "text/plain": [
       "  0%|          | 0/20 [00:00<?, ?it/s]"
      ]
     },
     "metadata": {},
     "output_type": "display_data"
    },
    {
     "name": "stdout",
     "output_type": "stream",
     "text": [
      "Retrieving document from  https://arxiv.org/e-print/2303.02161\n"
     ]
    },
    {
     "name": "stderr",
     "output_type": "stream",
     "text": [
      "/tmp/ipykernel_2031/4289671964.py:41: LatexWarning: 2303.02161 did not run properly\n",
      "not a gzip file\n",
      "  warnings.warn(latex.LatexWarning(f\"{paper_id:s} did not run properly\\n\" +\n"
     ]
    },
    {
     "name": "stdout",
     "output_type": "stream",
     "text": [
      "Retrieving document from  https://arxiv.org/e-print/2303.02177\n"
     ]
    },
    {
     "name": "stdout",
     "output_type": "stream",
     "text": [
      "extracting tarball to tmp_2303.02177..."
     ]
    },
    {
     "name": "stdout",
     "output_type": "stream",
     "text": [
      " done.\n",
      "Retrieving document from  https://arxiv.org/e-print/2303.02211\n"
     ]
    },
    {
     "name": "stdout",
     "output_type": "stream",
     "text": [
      "extracting tarball to tmp_2303.02211... done.\n",
      "Retrieving document from  https://arxiv.org/e-print/2303.02289\n"
     ]
    },
    {
     "name": "stdout",
     "output_type": "stream",
     "text": [
      "extracting tarball to tmp_2303.02289... done.\n",
      "Retrieving document from  https://arxiv.org/e-print/2303.02330\n"
     ]
    },
    {
     "name": "stderr",
     "output_type": "stream",
     "text": [
      "/tmp/ipykernel_2031/4289671964.py:41: LatexWarning: 2303.02330 did not run properly\n",
      "not a gzip file\n",
      "  warnings.warn(latex.LatexWarning(f\"{paper_id:s} did not run properly\\n\" +\n"
     ]
    },
    {
     "name": "stdout",
     "output_type": "stream",
     "text": [
      "Retrieving document from  https://arxiv.org/e-print/2303.02772\n"
     ]
    },
    {
     "name": "stdout",
     "output_type": "stream",
     "text": [
      "extracting tarball to tmp_2303.02772..."
     ]
    },
    {
     "name": "stdout",
     "output_type": "stream",
     "text": [
      " done.\n",
      "Retrieving document from  https://arxiv.org/e-print/2303.02816\n"
     ]
    },
    {
     "name": "stdout",
     "output_type": "stream",
     "text": [
      "extracting tarball to tmp_2303.02816... done.\n"
     ]
    },
    {
     "name": "stderr",
     "output_type": "stream",
     "text": [
      "/opt/hostedtoolcache/Python/3.9.16/x64/lib/python3.9/site-packages/arxiv_on_deck_2/latex.py:386: LatexWarning: Error parsing the document directly. Trying to recover.\n",
      "  warnings.warn(LatexWarning(f\"Error parsing the document directly. Trying to recover.\"))\n"
     ]
    },
    {
     "name": "stdout",
     "output_type": "stream",
     "text": [
      "✔ → 0:header\n",
      "  ↳ 5777:\\section{Introduction}\n"
     ]
    },
    {
     "name": "stdout",
     "output_type": "stream",
     "text": [
      "✔ → 5777:\\section{Introduction}\n",
      "  ↳ 14249:\\section{Sample and Data Processing}\\label{sec:sample}\n"
     ]
    },
    {
     "name": "stdout",
     "output_type": "stream",
     "text": [
      "✔ → 14249:\\section{Sample and Data Processing}\\label{sec:sample}\n",
      "  ↳ 35264:\\section{C~IV Line Statistics}\\label{sec:results}\n"
     ]
    },
    {
     "name": "stdout",
     "output_type": "stream",
     "text": [
      "✘ → 35264:\\section{C~IV Line Statistics}\\label{sec:results}\n",
      "  ↳ 69546:\\section{Discussion}\\label{sec:discussion}\n"
     ]
    },
    {
     "name": "stdout",
     "output_type": "stream",
     "text": [
      "✔ → 69546:\\section{Discussion}\\label{sec:discussion}\n",
      "  ↳ 106506:\\section{Summary}\\label{sec:conclusions}\n"
     ]
    },
    {
     "name": "stdout",
     "output_type": "stream",
     "text": [
      "✔ → 106506:\\section{Summary}\\label{sec:conclusions}\n",
      "  ↳ 115467:end\n"
     ]
    },
    {
     "name": "stdout",
     "output_type": "stream",
     "text": [
      "list index out of range\n",
      "Retrieving document from  https://arxiv.org/e-print/2303.02847\n"
     ]
    },
    {
     "name": "stdout",
     "output_type": "stream",
     "text": [
      "extracting tarball to tmp_2303.02847..."
     ]
    },
    {
     "name": "stdout",
     "output_type": "stream",
     "text": [
      " done.\n",
      "Retrieving document from  https://arxiv.org/e-print/2303.02895\n"
     ]
    },
    {
     "name": "stderr",
     "output_type": "stream",
     "text": [
      "/opt/hostedtoolcache/Python/3.9.16/x64/lib/python3.9/site-packages/IPython/core/interactiveshell.py:3460: LatexWarning: Multiple tex files.\n",
      "\n",
      "  exec(code_obj, self.user_global_ns, self.user_ns)\n",
      "/opt/hostedtoolcache/Python/3.9.16/x64/lib/python3.9/site-packages/IPython/core/interactiveshell.py:3460: LatexWarning: Found documentclass in tmp_2303.02847/aassymbols.tex\n",
      "\n",
      "  exec(code_obj, self.user_global_ns, self.user_ns)\n"
     ]
    },
    {
     "name": "stderr",
     "output_type": "stream",
     "text": [
      "/tmp/ipykernel_2031/4289671964.py:41: LatexWarning: 2303.02895 did not run properly\n",
      "not a gzip file\n",
      "  warnings.warn(latex.LatexWarning(f\"{paper_id:s} did not run properly\\n\" +\n"
     ]
    },
    {
     "name": "stdout",
     "output_type": "stream",
     "text": [
      "Retrieving document from  https://arxiv.org/e-print/2303.02929\n"
     ]
    },
    {
     "name": "stdout",
     "output_type": "stream",
     "text": [
      "extracting tarball to tmp_2303.02929..."
     ]
    },
    {
     "name": "stdout",
     "output_type": "stream",
     "text": [
      " done.\n",
      "Retrieving document from  https://arxiv.org/e-print/2303.02941\n"
     ]
    },
    {
     "name": "stdout",
     "output_type": "stream",
     "text": [
      "extracting tarball to tmp_2303.02941..."
     ]
    },
    {
     "name": "stdout",
     "output_type": "stream",
     "text": [
      " done.\n",
      "Retrieving document from  https://arxiv.org/e-print/2303.02952\n"
     ]
    },
    {
     "name": "stderr",
     "output_type": "stream",
     "text": [
      "/tmp/ipykernel_2031/4289671964.py:41: LatexWarning: 2303.02952 did not run properly\n",
      "not a gzip file\n",
      "  warnings.warn(latex.LatexWarning(f\"{paper_id:s} did not run properly\\n\" +\n"
     ]
    },
    {
     "name": "stdout",
     "output_type": "stream",
     "text": [
      "Retrieving document from  https://arxiv.org/e-print/2303.02973\n"
     ]
    },
    {
     "name": "stdout",
     "output_type": "stream",
     "text": [
      "extracting tarball to tmp_2303.02973..."
     ]
    },
    {
     "name": "stdout",
     "output_type": "stream",
     "text": [
      " done.\n",
      "Retrieving document from  https://arxiv.org/e-print/2303.03021\n"
     ]
    },
    {
     "name": "stderr",
     "output_type": "stream",
     "text": [
      "/opt/hostedtoolcache/Python/3.9.16/x64/lib/python3.9/site-packages/IPython/core/interactiveshell.py:3460: LatexWarning: Multiple tex files.\n",
      "\n",
      "  exec(code_obj, self.user_global_ns, self.user_ns)\n",
      "/opt/hostedtoolcache/Python/3.9.16/x64/lib/python3.9/site-packages/IPython/core/interactiveshell.py:3460: LatexWarning: Found documentclass in tmp_2303.02973/Two_spin_NA_submission.tex\n",
      "\n",
      "  exec(code_obj, self.user_global_ns, self.user_ns)\n",
      "/opt/hostedtoolcache/Python/3.9.16/x64/lib/python3.9/site-packages/arxiv_on_deck_2/latex.py:312: LatexWarning: Latex injecting: 'aas_macros' from 'tmp_2303.02973/aas_macros.tex'\n",
      "  warnings.warn(LatexWarning(f\"Latex injecting: '{ext}' from '{subsource}'\"))\n"
     ]
    },
    {
     "name": "stdout",
     "output_type": "stream",
     "text": [
      "extracting tarball to tmp_2303.03021... done.\n",
      "Retrieving document from  https://arxiv.org/e-print/2303.03025\n"
     ]
    },
    {
     "name": "stdout",
     "output_type": "stream",
     "text": [
      "extracting tarball to tmp_2303.03025..."
     ]
    },
    {
     "name": "stdout",
     "output_type": "stream",
     "text": [
      " done.\n",
      "Retrieving document from  https://arxiv.org/e-print/2303.03026\n"
     ]
    },
    {
     "name": "stdout",
     "output_type": "stream",
     "text": [
      "extracting tarball to tmp_2303.03026..."
     ]
    },
    {
     "name": "stdout",
     "output_type": "stream",
     "text": [
      " done.\n",
      "Retrieving document from  https://arxiv.org/e-print/2303.03058\n"
     ]
    },
    {
     "name": "stdout",
     "output_type": "stream",
     "text": [
      "extracting tarball to tmp_2303.03058... done.\n",
      "Retrieving document from  https://arxiv.org/e-print/2303.03119\n"
     ]
    },
    {
     "name": "stdout",
     "output_type": "stream",
     "text": [
      "extracting tarball to tmp_2303.03119..."
     ]
    },
    {
     "name": "stdout",
     "output_type": "stream",
     "text": [
      " done.\n",
      "Retrieving document from  https://arxiv.org/e-print/2303.03261\n"
     ]
    },
    {
     "name": "stderr",
     "output_type": "stream",
     "text": [
      "/opt/hostedtoolcache/Python/3.9.16/x64/lib/python3.9/site-packages/IPython/core/interactiveshell.py:3460: LatexWarning: Multiple tex files.\n",
      "\n",
      "  exec(code_obj, self.user_global_ns, self.user_ns)\n",
      "/opt/hostedtoolcache/Python/3.9.16/x64/lib/python3.9/site-packages/IPython/core/interactiveshell.py:3460: LatexWarning: Found documentclass in tmp_2303.03119/universe-2041639-proofreading.tex\n",
      "\n",
      "  exec(code_obj, self.user_global_ns, self.user_ns)\n"
     ]
    },
    {
     "name": "stdout",
     "output_type": "stream",
     "text": [
      "extracting tarball to tmp_2303.03261..."
     ]
    },
    {
     "name": "stdout",
     "output_type": "stream",
     "text": [
      " done.\n",
      "Retrieving document from  https://arxiv.org/e-print/2303.03266\n"
     ]
    },
    {
     "name": "stderr",
     "output_type": "stream",
     "text": [
      "/opt/hostedtoolcache/Python/3.9.16/x64/lib/python3.9/site-packages/IPython/core/interactiveshell.py:3460: LatexWarning: Multiple tex files.\n",
      "\n",
      "  exec(code_obj, self.user_global_ns, self.user_ns)\n",
      "/opt/hostedtoolcache/Python/3.9.16/x64/lib/python3.9/site-packages/IPython/core/interactiveshell.py:3460: LatexWarning: Found documentclass in tmp_2303.03261/aassymbols.tex\n",
      "\n",
      "  exec(code_obj, self.user_global_ns, self.user_ns)\n"
     ]
    },
    {
     "name": "stdout",
     "output_type": "stream",
     "text": [
      "extracting tarball to tmp_2303.03266..."
     ]
    },
    {
     "name": "stdout",
     "output_type": "stream",
     "text": [
      " done.\n"
     ]
    }
   ],
   "source": [
    "documents = []\n",
    "failed = []\n",
    "for paper in tqdm(candidates[:-1]):\n",
    "    paper_id = paper['identifier'].lower().replace('arxiv:', '')\n",
    "    \n",
    "    folder = f'tmp_{paper_id}'\n",
    "\n",
    "    try:\n",
    "        if not os.path.isdir(folder):\n",
    "            folder = retrieve_document_source(f\"{paper_id}\", f'tmp_{paper_id}')\n",
    "        \n",
    "        try:\n",
    "            doc = latex.LatexDocument(folder, validation=validation)    \n",
    "        except AffiliationError as affilerror:\n",
    "            msg = f\"ArXiv:{paper_id:s} is not an MPIA paper... \" + str(affilerror)\n",
    "            failed.append((paper, \"affiliation error: \" + str(affilerror) ))\n",
    "            continue\n",
    "        \n",
    "        # Hack because sometimes author parsing does not work well\n",
    "        if (len(doc.authors) != len(paper['authors'])):\n",
    "            doc._authors = paper['authors']\n",
    "        if (doc.abstract) in (None, ''):\n",
    "            doc._abstract = paper['abstract']\n",
    "            \n",
    "        doc.comment = (get_markdown_badge(paper_id) + \n",
    "                       \"<mark>Appeared on: \" + paper['date'] + \"</mark> - \" +\n",
    "                       \"_\" + paper['comments'] + \"_\")\n",
    "        doc.highlight_authors_in_list(hl_list)\n",
    "\n",
    "        full_md = doc.generate_markdown_text()\n",
    "        \n",
    "        # replace citations\n",
    "        try:\n",
    "            bibdata = latex_bib.LatexBib.from_doc(doc)\n",
    "            full_md = latex_bib.replace_citations(full_md, bibdata)\n",
    "        except Exception as e:\n",
    "            print(e)\n",
    "        \n",
    "        documents.append((paper_id, full_md))\n",
    "    except Exception as e:\n",
    "        warnings.warn(latex.LatexWarning(f\"{paper_id:s} did not run properly\\n\" +\n",
    "                                         str(e)\n",
    "                                        ))\n",
    "        failed.append((paper, \"latex error \" + str(e)))"
   ]
  },
  {
   "cell_type": "markdown",
   "id": "2505a25c",
   "metadata": {
    "papermill": {
     "duration": 0.007032,
     "end_time": "2023-03-07T16:15:15.028057",
     "exception": false,
     "start_time": "2023-03-07T16:15:15.021025",
     "status": "completed"
    },
    "tags": []
   },
   "source": [
    "### Export the logs\n",
    "\n",
    "Throughout, we also keep track of the logs per paper. see `logs-{today date}.md` "
   ]
  },
  {
   "cell_type": "code",
   "execution_count": 6,
   "id": "d733828a",
   "metadata": {
    "execution": {
     "iopub.execute_input": "2023-03-07T16:15:15.041729Z",
     "iopub.status.busy": "2023-03-07T16:15:15.041082Z",
     "iopub.status.idle": "2023-03-07T16:15:15.073248Z",
     "shell.execute_reply": "2023-03-07T16:15:15.072554Z"
    },
    "papermill": {
     "duration": 0.040616,
     "end_time": "2023-03-07T16:15:15.074674",
     "exception": false,
     "start_time": "2023-03-07T16:15:15.034058",
     "status": "completed"
    },
    "scrolled": false,
    "tags": []
   },
   "outputs": [
    {
     "data": {
      "text/markdown": [
       "## Successful papers"
      ],
      "text/plain": [
       "<IPython.core.display.Markdown object>"
      ]
     },
     "metadata": {},
     "output_type": "display_data"
    },
    {
     "data": {
      "text/markdown": [
       "\n",
       "|||\n",
       "|---:|:---|\n",
       "| [![arXiv](https://img.shields.io/badge/arXiv-arXiv:2303.02816-b31b1b.svg)](https://arxiv.org/abs/arXiv:2303.02816) | **Examining the Decline in the C IV Content of the Universe over 4.3 < z <  6.3 using the E-XQR-30 Sample**  |\n",
       "|| <mark>Rebecca L. Davies</mark>, et al. -- incl., <mark>Sarah E. I. Bosman</mark>, <mark>Romain A. Meyer</mark>, <mark>Frederick B. Davies</mark> |\n",
       "|*Appeared on*| *2023-03-07*|\n",
       "|*Comments*| *20 pages, 8 figures, 4 tables. Published in MNRAS*|\n",
       "|**Abstract**| Intervening CIV absorbers are key tracers of metal-enriched gas in galaxy halos over cosmic time. Previous studies suggest that the CIV cosmic mass density ($\\Omega_{\\rm CIV}$) decreases slowly over 1.5 $\\lesssim z\\lesssim$ 5 before declining rapidly at $z\\gtrsim$ 5, but the cause of this downturn is poorly understood. We characterize the $\\Omega_{\\rm CIV}$ evolution over 4.3 $\\lesssim z\\lesssim$ 6.3 using 260 absorbers found in 42 XSHOOTER spectra of $z\\sim$ 6 quasars, of which 30 come from the ESO Large Program XQR-30. The large sample enables us to robustly constrain the rate and timing of the downturn. We find that $\\Omega_{\\rm CIV}$ decreases by a factor of 4.8 $\\pm$ 2.0 over the ~300 Myr interval between $z\\sim$ 4.7 and $z\\sim$ 5.8. The slope of the column density (log N) distribution function does not change, suggesting that CIV absorption is suppressed approximately uniformly across 13.2 $\\leq$ log N/cm$^{-2}$ < 15.0. Assuming that the carbon content of galaxy halos evolves as the integral of the cosmic star formation rate density (with some delay due to stellar lifetimes and outflow travel times), we show that chemical evolution alone could plausibly explain the fast decline in $\\Omega_{\\rm CIV}$ over 4.3 $\\lesssim z\\lesssim$ 6.3. However, the CIV/CII ratio decreases at the highest redshifts, so the accelerated decline in $\\Omega_{\\rm CIV}$ at $z\\gtrsim$ 5 may be more naturally explained by rapid changes in the gas ionization state driven by evolution of the UV background towards the end of hydrogen reionization. |"
      ],
      "text/plain": [
       "[arXiv:2303.02816] Examining the Decline in the C IV Content of the Universe over 4.3 < z <  6.3 using the E-XQR-30 Sample\n",
       "\t<mark>Rebecca L. Davies</mark>, et al. -- incl., <mark>Sarah E. I. Bosman</mark>, <mark>Romain A. Meyer</mark>, <mark>Frederick B. Davies</mark>"
      ]
     },
     "metadata": {},
     "output_type": "display_data"
    },
    {
     "data": {
      "text/markdown": [
       "## Failed papers"
      ],
      "text/plain": [
       "<IPython.core.display.Markdown object>"
      ]
     },
     "metadata": {},
     "output_type": "display_data"
    },
    {
     "data": {
      "text/markdown": [
       "\n",
       "|||\n",
       "|---:|:---|\n",
       "| [![arXiv](https://img.shields.io/badge/arXiv-arXiv:2303.02177-b31b1b.svg)](https://arxiv.org/abs/arXiv:2303.02177) | **Data Combination: Interferometry and Single-dish Imaging in Radio  Astronomy**  |\n",
       "|| Adele Plunkett, et al. -- incl., <mark>Lydia Moser-Fischer</mark> |\n",
       "|*Appeared on*| *2023-03-07*|\n",
       "|*Comments*| *29 pages, 20 figures. Accepted for publication in PASP. Code repository available at: github.com/teuben/DataComb*|\n",
       "|**Abstract**| Modern interferometers routinely provide radio-astronomical images down to subarcsecond resolution. However, interferometers filter out spatial scales larger than those sampled by the shortest baselines, which affects the measurement of both spatial and spectral features. Complementary single-dish data are vital for recovering the true flux distribution of spatially resolved astronomical sources with such extended emission. In this work, we provide an overview of the prominent available methods to combine single-dish and interferometric observations. We test each of these methods in the framework of the CASA data analysis software package on both synthetic continuum and observed spectral data sets. We develop a set of new assessment tools that are generally applicable to all radio-astronomical cases of data combination. Applying these new assessment diagnostics, we evaluate the methods' performance and demonstrate the significant improvement of the combined results in comparison to purely interferometric reductions. We provide combination and assessment scripts as add-on material. Our results highlight the advantage of using data combination to ensure high-quality science images of spatially resolved objects. |\n",
       "|<p style=\"color:green\"> **ERROR** </p>| <p style=\"color:green\">affiliation error: mpia.affiliation_verifications: 'Heidelberg' keyword not found.</p> |"
      ],
      "text/plain": [
       "<IPython.core.display.Markdown object>"
      ]
     },
     "metadata": {},
     "output_type": "display_data"
    },
    {
     "data": {
      "text/markdown": [
       "\n",
       "|||\n",
       "|---:|:---|\n",
       "| [![arXiv](https://img.shields.io/badge/arXiv-arXiv:2303.02211-b31b1b.svg)](https://arxiv.org/abs/arXiv:2303.02211) | **RR Lyrae Visual to Infrared Absolute Magnitude Calibrations. In the  light of Gaia DR3**  |\n",
       "|| K. Looijmans, J. Lub, <mark>A.G.A. Brown</mark> |\n",
       "|*Appeared on*| *2023-03-07*|\n",
       "|*Comments*| *This paper reflects the presentation as given by J. Lub at the RRLCEP2022 conference (September 2022). Unfortunately after preparing this report we found out that only invited contributions would be published in the Proceedings*|\n",
       "|**Abstract**| A probabilistic approach has been used in combination with the parallax data from Gaia (e)DR3 to calibrate Period-Luminosity-(Abundance) (PLZ) Relations covering a wide range of visual to Infrared observations of RR Lyrae stars. Absolute Magnitude Relations are given, derived from the same selection of stars, for $V$, $G$, $I$, $K_\\mathrm{s}$ and WISE $W1$ as well as for for the reddening free pseudo-magnitudes $WBV$, $WVI$ and finally also Gaia $WG$. The classical relation between $M_V$ and [Fe/H] is redetermined and as an illustration distances are given to a few selected objects. |\n",
       "|<p style=\"color:green\"> **ERROR** </p>| <p style=\"color:green\">affiliation error: mpia.affiliation_verifications: 'Heidelberg' keyword not found.</p> |"
      ],
      "text/plain": [
       "<IPython.core.display.Markdown object>"
      ]
     },
     "metadata": {},
     "output_type": "display_data"
    },
    {
     "data": {
      "text/markdown": [
       "\n",
       "|||\n",
       "|---:|:---|\n",
       "| [![arXiv](https://img.shields.io/badge/arXiv-arXiv:2303.02289-b31b1b.svg)](https://arxiv.org/abs/arXiv:2303.02289) | **Central BH mass of tidal disruption event candidate SDSS J0159 through  long-term optical variabilities**  |\n",
       "|| <mark>Zhang XueGuang</mark> |\n",
       "|*Appeared on*| *2023-03-07*|\n",
       "|*Comments*| *14 pages, 6 figures, 1 table, accepted to be published in ApJ*|\n",
       "|**Abstract**| In this manuscript, central BH mass is determined in the tidal disruption event (TDE) candidate SDSS J0159, through the nine years long variabilities, in order to check whether the virial BH mass is consistent with the mass estimated by another independent methods. First, host galaxy spectroscopic features are described by 350 simple stellar templates, to confirm the total stellar mass about $7\\times10^{10}{\\rm M_\\odot}$ in SDSS J0159, indicating the virial BH mass about two magnitudes larger than the BH mass estimated by the total stellar mass. Second, based on an efficient method and fitting procedure, through theoretical TDE model applied to describe the SDSS $ugriz$-band light curves of SDSS J0159, central BH mass can be determined as $M_{BH}\\sim4.5_{-1.1}^{+1.3}\\times10^6{\\rm M_\\odot}$, well consistent with the M-sigma relation expected BH mass and the total stellar mass expected BH mass. Third, the theoretical TDE model with parameter of central BH mass limited to be higher than $10^8{\\rm M_\\odot}$ can not lead to reasonable descriptions to the light curves of SDSS J0159, indicating central BH mass higher than $10^8{\\rm M_\\odot}$ is not preferred in SDSS J0159. Therefore, the TDE model determined central BH mass of SDSS J0159 are about two magnitudes lower than the virial BH mass, to support central BLRs including accreting debris contributions from central TDE, and provide interesting clues to reconfirm that outliers in the space of virial BH mass versus stellar velocity dispersion should be better candidates of TDE. |\n",
       "|<p style=\"color:green\"> **ERROR** </p>| <p style=\"color:green\">affiliation error: mpia.affiliation_verifications: 'Heidelberg' keyword not found.</p> |"
      ],
      "text/plain": [
       "<IPython.core.display.Markdown object>"
      ]
     },
     "metadata": {},
     "output_type": "display_data"
    },
    {
     "data": {
      "text/markdown": [
       "\n",
       "|||\n",
       "|---:|:---|\n",
       "| [![arXiv](https://img.shields.io/badge/arXiv-arXiv:2303.02772-b31b1b.svg)](https://arxiv.org/abs/arXiv:2303.02772) | **Astrochemical Diagnostics of the Isolated Massive Protostar G28.20-0.05**  |\n",
       "|| Prasanta Gorai, et al. -- incl., <mark>Yichen Zhang</mark> |\n",
       "|*Appeared on*| *2023-03-07*|\n",
       "|*Comments*| *submitted to ApJ, comments welcome*|\n",
       "|**Abstract**| We study the astrochemical diagnostics of the isolated massive protostar G28.20-0.05. We analyze data from ALMA 1.3~mm observations with resolution of 0.2 arcsec ($\\sim$1,000 au). We detect emission from a wealth of species, including oxygen-bearing (e.g., $\\rm{H_2CO}$, $\\rm{CH_3OH}$, $\\rm{CH_3OCH_3}$), sulfur-bearing (SO$_2$, H$_2$S) and nitrogen-bearing (e.g., HNCO, NH$_2$CHO, C$_2$H$_3$CN, C$_2$H$_5$CN) molecules. We discuss their spatial distributions, physical conditions, correlation between different species and possible chemical origins. In the central region near the protostar, we identify three hot molecular cores (HMCs). HMC1 is part of a mm continuum ring-like structure, is closest in projection to the protostar, has the highest temperature of $\\sim300\\:$K, and shows the most line-rich spectra. HMC2 is on the other side of the ring, has a temperature of $\\sim250\\:$K, and is of intermediate chemical complexity. HMC3 is further away, $\\sim3,000\\:$au in projection, cooler ($\\sim70\\:$K) and is the least line-rich. The three HMCs have similar mass surface densities ($\\sim10\\:{\\rm{g\\:cm}}^{-2}$), number densities ($n_{\\rm H}\\sim10^9\\:{\\rm{cm}}^{-3}$) and masses of a few $M_\\odot$. The total gas mass in the cores and in the region out to $3,000\\:$au is $\\sim 25\\:M_\\odot$, which is comparable to that of the central protostar. Based on spatial distributions of peak line intensities as a function of excitation energy, we infer that the HMCs are externally heated by the protostar. We estimate column densities and abundances of the detected species and discuss the implications for hot core astrochemistry. |\n",
       "|<p style=\"color:green\"> **ERROR** </p>| <p style=\"color:green\">affiliation error: mpia.affiliation_verifications: 'Heidelberg' keyword not found.</p> |"
      ],
      "text/plain": [
       "<IPython.core.display.Markdown object>"
      ]
     },
     "metadata": {},
     "output_type": "display_data"
    },
    {
     "data": {
      "text/markdown": [
       "\n",
       "|||\n",
       "|---:|:---|\n",
       "| [![arXiv](https://img.shields.io/badge/arXiv-arXiv:2303.02847-b31b1b.svg)](https://arxiv.org/abs/arXiv:2303.02847) | **First sodium laser guide star asterism launching platform in China on  1.8m telescope at Gaomeigu Observatory**  |\n",
       "|| Rui-Tao Wang, et al. -- incl., <mark>Hong-Yang Li</mark>, <mark>Min Li</mark>, <mark>Ding-Wen Zhang</mark>, <mark>You-Ming Guo</mark> |\n",
       "|*Appeared on*| *2023-03-07*|\n",
       "|*Comments*| **|\n",
       "|**Abstract**| The application of sodium laser guide star is the key difference between modern adaptive optics system and traditional adaptive optics system. Especially in system like multi-conjugate adaptive optics, sodium laser guide star asterism which is formed by several laser guide stars in certain pattern is required to probe more atmospheric turbulence in different directions. To achieve this, a sodium laser guide star asterism launching platform is required. In this paper, we will introduce the sodium laser guide star asterism launching platform built and tested on the 1.8m telescope of the Gaomeigu Observatory. The platform has two functions: one is to compare the performance of sodium laser guide stars generated by different lasers at the same place; the other is to generate sodium laser guide star asterism with adjustable shape. The field test results at the beginning of 2021 verify the important role of the platform, which is also the first time to realize sodium laser guide star asterism in China. |\n",
       "|<p style=\"color:green\"> **ERROR** </p>| <p style=\"color:green\">affiliation error: mpia.affiliation_verifications: 'Heidelberg' keyword not found.</p> |"
      ],
      "text/plain": [
       "<IPython.core.display.Markdown object>"
      ]
     },
     "metadata": {},
     "output_type": "display_data"
    },
    {
     "data": {
      "text/markdown": [
       "\n",
       "|||\n",
       "|---:|:---|\n",
       "| [![arXiv](https://img.shields.io/badge/arXiv-arXiv:2303.02929-b31b1b.svg)](https://arxiv.org/abs/arXiv:2303.02929) | **The Stellar Mass - Black Hole Mass Relation at $z\\sim2$ Down to  $\\mathcal{M}_\\mathrm{BH}\\sim10^7 M_\\odot$ Determined by HETDEX**  |\n",
       "|| <mark>Yechi Zhang</mark>, et al. |\n",
       "|*Appeared on*| *2023-03-07*|\n",
       "|*Comments*| *16 pages, 8 figures, accepted for publication in ApJ*|\n",
       "|**Abstract**| We investigate the stellar mass - black hole mass ($\\mathcal{M}_*-\\mathcal{M}_\\mathrm{BH}$) relation with type 1 AGN down to $\\mathcal{M}_\\mathrm{BH}=10^7 M_\\odot$, corresponding to a $\\simeq -21$ absolute magnitude in rest-frame ultraviolet (UV), at $z = 2-2.5$. Exploiting the deep and large-area spectroscopic survey of the Hobby-Eberly Telescope Dark Energy Experiment (HETDEX), we identify 66 type 1 AGN with $\\mathcal{M}_\\mathrm{BH}$ ranging from $10^7$ to $10^{10} M_\\odot$ that are measured with single-epoch virial method using C{\\sc iv} emission lines detected in the HETDEX spectra. $\\mathcal{M}_*$ of the host galaxies are estimated from optical to near-infrared photometric data taken with Spitzer, WISE, and ground-based 4-8m class telescopes by CIGALE SED fitting. We further assess the validity of SED fitting in two cases by host-nuclear decomposition performed through surface brightness profile fitting on spatially-resolved host galaxies with JWST/NIRCam CEERS data. We obtain the $\\mathcal{M}_*-\\mathcal{M}_\\mathrm{BH}$ relation covering the unexplored low-mass ranges of $\\mathcal{M}_\\mathrm{BH}~\\sim~10^7-10^8~M_\\odot$, and conduct forward modelling to fully account for the selection biases and observational uncertainties. The intrinsic $\\mathcal{M}_*-\\mathcal{M}_\\mathrm{BH}$ relation at $z\\sim 2$ has a moderate positive offset of $0.52\\pm0.14$~dex from the local relation, suggestive of more efficient black hole growth at higher redshift even in the low-mass regime of $\\mathcal{M}_\\mathrm{BH}~\\sim~10^7-10^8~M_\\odot$. Our $\\mathcal{M}_*-\\mathcal{M}_\\mathrm{BH}$ relation is inconsistent with the $\\mathcal{M}_\\mathrm{BH}$ suppression at the low-$\\mathcal{M}_*$ regime predicted by recent hydrodynamic simulations at a $98\\%$ confidence level, suggesting that feedback in the low-mass systems may be weaker than those produced in hydrodynamic simulations. |\n",
       "|<p style=\"color:green\"> **ERROR** </p>| <p style=\"color:green\">affiliation error: mpia.affiliation_verifications: 'Heidelberg' keyword not found.</p> |"
      ],
      "text/plain": [
       "<IPython.core.display.Markdown object>"
      ]
     },
     "metadata": {},
     "output_type": "display_data"
    },
    {
     "data": {
      "text/markdown": [
       "\n",
       "|||\n",
       "|---:|:---|\n",
       "| [![arXiv](https://img.shields.io/badge/arXiv-arXiv:2303.02941-b31b1b.svg)](https://arxiv.org/abs/arXiv:2303.02941) | **Planetary Orbit Eccentricity Trends (POET). I. The  Eccentricity-Metallicity Trend for Small Planets Revealed by the  LAMOST-Gaia-Kepler Sample**  |\n",
       "|| Dong-Sheng An, <mark>Ji-Wei Xie</mark>, Yuan-Zhe Dai, Ji-Lin Zhou |\n",
       "|*Appeared on*| *2023-03-07*|\n",
       "|*Comments*| *21 pages, 15 figures*|\n",
       "|**Abstract**| Orbital eccentricity is one of the basic planetary properties, whose distribution may shed light on the history of planet formation and evolution. Here, in a series of works on Planetary Orbit Eccentricity Trends (dubbed POET), we study the distribution of planetary eccentricities and their dependence on stellar/planetary properties. In this paper, the first work of the POET series, we investigate whether and how the eccentricities of small planets depend on stellar metallicities (e.g., [Fe/H]). Previous studies on giant planets have found a significant correlation between planetary eccentricities and their host metallicities. Nevertheless, whether such a correlation exists in small planets (e.g. super-Earth and sub-Neptune) remains unclear. Here, benefiting from the large and homogeneous LAMOST-Gaia-Kepler sample, we characterize the eccentricity distributions of 244 (286) small planets in single (multiple) transiting systems with the transit duration ratio method. We confirm the eccentricity-metallicity trend that eccentricities of single small planets increase with stellar metallicities. Interestingly, a similar trend between eccentricity and metallicity is also found in the radial velocity (RV) sample. We also found that the mutual inclination of multiple transiting systems increases with metallicity, which predicts a moderate eccentricity-metallicity rising trend. Our results of the correlation between eccentricity (inclination) and metallicity for small planet support the core accretion model for planet formation, and they could be footprints of self (and/or external) excitation processes during the history of planet formation and evolution. |\n",
       "|<p style=\"color:green\"> **ERROR** </p>| <p style=\"color:green\">affiliation error: mpia.affiliation_verifications: 'Heidelberg' keyword not found.</p> |"
      ],
      "text/plain": [
       "<IPython.core.display.Markdown object>"
      ]
     },
     "metadata": {},
     "output_type": "display_data"
    },
    {
     "data": {
      "text/markdown": [
       "\n",
       "|||\n",
       "|---:|:---|\n",
       "| [![arXiv](https://img.shields.io/badge/arXiv-arXiv:2303.02973-b31b1b.svg)](https://arxiv.org/abs/arXiv:2303.02973) | **Resolving the stellar-collapse and hierarchical-merger origins of the  coalescing black holes**  |\n",
       "|| <mark>Yin-Jie Li</mark>, Yuan-Zhu Wang, Shao-Peng Tang, Yi-Zhong Fan |\n",
       "|*Appeared on*| *2023-03-07*|\n",
       "|*Comments*| *20 pages, 8 figures*|\n",
       "|**Abstract**| Spin and mass properties provide essential clues in distinguishing the formation channels for coalescing binary black holes (BBHs). With a dedicated non-parametric population model for the joint distributions of mass, spin magnitude, and spin orientation of the black holes (BHs) in the coalescing binaries, we find two distinct categories of BHs among the GWTC-3 events with considerably different spin and mass distributions. One category, with a mass ranging from $\\sim 25M_\\odot$ to $\\sim 80M_\\odot$, is distinguished by the high spin-magnitudes and consistent with the (hierarchical) merger origin. The other category, characterized by low spins, has a sharp mass cutoff at $\\sim 40M_\\odot$ ($<56.8M_{\\odot}$ at 90\\% credible level), which is natural for the stellar-collapse origin. In particular, such a mass cutoff is expected for the pair-instability explosion of massive stars. The stellar-collapse category is estimated to consist of $\\sim 70\\%$ filed binaries and $\\sim 30\\%$ dynamical assembly from star clusters (mostly globular clusters); while the merger-origin category may contain comparable amounts of events from the Active Galactic Nuclei disks and star clusters. |\n",
       "|<p style=\"color:green\"> **ERROR** </p>| <p style=\"color:green\">affiliation error: mpia.affiliation_verifications: 'Heidelberg' keyword not found.</p> |"
      ],
      "text/plain": [
       "<IPython.core.display.Markdown object>"
      ]
     },
     "metadata": {},
     "output_type": "display_data"
    },
    {
     "data": {
      "text/markdown": [
       "\n",
       "|||\n",
       "|---:|:---|\n",
       "| [![arXiv](https://img.shields.io/badge/arXiv-arXiv:2303.03021-b31b1b.svg)](https://arxiv.org/abs/arXiv:2303.03021) | **Probing the origin of cosmic rays in Cygnus Cocoon using  ultrahigh-energy gamma-ray and neutrino observations**  |\n",
       "|| Prabir Banik, <mark>Sanjay K. Ghosh</mark> |\n",
       "|*Appeared on*| *2023-03-07*|\n",
       "|*Comments*| *9 pages, 4 figures*|\n",
       "|**Abstract**| Recent ultrahigh energy gamma-ray observations by the HAWC up to 100 TeV and LHAASO observatories up to 1.4 PeV energies from the direction of Fermi-LAT 4FGL source 4FGL J2028.6+4110e (Cygnus Cocoon), are indicative of a hadronic origin over a leptonic process for their creation. The IceCube Neutrino Observatory has reported IceCube-201120A, a neutrino event coming from the same direction, suggesting that the Cygnus Cocoon may correspond to one of the most plausible sources of high-energy cosmic rays. The apparent relationship of the neutrino event with the observed ultra high energy gamma-rays from Cygnus Cocoon is investigated in this work to study if it can be explained consistently in hadronic interactions of accelerated cosmic rays with ambient matter. Our findings reveal that leptonic mechanisms, together with pure hadronic mechanisms, make a considerable contribution to the understanding of the total electromagnetic spectrum as well as the observed neutrino event. The estimate of expected muon neutrino events from the Cygnus cocoon agrees with the one muon neutrino event detected so far in IceCube multi-year observations. Thus, our results are indicative of the potential of the Cygnus Cocoon to be a galactic cosmic ray source capable of accelerating at least up to PeV energies. |\n",
       "|<p style=\"color:green\"> **ERROR** </p>| <p style=\"color:green\">affiliation error: mpia.affiliation_verifications: 'Heidelberg' keyword not found.</p> |"
      ],
      "text/plain": [
       "<IPython.core.display.Markdown object>"
      ]
     },
     "metadata": {},
     "output_type": "display_data"
    },
    {
     "data": {
      "text/markdown": [
       "\n",
       "|||\n",
       "|---:|:---|\n",
       "| [![arXiv](https://img.shields.io/badge/arXiv-arXiv:2303.03025-b31b1b.svg)](https://arxiv.org/abs/arXiv:2303.03025) | **Is there a dwarf galaxy satellite-of-satellite problem in $Λ$CDM?**  |\n",
       "|| <mark>Oliver Müller</mark>, et al. |\n",
       "|*Appeared on*| *2023-03-07*|\n",
       "|*Comments*| *8 pages, 7 figures, 3 tables. Accepted for publication in Astronomy & Astrophysics. Abstract shortened due to arxiv abstract length requirements*|\n",
       "|**Abstract**| Dark matter clusters on all scales, therefore it is expected that even substructure should host its own substructure. Using the Extragalactic Distance Database, we searched for dwarf galaxy satellites of dwarf galaxies, i.e. satellite-of-satellite galaxies, corresponding to these substructures-of-substructure. Going through HST data of 117 dwarf galaxies, we report the discovery of a dwarf galaxy around the ultra-diffuse M96 companion M96-DF6 at 10 Mpc. Modelling its structural parameters, we find that it is an ultra-faint dwarf galaxy which is 135 times fainter than its host. Based on its close projection to M96-DF6 it is unlikely that their association occurs by chance. We compare the luminosity ratio of this and three other known satellite-of-satellite systems with results from two different cosmological sets of CDM simulations. For the observed stellar mass range of the central dwarf galaxies, the simulated dwarfs have a higher luminosity ratio between the central dwarf and its first satellite ($\\approx$10'000) than observed ($\\approx$100), excluding the LMC system. No simulated dwarf analog at these observed stellar masses has the observed luminosity ratio. This cannot be due to missing resolution, because it is the brightest subhalos that are missing. This may indicate that there is a satellite-of-satellite (SoS) problem for CDM in the stellar mass range between 10$^6$ and 10$^8$ M$_\\odot$ - the regime of the classical dwarf galaxies. However, simulated dwarf models at both a lower ($<10^6$ M$_\\odot$) and higher ($>10^8$ M$_\\odot$) stellar mass have comparable luminosity ratios. For the higher stellar mass systems, the LMC system is reproduced by simulations, for the lower stellar masses, no observed SoS system has been observed to date. More observations and simulations of SoS systems are needed to assess whether the luminosity ratio is at odds with CDM. |\n",
       "|<p style=\"color:green\"> **ERROR** </p>| <p style=\"color:green\">affiliation error: mpia.affiliation_verifications: 'Heidelberg' keyword not found.</p> |"
      ],
      "text/plain": [
       "<IPython.core.display.Markdown object>"
      ]
     },
     "metadata": {},
     "output_type": "display_data"
    },
    {
     "data": {
      "text/markdown": [
       "\n",
       "|||\n",
       "|---:|:---|\n",
       "| [![arXiv](https://img.shields.io/badge/arXiv-arXiv:2303.03026-b31b1b.svg)](https://arxiv.org/abs/arXiv:2303.03026) | **MPI-AMRVAC 3.0: updates to an open-source simulation framework**  |\n",
       "|| Rony Keppens, et al. -- incl., <mark>Yang Guo</mark> |\n",
       "|*Appeared on*| *2023-03-07*|\n",
       "|*Comments*| *Accepted for A&A*|\n",
       "|**Abstract**| Computational astrophysics routinely combines grid-adaptive capabilities with modern shock-capturing, high resolution spatio-temporal schemes on multi-dimensional hydro- and magnetohydrodynamics. We provide an update on developments within the open-source MPI-AMRVAC code. With online documentation, the MPI-AMRVAC 3.0 release includes several added equation sets, and many options to explore and quantify the influence of implementation details. Showcasing this on a variety of hydro and MHD tests, we document new modules of interest for state-of-the-art solar applications. Test cases address how higher order reconstructions impact long term simulations of shear layers, with and without gas-dust coupling, how runaway radiative losses transit to intricate multi-temperature, multi-phase dynamics, and how different flavors of spatio-temporal schemes and magnetic monopole control produce consistent MHD results in combination with adaptive meshes. We demonstrate Super-Time-Stepping strategies for specific parabolic terms and give details on all implemented Implicit-Explicit integrators. A new magnetofrictional module can be used for computing force-free magnetic fields or for data-driven time-dependent evolutions, while the Regularized-Biot-Savart-Law approach can insert fluxropes in 3D domains. Synthetic observations of 3D MHD simulations can be rendered on-the-fly, or in post-processing, in many spectral wavebands. A particle module and a generic fieldline tracing, compatible with the hierarchical meshes, can be used to sample information at prescribed locations, to follow dynamics of charged particles, or realize two-way coupled simulations between MHD setups and field-aligned non-thermal processes. Highlighting the latest additions and various technical aspects, our open-source strategy welcomes any further code usage, contribution, or spin-off development. |\n",
       "|<p style=\"color:green\"> **ERROR** </p>| <p style=\"color:green\">affiliation error: mpia.affiliation_verifications: 'Heidelberg' keyword not found.</p> |"
      ],
      "text/plain": [
       "<IPython.core.display.Markdown object>"
      ]
     },
     "metadata": {},
     "output_type": "display_data"
    },
    {
     "data": {
      "text/markdown": [
       "\n",
       "|||\n",
       "|---:|:---|\n",
       "| [![arXiv](https://img.shields.io/badge/arXiv-arXiv:2303.03058-b31b1b.svg)](https://arxiv.org/abs/arXiv:2303.03058) | **Reoriented Memory of Galaxy Spins for the Early Universe**  |\n",
       "|| Jun-Sung Moon, <mark>Jounghun Lee</mark> |\n",
       "|*Appeared on*| *2023-03-07*|\n",
       "|*Comments*| *4 pages, 4 figures, comments welcome*|\n",
       "|**Abstract**| Galaxy spins are believed to retain initially acquired tendency of being aligned with the intermediate principal axes of the linear tidal field, which disseminates a prospect of using them as a probe of the early universe physics. This roseate prospect, however, is contingent upon the key assumption that the observable stellar spins of the present galaxies measured at inner radii have the same alignment tendency toward the initial tidal field as their dark matter counterparts measured at virial limits. We test this assumption directly against a high-resolution hydrodynamical simulation to find that the present galaxy stellar spins have strong but {\\it reoriented} memory for the early universe. An analytic single-parameter formula for this reorientation is derived and found to be in good accord with the numerical results. |\n",
       "|<p style=\"color:green\"> **ERROR** </p>| <p style=\"color:green\">affiliation error: mpia.affiliation_verifications: 'Heidelberg' keyword not found.</p> |"
      ],
      "text/plain": [
       "<IPython.core.display.Markdown object>"
      ]
     },
     "metadata": {},
     "output_type": "display_data"
    },
    {
     "data": {
      "text/markdown": [
       "\n",
       "|||\n",
       "|---:|:---|\n",
       "| [![arXiv](https://img.shields.io/badge/arXiv-arXiv:2303.03261-b31b1b.svg)](https://arxiv.org/abs/arXiv:2303.03261) | **General-relativistic radiation transport scheme in $\\texttt{Gmunu}$ I:  Implementation of two-moment based multi-frequency radiative transfer and  code tests**  |\n",
       "|| Patrick Chi-Kit Cheong, Harry Ho-Yin Ng, Alan Tsz-Lok Lam, <mark>Tjonnie Guang Feng Li</mark> |\n",
       "|*Appeared on*| *2023-03-07*|\n",
       "|*Comments*| **|\n",
       "|**Abstract**| We present the implementation of two-moment based general-relativistic multi-group radiation transport module in the $\\texttt{G}$eneral-relativistic $\\texttt{mu}$ltigrid $\\texttt{nu}$merical ($\\texttt{Gmunu}$) code. On top of solving the general-relativistic magnetohydrodynamics and the Einstein equations with conformally flat approximations, the code solves the evolution equations of the zeroth- and first-order moments of the radiations. Analytic closure relation is used to obtain the higher order moments and close the system. The finite-volume discretisation has been adopted for the radiation moments. The advection in spatial and frequency spaces are handled explicitly. In addition, the radiation-matter interaction terms, which are very stiff in the optically thick region, are solved implicitly. Implicit-explicit Runge-Kutta schemes are adopted for time integration. We test the implementation with a number of numerical benchmarks from frequency-integrated to frequency dependent cases. Furthermore, we also illustrate the astrophysical applications in hot neutron star and core-collapse supernovae modellings, and compare with other neutrino transport codes. |\n",
       "|<p style=\"color:green\"> **ERROR** </p>| <p style=\"color:green\">affiliation error: mpia.affiliation_verifications: 'Heidelberg' keyword not found.</p> |"
      ],
      "text/plain": [
       "<IPython.core.display.Markdown object>"
      ]
     },
     "metadata": {},
     "output_type": "display_data"
    },
    {
     "data": {
      "text/markdown": [
       "\n",
       "|||\n",
       "|---:|:---|\n",
       "| [![arXiv](https://img.shields.io/badge/arXiv-arXiv:2303.03266-b31b1b.svg)](https://arxiv.org/abs/arXiv:2303.03266) | **Dark Stars and Gravitational Waves: Topical Review**  |\n",
       "|| <mark>Kilar Zhang</mark>, et al. -- incl., <mark>Feng-Li Lin</mark> |\n",
       "|*Appeared on*| *2023-03-07*|\n",
       "|*Comments*| *27 pages, 8 figures*|\n",
       "|**Abstract**| Motivated by recent observations of compact binary gravitational wave events reported by LIGO/Virgo/KAGRA, we review the basics of dark and hybrid stars and examine their probabilities as mimickers for black holes and neutron stars. This review aims to survey this exciting topic and offer necessary tools for the research study at the introductory level. |\n",
       "|<p style=\"color:green\"> **ERROR** </p>| <p style=\"color:green\">affiliation error: mpia.affiliation_verifications: 'Heidelberg' keyword not found.</p> |"
      ],
      "text/plain": [
       "<IPython.core.display.Markdown object>"
      ]
     },
     "metadata": {},
     "output_type": "display_data"
    },
    {
     "data": {
      "text/markdown": [
       "\n",
       "|||\n",
       "|---:|:---|\n",
       "| [![arXiv](https://img.shields.io/badge/arXiv-arXiv:2303.03119-b31b1b.svg)](https://arxiv.org/abs/arXiv:2303.03119) | **Multiverse Predictions for Habitability: Stellar and Atmospheric  Habitability**  |\n",
       "|| McCullen Sandora, Vladimir Airapetian, Luke Barnes, <mark>Geraint F. Lewis</mark> |\n",
       "|*Appeared on*| *2023-03-07*|\n",
       "|*Comments*| *23 pages, 2 figures*|\n",
       "|**Abstract**| Stellar activity and planetary atmospheric properties have the potential to strongly influence habitability. To date, neither have been adequately studied in the multiverse context, so there has been no assessment of how these effects impact the probabilities of observing our fundamental constants. Here, we consider the effects of solar wind, mass loss, and extreme ultra-violet (XUV) flux on planetary atmospheres, how these effects scale with fundamental constants, and how this affects the likelihood of our observations. We determine the minimum atmospheric mass that can withstand erosion, maintain liquid surface water, and buffer diurnal temperature changes. We consider two plausible sources of Earth's atmosphere, as well as the notion that only initially slowly rotating stars are habitable, and find that all are equally compatible with the multiverse. We consider whether planetary magnetic fields are necessary for habitability, and find five boundaries in parameter space where magnetic fields are precluded. We find that if an Earth-like carbon-to-oxygen ratio is required for life, atmospheric effects do not have much of an impact on multiverse calculations. If significantly different carbon-to-oxygen ratios are compatible with life, magnetic fields must not be essential for life, and planet atmosphere must not scale with stellar nitrogen abundance, or else the multiverse would be ruled out to a high degree of confidence. |\n",
       "|<p style=\"color:green\"> **ERROR** </p>| <p style=\"color:green\">affiliation error: mpia.affiliation_verifications: 'Max' keyword not found.</p> |"
      ],
      "text/plain": [
       "<IPython.core.display.Markdown object>"
      ]
     },
     "metadata": {},
     "output_type": "display_data"
    },
    {
     "data": {
      "text/markdown": [
       "\n",
       "|||\n",
       "|---:|:---|\n",
       "| [![arXiv](https://img.shields.io/badge/arXiv-arXiv:2303.02161-b31b1b.svg)](https://arxiv.org/abs/arXiv:2303.02161) | **Exploring Fundamental Particle Acceleration and Loss Processes in  Heliophysics through an Orbiting X-ray Instrument in the Jovian System**  |\n",
       "|| W. Dunn, et al. -- incl., <mark>W. Li</mark>, <mark>H. T. Smith</mark> |\n",
       "|*Appeared on*| *2023-03-07*|\n",
       "|*Comments*| *A White Paper for the 2024-2033 Solar and Space Physics (Heliophysics) Decadal Survey*|\n",
       "|**Abstract**| Jupiter's magnetosphere is considered to be the most powerful particle accelerator in the Solar System, accelerating electrons from eV to 70 MeV and ions to GeV energies. How electromagnetic processes drive energy and particle flows, producing and removing energetic particles, is at the heart of Heliophysics. Particularly, the 2013 Decadal Strategy for Solar and Space Physics was to \"Discover and characterize fundamental processes that occur both within the heliosphere and throughout the universe\". The Jovian system offers an ideal natural laboratory to investigate all of the universal processes highlighted in the previous Decadal. The X-ray waveband has been widely used to remotely study plasma across astrophysical systems. The majority of astrophysical emissions can be grouped into 5 X-ray processes: fluorescence, thermal/coronal, scattering, charge exchange and particle acceleration. The Jovian system offers perhaps the only system that presents a rich catalog of all of these X-ray emission processes and can also be visited in-situ, affording the special possibility to directly link fundamental plasma processes with their resulting X-ray signatures. This offers invaluable ground-truths for astrophysical objects beyond the reach of in-situ exploration (e.g. brown dwarfs, magnetars or galaxy clusters that map the cosmos). Here, we show how coupling in-situ measurements with in-orbit X-ray observations of Jupiter's radiation belts, Galilean satellites, Io Torus, and atmosphere addresses fundamental heliophysics questions with wide-reaching impact across helio- and astrophysics. New developments like miniaturized X-ray optics and radiation-tolerant detectors, provide compact, lightweight, wide-field X-ray instruments perfectly suited to the Jupiter system, enabling this exciting new possibility. |\n",
       "|<p style=\"color:red\"> **ERROR** </p>| <p style=\"color:red\">latex error not a gzip file</p> |"
      ],
      "text/plain": [
       "<IPython.core.display.Markdown object>"
      ]
     },
     "metadata": {},
     "output_type": "display_data"
    },
    {
     "data": {
      "text/markdown": [
       "\n",
       "|||\n",
       "|---:|:---|\n",
       "| [![arXiv](https://img.shields.io/badge/arXiv-arXiv:2303.02330-b31b1b.svg)](https://arxiv.org/abs/arXiv:2303.02330) | **The Solar Cause of the 2022 February 3 Geomagnetic Storm that Led to the  Demise of the Starlink Satellites**  |\n",
       "|| Nat Gopalswamy, <mark>Hong Xie</mark>, Seiji Yashiro, Sachiko Akiyama |\n",
       "|*Appeared on*| *2023-03-07*|\n",
       "|*Comments*| *14 pages, 8 figures, to appear in Sun and Geosphere*|\n",
       "|**Abstract**| We report on the solar source of the 2022 February 3 geomagnetic storm of moderate strength that contributed to the loss of 39 Starlink satellites. The geomagnetic storm was caused by the 2022 January 29 halo coronal mass ejection (CME) that was of moderate speed (about 690 km/s) originating from NOAA active region 12936 located in the northeast quadrant (N18E06) of the Sun. The eruption was marked by an M1.1 flare, which started at 22:45 UT, peaked at 23:32 UT on January 29 and ended at 00:24 UT the next day. The CME ended up as a shock-driving magnetic cloud (MC) observed at Sun-Earth L1 and at STEREO-Ahead (STA) located about 34 deg behind Earth. The geomagnetic storm was caused by a strong southward component of the MC that was boosted by a high speed solar wind stream behind the MC. Even though Earth and STA were separated by only about 34 deg, the MC appeared quite different at Earth and L1. One possibility is that the MC was writhed reflecting the curved neutral line at the Sun. In-situ observations suggest that the MC was heading closer to STA than to Earth because of the earlier arrival at STA. However, the shock arrived at STA and Earth around the same time, suggesting a weaker shock at Earth due to flank passage. |\n",
       "|<p style=\"color:red\"> **ERROR** </p>| <p style=\"color:red\">latex error not a gzip file</p> |"
      ],
      "text/plain": [
       "<IPython.core.display.Markdown object>"
      ]
     },
     "metadata": {},
     "output_type": "display_data"
    },
    {
     "data": {
      "text/markdown": [
       "\n",
       "|||\n",
       "|---:|:---|\n",
       "| [![arXiv](https://img.shields.io/badge/arXiv-arXiv:2303.02895-b31b1b.svg)](https://arxiv.org/abs/arXiv:2303.02895) | **The Multiview Observatory for Solar Terrestrial Science (MOST)**  |\n",
       "|| N. Gopalswamy, et al. -- incl., <mark>L. Li</mark>, <mark>J. Zhao</mark>, <mark>J. Zhang</mark> |\n",
       "|*Appeared on*| *2023-03-07*|\n",
       "|*Comments*| *40 pages, 19 figures, 8 tables*|\n",
       "|**Abstract**| We report on a study of the Multiview Observatory for Solar Terrestrial Science (MOST) mission that will provide comprehensive imagery and time series data needed to understand the magnetic connection between the solar interior and the solar atmosphere/inner heliosphere. MOST will build upon the successes of SOHO and STEREO missions with new views of the Sun and enhanced instrument capabilities. This article is based on a study conducted at NASA Goddard Space Flight Center that determined the required instrument refinement, spacecraft accommodation, launch configuration, and flight dynamics for mission success. MOST is envisioned as the next generation great observatory positioned to obtain three-dimensional information of solar wind structures such as coronal mass ejections, stream interaction regions, and the solar wind. The MOST mission consists of 2 pairs of spacecraft located in the vicinity of Sun Earth Lagrange points L4 (MOST1, MOST3) and L5 (MOST2 and MOST4). The spacecraft stationed at L4 (MOST1) and L5 (MOST2) will each carry seven remote-sensing and three in-situ instrument suites. MOST will also carry a novel radio package known as the Faraday Effect Tracker of Coronal and Heliospheric structures (FETCH). FETCH will have polarized radio transmitters and receivers on all four spacecraft to measure the magnetic content of solar wind structures propagating from the Sun to Earth using the Faraday rotation technique. The MOST mission will be able to sample the magnetized plasma throughout the Sun Earth connected space during the mission lifetime over a solar cycle. |\n",
       "|<p style=\"color:red\"> **ERROR** </p>| <p style=\"color:red\">latex error not a gzip file</p> |"
      ],
      "text/plain": [
       "<IPython.core.display.Markdown object>"
      ]
     },
     "metadata": {},
     "output_type": "display_data"
    },
    {
     "data": {
      "text/markdown": [
       "\n",
       "|||\n",
       "|---:|:---|\n",
       "| [![arXiv](https://img.shields.io/badge/arXiv-arXiv:2303.02952-b31b1b.svg)](https://arxiv.org/abs/arXiv:2303.02952) | **Pupil aberrations correction of the afocal telescope for the TianQin  project**  |\n",
       "|| Zichao Fan, et al. -- incl., <mark>Lujia Zhao</mark> |\n",
       "|*Appeared on*| *2023-03-07*|\n",
       "|*Comments*| **|\n",
       "|**Abstract**| TianQin is a planned Chinese space-based gravitational wave (GW) observatory with a frequency band of 10-4 to 1Hz. Optical telescopes are essential for the delivery of the measurement beam to support a precise distance measurement between pairs of proof masses. As the design is driven by the interferometric displacement sensitivity requirements, the stability control of optical path length (OPL) is extremely important beyond the traditional requirement of diffraction-limited imaging quality. In a telescope system, the recurring tilt-to-length (TTL) coupling noise arises from the OPL variation due to the wavefront deformation and angular misalignment. The pupil aberrations are preferred option to understand the OPL specifications and further suppress TTL coupling noise. To correct the pupil aberrations, we derive primary pupil aberrations in a series expansion form, and then refine the formulation of merit function by combining the pupil aberration theory and traditional image aberration theory. The automatic correction of pupil aberrations is carried out by using the macro programming in the commercial optical software Zemax, leading to a high performance telescope design. The design results show that on one side the pupil aberrations have been corrected, and on the other side, its optical performance meets the requirements for TianQin project. The RMS wavefront error over the science field of view (FOV) is less than {\\lambda}/200 and the maximum TTL coupling noise over the entire 300 urad FOV is 0.0034nm/urad. We believe that our design approach can be a good guide for the space telescope design in any other space-based GW detection project, as well as other similar optical systems. |\n",
       "|<p style=\"color:red\"> **ERROR** </p>| <p style=\"color:red\">latex error not a gzip file</p> |"
      ],
      "text/plain": [
       "<IPython.core.display.Markdown object>"
      ]
     },
     "metadata": {},
     "output_type": "display_data"
    }
   ],
   "source": [
    "import datetime\n",
    "today = str(datetime.date.today())\n",
    "logfile = f\"_build/html/logs/log-{today}.md\"\n",
    "\n",
    "\n",
    "with open(logfile, 'w') as logs:\n",
    "    # Success\n",
    "    logs.write(f'# Arxiv on Deck 2: Logs - {today}\\n\\n')\n",
    "    logs.write(\"\"\"* Arxiv had {0:,d} new papers\\n\"\"\".format(len(new_papers)))\n",
    "    logs.write(\"\"\"    * {0:,d} with possible author matches\\n\\n\"\"\".format(len(candidates)))\n",
    "    logs.write(\"## Sucessful papers\\n\\n\")\n",
    "    display(Markdown(\"## Successful papers\"))\n",
    "    success = [k[0] for k in documents]\n",
    "    for candid in candidates:\n",
    "        if candid['identifier'].split(':')[-1] in success:\n",
    "            display(candid)\n",
    "            logs.write(candid.generate_markdown_text() + '\\n\\n')\n",
    "\n",
    "    ## failed\n",
    "    logs.write(\"## Failed papers\\n\\n\")\n",
    "    display(Markdown(\"## Failed papers\"))\n",
    "    failed = sorted(failed, key=lambda x: x[1])\n",
    "    current_reason = \"\"\n",
    "    for paper, reason in failed:\n",
    "        if 'affiliation' in reason:\n",
    "            color = 'green'\n",
    "        else:\n",
    "            color = 'red'\n",
    "        data = Markdown(\n",
    "                paper.generate_markdown_text() + \n",
    "                f'\\n|<p style=\"color:{color:s}\"> **ERROR** </p>| <p style=\"color:{color:s}\">{reason:s}</p> |'\n",
    "               )\n",
    "        if reason != current_reason:\n",
    "            logs.write(f'### {reason:s} \\n\\n')\n",
    "            current_reason = reason\n",
    "        logs.write(data.data + '\\n\\n')\n",
    "        \n",
    "        # only display here the important errors (all in logs)\n",
    "        # if color in ('red',):\n",
    "        display(data)"
   ]
  },
  {
   "cell_type": "markdown",
   "id": "472d20ee",
   "metadata": {
    "papermill": {
     "duration": 0.008878,
     "end_time": "2023-03-07T16:15:15.092427",
     "exception": false,
     "start_time": "2023-03-07T16:15:15.083549",
     "status": "completed"
    },
    "tags": []
   },
   "source": [
    "## Export documents\n",
    "\n",
    "We now write the .md files and export relevant images"
   ]
  },
  {
   "cell_type": "code",
   "execution_count": 7,
   "id": "d426aed9",
   "metadata": {
    "execution": {
     "iopub.execute_input": "2023-03-07T16:15:15.110773Z",
     "iopub.status.busy": "2023-03-07T16:15:15.110332Z",
     "iopub.status.idle": "2023-03-07T16:15:15.117316Z",
     "shell.execute_reply": "2023-03-07T16:15:15.116713Z"
    },
    "papermill": {
     "duration": 0.017774,
     "end_time": "2023-03-07T16:15:15.118688",
     "exception": false,
     "start_time": "2023-03-07T16:15:15.100914",
     "status": "completed"
    },
    "tags": []
   },
   "outputs": [],
   "source": [
    "def export_markdown_summary(md: str, md_fname:str, directory: str):\n",
    "    \"\"\"Export MD document and associated relevant images\"\"\"\n",
    "    import os\n",
    "    import shutil\n",
    "    import re\n",
    "\n",
    "    if (os.path.exists(directory) and not os.path.isdir(directory)):\n",
    "        raise RuntimeError(f\"a non-directory file exists with name {directory:s}\")\n",
    "\n",
    "    if (not os.path.exists(directory)):\n",
    "        print(f\"creating directory {directory:s}\")\n",
    "        os.mkdir(directory)\n",
    "\n",
    "    fig_fnames = (re.compile(r'\\[Fig.*\\]\\((.*)\\)').findall(md) + \n",
    "                  re.compile(r'\\<img src=\"([^>\\s]*)\"[^>]*/>').findall(md))\n",
    "    for fname in fig_fnames:\n",
    "        if 'http' in fname:\n",
    "            # No need to copy online figures\n",
    "            continue\n",
    "        destdir = os.path.join(directory, os.path.dirname(fname))\n",
    "        destfname = os.path.join(destdir, os.path.basename(fname))\n",
    "        try:\n",
    "            os.makedirs(destdir)\n",
    "        except FileExistsError:\n",
    "            pass\n",
    "        shutil.copy(fname, destfname)\n",
    "    with open(os.path.join(directory, md_fname), 'w') as fout:\n",
    "        fout.write(md)\n",
    "    print(\"exported in \", os.path.join(directory, md_fname))\n",
    "    [print(\"    + \" + os.path.join(directory,fk)) for fk in fig_fnames]"
   ]
  },
  {
   "cell_type": "code",
   "execution_count": 8,
   "id": "014d04a4",
   "metadata": {
    "execution": {
     "iopub.execute_input": "2023-03-07T16:15:15.137098Z",
     "iopub.status.busy": "2023-03-07T16:15:15.136691Z",
     "iopub.status.idle": "2023-03-07T16:15:15.142024Z",
     "shell.execute_reply": "2023-03-07T16:15:15.141403Z"
    },
    "papermill": {
     "duration": 0.016061,
     "end_time": "2023-03-07T16:15:15.143383",
     "exception": false,
     "start_time": "2023-03-07T16:15:15.127322",
     "status": "completed"
    },
    "tags": []
   },
   "outputs": [
    {
     "name": "stdout",
     "output_type": "stream",
     "text": [
      "exported in  _build/html/2303.02816.md\n",
      "    + _build/html/tmp_2303.02816/./CIV_sightlines.png\n",
      "    + _build/html/tmp_2303.02816/./completeness_CIV.png\n",
      "    + _build/html/tmp_2303.02816/./C_ion_fractions_13.2_15.0.png\n",
      "    + _build/html/tmp_2303.02816/./c_ion_modelling.png\n"
     ]
    }
   ],
   "source": [
    "for paper_id, md in documents:\n",
    "    export_markdown_summary(md, f\"{paper_id:s}.md\", '_build/html/')"
   ]
  },
  {
   "cell_type": "markdown",
   "id": "f087a0a7",
   "metadata": {
    "papermill": {
     "duration": 0.008636,
     "end_time": "2023-03-07T16:15:15.160625",
     "exception": false,
     "start_time": "2023-03-07T16:15:15.151989",
     "status": "completed"
    },
    "tags": []
   },
   "source": [
    "## Display the papers\n",
    "\n",
    "Not necessary but allows for a quick check."
   ]
  },
  {
   "cell_type": "code",
   "execution_count": 9,
   "id": "fd25f625",
   "metadata": {
    "execution": {
     "iopub.execute_input": "2023-03-07T16:15:15.179108Z",
     "iopub.status.busy": "2023-03-07T16:15:15.178684Z",
     "iopub.status.idle": "2023-03-07T16:15:15.183373Z",
     "shell.execute_reply": "2023-03-07T16:15:15.182789Z"
    },
    "papermill": {
     "duration": 0.015501,
     "end_time": "2023-03-07T16:15:15.184749",
     "exception": false,
     "start_time": "2023-03-07T16:15:15.169248",
     "status": "completed"
    },
    "scrolled": false,
    "tags": []
   },
   "outputs": [
    {
     "data": {
      "text/markdown": [
       "<div class=\"macros\" style=\"visibility:hidden;\">\n",
       "$\\newcommand{\\ensuremath}{}$\n",
       "$\\newcommand{\\xspace}{}$\n",
       "$\\newcommand{\\object}[1]{\\texttt{#1}}$\n",
       "$\\newcommand{\\farcs}{{.}''}$\n",
       "$\\newcommand{\\farcm}{{.}'}$\n",
       "$\\newcommand{\\arcsec}{''}$\n",
       "$\\newcommand{\\arcmin}{'}$\n",
       "$\\newcommand{\\ion}[2]{#1#2}$\n",
       "$\\newcommand{\\textsc}[1]{\\textrm{#1}}$\n",
       "$\\newcommand{\\hl}[1]{\\textrm{#1}}$\n",
       "$\\newcommand{\\OmCIV}{\\mbox{\\Omega_{\\rm C   \\textsc{iv}}}}$\n",
       "$\\newcommand{\\OmCII}{\\mbox{\\Omega_{\\rm C   \\textsc{ii}}}}$\n",
       "$\\newcommand{\\HII}{\\mbox{H \\textsc{ii}}}$\n",
       "$\\newcommand{\\CI}{\\mbox{C \\textsc{i}}}$\n",
       "$\\newcommand{\\CII}{\\mbox{C \\textsc{ii}}}$\n",
       "$\\newcommand{\\CIII}{\\mbox{C \\textsc{iii}}}$\n",
       "$\\newcommand{\\CIV}{\\mbox{C \\textsc{iv}}}$\n",
       "$\\newcommand{\\CV}{\\mbox{C \\textsc{v}}}$\n",
       "$\\newcommand{\\SiII}{\\mbox{Si \\textsc{ii}}}$\n",
       "$\\newcommand{\\SiIV}{\\mbox{Si \\textsc{iv}}}$\n",
       "$\\newcommand{\\NV}{\\mbox{N \\textsc{v}}}$\n",
       "$\\newcommand{\\HeII}{\\mbox{He \\textsc{ii}}}$\n",
       "$\\newcommand{\\FeII}{\\mbox{Fe \\textsc{ii}}}$\n",
       "$\\newcommand{\\MgII}{\\mbox{Mg \\textsc{ii}}}$\n",
       "$\\newcommand{\\OI}{\\mbox{O \\textsc{i}}}$\n",
       "$\\newcommand{\\Lya}{Ly\\alpha}$\n",
       "$\\newcommand{\\kms}{ km s^{-1}}$\n",
       "$\\newcommand{\\dndx}{dn/dX}$\n",
       "$\\newcommand{\\bibtex}{\\textsc{Bib}\\!\\TeX}$\n",
       "$\\newcommand{\\appropto}{\\mathrel{\\vcenter{$\n",
       "$  \\offinterlineskip\\halign{\\hfil##\\cr$\n",
       "$    \\propto\\cr\\noalign{\\kern2pt}\\sim\\cr\\noalign{\\kern-2pt}}}}}$</div>\n",
       "\n",
       "<div class=\"macros\" style=\"visibility:hidden;\">\n",
       "$\\newcommand{\\ensuremath}{}$\n",
       "$\\newcommand{\\xspace}{}$\n",
       "$\\newcommand{\\object}[1]{\\texttt{#1}}$\n",
       "$\\newcommand{\\farcs}{{.}''}$\n",
       "$\\newcommand{\\farcm}{{.}'}$\n",
       "$\\newcommand{\\arcsec}{''}$\n",
       "$\\newcommand{\\arcmin}{'}$\n",
       "$\\newcommand{\\ion}[2]{#1#2}$\n",
       "$\\newcommand{\\textsc}[1]{\\textrm{#1}}$\n",
       "$\\newcommand{\\hl}[1]{\\textrm{#1}}$\n",
       "$\\newcommand{\\OmCIV}{\\mbox{\\Omega_{\\rm C   \\textsc{iv}}}}$\n",
       "$\\newcommand{\\OmCII}{\\mbox{\\Omega_{\\rm C   \\textsc{ii}}}}$\n",
       "$\\newcommand{\\HII}{\\mbox{H \\textsc{ii}}}$\n",
       "$\\newcommand{\\CI}{\\mbox{C \\textsc{i}}}$\n",
       "$\\newcommand{\\CII}{\\mbox{C \\textsc{ii}}}$\n",
       "$\\newcommand{\\CIII}{\\mbox{C \\textsc{iii}}}$\n",
       "$\\newcommand{\\CIV}{\\mbox{C \\textsc{iv}}}$\n",
       "$\\newcommand{\\CV}{\\mbox{C \\textsc{v}}}$\n",
       "$\\newcommand{\\SiII}{\\mbox{Si \\textsc{ii}}}$\n",
       "$\\newcommand{\\SiIV}{\\mbox{Si \\textsc{iv}}}$\n",
       "$\\newcommand{\\NV}{\\mbox{N \\textsc{v}}}$\n",
       "$\\newcommand{\\HeII}{\\mbox{He \\textsc{ii}}}$\n",
       "$\\newcommand{\\FeII}{\\mbox{Fe \\textsc{ii}}}$\n",
       "$\\newcommand{\\MgII}{\\mbox{Mg \\textsc{ii}}}$\n",
       "$\\newcommand{\\OI}{\\mbox{O \\textsc{i}}}$\n",
       "$\\newcommand{\\Lya}{Ly\\alpha}$\n",
       "$\\newcommand{\\kms}{ km s^{-1}}$\n",
       "$\\newcommand{\\dndx}{dn/dX}$\n",
       "$\\newcommand{\\bibtex}{\\textsc{Bib}\\!\\TeX}$\n",
       "$\\newcommand{\\appropto}{\\mathrel{\\vcenter{$\n",
       "$  \\offinterlineskip\\halign{\\hfil##\\cr$\n",
       "$    \\propto\\cr\\noalign{\\kern2pt}\\sim\\cr\\noalign{\\kern-2pt}}}}}$</div>\n",
       "\n",
       "\n",
       "\n",
       "<div id=\"title\">\n",
       "\n",
       "# Examining the Decline in the C IV Content of the Universe over \\mbox{4.3 $\\lesssim z \\lesssim$ 6.3} using the E-XQR-30 Sample\n",
       "\n",
       "</div>\n",
       "<div id=\"comments\">\n",
       "\n",
       "[![arXiv](https://img.shields.io/badge/arXiv-2303.02816-b31b1b.svg)](https://arxiv.org/abs/2303.02816)<mark>Appeared on: 2023-03-07</mark> - _20 pages, 8 figures, 4 tables. Published in MNRAS_\n",
       "\n",
       "</div>\n",
       "<div id=\"authors\">\n",
       "\n",
       "<mark><mark>Rebecca L. Davies</mark></mark>, et al. -- incl., <mark><mark>Sarah E. I. Bosman</mark></mark>, <mark><mark>Romain A. Meyer</mark></mark>, <mark><mark>Frederick B. Davies</mark></mark>\n",
       "\n",
       "</div>\n",
       "<div id=\"abstract\">\n",
       "\n",
       "**Abstract:** Intervening \\CIV absorbers are key tracers of metal-enriched gas in galaxy halos over cosmic time. Previous studies suggest that the \\CIV cosmic mass density ( \\OmCIV ) decreases slowly over \\mbox{1.5 $\\lesssim z\\lesssim$ 5} before declining rapidly at \\mbox{$z\\gtrsim$ 5} , but the cause of this downturn is poorly understood. We characterize the \\OmCIV evolution over \\mbox{4.3 $\\lesssim z\\lesssim$ 6.3} using 260 absorbers found in 42 XSHOOTER spectra of $z\\sim$ 6 quasars, of which 30 come from the ESO Large Program XQR-30. The large sample enables us to robustly constrain the rate and timing of the downturn. We find that \\OmCIV decreases by a factor of 4.8 $\\pm$ 2.0 over the \\mbox{$\\sim$ 300 Myr} interval between $z\\sim$ 4.7 and $z\\sim$ 5.8. The slope of the column density ( $\\log N$ ) distribution function does not change, suggesting that \\CIV absorption is suppressed approximately uniformly across \\mbox{13.2 $\\leq\\log N$/cm$^{-2}$ $<$ 15.0} . Assuming that the carbon content of galaxy halos evolves as the integral of the cosmic star formation rate density (with some delay due to stellar lifetimes and outflow travel times), we show that chemical evolution alone could plausibly explain the fast decline in \\OmCIV over \\mbox{4.3 $\\lesssim z\\lesssim$ 6.3} . However, the \\CIV / \\CII ratio decreases at the highest redshifts, so the accelerated decline in \\OmCIV at $z\\gtrsim$ 5 may be more naturally explained by rapid changes in the gas ionization state driven by evolution of the UV background towards the end of hydrogen reionization.\n",
       "\n",
       "</div>\n",
       "\n",
       "<div id=\"div_fig1\">\n",
       "\n",
       "<img src=\"tmp_2303.02816/./CIV_sightlines.png\" alt=\"Fig4.1\" width=\"50%\"/><img src=\"tmp_2303.02816/./completeness_CIV.png\" alt=\"Fig4.2\" width=\"50%\"/>\n",
       "\n",
       "**Figure 4. -** Left: Illustration of the $\\CI$V absorber sample. Horizontal lines show the redshift intervals over which the search for $\\CI$V absorbers was conducted for each of the 42 quasar sightlines. Grey dashed regions highlight proximity zones within 10,000 $\\kms$ of the quasar redshift. Longer gaps trace redshift intervals where the $\\CI$V lines fall within BAL features or regions that were masked due to strong skyline or telluric contamination. The markers show all $\\CI$V absorbers in the catalog, where solid circles indicate primary absorbers (those that were automatically identified, pass the visual inspection check, and do not fall in masked wavelength regions or BAL regions) and open squares indicate secondary absorbers (all others). Proximate absorbers are shown in black. The intervening absorbers are split into two redshift bins (indicated by the marker color), divided at the path-length-weighted mean redshift of our survey. Right: Completeness as a function of column density for $\\CI$V absorbers in the two redshift intervals considered in \\citetalias{Davies22Survey}. The dashed lines show the best-fit arctan functions published in that work. (*fig:completeness*)\n",
       "\n",
       "</div>\n",
       "<div id=\"div_fig2\">\n",
       "\n",
       "<img src=\"tmp_2303.02816/./C_ion_fractions_13.2_15.0.png\" alt=\"Fig2\" width=\"100%\"/>\n",
       "\n",
       "**Figure 2. -** Bar graph illustrating the contribution of $\\CI$V and $\\CI$I to the cosmic mass density of carbon in each redshift bin. Vertical lines illustrate the measurement errors and are centered on the path-length-weighted mean redshift of each bin with small offsets added for clarity. We are unable to measure $\\OmCII$ in the two lowest redshift bins due to the saturation of the $\\Lya$ forest. The evolving balance between $\\OmCII$ and $\\OmCIV$ across the two highest redshift bins suggests that changes in the UV background driven by hydrogen reionization may contribute to the decline in $\\OmCIV$. (*fig:carbon_ion_fractions*)\n",
       "\n",
       "</div>\n",
       "<div id=\"div_fig3\">\n",
       "\n",
       "<img src=\"tmp_2303.02816/./c_ion_modelling.png\" alt=\"Fig3\" width=\"100%\"/>\n",
       "\n",
       "**Figure 3. -** Illustration of the possible ranges of gas densities probed by different ionization states of carbon at $z$ = 5 and $z$ = 6. The curves are the outputs of cloudy photoionization models. We fix the gas temperature to 10$^4$ K and adopt the 2011 update of the \\citet{FaucherGiguere09} ionizing spectrum with a density-dependent correction for gas self-shielding as described in \\citet{Keating16}. The ionizing spectrum is re-scaled at each redshift to match the H i photoionization rates measured by \\citet{Calverley11}. (*fig:cloudy_modelling*)\n",
       "\n",
       "</div>"
      ],
      "text/plain": [
       "<IPython.core.display.Markdown object>"
      ]
     },
     "metadata": {},
     "output_type": "display_data"
    }
   ],
   "source": [
    "[display(Markdown(k[1])) for k in documents];"
   ]
  },
  {
   "cell_type": "markdown",
   "id": "873873a4",
   "metadata": {
    "papermill": {
     "duration": 0.008899,
     "end_time": "2023-03-07T16:15:15.202569",
     "exception": false,
     "start_time": "2023-03-07T16:15:15.193670",
     "status": "completed"
    },
    "tags": []
   },
   "source": [
    "# Create HTML index"
   ]
  },
  {
   "cell_type": "code",
   "execution_count": 10,
   "id": "cf665672",
   "metadata": {
    "execution": {
     "iopub.execute_input": "2023-03-07T16:15:15.221666Z",
     "iopub.status.busy": "2023-03-07T16:15:15.221436Z",
     "iopub.status.idle": "2023-03-07T16:15:15.232481Z",
     "shell.execute_reply": "2023-03-07T16:15:15.231824Z"
    },
    "papermill": {
     "duration": 0.02246,
     "end_time": "2023-03-07T16:15:15.233923",
     "exception": false,
     "start_time": "2023-03-07T16:15:15.211463",
     "status": "completed"
    },
    "tags": []
   },
   "outputs": [
    {
     "name": "stdout",
     "output_type": "stream",
     "text": [
      "219  publications in the last 7 days.\n",
      "\t _build/html/2303.02816.md\n",
      "\t _build/html/2303.01528.md\n",
      "\t _build/html/2303.00044.md\n",
      "\t _build/html/2303.00012.md\n",
      "\t _build/html/2302.14137.md\n",
      "\t _build/html/2302.12805.md\n",
      "\t _build/html/2302.10943.md\n",
      "\t _build/html/2302.10528.md\n",
      "\t _build/html/2302.10008.md\n",
      "\t _build/html/2302.08962.md\n",
      "\t _build/html/2302.08628.md\n",
      "\t _build/html/2302.07916.md\n",
      "\t _build/html/2302.07880.md\n",
      "\t _build/html/2302.07497.md\n",
      "\t _build/html/2302.07277.md\n",
      "\t _build/html/2302.07256.md\n",
      "\t _build/html/2302.07234.md\n",
      "\t _build/html/2302.07057.md\n",
      "\t _build/html/2302.05694.md\n",
      "\t _build/html/2302.05465.md\n",
      "\t _build/html/2302.04507.md\n",
      "\t _build/html/2302.04239.md\n",
      "\t _build/html/2302.04138.md\n",
      "\t _build/html/2302.03699.md\n",
      "\t _build/html/2302.03576.md\n",
      "\t _build/html/2302.03042.md\n",
      "\t _build/html/2302.03039.md\n",
      "\t _build/html/2302.02890.md\n",
      "\t _build/html/2302.02611.md\n",
      "\t _build/html/2302.02429.md\n",
      "\t _build/html/2302.01678.md\n",
      "\t _build/html/2302.00450.md\n",
      "\t _build/html/2301.13766.md\n",
      "\t _build/html/2301.13526.md\n",
      "\t _build/html/2301.12890.md\n",
      "\t _build/html/2301.11942.md\n",
      "\t _build/html/2301.10717.md\n",
      "\t _build/html/2301.10666.md\n",
      "\t _build/html/2301.10496.md\n",
      "\t _build/html/2301.09621.md\n",
      "\t _build/html/2301.09140.md\n",
      "\t _build/html/2301.08770.md\n",
      "\t _build/html/2301.08310.md\n",
      "\t _build/html/2301.07990.md\n",
      "\t _build/html/2301.07366.md\n",
      "\t _build/html/2301.07199.md\n",
      "\t _build/html/2301.07116.md\n",
      "\t _build/html/2301.06873.md\n",
      "\t _build/html/2301.06819.md\n",
      "\t _build/html/2301.06575.md\n",
      "\t _build/html/2301.05720.md\n",
      "\t _build/html/2301.05718.md\n",
      "\t _build/html/2301.05034.md\n",
      "\t _build/html/2301.04656.md\n",
      "\t _build/html/2301.04533.md\n",
      "\t _build/html/2301.04442.md\n",
      "\t _build/html/2301.03811.md\n",
      "\t _build/html/2301.03689.md\n",
      "\t _build/html/2301.03387.md\n",
      "\t _build/html/2301.03209.md\n",
      "\t _build/html/2301.02671.md\n",
      "\t _build/html/2301.02477.md\n",
      "\t _build/html/2301.02313.md\n",
      "\t _build/html/2301.02265.md\n",
      "\t _build/html/2301.01937.md\n",
      "\t _build/html/2301.01895.md\n",
      "\t _build/html/2301.01684.md\n",
      "\t _build/html/2301.01306.md\n",
      "\t _build/html/2301.00881.md\n",
      "\t _build/html/2301.00854.md\n",
      "\t _build/html/2301.00578.md\n",
      "\t _build/html/2212.12039.md\n",
      "\t _build/html/2212.11991.md\n",
      "\t _build/html/2212.11425.md\n",
      "\t _build/html/2212.11177.md\n",
      "\t _build/html/2212.10804.md\n",
      "\t _build/html/2212.10512.md\n",
      "\t _build/html/2212.09766.md\n",
      "\t _build/html/2212.09675.md\n",
      "\t _build/html/2212.09661.md\n",
      "\t _build/html/2212.09652.md\n",
      "\t _build/html/2212.09443.md\n",
      "\t _build/html/2212.09307.md\n",
      "\t _build/html/2212.09168.md\n",
      "\t _build/html/2212.09159.md\n",
      "\t _build/html/2212.08702.md\n",
      "\t _build/html/2212.07332.md\n",
      "\t _build/html/2212.06434.md\n",
      "\t _build/html/2212.04710.md\n",
      "\t _build/html/2212.04026.md\n",
      "\t _build/html/2212.03563.md\n",
      "\t _build/html/2212.03514.md\n",
      "\t _build/html/2212.02667.md\n",
      "\t _build/html/2212.02627.md\n",
      "\t _build/html/2212.02235.md\n",
      "\t _build/html/2212.01707.md\n",
      "\t _build/html/2212.01526.md\n",
      "\t _build/html/2212.01397.md\n",
      "\t _build/html/2212.01291.md\n",
      "\t _build/html/2212.01281.md\n",
      "\t _build/html/2212.00812.md\n",
      "\t _build/html/2212.00811.md\n",
      "\t _build/html/2212.00806.md\n",
      "\t _build/html/2212.00047.md\n",
      "\t _build/html/2212.00032.md\n",
      "\t _build/html/2211.16996.md\n",
      "\t _build/html/2211.16510.md\n",
      "\t _build/html/2211.16123.md\n",
      "\t _build/html/2211.15816.md\n",
      "\t _build/html/2211.15698.md\n",
      "\t _build/html/2211.15576.md\n",
      "\t _build/html/2211.15434.md\n",
      "\t _build/html/2211.15288.md\n",
      "\t _build/html/2211.15224.md\n",
      "\t _build/html/2211.14543.md\n",
      "\t _build/html/2211.14330.md\n",
      "\t _build/html/2211.14322.md\n",
      "\t _build/html/2211.14132.md\n",
      "\t _build/html/2211.13811.md\n",
      "\t _build/html/2211.13426.md\n",
      "\t _build/html/2211.13318.md\n",
      "\t _build/html/2211.13146.md\n",
      "\t _build/html/2211.12613.md\n",
      "\t _build/html/2211.11767.md\n",
      "\t _build/html/2211.09840.md\n",
      "\t _build/html/2211.09217.md\n",
      "\t _build/html/2211.08493.md\n",
      "\t _build/html/2211.08487.md\n",
      "\t _build/html/2211.08294.md\n",
      "\t _build/html/2211.07667.md\n",
      "\t _build/html/2211.07659.md\n",
      "\t _build/html/2211.06454.md\n",
      "\t _build/html/2211.06205.md\n",
      "\t _build/html/2211.06194.md\n",
      "\t _build/html/2211.05022.md\n",
      "\t _build/html/2211.04048.md\n",
      "\t _build/html/2211.03641.md\n",
      "\t _build/html/2211.02502.md\n",
      "\t _build/html/2211.01474.md\n",
      "\t _build/html/2211.00667.md\n",
      "\t _build/html/2211.00657.md\n",
      "\t _build/html/2211.00087.md\n",
      "\t _build/html/2211.00036.md\n",
      "\t _build/html/2211.00020.md\n",
      "\t _build/html/2211.00010.md\n",
      "\t _build/html/2210.17434.md\n",
      "\t _build/html/2210.12412.md\n",
      "\t _build/html/2210.11926.md\n",
      "\t _build/html/2210.11551.md\n",
      "\t _build/html/2210.11103.md\n",
      "\t _build/html/2210.10707.md\n",
      "\t _build/html/2210.09930.md\n",
      "\t _build/html/2210.08996.md\n",
      "\t _build/html/2210.08517.md\n",
      "\t _build/html/2210.08510.md\n",
      "\t _build/html/2210.08078.md\n",
      "\t _build/html/2210.06504.md\n",
      "\t _build/html/2210.05695.md\n",
      "\t _build/html/2210.05595.md\n",
      "\t _build/html/2210.05505.md\n",
      "\t _build/html/2210.04721.md\n",
      "\t _build/html/2210.03615.md\n",
      "\t _build/html/2210.01811.md\n",
      "\t _build/html/2210.01809.md\n",
      "\t _build/html/2210.01556.md\n",
      "\t _build/html/2210.00863.md\n",
      "\t _build/html/2210.00560.md\n",
      "\t _build/html/2209.15403.md\n",
      "\t _build/html/2209.15110.md\n",
      "\t _build/html/2209.14410.md\n",
      "\t _build/html/2209.14396.md\n",
      "\t _build/html/2209.13717.md\n",
      "\t _build/html/2209.13336.md\n",
      "\t _build/html/2209.12906.md\n",
      "\t _build/html/2209.11781.md\n",
      "\t _build/html/2209.11602.md\n",
      "\t _build/html/2209.11248.md\n",
      "\t _build/html/2209.11096.md\n",
      "\t _build/html/2209.10618.md\n",
      "\t _build/html/2209.09914.md\n",
      "\t _build/html/2209.09823.md\n",
      "\t _build/html/2209.08242.md\n",
      "\t _build/html/2209.08120.md\n",
      "\t _build/html/2209.08106.md\n",
      "\t _build/html/2209.07962.md\n",
      "\t _build/html/2209.07931.md\n",
      "\t _build/html/2209.06833.md\n",
      "\t _build/html/2209.05814.md\n",
      "\t _build/html/2209.05593.md\n",
      "\t _build/html/2209.04304.md\n",
      "\t _build/html/2209.03367.md\n",
      "\t _build/html/2209.02872.md\n",
      "\t _build/html/2209.02725.md\n",
      "\t _build/html/2209.02722.md\n",
      "\t _build/html/2209.02092.md\n",
      "\t _build/html/2209.01125.md\n",
      "\t _build/html/2209.00828.md\n",
      "\t _build/html/2209.00363.md\n",
      "\t _build/html/2208.14927.md\n",
      "\t _build/html/2208.09335.md\n",
      "\t _build/html/2208.08872.md\n",
      "\t _build/html/2204.06393.md\n",
      "\t _build/html/2204.03335.md\n",
      "\t _build/html/2204.03253.md\n",
      "\t _build/html/2204.02998.md\n",
      "\t _build/html/2204.02109.md\n",
      "\t _build/html/2204.02017.md\n",
      "\t _build/html/2204.01824.md\n",
      "\t _build/html/2204.01758.md\n",
      "\t _build/html/2204.01245.md\n",
      "\t _build/html/2204.00793.md\n",
      "\t _build/html/2204.00342.md\n",
      "\t _build/html/2203.16959.md\n",
      "\t _build/html/2203.16856.md\n",
      "\t _build/html/2203.16735.md\n",
      "\t _build/html/2203.16734.md\n",
      "\t _build/html/2203.16504.md\n",
      "\t _build/html/2203.15822.md\n",
      "\t _build/html/2203.15811.md\n"
     ]
    }
   ],
   "source": [
    "from datetime import datetime, timedelta, timezone\n",
    "from glob import glob\n",
    "\n",
    "files = glob('_build/html/*.md')\n",
    "days = 7\n",
    "now = datetime.today()\n",
    "res = []\n",
    "for fk in files:\n",
    "    stat_result = os.stat(fk).st_ctime\n",
    "    modified = datetime.fromtimestamp(stat_result, tz=timezone.utc).replace(tzinfo=None)\n",
    "    delta = now.today() - modified\n",
    "    if delta <= timedelta(days=days):\n",
    "        res.append((delta.seconds, fk))\n",
    "res = [k[1] for k in reversed(sorted(res, key=lambda x:x[1]))]\n",
    "npub = len(res)\n",
    "print(len(res), f\" publications in the last {days:d} days.\")\n",
    "[ print('\\t', k) for k in res ];"
   ]
  },
  {
   "cell_type": "code",
   "execution_count": 11,
   "id": "015de740",
   "metadata": {
    "execution": {
     "iopub.execute_input": "2023-03-07T16:15:15.253735Z",
     "iopub.status.busy": "2023-03-07T16:15:15.253162Z",
     "iopub.status.idle": "2023-03-07T16:15:15.274747Z",
     "shell.execute_reply": "2023-03-07T16:15:15.274184Z"
    },
    "papermill": {
     "duration": 0.033854,
     "end_time": "2023-03-07T16:15:15.277060",
     "exception": false,
     "start_time": "2023-03-07T16:15:15.243206",
     "status": "completed"
    },
    "tags": []
   },
   "outputs": [
    {
     "name": "stdout",
     "output_type": "stream",
     "text": [
      "5  publications in the last 7 days.\n"
     ]
    }
   ],
   "source": [
    "import datetime\n",
    "from glob import glob\n",
    "\n",
    "def get_last_n_days(lst, days=1):\n",
    "    \"\"\" Get the documents from the last n days \"\"\"\n",
    "    sorted_lst = sorted(lst, key=lambda x: x[1], reverse=True)\n",
    "    for fname, date in sorted_lst:\n",
    "        if date >= str(datetime.date.today() - datetime.timedelta(days=days)):\n",
    "            yield fname\n",
    "\n",
    "def extract_appearance_dates(lst_file):\n",
    "    dates = []\n",
    "\n",
    "    def get_date(line):\n",
    "        return line\\\n",
    "            .split('Appeared on:')[-1]\\\n",
    "            .split('</mark>')[0].strip()\n",
    "\n",
    "    for fname in lst:\n",
    "        with open(fname, 'r') as f:\n",
    "            found_date = False\n",
    "            for line in f:\n",
    "                if not found_date:\n",
    "                    if \"Appeared on\" in line:\n",
    "                        found_date = True\n",
    "                        dates.append((fname, get_date(line)))\n",
    "                else:\n",
    "                    break\n",
    "    return dates\n",
    "\n",
    "from glob import glob\n",
    "lst = glob('_build/html/*md')\n",
    "days = 7\n",
    "dates = extract_appearance_dates(lst)\n",
    "res = list(get_last_n_days(dates, days))\n",
    "npub = len(res)\n",
    "print(len(res), f\" publications in the last {days:d} days.\")"
   ]
  },
  {
   "cell_type": "code",
   "execution_count": 12,
   "id": "52ca0208",
   "metadata": {
    "execution": {
     "iopub.execute_input": "2023-03-07T16:15:15.296741Z",
     "iopub.status.busy": "2023-03-07T16:15:15.296508Z",
     "iopub.status.idle": "2023-03-07T16:15:15.300692Z",
     "shell.execute_reply": "2023-03-07T16:15:15.300053Z"
    },
    "papermill": {
     "duration": 0.016133,
     "end_time": "2023-03-07T16:15:15.302387",
     "exception": false,
     "start_time": "2023-03-07T16:15:15.286254",
     "status": "completed"
    },
    "scrolled": false,
    "tags": []
   },
   "outputs": [],
   "source": [
    "def create_carousel(npub=4):\n",
    "    \"\"\" Generate the HTML code for a carousel with `npub` slides \"\"\"\n",
    "    carousel = [\"\"\"  <div class=\"carousel\" \"\"\",\n",
    "                \"\"\"       data-flickity='{ \"autoPlay\": 10000, \"adaptiveHeight\": true, \"resize\": true, \"wrapAround\": true, \"pauseAutoPlayOnHover\": true, \"groupCells\": 1 }' id=\"asyncTypeset\">\"\"\"\n",
    "                ]\n",
    "    \n",
    "    item_str = \"\"\"    <div class=\"carousel-cell\"> <div id=\"slide{k}\" class=\"md_view\">Content {k}</div> </div>\"\"\"\n",
    "    for k in range(1, npub + 1):\n",
    "        carousel.append(item_str.format(k=k))\n",
    "    carousel.append(\"  </div>\")\n",
    "    return '\\n'.join(carousel)"
   ]
  },
  {
   "cell_type": "code",
   "execution_count": 13,
   "id": "a6eac5b6",
   "metadata": {
    "execution": {
     "iopub.execute_input": "2023-03-07T16:15:15.322310Z",
     "iopub.status.busy": "2023-03-07T16:15:15.322089Z",
     "iopub.status.idle": "2023-03-07T16:15:15.327040Z",
     "shell.execute_reply": "2023-03-07T16:15:15.326548Z"
    },
    "papermill": {
     "duration": 0.016618,
     "end_time": "2023-03-07T16:15:15.328399",
     "exception": false,
     "start_time": "2023-03-07T16:15:15.311781",
     "status": "completed"
    },
    "scrolled": false,
    "tags": []
   },
   "outputs": [],
   "source": [
    "carousel = create_carousel(npub)\n",
    "docs = ', '.join(['\"{0:s}\"'.format(k.split('/')[-1]) for k in res])\n",
    "slides = ', '.join([f'\"slide{k}\"' for k in range(1, npub + 1)])\n",
    "\n",
    "with open(\"daily_template.html\", \"r\") as tpl:\n",
    "    page = tpl.read()\n",
    "    page = page.replace(\"{%-- carousel:s --%}\", carousel)\\\n",
    "               .replace(\"{%-- suptitle:s --%}\",  \"7-day archives\" )\\\n",
    "               .replace(\"{%-- docs:s --%}\", docs)\\\n",
    "               .replace(\"{%-- slides:s --%}\", slides)\n",
    "    \n",
    "with open(\"_build/html/index_7days.html\", 'w') as fout:\n",
    "    fout.write(page)"
   ]
  },
  {
   "cell_type": "code",
   "execution_count": 14,
   "id": "adc1a1ec",
   "metadata": {
    "execution": {
     "iopub.execute_input": "2023-03-07T16:15:15.374981Z",
     "iopub.status.busy": "2023-03-07T16:15:15.374293Z",
     "iopub.status.idle": "2023-03-07T16:15:15.381481Z",
     "shell.execute_reply": "2023-03-07T16:15:15.380852Z"
    },
    "papermill": {
     "duration": 0.045201,
     "end_time": "2023-03-07T16:15:15.382904",
     "exception": false,
     "start_time": "2023-03-07T16:15:15.337703",
     "status": "completed"
    },
    "tags": []
   },
   "outputs": [
    {
     "name": "stdout",
     "output_type": "stream",
     "text": [
      "2  publications in the last day.\n"
     ]
    }
   ],
   "source": [
    "# redo for today\n",
    "days = 1\n",
    "res = list(get_last_n_days(dates, days))\n",
    "npub = len(res)\n",
    "print(len(res), f\" publications in the last day.\")\n",
    "\n",
    "carousel = create_carousel(npub)\n",
    "docs = ', '.join(['\"{0:s}\"'.format(k.split('/')[-1]) for k in res])\n",
    "slides = ', '.join([f'\"slide{k}_content\"' for k in range(1, npub + 1)])\n",
    "\n",
    "with open(\"daily_template.html\", \"r\") as tpl:\n",
    "    page = tpl.read()\n",
    "    page = page.replace(\"{%-- carousel:s --%}\", carousel)\\\n",
    "               .replace(\"{%-- suptitle:s --%}\",  \"Daily\" )\\\n",
    "               .replace(\"{%-- docs:s --%}\", docs)\\\n",
    "               .replace(\"{%-- slides:s --%}\", slides)\n",
    "    \n",
    "\n",
    "with open(\"_build/html/index_daily.html\", 'w') as fout:\n",
    "    fout.write(page)"
   ]
  }
 ],
 "metadata": {
  "kernelspec": {
   "display_name": "Python 3 (ipykernel)",
   "language": "python",
   "name": "python3"
  },
  "language_info": {
   "codemirror_mode": {
    "name": "ipython",
    "version": 3
   },
   "file_extension": ".py",
   "mimetype": "text/x-python",
   "name": "python",
   "nbconvert_exporter": "python",
   "pygments_lexer": "ipython3",
   "version": "3.9.16"
  },
  "papermill": {
   "default_parameters": {},
   "duration": 62.483498,
   "end_time": "2023-03-07T16:15:15.609639",
   "environment_variables": {},
   "exception": null,
   "input_path": "MPIA daily digest.ipynb",
   "output_path": "log.ipynb",
   "parameters": {},
   "start_time": "2023-03-07T16:14:13.126141",
   "version": "2.4.0"
  },
  "vscode": {
   "interpreter": {
    "hash": "aee8b7b246df8f9039afb4144a1f6fd8d2ca17a180786b69acc140d282b71a49"
   }
  },
  "widgets": {
   "application/vnd.jupyter.widget-state+json": {
    "state": {
     "030906d311bf4fd78f512546234abc3d": {
      "model_module": "@jupyter-widgets/controls",
      "model_module_version": "2.0.0",
      "model_name": "ProgressStyleModel",
      "state": {
       "_model_module": "@jupyter-widgets/controls",
       "_model_module_version": "2.0.0",
       "_model_name": "ProgressStyleModel",
       "_view_count": null,
       "_view_module": "@jupyter-widgets/base",
       "_view_module_version": "2.0.0",
       "_view_name": "StyleView",
       "bar_color": null,
       "description_width": ""
      }
     },
     "1a591fde247a47cbaa6f8939fb00d983": {
      "model_module": "@jupyter-widgets/controls",
      "model_module_version": "2.0.0",
      "model_name": "HTMLStyleModel",
      "state": {
       "_model_module": "@jupyter-widgets/controls",
       "_model_module_version": "2.0.0",
       "_model_name": "HTMLStyleModel",
       "_view_count": null,
       "_view_module": "@jupyter-widgets/base",
       "_view_module_version": "2.0.0",
       "_view_name": "StyleView",
       "background": null,
       "description_width": "",
       "font_size": null,
       "text_color": null
      }
     },
     "1ef3f820efe7496387510ad70bf8489f": {
      "model_module": "@jupyter-widgets/controls",
      "model_module_version": "2.0.0",
      "model_name": "HTMLModel",
      "state": {
       "_dom_classes": [],
       "_model_module": "@jupyter-widgets/controls",
       "_model_module_version": "2.0.0",
       "_model_name": "HTMLModel",
       "_view_count": null,
       "_view_module": "@jupyter-widgets/controls",
       "_view_module_version": "2.0.0",
       "_view_name": "HTMLView",
       "description": "",
       "description_allow_html": false,
       "layout": "IPY_MODEL_b14094542a6f44a8bd9ce8f56ceac463",
       "placeholder": "​",
       "style": "IPY_MODEL_21e295ac9b614527b4e506b0323af3b2",
       "tabbable": null,
       "tooltip": null,
       "value": " 20/20 [00:35&lt;00:00,  1.26s/it]"
      }
     },
     "21e295ac9b614527b4e506b0323af3b2": {
      "model_module": "@jupyter-widgets/controls",
      "model_module_version": "2.0.0",
      "model_name": "HTMLStyleModel",
      "state": {
       "_model_module": "@jupyter-widgets/controls",
       "_model_module_version": "2.0.0",
       "_model_name": "HTMLStyleModel",
       "_view_count": null,
       "_view_module": "@jupyter-widgets/base",
       "_view_module_version": "2.0.0",
       "_view_name": "StyleView",
       "background": null,
       "description_width": "",
       "font_size": null,
       "text_color": null
      }
     },
     "2f65d748c3d6447b8b28fb87ab9a12e7": {
      "model_module": "@jupyter-widgets/base",
      "model_module_version": "2.0.0",
      "model_name": "LayoutModel",
      "state": {
       "_model_module": "@jupyter-widgets/base",
       "_model_module_version": "2.0.0",
       "_model_name": "LayoutModel",
       "_view_count": null,
       "_view_module": "@jupyter-widgets/base",
       "_view_module_version": "2.0.0",
       "_view_name": "LayoutView",
       "align_content": null,
       "align_items": null,
       "align_self": null,
       "border_bottom": null,
       "border_left": null,
       "border_right": null,
       "border_top": null,
       "bottom": null,
       "display": null,
       "flex": null,
       "flex_flow": null,
       "grid_area": null,
       "grid_auto_columns": null,
       "grid_auto_flow": null,
       "grid_auto_rows": null,
       "grid_column": null,
       "grid_gap": null,
       "grid_row": null,
       "grid_template_areas": null,
       "grid_template_columns": null,
       "grid_template_rows": null,
       "height": null,
       "justify_content": null,
       "justify_items": null,
       "left": null,
       "margin": null,
       "max_height": null,
       "max_width": null,
       "min_height": null,
       "min_width": null,
       "object_fit": null,
       "object_position": null,
       "order": null,
       "overflow": null,
       "padding": null,
       "right": null,
       "top": null,
       "visibility": null,
       "width": null
      }
     },
     "4f308746b0814e169a024fa97c9f9882": {
      "model_module": "@jupyter-widgets/base",
      "model_module_version": "2.0.0",
      "model_name": "LayoutModel",
      "state": {
       "_model_module": "@jupyter-widgets/base",
       "_model_module_version": "2.0.0",
       "_model_name": "LayoutModel",
       "_view_count": null,
       "_view_module": "@jupyter-widgets/base",
       "_view_module_version": "2.0.0",
       "_view_name": "LayoutView",
       "align_content": null,
       "align_items": null,
       "align_self": null,
       "border_bottom": null,
       "border_left": null,
       "border_right": null,
       "border_top": null,
       "bottom": null,
       "display": null,
       "flex": null,
       "flex_flow": null,
       "grid_area": null,
       "grid_auto_columns": null,
       "grid_auto_flow": null,
       "grid_auto_rows": null,
       "grid_column": null,
       "grid_gap": null,
       "grid_row": null,
       "grid_template_areas": null,
       "grid_template_columns": null,
       "grid_template_rows": null,
       "height": null,
       "justify_content": null,
       "justify_items": null,
       "left": null,
       "margin": null,
       "max_height": null,
       "max_width": null,
       "min_height": null,
       "min_width": null,
       "object_fit": null,
       "object_position": null,
       "order": null,
       "overflow": null,
       "padding": null,
       "right": null,
       "top": null,
       "visibility": null,
       "width": null
      }
     },
     "82ff502819094449a13b88c29b8885c6": {
      "model_module": "@jupyter-widgets/controls",
      "model_module_version": "2.0.0",
      "model_name": "HBoxModel",
      "state": {
       "_dom_classes": [],
       "_model_module": "@jupyter-widgets/controls",
       "_model_module_version": "2.0.0",
       "_model_name": "HBoxModel",
       "_view_count": null,
       "_view_module": "@jupyter-widgets/controls",
       "_view_module_version": "2.0.0",
       "_view_name": "HBoxView",
       "box_style": "",
       "children": [
        "IPY_MODEL_c275c40b30f0427ba9a5a405f7797a5a",
        "IPY_MODEL_bfd9d9ee20784f57b13865dddfa59f24",
        "IPY_MODEL_1ef3f820efe7496387510ad70bf8489f"
       ],
       "layout": "IPY_MODEL_2f65d748c3d6447b8b28fb87ab9a12e7",
       "tabbable": null,
       "tooltip": null
      }
     },
     "b14094542a6f44a8bd9ce8f56ceac463": {
      "model_module": "@jupyter-widgets/base",
      "model_module_version": "2.0.0",
      "model_name": "LayoutModel",
      "state": {
       "_model_module": "@jupyter-widgets/base",
       "_model_module_version": "2.0.0",
       "_model_name": "LayoutModel",
       "_view_count": null,
       "_view_module": "@jupyter-widgets/base",
       "_view_module_version": "2.0.0",
       "_view_name": "LayoutView",
       "align_content": null,
       "align_items": null,
       "align_self": null,
       "border_bottom": null,
       "border_left": null,
       "border_right": null,
       "border_top": null,
       "bottom": null,
       "display": null,
       "flex": null,
       "flex_flow": null,
       "grid_area": null,
       "grid_auto_columns": null,
       "grid_auto_flow": null,
       "grid_auto_rows": null,
       "grid_column": null,
       "grid_gap": null,
       "grid_row": null,
       "grid_template_areas": null,
       "grid_template_columns": null,
       "grid_template_rows": null,
       "height": null,
       "justify_content": null,
       "justify_items": null,
       "left": null,
       "margin": null,
       "max_height": null,
       "max_width": null,
       "min_height": null,
       "min_width": null,
       "object_fit": null,
       "object_position": null,
       "order": null,
       "overflow": null,
       "padding": null,
       "right": null,
       "top": null,
       "visibility": null,
       "width": null
      }
     },
     "bfd9d9ee20784f57b13865dddfa59f24": {
      "model_module": "@jupyter-widgets/controls",
      "model_module_version": "2.0.0",
      "model_name": "FloatProgressModel",
      "state": {
       "_dom_classes": [],
       "_model_module": "@jupyter-widgets/controls",
       "_model_module_version": "2.0.0",
       "_model_name": "FloatProgressModel",
       "_view_count": null,
       "_view_module": "@jupyter-widgets/controls",
       "_view_module_version": "2.0.0",
       "_view_name": "ProgressView",
       "bar_style": "success",
       "description": "",
       "description_allow_html": false,
       "layout": "IPY_MODEL_4f308746b0814e169a024fa97c9f9882",
       "max": 20.0,
       "min": 0.0,
       "orientation": "horizontal",
       "style": "IPY_MODEL_030906d311bf4fd78f512546234abc3d",
       "tabbable": null,
       "tooltip": null,
       "value": 20.0
      }
     },
     "c275c40b30f0427ba9a5a405f7797a5a": {
      "model_module": "@jupyter-widgets/controls",
      "model_module_version": "2.0.0",
      "model_name": "HTMLModel",
      "state": {
       "_dom_classes": [],
       "_model_module": "@jupyter-widgets/controls",
       "_model_module_version": "2.0.0",
       "_model_name": "HTMLModel",
       "_view_count": null,
       "_view_module": "@jupyter-widgets/controls",
       "_view_module_version": "2.0.0",
       "_view_name": "HTMLView",
       "description": "",
       "description_allow_html": false,
       "layout": "IPY_MODEL_de52f6458af744c986d431371cb39ca0",
       "placeholder": "​",
       "style": "IPY_MODEL_1a591fde247a47cbaa6f8939fb00d983",
       "tabbable": null,
       "tooltip": null,
       "value": "100%"
      }
     },
     "de52f6458af744c986d431371cb39ca0": {
      "model_module": "@jupyter-widgets/base",
      "model_module_version": "2.0.0",
      "model_name": "LayoutModel",
      "state": {
       "_model_module": "@jupyter-widgets/base",
       "_model_module_version": "2.0.0",
       "_model_name": "LayoutModel",
       "_view_count": null,
       "_view_module": "@jupyter-widgets/base",
       "_view_module_version": "2.0.0",
       "_view_name": "LayoutView",
       "align_content": null,
       "align_items": null,
       "align_self": null,
       "border_bottom": null,
       "border_left": null,
       "border_right": null,
       "border_top": null,
       "bottom": null,
       "display": null,
       "flex": null,
       "flex_flow": null,
       "grid_area": null,
       "grid_auto_columns": null,
       "grid_auto_flow": null,
       "grid_auto_rows": null,
       "grid_column": null,
       "grid_gap": null,
       "grid_row": null,
       "grid_template_areas": null,
       "grid_template_columns": null,
       "grid_template_rows": null,
       "height": null,
       "justify_content": null,
       "justify_items": null,
       "left": null,
       "margin": null,
       "max_height": null,
       "max_width": null,
       "min_height": null,
       "min_width": null,
       "object_fit": null,
       "object_position": null,
       "order": null,
       "overflow": null,
       "padding": null,
       "right": null,
       "top": null,
       "visibility": null,
       "width": null
      }
     }
    },
    "version_major": 2,
    "version_minor": 0
   }
  }
 },
 "nbformat": 4,
 "nbformat_minor": 5
}