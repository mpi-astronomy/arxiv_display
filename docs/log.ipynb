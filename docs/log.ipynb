{
 "cells": [
  {
   "cell_type": "markdown",
   "id": "92bcb855",
   "metadata": {
    "papermill": {
     "duration": 0.003872,
     "end_time": "2024-04-18T04:08:15.883100",
     "exception": false,
     "start_time": "2024-04-18T04:08:15.879228",
     "status": "completed"
    },
    "tags": []
   },
   "source": [
    "# MPIA Arxiv on Deck 2\n",
    "\n",
    "Contains the steps to produce the paper extractions."
   ]
  },
  {
   "cell_type": "code",
   "execution_count": 1,
   "id": "3a0d6e11",
   "metadata": {
    "execution": {
     "iopub.execute_input": "2024-04-18T04:08:15.890641Z",
     "iopub.status.busy": "2024-04-18T04:08:15.890098Z",
     "iopub.status.idle": "2024-04-18T04:08:16.199835Z",
     "shell.execute_reply": "2024-04-18T04:08:16.199222Z"
    },
    "papermill": {
     "duration": 0.31545,
     "end_time": "2024-04-18T04:08:16.201614",
     "exception": false,
     "start_time": "2024-04-18T04:08:15.886164",
     "status": "completed"
    },
    "tags": []
   },
   "outputs": [],
   "source": [
    "# Imports\n",
    "import os\n",
    "from IPython.display import Markdown, display\n",
    "from tqdm.notebook import tqdm\n",
    "import warnings\n",
    "from PIL import Image \n",
    "\n",
    "# requires arxiv_on_deck_2\n",
    "\n",
    "from arxiv_on_deck_2.arxiv2 import (get_new_papers, \n",
    "                                    get_paper_from_identifier,\n",
    "                                    retrieve_document_source, \n",
    "                                    get_markdown_badge)\n",
    "from arxiv_on_deck_2 import (latex,\n",
    "                             latex_bib,\n",
    "                             mpia,\n",
    "                             highlight_authors_in_list)\n",
    "\n",
    "# Sometimes images are really big\n",
    "Image.MAX_IMAGE_PIXELS = 1000000000 "
   ]
  },
  {
   "cell_type": "code",
   "execution_count": 2,
   "id": "22aa9d44",
   "metadata": {
    "execution": {
     "iopub.execute_input": "2024-04-18T04:08:16.208499Z",
     "iopub.status.busy": "2024-04-18T04:08:16.208235Z",
     "iopub.status.idle": "2024-04-18T04:08:16.213276Z",
     "shell.execute_reply": "2024-04-18T04:08:16.212656Z"
    },
    "papermill": {
     "duration": 0.009831,
     "end_time": "2024-04-18T04:08:16.214519",
     "exception": false,
     "start_time": "2024-04-18T04:08:16.204688",
     "status": "completed"
    },
    "tags": []
   },
   "outputs": [],
   "source": [
    "# Some useful definitions.\n",
    "\n",
    "class AffiliationWarning(UserWarning):\n",
    "    pass\n",
    "\n",
    "class AffiliationError(RuntimeError):\n",
    "    pass\n",
    "\n",
    "def validation(source: str):\n",
    "    \"\"\"Raises error paper during parsing of source file\n",
    "    \n",
    "    Allows checks before parsing TeX code.\n",
    "    \n",
    "    Raises AffiliationWarning\n",
    "    \"\"\"\n",
    "    check = mpia.affiliation_verifications(source, verbose=True)\n",
    "    if check is not True:\n",
    "        raise AffiliationError(\"mpia.affiliation_verifications: \" + check)\n",
    "\n",
    "        \n",
    "warnings.simplefilter('always', AffiliationWarning)\n",
    "\n",
    "\n",
    "def get_markdown_qrcode(paper_id: str):\n",
    "    \"\"\" Generate a qrcode to the arxiv page using qrserver.com\n",
    "    \n",
    "    :param paper: Arxiv paper\n",
    "    :returns: markdown text\n",
    "    \"\"\"\n",
    "    url = r\"https://api.qrserver.com/v1/create-qr-code/?size=100x100&data=\"\n",
    "    txt = f\"\"\"<img src={url}\"https://arxiv.org/abs/{paper_id}\">\"\"\"\n",
    "    txt = '<div id=\"qrcode\">' + txt + '</div>'\n",
    "    return txt"
   ]
  },
  {
   "cell_type": "markdown",
   "id": "14bd6310",
   "metadata": {
    "papermill": {
     "duration": 0.002699,
     "end_time": "2024-04-18T04:08:16.220039",
     "exception": false,
     "start_time": "2024-04-18T04:08:16.217340",
     "status": "completed"
    },
    "tags": []
   },
   "source": [
    "## get list of arxiv paper candidates\n",
    "\n",
    "We use the MPIA mitarbeiter list webpage from mpia.de to get author names\n",
    "We then get all new papers from Arxiv and match authors"
   ]
  },
  {
   "cell_type": "code",
   "execution_count": 3,
   "id": "2645e73a",
   "metadata": {
    "execution": {
     "iopub.execute_input": "2024-04-18T04:08:16.226656Z",
     "iopub.status.busy": "2024-04-18T04:08:16.226283Z",
     "iopub.status.idle": "2024-04-18T04:08:35.920350Z",
     "shell.execute_reply": "2024-04-18T04:08:35.919617Z"
    },
    "papermill": {
     "duration": 19.698888,
     "end_time": "2024-04-18T04:08:35.921721",
     "exception": false,
     "start_time": "2024-04-18T04:08:16.222833",
     "status": "completed"
    },
    "tags": []
   },
   "outputs": [
    {
     "name": "stdout",
     "output_type": "stream",
     "text": [
      "J. Liu  ->  J. Liu  |  ['J. Liu']\n",
      "P. Mollière  ->  P. Mollière  |  ['P. Mollière']\n",
      "Arxiv has 66 new papers today\n",
      "          2 with possible author matches\n"
     ]
    }
   ],
   "source": [
    "# get list from MPIA website\n",
    "# it automatically filters identified non-scientists :func:`mpia.filter_non_scientists`\n",
    "mpia_authors = mpia.get_mpia_mitarbeiter_list()\n",
    "normed_mpia_authors = [k[1] for k in mpia_authors]   # initials + fullname\n",
    "new_papers = get_new_papers()\n",
    "# add manual references\n",
    "add_paper_refs = []\n",
    "new_papers.extend([get_paper_from_identifier(k) for k in add_paper_refs])\n",
    "\n",
    "candidates = []\n",
    "for paperk in new_papers:\n",
    "    # Check author list with their initials\n",
    "    normed_author_list = [mpia.get_initials(k) for k in paperk['authors']]\n",
    "    hl_authors = highlight_authors_in_list(normed_author_list, normed_mpia_authors, verbose=True)\n",
    "    matches = [(hl, orig) for hl, orig in zip(hl_authors, paperk['authors']) if 'mark' in hl]\n",
    "    paperk['authors'] = hl_authors\n",
    "    if matches:\n",
    "        # only select paper if an author matched our list\n",
    "        candidates.append(paperk)\n",
    "print(\"\"\"Arxiv has {0:,d} new papers today\"\"\".format(len(new_papers)))        \n",
    "print(\"\"\"          {0:,d} with possible author matches\"\"\".format(len(candidates)))"
   ]
  },
  {
   "cell_type": "markdown",
   "id": "3543b34a",
   "metadata": {
    "papermill": {
     "duration": 0.002895,
     "end_time": "2024-04-18T04:08:35.927877",
     "exception": false,
     "start_time": "2024-04-18T04:08:35.924982",
     "status": "completed"
    },
    "tags": []
   },
   "source": [
    "# Parse sources and generate relevant outputs\n",
    "\n",
    "From the candidates, we do the following steps:\n",
    "* get their tarball from ArXiv (and extract data)\n",
    "* find the main .tex file: find one with \\documentclass{...} (sometimes it's non trivial)\n",
    "* Check affiliations with :func:`validation`, which uses :func:`mpia.affiliation_verifications`\n",
    "* If passing the affiliations: we parse the .tex source\n",
    "   * inject sub-documents into the main (flatten the main document)\n",
    "   * parse structure, extract information (title, abstract, authors, figures...)\n",
    "   * handles `\\graphicspath` if provided\n",
    "* Generate the .md document."
   ]
  },
  {
   "cell_type": "code",
   "execution_count": 4,
   "id": "9576b79e",
   "metadata": {
    "execution": {
     "iopub.execute_input": "2024-04-18T04:08:35.934962Z",
     "iopub.status.busy": "2024-04-18T04:08:35.934601Z",
     "iopub.status.idle": "2024-04-18T04:08:46.444465Z",
     "shell.execute_reply": "2024-04-18T04:08:46.443748Z"
    },
    "papermill": {
     "duration": 10.51566,
     "end_time": "2024-04-18T04:08:46.446494",
     "exception": false,
     "start_time": "2024-04-18T04:08:35.930834",
     "status": "completed"
    },
    "scrolled": false,
    "tags": []
   },
   "outputs": [
    {
     "data": {
      "application/vnd.jupyter.widget-view+json": {
       "model_id": "00b1beb7e12e429f9e772e5f65cf21e2",
       "version_major": 2,
       "version_minor": 0
      },
      "text/plain": [
       "  0%|          | 0/2 [00:00<?, ?it/s]"
      ]
     },
     "metadata": {},
     "output_type": "display_data"
    },
    {
     "name": "stdout",
     "output_type": "stream",
     "text": [
      "Retrieving document from  https://arxiv.org/e-print/2404.10956\n"
     ]
    },
    {
     "name": "stdout",
     "output_type": "stream",
     "text": [
      "extracting tarball to tmp_2404.10956... done.\n",
      "Retrieving document from  https://arxiv.org/e-print/2404.11523\n"
     ]
    },
    {
     "name": "stdout",
     "output_type": "stream",
     "text": [
      "extracting tarball to tmp_2404.11523..."
     ]
    },
    {
     "name": "stdout",
     "output_type": "stream",
     "text": [
      " done.\n"
     ]
    },
    {
     "name": "stderr",
     "output_type": "stream",
     "text": [
      "/opt/hostedtoolcache/Python/3.9.19/x64/lib/python3.9/site-packages/IPython/core/interactiveshell.py:3550: LatexWarning: Multiple tex files.\n",
      "\n",
      "  exec(code_obj, self.user_global_ns, self.user_ns)\n",
      "/opt/hostedtoolcache/Python/3.9.19/x64/lib/python3.9/site-packages/IPython/core/interactiveshell.py:3550: LatexWarning: Found documentclass in tmp_2404.11523/Main.tex\n",
      "\n",
      "  exec(code_obj, self.user_global_ns, self.user_ns)\n",
      "/opt/hostedtoolcache/Python/3.9.19/x64/lib/python3.9/site-packages/arxiv_on_deck_2/latex.py:399: LatexWarning: Latex injecting: 'properties.tex' from 'tmp_2404.11523/properties.tex'\n",
      "  warnings.warn(LatexWarning(f\"Latex injecting: '{ext}' from '{subsource}'\"))\n"
     ]
    },
    {
     "name": "stdout",
     "output_type": "stream",
     "text": [
      "P. Mollière  ->  P. Mollière  |  ['P. Mollière']\n"
     ]
    },
    {
     "name": "stdout",
     "output_type": "stream",
     "text": [
      "Found 95 bibliographic references in tmp_2404.11523/Main.bbl.\n",
      "syntax error in line 193: '=' expected\n"
     ]
    }
   ],
   "source": [
    "documents = []\n",
    "failed = []\n",
    "for paper in tqdm(candidates):\n",
    "    paper_id = paper['identifier'].lower().replace('arxiv:', '')\n",
    "    \n",
    "    folder = f'tmp_{paper_id}'\n",
    "\n",
    "    try:\n",
    "        if not os.path.isdir(folder):\n",
    "            folder = retrieve_document_source(f\"{paper_id}\", f'tmp_{paper_id}')\n",
    "        \n",
    "        try:\n",
    "            doc = latex.LatexDocument(folder, validation=validation)    \n",
    "        except AffiliationError as affilerror:\n",
    "            msg = f\"ArXiv:{paper_id:s} is not an MPIA paper... \" + str(affilerror)\n",
    "            failed.append((paper, \"affiliation error: \" + str(affilerror) ))\n",
    "            continue\n",
    "        \n",
    "        # Hack because sometimes author parsing does not work well\n",
    "        if (len(doc.authors) != len(paper['authors'])):\n",
    "            doc._authors = paper['authors']\n",
    "        else:\n",
    "            # highlight authors (FIXME: doc.highlight_authors)\n",
    "            # done on arxiv paper already\n",
    "            doc._authors = highlight_authors_in_list(\n",
    "                [mpia.get_initials(k) for k in doc.authors], \n",
    "                normed_mpia_authors, verbose=True)\n",
    "        if (doc.abstract) in (None, ''):\n",
    "            doc._abstract = paper['abstract']\n",
    "            \n",
    "        doc.comment = (get_markdown_badge(paper_id) + \n",
    "                       \"<mark>Appeared on: \" + paper['date'] + \"</mark> - \")\n",
    "        if paper['comments']:\n",
    "            doc.comment += \" _\" + paper['comments'] + \"_\"\n",
    "        \n",
    "        full_md = doc.generate_markdown_text()\n",
    "        \n",
    "        full_md += get_markdown_qrcode(paper_id)\n",
    "        \n",
    "        # replace citations\n",
    "        try:\n",
    "            bibdata = latex_bib.LatexBib.from_doc(doc)\n",
    "            full_md = latex_bib.replace_citations(full_md, bibdata)\n",
    "        except Exception as e:\n",
    "            print(e)\n",
    "        \n",
    "        documents.append((paper_id, full_md))\n",
    "    except Exception as e:\n",
    "        warnings.warn(latex.LatexWarning(f\"{paper_id:s} did not run properly\\n\" +\n",
    "                                         str(e)\n",
    "                                        ))\n",
    "        failed.append((paper, \"latex error \" + str(e)))"
   ]
  },
  {
   "cell_type": "markdown",
   "id": "2505a25c",
   "metadata": {
    "papermill": {
     "duration": 0.003521,
     "end_time": "2024-04-18T04:08:46.453756",
     "exception": false,
     "start_time": "2024-04-18T04:08:46.450235",
     "status": "completed"
    },
    "tags": []
   },
   "source": [
    "### Export the logs\n",
    "\n",
    "Throughout, we also keep track of the logs per paper. see `logs-{today date}.md` "
   ]
  },
  {
   "cell_type": "code",
   "execution_count": 5,
   "id": "d733828a",
   "metadata": {
    "execution": {
     "iopub.execute_input": "2024-04-18T04:08:46.461646Z",
     "iopub.status.busy": "2024-04-18T04:08:46.461229Z",
     "iopub.status.idle": "2024-04-18T04:08:46.473888Z",
     "shell.execute_reply": "2024-04-18T04:08:46.473281Z"
    },
    "papermill": {
     "duration": 0.01821,
     "end_time": "2024-04-18T04:08:46.475296",
     "exception": false,
     "start_time": "2024-04-18T04:08:46.457086",
     "status": "completed"
    },
    "scrolled": false,
    "tags": []
   },
   "outputs": [
    {
     "data": {
      "text/markdown": [
       "## Successful papers"
      ],
      "text/plain": [
       "<IPython.core.display.Markdown object>"
      ]
     },
     "metadata": {},
     "output_type": "display_data"
    },
    {
     "data": {
      "text/markdown": [
       "\n",
       "|||\n",
       "|---:|:---|\n",
       "| [![arXiv](https://img.shields.io/badge/arXiv-arXiv:2404.11523-b31b1b.svg)](https://arxiv.org/abs/arXiv:2404.11523) | **Fresh view of the hot brown dwarf HD 984 B through high-resolution  spectroscopy**  |\n",
       "|| J. C. Costes, et al. -- incl., <mark>P. Mollière</mark> |\n",
       "|*Appeared on*| *2024-04-18*|\n",
       "|*Comments*| *14 pages, 8 figures*|\n",
       "|**Abstract**| Context. High-resolution spectroscopy has the potential to drive a better understanding of the atmospheric composition, physics, and dynamics of young exoplanets and brown dwarfs, bringing clear insights into the formation channel of individual objects. Aims. Using the Keck Planet Imager and Characterizer (KPIC; R = 35,000), we aim to characterize a young brown dwarf HD 984 B. By measuring its C/O and 12CO/13CO ratios, we expect to gain new knowledge about its origin by confirming the difference in the formation pathways between brown dwarfs and super-Jupiters. Methods. We analysed the KPIC high-resolution spectrum (2.29-2.49 {\\mu}m) of HD 984 B using an atmospheric retrieval framework based on nested sampling and petitRADTRANS, using both clear and cloudy models. Results. Using our best-fit model, we find C/O = 0.50+0.01-0.01 (0.01 is the statistical error) for HD 984 B which agrees with that of its host star within 1{\\sigma} (0.40+0.20-0.20). We also retrieve an isotopolog 12CO/13CO ratio of 98+20-25 in its atmosphere, which is similar to that of the Sun. In addition, HD 984 B has a substellar metallicity with [Fe/H] = -0.62+0.02-0.02. Finally, we find that most of the retrieved parameters are independent of our choice of retrieval model. Conclusions. From our measured C/O and 12CO/13CO, the favored formation mechanism of HD 984 B seems to be via gravitational collapse or disk instability and not core accretion, which is a favored formation mechanism for giant exoplanets with m < 13 MJup and semimajor axis between 10 and 100 au. However, with only a few brown dwarfs with a measured 12CO/13CO ratio, similar analyses using high-resolution spectroscopy will become essential in order to determine planet formation processes more precisely. |"
      ],
      "text/plain": [
       "[arXiv:2404.11523] Fresh view of the hot brown dwarf HD 984 B through high-resolution  spectroscopy\n",
       "\tJ. C. Costes, et al. -- incl., <mark>P. Mollière</mark>"
      ]
     },
     "metadata": {},
     "output_type": "display_data"
    },
    {
     "data": {
      "text/markdown": [
       "## Failed papers"
      ],
      "text/plain": [
       "<IPython.core.display.Markdown object>"
      ]
     },
     "metadata": {},
     "output_type": "display_data"
    },
    {
     "data": {
      "text/markdown": [
       "\n",
       "|||\n",
       "|---:|:---|\n",
       "| [![arXiv](https://img.shields.io/badge/arXiv-arXiv:2404.10956-b31b1b.svg)](https://arxiv.org/abs/arXiv:2404.10956) | **Challenges to Inflation in the Post-Planck Era**  |\n",
       "|| <mark>J. Liu</mark>, F. Melia |\n",
       "|*Appeared on*| *2024-04-18*|\n",
       "|*Comments*| *10 pages, 2 figures. Accepted for publication in ApJ*|\n",
       "|**Abstract**| Space-based missions studying the cosmic microwave background (CMB) have progressively refined the parameter space in conventional models of inflation shortly ($\\sim 10^{-37}$ seconds) after the big bang. While most inflationary scenarios proposed thus far in the context of GR have since been ruled out, the basic idea of inflation may still be tenable, albeit with several unresolved conundrums, such as conflicting initial conditions and inconsistencies with the measured CMB power spectrum. In the new slow-roll inflationary picture, inflation arising in plateau-like potentials requires an initiation beyond the Planck time. This delay may be consistent with the cutoff, $k_{\\rm min}$, measured recently in the primordial power spectrum. However, the actual value of $k_{\\rm min}$ would imply an initiation time too far beyond the big bang for inflation to solve the horizon problem. In this paper, we also describe several other undesirable consequences of this delay, including an absence of well motivated initial conditions and a significant difficulty providing a viable mechanism for properly quantizing the primordial fluctuations. Nevertheless, many of these inconsistencies may still be avoided if one introduces non-conventional modifications to inflation, such as a brief departure from slow-roll dynamics, possibly due to a dramatic change in the inflationary potential, inflation driven by multiple fields, or a non-minimal coupling to gravity. In addition, some of these difficulties could be mitigated via the use of alternative cosmologies based, e.g., on loop quantum gravity, which replaces the initial big-bang singularity with finite conditions at a bounce-like beginning. |\n",
       "|<p style=\"color:green\"> **ERROR** </p>| <p style=\"color:green\">affiliation error: mpia.affiliation_verifications: 'Heidelberg' keyword not found.</p> |"
      ],
      "text/plain": [
       "<IPython.core.display.Markdown object>"
      ]
     },
     "metadata": {},
     "output_type": "display_data"
    }
   ],
   "source": [
    "import datetime\n",
    "today = str(datetime.date.today())\n",
    "logfile = f\"_build/html/logs/log-{today}.md\"\n",
    "\n",
    "\n",
    "with open(logfile, 'w') as logs:\n",
    "    # Success\n",
    "    logs.write(f'# Arxiv on Deck 2: Logs - {today}\\n\\n')\n",
    "    logs.write(\"\"\"* Arxiv had {0:,d} new papers\\n\"\"\".format(len(new_papers)))\n",
    "    logs.write(\"\"\"    * {0:,d} with possible author matches\\n\\n\"\"\".format(len(candidates)))\n",
    "    logs.write(\"## Sucessful papers\\n\\n\")\n",
    "    display(Markdown(\"## Successful papers\"))\n",
    "    success = [k[0] for k in documents]\n",
    "    for candid in candidates:\n",
    "        if candid['identifier'].split(':')[-1] in success:\n",
    "            display(candid)\n",
    "            logs.write(candid.generate_markdown_text() + '\\n\\n')\n",
    "\n",
    "    ## failed\n",
    "    logs.write(\"## Failed papers\\n\\n\")\n",
    "    display(Markdown(\"## Failed papers\"))\n",
    "    failed = sorted(failed, key=lambda x: x[1])\n",
    "    current_reason = \"\"\n",
    "    for paper, reason in failed:\n",
    "        if 'affiliation' in reason:\n",
    "            color = 'green'\n",
    "        else:\n",
    "            color = 'red'\n",
    "        data = Markdown(\n",
    "                paper.generate_markdown_text() + \n",
    "                f'\\n|<p style=\"color:{color:s}\"> **ERROR** </p>| <p style=\"color:{color:s}\">{reason:s}</p> |'\n",
    "               )\n",
    "        if reason != current_reason:\n",
    "            logs.write(f'### {reason:s} \\n\\n')\n",
    "            current_reason = reason\n",
    "        logs.write(data.data + '\\n\\n')\n",
    "        \n",
    "        # only display here the important errors (all in logs)\n",
    "        # if color in ('red',):\n",
    "        display(data)"
   ]
  },
  {
   "cell_type": "markdown",
   "id": "472d20ee",
   "metadata": {
    "papermill": {
     "duration": 0.003702,
     "end_time": "2024-04-18T04:08:46.483474",
     "exception": false,
     "start_time": "2024-04-18T04:08:46.479772",
     "status": "completed"
    },
    "tags": []
   },
   "source": [
    "## Export documents\n",
    "\n",
    "We now write the .md files and export relevant images"
   ]
  },
  {
   "cell_type": "code",
   "execution_count": 6,
   "id": "d426aed9",
   "metadata": {
    "execution": {
     "iopub.execute_input": "2024-04-18T04:08:46.492151Z",
     "iopub.status.busy": "2024-04-18T04:08:46.491677Z",
     "iopub.status.idle": "2024-04-18T04:08:46.497932Z",
     "shell.execute_reply": "2024-04-18T04:08:46.497326Z"
    },
    "papermill": {
     "duration": 0.012152,
     "end_time": "2024-04-18T04:08:46.499338",
     "exception": false,
     "start_time": "2024-04-18T04:08:46.487186",
     "status": "completed"
    },
    "tags": []
   },
   "outputs": [],
   "source": [
    "def export_markdown_summary(md: str, md_fname:str, directory: str):\n",
    "    \"\"\"Export MD document and associated relevant images\"\"\"\n",
    "    import os\n",
    "    import shutil\n",
    "    import re\n",
    "\n",
    "    if (os.path.exists(directory) and not os.path.isdir(directory)):\n",
    "        raise RuntimeError(f\"a non-directory file exists with name {directory:s}\")\n",
    "\n",
    "    if (not os.path.exists(directory)):\n",
    "        print(f\"creating directory {directory:s}\")\n",
    "        os.mkdir(directory)\n",
    "\n",
    "    fig_fnames = (re.compile(r'\\[Fig.*\\]\\((.*)\\)').findall(md) + \n",
    "                  re.compile(r'\\<img src=\"([^>\\s]*)\"[^>]*/>').findall(md))\n",
    "    for fname in fig_fnames:\n",
    "        if 'http' in fname:\n",
    "            # No need to copy online figures\n",
    "            continue\n",
    "        destdir = os.path.join(directory, os.path.dirname(fname))\n",
    "        destfname = os.path.join(destdir, os.path.basename(fname))\n",
    "        try:\n",
    "            os.makedirs(destdir)\n",
    "        except FileExistsError:\n",
    "            pass\n",
    "        shutil.copy(fname, destfname)\n",
    "    with open(os.path.join(directory, md_fname), 'w') as fout:\n",
    "        fout.write(md)\n",
    "    print(\"exported in \", os.path.join(directory, md_fname))\n",
    "    [print(\"    + \" + os.path.join(directory,fk)) for fk in fig_fnames]"
   ]
  },
  {
   "cell_type": "code",
   "execution_count": 7,
   "id": "014d04a4",
   "metadata": {
    "execution": {
     "iopub.execute_input": "2024-04-18T04:08:46.507964Z",
     "iopub.status.busy": "2024-04-18T04:08:46.507532Z",
     "iopub.status.idle": "2024-04-18T04:08:46.516821Z",
     "shell.execute_reply": "2024-04-18T04:08:46.516133Z"
    },
    "papermill": {
     "duration": 0.014961,
     "end_time": "2024-04-18T04:08:46.518089",
     "exception": false,
     "start_time": "2024-04-18T04:08:46.503128",
     "status": "completed"
    },
    "tags": []
   },
   "outputs": [
    {
     "name": "stdout",
     "output_type": "stream",
     "text": [
      "exported in  _build/html/2404.11523.md\n",
      "    + _build/html/tmp_2404.11523/./Plots/CCF.png\n",
      "    + _build/html/tmp_2404.11523/./Plots/NS_PTprofile.png\n",
      "    + _build/html/tmp_2404.11523/./Plots/NS_clear_full.png\n"
     ]
    }
   ],
   "source": [
    "for paper_id, md in documents:\n",
    "    export_markdown_summary(md, f\"{paper_id:s}.md\", '_build/html/')"
   ]
  },
  {
   "cell_type": "markdown",
   "id": "f087a0a7",
   "metadata": {
    "papermill": {
     "duration": 0.003801,
     "end_time": "2024-04-18T04:08:46.525805",
     "exception": false,
     "start_time": "2024-04-18T04:08:46.522004",
     "status": "completed"
    },
    "tags": []
   },
   "source": [
    "## Display the papers\n",
    "\n",
    "Not necessary but allows for a quick check."
   ]
  },
  {
   "cell_type": "code",
   "execution_count": 8,
   "id": "fd25f625",
   "metadata": {
    "execution": {
     "iopub.execute_input": "2024-04-18T04:08:46.534397Z",
     "iopub.status.busy": "2024-04-18T04:08:46.534026Z",
     "iopub.status.idle": "2024-04-18T04:08:46.538439Z",
     "shell.execute_reply": "2024-04-18T04:08:46.537848Z"
    },
    "papermill": {
     "duration": 0.010108,
     "end_time": "2024-04-18T04:08:46.539715",
     "exception": false,
     "start_time": "2024-04-18T04:08:46.529607",
     "status": "completed"
    },
    "scrolled": false,
    "tags": []
   },
   "outputs": [
    {
     "data": {
      "text/markdown": [
       "<div class=\"macros\" style=\"visibility:hidden;\">\n",
       "$\\newcommand{\\ensuremath}{}$\n",
       "$\\newcommand{\\xspace}{}$\n",
       "$\\newcommand{\\object}[1]{\\texttt{#1}}$\n",
       "$\\newcommand{\\farcs}{{.}''}$\n",
       "$\\newcommand{\\farcm}{{.}'}$\n",
       "$\\newcommand{\\arcsec}{''}$\n",
       "$\\newcommand{\\arcmin}{'}$\n",
       "$\\newcommand{\\ion}[2]{#1#2}$\n",
       "$\\newcommand{\\textsc}[1]{\\textrm{#1}}$\n",
       "$\\newcommand{\\hl}[1]{\\textrm{#1}}$\n",
       "$\\newcommand{\\footnote}[1]{}$\n",
       "$\\newcommand{\\Nstar}{HD~984}$\n",
       "$\\newcommand{\\NTstar}{HIP~115119}$\n",
       "$\\newcommand{\\NMstar}{HIP~95771}$\n",
       "$\\newcommand{\\Ncomp}{HD~984~B}$\n",
       "$\\newcommand{\\as}[1]{\\textcolor{blue}{\\bf #1}}$\n",
       "$\\newcommand{\\pRT}{\\texttt{petitRADTRANS}}$\n",
       "$\\newcommand{\\rev}[1]{\\textcolor{magenta}{\\textbf{#1}}\\xspace}$</div>\n",
       "\n",
       "\n",
       "\n",
       "<div id=\"title\">\n",
       "\n",
       "# Fresh view of the hot brown dwarf $\\Ncomp$ through high-resolution spectroscopy\n",
       "\n",
       "</div>\n",
       "<div id=\"comments\">\n",
       "\n",
       "[![arXiv](https://img.shields.io/badge/arXiv-2404.11523-b31b1b.svg)](https://arxiv.org/abs/2404.11523)<mark>Appeared on: 2024-04-18</mark> -  _14 pages, 8 figures_\n",
       "\n",
       "</div>\n",
       "<div id=\"authors\">\n",
       "\n",
       "J. C. Costes, et al. -- incl., <mark>P. Mollière</mark>\n",
       "\n",
       "</div>\n",
       "<div id=\"abstract\">\n",
       "\n",
       "**Abstract:** High-resolution spectroscopy has the potential to drive a better understanding of the atmospheric composition, physics, and dynamics of young exoplanets and brown dwarfs, bringing clear insights into the formation channel of individual objects. Using the Keck Planet Imager and Characterizer (KPIC; $\\mathrm{R \\approx 35,000}$ ), we aim to characterize a young brown dwarf $\\Ncomp$ . By measuring its C/O and $\\mathrm{^{12}CO/^{13}CO}$ ratios, we expect to gain new knowledge about its origin by confirming the difference in the formation pathways between brown dwarfs and super-Jupiters. We analysed the KPIC high-resolution spectrum (2.29–2.49 $\\mu$ m) of $\\Ncomp$ using an atmospheric retrieval framework based on nested sampling and $\\pRT$ , using both clear and cloudy models. Using our best-fit model, we find $\\rm{C/O}=0.50 \\pm 0.01$ (0.01 is the statistical error) for $\\Ncomp$ which agrees with that of its host star within 1 $\\sigma$ ( $0.40 \\pm 0.20$ ). We also retrieve an isotopolog $\\mathrm{^{12}CO/^{13}CO}$ ratio of $98^{+20}_{-25}$ in its atmosphere, which is similar to that of the Sun. In addition, $\\Ncomp$ has a substellar metallicity with $[$ Fe/H $] = -0.62^{+0.02}_{-0.02}$ . Finally, we find that most of the retrieved parameters are independent of our choice of retrieval model. From our measured C/O and $\\mathrm{^{12}CO/^{13}CO}$ , the favored formation mechanism of $\\Ncomp$ seems to be via gravitational collapse or disk instability and not core accretion, which is a favored formation mechanism for giant exoplanets with $m<13 \\mathrm{M_{Jup}}$ and semimajor axis between 10 and 100 au. However, with only a few brown dwarfs with a measured $\\mathrm{^{12}CO/^{13}CO}$ ratio, similar analyses using high-resolution spectroscopy will become essential in order to determine planet formation processes more precisely.\n",
       "\n",
       "</div>\n",
       "\n",
       "<div id=\"div_fig1\">\n",
       "\n",
       "<img src=\"tmp_2404.11523/./Plots/CCF.png\" alt=\"Fig4\" width=\"100%\"/>\n",
       "\n",
       "**Figure 4. -**  CCFs between the KPIC data (using the three orders from 2.29 to 2.49 $\\mu$m) and different models. Top panel: CCFs between the KPIC data and a BT-Settl model (see Section \\ref{Preliminary_Analysis}). The CCF for $\\Ncomp$ is plotted in blue, and for comparison, we add the CCF of the stellar data in gray. The autocorrelation of the planetary model is also shown in black. The standard deviation of the wings of the CCF were used to estimate its noise and to normalize the CCF. The dashed vertical gray and red lines show the expected and measured RV of the companion ($-23.4 \\mathrm{km s^{-1}}$ and $-25.8 \\mathrm{km s^{-1}}$, respectively). Bottom panels: CCFs showing the $H_2$O and CO detection from the same KPIC data after using single-molecule templates. (*fig:CCF*)\n",
       "\n",
       "</div>\n",
       "<div id=\"div_fig2\">\n",
       "\n",
       "<img src=\"tmp_2404.11523/./Plots/NS_PTprofile.png\" alt=\"Fig7\" width=\"100%\"/>\n",
       "\n",
       "**Figure 7. -**  The $\\mathrm{P-T}$ profile from our best-fit retrieval (model $\\mathrm{MgSiO_{3} + Fe}$). The best-fit profile is shown in black, and 200 random draws from the posterior are shown in blue. The condensation curves for different cloud species ($\\mathrm{MgSiO_{3}}$, Fe and $\\mathrm{Al_{2}O_{3}}$) are also plotted. In addition, we show multiple Sonora $\\mathrm{P-T}$ profiles as dashed lines \\citep{Marley2021} with similar properties as $\\Ncomp$. Finally, we plot the emission contribution function (in wavelength, top axis) as contours, which quantifies the relative importance of the emission in a given pressure layer to the total at a given wavelength \\citep{Molliere2019}. (*fig:PT_profile*)\n",
       "\n",
       "</div>\n",
       "<div id=\"div_fig3\">\n",
       "\n",
       "<img src=\"tmp_2404.11523/./Plots/NS_clear_full.png\" alt=\"Fig3\" width=\"100%\"/>\n",
       "\n",
       "**Figure 3. -**  Extended corner plot showing the posterior distribution for our clear model retrieval for $\\Ncomp$(see Section \\ref{clear model}). The titles at the top of each histogram show the median and 1$\\sigma$ error. (*fig:Corner_2*)\n",
       "\n",
       "</div><div id=\"qrcode\"><img src=https://api.qrserver.com/v1/create-qr-code/?size=100x100&data=\"https://arxiv.org/abs/2404.11523\"></div>"
      ],
      "text/plain": [
       "<IPython.core.display.Markdown object>"
      ]
     },
     "metadata": {},
     "output_type": "display_data"
    }
   ],
   "source": [
    "[display(Markdown(k[1])) for k in documents];"
   ]
  },
  {
   "cell_type": "markdown",
   "id": "873873a4",
   "metadata": {
    "papermill": {
     "duration": 0.004113,
     "end_time": "2024-04-18T04:08:46.548013",
     "exception": false,
     "start_time": "2024-04-18T04:08:46.543900",
     "status": "completed"
    },
    "tags": []
   },
   "source": [
    "# Create HTML index"
   ]
  },
  {
   "cell_type": "code",
   "execution_count": 9,
   "id": "cf665672",
   "metadata": {
    "execution": {
     "iopub.execute_input": "2024-04-18T04:08:46.557569Z",
     "iopub.status.busy": "2024-04-18T04:08:46.557045Z",
     "iopub.status.idle": "2024-04-18T04:08:46.567122Z",
     "shell.execute_reply": "2024-04-18T04:08:46.566515Z"
    },
    "papermill": {
     "duration": 0.01626,
     "end_time": "2024-04-18T04:08:46.568430",
     "exception": false,
     "start_time": "2024-04-18T04:08:46.552170",
     "status": "completed"
    },
    "tags": []
   },
   "outputs": [
    {
     "name": "stdout",
     "output_type": "stream",
     "text": [
      "405  publications files modified in the last 7 days.\n"
     ]
    }
   ],
   "source": [
    "from datetime import datetime, timedelta, timezone\n",
    "from glob import glob\n",
    "import os\n",
    "\n",
    "files = glob('_build/html/*.md')\n",
    "days = 7\n",
    "now = datetime.today()\n",
    "res = []\n",
    "for fk in files:\n",
    "    stat_result = os.stat(fk).st_ctime\n",
    "    modified = datetime.fromtimestamp(stat_result, tz=timezone.utc).replace(tzinfo=None)\n",
    "    delta = now.today() - modified\n",
    "    if delta <= timedelta(days=days):\n",
    "        res.append((delta.seconds, fk))\n",
    "res = [k[1] for k in reversed(sorted(res, key=lambda x:x[1]))]\n",
    "npub = len(res)\n",
    "print(len(res), f\" publications files modified in the last {days:d} days.\")\n",
    "# [ print('\\t', k) for k in res ];"
   ]
  },
  {
   "cell_type": "code",
   "execution_count": 10,
   "id": "015de740",
   "metadata": {
    "execution": {
     "iopub.execute_input": "2024-04-18T04:08:46.577854Z",
     "iopub.status.busy": "2024-04-18T04:08:46.577456Z",
     "iopub.status.idle": "2024-04-18T04:08:46.599919Z",
     "shell.execute_reply": "2024-04-18T04:08:46.599413Z"
    },
    "papermill": {
     "duration": 0.028623,
     "end_time": "2024-04-18T04:08:46.601240",
     "exception": false,
     "start_time": "2024-04-18T04:08:46.572617",
     "status": "completed"
    },
    "tags": []
   },
   "outputs": [
    {
     "name": "stdout",
     "output_type": "stream",
     "text": [
      "5  publications in the last 7 days.\n"
     ]
    }
   ],
   "source": [
    "import datetime\n",
    "from glob import glob\n",
    "\n",
    "def get_last_n_days(lst, days=1):\n",
    "    \"\"\" Get the documents from the last n days \"\"\"\n",
    "    sorted_lst = sorted(lst, key=lambda x: x[1], reverse=True)\n",
    "    for fname, date in sorted_lst:\n",
    "        if date >= str(datetime.date.today() - datetime.timedelta(days=days)):\n",
    "            yield fname\n",
    "\n",
    "def extract_appearance_dates(lst_file):\n",
    "    dates = []\n",
    "\n",
    "    def get_date(line):\n",
    "        return line\\\n",
    "            .split('Appeared on:')[-1]\\\n",
    "            .split('</mark>')[0].strip()\n",
    "\n",
    "    for fname in lst:\n",
    "        with open(fname, 'r') as f:\n",
    "            found_date = False\n",
    "            for line in f:\n",
    "                if not found_date:\n",
    "                    if \"Appeared on\" in line:\n",
    "                        found_date = True\n",
    "                        dates.append((fname, get_date(line)))\n",
    "                else:\n",
    "                    break\n",
    "    return dates\n",
    "\n",
    "from glob import glob\n",
    "lst = glob('_build/html/*md')\n",
    "days = 7\n",
    "dates = extract_appearance_dates(lst)\n",
    "res = list(get_last_n_days(dates, days))\n",
    "npub = len(res)\n",
    "print(len(res), f\" publications in the last {days:d} days.\")"
   ]
  },
  {
   "cell_type": "code",
   "execution_count": 11,
   "id": "52ca0208",
   "metadata": {
    "execution": {
     "iopub.execute_input": "2024-04-18T04:08:46.610961Z",
     "iopub.status.busy": "2024-04-18T04:08:46.610505Z",
     "iopub.status.idle": "2024-04-18T04:08:46.615427Z",
     "shell.execute_reply": "2024-04-18T04:08:46.614763Z"
    },
    "papermill": {
     "duration": 0.011166,
     "end_time": "2024-04-18T04:08:46.616774",
     "exception": false,
     "start_time": "2024-04-18T04:08:46.605608",
     "status": "completed"
    },
    "scrolled": false,
    "tags": []
   },
   "outputs": [],
   "source": [
    "def create_carousel(npub=4):\n",
    "    \"\"\" Generate the HTML code for a carousel with `npub` slides \"\"\"\n",
    "    carousel = [\"\"\"  <div class=\"carousel\" \"\"\",\n",
    "                \"\"\"       data-flickity='{ \"autoPlay\": 10000, \"adaptiveHeight\": true, \"resize\": true, \"wrapAround\": true, \"pauseAutoPlayOnHover\": true, \"groupCells\": 1 }' id=\"asyncTypeset\">\"\"\"\n",
    "                ]\n",
    "    \n",
    "    item_str = \"\"\"    <div class=\"carousel-cell\"> <div id=\"slide{k}\" class=\"md_view\">Content {k}</div> </div>\"\"\"\n",
    "    for k in range(1, npub + 1):\n",
    "        carousel.append(item_str.format(k=k))\n",
    "    carousel.append(\"  </div>\")\n",
    "    return '\\n'.join(carousel)\n",
    "\n",
    "def create_grid(npub=4):\n",
    "    \"\"\" Generate the HTML code for a flat grid with `npub` slides \"\"\"\n",
    "    grid = [\"\"\"  <div class=\"grid\"> \"\"\",\n",
    "                ]\n",
    "    \n",
    "    item_str = \"\"\"    <div class=\"grid-item\"> <div id=\"slide{k}\" class=\"md_view\">Content {k}</div> </div>\"\"\"\n",
    "    for k in range(1, npub + 1):\n",
    "        grid.append(item_str.format(k=k))\n",
    "    grid.append(\"  </div>\")\n",
    "    return '\\n'.join(grid)"
   ]
  },
  {
   "cell_type": "code",
   "execution_count": 12,
   "id": "a6eac5b6",
   "metadata": {
    "execution": {
     "iopub.execute_input": "2024-04-18T04:08:46.626542Z",
     "iopub.status.busy": "2024-04-18T04:08:46.626115Z",
     "iopub.status.idle": "2024-04-18T04:08:46.631294Z",
     "shell.execute_reply": "2024-04-18T04:08:46.630757Z"
    },
    "papermill": {
     "duration": 0.011537,
     "end_time": "2024-04-18T04:08:46.632602",
     "exception": false,
     "start_time": "2024-04-18T04:08:46.621065",
     "status": "completed"
    },
    "scrolled": false,
    "tags": []
   },
   "outputs": [],
   "source": [
    "carousel = create_carousel(npub)\n",
    "docs = ', '.join(['\"{0:s}\"'.format(k.split('/')[-1]) for k in res])\n",
    "slides = ', '.join([f'\"slide{k}\"' for k in range(1, npub + 1)])\n",
    "\n",
    "with open(\"daily_template.html\", \"r\") as tpl:\n",
    "    page = tpl.read()\n",
    "    page = page.replace(\"{%-- carousel:s --%}\", carousel)\\\n",
    "               .replace(\"{%-- suptitle:s --%}\",  \"7-day archives\" )\\\n",
    "               .replace(\"{%-- docs:s --%}\", docs)\\\n",
    "               .replace(\"{%-- slides:s --%}\", slides)\n",
    "    \n",
    "with open(\"_build/html/index_7days.html\", 'w') as fout:\n",
    "    fout.write(page)"
   ]
  },
  {
   "cell_type": "code",
   "execution_count": 13,
   "id": "adc1a1ec",
   "metadata": {
    "execution": {
     "iopub.execute_input": "2024-04-18T04:08:46.642301Z",
     "iopub.status.busy": "2024-04-18T04:08:46.641945Z",
     "iopub.status.idle": "2024-04-18T04:08:46.648725Z",
     "shell.execute_reply": "2024-04-18T04:08:46.648144Z"
    },
    "papermill": {
     "duration": 0.013069,
     "end_time": "2024-04-18T04:08:46.650042",
     "exception": false,
     "start_time": "2024-04-18T04:08:46.636973",
     "status": "completed"
    },
    "tags": []
   },
   "outputs": [
    {
     "name": "stdout",
     "output_type": "stream",
     "text": [
      "1  publications in the last day.\n"
     ]
    }
   ],
   "source": [
    "# redo for today\n",
    "days = 1\n",
    "res = list(get_last_n_days(dates, days))\n",
    "npub = len(res)\n",
    "print(len(res), f\" publications in the last day.\")\n",
    "\n",
    "carousel = create_carousel(npub)\n",
    "docs = ', '.join(['\"{0:s}\"'.format(k.split('/')[-1]) for k in res])\n",
    "slides = ', '.join([f'\"slide{k}\"' for k in range(1, npub + 1)])\n",
    "\n",
    "with open(\"daily_template.html\", \"r\") as tpl:\n",
    "    page = tpl.read()\n",
    "    page = page.replace(\"{%-- carousel:s --%}\", carousel)\\\n",
    "               .replace(\"{%-- suptitle:s --%}\",  \"Daily\" )\\\n",
    "               .replace(\"{%-- docs:s --%}\", docs)\\\n",
    "               .replace(\"{%-- slides:s --%}\", slides)\n",
    "    \n",
    "# print(carousel, docs, slides)\n",
    "# print(page)\n",
    "with open(\"_build/html/index_daily.html\", 'w') as fout:\n",
    "    fout.write(page)"
   ]
  },
  {
   "cell_type": "code",
   "execution_count": 14,
   "id": "00eece82",
   "metadata": {
    "execution": {
     "iopub.execute_input": "2024-04-18T04:08:46.660050Z",
     "iopub.status.busy": "2024-04-18T04:08:46.659633Z",
     "iopub.status.idle": "2024-04-18T04:08:46.666225Z",
     "shell.execute_reply": "2024-04-18T04:08:46.665622Z"
    },
    "papermill": {
     "duration": 0.012995,
     "end_time": "2024-04-18T04:08:46.667541",
     "exception": false,
     "start_time": "2024-04-18T04:08:46.654546",
     "status": "completed"
    },
    "scrolled": false,
    "tags": []
   },
   "outputs": [
    {
     "name": "stdout",
     "output_type": "stream",
     "text": [
      "6  6 publications selected.\n"
     ]
    }
   ],
   "source": [
    "# Create the flat grid of the last N papers (fixed number regardless of dates)\n",
    "from itertools import islice \n",
    "\n",
    "npub = 6\n",
    "res = [k[0] for k in (islice(reversed(sorted(dates, key=lambda x: x[1])), 6))]\n",
    "print(len(res), f\" {npub} publications selected.\")\n",
    "\n",
    "grid = create_grid(npub)\n",
    "docs = ', '.join(['\"{0:s}\"'.format(k.split('/')[-1]) for k in res])\n",
    "slides = ', '.join([f'\"slide{k}\"' for k in range(1, npub + 1)])\n",
    "\n",
    "with open(\"grid_template.html\", \"r\") as tpl:\n",
    "    page = tpl.read()\n",
    "    page = page.replace(\"{%-- grid-content:s --%}\", grid)\\\n",
    "               .replace(\"{%-- suptitle:s --%}\",  f\"Last {npub:,d} papers\" )\\\n",
    "               .replace(\"{%-- docs:s --%}\", docs)\\\n",
    "               .replace(\"{%-- slides:s --%}\", slides)\n",
    "    \n",
    "# print(grid, docs, slides)\n",
    "# print(page)\n",
    "with open(\"_build/html/index_npub_grid.html\", 'w') as fout:\n",
    "    fout.write(page)"
   ]
  }
 ],
 "metadata": {
  "kernelspec": {
   "display_name": "Python 3 (ipykernel)",
   "language": "python",
   "name": "python3"
  },
  "language_info": {
   "codemirror_mode": {
    "name": "ipython",
    "version": 3
   },
   "file_extension": ".py",
   "mimetype": "text/x-python",
   "name": "python",
   "nbconvert_exporter": "python",
   "pygments_lexer": "ipython3",
   "version": "3.9.19"
  },
  "papermill": {
   "default_parameters": {},
   "duration": 31.850332,
   "end_time": "2024-04-18T04:08:46.888700",
   "environment_variables": {},
   "exception": null,
   "input_path": "MPIA daily digest.ipynb",
   "output_path": "log.ipynb",
   "parameters": {},
   "start_time": "2024-04-18T04:08:15.038368",
   "version": "2.5.0"
  },
  "vscode": {
   "interpreter": {
    "hash": "aee8b7b246df8f9039afb4144a1f6fd8d2ca17a180786b69acc140d282b71a49"
   }
  },
  "widgets": {
   "application/vnd.jupyter.widget-state+json": {
    "state": {
     "00b1beb7e12e429f9e772e5f65cf21e2": {
      "model_module": "@jupyter-widgets/controls",
      "model_module_version": "2.0.0",
      "model_name": "HBoxModel",
      "state": {
       "_dom_classes": [],
       "_model_module": "@jupyter-widgets/controls",
       "_model_module_version": "2.0.0",
       "_model_name": "HBoxModel",
       "_view_count": null,
       "_view_module": "@jupyter-widgets/controls",
       "_view_module_version": "2.0.0",
       "_view_name": "HBoxView",
       "box_style": "",
       "children": [
        "IPY_MODEL_63f547998bca42c5ba83f26aa9bb64a7",
        "IPY_MODEL_c535c1d8e6e24637a6f2ed82b72141bf",
        "IPY_MODEL_7ac77b41c2f54bc79877ccde2402f735"
       ],
       "layout": "IPY_MODEL_599b025df15042b69a4152a60e58ea75",
       "tabbable": null,
       "tooltip": null
      }
     },
     "599b025df15042b69a4152a60e58ea75": {
      "model_module": "@jupyter-widgets/base",
      "model_module_version": "2.0.0",
      "model_name": "LayoutModel",
      "state": {
       "_model_module": "@jupyter-widgets/base",
       "_model_module_version": "2.0.0",
       "_model_name": "LayoutModel",
       "_view_count": null,
       "_view_module": "@jupyter-widgets/base",
       "_view_module_version": "2.0.0",
       "_view_name": "LayoutView",
       "align_content": null,
       "align_items": null,
       "align_self": null,
       "border_bottom": null,
       "border_left": null,
       "border_right": null,
       "border_top": null,
       "bottom": null,
       "display": null,
       "flex": null,
       "flex_flow": null,
       "grid_area": null,
       "grid_auto_columns": null,
       "grid_auto_flow": null,
       "grid_auto_rows": null,
       "grid_column": null,
       "grid_gap": null,
       "grid_row": null,
       "grid_template_areas": null,
       "grid_template_columns": null,
       "grid_template_rows": null,
       "height": null,
       "justify_content": null,
       "justify_items": null,
       "left": null,
       "margin": null,
       "max_height": null,
       "max_width": null,
       "min_height": null,
       "min_width": null,
       "object_fit": null,
       "object_position": null,
       "order": null,
       "overflow": null,
       "padding": null,
       "right": null,
       "top": null,
       "visibility": null,
       "width": null
      }
     },
     "5adaa022705c4e6c8a6b9c0d72de2e14": {
      "model_module": "@jupyter-widgets/base",
      "model_module_version": "2.0.0",
      "model_name": "LayoutModel",
      "state": {
       "_model_module": "@jupyter-widgets/base",
       "_model_module_version": "2.0.0",
       "_model_name": "LayoutModel",
       "_view_count": null,
       "_view_module": "@jupyter-widgets/base",
       "_view_module_version": "2.0.0",
       "_view_name": "LayoutView",
       "align_content": null,
       "align_items": null,
       "align_self": null,
       "border_bottom": null,
       "border_left": null,
       "border_right": null,
       "border_top": null,
       "bottom": null,
       "display": null,
       "flex": null,
       "flex_flow": null,
       "grid_area": null,
       "grid_auto_columns": null,
       "grid_auto_flow": null,
       "grid_auto_rows": null,
       "grid_column": null,
       "grid_gap": null,
       "grid_row": null,
       "grid_template_areas": null,
       "grid_template_columns": null,
       "grid_template_rows": null,
       "height": null,
       "justify_content": null,
       "justify_items": null,
       "left": null,
       "margin": null,
       "max_height": null,
       "max_width": null,
       "min_height": null,
       "min_width": null,
       "object_fit": null,
       "object_position": null,
       "order": null,
       "overflow": null,
       "padding": null,
       "right": null,
       "top": null,
       "visibility": null,
       "width": null
      }
     },
     "633e81be67794452b2632a30f47375ce": {
      "model_module": "@jupyter-widgets/base",
      "model_module_version": "2.0.0",
      "model_name": "LayoutModel",
      "state": {
       "_model_module": "@jupyter-widgets/base",
       "_model_module_version": "2.0.0",
       "_model_name": "LayoutModel",
       "_view_count": null,
       "_view_module": "@jupyter-widgets/base",
       "_view_module_version": "2.0.0",
       "_view_name": "LayoutView",
       "align_content": null,
       "align_items": null,
       "align_self": null,
       "border_bottom": null,
       "border_left": null,
       "border_right": null,
       "border_top": null,
       "bottom": null,
       "display": null,
       "flex": null,
       "flex_flow": null,
       "grid_area": null,
       "grid_auto_columns": null,
       "grid_auto_flow": null,
       "grid_auto_rows": null,
       "grid_column": null,
       "grid_gap": null,
       "grid_row": null,
       "grid_template_areas": null,
       "grid_template_columns": null,
       "grid_template_rows": null,
       "height": null,
       "justify_content": null,
       "justify_items": null,
       "left": null,
       "margin": null,
       "max_height": null,
       "max_width": null,
       "min_height": null,
       "min_width": null,
       "object_fit": null,
       "object_position": null,
       "order": null,
       "overflow": null,
       "padding": null,
       "right": null,
       "top": null,
       "visibility": null,
       "width": null
      }
     },
     "63f547998bca42c5ba83f26aa9bb64a7": {
      "model_module": "@jupyter-widgets/controls",
      "model_module_version": "2.0.0",
      "model_name": "HTMLModel",
      "state": {
       "_dom_classes": [],
       "_model_module": "@jupyter-widgets/controls",
       "_model_module_version": "2.0.0",
       "_model_name": "HTMLModel",
       "_view_count": null,
       "_view_module": "@jupyter-widgets/controls",
       "_view_module_version": "2.0.0",
       "_view_name": "HTMLView",
       "description": "",
       "description_allow_html": false,
       "layout": "IPY_MODEL_633e81be67794452b2632a30f47375ce",
       "placeholder": "​",
       "style": "IPY_MODEL_d03540473c674103b913bb8f143a2b7d",
       "tabbable": null,
       "tooltip": null,
       "value": "100%"
      }
     },
     "73d873de9c7b4c869c109c335b80d5f5": {
      "model_module": "@jupyter-widgets/controls",
      "model_module_version": "2.0.0",
      "model_name": "HTMLStyleModel",
      "state": {
       "_model_module": "@jupyter-widgets/controls",
       "_model_module_version": "2.0.0",
       "_model_name": "HTMLStyleModel",
       "_view_count": null,
       "_view_module": "@jupyter-widgets/base",
       "_view_module_version": "2.0.0",
       "_view_name": "StyleView",
       "background": null,
       "description_width": "",
       "font_size": null,
       "text_color": null
      }
     },
     "7ac77b41c2f54bc79877ccde2402f735": {
      "model_module": "@jupyter-widgets/controls",
      "model_module_version": "2.0.0",
      "model_name": "HTMLModel",
      "state": {
       "_dom_classes": [],
       "_model_module": "@jupyter-widgets/controls",
       "_model_module_version": "2.0.0",
       "_model_name": "HTMLModel",
       "_view_count": null,
       "_view_module": "@jupyter-widgets/controls",
       "_view_module_version": "2.0.0",
       "_view_name": "HTMLView",
       "description": "",
       "description_allow_html": false,
       "layout": "IPY_MODEL_5adaa022705c4e6c8a6b9c0d72de2e14",
       "placeholder": "​",
       "style": "IPY_MODEL_73d873de9c7b4c869c109c335b80d5f5",
       "tabbable": null,
       "tooltip": null,
       "value": " 2/2 [00:10&lt;00:00,  6.09s/it]"
      }
     },
     "c535c1d8e6e24637a6f2ed82b72141bf": {
      "model_module": "@jupyter-widgets/controls",
      "model_module_version": "2.0.0",
      "model_name": "FloatProgressModel",
      "state": {
       "_dom_classes": [],
       "_model_module": "@jupyter-widgets/controls",
       "_model_module_version": "2.0.0",
       "_model_name": "FloatProgressModel",
       "_view_count": null,
       "_view_module": "@jupyter-widgets/controls",
       "_view_module_version": "2.0.0",
       "_view_name": "ProgressView",
       "bar_style": "success",
       "description": "",
       "description_allow_html": false,
       "layout": "IPY_MODEL_e3e4f7714299460dadb1e03d69be663d",
       "max": 2.0,
       "min": 0.0,
       "orientation": "horizontal",
       "style": "IPY_MODEL_c8e266ced84e43e8af612651ca135b3c",
       "tabbable": null,
       "tooltip": null,
       "value": 2.0
      }
     },
     "c8e266ced84e43e8af612651ca135b3c": {
      "model_module": "@jupyter-widgets/controls",
      "model_module_version": "2.0.0",
      "model_name": "ProgressStyleModel",
      "state": {
       "_model_module": "@jupyter-widgets/controls",
       "_model_module_version": "2.0.0",
       "_model_name": "ProgressStyleModel",
       "_view_count": null,
       "_view_module": "@jupyter-widgets/base",
       "_view_module_version": "2.0.0",
       "_view_name": "StyleView",
       "bar_color": null,
       "description_width": ""
      }
     },
     "d03540473c674103b913bb8f143a2b7d": {
      "model_module": "@jupyter-widgets/controls",
      "model_module_version": "2.0.0",
      "model_name": "HTMLStyleModel",
      "state": {
       "_model_module": "@jupyter-widgets/controls",
       "_model_module_version": "2.0.0",
       "_model_name": "HTMLStyleModel",
       "_view_count": null,
       "_view_module": "@jupyter-widgets/base",
       "_view_module_version": "2.0.0",
       "_view_name": "StyleView",
       "background": null,
       "description_width": "",
       "font_size": null,
       "text_color": null
      }
     },
     "e3e4f7714299460dadb1e03d69be663d": {
      "model_module": "@jupyter-widgets/base",
      "model_module_version": "2.0.0",
      "model_name": "LayoutModel",
      "state": {
       "_model_module": "@jupyter-widgets/base",
       "_model_module_version": "2.0.0",
       "_model_name": "LayoutModel",
       "_view_count": null,
       "_view_module": "@jupyter-widgets/base",
       "_view_module_version": "2.0.0",
       "_view_name": "LayoutView",
       "align_content": null,
       "align_items": null,
       "align_self": null,
       "border_bottom": null,
       "border_left": null,
       "border_right": null,
       "border_top": null,
       "bottom": null,
       "display": null,
       "flex": null,
       "flex_flow": null,
       "grid_area": null,
       "grid_auto_columns": null,
       "grid_auto_flow": null,
       "grid_auto_rows": null,
       "grid_column": null,
       "grid_gap": null,
       "grid_row": null,
       "grid_template_areas": null,
       "grid_template_columns": null,
       "grid_template_rows": null,
       "height": null,
       "justify_content": null,
       "justify_items": null,
       "left": null,
       "margin": null,
       "max_height": null,
       "max_width": null,
       "min_height": null,
       "min_width": null,
       "object_fit": null,
       "object_position": null,
       "order": null,
       "overflow": null,
       "padding": null,
       "right": null,
       "top": null,
       "visibility": null,
       "width": null
      }
     }
    },
    "version_major": 2,
    "version_minor": 0
   }
  }
 },
 "nbformat": 4,
 "nbformat_minor": 5
}