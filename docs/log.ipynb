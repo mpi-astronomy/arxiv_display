{
 "cells": [
  {
   "cell_type": "markdown",
   "id": "92bcb855",
   "metadata": {
    "papermill": {
     "duration": 0.005861,
     "end_time": "2022-11-04T04:30:35.910211",
     "exception": false,
     "start_time": "2022-11-04T04:30:35.904350",
     "status": "completed"
    },
    "tags": []
   },
   "source": [
    "# MPIA Arxiv on Deck 2\n",
    "\n",
    "Contains the steps to produce the paper extractions."
   ]
  },
  {
   "cell_type": "code",
   "execution_count": 1,
   "id": "3a0d6e11",
   "metadata": {
    "execution": {
     "iopub.execute_input": "2022-11-04T04:30:35.920784Z",
     "iopub.status.busy": "2022-11-04T04:30:35.919958Z",
     "iopub.status.idle": "2022-11-04T04:30:36.093398Z",
     "shell.execute_reply": "2022-11-04T04:30:36.092631Z"
    },
    "papermill": {
     "duration": 0.181396,
     "end_time": "2022-11-04T04:30:36.095928",
     "exception": false,
     "start_time": "2022-11-04T04:30:35.914532",
     "status": "completed"
    },
    "tags": []
   },
   "outputs": [],
   "source": [
    "# Imports\n",
    "import os\n",
    "from IPython.display import Markdown, display\n",
    "from tqdm.notebook import tqdm\n",
    "import warnings\n",
    "from PIL import Image \n",
    "\n",
    "# requires arxiv_on_deck_2\n",
    "\n",
    "from arxiv_on_deck_2.arxiv2 import (get_new_papers, \n",
    "                                    get_paper_from_identifier,\n",
    "                                    retrieve_document_source, \n",
    "                                    get_markdown_badge)\n",
    "from arxiv_on_deck_2 import (latex, \n",
    "                             mpia,\n",
    "                             highlight_authors_in_list)\n",
    "\n",
    "# Sometimes images are really big\n",
    "Image.MAX_IMAGE_PIXELS = 1000000000 "
   ]
  },
  {
   "cell_type": "code",
   "execution_count": 2,
   "id": "22aa9d44",
   "metadata": {
    "execution": {
     "iopub.execute_input": "2022-11-04T04:30:36.106849Z",
     "iopub.status.busy": "2022-11-04T04:30:36.106395Z",
     "iopub.status.idle": "2022-11-04T04:30:36.111533Z",
     "shell.execute_reply": "2022-11-04T04:30:36.110830Z"
    },
    "papermill": {
     "duration": 0.01276,
     "end_time": "2022-11-04T04:30:36.113385",
     "exception": false,
     "start_time": "2022-11-04T04:30:36.100625",
     "status": "completed"
    },
    "tags": []
   },
   "outputs": [],
   "source": [
    "# Some useful definitions.\n",
    "\n",
    "class AffiliationWarning(UserWarning):\n",
    "    pass\n",
    "\n",
    "class AffiliationError(RuntimeError):\n",
    "    pass\n",
    "\n",
    "def validation(source: str):\n",
    "    \"\"\"Raises error paper during parsing of source file\n",
    "    \n",
    "    Allows checks before parsing TeX code.\n",
    "    \n",
    "    Raises AffiliationWarning\n",
    "    \"\"\"\n",
    "    check = mpia.affiliation_verifications(source, verbose=True)\n",
    "    if check is not True:\n",
    "        raise AffiliationError(\"mpia.affiliation_verifications: \" + check)\n",
    "\n",
    "        \n",
    "warnings.simplefilter('always', AffiliationWarning)"
   ]
  },
  {
   "cell_type": "code",
   "execution_count": 3,
   "id": "14622700",
   "metadata": {
    "execution": {
     "iopub.execute_input": "2022-11-04T04:30:36.124381Z",
     "iopub.status.busy": "2022-11-04T04:30:36.123811Z",
     "iopub.status.idle": "2022-11-04T04:30:36.127886Z",
     "shell.execute_reply": "2022-11-04T04:30:36.127221Z"
    },
    "papermill": {
     "duration": 0.012421,
     "end_time": "2022-11-04T04:30:36.129632",
     "exception": false,
     "start_time": "2022-11-04T04:30:36.117211",
     "status": "completed"
    },
    "tags": []
   },
   "outputs": [],
   "source": [
    "# additional CSS to consider. \n",
    "# TODO: Current into each exported file. \n",
    "#       This should be set once into the webpages directly.\n",
    "#       With only the class/id definitions in the .md files.\n",
    "\n",
    "debug_html = \"\"\"\n",
    "<style>\n",
    "#wrap{ overflow:auto; }\n",
    "#fig1{ background:yellow; width:100%; float:left; padding:5px;  }\n",
    "#fig2{ background:red; width:50%; float:left; clear:left; padding:5px;  }\n",
    "#fig3{ background:green; width:50%; float:left; padding:5px;   }\n",
    ".macros{ background:yellow; visibility:visible;}\n",
    "h1 {margin: 0 0 0 0;}\n",
    "mark {background-color:#fff3b6;}\n",
    "img {object-fit:contain; max-height:250px; display:inline-block; text-align: center;}\n",
    "</style>\n",
    "\"\"\" \n",
    "html = \"\"\"\n",
    "<style>\n",
    "#wrap{ overflow:auto; }\n",
    "#fig1{ width:100%; float:left; padding: 5px;  }\n",
    "#fig2{ width:50%; float:left; clear:left; padding: 5px;  }\n",
    "#fig3{ width:50%; float:left; padding: 5px;  }\n",
    ".macros{ visibility:hidden; height:0px; }\n",
    "h1 {margin: 0em 0 0 0;}\n",
    "mark {background-color:#fff3b6;}\n",
    "img {object-fit:contain; max-height:250px; display:inline-block; text-align: center;}\n",
    "</style>\n",
    "\"\"\""
   ]
  },
  {
   "cell_type": "markdown",
   "id": "14bd6310",
   "metadata": {
    "papermill": {
     "duration": 0.003896,
     "end_time": "2022-11-04T04:30:36.137359",
     "exception": false,
     "start_time": "2022-11-04T04:30:36.133463",
     "status": "completed"
    },
    "tags": []
   },
   "source": [
    "## get list of arxiv paper candidates\n",
    "\n",
    "We use the MPIA mitarbeiter list webpage from mpia.de to get author names\n",
    "We then get all new papers from Arxiv and match authors"
   ]
  },
  {
   "cell_type": "code",
   "execution_count": 4,
   "id": "2645e73a",
   "metadata": {
    "execution": {
     "iopub.execute_input": "2022-11-04T04:30:36.146925Z",
     "iopub.status.busy": "2022-11-04T04:30:36.146268Z",
     "iopub.status.idle": "2022-11-04T04:31:00.483157Z",
     "shell.execute_reply": "2022-11-04T04:31:00.482214Z"
    },
    "papermill": {
     "duration": 24.3436,
     "end_time": "2022-11-04T04:31:00.484849",
     "exception": false,
     "start_time": "2022-11-04T04:30:36.141249",
     "status": "completed"
    },
    "tags": []
   },
   "outputs": [
    {
     "name": "stdout",
     "output_type": "stream",
     "text": [
      "Arxiv has 71 new papers today\n",
      "          27 with possible author matches\n"
     ]
    }
   ],
   "source": [
    "# get list from MPIA website\n",
    "# it automatically filters identified non-scientists :func:`mpia.filter_non_scientists`\n",
    "mpia_authors = mpia.get_mpia_mitarbeiter_list()\n",
    "new_papers = get_new_papers()\n",
    "# add manual references\n",
    "add_paper_refs = []\n",
    "new_papers.extend([get_paper_from_identifier(k) for k in add_paper_refs])\n",
    "\n",
    "# select only papers with matching author names and highlight authors\n",
    "hl_list = [k[0] for k in mpia_authors]\n",
    "\n",
    "candidates = []\n",
    "for paperk in new_papers:\n",
    "    hl_authors = highlight_authors_in_list(paperk['authors'], hl_list)\n",
    "    matches = [(hl, orig) for hl, orig in zip(hl_authors, paperk['authors']) if 'mark' in hl]\n",
    "    paperk['authors'] = hl_authors\n",
    "    if matches:\n",
    "        candidates.append(paperk)\n",
    "print(\"\"\"Arxiv has {0:,d} new papers today\"\"\".format(len(new_papers)))        \n",
    "print(\"\"\"          {0:,d} with possible author matches\"\"\".format(len(candidates)))"
   ]
  },
  {
   "cell_type": "markdown",
   "id": "3543b34a",
   "metadata": {
    "papermill": {
     "duration": 0.004204,
     "end_time": "2022-11-04T04:31:00.493595",
     "exception": false,
     "start_time": "2022-11-04T04:31:00.489391",
     "status": "completed"
    },
    "tags": []
   },
   "source": [
    "# Parse sources and generate relevant outputs\n",
    "\n",
    "From the candidates, we do the following steps:\n",
    "* get their tarball from ArXiv (and extract data)\n",
    "* find the main .tex file: find one with \\documentclass{...} (sometimes it's non trivial)\n",
    "* Check affiliations with :func:`validation`, which uses :func:`mpia.affiliation_verifications`\n",
    "* If passing the affiliations: we parse the .tex source\n",
    "   * inject sub-documents into the main (flatten the main document)\n",
    "   * parse structure, extract information (title, abstract, authors, figures...)\n",
    "   * handles `\\graphicspath` if provided\n",
    "* Generate the .md document."
   ]
  },
  {
   "cell_type": "code",
   "execution_count": 5,
   "id": "9576b79e",
   "metadata": {
    "execution": {
     "iopub.execute_input": "2022-11-04T04:31:00.503409Z",
     "iopub.status.busy": "2022-11-04T04:31:00.502943Z",
     "iopub.status.idle": "2022-11-04T04:31:47.908781Z",
     "shell.execute_reply": "2022-11-04T04:31:47.907922Z"
    },
    "papermill": {
     "duration": 47.413171,
     "end_time": "2022-11-04T04:31:47.910751",
     "exception": false,
     "start_time": "2022-11-04T04:31:00.497580",
     "status": "completed"
    },
    "scrolled": false,
    "tags": []
   },
   "outputs": [
    {
     "data": {
      "application/vnd.jupyter.widget-view+json": {
       "model_id": "f6da8561349f48bc9a744be91ba34d70",
       "version_major": 2,
       "version_minor": 0
      },
      "text/plain": [
       "  0%|          | 0/26 [00:00<?, ?it/s]"
      ]
     },
     "metadata": {},
     "output_type": "display_data"
    },
    {
     "name": "stdout",
     "output_type": "stream",
     "text": [
      "Retrieving document from  https://arxiv.org/e-print/2211.01382\n"
     ]
    },
    {
     "name": "stdout",
     "output_type": "stream",
     "text": [
      "extracting tarball to tmp_2211.01382..."
     ]
    },
    {
     "name": "stdout",
     "output_type": "stream",
     "text": [
      " done.\n",
      "Retrieving document from  https://arxiv.org/e-print/2211.01384\n"
     ]
    },
    {
     "name": "stdout",
     "output_type": "stream",
     "text": [
      "extracting tarball to tmp_2211.01384..."
     ]
    },
    {
     "name": "stdout",
     "output_type": "stream",
     "text": [
      " done.\n",
      "Retrieving document from  https://arxiv.org/e-print/2211.01391\n"
     ]
    },
    {
     "name": "stdout",
     "output_type": "stream",
     "text": [
      "extracting tarball to tmp_2211.01391..."
     ]
    },
    {
     "name": "stdout",
     "output_type": "stream",
     "text": [
      " done.\n",
      "Retrieving document from  https://arxiv.org/e-print/2211.01396\n"
     ]
    },
    {
     "name": "stdout",
     "output_type": "stream",
     "text": [
      "extracting tarball to tmp_2211.01396... done.\n",
      "Retrieving document from  https://arxiv.org/e-print/2211.01402\n"
     ]
    },
    {
     "name": "stdout",
     "output_type": "stream",
     "text": [
      "extracting tarball to tmp_2211.01402..."
     ]
    },
    {
     "name": "stdout",
     "output_type": "stream",
     "text": [
      " done.\n",
      "Retrieving document from  https://arxiv.org/e-print/2211.01435\n"
     ]
    },
    {
     "name": "stdout",
     "output_type": "stream",
     "text": [
      "extracting tarball to tmp_2211.01435..."
     ]
    },
    {
     "name": "stdout",
     "output_type": "stream",
     "text": [
      " done.\n",
      "Retrieving document from  https://arxiv.org/e-print/2211.01445\n"
     ]
    },
    {
     "name": "stdout",
     "output_type": "stream",
     "text": [
      "extracting tarball to tmp_2211.01445..."
     ]
    },
    {
     "name": "stdout",
     "output_type": "stream",
     "text": [
      " done.\n",
      "Retrieving document from  https://arxiv.org/e-print/2211.01459\n"
     ]
    },
    {
     "name": "stderr",
     "output_type": "stream",
     "text": [
      "/opt/hostedtoolcache/Python/3.9.15/x64/lib/python3.9/site-packages/IPython/core/interactiveshell.py:3433: LatexWarning: Multiple tex files.\n",
      "\n",
      "  exec(code_obj, self.user_global_ns, self.user_ns)\n",
      "/opt/hostedtoolcache/Python/3.9.15/x64/lib/python3.9/site-packages/IPython/core/interactiveshell.py:3433: LatexWarning: Found documentclass in tmp_2211.01445/MN-22-1238-MJ.tex\n",
      "\n",
      "  exec(code_obj, self.user_global_ns, self.user_ns)\n",
      "/opt/hostedtoolcache/Python/3.9.15/x64/lib/python3.9/site-packages/arxiv_on_deck_2/latex.py:292: LatexWarning: Latex injecting: 'table_modelXobs' from 'tmp_2211.01445/table_modelXobs.tex'\n",
      "  warnings.warn(LatexWarning(f\"Latex injecting: '{ext}' from '{subsource}'\"))\n",
      "/opt/hostedtoolcache/Python/3.9.15/x64/lib/python3.9/site-packages/arxiv_on_deck_2/latex.py:292: LatexWarning: Latex injecting: 'table_observat' from 'tmp_2211.01445/table_observat.tex'\n",
      "  warnings.warn(LatexWarning(f\"Latex injecting: '{ext}' from '{subsource}'\"))\n"
     ]
    },
    {
     "name": "stdout",
     "output_type": "stream",
     "text": [
      "extracting tarball to tmp_2211.01459... done.\n"
     ]
    },
    {
     "name": "stdout",
     "output_type": "stream",
     "text": [
      "Retrieving document from  https://arxiv.org/e-print/2211.01465\n"
     ]
    },
    {
     "name": "stdout",
     "output_type": "stream",
     "text": [
      "extracting tarball to tmp_2211.01465... done.\n",
      "Retrieving document from  https://arxiv.org/e-print/2211.01474\n"
     ]
    },
    {
     "name": "stdout",
     "output_type": "stream",
     "text": [
      "extracting tarball to tmp_2211.01474..."
     ]
    },
    {
     "name": "stdout",
     "output_type": "stream",
     "text": [
      " done.\n"
     ]
    },
    {
     "name": "stdout",
     "output_type": "stream",
     "text": [
      "Retrieving document from  https://arxiv.org/e-print/2211.01532\n"
     ]
    },
    {
     "name": "stdout",
     "output_type": "stream",
     "text": [
      "extracting tarball to tmp_2211.01532..."
     ]
    },
    {
     "name": "stdout",
     "output_type": "stream",
     "text": [
      " done.\n",
      "Retrieving document from  https://arxiv.org/e-print/2211.01534\n"
     ]
    },
    {
     "name": "stderr",
     "output_type": "stream",
     "text": [
      "/opt/hostedtoolcache/Python/3.9.15/x64/lib/python3.9/site-packages/IPython/core/interactiveshell.py:3433: LatexWarning: Multiple tex files.\n",
      "\n",
      "  exec(code_obj, self.user_global_ns, self.user_ns)\n",
      "/opt/hostedtoolcache/Python/3.9.15/x64/lib/python3.9/site-packages/IPython/core/interactiveshell.py:3433: LatexWarning: Found documentclass in tmp_2211.01532/kepler167-arxiv.tex\n",
      "\n",
      "  exec(code_obj, self.user_global_ns, self.user_ns)\n"
     ]
    },
    {
     "name": "stdout",
     "output_type": "stream",
     "text": [
      "extracting tarball to tmp_2211.01534..."
     ]
    },
    {
     "name": "stdout",
     "output_type": "stream",
     "text": [
      " done.\n",
      "Retrieving document from  https://arxiv.org/e-print/2211.01564\n"
     ]
    },
    {
     "name": "stderr",
     "output_type": "stream",
     "text": [
      "/opt/hostedtoolcache/Python/3.9.15/x64/lib/python3.9/site-packages/IPython/core/interactiveshell.py:3433: LatexWarning: Multiple tex files.\n",
      "\n",
      "  exec(code_obj, self.user_global_ns, self.user_ns)\n",
      "/opt/hostedtoolcache/Python/3.9.15/x64/lib/python3.9/site-packages/IPython/core/interactiveshell.py:3433: LatexWarning: Found documentclass in tmp_2211.01534/natnotes.tex\n",
      "\n",
      "  exec(code_obj, self.user_global_ns, self.user_ns)\n"
     ]
    },
    {
     "name": "stdout",
     "output_type": "stream",
     "text": [
      "extracting tarball to tmp_2211.01564..."
     ]
    },
    {
     "name": "stdout",
     "output_type": "stream",
     "text": [
      " done.\n",
      "Retrieving document from  https://arxiv.org/e-print/2211.01567\n"
     ]
    },
    {
     "name": "stdout",
     "output_type": "stream",
     "text": [
      "extracting tarball to tmp_2211.01567... done.\n",
      "Retrieving document from  https://arxiv.org/e-print/2211.01570\n"
     ]
    },
    {
     "name": "stdout",
     "output_type": "stream",
     "text": [
      "extracting tarball to tmp_2211.01570... done.\n",
      "Retrieving document from  https://arxiv.org/e-print/2211.01641\n"
     ]
    },
    {
     "name": "stdout",
     "output_type": "stream",
     "text": [
      "extracting tarball to tmp_2211.01641..."
     ]
    },
    {
     "name": "stdout",
     "output_type": "stream",
     "text": [
      " done.\n",
      "Retrieving document from  https://arxiv.org/e-print/2211.01682\n"
     ]
    },
    {
     "name": "stdout",
     "output_type": "stream",
     "text": [
      "extracting tarball to tmp_2211.01682... done.\n",
      "Retrieving document from  https://arxiv.org/e-print/2211.01697\n"
     ]
    },
    {
     "name": "stdout",
     "output_type": "stream",
     "text": [
      "extracting tarball to tmp_2211.01697... done.\n",
      "Retrieving document from  https://arxiv.org/e-print/2211.01740\n"
     ]
    },
    {
     "name": "stderr",
     "output_type": "stream",
     "text": [
      "/tmp/ipykernel_2243/4030337529.py:34: LatexWarning: 2211.01740 did not run properly\n",
      "not a gzip file\n",
      "  warnings.warn(latex.LatexWarning(f\"{paper_id:s} did not run properly\\n\" +\n"
     ]
    },
    {
     "name": "stdout",
     "output_type": "stream",
     "text": [
      "Retrieving document from  https://arxiv.org/e-print/2211.01744\n"
     ]
    },
    {
     "name": "stdout",
     "output_type": "stream",
     "text": [
      "extracting tarball to tmp_2211.01744... done.\n",
      "Retrieving document from  https://arxiv.org/e-print/2211.01821\n"
     ]
    },
    {
     "name": "stdout",
     "output_type": "stream",
     "text": [
      "extracting tarball to tmp_2211.01821..."
     ]
    },
    {
     "name": "stdout",
     "output_type": "stream",
     "text": [
      " done.\n",
      "Retrieving document from  https://arxiv.org/e-print/2211.01861\n"
     ]
    },
    {
     "name": "stdout",
     "output_type": "stream",
     "text": [
      "extracting tarball to tmp_2211.01861..."
     ]
    },
    {
     "name": "stdout",
     "output_type": "stream",
     "text": [
      " done.\n",
      "Retrieving document from  https://arxiv.org/e-print/2211.01897\n"
     ]
    },
    {
     "name": "stdout",
     "output_type": "stream",
     "text": [
      "extracting tarball to tmp_2211.01897..."
     ]
    },
    {
     "name": "stdout",
     "output_type": "stream",
     "text": [
      " done.\n",
      "Retrieving document from  https://arxiv.org/e-print/2211.01922\n"
     ]
    },
    {
     "name": "stderr",
     "output_type": "stream",
     "text": [
      "/opt/hostedtoolcache/Python/3.9.15/x64/lib/python3.9/site-packages/IPython/core/interactiveshell.py:3433: LatexWarning: Multiple tex files.\n",
      "\n",
      "  exec(code_obj, self.user_global_ns, self.user_ns)\n",
      "/opt/hostedtoolcache/Python/3.9.15/x64/lib/python3.9/site-packages/IPython/core/interactiveshell.py:3433: LatexWarning: Found documentclass in tmp_2211.01897/draft.tex\n",
      "\n",
      "  exec(code_obj, self.user_global_ns, self.user_ns)\n"
     ]
    },
    {
     "name": "stdout",
     "output_type": "stream",
     "text": [
      "extracting tarball to tmp_2211.01922..."
     ]
    },
    {
     "name": "stdout",
     "output_type": "stream",
     "text": [
      " done.\n",
      "Retrieving document from  https://arxiv.org/e-print/2211.01927\n"
     ]
    },
    {
     "name": "stdout",
     "output_type": "stream",
     "text": [
      "extracting tarball to tmp_2211.01927..."
     ]
    },
    {
     "name": "stdout",
     "output_type": "stream",
     "text": [
      " done.\n",
      "Retrieving document from  https://arxiv.org/e-print/2211.01935\n"
     ]
    },
    {
     "name": "stdout",
     "output_type": "stream",
     "text": [
      "extracting tarball to tmp_2211.01935..."
     ]
    },
    {
     "name": "stdout",
     "output_type": "stream",
     "text": [
      " done.\n"
     ]
    }
   ],
   "source": [
    "documents = []\n",
    "failed = []\n",
    "for paper in tqdm(candidates[:-1]):\n",
    "    paper_id = paper['identifier'].lower().replace('arxiv:', '')\n",
    "    \n",
    "    folder = f'tmp_{paper_id}'\n",
    "\n",
    "    try:\n",
    "        if not os.path.isdir(folder):\n",
    "            folder = retrieve_document_source(f\"{paper_id}\", f'tmp_{paper_id}')\n",
    "        \n",
    "        try:\n",
    "            doc = latex.LatexDocument(folder, validation=validation)    \n",
    "        except AffiliationError as affilerror:\n",
    "            msg = f\"ArXiv:{paper_id:s} is not an MPIA paper... \" + str(affilerror)\n",
    "            failed.append((paper, \"affiliation error: \" + str(affilerror) ))\n",
    "            continue\n",
    "        \n",
    "        # Hack because sometimes author parsing does not work well\n",
    "        if (len(doc.authors) != len(paper['authors'])):\n",
    "            doc._authors = paper['authors']\n",
    "        if (doc.abstract) in (None, ''):\n",
    "            doc._abstract = paper['abstract']\n",
    "            \n",
    "        doc.comment = (get_markdown_badge(paper_id) + \n",
    "                       \"<mark>Appeared on: \" + paper['date'] + \"</mark> - \" +\n",
    "                       \"_\" + paper['comments'] + \"_\")\n",
    "        doc.highlight_authors_in_list(hl_list)\n",
    "\n",
    "        full_md = doc.generate_markdown_text()\n",
    "        \n",
    "        documents.append((paper_id, full_md))\n",
    "    except Exception as e:\n",
    "        warnings.warn(latex.LatexWarning(f\"{paper_id:s} did not run properly\\n\" +\n",
    "                                         str(e)\n",
    "                                        ))\n",
    "        failed.append((paper, \"latex error \" + str(e)))"
   ]
  },
  {
   "cell_type": "markdown",
   "id": "2505a25c",
   "metadata": {
    "papermill": {
     "duration": 0.007003,
     "end_time": "2022-11-04T04:31:47.924690",
     "exception": false,
     "start_time": "2022-11-04T04:31:47.917687",
     "status": "completed"
    },
    "tags": []
   },
   "source": [
    "### Export the logs\n",
    "\n",
    "Throughout, we also keep track of the logs per paper. see `logs-{today date}.md` "
   ]
  },
  {
   "cell_type": "code",
   "execution_count": 6,
   "id": "d733828a",
   "metadata": {
    "execution": {
     "iopub.execute_input": "2022-11-04T04:31:47.940157Z",
     "iopub.status.busy": "2022-11-04T04:31:47.939490Z",
     "iopub.status.idle": "2022-11-04T04:31:47.979002Z",
     "shell.execute_reply": "2022-11-04T04:31:47.978251Z"
    },
    "papermill": {
     "duration": 0.049442,
     "end_time": "2022-11-04T04:31:47.980648",
     "exception": false,
     "start_time": "2022-11-04T04:31:47.931206",
     "status": "completed"
    },
    "scrolled": false,
    "tags": []
   },
   "outputs": [
    {
     "data": {
      "text/markdown": [
       "## Successful papers"
      ],
      "text/plain": [
       "<IPython.core.display.Markdown object>"
      ]
     },
     "metadata": {},
     "output_type": "display_data"
    },
    {
     "data": {
      "text/markdown": [
       "\n",
       "|||\n",
       "|---:|:---|\n",
       "| [![arXiv](https://img.shields.io/badge/arXiv-arXiv:2211.01474-b31b1b.svg)](https://arxiv.org/abs/arXiv:2211.01474) | **Peering into the Young Planetary System AB Pic. Atmosphere, Orbit,  Obliquity & Second Planetary Candidate**  |\n",
       "|| P. Palma-Bifani, et al. -- incl., <mark>M. Langlois</mark>, <mark>C. Desgrange</mark>, <mark>M. Feldt</mark>, <mark>M. Meyer</mark>, <mark>M. Samland</mark>, <mark>Y. Zhang</mark> |\n",
       "|*Appeared on*| *2022-11-04*|\n",
       "|*Comments*| *17 pages, 13 Figures, 6 Tables. Accepted for publication in A&A (31 of October)*|\n",
       "|**Abstract**| We aim to revisit the system AB Pic which has a known companion at the exoplanet/ brown-dwarf boundary. We based this study on a rich set of observations to investigate the companion's orbit and atmosphere. We composed a spectrum of AB Pic b merging archival VLT/SINFONI K-band data, with published spectra at J and H-band (SINFONI) and Lp-band (Magellan-AO), and photometric measurements (HST and Spitzer). We modeled the spectrum with ForMoSA, based on two atmospheric models: ExoREM and BT-SETTL13. We determined the orbital properties of b fitting the astrometric measurements from NaCo (2003 and 2004) and SPHERE (2015). The orbital solutions favor a semi-major axis of $\\sim$190au viewed edge-on. With Exo-REM, we derive a T$_{eff}$ of 1700$\\pm$50K and surface gravity of 4.5$\\pm$0.3dex, consistent with previous works, and we report for the first time a C/O ratio of 0.58$\\pm$0.08 ($\\sim$solar). The posteriors are sensitive to the wavelength interval and the family of models used. Given the 2.1hr rotation period and our vsin(i) of $\\sim$73km/s, we estimate for the first time the true obliquity to be $\\sim$45 or $\\sim$135deg, indicating a significant misalignment between the planet's spin and orbit orientations. Finally, the existence of a proper motion anomaly between the Hipparcos and Gaia eDR3 compared to our SPHERE detection limits and adapted radial velocity limits indicate the existence of a $\\sim$6M$_{Jup}$ inner planet orbiting from 2 to 10au (40-200mas). The possible existence of an inner companion, together with the likely miss-alignment of the spin axis orientation, strongly favor a formation path by gravitational instability or core accretion within a disk closer inside followed by dynamical interactions. Confirmation and characterization of planet c and access to a broader wavelength coverage for planet b will be essential to probe the uncertainties associated with the parameters. |"
      ],
      "text/plain": [
       "[arXiv:2211.01474] Peering into the Young Planetary System AB Pic. Atmosphere, Orbit,  Obliquity & Second Planetary Candidate\n",
       "\tP. Palma-Bifani, et al. -- incl., <mark>M. Langlois</mark>, <mark>C. Desgrange</mark>, <mark>M. Feldt</mark>, <mark>M. Meyer</mark>, <mark>M. Samland</mark>, <mark>Y. Zhang</mark>"
      ]
     },
     "metadata": {},
     "output_type": "display_data"
    },
    {
     "data": {
      "text/markdown": [
       "## Failed papers"
      ],
      "text/plain": [
       "<IPython.core.display.Markdown object>"
      ]
     },
     "metadata": {},
     "output_type": "display_data"
    },
    {
     "data": {
      "text/markdown": [
       "\n",
       "|||\n",
       "|---:|:---|\n",
       "| [![arXiv](https://img.shields.io/badge/arXiv-arXiv:2211.01382-b31b1b.svg)](https://arxiv.org/abs/arXiv:2211.01382) | **The Mass-Metallicity Relation of Dwarf Galaxies at the Cosmic Noon in  the JWST Era**  |\n",
       "|| <mark>Mingyu Li</mark>, et al. -- incl., <mark>Xiaojing Lin</mark>, <mark>Zihao Li</mark>, <mark>Shiwu Zhang</mark> |\n",
       "|*Appeared on*| *2022-11-04*|\n",
       "|*Comments*| *16 pages, 4 figures, 1 table, submitted to AAS Journal; welcome comments*|\n",
       "|**Abstract**| We present the mass-metallicity relation (MZR) at $z=2-3$ in the stellar mass range of $M_\\star\\approx 10^{6.5}-10^{9.5}M_\\odot$ using 55 dwarf galaxies in the Abell 2744 and SMACS J0723-3732 galaxy cluster fields. These dwarf galaxies are identified and confirmed by deep JWST/NIRISS imaging and slitless grism spectroscopic observations. Taking advantage of the gravitational lensing effect, we extend the previous MZR relation at $z=2-3$ to a much lower mass regime by more than 2.5 orders of magnitude compared with previous studies. We find that the MZR has a shallower slope at the low-mass end ($M_\\star<10^{9}M_\\odot$) compared to that at the high-mass end ($M_\\star>10^{9}M_\\odot$), with a slope turnover point at around the stellar mass of $10^9 M_\\odot$. This implies that dominating feedback processes in dwarf galaxies may be different from that in galaxies with higher mass. From $z=3$ to $z=2$, the metallicity of the dwarf galaxies is enhanced by $\\approx0.1$ dex for a given stellar mass, consistent with the mild evolution found in galaxies with higher mass. Further, we confirm the existence of a 3D relation between the gas-phase metallicity, stellar mass, and star formation rate, i.e., fundamental metallicity relation (FMR), in dwarf galaxies at $z=2-3$. Our derived FMR, which has no significant redshift evolution, can be used as a benchmark to understand the origin of the anti-correlation between SFR and metallicity of dwarf galaxies in the high-redshift Universe. |\n",
       "|<p style=\"color:green\"> **ERROR** </p>| <p style=\"color:green\">affiliation error: mpia.affiliation_verifications: 'Heidelberg' keyword not found.</p> |"
      ],
      "text/plain": [
       "<IPython.core.display.Markdown object>"
      ]
     },
     "metadata": {},
     "output_type": "display_data"
    },
    {
     "data": {
      "text/markdown": [
       "\n",
       "|||\n",
       "|---:|:---|\n",
       "| [![arXiv](https://img.shields.io/badge/arXiv-arXiv:2211.01384-b31b1b.svg)](https://arxiv.org/abs/arXiv:2211.01384) | **Distinguishing Dark Matter Cusps from Cores using Globular Clusters**  |\n",
       "|| Shaunak Modak, Shany Danieli, <mark>Jenny E. Greene</mark> |\n",
       "|*Appeared on*| *2022-11-04*|\n",
       "|*Comments*| *19 pages, 11 figures. Main results in figures 7 and 8. Submitted to ApJ, comments are welcome!*|\n",
       "|**Abstract**| Globular Clusters (GCs) provide valuable insight into the properties of their host galaxies' dark matter halos. Using N-body simulations incorporating semianalytic dynamical friction and GC-GC merger prescriptions, we study the evolution of GC radial distributions and mass functions in cuspy and cored dark matter halos. Modeling the dynamics of the GC-rich system in the dwarf galaxy UGC7369, we find that friction-induced inspiral and subsequent mergers of massive GCs can naturally and robustly explain the mass segregation of the GCs and the existence of a nuclear star cluster (NSC). However, the multiple mergers required to form the NSC only take place when the dark matter halo is cuspy. In a cored halo, stalling of the dynamical friction within the core halts the inspiral of the GCs, and so the GC merger rate falls significantly, precluding the formation of an NSC. We therefore argue that the presence of an NSC requires a cusp in UGC7369. More generally, we propose that the presence of an NSC and the corresponding alteration of the GC mass function due to mergers may be used as an indicator of a cuspy halo for galaxies in which we expect NSC formation to be merger-dominated. These observables represent a simple, powerful complement to other inner halo density profile constraint techniques, and should allow for straightforward extension to larger samples. |\n",
       "|<p style=\"color:green\"> **ERROR** </p>| <p style=\"color:green\">affiliation error: mpia.affiliation_verifications: 'Heidelberg' keyword not found.</p> |"
      ],
      "text/plain": [
       "<IPython.core.display.Markdown object>"
      ]
     },
     "metadata": {},
     "output_type": "display_data"
    },
    {
     "data": {
      "text/markdown": [
       "\n",
       "|||\n",
       "|---:|:---|\n",
       "| [![arXiv](https://img.shields.io/badge/arXiv-arXiv:2211.01391-b31b1b.svg)](https://arxiv.org/abs/arXiv:2211.01391) | **The Origin of Buckling Instability in Galactic Bars: Searching for the  Scapegoat**  |\n",
       "|| <mark>Xingchen Li</mark>, Isaac Shlosman, Daniel Pfenniger, <mark>Clayton Heller</mark> |\n",
       "|*Appeared on*| *2022-11-04*|\n",
       "|*Comments*| *Submitted to MNRAS, 16 pages, 18 figures*|\n",
       "|**Abstract**| The buckling process in stellar bars is full of unsolved issues. We analyze the origin of the buckling instability in stellar bars using high-resolution N-body simulations. Previous studies have promoted the nonresonant firehose instability to be responsible for the vertical buckling. We have analyzed the buckling process in terms of the resonant excitation of stellar orbits in the bar, which pumps energy into vertical oscillations. We find that (1) the buckling is associated with an abrupt increase in the central mass concentration and triggers velocities along the bar and along its rotation axis. The velocity field projected on one of the main axes forms circulation cells and increases vorticity, which are absent in firehose instability; (2) The bending amplitude is nonlinear when measured by isodensity contours or curvature of the Laplace plane, which has a substantial effect on the stellar motions; (3) In the linear description, the planar and vertical 2:1 resonances appear only with the buckling and quickly reach the overlapping phase, thus supporting the energy transfer; (4) Using nonlinear orbit analysis, we analyze the stellar oscillations along the bar and along the rotation axis and find that stars cross the vertical 2:1 resonance simultaneously with the buckling. The overlapping planar and vertical 2:1 resonances trapping more than 25% of the bar particles provide the 'smoking gun' pointing to a close relationship between the bending of stellar orbits and the resonant action -- these particles provide the necessary ingredient assuring the cohesive response in the growing vertical asymmetry. We conclude that resonant excitation is important in triggering the buckling instability, and the contribution from the firehose instability should be reevaluated. Finally, we discuss some observational implications of buckling. |\n",
       "|<p style=\"color:green\"> **ERROR** </p>| <p style=\"color:green\">affiliation error: mpia.affiliation_verifications: 'Heidelberg' keyword not found.</p> |"
      ],
      "text/plain": [
       "<IPython.core.display.Markdown object>"
      ]
     },
     "metadata": {},
     "output_type": "display_data"
    },
    {
     "data": {
      "text/markdown": [
       "\n",
       "|||\n",
       "|---:|:---|\n",
       "| [![arXiv](https://img.shields.io/badge/arXiv-arXiv:2211.01396-b31b1b.svg)](https://arxiv.org/abs/arXiv:2211.01396) | **Prospects for a precise equation of state measurement from Advanced LIGO  and Cosmic Explorer**  |\n",
       "|| Daniel Finstad, Laurel V. White, <mark>Duncan A. Brown</mark> |\n",
       "|*Appeared on*| *2022-11-04*|\n",
       "|*Comments*| *11 pages, 6 figures*|\n",
       "|**Abstract**| Gravitational-wave observations of neutron star mergers can probe the nuclear equation of state by measuring the imprint of the neutron star's tidal deformability on the signal. We investigate the ability of future gravitational-wave observations to produce a precise measurement of the equation of state from binary neutron star inspirals. Since measurability of the tidal effect depends on the equation of state, we explore several equations of state that span current observational constraints. We generate a population of binary neutron stars as seen by a simulated Advanced LIGO-Virgo network, as well as by a planned Cosmic Explorer observatory. We perform Bayesian inference to measure the parameters of each signal, and we combine measurements across each population to determine $R_{1.4}$, the radius of a $1.4M_{\\odot}$ neutron star. We find that with 321 signals the LIGO-Virgo network is able to measure $R_{1.4}$ to better than 2% precision for all equations of state we consider, however we find that achieving this precision could take decades of observation, depending on the equation of state and the merger rate. On the other hand we find that with one year of observation, Cosmic Explorer will measure $R_{1.4}$ to better than 0.6% precision. In both cases we find that systematic biases, such as from an incorrect mass prior, can significantly impact measurement accuracy and efforts will be required to mitigate these effects. |\n",
       "|<p style=\"color:green\"> **ERROR** </p>| <p style=\"color:green\">affiliation error: mpia.affiliation_verifications: 'Heidelberg' keyword not found.</p> |"
      ],
      "text/plain": [
       "<IPython.core.display.Markdown object>"
      ]
     },
     "metadata": {},
     "output_type": "display_data"
    },
    {
     "data": {
      "text/markdown": [
       "\n",
       "|||\n",
       "|---:|:---|\n",
       "| [![arXiv](https://img.shields.io/badge/arXiv-arXiv:2211.01402-b31b1b.svg)](https://arxiv.org/abs/arXiv:2211.01402) | **Flashlights: An Off-Caustic Lensed Star at Redshift $z$ = 1.26 in Abell  370**  |\n",
       "|| Ashish Kumar Meena, et al. -- incl., <mark>Liliya L. R. Williams</mark>, <mark>Sung Kei Li</mark> |\n",
       "|*Appeared on*| *2022-11-04*|\n",
       "|*Comments*| *11 pages. 5 figures. Comments are welcome*|\n",
       "|**Abstract**| We report the discovery of a transient seen in a strongly lensed arc at redshift $z_{\\rm s}=1.2567$ in \\emph{Hubble Space Telescope} imaging of the Abell 370 galaxy cluster. The transient is detected at $29.51\\pm0.14$ AB mag in a WFC3/UVIS F200LP difference image made using observations from two different epochs, obtained in the framework of the \\emph{Flashlights} program, and is also visible in the F350LP band ($m_{\\rm F350LP}\\sim30.53$ AB). The transient is observed on the negative-parity side of the critical curve at a distance of $\\sim 0.6''$ from it, greater than previous examples of lensed stars. The large distance from the critical curve yields a significantly smaller macro-magnification, but our simulations show that bright, O/B-type supergiants can reach sufficiently high magnifications to be seen at the observed position and magnitude. In addition, the observed transient image is a trailing image with an observer-frame time delay of $\\sim+0.8$ days from its expected counterpart, so that any transient lasting for longer than that should have also been seen on the minima side and is thus excluded. This, together with the blue color we measure for the transient ($m_{\\rm F200LP} - m_{\\rm F350LP} \\sim [-0.7,-1]$ AB mag), rules out most other transient candidates such as (kilo)novae, for example, and makes a lensed star the prime candidate. Assuming the transient is indeed a lensed star as suggested, many more such events should be detected in the near future in cluster surveys with the \\emph{Hubble Space Telescope} and \\emph{James Webb Space Telescope}. |\n",
       "|<p style=\"color:green\"> **ERROR** </p>| <p style=\"color:green\">affiliation error: mpia.affiliation_verifications: 'Heidelberg' keyword not found.</p> |"
      ],
      "text/plain": [
       "<IPython.core.display.Markdown object>"
      ]
     },
     "metadata": {},
     "output_type": "display_data"
    },
    {
     "data": {
      "text/markdown": [
       "\n",
       "|||\n",
       "|---:|:---|\n",
       "| [![arXiv](https://img.shields.io/badge/arXiv-arXiv:2211.01435-b31b1b.svg)](https://arxiv.org/abs/arXiv:2211.01435) | **A Targeted Search for Main Belt Comets**  |\n",
       "|| Léa Ferellec, et al. -- incl., <mark>Richard Smith</mark>, <mark>Henry H. Hsieh</mark> |\n",
       "|*Appeared on*| *2022-11-04*|\n",
       "|*Comments*| *13 pages, 9 figures, accepted for publication in MNRAS*|\n",
       "|**Abstract**| Main Belt Comets (MBCs) exhibit sublimation-driven activity while occupying asteroid-like orbits in the Main Asteroid Belt. MBCs and candidates show stronger clustering of their longitudes of perihelion around 15{\\deg} than other objects from the Outer Main Belt (OMB). This potential property of MBCs could facilitate the discovery of new candidates by observing objects in similar orbits. We acquired deep r-band images of 534 targeted asteroids using the INT/WFC between 2018 and 2020. Our sample is comprised of OMB objects observed near perihelion, with longitudes of perihelion between 0{\\deg} and 30{\\deg} and orbital parameters similar to knowns MBCs. Our pipeline applied activity detection methods to 319 of these objects to look for tails or comae, and we visually inspected the remaining asteroids. Our activity detection pipeline highlighted a faint anti-solar tail-like feature around 2001 NL19 (279870) observed on 2018 November 07, six months after perihelion. This is consistent with cometary activity but additional observations of this object will be needed during its next perihelion to investigate its potential MBC status. If it is active our survey yields a detection rate of $\\sim$1:300, which is higher than previous similar surveys, supporting the idea of dynamical clustering of MBCs. If not, it is consistent with previously estimated abundance rates of MBCs in the OMB (<1:500). |\n",
       "|<p style=\"color:green\"> **ERROR** </p>| <p style=\"color:green\">affiliation error: mpia.affiliation_verifications: 'Heidelberg' keyword not found.</p> |"
      ],
      "text/plain": [
       "<IPython.core.display.Markdown object>"
      ]
     },
     "metadata": {},
     "output_type": "display_data"
    },
    {
     "data": {
      "text/markdown": [
       "\n",
       "|||\n",
       "|---:|:---|\n",
       "| [![arXiv](https://img.shields.io/badge/arXiv-arXiv:2211.01445-b31b1b.svg)](https://arxiv.org/abs/arXiv:2211.01445) | **The apparent eta Carinae's long-term evolution and the critical role  played by the strengthening of P Cygni absorption lines**  |\n",
       "|| A. Damineli, et al. -- incl., <mark>B. Heathcote</mark>, <mark>K. Harrison</mark> |\n",
       "|*Appeared on*| *2022-11-04*|\n",
       "|*Comments*| *17 pages, 12 figures, submitted to MNRAS*|\n",
       "|**Abstract**| Over the entire 20th century, Eta Carinae (\\ec) has displayed a unique spectrum, which recently has been evolving towards that of a typical LBV. The two competing scenarios to explain such evolution are: (1) a dissipating occulter in front of a stable star or (2) a decreasing mass loss rate of the star. The first mechanism simultaneously explains why the central star appears to be secularly increasing its apparent brightness while its luminosity does not change; why the Homunculus' apparent brightness remains almost constant; and why the spectrum seen in direct light is becoming more similar to that reflected from the Homunculus (and which resembles a typical LBV). The second scenario does not account for these facts and predicts an increase in the terminal speed of the wind, contrary to observations. In this work, we present new data showing that the P Cygni absorption lines are secularly strengthening, which is not the expected behaviour for a decreasing wind-density scenario. CMFGEN modelling of the primary's wind with a small occulter in front agrees with observations. One could argue that invoking a dissipating coronagraphic occulter makes this object even more peculiar than it already appears to be. However, on the contrary, it solves the apparent contradictions between many observations. Moreover, by assigning the long-term behaviour to circumstellar causes and the periodic variations due to binarity, a star more stable after the 1900s than previously thought is revealed, contrary to the earlier paradigm of an unpredictable object. |\n",
       "|<p style=\"color:green\"> **ERROR** </p>| <p style=\"color:green\">affiliation error: mpia.affiliation_verifications: 'Heidelberg' keyword not found.</p> |"
      ],
      "text/plain": [
       "<IPython.core.display.Markdown object>"
      ]
     },
     "metadata": {},
     "output_type": "display_data"
    },
    {
     "data": {
      "text/markdown": [
       "\n",
       "|||\n",
       "|---:|:---|\n",
       "| [![arXiv](https://img.shields.io/badge/arXiv-arXiv:2211.01459-b31b1b.svg)](https://arxiv.org/abs/arXiv:2211.01459) | **Spectroscopic Time-series Performance of JWST/NIRSpec from Commissioning  Observations**  |\n",
       "|| Néstor Espinoza, et al. -- incl., <mark>Thomas P. Greene</mark> |\n",
       "|*Appeared on*| *2022-11-04*|\n",
       "|*Comments*| *16 pages, 14 figures; part of the PASP Focus Issue \"JWST Time-Series Observations: Commissioning Performance\". Paper after the first round of referee comments; inputs welcome*|\n",
       "|**Abstract**| We report on JWST commissioning observations of the transiting exoplanet HAT-P-14 b, obtained using the Bright Object Time Series (BOTS) mode of the NIRSpec instrument with the G395H/F290LP grating/filter combination ($3-5\\mu$m). While the data were used primarily to verify that the NIRSpec BOTS mode is working as expected, and to enable it for general scientific use, they yield a precise transmission spectrum which we find is featureless down to the precision level of the instrument, consistent with expectations given HAT-P-14~b's small scale-height and hence expected atmospheric features. The exquisite quality and stability of the \\emph{JWST/NIRSpec} transit spectrum -- almost devoid of any systematic effects -- allowed us to obtain median uncertainties of 50-60 ppm in this wavelength range at a resolution of $R=100$ in a single exposure, which is in excellent agreement with pre-flight expectations and close to the (or at the) photon-noise limit for a $J = 9.094$, F-type star like HAT-P-14. These observations showcase the ability of NIRSpec/BOTS to perform cutting-edge transiting exoplanet atmospheric science, setting the stage for observations and discoveries to be made in Cycle 1 and beyond. |\n",
       "|<p style=\"color:green\"> **ERROR** </p>| <p style=\"color:green\">affiliation error: mpia.affiliation_verifications: 'Heidelberg' keyword not found.</p> |"
      ],
      "text/plain": [
       "<IPython.core.display.Markdown object>"
      ]
     },
     "metadata": {},
     "output_type": "display_data"
    },
    {
     "data": {
      "text/markdown": [
       "\n",
       "|||\n",
       "|---:|:---|\n",
       "| [![arXiv](https://img.shields.io/badge/arXiv-arXiv:2211.01465-b31b1b.svg)](https://arxiv.org/abs/arXiv:2211.01465) | **The Small Separation A-Star Companion Population: First Results with  CHARA/MIRC-X**  |\n",
       "|| Matthew De Furio, et al. -- incl., <mark>Michael R. Meyer</mark>, <mark>Claire L. Davies</mark> |\n",
       "|*Appeared on*| *2022-11-04*|\n",
       "|*Comments*| *14 pages, 3 figures, Accepted to the Astrophysical Journal on Nov. 2, 2022*|\n",
       "|**Abstract**| We present preliminary results from our long-baseline interferometry (LBI) survey to constrain the multiplicity properties of intermediate-mass A-type stars within 80pc. Previous multiplicity studies of nearby stars exhibit orbital separation distributions well-fitted with a log-normal with peaks > 15au, increasing with primary mass. The A-star multiplicity survey of De Rosa et al. (2014), sensitive beyond 30au but incomplete below 100 au, found a log-normal peak around 390au. Radial velocity surveys of slowly-rotating, chemically peculiar Am stars identified a significant number of very close companions with periods $\\leq$ 5 days, ~ 0.1au, a result similar to surveys of O- and B-type primaries. With the improved performance of LBI techniques, we can probe these close separations for normal A-type stars where other surveys are incomplete. Our initial sample consists of 27 A-type primaries with estimated masses between 1.44-2.49M$_{\\odot}$ and ages 10-790Myr, which we observed with the MIRC-X instrument at the CHARA Array. We use the open source software CANDID to detect five companions, three of which are new, and derive a companion frequency of 0.19$^{+0.11}_{-0.06}$ over mass ratios 0.25-1.0 and projected separations 0.288-5.481 au. We find a probability of 10$^{-6}$ that our results are consistent with extrapolations based on previous models of the A-star companion population, over mass ratios and separations sampled. Our results show the need to explore these very close separations to inform our understanding of stellar formation and evolution processes. |\n",
       "|<p style=\"color:green\"> **ERROR** </p>| <p style=\"color:green\">affiliation error: mpia.affiliation_verifications: 'Heidelberg' keyword not found.</p> |"
      ],
      "text/plain": [
       "<IPython.core.display.Markdown object>"
      ]
     },
     "metadata": {},
     "output_type": "display_data"
    },
    {
     "data": {
      "text/markdown": [
       "\n",
       "|||\n",
       "|---:|:---|\n",
       "| [![arXiv](https://img.shields.io/badge/arXiv-arXiv:2211.01532-b31b1b.svg)](https://arxiv.org/abs/arXiv:2211.01532) | **A 16 Hour Transit Observed by the Unistellar Network**  |\n",
       "|| Amaury Perrocheau, et al. -- incl., <mark>Hubert Mountz</mark>, <mark>Meyer Stein</mark> |\n",
       "|*Appeared on*| *2022-11-04*|\n",
       "|*Comments*| *11 pages, 3 figures, 2 tables, accepted in ApJL*|\n",
       "|**Abstract**| More than 5,000 exoplanets have been confirmed and among them almost 4,000 were discovered by the transit method. However, few transiting exoplanets have an orbital period greater than 100 days. Here we report a transit detection of Kepler-167 e, a \"Jupiter analog\" exoplanet orbiting a K4 star with a period of 1,071 days, using the Unistellar ground-based telescope network. From 2021 November 18 to 20, citizen astronomers located in nine different countries gathered 43 observations, covering the 16 hour long transit. Using a nested sampling approach to combine and fit the observations, we detected the mid-transit time to be UTC 2021 November 19 17:20:51 with a 1$\\sigma$ uncertainty of 9.8 minutes, making it the longest-period planet to ever have its transit detected from the ground. This is the fourth transit detection of Kepler-167 e, but the first made from the ground. This timing measurement refines the orbit and keeps the ephemeris up to date without requiring space telescopes. Observations like this demonstrate the capabilities of coordinated networks of small telescopes to identify and characterize planets with long orbital periods. |\n",
       "|<p style=\"color:green\"> **ERROR** </p>| <p style=\"color:green\">affiliation error: mpia.affiliation_verifications: 'Heidelberg' keyword not found.</p> |"
      ],
      "text/plain": [
       "<IPython.core.display.Markdown object>"
      ]
     },
     "metadata": {},
     "output_type": "display_data"
    },
    {
     "data": {
      "text/markdown": [
       "\n",
       "|||\n",
       "|---:|:---|\n",
       "| [![arXiv](https://img.shields.io/badge/arXiv-arXiv:2211.01534-b31b1b.svg)](https://arxiv.org/abs/arXiv:2211.01534) | **Constructing the Milky Way Stellar Halo in the Galactic Center by Direct  Orbit Integration**  |\n",
       "|| Chengqun Yang, et al. -- incl., <mark>Ling Zhu</mark>, <mark>Chao Liu</mark> |\n",
       "|*Appeared on*| *2022-11-04*|\n",
       "|*Comments*| *22 pages, 12 figures, Accepted for publication in AJ*|\n",
       "|**Abstract**| The halo stars on highly radial orbits should inevitably pass the center regions of the Milky Way. Under the assumption that the stellar halo is in dynamical equilibrium and axisymmetric, we integrate the orbits of $\\sim 10,000$ halo K-giants at $5\\leq r \\leq 50$ kpc cross-matched from LAMOST DR5 and $Gaia$ DR3. By carefully considering the selection function, we construct the stellar halo distribution at the entire regions of $r \\leq 50$ kpc. We find that a double-broken power-law function well describes the stellar halo density distribution with shallower slopes in the inner regions and the two breaks at $r=10$ kpc and $r=25$ kpc, respectively. The stellar halo becomes flatter from outer to inner regions but has $q\\sim 0.5$ at $r \\lesssim 5$ kpc. The stellar halo becomes isotropic with a slight prograde rotation in the inner 5 kpc, and reaches velocity dispersions of $\\sim 250\\rm \\ km\\ s^{-1}$. We get a weak negative metallicity gradient of $-0.005$ dex kpc$^{-1}$ at $5\\leq r \\leq 50$ kpc, while there is an excess of relative metal-rich stars with [Fe/H]$>-1$ in the inner 10 kpc. The halo interlopers at $r \\leq 5$ kpc from integration of our sample has a mass of $\\sim1.2 \\times 10^8\\ M_{\\odot}$ ($\\sim 4.7 \\times 10^7\\ M_{\\odot}$ at [Fe/H]$<-1.5$), which can explain 50-100% of the metal-poor stars with [Fe/H]$<-1.5$ directly observed in the Galactic central regions. |\n",
       "|<p style=\"color:green\"> **ERROR** </p>| <p style=\"color:green\">affiliation error: mpia.affiliation_verifications: 'Heidelberg' keyword not found.</p> |"
      ],
      "text/plain": [
       "<IPython.core.display.Markdown object>"
      ]
     },
     "metadata": {},
     "output_type": "display_data"
    },
    {
     "data": {
      "text/markdown": [
       "\n",
       "|||\n",
       "|---:|:---|\n",
       "| [![arXiv](https://img.shields.io/badge/arXiv-arXiv:2211.01564-b31b1b.svg)](https://arxiv.org/abs/arXiv:2211.01564) | **Shell helium-burning hot subdwarf B stars as candidates for blue  large-amplitude pulsators**  |\n",
       "|| H.Xiong, et al. -- incl., <mark>X.Zhang</mark>, <mark>J. Li</mark>, <mark>Y.Li</mark> |\n",
       "|*Appeared on*| *2022-11-04*|\n",
       "|*Comments*| *A&A accepted*|\n",
       "|**Abstract**| Blue large-amplitude pulsators (BLAPs) are a newly discovered type of variable star. Their typical pulsation periods are on the order of a few tens of minutes, with relatively large amplitudes of 0.2-0.4 mag in optical bands, and their rates of period changes are on the order of $10^{-7} yr^{-1}$ (both positive and negative). They are extremely rare objects and attempts to explain their origins and internal structures have attracted a great deal of attention. Previous studies have proposed that BLAPs may be pre-white dwarfs, with masses around $0.3M_\\odot$, or core-helium-burning stars in the range of $\\sim 0.7-1.1M_\\odot$. In this work, we use a number of MESA models to compute and explore whether BLAPs could be explained as shell helium-burning subdwarfs type B (SHeB sdBs). The models that best match existing observational constraints have helium core masses in the range of $\\sim 0.45-0.5M_\\odot$. Our model predicts that the positive rate of period change may evolve to negative. The formation channels for SHeB sdBs involve binary evolution and although the vast majority of BLAPs do not appear to be binaries (with the exception of HD 133729), the observational constraints are still very poor. Motivated by these findings, we explored the Roche lobe overflow channel. Of the 304 binary evolution models we computed, about half of them are able to produce SHeB sdBs in long-period binaries that evade detection from the limited observations that are currently available. |\n",
       "|<p style=\"color:green\"> **ERROR** </p>| <p style=\"color:green\">affiliation error: mpia.affiliation_verifications: 'Heidelberg' keyword not found.</p> |"
      ],
      "text/plain": [
       "<IPython.core.display.Markdown object>"
      ]
     },
     "metadata": {},
     "output_type": "display_data"
    },
    {
     "data": {
      "text/markdown": [
       "\n",
       "|||\n",
       "|---:|:---|\n",
       "| [![arXiv](https://img.shields.io/badge/arXiv-arXiv:2211.01567-b31b1b.svg)](https://arxiv.org/abs/arXiv:2211.01567) | **Galaxy Image Deconvolution for Weak Gravitational Lensing with  Physics-informed Deep Learning**  |\n",
       "|| <mark>Tianao Li</mark>, Emma Alexander |\n",
       "|*Appeared on*| *2022-11-04*|\n",
       "|*Comments*| **|\n",
       "|**Abstract**| Removing optical and atmospheric blur from galaxy images significantly improves galaxy shape measurements for weak gravitational lensing and galaxy evolution studies. This ill-posed linear inverse problem is usually solved with deconvolution algorithms enhanced by regularisation priors or deep learning. We introduce a so-called \"physics-based deep learning\" approach to the Point Spread Function (PSF) deconvolution problem in galaxy surveys. We apply algorithm unrolling and the Plug-and-Play technique to the Alternating Direction Method of Multipliers (ADMM) with a Poisson noise model and use a neural network to learn appropriate priors from simulated galaxy images. We characterise the time-performance trade-off of several methods for galaxies of differing brightness levels, showing an improvement of 26% (SNR=20)/48% (SNR=100) compared to standard methods and 14% (SNR=20) compared to modern methods. |\n",
       "|<p style=\"color:green\"> **ERROR** </p>| <p style=\"color:green\">affiliation error: mpia.affiliation_verifications: 'Heidelberg' keyword not found.</p> |"
      ],
      "text/plain": [
       "<IPython.core.display.Markdown object>"
      ]
     },
     "metadata": {},
     "output_type": "display_data"
    },
    {
     "data": {
      "text/markdown": [
       "\n",
       "|||\n",
       "|---:|:---|\n",
       "| [![arXiv](https://img.shields.io/badge/arXiv-arXiv:2211.01570-b31b1b.svg)](https://arxiv.org/abs/arXiv:2211.01570) | **Grain Growth in the Dust Ring with Crescent around Very Low Mass Star ZZ  Tau IRS with JVLA**  |\n",
       "|| Jun Hashimoto, et al. -- incl., <mark>Hauyu Baobab Liu</mark>, <mark>Beibei Liu</mark> |\n",
       "|*Appeared on*| *2022-11-04*|\n",
       "|*Comments*| *11 pages, 3 figures, accepted in ApJ*|\n",
       "|**Abstract**| The azimuthal asymmetries of dust rings in protoplanetary disks such as a crescent around young stars are often interpreted as dust traps, and thus as ideal locations for planetesimal and planet formations. Whether such dust traps effectively promote planetesimal formation in disks around very-low-mass stars (VLM; a mass of $\\lesssim$0.2~$M_\\odot$) is debatable, as the dynamical and grain growth timescales in such systems are long. To investigate grain growth in such systems, we studied the dust ring with crescent around the VLM star ZZ~Tau~IRS using the Karl G. Jansky Very Large Array (JVLA) at centimeter wavelengths. Significant signals were detected around ZZ~Tau~IRS. To estimate the maximum grain size ($a_{\\rm max}$) in the crescent, we compared the observed spectral energy distribution (SED) with SEDs for various $a_{\\rm max}$ values predicted by radiative transfer calculations. We found $a_{\\rm max} \\gtrsim$~1~mm and $\\lesssim$~60~$\\mu$m in the crescent and ring, respectively, though our modeling efforts rely on uncertain dust properties. Our results suggest that grain growth occurred in the ZZ~Tau~IRS disk, relative to sub-micron-sized interstellar medium. Planet formation in crescent with mm-sized pebbles might proceed more efficiently than in other regions with sub-millimeter-sized pebbles via pebble accretion scenarios. |\n",
       "|<p style=\"color:green\"> **ERROR** </p>| <p style=\"color:green\">affiliation error: mpia.affiliation_verifications: 'Heidelberg' keyword not found.</p> |"
      ],
      "text/plain": [
       "<IPython.core.display.Markdown object>"
      ]
     },
     "metadata": {},
     "output_type": "display_data"
    },
    {
     "data": {
      "text/markdown": [
       "\n",
       "|||\n",
       "|---:|:---|\n",
       "| [![arXiv](https://img.shields.io/badge/arXiv-arXiv:2211.01641-b31b1b.svg)](https://arxiv.org/abs/arXiv:2211.01641) | **The Unusual AGN Host NGC 1266: Evidence for Shocks in a Molecular Gas  Rich S0 Galaxy with a Low Luminosity Nucleus**  |\n",
       "|| Peibin Chen, <mark>Yinghe Zhao</mark>, Junfeng Wang |\n",
       "|*Appeared on*| *2022-11-04*|\n",
       "|*Comments*| **|\n",
       "|**Abstract**| NGC 1266 is a lenticular galaxy (S0) hosting an active galactic nucleus (AGN), and known to contain a large amount of shocked gas. We compare the luminosity ratio of mid-\\emph{J} CO lines to IR continuum with star-forming galaxies (SFGs), and then model the CO spectral line energy distribution (SLED). We confirm that in the mid- and high-\\emph{J} regions ($J_{\\rm up}$ = 4--13), the C-type shock ($v_{\\rm s}$ = 25 km s$^{-1}$, $n_{\\rm H}$ = $5\\times10^{4}$ cm$^{-3}$) can reproduce the CO observations well. The galaxy spectral energy distribution (SED) is constructed and modeled by the code {\\tt X-CIGALE} and obtains a set of physical parameters including the star formation rate (SFR, 1.17 $\\pm$ 0.47 \\emph{M$_{\\odot}$}yr$^{-1}$). Also, our work provides SFR derivation of [C\\,{\\sc ii}] from the neutral hydrogen regions only (1.38 $\\pm$ 0.14 $M_{\\odot}$yr$^{-1}$). Previous studies have illusive conclusions on the AGN or starburst nature of the NGC 1266 nucleus. Our SED model shows that the hidden AGN in the system is intrinsically low-luminosity, consequently the infrared luminosity of the AGN does not reach the expected level. Archival data from \\emph{NuSTAR} hard X-ray observations in the 3--79 keV band shows a marginal detection, disfavoring presence of an obscured luminous AGN and implying that a compact starburst is more likely dominant for the NGC 1266 nucleus. |\n",
       "|<p style=\"color:green\"> **ERROR** </p>| <p style=\"color:green\">affiliation error: mpia.affiliation_verifications: 'Heidelberg' keyword not found.</p> |"
      ],
      "text/plain": [
       "<IPython.core.display.Markdown object>"
      ]
     },
     "metadata": {},
     "output_type": "display_data"
    },
    {
     "data": {
      "text/markdown": [
       "\n",
       "|||\n",
       "|---:|:---|\n",
       "| [![arXiv](https://img.shields.io/badge/arXiv-arXiv:2211.01682-b31b1b.svg)](https://arxiv.org/abs/arXiv:2211.01682) | **First Lunar Occultation Results with the TIRCAM2 Near-Infrared Imager at  the Devasthal 3.6-m Telescope**  |\n",
       "|| <mark>Saurabh Sharma</mark>, et al. |\n",
       "|*Appeared on*| *2022-11-04*|\n",
       "|*Comments*| *Accepted for publication in Journal of Astronomical Instrumentation*|\n",
       "|**Abstract**| TIRCAM2 is the facility near-infrared Imager at the Devasthal 3.6-m telescope in northern India, equipped with an Aladdin III InSb array detector. We have pioneered the use of TIRCAM2 for very fast photometry, with the aim of recording Lunar Occultations (LO). This mode is now operational and publicly offered. In this paper we describe the relevant instrumental details, we provide references to the LO method and the underlying data analysis procedures, and we list the LO events recorded so far. Among the results, we highlight a few which have led to the measurement of one small-separation binary star and of two stellar angular diameters. We conclude with a brief outlook on further possible instrumental developments and an estimate of the scientific return. In particular, we find that the LO technique can detect sources down to K~ 9 mag with SNR=1 on the DOT telescope. Angular diameters larger than ~ 1 milliarcsecond (mas) could be measured with SNR above 10, or K~6 mag. These numbers are only an indication and will depend strongly on observing conditions such as lunar phase and rate of lunar limb motion. Based on statistics alone, there are several thousands LO events observable in principle with the given telescope and instrument every year. |\n",
       "|<p style=\"color:green\"> **ERROR** </p>| <p style=\"color:green\">affiliation error: mpia.affiliation_verifications: 'Heidelberg' keyword not found.</p> |"
      ],
      "text/plain": [
       "<IPython.core.display.Markdown object>"
      ]
     },
     "metadata": {},
     "output_type": "display_data"
    },
    {
     "data": {
      "text/markdown": [
       "\n",
       "|||\n",
       "|---:|:---|\n",
       "| [![arXiv](https://img.shields.io/badge/arXiv-arXiv:2211.01697-b31b1b.svg)](https://arxiv.org/abs/arXiv:2211.01697) | **Mapping the circumnuclear regions of the Circinus galaxy with the  Imaging X-ray Polarimetry Explorer**  |\n",
       "|| F. Ursini, et al. -- incl., <mark>J. Heyl</mark>, <mark>I. Liodakis</mark> |\n",
       "|*Appeared on*| *2022-11-04*|\n",
       "|*Comments*| *9 pages, accepted for publication in MNRAS*|\n",
       "|**Abstract**| We report on the Imaging X-ray Polarimetry Explorer (IXPE) observation of the closest and X-ray brightest Compton-thick active galactic nucleus (AGN), the Circinus galaxy. We find the source to be significantly polarized in the 2--6 keV band. From previous studies, the X-ray spectrum is known to be dominated by reflection components, both neutral (torus) and ionized (ionization cones). Our analysis indicates that the polarization degree is $28 \\pm 7$ per cent (at 68 per cent confidence level) for the neutral reflector, with a polarization angle of $18{\\deg} \\pm 5{\\deg}$, roughly perpendicular to the radio jet. The polarization of the ionized reflection is unconstrained. A comparison with Monte Carlo simulations of the polarization expected from the torus shows that the neutral reflector is consistent with being an equatorial torus with a half-opening angle of 45{\\deg}-55{\\deg}. This is the first X-ray polarization detection in a Seyfert galaxy, demonstrating the power of X-ray polarimetry in probing the geometry of the circumnuclear regions of AGNs, and confirming the basic predictions of standard Unification Models. |\n",
       "|<p style=\"color:green\"> **ERROR** </p>| <p style=\"color:green\">affiliation error: mpia.affiliation_verifications: 'Heidelberg' keyword not found.</p> |"
      ],
      "text/plain": [
       "<IPython.core.display.Markdown object>"
      ]
     },
     "metadata": {},
     "output_type": "display_data"
    },
    {
     "data": {
      "text/markdown": [
       "\n",
       "|||\n",
       "|---:|:---|\n",
       "| [![arXiv](https://img.shields.io/badge/arXiv-arXiv:2211.01744-b31b1b.svg)](https://arxiv.org/abs/arXiv:2211.01744) | **The galaxy formation origin of the lensing is low problem**  |\n",
       "|| <mark>Jonas Chaves-Montero</mark>, Raul E. Angulo, Sergio Contreras |\n",
       "|*Appeared on*| *2022-11-04*|\n",
       "|*Comments*| *14 pages, 11 figures*|\n",
       "|**Abstract**| It is now well-established that $\\Lambda$CDM predictions overestimate gravitational lensing measurements around massive galaxies by about 30%, the so-called lensing is low problem. Using a state-of-the-art hydrodynamical simulation, we show that this discrepancy reflects shortcomings in standard structure formation models rather than tensions within the $\\Lambda$CDM paradigm itself. Specifically, this problem results from ignoring a variety of galaxy formation effects in simple models, including assembly bias, segregation of satellite galaxies relative to dark matter, and baryonic effects on the matter distribution. Each of these contributes towards overestimating gravitational lensing and, when combined, these explain the amplitude and scale dependence of the lensing is low problem. We conclude that simplistic structure formation models are inadequate to interpret lensing and clustering together, and that it is crucial to employ more sophisticated models for the upcoming generation of large-scale surveys. |\n",
       "|<p style=\"color:green\"> **ERROR** </p>| <p style=\"color:green\">affiliation error: mpia.affiliation_verifications: 'Heidelberg' keyword not found.</p> |"
      ],
      "text/plain": [
       "<IPython.core.display.Markdown object>"
      ]
     },
     "metadata": {},
     "output_type": "display_data"
    },
    {
     "data": {
      "text/markdown": [
       "\n",
       "|||\n",
       "|---:|:---|\n",
       "| [![arXiv](https://img.shields.io/badge/arXiv-arXiv:2211.01821-b31b1b.svg)](https://arxiv.org/abs/arXiv:2211.01821) | **A Virgo Environmental Survey Tracing Ionised Gas Emission (VESTIGE).XIV.  The main sequence relation in a rich environment down to M_star ~ 10^6 Mo**  |\n",
       "|| A. Boselli, et al. -- incl., <mark>G. Hensler</mark> |\n",
       "|*Appeared on*| *2022-11-04*|\n",
       "|*Comments*| *Accepted for publication on A&A*|\n",
       "|**Abstract**| Using a compilation of Halpha fluxes for 384 star forming galaxies detected during the VESTIGE survey, we study several important scaling relations for a complete sample of galaxies in a rich environment. The extraordinary sensitivity of the data allows us to sample the whole dynamic range of the Halpha luminosity function, from massive (M*~10^11 Mo) to dwarf systems (M*~10^6 Mo). This extends previous works to a dynamic range in stellar mass and star formation rate (10^-4<SFR<10 Mo yr^-1) never explored so far. The main sequence (MS) relation derived for all star forming galaxies within one virial radius of the Virgo cluster has a slope comparable to that observed in other nearby samples of isolated objects, but has a dispersion ~3 times larger. The dispersion is tightly connected to the available amount of HI gas, with gas-poor systems located far below objects of similar stellar mass but with a normal HI content. When measured on unperturbed galaxies with a normal HI gas content, the relation has a slope a=0.92, an intercept b=-1.57, and a scatter ~0.40. We compare these observational results to the prediction of models. The observed scatter in the MS relation can be reproduced only after a violent and active stripping process such as ram-pressure that removes gas from the disc and quenches star formation on short (<1 Gyr) timescales. This rules out milder processes such as starvation. This interpretation is also consistent with the position of galaxies of different star formation activity and gas content within the phase-space diagram. We also show that the star forming regions formed in the stripped material outside perturbed galaxies are located well above the MS relation drawn by unperturbed systems. These HII regions, which might be at the origin of compact sources typical in rich environments, are living a starburst phase lasting only <50 Myr, later becoming quiescent systems. |\n",
       "|<p style=\"color:green\"> **ERROR** </p>| <p style=\"color:green\">affiliation error: mpia.affiliation_verifications: 'Heidelberg' keyword not found.</p> |"
      ],
      "text/plain": [
       "<IPython.core.display.Markdown object>"
      ]
     },
     "metadata": {},
     "output_type": "display_data"
    },
    {
     "data": {
      "text/markdown": [
       "\n",
       "|||\n",
       "|---:|:---|\n",
       "| [![arXiv](https://img.shields.io/badge/arXiv-arXiv:2211.01861-b31b1b.svg)](https://arxiv.org/abs/arXiv:2211.01861) | **Influences of mass transfer stability criterion on double white dwarf  populations**  |\n",
       "|| Zhenwei LI, et al. -- incl., <mark>Hai-Liang Chen</mark> |\n",
       "|*Appeared on*| *2022-11-04*|\n",
       "|*Comments*| *25 pages, 17 figures; Accepted for publication in A&A*|\n",
       "|**Abstract**| Mass transfer stability is an essential issue in binary evolution. Ge et al. studied critical mass ratios for dynamically stable mass transfer by establishing adiabatic mass loss model and found that the donor stars on the giant branches tend to be more stable than that based on the composite polytropic stellar model. We would investigate the influence of mass transfer stability on the formation and properties of DWD populations. We performed a series of binary population synthesis, where the critical mass ratios from adiabatic mass loss model (Ge's model) and that from the composite polytropic model are adopted, respectively. For Ge's model, most of the DWDs are produced from the stable non-conservative Roche lobe overflow plus common envelope (CE) ejection channel (RL+CE channel) regardless of the CE ejection efficiency $\\alpha_{CE}$. While the results of the polytropic model strongly depend on the adopted value of $\\alpha_{ CE}$. We find DWDs produced from the RL+CE channel have comparable WD masses and the mass ratio distribution peaks at around 1. Based on the magnitude-limited sample of DWDs, the space densities for the detectable DWDs and those with extremely low-mass WD (ELM WD) companions in Ge's model is $1347$ and $473 kpc^{-3}$, respectively, close to observations. While the polytropic model overpredicts space density of DWDs by a factor of about $2-3$. We also find that the results of DWD merger rate distribution in Ge's model reproduce the observations better than that of the polytropic model, and the merger rate of DWDs with ELM WD companions in the Galaxy is about $1.8\\times 10^{-3} yr^{-1}$ in Ge's model, which is comparable to the observation estimation. We confirm that the mass transfer stability plays important roles in the formation and properties of DWD populations, and then in the progenitors of SNe Ia and detectable GW sources. |\n",
       "|<p style=\"color:green\"> **ERROR** </p>| <p style=\"color:green\">affiliation error: mpia.affiliation_verifications: 'Heidelberg' keyword not found.</p> |"
      ],
      "text/plain": [
       "<IPython.core.display.Markdown object>"
      ]
     },
     "metadata": {},
     "output_type": "display_data"
    },
    {
     "data": {
      "text/markdown": [
       "\n",
       "|||\n",
       "|---:|:---|\n",
       "| [![arXiv](https://img.shields.io/badge/arXiv-arXiv:2211.01897-b31b1b.svg)](https://arxiv.org/abs/arXiv:2211.01897) | **Demographics of the M-star Multiple Population in the Orion Nebula  Cluster**  |\n",
       "|| Matthew De Furio, et al. -- incl., <mark>Christopher Liu</mark>, <mark>Michael R. Meyer</mark> |\n",
       "|*Appeared on*| *2022-11-04*|\n",
       "|*Comments*| *23 pages, 11 figures, Accepted to ApJ Nov. 3, 2022*|\n",
       "|**Abstract**| We present updated results constraining multiplicity demographics for the stellar population of the Orion Nebula Cluster (ONC, a high-mass, high-density star-forming region), across primary masses 0.08-0.7M$_{\\odot}$. Our study utilizes archival Hubble Space Telescope data obtained with the Advanced Camera for Surveys using multiple filters (GO-10246). Previous multiplicity surveys in low-mass, low-density associations like Taurus identify an excess of companions to low-mass stars roughly twice that of the Galactic field and find the mass ratio distribution consistent with the field. Previously, we found the companion frequency to low-mass stars in the ONC is consistent with the Galactic field over mass ratios=0.6-1.0 and projected separations=30-160au, without placing constraints on the mass ratio distribution. In this study, we investigate the companion population of the ONC with a double point-spread function (PSF) fitting algorithm sensitive to separations larger than 10au (0.025\") using empirical PSF models. We identified 44 companions (14 new), and with a Bayesian analysis, estimate the companion frequency to low-mass stars in the ONC =0.13$^{+0.05}_{-0.03}$ and the power law fit index to the mass ratio distribution =2.08$^{+1.03}_{-0.85}$ over all mass ratios and projected separations of 10-200au. We find the companion frequency in the ONC is consistent with the Galactic field population, likely from high transient stellar density states, and a probability of 0.002 that it is consistent with that of Taurus. We also find the ONC mass ratio distribution is consistent with the field and Taurus, potentially indicative of its primordial nature, a direct outcome of the star formation process. |\n",
       "|<p style=\"color:green\"> **ERROR** </p>| <p style=\"color:green\">affiliation error: mpia.affiliation_verifications: 'Heidelberg' keyword not found.</p> |"
      ],
      "text/plain": [
       "<IPython.core.display.Markdown object>"
      ]
     },
     "metadata": {},
     "output_type": "display_data"
    },
    {
     "data": {
      "text/markdown": [
       "\n",
       "|||\n",
       "|---:|:---|\n",
       "| [![arXiv](https://img.shields.io/badge/arXiv-arXiv:2211.01922-b31b1b.svg)](https://arxiv.org/abs/arXiv:2211.01922) | **Star Formation Variability as a Probe for the Baryon Cycle within  Galaxies**  |\n",
       "|| Eun-jin Shin, et al. -- incl., <mark>Vadim A. Semenov</mark> |\n",
       "|*Appeared on*| *2022-11-04*|\n",
       "|*Comments*| *22 pages including 17 figures. Submitted to ApJ*|\n",
       "|**Abstract**| We investigate the connection of the regulation of star formation and the cycling of baryons within and in and out of galaxies. We use idealized numerical simulations of Milky Way-mass galaxies, in which we systemically vary the galaxy morphology (bulge-to-total mass ratio) and stellar feedback strength (total eight setups with 80 simulations). By following individual gas parcels through the disk, spiral arms, and massive star-forming clumps, we quantify how gas moves and oscillates through the different phases of the interstellar medium (ISM) and forms stars. We show that the residence time of gas in the dense ISM phase ($\\tau_{\\rm SF}$), the nature of spiral arms (strength, number), and the clump properties (number, mass function, and young star fraction) depend on both the galaxy morphology and stellar feedback. Based on these results, we quantify signatures of the baryon cycle within galaxies using the temporal and spatial power spectrum density (PSD) of the star formation history (SFH). Stronger stellar feedback leads to more bursty star formation while the correlation timescale of the SFH is longer, because stronger feedback dissolves the dense, star-forming ISM phase, leading to a more homogeneous ISM and a decrease in $\\tau_{\\rm SF}$. The bulge strength has a similar effect: the deep gravitational potential in a bulge-dominant galaxy imposes a strong shear force that effectively breaks apart gas clumps in the ISM; this subsequently inhibits the fragmentation of cool gas and therefore the star formation in the disk, leading to a decrease in the spatial power on scales of $\\sim$ 1 kpc. We conclude that measurements of the temporal and spatial PSD of the SFH can provide constraints on the baryon cycle and the star formation process. |\n",
       "|<p style=\"color:green\"> **ERROR** </p>| <p style=\"color:green\">affiliation error: mpia.affiliation_verifications: 'Heidelberg' keyword not found.</p> |"
      ],
      "text/plain": [
       "<IPython.core.display.Markdown object>"
      ]
     },
     "metadata": {},
     "output_type": "display_data"
    },
    {
     "data": {
      "text/markdown": [
       "\n",
       "|||\n",
       "|---:|:---|\n",
       "| [![arXiv](https://img.shields.io/badge/arXiv-arXiv:2211.01927-b31b1b.svg)](https://arxiv.org/abs/arXiv:2211.01927) | **Modeling Solids in Nuclear Astrophysics with Smoothed Particle  Hydrodynamics**  |\n",
       "|| Irina Sagert, et al. -- incl., <mark>Hyun Lim</mark> |\n",
       "|*Appeared on*| *2022-11-04*|\n",
       "|*Comments*| *24 pages, 29 figures*|\n",
       "|**Abstract**| Smoothed Particle Hydrodynamics (SPH) is a frequently applied tool in computational astrophysics to solve the fluid dynamics equations governing the systems under study. For some problems, for example when involving asteroids and asteroid impacts, the additional inclusion of material strength is necessary in order to accurately describe the dynamics. In compact stars, that is white dwarfs and neutron stars, solid components are also present. Neutron stars have a solid crust which is the strongest material known in nature. However, their dynamical evolution, when modeled via SPH or other computational fluid dynamics codes, is usually described as a purely fluid dynamics problem. Here, we present the first 3D simulations of neutron-star crustal toroidal oscillations including material strength with the Los Alamos National Laboratory SPH code FleCSPH. In the first half of the paper, we present the numerical implementation of solid material modeling together with standard tests. The second half is on the simulation of crustal oscillations in the fundamental toroidal mode. Here, we dedicate a large fraction of the paper to approaches which can suppress numerical noise in the solid. If not minimized, the latter can dominate the crustal motion in the simulations. |\n",
       "|<p style=\"color:green\"> **ERROR** </p>| <p style=\"color:green\">affiliation error: mpia.affiliation_verifications: 'Heidelberg' keyword not found.</p> |"
      ],
      "text/plain": [
       "<IPython.core.display.Markdown object>"
      ]
     },
     "metadata": {},
     "output_type": "display_data"
    },
    {
     "data": {
      "text/markdown": [
       "\n",
       "|||\n",
       "|---:|:---|\n",
       "| [![arXiv](https://img.shields.io/badge/arXiv-arXiv:2211.01935-b31b1b.svg)](https://arxiv.org/abs/arXiv:2211.01935) | **Discovering a new well: Decaying dark matter with profile likelihoods**  |\n",
       "|| Emil Brinch Holm, et al. -- incl., <mark>Laura Herold</mark> |\n",
       "|*Appeared on*| *2022-11-04*|\n",
       "|*Comments*| *6 pages, 4 figures. Comments welcome!*|\n",
       "|**Abstract**| A large number of studies, all using Bayesian parameter inference from Markov Chain Monte Carlo methods, have constrained the presence of a decaying dark matter component. All such studies find a strong preference for either very long-lived or very short-lived dark matter. However, in this letter, we demonstrate that this preference is due to parameter volume effects that drive the model towards the standard $\\Lambda$CDM model, which is known to provide a good fit to most observational data. Using profile likelihoods, which are free from volume effects, we instead find that the best-fitting parameters are associated with an intermediate regime where around $3 \\%$ of cold dark matter decays just prior to recombination. With two additional parameters, the model yields an overall preference over the $\\Lambda$CDM model of $\\Delta \\chi^2 \\approx -2.8$ with \\textit{Planck} and BAO and $\\Delta \\chi^2 \\approx -7.8$ with the SH0ES $H_0$ measurement, while only slightly alleviating the $H_0$ tension. Ultimately, our results reveal that decaying dark matter is more viable than previously assumed, and illustrate the dangers of relying exclusively on Bayesian parameter inference when analysing extensions to the $\\Lambda$CDM model. |\n",
       "|<p style=\"color:green\"> **ERROR** </p>| <p style=\"color:green\">affiliation error: mpia.affiliation_verifications: 'Heidelberg' keyword not found.</p> |"
      ],
      "text/plain": [
       "<IPython.core.display.Markdown object>"
      ]
     },
     "metadata": {},
     "output_type": "display_data"
    },
    {
     "data": {
      "text/markdown": [
       "\n",
       "|||\n",
       "|---:|:---|\n",
       "| [![arXiv](https://img.shields.io/badge/arXiv-arXiv:2211.01740-b31b1b.svg)](https://arxiv.org/abs/arXiv:2211.01740) | **Formation and Thermodynamic Evolution of plasmoids in active region jets**  |\n",
       "|| Sargam M. Mulay, et al. -- incl., <mark>Helen Mason</mark> |\n",
       "|*Appeared on*| *2022-11-04*|\n",
       "|*Comments*| *13 pages, 10 figures, Accepted for publication in Monthly Notices of the Royal Astronomical Society*|\n",
       "|**Abstract**| We have carried out a comprehensive study of the temperature structure of plasmoids, which successively occurred in recurrent active region jets. The multithermal plasmoids were seen to be travelling along the multi-threaded spire as well as at the footpoint region in the EUV/UV images recorded by the Atmospheric Imaging Assembly (AIA). The Differential Emission Measure (DEM) analysis was performed using EUV AIA images, and the high-temperature part of the DEM was constrained by combining X-ray images from the X-ray telescope (XRT/Hinode). We observed a systematic rise and fall in brightness, electron number densities and the peak temperatures of the spire plasmoid during its propagation along the jet. The plasmoids at the footpoint (FPs) (1.0-2.5 MK) and plasmoids at the spire (SPs) (1.0-2.24 MK) were found to have similar peak temperatures, whereas the FPs have higher DEM weighted temperatures (2.2-5.7 MK) than the SPs (1.3-3.0 MK). A lower limit to the electron number densities of plasmoids - SPs (FPs) were obtained that ranged between 3.4-6.1$\\times$10$^{8}$ (3.3-5.9$\\times$10$^{8}$) cm$^{-3}$ whereas for the spire, it ranged from 2.6-3.2$\\times$10$^{8}$ cm$^{-3}$. Our analysis shows that the emission of these plasmoids starts close to the base of the jet(s), where we believe that a strong current interface is formed. This suggests that the blobs are plasmoids induced by a tearing-mode instability. |\n",
       "|<p style=\"color:red\"> **ERROR** </p>| <p style=\"color:red\">latex error not a gzip file</p> |"
      ],
      "text/plain": [
       "<IPython.core.display.Markdown object>"
      ]
     },
     "metadata": {},
     "output_type": "display_data"
    }
   ],
   "source": [
    "import datetime\n",
    "today = str(datetime.date.today())\n",
    "logfile = f\"_build/html/logs/log-{today}.md\"\n",
    "\n",
    "\n",
    "with open(logfile, 'w') as logs:\n",
    "    # Success\n",
    "    logs.write(f'# Arxiv on Deck 2: Logs - {today}\\n\\n')\n",
    "    logs.write(\"\"\"* Arxiv had {0:,d} new papers\\n\"\"\".format(len(new_papers)))\n",
    "    logs.write(\"\"\"    * {0:,d} with possible author matches\\n\\n\"\"\".format(len(candidates)))\n",
    "    logs.write(\"## Sucessful papers\\n\\n\")\n",
    "    display(Markdown(\"## Successful papers\"))\n",
    "    success = [k[0] for k in documents]\n",
    "    for candid in candidates:\n",
    "        if candid['identifier'].split(':')[-1] in success:\n",
    "            display(candid)\n",
    "            logs.write(candid.generate_markdown_text() + '\\n\\n')\n",
    "\n",
    "    ## failed\n",
    "    logs.write(\"## Failed papers\\n\\n\")\n",
    "    display(Markdown(\"## Failed papers\"))\n",
    "    failed = sorted(failed, key=lambda x: x[1])\n",
    "    current_reason = \"\"\n",
    "    for paper, reason in failed:\n",
    "        if 'affiliation' in reason:\n",
    "            color = 'green'\n",
    "        else:\n",
    "            color = 'red'\n",
    "        data = Markdown(\n",
    "                paper.generate_markdown_text() + \n",
    "                f'\\n|<p style=\"color:{color:s}\"> **ERROR** </p>| <p style=\"color:{color:s}\">{reason:s}</p> |'\n",
    "               )\n",
    "        if reason != current_reason:\n",
    "            logs.write(f'### {reason:s} \\n\\n')\n",
    "            current_reason = reason\n",
    "        logs.write(data.data + '\\n\\n')\n",
    "        \n",
    "        # only display here the important errors (all in logs)\n",
    "        # if color in ('red',):\n",
    "        display(data)"
   ]
  },
  {
   "cell_type": "markdown",
   "id": "472d20ee",
   "metadata": {
    "papermill": {
     "duration": 0.009841,
     "end_time": "2022-11-04T04:31:48.000708",
     "exception": false,
     "start_time": "2022-11-04T04:31:47.990867",
     "status": "completed"
    },
    "tags": []
   },
   "source": [
    "## Export documents\n",
    "\n",
    "We now write the .md files and export relevant images"
   ]
  },
  {
   "cell_type": "code",
   "execution_count": 7,
   "id": "d426aed9",
   "metadata": {
    "execution": {
     "iopub.execute_input": "2022-11-04T04:31:48.022264Z",
     "iopub.status.busy": "2022-11-04T04:31:48.021802Z",
     "iopub.status.idle": "2022-11-04T04:31:48.031073Z",
     "shell.execute_reply": "2022-11-04T04:31:48.030316Z"
    },
    "papermill": {
     "duration": 0.022245,
     "end_time": "2022-11-04T04:31:48.032654",
     "exception": false,
     "start_time": "2022-11-04T04:31:48.010409",
     "status": "completed"
    },
    "tags": []
   },
   "outputs": [],
   "source": [
    "def export_markdown_summary(md: str, md_fname:str, directory: str):\n",
    "    \"\"\"Export MD document and associated relevant images\"\"\"\n",
    "    import os\n",
    "    import shutil\n",
    "    import re\n",
    "\n",
    "    if (os.path.exists(directory) and not os.path.isdir(directory)):\n",
    "        raise RuntimeError(f\"a non-directory file exists with name {directory:s}\")\n",
    "\n",
    "    if (not os.path.exists(directory)):\n",
    "        print(f\"creating directory {directory:s}\")\n",
    "        os.mkdir(directory)\n",
    "\n",
    "    fig_fnames = (re.compile(r'\\[Fig.*\\]\\((.*)\\)').findall(md) + \n",
    "                  re.compile(r'\\<img src=\"([^>\\s]*)\"[^>]*/>').findall(md))\n",
    "    for fname in fig_fnames:\n",
    "        if 'http' in fname:\n",
    "            # No need to copy online figures\n",
    "            continue\n",
    "        destdir = os.path.join(directory, os.path.dirname(fname))\n",
    "        destfname = os.path.join(destdir, os.path.basename(fname))\n",
    "        try:\n",
    "            os.makedirs(destdir)\n",
    "        except FileExistsError:\n",
    "            pass\n",
    "        shutil.copy(fname, destfname)\n",
    "    with open(os.path.join(directory, md_fname), 'w') as fout:\n",
    "        fout.write(md)\n",
    "    print(\"exported in \", os.path.join(directory, md_fname))\n",
    "    [print(\"    + \" + os.path.join(directory,fk)) for fk in fig_fnames]"
   ]
  },
  {
   "cell_type": "code",
   "execution_count": 8,
   "id": "014d04a4",
   "metadata": {
    "execution": {
     "iopub.execute_input": "2022-11-04T04:31:48.054731Z",
     "iopub.status.busy": "2022-11-04T04:31:48.054149Z",
     "iopub.status.idle": "2022-11-04T04:31:48.062721Z",
     "shell.execute_reply": "2022-11-04T04:31:48.061979Z"
    },
    "papermill": {
     "duration": 0.021698,
     "end_time": "2022-11-04T04:31:48.064311",
     "exception": false,
     "start_time": "2022-11-04T04:31:48.042613",
     "status": "completed"
    },
    "tags": []
   },
   "outputs": [
    {
     "name": "stdout",
     "output_type": "stream",
     "text": [
      "exported in  _build/html/2211.01474.md\n",
      "    + _build/html/tmp_2211.01474/./img_AB_Pic_b/Full_fit_xlog_for_publication_NS.png\n",
      "    + _build/html/tmp_2211.01474/./img_AB_Pic_b/K_fit_for_publication_NS_all.png\n",
      "    + _build/html/tmp_2211.01474/./img_AB_Pic_b/J_fit_nocont_for_publication_NS_vel.png\n",
      "    + _build/html/tmp_2211.01474/./img_AB_Pic_b/detLimits_RVDIPmA.png\n",
      "    + _build/html/tmp_2211.01474/./img_AB_Pic_b/corner_BTSETTL_paper.png\n"
     ]
    }
   ],
   "source": [
    "for paper_id, md in documents:\n",
    "    export_markdown_summary(md, f\"{paper_id:s}.md\", '_build/html/')"
   ]
  },
  {
   "cell_type": "markdown",
   "id": "f087a0a7",
   "metadata": {
    "papermill": {
     "duration": 0.009974,
     "end_time": "2022-11-04T04:31:48.084206",
     "exception": false,
     "start_time": "2022-11-04T04:31:48.074232",
     "status": "completed"
    },
    "tags": []
   },
   "source": [
    "## Display the papers\n",
    "\n",
    "Not necessary but allows for a quick check."
   ]
  },
  {
   "cell_type": "code",
   "execution_count": 9,
   "id": "fd25f625",
   "metadata": {
    "execution": {
     "iopub.execute_input": "2022-11-04T04:31:48.106013Z",
     "iopub.status.busy": "2022-11-04T04:31:48.105460Z",
     "iopub.status.idle": "2022-11-04T04:31:48.111284Z",
     "shell.execute_reply": "2022-11-04T04:31:48.110711Z"
    },
    "papermill": {
     "duration": 0.0189,
     "end_time": "2022-11-04T04:31:48.112919",
     "exception": false,
     "start_time": "2022-11-04T04:31:48.094019",
     "status": "completed"
    },
    "scrolled": false,
    "tags": []
   },
   "outputs": [
    {
     "data": {
      "text/markdown": [
       "<div class=\"macros\" style=\"visibility:hidden;\">\n",
       "$\\newcommand{\\ensuremath}{}$\n",
       "$\\newcommand{\\xspace}{}$\n",
       "$\\newcommand{\\object}[1]{\\texttt{#1}}$\n",
       "$\\newcommand{\\farcs}{{.}''}$\n",
       "$\\newcommand{\\farcm}{{.}'}$\n",
       "$\\newcommand{\\arcsec}{''}$\n",
       "$\\newcommand{\\arcmin}{'}$\n",
       "$\\newcommand{\\ion}[2]{#1#2}$\n",
       "$\\newcommand{\\textsc}[1]{\\textrm{#1}}$\n",
       "$\\newcommand{\\hl}[1]{\\textrm{#1}}$\n",
       "$\\newcommand{\\red}[1]{\\textcolor{red}{#1}}$\n",
       "$\\newcommand{\\blue}[1]{\\textcolor{blue}{#1}}$\n",
       "$\\newcommand{\\teal}[1]{\\textcolor{teal}{#1}}$\n",
       "$\\newcommand{\\cyan}[1]{\\textcolor{cyan}{#1}}$\n",
       "$\\newcommand{\\violet}[1]{\\textcolor{violet}{#1}}$\n",
       "$\\newcommand{\\magenta}[1]{\\textcolor{magenta}{#1}}$\n",
       "$\\newcommand{\\fgreen}[1]{\\textcolor{ForestGreen}{#1}}$\n",
       "$\\newcommand{\\lgreen}[1]{\\textcolor{LimeGreen}{#1}}$\n",
       "$\\newcommand{\\nblue}[1]{\\textcolor{NavyBlue}{#1}}$\n",
       "$\\newcommand{\\theenumi}{\\roman{enumi}}$\n",
       "$\\newcommand{\\arraystretch}{1.7}$</div>\n",
       "\n",
       "<div class=\"macros\" style=\"visibility:hidden;\">\n",
       "$\\newcommand{$\\ensuremath$}{}$\n",
       "$\\newcommand{$\\xspace$}{}$\n",
       "$\\newcommand{$\\object$}[1]{\\texttt{#1}}$\n",
       "$\\newcommand{$\\farcs$}{{.}''}$\n",
       "$\\newcommand{$\\farcm$}{{.}'}$\n",
       "$\\newcommand{$\\arcsec$}{''}$\n",
       "$\\newcommand{$\\arcmin$}{'}$\n",
       "$\\newcommand{$\\ion$}[2]{#1#2}$\n",
       "$\\newcommand{$\\textsc$}[1]{\\textrm{#1}}$\n",
       "$\\newcommand{$\\hl$}[1]{\\textrm{#1}}$\n",
       "$\\newcommand{$\\red$}[1]{\\textcolor{red}{#1}}$\n",
       "$\\newcommand{$\\blue$}[1]{\\textcolor{blue}{#1}}$\n",
       "$\\newcommand{$\\teal$}[1]{\\textcolor{teal}{#1}}$\n",
       "$\\newcommand{$\\cyan$}[1]{\\textcolor{cyan}{#1}}$\n",
       "$\\newcommand{$\\violet$}[1]{\\textcolor{violet}{#1}}$\n",
       "$\\newcommand{$\\magenta$}[1]{\\textcolor{magenta}{#1}}$\n",
       "$\\newcommand{$\\fgreen$}[1]{\\textcolor{ForestGreen}{#1}}$\n",
       "$\\newcommand{$\\lgreen$}[1]{\\textcolor{LimeGreen}{#1}}$\n",
       "$\\newcommand{$\\nblue$}[1]{\\textcolor{NavyBlue}{#1}}$\n",
       "$\\newcommand{$\\theenumi$}{\\roman{enumi}}$\n",
       "$\\newcommand{$\\arraystretch$}{1.7}$</div>\n",
       "\n",
       "\n",
       "\n",
       "<div id=\"title\">\n",
       "\n",
       "# Peering into the Young Planetary System AB Pic:  Second Planetary Candidate\n",
       "\n",
       "</div>\n",
       "<div id=\"comments\">\n",
       "\n",
       "[![arXiv](https://img.shields.io/badge/arXiv-2211.01474-b31b1b.svg)](https://arxiv.org/abs/2211.01474)<mark>Appeared on: 2022-11-04</mark> - _17 pages, 13 Figures, 6 Tables. Accepted for publication in A&A (31 of October)_\n",
       "\n",
       "</div>\n",
       "<div id=\"authors\">\n",
       "\n",
       "P. Palma-Bifani, et al. -- incl., <mark><mark>M. Langlois</mark></mark>, <mark><mark>C. Desgrange</mark></mark>, <mark><mark>M. Feldt</mark></mark>, <mark><mark>M. Meyer</mark></mark>, <mark><mark>M. Samland</mark></mark>, <mark><mark>Y. Zhang</mark></mark>\n",
       "\n",
       "</div>\n",
       "<div id=\"abstract\">\n",
       "\n",
       "**Abstract:** We aim to revisit the system AB Pic which has a known companion at the exoplanet/ brown-dwarf boundary. We based this study on a rich set of observations to investigate the companion's orbit and atmosphere. We composed a spectrum of AB Pic b merging archival VLT/SINFONI K-band data, with published spectra at J and H-band (SINFONI) and Lp-band (Magellan-AO), and photometric measurements (HST and Spitzer). We modeled the spectrum with ForMoSA, based on two atmospheric models: ExoREM and BT-SETTL13. We determined the orbital properties of b fitting the astrometric measurements from NaCo (2003 and 2004) and SPHERE (2015). The orbital solutions favor a semi-major axis of $\\sim$190au viewed edge-on. With Exo-REM, we derive a T$_{eff}$ of 1700$\\pm$50K and surface gravity of 4.5$\\pm$0.3dex, consistent with previous works, and we report for the first time a C/O ratio of 0.58$\\pm$0.08 ($\\sim$solar). The posteriors are sensitive to the wavelength interval and the family of models used. Given the 2.1hr rotation period and our vsin(i) of $\\sim$73km/s, we estimate for the first time the true obliquity to be $\\sim$45 or $\\sim$135deg, indicating a significant misalignment between the planet's spin and orbit orientations. Finally, the existence of a proper motion anomaly between the Hipparcos and Gaia eDR3 compared to our SPHERE detection limits and adapted radial velocity limits indicate the existence of a $\\sim$6M$_{Jup}$ inner planet orbiting from 2 to 10au (40-200mas). The possible existence of an inner companion, together with the likely miss-alignment of the spin axis orientation, strongly favor a formation path by gravitational instability or core accretion within a disk closer inside followed by dynamical interactions. Confirmation and characterization of planet c and access to a broader wavelength coverage for planet b will be essential to probe the uncertainties associated with the parameters. \n",
       "\n",
       "</div>\n",
       "\n",
       "<div id=\"div_fig1\">\n",
       "\n",
       "<img src=\"tmp_2211.01474/./img_AB_Pic_b/Full_fit_xlog_for_publication_NS.png\" alt=\"Fig10.1\" width=\"33%\"/><img src=\"tmp_2211.01474/./img_AB_Pic_b/K_fit_for_publication_NS_all.png\" alt=\"Fig10.2\" width=\"33%\"/><img src=\"tmp_2211.01474/./img_AB_Pic_b/J_fit_nocont_for_publication_NS_vel.png\" alt=\"Fig10.3\" width=\"33%\"/>\n",
       "\n",
       "**Figure 10. -** Top: Full SED fit for both families of atmospheric models and the residuals (data - model). An offset was applied to the BT-SETTL13 model.\n",
       "    Middle: Same as the top but for the K-band only.\n",
       "    Bottom: Same as the top but for the J-band modeled without the continuum. Here, the gray area ($>1.3  \\mu$m) stands for the spectral region excluded from the fit.\n",
       "    Each model is identifiable by the label with the numeration of Tables \\ref{ForMoSA1} and \\ref{ForMoSA2}. The colors are consistent with the corner plots (Figures \\ref{Corner_1} and \\ref{Corner_2}) and the Tables. (*Fit*)\n",
       "\n",
       "</div>\n",
       "<div id=\"div_fig2\">\n",
       "\n",
       "<img src=\"tmp_2211.01474/./img_AB_Pic_b/detLimits_RVDIPmA.png\" alt=\"Fig7\" width=\"100%\"/>\n",
       "\n",
       "**Figure 7. -** Mass detection limits for an inner planet without assuming coplanarity with AB Pic b. The pink curve shows the estimated mass and orbital distance from the \\textit{Hipparcos}-\\textit{Gaia} proper motion anomaly (PMa), the blue area represents the SPHERE detection limits (DI), and the green area represents the RV detection limits from \\citet{Grandjean2020} to give a rough idea of the inner regions that we can exclude. The semi-major axis and mass of AB Pic b is represented by the white point. (*detLimABPicc*)\n",
       "\n",
       "</div>\n",
       "<div id=\"div_fig3\">\n",
       "\n",
       "<img src=\"tmp_2211.01474/./img_AB_Pic_b/corner_BTSETTL_paper.png\" alt=\"Fig11\" width=\"100%\"/>\n",
       "\n",
       "**Figure 11. -** Corner-plot comparing the posteriors of the models presented on Figure \\ref{Fit} for BT-SETTL13 with consistent colors. The black dashed lines represent the adopted values from this work listed in Table \\ref{tab:atmosparams}. (*Corner_1*)\n",
       "\n",
       "</div>"
      ],
      "text/plain": [
       "<IPython.core.display.Markdown object>"
      ]
     },
     "metadata": {},
     "output_type": "display_data"
    }
   ],
   "source": [
    "[display(Markdown(k[1])) for k in documents];"
   ]
  },
  {
   "cell_type": "markdown",
   "id": "873873a4",
   "metadata": {
    "papermill": {
     "duration": 0.010185,
     "end_time": "2022-11-04T04:31:48.133378",
     "exception": false,
     "start_time": "2022-11-04T04:31:48.123193",
     "status": "completed"
    },
    "tags": []
   },
   "source": [
    "# Create HTML index"
   ]
  },
  {
   "cell_type": "code",
   "execution_count": 10,
   "id": "cf665672",
   "metadata": {
    "execution": {
     "iopub.execute_input": "2022-11-04T04:31:48.155959Z",
     "iopub.status.busy": "2022-11-04T04:31:48.155302Z",
     "iopub.status.idle": "2022-11-04T04:31:48.165246Z",
     "shell.execute_reply": "2022-11-04T04:31:48.164447Z"
    },
    "papermill": {
     "duration": 0.023278,
     "end_time": "2022-11-04T04:31:48.166850",
     "exception": false,
     "start_time": "2022-11-04T04:31:48.143572",
     "status": "completed"
    },
    "tags": []
   },
   "outputs": [
    {
     "name": "stdout",
     "output_type": "stream",
     "text": [
      "81  publications in the last 7 days.\n",
      "\t _build/html/2211.01474.md\n",
      "\t _build/html/2211.00667.md\n",
      "\t _build/html/2211.00657.md\n",
      "\t _build/html/2211.00087.md\n",
      "\t _build/html/2211.00036.md\n",
      "\t _build/html/2211.00020.md\n",
      "\t _build/html/2211.00010.md\n",
      "\t _build/html/2210.17434.md\n",
      "\t _build/html/2210.12412.md\n",
      "\t _build/html/2210.11926.md\n",
      "\t _build/html/2210.11551.md\n",
      "\t _build/html/2210.11103.md\n",
      "\t _build/html/2210.10707.md\n",
      "\t _build/html/2210.09930.md\n",
      "\t _build/html/2210.08996.md\n",
      "\t _build/html/2210.08517.md\n",
      "\t _build/html/2210.08510.md\n",
      "\t _build/html/2210.08078.md\n",
      "\t _build/html/2210.06504.md\n",
      "\t _build/html/2210.05695.md\n",
      "\t _build/html/2210.05595.md\n",
      "\t _build/html/2210.05505.md\n",
      "\t _build/html/2210.04721.md\n",
      "\t _build/html/2210.03615.md\n",
      "\t _build/html/2210.01811.md\n",
      "\t _build/html/2210.01809.md\n",
      "\t _build/html/2210.01556.md\n",
      "\t _build/html/2210.00863.md\n",
      "\t _build/html/2210.00560.md\n",
      "\t _build/html/2209.15403.md\n",
      "\t _build/html/2209.15110.md\n",
      "\t _build/html/2209.14410.md\n",
      "\t _build/html/2209.14396.md\n",
      "\t _build/html/2209.13717.md\n",
      "\t _build/html/2209.13336.md\n",
      "\t _build/html/2209.12906.md\n",
      "\t _build/html/2209.11781.md\n",
      "\t _build/html/2209.11602.md\n",
      "\t _build/html/2209.11248.md\n",
      "\t _build/html/2209.11096.md\n",
      "\t _build/html/2209.10618.md\n",
      "\t _build/html/2209.09914.md\n",
      "\t _build/html/2209.09823.md\n",
      "\t _build/html/2209.08242.md\n",
      "\t _build/html/2209.08120.md\n",
      "\t _build/html/2209.08106.md\n",
      "\t _build/html/2209.07962.md\n",
      "\t _build/html/2209.07931.md\n",
      "\t _build/html/2209.06833.md\n",
      "\t _build/html/2209.05814.md\n",
      "\t _build/html/2209.05593.md\n",
      "\t _build/html/2209.04304.md\n",
      "\t _build/html/2209.03367.md\n",
      "\t _build/html/2209.02872.md\n",
      "\t _build/html/2209.02725.md\n",
      "\t _build/html/2209.02722.md\n",
      "\t _build/html/2209.02092.md\n",
      "\t _build/html/2209.01125.md\n",
      "\t _build/html/2209.00828.md\n",
      "\t _build/html/2209.00363.md\n",
      "\t _build/html/2208.14927.md\n",
      "\t _build/html/2208.09335.md\n",
      "\t _build/html/2208.08872.md\n",
      "\t _build/html/2204.06393.md\n",
      "\t _build/html/2204.03335.md\n",
      "\t _build/html/2204.03253.md\n",
      "\t _build/html/2204.02998.md\n",
      "\t _build/html/2204.02109.md\n",
      "\t _build/html/2204.02017.md\n",
      "\t _build/html/2204.01824.md\n",
      "\t _build/html/2204.01758.md\n",
      "\t _build/html/2204.01245.md\n",
      "\t _build/html/2204.00793.md\n",
      "\t _build/html/2204.00342.md\n",
      "\t _build/html/2203.16959.md\n",
      "\t _build/html/2203.16856.md\n",
      "\t _build/html/2203.16735.md\n",
      "\t _build/html/2203.16734.md\n",
      "\t _build/html/2203.16504.md\n",
      "\t _build/html/2203.15822.md\n",
      "\t _build/html/2203.15811.md\n"
     ]
    }
   ],
   "source": [
    "from datetime import datetime, timedelta, timezone\n",
    "from glob import glob\n",
    "\n",
    "files = glob('_build/html/*.md')\n",
    "days = 7\n",
    "now = datetime.today()\n",
    "res = []\n",
    "for fk in files:\n",
    "    stat_result = os.stat(fk).st_ctime\n",
    "    modified = datetime.fromtimestamp(stat_result, tz=timezone.utc).replace(tzinfo=None)\n",
    "    delta = now.today() - modified\n",
    "    if delta <= timedelta(days=days):\n",
    "        res.append((delta.seconds, fk))\n",
    "res = [k[1] for k in reversed(sorted(res, key=lambda x:x[1]))]\n",
    "npub = len(res)\n",
    "print(len(res), f\" publications in the last {days:d} days.\")\n",
    "[ print('\\t', k) for k in res ];"
   ]
  },
  {
   "cell_type": "code",
   "execution_count": 11,
   "id": "52ca0208",
   "metadata": {
    "execution": {
     "iopub.execute_input": "2022-11-04T04:31:48.189237Z",
     "iopub.status.busy": "2022-11-04T04:31:48.188523Z",
     "iopub.status.idle": "2022-11-04T04:31:48.196078Z",
     "shell.execute_reply": "2022-11-04T04:31:48.195357Z"
    },
    "papermill": {
     "duration": 0.020566,
     "end_time": "2022-11-04T04:31:48.197661",
     "exception": false,
     "start_time": "2022-11-04T04:31:48.177095",
     "status": "completed"
    },
    "scrolled": false,
    "tags": []
   },
   "outputs": [],
   "source": [
    "def create_carousel(npub=4):\n",
    "    \"\"\" Generate the HTML code for a carousel with `npub` slides \"\"\"\n",
    "    carousel = [\"\"\"<section class=\"carousel\" aria-label=\"Gallery\">\"\"\",\n",
    "                \"\"\"  <ol class=\"carousel__viewport\">\"\"\",\n",
    "    ]\n",
    "    for k in range(1, npub + 1):\n",
    "        prev_ = k - 1\n",
    "        next_ = k + 1\n",
    "        if prev_ <= 0:\n",
    "            prev_ = npub\n",
    "        if next_ > npub:\n",
    "            next_ = 1\n",
    "        text  = f\"\"\"    <li id=\"carousel__slide{k}\" tabindex=\"0\" class=\"carousel__slide\">\\n\"\"\"\n",
    "        text += f\"\"\"       <div class=\"carousel__snapper\">\\n\"\"\"\n",
    "        text += f\"\"\"         <a href=\"#carousel__slide{prev_}\" class=\"carousel__prev\">Go to previous slide</a>\\n\"\"\"\n",
    "        text += f\"\"\"         <a href=\"#carousel__slide{next_}\" class=\"carousel__next\">Go to next slide</a>\\n\"\"\"\n",
    "        text += f\"\"\"         <div id=\"slide{k}_content\" class=\"md_view\" >Content {k}</div>\\n\"\"\"\n",
    "        text += f\"\"\"       </div>\\n\"\"\"\n",
    "        text += f\"\"\"    </li>\"\"\"\n",
    "        carousel.append(text)\n",
    "\n",
    "    carousel.extend([\n",
    "        \"\"\"  </ol>\"\"\",\n",
    "        \"\"\"  <aside class=\"carousel__navigation\">\"\"\",\n",
    "        \"\"\"    <ol class=\"carousel__navigation-list\">\"\"\"])\n",
    "\n",
    "    for k in range(1, npub + 1):\n",
    "        text  = f\"\"\"      <li class=\"carousel__navigation-item\">\\n\"\"\"\n",
    "        text += f\"\"\"        <a href=\"#carousel__slide{k}\" class=\"carousel__navigation-button\">Go to {k}</a>\\n\"\"\"\n",
    "        text += f\"\"\"      </li>\"\"\"\n",
    "        carousel.append(text)\n",
    "    carousel.extend([\"\"\"    </ol>\"\"\", \"\"\"  </aside>\"\"\", \"\"\"</section>\"\"\"])\n",
    "\n",
    "    return '\\n'.join(carousel)"
   ]
  },
  {
   "cell_type": "code",
   "execution_count": 12,
   "id": "a6eac5b6",
   "metadata": {
    "execution": {
     "iopub.execute_input": "2022-11-04T04:31:48.220231Z",
     "iopub.status.busy": "2022-11-04T04:31:48.219918Z",
     "iopub.status.idle": "2022-11-04T04:31:48.227154Z",
     "shell.execute_reply": "2022-11-04T04:31:48.226384Z"
    },
    "papermill": {
     "duration": 0.020953,
     "end_time": "2022-11-04T04:31:48.228754",
     "exception": false,
     "start_time": "2022-11-04T04:31:48.207801",
     "status": "completed"
    },
    "scrolled": false,
    "tags": []
   },
   "outputs": [],
   "source": [
    "carousel = create_carousel(npub)\n",
    "docs = ', '.join(['\"{0:s}\"'.format(k.split('/')[-1]) for k in res])\n",
    "slides = ', '.join([f'\"slide{k}_content\"' for k in range(1, npub + 1)])\n",
    "\n",
    "script = f\"\"\"\n",
    "const docs = [{docs}]\n",
    "\n",
    "const slides = [{slides}]\n",
    "\"\"\" + \"\"\"\n",
    "async function run() {\n",
    "    for (let i = 0; i < docs.length; i++) {\n",
    "        let file = await fetch(docs[i]);\n",
    "        let text = await file.text()\n",
    "        document.getElementById(slides[i]).innerHTML =\n",
    "            marked.parse(text);\n",
    "    }\n",
    "    hljs.highlightAll();\n",
    "}\n",
    "run()\n",
    "\"\"\"\n",
    "\n",
    "page = f\"\"\"<!doctype html>\n",
    "<html lang=\"en\">\n",
    "\n",
    "<head>\n",
    "  <meta charset=\"utf-8\">\n",
    "  <meta name=\"viewport\" content=\"width=device-width, initial-scale=1\">\n",
    "  <!-- Bootstrap CSS -->\n",
    "  <link href=\"https://cdn.jsdelivr.net/npm/bootstrap@5.0.2/dist/css/bootstrap.min.css\" rel=\"stylesheet\"\n",
    "   integrity=\"sha384-EVSTQN3/azprG1Anm3QDgpJLIm9Nao0Yz1ztcQTwFspd3yD65VohhpuuCOmLASjC\" crossorigin=\"anonymous\">\n",
    "  <!-- highlight.js CSS -->\n",
    "  <link rel=\"stylesheet\" href=\"https://cdnjs.cloudflare.com/ajax/libs/highlight.js/11.1.0/styles/default.min.css\">\n",
    "  <!-- Mathjax 3 -->\n",
    "  <script type=\"text/javascript\" id=\"MathJax-config\" src=\"mathjax_config.js\"> </script>\n",
    "  <script type=\"text/javascript\" id=\"MathJax-script\" async \n",
    "    src=\"https://cdn.jsdelivr.net/npm/mathjax@3/es5/tex-mml-chtml.js\">\n",
    "  </script>\n",
    "  <link rel=\"stylesheet\" href=\"index_carousel.css\">\n",
    "  <link rel=\"icon\" type=\"image/x-icon\" href=\"https://www.mpia.de/assets/touch-icon-32x32-a66937bcebc4e8894ebff1f41a366c7c7220fd97a38869ee0f2db65a9f59b6c1.png\">\n",
    "  <title>MPIA Arxiv on deck!</title>\n",
    "</head>\n",
    "\n",
    "<body>\n",
    "  <div id=\"header\"> <img src=\"header_banner.png\" width=\"100%\"></div>\n",
    "  <div id=\"suptitle\"> 7-day archives </div>\n",
    "  <div id=\"info\">\n",
    "    <img src=\"https://pngimg.com/uploads/github/github_PNG58.png\" height=30rem></img>\n",
    "    <a href=https://github.com/mpi-astronomy/arxiv_display style=\"color:black;\">github/mpi-astronomy/arxiv_display</a> \n",
    "  </div>\n",
    "  {carousel:s}\n",
    "</body>\n",
    "\n",
    "<!-- Render Markdown -->\n",
    "\n",
    "<body>\n",
    "  <!-- highlight.js: https://highlightjs.org/download/ -->\n",
    "  <script src=\"https://cdnjs.cloudflare.com/ajax/libs/highlight.js/11.5.0/highlight.min.js\"></script>\n",
    "  <!-- marked.js -->\n",
    "  <script src=\"https://cdn.jsdelivr.net/npm/marked/marked.min.js\"></script>\n",
    "  <script>{script:s}</script>\n",
    "</body>\n",
    "</html>\n",
    "\"\"\"\n",
    "with open(\"_build/html/index_7days.html\", 'w') as fout:\n",
    "    fout.write(page)"
   ]
  },
  {
   "cell_type": "markdown",
   "id": "1cebacbc",
   "metadata": {
    "papermill": {
     "duration": 0.010414,
     "end_time": "2022-11-04T04:31:48.286365",
     "exception": false,
     "start_time": "2022-11-04T04:31:48.275951",
     "status": "completed"
    },
    "tags": []
   },
   "source": [
    "# Debugging papers"
   ]
  },
  {
   "cell_type": "raw",
   "id": "debe7cc6",
   "metadata": {
    "papermill": {
     "duration": 0.01019,
     "end_time": "2022-11-04T04:31:48.306737",
     "exception": false,
     "start_time": "2022-11-04T04:31:48.296547",
     "status": "completed"
    },
    "tags": []
   },
   "source": [
    "raise NotImplementedError(\"Manual Stop\")"
   ]
  },
  {
   "cell_type": "raw",
   "id": "eb169192",
   "metadata": {
    "papermill": {
     "duration": 0.010396,
     "end_time": "2022-11-04T04:31:48.327676",
     "exception": false,
     "start_time": "2022-11-04T04:31:48.317280",
     "status": "completed"
    },
    "scrolled": true,
    "tags": []
   },
   "source": [
    "from IPython.display import display, Markdown\n",
    "from TexSoup import TexSoup\n",
    "import re\n",
    "\n",
    "def bracket_error(source: str):\n",
    "    \"\"\" Find problematic portions of the document \"\"\"\n",
    "    \n",
    "    print(\"len(source)\", len(source))\n",
    "    \n",
    "    # Checking header\n",
    "    begin_doc = next(re.finditer(r'\\\\begin\\{document\\}', doc.source)).span()[1]\n",
    "    header = source[:begin_doc]\n",
    "    text = header + r\"\\n\\end{document}\"\n",
    "\n",
    "    try:\n",
    "        # print(\"Header check... \", end='')\n",
    "        TexSoup(text)\n",
    "        display(Markdown(f\"**[OK]** - Header\"))\n",
    "    except:\n",
    "        raise RuntimeError(\"Error in the header\")\n",
    "        \n",
    "    # Check the text per section until the end.\n",
    "    # Do not stop and try them all.\n",
    "    \n",
    "    problematic_text = []\n",
    "    \n",
    "    sections = ([(0, begin_doc, 'until first section')] + \n",
    "                [(g.span()[0], g.span()[1], g.group()) for g in re.finditer(r'\\\\section\\{.*\\}', source)] +\n",
    "                [(g.span()[0], g.span()[1], g.group()) for g in re.finditer(r'\\\\begin\\{appendix\\}', source)]\n",
    "               )\n",
    "    sections.append([len(source), len(source), 'end'])\n",
    "    \n",
    "    sections = sorted(sections, key=lambda x: x[0])\n",
    "    \n",
    "    prev_pos, prev_name = (0, 'header')\n",
    "    parsed = []\n",
    "    \n",
    "    for span, span_end, name in sections:\n",
    "\n",
    "        if span - prev_pos <= 0:\n",
    "            continue\n",
    "            \n",
    "\n",
    "        text = source[prev_pos:span]\n",
    "        if prev_pos > begin_doc:\n",
    "            text = r\"\\n\\begin{document}\" + text + r\"\\n\\end{document}\"\n",
    "        else:\n",
    "            text = text + r\"\\n\\end{document}\"\n",
    "        try:\n",
    "            #print(f\"{prev_pos}:{prev_name}-->{span}:{name} check... \", end='')\n",
    "            parsed.append(TexSoup(text, tolerance=1))  # allow not ending env\n",
    "            display(Markdown(f\"**[OK]** - *{prev_pos}*:{prev_name} &rarr; *{span}*:{name}\"))\n",
    "            # print(\"ok\")\n",
    "\n",
    "            prev_pos = span\n",
    "            prev_name = name\n",
    "        except:\n",
    "            # print(f\"error between {prev_pos} and {span}\")\n",
    "            display(Markdown(f\"**[ERR]** *{prev_pos}*:{prev_name} &rarr; *{span}*:{name}\"))\n",
    "            problematic_text.append((prev_pos, source[prev_pos:span]))\n",
    "            prev_pos = span\n",
    "            prev_name = name\n",
    "            # raise\n",
    "    return problematic_text, parsed\n",
    "\n",
    "\n",
    "def check_environment(text, offset=0):\n",
    "    \"\"\" Check environment \"\"\"\n",
    "    env = re.compile(r\"\\\\begin\\{(?P<env>.*)\\}(.*)\\\\end\\{(?P=env)\\}\", re.DOTALL)\n",
    "\n",
    "    for match in env.finditer(text):\n",
    "        beg, end = match.span()\n",
    "        beg += offset\n",
    "        end += offset\n",
    "        envname = match.groups()[0]\n",
    "        try:\n",
    "            latex.TexSoup(match.group())\n",
    "        except Exception as e:\n",
    "            display(e)\n",
    "            print(f\"Error in {envname:s} between {beg} and {end}\")\n",
    "            return match.groups()[1], beg, end"
   ]
  },
  {
   "cell_type": "raw",
   "id": "2315e835",
   "metadata": {
    "papermill": {
     "duration": 0.010253,
     "end_time": "2022-11-04T04:31:48.348113",
     "exception": false,
     "start_time": "2022-11-04T04:31:48.337860",
     "status": "completed"
    },
    "scrolled": false,
    "tags": []
   },
   "source": [
    "import importlib\n",
    "importlib.reload(latex)\n",
    "which = \"2204.03253\"\n",
    "paper_id = f'{which:s}'\n",
    "folder = f'tmp_{paper_id:s}'\n",
    "\n",
    "if not os.path.isdir(folder):\n",
    "    folder = retrieve_document_source(f\"{paper_id}\", f'tmp_{paper_id}')\n",
    "\n",
    "try:\n",
    "    doc = latex.LatexDocument(folder, validation=validation)    \n",
    "except AffiliationError as affilerror:\n",
    "    msg = f\"ArXiv:{paper_id:s} is not an MPIA paper... \" + str(affilerror)\n",
    "    print(msg)\n",
    "\n",
    "\n",
    "# Hack because sometimes author parsing does not work well\n",
    "if (len(doc.authors) != len(paper['authors'])):\n",
    "    doc._authors = paper['authors']\n",
    "if (doc.abstract) in (None, ''):\n",
    "    doc._abstract = paper['abstract']\n",
    "\n",
    "doc.comment = get_markdown_badge(paper_id) + \" _\" + paper['comments'] + \"_\"\n",
    "doc.highlight_authors_in_list(hl_list)\n",
    "\n",
    "full_md = doc.generate_markdown_text()"
   ]
  },
  {
   "cell_type": "raw",
   "id": "dd3781db",
   "metadata": {
    "papermill": {
     "duration": 0.010233,
     "end_time": "2022-11-04T04:31:48.368447",
     "exception": false,
     "start_time": "2022-11-04T04:31:48.358214",
     "status": "completed"
    },
    "scrolled": false,
    "tags": []
   },
   "source": [
    "doc"
   ]
  },
  {
   "cell_type": "raw",
   "id": "c6eed834",
   "metadata": {
    "papermill": {
     "duration": 0.010106,
     "end_time": "2022-11-04T04:31:48.388785",
     "exception": false,
     "start_time": "2022-11-04T04:31:48.378679",
     "status": "completed"
    },
    "tags": []
   },
   "source": [
    "# [check_environment(k) for k in bracket_error(doc.source)]\n",
    "_, _, a = latex.get_content_per_section(doc.source, verbose=True)\n",
    "if not a:\n",
    "    print(\"no issues per section\")\n",
    "for ak in a:\n",
    "    r = check_environment(ak[1], offset=ak[0])\n",
    "    print(r[1], r[2])\n",
    "    print(r[0])"
   ]
  },
  {
   "cell_type": "code",
   "execution_count": null,
   "id": "71ce768a",
   "metadata": {
    "papermill": {
     "duration": 0.010066,
     "end_time": "2022-11-04T04:31:48.409155",
     "exception": false,
     "start_time": "2022-11-04T04:31:48.399089",
     "status": "completed"
    },
    "tags": []
   },
   "outputs": [],
   "source": []
  }
 ],
 "metadata": {
  "kernelspec": {
   "display_name": "Python 3.10.6 64-bit",
   "language": "python",
   "name": "python3"
  },
  "language_info": {
   "codemirror_mode": {
    "name": "ipython",
    "version": 3
   },
   "file_extension": ".py",
   "mimetype": "text/x-python",
   "name": "python",
   "nbconvert_exporter": "python",
   "pygments_lexer": "ipython3",
   "version": "3.9.15"
  },
  "papermill": {
   "default_parameters": {},
   "duration": 73.925809,
   "end_time": "2022-11-04T04:31:48.637344",
   "environment_variables": {},
   "exception": null,
   "input_path": "MPIA daily digest.ipynb",
   "output_path": "log.ipynb",
   "parameters": {},
   "start_time": "2022-11-04T04:30:34.711535",
   "version": "2.4.0"
  },
  "vscode": {
   "interpreter": {
    "hash": "e7370f93d1d0cde622a1f8e1c04877d8463912d04d973331ad4851f04de6915a"
   }
  },
  "widgets": {
   "application/vnd.jupyter.widget-state+json": {
    "state": {
     "1d0c3f39547d49d5b96b97e2eaa47fde": {
      "model_module": "@jupyter-widgets/base",
      "model_module_version": "2.0.0",
      "model_name": "LayoutModel",
      "state": {
       "_model_module": "@jupyter-widgets/base",
       "_model_module_version": "2.0.0",
       "_model_name": "LayoutModel",
       "_view_count": null,
       "_view_module": "@jupyter-widgets/base",
       "_view_module_version": "2.0.0",
       "_view_name": "LayoutView",
       "align_content": null,
       "align_items": null,
       "align_self": null,
       "border_bottom": null,
       "border_left": null,
       "border_right": null,
       "border_top": null,
       "bottom": null,
       "display": null,
       "flex": null,
       "flex_flow": null,
       "grid_area": null,
       "grid_auto_columns": null,
       "grid_auto_flow": null,
       "grid_auto_rows": null,
       "grid_column": null,
       "grid_gap": null,
       "grid_row": null,
       "grid_template_areas": null,
       "grid_template_columns": null,
       "grid_template_rows": null,
       "height": null,
       "justify_content": null,
       "justify_items": null,
       "left": null,
       "margin": null,
       "max_height": null,
       "max_width": null,
       "min_height": null,
       "min_width": null,
       "object_fit": null,
       "object_position": null,
       "order": null,
       "overflow": null,
       "padding": null,
       "right": null,
       "top": null,
       "visibility": null,
       "width": null
      }
     },
     "3402e875249b40c68e5e4f1e090c7756": {
      "model_module": "@jupyter-widgets/controls",
      "model_module_version": "2.0.0",
      "model_name": "HTMLStyleModel",
      "state": {
       "_model_module": "@jupyter-widgets/controls",
       "_model_module_version": "2.0.0",
       "_model_name": "HTMLStyleModel",
       "_view_count": null,
       "_view_module": "@jupyter-widgets/base",
       "_view_module_version": "2.0.0",
       "_view_name": "StyleView",
       "background": null,
       "description_width": "",
       "font_size": null,
       "text_color": null
      }
     },
     "461ac36d57834075873b18b76d44126c": {
      "model_module": "@jupyter-widgets/controls",
      "model_module_version": "2.0.0",
      "model_name": "HTMLModel",
      "state": {
       "_dom_classes": [],
       "_model_module": "@jupyter-widgets/controls",
       "_model_module_version": "2.0.0",
       "_model_name": "HTMLModel",
       "_view_count": null,
       "_view_module": "@jupyter-widgets/controls",
       "_view_module_version": "2.0.0",
       "_view_name": "HTMLView",
       "description": "",
       "description_allow_html": false,
       "layout": "IPY_MODEL_1d0c3f39547d49d5b96b97e2eaa47fde",
       "placeholder": "​",
       "style": "IPY_MODEL_3402e875249b40c68e5e4f1e090c7756",
       "tabbable": null,
       "tooltip": null,
       "value": " 26/26 [00:47&lt;00:00,  1.26s/it]"
      }
     },
     "581a53ed7f3c4daf805f9371ba3a36ff": {
      "model_module": "@jupyter-widgets/base",
      "model_module_version": "2.0.0",
      "model_name": "LayoutModel",
      "state": {
       "_model_module": "@jupyter-widgets/base",
       "_model_module_version": "2.0.0",
       "_model_name": "LayoutModel",
       "_view_count": null,
       "_view_module": "@jupyter-widgets/base",
       "_view_module_version": "2.0.0",
       "_view_name": "LayoutView",
       "align_content": null,
       "align_items": null,
       "align_self": null,
       "border_bottom": null,
       "border_left": null,
       "border_right": null,
       "border_top": null,
       "bottom": null,
       "display": null,
       "flex": null,
       "flex_flow": null,
       "grid_area": null,
       "grid_auto_columns": null,
       "grid_auto_flow": null,
       "grid_auto_rows": null,
       "grid_column": null,
       "grid_gap": null,
       "grid_row": null,
       "grid_template_areas": null,
       "grid_template_columns": null,
       "grid_template_rows": null,
       "height": null,
       "justify_content": null,
       "justify_items": null,
       "left": null,
       "margin": null,
       "max_height": null,
       "max_width": null,
       "min_height": null,
       "min_width": null,
       "object_fit": null,
       "object_position": null,
       "order": null,
       "overflow": null,
       "padding": null,
       "right": null,
       "top": null,
       "visibility": null,
       "width": null
      }
     },
     "8f24bb5afa9f44858ff07c083f3b90f5": {
      "model_module": "@jupyter-widgets/base",
      "model_module_version": "2.0.0",
      "model_name": "LayoutModel",
      "state": {
       "_model_module": "@jupyter-widgets/base",
       "_model_module_version": "2.0.0",
       "_model_name": "LayoutModel",
       "_view_count": null,
       "_view_module": "@jupyter-widgets/base",
       "_view_module_version": "2.0.0",
       "_view_name": "LayoutView",
       "align_content": null,
       "align_items": null,
       "align_self": null,
       "border_bottom": null,
       "border_left": null,
       "border_right": null,
       "border_top": null,
       "bottom": null,
       "display": null,
       "flex": null,
       "flex_flow": null,
       "grid_area": null,
       "grid_auto_columns": null,
       "grid_auto_flow": null,
       "grid_auto_rows": null,
       "grid_column": null,
       "grid_gap": null,
       "grid_row": null,
       "grid_template_areas": null,
       "grid_template_columns": null,
       "grid_template_rows": null,
       "height": null,
       "justify_content": null,
       "justify_items": null,
       "left": null,
       "margin": null,
       "max_height": null,
       "max_width": null,
       "min_height": null,
       "min_width": null,
       "object_fit": null,
       "object_position": null,
       "order": null,
       "overflow": null,
       "padding": null,
       "right": null,
       "top": null,
       "visibility": null,
       "width": null
      }
     },
     "8fecf5994df44359817d054faab9dd11": {
      "model_module": "@jupyter-widgets/controls",
      "model_module_version": "2.0.0",
      "model_name": "HTMLStyleModel",
      "state": {
       "_model_module": "@jupyter-widgets/controls",
       "_model_module_version": "2.0.0",
       "_model_name": "HTMLStyleModel",
       "_view_count": null,
       "_view_module": "@jupyter-widgets/base",
       "_view_module_version": "2.0.0",
       "_view_name": "StyleView",
       "background": null,
       "description_width": "",
       "font_size": null,
       "text_color": null
      }
     },
     "b51d745ab79a49d4a9209c9a40cde37d": {
      "model_module": "@jupyter-widgets/base",
      "model_module_version": "2.0.0",
      "model_name": "LayoutModel",
      "state": {
       "_model_module": "@jupyter-widgets/base",
       "_model_module_version": "2.0.0",
       "_model_name": "LayoutModel",
       "_view_count": null,
       "_view_module": "@jupyter-widgets/base",
       "_view_module_version": "2.0.0",
       "_view_name": "LayoutView",
       "align_content": null,
       "align_items": null,
       "align_self": null,
       "border_bottom": null,
       "border_left": null,
       "border_right": null,
       "border_top": null,
       "bottom": null,
       "display": null,
       "flex": null,
       "flex_flow": null,
       "grid_area": null,
       "grid_auto_columns": null,
       "grid_auto_flow": null,
       "grid_auto_rows": null,
       "grid_column": null,
       "grid_gap": null,
       "grid_row": null,
       "grid_template_areas": null,
       "grid_template_columns": null,
       "grid_template_rows": null,
       "height": null,
       "justify_content": null,
       "justify_items": null,
       "left": null,
       "margin": null,
       "max_height": null,
       "max_width": null,
       "min_height": null,
       "min_width": null,
       "object_fit": null,
       "object_position": null,
       "order": null,
       "overflow": null,
       "padding": null,
       "right": null,
       "top": null,
       "visibility": null,
       "width": null
      }
     },
     "cbb52d396afb4699abc9193a1d0b5a06": {
      "model_module": "@jupyter-widgets/controls",
      "model_module_version": "2.0.0",
      "model_name": "ProgressStyleModel",
      "state": {
       "_model_module": "@jupyter-widgets/controls",
       "_model_module_version": "2.0.0",
       "_model_name": "ProgressStyleModel",
       "_view_count": null,
       "_view_module": "@jupyter-widgets/base",
       "_view_module_version": "2.0.0",
       "_view_name": "StyleView",
       "bar_color": null,
       "description_width": ""
      }
     },
     "dd3af19819214feab06feb62f8633653": {
      "model_module": "@jupyter-widgets/controls",
      "model_module_version": "2.0.0",
      "model_name": "HTMLModel",
      "state": {
       "_dom_classes": [],
       "_model_module": "@jupyter-widgets/controls",
       "_model_module_version": "2.0.0",
       "_model_name": "HTMLModel",
       "_view_count": null,
       "_view_module": "@jupyter-widgets/controls",
       "_view_module_version": "2.0.0",
       "_view_name": "HTMLView",
       "description": "",
       "description_allow_html": false,
       "layout": "IPY_MODEL_8f24bb5afa9f44858ff07c083f3b90f5",
       "placeholder": "​",
       "style": "IPY_MODEL_8fecf5994df44359817d054faab9dd11",
       "tabbable": null,
       "tooltip": null,
       "value": "100%"
      }
     },
     "e879903948bf45e8b61abce3749ee937": {
      "model_module": "@jupyter-widgets/controls",
      "model_module_version": "2.0.0",
      "model_name": "FloatProgressModel",
      "state": {
       "_dom_classes": [],
       "_model_module": "@jupyter-widgets/controls",
       "_model_module_version": "2.0.0",
       "_model_name": "FloatProgressModel",
       "_view_count": null,
       "_view_module": "@jupyter-widgets/controls",
       "_view_module_version": "2.0.0",
       "_view_name": "ProgressView",
       "bar_style": "success",
       "description": "",
       "description_allow_html": false,
       "layout": "IPY_MODEL_b51d745ab79a49d4a9209c9a40cde37d",
       "max": 26.0,
       "min": 0.0,
       "orientation": "horizontal",
       "style": "IPY_MODEL_cbb52d396afb4699abc9193a1d0b5a06",
       "tabbable": null,
       "tooltip": null,
       "value": 26.0
      }
     },
     "f6da8561349f48bc9a744be91ba34d70": {
      "model_module": "@jupyter-widgets/controls",
      "model_module_version": "2.0.0",
      "model_name": "HBoxModel",
      "state": {
       "_dom_classes": [],
       "_model_module": "@jupyter-widgets/controls",
       "_model_module_version": "2.0.0",
       "_model_name": "HBoxModel",
       "_view_count": null,
       "_view_module": "@jupyter-widgets/controls",
       "_view_module_version": "2.0.0",
       "_view_name": "HBoxView",
       "box_style": "",
       "children": [
        "IPY_MODEL_dd3af19819214feab06feb62f8633653",
        "IPY_MODEL_e879903948bf45e8b61abce3749ee937",
        "IPY_MODEL_461ac36d57834075873b18b76d44126c"
       ],
       "layout": "IPY_MODEL_581a53ed7f3c4daf805f9371ba3a36ff",
       "tabbable": null,
       "tooltip": null
      }
     }
    },
    "version_major": 2,
    "version_minor": 0
   }
  }
 },
 "nbformat": 4,
 "nbformat_minor": 5
}