{
 "cells": [
  {
   "cell_type": "markdown",
   "id": "92bcb855",
   "metadata": {
    "papermill": {
     "duration": 0.005841,
     "end_time": "2023-01-13T04:07:54.370521",
     "exception": false,
     "start_time": "2023-01-13T04:07:54.364680",
     "status": "completed"
    },
    "tags": []
   },
   "source": [
    "# MPIA Arxiv on Deck 2\n",
    "\n",
    "Contains the steps to produce the paper extractions."
   ]
  },
  {
   "cell_type": "code",
   "execution_count": 1,
   "id": "3a0d6e11",
   "metadata": {
    "execution": {
     "iopub.execute_input": "2023-01-13T04:07:54.381234Z",
     "iopub.status.busy": "2023-01-13T04:07:54.380713Z",
     "iopub.status.idle": "2023-01-13T04:07:54.577896Z",
     "shell.execute_reply": "2023-01-13T04:07:54.577141Z"
    },
    "papermill": {
     "duration": 0.205048,
     "end_time": "2023-01-13T04:07:54.580363",
     "exception": false,
     "start_time": "2023-01-13T04:07:54.375315",
     "status": "completed"
    },
    "tags": []
   },
   "outputs": [],
   "source": [
    "# Imports\n",
    "import os\n",
    "from IPython.display import Markdown, display\n",
    "from tqdm.notebook import tqdm\n",
    "import warnings\n",
    "from PIL import Image \n",
    "\n",
    "# requires arxiv_on_deck_2\n",
    "\n",
    "from arxiv_on_deck_2.arxiv2 import (get_new_papers, \n",
    "                                    get_paper_from_identifier,\n",
    "                                    retrieve_document_source, \n",
    "                                    get_markdown_badge)\n",
    "from arxiv_on_deck_2 import (latex, \n",
    "                             mpia,\n",
    "                             highlight_authors_in_list)\n",
    "\n",
    "# Sometimes images are really big\n",
    "Image.MAX_IMAGE_PIXELS = 1000000000 "
   ]
  },
  {
   "cell_type": "code",
   "execution_count": 2,
   "id": "22aa9d44",
   "metadata": {
    "execution": {
     "iopub.execute_input": "2023-01-13T04:07:54.591873Z",
     "iopub.status.busy": "2023-01-13T04:07:54.591191Z",
     "iopub.status.idle": "2023-01-13T04:07:54.597770Z",
     "shell.execute_reply": "2023-01-13T04:07:54.597084Z"
    },
    "papermill": {
     "duration": 0.014139,
     "end_time": "2023-01-13T04:07:54.599574",
     "exception": false,
     "start_time": "2023-01-13T04:07:54.585435",
     "status": "completed"
    },
    "tags": []
   },
   "outputs": [],
   "source": [
    "# Some useful definitions.\n",
    "\n",
    "class AffiliationWarning(UserWarning):\n",
    "    pass\n",
    "\n",
    "class AffiliationError(RuntimeError):\n",
    "    pass\n",
    "\n",
    "def validation(source: str):\n",
    "    \"\"\"Raises error paper during parsing of source file\n",
    "    \n",
    "    Allows checks before parsing TeX code.\n",
    "    \n",
    "    Raises AffiliationWarning\n",
    "    \"\"\"\n",
    "    check = mpia.affiliation_verifications(source, verbose=True)\n",
    "    if check is not True:\n",
    "        raise AffiliationError(\"mpia.affiliation_verifications: \" + check)\n",
    "\n",
    "        \n",
    "warnings.simplefilter('always', AffiliationWarning)"
   ]
  },
  {
   "cell_type": "code",
   "execution_count": 3,
   "id": "14622700",
   "metadata": {
    "execution": {
     "iopub.execute_input": "2023-01-13T04:07:54.609786Z",
     "iopub.status.busy": "2023-01-13T04:07:54.609107Z",
     "iopub.status.idle": "2023-01-13T04:07:54.613338Z",
     "shell.execute_reply": "2023-01-13T04:07:54.612733Z"
    },
    "papermill": {
     "duration": 0.011401,
     "end_time": "2023-01-13T04:07:54.615114",
     "exception": false,
     "start_time": "2023-01-13T04:07:54.603713",
     "status": "completed"
    },
    "tags": []
   },
   "outputs": [],
   "source": [
    "# additional CSS to consider. \n",
    "# TODO: Current into each exported file. \n",
    "#       This should be set once into the webpages directly.\n",
    "#       With only the class/id definitions in the .md files.\n",
    "\n",
    "debug_html = \"\"\"\n",
    "<style>\n",
    "#wrap{ overflow:auto; }\n",
    "#fig1{ background:yellow; width:100%; float:left; padding:5px;  }\n",
    "#fig2{ background:red; width:50%; float:left; clear:left; padding:5px;  }\n",
    "#fig3{ background:green; width:50%; float:left; padding:5px;   }\n",
    ".macros{ background:yellow; visibility:visible;}\n",
    "h1 {margin: 0 0 0 0;}\n",
    "mark {background-color:#fff3b6;}\n",
    "img {object-fit:contain; max-height:250px; display:inline-block; text-align: center;}\n",
    "</style>\n",
    "\"\"\" \n",
    "html = \"\"\"\n",
    "<style>\n",
    "#wrap{ overflow:auto; }\n",
    "#fig1{ width:100%; float:left; padding: 5px;  }\n",
    "#fig2{ width:50%; float:left; clear:left; padding: 5px;  }\n",
    "#fig3{ width:50%; float:left; padding: 5px;  }\n",
    ".macros{ visibility:hidden; height:0px; }\n",
    "h1 {margin: 0em 0 0 0;}\n",
    "mark {background-color:#fff3b6;}\n",
    "img {object-fit:contain; max-height:250px; display:inline-block; text-align: center;}\n",
    "</style>\n",
    "\"\"\""
   ]
  },
  {
   "cell_type": "markdown",
   "id": "14bd6310",
   "metadata": {
    "papermill": {
     "duration": 0.004026,
     "end_time": "2023-01-13T04:07:54.623215",
     "exception": false,
     "start_time": "2023-01-13T04:07:54.619189",
     "status": "completed"
    },
    "tags": []
   },
   "source": [
    "## get list of arxiv paper candidates\n",
    "\n",
    "We use the MPIA mitarbeiter list webpage from mpia.de to get author names\n",
    "We then get all new papers from Arxiv and match authors"
   ]
  },
  {
   "cell_type": "code",
   "execution_count": 4,
   "id": "2645e73a",
   "metadata": {
    "execution": {
     "iopub.execute_input": "2023-01-13T04:07:54.633227Z",
     "iopub.status.busy": "2023-01-13T04:07:54.632640Z",
     "iopub.status.idle": "2023-01-13T04:08:20.903375Z",
     "shell.execute_reply": "2023-01-13T04:08:20.901449Z"
    },
    "papermill": {
     "duration": 26.277929,
     "end_time": "2023-01-13T04:08:20.905179",
     "exception": false,
     "start_time": "2023-01-13T04:07:54.627250",
     "status": "completed"
    },
    "tags": []
   },
   "outputs": [
    {
     "name": "stdout",
     "output_type": "stream",
     "text": [
      "Arxiv has 64 new papers today\n",
      "          26 with possible author matches\n"
     ]
    }
   ],
   "source": [
    "# get list from MPIA website\n",
    "# it automatically filters identified non-scientists :func:`mpia.filter_non_scientists`\n",
    "mpia_authors = mpia.get_mpia_mitarbeiter_list()\n",
    "new_papers = get_new_papers()\n",
    "# add manual references\n",
    "add_paper_refs = []\n",
    "new_papers.extend([get_paper_from_identifier(k) for k in add_paper_refs])\n",
    "\n",
    "# select only papers with matching author names and highlight authors\n",
    "hl_list = [k[0] for k in mpia_authors]\n",
    "\n",
    "candidates = []\n",
    "for paperk in new_papers:\n",
    "    hl_authors = highlight_authors_in_list(paperk['authors'], hl_list)\n",
    "    matches = [(hl, orig) for hl, orig in zip(hl_authors, paperk['authors']) if 'mark' in hl]\n",
    "    paperk['authors'] = hl_authors\n",
    "    if matches:\n",
    "        candidates.append(paperk)\n",
    "print(\"\"\"Arxiv has {0:,d} new papers today\"\"\".format(len(new_papers)))        \n",
    "print(\"\"\"          {0:,d} with possible author matches\"\"\".format(len(candidates)))"
   ]
  },
  {
   "cell_type": "markdown",
   "id": "3543b34a",
   "metadata": {
    "papermill": {
     "duration": 0.004207,
     "end_time": "2023-01-13T04:08:20.914580",
     "exception": false,
     "start_time": "2023-01-13T04:08:20.910373",
     "status": "completed"
    },
    "tags": []
   },
   "source": [
    "# Parse sources and generate relevant outputs\n",
    "\n",
    "From the candidates, we do the following steps:\n",
    "* get their tarball from ArXiv (and extract data)\n",
    "* find the main .tex file: find one with \\documentclass{...} (sometimes it's non trivial)\n",
    "* Check affiliations with :func:`validation`, which uses :func:`mpia.affiliation_verifications`\n",
    "* If passing the affiliations: we parse the .tex source\n",
    "   * inject sub-documents into the main (flatten the main document)\n",
    "   * parse structure, extract information (title, abstract, authors, figures...)\n",
    "   * handles `\\graphicspath` if provided\n",
    "* Generate the .md document."
   ]
  },
  {
   "cell_type": "code",
   "execution_count": 5,
   "id": "9576b79e",
   "metadata": {
    "execution": {
     "iopub.execute_input": "2023-01-13T04:08:20.926010Z",
     "iopub.status.busy": "2023-01-13T04:08:20.925082Z",
     "iopub.status.idle": "2023-01-13T04:11:40.176536Z",
     "shell.execute_reply": "2023-01-13T04:11:40.175814Z"
    },
    "papermill": {
     "duration": 199.260434,
     "end_time": "2023-01-13T04:11:40.179177",
     "exception": false,
     "start_time": "2023-01-13T04:08:20.918743",
     "status": "completed"
    },
    "scrolled": false,
    "tags": []
   },
   "outputs": [
    {
     "data": {
      "application/vnd.jupyter.widget-view+json": {
       "model_id": "e68b03ecebce4eeca5516fa441198a52",
       "version_major": 2,
       "version_minor": 0
      },
      "text/plain": [
       "  0%|          | 0/25 [00:00<?, ?it/s]"
      ]
     },
     "metadata": {},
     "output_type": "display_data"
    },
    {
     "name": "stdout",
     "output_type": "stream",
     "text": [
      "Retrieving document from  https://arxiv.org/e-print/2301.04656\n"
     ]
    },
    {
     "name": "stdout",
     "output_type": "stream",
     "text": [
      "extracting tarball to tmp_2301.04656..."
     ]
    },
    {
     "name": "stdout",
     "output_type": "stream",
     "text": [
      " done.\n"
     ]
    },
    {
     "name": "stderr",
     "output_type": "stream",
     "text": [
      "/opt/hostedtoolcache/Python/3.9.16/x64/lib/python3.9/site-packages/arxiv_on_deck_2/latex.py:366: LatexWarning: Error parsing the document directly. Trying to recover.\n",
      "  warnings.warn(LatexWarning(f\"Error parsing the document directly. Trying to recover.\"))\n"
     ]
    },
    {
     "name": "stdout",
     "output_type": "stream",
     "text": [
      "✔ → 0:header\n",
      "  ↳ 4065:\\section{Introduction}\n"
     ]
    },
    {
     "name": "stdout",
     "output_type": "stream",
     "text": [
      "✔ → 4065:\\section{Introduction}\n",
      "  ↳ 11278:\\section{Methods}\n"
     ]
    },
    {
     "name": "stdout",
     "output_type": "stream",
     "text": [
      "✘ → 11278:\\section{Methods}\n",
      "  ↳ 27340:\\section{Observational constraints}\n"
     ]
    },
    {
     "name": "stdout",
     "output_type": "stream",
     "text": [
      "✘ → 27340:\\section{Observational constraints}\n",
      "  ↳ 36365:\\section{Results}\n"
     ]
    },
    {
     "name": "stdout",
     "output_type": "stream",
     "text": [
      "✘ → 36365:\\section{Results}\n",
      "  ↳ 53362:\\section{Disc populations}\n"
     ]
    },
    {
     "name": "stdout",
     "output_type": "stream",
     "text": [
      "✔ → 53362:\\section{Disc populations}\n",
      "  ↳ 70914:\\section{Discussion}\n"
     ]
    },
    {
     "name": "stdout",
     "output_type": "stream",
     "text": [
      "✔ → 70914:\\section{Discussion}\n",
      "  ↳ 76954:\\section{Summary and conclusion}\n",
      "✔ → 76954:\\section{Summary and conclusion}\n",
      "  ↳ 82598:\\begin{appendix}\n",
      "✔ → 82598:\\begin{appendix}\n",
      "  ↳ 82615:\\section{Parameter study}\n"
     ]
    },
    {
     "name": "stdout",
     "output_type": "stream",
     "text": [
      "✔ → 82615:\\section{Parameter study}\n",
      "  ↳ 87233:\\section{Best parameters for population}\n",
      "✔ → 87233:\\section{Best parameters for population}\n",
      "  ↳ 91096:end\n"
     ]
    },
    {
     "name": "stderr",
     "output_type": "stream",
     "text": [
      "/opt/hostedtoolcache/Python/3.9.16/x64/lib/python3.9/site-packages/arxiv_on_deck_2/latex.py:118: LatexWarning: attempting recovering figure disklifetimes_canon\n",
      "  warnings.warn(LatexWarning(f'attempting recovering figure {image}'))\n"
     ]
    },
    {
     "name": "stderr",
     "output_type": "stream",
     "text": [
      "/opt/hostedtoolcache/Python/3.9.16/x64/lib/python3.9/site-packages/arxiv_on_deck_2/latex.py:118: LatexWarning: attempting recovering figure mcomb_canon_res_1e5\n",
      "  warnings.warn(LatexWarning(f'attempting recovering figure {image}'))\n"
     ]
    },
    {
     "name": "stderr",
     "output_type": "stream",
     "text": [
      "/opt/hostedtoolcache/Python/3.9.16/x64/lib/python3.9/site-packages/arxiv_on_deck_2/latex.py:118: LatexWarning: attempting recovering figure typical_gas_sinks\n",
      "  warnings.warn(LatexWarning(f'attempting recovering figure {image}'))\n"
     ]
    },
    {
     "name": "stderr",
     "output_type": "stream",
     "text": [
      "/opt/hostedtoolcache/Python/3.9.16/x64/lib/python3.9/site-packages/arxiv_on_deck_2/latex.py:118: LatexWarning: attempting recovering figure manara_canon_2e6\n",
      "  warnings.warn(LatexWarning(f'attempting recovering figure {image}'))\n"
     ]
    },
    {
     "name": "stderr",
     "output_type": "stream",
     "text": [
      "/opt/hostedtoolcache/Python/3.9.16/x64/lib/python3.9/site-packages/arxiv_on_deck_2/latex.py:118: LatexWarning: attempting recovering figure param_expo_dlt_nir\n",
      "  warnings.warn(LatexWarning(f'attempting recovering figure {image}'))\n",
      "/opt/hostedtoolcache/Python/3.9.16/x64/lib/python3.9/site-packages/arxiv_on_deck_2/latex.py:118: LatexWarning: attempting recovering figure param_expo_mobs_2e6\n",
      "  warnings.warn(LatexWarning(f'attempting recovering figure {image}'))\n",
      "/opt/hostedtoolcache/Python/3.9.16/x64/lib/python3.9/site-packages/arxiv_on_deck_2/latex.py:118: LatexWarning: attempting recovering figure param_expo_acc_2e6\n",
      "  warnings.warn(LatexWarning(f'attempting recovering figure {image}'))\n",
      "/opt/hostedtoolcache/Python/3.9.16/x64/lib/python3.9/site-packages/arxiv_on_deck_2/latex.py:118: LatexWarning: attempting recovering figure param_visc_dlt_nir\n",
      "  warnings.warn(LatexWarning(f'attempting recovering figure {image}'))\n",
      "/opt/hostedtoolcache/Python/3.9.16/x64/lib/python3.9/site-packages/arxiv_on_deck_2/latex.py:118: LatexWarning: attempting recovering figure param_visc_mobs_2e6\n",
      "  warnings.warn(LatexWarning(f'attempting recovering figure {image}'))\n",
      "/opt/hostedtoolcache/Python/3.9.16/x64/lib/python3.9/site-packages/arxiv_on_deck_2/latex.py:118: LatexWarning: attempting recovering figure param_visc_acc_2e6\n",
      "  warnings.warn(LatexWarning(f'attempting recovering figure {image}'))\n"
     ]
    },
    {
     "name": "stderr",
     "output_type": "stream",
     "text": [
      "/opt/hostedtoolcache/Python/3.9.16/x64/lib/python3.9/site-packages/arxiv_on_deck_2/latex.py:118: LatexWarning: attempting recovering figure param_mass_mobs_2e6\n",
      "  warnings.warn(LatexWarning(f'attempting recovering figure {image}'))\n",
      "/opt/hostedtoolcache/Python/3.9.16/x64/lib/python3.9/site-packages/arxiv_on_deck_2/latex.py:118: LatexWarning: attempting recovering figure param_solids_mobs_2e6\n",
      "  warnings.warn(LatexWarning(f'attempting recovering figure {image}'))\n",
      "/opt/hostedtoolcache/Python/3.9.16/x64/lib/python3.9/site-packages/arxiv_on_deck_2/latex.py:118: LatexWarning: attempting recovering figure param_vel_mobs_2e6\n",
      "  warnings.warn(LatexWarning(f'attempting recovering figure {image}'))\n"
     ]
    },
    {
     "name": "stderr",
     "output_type": "stream",
     "text": [
      "/opt/hostedtoolcache/Python/3.9.16/x64/lib/python3.9/site-packages/arxiv_on_deck_2/latex.py:118: LatexWarning: attempting recovering figure manara_mdisc_2e6\n",
      "  warnings.warn(LatexWarning(f'attempting recovering figure {image}'))\n",
      "/opt/hostedtoolcache/Python/3.9.16/x64/lib/python3.9/site-packages/arxiv_on_deck_2/latex.py:118: LatexWarning: attempting recovering figure manara_rad_2e6\n",
      "  warnings.warn(LatexWarning(f'attempting recovering figure {image}'))\n",
      "/opt/hostedtoolcache/Python/3.9.16/x64/lib/python3.9/site-packages/arxiv_on_deck_2/latex.py:118: LatexWarning: attempting recovering figure manara_alpha_2e6\n",
      "  warnings.warn(LatexWarning(f'attempting recovering figure {image}'))\n"
     ]
    },
    {
     "name": "stdout",
     "output_type": "stream",
     "text": [
      "Retrieving document from  https://arxiv.org/e-print/2301.04659\n"
     ]
    },
    {
     "name": "stdout",
     "output_type": "stream",
     "text": [
      "extracting tarball to tmp_2301.04659..."
     ]
    },
    {
     "name": "stdout",
     "output_type": "stream",
     "text": [
      " done.\n",
      "Retrieving document from  https://arxiv.org/e-print/2301.04662\n"
     ]
    },
    {
     "name": "stderr",
     "output_type": "stream",
     "text": [
      "/opt/hostedtoolcache/Python/3.9.16/x64/lib/python3.9/site-packages/IPython/core/interactiveshell.py:3442: LatexWarning: Multiple tex files.\n",
      "\n",
      "  exec(code_obj, self.user_global_ns, self.user_ns)\n",
      "/opt/hostedtoolcache/Python/3.9.16/x64/lib/python3.9/site-packages/IPython/core/interactiveshell.py:3442: LatexWarning: Found documentclass in tmp_2301.04659/main.tex\n",
      "\n",
      "  exec(code_obj, self.user_global_ns, self.user_ns)\n"
     ]
    },
    {
     "name": "stdout",
     "output_type": "stream",
     "text": [
      "extracting tarball to tmp_2301.04662..."
     ]
    },
    {
     "name": "stdout",
     "output_type": "stream",
     "text": [
      " done.\n",
      "Retrieving document from  https://arxiv.org/e-print/2301.04665\n"
     ]
    },
    {
     "name": "stdout",
     "output_type": "stream",
     "text": [
      "extracting tarball to tmp_2301.04665..."
     ]
    },
    {
     "name": "stdout",
     "output_type": "stream",
     "text": [
      " done.\n",
      "Retrieving document from  https://arxiv.org/e-print/2301.04666\n"
     ]
    },
    {
     "name": "stderr",
     "output_type": "stream",
     "text": [
      "/opt/hostedtoolcache/Python/3.9.16/x64/lib/python3.9/site-packages/IPython/core/interactiveshell.py:3442: LatexWarning: Multiple tex files.\n",
      "\n",
      "  exec(code_obj, self.user_global_ns, self.user_ns)\n",
      "/opt/hostedtoolcache/Python/3.9.16/x64/lib/python3.9/site-packages/IPython/core/interactiveshell.py:3442: LatexWarning: Found documentclass in tmp_2301.04665/DZH.tex\n",
      "\n",
      "  exec(code_obj, self.user_global_ns, self.user_ns)\n",
      "/opt/hostedtoolcache/Python/3.9.16/x64/lib/python3.9/site-packages/arxiv_on_deck_2/latex.py:292: LatexWarning: Latex injecting: 'appendix_tables' from 'tmp_2301.04665/appendix_tables.tex'\n",
      "  warnings.warn(LatexWarning(f\"Latex injecting: '{ext}' from '{subsource}'\"))\n"
     ]
    },
    {
     "name": "stdout",
     "output_type": "stream",
     "text": [
      "extracting tarball to tmp_2301.04666... done.\n",
      "Retrieving document from  https://arxiv.org/e-print/2301.04692\n"
     ]
    },
    {
     "name": "stdout",
     "output_type": "stream",
     "text": [
      "extracting tarball to tmp_2301.04692..."
     ]
    },
    {
     "name": "stdout",
     "output_type": "stream",
     "text": [
      " done.\n",
      "Retrieving document from  https://arxiv.org/e-print/2301.04694\n"
     ]
    },
    {
     "name": "stderr",
     "output_type": "stream",
     "text": [
      "/opt/hostedtoolcache/Python/3.9.16/x64/lib/python3.9/site-packages/IPython/core/interactiveshell.py:3442: LatexWarning: Multiple tex files.\n",
      "\n",
      "  exec(code_obj, self.user_global_ns, self.user_ns)\n",
      "/opt/hostedtoolcache/Python/3.9.16/x64/lib/python3.9/site-packages/IPython/core/interactiveshell.py:3442: LatexWarning: Found documentclass in tmp_2301.04692/substellar_obliquities_arxiv.tex\n",
      "\n",
      "  exec(code_obj, self.user_global_ns, self.user_ns)\n",
      "/opt/hostedtoolcache/Python/3.9.16/x64/lib/python3.9/site-packages/arxiv_on_deck_2/latex.py:292: LatexWarning: Latex injecting: 'observations.tex' from 'tmp_2301.04692/observations.tex'\n",
      "  warnings.warn(LatexWarning(f\"Latex injecting: '{ext}' from '{subsource}'\"))\n"
     ]
    },
    {
     "name": "stderr",
     "output_type": "stream",
     "text": [
      "/tmp/ipykernel_2115/4030337529.py:34: LatexWarning: 2301.04694 did not run properly\n",
      "not a gzip file\n",
      "  warnings.warn(latex.LatexWarning(f\"{paper_id:s} did not run properly\\n\" +\n"
     ]
    },
    {
     "name": "stdout",
     "output_type": "stream",
     "text": [
      "Retrieving document from  https://arxiv.org/e-print/2301.04699\n"
     ]
    },
    {
     "name": "stdout",
     "output_type": "stream",
     "text": [
      "extracting tarball to tmp_2301.04699..."
     ]
    },
    {
     "name": "stdout",
     "output_type": "stream",
     "text": [
      " done.\n"
     ]
    },
    {
     "name": "stderr",
     "output_type": "stream",
     "text": [
      "/opt/hostedtoolcache/Python/3.9.16/x64/lib/python3.9/site-packages/arxiv_on_deck_2/latex.py:118: LatexWarning: attempting recovering figure .pdf\n",
      "  warnings.warn(LatexWarning(f'attempting recovering figure {image}'))\n",
      "/tmp/ipykernel_2115/4030337529.py:34: LatexWarning: 2301.04699 did not run properly\n",
      "Could not find figure .pdf\n",
      "  warnings.warn(latex.LatexWarning(f\"{paper_id:s} did not run properly\\n\" +\n"
     ]
    },
    {
     "name": "stdout",
     "output_type": "stream",
     "text": [
      "Retrieving document from  https://arxiv.org/e-print/2301.04721\n"
     ]
    },
    {
     "name": "stdout",
     "output_type": "stream",
     "text": [
      "extracting tarball to tmp_2301.04721..."
     ]
    },
    {
     "name": "stdout",
     "output_type": "stream",
     "text": [
      " done.\n",
      "Retrieving document from  https://arxiv.org/e-print/2301.04812\n"
     ]
    },
    {
     "name": "stdout",
     "output_type": "stream",
     "text": [
      "extracting tarball to tmp_2301.04812..."
     ]
    },
    {
     "name": "stdout",
     "output_type": "stream",
     "text": [
      " done.\n",
      "Retrieving document from  https://arxiv.org/e-print/2301.04878\n"
     ]
    },
    {
     "name": "stdout",
     "output_type": "stream",
     "text": [
      "extracting tarball to tmp_2301.04878..."
     ]
    },
    {
     "name": "stdout",
     "output_type": "stream",
     "text": [
      " done.\n",
      "Retrieving document from  https://arxiv.org/e-print/2301.04912\n"
     ]
    },
    {
     "name": "stdout",
     "output_type": "stream",
     "text": [
      "extracting tarball to tmp_2301.04912..."
     ]
    },
    {
     "name": "stdout",
     "output_type": "stream",
     "text": [
      " done.\n",
      "Retrieving document from  https://arxiv.org/e-print/2301.04946\n"
     ]
    },
    {
     "name": "stdout",
     "output_type": "stream",
     "text": [
      "extracting tarball to tmp_2301.04946..."
     ]
    },
    {
     "name": "stdout",
     "output_type": "stream",
     "text": [
      " done.\n",
      "Retrieving document from  https://arxiv.org/e-print/2301.04974\n"
     ]
    },
    {
     "name": "stdout",
     "output_type": "stream",
     "text": [
      "extracting tarball to tmp_2301.04974..."
     ]
    },
    {
     "name": "stdout",
     "output_type": "stream",
     "text": [
      " done.\n",
      "Retrieving document from  https://arxiv.org/e-print/2301.04983\n"
     ]
    },
    {
     "name": "stderr",
     "output_type": "stream",
     "text": [
      "/opt/hostedtoolcache/Python/3.9.16/x64/lib/python3.9/site-packages/IPython/core/interactiveshell.py:3442: LatexWarning: Multiple tex files.\n",
      "\n",
      "  exec(code_obj, self.user_global_ns, self.user_ns)\n",
      "/opt/hostedtoolcache/Python/3.9.16/x64/lib/python3.9/site-packages/IPython/core/interactiveshell.py:3442: LatexWarning: Found documentclass in tmp_2301.04974/mnras_guide.tex\n",
      "\n",
      "  exec(code_obj, self.user_global_ns, self.user_ns)\n"
     ]
    },
    {
     "name": "stdout",
     "output_type": "stream",
     "text": [
      "extracting tarball to tmp_2301.04983..."
     ]
    },
    {
     "name": "stdout",
     "output_type": "stream",
     "text": [
      " done.\n",
      "Retrieving document from  https://arxiv.org/e-print/2301.04992\n"
     ]
    },
    {
     "name": "stderr",
     "output_type": "stream",
     "text": [
      "/opt/hostedtoolcache/Python/3.9.16/x64/lib/python3.9/site-packages/IPython/core/interactiveshell.py:3442: LatexWarning: Multiple tex files.\n",
      "\n",
      "  exec(code_obj, self.user_global_ns, self.user_ns)\n",
      "/opt/hostedtoolcache/Python/3.9.16/x64/lib/python3.9/site-packages/IPython/core/interactiveshell.py:3442: LatexWarning: Found documentclass in tmp_2301.04983/M30B_latexdiff.tex\n",
      "\n",
      "  exec(code_obj, self.user_global_ns, self.user_ns)\n"
     ]
    },
    {
     "name": "stdout",
     "output_type": "stream",
     "text": [
      "extracting tarball to tmp_2301.04992..."
     ]
    },
    {
     "name": "stdout",
     "output_type": "stream",
     "text": [
      " done.\n",
      "Retrieving document from  https://arxiv.org/e-print/2301.05034\n"
     ]
    },
    {
     "name": "stderr",
     "output_type": "stream",
     "text": [
      "/opt/hostedtoolcache/Python/3.9.16/x64/lib/python3.9/site-packages/IPython/core/interactiveshell.py:3442: LatexWarning: Multiple tex files.\n",
      "\n",
      "  exec(code_obj, self.user_global_ns, self.user_ns)\n",
      "/opt/hostedtoolcache/Python/3.9.16/x64/lib/python3.9/site-packages/IPython/core/interactiveshell.py:3442: LatexWarning: Found documentclass in tmp_2301.04992/main.tex\n",
      "\n",
      "  exec(code_obj, self.user_global_ns, self.user_ns)\n",
      "/opt/hostedtoolcache/Python/3.9.16/x64/lib/python3.9/site-packages/arxiv_on_deck_2/latex.py:292: LatexWarning: Latex injecting: 'Tables/CtsX000-020' from 'tmp_2301.04992/Tables/CtsX000-020.tex'\n",
      "  warnings.warn(LatexWarning(f\"Latex injecting: '{ext}' from '{subsource}'\"))\n",
      "/opt/hostedtoolcache/Python/3.9.16/x64/lib/python3.9/site-packages/arxiv_on_deck_2/latex.py:292: LatexWarning: Latex injecting: 'Tables/AssignedBandsMIR' from 'tmp_2301.04992/Tables/AssignedBandsMIR.tex'\n",
      "  warnings.warn(LatexWarning(f\"Latex injecting: '{ext}' from '{subsource}'\"))\n",
      "/opt/hostedtoolcache/Python/3.9.16/x64/lib/python3.9/site-packages/arxiv_on_deck_2/latex.py:292: LatexWarning: Latex injecting: 'Tables/AssignedBandsOptical' from 'tmp_2301.04992/Tables/AssignedBandsOptical.tex'\n",
      "  warnings.warn(LatexWarning(f\"Latex injecting: '{ext}' from '{subsource}'\"))\n"
     ]
    },
    {
     "name": "stdout",
     "output_type": "stream",
     "text": [
      "extracting tarball to tmp_2301.05034..."
     ]
    },
    {
     "name": "stdout",
     "output_type": "stream",
     "text": [
      " done.\n"
     ]
    },
    {
     "name": "stdout",
     "output_type": "stream",
     "text": [
      "Retrieving document from  https://arxiv.org/e-print/2301.05100\n"
     ]
    },
    {
     "name": "stdout",
     "output_type": "stream",
     "text": [
      "extracting tarball to tmp_2301.05100..."
     ]
    },
    {
     "name": "stdout",
     "output_type": "stream",
     "text": [
      " done.\n",
      "Retrieving document from  https://arxiv.org/e-print/2301.05113\n"
     ]
    },
    {
     "name": "stdout",
     "output_type": "stream",
     "text": [
      "extracting tarball to tmp_2301.05113..."
     ]
    },
    {
     "name": "stdout",
     "output_type": "stream",
     "text": [
      " done.\n",
      "Retrieving document from  https://arxiv.org/e-print/2301.05114\n"
     ]
    },
    {
     "name": "stderr",
     "output_type": "stream",
     "text": [
      "/opt/hostedtoolcache/Python/3.9.16/x64/lib/python3.9/site-packages/IPython/core/interactiveshell.py:3442: LatexWarning: Multiple tex files.\n",
      "\n",
      "  exec(code_obj, self.user_global_ns, self.user_ns)\n",
      "/opt/hostedtoolcache/Python/3.9.16/x64/lib/python3.9/site-packages/IPython/core/interactiveshell.py:3442: LatexWarning: Found documentclass in tmp_2301.05113/mfiwidesurvey.tex\n",
      "\n",
      "  exec(code_obj, self.user_global_ns, self.user_ns)\n",
      "/opt/hostedtoolcache/Python/3.9.16/x64/lib/python3.9/site-packages/arxiv_on_deck_2/latex.py:292: LatexWarning: Latex injecting: 'table2_flagged_period6.tex' from 'tmp_2301.05113/table2_flagged_period6.tex'\n",
      "  warnings.warn(LatexWarning(f\"Latex injecting: '{ext}' from '{subsource}'\"))\n",
      "/opt/hostedtoolcache/Python/3.9.16/x64/lib/python3.9/site-packages/arxiv_on_deck_2/latex.py:292: LatexWarning: Latex injecting: 'table2_flagged_period5.tex' from 'tmp_2301.05113/table2_flagged_period5.tex'\n",
      "  warnings.warn(LatexWarning(f\"Latex injecting: '{ext}' from '{subsource}'\"))\n",
      "/opt/hostedtoolcache/Python/3.9.16/x64/lib/python3.9/site-packages/arxiv_on_deck_2/latex.py:292: LatexWarning: Latex injecting: 'table2_flagged_period2.tex' from 'tmp_2301.05113/table2_flagged_period2.tex'\n",
      "  warnings.warn(LatexWarning(f\"Latex injecting: '{ext}' from '{subsource}'\"))\n",
      "/opt/hostedtoolcache/Python/3.9.16/x64/lib/python3.9/site-packages/arxiv_on_deck_2/latex.py:292: LatexWarning: Latex injecting: 'table2_flagged_period1.tex' from 'tmp_2301.05113/table2_flagged_period1.tex'\n",
      "  warnings.warn(LatexWarning(f\"Latex injecting: '{ext}' from '{subsource}'\"))\n",
      "/opt/hostedtoolcache/Python/3.9.16/x64/lib/python3.9/site-packages/arxiv_on_deck_2/latex.py:292: LatexWarning: Latex injecting: 'quijote_acknow' from 'tmp_2301.05113/quijote_acknow.tex'\n",
      "  warnings.warn(LatexWarning(f\"Latex injecting: '{ext}' from '{subsource}'\"))\n",
      "/opt/hostedtoolcache/Python/3.9.16/x64/lib/python3.9/site-packages/arxiv_on_deck_2/latex.py:292: LatexWarning: Latex injecting: 'table_sources.tex' from 'tmp_2301.05113/table_sources.tex'\n",
      "  warnings.warn(LatexWarning(f\"Latex injecting: '{ext}' from '{subsource}'\"))\n",
      "/opt/hostedtoolcache/Python/3.9.16/x64/lib/python3.9/site-packages/arxiv_on_deck_2/latex.py:292: LatexWarning: Latex injecting: 'table_eb_tb.tex' from 'tmp_2301.05113/table_eb_tb.tex'\n",
      "  warnings.warn(LatexWarning(f\"Latex injecting: '{ext}' from '{subsource}'\"))\n",
      "/opt/hostedtoolcache/Python/3.9.16/x64/lib/python3.9/site-packages/arxiv_on_deck_2/latex.py:292: LatexWarning: Latex injecting: 'table_powerspectra.tex' from 'tmp_2301.05113/table_powerspectra.tex'\n",
      "  warnings.warn(LatexWarning(f\"Latex injecting: '{ext}' from '{subsource}'\"))\n",
      "/opt/hostedtoolcache/Python/3.9.16/x64/lib/python3.9/site-packages/arxiv_on_deck_2/latex.py:292: LatexWarning: Latex injecting: 'table_polangle.tex' from 'tmp_2301.05113/table_polangle.tex'\n",
      "  warnings.warn(LatexWarning(f\"Latex injecting: '{ext}' from '{subsource}'\"))\n",
      "/opt/hostedtoolcache/Python/3.9.16/x64/lib/python3.9/site-packages/arxiv_on_deck_2/latex.py:292: LatexWarning: Latex injecting: 'table_systematics.tex' from 'tmp_2301.05113/table_systematics.tex'\n",
      "  warnings.warn(LatexWarning(f\"Latex injecting: '{ext}' from '{subsource}'\"))\n",
      "/opt/hostedtoolcache/Python/3.9.16/x64/lib/python3.9/site-packages/arxiv_on_deck_2/latex.py:292: LatexWarning: Latex injecting: 'table_calibration.tex' from 'tmp_2301.05113/table_calibration.tex'\n",
      "  warnings.warn(LatexWarning(f\"Latex injecting: '{ext}' from '{subsource}'\"))\n",
      "/opt/hostedtoolcache/Python/3.9.16/x64/lib/python3.9/site-packages/arxiv_on_deck_2/latex.py:292: LatexWarning: Latex injecting: 'table5_rms.tex' from 'tmp_2301.05113/table5_rms.tex'\n",
      "  warnings.warn(LatexWarning(f\"Latex injecting: '{ext}' from '{subsource}'\"))\n",
      "/opt/hostedtoolcache/Python/3.9.16/x64/lib/python3.9/site-packages/arxiv_on_deck_2/latex.py:292: LatexWarning: Latex injecting: 'table4_sigma0.tex' from 'tmp_2301.05113/table4_sigma0.tex'\n",
      "  warnings.warn(LatexWarning(f\"Latex injecting: '{ext}' from '{subsource}'\"))\n",
      "/opt/hostedtoolcache/Python/3.9.16/x64/lib/python3.9/site-packages/arxiv_on_deck_2/latex.py:292: LatexWarning: Latex injecting: 'table3_noise.tex' from 'tmp_2301.05113/table3_noise.tex'\n",
      "  warnings.warn(LatexWarning(f\"Latex injecting: '{ext}' from '{subsource}'\"))\n",
      "/opt/hostedtoolcache/Python/3.9.16/x64/lib/python3.9/site-packages/arxiv_on_deck_2/latex.py:292: LatexWarning: Latex injecting: 'table6_fit2noisespectrum_nochi2.tex' from 'tmp_2301.05113/table6_fit2noisespectrum_nochi2.tex'\n",
      "  warnings.warn(LatexWarning(f\"Latex injecting: '{ext}' from '{subsource}'\"))\n",
      "/opt/hostedtoolcache/Python/3.9.16/x64/lib/python3.9/site-packages/arxiv_on_deck_2/latex.py:292: LatexWarning: Latex injecting: 'table_system_corr.tex' from 'tmp_2301.05113/table_system_corr.tex'\n",
      "  warnings.warn(LatexWarning(f\"Latex injecting: '{ext}' from '{subsource}'\"))\n",
      "/opt/hostedtoolcache/Python/3.9.16/x64/lib/python3.9/site-packages/arxiv_on_deck_2/latex.py:292: LatexWarning: Latex injecting: 'table_notation' from 'tmp_2301.05113/table_notation.tex'\n",
      "  warnings.warn(LatexWarning(f\"Latex injecting: '{ext}' from '{subsource}'\"))\n",
      "/opt/hostedtoolcache/Python/3.9.16/x64/lib/python3.9/site-packages/arxiv_on_deck_2/latex.py:292: LatexWarning: Latex injecting: 'table_poleff.tex' from 'tmp_2301.05113/table_poleff.tex'\n",
      "  warnings.warn(LatexWarning(f\"Latex injecting: '{ext}' from '{subsource}'\"))\n",
      "/opt/hostedtoolcache/Python/3.9.16/x64/lib/python3.9/site-packages/arxiv_on_deck_2/latex.py:292: LatexWarning: Latex injecting: 'table_cc_coeff.tex' from 'tmp_2301.05113/table_cc_coeff.tex'\n",
      "  warnings.warn(LatexWarning(f\"Latex injecting: '{ext}' from '{subsource}'\"))\n",
      "/opt/hostedtoolcache/Python/3.9.16/x64/lib/python3.9/site-packages/arxiv_on_deck_2/latex.py:292: LatexWarning: Latex injecting: 'table_general_mfi_parameters.tex' from 'tmp_2301.05113/table_general_mfi_parameters.tex'\n",
      "  warnings.warn(LatexWarning(f\"Latex injecting: '{ext}' from '{subsource}'\"))\n",
      "/opt/hostedtoolcache/Python/3.9.16/x64/lib/python3.9/site-packages/arxiv_on_deck_2/latex.py:292: LatexWarning: Latex injecting: 'table_periods.tex' from 'tmp_2301.05113/table_periods.tex'\n",
      "  warnings.warn(LatexWarning(f\"Latex injecting: '{ext}' from '{subsource}'\"))\n",
      "/opt/hostedtoolcache/Python/3.9.16/x64/lib/python3.9/site-packages/arxiv_on_deck_2/latex.py:292: LatexWarning: Latex injecting: 'table1_elevations.tex' from 'tmp_2301.05113/table1_elevations.tex'\n",
      "  warnings.warn(LatexWarning(f\"Latex injecting: '{ext}' from '{subsource}'\"))\n",
      "/opt/hostedtoolcache/Python/3.9.16/x64/lib/python3.9/site-packages/arxiv_on_deck_2/latex.py:292: LatexWarning: Latex injecting: 'authors_and_institutes_mfiwidesurvey.tex' from 'tmp_2301.05113/authors_and_institutes_mfiwidesurvey.tex'\n",
      "  warnings.warn(LatexWarning(f\"Latex injecting: '{ext}' from '{subsource}'\"))\n"
     ]
    },
    {
     "name": "stdout",
     "output_type": "stream",
     "text": [
      "extracting tarball to tmp_2301.05114..."
     ]
    },
    {
     "name": "stdout",
     "output_type": "stream",
     "text": [
      " done.\n",
      "Retrieving document from  https://arxiv.org/e-print/2301.05115\n"
     ]
    },
    {
     "name": "stderr",
     "output_type": "stream",
     "text": [
      "/opt/hostedtoolcache/Python/3.9.16/x64/lib/python3.9/site-packages/IPython/core/interactiveshell.py:3442: LatexWarning: Multiple tex files.\n",
      "\n",
      "  exec(code_obj, self.user_global_ns, self.user_ns)\n",
      "/opt/hostedtoolcache/Python/3.9.16/x64/lib/python3.9/site-packages/IPython/core/interactiveshell.py:3442: LatexWarning: Found documentclass in tmp_2301.05114/paper.tex\n",
      "\n",
      "  exec(code_obj, self.user_global_ns, self.user_ns)\n",
      "/opt/hostedtoolcache/Python/3.9.16/x64/lib/python3.9/site-packages/arxiv_on_deck_2/latex.py:292: LatexWarning: Latex injecting: 'tables/reg_contrib.tex' from 'tmp_2301.05114/tables/reg_contrib.tex'\n",
      "  warnings.warn(LatexWarning(f\"Latex injecting: '{ext}' from '{subsource}'\"))\n",
      "/opt/hostedtoolcache/Python/3.9.16/x64/lib/python3.9/site-packages/arxiv_on_deck_2/latex.py:292: LatexWarning: Latex injecting: 'acknowledgements.tex' from 'tmp_2301.05114/acknowledgements.tex'\n",
      "  warnings.warn(LatexWarning(f\"Latex injecting: '{ext}' from '{subsource}'\"))\n",
      "/opt/hostedtoolcache/Python/3.9.16/x64/lib/python3.9/site-packages/arxiv_on_deck_2/latex.py:292: LatexWarning: Latex injecting: 'tables/polame.tex' from 'tmp_2301.05114/tables/polame.tex'\n",
      "  warnings.warn(LatexWarning(f\"Latex injecting: '{ext}' from '{subsource}'\"))\n",
      "/opt/hostedtoolcache/Python/3.9.16/x64/lib/python3.9/site-packages/arxiv_on_deck_2/latex.py:292: LatexWarning: Latex injecting: 'tables/uchii.tex' from 'tmp_2301.05114/tables/uchii.tex'\n",
      "  warnings.warn(LatexWarning(f\"Latex injecting: '{ext}' from '{subsource}'\"))\n",
      "/opt/hostedtoolcache/Python/3.9.16/x64/lib/python3.9/site-packages/arxiv_on_deck_2/latex.py:292: LatexWarning: Latex injecting: 'tables/ic443_fitres.tex' from 'tmp_2301.05114/tables/ic443_fitres.tex'\n",
      "  warnings.warn(LatexWarning(f\"Latex injecting: '{ext}' from '{subsource}'\"))\n",
      "/opt/hostedtoolcache/Python/3.9.16/x64/lib/python3.9/site-packages/arxiv_on_deck_2/latex.py:292: LatexWarning: Latex injecting: 'tables/w51_fitres.tex' from 'tmp_2301.05114/tables/w51_fitres.tex'\n",
      "  warnings.warn(LatexWarning(f\"Latex injecting: '{ext}' from '{subsource}'\"))\n",
      "/opt/hostedtoolcache/Python/3.9.16/x64/lib/python3.9/site-packages/arxiv_on_deck_2/latex.py:292: LatexWarning: Latex injecting: 'tables/w49_fitres.tex' from 'tmp_2301.05114/tables/w49_fitres.tex'\n",
      "  warnings.warn(LatexWarning(f\"Latex injecting: '{ext}' from '{subsource}'\"))\n",
      "/opt/hostedtoolcache/Python/3.9.16/x64/lib/python3.9/site-packages/arxiv_on_deck_2/latex.py:292: LatexWarning: Latex injecting: 'tables/ic443_fluxtable.tex' from 'tmp_2301.05114/tables/ic443_fluxtable.tex'\n",
      "  warnings.warn(LatexWarning(f\"Latex injecting: '{ext}' from '{subsource}'\"))\n",
      "/opt/hostedtoolcache/Python/3.9.16/x64/lib/python3.9/site-packages/arxiv_on_deck_2/latex.py:292: LatexWarning: Latex injecting: 'tables/w51_fluxtable.tex' from 'tmp_2301.05114/tables/w51_fluxtable.tex'\n",
      "  warnings.warn(LatexWarning(f\"Latex injecting: '{ext}' from '{subsource}'\"))\n",
      "/opt/hostedtoolcache/Python/3.9.16/x64/lib/python3.9/site-packages/arxiv_on_deck_2/latex.py:292: LatexWarning: Latex injecting: 'tables/w49_fluxtable.tex' from 'tmp_2301.05114/tables/w49_fluxtable.tex'\n",
      "  warnings.warn(LatexWarning(f\"Latex injecting: '{ext}' from '{subsource}'\"))\n",
      "/opt/hostedtoolcache/Python/3.9.16/x64/lib/python3.9/site-packages/arxiv_on_deck_2/latex.py:292: LatexWarning: Latex injecting: 'tables/nulltest_table.tex' from 'tmp_2301.05114/tables/nulltest_table.tex'\n",
      "  warnings.warn(LatexWarning(f\"Latex injecting: '{ext}' from '{subsource}'\"))\n",
      "/opt/hostedtoolcache/Python/3.9.16/x64/lib/python3.9/site-packages/arxiv_on_deck_2/latex.py:292: LatexWarning: Latex injecting: 'authors_and_institutions.tex' from 'tmp_2301.05114/authors_and_institutions.tex'\n",
      "  warnings.warn(LatexWarning(f\"Latex injecting: '{ext}' from '{subsource}'\"))\n"
     ]
    },
    {
     "name": "stdout",
     "output_type": "stream",
     "text": [
      "extracting tarball to tmp_2301.05115..."
     ]
    },
    {
     "name": "stdout",
     "output_type": "stream",
     "text": [
      " done.\n",
      "Retrieving document from  https://arxiv.org/e-print/2301.05116\n"
     ]
    },
    {
     "name": "stderr",
     "output_type": "stream",
     "text": [
      "/opt/hostedtoolcache/Python/3.9.16/x64/lib/python3.9/site-packages/IPython/core/interactiveshell.py:3442: LatexWarning: Multiple tex files.\n",
      "\n",
      "  exec(code_obj, self.user_global_ns, self.user_ns)\n",
      "/opt/hostedtoolcache/Python/3.9.16/x64/lib/python3.9/site-packages/IPython/core/interactiveshell.py:3442: LatexWarning: Found documentclass in tmp_2301.05115/paper_final.tex\n",
      "\n",
      "  exec(code_obj, self.user_global_ns, self.user_ns)\n",
      "/opt/hostedtoolcache/Python/3.9.16/x64/lib/python3.9/site-packages/arxiv_on_deck_2/latex.py:292: LatexWarning: Latex injecting: 'authors_and_institutes_haze.tex' from 'tmp_2301.05115/authors_and_institutes_haze.tex'\n",
      "  warnings.warn(LatexWarning(f\"Latex injecting: '{ext}' from '{subsource}'\"))\n"
     ]
    },
    {
     "name": "stdout",
     "output_type": "stream",
     "text": [
      "extracting tarball to tmp_2301.05116..."
     ]
    },
    {
     "name": "stdout",
     "output_type": "stream",
     "text": [
      " done.\n",
      "Retrieving document from  https://arxiv.org/e-print/2301.05117\n"
     ]
    },
    {
     "name": "stderr",
     "output_type": "stream",
     "text": [
      "/opt/hostedtoolcache/Python/3.9.16/x64/lib/python3.9/site-packages/IPython/core/interactiveshell.py:3442: LatexWarning: Multiple tex files.\n",
      "\n",
      "  exec(code_obj, self.user_global_ns, self.user_ns)\n",
      "/opt/hostedtoolcache/Python/3.9.16/x64/lib/python3.9/site-packages/IPython/core/interactiveshell.py:3442: LatexWarning: Found documentclass in tmp_2301.05116/polame.tex\n",
      "\n",
      "  exec(code_obj, self.user_global_ns, self.user_ns)\n",
      "/opt/hostedtoolcache/Python/3.9.16/x64/lib/python3.9/site-packages/arxiv_on_deck_2/latex.py:292: LatexWarning: Latex injecting: 'quijote_acknow' from 'tmp_2301.05116/quijote_acknow.tex'\n",
      "  warnings.warn(LatexWarning(f\"Latex injecting: '{ext}' from '{subsource}'\"))\n",
      "/opt/hostedtoolcache/Python/3.9.16/x64/lib/python3.9/site-packages/arxiv_on_deck_2/latex.py:292: LatexWarning: Latex injecting: 'polame_authors_and_institutes.tex' from 'tmp_2301.05116/polame_authors_and_institutes.tex'\n",
      "  warnings.warn(LatexWarning(f\"Latex injecting: '{ext}' from '{subsource}'\"))\n"
     ]
    },
    {
     "name": "stdout",
     "output_type": "stream",
     "text": [
      "extracting tarball to tmp_2301.05117..."
     ]
    },
    {
     "name": "stdout",
     "output_type": "stream",
     "text": [
      " done.\n",
      "Retrieving document from  https://arxiv.org/e-print/2301.05118\n"
     ]
    },
    {
     "name": "stderr",
     "output_type": "stream",
     "text": [
      "/opt/hostedtoolcache/Python/3.9.16/x64/lib/python3.9/site-packages/IPython/core/interactiveshell.py:3442: LatexWarning: Multiple tex files.\n",
      "\n",
      "  exec(code_obj, self.user_global_ns, self.user_ns)\n",
      "/opt/hostedtoolcache/Python/3.9.16/x64/lib/python3.9/site-packages/IPython/core/interactiveshell.py:3442: LatexWarning: Found documentclass in tmp_2301.05117/main.tex\n",
      "\n",
      "  exec(code_obj, self.user_global_ns, self.user_ns)\n",
      "/opt/hostedtoolcache/Python/3.9.16/x64/lib/python3.9/site-packages/arxiv_on_deck_2/latex.py:292: LatexWarning: Latex injecting: 'files/appendix_beta_s_simus' from 'tmp_2301.05117/files/appendix_beta_s_simus.tex'\n",
      "  warnings.warn(LatexWarning(f\"Latex injecting: '{ext}' from '{subsource}'\"))\n",
      "/opt/hostedtoolcache/Python/3.9.16/x64/lib/python3.9/site-packages/arxiv_on_deck_2/latex.py:292: LatexWarning: Latex injecting: 'files/appendix_Faraday_rotation' from 'tmp_2301.05117/files/appendix_Faraday_rotation.tex'\n",
      "  warnings.warn(LatexWarning(f\"Latex injecting: '{ext}' from '{subsource}'\"))\n",
      "/opt/hostedtoolcache/Python/3.9.16/x64/lib/python3.9/site-packages/arxiv_on_deck_2/latex.py:292: LatexWarning: Latex injecting: 'files/appendix_independent_Q_U' from 'tmp_2301.05117/files/appendix_independent_Q_U.tex'\n",
      "  warnings.warn(LatexWarning(f\"Latex injecting: '{ext}' from '{subsource}'\"))\n",
      "/opt/hostedtoolcache/Python/3.9.16/x64/lib/python3.9/site-packages/arxiv_on_deck_2/latex.py:292: LatexWarning: Latex injecting: 'files/data_availability' from 'tmp_2301.05117/files/data_availability.tex'\n",
      "  warnings.warn(LatexWarning(f\"Latex injecting: '{ext}' from '{subsource}'\"))\n",
      "/opt/hostedtoolcache/Python/3.9.16/x64/lib/python3.9/site-packages/arxiv_on_deck_2/latex.py:292: LatexWarning: Latex injecting: 'files/6_conclusions' from 'tmp_2301.05117/files/6_conclusions.tex'\n",
      "  warnings.warn(LatexWarning(f\"Latex injecting: '{ext}' from '{subsource}'\"))\n",
      "/opt/hostedtoolcache/Python/3.9.16/x64/lib/python3.9/site-packages/arxiv_on_deck_2/latex.py:292: LatexWarning: Latex injecting: 'files/5_results' from 'tmp_2301.05117/files/5_results.tex'\n",
      "  warnings.warn(LatexWarning(f\"Latex injecting: '{ext}' from '{subsource}'\"))\n",
      "/opt/hostedtoolcache/Python/3.9.16/x64/lib/python3.9/site-packages/arxiv_on_deck_2/latex.py:292: LatexWarning: Latex injecting: 'files/4_data' from 'tmp_2301.05117/files/4_data.tex'\n",
      "  warnings.warn(LatexWarning(f\"Latex injecting: '{ext}' from '{subsource}'\"))\n",
      "/opt/hostedtoolcache/Python/3.9.16/x64/lib/python3.9/site-packages/arxiv_on_deck_2/latex.py:292: LatexWarning: Latex injecting: 'files/3_cs_method' from 'tmp_2301.05117/files/3_cs_method.tex'\n",
      "  warnings.warn(LatexWarning(f\"Latex injecting: '{ext}' from '{subsource}'\"))\n",
      "/opt/hostedtoolcache/Python/3.9.16/x64/lib/python3.9/site-packages/arxiv_on_deck_2/latex.py:292: LatexWarning: Latex injecting: 'files/2_sky_models' from 'tmp_2301.05117/files/2_sky_models.tex'\n",
      "  warnings.warn(LatexWarning(f\"Latex injecting: '{ext}' from '{subsource}'\"))\n",
      "/opt/hostedtoolcache/Python/3.9.16/x64/lib/python3.9/site-packages/arxiv_on_deck_2/latex.py:292: LatexWarning: Latex injecting: 'files/1_introduction' from 'tmp_2301.05117/files/1_introduction.tex'\n",
      "  warnings.warn(LatexWarning(f\"Latex injecting: '{ext}' from '{subsource}'\"))\n",
      "/opt/hostedtoolcache/Python/3.9.16/x64/lib/python3.9/site-packages/arxiv_on_deck_2/latex.py:292: LatexWarning: Latex injecting: 'files/authors_and_institutes_cs_pol' from 'tmp_2301.05117/files/authors_and_institutes_cs_pol.tex'\n",
      "  warnings.warn(LatexWarning(f\"Latex injecting: '{ext}' from '{subsource}'\"))\n"
     ]
    },
    {
     "name": "stdout",
     "output_type": "stream",
     "text": [
      "extracting tarball to tmp_2301.05118..."
     ]
    },
    {
     "name": "stdout",
     "output_type": "stream",
     "text": [
      " done.\n",
      "Retrieving document from  https://arxiv.org/e-print/2301.05227\n"
     ]
    },
    {
     "name": "stderr",
     "output_type": "stream",
     "text": [
      "/opt/hostedtoolcache/Python/3.9.16/x64/lib/python3.9/site-packages/IPython/core/interactiveshell.py:3442: LatexWarning: Multiple tex files.\n",
      "\n",
      "  exec(code_obj, self.user_global_ns, self.user_ns)\n",
      "/opt/hostedtoolcache/Python/3.9.16/x64/lib/python3.9/site-packages/IPython/core/interactiveshell.py:3442: LatexWarning: Found documentclass in tmp_2301.05118/quijotepaper_sources.tex\n",
      "\n",
      "  exec(code_obj, self.user_global_ns, self.user_ns)\n",
      "/opt/hostedtoolcache/Python/3.9.16/x64/lib/python3.9/site-packages/arxiv_on_deck_2/latex.py:292: LatexWarning: Latex injecting: 'quijote_acknow' from 'tmp_2301.05118/quijote_acknow.tex'\n",
      "  warnings.warn(LatexWarning(f\"Latex injecting: '{ext}' from '{subsource}'\"))\n",
      "/opt/hostedtoolcache/Python/3.9.16/x64/lib/python3.9/site-packages/arxiv_on_deck_2/latex.py:292: LatexWarning: Latex injecting: 'Tables/table_04' from 'tmp_2301.05118/Tables/table_04.tex'\n",
      "  warnings.warn(LatexWarning(f\"Latex injecting: '{ext}' from '{subsource}'\"))\n",
      "/opt/hostedtoolcache/Python/3.9.16/x64/lib/python3.9/site-packages/arxiv_on_deck_2/latex.py:292: LatexWarning: Latex injecting: 'Tables/table_06' from 'tmp_2301.05118/Tables/table_06.tex'\n",
      "  warnings.warn(LatexWarning(f\"Latex injecting: '{ext}' from '{subsource}'\"))\n",
      "/opt/hostedtoolcache/Python/3.9.16/x64/lib/python3.9/site-packages/arxiv_on_deck_2/latex.py:292: LatexWarning: Latex injecting: 'Tables/table_number_significance.tex' from 'tmp_2301.05118/Tables/table_number_significance.tex'\n",
      "  warnings.warn(LatexWarning(f\"Latex injecting: '{ext}' from '{subsource}'\"))\n",
      "/opt/hostedtoolcache/Python/3.9.16/x64/lib/python3.9/site-packages/arxiv_on_deck_2/latex.py:292: LatexWarning: Latex injecting: 'Tables/table_03.tex' from 'tmp_2301.05118/Tables/table_03.tex'\n",
      "  warnings.warn(LatexWarning(f\"Latex injecting: '{ext}' from '{subsource}'\"))\n",
      "/opt/hostedtoolcache/Python/3.9.16/x64/lib/python3.9/site-packages/arxiv_on_deck_2/latex.py:292: LatexWarning: Latex injecting: 'Tables/table_02.tex' from 'tmp_2301.05118/Tables/table_02.tex'\n",
      "  warnings.warn(LatexWarning(f\"Latex injecting: '{ext}' from '{subsource}'\"))\n",
      "/opt/hostedtoolcache/Python/3.9.16/x64/lib/python3.9/site-packages/arxiv_on_deck_2/latex.py:292: LatexWarning: Latex injecting: 'Tables/table_01.tex' from 'tmp_2301.05118/Tables/table_01.tex'\n",
      "  warnings.warn(LatexWarning(f\"Latex injecting: '{ext}' from '{subsource}'\"))\n",
      "/opt/hostedtoolcache/Python/3.9.16/x64/lib/python3.9/site-packages/arxiv_on_deck_2/latex.py:292: LatexWarning: Latex injecting: 'Tables/table_number_objects.tex' from 'tmp_2301.05118/Tables/table_number_objects.tex'\n",
      "  warnings.warn(LatexWarning(f\"Latex injecting: '{ext}' from '{subsource}'\"))\n",
      "/opt/hostedtoolcache/Python/3.9.16/x64/lib/python3.9/site-packages/arxiv_on_deck_2/latex.py:292: LatexWarning: Latex injecting: 'authors_and_institutes_radiosources.tex' from 'tmp_2301.05118/authors_and_institutes_radiosources.tex'\n",
      "  warnings.warn(LatexWarning(f\"Latex injecting: '{ext}' from '{subsource}'\"))\n"
     ]
    },
    {
     "name": "stdout",
     "output_type": "stream",
     "text": [
      "extracting tarball to tmp_2301.05227..."
     ]
    },
    {
     "name": "stdout",
     "output_type": "stream",
     "text": [
      " done.\n"
     ]
    },
    {
     "name": "stderr",
     "output_type": "stream",
     "text": [
      "/opt/hostedtoolcache/Python/3.9.16/x64/lib/python3.9/site-packages/IPython/core/interactiveshell.py:3442: LatexWarning: Multiple tex files.\n",
      "\n",
      "  exec(code_obj, self.user_global_ns, self.user_ns)\n",
      "/opt/hostedtoolcache/Python/3.9.16/x64/lib/python3.9/site-packages/IPython/core/interactiveshell.py:3442: LatexWarning: Found documentclass in tmp_2301.05227/aanda.tex\n",
      "\n",
      "  exec(code_obj, self.user_global_ns, self.user_ns)\n"
     ]
    }
   ],
   "source": [
    "documents = []\n",
    "failed = []\n",
    "for paper in tqdm(candidates[:-1]):\n",
    "    paper_id = paper['identifier'].lower().replace('arxiv:', '')\n",
    "    \n",
    "    folder = f'tmp_{paper_id}'\n",
    "\n",
    "    try:\n",
    "        if not os.path.isdir(folder):\n",
    "            folder = retrieve_document_source(f\"{paper_id}\", f'tmp_{paper_id}')\n",
    "        \n",
    "        try:\n",
    "            doc = latex.LatexDocument(folder, validation=validation)    \n",
    "        except AffiliationError as affilerror:\n",
    "            msg = f\"ArXiv:{paper_id:s} is not an MPIA paper... \" + str(affilerror)\n",
    "            failed.append((paper, \"affiliation error: \" + str(affilerror) ))\n",
    "            continue\n",
    "        \n",
    "        # Hack because sometimes author parsing does not work well\n",
    "        if (len(doc.authors) != len(paper['authors'])):\n",
    "            doc._authors = paper['authors']\n",
    "        if (doc.abstract) in (None, ''):\n",
    "            doc._abstract = paper['abstract']\n",
    "            \n",
    "        doc.comment = (get_markdown_badge(paper_id) + \n",
    "                       \"<mark>Appeared on: \" + paper['date'] + \"</mark> - \" +\n",
    "                       \"_\" + paper['comments'] + \"_\")\n",
    "        doc.highlight_authors_in_list(hl_list)\n",
    "\n",
    "        full_md = doc.generate_markdown_text()\n",
    "        \n",
    "        documents.append((paper_id, full_md))\n",
    "    except Exception as e:\n",
    "        warnings.warn(latex.LatexWarning(f\"{paper_id:s} did not run properly\\n\" +\n",
    "                                         str(e)\n",
    "                                        ))\n",
    "        failed.append((paper, \"latex error \" + str(e)))"
   ]
  },
  {
   "cell_type": "markdown",
   "id": "2505a25c",
   "metadata": {
    "papermill": {
     "duration": 0.008722,
     "end_time": "2023-01-13T04:11:40.197365",
     "exception": false,
     "start_time": "2023-01-13T04:11:40.188643",
     "status": "completed"
    },
    "tags": []
   },
   "source": [
    "### Export the logs\n",
    "\n",
    "Throughout, we also keep track of the logs per paper. see `logs-{today date}.md` "
   ]
  },
  {
   "cell_type": "code",
   "execution_count": 6,
   "id": "d733828a",
   "metadata": {
    "execution": {
     "iopub.execute_input": "2023-01-13T04:11:40.217136Z",
     "iopub.status.busy": "2023-01-13T04:11:40.216300Z",
     "iopub.status.idle": "2023-01-13T04:11:40.256070Z",
     "shell.execute_reply": "2023-01-13T04:11:40.255324Z"
    },
    "papermill": {
     "duration": 0.051739,
     "end_time": "2023-01-13T04:11:40.257711",
     "exception": false,
     "start_time": "2023-01-13T04:11:40.205972",
     "status": "completed"
    },
    "scrolled": false,
    "tags": []
   },
   "outputs": [
    {
     "data": {
      "text/markdown": [
       "## Successful papers"
      ],
      "text/plain": [
       "<IPython.core.display.Markdown object>"
      ]
     },
     "metadata": {},
     "output_type": "display_data"
    },
    {
     "data": {
      "text/markdown": [
       "\n",
       "|||\n",
       "|---:|:---|\n",
       "| [![arXiv](https://img.shields.io/badge/arXiv-arXiv:2301.04656-b31b1b.svg)](https://arxiv.org/abs/arXiv:2301.04656) | **Towards a population synthesis of discs and planets. II. Confronting  disc models and observations at the population level**  |\n",
       "|| Alexandre Emsenhuber, et al. -- incl., <mark>Remo Burn</mark> |\n",
       "|*Appeared on*| *2023-01-13*|\n",
       "|*Comments*| *Accepted for publication in A&A*|\n",
       "|**Abstract**| Aims. We want to find the distribution of initial conditions that best reproduces disc observations at the population level. Methods. We first ran a parameter study using a 1D model that includes the viscous evolution of a gas disc, dust, and pebbles, coupled with an emission model to compute the millimetre flux observable with ALMA. This was used to train a machine learning surrogate model that can compute the relevant quantity for comparison with observations in seconds. This surrogate model was used to perform parameter studies and synthetic disc populations. Results. Performing a parameter study, we find that internal photoevaporation leads to a lower dependency of disc lifetime on stellar mass than external photoevaporation. This dependence should be investigated in the future. Performing population synthesis, we find that under the combined losses of internal and external photoevaporation, discs are too short lived. Conclusions. To match observational constraints, future models of disc evolution need to include one or a combination of the following processes: infall of material to replenish the discs, shielding of the disc from internal photoevaporation due to magnetically driven disc winds, and extinction of external high-energy radiation. Nevertheless, disc properties in low-external-photoevaporation regions can be reproduced by having more massive and compact discs. Here, the optimum values of the $\\alpha$ viscosity parameter lie between $3\\times10^{-4}$ and $10^{-3}$ and with internal photoevaporation being the main mode of disc dispersal. |"
      ],
      "text/plain": [
       "[arXiv:2301.04656] Towards a population synthesis of discs and planets. II. Confronting  disc models and observations at the population level\n",
       "\tAlexandre Emsenhuber, et al. -- incl., <mark>Remo Burn</mark>"
      ]
     },
     "metadata": {},
     "output_type": "display_data"
    },
    {
     "data": {
      "text/markdown": [
       "\n",
       "|||\n",
       "|---:|:---|\n",
       "| [![arXiv](https://img.shields.io/badge/arXiv-arXiv:2301.05034-b31b1b.svg)](https://arxiv.org/abs/arXiv:2301.05034) | **How the origin of stars in the Galaxy impacts the composition of  planetary building blocks**  |\n",
       "|| N. Cabral, et al. -- incl., <mark>B. Bitsch</mark> |\n",
       "|*Appeared on*| *2023-01-13*|\n",
       "|*Comments*| **|\n",
       "|**Abstract**| Context. Our Galaxy is composed of different stellar populations with varying chemical abundances, which are thought to imprint the composition of planet building blocks (PBBs). As such, the properties of stars should affect the properties of planets and small bodies formed in their systems. In this context, high-resolution spectroscopic surveys open a window into the chemical links between and their host stars. Aims. We aim to determine the PBB composition trends for various stellar populations across the Galaxy by comparing the two large spectroscopic surveys APOGEE and GALAH. We assess the reliability of the PBB composition as determined with these surveys with a propagation error study. Methods. Stellar spectroscopic abundances from the large surveys GALAH-DR3 and APOGEE-DR17 were used as input with a stoichiometric condensation model. We classified stars into different Galactic components and we quantified the PBB composition trends as a function of [Fe/H]. We also analysed the distribution composition patterns in the [$\\alpha$/Fe]-[Fe/H] diagram. Results. Our propagation error study suggests that the overall trends with [Fe/H] and [$\\alpha$/Fe] are robust, which is supported by the double study of both APOGEE and GALAH. We therefore confirm the existence of a bimodal PBB composition separating the thin disc stars from the thick disc stars. Furthermore, we confirm that the stoichiometric water PBB content is anti-correlated with [Fe/H]. Conclusions. Our results imply that metal-poor stars both in the thin and thick disks are suitable hosts for water-rich PBBs and for ice-rich small bodies. However, for metal-poor stars ([Fe/H]<0), the PBBs around thick disc stars should have a higher water content than that around thin disc stars because of the $\\alpha$-contentdependence of the water mass fraction. |"
      ],
      "text/plain": [
       "[arXiv:2301.05034] How the origin of stars in the Galaxy impacts the composition of  planetary building blocks\n",
       "\tN. Cabral, et al. -- incl., <mark>B. Bitsch</mark>"
      ]
     },
     "metadata": {},
     "output_type": "display_data"
    },
    {
     "data": {
      "text/markdown": [
       "## Failed papers"
      ],
      "text/plain": [
       "<IPython.core.display.Markdown object>"
      ]
     },
     "metadata": {},
     "output_type": "display_data"
    },
    {
     "data": {
      "text/markdown": [
       "\n",
       "|||\n",
       "|---:|:---|\n",
       "| [![arXiv](https://img.shields.io/badge/arXiv-arXiv:2301.04659-b31b1b.svg)](https://arxiv.org/abs/arXiv:2301.04659) | **The JWST Resolved Stellar Populations Early Release Science Program II.  Survey Overview**  |\n",
       "|| Daniel R. Weisz, et al. -- incl., <mark>Dustin Lang</mark>, <mark>Andrew Wetzel</mark> |\n",
       "|*Appeared on*| *2023-01-13*|\n",
       "|*Comments*| *23 pages, 7 Figures, 3 Tables. Submitted to AAS Journals. Comments welcome*|\n",
       "|**Abstract**| We present the JWST Resolved Stellar Populations Early Release Science (ERS) science program. We obtained 27.5 hours of NIRCam and NIRISS imaging of three targets in the Local Group (Milky Way globular cluster M92, ultra-faint dwarf galaxy Draco II, star-forming dwarf galaxy WLM), which span factors of $\\sim10^5$ in luminosity, $\\sim10^4$ in distance, and $\\sim10^5$ in surface brightness. We describe the survey strategy, scientific and technical goals, implementation details, present select NIRCam color-magnitude diagrams (CMDs), and validate the NIRCam exposure time calculator (ETC). Our CMDs are among the deepest in existence for each class of target. They touch the theoretical hydrogen burning limit in M92 ($<0.08$ $M_{\\odot}$; SNR $\\sim5$ at $m_{F090W}\\sim28.2$; $M_{F090W}\\sim+13.6$), include the lowest-mass stars observed outside the Milky Way in Draco II (0.09 $M_{\\odot}$; SNR $=10$ at $m_{F090W}\\sim29$; $M_{F090W}\\sim+12.1$), and reach $\\sim1.5$ magnitudes below the oldest main sequence turnoff in WLM (SNR $=10$ at $m_{F090W}\\sim29.5$; $M_{F090W}\\sim+4.6$). The PARSEC stellar models provide a good qualitative match to the NIRCam CMDs, though are $\\sim0.05$ mag too blue compared to M92 F090W$-$F150W data. The NIRCam ETC (v2.0) matches the SNRs based on photon noise from DOLPHOT stellar photometry in uncrowded fields, but the ETC may not be accurate in more crowded fields, similar to what is known for HST. We release beta versions of DOLPHOT NIRCam and NIRISS modules to the community. Results from this ERS program will establish JWST as the premier instrument for resolved stellar populations studies for decades to come. |\n",
       "|<p style=\"color:green\"> **ERROR** </p>| <p style=\"color:green\">affiliation error: mpia.affiliation_verifications: 'Heidelberg' keyword not found.</p> |"
      ],
      "text/plain": [
       "<IPython.core.display.Markdown object>"
      ]
     },
     "metadata": {},
     "output_type": "display_data"
    },
    {
     "data": {
      "text/markdown": [
       "\n",
       "|||\n",
       "|---:|:---|\n",
       "| [![arXiv](https://img.shields.io/badge/arXiv-arXiv:2301.04662-b31b1b.svg)](https://arxiv.org/abs/arXiv:2301.04662) | **SN 2020bio: A Double-peaked Type IIb Supernova with Evidence of  Early-time Circumstellar Interaction**  |\n",
       "|| C. Pellegrino, et al. -- incl., <mark>P. J. Brown</mark> |\n",
       "|*Appeared on*| *2023-01-13*|\n",
       "|*Comments*| *18 pages, 8 figures, submitted to ApJ*|\n",
       "|**Abstract**| We present photometric and spectroscopic observations of SN 2020bio, a double-peaked Type IIb supernova (SN) discovered within a day of explosion, primarily obtained by Las Cumbres Observatory and Swift. SN 2020bio displays a rapid and long-lasting initial decline throughout the first week of its light curve, similar to other well-studied Type IIb SNe. This early-time emission is thought to originate from the cooling of the extended outer envelope of the progenitor star that is shock-heated by the SN explosion. We compare SN 2020bio to a sample of other double-peaked Type IIb SNe to investigate its progenitor properties. Analytical model fits to the early-time emission give progenitor radius ($\\approx$ 100--1500 $R_\\odot$) and H-rich envelope mass ($\\approx$ 0.01--0.5 $M_\\odot$) estimates that are consistent with other Type IIb SNe. However, SN 2020bio displays several peculiarities, including: 1) weak H spectral features and narrow emission lines indicative of pre-existing circumstellar material; 2) an underluminous secondary light curve peak which implies a small amount of synthesized $^{56}$Ni ($M_{\\text{Ni}}$ $\\approx$ 0.02 $M_\\odot$); and 3) low-luminosity nebular [O I] features. These observations are more consistent with a lower-mass progenitor (M$_{\\text{ZAMS}} \\approx$ 12 $M_\\odot$) that was stripped of most of its H envelope before exploding. This study adds to the growing diversity in the observed properties of Type IIb SNe and their progenitors. |\n",
       "|<p style=\"color:green\"> **ERROR** </p>| <p style=\"color:green\">affiliation error: mpia.affiliation_verifications: 'Heidelberg' keyword not found.</p> |"
      ],
      "text/plain": [
       "<IPython.core.display.Markdown object>"
      ]
     },
     "metadata": {},
     "output_type": "display_data"
    },
    {
     "data": {
      "text/markdown": [
       "\n",
       "|||\n",
       "|---:|:---|\n",
       "| [![arXiv](https://img.shields.io/badge/arXiv-arXiv:2301.04665-b31b1b.svg)](https://arxiv.org/abs/arXiv:2301.04665) | **A DZ white dwarf with a 30 MG magnetic field**  |\n",
       "|| Mark A. Hollands, et al. -- incl., <mark>J. J. Hermes</mark> |\n",
       "|*Appeared on*| *2023-01-13*|\n",
       "|*Comments*| *17 pages, 8 figures, Accepted for publication in MNRAS*|\n",
       "|**Abstract**| Magnetic white dwarfs with field strengths below 10 MG are easy to recognise since the Zeeman splitting of spectral lines appears proportional to the magnetic field strength. For fields $\\geq 100$ MG, however, transition wavelengths become chaotic, requiring quantum-chemical predictions of wavelengths and oscillator strengths with a non-perturbative treatment of the magnetic field. While highly accurate calculations have previously been performed for hydrogen and helium, the variational techniques employed become computationally intractable for systems with more than three to four electrons. Modern computational techniques, such as finite-field coupled-cluster theory, allow the calculation of many-electron systems in arbitrarily strong magnetic fields. Because around 25 percent of white dwarfs have metal lines in their spectra, and some of those are also magnetic, the possibility arises for some metals to be observed in very strong magnetic fields, resulting in unrecognisable spectra. We have identified SDSSJ114333.48+661531.83 as a magnetic DZ white dwarf, with a spectrum exhibiting many unusually shaped lines at unknown wavelengths. Using atomic data calculated from computational finite-field coupled-cluster methods, we have identified some of these lines arising from Na, Mg, and Ca. Surprisingly, we find a relatively low field strength of 30 MG, where the large number of overlapping lines from different elements make the spectrum challenging to interpret at a much lower field strength than for DAs and DBs. Finally we model the field structure of SDSSJ1143+6615 finding the data are consistent with an offset dipole. |\n",
       "|<p style=\"color:green\"> **ERROR** </p>| <p style=\"color:green\">affiliation error: mpia.affiliation_verifications: 'Heidelberg' keyword not found.</p> |"
      ],
      "text/plain": [
       "<IPython.core.display.Markdown object>"
      ]
     },
     "metadata": {},
     "output_type": "display_data"
    },
    {
     "data": {
      "text/markdown": [
       "\n",
       "|||\n",
       "|---:|:---|\n",
       "| [![arXiv](https://img.shields.io/badge/arXiv-arXiv:2301.04666-b31b1b.svg)](https://arxiv.org/abs/arXiv:2301.04666) | **First Detection of Radio Emission Associated with a Classical Cepheid**  |\n",
       "|| <mark>L. D. Matthews</mark>, N. R. Evans, M. P. Rupen |\n",
       "|*Appeared on*| *2023-01-13*|\n",
       "|*Comments*| *11 pages. Accepted to AJ*|\n",
       "|**Abstract**| We report the detection of 15 GHz radio continuum emission associated with the classical Cepheid variable star delta Cephei based on observations with the Karl G. Jansky Very Large Array. Our results constitute the first probable detection of radio continuum emission from a classical Cepheid. We observed the star at pulsation phase phi~0.43 (corresponding to the phase of maximum radius and minimum temperature) during three pulsation cycles in late 2018 and detected statistically significant emission (>5 sigma) during one of the three epochs. The observed radio emission appears to be variable at a >~10% level on timescales of days to weeks. We also present an upper limit on the 10 GHz flux density at pulsation phase phi=0.31 from an observation in 2014. We discuss possible mechanisms that may produce the observed 15 GHz emission, but cannot make a conclusive identification from the present data. The emission does not appear to be consistent with originating from a close-in, late-type dwarf companion, although this scenario cannot yet be strictly excluded. Previous X-ray observations have shown that delta Cephei undergoes periodic increases in X-ray flux during pulsation phase phi~0.43. The lack of radio detection in two out of three observing epochs at phi~0.43 suggests that either the radio emission is not linked with a particular pulsation phase, or else that the strength of the generated radio emission in each pulsation cycle is variable. |\n",
       "|<p style=\"color:green\"> **ERROR** </p>| <p style=\"color:green\">affiliation error: mpia.affiliation_verifications: 'Heidelberg' keyword not found.</p> |"
      ],
      "text/plain": [
       "<IPython.core.display.Markdown object>"
      ]
     },
     "metadata": {},
     "output_type": "display_data"
    },
    {
     "data": {
      "text/markdown": [
       "\n",
       "|||\n",
       "|---:|:---|\n",
       "| [![arXiv](https://img.shields.io/badge/arXiv-arXiv:2301.04692-b31b1b.svg)](https://arxiv.org/abs/arXiv:2301.04692) | **Rotation Periods, Inclinations, and Obliquities of Cool Stars Hosting  Directly Imaged Substellar Companions: Spin-Orbit Misalignments are Common**  |\n",
       "|| Brendan P. Bowler, et al. -- incl., <mark>Zhoujian Zhang</mark>, <mark>Daniel Huber</mark>, <mark>Ya-Lin Wu</mark> |\n",
       "|*Appeared on*| *2023-01-13*|\n",
       "|*Comments*| *AJ, accepted*|\n",
       "|**Abstract**| The orientation between a star's spin axis and a planet's orbital plane provides valuable information about the system's formation and dynamical history. For non-transiting planets at wide separations, true stellar obliquities are challenging to measure, but lower limits on spin-orbit orientations can be determined from the difference between the inclination of the star's rotational axis and the companion's orbital plane ($\\Delta i$). We present results of a uniform analysis of rotation periods, stellar inclinations, and obliquities of cool stars (SpT $\\gtrsim$ F5) hosting directly imaged planets and brown dwarf companions. As part of this effort, we have acquired new $v \\sin i_*$ values for 22 host stars with the high-resolution Tull spectrograph at the Harlan J. Smith telescope. Altogether our sample contains 62 host stars with rotation periods, most of which are newly measured using light curves from the Transiting Exoplanet Survey Satellite. Among these, 53 stars have inclinations determined from projected rotational and equatorial velocities, and 21 stars predominantly hosting brown dwarfs have constraints on $\\Delta i$. Eleven of these (52$^{+10}_{-11}$% of the sample) are likely misaligned, while the remaining ten host stars are consistent with spin-orbit alignment. As an ensemble, the minimum obliquity distribution between 10-250 AU is more consistent with a mixture of isotropic and aligned systems than either extreme scenario alone--pointing to direct cloud collapse, formation within disks bearing primordial alignments and misalignments, or architectures processed by dynamical evolution. This contrasts with stars hosting directly imaged planets, which show a preference for low obliquities. These results reinforce an emerging distinction between the orbits of long-period brown dwarfs and giant planets in terms of their stellar obliquities and orbital eccentricities. |\n",
       "|<p style=\"color:green\"> **ERROR** </p>| <p style=\"color:green\">affiliation error: mpia.affiliation_verifications: 'Heidelberg' keyword not found.</p> |"
      ],
      "text/plain": [
       "<IPython.core.display.Markdown object>"
      ]
     },
     "metadata": {},
     "output_type": "display_data"
    },
    {
     "data": {
      "text/markdown": [
       "\n",
       "|||\n",
       "|---:|:---|\n",
       "| [![arXiv](https://img.shields.io/badge/arXiv-arXiv:2301.04721-b31b1b.svg)](https://arxiv.org/abs/arXiv:2301.04721) | **The Core Normal Type Ia Supernova 2019np: An Overall Spherical Explosion  with an Aspherical Surface Layer and an Aspherical 56Ni Core**  |\n",
       "|| Peter Hoeflich, et al. -- incl., <mark>Lifan Wang</mark> |\n",
       "|*Appeared on*| *2023-01-13*|\n",
       "|*Comments*| *23 pages, 18 figures, 2 tables, MNRAS, submitted 11/9/22, revised 12/9/22*|\n",
       "|**Abstract**| Optical spectropolarimetry of the normal thermonuclear supernova SN2019np from -14.5 to +14.5 days relative to B-band maximum detected an intrinsic continuum polarization, p(cont), of 0.21+-0.09% at the first epoch. Between days -11.5 to +05, p(cont) remained about 0 and by day +14.5 was again significant at 0.19+-0.10%. Not considering the first epoch, the dominant axis of SiII(6355A) was roughly constant, staying close to the continuum until both rotated in opposite directions on day +14.5. Detailed radiation-hydrodynamical simulations produce a very steep density slope in the outermost ejecta so that the low first-epoch p(const) of about 0.2% nevertheless suggests a separate structure with an axis ratio of about 2 in the outer carbon-rich 3...5E-3 Mo. Large-amplitude fluctuations in the polarization profiles and a flocculent appearance of the polar diagram for the CaII near-infrared triplet (NIR3) may be related by a common origin. The temporal evolution of the polarization spectra agrees with an off-center delayed detonation. The late-time increase in polarization and the possible change in position angle are also consistent with an aspherical 56Ni core. The p(cont) and the absorptions due to Si II(6355A) and the CaII NIR3 form in the same region of the extended photosphere, with an interplay between line occultation and thermalization producing p. Small-scale polarization features may be due to small-scale structures, but many could be related to atomic patterns of the quasi-continuum; the hardly have an equivalent in the total-flux spectrum. We compare SN2019np to other SNe and develop future objectives and strategies for SNIa spectropolarimetry. |\n",
       "|<p style=\"color:green\"> **ERROR** </p>| <p style=\"color:green\">affiliation error: mpia.affiliation_verifications: 'Heidelberg' keyword not found.</p> |"
      ],
      "text/plain": [
       "<IPython.core.display.Markdown object>"
      ]
     },
     "metadata": {},
     "output_type": "display_data"
    },
    {
     "data": {
      "text/markdown": [
       "\n",
       "|||\n",
       "|---:|:---|\n",
       "| [![arXiv](https://img.shields.io/badge/arXiv-arXiv:2301.04812-b31b1b.svg)](https://arxiv.org/abs/arXiv:2301.04812) | **A Two-limb Explanation for the Optical-to-infrared Transmission Spectrum  of the Hot Jupiter HAT-P-32Ab**  |\n",
       "|| <mark>Xin-Kai Li</mark>, <mark>Guo Chen</mark>, <mark>Hai-Bin Zhao</mark>, Hong-Chi Wang |\n",
       "|*Appeared on*| *2023-01-13*|\n",
       "|*Comments*| *17 pages, 10 figures. Accepted for publication in RAA*|\n",
       "|**Abstract**| We present a new optical transmission spectrum of the hot Jupiter HAT-P-32Ab acquired with the Carnegie Observatories Spectrograph and Multiobject Imaging Camera (COSMIC) on the Palomar 200 inch Hale Telescope (P200). The P200/COSMIC transmission spectrum, covering a wavelength range of 3990--9390 \\AA, is composed of 25 spectrophotometric bins with widths ranging from 200 to 400 \\AA and consistent with previous transit measurements obtained in the common wavelength range. We derive a combined optical transmission spectrum based on measurements from five independent instruments, which, along with the 1.1--1.7 $\\mu$m spectrum acquired by the Hubble Space Telescope and two Spitzer measurements, exhibits an enhanced scattering slope blueward of a relatively flat optical continuum, a water absorption feature at 1.4 $\\mu$m, and a carbon dioxide feature at 4.4 $\\mu$m. We perform Bayesian spectral retrieval analyses on the 0.3--5.1 $\\mu$m transmission spectrum and find that it can be well explained by a two-limb approximation of $134^{+45}_{-33}\\times$ solar metallicity, with a strongly hazy morning limb of $1134^{+232}_{-194}$ K and a haze-free evening limb of $1516^{+33}_{-44}$~K. This makes HAT-P-32Ab a promising target for James Webb Space Telescope to look for asymmetric signatures directly in the light curves. |\n",
       "|<p style=\"color:green\"> **ERROR** </p>| <p style=\"color:green\">affiliation error: mpia.affiliation_verifications: 'Heidelberg' keyword not found.</p> |"
      ],
      "text/plain": [
       "<IPython.core.display.Markdown object>"
      ]
     },
     "metadata": {},
     "output_type": "display_data"
    },
    {
     "data": {
      "text/markdown": [
       "\n",
       "|||\n",
       "|---:|:---|\n",
       "| [![arXiv](https://img.shields.io/badge/arXiv-arXiv:2301.04878-b31b1b.svg)](https://arxiv.org/abs/arXiv:2301.04878) | **Intensity Interferometry observations of the H$α$ envelope of  $γ$ Cas with MéO and a portable telescope**  |\n",
       "|| <mark>Nolan Matthews</mark>, et al. |\n",
       "|*Appeared on*| *2023-01-13*|\n",
       "|*Comments*| **|\n",
       "|**Abstract**| We report on observations of the extended environment of the bright Be star $\\gamma$-Cas performed using intensity interferometry measurements within its H$\\alpha$ emission line. These observations were performed using a modified version of the I2C intensity interferometry instrument installed onto the 1.54 meter M\\'{e}O optical metrology telescope and a portable 1-meter telescope (T1M). In order to better constrain the extent of the H$\\alpha$ envelope, observations were performed for two different positions of the T1M telescope, corresponding to an intermediate and long baselines in which the extended region was partially and fully resolved. We find that the observed data are consistent with past interferometric observations of $\\gamma$-Cas. These observations demonstrate the capability to equip optical telescopes of different optical designs with intensity interferometry capabilities and illustrate the potential to scale a similar system onto many additional telescopes. |\n",
       "|<p style=\"color:green\"> **ERROR** </p>| <p style=\"color:green\">affiliation error: mpia.affiliation_verifications: 'Heidelberg' keyword not found.</p> |"
      ],
      "text/plain": [
       "<IPython.core.display.Markdown object>"
      ]
     },
     "metadata": {},
     "output_type": "display_data"
    },
    {
     "data": {
      "text/markdown": [
       "\n",
       "|||\n",
       "|---:|:---|\n",
       "| [![arXiv](https://img.shields.io/badge/arXiv-arXiv:2301.04912-b31b1b.svg)](https://arxiv.org/abs/arXiv:2301.04912) | **$δ$ Scuti pulsations in the bright Pleiades eclipsing binary HD  23642**  |\n",
       "|| John Southworth, Simon J. Murphy, <mark>Kresimir Pavlovski</mark> |\n",
       "|*Appeared on*| *2023-01-13*|\n",
       "|*Comments*| *Accepted for publication as a Letter in MNRAS. 6 pages, 4 figures, 2 tables*|\n",
       "|**Abstract**| We announce the discovery of pulsations in HD 23642, the only bright eclipsing system in the Pleiades, based on light curves from the Transiting Exoplanet Survey Satellite (TESS). We measure 46 pulsation frequencies and attribute them to delta Scuti pulsations in the secondary component. We find four l=1 doublets, three of which have frequency splittings consistent with the rotation rate of the star. The dipole mode amplitude ratios are consistent with a high stellar inclination angle and the stellar rotation period agrees with the orbital period. Together, these suggest that the spin axis of the secondary is aligned with the orbital axis. We also determine precise effective temperatures and a spectroscopic light ratio, and use the latter to determine the physical properties of the system alongside the TESS data and published radial velocities. We measure a distance to the system in agreement with the Gaia parallax, and an age of 170 +/- 20 Myr based on a comparison to theoretical stellar evolutionary models. |\n",
       "|<p style=\"color:green\"> **ERROR** </p>| <p style=\"color:green\">affiliation error: mpia.affiliation_verifications: 'Heidelberg' keyword not found.</p> |"
      ],
      "text/plain": [
       "<IPython.core.display.Markdown object>"
      ]
     },
     "metadata": {},
     "output_type": "display_data"
    },
    {
     "data": {
      "text/markdown": [
       "\n",
       "|||\n",
       "|---:|:---|\n",
       "| [![arXiv](https://img.shields.io/badge/arXiv-arXiv:2301.04946-b31b1b.svg)](https://arxiv.org/abs/arXiv:2301.04946) | **Dynamics of dust grains in turbulent molecular clouds. Conditions for  decoupling and limits of different numerical implementations**  |\n",
       "|| Benoît Commerçon, et al. -- incl., <mark>Patrick Hennebelle</mark> |\n",
       "|*Appeared on*| *2023-01-13*|\n",
       "|*Comments*| *22 pages, 16 figures, accepted for publication in A&A*|\n",
       "|**Abstract**| Dust grain dynamics in molecular clouds is regulated by its interplay with supersonic turbulent gas motions. The conditions under which dust grains decouple from the dynamics of gas remain poorly constrained. We first aim to investigate the critical dust grain size for dynamical decoupling, using both analytical predictions and numerical experiments. Second, we aim to set the range of validity of two fundamentally different numerical implementations for the evolution of dust and gas mixtures in turbulent molecular clouds. We carried out a suite of numerical experiments using two different schemes. First, we used a monofluid formalism in the terminal velocity approximation (TVA) on a Eulerian grid. Second, we used a two-fluid scheme, in which the dust dynamics is handled with Lagrangian super-particles, and the gas dynamics on a Eulerian grid. The monofluid results are in good agreement with the theoretical critical size for decoupling. We report dust dynamics decoupling for Stokes number St>0.1, that is, dust grains of $s>4~\\mu$m in size. We find that the TVA is well suited for grain sizes of 10 $\\mu$m in molecular clouds, in particular in the densest regions. However, the maximum dust enrichment measured in the low-density material where St>1 is questionable. In the Lagrangian dust experiments, we show that the results are affected by the numerics for all dust grain sizes. At St<<1, the dust dynamics is largely affected by artificial trapping in the high-density regions, leading to spurious variations of the dust concentration. At St>1, the maximum dust enrichment is regulated by the grid resolution used for the gas dynamics. The results of previous similar numerical work should therefore be revisited with respect to the limitations we highlight in this study. Dust enrichment of submicron dust grains is unlikely to occur in the densest parts of molecular clouds. |\n",
       "|<p style=\"color:green\"> **ERROR** </p>| <p style=\"color:green\">affiliation error: mpia.affiliation_verifications: 'Heidelberg' keyword not found.</p> |"
      ],
      "text/plain": [
       "<IPython.core.display.Markdown object>"
      ]
     },
     "metadata": {},
     "output_type": "display_data"
    },
    {
     "data": {
      "text/markdown": [
       "\n",
       "|||\n",
       "|---:|:---|\n",
       "| [![arXiv](https://img.shields.io/badge/arXiv-arXiv:2301.04974-b31b1b.svg)](https://arxiv.org/abs/arXiv:2301.04974) | **Rotational modulation in A and F stars: Magnetic stellar spots or  convective core rotation?**  |\n",
       "|| <mark>Andreea I. Henriksen</mark>, et al. |\n",
       "|*Appeared on*| *2023-01-13*|\n",
       "|*Comments*| *18 pages, 28 figures*|\n",
       "|**Abstract**| The Kepler mission revealed a plethora of stellar variability in the light curves of many stars, some associated with magnetic activity or stellar oscillations. In this work, we analyse the periodic signal in 162 intermediate-mass stars, interpreted as Rossby modes and rotational modulation - the so-called \\textit{hump \\& spike} feature. We investigate whether the rotational modulation (\\textit{spike}) is due to stellar spots caused by magnetic fields or due to Overstable Convective (OsC) modes resonantly exciting g~modes, with frequencies corresponding to the convective core rotation rate. Assuming that the spikes are created by magnetic spots at the stellar surface, we recover the amplitudes of the magnetic fields, which are in good agreement with theoretical predictions. Our data show a clear anti-correlation between the spike amplitudes and stellar mass and possibly a correlation with stellar age, consistent with the dynamo-generated magnetic fields theory in (sub)-surface convective layers. Investigating the harmonic behaviour, we find that for 125 stars neither of the two possible explanations can be excluded. While our results suggest that the dynamo-generated magnetic field scenario is more likely to explain the \\textit{spike} feature, we assess further work is needed to distinguish between the two scenarios. One method for ruling out one of the two explanations is to directly observe magnetic fields in \\textit{hump \\& spike} stars. Another would be to impose additional constraints through detailed modelling of our stars, regarding the rotation requirement in the OsC mode scenario or the presence of a convective-core (stellar age). |\n",
       "|<p style=\"color:green\"> **ERROR** </p>| <p style=\"color:green\">affiliation error: mpia.affiliation_verifications: 'Heidelberg' keyword not found.</p> |"
      ],
      "text/plain": [
       "<IPython.core.display.Markdown object>"
      ]
     },
     "metadata": {},
     "output_type": "display_data"
    },
    {
     "data": {
      "text/markdown": [
       "\n",
       "|||\n",
       "|---:|:---|\n",
       "| [![arXiv](https://img.shields.io/badge/arXiv-arXiv:2301.04983-b31b1b.svg)](https://arxiv.org/abs/arXiv:2301.04983) | **Missing for 20 years: MeerKAT re-detects the elusive binary pulsar M30B**  |\n",
       "|| Vishnu Balakrishnan, et al. -- incl., <mark>Michael Kramer</mark> |\n",
       "|*Appeared on*| *2023-01-13*|\n",
       "|*Comments*| *Accepted for publication in the Astrophysical Journal Letters (ApJL)*|\n",
       "|**Abstract**| PSR J2140$-$2311B is a 13-ms pulsar discovered in 2001 in a 7.8-hour Green Bank Telescope (GBT) observation of the core-collapsed globular cluster M30 and predicted to be in a highly eccentric binary orbit. This pulsar has eluded detection since then, therefore its precise orbital parameters have remained a mystery until now. In this work, we present the confirmation of this pulsar using observations taken with the UHF receivers of the MeerKAT telescope as part of the TRAPUM Large Survey Project. Taking advantage of the beamforming capability of our backends, we have localized it, placing it $1.2(1)^\\prime$ from the cluster centre. Our observations have enabled the determination of its orbit: it is highly eccentric ($e = 0.879$) with an orbital period of $6.2$ days. We also measured the rate of periastron advance, $\\dot{\\omega} = 0.078 \\pm 0.002\\, \\rm deg \\, yr^{-1}$. Assuming that this effect is fully relativistic, general relativity provides an estimate of the total mass of the system, $M_{\\rm TOT} = 2.53 \\pm 0.08$ M$_{\\odot}$, consistent with the lightest double neutron star systems known. Combining this with the mass function of the system gives the pulsar and companion masses of $m_p < 1.43 \\, \\rm M_{\\odot}$ and $m_c > 1.10 \\, \\rm M_{\\odot}$ respectively. The massive, undetected companion could either be a massive WD or a NS. M30B likely formed as a result of a secondary exchange encounter. Future timing observations will allow the determination of a phase-coherent timing solution, vastly improving our uncertainty in $\\dot{\\omega}$ and likely enabling the detection of additional relativistic effects which will determine $m_p$ and $m_c$. |\n",
       "|<p style=\"color:green\"> **ERROR** </p>| <p style=\"color:green\">affiliation error: mpia.affiliation_verifications: 'Heidelberg' keyword not found.</p> |"
      ],
      "text/plain": [
       "<IPython.core.display.Markdown object>"
      ]
     },
     "metadata": {},
     "output_type": "display_data"
    },
    {
     "data": {
      "text/markdown": [
       "\n",
       "|||\n",
       "|---:|:---|\n",
       "| [![arXiv](https://img.shields.io/badge/arXiv-arXiv:2301.04992-b31b1b.svg)](https://arxiv.org/abs/arXiv:2301.04992) | **The Bending of C$_3$: Experimentally Probing the $l$-type Doubling and  Resonance**  |\n",
       "|| Marie-Aline Martin-Drumel, et al. -- incl., <mark>Qiang Zhang</mark>, <mark>Harold Linnartz</mark>, <mark>Dongfeng Zhao</mark> |\n",
       "|*Appeared on*| *2023-01-13*|\n",
       "|*Comments*| *15 pages, 9 figures, 4 tables*|\n",
       "|**Abstract**| C$_3$, a pure carbon chain molecule that has been identified in different astronomical environments, is considered a good probe of kinetic temperatures through observation of transitions involving its low-lying bending mode ($\\nu_2$) in its ground electronic state. The present laboratory work aims to investigate this bending mode with multiple quanta of excitation by combining recordings of high resolution optical and infrared spectra of C$_3$ produced in discharge experiments. The optical spectra of rovibronic (A $^1\\Pi_u -$ X $^1\\Sigma_g^+$) transitions have been recorded by laser induced fluorescence spectroscopy using a single longitude mode optical parametric oscillator as narrow bandwidth laser source at the University of Science and Technology of China. 36 bands originating from X(0$v_2$0), $v_2 = 0-5$, are assigned. The mid-infrared spectrum of the rovibrational $\\nu_3$ band has been recorded by Fourier-transform infrared spectroscopy using a globar source on the AILES beamline of the SOLEIL synchrotron facility. The spectrum reveals hot bands involving up to 5 quanta of excitation in $\\nu_2$. From combining analyses of all the presently recorded spectra and literature data, accurate rotational parameters and absolute energy levels of C$_3$, in particular for states involving the bending mode, are determined. A single PGOPHER file containing all available data involving the X and A states (literature and present study) is used to fit all the data. The spectroscopic information derived from this work enables new interstellar searches for C$_3$, not only in the infrared and optical regions investigated here but also notably in the $\\nu_2$ band region (around 63 cm$^{-1}$) where vibrational satellites can now be accurately predicted. This makes C$_3$ a universal diagnostic tool to study very different astronomical environments, from dark and dense to translucent clouds. |\n",
       "|<p style=\"color:green\"> **ERROR** </p>| <p style=\"color:green\">affiliation error: mpia.affiliation_verifications: 'Heidelberg' keyword not found.</p> |"
      ],
      "text/plain": [
       "<IPython.core.display.Markdown object>"
      ]
     },
     "metadata": {},
     "output_type": "display_data"
    },
    {
     "data": {
      "text/markdown": [
       "\n",
       "|||\n",
       "|---:|:---|\n",
       "| [![arXiv](https://img.shields.io/badge/arXiv-arXiv:2301.05100-b31b1b.svg)](https://arxiv.org/abs/arXiv:2301.05100) | **Cosmological-Scale HI Distribution Around Galaxies and AGN Probed with  the HETDEX and SDSS Spectroscopic Data**  |\n",
       "|| Dongsheng Sun, et al. -- incl., <mark>Yechi Zhang</mark>, <mark>Chenxu Liu</mark> |\n",
       "|*Appeared on*| *2023-01-13*|\n",
       "|*Comments*| *26 pages, 32 figures, submitted to ApJ*|\n",
       "|**Abstract**| We present cosmological-scale 3-dimensional (3D) neutral hydrogen ({\\sc Hi}) tomographic maps at $z=2-3$ over a total of 837 deg$^2$ in two blank fields that are developed with Ly$\\alpha$ forest absorptions of 14,736 background Sloan Digital Sky Survey (SDSS) quasars at $z$=2.08-3.67. Using the tomographic maps, we investigate the large-scale ($\\gtrsim 10$ $h^{-1}$cMpc) average {\\sc Hi} radial profiles and two-direction profiles of the line-of-sight (LoS) and transverse (TS) directions around galaxies and AGN at $z=2-3$ identified by the Hobby-Eberly Telescope Dark Energy eXperiment (HETDEX) and SDSS surveys, respectively.The peak of the {\\sc Hi} radial profile around galaxies is lower than the one around AGN, suggesting that the dark-matter halos of galaxies are less massive on average than those of AGN. The LoS profile of AGN is narrower than the TS profile, indicating the Kaiser effect. There exist ionized outskirts at $\\gtrsim 30$ $h^{-1}$cMpc beyond {\\sc Hi} rich structures of galaxies and AGN found in the LoS profiles that can be explained by the influence of high energy photons propagating over a long distance. Our findings indicate that the {\\sc Hi} radial profile of AGN has transitions from proximity zones ($\\lesssim$ a few $h^{-1}$cMpc) to the {\\sc Hi} rich structures ($\\sim 1-30$ $h^{-1}$cMpc) and the ionized outskirts ($\\gtrsim 30$ $h^{-1}$cMpc). Although there is no significant dependence of AGN types (type-1 vs. type-2) on the {\\sc Hi} profiles, the peaks of the radial profiles anti-correlate with AGN luminosities, suggesting that AGN's ionization effects are stronger than the gas mass differences. |\n",
       "|<p style=\"color:green\"> **ERROR** </p>| <p style=\"color:green\">affiliation error: mpia.affiliation_verifications: 'Heidelberg' keyword not found.</p> |"
      ],
      "text/plain": [
       "<IPython.core.display.Markdown object>"
      ]
     },
     "metadata": {},
     "output_type": "display_data"
    },
    {
     "data": {
      "text/markdown": [
       "\n",
       "|||\n",
       "|---:|:---|\n",
       "| [![arXiv](https://img.shields.io/badge/arXiv-arXiv:2301.05113-b31b1b.svg)](https://arxiv.org/abs/arXiv:2301.05113) | **QUIJOTE scientific results -- IV. A northern sky survey in intensity and  polarization at 10-20GHz with the Multi-Frequency Instrument**  |\n",
       "|| J. A. Rubino-Martin, et al. -- incl., <mark>D. Herranz</mark>, <mark>C. Hernandez-Monteagudo</mark> |\n",
       "|*Appeared on*| *2023-01-13*|\n",
       "|*Comments*| *60 pages. Accepted for publication in MNRAS. Maps and derived data products available at this https URL*|\n",
       "|**Abstract**| We present QUIJOTE intensity and polarization maps in four frequency bands centred around 11, 13, 17 and 19GHz, and covering approximately 29000 deg$^2$, including most of the Northern sky region. These maps result from 9000 h of observations taken between May 2013 and June 2018 with the first QUIJOTE instrument (MFI), and have angular resolutions of around $1^\\circ$, and sensitivities in polarization within the range 35-40 $\\mu$K per 1-degree beam, being a factor $\\sim 2$-$4$ worse in intensity. We discuss the data processing pipeline employed, and the basic characteristics of the maps in terms of real space statistics and angular power spectra. A number of validation tests have been applied to characterise the accuracy of the calibration and the residual level of systematic effects, finding a conservative overall calibration uncertainty of 5%. We also discuss flux densities for four bright celestial sources (Tau A, Cas A, Cyg A and 3C274) which are often used as calibrators at microwave frequencies. The polarization signal in our maps is dominated by synchrotron emission. The distribution of spectral index values between the 11GHz and WMAP 23GHz map peaks at $\\beta=-3.09$ with a standard deviation of 0.14. The measured BB/EE ratio at scales of $\\ell=80$ is $0.26\\pm 0.07$ for a Galactic cut $|b|>10^\\circ$. We find a positive TE correlation for 11GHz at large angular scales ($\\ell \\lesssim 50$), while the EB and TB signals are consistent with zero in the multipole range $30 \\lesssim \\ell \\lesssim 150$. The maps discussed in this paper are publicly available. |\n",
       "|<p style=\"color:green\"> **ERROR** </p>| <p style=\"color:green\">affiliation error: mpia.affiliation_verifications: 'Heidelberg' keyword not found.</p> |"
      ],
      "text/plain": [
       "<IPython.core.display.Markdown object>"
      ]
     },
     "metadata": {},
     "output_type": "display_data"
    },
    {
     "data": {
      "text/markdown": [
       "\n",
       "|||\n",
       "|---:|:---|\n",
       "| [![arXiv](https://img.shields.io/badge/arXiv-arXiv:2301.05114-b31b1b.svg)](https://arxiv.org/abs/arXiv:2301.05114) | **QUIJOTE scientific results -- V. The microwave intensity and  polarisation spectra of the Galactic regions W49, W51 and IC443**  |\n",
       "|| D. Tramonte, et al. -- incl., <mark>D. Herranz</mark> |\n",
       "|*Appeared on*| *2023-01-13*|\n",
       "|*Comments*| *29 pages, 11 figures. Accepted for publication in MNRAS*|\n",
       "|**Abstract**| We present new intensity and polarisation maps obtained with the QUIJOTE experiment towards the Galactic regions W49, W51 and IC443, covering the frequency range from 10 to 20 GHz at $\\sim$ 1 deg angular resolution, with a sensitivity in the range 35-79 ${\\mu}$K/beam for total intensity and 13-23 ${\\mu}$K/beam for polarisation. For each region, we combine QUIJOTE maps with ancillary data at frequencies ranging from 0.4 to 3000 GHz, reconstruct the spectral energy distribution and model it with a combination of known foregrounds. We detect anomalous microwave emission (AME) in total intensity towards W49 at 4.7${\\sigma}$ and W51 at 4.0${\\sigma}$ with peak frequencies ${\\nu}_{AME}$ = (20.0 $\\pm$ 1.4) GHz and ${\\nu}_{AME}$ = (17.7 $\\pm$ 3.6) GHz respectively; this is the first detection of AME towards W51. The contamination from ultra-compact HII regions to the residual AME flux density is estimated at 10% in W49 and 5% in W51, and does not rule out the AME detection. The polarised SEDs reveal a synchrotron contribution with spectral indices ${\\alpha}_s$ = -0.67 $\\pm$ 0.10 in W49 and ${\\alpha}_s$ = -0.51 $\\pm$ 0.07 in W51, ascribed to the diffuse Galactic emission and to the local supernova remnant respectively. Towards IC443 in total intensity we measure a broken power-law synchrotron spectrum with cut-off frequency ${\\nu}_{0,s}$ = (114 $\\pm$ 73) GHz, in agreement with previous studies; our analysis, however, rules out any AME contribution which had been previously claimed towards IC443. No evidence of polarised AME emission is detected in this study. |\n",
       "|<p style=\"color:green\"> **ERROR** </p>| <p style=\"color:green\">affiliation error: mpia.affiliation_verifications: 'Heidelberg' keyword not found.</p> |"
      ],
      "text/plain": [
       "<IPython.core.display.Markdown object>"
      ]
     },
     "metadata": {},
     "output_type": "display_data"
    },
    {
     "data": {
      "text/markdown": [
       "\n",
       "|||\n",
       "|---:|:---|\n",
       "| [![arXiv](https://img.shields.io/badge/arXiv-arXiv:2301.05115-b31b1b.svg)](https://arxiv.org/abs/arXiv:2301.05115) | **QUIJOTE scientific results -- VI. The Haze as seen by QUIJOTE**  |\n",
       "|| F. Guidi, et al. -- incl., <mark>D. Herranz</mark> |\n",
       "|*Appeared on*| *2023-01-13*|\n",
       "|*Comments*| *31 pages. Accepted for publication in MNRAS*|\n",
       "|**Abstract**| The Haze is an excess of microwave intensity emission surrounding the Galactic centre. It is spatially correlated with the $\\gamma$-ray Fermi bubbles, and with the S-PASS radio polarization plumes, suggesting a possible common provenance. The models proposed to explain the origin of the Haze, including energetic events at the Galactic centre and dark matter decay in the Galactic halo, do not yet provide a clear physical interpretation. In this paper we present a re-analysis of the Haze including new observations from the Multi-Frequency Instrument (MFI) of the Q-U-I JOint TEnerife (QUIJOTE) experiment, at 11 and 13 GHz. We analyze the Haze in intensity and polarization, characterizing its spectrum. We detect an excess of diffuse intensity signal ascribed to the Haze. The spectrum at frequencies 11$\\,\\leq\\nu\\leq\\,$70 GHz is a power-law with spectral index $\\beta^{\\rm H}=-2.79\\pm0.08$, which is flatter than the Galactic synchrotron in the same region ($\\beta^{\\rm S}=-2.98\\pm0.04$), but steeper than that obtained from previous works ($\\beta^{\\rm H}\\sim-2.5$ at 23$\\,\\leq\\,\\nu\\leq\\,$70 GHz). We also observe an excess of polarized signal in the QUIJOTE-MFI maps in the Haze area. This is a first hint detection of polarized Haze, or a consequence of curvature of the synchrotron spectrum in that area. Finally, we show that the spectrum of polarized structures associated with Galactic centre activity is steep at low frequencies ($\\beta \\sim -3.2$ at 2.3 $\\leq\\nu\\leq$ 23 GHz), and becomes flatter above 11 GHz. |\n",
       "|<p style=\"color:green\"> **ERROR** </p>| <p style=\"color:green\">affiliation error: mpia.affiliation_verifications: 'Heidelberg' keyword not found.</p> |"
      ],
      "text/plain": [
       "<IPython.core.display.Markdown object>"
      ]
     },
     "metadata": {},
     "output_type": "display_data"
    },
    {
     "data": {
      "text/markdown": [
       "\n",
       "|||\n",
       "|---:|:---|\n",
       "| [![arXiv](https://img.shields.io/badge/arXiv-arXiv:2301.05116-b31b1b.svg)](https://arxiv.org/abs/arXiv:2301.05116) | **QUIJOTE Scientific Results -- VII. Galactic AME sources in the  QUIJOTE-MFI Northern Hemisphere Wide-Survey**  |\n",
       "|| F. Poidevin, et al. -- incl., <mark>D. Herranz</mark> |\n",
       "|*Appeared on*| *2023-01-13*|\n",
       "|*Comments*| *36 pages. Accepted for publication in MNRAS. Maps and derived data products available at this https URL*|\n",
       "|**Abstract**| The QUIJOTE-MFI Northern Hemisphere Wide-Survey has provided maps of the sky above declinations $-30^\\circ$ at 11, 13, 17 and 19$\\,$GHz. These data are combined with ancillary data to produce Spectral Energy Distributions in intensity in the frequency range 0.4--3\\,000$\\,$GHz on a sample of 52 candidate compact sources harbouring anomalous microwave emission (AME). We apply a component separation analysis at 1$^\\circ$ scale on the full sample from which we identify 44 sources with high AME significance. We explore correlations between different fitted parameters on this last sample. QUIJOTE-MFI data contribute to notably improve the characterisation of the AME spectrum, and its separation from the other components. In particular, ignoring the 10--20\\,GHz data produces on average an underestimation of the AME amplitude, and an overestimation of the free-free component. We find an average AME peak frequency of 23.6 $\\pm$ 3.6$\\,$GHz, about 4$\\,$GHz lower than the value reported in previous studies. The strongest correlation is found between the peak flux density of the thermal dust and of the AME component. A mild correlation is found between the AME emissivity ($A_{\\rm AME}/\\tau_{250}$) and the interstellar radiation field. On the other hand no correlation is found between the AME emissivity and the free-free radiation Emission Measure. Our statistical results suggest that the interstellar radiation field could still be the main driver of the intensity of the AME as regards spinning dust excitation mechanisms. On the other hand, it is not clear whether spinning dust would be most likely associated with cold phases of the interstellar medium rather than with hot phases dominated by free-free radiation. |\n",
       "|<p style=\"color:green\"> **ERROR** </p>| <p style=\"color:green\">affiliation error: mpia.affiliation_verifications: 'Heidelberg' keyword not found.</p> |"
      ],
      "text/plain": [
       "<IPython.core.display.Markdown object>"
      ]
     },
     "metadata": {},
     "output_type": "display_data"
    },
    {
     "data": {
      "text/markdown": [
       "\n",
       "|||\n",
       "|---:|:---|\n",
       "| [![arXiv](https://img.shields.io/badge/arXiv-arXiv:2301.05117-b31b1b.svg)](https://arxiv.org/abs/arXiv:2301.05117) | **QUIJOTE scientific results -- VIII. Diffuse polarized foregrounds from  component separation with QUIJOTE-MFI**  |\n",
       "|| E. de la Hoz, et al. -- incl., <mark>D. Herranz</mark> |\n",
       "|*Appeared on*| *2023-01-13*|\n",
       "|*Comments*| *25 pages, 29 figures, Accepted for publication in MNRAS*|\n",
       "|**Abstract**| We derive linearly polarized astrophysical component maps in the Northern Sky from the QUIJOTE-MFI data at 11 and 13 GHz in combination with the WMAP K and Ka bands (23 and 33 GHz) and all Planck polarized channels (30-353 GHz), using the parametric component separation method B-SeCRET. The addition of QUIJOTE-MFI data significantly improves the parameter estimation of the low-frequency foregrounds, especially the estimation of the synchrotron spectral index, $\\beta_s$. We present the first detailed $\\beta_s$ map of the Northern Celestial Hemisphere at a smoothing scale of $2^{\\circ}$. We find statistically significant spatial variability across the sky. We obtain an average value of $-3.08$ and a dispersion of $0.13$, considering only pixels with reliable goodness-of-fit. The power law model of the synchrotron emission provides a good fit to the data outside the Galactic plane but fails to track the complexity within this region. Moreover, when we assume a synchrotron model with uniform curvature, $c_s$, we find a value of $c_s = -0.0797 \\pm 0.0012$. However, there is insufficient statistical significance to determine which model is favoured, either the power law or the power law with uniform curvature. Furthermore, we estimate the thermal dust spectral parameters in polarization. Our CMB, synchrotron, and thermal dust maps are highly correlated with the corresponding products of the PR4 Planck release, although some large-scale differences are observed in the synchrotron emission. Finally, we find that the $\\beta_s$ estimation in the high signal-to-noise synchrotron emission areas is prior-independent while, outside these regions, the prior governs the $\\beta_s$ estimation. |\n",
       "|<p style=\"color:green\"> **ERROR** </p>| <p style=\"color:green\">affiliation error: mpia.affiliation_verifications: 'Heidelberg' keyword not found.</p> |"
      ],
      "text/plain": [
       "<IPython.core.display.Markdown object>"
      ]
     },
     "metadata": {},
     "output_type": "display_data"
    },
    {
     "data": {
      "text/markdown": [
       "\n",
       "|||\n",
       "|---:|:---|\n",
       "| [![arXiv](https://img.shields.io/badge/arXiv-arXiv:2301.05118-b31b1b.svg)](https://arxiv.org/abs/arXiv:2301.05118) | **QUIJOTE scientific results -- IX. Radio sources in the QUIJOTE-MFI wide  survey maps**  |\n",
       "|| <mark>D. Herranz</mark>, et al. |\n",
       "|*Appeared on*| *2023-01-13*|\n",
       "|*Comments*| *21 pages, 13 figures, 7 tables*|\n",
       "|**Abstract**| We present the catalogue of Q-U-I JOint TEnerife (QUIJOTE) Wide Survey radio sources extracted from the maps of the Multi-Frequency Instrument compiled between 2012 and 2018. The catalogue contains 786 sources observed in intensity and polarization, and is divided into two separate sub-catalogues: one containing 47 bright sources previously studied by the \\emph{Planck} collaboration and an extended catalogue of 739 sources either selected from the \\emph{Planck} Second Catalogue of Compact Sources or found through a blind search carried out with a Mexican Hat 2 wavelet. A significant fraction of the sources in our catalogue (38.7 per cent) are within the $|b| \\leq 20^\\circ$ region of the Galactic plane. We determine statistical properties for those sources that are likely to be extragalactic. We find that these statistical properties are compatible with currently available models, with a $\\sim$1.8 Jy completeness limit at 11 GHz. We provide the polarimetric properties of (38, 33, 31, 23) sources with P detected above the $99.99\\%$ significance level at (11, 13, 17, 19) GHz, respectively. Median polarization fractions are in the $2.8$-$4.7$\\% range in the 11-19 GHz frequency interval. We do not distinguish between Galactic and extragalactic sources here. The results presented here are consistent with those reported in the literature for flat- and steep-spectrum radio sources. |\n",
       "|<p style=\"color:green\"> **ERROR** </p>| <p style=\"color:green\">affiliation error: mpia.affiliation_verifications: 'Heidelberg' keyword not found.</p> |"
      ],
      "text/plain": [
       "<IPython.core.display.Markdown object>"
      ]
     },
     "metadata": {},
     "output_type": "display_data"
    },
    {
     "data": {
      "text/markdown": [
       "\n",
       "|||\n",
       "|---:|:---|\n",
       "| [![arXiv](https://img.shields.io/badge/arXiv-arXiv:2301.05227-b31b1b.svg)](https://arxiv.org/abs/arXiv:2301.05227) | **Chrono-chemodynamical analysis of the globular cluster NGC 6355: Looking  for the fundamental bricks of the Bulge**  |\n",
       "|| Stefano O. Souza, et al. -- incl., <mark>Heitor Ernandes</mark> |\n",
       "|*Appeared on*| *2023-01-13*|\n",
       "|*Comments*| *20 pages, 26 figures, and 9 tables. Astronomy & Astrophysics, in press*|\n",
       "|**Abstract**| The information on Galactic assembly time is imprinted on the chemodynamics of globular clusters. This makes them important probes that help us to understand the formation and evolution of the Milky Way. Discerning between in-situ and ex-situ origin of these objects is difficult when we study the Galactic bulge, which is the most complex and mixed component of the Milky Way. To investigate the early evolution of the Galactic bulge, we analysed the globular cluster NGC 6355. We derived chemical abundances and kinematic and dynamic properties by gathering information from high-resolution spectroscopy with FLAMES-UVES, photometry with the Hubble Space Telescope, and Galactic dynamic calculations applied to the globular cluster NGC 6355. We derive an age of $13.2\\pm1.1$ Gyr and a metallicity of [Fe/H]$=-1.39\\pm0.08$ for NGC 6355, with $\\alpha$-enhancement of [$\\alpha$/Fe]$=+0.37\\pm0.11$. The abundance pattern of the globular cluster is compatible with bulge field RR Lyrae stars and in-situ well-studied globular clusters. The orbital parameters suggest that the cluster is currently confined within the bulge volume when we consider a heliocentric distance of $8.54\\pm0.19$ kpc and an extinction coefficient of $R_V = 2.84\\pm0.02$. NGC 6355 is highly likely to come from the main bulge progenitor. {Nevertheless, it still} has a low probability of being formed from an accreted event because its age is uncertain and because of the combined [Mg/Mn] [Al/Fe] abundance. Its relatively low metallicity with respect to old and moderately metal-poor inner Galaxy clusters may suggest a low-metallicity floor for globular clusters that formed in-situ in the early Galactic bulge. |\n",
       "|<p style=\"color:green\"> **ERROR** </p>| <p style=\"color:green\">affiliation error: mpia.affiliation_verifications: 'Heidelberg' keyword not found.</p> |"
      ],
      "text/plain": [
       "<IPython.core.display.Markdown object>"
      ]
     },
     "metadata": {},
     "output_type": "display_data"
    },
    {
     "data": {
      "text/markdown": [
       "\n",
       "|||\n",
       "|---:|:---|\n",
       "| [![arXiv](https://img.shields.io/badge/arXiv-arXiv:2301.04699-b31b1b.svg)](https://arxiv.org/abs/arXiv:2301.04699) | **CMZoom III: Spectral Line Data Release**  |\n",
       "|| Daniel Callanan, et al. -- incl., <mark>Jonathan Henshaw</mark>, <mark>Qizhou Zhang</mark> |\n",
       "|*Appeared on*| *2023-01-13*|\n",
       "|*Comments*| *44 pages, 41 figures*|\n",
       "|**Abstract**| We present an overview and data release of the spectral line component of the SMA Large Program, \\textit{CMZoom}. \\textit{CMZoom} observed $^{12}$CO(2-1), $^{13}$CO(2-1) and C$^{18}$O(2-1), three transitions of H$_{2}$CO, several transitions of CH$_{3}$OH, two transitions of OCS and single transitions of SiO and SO, within gas above a column density of N(H$_2$)$\\ge 10^{23}$\\,cm$^{-2}$ in the Central Molecular Zone (CMZ; inner few hundred pc of the Galaxy). We extract spectra from all compact 1.3\\,mm \\emph{CMZoom} continuum sources and fit line profiles to the spectra. We use the fit results from the H$_{2}$CO 3(0,3)-2(0,2) transition to determine the source kinematic properties. We find $\\sim 90$\\% of the total mass of \\emph{CMZoom} sources have reliable kinematics. Only four compact continuum sources are formally self-gravitating. The remainder are consistent with being in hydrostatic equilibrium assuming that they are confined by the high external pressure in the CMZ. Based on the mass and density of virially bound sources, and assuming star formation occurs within one free-fall time with a star formation efficiency of $10\\% - 75\\%$, we place a lower limit on the future embedded star-formation rate of $0.008 - 0.06$\\,M$_{\\odot}$\\,yr$^{-1}$. We find only two convincing proto-stellar outflows, ruling out a previously undetected population of very massive, actively accreting YSOs with strong outflows. Finally, despite having sufficient sensitivity and resolution to detect high-velocity compact clouds (HVCCs), which have been claimed as evidence for intermediate mass black holes interacting with molecular gas clouds, we find no such objects across the large survey area. |\n",
       "|<p style=\"color:red\"> **ERROR** </p>| <p style=\"color:red\">latex error Could not find figure .pdf</p> |"
      ],
      "text/plain": [
       "<IPython.core.display.Markdown object>"
      ]
     },
     "metadata": {},
     "output_type": "display_data"
    },
    {
     "data": {
      "text/markdown": [
       "\n",
       "|||\n",
       "|---:|:---|\n",
       "| [![arXiv](https://img.shields.io/badge/arXiv-arXiv:2301.04694-b31b1b.svg)](https://arxiv.org/abs/arXiv:2301.04694) | **Science Priorities for the Extraction of the Solid MSR Samples from  their Sample Tubes**  |\n",
       "|| N. Dauphas, et al. -- incl., <mark>T. Kleine</mark> |\n",
       "|*Appeared on*| *2023-01-13*|\n",
       "|*Comments*| *8 pages, 3 figures, 1 table, report NASA-ESA Mars Rock Team Report*|\n",
       "|**Abstract**| Preservation of the chemical and structural integrity of samples that will be brought back from Mars is paramount to achieving the scientific objectives of MSR. Given our knowledge of the nature of the samples retrieved at Jezero by Perseverance, at least two options need to be tested for opening the sample tubes: (1) One or two radial cuts at the end of the tube to slide the sample out. (2) Two radial cuts at the ends of the tube and two longitudinal cuts to lift the upper half of the tube and access the sample. Strategy 1 will likely minimize contamination but incurs the risk of affecting the physical integrity of weakly consolidated samples. Strategy 2 will be optimal for preserving the physical integrity of the samples but increases the risk of contamination and mishandling of the sample as more manipulations and additional equipment will be needed. A flexible approach to opening the sample tubes is therefore required, and several options need to be available, depending on the nature of the rock samples returned. Both opening strategies 1 and 2 may need to be available when the samples are returned to handle different sample types (e.g., loosely bound sediments vs. indurated magmatic rocks). This question should be revisited after engineering tests are performed on analogue samples. The MSR sample tubes will have to be opened under stringent BSL4 conditions and this aspect needs to be integrated into the planning. |\n",
       "|<p style=\"color:red\"> **ERROR** </p>| <p style=\"color:red\">latex error not a gzip file</p> |"
      ],
      "text/plain": [
       "<IPython.core.display.Markdown object>"
      ]
     },
     "metadata": {},
     "output_type": "display_data"
    }
   ],
   "source": [
    "import datetime\n",
    "today = str(datetime.date.today())\n",
    "logfile = f\"_build/html/logs/log-{today}.md\"\n",
    "\n",
    "\n",
    "with open(logfile, 'w') as logs:\n",
    "    # Success\n",
    "    logs.write(f'# Arxiv on Deck 2: Logs - {today}\\n\\n')\n",
    "    logs.write(\"\"\"* Arxiv had {0:,d} new papers\\n\"\"\".format(len(new_papers)))\n",
    "    logs.write(\"\"\"    * {0:,d} with possible author matches\\n\\n\"\"\".format(len(candidates)))\n",
    "    logs.write(\"## Sucessful papers\\n\\n\")\n",
    "    display(Markdown(\"## Successful papers\"))\n",
    "    success = [k[0] for k in documents]\n",
    "    for candid in candidates:\n",
    "        if candid['identifier'].split(':')[-1] in success:\n",
    "            display(candid)\n",
    "            logs.write(candid.generate_markdown_text() + '\\n\\n')\n",
    "\n",
    "    ## failed\n",
    "    logs.write(\"## Failed papers\\n\\n\")\n",
    "    display(Markdown(\"## Failed papers\"))\n",
    "    failed = sorted(failed, key=lambda x: x[1])\n",
    "    current_reason = \"\"\n",
    "    for paper, reason in failed:\n",
    "        if 'affiliation' in reason:\n",
    "            color = 'green'\n",
    "        else:\n",
    "            color = 'red'\n",
    "        data = Markdown(\n",
    "                paper.generate_markdown_text() + \n",
    "                f'\\n|<p style=\"color:{color:s}\"> **ERROR** </p>| <p style=\"color:{color:s}\">{reason:s}</p> |'\n",
    "               )\n",
    "        if reason != current_reason:\n",
    "            logs.write(f'### {reason:s} \\n\\n')\n",
    "            current_reason = reason\n",
    "        logs.write(data.data + '\\n\\n')\n",
    "        \n",
    "        # only display here the important errors (all in logs)\n",
    "        # if color in ('red',):\n",
    "        display(data)"
   ]
  },
  {
   "cell_type": "markdown",
   "id": "472d20ee",
   "metadata": {
    "papermill": {
     "duration": 0.011701,
     "end_time": "2023-01-13T04:11:40.281479",
     "exception": false,
     "start_time": "2023-01-13T04:11:40.269778",
     "status": "completed"
    },
    "tags": []
   },
   "source": [
    "## Export documents\n",
    "\n",
    "We now write the .md files and export relevant images"
   ]
  },
  {
   "cell_type": "code",
   "execution_count": 7,
   "id": "d426aed9",
   "metadata": {
    "execution": {
     "iopub.execute_input": "2023-01-13T04:11:40.307103Z",
     "iopub.status.busy": "2023-01-13T04:11:40.306466Z",
     "iopub.status.idle": "2023-01-13T04:11:40.315370Z",
     "shell.execute_reply": "2023-01-13T04:11:40.314668Z"
    },
    "papermill": {
     "duration": 0.023589,
     "end_time": "2023-01-13T04:11:40.316970",
     "exception": false,
     "start_time": "2023-01-13T04:11:40.293381",
     "status": "completed"
    },
    "tags": []
   },
   "outputs": [],
   "source": [
    "def export_markdown_summary(md: str, md_fname:str, directory: str):\n",
    "    \"\"\"Export MD document and associated relevant images\"\"\"\n",
    "    import os\n",
    "    import shutil\n",
    "    import re\n",
    "\n",
    "    if (os.path.exists(directory) and not os.path.isdir(directory)):\n",
    "        raise RuntimeError(f\"a non-directory file exists with name {directory:s}\")\n",
    "\n",
    "    if (not os.path.exists(directory)):\n",
    "        print(f\"creating directory {directory:s}\")\n",
    "        os.mkdir(directory)\n",
    "\n",
    "    fig_fnames = (re.compile(r'\\[Fig.*\\]\\((.*)\\)').findall(md) + \n",
    "                  re.compile(r'\\<img src=\"([^>\\s]*)\"[^>]*/>').findall(md))\n",
    "    for fname in fig_fnames:\n",
    "        if 'http' in fname:\n",
    "            # No need to copy online figures\n",
    "            continue\n",
    "        destdir = os.path.join(directory, os.path.dirname(fname))\n",
    "        destfname = os.path.join(destdir, os.path.basename(fname))\n",
    "        try:\n",
    "            os.makedirs(destdir)\n",
    "        except FileExistsError:\n",
    "            pass\n",
    "        shutil.copy(fname, destfname)\n",
    "    with open(os.path.join(directory, md_fname), 'w') as fout:\n",
    "        fout.write(md)\n",
    "    print(\"exported in \", os.path.join(directory, md_fname))\n",
    "    [print(\"    + \" + os.path.join(directory,fk)) for fk in fig_fnames]"
   ]
  },
  {
   "cell_type": "code",
   "execution_count": 8,
   "id": "014d04a4",
   "metadata": {
    "execution": {
     "iopub.execute_input": "2023-01-13T04:11:40.342731Z",
     "iopub.status.busy": "2023-01-13T04:11:40.341896Z",
     "iopub.status.idle": "2023-01-13T04:11:40.352381Z",
     "shell.execute_reply": "2023-01-13T04:11:40.351597Z"
    },
    "papermill": {
     "duration": 0.025453,
     "end_time": "2023-01-13T04:11:40.354076",
     "exception": false,
     "start_time": "2023-01-13T04:11:40.328623",
     "status": "completed"
    },
    "tags": []
   },
   "outputs": [
    {
     "name": "stdout",
     "output_type": "stream",
     "text": [
      "exported in  _build/html/2301.04656.md\n",
      "    + _build/html/tmp_2301.04656/./manara_canon_2e6.png\n",
      "    + _build/html/tmp_2301.04656/./disklifetimes_canon.png\n",
      "    + _build/html/tmp_2301.04656/./typical_gas_sinks.png\n",
      "exported in  _build/html/2301.05034.md\n",
      "    + _build/html/tmp_2301.05034/./Figures/17_Mfrac_ThinThick_Int_New.png\n",
      "    + _build/html/tmp_2301.05034/./Figures/17_Mfrac_ThinThick_Ext_New.png\n",
      "    + _build/html/tmp_2301.05034/./Figures/10_Mfrac_H2O_AlphaFe_FeH_External_2panels_lim.png\n",
      "    + _build/html/tmp_2301.05034/./Figures/5_nMgnH_AlphaFe_FeH_Internal_2panels_lim.png\n",
      "    + _build/html/tmp_2301.05034/./Figures/6_nSinH_AlphaFe_FeH_Internal_2panels_lim.png\n",
      "    + _build/html/tmp_2301.05034/./Figures/7_nMgHminnSiH_AlphaFe_FeH_Internal_2panels_lim.png\n"
     ]
    }
   ],
   "source": [
    "for paper_id, md in documents:\n",
    "    export_markdown_summary(md, f\"{paper_id:s}.md\", '_build/html/')"
   ]
  },
  {
   "cell_type": "markdown",
   "id": "f087a0a7",
   "metadata": {
    "papermill": {
     "duration": 0.011901,
     "end_time": "2023-01-13T04:11:40.377883",
     "exception": false,
     "start_time": "2023-01-13T04:11:40.365982",
     "status": "completed"
    },
    "tags": []
   },
   "source": [
    "## Display the papers\n",
    "\n",
    "Not necessary but allows for a quick check."
   ]
  },
  {
   "cell_type": "code",
   "execution_count": 9,
   "id": "fd25f625",
   "metadata": {
    "execution": {
     "iopub.execute_input": "2023-01-13T04:11:40.451787Z",
     "iopub.status.busy": "2023-01-13T04:11:40.451121Z",
     "iopub.status.idle": "2023-01-13T04:11:40.458801Z",
     "shell.execute_reply": "2023-01-13T04:11:40.458013Z"
    },
    "papermill": {
     "duration": 0.022759,
     "end_time": "2023-01-13T04:11:40.460449",
     "exception": false,
     "start_time": "2023-01-13T04:11:40.437690",
     "status": "completed"
    },
    "scrolled": false,
    "tags": []
   },
   "outputs": [
    {
     "data": {
      "text/markdown": [
       "<div class=\"macros\" style=\"visibility:hidden;\">\n",
       "$\\newcommand{\\ensuremath}{}$\n",
       "$\\newcommand{\\xspace}{}$\n",
       "$\\newcommand{\\object}[1]{\\texttt{#1}}$\n",
       "$\\newcommand{\\farcs}{{.}''}$\n",
       "$\\newcommand{\\farcm}{{.}'}$\n",
       "$\\newcommand{\\arcsec}{''}$\n",
       "$\\newcommand{\\arcmin}{'}$\n",
       "$\\newcommand{\\ion}[2]{#1#2}$\n",
       "$\\newcommand{\\textsc}[1]{\\textrm{#1}}$\n",
       "$\\newcommand{\\hl}[1]{\\textrm{#1}}$\n",
       "$\\newcommand{\\paperone}{\\citetalias{2022AABurnA}}$\n",
       "$\\newcommand{\\paperthree}{\\citetalias{Disk3}}$\n",
       "$\\newcommand{\\tabletv}{Table~3}$\n",
       "$\\newcommand{\\tablets}{Table~4}$</div>\n",
       "\n",
       "<div class=\"macros\" style=\"visibility:hidden;\">\n",
       "$\\newcommand{$\\ensuremath$}{}$\n",
       "$\\newcommand{$\\xspace$}{}$\n",
       "$\\newcommand{$\\object$}[1]{\\texttt{#1}}$\n",
       "$\\newcommand{$\\farcs$}{{.}''}$\n",
       "$\\newcommand{$\\farcm$}{{.}'}$\n",
       "$\\newcommand{$\\arcsec$}{''}$\n",
       "$\\newcommand{$\\arcmin$}{'}$\n",
       "$\\newcommand{$\\ion$}[2]{#1#2}$\n",
       "$\\newcommand{$\\textsc$}[1]{\\textrm{#1}}$\n",
       "$\\newcommand{$\\hl$}[1]{\\textrm{#1}}$\n",
       "$\\newcommand{$\\paperone$}{\\citetalias{2022AABurnA}}$\n",
       "$\\newcommand{$\\paperthree$}{\\citetalias{Disk3}}$\n",
       "$\\newcommand{$\\tabletv$}{Table~3}$\n",
       "$\\newcommand{$\\tablets$}{Table~4}$</div>\n",
       "\n",
       "\n",
       "\n",
       "<div id=\"title\">\n",
       "\n",
       "# Towards a population synthesis of discs and planets: Tables 3 and 4 are only available in electronic form at the CDS via anonymous ftp to cdsarc.cds.unistra.fr (130.79.128.5) or via https://cdsarc.cds.unistra.fr/cgi-bin/qcat?J/A+A/\n",
       "\n",
       "</div>\n",
       "<div id=\"comments\">\n",
       "\n",
       "[![arXiv](https://img.shields.io/badge/arXiv-2301.04656-b31b1b.svg)](https://arxiv.org/abs/2301.04656)<mark>Appeared on: 2023-01-13</mark> - _Accepted for publication in A&A_\n",
       "\n",
       "</div>\n",
       "<div id=\"authors\">\n",
       "\n",
       "Alexandre Emsenhuber, et al. -- incl., <mark>Remo Burn</mark>\n",
       "\n",
       "</div>\n",
       "<div id=\"abstract\">\n",
       "\n",
       "**Abstract:** Aims. We want to find the distribution of initial conditions that best reproduces disc observations at the population level. Methods. We first ran a parameter study using a 1D model that includes the viscous evolution of a gas disc, dust, and pebbles, coupled with an emission model to compute the millimetre flux observable with ALMA. This was used to train a machine learning surrogate model that can compute the relevant quantity for comparison with observations in seconds. This surrogate model was used to perform parameter studies and synthetic disc populations. Results. Performing a parameter study, we find that internal photoevaporation leads to a lower dependency of disc lifetime on stellar mass than external photoevaporation. This dependence should be investigated in the future. Performing population synthesis, we find that under the combined losses of internal and external photoevaporation, discs are too short lived. Conclusions. To match observational constraints, future models of disc evolution need to include one or a combination of the following processes: infall of material to replenish the discs, shielding of the disc from internal photoevaporation due to magnetically driven disc winds, and extinction of external high-energy radiation. Nevertheless, disc properties in low-external-photoevaporation regions can be reproduced by having more massive and compact discs. Here, the optimum values of the $\\alpha$ viscosity parameter lie between $3\\times10^{-4}$ and $10^{-3}$ and with internal photoevaporation being the main mode of disc dispersal. \n",
       "\n",
       "</div>\n",
       "\n",
       "<div id=\"div_fig1\">\n",
       "\n",
       "<img src=\"tmp_2301.04656/./manara_canon_2e6.png\" alt=\"Fig4\" width=\"100%\"/>\n",
       "\n",
       "**Figure 4. -** Histogram for stellar accretion rate vs. disc mass at \\SI{2}{\\mega\\year} and the same synthetic disc populations shown in Fig. \\ref{fig:dlt-pop-canon}. The observed data from the Lupus (in red) and Chamaeleon I (orange) star forming regions from \\citet{2019AAManara} are shown for comparison. Two disc dispersal timescales $\\tau=\\dot{M}_\\mathrm{G}/M_\\mathrm{G}$ of \\SI{1}{\\mega\\year} and \\SI{10}{\\mega\\year}(assuming that the gas disc mass $M_\\mathrm{G}$ is \\num{100} times the observed dust mass) and the best fit to the data from \\citet{2016AAManaraB} are shown as well. (*fig:mar-pop-canon*)\n",
       "\n",
       "</div>\n",
       "<div id=\"div_fig2\">\n",
       "\n",
       "<img src=\"tmp_2301.04656/./disklifetimes_canon.png\" alt=\"Fig1\" width=\"100%\"/>\n",
       "\n",
       "**Figure 1. -** Cumulative distribution of disc lifetimes for a population with canonical parameter distribution (see text). Two exponential decays following \\citet{2010AAFedele} with a characteristic time of \\SI{2.3}{\\mega\\year}(accretion) and \\SI{3}{\\mega\\year}(infrared excess) and the results of \\citet{2014AARibas} are shown as well. (*fig:dlt-pop-canon*)\n",
       "\n",
       "</div>\n",
       "<div id=\"div_fig3\">\n",
       "\n",
       "<img src=\"tmp_2301.04656/./typical_gas_sinks.png\" alt=\"Fig3\" width=\"100%\"/>\n",
       "\n",
       "**Figure 3. -** Evolution of the relative gas mass: in the disc (blue), accreted onto the star (green), and lost by internal (orange) or external (red) photoevaporation until disc dispersal at \\SI{1.38}{\\mega\\year}. This represents a typical disc, with $M_\\star=\\SI{0.5}{\\msol}$, $M_\\mathrm{G}/M_\\star=\\num{0.1}$, $\\beta=0.9$, $R_\\mathrm{in}=\\SI{0.1}{\\au}$, $r_1=\\SI{87.8}{\\au}$, $\\alpha=\\num{1e-3}$, $L_\\mathrm{X}=\\SI{7.02e29}{\\erg\\per\\second}$, and $F=\\SI{10}{G_0}$. The parameters for the solid disc are irrelevant, as this shows only the gas component, except that we used $f_\\mathrm{D/G}=\\num{0.0149}$ to compute the solid mass needed to set the characteristic radius $r_1$. (*fig:typical*)\n",
       "\n",
       "</div>"
      ],
      "text/plain": [
       "<IPython.core.display.Markdown object>"
      ]
     },
     "metadata": {},
     "output_type": "display_data"
    },
    {
     "data": {
      "text/markdown": [
       "<div class=\"macros\" style=\"visibility:hidden;\">\n",
       "$\\newcommand{\\ensuremath}{}$\n",
       "$\\newcommand{\\xspace}{}$\n",
       "$\\newcommand{\\object}[1]{\\texttt{#1}}$\n",
       "$\\newcommand{\\farcs}{{.}''}$\n",
       "$\\newcommand{\\farcm}{{.}'}$\n",
       "$\\newcommand{\\arcsec}{''}$\n",
       "$\\newcommand{\\arcmin}{'}$\n",
       "$\\newcommand{\\ion}[2]{#1#2}$\n",
       "$\\newcommand{\\textsc}[1]{\\textrm{#1}}$\n",
       "$\\newcommand{\\hl}[1]{\\textrm{#1}}$</div>\n",
       "\n",
       "<div class=\"macros\" style=\"visibility:hidden;\">\n",
       "$\\newcommand{$\\ensuremath$}{}$\n",
       "$\\newcommand{$\\xspace$}{}$\n",
       "$\\newcommand{$\\object$}[1]{\\texttt{#1}}$\n",
       "$\\newcommand{$\\farcs$}{{.}''}$\n",
       "$\\newcommand{$\\farcm$}{{.}'}$\n",
       "$\\newcommand{$\\arcsec$}{''}$\n",
       "$\\newcommand{$\\arcmin$}{'}$\n",
       "$\\newcommand{$\\ion$}[2]{#1#2}$\n",
       "$\\newcommand{$\\textsc$}[1]{\\textrm{#1}}$\n",
       "$\\newcommand{$\\hl$}[1]{\\textrm{#1}}$</div>\n",
       "\n",
       "\n",
       "\n",
       "<div id=\"title\">\n",
       "\n",
       "# How the origin of stars in the Galaxy impacts the composition of planetary building blocks\n",
       "\n",
       "</div>\n",
       "<div id=\"comments\">\n",
       "\n",
       "[![arXiv](https://img.shields.io/badge/arXiv-2301.05034-b31b1b.svg)](https://arxiv.org/abs/2301.05034)<mark>Appeared on: 2023-01-13</mark> - __\n",
       "\n",
       "</div>\n",
       "<div id=\"authors\">\n",
       "\n",
       "N. Cabral, et al. -- incl., <mark>B. Bitsch</mark>\n",
       "\n",
       "</div>\n",
       "<div id=\"abstract\">\n",
       "\n",
       "**Abstract:** Our Galaxy is composed of different stellar populations with varying chemical abundances, which are thought to imprint the composition of planet building blocks (PBBs). As such, the properties of stars should affect the properties of planets and small bodies formed in their systems. In this context, high-resolution spectroscopic surveys open a window into the chemical links between and their host stars.We aim to determine the PBB composition trends for various stellar populations across the Galaxy by comparing the two large spectroscopic surveys APOGEE and GALAH. We assess the reliability of the PBB composition as determined with these surveys with a propagation error study.Stellar spectroscopic abundances from the large surveys GALAH-DR3 and APOGEE-DR17 were used as input with a stoichiometric condensation model. We classified stars into different Galactic components and we quantified the PBB composition trends as a function of[Fe/H]. We also analysed the distribution composition patterns in the[$\\alpha$/Fe]-[Fe/H]diagram.Our propagation error study suggests that the overall trends with[Fe/H]and[$\\alpha$/Fe]are robust, which is supported by the double study of both APOGEE and GALAH. We therefore confirm the existence of a bimodal PBB composition separating the thin disc stars from the thick disc stars. Furthermore, we confirm that the stoichiometric water PBB content is anti-correlated with[Fe/H].Our results imply that metal-poor stars both in the thin and thick disks are suitable hosts for water-rich PBBs and for ice-rich small bodies. However, for metal-poor stars ([Fe/H]<0), the PBBs around thick disc stars should have a higher water content than that around thin disc stars because of the$\\alpha$-content dependence of the water mass fraction. Given the importance of the initial water abundance of the PBBs in recent planet formation simulations, we expect that the star origin influences the exoplanet population properties across the Galaxy.\n",
       "\n",
       "</div>\n",
       "\n",
       "<div id=\"div_fig1\">\n",
       "\n",
       "<img src=\"tmp_2301.05034/./Figures/17_Mfrac_ThinThick_Int_New.png\" alt=\"Fig11.1\" width=\"50%\"/><img src=\"tmp_2301.05034/./Figures/17_Mfrac_ThinThick_Ext_New.png\" alt=\"Fig11.2\" width=\"50%\"/>\n",
       "\n",
       "**Figure 11. -** Mean molecular mass fractions per bin of metallicity for thin disc (solid line) and thick disc (dashed line). Top panels correspond to APOGEE-DR17; bottom panels correspond to GALAH-DR3. Left panels correspond to the inner proto-planetary disc (T>150K); right panels correspond to the outer proto-planetary disc (T<150K, which includes the H2O molecule). (*Fig_Mfrac_ThinThickperFeH*)\n",
       "\n",
       "</div>\n",
       "<div id=\"div_fig2\">\n",
       "\n",
       "<img src=\"tmp_2301.05034/./Figures/10_Mfrac_H2O_AlphaFe_FeH_External_2panels_lim.png\" alt=\"Fig3\" width=\"100%\"/>\n",
       "\n",
       "**Figure 3. -** PBB mass fraction distribution of H$_2$O for T<150 K (outer proto-planetary disc) in the [$\\alpha$/Fe]-[Fe/H] diagram. We display the surveys APOGEE-DR17 (top panels) and GALAH-DR3 (bottom panels). (*Fig7_Mfrac_AlphaFe_Outer*)\n",
       "\n",
       "</div>\n",
       "<div id=\"div_fig3\">\n",
       "\n",
       "<img src=\"tmp_2301.05034/./Figures/5_nMgnH_AlphaFe_FeH_Internal_2panels_lim.png\" alt=\"Fig8.1\" width=\"33%\"/><img src=\"tmp_2301.05034/./Figures/6_nSinH_AlphaFe_FeH_Internal_2panels_lim.png\" alt=\"Fig8.2\" width=\"33%\"/><img src=\"tmp_2301.05034/./Figures/7_nMgHminnSiH_AlphaFe_FeH_Internal_2panels_lim.png\" alt=\"Fig8.3\" width=\"33%\"/>\n",
       "\n",
       "**Figure 8. -** Stellar abundance distribution in the [$\\alpha$/Fe]-[Fe/H] diagram for  Mg/H (left panel), Si/H (middle panel), and Mg/H-Si/H (right panel). We display the surveys APOGEE-DR17 (top panels) and GALAH-DR3 (bottom panels). (*Fig6_MgH_AlphaFe_FeH*)\n",
       "\n",
       "</div>"
      ],
      "text/plain": [
       "<IPython.core.display.Markdown object>"
      ]
     },
     "metadata": {},
     "output_type": "display_data"
    }
   ],
   "source": [
    "[display(Markdown(k[1])) for k in documents];"
   ]
  },
  {
   "cell_type": "markdown",
   "id": "873873a4",
   "metadata": {
    "papermill": {
     "duration": 0.012252,
     "end_time": "2023-01-13T04:11:40.485082",
     "exception": false,
     "start_time": "2023-01-13T04:11:40.472830",
     "status": "completed"
    },
    "tags": []
   },
   "source": [
    "# Create HTML index"
   ]
  },
  {
   "cell_type": "code",
   "execution_count": 10,
   "id": "cf665672",
   "metadata": {
    "execution": {
     "iopub.execute_input": "2023-01-13T04:11:40.512231Z",
     "iopub.status.busy": "2023-01-13T04:11:40.511383Z",
     "iopub.status.idle": "2023-01-13T04:11:40.523027Z",
     "shell.execute_reply": "2023-01-13T04:11:40.522435Z"
    },
    "papermill": {
     "duration": 0.02711,
     "end_time": "2023-01-13T04:11:40.524600",
     "exception": false,
     "start_time": "2023-01-13T04:11:40.497490",
     "status": "completed"
    },
    "tags": []
   },
   "outputs": [
    {
     "name": "stdout",
     "output_type": "stream",
     "text": [
      "167  publications in the last 7 days.\n",
      "\t _build/html/2301.05034.md\n",
      "\t _build/html/2301.04656.md\n",
      "\t _build/html/2301.04533.md\n",
      "\t _build/html/2301.04442.md\n",
      "\t _build/html/2301.03811.md\n",
      "\t _build/html/2301.03689.md\n",
      "\t _build/html/2301.03387.md\n",
      "\t _build/html/2301.03209.md\n",
      "\t _build/html/2301.02671.md\n",
      "\t _build/html/2301.02477.md\n",
      "\t _build/html/2301.02313.md\n",
      "\t _build/html/2301.02265.md\n",
      "\t _build/html/2301.01937.md\n",
      "\t _build/html/2301.01895.md\n",
      "\t _build/html/2301.01684.md\n",
      "\t _build/html/2301.01306.md\n",
      "\t _build/html/2301.00881.md\n",
      "\t _build/html/2301.00854.md\n",
      "\t _build/html/2301.00578.md\n",
      "\t _build/html/2212.12039.md\n",
      "\t _build/html/2212.11991.md\n",
      "\t _build/html/2212.11425.md\n",
      "\t _build/html/2212.11177.md\n",
      "\t _build/html/2212.10804.md\n",
      "\t _build/html/2212.10512.md\n",
      "\t _build/html/2212.09766.md\n",
      "\t _build/html/2212.09675.md\n",
      "\t _build/html/2212.09661.md\n",
      "\t _build/html/2212.09652.md\n",
      "\t _build/html/2212.09443.md\n",
      "\t _build/html/2212.09307.md\n",
      "\t _build/html/2212.09168.md\n",
      "\t _build/html/2212.09159.md\n",
      "\t _build/html/2212.08702.md\n",
      "\t _build/html/2212.07332.md\n",
      "\t _build/html/2212.06434.md\n",
      "\t _build/html/2212.04710.md\n",
      "\t _build/html/2212.04026.md\n",
      "\t _build/html/2212.03563.md\n",
      "\t _build/html/2212.03514.md\n",
      "\t _build/html/2212.02667.md\n",
      "\t _build/html/2212.02627.md\n",
      "\t _build/html/2212.02235.md\n",
      "\t _build/html/2212.01707.md\n",
      "\t _build/html/2212.01526.md\n",
      "\t _build/html/2212.01397.md\n",
      "\t _build/html/2212.01291.md\n",
      "\t _build/html/2212.01281.md\n",
      "\t _build/html/2212.00812.md\n",
      "\t _build/html/2212.00811.md\n",
      "\t _build/html/2212.00806.md\n",
      "\t _build/html/2212.00047.md\n",
      "\t _build/html/2212.00032.md\n",
      "\t _build/html/2211.16996.md\n",
      "\t _build/html/2211.16510.md\n",
      "\t _build/html/2211.16123.md\n",
      "\t _build/html/2211.15816.md\n",
      "\t _build/html/2211.15698.md\n",
      "\t _build/html/2211.15576.md\n",
      "\t _build/html/2211.15434.md\n",
      "\t _build/html/2211.15288.md\n",
      "\t _build/html/2211.15224.md\n",
      "\t _build/html/2211.14543.md\n",
      "\t _build/html/2211.14330.md\n",
      "\t _build/html/2211.14322.md\n",
      "\t _build/html/2211.14132.md\n",
      "\t _build/html/2211.13811.md\n",
      "\t _build/html/2211.13426.md\n",
      "\t _build/html/2211.13318.md\n",
      "\t _build/html/2211.13146.md\n",
      "\t _build/html/2211.12613.md\n",
      "\t _build/html/2211.11767.md\n",
      "\t _build/html/2211.09840.md\n",
      "\t _build/html/2211.09217.md\n",
      "\t _build/html/2211.08493.md\n",
      "\t _build/html/2211.08487.md\n",
      "\t _build/html/2211.08294.md\n",
      "\t _build/html/2211.07667.md\n",
      "\t _build/html/2211.07659.md\n",
      "\t _build/html/2211.06454.md\n",
      "\t _build/html/2211.06205.md\n",
      "\t _build/html/2211.06194.md\n",
      "\t _build/html/2211.05022.md\n",
      "\t _build/html/2211.04048.md\n",
      "\t _build/html/2211.03641.md\n",
      "\t _build/html/2211.02502.md\n",
      "\t _build/html/2211.01474.md\n",
      "\t _build/html/2211.00667.md\n",
      "\t _build/html/2211.00657.md\n",
      "\t _build/html/2211.00087.md\n",
      "\t _build/html/2211.00036.md\n",
      "\t _build/html/2211.00020.md\n",
      "\t _build/html/2211.00010.md\n",
      "\t _build/html/2210.17434.md\n",
      "\t _build/html/2210.12412.md\n",
      "\t _build/html/2210.11926.md\n",
      "\t _build/html/2210.11551.md\n",
      "\t _build/html/2210.11103.md\n",
      "\t _build/html/2210.10707.md\n",
      "\t _build/html/2210.09930.md\n",
      "\t _build/html/2210.08996.md\n",
      "\t _build/html/2210.08517.md\n",
      "\t _build/html/2210.08510.md\n",
      "\t _build/html/2210.08078.md\n",
      "\t _build/html/2210.06504.md\n",
      "\t _build/html/2210.05695.md\n",
      "\t _build/html/2210.05595.md\n",
      "\t _build/html/2210.05505.md\n",
      "\t _build/html/2210.04721.md\n",
      "\t _build/html/2210.03615.md\n",
      "\t _build/html/2210.01811.md\n",
      "\t _build/html/2210.01809.md\n",
      "\t _build/html/2210.01556.md\n",
      "\t _build/html/2210.00863.md\n",
      "\t _build/html/2210.00560.md\n",
      "\t _build/html/2209.15403.md\n",
      "\t _build/html/2209.15110.md\n",
      "\t _build/html/2209.14410.md\n",
      "\t _build/html/2209.14396.md\n",
      "\t _build/html/2209.13717.md\n",
      "\t _build/html/2209.13336.md\n",
      "\t _build/html/2209.12906.md\n",
      "\t _build/html/2209.11781.md\n",
      "\t _build/html/2209.11602.md\n",
      "\t _build/html/2209.11248.md\n",
      "\t _build/html/2209.11096.md\n",
      "\t _build/html/2209.10618.md\n",
      "\t _build/html/2209.09914.md\n",
      "\t _build/html/2209.09823.md\n",
      "\t _build/html/2209.08242.md\n",
      "\t _build/html/2209.08120.md\n",
      "\t _build/html/2209.08106.md\n",
      "\t _build/html/2209.07962.md\n",
      "\t _build/html/2209.07931.md\n",
      "\t _build/html/2209.06833.md\n",
      "\t _build/html/2209.05814.md\n",
      "\t _build/html/2209.05593.md\n",
      "\t _build/html/2209.04304.md\n",
      "\t _build/html/2209.03367.md\n",
      "\t _build/html/2209.02872.md\n",
      "\t _build/html/2209.02725.md\n",
      "\t _build/html/2209.02722.md\n",
      "\t _build/html/2209.02092.md\n",
      "\t _build/html/2209.01125.md\n",
      "\t _build/html/2209.00828.md\n",
      "\t _build/html/2209.00363.md\n",
      "\t _build/html/2208.14927.md\n",
      "\t _build/html/2208.09335.md\n",
      "\t _build/html/2208.08872.md\n",
      "\t _build/html/2204.06393.md\n",
      "\t _build/html/2204.03335.md\n",
      "\t _build/html/2204.03253.md\n",
      "\t _build/html/2204.02998.md\n",
      "\t _build/html/2204.02109.md\n",
      "\t _build/html/2204.02017.md\n",
      "\t _build/html/2204.01824.md\n",
      "\t _build/html/2204.01758.md\n",
      "\t _build/html/2204.01245.md\n",
      "\t _build/html/2204.00793.md\n",
      "\t _build/html/2204.00342.md\n",
      "\t _build/html/2203.16959.md\n",
      "\t _build/html/2203.16856.md\n",
      "\t _build/html/2203.16735.md\n",
      "\t _build/html/2203.16734.md\n",
      "\t _build/html/2203.16504.md\n",
      "\t _build/html/2203.15822.md\n",
      "\t _build/html/2203.15811.md\n"
     ]
    }
   ],
   "source": [
    "from datetime import datetime, timedelta, timezone\n",
    "from glob import glob\n",
    "\n",
    "files = glob('_build/html/*.md')\n",
    "days = 7\n",
    "now = datetime.today()\n",
    "res = []\n",
    "for fk in files:\n",
    "    stat_result = os.stat(fk).st_ctime\n",
    "    modified = datetime.fromtimestamp(stat_result, tz=timezone.utc).replace(tzinfo=None)\n",
    "    delta = now.today() - modified\n",
    "    if delta <= timedelta(days=days):\n",
    "        res.append((delta.seconds, fk))\n",
    "res = [k[1] for k in reversed(sorted(res, key=lambda x:x[1]))]\n",
    "npub = len(res)\n",
    "print(len(res), f\" publications in the last {days:d} days.\")\n",
    "[ print('\\t', k) for k in res ];"
   ]
  },
  {
   "cell_type": "code",
   "execution_count": 11,
   "id": "015de740",
   "metadata": {
    "execution": {
     "iopub.execute_input": "2023-01-13T04:11:40.551445Z",
     "iopub.status.busy": "2023-01-13T04:11:40.551115Z",
     "iopub.status.idle": "2023-01-13T04:11:40.570201Z",
     "shell.execute_reply": "2023-01-13T04:11:40.569580Z"
    },
    "papermill": {
     "duration": 0.034754,
     "end_time": "2023-01-13T04:11:40.572012",
     "exception": false,
     "start_time": "2023-01-13T04:11:40.537258",
     "status": "completed"
    },
    "tags": []
   },
   "outputs": [
    {
     "name": "stdout",
     "output_type": "stream",
     "text": [
      "14  publications in the last 7 days.\n"
     ]
    }
   ],
   "source": [
    "import datetime\n",
    "from glob import glob\n",
    "\n",
    "def get_last_n_days(lst, days=1):\n",
    "    \"\"\" Get the documents from the last n days \"\"\"\n",
    "    sorted_lst = sorted(lst, key=lambda x: x[1], reverse=True)\n",
    "    for fname, date in sorted_lst:\n",
    "        if date >= str(datetime.date.today() - datetime.timedelta(days=days)):\n",
    "            yield fname\n",
    "\n",
    "def extract_appearance_dates(lst_file):\n",
    "    dates = []\n",
    "\n",
    "    def get_date(line):\n",
    "        return line\\\n",
    "            .split('Appeared on:')[-1]\\\n",
    "            .split('</mark>')[0].strip()\n",
    "\n",
    "    for fname in lst:\n",
    "        with open(fname, 'r') as f:\n",
    "            found_date = False\n",
    "            for line in f:\n",
    "                if not found_date:\n",
    "                    if \"Appeared on\" in line:\n",
    "                        found_date = True\n",
    "                        dates.append((fname, get_date(line)))\n",
    "                else:\n",
    "                    break\n",
    "    return dates\n",
    "\n",
    "from glob import glob\n",
    "lst = glob('_build/html/*md')\n",
    "days = 7\n",
    "dates = extract_appearance_dates(lst)\n",
    "res = list(get_last_n_days(dates, days))\n",
    "npub = len(res)\n",
    "print(len(res), f\" publications in the last {days:d} days.\")"
   ]
  },
  {
   "cell_type": "code",
   "execution_count": 12,
   "id": "52ca0208",
   "metadata": {
    "execution": {
     "iopub.execute_input": "2023-01-13T04:11:40.599170Z",
     "iopub.status.busy": "2023-01-13T04:11:40.598836Z",
     "iopub.status.idle": "2023-01-13T04:11:40.606551Z",
     "shell.execute_reply": "2023-01-13T04:11:40.605770Z"
    },
    "papermill": {
     "duration": 0.023643,
     "end_time": "2023-01-13T04:11:40.608485",
     "exception": false,
     "start_time": "2023-01-13T04:11:40.584842",
     "status": "completed"
    },
    "scrolled": false,
    "tags": []
   },
   "outputs": [],
   "source": [
    "def create_carousel(npub=4):\n",
    "    \"\"\" Generate the HTML code for a carousel with `npub` slides \"\"\"\n",
    "    carousel = [\"\"\"<section class=\"carousel\" aria-label=\"Gallery\">\"\"\",\n",
    "                \"\"\"  <ol class=\"carousel__viewport\">\"\"\",\n",
    "    ]\n",
    "    for k in range(1, npub + 1):\n",
    "        prev_ = k - 1\n",
    "        next_ = k + 1\n",
    "        if prev_ <= 0:\n",
    "            prev_ = npub\n",
    "        if next_ > npub:\n",
    "            next_ = 1\n",
    "        text  = f\"\"\"    <li id=\"carousel__slide{k}\" tabindex=\"0\" class=\"carousel__slide\">\\n\"\"\"\n",
    "        text += f\"\"\"       <div class=\"carousel__snapper\">\\n\"\"\"\n",
    "        text += f\"\"\"         <a href=\"#carousel__slide{prev_}\" class=\"carousel__prev\">Go to previous slide</a>\\n\"\"\"\n",
    "        text += f\"\"\"         <a href=\"#carousel__slide{next_}\" class=\"carousel__next\">Go to next slide</a>\\n\"\"\"\n",
    "        text += f\"\"\"         <div id=\"slide{k}_content\" class=\"md_view\" >Content {k}</div>\\n\"\"\"\n",
    "        text += f\"\"\"       </div>\\n\"\"\"\n",
    "        text += f\"\"\"    </li>\"\"\"\n",
    "        carousel.append(text)\n",
    "\n",
    "    carousel.extend([\n",
    "        \"\"\"  </ol>\"\"\",\n",
    "        \"\"\"  <aside class=\"carousel__navigation\">\"\"\",\n",
    "        \"\"\"    <ol class=\"carousel__navigation-list\">\"\"\"])\n",
    "\n",
    "    for k in range(1, npub + 1):\n",
    "        text  = f\"\"\"      <li class=\"carousel__navigation-item\">\\n\"\"\"\n",
    "        text += f\"\"\"        <a href=\"#carousel__slide{k}\" class=\"carousel__navigation-button\">Go to {k}</a>\\n\"\"\"\n",
    "        text += f\"\"\"      </li>\"\"\"\n",
    "        carousel.append(text)\n",
    "    carousel.extend([\"\"\"    </ol>\"\"\", \"\"\"  </aside>\"\"\", \"\"\"</section>\"\"\"])\n",
    "\n",
    "    return '\\n'.join(carousel)"
   ]
  },
  {
   "cell_type": "code",
   "execution_count": 13,
   "id": "a6eac5b6",
   "metadata": {
    "execution": {
     "iopub.execute_input": "2023-01-13T04:11:40.636701Z",
     "iopub.status.busy": "2023-01-13T04:11:40.635731Z",
     "iopub.status.idle": "2023-01-13T04:11:40.643971Z",
     "shell.execute_reply": "2023-01-13T04:11:40.643293Z"
    },
    "papermill": {
     "duration": 0.024269,
     "end_time": "2023-01-13T04:11:40.645881",
     "exception": false,
     "start_time": "2023-01-13T04:11:40.621612",
     "status": "completed"
    },
    "scrolled": false,
    "tags": []
   },
   "outputs": [],
   "source": [
    "carousel = create_carousel(npub)\n",
    "docs = ', '.join(['\"{0:s}\"'.format(k.split('/')[-1]) for k in res])\n",
    "slides = ', '.join([f'\"slide{k}_content\"' for k in range(1, npub + 1)])\n",
    "\n",
    "script = f\"\"\"\n",
    "const docs = [{docs}]\n",
    "\n",
    "const slides = [{slides}]\n",
    "\"\"\" + \"\"\"\n",
    "async function run() {\n",
    "    for (let i = 0; i < docs.length; i++) {\n",
    "        let file = await fetch(docs[i]);\n",
    "        let text = await file.text()\n",
    "        document.getElementById(slides[i]).innerHTML =\n",
    "            marked.parse(text);\n",
    "    }\n",
    "    hljs.highlightAll();\n",
    "}\n",
    "run()\n",
    "\"\"\"\n",
    "\n",
    "page = f\"\"\"<!doctype html>\n",
    "<html lang=\"en\">\n",
    "\n",
    "<head>\n",
    "  <meta charset=\"utf-8\">\n",
    "  <meta name=\"viewport\" content=\"width=device-width, initial-scale=1\">\n",
    "  <!-- Bootstrap CSS -->\n",
    "  <link href=\"https://cdn.jsdelivr.net/npm/bootstrap@5.0.2/dist/css/bootstrap.min.css\" rel=\"stylesheet\"\n",
    "   integrity=\"sha384-EVSTQN3/azprG1Anm3QDgpJLIm9Nao0Yz1ztcQTwFspd3yD65VohhpuuCOmLASjC\" crossorigin=\"anonymous\">\n",
    "  <!-- highlight.js CSS -->\n",
    "  <link rel=\"stylesheet\" href=\"https://cdnjs.cloudflare.com/ajax/libs/highlight.js/11.1.0/styles/default.min.css\">\n",
    "  <!-- Mathjax 3 -->\n",
    "  <script type=\"text/javascript\" id=\"MathJax-config\" src=\"mathjax_config.js\"> </script>\n",
    "  <script type=\"text/javascript\" id=\"MathJax-script\" async \n",
    "    src=\"https://cdn.jsdelivr.net/npm/mathjax@3/es5/tex-mml-chtml.js\">\n",
    "  </script>\n",
    "  <link rel=\"stylesheet\" href=\"index_carousel.css\">\n",
    "  <link rel=\"icon\" type=\"image/x-icon\" href=\"https://www.mpia.de/assets/touch-icon-32x32-a66937bcebc4e8894ebff1f41a366c7c7220fd97a38869ee0f2db65a9f59b6c1.png\">\n",
    "  <title>MPIA Arxiv on deck!</title>\n",
    "</head>\n",
    "\n",
    "<body>\n",
    "  <div id=\"header\"> <img src=\"header_banner.png\" width=\"100%\"></div>\n",
    "  <div id=\"suptitle\"> 7-day archives </div>\n",
    "  <div id=\"info\">\n",
    "    <img src=\"https://pngimg.com/uploads/github/github_PNG58.png\" height=30rem></img>\n",
    "    <a href=https://github.com/mpi-astronomy/arxiv_display style=\"color:black;\">github/mpi-astronomy/arxiv_display</a> \n",
    "  </div>\n",
    "  {carousel:s}\n",
    "</body>\n",
    "\n",
    "<!-- Render Markdown -->\n",
    "\n",
    "<body>\n",
    "  <!-- highlight.js: https://highlightjs.org/download/ -->\n",
    "  <script src=\"https://cdnjs.cloudflare.com/ajax/libs/highlight.js/11.5.0/highlight.min.js\"></script>\n",
    "  <!-- marked.js -->\n",
    "  <script src=\"https://cdn.jsdelivr.net/npm/marked/marked.min.js\"></script>\n",
    "  <script>{script:s}</script>\n",
    "</body>\n",
    "</html>\n",
    "\"\"\"\n",
    "with open(\"_build/html/index_7days.html\", 'w') as fout:\n",
    "    fout.write(page)"
   ]
  },
  {
   "cell_type": "markdown",
   "id": "1cebacbc",
   "metadata": {
    "papermill": {
     "duration": 0.012533,
     "end_time": "2023-01-13T04:11:40.671061",
     "exception": false,
     "start_time": "2023-01-13T04:11:40.658528",
     "status": "completed"
    },
    "tags": []
   },
   "source": [
    "# Debugging papers"
   ]
  },
  {
   "cell_type": "raw",
   "id": "debe7cc6",
   "metadata": {
    "papermill": {
     "duration": 0.016128,
     "end_time": "2023-01-13T04:11:40.699771",
     "exception": false,
     "start_time": "2023-01-13T04:11:40.683643",
     "status": "completed"
    },
    "tags": []
   },
   "source": [
    "raise NotImplementedError(\"Manual Stop\")"
   ]
  },
  {
   "cell_type": "raw",
   "id": "eb169192",
   "metadata": {
    "papermill": {
     "duration": 0.012697,
     "end_time": "2023-01-13T04:11:40.725137",
     "exception": false,
     "start_time": "2023-01-13T04:11:40.712440",
     "status": "completed"
    },
    "scrolled": true,
    "tags": []
   },
   "source": [
    "from IPython.display import display, Markdown\n",
    "from TexSoup import TexSoup\n",
    "import re\n",
    "\n",
    "def bracket_error(source: str):\n",
    "    \"\"\" Find problematic portions of the document \"\"\"\n",
    "    \n",
    "    print(\"len(source)\", len(source))\n",
    "    \n",
    "    # Checking header\n",
    "    begin_doc = next(re.finditer(r'\\\\begin\\{document\\}', doc.source)).span()[1]\n",
    "    header = source[:begin_doc]\n",
    "    text = header + r\"\\n\\end{document}\"\n",
    "\n",
    "    try:\n",
    "        # print(\"Header check... \", end='')\n",
    "        TexSoup(text)\n",
    "        display(Markdown(f\"**[OK]** - Header\"))\n",
    "    except:\n",
    "        raise RuntimeError(\"Error in the header\")\n",
    "        \n",
    "    # Check the text per section until the end.\n",
    "    # Do not stop and try them all.\n",
    "    \n",
    "    problematic_text = []\n",
    "    \n",
    "    sections = ([(0, begin_doc, 'until first section')] + \n",
    "                [(g.span()[0], g.span()[1], g.group()) for g in re.finditer(r'\\\\section\\{.*\\}', source)] +\n",
    "                [(g.span()[0], g.span()[1], g.group()) for g in re.finditer(r'\\\\begin\\{appendix\\}', source)]\n",
    "               )\n",
    "    sections.append([len(source), len(source), 'end'])\n",
    "    \n",
    "    sections = sorted(sections, key=lambda x: x[0])\n",
    "    \n",
    "    prev_pos, prev_name = (0, 'header')\n",
    "    parsed = []\n",
    "    \n",
    "    for span, span_end, name in sections:\n",
    "\n",
    "        if span - prev_pos <= 0:\n",
    "            continue\n",
    "            \n",
    "\n",
    "        text = source[prev_pos:span]\n",
    "        if prev_pos > begin_doc:\n",
    "            text = r\"\\n\\begin{document}\" + text + r\"\\n\\end{document}\"\n",
    "        else:\n",
    "            text = text + r\"\\n\\end{document}\"\n",
    "        try:\n",
    "            #print(f\"{prev_pos}:{prev_name}-->{span}:{name} check... \", end='')\n",
    "            parsed.append(TexSoup(text, tolerance=1))  # allow not ending env\n",
    "            display(Markdown(f\"**[OK]** - *{prev_pos}*:{prev_name} &rarr; *{span}*:{name}\"))\n",
    "            # print(\"ok\")\n",
    "\n",
    "            prev_pos = span\n",
    "            prev_name = name\n",
    "        except:\n",
    "            # print(f\"error between {prev_pos} and {span}\")\n",
    "            display(Markdown(f\"**[ERR]** *{prev_pos}*:{prev_name} &rarr; *{span}*:{name}\"))\n",
    "            problematic_text.append((prev_pos, source[prev_pos:span]))\n",
    "            prev_pos = span\n",
    "            prev_name = name\n",
    "            # raise\n",
    "    return problematic_text, parsed\n",
    "\n",
    "\n",
    "def check_environment(text, offset=0):\n",
    "    \"\"\" Check environment \"\"\"\n",
    "    env = re.compile(r\"\\\\begin\\{(?P<env>.*)\\}(.*)\\\\end\\{(?P=env)\\}\", re.DOTALL)\n",
    "\n",
    "    for match in env.finditer(text):\n",
    "        beg, end = match.span()\n",
    "        beg += offset\n",
    "        end += offset\n",
    "        envname = match.groups()[0]\n",
    "        try:\n",
    "            latex.TexSoup(match.group())\n",
    "        except Exception as e:\n",
    "            display(e)\n",
    "            print(f\"Error in {envname:s} between {beg} and {end}\")\n",
    "            return match.groups()[1], beg, end"
   ]
  },
  {
   "cell_type": "raw",
   "id": "2315e835",
   "metadata": {
    "papermill": {
     "duration": 0.01244,
     "end_time": "2023-01-13T04:11:40.750899",
     "exception": false,
     "start_time": "2023-01-13T04:11:40.738459",
     "status": "completed"
    },
    "scrolled": false,
    "tags": []
   },
   "source": [
    "import importlib\n",
    "importlib.reload(latex)\n",
    "which = \"2204.03253\"\n",
    "paper_id = f'{which:s}'\n",
    "folder = f'tmp_{paper_id:s}'\n",
    "\n",
    "if not os.path.isdir(folder):\n",
    "    folder = retrieve_document_source(f\"{paper_id}\", f'tmp_{paper_id}')\n",
    "\n",
    "try:\n",
    "    doc = latex.LatexDocument(folder, validation=validation)    \n",
    "except AffiliationError as affilerror:\n",
    "    msg = f\"ArXiv:{paper_id:s} is not an MPIA paper... \" + str(affilerror)\n",
    "    print(msg)\n",
    "\n",
    "\n",
    "# Hack because sometimes author parsing does not work well\n",
    "if (len(doc.authors) != len(paper['authors'])):\n",
    "    doc._authors = paper['authors']\n",
    "if (doc.abstract) in (None, ''):\n",
    "    doc._abstract = paper['abstract']\n",
    "\n",
    "doc.comment = get_markdown_badge(paper_id) + \" _\" + paper['comments'] + \"_\"\n",
    "doc.highlight_authors_in_list(hl_list)\n",
    "\n",
    "full_md = doc.generate_markdown_text()"
   ]
  },
  {
   "cell_type": "raw",
   "id": "dd3781db",
   "metadata": {
    "papermill": {
     "duration": 0.012672,
     "end_time": "2023-01-13T04:11:40.776048",
     "exception": false,
     "start_time": "2023-01-13T04:11:40.763376",
     "status": "completed"
    },
    "scrolled": false,
    "tags": []
   },
   "source": [
    "doc"
   ]
  },
  {
   "cell_type": "raw",
   "id": "c6eed834",
   "metadata": {
    "papermill": {
     "duration": 0.012519,
     "end_time": "2023-01-13T04:11:40.800946",
     "exception": false,
     "start_time": "2023-01-13T04:11:40.788427",
     "status": "completed"
    },
    "tags": []
   },
   "source": [
    "# [check_environment(k) for k in bracket_error(doc.source)]\n",
    "_, _, a = latex.get_content_per_section(doc.source, verbose=True)\n",
    "if not a:\n",
    "    print(\"no issues per section\")\n",
    "for ak in a:\n",
    "    r = check_environment(ak[1], offset=ak[0])\n",
    "    print(r[1], r[2])\n",
    "    print(r[0])"
   ]
  },
  {
   "cell_type": "code",
   "execution_count": null,
   "id": "71ce768a",
   "metadata": {
    "papermill": {
     "duration": 0.012451,
     "end_time": "2023-01-13T04:11:40.826148",
     "exception": false,
     "start_time": "2023-01-13T04:11:40.813697",
     "status": "completed"
    },
    "tags": []
   },
   "outputs": [],
   "source": []
  }
 ],
 "metadata": {
  "kernelspec": {
   "display_name": "Python 3",
   "language": "python",
   "name": "python3"
  },
  "language_info": {
   "codemirror_mode": {
    "name": "ipython",
    "version": 3
   },
   "file_extension": ".py",
   "mimetype": "text/x-python",
   "name": "python",
   "nbconvert_exporter": "python",
   "pygments_lexer": "ipython3",
   "version": "3.9.16"
  },
  "papermill": {
   "default_parameters": {},
   "duration": 228.14107,
   "end_time": "2023-01-13T04:11:41.158852",
   "environment_variables": {},
   "exception": null,
   "input_path": "MPIA daily digest.ipynb",
   "output_path": "log.ipynb",
   "parameters": {},
   "start_time": "2023-01-13T04:07:53.017782",
   "version": "2.4.0"
  },
  "vscode": {
   "interpreter": {
    "hash": "aee8b7b246df8f9039afb4144a1f6fd8d2ca17a180786b69acc140d282b71a49"
   }
  },
  "widgets": {
   "application/vnd.jupyter.widget-state+json": {
    "state": {
     "0542610beb9f4203aa4e0b3816c91f96": {
      "model_module": "@jupyter-widgets/controls",
      "model_module_version": "2.0.0",
      "model_name": "ProgressStyleModel",
      "state": {
       "_model_module": "@jupyter-widgets/controls",
       "_model_module_version": "2.0.0",
       "_model_name": "ProgressStyleModel",
       "_view_count": null,
       "_view_module": "@jupyter-widgets/base",
       "_view_module_version": "2.0.0",
       "_view_name": "StyleView",
       "bar_color": null,
       "description_width": ""
      }
     },
     "16ec94999fee42b6b052866393f93b2e": {
      "model_module": "@jupyter-widgets/controls",
      "model_module_version": "2.0.0",
      "model_name": "HTMLStyleModel",
      "state": {
       "_model_module": "@jupyter-widgets/controls",
       "_model_module_version": "2.0.0",
       "_model_name": "HTMLStyleModel",
       "_view_count": null,
       "_view_module": "@jupyter-widgets/base",
       "_view_module_version": "2.0.0",
       "_view_name": "StyleView",
       "background": null,
       "description_width": "",
       "font_size": null,
       "text_color": null
      }
     },
     "1db4b8f3c260426fbd0c59fea1609ef0": {
      "model_module": "@jupyter-widgets/base",
      "model_module_version": "2.0.0",
      "model_name": "LayoutModel",
      "state": {
       "_model_module": "@jupyter-widgets/base",
       "_model_module_version": "2.0.0",
       "_model_name": "LayoutModel",
       "_view_count": null,
       "_view_module": "@jupyter-widgets/base",
       "_view_module_version": "2.0.0",
       "_view_name": "LayoutView",
       "align_content": null,
       "align_items": null,
       "align_self": null,
       "border_bottom": null,
       "border_left": null,
       "border_right": null,
       "border_top": null,
       "bottom": null,
       "display": null,
       "flex": null,
       "flex_flow": null,
       "grid_area": null,
       "grid_auto_columns": null,
       "grid_auto_flow": null,
       "grid_auto_rows": null,
       "grid_column": null,
       "grid_gap": null,
       "grid_row": null,
       "grid_template_areas": null,
       "grid_template_columns": null,
       "grid_template_rows": null,
       "height": null,
       "justify_content": null,
       "justify_items": null,
       "left": null,
       "margin": null,
       "max_height": null,
       "max_width": null,
       "min_height": null,
       "min_width": null,
       "object_fit": null,
       "object_position": null,
       "order": null,
       "overflow": null,
       "padding": null,
       "right": null,
       "top": null,
       "visibility": null,
       "width": null
      }
     },
     "3e589a6ad7dc4d4ba7b0cdfcb94a391f": {
      "model_module": "@jupyter-widgets/controls",
      "model_module_version": "2.0.0",
      "model_name": "FloatProgressModel",
      "state": {
       "_dom_classes": [],
       "_model_module": "@jupyter-widgets/controls",
       "_model_module_version": "2.0.0",
       "_model_name": "FloatProgressModel",
       "_view_count": null,
       "_view_module": "@jupyter-widgets/controls",
       "_view_module_version": "2.0.0",
       "_view_name": "ProgressView",
       "bar_style": "success",
       "description": "",
       "description_allow_html": false,
       "layout": "IPY_MODEL_d86707d50c784c6eb4f35f43e85fe1d6",
       "max": 25.0,
       "min": 0.0,
       "orientation": "horizontal",
       "style": "IPY_MODEL_0542610beb9f4203aa4e0b3816c91f96",
       "tabbable": null,
       "tooltip": null,
       "value": 25.0
      }
     },
     "4c8e56c0795b4b8ab84db799f4ce7255": {
      "model_module": "@jupyter-widgets/controls",
      "model_module_version": "2.0.0",
      "model_name": "HTMLModel",
      "state": {
       "_dom_classes": [],
       "_model_module": "@jupyter-widgets/controls",
       "_model_module_version": "2.0.0",
       "_model_name": "HTMLModel",
       "_view_count": null,
       "_view_module": "@jupyter-widgets/controls",
       "_view_module_version": "2.0.0",
       "_view_name": "HTMLView",
       "description": "",
       "description_allow_html": false,
       "layout": "IPY_MODEL_79a768da7d7441c5972f178cb4f965be",
       "placeholder": "​",
       "style": "IPY_MODEL_adf946a7ef564719bb11b989101d643b",
       "tabbable": null,
       "tooltip": null,
       "value": "100%"
      }
     },
     "79a768da7d7441c5972f178cb4f965be": {
      "model_module": "@jupyter-widgets/base",
      "model_module_version": "2.0.0",
      "model_name": "LayoutModel",
      "state": {
       "_model_module": "@jupyter-widgets/base",
       "_model_module_version": "2.0.0",
       "_model_name": "LayoutModel",
       "_view_count": null,
       "_view_module": "@jupyter-widgets/base",
       "_view_module_version": "2.0.0",
       "_view_name": "LayoutView",
       "align_content": null,
       "align_items": null,
       "align_self": null,
       "border_bottom": null,
       "border_left": null,
       "border_right": null,
       "border_top": null,
       "bottom": null,
       "display": null,
       "flex": null,
       "flex_flow": null,
       "grid_area": null,
       "grid_auto_columns": null,
       "grid_auto_flow": null,
       "grid_auto_rows": null,
       "grid_column": null,
       "grid_gap": null,
       "grid_row": null,
       "grid_template_areas": null,
       "grid_template_columns": null,
       "grid_template_rows": null,
       "height": null,
       "justify_content": null,
       "justify_items": null,
       "left": null,
       "margin": null,
       "max_height": null,
       "max_width": null,
       "min_height": null,
       "min_width": null,
       "object_fit": null,
       "object_position": null,
       "order": null,
       "overflow": null,
       "padding": null,
       "right": null,
       "top": null,
       "visibility": null,
       "width": null
      }
     },
     "8c644852d1b5464db71c815e9935c9e4": {
      "model_module": "@jupyter-widgets/controls",
      "model_module_version": "2.0.0",
      "model_name": "HTMLModel",
      "state": {
       "_dom_classes": [],
       "_model_module": "@jupyter-widgets/controls",
       "_model_module_version": "2.0.0",
       "_model_name": "HTMLModel",
       "_view_count": null,
       "_view_module": "@jupyter-widgets/controls",
       "_view_module_version": "2.0.0",
       "_view_name": "HTMLView",
       "description": "",
       "description_allow_html": false,
       "layout": "IPY_MODEL_d21bf993d4e0457a9f8046af0ca189f0",
       "placeholder": "​",
       "style": "IPY_MODEL_16ec94999fee42b6b052866393f93b2e",
       "tabbable": null,
       "tooltip": null,
       "value": " 25/25 [03:19&lt;00:00,  9.49s/it]"
      }
     },
     "adf946a7ef564719bb11b989101d643b": {
      "model_module": "@jupyter-widgets/controls",
      "model_module_version": "2.0.0",
      "model_name": "HTMLStyleModel",
      "state": {
       "_model_module": "@jupyter-widgets/controls",
       "_model_module_version": "2.0.0",
       "_model_name": "HTMLStyleModel",
       "_view_count": null,
       "_view_module": "@jupyter-widgets/base",
       "_view_module_version": "2.0.0",
       "_view_name": "StyleView",
       "background": null,
       "description_width": "",
       "font_size": null,
       "text_color": null
      }
     },
     "d21bf993d4e0457a9f8046af0ca189f0": {
      "model_module": "@jupyter-widgets/base",
      "model_module_version": "2.0.0",
      "model_name": "LayoutModel",
      "state": {
       "_model_module": "@jupyter-widgets/base",
       "_model_module_version": "2.0.0",
       "_model_name": "LayoutModel",
       "_view_count": null,
       "_view_module": "@jupyter-widgets/base",
       "_view_module_version": "2.0.0",
       "_view_name": "LayoutView",
       "align_content": null,
       "align_items": null,
       "align_self": null,
       "border_bottom": null,
       "border_left": null,
       "border_right": null,
       "border_top": null,
       "bottom": null,
       "display": null,
       "flex": null,
       "flex_flow": null,
       "grid_area": null,
       "grid_auto_columns": null,
       "grid_auto_flow": null,
       "grid_auto_rows": null,
       "grid_column": null,
       "grid_gap": null,
       "grid_row": null,
       "grid_template_areas": null,
       "grid_template_columns": null,
       "grid_template_rows": null,
       "height": null,
       "justify_content": null,
       "justify_items": null,
       "left": null,
       "margin": null,
       "max_height": null,
       "max_width": null,
       "min_height": null,
       "min_width": null,
       "object_fit": null,
       "object_position": null,
       "order": null,
       "overflow": null,
       "padding": null,
       "right": null,
       "top": null,
       "visibility": null,
       "width": null
      }
     },
     "d86707d50c784c6eb4f35f43e85fe1d6": {
      "model_module": "@jupyter-widgets/base",
      "model_module_version": "2.0.0",
      "model_name": "LayoutModel",
      "state": {
       "_model_module": "@jupyter-widgets/base",
       "_model_module_version": "2.0.0",
       "_model_name": "LayoutModel",
       "_view_count": null,
       "_view_module": "@jupyter-widgets/base",
       "_view_module_version": "2.0.0",
       "_view_name": "LayoutView",
       "align_content": null,
       "align_items": null,
       "align_self": null,
       "border_bottom": null,
       "border_left": null,
       "border_right": null,
       "border_top": null,
       "bottom": null,
       "display": null,
       "flex": null,
       "flex_flow": null,
       "grid_area": null,
       "grid_auto_columns": null,
       "grid_auto_flow": null,
       "grid_auto_rows": null,
       "grid_column": null,
       "grid_gap": null,
       "grid_row": null,
       "grid_template_areas": null,
       "grid_template_columns": null,
       "grid_template_rows": null,
       "height": null,
       "justify_content": null,
       "justify_items": null,
       "left": null,
       "margin": null,
       "max_height": null,
       "max_width": null,
       "min_height": null,
       "min_width": null,
       "object_fit": null,
       "object_position": null,
       "order": null,
       "overflow": null,
       "padding": null,
       "right": null,
       "top": null,
       "visibility": null,
       "width": null
      }
     },
     "e68b03ecebce4eeca5516fa441198a52": {
      "model_module": "@jupyter-widgets/controls",
      "model_module_version": "2.0.0",
      "model_name": "HBoxModel",
      "state": {
       "_dom_classes": [],
       "_model_module": "@jupyter-widgets/controls",
       "_model_module_version": "2.0.0",
       "_model_name": "HBoxModel",
       "_view_count": null,
       "_view_module": "@jupyter-widgets/controls",
       "_view_module_version": "2.0.0",
       "_view_name": "HBoxView",
       "box_style": "",
       "children": [
        "IPY_MODEL_4c8e56c0795b4b8ab84db799f4ce7255",
        "IPY_MODEL_3e589a6ad7dc4d4ba7b0cdfcb94a391f",
        "IPY_MODEL_8c644852d1b5464db71c815e9935c9e4"
       ],
       "layout": "IPY_MODEL_1db4b8f3c260426fbd0c59fea1609ef0",
       "tabbable": null,
       "tooltip": null
      }
     }
    },
    "version_major": 2,
    "version_minor": 0
   }
  }
 },
 "nbformat": 4,
 "nbformat_minor": 5
}