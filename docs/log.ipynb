{
 "cells": [
  {
   "cell_type": "markdown",
   "id": "92bcb855",
   "metadata": {
    "papermill": {
     "duration": 0.0065,
     "end_time": "2022-09-02T07:34:28.929100",
     "exception": false,
     "start_time": "2022-09-02T07:34:28.922600",
     "status": "completed"
    },
    "tags": []
   },
   "source": [
    "# MPIA Arxiv on Deck 2\n",
    "\n",
    "Contains the steps to produce the paper extractions."
   ]
  },
  {
   "cell_type": "code",
   "execution_count": 1,
   "id": "3a0d6e11",
   "metadata": {
    "execution": {
     "iopub.execute_input": "2022-09-02T07:34:28.942056Z",
     "iopub.status.busy": "2022-09-02T07:34:28.940909Z",
     "iopub.status.idle": "2022-09-02T07:34:29.169053Z",
     "shell.execute_reply": "2022-09-02T07:34:29.167983Z"
    },
    "papermill": {
     "duration": 0.237145,
     "end_time": "2022-09-02T07:34:29.171642",
     "exception": false,
     "start_time": "2022-09-02T07:34:28.934497",
     "status": "completed"
    },
    "tags": []
   },
   "outputs": [],
   "source": [
    "# Imports\n",
    "import os\n",
    "from IPython.display import Markdown, display\n",
    "from tqdm.notebook import tqdm\n",
    "import warnings\n",
    "from PIL import Image \n",
    "\n",
    "# requires arxiv_on_deck_2\n",
    "\n",
    "from arxiv_on_deck_2.arxiv2 import (get_new_papers, \n",
    "                                    get_paper_from_identifier,\n",
    "                                    retrieve_document_source, \n",
    "                                    get_markdown_badge)\n",
    "from arxiv_on_deck_2 import (latex, \n",
    "                             mpia,\n",
    "                             highlight_authors_in_list)\n",
    "\n",
    "# Sometimes images are really big\n",
    "Image.MAX_IMAGE_PIXELS = 1000000000 "
   ]
  },
  {
   "cell_type": "code",
   "execution_count": 2,
   "id": "22aa9d44",
   "metadata": {
    "execution": {
     "iopub.execute_input": "2022-09-02T07:34:29.183772Z",
     "iopub.status.busy": "2022-09-02T07:34:29.183488Z",
     "iopub.status.idle": "2022-09-02T07:34:29.189483Z",
     "shell.execute_reply": "2022-09-02T07:34:29.188736Z"
    },
    "papermill": {
     "duration": 0.014424,
     "end_time": "2022-09-02T07:34:29.191465",
     "exception": false,
     "start_time": "2022-09-02T07:34:29.177041",
     "status": "completed"
    },
    "tags": []
   },
   "outputs": [],
   "source": [
    "# Some useful definitions.\n",
    "\n",
    "class AffiliationWarning(UserWarning):\n",
    "    pass\n",
    "\n",
    "class AffiliationError(RuntimeError):\n",
    "    pass\n",
    "\n",
    "def validation(source: str):\n",
    "    \"\"\"Raises error paper during parsing of source file\n",
    "    \n",
    "    Allows checks before parsing TeX code.\n",
    "    \n",
    "    Raises AffiliationWarning\n",
    "    \"\"\"\n",
    "    check = mpia.affiliation_verifications(source, verbose=True)\n",
    "    if check is not True:\n",
    "        raise AffiliationError(\"mpia.affiliation_verifications: \" + check)\n",
    "\n",
    "        \n",
    "warnings.simplefilter('always', AffiliationWarning)"
   ]
  },
  {
   "cell_type": "code",
   "execution_count": 3,
   "id": "14622700",
   "metadata": {
    "execution": {
     "iopub.execute_input": "2022-09-02T07:34:29.202790Z",
     "iopub.status.busy": "2022-09-02T07:34:29.202493Z",
     "iopub.status.idle": "2022-09-02T07:34:29.207736Z",
     "shell.execute_reply": "2022-09-02T07:34:29.206830Z"
    },
    "papermill": {
     "duration": 0.014195,
     "end_time": "2022-09-02T07:34:29.210629",
     "exception": false,
     "start_time": "2022-09-02T07:34:29.196434",
     "status": "completed"
    },
    "tags": []
   },
   "outputs": [],
   "source": [
    "# additional CSS to consider. \n",
    "# TODO: Current into each exported file. \n",
    "#       This should be set once into the webpages directly.\n",
    "#       With only the class/id definitions in the .md files.\n",
    "\n",
    "debug_html = \"\"\"\n",
    "<style>\n",
    "#wrap{ overflow:auto; }\n",
    "#fig1{ background:yellow; width:100%; float:left; padding:5px;  }\n",
    "#fig2{ background:red; width:50%; float:left; clear:left; padding:5px;  }\n",
    "#fig3{ background:green; width:50%; float:left; padding:5px;   }\n",
    ".macros{ background:yellow; visibility:visible;}\n",
    "h1 {margin: 0 0 0 0;}\n",
    "mark {background-color:#fff3b6;}\n",
    "img {object-fit:contain; max-height:250px; display:inline-block; text-align: center;}\n",
    "</style>\n",
    "\"\"\" \n",
    "html = \"\"\"\n",
    "<style>\n",
    "#wrap{ overflow:auto; }\n",
    "#fig1{ width:100%; float:left; padding: 5px;  }\n",
    "#fig2{ width:50%; float:left; clear:left; padding: 5px;  }\n",
    "#fig3{ width:50%; float:left; padding: 5px;  }\n",
    ".macros{ visibility:hidden; height:0px; }\n",
    "h1 {margin: 0em 0 0 0;}\n",
    "mark {background-color:#fff3b6;}\n",
    "img {object-fit:contain; max-height:250px; display:inline-block; text-align: center;}\n",
    "</style>\n",
    "\"\"\""
   ]
  },
  {
   "cell_type": "markdown",
   "id": "14bd6310",
   "metadata": {
    "papermill": {
     "duration": 0.004727,
     "end_time": "2022-09-02T07:34:29.220955",
     "exception": false,
     "start_time": "2022-09-02T07:34:29.216228",
     "status": "completed"
    },
    "tags": []
   },
   "source": [
    "## get list of arxiv paper candidates\n",
    "\n",
    "We use the MPIA mitarbeiter list webpage from mpia.de to get author names\n",
    "We then get all new papers from Arxiv and match authors"
   ]
  },
  {
   "cell_type": "code",
   "execution_count": 4,
   "id": "2645e73a",
   "metadata": {
    "execution": {
     "iopub.execute_input": "2022-09-02T07:34:29.235042Z",
     "iopub.status.busy": "2022-09-02T07:34:29.234481Z",
     "iopub.status.idle": "2022-09-02T07:34:57.559031Z",
     "shell.execute_reply": "2022-09-02T07:34:57.558092Z"
    },
    "papermill": {
     "duration": 28.334332,
     "end_time": "2022-09-02T07:34:57.561923",
     "exception": false,
     "start_time": "2022-09-02T07:34:29.227591",
     "status": "completed"
    },
    "tags": []
   },
   "outputs": [
    {
     "name": "stdout",
     "output_type": "stream",
     "text": [
      "Arxiv has 50 new papers today\n",
      "          20 with possible author matches\n"
     ]
    }
   ],
   "source": [
    "# get list from MPIA website\n",
    "# it automatically filters identified non-scientists :func:`mpia.filter_non_scientists`\n",
    "mpia_authors = mpia.get_mpia_mitarbeiter_list()\n",
    "new_papers = get_new_papers()\n",
    "# add manual references\n",
    "add_paper_refs = []\n",
    "new_papers.extend([get_paper_from_identifier(k) for k in add_paper_refs])\n",
    "\n",
    "# select only papers with matching author names and highlight authors\n",
    "hl_list = [k[0] for k in mpia_authors]\n",
    "\n",
    "candidates = []\n",
    "for paperk in new_papers:\n",
    "    hl_authors = highlight_authors_in_list(paperk['authors'], hl_list)\n",
    "    matches = [(hl, orig) for hl, orig in zip(hl_authors, paperk['authors']) if 'mark' in hl]\n",
    "    paperk['authors'] = hl_authors\n",
    "    if matches:\n",
    "        candidates.append(paperk)\n",
    "print(\"\"\"Arxiv has {0:,d} new papers today\"\"\".format(len(new_papers)))        \n",
    "print(\"\"\"          {0:,d} with possible author matches\"\"\".format(len(candidates)))"
   ]
  },
  {
   "cell_type": "markdown",
   "id": "3543b34a",
   "metadata": {
    "papermill": {
     "duration": 0.005355,
     "end_time": "2022-09-02T07:34:57.572664",
     "exception": false,
     "start_time": "2022-09-02T07:34:57.567309",
     "status": "completed"
    },
    "tags": []
   },
   "source": [
    "# Parse sources and generate relevant outputs\n",
    "\n",
    "From the candidates, we do the following steps:\n",
    "* get their tarball from ArXiv (and extract data)\n",
    "* find the main .tex file: find one with \\documentclass{...} (sometimes it's non trivial)\n",
    "* Check affiliations with :func:`validation`, which uses :func:`mpia.affiliation_verifications`\n",
    "* If passing the affiliations: we parse the .tex source\n",
    "   * inject sub-documents into the main (flatten the main document)\n",
    "   * parse structure, extract information (title, abstract, authors, figures...)\n",
    "   * handles `\\graphicspath` if provided\n",
    "* Generate the .md document."
   ]
  },
  {
   "cell_type": "code",
   "execution_count": 5,
   "id": "9576b79e",
   "metadata": {
    "execution": {
     "iopub.execute_input": "2022-09-02T07:34:57.587154Z",
     "iopub.status.busy": "2022-09-02T07:34:57.586804Z",
     "iopub.status.idle": "2022-09-02T07:39:25.979456Z",
     "shell.execute_reply": "2022-09-02T07:39:25.978433Z"
    },
    "papermill": {
     "duration": 268.414788,
     "end_time": "2022-09-02T07:39:25.992473",
     "exception": false,
     "start_time": "2022-09-02T07:34:57.577685",
     "status": "completed"
    },
    "scrolled": false,
    "tags": []
   },
   "outputs": [
    {
     "data": {
      "application/json": {
       "ascii": false,
       "bar_format": null,
       "colour": null,
       "elapsed": 0.029151201248168945,
       "initial": 0,
       "n": 0,
       "ncols": null,
       "nrows": null,
       "postfix": null,
       "prefix": "",
       "rate": null,
       "total": 19,
       "unit": "it",
       "unit_divisor": 1000,
       "unit_scale": false
      },
      "application/vnd.jupyter.widget-view+json": {
       "model_id": "502d5965359a4b0996bc99d52f166ab6",
       "version_major": 2,
       "version_minor": 0
      },
      "text/plain": [
       "  0%|          | 0/19 [00:00<?, ?it/s]"
      ]
     },
     "metadata": {},
     "output_type": "display_data"
    },
    {
     "name": "stdout",
     "output_type": "stream",
     "text": [
      "Retrieving document from  https://arxiv.org/e-print/2209.00006\n"
     ]
    },
    {
     "name": "stdout",
     "output_type": "stream",
     "text": [
      "extracting tarball to tmp_2209.00006..."
     ]
    },
    {
     "name": "stdout",
     "output_type": "stream",
     "text": [
      " done.\n",
      "Retrieving document from  https://arxiv.org/e-print/2209.00009\n"
     ]
    },
    {
     "name": "stdout",
     "output_type": "stream",
     "text": [
      "extracting tarball to tmp_2209.00009..."
     ]
    },
    {
     "name": "stdout",
     "output_type": "stream",
     "text": [
      " done.\n",
      "Retrieving document from  https://arxiv.org/e-print/2209.00014\n"
     ]
    },
    {
     "name": "stdout",
     "output_type": "stream",
     "text": [
      "extracting tarball to tmp_2209.00014..."
     ]
    },
    {
     "name": "stdout",
     "output_type": "stream",
     "text": [
      " done.\n",
      "Retrieving document from  https://arxiv.org/e-print/2209.00018\n"
     ]
    },
    {
     "name": "stdout",
     "output_type": "stream",
     "text": [
      "extracting tarball to tmp_2209.00018..."
     ]
    },
    {
     "name": "stdout",
     "output_type": "stream",
     "text": [
      " done.\n",
      "Retrieving document from  https://arxiv.org/e-print/2209.00028\n"
     ]
    },
    {
     "name": "stderr",
     "output_type": "stream",
     "text": [
      "/opt/hostedtoolcache/Python/3.9.13/x64/lib/python3.9/site-packages/IPython/core/interactiveshell.py:3398: LatexWarning: Multiple tex files.\n",
      "\n",
      "  exec(code_obj, self.user_global_ns, self.user_ns)\n",
      "/opt/hostedtoolcache/Python/3.9.13/x64/lib/python3.9/site-packages/IPython/core/interactiveshell.py:3398: LatexWarning: Found documentclass in tmp_2209.00018/main.tex\n",
      "\n",
      "  exec(code_obj, self.user_global_ns, self.user_ns)\n",
      "/opt/hostedtoolcache/Python/3.9.13/x64/lib/python3.9/site-packages/arxiv_on_deck_2/latex.py:292: LatexWarning: Latex injecting: './Tables/Ext_Data_Photometry.tex' from 'tmp_2209.00018/Tables/Ext_Data_Photometry.tex'\n",
      "  warnings.warn(LatexWarning(f\"Latex injecting: '{ext}' from '{subsource}'\"))\n",
      "/opt/hostedtoolcache/Python/3.9.13/x64/lib/python3.9/site-packages/arxiv_on_deck_2/latex.py:292: LatexWarning: Latex injecting: './Tables/SpecFollow.tex' from 'tmp_2209.00018/Tables/SpecFollow.tex'\n",
      "  warnings.warn(LatexWarning(f\"Latex injecting: '{ext}' from '{subsource}'\"))\n",
      "/opt/hostedtoolcache/Python/3.9.13/x64/lib/python3.9/site-packages/arxiv_on_deck_2/latex.py:292: LatexWarning: Latex injecting: './Tables/Ha_evolution.tex' from 'tmp_2209.00018/Tables/Ha_evolution.tex'\n",
      "  warnings.warn(LatexWarning(f\"Latex injecting: '{ext}' from '{subsource}'\"))\n",
      "/opt/hostedtoolcache/Python/3.9.13/x64/lib/python3.9/site-packages/arxiv_on_deck_2/latex.py:292: LatexWarning: Latex injecting: './Figures/Extended_Figures_and_Caption' from 'tmp_2209.00018/Figures/Extended_Figures_and_Caption.tex'\n",
      "  warnings.warn(LatexWarning(f\"Latex injecting: '{ext}' from '{subsource}'\"))\n",
      "/opt/hostedtoolcache/Python/3.9.13/x64/lib/python3.9/site-packages/arxiv_on_deck_2/latex.py:292: LatexWarning: Latex injecting: './Figures/Main_Figures_and_Captions' from 'tmp_2209.00018/Figures/Main_Figures_and_Captions.tex'\n",
      "  warnings.warn(LatexWarning(f\"Latex injecting: '{ext}' from '{subsource}'\"))\n"
     ]
    },
    {
     "name": "stdout",
     "output_type": "stream",
     "text": [
      "extracting tarball to tmp_2209.00028..."
     ]
    },
    {
     "name": "stderr",
     "output_type": "stream",
     "text": [
      "/tmp/ipykernel_2241/4030337529.py:34: LatexWarning: 2209.00028 did not run properly\n",
      "unexpected end of data\n",
      "  warnings.warn(latex.LatexWarning(f\"{paper_id:s} did not run properly\\n\" +\n"
     ]
    },
    {
     "name": "stdout",
     "output_type": "stream",
     "text": [
      "Retrieving document from  https://arxiv.org/e-print/2209.00040\n"
     ]
    },
    {
     "name": "stdout",
     "output_type": "stream",
     "text": [
      "extracting tarball to tmp_2209.00040..."
     ]
    },
    {
     "name": "stdout",
     "output_type": "stream",
     "text": [
      " done.\n",
      "Retrieving document from  https://arxiv.org/e-print/2209.00045\n"
     ]
    },
    {
     "name": "stderr",
     "output_type": "stream",
     "text": [
      "/opt/hostedtoolcache/Python/3.9.13/x64/lib/python3.9/site-packages/IPython/core/interactiveshell.py:3398: LatexWarning: Multiple tex files.\n",
      "\n",
      "  exec(code_obj, self.user_global_ns, self.user_ns)\n",
      "/opt/hostedtoolcache/Python/3.9.13/x64/lib/python3.9/site-packages/IPython/core/interactiveshell.py:3398: LatexWarning: Found documentclass in tmp_2209.00040/ms_arxiv.tex\n",
      "\n",
      "  exec(code_obj, self.user_global_ns, self.user_ns)\n",
      "/opt/hostedtoolcache/Python/3.9.13/x64/lib/python3.9/site-packages/arxiv_on_deck_2/latex.py:292: LatexWarning: Latex injecting: 'ms_arxiv.bbl' from 'tmp_2209.00040/ms_arxiv.tex'\n",
      "  warnings.warn(LatexWarning(f\"Latex injecting: '{ext}' from '{subsource}'\"))\n",
      "/opt/hostedtoolcache/Python/3.9.13/x64/lib/python3.9/site-packages/arxiv_on_deck_2/latex.py:292: LatexWarning: Latex injecting: 'journaldefs' from 'tmp_2209.00040/journaldefs.tex'\n",
      "  warnings.warn(LatexWarning(f\"Latex injecting: '{ext}' from '{subsource}'\"))\n"
     ]
    },
    {
     "name": "stdout",
     "output_type": "stream",
     "text": [
      "extracting tarball to tmp_2209.00045..."
     ]
    },
    {
     "name": "stdout",
     "output_type": "stream",
     "text": [
      " done.\n",
      "Retrieving document from  https://arxiv.org/e-print/2209.00112\n"
     ]
    },
    {
     "name": "stderr",
     "output_type": "stream",
     "text": [
      "/opt/hostedtoolcache/Python/3.9.13/x64/lib/python3.9/site-packages/IPython/core/interactiveshell.py:3398: LatexWarning: Multiple tex files.\n",
      "\n",
      "  exec(code_obj, self.user_global_ns, self.user_ns)\n",
      "/opt/hostedtoolcache/Python/3.9.13/x64/lib/python3.9/site-packages/IPython/core/interactiveshell.py:3398: LatexWarning: Found documentclass in tmp_2209.00045/IronSpreadGC2.tex\n",
      "\n",
      "  exec(code_obj, self.user_global_ns, self.user_ns)\n",
      "/opt/hostedtoolcache/Python/3.9.13/x64/lib/python3.9/site-packages/arxiv_on_deck_2/latex.py:292: LatexWarning: Latex injecting: 'tables/LatexTable1.tex' from 'tmp_2209.00045/tables/LatexTable1.tex'\n",
      "  warnings.warn(LatexWarning(f\"Latex injecting: '{ext}' from '{subsource}'\"))\n"
     ]
    },
    {
     "name": "stdout",
     "output_type": "stream",
     "text": [
      "extracting tarball to tmp_2209.00112..."
     ]
    },
    {
     "name": "stdout",
     "output_type": "stream",
     "text": [
      " done.\n"
     ]
    },
    {
     "name": "stderr",
     "output_type": "stream",
     "text": [
      "/tmp/ipykernel_2241/4030337529.py:34: LatexWarning: 2209.00112 did not run properly\n",
      "[Errno 2] No such file or directory: 'gs'\n",
      "  warnings.warn(latex.LatexWarning(f\"{paper_id:s} did not run properly\\n\" +\n"
     ]
    },
    {
     "name": "stdout",
     "output_type": "stream",
     "text": [
      "Retrieving document from  https://arxiv.org/e-print/2209.00194\n"
     ]
    },
    {
     "name": "stdout",
     "output_type": "stream",
     "text": [
      "extracting tarball to tmp_2209.00194..."
     ]
    },
    {
     "name": "stdout",
     "output_type": "stream",
     "text": [
      " done.\n",
      "Retrieving document from  https://arxiv.org/e-print/2209.00282\n"
     ]
    },
    {
     "name": "stdout",
     "output_type": "stream",
     "text": [
      "extracting tarball to tmp_2209.00282..."
     ]
    },
    {
     "name": "stdout",
     "output_type": "stream",
     "text": [
      " done.\n",
      "Retrieving document from  https://arxiv.org/e-print/2209.00363\n"
     ]
    },
    {
     "name": "stdout",
     "output_type": "stream",
     "text": [
      "extracting tarball to tmp_2209.00363..."
     ]
    },
    {
     "name": "stdout",
     "output_type": "stream",
     "text": [
      " done.\n"
     ]
    },
    {
     "name": "stdout",
     "output_type": "stream",
     "text": [
      "Retrieving document from  https://arxiv.org/e-print/2209.00386\n"
     ]
    },
    {
     "name": "stdout",
     "output_type": "stream",
     "text": [
      "extracting tarball to tmp_2209.00386..."
     ]
    },
    {
     "name": "stdout",
     "output_type": "stream",
     "text": [
      " done.\n",
      "Retrieving document from  https://arxiv.org/e-print/2209.00390\n"
     ]
    },
    {
     "name": "stdout",
     "output_type": "stream",
     "text": [
      "extracting tarball to tmp_2209.00390..."
     ]
    },
    {
     "name": "stdout",
     "output_type": "stream",
     "text": [
      " done.\n",
      "Retrieving document from  https://arxiv.org/e-print/2209.00432\n"
     ]
    },
    {
     "name": "stdout",
     "output_type": "stream",
     "text": [
      "extracting tarball to tmp_2209.00432..."
     ]
    },
    {
     "name": "stdout",
     "output_type": "stream",
     "text": [
      " done.\n"
     ]
    },
    {
     "name": "stderr",
     "output_type": "stream",
     "text": [
      "/opt/hostedtoolcache/Python/3.9.13/x64/lib/python3.9/site-packages/arxiv_on_deck_2/latex.py:118: LatexWarning: attempting recovering figure combomap.eps\n",
      "  warnings.warn(LatexWarning(f'attempting recovering figure {image}'))\n",
      "/tmp/ipykernel_2241/4030337529.py:34: LatexWarning: 2209.00432 did not run properly\n",
      "Could not find figure combomap.eps\n",
      "  warnings.warn(latex.LatexWarning(f\"{paper_id:s} did not run properly\\n\" +\n"
     ]
    },
    {
     "name": "stdout",
     "output_type": "stream",
     "text": [
      "Retrieving document from  https://arxiv.org/e-print/2209.00549\n"
     ]
    },
    {
     "name": "stderr",
     "output_type": "stream",
     "text": [
      "/tmp/ipykernel_2241/4030337529.py:34: LatexWarning: 2209.00549 did not run properly\n",
      "not a gzip file\n",
      "  warnings.warn(latex.LatexWarning(f\"{paper_id:s} did not run properly\\n\" +\n"
     ]
    },
    {
     "name": "stdout",
     "output_type": "stream",
     "text": [
      "Retrieving document from  https://arxiv.org/e-print/2209.00597\n"
     ]
    },
    {
     "name": "stdout",
     "output_type": "stream",
     "text": [
      "extracting tarball to tmp_2209.00597..."
     ]
    },
    {
     "name": "stdout",
     "output_type": "stream",
     "text": [
      " done.\n",
      "Retrieving document from  https://arxiv.org/e-print/2209.00603\n"
     ]
    },
    {
     "name": "stdout",
     "output_type": "stream",
     "text": [
      "extracting tarball to tmp_2209.00603..."
     ]
    },
    {
     "name": "stdout",
     "output_type": "stream",
     "text": [
      " done.\n",
      "Retrieving document from  https://arxiv.org/e-print/2209.00620\n"
     ]
    },
    {
     "name": "stdout",
     "output_type": "stream",
     "text": [
      "extracting tarball to tmp_2209.00620..."
     ]
    },
    {
     "name": "stdout",
     "output_type": "stream",
     "text": [
      " done.\n"
     ]
    },
    {
     "name": "stderr",
     "output_type": "stream",
     "text": [
      "/opt/hostedtoolcache/Python/3.9.13/x64/lib/python3.9/site-packages/IPython/core/interactiveshell.py:3398: LatexWarning: Multiple tex files.\n",
      "\n",
      "  exec(code_obj, self.user_global_ns, self.user_ns)\n",
      "/opt/hostedtoolcache/Python/3.9.13/x64/lib/python3.9/site-packages/IPython/core/interactiveshell.py:3398: LatexWarning: Found documentclass in tmp_2209.00620/submit.tex\n",
      "\n",
      "  exec(code_obj, self.user_global_ns, self.user_ns)\n"
     ]
    },
    {
     "name": "stderr",
     "output_type": "stream",
     "text": [
      "/opt/hostedtoolcache/Python/3.9.13/x64/lib/python3.9/site-packages/arxiv_on_deck_2/latex.py:118: LatexWarning: attempting recovering figure identification_plots/NIRSpec_G140H-F100LP.jpg\n",
      "  warnings.warn(LatexWarning(f'attempting recovering figure {image}'))\n",
      "/tmp/ipykernel_2241/4030337529.py:34: LatexWarning: 2209.00620 did not run properly\n",
      "Could not find figure identification_plots/NIRSpec_G140H-F100LP.jpg\n",
      "  warnings.warn(latex.LatexWarning(f\"{paper_id:s} did not run properly\\n\" +\n"
     ]
    },
    {
     "name": "stdout",
     "output_type": "stream",
     "text": [
      "Retrieving document from  https://arxiv.org/e-print/2209.00635\n"
     ]
    },
    {
     "name": "stdout",
     "output_type": "stream",
     "text": [
      "extracting tarball to tmp_2209.00635..."
     ]
    },
    {
     "name": "stdout",
     "output_type": "stream",
     "text": [
      " done.\n"
     ]
    }
   ],
   "source": [
    "documents = []\n",
    "failed = []\n",
    "for paper in tqdm(candidates[:-1]):\n",
    "    paper_id = paper['identifier'].lower().replace('arxiv:', '')\n",
    "    \n",
    "    folder = f'tmp_{paper_id}'\n",
    "\n",
    "    try:\n",
    "        if not os.path.isdir(folder):\n",
    "            folder = retrieve_document_source(f\"{paper_id}\", f'tmp_{paper_id}')\n",
    "        \n",
    "        try:\n",
    "            doc = latex.LatexDocument(folder, validation=validation)    \n",
    "        except AffiliationError as affilerror:\n",
    "            msg = f\"ArXiv:{paper_id:s} is not an MPIA paper... \" + str(affilerror)\n",
    "            failed.append((paper, \"affiliation error: \" + str(affilerror) ))\n",
    "            continue\n",
    "        \n",
    "        # Hack because sometimes author parsing does not work well\n",
    "        if (len(doc.authors) != len(paper['authors'])):\n",
    "            doc._authors = paper['authors']\n",
    "        if (doc.abstract) in (None, ''):\n",
    "            doc._abstract = paper['abstract']\n",
    "            \n",
    "        doc.comment = (get_markdown_badge(paper_id) + \n",
    "                       \"<mark>Appeared on: \" + paper['date'] + \"</mark> - \" +\n",
    "                       \"_\" + paper['comments'] + \"_\")\n",
    "        doc.highlight_authors_in_list(hl_list)\n",
    "\n",
    "        full_md = doc.generate_markdown_text()\n",
    "        \n",
    "        documents.append((paper_id, full_md))\n",
    "    except Exception as e:\n",
    "        warnings.warn(latex.LatexWarning(f\"{paper_id:s} did not run properly\\n\" +\n",
    "                                         str(e)\n",
    "                                        ))\n",
    "        failed.append((paper, \"latex error \" + str(e)))"
   ]
  },
  {
   "cell_type": "markdown",
   "id": "2505a25c",
   "metadata": {
    "papermill": {
     "duration": 0.009177,
     "end_time": "2022-09-02T07:39:26.016427",
     "exception": false,
     "start_time": "2022-09-02T07:39:26.007250",
     "status": "completed"
    },
    "tags": []
   },
   "source": [
    "### Export the logs\n",
    "\n",
    "Throughout, we also keep track of the logs per paper. see `logs-{today date}.md` "
   ]
  },
  {
   "cell_type": "code",
   "execution_count": 6,
   "id": "d733828a",
   "metadata": {
    "execution": {
     "iopub.execute_input": "2022-09-02T07:39:26.036845Z",
     "iopub.status.busy": "2022-09-02T07:39:26.035699Z",
     "iopub.status.idle": "2022-09-02T07:39:26.089827Z",
     "shell.execute_reply": "2022-09-02T07:39:26.088847Z"
    },
    "papermill": {
     "duration": 0.072924,
     "end_time": "2022-09-02T07:39:26.097945",
     "exception": false,
     "start_time": "2022-09-02T07:39:26.025021",
     "status": "completed"
    },
    "scrolled": false,
    "tags": []
   },
   "outputs": [
    {
     "data": {
      "text/markdown": [
       "## Successful papers"
      ],
      "text/plain": [
       "<IPython.core.display.Markdown object>"
      ]
     },
     "metadata": {},
     "output_type": "display_data"
    },
    {
     "data": {
      "text/markdown": [
       "\n",
       "|||\n",
       "|---:|:---|\n",
       "| [![arXiv](https://img.shields.io/badge/arXiv-arXiv:2209.00363-b31b1b.svg)](https://arxiv.org/abs/arXiv:2209.00363) | **WISDOM Project -- XIII. Feeding molecular gas to the supermassive black  hole in the starburst AGN-host galaxy Fairall 49**  |\n",
       "|| Federico Lelli, et al. -- incl., <mark>Mark D. Smith</mark>, <mark>Thomas G. Williams</mark> |\n",
       "|*Appeared on*| *2022-09-02*|\n",
       "|*Comments*| *19 pages, 13 figures, accepted for publication in MNRAS*|\n",
       "|**Abstract**| The mm-Wave Interferometric Survey of Dark Object Masses (WISDOM) is probing supermassive black holes (SMBHs) in galaxies across the Hubble sequence via molecular gas dynamics. We present the first WISDOM study of a luminous infrared galaxy with an active galactic nuclei (AGN): Fairall 49. We use new ALMA observations of the CO(2-1) line with a spatial resolution of about 80 pc together with ancillary HST imaging. We reach the following results: (1) The CO kinematics are well described by a regularly rotating gas disk with a radial inflow motion, suggesting weak feedback on the cold gas from both AGN and starburst activity; (2) The dynamically inferred SMBH mass is 1.6 +/- 0.4 (rnd) +/- 0.8 (sys) x 10^8 Msun, assuming that we have accurately subtracted the AGN and starburst light contributions, which have a luminosity of about 10^9 Lsun; (3) The SMBH mass agrees with the SMBH-stellar mass relation but is about 50 times higher than previous estimates from X-ray variability; (4) The dynamically inferred molecular gas mass is 30 times smaller than that inferred from adopting the Galactic CO-to-H_2 conversion factor (X_CO) for thermalised gas, suggesting low values of X_CO; (5) the molecular gas inflow rate increases steadily with radius and may be as high as 5 Msun/yr. This work highlights the potential of using high-resolution CO data to estimate, in addition to SMBH masses, the X_CO factor and gas inflow rates in nearby galaxies. |"
      ],
      "text/plain": [
       "[arXiv:2209.00363] WISDOM Project -- XIII. Feeding molecular gas to the supermassive black  hole in the starburst AGN-host galaxy Fairall 49\n",
       "\tFederico Lelli, et al. -- incl., <mark>Mark D. Smith</mark>, <mark>Thomas G. Williams</mark>"
      ]
     },
     "metadata": {},
     "output_type": "display_data"
    },
    {
     "data": {
      "text/markdown": [
       "## Failed papers"
      ],
      "text/plain": [
       "<IPython.core.display.Markdown object>"
      ]
     },
     "metadata": {},
     "output_type": "display_data"
    },
    {
     "data": {
      "text/markdown": [
       "\n",
       "|||\n",
       "|---:|:---|\n",
       "| [![arXiv](https://img.shields.io/badge/arXiv-arXiv:2209.00018-b31b1b.svg)](https://arxiv.org/abs/arXiv:2209.00018) | **A fast rising tidal disruption event from a candidate intermediate mass  black hole**  |\n",
       "|| C. R. Angus, et al. -- incl., <mark>V. A. Villar</mark> |\n",
       "|*Appeared on*| *2022-09-02*|\n",
       "|*Comments*| *Accepted for publication in Nature Astronomy*|\n",
       "|**Abstract**| Massive black holes (BHs) at the centres of massive galaxies are ubiquitous. The population of BHs within dwarf galaxies, on the other hand, is evasive. Dwarf galaxies are thought to harbour BHs with proportionally small masses, including intermediate mass BHs, with masses $10^{2} < M_{BH} < 10^{6} M_{\\odot}$. Identification of these systems has historically relied upon the detection of light emitted from accreting gaseous discs close to the BHs. Without this light, they are difficult to detect. Tidal disruption events (TDEs), the luminous flares produced when a star strays close to a BH and is shredded, are a direct way to probe massive BHs. The rise times of these flares theoretically correlate with the BH mass. Here we present AT2020neh, a fast rising TDE candidate, hosted by a dwarf galaxy. AT2020neh can be described by the tidal disruption of a main sequence star by a 10$^{4.7} - 10^{5.9} M_{\\odot}$ BH. We find the observable rate of fast rising nuclear transients like AT2020neh to be rare, at $\\lesssim 2 \\times 10^{-8}$ events Mpc$^{-3}$ yr$^{-1}$. Finding non-accreting BHs in dwarf galaxies is important to determine how prevalent BHs are within these galaxies, and constrain models of BH formation. AT2020neh-like events may provide a galaxy-independent method of measuring IMBH masses. |\n",
       "|<p style=\"color:green\"> **ERROR** </p>| <p style=\"color:green\">affiliation error: mpia.affiliation_verifications: '69117' keyword not found.</p> |"
      ],
      "text/plain": [
       "<IPython.core.display.Markdown object>"
      ]
     },
     "metadata": {},
     "output_type": "display_data"
    },
    {
     "data": {
      "text/markdown": [
       "\n",
       "|||\n",
       "|---:|:---|\n",
       "| [![arXiv](https://img.shields.io/badge/arXiv-arXiv:2209.00006-b31b1b.svg)](https://arxiv.org/abs/arXiv:2209.00006) | **A Phantom Menace: On the Morphology of the Galactic Center Excess**  |\n",
       "|| Samuel D. McDermott, <mark>Yi-Ming Zhong</mark>, Ilias Cholis |\n",
       "|*Appeared on*| *2022-09-02*|\n",
       "|*Comments*| *5 pages, code available at this https URL*|\n",
       "|**Abstract**| The characteristics of the Galactic Center Excess (GCE) emission observed in gamma-ray energies -- especially the morphology of the GCE -- remain a hotly debated subject. The manner in which the dominant diffuse gamma-ray background is modeled has been claimed to have a determining effect on the preferred morphology. In this work, we compare two distinct approaches to the galactic diffuse gamma-ray emission background: the first approach models this emission through templates calculated from a sequence of well-defined astrophysical assumptions, while the second approach divides surrogates for the background gamma-ray emission into cylindrical galactocentric rings with free independent normalizations. At the latitudes that we focus on, we find that the former approach works better, and that the overall best fit is obtained for an astrophysically motivated fit when the GCE follows the morphology expected of dark matter annihilation. Quantitatively, the improvement compared to the best ring-based fits is roughly 6500 in the chi^2 and roughly 4000 in the log of the Bayesian evidence. |\n",
       "|<p style=\"color:green\"> **ERROR** </p>| <p style=\"color:green\">affiliation error: mpia.affiliation_verifications: 'Heidelberg' keyword not found.</p> |"
      ],
      "text/plain": [
       "<IPython.core.display.Markdown object>"
      ]
     },
     "metadata": {},
     "output_type": "display_data"
    },
    {
     "data": {
      "text/markdown": [
       "\n",
       "|||\n",
       "|---:|:---|\n",
       "| [![arXiv](https://img.shields.io/badge/arXiv-arXiv:2209.00009-b31b1b.svg)](https://arxiv.org/abs/arXiv:2209.00009) | **The final design of the iLocater spectrograph: An optimized architecture  for diffraction-limited EPRV instruments**  |\n",
       "|| Jonathan Crass, et al. -- incl., <mark>Mahsa Farsad</mark> |\n",
       "|*Appeared on*| *2022-09-02*|\n",
       "|*Comments*| *11 pages, In proceedings of SPIE 12184*|\n",
       "|**Abstract**| iLocater is a near-infrared, extremely precise radial velocity (EPRV) spectrograph under construction for the dual 8.4 m diameter Large Binocular Telescope (LBT). The instrument will undertake precision radial velocity studies of Earth-like planets orbiting low-mass stars. Operating in the diffraction-limited regime, iLocater uses adaptive optics to efficiently inject starlight directly into single-mode fibers that illuminate a high spectral resolution (R=190,500 median), cryogenic, diffraction-limited spectrograph. To maximize performance, the spectrograph uses a new design strategy for EPRV instruments, combining intrinsically stable materials for its optomechanical fabrication with precision optical fabrication. This novel combination will enable unique EPRV capabilities for exoplanet and astrophysics studies of the solar neighborhood. We present the final optical and mechanical designs of the spectrograph system. Ensuring the as-built spectrograph achieves its designed spectral resolution and diffraction-limited performance has required careful control of the end-to-end system wavefront error (WFE) budget. We discuss the efforts undertaken to achieve this goal including minimizing residual WFE in the optical design, assessing diffraction grating WFE performance, optimizing material choices, and requiring precision optical design and fabrication. Our goal is to deliver diffraction-limited performance across the full spectral format, which, combined with intrinsic thermal stability requirements for EPRV science, has driven the selection of silicon optics and Invar optomechanics. The system performance is further optimized using precision (sub-mK) thermal control. This set of design features will allow iLocater to achieve sub-m/s radial velocity precision in the near-infrared, and to serve as the first optimized diffraction-limited spectrograph for EPRV science. |\n",
       "|<p style=\"color:green\"> **ERROR** </p>| <p style=\"color:green\">affiliation error: mpia.affiliation_verifications: 'Heidelberg' keyword not found.</p> |"
      ],
      "text/plain": [
       "<IPython.core.display.Markdown object>"
      ]
     },
     "metadata": {},
     "output_type": "display_data"
    },
    {
     "data": {
      "text/markdown": [
       "\n",
       "|||\n",
       "|---:|:---|\n",
       "| [![arXiv](https://img.shields.io/badge/arXiv-arXiv:2209.00014-b31b1b.svg)](https://arxiv.org/abs/arXiv:2209.00014) | **BASS XXXVII: The role of radiative feedback in the growth and  obscuration properties of nearby supermassive black holes**  |\n",
       "|| C. Ricci, et al. -- incl., <mark>Y. Ueda</mark>, <mark>F. Harrison</mark> |\n",
       "|*Appeared on*| *2022-09-02*|\n",
       "|*Comments*| *Accepted for publication in ApJ*|\n",
       "|**Abstract**| We study the relation between obscuration and supermassive black hole (SMBH) growth using a large sample of hard X-ray selected Active Galactic Nuclei (AGN). We find a strong decrease in the fraction of obscured sources above the Eddington limit for dusty gas ($\\log \\lambda_{\\rm Edd}\\gtrsim -2$) confirming earlier results, and consistent with the radiation-regulated unification model. This also explains the difference in the Eddington ratio distribution functions (ERDFs) of type 1 and type 2 AGN obtained by a recent study. The break in the ERDF of nearby AGN is at $\\log \\lambda_{\\rm Edd}^{*}=-1.34\\pm0.07$. This corresponds to the $\\lambda_{\\rm Edd}$ where AGN transition from having most of their sky covered by obscuring material to being mostly devoid of absorbing material. A similar trend is observed for the luminosity function, which implies that most of the SMBH growth in the local Universe happens when the AGN is covered by a large reservoir of gas and dust. These results could be explained with a radiation-regulated growth model, in which AGN move in the $N_{\\rm H}-\\lambda_{\\rm Edd}$ plane during their life cycle. The growth episode starts with the AGN mostly unobscured and accreting at low $\\lambda_{\\rm Edd}$. As the SMBH is further fueled, $\\lambda_{\\rm Edd}$, $N_{\\rm H}$ and covering factor increase, leading AGN to be preferentially observed as obscured. Once $\\lambda_{\\rm Edd}$ reaches the Eddington limit for dusty gas, the covering factor and $N_{\\rm H}$ rapidly decrease, leading the AGN to be typically observed as unobscured. As the remaining fuel is depleted, the SMBH goes back into a quiescent phase. |\n",
       "|<p style=\"color:green\"> **ERROR** </p>| <p style=\"color:green\">affiliation error: mpia.affiliation_verifications: 'Heidelberg' keyword not found.</p> |"
      ],
      "text/plain": [
       "<IPython.core.display.Markdown object>"
      ]
     },
     "metadata": {},
     "output_type": "display_data"
    },
    {
     "data": {
      "text/markdown": [
       "\n",
       "|||\n",
       "|---:|:---|\n",
       "| [![arXiv](https://img.shields.io/badge/arXiv-arXiv:2209.00040-b31b1b.svg)](https://arxiv.org/abs/arXiv:2209.00040) | **Near-infrared spectroscopy of embedded protostars in the massive  metal-poor star-forming region NGC 346**  |\n",
       "|| O. C. Jones, et al. -- incl., <mark>M. Meixner</mark> |\n",
       "|*Appeared on*| *2022-09-02*|\n",
       "|*Comments*| *15 pages, 6 figures. Accepted for publication MNRAS*|\n",
       "|**Abstract**| We present medium-resolution (R $\\sim$ 4000) YJ, H \\& K band spectroscopy of candidate young stellar objects (YSOs) in NGC~346, the most active star-formation region in the metal-poor (Z = 1/5 Z$_{\\sun}$) Small Magellanic Cloud. The spectra were obtained with the KMOS (K-Band Multi Object Spectrograph) integral field instrument on the Very Large Telescope. From our initial sample of 18 candidate high-mass YSOs previously identified from mid-IR photometry and radiative transfer model fits to their spectral energy distributions, approximately half were resolved into multiple components by our integral-field data. In total, we detect 30 continuum sources and extract reliable spectra for 12 of these objects. The spectra show various features including hydrogen recombination lines, and lines from H$_2$, He~{\\sc i} and [Fe~{\\sc ii}], which are indicative of accretion, discs and outflowing material in massive YSOs. We spectroscopically confirm the youthful nature of nine YSO candidates and identify two others as OB stars. All of the confirmed YSOs have Br$\\gamma$ in emission, but no emission is seen from the CO bandhead, despite other disc tracers present in the spectra. He\\,{\\sc i}~1.083 $\\mu$m emission is also detected at appreciably higher rates than for the Galaxy. |\n",
       "|<p style=\"color:green\"> **ERROR** </p>| <p style=\"color:green\">affiliation error: mpia.affiliation_verifications: 'Heidelberg' keyword not found.</p> |"
      ],
      "text/plain": [
       "<IPython.core.display.Markdown object>"
      ]
     },
     "metadata": {},
     "output_type": "display_data"
    },
    {
     "data": {
      "text/markdown": [
       "\n",
       "|||\n",
       "|---:|:---|\n",
       "| [![arXiv](https://img.shields.io/badge/arXiv-arXiv:2209.00045-b31b1b.svg)](https://arxiv.org/abs/arXiv:2209.00045) | **The giants that were born swiftly -- Implications of the top-heavy  stellar initial mass function on the birth conditions of globular clusters**  |\n",
       "|| <mark>Henriette Wirth</mark>, et al. |\n",
       "|*Appeared on*| *2022-09-02*|\n",
       "|*Comments*| *published in MNRAS, 13 pages, 12 figures*|\n",
       "|**Abstract**| Recent results suggest that the initial mass function (IMF) of globular clusters (GCs) is metallicity and density dependent. Here it is studied how this variation affects the initial masses and the numbers of core collapse supernovae (CCSNe) required to reproduce the observed iron spreads in GCs. The IMFs of all of the investigated GCs were top-heavy implying larger initial masses compared to previous results computed assuming an invariant canonical IMF. This leads to more CCSNe being required to explain the observed iron abundance spreads. The results imply that the more massive GCs formed at smaller Galactocentric radii, possibly suggesting in-situ formation of the population II halo. The time until star formation (SF) ended within a proto-GC is computed to be 3.5 - 4 Myr, being slightly shorter than the 4 Myr obtained using the canonical IMF. Therefore, the impact of the IMF on the time for which SF lasts is small. |\n",
       "|<p style=\"color:green\"> **ERROR** </p>| <p style=\"color:green\">affiliation error: mpia.affiliation_verifications: 'Heidelberg' keyword not found.</p> |"
      ],
      "text/plain": [
       "<IPython.core.display.Markdown object>"
      ]
     },
     "metadata": {},
     "output_type": "display_data"
    },
    {
     "data": {
      "text/markdown": [
       "\n",
       "|||\n",
       "|---:|:---|\n",
       "| [![arXiv](https://img.shields.io/badge/arXiv-arXiv:2209.00194-b31b1b.svg)](https://arxiv.org/abs/arXiv:2209.00194) | **First detection of transverse vertical oscillation during the expansion  of coronal loops**  |\n",
       "|| <mark>Qingmin Zhang</mark>, et al. -- incl., <mark>Yanjie Zhang</mark> |\n",
       "|*Appeared on*| *2022-09-02*|\n",
       "|*Comments*| *11 pages, 12 figures, accepted for publication in ApJL*|\n",
       "|**Abstract**| In this Letter, we perform a detailed analysis of the M5.5-class eruptive flare occurring in active region 12929 on 2022 January 20. The eruption of a hot channel generates a fast coronal mass ejection (CME) and a dome-shaped extreme-ultraviolet (EUV) wave at speeds of 740$-$860 km s$^{-1}$. The CME is associated with a type II radio burst, implying that the EUV wave is a fast-mode shock wave. During the impulsive phase, the flare shows quasi-periodic pulsations (QPPs) in EUV, hard X-ray, and radio wavelengths. The periods of QPPs range from 18 s to 113 s, indicating that flare energy is released and nonthermal electrons are accelerated intermittently with multiple time scales. The interaction between the EUV wave and low-lying adjacent coronal loops (ACLs) results in contraction, expansion, and transverse vertical oscillation of ACLs. The speed of contraction in 171, 193, and 211 {\\AA} is higher than that in 304 {\\AA}. The periods of oscillation are 253 s and 275 s in 304 {\\AA} and 171 {\\AA}, respectively. A new scenario is proposed to explain the interaction. The equation that interprets the contraction and oscillation of the overlying coronal loops above a flare core can also interpret the expansion and oscillation of ACLs, suggesting that the two phenomena are the same in essence. |\n",
       "|<p style=\"color:green\"> **ERROR** </p>| <p style=\"color:green\">affiliation error: mpia.affiliation_verifications: 'Heidelberg' keyword not found.</p> |"
      ],
      "text/plain": [
       "<IPython.core.display.Markdown object>"
      ]
     },
     "metadata": {},
     "output_type": "display_data"
    },
    {
     "data": {
      "text/markdown": [
       "\n",
       "|||\n",
       "|---:|:---|\n",
       "| [![arXiv](https://img.shields.io/badge/arXiv-arXiv:2209.00282-b31b1b.svg)](https://arxiv.org/abs/arXiv:2209.00282) | **Broad-band spectral analysis of LMXB 2S 0921-63 with Suzaku**  |\n",
       "|| <mark>Prince Sharma</mark>, Chetana Jain, Anjan Dutta |\n",
       "|*Appeared on*| *2022-09-02*|\n",
       "|*Comments*| *7 pages, 5 figures, 2 Tables, Submitted to MNRAS Journal*|\n",
       "|**Abstract**| We present the broad-band spectral analysis of the low-mass X-ray binary 2S 0921-63 by using the Suzaku archival data covering the orbital phase between 0.43 and 1.28 during four close observations. It is the first time that a broad-band spectral analysis of 2S 0921-63 has been done up to 25.0 keV. The 0.5-10.0 keV XIS count rate varied between $\\sim$ 1 and $\\sim$ 5 counts s$^{-1}$ during the observations. A partial X-ray eclipse and broad post-eclipse intensity dip were observed during the observations. The X-ray emission hardened marginally during the intensity dip. We have modelled the source spectra by simultaneously fitting the XIS and HXD-PIN spectra for each of the four observations. The broad-band spectra of the source can be described by a model comprising a very hot blackbody having temperature, $kT_{\\rm BB} \\approx$ 1.66 - 2.13 keV, a high-energy cutoff power law, and an Fe emission line at $E_{\\rm line} \\sim$ 6.7 keV. A second model, accounting for the Comptonization of the thermal emission from accretion disc along with an Fe emission line, describes the broad-band spectra of 2S 0921-63 equally well. |\n",
       "|<p style=\"color:green\"> **ERROR** </p>| <p style=\"color:green\">affiliation error: mpia.affiliation_verifications: 'Heidelberg' keyword not found.</p> |"
      ],
      "text/plain": [
       "<IPython.core.display.Markdown object>"
      ]
     },
     "metadata": {},
     "output_type": "display_data"
    },
    {
     "data": {
      "text/markdown": [
       "\n",
       "|||\n",
       "|---:|:---|\n",
       "| [![arXiv](https://img.shields.io/badge/arXiv-arXiv:2209.00386-b31b1b.svg)](https://arxiv.org/abs/arXiv:2209.00386) | **Flux reconstruction for the NIR camera CAGIRE at the focus of the  Colibrí telescope**  |\n",
       "|| Alix Nouvel de la Flèche, et al. -- incl., <mark>Hervé Valentin</mark>, <mark>Hervé Geoffray</mark>, <mark>William H. Lee</mark> |\n",
       "|*Appeared on*| *2022-09-02*|\n",
       "|*Comments*| *19 pages, 13 figures, \\c{opyright} (2022) COPYRIGHT Society of Photo-Optical Instrumentation Engineers (SPIE)*|\n",
       "|**Abstract**| CAGIRE is the near infrared camera of the Colibr\\'i robotic telescope, designed for the follow-up of SVOM alerts. It is based on the ALFA 2k x 2k detector, from the LYNRED French Company, operating in \"Up the Ramp\" mode. An observation consists in a series of short (1-2 minutes) exposures during which the pixels are read out every 1.3 second, while continuously accumulating charges proportionally to the received flux. We discuss here the preprocessing of CAGIRE data and a method that can be used to recover the flux received by each pixel from the slope of the ramp. |\n",
       "|<p style=\"color:green\"> **ERROR** </p>| <p style=\"color:green\">affiliation error: mpia.affiliation_verifications: 'Heidelberg' keyword not found.</p> |"
      ],
      "text/plain": [
       "<IPython.core.display.Markdown object>"
      ]
     },
     "metadata": {},
     "output_type": "display_data"
    },
    {
     "data": {
      "text/markdown": [
       "\n",
       "|||\n",
       "|---:|:---|\n",
       "| [![arXiv](https://img.shields.io/badge/arXiv-arXiv:2209.00390-b31b1b.svg)](https://arxiv.org/abs/arXiv:2209.00390) | **Global HI Properties of Galaxies via Super-profile Analysis**  |\n",
       "|| Minsu Kim, <mark>Se-Heon Oh</mark> |\n",
       "|*Appeared on*| *2022-09-02*|\n",
       "|*Comments*| *24 pages, 13 figures, accepted for publication in JKAS*|\n",
       "|**Abstract**| We present a new method which constructs an HI super-profile of a galaxy which is based on profile decomposition analysis. The decomposed velocity profiles of an HI data cube with an optimal number of Gaussian components are co-added after being aligned in velocity with respect to their centroid velocities. This is compared to the previous approach where no prior profile decomposition is made for the velocity profiles being stacked. The S/N improved super-profile is useful for deriving the galaxy's global HI properties like velocity dispersion and mass from observations which do not provide sufficient surface brightness sensitivity for the galaxy. As a practical test, we apply our new method to 64 high-resolution HI data cubes of nearby galaxies in the local Universe which are taken from THINGS and LITTLE THINGS. In addition, we also construct two additional HI super-profiles of the sample galaxies using symmetric and all velocity profiles of the cubes whose centroid velocities are determined from Hermite $h_3$ polynomial fitting, respectively. We find that the HI super-profiles constructed using the new method have narrower cores and broader wings in shape than the other two super-profiles. This is mainly due to the effect of either asymmetric velocity profiles' central velocity bias or the removal of asymmetric velocity profiles in the previous methods on the resulting HI super-profiles. We discuss how the shapes ($\\sigma_{\\rm{n}}/\\sigma_{\\rm{b}}$, $A_{\\rm{n}}/A_{\\rm{b}}$, and $A_{\\rm{n}}/A_{\\rm{tot}}$) of the new HI super-profiles which are measured from a double Gaussian fit are correlated with star formation rates of the sample galaxies and are compared with those of the other two super-profiles. |\n",
       "|<p style=\"color:green\"> **ERROR** </p>| <p style=\"color:green\">affiliation error: mpia.affiliation_verifications: 'Heidelberg' keyword not found.</p> |"
      ],
      "text/plain": [
       "<IPython.core.display.Markdown object>"
      ]
     },
     "metadata": {},
     "output_type": "display_data"
    },
    {
     "data": {
      "text/markdown": [
       "\n",
       "|||\n",
       "|---:|:---|\n",
       "| [![arXiv](https://img.shields.io/badge/arXiv-arXiv:2209.00597-b31b1b.svg)](https://arxiv.org/abs/arXiv:2209.00597) | **Hot Exoplanet Atmospheres Resolved with Transit Spectroscopy (HEARTS)  VII. Detection of sodium on the long-transiting inflated sub-Saturn KELT-11 b**  |\n",
       "|| Dany Mounzer, et al. -- incl., <mark>Julia V. Seidel</mark>, <mark>Heather Cegla</mark>, <mark>Kevin Heng</mark>, <mark>Joseph E. Rodriguez</mark> |\n",
       "|*Appeared on*| *2022-09-02*|\n",
       "|*Comments*| *19 pages, 18 figures, 8 tables. Accepted for publication in Astronomy & Astrophysics*|\n",
       "|**Abstract**| KELT-11b is an inflated sub-Saturn with a hot atmosphere and that orbits a bright evolved subgiant star, making it a prime choice for atmospheric characterization, but that transits its host star for more than seven hours. We observed this system in series of three consecutive nights with the HARPS spectrograph and report on the analysis of the transmission spectrum obtained from this dataset. Our results highlight the potential for independent observations of a long-transiting planet over consecutive nights. Our study reveals a sodium excess absorption of $0.28 \\pm 0.05 \\%$ and $0.50 \\pm 0.06 \\%$ in the Na D1 and D2 lines, respectively. This corresponds to 1.44 and 1.69 times the white-light planet radius in the line cores. Wind pattern modeling tends to prefer day-to-night side winds with no vertical winds, which is surprising considering the planet bloatedness. The modeling of the Rossiter-Mclaughlin effect yields a significantly misaligned orbit, with a projected spin-orbit angle of ${\\lambda} = -77.86^{+2.36}_{-2.26}{}^\\circ$. The characteristics of KELT-11 b, notably its extreme scale height and long transit, make it an ideal and unique target for next-generation telescopes. Our results as well as recent findings from HST, TESS, and CHEOPS observations could make KELT-11 b a benchmark exoplanet in atmospheric characterization. |\n",
       "|<p style=\"color:green\"> **ERROR** </p>| <p style=\"color:green\">affiliation error: mpia.affiliation_verifications: 'Heidelberg' keyword not found.</p> |"
      ],
      "text/plain": [
       "<IPython.core.display.Markdown object>"
      ]
     },
     "metadata": {},
     "output_type": "display_data"
    },
    {
     "data": {
      "text/markdown": [
       "\n",
       "|||\n",
       "|---:|:---|\n",
       "| [![arXiv](https://img.shields.io/badge/arXiv-arXiv:2209.00603-b31b1b.svg)](https://arxiv.org/abs/arXiv:2209.00603) | **Tolerance Analysis of Octave Bandwidth Millimeter-Wave Planar Orthomode  Transducer**  |\n",
       "|| Johannes Hubmayr, et al. -- incl., <mark>Jeffrey J. McMahon</mark> |\n",
       "|*Appeared on*| *2022-09-02*|\n",
       "|*Comments*| **|\n",
       "|**Abstract**| Planar Orthomode Transducers (OMTs) are commonly used for polarization measurements at millimeter wavelengths. We present an optical coupling study of an octave bandwidth planar OMT in circular waveguide based on 3D electromagnetic simulations. We quantify results through metrics such as co- and cross- polar coupling, reflection, and waveguide leakage as a function of the OMT construction geometry. We evaluate the tolerance of these metrics to the waveguide backshort distance, probe impedance, waveguide gap size, and waveguide-to-probe misalignment. Two probe geometries are studied: the `classic' shape used in several previous experiments, and a new `wineglass' geometry. The bandwidth ratio of both optimized OMTs is 2.0:1, defined where co-polar coupling exceeds 80%. The average co-polar coupling, cross-polar coupling, reflection, and waveguide leakage of the classic probe is approximately 93%, $<$-50 dB, 5% and 2%, respectively and depends slightly on the exact frequency range. The wineglass probe co-polar coupling is $\\sim$ 2% larger. Radial waveguide misalignment at the level of 4% of the waveguide radius can result in up to a 10% reduction in co-polar coupling and -20 dB cross-polar coupling in one polarization. These results may be used to guide the detector module designs of future Cosmic Microwave Background experiments and beyond |\n",
       "|<p style=\"color:green\"> **ERROR** </p>| <p style=\"color:green\">affiliation error: mpia.affiliation_verifications: 'Heidelberg' keyword not found.</p> |"
      ],
      "text/plain": [
       "<IPython.core.display.Markdown object>"
      ]
     },
     "metadata": {},
     "output_type": "display_data"
    },
    {
     "data": {
      "text/markdown": [
       "\n",
       "|||\n",
       "|---:|:---|\n",
       "| [![arXiv](https://img.shields.io/badge/arXiv-arXiv:2209.00635-b31b1b.svg)](https://arxiv.org/abs/arXiv:2209.00635) | **TEMPus VoLA: the Timed Epstein Multi-pressure Vessel at Low  Accelerations**  |\n",
       "|| Holly L. Capelo, et al. -- incl., <mark>Bernhard Jost</mark> |\n",
       "|*Appeared on*| *2022-09-02*|\n",
       "|*Comments*| *26 pages, 24 figures; Accepted for publication in Review of Scientific Instruments*|\n",
       "|**Abstract**| The field of planetary system formation relies extensively on our understanding of the aerodynamic interaction between gas and dust in protoplanetary disks. Of particular importance are the mechanisms triggering fluid instabilities and clumping of dust particles into aggregates, and their subsequent inclusion into planetesimals. We introduce the Timed Epstein Multi-pressure vessel at Low Accelerations (TEMPusVoLA), which is an experimental apparatus for the study of particle dynamics and rarefied gas under micro-gravity conditions. This facility contains three experiments dedicated to studying aerodynamic processes, i) the development of pressure gradients due to collective particle-gas interaction, ii) the drag coefficients of dust aggregates with variable particle-gas velocity, iii) the effect of dust on the profile of a shear flow and resultant onset of turbulence. The approach is innovative with respect to previous experiments because we access an untouched parameter space in terms of dust particle packing fraction, and Knudsen, Stokes, and Reynolds numbers. The mechanisms investigated are also relevant for our understanding of the emission of dust from active surfaces such as cometary nuclei and new experimental data will help interpreting previous datasets (Rosetta) and prepare future spacecraft observations (Comet Interceptor). We report on the performance of the experiments, which has been tested over the course of multiple flight campaigns. The project is now ready to benefit from additional flight campaigns, to cover a wide parameter space. The outcome will be a comprehensive framework to test models and numerical recipes for studying collective dust particle aerodynamics under space-like conditions. |\n",
       "|<p style=\"color:green\"> **ERROR** </p>| <p style=\"color:green\">affiliation error: mpia.affiliation_verifications: 'Heidelberg' keyword not found.</p> |"
      ],
      "text/plain": [
       "<IPython.core.display.Markdown object>"
      ]
     },
     "metadata": {},
     "output_type": "display_data"
    },
    {
     "data": {
      "text/markdown": [
       "\n",
       "|||\n",
       "|---:|:---|\n",
       "| [![arXiv](https://img.shields.io/badge/arXiv-arXiv:2209.00432-b31b1b.svg)](https://arxiv.org/abs/arXiv:2209.00432) | **Snapshot of a magnetohydrodynamic disk wind traced by water maser  observations**  |\n",
       "|| Luca Moscadelli, et al. -- incl., <mark>Henrik Beuther</mark> |\n",
       "|*Appeared on*| *2022-09-02*|\n",
       "|*Comments*| *Main paper: 15 pages, 6 figures, 2 tables; Appendix: 21 pages, 7 figures, 1 table*|\n",
       "|**Abstract**| The formation of astrophysical objects of different nature and size, from black holes to gaseous giant planets, involves a disk-jet system, where the disk drives the mass accretion onto a central compact object and the jet is a fast collimated ejection along the disk rotation axis. Magnetohydrodynamic disk winds can provide the link between mass accretion and ejection, which is essential to ensure that the excess angular momentum is removed from the system and accretion onto the central object can proceed. However, up to now, we have been lacking direct observational proof of disk winds. This work presents a direct view of the velocity field of a disk wind around a forming massive star. Achieving a very high spatial resolution of ~0.05 au, our water maser observations trace the velocities of individual streamlines emerging from the disk orbiting the forming star. We find that, at low elevation above the disk midplane, the flow co-rotates with its launch point in the disk, in agreement with magneto-centrifugal acceleration where the gas is flung away along the magnetic field line anchored to the disk. Beyond the co-rotation point, the flow rises spiraling around the disk rotation axis along a helical magnetic field. We have performed (resistive-radiative-gravito-) magnetohydrodynamic simulations of the formation of a massive star and record the development of a magneto-centrifugally launched jet presenting many properties in agreement with our observations. |\n",
       "|<p style=\"color:red\"> **ERROR** </p>| <p style=\"color:red\">latex error Could not find figure combomap.eps</p> |"
      ],
      "text/plain": [
       "<IPython.core.display.Markdown object>"
      ]
     },
     "metadata": {},
     "output_type": "display_data"
    },
    {
     "data": {
      "text/markdown": [
       "\n",
       "|||\n",
       "|---:|:---|\n",
       "| [![arXiv](https://img.shields.io/badge/arXiv-arXiv:2209.00620-b31b1b.svg)](https://arxiv.org/abs/arXiv:2209.00620) | **The JWST Early Release Science Program for Direct Observations of  Exoplanetary Systems II: A 1 to 20 Micron Spectrum of the Planetary-Mass  Companion VHS 1256-1257 b**  |\n",
       "|| Brittany E. Miles, et al. -- incl., <mark>Alexandra Z. Greenbaum</mark>, <mark>Thomas Henning</mark> |\n",
       "|*Appeared on*| *2022-09-02*|\n",
       "|*Comments*| *Submitted to AAS Journals*|\n",
       "|**Abstract**| We present the highest fidelity spectrum to date of a planetary-mass object. VHS 1256 b is a $<$20 M$_\\mathrm{Jup}$ widely separated ($\\sim$8\", a = 150 au), young, brown dwarf companion that shares photometric colors and spectroscopic features with the directly imaged exoplanets HR 8799 c, d, and e. As an L-to-T transition object, VHS 1256 b exists along the region of the color-magnitude diagram where substellar atmospheres transition from cloudy to clear. We observed VHS 1256 b with JWST's NIRSpec IFU and MIRI MRS modes for coverage from 1 $\\mu$m to 20 $\\mu$m at resolutions of $\\sim$1,000 - 3,700. Water, methane, carbon monoxide, carbon dioxide, sodium, and potassium are observed in several portions of the JWST spectrum based on comparisons from template brown dwarf spectra, molecular opacities, and atmospheric models. The spectral shape of VHS 1256 b is influenced by disequilibrium chemistry and clouds. We directly detect silicate clouds, the first such detection reported for a planetary-mass companion. |\n",
       "|<p style=\"color:red\"> **ERROR** </p>| <p style=\"color:red\">latex error Could not find figure identification_plots/NIRSpec_G140H-F100LP.jpg</p> |"
      ],
      "text/plain": [
       "<IPython.core.display.Markdown object>"
      ]
     },
     "metadata": {},
     "output_type": "display_data"
    },
    {
     "data": {
      "text/markdown": [
       "\n",
       "|||\n",
       "|---:|:---|\n",
       "| [![arXiv](https://img.shields.io/badge/arXiv-arXiv:2209.00112-b31b1b.svg)](https://arxiv.org/abs/arXiv:2209.00112) | **KMT-2017-BLG-0673Lb and KMT-2019-BLG-0414Lb: Two microlensing planets  detected in peripheral fields of KMTNet survey**  |\n",
       "|| Cheongho Han, et al. -- incl., <mark>Chung-Uk Lee</mark>, <mark>Andrew Gould</mark>, <mark>Seung-Lee Kim</mark>, <mark>Dong-Joo Lee</mark>, <mark>Yongseok Lee</mark> |\n",
       "|*Appeared on*| *2022-09-02*|\n",
       "|*Comments*| *9 pages, 7 figures*|\n",
       "|**Abstract**| We investigate the microlensing data collected during the 2017--2019 seasons in the peripheral Galactic bulge fields with the aim of finding planetary signals in microlensing light curves observed with relatively sparse coverage. We first sort out lensing events with weak short-term anomalies in the lensing light curves from the visual inspection of all non-prime-field events, and then test various interpretations of the anomalies. From this procedure, we find two previously unidentified candidate planetary lensing events KMT-2017-BLG-0673 and KMT-2019-BLG-0414. It is found that the planetary signal of KMT-2017-BLG-0673 was produced by the source crossing over a planet-induced caustic, but it was previously missed because of the sparse coverage of the signal. On the other hand, the possibly planetary signal of KMT-2019-BLG-0414 was generated without caustic crossing, and it was previously missed due to the weakness of the signal. We identify a unique planetary solution for KMT-2017-BLG-0673. However, for KMT-2019-BLG-0414, we identify two pairs of planetary solutions, for each of which there are two solutions caused by the close-wide degeneracy, and a slightly less favored binary-source solution, in which a single lens mass gravitationally magnified a rapidly orbiting binary source with a faint companion (xallarap). From Bayesian analyses, it is estimated that the planet KMT-2017-BLG-0673Lb has a mass of $3.7^{+2.2}_{-2.1}~M_{\\rm J}$, and it is orbiting a late K-type host star with a mass of $0.63^{+0.37}_{-0.35}~M_\\odot$. Under the planetary interpretation of KMT-2010-BLG-0414L, a star with a mass of $0.74^{+0.43}_{-0.38}~M_\\odot$ hosts a planet with a mass of $\\sim 3.2$--3.6~$M_{\\rm J}$ depending on the solution. We discuss the possible resolution of the planet-xallarap degeneracy of KMT-2019-BLG-0414 by future adaptive-optics observations on 30~m class telescopes. |\n",
       "|<p style=\"color:red\"> **ERROR** </p>| <p style=\"color:red\">latex error [Errno 2] No such file or directory: 'gs'</p> |"
      ],
      "text/plain": [
       "<IPython.core.display.Markdown object>"
      ]
     },
     "metadata": {},
     "output_type": "display_data"
    },
    {
     "data": {
      "text/markdown": [
       "\n",
       "|||\n",
       "|---:|:---|\n",
       "| [![arXiv](https://img.shields.io/badge/arXiv-arXiv:2209.00549-b31b1b.svg)](https://arxiv.org/abs/arXiv:2209.00549) | **The evolving absolute magnitude of type 1a supernovae and its critical  impact on the cosmological parameters**  |\n",
       "|| <mark>A.P. Mahtessian</mark>, G.S. Karapetian, M. A. Hovhannisyan, <mark>L.A. Mahtessian</mark> |\n",
       "|*Appeared on*| *2022-09-02*|\n",
       "|*Comments*| *17 pages, 8 figures, 12 tables*|\n",
       "|**Abstract**| In this work, a computer optimization model has been developed that allows one to load the initial observation data of supernovae 1a into a table and, simply, by searching for the best fit between observations and theory, obtain the values of the parameters of cosmological models. Naturally, the initial data are redshifts z and apparent magnitudes m at the maximum brightness of supernovae. For better fit between theory and observation, Pearson's Chi2 (Chi-squared) goodness-of-fit test was used. The results are obtained for the LCDM model and, for comparison, the model with a zero cosmological constant. In order to improve the fit between observed data and theory, the optimization is carried out assuming that the absolute magnitude of supernovae is not constant, but evolves with time. It is assumed that the dependence of the absolute magnitude on the redshift is linear: M=M(z=0)+ez, where e is the evolution coefficient of the absolute magnitude of type 1a supernovae. |\n",
       "|<p style=\"color:red\"> **ERROR** </p>| <p style=\"color:red\">latex error not a gzip file</p> |"
      ],
      "text/plain": [
       "<IPython.core.display.Markdown object>"
      ]
     },
     "metadata": {},
     "output_type": "display_data"
    },
    {
     "data": {
      "text/markdown": [
       "\n",
       "|||\n",
       "|---:|:---|\n",
       "| [![arXiv](https://img.shields.io/badge/arXiv-arXiv:2209.00028-b31b1b.svg)](https://arxiv.org/abs/arXiv:2209.00028) | **The iLocater cryostat and thermal control system: enabling extremely  precise radial velocity measurements for diffraction-limited spectrographs**  |\n",
       "|| Jonathan Crass, et al. -- incl., <mark>Frederick R. Hearty</mark> |\n",
       "|*Appeared on*| *2022-09-02*|\n",
       "|*Comments*| *10 pages, In proceedings of SPIE 12184*|\n",
       "|**Abstract**| Extremely precise radial velocity (EPRV) measurements are critical for characterizing nearby terrestrial worlds. EPRV instrument precisions of $\\sigma_{\\mathrm{RV}} = 1-10\\,\\mathrm{cm/s}$ are required to study Earth-analog systems, imposing stringent, sub-mK, thermo-mechanical stability requirements on Doppler spectrograph designs. iLocater is a new, high-resolution ($R=190,500$ median) near infrared (NIR) EPRV spectrograph under construction for the dual 8.4 m diameter Large Binocular Telescope (LBT). The instrument is one of the first to operate in the diffraction-limited regime enabled by the use of adaptive optics and single-mode fibers. This facilitates affordable optomechanical fabrication of the spectrograph using intrinsically stable materials. We present the final design and performance of the iLocater cryostat and thermal control system which houses the instrument spectrograph. The spectrograph is situated inside an actively temperature-controlled radiation shield mounted inside a multi-layer-insulation (MLI) lined vacuum chamber. The radiation shield provides sub-mK thermal stability, building on the existing heritage of the Habitable-zone Planet Finder (HPF) and NEID instruments. The instrument operating temperature ($T=80-100\\,\\mathrm{K}$) is driven by the requirement to minimize detector background and instantaneous coefficient of thermal expansion (CTE) of the materials used for spectrograph fabrication. This combination allows for a reduced thermomechanical impact on measurement precision, improving the scientific capabilities of the instrument. |\n",
       "|<p style=\"color:red\"> **ERROR** </p>| <p style=\"color:red\">latex error unexpected end of data</p> |"
      ],
      "text/plain": [
       "<IPython.core.display.Markdown object>"
      ]
     },
     "metadata": {},
     "output_type": "display_data"
    }
   ],
   "source": [
    "import datetime\n",
    "today = str(datetime.date.today())\n",
    "logfile = f\"_build/html/logs/log-{today}.md\"\n",
    "\n",
    "\n",
    "with open(logfile, 'w') as logs:\n",
    "    # Success\n",
    "    logs.write(f'# Arxiv on Deck 2: Logs - {today}\\n\\n')\n",
    "    logs.write(\"\"\"* Arxiv had {0:,d} new papers\\n\"\"\".format(len(new_papers)))\n",
    "    logs.write(\"\"\"    * {0:,d} with possible author matches\\n\\n\"\"\".format(len(candidates)))\n",
    "    logs.write(\"## Sucessful papers\\n\\n\")\n",
    "    display(Markdown(\"## Successful papers\"))\n",
    "    success = [k[0] for k in documents]\n",
    "    for candid in candidates:\n",
    "        if candid['identifier'].split(':')[-1] in success:\n",
    "            display(candid)\n",
    "            logs.write(candid.generate_markdown_text() + '\\n\\n')\n",
    "\n",
    "    ## failed\n",
    "    logs.write(\"## Failed papers\\n\\n\")\n",
    "    display(Markdown(\"## Failed papers\"))\n",
    "    failed = sorted(failed, key=lambda x: x[1])\n",
    "    current_reason = \"\"\n",
    "    for paper, reason in failed:\n",
    "        if 'affiliation' in reason:\n",
    "            color = 'green'\n",
    "        else:\n",
    "            color = 'red'\n",
    "        data = Markdown(\n",
    "                paper.generate_markdown_text() + \n",
    "                f'\\n|<p style=\"color:{color:s}\"> **ERROR** </p>| <p style=\"color:{color:s}\">{reason:s}</p> |'\n",
    "               )\n",
    "        if reason != current_reason:\n",
    "            logs.write(f'### {reason:s} \\n\\n')\n",
    "            current_reason = reason\n",
    "        logs.write(data.data + '\\n\\n')\n",
    "        \n",
    "        # only display here the important errors (all in logs)\n",
    "        # if color in ('red',):\n",
    "        display(data)"
   ]
  },
  {
   "cell_type": "markdown",
   "id": "472d20ee",
   "metadata": {
    "papermill": {
     "duration": 0.01156,
     "end_time": "2022-09-02T07:39:26.122327",
     "exception": false,
     "start_time": "2022-09-02T07:39:26.110767",
     "status": "completed"
    },
    "tags": []
   },
   "source": [
    "## Export documents\n",
    "\n",
    "We now write the .md files and export relevant images"
   ]
  },
  {
   "cell_type": "code",
   "execution_count": 7,
   "id": "d426aed9",
   "metadata": {
    "execution": {
     "iopub.execute_input": "2022-09-02T07:39:26.147592Z",
     "iopub.status.busy": "2022-09-02T07:39:26.147232Z",
     "iopub.status.idle": "2022-09-02T07:39:26.157603Z",
     "shell.execute_reply": "2022-09-02T07:39:26.156637Z"
    },
    "papermill": {
     "duration": 0.026066,
     "end_time": "2022-09-02T07:39:26.160304",
     "exception": false,
     "start_time": "2022-09-02T07:39:26.134238",
     "status": "completed"
    },
    "tags": []
   },
   "outputs": [],
   "source": [
    "def export_markdown_summary(md: str, md_fname:str, directory: str):\n",
    "    \"\"\"Export MD document and associated relevant images\"\"\"\n",
    "    import os\n",
    "    import shutil\n",
    "    import re\n",
    "\n",
    "    if (os.path.exists(directory) and not os.path.isdir(directory)):\n",
    "        raise RuntimeError(f\"a non-directory file exists with name {directory:s}\")\n",
    "\n",
    "    if (not os.path.exists(directory)):\n",
    "        print(f\"creating directory {directory:s}\")\n",
    "        os.mkdir(directory)\n",
    "\n",
    "    fig_fnames = (re.compile(r'\\[Fig.*\\]\\((.*)\\)').findall(md) + \n",
    "                  re.compile(r'\\<img src=\"([^>\\s]*)\"[^>]*/>').findall(md))\n",
    "    for fname in fig_fnames:\n",
    "        if 'http' in fname:\n",
    "            # No need to copy online figures\n",
    "            continue\n",
    "        destdir = os.path.join(directory, os.path.dirname(fname))\n",
    "        destfname = os.path.join(destdir, os.path.basename(fname))\n",
    "        try:\n",
    "            os.makedirs(destdir)\n",
    "        except FileExistsError:\n",
    "            pass\n",
    "        shutil.copy(fname, destfname)\n",
    "    with open(os.path.join(directory, md_fname), 'w') as fout:\n",
    "        fout.write(md)\n",
    "    print(\"exported in \", os.path.join(directory, md_fname))\n",
    "    [print(\"    + \" + os.path.join(directory,fk)) for fk in fig_fnames]"
   ]
  },
  {
   "cell_type": "code",
   "execution_count": 8,
   "id": "014d04a4",
   "metadata": {
    "execution": {
     "iopub.execute_input": "2022-09-02T07:39:26.187323Z",
     "iopub.status.busy": "2022-09-02T07:39:26.186739Z",
     "iopub.status.idle": "2022-09-02T07:39:26.196424Z",
     "shell.execute_reply": "2022-09-02T07:39:26.195511Z"
    },
    "papermill": {
     "duration": 0.025928,
     "end_time": "2022-09-02T07:39:26.198817",
     "exception": false,
     "start_time": "2022-09-02T07:39:26.172889",
     "status": "completed"
    },
    "tags": []
   },
   "outputs": [
    {
     "name": "stdout",
     "output_type": "stream",
     "text": [
      "exported in  _build/html/2209.00363.md\n",
      "    + _build/html/tmp_2209.00363/./FRL49_HST_Inn.png\n",
      "    + _build/html/tmp_2209.00363/./FRL49_HST_Out.png\n",
      "    + _build/html/tmp_2209.00363/./FRL49_MCMC_sub2.jpg\n",
      "    + _build/html/tmp_2209.00363/./FRL49_HSTprof.jpg\n"
     ]
    }
   ],
   "source": [
    "for paper_id, md in documents:\n",
    "    export_markdown_summary(md, f\"{paper_id:s}.md\", '_build/html/')"
   ]
  },
  {
   "cell_type": "markdown",
   "id": "f087a0a7",
   "metadata": {
    "papermill": {
     "duration": 0.013301,
     "end_time": "2022-09-02T07:39:26.224496",
     "exception": false,
     "start_time": "2022-09-02T07:39:26.211195",
     "status": "completed"
    },
    "tags": []
   },
   "source": [
    "## Display the papers\n",
    "\n",
    "Not necessary but allows for a quick check."
   ]
  },
  {
   "cell_type": "code",
   "execution_count": 9,
   "id": "fd25f625",
   "metadata": {
    "execution": {
     "iopub.execute_input": "2022-09-02T07:39:26.250907Z",
     "iopub.status.busy": "2022-09-02T07:39:26.250017Z",
     "iopub.status.idle": "2022-09-02T07:39:26.257766Z",
     "shell.execute_reply": "2022-09-02T07:39:26.256867Z"
    },
    "papermill": {
     "duration": 0.022995,
     "end_time": "2022-09-02T07:39:26.260177",
     "exception": false,
     "start_time": "2022-09-02T07:39:26.237182",
     "status": "completed"
    },
    "scrolled": false,
    "tags": []
   },
   "outputs": [
    {
     "data": {
      "text/markdown": [
       "<div class=\"macros\" style=\"visibility:hidden;\">\n",
       "$\\newcommand{\\ensuremath}{}$\n",
       "$\\newcommand{\\xspace}{}$\n",
       "$\\newcommand{\\object}[1]{\\texttt{#1}}$\n",
       "$\\newcommand{\\farcs}{{.}''}$\n",
       "$\\newcommand{\\farcm}{{.}'}$\n",
       "$\\newcommand{\\arcsec}{''}$\n",
       "$\\newcommand{\\arcmin}{'}$\n",
       "$\\newcommand{\\ion}[2]{#1#2}$\n",
       "$\\newcommand{\\textsc}[1]{\\textrm{#1}}$\n",
       "$\\newcommand{\\hl}[1]{\\textrm{#1}}$\n",
       "$\\newcommand{\\kms}{\\ensuremath{\\mathrm{km} \\mathrm{s}^{-1}}}$\n",
       "$\\newcommand{\\MLsun}{\\ensuremath{\\mathrm{M}_{\\odot}/\\mathrm{L}_{\\odot}}}$\n",
       "$\\newcommand{\\Lsun}{\\ensuremath{\\mathrm{L}_{\\odot}}}$\n",
       "$\\newcommand{\\Msun}{\\ensuremath{\\mathrm{M}_{\\odot}}}$\n",
       "$\\newcommand{\\lumdens}{\\ensuremath{\\mathrm{L}_{\\odot} \\mathrm{pc}^{-2}}}$\n",
       "$\\newcommand{\\surfdens}{\\ensuremath{\\mathrm{M}_{\\odot} \\mathrm{pc}^{-2}}}$\n",
       "$\\newcommand{\\XCO}{\\ensuremath{X_\\mathrm{CO}}}$\n",
       "$\\newcommand{\\hi }{{\\rm H} {\\small\\rm I}}$\n",
       "$\\newcommand{\\thebibliography}{\\DeclareRobustCommand{\\VAN}[3]{##3}\\VANthebibliography}$</div>\n",
       "\n",
       "<div class=\"macros\" style=\"visibility:hidden;\">\n",
       "$\\newcommand{$\\ensuremath$}{}$\n",
       "$\\newcommand{$\\xspace$}{}$\n",
       "$\\newcommand{$\\object$}[1]{\\texttt{#1}}$\n",
       "$\\newcommand{$\\farcs$}{{.}''}$\n",
       "$\\newcommand{$\\farcm$}{{.}'}$\n",
       "$\\newcommand{$\\arcsec$}{''}$\n",
       "$\\newcommand{$\\arcmin$}{'}$\n",
       "$\\newcommand{$\\ion$}[2]{#1#2}$\n",
       "$\\newcommand{$\\textsc$}[1]{\\textrm{#1}}$\n",
       "$\\newcommand{$\\hl$}[1]{\\textrm{#1}}$\n",
       "$\\newcommand{$\\kms$}{$\\ensuremath${\\mathrm{km} \\mathrm{s}^{-1}}}$\n",
       "$\\newcommand{$\\MLsun$}{$\\ensuremath${\\mathrm{M}_{\\odot}/\\mathrm{L}_{\\odot}}}$\n",
       "$\\newcommand{$\\Lsun$}{$\\ensuremath${\\mathrm{L}_{\\odot}}}$\n",
       "$\\newcommand{$\\Msun$}{$\\ensuremath${\\mathrm{M}_{\\odot}}}$\n",
       "$\\newcommand{$\\lumdens$}{$\\ensuremath${\\mathrm{L}_{\\odot} \\mathrm{pc}^{-2}}}$\n",
       "$\\newcommand{$\\surfdens$}{$\\ensuremath${\\mathrm{M}_{\\odot} \\mathrm{pc}^{-2}}}$\n",
       "$\\newcommand{$\\XCO$}{$\\ensuremath${X_\\mathrm{CO}}}$\n",
       "$\\newcommand{$\\hi$ }{{\\rm H} {\\small\\rm I}}$\n",
       "$\\newcommand{$\\thebibliography$}{\\DeclareRobustCommand{\\VAN}[3]{##3}\\VANthebibliography}$</div>\n",
       "\n",
       "\n",
       "\n",
       "<div id=\"title\">\n",
       "\n",
       "# WISDOM Project - XIII. Feeding molecular gas to the supermassive black hole in the starburst AGN-host galaxy Fairall 49\n",
       "\n",
       "</div>\n",
       "<div id=\"comments\">\n",
       "\n",
       "[![arXiv](https://img.shields.io/badge/arXiv-2209.00363-b31b1b.svg)](https://arxiv.org/abs/2209.00363)<mark>Appeared on: 2022-09-02</mark> - _19 pages, 13 figures, accepted for publication in MNRAS_\n",
       "\n",
       "</div>\n",
       "<div id=\"authors\">\n",
       "\n",
       "Federico Lelli, et al. -- incl., <mark><mark>Mark D. Smith</mark></mark>, <mark><mark>Thomas G. Williams</mark></mark>\n",
       "\n",
       "</div>\n",
       "<div id=\"abstract\">\n",
       "\n",
       "**Abstract:** The mm-Wave Interferometric Survey of Dark Object Masses (WISDOM) is probing supermassive black holes (SMBHs) in galaxies across the Hubble sequence via molecular gas dynamics. We present the first WISDOM study of a luminous infrared galaxy with an active galactic nuclei (AGN): Fairall 49. We use new ALMA observations of the CO($2-1$) line with a spatial resolution of$\\sim$80 pc together with ancillary HST imaging. We reach the following results: (1) The CO kinematics are well described by a regularly rotating gas disk with a radial inflow motion, suggesting weak feedback on the cold gas from both AGN and starburst activity; (2) The dynamically inferred SMBH mass is$1.6\\pm0.4\\mathrm{(rnd)}\\pm0.8 \\mathrm{(sys)}\\times 10^{8}$\\Msunassuming that we have accurately subtracted the AGN and starburst light contributions, which have a luminosity of$\\sim$10$^9$L$_\\odot$; (3) The SMBH mass agrees with the SMBH$-$stellar mass relation but is$\\sim$50 times higher than previous estimates from X-ray variability; (4) The dynamically inferred molecular gas mass is 30 times smaller than that inferred from adopting the Galactic CO-to-H$_2$conversion factor ($\\XCO$) for thermalised gas, suggesting low values of$\\XCO$; (5) the molecular gas inflow rate increases steadily with radius and may be as high as$\\sim$5$M_\\odot$yr$^{-1}$. This work highlights the potential of using high-resolution CO data to estimate, in addition to SMBH masses, the X$_{\\rm CO}$factor and gas inflow rates in nearby galaxies.\n",
       "\n",
       "</div>\n",
       "\n",
       "<div id=\"div_fig1\">\n",
       "\n",
       "<img src=\"tmp_2209.00363/./FRL49_HST_Inn.png\" alt=\"Fig6.1\" width=\"50%\"/><img src=\"tmp_2209.00363/./FRL49_HST_Out.png\" alt=\"Fig6.2\" width=\"50%\"/>\n",
       "\n",
       "**Figure 6. -** HST/WFPC2 image of Fairall 49 in the F606W filter. The two panels show the same HST image but use a different color stretching to highlight different features in the galaxy. The left panel shows the inner spiral disk, while the right panel highlights the outer asymmetric stellar distribution superimposed with the CO(2-1) emission (cyan contours). Contours increase from 0.14 ($\\sim$3$\\sigma$) to 8 mJy beam$^{-1}$ km s$^{-1}$. The bar to the bottom-right corner equals $\\sim$2.5$\"$, corresponding to $\\sim$1 kpc for the assumed distance of 86.7 Mpc. North is up; East is left. (*fig:HST*)\n",
       "\n",
       "</div>\n",
       "<div id=\"div_fig2\">\n",
       "\n",
       "<img src=\"tmp_2209.00363/./FRL49_MCMC_sub2.jpg\" alt=\"Fig3\" width=\"100%\"/>\n",
       "\n",
       "**Figure 3. -** \\textit{Top panel:} The observed rotation curve (black dots with errorbars) is fitted with a mass model (blue solid line) that considers the gravitational contributions of stars (red dashed line), gas (green dotted line), black hole (black dash-dotted line) and DM halo (purple dash-dotted line). \\textit{Bottom panel:} gas inflow rate considering the molecular gas mass from the mass model. The error bars comprise the uncertainties on $V_{\\rm rad}$ only; the uncertainties on $M_{\\rm gas}$ have a systematic effect, shifting the inner peak up and down (see Eq. \\ref{eq:inflow}). (*fig:massmodel*)\n",
       "\n",
       "</div>\n",
       "<div id=\"div_fig3\">\n",
       "\n",
       "<img src=\"tmp_2209.00363/./FRL49_HSTprof.jpg\" alt=\"Fig1\" width=\"100%\"/>\n",
       "\n",
       "**Figure 1. -** Surface brightness profile of Fairall 49 from the HST/WFPC2 image in the F606W filter. The dashed line shows an exponential fit to the outer parts. The inset zooms at small radii ($R<0.7$ kpc): the blue circles corresponds to the inner HSB component that is likely dominated by the AGN and/or starburst emission, the red circles shows the inward exponential extrapolation of the stellar component. See text for details. (*fig:sbp*)\n",
       "\n",
       "</div>"
      ],
      "text/plain": [
       "<IPython.core.display.Markdown object>"
      ]
     },
     "metadata": {},
     "output_type": "display_data"
    }
   ],
   "source": [
    "[display(Markdown(k[1])) for k in documents];"
   ]
  },
  {
   "cell_type": "markdown",
   "id": "873873a4",
   "metadata": {
    "papermill": {
     "duration": 0.014075,
     "end_time": "2022-09-02T07:39:26.285815",
     "exception": false,
     "start_time": "2022-09-02T07:39:26.271740",
     "status": "completed"
    },
    "tags": []
   },
   "source": [
    "# Create HTML index"
   ]
  },
  {
   "cell_type": "code",
   "execution_count": 10,
   "id": "cf665672",
   "metadata": {
    "execution": {
     "iopub.execute_input": "2022-09-02T07:39:26.313975Z",
     "iopub.status.busy": "2022-09-02T07:39:26.313234Z",
     "iopub.status.idle": "2022-09-02T07:39:26.324570Z",
     "shell.execute_reply": "2022-09-02T07:39:26.323343Z"
    },
    "papermill": {
     "duration": 0.028652,
     "end_time": "2022-09-02T07:39:26.326879",
     "exception": false,
     "start_time": "2022-09-02T07:39:26.298227",
     "status": "completed"
    },
    "tags": []
   },
   "outputs": [
    {
     "name": "stdout",
     "output_type": "stream",
     "text": [
      "22  publications in the last 7 days.\n",
      "\t _build/html/2209.00363.md\n",
      "\t _build/html/2208.14927.md\n",
      "\t _build/html/2208.09335.md\n",
      "\t _build/html/2208.08872.md\n",
      "\t _build/html/2204.06393.md\n",
      "\t _build/html/2204.03335.md\n",
      "\t _build/html/2204.03253.md\n",
      "\t _build/html/2204.02998.md\n",
      "\t _build/html/2204.02109.md\n",
      "\t _build/html/2204.02017.md\n",
      "\t _build/html/2204.01824.md\n",
      "\t _build/html/2204.01758.md\n",
      "\t _build/html/2204.01245.md\n",
      "\t _build/html/2204.00793.md\n",
      "\t _build/html/2204.00342.md\n",
      "\t _build/html/2203.16959.md\n",
      "\t _build/html/2203.16856.md\n",
      "\t _build/html/2203.16735.md\n",
      "\t _build/html/2203.16734.md\n",
      "\t _build/html/2203.16504.md\n",
      "\t _build/html/2203.15822.md\n",
      "\t _build/html/2203.15811.md\n"
     ]
    }
   ],
   "source": [
    "from datetime import datetime, timedelta, timezone\n",
    "from glob import glob\n",
    "\n",
    "files = glob('_build/html/*.md')\n",
    "days = 7\n",
    "now = datetime.today()\n",
    "res = []\n",
    "for fk in files:\n",
    "    stat_result = os.stat(fk).st_ctime\n",
    "    modified = datetime.fromtimestamp(stat_result, tz=timezone.utc).replace(tzinfo=None)\n",
    "    delta = now.today() - modified\n",
    "    if delta <= timedelta(days=days):\n",
    "        res.append((delta.seconds, fk))\n",
    "res = [k[1] for k in reversed(sorted(res, key=lambda x:x[1]))]\n",
    "npub = len(res)\n",
    "print(len(res), f\" publications in the last {days:d} days.\")\n",
    "[ print('\\t', k) for k in res ];"
   ]
  },
  {
   "cell_type": "code",
   "execution_count": 11,
   "id": "52ca0208",
   "metadata": {
    "execution": {
     "iopub.execute_input": "2022-09-02T07:39:26.355213Z",
     "iopub.status.busy": "2022-09-02T07:39:26.354597Z",
     "iopub.status.idle": "2022-09-02T07:39:26.364308Z",
     "shell.execute_reply": "2022-09-02T07:39:26.363276Z"
    },
    "papermill": {
     "duration": 0.025762,
     "end_time": "2022-09-02T07:39:26.366490",
     "exception": false,
     "start_time": "2022-09-02T07:39:26.340728",
     "status": "completed"
    },
    "scrolled": false,
    "tags": []
   },
   "outputs": [],
   "source": [
    "def create_carousel(npub=4):\n",
    "    \"\"\" Generate the HTML code for a carousel with `npub` slides \"\"\"\n",
    "    carousel = [\"\"\"<section class=\"carousel\" aria-label=\"Gallery\">\"\"\",\n",
    "                \"\"\"  <ol class=\"carousel__viewport\">\"\"\",\n",
    "    ]\n",
    "    for k in range(1, npub + 1):\n",
    "        prev_ = k - 1\n",
    "        next_ = k + 1\n",
    "        if prev_ <= 0:\n",
    "            prev_ = npub\n",
    "        if next_ > npub:\n",
    "            next_ = 1\n",
    "        text  = f\"\"\"    <li id=\"carousel__slide{k}\" tabindex=\"0\" class=\"carousel__slide\">\\n\"\"\"\n",
    "        text += f\"\"\"       <div class=\"carousel__snapper\">\\n\"\"\"\n",
    "        text += f\"\"\"         <a href=\"#carousel__slide{prev_}\" class=\"carousel__prev\">Go to previous slide</a>\\n\"\"\"\n",
    "        text += f\"\"\"         <a href=\"#carousel__slide{next_}\" class=\"carousel__next\">Go to next slide</a>\\n\"\"\"\n",
    "        text += f\"\"\"         <div id=\"slide{k}_content\" class=\"md_view\" >Content {k}</div>\\n\"\"\"\n",
    "        text += f\"\"\"       </div>\\n\"\"\"\n",
    "        text += f\"\"\"    </li>\"\"\"\n",
    "        carousel.append(text)\n",
    "\n",
    "    carousel.extend([\n",
    "        \"\"\"  </ol>\"\"\",\n",
    "        \"\"\"  <aside class=\"carousel__navigation\">\"\"\",\n",
    "        \"\"\"    <ol class=\"carousel__navigation-list\">\"\"\"])\n",
    "\n",
    "    for k in range(1, npub + 1):\n",
    "        text  = f\"\"\"      <li class=\"carousel__navigation-item\">\\n\"\"\"\n",
    "        text += f\"\"\"        <a href=\"#carousel__slide{k}\" class=\"carousel__navigation-button\">Go to {k}</a>\\n\"\"\"\n",
    "        text += f\"\"\"      </li>\"\"\"\n",
    "        carousel.append(text)\n",
    "    carousel.extend([\"\"\"    </ol>\"\"\", \"\"\"  </aside>\"\"\", \"\"\"</section>\"\"\"])\n",
    "\n",
    "    return '\\n'.join(carousel)"
   ]
  },
  {
   "cell_type": "code",
   "execution_count": 12,
   "id": "a6eac5b6",
   "metadata": {
    "execution": {
     "iopub.execute_input": "2022-09-02T07:39:26.394465Z",
     "iopub.status.busy": "2022-09-02T07:39:26.393736Z",
     "iopub.status.idle": "2022-09-02T07:39:26.407296Z",
     "shell.execute_reply": "2022-09-02T07:39:26.406227Z"
    },
    "papermill": {
     "duration": 0.031313,
     "end_time": "2022-09-02T07:39:26.410855",
     "exception": false,
     "start_time": "2022-09-02T07:39:26.379542",
     "status": "completed"
    },
    "scrolled": false,
    "tags": []
   },
   "outputs": [],
   "source": [
    "carousel = create_carousel(npub)\n",
    "docs = ', '.join(['\"{0:s}\"'.format(k.split('/')[-1]) for k in res])\n",
    "slides = ', '.join([f'\"slide{k}_content\"' for k in range(1, npub + 1)])\n",
    "\n",
    "script = f\"\"\"\n",
    "const docs = [{docs}]\n",
    "\n",
    "const slides = [{slides}]\n",
    "\"\"\" + \"\"\"\n",
    "async function run() {\n",
    "    for (let i = 0; i < docs.length; i++) {\n",
    "        let file = await fetch(docs[i]);\n",
    "        let text = await file.text()\n",
    "        document.getElementById(slides[i]).innerHTML =\n",
    "            marked.parse(text);\n",
    "    }\n",
    "    hljs.highlightAll();\n",
    "}\n",
    "run()\n",
    "\"\"\"\n",
    "\n",
    "page = f\"\"\"<!doctype html>\n",
    "<html lang=\"en\">\n",
    "\n",
    "<head>\n",
    "  <meta charset=\"utf-8\">\n",
    "  <meta name=\"viewport\" content=\"width=device-width, initial-scale=1\">\n",
    "  <!-- Bootstrap CSS -->\n",
    "  <link href=\"https://cdn.jsdelivr.net/npm/bootstrap@5.0.2/dist/css/bootstrap.min.css\" rel=\"stylesheet\"\n",
    "   integrity=\"sha384-EVSTQN3/azprG1Anm3QDgpJLIm9Nao0Yz1ztcQTwFspd3yD65VohhpuuCOmLASjC\" crossorigin=\"anonymous\">\n",
    "  <!-- highlight.js CSS -->\n",
    "  <link rel=\"stylesheet\" href=\"https://cdnjs.cloudflare.com/ajax/libs/highlight.js/11.1.0/styles/default.min.css\">\n",
    "  <!-- Mathjax 3 -->\n",
    "  <script type=\"text/javascript\" id=\"MathJax-config\" src=\"mathjax_config.js\"> </script>\n",
    "  <script type=\"text/javascript\" id=\"MathJax-script\" async \n",
    "    src=\"https://cdn.jsdelivr.net/npm/mathjax@3/es5/tex-mml-chtml.js\">\n",
    "  </script>\n",
    "  <link rel=\"stylesheet\" href=\"index_carousel.css\">\n",
    "  <link rel=\"icon\" type=\"image/x-icon\" href=\"https://www.mpia.de/assets/touch-icon-32x32-a66937bcebc4e8894ebff1f41a366c7c7220fd97a38869ee0f2db65a9f59b6c1.png\">\n",
    "  <title>MPIA Arxiv on deck!</title>\n",
    "</head>\n",
    "\n",
    "<body>\n",
    "  <div id=\"header\"> <img src=\"header_banner.png\" width=\"100%\"></div>\n",
    "  <div id=\"suptitle\"> 7-day archives </div>\n",
    "  <div id=\"info\">\n",
    "    <img src=\"https://pngimg.com/uploads/github/github_PNG58.png\" height=30rem></img>\n",
    "    <a href=https://github.com/mpi-astronomy/arxiv_display style=\"color:black;\">github/mpi-astronomy/arxiv_display</a> \n",
    "  </div>\n",
    "  {carousel:s}\n",
    "</body>\n",
    "\n",
    "<!-- Render Markdown -->\n",
    "\n",
    "<body>\n",
    "  <!-- highlight.js: https://highlightjs.org/download/ -->\n",
    "  <script src=\"https://cdnjs.cloudflare.com/ajax/libs/highlight.js/11.5.0/highlight.min.js\"></script>\n",
    "  <!-- marked.js -->\n",
    "  <script src=\"https://cdn.jsdelivr.net/npm/marked/marked.min.js\"></script>\n",
    "  <script>{script:s}</script>\n",
    "</body>\n",
    "</html>\n",
    "\"\"\"\n",
    "with open(\"_build/html/index_7days.html\", 'w') as fout:\n",
    "    fout.write(page)"
   ]
  },
  {
   "cell_type": "markdown",
   "id": "1cebacbc",
   "metadata": {
    "papermill": {
     "duration": 0.013071,
     "end_time": "2022-09-02T07:39:26.437573",
     "exception": false,
     "start_time": "2022-09-02T07:39:26.424502",
     "status": "completed"
    },
    "tags": []
   },
   "source": [
    "# Debugging papers"
   ]
  },
  {
   "cell_type": "raw",
   "id": "debe7cc6",
   "metadata": {
    "papermill": {
     "duration": 0.013101,
     "end_time": "2022-09-02T07:39:26.507554",
     "exception": false,
     "start_time": "2022-09-02T07:39:26.494453",
     "status": "completed"
    },
    "tags": []
   },
   "source": [
    "raise NotImplementedError(\"Manual Stop\")"
   ]
  },
  {
   "cell_type": "raw",
   "id": "eb169192",
   "metadata": {
    "papermill": {
     "duration": 0.012635,
     "end_time": "2022-09-02T07:39:26.533551",
     "exception": false,
     "start_time": "2022-09-02T07:39:26.520916",
     "status": "completed"
    },
    "scrolled": true,
    "tags": []
   },
   "source": [
    "from IPython.display import display, Markdown\n",
    "from TexSoup import TexSoup\n",
    "import re\n",
    "\n",
    "def bracket_error(source: str):\n",
    "    \"\"\" Find problematic portions of the document \"\"\"\n",
    "    \n",
    "    print(\"len(source)\", len(source))\n",
    "    \n",
    "    # Checking header\n",
    "    begin_doc = next(re.finditer(r'\\\\begin\\{document\\}', doc.source)).span()[1]\n",
    "    header = source[:begin_doc]\n",
    "    text = header + r\"\\n\\end{document}\"\n",
    "\n",
    "    try:\n",
    "        # print(\"Header check... \", end='')\n",
    "        TexSoup(text)\n",
    "        display(Markdown(f\"**[OK]** - Header\"))\n",
    "    except:\n",
    "        raise RuntimeError(\"Error in the header\")\n",
    "        \n",
    "    # Check the text per section until the end.\n",
    "    # Do not stop and try them all.\n",
    "    \n",
    "    problematic_text = []\n",
    "    \n",
    "    sections = ([(0, begin_doc, 'until first section')] + \n",
    "                [(g.span()[0], g.span()[1], g.group()) for g in re.finditer(r'\\\\section\\{.*\\}', source)] +\n",
    "                [(g.span()[0], g.span()[1], g.group()) for g in re.finditer(r'\\\\begin\\{appendix\\}', source)]\n",
    "               )\n",
    "    sections.append([len(source), len(source), 'end'])\n",
    "    \n",
    "    sections = sorted(sections, key=lambda x: x[0])\n",
    "    \n",
    "    prev_pos, prev_name = (0, 'header')\n",
    "    parsed = []\n",
    "    \n",
    "    for span, span_end, name in sections:\n",
    "\n",
    "        if span - prev_pos <= 0:\n",
    "            continue\n",
    "            \n",
    "\n",
    "        text = source[prev_pos:span]\n",
    "        if prev_pos > begin_doc:\n",
    "            text = r\"\\n\\begin{document}\" + text + r\"\\n\\end{document}\"\n",
    "        else:\n",
    "            text = text + r\"\\n\\end{document}\"\n",
    "        try:\n",
    "            #print(f\"{prev_pos}:{prev_name}-->{span}:{name} check... \", end='')\n",
    "            parsed.append(TexSoup(text, tolerance=1))  # allow not ending env\n",
    "            display(Markdown(f\"**[OK]** - *{prev_pos}*:{prev_name} &rarr; *{span}*:{name}\"))\n",
    "            # print(\"ok\")\n",
    "\n",
    "            prev_pos = span\n",
    "            prev_name = name\n",
    "        except:\n",
    "            # print(f\"error between {prev_pos} and {span}\")\n",
    "            display(Markdown(f\"**[ERR]** *{prev_pos}*:{prev_name} &rarr; *{span}*:{name}\"))\n",
    "            problematic_text.append((prev_pos, source[prev_pos:span]))\n",
    "            prev_pos = span\n",
    "            prev_name = name\n",
    "            # raise\n",
    "    return problematic_text, parsed\n",
    "\n",
    "\n",
    "def check_environment(text, offset=0):\n",
    "    \"\"\" Check environment \"\"\"\n",
    "    env = re.compile(r\"\\\\begin\\{(?P<env>.*)\\}(.*)\\\\end\\{(?P=env)\\}\", re.DOTALL)\n",
    "\n",
    "    for match in env.finditer(text):\n",
    "        beg, end = match.span()\n",
    "        beg += offset\n",
    "        end += offset\n",
    "        envname = match.groups()[0]\n",
    "        try:\n",
    "            latex.TexSoup(match.group())\n",
    "        except Exception as e:\n",
    "            display(e)\n",
    "            print(f\"Error in {envname:s} between {beg} and {end}\")\n",
    "            return match.groups()[1], beg, end"
   ]
  },
  {
   "cell_type": "raw",
   "id": "2315e835",
   "metadata": {
    "papermill": {
     "duration": 0.013631,
     "end_time": "2022-09-02T07:39:26.559545",
     "exception": false,
     "start_time": "2022-09-02T07:39:26.545914",
     "status": "completed"
    },
    "scrolled": false,
    "tags": []
   },
   "source": [
    "import importlib\n",
    "importlib.reload(latex)\n",
    "which = \"2204.03253\"\n",
    "paper_id = f'{which:s}'\n",
    "folder = f'tmp_{paper_id:s}'\n",
    "\n",
    "if not os.path.isdir(folder):\n",
    "    folder = retrieve_document_source(f\"{paper_id}\", f'tmp_{paper_id}')\n",
    "\n",
    "try:\n",
    "    doc = latex.LatexDocument(folder, validation=validation)    \n",
    "except AffiliationError as affilerror:\n",
    "    msg = f\"ArXiv:{paper_id:s} is not an MPIA paper... \" + str(affilerror)\n",
    "    print(msg)\n",
    "\n",
    "\n",
    "# Hack because sometimes author parsing does not work well\n",
    "if (len(doc.authors) != len(paper['authors'])):\n",
    "    doc._authors = paper['authors']\n",
    "if (doc.abstract) in (None, ''):\n",
    "    doc._abstract = paper['abstract']\n",
    "\n",
    "doc.comment = get_markdown_badge(paper_id) + \" _\" + paper['comments'] + \"_\"\n",
    "doc.highlight_authors_in_list(hl_list)\n",
    "\n",
    "full_md = doc.generate_markdown_text()"
   ]
  },
  {
   "cell_type": "raw",
   "id": "dd3781db",
   "metadata": {
    "papermill": {
     "duration": 0.015591,
     "end_time": "2022-09-02T07:39:26.588377",
     "exception": false,
     "start_time": "2022-09-02T07:39:26.572786",
     "status": "completed"
    },
    "scrolled": false,
    "tags": []
   },
   "source": [
    "doc"
   ]
  },
  {
   "cell_type": "raw",
   "id": "c6eed834",
   "metadata": {
    "papermill": {
     "duration": 0.012208,
     "end_time": "2022-09-02T07:39:26.612972",
     "exception": false,
     "start_time": "2022-09-02T07:39:26.600764",
     "status": "completed"
    },
    "tags": []
   },
   "source": [
    "# [check_environment(k) for k in bracket_error(doc.source)]\n",
    "_, _, a = latex.get_content_per_section(doc.source, verbose=True)\n",
    "if not a:\n",
    "    print(\"no issues per section\")\n",
    "for ak in a:\n",
    "    r = check_environment(ak[1], offset=ak[0])\n",
    "    print(r[1], r[2])\n",
    "    print(r[0])"
   ]
  },
  {
   "cell_type": "code",
   "execution_count": null,
   "id": "71ce768a",
   "metadata": {
    "papermill": {
     "duration": 0.012143,
     "end_time": "2022-09-02T07:39:26.636635",
     "exception": false,
     "start_time": "2022-09-02T07:39:26.624492",
     "status": "completed"
    },
    "tags": []
   },
   "outputs": [],
   "source": []
  }
 ],
 "metadata": {
  "kernelspec": {
   "display_name": "Python 3.10.6 64-bit",
   "language": "python",
   "name": "python3"
  },
  "language_info": {
   "codemirror_mode": {
    "name": "ipython",
    "version": 3
   },
   "file_extension": ".py",
   "mimetype": "text/x-python",
   "name": "python",
   "nbconvert_exporter": "python",
   "pygments_lexer": "ipython3",
   "version": "3.9.13"
  },
  "papermill": {
   "default_parameters": {},
   "duration": 299.539528,
   "end_time": "2022-09-02T07:39:26.969083",
   "environment_variables": {},
   "exception": null,
   "input_path": "MPIA daily digest.ipynb",
   "output_path": "log.ipynb",
   "parameters": {},
   "start_time": "2022-09-02T07:34:27.429555",
   "version": "2.4.0"
  },
  "vscode": {
   "interpreter": {
    "hash": "e7370f93d1d0cde622a1f8e1c04877d8463912d04d973331ad4851f04de6915a"
   }
  },
  "widgets": {
   "application/vnd.jupyter.widget-state+json": {
    "state": {
     "13d17392c877434bb6f574ee2d9eb0a9": {
      "model_module": "@jupyter-widgets/base",
      "model_module_version": "2.0.0",
      "model_name": "LayoutModel",
      "state": {
       "_model_module": "@jupyter-widgets/base",
       "_model_module_version": "2.0.0",
       "_model_name": "LayoutModel",
       "_view_count": null,
       "_view_module": "@jupyter-widgets/base",
       "_view_module_version": "2.0.0",
       "_view_name": "LayoutView",
       "align_content": null,
       "align_items": null,
       "align_self": null,
       "border_bottom": null,
       "border_left": null,
       "border_right": null,
       "border_top": null,
       "bottom": null,
       "display": null,
       "flex": null,
       "flex_flow": null,
       "grid_area": null,
       "grid_auto_columns": null,
       "grid_auto_flow": null,
       "grid_auto_rows": null,
       "grid_column": null,
       "grid_gap": null,
       "grid_row": null,
       "grid_template_areas": null,
       "grid_template_columns": null,
       "grid_template_rows": null,
       "height": null,
       "justify_content": null,
       "justify_items": null,
       "left": null,
       "margin": null,
       "max_height": null,
       "max_width": null,
       "min_height": null,
       "min_width": null,
       "object_fit": null,
       "object_position": null,
       "order": null,
       "overflow": null,
       "padding": null,
       "right": null,
       "top": null,
       "visibility": null,
       "width": null
      }
     },
     "3ab1f62989b745b88d26828076bc3898": {
      "model_module": "@jupyter-widgets/base",
      "model_module_version": "2.0.0",
      "model_name": "LayoutModel",
      "state": {
       "_model_module": "@jupyter-widgets/base",
       "_model_module_version": "2.0.0",
       "_model_name": "LayoutModel",
       "_view_count": null,
       "_view_module": "@jupyter-widgets/base",
       "_view_module_version": "2.0.0",
       "_view_name": "LayoutView",
       "align_content": null,
       "align_items": null,
       "align_self": null,
       "border_bottom": null,
       "border_left": null,
       "border_right": null,
       "border_top": null,
       "bottom": null,
       "display": null,
       "flex": null,
       "flex_flow": null,
       "grid_area": null,
       "grid_auto_columns": null,
       "grid_auto_flow": null,
       "grid_auto_rows": null,
       "grid_column": null,
       "grid_gap": null,
       "grid_row": null,
       "grid_template_areas": null,
       "grid_template_columns": null,
       "grid_template_rows": null,
       "height": null,
       "justify_content": null,
       "justify_items": null,
       "left": null,
       "margin": null,
       "max_height": null,
       "max_width": null,
       "min_height": null,
       "min_width": null,
       "object_fit": null,
       "object_position": null,
       "order": null,
       "overflow": null,
       "padding": null,
       "right": null,
       "top": null,
       "visibility": null,
       "width": null
      }
     },
     "3c8e7ffbfdf94784b179bbe568f1e883": {
      "model_module": "@jupyter-widgets/controls",
      "model_module_version": "2.0.0",
      "model_name": "HTMLModel",
      "state": {
       "_dom_classes": [],
       "_model_module": "@jupyter-widgets/controls",
       "_model_module_version": "2.0.0",
       "_model_name": "HTMLModel",
       "_view_count": null,
       "_view_module": "@jupyter-widgets/controls",
       "_view_module_version": "2.0.0",
       "_view_name": "HTMLView",
       "description": "",
       "description_allow_html": false,
       "layout": "IPY_MODEL_63797cf6f55041d28013ac4ac4d66d04",
       "placeholder": "​",
       "style": "IPY_MODEL_7bb2f4930cb54b9482c91d4dfb2c1f8c",
       "tabbable": null,
       "tooltip": null,
       "value": "100%"
      }
     },
     "4181ec077370428487957de1c27eca03": {
      "model_module": "@jupyter-widgets/controls",
      "model_module_version": "2.0.0",
      "model_name": "FloatProgressModel",
      "state": {
       "_dom_classes": [],
       "_model_module": "@jupyter-widgets/controls",
       "_model_module_version": "2.0.0",
       "_model_name": "FloatProgressModel",
       "_view_count": null,
       "_view_module": "@jupyter-widgets/controls",
       "_view_module_version": "2.0.0",
       "_view_name": "ProgressView",
       "bar_style": "success",
       "description": "",
       "description_allow_html": false,
       "layout": "IPY_MODEL_13d17392c877434bb6f574ee2d9eb0a9",
       "max": 19.0,
       "min": 0.0,
       "orientation": "horizontal",
       "style": "IPY_MODEL_7ff61d4b286f48c9bd5b82fe3bb7d796",
       "tabbable": null,
       "tooltip": null,
       "value": 19.0
      }
     },
     "502d5965359a4b0996bc99d52f166ab6": {
      "model_module": "@jupyter-widgets/controls",
      "model_module_version": "2.0.0",
      "model_name": "HBoxModel",
      "state": {
       "_dom_classes": [],
       "_model_module": "@jupyter-widgets/controls",
       "_model_module_version": "2.0.0",
       "_model_name": "HBoxModel",
       "_view_count": null,
       "_view_module": "@jupyter-widgets/controls",
       "_view_module_version": "2.0.0",
       "_view_name": "HBoxView",
       "box_style": "",
       "children": [
        "IPY_MODEL_3c8e7ffbfdf94784b179bbe568f1e883",
        "IPY_MODEL_4181ec077370428487957de1c27eca03",
        "IPY_MODEL_984f4c26c31949c492aa223c0e86ac19"
       ],
       "layout": "IPY_MODEL_bd730c0ef4424c9e8a65631ca474d9ec",
       "tabbable": null,
       "tooltip": null
      }
     },
     "63797cf6f55041d28013ac4ac4d66d04": {
      "model_module": "@jupyter-widgets/base",
      "model_module_version": "2.0.0",
      "model_name": "LayoutModel",
      "state": {
       "_model_module": "@jupyter-widgets/base",
       "_model_module_version": "2.0.0",
       "_model_name": "LayoutModel",
       "_view_count": null,
       "_view_module": "@jupyter-widgets/base",
       "_view_module_version": "2.0.0",
       "_view_name": "LayoutView",
       "align_content": null,
       "align_items": null,
       "align_self": null,
       "border_bottom": null,
       "border_left": null,
       "border_right": null,
       "border_top": null,
       "bottom": null,
       "display": null,
       "flex": null,
       "flex_flow": null,
       "grid_area": null,
       "grid_auto_columns": null,
       "grid_auto_flow": null,
       "grid_auto_rows": null,
       "grid_column": null,
       "grid_gap": null,
       "grid_row": null,
       "grid_template_areas": null,
       "grid_template_columns": null,
       "grid_template_rows": null,
       "height": null,
       "justify_content": null,
       "justify_items": null,
       "left": null,
       "margin": null,
       "max_height": null,
       "max_width": null,
       "min_height": null,
       "min_width": null,
       "object_fit": null,
       "object_position": null,
       "order": null,
       "overflow": null,
       "padding": null,
       "right": null,
       "top": null,
       "visibility": null,
       "width": null
      }
     },
     "7bb2f4930cb54b9482c91d4dfb2c1f8c": {
      "model_module": "@jupyter-widgets/controls",
      "model_module_version": "2.0.0",
      "model_name": "HTMLStyleModel",
      "state": {
       "_model_module": "@jupyter-widgets/controls",
       "_model_module_version": "2.0.0",
       "_model_name": "HTMLStyleModel",
       "_view_count": null,
       "_view_module": "@jupyter-widgets/base",
       "_view_module_version": "2.0.0",
       "_view_name": "StyleView",
       "background": null,
       "description_width": "",
       "font_size": null,
       "text_color": null
      }
     },
     "7ff61d4b286f48c9bd5b82fe3bb7d796": {
      "model_module": "@jupyter-widgets/controls",
      "model_module_version": "2.0.0",
      "model_name": "ProgressStyleModel",
      "state": {
       "_model_module": "@jupyter-widgets/controls",
       "_model_module_version": "2.0.0",
       "_model_name": "ProgressStyleModel",
       "_view_count": null,
       "_view_module": "@jupyter-widgets/base",
       "_view_module_version": "2.0.0",
       "_view_name": "StyleView",
       "bar_color": null,
       "description_width": ""
      }
     },
     "984f4c26c31949c492aa223c0e86ac19": {
      "model_module": "@jupyter-widgets/controls",
      "model_module_version": "2.0.0",
      "model_name": "HTMLModel",
      "state": {
       "_dom_classes": [],
       "_model_module": "@jupyter-widgets/controls",
       "_model_module_version": "2.0.0",
       "_model_name": "HTMLModel",
       "_view_count": null,
       "_view_module": "@jupyter-widgets/controls",
       "_view_module_version": "2.0.0",
       "_view_name": "HTMLView",
       "description": "",
       "description_allow_html": false,
       "layout": "IPY_MODEL_3ab1f62989b745b88d26828076bc3898",
       "placeholder": "​",
       "style": "IPY_MODEL_baf43f6d52f54dd9a580ea9b9dd2faea",
       "tabbable": null,
       "tooltip": null,
       "value": " 19/19 [04:28&lt;00:00, 12.66s/it]"
      }
     },
     "baf43f6d52f54dd9a580ea9b9dd2faea": {
      "model_module": "@jupyter-widgets/controls",
      "model_module_version": "2.0.0",
      "model_name": "HTMLStyleModel",
      "state": {
       "_model_module": "@jupyter-widgets/controls",
       "_model_module_version": "2.0.0",
       "_model_name": "HTMLStyleModel",
       "_view_count": null,
       "_view_module": "@jupyter-widgets/base",
       "_view_module_version": "2.0.0",
       "_view_name": "StyleView",
       "background": null,
       "description_width": "",
       "font_size": null,
       "text_color": null
      }
     },
     "bd730c0ef4424c9e8a65631ca474d9ec": {
      "model_module": "@jupyter-widgets/base",
      "model_module_version": "2.0.0",
      "model_name": "LayoutModel",
      "state": {
       "_model_module": "@jupyter-widgets/base",
       "_model_module_version": "2.0.0",
       "_model_name": "LayoutModel",
       "_view_count": null,
       "_view_module": "@jupyter-widgets/base",
       "_view_module_version": "2.0.0",
       "_view_name": "LayoutView",
       "align_content": null,
       "align_items": null,
       "align_self": null,
       "border_bottom": null,
       "border_left": null,
       "border_right": null,
       "border_top": null,
       "bottom": null,
       "display": null,
       "flex": null,
       "flex_flow": null,
       "grid_area": null,
       "grid_auto_columns": null,
       "grid_auto_flow": null,
       "grid_auto_rows": null,
       "grid_column": null,
       "grid_gap": null,
       "grid_row": null,
       "grid_template_areas": null,
       "grid_template_columns": null,
       "grid_template_rows": null,
       "height": null,
       "justify_content": null,
       "justify_items": null,
       "left": null,
       "margin": null,
       "max_height": null,
       "max_width": null,
       "min_height": null,
       "min_width": null,
       "object_fit": null,
       "object_position": null,
       "order": null,
       "overflow": null,
       "padding": null,
       "right": null,
       "top": null,
       "visibility": null,
       "width": null
      }
     }
    },
    "version_major": 2,
    "version_minor": 0
   }
  }
 },
 "nbformat": 4,
 "nbformat_minor": 5
}