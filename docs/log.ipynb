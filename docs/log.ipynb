{
 "cells": [
  {
   "cell_type": "markdown",
   "id": "92bcb855",
   "metadata": {
    "papermill": {
     "duration": 0.007147,
     "end_time": "2022-12-26T04:05:32.747898",
     "exception": false,
     "start_time": "2022-12-26T04:05:32.740751",
     "status": "completed"
    },
    "tags": []
   },
   "source": [
    "# MPIA Arxiv on Deck 2\n",
    "\n",
    "Contains the steps to produce the paper extractions."
   ]
  },
  {
   "cell_type": "code",
   "execution_count": 1,
   "id": "3a0d6e11",
   "metadata": {
    "execution": {
     "iopub.execute_input": "2022-12-26T04:05:32.759210Z",
     "iopub.status.busy": "2022-12-26T04:05:32.758848Z",
     "iopub.status.idle": "2022-12-26T04:05:32.984920Z",
     "shell.execute_reply": "2022-12-26T04:05:32.983908Z"
    },
    "papermill": {
     "duration": 0.234088,
     "end_time": "2022-12-26T04:05:32.987233",
     "exception": false,
     "start_time": "2022-12-26T04:05:32.753145",
     "status": "completed"
    },
    "tags": []
   },
   "outputs": [],
   "source": [
    "# Imports\n",
    "import os\n",
    "from IPython.display import Markdown, display\n",
    "from tqdm.notebook import tqdm\n",
    "import warnings\n",
    "from PIL import Image \n",
    "\n",
    "# requires arxiv_on_deck_2\n",
    "\n",
    "from arxiv_on_deck_2.arxiv2 import (get_new_papers, \n",
    "                                    get_paper_from_identifier,\n",
    "                                    retrieve_document_source, \n",
    "                                    get_markdown_badge)\n",
    "from arxiv_on_deck_2 import (latex, \n",
    "                             mpia,\n",
    "                             highlight_authors_in_list)\n",
    "\n",
    "# Sometimes images are really big\n",
    "Image.MAX_IMAGE_PIXELS = 1000000000 "
   ]
  },
  {
   "cell_type": "code",
   "execution_count": 2,
   "id": "22aa9d44",
   "metadata": {
    "execution": {
     "iopub.execute_input": "2022-12-26T04:05:33.000056Z",
     "iopub.status.busy": "2022-12-26T04:05:32.999504Z",
     "iopub.status.idle": "2022-12-26T04:05:33.006110Z",
     "shell.execute_reply": "2022-12-26T04:05:33.004855Z"
    },
    "papermill": {
     "duration": 0.016068,
     "end_time": "2022-12-26T04:05:33.008387",
     "exception": false,
     "start_time": "2022-12-26T04:05:32.992319",
     "status": "completed"
    },
    "tags": []
   },
   "outputs": [],
   "source": [
    "# Some useful definitions.\n",
    "\n",
    "class AffiliationWarning(UserWarning):\n",
    "    pass\n",
    "\n",
    "class AffiliationError(RuntimeError):\n",
    "    pass\n",
    "\n",
    "def validation(source: str):\n",
    "    \"\"\"Raises error paper during parsing of source file\n",
    "    \n",
    "    Allows checks before parsing TeX code.\n",
    "    \n",
    "    Raises AffiliationWarning\n",
    "    \"\"\"\n",
    "    check = mpia.affiliation_verifications(source, verbose=True)\n",
    "    if check is not True:\n",
    "        raise AffiliationError(\"mpia.affiliation_verifications: \" + check)\n",
    "\n",
    "        \n",
    "warnings.simplefilter('always', AffiliationWarning)"
   ]
  },
  {
   "cell_type": "code",
   "execution_count": 3,
   "id": "14622700",
   "metadata": {
    "execution": {
     "iopub.execute_input": "2022-12-26T04:05:33.019335Z",
     "iopub.status.busy": "2022-12-26T04:05:33.019062Z",
     "iopub.status.idle": "2022-12-26T04:05:33.024985Z",
     "shell.execute_reply": "2022-12-26T04:05:33.024060Z"
    },
    "papermill": {
     "duration": 0.013548,
     "end_time": "2022-12-26T04:05:33.026831",
     "exception": false,
     "start_time": "2022-12-26T04:05:33.013283",
     "status": "completed"
    },
    "tags": []
   },
   "outputs": [],
   "source": [
    "# additional CSS to consider. \n",
    "# TODO: Current into each exported file. \n",
    "#       This should be set once into the webpages directly.\n",
    "#       With only the class/id definitions in the .md files.\n",
    "\n",
    "debug_html = \"\"\"\n",
    "<style>\n",
    "#wrap{ overflow:auto; }\n",
    "#fig1{ background:yellow; width:100%; float:left; padding:5px;  }\n",
    "#fig2{ background:red; width:50%; float:left; clear:left; padding:5px;  }\n",
    "#fig3{ background:green; width:50%; float:left; padding:5px;   }\n",
    ".macros{ background:yellow; visibility:visible;}\n",
    "h1 {margin: 0 0 0 0;}\n",
    "mark {background-color:#fff3b6;}\n",
    "img {object-fit:contain; max-height:250px; display:inline-block; text-align: center;}\n",
    "</style>\n",
    "\"\"\" \n",
    "html = \"\"\"\n",
    "<style>\n",
    "#wrap{ overflow:auto; }\n",
    "#fig1{ width:100%; float:left; padding: 5px;  }\n",
    "#fig2{ width:50%; float:left; clear:left; padding: 5px;  }\n",
    "#fig3{ width:50%; float:left; padding: 5px;  }\n",
    ".macros{ visibility:hidden; height:0px; }\n",
    "h1 {margin: 0em 0 0 0;}\n",
    "mark {background-color:#fff3b6;}\n",
    "img {object-fit:contain; max-height:250px; display:inline-block; text-align: center;}\n",
    "</style>\n",
    "\"\"\""
   ]
  },
  {
   "cell_type": "markdown",
   "id": "14bd6310",
   "metadata": {
    "papermill": {
     "duration": 0.004713,
     "end_time": "2022-12-26T04:05:33.035820",
     "exception": false,
     "start_time": "2022-12-26T04:05:33.031107",
     "status": "completed"
    },
    "tags": []
   },
   "source": [
    "## get list of arxiv paper candidates\n",
    "\n",
    "We use the MPIA mitarbeiter list webpage from mpia.de to get author names\n",
    "We then get all new papers from Arxiv and match authors"
   ]
  },
  {
   "cell_type": "code",
   "execution_count": 4,
   "id": "2645e73a",
   "metadata": {
    "execution": {
     "iopub.execute_input": "2022-12-26T04:05:33.046648Z",
     "iopub.status.busy": "2022-12-26T04:05:33.045942Z",
     "iopub.status.idle": "2022-12-26T04:06:03.954252Z",
     "shell.execute_reply": "2022-12-26T04:06:03.953325Z"
    },
    "papermill": {
     "duration": 30.921099,
     "end_time": "2022-12-26T04:06:03.961401",
     "exception": false,
     "start_time": "2022-12-26T04:05:33.040302",
     "status": "completed"
    },
    "tags": []
   },
   "outputs": [
    {
     "name": "stdout",
     "output_type": "stream",
     "text": [
      "Arxiv has 32 new papers today\n",
      "          14 with possible author matches\n"
     ]
    }
   ],
   "source": [
    "# get list from MPIA website\n",
    "# it automatically filters identified non-scientists :func:`mpia.filter_non_scientists`\n",
    "mpia_authors = mpia.get_mpia_mitarbeiter_list()\n",
    "new_papers = get_new_papers()\n",
    "# add manual references\n",
    "add_paper_refs = []\n",
    "new_papers.extend([get_paper_from_identifier(k) for k in add_paper_refs])\n",
    "\n",
    "# select only papers with matching author names and highlight authors\n",
    "hl_list = [k[0] for k in mpia_authors]\n",
    "\n",
    "candidates = []\n",
    "for paperk in new_papers:\n",
    "    hl_authors = highlight_authors_in_list(paperk['authors'], hl_list)\n",
    "    matches = [(hl, orig) for hl, orig in zip(hl_authors, paperk['authors']) if 'mark' in hl]\n",
    "    paperk['authors'] = hl_authors\n",
    "    if matches:\n",
    "        candidates.append(paperk)\n",
    "print(\"\"\"Arxiv has {0:,d} new papers today\"\"\".format(len(new_papers)))        \n",
    "print(\"\"\"          {0:,d} with possible author matches\"\"\".format(len(candidates)))"
   ]
  },
  {
   "cell_type": "markdown",
   "id": "3543b34a",
   "metadata": {
    "papermill": {
     "duration": 0.004647,
     "end_time": "2022-12-26T04:06:03.971097",
     "exception": false,
     "start_time": "2022-12-26T04:06:03.966450",
     "status": "completed"
    },
    "tags": []
   },
   "source": [
    "# Parse sources and generate relevant outputs\n",
    "\n",
    "From the candidates, we do the following steps:\n",
    "* get their tarball from ArXiv (and extract data)\n",
    "* find the main .tex file: find one with \\documentclass{...} (sometimes it's non trivial)\n",
    "* Check affiliations with :func:`validation`, which uses :func:`mpia.affiliation_verifications`\n",
    "* If passing the affiliations: we parse the .tex source\n",
    "   * inject sub-documents into the main (flatten the main document)\n",
    "   * parse structure, extract information (title, abstract, authors, figures...)\n",
    "   * handles `\\graphicspath` if provided\n",
    "* Generate the .md document."
   ]
  },
  {
   "cell_type": "code",
   "execution_count": 5,
   "id": "9576b79e",
   "metadata": {
    "execution": {
     "iopub.execute_input": "2022-12-26T04:06:03.982399Z",
     "iopub.status.busy": "2022-12-26T04:06:03.981763Z",
     "iopub.status.idle": "2022-12-26T04:08:29.352899Z",
     "shell.execute_reply": "2022-12-26T04:08:29.351959Z"
    },
    "papermill": {
     "duration": 145.380501,
     "end_time": "2022-12-26T04:08:29.356402",
     "exception": false,
     "start_time": "2022-12-26T04:06:03.975901",
     "status": "completed"
    },
    "scrolled": false,
    "tags": []
   },
   "outputs": [
    {
     "data": {
      "application/vnd.jupyter.widget-view+json": {
       "model_id": "d310a04d0aaf455b824e2bbe5896d8db",
       "version_major": 2,
       "version_minor": 0
      },
      "text/plain": [
       "  0%|          | 0/13 [00:00<?, ?it/s]"
      ]
     },
     "metadata": {},
     "output_type": "display_data"
    },
    {
     "name": "stdout",
     "output_type": "stream",
     "text": [
      "Retrieving document from  https://arxiv.org/e-print/2212.11987\n"
     ]
    },
    {
     "name": "stdout",
     "output_type": "stream",
     "text": [
      "extracting tarball to tmp_2212.11987..."
     ]
    },
    {
     "name": "stdout",
     "output_type": "stream",
     "text": [
      " done.\n",
      "Retrieving document from  https://arxiv.org/e-print/2212.11990\n"
     ]
    },
    {
     "name": "stderr",
     "output_type": "stream",
     "text": [
      "/opt/hostedtoolcache/Python/3.9.16/x64/lib/python3.9/site-packages/IPython/core/interactiveshell.py:3433: LatexWarning: Multiple tex files.\n",
      "\n",
      "  exec(code_obj, self.user_global_ns, self.user_ns)\n",
      "/opt/hostedtoolcache/Python/3.9.16/x64/lib/python3.9/site-packages/IPython/core/interactiveshell.py:3433: LatexWarning: Found documentclass in tmp_2212.11987/aanda.tex\n",
      "\n",
      "  exec(code_obj, self.user_global_ns, self.user_ns)\n"
     ]
    },
    {
     "name": "stdout",
     "output_type": "stream",
     "text": [
      "extracting tarball to tmp_2212.11990..."
     ]
    },
    {
     "name": "stdout",
     "output_type": "stream",
     "text": [
      " done.\n",
      "Retrieving document from  https://arxiv.org/e-print/2212.11991\n"
     ]
    },
    {
     "name": "stdout",
     "output_type": "stream",
     "text": [
      "extracting tarball to tmp_2212.11991..."
     ]
    },
    {
     "name": "stdout",
     "output_type": "stream",
     "text": [
      " done.\n"
     ]
    },
    {
     "name": "stdout",
     "output_type": "stream",
     "text": [
      "Retrieving document from  https://arxiv.org/e-print/2212.11992\n"
     ]
    },
    {
     "name": "stderr",
     "output_type": "stream",
     "text": [
      "/tmp/ipykernel_2088/4030337529.py:34: LatexWarning: 2212.11992 did not run properly\n",
      "not a gzip file\n",
      "  warnings.warn(latex.LatexWarning(f\"{paper_id:s} did not run properly\\n\" +\n"
     ]
    },
    {
     "name": "stdout",
     "output_type": "stream",
     "text": [
      "Retrieving document from  https://arxiv.org/e-print/2212.12039\n"
     ]
    },
    {
     "name": "stdout",
     "output_type": "stream",
     "text": [
      "extracting tarball to tmp_2212.12039..."
     ]
    },
    {
     "name": "stdout",
     "output_type": "stream",
     "text": [
      " done.\n"
     ]
    },
    {
     "name": "stderr",
     "output_type": "stream",
     "text": [
      "/opt/hostedtoolcache/Python/3.9.16/x64/lib/python3.9/site-packages/IPython/core/interactiveshell.py:3433: LatexWarning: Multiple tex files.\n",
      "\n",
      "  exec(code_obj, self.user_global_ns, self.user_ns)\n",
      "/opt/hostedtoolcache/Python/3.9.16/x64/lib/python3.9/site-packages/IPython/core/interactiveshell.py:3433: LatexWarning: Found documentclass in tmp_2212.12039/main_jwst_aas_v3.tex\n",
      "\n",
      "  exec(code_obj, self.user_global_ns, self.user_ns)\n"
     ]
    },
    {
     "name": "stdout",
     "output_type": "stream",
     "text": [
      "Retrieving document from  https://arxiv.org/e-print/2212.12064\n"
     ]
    },
    {
     "name": "stdout",
     "output_type": "stream",
     "text": [
      "extracting tarball to tmp_2212.12064..."
     ]
    },
    {
     "name": "stdout",
     "output_type": "stream",
     "text": [
      " done.\n",
      "Retrieving document from  https://arxiv.org/e-print/2212.12069\n"
     ]
    },
    {
     "name": "stderr",
     "output_type": "stream",
     "text": [
      "/opt/hostedtoolcache/Python/3.9.16/x64/lib/python3.9/site-packages/IPython/core/interactiveshell.py:3433: LatexWarning: Multiple tex files.\n",
      "\n",
      "  exec(code_obj, self.user_global_ns, self.user_ns)\n",
      "/opt/hostedtoolcache/Python/3.9.16/x64/lib/python3.9/site-packages/IPython/core/interactiveshell.py:3433: LatexWarning: Found documentclass in tmp_2212.12064/instrument_paper_revC.tex\n",
      "\n",
      "  exec(code_obj, self.user_global_ns, self.user_ns)\n",
      "/opt/hostedtoolcache/Python/3.9.16/x64/lib/python3.9/site-packages/arxiv_on_deck_2/latex.py:292: LatexWarning: Latex injecting: 'sections/conclusions.tex' from 'tmp_2212.12064/sections/conclusions.tex'\n",
      "  warnings.warn(LatexWarning(f\"Latex injecting: '{ext}' from '{subsource}'\"))\n",
      "/opt/hostedtoolcache/Python/3.9.16/x64/lib/python3.9/site-packages/arxiv_on_deck_2/latex.py:292: LatexWarning: Latex injecting: 'sections/reflight.tex' from 'tmp_2212.12064/sections/reflight.tex'\n",
      "  warnings.warn(LatexWarning(f\"Latex injecting: '{ext}' from '{subsource}'\"))\n",
      "/opt/hostedtoolcache/Python/3.9.16/x64/lib/python3.9/site-packages/arxiv_on_deck_2/latex.py:292: LatexWarning: Latex injecting: 'sections/first_flight.tex' from 'tmp_2212.12064/sections/first_flight.tex'\n",
      "  warnings.warn(LatexWarning(f\"Latex injecting: '{ext}' from '{subsource}'\"))\n",
      "/opt/hostedtoolcache/Python/3.9.16/x64/lib/python3.9/site-packages/arxiv_on_deck_2/latex.py:292: LatexWarning: Latex injecting: 'sections/instrument_overview.tex' from 'tmp_2212.12064/sections/instrument_overview.tex'\n",
      "  warnings.warn(LatexWarning(f\"Latex injecting: '{ext}' from '{subsource}'\"))\n",
      "/opt/hostedtoolcache/Python/3.9.16/x64/lib/python3.9/site-packages/arxiv_on_deck_2/latex.py:292: LatexWarning: Latex injecting: 'sections/mission_overview_v2' from 'tmp_2212.12064/sections/mission_overview_v2.tex'\n",
      "  warnings.warn(LatexWarning(f\"Latex injecting: '{ext}' from '{subsource}'\"))\n",
      "/opt/hostedtoolcache/Python/3.9.16/x64/lib/python3.9/site-packages/arxiv_on_deck_2/latex.py:292: LatexWarning: Latex injecting: 'sections/introduction' from 'tmp_2212.12064/sections/introduction.tex'\n",
      "  warnings.warn(LatexWarning(f\"Latex injecting: '{ext}' from '{subsource}'\"))\n",
      "/opt/hostedtoolcache/Python/3.9.16/x64/lib/python3.9/site-packages/arxiv_on_deck_2/latex.py:292: LatexWarning: Latex injecting: 'author_list' from 'tmp_2212.12064/author_list.tex'\n",
      "  warnings.warn(LatexWarning(f\"Latex injecting: '{ext}' from '{subsource}'\"))\n"
     ]
    },
    {
     "name": "stdout",
     "output_type": "stream",
     "text": [
      "extracting tarball to tmp_2212.12069..."
     ]
    },
    {
     "name": "stdout",
     "output_type": "stream",
     "text": [
      " done.\n",
      "Retrieving document from  https://arxiv.org/e-print/2212.12087\n"
     ]
    },
    {
     "name": "stdout",
     "output_type": "stream",
     "text": [
      "extracting tarball to tmp_2212.12087..."
     ]
    },
    {
     "name": "stdout",
     "output_type": "stream",
     "text": [
      " done.\n",
      "Retrieving document from  https://arxiv.org/e-print/2212.12090\n"
     ]
    },
    {
     "name": "stderr",
     "output_type": "stream",
     "text": [
      "/opt/hostedtoolcache/Python/3.9.16/x64/lib/python3.9/site-packages/IPython/core/interactiveshell.py:3433: LatexWarning: Multiple tex files.\n",
      "\n",
      "  exec(code_obj, self.user_global_ns, self.user_ns)\n",
      "/opt/hostedtoolcache/Python/3.9.16/x64/lib/python3.9/site-packages/IPython/core/interactiveshell.py:3433: LatexWarning: Found documentclass in tmp_2212.12087/paper-pleiades-tess.tex\n",
      "\n",
      "  exec(code_obj, self.user_global_ns, self.user_ns)\n",
      "/opt/hostedtoolcache/Python/3.9.16/x64/lib/python3.9/site-packages/arxiv_on_deck_2/latex.py:292: LatexWarning: Latex injecting: 'table' from 'tmp_2212.12087/table.tex'\n",
      "  warnings.warn(LatexWarning(f\"Latex injecting: '{ext}' from '{subsource}'\"))\n"
     ]
    },
    {
     "name": "stdout",
     "output_type": "stream",
     "text": [
      "extracting tarball to tmp_2212.12090..."
     ]
    },
    {
     "name": "stdout",
     "output_type": "stream",
     "text": [
      " done.\n",
      "Retrieving document from  https://arxiv.org/e-print/2212.12093\n"
     ]
    },
    {
     "name": "stdout",
     "output_type": "stream",
     "text": [
      "extracting tarball to tmp_2212.12093... done.\n",
      "Retrieving document from  https://arxiv.org/e-print/2212.12176\n"
     ]
    },
    {
     "name": "stderr",
     "output_type": "stream",
     "text": [
      "/tmp/ipykernel_2088/4030337529.py:34: LatexWarning: 2212.12093 did not run properly\n",
      "'utf-8' codec can't decode byte 0xb3 in position 67131: invalid start byte\n",
      "  warnings.warn(latex.LatexWarning(f\"{paper_id:s} did not run properly\\n\" +\n"
     ]
    },
    {
     "name": "stdout",
     "output_type": "stream",
     "text": [
      "extracting tarball to tmp_2212.12176..."
     ]
    },
    {
     "name": "stdout",
     "output_type": "stream",
     "text": [
      " done.\n",
      "Retrieving document from  https://arxiv.org/e-print/2212.12314\n"
     ]
    },
    {
     "name": "stdout",
     "output_type": "stream",
     "text": [
      "extracting tarball to tmp_2212.12314..."
     ]
    },
    {
     "name": "stdout",
     "output_type": "stream",
     "text": [
      " done.\n",
      "Retrieving document from  https://arxiv.org/e-print/2212.12331\n"
     ]
    },
    {
     "name": "stderr",
     "output_type": "stream",
     "text": [
      "/tmp/ipykernel_2088/4030337529.py:34: LatexWarning: 2212.12314 did not run properly\n",
      "'utf-8' codec can't decode byte 0xa8 in position 23696: invalid start byte\n",
      "  warnings.warn(latex.LatexWarning(f\"{paper_id:s} did not run properly\\n\" +\n"
     ]
    },
    {
     "name": "stdout",
     "output_type": "stream",
     "text": [
      "extracting tarball to tmp_2212.12331... done.\n"
     ]
    }
   ],
   "source": [
    "documents = []\n",
    "failed = []\n",
    "for paper in tqdm(candidates[:-1]):\n",
    "    paper_id = paper['identifier'].lower().replace('arxiv:', '')\n",
    "    \n",
    "    folder = f'tmp_{paper_id}'\n",
    "\n",
    "    try:\n",
    "        if not os.path.isdir(folder):\n",
    "            folder = retrieve_document_source(f\"{paper_id}\", f'tmp_{paper_id}')\n",
    "        \n",
    "        try:\n",
    "            doc = latex.LatexDocument(folder, validation=validation)    \n",
    "        except AffiliationError as affilerror:\n",
    "            msg = f\"ArXiv:{paper_id:s} is not an MPIA paper... \" + str(affilerror)\n",
    "            failed.append((paper, \"affiliation error: \" + str(affilerror) ))\n",
    "            continue\n",
    "        \n",
    "        # Hack because sometimes author parsing does not work well\n",
    "        if (len(doc.authors) != len(paper['authors'])):\n",
    "            doc._authors = paper['authors']\n",
    "        if (doc.abstract) in (None, ''):\n",
    "            doc._abstract = paper['abstract']\n",
    "            \n",
    "        doc.comment = (get_markdown_badge(paper_id) + \n",
    "                       \"<mark>Appeared on: \" + paper['date'] + \"</mark> - \" +\n",
    "                       \"_\" + paper['comments'] + \"_\")\n",
    "        doc.highlight_authors_in_list(hl_list)\n",
    "\n",
    "        full_md = doc.generate_markdown_text()\n",
    "        \n",
    "        documents.append((paper_id, full_md))\n",
    "    except Exception as e:\n",
    "        warnings.warn(latex.LatexWarning(f\"{paper_id:s} did not run properly\\n\" +\n",
    "                                         str(e)\n",
    "                                        ))\n",
    "        failed.append((paper, \"latex error \" + str(e)))"
   ]
  },
  {
   "cell_type": "markdown",
   "id": "2505a25c",
   "metadata": {
    "papermill": {
     "duration": 0.006509,
     "end_time": "2022-12-26T04:08:29.371159",
     "exception": false,
     "start_time": "2022-12-26T04:08:29.364650",
     "status": "completed"
    },
    "tags": []
   },
   "source": [
    "### Export the logs\n",
    "\n",
    "Throughout, we also keep track of the logs per paper. see `logs-{today date}.md` "
   ]
  },
  {
   "cell_type": "code",
   "execution_count": 6,
   "id": "d733828a",
   "metadata": {
    "execution": {
     "iopub.execute_input": "2022-12-26T04:08:29.388061Z",
     "iopub.status.busy": "2022-12-26T04:08:29.386414Z",
     "iopub.status.idle": "2022-12-26T04:08:29.419234Z",
     "shell.execute_reply": "2022-12-26T04:08:29.418152Z"
    },
    "papermill": {
     "duration": 0.043501,
     "end_time": "2022-12-26T04:08:29.421572",
     "exception": false,
     "start_time": "2022-12-26T04:08:29.378071",
     "status": "completed"
    },
    "scrolled": false,
    "tags": []
   },
   "outputs": [
    {
     "data": {
      "text/markdown": [
       "## Successful papers"
      ],
      "text/plain": [
       "<IPython.core.display.Markdown object>"
      ]
     },
     "metadata": {},
     "output_type": "display_data"
    },
    {
     "data": {
      "text/markdown": [
       "\n",
       "|||\n",
       "|---:|:---|\n",
       "| [![arXiv](https://img.shields.io/badge/arXiv-arXiv:2212.11991-b31b1b.svg)](https://arxiv.org/abs/arXiv:2212.11991) | **Vertical motion in the Galactic disc: unwinding the Snail**  |\n",
       "|| <mark>Neige Frankel</mark>, Jo Bovy, Scott Tremaine, David W. Hogg |\n",
       "|*Appeared on*| *2022-12-26*|\n",
       "|*Comments*| *9 pages, 8 figures. Submitted to MNRAS (constructive comments are welcome)*|\n",
       "|**Abstract**| The distribution of stars in the Milky Way disc shows a spiral structure--the Snail--in the space of velocity and position normal to the Galactic mid-plane. The Snail appears as straight lines in the vertical frequency--vertical phase plane when effects from sample selection are removed. Their slope has the dimension of inverse time, with the simplest interpretation being the inverse age of the Snail. Here, we devise and fit a simple model in which the spiral starts as a lopsided perturbation from steady state, that winds up into the present-day morphology. The winding occurs because the vertical frequency decreases with vertical action. We use data from stars in Gaia EDR3 that have measured radial velocities, pruned by simple distance and photometric selection functions. We divide the data into boxels of dynamical invariants (radial action, angular momentum); our model fits the data well in many of the boxels. The model parameters have physical interpretations: one, $A$, is a perturbation amplitude, and one, $t$, is interpretable in the simplest models as the time since the event that caused the Snail. We find trends relating the strength and age to angular momentum: (i) the amplitude $A$ is small at low angular momentum ($<1\\,600\\mathrm{\\,kpc\\,km\\,s}^{-1}$ or guiding-centre radius $< 7.3\\,$kpc), and over a factor of three larger, with strong variations, in the outer disc; (ii) there is no single well-defined perturbation time, with $t$ varying between 0.2 and 0.6 Gyr. Residuals between the data and the model display systematic trends, implying that the data call for more complex models. |"
      ],
      "text/plain": [
       "[arXiv:2212.11991] Vertical motion in the Galactic disc: unwinding the Snail\n",
       "\t<mark>Neige Frankel</mark>, Jo Bovy, Scott Tremaine, David W. Hogg"
      ]
     },
     "metadata": {},
     "output_type": "display_data"
    },
    {
     "data": {
      "text/markdown": [
       "\n",
       "|||\n",
       "|---:|:---|\n",
       "| [![arXiv](https://img.shields.io/badge/arXiv-arXiv:2212.12039-b31b1b.svg)](https://arxiv.org/abs/arXiv:2212.12039) | **PHANGS-JWST First Results: Massive Young Star Clusters and New Insights  from JWST Observations of NGC 1365**  |\n",
       "|| Bradley C. Whitmore, et al. -- incl., <mark>Janice C. Lee</mark>, <mark>Kiana F. Henny</mark>, <mark>Stephen Hannon</mark>, <mark>Jonathan D. Henshaw</mark>, <mark>Eva Schinnerer</mark> |\n",
       "|*Appeared on*| *2022-12-26*|\n",
       "|*Comments*| *17 pages, 9 figures, accepted for publications as part of PHANGS-JWST ApJL Focus Issue*|\n",
       "|**Abstract**| A primary new capability of JWST is the ability to penetrate the dust in star forming galaxies to identify and study the properties of young star clusters that remain embedded in dust and gas. In this paper we combine new infrared images taken with JWST with our optical HST images of the star-bursting barred (Seyfert2) spiral galaxy NGC 1365. We find that this galaxy has the richest population of massive young clusters of any known galaxy within 30 Mpc, with $\\sim$ 30 star clusters that are more massive than 10$^6$ Msolar and younger than 10 Myr. Sixteen of these clusters are newly discovered from our JWST observations. An examination of the optical images reveals that 4 of 30 ($\\sim$13$\\%$) are so deeply embedded that they cannot be seen in the I band (AV $\\gt$ 10 mag), and that 11 of 30 ($\\sim$37$\\%$) are missing in the HST B band, so age and mass estimates from optical measurements alone are challenging. These numbers suggest that massive clusters in NGC 1365 remain obscured in the visible for $\\sim$ 1.3 $\\pm$ 0.7 Myr, and are either completely or partially obscured for $\\sim$ 3.7 $\\pm$ 1.1 Myr. We also use the JWST observations to gain new insights into the triggering of star cluster formation by the collision of gas and dust streamers with gas and dust in the bar. The JWST images reveal previously unknown structures (e.g., bridges and overshoot regions from stars that form in the bar) that help us better understand the orbital dynamics of barred galaxies and associated star-forming rings. Finally, we note that the excellent spatial resolution of the NIRCAM F200W filter provides a better way to separate barely resolved compact clusters from individual stars based on their sizes. |"
      ],
      "text/plain": [
       "[arXiv:2212.12039] PHANGS-JWST First Results: Massive Young Star Clusters and New Insights  from JWST Observations of NGC 1365\n",
       "\tBradley C. Whitmore, et al. -- incl., <mark>Janice C. Lee</mark>, <mark>Kiana F. Henny</mark>, <mark>Stephen Hannon</mark>, <mark>Jonathan D. Henshaw</mark>, <mark>Eva Schinnerer</mark>"
      ]
     },
     "metadata": {},
     "output_type": "display_data"
    },
    {
     "data": {
      "text/markdown": [
       "## Failed papers"
      ],
      "text/plain": [
       "<IPython.core.display.Markdown object>"
      ]
     },
     "metadata": {},
     "output_type": "display_data"
    },
    {
     "data": {
      "text/markdown": [
       "\n",
       "|||\n",
       "|---:|:---|\n",
       "| [![arXiv](https://img.shields.io/badge/arXiv-arXiv:2212.11987-b31b1b.svg)](https://arxiv.org/abs/arXiv:2212.11987) | **The phase spiral in Gaia DR3**  |\n",
       "|| T. Antoja, et al. -- incl., <mark>P. Ramos</mark> |\n",
       "|*Appeared on*| *2022-12-26*|\n",
       "|*Comments*| *submitted to A&A*|\n",
       "|**Abstract**| We analysed the phase spiral with data from Gaia DR3. We used an edge detection algorithm to find the border of the phase spiral, allowing us to robustly quantify its shape at different positions. We calculated the time of onset of the phase-mixing by determining the different turns of the phase spiral and using the vertical frequencies from standard potential models of the MW. We find that the phase spiral extends down to -1.2 kpc in height below the plane (about 3 to 5 scale heights of the thin disc) and beyond $\\pm 50$ km/s in $V_Z$. We see a secondary branch mostly at positive vertical velocities in the local phase spiral when coloured by azimuthal velocity, and also at different angular momentum in the counts projection. We also find complex variations of the phase spirals with angular momentum and azimuth. All these possibly provide evidence of multiple perturbations (from different times or from different perturbers) and/or that the disc is affected by complex phase mixing processes. We detect the phase spiral from 6 to 11 kpc and find signatures of vertical asymmetries 1-2 kpc beyond this range. We measure small but clear variations with azimuth. When we determine the phase mixing times from the phase spiral at different angular momenta and using the different spiral turns (at different $Z$) we obtain inconsistent times with systematic differences (times increasing with $|L_Z|$ and with $|Z|$). Our determinations are mostly in the range of [0.3-0.9] Gyr, with an average of 0.5 Gyr. The inconsistencies do not change when using different potential models for the MW, different stellar distances and frequencies for different kinetic temperatures. They could stem from the inconsistency of potential models with the true MW, and from too simple modelling, in particular neglecting self-gravity, not considering the multiple perturbations and the interference with other processes. |\n",
       "|<p style=\"color:green\"> **ERROR** </p>| <p style=\"color:green\">affiliation error: mpia.affiliation_verifications: 'Heidelberg' keyword not found.</p> |"
      ],
      "text/plain": [
       "<IPython.core.display.Markdown object>"
      ]
     },
     "metadata": {},
     "output_type": "display_data"
    },
    {
     "data": {
      "text/markdown": [
       "\n",
       "|||\n",
       "|---:|:---|\n",
       "| [![arXiv](https://img.shields.io/badge/arXiv-arXiv:2212.11990-b31b1b.svg)](https://arxiv.org/abs/arXiv:2212.11990) | **The origin and fate of the Gaia phase-space snail**  |\n",
       "|| Scott Tremaine, <mark>Neige Frankel</mark>, Jo Bovy |\n",
       "|*Appeared on*| *2022-12-26*|\n",
       "|*Comments*| *9 pages, 6 figures. Submitted to MNRAS*|\n",
       "|**Abstract**| The Gaia snail is a spiral feature in the distribution of solar-neighbourhood stars in position and velocity normal to the Galactic midplane. The snail probably arises from phase mixing of gravitational disturbances that perturbed the disc in the distant past. The most common hypothesis is that the strongest disturbance resulted from a passage of the Sagittarius dwarf galaxy close to the solar neighbourhood. In this paper we investigate the alternative hypothesis that the snail is created by many small disturbances rather than one large one, that is, by Gaussian noise in the gravitational potential. Probably most of this noise is due to substructures in the dark-matter halo. We show that this hypothesis naturally reproduces most of the properties of the snail. In particular it predicts correctly, with no free parameters, that the apparent age of the snail will be $ \\sim 0.5$ Gyr. An important ingredient of this model is that any snail-like feature in the solar neighbourhood, whatever its cause, is erased by scattering from giant molecular clouds or other small-scale structure on a time-scale $\\lesssim 1$ Gyr. |\n",
       "|<p style=\"color:green\"> **ERROR** </p>| <p style=\"color:green\">affiliation error: mpia.affiliation_verifications: 'Heidelberg' keyword not found.</p> |"
      ],
      "text/plain": [
       "<IPython.core.display.Markdown object>"
      ]
     },
     "metadata": {},
     "output_type": "display_data"
    },
    {
     "data": {
      "text/markdown": [
       "\n",
       "|||\n",
       "|---:|:---|\n",
       "| [![arXiv](https://img.shields.io/badge/arXiv-arXiv:2212.12064-b31b1b.svg)](https://arxiv.org/abs/arXiv:2212.12064) | **First Flight Performance of the Micro-X Microcalorimeter X-Ray Sounding  Rocket**  |\n",
       "|| <mark>Joseph S. Adams</mark>, et al. -- incl., <mark>Sarah N.T. Heine</mark>, <mark>Stephen J. Smith</mark> |\n",
       "|*Appeared on*| *2022-12-26*|\n",
       "|*Comments*| **|\n",
       "|**Abstract**| The flight of the Micro-X sounding rocket on July 22, 2018 marked the first operation of Transition-Edge Sensors and their SQUID readouts in space. The instrument combines the microcalorimeter array with an imaging mirror to take high-resolution spectra from extended X-ray sources. The first flight target was the Cassiopeia~A Supernova Remnant. While a rocket pointing malfunction led to no time on-target, data from the flight was used to evaluate the performance of the instrument and demonstrate the flight viability of the payload. The instrument successfully achieved a stable cryogenic environment, executed all flight operations, and observed X-rays from the on-board calibration source. The flight environment did not significantly affect the performance of the detectors compared to ground operation. The flight provided an invaluable test of the impact of external magnetic fields and the instrument configuration on detector performance. This flight provides a milestone in the flight readiness of these detector and readout technologies, both of which have been selected for future X-ray observatories. |\n",
       "|<p style=\"color:green\"> **ERROR** </p>| <p style=\"color:green\">affiliation error: mpia.affiliation_verifications: 'Heidelberg' keyword not found.</p> |"
      ],
      "text/plain": [
       "<IPython.core.display.Markdown object>"
      ]
     },
     "metadata": {},
     "output_type": "display_data"
    },
    {
     "data": {
      "text/markdown": [
       "\n",
       "|||\n",
       "|---:|:---|\n",
       "| [![arXiv](https://img.shields.io/badge/arXiv-arXiv:2212.12069-b31b1b.svg)](https://arxiv.org/abs/arXiv:2212.12069) | **NIRCam Performance on JWST In Flight**  |\n",
       "|| Marcia J. Rieke, et al. -- incl., <mark>Thomas P. Greene</mark> |\n",
       "|*Appeared on*| *2022-12-26*|\n",
       "|*Comments*| *17 pages, 18 figures Accepted for publication in PASP*|\n",
       "|**Abstract**| The Near Infrared Camera for the James Webb Space Telescope is delivering the imagery that astronomers have hoped for ever since JWST was proposed back in the 1990s. In the Commissioning Period that extended from right after launch to early July 2022 NIRCam has been subjected to a number of performance tests and operational checks. The camera is exceeding pre-launch expectations in virtually all areas with very few surprises discovered in flight. NIRCam also delivered the imagery needed by the Wavefront Sensing Team for use in aligning the telescope mirror segments (\\citealt{Acton_etal2022}, \\citealt{McElwain_etal2022}). |\n",
       "|<p style=\"color:green\"> **ERROR** </p>| <p style=\"color:green\">affiliation error: mpia.affiliation_verifications: 'Heidelberg' keyword not found.</p> |"
      ],
      "text/plain": [
       "<IPython.core.display.Markdown object>"
      ]
     },
     "metadata": {},
     "output_type": "display_data"
    },
    {
     "data": {
      "text/markdown": [
       "\n",
       "|||\n",
       "|---:|:---|\n",
       "| [![arXiv](https://img.shields.io/badge/arXiv-arXiv:2212.12090-b31b1b.svg)](https://arxiv.org/abs/arXiv:2212.12090) | **Tracking the evolution of satellite galaxies: mass stripping and  dark-matter deficient galaxies**  |\n",
       "|| Antonio D. Montero-Dorta, et al. -- incl., <mark>Rory Smith</mark> |\n",
       "|*Appeared on*| *2022-12-26*|\n",
       "|*Comments*| *16 pages, 12 figures. Submitted to MNRAS, comments welcome*|\n",
       "|**Abstract**| Satellite galaxies undergo a variety of physical processes when they are accreted by groups and clusters, often resulting in the loss of baryonic and dark matter (DM) mass. In this work, we evaluate the predictions from the IllustrisTNG hydrodynamical simulation regarding the evolution of the matter content of satellites, focusing on a population that are accreted at $z>1$ and retain their identity as satellites down to $z=0$. At fixed host halo mass, the amount of DM and stellar mass stripped depends mostly on the pericentric distance, $d_{\\rm peri}$, here normalised by host halo virial radius. The closest encounters result in significant loss of DM, with subhaloes retaining between 20 and a few per cent of their $z=1$ mass. At fixed $d_{\\rm peri}$, DM mass stripping seems more severe in lower mass haloes. Conversely, the average satellite in higher mass haloes has its stellar mass growth halted earlier, having lost a higher fraction of stellar mass by $z=0$. We also show that mass stripping has a strong impact on the quenched fractions. The IllustrisTNG boxes are qualitatively consistent in these predictions, with quantitative differences mostly originating from the distinct subhalo mass ranges covered by the boxes. Finally, we have identified DM-deficient systems in all TNG boxes. These objects are preferentially found in massive clusters ($M_{\\rm host } \\gtrsim 10^{13}$ M$_\\odot$), had very close encounters with their central galaxies ($d_{\\rm peri}\\simeq0.05\\, R_{\\rm vir}$), and were accreted at high redshift ($z_{\\rm infall} \\gtrsim 1.4$), reinforcing the notion that tidal stripping is responsible for their remarkable lack of DM. |\n",
       "|<p style=\"color:green\"> **ERROR** </p>| <p style=\"color:green\">affiliation error: mpia.affiliation_verifications: 'Heidelberg' keyword not found.</p> |"
      ],
      "text/plain": [
       "<IPython.core.display.Markdown object>"
      ]
     },
     "metadata": {},
     "output_type": "display_data"
    },
    {
     "data": {
      "text/markdown": [
       "\n",
       "|||\n",
       "|---:|:---|\n",
       "| [![arXiv](https://img.shields.io/badge/arXiv-arXiv:2212.12176-b31b1b.svg)](https://arxiv.org/abs/arXiv:2212.12176) | **Detection of Solar Filaments using Suncharts from Kodaikanal Solar  Observatory Archive Employing a Clustering Approach**  |\n",
       "|| Aditya Priyadarshi, et al. -- incl., <mark>Manjunath Hegde</mark> |\n",
       "|*Appeared on*| *2022-12-26*|\n",
       "|*Comments*| *12 pages, 7 Figures, Accepted for publication in ApJ*|\n",
       "|**Abstract**| With over 100 years of solar observations, the Kodaikanal Solar Observatory (KoSO) is a one-of-a-kind solar data repository in the world. Among its many data catalogues, the `suncharts' at KoSO are of particular interest. These Suncharts (1904-2020) are coloured drawings of different solar features, such as sunspots, plages, filaments, and prominences, made on papers with a Stonyhurst latitude-longitude grid etched on them. In this paper, we analyze this unique data by first digitizing each suncharts using an industry-standard scanner and saving those digital images in high-resolution `.tif' format. We then examine the Cycle~19 and Cycle~20 data (two of the strongest cycles of the last century) with the aim of detecting filaments. To this end, we employed `k-means clustering' method and obtained different filament parameters such as position, tilt angle, length, and area. Our results show that filament length (and area) increases with latitude and the pole-ward migration is clearly dominated by a particular tilt sign. Lastly, we cross-verified our findings with results from KoSO digitized photographic plate database for the overlapping time period and obtained a good agreement between them. This work, acting as a proof-of-the-concept, will kick-start new efforts to effectively use the entire hand-drawn series of multi-feature, full-disk solar data and enable researchers to extract new sciences, such as the generation of pseudo magnetograms for the last 100 years. |\n",
       "|<p style=\"color:green\"> **ERROR** </p>| <p style=\"color:green\">affiliation error: mpia.affiliation_verifications: 'Heidelberg' keyword not found.</p> |"
      ],
      "text/plain": [
       "<IPython.core.display.Markdown object>"
      ]
     },
     "metadata": {},
     "output_type": "display_data"
    },
    {
     "data": {
      "text/markdown": [
       "\n",
       "|||\n",
       "|---:|:---|\n",
       "| [![arXiv](https://img.shields.io/badge/arXiv-arXiv:2212.12331-b31b1b.svg)](https://arxiv.org/abs/arXiv:2212.12331) | **The optical spectral features of 27 Fermi blazars**  |\n",
       "|| <mark>Bing-Kai Zhang</mark>, et al. |\n",
       "|*Appeared on*| *2022-12-26*|\n",
       "|*Comments*| *9 pages, 14 figures, accepted by MNRAS*|\n",
       "|**Abstract**| A spectral variation accompanied with flux variability is a commonly-observed phenomenon for blazars. In order to further investigate the optical spectral feature of blazars, we have collected the long-term optical V and R band data of 27 blazars (14 BL Lacs and 13 FSRQs), and calculated their optical spectral indices. The results show that the spectral indices vary with respect to the brightness for all of these blazars. In general, the optical spectrum progressively becomes flatter (or steeper), when the brightness increases. However the spectrum changes more and more slowly, until it tends to be stable. In other words, the source becomes bluer (or redder) and then gradually stabilizes when it brightens, which are briefly named the bluer-stable-when-brighter (BSWB) and redder-stable-when-brighter (RSWB) behaviors, respectively. Thirteen of the 14 BL Lacs show the BSWB behavior, with an exception of AO 0235+164. On the contrary, most of FSRQs (10 out of 13) exhibit the RSWB trend. It is confirmed that blazars follow the two universal optical spectral behaviors, namely, BSWB and RSWB. The model of two constant-spectral-index components can well explain the optical spectral features qualitatively and quantitatively. The results illustrate that the optical emission are mainly composed of two stable-color components, i.e., less variable thermal emission and high variable synchrotron radiation. And in most cases, the thermal component of FSRQs is redder than that of synchrotron radiation, whereas BL Lacs are the opposite. |\n",
       "|<p style=\"color:green\"> **ERROR** </p>| <p style=\"color:green\">affiliation error: mpia.affiliation_verifications: 'Heidelberg' keyword not found.</p> |"
      ],
      "text/plain": [
       "<IPython.core.display.Markdown object>"
      ]
     },
     "metadata": {},
     "output_type": "display_data"
    },
    {
     "data": {
      "text/markdown": [
       "\n",
       "|||\n",
       "|---:|:---|\n",
       "| [![arXiv](https://img.shields.io/badge/arXiv-arXiv:2212.12087-b31b1b.svg)](https://arxiv.org/abs/arXiv:2212.12087) | **TESS observations of the Pleiades cluster: a nursery for delta Scuti  stars**  |\n",
       "|| Timothy R. Bedding, et al. -- incl., <mark>Daniel R. Hey</mark>, <mark>Daniel Huber</mark>, <mark>Yaguang Li</mark>, <mark>Guillermo Torres</mark> |\n",
       "|*Appeared on*| *2022-12-26*|\n",
       "|*Comments*| *submitted to AAS journals*|\n",
       "|**Abstract**| We studied 89 A- and F-type members of the Pleiades open cluster, including five escaped members. We measured projected rotational velocities (v sin i) for 49 stars and confirmed that stellar rotation causes a broadening of the main sequence in the color-magnitude diagram. Using time-series photometry from NASA's TESS Mission (plus one star observed by Kepler/K2), we detected delta Scuti pulsations in 36 stars. The fraction of Pleiades stars in the middle of the instability strip that pulsate is unusually high (over 80%), and their range of effective temperatures agrees well with theoretical models. On the other hand, the characteristics of the pulsation spectra are varied and do not correlate with stellar temperature, calling into question the existence of a useful nu_max relation for delta Scutis, at least for young stars. By including delta Scuti stars observed in the Kepler field, we show that the instability strip is shifted to the red with increasing distance by interstellar reddening. Overall, this work demonstrates the power of combining observations with Gaia and TESS for studying pulsating stars in open clusters. |\n",
       "|<p style=\"color:green\"> **ERROR** </p>| <p style=\"color:green\">affiliation error: mpia.affiliation_verifications: 'Planck' keyword not found.</p> |"
      ],
      "text/plain": [
       "<IPython.core.display.Markdown object>"
      ]
     },
     "metadata": {},
     "output_type": "display_data"
    },
    {
     "data": {
      "text/markdown": [
       "\n",
       "|||\n",
       "|---:|:---|\n",
       "| [![arXiv](https://img.shields.io/badge/arXiv-arXiv:2212.12314-b31b1b.svg)](https://arxiv.org/abs/arXiv:2212.12314) | **The first flare observation with a new solar microwave spectrometer  working in 35-40 GHz**  |\n",
       "|| F. Yan, et al. -- incl., <mark>L. Zhang</mark> |\n",
       "|*Appeared on*| *2022-12-26*|\n",
       "|*Comments*| *17 pages, 5 figures*|\n",
       "|**Abstract**| The microwave spectrum contains valuable information about solar flares. Yet, the present spectral coverage is far from complete and broad data gaps exist above 20 GHz. Here we report the first flare (the X2.2 flare on 2022 April 20) observation of the newly-built Chashan Broadband Solar millimeter spectrometer (CBS) working from 35 to 40 GHz. We use the CBS data of the new Moon to calibrate,and the simultaneous NoRP data at 35 GHz to cross-calibrate. The impulsive stage has three local peaks with the middle one being the strongest and the maximum flux density reaches 9300 SFU at 35-40 GHz. The spectral index of the CBS data (alpha_C) for the major peak is mostly positive, indicating the gyrosynchrotron turnover frequency (nu_t) goes beyond 35-40 GHz. The frequency nu_t is smaller yet still larger than 20 GHz for most time of the other two peaks according to the spectral fittings with NoRP-CBS data. The CBS index manifests the general rapid-hardening-then-softening trend for each peak and gradual hardening during the decay stage, agreeing with the fitted optically-thin spectral index (alpha_tn) for nu_t < 35 GHz. In addition, the obtained turnover frequency during the whole impulsive stage correlates well with the corresponding intensity (I_t) according to a power-law dependence (It~nu_t^4.8) with a correlation coefficient of 0.82.This agrees with earlier studies on flares with low turnover frequency (<17 GHz), yet being reported for the first time for events with a high turnover frequency (>20 GHz). |\n",
       "|<p style=\"color:red\"> **ERROR** </p>| <p style=\"color:red\">latex error 'utf-8' codec can't decode byte 0xa8 in position 23696: invalid start byte</p> |"
      ],
      "text/plain": [
       "<IPython.core.display.Markdown object>"
      ]
     },
     "metadata": {},
     "output_type": "display_data"
    },
    {
     "data": {
      "text/markdown": [
       "\n",
       "|||\n",
       "|---:|:---|\n",
       "| [![arXiv](https://img.shields.io/badge/arXiv-arXiv:2212.12093-b31b1b.svg)](https://arxiv.org/abs/arXiv:2212.12093) | **The environments of Type Ia supernovae with different relative  equivalent width of Si II feature in their spectra**  |\n",
       "|| Xiang-Cun Meng, et al. -- incl., <mark>Ju-Jia Zhang</mark>, <mark>Xu-Lin Zhao</mark>, <mark>Li-Ping Li</mark> |\n",
       "|*Appeared on*| *2022-12-26*|\n",
       "|*Comments*| *17 pages, 13 figures, accepted for publication in ApJ*|\n",
       "|**Abstract**| Although type Ia supernovae are so important in many astrophysical field, e.g. in cosmology, their explosion mechanism and progenitor system are still unclear. In physics, the relative equivalent width (REW) of the Si II 635.5 nm absorption feature reflects the velocity interval of silicon in the supernova ejecta and then may provide constraints on the explosion mechanism of SNe Ia. In this paper, we divide the SNe Ia into broad line (BL) and normal line (NL) subsamples based on their REW of Si II 635.5 nm absorption lines around maximum light, and find that the BL SNe Ia have a dimmer mean brightness than NL ones, which possibly results from their different metallicities. However, based on the pixel statistics study on the environments of two subsamples, we do not find any significant potential difference on the environments between BL and NL SNe Ia, which implies that the explosion mechanism of SNe Ia could be independent of their progenitor populations. |\n",
       "|<p style=\"color:red\"> **ERROR** </p>| <p style=\"color:red\">latex error 'utf-8' codec can't decode byte 0xb3 in position 67131: invalid start byte</p> |"
      ],
      "text/plain": [
       "<IPython.core.display.Markdown object>"
      ]
     },
     "metadata": {},
     "output_type": "display_data"
    },
    {
     "data": {
      "text/markdown": [
       "\n",
       "|||\n",
       "|---:|:---|\n",
       "| [![arXiv](https://img.shields.io/badge/arXiv-arXiv:2212.11992-b31b1b.svg)](https://arxiv.org/abs/arXiv:2212.11992) | **Design of Chemical Propellant Thruster to Deorbit Nano satellite:  StudSat II**  |\n",
       "|| Prabin Sherpaili, Roshan Sah, <mark>Sandesh Hegde</mark>, Bir Bahadur Chaudhary |\n",
       "|*Appeared on*| *2022-12-26*|\n",
       "|*Comments*| *8 papers, 17 figures, Presented and Published at Proceedings of the XVII Vibration Engineering & Technology of Machinery Conference(VETOMAC),Dec. 15-17, 2022, DMAE, IOE, Pulchowk, Nepal*|\n",
       "|**Abstract**| An increase in satellite application has skyrocketed the number of satellites, especially in the low earth orbit (LEO). The major concern today is that these satellites become debris after the end of life, negatively affecting the space environment. As per the International Guidelines of the European Space Agency, it is mandatory to deorbit the satellite within 25 years of its end of life. This paper is aimed to design the solid chemical propellant thruster to deorbit the StudSat II from its original orbit to the lower orbit. StudSat II carries the heritage of StudSat I, successfully launched on 12th July 2010 AD, and is the first Pico Satellite in India by the undergraduate students of seven engineering colleges. This paper explains how a solid monopropellant thruster could be used to deorbit the satellite after the end of life with the least difficulty compared to other active and passive methods of deorbiting. The deorbiting mechanism consists of a solid propellant, Convergent Divergent nozzle, ignition system, and electronic actuators. The components of the thruster were designed in the CATIA V5, and the combustion studies and flow analysis were done in ANSYS. The concept of Hohmann transfer was used to deorbit the satellite, and STK was used to simulate it. |\n",
       "|<p style=\"color:red\"> **ERROR** </p>| <p style=\"color:red\">latex error not a gzip file</p> |"
      ],
      "text/plain": [
       "<IPython.core.display.Markdown object>"
      ]
     },
     "metadata": {},
     "output_type": "display_data"
    }
   ],
   "source": [
    "import datetime\n",
    "today = str(datetime.date.today())\n",
    "logfile = f\"_build/html/logs/log-{today}.md\"\n",
    "\n",
    "\n",
    "with open(logfile, 'w') as logs:\n",
    "    # Success\n",
    "    logs.write(f'# Arxiv on Deck 2: Logs - {today}\\n\\n')\n",
    "    logs.write(\"\"\"* Arxiv had {0:,d} new papers\\n\"\"\".format(len(new_papers)))\n",
    "    logs.write(\"\"\"    * {0:,d} with possible author matches\\n\\n\"\"\".format(len(candidates)))\n",
    "    logs.write(\"## Sucessful papers\\n\\n\")\n",
    "    display(Markdown(\"## Successful papers\"))\n",
    "    success = [k[0] for k in documents]\n",
    "    for candid in candidates:\n",
    "        if candid['identifier'].split(':')[-1] in success:\n",
    "            display(candid)\n",
    "            logs.write(candid.generate_markdown_text() + '\\n\\n')\n",
    "\n",
    "    ## failed\n",
    "    logs.write(\"## Failed papers\\n\\n\")\n",
    "    display(Markdown(\"## Failed papers\"))\n",
    "    failed = sorted(failed, key=lambda x: x[1])\n",
    "    current_reason = \"\"\n",
    "    for paper, reason in failed:\n",
    "        if 'affiliation' in reason:\n",
    "            color = 'green'\n",
    "        else:\n",
    "            color = 'red'\n",
    "        data = Markdown(\n",
    "                paper.generate_markdown_text() + \n",
    "                f'\\n|<p style=\"color:{color:s}\"> **ERROR** </p>| <p style=\"color:{color:s}\">{reason:s}</p> |'\n",
    "               )\n",
    "        if reason != current_reason:\n",
    "            logs.write(f'### {reason:s} \\n\\n')\n",
    "            current_reason = reason\n",
    "        logs.write(data.data + '\\n\\n')\n",
    "        \n",
    "        # only display here the important errors (all in logs)\n",
    "        # if color in ('red',):\n",
    "        display(data)"
   ]
  },
  {
   "cell_type": "markdown",
   "id": "472d20ee",
   "metadata": {
    "papermill": {
     "duration": 0.008065,
     "end_time": "2022-12-26T04:08:29.438580",
     "exception": false,
     "start_time": "2022-12-26T04:08:29.430515",
     "status": "completed"
    },
    "tags": []
   },
   "source": [
    "## Export documents\n",
    "\n",
    "We now write the .md files and export relevant images"
   ]
  },
  {
   "cell_type": "code",
   "execution_count": 7,
   "id": "d426aed9",
   "metadata": {
    "execution": {
     "iopub.execute_input": "2022-12-26T04:08:29.456665Z",
     "iopub.status.busy": "2022-12-26T04:08:29.456140Z",
     "iopub.status.idle": "2022-12-26T04:08:29.465278Z",
     "shell.execute_reply": "2022-12-26T04:08:29.464433Z"
    },
    "papermill": {
     "duration": 0.021112,
     "end_time": "2022-12-26T04:08:29.467422",
     "exception": false,
     "start_time": "2022-12-26T04:08:29.446310",
     "status": "completed"
    },
    "tags": []
   },
   "outputs": [],
   "source": [
    "def export_markdown_summary(md: str, md_fname:str, directory: str):\n",
    "    \"\"\"Export MD document and associated relevant images\"\"\"\n",
    "    import os\n",
    "    import shutil\n",
    "    import re\n",
    "\n",
    "    if (os.path.exists(directory) and not os.path.isdir(directory)):\n",
    "        raise RuntimeError(f\"a non-directory file exists with name {directory:s}\")\n",
    "\n",
    "    if (not os.path.exists(directory)):\n",
    "        print(f\"creating directory {directory:s}\")\n",
    "        os.mkdir(directory)\n",
    "\n",
    "    fig_fnames = (re.compile(r'\\[Fig.*\\]\\((.*)\\)').findall(md) + \n",
    "                  re.compile(r'\\<img src=\"([^>\\s]*)\"[^>]*/>').findall(md))\n",
    "    for fname in fig_fnames:\n",
    "        if 'http' in fname:\n",
    "            # No need to copy online figures\n",
    "            continue\n",
    "        destdir = os.path.join(directory, os.path.dirname(fname))\n",
    "        destfname = os.path.join(destdir, os.path.basename(fname))\n",
    "        try:\n",
    "            os.makedirs(destdir)\n",
    "        except FileExistsError:\n",
    "            pass\n",
    "        shutil.copy(fname, destfname)\n",
    "    with open(os.path.join(directory, md_fname), 'w') as fout:\n",
    "        fout.write(md)\n",
    "    print(\"exported in \", os.path.join(directory, md_fname))\n",
    "    [print(\"    + \" + os.path.join(directory,fk)) for fk in fig_fnames]"
   ]
  },
  {
   "cell_type": "code",
   "execution_count": 8,
   "id": "014d04a4",
   "metadata": {
    "execution": {
     "iopub.execute_input": "2022-12-26T04:08:29.486497Z",
     "iopub.status.busy": "2022-12-26T04:08:29.485689Z",
     "iopub.status.idle": "2022-12-26T04:08:29.512050Z",
     "shell.execute_reply": "2022-12-26T04:08:29.511249Z"
    },
    "papermill": {
     "duration": 0.037985,
     "end_time": "2022-12-26T04:08:29.514028",
     "exception": false,
     "start_time": "2022-12-26T04:08:29.476043",
     "status": "completed"
    },
    "tags": []
   },
   "outputs": [
    {
     "name": "stdout",
     "output_type": "stream",
     "text": [
      "exported in  _build/html/2212.11991.md\n",
      "    + _build/html/tmp_2212.11991/./bestfit_lz_percent.png\n",
      "    + _build/html/tmp_2212.11991/./zvz_redblue_r.png\n",
      "    + _build/html/tmp_2212.11991/./fit_trends1_residuals_v2.png\n",
      "exported in  _build/html/2212.12039.md\n",
      "    + _build/html/tmp_2212.12039/./ngc1365_full_nov_23_trim.png\n",
      "    + _build/html/tmp_2212.12039/./ngc1365_region_2_nov_22_2022_trim.png\n",
      "    + _build/html/tmp_2212.12039/./ngc1365_7plot_nov_23.png\n"
     ]
    }
   ],
   "source": [
    "for paper_id, md in documents:\n",
    "    export_markdown_summary(md, f\"{paper_id:s}.md\", '_build/html/')"
   ]
  },
  {
   "cell_type": "markdown",
   "id": "f087a0a7",
   "metadata": {
    "papermill": {
     "duration": 0.009206,
     "end_time": "2022-12-26T04:08:29.532840",
     "exception": false,
     "start_time": "2022-12-26T04:08:29.523634",
     "status": "completed"
    },
    "tags": []
   },
   "source": [
    "## Display the papers\n",
    "\n",
    "Not necessary but allows for a quick check."
   ]
  },
  {
   "cell_type": "code",
   "execution_count": 9,
   "id": "fd25f625",
   "metadata": {
    "execution": {
     "iopub.execute_input": "2022-12-26T04:08:29.553176Z",
     "iopub.status.busy": "2022-12-26T04:08:29.552648Z",
     "iopub.status.idle": "2022-12-26T04:08:29.560403Z",
     "shell.execute_reply": "2022-12-26T04:08:29.559683Z"
    },
    "papermill": {
     "duration": 0.020382,
     "end_time": "2022-12-26T04:08:29.562384",
     "exception": false,
     "start_time": "2022-12-26T04:08:29.542002",
     "status": "completed"
    },
    "scrolled": false,
    "tags": []
   },
   "outputs": [
    {
     "data": {
      "text/markdown": [
       "<div class=\"macros\" style=\"visibility:hidden;\">\n",
       "$\\newcommand{\\ensuremath}{}$\n",
       "$\\newcommand{\\xspace}{}$\n",
       "$\\newcommand{\\object}[1]{\\texttt{#1}}$\n",
       "$\\newcommand{\\farcs}{{.}''}$\n",
       "$\\newcommand{\\farcm}{{.}'}$\n",
       "$\\newcommand{\\arcsec}{''}$\n",
       "$\\newcommand{\\arcmin}{'}$\n",
       "$\\newcommand{\\ion}[2]{#1#2}$\n",
       "$\\newcommand{\\textsc}[1]{\\textrm{#1}}$\n",
       "$\\newcommand{\\hl}[1]{\\textrm{#1}}$\n",
       "$\\newcommand{\\rhalf}{\\ensuremath{R_h}}$\n",
       "$\\newcommand{\\rff}{\\ensuremath{R_\\mathrm{eff}}}$\n",
       "$\\newcommand{\\rifu}{\\ensuremath{R_\\mathrm{IFU}}}$\n",
       "$\\newcommand{\\Amax}{\\ensuremath{A_\\mathrm{2max}}}$\n",
       "$\\newcommand{\\omegaP}{\\ensuremath{\\Omega_P}}$\n",
       "$\\newcommand{\\feh}{\\ensuremath{\\mathrm{[Fe/H]}}}$\n",
       "$\\newcommand{\\half}{\\tfrac{1}{2}}$\n",
       "$\\newcommand{\\amp}{\\ensuremath{A}}$\n",
       "$\\newcommand{\\Comment}[2]{ [{\\color{red}\\sc #1 :} {{\\color{orange} \\it #2}}]}$\n",
       "$\\newcommand{\\com}[1]{ {\\textcolor{cyan}{ #1}}}$\n",
       "$\\newcommand{\\update}[1]{ {\\textbf{\\textcolor{mybrown}{ #1}}}}$\n",
       "$\\newcommand{\\updateap}[1]{ {\\textbf{\\textcolor{cyan}{ #1}}}}$\n",
       "$\\newcommand{\\updatescott}[1]{ {\\textbf{\\textcolor{magenta}{ #1}}}}$\n",
       "$\\newcommand{\\apn}[1]{ {\\textcolor{magenta}{ #1}}}$\n",
       "$\\newcommand{\\jo}[1]{ \\textbf{{\\textcolor{myblue}{Jo asks/comments: #1}}}}$</div>\n",
       "\n",
       "<div class=\"macros\" style=\"visibility:hidden;\">\n",
       "$\\newcommand{$\\ensuremath$}{}$\n",
       "$\\newcommand{$\\xspace$}{}$\n",
       "$\\newcommand{$\\object$}[1]{\\texttt{#1}}$\n",
       "$\\newcommand{$\\farcs$}{{.}''}$\n",
       "$\\newcommand{$\\farcm$}{{.}'}$\n",
       "$\\newcommand{$\\arcsec$}{''}$\n",
       "$\\newcommand{$\\arcmin$}{'}$\n",
       "$\\newcommand{$\\ion$}[2]{#1#2}$\n",
       "$\\newcommand{$\\textsc$}[1]{\\textrm{#1}}$\n",
       "$\\newcommand{$\\hl$}[1]{\\textrm{#1}}$\n",
       "$\\newcommand{$\\rhalf$}{$\\ensuremath${R_h}}$\n",
       "$\\newcommand{$\\rff$}{$\\ensuremath${R_\\mathrm{eff}}}$\n",
       "$\\newcommand{$\\rifu$}{$\\ensuremath${R_\\mathrm{IFU}}}$\n",
       "$\\newcommand{$\\Amax$}{$\\ensuremath${A_\\mathrm{2max}}}$\n",
       "$\\newcommand{$\\omegaP$}{$\\ensuremath${\\Omega_P}}$\n",
       "$\\newcommand{$\\feh$}{$\\ensuremath${\\mathrm{[Fe/H]}}}$\n",
       "$\\newcommand{$\\half$}{\\tfrac{1}{2}}$\n",
       "$\\newcommand{$\\amp$}{$\\ensuremath${A}}$\n",
       "$\\newcommand{$\\Comment$}[2]{ [{\\color{red}\\sc #1 :} {{\\color{orange} \\it #2}}]}$\n",
       "$\\newcommand{$\\com$}[1]{ {\\textcolor{cyan}{ #1}}}$\n",
       "$\\newcommand{$\\update$}[1]{ {\\textbf{\\textcolor{mybrown}{ #1}}}}$\n",
       "$\\newcommand{$\\update$ap}[1]{ {\\textbf{\\textcolor{cyan}{ #1}}}}$\n",
       "$\\newcommand{$\\update$scott}[1]{ {\\textbf{\\textcolor{magenta}{ #1}}}}$\n",
       "$\\newcommand{$\\apn$}[1]{ {\\textcolor{magenta}{ #1}}}$\n",
       "$\\newcommand{$\\jo$}[1]{ \\textbf{{\\textcolor{myblue}{Jo asks/comments: #1}}}}$</div>\n",
       "\n",
       "\n",
       "\n",
       "<div id=\"title\">\n",
       "\n",
       "#  Vertical motion in the Galactic disc: unwinding the Snail\n",
       "\n",
       "</div>\n",
       "<div id=\"comments\">\n",
       "\n",
       "[![arXiv](https://img.shields.io/badge/arXiv-2212.11991-b31b1b.svg)](https://arxiv.org/abs/2212.11991)<mark>Appeared on: 2022-12-26</mark> - _9 pages, 8 figures. Submitted to MNRAS (constructive comments are welcome)_\n",
       "\n",
       "</div>\n",
       "<div id=\"authors\">\n",
       "\n",
       "<mark><mark>Neige Frankel</mark></mark>, Jo Bovy, Scott Tremaine, David W. Hogg\n",
       "\n",
       "</div>\n",
       "<div id=\"abstract\">\n",
       "\n",
       "**Abstract:** \\noindentThe distribution of stars in the Milky Way disc shows a spiral structure--the Snail--in the space of velocity and position normal to the Galactic mid-plane. The Snail appears as straight lines in the vertical frequency--vertical phase plane when effects from sample selection are removed. Their slope has the dimension of inverse time, with the simplest interpretation being the inverse age of the Snail. Here, we devise and fit a simple model in which the spiral starts as a lopsided perturbation from steady state, that winds up into the present-day morphology. The winding occurs because the vertical frequency decreases with vertical action. We use data from stars in\\textsl{Gaia}EDR3 that have measured radial velocities, pruned by simple distance and photometric selection functions. We divide the data into boxels of dynamical invariants (radial action, angular momentum); our model fits the data well in many of the boxels. The model parameters have physical interpretations: one,$\\amp$, is a perturbation amplitude, and one,$t$, is interpretable in the simplest models as the time since the event that caused the Snail. We find trends relating the strength and age to angular momentum: (i) the amplitude$\\amp$is small at low angular momentum ($<1 600\\mbox{ kpc km s}^{-1}$or guiding-centre radius$< 7.3 $kpc), and over a factor of three larger, with strong variations, in the outer disc; (ii) there is no single well-defined perturbation time, with$t$varying between 0.2 and 0.6 Gyr. Residuals between the data and the model display systematic trends, implying that the data call for more complex models.\n",
       "\n",
       "</div>\n",
       "\n",
       "<div id=\"div_fig1\">\n",
       "\n",
       "<img src=\"tmp_2212.11991/./bestfit_lz_percent.png\" alt=\"Fig1\" width=\"100%\"/>\n",
       "\n",
       "**Figure 1. -** Maximum-likelihood estimates of two of the parameters in Eq. (\\ref{eq:logl}): the strength of the perturbation, $\\amp$(top panel) and the time of the perturbation, $t$(bottom). Each solid line corresponds to the median of many different fitting experiments, as specified in the text, in which we varied the initial guess for the optimizer, the binning in $J_\\varphi$ and the random subset bootstrapped from the data. The shaded areas enclose the 25$^\\mathrm{th}$ and the 75$^\\mathrm{th}$ percentiles, as determined from these experiments. The $\\odot$ symbol marks the angular momentum of a circular orbit at the solar radius. (*fig:best_fit_trends*)\n",
       "\n",
       "</div>\n",
       "<div id=\"div_fig2\">\n",
       "\n",
       "<img src=\"tmp_2212.11991/./zvz_redblue_r.png\" alt=\"Fig3\" width=\"100%\"/>\n",
       "\n",
       "**Figure 3. -** Fractional density contrast in the $z$--$v_z$ plane, revealing the \\textsl{Gaia} phase-space Snail. The vertical band near $z=0$ is due to dust extinction. The details of how this figure was constructed are given in \\S\\ref{section:data_selection}. (*fig:snail*)\n",
       "\n",
       "</div>\n",
       "<div id=\"div_fig3\">\n",
       "\n",
       "<img src=\"tmp_2212.11991/./fit_trends1_residuals_v2.png\" alt=\"Fig6\" width=\"100%\"/>\n",
       "\n",
       "**Figure 6. -** A row-normalized histogram of the number of stars as a function of angle $\\theta_z$ at given vertical frequency $\\Omega_z$ for 12 bins in angular momentum $J_\\varphi$($\\mathrm{kpc km s^{-1}}$), i.e., $p(\\theta_z|\\Omega_z)$. The lines of panels show the data (top), the best fit from the model of Eq. (\\ref{eq:logl}) (middle), and the residuals between the data and this model (bottom). (*fig:best_fit_trends_res*)\n",
       "\n",
       "</div>"
      ],
      "text/plain": [
       "<IPython.core.display.Markdown object>"
      ]
     },
     "metadata": {},
     "output_type": "display_data"
    },
    {
     "data": {
      "text/markdown": [
       "<div class=\"macros\" style=\"visibility:hidden;\">\n",
       "$\\newcommand{\\ensuremath}{}$\n",
       "$\\newcommand{\\xspace}{}$\n",
       "$\\newcommand{\\object}[1]{\\texttt{#1}}$\n",
       "$\\newcommand{\\farcs}{{.}''}$\n",
       "$\\newcommand{\\farcm}{{.}'}$\n",
       "$\\newcommand{\\arcsec}{''}$\n",
       "$\\newcommand{\\arcmin}{'}$\n",
       "$\\newcommand{\\ion}[2]{#1#2}$\n",
       "$\\newcommand{\\textsc}[1]{\\textrm{#1}}$\n",
       "$\\newcommand{\\hl}[1]{\\textrm{#1}}$\n",
       "$\\newcommand{\\kms}{ km s^{-1}}$\n",
       "$\\newcommand{\\bibtex}{\\textsc{Bib}\\!\\TeX}$\n",
       "$\\newcommand$\n",
       "$\\newcommand{\\ngal}{ 17 }$\n",
       "$\\newcommand{\\UWyoming}{\\affiliation{Department of Physics and Astronomy, University of Wyoming, Laramie, WY 82071, USA}}$\n",
       "$\\newcommand{\\STScI}{\\affiliation{Space Telescope Science Institute, 3700 San Martin Drive, Baltimore, MD 21218, USA}}$\n",
       "$\\newcommand{\\UAntof}{\\affiliation{Centro de Astronomía (CITEVA), Universidad de Antofagasta, Avenida Angamos 601, Antofagasta, Chile}}$\n",
       "$\\newcommand{\\NOIRLab}{\\affiliation{Gemini Observatory/NSF NOIRLab, 950 N. Cherry Avenue, Tucson, AZ 85719, USA}}$\n",
       "$\\newcommand{\\UToledo}{\\affiliation{Ritter Astrophysical Research Center, University of Toledo, Toledo, OH 43606, USA}}$\n",
       "$\\newcommand{\\JHU}{\\affiliation{Department of Physics and Astronomy, The Johns Hopkins University, Baltimore, MD 21218 USA}}$\n",
       "$\\newcommand{\\Caltech}{\\affiliation{TAPIR, California Institute of Technology, Pasadena, CA 91125 USA}}$\n",
       "$\\newcommand{\\OSU}{\\affiliation{Department of Astronomy, The Ohio State University, 140 West 18th Ave., Columbus, OH 43210, USA}}$\n",
       "$\\newcommand{\\MPIA}{\\affiliation{Max Planck Institut f\\\"ur Astronomie, K\\\"onigstuhl 17, 69117 Heidelberg, Germany}}$\n",
       "$\\newcommand{\\ESO}{\\affiliation{European Southern Observatory,  Karl-Schwarzschild Str. 2, 85748 Garching bei Muenchen, Germany}}$\n",
       "$\\newcommand{\\UAlberta}{\\affiliation{Department of Physics, University of Alberta, Edmonton, AB T6G 2E1, Canada}}$\n",
       "$\\newcommand{\\UCSD}{\\affiliation{Center for Astrophysics \\& Space Sciences, Department of Physics,  University of California San Diego, 9500 Gilman Drive, La Jolla, CA 92093, USA}}$\n",
       "$\\newcommand{\\Belgium}{\\affiliation{Sterrenkundig Observatorium, Universiteit Gent, Krijgslaan 281 S9, B-9000 Gent, Belgium}}$\n",
       "$\\newcommand{\\UHeidelberg}{\\affiliation{Astronomisches Rechen-Institut, Zentrum für Astronomie der Universität Heidelberg, Mönchhofstr. 12-14, D-69120 Heidelberg, Germany}}$\n",
       "$\\newcommand{\\Bonn}{\\affiliation{Argelander-Institut für Astronomie, Universität Bonn, Auf dem Hügel 71, 53121, Bonn, Germany}}$\n",
       "$\\newcommand{\\ANU}{\\affiliation{Research School of Astronomy and Astrophysics, Australian National University, Canberra, ACT 2611, Australia}}$\n",
       "$\\newcommand{\\AthreeD}{\\affiliation{ARC Centre of Excellence for All Sky Astrophysics in 3 Dimensions (ASTRO 3D), Australia}}$\n",
       "$\\newcommand{\\nrao}{\\affiliation{National Radio Astronomy Observatory, 520 Edgemont Road, Charlottesville, VA 22903, USA}}$\n",
       "$\\newcommand{\\ITA}{\\affiliation{Institut f\\\"{u}r Theoretische Astrophysik, Zentrum f\\\"{u}r Astronomie der Universit\\\"{a}t Heidelberg,\\Albert-Ueberle-Strasse 2, 69120 Heidelberg, Germany}}$\n",
       "$\\newcommand{\\COOL}{\\affiliation{Cosmic Origins Of Life (COOL) Research DAO, coolresearch.io}}$\n",
       "$\\newcommand{\\IWR}{\\affiliation{Universit\\\"{a}t Heidelberg, Interdisziplin\\\"{a}res Zentrum f\\\"{u}r Wissenschaftliches Rechnen, Im Neuenheimer Feld 205, D-69120 Heidelberg, Germany}}$\n",
       "$\\newcommand{\\MPE}{\\affiliation{Max-Planck-Institut f\\\"ur Extraterrestrische Physik (MPE), Giessenbachstr. 1, D-85748 Garching, Germany}}$\n",
       "$\\newcommand{\\ICRAR}{\\affiliation{International Centre for Radio Astronomy Research, University of Western Australia, 35 Stirling Highway, Crawley, WA 6009, Australia}}$\n",
       "$\\newcommand{\\OCADU}{\\affiliation{OCAD University, Toronto, Ontario, M5T 1W1, Canada}}$\n",
       "$\\newcommand{\\UArizona}{\\affiliation{Steward Observatory, University of Arizona, 933 N Cherry Ave,Tucson, AZ 85721, USA}}$\n",
       "$\\newcommand{\\Riverside}{\\affiliation{Department of Physics and Astronomy, University of California, Riverside, CA, 92521 USA}}$\n",
       "$\\newcommand{\\Connecticut}{\\affiliation{University of Connecticut, Department of Physics, 196A  Auditorium Road, Unit 3046, Storrs, CT, 06269}}$\n",
       "$\\newcommand{\\ARI}{\\affiliation{Astrophysics Research Institute, Liverpool John Moores University, 146 Brownlow Hill, Liverpool L3 5RF, UK}}$\n",
       "$\\newcommand{\\LaPlata}{\\affiliation{Instituto de Astrofisica de La Plata, CONICET–UNLP,$\n",
       "$ Paseo del Bosque S/N, B1900FWA La Plata, Argentina }}$\n",
       "$\\newcommand{\\sorbonne}{\\affiliation{Sorbonne {Universit\\'e}, LERMA, Observatoire de Paris, PSL university, CNRS, F-75014, Paris, France}}$\n",
       "$\\newcommand{\\CITA}{\\affiliation{Canadian Institute for Theoretical Astrophysics (CITA), University of Toronto, 60 St George Street, Toronto, ON M5S 3H8, Canada}}$\n",
       "$\\newcommand{\\MCMASTER}{\\affiliation{Department of Physics and Astronomy, McMaster University, 1280 Main Street West, Hamilton, ON L8S 4M1, Canada}}$\n",
       "$\\newcommand{\\lea}{\\mathrel{<\\kern-1.0em\\lower0.9ex\\hbox{\\sim}}}$\n",
       "$\\newcommand{\\gea}{\\mathrel{>\\kern-1.0em\\lower0.9ex\\hbox{\\sim}}}$</div>\n",
       "\n",
       "<div class=\"macros\" style=\"visibility:hidden;\">\n",
       "$\\newcommand{$\\ensuremath$}{}$\n",
       "$\\newcommand{$\\xspace$}{}$\n",
       "$\\newcommand{$\\object$}[1]{\\texttt{#1}}$\n",
       "$\\newcommand{$\\farcs$}{{.}''}$\n",
       "$\\newcommand{$\\farcm$}{{.}'}$\n",
       "$\\newcommand{$\\arcsec$}{''}$\n",
       "$\\newcommand{$\\arcmin$}{'}$\n",
       "$\\newcommand{$\\ion$}[2]{#1#2}$\n",
       "$\\newcommand{$\\textsc$}[1]{\\textrm{#1}}$\n",
       "$\\newcommand{$\\hl$}[1]{\\textrm{#1}}$\n",
       "$\\newcommand{$\\kms$}{ km s^{-1}}$\n",
       "$\\newcommand{$\\bibtex$}{$\\textsc${Bib}\\!\\TeX}$\n",
       "$\\newcommand$\n",
       "$\\newcommand{$\\ngal$}{ 17 }$\n",
       "$\\newcommand{$\\UWyoming$}{\\affiliation{Department of Physics and Astronomy, University of Wyoming, Laramie, WY 82071, USA}}$\n",
       "$\\newcommand{$\\STScI$}{\\affiliation{Space Telescope Science Institute, 3700 San Martin Drive, Baltimore, MD 21218, USA}}$\n",
       "$\\newcommand{$\\UAntof$}{\\affiliation{Centro de Astronomía (CITEVA), Universidad de Antofagasta, Avenida Angamos 601, Antofagasta, Chile}}$\n",
       "$\\newcommand{$\\NOIRLab$}{\\affiliation{Gemini Observatory/NSF NOIRLab, 950 N. Cherry Avenue, Tucson, AZ 85719, USA}}$\n",
       "$\\newcommand{$\\UToledo$}{\\affiliation{Ritter Astrophysical Research Center, University of Toledo, Toledo, OH 43606, USA}}$\n",
       "$\\newcommand{$\\JHU$}{\\affiliation{Department of Physics and Astronomy, The Johns Hopkins University, Baltimore, MD 21218 USA}}$\n",
       "$\\newcommand{$\\Caltech$}{\\affiliation{TAPIR, California Institute of Technology, Pasadena, CA 91125 USA}}$\n",
       "$\\newcommand{$\\OSU$}{\\affiliation{Department of Astronomy, The Ohio State University, 140 West 18th Ave., Columbus, OH 43210, USA}}$\n",
       "$\\newcommand{$\\MPIA$}{\\affiliation{Max Planck Institut f\\\"ur Astronomie, K\\\"onigstuhl 17, 69117 Heidelberg, Germany}}$\n",
       "$\\newcommand{$\\ESO$}{\\affiliation{European Southern Observatory,  Karl-Schwarzschild Str. 2, 85748 Garching bei Muenchen, Germany}}$\n",
       "$\\newcommand{$\\UAlberta$}{\\affiliation{Department of Physics, University of Alberta, Edmonton, AB T6G 2E1, Canada}}$\n",
       "$\\newcommand{$\\UCSD$}{\\affiliation{Center for Astrophysics \\& Space Sciences, Department of Physics,  University of California San Diego, 9500 Gilman Drive, La Jolla, CA 92093, USA}}$\n",
       "$\\newcommand{$\\Belgium$}{\\affiliation{Sterrenkundig Observatorium, Universiteit Gent, Krijgslaan 281 S9, B-9000 Gent, Belgium}}$\n",
       "$\\newcommand{$\\UHeidelberg$}{\\affiliation{Astronomisches Rechen-Institut, Zentrum für Astronomie der Universität Heidelberg, Mönchhofstr. 12-14, D-69120 Heidelberg, Germany}}$\n",
       "$\\newcommand{$\\Bonn$}{\\affiliation{Argelander-Institut für Astronomie, Universität Bonn, Auf dem Hügel 71, 53121, Bonn, Germany}}$\n",
       "$\\newcommand{$\\ANU$}{\\affiliation{Research School of Astronomy and Astrophysics, Australian National University, Canberra, ACT 2611, Australia}}$\n",
       "$\\newcommand{$\\AthreeD$}{\\affiliation{ARC Centre of Excellence for All Sky Astrophysics in 3 Dimensions (ASTRO 3D), Australia}}$\n",
       "$\\newcommand{$\\nrao$}{\\affiliation{National Radio Astronomy Observatory, 520 Edgemont Road, Charlottesville, VA 22903, USA}}$\n",
       "$\\newcommand{$\\ITA$}{\\affiliation{Institut f\\\"{u}r Theoretische Astrophysik, Zentrum f\\\"{u}r Astronomie der Universit\\\"{a}t Heidelberg,\\Albert-Ueberle-Strasse 2, 69120 Heidelberg, Germany}}$\n",
       "$\\newcommand{$\\COOL$}{\\affiliation{Cosmic Origins Of Life (COOL) Research DAO, coolresearch.io}}$\n",
       "$\\newcommand{$\\IWR$}{\\affiliation{Universit\\\"{a}t Heidelberg, Interdisziplin\\\"{a}res Zentrum f\\\"{u}r Wissenschaftliches Rechnen, Im Neuenheimer Feld 205, D-69120 Heidelberg, Germany}}$\n",
       "$\\newcommand{$\\MPE$}{\\affiliation{Max-Planck-Institut f\\\"ur Extraterrestrische Physik (MPE), Giessenbachstr. 1, D-85748 Garching, Germany}}$\n",
       "$\\newcommand{$\\ICRAR$}{\\affiliation{International Centre for Radio Astronomy Research, University of Western Australia, 35 Stirling Highway, Crawley, WA 6009, Australia}}$\n",
       "$\\newcommand{$\\OCADU$}{\\affiliation{OCAD University, Toronto, Ontario, M5T 1W1, Canada}}$\n",
       "$\\newcommand{$\\UArizona$}{\\affiliation{Steward Observatory, University of Arizona, 933 N Cherry Ave,Tucson, AZ 85721, USA}}$\n",
       "$\\newcommand{$\\Riverside$}{\\affiliation{Department of Physics and Astronomy, University of California, Riverside, CA, 92521 USA}}$\n",
       "$\\newcommand{$\\Connecticut$}{\\affiliation{University of Connecticut, Department of Physics, 196A  Auditorium Road, Unit 3046, Storrs, CT, 06269}}$\n",
       "$\\newcommand{$\\ARI$}{\\affiliation{Astrophysics Research Institute, Liverpool John Moores University, 146 Brownlow Hill, Liverpool L3 5RF, UK}}$\n",
       "$\\newcommand{\\LaPlata}{\\affiliation{Instituto de Astrofisica de La Plata, CONICET–UNLP,$\n",
       "$ Paseo del Bosque S/N, B1900FWA La Plata, Argentina }}$\n",
       "$\\newcommand{$\\sorbonne$}{\\affiliation{Sorbonne {Universit\\'e}, LERMA, Observatoire de Paris, PSL university, CNRS, F-75014, Paris, France}}$\n",
       "$\\newcommand{$\\CITA$}{\\affiliation{Canadian Institute for Theoretical Astrophysics (CITA), University of Toronto, 60 St George Street, Toronto, ON M5S 3H8, Canada}}$\n",
       "$\\newcommand{$\\MCMASTER$}{\\affiliation{Department of Physics and Astronomy, McMaster University, 1280 Main Street West, Hamilton, ON L8S 4M1, Canada}}$\n",
       "$\\newcommand{$\\lea$}{\\mathrel{<\\kern-1.0em\\lower0.9ex\\hbox{\\sim}}}$\n",
       "$\\newcommand{$\\gea$}{\\mathrel{>\\kern-1.0em\\lower0.9ex\\hbox{\\sim}}}$</div>\n",
       "\n",
       "\n",
       "\n",
       "<div id=\"title\">\n",
       "\n",
       "# PHANGS-JWST First Results: Massive Young Star Clusters and New Insights from JWST Observations of NGC 1365\n",
       "\n",
       "</div>\n",
       "<div id=\"comments\">\n",
       "\n",
       "[![arXiv](https://img.shields.io/badge/arXiv-2212.12039-b31b1b.svg)](https://arxiv.org/abs/2212.12039)<mark>Appeared on: 2022-12-26</mark> - _17 pages, 9 figures, accepted for publications as part of PHANGS-JWST ApJL Focus Issue_\n",
       "\n",
       "</div>\n",
       "<div id=\"authors\">\n",
       "\n",
       "Bradley C. Whitmore, et al. -- incl., <mark><mark>Janice C. Lee</mark></mark>, <mark><mark>Kiana F. Henny</mark></mark>, <mark><mark>Stephen Hannon</mark></mark>, <mark><mark>Jonathan D. Henshaw</mark></mark>, <mark><mark>Eva Schinnerer</mark></mark>\n",
       "\n",
       "</div>\n",
       "<div id=\"abstract\">\n",
       "\n",
       "**Abstract:** A primary new capability of JWST is the ability to penetrate the dust in star forming galaxies to identify and study the properties ofyoung star clusters that remain embedded in dust and gas.In this paper we combine new infrared images taken with JWST with our optical HST images of the star-bursting barred (Seyfert2) spiral galaxy NGC 1365.We find that this galaxy has the richest population of massive young clusters of any known galaxy within 30 Mpc, with$\\sim$30 star clusters that are more massive than$10^{6} M_{\\odot}$and younger than 10 Myr. Sixteen of these clusters are newly discovered from our JWST observations.  An examination of the optical images reveals that 4 of 30 ($\\sim 13$\\%)  are so deeply embedded that they cannot be seen in the Hubble I band ($A_V $\\gea$ 10$mag), and that 11 of 30 ($\\sim37$\\%) are missing in the HST B  band,so age and mass estimates from optical measurements alone are challenging.  These numbers suggest that massive clusters in NGC 1365 remain completely obscured in the visible for$\\sim1.3\\pm0.7$Myr, and are either completely or partially obscured for$\\sim3.7\\pm1.1$Myr.We also use the JWST observations to gain new insights intothe triggering of star cluster formation by the collision of gas and dust streamers with gas and dust in the bar.  The JWST images reveal previously unknown structures (e.g., bridges and overshoot regions from stars that form in the bar) that help us better understand the orbital dynamics of barred galaxies and associated star-forming rings.Finally, we note that the excellent spatial  resolution of the NIRCAM F200W filter provides a  better way to separate barely resolved compact clusters from individual stars based on their sizes.\n",
       "\n",
       "</div>\n",
       "\n",
       "<div id=\"div_fig1\">\n",
       "\n",
       "<img src=\"tmp_2212.12039/./ngc1365_full_nov_23_trim.png\" alt=\"Fig1\" width=\"100%\"/>\n",
       "\n",
       "**Figure 1. -** \n",
       "An optical IVB  color image taken by Hubble of NGC 1365 is shown in the upper panel,  and a JWST infrared (F770W) plus Hubble (V and B) image is shown in the bottom panel. The full field of view covers an area of roughly 80$\"$$\\times$ 160$\"$(7.5 kpc $\\times$ 15.0 kpc). The fields-of-view for regions discussed in the text are shown, as well as the motion along the bar and along two of the  streamers. We note that the extensive star formation in the spiral arm and the end of the Eastern bar on the left edge of the image is outside the F770W field of view. (*fig:full_galaxy*)\n",
       "\n",
       "</div>\n",
       "<div id=\"div_fig2\">\n",
       "\n",
       "<img src=\"tmp_2212.12039/./ngc1365_region_2_nov_22_2022_trim.png\" alt=\"Fig5\" width=\"100%\"/>\n",
       "\n",
       "**Figure 5. -**  JWST (F770W and F300M) and Hubble (B band) images of Region \\# 2, just up the NE bar from the nucleus, as shown in Figure \\ref{fig:full_galaxy}. The different contrast levels highlight key features, including two young 'bubbles' resulting from star-formation that may have been triggered by a intra-bar streamer colliding with gas and dust in the bar itself, as shown by the arrows. Another feature, which is only visible in the JWST bands due to the heavy dust in the area, is the \"NE Bridge\", as discussed in the text.  (*fig:reg_2*)\n",
       "\n",
       "</div>\n",
       "<div id=\"div_fig3\">\n",
       "\n",
       "<img src=\"tmp_2212.12039/./ngc1365_7plot_nov_23.png\" alt=\"Fig7\" width=\"100%\"/>\n",
       "\n",
       "**Figure 7. -** \n",
       "Region 1 in NGC 1365.\n",
       "The figure shows an IVB image from Hubble in the upper left, and three images with different JWST bands  (F335M, F700W, or F2100) in red, F200W  (NIR continuum) in green, and I or V from Hubble in blue in the other panels.\n",
       "This region is just north of the nucleus, and contains the three strongest radio continuum sources in this galaxy, which appear to be young\n",
       "star clusters with masses of roughly log Mass in the range 6 to 7,\n",
       "(referred to as M4, M5, M6 by \\citealt{sandqvist95}, \\citealt{galliano08}, \\citealt{galliano2012}).\n",
       "Several thin dark filaments are shown along a ridge line containing some of the most recent star cluster formation in the F335M image. The holes in M4, M5, and M6 in both the F2100W and F770W images show where the data is saturated.\n",
       "The largely unobscured region to the upper right shows  an \"overshoot region\" outside the inner part of the galaxy\n",
       "(see \\citealt{sormani20}), with most of the clusters having estimated ages in the range between 10 to 20  Myr. The two bottom left panels show the excellent resolution of the JWST F200W image, and its ability to cut through the dust better than the I band Hubble image, which is shown to the right.  The bottom right panel shows the CO (2-1) line intensity emission map (Schinnerer et al. 2022, this volume) for Region 1. The small red cross in the top four panels is an artifact of the Hubble Legacy Archive which we used to make the figures, and should be ignored.\n",
       "Linear diagonal artifacts from the saturated nucleus are visible at the bottom edge of the three color panels using JWST filters.\n",
       " (*fig:reg_1*)\n",
       "\n",
       "</div>"
      ],
      "text/plain": [
       "<IPython.core.display.Markdown object>"
      ]
     },
     "metadata": {},
     "output_type": "display_data"
    }
   ],
   "source": [
    "[display(Markdown(k[1])) for k in documents];"
   ]
  },
  {
   "cell_type": "markdown",
   "id": "873873a4",
   "metadata": {
    "papermill": {
     "duration": 0.010078,
     "end_time": "2022-12-26T04:08:29.583683",
     "exception": false,
     "start_time": "2022-12-26T04:08:29.573605",
     "status": "completed"
    },
    "tags": []
   },
   "source": [
    "# Create HTML index"
   ]
  },
  {
   "cell_type": "code",
   "execution_count": 10,
   "id": "cf665672",
   "metadata": {
    "execution": {
     "iopub.execute_input": "2022-12-26T04:08:29.606545Z",
     "iopub.status.busy": "2022-12-26T04:08:29.605543Z",
     "iopub.status.idle": "2022-12-26T04:08:29.621189Z",
     "shell.execute_reply": "2022-12-26T04:08:29.620333Z"
    },
    "papermill": {
     "duration": 0.029813,
     "end_time": "2022-12-26T04:08:29.623127",
     "exception": false,
     "start_time": "2022-12-26T04:08:29.593314",
     "status": "completed"
    },
    "tags": []
   },
   "outputs": [
    {
     "name": "stdout",
     "output_type": "stream",
     "text": [
      "148  publications in the last 7 days.\n",
      "\t _build/html/2212.12039.md\n",
      "\t _build/html/2212.11991.md\n",
      "\t _build/html/2212.11425.md\n",
      "\t _build/html/2212.11177.md\n",
      "\t _build/html/2212.10804.md\n",
      "\t _build/html/2212.10512.md\n",
      "\t _build/html/2212.09766.md\n",
      "\t _build/html/2212.09675.md\n",
      "\t _build/html/2212.09661.md\n",
      "\t _build/html/2212.09652.md\n",
      "\t _build/html/2212.09443.md\n",
      "\t _build/html/2212.09307.md\n",
      "\t _build/html/2212.09168.md\n",
      "\t _build/html/2212.09159.md\n",
      "\t _build/html/2212.08702.md\n",
      "\t _build/html/2212.07332.md\n",
      "\t _build/html/2212.06434.md\n",
      "\t _build/html/2212.04710.md\n",
      "\t _build/html/2212.04026.md\n",
      "\t _build/html/2212.03563.md\n",
      "\t _build/html/2212.03514.md\n",
      "\t _build/html/2212.02667.md\n",
      "\t _build/html/2212.02627.md\n",
      "\t _build/html/2212.02235.md\n",
      "\t _build/html/2212.01707.md\n",
      "\t _build/html/2212.01526.md\n",
      "\t _build/html/2212.01397.md\n",
      "\t _build/html/2212.01291.md\n",
      "\t _build/html/2212.01281.md\n",
      "\t _build/html/2212.00812.md\n",
      "\t _build/html/2212.00811.md\n",
      "\t _build/html/2212.00806.md\n",
      "\t _build/html/2212.00047.md\n",
      "\t _build/html/2212.00032.md\n",
      "\t _build/html/2211.16996.md\n",
      "\t _build/html/2211.16510.md\n",
      "\t _build/html/2211.16123.md\n",
      "\t _build/html/2211.15816.md\n",
      "\t _build/html/2211.15698.md\n",
      "\t _build/html/2211.15576.md\n",
      "\t _build/html/2211.15434.md\n",
      "\t _build/html/2211.15288.md\n",
      "\t _build/html/2211.15224.md\n",
      "\t _build/html/2211.14543.md\n",
      "\t _build/html/2211.14330.md\n",
      "\t _build/html/2211.14322.md\n",
      "\t _build/html/2211.14132.md\n",
      "\t _build/html/2211.13811.md\n",
      "\t _build/html/2211.13426.md\n",
      "\t _build/html/2211.13318.md\n",
      "\t _build/html/2211.13146.md\n",
      "\t _build/html/2211.12613.md\n",
      "\t _build/html/2211.11767.md\n",
      "\t _build/html/2211.09840.md\n",
      "\t _build/html/2211.09217.md\n",
      "\t _build/html/2211.08493.md\n",
      "\t _build/html/2211.08487.md\n",
      "\t _build/html/2211.08294.md\n",
      "\t _build/html/2211.07667.md\n",
      "\t _build/html/2211.07659.md\n",
      "\t _build/html/2211.06454.md\n",
      "\t _build/html/2211.06205.md\n",
      "\t _build/html/2211.06194.md\n",
      "\t _build/html/2211.05022.md\n",
      "\t _build/html/2211.04048.md\n",
      "\t _build/html/2211.03641.md\n",
      "\t _build/html/2211.02502.md\n",
      "\t _build/html/2211.01474.md\n",
      "\t _build/html/2211.00667.md\n",
      "\t _build/html/2211.00657.md\n",
      "\t _build/html/2211.00087.md\n",
      "\t _build/html/2211.00036.md\n",
      "\t _build/html/2211.00020.md\n",
      "\t _build/html/2211.00010.md\n",
      "\t _build/html/2210.17434.md\n",
      "\t _build/html/2210.12412.md\n",
      "\t _build/html/2210.11926.md\n",
      "\t _build/html/2210.11551.md\n",
      "\t _build/html/2210.11103.md\n",
      "\t _build/html/2210.10707.md\n",
      "\t _build/html/2210.09930.md\n",
      "\t _build/html/2210.08996.md\n",
      "\t _build/html/2210.08517.md\n",
      "\t _build/html/2210.08510.md\n",
      "\t _build/html/2210.08078.md\n",
      "\t _build/html/2210.06504.md\n",
      "\t _build/html/2210.05695.md\n",
      "\t _build/html/2210.05595.md\n",
      "\t _build/html/2210.05505.md\n",
      "\t _build/html/2210.04721.md\n",
      "\t _build/html/2210.03615.md\n",
      "\t _build/html/2210.01811.md\n",
      "\t _build/html/2210.01809.md\n",
      "\t _build/html/2210.01556.md\n",
      "\t _build/html/2210.00863.md\n",
      "\t _build/html/2210.00560.md\n",
      "\t _build/html/2209.15403.md\n",
      "\t _build/html/2209.15110.md\n",
      "\t _build/html/2209.14410.md\n",
      "\t _build/html/2209.14396.md\n",
      "\t _build/html/2209.13717.md\n",
      "\t _build/html/2209.13336.md\n",
      "\t _build/html/2209.12906.md\n",
      "\t _build/html/2209.11781.md\n",
      "\t _build/html/2209.11602.md\n",
      "\t _build/html/2209.11248.md\n",
      "\t _build/html/2209.11096.md\n",
      "\t _build/html/2209.10618.md\n",
      "\t _build/html/2209.09914.md\n",
      "\t _build/html/2209.09823.md\n",
      "\t _build/html/2209.08242.md\n",
      "\t _build/html/2209.08120.md\n",
      "\t _build/html/2209.08106.md\n",
      "\t _build/html/2209.07962.md\n",
      "\t _build/html/2209.07931.md\n",
      "\t _build/html/2209.06833.md\n",
      "\t _build/html/2209.05814.md\n",
      "\t _build/html/2209.05593.md\n",
      "\t _build/html/2209.04304.md\n",
      "\t _build/html/2209.03367.md\n",
      "\t _build/html/2209.02872.md\n",
      "\t _build/html/2209.02725.md\n",
      "\t _build/html/2209.02722.md\n",
      "\t _build/html/2209.02092.md\n",
      "\t _build/html/2209.01125.md\n",
      "\t _build/html/2209.00828.md\n",
      "\t _build/html/2209.00363.md\n",
      "\t _build/html/2208.14927.md\n",
      "\t _build/html/2208.09335.md\n",
      "\t _build/html/2208.08872.md\n",
      "\t _build/html/2204.06393.md\n",
      "\t _build/html/2204.03335.md\n",
      "\t _build/html/2204.03253.md\n",
      "\t _build/html/2204.02998.md\n",
      "\t _build/html/2204.02109.md\n",
      "\t _build/html/2204.02017.md\n",
      "\t _build/html/2204.01824.md\n",
      "\t _build/html/2204.01758.md\n",
      "\t _build/html/2204.01245.md\n",
      "\t _build/html/2204.00793.md\n",
      "\t _build/html/2204.00342.md\n",
      "\t _build/html/2203.16959.md\n",
      "\t _build/html/2203.16856.md\n",
      "\t _build/html/2203.16735.md\n",
      "\t _build/html/2203.16734.md\n",
      "\t _build/html/2203.16504.md\n",
      "\t _build/html/2203.15822.md\n",
      "\t _build/html/2203.15811.md\n"
     ]
    }
   ],
   "source": [
    "from datetime import datetime, timedelta, timezone\n",
    "from glob import glob\n",
    "\n",
    "files = glob('_build/html/*.md')\n",
    "days = 7\n",
    "now = datetime.today()\n",
    "res = []\n",
    "for fk in files:\n",
    "    stat_result = os.stat(fk).st_ctime\n",
    "    modified = datetime.fromtimestamp(stat_result, tz=timezone.utc).replace(tzinfo=None)\n",
    "    delta = now.today() - modified\n",
    "    if delta <= timedelta(days=days):\n",
    "        res.append((delta.seconds, fk))\n",
    "res = [k[1] for k in reversed(sorted(res, key=lambda x:x[1]))]\n",
    "npub = len(res)\n",
    "print(len(res), f\" publications in the last {days:d} days.\")\n",
    "[ print('\\t', k) for k in res ];"
   ]
  },
  {
   "cell_type": "code",
   "execution_count": 11,
   "id": "52ca0208",
   "metadata": {
    "execution": {
     "iopub.execute_input": "2022-12-26T04:08:29.659477Z",
     "iopub.status.busy": "2022-12-26T04:08:29.658423Z",
     "iopub.status.idle": "2022-12-26T04:08:29.667813Z",
     "shell.execute_reply": "2022-12-26T04:08:29.667008Z"
    },
    "papermill": {
     "duration": 0.034337,
     "end_time": "2022-12-26T04:08:29.670121",
     "exception": false,
     "start_time": "2022-12-26T04:08:29.635784",
     "status": "completed"
    },
    "scrolled": false,
    "tags": []
   },
   "outputs": [],
   "source": [
    "def create_carousel(npub=4):\n",
    "    \"\"\" Generate the HTML code for a carousel with `npub` slides \"\"\"\n",
    "    carousel = [\"\"\"<section class=\"carousel\" aria-label=\"Gallery\">\"\"\",\n",
    "                \"\"\"  <ol class=\"carousel__viewport\">\"\"\",\n",
    "    ]\n",
    "    for k in range(1, npub + 1):\n",
    "        prev_ = k - 1\n",
    "        next_ = k + 1\n",
    "        if prev_ <= 0:\n",
    "            prev_ = npub\n",
    "        if next_ > npub:\n",
    "            next_ = 1\n",
    "        text  = f\"\"\"    <li id=\"carousel__slide{k}\" tabindex=\"0\" class=\"carousel__slide\">\\n\"\"\"\n",
    "        text += f\"\"\"       <div class=\"carousel__snapper\">\\n\"\"\"\n",
    "        text += f\"\"\"         <a href=\"#carousel__slide{prev_}\" class=\"carousel__prev\">Go to previous slide</a>\\n\"\"\"\n",
    "        text += f\"\"\"         <a href=\"#carousel__slide{next_}\" class=\"carousel__next\">Go to next slide</a>\\n\"\"\"\n",
    "        text += f\"\"\"         <div id=\"slide{k}_content\" class=\"md_view\" >Content {k}</div>\\n\"\"\"\n",
    "        text += f\"\"\"       </div>\\n\"\"\"\n",
    "        text += f\"\"\"    </li>\"\"\"\n",
    "        carousel.append(text)\n",
    "\n",
    "    carousel.extend([\n",
    "        \"\"\"  </ol>\"\"\",\n",
    "        \"\"\"  <aside class=\"carousel__navigation\">\"\"\",\n",
    "        \"\"\"    <ol class=\"carousel__navigation-list\">\"\"\"])\n",
    "\n",
    "    for k in range(1, npub + 1):\n",
    "        text  = f\"\"\"      <li class=\"carousel__navigation-item\">\\n\"\"\"\n",
    "        text += f\"\"\"        <a href=\"#carousel__slide{k}\" class=\"carousel__navigation-button\">Go to {k}</a>\\n\"\"\"\n",
    "        text += f\"\"\"      </li>\"\"\"\n",
    "        carousel.append(text)\n",
    "    carousel.extend([\"\"\"    </ol>\"\"\", \"\"\"  </aside>\"\"\", \"\"\"</section>\"\"\"])\n",
    "\n",
    "    return '\\n'.join(carousel)"
   ]
  },
  {
   "cell_type": "code",
   "execution_count": 12,
   "id": "a6eac5b6",
   "metadata": {
    "execution": {
     "iopub.execute_input": "2022-12-26T04:08:29.693926Z",
     "iopub.status.busy": "2022-12-26T04:08:29.693577Z",
     "iopub.status.idle": "2022-12-26T04:08:29.701938Z",
     "shell.execute_reply": "2022-12-26T04:08:29.701143Z"
    },
    "papermill": {
     "duration": 0.022843,
     "end_time": "2022-12-26T04:08:29.703825",
     "exception": false,
     "start_time": "2022-12-26T04:08:29.680982",
     "status": "completed"
    },
    "scrolled": false,
    "tags": []
   },
   "outputs": [],
   "source": [
    "carousel = create_carousel(npub)\n",
    "docs = ', '.join(['\"{0:s}\"'.format(k.split('/')[-1]) for k in res])\n",
    "slides = ', '.join([f'\"slide{k}_content\"' for k in range(1, npub + 1)])\n",
    "\n",
    "script = f\"\"\"\n",
    "const docs = [{docs}]\n",
    "\n",
    "const slides = [{slides}]\n",
    "\"\"\" + \"\"\"\n",
    "async function run() {\n",
    "    for (let i = 0; i < docs.length; i++) {\n",
    "        let file = await fetch(docs[i]);\n",
    "        let text = await file.text()\n",
    "        document.getElementById(slides[i]).innerHTML =\n",
    "            marked.parse(text);\n",
    "    }\n",
    "    hljs.highlightAll();\n",
    "}\n",
    "run()\n",
    "\"\"\"\n",
    "\n",
    "page = f\"\"\"<!doctype html>\n",
    "<html lang=\"en\">\n",
    "\n",
    "<head>\n",
    "  <meta charset=\"utf-8\">\n",
    "  <meta name=\"viewport\" content=\"width=device-width, initial-scale=1\">\n",
    "  <!-- Bootstrap CSS -->\n",
    "  <link href=\"https://cdn.jsdelivr.net/npm/bootstrap@5.0.2/dist/css/bootstrap.min.css\" rel=\"stylesheet\"\n",
    "   integrity=\"sha384-EVSTQN3/azprG1Anm3QDgpJLIm9Nao0Yz1ztcQTwFspd3yD65VohhpuuCOmLASjC\" crossorigin=\"anonymous\">\n",
    "  <!-- highlight.js CSS -->\n",
    "  <link rel=\"stylesheet\" href=\"https://cdnjs.cloudflare.com/ajax/libs/highlight.js/11.1.0/styles/default.min.css\">\n",
    "  <!-- Mathjax 3 -->\n",
    "  <script type=\"text/javascript\" id=\"MathJax-config\" src=\"mathjax_config.js\"> </script>\n",
    "  <script type=\"text/javascript\" id=\"MathJax-script\" async \n",
    "    src=\"https://cdn.jsdelivr.net/npm/mathjax@3/es5/tex-mml-chtml.js\">\n",
    "  </script>\n",
    "  <link rel=\"stylesheet\" href=\"index_carousel.css\">\n",
    "  <link rel=\"icon\" type=\"image/x-icon\" href=\"https://www.mpia.de/assets/touch-icon-32x32-a66937bcebc4e8894ebff1f41a366c7c7220fd97a38869ee0f2db65a9f59b6c1.png\">\n",
    "  <title>MPIA Arxiv on deck!</title>\n",
    "</head>\n",
    "\n",
    "<body>\n",
    "  <div id=\"header\"> <img src=\"header_banner.png\" width=\"100%\"></div>\n",
    "  <div id=\"suptitle\"> 7-day archives </div>\n",
    "  <div id=\"info\">\n",
    "    <img src=\"https://pngimg.com/uploads/github/github_PNG58.png\" height=30rem></img>\n",
    "    <a href=https://github.com/mpi-astronomy/arxiv_display style=\"color:black;\">github/mpi-astronomy/arxiv_display</a> \n",
    "  </div>\n",
    "  {carousel:s}\n",
    "</body>\n",
    "\n",
    "<!-- Render Markdown -->\n",
    "\n",
    "<body>\n",
    "  <!-- highlight.js: https://highlightjs.org/download/ -->\n",
    "  <script src=\"https://cdnjs.cloudflare.com/ajax/libs/highlight.js/11.5.0/highlight.min.js\"></script>\n",
    "  <!-- marked.js -->\n",
    "  <script src=\"https://cdn.jsdelivr.net/npm/marked/marked.min.js\"></script>\n",
    "  <script>{script:s}</script>\n",
    "</body>\n",
    "</html>\n",
    "\"\"\"\n",
    "with open(\"_build/html/index_7days.html\", 'w') as fout:\n",
    "    fout.write(page)"
   ]
  },
  {
   "cell_type": "markdown",
   "id": "1cebacbc",
   "metadata": {
    "papermill": {
     "duration": 0.010813,
     "end_time": "2022-12-26T04:08:29.725128",
     "exception": false,
     "start_time": "2022-12-26T04:08:29.714315",
     "status": "completed"
    },
    "tags": []
   },
   "source": [
    "# Debugging papers"
   ]
  },
  {
   "cell_type": "raw",
   "id": "debe7cc6",
   "metadata": {
    "papermill": {
     "duration": 0.010057,
     "end_time": "2022-12-26T04:08:29.745239",
     "exception": false,
     "start_time": "2022-12-26T04:08:29.735182",
     "status": "completed"
    },
    "tags": []
   },
   "source": [
    "raise NotImplementedError(\"Manual Stop\")"
   ]
  },
  {
   "cell_type": "raw",
   "id": "eb169192",
   "metadata": {
    "papermill": {
     "duration": 0.00994,
     "end_time": "2022-12-26T04:08:29.764950",
     "exception": false,
     "start_time": "2022-12-26T04:08:29.755010",
     "status": "completed"
    },
    "scrolled": true,
    "tags": []
   },
   "source": [
    "from IPython.display import display, Markdown\n",
    "from TexSoup import TexSoup\n",
    "import re\n",
    "\n",
    "def bracket_error(source: str):\n",
    "    \"\"\" Find problematic portions of the document \"\"\"\n",
    "    \n",
    "    print(\"len(source)\", len(source))\n",
    "    \n",
    "    # Checking header\n",
    "    begin_doc = next(re.finditer(r'\\\\begin\\{document\\}', doc.source)).span()[1]\n",
    "    header = source[:begin_doc]\n",
    "    text = header + r\"\\n\\end{document}\"\n",
    "\n",
    "    try:\n",
    "        # print(\"Header check... \", end='')\n",
    "        TexSoup(text)\n",
    "        display(Markdown(f\"**[OK]** - Header\"))\n",
    "    except:\n",
    "        raise RuntimeError(\"Error in the header\")\n",
    "        \n",
    "    # Check the text per section until the end.\n",
    "    # Do not stop and try them all.\n",
    "    \n",
    "    problematic_text = []\n",
    "    \n",
    "    sections = ([(0, begin_doc, 'until first section')] + \n",
    "                [(g.span()[0], g.span()[1], g.group()) for g in re.finditer(r'\\\\section\\{.*\\}', source)] +\n",
    "                [(g.span()[0], g.span()[1], g.group()) for g in re.finditer(r'\\\\begin\\{appendix\\}', source)]\n",
    "               )\n",
    "    sections.append([len(source), len(source), 'end'])\n",
    "    \n",
    "    sections = sorted(sections, key=lambda x: x[0])\n",
    "    \n",
    "    prev_pos, prev_name = (0, 'header')\n",
    "    parsed = []\n",
    "    \n",
    "    for span, span_end, name in sections:\n",
    "\n",
    "        if span - prev_pos <= 0:\n",
    "            continue\n",
    "            \n",
    "\n",
    "        text = source[prev_pos:span]\n",
    "        if prev_pos > begin_doc:\n",
    "            text = r\"\\n\\begin{document}\" + text + r\"\\n\\end{document}\"\n",
    "        else:\n",
    "            text = text + r\"\\n\\end{document}\"\n",
    "        try:\n",
    "            #print(f\"{prev_pos}:{prev_name}-->{span}:{name} check... \", end='')\n",
    "            parsed.append(TexSoup(text, tolerance=1))  # allow not ending env\n",
    "            display(Markdown(f\"**[OK]** - *{prev_pos}*:{prev_name} &rarr; *{span}*:{name}\"))\n",
    "            # print(\"ok\")\n",
    "\n",
    "            prev_pos = span\n",
    "            prev_name = name\n",
    "        except:\n",
    "            # print(f\"error between {prev_pos} and {span}\")\n",
    "            display(Markdown(f\"**[ERR]** *{prev_pos}*:{prev_name} &rarr; *{span}*:{name}\"))\n",
    "            problematic_text.append((prev_pos, source[prev_pos:span]))\n",
    "            prev_pos = span\n",
    "            prev_name = name\n",
    "            # raise\n",
    "    return problematic_text, parsed\n",
    "\n",
    "\n",
    "def check_environment(text, offset=0):\n",
    "    \"\"\" Check environment \"\"\"\n",
    "    env = re.compile(r\"\\\\begin\\{(?P<env>.*)\\}(.*)\\\\end\\{(?P=env)\\}\", re.DOTALL)\n",
    "\n",
    "    for match in env.finditer(text):\n",
    "        beg, end = match.span()\n",
    "        beg += offset\n",
    "        end += offset\n",
    "        envname = match.groups()[0]\n",
    "        try:\n",
    "            latex.TexSoup(match.group())\n",
    "        except Exception as e:\n",
    "            display(e)\n",
    "            print(f\"Error in {envname:s} between {beg} and {end}\")\n",
    "            return match.groups()[1], beg, end"
   ]
  },
  {
   "cell_type": "raw",
   "id": "2315e835",
   "metadata": {
    "papermill": {
     "duration": 0.045421,
     "end_time": "2022-12-26T04:08:29.822948",
     "exception": false,
     "start_time": "2022-12-26T04:08:29.777527",
     "status": "completed"
    },
    "scrolled": false,
    "tags": []
   },
   "source": [
    "import importlib\n",
    "importlib.reload(latex)\n",
    "which = \"2204.03253\"\n",
    "paper_id = f'{which:s}'\n",
    "folder = f'tmp_{paper_id:s}'\n",
    "\n",
    "if not os.path.isdir(folder):\n",
    "    folder = retrieve_document_source(f\"{paper_id}\", f'tmp_{paper_id}')\n",
    "\n",
    "try:\n",
    "    doc = latex.LatexDocument(folder, validation=validation)    \n",
    "except AffiliationError as affilerror:\n",
    "    msg = f\"ArXiv:{paper_id:s} is not an MPIA paper... \" + str(affilerror)\n",
    "    print(msg)\n",
    "\n",
    "\n",
    "# Hack because sometimes author parsing does not work well\n",
    "if (len(doc.authors) != len(paper['authors'])):\n",
    "    doc._authors = paper['authors']\n",
    "if (doc.abstract) in (None, ''):\n",
    "    doc._abstract = paper['abstract']\n",
    "\n",
    "doc.comment = get_markdown_badge(paper_id) + \" _\" + paper['comments'] + \"_\"\n",
    "doc.highlight_authors_in_list(hl_list)\n",
    "\n",
    "full_md = doc.generate_markdown_text()"
   ]
  },
  {
   "cell_type": "raw",
   "id": "dd3781db",
   "metadata": {
    "papermill": {
     "duration": 0.009906,
     "end_time": "2022-12-26T04:08:29.843040",
     "exception": false,
     "start_time": "2022-12-26T04:08:29.833134",
     "status": "completed"
    },
    "scrolled": false,
    "tags": []
   },
   "source": [
    "doc"
   ]
  },
  {
   "cell_type": "raw",
   "id": "c6eed834",
   "metadata": {
    "papermill": {
     "duration": 0.00967,
     "end_time": "2022-12-26T04:08:29.862817",
     "exception": false,
     "start_time": "2022-12-26T04:08:29.853147",
     "status": "completed"
    },
    "tags": []
   },
   "source": [
    "# [check_environment(k) for k in bracket_error(doc.source)]\n",
    "_, _, a = latex.get_content_per_section(doc.source, verbose=True)\n",
    "if not a:\n",
    "    print(\"no issues per section\")\n",
    "for ak in a:\n",
    "    r = check_environment(ak[1], offset=ak[0])\n",
    "    print(r[1], r[2])\n",
    "    print(r[0])"
   ]
  },
  {
   "cell_type": "code",
   "execution_count": null,
   "id": "71ce768a",
   "metadata": {
    "papermill": {
     "duration": 0.009906,
     "end_time": "2022-12-26T04:08:29.882561",
     "exception": false,
     "start_time": "2022-12-26T04:08:29.872655",
     "status": "completed"
    },
    "tags": []
   },
   "outputs": [],
   "source": []
  }
 ],
 "metadata": {
  "kernelspec": {
   "display_name": "Python 3.10.6 64-bit",
   "language": "python",
   "name": "python3"
  },
  "language_info": {
   "codemirror_mode": {
    "name": "ipython",
    "version": 3
   },
   "file_extension": ".py",
   "mimetype": "text/x-python",
   "name": "python",
   "nbconvert_exporter": "python",
   "pygments_lexer": "ipython3",
   "version": "3.9.16"
  },
  "papermill": {
   "default_parameters": {},
   "duration": 178.784518,
   "end_time": "2022-12-26T04:08:30.211379",
   "environment_variables": {},
   "exception": null,
   "input_path": "MPIA daily digest.ipynb",
   "output_path": "log.ipynb",
   "parameters": {},
   "start_time": "2022-12-26T04:05:31.426861",
   "version": "2.4.0"
  },
  "vscode": {
   "interpreter": {
    "hash": "e7370f93d1d0cde622a1f8e1c04877d8463912d04d973331ad4851f04de6915a"
   }
  },
  "widgets": {
   "application/vnd.jupyter.widget-state+json": {
    "state": {
     "1e70b5c8f81f4227bb974c1b34ffb80f": {
      "model_module": "@jupyter-widgets/controls",
      "model_module_version": "2.0.0",
      "model_name": "HTMLModel",
      "state": {
       "_dom_classes": [],
       "_model_module": "@jupyter-widgets/controls",
       "_model_module_version": "2.0.0",
       "_model_name": "HTMLModel",
       "_view_count": null,
       "_view_module": "@jupyter-widgets/controls",
       "_view_module_version": "2.0.0",
       "_view_name": "HTMLView",
       "description": "",
       "description_allow_html": false,
       "layout": "IPY_MODEL_c10c64e9edb5494595e3c504d74a6deb",
       "placeholder": "​",
       "style": "IPY_MODEL_d9734c19669b47a88e764674edad6c51",
       "tabbable": null,
       "tooltip": null,
       "value": "100%"
      }
     },
     "417a3dbffe8743519b446033e6595310": {
      "model_module": "@jupyter-widgets/controls",
      "model_module_version": "2.0.0",
      "model_name": "FloatProgressModel",
      "state": {
       "_dom_classes": [],
       "_model_module": "@jupyter-widgets/controls",
       "_model_module_version": "2.0.0",
       "_model_name": "FloatProgressModel",
       "_view_count": null,
       "_view_module": "@jupyter-widgets/controls",
       "_view_module_version": "2.0.0",
       "_view_name": "ProgressView",
       "bar_style": "success",
       "description": "",
       "description_allow_html": false,
       "layout": "IPY_MODEL_cba85090cb3f47759a189363aa606343",
       "max": 13.0,
       "min": 0.0,
       "orientation": "horizontal",
       "style": "IPY_MODEL_e5f06e22f4584636ab496d4d51318e5e",
       "tabbable": null,
       "tooltip": null,
       "value": 13.0
      }
     },
     "a11ec1df22b243caa0c18a034714c2e3": {
      "model_module": "@jupyter-widgets/base",
      "model_module_version": "2.0.0",
      "model_name": "LayoutModel",
      "state": {
       "_model_module": "@jupyter-widgets/base",
       "_model_module_version": "2.0.0",
       "_model_name": "LayoutModel",
       "_view_count": null,
       "_view_module": "@jupyter-widgets/base",
       "_view_module_version": "2.0.0",
       "_view_name": "LayoutView",
       "align_content": null,
       "align_items": null,
       "align_self": null,
       "border_bottom": null,
       "border_left": null,
       "border_right": null,
       "border_top": null,
       "bottom": null,
       "display": null,
       "flex": null,
       "flex_flow": null,
       "grid_area": null,
       "grid_auto_columns": null,
       "grid_auto_flow": null,
       "grid_auto_rows": null,
       "grid_column": null,
       "grid_gap": null,
       "grid_row": null,
       "grid_template_areas": null,
       "grid_template_columns": null,
       "grid_template_rows": null,
       "height": null,
       "justify_content": null,
       "justify_items": null,
       "left": null,
       "margin": null,
       "max_height": null,
       "max_width": null,
       "min_height": null,
       "min_width": null,
       "object_fit": null,
       "object_position": null,
       "order": null,
       "overflow": null,
       "padding": null,
       "right": null,
       "top": null,
       "visibility": null,
       "width": null
      }
     },
     "af0e8bb8b3d74b8aa15d7813cd2a2b43": {
      "model_module": "@jupyter-widgets/base",
      "model_module_version": "2.0.0",
      "model_name": "LayoutModel",
      "state": {
       "_model_module": "@jupyter-widgets/base",
       "_model_module_version": "2.0.0",
       "_model_name": "LayoutModel",
       "_view_count": null,
       "_view_module": "@jupyter-widgets/base",
       "_view_module_version": "2.0.0",
       "_view_name": "LayoutView",
       "align_content": null,
       "align_items": null,
       "align_self": null,
       "border_bottom": null,
       "border_left": null,
       "border_right": null,
       "border_top": null,
       "bottom": null,
       "display": null,
       "flex": null,
       "flex_flow": null,
       "grid_area": null,
       "grid_auto_columns": null,
       "grid_auto_flow": null,
       "grid_auto_rows": null,
       "grid_column": null,
       "grid_gap": null,
       "grid_row": null,
       "grid_template_areas": null,
       "grid_template_columns": null,
       "grid_template_rows": null,
       "height": null,
       "justify_content": null,
       "justify_items": null,
       "left": null,
       "margin": null,
       "max_height": null,
       "max_width": null,
       "min_height": null,
       "min_width": null,
       "object_fit": null,
       "object_position": null,
       "order": null,
       "overflow": null,
       "padding": null,
       "right": null,
       "top": null,
       "visibility": null,
       "width": null
      }
     },
     "c10c64e9edb5494595e3c504d74a6deb": {
      "model_module": "@jupyter-widgets/base",
      "model_module_version": "2.0.0",
      "model_name": "LayoutModel",
      "state": {
       "_model_module": "@jupyter-widgets/base",
       "_model_module_version": "2.0.0",
       "_model_name": "LayoutModel",
       "_view_count": null,
       "_view_module": "@jupyter-widgets/base",
       "_view_module_version": "2.0.0",
       "_view_name": "LayoutView",
       "align_content": null,
       "align_items": null,
       "align_self": null,
       "border_bottom": null,
       "border_left": null,
       "border_right": null,
       "border_top": null,
       "bottom": null,
       "display": null,
       "flex": null,
       "flex_flow": null,
       "grid_area": null,
       "grid_auto_columns": null,
       "grid_auto_flow": null,
       "grid_auto_rows": null,
       "grid_column": null,
       "grid_gap": null,
       "grid_row": null,
       "grid_template_areas": null,
       "grid_template_columns": null,
       "grid_template_rows": null,
       "height": null,
       "justify_content": null,
       "justify_items": null,
       "left": null,
       "margin": null,
       "max_height": null,
       "max_width": null,
       "min_height": null,
       "min_width": null,
       "object_fit": null,
       "object_position": null,
       "order": null,
       "overflow": null,
       "padding": null,
       "right": null,
       "top": null,
       "visibility": null,
       "width": null
      }
     },
     "cba85090cb3f47759a189363aa606343": {
      "model_module": "@jupyter-widgets/base",
      "model_module_version": "2.0.0",
      "model_name": "LayoutModel",
      "state": {
       "_model_module": "@jupyter-widgets/base",
       "_model_module_version": "2.0.0",
       "_model_name": "LayoutModel",
       "_view_count": null,
       "_view_module": "@jupyter-widgets/base",
       "_view_module_version": "2.0.0",
       "_view_name": "LayoutView",
       "align_content": null,
       "align_items": null,
       "align_self": null,
       "border_bottom": null,
       "border_left": null,
       "border_right": null,
       "border_top": null,
       "bottom": null,
       "display": null,
       "flex": null,
       "flex_flow": null,
       "grid_area": null,
       "grid_auto_columns": null,
       "grid_auto_flow": null,
       "grid_auto_rows": null,
       "grid_column": null,
       "grid_gap": null,
       "grid_row": null,
       "grid_template_areas": null,
       "grid_template_columns": null,
       "grid_template_rows": null,
       "height": null,
       "justify_content": null,
       "justify_items": null,
       "left": null,
       "margin": null,
       "max_height": null,
       "max_width": null,
       "min_height": null,
       "min_width": null,
       "object_fit": null,
       "object_position": null,
       "order": null,
       "overflow": null,
       "padding": null,
       "right": null,
       "top": null,
       "visibility": null,
       "width": null
      }
     },
     "d310a04d0aaf455b824e2bbe5896d8db": {
      "model_module": "@jupyter-widgets/controls",
      "model_module_version": "2.0.0",
      "model_name": "HBoxModel",
      "state": {
       "_dom_classes": [],
       "_model_module": "@jupyter-widgets/controls",
       "_model_module_version": "2.0.0",
       "_model_name": "HBoxModel",
       "_view_count": null,
       "_view_module": "@jupyter-widgets/controls",
       "_view_module_version": "2.0.0",
       "_view_name": "HBoxView",
       "box_style": "",
       "children": [
        "IPY_MODEL_1e70b5c8f81f4227bb974c1b34ffb80f",
        "IPY_MODEL_417a3dbffe8743519b446033e6595310",
        "IPY_MODEL_eba6c7ca00834459a09cf04fea95f248"
       ],
       "layout": "IPY_MODEL_af0e8bb8b3d74b8aa15d7813cd2a2b43",
       "tabbable": null,
       "tooltip": null
      }
     },
     "d9734c19669b47a88e764674edad6c51": {
      "model_module": "@jupyter-widgets/controls",
      "model_module_version": "2.0.0",
      "model_name": "HTMLStyleModel",
      "state": {
       "_model_module": "@jupyter-widgets/controls",
       "_model_module_version": "2.0.0",
       "_model_name": "HTMLStyleModel",
       "_view_count": null,
       "_view_module": "@jupyter-widgets/base",
       "_view_module_version": "2.0.0",
       "_view_name": "StyleView",
       "background": null,
       "description_width": "",
       "font_size": null,
       "text_color": null
      }
     },
     "dc66fef183cd4f3bb8610f15f9ebc769": {
      "model_module": "@jupyter-widgets/controls",
      "model_module_version": "2.0.0",
      "model_name": "HTMLStyleModel",
      "state": {
       "_model_module": "@jupyter-widgets/controls",
       "_model_module_version": "2.0.0",
       "_model_name": "HTMLStyleModel",
       "_view_count": null,
       "_view_module": "@jupyter-widgets/base",
       "_view_module_version": "2.0.0",
       "_view_name": "StyleView",
       "background": null,
       "description_width": "",
       "font_size": null,
       "text_color": null
      }
     },
     "e5f06e22f4584636ab496d4d51318e5e": {
      "model_module": "@jupyter-widgets/controls",
      "model_module_version": "2.0.0",
      "model_name": "ProgressStyleModel",
      "state": {
       "_model_module": "@jupyter-widgets/controls",
       "_model_module_version": "2.0.0",
       "_model_name": "ProgressStyleModel",
       "_view_count": null,
       "_view_module": "@jupyter-widgets/base",
       "_view_module_version": "2.0.0",
       "_view_name": "StyleView",
       "bar_color": null,
       "description_width": ""
      }
     },
     "eba6c7ca00834459a09cf04fea95f248": {
      "model_module": "@jupyter-widgets/controls",
      "model_module_version": "2.0.0",
      "model_name": "HTMLModel",
      "state": {
       "_dom_classes": [],
       "_model_module": "@jupyter-widgets/controls",
       "_model_module_version": "2.0.0",
       "_model_name": "HTMLModel",
       "_view_count": null,
       "_view_module": "@jupyter-widgets/controls",
       "_view_module_version": "2.0.0",
       "_view_name": "HTMLView",
       "description": "",
       "description_allow_html": false,
       "layout": "IPY_MODEL_a11ec1df22b243caa0c18a034714c2e3",
       "placeholder": "​",
       "style": "IPY_MODEL_dc66fef183cd4f3bb8610f15f9ebc769",
       "tabbable": null,
       "tooltip": null,
       "value": " 13/13 [02:25&lt;00:00,  4.95s/it]"
      }
     }
    },
    "version_major": 2,
    "version_minor": 0
   }
  }
 },
 "nbformat": 4,
 "nbformat_minor": 5
}