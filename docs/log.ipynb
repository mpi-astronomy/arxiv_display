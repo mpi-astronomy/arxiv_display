{
 "cells": [
  {
   "cell_type": "markdown",
   "id": "92bcb855",
   "metadata": {
    "papermill": {
     "duration": 0.007383,
     "end_time": "2023-02-13T04:08:07.073273",
     "exception": false,
     "start_time": "2023-02-13T04:08:07.065890",
     "status": "completed"
    },
    "tags": []
   },
   "source": [
    "# MPIA Arxiv on Deck 2\n",
    "\n",
    "Contains the steps to produce the paper extractions."
   ]
  },
  {
   "cell_type": "code",
   "execution_count": 1,
   "id": "3a0d6e11",
   "metadata": {
    "execution": {
     "iopub.execute_input": "2023-02-13T04:08:07.083872Z",
     "iopub.status.busy": "2023-02-13T04:08:07.083341Z",
     "iopub.status.idle": "2023-02-13T04:08:07.272223Z",
     "shell.execute_reply": "2023-02-13T04:08:07.271586Z"
    },
    "papermill": {
     "duration": 0.196052,
     "end_time": "2023-02-13T04:08:07.274052",
     "exception": false,
     "start_time": "2023-02-13T04:08:07.078000",
     "status": "completed"
    },
    "tags": []
   },
   "outputs": [],
   "source": [
    "# Imports\n",
    "import os\n",
    "from IPython.display import Markdown, display\n",
    "from tqdm.notebook import tqdm\n",
    "import warnings\n",
    "from PIL import Image \n",
    "\n",
    "# requires arxiv_on_deck_2\n",
    "\n",
    "from arxiv_on_deck_2.arxiv2 import (get_new_papers, \n",
    "                                    get_paper_from_identifier,\n",
    "                                    retrieve_document_source, \n",
    "                                    get_markdown_badge)\n",
    "from arxiv_on_deck_2 import (latex, \n",
    "                             mpia,\n",
    "                             highlight_authors_in_list)\n",
    "\n",
    "# Sometimes images are really big\n",
    "Image.MAX_IMAGE_PIXELS = 1000000000 "
   ]
  },
  {
   "cell_type": "code",
   "execution_count": 2,
   "id": "22aa9d44",
   "metadata": {
    "execution": {
     "iopub.execute_input": "2023-02-13T04:08:07.284234Z",
     "iopub.status.busy": "2023-02-13T04:08:07.283585Z",
     "iopub.status.idle": "2023-02-13T04:08:07.288526Z",
     "shell.execute_reply": "2023-02-13T04:08:07.287904Z"
    },
    "papermill": {
     "duration": 0.0119,
     "end_time": "2023-02-13T04:08:07.290165",
     "exception": false,
     "start_time": "2023-02-13T04:08:07.278265",
     "status": "completed"
    },
    "tags": []
   },
   "outputs": [],
   "source": [
    "# Some useful definitions.\n",
    "\n",
    "class AffiliationWarning(UserWarning):\n",
    "    pass\n",
    "\n",
    "class AffiliationError(RuntimeError):\n",
    "    pass\n",
    "\n",
    "def validation(source: str):\n",
    "    \"\"\"Raises error paper during parsing of source file\n",
    "    \n",
    "    Allows checks before parsing TeX code.\n",
    "    \n",
    "    Raises AffiliationWarning\n",
    "    \"\"\"\n",
    "    check = mpia.affiliation_verifications(source, verbose=True)\n",
    "    if check is not True:\n",
    "        raise AffiliationError(\"mpia.affiliation_verifications: \" + check)\n",
    "\n",
    "        \n",
    "warnings.simplefilter('always', AffiliationWarning)"
   ]
  },
  {
   "cell_type": "code",
   "execution_count": 3,
   "id": "14622700",
   "metadata": {
    "execution": {
     "iopub.execute_input": "2023-02-13T04:08:07.299520Z",
     "iopub.status.busy": "2023-02-13T04:08:07.299070Z",
     "iopub.status.idle": "2023-02-13T04:08:07.302794Z",
     "shell.execute_reply": "2023-02-13T04:08:07.302175Z"
    },
    "papermill": {
     "duration": 0.010153,
     "end_time": "2023-02-13T04:08:07.304385",
     "exception": false,
     "start_time": "2023-02-13T04:08:07.294232",
     "status": "completed"
    },
    "tags": []
   },
   "outputs": [],
   "source": [
    "# additional CSS to consider. \n",
    "# TODO: Current into each exported file. \n",
    "#       This should be set once into the webpages directly.\n",
    "#       With only the class/id definitions in the .md files.\n",
    "\n",
    "debug_html = \"\"\"\n",
    "<style>\n",
    "#wrap{ overflow:auto; }\n",
    "#fig1{ background:yellow; width:100%; float:left; padding:5px;  }\n",
    "#fig2{ background:red; width:50%; float:left; clear:left; padding:5px;  }\n",
    "#fig3{ background:green; width:50%; float:left; padding:5px;   }\n",
    ".macros{ background:yellow; visibility:visible;}\n",
    "h1 {margin: 0 0 0 0;}\n",
    "mark {background-color:#fff3b6;}\n",
    "img {object-fit:contain; max-height:250px; display:inline-block; text-align: center;}\n",
    "</style>\n",
    "\"\"\" \n",
    "html = \"\"\"\n",
    "<style>\n",
    "#wrap{ overflow:auto; }\n",
    "#fig1{ width:100%; float:left; padding: 5px;  }\n",
    "#fig2{ width:50%; float:left; clear:left; padding: 5px;  }\n",
    "#fig3{ width:50%; float:left; padding: 5px;  }\n",
    ".macros{ visibility:hidden; height:0px; }\n",
    "h1 {margin: 0em 0 0 0;}\n",
    "mark {background-color:#fff3b6;}\n",
    "img {object-fit:contain; max-height:250px; display:inline-block; text-align: center;}\n",
    "</style>\n",
    "\"\"\""
   ]
  },
  {
   "cell_type": "markdown",
   "id": "14bd6310",
   "metadata": {
    "papermill": {
     "duration": 0.003992,
     "end_time": "2023-02-13T04:08:07.312364",
     "exception": false,
     "start_time": "2023-02-13T04:08:07.308372",
     "status": "completed"
    },
    "tags": []
   },
   "source": [
    "## get list of arxiv paper candidates\n",
    "\n",
    "We use the MPIA mitarbeiter list webpage from mpia.de to get author names\n",
    "We then get all new papers from Arxiv and match authors"
   ]
  },
  {
   "cell_type": "code",
   "execution_count": 4,
   "id": "2645e73a",
   "metadata": {
    "execution": {
     "iopub.execute_input": "2023-02-13T04:08:07.322084Z",
     "iopub.status.busy": "2023-02-13T04:08:07.321417Z",
     "iopub.status.idle": "2023-02-13T04:08:33.606898Z",
     "shell.execute_reply": "2023-02-13T04:08:33.605328Z"
    },
    "papermill": {
     "duration": 26.292502,
     "end_time": "2023-02-13T04:08:33.608848",
     "exception": false,
     "start_time": "2023-02-13T04:08:07.316346",
     "status": "completed"
    },
    "tags": []
   },
   "outputs": [
    {
     "name": "stdout",
     "output_type": "stream",
     "text": [
      "Arxiv has 54 new papers today\n",
      "          22 with possible author matches\n"
     ]
    }
   ],
   "source": [
    "# get list from MPIA website\n",
    "# it automatically filters identified non-scientists :func:`mpia.filter_non_scientists`\n",
    "mpia_authors = mpia.get_mpia_mitarbeiter_list()\n",
    "new_papers = get_new_papers()\n",
    "# add manual references\n",
    "add_paper_refs = []\n",
    "new_papers.extend([get_paper_from_identifier(k) for k in add_paper_refs])\n",
    "\n",
    "# select only papers with matching author names and highlight authors\n",
    "hl_list = [k[0] for k in mpia_authors]\n",
    "\n",
    "candidates = []\n",
    "for paperk in new_papers:\n",
    "    hl_authors = highlight_authors_in_list(paperk['authors'], hl_list)\n",
    "    matches = [(hl, orig) for hl, orig in zip(hl_authors, paperk['authors']) if 'mark' in hl]\n",
    "    paperk['authors'] = hl_authors\n",
    "    if matches:\n",
    "        candidates.append(paperk)\n",
    "print(\"\"\"Arxiv has {0:,d} new papers today\"\"\".format(len(new_papers)))        \n",
    "print(\"\"\"          {0:,d} with possible author matches\"\"\".format(len(candidates)))"
   ]
  },
  {
   "cell_type": "markdown",
   "id": "3543b34a",
   "metadata": {
    "papermill": {
     "duration": 0.004138,
     "end_time": "2023-02-13T04:08:33.617544",
     "exception": false,
     "start_time": "2023-02-13T04:08:33.613406",
     "status": "completed"
    },
    "tags": []
   },
   "source": [
    "# Parse sources and generate relevant outputs\n",
    "\n",
    "From the candidates, we do the following steps:\n",
    "* get their tarball from ArXiv (and extract data)\n",
    "* find the main .tex file: find one with \\documentclass{...} (sometimes it's non trivial)\n",
    "* Check affiliations with :func:`validation`, which uses :func:`mpia.affiliation_verifications`\n",
    "* If passing the affiliations: we parse the .tex source\n",
    "   * inject sub-documents into the main (flatten the main document)\n",
    "   * parse structure, extract information (title, abstract, authors, figures...)\n",
    "   * handles `\\graphicspath` if provided\n",
    "* Generate the .md document."
   ]
  },
  {
   "cell_type": "code",
   "execution_count": 5,
   "id": "9576b79e",
   "metadata": {
    "execution": {
     "iopub.execute_input": "2023-02-13T04:08:33.627504Z",
     "iopub.status.busy": "2023-02-13T04:08:33.626953Z",
     "iopub.status.idle": "2023-02-13T04:09:29.606408Z",
     "shell.execute_reply": "2023-02-13T04:09:29.605722Z"
    },
    "papermill": {
     "duration": 55.986315,
     "end_time": "2023-02-13T04:09:29.607968",
     "exception": false,
     "start_time": "2023-02-13T04:08:33.621653",
     "status": "completed"
    },
    "scrolled": false,
    "tags": []
   },
   "outputs": [
    {
     "data": {
      "application/vnd.jupyter.widget-view+json": {
       "model_id": "5f927ec8363b4d3aabbe7e0ef3c8e8e6",
       "version_major": 2,
       "version_minor": 0
      },
      "text/plain": [
       "  0%|          | 0/21 [00:00<?, ?it/s]"
      ]
     },
     "metadata": {},
     "output_type": "display_data"
    },
    {
     "name": "stdout",
     "output_type": "stream",
     "text": [
      "Retrieving document from  https://arxiv.org/e-print/2302.04878\n"
     ]
    },
    {
     "name": "stdout",
     "output_type": "stream",
     "text": [
      "extracting tarball to tmp_2302.04878..."
     ]
    },
    {
     "name": "stdout",
     "output_type": "stream",
     "text": [
      " done.\n",
      "Retrieving document from  https://arxiv.org/e-print/2302.04880\n"
     ]
    },
    {
     "name": "stderr",
     "output_type": "stream",
     "text": [
      "/opt/hostedtoolcache/Python/3.9.16/x64/lib/python3.9/site-packages/IPython/core/interactiveshell.py:3460: LatexWarning: Multiple tex files.\n",
      "\n",
      "  exec(code_obj, self.user_global_ns, self.user_ns)\n",
      "/opt/hostedtoolcache/Python/3.9.16/x64/lib/python3.9/site-packages/IPython/core/interactiveshell.py:3460: LatexWarning: Found documentclass in tmp_2302.04878/main.tex\n",
      "\n",
      "  exec(code_obj, self.user_global_ns, self.user_ns)\n",
      "/opt/hostedtoolcache/Python/3.9.16/x64/lib/python3.9/site-packages/arxiv_on_deck_2/latex.py:292: LatexWarning: Latex injecting: 'tb_app' from 'tmp_2302.04878/tb_app.tex'\n",
      "  warnings.warn(LatexWarning(f\"Latex injecting: '{ext}' from '{subsource}'\"))\n",
      "/opt/hostedtoolcache/Python/3.9.16/x64/lib/python3.9/site-packages/arxiv_on_deck_2/latex.py:292: LatexWarning: Latex injecting: 'discussion' from 'tmp_2302.04878/discussion.tex'\n",
      "  warnings.warn(LatexWarning(f\"Latex injecting: '{ext}' from '{subsource}'\"))\n",
      "/opt/hostedtoolcache/Python/3.9.16/x64/lib/python3.9/site-packages/arxiv_on_deck_2/latex.py:292: LatexWarning: Latex injecting: 'results' from 'tmp_2302.04878/results.tex'\n",
      "  warnings.warn(LatexWarning(f\"Latex injecting: '{ext}' from '{subsource}'\"))\n",
      "/opt/hostedtoolcache/Python/3.9.16/x64/lib/python3.9/site-packages/arxiv_on_deck_2/latex.py:292: LatexWarning: Latex injecting: 'methods' from 'tmp_2302.04878/methods.tex'\n",
      "  warnings.warn(LatexWarning(f\"Latex injecting: '{ext}' from '{subsource}'\"))\n",
      "/opt/hostedtoolcache/Python/3.9.16/x64/lib/python3.9/site-packages/arxiv_on_deck_2/latex.py:292: LatexWarning: Latex injecting: 'data' from 'tmp_2302.04878/data.tex'\n",
      "  warnings.warn(LatexWarning(f\"Latex injecting: '{ext}' from '{subsource}'\"))\n",
      "/opt/hostedtoolcache/Python/3.9.16/x64/lib/python3.9/site-packages/arxiv_on_deck_2/latex.py:292: LatexWarning: Latex injecting: 'intro' from 'tmp_2302.04878/intro.tex'\n",
      "  warnings.warn(LatexWarning(f\"Latex injecting: '{ext}' from '{subsource}'\"))\n",
      "/opt/hostedtoolcache/Python/3.9.16/x64/lib/python3.9/site-packages/arxiv_on_deck_2/latex.py:292: LatexWarning: Latex injecting: 'authors' from 'tmp_2302.04878/authors.tex'\n",
      "  warnings.warn(LatexWarning(f\"Latex injecting: '{ext}' from '{subsource}'\"))\n",
      "/opt/hostedtoolcache/Python/3.9.16/x64/lib/python3.9/site-packages/arxiv_on_deck_2/latex.py:292: LatexWarning: Latex injecting: 'KNpaperCommands' from 'tmp_2302.04878/KNpaperCommands.tex'\n",
      "  warnings.warn(LatexWarning(f\"Latex injecting: '{ext}' from '{subsource}'\"))\n"
     ]
    },
    {
     "name": "stdout",
     "output_type": "stream",
     "text": [
      "extracting tarball to tmp_2302.04880..."
     ]
    },
    {
     "name": "stdout",
     "output_type": "stream",
     "text": [
      " done.\n",
      "Retrieving document from  https://arxiv.org/e-print/2302.04882\n"
     ]
    },
    {
     "name": "stdout",
     "output_type": "stream",
     "text": [
      "extracting tarball to tmp_2302.04882..."
     ]
    },
    {
     "name": "stdout",
     "output_type": "stream",
     "text": [
      " done.\n",
      "Retrieving document from  https://arxiv.org/e-print/2302.04884\n"
     ]
    },
    {
     "name": "stderr",
     "output_type": "stream",
     "text": [
      "/opt/hostedtoolcache/Python/3.9.16/x64/lib/python3.9/site-packages/IPython/core/interactiveshell.py:3460: LatexWarning: Multiple tex files.\n",
      "\n",
      "  exec(code_obj, self.user_global_ns, self.user_ns)\n",
      "/opt/hostedtoolcache/Python/3.9.16/x64/lib/python3.9/site-packages/IPython/core/interactiveshell.py:3460: LatexWarning: Found documentclass in tmp_2302.04882/paper.tex\n",
      "\n",
      "  exec(code_obj, self.user_global_ns, self.user_ns)\n",
      "/opt/hostedtoolcache/Python/3.9.16/x64/lib/python3.9/site-packages/arxiv_on_deck_2/latex.py:292: LatexWarning: Latex injecting: 'table_b.tex' from 'tmp_2302.04882/table_b.tex'\n",
      "  warnings.warn(LatexWarning(f\"Latex injecting: '{ext}' from '{subsource}'\"))\n",
      "/opt/hostedtoolcache/Python/3.9.16/x64/lib/python3.9/site-packages/arxiv_on_deck_2/latex.py:292: LatexWarning: Latex injecting: 'table_a.tex' from 'tmp_2302.04882/table_a.tex'\n",
      "  warnings.warn(LatexWarning(f\"Latex injecting: '{ext}' from '{subsource}'\"))\n",
      "/opt/hostedtoolcache/Python/3.9.16/x64/lib/python3.9/site-packages/arxiv_on_deck_2/latex.py:292: LatexWarning: Latex injecting: 'table5.tex' from 'tmp_2302.04882/table5.tex'\n",
      "  warnings.warn(LatexWarning(f\"Latex injecting: '{ext}' from '{subsource}'\"))\n",
      "/opt/hostedtoolcache/Python/3.9.16/x64/lib/python3.9/site-packages/arxiv_on_deck_2/latex.py:292: LatexWarning: Latex injecting: 'table4.tex' from 'tmp_2302.04882/table4.tex'\n",
      "  warnings.warn(LatexWarning(f\"Latex injecting: '{ext}' from '{subsource}'\"))\n",
      "/opt/hostedtoolcache/Python/3.9.16/x64/lib/python3.9/site-packages/arxiv_on_deck_2/latex.py:292: LatexWarning: Latex injecting: 'table3.tex' from 'tmp_2302.04882/table3.tex'\n",
      "  warnings.warn(LatexWarning(f\"Latex injecting: '{ext}' from '{subsource}'\"))\n",
      "/opt/hostedtoolcache/Python/3.9.16/x64/lib/python3.9/site-packages/arxiv_on_deck_2/latex.py:292: LatexWarning: Latex injecting: 'table2.tex' from 'tmp_2302.04882/table2.tex'\n",
      "  warnings.warn(LatexWarning(f\"Latex injecting: '{ext}' from '{subsource}'\"))\n",
      "/opt/hostedtoolcache/Python/3.9.16/x64/lib/python3.9/site-packages/arxiv_on_deck_2/latex.py:292: LatexWarning: Latex injecting: 'table1.tex' from 'tmp_2302.04882/table1.tex'\n",
      "  warnings.warn(LatexWarning(f\"Latex injecting: '{ext}' from '{subsource}'\"))\n",
      "/opt/hostedtoolcache/Python/3.9.16/x64/lib/python3.9/site-packages/arxiv_on_deck_2/latex.py:292: LatexWarning: Latex injecting: 'macros.tex' from 'tmp_2302.04882/macros.tex'\n",
      "  warnings.warn(LatexWarning(f\"Latex injecting: '{ext}' from '{subsource}'\"))\n"
     ]
    },
    {
     "name": "stdout",
     "output_type": "stream",
     "text": [
      "extracting tarball to tmp_2302.04884..."
     ]
    },
    {
     "name": "stdout",
     "output_type": "stream",
     "text": [
      " done.\n",
      "Retrieving document from  https://arxiv.org/e-print/2302.04888\n"
     ]
    },
    {
     "name": "stderr",
     "output_type": "stream",
     "text": [
      "/opt/hostedtoolcache/Python/3.9.16/x64/lib/python3.9/site-packages/IPython/core/interactiveshell.py:3460: LatexWarning: Multiple tex files.\n",
      "\n",
      "  exec(code_obj, self.user_global_ns, self.user_ns)\n",
      "/opt/hostedtoolcache/Python/3.9.16/x64/lib/python3.9/site-packages/IPython/core/interactiveshell.py:3460: LatexWarning: Found documentclass in tmp_2302.04884/research.tex\n",
      "\n",
      "  exec(code_obj, self.user_global_ns, self.user_ns)\n"
     ]
    },
    {
     "name": "stdout",
     "output_type": "stream",
     "text": [
      "extracting tarball to tmp_2302.04888..."
     ]
    },
    {
     "name": "stdout",
     "output_type": "stream",
     "text": [
      " done.\n",
      "Retrieving document from  https://arxiv.org/e-print/2302.04891\n"
     ]
    },
    {
     "name": "stdout",
     "output_type": "stream",
     "text": [
      "extracting tarball to tmp_2302.04891..."
     ]
    },
    {
     "name": "stdout",
     "output_type": "stream",
     "text": [
      " done.\n",
      "Retrieving document from  https://arxiv.org/e-print/2302.04893\n"
     ]
    },
    {
     "name": "stderr",
     "output_type": "stream",
     "text": [
      "/opt/hostedtoolcache/Python/3.9.16/x64/lib/python3.9/site-packages/IPython/core/interactiveshell.py:3460: LatexWarning: Multiple tex files.\n",
      "\n",
      "  exec(code_obj, self.user_global_ns, self.user_ns)\n",
      "/opt/hostedtoolcache/Python/3.9.16/x64/lib/python3.9/site-packages/IPython/core/interactiveshell.py:3460: LatexWarning: Found documentclass in tmp_2302.04891/main.tex\n",
      "\n",
      "  exec(code_obj, self.user_global_ns, self.user_ns)\n",
      "/opt/hostedtoolcache/Python/3.9.16/x64/lib/python3.9/site-packages/arxiv_on_deck_2/latex.py:292: LatexWarning: Latex injecting: 'new_commands.tex' from 'tmp_2302.04891/new_commands.tex'\n",
      "  warnings.warn(LatexWarning(f\"Latex injecting: '{ext}' from '{subsource}'\"))\n"
     ]
    },
    {
     "name": "stdout",
     "output_type": "stream",
     "text": [
      "extracting tarball to tmp_2302.04893..."
     ]
    },
    {
     "name": "stdout",
     "output_type": "stream",
     "text": [
      " done.\n",
      "Retrieving document from  https://arxiv.org/e-print/2302.04922\n"
     ]
    },
    {
     "name": "stdout",
     "output_type": "stream",
     "text": [
      "extracting tarball to tmp_2302.04922..."
     ]
    },
    {
     "name": "stdout",
     "output_type": "stream",
     "text": [
      " done.\n",
      "Retrieving document from  https://arxiv.org/e-print/2302.04958\n"
     ]
    },
    {
     "name": "stdout",
     "output_type": "stream",
     "text": [
      "extracting tarball to tmp_2302.04958..."
     ]
    },
    {
     "name": "stdout",
     "output_type": "stream",
     "text": [
      " done.\n",
      "Retrieving document from  https://arxiv.org/e-print/2302.05010\n"
     ]
    },
    {
     "name": "stdout",
     "output_type": "stream",
     "text": [
      "extracting tarball to tmp_2302.05010... done.\n",
      "Retrieving document from  https://arxiv.org/e-print/2302.05026\n"
     ]
    },
    {
     "name": "stderr",
     "output_type": "stream",
     "text": [
      "/tmp/ipykernel_1970/4030337529.py:34: LatexWarning: 2302.05026 did not run properly\n",
      "not a gzip file\n",
      "  warnings.warn(latex.LatexWarning(f\"{paper_id:s} did not run properly\\n\" +\n"
     ]
    },
    {
     "name": "stdout",
     "output_type": "stream",
     "text": [
      "Retrieving document from  https://arxiv.org/e-print/2302.05032\n"
     ]
    },
    {
     "name": "stdout",
     "output_type": "stream",
     "text": [
      "extracting tarball to tmp_2302.05032... done.\n",
      "Retrieving document from  https://arxiv.org/e-print/2302.05163\n"
     ]
    },
    {
     "name": "stdout",
     "output_type": "stream",
     "text": [
      "extracting tarball to tmp_2302.05163..."
     ]
    },
    {
     "name": "stdout",
     "output_type": "stream",
     "text": [
      " done.\n",
      "Retrieving document from  https://arxiv.org/e-print/2302.05184\n"
     ]
    },
    {
     "name": "stdout",
     "output_type": "stream",
     "text": [
      "extracting tarball to tmp_2302.05184..."
     ]
    },
    {
     "name": "stdout",
     "output_type": "stream",
     "text": [
      " done.\n",
      "Retrieving document from  https://arxiv.org/e-print/2302.05223\n"
     ]
    },
    {
     "name": "stderr",
     "output_type": "stream",
     "text": [
      "/opt/hostedtoolcache/Python/3.9.16/x64/lib/python3.9/site-packages/IPython/core/interactiveshell.py:3460: LatexWarning: Multiple tex files.\n",
      "\n",
      "  exec(code_obj, self.user_global_ns, self.user_ns)\n",
      "/opt/hostedtoolcache/Python/3.9.16/x64/lib/python3.9/site-packages/IPython/core/interactiveshell.py:3460: LatexWarning: Found documentclass in tmp_2302.05184/main.tex\n",
      "\n",
      "  exec(code_obj, self.user_global_ns, self.user_ns)\n"
     ]
    },
    {
     "name": "stdout",
     "output_type": "stream",
     "text": [
      "extracting tarball to tmp_2302.05223..."
     ]
    },
    {
     "name": "stdout",
     "output_type": "stream",
     "text": [
      " done.\n",
      "Retrieving document from  https://arxiv.org/e-print/2302.05228\n"
     ]
    },
    {
     "name": "stdout",
     "output_type": "stream",
     "text": [
      "extracting tarball to tmp_2302.05228..."
     ]
    },
    {
     "name": "stdout",
     "output_type": "stream",
     "text": [
      " done.\n",
      "Retrieving document from  https://arxiv.org/e-print/2302.05232\n"
     ]
    },
    {
     "name": "stderr",
     "output_type": "stream",
     "text": [
      "/opt/hostedtoolcache/Python/3.9.16/x64/lib/python3.9/site-packages/IPython/core/interactiveshell.py:3460: LatexWarning: Multiple tex files.\n",
      "\n",
      "  exec(code_obj, self.user_global_ns, self.user_ns)\n",
      "/opt/hostedtoolcache/Python/3.9.16/x64/lib/python3.9/site-packages/IPython/core/interactiveshell.py:3460: LatexWarning: Found documentclass in tmp_2302.05228/ms.tex\n",
      "\n",
      "  exec(code_obj, self.user_global_ns, self.user_ns)\n",
      "/opt/hostedtoolcache/Python/3.9.16/x64/lib/python3.9/site-packages/arxiv_on_deck_2/latex.py:292: LatexWarning: Latex injecting: 'authors_affiliations_LB_2021.11_general_aanda.tex' from 'tmp_2302.05228/authors_affiliations_LB_2021.11_general_aanda.tex'\n",
      "  warnings.warn(LatexWarning(f\"Latex injecting: '{ext}' from '{subsource}'\"))\n",
      "/opt/hostedtoolcache/Python/3.9.16/x64/lib/python3.9/site-packages/arxiv_on_deck_2/latex.py:292: LatexWarning: Latex injecting: 'Planck' from 'tmp_2302.05228/Planck.tex'\n",
      "  warnings.warn(LatexWarning(f\"Latex injecting: '{ext}' from '{subsource}'\"))\n",
      "/opt/hostedtoolcache/Python/3.9.16/x64/lib/python3.9/site-packages/arxiv_on_deck_2/latex.py:292: LatexWarning: Latex injecting: 'definitions' from 'tmp_2302.05228/definitions.tex'\n",
      "  warnings.warn(LatexWarning(f\"Latex injecting: '{ext}' from '{subsource}'\"))\n"
     ]
    },
    {
     "name": "stdout",
     "output_type": "stream",
     "text": [
      "extracting tarball to tmp_2302.05232..."
     ]
    },
    {
     "name": "stdout",
     "output_type": "stream",
     "text": [
      " done.\n",
      "Retrieving document from  https://arxiv.org/e-print/2302.05261\n"
     ]
    },
    {
     "name": "stdout",
     "output_type": "stream",
     "text": [
      "extracting tarball to tmp_2302.05261..."
     ]
    },
    {
     "name": "stdout",
     "output_type": "stream",
     "text": [
      " done.\n",
      "Retrieving document from  https://arxiv.org/e-print/2302.05341\n"
     ]
    },
    {
     "name": "stdout",
     "output_type": "stream",
     "text": [
      "extracting tarball to tmp_2302.05341..."
     ]
    },
    {
     "name": "stdout",
     "output_type": "stream",
     "text": [
      " done.\n",
      "Retrieving document from  https://arxiv.org/e-print/2302.05369\n"
     ]
    },
    {
     "name": "stderr",
     "output_type": "stream",
     "text": [
      "/opt/hostedtoolcache/Python/3.9.16/x64/lib/python3.9/site-packages/IPython/core/interactiveshell.py:3460: LatexWarning: Multiple tex files.\n",
      "\n",
      "  exec(code_obj, self.user_global_ns, self.user_ns)\n",
      "/opt/hostedtoolcache/Python/3.9.16/x64/lib/python3.9/site-packages/IPython/core/interactiveshell.py:3460: LatexWarning: Found documentclass in tmp_2302.05341/mnras_template.tex\n",
      "\n",
      "  exec(code_obj, self.user_global_ns, self.user_ns)\n"
     ]
    },
    {
     "name": "stdout",
     "output_type": "stream",
     "text": [
      "extracting tarball to tmp_2302.05369..."
     ]
    },
    {
     "name": "stdout",
     "output_type": "stream",
     "text": [
      " done.\n",
      "Retrieving document from  https://arxiv.org/e-print/2302.05370\n"
     ]
    },
    {
     "name": "stdout",
     "output_type": "stream",
     "text": [
      "extracting tarball to tmp_2302.05370..."
     ]
    },
    {
     "name": "stdout",
     "output_type": "stream",
     "text": [
      " done.\n"
     ]
    }
   ],
   "source": [
    "documents = []\n",
    "failed = []\n",
    "for paper in tqdm(candidates[:-1]):\n",
    "    paper_id = paper['identifier'].lower().replace('arxiv:', '')\n",
    "    \n",
    "    folder = f'tmp_{paper_id}'\n",
    "\n",
    "    try:\n",
    "        if not os.path.isdir(folder):\n",
    "            folder = retrieve_document_source(f\"{paper_id}\", f'tmp_{paper_id}')\n",
    "        \n",
    "        try:\n",
    "            doc = latex.LatexDocument(folder, validation=validation)    \n",
    "        except AffiliationError as affilerror:\n",
    "            msg = f\"ArXiv:{paper_id:s} is not an MPIA paper... \" + str(affilerror)\n",
    "            failed.append((paper, \"affiliation error: \" + str(affilerror) ))\n",
    "            continue\n",
    "        \n",
    "        # Hack because sometimes author parsing does not work well\n",
    "        if (len(doc.authors) != len(paper['authors'])):\n",
    "            doc._authors = paper['authors']\n",
    "        if (doc.abstract) in (None, ''):\n",
    "            doc._abstract = paper['abstract']\n",
    "            \n",
    "        doc.comment = (get_markdown_badge(paper_id) + \n",
    "                       \"<mark>Appeared on: \" + paper['date'] + \"</mark> - \" +\n",
    "                       \"_\" + paper['comments'] + \"_\")\n",
    "        doc.highlight_authors_in_list(hl_list)\n",
    "\n",
    "        full_md = doc.generate_markdown_text()\n",
    "        \n",
    "        documents.append((paper_id, full_md))\n",
    "    except Exception as e:\n",
    "        warnings.warn(latex.LatexWarning(f\"{paper_id:s} did not run properly\\n\" +\n",
    "                                         str(e)\n",
    "                                        ))\n",
    "        failed.append((paper, \"latex error \" + str(e)))"
   ]
  },
  {
   "cell_type": "markdown",
   "id": "2505a25c",
   "metadata": {
    "papermill": {
     "duration": 0.006652,
     "end_time": "2023-02-13T04:09:29.621667",
     "exception": false,
     "start_time": "2023-02-13T04:09:29.615015",
     "status": "completed"
    },
    "tags": []
   },
   "source": [
    "### Export the logs\n",
    "\n",
    "Throughout, we also keep track of the logs per paper. see `logs-{today date}.md` "
   ]
  },
  {
   "cell_type": "code",
   "execution_count": 6,
   "id": "d733828a",
   "metadata": {
    "execution": {
     "iopub.execute_input": "2023-02-13T04:09:29.636710Z",
     "iopub.status.busy": "2023-02-13T04:09:29.635949Z",
     "iopub.status.idle": "2023-02-13T04:09:29.665548Z",
     "shell.execute_reply": "2023-02-13T04:09:29.664843Z"
    },
    "papermill": {
     "duration": 0.038851,
     "end_time": "2023-02-13T04:09:29.667125",
     "exception": false,
     "start_time": "2023-02-13T04:09:29.628274",
     "status": "completed"
    },
    "scrolled": false,
    "tags": []
   },
   "outputs": [
    {
     "data": {
      "text/markdown": [
       "## Successful papers"
      ],
      "text/plain": [
       "<IPython.core.display.Markdown object>"
      ]
     },
     "metadata": {},
     "output_type": "display_data"
    },
    {
     "data": {
      "text/markdown": [
       "## Failed papers"
      ],
      "text/plain": [
       "<IPython.core.display.Markdown object>"
      ]
     },
     "metadata": {},
     "output_type": "display_data"
    },
    {
     "data": {
      "text/markdown": [
       "\n",
       "|||\n",
       "|---:|:---|\n",
       "| [![arXiv](https://img.shields.io/badge/arXiv-arXiv:2302.04891-b31b1b.svg)](https://arxiv.org/abs/arXiv:2302.04891) | **Demographics of Protoplanetary Disks: A Simulated Population of Edge-on  Systems**  |\n",
       "|| Isabel Angelo, et al. -- incl., <mark>William J. Fischer</mark> |\n",
       "|*Appeared on*| *2023-02-13*|\n",
       "|*Comments*| *20 pages, 6 figures*|\n",
       "|**Abstract**| The structure of protoplanetary disks plays an essential role in planet formation. Disks that are highly inclined, or ''edge-on'', are of particular interest since their geometry provides a unique opportunity to study the disk's vertical structure and radial extent. Candidate edge-on protoplanetary disks are typically identified via their unique spectral energy distribution and subsequently confirmed through high-resolution imaging. However, this selection process is likely biased toward the largest, most massive disks, and the resulting sample may not accurately represent the underlying disk population. To investigate this, we generated a grid of protoplanetary disk models using radiative transfer simulations and determined which sets of disk parameters produce edge-on systems that could be recovered by aforementioned detection techniques--i.e., identified by their spectral energy distribution and confirmed through follow-up imaging with HST. In doing so, we adopt a quantitative working definition of \"edge-on disks\" that is observation-driven and agnostic about the disk inclination or other properties. Folding in empirical disk demographics, we predict an occurrence rate of 6.2% for edge-on disks and quantify biases towards highly inclined, massive disks. We also find that edge-on disks are under-represented in samples of Spitzer-studied young stellar objects, particularly for disks with M $\\lesssim$ 0.5 $M_\\odot$. Overall, our analysis suggests that several dozen edge-on disks remain undiscovered in nearby star-forming regions, and provides a universal selection process to identify edge-on disks for consistent, population-level demographic studies. |\n",
       "|<p style=\"color:green\"> **ERROR** </p>| <p style=\"color:green\">affiliation error: mpia.affiliation_verifications: '69117' keyword not found.</p> |"
      ],
      "text/plain": [
       "<IPython.core.display.Markdown object>"
      ]
     },
     "metadata": {},
     "output_type": "display_data"
    },
    {
     "data": {
      "text/markdown": [
       "\n",
       "|||\n",
       "|---:|:---|\n",
       "| [![arXiv](https://img.shields.io/badge/arXiv-arXiv:2302.05223-b31b1b.svg)](https://arxiv.org/abs/arXiv:2302.05223) | **Protoplanetary Disk Science with the Orbiting Astronomical Satellite  Investigating Stellar Systems (OASIS) Observatory**  |\n",
       "|| <mark>Kamber Schwarz</mark>, et al. |\n",
       "|*Appeared on*| *2023-02-13*|\n",
       "|*Comments*| *19 pages, 5 figures, published in Space Science Reviews*|\n",
       "|**Abstract**| The Orbiting Astronomical Satellite for Investigating Stellar Systems (OASIS) is a NASA Astrophysics MIDEX-class mission concept, with the stated goal of following water from galaxies, through protostellar systems, to Earth's oceans. This paper details the protoplanetary disk science achievable with OASIS. OASIS's suite of heterodyne receivers allow for simultaneous, high spectral resolution observations of water emission lines spanning a large range of physical conditions within protoplanetary disks. These observations will allow us to map the spatial distribution of water vapor in disks across evolutionary stages and assess the importance of water, particularly the location of the midplane water snowline, to planet formation. OASIS will also detect the H2 isotopologue HD in 100+ disks, allowing for the most accurate determination of total protoplanetary disk gas mass to date. When combined with the contemporaneous water observations, the HD detection will also allow us to trace the evolution of water vapor across evolutionary stages. These observations will enable OASIS to characterize the time development of the water distribution and the role water plays in the process of planetary system formation. |\n",
       "|<p style=\"color:green\"> **ERROR** </p>| <p style=\"color:green\">affiliation error: mpia.affiliation_verifications: '69117' keyword not found.</p> |"
      ],
      "text/plain": [
       "<IPython.core.display.Markdown object>"
      ]
     },
     "metadata": {},
     "output_type": "display_data"
    },
    {
     "data": {
      "text/markdown": [
       "\n",
       "|||\n",
       "|---:|:---|\n",
       "| [![arXiv](https://img.shields.io/badge/arXiv-arXiv:2302.04878-b31b1b.svg)](https://arxiv.org/abs/arXiv:2302.04878) | **Designing an Optimal Kilonova Search using DECam for Gravitational Wave  Events**  |\n",
       "|| C. R. Bom, et al. -- incl., <mark>K. Herner</mark> |\n",
       "|*Appeared on*| *2023-02-13*|\n",
       "|*Comments*| *23 pages, 10 figures, to be submitted to AAS Journals*|\n",
       "|**Abstract**| We address the problem of optimally identifying all kilonovae detected via gravitational wave emission in the upcoming LIGO/Virgo/KAGRA Collaboration observing run, O4, which is expected to be sensitive to a factor of $\\sim 7$ more Binary Neutron Stars alerts than previously. Electromagnetic follow-up of all but the brightest of these new events will require $>1$ meter telescopes, for which limited time is available. We present an optimized observing strategy for the Dark Energy Camera during O4. We base our study on simulations of gravitational wave events expected for O4 and wide-prior kilonova simulations. We derive the detectabilities of events for realistic observing conditions. We optimize our strategy for confirming a kilonova while minimizing telescope time. For a wide range of kilonova parameters, corresponding to a fainter kilonova compared to GW170817/AT2017gfo we find that, with this optimal strategy, the discovery probability for electromagnetic counterparts with the Dark Energy Camera is $\\sim 80\\%$ at the nominal binary neutron star gravitational wave detection limit for the next LVK observing run (190 Mpc), which corresponds to a $\\sim 30\\%$ improvement compared to the strategy adopted during the previous observing run. For more distant events ($\\sim 330$ Mpc), we reach a $\\sim 60\\%$ probability of detection, a factor of $\\sim 2$ increase. For a brighter kilonova model dominated by the blue component that reproduces the observations of GW170817/AT2017gfo, we find that we can reach $\\sim 90\\%$ probability of detection out to 330 Mpc, representing an increase of $\\sim 20 \\%$, while also reducing the total telescope time required to follow-up events by $\\sim 20\\%$. |\n",
       "|<p style=\"color:green\"> **ERROR** </p>| <p style=\"color:green\">affiliation error: mpia.affiliation_verifications: 'Heidelberg' keyword not found.</p> |"
      ],
      "text/plain": [
       "<IPython.core.display.Markdown object>"
      ]
     },
     "metadata": {},
     "output_type": "display_data"
    },
    {
     "data": {
      "text/markdown": [
       "\n",
       "|||\n",
       "|---:|:---|\n",
       "| [![arXiv](https://img.shields.io/badge/arXiv-arXiv:2302.04880-b31b1b.svg)](https://arxiv.org/abs/arXiv:2302.04880) | **HI filaments as potential compass needles? Comparing the magnetic field  structure of the Small Magellanic Cloud to the orientation of GASKAP-HI  filaments**  |\n",
       "|| Y. K. Ma, et al. -- incl., <mark>M. -Y. Lee</mark> |\n",
       "|*Appeared on*| *2023-02-13*|\n",
       "|*Comments*| *24 pages, MNRAS accepted*|\n",
       "|**Abstract**| High-spatial-resolution HI observations have led to the realisation that the nearby (within few hundreds of parsecs) Galactic atomic filamentary structures are aligned with the ambient magnetic field. Enabled by the high quality data from the Australian Square Kilometre Array Pathfinder (ASKAP) radio telescope for the Galactic ASKAP HI (GASKAP-HI) survey, we investigate the potential magnetic alignment of the $\\gtrsim 10\\,{\\rm pc}$-scale HI filaments in the Small Magellanic Cloud (SMC). Using the Rolling Hough Transform (RHT) technique that automatically identifies filamentary structures, combined with our newly devised ray-tracing algorithm that compares the HI and starlight polarisation data, we find that the HI filaments in the northeastern end of the SMC main body (\"Bar\" region) and the transition area between the main body and the tidal feature (\"Wing\" region) appear preferentially aligned with the magnetic field traced by starlight polarisation. Meanwhile, the remaining SMC volume lacks starlight polarisation data of sufficient quality to draw any conclusions. This suggests for the first time that filamentary HI structures can be magnetically aligned across a large spatial volume ($\\gtrsim\\,{\\rm kpc}$) outside of the Milky Way. In addition, we generate maps of the preferred orientation of HI filaments throughout the entire SMC, revealing the highly complex gaseous structures of the galaxy likely shaped by a combination of the intrinsic internal gas dynamics, tidal interactions, and star formation feedback processes. These maps can further be compared with future measurements of the magnetic structures in other regions of the SMC. |\n",
       "|<p style=\"color:green\"> **ERROR** </p>| <p style=\"color:green\">affiliation error: mpia.affiliation_verifications: 'Heidelberg' keyword not found.</p> |"
      ],
      "text/plain": [
       "<IPython.core.display.Markdown object>"
      ]
     },
     "metadata": {},
     "output_type": "display_data"
    },
    {
     "data": {
      "text/markdown": [
       "\n",
       "|||\n",
       "|---:|:---|\n",
       "| [![arXiv](https://img.shields.io/badge/arXiv-arXiv:2302.04882-b31b1b.svg)](https://arxiv.org/abs/arXiv:2302.04882) | **Inferred galaxy properties during Cosmic Dawn from early JWST photometry  results**  |\n",
       "|| <mark>Corey Brummel-Smith</mark>, et al. |\n",
       "|*Appeared on*| *2023-02-13*|\n",
       "|*Comments*| *19 pages, 13 figures, 5 tables. Submitted to MNRAS. 12 figures, 13 tables in appendices*|\n",
       "|**Abstract**| Early photometric results from JWST have revealed a number of galaxy candidates above redshift 10. The initial estimates of inferred stellar masses and the associated cosmic star formation rates are above most theoretical model predictions up to a factor of 20 in the most extreme cases, while this has been moderated after the recalibration of NIRCam and subsequent spectroscopic detections. Using these recent JWST observations, we use galaxy scaling relations from cosmological simulations to model the star formation history to very high redshifts, back to a starting halo mass of 10^7 solar masses, to infer the intrinsic properties of the JWST galaxies. Here we explore the contribution of supermassive black holes, stellar binaries, and an excess of massive stars to the overall luminosity of high-redshift galaxies. Despite the addition of alternative components to the spectral energy distribution, we find stellar masses equal to or slightly higher than previous stellar mass estimates. Most galaxy spectra are dominated by the stellar component, and the exact choice for the stellar population model does not appear to make a major difference. We find that four of the 12 high-redshift galaxy candidates are best fit with a non-negligible active galactic nuclei component, but the evidence from the continuum alone is insufficient to confirm their existence. Upcoming spectroscopic observations of z > 10 galaxies will confirm the presence and nature of high-energy sources in the early universe and will constrain their exact redshifts. |\n",
       "|<p style=\"color:green\"> **ERROR** </p>| <p style=\"color:green\">affiliation error: mpia.affiliation_verifications: 'Heidelberg' keyword not found.</p> |"
      ],
      "text/plain": [
       "<IPython.core.display.Markdown object>"
      ]
     },
     "metadata": {},
     "output_type": "display_data"
    },
    {
     "data": {
      "text/markdown": [
       "\n",
       "|||\n",
       "|---:|:---|\n",
       "| [![arXiv](https://img.shields.io/badge/arXiv-arXiv:2302.04884-b31b1b.svg)](https://arxiv.org/abs/arXiv:2302.04884) | **Timing coincidence search for supernova neutrinos with optical transient  surveys**  |\n",
       "|| <mark>Sean Heston</mark>, Emily Kehoe, Yudai Suwa, Shunsaku Horiuchi |\n",
       "|*Appeared on*| *2023-02-13*|\n",
       "|*Comments*| *12 pages, 7 figures, 1 table; comments welcome*|\n",
       "|**Abstract**| Neutrinos allow the probing of stellar interiors during core collapse, helping to understand the different stages and processes in the collapse. To date, supernova neutrinos have only been detected from a single event, SN1987A. Most studies from then on have focused on two distance extremes: Galactic/local supernovae and all past cosmic supernovae forming the diffuse supernova neutrino background. We focus on the intermediate distance regime as a target for detecting core-collapse supernova neutrinos at next generation detectors like Hyper-Kamiokande. To quantify the significance of neutrino detections, we draw on expected discoveries by surveys of near galaxies as well as large synoptic surveys to monitor for optical counterparts of core-collapse supernovae. We find that detection prospects require approximately 10 years of operation. We discuss how the ability of electromagnetic surveys to pinpoint the time of core collapse to within the timescale of hours is key for confident neutrino detections. Transient surveys like DLT40 which frequently observe nearby galaxies can help with such crucial information. |\n",
       "|<p style=\"color:green\"> **ERROR** </p>| <p style=\"color:green\">affiliation error: mpia.affiliation_verifications: 'Heidelberg' keyword not found.</p> |"
      ],
      "text/plain": [
       "<IPython.core.display.Markdown object>"
      ]
     },
     "metadata": {},
     "output_type": "display_data"
    },
    {
     "data": {
      "text/markdown": [
       "\n",
       "|||\n",
       "|---:|:---|\n",
       "| [![arXiv](https://img.shields.io/badge/arXiv-arXiv:2302.04888-b31b1b.svg)](https://arxiv.org/abs/arXiv:2302.04888) | **A candidate runaway supermassive black hole identified by shocks and  star formation in its wake**  |\n",
       "|| Pieter van Dokkum, et al. -- incl., <mark>Frank C. van den Bosch</mark> |\n",
       "|*Appeared on*| *2023-02-13*|\n",
       "|*Comments*| *Accepted for publication in ApJ Letters. The key data are in Figure 1: a really odd thin streak in HST images, with a complex emission line spectrum. Figure 7 is an illustration of our proposed interpretation*|\n",
       "|**Abstract**| The interaction of a runaway supermassive black hole (SMBH) with the circumgalactic medium (CGM) can lead to the formation of a wake of shocked gas and young stars behind it. Here we report the serendipitous discovery of an extremely narrow linear feature in HST/ACS images that may be an example of such a wake. The feature extends 62 kpc from the nucleus of a compact star-forming galaxy at z=0.964. Keck LRIS spectra show that the [OIII]/H$\\beta$ ratio varies from ~1 to ~10 along the feature, indicating a mixture of star formation and fast shocks. The feature terminates in a bright [OIII] knot with a luminosity of 1.9x10$^{41}$ ergs/s. The stellar continuum colors vary along the feature, and are well-fit by a simple model that has a monotonically increasing age with distance from the tip. The line ratios, colors, and the overall morphology are consistent with an ejected SMBH moving through the CGM at high speed while triggering star formation. The best-fit time since ejection is ~39 Myr and the implied velocity is v~1600 km/s. The feature is not perfectly straight in the HST images, and we show that the amplitude of the observed spatial variations is consistent with the runaway SMBH interpretation. Opposite the primary wake is a fainter and shorter feature, marginally detected in [OIII] and the rest-frame far-ultraviolet. This feature may be shocked gas behind a binary SMBH that was ejected at the same time as the SMBH that produced the primary wake. |\n",
       "|<p style=\"color:green\"> **ERROR** </p>| <p style=\"color:green\">affiliation error: mpia.affiliation_verifications: 'Heidelberg' keyword not found.</p> |"
      ],
      "text/plain": [
       "<IPython.core.display.Markdown object>"
      ]
     },
     "metadata": {},
     "output_type": "display_data"
    },
    {
     "data": {
      "text/markdown": [
       "\n",
       "|||\n",
       "|---:|:---|\n",
       "| [![arXiv](https://img.shields.io/badge/arXiv-arXiv:2302.04893-b31b1b.svg)](https://arxiv.org/abs/arXiv:2302.04893) | **Testing the Interaction Between a Substellar Companion and a Debris Disk  in the HR 2562 System**  |\n",
       "|| <mark>Stella Yimiao Zhang</mark>, et al. -- incl., <mark>Brenda Matthews</mark>, <mark>Alexandra Z. Greenbaum</mark>, <mark>Li-Wei Hung</mark>, <mark>Lisa A. Poyneer</mark> |\n",
       "|*Appeared on*| *2023-02-13*|\n",
       "|*Comments*| *22 pages, 17 figures*|\n",
       "|**Abstract**| The HR 2562 system is a rare case where a brown dwarf companion resides in a cleared inner hole of a debris disk, offering invaluable opportunities to study the dynamical interaction between a substellar companion and a dusty disk. We present the first ALMA observation of the system as well as the continued GPI monitoring of the companion's orbit with 6 new epochs from 2016 to 2018. We update the orbital fit and, in combination with absolute astrometry from GAIA, place a 3$\\sigma$ upper limit of 18.5 $M_J$ on the companion's mass. To interpret the ALMA observations, we used radiative transfer modeling to determine the disk properties. We find that the disk is well resolved and nearly edge on. While the misalignment angle between the disk and the orbit is weakly constrained due to the short orbital arc available, the data strongly support a (near) coplanar geometry for the system. Furthermore, we find that the models that describe the ALMA data best have an inner radius that is close to the companion's semi-major axis. Including a posteriori knowledge of the system's SED further narrows the constraints on the disk's inner radius and place it at a location that is in reasonable agreement with, possibly interior to, predictions from existing dynamical models of disk truncation by an interior substellar companion. HR\\,2562 has the potential over the next few years to become a new testbed for dynamical interaction between a debris disk and a substellar companion. |\n",
       "|<p style=\"color:green\"> **ERROR** </p>| <p style=\"color:green\">affiliation error: mpia.affiliation_verifications: 'Heidelberg' keyword not found.</p> |"
      ],
      "text/plain": [
       "<IPython.core.display.Markdown object>"
      ]
     },
     "metadata": {},
     "output_type": "display_data"
    },
    {
     "data": {
      "text/markdown": [
       "\n",
       "|||\n",
       "|---:|:---|\n",
       "| [![arXiv](https://img.shields.io/badge/arXiv-arXiv:2302.04922-b31b1b.svg)](https://arxiv.org/abs/arXiv:2302.04922) | **Validating AU Microscopii d with Transit Timing Variations**  |\n",
       "|| Justin M. Wittrock, et al. -- incl., <mark>Richard P. Schwarz</mark> |\n",
       "|*Appeared on*| *2023-02-13*|\n",
       "|*Comments*| *59 pages, 27 figures, 25 tables. Submitted to AAS Journals on 2023 Feb 9th*|\n",
       "|**Abstract**| AU Mic is a young (22 Myr) nearby exoplanetary system that exhibits excess TTVs that cannot be accounted for by the two known transiting planets nor stellar activity. In this work, we present the validation of the candidate planet AU Mic d. We add 18 new transits and nine midpoint times in an updated TTV analysis to prior work. We perform the joint modeling of transit light curves using EXOFASTv2 and extract the transit midpoint times. Next, we construct an O-C diagram and use Exo-Striker to model the TTVs. We generate TTV log-likelihood periodograms to explore possible solutions for the period of planet d and then follow those up with detailed TTV and RV MCMC modeling and stability tests. We find several candidate periods for AU Mic d, all of which are near resonances with AU Mic b and c of varying order. Based on our model comparisons, the most-favored orbital period of AU Mic d is 12.73812+/-0.00128 days (T_{C,d}=2458333.32110+/-0.35836 BJD), which puts the three planets near a 4:6:9 mean-motion orbital resonance. The mass for d is M_d=1.013+/-0.146 M_E, making this planet Earth-like in mass. The presence of orbital resonances in a very young system implies that compact planetary systems can develop resonant chains very early on, which can quickly establish the stability of the systems. Additional TTV observation of the AU Mic system are needed to further constrain the planetary masses, search for possible transits of AU Mic d, and detect possible additional planets beyond AU Mic c. |\n",
       "|<p style=\"color:green\"> **ERROR** </p>| <p style=\"color:green\">affiliation error: mpia.affiliation_verifications: 'Heidelberg' keyword not found.</p> |"
      ],
      "text/plain": [
       "<IPython.core.display.Markdown object>"
      ]
     },
     "metadata": {},
     "output_type": "display_data"
    },
    {
     "data": {
      "text/markdown": [
       "\n",
       "|||\n",
       "|---:|:---|\n",
       "| [![arXiv](https://img.shields.io/badge/arXiv-arXiv:2302.04958-b31b1b.svg)](https://arxiv.org/abs/arXiv:2302.04958) | **The Superluminous Type IIn Supernova ASASSN-15ua: Part of a continuum in  extreme precursor mass loss**  |\n",
       "|| Danielle Dickinson, et al. -- incl., <mark>Nathan Smith</mark> |\n",
       "|*Appeared on*| *2023-02-13*|\n",
       "|*Comments*| *Submitted to Monthly Notices Feb 9, 2023*|\n",
       "|**Abstract**| We present a series of ground-based photometry and spectroscopy of the superluminous Type IIn supernova (SN) ASASSN-15ua, which shows evidence for strong interaction with pre-existing dense circumstellar material (CSM). Our observations constrain the speed, mass-loss rate, and extent of the progenitor wind shortly before explosion. A narrow P Cygni absorption component reveals a progenitor wind speed of $\\sim$100 km s$^{-1}$. As observed in previous SNe IIn, the intermediate-width H$\\alpha$ emission became progressively more asymmetric and blueshifted, suggesting either an asymmetric CSM, an asymmetric explosion, or increasing selective extinction from dust within the post-shock shell or SN ejecta. Based on the CSM radius and speed, we find that the progenitor suffered extreme eruptive mass loss on the order of 0.1-1 M$_\\odot$ yr$^{-1}$ during the $\\sim$12 years immediately preceding its death, imparting $\\sim$ 8 $\\times$ 10$^{47}$ erg of kinetic energy to the CSM. Integrating its light curve over the first 200 days after discovery, we find that ASASSN-15ua radiated at least 3.1$\\times$10$^{50}$ erg in visual light alone, giving a lower limit to the total radiated energy that may have approached 10$^{51}$ erg. ASASSN-15ua exhibits many similarities to two well-studied superluminous SNe IIn: SN 2006tf and SN 2010jl. Based on a detailed comparison of these three, we find that ASASSN-15ua falls in between these two events in a wide variety of observed properties and derived physical parameters, illustrating a continuum of behavior across superluminous SNe IIn. |\n",
       "|<p style=\"color:green\"> **ERROR** </p>| <p style=\"color:green\">affiliation error: mpia.affiliation_verifications: 'Heidelberg' keyword not found.</p> |"
      ],
      "text/plain": [
       "<IPython.core.display.Markdown object>"
      ]
     },
     "metadata": {},
     "output_type": "display_data"
    },
    {
     "data": {
      "text/markdown": [
       "\n",
       "|||\n",
       "|---:|:---|\n",
       "| [![arXiv](https://img.shields.io/badge/arXiv-arXiv:2302.05010-b31b1b.svg)](https://arxiv.org/abs/arXiv:2302.05010) | **Constraints on dark energy from the CSST galaxy clusters**  |\n",
       "|| <mark>Yufei Zhang</mark>, Mingjing Chen, Zhonglue Wen, Wenjuan Fang |\n",
       "|*Appeared on*| *2023-02-13*|\n",
       "|*Comments*| *19 pages, 5 figures, 4 tables. Accepted for publication in Research in Astronomy and Astrophysics*|\n",
       "|**Abstract**| We study the potential of the galaxy cluster sample expected from the China Space Station Telescope (CSST) survey to constrain dark energy properties. By modelling the distribution of observed cluster mass for a given true mass to be log-normal and adopting a selection threshold in the observed mass $M_{200m} \\geq 0.836 \\times 10^{14} h^{-1}M_{\\odot}$, we find about $4.1 \\times 10^{5}$ clusters in the redshift range $0 \\leq z \\leq 1.5$ can be detected by the CSST. We construct the Fisher matrix for the cluster number counts from CSST, and forecast constraints on dark energy parameters for models with constant ($w_0$CDM) and time dependent ($w_0w_a$CDM) equation of state. In the self-calibration scheme, the dark energy equation of state parameter $w_0$ of $w_0$CDM model can be constrained to $\\Delta w_0 = 0.036$. If $w_a$ is added as a free parameter, we obtain $\\Delta w_0 = 0.077$ and $\\Delta w_a = 0.39$ for the $w_0w_a$CDM model, with a Figure of Merit for ($w_0,w_a$) to be 68.99. Should we had perfect knowledge of the observable-mass scaling relation (``known SR\" scheme), we would obtain $\\Delta w_0 = 0.012$ for $w_0$CDM model, $\\Delta w_0 = 0.062$ and $\\Delta w_a = 0.24$ for $w_0w_a$CDM model. The dark energy Figure of Merit of ($w_0,w_a$) increases to 343.25. By extending the maximum redshift of the clusters from $z_{max} \\sim 1.5$ to $z_{max} \\sim 2$, the dark energy Figure of Merit for ($w_0,w_a$) increases to 89.72 (self-calibration scheme) and 610.97 (``known SR\" scheme), improved by a factor of $\\sim 1.30$ and $\\sim 1.78$, respectively. We find that the impact of clusters' redshift uncertainty on the dark energy constraints is negligible as long as the redshift error of clusters is smaller than 0.01, achievable by CSST. We also find that the bias in logarithm mass must be calibrated to be $0.30$ or better to avoid significant dark energy parameter bias. |\n",
       "|<p style=\"color:green\"> **ERROR** </p>| <p style=\"color:green\">affiliation error: mpia.affiliation_verifications: 'Heidelberg' keyword not found.</p> |"
      ],
      "text/plain": [
       "<IPython.core.display.Markdown object>"
      ]
     },
     "metadata": {},
     "output_type": "display_data"
    },
    {
     "data": {
      "text/markdown": [
       "\n",
       "|||\n",
       "|---:|:---|\n",
       "| [![arXiv](https://img.shields.io/badge/arXiv-arXiv:2302.05032-b31b1b.svg)](https://arxiv.org/abs/arXiv:2302.05032) | **Simulation study on the optical processes at deep-sea neutrino telescope  sites**  |\n",
       "|| Fan Hu, et al. -- incl., <mark>Fuyudi Zhang</mark>, <mark>Zhuo Li</mark> |\n",
       "|*Appeared on*| *2023-02-13*|\n",
       "|*Comments*| *27 pages, 11 figures*|\n",
       "|**Abstract**| The performance of a large-scale water Cherenkov neutrino telescope relies heavily on the transparency of the surrounding water, quantified by its level of light absorption and scattering. A pathfinder experiment was carried out to measure the optical properties of deep seawater in South China Sea with light-emitting diodes (LEDs) as light sources, photon multiplier tubes (PMTs) and cameras as photon sensors. Here, we present an optical simulation program employing the Geant4 toolkit to understand the absorption and scattering processes in the deep seawater, which helps to extract the underlying optical properties from the experimental data. The simulation results are compared with the experimental data and show good agreements. We also verify the analysis methods that utilize various observables of the PMTs and the cameras with this simulation program, which can be easily adapted by other neutrino telescope pathfinder experiments and future large-scale detectors. |\n",
       "|<p style=\"color:green\"> **ERROR** </p>| <p style=\"color:green\">affiliation error: mpia.affiliation_verifications: 'Heidelberg' keyword not found.</p> |"
      ],
      "text/plain": [
       "<IPython.core.display.Markdown object>"
      ]
     },
     "metadata": {},
     "output_type": "display_data"
    },
    {
     "data": {
      "text/markdown": [
       "\n",
       "|||\n",
       "|---:|:---|\n",
       "| [![arXiv](https://img.shields.io/badge/arXiv-arXiv:2302.05163-b31b1b.svg)](https://arxiv.org/abs/arXiv:2302.05163) | **JAX-COSMO: An End-to-End Differentiable and GPU Accelerated Cosmology  Library**  |\n",
       "|| Jean-Eric Campagne, et al. -- incl., <mark>Yin Li</mark> |\n",
       "|*Appeared on*| *2023-02-13*|\n",
       "|*Comments*| **|\n",
       "|**Abstract**| We present jax-cosmo, a library for automatically differentiable cosmological theory calculations. It uses the JAX library, which has created a new coding ecosystem, especially in probabilistic programming. As well as batch acceleration, just-in-time compilation, and automatic optimization of code for different hardware modalities (CPU, GPU, TPU), JAX exposes an automatic differentiation (autodiff) mechanism. Thanks to autodiff, jax-cosmo gives access to the derivatives of cosmological likelihoods with respect to any of their parameters, and thus enables a range of powerful Bayesian inference algorithms, otherwise impractical in cosmology, such as Hamiltonian Monte Carlo and Variational Inference. In its initial release, jax-cosmo implements background evolution, linear and non-linear power spectra (using halofit or the Eisenstein and Hu transfer function), as well as angular power spectra with the Limber approximation for galaxy and weak lensing probes, all differentiable with respect to the cosmological parameters and their other inputs. We illustrate how autodiff can be a game-changer for common tasks involving Fisher matrix computations, or full posterior inference with gradient-based techniques. In particular, we show how Fisher matrices are now fast, exact, no longer require any fine tuning, and are themselves differentiable. Finally, using a Dark Energy Survey Year 1 3x2pt analysis as a benchmark, we demonstrate how jax-cosmo can be combined with Probabilistic Programming Languages to perform posterior inference with state-of-the-art algorithms including a No U-Turn Sampler, Automatic Differentiation Variational Inference,and Neural Transport HMC. We further demonstrate that Normalizing Flows using Neural Transport are a promising methodology for model validation in the early stages of analysis. |\n",
       "|<p style=\"color:green\"> **ERROR** </p>| <p style=\"color:green\">affiliation error: mpia.affiliation_verifications: 'Heidelberg' keyword not found.</p> |"
      ],
      "text/plain": [
       "<IPython.core.display.Markdown object>"
      ]
     },
     "metadata": {},
     "output_type": "display_data"
    },
    {
     "data": {
      "text/markdown": [
       "\n",
       "|||\n",
       "|---:|:---|\n",
       "| [![arXiv](https://img.shields.io/badge/arXiv-arXiv:2302.05184-b31b1b.svg)](https://arxiv.org/abs/arXiv:2302.05184) | **Rates and properties of type Ia supernovae in galaxy clusters within the  Dark Energy Survey**  |\n",
       "|| M. Toy, et al. -- incl., <mark>C. Lidman</mark>, <mark>M. Smith</mark> |\n",
       "|*Appeared on*| *2023-02-13*|\n",
       "|*Comments*| **|\n",
       "|**Abstract**| We use the Dark Energy Survey (DES) 5 year catalogue of photometrically-classified type Ia supernovae (SNe Ia) to identify 70 SNe Ia that have occurred within red-sequence selected clusters of galaxies. We compare the cluster SN light-curve properties and environmental properties to 1020 DES SNe Ia located in the field, the largest comparison of two such samples to date. We find an tentative indication (98.5 per cent confidence level) that, on average, SNe Ia located in galaxy clusters are faster declining compared to those located in the field. We find no evidence of a difference in SN Ia colour between the two samples. Additionally, there is strong evidence ($99.98$ per cent confidence level) that cluster SNe Ia occur on average in more massive host galaxies than field SNe. We calculate the rate of SNe Ia per stellar mass in galaxy clusters, and find the average rate in the high mass ($10\\leq\\log\\mathrm{(M_{*}/M_{\\odot})} \\leq 11.25$) cluster galaxies to be comparable to equivalent field mass galaxies, with an average difference of $1.3 \\pm 0.3$. Considering the full mass ranges of both samples, we measure a decrease in the overall rate per unit mass in the clusters compared to the field. Differences in the two samples rates could be caused by an excess of white dwarfs in clusters due to a different initial mass function, cluster galaxy mergers re-igniting star formation, or a difference in metallicity between the two environments. |\n",
       "|<p style=\"color:green\"> **ERROR** </p>| <p style=\"color:green\">affiliation error: mpia.affiliation_verifications: 'Heidelberg' keyword not found.</p> |"
      ],
      "text/plain": [
       "<IPython.core.display.Markdown object>"
      ]
     },
     "metadata": {},
     "output_type": "display_data"
    },
    {
     "data": {
      "text/markdown": [
       "\n",
       "|||\n",
       "|---:|:---|\n",
       "| [![arXiv](https://img.shields.io/badge/arXiv-arXiv:2302.05228-b31b1b.svg)](https://arxiv.org/abs/arXiv:2302.05228) | **Tensor-to-scalar ratio forecasts for extended LiteBIRD frequency  configurations**  |\n",
       "|| U. Fuskeland, et al. -- incl., <mark>L. T. Hergt</mark>, <mark>D. Herman</mark> |\n",
       "|*Appeared on*| *2023-02-13*|\n",
       "|*Comments*| *18 pages, 13 figures, submitted to A&A*|\n",
       "|**Abstract**| LiteBIRD is a planned JAXA-led CMB B-mode satellite experiment aiming for launch in the late 2020s, with a primary goal of detecting the imprint of primordial inflationary gravitational waves. Its current baseline focal-plane configuration includes 15 frequency bands between 40 and 402 GHz, fulfilling the mission requirements to detect the amplitude of gravitational waves with the total uncertainty on the tensor-to-scalar ratio, $\\delta r$, down to $\\delta r<0.001$. A key aspect of this performance is accurate astrophysical component separation, and the ability to remove polarized thermal dust emission is particularly important. In this paper we note that the CMB frequency spectrum falls off nearly exponentially above 300 GHz relative to the thermal dust SED, and a relatively minor high frequency extension can therefore result in even lower uncertainties and better model reconstructions. Specifically, we compare the baseline design with five extended configurations, while varying the underlying dust modeling, in each of which the HFT (High-Frequency Telescope) frequency range is shifted logarithmically towards higher frequencies, with an upper cutoff ranging between 400 and 600 GHz. In each case, we measure the tensor-to-scalar ratio $r$ uncertainty and bias using both parametric and minimum-variance component-separation algorithms. When the thermal dust sky model includes a spatially varying spectral index and temperature, we find that the statistical uncertainty on $r$ after foreground cleaning may be reduced by as much as 30--50 % by extending the upper limit of the frequency range from 400 to 600 GHz, with most of the improvement already gained at 500 GHz. We also note that a broader frequency range leads to better ability to discriminate between models through higher $\\chi^2$ sensitivity. (abridged) |\n",
       "|<p style=\"color:green\"> **ERROR** </p>| <p style=\"color:green\">affiliation error: mpia.affiliation_verifications: 'Heidelberg' keyword not found.</p> |"
      ],
      "text/plain": [
       "<IPython.core.display.Markdown object>"
      ]
     },
     "metadata": {},
     "output_type": "display_data"
    },
    {
     "data": {
      "text/markdown": [
       "\n",
       "|||\n",
       "|---:|:---|\n",
       "| [![arXiv](https://img.shields.io/badge/arXiv-arXiv:2302.05232-b31b1b.svg)](https://arxiv.org/abs/arXiv:2302.05232) | **A Dwarf Galaxy Debris Stream Associated with Palomar 1 and the  Anticenter Stream**  |\n",
       "|| Yong Yang, et al. -- incl., <mark>Jing-Kun Zhao</mark>, <mark>Gang Zhao</mark> |\n",
       "|*Appeared on*| *2023-02-13*|\n",
       "|*Comments*| *8 pages, 4 figures, accepted by ApJL. arXiv admin note: substantial text overlap with arXiv:2208.05176*|\n",
       "|**Abstract**| We report the discovery of a new stream (dubbed as Yangtze) detected in $Gaia$ Data Release 3. The stream is at a heliocentric distance of $\\sim$ 9.12 kpc and spans nearly 27$\\deg$ by 1.9$\\deg$ on sky. The colour-magnitude diagram of Yangtze indicates a stellar population of Age $\\sim$ 11 Gyr and [M/H] $\\sim$ -0.7 dex. It has a number density of about 5.5 stars degree$^{-2}$ along with a surface brightness of $\\Sigma_G \\simeq$ 34.9 mag arcsec$^{-2}$. The dynamics and metallicity estimate suggest that Yangtze may be closely related to Palomar 1 and the Anticenter stream. |\n",
       "|<p style=\"color:green\"> **ERROR** </p>| <p style=\"color:green\">affiliation error: mpia.affiliation_verifications: 'Heidelberg' keyword not found.</p> |"
      ],
      "text/plain": [
       "<IPython.core.display.Markdown object>"
      ]
     },
     "metadata": {},
     "output_type": "display_data"
    },
    {
     "data": {
      "text/markdown": [
       "\n",
       "|||\n",
       "|---:|:---|\n",
       "| [![arXiv](https://img.shields.io/badge/arXiv-arXiv:2302.05261-b31b1b.svg)](https://arxiv.org/abs/arXiv:2302.05261) | **Estimating AGN Black Hole Masses via Continuum Reverberation Mapping in  the Era of LSST**  |\n",
       "|| Shu Wang, <mark>Hengxiao Guo</mark>, Jong-Hak Woo |\n",
       "|*Appeared on*| *2023-02-13*|\n",
       "|*Comments*| *10 pages, 2 figures, submitted to ApJL*|\n",
       "|**Abstract**| Spectroscopic reverberation mapping (RM) is a direct approach widely used to estimate the mass of black holes (BHs) in active galactic nuclei (AGNs). However, it is very time-consuming and difficult to apply to a large AGN sample. The empirical relation between the broad-line region (BLR) size and luminosity (H$\\beta$ $R_{\\rm BLR}\\unicode{x2013}L_{\\rm}$) provides a practical alternative yet subject to large scatter and systematic bias. AGN continuum RM (CRM) recently discovered a similar relation between the continuum emitting region (CER) size and luminosity ($R_{\\rm CER}\\unicode{x2013}L$). Here we present a new method to estimate BH masses via optical CRM assuming continuum lags dominated by the diffuse continuum emission. This method will significantly facilitate the estimation of RM BH mass thanks to the short continuum lags and the easily accessible high-cadence and large-area photometric data. Using a sample of 21 AGNs with both CER and BLR size, we find a tight $R_{\\rm BLR}\\unicode{x2013}R_{\\rm CER}$ relation (scatter $\\sim0.28$ dex), with $R_{\\rm BLR}$ on average 8.1 times of $R_{\\rm CER}$ at 5100\\r{A}. This tight relation enables the BH mass estimation based on the CRM combined with the velocity information. Applying the relation to rest objects in our CRM sample, we demonstrate that the predicted $R_{\\rm BLR,CRM}$ follow the existing H$\\beta$ $R_{\\rm BLR}\\unicode{x2013}L_{\\rm}$ relation well and the estimated CRM BH masses are consistent with the RM/single-epoch BH masses using H$\\beta$. Our proposed method will be a promising BH mass estimator in the era of Legacy Survey of Space and Time. |\n",
       "|<p style=\"color:green\"> **ERROR** </p>| <p style=\"color:green\">affiliation error: mpia.affiliation_verifications: 'Heidelberg' keyword not found.</p> |"
      ],
      "text/plain": [
       "<IPython.core.display.Markdown object>"
      ]
     },
     "metadata": {},
     "output_type": "display_data"
    },
    {
     "data": {
      "text/markdown": [
       "\n",
       "|||\n",
       "|---:|:---|\n",
       "| [![arXiv](https://img.shields.io/badge/arXiv-arXiv:2302.05341-b31b1b.svg)](https://arxiv.org/abs/arXiv:2302.05341) | **Further evidence that galaxy age drives observed type Ia supernova  luminosity differences**  |\n",
       "|| P. Wiseman, M. Sullivan, <mark>M. Smith</mark>, B. Popovic |\n",
       "|*Appeared on*| *2023-02-13*|\n",
       "|*Comments*| *9 pages, 3 figures. Accepted for publication in MNRAS*|\n",
       "|**Abstract**| Type Ia supernovae (SNe Ia) are explosions of white dwarf stars that facilitate exquisite measurements of cosmological expansion history, but improvements in accuracy and precision are hindered by observational biases. Of particular concern is the apparent difference in the corrected brightnesses of SNe Ia in different host galaxy environments. SNe Ia in more massive, passive, older environments appear brighter after having been standardized by their light-curve properties. The luminosity difference commonly takes the form of a step function. Recent works imply that environmental characteristics that trace the age of the stellar population in the vicinity of SNe show the largest steps. Here we use simulations of SN Ia populations to test the impact of using different tracers and investigate promising new models of the step. We test models with a total-to-selective dust extinction ratio $R_V$ that changes between young and old SN Ia host galaxies, as well as an intrinsic luminosity difference between SNe from young and old progenitors. The data are well replicated by a model driven by a galaxy-age varying $R_V$ and no intrinsic SN luminosity difference, and we find that specific star-formation rate measured locally to the SN is a relatively pure tracer of this galaxy age difference. We cannot rule out an intrinsic difference causing part of the observed step and show that if luminosity differences are caused by multiple drivers then no single environmental measurement is able to accurately trace them. We encourage the use of multiple tracers in luminosity corrections to negate this issue. |\n",
       "|<p style=\"color:green\"> **ERROR** </p>| <p style=\"color:green\">affiliation error: mpia.affiliation_verifications: 'Heidelberg' keyword not found.</p> |"
      ],
      "text/plain": [
       "<IPython.core.display.Markdown object>"
      ]
     },
     "metadata": {},
     "output_type": "display_data"
    },
    {
     "data": {
      "text/markdown": [
       "\n",
       "|||\n",
       "|---:|:---|\n",
       "| [![arXiv](https://img.shields.io/badge/arXiv-arXiv:2302.05369-b31b1b.svg)](https://arxiv.org/abs/arXiv:2302.05369) | **Lyman-α polarization from cosmological ionization fronts: I.  Radiative transfer simulations**  |\n",
       "|| Yuanyuan Yang, et al. -- incl., <mark>Heyang Long</mark> |\n",
       "|*Appeared on*| *2023-02-13*|\n",
       "|*Comments*| *29 pages, 13 figures, to be submitted to JCAP*|\n",
       "|**Abstract**| In this paper, we present the formalism of simulating Lyman-$\\alpha$ emission and polarization around reionization ($z$ = 8) from a plane-parallel ionization front. We accomplish this by using a Monte Carlo method to simulate the production of a Lyman-$\\alpha$ photon, its propagation through an ionization front, and the eventual escape of this photon. This paper focuses on the relation of the input parameters of ionization front speed $U$, blackbody temperature $T_{\\rm bb}$, and neutral hydrogen density $n_{\\rm HI}$, on intensity $I$ and polarized intensity $P$ as seen by a distant observer. The resulting values of intensity range from $3.18\\times 10^{-14}$ erg/cm$^{2}$/s/sr to $1.96 \\times 10^{-9}$ erg/cm$^{2}$/s/sr , and the polarized intensity ranges from $5.73\\times 10^{-17}$ erg/cm$^{2}$/s/sr to $5.31 \\times 10^{-12}$ erg/cm$^{2}$/s/sr. We found that higher $T_{\\rm bb}$, higher $U$, and higher $n_{\\rm HI}$ contribute to higher intensity, as well as polarized intensity, though the strongest dependence was on the hydrogen density. The dependence of viewing angle of the front is also explored. We present tests to support the validity model, which makes the model suitable for further use in a following paper where we will calculate the intensity and polarized intensity power spectrum on a full reionization simulation. |\n",
       "|<p style=\"color:green\"> **ERROR** </p>| <p style=\"color:green\">affiliation error: mpia.affiliation_verifications: 'Heidelberg' keyword not found.</p> |"
      ],
      "text/plain": [
       "<IPython.core.display.Markdown object>"
      ]
     },
     "metadata": {},
     "output_type": "display_data"
    },
    {
     "data": {
      "text/markdown": [
       "\n",
       "|||\n",
       "|---:|:---|\n",
       "| [![arXiv](https://img.shields.io/badge/arXiv-arXiv:2302.05370-b31b1b.svg)](https://arxiv.org/abs/arXiv:2302.05370) | **Lyman-$α$ polarization from cosmological ionization fronts: II.  Implications for intensity mapping**  |\n",
       "|| Emily Koivu, <mark>Heyang Long</mark>, Yuanyuan Yang, Christopher M. Hirata |\n",
       "|*Appeared on*| *2023-02-13*|\n",
       "|*Comments*| *18 pages, 9 figures, to be submitted to JCAP*|\n",
       "|**Abstract**| This is the second paper in a series whose aim is to predict the power spectrum of intensity and polarized intensity from cosmic reionization fronts. After building the analytic models for intensity and polarized intensity calculations in paper I, here we apply these models to simulations of reionization. We construct a geometric model for identifying front boundaries, calculate the intensity and polarized intensity for each front, and compute a power spectrum of these results. This method was applied to different simulation sizes and resolutions, so we ensure that our results are convergent. We find that the power spectrum of fluctuations at $z=8$ in a bin of width $\\Delta z=0.5$ ($\\lambda/\\Delta\\lambda=18$) is $\\Delta_\\ell \\equiv [\\ell(\\ell+1)C_\\ell/2\\pi]^{1/2}$ is $3.2\\times 10^{-11}$ erg s$^{-1}$ cm$^{-2}$ sr$^{-1}$ for the intensity $I$, $7.6\\times10^{-13}$ erg s$^{-1}$ cm$^{-2}$ sr$^{-1}$ for the $E$-mode polarization, and $5.8\\times10^{-13}$ erg s$^{-1}$ cm$^{-2}$ sr$^{-1}$ for the $B$-mode polarization at $\\ell=1.5\\times10^4$. After computing the power spectrum, we compare results to detectable scales and discuss implications for observing this signal based on a proposed experiment. We find that, while fundamental physics does not exclude this kind of mapping from being attainable, an experiment would need to be highly ambitious and require significant advances to make mapping Lyman-$\\alpha$ polarization from cosmic reionization fronts a feasible goal. |\n",
       "|<p style=\"color:green\"> **ERROR** </p>| <p style=\"color:green\">affiliation error: mpia.affiliation_verifications: 'Heidelberg' keyword not found.</p> |"
      ],
      "text/plain": [
       "<IPython.core.display.Markdown object>"
      ]
     },
     "metadata": {},
     "output_type": "display_data"
    },
    {
     "data": {
      "text/markdown": [
       "\n",
       "|||\n",
       "|---:|:---|\n",
       "| [![arXiv](https://img.shields.io/badge/arXiv-arXiv:2302.05026-b31b1b.svg)](https://arxiv.org/abs/arXiv:2302.05026) | **Jet power, intrinsic $γ$-ray luminosity and accretion in jetted AGN**  |\n",
       "|| Chen Yonhyun, et al. -- incl., <mark>Guo Xiaotong</mark> |\n",
       "|*Appeared on*| *2023-02-13*|\n",
       "|*Comments*| *10pages, 7fiures, accept for publication in MNRAS*|\n",
       "|**Abstract**| The correlation between the kinetic jet power $P_{\\rm jet}$, intrinsic $\\gamma$-ray luminosity ($L^{\\rm int}$) and accretion ($L_{\\rm disk}$) may reveal the underlying jet physics in various black hole systems. We study the relation between kinetic jet power, intrinsic $\\gamma$-ray luminosity, and accretion by using a large sample of jetted AGN, including flat-spectrum radio quasars (FSRQs), BL Lacertae objects (BL Lacs), gamma-ray Narrow-line Seyfert 1 galaxies ($\\gamma$NLS1s) and radio galaxies. Our main results are as follows: (1) The slope indices of the relation between $P_{\\rm jet}$ and $L^{\\rm int}$ are $0.85\\pm0.01$ for the whole sample, $0.70\\pm0.02$ for the FSRQs, $0.83\\pm0.03$ for the BL Lacs, $0.68\\pm0.11$ for the $\\gamma$NLS1s, and $0.93\\pm0.09$ for the radio galaxies, respectively. The jets in $\\gamma$NLS1s and radio galaxies almost follow the same $P_{\\rm jet}$-$L^{\\rm int}$ correlation that was obtained for Fermi blazars. (2) The slope indices of the relation between $L^{\\rm int}$ and $L_{\\rm disk}$ are $1.05\\pm0.02$ for the whole sample, $0.94\\pm0.05$ for the FSRQs, $1.14\\pm0.05$ for the BL Lacs, and $0.92\\pm0.18$ for the $\\gamma$NLS1s, respectively. The $\\gamma$NLS1s and radio galaxies almost also follow the $L^{\\rm int}$-$L_{\\rm disk}$ correlation derived for Fermi blazars. (3) The jet power is larger than the luminosity of accretion disks for almost all jetted AGN. Jet power depends on both the Eddington ratio and black hole mass. We obtain $\\log P_{\\rm jet}\\sim(1.00\\pm0.02)\\log L_{\\rm disk}$ for the whole sample, which is consistent with the theoretically predicted coefficient. These results may imply that the jets of jetted AGN are powered by the Blandford-Znajek mechanism. |\n",
       "|<p style=\"color:red\"> **ERROR** </p>| <p style=\"color:red\">latex error not a gzip file</p> |"
      ],
      "text/plain": [
       "<IPython.core.display.Markdown object>"
      ]
     },
     "metadata": {},
     "output_type": "display_data"
    }
   ],
   "source": [
    "import datetime\n",
    "today = str(datetime.date.today())\n",
    "logfile = f\"_build/html/logs/log-{today}.md\"\n",
    "\n",
    "\n",
    "with open(logfile, 'w') as logs:\n",
    "    # Success\n",
    "    logs.write(f'# Arxiv on Deck 2: Logs - {today}\\n\\n')\n",
    "    logs.write(\"\"\"* Arxiv had {0:,d} new papers\\n\"\"\".format(len(new_papers)))\n",
    "    logs.write(\"\"\"    * {0:,d} with possible author matches\\n\\n\"\"\".format(len(candidates)))\n",
    "    logs.write(\"## Sucessful papers\\n\\n\")\n",
    "    display(Markdown(\"## Successful papers\"))\n",
    "    success = [k[0] for k in documents]\n",
    "    for candid in candidates:\n",
    "        if candid['identifier'].split(':')[-1] in success:\n",
    "            display(candid)\n",
    "            logs.write(candid.generate_markdown_text() + '\\n\\n')\n",
    "\n",
    "    ## failed\n",
    "    logs.write(\"## Failed papers\\n\\n\")\n",
    "    display(Markdown(\"## Failed papers\"))\n",
    "    failed = sorted(failed, key=lambda x: x[1])\n",
    "    current_reason = \"\"\n",
    "    for paper, reason in failed:\n",
    "        if 'affiliation' in reason:\n",
    "            color = 'green'\n",
    "        else:\n",
    "            color = 'red'\n",
    "        data = Markdown(\n",
    "                paper.generate_markdown_text() + \n",
    "                f'\\n|<p style=\"color:{color:s}\"> **ERROR** </p>| <p style=\"color:{color:s}\">{reason:s}</p> |'\n",
    "               )\n",
    "        if reason != current_reason:\n",
    "            logs.write(f'### {reason:s} \\n\\n')\n",
    "            current_reason = reason\n",
    "        logs.write(data.data + '\\n\\n')\n",
    "        \n",
    "        # only display here the important errors (all in logs)\n",
    "        # if color in ('red',):\n",
    "        display(data)"
   ]
  },
  {
   "cell_type": "markdown",
   "id": "472d20ee",
   "metadata": {
    "papermill": {
     "duration": 0.011191,
     "end_time": "2023-02-13T04:09:29.687964",
     "exception": false,
     "start_time": "2023-02-13T04:09:29.676773",
     "status": "completed"
    },
    "tags": []
   },
   "source": [
    "## Export documents\n",
    "\n",
    "We now write the .md files and export relevant images"
   ]
  },
  {
   "cell_type": "code",
   "execution_count": 7,
   "id": "d426aed9",
   "metadata": {
    "execution": {
     "iopub.execute_input": "2023-02-13T04:09:29.708758Z",
     "iopub.status.busy": "2023-02-13T04:09:29.708127Z",
     "iopub.status.idle": "2023-02-13T04:09:29.715678Z",
     "shell.execute_reply": "2023-02-13T04:09:29.714956Z"
    },
    "papermill": {
     "duration": 0.019532,
     "end_time": "2023-02-13T04:09:29.717157",
     "exception": false,
     "start_time": "2023-02-13T04:09:29.697625",
     "status": "completed"
    },
    "tags": []
   },
   "outputs": [],
   "source": [
    "def export_markdown_summary(md: str, md_fname:str, directory: str):\n",
    "    \"\"\"Export MD document and associated relevant images\"\"\"\n",
    "    import os\n",
    "    import shutil\n",
    "    import re\n",
    "\n",
    "    if (os.path.exists(directory) and not os.path.isdir(directory)):\n",
    "        raise RuntimeError(f\"a non-directory file exists with name {directory:s}\")\n",
    "\n",
    "    if (not os.path.exists(directory)):\n",
    "        print(f\"creating directory {directory:s}\")\n",
    "        os.mkdir(directory)\n",
    "\n",
    "    fig_fnames = (re.compile(r'\\[Fig.*\\]\\((.*)\\)').findall(md) + \n",
    "                  re.compile(r'\\<img src=\"([^>\\s]*)\"[^>]*/>').findall(md))\n",
    "    for fname in fig_fnames:\n",
    "        if 'http' in fname:\n",
    "            # No need to copy online figures\n",
    "            continue\n",
    "        destdir = os.path.join(directory, os.path.dirname(fname))\n",
    "        destfname = os.path.join(destdir, os.path.basename(fname))\n",
    "        try:\n",
    "            os.makedirs(destdir)\n",
    "        except FileExistsError:\n",
    "            pass\n",
    "        shutil.copy(fname, destfname)\n",
    "    with open(os.path.join(directory, md_fname), 'w') as fout:\n",
    "        fout.write(md)\n",
    "    print(\"exported in \", os.path.join(directory, md_fname))\n",
    "    [print(\"    + \" + os.path.join(directory,fk)) for fk in fig_fnames]"
   ]
  },
  {
   "cell_type": "code",
   "execution_count": 8,
   "id": "014d04a4",
   "metadata": {
    "execution": {
     "iopub.execute_input": "2023-02-13T04:09:29.740224Z",
     "iopub.status.busy": "2023-02-13T04:09:29.739619Z",
     "iopub.status.idle": "2023-02-13T04:09:29.743239Z",
     "shell.execute_reply": "2023-02-13T04:09:29.742698Z"
    },
    "papermill": {
     "duration": 0.017322,
     "end_time": "2023-02-13T04:09:29.744854",
     "exception": false,
     "start_time": "2023-02-13T04:09:29.727532",
     "status": "completed"
    },
    "tags": []
   },
   "outputs": [],
   "source": [
    "for paper_id, md in documents:\n",
    "    export_markdown_summary(md, f\"{paper_id:s}.md\", '_build/html/')"
   ]
  },
  {
   "cell_type": "markdown",
   "id": "f087a0a7",
   "metadata": {
    "papermill": {
     "duration": 0.009449,
     "end_time": "2023-02-13T04:09:29.763860",
     "exception": false,
     "start_time": "2023-02-13T04:09:29.754411",
     "status": "completed"
    },
    "tags": []
   },
   "source": [
    "## Display the papers\n",
    "\n",
    "Not necessary but allows for a quick check."
   ]
  },
  {
   "cell_type": "code",
   "execution_count": 9,
   "id": "fd25f625",
   "metadata": {
    "execution": {
     "iopub.execute_input": "2023-02-13T04:09:29.784283Z",
     "iopub.status.busy": "2023-02-13T04:09:29.783728Z",
     "iopub.status.idle": "2023-02-13T04:09:29.787427Z",
     "shell.execute_reply": "2023-02-13T04:09:29.786893Z"
    },
    "papermill": {
     "duration": 0.015517,
     "end_time": "2023-02-13T04:09:29.788821",
     "exception": false,
     "start_time": "2023-02-13T04:09:29.773304",
     "status": "completed"
    },
    "scrolled": false,
    "tags": []
   },
   "outputs": [],
   "source": [
    "[display(Markdown(k[1])) for k in documents];"
   ]
  },
  {
   "cell_type": "markdown",
   "id": "873873a4",
   "metadata": {
    "papermill": {
     "duration": 0.009389,
     "end_time": "2023-02-13T04:09:29.836639",
     "exception": false,
     "start_time": "2023-02-13T04:09:29.827250",
     "status": "completed"
    },
    "tags": []
   },
   "source": [
    "# Create HTML index"
   ]
  },
  {
   "cell_type": "code",
   "execution_count": 10,
   "id": "cf665672",
   "metadata": {
    "execution": {
     "iopub.execute_input": "2023-02-13T04:09:29.857628Z",
     "iopub.status.busy": "2023-02-13T04:09:29.857073Z",
     "iopub.status.idle": "2023-02-13T04:09:29.868563Z",
     "shell.execute_reply": "2023-02-13T04:09:29.867892Z"
    },
    "papermill": {
     "duration": 0.023978,
     "end_time": "2023-02-13T04:09:29.870189",
     "exception": false,
     "start_time": "2023-02-13T04:09:29.846211",
     "status": "completed"
    },
    "tags": []
   },
   "outputs": [
    {
     "name": "stdout",
     "output_type": "stream",
     "text": [
      "199  publications in the last 7 days.\n",
      "\t _build/html/2302.04507.md\n",
      "\t _build/html/2302.04239.md\n",
      "\t _build/html/2302.04138.md\n",
      "\t _build/html/2302.03699.md\n",
      "\t _build/html/2302.03576.md\n",
      "\t _build/html/2302.03042.md\n",
      "\t _build/html/2302.03039.md\n",
      "\t _build/html/2302.02890.md\n",
      "\t _build/html/2302.02611.md\n",
      "\t _build/html/2302.02429.md\n",
      "\t _build/html/2302.01678.md\n",
      "\t _build/html/2302.00450.md\n",
      "\t _build/html/2301.13766.md\n",
      "\t _build/html/2301.13526.md\n",
      "\t _build/html/2301.12890.md\n",
      "\t _build/html/2301.11942.md\n",
      "\t _build/html/2301.10717.md\n",
      "\t _build/html/2301.10666.md\n",
      "\t _build/html/2301.10496.md\n",
      "\t _build/html/2301.09621.md\n",
      "\t _build/html/2301.09140.md\n",
      "\t _build/html/2301.08770.md\n",
      "\t _build/html/2301.08310.md\n",
      "\t _build/html/2301.07990.md\n",
      "\t _build/html/2301.07366.md\n",
      "\t _build/html/2301.07199.md\n",
      "\t _build/html/2301.07116.md\n",
      "\t _build/html/2301.06873.md\n",
      "\t _build/html/2301.06819.md\n",
      "\t _build/html/2301.06575.md\n",
      "\t _build/html/2301.05720.md\n",
      "\t _build/html/2301.05718.md\n",
      "\t _build/html/2301.05034.md\n",
      "\t _build/html/2301.04656.md\n",
      "\t _build/html/2301.04533.md\n",
      "\t _build/html/2301.04442.md\n",
      "\t _build/html/2301.03811.md\n",
      "\t _build/html/2301.03689.md\n",
      "\t _build/html/2301.03387.md\n",
      "\t _build/html/2301.03209.md\n",
      "\t _build/html/2301.02671.md\n",
      "\t _build/html/2301.02477.md\n",
      "\t _build/html/2301.02313.md\n",
      "\t _build/html/2301.02265.md\n",
      "\t _build/html/2301.01937.md\n",
      "\t _build/html/2301.01895.md\n",
      "\t _build/html/2301.01684.md\n",
      "\t _build/html/2301.01306.md\n",
      "\t _build/html/2301.00881.md\n",
      "\t _build/html/2301.00854.md\n",
      "\t _build/html/2301.00578.md\n",
      "\t _build/html/2212.12039.md\n",
      "\t _build/html/2212.11991.md\n",
      "\t _build/html/2212.11425.md\n",
      "\t _build/html/2212.11177.md\n",
      "\t _build/html/2212.10804.md\n",
      "\t _build/html/2212.10512.md\n",
      "\t _build/html/2212.09766.md\n",
      "\t _build/html/2212.09675.md\n",
      "\t _build/html/2212.09661.md\n",
      "\t _build/html/2212.09652.md\n",
      "\t _build/html/2212.09443.md\n",
      "\t _build/html/2212.09307.md\n",
      "\t _build/html/2212.09168.md\n",
      "\t _build/html/2212.09159.md\n",
      "\t _build/html/2212.08702.md\n",
      "\t _build/html/2212.07332.md\n",
      "\t _build/html/2212.06434.md\n",
      "\t _build/html/2212.04710.md\n",
      "\t _build/html/2212.04026.md\n",
      "\t _build/html/2212.03563.md\n",
      "\t _build/html/2212.03514.md\n",
      "\t _build/html/2212.02667.md\n",
      "\t _build/html/2212.02627.md\n",
      "\t _build/html/2212.02235.md\n",
      "\t _build/html/2212.01707.md\n",
      "\t _build/html/2212.01526.md\n",
      "\t _build/html/2212.01397.md\n",
      "\t _build/html/2212.01291.md\n",
      "\t _build/html/2212.01281.md\n",
      "\t _build/html/2212.00812.md\n",
      "\t _build/html/2212.00811.md\n",
      "\t _build/html/2212.00806.md\n",
      "\t _build/html/2212.00047.md\n",
      "\t _build/html/2212.00032.md\n",
      "\t _build/html/2211.16996.md\n",
      "\t _build/html/2211.16510.md\n",
      "\t _build/html/2211.16123.md\n",
      "\t _build/html/2211.15816.md\n",
      "\t _build/html/2211.15698.md\n",
      "\t _build/html/2211.15576.md\n",
      "\t _build/html/2211.15434.md\n",
      "\t _build/html/2211.15288.md\n",
      "\t _build/html/2211.15224.md\n",
      "\t _build/html/2211.14543.md\n",
      "\t _build/html/2211.14330.md\n",
      "\t _build/html/2211.14322.md\n",
      "\t _build/html/2211.14132.md\n",
      "\t _build/html/2211.13811.md\n",
      "\t _build/html/2211.13426.md\n",
      "\t _build/html/2211.13318.md\n",
      "\t _build/html/2211.13146.md\n",
      "\t _build/html/2211.12613.md\n",
      "\t _build/html/2211.11767.md\n",
      "\t _build/html/2211.09840.md\n",
      "\t _build/html/2211.09217.md\n",
      "\t _build/html/2211.08493.md\n",
      "\t _build/html/2211.08487.md\n",
      "\t _build/html/2211.08294.md\n",
      "\t _build/html/2211.07667.md\n",
      "\t _build/html/2211.07659.md\n",
      "\t _build/html/2211.06454.md\n",
      "\t _build/html/2211.06205.md\n",
      "\t _build/html/2211.06194.md\n",
      "\t _build/html/2211.05022.md\n",
      "\t _build/html/2211.04048.md\n",
      "\t _build/html/2211.03641.md\n",
      "\t _build/html/2211.02502.md\n",
      "\t _build/html/2211.01474.md\n",
      "\t _build/html/2211.00667.md\n",
      "\t _build/html/2211.00657.md\n",
      "\t _build/html/2211.00087.md\n",
      "\t _build/html/2211.00036.md\n",
      "\t _build/html/2211.00020.md\n",
      "\t _build/html/2211.00010.md\n",
      "\t _build/html/2210.17434.md\n",
      "\t _build/html/2210.12412.md\n",
      "\t _build/html/2210.11926.md\n",
      "\t _build/html/2210.11551.md\n",
      "\t _build/html/2210.11103.md\n",
      "\t _build/html/2210.10707.md\n",
      "\t _build/html/2210.09930.md\n",
      "\t _build/html/2210.08996.md\n",
      "\t _build/html/2210.08517.md\n",
      "\t _build/html/2210.08510.md\n",
      "\t _build/html/2210.08078.md\n",
      "\t _build/html/2210.06504.md\n",
      "\t _build/html/2210.05695.md\n",
      "\t _build/html/2210.05595.md\n",
      "\t _build/html/2210.05505.md\n",
      "\t _build/html/2210.04721.md\n",
      "\t _build/html/2210.03615.md\n",
      "\t _build/html/2210.01811.md\n",
      "\t _build/html/2210.01809.md\n",
      "\t _build/html/2210.01556.md\n",
      "\t _build/html/2210.00863.md\n",
      "\t _build/html/2210.00560.md\n",
      "\t _build/html/2209.15403.md\n",
      "\t _build/html/2209.15110.md\n",
      "\t _build/html/2209.14410.md\n",
      "\t _build/html/2209.14396.md\n",
      "\t _build/html/2209.13717.md\n",
      "\t _build/html/2209.13336.md\n",
      "\t _build/html/2209.12906.md\n",
      "\t _build/html/2209.11781.md\n",
      "\t _build/html/2209.11602.md\n",
      "\t _build/html/2209.11248.md\n",
      "\t _build/html/2209.11096.md\n",
      "\t _build/html/2209.10618.md\n",
      "\t _build/html/2209.09914.md\n",
      "\t _build/html/2209.09823.md\n",
      "\t _build/html/2209.08242.md\n",
      "\t _build/html/2209.08120.md\n",
      "\t _build/html/2209.08106.md\n",
      "\t _build/html/2209.07962.md\n",
      "\t _build/html/2209.07931.md\n",
      "\t _build/html/2209.06833.md\n",
      "\t _build/html/2209.05814.md\n",
      "\t _build/html/2209.05593.md\n",
      "\t _build/html/2209.04304.md\n",
      "\t _build/html/2209.03367.md\n",
      "\t _build/html/2209.02872.md\n",
      "\t _build/html/2209.02725.md\n",
      "\t _build/html/2209.02722.md\n",
      "\t _build/html/2209.02092.md\n",
      "\t _build/html/2209.01125.md\n",
      "\t _build/html/2209.00828.md\n",
      "\t _build/html/2209.00363.md\n",
      "\t _build/html/2208.14927.md\n",
      "\t _build/html/2208.09335.md\n",
      "\t _build/html/2208.08872.md\n",
      "\t _build/html/2204.06393.md\n",
      "\t _build/html/2204.03335.md\n",
      "\t _build/html/2204.03253.md\n",
      "\t _build/html/2204.02998.md\n",
      "\t _build/html/2204.02109.md\n",
      "\t _build/html/2204.02017.md\n",
      "\t _build/html/2204.01824.md\n",
      "\t _build/html/2204.01758.md\n",
      "\t _build/html/2204.01245.md\n",
      "\t _build/html/2204.00793.md\n",
      "\t _build/html/2204.00342.md\n",
      "\t _build/html/2203.16959.md\n",
      "\t _build/html/2203.16856.md\n",
      "\t _build/html/2203.16735.md\n",
      "\t _build/html/2203.16734.md\n",
      "\t _build/html/2203.16504.md\n",
      "\t _build/html/2203.15822.md\n",
      "\t _build/html/2203.15811.md\n"
     ]
    }
   ],
   "source": [
    "from datetime import datetime, timedelta, timezone\n",
    "from glob import glob\n",
    "\n",
    "files = glob('_build/html/*.md')\n",
    "days = 7\n",
    "now = datetime.today()\n",
    "res = []\n",
    "for fk in files:\n",
    "    stat_result = os.stat(fk).st_ctime\n",
    "    modified = datetime.fromtimestamp(stat_result, tz=timezone.utc).replace(tzinfo=None)\n",
    "    delta = now.today() - modified\n",
    "    if delta <= timedelta(days=days):\n",
    "        res.append((delta.seconds, fk))\n",
    "res = [k[1] for k in reversed(sorted(res, key=lambda x:x[1]))]\n",
    "npub = len(res)\n",
    "print(len(res), f\" publications in the last {days:d} days.\")\n",
    "[ print('\\t', k) for k in res ];"
   ]
  },
  {
   "cell_type": "code",
   "execution_count": 11,
   "id": "015de740",
   "metadata": {
    "execution": {
     "iopub.execute_input": "2023-02-13T04:09:29.891366Z",
     "iopub.status.busy": "2023-02-13T04:09:29.890669Z",
     "iopub.status.idle": "2023-02-13T04:09:29.910585Z",
     "shell.execute_reply": "2023-02-13T04:09:29.909852Z"
    },
    "papermill": {
     "duration": 0.032169,
     "end_time": "2023-02-13T04:09:29.912096",
     "exception": false,
     "start_time": "2023-02-13T04:09:29.879927",
     "status": "completed"
    },
    "tags": []
   },
   "outputs": [
    {
     "name": "stdout",
     "output_type": "stream",
     "text": [
      "11  publications in the last 7 days.\n"
     ]
    }
   ],
   "source": [
    "import datetime\n",
    "from glob import glob\n",
    "\n",
    "def get_last_n_days(lst, days=1):\n",
    "    \"\"\" Get the documents from the last n days \"\"\"\n",
    "    sorted_lst = sorted(lst, key=lambda x: x[1], reverse=True)\n",
    "    for fname, date in sorted_lst:\n",
    "        if date >= str(datetime.date.today() - datetime.timedelta(days=days)):\n",
    "            yield fname\n",
    "\n",
    "def extract_appearance_dates(lst_file):\n",
    "    dates = []\n",
    "\n",
    "    def get_date(line):\n",
    "        return line\\\n",
    "            .split('Appeared on:')[-1]\\\n",
    "            .split('</mark>')[0].strip()\n",
    "\n",
    "    for fname in lst:\n",
    "        with open(fname, 'r') as f:\n",
    "            found_date = False\n",
    "            for line in f:\n",
    "                if not found_date:\n",
    "                    if \"Appeared on\" in line:\n",
    "                        found_date = True\n",
    "                        dates.append((fname, get_date(line)))\n",
    "                else:\n",
    "                    break\n",
    "    return dates\n",
    "\n",
    "from glob import glob\n",
    "lst = glob('_build/html/*md')\n",
    "days = 7\n",
    "dates = extract_appearance_dates(lst)\n",
    "res = list(get_last_n_days(dates, days))\n",
    "npub = len(res)\n",
    "print(len(res), f\" publications in the last {days:d} days.\")"
   ]
  },
  {
   "cell_type": "code",
   "execution_count": 12,
   "id": "52ca0208",
   "metadata": {
    "execution": {
     "iopub.execute_input": "2023-02-13T04:09:29.933422Z",
     "iopub.status.busy": "2023-02-13T04:09:29.932642Z",
     "iopub.status.idle": "2023-02-13T04:09:29.939285Z",
     "shell.execute_reply": "2023-02-13T04:09:29.938690Z"
    },
    "papermill": {
     "duration": 0.018863,
     "end_time": "2023-02-13T04:09:29.940799",
     "exception": false,
     "start_time": "2023-02-13T04:09:29.921936",
     "status": "completed"
    },
    "scrolled": false,
    "tags": []
   },
   "outputs": [],
   "source": [
    "def create_carousel(npub=4):\n",
    "    \"\"\" Generate the HTML code for a carousel with `npub` slides \"\"\"\n",
    "    carousel = [\"\"\"<section class=\"carousel\" aria-label=\"Gallery\">\"\"\",\n",
    "                \"\"\"  <ol class=\"carousel__viewport\">\"\"\",\n",
    "    ]\n",
    "    for k in range(1, npub + 1):\n",
    "        prev_ = k - 1\n",
    "        next_ = k + 1\n",
    "        if prev_ <= 0:\n",
    "            prev_ = npub\n",
    "        if next_ > npub:\n",
    "            next_ = 1\n",
    "        text  = f\"\"\"    <li id=\"carousel__slide{k}\" tabindex=\"0\" class=\"carousel__slide\">\\n\"\"\"\n",
    "        text += f\"\"\"       <div class=\"carousel__snapper\">\\n\"\"\"\n",
    "        text += f\"\"\"         <a href=\"#carousel__slide{prev_}\" class=\"carousel__prev\">Go to previous slide</a>\\n\"\"\"\n",
    "        text += f\"\"\"         <a href=\"#carousel__slide{next_}\" class=\"carousel__next\">Go to next slide</a>\\n\"\"\"\n",
    "        text += f\"\"\"         <div id=\"slide{k}_content\" class=\"md_view\" >Content {k}</div>\\n\"\"\"\n",
    "        text += f\"\"\"       </div>\\n\"\"\"\n",
    "        text += f\"\"\"    </li>\"\"\"\n",
    "        carousel.append(text)\n",
    "\n",
    "    carousel.extend([\n",
    "        \"\"\"  </ol>\"\"\",\n",
    "        \"\"\"  <aside class=\"carousel__navigation\">\"\"\",\n",
    "        \"\"\"    <ol class=\"carousel__navigation-list\">\"\"\"])\n",
    "\n",
    "    for k in range(1, npub + 1):\n",
    "        text  = f\"\"\"      <li class=\"carousel__navigation-item\">\\n\"\"\"\n",
    "        text += f\"\"\"        <a href=\"#carousel__slide{k}\" class=\"carousel__navigation-button\">Go to {k}</a>\\n\"\"\"\n",
    "        text += f\"\"\"      </li>\"\"\"\n",
    "        carousel.append(text)\n",
    "    carousel.extend([\"\"\"    </ol>\"\"\", \"\"\"  </aside>\"\"\", \"\"\"</section>\"\"\"])\n",
    "\n",
    "    return '\\n'.join(carousel)"
   ]
  },
  {
   "cell_type": "code",
   "execution_count": 13,
   "id": "a6eac5b6",
   "metadata": {
    "execution": {
     "iopub.execute_input": "2023-02-13T04:09:29.962343Z",
     "iopub.status.busy": "2023-02-13T04:09:29.962073Z",
     "iopub.status.idle": "2023-02-13T04:09:29.968390Z",
     "shell.execute_reply": "2023-02-13T04:09:29.967753Z"
    },
    "papermill": {
     "duration": 0.019154,
     "end_time": "2023-02-13T04:09:29.969897",
     "exception": false,
     "start_time": "2023-02-13T04:09:29.950743",
     "status": "completed"
    },
    "scrolled": false,
    "tags": []
   },
   "outputs": [],
   "source": [
    "carousel = create_carousel(npub)\n",
    "docs = ', '.join(['\"{0:s}\"'.format(k.split('/')[-1]) for k in res])\n",
    "slides = ', '.join([f'\"slide{k}_content\"' for k in range(1, npub + 1)])\n",
    "\n",
    "script = f\"\"\"\n",
    "const docs = [{docs}]\n",
    "\n",
    "const slides = [{slides}]\n",
    "\"\"\" + \"\"\"\n",
    "async function run() {\n",
    "    for (let i = 0; i < docs.length; i++) {\n",
    "        let file = await fetch(docs[i]);\n",
    "        let text = await file.text()\n",
    "        document.getElementById(slides[i]).innerHTML =\n",
    "            marked.parse(text);\n",
    "    }\n",
    "    hljs.highlightAll();\n",
    "}\n",
    "run()\n",
    "\"\"\"\n",
    "\n",
    "page = f\"\"\"<!doctype html>\n",
    "<html lang=\"en\">\n",
    "\n",
    "<head>\n",
    "  <meta charset=\"utf-8\">\n",
    "  <meta name=\"viewport\" content=\"width=device-width, initial-scale=1\">\n",
    "  <!-- Bootstrap CSS -->\n",
    "  <link href=\"https://cdn.jsdelivr.net/npm/bootstrap@5.0.2/dist/css/bootstrap.min.css\" rel=\"stylesheet\"\n",
    "   integrity=\"sha384-EVSTQN3/azprG1Anm3QDgpJLIm9Nao0Yz1ztcQTwFspd3yD65VohhpuuCOmLASjC\" crossorigin=\"anonymous\">\n",
    "  <!-- highlight.js CSS -->\n",
    "  <link rel=\"stylesheet\" href=\"https://cdnjs.cloudflare.com/ajax/libs/highlight.js/11.1.0/styles/default.min.css\">\n",
    "  <!-- Mathjax 3 -->\n",
    "  <script type=\"text/javascript\" id=\"MathJax-config\" src=\"mathjax_config.js\"> </script>\n",
    "  <script type=\"text/javascript\" id=\"MathJax-script\" async \n",
    "    src=\"https://cdn.jsdelivr.net/npm/mathjax@3/es5/tex-mml-chtml.js\">\n",
    "  </script>\n",
    "  <link rel=\"stylesheet\" href=\"index_carousel.css\">\n",
    "  <link rel=\"icon\" type=\"image/x-icon\" href=\"https://www.mpia.de/assets/touch-icon-32x32-a66937bcebc4e8894ebff1f41a366c7c7220fd97a38869ee0f2db65a9f59b6c1.png\">\n",
    "  <title>MPIA Arxiv on deck!</title>\n",
    "</head>\n",
    "\n",
    "<body>\n",
    "  <div id=\"header\"> <img src=\"header_banner.png\" width=\"100%\"></div>\n",
    "  <div id=\"suptitle\"> 7-day archives </div>\n",
    "  <div id=\"info\">\n",
    "    <img src=\"https://pngimg.com/uploads/github/github_PNG58.png\" height=30rem></img>\n",
    "    <a href=https://github.com/mpi-astronomy/arxiv_display style=\"color:black;\">github/mpi-astronomy/arxiv_display</a> \n",
    "  </div>\n",
    "  {carousel:s}\n",
    "</body>\n",
    "\n",
    "<!-- Render Markdown -->\n",
    "\n",
    "<body>\n",
    "  <!-- highlight.js: https://highlightjs.org/download/ -->\n",
    "  <script src=\"https://cdnjs.cloudflare.com/ajax/libs/highlight.js/11.5.0/highlight.min.js\"></script>\n",
    "  <!-- marked.js -->\n",
    "  <script src=\"https://cdn.jsdelivr.net/npm/marked/marked.min.js\"></script>\n",
    "  <script>{script:s}</script>\n",
    "</body>\n",
    "</html>\n",
    "\"\"\"\n",
    "with open(\"_build/html/index_7days.html\", 'w') as fout:\n",
    "    fout.write(page)"
   ]
  },
  {
   "cell_type": "markdown",
   "id": "1cebacbc",
   "metadata": {
    "papermill": {
     "duration": 0.009768,
     "end_time": "2023-02-13T04:09:29.989502",
     "exception": false,
     "start_time": "2023-02-13T04:09:29.979734",
     "status": "completed"
    },
    "tags": []
   },
   "source": [
    "# Debugging papers"
   ]
  },
  {
   "cell_type": "raw",
   "id": "debe7cc6",
   "metadata": {
    "papermill": {
     "duration": 0.009694,
     "end_time": "2023-02-13T04:09:30.008985",
     "exception": false,
     "start_time": "2023-02-13T04:09:29.999291",
     "status": "completed"
    },
    "tags": []
   },
   "source": [
    "raise NotImplementedError(\"Manual Stop\")"
   ]
  },
  {
   "cell_type": "raw",
   "id": "eb169192",
   "metadata": {
    "papermill": {
     "duration": 0.009667,
     "end_time": "2023-02-13T04:09:30.028364",
     "exception": false,
     "start_time": "2023-02-13T04:09:30.018697",
     "status": "completed"
    },
    "scrolled": true,
    "tags": []
   },
   "source": [
    "from IPython.display import display, Markdown\n",
    "from TexSoup import TexSoup\n",
    "import re\n",
    "\n",
    "def bracket_error(source: str):\n",
    "    \"\"\" Find problematic portions of the document \"\"\"\n",
    "    \n",
    "    print(\"len(source)\", len(source))\n",
    "    \n",
    "    # Checking header\n",
    "    begin_doc = next(re.finditer(r'\\\\begin\\{document\\}', doc.source)).span()[1]\n",
    "    header = source[:begin_doc]\n",
    "    text = header + r\"\\n\\end{document}\"\n",
    "\n",
    "    try:\n",
    "        # print(\"Header check... \", end='')\n",
    "        TexSoup(text)\n",
    "        display(Markdown(f\"**[OK]** - Header\"))\n",
    "    except:\n",
    "        raise RuntimeError(\"Error in the header\")\n",
    "        \n",
    "    # Check the text per section until the end.\n",
    "    # Do not stop and try them all.\n",
    "    \n",
    "    problematic_text = []\n",
    "    \n",
    "    sections = ([(0, begin_doc, 'until first section')] + \n",
    "                [(g.span()[0], g.span()[1], g.group()) for g in re.finditer(r'\\\\section\\{.*\\}', source)] +\n",
    "                [(g.span()[0], g.span()[1], g.group()) for g in re.finditer(r'\\\\begin\\{appendix\\}', source)]\n",
    "               )\n",
    "    sections.append([len(source), len(source), 'end'])\n",
    "    \n",
    "    sections = sorted(sections, key=lambda x: x[0])\n",
    "    \n",
    "    prev_pos, prev_name = (0, 'header')\n",
    "    parsed = []\n",
    "    \n",
    "    for span, span_end, name in sections:\n",
    "\n",
    "        if span - prev_pos <= 0:\n",
    "            continue\n",
    "            \n",
    "\n",
    "        text = source[prev_pos:span]\n",
    "        if prev_pos > begin_doc:\n",
    "            text = r\"\\n\\begin{document}\" + text + r\"\\n\\end{document}\"\n",
    "        else:\n",
    "            text = text + r\"\\n\\end{document}\"\n",
    "        try:\n",
    "            #print(f\"{prev_pos}:{prev_name}-->{span}:{name} check... \", end='')\n",
    "            parsed.append(TexSoup(text, tolerance=1))  # allow not ending env\n",
    "            display(Markdown(f\"**[OK]** - *{prev_pos}*:{prev_name} &rarr; *{span}*:{name}\"))\n",
    "            # print(\"ok\")\n",
    "\n",
    "            prev_pos = span\n",
    "            prev_name = name\n",
    "        except:\n",
    "            # print(f\"error between {prev_pos} and {span}\")\n",
    "            display(Markdown(f\"**[ERR]** *{prev_pos}*:{prev_name} &rarr; *{span}*:{name}\"))\n",
    "            problematic_text.append((prev_pos, source[prev_pos:span]))\n",
    "            prev_pos = span\n",
    "            prev_name = name\n",
    "            # raise\n",
    "    return problematic_text, parsed\n",
    "\n",
    "\n",
    "def check_environment(text, offset=0):\n",
    "    \"\"\" Check environment \"\"\"\n",
    "    env = re.compile(r\"\\\\begin\\{(?P<env>.*)\\}(.*)\\\\end\\{(?P=env)\\}\", re.DOTALL)\n",
    "\n",
    "    for match in env.finditer(text):\n",
    "        beg, end = match.span()\n",
    "        beg += offset\n",
    "        end += offset\n",
    "        envname = match.groups()[0]\n",
    "        try:\n",
    "            latex.TexSoup(match.group())\n",
    "        except Exception as e:\n",
    "            display(e)\n",
    "            print(f\"Error in {envname:s} between {beg} and {end}\")\n",
    "            return match.groups()[1], beg, end"
   ]
  },
  {
   "cell_type": "raw",
   "id": "2315e835",
   "metadata": {
    "papermill": {
     "duration": 0.009654,
     "end_time": "2023-02-13T04:09:30.047745",
     "exception": false,
     "start_time": "2023-02-13T04:09:30.038091",
     "status": "completed"
    },
    "scrolled": false,
    "tags": []
   },
   "source": [
    "import importlib\n",
    "importlib.reload(latex)\n",
    "which = \"2204.03253\"\n",
    "paper_id = f'{which:s}'\n",
    "folder = f'tmp_{paper_id:s}'\n",
    "\n",
    "if not os.path.isdir(folder):\n",
    "    folder = retrieve_document_source(f\"{paper_id}\", f'tmp_{paper_id}')\n",
    "\n",
    "try:\n",
    "    doc = latex.LatexDocument(folder, validation=validation)    \n",
    "except AffiliationError as affilerror:\n",
    "    msg = f\"ArXiv:{paper_id:s} is not an MPIA paper... \" + str(affilerror)\n",
    "    print(msg)\n",
    "\n",
    "\n",
    "# Hack because sometimes author parsing does not work well\n",
    "if (len(doc.authors) != len(paper['authors'])):\n",
    "    doc._authors = paper['authors']\n",
    "if (doc.abstract) in (None, ''):\n",
    "    doc._abstract = paper['abstract']\n",
    "\n",
    "doc.comment = get_markdown_badge(paper_id) + \" _\" + paper['comments'] + \"_\"\n",
    "doc.highlight_authors_in_list(hl_list)\n",
    "\n",
    "full_md = doc.generate_markdown_text()"
   ]
  },
  {
   "cell_type": "raw",
   "id": "dd3781db",
   "metadata": {
    "papermill": {
     "duration": 0.01006,
     "end_time": "2023-02-13T04:09:30.067945",
     "exception": false,
     "start_time": "2023-02-13T04:09:30.057885",
     "status": "completed"
    },
    "scrolled": false,
    "tags": []
   },
   "source": [
    "doc"
   ]
  },
  {
   "cell_type": "raw",
   "id": "c6eed834",
   "metadata": {
    "papermill": {
     "duration": 0.009778,
     "end_time": "2023-02-13T04:09:30.087649",
     "exception": false,
     "start_time": "2023-02-13T04:09:30.077871",
     "status": "completed"
    },
    "tags": []
   },
   "source": [
    "# [check_environment(k) for k in bracket_error(doc.source)]\n",
    "_, _, a = latex.get_content_per_section(doc.source, verbose=True)\n",
    "if not a:\n",
    "    print(\"no issues per section\")\n",
    "for ak in a:\n",
    "    r = check_environment(ak[1], offset=ak[0])\n",
    "    print(r[1], r[2])\n",
    "    print(r[0])"
   ]
  },
  {
   "cell_type": "code",
   "execution_count": null,
   "id": "71ce768a",
   "metadata": {
    "papermill": {
     "duration": 0.009702,
     "end_time": "2023-02-13T04:09:30.107088",
     "exception": false,
     "start_time": "2023-02-13T04:09:30.097386",
     "status": "completed"
    },
    "tags": []
   },
   "outputs": [],
   "source": []
  }
 ],
 "metadata": {
  "kernelspec": {
   "display_name": "Python 3",
   "language": "python",
   "name": "python3"
  },
  "language_info": {
   "codemirror_mode": {
    "name": "ipython",
    "version": 3
   },
   "file_extension": ".py",
   "mimetype": "text/x-python",
   "name": "python",
   "nbconvert_exporter": "python",
   "pygments_lexer": "ipython3",
   "version": "3.9.16"
  },
  "papermill": {
   "default_parameters": {},
   "duration": 84.453483,
   "end_time": "2023-02-13T04:09:30.335228",
   "environment_variables": {},
   "exception": null,
   "input_path": "MPIA daily digest.ipynb",
   "output_path": "log.ipynb",
   "parameters": {},
   "start_time": "2023-02-13T04:08:05.881745",
   "version": "2.4.0"
  },
  "vscode": {
   "interpreter": {
    "hash": "aee8b7b246df8f9039afb4144a1f6fd8d2ca17a180786b69acc140d282b71a49"
   }
  },
  "widgets": {
   "application/vnd.jupyter.widget-state+json": {
    "state": {
     "0f8d7dd08ae24121a75dec250e6230b1": {
      "model_module": "@jupyter-widgets/base",
      "model_module_version": "2.0.0",
      "model_name": "LayoutModel",
      "state": {
       "_model_module": "@jupyter-widgets/base",
       "_model_module_version": "2.0.0",
       "_model_name": "LayoutModel",
       "_view_count": null,
       "_view_module": "@jupyter-widgets/base",
       "_view_module_version": "2.0.0",
       "_view_name": "LayoutView",
       "align_content": null,
       "align_items": null,
       "align_self": null,
       "border_bottom": null,
       "border_left": null,
       "border_right": null,
       "border_top": null,
       "bottom": null,
       "display": null,
       "flex": null,
       "flex_flow": null,
       "grid_area": null,
       "grid_auto_columns": null,
       "grid_auto_flow": null,
       "grid_auto_rows": null,
       "grid_column": null,
       "grid_gap": null,
       "grid_row": null,
       "grid_template_areas": null,
       "grid_template_columns": null,
       "grid_template_rows": null,
       "height": null,
       "justify_content": null,
       "justify_items": null,
       "left": null,
       "margin": null,
       "max_height": null,
       "max_width": null,
       "min_height": null,
       "min_width": null,
       "object_fit": null,
       "object_position": null,
       "order": null,
       "overflow": null,
       "padding": null,
       "right": null,
       "top": null,
       "visibility": null,
       "width": null
      }
     },
     "40e4d988a6c341e3ac9903422d337987": {
      "model_module": "@jupyter-widgets/base",
      "model_module_version": "2.0.0",
      "model_name": "LayoutModel",
      "state": {
       "_model_module": "@jupyter-widgets/base",
       "_model_module_version": "2.0.0",
       "_model_name": "LayoutModel",
       "_view_count": null,
       "_view_module": "@jupyter-widgets/base",
       "_view_module_version": "2.0.0",
       "_view_name": "LayoutView",
       "align_content": null,
       "align_items": null,
       "align_self": null,
       "border_bottom": null,
       "border_left": null,
       "border_right": null,
       "border_top": null,
       "bottom": null,
       "display": null,
       "flex": null,
       "flex_flow": null,
       "grid_area": null,
       "grid_auto_columns": null,
       "grid_auto_flow": null,
       "grid_auto_rows": null,
       "grid_column": null,
       "grid_gap": null,
       "grid_row": null,
       "grid_template_areas": null,
       "grid_template_columns": null,
       "grid_template_rows": null,
       "height": null,
       "justify_content": null,
       "justify_items": null,
       "left": null,
       "margin": null,
       "max_height": null,
       "max_width": null,
       "min_height": null,
       "min_width": null,
       "object_fit": null,
       "object_position": null,
       "order": null,
       "overflow": null,
       "padding": null,
       "right": null,
       "top": null,
       "visibility": null,
       "width": null
      }
     },
     "5f927ec8363b4d3aabbe7e0ef3c8e8e6": {
      "model_module": "@jupyter-widgets/controls",
      "model_module_version": "2.0.0",
      "model_name": "HBoxModel",
      "state": {
       "_dom_classes": [],
       "_model_module": "@jupyter-widgets/controls",
       "_model_module_version": "2.0.0",
       "_model_name": "HBoxModel",
       "_view_count": null,
       "_view_module": "@jupyter-widgets/controls",
       "_view_module_version": "2.0.0",
       "_view_name": "HBoxView",
       "box_style": "",
       "children": [
        "IPY_MODEL_d831c09fdc7e4412ad0555594d33b6cd",
        "IPY_MODEL_8b972de6390944a9b97072e6b546436b",
        "IPY_MODEL_ab3aadb88f714154aa05bfdfba0a56db"
       ],
       "layout": "IPY_MODEL_8e5a0cb4443f413681b18bfd061a4e84",
       "tabbable": null,
       "tooltip": null
      }
     },
     "7e939e2d4d8a4cac92df7492b09f9dd0": {
      "model_module": "@jupyter-widgets/controls",
      "model_module_version": "2.0.0",
      "model_name": "ProgressStyleModel",
      "state": {
       "_model_module": "@jupyter-widgets/controls",
       "_model_module_version": "2.0.0",
       "_model_name": "ProgressStyleModel",
       "_view_count": null,
       "_view_module": "@jupyter-widgets/base",
       "_view_module_version": "2.0.0",
       "_view_name": "StyleView",
       "bar_color": null,
       "description_width": ""
      }
     },
     "8b972de6390944a9b97072e6b546436b": {
      "model_module": "@jupyter-widgets/controls",
      "model_module_version": "2.0.0",
      "model_name": "FloatProgressModel",
      "state": {
       "_dom_classes": [],
       "_model_module": "@jupyter-widgets/controls",
       "_model_module_version": "2.0.0",
       "_model_name": "FloatProgressModel",
       "_view_count": null,
       "_view_module": "@jupyter-widgets/controls",
       "_view_module_version": "2.0.0",
       "_view_name": "ProgressView",
       "bar_style": "success",
       "description": "",
       "description_allow_html": false,
       "layout": "IPY_MODEL_0f8d7dd08ae24121a75dec250e6230b1",
       "max": 21.0,
       "min": 0.0,
       "orientation": "horizontal",
       "style": "IPY_MODEL_7e939e2d4d8a4cac92df7492b09f9dd0",
       "tabbable": null,
       "tooltip": null,
       "value": 21.0
      }
     },
     "8bee953cf0fe4fe99306d62a4cf0f786": {
      "model_module": "@jupyter-widgets/base",
      "model_module_version": "2.0.0",
      "model_name": "LayoutModel",
      "state": {
       "_model_module": "@jupyter-widgets/base",
       "_model_module_version": "2.0.0",
       "_model_name": "LayoutModel",
       "_view_count": null,
       "_view_module": "@jupyter-widgets/base",
       "_view_module_version": "2.0.0",
       "_view_name": "LayoutView",
       "align_content": null,
       "align_items": null,
       "align_self": null,
       "border_bottom": null,
       "border_left": null,
       "border_right": null,
       "border_top": null,
       "bottom": null,
       "display": null,
       "flex": null,
       "flex_flow": null,
       "grid_area": null,
       "grid_auto_columns": null,
       "grid_auto_flow": null,
       "grid_auto_rows": null,
       "grid_column": null,
       "grid_gap": null,
       "grid_row": null,
       "grid_template_areas": null,
       "grid_template_columns": null,
       "grid_template_rows": null,
       "height": null,
       "justify_content": null,
       "justify_items": null,
       "left": null,
       "margin": null,
       "max_height": null,
       "max_width": null,
       "min_height": null,
       "min_width": null,
       "object_fit": null,
       "object_position": null,
       "order": null,
       "overflow": null,
       "padding": null,
       "right": null,
       "top": null,
       "visibility": null,
       "width": null
      }
     },
     "8e5a0cb4443f413681b18bfd061a4e84": {
      "model_module": "@jupyter-widgets/base",
      "model_module_version": "2.0.0",
      "model_name": "LayoutModel",
      "state": {
       "_model_module": "@jupyter-widgets/base",
       "_model_module_version": "2.0.0",
       "_model_name": "LayoutModel",
       "_view_count": null,
       "_view_module": "@jupyter-widgets/base",
       "_view_module_version": "2.0.0",
       "_view_name": "LayoutView",
       "align_content": null,
       "align_items": null,
       "align_self": null,
       "border_bottom": null,
       "border_left": null,
       "border_right": null,
       "border_top": null,
       "bottom": null,
       "display": null,
       "flex": null,
       "flex_flow": null,
       "grid_area": null,
       "grid_auto_columns": null,
       "grid_auto_flow": null,
       "grid_auto_rows": null,
       "grid_column": null,
       "grid_gap": null,
       "grid_row": null,
       "grid_template_areas": null,
       "grid_template_columns": null,
       "grid_template_rows": null,
       "height": null,
       "justify_content": null,
       "justify_items": null,
       "left": null,
       "margin": null,
       "max_height": null,
       "max_width": null,
       "min_height": null,
       "min_width": null,
       "object_fit": null,
       "object_position": null,
       "order": null,
       "overflow": null,
       "padding": null,
       "right": null,
       "top": null,
       "visibility": null,
       "width": null
      }
     },
     "ab3aadb88f714154aa05bfdfba0a56db": {
      "model_module": "@jupyter-widgets/controls",
      "model_module_version": "2.0.0",
      "model_name": "HTMLModel",
      "state": {
       "_dom_classes": [],
       "_model_module": "@jupyter-widgets/controls",
       "_model_module_version": "2.0.0",
       "_model_name": "HTMLModel",
       "_view_count": null,
       "_view_module": "@jupyter-widgets/controls",
       "_view_module_version": "2.0.0",
       "_view_name": "HTMLView",
       "description": "",
       "description_allow_html": false,
       "layout": "IPY_MODEL_40e4d988a6c341e3ac9903422d337987",
       "placeholder": "​",
       "style": "IPY_MODEL_c7ee0faba76d4873b433f3b19cdff594",
       "tabbable": null,
       "tooltip": null,
       "value": " 21/21 [00:55&lt;00:00,  1.96s/it]"
      }
     },
     "bcd94c22ea944161a70a838fccb27b21": {
      "model_module": "@jupyter-widgets/controls",
      "model_module_version": "2.0.0",
      "model_name": "HTMLStyleModel",
      "state": {
       "_model_module": "@jupyter-widgets/controls",
       "_model_module_version": "2.0.0",
       "_model_name": "HTMLStyleModel",
       "_view_count": null,
       "_view_module": "@jupyter-widgets/base",
       "_view_module_version": "2.0.0",
       "_view_name": "StyleView",
       "background": null,
       "description_width": "",
       "font_size": null,
       "text_color": null
      }
     },
     "c7ee0faba76d4873b433f3b19cdff594": {
      "model_module": "@jupyter-widgets/controls",
      "model_module_version": "2.0.0",
      "model_name": "HTMLStyleModel",
      "state": {
       "_model_module": "@jupyter-widgets/controls",
       "_model_module_version": "2.0.0",
       "_model_name": "HTMLStyleModel",
       "_view_count": null,
       "_view_module": "@jupyter-widgets/base",
       "_view_module_version": "2.0.0",
       "_view_name": "StyleView",
       "background": null,
       "description_width": "",
       "font_size": null,
       "text_color": null
      }
     },
     "d831c09fdc7e4412ad0555594d33b6cd": {
      "model_module": "@jupyter-widgets/controls",
      "model_module_version": "2.0.0",
      "model_name": "HTMLModel",
      "state": {
       "_dom_classes": [],
       "_model_module": "@jupyter-widgets/controls",
       "_model_module_version": "2.0.0",
       "_model_name": "HTMLModel",
       "_view_count": null,
       "_view_module": "@jupyter-widgets/controls",
       "_view_module_version": "2.0.0",
       "_view_name": "HTMLView",
       "description": "",
       "description_allow_html": false,
       "layout": "IPY_MODEL_8bee953cf0fe4fe99306d62a4cf0f786",
       "placeholder": "​",
       "style": "IPY_MODEL_bcd94c22ea944161a70a838fccb27b21",
       "tabbable": null,
       "tooltip": null,
       "value": "100%"
      }
     }
    },
    "version_major": 2,
    "version_minor": 0
   }
  }
 },
 "nbformat": 4,
 "nbformat_minor": 5
}