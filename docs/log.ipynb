{
 "cells": [
  {
   "cell_type": "markdown",
   "id": "92bcb855",
   "metadata": {
    "papermill": {
     "duration": 0.005337,
     "end_time": "2022-08-22T15:09:03.270963",
     "exception": false,
     "start_time": "2022-08-22T15:09:03.265626",
     "status": "completed"
    },
    "tags": []
   },
   "source": [
    "# MPIA Arxiv on Deck 2\n",
    "\n",
    "Contains the steps to produce the paper extractions."
   ]
  },
  {
   "cell_type": "code",
   "execution_count": 1,
   "id": "3a0d6e11",
   "metadata": {
    "execution": {
     "iopub.execute_input": "2022-08-22T15:09:03.280392Z",
     "iopub.status.busy": "2022-08-22T15:09:03.279707Z",
     "iopub.status.idle": "2022-08-22T15:09:03.435436Z",
     "shell.execute_reply": "2022-08-22T15:09:03.434688Z"
    },
    "papermill": {
     "duration": 0.162991,
     "end_time": "2022-08-22T15:09:03.437801",
     "exception": false,
     "start_time": "2022-08-22T15:09:03.274810",
     "status": "completed"
    },
    "tags": []
   },
   "outputs": [],
   "source": [
    "# Imports\n",
    "import os\n",
    "from IPython.display import Markdown, display\n",
    "from tqdm.notebook import tqdm\n",
    "import warnings\n",
    "from PIL import Image \n",
    "\n",
    "# requires arxiv_on_deck_2\n",
    "\n",
    "from arxiv_on_deck_2.arxiv2 import (get_new_papers, \n",
    "                                    get_paper_from_identifier,\n",
    "                                    retrieve_document_source, \n",
    "                                    get_markdown_badge)\n",
    "from arxiv_on_deck_2 import (latex, \n",
    "                             mpia,\n",
    "                             highlight_authors_in_list)\n",
    "\n",
    "# Sometimes images are really big\n",
    "Image.MAX_IMAGE_PIXELS = 1000000000 "
   ]
  },
  {
   "cell_type": "code",
   "execution_count": 2,
   "id": "22aa9d44",
   "metadata": {
    "execution": {
     "iopub.execute_input": "2022-08-22T15:09:03.446906Z",
     "iopub.status.busy": "2022-08-22T15:09:03.446377Z",
     "iopub.status.idle": "2022-08-22T15:09:03.451872Z",
     "shell.execute_reply": "2022-08-22T15:09:03.451212Z"
    },
    "papermill": {
     "duration": 0.011873,
     "end_time": "2022-08-22T15:09:03.453472",
     "exception": false,
     "start_time": "2022-08-22T15:09:03.441599",
     "status": "completed"
    },
    "tags": []
   },
   "outputs": [],
   "source": [
    "# Some useful definitions.\n",
    "\n",
    "class AffiliationWarning(UserWarning):\n",
    "    pass\n",
    "\n",
    "class AffiliationError(RuntimeError):\n",
    "    pass\n",
    "\n",
    "def validation(source: str):\n",
    "    \"\"\"Raises error paper during parsing of source file\n",
    "    \n",
    "    Allows checks before parsing TeX code.\n",
    "    \n",
    "    Raises AffiliationWarning\n",
    "    \"\"\"\n",
    "    check = mpia.affiliation_verifications(source, verbose=True)\n",
    "    if check is not True:\n",
    "        raise AffiliationError(\"mpia.affiliation_verifications: \" + check)\n",
    "\n",
    "        \n",
    "warnings.simplefilter('always', AffiliationWarning)"
   ]
  },
  {
   "cell_type": "code",
   "execution_count": 3,
   "id": "14622700",
   "metadata": {
    "execution": {
     "iopub.execute_input": "2022-08-22T15:09:03.462186Z",
     "iopub.status.busy": "2022-08-22T15:09:03.461580Z",
     "iopub.status.idle": "2022-08-22T15:09:03.466067Z",
     "shell.execute_reply": "2022-08-22T15:09:03.465459Z"
    },
    "papermill": {
     "duration": 0.010689,
     "end_time": "2022-08-22T15:09:03.467609",
     "exception": false,
     "start_time": "2022-08-22T15:09:03.456920",
     "status": "completed"
    },
    "tags": []
   },
   "outputs": [],
   "source": [
    "# additional CSS to consider. \n",
    "# TODO: Current into each exported file. \n",
    "#       This should be set once into the webpages directly.\n",
    "#       With only the class/id definitions in the .md files.\n",
    "\n",
    "debug_html = \"\"\"\n",
    "<style>\n",
    "#wrap{ overflow:auto; }\n",
    "#fig1{ background:yellow; width:100%; float:left; padding:5px;  }\n",
    "#fig2{ background:red; width:50%; float:left; clear:left; padding:5px;  }\n",
    "#fig3{ background:green; width:50%; float:left; padding:5px;   }\n",
    ".macros{ background:yellow; visibility:visible;}\n",
    "h1 {margin: 0 0 0 0;}\n",
    "mark {background-color:#fff3b6;}\n",
    "img {object-fit:contain; max-height:250px; display:inline-block; text-align: center;}\n",
    "</style>\n",
    "\"\"\" \n",
    "html = \"\"\"\n",
    "<style>\n",
    "#wrap{ overflow:auto; }\n",
    "#fig1{ width:100%; float:left; padding: 5px;  }\n",
    "#fig2{ width:50%; float:left; clear:left; padding: 5px;  }\n",
    "#fig3{ width:50%; float:left; padding: 5px;  }\n",
    ".macros{ visibility:hidden; height:0px; }\n",
    "h1 {margin: 0em 0 0 0;}\n",
    "mark {background-color:#fff3b6;}\n",
    "img {object-fit:contain; max-height:250px; display:inline-block; text-align: center;}\n",
    "</style>\n",
    "\"\"\""
   ]
  },
  {
   "cell_type": "markdown",
   "id": "14bd6310",
   "metadata": {
    "papermill": {
     "duration": 0.003492,
     "end_time": "2022-08-22T15:09:03.474511",
     "exception": false,
     "start_time": "2022-08-22T15:09:03.471019",
     "status": "completed"
    },
    "tags": []
   },
   "source": [
    "## get list of arxiv paper candidates\n",
    "\n",
    "We use the MPIA mitarbeiter list webpage from mpia.de to get author names\n",
    "We then get all new papers from Arxiv and match authors"
   ]
  },
  {
   "cell_type": "code",
   "execution_count": 4,
   "id": "2645e73a",
   "metadata": {
    "execution": {
     "iopub.execute_input": "2022-08-22T15:09:03.483994Z",
     "iopub.status.busy": "2022-08-22T15:09:03.483778Z",
     "iopub.status.idle": "2022-08-22T15:09:24.980619Z",
     "shell.execute_reply": "2022-08-22T15:09:24.979692Z"
    },
    "papermill": {
     "duration": 21.5031,
     "end_time": "2022-08-22T15:09:24.982389",
     "exception": false,
     "start_time": "2022-08-22T15:09:03.479289",
     "status": "completed"
    },
    "tags": []
   },
   "outputs": [
    {
     "name": "stdout",
     "output_type": "stream",
     "text": [
      "Arxiv has 47 new papers today\n",
      "          22 with possible author matches\n"
     ]
    }
   ],
   "source": [
    "# get list from MPIA website\n",
    "# it automatically filters identified non-scientists :func:`mpia.filter_non_scientists`\n",
    "mpia_authors = mpia.get_mpia_mitarbeiter_list()\n",
    "new_papers = get_new_papers()\n",
    "# add manual references\n",
    "add_paper_refs = []\n",
    "new_papers.extend([get_paper_from_identifier(k) for k in add_paper_refs])\n",
    "\n",
    "# select only papers with matching author names and highlight authors\n",
    "hl_list = [k[0] for k in mpia_authors]\n",
    "\n",
    "candidates = []\n",
    "for paperk in new_papers:\n",
    "    hl_authors = highlight_authors_in_list(paperk['authors'], hl_list)\n",
    "    matches = [(hl, orig) for hl, orig in zip(hl_authors, paperk['authors']) if 'mark' in hl]\n",
    "    paperk['authors'] = hl_authors\n",
    "    if matches:\n",
    "        candidates.append(paperk)\n",
    "print(\"\"\"Arxiv has {0:,d} new papers today\"\"\".format(len(new_papers)))        \n",
    "print(\"\"\"          {0:,d} with possible author matches\"\"\".format(len(candidates)))"
   ]
  },
  {
   "cell_type": "markdown",
   "id": "3543b34a",
   "metadata": {
    "papermill": {
     "duration": 0.003942,
     "end_time": "2022-08-22T15:09:24.990265",
     "exception": false,
     "start_time": "2022-08-22T15:09:24.986323",
     "status": "completed"
    },
    "tags": []
   },
   "source": [
    "# Parse sources and generate relevant outputs\n",
    "\n",
    "From the candidates, we do the following steps:\n",
    "* get their tarball from ArXiv (and extract data)\n",
    "* find the main .tex file: find one with \\documentclass{...} (sometimes it's non trivial)\n",
    "* Check affiliations with :func:`validation`, which uses :func:`mpia.affiliation_verifications`\n",
    "* If passing the affiliations: we parse the .tex source\n",
    "   * inject sub-documents into the main (flatten the main document)\n",
    "   * parse structure, extract information (title, abstract, authors, figures...)\n",
    "   * handles `\\graphicspath` if provided\n",
    "* Generate the .md document."
   ]
  },
  {
   "cell_type": "code",
   "execution_count": 5,
   "id": "9576b79e",
   "metadata": {
    "execution": {
     "iopub.execute_input": "2022-08-22T15:09:24.999088Z",
     "iopub.status.busy": "2022-08-22T15:09:24.998686Z",
     "iopub.status.idle": "2022-08-22T15:11:25.954123Z",
     "shell.execute_reply": "2022-08-22T15:11:25.952929Z"
    },
    "papermill": {
     "duration": 120.962981,
     "end_time": "2022-08-22T15:11:25.956765",
     "exception": false,
     "start_time": "2022-08-22T15:09:24.993784",
     "status": "completed"
    },
    "scrolled": false,
    "tags": []
   },
   "outputs": [
    {
     "data": {
      "application/json": {
       "ascii": false,
       "bar_format": null,
       "colour": null,
       "elapsed": 0.018584728240966797,
       "initial": 0,
       "n": 0,
       "ncols": null,
       "nrows": null,
       "postfix": null,
       "prefix": "",
       "rate": null,
       "total": 21,
       "unit": "it",
       "unit_divisor": 1000,
       "unit_scale": false
      },
      "application/vnd.jupyter.widget-view+json": {
       "model_id": "494735ba902e492a8dbcb30c70ca7472",
       "version_major": 2,
       "version_minor": 0
      },
      "text/plain": [
       "  0%|          | 0/21 [00:00<?, ?it/s]"
      ]
     },
     "metadata": {},
     "output_type": "display_data"
    },
    {
     "name": "stdout",
     "output_type": "stream",
     "text": [
      "Retrieving document from  https://arxiv.org/e-print/2208.08997\n"
     ]
    },
    {
     "name": "stdout",
     "output_type": "stream",
     "text": [
      "extracting tarball to tmp_2208.08997..."
     ]
    },
    {
     "name": "stdout",
     "output_type": "stream",
     "text": [
      " done.\n",
      "Retrieving document from  https://arxiv.org/e-print/2208.09000\n"
     ]
    },
    {
     "name": "stderr",
     "output_type": "stream",
     "text": [
      "/opt/hostedtoolcache/Python/3.9.13/x64/lib/python3.9/site-packages/IPython/core/interactiveshell.py:3398: LatexWarning: Multiple tex files.\n",
      "\n",
      "  exec(code_obj, self.user_global_ns, self.user_ns)\n",
      "/opt/hostedtoolcache/Python/3.9.13/x64/lib/python3.9/site-packages/IPython/core/interactiveshell.py:3398: LatexWarning: Found documentclass in tmp_2208.08997/thepaper_final.tex\n",
      "\n",
      "  exec(code_obj, self.user_global_ns, self.user_ns)\n",
      "/opt/hostedtoolcache/Python/3.9.13/x64/lib/python3.9/site-packages/arxiv_on_deck_2/latex.py:292: LatexWarning: Latex injecting: 'table_mass_comparison' from 'tmp_2208.08997/table_mass_comparison.tex'\n",
      "  warnings.warn(LatexWarning(f\"Latex injecting: '{ext}' from '{subsource}'\"))\n",
      "/opt/hostedtoolcache/Python/3.9.13/x64/lib/python3.9/site-packages/arxiv_on_deck_2/latex.py:292: LatexWarning: Latex injecting: 'table_mass' from 'tmp_2208.08997/table_mass.tex'\n",
      "  warnings.warn(LatexWarning(f\"Latex injecting: '{ext}' from '{subsource}'\"))\n",
      "/opt/hostedtoolcache/Python/3.9.13/x64/lib/python3.9/site-packages/arxiv_on_deck_2/latex.py:292: LatexWarning: Latex injecting: 'table_bad' from 'tmp_2208.08997/table_bad.tex'\n",
      "  warnings.warn(LatexWarning(f\"Latex injecting: '{ext}' from '{subsource}'\"))\n",
      "/opt/hostedtoolcache/Python/3.9.13/x64/lib/python3.9/site-packages/arxiv_on_deck_2/latex.py:292: LatexWarning: Latex injecting: 'table_new_gcs' from 'tmp_2208.08997/table_new_gcs.tex'\n",
      "  warnings.warn(LatexWarning(f\"Latex injecting: '{ext}' from '{subsource}'\"))\n",
      "/opt/hostedtoolcache/Python/3.9.13/x64/lib/python3.9/site-packages/arxiv_on_deck_2/latex.py:292: LatexWarning: Latex injecting: 'table_known_gcs' from 'tmp_2208.08997/table_known_gcs.tex'\n",
      "  warnings.warn(LatexWarning(f\"Latex injecting: '{ext}' from '{subsource}'\"))\n"
     ]
    },
    {
     "name": "stdout",
     "output_type": "stream",
     "text": [
      "extracting tarball to tmp_2208.09000..."
     ]
    },
    {
     "name": "stdout",
     "output_type": "stream",
     "text": [
      " done.\n",
      "Retrieving document from  https://arxiv.org/e-print/2208.09004\n"
     ]
    },
    {
     "name": "stderr",
     "output_type": "stream",
     "text": [
      "/opt/hostedtoolcache/Python/3.9.13/x64/lib/python3.9/site-packages/IPython/core/interactiveshell.py:3398: LatexWarning: Multiple tex files.\n",
      "\n",
      "  exec(code_obj, self.user_global_ns, self.user_ns)\n",
      "/opt/hostedtoolcache/Python/3.9.13/x64/lib/python3.9/site-packages/IPython/core/interactiveshell.py:3398: LatexWarning: Found documentclass in tmp_2208.09000/paper.tex\n",
      "\n",
      "  exec(code_obj, self.user_global_ns, self.user_ns)\n",
      "/opt/hostedtoolcache/Python/3.9.13/x64/lib/python3.9/site-packages/arxiv_on_deck_2/latex.py:292: LatexWarning: Latex injecting: 'affiliations_enum' from 'tmp_2208.09000/affiliations_enum.tex'\n",
      "  warnings.warn(LatexWarning(f\"Latex injecting: '{ext}' from '{subsource}'\"))\n",
      "/opt/hostedtoolcache/Python/3.9.13/x64/lib/python3.9/site-packages/arxiv_on_deck_2/latex.py:292: LatexWarning: Latex injecting: 'affiliations_aa' from 'tmp_2208.09000/affiliations_aa.tex'\n",
      "  warnings.warn(LatexWarning(f\"Latex injecting: '{ext}' from '{subsource}'\"))\n",
      "/opt/hostedtoolcache/Python/3.9.13/x64/lib/python3.9/site-packages/arxiv_on_deck_2/latex.py:292: LatexWarning: Latex injecting: 'authors' from 'tmp_2208.09000/authors.tex'\n",
      "  warnings.warn(LatexWarning(f\"Latex injecting: '{ext}' from '{subsource}'\"))\n"
     ]
    },
    {
     "name": "stdout",
     "output_type": "stream",
     "text": [
      "extracting tarball to tmp_2208.09004..."
     ]
    },
    {
     "name": "stdout",
     "output_type": "stream",
     "text": [
      " done.\n",
      "Retrieving document from  https://arxiv.org/e-print/2208.09007\n"
     ]
    },
    {
     "name": "stdout",
     "output_type": "stream",
     "text": [
      "extracting tarball to tmp_2208.09007..."
     ]
    },
    {
     "name": "stdout",
     "output_type": "stream",
     "text": [
      " done.\n",
      "Retrieving document from  https://arxiv.org/e-print/2208.09008\n"
     ]
    },
    {
     "name": "stdout",
     "output_type": "stream",
     "text": [
      "extracting tarball to tmp_2208.09008..."
     ]
    },
    {
     "name": "stdout",
     "output_type": "stream",
     "text": [
      " done.\n",
      "Retrieving document from  https://arxiv.org/e-print/2208.09010\n"
     ]
    },
    {
     "name": "stdout",
     "output_type": "stream",
     "text": [
      "extracting tarball to tmp_2208.09010..."
     ]
    },
    {
     "name": "stdout",
     "output_type": "stream",
     "text": [
      " done.\n",
      "Retrieving document from  https://arxiv.org/e-print/2208.09013\n"
     ]
    },
    {
     "name": "stderr",
     "output_type": "stream",
     "text": [
      "/opt/hostedtoolcache/Python/3.9.13/x64/lib/python3.9/site-packages/IPython/core/interactiveshell.py:3398: LatexWarning: Multiple tex files.\n",
      "\n",
      "  exec(code_obj, self.user_global_ns, self.user_ns)\n",
      "/opt/hostedtoolcache/Python/3.9.13/x64/lib/python3.9/site-packages/IPython/core/interactiveshell.py:3398: LatexWarning: Found documentclass in tmp_2208.09010/AT2019wxt.tex\n",
      "\n",
      "  exec(code_obj, self.user_global_ns, self.user_ns)\n"
     ]
    },
    {
     "name": "stdout",
     "output_type": "stream",
     "text": [
      "extracting tarball to tmp_2208.09013..."
     ]
    },
    {
     "name": "stdout",
     "output_type": "stream",
     "text": [
      " done.\n"
     ]
    },
    {
     "name": "stderr",
     "output_type": "stream",
     "text": [
      "/opt/hostedtoolcache/Python/3.9.13/x64/lib/python3.9/site-packages/arxiv_on_deck_2/latex.py:118: LatexWarning: attempting recovering figure Figures/forward_model_flux_z54_mfp32_F4_skewer_0.pdf\n",
      "  warnings.warn(LatexWarning(f'attempting recovering figure {image}'))\n",
      "/tmp/ipykernel_2382/4030337529.py:34: LatexWarning: 2208.09013 did not run properly\n",
      "Could not find figure Figures/forward_model_flux_z54_mfp32_F4_skewer_0.pdf\n",
      "  warnings.warn(latex.LatexWarning(f\"{paper_id:s} did not run properly\\n\" +\n"
     ]
    },
    {
     "name": "stdout",
     "output_type": "stream",
     "text": [
      "Retrieving document from  https://arxiv.org/e-print/2208.09031\n"
     ]
    },
    {
     "name": "stdout",
     "output_type": "stream",
     "text": [
      "extracting tarball to tmp_2208.09031..."
     ]
    },
    {
     "name": "stdout",
     "output_type": "stream",
     "text": [
      " done.\n",
      "Retrieving document from  https://arxiv.org/e-print/2208.09049\n"
     ]
    },
    {
     "name": "stdout",
     "output_type": "stream",
     "text": [
      "extracting tarball to tmp_2208.09049..."
     ]
    },
    {
     "name": "stdout",
     "output_type": "stream",
     "text": [
      " done.\n",
      "Retrieving document from  https://arxiv.org/e-print/2208.09057\n"
     ]
    },
    {
     "name": "stdout",
     "output_type": "stream",
     "text": [
      "extracting tarball to tmp_2208.09057..."
     ]
    },
    {
     "name": "stdout",
     "output_type": "stream",
     "text": [
      " done.\n",
      "Retrieving document from  https://arxiv.org/e-print/2208.09098\n"
     ]
    },
    {
     "name": "stderr",
     "output_type": "stream",
     "text": [
      "/opt/hostedtoolcache/Python/3.9.13/x64/lib/python3.9/site-packages/IPython/core/interactiveshell.py:3398: LatexWarning: Multiple tex files.\n",
      "\n",
      "  exec(code_obj, self.user_global_ns, self.user_ns)\n",
      "/opt/hostedtoolcache/Python/3.9.13/x64/lib/python3.9/site-packages/IPython/core/interactiveshell.py:3398: LatexWarning: Found documentclass in tmp_2208.09057/SI_arXiv_submit.tex\n",
      "\n",
      "  exec(code_obj, self.user_global_ns, self.user_ns)\n"
     ]
    },
    {
     "name": "stdout",
     "output_type": "stream",
     "text": [
      "extracting tarball to tmp_2208.09098..."
     ]
    },
    {
     "name": "stdout",
     "output_type": "stream",
     "text": [
      " done.\n",
      "Retrieving document from  https://arxiv.org/e-print/2208.09121\n"
     ]
    },
    {
     "name": "stdout",
     "output_type": "stream",
     "text": [
      "extracting tarball to tmp_2208.09121... done.\n",
      "Retrieving document from  https://arxiv.org/e-print/2208.09175\n"
     ]
    },
    {
     "name": "stdout",
     "output_type": "stream",
     "text": [
      "extracting tarball to tmp_2208.09175..."
     ]
    },
    {
     "name": "stdout",
     "output_type": "stream",
     "text": [
      " done.\n",
      "Retrieving document from  https://arxiv.org/e-print/2208.09196\n"
     ]
    },
    {
     "name": "stdout",
     "output_type": "stream",
     "text": [
      "extracting tarball to tmp_2208.09196..."
     ]
    },
    {
     "name": "stdout",
     "output_type": "stream",
     "text": [
      " done.\n",
      "Retrieving document from  https://arxiv.org/e-print/2208.09229\n"
     ]
    },
    {
     "name": "stdout",
     "output_type": "stream",
     "text": [
      "extracting tarball to tmp_2208.09229..."
     ]
    },
    {
     "name": "stdout",
     "output_type": "stream",
     "text": [
      " done.\n",
      "Retrieving document from  https://arxiv.org/e-print/2208.09230\n"
     ]
    },
    {
     "name": "stdout",
     "output_type": "stream",
     "text": [
      "extracting tarball to tmp_2208.09230..."
     ]
    },
    {
     "name": "stdout",
     "output_type": "stream",
     "text": [
      " done.\n"
     ]
    },
    {
     "name": "stderr",
     "output_type": "stream",
     "text": [
      "/opt/hostedtoolcache/Python/3.9.13/x64/lib/python3.9/site-packages/arxiv_on_deck_2/latex.py:366: LatexWarning: Error parsing the document directly. Trying to recover.\n",
      "  warnings.warn(LatexWarning(f\"Error parsing the document directly. Trying to recover.\"))\n"
     ]
    },
    {
     "name": "stdout",
     "output_type": "stream",
     "text": [
      "✔ → 0:header\n",
      "  ↳ 4344:\\section{Introduction}\n",
      "✔ → 4344:\\section{Introduction}\n",
      "  ↳ 11107:\\section{Circumstellar disk of HD 163296}\n"
     ]
    },
    {
     "name": "stdout",
     "output_type": "stream",
     "text": [
      "✔ → 11107:\\section{Circumstellar disk of HD 163296}\n",
      "  ↳ 16945:\\section{Full radiative transfer modeling}\n"
     ]
    },
    {
     "name": "stdout",
     "output_type": "stream",
     "text": [
      "✘ → 16945:\\section{Full radiative transfer modeling}\n",
      "  ↳ 33053:\\section{Fitting the DSHARP ALMA image}\n"
     ]
    },
    {
     "name": "stdout",
     "output_type": "stream",
     "text": [
      "✔ → 33053:\\section{Fitting the DSHARP ALMA image}\n",
      "  ↳ 45315:\\section{Discussion}\n"
     ]
    },
    {
     "name": "stdout",
     "output_type": "stream",
     "text": [
      "✔ → 45315:\\section{Discussion}\n",
      "  ↳ 58761:\\section{Summary}\n",
      "✔ → 58761:\\section{Summary}\n",
      "  ↳ 62597:\\begin{appendix}\n",
      "✔ → 62597:\\begin{appendix}\n",
      "  ↳ 62651:\\section{More information about the SED models}\n"
     ]
    },
    {
     "name": "stdout",
     "output_type": "stream",
     "text": [
      "✔ → 62651:\\section{More information about the SED models}\n",
      "  ↳ 65079:end\n"
     ]
    },
    {
     "name": "stderr",
     "output_type": "stream",
     "text": [
      "/tmp/ipykernel_2382/4030337529.py:34: LatexWarning: 2208.09230 did not run properly\n",
      "[Errno 2] No such file or directory: 'gs'\n",
      "  warnings.warn(latex.LatexWarning(f\"{paper_id:s} did not run properly\\n\" +\n"
     ]
    },
    {
     "name": "stdout",
     "output_type": "stream",
     "text": [
      "Retrieving document from  https://arxiv.org/e-print/2208.09249\n"
     ]
    },
    {
     "name": "stdout",
     "output_type": "stream",
     "text": [
      "extracting tarball to tmp_2208.09249..."
     ]
    },
    {
     "name": "stdout",
     "output_type": "stream",
     "text": [
      " done.\n",
      "Retrieving document from  https://arxiv.org/e-print/2208.09272\n"
     ]
    },
    {
     "name": "stderr",
     "output_type": "stream",
     "text": [
      "/opt/hostedtoolcache/Python/3.9.13/x64/lib/python3.9/site-packages/IPython/core/interactiveshell.py:3398: LatexWarning: Multiple tex files.\n",
      "\n",
      "  exec(code_obj, self.user_global_ns, self.user_ns)\n",
      "/opt/hostedtoolcache/Python/3.9.13/x64/lib/python3.9/site-packages/IPython/core/interactiveshell.py:3398: LatexWarning: Found documentclass in tmp_2208.09249/psr2051.tex\n",
      "\n",
      "  exec(code_obj, self.user_global_ns, self.user_ns)\n"
     ]
    },
    {
     "name": "stdout",
     "output_type": "stream",
     "text": [
      "extracting tarball to tmp_2208.09272..."
     ]
    },
    {
     "name": "stdout",
     "output_type": "stream",
     "text": [
      " done.\n",
      "Retrieving document from  https://arxiv.org/e-print/2208.09335\n"
     ]
    },
    {
     "name": "stdout",
     "output_type": "stream",
     "text": [
      "extracting tarball to tmp_2208.09335..."
     ]
    },
    {
     "name": "stdout",
     "output_type": "stream",
     "text": [
      " done.\n"
     ]
    },
    {
     "name": "stdout",
     "output_type": "stream",
     "text": [
      "Retrieving document from  https://arxiv.org/e-print/2208.09369\n"
     ]
    },
    {
     "name": "stdout",
     "output_type": "stream",
     "text": [
      "extracting tarball to tmp_2208.09369... done.\n",
      "Retrieving document from  https://arxiv.org/e-print/2208.09377\n"
     ]
    },
    {
     "name": "stdout",
     "output_type": "stream",
     "text": [
      "extracting tarball to tmp_2208.09377..."
     ]
    },
    {
     "name": "stdout",
     "output_type": "stream",
     "text": [
      " done.\n"
     ]
    }
   ],
   "source": [
    "documents = []\n",
    "failed = []\n",
    "for paper in tqdm(candidates[:-1]):\n",
    "    paper_id = paper['identifier'].lower().replace('arxiv:', '')\n",
    "    \n",
    "    folder = f'tmp_{paper_id}'\n",
    "\n",
    "    try:\n",
    "        if not os.path.isdir(folder):\n",
    "            folder = retrieve_document_source(f\"{paper_id}\", f'tmp_{paper_id}')\n",
    "        \n",
    "        try:\n",
    "            doc = latex.LatexDocument(folder, validation=validation)    \n",
    "        except AffiliationError as affilerror:\n",
    "            msg = f\"ArXiv:{paper_id:s} is not an MPIA paper... \" + str(affilerror)\n",
    "            failed.append((paper, \"affiliation error: \" + str(affilerror) ))\n",
    "            continue\n",
    "        \n",
    "        # Hack because sometimes author parsing does not work well\n",
    "        if (len(doc.authors) != len(paper['authors'])):\n",
    "            doc._authors = paper['authors']\n",
    "        if (doc.abstract) in (None, ''):\n",
    "            doc._abstract = paper['abstract']\n",
    "            \n",
    "        doc.comment = (get_markdown_badge(paper_id) + \n",
    "                       \"<mark>Appeared on: \" + paper['date'] + \"</mark> - \" +\n",
    "                       \"_\" + paper['comments'] + \"_\")\n",
    "        doc.highlight_authors_in_list(hl_list)\n",
    "\n",
    "        full_md = doc.generate_markdown_text()\n",
    "        \n",
    "        documents.append((paper_id, full_md))\n",
    "    except Exception as e:\n",
    "        warnings.warn(latex.LatexWarning(f\"{paper_id:s} did not run properly\\n\" +\n",
    "                                         str(e)\n",
    "                                        ))\n",
    "        failed.append((paper, \"latex error \" + str(e)))"
   ]
  },
  {
   "cell_type": "markdown",
   "id": "2505a25c",
   "metadata": {
    "papermill": {
     "duration": 0.006537,
     "end_time": "2022-08-22T15:11:25.969750",
     "exception": false,
     "start_time": "2022-08-22T15:11:25.963213",
     "status": "completed"
    },
    "tags": []
   },
   "source": [
    "### Export the logs\n",
    "\n",
    "Throughout, we also keep track of the logs per paper. see `logs-{today date}.md` "
   ]
  },
  {
   "cell_type": "code",
   "execution_count": 6,
   "id": "d733828a",
   "metadata": {
    "execution": {
     "iopub.execute_input": "2022-08-22T15:11:25.983744Z",
     "iopub.status.busy": "2022-08-22T15:11:25.983228Z",
     "iopub.status.idle": "2022-08-22T15:11:26.031478Z",
     "shell.execute_reply": "2022-08-22T15:11:26.030789Z"
    },
    "papermill": {
     "duration": 0.057299,
     "end_time": "2022-08-22T15:11:26.033140",
     "exception": false,
     "start_time": "2022-08-22T15:11:25.975841",
     "status": "completed"
    },
    "scrolled": false,
    "tags": []
   },
   "outputs": [
    {
     "data": {
      "text/markdown": [
       "## Successful papers"
      ],
      "text/plain": [
       "<IPython.core.display.Markdown object>"
      ]
     },
     "metadata": {},
     "output_type": "display_data"
    },
    {
     "data": {
      "text/markdown": [
       "\n",
       "|||\n",
       "|---:|:---|\n",
       "| [![arXiv](https://img.shields.io/badge/arXiv-arXiv:2208.09335-b31b1b.svg)](https://arxiv.org/abs/arXiv:2208.09335) | **An empirical model of the Gaia DR3 selection function**  |\n",
       "|| <mark>Tristan Cantat-Gaudin</mark>, et al. -- incl., <mark>Morgan Fouesneau</mark>, <mark>Hans-Walter Rix</mark>, <mark>Anthony G. A. Brown</mark>, <mark>Gregory M. Green</mark> |\n",
       "|*Appeared on*| *2022-08-22*|\n",
       "|*Comments*| *to be submitted to A&A*|\n",
       "|**Abstract**| Interpreting and modelling astronomical catalogues requires an understanding of the catalogues' completeness or selection function: objects of what properties had a chance to end up in the catalogue. Here we set out to empirically quantify the completeness of the overall Gaia DR3 catalogue. This task is not straightforward because Gaia is the all-sky optical survey with the highest angular resolution to date and no consistent ``ground truth'' exists to allow direct comparisons. However, well-characterised deeper imaging enables an empirical assessment of Gaia's $G$-band completeness across parts of the sky. On this basis, we devised a simple analytical completeness model of Gaia as a function of the observed $G$ magnitude and position over the sky, which accounts for both the effects of crowding and the complex Gaia scanning law. Our model only depends on a single quantity: the median magnitude $M_{10}$ in a patch of the sky of catalogued sources with $\\texttt{astrometric_matched_transits}$ $\\leq 10$. $M_{10}$ reflects elementary completeness decisions in the Gaia pipeline and is computable from the Gaia DR3 catalogue itself and therefore applicable across the whole sky. We calibrate our model using the Dark Energy Camera Plane Survey (DECaPS) and test its predictions against Hubble Space Telescope observations of globular clusters. We find that our model predicts Gaia's completeness values to a few per cent across the sky. We make the model available as a part of the $\\texttt{gaiasf}$ Python package built and maintained by the GaiaUnlimited project. |"
      ],
      "text/plain": [
       "[arXiv:2208.09335] An empirical model of the Gaia DR3 selection function\n",
       "\t<mark>Tristan Cantat-Gaudin</mark>, et al. -- incl., <mark>Morgan Fouesneau</mark>, <mark>Hans-Walter Rix</mark>, <mark>Anthony G. A. Brown</mark>, <mark>Gregory M. Green</mark>"
      ]
     },
     "metadata": {},
     "output_type": "display_data"
    },
    {
     "data": {
      "text/markdown": [
       "## Failed papers"
      ],
      "text/plain": [
       "<IPython.core.display.Markdown object>"
      ]
     },
     "metadata": {},
     "output_type": "display_data"
    },
    {
     "data": {
      "text/markdown": [
       "\n",
       "|||\n",
       "|---:|:---|\n",
       "| [![arXiv](https://img.shields.io/badge/arXiv-arXiv:2208.09008-b31b1b.svg)](https://arxiv.org/abs/arXiv:2208.09008) | **SDSS-IV MaNGA: the chemical co-evolution of gas and stars in spiral  galaxies**  |\n",
       "|| <mark>Michael J. Greener</mark>, et al. -- incl., <mark>Joel R. Brownstein</mark> |\n",
       "|*Appeared on*| *2022-08-22*|\n",
       "|*Comments*| *15 pages, 8 figures, accepted for publication by MNRAS*|\n",
       "|**Abstract**| We investigate archaeologically how the metallicity in both stellar and gaseous components of spiral galaxies of differing masses evolve with time, using data from the SDSS-IV MaNGA survey. For the stellar component, we can measure this evolution directly by decomposing the galaxy absorption-line spectra into populations of different ages and determining their metallicities. For the gaseous component, we can only measure the present-day metallicity directly from emission lines. However, there is a well-established relationship between gas metallicity, stellar mass and star formation rate which does not evolve significantly with redshift; since the latter two quantities can be determined directly for any epoch from the decomposition of the absorption-line spectra, we can use this relationship to infer the variation in gas metallicity over cosmic time. Comparison of present-day values derived in this way with those obtained directly from the emission lines confirms the validity of the method. Application of this approach to a sample of 1619 spiral galaxies reveals how the metallicity of these systems has changed over the last 10 billion years since cosmic noon. For lower-mass galaxies, both stellar and gaseous metallicity increase together, as one might expect in well-mixed fairly isolated systems. In higher-mass systems, the average stellar metallicity has not increased in step with the inferred gas metallicity, and actually decreases with time. Such disjoint behaviour is what one might expect if these more massive systems have accreted significant amounts of largely pristine gas over their lifetimes, and this material has not been well mixed into the galaxies. |\n",
       "|<p style=\"color:green\"> **ERROR** </p>| <p style=\"color:green\">affiliation error: mpia.affiliation_verifications: '69117' keyword not found.</p> |"
      ],
      "text/plain": [
       "<IPython.core.display.Markdown object>"
      ]
     },
     "metadata": {},
     "output_type": "display_data"
    },
    {
     "data": {
      "text/markdown": [
       "\n",
       "|||\n",
       "|---:|:---|\n",
       "| [![arXiv](https://img.shields.io/badge/arXiv-arXiv:2208.08997-b31b1b.svg)](https://arxiv.org/abs/arXiv:2208.08997) | **New Velocity Measurements of NGC 5128 Globular Clusters out to 130 kpc:  Outer Halo Kinematics, Substructure and Dynamics**  |\n",
       "|| <mark>A.K. Hughes</mark>, et al. |\n",
       "|*Appeared on*| *2022-08-22*|\n",
       "|*Comments*| *24 pages, 13 figures, submitted to AAS Journals*|\n",
       "|**Abstract**| We present new radial velocity measurements from the Magellan and the Anglo-Australian Telescopes for 174 previously known and 122 newly confirmed globular clusters (GCs) around NGC 5128, the nearest accessible massive early-type galaxy at D=3.8 Mpc. Remarkably, 28 of these newly confirmed GCs are at projected radii >50' ($\\gtrsim 54$ kpc), extending to $\\sim 130$ kpc, in the outer halo where few GCs had been confirmed in previous work. We identify several subsets of GCs that spatially trace halo substructures that are visible in red giant branch star maps of the galaxy. In some cases, these subsets of GCs are kinematically cold, and may be directly associated with and originate from these specific stellar substructures. From a combined kinematic sample of 645 GCs, we see evidence for coherent rotation at all radii, with a higher rotation amplitude for the metal-rich GC subpopulation. Using the tracer mass estimator, we measure a total enclosed mass of $2.5\\pm0.3 \\times 10^{12} M_{\\odot}$ within $\\sim 120$ kpc, an estimate that will be sharpened with forthcoming dynamical modeling. The combined power of stellar mapping and GC kinematics makes NGC 5128 an ongoing keystone for understanding galaxy assembly at mass scales inaccessible in the Local Group. |\n",
       "|<p style=\"color:green\"> **ERROR** </p>| <p style=\"color:green\">affiliation error: mpia.affiliation_verifications: 'Heidelberg' keyword not found.</p> |"
      ],
      "text/plain": [
       "<IPython.core.display.Markdown object>"
      ]
     },
     "metadata": {},
     "output_type": "display_data"
    },
    {
     "data": {
      "text/markdown": [
       "\n",
       "|||\n",
       "|---:|:---|\n",
       "| [![arXiv](https://img.shields.io/badge/arXiv-arXiv:2208.09000-b31b1b.svg)](https://arxiv.org/abs/arXiv:2208.09000) | **Panning for gold, but finding helium: discovery of the ultra-stripped  supernova SN2019wxt from gravitational-wave follow-up observations**  |\n",
       "|| I. Agudo, et al. -- incl., <mark>K. E. Heintz</mark>, <mark>M. E. Huber</mark> |\n",
       "|*Appeared on*| *2022-08-22*|\n",
       "|*Comments*| *By the ENGRAVE collaboration (engrave-eso.org). 33 pages, 12 figures, submitted to A&A. Comments are welcome!*|\n",
       "|**Abstract**| We present the results from multi-wavelength observations of a transient discovered during the follow-up of S191213g, a gravitational wave (GW) event reported by the LIGO-Virgo Collaboration as a possible binary neutron star merger in a low latency search. This search yielded SN2019wxt, a young transient in a galaxy whose sky position (in the 80\\% GW contour) and distance ($\\sim$150\\,Mpc) were plausibly compatible with the localisation uncertainty of the GW event. Initially, the transient's tightly constrained age, its relatively faint peak magnitude ($M_i \\sim -16.7$\\,mag) and the $r-$band decline rate of $\\sim 1$\\,mag per 5\\,days appeared suggestive of a compact binary merger. However, SN2019wxt spectroscopically resembled a type Ib supernova, and analysis of the optical-near-infrared evolution rapidly led to the conclusion that while it could not be associated with S191213g, it nevertheless represented an extreme outcome of stellar evolution. By modelling the light curve, we estimated an ejecta mass of $\\sim 0.1\\,M_\\odot$, with $^{56}$Ni comprising $\\sim 20\\%$ of this. We were broadly able to reproduce its spectral evolution with a composition dominated by helium and oxygen, with trace amounts of calcium. We considered various progenitors that could give rise to the observed properties of SN2019wxt, and concluded that an ultra-stripped origin in a binary system is the most likely explanation. Disentangling electromagnetic counterparts to GW events from transients such as SN2019wxt is challenging: in a bid to characterise the level of contamination, we estimated the rate of events with properties comparable to those of SN2019wxt and found that $\\sim 1$ such event per week can occur within the typical GW localisation area of O4 alerts out to a luminosity distance of 500\\,Mpc, beyond which it would become fainter than the typical depth of current electromagnetic follow-up campaigns. |\n",
       "|<p style=\"color:green\"> **ERROR** </p>| <p style=\"color:green\">affiliation error: mpia.affiliation_verifications: 'Heidelberg' keyword not found.</p> |"
      ],
      "text/plain": [
       "<IPython.core.display.Markdown object>"
      ]
     },
     "metadata": {},
     "output_type": "display_data"
    },
    {
     "data": {
      "text/markdown": [
       "\n",
       "|||\n",
       "|---:|:---|\n",
       "| [![arXiv](https://img.shields.io/badge/arXiv-arXiv:2208.09004-b31b1b.svg)](https://arxiv.org/abs/arXiv:2208.09004) | **The Photon Ring in M87***  |\n",
       "|| Avery E. Broderick, et al. -- incl., <mark>Joseph Farah</mark>, <mark>Carsten Kramer</mark>, <mark>Sang-Sung Lee</mark> |\n",
       "|*Appeared on*| *2022-08-22*|\n",
       "|*Comments*| **|\n",
       "|**Abstract**| We report measurements of the gravitationally lensed secondary image -- the first in an infinite series of so-called \"photon rings\" -- around the supermassive black hole M87* via simultaneous modeling and imaging of the 2017 Event Horizon Telescope (EHT) observations. The inferred ring size remains constant across the seven days of the 2017 EHT observing campaign and is consistent with theoretical expectations, providing clear evidence that such measurements probe spacetime and a striking confirmation of the models underlying the first set of EHT results. The residual diffuse emission evolves on timescales comparable to one week. We are able to detect with high significance a southwestern extension consistent with that expected from the base of a jet that is rapidly rotating in the clockwise direction. This result adds further support to the identification of the jet in M87* with a black hole spin-driven outflow, launched via the Blandford-Znajek process. We present three revised estimates for the mass of M87* based on identifying the modeled thin ring component with the bright ringlike features seen in simulated images, one of which is only weakly sensitive to the astrophysics of the emission region. All three estimates agree with each other and previously reported values. Our strongest mass constraint combines information from both the ring and the diffuse emission region, which together imply a mass-to-distance ratio of $4.20^{+0.12}_{-0.06}~\\mu{\\rm as}$ and a corresponding black hole mass of $(7.13\\pm0.39)\\times10^9M_\\odot$, where the error on the latter is now dominated by the systematic uncertainty arising from the uncertain distance to M87*. |\n",
       "|<p style=\"color:green\"> **ERROR** </p>| <p style=\"color:green\">affiliation error: mpia.affiliation_verifications: 'Heidelberg' keyword not found.</p> |"
      ],
      "text/plain": [
       "<IPython.core.display.Markdown object>"
      ]
     },
     "metadata": {},
     "output_type": "display_data"
    },
    {
     "data": {
      "text/markdown": [
       "\n",
       "|||\n",
       "|---:|:---|\n",
       "| [![arXiv](https://img.shields.io/badge/arXiv-arXiv:2208.09007-b31b1b.svg)](https://arxiv.org/abs/arXiv:2208.09007) | **JWST Imaging of Earendel, the Extremely Magnified Star at Redshift  $z=6.2$**  |\n",
       "|| Brian Welch, et al. -- incl., <mark>Alaina Henry</mark>, <mark>Guillaume Mahler</mark> |\n",
       "|*Appeared on*| *2022-08-22*|\n",
       "|*Comments*| *Submitted to ApJ. Data products, lens models, and analysis code will be available online at this https URL*|\n",
       "|**Abstract**| The gravitationally lensed star WHL0137-LS, nicknamed Earendel, was identified with a photometric redshift $\\zphot = 6.2 \\pm 0.1$ based on images taken with the Hubble Space Telescope. Here we present James Webb Space Telescope (\\JWST) Near Infrared Camera (NIRCam) images of Earendel in 8 filters spanning 0.8--5.0$\\mu$m. In these higher resolution images, Earendel remains a single unresolved point source on the lensing critical curve, increasing the lower limit on the lensing magnification to $\\mu > 4000$ and restricting the source plane radius further to $r < 0.02$ pc, or $\\sim 4000$ AU. These new observations strengthen the conclusion that Earendel is best explained by an individual star or multiple star system. The new imaging also supports the previous photometric redshift estimate, solidifying the interpretation of Earendel as a stellar source within the first billion years of the universe. Fitting stellar spectra to our photometry yields a stellar temperature of $T_{\\mathrm{eff}} \\simeq 13000$--16000 K assuming the light is dominated by a single star. The delensed bolometric luminosity in this case ranges from $\\log(L) = 5.8$--6.6 $L_{\\odot}$, which is in the range where one expects luminous blue variable stars. Allowing for two stars with different temperatures can yield better fits to the photometry at the expense of increased free parameters, leading to non-unique well-fitting temperatures of $T_{{\\rm eff}} \\gtrsim 20000$ K and $T_{{\\rm eff}} \\lesssim 13000$ K for the hotter and cooler components, respectively. Follow-up observations, including \\JWST\\ NIRSpec scheduled for late 2022, are needed to further unravel the nature of this object, which presents a unique opportunity to study massive stars in the first billion years of the universe. |\n",
       "|<p style=\"color:green\"> **ERROR** </p>| <p style=\"color:green\">affiliation error: mpia.affiliation_verifications: 'Heidelberg' keyword not found.</p> |"
      ],
      "text/plain": [
       "<IPython.core.display.Markdown object>"
      ]
     },
     "metadata": {},
     "output_type": "display_data"
    },
    {
     "data": {
      "text/markdown": [
       "\n",
       "|||\n",
       "|---:|:---|\n",
       "| [![arXiv](https://img.shields.io/badge/arXiv-arXiv:2208.09010-b31b1b.svg)](https://arxiv.org/abs/arXiv:2208.09010) | **AT2019wxt: An ultra-stripped supernova candidate discovered in  electromagnetic follow-up of a gravitational wave trigger**  |\n",
       "|| Hinna Shivkumar, et al. -- incl., <mark>Fiona Harrison</mark> |\n",
       "|*Appeared on*| *2022-08-22*|\n",
       "|*Comments*| *20 pages, 14 figures, Submitted to ApJ*|\n",
       "|**Abstract**| We present optical, radio and X-ray observations of a rapidly-evolving transient AT2019wxt (PS19hgw), discovered during the search for an electromagnetic (EM) counterpart to the gravitational-wave (GW) trigger S191213g (LIGO Scientific Collaboration & Virgo Collaboration 2019a). Although S191213g was not confirmed as a significant GW event in the off-line analysis of LIGO-Virgo data, AT2019wxt remained an interesting transient due its peculiar nature. The optical/NIR light curve of AT2019wxt displayed a double-peaked structure evolving rapidly in a manner analogous to currently know ultra-stripped supernovae (USSNe) candidates. This double-peaked structure suggests presence of an extended envelope around the progenitor, best modelled with two-components: i) early-time shock-cooling emission and ii) late-time radioactive $^{56}$Ni decay. We constrain the ejecta mass of AT2019wxt at $M_{ej} \\approx{0.20 M_{\\odot}}$ which indicates a significantly stripped progenitor that was possibly in a binary system. We also followed-up AT2019wxt with long-term Chandra and Jansky Very Large Array observations spanning $\\sim$260 days. We detected no definitive counterparts at the location of AT2019wxt in these long-term X-ray and radio observational campaigns. We establish the X-ray upper limit at $9.93\\times10^{-17}$ erg cm$^{-2}$ s$^{-1}$ and detect an excess radio emission from the region of AT2019wxt. However, there is little evidence for SN1993J- or GW170817-like variability of the radio flux over the course of our observations. A substantial host galaxy contribution to the measured radio flux is likely. The discovery and early-time peak capture of AT2019wxt in optical/NIR observation during EMGW follow-up observations highlights the need of dedicated early, multi-band photometric observations to identify USSNe. |\n",
       "|<p style=\"color:green\"> **ERROR** </p>| <p style=\"color:green\">affiliation error: mpia.affiliation_verifications: 'Heidelberg' keyword not found.</p> |"
      ],
      "text/plain": [
       "<IPython.core.display.Markdown object>"
      ]
     },
     "metadata": {},
     "output_type": "display_data"
    },
    {
     "data": {
      "text/markdown": [
       "\n",
       "|||\n",
       "|---:|:---|\n",
       "| [![arXiv](https://img.shields.io/badge/arXiv-arXiv:2208.09031-b31b1b.svg)](https://arxiv.org/abs/arXiv:2208.09031) | **Debiasing the Minimum-Mass Extrasolar Nebula: On the Diversity of Solid  Disk Profiles**  |\n",
       "|| <mark>Matthias Y. He</mark>, Eric B. Ford |\n",
       "|*Appeared on*| *2022-08-22*|\n",
       "|*Comments*| *13 pages, 6 figures, 1 table. Submitted to AAS Journals*|\n",
       "|**Abstract**| A foundational idea in the theory of in situ planet formation is the \"minimum mass extrasolar nebula\" (MMEN), a surface density profile ($\\Sigma$) of disk solids that is necessary to form the planets in their present locations. While most previous studies have fit a single power-law to all exoplanets in an observed ensemble, it is unclear whether most exoplanetary systems form from a universal disk template. We use an advanced statistical model for the underlying architectures of multi-planet systems to reconstruct the MMEN. The simulated physical and Kepler-observed catalogs allows us to directly assess the role of detection biases, and in particular the effect of non-transiting or otherwise undetected planets, on altering the inferred MMEN. We find that fitting a power-law of the form $\\Sigma = \\Sigma_0^* (a/a_0)^\\beta$ to each multi-planet system results in a broad distribution of disk profiles; $\\Sigma_0^* = 336_{-291}^{+727}$ g/cm$^2$ and $\\beta = -1.98_{-1.52}^{+1.55}$ encompasses the 16th-84th percentiles of the marginal distributions in an underlying population, where $\\Sigma_0^*$ is the normalization at $a_0 = 0.3$ AU. Around half of inner planet-forming disks have minimum solid masses of $\\gtrsim 40 M_\\oplus$ within 1 AU. While transit observations do not tend to bias the median $\\beta$, they can lead to both significantly over- and under-estimated $\\Sigma_0^*$ and thus broaden the inferred distribution of disk masses. Nevertheless, detection biases cannot account for the full variance in the observed disk profiles; there is no universal MMEN if all planets formed in situ. The great diversity of solid disk profiles suggests that a substantial fraction of planetary systems experienced a history of migration. |\n",
       "|<p style=\"color:green\"> **ERROR** </p>| <p style=\"color:green\">affiliation error: mpia.affiliation_verifications: 'Heidelberg' keyword not found.</p> |"
      ],
      "text/plain": [
       "<IPython.core.display.Markdown object>"
      ]
     },
     "metadata": {},
     "output_type": "display_data"
    },
    {
     "data": {
      "text/markdown": [
       "\n",
       "|||\n",
       "|---:|:---|\n",
       "| [![arXiv](https://img.shields.io/badge/arXiv-arXiv:2208.09049-b31b1b.svg)](https://arxiv.org/abs/arXiv:2208.09049) | **Tracing PAH Emission in $λ$-Orionis Using COBE/DIRBE Data**  |\n",
       "|| David T. Chuss, et al. -- incl., <mark>Brandon S. Hensley</mark> |\n",
       "|*Appeared on*| *2022-08-22*|\n",
       "|*Comments*| *8 pages, 6 figures, submitted to ApJ*|\n",
       "|**Abstract**| We use archival COBE/DIRBE data to construct a map of polycyclic aromatic hydrocarbon (PAH) emission in the $\\lambda$-Orionis region. The presence of the 3.3 $\\mu$m PAH feature within the DIRBE 3.5 $\\mu$m band and corresponding lack of signficant PAH spectral features in the adjacent DIRBE bands (1.25 $\\mu$m, 2.2 $\\mu$m, and 4.9 $\\mu$m) enable estimation of the PAH contribution to the 3.5 $\\mu$m data. Having the shortest wavelength of known PAH features, the 3.3 $\\mu$m feature probes the smallest PAHs, which are also the leading candidates for carriers of anomalous microwave emission (AME). We use this map to investigate the association between the AME and the emission from PAH molecules. We find that the spatial correlation in $\\lambda$-Orionis is higher between AME and far-infrared dust emission (as represented by the DIRBE 240 $\\mu$m map) than it is between our PAH map and AME. This finding, in agreement with previous studies using PAH features at longer wavelengths, is in tension with the hypothesis that AME is due to spinning PAHs. However, the expected correlation between mid-infrared and microwave emission could potentially be degraded by different sensitivities of each emission mechanism to local environmental conditions even if PAHs are the carriers of both. |\n",
       "|<p style=\"color:green\"> **ERROR** </p>| <p style=\"color:green\">affiliation error: mpia.affiliation_verifications: 'Heidelberg' keyword not found.</p> |"
      ],
      "text/plain": [
       "<IPython.core.display.Markdown object>"
      ]
     },
     "metadata": {},
     "output_type": "display_data"
    },
    {
     "data": {
      "text/markdown": [
       "\n",
       "|||\n",
       "|---:|:---|\n",
       "| [![arXiv](https://img.shields.io/badge/arXiv-arXiv:2208.09057-b31b1b.svg)](https://arxiv.org/abs/arXiv:2208.09057) | **Alternating north-south brightness ratio of Ganymede's auroral ovals:  Hubble Space Telescope observations around the Juno PJ34 flyby**  |\n",
       "|| Joachim Saur, et al. -- incl., <mark>Lorenz Roth</mark>, <mark>Candice J. Hansen</mark> |\n",
       "|*Appeared on*| *2022-08-22*|\n",
       "|*Comments*| *Accepted for publication with Geophys. Res. Let*|\n",
       "|**Abstract**| We report results of Hubble Space Telescope observations from Ganymede's orbitally trailing side which were taken around the flyby of the Juno spacecraft on June 7, 2021. We find that Ganymede's northern and southern auroral ovals alternate in brightness such that the oval facing Jupiter's magnetospheric plasma sheet is brighter than the other one. This suggests that the generator that powers Ganymede's aurora is the momentum of the Jovian plasma sheet north and south of Ganymede's magnetosphere. Magnetic coupling of Ganymede to the plasma sheet above and below the moon causes asymmetric magnetic stresses and electromagnetic energy fluxes ultimately powering the auroral acceleration process. No clear statistically significant time variability of the auroral emission on short time scales of 100s could be resolved. We show that electron energy fluxes of several tens of mW m$^{-2}$ are required for its OI 1356 \\AA$\\;$ emission making Ganymede a very poor auroral emitter. |\n",
       "|<p style=\"color:green\"> **ERROR** </p>| <p style=\"color:green\">affiliation error: mpia.affiliation_verifications: 'Heidelberg' keyword not found.</p> |"
      ],
      "text/plain": [
       "<IPython.core.display.Markdown object>"
      ]
     },
     "metadata": {},
     "output_type": "display_data"
    },
    {
     "data": {
      "text/markdown": [
       "\n",
       "|||\n",
       "|---:|:---|\n",
       "| [![arXiv](https://img.shields.io/badge/arXiv-arXiv:2208.09098-b31b1b.svg)](https://arxiv.org/abs/arXiv:2208.09098) | **Discovering Faint and High Apparent Motion Rate Near-Earth Asteroids  Using A Deep Learning Program**  |\n",
       "|| <mark>Franklin Wang</mark>, Jian Ge, Kevin Willis |\n",
       "|*Appeared on*| *2022-08-22*|\n",
       "|*Comments*| *14 pages, 22 Figures, 4 Tables; To be published in the Monthly Notices of the Royal Astronomical Society (MNRAS)*|\n",
       "|**Abstract**| Although many near-Earth objects have been found by ground-based telescopes, some fast-moving ones, especially those near detection limits, have been missed by observatories. We developed a convolutional neural network for detecting faint fast-moving near-Earth objects. It was trained with artificial streaks generated from simulations and was able to find these asteroid streaks with an accuracy of 98.7% and a false positive rate of 0.02% on simulated data. This program was used to search image data from the Zwicky Transient Facility (ZTF) in four nights in 2019, and it identified six previously undiscovered asteroids. The visual magnitudes of our detections range from ~19.0 - 20.3 and motion rates range from ~6.8 - 24 deg/day, which is very faint compared to other ZTF detections moving at similar motion rates. Our asteroids are also ~1 - 51 m diameter in size and ~5 - 60 lunar distances away at close approach, assuming their albedo values follow the albedo distribution function of known asteroids. The use of a purely simulated dataset to train our model enables the program to gain sensitivity in detecting faint and fast-moving objects while still being able to recover nearly all discoveries made by previously designed neural networks which used real detections to train neural networks. Our approach can be adopted by any observatory for detecting fast-moving asteroid streaks. |\n",
       "|<p style=\"color:green\"> **ERROR** </p>| <p style=\"color:green\">affiliation error: mpia.affiliation_verifications: 'Heidelberg' keyword not found.</p> |"
      ],
      "text/plain": [
       "<IPython.core.display.Markdown object>"
      ]
     },
     "metadata": {},
     "output_type": "display_data"
    },
    {
     "data": {
      "text/markdown": [
       "\n",
       "|||\n",
       "|---:|:---|\n",
       "| [![arXiv](https://img.shields.io/badge/arXiv-arXiv:2208.09121-b31b1b.svg)](https://arxiv.org/abs/arXiv:2208.09121) | **The late afterglow of GW170817/GRB170817A: a large viewing angle and the  shift of the Hubble constant to a value more consistent with the local  measurements**  |\n",
       "|| Yi-Ying Wang, Shao-Peng Tang, Zhi-Ping Jin, <mark>Yi-Zhong Fan</mark> |\n",
       "|*Appeared on*| *2022-08-22*|\n",
       "|*Comments*| *7 pages, 2 figures and 1 table*|\n",
       "|**Abstract**| The multi-messenger data of neutron star merger events are promising for constraining the Hubble constant. So far, GW170817 is still the unique gravitational wave event with multi-wavelength electromagnetic counterparts. In particular, its radio and X-ray emission have been measured in the past $3-5$ years. In this work, we fit the X-ray, optical, and radio afterglow emission of GW170817/GRB 170817A and find out that a relatively large viewing angle $\\sim 0.5\\, \\rm rad$ is needed; otherwise, the late time afterglow data can not be well reproduced. Such a viewing angle has been taken as a prior in the gravitational wave data analysis, and the degeneracy between the viewing angle and the luminosity distance is broken. Finally, we have a Hubble constant $H_0=72.00^{+4.05}_{-4.13}\\, \\rm km\\, s^{-1}\\, Mpc^{-1}$, which is more consistent with that obtained by other local measurements. If rather similar values are inferred from multi-messenger data of future neutron star merger events, it will provide critical support to the existence of the Hubble tension. |\n",
       "|<p style=\"color:green\"> **ERROR** </p>| <p style=\"color:green\">affiliation error: mpia.affiliation_verifications: 'Heidelberg' keyword not found.</p> |"
      ],
      "text/plain": [
       "<IPython.core.display.Markdown object>"
      ]
     },
     "metadata": {},
     "output_type": "display_data"
    },
    {
     "data": {
      "text/markdown": [
       "\n",
       "|||\n",
       "|---:|:---|\n",
       "| [![arXiv](https://img.shields.io/badge/arXiv-arXiv:2208.09175-b31b1b.svg)](https://arxiv.org/abs/arXiv:2208.09175) | **Studying the interaction between VUV photons and PAHs in relevant  astrophysical conditions**  |\n",
       "|| A Marciniak, et al. -- incl., <mark>J.-M l'Hermite</mark> |\n",
       "|*Appeared on*| *2022-08-22*|\n",
       "|*Comments*| *Book Series: Astrophysics and Space Science Proceedings (ASSSP)*|\n",
       "|**Abstract**| PIRENEA and PIRENEA 2 are experimental setups dedicated to the study of fundamental molecular processes involving species of astrochemical interest. The coupling of a VUV source to PIRENEA has allowed us to study the fragmentation pathways and stability of polycyclic aromatic hydrocarbons (PAHs) containing aliphatic bonds under conditions relevant for astrophysical photodissociation regions. PIRE-NEA 2 will open the possibility to extend these studies to larger systems such as PAH clusters, and more generally to study gas-nanograin-photon interactions. |\n",
       "|<p style=\"color:green\"> **ERROR** </p>| <p style=\"color:green\">affiliation error: mpia.affiliation_verifications: 'Heidelberg' keyword not found.</p> |"
      ],
      "text/plain": [
       "<IPython.core.display.Markdown object>"
      ]
     },
     "metadata": {},
     "output_type": "display_data"
    },
    {
     "data": {
      "text/markdown": [
       "\n",
       "|||\n",
       "|---:|:---|\n",
       "| [![arXiv](https://img.shields.io/badge/arXiv-arXiv:2208.09196-b31b1b.svg)](https://arxiv.org/abs/arXiv:2208.09196) | **A decade-long magnetic monitoring of Vega**  |\n",
       "|| P. Petit, et al. -- incl., <mark>T. Böhm</mark> |\n",
       "|*Appeared on*| *2022-08-22*|\n",
       "|*Comments*| *A&A, in press*|\n",
       "|**Abstract**| Aims. The very weak magnetic field detected at the surface of Vega hints at a widespread population of weakly magnetic stars of A and B spectral types. We contribute here to gather more clues about the origin of this magnetism by investigating the long-term stability of the field geometry of this prototypical star. Methods. We use spectropolarimetric data collected as part of a long-term campaign, with more than 2,000 observations spread between 2008 and 2018. Using various sub-sets extracted from the whole time series, we reconstruct several maps of the large-scale surface magnetic field. Results. We confirm that the polarimetric signal is modulated according to a $\\sim 0.68$ d period, which we interpret as the stellar rotation period. The surface magnetic field is organized in a complex geometry. We confirm the existence of a very localized, polar magnetic spot previously reported for Vega, with a radial field strength of about -5 G. We show that the surface of the star is also covered by a dipole, with a polar strength close to 9 G and a dipole obliquity close to $90^\\circ$. Both magnetic structures are remarkably stable over one decade. The available data suggest that smaller-scale magnetic spots may not be limited to the polar region, although the poor reliability of their reconstruction does not allow us to firmly conclude about their temporal evolution. |\n",
       "|<p style=\"color:green\"> **ERROR** </p>| <p style=\"color:green\">affiliation error: mpia.affiliation_verifications: 'Heidelberg' keyword not found.</p> |"
      ],
      "text/plain": [
       "<IPython.core.display.Markdown object>"
      ]
     },
     "metadata": {},
     "output_type": "display_data"
    },
    {
     "data": {
      "text/markdown": [
       "\n",
       "|||\n",
       "|---:|:---|\n",
       "| [![arXiv](https://img.shields.io/badge/arXiv-arXiv:2208.09229-b31b1b.svg)](https://arxiv.org/abs/arXiv:2208.09229) | **Gauged Quintessence**  |\n",
       "|| Kunio Kaneta, <mark>Hye-Sung Lee</mark>, <mark>Jiheon Lee</mark>, Jaeok Yi |\n",
       "|*Appeared on*| *2022-08-22*|\n",
       "|*Comments*| **|\n",
       "|**Abstract**| Despite its dominance in the present universe's energy budget, dark energy is the least understood component in the universe. Although there is a popular model for the dynamical dark energy, the quintessence scalar, the investigation is limited because of its highly elusive character. We present a model where the quintessence is gauged by an Abelian gauge symmetry. The quintessence is promoted to be a complex scalar whose real part is the dark energy field while the imaginary part is the longitudinal component of a new gauge boson. It brings interesting characters to dark energy physics. We study the general features of the model, including how the quintessence behavior is affected and how its gauge interaction is constrained by the solicited dark energy properties. |\n",
       "|<p style=\"color:green\"> **ERROR** </p>| <p style=\"color:green\">affiliation error: mpia.affiliation_verifications: 'Heidelberg' keyword not found.</p> |"
      ],
      "text/plain": [
       "<IPython.core.display.Markdown object>"
      ]
     },
     "metadata": {},
     "output_type": "display_data"
    },
    {
     "data": {
      "text/markdown": [
       "\n",
       "|||\n",
       "|---:|:---|\n",
       "| [![arXiv](https://img.shields.io/badge/arXiv-arXiv:2208.09249-b31b1b.svg)](https://arxiv.org/abs/arXiv:2208.09249) | **Multi-colour optical light curves of the companion star to the  millisecond pulsar PSR J2051-0827**  |\n",
       "|| V. S. Dhillon, et al. -- incl., <mark>A. J. Brown</mark>, <mark>M. J. Green</mark> |\n",
       "|*Appeared on*| *2022-08-22*|\n",
       "|*Comments*| *10 pages, 4 figures, 3 tables, accepted for publication in Monthly Notices of the Royal Astronomical Society*|\n",
       "|**Abstract**| We present simultaneous, multi-colour optical light curves of the companion star to the black-widow pulsar PSR J2051-0827, obtained approximately 10 years apart using ULTRACAM and HiPERCAM, respectively. The ULTRACAM light curves confirm the previously reported asymmetry in which the leading hemisphere of the companion star appears to be brighter than the trailing hemisphere. The HiPERCAM light curves, however, do not show this asymmetry, demonstrating that whatever mechanism is responsible for it varies on timescales of a decade or less. We fit the symmetrical HiPERCAM light curves with a direct-heating model to derive the system parameters, finding an orbital inclination of $55.9^{+4.8}_{-4.1}$ degrees, in good agreement with radio-eclipse constraints. We find that approximately half of the pulsar's spin-down energy is converted to optical luminosity, resulting in temperatures ranging from approximately $5150^{+190}_{-190}$ K on the day side to $2750^{+130}_{-150}$ K on the night side of the companion star. The companion star is close to filling its Roche lobe ($f_{\\rm RL} =0.88^{+0.02}_{-0.02}$) and has a mass of $0.039^{+0.010}_{-0.011}$ M$_{\\odot}$, giving a mean density of $20.24^{+0.59}_{-0.44}$ g cm$^{-3}$ and an apsidal motion constant in the range $0.0036 < k_2 < 0.0047$. The companion mass and mean density values are consistent with those of brown dwarfs, but the apsidal motion constant implies a significantly more centrally-condensed internal structure than is typical for such objects. |\n",
       "|<p style=\"color:green\"> **ERROR** </p>| <p style=\"color:green\">affiliation error: mpia.affiliation_verifications: 'Heidelberg' keyword not found.</p> |"
      ],
      "text/plain": [
       "<IPython.core.display.Markdown object>"
      ]
     },
     "metadata": {},
     "output_type": "display_data"
    },
    {
     "data": {
      "text/markdown": [
       "\n",
       "|||\n",
       "|---:|:---|\n",
       "| [![arXiv](https://img.shields.io/badge/arXiv-arXiv:2208.09272-b31b1b.svg)](https://arxiv.org/abs/arXiv:2208.09272) | **$E_{\\mathrm{iso}}$-$E_{\\mathrm{p}}$ correlation of gamma ray bursts:  calibration and cosmological applications**  |\n",
       "|| X. D. Jia, et al. -- incl., <mark>B. B. Zhang</mark> |\n",
       "|*Appeared on*| *2022-08-22*|\n",
       "|*Comments*| *14 pages, 7 figures, 3 tables, accepted for publication in MNRAS*|\n",
       "|**Abstract**| Gamma-ray bursts (GRBs) are the most explosive phenomena and can be used to study the expansion of Universe. In this paper, we compile a long GRB sample for the $E_{\\mathrm{iso}}$-$E_{\\mathrm{p}}$ correlation from Swift and Fermi observations. The sample contains 221 long GRBs with redshifts from 0.03 to 8.20. From the analysis of data in different redshift intervals, we find no statistically significant evidence for the redshift evolution of this correlation. Then we calibrate the correlation in six sub-samples and use the calibrated one to constrain cosmological parameters. Employing a piece-wise approach, we study the redshift evolution of dark energy equation of state (EOS), and find that the EOS tends to be oscillating at low redshift, but consistent with $-1$ at high redshift. It hints a dynamical dark energy at $2\\sigma$ confidence level at low redshift. |\n",
       "|<p style=\"color:green\"> **ERROR** </p>| <p style=\"color:green\">affiliation error: mpia.affiliation_verifications: 'Heidelberg' keyword not found.</p> |"
      ],
      "text/plain": [
       "<IPython.core.display.Markdown object>"
      ]
     },
     "metadata": {},
     "output_type": "display_data"
    },
    {
     "data": {
      "text/markdown": [
       "\n",
       "|||\n",
       "|---:|:---|\n",
       "| [![arXiv](https://img.shields.io/badge/arXiv-arXiv:2208.09369-b31b1b.svg)](https://arxiv.org/abs/arXiv:2208.09369) | **Dynamical cluster masses from photometric surveys**  |\n",
       "|| Omar Contigiani, et al. -- incl., <mark>Henk Hoekstra</mark> |\n",
       "|*Appeared on*| *2022-08-22*|\n",
       "|*Comments*| **|\n",
       "|**Abstract**| The masses of galaxy clusters can be measured using data obtained exclusively from wide photometric surveys in one of two ways: directly from the amplitude of the weak lensing signal or, indirectly, through the use of scaling relations calibrated using binned lensing measurements. In this paper, we build on a recently proposed idea and implement an alternative method based on the radial profile of the satellite distribution. This technique relies on splashback, a feature associated with the apocenter of recently accreted galaxies that offers a clear window into the phase-space structure of clusters without the use of velocity information. We carry out this dynamical measurement using the stacked satellite distribution around a sample of luminous red galaxies in the fourth data release of the Kilo-Degree Survey and validate our results using abundance-matching and lensing masses. To illustrate the power of this measurement, we combine dynamical and lensing mass estimates to robustly constrain scalar-tensor theories of gravity at cluster scales. Our results exclude departures from General Relativity of order unity. We conclude the paper by discussing the implications for future data sets. Because splashback mass measurements scale only with the survey volume, stage-IV photometric surveys are well-positioned to use splashback to provide high-redshift cluster masses. |\n",
       "|<p style=\"color:green\"> **ERROR** </p>| <p style=\"color:green\">affiliation error: mpia.affiliation_verifications: 'Heidelberg' keyword not found.</p> |"
      ],
      "text/plain": [
       "<IPython.core.display.Markdown object>"
      ]
     },
     "metadata": {},
     "output_type": "display_data"
    },
    {
     "data": {
      "text/markdown": [
       "\n",
       "|||\n",
       "|---:|:---|\n",
       "| [![arXiv](https://img.shields.io/badge/arXiv-arXiv:2208.09377-b31b1b.svg)](https://arxiv.org/abs/arXiv:2208.09377) | **J-PLUS: Discovery and characterisation of ultracool dwarfs using Virtual  Observatory tools II. Second data release and machine learning methodology**  |\n",
       "|| P. Mas-Buitrago, et al. -- incl., <mark>C. Hernández-Monteagudo</mark>, <mark>H. Vázquez Ramió</mark> |\n",
       "|*Appeared on*| *2022-08-22*|\n",
       "|*Comments*| *Accepted in A&A*|\n",
       "|**Abstract**| Ultracool dwarfs (UCDs) comprise the lowest mass members of the stellar population and brown dwarfs, from M7 V to cooler objects with L, T, and Y spectral types. Most of them have been discovered using wide-field imaging surveys, for which the Virtual Observatory (VO) has proven to be of great utility. We aim to perform a search for UCDs in the entire Javalambre Photometric Local Universe Survey (J-PLUS) second data release (2176 deg$^2$) following a VO methodology. We also explore the ability to reproduce this search with a purely machine learning (ML)-based methodology that relies solely on J-PLUS photometry. We followed three different approaches based on parallaxes, proper motions, and colours, respectively, using the VOSA tool to estimate the effective temperatures. For the ML methodology, we built a two-step method based on principal component analysis and support vector machine algorithms. We identified a total of 7827 new candidate UCDs, which represents an increase of about 135% in the number of UCDs reported in the sky coverage of the J-PLUS second data release. Among the candidate UCDs, we found 122 possible unresolved binary systems, 78 wide multiple systems, and 48 objects with a high Bayesian probability of belonging to a young association. We also identified four objects with strong excess in the filter corresponding to the Ca II H and K emission lines and four other objects with excess emission in the H$\\alpha$ filter. With the ML approach, we obtained a recall score of 92% and 91% in the test and blind test, respectively. We consolidated the proposed search methodology for UCDs, which will be used in deeper and larger upcoming surveys such as J-PAS and Euclid. We concluded that the ML methodology is more efficient in the sense that it allows for a larger number of true negatives to be discarded prior to analysis with VOSA, although it is more photometrically restrictive. |\n",
       "|<p style=\"color:green\"> **ERROR** </p>| <p style=\"color:green\">affiliation error: mpia.affiliation_verifications: 'Heidelberg' keyword not found.</p> |"
      ],
      "text/plain": [
       "<IPython.core.display.Markdown object>"
      ]
     },
     "metadata": {},
     "output_type": "display_data"
    },
    {
     "data": {
      "text/markdown": [
       "\n",
       "|||\n",
       "|---:|:---|\n",
       "| [![arXiv](https://img.shields.io/badge/arXiv-arXiv:2208.09013-b31b1b.svg)](https://arxiv.org/abs/arXiv:2208.09013) | **Forecasting constraints on the mean free path of ionizing photons at $z  \\geq 5.4$ from the Lyman-$α$ forest flux auto-correlation function**  |\n",
       "|| Molly Wolfson, <mark>Joseph F. Hennawi</mark>, <mark>Frederick B. Davies</mark>, Jose Oñorbe |\n",
       "|*Appeared on*| *2022-08-22*|\n",
       "|*Comments*| *Submitted to MNRAS, 16 pages, 10 figures*|\n",
       "|**Abstract**| Lyman-$\\alpha$ (Ly$\\alpha$) forest transmission towards high-$z$ quasars contains information on the state of the universe just after the epoch of reionization. Fluctuations in Ly$\\alpha$ forest transmission are partially sourced from spatial fluctuations in the ultraviolet background (UVB), where the level of UVB fluctuations are set by the mean free path of ionizing photons ($\\lambda_{\\text{mfp}}$). The auto-correlation function of Ly$\\alpha$ forest flux characterizes the strength and scale of transmission fluctuations and, as we show, is thus sensitive to $\\lambda_{\\text{mfp}}$. Recent measurements at $z \\sim 6$ suggest an unexpected rapid evolution of $\\lambda_{\\text{mfp}}$ at $z>5.0$ which would leave a signature in the evolution of the auto-correlation function. For this forecast, we model mock Ly$\\alpha$ forest data with properties similar to the XQR-30 extended data set at $5.4 \\leq z \\leq 6.0$. Due to cosmic variance, we investigate 100 mock data sets at each $z$. Additionally we look at ideal cases, where mock data matches model values of the auto-correlation function. For such ideal data with $\\lambda_{\\text{mfp}}=9.0$ cMpc at $z=6.0$, we recover $\\lambda_{\\text{mfp}}=12^{+6}_{-3}$ cMpc. This precision is comparable to direct measurements of $\\lambda_{\\text{mfp}}$ from the stacking of quasar spectra beyond the Lyman limit. Hypothetical data with resolution over three times greater than XQR-30 data leads to a $\\sim40\\%$ reduction in the error bars over all $z$. The distribution of mock values of the auto-correlation function in this work is highly non-Gaussian for high-$z$, which should caution work with other statistics of the high-$z$ Ly$\\alpha$ forest against making this assumption. We use a rigorous statistical method to pass an inference test, however future work on non-Gaussian methods will enable higher precision measurements. |\n",
       "|<p style=\"color:red\"> **ERROR** </p>| <p style=\"color:red\">latex error Could not find figure Figures/forward_model_flux_z54_mfp32_F4_skewer_0.pdf</p> |"
      ],
      "text/plain": [
       "<IPython.core.display.Markdown object>"
      ]
     },
     "metadata": {},
     "output_type": "display_data"
    },
    {
     "data": {
      "text/markdown": [
       "\n",
       "|||\n",
       "|---:|:---|\n",
       "| [![arXiv](https://img.shields.io/badge/arXiv-arXiv:2208.09230-b31b1b.svg)](https://arxiv.org/abs/arXiv:2208.09230) | **Millimeter Gap Contrast as a Probe for Turbulence Level in  Protoplanetary Disks**  |\n",
       "|| Yao Liu, et al. -- incl., <mark>Mario Flock</mark> |\n",
       "|*Appeared on*| *2022-08-22*|\n",
       "|*Comments*| *13 pages, 7 figures, accepted for publication in Science China Physics, Mechanics & Astronomy*|\n",
       "|**Abstract**| Turbulent motions are believed to regulate angular momentum transport and influence dust evolution in protoplanetary disks. Measuring the strength of turbulence is challenging through gas line observations because of the requirement for high spatial and spectral resolution data, and an exquisite determination of the temperature. In this work, taking the well-known HD 163296 disk as an example, we investigated the contrast of gaps identified in high angular resolution continuum images as a probe for the level of turbulence. With self-consistent radiative transfer models, we simultaneously analyzed the radial brightness profiles along the disk major and minor axes, and the azimuthal brightness profiles of the B67 and B100 rings. By fitting all the gap contrasts measured from these profiles, we constrained the gas-to-dust scale height ratio $\\Lambda$ to be $3.0_{-0.8}^{+0.3}$, $1.2_{-0.1}^{+0.1}$ and ${\\ge}\\,6.5$ for the D48, B67 and B100 regions, respectively. The varying gas-to-dust scale height ratios indicate that the degree of dust settling changes with radius. The inferred values for $\\Lambda$ translate into a turbulence level of $\\alpha_{\\rm turb}\\,{<}\\,3\\times10^{-3}$ in the D48 and B100 regions, which is consistent with previous upper limits set by gas line observations. However, turbulent motions in the B67 ring are strong with $\\alpha_{\\rm turb}\\,{\\sim}1.2\\,{\\times}\\,10^{-2}$. Due to the degeneracy between $\\Lambda$ and the depth of dust surface density drops, the turbulence strength in the D86 gap region is not constrained. |\n",
       "|<p style=\"color:red\"> **ERROR** </p>| <p style=\"color:red\">latex error [Errno 2] No such file or directory: 'gs'</p> |"
      ],
      "text/plain": [
       "<IPython.core.display.Markdown object>"
      ]
     },
     "metadata": {},
     "output_type": "display_data"
    }
   ],
   "source": [
    "import datetime\n",
    "today = str(datetime.date.today())\n",
    "logfile = f\"_build/html/logs/log-{today}.md\"\n",
    "\n",
    "\n",
    "with open(logfile, 'w') as logs:\n",
    "    # Success\n",
    "    logs.write(f'# Arxiv on Deck 2: Logs - {today}\\n\\n')\n",
    "    logs.write(\"\"\"* Arxiv had {0:,d} new papers\\n\"\"\".format(len(new_papers)))\n",
    "    logs.write(\"\"\"    * {0:,d} with possible author matches\\n\\n\"\"\".format(len(candidates)))\n",
    "    logs.write(\"## Sucessful papers\\n\\n\")\n",
    "    display(Markdown(\"## Successful papers\"))\n",
    "    success = [k[0] for k in documents]\n",
    "    for candid in candidates:\n",
    "        if candid['identifier'].split(':')[-1] in success:\n",
    "            display(candid)\n",
    "            logs.write(candid.generate_markdown_text() + '\\n\\n')\n",
    "\n",
    "    ## failed\n",
    "    logs.write(\"## Failed papers\\n\\n\")\n",
    "    display(Markdown(\"## Failed papers\"))\n",
    "    failed = sorted(failed, key=lambda x: x[1])\n",
    "    current_reason = \"\"\n",
    "    for paper, reason in failed:\n",
    "        if 'affiliation' in reason:\n",
    "            color = 'green'\n",
    "        else:\n",
    "            color = 'red'\n",
    "        data = Markdown(\n",
    "                paper.generate_markdown_text() + \n",
    "                f'\\n|<p style=\"color:{color:s}\"> **ERROR** </p>| <p style=\"color:{color:s}\">{reason:s}</p> |'\n",
    "               )\n",
    "        if reason != current_reason:\n",
    "            logs.write(f'### {reason:s} \\n\\n')\n",
    "            current_reason = reason\n",
    "        logs.write(data.data + '\\n\\n')\n",
    "        \n",
    "        # only display here the important errors (all in logs)\n",
    "        # if color in ('red',):\n",
    "        display(data)"
   ]
  },
  {
   "cell_type": "markdown",
   "id": "472d20ee",
   "metadata": {
    "papermill": {
     "duration": 0.008513,
     "end_time": "2022-08-22T15:11:26.050462",
     "exception": false,
     "start_time": "2022-08-22T15:11:26.041949",
     "status": "completed"
    },
    "tags": []
   },
   "source": [
    "## Export documents\n",
    "\n",
    "We now write the .md files and export relevant images"
   ]
  },
  {
   "cell_type": "code",
   "execution_count": 7,
   "id": "d426aed9",
   "metadata": {
    "execution": {
     "iopub.execute_input": "2022-08-22T15:11:26.069420Z",
     "iopub.status.busy": "2022-08-22T15:11:26.069053Z",
     "iopub.status.idle": "2022-08-22T15:11:26.076556Z",
     "shell.execute_reply": "2022-08-22T15:11:26.075779Z"
    },
    "papermill": {
     "duration": 0.019279,
     "end_time": "2022-08-22T15:11:26.078135",
     "exception": false,
     "start_time": "2022-08-22T15:11:26.058856",
     "status": "completed"
    },
    "tags": []
   },
   "outputs": [],
   "source": [
    "def export_markdown_summary(md: str, md_fname:str, directory: str):\n",
    "    \"\"\"Export MD document and associated relevant images\"\"\"\n",
    "    import os\n",
    "    import shutil\n",
    "    import re\n",
    "\n",
    "    if (os.path.exists(directory) and not os.path.isdir(directory)):\n",
    "        raise RuntimeError(f\"a non-directory file exists with name {directory:s}\")\n",
    "\n",
    "    if (not os.path.exists(directory)):\n",
    "        print(f\"creating directory {directory:s}\")\n",
    "        os.mkdir(directory)\n",
    "\n",
    "    fig_fnames = (re.compile(r'\\[Fig.*\\]\\((.*)\\)').findall(md) + \n",
    "                  re.compile(r'\\<img src=\"([^>\\s]*)\"[^>]*/>').findall(md))\n",
    "    for fname in fig_fnames:\n",
    "        if 'http' in fname:\n",
    "            # No need to copy online figures\n",
    "            continue\n",
    "        destdir = os.path.join(directory, os.path.dirname(fname))\n",
    "        destfname = os.path.join(destdir, os.path.basename(fname))\n",
    "        try:\n",
    "            os.makedirs(destdir)\n",
    "        except FileExistsError:\n",
    "            pass\n",
    "        shutil.copy(fname, destfname)\n",
    "    with open(os.path.join(directory, md_fname), 'w') as fout:\n",
    "        fout.write(md)\n",
    "    print(\"exported in \", os.path.join(directory, md_fname))\n",
    "    [print(\"    + \" + os.path.join(directory,fk)) for fk in fig_fnames]"
   ]
  },
  {
   "cell_type": "code",
   "execution_count": 8,
   "id": "014d04a4",
   "metadata": {
    "execution": {
     "iopub.execute_input": "2022-08-22T15:11:26.100753Z",
     "iopub.status.busy": "2022-08-22T15:11:26.096846Z",
     "iopub.status.idle": "2022-08-22T15:11:26.109355Z",
     "shell.execute_reply": "2022-08-22T15:11:26.108545Z"
    },
    "papermill": {
     "duration": 0.02431,
     "end_time": "2022-08-22T15:11:26.111376",
     "exception": false,
     "start_time": "2022-08-22T15:11:26.087066",
     "status": "completed"
    },
    "tags": []
   },
   "outputs": [
    {
     "name": "stdout",
     "output_type": "stream",
     "text": [
      "exported in  _build/html/2208.09335.md\n",
      "    + _build/html/tmp_2208.09335/./figures/residuals_tworanges.png\n",
      "    + _build/html/tmp_2208.09335/./figures/c_vs_dens_M10_magRanges.png\n",
      "    + _build/html/tmp_2208.09335/./figures/obs_and_model_four_panels.png\n"
     ]
    }
   ],
   "source": [
    "for paper_id, md in documents:\n",
    "    export_markdown_summary(md, f\"{paper_id:s}.md\", '_build/html/')"
   ]
  },
  {
   "cell_type": "markdown",
   "id": "f087a0a7",
   "metadata": {
    "papermill": {
     "duration": 0.009604,
     "end_time": "2022-08-22T15:11:26.132087",
     "exception": false,
     "start_time": "2022-08-22T15:11:26.122483",
     "status": "completed"
    },
    "tags": []
   },
   "source": [
    "## Display the papers\n",
    "\n",
    "Not necessary but allows for a quick check."
   ]
  },
  {
   "cell_type": "code",
   "execution_count": 9,
   "id": "fd25f625",
   "metadata": {
    "execution": {
     "iopub.execute_input": "2022-08-22T15:11:26.153204Z",
     "iopub.status.busy": "2022-08-22T15:11:26.152819Z",
     "iopub.status.idle": "2022-08-22T15:11:26.158841Z",
     "shell.execute_reply": "2022-08-22T15:11:26.158038Z"
    },
    "papermill": {
     "duration": 0.01743,
     "end_time": "2022-08-22T15:11:26.160408",
     "exception": false,
     "start_time": "2022-08-22T15:11:26.142978",
     "status": "completed"
    },
    "scrolled": false,
    "tags": []
   },
   "outputs": [
    {
     "data": {
      "text/markdown": [
       "<div class=\"macros\" style=\"visibility:hidden;\">\n",
       "$\\newcommand{\\ensuremath}{}$\n",
       "$\\newcommand{\\xspace}{}$\n",
       "$\\newcommand{\\object}[1]{\\texttt{#1}}$\n",
       "$\\newcommand{\\farcs}{{.}''}$\n",
       "$\\newcommand{\\farcm}{{.}'}$\n",
       "$\\newcommand{\\arcsec}{''}$\n",
       "$\\newcommand{\\arcmin}{'}$\n",
       "$\\newcommand{\\ion}[2]{#1#2}$\n",
       "$\\newcommand{\\textsc}[1]{\\textrm{#1}}$\n",
       "$\\newcommand{\\hl}[1]{\\textrm{#1}}$\n",
       "$\\newcommand{\\Gaia}{{\\it Gaia}\\xspace}$\n",
       "$\\newcommand{\\cat}{\\ensuremath{\\mathcal{C}}}$\n",
       "$\\newcommand{\\vq}{\\ensuremath{\\mathbf{q}}}$\n",
       "$\\newcommand{\\cca}{Center for Computational Astrophysics, Flatiron Institute, 162 Fifth Ave, New York, NY 10010, USA}$\n",
       "$\\newcommand{\\ccpp}{Center for Cosmology and Particle Physics, Department of Physics, New~York~University, 726~Broadway, New~York, NY 10003, USA}$\n",
       "$\\newcommand{\\mpia}{Max-Planck-Institut f\\\"ur Astronomie, K\\\"onigstuhl 17, D-69117 Heidelberg, Germany}$\n",
       "$\\newcommand{\\leiden}{Leiden Observatory, Leiden University, Niels Bohrweg 2, 2333 CA Leiden, The Netherlands}$\n",
       "$\\newcommand{\\cambridge}{Institute of Astronomy, University of Cambridge, Madingley Road, Cambridge CB3 0HA, United Kingdom}$\n",
       "$\\newcommand{\\oxford}{Magdalen College, Oxford University, Oxford OX1 4AU, United Kingdom }$\n",
       "$\\newcommand{\\torino}{INAF - Osservatorio Astrofisico di Torino, Strada Osservatorio 20, Pino Torinese 10025 Torino, Italy}$\n",
       "$\\newcommand{\\monash}{School of Physics and Astronomy, Monash University, VIC 3800, Australia}$\n",
       "$\\newcommand{\\harvard}{Department of Physics, Harvard University, 17 Oxford St., Cambridge, MA 02138, USA}$\n",
       "$\\newcommand{\\CFA}{Harvard-Smithsonian Center for Astrophysics, 60 Garden St., Cambridge, MA 02138, USA}$\n",
       "$\\newcommand{\\Monash}{School of Physics \\& Astronomy, Monash University, Clayton 3800, Victoria, Australia}$\n",
       "$\\newcommand{\\AstroTD}{Centre of Excellence for Astrophysics in Three Dimensions (ASTRO-3D), Melbourne, Victoria, Australia}$</div>\n",
       "\n",
       "<div class=\"macros\" style=\"visibility:hidden;\">\n",
       "$\\newcommand{$\\ensuremath$}{}$\n",
       "$\\newcommand{$\\xspace$}{}$\n",
       "$\\newcommand{$\\object$}[1]{\\texttt{#1}}$\n",
       "$\\newcommand{$\\farcs$}{{.}''}$\n",
       "$\\newcommand{$\\farcm$}{{.}'}$\n",
       "$\\newcommand{$\\arcsec$}{''}$\n",
       "$\\newcommand{$\\arcmin$}{'}$\n",
       "$\\newcommand{$\\ion$}[2]{#1#2}$\n",
       "$\\newcommand{$\\textsc$}[1]{\\textrm{#1}}$\n",
       "$\\newcommand{$\\hl$}[1]{\\textrm{#1}}$\n",
       "$\\newcommand{$\\Gaia$}{{\\it Gaia}$\\xspace$}$\n",
       "$\\newcommand{$\\cat$}{$\\ensuremath${\\mathcal{C}}}$\n",
       "$\\newcommand{$\\vq$}{$\\ensuremath${\\mathbf{q}}}$\n",
       "$\\newcommand{$\\cca$}{Center for Computational Astrophysics, Flatiron Institute, 162 Fifth Ave, New York, NY 10010, USA}$\n",
       "$\\newcommand{$\\ccpp$}{Center for Cosmology and Particle Physics, Department of Physics, New~York~University, 726~Broadway, New~York, NY 10003, USA}$\n",
       "$\\newcommand{$\\mpia$}{Max-Planck-Institut f\\\"ur Astronomie, K\\\"onigstuhl 17, D-69117 Heidelberg, Germany}$\n",
       "$\\newcommand{$\\leiden$}{Leiden Observatory, Leiden University, Niels Bohrweg 2, 2333 CA Leiden, The Netherlands}$\n",
       "$\\newcommand{$\\cambridge$}{Institute of Astronomy, University of Cambridge, Madingley Road, Cambridge CB3 0HA, United Kingdom}$\n",
       "$\\newcommand{$\\oxford$}{Magdalen College, Oxford University, Oxford OX1 4AU, United Kingdom }$\n",
       "$\\newcommand{$\\torino$}{INAF - Osservatorio Astrofisico di Torino, Strada Osservatorio 20, Pino Torinese 10025 Torino, Italy}$\n",
       "$\\newcommand{$\\monash$}{School of Physics and Astronomy, Monash University, VIC 3800, Australia}$\n",
       "$\\newcommand{$\\harvard$}{Department of Physics, Harvard University, 17 Oxford St., Cambridge, MA 02138, USA}$\n",
       "$\\newcommand{$\\CFA$}{Harvard-Smithsonian Center for Astrophysics, 60 Garden St., Cambridge, MA 02138, USA}$\n",
       "$\\newcommand{$\\Monash$}{School of Physics \\& Astronomy, Monash University, Clayton 3800, Victoria, Australia}$\n",
       "$\\newcommand{$\\AstroTD$}{Centre of Excellence for Astrophysics in Three Dimensions (ASTRO-3D), Melbourne, Victoria, Australia}$</div>\n",
       "\n",
       "\n",
       "\n",
       "<div id=\"title\">\n",
       "\n",
       "#  DR3 selection function\n",
       "\n",
       "</div>\n",
       "<div id=\"comments\">\n",
       "\n",
       "[![arXiv](https://img.shields.io/badge/arXiv-2208.09335-b31b1b.svg)](https://arxiv.org/abs/2208.09335)<mark>Appeared on: 2022-08-22</mark> - _to be submitted to A&A_\n",
       "\n",
       "</div>\n",
       "<div id=\"authors\">\n",
       "\n",
       "<mark><mark>Tristan Cantat-Gaudin</mark></mark>, et al. -- incl., <mark><mark>Morgan Fouesneau</mark></mark>, <mark><mark>Hans-Walter Rix</mark></mark>, <mark><mark>Anthony G. A. Brown</mark></mark>, <mark><mark>Gregory M. Green</mark></mark>\n",
       "\n",
       "</div>\n",
       "<div id=\"abstract\">\n",
       "\n",
       "**Abstract:** Interpreting and modelling astronomical catalogues requires an understanding of the catalogues' completeness or selection function: objects of what properties had a chance to end up in the catalogue. Here we set out to empirically quantify the completeness of the overall$\\Gaia$DR3 catalogue. This task is not straightforward because$\\Gaia$is the all-sky optical survey with the highest angular resolution to date and no consistent \"ground truth\" exists to allow direct comparisons.  However, well-characterised deeper imaging enables an empirical assessment of$\\Gaia$'s$G$-band completeness across parts of the sky.  On this basis, we devised a simple analytical completeness model of$\\Gaia$as a function of the observed$G$magnitude and position over the sky, which accounts for both the effects of crowding and the complex$\\Gaia$scanning law. Our model only depends on a single quantity: the median magnitude$M_{10}$in a patch of the sky of catalogued sources with\\texttt{astrometric\\_matched\\_transits}$\\leq 10$.$M_{10}$reflects elementary completeness decisions in the$\\Gaia$pipeline and is computable from the$\\Gaia$DR3 catalogue itself and therefore applicable across the whole sky. We calibrate our model using the Dark Energy Camera Plane Survey (DECaPS) and test its predictions against Hubble Space Telescope observations of globular clusters. We find that our model predicts$\\Gaia$'s completeness values to a few per cent ({\\it RMS}) across the sky. We make the model available as a part of the\\texttt{gaiasf}Python package built and maintained by the GaiaUnlimited project\\thanks{\\url{https://github.com/gaia-unlimited/gaiasf}}.\n",
       "\n",
       "</div>\n",
       "\n",
       "<div id=\"div_fig1\">\n",
       "\n",
       "<img src=\"tmp_2208.09335/./figures/residuals_tworanges.png\" alt=\"Fig7\" width=\"100%\"/>\n",
       "\n",
       "**Figure 7. -**  Mean completeness residuals, i.e. model predicted minus observed completeness,  as a function of magnitude, for patches in two different ranges of $M_{10}$. The shaded areas correspond to the 16th to 84th percentile and 5th to 95th percentile intervals. Expectedly, the residuals are highest near 50\\% completeness and smaller in the highly complete or dramatically incomplete regime.\n",
       "     (*fig:residuals_tworanges*)\n",
       "\n",
       "</div>\n",
       "<div id=\"div_fig2\">\n",
       "\n",
       "<img src=\"tmp_2208.09335/./figures/c_vs_dens_M10_magRanges.png\" alt=\"Fig3\" width=\"100%\"/>\n",
       "\n",
       "**Figure 3. -**  Completeness of $\\Gaia$ relative to the DECaPS survey, which is taken as \"ground truth\", in four magnitude ranges, computed in 3000 distinct patches across the DECaPS footprint. This completeness is shown as a function of $\\Gaia$ source density (left) or $M_{10}$(right):  $\\Gaia$ source density is a poor predictor of completeness, while the $M_{10}$ parameter --  the median magnitude of catalogued sources with  \\texttt{astrometric\\_matched\\_transits}$\\leq 10$ in a surrounding patch of the sky --  is an excellent completeness predictor. $M_{10}$ combines the impact of source density and scanning law, as demonstrated e.g. in Figure \\ref{fig:mapM10}.\n",
       "     (*fig:c_vs_M10_magRanges*)\n",
       "\n",
       "</div>\n",
       "<div id=\"div_fig3\">\n",
       "\n",
       "<img src=\"tmp_2208.09335/./figures/obs_and_model_four_panels.png\" alt=\"Fig5\" width=\"100%\"/>\n",
       "\n",
       "**Figure 5. -** $\\Gaia$'s catalogue completeness $S(G | M_{10})$ as a function of $G$ magnitude for a given completeness parameter $M_{10}$. Top left: empirically determined $\\Gaia$$G$ completeness derived from the comparison with DECaPS photometry in thirteen DECaPS patches that are each colour-coded by their $M_{10}$. Top right: model completeness, from Eq. \\ref{eq:sigmoid}, for the corresponding $M_{10}$ values. Bottom left: empirically-determined completeness derived from from the comparison with DECaPS photometry in 105 DECaPS patches with $M_{10}$=19.4, 19.8,20.2, 20.6, and 21 (within 0.01 mag). The dispersion at a given $M_{10}$ corresponds to the scatter seen in Fig. \\ref{fig:c_vs_M10_magRanges}(right panel) and the residuals in Fig. \\ref{fig:residuals_tworanges}. Bottom right: model completeness for these five values of $M_{10}$.\n",
       "     (*fig:obs_and_model*)\n",
       "\n",
       "</div>"
      ],
      "text/plain": [
       "<IPython.core.display.Markdown object>"
      ]
     },
     "metadata": {},
     "output_type": "display_data"
    }
   ],
   "source": [
    "[display(Markdown(k[1])) for k in documents];"
   ]
  },
  {
   "cell_type": "markdown",
   "id": "873873a4",
   "metadata": {
    "papermill": {
     "duration": 0.009811,
     "end_time": "2022-08-22T15:11:26.178935",
     "exception": false,
     "start_time": "2022-08-22T15:11:26.169124",
     "status": "completed"
    },
    "tags": []
   },
   "source": [
    "# Create HTML index"
   ]
  },
  {
   "cell_type": "code",
   "execution_count": 10,
   "id": "cf665672",
   "metadata": {
    "execution": {
     "iopub.execute_input": "2022-08-22T15:11:26.198169Z",
     "iopub.status.busy": "2022-08-22T15:11:26.197599Z",
     "iopub.status.idle": "2022-08-22T15:11:26.206250Z",
     "shell.execute_reply": "2022-08-22T15:11:26.205433Z"
    },
    "papermill": {
     "duration": 0.020163,
     "end_time": "2022-08-22T15:11:26.207852",
     "exception": false,
     "start_time": "2022-08-22T15:11:26.187689",
     "status": "completed"
    },
    "tags": []
   },
   "outputs": [
    {
     "name": "stdout",
     "output_type": "stream",
     "text": [
      "20  publications in the last 7 days.\n",
      "\t _build/html/2208.09335.md\n",
      "\t _build/html/2208.08872.md\n",
      "\t _build/html/2204.06393.md\n",
      "\t _build/html/2204.03335.md\n",
      "\t _build/html/2204.03253.md\n",
      "\t _build/html/2204.02998.md\n",
      "\t _build/html/2204.02109.md\n",
      "\t _build/html/2204.02017.md\n",
      "\t _build/html/2204.01824.md\n",
      "\t _build/html/2204.01758.md\n",
      "\t _build/html/2204.01245.md\n",
      "\t _build/html/2204.00793.md\n",
      "\t _build/html/2204.00342.md\n",
      "\t _build/html/2203.16959.md\n",
      "\t _build/html/2203.16856.md\n",
      "\t _build/html/2203.16735.md\n",
      "\t _build/html/2203.16734.md\n",
      "\t _build/html/2203.16504.md\n",
      "\t _build/html/2203.15822.md\n",
      "\t _build/html/2203.15811.md\n"
     ]
    }
   ],
   "source": [
    "from datetime import datetime, timedelta, timezone\n",
    "from glob import glob\n",
    "\n",
    "files = glob('_build/html/*.md')\n",
    "days = 7\n",
    "now = datetime.today()\n",
    "res = []\n",
    "for fk in files:\n",
    "    stat_result = os.stat(fk).st_ctime\n",
    "    modified = datetime.fromtimestamp(stat_result, tz=timezone.utc).replace(tzinfo=None)\n",
    "    delta = now.today() - modified\n",
    "    if delta <= timedelta(days=days):\n",
    "        res.append((delta.seconds, fk))\n",
    "res = [k[1] for k in reversed(sorted(res, key=lambda x:x[1]))]\n",
    "npub = len(res)\n",
    "print(len(res), f\" publications in the last {days:d} days.\")\n",
    "[ print('\\t', k) for k in res ];"
   ]
  },
  {
   "cell_type": "code",
   "execution_count": 11,
   "id": "52ca0208",
   "metadata": {
    "execution": {
     "iopub.execute_input": "2022-08-22T15:11:26.227297Z",
     "iopub.status.busy": "2022-08-22T15:11:26.226582Z",
     "iopub.status.idle": "2022-08-22T15:11:26.233492Z",
     "shell.execute_reply": "2022-08-22T15:11:26.232791Z"
    },
    "papermill": {
     "duration": 0.018431,
     "end_time": "2022-08-22T15:11:26.235126",
     "exception": false,
     "start_time": "2022-08-22T15:11:26.216695",
     "status": "completed"
    },
    "scrolled": false,
    "tags": []
   },
   "outputs": [],
   "source": [
    "def create_carousel(npub=4):\n",
    "    \"\"\" Generate the HTML code for a carousel with `npub` slides \"\"\"\n",
    "    carousel = [\"\"\"<section class=\"carousel\" aria-label=\"Gallery\">\"\"\",\n",
    "                \"\"\"  <ol class=\"carousel__viewport\">\"\"\",\n",
    "    ]\n",
    "    for k in range(1, npub + 1):\n",
    "        prev_ = k - 1\n",
    "        next_ = k + 1\n",
    "        if prev_ <= 0:\n",
    "            prev_ = npub\n",
    "        if next_ > npub:\n",
    "            next_ = 1\n",
    "        text  = f\"\"\"    <li id=\"carousel__slide{k}\" tabindex=\"0\" class=\"carousel__slide\">\\n\"\"\"\n",
    "        text += f\"\"\"       <div class=\"carousel__snapper\">\\n\"\"\"\n",
    "        text += f\"\"\"         <a href=\"#carousel__slide{prev_}\" class=\"carousel__prev\">Go to previous slide</a>\\n\"\"\"\n",
    "        text += f\"\"\"         <a href=\"#carousel__slide{next_}\" class=\"carousel__next\">Go to next slide</a>\\n\"\"\"\n",
    "        text += f\"\"\"         <div id=\"slide{k}_content\" class=\"md_view\" >Content {k}</div>\\n\"\"\"\n",
    "        text += f\"\"\"       </div>\\n\"\"\"\n",
    "        text += f\"\"\"    </li>\"\"\"\n",
    "        carousel.append(text)\n",
    "\n",
    "    carousel.extend([\n",
    "        \"\"\"  </ol>\"\"\",\n",
    "        \"\"\"  <aside class=\"carousel__navigation\">\"\"\",\n",
    "        \"\"\"    <ol class=\"carousel__navigation-list\">\"\"\"])\n",
    "\n",
    "    for k in range(1, npub + 1):\n",
    "        text  = f\"\"\"      <li class=\"carousel__navigation-item\">\\n\"\"\"\n",
    "        text += f\"\"\"        <a href=\"#carousel__slide{k}\" class=\"carousel__navigation-button\">Go to {k}</a>\\n\"\"\"\n",
    "        text += f\"\"\"      </li>\"\"\"\n",
    "        carousel.append(text)\n",
    "    carousel.extend([\"\"\"    </ol>\"\"\", \"\"\"  </aside>\"\"\", \"\"\"</section>\"\"\"])\n",
    "\n",
    "    return '\\n'.join(carousel)"
   ]
  },
  {
   "cell_type": "code",
   "execution_count": 12,
   "id": "a6eac5b6",
   "metadata": {
    "execution": {
     "iopub.execute_input": "2022-08-22T15:11:26.288679Z",
     "iopub.status.busy": "2022-08-22T15:11:26.288180Z",
     "iopub.status.idle": "2022-08-22T15:11:26.295906Z",
     "shell.execute_reply": "2022-08-22T15:11:26.295177Z"
    },
    "papermill": {
     "duration": 0.053351,
     "end_time": "2022-08-22T15:11:26.297570",
     "exception": false,
     "start_time": "2022-08-22T15:11:26.244219",
     "status": "completed"
    },
    "scrolled": false,
    "tags": []
   },
   "outputs": [],
   "source": [
    "carousel = create_carousel(npub)\n",
    "docs = ', '.join(['\"{0:s}\"'.format(k.split('/')[-1]) for k in res])\n",
    "slides = ', '.join([f'\"slide{k}_content\"' for k in range(1, npub + 1)])\n",
    "\n",
    "script = f\"\"\"\n",
    "const docs = [{docs}]\n",
    "\n",
    "const slides = [{slides}]\n",
    "\"\"\" + \"\"\"\n",
    "async function run() {\n",
    "    for (let i = 0; i < docs.length; i++) {\n",
    "        let file = await fetch(docs[i]);\n",
    "        let text = await file.text()\n",
    "        document.getElementById(slides[i]).innerHTML =\n",
    "            marked.parse(text);\n",
    "    }\n",
    "    hljs.highlightAll();\n",
    "}\n",
    "run()\n",
    "\"\"\"\n",
    "\n",
    "page = f\"\"\"<!doctype html>\n",
    "<html lang=\"en\">\n",
    "\n",
    "<head>\n",
    "  <meta charset=\"utf-8\">\n",
    "  <meta name=\"viewport\" content=\"width=device-width, initial-scale=1\">\n",
    "  <!-- Bootstrap CSS -->\n",
    "  <link href=\"https://cdn.jsdelivr.net/npm/bootstrap@5.0.2/dist/css/bootstrap.min.css\" rel=\"stylesheet\"\n",
    "   integrity=\"sha384-EVSTQN3/azprG1Anm3QDgpJLIm9Nao0Yz1ztcQTwFspd3yD65VohhpuuCOmLASjC\" crossorigin=\"anonymous\">\n",
    "  <!-- highlight.js CSS -->\n",
    "  <link rel=\"stylesheet\" href=\"https://cdnjs.cloudflare.com/ajax/libs/highlight.js/11.1.0/styles/default.min.css\">\n",
    "  <!-- Mathjax 3 -->\n",
    "  <script type=\"text/javascript\" id=\"MathJax-config\" src=\"mathjax_config.js\"> </script>\n",
    "  <script type=\"text/javascript\" id=\"MathJax-script\" async \n",
    "    src=\"https://cdn.jsdelivr.net/npm/mathjax@3/es5/tex-mml-chtml.js\">\n",
    "  </script>\n",
    "  <link rel=\"stylesheet\" href=\"index_carousel.css\">\n",
    "  <link rel=\"icon\" type=\"image/x-icon\" href=\"https://www.mpia.de/assets/touch-icon-32x32-a66937bcebc4e8894ebff1f41a366c7c7220fd97a38869ee0f2db65a9f59b6c1.png\">\n",
    "  <title>MPIA Arxiv on deck!</title>\n",
    "</head>\n",
    "\n",
    "<body>\n",
    "  <div id=\"header\"> <img src=\"header_banner.png\" width=\"100%\"></div>\n",
    "  <div id=\"suptitle\"> 7-day archives </div>\n",
    "  <div id=\"info\">\n",
    "    <img src=\"https://pngimg.com/uploads/github/github_PNG58.png\" height=30rem></img>\n",
    "    <a href=https://github.com/mpi-astronomy/arxiv_display style=\"color:black;\">github/mpi-astronomy/arxiv_display</a> \n",
    "  </div>\n",
    "  {carousel:s}\n",
    "</body>\n",
    "\n",
    "<!-- Render Markdown -->\n",
    "\n",
    "<body>\n",
    "  <!-- highlight.js: https://highlightjs.org/download/ -->\n",
    "  <script src=\"https://cdnjs.cloudflare.com/ajax/libs/highlight.js/11.5.0/highlight.min.js\"></script>\n",
    "  <!-- marked.js -->\n",
    "  <script src=\"https://cdn.jsdelivr.net/npm/marked/marked.min.js\"></script>\n",
    "  <script>{script:s}</script>\n",
    "</body>\n",
    "</html>\n",
    "\"\"\"\n",
    "with open(\"_build/html/index_7days.html\", 'w') as fout:\n",
    "    fout.write(page)"
   ]
  },
  {
   "cell_type": "markdown",
   "id": "1cebacbc",
   "metadata": {
    "papermill": {
     "duration": 0.016605,
     "end_time": "2022-08-22T15:11:26.329463",
     "exception": false,
     "start_time": "2022-08-22T15:11:26.312858",
     "status": "completed"
    },
    "tags": []
   },
   "source": [
    "# Debugging papers"
   ]
  },
  {
   "cell_type": "raw",
   "id": "debe7cc6",
   "metadata": {
    "papermill": {
     "duration": 0.008919,
     "end_time": "2022-08-22T15:11:26.351482",
     "exception": false,
     "start_time": "2022-08-22T15:11:26.342563",
     "status": "completed"
    },
    "tags": []
   },
   "source": [
    "raise NotImplementedError(\"Manual Stop\")"
   ]
  },
  {
   "cell_type": "raw",
   "id": "eb169192",
   "metadata": {
    "papermill": {
     "duration": 0.008894,
     "end_time": "2022-08-22T15:11:26.369554",
     "exception": false,
     "start_time": "2022-08-22T15:11:26.360660",
     "status": "completed"
    },
    "scrolled": true,
    "tags": []
   },
   "source": [
    "from IPython.display import display, Markdown\n",
    "from TexSoup import TexSoup\n",
    "import re\n",
    "\n",
    "def bracket_error(source: str):\n",
    "    \"\"\" Find problematic portions of the document \"\"\"\n",
    "    \n",
    "    print(\"len(source)\", len(source))\n",
    "    \n",
    "    # Checking header\n",
    "    begin_doc = next(re.finditer(r'\\\\begin\\{document\\}', doc.source)).span()[1]\n",
    "    header = source[:begin_doc]\n",
    "    text = header + r\"\\n\\end{document}\"\n",
    "\n",
    "    try:\n",
    "        # print(\"Header check... \", end='')\n",
    "        TexSoup(text)\n",
    "        display(Markdown(f\"**[OK]** - Header\"))\n",
    "    except:\n",
    "        raise RuntimeError(\"Error in the header\")\n",
    "        \n",
    "    # Check the text per section until the end.\n",
    "    # Do not stop and try them all.\n",
    "    \n",
    "    problematic_text = []\n",
    "    \n",
    "    sections = ([(0, begin_doc, 'until first section')] + \n",
    "                [(g.span()[0], g.span()[1], g.group()) for g in re.finditer(r'\\\\section\\{.*\\}', source)] +\n",
    "                [(g.span()[0], g.span()[1], g.group()) for g in re.finditer(r'\\\\begin\\{appendix\\}', source)]\n",
    "               )\n",
    "    sections.append([len(source), len(source), 'end'])\n",
    "    \n",
    "    sections = sorted(sections, key=lambda x: x[0])\n",
    "    \n",
    "    prev_pos, prev_name = (0, 'header')\n",
    "    parsed = []\n",
    "    \n",
    "    for span, span_end, name in sections:\n",
    "\n",
    "        if span - prev_pos <= 0:\n",
    "            continue\n",
    "            \n",
    "\n",
    "        text = source[prev_pos:span]\n",
    "        if prev_pos > begin_doc:\n",
    "            text = r\"\\n\\begin{document}\" + text + r\"\\n\\end{document}\"\n",
    "        else:\n",
    "            text = text + r\"\\n\\end{document}\"\n",
    "        try:\n",
    "            #print(f\"{prev_pos}:{prev_name}-->{span}:{name} check... \", end='')\n",
    "            parsed.append(TexSoup(text, tolerance=1))  # allow not ending env\n",
    "            display(Markdown(f\"**[OK]** - *{prev_pos}*:{prev_name} &rarr; *{span}*:{name}\"))\n",
    "            # print(\"ok\")\n",
    "\n",
    "            prev_pos = span\n",
    "            prev_name = name\n",
    "        except:\n",
    "            # print(f\"error between {prev_pos} and {span}\")\n",
    "            display(Markdown(f\"**[ERR]** *{prev_pos}*:{prev_name} &rarr; *{span}*:{name}\"))\n",
    "            problematic_text.append((prev_pos, source[prev_pos:span]))\n",
    "            prev_pos = span\n",
    "            prev_name = name\n",
    "            # raise\n",
    "    return problematic_text, parsed\n",
    "\n",
    "\n",
    "def check_environment(text, offset=0):\n",
    "    \"\"\" Check environment \"\"\"\n",
    "    env = re.compile(r\"\\\\begin\\{(?P<env>.*)\\}(.*)\\\\end\\{(?P=env)\\}\", re.DOTALL)\n",
    "\n",
    "    for match in env.finditer(text):\n",
    "        beg, end = match.span()\n",
    "        beg += offset\n",
    "        end += offset\n",
    "        envname = match.groups()[0]\n",
    "        try:\n",
    "            latex.TexSoup(match.group())\n",
    "        except Exception as e:\n",
    "            display(e)\n",
    "            print(f\"Error in {envname:s} between {beg} and {end}\")\n",
    "            return match.groups()[1], beg, end"
   ]
  },
  {
   "cell_type": "raw",
   "id": "2315e835",
   "metadata": {
    "papermill": {
     "duration": 0.00887,
     "end_time": "2022-08-22T15:11:26.387220",
     "exception": false,
     "start_time": "2022-08-22T15:11:26.378350",
     "status": "completed"
    },
    "scrolled": false,
    "tags": []
   },
   "source": [
    "import importlib\n",
    "importlib.reload(latex)\n",
    "which = \"2204.03253\"\n",
    "paper_id = f'{which:s}'\n",
    "folder = f'tmp_{paper_id:s}'\n",
    "\n",
    "if not os.path.isdir(folder):\n",
    "    folder = retrieve_document_source(f\"{paper_id}\", f'tmp_{paper_id}')\n",
    "\n",
    "try:\n",
    "    doc = latex.LatexDocument(folder, validation=validation)    \n",
    "except AffiliationError as affilerror:\n",
    "    msg = f\"ArXiv:{paper_id:s} is not an MPIA paper... \" + str(affilerror)\n",
    "    print(msg)\n",
    "\n",
    "\n",
    "# Hack because sometimes author parsing does not work well\n",
    "if (len(doc.authors) != len(paper['authors'])):\n",
    "    doc._authors = paper['authors']\n",
    "if (doc.abstract) in (None, ''):\n",
    "    doc._abstract = paper['abstract']\n",
    "\n",
    "doc.comment = get_markdown_badge(paper_id) + \" _\" + paper['comments'] + \"_\"\n",
    "doc.highlight_authors_in_list(hl_list)\n",
    "\n",
    "full_md = doc.generate_markdown_text()"
   ]
  },
  {
   "cell_type": "raw",
   "id": "dd3781db",
   "metadata": {
    "papermill": {
     "duration": 0.008926,
     "end_time": "2022-08-22T15:11:26.404942",
     "exception": false,
     "start_time": "2022-08-22T15:11:26.396016",
     "status": "completed"
    },
    "scrolled": false,
    "tags": []
   },
   "source": [
    "doc"
   ]
  },
  {
   "cell_type": "raw",
   "id": "c6eed834",
   "metadata": {
    "papermill": {
     "duration": 0.009244,
     "end_time": "2022-08-22T15:11:26.423160",
     "exception": false,
     "start_time": "2022-08-22T15:11:26.413916",
     "status": "completed"
    },
    "tags": []
   },
   "source": [
    "# [check_environment(k) for k in bracket_error(doc.source)]\n",
    "_, _, a = latex.get_content_per_section(doc.source, verbose=True)\n",
    "if not a:\n",
    "    print(\"no issues per section\")\n",
    "for ak in a:\n",
    "    r = check_environment(ak[1], offset=ak[0])\n",
    "    print(r[1], r[2])\n",
    "    print(r[0])"
   ]
  },
  {
   "cell_type": "code",
   "execution_count": null,
   "id": "71ce768a",
   "metadata": {
    "papermill": {
     "duration": 0.008886,
     "end_time": "2022-08-22T15:11:26.440833",
     "exception": false,
     "start_time": "2022-08-22T15:11:26.431947",
     "status": "completed"
    },
    "tags": []
   },
   "outputs": [],
   "source": []
  }
 ],
 "metadata": {
  "kernelspec": {
   "display_name": "Python 3.10.6 64-bit",
   "language": "python",
   "name": "python3"
  },
  "language_info": {
   "codemirror_mode": {
    "name": "ipython",
    "version": 3
   },
   "file_extension": ".py",
   "mimetype": "text/x-python",
   "name": "python",
   "nbconvert_exporter": "python",
   "pygments_lexer": "ipython3",
   "version": "3.9.13"
  },
  "papermill": {
   "default_parameters": {},
   "duration": 144.799403,
   "end_time": "2022-08-22T15:11:26.667671",
   "environment_variables": {},
   "exception": null,
   "input_path": "MPIA daily digest.ipynb",
   "output_path": "log.ipynb",
   "parameters": {},
   "start_time": "2022-08-22T15:09:01.868268",
   "version": "2.4.0"
  },
  "vscode": {
   "interpreter": {
    "hash": "e7370f93d1d0cde622a1f8e1c04877d8463912d04d973331ad4851f04de6915a"
   }
  },
  "widgets": {
   "application/vnd.jupyter.widget-state+json": {
    "state": {
     "05c4ebe68b1e4067906ac1ca4d408b3f": {
      "model_module": "@jupyter-widgets/controls",
      "model_module_version": "2.0.0",
      "model_name": "HTMLStyleModel",
      "state": {
       "_model_module": "@jupyter-widgets/controls",
       "_model_module_version": "2.0.0",
       "_model_name": "HTMLStyleModel",
       "_view_count": null,
       "_view_module": "@jupyter-widgets/base",
       "_view_module_version": "2.0.0",
       "_view_name": "StyleView",
       "background": null,
       "description_width": "",
       "font_size": null,
       "text_color": null
      }
     },
     "31ddc232a42f48fe81c651366056838c": {
      "model_module": "@jupyter-widgets/controls",
      "model_module_version": "2.0.0",
      "model_name": "HTMLModel",
      "state": {
       "_dom_classes": [],
       "_model_module": "@jupyter-widgets/controls",
       "_model_module_version": "2.0.0",
       "_model_name": "HTMLModel",
       "_view_count": null,
       "_view_module": "@jupyter-widgets/controls",
       "_view_module_version": "2.0.0",
       "_view_name": "HTMLView",
       "description": "",
       "description_allow_html": false,
       "layout": "IPY_MODEL_91a37dece76a4f7d8468c0a764db2aca",
       "placeholder": "​",
       "style": "IPY_MODEL_95683d3ef28042e685b9e2fa3f5e497f",
       "tabbable": null,
       "tooltip": null,
       "value": " 21/21 [02:00&lt;00:00,  9.86s/it]"
      }
     },
     "33c12951c9204055a52110defaf92a3d": {
      "model_module": "@jupyter-widgets/controls",
      "model_module_version": "2.0.0",
      "model_name": "FloatProgressModel",
      "state": {
       "_dom_classes": [],
       "_model_module": "@jupyter-widgets/controls",
       "_model_module_version": "2.0.0",
       "_model_name": "FloatProgressModel",
       "_view_count": null,
       "_view_module": "@jupyter-widgets/controls",
       "_view_module_version": "2.0.0",
       "_view_name": "ProgressView",
       "bar_style": "success",
       "description": "",
       "description_allow_html": false,
       "layout": "IPY_MODEL_9173d0dc4576431b85d389b74e2e86e1",
       "max": 21.0,
       "min": 0.0,
       "orientation": "horizontal",
       "style": "IPY_MODEL_776fc2d91dee40769d9df09142aad936",
       "tabbable": null,
       "tooltip": null,
       "value": 21.0
      }
     },
     "494735ba902e492a8dbcb30c70ca7472": {
      "model_module": "@jupyter-widgets/controls",
      "model_module_version": "2.0.0",
      "model_name": "HBoxModel",
      "state": {
       "_dom_classes": [],
       "_model_module": "@jupyter-widgets/controls",
       "_model_module_version": "2.0.0",
       "_model_name": "HBoxModel",
       "_view_count": null,
       "_view_module": "@jupyter-widgets/controls",
       "_view_module_version": "2.0.0",
       "_view_name": "HBoxView",
       "box_style": "",
       "children": [
        "IPY_MODEL_b7962d45747b42b4bc533541eda83db7",
        "IPY_MODEL_33c12951c9204055a52110defaf92a3d",
        "IPY_MODEL_31ddc232a42f48fe81c651366056838c"
       ],
       "layout": "IPY_MODEL_857c0c5dd9fc455294d9b75288e59adb",
       "tabbable": null,
       "tooltip": null
      }
     },
     "776fc2d91dee40769d9df09142aad936": {
      "model_module": "@jupyter-widgets/controls",
      "model_module_version": "2.0.0",
      "model_name": "ProgressStyleModel",
      "state": {
       "_model_module": "@jupyter-widgets/controls",
       "_model_module_version": "2.0.0",
       "_model_name": "ProgressStyleModel",
       "_view_count": null,
       "_view_module": "@jupyter-widgets/base",
       "_view_module_version": "2.0.0",
       "_view_name": "StyleView",
       "bar_color": null,
       "description_width": ""
      }
     },
     "857c0c5dd9fc455294d9b75288e59adb": {
      "model_module": "@jupyter-widgets/base",
      "model_module_version": "2.0.0",
      "model_name": "LayoutModel",
      "state": {
       "_model_module": "@jupyter-widgets/base",
       "_model_module_version": "2.0.0",
       "_model_name": "LayoutModel",
       "_view_count": null,
       "_view_module": "@jupyter-widgets/base",
       "_view_module_version": "2.0.0",
       "_view_name": "LayoutView",
       "align_content": null,
       "align_items": null,
       "align_self": null,
       "border_bottom": null,
       "border_left": null,
       "border_right": null,
       "border_top": null,
       "bottom": null,
       "display": null,
       "flex": null,
       "flex_flow": null,
       "grid_area": null,
       "grid_auto_columns": null,
       "grid_auto_flow": null,
       "grid_auto_rows": null,
       "grid_column": null,
       "grid_gap": null,
       "grid_row": null,
       "grid_template_areas": null,
       "grid_template_columns": null,
       "grid_template_rows": null,
       "height": null,
       "justify_content": null,
       "justify_items": null,
       "left": null,
       "margin": null,
       "max_height": null,
       "max_width": null,
       "min_height": null,
       "min_width": null,
       "object_fit": null,
       "object_position": null,
       "order": null,
       "overflow": null,
       "padding": null,
       "right": null,
       "top": null,
       "visibility": null,
       "width": null
      }
     },
     "8f6d11543a4f4d2db148dc03ecd25ee6": {
      "model_module": "@jupyter-widgets/base",
      "model_module_version": "2.0.0",
      "model_name": "LayoutModel",
      "state": {
       "_model_module": "@jupyter-widgets/base",
       "_model_module_version": "2.0.0",
       "_model_name": "LayoutModel",
       "_view_count": null,
       "_view_module": "@jupyter-widgets/base",
       "_view_module_version": "2.0.0",
       "_view_name": "LayoutView",
       "align_content": null,
       "align_items": null,
       "align_self": null,
       "border_bottom": null,
       "border_left": null,
       "border_right": null,
       "border_top": null,
       "bottom": null,
       "display": null,
       "flex": null,
       "flex_flow": null,
       "grid_area": null,
       "grid_auto_columns": null,
       "grid_auto_flow": null,
       "grid_auto_rows": null,
       "grid_column": null,
       "grid_gap": null,
       "grid_row": null,
       "grid_template_areas": null,
       "grid_template_columns": null,
       "grid_template_rows": null,
       "height": null,
       "justify_content": null,
       "justify_items": null,
       "left": null,
       "margin": null,
       "max_height": null,
       "max_width": null,
       "min_height": null,
       "min_width": null,
       "object_fit": null,
       "object_position": null,
       "order": null,
       "overflow": null,
       "padding": null,
       "right": null,
       "top": null,
       "visibility": null,
       "width": null
      }
     },
     "9173d0dc4576431b85d389b74e2e86e1": {
      "model_module": "@jupyter-widgets/base",
      "model_module_version": "2.0.0",
      "model_name": "LayoutModel",
      "state": {
       "_model_module": "@jupyter-widgets/base",
       "_model_module_version": "2.0.0",
       "_model_name": "LayoutModel",
       "_view_count": null,
       "_view_module": "@jupyter-widgets/base",
       "_view_module_version": "2.0.0",
       "_view_name": "LayoutView",
       "align_content": null,
       "align_items": null,
       "align_self": null,
       "border_bottom": null,
       "border_left": null,
       "border_right": null,
       "border_top": null,
       "bottom": null,
       "display": null,
       "flex": null,
       "flex_flow": null,
       "grid_area": null,
       "grid_auto_columns": null,
       "grid_auto_flow": null,
       "grid_auto_rows": null,
       "grid_column": null,
       "grid_gap": null,
       "grid_row": null,
       "grid_template_areas": null,
       "grid_template_columns": null,
       "grid_template_rows": null,
       "height": null,
       "justify_content": null,
       "justify_items": null,
       "left": null,
       "margin": null,
       "max_height": null,
       "max_width": null,
       "min_height": null,
       "min_width": null,
       "object_fit": null,
       "object_position": null,
       "order": null,
       "overflow": null,
       "padding": null,
       "right": null,
       "top": null,
       "visibility": null,
       "width": null
      }
     },
     "91a37dece76a4f7d8468c0a764db2aca": {
      "model_module": "@jupyter-widgets/base",
      "model_module_version": "2.0.0",
      "model_name": "LayoutModel",
      "state": {
       "_model_module": "@jupyter-widgets/base",
       "_model_module_version": "2.0.0",
       "_model_name": "LayoutModel",
       "_view_count": null,
       "_view_module": "@jupyter-widgets/base",
       "_view_module_version": "2.0.0",
       "_view_name": "LayoutView",
       "align_content": null,
       "align_items": null,
       "align_self": null,
       "border_bottom": null,
       "border_left": null,
       "border_right": null,
       "border_top": null,
       "bottom": null,
       "display": null,
       "flex": null,
       "flex_flow": null,
       "grid_area": null,
       "grid_auto_columns": null,
       "grid_auto_flow": null,
       "grid_auto_rows": null,
       "grid_column": null,
       "grid_gap": null,
       "grid_row": null,
       "grid_template_areas": null,
       "grid_template_columns": null,
       "grid_template_rows": null,
       "height": null,
       "justify_content": null,
       "justify_items": null,
       "left": null,
       "margin": null,
       "max_height": null,
       "max_width": null,
       "min_height": null,
       "min_width": null,
       "object_fit": null,
       "object_position": null,
       "order": null,
       "overflow": null,
       "padding": null,
       "right": null,
       "top": null,
       "visibility": null,
       "width": null
      }
     },
     "95683d3ef28042e685b9e2fa3f5e497f": {
      "model_module": "@jupyter-widgets/controls",
      "model_module_version": "2.0.0",
      "model_name": "HTMLStyleModel",
      "state": {
       "_model_module": "@jupyter-widgets/controls",
       "_model_module_version": "2.0.0",
       "_model_name": "HTMLStyleModel",
       "_view_count": null,
       "_view_module": "@jupyter-widgets/base",
       "_view_module_version": "2.0.0",
       "_view_name": "StyleView",
       "background": null,
       "description_width": "",
       "font_size": null,
       "text_color": null
      }
     },
     "b7962d45747b42b4bc533541eda83db7": {
      "model_module": "@jupyter-widgets/controls",
      "model_module_version": "2.0.0",
      "model_name": "HTMLModel",
      "state": {
       "_dom_classes": [],
       "_model_module": "@jupyter-widgets/controls",
       "_model_module_version": "2.0.0",
       "_model_name": "HTMLModel",
       "_view_count": null,
       "_view_module": "@jupyter-widgets/controls",
       "_view_module_version": "2.0.0",
       "_view_name": "HTMLView",
       "description": "",
       "description_allow_html": false,
       "layout": "IPY_MODEL_8f6d11543a4f4d2db148dc03ecd25ee6",
       "placeholder": "​",
       "style": "IPY_MODEL_05c4ebe68b1e4067906ac1ca4d408b3f",
       "tabbable": null,
       "tooltip": null,
       "value": "100%"
      }
     }
    },
    "version_major": 2,
    "version_minor": 0
   }
  }
 },
 "nbformat": 4,
 "nbformat_minor": 5
}