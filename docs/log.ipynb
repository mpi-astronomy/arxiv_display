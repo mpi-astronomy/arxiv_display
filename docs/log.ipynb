{
 "cells": [
  {
   "cell_type": "markdown",
   "id": "92bcb855",
   "metadata": {
    "papermill": {
     "duration": 0.003985,
     "end_time": "2023-12-01T04:08:31.390243",
     "exception": false,
     "start_time": "2023-12-01T04:08:31.386258",
     "status": "completed"
    },
    "tags": []
   },
   "source": [
    "# MPIA Arxiv on Deck 2\n",
    "\n",
    "Contains the steps to produce the paper extractions."
   ]
  },
  {
   "cell_type": "code",
   "execution_count": 1,
   "id": "3a0d6e11",
   "metadata": {
    "execution": {
     "iopub.execute_input": "2023-12-01T04:08:31.399213Z",
     "iopub.status.busy": "2023-12-01T04:08:31.398660Z",
     "iopub.status.idle": "2023-12-01T04:08:31.854143Z",
     "shell.execute_reply": "2023-12-01T04:08:31.853487Z"
    },
    "papermill": {
     "duration": 0.461236,
     "end_time": "2023-12-01T04:08:31.855975",
     "exception": false,
     "start_time": "2023-12-01T04:08:31.394739",
     "status": "completed"
    },
    "tags": []
   },
   "outputs": [],
   "source": [
    "# Imports\n",
    "import os\n",
    "from IPython.display import Markdown, display\n",
    "from tqdm.notebook import tqdm\n",
    "import warnings\n",
    "from PIL import Image \n",
    "\n",
    "# requires arxiv_on_deck_2\n",
    "\n",
    "from arxiv_on_deck_2.arxiv2 import (get_new_papers, \n",
    "                                    get_paper_from_identifier,\n",
    "                                    retrieve_document_source, \n",
    "                                    get_markdown_badge)\n",
    "from arxiv_on_deck_2 import (latex,\n",
    "                             latex_bib,\n",
    "                             mpia,\n",
    "                             highlight_authors_in_list)\n",
    "\n",
    "# Sometimes images are really big\n",
    "Image.MAX_IMAGE_PIXELS = 1000000000 "
   ]
  },
  {
   "cell_type": "code",
   "execution_count": 2,
   "id": "22aa9d44",
   "metadata": {
    "execution": {
     "iopub.execute_input": "2023-12-01T04:08:31.863285Z",
     "iopub.status.busy": "2023-12-01T04:08:31.862799Z",
     "iopub.status.idle": "2023-12-01T04:08:31.868096Z",
     "shell.execute_reply": "2023-12-01T04:08:31.867476Z"
    },
    "papermill": {
     "duration": 0.010432,
     "end_time": "2023-12-01T04:08:31.869436",
     "exception": false,
     "start_time": "2023-12-01T04:08:31.859004",
     "status": "completed"
    },
    "tags": []
   },
   "outputs": [],
   "source": [
    "# Some useful definitions.\n",
    "\n",
    "class AffiliationWarning(UserWarning):\n",
    "    pass\n",
    "\n",
    "class AffiliationError(RuntimeError):\n",
    "    pass\n",
    "\n",
    "def validation(source: str):\n",
    "    \"\"\"Raises error paper during parsing of source file\n",
    "    \n",
    "    Allows checks before parsing TeX code.\n",
    "    \n",
    "    Raises AffiliationWarning\n",
    "    \"\"\"\n",
    "    check = mpia.affiliation_verifications(source, verbose=True)\n",
    "    if check is not True:\n",
    "        raise AffiliationError(\"mpia.affiliation_verifications: \" + check)\n",
    "\n",
    "        \n",
    "warnings.simplefilter('always', AffiliationWarning)\n",
    "\n",
    "\n",
    "def get_markdown_qrcode(paper_id: str):\n",
    "    \"\"\" Generate a qrcode to the arxiv page using qrserver.com\n",
    "    \n",
    "    :param paper: Arxiv paper\n",
    "    :returns: markdown text\n",
    "    \"\"\"\n",
    "    url = r\"https://api.qrserver.com/v1/create-qr-code/?size=100x100&data=\"\n",
    "    txt = f\"\"\"<img src={url}\"https://arxiv.org/abs/{paper_id}\">\"\"\"\n",
    "    txt = '<div id=\"qrcode\">' + txt + '</div>'\n",
    "    return txt"
   ]
  },
  {
   "cell_type": "markdown",
   "id": "14bd6310",
   "metadata": {
    "papermill": {
     "duration": 0.002725,
     "end_time": "2023-12-01T04:08:31.875090",
     "exception": false,
     "start_time": "2023-12-01T04:08:31.872365",
     "status": "completed"
    },
    "tags": []
   },
   "source": [
    "## get list of arxiv paper candidates\n",
    "\n",
    "We use the MPIA mitarbeiter list webpage from mpia.de to get author names\n",
    "We then get all new papers from Arxiv and match authors"
   ]
  },
  {
   "cell_type": "code",
   "execution_count": 3,
   "id": "2645e73a",
   "metadata": {
    "execution": {
     "iopub.execute_input": "2023-12-01T04:08:31.881776Z",
     "iopub.status.busy": "2023-12-01T04:08:31.881367Z",
     "iopub.status.idle": "2023-12-01T04:08:50.725612Z",
     "shell.execute_reply": "2023-12-01T04:08:50.724891Z"
    },
    "papermill": {
     "duration": 18.849142,
     "end_time": "2023-12-01T04:08:50.727004",
     "exception": false,
     "start_time": "2023-12-01T04:08:31.877862",
     "status": "completed"
    },
    "tags": []
   },
   "outputs": [
    {
     "name": "stdout",
     "output_type": "stream",
     "text": [
      "S. Li  ->  S. Li  |  ['S. Li']\n",
      "A. Pillepich  ->  A. Pillepich  |  ['A. Pillepich']\n",
      "E. Schinnerer  ->  E. Schinnerer  |  ['E. Schinnerer']\n",
      "A. Kospal  ->  A. Kospal  |  ['A. Kospal']\n",
      "Arxiv has 60 new papers today\n",
      "          4 with possible author matches\n"
     ]
    }
   ],
   "source": [
    "# get list from MPIA website\n",
    "# it automatically filters identified non-scientists :func:`mpia.filter_non_scientists`\n",
    "mpia_authors = mpia.get_mpia_mitarbeiter_list()\n",
    "normed_mpia_authors = [k[1] for k in mpia_authors]   # initials + fullname\n",
    "new_papers = get_new_papers()\n",
    "# add manual references\n",
    "add_paper_refs = []\n",
    "new_papers.extend([get_paper_from_identifier(k) for k in add_paper_refs])\n",
    "\n",
    "candidates = []\n",
    "for paperk in new_papers:\n",
    "    # Check author list with their initials\n",
    "    normed_author_list = [mpia.get_initials(k) for k in paperk['authors']]\n",
    "    hl_authors = highlight_authors_in_list(normed_author_list, normed_mpia_authors, verbose=True)\n",
    "    matches = [(hl, orig) for hl, orig in zip(hl_authors, paperk['authors']) if 'mark' in hl]\n",
    "    paperk['authors'] = hl_authors\n",
    "    if matches:\n",
    "        # only select paper if an author matched our list\n",
    "        candidates.append(paperk)\n",
    "print(\"\"\"Arxiv has {0:,d} new papers today\"\"\".format(len(new_papers)))        \n",
    "print(\"\"\"          {0:,d} with possible author matches\"\"\".format(len(candidates)))"
   ]
  },
  {
   "cell_type": "markdown",
   "id": "3543b34a",
   "metadata": {
    "papermill": {
     "duration": 0.002894,
     "end_time": "2023-12-01T04:08:50.733138",
     "exception": false,
     "start_time": "2023-12-01T04:08:50.730244",
     "status": "completed"
    },
    "tags": []
   },
   "source": [
    "# Parse sources and generate relevant outputs\n",
    "\n",
    "From the candidates, we do the following steps:\n",
    "* get their tarball from ArXiv (and extract data)\n",
    "* find the main .tex file: find one with \\documentclass{...} (sometimes it's non trivial)\n",
    "* Check affiliations with :func:`validation`, which uses :func:`mpia.affiliation_verifications`\n",
    "* If passing the affiliations: we parse the .tex source\n",
    "   * inject sub-documents into the main (flatten the main document)\n",
    "   * parse structure, extract information (title, abstract, authors, figures...)\n",
    "   * handles `\\graphicspath` if provided\n",
    "* Generate the .md document."
   ]
  },
  {
   "cell_type": "code",
   "execution_count": 4,
   "id": "9576b79e",
   "metadata": {
    "execution": {
     "iopub.execute_input": "2023-12-01T04:08:50.740062Z",
     "iopub.status.busy": "2023-12-01T04:08:50.739642Z",
     "iopub.status.idle": "2023-12-01T04:09:51.040142Z",
     "shell.execute_reply": "2023-12-01T04:09:51.039360Z"
    },
    "papermill": {
     "duration": 60.306122,
     "end_time": "2023-12-01T04:09:51.042085",
     "exception": false,
     "start_time": "2023-12-01T04:08:50.735963",
     "status": "completed"
    },
    "scrolled": false,
    "tags": []
   },
   "outputs": [
    {
     "data": {
      "application/vnd.jupyter.widget-view+json": {
       "model_id": "a73bd9c07e4745d8912371474c48df7d",
       "version_major": 2,
       "version_minor": 0
      },
      "text/plain": [
       "  0%|          | 0/4 [00:00<?, ?it/s]"
      ]
     },
     "metadata": {},
     "output_type": "display_data"
    },
    {
     "name": "stdout",
     "output_type": "stream",
     "text": [
      "Retrieving document from  https://arxiv.org/e-print/2311.18006\n"
     ]
    },
    {
     "name": "stdout",
     "output_type": "stream",
     "text": [
      "extracting tarball to tmp_2311.18006..."
     ]
    },
    {
     "name": "stdout",
     "output_type": "stream",
     "text": [
      " done.\n"
     ]
    },
    {
     "name": "stdout",
     "output_type": "stream",
     "text": [
      "S. Li  ->  S. Li  |  ['S. Li']\n"
     ]
    },
    {
     "name": "stdout",
     "output_type": "stream",
     "text": [
      "Found 42 bibliographic references in tmp_2311.18006/manuscript.bbl.\n",
      "Retrieving document from  https://arxiv.org/e-print/2311.18016\n"
     ]
    },
    {
     "name": "stdout",
     "output_type": "stream",
     "text": [
      "extracting tarball to tmp_2311.18016..."
     ]
    },
    {
     "name": "stdout",
     "output_type": "stream",
     "text": [
      " done.\n"
     ]
    },
    {
     "name": "stderr",
     "output_type": "stream",
     "text": [
      "/opt/hostedtoolcache/Python/3.9.18/x64/lib/python3.9/site-packages/IPython/core/interactiveshell.py:3550: LatexWarning: Multiple tex files.\n",
      "\n",
      "  exec(code_obj, self.user_global_ns, self.user_ns)\n",
      "/opt/hostedtoolcache/Python/3.9.18/x64/lib/python3.9/site-packages/IPython/core/interactiveshell.py:3550: LatexWarning: Found documentclass in tmp_2311.18016/icl_squad_arxiv.tex\n",
      "\n",
      "  exec(code_obj, self.user_global_ns, self.user_ns)\n",
      "/opt/hostedtoolcache/Python/3.9.18/x64/lib/python3.9/site-packages/arxiv_on_deck_2/latex.py:399: LatexWarning: Latex injecting: 'table_sims' from 'tmp_2311.18016/table_sims.tex'\n",
      "  warnings.warn(LatexWarning(f\"Latex injecting: '{ext}' from '{subsource}'\"))\n"
     ]
    },
    {
     "name": "stderr",
     "output_type": "stream",
     "text": [
      "/opt/hostedtoolcache/Python/3.9.18/x64/lib/python3.9/site-packages/arxiv_on_deck_2/latex.py:120: LatexWarning: attempting recovering figure Sims_BCG_clustermass\n",
      "  warnings.warn(LatexWarning(f'attempting recovering figure {image}'))\n",
      "/opt/hostedtoolcache/Python/3.9.18/x64/lib/python3.9/site-packages/arxiv_on_deck_2/latex.py:125: LatexWarning: Recovered figure Sims_BCG_clustermass as tmp_2311.18016/./Sims_BCG_clustermass.pdf\n",
      "  warnings.warn(LatexWarning(f'Recovered figure {image} as {fname}'))\n",
      "/opt/hostedtoolcache/Python/3.9.18/x64/lib/python3.9/site-packages/arxiv_on_deck_2/latex.py:120: LatexWarning: attempting recovering figure Sims_clustermass\n",
      "  warnings.warn(LatexWarning(f'attempting recovering figure {image}'))\n",
      "/opt/hostedtoolcache/Python/3.9.18/x64/lib/python3.9/site-packages/arxiv_on_deck_2/latex.py:125: LatexWarning: Recovered figure Sims_clustermass as tmp_2311.18016/./Sims_clustermass.pdf\n",
      "  warnings.warn(LatexWarning(f'Recovered figure {image} as {fname}'))\n"
     ]
    },
    {
     "name": "stderr",
     "output_type": "stream",
     "text": [
      "/opt/hostedtoolcache/Python/3.9.18/x64/lib/python3.9/site-packages/arxiv_on_deck_2/latex.py:120: LatexWarning: attempting recovering figure ICLBCG_Frac_clustermass\n",
      "  warnings.warn(LatexWarning(f'attempting recovering figure {image}'))\n",
      "/opt/hostedtoolcache/Python/3.9.18/x64/lib/python3.9/site-packages/arxiv_on_deck_2/latex.py:125: LatexWarning: Recovered figure ICLBCG_Frac_clustermass as tmp_2311.18016/./ICLBCG_Frac_clustermass.pdf\n",
      "  warnings.warn(LatexWarning(f'Recovered figure {image} as {fname}'))\n",
      "/opt/hostedtoolcache/Python/3.9.18/x64/lib/python3.9/site-packages/arxiv_on_deck_2/latex.py:120: LatexWarning: attempting recovering figure ICLBCG_FracDiff_histo\n",
      "  warnings.warn(LatexWarning(f'attempting recovering figure {image}'))\n",
      "/opt/hostedtoolcache/Python/3.9.18/x64/lib/python3.9/site-packages/arxiv_on_deck_2/latex.py:125: LatexWarning: Recovered figure ICLBCG_FracDiff_histo as tmp_2311.18016/./ICLBCG_FracDiff_histo.pdf\n",
      "  warnings.warn(LatexWarning(f'Recovered figure {image} as {fname}'))\n"
     ]
    },
    {
     "name": "stderr",
     "output_type": "stream",
     "text": [
      "/opt/hostedtoolcache/Python/3.9.18/x64/lib/python3.9/site-packages/arxiv_on_deck_2/latex.py:120: LatexWarning: attempting recovering figure ICL_Frac_ap_histo\n",
      "  warnings.warn(LatexWarning(f'attempting recovering figure {image}'))\n",
      "/opt/hostedtoolcache/Python/3.9.18/x64/lib/python3.9/site-packages/arxiv_on_deck_2/latex.py:125: LatexWarning: Recovered figure ICL_Frac_ap_histo as tmp_2311.18016/./ICL_Frac_ap_histo.pdf\n",
      "  warnings.warn(LatexWarning(f'Recovered figure {image} as {fname}'))\n"
     ]
    },
    {
     "name": "stderr",
     "output_type": "stream",
     "text": [
      "/opt/hostedtoolcache/Python/3.9.18/x64/lib/python3.9/site-packages/arxiv_on_deck_2/latex.py:120: LatexWarning: attempting recovering figure ICL_Frac_clustermass_kin\n",
      "  warnings.warn(LatexWarning(f'attempting recovering figure {image}'))\n",
      "/opt/hostedtoolcache/Python/3.9.18/x64/lib/python3.9/site-packages/arxiv_on_deck_2/latex.py:125: LatexWarning: Recovered figure ICL_Frac_clustermass_kin as tmp_2311.18016/./ICL_Frac_clustermass_kin.pdf\n",
      "  warnings.warn(LatexWarning(f'Recovered figure {image} as {fname}'))\n",
      "/opt/hostedtoolcache/Python/3.9.18/x64/lib/python3.9/site-packages/arxiv_on_deck_2/latex.py:120: LatexWarning: attempting recovering figure ICL_FracDiff_Remus_histo\n",
      "  warnings.warn(LatexWarning(f'attempting recovering figure {image}'))\n",
      "/opt/hostedtoolcache/Python/3.9.18/x64/lib/python3.9/site-packages/arxiv_on_deck_2/latex.py:125: LatexWarning: Recovered figure ICL_FracDiff_Remus_histo as tmp_2311.18016/./ICL_FracDiff_Remus_histo.pdf\n",
      "  warnings.warn(LatexWarning(f'Recovered figure {image} as {fname}'))\n"
     ]
    },
    {
     "name": "stderr",
     "output_type": "stream",
     "text": [
      "/opt/hostedtoolcache/Python/3.9.18/x64/lib/python3.9/site-packages/arxiv_on_deck_2/latex.py:120: LatexWarning: attempting recovering figure ICLBCG_Frac_rms\n",
      "  warnings.warn(LatexWarning(f'attempting recovering figure {image}'))\n",
      "/opt/hostedtoolcache/Python/3.9.18/x64/lib/python3.9/site-packages/arxiv_on_deck_2/latex.py:125: LatexWarning: Recovered figure ICLBCG_Frac_rms as tmp_2311.18016/./ICLBCG_Frac_rms.pdf\n",
      "  warnings.warn(LatexWarning(f'Recovered figure {image} as {fname}'))\n",
      "/opt/hostedtoolcache/Python/3.9.18/x64/lib/python3.9/site-packages/arxiv_on_deck_2/latex.py:120: LatexWarning: attempting recovering figure ICL_Frac_rms\n",
      "  warnings.warn(LatexWarning(f'attempting recovering figure {image}'))\n",
      "/opt/hostedtoolcache/Python/3.9.18/x64/lib/python3.9/site-packages/arxiv_on_deck_2/latex.py:125: LatexWarning: Recovered figure ICL_Frac_rms as tmp_2311.18016/./ICL_Frac_rms.pdf\n",
      "  warnings.warn(LatexWarning(f'Recovered figure {image} as {fname}'))\n"
     ]
    },
    {
     "name": "stderr",
     "output_type": "stream",
     "text": [
      "/opt/hostedtoolcache/Python/3.9.18/x64/lib/python3.9/site-packages/arxiv_on_deck_2/latex.py:120: LatexWarning: attempting recovering figure ICL_Frac_clustermass_aper\n",
      "  warnings.warn(LatexWarning(f'attempting recovering figure {image}'))\n",
      "/opt/hostedtoolcache/Python/3.9.18/x64/lib/python3.9/site-packages/arxiv_on_deck_2/latex.py:125: LatexWarning: Recovered figure ICL_Frac_clustermass_aper as tmp_2311.18016/./ICL_Frac_clustermass_aper.pdf\n",
      "  warnings.warn(LatexWarning(f'Recovered figure {image} as {fname}'))\n"
     ]
    },
    {
     "name": "stdout",
     "output_type": "stream",
     "text": [
      "Found 161 bibliographic references in tmp_2311.18016/icl_squad_arxiv.bbl.\n",
      "Retrieving document from  https://arxiv.org/e-print/2311.18067\n"
     ]
    },
    {
     "name": "stdout",
     "output_type": "stream",
     "text": [
      "extracting tarball to tmp_2311.18067..."
     ]
    },
    {
     "name": "stdout",
     "output_type": "stream",
     "text": [
      " done.\n"
     ]
    },
    {
     "name": "stderr",
     "output_type": "stream",
     "text": [
      "/opt/hostedtoolcache/Python/3.9.18/x64/lib/python3.9/site-packages/IPython/core/interactiveshell.py:3550: LatexWarning: Multiple tex files.\n",
      "\n",
      "  exec(code_obj, self.user_global_ns, self.user_ns)\n",
      "/opt/hostedtoolcache/Python/3.9.18/x64/lib/python3.9/site-packages/IPython/core/interactiveshell.py:3550: LatexWarning: Found documentclass in tmp_2311.18067/sample631.tex\n",
      "\n",
      "  exec(code_obj, self.user_global_ns, self.user_ns)\n",
      "/opt/hostedtoolcache/Python/3.9.18/x64/lib/python3.9/site-packages/arxiv_on_deck_2/latex.py:399: LatexWarning: Latex injecting: 'fancytiles' from 'tmp_2311.18067/fancytiles.tex'\n",
      "  warnings.warn(LatexWarning(f\"Latex injecting: '{ext}' from '{subsource}'\"))\n",
      "/opt/hostedtoolcache/Python/3.9.18/x64/lib/python3.9/site-packages/arxiv_on_deck_2/latex.py:399: LatexWarning: Latex injecting: 'NHsummary.tex' from 'tmp_2311.18067/NHsummary.tex'\n",
      "  warnings.warn(LatexWarning(f\"Latex injecting: '{ext}' from '{subsource}'\"))\n",
      "/opt/hostedtoolcache/Python/3.9.18/x64/lib/python3.9/site-packages/arxiv_on_deck_2/latex.py:399: LatexWarning: Latex injecting: 'summary.tex' from 'tmp_2311.18067/summary.tex'\n",
      "  warnings.warn(LatexWarning(f\"Latex injecting: '{ext}' from '{subsource}'\"))\n",
      "/opt/hostedtoolcache/Python/3.9.18/x64/lib/python3.9/site-packages/arxiv_on_deck_2/latex.py:399: LatexWarning: Latex injecting: 'decomposed_fits' from 'tmp_2311.18067/decomposed_fits.tex'\n",
      "  warnings.warn(LatexWarning(f\"Latex injecting: '{ext}' from '{subsource}'\"))\n",
      "/opt/hostedtoolcache/Python/3.9.18/x64/lib/python3.9/site-packages/arxiv_on_deck_2/latex.py:399: LatexWarning: Latex injecting: 'sample.tex' from 'tmp_2311.18067/sample.tex'\n",
      "  warnings.warn(LatexWarning(f\"Latex injecting: '{ext}' from '{subsource}'\"))\n",
      "/opt/hostedtoolcache/Python/3.9.18/x64/lib/python3.9/site-packages/arxiv_on_deck_2/latex.py:399: LatexWarning: Latex injecting: 'authors.tex' from 'tmp_2311.18067/authors.tex'\n",
      "  warnings.warn(LatexWarning(f\"Latex injecting: '{ext}' from '{subsource}'\"))\n"
     ]
    },
    {
     "name": "stdout",
     "output_type": "stream",
     "text": [
      "E. Schinnerer  ->  E. Schinnerer  |  ['E. Schinnerer']\n"
     ]
    },
    {
     "name": "stdout",
     "output_type": "stream",
     "text": [
      "Found 125 bibliographic references in tmp_2311.18067/sample631.bbl.\n",
      "syntax error in line 711: '=' expected\n",
      "Retrieving document from  https://arxiv.org/e-print/2311.18321\n"
     ]
    },
    {
     "name": "stdout",
     "output_type": "stream",
     "text": [
      "extracting tarball to tmp_2311.18321..."
     ]
    },
    {
     "name": "stdout",
     "output_type": "stream",
     "text": [
      " done.\n"
     ]
    }
   ],
   "source": [
    "documents = []\n",
    "failed = []\n",
    "for paper in tqdm(candidates):\n",
    "    paper_id = paper['identifier'].lower().replace('arxiv:', '')\n",
    "    \n",
    "    folder = f'tmp_{paper_id}'\n",
    "\n",
    "    try:\n",
    "        if not os.path.isdir(folder):\n",
    "            folder = retrieve_document_source(f\"{paper_id}\", f'tmp_{paper_id}')\n",
    "        \n",
    "        try:\n",
    "            doc = latex.LatexDocument(folder, validation=validation)    \n",
    "        except AffiliationError as affilerror:\n",
    "            msg = f\"ArXiv:{paper_id:s} is not an MPIA paper... \" + str(affilerror)\n",
    "            failed.append((paper, \"affiliation error: \" + str(affilerror) ))\n",
    "            continue\n",
    "        \n",
    "        # Hack because sometimes author parsing does not work well\n",
    "        if (len(doc.authors) != len(paper['authors'])):\n",
    "            doc._authors = paper['authors']\n",
    "        else:\n",
    "            # highlight authors (FIXME: doc.highlight_authors)\n",
    "            # done on arxiv paper already\n",
    "            doc._authors = highlight_authors_in_list(\n",
    "                [mpia.get_initials(k) for k in doc.authors], \n",
    "                normed_mpia_authors, verbose=True)\n",
    "        if (doc.abstract) in (None, ''):\n",
    "            doc._abstract = paper['abstract']\n",
    "            \n",
    "        doc.comment = (get_markdown_badge(paper_id) + \n",
    "                       \"<mark>Appeared on: \" + paper['date'] + \"</mark> - \")\n",
    "        if paper['comments']:\n",
    "            doc.comment += \" _\" + paper['comments'] + \"_\"\n",
    "        \n",
    "        full_md = doc.generate_markdown_text()\n",
    "        \n",
    "        full_md += get_markdown_qrcode(paper_id)\n",
    "        \n",
    "        # replace citations\n",
    "        try:\n",
    "            bibdata = latex_bib.LatexBib.from_doc(doc)\n",
    "            full_md = latex_bib.replace_citations(full_md, bibdata)\n",
    "        except Exception as e:\n",
    "            print(e)\n",
    "        \n",
    "        documents.append((paper_id, full_md))\n",
    "    except Exception as e:\n",
    "        warnings.warn(latex.LatexWarning(f\"{paper_id:s} did not run properly\\n\" +\n",
    "                                         str(e)\n",
    "                                        ))\n",
    "        failed.append((paper, \"latex error \" + str(e)))"
   ]
  },
  {
   "cell_type": "markdown",
   "id": "2505a25c",
   "metadata": {
    "papermill": {
     "duration": 0.004051,
     "end_time": "2023-12-01T04:09:51.050569",
     "exception": false,
     "start_time": "2023-12-01T04:09:51.046518",
     "status": "completed"
    },
    "tags": []
   },
   "source": [
    "### Export the logs\n",
    "\n",
    "Throughout, we also keep track of the logs per paper. see `logs-{today date}.md` "
   ]
  },
  {
   "cell_type": "code",
   "execution_count": 5,
   "id": "d733828a",
   "metadata": {
    "execution": {
     "iopub.execute_input": "2023-12-01T04:09:51.059833Z",
     "iopub.status.busy": "2023-12-01T04:09:51.059366Z",
     "iopub.status.idle": "2023-12-01T04:09:51.075273Z",
     "shell.execute_reply": "2023-12-01T04:09:51.074672Z"
    },
    "papermill": {
     "duration": 0.022095,
     "end_time": "2023-12-01T04:09:51.076620",
     "exception": false,
     "start_time": "2023-12-01T04:09:51.054525",
     "status": "completed"
    },
    "scrolled": false,
    "tags": []
   },
   "outputs": [
    {
     "data": {
      "text/markdown": [
       "## Successful papers"
      ],
      "text/plain": [
       "<IPython.core.display.Markdown object>"
      ]
     },
     "metadata": {},
     "output_type": "display_data"
    },
    {
     "data": {
      "text/markdown": [
       "\n",
       "|||\n",
       "|---:|:---|\n",
       "| [![arXiv](https://img.shields.io/badge/arXiv-arXiv:2311.18006-b31b1b.svg)](https://arxiv.org/abs/arXiv:2311.18006) | **Digging into the Interior of Hot Cores with ALMA: Spiral Accretion into  the High-mass Protostellar Core G336.01-0.82**  |\n",
       "|| F. Olguin, et al. -- incl., <mark>S. Li</mark> |\n",
       "|*Appeared on*| *2023-12-01*|\n",
       "|*Comments*| *11 pages, 5 figures, 2 appendices. Accepted for publication in ApJL. Interactive figure available at this https URL*|\n",
       "|**Abstract**| We observed the high-mass star-forming core G336.01-0.82 at 1.3 mm and 0.05'' (~150 au) angular resolution with the Atacama Large Millimeter/submillimeter Array (ALMA) as part of the Digging into the Interior of Hot Cores with ALMA (DIHCA) survey. These high-resolution observations reveal two spiral streamers feeding a circumstellar disk at opposite sides in great detail. Molecular line emission from CH$_3$OH shows velocity gradients along the streamers consistent with infall. Similarly, a flattened envelope model with rotation and infall implies a mass larger than 10 M$_\\odot$ for the central source and a centrifugal barrier of 300 au. The location of the centrifugal barrier is consistent with local peaks in the continuum emission. We argue that gas brought by the spiral streamers is accumulating at the centrifugal barrier, which can result in future accretion burst events. A total high infall rate of ~$4\\times10^{-4}$ M$_\\odot$ yr$^{-1}$ is derived by matching models to the observed velocity gradient along the streamers. Their contribution account for 20-50% the global infall rate of the core, indicating streamers play an important role in the formation of high-mass stars. |"
      ],
      "text/plain": [
       "[arXiv:2311.18006] Digging into the Interior of Hot Cores with ALMA: Spiral Accretion into  the High-mass Protostellar Core G336.01-0.82\n",
       "\tF. Olguin, et al. -- incl., <mark>S. Li</mark>"
      ]
     },
     "metadata": {},
     "output_type": "display_data"
    },
    {
     "data": {
      "text/markdown": [
       "\n",
       "|||\n",
       "|---:|:---|\n",
       "| [![arXiv](https://img.shields.io/badge/arXiv-arXiv:2311.18016-b31b1b.svg)](https://arxiv.org/abs/arXiv:2311.18016) | **Preparing for low surface brightness science with the Vera C. Rubin  Observatory: A Comparison of Observable and Simulated Intracluster Light  Fractions**  |\n",
       "|| S. Brough, et al. -- incl., <mark>A. Pillepich</mark> |\n",
       "|*Appeared on*| *2023-12-01*|\n",
       "|*Comments*| *Submitted for publication in MNRAS, posted to arXiv after responding to two positive rounds of referee comments. Key results in Figs 3, 5, 6 and 11*|\n",
       "|**Abstract**| Intracluster Light (ICL) provides an important record of the interactions galaxy clusters have undergone. However, we are limited in our understanding by our measurement methods. To address this we measure the fraction of cluster light that is held in the Brightest Cluster Galaxy and ICL (BCG+ICL fraction) and the ICL alone (ICL fraction) using observational methods (Surface Brightness Threshold-SB, Non-Parametric Measure-NP, Composite Models-CM, Multi-Galaxy Fitting-MGF) and new approaches under development (Wavelet Decomposition-WD) applied to mock images of 61 galaxy clusters (14<log10 M_200c/M_solar <14.5) from four cosmological hydrodynamical simulations. We compare the BCG+ICL and ICL fractions from observational measures with those using simulated measures (aperture and kinematic separations). The ICL fractions measured by kinematic separation are significantly larger than observed fractions. We find the measurements are related and provide equations to estimate kinematic ICL fractions from observed fractions. The different observational techniques give consistent BCG+ICL and ICL fractions but are biased to underestimating the BCG+ICL and ICL fractions when compared with aperture simulation measures. Comparing the different methods and algorithms we find that the MGF algorithm is most consistent with the simulations, and CM and SB methods show the smallest projection effects for the BCG+ICL and ICL fractions respectively. The Ahad (CM), MGF and WD algorithms are best set up to process larger samples, however, the WD algorithm in its current form is susceptible to projection effects. We recommend that new algorithms using these methods are explored to analyse the massive samples that Rubin Observatory's Legacy Survey of Space and Time will provide. |"
      ],
      "text/plain": [
       "[arXiv:2311.18016] Preparing for low surface brightness science with the Vera C. Rubin  Observatory: A Comparison of Observable and Simulated Intracluster Light  Fractions\n",
       "\tS. Brough, et al. -- incl., <mark>A. Pillepich</mark>"
      ]
     },
     "metadata": {},
     "output_type": "display_data"
    },
    {
     "data": {
      "text/markdown": [
       "\n",
       "|||\n",
       "|---:|:---|\n",
       "| [![arXiv](https://img.shields.io/badge/arXiv-arXiv:2311.18067-b31b1b.svg)](https://arxiv.org/abs/arXiv:2311.18067) | **A Two-Component Probability Distribution Function Describes the mid-IR  Emission from the Disks of Star-Forming Galaxies**  |\n",
       "|| D. Pathak, et al. -- incl., <mark>E. Schinnerer</mark> |\n",
       "|*Appeared on*| *2023-12-01*|\n",
       "|*Comments*| *30 pages without appendix, 17 figures, (with appendix images of full sample: 56 pages, 39 figures), accepted in AJ*|\n",
       "|**Abstract**| High-resolution JWST-MIRI images of nearby spiral galaxies reveal emission with complex substructures that trace dust heated both by massive young stars and the diffuse interstellar radiation field. We present high angular (0.\"85) and physical resolution (20-80 pc) measurements of the probability distribution function (PDF) of mid-infrared (mid-IR) emission (7.7-21 $\\mu$m) from 19 nearby star-forming galaxies from the PHANGS-JWST Cycle-1 Treasury. The PDFs of mid-IR emission from the disks of all 19 galaxies consistently show two distinct components: an approximately log-normal distribution at lower intensities and a high-intensity power-law component. These two components only emerge once individual star-forming regions are resolved. Comparing with locations of HII regions identified from VLT/MUSE H$\\alpha$-mapping, we infer that the power-law component arises from star-forming regions and thus primarily traces dust heated by young stars. In the continuum-dominated 21 $\\mu$m band, the power-law is more prominent and contains roughly half of the total flux. At 7.7-11.3 $\\mu$m, the power-law is suppressed by the destruction of small grains (including PAHs) close to HII regions while the log-normal component tracing the dust column in diffuse regions appears more prominent. The width and shape of the log-normal diffuse emission PDFs in galactic disks remain consistent across our sample, implying a log-normal gas column density $N$(H)$\\approx10^{21}$cm$^{-2}$ shaped by supersonic turbulence with typical (isothermal) turbulent Mach numbers $\\approx5-15$. Finally, we describe how the PDFs of galactic disks are assembled from dusty HII regions and diffuse gas, and discuss how the measured PDF parameters correlate with global properties such as star-formation rate and gas surface density. |"
      ],
      "text/plain": [
       "[arXiv:2311.18067] A Two-Component Probability Distribution Function Describes the mid-IR  Emission from the Disks of Star-Forming Galaxies\n",
       "\tD. Pathak, et al. -- incl., <mark>E. Schinnerer</mark>"
      ]
     },
     "metadata": {},
     "output_type": "display_data"
    },
    {
     "data": {
      "text/markdown": [
       "## Failed papers"
      ],
      "text/plain": [
       "<IPython.core.display.Markdown object>"
      ]
     },
     "metadata": {},
     "output_type": "display_data"
    },
    {
     "data": {
      "text/markdown": [
       "\n",
       "|||\n",
       "|---:|:---|\n",
       "| [![arXiv](https://img.shields.io/badge/arXiv-arXiv:2311.18321-b31b1b.svg)](https://arxiv.org/abs/arXiv:2311.18321) | **2D disc modelling of the JWST line spectrum of EX Lupi**  |\n",
       "|| P. Woitke, et al. -- incl., <mark>A. Kospal</mark> |\n",
       "|*Appeared on*| *2023-12-01*|\n",
       "|*Comments*| *accepted by A&A, 25 pages, 15 figures, 7 tables*|\n",
       "|**Abstract**| We introduce a number of new theoretical approaches and improvements to the thermo-chemical disc modelling code ProDiMo to better predict and analyse the JWST line spectra of protoplanetary discs. We develop a new line escape probability method for disc geometries, a new scheme for dust settling, and discuss how to apply UV molecular shielding factors to photorates in 2D disc geometry. We show that these assumptions are crucial for the determination of the gas heating/cooling rates and discuss how they affect the predicted molecular concentrations and line emissions. We apply our revised 2D models to the protoplanetary disc around the T Tauri star EX Lupi in quiescent state. We calculate infrared line emission spectra between 5 and 20 mic by CO, H2O, OH, CO2, HCN, C2H2 and H2, including lines of atoms and ions, using our full 2D predictions of molecular abundances, dust opacities, gas and dust temperatures. We develop a disc model with a slowly increasing surface density structure around the inner rim that can simultaneously fit the spectral energy distribution, the overall shape of the JWST spectrum of EX Lupi, and the main observed molecular characteristics in terms of column densities, emitting areas and molecular emission temperatures, which all result from one consistent disc model. The spatial structure of the line emitting regions of the different molecules is discussed. High abundances of HCN and C2H2 are caused in the model by stellar X-ray irradiation of the gas around the inner rim. |\n",
       "|<p style=\"color:green\"> **ERROR** </p>| <p style=\"color:green\">affiliation error: mpia.affiliation_verifications: 'Heidelberg' keyword not found.</p> |"
      ],
      "text/plain": [
       "<IPython.core.display.Markdown object>"
      ]
     },
     "metadata": {},
     "output_type": "display_data"
    }
   ],
   "source": [
    "import datetime\n",
    "today = str(datetime.date.today())\n",
    "logfile = f\"_build/html/logs/log-{today}.md\"\n",
    "\n",
    "\n",
    "with open(logfile, 'w') as logs:\n",
    "    # Success\n",
    "    logs.write(f'# Arxiv on Deck 2: Logs - {today}\\n\\n')\n",
    "    logs.write(\"\"\"* Arxiv had {0:,d} new papers\\n\"\"\".format(len(new_papers)))\n",
    "    logs.write(\"\"\"    * {0:,d} with possible author matches\\n\\n\"\"\".format(len(candidates)))\n",
    "    logs.write(\"## Sucessful papers\\n\\n\")\n",
    "    display(Markdown(\"## Successful papers\"))\n",
    "    success = [k[0] for k in documents]\n",
    "    for candid in candidates:\n",
    "        if candid['identifier'].split(':')[-1] in success:\n",
    "            display(candid)\n",
    "            logs.write(candid.generate_markdown_text() + '\\n\\n')\n",
    "\n",
    "    ## failed\n",
    "    logs.write(\"## Failed papers\\n\\n\")\n",
    "    display(Markdown(\"## Failed papers\"))\n",
    "    failed = sorted(failed, key=lambda x: x[1])\n",
    "    current_reason = \"\"\n",
    "    for paper, reason in failed:\n",
    "        if 'affiliation' in reason:\n",
    "            color = 'green'\n",
    "        else:\n",
    "            color = 'red'\n",
    "        data = Markdown(\n",
    "                paper.generate_markdown_text() + \n",
    "                f'\\n|<p style=\"color:{color:s}\"> **ERROR** </p>| <p style=\"color:{color:s}\">{reason:s}</p> |'\n",
    "               )\n",
    "        if reason != current_reason:\n",
    "            logs.write(f'### {reason:s} \\n\\n')\n",
    "            current_reason = reason\n",
    "        logs.write(data.data + '\\n\\n')\n",
    "        \n",
    "        # only display here the important errors (all in logs)\n",
    "        # if color in ('red',):\n",
    "        display(data)"
   ]
  },
  {
   "cell_type": "markdown",
   "id": "472d20ee",
   "metadata": {
    "papermill": {
     "duration": 0.004633,
     "end_time": "2023-12-01T04:09:51.085961",
     "exception": false,
     "start_time": "2023-12-01T04:09:51.081328",
     "status": "completed"
    },
    "tags": []
   },
   "source": [
    "## Export documents\n",
    "\n",
    "We now write the .md files and export relevant images"
   ]
  },
  {
   "cell_type": "code",
   "execution_count": 6,
   "id": "d426aed9",
   "metadata": {
    "execution": {
     "iopub.execute_input": "2023-12-01T04:09:51.096212Z",
     "iopub.status.busy": "2023-12-01T04:09:51.095882Z",
     "iopub.status.idle": "2023-12-01T04:09:51.102030Z",
     "shell.execute_reply": "2023-12-01T04:09:51.101456Z"
    },
    "papermill": {
     "duration": 0.012799,
     "end_time": "2023-12-01T04:09:51.103359",
     "exception": false,
     "start_time": "2023-12-01T04:09:51.090560",
     "status": "completed"
    },
    "tags": []
   },
   "outputs": [],
   "source": [
    "def export_markdown_summary(md: str, md_fname:str, directory: str):\n",
    "    \"\"\"Export MD document and associated relevant images\"\"\"\n",
    "    import os\n",
    "    import shutil\n",
    "    import re\n",
    "\n",
    "    if (os.path.exists(directory) and not os.path.isdir(directory)):\n",
    "        raise RuntimeError(f\"a non-directory file exists with name {directory:s}\")\n",
    "\n",
    "    if (not os.path.exists(directory)):\n",
    "        print(f\"creating directory {directory:s}\")\n",
    "        os.mkdir(directory)\n",
    "\n",
    "    fig_fnames = (re.compile(r'\\[Fig.*\\]\\((.*)\\)').findall(md) + \n",
    "                  re.compile(r'\\<img src=\"([^>\\s]*)\"[^>]*/>').findall(md))\n",
    "    for fname in fig_fnames:\n",
    "        if 'http' in fname:\n",
    "            # No need to copy online figures\n",
    "            continue\n",
    "        destdir = os.path.join(directory, os.path.dirname(fname))\n",
    "        destfname = os.path.join(destdir, os.path.basename(fname))\n",
    "        try:\n",
    "            os.makedirs(destdir)\n",
    "        except FileExistsError:\n",
    "            pass\n",
    "        shutil.copy(fname, destfname)\n",
    "    with open(os.path.join(directory, md_fname), 'w') as fout:\n",
    "        fout.write(md)\n",
    "    print(\"exported in \", os.path.join(directory, md_fname))\n",
    "    [print(\"    + \" + os.path.join(directory,fk)) for fk in fig_fnames]"
   ]
  },
  {
   "cell_type": "code",
   "execution_count": 7,
   "id": "014d04a4",
   "metadata": {
    "execution": {
     "iopub.execute_input": "2023-12-01T04:09:51.113762Z",
     "iopub.status.busy": "2023-12-01T04:09:51.113310Z",
     "iopub.status.idle": "2023-12-01T04:09:51.133099Z",
     "shell.execute_reply": "2023-12-01T04:09:51.132482Z"
    },
    "papermill": {
     "duration": 0.026404,
     "end_time": "2023-12-01T04:09:51.134461",
     "exception": false,
     "start_time": "2023-12-01T04:09:51.108057",
     "status": "completed"
    },
    "tags": []
   },
   "outputs": [
    {
     "name": "stdout",
     "output_type": "stream",
     "text": [
      "exported in  _build/html/2311.18006.md\n",
      "    + _build/html/tmp_2311.18006/./fig2.png\n",
      "    + _build/html/tmp_2311.18006/./fig1.png\n",
      "    + _build/html/tmp_2311.18006/./fig3.png\n",
      "exported in  _build/html/2311.18016.md\n",
      "    + _build/html/tmp_2311.18016/./Sims_BCG_clustermass.png\n",
      "    + _build/html/tmp_2311.18016/./Sims_clustermass.png\n",
      "    + _build/html/tmp_2311.18016/./ICLBCG_Frac_clustermass.png\n",
      "    + _build/html/tmp_2311.18016/./ICLBCG_FracDiff_histo.png\n",
      "    + _build/html/tmp_2311.18016/./ICL_Frac_clustermass_aper.png\n",
      "exported in  _build/html/2311.18067.md\n",
      "    + _build/html/tmp_2311.18067/./overalltiles_NGC4321.png\n",
      "    + _build/html/tmp_2311.18067/./HII_PDFs_v0p9p2_atGauss0p85.png\n",
      "    + _build/html/tmp_2311.18067/./HII_logPDFs_v0p9p2_atGauss0p85.png\n"
     ]
    }
   ],
   "source": [
    "for paper_id, md in documents:\n",
    "    export_markdown_summary(md, f\"{paper_id:s}.md\", '_build/html/')"
   ]
  },
  {
   "cell_type": "markdown",
   "id": "f087a0a7",
   "metadata": {
    "papermill": {
     "duration": 0.004657,
     "end_time": "2023-12-01T04:09:51.143879",
     "exception": false,
     "start_time": "2023-12-01T04:09:51.139222",
     "status": "completed"
    },
    "tags": []
   },
   "source": [
    "## Display the papers\n",
    "\n",
    "Not necessary but allows for a quick check."
   ]
  },
  {
   "cell_type": "code",
   "execution_count": 8,
   "id": "fd25f625",
   "metadata": {
    "execution": {
     "iopub.execute_input": "2023-12-01T04:09:51.154523Z",
     "iopub.status.busy": "2023-12-01T04:09:51.154144Z",
     "iopub.status.idle": "2023-12-01T04:09:51.160966Z",
     "shell.execute_reply": "2023-12-01T04:09:51.160376Z"
    },
    "papermill": {
     "duration": 0.013561,
     "end_time": "2023-12-01T04:09:51.162264",
     "exception": false,
     "start_time": "2023-12-01T04:09:51.148703",
     "status": "completed"
    },
    "scrolled": false,
    "tags": []
   },
   "outputs": [
    {
     "data": {
      "text/markdown": [
       "<div class=\"macros\" style=\"visibility:hidden;\">\n",
       "$\\newcommand{\\ensuremath}{}$\n",
       "$\\newcommand{\\xspace}{}$\n",
       "$\\newcommand{\\object}[1]{\\texttt{#1}}$\n",
       "$\\newcommand{\\farcs}{{.}''}$\n",
       "$\\newcommand{\\farcm}{{.}'}$\n",
       "$\\newcommand{\\arcsec}{''}$\n",
       "$\\newcommand{\\arcmin}{'}$\n",
       "$\\newcommand{\\ion}[2]{#1#2}$\n",
       "$\\newcommand{\\textsc}[1]{\\textrm{#1}}$\n",
       "$\\newcommand{\\hl}[1]{\\textrm{#1}}$\n",
       "$\\newcommand{\\footnote}[1]{}$\n",
       "$\\newcommand{\\vdag}{(v)^\\dagger}$\n",
       "$\\newcommand$\n",
       "$\\newcommand$\n",
       "$\\newcommand{\\msun}{{\\rm M}_\\sun}$\n",
       "$\\newcommand{\\lsun}{{\\rm L}_\\sun}$\n",
       "$\\newcommand{\\kms}{km s^{-1}}$</div>\n",
       "\n",
       "\n",
       "\n",
       "<div id=\"title\">\n",
       "\n",
       "# Digging into the Interior of Hot Cores with ALMA: Spiral Accretion into the High-mass Protostellar Core G336.01--0.82\n",
       "\n",
       "</div>\n",
       "<div id=\"comments\">\n",
       "\n",
       "[![arXiv](https://img.shields.io/badge/arXiv-2311.18006-b31b1b.svg)](https://arxiv.org/abs/2311.18006)<mark>Appeared on: 2023-12-01</mark> -  _11 pages, 5 figures, 2 appendices. Accepted for publication in ApJL. Interactive figure available at this https URL_\n",
       "\n",
       "</div>\n",
       "<div id=\"authors\">\n",
       "\n",
       "F. A. Olguin, et al. -- incl., <mark>S. Li</mark>\n",
       "\n",
       "</div>\n",
       "<div id=\"abstract\">\n",
       "\n",
       "**Abstract:** We observed the high-mass star-forming core G336.01--0.82 at 1.3 mm and 0 $\\farcs$ 05 ( ${\\sim}150$ au) angular resolution with the Atacama Large Millimeter/submillimeter Array (ALMA) as part of the Digging into the Interior of Hot Cores with ALMA (DIHCA) survey.These high-resolution observations reveal two spiral streamers feeding a circumstellar disk at opposite sides in great detail.Molecular line emission from $CH_3$ OH shows velocity gradients along the streamers consistent with infall.Similarly, a flattened envelope model with rotation and infall implies  a mass larger than  10 $\\msun$ for the central source and a centrifugal barrier of 300 au.The location of the centrifugal barrier is consistent with local peaks in the continuum emission.We argue that gas brought by the spiral streamers is accumulating at the centrifugal barrier, which can result in future accretion burst events.A total high infall rate of ${\\sim}4\\times10^{-4}$ $\\msun$ yr $^{-1}$ is derived by matching models to the observed velocity gradient along the streamers.Their contribution account for 20--50 \\% the global infall rate of the core, indicating streamers play an important role in the formation of high-mass stars.\n",
       "\n",
       "</div>\n",
       "\n",
       "<div id=\"div_fig1\">\n",
       "\n",
       "<img src=\"tmp_2311.18006/./fig2.png\" alt=\"Fig7\" width=\"100%\"/>\n",
       "\n",
       "**Figure 7. -** $CH_3$OH $J_{K_a,K_c}=18_{3,15}-17_{4,14} A, v_t=0$ moment maps.\n",
       "(a) shows the zeroth order moment map.\n",
       "The blue and red lines mark the position of the north and south spiral-like features, respectively.\n",
       "The arrow marks the direction of the pv map in Figure \\ref{fig:ch3oh:pvmap}(a), and corresponds to the line crossing all three continuum structures (PA=125◦).\n",
       "(b) shows the first order moment map, and (c) the second order moment map.\n",
       "The continuum is shown in contours with the same levels as in Figure \\ref{fig:continuum}, and the continuum peaks are marked with green triangles.\n",
       "The beam size ellipse is shown in the lower left corner.\n",
       " (*fig:ch3oh:moment*)\n",
       "\n",
       "</div>\n",
       "<div id=\"div_fig2\">\n",
       "\n",
       "<img src=\"tmp_2311.18006/./fig1.png\" alt=\"Fig6\" width=\"100%\"/>\n",
       "\n",
       "**Figure 6. -** ALMA maps of G336.01--0.82.\n",
       "(a) Continuum map at 1.3 mm.\n",
       "The position of the three local continuum peaks is indicated by the green labeled triangles.\n",
       "The contour levels are --3, 5, 10, 20, 40, $80\\times\\sigma_{\\rm rms}$ with $\\sigma_{\\rm rms}=55$$\\mu$Jy beam$^{-1}$.\n",
       "(c) $HC_3$N $J=24-23 l=1f ,v_7=1$ zeroth moment map contours over the continuum map.\n",
       "The contours are 5, 8, 10, 15, 20, $25\\times\\sigma_{\\rm rms}$ with $\\sigma_{\\rm rms} = 11$ mJy beam$^{-1}$ km s$^{-1}$.\n",
       "(b) SiO $J=5-4$ blue- and red-shifted, and\n",
       "The contour levels are 5, 6, 7 ... $12\\times\\sigma_{\\rm rms}$ with $\\sigma_{\\rm rms} = 7.7$ mJy beam$^{-1}$ km s$^{-1}$.\n",
       "Velocity integration ranges with respect to the systemic velocity are annotated by the respective color.\n",
       "The beam size of the continuum map is shown in the lower left corner.\n",
       " (*fig:continuum*)\n",
       "\n",
       "</div>\n",
       "<div id=\"div_fig3\">\n",
       "\n",
       "<img src=\"tmp_2311.18006/./fig3.png\" alt=\"Fig8\" width=\"100%\"/>\n",
       "\n",
       "**Figure 8. -** $CH_3$OH $J_{K_a,K_c}=18_{3,15}-17_{4,14} A, v_t=0$ pv maps.\n",
       "(a) pv map following the gray line in Figure \\ref{fig:ch3oh:moment}(a), i.e., perpendicular to the outflow/rotation axis (PA=125◦) and a slit width of 0$\\farcs$1.\n",
       "The dotted green lines show the offset of the continuum sources ALMA1-WEST (left) and ALMA1-EAST (right).\n",
       "(b) pv map of the northern spiral-like feature following the blue line in Figure \\ref{fig:ch3oh:moment}(a) and a slit width of 0$\\farcs$05.\n",
       "Zero offset corresponds to ALMA1-WEST.\n",
       "(c) pv map of the southern spiral-like feature following the red line in Figure \\ref{fig:ch3oh:moment}(a) and a slit width of 0$\\farcs$05.\n",
       "Gray contour levels are --6, --3, 3, 6, 12 and $24\\times\\sigma$ with $\\sigma=1.2$ mJy beam$^{-1}$.\n",
       "The blue contours in (a) are from an IRE model (see \\S\\ref{sec:discussion:rotation}) at the same levels as the data relative to the peak, while the blue lines in (b) and (c) correspond to linear fits to data over $10\\sigma$.\n",
       "Zero offset corresponds to ALMA1-EAST.\n",
       "The dashed green line correspond to the systemic velocity $v_{\\rm LSR}=-47.2$ km s$^{-1}$.\n",
       " (*fig:ch3oh:pvmap*)\n",
       "\n",
       "</div><div id=\"qrcode\"><img src=https://api.qrserver.com/v1/create-qr-code/?size=100x100&data=\"https://arxiv.org/abs/2311.18006\"></div>"
      ],
      "text/plain": [
       "<IPython.core.display.Markdown object>"
      ]
     },
     "metadata": {},
     "output_type": "display_data"
    },
    {
     "data": {
      "text/markdown": [
       "<div class=\"macros\" style=\"visibility:hidden;\">\n",
       "$\\newcommand{\\ensuremath}{}$\n",
       "$\\newcommand{\\xspace}{}$\n",
       "$\\newcommand{\\object}[1]{\\texttt{#1}}$\n",
       "$\\newcommand{\\farcs}{{.}''}$\n",
       "$\\newcommand{\\farcm}{{.}'}$\n",
       "$\\newcommand{\\arcsec}{''}$\n",
       "$\\newcommand{\\arcmin}{'}$\n",
       "$\\newcommand{\\ion}[2]{#1#2}$\n",
       "$\\newcommand{\\textsc}[1]{\\textrm{#1}}$\n",
       "$\\newcommand{\\hl}[1]{\\textrm{#1}}$\n",
       "$\\newcommand{\\footnote}[1]{}$\n",
       "$\\newcommand{\\ap}[1]{\\textcolor{magenta}{#1}}$\n",
       "$\\newcommand{\\bycristina}[1]{\\textcolor{red}{#1}}$\n",
       "$\\newcommand{\\mireia}[1]{\\textcolor{purple}{#1}}$\n",
       "$\\newcommand{\\rhealucas}[1]{{\\color{lightblue}#1}}$\n",
       "$\\newcommand{\\amael}[1]{\\textcolor{brown}{#1}}$\n",
       "$\\newcommand{\\rossella}[1]{\\textcolor{cobalt}{#1}}$\n",
       "$\\newcommand{\\yb}[1]{\\textcolor{orange}{#1}}$\n",
       "$\\newcommand{\\gm}[1]{\\textcolor{emerald}{#1}}$\n",
       "$\\newcommand{\\thebibliography}{\\DeclareRobustCommand{\\VAN}[3]{##3}\\VANthebibliography}$\n",
       "$\\newcommand{\\}{MSUN}$</div>\n",
       "\n",
       "\n",
       "\n",
       "<div id=\"title\">\n",
       "\n",
       "# Preparing for low surface brightness science with the Vera C. Rubin Observatory: A Comparison of Observable and Simulated Intracluster Light Fractions\n",
       "\n",
       "</div>\n",
       "<div id=\"comments\">\n",
       "\n",
       "[![arXiv](https://img.shields.io/badge/arXiv-2311.18016-b31b1b.svg)](https://arxiv.org/abs/2311.18016)<mark>Appeared on: 2023-12-01</mark> -  _Submitted for publication in MNRAS, posted to arXiv after responding to two positive rounds of referee comments. Key results in Figs 3, 5, 6 and 11_\n",
       "\n",
       "</div>\n",
       "<div id=\"authors\">\n",
       "\n",
       "S. Brough, et al. -- incl., <mark>A. Pillepich</mark>\n",
       "\n",
       "</div>\n",
       "<div id=\"abstract\">\n",
       "\n",
       "**Abstract:** Intracluster Light (ICL) provides an important record of the interactions galaxy clusters have undergone. However, we are limited in our understanding by our measurement methods. To address this we measure the fraction of cluster light that is held in the Brightest Cluster Galaxy and ICL (BCG+ICL fraction) and the ICL alone (ICL fraction) using observational methods (Surface Brightness Threshold-SB, Non-Parametric Measure-NP, Composite Models-CM, Multi-Galaxy Fitting-MGF) and new approaches under development (Wavelet Decomposition-WD) applied to mock images of 61 galaxy clusters ( $14<$ log $_{10}M_{200c}/M_{\\odot}<14.5$ ) from four cosmological hydrodynamical simulations. We compare the BCG+ICL and ICL fractions from observational measures with those using simulated measures (aperture and kinematic separations). The ICL fractions measured by kinematic separation are significantly larger than observed fractions. We find the measurements are related and provide equations to estimate kinematic ICL fractions from observed fractions. The different observational techniques give consistent BCG+ICL and ICL fractions but are biased to underestimating the BCG+ICL and ICL fractions when compared with aperture simulation measures. Comparing the different methods and algorithms we find that the MGF algorithm is most consistent with the simulations, and CM and SB methods show the smallest projection effects for the BCG+ICL and ICL fractions respectively. The Ahad (CM), MGF and WD algorithms are best set up to process larger samples, however, the WD algorithm in its current form is susceptible to projection effects. We recommend that new algorithms using these methods are explored to analyse the massive samples that Rubin Observatory's Legacy Survey of Space and Time will provide.\n",
       "\n",
       "</div>\n",
       "\n",
       "<div id=\"div_fig1\">\n",
       "\n",
       "<img src=\"tmp_2311.18016/./Sims_BCG_clustermass.png\" alt=\"Fig1.1\" width=\"50%\"/><img src=\"tmp_2311.18016/./Sims_clustermass.png\" alt=\"Fig1.2\" width=\"50%\"/>\n",
       "\n",
       "**Figure 1. -** The simulated BCG+ICL mass (upper panel) and the simulated BCG+ICL fraction (middle panel) as a function of cluster mass. The lower panel shows the ICL fraction measured from the simulations in 2 different apertures (left panel: 30 kpc$-$1 Mpc; middle panel: 100 kpc$-$1 Mpc) and the right-hand panel shows the ICL fraction measured using kinematic separation (crosses) as a function of cluster mass. The different simulations are indicated by the legend and include the one cluster from the higher-resolution Magneticum Box4 simulation.\n",
       "     (*fig:Sims_bcgmass*)\n",
       "\n",
       "</div>\n",
       "<div id=\"div_fig2\">\n",
       "\n",
       "<img src=\"tmp_2311.18016/./ICLBCG_Frac_clustermass.png\" alt=\"Fig2.1\" width=\"50%\"/><img src=\"tmp_2311.18016/./ICLBCG_FracDiff_histo.png\" alt=\"Fig2.2\" width=\"50%\"/>\n",
       "\n",
       "**Figure 2. -** \n",
       "    Observed BCG+ICL fraction (mean measurement over the measured projections). The upper panel shows the observed BCG+ICL fraction as a function of cluster halo mass coloured by measurement type for the 61 simulated clusters across the 4 simulations. We do not observe a dependence of any of the measures on cluster halo mass. The lower panel shows the difference between the Observed BCG+ICL fraction and the Simulated 0 - 1 Mpc Aperture measurement. The observed measurements are presented grouped by measurement type: Non-Parametric Measures (NP; Gonzalez and Martinez-Lombilla), Composite Models (CM; Ahad and Ragusa), Multi-Galaxy Fitting (MGF; CICLE) and Wavelet Decomposition (WD; DAWIS-SS and DAWIS-W). The Surface Brightness Threshold method is not included for BCG+ICL fractions as it removes the BCG by definition. The numbers of clusters measured are different for each of the observed measures.  This figure demonstrates that all methods agree to <0.1 dex in excising the contribution of satellites. (*fig:ICLBCG_Frac_clustermass*)\n",
       "\n",
       "</div>\n",
       "<div id=\"div_fig3\">\n",
       "\n",
       "<img src=\"tmp_2311.18016/./ICL_Frac_clustermass_aper.png\" alt=\"Fig11\" width=\"100%\"/>\n",
       "\n",
       "**Figure 11. -** Observed ICL fraction (mean measurement over simulated projections) as a function of cluster halo mass coloured by measurement type for the 61 simulated clusters across the 4 simulations. The different panels show the three Simulated aperture measures ($30-1$ Mpc, $50-1$ Mpc, $100-1$ Mpc). We do not observe a dependence of any of the measures on cluster halo mass. (*fig:ICL_Frac_clustermass_aper*)\n",
       "\n",
       "</div><div id=\"qrcode\"><img src=https://api.qrserver.com/v1/create-qr-code/?size=100x100&data=\"https://arxiv.org/abs/2311.18016\"></div>"
      ],
      "text/plain": [
       "<IPython.core.display.Markdown object>"
      ]
     },
     "metadata": {},
     "output_type": "display_data"
    },
    {
     "data": {
      "text/markdown": [
       "<div class=\"macros\" style=\"visibility:hidden;\">\n",
       "$\\newcommand{\\ensuremath}{}$\n",
       "$\\newcommand{\\xspace}{}$\n",
       "$\\newcommand{\\object}[1]{\\texttt{#1}}$\n",
       "$\\newcommand{\\farcs}{{.}''}$\n",
       "$\\newcommand{\\farcm}{{.}'}$\n",
       "$\\newcommand{\\arcsec}{''}$\n",
       "$\\newcommand{\\arcmin}{'}$\n",
       "$\\newcommand{\\ion}[2]{#1#2}$\n",
       "$\\newcommand{\\textsc}[1]{\\textrm{#1}}$\n",
       "$\\newcommand{\\hl}[1]{\\textrm{#1}}$\n",
       "$\\newcommand{\\footnote}[1]{}$\n",
       "$\\newcommand{\\vdag}{(v)^\\dagger}$\n",
       "$\\newcommand$\n",
       "$\\newcommand$\n",
       "$\\newcommand{\\edit}[1]$</div>\n",
       "\n",
       "\n",
       "\n",
       "<div id=\"title\">\n",
       "\n",
       "# A Two-Component Probability Distribution Function Describes the mid-IR Emission from the Disks of Star-Forming Galaxies\n",
       "\n",
       "</div>\n",
       "<div id=\"comments\">\n",
       "\n",
       "[![arXiv](https://img.shields.io/badge/arXiv-2311.18067-b31b1b.svg)](https://arxiv.org/abs/2311.18067)<mark>Appeared on: 2023-12-01</mark> -  _30 pages without appendix, 17 figures, (with appendix images of full sample: 56 pages, 39 figures), accepted in AJ_\n",
       "\n",
       "</div>\n",
       "<div id=\"authors\">\n",
       "\n",
       "D. Pathak, et al. -- incl., <mark>E. Schinnerer</mark>\n",
       "\n",
       "</div>\n",
       "<div id=\"abstract\">\n",
       "\n",
       "**Abstract:** High-resolution JWST-MIRI images of nearby spiral galaxies reveal emission with complex substructures that trace dust heated both by massive young stars and the diffuse interstellar radiation field. We present high angular ( $0\\farcs85$ ) and physical resolution ( $20{-}80$ pc) measurements of the probability distribution function (PDF) of mid-infrared (mid-IR) emission (7.7--2 $\\mu$ m) from $19$ nearby star-forming galaxies from the PHANGS-JWST Cycle-1 Treasury. The PDFs of mid-IR emission from the disks of all 19 galaxies consistently show two distinct components: an approximately log-normal distribution at lower intensities and a high-intensity power-law component. These two components only emerge once individual star-forming regions are resolved. Comparing with locations of $\\ion{H}{2}$ regions identified from VLT/MUSE H $\\alpha$ -mapping, we infer that the power-law component arises from star-forming regions and thus primarily traces dust heated by young stars. In the continuum-dominated 21 $\\mu$ m band, the power-law is more prominent and contains roughly half of the total flux. At 7.7--11.3 $\\mu$ m, the power-law is suppressed by the destruction of small grains (including PAHs) close to $\\ion{H}{2}$ regions while the log-normal component tracing the dust column in diffuse regions appears more prominent. The width and shape of the log-normal diffuse emission PDFs in galactic disks remain consistent across our sample, implying a log-normal gas column density $N$ (H) $\\approx10^{21}$ cm $^{-2}$ shaped by supersonic turbulence with typical (isothermal) turbulent Mach numbers $\\approx5-15$ . Finally, we describe how the PDFs of galactic disks are assembled from dusty $\\ion{H}{2}$ regions and diffuse gas, and discuss how the measured PDF parameters correlate with global properties such as star-formation rate and gas surface density.\n",
       "\n",
       "</div>\n",
       "\n",
       "<div id=\"div_fig1\">\n",
       "\n",
       "<img src=\"tmp_2311.18067/./overalltiles_NGC4321.png\" alt=\"Fig3\" width=\"100%\"/>\n",
       "\n",
       "**Figure 3. -** Images and PDFs of emission at 7.7 $\\mu m$, 10 $\\mu m$, 11.3 $\\mu m$, and 21 $\\mu m$ for NGC4321 at $0$\\farcs$85$(60 pc) resolution. **Top:** JWST images for NGC4321 in each MIRI filter, restricted to the footprint of JWST-MUSE coverage ($\\sim 10$ kpc, dashed blue). **Middle:** PDFs of inclination-corrected intensity from each image. The colors in the PDF map to the colorbar in intensity used to display each image. Vertical dashed lines indicate the RMS noise level in each filter at $0$\\farcs$85$. **Bottom:** The same PDFs as the middle row, now with the y-axis on a logarithmic stretch to highlight features at the high-intensity end. (*fig:overall_ngc4321*)\n",
       "\n",
       "</div>\n",
       "<div id=\"div_fig2\">\n",
       "\n",
       "<img src=\"tmp_2311.18067/./HII_PDFs_v0p9p2_atGauss0p85.png\" alt=\"Fig8\" width=\"100%\"/>\n",
       "\n",
       "**Figure 8. -** The galactic disk PDFs (in black) of our full sample of 19 galaxies at 7.7, 10, 11.3, and 21 $\\mu$m show an overall log normal distribution with a power-law tail at higher intensities. The power-law component can be primarily attributed to emission from individual $\\ion${H}{2} regions (blue) and the log normal component comes from emission from outside $\\ion${H}{2} regions (red). Vertical dashed lines indicate the rms noise level in each filter for reference. The best-fit log normal mean $\\mu$ and dispersion $\\sigma$ are included for each PDF. (*fig:PDF_HII*)\n",
       "\n",
       "</div>\n",
       "<div id=\"div_fig3\">\n",
       "\n",
       "<img src=\"tmp_2311.18067/./HII_logPDFs_v0p9p2_atGauss0p85.png\" alt=\"Fig9\" width=\"100%\"/>\n",
       "\n",
       "**Figure 9. -** The disk PDFs (in black) of our sample of 19 galaxies at 7.7, 10, 11.3, and 21 $\\mu$m decomposed by contributions from $\\ion${H}{2} regions (blue) and outside (red). These are the same PDFs as Figure \\ref{fig:PDF_HII} but in log-stretch to highlight the power-law component. The best-fit power-law is shown in dark blue. The corresponding best-fit $\\ion${H}{2} region power-law index $m$ and log-log intercept $c$ for each PDF are included for each panel. (*fig:logPDF_HII*)\n",
       "\n",
       "</div><div id=\"qrcode\"><img src=https://api.qrserver.com/v1/create-qr-code/?size=100x100&data=\"https://arxiv.org/abs/2311.18067\"></div>"
      ],
      "text/plain": [
       "<IPython.core.display.Markdown object>"
      ]
     },
     "metadata": {},
     "output_type": "display_data"
    }
   ],
   "source": [
    "[display(Markdown(k[1])) for k in documents];"
   ]
  },
  {
   "cell_type": "markdown",
   "id": "873873a4",
   "metadata": {
    "papermill": {
     "duration": 0.005172,
     "end_time": "2023-12-01T04:09:51.172874",
     "exception": false,
     "start_time": "2023-12-01T04:09:51.167702",
     "status": "completed"
    },
    "tags": []
   },
   "source": [
    "# Create HTML index"
   ]
  },
  {
   "cell_type": "code",
   "execution_count": 9,
   "id": "cf665672",
   "metadata": {
    "execution": {
     "iopub.execute_input": "2023-12-01T04:09:51.184431Z",
     "iopub.status.busy": "2023-12-01T04:09:51.184197Z",
     "iopub.status.idle": "2023-12-01T04:09:51.192911Z",
     "shell.execute_reply": "2023-12-01T04:09:51.192390Z"
    },
    "papermill": {
     "duration": 0.01603,
     "end_time": "2023-12-01T04:09:51.194240",
     "exception": false,
     "start_time": "2023-12-01T04:09:51.178210",
     "status": "completed"
    },
    "tags": []
   },
   "outputs": [
    {
     "name": "stdout",
     "output_type": "stream",
     "text": [
      "330  publications files modified in the last 7 days.\n"
     ]
    }
   ],
   "source": [
    "from datetime import datetime, timedelta, timezone\n",
    "from glob import glob\n",
    "import os\n",
    "\n",
    "files = glob('_build/html/*.md')\n",
    "days = 7\n",
    "now = datetime.today()\n",
    "res = []\n",
    "for fk in files:\n",
    "    stat_result = os.stat(fk).st_ctime\n",
    "    modified = datetime.fromtimestamp(stat_result, tz=timezone.utc).replace(tzinfo=None)\n",
    "    delta = now.today() - modified\n",
    "    if delta <= timedelta(days=days):\n",
    "        res.append((delta.seconds, fk))\n",
    "res = [k[1] for k in reversed(sorted(res, key=lambda x:x[1]))]\n",
    "npub = len(res)\n",
    "print(len(res), f\" publications files modified in the last {days:d} days.\")\n",
    "# [ print('\\t', k) for k in res ];"
   ]
  },
  {
   "cell_type": "code",
   "execution_count": 10,
   "id": "015de740",
   "metadata": {
    "execution": {
     "iopub.execute_input": "2023-12-01T04:09:51.205977Z",
     "iopub.status.busy": "2023-12-01T04:09:51.205632Z",
     "iopub.status.idle": "2023-12-01T04:09:51.224780Z",
     "shell.execute_reply": "2023-12-01T04:09:51.224187Z"
    },
    "papermill": {
     "duration": 0.026593,
     "end_time": "2023-12-01T04:09:51.226214",
     "exception": false,
     "start_time": "2023-12-01T04:09:51.199621",
     "status": "completed"
    },
    "tags": []
   },
   "outputs": [
    {
     "name": "stdout",
     "output_type": "stream",
     "text": [
      "3  publications in the last 7 days.\n"
     ]
    }
   ],
   "source": [
    "import datetime\n",
    "from glob import glob\n",
    "\n",
    "def get_last_n_days(lst, days=1):\n",
    "    \"\"\" Get the documents from the last n days \"\"\"\n",
    "    sorted_lst = sorted(lst, key=lambda x: x[1], reverse=True)\n",
    "    for fname, date in sorted_lst:\n",
    "        if date >= str(datetime.date.today() - datetime.timedelta(days=days)):\n",
    "            yield fname\n",
    "\n",
    "def extract_appearance_dates(lst_file):\n",
    "    dates = []\n",
    "\n",
    "    def get_date(line):\n",
    "        return line\\\n",
    "            .split('Appeared on:')[-1]\\\n",
    "            .split('</mark>')[0].strip()\n",
    "\n",
    "    for fname in lst:\n",
    "        with open(fname, 'r') as f:\n",
    "            found_date = False\n",
    "            for line in f:\n",
    "                if not found_date:\n",
    "                    if \"Appeared on\" in line:\n",
    "                        found_date = True\n",
    "                        dates.append((fname, get_date(line)))\n",
    "                else:\n",
    "                    break\n",
    "    return dates\n",
    "\n",
    "from glob import glob\n",
    "lst = glob('_build/html/*md')\n",
    "days = 7\n",
    "dates = extract_appearance_dates(lst)\n",
    "res = list(get_last_n_days(dates, days))\n",
    "npub = len(res)\n",
    "print(len(res), f\" publications in the last {days:d} days.\")"
   ]
  },
  {
   "cell_type": "code",
   "execution_count": 11,
   "id": "52ca0208",
   "metadata": {
    "execution": {
     "iopub.execute_input": "2023-12-01T04:09:51.238205Z",
     "iopub.status.busy": "2023-12-01T04:09:51.237829Z",
     "iopub.status.idle": "2023-12-01T04:09:51.242709Z",
     "shell.execute_reply": "2023-12-01T04:09:51.242107Z"
    },
    "papermill": {
     "duration": 0.012388,
     "end_time": "2023-12-01T04:09:51.244170",
     "exception": false,
     "start_time": "2023-12-01T04:09:51.231782",
     "status": "completed"
    },
    "scrolled": false,
    "tags": []
   },
   "outputs": [],
   "source": [
    "def create_carousel(npub=4):\n",
    "    \"\"\" Generate the HTML code for a carousel with `npub` slides \"\"\"\n",
    "    carousel = [\"\"\"  <div class=\"carousel\" \"\"\",\n",
    "                \"\"\"       data-flickity='{ \"autoPlay\": 10000, \"adaptiveHeight\": true, \"resize\": true, \"wrapAround\": true, \"pauseAutoPlayOnHover\": true, \"groupCells\": 1 }' id=\"asyncTypeset\">\"\"\"\n",
    "                ]\n",
    "    \n",
    "    item_str = \"\"\"    <div class=\"carousel-cell\"> <div id=\"slide{k}\" class=\"md_view\">Content {k}</div> </div>\"\"\"\n",
    "    for k in range(1, npub + 1):\n",
    "        carousel.append(item_str.format(k=k))\n",
    "    carousel.append(\"  </div>\")\n",
    "    return '\\n'.join(carousel)\n",
    "\n",
    "def create_grid(npub=4):\n",
    "    \"\"\" Generate the HTML code for a flat grid with `npub` slides \"\"\"\n",
    "    grid = [\"\"\"  <div class=\"grid\"> \"\"\",\n",
    "                ]\n",
    "    \n",
    "    item_str = \"\"\"    <div class=\"grid-item\"> <div id=\"slide{k}\" class=\"md_view\">Content {k}</div> </div>\"\"\"\n",
    "    for k in range(1, npub + 1):\n",
    "        grid.append(item_str.format(k=k))\n",
    "    grid.append(\"  </div>\")\n",
    "    return '\\n'.join(grid)"
   ]
  },
  {
   "cell_type": "code",
   "execution_count": 12,
   "id": "a6eac5b6",
   "metadata": {
    "execution": {
     "iopub.execute_input": "2023-12-01T04:09:51.256377Z",
     "iopub.status.busy": "2023-12-01T04:09:51.255901Z",
     "iopub.status.idle": "2023-12-01T04:09:51.260930Z",
     "shell.execute_reply": "2023-12-01T04:09:51.260322Z"
    },
    "papermill": {
     "duration": 0.012639,
     "end_time": "2023-12-01T04:09:51.262406",
     "exception": false,
     "start_time": "2023-12-01T04:09:51.249767",
     "status": "completed"
    },
    "scrolled": false,
    "tags": []
   },
   "outputs": [],
   "source": [
    "carousel = create_carousel(npub)\n",
    "docs = ', '.join(['\"{0:s}\"'.format(k.split('/')[-1]) for k in res])\n",
    "slides = ', '.join([f'\"slide{k}\"' for k in range(1, npub + 1)])\n",
    "\n",
    "with open(\"daily_template.html\", \"r\") as tpl:\n",
    "    page = tpl.read()\n",
    "    page = page.replace(\"{%-- carousel:s --%}\", carousel)\\\n",
    "               .replace(\"{%-- suptitle:s --%}\",  \"7-day archives\" )\\\n",
    "               .replace(\"{%-- docs:s --%}\", docs)\\\n",
    "               .replace(\"{%-- slides:s --%}\", slides)\n",
    "    \n",
    "with open(\"_build/html/index_7days.html\", 'w') as fout:\n",
    "    fout.write(page)"
   ]
  },
  {
   "cell_type": "code",
   "execution_count": 13,
   "id": "adc1a1ec",
   "metadata": {
    "execution": {
     "iopub.execute_input": "2023-12-01T04:09:51.274683Z",
     "iopub.status.busy": "2023-12-01T04:09:51.274187Z",
     "iopub.status.idle": "2023-12-01T04:09:51.280695Z",
     "shell.execute_reply": "2023-12-01T04:09:51.280091Z"
    },
    "papermill": {
     "duration": 0.013958,
     "end_time": "2023-12-01T04:09:51.282020",
     "exception": false,
     "start_time": "2023-12-01T04:09:51.268062",
     "status": "completed"
    },
    "tags": []
   },
   "outputs": [
    {
     "name": "stdout",
     "output_type": "stream",
     "text": [
      "3  publications in the last day.\n"
     ]
    }
   ],
   "source": [
    "# redo for today\n",
    "days = 1\n",
    "res = list(get_last_n_days(dates, days))\n",
    "npub = len(res)\n",
    "print(len(res), f\" publications in the last day.\")\n",
    "\n",
    "carousel = create_carousel(npub)\n",
    "docs = ', '.join(['\"{0:s}\"'.format(k.split('/')[-1]) for k in res])\n",
    "slides = ', '.join([f'\"slide{k}\"' for k in range(1, npub + 1)])\n",
    "\n",
    "with open(\"daily_template.html\", \"r\") as tpl:\n",
    "    page = tpl.read()\n",
    "    page = page.replace(\"{%-- carousel:s --%}\", carousel)\\\n",
    "               .replace(\"{%-- suptitle:s --%}\",  \"Daily\" )\\\n",
    "               .replace(\"{%-- docs:s --%}\", docs)\\\n",
    "               .replace(\"{%-- slides:s --%}\", slides)\n",
    "    \n",
    "# print(carousel, docs, slides)\n",
    "# print(page)\n",
    "with open(\"_build/html/index_daily.html\", 'w') as fout:\n",
    "    fout.write(page)"
   ]
  },
  {
   "cell_type": "code",
   "execution_count": 14,
   "id": "00eece82",
   "metadata": {
    "execution": {
     "iopub.execute_input": "2023-12-01T04:09:51.294256Z",
     "iopub.status.busy": "2023-12-01T04:09:51.293688Z",
     "iopub.status.idle": "2023-12-01T04:09:51.300102Z",
     "shell.execute_reply": "2023-12-01T04:09:51.299570Z"
    },
    "papermill": {
     "duration": 0.013886,
     "end_time": "2023-12-01T04:09:51.301463",
     "exception": false,
     "start_time": "2023-12-01T04:09:51.287577",
     "status": "completed"
    },
    "scrolled": false,
    "tags": []
   },
   "outputs": [
    {
     "name": "stdout",
     "output_type": "stream",
     "text": [
      "6  6 publications selected.\n"
     ]
    }
   ],
   "source": [
    "# Create the flat grid of the last N papers (fixed number regardless of dates)\n",
    "from itertools import islice \n",
    "\n",
    "npub = 6\n",
    "res = [k[0] for k in (islice(reversed(sorted(dates, key=lambda x: x[1])), 6))]\n",
    "print(len(res), f\" {npub} publications selected.\")\n",
    "\n",
    "grid = create_grid(npub)\n",
    "docs = ', '.join(['\"{0:s}\"'.format(k.split('/')[-1]) for k in res])\n",
    "slides = ', '.join([f'\"slide{k}\"' for k in range(1, npub + 1)])\n",
    "\n",
    "with open(\"grid_template.html\", \"r\") as tpl:\n",
    "    page = tpl.read()\n",
    "    page = page.replace(\"{%-- grid-content:s --%}\", grid)\\\n",
    "               .replace(\"{%-- suptitle:s --%}\",  f\"Last {npub:,d} papers\" )\\\n",
    "               .replace(\"{%-- docs:s --%}\", docs)\\\n",
    "               .replace(\"{%-- slides:s --%}\", slides)\n",
    "    \n",
    "# print(grid, docs, slides)\n",
    "# print(page)\n",
    "with open(\"_build/html/index_npub_grid.html\", 'w') as fout:\n",
    "    fout.write(page)"
   ]
  }
 ],
 "metadata": {
  "kernelspec": {
   "display_name": "Python 3 (ipykernel)",
   "language": "python",
   "name": "python3"
  },
  "language_info": {
   "codemirror_mode": {
    "name": "ipython",
    "version": 3
   },
   "file_extension": ".py",
   "mimetype": "text/x-python",
   "name": "python",
   "nbconvert_exporter": "python",
   "pygments_lexer": "ipython3",
   "version": "3.9.18"
  },
  "papermill": {
   "default_parameters": {},
   "duration": 81.024991,
   "end_time": "2023-12-01T04:09:51.523820",
   "environment_variables": {},
   "exception": null,
   "input_path": "MPIA daily digest.ipynb",
   "output_path": "log.ipynb",
   "parameters": {},
   "start_time": "2023-12-01T04:08:30.498829",
   "version": "2.5.0"
  },
  "vscode": {
   "interpreter": {
    "hash": "aee8b7b246df8f9039afb4144a1f6fd8d2ca17a180786b69acc140d282b71a49"
   }
  },
  "widgets": {
   "application/vnd.jupyter.widget-state+json": {
    "state": {
     "075571480d244cc68dca828d2006d51d": {
      "model_module": "@jupyter-widgets/controls",
      "model_module_version": "2.0.0",
      "model_name": "ProgressStyleModel",
      "state": {
       "_model_module": "@jupyter-widgets/controls",
       "_model_module_version": "2.0.0",
       "_model_name": "ProgressStyleModel",
       "_view_count": null,
       "_view_module": "@jupyter-widgets/base",
       "_view_module_version": "2.0.0",
       "_view_name": "StyleView",
       "bar_color": null,
       "description_width": ""
      }
     },
     "0f8c17b2ce6d4634a4ad444211955f04": {
      "model_module": "@jupyter-widgets/base",
      "model_module_version": "2.0.0",
      "model_name": "LayoutModel",
      "state": {
       "_model_module": "@jupyter-widgets/base",
       "_model_module_version": "2.0.0",
       "_model_name": "LayoutModel",
       "_view_count": null,
       "_view_module": "@jupyter-widgets/base",
       "_view_module_version": "2.0.0",
       "_view_name": "LayoutView",
       "align_content": null,
       "align_items": null,
       "align_self": null,
       "border_bottom": null,
       "border_left": null,
       "border_right": null,
       "border_top": null,
       "bottom": null,
       "display": null,
       "flex": null,
       "flex_flow": null,
       "grid_area": null,
       "grid_auto_columns": null,
       "grid_auto_flow": null,
       "grid_auto_rows": null,
       "grid_column": null,
       "grid_gap": null,
       "grid_row": null,
       "grid_template_areas": null,
       "grid_template_columns": null,
       "grid_template_rows": null,
       "height": null,
       "justify_content": null,
       "justify_items": null,
       "left": null,
       "margin": null,
       "max_height": null,
       "max_width": null,
       "min_height": null,
       "min_width": null,
       "object_fit": null,
       "object_position": null,
       "order": null,
       "overflow": null,
       "padding": null,
       "right": null,
       "top": null,
       "visibility": null,
       "width": null
      }
     },
     "253f70e565304585978478a4f5429a38": {
      "model_module": "@jupyter-widgets/controls",
      "model_module_version": "2.0.0",
      "model_name": "FloatProgressModel",
      "state": {
       "_dom_classes": [],
       "_model_module": "@jupyter-widgets/controls",
       "_model_module_version": "2.0.0",
       "_model_name": "FloatProgressModel",
       "_view_count": null,
       "_view_module": "@jupyter-widgets/controls",
       "_view_module_version": "2.0.0",
       "_view_name": "ProgressView",
       "bar_style": "success",
       "description": "",
       "description_allow_html": false,
       "layout": "IPY_MODEL_dbdd9f6ab2c24336ba14c2b1b949387c",
       "max": 4.0,
       "min": 0.0,
       "orientation": "horizontal",
       "style": "IPY_MODEL_075571480d244cc68dca828d2006d51d",
       "tabbable": null,
       "tooltip": null,
       "value": 4.0
      }
     },
     "339526f07b9747e4a9cc989beab4c7c5": {
      "model_module": "@jupyter-widgets/controls",
      "model_module_version": "2.0.0",
      "model_name": "HTMLStyleModel",
      "state": {
       "_model_module": "@jupyter-widgets/controls",
       "_model_module_version": "2.0.0",
       "_model_name": "HTMLStyleModel",
       "_view_count": null,
       "_view_module": "@jupyter-widgets/base",
       "_view_module_version": "2.0.0",
       "_view_name": "StyleView",
       "background": null,
       "description_width": "",
       "font_size": null,
       "text_color": null
      }
     },
     "415108f2cd814fd59c32d18843b955ec": {
      "model_module": "@jupyter-widgets/base",
      "model_module_version": "2.0.0",
      "model_name": "LayoutModel",
      "state": {
       "_model_module": "@jupyter-widgets/base",
       "_model_module_version": "2.0.0",
       "_model_name": "LayoutModel",
       "_view_count": null,
       "_view_module": "@jupyter-widgets/base",
       "_view_module_version": "2.0.0",
       "_view_name": "LayoutView",
       "align_content": null,
       "align_items": null,
       "align_self": null,
       "border_bottom": null,
       "border_left": null,
       "border_right": null,
       "border_top": null,
       "bottom": null,
       "display": null,
       "flex": null,
       "flex_flow": null,
       "grid_area": null,
       "grid_auto_columns": null,
       "grid_auto_flow": null,
       "grid_auto_rows": null,
       "grid_column": null,
       "grid_gap": null,
       "grid_row": null,
       "grid_template_areas": null,
       "grid_template_columns": null,
       "grid_template_rows": null,
       "height": null,
       "justify_content": null,
       "justify_items": null,
       "left": null,
       "margin": null,
       "max_height": null,
       "max_width": null,
       "min_height": null,
       "min_width": null,
       "object_fit": null,
       "object_position": null,
       "order": null,
       "overflow": null,
       "padding": null,
       "right": null,
       "top": null,
       "visibility": null,
       "width": null
      }
     },
     "494a33b258b040928edf1b3126001499": {
      "model_module": "@jupyter-widgets/controls",
      "model_module_version": "2.0.0",
      "model_name": "HTMLModel",
      "state": {
       "_dom_classes": [],
       "_model_module": "@jupyter-widgets/controls",
       "_model_module_version": "2.0.0",
       "_model_name": "HTMLModel",
       "_view_count": null,
       "_view_module": "@jupyter-widgets/controls",
       "_view_module_version": "2.0.0",
       "_view_name": "HTMLView",
       "description": "",
       "description_allow_html": false,
       "layout": "IPY_MODEL_ba9c6246082e4da9a3e31b274155b910",
       "placeholder": "​",
       "style": "IPY_MODEL_c2a6a2dcedc64e1aaa2e0569be7bd3c2",
       "tabbable": null,
       "tooltip": null,
       "value": "100%"
      }
     },
     "a73bd9c07e4745d8912371474c48df7d": {
      "model_module": "@jupyter-widgets/controls",
      "model_module_version": "2.0.0",
      "model_name": "HBoxModel",
      "state": {
       "_dom_classes": [],
       "_model_module": "@jupyter-widgets/controls",
       "_model_module_version": "2.0.0",
       "_model_name": "HBoxModel",
       "_view_count": null,
       "_view_module": "@jupyter-widgets/controls",
       "_view_module_version": "2.0.0",
       "_view_name": "HBoxView",
       "box_style": "",
       "children": [
        "IPY_MODEL_494a33b258b040928edf1b3126001499",
        "IPY_MODEL_253f70e565304585978478a4f5429a38",
        "IPY_MODEL_ab24913dbd564144af65ff5bd83dbcbb"
       ],
       "layout": "IPY_MODEL_415108f2cd814fd59c32d18843b955ec",
       "tabbable": null,
       "tooltip": null
      }
     },
     "ab24913dbd564144af65ff5bd83dbcbb": {
      "model_module": "@jupyter-widgets/controls",
      "model_module_version": "2.0.0",
      "model_name": "HTMLModel",
      "state": {
       "_dom_classes": [],
       "_model_module": "@jupyter-widgets/controls",
       "_model_module_version": "2.0.0",
       "_model_name": "HTMLModel",
       "_view_count": null,
       "_view_module": "@jupyter-widgets/controls",
       "_view_module_version": "2.0.0",
       "_view_name": "HTMLView",
       "description": "",
       "description_allow_html": false,
       "layout": "IPY_MODEL_0f8c17b2ce6d4634a4ad444211955f04",
       "placeholder": "​",
       "style": "IPY_MODEL_339526f07b9747e4a9cc989beab4c7c5",
       "tabbable": null,
       "tooltip": null,
       "value": " 4/4 [01:00&lt;00:00, 13.32s/it]"
      }
     },
     "ba9c6246082e4da9a3e31b274155b910": {
      "model_module": "@jupyter-widgets/base",
      "model_module_version": "2.0.0",
      "model_name": "LayoutModel",
      "state": {
       "_model_module": "@jupyter-widgets/base",
       "_model_module_version": "2.0.0",
       "_model_name": "LayoutModel",
       "_view_count": null,
       "_view_module": "@jupyter-widgets/base",
       "_view_module_version": "2.0.0",
       "_view_name": "LayoutView",
       "align_content": null,
       "align_items": null,
       "align_self": null,
       "border_bottom": null,
       "border_left": null,
       "border_right": null,
       "border_top": null,
       "bottom": null,
       "display": null,
       "flex": null,
       "flex_flow": null,
       "grid_area": null,
       "grid_auto_columns": null,
       "grid_auto_flow": null,
       "grid_auto_rows": null,
       "grid_column": null,
       "grid_gap": null,
       "grid_row": null,
       "grid_template_areas": null,
       "grid_template_columns": null,
       "grid_template_rows": null,
       "height": null,
       "justify_content": null,
       "justify_items": null,
       "left": null,
       "margin": null,
       "max_height": null,
       "max_width": null,
       "min_height": null,
       "min_width": null,
       "object_fit": null,
       "object_position": null,
       "order": null,
       "overflow": null,
       "padding": null,
       "right": null,
       "top": null,
       "visibility": null,
       "width": null
      }
     },
     "c2a6a2dcedc64e1aaa2e0569be7bd3c2": {
      "model_module": "@jupyter-widgets/controls",
      "model_module_version": "2.0.0",
      "model_name": "HTMLStyleModel",
      "state": {
       "_model_module": "@jupyter-widgets/controls",
       "_model_module_version": "2.0.0",
       "_model_name": "HTMLStyleModel",
       "_view_count": null,
       "_view_module": "@jupyter-widgets/base",
       "_view_module_version": "2.0.0",
       "_view_name": "StyleView",
       "background": null,
       "description_width": "",
       "font_size": null,
       "text_color": null
      }
     },
     "dbdd9f6ab2c24336ba14c2b1b949387c": {
      "model_module": "@jupyter-widgets/base",
      "model_module_version": "2.0.0",
      "model_name": "LayoutModel",
      "state": {
       "_model_module": "@jupyter-widgets/base",
       "_model_module_version": "2.0.0",
       "_model_name": "LayoutModel",
       "_view_count": null,
       "_view_module": "@jupyter-widgets/base",
       "_view_module_version": "2.0.0",
       "_view_name": "LayoutView",
       "align_content": null,
       "align_items": null,
       "align_self": null,
       "border_bottom": null,
       "border_left": null,
       "border_right": null,
       "border_top": null,
       "bottom": null,
       "display": null,
       "flex": null,
       "flex_flow": null,
       "grid_area": null,
       "grid_auto_columns": null,
       "grid_auto_flow": null,
       "grid_auto_rows": null,
       "grid_column": null,
       "grid_gap": null,
       "grid_row": null,
       "grid_template_areas": null,
       "grid_template_columns": null,
       "grid_template_rows": null,
       "height": null,
       "justify_content": null,
       "justify_items": null,
       "left": null,
       "margin": null,
       "max_height": null,
       "max_width": null,
       "min_height": null,
       "min_width": null,
       "object_fit": null,
       "object_position": null,
       "order": null,
       "overflow": null,
       "padding": null,
       "right": null,
       "top": null,
       "visibility": null,
       "width": null
      }
     }
    },
    "version_major": 2,
    "version_minor": 0
   }
  }
 },
 "nbformat": 4,
 "nbformat_minor": 5
}