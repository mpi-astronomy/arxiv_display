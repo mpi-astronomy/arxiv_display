{
 "cells": [
  {
   "cell_type": "markdown",
   "id": "92bcb855",
   "metadata": {
    "papermill": {
     "duration": 0.003954,
     "end_time": "2025-09-15T04:12:25.851130",
     "exception": false,
     "start_time": "2025-09-15T04:12:25.847176",
     "status": "completed"
    },
    "tags": []
   },
   "source": [
    "# MPIA Arxiv on Deck 2\n",
    "\n",
    "Contains the steps to produce the paper extractions."
   ]
  },
  {
   "cell_type": "code",
   "execution_count": 1,
   "id": "3a0d6e11",
   "metadata": {
    "execution": {
     "iopub.execute_input": "2025-09-15T04:12:25.858490Z",
     "iopub.status.busy": "2025-09-15T04:12:25.858224Z",
     "iopub.status.idle": "2025-09-15T04:12:26.060562Z",
     "shell.execute_reply": "2025-09-15T04:12:26.059904Z"
    },
    "papermill": {
     "duration": 0.207557,
     "end_time": "2025-09-15T04:12:26.061945",
     "exception": false,
     "start_time": "2025-09-15T04:12:25.854388",
     "status": "completed"
    },
    "tags": []
   },
   "outputs": [],
   "source": [
    "# Imports\n",
    "import os\n",
    "from IPython.display import Markdown, display\n",
    "from tqdm.notebook import tqdm\n",
    "import warnings\n",
    "from PIL import Image \n",
    "import re\n",
    "\n",
    "# requires arxiv_on_deck_2\n",
    "\n",
    "from arxiv_on_deck_2.arxiv2 import (get_new_papers, \n",
    "                                    get_paper_from_identifier,\n",
    "                                    retrieve_document_source, \n",
    "                                    get_markdown_badge)\n",
    "from arxiv_on_deck_2 import (latex,\n",
    "                             latex_bib,\n",
    "                             mpia,\n",
    "                             highlight_authors_in_list)\n",
    "\n",
    "# Sometimes images are really big\n",
    "Image.MAX_IMAGE_PIXELS = 1000000000 "
   ]
  },
  {
   "cell_type": "code",
   "execution_count": 2,
   "id": "22aa9d44",
   "metadata": {
    "execution": {
     "iopub.execute_input": "2025-09-15T04:12:26.069065Z",
     "iopub.status.busy": "2025-09-15T04:12:26.068834Z",
     "iopub.status.idle": "2025-09-15T04:12:26.076702Z",
     "shell.execute_reply": "2025-09-15T04:12:26.076147Z"
    },
    "papermill": {
     "duration": 0.012482,
     "end_time": "2025-09-15T04:12:26.077711",
     "exception": false,
     "start_time": "2025-09-15T04:12:26.065229",
     "status": "completed"
    },
    "tags": []
   },
   "outputs": [],
   "source": [
    "# Some useful definitions.\n",
    "\n",
    "class AffiliationWarning(UserWarning):\n",
    "    pass\n",
    "\n",
    "class AffiliationError(RuntimeError):\n",
    "    pass\n",
    "\n",
    "def validation(source: str):\n",
    "    \"\"\"Raises error paper during parsing of source file\n",
    "    \n",
    "    Allows checks before parsing TeX code.\n",
    "    \n",
    "    Raises AffiliationWarning\n",
    "    \"\"\"\n",
    "    check = mpia.affiliation_verifications(source, verbose=True)\n",
    "    if check is not True:\n",
    "        raise AffiliationError(\"mpia.affiliation_verifications: \" + check)\n",
    "\n",
    "        \n",
    "warnings.simplefilter('always', AffiliationWarning)\n",
    "\n",
    "\n",
    "def get_markdown_qrcode(paper_id: str):\n",
    "    \"\"\" Generate a qrcode to the arxiv page using qrserver.com\n",
    "    \n",
    "    :param paper: Arxiv paper\n",
    "    :returns: markdown text\n",
    "    \"\"\"\n",
    "    url = r\"https://api.qrserver.com/v1/create-qr-code/?size=100x100&data=\"\n",
    "    txt = f\"\"\"<img src={url}\"https://arxiv.org/abs/{paper_id}\">\"\"\"\n",
    "    txt = '<div id=\"qrcode\">' + txt + '</div>'\n",
    "    return txt\n",
    "\n",
    "\n",
    "def clean_non_western_encoded_characters_commands(text: str) -> str:\n",
    "    \"\"\" Remove non-western encoded characters from a string\n",
    "    List may need to grow.\n",
    "    \n",
    "    :param text: the text to clean\n",
    "    :return: the cleaned text\n",
    "    \"\"\"\n",
    "    text = re.sub(r\"(\\\\begin{CJK}{UTF8}{gbsn})(.*?)(\\\\end{CJK})\", r\"\\2\", text)\n",
    "    return text\n",
    "\n",
    "\n",
    "def get_initials(name: str) -> str:\n",
    "    \"\"\" Get the short name, e.g., A.-B. FamName\n",
    "    :param name: full name\n",
    "    :returns: initials\n",
    "    \"\"\"\n",
    "    initials = []\n",
    "    # account for non western names often in ()\n",
    "    if '(' in name:\n",
    "        name = clean_non_western_encoded_characters_commands(name)\n",
    "        suffix = re.findall(r\"\\((.*?)\\)\", name)[0]\n",
    "        name = name.replace(f\"({suffix})\", '')\n",
    "    else:\n",
    "        suffix = ''\n",
    "    split = name.split()\n",
    "    for token in split[:-1]:\n",
    "        if '-' in token:\n",
    "            current = '-'.join([k[0] + '.' for k in token.split('-')])\n",
    "        else:\n",
    "            current = token[0] + '.'\n",
    "        initials.append(current)\n",
    "    initials.append(split[-1].strip())\n",
    "    if suffix:\n",
    "        initials.append(f\"({suffix})\")\n",
    "    return ' '.join(initials)"
   ]
  },
  {
   "cell_type": "markdown",
   "id": "14bd6310",
   "metadata": {
    "papermill": {
     "duration": 0.002863,
     "end_time": "2025-09-15T04:12:26.083553",
     "exception": false,
     "start_time": "2025-09-15T04:12:26.080690",
     "status": "completed"
    },
    "tags": []
   },
   "source": [
    "## get list of arxiv paper candidates\n",
    "\n",
    "We use the MPIA mitarbeiter list webpage from mpia.de to get author names\n",
    "We then get all new papers from Arxiv and match authors"
   ]
  },
  {
   "cell_type": "code",
   "execution_count": 3,
   "id": "7ea813a8",
   "metadata": {
    "execution": {
     "iopub.execute_input": "2025-09-15T04:12:26.090226Z",
     "iopub.status.busy": "2025-09-15T04:12:26.090043Z",
     "iopub.status.idle": "2025-09-15T04:13:02.832275Z",
     "shell.execute_reply": "2025-09-15T04:13:02.831632Z"
    },
    "papermill": {
     "duration": 36.747017,
     "end_time": "2025-09-15T04:13:02.833551",
     "exception": false,
     "start_time": "2025-09-15T04:12:26.086534",
     "status": "completed"
    },
    "tags": []
   },
   "outputs": [],
   "source": [
    "# deal with the author list and edge cases of people that cannot be consistent on their name  \n",
    "\n",
    "def filter_non_scientists(name: str) -> bool:\n",
    "    \"\"\" Loose filter on expected authorships\n",
    "\n",
    "    removing IT, administration, technical staff\n",
    "    :param name: name\n",
    "    :returns: False if name is not a scientist\n",
    "    \"\"\"\n",
    "    remove_list = ['Licht', 'Binroth', 'Witzel', 'Jordan',\n",
    "                   'Zähringer', 'Scheerer', 'Hoffmann', 'Düe',\n",
    "                   'Hellmich', 'Enkler-Scharpegge', 'Witte-Nguy',\n",
    "                   'Dehen', 'Beckmann', 'Jager', 'Jäger'\n",
    "                  ]\n",
    "\n",
    "    for k in remove_list:\n",
    "        if k in name:\n",
    "            return False\n",
    "    return True\n",
    "\n",
    "def add_author_to_list(author_list: list) -> list:\n",
    "    \"\"\" Add author to list if not already in list\n",
    "    \n",
    "    :param author: author name\n",
    "    :param author_list: list of authors\n",
    "    :returns: updated list of authors\n",
    "    \"\"\"\n",
    "    add_list = ['T. Henning']\n",
    "\n",
    "    for author in add_list:\n",
    "        if author not in author_list:\n",
    "            author_list.append(author)\n",
    "    return author_list\n",
    "\n",
    "# get list from MPIA website\n",
    "# filter for non-scientists (mpia.get_mpia_mitarbeiter_list() does some filtering)\n",
    "mpia_authors = [k[1] for k in mpia.get_mpia_mitarbeiter_list() if filter_non_scientists(k[1])]\n",
    "# add some missing author because of inconsistencies in their MPIA name and author name on papers\n",
    "mpia_authors = add_author_to_list(mpia_authors)"
   ]
  },
  {
   "cell_type": "code",
   "execution_count": 4,
   "id": "2645e73a",
   "metadata": {
    "execution": {
     "iopub.execute_input": "2025-09-15T04:13:02.840681Z",
     "iopub.status.busy": "2025-09-15T04:13:02.840490Z",
     "iopub.status.idle": "2025-09-15T04:13:03.736420Z",
     "shell.execute_reply": "2025-09-15T04:13:03.735804Z"
    },
    "papermill": {
     "duration": 0.900575,
     "end_time": "2025-09-15T04:13:03.737481",
     "exception": false,
     "start_time": "2025-09-15T04:13:02.836906",
     "status": "completed"
    },
    "tags": []
   },
   "outputs": [
    {
     "name": "stdout",
     "output_type": "stream",
     "text": [
      "R. Burn  ->  R. Burn  |  ['R. Burn']\n",
      "J. Shi  ->  J. Shi  |  ['J. Shi']\n",
      "G. Chauvin  ->  G. Chauvin  |  ['G. Chauvin']\n",
      "M. Häberle  ->  M. Häberle  |  ['M. Häberle']\n"
     ]
    },
    {
     "name": "stdout",
     "output_type": "stream",
     "text": [
      "H.-W. Rix  ->  H.-W. Rix  |  ['H.-W. Rix']\n",
      "K. Jahnke  ->  K. Jahnke  |  ['K. Jahnke']\n",
      "S. Kraus  ->  S. Kraus  |  ['S. Kraus']\n",
      "Arxiv has 66 new papers today\n",
      "          7 with possible author matches\n"
     ]
    }
   ],
   "source": [
    "new_papers = get_new_papers()\n",
    "# add manual references\n",
    "add_paper_refs = []\n",
    "new_papers.extend([get_paper_from_identifier(k) for k in add_paper_refs])\n",
    "\n",
    "def robust_call(fn, value, *args, **kwargs):\n",
    "    try:\n",
    "        return fn(value, *args, **kwargs)\n",
    "    except Exception:\n",
    "        return value\n",
    "\n",
    "candidates = []\n",
    "for paperk in new_papers:\n",
    "    # Check author list with their initials\n",
    "    normed_author_list = [robust_call(mpia.get_initials, k) for k in paperk['authors']]\n",
    "    hl_authors = highlight_authors_in_list(normed_author_list, mpia_authors, verbose=True)\n",
    "    matches = [(hl, orig) for hl, orig in zip(hl_authors, paperk['authors']) if 'mark' in hl]\n",
    "    paperk['authors'] = hl_authors\n",
    "    if matches:\n",
    "        # only select paper if an author matched our list\n",
    "        candidates.append(paperk)\n",
    "print(\"\"\"Arxiv has {0:,d} new papers today\"\"\".format(len(new_papers)))        \n",
    "print(\"\"\"          {0:,d} with possible author matches\"\"\".format(len(candidates)))"
   ]
  },
  {
   "cell_type": "markdown",
   "id": "3543b34a",
   "metadata": {
    "papermill": {
     "duration": 0.003085,
     "end_time": "2025-09-15T04:13:03.744153",
     "exception": false,
     "start_time": "2025-09-15T04:13:03.741068",
     "status": "completed"
    },
    "tags": []
   },
   "source": [
    "# Parse sources and generate relevant outputs\n",
    "\n",
    "From the candidates, we do the following steps:\n",
    "* get their tarball from ArXiv (and extract data)\n",
    "* find the main .tex file: find one with \\documentclass{...} (sometimes it's non trivial)\n",
    "* Check affiliations with :func:`validation`, which uses :func:`mpia.affiliation_verifications`\n",
    "* If passing the affiliations: we parse the .tex source\n",
    "   * inject sub-documents into the main (flatten the main document)\n",
    "   * parse structure, extract information (title, abstract, authors, figures...)\n",
    "   * handles `\\graphicspath` if provided\n",
    "* Generate the .md document."
   ]
  },
  {
   "cell_type": "code",
   "execution_count": 5,
   "id": "9576b79e",
   "metadata": {
    "execution": {
     "iopub.execute_input": "2025-09-15T04:13:03.751194Z",
     "iopub.status.busy": "2025-09-15T04:13:03.750976Z",
     "iopub.status.idle": "2025-09-15T04:15:17.357473Z",
     "shell.execute_reply": "2025-09-15T04:15:17.356562Z"
    },
    "papermill": {
     "duration": 133.611358,
     "end_time": "2025-09-15T04:15:17.358591",
     "exception": false,
     "start_time": "2025-09-15T04:13:03.747233",
     "status": "completed"
    },
    "scrolled": false,
    "tags": []
   },
   "outputs": [
    {
     "data": {
      "application/vnd.jupyter.widget-view+json": {
       "model_id": "564321df3db344d9a1968d30aafcc67c",
       "version_major": 2,
       "version_minor": 0
      },
      "text/plain": [
       "  0%|          | 0/7 [00:00<?, ?it/s]"
      ]
     },
     "metadata": {},
     "output_type": "display_data"
    },
    {
     "name": "stdout",
     "output_type": "stream",
     "text": [
      "Retrieving document from  https://arxiv.org/e-print/2509.09762\n"
     ]
    },
    {
     "name": "stdout",
     "output_type": "stream",
     "text": [
      "extracting tarball to tmp_2509.09762... done.\n"
     ]
    },
    {
     "name": "stdout",
     "output_type": "stream",
     "text": [
      "R. Burn  ->  R. Burn  |  ['R. Burn']\n"
     ]
    },
    {
     "name": "stderr",
     "output_type": "stream",
     "text": [
      "/opt/hostedtoolcache/Python/3.9.23/x64/lib/python3.9/site-packages/arxiv_on_deck_2/latex.py:132: LatexWarning: attempting recovering figure bias_harps\n",
      "  warnings.warn(LatexWarning(f'attempting recovering figure {image}'))\n",
      "/opt/hostedtoolcache/Python/3.9.23/x64/lib/python3.9/site-packages/arxiv_on_deck_2/latex.py:137: LatexWarning: Recovered figure bias_harps as tmp_2509.09762/./bias_harps.pdf\n",
      "  warnings.warn(LatexWarning(f'Recovered figure {image} as {fname}'))\n"
     ]
    },
    {
     "name": "stderr",
     "output_type": "stream",
     "text": [
      "/opt/hostedtoolcache/Python/3.9.23/x64/lib/python3.9/site-packages/arxiv_on_deck_2/latex.py:132: LatexWarning: attempting recovering figure dist_kde_p\n",
      "  warnings.warn(LatexWarning(f'attempting recovering figure {image}'))\n",
      "/opt/hostedtoolcache/Python/3.9.23/x64/lib/python3.9/site-packages/arxiv_on_deck_2/latex.py:137: LatexWarning: Recovered figure dist_kde_p as tmp_2509.09762/./dist_kde_p.pdf\n",
      "  warnings.warn(LatexWarning(f'Recovered figure {image} as {fname}'))\n"
     ]
    },
    {
     "name": "stderr",
     "output_type": "stream",
     "text": [
      "/opt/hostedtoolcache/Python/3.9.23/x64/lib/python3.9/site-packages/arxiv_on_deck_2/latex.py:132: LatexWarning: attempting recovering figure canon_median_m_feh\n",
      "  warnings.warn(LatexWarning(f'attempting recovering figure {image}'))\n",
      "/opt/hostedtoolcache/Python/3.9.23/x64/lib/python3.9/site-packages/arxiv_on_deck_2/latex.py:137: LatexWarning: Recovered figure canon_median_m_feh as tmp_2509.09762/./canon_median_m_feh.pdf\n",
      "  warnings.warn(LatexWarning(f'Recovered figure {image} as {fname}'))\n"
     ]
    },
    {
     "name": "stderr",
     "output_type": "stream",
     "text": [
      "/opt/hostedtoolcache/Python/3.9.23/x64/lib/python3.9/site-packages/arxiv_on_deck_2/latex.py:132: LatexWarning: attempting recovering figure canon_median_m_e\n",
      "  warnings.warn(LatexWarning(f'attempting recovering figure {image}'))\n",
      "/opt/hostedtoolcache/Python/3.9.23/x64/lib/python3.9/site-packages/arxiv_on_deck_2/latex.py:137: LatexWarning: Recovered figure canon_median_m_e as tmp_2509.09762/./canon_median_m_e.pdf\n",
      "  warnings.warn(LatexWarning(f'Recovered figure {image} as {fname}'))\n"
     ]
    },
    {
     "name": "stderr",
     "output_type": "stream",
     "text": [
      "/opt/hostedtoolcache/Python/3.9.23/x64/lib/python3.9/site-packages/arxiv_on_deck_2/latex.py:132: LatexWarning: attempting recovering figure match_mult\n",
      "  warnings.warn(LatexWarning(f'attempting recovering figure {image}'))\n",
      "/opt/hostedtoolcache/Python/3.9.23/x64/lib/python3.9/site-packages/arxiv_on_deck_2/latex.py:137: LatexWarning: Recovered figure match_mult as tmp_2509.09762/./match_mult.pdf\n",
      "  warnings.warn(LatexWarning(f'Recovered figure {image} as {fname}'))\n",
      "/opt/hostedtoolcache/Python/3.9.23/x64/lib/python3.9/site-packages/arxiv_on_deck_2/latex.py:132: LatexWarning: attempting recovering figure match_cumul_m\n",
      "  warnings.warn(LatexWarning(f'attempting recovering figure {image}'))\n",
      "/opt/hostedtoolcache/Python/3.9.23/x64/lib/python3.9/site-packages/arxiv_on_deck_2/latex.py:137: LatexWarning: Recovered figure match_cumul_m as tmp_2509.09762/./match_cumul_m.pdf\n",
      "  warnings.warn(LatexWarning(f'Recovered figure {image} as {fname}'))\n"
     ]
    },
    {
     "name": "stderr",
     "output_type": "stream",
     "text": [
      "/opt/hostedtoolcache/Python/3.9.23/x64/lib/python3.9/site-packages/arxiv_on_deck_2/latex.py:132: LatexWarning: attempting recovering figure match_diag_pm\n",
      "  warnings.warn(LatexWarning(f'attempting recovering figure {image}'))\n",
      "/opt/hostedtoolcache/Python/3.9.23/x64/lib/python3.9/site-packages/arxiv_on_deck_2/latex.py:137: LatexWarning: Recovered figure match_diag_pm as tmp_2509.09762/./match_diag_pm.pdf\n",
      "  warnings.warn(LatexWarning(f'Recovered figure {image} as {fname}'))\n"
     ]
    },
    {
     "name": "stderr",
     "output_type": "stream",
     "text": [
      "/opt/hostedtoolcache/Python/3.9.23/x64/lib/python3.9/site-packages/arxiv_on_deck_2/latex.py:132: LatexWarning: attempting recovering figure nemb_cumul_m\n",
      "  warnings.warn(LatexWarning(f'attempting recovering figure {image}'))\n",
      "/opt/hostedtoolcache/Python/3.9.23/x64/lib/python3.9/site-packages/arxiv_on_deck_2/latex.py:137: LatexWarning: Recovered figure nemb_cumul_m as tmp_2509.09762/./nemb_cumul_m.pdf\n",
      "  warnings.warn(LatexWarning(f'Recovered figure {image} as {fname}'))\n",
      "/opt/hostedtoolcache/Python/3.9.23/x64/lib/python3.9/site-packages/arxiv_on_deck_2/latex.py:132: LatexWarning: attempting recovering figure psize_kde_m\n",
      "  warnings.warn(LatexWarning(f'attempting recovering figure {image}'))\n",
      "/opt/hostedtoolcache/Python/3.9.23/x64/lib/python3.9/site-packages/arxiv_on_deck_2/latex.py:137: LatexWarning: Recovered figure psize_kde_m as tmp_2509.09762/./psize_kde_m.pdf\n",
      "  warnings.warn(LatexWarning(f'Recovered figure {image} as {fname}'))\n"
     ]
    },
    {
     "name": "stderr",
     "output_type": "stream",
     "text": [
      "/opt/hostedtoolcache/Python/3.9.23/x64/lib/python3.9/site-packages/arxiv_on_deck_2/latex.py:132: LatexWarning: attempting recovering figure mig_kde_m\n",
      "  warnings.warn(LatexWarning(f'attempting recovering figure {image}'))\n",
      "/opt/hostedtoolcache/Python/3.9.23/x64/lib/python3.9/site-packages/arxiv_on_deck_2/latex.py:137: LatexWarning: Recovered figure mig_kde_m as tmp_2509.09762/./mig_kde_m.pdf\n",
      "  warnings.warn(LatexWarning(f'Recovered figure {image} as {fname}'))\n"
     ]
    },
    {
     "name": "stderr",
     "output_type": "stream",
     "text": [
      "/opt/hostedtoolcache/Python/3.9.23/x64/lib/python3.9/site-packages/arxiv_on_deck_2/latex.py:132: LatexWarning: attempting recovering figure stellar_masses\n",
      "  warnings.warn(LatexWarning(f'attempting recovering figure {image}'))\n",
      "/opt/hostedtoolcache/Python/3.9.23/x64/lib/python3.9/site-packages/arxiv_on_deck_2/latex.py:137: LatexWarning: Recovered figure stellar_masses as tmp_2509.09762/./stellar_masses.pdf\n",
      "  warnings.warn(LatexWarning(f'Recovered figure {image} as {fname}'))\n",
      "/opt/hostedtoolcache/Python/3.9.23/x64/lib/python3.9/site-packages/arxiv_on_deck_2/latex.py:132: LatexWarning: attempting recovering figure canon_mult\n",
      "  warnings.warn(LatexWarning(f'attempting recovering figure {image}'))\n",
      "/opt/hostedtoolcache/Python/3.9.23/x64/lib/python3.9/site-packages/arxiv_on_deck_2/latex.py:137: LatexWarning: Recovered figure canon_mult as tmp_2509.09762/./canon_mult.pdf\n",
      "  warnings.warn(LatexWarning(f'Recovered figure {image} as {fname}'))\n",
      "/opt/hostedtoolcache/Python/3.9.23/x64/lib/python3.9/site-packages/arxiv_on_deck_2/latex.py:132: LatexWarning: attempting recovering figure canon_mult_rel\n",
      "  warnings.warn(LatexWarning(f'attempting recovering figure {image}'))\n",
      "/opt/hostedtoolcache/Python/3.9.23/x64/lib/python3.9/site-packages/arxiv_on_deck_2/latex.py:137: LatexWarning: Recovered figure canon_mult_rel as tmp_2509.09762/./canon_mult_rel.pdf\n",
      "  warnings.warn(LatexWarning(f'Recovered figure {image} as {fname}'))\n"
     ]
    },
    {
     "name": "stderr",
     "output_type": "stream",
     "text": [
      "/opt/hostedtoolcache/Python/3.9.23/x64/lib/python3.9/site-packages/arxiv_on_deck_2/latex.py:132: LatexWarning: attempting recovering figure canon_kde_m\n",
      "  warnings.warn(LatexWarning(f'attempting recovering figure {image}'))\n",
      "/opt/hostedtoolcache/Python/3.9.23/x64/lib/python3.9/site-packages/arxiv_on_deck_2/latex.py:137: LatexWarning: Recovered figure canon_kde_m as tmp_2509.09762/./canon_kde_m.pdf\n",
      "  warnings.warn(LatexWarning(f'Recovered figure {image} as {fname}'))\n",
      "/opt/hostedtoolcache/Python/3.9.23/x64/lib/python3.9/site-packages/arxiv_on_deck_2/latex.py:132: LatexWarning: attempting recovering figure canon_cumul_m\n",
      "  warnings.warn(LatexWarning(f'attempting recovering figure {image}'))\n",
      "/opt/hostedtoolcache/Python/3.9.23/x64/lib/python3.9/site-packages/arxiv_on_deck_2/latex.py:137: LatexWarning: Recovered figure canon_cumul_m as tmp_2509.09762/./canon_cumul_m.pdf\n",
      "  warnings.warn(LatexWarning(f'Recovered figure {image} as {fname}'))\n"
     ]
    },
    {
     "name": "stderr",
     "output_type": "stream",
     "text": [
      "/opt/hostedtoolcache/Python/3.9.23/x64/lib/python3.9/site-packages/arxiv_on_deck_2/latex.py:132: LatexWarning: attempting recovering figure pop_mp_obs\n",
      "  warnings.warn(LatexWarning(f'attempting recovering figure {image}'))\n",
      "/opt/hostedtoolcache/Python/3.9.23/x64/lib/python3.9/site-packages/arxiv_on_deck_2/latex.py:137: LatexWarning: Recovered figure pop_mp_obs as tmp_2509.09762/./pop_mp_obs.pdf\n",
      "  warnings.warn(LatexWarning(f'Recovered figure {image} as {fname}'))\n",
      "/opt/hostedtoolcache/Python/3.9.23/x64/lib/python3.9/site-packages/arxiv_on_deck_2/latex.py:132: LatexWarning: attempting recovering figure pop_mp_bias\n",
      "  warnings.warn(LatexWarning(f'attempting recovering figure {image}'))\n",
      "/opt/hostedtoolcache/Python/3.9.23/x64/lib/python3.9/site-packages/arxiv_on_deck_2/latex.py:137: LatexWarning: Recovered figure pop_mp_bias as tmp_2509.09762/./pop_mp_bias.pdf\n",
      "  warnings.warn(LatexWarning(f'Recovered figure {image} as {fname}'))\n"
     ]
    },
    {
     "name": "stderr",
     "output_type": "stream",
     "text": [
      "/opt/hostedtoolcache/Python/3.9.23/x64/lib/python3.9/site-packages/arxiv_on_deck_2/latex.py:132: LatexWarning: attempting recovering figure canon_cumul_pratio_inv\n",
      "  warnings.warn(LatexWarning(f'attempting recovering figure {image}'))\n",
      "/opt/hostedtoolcache/Python/3.9.23/x64/lib/python3.9/site-packages/arxiv_on_deck_2/latex.py:137: LatexWarning: Recovered figure canon_cumul_pratio_inv as tmp_2509.09762/./canon_cumul_pratio_inv.pdf\n",
      "  warnings.warn(LatexWarning(f'Recovered figure {image} as {fname}'))\n",
      "/opt/hostedtoolcache/Python/3.9.23/x64/lib/python3.9/site-packages/arxiv_on_deck_2/latex.py:132: LatexWarning: attempting recovering figure canon_hist_pratio_inv\n",
      "  warnings.warn(LatexWarning(f'attempting recovering figure {image}'))\n",
      "/opt/hostedtoolcache/Python/3.9.23/x64/lib/python3.9/site-packages/arxiv_on_deck_2/latex.py:137: LatexWarning: Recovered figure canon_hist_pratio_inv as tmp_2509.09762/./canon_hist_pratio_inv.pdf\n",
      "  warnings.warn(LatexWarning(f'Recovered figure {image} as {fname}'))\n"
     ]
    },
    {
     "name": "stderr",
     "output_type": "stream",
     "text": [
      "/opt/hostedtoolcache/Python/3.9.23/x64/lib/python3.9/site-packages/arxiv_on_deck_2/latex.py:132: LatexWarning: attempting recovering figure canon_cumul_e\n",
      "  warnings.warn(LatexWarning(f'attempting recovering figure {image}'))\n",
      "/opt/hostedtoolcache/Python/3.9.23/x64/lib/python3.9/site-packages/arxiv_on_deck_2/latex.py:137: LatexWarning: Recovered figure canon_cumul_e as tmp_2509.09762/./canon_cumul_e.pdf\n",
      "  warnings.warn(LatexWarning(f'Recovered figure {image} as {fname}'))\n",
      "/opt/hostedtoolcache/Python/3.9.23/x64/lib/python3.9/site-packages/arxiv_on_deck_2/latex.py:132: LatexWarning: attempting recovering figure canon_hist_e\n",
      "  warnings.warn(LatexWarning(f'attempting recovering figure {image}'))\n",
      "/opt/hostedtoolcache/Python/3.9.23/x64/lib/python3.9/site-packages/arxiv_on_deck_2/latex.py:137: LatexWarning: Recovered figure canon_hist_e as tmp_2509.09762/./canon_hist_e.pdf\n",
      "  warnings.warn(LatexWarning(f'Recovered figure {image} as {fname}'))\n"
     ]
    },
    {
     "name": "stdout",
     "output_type": "stream",
     "text": [
      "Found 225 bibliographic references in tmp_2509.09762/aa52485-24.bbl.\n",
      "Retrieving document from  https://arxiv.org/e-print/2509.09829\n"
     ]
    },
    {
     "name": "stdout",
     "output_type": "stream",
     "text": [
      "extracting tarball to tmp_2509.09829... done.\n",
      "Retrieving document from  https://arxiv.org/e-print/2509.09878\n"
     ]
    },
    {
     "name": "stdout",
     "output_type": "stream",
     "text": [
      "extracting tarball to tmp_2509.09878..."
     ]
    },
    {
     "name": "stdout",
     "output_type": "stream",
     "text": [
      " done.\n"
     ]
    },
    {
     "name": "stderr",
     "output_type": "stream",
     "text": [
      "/opt/hostedtoolcache/Python/3.9.23/x64/lib/python3.9/site-packages/arxiv_on_deck_2/latex.py:132: LatexWarning: attempting recovering figure SGF_with_out_line\n",
      "  warnings.warn(LatexWarning(f'attempting recovering figure {image}'))\n",
      "/opt/hostedtoolcache/Python/3.9.23/x64/lib/python3.9/site-packages/arxiv_on_deck_2/latex.py:137: LatexWarning: Recovered figure SGF_with_out_line as tmp_2509.09878/./SGF_with_out_line.png\n",
      "  warnings.warn(LatexWarning(f'Recovered figure {image} as {fname}'))\n",
      "/opt/hostedtoolcache/Python/3.9.23/x64/lib/python3.9/site-packages/arxiv_on_deck_2/latex.py:132: LatexWarning: attempting recovering figure SGF_with_small_line\n",
      "  warnings.warn(LatexWarning(f'attempting recovering figure {image}'))\n",
      "/opt/hostedtoolcache/Python/3.9.23/x64/lib/python3.9/site-packages/arxiv_on_deck_2/latex.py:137: LatexWarning: Recovered figure SGF_with_small_line as tmp_2509.09878/./SGF_with_small_line.png\n",
      "  warnings.warn(LatexWarning(f'Recovered figure {image} as {fname}'))\n",
      "/opt/hostedtoolcache/Python/3.9.23/x64/lib/python3.9/site-packages/arxiv_on_deck_2/latex.py:132: LatexWarning: attempting recovering figure SGF_with_big_line\n",
      "  warnings.warn(LatexWarning(f'attempting recovering figure {image}'))\n",
      "/opt/hostedtoolcache/Python/3.9.23/x64/lib/python3.9/site-packages/arxiv_on_deck_2/latex.py:137: LatexWarning: Recovered figure SGF_with_big_line as tmp_2509.09878/./SGF_with_big_line.png\n",
      "  warnings.warn(LatexWarning(f'Recovered figure {image} as {fname}'))\n",
      "/opt/hostedtoolcache/Python/3.9.23/x64/lib/python3.9/site-packages/arxiv_on_deck_2/latex.py:132: LatexWarning: attempting recovering figure MSE\n",
      "  warnings.warn(LatexWarning(f'attempting recovering figure {image}'))\n",
      "/opt/hostedtoolcache/Python/3.9.23/x64/lib/python3.9/site-packages/arxiv_on_deck_2/latex.py:137: LatexWarning: Recovered figure MSE as tmp_2509.09878/./MSE.png\n",
      "  warnings.warn(LatexWarning(f'Recovered figure {image} as {fname}'))\n",
      "/opt/hostedtoolcache/Python/3.9.23/x64/lib/python3.9/site-packages/arxiv_on_deck_2/latex.py:132: LatexWarning: attempting recovering figure PDS70bc_detection\n",
      "  warnings.warn(LatexWarning(f'attempting recovering figure {image}'))\n",
      "/opt/hostedtoolcache/Python/3.9.23/x64/lib/python3.9/site-packages/arxiv_on_deck_2/latex.py:137: LatexWarning: Recovered figure PDS70bc_detection as tmp_2509.09878/./PDS70bc_detection.png\n",
      "  warnings.warn(LatexWarning(f'Recovered figure {image} as {fname}'))\n",
      "/opt/hostedtoolcache/Python/3.9.23/x64/lib/python3.9/site-packages/arxiv_on_deck_2/latex.py:132: LatexWarning: attempting recovering figure SCC\n",
      "  warnings.warn(LatexWarning(f'attempting recovering figure {image}'))\n",
      "/opt/hostedtoolcache/Python/3.9.23/x64/lib/python3.9/site-packages/arxiv_on_deck_2/latex.py:137: LatexWarning: Recovered figure SCC as tmp_2509.09878/./SCC.png\n",
      "  warnings.warn(LatexWarning(f'Recovered figure {image} as {fname}'))\n",
      "/opt/hostedtoolcache/Python/3.9.23/x64/lib/python3.9/site-packages/arxiv_on_deck_2/latex.py:132: LatexWarning: attempting recovering figure CSF\n",
      "  warnings.warn(LatexWarning(f'attempting recovering figure {image}'))\n",
      "/opt/hostedtoolcache/Python/3.9.23/x64/lib/python3.9/site-packages/arxiv_on_deck_2/latex.py:137: LatexWarning: Recovered figure CSF as tmp_2509.09878/./CSF.png\n",
      "  warnings.warn(LatexWarning(f'Recovered figure {image} as {fname}'))\n",
      "/opt/hostedtoolcache/Python/3.9.23/x64/lib/python3.9/site-packages/arxiv_on_deck_2/latex.py:132: LatexWarning: attempting recovering figure SGF\n",
      "  warnings.warn(LatexWarning(f'attempting recovering figure {image}'))\n",
      "/opt/hostedtoolcache/Python/3.9.23/x64/lib/python3.9/site-packages/arxiv_on_deck_2/latex.py:137: LatexWarning: Recovered figure SGF as tmp_2509.09878/./SGF.png\n",
      "  warnings.warn(LatexWarning(f'Recovered figure {image} as {fname}'))\n",
      "/opt/hostedtoolcache/Python/3.9.23/x64/lib/python3.9/site-packages/arxiv_on_deck_2/latex.py:132: LatexWarning: attempting recovering figure LPM\n",
      "  warnings.warn(LatexWarning(f'attempting recovering figure {image}'))\n",
      "/opt/hostedtoolcache/Python/3.9.23/x64/lib/python3.9/site-packages/arxiv_on_deck_2/latex.py:137: LatexWarning: Recovered figure LPM as tmp_2509.09878/./LPM.png\n",
      "  warnings.warn(LatexWarning(f'Recovered figure {image} as {fname}'))\n",
      "/opt/hostedtoolcache/Python/3.9.23/x64/lib/python3.9/site-packages/arxiv_on_deck_2/latex.py:132: LatexWarning: attempting recovering figure PDS70_simulation\n",
      "  warnings.warn(LatexWarning(f'attempting recovering figure {image}'))\n",
      "/opt/hostedtoolcache/Python/3.9.23/x64/lib/python3.9/site-packages/arxiv_on_deck_2/latex.py:137: LatexWarning: Recovered figure PDS70_simulation as tmp_2509.09878/./PDS70_simulation.png\n",
      "  warnings.warn(LatexWarning(f'Recovered figure {image} as {fname}'))\n",
      "/opt/hostedtoolcache/Python/3.9.23/x64/lib/python3.9/site-packages/arxiv_on_deck_2/latex.py:132: LatexWarning: attempting recovering figure ROC_process\n",
      "  warnings.warn(LatexWarning(f'attempting recovering figure {image}'))\n",
      "/opt/hostedtoolcache/Python/3.9.23/x64/lib/python3.9/site-packages/arxiv_on_deck_2/latex.py:137: LatexWarning: Recovered figure ROC_process as tmp_2509.09878/./ROC_process.png\n",
      "  warnings.warn(LatexWarning(f'Recovered figure {image} as {fname}'))\n",
      "/opt/hostedtoolcache/Python/3.9.23/x64/lib/python3.9/site-packages/arxiv_on_deck_2/latex.py:132: LatexWarning: attempting recovering figure PDS70_PSF\n",
      "  warnings.warn(LatexWarning(f'attempting recovering figure {image}'))\n",
      "/opt/hostedtoolcache/Python/3.9.23/x64/lib/python3.9/site-packages/arxiv_on_deck_2/latex.py:137: LatexWarning: Recovered figure PDS70_PSF as tmp_2509.09878/./PDS70_PSF.png\n",
      "  warnings.warn(LatexWarning(f'Recovered figure {image} as {fname}'))\n",
      "/opt/hostedtoolcache/Python/3.9.23/x64/lib/python3.9/site-packages/arxiv_on_deck_2/latex.py:132: LatexWarning: attempting recovering figure LPM_coefficients\n",
      "  warnings.warn(LatexWarning(f'attempting recovering figure {image}'))\n",
      "/opt/hostedtoolcache/Python/3.9.23/x64/lib/python3.9/site-packages/arxiv_on_deck_2/latex.py:137: LatexWarning: Recovered figure LPM_coefficients as tmp_2509.09878/./LPM_coefficients.png\n",
      "  warnings.warn(LatexWarning(f'Recovered figure {image} as {fname}'))\n",
      "/opt/hostedtoolcache/Python/3.9.23/x64/lib/python3.9/site-packages/arxiv_on_deck_2/latex.py:132: LatexWarning: attempting recovering figure ROC\n",
      "  warnings.warn(LatexWarning(f'attempting recovering figure {image}'))\n",
      "/opt/hostedtoolcache/Python/3.9.23/x64/lib/python3.9/site-packages/arxiv_on_deck_2/latex.py:137: LatexWarning: Recovered figure ROC as tmp_2509.09878/./ROC.png\n",
      "  warnings.warn(LatexWarning(f'Recovered figure {image} as {fname}'))\n",
      "/opt/hostedtoolcache/Python/3.9.23/x64/lib/python3.9/site-packages/arxiv_on_deck_2/latex.py:132: LatexWarning: attempting recovering figure HTLupB_characterization\n",
      "  warnings.warn(LatexWarning(f'attempting recovering figure {image}'))\n",
      "/opt/hostedtoolcache/Python/3.9.23/x64/lib/python3.9/site-packages/arxiv_on_deck_2/latex.py:137: LatexWarning: Recovered figure HTLupB_characterization as tmp_2509.09878/./HTLupB_characterization.png\n",
      "  warnings.warn(LatexWarning(f'Recovered figure {image} as {fname}'))\n",
      "/opt/hostedtoolcache/Python/3.9.23/x64/lib/python3.9/site-packages/arxiv_on_deck_2/latex.py:132: LatexWarning: attempting recovering figure YSES1b_Halpha\n",
      "  warnings.warn(LatexWarning(f'attempting recovering figure {image}'))\n",
      "/opt/hostedtoolcache/Python/3.9.23/x64/lib/python3.9/site-packages/arxiv_on_deck_2/latex.py:137: LatexWarning: Recovered figure YSES1b_Halpha as tmp_2509.09878/./YSES1b_Halpha.png\n",
      "  warnings.warn(LatexWarning(f'Recovered figure {image} as {fname}'))\n",
      "/opt/hostedtoolcache/Python/3.9.23/x64/lib/python3.9/site-packages/arxiv_on_deck_2/latex.py:132: LatexWarning: attempting recovering figure YSES1b_CaII\n",
      "  warnings.warn(LatexWarning(f'attempting recovering figure {image}'))\n",
      "/opt/hostedtoolcache/Python/3.9.23/x64/lib/python3.9/site-packages/arxiv_on_deck_2/latex.py:137: LatexWarning: Recovered figure YSES1b_CaII as tmp_2509.09878/./YSES1b_CaII.png\n",
      "  warnings.warn(LatexWarning(f'Recovered figure {image} as {fname}'))\n",
      "/opt/hostedtoolcache/Python/3.9.23/x64/lib/python3.9/site-packages/arxiv_on_deck_2/latex.py:132: LatexWarning: attempting recovering figure YSES1b_Halpha_detail\n",
      "  warnings.warn(LatexWarning(f'attempting recovering figure {image}'))\n",
      "/opt/hostedtoolcache/Python/3.9.23/x64/lib/python3.9/site-packages/arxiv_on_deck_2/latex.py:137: LatexWarning: Recovered figure YSES1b_Halpha_detail as tmp_2509.09878/./YSES1b_Halpha_detail.png\n",
      "  warnings.warn(LatexWarning(f'Recovered figure {image} as {fname}'))\n",
      "/opt/hostedtoolcache/Python/3.9.23/x64/lib/python3.9/site-packages/arxiv_on_deck_2/latex.py:132: LatexWarning: attempting recovering figure YSES1b_Hbeta_detail\n",
      "  warnings.warn(LatexWarning(f'attempting recovering figure {image}'))\n",
      "/opt/hostedtoolcache/Python/3.9.23/x64/lib/python3.9/site-packages/arxiv_on_deck_2/latex.py:137: LatexWarning: Recovered figure YSES1b_Hbeta_detail as tmp_2509.09878/./YSES1b_Hbeta_detail.png\n",
      "  warnings.warn(LatexWarning(f'Recovered figure {image} as {fname}'))\n",
      "/opt/hostedtoolcache/Python/3.9.23/x64/lib/python3.9/site-packages/arxiv_on_deck_2/latex.py:132: LatexWarning: attempting recovering figure Injection_89_95_SGF\n",
      "  warnings.warn(LatexWarning(f'attempting recovering figure {image}'))\n",
      "/opt/hostedtoolcache/Python/3.9.23/x64/lib/python3.9/site-packages/arxiv_on_deck_2/latex.py:137: LatexWarning: Recovered figure Injection_89_95_SGF as tmp_2509.09878/./Injection_89_95_SGF.png\n",
      "  warnings.warn(LatexWarning(f'Recovered figure {image} as {fname}'))\n",
      "/opt/hostedtoolcache/Python/3.9.23/x64/lib/python3.9/site-packages/arxiv_on_deck_2/latex.py:132: LatexWarning: attempting recovering figure Injection_89_95_LPM\n",
      "  warnings.warn(LatexWarning(f'attempting recovering figure {image}'))\n",
      "/opt/hostedtoolcache/Python/3.9.23/x64/lib/python3.9/site-packages/arxiv_on_deck_2/latex.py:137: LatexWarning: Recovered figure Injection_89_95_LPM as tmp_2509.09878/./Injection_89_95_LPM.png\n",
      "  warnings.warn(LatexWarning(f'Recovered figure {image} as {fname}'))\n",
      "/opt/hostedtoolcache/Python/3.9.23/x64/lib/python3.9/site-packages/arxiv_on_deck_2/latex.py:132: LatexWarning: attempting recovering figure Injection_98_109_SGF\n",
      "  warnings.warn(LatexWarning(f'attempting recovering figure {image}'))\n",
      "/opt/hostedtoolcache/Python/3.9.23/x64/lib/python3.9/site-packages/arxiv_on_deck_2/latex.py:137: LatexWarning: Recovered figure Injection_98_109_SGF as tmp_2509.09878/./Injection_98_109_SGF.png\n",
      "  warnings.warn(LatexWarning(f'Recovered figure {image} as {fname}'))\n",
      "/opt/hostedtoolcache/Python/3.9.23/x64/lib/python3.9/site-packages/arxiv_on_deck_2/latex.py:132: LatexWarning: attempting recovering figure Injection_116_137_SGF\n",
      "  warnings.warn(LatexWarning(f'attempting recovering figure {image}'))\n",
      "/opt/hostedtoolcache/Python/3.9.23/x64/lib/python3.9/site-packages/arxiv_on_deck_2/latex.py:137: LatexWarning: Recovered figure Injection_116_137_SGF as tmp_2509.09878/./Injection_116_137_SGF.png\n",
      "  warnings.warn(LatexWarning(f'Recovered figure {image} as {fname}'))\n",
      "/opt/hostedtoolcache/Python/3.9.23/x64/lib/python3.9/site-packages/arxiv_on_deck_2/latex.py:132: LatexWarning: attempting recovering figure Injection_116_137_LPM\n",
      "  warnings.warn(LatexWarning(f'attempting recovering figure {image}'))\n",
      "/opt/hostedtoolcache/Python/3.9.23/x64/lib/python3.9/site-packages/arxiv_on_deck_2/latex.py:137: LatexWarning: Recovered figure Injection_116_137_LPM as tmp_2509.09878/./Injection_116_137_LPM.png\n",
      "  warnings.warn(LatexWarning(f'Recovered figure {image} as {fname}'))\n",
      "/opt/hostedtoolcache/Python/3.9.23/x64/lib/python3.9/site-packages/arxiv_on_deck_2/latex.py:132: LatexWarning: attempting recovering figure Injection_125_151_SGF\n",
      "  warnings.warn(LatexWarning(f'attempting recovering figure {image}'))\n",
      "/opt/hostedtoolcache/Python/3.9.23/x64/lib/python3.9/site-packages/arxiv_on_deck_2/latex.py:137: LatexWarning: Recovered figure Injection_125_151_SGF as tmp_2509.09878/./Injection_125_151_SGF.png\n",
      "  warnings.warn(LatexWarning(f'Recovered figure {image} as {fname}'))\n",
      "/opt/hostedtoolcache/Python/3.9.23/x64/lib/python3.9/site-packages/arxiv_on_deck_2/latex.py:132: LatexWarning: attempting recovering figure Injection_125_151_LPM\n",
      "  warnings.warn(LatexWarning(f'attempting recovering figure {image}'))\n",
      "/opt/hostedtoolcache/Python/3.9.23/x64/lib/python3.9/site-packages/arxiv_on_deck_2/latex.py:137: LatexWarning: Recovered figure Injection_125_151_LPM as tmp_2509.09878/./Injection_125_151_LPM.png\n",
      "  warnings.warn(LatexWarning(f'Recovered figure {image} as {fname}'))\n",
      "/opt/hostedtoolcache/Python/3.9.23/x64/lib/python3.9/site-packages/arxiv_on_deck_2/latex.py:132: LatexWarning: attempting recovering figure PDS70_noise\n",
      "  warnings.warn(LatexWarning(f'attempting recovering figure {image}'))\n",
      "/opt/hostedtoolcache/Python/3.9.23/x64/lib/python3.9/site-packages/arxiv_on_deck_2/latex.py:137: LatexWarning: Recovered figure PDS70_noise as tmp_2509.09878/./PDS70_noise.png\n",
      "  warnings.warn(LatexWarning(f'Recovered figure {image} as {fname}'))\n"
     ]
    },
    {
     "name": "stdout",
     "output_type": "stream",
     "text": [
      "Found 71 bibliographic references in tmp_2509.09878/aa53231-24.bbl.\n",
      "Retrieving document from  https://arxiv.org/e-print/2509.10144\n",
      "extracting tarball to tmp_2509.10144..."
     ]
    },
    {
     "name": "stdout",
     "output_type": "stream",
     "text": [
      " done.\n"
     ]
    },
    {
     "name": "stdout",
     "output_type": "stream",
     "text": [
      "M. Häberle  ->  M. Häberle  |  ['M. Häberle']\n"
     ]
    },
    {
     "name": "stdout",
     "output_type": "stream",
     "text": [
      "Found 115 bibliographic references in tmp_2509.10144/niederhofer25.bbl.\n",
      "Retrieving document from  https://arxiv.org/e-print/2509.10387\n"
     ]
    },
    {
     "name": "stdout",
     "output_type": "stream",
     "text": [
      "extracting tarball to tmp_2509.10387..."
     ]
    },
    {
     "name": "stdout",
     "output_type": "stream",
     "text": [
      " done.\n"
     ]
    },
    {
     "name": "stdout",
     "output_type": "stream",
     "text": [
      "Found 89 bibliographic references in tmp_2509.10387/main.bbl.\n",
      "Issues with the citations\n",
      "syntax error in line 74: '=' expected\n",
      "Retrieving document from  https://arxiv.org/e-print/2509.10440\n"
     ]
    },
    {
     "name": "stdout",
     "output_type": "stream",
     "text": [
      "extracting tarball to tmp_2509.10440..."
     ]
    },
    {
     "name": "stdout",
     "output_type": "stream",
     "text": [
      " done.\n"
     ]
    },
    {
     "name": "stdout",
     "output_type": "stream",
     "text": [
      "Found 171 bibliographic references in tmp_2509.10440/main.bbl.\n",
      "Issues with the citations\n",
      "syntax error in line 221: '=' expected\n",
      "Retrieving document from  https://arxiv.org/e-print/2509.10451\n"
     ]
    },
    {
     "name": "stdout",
     "output_type": "stream",
     "text": [
      "extracting tarball to tmp_2509.10451..."
     ]
    },
    {
     "name": "stdout",
     "output_type": "stream",
     "text": [
      " done.\n"
     ]
    }
   ],
   "source": [
    "documents = []\n",
    "failed = []\n",
    "for paper in tqdm(candidates):\n",
    "    # debug crap\n",
    "    paper['identifier'] = paper['identifier'].lower().replace('arxiv:', '').replace(r'\\n', '').strip()\n",
    "    paper_id = paper['identifier']\n",
    "    \n",
    "    folder = f'tmp_{paper_id}'\n",
    "\n",
    "    try:\n",
    "        if not os.path.isdir(folder):\n",
    "            folder = retrieve_document_source(f\"{paper_id}\", f'tmp_{paper_id}')\n",
    "        \n",
    "        try:\n",
    "            doc = latex.LatexDocument(folder, validation=validation)    \n",
    "        except AffiliationError as affilerror:\n",
    "            msg = f\"ArXiv:{paper_id:s} is not an MPIA paper... \" + str(affilerror)\n",
    "            failed.append((paper, \"affiliation error: \" + str(affilerror) ))\n",
    "            continue\n",
    "        \n",
    "        # Hack because sometimes author parsing does not work well\n",
    "        if (len(doc.authors) != len(paper['authors'])):\n",
    "            doc._authors = paper['authors']\n",
    "        else:\n",
    "            # highlight authors (FIXME: doc.highlight_authors)\n",
    "            # done on arxiv paper already\n",
    "            doc._authors = highlight_authors_in_list(\n",
    "                [get_initials(k) for k in doc.authors], \n",
    "                mpia_authors, verbose=True)\n",
    "        if (doc.abstract) in (None, ''):\n",
    "            doc._abstract = paper['abstract']\n",
    "            \n",
    "        doc.comment = (get_markdown_badge(paper_id) + \n",
    "                       \"<mark>Appeared on: \" + paper['date'] + \"</mark> - \")\n",
    "        if paper['comments']:\n",
    "            doc.comment += \" _\" + paper['comments'] + \"_\"\n",
    "        \n",
    "        full_md = doc.generate_markdown_text()\n",
    "        \n",
    "        full_md += get_markdown_qrcode(paper_id)\n",
    "        \n",
    "        # replace citations\n",
    "        try:\n",
    "            bibdata = latex_bib.LatexBib.from_doc(doc)\n",
    "            full_md = latex_bib.replace_citations(full_md, bibdata)\n",
    "        except Exception as e:\n",
    "            print(\"Issues with the citations\")\n",
    "            print(e)\n",
    "        \n",
    "        documents.append((paper_id, full_md))\n",
    "    except Exception as e:\n",
    "        warnings.warn(latex.LatexWarning(f\"{paper_id:s} did not run properly\\n\" +\n",
    "                                         str(e)\n",
    "                                        ))\n",
    "        failed.append((paper, \"latex error \" + str(e)))"
   ]
  },
  {
   "cell_type": "markdown",
   "id": "2505a25c",
   "metadata": {
    "papermill": {
     "duration": 0.004811,
     "end_time": "2025-09-15T04:15:17.368645",
     "exception": false,
     "start_time": "2025-09-15T04:15:17.363834",
     "status": "completed"
    },
    "tags": []
   },
   "source": [
    "### Export the logs\n",
    "\n",
    "Throughout, we also keep track of the logs per paper. see `logs-{today date}.md` "
   ]
  },
  {
   "cell_type": "code",
   "execution_count": 6,
   "id": "d733828a",
   "metadata": {
    "execution": {
     "iopub.execute_input": "2025-09-15T04:15:17.379297Z",
     "iopub.status.busy": "2025-09-15T04:15:17.379057Z",
     "iopub.status.idle": "2025-09-15T04:15:17.397516Z",
     "shell.execute_reply": "2025-09-15T04:15:17.396969Z"
    },
    "papermill": {
     "duration": 0.025029,
     "end_time": "2025-09-15T04:15:17.398518",
     "exception": false,
     "start_time": "2025-09-15T04:15:17.373489",
     "status": "completed"
    },
    "scrolled": false,
    "tags": []
   },
   "outputs": [
    {
     "data": {
      "text/markdown": [
       "## Successful papers"
      ],
      "text/plain": [
       "<IPython.core.display.Markdown object>"
      ]
     },
     "metadata": {},
     "output_type": "display_data"
    },
    {
     "data": {
      "text/markdown": [
       "\n",
       "|||\n",
       "|---:|:---|\n",
       "| [![arXiv](https://img.shields.io/badge/arXiv-2509.09762-b31b1b.svg)](https://arxiv.org/abs/2509.09762) | **The New Generation Planetary Population Synthesis (NGPPS). VII. Statistical comparison with the HARPS/Coralie survey**  |\n",
       "|| A. Emsenhuber, et al. -- incl., <mark>R. Burn</mark> |\n",
       "|*Appeared on*| *2025-09-15*|\n",
       "|*Comments*| *Accepted for publication in A&A. Abstract abridged to meet arXiv requirements*|\n",
       "|**Abstract**|            We seek to quantify the fidelity with which modern population syntheses reproduce observations in view of their use as predictive tools. We compared synthetic populations from the Generation 3 Bern Model of Planet Formation and Evolution (core accretion, solar-type host stars) and the HARPS/Coralie radial velocity sample. We biased the synthetic planet population according to the completeness of the observed data and performed quantitative statistical comparisons and systematically identified agreements and differences. Our nominal population reproduces many of the main features of the HARPS planets: two main groups of planets (close-in sub-Neptunes and distant giants), a bimodal mass function with a less populated `desert', an observed mean multiplicity of about 1.6, and several key correlations. The remaining discrepancies point to areas that are not fully captured in the model. For instance, we find that the synthetic population has 1) in absolute terms too many planets by ~70%, 2) a `desert' that is too deep by ~60%, 3) a relative excess of giant planets by ~40%, 4) planet eccentricities that are on average too low by a factor of about two (median of 0.07 versus 0.15), and 5) a metallicity effect that is too weak. Finally, the synthetic planets are overall too close to the star compared to the HARPS sample. The differences allowed us to find model parameters that better reproduce the observed planet masses, for which we computed additional synthetic populations. We find that physical processes appear to be missing and that planets may originate on wider orbits than our model predicts. Mechanisms leading to higher eccentricities and slower disc-limited gas accretion also seem necessary. We advocate that theoretical models should make a quantitative comparison between the many current and future large surveys to better understand the origins of planetary systems. (Abridged.)         |"
      ],
      "text/plain": [
       "[2509.09762] The New Generation Planetary Population Synthesis (NGPPS). VII. Statistical comparison with the HARPS/Coralie survey\n",
       "\tA. Emsenhuber, et al. -- incl., <mark>R. Burn</mark>"
      ]
     },
     "metadata": {},
     "output_type": "display_data"
    },
    {
     "data": {
      "text/markdown": [
       "\n",
       "|||\n",
       "|---:|:---|\n",
       "| [![arXiv](https://img.shields.io/badge/arXiv-2509.09878-b31b1b.svg)](https://arxiv.org/abs/2509.09878) | **Stellar halo subtraction alternative for accreting companions' characterization with integral field spectroscopy: Analytical and on-sky demonstration on the PDS70, HTLup, and YSES1 systems**  |\n",
       "|| R. Julo, et al. -- incl., <mark>G. Chauvin</mark> |\n",
       "|*Appeared on*| *2025-09-15*|\n",
       "|*Comments*| *14 pages, 15 figures, to be published in A&A*|\n",
       "|**Abstract**|            Context. Medium-resolution IFS, such as MUSE at the VLT, are equipped to detect the emission lines of faint accreting companions when associated with dedicated stellar halo subtraction methods. We recently proposed a new approach based on polynomial modulations of a stellar spectrum estimate across the field of view, with orthogonal polynomials and lines masking. Aims. We seek to highlight and quantify analytically and on real data the benefits of this new approach over the one classically used, particularly with regard to distortions of the extracted spectra. Methods. We carried out analytical calculations based on simple toy models. Simulations of the most extreme situations identified were used to highlight these problems and corrections. Archival VLT/MUSE data of the young PDS70 and HTLup systems were used to vet the detection and characterization capabilities using on-sky observations. New images of the YSES1 planetary system were used to further illustrate the gains. Results. We show that the state-of-the-art method, based on low-pass filtering, can lead to the self-subtraction of the emission lines and modify the neighboring continua. We show that the proposed technique corrects these characterization problems, while maintaining the same detection capabilities. The two protoplanets PDS70 b and c were detected with 5sigma significance. The Halpha line estimate of the HTLup B stellar companion was improved by ~30% for the integrated flux and by ~8% for the 10%-width. As for YSES1 b, we found it uniquely displays a combination of Halpha, Hbeta, CaII H&K triplet, and HeI lines in emission. Conclusions. The proposed method better preserves the spectral information, notably the emission line fluxes and profiles, while achieving similar detection performance. Based on a linear and parametric approach, it can be extended and/or combined with additional faint signal search algorithms.         |"
      ],
      "text/plain": [
       "[2509.09878] Stellar halo subtraction alternative for accreting companions' characterization with integral field spectroscopy: Analytical and on-sky demonstration on the PDS70, HTLup, and YSES1 systems\n",
       "\tR. Julo, et al. -- incl., <mark>G. Chauvin</mark>"
      ]
     },
     "metadata": {},
     "output_type": "display_data"
    },
    {
     "data": {
      "text/markdown": [
       "\n",
       "|||\n",
       "|---:|:---|\n",
       "| [![arXiv](https://img.shields.io/badge/arXiv-2509.10144-b31b1b.svg)](https://arxiv.org/abs/2509.10144) | **Cluster Ages to Reconstruct the Milky Way Assembly (CARMA) IV. Chrono-dynamics of seven old star clusters in the Large Magellanic Cloud and the peculiar origin of NGC 1841**  |\n",
       "|| F. Niederhofer, et al. -- incl., <mark>M. Häberle</mark> |\n",
       "|*Appeared on*| *2025-09-15*|\n",
       "|*Comments*| *Accepted for publication in A&A, 22 pages, 13 figures, 4 tables*|\n",
       "|**Abstract**|            In this study, we report conclusive evidence for an ancient star cluster that has been accreted by the Large Magellanic Cloud (LMC). By leveraging observations from the Hubble Space Telescope (HST), we investigate the chrono-dynamical structure of a sample of seven old star clusters within the LMC in a self-consistent way. The multi-epoch nature of the dataset allowed the determination of high-precision proper motions for the clusters. Employing an isochrone-fitting methodology, we additionally infer from the deep high-resolution HST data homogeneous and robust estimates for their distances, ages and metallicities. Supplementing these data with literature line-of-sight velocities, we investigate the full 3-dimensional dynamics of the clusters within the frame of the LMC. With respect to the other clusters in our sample, NGC 1841 depicts a peculiar case. Its position in the age-metallicity plane, that makes it about 1 Gyr younger than the other metal-poor LMC clusters, but also its dynamical properties with a radial orbit almost perpendicular to the LMC disc plane, clearly advocates for a different origin. We thus conclude that NGC 1841 has likely been accreted by the LMC from a smaller galaxy. The other clusters in our sample show disc-like kinematics, with the case of NGC 2210 being peculiar, based on its inclined orbit. Their coherent age-metallicity relation closely resembles that of Gaia-Sausage-Enceladus globular clusters, thus suggesting a similar early evolution for the two dwarf galaxies. We do not find clear-cut chrono-kinematic evidence that NGC 2005 has been accreted by the LMC as suggested by a previous study based on its chemical abundance pattern. Regardless of its nature, its very old age illustrates that peculiar chemical evolutions already emerge at very early times.         |"
      ],
      "text/plain": [
       "[2509.10144] Cluster Ages to Reconstruct the Milky Way Assembly (CARMA) IV. Chrono-dynamics of seven old star clusters in the Large Magellanic Cloud and the peculiar origin of NGC 1841\n",
       "\tF. Niederhofer, et al. -- incl., <mark>M. Häberle</mark>"
      ]
     },
     "metadata": {},
     "output_type": "display_data"
    },
    {
     "data": {
      "text/markdown": [
       "\n",
       "|||\n",
       "|---:|:---|\n",
       "| [![arXiv](https://img.shields.io/badge/arXiv-2509.10387-b31b1b.svg)](https://arxiv.org/abs/2509.10387) | **The large-scale kinematics of young stars in the Milky Way disc: first results from SDSS-V**  |\n",
       "|| E. Zari, et al. -- incl., <mark>H.-W. Rix</mark> |\n",
       "|*Appeared on*| *2025-09-15*|\n",
       "|*Comments*| *13 pages (13 figures) + 3 pages of appendices (5 figures). Under review at A&A; revised after first referee comments*|\n",
       "|**Abstract**|            We present a first large-scale kinematic map of $\\sim$50,000 young OB stars ($T_{\\rm eff} \\geq 10,000$ K), based on BOSS spectroscopy from the Milky Way Mapper OB program in the ongoing Sloan Digital Sky Survey V (SDSS-V). Using photogeometric distances, line-of-sight velocities and Gaia DR3 proper motions, we map 3D Galactocentric velocities across the Galactic plane to $\\sim$5 kpc from the Sun, with a focus on radial motions ($v_R$). Our results reveal mean radial motion with amplitudes of $\\pm 30$ km/s that are coherent on kiloparsec scales, alternating between inward and outward motions. These $\\bar{v}_R$ amplitudes are considerably higher than those observed for older, red giant populations. These kinematic patterns show only a weak correlation with spiral arm over-densities. Age estimates, derived from MIST isochrones, indicate that 85% of the sample is younger than $\\sim300$ Myr and that the youngest stars ($\\le 30$ Myr) align well with density enhancements. The age-dependent $\\bar{v}_R$ in Auriga makes it plausible that younger stars exhibits different velocity variations than older giants. The origin of the radial velocity features remains uncertain, and may result from a combination of factors, including spiral arm dynamics, the Galactic bar, resonant interactions, or phase mixing following a perturbation. The present analysis is based on approximately one-third of the full target sample. The completed survey will enable a more comprehensive investigation of these features and a detailed dynamical interpretation.         |"
      ],
      "text/plain": [
       "[2509.10387] The large-scale kinematics of young stars in the Milky Way disc: first results from SDSS-V\n",
       "\tE. Zari, et al. -- incl., <mark>H.-W. Rix</mark>"
      ]
     },
     "metadata": {},
     "output_type": "display_data"
    },
    {
     "data": {
      "text/markdown": [
       "\n",
       "|||\n",
       "|---:|:---|\n",
       "| [![arXiv](https://img.shields.io/badge/arXiv-2509.10440-b31b1b.svg)](https://arxiv.org/abs/2509.10440) | **Euclid: Early Release Observations -- The star cluster systems of the Local Group dwarf galaxies IC 10 and NGC 6822**  |\n",
       "|| J. M. Howell, et al. -- incl., <mark>K. Jahnke</mark> |\n",
       "|*Appeared on*| *2025-09-15*|\n",
       "|*Comments*| **|\n",
       "|**Abstract**|            Star clusters are valuable indicators of galaxy evolution, offering insights into the buildup of stellar populations across cosmic time. Understanding intrinsic star cluster populations of dwarf galaxies is particularly important given their role in the hierarchical growth of larger systems. Using Euclid Early Release Observation data, we study star clusters in two star-forming dwarf irregulars in the Local Group, NGC 6822 and IC 10 [$M_\\star \\sim$ (1--4) $\\times10^8 M_\\odot$]. With Euclid, clusters are resolved into individual stars across the main bodies and haloes of both galaxies. Visual inspection of $I_E$ images uncovers 30 new cluster candidates in NGC 6822 and 16 in IC 10, from compact to extended clusters. We re-evaluate literature candidates, producing combined catalogues of 52 (NGC 6822) and 71 (IC 10) clusters with confidence-based classifications. We present homogeneous photometry in $I_E$, $Y_E$, $J_E$, $H_E$, and archival UBVRI data, alongside size measurements and properties from BAGPIPES SED fitting. Synthetic cluster injection shows our sample is $\\sim 50$% complete to $M \\lesssim 10^3 M_\\odot$ for ages $\\lesssim 100$ Myr, and to $M \\lesssim 3\\times10^4 M_\\odot$ for $\\sim 10$ Gyr. IC 10 has more young clusters than NGC 6822, extending to higher masses, consistent with its starburst nature. Both dwarfs host several old massive ($\\gtrsim 10^5 M_\\odot$) clusters, including an exceptional $1.3 \\times 10^6 M_\\odot$ cluster in NGC 6822's outskirts. In NGC 6822, we identify a previously undetected, old, extended cluster ($R_h = 12.4 \\pm 0.11$ pc). Using well-defined criteria, we identify 11 candidate GCs in NGC 6822 and eight in IC 10. Both galaxies have high specific frequencies ($S_N$) but remain consistent with known GC scaling relations at low luminosity.         |"
      ],
      "text/plain": [
       "[2509.10440] Euclid: Early Release Observations -- The star cluster systems of the Local Group dwarf galaxies IC 10 and NGC 6822\n",
       "\tJ. M. Howell, et al. -- incl., <mark>K. Jahnke</mark>"
      ]
     },
     "metadata": {},
     "output_type": "display_data"
    },
    {
     "data": {
      "text/markdown": [
       "## Failed papers"
      ],
      "text/plain": [
       "<IPython.core.display.Markdown object>"
      ]
     },
     "metadata": {},
     "output_type": "display_data"
    },
    {
     "data": {
      "text/markdown": [
       "\n",
       "|||\n",
       "|---:|:---|\n",
       "| [![arXiv](https://img.shields.io/badge/arXiv-2509.09829-b31b1b.svg)](https://arxiv.org/abs/2509.09829) | **Dynamically New Comet C/2025 D1 (Groeller) with Record Perihelion Distance**  |\n",
       "|| M.-T. Hui, et al. -- incl., <mark>J. Shi</mark> |\n",
       "|*Appeared on*| *2025-09-15*|\n",
       "|*Comments*| *Under review in A&A. Comments are welcome*|\n",
       "|**Abstract**|            We studied C/2025 D1 (Groeller), a long-period comet with an unprecedented perihelion distance of 14.1 au, using archival observations. The data reveals that it had been active at inbound heliocentric distances $r_{\\rm H} \\gtrsim 20$ au. Initially, the comet intrinsically brightened at $r_{\\rm H} \\gtrsim 16$ au, with brightening parameters comparable to those of other long-period comets. However, observations after late 2023 showed a gradual decay, despite the inbound trajectory of the comet. To our knowledge, such behaviours have not been observed for other long-period comets at similar heliocentric distances. We speculate that this might be linked to the onset of CO$_{2}$ sublimation and/or crystallisation processes. The surface brightness profile of the coma indicates a steady-state mass loss, implying supervolatile sublimation as the primary driver of the observed activity. Despite changes in the orbital plane angle, the circularly symmetric coma persisted throughout the observed period, indicative of the dominance of large grains in the coma. Assuming the activity trend is independent of bandpass, we found that comet was redder than many other solar system comets. Our model-dependent constraint estimates the nucleus radius to be $\\gtrsim\\!0.4$ km. We performed astrometric measurements, refined the orbital solution, and derived the original and future orbits of the comet. Our N-body integration, accounting for the Galactic tide, strongly favours that the comet is dynamically new, with its previous perihelion at $\\gtrsim\\!60$ au from the Sun $\\gtrsim\\!6$ Myr ago. It is highly likely that the comet will be lost from our solar system after the current apparition.         |\n",
       "|<p style=\"color:green\"> **ERROR** </p>| <p style=\"color:green\">affiliation error: mpia.affiliation_verifications: '69117' keyword not found.</p> |"
      ],
      "text/plain": [
       "<IPython.core.display.Markdown object>"
      ]
     },
     "metadata": {},
     "output_type": "display_data"
    },
    {
     "data": {
      "text/markdown": [
       "\n",
       "|||\n",
       "|---:|:---|\n",
       "| [![arXiv](https://img.shields.io/badge/arXiv-2509.10451-b31b1b.svg)](https://arxiv.org/abs/2509.10451) | **The CHARA Array Polarization Model and Prospects for Spectropolarimetry**  |\n",
       "|| L. Shuai, et al. -- incl., <mark>S. Kraus</mark> |\n",
       "|*Appeared on*| *2025-09-15*|\n",
       "|*Comments*| *37 pages, 24 figures, accepted for publication by AJ. Our code, mircxpol, is published in this https URL*|\n",
       "|**Abstract**|            Polarimetric data provide key insights into infrared emission mechanisms in the inner disks of YSOs and the details of dust formation around AGB stars. While polarization measurements are well-established in radio interferometry, they remain challenging at visible and near-infrared due to the significant time-variable birefringence introduced by the complex optical beamtrain. In this study, we characterize instrumental polarization effects within the optical path of the CHARA Array, focusing on the H-band MIRC-X and K-band MYSTIC beam combiners. Using Jones matrix formalism, we developed a comprehensive model describing diattenuation and retardance across the array. By applying this model to an unpolarized calibrator, we derived the instrumental parameters for both MIRC-X and MYSTIC. Our results show differential diattenuation consistent with >= 97% reflectivity per aluminum-coated surface at 45 deg incidence. The differential retardance exhibits small wavelength-dependent variations, in some cases larger than we expected. Notably, telescope W2 exhibits a significantly larger phase shift in the Coude path, attributable to a fixed aluminum mirror (M4) used in place of deformable mirrors present on the other telescopes during the observing run. We also identify misalignments in the LiNbO_3 birefringent compensator plates on S1 (MIRC-X) and W2 (MYSTIC). After correcting for night-to-night offsets, we achieve calibration accuracies of $\\pm$ 3.4% in visibility ratio and $\\pm$ 1.4 deg in differential phase for MIRC-X, and $\\pm$ 5.9% and $\\pm$ 2.4 deg, respectively, for MYSTIC. Given that the differential intrinsic polarization of spatially resolved sources, such as AGB stars and YSOs, typically greater than these instrumental uncertainties, our results demonstrate that CHARA is now capable of achieving high-accuracy measurements of intrinsic polarization in astrophysical targets.         |\n",
       "|<p style=\"color:green\"> **ERROR** </p>| <p style=\"color:green\">affiliation error: mpia.affiliation_verifications: '69117' keyword not found.</p> |"
      ],
      "text/plain": [
       "<IPython.core.display.Markdown object>"
      ]
     },
     "metadata": {},
     "output_type": "display_data"
    }
   ],
   "source": [
    "import datetime\n",
    "today = str(datetime.date.today())\n",
    "logfile = f\"_build/html/logs/log-{today}.md\"\n",
    "\n",
    "\n",
    "with open(logfile, 'w') as logs:\n",
    "    # Success\n",
    "    logs.write(f'# Arxiv on Deck 2: Logs - {today}\\n\\n')\n",
    "    logs.write(\"\"\"* Arxiv had {0:,d} new papers\\n\"\"\".format(len(new_papers)))\n",
    "    logs.write(\"\"\"    * {0:,d} with possible author matches\\n\\n\"\"\".format(len(candidates)))\n",
    "    logs.write(\"## Sucessful papers\\n\\n\")\n",
    "    display(Markdown(\"## Successful papers\"))\n",
    "    success = [k[0] for k in documents]\n",
    "    for candid in candidates:\n",
    "        if candid['identifier'].split(':')[-1] in success:\n",
    "            display(candid)\n",
    "            logs.write(candid.generate_markdown_text() + '\\n\\n')\n",
    "\n",
    "    ## failed\n",
    "    logs.write(\"## Failed papers\\n\\n\")\n",
    "    display(Markdown(\"## Failed papers\"))\n",
    "    failed = sorted(failed, key=lambda x: x[1])\n",
    "    current_reason = \"\"\n",
    "    for paper, reason in failed:\n",
    "        if 'affiliation' in reason:\n",
    "            color = 'green'\n",
    "        else:\n",
    "            color = 'red'\n",
    "        data = Markdown(\n",
    "                paper.generate_markdown_text() + \n",
    "                f'\\n|<p style=\"color:{color:s}\"> **ERROR** </p>| <p style=\"color:{color:s}\">{reason:s}</p> |'\n",
    "               )\n",
    "        if reason != current_reason:\n",
    "            logs.write(f'### {reason:s} \\n\\n')\n",
    "            current_reason = reason\n",
    "        logs.write(data.data + '\\n\\n')\n",
    "        \n",
    "        # only display here the important errors (all in logs)\n",
    "        # if color in ('red',):\n",
    "        display(data)"
   ]
  },
  {
   "cell_type": "markdown",
   "id": "472d20ee",
   "metadata": {
    "papermill": {
     "duration": 0.006142,
     "end_time": "2025-09-15T04:15:17.410569",
     "exception": false,
     "start_time": "2025-09-15T04:15:17.404427",
     "status": "completed"
    },
    "tags": []
   },
   "source": [
    "## Export documents\n",
    "\n",
    "We now write the .md files and export relevant images"
   ]
  },
  {
   "cell_type": "code",
   "execution_count": 7,
   "id": "d426aed9",
   "metadata": {
    "execution": {
     "iopub.execute_input": "2025-09-15T04:15:17.422775Z",
     "iopub.status.busy": "2025-09-15T04:15:17.422595Z",
     "iopub.status.idle": "2025-09-15T04:15:17.429231Z",
     "shell.execute_reply": "2025-09-15T04:15:17.428669Z"
    },
    "papermill": {
     "duration": 0.013857,
     "end_time": "2025-09-15T04:15:17.430180",
     "exception": false,
     "start_time": "2025-09-15T04:15:17.416323",
     "status": "completed"
    },
    "tags": []
   },
   "outputs": [],
   "source": [
    "def export_markdown_summary(md: str, md_fname:str, directory: str):\n",
    "    \"\"\"Export MD document and associated relevant images\"\"\"\n",
    "    import os\n",
    "    import shutil\n",
    "    import re\n",
    "\n",
    "    if (os.path.exists(directory) and not os.path.isdir(directory)):\n",
    "        raise RuntimeError(f\"a non-directory file exists with name {directory:s}\")\n",
    "\n",
    "    if (not os.path.exists(directory)):\n",
    "        print(f\"creating directory {directory:s}\")\n",
    "        os.mkdir(directory)\n",
    "\n",
    "    fig_fnames = (re.compile(r'\\[Fig.*\\]\\((.*)\\)').findall(md) + \n",
    "                  re.compile(r'\\<img src=\"([^>\\s]*)\"[^>]*/>').findall(md))\n",
    "    print(\"found figures\", fig_fnames)\n",
    "    for fname in fig_fnames:\n",
    "        if 'http' in fname:\n",
    "            # No need to copy online figures\n",
    "            continue\n",
    "        if not os.path.exists(fname):\n",
    "            print(\"file not found\", fname)\n",
    "            continue\n",
    "        print(\"copying \", fname, \"to\", directory)\n",
    "        destdir = os.path.join(directory, os.path.dirname(fname))\n",
    "        destfname = os.path.join(destdir, os.path.basename(fname))\n",
    "        try:\n",
    "            os.makedirs(destdir)\n",
    "        except FileExistsError:\n",
    "            pass\n",
    "        shutil.copy(fname, destfname)\n",
    "    with open(os.path.join(directory, md_fname), 'w') as fout:\n",
    "        fout.write(md)\n",
    "    print(\"exported in \", os.path.join(directory, md_fname))\n",
    "    [print(\"    + \" + os.path.join(directory,fk)) for fk in fig_fnames]"
   ]
  },
  {
   "cell_type": "code",
   "execution_count": 8,
   "id": "014d04a4",
   "metadata": {
    "execution": {
     "iopub.execute_input": "2025-09-15T04:15:17.442475Z",
     "iopub.status.busy": "2025-09-15T04:15:17.442260Z",
     "iopub.status.idle": "2025-09-15T04:15:17.466980Z",
     "shell.execute_reply": "2025-09-15T04:15:17.466391Z"
    },
    "papermill": {
     "duration": 0.03195,
     "end_time": "2025-09-15T04:15:17.467963",
     "exception": false,
     "start_time": "2025-09-15T04:15:17.436013",
     "status": "completed"
    },
    "tags": []
   },
   "outputs": [
    {
     "name": "stdout",
     "output_type": "stream",
     "text": [
      "found figures ['tmp_2509.09762/./canon_cumul_pratio_inv.png', 'tmp_2509.09762/./canon_hist_pratio_inv.png', 'tmp_2509.09762/./psize_kde_m.png', 'tmp_2509.09762/./match_mult.png']\n",
      "copying  tmp_2509.09762/./canon_cumul_pratio_inv.png to _build/html/\n",
      "copying  tmp_2509.09762/./canon_hist_pratio_inv.png to _build/html/\n",
      "copying  tmp_2509.09762/./psize_kde_m.png to _build/html/\n",
      "copying  tmp_2509.09762/./match_mult.png to _build/html/\n",
      "exported in  _build/html/2509.09762.md\n",
      "    + _build/html/tmp_2509.09762/./canon_cumul_pratio_inv.png\n",
      "    + _build/html/tmp_2509.09762/./canon_hist_pratio_inv.png\n",
      "    + _build/html/tmp_2509.09762/./psize_kde_m.png\n",
      "    + _build/html/tmp_2509.09762/./match_mult.png\n",
      "found figures ['tmp_2509.09878/./YSES1b_Halpha_detail.png', 'tmp_2509.09878/./YSES1b_Hbeta_detail.png', 'tmp_2509.09878/./SGF_with_out_line.png']\n",
      "copying  tmp_2509.09878/./YSES1b_Halpha_detail.png to _build/html/\n",
      "copying  tmp_2509.09878/./YSES1b_Hbeta_detail.png to _build/html/\n",
      "copying  tmp_2509.09878/./SGF_with_out_line.png to _build/html/\n",
      "exported in  _build/html/2509.09878.md\n",
      "    + _build/html/tmp_2509.09878/./YSES1b_Halpha_detail.png\n",
      "    + _build/html/tmp_2509.09878/./YSES1b_Hbeta_detail.png\n",
      "    + _build/html/tmp_2509.09878/./SGF_with_out_line.png\n",
      "found figures ['tmp_2509.10144/./Figs/HODGE11_isofit_ri_i.png', 'tmp_2509.10144/./Figs/HODGE11_isofit_ri_r.png', 'tmp_2509.10144/./Figs/HODGE11_corner_ri_i.png', 'tmp_2509.10144/./Figs/HODGE11_corner_ri_r.png', 'tmp_2509.10144/./Figs/clusters_ages_compar_rev2.png', 'tmp_2509.10144/./Figs/clusters_mh_compar_rev2.png', 'tmp_2509.10144/./Figs/clusters_dm_compar_rev2.png', 'tmp_2509.10144/./Figs/clusters_ebv_compar_rev2.png', 'tmp_2509.10144/./Figs/clusters_old_v_circ_labels_rev2.png', 'tmp_2509.10144/./Figs/clusters_old_vr_labels_rev2.png', 'tmp_2509.10144/./Figs/clusters_old_vz_labels_rev2.png', 'tmp_2509.10144/./Figs/clusters_old_z_labels_rev2.png']\n",
      "copying  tmp_2509.10144/./Figs/HODGE11_isofit_ri_i.png to _build/html/\n",
      "copying  tmp_2509.10144/./Figs/HODGE11_isofit_ri_r.png to _build/html/\n",
      "copying  tmp_2509.10144/./Figs/HODGE11_corner_ri_i.png to _build/html/\n",
      "copying  tmp_2509.10144/./Figs/HODGE11_corner_ri_r.png to _build/html/\n",
      "copying  tmp_2509.10144/./Figs/clusters_ages_compar_rev2.png to _build/html/\n",
      "copying  tmp_2509.10144/./Figs/clusters_mh_compar_rev2.png to _build/html/\n",
      "copying  tmp_2509.10144/./Figs/clusters_dm_compar_rev2.png to _build/html/\n",
      "copying  tmp_2509.10144/./Figs/clusters_ebv_compar_rev2.png to _build/html/\n",
      "copying  tmp_2509.10144/./Figs/clusters_old_v_circ_labels_rev2.png to _build/html/\n",
      "copying  tmp_2509.10144/./Figs/clusters_old_vr_labels_rev2.png to _build/html/\n",
      "copying  tmp_2509.10144/./Figs/clusters_old_vz_labels_rev2.png to _build/html/\n",
      "copying  tmp_2509.10144/./Figs/clusters_old_z_labels_rev2.png to _build/html/\n",
      "exported in  _build/html/2509.10144.md\n",
      "    + _build/html/tmp_2509.10144/./Figs/HODGE11_isofit_ri_i.png\n",
      "    + _build/html/tmp_2509.10144/./Figs/HODGE11_isofit_ri_r.png\n",
      "    + _build/html/tmp_2509.10144/./Figs/HODGE11_corner_ri_i.png\n",
      "    + _build/html/tmp_2509.10144/./Figs/HODGE11_corner_ri_r.png\n",
      "    + _build/html/tmp_2509.10144/./Figs/clusters_ages_compar_rev2.png\n",
      "    + _build/html/tmp_2509.10144/./Figs/clusters_mh_compar_rev2.png\n",
      "    + _build/html/tmp_2509.10144/./Figs/clusters_dm_compar_rev2.png\n",
      "    + _build/html/tmp_2509.10144/./Figs/clusters_ebv_compar_rev2.png\n",
      "    + _build/html/tmp_2509.10144/./Figs/clusters_old_v_circ_labels_rev2.png\n",
      "    + _build/html/tmp_2509.10144/./Figs/clusters_old_vr_labels_rev2.png\n",
      "    + _build/html/tmp_2509.10144/./Figs/clusters_old_vz_labels_rev2.png\n",
      "    + _build/html/tmp_2509.10144/./Figs/clusters_old_z_labels_rev2.png\n",
      "found figures ['tmp_2509.10387/./Figures/density_hot_grayscale.png', 'tmp_2509.10387/./Figures/hot_galcenRV.png', 'tmp_2509.10387/./Figures/overdensity.png', 'tmp_2509.10387/./Figures/vr_overdensities.png', 'tmp_2509.10387/./Figures/vr_spiralarms.png', 'tmp_2509.10387/./Figures/apogee_dr17_vr.png']\n",
      "copying  tmp_2509.10387/./Figures/density_hot_grayscale.png to _build/html/\n",
      "copying  tmp_2509.10387/./Figures/hot_galcenRV.png to _build/html/\n",
      "copying  tmp_2509.10387/./Figures/overdensity.png to _build/html/\n",
      "copying  tmp_2509.10387/./Figures/vr_overdensities.png to _build/html/\n",
      "copying  tmp_2509.10387/./Figures/vr_spiralarms.png to _build/html/\n",
      "copying  tmp_2509.10387/./Figures/apogee_dr17_vr.png to _build/html/\n",
      "exported in  _build/html/2509.10387.md\n",
      "    + _build/html/tmp_2509.10387/./Figures/density_hot_grayscale.png\n",
      "    + _build/html/tmp_2509.10387/./Figures/hot_galcenRV.png\n",
      "    + _build/html/tmp_2509.10387/./Figures/overdensity.png\n",
      "    + _build/html/tmp_2509.10387/./Figures/vr_overdensities.png\n",
      "    + _build/html/tmp_2509.10387/./Figures/vr_spiralarms.png\n",
      "    + _build/html/tmp_2509.10387/./Figures/apogee_dr17_vr.png\n",
      "found figures ['tmp_2509.10440/./full_and_zoom_6822_annotated_high_res_compressed.png', 'tmp_2509.10440/./Agevsmass.png', 'tmp_2509.10440/./Rh_vs_Vmag.png']\n",
      "copying  tmp_2509.10440/./full_and_zoom_6822_annotated_high_res_compressed.png to _build/html/\n",
      "copying  tmp_2509.10440/./Agevsmass.png to _build/html/\n",
      "copying  tmp_2509.10440/./Rh_vs_Vmag.png to _build/html/\n",
      "exported in  _build/html/2509.10440.md\n",
      "    + _build/html/tmp_2509.10440/./full_and_zoom_6822_annotated_high_res_compressed.png\n",
      "    + _build/html/tmp_2509.10440/./Agevsmass.png\n",
      "    + _build/html/tmp_2509.10440/./Rh_vs_Vmag.png\n"
     ]
    }
   ],
   "source": [
    "for paper_id, md in documents:\n",
    "    export_markdown_summary(md, f\"{paper_id:s}.md\", '_build/html/')"
   ]
  },
  {
   "cell_type": "markdown",
   "id": "f087a0a7",
   "metadata": {
    "papermill": {
     "duration": 0.005789,
     "end_time": "2025-09-15T04:15:17.480072",
     "exception": false,
     "start_time": "2025-09-15T04:15:17.474283",
     "status": "completed"
    },
    "tags": []
   },
   "source": [
    "## Display the papers\n",
    "\n",
    "Not necessary but allows for a quick check."
   ]
  },
  {
   "cell_type": "code",
   "execution_count": 9,
   "id": "fd25f625",
   "metadata": {
    "execution": {
     "iopub.execute_input": "2025-09-15T04:15:17.492714Z",
     "iopub.status.busy": "2025-09-15T04:15:17.492456Z",
     "iopub.status.idle": "2025-09-15T04:15:17.501870Z",
     "shell.execute_reply": "2025-09-15T04:15:17.501188Z"
    },
    "papermill": {
     "duration": 0.016953,
     "end_time": "2025-09-15T04:15:17.502850",
     "exception": false,
     "start_time": "2025-09-15T04:15:17.485897",
     "status": "completed"
    },
    "scrolled": false,
    "tags": []
   },
   "outputs": [
    {
     "data": {
      "text/markdown": [
       "<div class=\"macros\" style=\"visibility:hidden;\">\n",
       "$\\newcommand{\\ensuremath}{}$\n",
       "$\\newcommand{\\xspace}{}$\n",
       "$\\newcommand{\\object}[1]{\\texttt{#1}}$\n",
       "$\\newcommand{\\farcs}{{.}''}$\n",
       "$\\newcommand{\\farcm}{{.}'}$\n",
       "$\\newcommand{\\arcsec}{''}$\n",
       "$\\newcommand{\\arcmin}{'}$\n",
       "$\\newcommand{\\ion}[2]{#1#2}$\n",
       "$\\newcommand{\\textsc}[1]{\\textrm{#1}}$\n",
       "$\\newcommand{\\hl}[1]{\\textrm{#1}}$\n",
       "$\\newcommand{\\footnote}[1]{}$\n",
       "$\\newcommand{\\paperone}{\\citetalias{2021AAEmsenhuberA}}$\n",
       "$\\newcommand{\\papertwo}{\\citetalias{2021AAEmsenhuberB}}$\n",
       "$\\newcommand{\\mearth}{M_\\oplus}$\n",
       "$\\newcommand{\\msun}{M_\\odot}$\n",
       "$\\newcommand{\\mj}{M_{\\textrm{\\tiny \\jupiter}}}$\n",
       "$\\newcommand{\\rj}{R_{\\textrm{\\tiny \\jupiter}}}$\n",
       "$\\newcommand{\\mstar}{M_\\star}$\n",
       "$\\newcommand{\\mplanet}{M_\\mathrm{planet}}$\n",
       "$\\newcommand{\\rplan}{R_\\mathrm{plan}}$\n",
       "$\\newcommand{\\nobs}{N_{\\rm obs}}$</div>\n",
       "\n",
       "\n",
       "\n",
       "<div id=\"title\">\n",
       "\n",
       "# The New Generation Planetary Population Synthesis (NGPPS): VII. Statistical comparison with the HARPS/Coralie survey\n",
       "\n",
       "</div>\n",
       "<div id=\"comments\">\n",
       "\n",
       "[![arXiv](https://img.shields.io/badge/arXiv-2509.09762-b31b1b.svg)](https://arxiv.org/abs/2509.09762)<mark>Appeared on: 2025-09-15</mark> -  _Accepted for publication in A&A. Abstract abridged to meet arXiv requirements_\n",
       "\n",
       "</div>\n",
       "<div id=\"authors\">\n",
       "\n",
       "A. Emsenhuber, et al. -- incl., <mark>R. Burn</mark>\n",
       "\n",
       "</div>\n",
       "<div id=\"abstract\">\n",
       "\n",
       "**Abstract:** Planetary population synthesis is a tool that is used to better understand the key processes of planet formation at the statistical level. We seek to quantify the fidelity with which modern population syntheses reproduce observations in view of their use as predictive tools. We compared synthetic populations from the Generation 3 Bern Model of Planet Formation and Evolution (core accretion, solar-type host stars) and the HARPS/Coralie radial velocity sample. We biased the synthetic planet population according to the completeness of the observed data. We then performed quantitative statistical comparisons and systematically identified agreements and  differences. Our nominal population reproduces many of the main features of the HARPS planets, such as two main groups of planets in the mass-distance diagram (close-in sub-Neptunes and distant giants), a bimodal mass function with a less populated `desert', an observed mean multiplicity of about 1.6, and several key correlations regarding the stellar metallicity dependency, the period ratio distribution, and the eccentricity distribution. Considering that the model was not optimised beforehand to reproduce any particular survey, this indicates that some of the important physical processes governing planetary formation could be captured. The remaining discrepancies that can be quantified thanks to the population synthesis approach point to areas that are not fully captured in the model. For instance, we find that the synthetic population has 1) in absolute terms too many planets by $\\SI{\\approx70}{\\%}$ , 2) a `desert' that is too deep by $\\SI{\\approx60}{\\%}$ , 3) a relative excess of giant planets by $\\SI{\\approx40}{\\%}$ , 4) planet eccentricities that are on average too low by a factor of about two (median of $\\num{0.07}$ versus $\\num{0.15}$ ), and 5) a metallicity effect that is too weak. Finally, the synthetic planets are overall too close to the star compared to the HARPS sample.The differences allowed us to find model parameters that better reproduce the observed planet masses, for which we computed additional synthetic populations.We find that decreasing the planet formation efficiency by increasing the planetesimal size re-balances the number of sub-Neptunes versus giant planets. Changing the efficiency of gas-driven migration also affects the sub-Neptune to giant planet ratio, with lower migration rates resulting in more giant planets and fewer sub-Neptunes. However, only modifying the model parameters seems to be insufficient for the model to fully reproduce both the observed mass and distance distributions at the same time. Instead, physical processes appear to be missing. Planets may originate on wider orbits than our model predicts. Mechanisms leading to higher eccentricities and slower disc-limited gas accretion also seem necessary. We also advocate that theoretical models should make a quantitative, rather than merely a qualitative, comparison between the many current and future large surveys and theoretical results to better understand the origins of planetary systems.\n",
       "\n",
       "</div>\n",
       "\n",
       "<div id=\"div_fig1\">\n",
       "\n",
       "<img src=\"tmp_2509.09762/./canon_cumul_pratio_inv.png\" alt=\"Fig17.1\" width=\"50%\"/><img src=\"tmp_2509.09762/./canon_hist_pratio_inv.png\" alt=\"Fig17.2\" width=\"50%\"/>\n",
       "\n",
       "**Figure 17. -** Cumulative distribution (left) and histogram (right) of the period ratios of adjacent planets for the biased 100-embryo population (\\texttt{NG76}, in black), the same population but with _N_-body interactions extended to \\SI{100}{\\mega\\year}(\\texttt{NG76longshot}, in blue), and the HARPS/Coralie surveys \\citepalias[in red]{2011MayorArxiv}. For the synthetic planets, the values are obtained over \\num{1000} simulated observations of the underlying population and showing the \\SI{95}{\\percent} confidence interval. The number of observable pairs is limited, as only systems with multiple planets are usable. The locations of several MMRs are highlighted. (*fig:comp-pratio*)\n",
       "\n",
       "</div>\n",
       "<div id=\"div_fig2\">\n",
       "\n",
       "<img src=\"tmp_2509.09762/./psize_kde_m.png\" alt=\"Fig11\" width=\"100%\"/>\n",
       "\n",
       "**Figure 11. -** Comparison of the planet mass distribution between different biased synthetic populations and the observed population. The nominal population with 20 embryos per system (\\texttt{NG74}, same as the orange line in Fig. \\ref{fig:nemb}) is shown with the black line; the others use the minimum of the Bondi rate and radial flow of the gas disc for the disc-limited gas accretion rate with different planetesimal size, as given in the legend. For each of the synthetic populations, we performed \\num{1000} Monte Carlo synthetic observations. The bold line showing the median of these, and the lighter region shows the \\SI{95}{\\percent} confidence interval. The results are shown as a kernel density estimate, though rescaled to be absolute. (*fig:psize-comp*)\n",
       "\n",
       "</div>\n",
       "<div id=\"div_fig3\">\n",
       "\n",
       "<img src=\"tmp_2509.09762/./match_mult.png\" alt=\"Fig7\" width=\"100%\"/>\n",
       "\n",
       "**Figure 7. -** Histogram of the number of planets per systems in both the HARPS/Coralie surveys (red) and the optimised synthetic population \\texttt{NG192}(green). (*fig:match-mult*)\n",
       "\n",
       "</div><div id=\"qrcode\"><img src=https://api.qrserver.com/v1/create-qr-code/?size=100x100&data=\"https://arxiv.org/abs/2509.09762\"></div>"
      ],
      "text/plain": [
       "<IPython.core.display.Markdown object>"
      ]
     },
     "metadata": {},
     "output_type": "display_data"
    },
    {
     "data": {
      "text/markdown": [
       "<div class=\"macros\" style=\"visibility:hidden;\">\n",
       "$\\newcommand{\\ensuremath}{}$\n",
       "$\\newcommand{\\xspace}{}$\n",
       "$\\newcommand{\\object}[1]{\\texttt{#1}}$\n",
       "$\\newcommand{\\farcs}{{.}''}$\n",
       "$\\newcommand{\\farcm}{{.}'}$\n",
       "$\\newcommand{\\arcsec}{''}$\n",
       "$\\newcommand{\\arcmin}{'}$\n",
       "$\\newcommand{\\ion}[2]{#1#2}$\n",
       "$\\newcommand{\\textsc}[1]{\\textrm{#1}}$\n",
       "$\\newcommand{\\hl}[1]{\\textrm{#1}}$\n",
       "$\\newcommand{\\footnote}[1]{}$\n",
       "$\\newcommand{\\tensorA}{\\boldsymbol{\\mathcal{A}}}$\n",
       "$\\newcommand{\\tensorO}{\\boldsymbol{\\mathcal{O}}}$\n",
       "$\\newcommand{\\tensorPhi}{\\boldsymbol{\\varPhi}}$\n",
       "$\\newcommand{\\tensorD}{\\boldsymbol{\\mathcal{D}}}$\n",
       "$\\newcommand{\\tensorS}{\\boldsymbol{\\mathcal{S}}}$\n",
       "$\\newcommand{\\tensorP}{\\boldsymbol{\\mathcal{P}}}$\n",
       "$\\newcommand{\\tensorE}{\\boldsymbol{\\mathcal{E}}}$\n",
       "$\\newcommand{\\tensorSest}{\\boldsymbol{\\hat{\\mathcal{S}}}}$\n",
       "$\\newcommand{\\tensorPest}{\\boldsymbol{\\hat{\\mathcal{P}}}}$\n",
       "$\\newcommand{\\Halpha}{\\ensuremath{\\mathsf{H}_{\\upalpha}}\\xspace}$\n",
       "$\\newcommand{\\Hbeta}{\\ensuremath{\\mathsf{H}_{\\upbeta}}\\xspace}$\n",
       "$\\newcommand{\\PaBeta}{\\ensuremath{\\mathsf{Pa}_{\\upbeta}}\\xspace}$\n",
       "$\\newcommand{\\BrGamma}{\\ensuremath{\\mathsf{Br}_{\\upgamma}}\\xspace}$\n",
       "$\\newcommand$\n",
       "$\\newcommand$\n",
       "$\\newcommand$\n",
       "$\\newcommand$\n",
       "$\\newcommand{\\arraystretch}{1.46}$\n",
       "$\\newcommand{\\arraystretch}{1.11}$</div>\n",
       "\n",
       "\n",
       "\n",
       "<div id=\"title\">\n",
       "\n",
       "# Stellar halo subtraction alternative for accreting companions' characterization with integral field spectroscopy: Analytical and on-sky demonstration on the PDS70, HTLup, and YSES1 systems\n",
       "\n",
       "</div>\n",
       "<div id=\"comments\">\n",
       "\n",
       "[![arXiv](https://img.shields.io/badge/arXiv-2509.09878-b31b1b.svg)](https://arxiv.org/abs/2509.09878)<mark>Appeared on: 2025-09-15</mark> -  _14 pages, 15 figures, to be published in A&A_\n",
       "\n",
       "</div>\n",
       "<div id=\"authors\">\n",
       "\n",
       "R. Julo, et al.\n",
       "\n",
       "</div>\n",
       "<div id=\"abstract\">\n",
       "\n",
       "**Abstract:** Medium-resolution integral field spectrographs (IFS), such as the Multi-Unit Spectroscopic Explorer (MUSE) instrument at the Very Large Telescope (VLT), are equipped to detect the emission lines (e.g., $\\Halpha, \\Hbeta$ ) of faint accreting companions when associated with dedicated stellar halo subtraction methods. We recently proposed a new approach based on polynomial modulations of a stellar spectrum estimate across the field of view, with orthogonal polynomials and lines masking. This new technique is designed to better preserve both continuum and emission lines of accreting companions. We seek to highlight and quantify analytically and on real data the benefits of this new approach over the one classically used, particularly with regard to distortions of the extracted spectra. We also examine both operating regimes. We carried out analytical calculations based on simple toy models of spectra to identify and quantify the main theoretical problems of the state-of-the-art technique, the proposed corrections of our new method, and the remaining limitations of the latter. Simulations of the most extreme situations identified were used to highlight these problems and corrections. Archival VLT/MUSE data of the young PDS70 and HTLup systems were used to vet the detection and characterization capabilities using on-sky observations. New images of the YSES1 planetary system were used to further illustrate the gains. We show that the state-of-the-art stellar halo subtraction method, based on low-pass filtering, can lead to the self-subtraction of the emission lines and modify the neighboring continua, depending on the line contrast to neighboring continuum contrast ratios. We show that the proposed technique corrects these characterization problems, while maintaining the same detection capabilities. The two protoplanets PDS70 b and c were detected with 5 $\\sigma$ significance. The $\\Halpha$ line estimate of the HTLup B stellar companion was improved by $\\sim$ 30 \\% for the integrated flux and by $\\sim$ 8 \\% for the 10 \\% -width. As for YSES1 b, we found it uniquely displays a combination of $\\Halpha$ , $\\Hbeta$ , CaII H \\& K triplet, and HeI lines in emission that can be attributed to accretion and/or chromospheric activity. We derived an accretion rate at $\\Halpha$ of $\\sim1.45 \\times 10^{-9}$ $\\mathrm{M_{Jup}/year}$ with our new method, versus $\\sim1.11 \\times 10^{-9}$ $\\mathrm{M_{Jup}/year}$ with the reference method, namely, $\\sim$ 30 \\% less. These new results are compatible with values derived for other companions in this mass range. We note that YSES1 c was not detected in our observations. The proposed subtraction method better preserves the spectral information, notably the emission line fluxes and profiles, while achieving similar detection performance. Based on a linear and parametric approach, it can be extended and/or combined with additional faint signal search algorithms.\n",
       "\n",
       "</div>\n",
       "\n",
       "<div id=\"div_fig1\">\n",
       "\n",
       "<img src=\"tmp_2509.09878/./YSES1b_Halpha_detail.png\" alt=\"Fig20\" width=\"100%\"/>\n",
       "\n",
       "**Figure 20. -** Zoom in on 51 channels around the $\\Halpha$ line of the YSES1 b spectrum estimates, both with the SGF (in blue) and LPM (in orange) methods. Colored areas delimit the 1-$\\sigma$ confidence intervals with regard to noise. Dotted Gaussians are fitted to the lines to estimate their main parameters (presented in the legend, with confidence intervals derived from Gaussian fits to the lower and upper bounds of those of the spectrum estimates). The horizontal dots indicate the zero-flux level, i.e., the theoretical flux lower bound. Unlike the LPM method (whose estimate baseline is positive), the SGF method yet cause abnormal negative values (i.e., which cannot be explained by additive electronic noise), as exposed by the Gaussian fits; that is mainly these negative values, unanticipated by the models, that disrupt the usual routines subsequently applied to the estimates. Moreover, even when the Gaussian parameters are calculated relative to their baselines (as is done here) in order to account for this effect as much as possible, it still leads to biased parameter estimations; in fact, self-subtraction not only shifts the lines but also vertically distorts them (as shown in Sect. \\ref{sgf}). (*fig:YSES1b_Halpha*)\n",
       "\n",
       "</div>\n",
       "<div id=\"div_fig2\">\n",
       "\n",
       "<img src=\"tmp_2509.09878/./YSES1b_Hbeta_detail.png\" alt=\"Fig21\" width=\"100%\"/>\n",
       "\n",
       "**Figure 21. -** Same as Fig. \\ref{fig:YSES1b_Halpha}, but for the $\\Hbeta$ line (the mask used by the LPM method during the estimation process being centered on the $\\Hbeta$ line). (*fig:YSES1b_Hbeta*)\n",
       "\n",
       "</div>\n",
       "<div id=\"div_fig3\">\n",
       "\n",
       "<img src=\"tmp_2509.09878/./SGF_with_out_line.png\" alt=\"Fig2\" width=\"100%\"/>\n",
       "\n",
       "**Figure 2. -** Subtraction results at the position of a planet with the SGF method. Left: Overlapping simulation (ground truth) and estimation of the stellar spaxel. There is no emission line in this simulation. Middle: The green spaxel is the estimation of the planetary spaxel, while the cyan one is the associated ground truth. The self-subtraction problem is clearly visible in this situation. Right: The reason for the self-subtraction is evidenced. This is the deformation estimation, in light pink, overfitting the planetary line component of the data to stellar spectrum estimation ratio, in purple. Yet, this overfitting is relatively greater than the planetary and stellar continuum-to-line ratios are different. The real deformation is in dark pink.\n",
       " (*fig:sgf_with_out_line*)\n",
       "\n",
       "</div><div id=\"qrcode\"><img src=https://api.qrserver.com/v1/create-qr-code/?size=100x100&data=\"https://arxiv.org/abs/2509.09878\"></div>"
      ],
      "text/plain": [
       "<IPython.core.display.Markdown object>"
      ]
     },
     "metadata": {},
     "output_type": "display_data"
    },
    {
     "data": {
      "text/markdown": [
       "<div class=\"macros\" style=\"visibility:hidden;\">\n",
       "$\\newcommand{\\ensuremath}{}$\n",
       "$\\newcommand{\\xspace}{}$\n",
       "$\\newcommand{\\object}[1]{\\texttt{#1}}$\n",
       "$\\newcommand{\\farcs}{{.}''}$\n",
       "$\\newcommand{\\farcm}{{.}'}$\n",
       "$\\newcommand{\\arcsec}{''}$\n",
       "$\\newcommand{\\arcmin}{'}$\n",
       "$\\newcommand{\\ion}[2]{#1#2}$\n",
       "$\\newcommand{\\textsc}[1]{\\textrm{#1}}$\n",
       "$\\newcommand{\\hl}[1]{\\textrm{#1}}$\n",
       "$\\newcommand{\\footnote}[1]{}$</div>\n",
       "\n",
       "\n",
       "\n",
       "<div id=\"title\">\n",
       "\n",
       "# Cluster Ages to Reconstruct the Milky Way Assembly (CARMA). IV.: Chrono-dynamics of 7 old LMC star clusters and the peculiar origin of NGC 1841\n",
       "\n",
       "</div>\n",
       "<div id=\"comments\">\n",
       "\n",
       "[![arXiv](https://img.shields.io/badge/arXiv-2509.10144-b31b1b.svg)](https://arxiv.org/abs/2509.10144)<mark>Appeared on: 2025-09-15</mark> -  _Accepted for publication in A&A, 22 pages, 13 figures, 4 tables_\n",
       "\n",
       "</div>\n",
       "<div id=\"authors\">\n",
       "\n",
       "F. Niederhofer, et al. -- incl., <mark>M. Häberle</mark>\n",
       "\n",
       "</div>\n",
       "<div id=\"abstract\">\n",
       "\n",
       "**Abstract:** In this study, we report conclusive evidence for an ancient star cluster that has been accreted by the Large Magellanic Cloud (LMC). By leveraging observations from the _Hubble_ Space Telescope ( _HST_ ), we investigate the chrono-dynamical structure of a sample of seven old star clusters within the LMC in a self-consistent way. The multi-epoch nature of the dataset allowed the determination of high-precision proper motions for the clusters. Employing an isochrone-fitting methodology, we additionally infer from the deep high-resolution _HST_ data homogeneous and robust estimates for their distances, ages and metallicities. Supplementing these data with literature line-of-sight velocities, we investigate the full 3-dimensional dynamics of the clusters within the frame of the LMC. With respect to the other clusters in our sample, NGC 1841 depicts a peculiar case. Its position in the age-metallicity plane, that makes it about 1 Gyr younger  than the other metal-poor LMC clusters, but also its dynamical properties with a radial orbit almost perpendicular to the LMC disc plane, clearly advocates for a different origin. We thus conclude that NGC 1841 has likely been accreted by the LMC from a smaller galaxy. The other clusters in our sample show disc-like kinematics, with the case of NGC 2210 being peculiar, based on its inclined orbit. Their coherent age-metallicity relation closely resembles that of Gaia-Sausage-Enceladus globular clusters, thus suggesting a similar early evolution for the two dwarf galaxies.  We do not find clear-cut chrono-kinematic evidence that NGC 2005 has been accreted by the LMC as suggested by a previous study based on its chemical abundance pattern. Regardless of its nature, its very old age illustrates that peculiar chemical evolutions already emerge at very early times.\n",
       "\n",
       "</div>\n",
       "\n",
       "<div id=\"div_fig1\">\n",
       "\n",
       "<img src=\"tmp_2509.10144/./Figs/HODGE11_isofit_ri_i.png\" alt=\"Fig6.1\" width=\"25%\"/><img src=\"tmp_2509.10144/./Figs/HODGE11_isofit_ri_r.png\" alt=\"Fig6.2\" width=\"25%\"/><img src=\"tmp_2509.10144/./Figs/HODGE11_corner_ri_i.png\" alt=\"Fig6.3\" width=\"25%\"/><img src=\"tmp_2509.10144/./Figs/HODGE11_corner_ri_r.png\" alt=\"Fig6.4\" width=\"25%\"/>\n",
       "\n",
       "**Figure 6. -** Isochrone fitting results for Hodge 11. (a) Best-fit isochrone model in the $m_{\\rm F814W}$ vs. $m_{\\rm F606W}-m_{\\rm F814W}$ CMD. (b) Best-fit isochrone model in the $m_{\\rm F606W}$ vs. $m_{\\rm F606W}-m_{\\rm F814W}$ CMD.\n",
       "        The red X-symbol shown in both CMDs corresponds to the location of the zero-age horizontal branch.\n",
       "        (c): Corner plot of the posterior probability distributions of pairwise model parameters for the $m_{\\rm F814W}$ vs. $m_{\\rm F606W}-m_{\\rm F814W}$ CMD. The best-fit parameters are quoted in the labels.\n",
       "        (d): Corner plot of the posterior probability distributions of pairwise model parameters for the $m_{\\rm F606W}$ vs. $m_{\\rm F606W}-m_{\\rm F814W}$ CMD. The best-fit parameters are quoted in the labels.\n",
       "         (*fig:hodge11_isofit*)\n",
       "\n",
       "</div>\n",
       "<div id=\"div_fig2\">\n",
       "\n",
       "<img src=\"tmp_2509.10144/./Figs/clusters_ages_compar_rev2.png\" alt=\"Fig4.1\" width=\"25%\"/><img src=\"tmp_2509.10144/./Figs/clusters_mh_compar_rev2.png\" alt=\"Fig4.2\" width=\"25%\"/><img src=\"tmp_2509.10144/./Figs/clusters_dm_compar_rev2.png\" alt=\"Fig4.3\" width=\"25%\"/><img src=\"tmp_2509.10144/./Figs/clusters_ebv_compar_rev2.png\" alt=\"Fig4.4\" width=\"25%\"/>\n",
       "\n",
       "**Figure 4. -** Comparison between the cluster parameters derived in this work and literature values. Top-left panel: Differences between the measured cluster ages and ages derived by [Milone, Cordoni and Marino (2023)](). Top-right panel: Differences between the inferred metallicity and the results from [Grocholski, et. al (2006)](), [Mucciarelli, Massari and Minelli (2021)](), [Song, Mateo and Bailey (2021)]() and [ and Sarajedini (2024)]().\n",
       "Bottom-left panel: Differences between the distance modulus derived in this study and the measurements from [Wagner-Kaiser, Mackey and Sarajedini (2017)]() and [Milone, Cordoni and Marino (2023)](). Bottom-right panel: Differences between the derived $E(B-V)$ values and the reddenings from [Wagner-Kaiser, Mackey and Sarajedini (2017)]() and [Milone, Cordoni and Marino (2023)](), as well as the resulting values from the reddening maps from [Schlegel, Finkbeiner and Davis (1998)]() and [Skowron, Skowron and Udalski (2021)]().\n",
       " (*fig:clusters_compar*)\n",
       "\n",
       "</div>\n",
       "<div id=\"div_fig3\">\n",
       "\n",
       "<img src=\"tmp_2509.10144/./Figs/clusters_old_v_circ_labels_rev2.png\" alt=\"Fig5.1\" width=\"25%\"/><img src=\"tmp_2509.10144/./Figs/clusters_old_vr_labels_rev2.png\" alt=\"Fig5.2\" width=\"25%\"/><img src=\"tmp_2509.10144/./Figs/clusters_old_vz_labels_rev2.png\" alt=\"Fig5.3\" width=\"25%\"/><img src=\"tmp_2509.10144/./Figs/clusters_old_z_labels_rev2.png\" alt=\"Fig5.4\" width=\"25%\"/>\n",
       "\n",
       "**Figure 5. -** Outline of the clusters' velocities and positions within the LMC. In each panel, NGC 1841 is highlighted with triangle symbol. Panel (a) shows the tangential velocity V$_{\\phi}$ as a function of the radial distance from the LMC centre R. Also shown are model circular velocities resulting from a pure NFW profile (orange solid line) and a model composed of a dark matter halo and a stellar disc and bar (green dashed line). The size of the stellar bar is indicated by the vertical dashed line. The radial velocity V$_{R}$ as a function of R is presented in panel (b). Panel (c) illustrates the out-of-plane velocity V$_{Z}$ as a function of R and panel (d) shows the vertical distance from the plane Z as a function of R.\n",
       " (*fig:clusters_kinematics*)\n",
       "\n",
       "</div><div id=\"qrcode\"><img src=https://api.qrserver.com/v1/create-qr-code/?size=100x100&data=\"https://arxiv.org/abs/2509.10144\"></div>"
      ],
      "text/plain": [
       "<IPython.core.display.Markdown object>"
      ]
     },
     "metadata": {},
     "output_type": "display_data"
    },
    {
     "data": {
      "text/markdown": [
       "<div class=\"macros\" style=\"visibility:hidden;\">\n",
       "$\\newcommand{\\ensuremath}{}$\n",
       "$\\newcommand{\\xspace}{}$\n",
       "$\\newcommand{\\object}[1]{\\texttt{#1}}$\n",
       "$\\newcommand{\\farcs}{{.}''}$\n",
       "$\\newcommand{\\farcm}{{.}'}$\n",
       "$\\newcommand{\\arcsec}{''}$\n",
       "$\\newcommand{\\arcmin}{'}$\n",
       "$\\newcommand{\\ion}[2]{#1#2}$\n",
       "$\\newcommand{\\textsc}[1]{\\textrm{#1}}$\n",
       "$\\newcommand{\\hl}[1]{\\textrm{#1}}$\n",
       "$\\newcommand{\\footnote}[1]{}$</div>\n",
       "\n",
       "\n",
       "\n",
       "<div id=\"title\">\n",
       "\n",
       "# The large-scale kinematics of young stars in the Milky Way disc: first results from SDSS-V\n",
       "\n",
       "</div>\n",
       "<div id=\"comments\">\n",
       "\n",
       "[![arXiv](https://img.shields.io/badge/arXiv-2509.10387-b31b1b.svg)](https://arxiv.org/abs/2509.10387)<mark>Appeared on: 2025-09-15</mark> -  _13 pages (13 figures) + 3 pages of appendices (5 figures). Under review at A&A; revised after first referee comments_\n",
       "\n",
       "</div>\n",
       "<div id=\"authors\">\n",
       "\n",
       "E. Zari, et al. -- incl., <mark>H.-W. Rix</mark>\n",
       "\n",
       "</div>\n",
       "<div id=\"abstract\">\n",
       "\n",
       "**Abstract:** We present a first large-scale kinematic map of $\\sim$ 50,000 young OB stars ( $T_{\\rm eff} \\geq 10,000$ K), based on BOSS spectroscopy from the Milky Way Mapper OB program in the ongoing Sloan Digital Sky Survey V (SDSS-V). Using photogeometric distances, line-of-sight velocities and Gaia DR3 proper motions, we map 3D Galactocentric velocities across the Galactic plane to $\\sim$ 5 kpc from the Sun, with a focus on radial motions ( $v_R$ ). Our results reveal mean radial motion with amplitudes of $\\pm 30$ km/s that are coherent on kiloparsec scales, alternating between inward and outward motions. These $\\bar{v}_R$ amplitudes are considerably higher than those observed for older, red giant populations. These kinematic patterns show only a weak correlation with spiral arm over-densities. Age estimates, derived from MIST isochrones, indicate that 85 \\% of the sample is younger than $\\sim300$ Myr and that the youngest stars ( $\\le 30$ Myr) align well with density enhancements. The age-dependent $\\bar{v}_R$ in Auriga makes it plausible that younger stars exhibits different velocity variations than older giants. The origin of the radial velocity features remains uncertain, and may result from a combination of factors,  including spiral arm dynamics, the Galactic bar, resonant interactions, or phase mixing following a perturbation. The present analysis is based on approximately one-third of the full target sample. The completed survey will enable a more comprehensive investigation of these features and a detailed dynamical interpretation.\n",
       "\n",
       "</div>\n",
       "\n",
       "<div id=\"div_fig1\">\n",
       "\n",
       "<img src=\"tmp_2509.10387/./Figures/density_hot_grayscale.png\" alt=\"Fig12.1\" width=\"50%\"/><img src=\"tmp_2509.10387/./Figures/hot_galcenRV.png\" alt=\"Fig12.2\" width=\"50%\"/>\n",
       "\n",
       "**Figure 12. -** Distribution of the Hot Star Sample in the Galactic plane. The left panel shows the density distribution of the sources. The right panel shows the distribution of sources colour-coded by their Galactocentric radial velocity (computed as described in the text). In both panels, the Sun is in $X,Y =$(-8.2,0) kpc, and it is indicated by the yellow star. The Galactic centre is in $X,Y =$(0,0) kpc. The dashed circles have radii of 2, 4, 6, 8, and 10 kpc. The solid lines indicate constant Galactic longitudes. (*fig:map-galcenrv*)\n",
       "\n",
       "</div>\n",
       "<div id=\"div_fig2\">\n",
       "\n",
       "<img src=\"tmp_2509.10387/./Figures/overdensity.png\" alt=\"Fig14.1\" width=\"33%\"/><img src=\"tmp_2509.10387/./Figures/vr_overdensities.png\" alt=\"Fig14.2\" width=\"33%\"/><img src=\"tmp_2509.10387/./Figures/vr_spiralarms.png\" alt=\"Fig14.3\" width=\"33%\"/>\n",
       "\n",
       "**Figure 14. -** Comparison between the density distribution of OB stars, the spiral arm model from  \\cite{Reid2019}, and the radial velocity asymmetries.  In the left panel and central panels, the solid black contours  represent the  0, and 0.5 density contrast levels. In the right panel, the spiral arms are named following \\cite{Reid2019}: Outer arm; Perseus arm; Local arm;  Sagittarius–Carina arm; Scutum–Centaurus arm. In the three panels, the yellow star indicates the Sun's position in $X,Y = -8.2,0$ kpc, and the Galactic centre is located in $X,Y = 0,0$ kpc. The dashed lines represent circle radii of  2, 4, and 6 kpc.  The solid lines indicate constant Galactic longitudes. (*fig:compare_rv*)\n",
       "\n",
       "</div>\n",
       "<div id=\"div_fig3\">\n",
       "\n",
       "<img src=\"tmp_2509.10387/./Figures/apogee_dr17_vr.png\" alt=\"Fig7\" width=\"100%\"/>\n",
       "\n",
       "**Figure 7. -** Distribution of red giant stars in the Milky Way disc from APOGEE DR17. The red giant stars are colour-coded by their average Galactocentric radial velocity  The location of the Sun is indicated by  the yellow star. The dashed black lines mark concentric circles at $\\Delta R=2$ kpc.  The solid lines indicate constant Galactic longitudes. The region within 5 kpc from the Galactic centre is masked as the stellar motions in that region are influenced by the bar. (*fig:apogeeDR17*)\n",
       "\n",
       "</div><div id=\"qrcode\"><img src=https://api.qrserver.com/v1/create-qr-code/?size=100x100&data=\"https://arxiv.org/abs/2509.10387\"></div>"
      ],
      "text/plain": [
       "<IPython.core.display.Markdown object>"
      ]
     },
     "metadata": {},
     "output_type": "display_data"
    },
    {
     "data": {
      "text/markdown": [
       "<div class=\"macros\" style=\"visibility:hidden;\">\n",
       "$\\newcommand{\\ensuremath}{}$\n",
       "$\\newcommand{\\xspace}{}$\n",
       "$\\newcommand{\\object}[1]{\\texttt{#1}}$\n",
       "$\\newcommand{\\farcs}{{.}''}$\n",
       "$\\newcommand{\\farcm}{{.}'}$\n",
       "$\\newcommand{\\arcsec}{''}$\n",
       "$\\newcommand{\\arcmin}{'}$\n",
       "$\\newcommand{\\ion}[2]{#1#2}$\n",
       "$\\newcommand{\\textsc}[1]{\\textrm{#1}}$\n",
       "$\\newcommand{\\hl}[1]{\\textrm{#1}}$\n",
       "$\\newcommand{\\footnote}[1]{}$\n",
       "$\\newcommand{\\orcid}[1]$\n",
       "$\\newcommand{\\arraystretch}{1.4}$</div>\n",
       "\n",
       "\n",
       "\n",
       "<div id=\"title\">\n",
       "\n",
       "# $\\Euclid$: Early Release Observations -- The star cluster systems of the Local Group dwarf galaxies IC 10 and NGC 6822$\\thanks{This paper is published on     behalf of the Euclid Consortium}$\n",
       "\n",
       "</div>\n",
       "<div id=\"comments\">\n",
       "\n",
       "[![arXiv](https://img.shields.io/badge/arXiv-2509.10440-b31b1b.svg)](https://arxiv.org/abs/2509.10440)<mark>Appeared on: 2025-09-15</mark> - \n",
       "\n",
       "</div>\n",
       "<div id=\"authors\">\n",
       "\n",
       "J. M. Howell, et al. -- incl., <mark>K. Jahnke</mark>\n",
       "\n",
       "</div>\n",
       "<div id=\"abstract\">\n",
       "\n",
       "**Abstract:** Star clusters are valuable indicators of galaxy evolution, offering insights into the buildup of stellar populations across cosmic time. Understanding the intrinsic star cluster populations of dwarf galaxies is particularly important given these systems' role in the hierarchical growth of larger systems.  We use data from $\\Euclid$ 's Early Release Observation programme to study star clusters in two star-forming dwarf irregular galaxies in the Local Group, NGC 6822 and IC 10 [ $M_{\\star}\\sim$ (1--4) $\\times10^8 M_{\\odot}$ ] . With $\\Euclid$ , star clusters are resolved into individual stars across the main bodies and haloes of both galaxies. Through visual inspection of the $\\IE$ images, we uncover 30 new star cluster candidates in NGC 6822 and 16 in IC 10, ranging from compact to diffuse extended clusters. We compile and re-evaluate previously identified literature candidates, resulting in final combined catalogues of 52 (NGC 6822) and 71 (IC 10) cluster candidates with confidence-based classifications. We present homogeneous photometry in $\\IE$ , $\\YE$ , $\\JE$ , and $\\HE$ , and in archival $_ UBVRI_$ data, alongside size measurements and properties derived from the SED-fitting code \\texttt{BAGPIPES} . Through synthetic cluster injection, we conclude our sample is ${\\sim}50\\%$ complete to $M \\lesssim 10^3 {M}_{\\odot}$ for ages $\\lesssim100 \\rm{Myr}$ , and to $M \\lesssim 3\\times10^4 {M}_{\\odot}$ for ages of ${\\sim}10 \\rm{Gyr}$ . We find that IC 10 has more young clusters than NGC 6822, and its young clusters extend to higher masses, consistent with its starburst nature.  We find several old massive ( $\\gtrsim10^5 M_{\\odot}$ ) clusters in both dwarfs, including an exceptional cluster in NGC 6822's outskirts with a mass of $1.3 \\times 10^6 M_{\\odot}$ , nearly twice as massive as any other old cluster in either galaxy.  In NGC 6822, we also identify a previously undetected, old, and extended cluster ( $R_{\\mathrm{h}} = 12.4 \\pm 0.11 \\mathrm{pc}$ ). Using well-defined criteria, we identify 11 candidate GCs in NGC 6822 and eight in IC 10.  Both galaxies have high specific frequencies ( $S_{\\rm N}$ ) for their luminosities but remain consistent with the known GC scaling relationships in the low-luminosity regime.\n",
       "\n",
       "</div>\n",
       "\n",
       "<div id=\"div_fig1\">\n",
       "\n",
       "<img src=\"tmp_2509.10440/./full_and_zoom_6822_annotated_high_res_compressed.png\" alt=\"Fig14\" width=\"100%\"/>\n",
       "\n",
       "**Figure 14. -** Examples of old and young clusters across NGC 6822, both previously found and new from this study, showcased alongside an RGB image of the \\Euclid data displaying its full FoV. \\IE, \\YE, and \\HE are the blue, green, and red channels, respectively. Each cutout is ${\\sim}44$ pc on the side in the \\IE band, displayed in log scale. The zoom-in region is roughly $16$\\farcm$5 \\times 13$\\farcm$5$($2.5 \\text{kpc} \\times 2  \\text{kpc}$). The top row includes the GCs SC7 (ESCC-NGC6822-08) and SC5 (ESCC-NGC6822-06), the middle row shows the cluster Hubble-VI (ESCC-NGC6822-01), and the bottom row features a newly identified extended cluster candidate, ESCC-NGC6822-27. (*fig:example_clusts*)\n",
       "\n",
       "</div>\n",
       "<div id=\"div_fig2\">\n",
       "\n",
       "<img src=\"tmp_2509.10440/./Agevsmass.png\" alt=\"Fig19\" width=\"100%\"/>\n",
       "\n",
       "**Figure 19. -** Masses as a function of age as derived by \\texttt{BAGPIPES} for the star clusters in NGC 6822 (left) and IC 10 (right). The blue line shows the 50\\% completeness limit in the inner regions. Also plotted in grey is the sample of SMC clusters from \\citet{Gatto2021}. (*fig:age_vs_mass*)\n",
       "\n",
       "</div>\n",
       "<div id=\"div_fig3\">\n",
       "\n",
       "<img src=\"tmp_2509.10440/./Rh_vs_Vmag.png\" alt=\"Fig7\" width=\"100%\"/>\n",
       "\n",
       "**Figure 7. -** Half-light radii as a function of absolute _ V_-band magnitude for the old cluster sample, and for the sample of GCs from \\citep{Georgiev2009}. The empirical relation  $\\logten(R_{\\rm h}/{\\rm pc}) = 0.25  {M_V} + 2.95$\\citep{Mackey2005}, which defines the upper envelope of MW GCs, is overplotted. Small red circles mark the three most extended clusters in NGC 6822.   (*fig:Rh_vs_Vmag*)\n",
       "\n",
       "</div><div id=\"qrcode\"><img src=https://api.qrserver.com/v1/create-qr-code/?size=100x100&data=\"https://arxiv.org/abs/2509.10440\"></div>"
      ],
      "text/plain": [
       "<IPython.core.display.Markdown object>"
      ]
     },
     "metadata": {},
     "output_type": "display_data"
    }
   ],
   "source": [
    "[display(Markdown(k[1])) for k in documents];"
   ]
  },
  {
   "cell_type": "markdown",
   "id": "873873a4",
   "metadata": {
    "papermill": {
     "duration": 0.006691,
     "end_time": "2025-09-15T04:15:17.516449",
     "exception": false,
     "start_time": "2025-09-15T04:15:17.509758",
     "status": "completed"
    },
    "tags": []
   },
   "source": [
    "# Create HTML index"
   ]
  },
  {
   "cell_type": "code",
   "execution_count": 10,
   "id": "cf665672",
   "metadata": {
    "execution": {
     "iopub.execute_input": "2025-09-15T04:15:17.531058Z",
     "iopub.status.busy": "2025-09-15T04:15:17.530781Z",
     "iopub.status.idle": "2025-09-15T04:15:17.538135Z",
     "shell.execute_reply": "2025-09-15T04:15:17.537557Z"
    },
    "papermill": {
     "duration": 0.0159,
     "end_time": "2025-09-15T04:15:17.539169",
     "exception": false,
     "start_time": "2025-09-15T04:15:17.523269",
     "status": "completed"
    },
    "tags": []
   },
   "outputs": [
    {
     "name": "stdout",
     "output_type": "stream",
     "text": [
      "130  publications files modified in the last 7 days.\n"
     ]
    }
   ],
   "source": [
    "from datetime import datetime, timedelta, timezone\n",
    "from glob import glob\n",
    "import os\n",
    "\n",
    "files = glob('_build/html/*.md')\n",
    "days = 7\n",
    "now = datetime.today()\n",
    "res = []\n",
    "for fk in files:\n",
    "    stat_result = os.stat(fk).st_ctime\n",
    "    modified = datetime.fromtimestamp(stat_result, tz=timezone.utc).replace(tzinfo=None)\n",
    "    delta = now.today() - modified\n",
    "    if delta <= timedelta(days=days):\n",
    "        res.append((delta.seconds, fk))\n",
    "res = [k[1] for k in reversed(sorted(res, key=lambda x:x[1]))]\n",
    "npub = len(res)\n",
    "print(len(res), f\" publications files modified in the last {days:d} days.\")\n",
    "# [ print('\\t', k) for k in res ];"
   ]
  },
  {
   "cell_type": "code",
   "execution_count": 11,
   "id": "015de740",
   "metadata": {
    "execution": {
     "iopub.execute_input": "2025-09-15T04:15:17.553516Z",
     "iopub.status.busy": "2025-09-15T04:15:17.553299Z",
     "iopub.status.idle": "2025-09-15T04:15:17.565306Z",
     "shell.execute_reply": "2025-09-15T04:15:17.564731Z"
    },
    "papermill": {
     "duration": 0.020337,
     "end_time": "2025-09-15T04:15:17.566291",
     "exception": false,
     "start_time": "2025-09-15T04:15:17.545954",
     "status": "completed"
    },
    "tags": []
   },
   "outputs": [
    {
     "name": "stdout",
     "output_type": "stream",
     "text": [
      "11  publications in the last 7 days.\n"
     ]
    }
   ],
   "source": [
    "import datetime\n",
    "from glob import glob\n",
    "\n",
    "def get_last_n_days(lst, days=1):\n",
    "    \"\"\" Get the documents from the last n days \"\"\"\n",
    "    sorted_lst = sorted(lst, key=lambda x: x[1], reverse=True)\n",
    "    for fname, date in sorted_lst:\n",
    "        if date >= str(datetime.date.today() - datetime.timedelta(days=days)):\n",
    "            yield fname\n",
    "\n",
    "def extract_appearance_dates(lst_file):\n",
    "    dates = []\n",
    "\n",
    "    def get_date(line):\n",
    "        return line\\\n",
    "            .split('Appeared on:')[-1]\\\n",
    "            .split('</mark>')[0].strip()\n",
    "\n",
    "    for fname in lst:\n",
    "        with open(fname, 'r') as f:\n",
    "            found_date = False\n",
    "            for line in f:\n",
    "                if not found_date:\n",
    "                    if \"Appeared on\" in line:\n",
    "                        found_date = True\n",
    "                        dates.append((fname, get_date(line)))\n",
    "                else:\n",
    "                    break\n",
    "    return dates\n",
    "\n",
    "from glob import glob\n",
    "lst = glob('_build/html/*md')\n",
    "days = 7\n",
    "dates = extract_appearance_dates(lst)\n",
    "res = list(get_last_n_days(dates, days))\n",
    "npub = len(res)\n",
    "print(len(res), f\" publications in the last {days:d} days.\")"
   ]
  },
  {
   "cell_type": "code",
   "execution_count": 12,
   "id": "52ca0208",
   "metadata": {
    "execution": {
     "iopub.execute_input": "2025-09-15T04:15:17.580741Z",
     "iopub.status.busy": "2025-09-15T04:15:17.580509Z",
     "iopub.status.idle": "2025-09-15T04:15:17.585391Z",
     "shell.execute_reply": "2025-09-15T04:15:17.584724Z"
    },
    "papermill": {
     "duration": 0.013145,
     "end_time": "2025-09-15T04:15:17.586309",
     "exception": false,
     "start_time": "2025-09-15T04:15:17.573164",
     "status": "completed"
    },
    "scrolled": false,
    "tags": []
   },
   "outputs": [],
   "source": [
    "def create_carousel(npub=4):\n",
    "    \"\"\" Generate the HTML code for a carousel with `npub` slides \"\"\"\n",
    "    carousel = [\"\"\"  <div class=\"carousel\" \"\"\",\n",
    "                \"\"\"       data-flickity='{ \"autoPlay\": 10000, \"adaptiveHeight\": true, \"resize\": true, \"wrapAround\": true, \"pauseAutoPlayOnHover\": true, \"groupCells\": 1 }' id=\"asyncTypeset\">\"\"\"\n",
    "                ]\n",
    "    \n",
    "    item_str = \"\"\"    <div class=\"carousel-cell\"> <div id=\"slide{k}\" class=\"md_view\">Content {k}</div> </div>\"\"\"\n",
    "    for k in range(1, npub + 1):\n",
    "        carousel.append(item_str.format(k=k))\n",
    "    carousel.append(\"  </div>\")\n",
    "    return '\\n'.join(carousel)\n",
    "\n",
    "def create_grid(npub=4):\n",
    "    \"\"\" Generate the HTML code for a flat grid with `npub` slides \"\"\"\n",
    "    grid = [\"\"\"  <div class=\"grid\"> \"\"\",\n",
    "                ]\n",
    "    \n",
    "    item_str = \"\"\"    <div class=\"grid-item\"> <div id=\"slide{k}\" class=\"md_view\">Content {k}</div> </div>\"\"\"\n",
    "    for k in range(1, npub + 1):\n",
    "        grid.append(item_str.format(k=k))\n",
    "    grid.append(\"  </div>\")\n",
    "    return '\\n'.join(grid)"
   ]
  },
  {
   "cell_type": "code",
   "execution_count": 13,
   "id": "a6eac5b6",
   "metadata": {
    "execution": {
     "iopub.execute_input": "2025-09-15T04:15:17.601149Z",
     "iopub.status.busy": "2025-09-15T04:15:17.600923Z",
     "iopub.status.idle": "2025-09-15T04:15:17.605717Z",
     "shell.execute_reply": "2025-09-15T04:15:17.605219Z"
    },
    "papermill": {
     "duration": 0.013354,
     "end_time": "2025-09-15T04:15:17.606688",
     "exception": false,
     "start_time": "2025-09-15T04:15:17.593334",
     "status": "completed"
    },
    "scrolled": false,
    "tags": []
   },
   "outputs": [],
   "source": [
    "carousel = create_carousel(npub)\n",
    "docs = ', '.join(['\"{0:s}\"'.format(k.split('/')[-1]) for k in res])\n",
    "slides = ', '.join([f'\"slide{k}\"' for k in range(1, npub + 1)])\n",
    "\n",
    "with open(\"daily_template.html\", \"r\") as tpl:\n",
    "    page = tpl.read()\n",
    "    page = page.replace(\"{%-- carousel:s --%}\", carousel)\\\n",
    "               .replace(\"{%-- suptitle:s --%}\",  \"7-day archives\" )\\\n",
    "               .replace(\"{%-- docs:s --%}\", docs)\\\n",
    "               .replace(\"{%-- slides:s --%}\", slides)\n",
    "    \n",
    "with open(\"_build/html/index_7days.html\", 'w') as fout:\n",
    "    fout.write(page)"
   ]
  },
  {
   "cell_type": "code",
   "execution_count": 14,
   "id": "adc1a1ec",
   "metadata": {
    "execution": {
     "iopub.execute_input": "2025-09-15T04:15:17.621357Z",
     "iopub.status.busy": "2025-09-15T04:15:17.621121Z",
     "iopub.status.idle": "2025-09-15T04:15:17.627058Z",
     "shell.execute_reply": "2025-09-15T04:15:17.626539Z"
    },
    "papermill": {
     "duration": 0.014353,
     "end_time": "2025-09-15T04:15:17.627979",
     "exception": false,
     "start_time": "2025-09-15T04:15:17.613626",
     "status": "completed"
    },
    "tags": []
   },
   "outputs": [
    {
     "name": "stdout",
     "output_type": "stream",
     "text": [
      "5  publications in the last day.\n"
     ]
    }
   ],
   "source": [
    "# redo for today\n",
    "days = 1\n",
    "res = list(get_last_n_days(dates, days))\n",
    "npub = len(res)\n",
    "print(len(res), f\" publications in the last day.\")\n",
    "\n",
    "carousel = create_carousel(npub)\n",
    "docs = ', '.join(['\"{0:s}\"'.format(k.split('/')[-1]) for k in res])\n",
    "slides = ', '.join([f'\"slide{k}\"' for k in range(1, npub + 1)])\n",
    "\n",
    "with open(\"daily_template.html\", \"r\") as tpl:\n",
    "    page = tpl.read()\n",
    "    page = page.replace(\"{%-- carousel:s --%}\", carousel)\\\n",
    "               .replace(\"{%-- suptitle:s --%}\",  \"Daily\" )\\\n",
    "               .replace(\"{%-- docs:s --%}\", docs)\\\n",
    "               .replace(\"{%-- slides:s --%}\", slides)\n",
    "    \n",
    "# print(carousel, docs, slides)\n",
    "# print(page)\n",
    "with open(\"_build/html/index_daily.html\", 'w') as fout:\n",
    "    fout.write(page)"
   ]
  },
  {
   "cell_type": "code",
   "execution_count": 15,
   "id": "00eece82",
   "metadata": {
    "execution": {
     "iopub.execute_input": "2025-09-15T04:15:17.642472Z",
     "iopub.status.busy": "2025-09-15T04:15:17.642290Z",
     "iopub.status.idle": "2025-09-15T04:15:17.648317Z",
     "shell.execute_reply": "2025-09-15T04:15:17.647805Z"
    },
    "papermill": {
     "duration": 0.014349,
     "end_time": "2025-09-15T04:15:17.649265",
     "exception": false,
     "start_time": "2025-09-15T04:15:17.634916",
     "status": "completed"
    },
    "scrolled": false,
    "tags": []
   },
   "outputs": [
    {
     "name": "stdout",
     "output_type": "stream",
     "text": [
      "6  6 publications selected.\n"
     ]
    }
   ],
   "source": [
    "# Create the flat grid of the last N papers (fixed number regardless of dates)\n",
    "from itertools import islice \n",
    "\n",
    "npub = 6\n",
    "res = [k[0] for k in (islice(reversed(sorted(dates, key=lambda x: x[1])), 6))]\n",
    "print(len(res), f\" {npub} publications selected.\")\n",
    "\n",
    "grid = create_grid(npub)\n",
    "docs = ', '.join(['\"{0:s}\"'.format(k.split('/')[-1]) for k in res])\n",
    "slides = ', '.join([f'\"slide{k}\"' for k in range(1, npub + 1)])\n",
    "\n",
    "with open(\"grid_template.html\", \"r\") as tpl:\n",
    "    page = tpl.read()\n",
    "    page = page.replace(\"{%-- grid-content:s --%}\", grid)\\\n",
    "               .replace(\"{%-- suptitle:s --%}\",  f\"Last {npub:,d} papers\" )\\\n",
    "               .replace(\"{%-- docs:s --%}\", docs)\\\n",
    "               .replace(\"{%-- slides:s --%}\", slides)\n",
    "    \n",
    "# print(grid, docs, slides)\n",
    "# print(page)\n",
    "with open(\"_build/html/index_npub_grid.html\", 'w') as fout:\n",
    "    fout.write(page)"
   ]
  }
 ],
 "metadata": {
  "kernelspec": {
   "display_name": "Python 3 (ipykernel)",
   "language": "python",
   "name": "python3"
  },
  "language_info": {
   "codemirror_mode": {
    "name": "ipython",
    "version": 3
   },
   "file_extension": ".py",
   "mimetype": "text/x-python",
   "name": "python",
   "nbconvert_exporter": "python",
   "pygments_lexer": "ipython3",
   "version": "3.9.23"
  },
  "papermill": {
   "default_parameters": {},
   "duration": 172.886083,
   "end_time": "2025-09-15T04:15:17.871571",
   "environment_variables": {},
   "exception": null,
   "input_path": "MPIA daily digest.ipynb",
   "output_path": "log.ipynb",
   "parameters": {},
   "start_time": "2025-09-15T04:12:24.985488",
   "version": "2.6.0"
  },
  "vscode": {
   "interpreter": {
    "hash": "aee8b7b246df8f9039afb4144a1f6fd8d2ca17a180786b69acc140d282b71a49"
   }
  },
  "widgets": {
   "application/vnd.jupyter.widget-state+json": {
    "state": {
     "1543152377584699b654f673c40f7372": {
      "model_module": "@jupyter-widgets/base",
      "model_module_version": "2.0.0",
      "model_name": "LayoutModel",
      "state": {
       "_model_module": "@jupyter-widgets/base",
       "_model_module_version": "2.0.0",
       "_model_name": "LayoutModel",
       "_view_count": null,
       "_view_module": "@jupyter-widgets/base",
       "_view_module_version": "2.0.0",
       "_view_name": "LayoutView",
       "align_content": null,
       "align_items": null,
       "align_self": null,
       "border_bottom": null,
       "border_left": null,
       "border_right": null,
       "border_top": null,
       "bottom": null,
       "display": null,
       "flex": null,
       "flex_flow": null,
       "grid_area": null,
       "grid_auto_columns": null,
       "grid_auto_flow": null,
       "grid_auto_rows": null,
       "grid_column": null,
       "grid_gap": null,
       "grid_row": null,
       "grid_template_areas": null,
       "grid_template_columns": null,
       "grid_template_rows": null,
       "height": null,
       "justify_content": null,
       "justify_items": null,
       "left": null,
       "margin": null,
       "max_height": null,
       "max_width": null,
       "min_height": null,
       "min_width": null,
       "object_fit": null,
       "object_position": null,
       "order": null,
       "overflow": null,
       "padding": null,
       "right": null,
       "top": null,
       "visibility": null,
       "width": null
      }
     },
     "1d506ae41de54e60b0c770e1c26623a3": {
      "model_module": "@jupyter-widgets/controls",
      "model_module_version": "2.0.0",
      "model_name": "HTMLStyleModel",
      "state": {
       "_model_module": "@jupyter-widgets/controls",
       "_model_module_version": "2.0.0",
       "_model_name": "HTMLStyleModel",
       "_view_count": null,
       "_view_module": "@jupyter-widgets/base",
       "_view_module_version": "2.0.0",
       "_view_name": "StyleView",
       "background": null,
       "description_width": "",
       "font_size": null,
       "text_color": null
      }
     },
     "1d6fb11ae86c425994833a61ff46fe32": {
      "model_module": "@jupyter-widgets/controls",
      "model_module_version": "2.0.0",
      "model_name": "HTMLModel",
      "state": {
       "_dom_classes": [],
       "_model_module": "@jupyter-widgets/controls",
       "_model_module_version": "2.0.0",
       "_model_name": "HTMLModel",
       "_view_count": null,
       "_view_module": "@jupyter-widgets/controls",
       "_view_module_version": "2.0.0",
       "_view_name": "HTMLView",
       "description": "",
       "description_allow_html": false,
       "layout": "IPY_MODEL_1543152377584699b654f673c40f7372",
       "placeholder": "​",
       "style": "IPY_MODEL_5d62ad5fa3434ba2879328605265ffb6",
       "tabbable": null,
       "tooltip": null,
       "value": "100%"
      }
     },
     "2c8bf81eea69400f953fe1311030a4f2": {
      "model_module": "@jupyter-widgets/base",
      "model_module_version": "2.0.0",
      "model_name": "LayoutModel",
      "state": {
       "_model_module": "@jupyter-widgets/base",
       "_model_module_version": "2.0.0",
       "_model_name": "LayoutModel",
       "_view_count": null,
       "_view_module": "@jupyter-widgets/base",
       "_view_module_version": "2.0.0",
       "_view_name": "LayoutView",
       "align_content": null,
       "align_items": null,
       "align_self": null,
       "border_bottom": null,
       "border_left": null,
       "border_right": null,
       "border_top": null,
       "bottom": null,
       "display": null,
       "flex": null,
       "flex_flow": null,
       "grid_area": null,
       "grid_auto_columns": null,
       "grid_auto_flow": null,
       "grid_auto_rows": null,
       "grid_column": null,
       "grid_gap": null,
       "grid_row": null,
       "grid_template_areas": null,
       "grid_template_columns": null,
       "grid_template_rows": null,
       "height": null,
       "justify_content": null,
       "justify_items": null,
       "left": null,
       "margin": null,
       "max_height": null,
       "max_width": null,
       "min_height": null,
       "min_width": null,
       "object_fit": null,
       "object_position": null,
       "order": null,
       "overflow": null,
       "padding": null,
       "right": null,
       "top": null,
       "visibility": null,
       "width": null
      }
     },
     "4d9cdb692f3a472cbde0145c1dc00d6b": {
      "model_module": "@jupyter-widgets/controls",
      "model_module_version": "2.0.0",
      "model_name": "ProgressStyleModel",
      "state": {
       "_model_module": "@jupyter-widgets/controls",
       "_model_module_version": "2.0.0",
       "_model_name": "ProgressStyleModel",
       "_view_count": null,
       "_view_module": "@jupyter-widgets/base",
       "_view_module_version": "2.0.0",
       "_view_name": "StyleView",
       "bar_color": null,
       "description_width": ""
      }
     },
     "564321df3db344d9a1968d30aafcc67c": {
      "model_module": "@jupyter-widgets/controls",
      "model_module_version": "2.0.0",
      "model_name": "HBoxModel",
      "state": {
       "_dom_classes": [],
       "_model_module": "@jupyter-widgets/controls",
       "_model_module_version": "2.0.0",
       "_model_name": "HBoxModel",
       "_view_count": null,
       "_view_module": "@jupyter-widgets/controls",
       "_view_module_version": "2.0.0",
       "_view_name": "HBoxView",
       "box_style": "",
       "children": [
        "IPY_MODEL_1d6fb11ae86c425994833a61ff46fe32",
        "IPY_MODEL_b37ce9305bc441e9b02075fe42837789",
        "IPY_MODEL_fa9b601f1e354e1f8888ecdc6be0ef31"
       ],
       "layout": "IPY_MODEL_867acaf256f34f04b2ee9923c20c9648",
       "tabbable": null,
       "tooltip": null
      }
     },
     "5d62ad5fa3434ba2879328605265ffb6": {
      "model_module": "@jupyter-widgets/controls",
      "model_module_version": "2.0.0",
      "model_name": "HTMLStyleModel",
      "state": {
       "_model_module": "@jupyter-widgets/controls",
       "_model_module_version": "2.0.0",
       "_model_name": "HTMLStyleModel",
       "_view_count": null,
       "_view_module": "@jupyter-widgets/base",
       "_view_module_version": "2.0.0",
       "_view_name": "StyleView",
       "background": null,
       "description_width": "",
       "font_size": null,
       "text_color": null
      }
     },
     "867acaf256f34f04b2ee9923c20c9648": {
      "model_module": "@jupyter-widgets/base",
      "model_module_version": "2.0.0",
      "model_name": "LayoutModel",
      "state": {
       "_model_module": "@jupyter-widgets/base",
       "_model_module_version": "2.0.0",
       "_model_name": "LayoutModel",
       "_view_count": null,
       "_view_module": "@jupyter-widgets/base",
       "_view_module_version": "2.0.0",
       "_view_name": "LayoutView",
       "align_content": null,
       "align_items": null,
       "align_self": null,
       "border_bottom": null,
       "border_left": null,
       "border_right": null,
       "border_top": null,
       "bottom": null,
       "display": null,
       "flex": null,
       "flex_flow": null,
       "grid_area": null,
       "grid_auto_columns": null,
       "grid_auto_flow": null,
       "grid_auto_rows": null,
       "grid_column": null,
       "grid_gap": null,
       "grid_row": null,
       "grid_template_areas": null,
       "grid_template_columns": null,
       "grid_template_rows": null,
       "height": null,
       "justify_content": null,
       "justify_items": null,
       "left": null,
       "margin": null,
       "max_height": null,
       "max_width": null,
       "min_height": null,
       "min_width": null,
       "object_fit": null,
       "object_position": null,
       "order": null,
       "overflow": null,
       "padding": null,
       "right": null,
       "top": null,
       "visibility": null,
       "width": null
      }
     },
     "a3594320cc304250a00d20111e99b49c": {
      "model_module": "@jupyter-widgets/base",
      "model_module_version": "2.0.0",
      "model_name": "LayoutModel",
      "state": {
       "_model_module": "@jupyter-widgets/base",
       "_model_module_version": "2.0.0",
       "_model_name": "LayoutModel",
       "_view_count": null,
       "_view_module": "@jupyter-widgets/base",
       "_view_module_version": "2.0.0",
       "_view_name": "LayoutView",
       "align_content": null,
       "align_items": null,
       "align_self": null,
       "border_bottom": null,
       "border_left": null,
       "border_right": null,
       "border_top": null,
       "bottom": null,
       "display": null,
       "flex": null,
       "flex_flow": null,
       "grid_area": null,
       "grid_auto_columns": null,
       "grid_auto_flow": null,
       "grid_auto_rows": null,
       "grid_column": null,
       "grid_gap": null,
       "grid_row": null,
       "grid_template_areas": null,
       "grid_template_columns": null,
       "grid_template_rows": null,
       "height": null,
       "justify_content": null,
       "justify_items": null,
       "left": null,
       "margin": null,
       "max_height": null,
       "max_width": null,
       "min_height": null,
       "min_width": null,
       "object_fit": null,
       "object_position": null,
       "order": null,
       "overflow": null,
       "padding": null,
       "right": null,
       "top": null,
       "visibility": null,
       "width": null
      }
     },
     "b37ce9305bc441e9b02075fe42837789": {
      "model_module": "@jupyter-widgets/controls",
      "model_module_version": "2.0.0",
      "model_name": "FloatProgressModel",
      "state": {
       "_dom_classes": [],
       "_model_module": "@jupyter-widgets/controls",
       "_model_module_version": "2.0.0",
       "_model_name": "FloatProgressModel",
       "_view_count": null,
       "_view_module": "@jupyter-widgets/controls",
       "_view_module_version": "2.0.0",
       "_view_name": "ProgressView",
       "bar_style": "success",
       "description": "",
       "description_allow_html": false,
       "layout": "IPY_MODEL_2c8bf81eea69400f953fe1311030a4f2",
       "max": 7.0,
       "min": 0.0,
       "orientation": "horizontal",
       "style": "IPY_MODEL_4d9cdb692f3a472cbde0145c1dc00d6b",
       "tabbable": null,
       "tooltip": null,
       "value": 7.0
      }
     },
     "fa9b601f1e354e1f8888ecdc6be0ef31": {
      "model_module": "@jupyter-widgets/controls",
      "model_module_version": "2.0.0",
      "model_name": "HTMLModel",
      "state": {
       "_dom_classes": [],
       "_model_module": "@jupyter-widgets/controls",
       "_model_module_version": "2.0.0",
       "_model_name": "HTMLModel",
       "_view_count": null,
       "_view_module": "@jupyter-widgets/controls",
       "_view_module_version": "2.0.0",
       "_view_name": "HTMLView",
       "description": "",
       "description_allow_html": false,
       "layout": "IPY_MODEL_a3594320cc304250a00d20111e99b49c",
       "placeholder": "​",
       "style": "IPY_MODEL_1d506ae41de54e60b0c770e1c26623a3",
       "tabbable": null,
       "tooltip": null,
       "value": " 7/7 [02:13&lt;00:00, 18.48s/it]"
      }
     }
    },
    "version_major": 2,
    "version_minor": 0
   }
  }
 },
 "nbformat": 4,
 "nbformat_minor": 5
}