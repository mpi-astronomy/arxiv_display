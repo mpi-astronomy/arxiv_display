{
 "cells": [
  {
   "cell_type": "markdown",
   "id": "92bcb855",
   "metadata": {
    "papermill": {
     "duration": 0.004897,
     "end_time": "2022-09-08T05:11:19.636725",
     "exception": false,
     "start_time": "2022-09-08T05:11:19.631828",
     "status": "completed"
    },
    "tags": []
   },
   "source": [
    "# MPIA Arxiv on Deck 2\n",
    "\n",
    "Contains the steps to produce the paper extractions."
   ]
  },
  {
   "cell_type": "code",
   "execution_count": 1,
   "id": "3a0d6e11",
   "metadata": {
    "execution": {
     "iopub.execute_input": "2022-09-08T05:11:19.646497Z",
     "iopub.status.busy": "2022-09-08T05:11:19.645983Z",
     "iopub.status.idle": "2022-09-08T05:11:19.816195Z",
     "shell.execute_reply": "2022-09-08T05:11:19.815494Z"
    },
    "papermill": {
     "duration": 0.177326,
     "end_time": "2022-09-08T05:11:19.818265",
     "exception": false,
     "start_time": "2022-09-08T05:11:19.640939",
     "status": "completed"
    },
    "tags": []
   },
   "outputs": [],
   "source": [
    "# Imports\n",
    "import os\n",
    "from IPython.display import Markdown, display\n",
    "from tqdm.notebook import tqdm\n",
    "import warnings\n",
    "from PIL import Image \n",
    "\n",
    "# requires arxiv_on_deck_2\n",
    "\n",
    "from arxiv_on_deck_2.arxiv2 import (get_new_papers, \n",
    "                                    get_paper_from_identifier,\n",
    "                                    retrieve_document_source, \n",
    "                                    get_markdown_badge)\n",
    "from arxiv_on_deck_2 import (latex, \n",
    "                             mpia,\n",
    "                             highlight_authors_in_list)\n",
    "\n",
    "# Sometimes images are really big\n",
    "Image.MAX_IMAGE_PIXELS = 1000000000 "
   ]
  },
  {
   "cell_type": "code",
   "execution_count": 2,
   "id": "22aa9d44",
   "metadata": {
    "execution": {
     "iopub.execute_input": "2022-09-08T05:11:19.828163Z",
     "iopub.status.busy": "2022-09-08T05:11:19.827796Z",
     "iopub.status.idle": "2022-09-08T05:11:19.832921Z",
     "shell.execute_reply": "2022-09-08T05:11:19.832258Z"
    },
    "papermill": {
     "duration": 0.012523,
     "end_time": "2022-09-08T05:11:19.835008",
     "exception": false,
     "start_time": "2022-09-08T05:11:19.822485",
     "status": "completed"
    },
    "tags": []
   },
   "outputs": [],
   "source": [
    "# Some useful definitions.\n",
    "\n",
    "class AffiliationWarning(UserWarning):\n",
    "    pass\n",
    "\n",
    "class AffiliationError(RuntimeError):\n",
    "    pass\n",
    "\n",
    "def validation(source: str):\n",
    "    \"\"\"Raises error paper during parsing of source file\n",
    "    \n",
    "    Allows checks before parsing TeX code.\n",
    "    \n",
    "    Raises AffiliationWarning\n",
    "    \"\"\"\n",
    "    check = mpia.affiliation_verifications(source, verbose=True)\n",
    "    if check is not True:\n",
    "        raise AffiliationError(\"mpia.affiliation_verifications: \" + check)\n",
    "\n",
    "        \n",
    "warnings.simplefilter('always', AffiliationWarning)"
   ]
  },
  {
   "cell_type": "code",
   "execution_count": 3,
   "id": "14622700",
   "metadata": {
    "execution": {
     "iopub.execute_input": "2022-09-08T05:11:19.844196Z",
     "iopub.status.busy": "2022-09-08T05:11:19.843955Z",
     "iopub.status.idle": "2022-09-08T05:11:19.847825Z",
     "shell.execute_reply": "2022-09-08T05:11:19.847148Z"
    },
    "papermill": {
     "duration": 0.010654,
     "end_time": "2022-09-08T05:11:19.849612",
     "exception": false,
     "start_time": "2022-09-08T05:11:19.838958",
     "status": "completed"
    },
    "tags": []
   },
   "outputs": [],
   "source": [
    "# additional CSS to consider. \n",
    "# TODO: Current into each exported file. \n",
    "#       This should be set once into the webpages directly.\n",
    "#       With only the class/id definitions in the .md files.\n",
    "\n",
    "debug_html = \"\"\"\n",
    "<style>\n",
    "#wrap{ overflow:auto; }\n",
    "#fig1{ background:yellow; width:100%; float:left; padding:5px;  }\n",
    "#fig2{ background:red; width:50%; float:left; clear:left; padding:5px;  }\n",
    "#fig3{ background:green; width:50%; float:left; padding:5px;   }\n",
    ".macros{ background:yellow; visibility:visible;}\n",
    "h1 {margin: 0 0 0 0;}\n",
    "mark {background-color:#fff3b6;}\n",
    "img {object-fit:contain; max-height:250px; display:inline-block; text-align: center;}\n",
    "</style>\n",
    "\"\"\" \n",
    "html = \"\"\"\n",
    "<style>\n",
    "#wrap{ overflow:auto; }\n",
    "#fig1{ width:100%; float:left; padding: 5px;  }\n",
    "#fig2{ width:50%; float:left; clear:left; padding: 5px;  }\n",
    "#fig3{ width:50%; float:left; padding: 5px;  }\n",
    ".macros{ visibility:hidden; height:0px; }\n",
    "h1 {margin: 0em 0 0 0;}\n",
    "mark {background-color:#fff3b6;}\n",
    "img {object-fit:contain; max-height:250px; display:inline-block; text-align: center;}\n",
    "</style>\n",
    "\"\"\""
   ]
  },
  {
   "cell_type": "markdown",
   "id": "14bd6310",
   "metadata": {
    "papermill": {
     "duration": 0.004097,
     "end_time": "2022-09-08T05:11:19.857621",
     "exception": false,
     "start_time": "2022-09-08T05:11:19.853524",
     "status": "completed"
    },
    "tags": []
   },
   "source": [
    "## get list of arxiv paper candidates\n",
    "\n",
    "We use the MPIA mitarbeiter list webpage from mpia.de to get author names\n",
    "We then get all new papers from Arxiv and match authors"
   ]
  },
  {
   "cell_type": "code",
   "execution_count": 4,
   "id": "2645e73a",
   "metadata": {
    "execution": {
     "iopub.execute_input": "2022-09-08T05:11:19.868430Z",
     "iopub.status.busy": "2022-09-08T05:11:19.867899Z",
     "iopub.status.idle": "2022-09-08T05:11:42.592288Z",
     "shell.execute_reply": "2022-09-08T05:11:42.591620Z"
    },
    "papermill": {
     "duration": 22.731407,
     "end_time": "2022-09-08T05:11:42.594240",
     "exception": false,
     "start_time": "2022-09-08T05:11:19.862833",
     "status": "completed"
    },
    "tags": []
   },
   "outputs": [
    {
     "name": "stdout",
     "output_type": "stream",
     "text": [
      "Arxiv has 62 new papers today\n",
      "          21 with possible author matches\n"
     ]
    }
   ],
   "source": [
    "# get list from MPIA website\n",
    "# it automatically filters identified non-scientists :func:`mpia.filter_non_scientists`\n",
    "mpia_authors = mpia.get_mpia_mitarbeiter_list()\n",
    "new_papers = get_new_papers()\n",
    "# add manual references\n",
    "add_paper_refs = []\n",
    "new_papers.extend([get_paper_from_identifier(k) for k in add_paper_refs])\n",
    "\n",
    "# select only papers with matching author names and highlight authors\n",
    "hl_list = [k[0] for k in mpia_authors]\n",
    "\n",
    "candidates = []\n",
    "for paperk in new_papers:\n",
    "    hl_authors = highlight_authors_in_list(paperk['authors'], hl_list)\n",
    "    matches = [(hl, orig) for hl, orig in zip(hl_authors, paperk['authors']) if 'mark' in hl]\n",
    "    paperk['authors'] = hl_authors\n",
    "    if matches:\n",
    "        candidates.append(paperk)\n",
    "print(\"\"\"Arxiv has {0:,d} new papers today\"\"\".format(len(new_papers)))        \n",
    "print(\"\"\"          {0:,d} with possible author matches\"\"\".format(len(candidates)))"
   ]
  },
  {
   "cell_type": "markdown",
   "id": "3543b34a",
   "metadata": {
    "papermill": {
     "duration": 0.004099,
     "end_time": "2022-09-08T05:11:42.602681",
     "exception": false,
     "start_time": "2022-09-08T05:11:42.598582",
     "status": "completed"
    },
    "tags": []
   },
   "source": [
    "# Parse sources and generate relevant outputs\n",
    "\n",
    "From the candidates, we do the following steps:\n",
    "* get their tarball from ArXiv (and extract data)\n",
    "* find the main .tex file: find one with \\documentclass{...} (sometimes it's non trivial)\n",
    "* Check affiliations with :func:`validation`, which uses :func:`mpia.affiliation_verifications`\n",
    "* If passing the affiliations: we parse the .tex source\n",
    "   * inject sub-documents into the main (flatten the main document)\n",
    "   * parse structure, extract information (title, abstract, authors, figures...)\n",
    "   * handles `\\graphicspath` if provided\n",
    "* Generate the .md document."
   ]
  },
  {
   "cell_type": "code",
   "execution_count": 5,
   "id": "9576b79e",
   "metadata": {
    "execution": {
     "iopub.execute_input": "2022-09-08T05:11:42.612288Z",
     "iopub.status.busy": "2022-09-08T05:11:42.611653Z",
     "iopub.status.idle": "2022-09-08T05:12:52.744606Z",
     "shell.execute_reply": "2022-09-08T05:12:52.743909Z"
    },
    "papermill": {
     "duration": 70.139671,
     "end_time": "2022-09-08T05:12:52.746313",
     "exception": false,
     "start_time": "2022-09-08T05:11:42.606642",
     "status": "completed"
    },
    "scrolled": false,
    "tags": []
   },
   "outputs": [
    {
     "data": {
      "application/vnd.jupyter.widget-view+json": {
       "model_id": "6bc0b695822649edafa4a2e42637ba72",
       "version_major": 2,
       "version_minor": 0
      },
      "text/plain": [
       "  0%|          | 0/20 [00:00<?, ?it/s]"
      ]
     },
     "metadata": {},
     "output_type": "display_data"
    },
    {
     "name": "stdout",
     "output_type": "stream",
     "text": [
      "Retrieving document from  https://arxiv.org/e-print/2209.02712\n"
     ]
    },
    {
     "name": "stdout",
     "output_type": "stream",
     "text": [
      "extracting tarball to tmp_2209.02712..."
     ]
    },
    {
     "name": "stdout",
     "output_type": "stream",
     "text": [
      " done.\n",
      "Retrieving document from  https://arxiv.org/e-print/2209.02722\n"
     ]
    },
    {
     "name": "stderr",
     "output_type": "stream",
     "text": [
      "/opt/hostedtoolcache/Python/3.9.13/x64/lib/python3.9/site-packages/IPython/core/interactiveshell.py:3378: LatexWarning: Multiple tex files.\n",
      "\n",
      "  exec(code_obj, self.user_global_ns, self.user_ns)\n",
      "/opt/hostedtoolcache/Python/3.9.13/x64/lib/python3.9/site-packages/IPython/core/interactiveshell.py:3378: LatexWarning: Found documentclass in tmp_2209.02712/SMS.tex\n",
      "\n",
      "  exec(code_obj, self.user_global_ns, self.user_ns)\n"
     ]
    },
    {
     "name": "stdout",
     "output_type": "stream",
     "text": [
      "extracting tarball to tmp_2209.02722..."
     ]
    },
    {
     "name": "stdout",
     "output_type": "stream",
     "text": [
      " done.\n"
     ]
    },
    {
     "name": "stderr",
     "output_type": "stream",
     "text": [
      "/opt/hostedtoolcache/Python/3.9.13/x64/lib/python3.9/site-packages/IPython/core/interactiveshell.py:3378: LatexWarning: Multiple tex files.\n",
      "\n",
      "  exec(code_obj, self.user_global_ns, self.user_ns)\n",
      "/opt/hostedtoolcache/Python/3.9.13/x64/lib/python3.9/site-packages/IPython/core/interactiveshell.py:3378: LatexWarning: Found documentclass in tmp_2209.02722/ms.tex\n",
      "\n",
      "  exec(code_obj, self.user_global_ns, self.user_ns)\n"
     ]
    },
    {
     "name": "stderr",
     "output_type": "stream",
     "text": [
      "/opt/hostedtoolcache/Python/3.9.13/x64/lib/python3.9/site-packages/arxiv_on_deck_2/latex.py:366: LatexWarning: Error parsing the document directly. Trying to recover.\n",
      "  warnings.warn(LatexWarning(f\"Error parsing the document directly. Trying to recover.\"))\n"
     ]
    },
    {
     "name": "stdout",
     "output_type": "stream",
     "text": [
      "✔ → 0:header\n",
      "  ↳ 5101:\\section{Introduction} \\label{sec:intro}\n"
     ]
    },
    {
     "name": "stdout",
     "output_type": "stream",
     "text": [
      "✔ → 5101:\\section{Introduction} \\label{sec:intro}\n",
      "  ↳ 15115:\\section{Data Sets and Derived Abundance and Orbit Quantities}\\label{sec:data}\n"
     ]
    },
    {
     "name": "stdout",
     "output_type": "stream",
     "text": [
      "✔ → 15115:\\section{Data Sets and Derived Abundance and Orbit Quantities}\\label{sec:data}\n",
      "  ↳ 28080:\\section{Results}\\label{sec:results}\n"
     ]
    },
    {
     "name": "stdout",
     "output_type": "stream",
     "text": [
      "✘ → 28080:\\section{Results}\\label{sec:results}\n",
      "  ↳ 56865:\\section{Summary, Discussion and Outlook}\\label{sec:discussion}\n"
     ]
    },
    {
     "name": "stdout",
     "output_type": "stream",
     "text": [
      "✔ → 56865:\\section{Summary, Discussion and Outlook}\\label{sec:discussion}\n",
      "  ↳ 69924:\\section{ \\MH ~Estimates via XGBoost trained on SDSS APOGEE Abundances}\n"
     ]
    },
    {
     "name": "stdout",
     "output_type": "stream",
     "text": [
      "✔ → 69924:\\section{ \\MH ~Estimates via XGBoost trained on SDSS APOGEE Abundances}\n",
      "  ↳ 79116:end\n"
     ]
    },
    {
     "name": "stdout",
     "output_type": "stream",
     "text": [
      "Retrieving document from  https://arxiv.org/e-print/2209.02725\n"
     ]
    },
    {
     "name": "stdout",
     "output_type": "stream",
     "text": [
      "extracting tarball to tmp_2209.02725..."
     ]
    },
    {
     "name": "stdout",
     "output_type": "stream",
     "text": [
      " done.\n"
     ]
    },
    {
     "name": "stdout",
     "output_type": "stream",
     "text": [
      "Retrieving document from  https://arxiv.org/e-print/2209.02728\n"
     ]
    },
    {
     "name": "stdout",
     "output_type": "stream",
     "text": [
      "extracting tarball to tmp_2209.02728..."
     ]
    },
    {
     "name": "stdout",
     "output_type": "stream",
     "text": [
      " done.\n",
      "Retrieving document from  https://arxiv.org/e-print/2209.02738\n"
     ]
    },
    {
     "name": "stdout",
     "output_type": "stream",
     "text": [
      "extracting tarball to tmp_2209.02738..."
     ]
    },
    {
     "name": "stdout",
     "output_type": "stream",
     "text": [
      " done.\n",
      "Retrieving document from  https://arxiv.org/e-print/2209.02754\n"
     ]
    },
    {
     "name": "stdout",
     "output_type": "stream",
     "text": [
      "extracting tarball to tmp_2209.02754... done.\n",
      "Retrieving document from  https://arxiv.org/e-print/2209.02779\n"
     ]
    },
    {
     "name": "stdout",
     "output_type": "stream",
     "text": [
      "extracting tarball to tmp_2209.02779..."
     ]
    },
    {
     "name": "stdout",
     "output_type": "stream",
     "text": [
      " done.\n",
      "Retrieving document from  https://arxiv.org/e-print/2209.02817\n"
     ]
    },
    {
     "name": "stdout",
     "output_type": "stream",
     "text": [
      "extracting tarball to tmp_2209.02817..."
     ]
    },
    {
     "name": "stdout",
     "output_type": "stream",
     "text": [
      " done.\n",
      "Retrieving document from  https://arxiv.org/e-print/2209.02827\n"
     ]
    },
    {
     "name": "stdout",
     "output_type": "stream",
     "text": [
      "extracting tarball to tmp_2209.02827..."
     ]
    },
    {
     "name": "stdout",
     "output_type": "stream",
     "text": [
      " done.\n",
      "Retrieving document from  https://arxiv.org/e-print/2209.02831\n"
     ]
    },
    {
     "name": "stdout",
     "output_type": "stream",
     "text": [
      "extracting tarball to tmp_2209.02831..."
     ]
    },
    {
     "name": "stdout",
     "output_type": "stream",
     "text": [
      " done.\n",
      "Retrieving document from  https://arxiv.org/e-print/2209.02872\n"
     ]
    },
    {
     "name": "stdout",
     "output_type": "stream",
     "text": [
      "extracting tarball to tmp_2209.02872..."
     ]
    },
    {
     "name": "stdout",
     "output_type": "stream",
     "text": [
      " done.\n"
     ]
    },
    {
     "name": "stderr",
     "output_type": "stream",
     "text": [
      "/opt/hostedtoolcache/Python/3.9.13/x64/lib/python3.9/site-packages/IPython/core/interactiveshell.py:3378: LatexWarning: Multiple tex files.\n",
      "\n",
      "  exec(code_obj, self.user_global_ns, self.user_ns)\n",
      "/opt/hostedtoolcache/Python/3.9.13/x64/lib/python3.9/site-packages/IPython/core/interactiveshell.py:3378: LatexWarning: Found documentclass in tmp_2209.02872/main.tex\n",
      "\n",
      "  exec(code_obj, self.user_global_ns, self.user_ns)\n",
      "/opt/hostedtoolcache/Python/3.9.13/x64/lib/python3.9/site-packages/arxiv_on_deck_2/latex.py:292: LatexWarning: Latex injecting: 'tables/table_ccf_plaw' from 'tmp_2209.02872/tables/table_ccf_plaw.tex'\n",
      "  warnings.warn(LatexWarning(f\"Latex injecting: '{ext}' from '{subsource}'\"))\n",
      "/opt/hostedtoolcache/Python/3.9.13/x64/lib/python3.9/site-packages/arxiv_on_deck_2/latex.py:292: LatexWarning: Latex injecting: 'tables/table_tpcf_plaw' from 'tmp_2209.02872/tables/table_tpcf_plaw.tex'\n",
      "  warnings.warn(LatexWarning(f\"Latex injecting: '{ext}' from '{subsource}'\"))\n",
      "/opt/hostedtoolcache/Python/3.9.13/x64/lib/python3.9/site-packages/arxiv_on_deck_2/latex.py:292: LatexWarning: Latex injecting: 'tables/table_env_assoc' from 'tmp_2209.02872/tables/table_env_assoc.tex'\n",
      "  warnings.warn(LatexWarning(f\"Latex injecting: '{ext}' from '{subsource}'\"))\n",
      "/opt/hostedtoolcache/Python/3.9.13/x64/lib/python3.9/site-packages/arxiv_on_deck_2/latex.py:292: LatexWarning: Latex injecting: 'tables/table_gals_assoc' from 'tmp_2209.02872/tables/table_gals_assoc.tex'\n",
      "  warnings.warn(LatexWarning(f\"Latex injecting: '{ext}' from '{subsource}'\"))\n",
      "/opt/hostedtoolcache/Python/3.9.13/x64/lib/python3.9/site-packages/arxiv_on_deck_2/latex.py:292: LatexWarning: Latex injecting: 'tables/table_galaxies' from 'tmp_2209.02872/tables/table_galaxies.tex'\n",
      "  warnings.warn(LatexWarning(f\"Latex injecting: '{ext}' from '{subsource}'\"))\n"
     ]
    },
    {
     "name": "stdout",
     "output_type": "stream",
     "text": [
      "Retrieving document from  https://arxiv.org/e-print/2209.02917\n"
     ]
    },
    {
     "name": "stdout",
     "output_type": "stream",
     "text": [
      "extracting tarball to tmp_2209.02917... done.\n",
      "Retrieving document from  https://arxiv.org/e-print/2209.03010\n"
     ]
    },
    {
     "name": "stdout",
     "output_type": "stream",
     "text": [
      "extracting tarball to tmp_2209.03010... done.\n",
      "Retrieving document from  https://arxiv.org/e-print/2209.03067\n"
     ]
    },
    {
     "name": "stdout",
     "output_type": "stream",
     "text": [
      "extracting tarball to tmp_2209.03067..."
     ]
    },
    {
     "name": "stdout",
     "output_type": "stream",
     "text": [
      " done.\n",
      "Retrieving document from  https://arxiv.org/e-print/2209.03088\n"
     ]
    },
    {
     "name": "stderr",
     "output_type": "stream",
     "text": [
      "/opt/hostedtoolcache/Python/3.9.13/x64/lib/python3.9/site-packages/IPython/core/interactiveshell.py:3378: LatexWarning: Multiple tex files.\n",
      "\n",
      "  exec(code_obj, self.user_global_ns, self.user_ns)\n",
      "/opt/hostedtoolcache/Python/3.9.13/x64/lib/python3.9/site-packages/IPython/core/interactiveshell.py:3378: LatexWarning: Found documentclass in tmp_2209.03067/ms.tex\n",
      "\n",
      "  exec(code_obj, self.user_global_ns, self.user_ns)\n",
      "/opt/hostedtoolcache/Python/3.9.13/x64/lib/python3.9/site-packages/arxiv_on_deck_2/latex.py:292: LatexWarning: Latex injecting: 'identified_lines_table_rrls.tex' from 'tmp_2209.03067/identified_lines_table_rrls.tex'\n",
      "  warnings.warn(LatexWarning(f\"Latex injecting: '{ext}' from '{subsource}'\"))\n",
      "/opt/hostedtoolcache/Python/3.9.13/x64/lib/python3.9/site-packages/arxiv_on_deck_2/latex.py:292: LatexWarning: Latex injecting: 'identified_lines_table_mollines.tex' from 'tmp_2209.03067/identified_lines_table_mollines.tex'\n",
      "  warnings.warn(LatexWarning(f\"Latex injecting: '{ext}' from '{subsource}'\"))\n"
     ]
    },
    {
     "name": "stdout",
     "output_type": "stream",
     "text": [
      "extracting tarball to tmp_2209.03088..."
     ]
    },
    {
     "name": "stdout",
     "output_type": "stream",
     "text": [
      " done.\n",
      "Retrieving document from  https://arxiv.org/e-print/2209.03128\n"
     ]
    },
    {
     "name": "stdout",
     "output_type": "stream",
     "text": [
      "extracting tarball to tmp_2209.03128..."
     ]
    },
    {
     "name": "stdout",
     "output_type": "stream",
     "text": [
      " done.\n",
      "Retrieving document from  https://arxiv.org/e-print/2209.03161\n"
     ]
    },
    {
     "name": "stderr",
     "output_type": "stream",
     "text": [
      "/opt/hostedtoolcache/Python/3.9.13/x64/lib/python3.9/site-packages/IPython/core/interactiveshell.py:3378: LatexWarning: Multiple tex files.\n",
      "\n",
      "  exec(code_obj, self.user_global_ns, self.user_ns)\n",
      "/opt/hostedtoolcache/Python/3.9.13/x64/lib/python3.9/site-packages/IPython/core/interactiveshell.py:3378: LatexWarning: Found documentclass in tmp_2209.03128/EBLMIX_CHEOPS_final.tex\n",
      "\n",
      "  exec(code_obj, self.user_global_ns, self.user_ns)\n"
     ]
    },
    {
     "name": "stdout",
     "output_type": "stream",
     "text": [
      "extracting tarball to tmp_2209.03161... done.\n",
      "Retrieving document from  https://arxiv.org/e-print/2209.03212\n"
     ]
    },
    {
     "name": "stdout",
     "output_type": "stream",
     "text": [
      "extracting tarball to tmp_2209.03212... done.\n",
      "Retrieving document from  https://arxiv.org/e-print/2209.03215\n"
     ]
    },
    {
     "name": "stdout",
     "output_type": "stream",
     "text": [
      "extracting tarball to tmp_2209.03215..."
     ]
    },
    {
     "name": "stdout",
     "output_type": "stream",
     "text": [
      " done.\n",
      "Retrieving document from  https://arxiv.org/e-print/2209.03278\n"
     ]
    },
    {
     "name": "stderr",
     "output_type": "stream",
     "text": [
      "/opt/hostedtoolcache/Python/3.9.13/x64/lib/python3.9/site-packages/IPython/core/interactiveshell.py:3378: LatexWarning: Multiple tex files.\n",
      "\n",
      "  exec(code_obj, self.user_global_ns, self.user_ns)\n",
      "/opt/hostedtoolcache/Python/3.9.13/x64/lib/python3.9/site-packages/IPython/core/interactiveshell.py:3378: LatexWarning: Found documentclass in tmp_2209.03215/NGC346.tex\n",
      "\n",
      "  exec(code_obj, self.user_global_ns, self.user_ns)\n"
     ]
    },
    {
     "name": "stdout",
     "output_type": "stream",
     "text": [
      "extracting tarball to tmp_2209.03278..."
     ]
    },
    {
     "name": "stdout",
     "output_type": "stream",
     "text": [
      " done.\n"
     ]
    }
   ],
   "source": [
    "documents = []\n",
    "failed = []\n",
    "for paper in tqdm(candidates[:-1]):\n",
    "    paper_id = paper['identifier'].lower().replace('arxiv:', '')\n",
    "    \n",
    "    folder = f'tmp_{paper_id}'\n",
    "\n",
    "    try:\n",
    "        if not os.path.isdir(folder):\n",
    "            folder = retrieve_document_source(f\"{paper_id}\", f'tmp_{paper_id}')\n",
    "        \n",
    "        try:\n",
    "            doc = latex.LatexDocument(folder, validation=validation)    \n",
    "        except AffiliationError as affilerror:\n",
    "            msg = f\"ArXiv:{paper_id:s} is not an MPIA paper... \" + str(affilerror)\n",
    "            failed.append((paper, \"affiliation error: \" + str(affilerror) ))\n",
    "            continue\n",
    "        \n",
    "        # Hack because sometimes author parsing does not work well\n",
    "        if (len(doc.authors) != len(paper['authors'])):\n",
    "            doc._authors = paper['authors']\n",
    "        if (doc.abstract) in (None, ''):\n",
    "            doc._abstract = paper['abstract']\n",
    "            \n",
    "        doc.comment = (get_markdown_badge(paper_id) + \n",
    "                       \"<mark>Appeared on: \" + paper['date'] + \"</mark> - \" +\n",
    "                       \"_\" + paper['comments'] + \"_\")\n",
    "        doc.highlight_authors_in_list(hl_list)\n",
    "\n",
    "        full_md = doc.generate_markdown_text()\n",
    "        \n",
    "        documents.append((paper_id, full_md))\n",
    "    except Exception as e:\n",
    "        warnings.warn(latex.LatexWarning(f\"{paper_id:s} did not run properly\\n\" +\n",
    "                                         str(e)\n",
    "                                        ))\n",
    "        failed.append((paper, \"latex error \" + str(e)))"
   ]
  },
  {
   "cell_type": "markdown",
   "id": "2505a25c",
   "metadata": {
    "papermill": {
     "duration": 0.006854,
     "end_time": "2022-09-08T05:12:52.760102",
     "exception": false,
     "start_time": "2022-09-08T05:12:52.753248",
     "status": "completed"
    },
    "tags": []
   },
   "source": [
    "### Export the logs\n",
    "\n",
    "Throughout, we also keep track of the logs per paper. see `logs-{today date}.md` "
   ]
  },
  {
   "cell_type": "code",
   "execution_count": 6,
   "id": "d733828a",
   "metadata": {
    "execution": {
     "iopub.execute_input": "2022-09-08T05:12:52.775135Z",
     "iopub.status.busy": "2022-09-08T05:12:52.774446Z",
     "iopub.status.idle": "2022-09-08T05:12:52.802574Z",
     "shell.execute_reply": "2022-09-08T05:12:52.801713Z"
    },
    "papermill": {
     "duration": 0.037456,
     "end_time": "2022-09-08T05:12:52.804121",
     "exception": false,
     "start_time": "2022-09-08T05:12:52.766665",
     "status": "completed"
    },
    "scrolled": false,
    "tags": []
   },
   "outputs": [
    {
     "data": {
      "text/markdown": [
       "## Successful papers"
      ],
      "text/plain": [
       "<IPython.core.display.Markdown object>"
      ]
     },
     "metadata": {},
     "output_type": "display_data"
    },
    {
     "data": {
      "text/markdown": [
       "\n",
       "|||\n",
       "|---:|:---|\n",
       "| [![arXiv](https://img.shields.io/badge/arXiv-arXiv:2209.02722-b31b1b.svg)](https://arxiv.org/abs/arXiv:2209.02722) | **The Poor Old Heart of the Milky Way**  |\n",
       "|| <mark>Hans-Walter Rix</mark>, et al. -- incl., <mark>René Andrae</mark>, <mark>Morgan Fouesneau</mark> |\n",
       "|*Appeared on*| *2022-09-08*|\n",
       "|*Comments*| *21 pages, 9 figures, submitted to ApJ*|\n",
       "|**Abstract**| Massive disk galaxies like our Milky Way should host an ancient, metal-poor, and centrally concentrated stellar population. This population reflects the star formation and enrichment in the few most massive progenitor components that coalesced at high redshift to form the proto-Galaxy. While metal-poor stars are known to reside in the inner few kiloparsecs of our Galaxy, current data do not yet provide a comprehensive picture of such a metal-poor \"heart\" of the Milky Way. We use information from Gaia DR3, especially the XP spectra, to construct a sample of 2 million bright (BP $<15.5$ mag) giant stars within $30^\\circ$ of the Galactic Center with robust [M/H] estimates, $\\delta$ [M/H] $\\lesssim 0.1$. For most sample members we can calculate orbits based on Gaia RVS velocities and astrometry. This sample reveals an extensive, ancient, and metal-poor population that includes $\\sim 18,000$ stars with $-2.7<$ [M/H] $<-1.5$, representing a stellar mass of $\\gtrsim 5\\times 10^7$ M$_\\odot$. The spatial distribution of these [M/H] $<-1.5$ stars has a Gaussian extent of only $\\sigma_{\\mathrm{R_{GC}}} \\sim 2.7$ kpc around the Galactic center, with most of these orbits being confined to the inner Galaxy. At high orbital eccentricities, there is clear evidence for accreted halo stars in their pericentral orbit phase. Stars with [M/H] $< -2$ show no net rotation, whereas those with [M/H] $\\sim -1$ are rotation dominated. Most of the tightly bound stars show $[\\alpha/\\text{Fe}]$-enhancement and [Al/Fe]-[Mn/Fe] abundance patterns expected for an origin in the more massive portions of the proto-Galaxy. These central, metal-poor stars most likely predate the oldest part of the disk ($\\tau_{\\text{age}}\\approx 12.5$ Gyrs), which implies that they formed at $z\\gtrsim 5$, forging the proto-Milky Way. |"
      ],
      "text/plain": [
       "[arXiv:2209.02722] The Poor Old Heart of the Milky Way\n",
       "\t<mark>Hans-Walter Rix</mark>, et al. -- incl., <mark>René Andrae</mark>, <mark>Morgan Fouesneau</mark>"
      ]
     },
     "metadata": {},
     "output_type": "display_data"
    },
    {
     "data": {
      "text/markdown": [
       "\n",
       "|||\n",
       "|---:|:---|\n",
       "| [![arXiv](https://img.shields.io/badge/arXiv-arXiv:2209.02725-b31b1b.svg)](https://arxiv.org/abs/arXiv:2209.02725) | **A Generative Model for Quasar Spectra**  |\n",
       "|| Anna-Christina Eilers, et al. -- incl., <mark>Frederick B. Davies</mark> |\n",
       "|*Appeared on*| *2022-09-08*|\n",
       "|*Comments*| *accepted for publication in ApJ*|\n",
       "|**Abstract**| We build a multi-output generative model for quasar spectra and the properties of their black hole engines, based on a Gaussian process latent-variable model. This model treats every quasar as a vector of latent properties such that the spectrum and all physical properties of the quasar are associated with non-linear functions of those latent parameters; the Gaussian process kernel functions define priors on the function space. Our generative model is trained with a justifiable likelihood function that allows us to treat heteroscedastic noise and missing data correctly, which is crucial for all astrophysical applications. It can predict simultaneously unobserved spectral regions, as well as the physical properties of quasars in held-out test data. We apply the model to rest-frame ultraviolet and optical quasar spectra for which precise black hole masses (based on reverberation mapping measurements) are available. Unlike reverberation-mapping studies, which require multi-epoch data, our model predicts black hole masses from single-epoch spectra, even with limited spectral coverage. We demonstrate the capabilities of the model by predicting black hole masses and unobserved spectral regions. We find that we predict black hole masses at close to the best possible accuracy. |"
      ],
      "text/plain": [
       "[arXiv:2209.02725] A Generative Model for Quasar Spectra\n",
       "\tAnna-Christina Eilers, et al. -- incl., <mark>Frederick B. Davies</mark>"
      ]
     },
     "metadata": {},
     "output_type": "display_data"
    },
    {
     "data": {
      "text/markdown": [
       "\n",
       "|||\n",
       "|---:|:---|\n",
       "| [![arXiv](https://img.shields.io/badge/arXiv-arXiv:2209.02872-b31b1b.svg)](https://arxiv.org/abs/arXiv:2209.02872) | **PHANGS: Constraining Star Formation Timescales Using the Spatial  Correlations of Star Clusters and Giant Molecular Clouds**  |\n",
       "|| Jordan A. Turner, et al. -- incl., <mark>Janice C. Lee</mark>, <mark>Frank Bigiel</mark>, <mark>Annie Hughes</mark>, <mark>Kathryn Kreckel</mark>, <mark>J. M. Diederik Kruijssen</mark>, <mark>Thomas G. Williams</mark> |\n",
       "|*Appeared on*| *2022-09-08*|\n",
       "|*Comments*| *15 pages, 11 figures, 4 tables. Accepted to MNRAS Sept 6 2022*|\n",
       "|**Abstract**| In the hierarchical view of star formation, giant molecular gas clouds (GMCs) undergo fragmentation to form small-scale structures made up of stars and star clusters. Here we study the connection between young star clusters and cold gas across a range of extragalactic environments by combining the high resolution (1\") PHANGS-ALMA catalogue of GMCs with the star cluster catalogues from PHANGS-HST. The star clusters are spatially matched with the GMCs across a sample of 11 nearby star-forming galaxies with a range of galactic environments (centres, bars, spiral arms, etc.). We find that after 4-6 Myr the star clusters are no longer associated with any gas clouds. Additionally, we measure the autocorrelation of the star clusters and GMCs as well as their cross-correlation to quantify the fractal nature of hierarchical star formation. Young ($\\leq$ 10 Myr) star clusters are more strongly autocorrelated on kpc and smaller spatial scales than the >10 Myr stellar populations, indicating that the hierarchical structure dissolves over time. |"
      ],
      "text/plain": [
       "[arXiv:2209.02872] PHANGS: Constraining Star Formation Timescales Using the Spatial  Correlations of Star Clusters and Giant Molecular Clouds\n",
       "\tJordan A. Turner, et al. -- incl., <mark>Janice C. Lee</mark>, <mark>Frank Bigiel</mark>, <mark>Annie Hughes</mark>, <mark>Kathryn Kreckel</mark>, <mark>J. M. Diederik Kruijssen</mark>, <mark>Thomas G. Williams</mark>"
      ]
     },
     "metadata": {},
     "output_type": "display_data"
    },
    {
     "data": {
      "text/markdown": [
       "## Failed papers"
      ],
      "text/plain": [
       "<IPython.core.display.Markdown object>"
      ]
     },
     "metadata": {},
     "output_type": "display_data"
    },
    {
     "data": {
      "text/markdown": [
       "\n",
       "|||\n",
       "|---:|:---|\n",
       "| [![arXiv](https://img.shields.io/badge/arXiv-arXiv:2209.03212-b31b1b.svg)](https://arxiv.org/abs/arXiv:2209.03212) | **LBT SOUL data as a science test bench for MICADO PSF-R tool**  |\n",
       "|| Matteo Simioni, et al. -- incl., <mark>Richard Davies</mark>, <mark>Tapio Helin</mark>, <mark>Enrico Pinna</mark> |\n",
       "|*Appeared on*| *2022-09-08*|\n",
       "|*Comments*| *10 pages, 3 figures. Proceeding of the SPIE conference Adaptive Optics Systems VIII, SPIE Astronomical Telescopes + Instrumentation 2022 (paper 12185-12). arXiv admin note: substantial text overlap with arXiv:2209.01563*|\n",
       "|**Abstract**| Current state-of-the-art adaptive optics (AO) provides ground-based, diffraction-limited observations with high Strehl ratios (SR). However, a detailed knowledge of the point spread function (PSF) is required to fully exploit the scientific potential of these data. This is even more crucial for the next generation AO instruments that will equip 30-meter class telescopes, as the characterization of the PSF will be mandatory to fulfill the planned scientific requirements. For this reason, there is a growing interest in developing tools that accurately reconstruct the observed PSF of AO systems, the so-called PSF reconstruction. In this context, a PSF-R service is a planned deliverable for the MICADO@ELT instrument and our group is in charge of its development. In the case of MICADO, a blind PSF-R approach is being pursued to have the widest applicability to science cases. This means that the PSF is reconstructed without extracting information from the science data, relying only on telemetry and calibrations. While our PSF-R algorithm is currently being developed, its implementation is mature enough to test performances with actual observations. In this presentation we will discuss the reliability of our reconstructed PSFs and the uncertainties introduced in the measurements of scientific quantities for bright, on-axis observations taken with the SOUL+LUCI instrument of the LBT. This is the first application of our algorithm to real data. It demonstrates its readiness level and paves the way to further testing. Our PSF-R algorithm is able to reconstruct the SR and full-width at half maximum of the observed PSFs with errors smaller than 2% and 4.5%, respectively. We carried out the scientific evaluation of the obtained reconstructed PSFs thanks to a dedicated set of simulated observations of an ideal science case. |\n",
       "|<p style=\"color:green\"> **ERROR** </p>| <p style=\"color:green\">affiliation error: mpia.affiliation_verifications: '69117' keyword not found.</p> |"
      ],
      "text/plain": [
       "<IPython.core.display.Markdown object>"
      ]
     },
     "metadata": {},
     "output_type": "display_data"
    },
    {
     "data": {
      "text/markdown": [
       "\n",
       "|||\n",
       "|---:|:---|\n",
       "| [![arXiv](https://img.shields.io/badge/arXiv-arXiv:2209.02712-b31b1b.svg)](https://arxiv.org/abs/arXiv:2209.02712) | **Could kilomasers pinpoint supermassive stars?**  |\n",
       "|| Katarzyna Nowak, <mark>Martin. G. H. Krause</mark>, Daniel Schaerer |\n",
       "|*Appeared on*| *2022-09-08*|\n",
       "|*Comments*| *Accepted to MNRAS: Accepted 2022 September 02. Received 2022 August 29; in original form 2022 July 19 , 14 pages, 7 figures*|\n",
       "|**Abstract**| A strong nuclear kilomaser, W1, has been found in the nearby galaxy NGC 253, associated with a forming super star cluster. Kilomasers could arise from the accretion disc around supermassive stars (>10^3 Msun), hypothetical objects that have been proposed as polluters responsible for the chemical peculiarities in globular clusters. The supermassive stars would form via runaway collisions, simultaneously with the cluster. Their discs are perturbed by stellar flybys, inspiralling and colliding stars. This raises the question if an accretion disc would at all be able to survive in such a dynamic environment and mase water lines. We investigated what the predicted maser spectrum of such a disc would look like using 2D hydrodynamic simulations and compared this to the W1 kilomaser. We derived model maser spectra from the simulations by using a general maser model for appropriate disc temperatures. All our model discs survived. The model maser spectra for the most destructive case for the simulations of M = 1000 Msun are a reasonable match with the W1 kilomaser spectrum in terms of scaling, flux values and some of the signal trends. Details in the spectrum suggest that a star of a few 1000 Msun might fit even better, with 10,000 Msun clearly giving too large velocities. Our investigations thus support the hypothesis that kilomasers could pinpoint supermassive stars. |\n",
       "|<p style=\"color:green\"> **ERROR** </p>| <p style=\"color:green\">affiliation error: mpia.affiliation_verifications: 'Heidelberg' keyword not found.</p> |"
      ],
      "text/plain": [
       "<IPython.core.display.Markdown object>"
      ]
     },
     "metadata": {},
     "output_type": "display_data"
    },
    {
     "data": {
      "text/markdown": [
       "\n",
       "|||\n",
       "|---:|:---|\n",
       "| [![arXiv](https://img.shields.io/badge/arXiv-arXiv:2209.02728-b31b1b.svg)](https://arxiv.org/abs/arXiv:2209.02728) | **BASS XXXVI: Constraining the Local Supermassive Black Hole - Halo  Connection with BASS DR2 AGN**  |\n",
       "|| M. C. Powell, et al. -- incl., <mark>F. Harrison</mark> |\n",
       "|*Appeared on*| *2022-09-08*|\n",
       "|*Comments*| *Accepted for publication in ApJ*|\n",
       "|**Abstract**| We investigate the connection between supermassive black holes (SMBHs) and their host dark matter halos in the local universe using the clustering statistics and luminosity function of AGN from the Swift/BAT AGN Spectroscopic survey (BASS DR2). By forward-modeling AGN activity into snapshot halo catalogs from N-body simulations, we test a scenario in which SMBH mass correlates with dark matter (sub)halo mass for fixed stellar mass. We compare this to a model absent of this correlation, where stellar mass alone determines the SMBH mass. We find that while both simple models are able to largely reproduce the abundance and overall clustering of AGN, the model in which black hole mass is tightly correlated with halo mass is preferred by the data by $1.8\\sigma$. When including an independent measurement on the black hole mass-halo mass correlation, this model is preferred by $4.6\\sigma$. We show that the clustering trends with black hole mass can further break the degeneracies between the two scenarios, and that our preferred model reproduces the measured clustering differences on 1-halo scales between large and small black hole masses. These results indicate that the halo binding energy is fundamentally connected to the growth of supermassive black holes. |\n",
       "|<p style=\"color:green\"> **ERROR** </p>| <p style=\"color:green\">affiliation error: mpia.affiliation_verifications: 'Heidelberg' keyword not found.</p> |"
      ],
      "text/plain": [
       "<IPython.core.display.Markdown object>"
      ]
     },
     "metadata": {},
     "output_type": "display_data"
    },
    {
     "data": {
      "text/markdown": [
       "\n",
       "|||\n",
       "|---:|:---|\n",
       "| [![arXiv](https://img.shields.io/badge/arXiv-arXiv:2209.02738-b31b1b.svg)](https://arxiv.org/abs/arXiv:2209.02738) | **Nonlinear Color-Metallicity Relations of Globular Clusters. XI.  Nonlinearity Effect Revealed by NGC 5128 (Centaurus A) and NGC 4594  (Sombrero) Galaxies**  |\n",
       "|| Hak-Sub Kim, Suk-Jin Yoon, <mark>Sang-Yoon Lee</mark>, Sang-Il Han |\n",
       "|*Appeared on*| *2022-09-08*|\n",
       "|*Comments*| *25 pages, 12 figures*|\n",
       "|**Abstract**| Metallicity distributions (MDs) of globular clusters (GCs) provide crucial clues for the assembly and star formation history of their host galaxies. GC colors, when GCs are old, have been used as a proxy of GC metallicities. Bimodal GC color distributions (CDs) observed in most early-type galaxies have been interpreted as bimodal MDs for decades, suggesting the presence of merely two GC subpopulations within single galaxies. However, the conventional view has been challenged by a new theory that nonlinear metallicity-to-color conversion can cause bimodal CDs from unimodal MDs. The unimodal MDs seem natural given that MDs involved many thousand protogalaxies. The new theory has been tested and corroborated by various observational and theoretical studies. Here we examine the nonlinear nature of GC color-metallicity relations (CMRs) using photometric and spectroscopic GC data of NGC 5128 (Centaurus A) and NGC 4594 (Sombrero), in comparison with stellar population simulations. We find that, with a slight offset in color, the overall shapes of observed and modeled CMRs agree well for all available colors. Diverse color-depending morphologies of GC CDs of the two galaxies are well reproduced based on their observed spectroscopic MDs via our CMR models. The results corroborate the nonlinear CMR interpretation of the GC color bimodality, shedding further light on theories of galaxy formation. |\n",
       "|<p style=\"color:green\"> **ERROR** </p>| <p style=\"color:green\">affiliation error: mpia.affiliation_verifications: 'Heidelberg' keyword not found.</p> |"
      ],
      "text/plain": [
       "<IPython.core.display.Markdown object>"
      ]
     },
     "metadata": {},
     "output_type": "display_data"
    },
    {
     "data": {
      "text/markdown": [
       "\n",
       "|||\n",
       "|---:|:---|\n",
       "| [![arXiv](https://img.shields.io/badge/arXiv-arXiv:2209.02754-b31b1b.svg)](https://arxiv.org/abs/arXiv:2209.02754) | **A Comparative L-dwarf Sample Exploring the Interplay Between Atmospheric  Assumptions and Data Properties**  |\n",
       "|| Eileen C. Gonzales, et al. -- incl., <mark>Ben Burningham</mark>, <mark>Nikole K. Lewis</mark> |\n",
       "|*Appeared on*| *2022-09-08*|\n",
       "|*Comments*| *19 pages, 3 figures, 7 tables*|\n",
       "|**Abstract**| Comparisons of atmospheric retrievals can reveal powerful insights on the strengths and limitations of our data and modeling tools. In this paper, we examine a sample of 5 similar effective temperature (Teff) or spectral type L dwarfs to compare their pressure-temperature (P-T) profiles. Additionally, we explore the impact of an object's metallicity and the observations' signal-to-noise (SNR) on the parameters we can retrieve. We present the first atmospheric retrievals: 2MASS J15261405$+$2043414, 2MASS J05395200$-$0059019, 2MASS J15394189$-$0520428, and GD 165B increasing the small but growing number of L-dwarfs retrieved. When compared to atmospheric retrievals of SDSS J141624.08+134826.7, a low-metallicity d/sdL7 primary in a wide L+T binary, we find similar Teff sources have similar P-T profiles with metallicity differences impacting the relative offset between their P-T profiles in the photosphere. We also find that for near-infrared spectra, when the SNR is $\\gtrsim80$ we are in a regime where model uncertainties dominate over data measurement uncertainties. As such, SNR does not play a role in the retrieval's ability to distinguish between a cloud-free and cloudless model, but may impact the confidence of the retrieved parameters. Lastly, we also discuss how to break cloud model degeneracies and the impact of extraneous gases in a retrieval model. |\n",
       "|<p style=\"color:green\"> **ERROR** </p>| <p style=\"color:green\">affiliation error: mpia.affiliation_verifications: 'Heidelberg' keyword not found.</p> |"
      ],
      "text/plain": [
       "<IPython.core.display.Markdown object>"
      ]
     },
     "metadata": {},
     "output_type": "display_data"
    },
    {
     "data": {
      "text/markdown": [
       "\n",
       "|||\n",
       "|---:|:---|\n",
       "| [![arXiv](https://img.shields.io/badge/arXiv-arXiv:2209.02779-b31b1b.svg)](https://arxiv.org/abs/arXiv:2209.02779) | **Extracting the Heliographic Coordinates of Coronal Rays using Images  from WISPR/Parker Solar Probe**  |\n",
       "|| P. C. Liewer, et al. -- incl., <mark>P. Penteado</mark> |\n",
       "|*Appeared on*| *2022-09-08*|\n",
       "|*Comments*| *14 pages, 13 figures*|\n",
       "|**Abstract**| The Wide-field Imager for Solar Probe (WISPR) onboard Parker Solar Probe (PSP), observing in white light, has a fixed angular field of view, extending from 13.5 degree to 108 degree from the Sun and approximately 50 degree in the transverse direction. In January 2021, on its seventh orbit, PSP crossed the heliospheric current sheet (HCS) near perihelion at a distance of 20 solar radii. At this time, WISPR observed a broad band of highly variable solar wind and multiple coronal rays. For six days around perihelion, PSP was moving with an angular velocity exceeding that of the Sun. During this period, WISPR was able to image coronal rays as PSP approached and then passed under or over them. We have developed a technique for using the multiple viewpoints of the coronal rays to determine their location (longitude and latitude) in a heliocentric coordinate system and used the technique to determine the coordinates of three coronal rays. The technique was validated by comparing the results to observations of the coronal rays from Solar and Heliophysics Observatory (SOHO) / Large Angle and Spectrometric COronagraph (LASCO)/C3 and Solar Terrestrial Relations Observatory (STEREO)-A/COR2. Comparison of the rays' locations were also made with the HCS predicted by a 3D MHD model. In the future, results from this technique can be used to validate dynamic models of the corona. |\n",
       "|<p style=\"color:green\"> **ERROR** </p>| <p style=\"color:green\">affiliation error: mpia.affiliation_verifications: 'Heidelberg' keyword not found.</p> |"
      ],
      "text/plain": [
       "<IPython.core.display.Markdown object>"
      ]
     },
     "metadata": {},
     "output_type": "display_data"
    },
    {
     "data": {
      "text/markdown": [
       "\n",
       "|||\n",
       "|---:|:---|\n",
       "| [![arXiv](https://img.shields.io/badge/arXiv-arXiv:2209.02817-b31b1b.svg)](https://arxiv.org/abs/arXiv:2209.02817) | **Deducing Neutron Star Equation of State Parameters Directly From  Telescope Spectra with Uncertainty-Aware Machine Learning**  |\n",
       "|| Delaney Farrell, et al. -- incl., <mark>Aishik Ghosh</mark>, <mark>Lee Lindblom</mark> |\n",
       "|*Appeared on*| *2022-09-08*|\n",
       "|*Comments*| *22 pages, 20 figures*|\n",
       "|**Abstract**| Neutron stars provide a unique laboratory for studying matter at extreme pressures and densities. While there is no direct way to explore their interior structure, X-rays emitted from these stars can indirectly provide clues to the equation of state (EOS) of superdense nuclear matter through the inference of the star's mass and radius. However, inference of EOS directly from a star's X-ray spectra is extremely challenging and is complicated by systematic uncertainties. The current state of the art is to use simulation-based likelihoods in a piece-wise method, which first infer the star's mass and radius to reduce the dimensionality of the problem, and from those quantities infer the EOS. We demonstrate a series of enhancements to the state of the art, in terms of realistic uncertainty quantification and improved regression of physical properties with machine learning. We also demonstrate novel inference of the EOS directly from the high-dimensional spectra of observed stars, avoiding the intermediate mass-radius step. Our network is conditions on the sources of uncertainty of each star, allowing for natural and complete propagation of uncertainties to the EOS. |\n",
       "|<p style=\"color:green\"> **ERROR** </p>| <p style=\"color:green\">affiliation error: mpia.affiliation_verifications: 'Heidelberg' keyword not found.</p> |"
      ],
      "text/plain": [
       "<IPython.core.display.Markdown object>"
      ]
     },
     "metadata": {},
     "output_type": "display_data"
    },
    {
     "data": {
      "text/markdown": [
       "\n",
       "|||\n",
       "|---:|:---|\n",
       "| [![arXiv](https://img.shields.io/badge/arXiv-arXiv:2209.02827-b31b1b.svg)](https://arxiv.org/abs/arXiv:2209.02827) | **Physical properties of accretion shocks toward the Class I protostellar  system Oph-IRS 44**  |\n",
       "|| <mark>E. Artur de la Villarmois</mark>, et al. |\n",
       "|*Appeared on*| *2022-09-08*|\n",
       "|*Comments*| *16 pages, 16 figures*|\n",
       "|**Abstract**| (Abridged) Physical processes such as accretion shocks are thought to be common in the protostellar phase, where the envelope component is still present, and they can release molecules from the dust to the gas phase, altering the original chemical composition of the disk. Consequently, the study of accretion shocks is essential for a better understanding of the physical processes at disk scales and their chemical output. The purpose of this work is to assess the characteristics of accretion shocks traced by sulfur-related species. We present ALMA high angular resolution observations (0.1\") of the Class I protostar Oph-IRS 44. The continuum emission at 0.87 mm is observed, together with sulfur-related species such as SO, SO$_{2}$, and $^{34}$SO$_{2}$. Six lines of SO$_{2}$, two lines of $^{34}$SO$_{2}$, and one line of SO are detected toward IRS 44. The emission of all the detected lines peaks at ~0.1\" (~14 au) from the continuum peak and we find infalling-rotating motions inside 30 au. However, only redshifted emission is seen between 50 and 30 au. Colder and more quiescent material is seen toward an offset region located at a distance of ~400 au from the protostar, and we do not find evidence of a Keplerian profile in these data. Accretion shocks are the most plausible explanation for the high temperatures, high densities, and velocities found for the SO$_{2}$ emission. When material enters the disk--envelope system, it generates accretion shocks that increase the dust temperature and desorb SO$_{2}$ molecules from dust grains. High-energy SO$_{2}$ transitions (~200 K) seem to be the best tracers of accretion shocks that can be followed up by future higher angular resolution ALMA observations and compared to other species to assess their importance in releasing molecules from the dust to the gas phase. |\n",
       "|<p style=\"color:green\"> **ERROR** </p>| <p style=\"color:green\">affiliation error: mpia.affiliation_verifications: 'Heidelberg' keyword not found.</p> |"
      ],
      "text/plain": [
       "<IPython.core.display.Markdown object>"
      ]
     },
     "metadata": {},
     "output_type": "display_data"
    },
    {
     "data": {
      "text/markdown": [
       "\n",
       "|||\n",
       "|---:|:---|\n",
       "| [![arXiv](https://img.shields.io/badge/arXiv-arXiv:2209.02831-b31b1b.svg)](https://arxiv.org/abs/arXiv:2209.02831) | **Two temperate super-Earths transiting a nearby late-type M dwarf**  |\n",
       "|| L. Delrez, et al. -- incl., <mark>K. Heng</mark> |\n",
       "|*Appeared on*| *2022-09-08*|\n",
       "|*Comments*| *31 pages, 19 figures, 7 tables. Accepted for publication in A&A*|\n",
       "|**Abstract**| In the age of JWST, temperate terrestrial exoplanets transiting nearby late-type M dwarfs provide unique opportunities for characterising their atmospheres, as well as searching for biosignature gases. We report here the discovery and validation of two temperate super-Earths transiting LP 890-9 (TOI-4306, SPECULOOS-2), a relatively low-activity nearby (32 pc) M6V star. The inner planet, LP 890-9b, was first detected by TESS (and identified as TOI-4306.01) based on four sectors of data. Intensive photometric monitoring of the system with the SPECULOOS Southern Observatory then led to the discovery of a second outer transiting planet, LP 890-9c (also identified as SPECULOOS-2c), previously undetected by TESS. The orbital period of this second planet was later confirmed by MuSCAT3 follow-up observations. With a mass of 0.118$\\pm$0.002 $M_\\odot$, a radius of 0.1556$\\pm$0.0086 $R_\\odot$, and an effective temperature of 2850$\\pm$75 K, LP 890-9 is the second-coolest star found to host planets, after TRAPPIST-1. The inner planet has an orbital period of 2.73 d, a radius of $1.320_{-0.027}^{+0.053}$ $R_\\oplus$, and receives an incident stellar flux of 4.09$\\pm$0.12 $S_\\oplus$. The outer planet has a similar size of $1.367_{-0.039}^{+0.055}$ $R_\\oplus$ and an orbital period of 8.46 d. With an incident stellar flux of 0.906 $\\pm$ 0.026 $S_\\oplus$, it is located within the conservative habitable zone, very close to its inner limit. Although the masses of the two planets remain to be measured, we estimated their potential for atmospheric characterisation via transmission spectroscopy using a mass-radius relationship and found that, after the TRAPPIST-1 planets, LP 890-9c is the second-most favourable habitable-zone terrestrial planet known so far. The discovery of this remarkable system offers another rare opportunity to study temperate terrestrial planets around our smallest and coolest neighbours. |\n",
       "|<p style=\"color:green\"> **ERROR** </p>| <p style=\"color:green\">affiliation error: mpia.affiliation_verifications: 'Heidelberg' keyword not found.</p> |"
      ],
      "text/plain": [
       "<IPython.core.display.Markdown object>"
      ]
     },
     "metadata": {},
     "output_type": "display_data"
    },
    {
     "data": {
      "text/markdown": [
       "\n",
       "|||\n",
       "|---:|:---|\n",
       "| [![arXiv](https://img.shields.io/badge/arXiv-arXiv:2209.02917-b31b1b.svg)](https://arxiv.org/abs/arXiv:2209.02917) | **Pulsars as candidates of LHAASO sources J2226+6057, J1908+0621 and  J1825-1326**  |\n",
       "|| Zhe Chang, <mark>Xukun Zhang</mark>, Jing-Zhi Zhou |\n",
       "|*Appeared on*| *2022-09-08*|\n",
       "|*Comments*| *This paper has been accepcted by MNRAS*|\n",
       "|**Abstract**| The LHAASO Collaboration has observed ultrahigh-energy photons up to $1.4$PeV from $12$ $\\gamma$-ray Galactic sources. In particular, the $\\gamma$-ray spectra of the sources J2226+6057, J1908+0621, J1825-1326 have been published. We investigate the possibility of suggested origin pulsars near the sources as the PeVatrons. The pulsar is described by a rotating magnetic dipole. Assuming protons are uniform distributed out of the light cylinders, we obtain the Lorentz distribution of proton energy spectrum. It is found that the protons around pulsar could be accelerated to PeV at short times. The hadronic $\\gamma$-ray spectra of the suggested origin pulsars are in good agreement with the LHAASO observed $\\gamma$-ray spectra of the sources J2226+6057, J1908+0621, J1825-1326. |\n",
       "|<p style=\"color:green\"> **ERROR** </p>| <p style=\"color:green\">affiliation error: mpia.affiliation_verifications: 'Heidelberg' keyword not found.</p> |"
      ],
      "text/plain": [
       "<IPython.core.display.Markdown object>"
      ]
     },
     "metadata": {},
     "output_type": "display_data"
    },
    {
     "data": {
      "text/markdown": [
       "\n",
       "|||\n",
       "|---:|:---|\n",
       "| [![arXiv](https://img.shields.io/badge/arXiv-arXiv:2209.03010-b31b1b.svg)](https://arxiv.org/abs/arXiv:2209.03010) | **Strong lithium lines in red supergiants at different metallicities**  |\n",
       "|| Ignacio Negueruela, Javier Alonso-Santiago, Ricardo Dorda, <mark>Lee R. Patrick</mark> |\n",
       "|*Appeared on*| *2022-09-08*|\n",
       "|*Comments*| *Accepted in proceedings for IAU Symposium 361: Massive Stars Near and Far, held in Ballyconnell, Ireland, 9-13 May 2022. N. St-Louis, J. S. Vink & J. Mackey, eds*|\n",
       "|**Abstract**| Current models of stellar evolution predict that stars more massive than $\\sim6\\:$M$_{\\odot}$ should have completely depleted all lithium (Li) in their atmospheres by the time when they reach the He core burning phase. Against this, a non-negligible number of red giants with masses $>6\\:$M$_{\\odot}$ presenting strong Li lines have recently been reported. Motivated by this finding, we have carried out a spectroscopic survey of red supergiants (RSGs) in the Perseus Arm and a selection of young open clusters in the Magellanic Clouds to assess the presence of the Li I $\\lambda$6708 doublet line. Based on a sample of >70 objects, close to one third of RSGs in the Perseus Arm display noticeable Li lines, with perhaps a trend towards a lower fraction among more luminous stars. The samples in the Magellanic Clouds are not as large, but hint at a metallicity dependence. Twenty one RSGs in 5 LMC clusters show a very high fraction of Li detection, around 40%. Conversely, 17 RSGs in 5 SMC clusters give only one secure detection. The interpretation of these observational results is not straightforward, but a mechanism for Li production seems most likely. Further characterisation work is ongoing, while theoretical studies into this matter are urgently needed. |\n",
       "|<p style=\"color:green\"> **ERROR** </p>| <p style=\"color:green\">affiliation error: mpia.affiliation_verifications: 'Heidelberg' keyword not found.</p> |"
      ],
      "text/plain": [
       "<IPython.core.display.Markdown object>"
      ]
     },
     "metadata": {},
     "output_type": "display_data"
    },
    {
     "data": {
      "text/markdown": [
       "\n",
       "|||\n",
       "|---:|:---|\n",
       "| [![arXiv](https://img.shields.io/badge/arXiv-arXiv:2209.03067-b31b1b.svg)](https://arxiv.org/abs/arXiv:2209.03067) | **A Q-band line survey towards Orion KL using the Tianma radio telescope**  |\n",
       "|| Xunchuan Liu, et al. -- incl., <mark>Tianwei Zhang</mark>, <mark>Weiye Zhong</mark>, <mark>Zhang Zhao</mark>, <mark>Chao Zhang</mark>, <mark>Chin-Fei Lee</mark>, <mark>Chao Zhang</mark> |\n",
       "|*Appeared on*| *2022-09-08*|\n",
       "|*Comments*| *51 pages, 18 figures, accepted by ApJS*|\n",
       "|**Abstract**| We have conducted a line survey towards Orion KL using the Q-band receiver of Tianma 65 m radio telescope (TMRT), covering 34.8--50 GHz with a velocity resolution between 0.79 km s$^{-1}$ and 0.55 km s$^{-1}$ respectively. The observations reach a sensitivity on the level of 1-8 mK, proving that the TMRT is sensitive for conducting deep line surveys. In total, 597 Gaussian features are extracted. Among them, 177 radio recombination lines (RRLs) are identified, including 126, 40 and 11 RRLs of hydrogen, helium and carbon, with a maximum $\\Delta n$ of 16, 7, and 3, respectively. The carbon RRLs are confirmed to originate from photodissociation regions with a $V_{\\rm LSR}\\sim$9 km s$^{-1}$. In addition, 371 molecular transitions of 53 molecular species are identified. Twenty-one molecular species of this survey were not firmly detected in the Q band by Rizzo et al. (2017), including species such as H$_2$CS, HCOOH, C$_2$H$_5$OH, H$_2^{13}$CO, H$_2$CCO, CH$_3$CHO, CH$_2$OCH$_2$, HCN $v_2=1$, and CH$_3$OCHO $v_t=1$. In particular, the vibrationally excited states of ethyl cyanide (C$_2$H$_5$CN $v$13/$v$21) are for the first time firmly detected in the Q band. NH$_3$ (15,15) and (16,16) are identified, and they are so far the highest transitions of the NH$_3$ inversion lines detected towards Orion KL. All the identified lines can be reproduced by a radiative transfer model. |\n",
       "|<p style=\"color:green\"> **ERROR** </p>| <p style=\"color:green\">affiliation error: mpia.affiliation_verifications: 'Heidelberg' keyword not found.</p> |"
      ],
      "text/plain": [
       "<IPython.core.display.Markdown object>"
      ]
     },
     "metadata": {},
     "output_type": "display_data"
    },
    {
     "data": {
      "text/markdown": [
       "\n",
       "|||\n",
       "|---:|:---|\n",
       "| [![arXiv](https://img.shields.io/badge/arXiv-arXiv:2209.03088-b31b1b.svg)](https://arxiv.org/abs/arXiv:2209.03088) | **Probing the Mpc-scale environment of hyperluminous infrared galaxies at  2<z<4**  |\n",
       "|| F. Gao, et al. -- incl., <mark>A. F. Ramos Padilla</mark> |\n",
       "|*Appeared on*| *2022-09-08*|\n",
       "|*Comments*| *19 pages, 10 figures, accepted by A&A*|\n",
       "|**Abstract**| Protoclusters are important for studying how halo mass and stellar mass assemble in the early universe. Finding signposts of such over-dense regions is a popular method to identify protocluster candidates. Hyperluminous infrared galaxies (HLIRGs), are expected to reside in overdense regions with massive halos. We study the Mpc-scale environment of the largest HLIRG sample to date and investigate whether they predominantly live in overdense regions. We first explore the surface density of Herschel 250 $\\mu$m sources around HLIRGs and compare with that around random positions. Then, we compare the spatial distribution of neighbours around HLIRGs with that around randomly selected galaxies using a deep IRAC-selected catalogue with good-quality photometric redshifts. We also use a redshift-matched quasar sample and submillimeter galaxy (SMG) sample to validate our method, as previous clustering studies have measured the host halo masses of these populations. Finally, we adopt a Friends of Friends (FOF) algorithm to seek (proto)clusters that host HLIRGs. We find that HLIRGs tend to have more bright star-forming neighbours (with 250 $\\mu$m flux density >10 mJy) within 100$\\arcsec$ projected radius than a random galaxy at a 3.7$\\sigma$ significance. In our 3D analysis, we find relatively weak excess of IRAC-selected sources within 3 Mpc around HLIRGs compared with random galaxy neighbours, mainly influenced by photometric redshift uncertainty and survey depth. We find a more significant difference (at a 4.7$\\sigma$ significance) in the number of Low Frequency Array (LOFAR)-detected neighbours in the deepest EN1 field. HLIRGs at 3 < z < 4 show stronger excess compared to HLIRGs at 2 < z < 3, consistent with cosmic downsizing. Finally, we select and present a list of 30 most promising protocluster candidates for future follow-up observations. |\n",
       "|<p style=\"color:green\"> **ERROR** </p>| <p style=\"color:green\">affiliation error: mpia.affiliation_verifications: 'Heidelberg' keyword not found.</p> |"
      ],
      "text/plain": [
       "<IPython.core.display.Markdown object>"
      ]
     },
     "metadata": {},
     "output_type": "display_data"
    },
    {
     "data": {
      "text/markdown": [
       "\n",
       "|||\n",
       "|---:|:---|\n",
       "| [![arXiv](https://img.shields.io/badge/arXiv-arXiv:2209.03128-b31b1b.svg)](https://arxiv.org/abs/arXiv:2209.03128) | **The EBLM project -- IX. Five fully convective M-dwarfs, precisely  measured with CHEOPS and TESS light curves**  |\n",
       "|| D. Sebastian, et al. -- incl., <mark>G. Olofsson</mark>, <mark>S. Hoyer</mark>, <mark>N. Heidari</mark>, <mark>M. B. Davies</mark>, <mark>K. Heng</mark> |\n",
       "|*Appeared on*| *2022-09-08*|\n",
       "|*Comments*| *19 pages, 12 figures, accepted for publication in MNRAS*|\n",
       "|**Abstract**| Eclipsing binaries are important benchmark objects to test and calibrate stellar structure and evolution models. This is especially true for binaries with a fully convective M-dwarf component for which direct measurements of these stars' masses and radii are difficult using other techniques. Within the potential of M-dwarfs to be exoplanet host stars, the accuracy of theoretical predictions of their radius and effective temperature as a function of their mass is an active topic of discussion. Not only the parameters of transiting exoplanets but also the success of future atmospheric characterisation rely on accurate theoretical predictions. We present the analysis of five eclipsing binaries with low-mass stellar companions out of a sub-sample of 23, for which we obtained ultra high-precision light curves using the CHEOPS satellite. The observation of their primary and secondary eclipses are combined with spectroscopic measurements to precisely model the primary parameters and derive the M-dwarfs mass, radius, surface gravity, and effective temperature estimates using the PYCHEOPS data analysis software. Combining these results to the same set of parameters derived from TESS light curves, we find very good agreement (better than 1\\% for radius and better than 0.2% for surface gravity). We also analyse the importance of precise orbits from radial velocity measurements and find them to be crucial to derive M-dwarf radii in a regime below 5% accuracy. These results add five valuable data points to the mass-radius diagram of fully-convective M-dwarfs. |\n",
       "|<p style=\"color:green\"> **ERROR** </p>| <p style=\"color:green\">affiliation error: mpia.affiliation_verifications: 'Heidelberg' keyword not found.</p> |"
      ],
      "text/plain": [
       "<IPython.core.display.Markdown object>"
      ]
     },
     "metadata": {},
     "output_type": "display_data"
    },
    {
     "data": {
      "text/markdown": [
       "\n",
       "|||\n",
       "|---:|:---|\n",
       "| [![arXiv](https://img.shields.io/badge/arXiv-arXiv:2209.03161-b31b1b.svg)](https://arxiv.org/abs/arXiv:2209.03161) | **Status of the PSF Reconstruction Work Package for MICADO ELT**  |\n",
       "|| Andrea Grazian, et al. -- incl., <mark>Richard Davies</mark>, <mark>Tapio Helin</mark>, <mark>Steven Williams</mark> |\n",
       "|*Appeared on*| *2022-09-08*|\n",
       "|*Comments*| *to appear in the Proceedings of the SPIE conference Astronomical Telescopes+Instrumentation 2022 Montreal, Quebec, Canada; 6 pages, 1 figure, 1 table*|\n",
       "|**Abstract**| MICADO is a workhorse instrument for the ESO ELT, allowing first light capability for diffraction limited imaging and long-slit spectroscopy at near-infrared wavelengths. The PSF Reconstruction (PSF-R) Team of MICADO is currently implementing, for the first time within all ESO telescopes, a software service devoted to the blind reconstruction of the PSF. This tool will work independently of the science data, using adaptive optics telemetry data, both for Single Conjugate (SCAO) and Multi-Conjugate Adaptive Optics (MCAO) allowed by the MORFEO module. The PSF-R service will support the state-of-the-art post-processing scientific analysis of the MICADO imaging and spectroscopic data. We provide here an update of the status of the PSF-R service tool of MICADO, after successfully fulfilling the Final Design Review phase, and discuss recent results obtained on simulated and real data gathered on instruments similar to MICADO. |\n",
       "|<p style=\"color:green\"> **ERROR** </p>| <p style=\"color:green\">affiliation error: mpia.affiliation_verifications: 'Heidelberg' keyword not found.</p> |"
      ],
      "text/plain": [
       "<IPython.core.display.Markdown object>"
      ]
     },
     "metadata": {},
     "output_type": "display_data"
    },
    {
     "data": {
      "text/markdown": [
       "\n",
       "|||\n",
       "|---:|:---|\n",
       "| [![arXiv](https://img.shields.io/badge/arXiv-arXiv:2209.03215-b31b1b.svg)](https://arxiv.org/abs/arXiv:2209.03215) | **The internal proper motion kinematics of NGC346: past formation and  future evolution**  |\n",
       "|| E. Sabbi, et al. -- incl., <mark>L.J. Smith</mark> |\n",
       "|*Appeared on*| *2022-09-08*|\n",
       "|*Comments*| *17 pages, 14 figures, Accpeted for publication on ApJ*|\n",
       "|**Abstract**| We investigate the internal kinematics of the young star-forming region NGC 346 in the Small Magellanic Cloud. We used two epochs of deep F555W and F814W Hubble Space Telescope ACS observations with an 11-year baseline to determine proper motions, and study the kinematics of different populations, as identified by their color-magnitude diagram and spatial distribution characteristics. The proper motion field of the young stars shows a complex structure with spatially coherent patterns. NGC 346 upper-main sequence and pre-main sequence stars follow very similar motion patterns, with the outer parts of the cluster being characterized both by outflows and inflows. The proper motion field in the inner ~10 pc shows a combination of rotation and inflow, indicative of inspiraling motion. The rotation velocity in this regions peaks at ~3 km/s, whereas the inflow velocity peaks at ~1 km/s. Sub-clusters and massive young stellar objects in NGC 346 are found at the interface of significant changes in the coherence of the proper motion field. This suggests that turbulence is the main star formation driver in this region. The similar kinematics observed in the metal-poor NGC 346 and the Milky Way star-forming regions suggest that the differences in the cooling conditions due to the different amounts of metallicity and dust density between the SMC and our Galaxy are too small to alter significantly the process of star clusters assembly and growth. The main characteristics of our findings are consistent with various proposed star cluster formation models. |\n",
       "|<p style=\"color:green\"> **ERROR** </p>| <p style=\"color:green\">affiliation error: mpia.affiliation_verifications: 'Heidelberg' keyword not found.</p> |"
      ],
      "text/plain": [
       "<IPython.core.display.Markdown object>"
      ]
     },
     "metadata": {},
     "output_type": "display_data"
    },
    {
     "data": {
      "text/markdown": [
       "\n",
       "|||\n",
       "|---:|:---|\n",
       "| [![arXiv](https://img.shields.io/badge/arXiv-arXiv:2209.03278-b31b1b.svg)](https://arxiv.org/abs/arXiv:2209.03278) | **BRUTE, PSF Reconstruction for the SOUL pyramid-based Single Conjugate  Adaptive Optics facility of the LBT**  |\n",
       "|| Carmelo Arcidiacono, et al. -- incl., <mark>Enrico Pinna</mark> |\n",
       "|*Appeared on*| *2022-09-08*|\n",
       "|*Comments*| *11 pages, 7 figures, Proceeding of the SPIE Conference 12185, Adaptive Optics Systems VIII, 1218540 (29 August 2022)*|\n",
       "|**Abstract**| The astronomical applications greatly benefit from the knowledge of the instrument PSF. We describe the PSF Reconstruction algorithm developed for the LBT LUCI instrument assisted by the SOUL SCAO module. The reconstruction procedure considers only synchronous wavefront sensor telemetry data and a few asynchronous calibrations. We do not compute the Optical Transfer Function and corresponding filters. We compute instead a temporal series of wavefront maps and for each of these the corresponding instantaneous PSF. We tested the algorithm both in laboratory arrangement and in the nighttime for different SOUL configurations, adapting it to the guide star magnitudes and seeing conditions. We nick-named it \"BRUTE\", Blind Reconstruction Using TElemetry, also recalling the one-to-one approach, one slope-to one instantaneous PSF the algorithm applies. |\n",
       "|<p style=\"color:green\"> **ERROR** </p>| <p style=\"color:green\">affiliation error: mpia.affiliation_verifications: 'Heidelberg' keyword not found.</p> |"
      ],
      "text/plain": [
       "<IPython.core.display.Markdown object>"
      ]
     },
     "metadata": {},
     "output_type": "display_data"
    }
   ],
   "source": [
    "import datetime\n",
    "today = str(datetime.date.today())\n",
    "logfile = f\"_build/html/logs/log-{today}.md\"\n",
    "\n",
    "\n",
    "with open(logfile, 'w') as logs:\n",
    "    # Success\n",
    "    logs.write(f'# Arxiv on Deck 2: Logs - {today}\\n\\n')\n",
    "    logs.write(\"\"\"* Arxiv had {0:,d} new papers\\n\"\"\".format(len(new_papers)))\n",
    "    logs.write(\"\"\"    * {0:,d} with possible author matches\\n\\n\"\"\".format(len(candidates)))\n",
    "    logs.write(\"## Sucessful papers\\n\\n\")\n",
    "    display(Markdown(\"## Successful papers\"))\n",
    "    success = [k[0] for k in documents]\n",
    "    for candid in candidates:\n",
    "        if candid['identifier'].split(':')[-1] in success:\n",
    "            display(candid)\n",
    "            logs.write(candid.generate_markdown_text() + '\\n\\n')\n",
    "\n",
    "    ## failed\n",
    "    logs.write(\"## Failed papers\\n\\n\")\n",
    "    display(Markdown(\"## Failed papers\"))\n",
    "    failed = sorted(failed, key=lambda x: x[1])\n",
    "    current_reason = \"\"\n",
    "    for paper, reason in failed:\n",
    "        if 'affiliation' in reason:\n",
    "            color = 'green'\n",
    "        else:\n",
    "            color = 'red'\n",
    "        data = Markdown(\n",
    "                paper.generate_markdown_text() + \n",
    "                f'\\n|<p style=\"color:{color:s}\"> **ERROR** </p>| <p style=\"color:{color:s}\">{reason:s}</p> |'\n",
    "               )\n",
    "        if reason != current_reason:\n",
    "            logs.write(f'### {reason:s} \\n\\n')\n",
    "            current_reason = reason\n",
    "        logs.write(data.data + '\\n\\n')\n",
    "        \n",
    "        # only display here the important errors (all in logs)\n",
    "        # if color in ('red',):\n",
    "        display(data)"
   ]
  },
  {
   "cell_type": "markdown",
   "id": "472d20ee",
   "metadata": {
    "papermill": {
     "duration": 0.009291,
     "end_time": "2022-09-08T05:12:52.822803",
     "exception": false,
     "start_time": "2022-09-08T05:12:52.813512",
     "status": "completed"
    },
    "tags": []
   },
   "source": [
    "## Export documents\n",
    "\n",
    "We now write the .md files and export relevant images"
   ]
  },
  {
   "cell_type": "code",
   "execution_count": 7,
   "id": "d426aed9",
   "metadata": {
    "execution": {
     "iopub.execute_input": "2022-09-08T05:12:52.843201Z",
     "iopub.status.busy": "2022-09-08T05:12:52.842468Z",
     "iopub.status.idle": "2022-09-08T05:12:52.849945Z",
     "shell.execute_reply": "2022-09-08T05:12:52.849424Z"
    },
    "papermill": {
     "duration": 0.019731,
     "end_time": "2022-09-08T05:12:52.852019",
     "exception": false,
     "start_time": "2022-09-08T05:12:52.832288",
     "status": "completed"
    },
    "tags": []
   },
   "outputs": [],
   "source": [
    "def export_markdown_summary(md: str, md_fname:str, directory: str):\n",
    "    \"\"\"Export MD document and associated relevant images\"\"\"\n",
    "    import os\n",
    "    import shutil\n",
    "    import re\n",
    "\n",
    "    if (os.path.exists(directory) and not os.path.isdir(directory)):\n",
    "        raise RuntimeError(f\"a non-directory file exists with name {directory:s}\")\n",
    "\n",
    "    if (not os.path.exists(directory)):\n",
    "        print(f\"creating directory {directory:s}\")\n",
    "        os.mkdir(directory)\n",
    "\n",
    "    fig_fnames = (re.compile(r'\\[Fig.*\\]\\((.*)\\)').findall(md) + \n",
    "                  re.compile(r'\\<img src=\"([^>\\s]*)\"[^>]*/>').findall(md))\n",
    "    for fname in fig_fnames:\n",
    "        if 'http' in fname:\n",
    "            # No need to copy online figures\n",
    "            continue\n",
    "        destdir = os.path.join(directory, os.path.dirname(fname))\n",
    "        destfname = os.path.join(destdir, os.path.basename(fname))\n",
    "        try:\n",
    "            os.makedirs(destdir)\n",
    "        except FileExistsError:\n",
    "            pass\n",
    "        shutil.copy(fname, destfname)\n",
    "    with open(os.path.join(directory, md_fname), 'w') as fout:\n",
    "        fout.write(md)\n",
    "    print(\"exported in \", os.path.join(directory, md_fname))\n",
    "    [print(\"    + \" + os.path.join(directory,fk)) for fk in fig_fnames]"
   ]
  },
  {
   "cell_type": "code",
   "execution_count": 8,
   "id": "014d04a4",
   "metadata": {
    "execution": {
     "iopub.execute_input": "2022-09-08T05:12:52.872198Z",
     "iopub.status.busy": "2022-09-08T05:12:52.871478Z",
     "iopub.status.idle": "2022-09-08T05:12:52.881313Z",
     "shell.execute_reply": "2022-09-08T05:12:52.880663Z"
    },
    "papermill": {
     "duration": 0.02156,
     "end_time": "2022-09-08T05:12:52.882822",
     "exception": false,
     "start_time": "2022-09-08T05:12:52.861262",
     "status": "completed"
    },
    "tags": []
   },
   "outputs": [
    {
     "name": "stdout",
     "output_type": "stream",
     "text": [
      "exported in  _build/html/2209.02722.md\n",
      "    + _build/html/tmp_2209.02722/./MH_validation.png\n",
      "    + _build/html/tmp_2209.02722/./dust_validation.png\n",
      "    + _build/html/tmp_2209.02722/./LAMOST_MH_validation.png\n",
      "    + _build/html/tmp_2209.02722/./GALAH_MH_validation.png\n",
      "    + _build/html/tmp_2209.02722/./GSPSpec_MH_validation.png\n",
      "    + _build/html/tmp_2209.02722/./Teff_validation.png\n",
      "    + _build/html/tmp_2209.02722/./BP_validation.png\n",
      "exported in  _build/html/2209.02725.md\n",
      "    + _build/html/tmp_2209.02725/./1to1_0_f_ps_s42_HST_1220_5000_2A_band1fixed_noSNRcut_beta10_new_2kernels_cross_N30_D1889_L2_Q16_SNR_overlap.png\n",
      "    + _build/html/tmp_2209.02725/./spectra_ps_s42_HST_1220_5000_2A_band1fixed_noSNRcut_beta10_new_2kernels_cross_N30_D1889_L3_Q16_qq4_qq4_new.png\n",
      "    + _build/html/tmp_2209.02725/./sample.png\n",
      "exported in  _build/html/2209.02872.md\n",
      "    + _build/html/tmp_2209.02872/./figures/tpcf_grid_jan15.ps\n",
      "    + _build/html/tmp_2209.02872/./figures/assoc_1566.ps\n",
      "    + _build/html/tmp_2209.02872/./figures/1nn_grid.ps\n"
     ]
    }
   ],
   "source": [
    "for paper_id, md in documents:\n",
    "    export_markdown_summary(md, f\"{paper_id:s}.md\", '_build/html/')"
   ]
  },
  {
   "cell_type": "markdown",
   "id": "f087a0a7",
   "metadata": {
    "papermill": {
     "duration": 0.009265,
     "end_time": "2022-09-08T05:12:52.901360",
     "exception": false,
     "start_time": "2022-09-08T05:12:52.892095",
     "status": "completed"
    },
    "tags": []
   },
   "source": [
    "## Display the papers\n",
    "\n",
    "Not necessary but allows for a quick check."
   ]
  },
  {
   "cell_type": "code",
   "execution_count": 9,
   "id": "fd25f625",
   "metadata": {
    "execution": {
     "iopub.execute_input": "2022-09-08T05:12:52.921588Z",
     "iopub.status.busy": "2022-09-08T05:12:52.921060Z",
     "iopub.status.idle": "2022-09-08T05:12:52.928176Z",
     "shell.execute_reply": "2022-09-08T05:12:52.927530Z"
    },
    "papermill": {
     "duration": 0.018791,
     "end_time": "2022-09-08T05:12:52.929648",
     "exception": false,
     "start_time": "2022-09-08T05:12:52.910857",
     "status": "completed"
    },
    "scrolled": false,
    "tags": []
   },
   "outputs": [
    {
     "data": {
      "text/markdown": [
       "<div class=\"macros\" style=\"visibility:hidden;\">\n",
       "$\\newcommand{\\ensuremath}{}$\n",
       "$\\newcommand{\\xspace}{}$\n",
       "$\\newcommand{\\object}[1]{\\texttt{#1}}$\n",
       "$\\newcommand{\\farcs}{{.}''}$\n",
       "$\\newcommand{\\farcm}{{.}'}$\n",
       "$\\newcommand{\\arcsec}{''}$\n",
       "$\\newcommand{\\arcmin}{'}$\n",
       "$\\newcommand{\\ion}[2]{#1#2}$\n",
       "$\\newcommand{\\textsc}[1]{\\textrm{#1}}$\n",
       "$\\newcommand{\\hl}[1]{\\textrm{#1}}$\n",
       "$\\newcommand{\\vdag}{(v)^\\dagger}$\n",
       "$\\newcommand$\n",
       "$\\newcommand$\n",
       "$\\newcommand{\\insitu}{{\\it in situ}}$\n",
       "$\\newcommand{\\MH}{\\ensuremath{\\mathrm{[M/H]}}}$\n",
       "$\\newcommand{\\Teff}{\\ensuremath{\\mathrm{T}_{\\rm eff}}}$\n",
       "$\\newcommand{\\aFe}{\\ensuremath{\\mathrm{[\\alpha/M]}}}$\n",
       "$\\newcommand{\\GBP}{\\ensuremath{G_\\mathrm{BP}}}$</div>\n",
       "\n",
       "<div class=\"macros\" style=\"visibility:hidden;\">\n",
       "$\\newcommand{$\\ensuremath$}{}$\n",
       "$\\newcommand{$\\xspace$}{}$\n",
       "$\\newcommand{$\\object$}[1]{\\texttt{#1}}$\n",
       "$\\newcommand{$\\farcs$}{{.}''}$\n",
       "$\\newcommand{$\\farcm$}{{.}'}$\n",
       "$\\newcommand{$\\arcsec$}{''}$\n",
       "$\\newcommand{$\\arcmin$}{'}$\n",
       "$\\newcommand{$\\ion$}[2]{#1#2}$\n",
       "$\\newcommand{$\\textsc$}[1]{\\textrm{#1}}$\n",
       "$\\newcommand{$\\hl$}[1]{\\textrm{#1}}$\n",
       "$\\newcommand{$\\vdag$}{(v)^\\dagger}$\n",
       "$\\newcommand$\n",
       "$\\newcommand$\n",
       "$\\newcommand{$\\insitu$}{{\\it in situ}}$\n",
       "$\\newcommand{$\\MH$}{$\\ensuremath${\\mathrm{[M/H]}}}$\n",
       "$\\newcommand{$\\Teff$}{$\\ensuremath${\\mathrm{T}_{\\rm eff}}}$\n",
       "$\\newcommand{$\\aFe$}{$\\ensuremath${\\mathrm{[\\alpha/M]}}}$\n",
       "$\\newcommand{$\\GBP$}{$\\ensuremath${G_\\mathrm{BP}}}$</div>\n",
       "\n",
       "\n",
       "\n",
       "<div id=\"title\">\n",
       "\n",
       "# The Poor Old Heart of the Milky Way\n",
       "\n",
       "</div>\n",
       "<div id=\"comments\">\n",
       "\n",
       "[![arXiv](https://img.shields.io/badge/arXiv-2209.02722-b31b1b.svg)](https://arxiv.org/abs/2209.02722)<mark>Appeared on: 2022-09-08</mark> - _21 pages, 9 figures, submitted to ApJ_\n",
       "\n",
       "</div>\n",
       "<div id=\"authors\">\n",
       "\n",
       "<mark>Hans-Walter Rix</mark>, et al. -- incl., <mark>Ren\\'e Andrae</mark>, <mark>Morgan Fouesneau</mark>\n",
       "\n",
       "</div>\n",
       "<div id=\"abstract\">\n",
       "\n",
       "**Abstract:** Massive disk galaxies like our Milky Way should host an ancient, metal-poor, and centrally concentrated stellar population. This population reflects the star formation and enrichment in the few most massive progenitor components that coalesced at high redshift to form the\\emph{proto-Galaxy}. While metal-poor stars are known to reside in the inner few kiloparsecs of our Galaxy, current data do not yet provide a comprehensive picture of such a metal-poor \"heart\" of the Milky Way. We use information from Gaia DR3, especially the XP spectra, to construct a sample of 2 million bright ($\\GBP<15.5$mag) giant stars within$30^\\circ$of the Galactic Center with robust$\\MH$estimates,$\\delta$\\MH$\\lesssim 0.1$. For most sample members we can calculate orbits based on Gaia RVS velocities and astrometry. This sample reveals an extensive, ancient, and metal-poor population that includes$\\sim 18,000$stars with$-2.7<$\\MH$<-1.5$, representing a stellar mass of$\\gtrsim 5\\times 10^7$M$_\\odot$. The spatial distribution of these$\\MH<-1.5$stars has a Gaussian extent of only$\\sigma_{\\mathrm{R_{GC}}} \\sim 2.7$kpc around the Galactic center, with most of these orbits being confined to the inner Galaxy.  At high orbital eccentricities, there is clear evidence for\\emph{accreted}halo stars in their pericentral orbit phase.Stars with$\\MH< -2$show no net rotation, whereas those with$\\MH\\sim -1$are rotation dominated.Most of the tightly bound stars show$[\\alpha/\\text{Fe}]$-enhancement and[Al/Fe]--[Mn/Fe]abundance patterns expected for an origin in the more massive portions of the proto-Galaxy.These central, metal-poor stars most likely predate the oldest part of the disk ($\\tau_{\\text{age}}\\approx 12.5$Gyrs), which implies that they formed at$z\\gtrsim 5$, forging the proto-Milky Way.\n",
       "\n",
       "</div>\n",
       "\n",
       "<div id=\"div_fig1\">\n",
       "\n",
       "<img src=\"tmp_2209.02722/./MH_validation.png\" alt=\"Fig1.1\" width=\"50%\"/><img src=\"tmp_2209.02722/./dust_validation.png\" alt=\"Fig1.2\" width=\"50%\"/>\n",
       "\n",
       "**Figure 1. -** Top: Validation of our $\\MH$ estimates from \\textit{Gaia} XP data as function of actual [M/H] from APOGEE.\n",
       "Bottom: (In-)sensitivity of $\\MH$ estimates to extinction, $A_K$. The Y-axis shows the difference between $\\MH$ estimates based on XP spectra and APOGEE as a function of APOGEE's $A_K$. There is no evidence for any systematic trend of $\\Delta$\\MH$$ with $A_K$ to an extinction level that corresponds to $A_V \\approx 3$. (*fig:MH_validation*)\n",
       "\n",
       "</div>\n",
       "<div id=\"div_fig2\">\n",
       "\n",
       "<img src=\"tmp_2209.02722/./LAMOST_MH_validation.png\" alt=\"Fig3.1\" width=\"33%\"/><img src=\"tmp_2209.02722/./GALAH_MH_validation.png\" alt=\"Fig3.2\" width=\"33%\"/><img src=\"tmp_2209.02722/./GSPSpec_MH_validation.png\" alt=\"Fig3.3\" width=\"33%\"/>\n",
       "\n",
       "**Figure 3. -** Cross-validation of our $\\MH$$_{\\text{XP}}$  estimates against three external spectroscopic data sets, LAMOST \\citep[here][]{Xiang2019} , GALAH \\citep{GALAH_DR3} and {\\tt GSP-Spec}\\citep{Recio-Blanco-RVS-abundances}. This cross-validation supports the precision and robustness of our $\\MH$$_{\\text{XP}}$ estimates. (*fig:MH_cross_validation*)\n",
       "\n",
       "</div>\n",
       "<div id=\"div_fig3\">\n",
       "\n",
       "<img src=\"tmp_2209.02722/./Teff_validation.png\" alt=\"Fig2.1\" width=\"50%\"/><img src=\"tmp_2209.02722/./BP_validation.png\" alt=\"Fig2.2\" width=\"50%\"/>\n",
       "\n",
       "**Figure 2. -** Top: Validation of our T$_{\\text{eff}}$(XP) estimates against the T$_{\\text{eff}}$ from SDSS DR17 APOGEE. The XP predictions match the APOGEE values within a median $\\Delta$T$_{eff}=32$ K, and with a mean difference of only 3 K. Bottom: Validation of our $\\MH$ estimates as a function of G$_{\\text{BP}}$ magnitude, with $\\Delta$\\MH$ \\equiv $\\MH$_{\\text{XP}} - $\\MH$_{\\text{APOGEE}}$, showing that the quality of the estimate depends somewhat on G$_{\\text{BP}}$, as expected, but is overall unbiased. (*fig:BP_validation*)\n",
       "\n",
       "</div>"
      ],
      "text/plain": [
       "<IPython.core.display.Markdown object>"
      ]
     },
     "metadata": {},
     "output_type": "display_data"
    },
    {
     "data": {
      "text/markdown": [
       "<div class=\"macros\" style=\"visibility:hidden;\">\n",
       "$\\newcommand{\\ensuremath}{}$\n",
       "$\\newcommand{\\xspace}{}$\n",
       "$\\newcommand{\\object}[1]{\\texttt{#1}}$\n",
       "$\\newcommand{\\farcs}{{.}''}$\n",
       "$\\newcommand{\\farcm}{{.}'}$\n",
       "$\\newcommand{\\arcsec}{''}$\n",
       "$\\newcommand{\\arcmin}{'}$\n",
       "$\\newcommand{\\ion}[2]{#1#2}$\n",
       "$\\newcommand{\\textsc}[1]{\\textrm{#1}}$\n",
       "$\\newcommand{\\hl}[1]{\\textrm{#1}}$\n",
       "$\\newcommand$\n",
       "$\\newcommand{\\lya}{Ly\\alpha }$\n",
       "$\\newcommand{\\lyb}{Ly\\beta }$\n",
       "$\\newcommand{\\lyc}{Ly\\gamma }$\n",
       "$\\newcommand{\\taueff}{\\tau_{\\rm eff} }$\n",
       "$\\newcommand{\\cmpch}{cMpc h^{-1} }$\n",
       "$\\newcommand{\\kms}{km s^{-1}}$\n",
       "$\\newcommand{\\oi}{\\ion{O}{1}}$\n",
       "$\\newcommand{\\heii}{\\ion{He}{2}}$\n",
       "$\\newcommand{\\cii}{[\\ion{C}{2}]}$\n",
       "$\\newcommand{\\civ}{\\ion{C}{4}}$\n",
       "$\\newcommand{\\mgii}{\\ion{Mg}{2}}$\n",
       "$\\newcommand{\\siiv}{\\ion{Si}{4}}$\n",
       "$\\newcommand{\\siii}{\\ion{Si}{2}}$\n",
       "$\\newcommand{\\oiii}{[\\ion{O}{3}]}$\n",
       "$\\newcommand{\\co}{\\rm CO (6-5)}$\n",
       "$\\newcommand{\\het}{heteroscedasticity}$\n",
       "$\\newcommand{\\ha}{H\\alpha }$\n",
       "$\\newcommand{\\hb}{H\\beta }$\n",
       "$\\newcommand{\\msr}{M_\\bullet-\\sigma_\\ast~relation}$</div>\n",
       "\n",
       "<div class=\"macros\" style=\"visibility:hidden;\">\n",
       "$\\newcommand{$\\ensuremath$}{}$\n",
       "$\\newcommand{$\\xspace$}{}$\n",
       "$\\newcommand{$\\object$}[1]{\\texttt{#1}}$\n",
       "$\\newcommand{$\\farcs$}{{.}''}$\n",
       "$\\newcommand{$\\farcm$}{{.}'}$\n",
       "$\\newcommand{$\\arcsec$}{''}$\n",
       "$\\newcommand{$\\arcmin$}{'}$\n",
       "$\\newcommand{$\\ion$}[2]{#1#2}$\n",
       "$\\newcommand{$\\textsc$}[1]{\\textrm{#1}}$\n",
       "$\\newcommand{$\\hl$}[1]{\\textrm{#1}}$\n",
       "$\\newcommand$\n",
       "$\\newcommand{$\\lya$}{Ly\\alpha }$\n",
       "$\\newcommand{$\\lyb$}{Ly\\beta }$\n",
       "$\\newcommand{$\\lyc$}{Ly\\gamma }$\n",
       "$\\newcommand{$\\taueff$}{\\tau_{\\rm eff} }$\n",
       "$\\newcommand{$\\cmpch$}{cMpc h^{-1} }$\n",
       "$\\newcommand{$\\kms$}{km s^{-1}}$\n",
       "$\\newcommand{$\\oi$}{$\\ion${O}{1}}$\n",
       "$\\newcommand{$\\heii$}{$\\ion${He}{2}}$\n",
       "$\\newcommand{$\\cii$}{[$\\ion${C}{2}]}$\n",
       "$\\newcommand{$\\civ$}{$\\ion${C}{4}}$\n",
       "$\\newcommand{$\\mgii$}{$\\ion${Mg}{2}}$\n",
       "$\\newcommand{$\\siiv$}{$\\ion${Si}{4}}$\n",
       "$\\newcommand{$\\siii$}{$\\ion${Si}{2}}$\n",
       "$\\newcommand{$\\oi$ii}{[$\\ion${O}{3}]}$\n",
       "$\\newcommand{$\\co$}{\\rm CO (6-5)}$\n",
       "$\\newcommand{$\\het$}{heteroscedasticity}$\n",
       "$\\newcommand{$\\ha$}{H\\alpha }$\n",
       "$\\newcommand{$\\hb$}{H\\beta }$\n",
       "$\\newcommand{$\\msr$}{M_\\bullet-\\sigma_\\ast~relation}$</div>\n",
       "\n",
       "\n",
       "\n",
       "<div id=\"title\">\n",
       "\n",
       "#  A Generative Model for Quasar Spectra\n",
       "\n",
       "</div>\n",
       "<div id=\"comments\">\n",
       "\n",
       "[![arXiv](https://img.shields.io/badge/arXiv-2209.02725-b31b1b.svg)](https://arxiv.org/abs/2209.02725)<mark>Appeared on: 2022-09-08</mark> - _accepted for publication in ApJ_\n",
       "\n",
       "</div>\n",
       "<div id=\"authors\">\n",
       "\n",
       "Anna--Christina~Eilers, et al. -- incl., <mark>Frederick~B.~Davies</mark>\n",
       "\n",
       "</div>\n",
       "<div id=\"abstract\">\n",
       "\n",
       "**Abstract:** \\noindentWe build a multi-output generative model for quasar spectra and the properties of their black hole engines, based on a Gaussian process latent-variable model.This model treats every quasar as a vector of latent properties such that the spectrum and all physical properties of the quasar are associated with non-linear functions of those latent parameters; the Gaussian process kernel functions define priors on the function space.Our generative model is trained with a justifiable likelihood function that allows us to treat heteroscedastic noise and missing data correctly, which is crucial for all astrophysical applications.It can predict simultaneously unobserved spectral regions, as well as the physical properties of quasars in held-out test data.We apply the model to rest-frame ultraviolet and optical quasar spectra for which precise black hole masses (based on reverberation mapping measurements) are available.Unlike reverberation-mapping studies, which require multi-epoch data, our model predicts black hole masses from single-epoch spectra, even with limited spectral coverage.We demonstrate the capabilities of the model by predicting black hole masses and unobserved spectral regions. We find that we predict black hole masses at close to the best possible accuracy.\n",
       "\n",
       "</div>\n",
       "\n",
       "<div id=\"div_fig1\">\n",
       "\n",
       "<img src=\"tmp_2209.02725/./1to1_0_f_ps_s42_HST_1220_5000_2A_band1fixed_noSNRcut_beta10_new_2kernels_cross_N30_D1889_L2_Q16_SNR_overlap.png\" alt=\"Fig2\" width=\"100%\"/>\n",
       "\n",
       "**Figure 2. -** Cross-validation of the GPLVM with $Q=16$ latent dimensions. Predicted compared to measured black hole masses for all quasars in our data set, colored by the SNR of the single-epoch quasar spectrum. Note that we use only two labels for the quasars here, i.e. $L=2$, namely black hole mass and bolometric luminosity.  (*fig:1to1*)\n",
       "\n",
       "</div>\n",
       "<div id=\"div_fig2\">\n",
       "\n",
       "<img src=\"tmp_2209.02725/./spectra_ps_s42_HST_1220_5000_2A_band1fixed_noSNRcut_beta10_new_2kernels_cross_N30_D1889_L3_Q16_qq4_qq4_new.png\" alt=\"Fig5\" width=\"100%\"/>\n",
       "\n",
       "**Figure 5. -** Spectral dependencies on various quasar properties, i.e. black hole mass (\\textit{top}), bolometric luminosity (\\textit{middle}) and redshift (\\textit{bottom}). The inset panel shows the expected spectral changes due to the Baldwin effect.  (*fig:dependencies*)\n",
       "\n",
       "</div>\n",
       "<div id=\"div_fig3\">\n",
       "\n",
       "<img src=\"tmp_2209.02725/./sample.png\" alt=\"Fig1\" width=\"100%\"/>\n",
       "\n",
       "**Figure 1. -** Black hole masses and bolometric luminosities colored by redshift of 31 quasars in our data sample, which have reliable black hole mass measurements based on the RM technique.  (*fig:parent_sample*)\n",
       "\n",
       "</div>"
      ],
      "text/plain": [
       "<IPython.core.display.Markdown object>"
      ]
     },
     "metadata": {},
     "output_type": "display_data"
    },
    {
     "data": {
      "text/markdown": [
       "<div class=\"macros\" style=\"visibility:hidden;\">\n",
       "$\\newcommand{\\ensuremath}{}$\n",
       "$\\newcommand{\\xspace}{}$\n",
       "$\\newcommand{\\object}[1]{\\texttt{#1}}$\n",
       "$\\newcommand{\\farcs}{{.}''}$\n",
       "$\\newcommand{\\farcm}{{.}'}$\n",
       "$\\newcommand{\\arcsec}{''}$\n",
       "$\\newcommand{\\arcmin}{'}$\n",
       "$\\newcommand{\\ion}[2]{#1#2}$\n",
       "$\\newcommand{\\textsc}[1]{\\textrm{#1}}$\n",
       "$\\newcommand{\\hl}[1]{\\textrm{#1}}$\n",
       "$\\newcommand{\\HII}{H\\small{II}\\normalsize }$\n",
       "$\\newcommand$\n",
       "$\\newcommand$</div>\n",
       "\n",
       "<div class=\"macros\" style=\"visibility:hidden;\">\n",
       "$\\newcommand{$\\ensuremath$}{}$\n",
       "$\\newcommand{$\\xspace$}{}$\n",
       "$\\newcommand{$\\object$}[1]{\\texttt{#1}}$\n",
       "$\\newcommand{$\\farcs$}{{.}''}$\n",
       "$\\newcommand{$\\farcm$}{{.}'}$\n",
       "$\\newcommand{$\\arcsec$}{''}$\n",
       "$\\newcommand{$\\arcmin$}{'}$\n",
       "$\\newcommand{$\\ion$}[2]{#1#2}$\n",
       "$\\newcommand{$\\textsc$}[1]{\\textrm{#1}}$\n",
       "$\\newcommand{$\\hl$}[1]{\\textrm{#1}}$\n",
       "$\\newcommand{$\\HII$}{H\\small{II}\\normalsize }$\n",
       "$\\newcommand$\n",
       "$\\newcommand$</div>\n",
       "\n",
       "\n",
       "\n",
       "<div id=\"title\">\n",
       "\n",
       "# PHANGS: Constraining Star Formation Timescales Using the Spatial Correlations of Star Clusters and Giant Molecular Clouds\n",
       "\n",
       "</div>\n",
       "<div id=\"comments\">\n",
       "\n",
       "[![arXiv](https://img.shields.io/badge/arXiv-2209.02872-b31b1b.svg)](https://arxiv.org/abs/2209.02872)<mark>Appeared on: 2022-09-08</mark> - _15 pages, 11 figures, 4 tables. Accepted to MNRAS Sept 6 2022_\n",
       "\n",
       "</div>\n",
       "<div id=\"authors\">\n",
       "\n",
       "Jordan A. Turner, et al. -- incl., <mark><mark>Janice C. Lee</mark></mark>, <mark><mark>Frank Bigiel</mark></mark>, <mark><mark>Annie Hughes</mark></mark>, <mark><mark>Kathryn Kreckel</mark></mark>, <mark><mark>J. M. Diederik Kruijssen</mark></mark>, <mark><mark>Thomas G. Williams</mark></mark>\n",
       "\n",
       "</div>\n",
       "<div id=\"abstract\">\n",
       "\n",
       "**Abstract:** In the hierarchical view of star formation, giant molecular gas clouds (GMCs) undergo fragmentation to form small-scale structures made up of stars and star clusters. Here we study the connection between young star clusters and cold gas across a range of extragalactic environments by combining the high resolution (1$\\arcsec$) PHANGS--ALMA catalogue of GMCs with the star cluster catalogues from PHANGS--HST. The star clusters are spatially matched with the GMCs across a sample of$11$nearby star-forming galaxies with a range of galactic environments (centres, bars, spiral arms, etc.).  We find that after$4{-}6$Myr the star clusters are no longer associated with any gas clouds. Additionally, we measure the autocorrelation of the star clusters and GMCs as well as their cross-correlation to quantify the fractal nature of hierarchical star formation. Young (${\\leq}10$Myr) star clusters are more strongly autocorrelated on kpc and smaller spatial scales than the$>10$Myr stellar populations, indicating that the hierarchical structure dissolves over time.\n",
       "\n",
       "</div>\n",
       "\n",
       "<div id=\"div_fig1\">\n",
       "\n",
       "<img src=\"tmp_2209.02872/./figures/tpcf_grid_jan15.ps\" alt=\"Fig10\" width=\"100%\"/>\n",
       "\n",
       "**Figure 10. -** Two-point (auto) correlation functions for all star clusters (black), clusters ${\\leq}10$ Myr (blue), clusters ${>}10$ Myr (red), and GMCs (orange). The line at $1 + \\omega(\\theta) = 1$ marks where a uniform, random distribution. Twice the median radius of the GMCs in each galaxy is shown as the vertical grey line. Uncertainties are bootstrap estimates. The thick grey line marks the distance range over which the power-laws are fit; the best-fitting power-law slopes are given in Table \\ref{tab:tpcf_plaw}. Correlation functions which exhibit anti-correlation ($1 + \\omega(\\theta) < 1$) are most likely artifacts of the random sampling i.e., there are more random points than data points for that angular bin. In which case, correlation at these bins can be considered consistent with a random distribution. (*fig:tpcf_grid*)\n",
       "\n",
       "</div>\n",
       "<div id=\"div_fig2\">\n",
       "\n",
       "<img src=\"tmp_2209.02872/./figures/assoc_1566.ps\" alt=\"Fig2\" width=\"100%\"/>\n",
       "\n",
       "**Figure 2. -** Histograms of the star cluster ages sorted according to association with GMCs in NGC 1566: all star clusters (grey), within one GMC radius (blue), between 1 and 2 GMC radii (green), between 2 and 3 GMC radii (orange), and beyond 3 GMC radii which is considered unassociated (fuchsia). Vertical dashed lines mark the median cluster age for each distribution. A $10$ km s$^{-1}$ velocity cutoff is applied to minimize counting clusters which have random alignment with the GMCs. (*fig:assoc_hist*)\n",
       "\n",
       "</div>\n",
       "<div id=\"div_fig3\">\n",
       "\n",
       "<img src=\"tmp_2209.02872/./figures/1nn_grid.ps\" alt=\"Fig7\" width=\"100%\"/>\n",
       "\n",
       "**Figure 7. -** Histograms of the separations between star clusters and the centre of the nearest neighbour GMC for each of the 11 galaxies and an ensemble of all the galaxies. The distribution for the full sample of star clusters is shown in grey, for clusters ${\\leq}10$ Myr is blue, and for clusters ${>}10$ Myr is red. Median separations for each distribution are marked with dashed lines.  Theoretical estimates for the nearest neighbor separations for NGC 0628, NGC 3351, NGC 3627, NGC 4535, and the ensemble are provided by green dotted lines (see text).  The histograms are normalized by the total number of counts and the bin width for each histogram. (*fig:1nn_grid*)\n",
       "\n",
       "</div>"
      ],
      "text/plain": [
       "<IPython.core.display.Markdown object>"
      ]
     },
     "metadata": {},
     "output_type": "display_data"
    }
   ],
   "source": [
    "[display(Markdown(k[1])) for k in documents];"
   ]
  },
  {
   "cell_type": "markdown",
   "id": "873873a4",
   "metadata": {
    "papermill": {
     "duration": 0.009746,
     "end_time": "2022-09-08T05:12:52.949206",
     "exception": false,
     "start_time": "2022-09-08T05:12:52.939460",
     "status": "completed"
    },
    "tags": []
   },
   "source": [
    "# Create HTML index"
   ]
  },
  {
   "cell_type": "code",
   "execution_count": 10,
   "id": "cf665672",
   "metadata": {
    "execution": {
     "iopub.execute_input": "2022-09-08T05:12:52.970219Z",
     "iopub.status.busy": "2022-09-08T05:12:52.969722Z",
     "iopub.status.idle": "2022-09-08T05:12:52.977931Z",
     "shell.execute_reply": "2022-09-08T05:12:52.977306Z"
    },
    "papermill": {
     "duration": 0.020438,
     "end_time": "2022-09-08T05:12:52.979377",
     "exception": false,
     "start_time": "2022-09-08T05:12:52.958939",
     "status": "completed"
    },
    "tags": []
   },
   "outputs": [
    {
     "name": "stdout",
     "output_type": "stream",
     "text": [
      "28  publications in the last 7 days.\n",
      "\t _build/html/2209.02872.md\n",
      "\t _build/html/2209.02725.md\n",
      "\t _build/html/2209.02722.md\n",
      "\t _build/html/2209.02092.md\n",
      "\t _build/html/2209.01125.md\n",
      "\t _build/html/2209.00828.md\n",
      "\t _build/html/2209.00363.md\n",
      "\t _build/html/2208.14927.md\n",
      "\t _build/html/2208.09335.md\n",
      "\t _build/html/2208.08872.md\n",
      "\t _build/html/2204.06393.md\n",
      "\t _build/html/2204.03335.md\n",
      "\t _build/html/2204.03253.md\n",
      "\t _build/html/2204.02998.md\n",
      "\t _build/html/2204.02109.md\n",
      "\t _build/html/2204.02017.md\n",
      "\t _build/html/2204.01824.md\n",
      "\t _build/html/2204.01758.md\n",
      "\t _build/html/2204.01245.md\n",
      "\t _build/html/2204.00793.md\n",
      "\t _build/html/2204.00342.md\n",
      "\t _build/html/2203.16959.md\n",
      "\t _build/html/2203.16856.md\n",
      "\t _build/html/2203.16735.md\n",
      "\t _build/html/2203.16734.md\n",
      "\t _build/html/2203.16504.md\n",
      "\t _build/html/2203.15822.md\n",
      "\t _build/html/2203.15811.md\n"
     ]
    }
   ],
   "source": [
    "from datetime import datetime, timedelta, timezone\n",
    "from glob import glob\n",
    "\n",
    "files = glob('_build/html/*.md')\n",
    "days = 7\n",
    "now = datetime.today()\n",
    "res = []\n",
    "for fk in files:\n",
    "    stat_result = os.stat(fk).st_ctime\n",
    "    modified = datetime.fromtimestamp(stat_result, tz=timezone.utc).replace(tzinfo=None)\n",
    "    delta = now.today() - modified\n",
    "    if delta <= timedelta(days=days):\n",
    "        res.append((delta.seconds, fk))\n",
    "res = [k[1] for k in reversed(sorted(res, key=lambda x:x[1]))]\n",
    "npub = len(res)\n",
    "print(len(res), f\" publications in the last {days:d} days.\")\n",
    "[ print('\\t', k) for k in res ];"
   ]
  },
  {
   "cell_type": "code",
   "execution_count": 11,
   "id": "52ca0208",
   "metadata": {
    "execution": {
     "iopub.execute_input": "2022-09-08T05:12:53.000983Z",
     "iopub.status.busy": "2022-09-08T05:12:53.000404Z",
     "iopub.status.idle": "2022-09-08T05:12:53.006703Z",
     "shell.execute_reply": "2022-09-08T05:12:53.006204Z"
    },
    "papermill": {
     "duration": 0.018858,
     "end_time": "2022-09-08T05:12:53.008265",
     "exception": false,
     "start_time": "2022-09-08T05:12:52.989407",
     "status": "completed"
    },
    "scrolled": false,
    "tags": []
   },
   "outputs": [],
   "source": [
    "def create_carousel(npub=4):\n",
    "    \"\"\" Generate the HTML code for a carousel with `npub` slides \"\"\"\n",
    "    carousel = [\"\"\"<section class=\"carousel\" aria-label=\"Gallery\">\"\"\",\n",
    "                \"\"\"  <ol class=\"carousel__viewport\">\"\"\",\n",
    "    ]\n",
    "    for k in range(1, npub + 1):\n",
    "        prev_ = k - 1\n",
    "        next_ = k + 1\n",
    "        if prev_ <= 0:\n",
    "            prev_ = npub\n",
    "        if next_ > npub:\n",
    "            next_ = 1\n",
    "        text  = f\"\"\"    <li id=\"carousel__slide{k}\" tabindex=\"0\" class=\"carousel__slide\">\\n\"\"\"\n",
    "        text += f\"\"\"       <div class=\"carousel__snapper\">\\n\"\"\"\n",
    "        text += f\"\"\"         <a href=\"#carousel__slide{prev_}\" class=\"carousel__prev\">Go to previous slide</a>\\n\"\"\"\n",
    "        text += f\"\"\"         <a href=\"#carousel__slide{next_}\" class=\"carousel__next\">Go to next slide</a>\\n\"\"\"\n",
    "        text += f\"\"\"         <div id=\"slide{k}_content\" class=\"md_view\" >Content {k}</div>\\n\"\"\"\n",
    "        text += f\"\"\"       </div>\\n\"\"\"\n",
    "        text += f\"\"\"    </li>\"\"\"\n",
    "        carousel.append(text)\n",
    "\n",
    "    carousel.extend([\n",
    "        \"\"\"  </ol>\"\"\",\n",
    "        \"\"\"  <aside class=\"carousel__navigation\">\"\"\",\n",
    "        \"\"\"    <ol class=\"carousel__navigation-list\">\"\"\"])\n",
    "\n",
    "    for k in range(1, npub + 1):\n",
    "        text  = f\"\"\"      <li class=\"carousel__navigation-item\">\\n\"\"\"\n",
    "        text += f\"\"\"        <a href=\"#carousel__slide{k}\" class=\"carousel__navigation-button\">Go to {k}</a>\\n\"\"\"\n",
    "        text += f\"\"\"      </li>\"\"\"\n",
    "        carousel.append(text)\n",
    "    carousel.extend([\"\"\"    </ol>\"\"\", \"\"\"  </aside>\"\"\", \"\"\"</section>\"\"\"])\n",
    "\n",
    "    return '\\n'.join(carousel)"
   ]
  },
  {
   "cell_type": "code",
   "execution_count": 12,
   "id": "a6eac5b6",
   "metadata": {
    "execution": {
     "iopub.execute_input": "2022-09-08T05:12:53.031051Z",
     "iopub.status.busy": "2022-09-08T05:12:53.030773Z",
     "iopub.status.idle": "2022-09-08T05:12:53.037087Z",
     "shell.execute_reply": "2022-09-08T05:12:53.036564Z"
    },
    "papermill": {
     "duration": 0.020533,
     "end_time": "2022-09-08T05:12:53.038789",
     "exception": false,
     "start_time": "2022-09-08T05:12:53.018256",
     "status": "completed"
    },
    "scrolled": false,
    "tags": []
   },
   "outputs": [],
   "source": [
    "carousel = create_carousel(npub)\n",
    "docs = ', '.join(['\"{0:s}\"'.format(k.split('/')[-1]) for k in res])\n",
    "slides = ', '.join([f'\"slide{k}_content\"' for k in range(1, npub + 1)])\n",
    "\n",
    "script = f\"\"\"\n",
    "const docs = [{docs}]\n",
    "\n",
    "const slides = [{slides}]\n",
    "\"\"\" + \"\"\"\n",
    "async function run() {\n",
    "    for (let i = 0; i < docs.length; i++) {\n",
    "        let file = await fetch(docs[i]);\n",
    "        let text = await file.text()\n",
    "        document.getElementById(slides[i]).innerHTML =\n",
    "            marked.parse(text);\n",
    "    }\n",
    "    hljs.highlightAll();\n",
    "}\n",
    "run()\n",
    "\"\"\"\n",
    "\n",
    "page = f\"\"\"<!doctype html>\n",
    "<html lang=\"en\">\n",
    "\n",
    "<head>\n",
    "  <meta charset=\"utf-8\">\n",
    "  <meta name=\"viewport\" content=\"width=device-width, initial-scale=1\">\n",
    "  <!-- Bootstrap CSS -->\n",
    "  <link href=\"https://cdn.jsdelivr.net/npm/bootstrap@5.0.2/dist/css/bootstrap.min.css\" rel=\"stylesheet\"\n",
    "   integrity=\"sha384-EVSTQN3/azprG1Anm3QDgpJLIm9Nao0Yz1ztcQTwFspd3yD65VohhpuuCOmLASjC\" crossorigin=\"anonymous\">\n",
    "  <!-- highlight.js CSS -->\n",
    "  <link rel=\"stylesheet\" href=\"https://cdnjs.cloudflare.com/ajax/libs/highlight.js/11.1.0/styles/default.min.css\">\n",
    "  <!-- Mathjax 3 -->\n",
    "  <script type=\"text/javascript\" id=\"MathJax-config\" src=\"mathjax_config.js\"> </script>\n",
    "  <script type=\"text/javascript\" id=\"MathJax-script\" async \n",
    "    src=\"https://cdn.jsdelivr.net/npm/mathjax@3/es5/tex-mml-chtml.js\">\n",
    "  </script>\n",
    "  <link rel=\"stylesheet\" href=\"index_carousel.css\">\n",
    "  <link rel=\"icon\" type=\"image/x-icon\" href=\"https://www.mpia.de/assets/touch-icon-32x32-a66937bcebc4e8894ebff1f41a366c7c7220fd97a38869ee0f2db65a9f59b6c1.png\">\n",
    "  <title>MPIA Arxiv on deck!</title>\n",
    "</head>\n",
    "\n",
    "<body>\n",
    "  <div id=\"header\"> <img src=\"header_banner.png\" width=\"100%\"></div>\n",
    "  <div id=\"suptitle\"> 7-day archives </div>\n",
    "  <div id=\"info\">\n",
    "    <img src=\"https://pngimg.com/uploads/github/github_PNG58.png\" height=30rem></img>\n",
    "    <a href=https://github.com/mpi-astronomy/arxiv_display style=\"color:black;\">github/mpi-astronomy/arxiv_display</a> \n",
    "  </div>\n",
    "  {carousel:s}\n",
    "</body>\n",
    "\n",
    "<!-- Render Markdown -->\n",
    "\n",
    "<body>\n",
    "  <!-- highlight.js: https://highlightjs.org/download/ -->\n",
    "  <script src=\"https://cdnjs.cloudflare.com/ajax/libs/highlight.js/11.5.0/highlight.min.js\"></script>\n",
    "  <!-- marked.js -->\n",
    "  <script src=\"https://cdn.jsdelivr.net/npm/marked/marked.min.js\"></script>\n",
    "  <script>{script:s}</script>\n",
    "</body>\n",
    "</html>\n",
    "\"\"\"\n",
    "with open(\"_build/html/index_7days.html\", 'w') as fout:\n",
    "    fout.write(page)"
   ]
  },
  {
   "cell_type": "markdown",
   "id": "1cebacbc",
   "metadata": {
    "papermill": {
     "duration": 0.010023,
     "end_time": "2022-09-08T05:12:53.058965",
     "exception": false,
     "start_time": "2022-09-08T05:12:53.048942",
     "status": "completed"
    },
    "tags": []
   },
   "source": [
    "# Debugging papers"
   ]
  },
  {
   "cell_type": "raw",
   "id": "debe7cc6",
   "metadata": {
    "papermill": {
     "duration": 0.036572,
     "end_time": "2022-09-08T05:12:53.105726",
     "exception": false,
     "start_time": "2022-09-08T05:12:53.069154",
     "status": "completed"
    },
    "tags": []
   },
   "source": [
    "raise NotImplementedError(\"Manual Stop\")"
   ]
  },
  {
   "cell_type": "raw",
   "id": "eb169192",
   "metadata": {
    "papermill": {
     "duration": 0.010097,
     "end_time": "2022-09-08T05:12:53.126063",
     "exception": false,
     "start_time": "2022-09-08T05:12:53.115966",
     "status": "completed"
    },
    "scrolled": true,
    "tags": []
   },
   "source": [
    "from IPython.display import display, Markdown\n",
    "from TexSoup import TexSoup\n",
    "import re\n",
    "\n",
    "def bracket_error(source: str):\n",
    "    \"\"\" Find problematic portions of the document \"\"\"\n",
    "    \n",
    "    print(\"len(source)\", len(source))\n",
    "    \n",
    "    # Checking header\n",
    "    begin_doc = next(re.finditer(r'\\\\begin\\{document\\}', doc.source)).span()[1]\n",
    "    header = source[:begin_doc]\n",
    "    text = header + r\"\\n\\end{document}\"\n",
    "\n",
    "    try:\n",
    "        # print(\"Header check... \", end='')\n",
    "        TexSoup(text)\n",
    "        display(Markdown(f\"**[OK]** - Header\"))\n",
    "    except:\n",
    "        raise RuntimeError(\"Error in the header\")\n",
    "        \n",
    "    # Check the text per section until the end.\n",
    "    # Do not stop and try them all.\n",
    "    \n",
    "    problematic_text = []\n",
    "    \n",
    "    sections = ([(0, begin_doc, 'until first section')] + \n",
    "                [(g.span()[0], g.span()[1], g.group()) for g in re.finditer(r'\\\\section\\{.*\\}', source)] +\n",
    "                [(g.span()[0], g.span()[1], g.group()) for g in re.finditer(r'\\\\begin\\{appendix\\}', source)]\n",
    "               )\n",
    "    sections.append([len(source), len(source), 'end'])\n",
    "    \n",
    "    sections = sorted(sections, key=lambda x: x[0])\n",
    "    \n",
    "    prev_pos, prev_name = (0, 'header')\n",
    "    parsed = []\n",
    "    \n",
    "    for span, span_end, name in sections:\n",
    "\n",
    "        if span - prev_pos <= 0:\n",
    "            continue\n",
    "            \n",
    "\n",
    "        text = source[prev_pos:span]\n",
    "        if prev_pos > begin_doc:\n",
    "            text = r\"\\n\\begin{document}\" + text + r\"\\n\\end{document}\"\n",
    "        else:\n",
    "            text = text + r\"\\n\\end{document}\"\n",
    "        try:\n",
    "            #print(f\"{prev_pos}:{prev_name}-->{span}:{name} check... \", end='')\n",
    "            parsed.append(TexSoup(text, tolerance=1))  # allow not ending env\n",
    "            display(Markdown(f\"**[OK]** - *{prev_pos}*:{prev_name} &rarr; *{span}*:{name}\"))\n",
    "            # print(\"ok\")\n",
    "\n",
    "            prev_pos = span\n",
    "            prev_name = name\n",
    "        except:\n",
    "            # print(f\"error between {prev_pos} and {span}\")\n",
    "            display(Markdown(f\"**[ERR]** *{prev_pos}*:{prev_name} &rarr; *{span}*:{name}\"))\n",
    "            problematic_text.append((prev_pos, source[prev_pos:span]))\n",
    "            prev_pos = span\n",
    "            prev_name = name\n",
    "            # raise\n",
    "    return problematic_text, parsed\n",
    "\n",
    "\n",
    "def check_environment(text, offset=0):\n",
    "    \"\"\" Check environment \"\"\"\n",
    "    env = re.compile(r\"\\\\begin\\{(?P<env>.*)\\}(.*)\\\\end\\{(?P=env)\\}\", re.DOTALL)\n",
    "\n",
    "    for match in env.finditer(text):\n",
    "        beg, end = match.span()\n",
    "        beg += offset\n",
    "        end += offset\n",
    "        envname = match.groups()[0]\n",
    "        try:\n",
    "            latex.TexSoup(match.group())\n",
    "        except Exception as e:\n",
    "            display(e)\n",
    "            print(f\"Error in {envname:s} between {beg} and {end}\")\n",
    "            return match.groups()[1], beg, end"
   ]
  },
  {
   "cell_type": "raw",
   "id": "2315e835",
   "metadata": {
    "papermill": {
     "duration": 0.009989,
     "end_time": "2022-09-08T05:12:53.146006",
     "exception": false,
     "start_time": "2022-09-08T05:12:53.136017",
     "status": "completed"
    },
    "scrolled": false,
    "tags": []
   },
   "source": [
    "import importlib\n",
    "importlib.reload(latex)\n",
    "which = \"2204.03253\"\n",
    "paper_id = f'{which:s}'\n",
    "folder = f'tmp_{paper_id:s}'\n",
    "\n",
    "if not os.path.isdir(folder):\n",
    "    folder = retrieve_document_source(f\"{paper_id}\", f'tmp_{paper_id}')\n",
    "\n",
    "try:\n",
    "    doc = latex.LatexDocument(folder, validation=validation)    \n",
    "except AffiliationError as affilerror:\n",
    "    msg = f\"ArXiv:{paper_id:s} is not an MPIA paper... \" + str(affilerror)\n",
    "    print(msg)\n",
    "\n",
    "\n",
    "# Hack because sometimes author parsing does not work well\n",
    "if (len(doc.authors) != len(paper['authors'])):\n",
    "    doc._authors = paper['authors']\n",
    "if (doc.abstract) in (None, ''):\n",
    "    doc._abstract = paper['abstract']\n",
    "\n",
    "doc.comment = get_markdown_badge(paper_id) + \" _\" + paper['comments'] + \"_\"\n",
    "doc.highlight_authors_in_list(hl_list)\n",
    "\n",
    "full_md = doc.generate_markdown_text()"
   ]
  },
  {
   "cell_type": "raw",
   "id": "dd3781db",
   "metadata": {
    "papermill": {
     "duration": 0.009916,
     "end_time": "2022-09-08T05:12:53.165809",
     "exception": false,
     "start_time": "2022-09-08T05:12:53.155893",
     "status": "completed"
    },
    "scrolled": false,
    "tags": []
   },
   "source": [
    "doc"
   ]
  },
  {
   "cell_type": "raw",
   "id": "c6eed834",
   "metadata": {
    "papermill": {
     "duration": 0.009993,
     "end_time": "2022-09-08T05:12:53.185699",
     "exception": false,
     "start_time": "2022-09-08T05:12:53.175706",
     "status": "completed"
    },
    "tags": []
   },
   "source": [
    "# [check_environment(k) for k in bracket_error(doc.source)]\n",
    "_, _, a = latex.get_content_per_section(doc.source, verbose=True)\n",
    "if not a:\n",
    "    print(\"no issues per section\")\n",
    "for ak in a:\n",
    "    r = check_environment(ak[1], offset=ak[0])\n",
    "    print(r[1], r[2])\n",
    "    print(r[0])"
   ]
  },
  {
   "cell_type": "code",
   "execution_count": null,
   "id": "71ce768a",
   "metadata": {
    "papermill": {
     "duration": 0.00997,
     "end_time": "2022-09-08T05:12:53.205611",
     "exception": false,
     "start_time": "2022-09-08T05:12:53.195641",
     "status": "completed"
    },
    "tags": []
   },
   "outputs": [],
   "source": []
  }
 ],
 "metadata": {
  "kernelspec": {
   "display_name": "Python 3.10.6 64-bit",
   "language": "python",
   "name": "python3"
  },
  "language_info": {
   "codemirror_mode": {
    "name": "ipython",
    "version": 3
   },
   "file_extension": ".py",
   "mimetype": "text/x-python",
   "name": "python",
   "nbconvert_exporter": "python",
   "pygments_lexer": "ipython3",
   "version": "3.9.13"
  },
  "papermill": {
   "default_parameters": {},
   "duration": 95.114806,
   "end_time": "2022-09-08T05:12:53.432528",
   "environment_variables": {},
   "exception": null,
   "input_path": "MPIA daily digest.ipynb",
   "output_path": "log.ipynb",
   "parameters": {},
   "start_time": "2022-09-08T05:11:18.317722",
   "version": "2.4.0"
  },
  "vscode": {
   "interpreter": {
    "hash": "e7370f93d1d0cde622a1f8e1c04877d8463912d04d973331ad4851f04de6915a"
   }
  },
  "widgets": {
   "application/vnd.jupyter.widget-state+json": {
    "state": {
     "13430706dac9413b81e5b957d58881ee": {
      "model_module": "@jupyter-widgets/controls",
      "model_module_version": "2.0.0",
      "model_name": "HTMLStyleModel",
      "state": {
       "_model_module": "@jupyter-widgets/controls",
       "_model_module_version": "2.0.0",
       "_model_name": "HTMLStyleModel",
       "_view_count": null,
       "_view_module": "@jupyter-widgets/base",
       "_view_module_version": "2.0.0",
       "_view_name": "StyleView",
       "background": null,
       "description_width": "",
       "font_size": null,
       "text_color": null
      }
     },
     "4484117058094e4fa703b1b903e37f0c": {
      "model_module": "@jupyter-widgets/controls",
      "model_module_version": "2.0.0",
      "model_name": "HTMLModel",
      "state": {
       "_dom_classes": [],
       "_model_module": "@jupyter-widgets/controls",
       "_model_module_version": "2.0.0",
       "_model_name": "HTMLModel",
       "_view_count": null,
       "_view_module": "@jupyter-widgets/controls",
       "_view_module_version": "2.0.0",
       "_view_name": "HTMLView",
       "description": "",
       "description_allow_html": false,
       "layout": "IPY_MODEL_e28bacfea6bd45e59da30871d6d00a68",
       "placeholder": "​",
       "style": "IPY_MODEL_13430706dac9413b81e5b957d58881ee",
       "tabbable": null,
       "tooltip": null,
       "value": "100%"
      }
     },
     "4ea023f5cdca4c0bbc2cea2e8a594d81": {
      "model_module": "@jupyter-widgets/controls",
      "model_module_version": "2.0.0",
      "model_name": "HTMLModel",
      "state": {
       "_dom_classes": [],
       "_model_module": "@jupyter-widgets/controls",
       "_model_module_version": "2.0.0",
       "_model_name": "HTMLModel",
       "_view_count": null,
       "_view_module": "@jupyter-widgets/controls",
       "_view_module_version": "2.0.0",
       "_view_name": "HTMLView",
       "description": "",
       "description_allow_html": false,
       "layout": "IPY_MODEL_9698687128ea48feb998ada032858ca8",
       "placeholder": "​",
       "style": "IPY_MODEL_ef9120e285b94d2ba4d0a85f364c3f7d",
       "tabbable": null,
       "tooltip": null,
       "value": " 20/20 [01:10&lt;00:00,  2.14s/it]"
      }
     },
     "6bc0b695822649edafa4a2e42637ba72": {
      "model_module": "@jupyter-widgets/controls",
      "model_module_version": "2.0.0",
      "model_name": "HBoxModel",
      "state": {
       "_dom_classes": [],
       "_model_module": "@jupyter-widgets/controls",
       "_model_module_version": "2.0.0",
       "_model_name": "HBoxModel",
       "_view_count": null,
       "_view_module": "@jupyter-widgets/controls",
       "_view_module_version": "2.0.0",
       "_view_name": "HBoxView",
       "box_style": "",
       "children": [
        "IPY_MODEL_4484117058094e4fa703b1b903e37f0c",
        "IPY_MODEL_eae7e31bd77d40ddb809ba503677c886",
        "IPY_MODEL_4ea023f5cdca4c0bbc2cea2e8a594d81"
       ],
       "layout": "IPY_MODEL_a5f61d00b53d4682b2583d60b1c36b47",
       "tabbable": null,
       "tooltip": null
      }
     },
     "786a0e05997c47ffa5c7433cc0de8b89": {
      "model_module": "@jupyter-widgets/controls",
      "model_module_version": "2.0.0",
      "model_name": "ProgressStyleModel",
      "state": {
       "_model_module": "@jupyter-widgets/controls",
       "_model_module_version": "2.0.0",
       "_model_name": "ProgressStyleModel",
       "_view_count": null,
       "_view_module": "@jupyter-widgets/base",
       "_view_module_version": "2.0.0",
       "_view_name": "StyleView",
       "bar_color": null,
       "description_width": ""
      }
     },
     "9698687128ea48feb998ada032858ca8": {
      "model_module": "@jupyter-widgets/base",
      "model_module_version": "2.0.0",
      "model_name": "LayoutModel",
      "state": {
       "_model_module": "@jupyter-widgets/base",
       "_model_module_version": "2.0.0",
       "_model_name": "LayoutModel",
       "_view_count": null,
       "_view_module": "@jupyter-widgets/base",
       "_view_module_version": "2.0.0",
       "_view_name": "LayoutView",
       "align_content": null,
       "align_items": null,
       "align_self": null,
       "border_bottom": null,
       "border_left": null,
       "border_right": null,
       "border_top": null,
       "bottom": null,
       "display": null,
       "flex": null,
       "flex_flow": null,
       "grid_area": null,
       "grid_auto_columns": null,
       "grid_auto_flow": null,
       "grid_auto_rows": null,
       "grid_column": null,
       "grid_gap": null,
       "grid_row": null,
       "grid_template_areas": null,
       "grid_template_columns": null,
       "grid_template_rows": null,
       "height": null,
       "justify_content": null,
       "justify_items": null,
       "left": null,
       "margin": null,
       "max_height": null,
       "max_width": null,
       "min_height": null,
       "min_width": null,
       "object_fit": null,
       "object_position": null,
       "order": null,
       "overflow": null,
       "padding": null,
       "right": null,
       "top": null,
       "visibility": null,
       "width": null
      }
     },
     "a5f61d00b53d4682b2583d60b1c36b47": {
      "model_module": "@jupyter-widgets/base",
      "model_module_version": "2.0.0",
      "model_name": "LayoutModel",
      "state": {
       "_model_module": "@jupyter-widgets/base",
       "_model_module_version": "2.0.0",
       "_model_name": "LayoutModel",
       "_view_count": null,
       "_view_module": "@jupyter-widgets/base",
       "_view_module_version": "2.0.0",
       "_view_name": "LayoutView",
       "align_content": null,
       "align_items": null,
       "align_self": null,
       "border_bottom": null,
       "border_left": null,
       "border_right": null,
       "border_top": null,
       "bottom": null,
       "display": null,
       "flex": null,
       "flex_flow": null,
       "grid_area": null,
       "grid_auto_columns": null,
       "grid_auto_flow": null,
       "grid_auto_rows": null,
       "grid_column": null,
       "grid_gap": null,
       "grid_row": null,
       "grid_template_areas": null,
       "grid_template_columns": null,
       "grid_template_rows": null,
       "height": null,
       "justify_content": null,
       "justify_items": null,
       "left": null,
       "margin": null,
       "max_height": null,
       "max_width": null,
       "min_height": null,
       "min_width": null,
       "object_fit": null,
       "object_position": null,
       "order": null,
       "overflow": null,
       "padding": null,
       "right": null,
       "top": null,
       "visibility": null,
       "width": null
      }
     },
     "aebed14558024a2187d43f9a876e83f6": {
      "model_module": "@jupyter-widgets/base",
      "model_module_version": "2.0.0",
      "model_name": "LayoutModel",
      "state": {
       "_model_module": "@jupyter-widgets/base",
       "_model_module_version": "2.0.0",
       "_model_name": "LayoutModel",
       "_view_count": null,
       "_view_module": "@jupyter-widgets/base",
       "_view_module_version": "2.0.0",
       "_view_name": "LayoutView",
       "align_content": null,
       "align_items": null,
       "align_self": null,
       "border_bottom": null,
       "border_left": null,
       "border_right": null,
       "border_top": null,
       "bottom": null,
       "display": null,
       "flex": null,
       "flex_flow": null,
       "grid_area": null,
       "grid_auto_columns": null,
       "grid_auto_flow": null,
       "grid_auto_rows": null,
       "grid_column": null,
       "grid_gap": null,
       "grid_row": null,
       "grid_template_areas": null,
       "grid_template_columns": null,
       "grid_template_rows": null,
       "height": null,
       "justify_content": null,
       "justify_items": null,
       "left": null,
       "margin": null,
       "max_height": null,
       "max_width": null,
       "min_height": null,
       "min_width": null,
       "object_fit": null,
       "object_position": null,
       "order": null,
       "overflow": null,
       "padding": null,
       "right": null,
       "top": null,
       "visibility": null,
       "width": null
      }
     },
     "e28bacfea6bd45e59da30871d6d00a68": {
      "model_module": "@jupyter-widgets/base",
      "model_module_version": "2.0.0",
      "model_name": "LayoutModel",
      "state": {
       "_model_module": "@jupyter-widgets/base",
       "_model_module_version": "2.0.0",
       "_model_name": "LayoutModel",
       "_view_count": null,
       "_view_module": "@jupyter-widgets/base",
       "_view_module_version": "2.0.0",
       "_view_name": "LayoutView",
       "align_content": null,
       "align_items": null,
       "align_self": null,
       "border_bottom": null,
       "border_left": null,
       "border_right": null,
       "border_top": null,
       "bottom": null,
       "display": null,
       "flex": null,
       "flex_flow": null,
       "grid_area": null,
       "grid_auto_columns": null,
       "grid_auto_flow": null,
       "grid_auto_rows": null,
       "grid_column": null,
       "grid_gap": null,
       "grid_row": null,
       "grid_template_areas": null,
       "grid_template_columns": null,
       "grid_template_rows": null,
       "height": null,
       "justify_content": null,
       "justify_items": null,
       "left": null,
       "margin": null,
       "max_height": null,
       "max_width": null,
       "min_height": null,
       "min_width": null,
       "object_fit": null,
       "object_position": null,
       "order": null,
       "overflow": null,
       "padding": null,
       "right": null,
       "top": null,
       "visibility": null,
       "width": null
      }
     },
     "eae7e31bd77d40ddb809ba503677c886": {
      "model_module": "@jupyter-widgets/controls",
      "model_module_version": "2.0.0",
      "model_name": "FloatProgressModel",
      "state": {
       "_dom_classes": [],
       "_model_module": "@jupyter-widgets/controls",
       "_model_module_version": "2.0.0",
       "_model_name": "FloatProgressModel",
       "_view_count": null,
       "_view_module": "@jupyter-widgets/controls",
       "_view_module_version": "2.0.0",
       "_view_name": "ProgressView",
       "bar_style": "success",
       "description": "",
       "description_allow_html": false,
       "layout": "IPY_MODEL_aebed14558024a2187d43f9a876e83f6",
       "max": 20.0,
       "min": 0.0,
       "orientation": "horizontal",
       "style": "IPY_MODEL_786a0e05997c47ffa5c7433cc0de8b89",
       "tabbable": null,
       "tooltip": null,
       "value": 20.0
      }
     },
     "ef9120e285b94d2ba4d0a85f364c3f7d": {
      "model_module": "@jupyter-widgets/controls",
      "model_module_version": "2.0.0",
      "model_name": "HTMLStyleModel",
      "state": {
       "_model_module": "@jupyter-widgets/controls",
       "_model_module_version": "2.0.0",
       "_model_name": "HTMLStyleModel",
       "_view_count": null,
       "_view_module": "@jupyter-widgets/base",
       "_view_module_version": "2.0.0",
       "_view_name": "StyleView",
       "background": null,
       "description_width": "",
       "font_size": null,
       "text_color": null
      }
     }
    },
    "version_major": 2,
    "version_minor": 0
   }
  }
 },
 "nbformat": 4,
 "nbformat_minor": 5
}