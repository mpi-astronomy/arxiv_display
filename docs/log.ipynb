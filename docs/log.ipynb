{
 "cells": [
  {
   "cell_type": "markdown",
   "id": "92bcb855",
   "metadata": {
    "papermill": {
     "duration": 0.00538,
     "end_time": "2023-02-22T04:07:55.419464",
     "exception": false,
     "start_time": "2023-02-22T04:07:55.414084",
     "status": "completed"
    },
    "tags": []
   },
   "source": [
    "# MPIA Arxiv on Deck 2\n",
    "\n",
    "Contains the steps to produce the paper extractions."
   ]
  },
  {
   "cell_type": "code",
   "execution_count": 1,
   "id": "3a0d6e11",
   "metadata": {
    "execution": {
     "iopub.execute_input": "2023-02-22T04:07:55.430049Z",
     "iopub.status.busy": "2023-02-22T04:07:55.429490Z",
     "iopub.status.idle": "2023-02-22T04:07:55.619072Z",
     "shell.execute_reply": "2023-02-22T04:07:55.618337Z"
    },
    "papermill": {
     "duration": 0.19692,
     "end_time": "2023-02-22T04:07:55.621026",
     "exception": false,
     "start_time": "2023-02-22T04:07:55.424106",
     "status": "completed"
    },
    "tags": []
   },
   "outputs": [],
   "source": [
    "# Imports\n",
    "import os\n",
    "from IPython.display import Markdown, display\n",
    "from tqdm.notebook import tqdm\n",
    "import warnings\n",
    "from PIL import Image \n",
    "\n",
    "# requires arxiv_on_deck_2\n",
    "\n",
    "from arxiv_on_deck_2.arxiv2 import (get_new_papers, \n",
    "                                    get_paper_from_identifier,\n",
    "                                    retrieve_document_source, \n",
    "                                    get_markdown_badge)\n",
    "from arxiv_on_deck_2 import (latex, \n",
    "                             mpia,\n",
    "                             highlight_authors_in_list)\n",
    "\n",
    "# Sometimes images are really big\n",
    "Image.MAX_IMAGE_PIXELS = 1000000000 "
   ]
  },
  {
   "cell_type": "code",
   "execution_count": 2,
   "id": "22aa9d44",
   "metadata": {
    "execution": {
     "iopub.execute_input": "2023-02-22T04:07:55.631399Z",
     "iopub.status.busy": "2023-02-22T04:07:55.631121Z",
     "iopub.status.idle": "2023-02-22T04:07:55.636162Z",
     "shell.execute_reply": "2023-02-22T04:07:55.635487Z"
    },
    "papermill": {
     "duration": 0.012346,
     "end_time": "2023-02-22T04:07:55.637827",
     "exception": false,
     "start_time": "2023-02-22T04:07:55.625481",
     "status": "completed"
    },
    "tags": []
   },
   "outputs": [],
   "source": [
    "# Some useful definitions.\n",
    "\n",
    "class AffiliationWarning(UserWarning):\n",
    "    pass\n",
    "\n",
    "class AffiliationError(RuntimeError):\n",
    "    pass\n",
    "\n",
    "def validation(source: str):\n",
    "    \"\"\"Raises error paper during parsing of source file\n",
    "    \n",
    "    Allows checks before parsing TeX code.\n",
    "    \n",
    "    Raises AffiliationWarning\n",
    "    \"\"\"\n",
    "    check = mpia.affiliation_verifications(source, verbose=True)\n",
    "    if check is not True:\n",
    "        raise AffiliationError(\"mpia.affiliation_verifications: \" + check)\n",
    "\n",
    "        \n",
    "warnings.simplefilter('always', AffiliationWarning)"
   ]
  },
  {
   "cell_type": "code",
   "execution_count": 3,
   "id": "14622700",
   "metadata": {
    "execution": {
     "iopub.execute_input": "2023-02-22T04:07:55.648059Z",
     "iopub.status.busy": "2023-02-22T04:07:55.647544Z",
     "iopub.status.idle": "2023-02-22T04:07:55.651506Z",
     "shell.execute_reply": "2023-02-22T04:07:55.650830Z"
    },
    "papermill": {
     "duration": 0.011131,
     "end_time": "2023-02-22T04:07:55.653407",
     "exception": false,
     "start_time": "2023-02-22T04:07:55.642276",
     "status": "completed"
    },
    "tags": []
   },
   "outputs": [],
   "source": [
    "# additional CSS to consider. \n",
    "# TODO: Current into each exported file. \n",
    "#       This should be set once into the webpages directly.\n",
    "#       With only the class/id definitions in the .md files.\n",
    "\n",
    "debug_html = \"\"\"\n",
    "<style>\n",
    "#wrap{ overflow:auto; }\n",
    "#fig1{ background:yellow; width:100%; float:left; padding:5px;  }\n",
    "#fig2{ background:red; width:50%; float:left; clear:left; padding:5px;  }\n",
    "#fig3{ background:green; width:50%; float:left; padding:5px;   }\n",
    ".macros{ background:yellow; visibility:visible;}\n",
    "h1 {margin: 0 0 0 0;}\n",
    "mark {background-color:#fff3b6;}\n",
    "img {object-fit:contain; max-height:250px; display:inline-block; text-align: center;}\n",
    "</style>\n",
    "\"\"\" \n",
    "html = \"\"\"\n",
    "<style>\n",
    "#wrap{ overflow:auto; }\n",
    "#fig1{ width:100%; float:left; padding: 5px;  }\n",
    "#fig2{ width:50%; float:left; clear:left; padding: 5px;  }\n",
    "#fig3{ width:50%; float:left; padding: 5px;  }\n",
    ".macros{ visibility:hidden; height:0px; }\n",
    "h1 {margin: 0em 0 0 0;}\n",
    "mark {background-color:#fff3b6;}\n",
    "img {object-fit:contain; max-height:250px; display:inline-block; text-align: center;}\n",
    "</style>\n",
    "\"\"\""
   ]
  },
  {
   "cell_type": "markdown",
   "id": "14bd6310",
   "metadata": {
    "papermill": {
     "duration": 0.004309,
     "end_time": "2023-02-22T04:07:55.662049",
     "exception": false,
     "start_time": "2023-02-22T04:07:55.657740",
     "status": "completed"
    },
    "tags": []
   },
   "source": [
    "## get list of arxiv paper candidates\n",
    "\n",
    "We use the MPIA mitarbeiter list webpage from mpia.de to get author names\n",
    "We then get all new papers from Arxiv and match authors"
   ]
  },
  {
   "cell_type": "code",
   "execution_count": 4,
   "id": "2645e73a",
   "metadata": {
    "execution": {
     "iopub.execute_input": "2023-02-22T04:07:55.672135Z",
     "iopub.status.busy": "2023-02-22T04:07:55.671614Z",
     "iopub.status.idle": "2023-02-22T04:08:24.214224Z",
     "shell.execute_reply": "2023-02-22T04:08:24.213624Z"
    },
    "papermill": {
     "duration": 28.549608,
     "end_time": "2023-02-22T04:08:24.215864",
     "exception": false,
     "start_time": "2023-02-22T04:07:55.666256",
     "status": "completed"
    },
    "tags": []
   },
   "outputs": [
    {
     "name": "stdout",
     "output_type": "stream",
     "text": [
      "Arxiv has 64 new papers today\n",
      "          19 with possible author matches\n"
     ]
    }
   ],
   "source": [
    "# get list from MPIA website\n",
    "# it automatically filters identified non-scientists :func:`mpia.filter_non_scientists`\n",
    "mpia_authors = mpia.get_mpia_mitarbeiter_list()\n",
    "new_papers = get_new_papers()\n",
    "# add manual references\n",
    "add_paper_refs = []\n",
    "new_papers.extend([get_paper_from_identifier(k) for k in add_paper_refs])\n",
    "\n",
    "# select only papers with matching author names and highlight authors\n",
    "hl_list = [k[0] for k in mpia_authors]\n",
    "\n",
    "candidates = []\n",
    "for paperk in new_papers:\n",
    "    hl_authors = highlight_authors_in_list(paperk['authors'], hl_list)\n",
    "    matches = [(hl, orig) for hl, orig in zip(hl_authors, paperk['authors']) if 'mark' in hl]\n",
    "    paperk['authors'] = hl_authors\n",
    "    if matches:\n",
    "        candidates.append(paperk)\n",
    "print(\"\"\"Arxiv has {0:,d} new papers today\"\"\".format(len(new_papers)))        \n",
    "print(\"\"\"          {0:,d} with possible author matches\"\"\".format(len(candidates)))"
   ]
  },
  {
   "cell_type": "markdown",
   "id": "3543b34a",
   "metadata": {
    "papermill": {
     "duration": 0.004522,
     "end_time": "2023-02-22T04:08:24.225111",
     "exception": false,
     "start_time": "2023-02-22T04:08:24.220589",
     "status": "completed"
    },
    "tags": []
   },
   "source": [
    "# Parse sources and generate relevant outputs\n",
    "\n",
    "From the candidates, we do the following steps:\n",
    "* get their tarball from ArXiv (and extract data)\n",
    "* find the main .tex file: find one with \\documentclass{...} (sometimes it's non trivial)\n",
    "* Check affiliations with :func:`validation`, which uses :func:`mpia.affiliation_verifications`\n",
    "* If passing the affiliations: we parse the .tex source\n",
    "   * inject sub-documents into the main (flatten the main document)\n",
    "   * parse structure, extract information (title, abstract, authors, figures...)\n",
    "   * handles `\\graphicspath` if provided\n",
    "* Generate the .md document."
   ]
  },
  {
   "cell_type": "code",
   "execution_count": 5,
   "id": "9576b79e",
   "metadata": {
    "execution": {
     "iopub.execute_input": "2023-02-22T04:08:24.235832Z",
     "iopub.status.busy": "2023-02-22T04:08:24.235299Z",
     "iopub.status.idle": "2023-02-22T04:09:46.732012Z",
     "shell.execute_reply": "2023-02-22T04:09:46.731400Z"
    },
    "papermill": {
     "duration": 82.503796,
     "end_time": "2023-02-22T04:09:46.733448",
     "exception": false,
     "start_time": "2023-02-22T04:08:24.229652",
     "status": "completed"
    },
    "scrolled": false,
    "tags": []
   },
   "outputs": [
    {
     "data": {
      "application/vnd.jupyter.widget-view+json": {
       "model_id": "1f3e9710e7084c37988e13e7a39cf3f4",
       "version_major": 2,
       "version_minor": 0
      },
      "text/plain": [
       "  0%|          | 0/18 [00:00<?, ?it/s]"
      ]
     },
     "metadata": {},
     "output_type": "display_data"
    },
    {
     "name": "stdout",
     "output_type": "stream",
     "text": [
      "Retrieving document from  https://arxiv.org/e-print/2302.10207\n"
     ]
    },
    {
     "name": "stdout",
     "output_type": "stream",
     "text": [
      "extracting tarball to tmp_2302.10207..."
     ]
    },
    {
     "name": "stdout",
     "output_type": "stream",
     "text": [
      " done.\n",
      "Retrieving document from  https://arxiv.org/e-print/2302.10217\n"
     ]
    },
    {
     "name": "stdout",
     "output_type": "stream",
     "text": [
      "extracting tarball to tmp_2302.10217..."
     ]
    },
    {
     "name": "stdout",
     "output_type": "stream",
     "text": [
      " done.\n",
      "Retrieving document from  https://arxiv.org/e-print/2302.10310\n"
     ]
    },
    {
     "name": "stderr",
     "output_type": "stream",
     "text": [
      "/opt/hostedtoolcache/Python/3.9.16/x64/lib/python3.9/site-packages/IPython/core/interactiveshell.py:3460: LatexWarning: Multiple tex files.\n",
      "\n",
      "  exec(code_obj, self.user_global_ns, self.user_ns)\n",
      "/opt/hostedtoolcache/Python/3.9.16/x64/lib/python3.9/site-packages/IPython/core/interactiveshell.py:3460: LatexWarning: Found documentclass in tmp_2302.10217/aassymbols.tex\n",
      "\n",
      "  exec(code_obj, self.user_global_ns, self.user_ns)\n"
     ]
    },
    {
     "name": "stdout",
     "output_type": "stream",
     "text": [
      "extracting tarball to tmp_2302.10310..."
     ]
    },
    {
     "name": "stdout",
     "output_type": "stream",
     "text": [
      " done.\n",
      "Retrieving document from  https://arxiv.org/e-print/2302.10361\n"
     ]
    },
    {
     "name": "stdout",
     "output_type": "stream",
     "text": [
      "extracting tarball to tmp_2302.10361... done.\n",
      "Retrieving document from  https://arxiv.org/e-print/2302.10466\n"
     ]
    },
    {
     "name": "stdout",
     "output_type": "stream",
     "text": [
      "extracting tarball to tmp_2302.10466..."
     ]
    },
    {
     "name": "stdout",
     "output_type": "stream",
     "text": [
      " done.\n",
      "Retrieving document from  https://arxiv.org/e-print/2302.10504\n"
     ]
    },
    {
     "name": "stdout",
     "output_type": "stream",
     "text": [
      "extracting tarball to tmp_2302.10504..."
     ]
    },
    {
     "name": "stdout",
     "output_type": "stream",
     "text": [
      " done.\n"
     ]
    },
    {
     "name": "stderr",
     "output_type": "stream",
     "text": [
      "/opt/hostedtoolcache/Python/3.9.16/x64/lib/python3.9/site-packages/arxiv_on_deck_2/latex.py:366: LatexWarning: Error parsing the document directly. Trying to recover.\n",
      "  warnings.warn(LatexWarning(f\"Error parsing the document directly. Trying to recover.\"))\n"
     ]
    },
    {
     "name": "stdout",
     "output_type": "stream",
     "text": [
      "✔ → 0:header\n",
      "  ↳ 3389:\\section{Introduction}\n",
      "✔ → 3389:\\section{Introduction}\n",
      "  ↳ 7818:\\section{The Ba-enhanced star sample}\n"
     ]
    },
    {
     "name": "stdout",
     "output_type": "stream",
     "text": [
      "✔ → 7818:\\section{The Ba-enhanced star sample}\n",
      "  ↳ 12744:\\section{Results}\n"
     ]
    },
    {
     "name": "stdout",
     "output_type": "stream",
     "text": [
      "✘ → 12744:\\section{Results}\n",
      "  ↳ 36243:\\section{Discussion}\n"
     ]
    },
    {
     "name": "stdout",
     "output_type": "stream",
     "text": [
      "✔ → 36243:\\section{Discussion}\n",
      "  ↳ 55952:\\section{Conclusion}\n",
      "✔ → 55952:\\section{Conclusion}\n",
      "  ↳ 60073:\\section{kinematically \"thick disk\" Ba-enhanced stars}\n",
      "✔ → 60073:\\section{kinematically \"thick disk\" Ba-enhanced stars}\n",
      "  ↳ 61411:\\section{Elemental abundance trends cross Keil diagram using APOGEE and GALAH}\n",
      "✔ → 61411:\\section{Elemental abundance trends cross Keil diagram using APOGEE and GALAH}\n",
      "  ↳ 62509:end\n"
     ]
    },
    {
     "name": "stderr",
     "output_type": "stream",
     "text": [
      "/tmp/ipykernel_2047/4030337529.py:34: LatexWarning: 2302.10504 did not run properly\n",
      "[Errno 2] No such file or directory: 'gs'\n",
      "  warnings.warn(latex.LatexWarning(f\"{paper_id:s} did not run properly\\n\" +\n"
     ]
    },
    {
     "name": "stdout",
     "output_type": "stream",
     "text": [
      "Retrieving document from  https://arxiv.org/e-print/2302.10507\n"
     ]
    },
    {
     "name": "stderr",
     "output_type": "stream",
     "text": [
      "/tmp/ipykernel_2047/4030337529.py:34: LatexWarning: 2302.10507 did not run properly\n",
      "not a gzip file\n",
      "  warnings.warn(latex.LatexWarning(f\"{paper_id:s} did not run properly\\n\" +\n"
     ]
    },
    {
     "name": "stdout",
     "output_type": "stream",
     "text": [
      "Retrieving document from  https://arxiv.org/e-print/2302.10528\n"
     ]
    },
    {
     "name": "stdout",
     "output_type": "stream",
     "text": [
      "extracting tarball to tmp_2302.10528..."
     ]
    },
    {
     "name": "stdout",
     "output_type": "stream",
     "text": [
      " done.\n"
     ]
    },
    {
     "name": "stderr",
     "output_type": "stream",
     "text": [
      "/opt/hostedtoolcache/Python/3.9.16/x64/lib/python3.9/site-packages/IPython/core/interactiveshell.py:3460: LatexWarning: Multiple tex files.\n",
      "\n",
      "  exec(code_obj, self.user_global_ns, self.user_ns)\n",
      "/opt/hostedtoolcache/Python/3.9.16/x64/lib/python3.9/site-packages/IPython/core/interactiveshell.py:3460: LatexWarning: Found documentclass in tmp_2302.10528/44879corr.tex\n",
      "\n",
      "  exec(code_obj, self.user_global_ns, self.user_ns)\n",
      "/opt/hostedtoolcache/Python/3.9.16/x64/lib/python3.9/site-packages/arxiv_on_deck_2/latex.py:292: LatexWarning: Latex injecting: 'Tab/planets_in_sample' from 'tmp_2302.10528/CARMENES GTO catalogue_for_arXiv/Tab/planets_in_sample.tex'\n",
      "  warnings.warn(LatexWarning(f\"Latex injecting: '{ext}' from '{subsource}'\"))\n",
      "/opt/hostedtoolcache/Python/3.9.16/x64/lib/python3.9/site-packages/arxiv_on_deck_2/latex.py:292: LatexWarning: Latex injecting: 'Tab/planets_in_sample' from 'tmp_2302.10528/Tab/planets_in_sample.tex'\n",
      "  warnings.warn(LatexWarning(f\"Latex injecting: '{ext}' from '{subsource}'\"))\n"
     ]
    },
    {
     "name": "stdout",
     "output_type": "stream",
     "text": [
      "Retrieving document from  https://arxiv.org/e-print/2302.10533\n"
     ]
    },
    {
     "name": "stdout",
     "output_type": "stream",
     "text": [
      "extracting tarball to tmp_2302.10533..."
     ]
    },
    {
     "name": "stdout",
     "output_type": "stream",
     "text": [
      " done.\n",
      "Retrieving document from  https://arxiv.org/e-print/2302.10535\n"
     ]
    },
    {
     "name": "stderr",
     "output_type": "stream",
     "text": [
      "/opt/hostedtoolcache/Python/3.9.16/x64/lib/python3.9/site-packages/IPython/core/interactiveshell.py:3460: LatexWarning: Multiple tex files.\n",
      "\n",
      "  exec(code_obj, self.user_global_ns, self.user_ns)\n",
      "/opt/hostedtoolcache/Python/3.9.16/x64/lib/python3.9/site-packages/IPython/core/interactiveshell.py:3460: LatexWarning: Found documentclass in tmp_2302.10533/aassymbols.tex\n",
      "\n",
      "  exec(code_obj, self.user_global_ns, self.user_ns)\n"
     ]
    },
    {
     "name": "stdout",
     "output_type": "stream",
     "text": [
      "extracting tarball to tmp_2302.10535..."
     ]
    },
    {
     "name": "stdout",
     "output_type": "stream",
     "text": [
      " done.\n",
      "Retrieving document from  https://arxiv.org/e-print/2302.10543\n"
     ]
    },
    {
     "name": "stdout",
     "output_type": "stream",
     "text": [
      "extracting tarball to tmp_2302.10543..."
     ]
    },
    {
     "name": "stdout",
     "output_type": "stream",
     "text": [
      " done.\n",
      "Retrieving document from  https://arxiv.org/e-print/2302.10545\n"
     ]
    },
    {
     "name": "stdout",
     "output_type": "stream",
     "text": [
      "extracting tarball to tmp_2302.10545..."
     ]
    },
    {
     "name": "stdout",
     "output_type": "stream",
     "text": [
      " done.\n",
      "Retrieving document from  https://arxiv.org/e-print/2302.10585\n"
     ]
    },
    {
     "name": "stdout",
     "output_type": "stream",
     "text": [
      "extracting tarball to tmp_2302.10585..."
     ]
    },
    {
     "name": "stdout",
     "output_type": "stream",
     "text": [
      " done.\n",
      "Retrieving document from  https://arxiv.org/e-print/2302.10596\n"
     ]
    },
    {
     "name": "stdout",
     "output_type": "stream",
     "text": [
      "extracting tarball to tmp_2302.10596..."
     ]
    },
    {
     "name": "stdout",
     "output_type": "stream",
     "text": [
      " done.\n",
      "Retrieving document from  https://arxiv.org/e-print/2302.10621\n"
     ]
    },
    {
     "name": "stdout",
     "output_type": "stream",
     "text": [
      "extracting tarball to tmp_2302.10621..."
     ]
    },
    {
     "name": "stdout",
     "output_type": "stream",
     "text": [
      " done.\n",
      "Retrieving document from  https://arxiv.org/e-print/2302.10664\n"
     ]
    },
    {
     "name": "stdout",
     "output_type": "stream",
     "text": [
      "extracting tarball to tmp_2302.10664..."
     ]
    },
    {
     "name": "stdout",
     "output_type": "stream",
     "text": [
      " done.\n",
      "Retrieving document from  https://arxiv.org/e-print/2302.10714\n"
     ]
    },
    {
     "name": "stderr",
     "output_type": "stream",
     "text": [
      "/opt/hostedtoolcache/Python/3.9.16/x64/lib/python3.9/site-packages/IPython/core/interactiveshell.py:3460: LatexWarning: Multiple tex files.\n",
      "\n",
      "  exec(code_obj, self.user_global_ns, self.user_ns)\n",
      "/opt/hostedtoolcache/Python/3.9.16/x64/lib/python3.9/site-packages/IPython/core/interactiveshell.py:3460: LatexWarning: Found documentclass in tmp_2302.10664/TOI-1055.tex\n",
      "\n",
      "  exec(code_obj, self.user_global_ns, self.user_ns)\n",
      "/opt/hostedtoolcache/Python/3.9.16/x64/lib/python3.9/site-packages/arxiv_on_deck_2/latex.py:292: LatexWarning: Latex injecting: 'TOI1055_RVlongtable' from 'tmp_2302.10664/TOI1055_RVlongtable.tex'\n",
      "  warnings.warn(LatexWarning(f\"Latex injecting: '{ext}' from '{subsource}'\"))\n"
     ]
    },
    {
     "name": "stdout",
     "output_type": "stream",
     "text": [
      "extracting tarball to tmp_2302.10714..."
     ]
    },
    {
     "name": "stdout",
     "output_type": "stream",
     "text": [
      " done.\n",
      "Retrieving document from  https://arxiv.org/e-print/2302.10838\n"
     ]
    },
    {
     "name": "stderr",
     "output_type": "stream",
     "text": [
      "/opt/hostedtoolcache/Python/3.9.16/x64/lib/python3.9/site-packages/IPython/core/interactiveshell.py:3460: LatexWarning: Multiple tex files.\n",
      "\n",
      "  exec(code_obj, self.user_global_ns, self.user_ns)\n",
      "/opt/hostedtoolcache/Python/3.9.16/x64/lib/python3.9/site-packages/IPython/core/interactiveshell.py:3460: LatexWarning: Found documentclass in tmp_2302.10714/sn-article.tex\n",
      "\n",
      "  exec(code_obj, self.user_global_ns, self.user_ns)\n"
     ]
    },
    {
     "name": "stdout",
     "output_type": "stream",
     "text": [
      "extracting tarball to tmp_2302.10838..."
     ]
    },
    {
     "name": "stdout",
     "output_type": "stream",
     "text": [
      " done.\n"
     ]
    },
    {
     "name": "stderr",
     "output_type": "stream",
     "text": [
      "/tmp/ipykernel_2047/4030337529.py:34: LatexWarning: 2302.10838 did not run properly\n",
      "sequence item 1: expected str instance, TexNode found\n",
      "  warnings.warn(latex.LatexWarning(f\"{paper_id:s} did not run properly\\n\" +\n"
     ]
    }
   ],
   "source": [
    "documents = []\n",
    "failed = []\n",
    "for paper in tqdm(candidates[:-1]):\n",
    "    paper_id = paper['identifier'].lower().replace('arxiv:', '')\n",
    "    \n",
    "    folder = f'tmp_{paper_id}'\n",
    "\n",
    "    try:\n",
    "        if not os.path.isdir(folder):\n",
    "            folder = retrieve_document_source(f\"{paper_id}\", f'tmp_{paper_id}')\n",
    "        \n",
    "        try:\n",
    "            doc = latex.LatexDocument(folder, validation=validation)    \n",
    "        except AffiliationError as affilerror:\n",
    "            msg = f\"ArXiv:{paper_id:s} is not an MPIA paper... \" + str(affilerror)\n",
    "            failed.append((paper, \"affiliation error: \" + str(affilerror) ))\n",
    "            continue\n",
    "        \n",
    "        # Hack because sometimes author parsing does not work well\n",
    "        if (len(doc.authors) != len(paper['authors'])):\n",
    "            doc._authors = paper['authors']\n",
    "        if (doc.abstract) in (None, ''):\n",
    "            doc._abstract = paper['abstract']\n",
    "            \n",
    "        doc.comment = (get_markdown_badge(paper_id) + \n",
    "                       \"<mark>Appeared on: \" + paper['date'] + \"</mark> - \" +\n",
    "                       \"_\" + paper['comments'] + \"_\")\n",
    "        doc.highlight_authors_in_list(hl_list)\n",
    "\n",
    "        full_md = doc.generate_markdown_text()\n",
    "        \n",
    "        documents.append((paper_id, full_md))\n",
    "    except Exception as e:\n",
    "        warnings.warn(latex.LatexWarning(f\"{paper_id:s} did not run properly\\n\" +\n",
    "                                         str(e)\n",
    "                                        ))\n",
    "        failed.append((paper, \"latex error \" + str(e)))"
   ]
  },
  {
   "cell_type": "markdown",
   "id": "2505a25c",
   "metadata": {
    "papermill": {
     "duration": 0.007005,
     "end_time": "2023-02-22T04:09:46.748385",
     "exception": false,
     "start_time": "2023-02-22T04:09:46.741380",
     "status": "completed"
    },
    "tags": []
   },
   "source": [
    "### Export the logs\n",
    "\n",
    "Throughout, we also keep track of the logs per paper. see `logs-{today date}.md` "
   ]
  },
  {
   "cell_type": "code",
   "execution_count": 6,
   "id": "d733828a",
   "metadata": {
    "execution": {
     "iopub.execute_input": "2023-02-22T04:09:46.764114Z",
     "iopub.status.busy": "2023-02-22T04:09:46.763569Z",
     "iopub.status.idle": "2023-02-22T04:09:46.793344Z",
     "shell.execute_reply": "2023-02-22T04:09:46.792688Z"
    },
    "papermill": {
     "duration": 0.045217,
     "end_time": "2023-02-22T04:09:46.800658",
     "exception": false,
     "start_time": "2023-02-22T04:09:46.755441",
     "status": "completed"
    },
    "scrolled": false,
    "tags": []
   },
   "outputs": [
    {
     "data": {
      "text/markdown": [
       "## Successful papers"
      ],
      "text/plain": [
       "<IPython.core.display.Markdown object>"
      ]
     },
     "metadata": {},
     "output_type": "display_data"
    },
    {
     "data": {
      "text/markdown": [
       "\n",
       "|||\n",
       "|---:|:---|\n",
       "| [![arXiv](https://img.shields.io/badge/arXiv-arXiv:2302.10528-b31b1b.svg)](https://arxiv.org/abs/arXiv:2302.10528) | **The CARMENES search for exoplanets around M dwarfs. Guaranteed time  observations Data Release 1 (2016-2020)**  |\n",
       "|| I. Ribas, et al. -- incl., <mark>J. I. González Hernández</mark>, <mark>Th. Henning</mark>, <mark>E. Herrero</mark> |\n",
       "|*Appeared on*| *2023-02-22*|\n",
       "|*Comments*| *Published in A&A (this https URL), 25 pages, 12 figures, Tables 1 and 2 only available online*|\n",
       "|**Abstract**| The CARMENES instrument was conceived to deliver high-accuracy radial velocity (RV) measurements with long-term stability to search for temperate rocky planets around a sample of nearby cool stars. The broad wavelength coverage was designed to provide a range of stellar activity indicators to assess the nature of potential RV signals and to provide valuable spectral information to help characterise the stellar targets. The CARMENES Data Release 1 (DR1) makes public all observations obtained during the CARMENES guaranteed time observations, which ran from 2016 to 2020 and collected 19,633 spectra for a sample of 362 targets. The CARMENES survey target selection was aimed at minimising biases, and about 70% of all known M dwarfs within 10 pc and accessible from Calar Alto were included. The data were pipeline-processed, and high-level data products, including 18,642 precise RVs for 345 targets, were derived. Time series data of spectroscopic activity indicators were also obtained. We discuss the characteristics of the CARMENES data, the statistical properties of the stellar sample, and the spectroscopic measurements. We show examples of the use of CARMENES data and provide a contextual view of the exoplanet population revealed by the survey, including 33 new planets, 17 re-analysed planets, and 26 confirmed planets from transiting candidate follow-up. A subsample of 238 targets was used to derive updated planet occurrence rates, yielding an overall average of 1.44+/-0.20 planets with 1 M_Earth < M sin i < 1000 M_Earth and 1 d < P_orb < 1000 d per star, and indicating that nearly every M dwarf hosts at least one planet. CARMENES data have proven very useful for identifying and measuring planetary companions as well as for additional applications, such as the determination of stellar properties, the characterisation of stellar activity, and the study of exoplanet atmospheres. |"
      ],
      "text/plain": [
       "[arXiv:2302.10528] The CARMENES search for exoplanets around M dwarfs. Guaranteed time  observations Data Release 1 (2016-2020)\n",
       "\tI. Ribas, et al. -- incl., <mark>J. I. González Hernández</mark>, <mark>Th. Henning</mark>, <mark>E. Herrero</mark>"
      ]
     },
     "metadata": {},
     "output_type": "display_data"
    },
    {
     "data": {
      "text/markdown": [
       "## Failed papers"
      ],
      "text/plain": [
       "<IPython.core.display.Markdown object>"
      ]
     },
     "metadata": {},
     "output_type": "display_data"
    },
    {
     "data": {
      "text/markdown": [
       "\n",
       "|||\n",
       "|---:|:---|\n",
       "| [![arXiv](https://img.shields.io/badge/arXiv-arXiv:2302.10207-b31b1b.svg)](https://arxiv.org/abs/arXiv:2302.10207) | **Two New White Dwarfs With Variable Magnetic Balmer Emission Lines**  |\n",
       "|| Joshua S. Reding, et al. -- incl., <mark>J. J. Hermes</mark>, <mark>R. J. Hegedus</mark> |\n",
       "|*Appeared on*| *2023-02-22*|\n",
       "|*Comments*| *7 pages, 3 figures. Submitted to MNRAS Jan. 5, referee report recommending publication received Feb. 1, resubmitted Feb. 20*|\n",
       "|**Abstract**| We report the discovery of two apparently isolated stellar remnants that exhibit rotationally modulated magnetic Balmer emission, adding to the emerging DAHe class of white dwarf stars. While the previously discovered members of this class show Zeeman-split triplet emission features corresponding to single magnetic field strengths, these two new objects exhibit significant fluctuations in their apparent magnetic field strengths with variability phase. The Zeeman-split hydrogen emission lines in LP $705{-}64$ broaden from $9.4$ MG to $22.2$ MG over an apparent spin period of $72.629$ minutes. Similarly, WD J$143019.29{-}562358.33$ varies from $5.8$ MG to $8.9$ MG over its apparent $86.394$-minute rotation period. This brings the DAHe class of white dwarfs to at least five objects, all with effective temperatures within $500$ K of $8000$ K and masses ranging from $0.65{-}0.83\\,M_{\\odot}$. |\n",
       "|<p style=\"color:green\"> **ERROR** </p>| <p style=\"color:green\">affiliation error: mpia.affiliation_verifications: 'Heidelberg' keyword not found.</p> |"
      ],
      "text/plain": [
       "<IPython.core.display.Markdown object>"
      ]
     },
     "metadata": {},
     "output_type": "display_data"
    },
    {
     "data": {
      "text/markdown": [
       "\n",
       "|||\n",
       "|---:|:---|\n",
       "| [![arXiv](https://img.shields.io/badge/arXiv-arXiv:2302.10217-b31b1b.svg)](https://arxiv.org/abs/arXiv:2302.10217) | **The JWST Advanced Deep Extragalactic Survey: Discovery of an Extreme  Galaxy Overdensity at $z = 5.4$ with JWST/NIRCam in GOODS-S**  |\n",
       "|| <mark>Jakob M. Helton</mark>, et al. |\n",
       "|*Appeared on*| *2023-02-22*|\n",
       "|*Comments*| *Submitted to ApJ; main text has 14 pages, 6 figures and 1 table; appendix has 1 page, 2 figures, and 2 tables*|\n",
       "|**Abstract**| We report the discovery of an extreme galaxy overdensity at $z = 5.4$ in the GOODS-S field using JWST/NIRCam imaging from JADES and JEMS alongside JWST/NIRCam wide field slitless spectroscopy from FRESCO. We identified potential members of the overdensity using HST+JWST photometry spanning $\\lambda = 0.4-5.0\\ \\mu\\mathrm{m}$. These data provide accurate and well-constrained photometric redshifts down to $m \\approx 29-30\\,\\mathrm{mag}$. We subsequently confirmed $N = 96$ potential members of the overdensity using JWST slitless spectroscopy over $\\lambda = 3.9-5.0\\ \\mu\\mathrm{m}$ through a targeted line search for $\\mathrm{H} \\alpha$ around the best-fit photometric redshift. We verified that $N = 53$ galaxies reside in the field at $z = 5.2-5.5$ while $N = 43$ galaxies reside in an overdensity at $z = 5.4$ around $\\sim 10-12$ times that of a random volume. Stellar populations for these galaxies were inferred from the photometry and used to construct the star-forming main sequence, where protocluster members appeared more massive and exhibited earlier star formation (and thus older stellar populations) when compared to their field galaxy counterparts. We estimate the total halo mass of this large-scale structure to be $13.0 \\lesssim \\mathrm{log}_{10} \\left( M_{\\mathrm{halo}}/M_{\\odot} \\right) \\lesssim 13.5$ using an empirical stellar mass to halo mass relation, although this is likely an underestimate as a result of incompleteness. Our discovery demonstrates the power of JWST at constraining dark matter halo assembly and galaxy formation at very early cosmic times. |\n",
       "|<p style=\"color:green\"> **ERROR** </p>| <p style=\"color:green\">affiliation error: mpia.affiliation_verifications: 'Heidelberg' keyword not found.</p> |"
      ],
      "text/plain": [
       "<IPython.core.display.Markdown object>"
      ]
     },
     "metadata": {},
     "output_type": "display_data"
    },
    {
     "data": {
      "text/markdown": [
       "\n",
       "|||\n",
       "|---:|:---|\n",
       "| [![arXiv](https://img.shields.io/badge/arXiv-arXiv:2302.10310-b31b1b.svg)](https://arxiv.org/abs/arXiv:2302.10310) | **Doppler Constraints on Planetary Companions to Nearby Sun-like Stars: An  Archival Radial Velocity Survey of Southern Targets for Proposed NASA Direct  Imaging Missions**  |\n",
       "|| Katherine Laliotis, et al. -- incl., <mark>Zhexing Li</mark>, <mark>Jinglin Zhao</mark>, <mark>Lee Rosenthal</mark> |\n",
       "|*Appeared on*| *2023-02-22*|\n",
       "|*Comments*| *58 pages, 11 figures, 4 figure sets to be included in the online journal Accepted for publication in AJ*|\n",
       "|**Abstract**| Directly imaging temperate rocky planets orbiting nearby, Sun-like stars with a 6-m-class IR/O/UV space telescope, recently dubbed the Habitable Worlds Observatory, is a high priority goal of the Astro2020 Decadal Survey. To prepare for future direct imaging surveys, the list of potential targets should be thoroughly vetted to maximize efficiency and scientific yield. We present an analysis of archival radial velocity data for southern stars from the NASA/NSF Extreme Precision Radial Velocity Working Group's list of high priority target stars for future direct imaging missions (drawn from the HabEx, LUVOIR, and Starshade studies). For each star, we constrain the region of companion mass and period parameter space we are already sensitive to based on the observational baseline, sampling, and precision of the archival RV data. Additionally, for some of the targets we report new estimates of magnetic activity cycle periods, rotation periods, improved orbital parameters for previously known exoplanets, and new candidate planet signals that require further vetting or observations to confirm. Our results show that for many of these stars we are not yet sensitive to even Saturn-mass planets in the habitable zone, let alone smaller planets, highlighting the need for future EPRV vetting efforts before the launch of a direct imaging mission. We present evidence that the candidate temperate super-Earth exoplanet HD 85512 b is most likely due to the star's rotation, and report an RV acceleration for delta Pav which supports the existence of a distant giant planet previously inferred from astrometry. |\n",
       "|<p style=\"color:green\"> **ERROR** </p>| <p style=\"color:green\">affiliation error: mpia.affiliation_verifications: 'Heidelberg' keyword not found.</p> |"
      ],
      "text/plain": [
       "<IPython.core.display.Markdown object>"
      ]
     },
     "metadata": {},
     "output_type": "display_data"
    },
    {
     "data": {
      "text/markdown": [
       "\n",
       "|||\n",
       "|---:|:---|\n",
       "| [![arXiv](https://img.shields.io/badge/arXiv-arXiv:2302.10361-b31b1b.svg)](https://arxiv.org/abs/arXiv:2302.10361) | **Ambipolar Heating of Magnetars**  |\n",
       "|| Sachiko Tsuruta, et al. -- incl., <mark>Andrew C. Liebmann</mark> |\n",
       "|*Appeared on*| *2023-02-22*|\n",
       "|*Comments*| *12 pages, 4 figures, 1 table. Accepted by the Astrophysical Journal on February 9, 2023*|\n",
       "|**Abstract**| Magnetars, neutron stars thought to be with ultra-strong magnetic fields of $10^{14 - 15}$ G, are observed to be much hotter than ordinary pulsars with $\\sim 10^{12}$ G, and additional heating sources are required. One possibility is heating by the ambipolar diffusion in the stellar core. This scenario is examined by calculating the models using the relativistic thermal evolutionary code without making the isothermal approximation. The results show that this scenario can be consistent with most of the observed magnetar temperature data. |\n",
       "|<p style=\"color:green\"> **ERROR** </p>| <p style=\"color:green\">affiliation error: mpia.affiliation_verifications: 'Heidelberg' keyword not found.</p> |"
      ],
      "text/plain": [
       "<IPython.core.display.Markdown object>"
      ]
     },
     "metadata": {},
     "output_type": "display_data"
    },
    {
     "data": {
      "text/markdown": [
       "\n",
       "|||\n",
       "|---:|:---|\n",
       "| [![arXiv](https://img.shields.io/badge/arXiv-arXiv:2302.10466-b31b1b.svg)](https://arxiv.org/abs/arXiv:2302.10466) | **Multiple stellar populations at less evolved stages-III: a possible  helium spread in NGC 2210**  |\n",
       "|| <mark>Chengyuan Li</mark>, et al. |\n",
       "|*Appeared on*| *2023-02-22*|\n",
       "|*Comments*| *15 pages, 13 figures, ApJ accepted*|\n",
       "|**Abstract**| Helium variations are common features of globular clusters (GCs) with multiple stellar populations. All the formation scenarios predict that secondary population stars are enhanced in helium but the exact helium content depends on the polluters. Therefore, searching for helium variations in a star cluster is a straightforward method to understand if it hosts multiple populations or not, and constrain the formation scenario. Although this topic has been well explored for Galactic GCs, GCs beyond the Milky Way are challenging to study because of their large distances. This work studies the helium distribution of GK-type main sequence dwarfs in an old ($\\sim$12.5 Gyr) GC in the Large Magellanic Cloud, NGC 2210, using the deep photometry observed by the {\\sl Hubble Space Telescope}. We compare the observed morphology of the MS with that of synthetic populations with different helium distributions. We confirm that NGC 2210 dwarfs have a helium spread, with an internal dispersion of $\\delta{Y}\\sim$0.06--0.07. The fraction of helium enriched stars depends on the $\\delta{Y}$ distribution. A continuous $\\delta{Y}$ distribution would indicate that more than half of MS stars are helium enriched ($\\sim$55\\%). If the $\\delta{Y}$ distribution is discrete (bimodal), a fraction of $\\sim$30\\% enriched stars is able to explain the observed morphology of the MS. We also find that the He-enriched population stars are more centrally concentrated than He-normal stars. |\n",
       "|<p style=\"color:green\"> **ERROR** </p>| <p style=\"color:green\">affiliation error: mpia.affiliation_verifications: 'Heidelberg' keyword not found.</p> |"
      ],
      "text/plain": [
       "<IPython.core.display.Markdown object>"
      ]
     },
     "metadata": {},
     "output_type": "display_data"
    },
    {
     "data": {
      "text/markdown": [
       "\n",
       "|||\n",
       "|---:|:---|\n",
       "| [![arXiv](https://img.shields.io/badge/arXiv-arXiv:2302.10533-b31b1b.svg)](https://arxiv.org/abs/arXiv:2302.10533) | **Discovery of high frequency Quasi-periodic Oscillations in SGR 150228213**  |\n",
       "|| Run-Chao Chen, et al. -- incl., <mark>Da-Bin Lin</mark>, <mark>En-Wei Liang</mark> |\n",
       "|*Appeared on*| *2023-02-22*|\n",
       "|*Comments*| *10 pages, 3 tables, 8 figures*|\n",
       "|**Abstract**| Quasi-periodic Oscillations (QPOs) from magnetars bursts are rare, some high-confidence detections are mostly from magnetar Gaint Flares. Following a systematically research of bursts data from Fermi/GBM, here we report a 4.98$\\sigma$ ($p$-value is 6.51e-7) detection of high frequency QPO $\\sim$ 80 Hz in SGR 150228213. This burst has initially attributed to 4U 0142+61 by Fermi/GBM, however, it shows a different spectral features with other magnetar bursts, including burts from 4U 0142+61. More interestingly, we find the location of SGR 150228213 almost coincides with the periodic Fast Radio Burst source FRB 180916. Finally, we discuss the possible physical origins of this burst. |\n",
       "|<p style=\"color:green\"> **ERROR** </p>| <p style=\"color:green\">affiliation error: mpia.affiliation_verifications: 'Heidelberg' keyword not found.</p> |"
      ],
      "text/plain": [
       "<IPython.core.display.Markdown object>"
      ]
     },
     "metadata": {},
     "output_type": "display_data"
    },
    {
     "data": {
      "text/markdown": [
       "\n",
       "|||\n",
       "|---:|:---|\n",
       "| [![arXiv](https://img.shields.io/badge/arXiv-arXiv:2302.10535-b31b1b.svg)](https://arxiv.org/abs/arXiv:2302.10535) | **Multi-instrument analysis of 67P/Churyumov-Gerasimenko coma particles:  COPS-GIADA data fusion**  |\n",
       "|| Boris Pestoni, et al. -- incl., <mark>Daniel R. Müller</mark> |\n",
       "|*Appeared on*| *2023-02-22*|\n",
       "|*Comments*| *6 pages, 3 figures, accepted for publication in A&A*|\n",
       "|**Abstract**| The European Space Agency's Rosetta mission to comet 67P/Churyumov-Gerasimenko has offered scientists the opportunity to study a comet in unprecedented detail. Four instruments of the Rosetta orbiter, namely, the Micro-Imaging Dust Analysis System (MIDAS), the Grain Impact Analyzer and Dust Accumulator (GIADA), the COmetary Secondary Ion Mass Analyser (COSIMA), and the Rosetta Orbiter Spectrometer for Ion and Neutral Analysis (ROSINA) have provided information on cometary dust particles. Cross-instrument comparisons are crucial to characterize cometary dust particles beyond the capabilities of individual sensors, as they are sensitive to different dust components. We present the first comparison between detections of the ROSINA COmet Pressure Sensor (COPS) and GIADA. These two instruments are complementary as the former is sensitive solely to volatiles of icy particles, while the latter measured the dust particle as a whole, including refractories and condensed (semi)volatiles. Our goal is to correlate the particles detected by COPS and GIADA and to assess whether they belong to a common group. We statistically analyzed the in situ data of COPS and GIADA by calculating Pearson correlation coefficients. Among the several types of particles detected by GIADA, we find that COPS particles are significantly correlated solely with GIADA fluffy agglomerates (Pearson correlation coefficient of 0.55 and p-value of $4.6\\cdot 10^{-3}$). This suggests that fluffy particles are composed of both refractories and volatiles. COPS volatile volumes, which may be represented by equivalent spheres with a diameter in the range between 0.06 $\\mu$m and 0.8 $\\mu$m, are similar to the sizes of the fractal particle's subunits identified by MIDAS (i.e., 0.05-0.18 $\\mu$m). |\n",
       "|<p style=\"color:green\"> **ERROR** </p>| <p style=\"color:green\">affiliation error: mpia.affiliation_verifications: 'Heidelberg' keyword not found.</p> |"
      ],
      "text/plain": [
       "<IPython.core.display.Markdown object>"
      ]
     },
     "metadata": {},
     "output_type": "display_data"
    },
    {
     "data": {
      "text/markdown": [
       "\n",
       "|||\n",
       "|---:|:---|\n",
       "| [![arXiv](https://img.shields.io/badge/arXiv-arXiv:2302.10543-b31b1b.svg)](https://arxiv.org/abs/arXiv:2302.10543) | **B-fields And dust in interstelLar fiLAments using Dust POLarization  (BALLAD-POL): I. The massive filament G11.11-0.12 observed by SOFIA/HAWC+**  |\n",
       "|| Nguyen Bich Ngoc, et al. -- incl., <mark>Gia Bao Truong Le</mark> |\n",
       "|*Appeared on*| *2023-02-22*|\n",
       "|*Comments*| **|\n",
       "|**Abstract**| We report the first measurement of polarized thermal dust emission toward the entire early and massive Infrared Dark Cloud G11.11$-$0.12 taken by the polarimeter SOFIA/HAWC+ at 214 $\\mu m$ wavelength. Magnetic fields (B-fields) obtained from the polarized emission tend to be perpendicular to the filament's spine. We produce a map of B-field strengths for the center region of the filament. The strengths vary in the range of 100-600 $\\mu\\rm{G}$ and are strongest along the filament's spine. The central region is sub-Alfv\\'enic and mostly sub-critical meaning that B-fields dominate over turbulence and are strong enough to resist gravitational collapse. The alignment and properties of dust grains are studied in the filament using the RAdiative Torque (RAT) theory. We find the decrease of polarization degree $P$ with emission intensity $I$, i.e., depolarization effect, of the form $P\\propto I^{-\\alpha}$ with $\\alpha\\sim$0.8-0.9, implying a significant loss of grain alignment in the filament's spine. The depolarization can be explained by the decrease in RAT alignment efficiency toward the denser regions with lower dust temperature, and cannot be explained by the B-field tangling. We study the effect of the enhanced magnetic relaxation by embedded iron inclusions on RAT alignment and find that the high polarization fraction $P\\sim$20-30\\% in the outer layer of the filament is potential evidence for the enhanced RAT alignment by magnetic relaxation. This is the first time this effect is evaluated in a filament. Based on the polarization fraction and RAT alignment theory, we find evidence for grain growth in the filament. |\n",
       "|<p style=\"color:green\"> **ERROR** </p>| <p style=\"color:green\">affiliation error: mpia.affiliation_verifications: 'Heidelberg' keyword not found.</p> |"
      ],
      "text/plain": [
       "<IPython.core.display.Markdown object>"
      ]
     },
     "metadata": {},
     "output_type": "display_data"
    },
    {
     "data": {
      "text/markdown": [
       "\n",
       "|||\n",
       "|---:|:---|\n",
       "| [![arXiv](https://img.shields.io/badge/arXiv-arXiv:2302.10545-b31b1b.svg)](https://arxiv.org/abs/arXiv:2302.10545) | **Does Turbulence along the Coronal Current Sheet Drive Ion Cyclotron  Waves?**  |\n",
       "|| Daniele Telloni, et al. -- incl., <mark>Lingling Zhao</mark>, <mark>Alessandro Liberatore</mark>, <mark>Petr Heinzel</mark> |\n",
       "|*Appeared on*| *2023-02-22*|\n",
       "|*Comments*| *12 pages*|\n",
       "|**Abstract**| Evidence for the presence of ion cyclotron waves, driven by turbulence, at the boundaries of the current sheet is reported in this paper. By exploiting the full potential of the joint observations performed by Parker Solar Probe and the Metis coronagraph on board Solar Orbiter, local measurements of the solar wind can be linked with the large-scale structures of the solar corona. The results suggest that the dynamics of the current sheet layers generates turbulence, which in turn creates a sufficiently strong temperature anisotropy to make the solar-wind plasma unstable to anisotropy-driven instabilities such as the Alfv\\'en ion-cyclotron, mirror-mode, and firehose instabilities. The study of the polarization state of high-frequency magnetic fluctuations reveals that ion cyclotron waves are indeed present along the current sheet, thus linking the magnetic topology of the remotely imaged coronal source regions with the wave bursts observed in situ. The present results may allow improvement of state-of-the-art models based on the ion cyclotron mechanism, providing new insights into the processes involved in coronal heating. |\n",
       "|<p style=\"color:green\"> **ERROR** </p>| <p style=\"color:green\">affiliation error: mpia.affiliation_verifications: 'Heidelberg' keyword not found.</p> |"
      ],
      "text/plain": [
       "<IPython.core.display.Markdown object>"
      ]
     },
     "metadata": {},
     "output_type": "display_data"
    },
    {
     "data": {
      "text/markdown": [
       "\n",
       "|||\n",
       "|---:|:---|\n",
       "| [![arXiv](https://img.shields.io/badge/arXiv-arXiv:2302.10585-b31b1b.svg)](https://arxiv.org/abs/arXiv:2302.10585) | **Probing the baryon mass fraction in IGM and its redshift evolution with  fast radio bursts using Bayesian inference method**  |\n",
       "|| <mark>Hai-Nan Lin</mark>, Rui Zou |\n",
       "|*Appeared on*| *2023-02-22*|\n",
       "|*Comments*| **|\n",
       "|**Abstract**| We investigate the fraction of baryon mass in intergalactic medium ($f_\\mathrm{IGM}$), using 18 well-localized FRBs in the redshift range $z\\in (0.0039,0.66)$. We construct a five-parameter Bayesian inference model, with the probability distributions of dispersion measures (DM) of IGM and host galaxy properly taken into account. To check the possible redshift evolution, we parameterize $f_\\mathrm{IGM}$ as a mildly evolving function of redshift, $f_\\mathrm{IGM}=f_\\mathrm{IGM,0}[1+\\alpha z/(1+z)]$. By simultaneously constraining five parameters, we get $f_\\mathrm{IGM,0} = 0.92^{+0.06}_{-0.12}$ and $\\alpha = 0.49^{+0.59}_{-0.47}$, and the median value of DM of host galaxy is $\\exp(\\mu)=72.49^{+33.31}_{-25.62}~{\\rm pc ~ cm ^ {-3}}$. By fixing two parameters which can be constrained independently with other observations, we obtain $\\alpha =0.11^{+0.24}_{-0.27}$ in the three-parameter fit, which is consistent with zero within $1\\sigma$ uncertainty. Monte Carlo simulations show that even 300 FRBs are not enough to tightly constrain five parameters simultaneously. This is mainly caused by the correlation between parameters. Only if two parameters are fixed, 100 FRBs are necessary to achieve unbiased constraints on the remaining parameters. |\n",
       "|<p style=\"color:green\"> **ERROR** </p>| <p style=\"color:green\">affiliation error: mpia.affiliation_verifications: 'Heidelberg' keyword not found.</p> |"
      ],
      "text/plain": [
       "<IPython.core.display.Markdown object>"
      ]
     },
     "metadata": {},
     "output_type": "display_data"
    },
    {
     "data": {
      "text/markdown": [
       "\n",
       "|||\n",
       "|---:|:---|\n",
       "| [![arXiv](https://img.shields.io/badge/arXiv-arXiv:2302.10596-b31b1b.svg)](https://arxiv.org/abs/arXiv:2302.10596) | **Solar coronal magnetic field measurements using spectral lines available  in Hinode/EIS observations: Strong and weak field techniques and temperature  diagnostics**  |\n",
       "|| Yajie Chen, et al. -- incl., <mark>Wenxian Li</mark> |\n",
       "|*Appeared on*| *2023-02-22*|\n",
       "|*Comments*| *Accepted for publication in MNRAS*|\n",
       "|**Abstract**| Recently, it has been proposed that the magnetic-field-induced transition (MIT) in Fe X can be used to measure coronal magnetic field strengths. Several techniques, the direct line ratio technique and the weak and strong magnetic field techniques, are developed to apply the MIT theory to spectroscopic observations taken by EUV Imaging Spectrometer (EIS) onboard Hinode. However, the suitability of coronal magnetic field measurements based on the weak and strong magnetic field techniques has not been evaluated. Besides, temperature diagnostics is also important for measuring coronal magnetic field based on the MIT theory, but how to determine the accurate formation temperature of the Fe X lines from EIS observations still needs investigation. In this study, we synthesized emissions of several spectral lines from a 3D radiation magnetohydrodynamic model of a solar active region, and then derived magnetic field strengths using different methods. We first compared the magnetic field strengths derived from the weak and strong magnetic field techniques to the values in the model. Our study suggests that both weak and strong magnetic field techniques underestimate the coronal magnetic field strength. Then we developed two methods to calculate the formation temperature of the Fe X lines. One is based on differential emission measure analyses, and the other is deriving temperature from the Fe IX and Fe XI line pairs. However, neither of the two methods can provide temperature determination for accurate coronal magnetic field measurements as those derived from the Fe X 174/175 and 184/345 {\\AA} line ratios. More efforts are still needed for accurate coronal magnetic field measurements using EIS observations. |\n",
       "|<p style=\"color:green\"> **ERROR** </p>| <p style=\"color:green\">affiliation error: mpia.affiliation_verifications: 'Heidelberg' keyword not found.</p> |"
      ],
      "text/plain": [
       "<IPython.core.display.Markdown object>"
      ]
     },
     "metadata": {},
     "output_type": "display_data"
    },
    {
     "data": {
      "text/markdown": [
       "\n",
       "|||\n",
       "|---:|:---|\n",
       "| [![arXiv](https://img.shields.io/badge/arXiv-arXiv:2302.10621-b31b1b.svg)](https://arxiv.org/abs/arXiv:2302.10621) | **The Dark Side of Using Dark Sirens to Constrain the Hubble-Lemaître  Constant**  |\n",
       "|| <mark>Liang-Gui Zhu</mark>, Xian Chen |\n",
       "|*Appeared on*| *2023-02-22*|\n",
       "|*Comments*| *12 pages, 9 figures. submitted to ApJ, and revised version after the first referee report*|\n",
       "|**Abstract**| Dark sirens, i.e., gravitational-wave (GW) sources without electromagnetic counterparts, are new probes of the expansion of the universe. The efficacy of this method relies on correctly localizing the host galaxies. However, recent theoretical studies have shown that astrophysical environments could mislead the spatial localization by distorting the GW signals. It is unclear whether and to what degree the incorrect spatial localizations of dark sirens would impair the accuracy of the measurement of the cosmological parameters. To address this issue, we consider the future observations of dark sirens using the Cosmic Explore and the Einstein Telescope, and we design a Bayesian framework to access the precision of measuring the Hubble-Lema\\^itre constant $H_0$. Interestingly, we find that the precision is not compromised when the number of well-localized dark sirens is significantly below $300$, even in the extreme scenario that all the dark sirens are localized incorrectly. As the number exceeds $300$, the incorrect spatial localizations start to produce statistically noticeable effects, such as a slow convergence of the posterior distribution of $H_0$. We propose several tests that can be used in future observations to verify the spatial localizations of dark sirens. Simulations of these tests suggest that incorrect spatial localizations will dominate a systematic error of $H_0$ if as much as $10\\%$ of a sample of $300$ well-localized dark sirens are affected by their environments. Our results have important implications for the long-term goal of measuring $H_0$ to a precision of $<1\\%$ using dark sirens. |\n",
       "|<p style=\"color:green\"> **ERROR** </p>| <p style=\"color:green\">affiliation error: mpia.affiliation_verifications: 'Heidelberg' keyword not found.</p> |"
      ],
      "text/plain": [
       "<IPython.core.display.Markdown object>"
      ]
     },
     "metadata": {},
     "output_type": "display_data"
    },
    {
     "data": {
      "text/markdown": [
       "\n",
       "|||\n",
       "|---:|:---|\n",
       "| [![arXiv](https://img.shields.io/badge/arXiv-arXiv:2302.10664-b31b1b.svg)](https://arxiv.org/abs/arXiv:2302.10664) | **TOI-1055 b: a neptunian planet characterised with HARPS, TESS, and  CHEOPS**  |\n",
       "|| A. Bonfanti, et al. -- incl., <mark>M. B. Davies</mark>, <mark>M. Güdel</mark> |\n",
       "|*Appeared on*| *2023-02-22*|\n",
       "|*Comments*| *13 pages, 6 figures, 5 tables. Accepted for publication in A&A*|\n",
       "|**Abstract**| TOI-1055 is a Sun-like star known to host a transiting Neptune-sized planet on a 17.5-day orbit (TOI-1055 b). Radial velocity (RV) analyses carried out by two independent groups using almost the same set of HARPS spectra provide planetary masses that differ by $\\sim$2$\\sigma$. Our aim was to solve the inconsistency in the published planetary masses by significantly extending the set of HARPS RV measurements and employing a new analysis tool able to account and correct for stellar activity. Our further aim was to improve the precision on the planetary radius by observing two transits of the planet with the CHEOPS space telescope. We fitted a skew normal function to each cross correlation function extracted from the HARPS spectra to obtain RV measurements and hyperparameters to be used for the detrending. We evaluated the correlation changes of the hyperparameters along the RV time series using the breakpoint technique, further performing a joint photometric and RV analysis using a Markov chain Monte Carlo scheme simultaneously detrending the light curves and the RV time series. We firmly detected the Keplerian signal of TOI-1055 b, deriving a planetary mass of $M_b=20.4_{-2.5}^{+2.6}\\,M_{\\oplus}$ ($\\sim$12%). This value agrees with one of the two estimates in the literature, but it is significantly more precise. Thanks to TESS transit light curve combined with the exquisite CHEOPS photometry, we also derived a planetary radius of $R_b=3.490_{-0.064}^{+0.070}\\,R_{\\oplus}$ ($\\sim$1.9%). Our mass and radius measurements imply a mean density of $\\rho_b=2.65_{-0.35}^{+0.37}$ g cm$^{-3}$ ($\\sim$14%). We further inferred the planetary structure and found that TOI-1055 b very likely hosts a substantial gas envelope with a mass of $0.41^{+0.34}_{-0.20}$ M$_\\oplus$ and a thickness of $1.05^{+0.30}_{-0.29}$ R$_\\oplus$. |\n",
       "|<p style=\"color:green\"> **ERROR** </p>| <p style=\"color:green\">affiliation error: mpia.affiliation_verifications: 'Heidelberg' keyword not found.</p> |"
      ],
      "text/plain": [
       "<IPython.core.display.Markdown object>"
      ]
     },
     "metadata": {},
     "output_type": "display_data"
    },
    {
     "data": {
      "text/markdown": [
       "\n",
       "|||\n",
       "|---:|:---|\n",
       "| [![arXiv](https://img.shields.io/badge/arXiv-arXiv:2302.10714-b31b1b.svg)](https://arxiv.org/abs/arXiv:2302.10714) | **In-orbit performance of LE onboard Insight-HXMT in the first 5 years**  |\n",
       "|| <mark>Xiaobo Li</mark>, et al. -- incl., <mark>Liming Song</mark>, <mark>Wei Li</mark>, <mark>Shuang-Nan Zhang</mark>, <mark>Haisheng Zhao</mark>, <mark>Maoshun Li</mark>, <mark>Ziliang Zhang</mark>, <mark>Xiaofan Zhao</mark> |\n",
       "|*Appeared on*| *2023-02-22*|\n",
       "|*Comments*| *20 pages, 10 figures, submitted*|\n",
       "|**Abstract**| Purpose: The Low-Energy X-ray telescope (LE) is a main instrument of the Insight-HXMT mission and consists of 96 Swept Charge Devices (SCD) covering the 1-10 keV energy band. The energy gain and resolution are continuously calibrated by analysing Cassiopeia A (Cas A) and blank sky data, while the effective areas are also calibrated with the observations of the Crab Nebula. In this paper, we present the evolution of the in-orbit performances of LE in the first 5 years since launch. Methods: The Insight-HXMT Data Analysis Software package (HXMTDAS) is utilized to extract the spectra of Cas A, blank sky, and Crab Nebula using different Good Time Interval (GTI) selections. We fit a model with a power-law continuum and several Gaussian lines to different ranges of Cas A and blank sky spectra to get peak energies of their lines through xspec. After updating the energy gain calibration in CALibration DataBase (CALDB), we rerun the Cas A data to obtain the energy resolution. An empirical function is used to modify the simulated effective areas so that the background-subtracted spectrum of the Crab Nebula can best match the standard model of the Crab Nebula. Results: The energy gain, resolution, and effective areas are calibrated every month. The corresponding calibration results are duly updated in CALDB, which can be downloaded and used for the analysis of Insight-HXMT data. Simultaneous observations with NuSTAR and NICER can also be used to verify our derived results. Conclusion: LE is a well calibrated X-ray telescope working in 1-10 keV band. The uncertainty of LE gain is less than 20 eV in 2-9 keV band and the uncertainty of LE resolution is less than 15eV. The systematic errors of LE, compared to the model of the Crab Nebula, are lower than 1.5% in 1-10 keV. |\n",
       "|<p style=\"color:green\"> **ERROR** </p>| <p style=\"color:green\">affiliation error: mpia.affiliation_verifications: 'Heidelberg' keyword not found.</p> |"
      ],
      "text/plain": [
       "<IPython.core.display.Markdown object>"
      ]
     },
     "metadata": {},
     "output_type": "display_data"
    },
    {
     "data": {
      "text/markdown": [
       "\n",
       "|||\n",
       "|---:|:---|\n",
       "| [![arXiv](https://img.shields.io/badge/arXiv-arXiv:2302.10504-b31b1b.svg)](https://arxiv.org/abs/arXiv:2302.10504) | **Ba-enhanced dwarf and subgiant stars in the LAMOST Galactic surveys**  |\n",
       "|| <mark>Meng Zhang</mark>, et al. -- incl., <mark>Hua-Wei Zhang</mark>, <mark>Xiao-Wei Liu</mark> |\n",
       "|*Appeared on*| *2023-02-22*|\n",
       "|*Comments*| *20 pages, 17 figures. Accepted for publication in ApJ*|\n",
       "|**Abstract**| Ba-enhanced stars are interesting probes of stellar astrophysics and Galactic formation history. In this work, we investigate the chemistry and kinematics for a large sample of Ba-enhanced ([Ba/Fe]$>$1.0) dwarf and subgiant stars with $5000 < T_{\\rm eff }< 6700$\\,K from LAMOST. We find that both stellar internal evolution process and external mass exchange due to binary evolution are responsible for the origins of the Ba-enhancement of our sample stars. About one third of them exhibit C and N enhancement and ultraviolet brightness excess, indicating they are products of binary evolution. The remaining Ba-enhanced stars with normal C and N abundances are mostly warm stars with $T_{\\rm eff} > 6000$\\,K. They are likely consequences of stellar internal elemental transport processes, but they show very different elemental patterns to the hotter Am/Fm stars. Our results reveal a substantially lack of high-[$\\alpha$/Fe] Ba-enhanced stars in the [Fe/H]--[$\\alpha$/Fe] plane, which we dub as a {\\em high-$\\alpha$ desert}. We suggest it is due to a lower efficiency for producing Ba-enhanced stars by low-mass AGB progenitors in binary systems. Our results call for detailed modellings for these Ba-enhanced stellar peculiars, in the context of both stellar internal elemental transport and external mass accretion. |\n",
       "|<p style=\"color:red\"> **ERROR** </p>| <p style=\"color:red\">latex error [Errno 2] No such file or directory: 'gs'</p> |"
      ],
      "text/plain": [
       "<IPython.core.display.Markdown object>"
      ]
     },
     "metadata": {},
     "output_type": "display_data"
    },
    {
     "data": {
      "text/markdown": [
       "\n",
       "|||\n",
       "|---:|:---|\n",
       "| [![arXiv](https://img.shields.io/badge/arXiv-arXiv:2302.10507-b31b1b.svg)](https://arxiv.org/abs/arXiv:2302.10507) | **Fe and Mg Isotope compositions Indicate a Hybrid Mantle Source for Young  Chang'E 5 Mare Basalts**  |\n",
       "|| Jiang Y., et al. -- incl., <mark>Liao S. Y.</mark>, <mark>Li P. Y.</mark> |\n",
       "|*Appeared on*| *2023-02-22*|\n",
       "|*Comments*| *This paper has already been Accepted by APJL,including 22 pages,9 figures,and 6 tables*|\n",
       "|**Abstract**| The Chang'E 5 (CE-5) samples represent the youngest mare basalt ever known and provide an access into the late lunar evolution. Recent studies have revealed that CE-5 basalts are the most evolved lunar basalt, yet controversy remains over the nature of their mantle sources. Here we combine Fe and Mg isotope analyses with a comprehensive study of petrology and mineralogy on two CE-5 basalt clasts. These two clasts have a very low Mg# (~29) and show similar Mg isotope compositions with Apollo low-Ti mare basalts as well as intermediate TiO2 and Fe isotope compositions between low-Ti and high-Ti mare basalts. Fractional crystallization or evaporation during impact cannot produce such geochemical signatures which otherwise indicate a hybrid mantle source that incorporates both early- and late-stage lunar magma ocean (LMO) cumulates. Such a hybrid mantle source would be also compatible with the KREEP-like REE pattern of CE-5 basalts. Overall, our new Fe-Mg isotope data highlight the role of late LMO cumulate for the generation of young lunar volcanism. |\n",
       "|<p style=\"color:red\"> **ERROR** </p>| <p style=\"color:red\">latex error not a gzip file</p> |"
      ],
      "text/plain": [
       "<IPython.core.display.Markdown object>"
      ]
     },
     "metadata": {},
     "output_type": "display_data"
    },
    {
     "data": {
      "text/markdown": [
       "\n",
       "|||\n",
       "|---:|:---|\n",
       "| [![arXiv](https://img.shields.io/badge/arXiv-arXiv:2302.10838-b31b1b.svg)](https://arxiv.org/abs/arXiv:2302.10838) | **A 2:1 Mean-Motion Resonance Super-Jovian pair revealed by TESS, FEROS,  and HARPS**  |\n",
       "|| Vladimir Bozhilov, et al. -- incl., <mark>Melissa J. Hobson</mark>, <mark>Thomas Henning</mark>, <mark>Jan Eberhardt</mark>, <mark>Pascal Torres-Miranda</mark>, <mark>Trifon Trifonov</mark> |\n",
       "|*Appeared on*| *2023-02-22*|\n",
       "|*Comments*| *Accepted for publication in ApJL. arXiv admin note: text overlap with arXiv:2302.05694*|\n",
       "|**Abstract**| We report the discovery of a super-Jovian 2:1 mean-motion resonance (MMR) pair around the G-type star TIC 279401253, whose dynamical architecture is a prospective benchmark for planet formation and orbital evolution analysis. The system was discovered thanks to a single transit event recorded by the Transiting Exoplanet Survey Satellite (TESS) mission, which pointed to a Jupiter-sized companion with poorly constrained orbital parameters. We began ground-based precise radial velocity (RV) monitoring with HARPS and FEROS within the Warm gIaNts with tEss (WINE) survey to constrain the transiting body's period, mass, and eccentricity. The RV measurements revealed not one but two massive planets with periods of 76.80$_{-0.06}^{+0.06}$ days and 155.3$_{-0.7}^{+0.7}$ days, respectively. A combined analysis of transit and RV data yields an inner transiting planet with a mass of 6.14$_{-0.42}^{+0.39}$ M$_{\\rm Jup}$ and a radius of 1.00$_{-0.04}^{+0.04}$ R$_{\\rm Jup}$, and an outer planet with a minimum mass of 8.02$_{-0.18}^{+0.18}$ M$_{\\rm Jup}$, indicating a massive giant pair. A detailed dynamical analysis of the system reveals that the planets are locked in a strong first-order, eccentricity-type 2:1 MMR, which makes TIC 279401253 one of the rare examples of truly resonant architectures supporting disk-induced planet migration. The bright host star, $V \\approx$ 11.9 mag, the relatively short orbital period ($P_{\\rm b}$ = 76.80$_{-0.06}^{+0.06}$ d) and pronounced eccentricity (e =0.448$_{-0.029}^{+0.028}$) make the transiting planet a valuable target for atmospheric investigation with the James Webb Space Telescope (JWST) and ground-based extremely-large telescopes. |\n",
       "|<p style=\"color:red\"> **ERROR** </p>| <p style=\"color:red\">latex error sequence item 1: expected str instance, TexNode found</p> |"
      ],
      "text/plain": [
       "<IPython.core.display.Markdown object>"
      ]
     },
     "metadata": {},
     "output_type": "display_data"
    }
   ],
   "source": [
    "import datetime\n",
    "today = str(datetime.date.today())\n",
    "logfile = f\"_build/html/logs/log-{today}.md\"\n",
    "\n",
    "\n",
    "with open(logfile, 'w') as logs:\n",
    "    # Success\n",
    "    logs.write(f'# Arxiv on Deck 2: Logs - {today}\\n\\n')\n",
    "    logs.write(\"\"\"* Arxiv had {0:,d} new papers\\n\"\"\".format(len(new_papers)))\n",
    "    logs.write(\"\"\"    * {0:,d} with possible author matches\\n\\n\"\"\".format(len(candidates)))\n",
    "    logs.write(\"## Sucessful papers\\n\\n\")\n",
    "    display(Markdown(\"## Successful papers\"))\n",
    "    success = [k[0] for k in documents]\n",
    "    for candid in candidates:\n",
    "        if candid['identifier'].split(':')[-1] in success:\n",
    "            display(candid)\n",
    "            logs.write(candid.generate_markdown_text() + '\\n\\n')\n",
    "\n",
    "    ## failed\n",
    "    logs.write(\"## Failed papers\\n\\n\")\n",
    "    display(Markdown(\"## Failed papers\"))\n",
    "    failed = sorted(failed, key=lambda x: x[1])\n",
    "    current_reason = \"\"\n",
    "    for paper, reason in failed:\n",
    "        if 'affiliation' in reason:\n",
    "            color = 'green'\n",
    "        else:\n",
    "            color = 'red'\n",
    "        data = Markdown(\n",
    "                paper.generate_markdown_text() + \n",
    "                f'\\n|<p style=\"color:{color:s}\"> **ERROR** </p>| <p style=\"color:{color:s}\">{reason:s}</p> |'\n",
    "               )\n",
    "        if reason != current_reason:\n",
    "            logs.write(f'### {reason:s} \\n\\n')\n",
    "            current_reason = reason\n",
    "        logs.write(data.data + '\\n\\n')\n",
    "        \n",
    "        # only display here the important errors (all in logs)\n",
    "        # if color in ('red',):\n",
    "        display(data)"
   ]
  },
  {
   "cell_type": "markdown",
   "id": "472d20ee",
   "metadata": {
    "papermill": {
     "duration": 0.012422,
     "end_time": "2023-02-22T04:09:46.822690",
     "exception": false,
     "start_time": "2023-02-22T04:09:46.810268",
     "status": "completed"
    },
    "tags": []
   },
   "source": [
    "## Export documents\n",
    "\n",
    "We now write the .md files and export relevant images"
   ]
  },
  {
   "cell_type": "code",
   "execution_count": 7,
   "id": "d426aed9",
   "metadata": {
    "execution": {
     "iopub.execute_input": "2023-02-22T04:09:46.843262Z",
     "iopub.status.busy": "2023-02-22T04:09:46.842689Z",
     "iopub.status.idle": "2023-02-22T04:09:46.850346Z",
     "shell.execute_reply": "2023-02-22T04:09:46.849752Z"
    },
    "papermill": {
     "duration": 0.019438,
     "end_time": "2023-02-22T04:09:46.851716",
     "exception": false,
     "start_time": "2023-02-22T04:09:46.832278",
     "status": "completed"
    },
    "tags": []
   },
   "outputs": [],
   "source": [
    "def export_markdown_summary(md: str, md_fname:str, directory: str):\n",
    "    \"\"\"Export MD document and associated relevant images\"\"\"\n",
    "    import os\n",
    "    import shutil\n",
    "    import re\n",
    "\n",
    "    if (os.path.exists(directory) and not os.path.isdir(directory)):\n",
    "        raise RuntimeError(f\"a non-directory file exists with name {directory:s}\")\n",
    "\n",
    "    if (not os.path.exists(directory)):\n",
    "        print(f\"creating directory {directory:s}\")\n",
    "        os.mkdir(directory)\n",
    "\n",
    "    fig_fnames = (re.compile(r'\\[Fig.*\\]\\((.*)\\)').findall(md) + \n",
    "                  re.compile(r'\\<img src=\"([^>\\s]*)\"[^>]*/>').findall(md))\n",
    "    for fname in fig_fnames:\n",
    "        if 'http' in fname:\n",
    "            # No need to copy online figures\n",
    "            continue\n",
    "        destdir = os.path.join(directory, os.path.dirname(fname))\n",
    "        destfname = os.path.join(destdir, os.path.basename(fname))\n",
    "        try:\n",
    "            os.makedirs(destdir)\n",
    "        except FileExistsError:\n",
    "            pass\n",
    "        shutil.copy(fname, destfname)\n",
    "    with open(os.path.join(directory, md_fname), 'w') as fout:\n",
    "        fout.write(md)\n",
    "    print(\"exported in \", os.path.join(directory, md_fname))\n",
    "    [print(\"    + \" + os.path.join(directory,fk)) for fk in fig_fnames]"
   ]
  },
  {
   "cell_type": "code",
   "execution_count": 8,
   "id": "014d04a4",
   "metadata": {
    "execution": {
     "iopub.execute_input": "2023-02-22T04:09:46.872495Z",
     "iopub.status.busy": "2023-02-22T04:09:46.871947Z",
     "iopub.status.idle": "2023-02-22T04:09:46.877672Z",
     "shell.execute_reply": "2023-02-22T04:09:46.877138Z"
    },
    "papermill": {
     "duration": 0.017785,
     "end_time": "2023-02-22T04:09:46.879093",
     "exception": false,
     "start_time": "2023-02-22T04:09:46.861308",
     "status": "completed"
    },
    "tags": []
   },
   "outputs": [
    {
     "name": "stdout",
     "output_type": "stream",
     "text": [
      "exported in  _build/html/2302.10528.md\n",
      "    + _build/html/tmp_2302.10528/./Fig/J00051+457_periodograms.png\n",
      "    + _build/html/tmp_2302.10528/./Fig/occurrence_rate_comparison_paper.png\n",
      "    + _build/html/tmp_2302.10528/./Fig/CARMinternalreversed.png\n"
     ]
    }
   ],
   "source": [
    "for paper_id, md in documents:\n",
    "    export_markdown_summary(md, f\"{paper_id:s}.md\", '_build/html/')"
   ]
  },
  {
   "cell_type": "markdown",
   "id": "f087a0a7",
   "metadata": {
    "papermill": {
     "duration": 0.009574,
     "end_time": "2023-02-22T04:09:46.899921",
     "exception": false,
     "start_time": "2023-02-22T04:09:46.890347",
     "status": "completed"
    },
    "tags": []
   },
   "source": [
    "## Display the papers\n",
    "\n",
    "Not necessary but allows for a quick check."
   ]
  },
  {
   "cell_type": "code",
   "execution_count": 9,
   "id": "fd25f625",
   "metadata": {
    "execution": {
     "iopub.execute_input": "2023-02-22T04:09:46.921065Z",
     "iopub.status.busy": "2023-02-22T04:09:46.920363Z",
     "iopub.status.idle": "2023-02-22T04:09:46.925702Z",
     "shell.execute_reply": "2023-02-22T04:09:46.924926Z"
    },
    "papermill": {
     "duration": 0.017596,
     "end_time": "2023-02-22T04:09:46.927320",
     "exception": false,
     "start_time": "2023-02-22T04:09:46.909724",
     "status": "completed"
    },
    "scrolled": false,
    "tags": []
   },
   "outputs": [
    {
     "data": {
      "text/markdown": [
       "<div class=\"macros\" style=\"visibility:hidden;\">\n",
       "$\\newcommand{\\ensuremath}{}$\n",
       "$\\newcommand{\\xspace}{}$\n",
       "$\\newcommand{\\object}[1]{\\texttt{#1}}$\n",
       "$\\newcommand{\\farcs}{{.}''}$\n",
       "$\\newcommand{\\farcm}{{.}'}$\n",
       "$\\newcommand{\\arcsec}{''}$\n",
       "$\\newcommand{\\arcmin}{'}$\n",
       "$\\newcommand{\\ion}[2]{#1#2}$\n",
       "$\\newcommand{\\textsc}[1]{\\textrm{#1}}$\n",
       "$\\newcommand{\\hl}[1]{\\textrm{#1}}$\n",
       "$\\newcommand{\\AS}[3]{#1^{+#2}_{-#3}}$\n",
       "$\\newcommand{\\Comm}[1]{\\textcolor{red}{\\textbf{#1}}}$\n",
       "$\\newcommand{\\inst}[1]{\\unskip^{\\instrefs{#1}}}$\n",
       "$\\newcommand{\\scsep}{\\newcommand{\\}{scsep}{,}}$\n",
       "$\\newcommand{\\}{scsep}$</div>\n",
       "\n",
       "<div class=\"macros\" style=\"visibility:hidden;\">\n",
       "$\\newcommand{$\\ensuremath$}{}$\n",
       "$\\newcommand{$\\xspace$}{}$\n",
       "$\\newcommand{$\\object$}[1]{\\texttt{#1}}$\n",
       "$\\newcommand{$\\farcs$}{{.}''}$\n",
       "$\\newcommand{$\\farcm$}{{.}'}$\n",
       "$\\newcommand{$\\arcsec$}{''}$\n",
       "$\\newcommand{$\\arcmin$}{'}$\n",
       "$\\newcommand{$\\ion$}[2]{#1#2}$\n",
       "$\\newcommand{$\\textsc$}[1]{\\textrm{#1}}$\n",
       "$\\newcommand{$\\hl$}[1]{\\textrm{#1}}$\n",
       "$\\newcommand{$\\AS$}[3]{#1^{+#2}_{-#3}}$\n",
       "$\\newcommand{$\\Comm$}[1]{\\textcolor{red}{\\textbf{#1}}}$\n",
       "$\\newcommand{$\\inst$}[1]{\\unskip^{$\\inst$refs{#1}}}$\n",
       "$\\newcommand{\\scsep}{\\newcommand{\\}{scsep}{,}}$\n",
       "$\\newcommand{\\}{scsep}$</div>\n",
       "\n",
       "\n",
       "\n",
       "<div id=\"title\">\n",
       "\n",
       "# The CARMENES search for exoplanets around M dwarfs\n",
       "\n",
       "</div>\n",
       "<div id=\"comments\">\n",
       "\n",
       "[![arXiv](https://img.shields.io/badge/arXiv-2302.10528-b31b1b.svg)](https://arxiv.org/abs/2302.10528)<mark>Appeared on: 2023-02-22</mark> - _Published in A&A (this https URL), 25 pages, 12 figures, Tables 1 and 2 only available online_\n",
       "\n",
       "</div>\n",
       "<div id=\"authors\">\n",
       "\n",
       "I. Ribas, et al. -- incl., <mark><mark>J. I. González Hernández</mark></mark>, <mark><mark>Th. Henning</mark></mark>, <mark><mark>E. Herrero</mark></mark>\n",
       "\n",
       "</div>\n",
       "<div id=\"abstract\">\n",
       "\n",
       "**Abstract:** The CARMENES instrument, installed at the 3.5 m telescope of the Calar Alto Observatory in Almer\\'ia, Spain,   was conceived to deliver high-accuracy radial velocity (RV) measurements with long-term stability to search   for temperate rocky planets around a sample of nearby cool stars. Moreover, the broad wavelength coverage   was designed to provide a range of stellar activity indicators to assess the nature of potential RV signals   and to provide valuable spectral information to help characterise the stellar targets.We describe the CARMENES guaranteed time observations (GTO), spanning from 2016 to 2020, during which   19 633 spectra for a sample of 362 targets were collected. We present the CARMENES Data Release 1 (DR1), which   makes public all observations obtained during the GTO of the CARMENES survey.The CARMENES survey target selection was aimed at minimising biases, and about 70\\%of all known M   dwarfs within 10 pc and accessible from Calar Alto were included. The data were pipeline-processed, and   high-level data products, including 18 642 precise RVs for 345 targets, were derived.   Time series data of spectroscopic activity indicators were also obtained.We discuss the characteristics of the CARMENES data, the statistical properties of the stellar sample, and the   spectroscopic measurements. We show examples of the use of CARMENES data and provide a contextual view of   the exoplanet population revealed by the survey, including 33 new planets, 17 re-analysed planets, and 26   confirmed planets from transiting candidate follow-up. A subsample of 238 targets was used to derive updated   planet occurrence rates, yielding an overall average of$1.44\\pm0.20$planets with 1 M$_\\oplus   < M_\\mathrm{pl} \\sin i < 1000$M$_\\oplus$and 1 d$< P_\\mathrm{orb} < 1000$d per star, and indicating that   nearly every M dwarf hosts at least one planet. All the DR1 raw data, pipeline-processed data, and high-level   data products are publicly available online.CARMENES data have proven very useful for identifying and measuring planetary companions. They are   also suitable for a variety of additional applications, such as the determination of stellar fundamental   and atmospheric properties, the characterisation of stellar activity, and the study of exoplanet   atmospheres.\n",
       "\n",
       "</div>\n",
       "\n",
       "<div id=\"div_fig1\">\n",
       "\n",
       "<img src=\"tmp_2302.10528/./Fig/J00051+457_periodograms.png\" alt=\"Fig9\" width=\"100%\"/>\n",
       "\n",
       "**Figure 9. -** Time series data and periodograms for target J00051+457 (GJ 2). {\\it Top panel}: NZP-corrected\n",
       "    RV time series. Outlier measurements (grey symbols; see text) are excluded in the periodogram\n",
       "    calculation. {\\it Bottom panels}(from top to bottom): GLS periodograms of the NZP-corrected RVs (AVC, blue),\n",
       "    the chromatic index (CRX, black) and CCF bisector span (BIS, red), the differential line width (dLW,\n",
       "    black) and the CCF FWHM (red), and the chromospheric activity indices corresponding to the H$\\alpha$(black) and averaged Ca {\\sc ii} IRT lines (red). The dash-dotted blue vertical line in all panels\n",
       "    marks the position of the most significant peak in the RV periodogram, while the circles in the\n",
       "    sub-panels highlight the position of the strongest signal in each periodogram, with the period\n",
       "    given in the legend. The 0.1 \\%, 1 \\%, and 10 \\% FAP levels are shown as horizontal dashed, dash-dotted,\n",
       "    and dotted  green lines, respectively, and are visible if they fall within the displayed vertical\n",
       "    range. Vertical axes in panels that show two different datasets are scaled such that the\n",
       "    FAP levels are identical. The colour code allows the graph to be related with the axis labels and legends. (*fig:sample_periodograms*)\n",
       "\n",
       "</div>\n",
       "<div id=\"div_fig2\">\n",
       "\n",
       "<img src=\"tmp_2302.10528/./Fig/occurrence_rate_comparison_paper.png\" alt=\"Fig5\" width=\"100%\"/>\n",
       "\n",
       "**Figure 5. -** Comparison of low-mass/small planet occurrence rates from various surveys (adapted from Sab21).\n",
       "    The parameter range is 1 to 10 M$_\\oplus$ in $M_\\text{pl} \\sin i$ for RV surveys and 1.3 to 3.7 R$_\\oplus$ in\n",
       "    $R_\\text{pl}$ for transit surveys. The error bars for transit surveys are Poisson errors based on\n",
       "    the number of planet detections in the respective bins, and error bars from RV surveys are the 16 \\% and\n",
       "    84 \\% levels of the occurrence rate posterior distributions. Results using transiting planets from the\n",
       "    \\emph{Kepler} mission are represented as triangles (\\citealt{Morton2014}, \\citealt{Dressing2015},\n",
       "    \\citealt{Mulders2015a}, \\citealt{Gaidos2016},  \\citealt{Hsu2020}), and rates from the HARPS, HADES, and\n",
       "    CARMENES RV surveys are represented as squares\n",
       "    \\citep[][and this work]{Bonfils2013, Sabotta2021A&A...653A.114S, Pinamonti2022}. The grey\n",
       "    square shows the occurrence rate from this work with the assumption of a log-uniform distribution in\n",
       "    $M_\\text{pl}\\sin i$. (*fig:occurrence_comparison*)\n",
       "\n",
       "</div>\n",
       "<div id=\"div_fig3\">\n",
       "\n",
       "<img src=\"tmp_2302.10528/./Fig/CARMinternalreversed.png\" alt=\"Fig1\" width=\"100%\"/>\n",
       "\n",
       "**Figure 1. -** Stacked histograms and statistical parameters (median and mode) of the internal precision\n",
       "    (formal uncertainties) of the 18 642 precise RV measurements in the CARMENES DR1. (*fig:precision*)\n",
       "\n",
       "</div>"
      ],
      "text/plain": [
       "<IPython.core.display.Markdown object>"
      ]
     },
     "metadata": {},
     "output_type": "display_data"
    }
   ],
   "source": [
    "[display(Markdown(k[1])) for k in documents];"
   ]
  },
  {
   "cell_type": "markdown",
   "id": "873873a4",
   "metadata": {
    "papermill": {
     "duration": 0.00971,
     "end_time": "2023-02-22T04:09:46.946898",
     "exception": false,
     "start_time": "2023-02-22T04:09:46.937188",
     "status": "completed"
    },
    "tags": []
   },
   "source": [
    "# Create HTML index"
   ]
  },
  {
   "cell_type": "code",
   "execution_count": 10,
   "id": "cf665672",
   "metadata": {
    "execution": {
     "iopub.execute_input": "2023-02-22T04:09:46.967994Z",
     "iopub.status.busy": "2023-02-22T04:09:46.967323Z",
     "iopub.status.idle": "2023-02-22T04:09:46.980790Z",
     "shell.execute_reply": "2023-02-22T04:09:46.980039Z"
    },
    "papermill": {
     "duration": 0.025772,
     "end_time": "2023-02-22T04:09:46.982308",
     "exception": false,
     "start_time": "2023-02-22T04:09:46.956536",
     "status": "completed"
    },
    "tags": []
   },
   "outputs": [
    {
     "name": "stdout",
     "output_type": "stream",
     "text": [
      "213  publications in the last 7 days.\n",
      "\t _build/html/2302.10528.md\n",
      "\t _build/html/2302.10008.md\n",
      "\t _build/html/2302.08962.md\n",
      "\t _build/html/2302.08736.md\n",
      "\t _build/html/2302.08628.md\n",
      "\t _build/html/2302.07916.md\n",
      "\t _build/html/2302.07880.md\n",
      "\t _build/html/2302.07497.md\n",
      "\t _build/html/2302.07277.md\n",
      "\t _build/html/2302.07256.md\n",
      "\t _build/html/2302.07234.md\n",
      "\t _build/html/2302.07057.md\n",
      "\t _build/html/2302.05694.md\n",
      "\t _build/html/2302.05465.md\n",
      "\t _build/html/2302.04507.md\n",
      "\t _build/html/2302.04239.md\n",
      "\t _build/html/2302.04138.md\n",
      "\t _build/html/2302.03699.md\n",
      "\t _build/html/2302.03576.md\n",
      "\t _build/html/2302.03042.md\n",
      "\t _build/html/2302.03039.md\n",
      "\t _build/html/2302.02890.md\n",
      "\t _build/html/2302.02611.md\n",
      "\t _build/html/2302.02429.md\n",
      "\t _build/html/2302.01678.md\n",
      "\t _build/html/2302.00450.md\n",
      "\t _build/html/2301.13766.md\n",
      "\t _build/html/2301.13526.md\n",
      "\t _build/html/2301.12890.md\n",
      "\t _build/html/2301.11942.md\n",
      "\t _build/html/2301.10717.md\n",
      "\t _build/html/2301.10666.md\n",
      "\t _build/html/2301.10496.md\n",
      "\t _build/html/2301.09621.md\n",
      "\t _build/html/2301.09140.md\n",
      "\t _build/html/2301.08770.md\n",
      "\t _build/html/2301.08310.md\n",
      "\t _build/html/2301.07990.md\n",
      "\t _build/html/2301.07366.md\n",
      "\t _build/html/2301.07199.md\n",
      "\t _build/html/2301.07116.md\n",
      "\t _build/html/2301.06873.md\n",
      "\t _build/html/2301.06819.md\n",
      "\t _build/html/2301.06575.md\n",
      "\t _build/html/2301.05720.md\n",
      "\t _build/html/2301.05718.md\n",
      "\t _build/html/2301.05034.md\n",
      "\t _build/html/2301.04656.md\n",
      "\t _build/html/2301.04533.md\n",
      "\t _build/html/2301.04442.md\n",
      "\t _build/html/2301.03811.md\n",
      "\t _build/html/2301.03689.md\n",
      "\t _build/html/2301.03387.md\n",
      "\t _build/html/2301.03209.md\n",
      "\t _build/html/2301.02671.md\n",
      "\t _build/html/2301.02477.md\n",
      "\t _build/html/2301.02313.md\n",
      "\t _build/html/2301.02265.md\n",
      "\t _build/html/2301.01937.md\n",
      "\t _build/html/2301.01895.md\n",
      "\t _build/html/2301.01684.md\n",
      "\t _build/html/2301.01306.md\n",
      "\t _build/html/2301.00881.md\n",
      "\t _build/html/2301.00854.md\n",
      "\t _build/html/2301.00578.md\n",
      "\t _build/html/2212.12039.md\n",
      "\t _build/html/2212.11991.md\n",
      "\t _build/html/2212.11425.md\n",
      "\t _build/html/2212.11177.md\n",
      "\t _build/html/2212.10804.md\n",
      "\t _build/html/2212.10512.md\n",
      "\t _build/html/2212.09766.md\n",
      "\t _build/html/2212.09675.md\n",
      "\t _build/html/2212.09661.md\n",
      "\t _build/html/2212.09652.md\n",
      "\t _build/html/2212.09443.md\n",
      "\t _build/html/2212.09307.md\n",
      "\t _build/html/2212.09168.md\n",
      "\t _build/html/2212.09159.md\n",
      "\t _build/html/2212.08702.md\n",
      "\t _build/html/2212.07332.md\n",
      "\t _build/html/2212.06434.md\n",
      "\t _build/html/2212.04710.md\n",
      "\t _build/html/2212.04026.md\n",
      "\t _build/html/2212.03563.md\n",
      "\t _build/html/2212.03514.md\n",
      "\t _build/html/2212.02667.md\n",
      "\t _build/html/2212.02627.md\n",
      "\t _build/html/2212.02235.md\n",
      "\t _build/html/2212.01707.md\n",
      "\t _build/html/2212.01526.md\n",
      "\t _build/html/2212.01397.md\n",
      "\t _build/html/2212.01291.md\n",
      "\t _build/html/2212.01281.md\n",
      "\t _build/html/2212.00812.md\n",
      "\t _build/html/2212.00811.md\n",
      "\t _build/html/2212.00806.md\n",
      "\t _build/html/2212.00047.md\n",
      "\t _build/html/2212.00032.md\n",
      "\t _build/html/2211.16996.md\n",
      "\t _build/html/2211.16510.md\n",
      "\t _build/html/2211.16123.md\n",
      "\t _build/html/2211.15816.md\n",
      "\t _build/html/2211.15698.md\n",
      "\t _build/html/2211.15576.md\n",
      "\t _build/html/2211.15434.md\n",
      "\t _build/html/2211.15288.md\n",
      "\t _build/html/2211.15224.md\n",
      "\t _build/html/2211.14543.md\n",
      "\t _build/html/2211.14330.md\n",
      "\t _build/html/2211.14322.md\n",
      "\t _build/html/2211.14132.md\n",
      "\t _build/html/2211.13811.md\n",
      "\t _build/html/2211.13426.md\n",
      "\t _build/html/2211.13318.md\n",
      "\t _build/html/2211.13146.md\n",
      "\t _build/html/2211.12613.md\n",
      "\t _build/html/2211.11767.md\n",
      "\t _build/html/2211.09840.md\n",
      "\t _build/html/2211.09217.md\n",
      "\t _build/html/2211.08493.md\n",
      "\t _build/html/2211.08487.md\n",
      "\t _build/html/2211.08294.md\n",
      "\t _build/html/2211.07667.md\n",
      "\t _build/html/2211.07659.md\n",
      "\t _build/html/2211.06454.md\n",
      "\t _build/html/2211.06205.md\n",
      "\t _build/html/2211.06194.md\n",
      "\t _build/html/2211.05022.md\n",
      "\t _build/html/2211.04048.md\n",
      "\t _build/html/2211.03641.md\n",
      "\t _build/html/2211.02502.md\n",
      "\t _build/html/2211.01474.md\n",
      "\t _build/html/2211.00667.md\n",
      "\t _build/html/2211.00657.md\n",
      "\t _build/html/2211.00087.md\n",
      "\t _build/html/2211.00036.md\n",
      "\t _build/html/2211.00020.md\n",
      "\t _build/html/2211.00010.md\n",
      "\t _build/html/2210.17434.md\n",
      "\t _build/html/2210.12412.md\n",
      "\t _build/html/2210.11926.md\n",
      "\t _build/html/2210.11551.md\n",
      "\t _build/html/2210.11103.md\n",
      "\t _build/html/2210.10707.md\n",
      "\t _build/html/2210.09930.md\n",
      "\t _build/html/2210.08996.md\n",
      "\t _build/html/2210.08517.md\n",
      "\t _build/html/2210.08510.md\n",
      "\t _build/html/2210.08078.md\n",
      "\t _build/html/2210.06504.md\n",
      "\t _build/html/2210.05695.md\n",
      "\t _build/html/2210.05595.md\n",
      "\t _build/html/2210.05505.md\n",
      "\t _build/html/2210.04721.md\n",
      "\t _build/html/2210.03615.md\n",
      "\t _build/html/2210.01811.md\n",
      "\t _build/html/2210.01809.md\n",
      "\t _build/html/2210.01556.md\n",
      "\t _build/html/2210.00863.md\n",
      "\t _build/html/2210.00560.md\n",
      "\t _build/html/2209.15403.md\n",
      "\t _build/html/2209.15110.md\n",
      "\t _build/html/2209.14410.md\n",
      "\t _build/html/2209.14396.md\n",
      "\t _build/html/2209.13717.md\n",
      "\t _build/html/2209.13336.md\n",
      "\t _build/html/2209.12906.md\n",
      "\t _build/html/2209.11781.md\n",
      "\t _build/html/2209.11602.md\n",
      "\t _build/html/2209.11248.md\n",
      "\t _build/html/2209.11096.md\n",
      "\t _build/html/2209.10618.md\n",
      "\t _build/html/2209.09914.md\n",
      "\t _build/html/2209.09823.md\n",
      "\t _build/html/2209.08242.md\n",
      "\t _build/html/2209.08120.md\n",
      "\t _build/html/2209.08106.md\n",
      "\t _build/html/2209.07962.md\n",
      "\t _build/html/2209.07931.md\n",
      "\t _build/html/2209.06833.md\n",
      "\t _build/html/2209.05814.md\n",
      "\t _build/html/2209.05593.md\n",
      "\t _build/html/2209.04304.md\n",
      "\t _build/html/2209.03367.md\n",
      "\t _build/html/2209.02872.md\n",
      "\t _build/html/2209.02725.md\n",
      "\t _build/html/2209.02722.md\n",
      "\t _build/html/2209.02092.md\n",
      "\t _build/html/2209.01125.md\n",
      "\t _build/html/2209.00828.md\n",
      "\t _build/html/2209.00363.md\n",
      "\t _build/html/2208.14927.md\n",
      "\t _build/html/2208.09335.md\n",
      "\t _build/html/2208.08872.md\n",
      "\t _build/html/2204.06393.md\n",
      "\t _build/html/2204.03335.md\n",
      "\t _build/html/2204.03253.md\n",
      "\t _build/html/2204.02998.md\n",
      "\t _build/html/2204.02109.md\n",
      "\t _build/html/2204.02017.md\n",
      "\t _build/html/2204.01824.md\n",
      "\t _build/html/2204.01758.md\n",
      "\t _build/html/2204.01245.md\n",
      "\t _build/html/2204.00793.md\n",
      "\t _build/html/2204.00342.md\n",
      "\t _build/html/2203.16959.md\n",
      "\t _build/html/2203.16856.md\n",
      "\t _build/html/2203.16735.md\n",
      "\t _build/html/2203.16734.md\n",
      "\t _build/html/2203.16504.md\n",
      "\t _build/html/2203.15822.md\n",
      "\t _build/html/2203.15811.md\n"
     ]
    }
   ],
   "source": [
    "from datetime import datetime, timedelta, timezone\n",
    "from glob import glob\n",
    "\n",
    "files = glob('_build/html/*.md')\n",
    "days = 7\n",
    "now = datetime.today()\n",
    "res = []\n",
    "for fk in files:\n",
    "    stat_result = os.stat(fk).st_ctime\n",
    "    modified = datetime.fromtimestamp(stat_result, tz=timezone.utc).replace(tzinfo=None)\n",
    "    delta = now.today() - modified\n",
    "    if delta <= timedelta(days=days):\n",
    "        res.append((delta.seconds, fk))\n",
    "res = [k[1] for k in reversed(sorted(res, key=lambda x:x[1]))]\n",
    "npub = len(res)\n",
    "print(len(res), f\" publications in the last {days:d} days.\")\n",
    "[ print('\\t', k) for k in res ];"
   ]
  },
  {
   "cell_type": "code",
   "execution_count": 11,
   "id": "015de740",
   "metadata": {
    "execution": {
     "iopub.execute_input": "2023-02-22T04:09:47.038202Z",
     "iopub.status.busy": "2023-02-22T04:09:47.037491Z",
     "iopub.status.idle": "2023-02-22T04:09:47.058235Z",
     "shell.execute_reply": "2023-02-22T04:09:47.057635Z"
    },
    "papermill": {
     "duration": 0.03332,
     "end_time": "2023-02-22T04:09:47.059667",
     "exception": false,
     "start_time": "2023-02-22T04:09:47.026347",
     "status": "completed"
    },
    "tags": []
   },
   "outputs": [
    {
     "name": "stdout",
     "output_type": "stream",
     "text": [
      "12  publications in the last 7 days.\n"
     ]
    }
   ],
   "source": [
    "import datetime\n",
    "from glob import glob\n",
    "\n",
    "def get_last_n_days(lst, days=1):\n",
    "    \"\"\" Get the documents from the last n days \"\"\"\n",
    "    sorted_lst = sorted(lst, key=lambda x: x[1], reverse=True)\n",
    "    for fname, date in sorted_lst:\n",
    "        if date >= str(datetime.date.today() - datetime.timedelta(days=days)):\n",
    "            yield fname\n",
    "\n",
    "def extract_appearance_dates(lst_file):\n",
    "    dates = []\n",
    "\n",
    "    def get_date(line):\n",
    "        return line\\\n",
    "            .split('Appeared on:')[-1]\\\n",
    "            .split('</mark>')[0].strip()\n",
    "\n",
    "    for fname in lst:\n",
    "        with open(fname, 'r') as f:\n",
    "            found_date = False\n",
    "            for line in f:\n",
    "                if not found_date:\n",
    "                    if \"Appeared on\" in line:\n",
    "                        found_date = True\n",
    "                        dates.append((fname, get_date(line)))\n",
    "                else:\n",
    "                    break\n",
    "    return dates\n",
    "\n",
    "from glob import glob\n",
    "lst = glob('_build/html/*md')\n",
    "days = 7\n",
    "dates = extract_appearance_dates(lst)\n",
    "res = list(get_last_n_days(dates, days))\n",
    "npub = len(res)\n",
    "print(len(res), f\" publications in the last {days:d} days.\")"
   ]
  },
  {
   "cell_type": "code",
   "execution_count": 12,
   "id": "52ca0208",
   "metadata": {
    "execution": {
     "iopub.execute_input": "2023-02-22T04:09:47.081546Z",
     "iopub.status.busy": "2023-02-22T04:09:47.081014Z",
     "iopub.status.idle": "2023-02-22T04:09:47.087824Z",
     "shell.execute_reply": "2023-02-22T04:09:47.087068Z"
    },
    "papermill": {
     "duration": 0.019565,
     "end_time": "2023-02-22T04:09:47.089386",
     "exception": false,
     "start_time": "2023-02-22T04:09:47.069821",
     "status": "completed"
    },
    "scrolled": false,
    "tags": []
   },
   "outputs": [],
   "source": [
    "def create_carousel(npub=4):\n",
    "    \"\"\" Generate the HTML code for a carousel with `npub` slides \"\"\"\n",
    "    carousel = [\"\"\"<section class=\"carousel\" aria-label=\"Gallery\">\"\"\",\n",
    "                \"\"\"  <ol class=\"carousel__viewport\">\"\"\",\n",
    "    ]\n",
    "    for k in range(1, npub + 1):\n",
    "        prev_ = k - 1\n",
    "        next_ = k + 1\n",
    "        if prev_ <= 0:\n",
    "            prev_ = npub\n",
    "        if next_ > npub:\n",
    "            next_ = 1\n",
    "        text  = f\"\"\"    <li id=\"carousel__slide{k}\" tabindex=\"0\" class=\"carousel__slide\">\\n\"\"\"\n",
    "        text += f\"\"\"       <div class=\"carousel__snapper\">\\n\"\"\"\n",
    "        text += f\"\"\"         <a href=\"#carousel__slide{prev_}\" class=\"carousel__prev\">Go to previous slide</a>\\n\"\"\"\n",
    "        text += f\"\"\"         <a href=\"#carousel__slide{next_}\" class=\"carousel__next\">Go to next slide</a>\\n\"\"\"\n",
    "        text += f\"\"\"         <div id=\"slide{k}_content\" class=\"md_view\" >Content {k}</div>\\n\"\"\"\n",
    "        text += f\"\"\"       </div>\\n\"\"\"\n",
    "        text += f\"\"\"    </li>\"\"\"\n",
    "        carousel.append(text)\n",
    "\n",
    "    carousel.extend([\n",
    "        \"\"\"  </ol>\"\"\",\n",
    "        \"\"\"  <aside class=\"carousel__navigation\">\"\"\",\n",
    "        \"\"\"    <ol class=\"carousel__navigation-list\">\"\"\"])\n",
    "\n",
    "    for k in range(1, npub + 1):\n",
    "        text  = f\"\"\"      <li class=\"carousel__navigation-item\">\\n\"\"\"\n",
    "        text += f\"\"\"        <a href=\"#carousel__slide{k}\" class=\"carousel__navigation-button\">Go to {k}</a>\\n\"\"\"\n",
    "        text += f\"\"\"      </li>\"\"\"\n",
    "        carousel.append(text)\n",
    "    carousel.extend([\"\"\"    </ol>\"\"\", \"\"\"  </aside>\"\"\", \"\"\"</section>\"\"\"])\n",
    "\n",
    "    return '\\n'.join(carousel)"
   ]
  },
  {
   "cell_type": "code",
   "execution_count": 13,
   "id": "a6eac5b6",
   "metadata": {
    "execution": {
     "iopub.execute_input": "2023-02-22T04:09:47.111494Z",
     "iopub.status.busy": "2023-02-22T04:09:47.110946Z",
     "iopub.status.idle": "2023-02-22T04:09:47.117375Z",
     "shell.execute_reply": "2023-02-22T04:09:47.116655Z"
    },
    "papermill": {
     "duration": 0.019364,
     "end_time": "2023-02-22T04:09:47.118923",
     "exception": false,
     "start_time": "2023-02-22T04:09:47.099559",
     "status": "completed"
    },
    "scrolled": false,
    "tags": []
   },
   "outputs": [],
   "source": [
    "carousel = create_carousel(npub)\n",
    "docs = ', '.join(['\"{0:s}\"'.format(k.split('/')[-1]) for k in res])\n",
    "slides = ', '.join([f'\"slide{k}_content\"' for k in range(1, npub + 1)])\n",
    "\n",
    "script = f\"\"\"\n",
    "const docs = [{docs}]\n",
    "\n",
    "const slides = [{slides}]\n",
    "\"\"\" + \"\"\"\n",
    "async function run() {\n",
    "    for (let i = 0; i < docs.length; i++) {\n",
    "        let file = await fetch(docs[i]);\n",
    "        let text = await file.text()\n",
    "        document.getElementById(slides[i]).innerHTML =\n",
    "            marked.parse(text);\n",
    "    }\n",
    "    hljs.highlightAll();\n",
    "}\n",
    "run()\n",
    "\"\"\"\n",
    "\n",
    "page = f\"\"\"<!doctype html>\n",
    "<html lang=\"en\">\n",
    "\n",
    "<head>\n",
    "  <meta charset=\"utf-8\">\n",
    "  <meta name=\"viewport\" content=\"width=device-width, initial-scale=1\">\n",
    "  <!-- Bootstrap CSS -->\n",
    "  <link href=\"https://cdn.jsdelivr.net/npm/bootstrap@5.0.2/dist/css/bootstrap.min.css\" rel=\"stylesheet\"\n",
    "   integrity=\"sha384-EVSTQN3/azprG1Anm3QDgpJLIm9Nao0Yz1ztcQTwFspd3yD65VohhpuuCOmLASjC\" crossorigin=\"anonymous\">\n",
    "  <!-- highlight.js CSS -->\n",
    "  <link rel=\"stylesheet\" href=\"https://cdnjs.cloudflare.com/ajax/libs/highlight.js/11.1.0/styles/default.min.css\">\n",
    "  <!-- Mathjax 3 -->\n",
    "  <script type=\"text/javascript\" id=\"MathJax-config\" src=\"mathjax_config.js\"> </script>\n",
    "  <script type=\"text/javascript\" id=\"MathJax-script\" async \n",
    "    src=\"https://cdn.jsdelivr.net/npm/mathjax@3/es5/tex-mml-chtml.js\">\n",
    "  </script>\n",
    "  <link rel=\"stylesheet\" href=\"index_carousel.css\">\n",
    "  <link rel=\"icon\" type=\"image/x-icon\" href=\"https://www.mpia.de/assets/touch-icon-32x32-a66937bcebc4e8894ebff1f41a366c7c7220fd97a38869ee0f2db65a9f59b6c1.png\">\n",
    "  <title>MPIA Arxiv on deck!</title>\n",
    "</head>\n",
    "\n",
    "<body>\n",
    "  <div id=\"header\"> <img src=\"header_banner.png\" width=\"100%\"></div>\n",
    "  <div id=\"suptitle\"> 7-day archives </div>\n",
    "  <div id=\"info\">\n",
    "    <img src=\"https://pngimg.com/uploads/github/github_PNG58.png\" height=30rem></img>\n",
    "    <a href=https://github.com/mpi-astronomy/arxiv_display style=\"color:black;\">github/mpi-astronomy/arxiv_display</a> \n",
    "  </div>\n",
    "  {carousel:s}\n",
    "</body>\n",
    "\n",
    "<!-- Render Markdown -->\n",
    "\n",
    "<body>\n",
    "  <!-- highlight.js: https://highlightjs.org/download/ -->\n",
    "  <script src=\"https://cdnjs.cloudflare.com/ajax/libs/highlight.js/11.5.0/highlight.min.js\"></script>\n",
    "  <!-- marked.js -->\n",
    "  <script src=\"https://cdn.jsdelivr.net/npm/marked/marked.min.js\"></script>\n",
    "  <script>{script:s}</script>\n",
    "</body>\n",
    "</html>\n",
    "\"\"\"\n",
    "with open(\"_build/html/index_7days.html\", 'w') as fout:\n",
    "    fout.write(page)"
   ]
  },
  {
   "cell_type": "code",
   "execution_count": 14,
   "id": "adc1a1ec",
   "metadata": {
    "execution": {
     "iopub.execute_input": "2023-02-22T04:09:47.141277Z",
     "iopub.status.busy": "2023-02-22T04:09:47.140759Z",
     "iopub.status.idle": "2023-02-22T04:09:47.148842Z",
     "shell.execute_reply": "2023-02-22T04:09:47.148153Z"
    },
    "papermill": {
     "duration": 0.022019,
     "end_time": "2023-02-22T04:09:47.151219",
     "exception": false,
     "start_time": "2023-02-22T04:09:47.129200",
     "status": "completed"
    },
    "tags": []
   },
   "outputs": [
    {
     "name": "stdout",
     "output_type": "stream",
     "text": [
      "2  publications in the last day.\n"
     ]
    }
   ],
   "source": [
    "# redo for today\n",
    "days = 1\n",
    "res = list(get_last_n_days(dates, days))\n",
    "npub = len(res)\n",
    "print(len(res), f\" publications in the last day.\")\n",
    "\n",
    "carousel = create_carousel(npub)\n",
    "docs = ', '.join(['\"{0:s}\"'.format(k.split('/')[-1]) for k in res])\n",
    "slides = ', '.join([f'\"slide{k}_content\"' for k in range(1, npub + 1)])\n",
    "\n",
    "script = f\"\"\"\n",
    "const docs = [{docs}]\n",
    "\n",
    "const slides = [{slides}]\n",
    "\"\"\" + \"\"\"\n",
    "async function run() {\n",
    "    for (let i = 0; i < docs.length; i++) {\n",
    "        let file = await fetch(docs[i]);\n",
    "        let text = await file.text()\n",
    "        document.getElementById(slides[i]).innerHTML =\n",
    "            marked.parse(text);\n",
    "    }\n",
    "    hljs.highlightAll();\n",
    "}\n",
    "run()\n",
    "\"\"\"\n",
    "\n",
    "page = f\"\"\"<!doctype html>\n",
    "<html lang=\"en\">\n",
    "\n",
    "<head>\n",
    "  <meta charset=\"utf-8\">\n",
    "  <meta name=\"viewport\" content=\"width=device-width, initial-scale=1\">\n",
    "  <!-- Bootstrap CSS -->\n",
    "  <link href=\"https://cdn.jsdelivr.net/npm/bootstrap@5.0.2/dist/css/bootstrap.min.css\" rel=\"stylesheet\"\n",
    "   integrity=\"sha384-EVSTQN3/azprG1Anm3QDgpJLIm9Nao0Yz1ztcQTwFspd3yD65VohhpuuCOmLASjC\" crossorigin=\"anonymous\">\n",
    "  <!-- highlight.js CSS -->\n",
    "  <link rel=\"stylesheet\" href=\"https://cdnjs.cloudflare.com/ajax/libs/highlight.js/11.1.0/styles/default.min.css\">\n",
    "  <!-- Mathjax 3 -->\n",
    "  <script type=\"text/javascript\" id=\"MathJax-config\" src=\"mathjax_config.js\"> </script>\n",
    "  <script type=\"text/javascript\" id=\"MathJax-script\" async \n",
    "    src=\"https://cdn.jsdelivr.net/npm/mathjax@3/es5/tex-mml-chtml.js\">\n",
    "  </script>\n",
    "  <link rel=\"stylesheet\" href=\"index_carousel.css\">\n",
    "  <link rel=\"icon\" type=\"image/x-icon\" href=\"https://www.mpia.de/assets/touch-icon-32x32-a66937bcebc4e8894ebff1f41a366c7c7220fd97a38869ee0f2db65a9f59b6c1.png\">\n",
    "  <title>MPIA Arxiv on deck!</title>\n",
    "</head>\n",
    "\n",
    "<body>\n",
    "  <div id=\"header\"> <img src=\"header_banner.png\" width=\"100%\"></div>\n",
    "  <div id=\"suptitle\"> daily </div>\n",
    "  <div id=\"info\">\n",
    "    <img src=\"https://pngimg.com/uploads/github/github_PNG58.png\" height=30rem></img>\n",
    "    <a href=https://github.com/mpi-astronomy/arxiv_display style=\"color:black;\">github/mpi-astronomy/arxiv_display</a> \n",
    "  </div>\n",
    "  {carousel:s}\n",
    "</body>\n",
    "\n",
    "<!-- Render Markdown -->\n",
    "\n",
    "<body>\n",
    "  <!-- highlight.js: https://highlightjs.org/download/ -->\n",
    "  <script src=\"https://cdnjs.cloudflare.com/ajax/libs/highlight.js/11.5.0/highlight.min.js\"></script>\n",
    "  <!-- marked.js -->\n",
    "  <script src=\"https://cdn.jsdelivr.net/npm/marked/marked.min.js\"></script>\n",
    "  <script>{script:s}</script>\n",
    "</body>\n",
    "</html>\n",
    "\"\"\"\n",
    "with open(\"_build/html/index_daily.html\", 'w') as fout:\n",
    "    fout.write(page)"
   ]
  },
  {
   "cell_type": "markdown",
   "id": "1cebacbc",
   "metadata": {
    "papermill": {
     "duration": 0.010135,
     "end_time": "2023-02-22T04:09:47.171562",
     "exception": false,
     "start_time": "2023-02-22T04:09:47.161427",
     "status": "completed"
    },
    "tags": []
   },
   "source": [
    "# Debugging papers"
   ]
  },
  {
   "cell_type": "raw",
   "id": "debe7cc6",
   "metadata": {
    "papermill": {
     "duration": 0.010103,
     "end_time": "2023-02-22T04:09:47.191807",
     "exception": false,
     "start_time": "2023-02-22T04:09:47.181704",
     "status": "completed"
    },
    "tags": []
   },
   "source": [
    "raise NotImplementedError(\"Manual Stop\")"
   ]
  },
  {
   "cell_type": "raw",
   "id": "eb169192",
   "metadata": {
    "papermill": {
     "duration": 0.010123,
     "end_time": "2023-02-22T04:09:47.212095",
     "exception": false,
     "start_time": "2023-02-22T04:09:47.201972",
     "status": "completed"
    },
    "scrolled": true,
    "tags": []
   },
   "source": [
    "from IPython.display import display, Markdown\n",
    "from TexSoup import TexSoup\n",
    "import re\n",
    "\n",
    "def bracket_error(source: str):\n",
    "    \"\"\" Find problematic portions of the document \"\"\"\n",
    "    \n",
    "    print(\"len(source)\", len(source))\n",
    "    \n",
    "    # Checking header\n",
    "    begin_doc = next(re.finditer(r'\\\\begin\\{document\\}', doc.source)).span()[1]\n",
    "    header = source[:begin_doc]\n",
    "    text = header + r\"\\n\\end{document}\"\n",
    "\n",
    "    try:\n",
    "        # print(\"Header check... \", end='')\n",
    "        TexSoup(text)\n",
    "        display(Markdown(f\"**[OK]** - Header\"))\n",
    "    except:\n",
    "        raise RuntimeError(\"Error in the header\")\n",
    "        \n",
    "    # Check the text per section until the end.\n",
    "    # Do not stop and try them all.\n",
    "    \n",
    "    problematic_text = []\n",
    "    \n",
    "    sections = ([(0, begin_doc, 'until first section')] + \n",
    "                [(g.span()[0], g.span()[1], g.group()) for g in re.finditer(r'\\\\section\\{.*\\}', source)] +\n",
    "                [(g.span()[0], g.span()[1], g.group()) for g in re.finditer(r'\\\\begin\\{appendix\\}', source)]\n",
    "               )\n",
    "    sections.append([len(source), len(source), 'end'])\n",
    "    \n",
    "    sections = sorted(sections, key=lambda x: x[0])\n",
    "    \n",
    "    prev_pos, prev_name = (0, 'header')\n",
    "    parsed = []\n",
    "    \n",
    "    for span, span_end, name in sections:\n",
    "\n",
    "        if span - prev_pos <= 0:\n",
    "            continue\n",
    "            \n",
    "\n",
    "        text = source[prev_pos:span]\n",
    "        if prev_pos > begin_doc:\n",
    "            text = r\"\\n\\begin{document}\" + text + r\"\\n\\end{document}\"\n",
    "        else:\n",
    "            text = text + r\"\\n\\end{document}\"\n",
    "        try:\n",
    "            #print(f\"{prev_pos}:{prev_name}-->{span}:{name} check... \", end='')\n",
    "            parsed.append(TexSoup(text, tolerance=1))  # allow not ending env\n",
    "            display(Markdown(f\"**[OK]** - *{prev_pos}*:{prev_name} &rarr; *{span}*:{name}\"))\n",
    "            # print(\"ok\")\n",
    "\n",
    "            prev_pos = span\n",
    "            prev_name = name\n",
    "        except:\n",
    "            # print(f\"error between {prev_pos} and {span}\")\n",
    "            display(Markdown(f\"**[ERR]** *{prev_pos}*:{prev_name} &rarr; *{span}*:{name}\"))\n",
    "            problematic_text.append((prev_pos, source[prev_pos:span]))\n",
    "            prev_pos = span\n",
    "            prev_name = name\n",
    "            # raise\n",
    "    return problematic_text, parsed\n",
    "\n",
    "\n",
    "def check_environment(text, offset=0):\n",
    "    \"\"\" Check environment \"\"\"\n",
    "    env = re.compile(r\"\\\\begin\\{(?P<env>.*)\\}(.*)\\\\end\\{(?P=env)\\}\", re.DOTALL)\n",
    "\n",
    "    for match in env.finditer(text):\n",
    "        beg, end = match.span()\n",
    "        beg += offset\n",
    "        end += offset\n",
    "        envname = match.groups()[0]\n",
    "        try:\n",
    "            latex.TexSoup(match.group())\n",
    "        except Exception as e:\n",
    "            display(e)\n",
    "            print(f\"Error in {envname:s} between {beg} and {end}\")\n",
    "            return match.groups()[1], beg, end"
   ]
  },
  {
   "cell_type": "raw",
   "id": "2315e835",
   "metadata": {
    "papermill": {
     "duration": 0.010018,
     "end_time": "2023-02-22T04:09:47.232203",
     "exception": false,
     "start_time": "2023-02-22T04:09:47.222185",
     "status": "completed"
    },
    "scrolled": false,
    "tags": []
   },
   "source": [
    "import importlib\n",
    "importlib.reload(latex)\n",
    "which = \"2204.03253\"\n",
    "paper_id = f'{which:s}'\n",
    "folder = f'tmp_{paper_id:s}'\n",
    "\n",
    "if not os.path.isdir(folder):\n",
    "    folder = retrieve_document_source(f\"{paper_id}\", f'tmp_{paper_id}')\n",
    "\n",
    "try:\n",
    "    doc = latex.LatexDocument(folder, validation=validation)    \n",
    "except AffiliationError as affilerror:\n",
    "    msg = f\"ArXiv:{paper_id:s} is not an MPIA paper... \" + str(affilerror)\n",
    "    print(msg)\n",
    "\n",
    "\n",
    "# Hack because sometimes author parsing does not work well\n",
    "if (len(doc.authors) != len(paper['authors'])):\n",
    "    doc._authors = paper['authors']\n",
    "if (doc.abstract) in (None, ''):\n",
    "    doc._abstract = paper['abstract']\n",
    "\n",
    "doc.comment = get_markdown_badge(paper_id) + \" _\" + paper['comments'] + \"_\"\n",
    "doc.highlight_authors_in_list(hl_list)\n",
    "\n",
    "full_md = doc.generate_markdown_text()"
   ]
  },
  {
   "cell_type": "raw",
   "id": "dd3781db",
   "metadata": {
    "papermill": {
     "duration": 0.010398,
     "end_time": "2023-02-22T04:09:47.252905",
     "exception": false,
     "start_time": "2023-02-22T04:09:47.242507",
     "status": "completed"
    },
    "scrolled": false,
    "tags": []
   },
   "source": [
    "doc"
   ]
  },
  {
   "cell_type": "raw",
   "id": "c6eed834",
   "metadata": {
    "papermill": {
     "duration": 0.01007,
     "end_time": "2023-02-22T04:09:47.273222",
     "exception": false,
     "start_time": "2023-02-22T04:09:47.263152",
     "status": "completed"
    },
    "tags": []
   },
   "source": [
    "# [check_environment(k) for k in bracket_error(doc.source)]\n",
    "_, _, a = latex.get_content_per_section(doc.source, verbose=True)\n",
    "if not a:\n",
    "    print(\"no issues per section\")\n",
    "for ak in a:\n",
    "    r = check_environment(ak[1], offset=ak[0])\n",
    "    print(r[1], r[2])\n",
    "    print(r[0])"
   ]
  },
  {
   "cell_type": "code",
   "execution_count": null,
   "id": "71ce768a",
   "metadata": {
    "papermill": {
     "duration": 0.010061,
     "end_time": "2023-02-22T04:09:47.293451",
     "exception": false,
     "start_time": "2023-02-22T04:09:47.283390",
     "status": "completed"
    },
    "tags": []
   },
   "outputs": [],
   "source": []
  }
 ],
 "metadata": {
  "kernelspec": {
   "display_name": "Python 3 (ipykernel)",
   "language": "python",
   "name": "python3"
  },
  "language_info": {
   "codemirror_mode": {
    "name": "ipython",
    "version": 3
   },
   "file_extension": ".py",
   "mimetype": "text/x-python",
   "name": "python",
   "nbconvert_exporter": "python",
   "pygments_lexer": "ipython3",
   "version": "3.9.16"
  },
  "papermill": {
   "default_parameters": {},
   "duration": 113.39835,
   "end_time": "2023-02-22T04:09:47.626512",
   "environment_variables": {},
   "exception": null,
   "input_path": "MPIA daily digest.ipynb",
   "output_path": "log.ipynb",
   "parameters": {},
   "start_time": "2023-02-22T04:07:54.228162",
   "version": "2.4.0"
  },
  "vscode": {
   "interpreter": {
    "hash": "aee8b7b246df8f9039afb4144a1f6fd8d2ca17a180786b69acc140d282b71a49"
   }
  },
  "widgets": {
   "application/vnd.jupyter.widget-state+json": {
    "state": {
     "1a674dea87d746939e259dca99bbd30a": {
      "model_module": "@jupyter-widgets/controls",
      "model_module_version": "2.0.0",
      "model_name": "ProgressStyleModel",
      "state": {
       "_model_module": "@jupyter-widgets/controls",
       "_model_module_version": "2.0.0",
       "_model_name": "ProgressStyleModel",
       "_view_count": null,
       "_view_module": "@jupyter-widgets/base",
       "_view_module_version": "2.0.0",
       "_view_name": "StyleView",
       "bar_color": null,
       "description_width": ""
      }
     },
     "1f3e9710e7084c37988e13e7a39cf3f4": {
      "model_module": "@jupyter-widgets/controls",
      "model_module_version": "2.0.0",
      "model_name": "HBoxModel",
      "state": {
       "_dom_classes": [],
       "_model_module": "@jupyter-widgets/controls",
       "_model_module_version": "2.0.0",
       "_model_name": "HBoxModel",
       "_view_count": null,
       "_view_module": "@jupyter-widgets/controls",
       "_view_module_version": "2.0.0",
       "_view_name": "HBoxView",
       "box_style": "",
       "children": [
        "IPY_MODEL_504334f2e65b4108909aaa846dc96b38",
        "IPY_MODEL_90a838f3480b454099e1ad70b3060664",
        "IPY_MODEL_f0a0964954be4e4b8f9fbeff20ea3437"
       ],
       "layout": "IPY_MODEL_95049317f249446fa6703e6879358013",
       "tabbable": null,
       "tooltip": null
      }
     },
     "218b25f02d4f4705a20a95c8a37c4e6d": {
      "model_module": "@jupyter-widgets/controls",
      "model_module_version": "2.0.0",
      "model_name": "HTMLStyleModel",
      "state": {
       "_model_module": "@jupyter-widgets/controls",
       "_model_module_version": "2.0.0",
       "_model_name": "HTMLStyleModel",
       "_view_count": null,
       "_view_module": "@jupyter-widgets/base",
       "_view_module_version": "2.0.0",
       "_view_name": "StyleView",
       "background": null,
       "description_width": "",
       "font_size": null,
       "text_color": null
      }
     },
     "2664aa5926b64682a29ab39cd399a8f7": {
      "model_module": "@jupyter-widgets/base",
      "model_module_version": "2.0.0",
      "model_name": "LayoutModel",
      "state": {
       "_model_module": "@jupyter-widgets/base",
       "_model_module_version": "2.0.0",
       "_model_name": "LayoutModel",
       "_view_count": null,
       "_view_module": "@jupyter-widgets/base",
       "_view_module_version": "2.0.0",
       "_view_name": "LayoutView",
       "align_content": null,
       "align_items": null,
       "align_self": null,
       "border_bottom": null,
       "border_left": null,
       "border_right": null,
       "border_top": null,
       "bottom": null,
       "display": null,
       "flex": null,
       "flex_flow": null,
       "grid_area": null,
       "grid_auto_columns": null,
       "grid_auto_flow": null,
       "grid_auto_rows": null,
       "grid_column": null,
       "grid_gap": null,
       "grid_row": null,
       "grid_template_areas": null,
       "grid_template_columns": null,
       "grid_template_rows": null,
       "height": null,
       "justify_content": null,
       "justify_items": null,
       "left": null,
       "margin": null,
       "max_height": null,
       "max_width": null,
       "min_height": null,
       "min_width": null,
       "object_fit": null,
       "object_position": null,
       "order": null,
       "overflow": null,
       "padding": null,
       "right": null,
       "top": null,
       "visibility": null,
       "width": null
      }
     },
     "3fd0066fb9194fd1b052b46fb643f1d5": {
      "model_module": "@jupyter-widgets/controls",
      "model_module_version": "2.0.0",
      "model_name": "HTMLStyleModel",
      "state": {
       "_model_module": "@jupyter-widgets/controls",
       "_model_module_version": "2.0.0",
       "_model_name": "HTMLStyleModel",
       "_view_count": null,
       "_view_module": "@jupyter-widgets/base",
       "_view_module_version": "2.0.0",
       "_view_name": "StyleView",
       "background": null,
       "description_width": "",
       "font_size": null,
       "text_color": null
      }
     },
     "504334f2e65b4108909aaa846dc96b38": {
      "model_module": "@jupyter-widgets/controls",
      "model_module_version": "2.0.0",
      "model_name": "HTMLModel",
      "state": {
       "_dom_classes": [],
       "_model_module": "@jupyter-widgets/controls",
       "_model_module_version": "2.0.0",
       "_model_name": "HTMLModel",
       "_view_count": null,
       "_view_module": "@jupyter-widgets/controls",
       "_view_module_version": "2.0.0",
       "_view_name": "HTMLView",
       "description": "",
       "description_allow_html": false,
       "layout": "IPY_MODEL_f24784bdf16e4838bd2c8f676d66552e",
       "placeholder": "​",
       "style": "IPY_MODEL_218b25f02d4f4705a20a95c8a37c4e6d",
       "tabbable": null,
       "tooltip": null,
       "value": "100%"
      }
     },
     "90a838f3480b454099e1ad70b3060664": {
      "model_module": "@jupyter-widgets/controls",
      "model_module_version": "2.0.0",
      "model_name": "FloatProgressModel",
      "state": {
       "_dom_classes": [],
       "_model_module": "@jupyter-widgets/controls",
       "_model_module_version": "2.0.0",
       "_model_name": "FloatProgressModel",
       "_view_count": null,
       "_view_module": "@jupyter-widgets/controls",
       "_view_module_version": "2.0.0",
       "_view_name": "ProgressView",
       "bar_style": "success",
       "description": "",
       "description_allow_html": false,
       "layout": "IPY_MODEL_2664aa5926b64682a29ab39cd399a8f7",
       "max": 18.0,
       "min": 0.0,
       "orientation": "horizontal",
       "style": "IPY_MODEL_1a674dea87d746939e259dca99bbd30a",
       "tabbable": null,
       "tooltip": null,
       "value": 18.0
      }
     },
     "95049317f249446fa6703e6879358013": {
      "model_module": "@jupyter-widgets/base",
      "model_module_version": "2.0.0",
      "model_name": "LayoutModel",
      "state": {
       "_model_module": "@jupyter-widgets/base",
       "_model_module_version": "2.0.0",
       "_model_name": "LayoutModel",
       "_view_count": null,
       "_view_module": "@jupyter-widgets/base",
       "_view_module_version": "2.0.0",
       "_view_name": "LayoutView",
       "align_content": null,
       "align_items": null,
       "align_self": null,
       "border_bottom": null,
       "border_left": null,
       "border_right": null,
       "border_top": null,
       "bottom": null,
       "display": null,
       "flex": null,
       "flex_flow": null,
       "grid_area": null,
       "grid_auto_columns": null,
       "grid_auto_flow": null,
       "grid_auto_rows": null,
       "grid_column": null,
       "grid_gap": null,
       "grid_row": null,
       "grid_template_areas": null,
       "grid_template_columns": null,
       "grid_template_rows": null,
       "height": null,
       "justify_content": null,
       "justify_items": null,
       "left": null,
       "margin": null,
       "max_height": null,
       "max_width": null,
       "min_height": null,
       "min_width": null,
       "object_fit": null,
       "object_position": null,
       "order": null,
       "overflow": null,
       "padding": null,
       "right": null,
       "top": null,
       "visibility": null,
       "width": null
      }
     },
     "eb8182d320c34fb7af95d8c7cdfe39f7": {
      "model_module": "@jupyter-widgets/base",
      "model_module_version": "2.0.0",
      "model_name": "LayoutModel",
      "state": {
       "_model_module": "@jupyter-widgets/base",
       "_model_module_version": "2.0.0",
       "_model_name": "LayoutModel",
       "_view_count": null,
       "_view_module": "@jupyter-widgets/base",
       "_view_module_version": "2.0.0",
       "_view_name": "LayoutView",
       "align_content": null,
       "align_items": null,
       "align_self": null,
       "border_bottom": null,
       "border_left": null,
       "border_right": null,
       "border_top": null,
       "bottom": null,
       "display": null,
       "flex": null,
       "flex_flow": null,
       "grid_area": null,
       "grid_auto_columns": null,
       "grid_auto_flow": null,
       "grid_auto_rows": null,
       "grid_column": null,
       "grid_gap": null,
       "grid_row": null,
       "grid_template_areas": null,
       "grid_template_columns": null,
       "grid_template_rows": null,
       "height": null,
       "justify_content": null,
       "justify_items": null,
       "left": null,
       "margin": null,
       "max_height": null,
       "max_width": null,
       "min_height": null,
       "min_width": null,
       "object_fit": null,
       "object_position": null,
       "order": null,
       "overflow": null,
       "padding": null,
       "right": null,
       "top": null,
       "visibility": null,
       "width": null
      }
     },
     "f0a0964954be4e4b8f9fbeff20ea3437": {
      "model_module": "@jupyter-widgets/controls",
      "model_module_version": "2.0.0",
      "model_name": "HTMLModel",
      "state": {
       "_dom_classes": [],
       "_model_module": "@jupyter-widgets/controls",
       "_model_module_version": "2.0.0",
       "_model_name": "HTMLModel",
       "_view_count": null,
       "_view_module": "@jupyter-widgets/controls",
       "_view_module_version": "2.0.0",
       "_view_name": "HTMLView",
       "description": "",
       "description_allow_html": false,
       "layout": "IPY_MODEL_eb8182d320c34fb7af95d8c7cdfe39f7",
       "placeholder": "​",
       "style": "IPY_MODEL_3fd0066fb9194fd1b052b46fb643f1d5",
       "tabbable": null,
       "tooltip": null,
       "value": " 18/18 [01:22&lt;00:00,  3.32s/it]"
      }
     },
     "f24784bdf16e4838bd2c8f676d66552e": {
      "model_module": "@jupyter-widgets/base",
      "model_module_version": "2.0.0",
      "model_name": "LayoutModel",
      "state": {
       "_model_module": "@jupyter-widgets/base",
       "_model_module_version": "2.0.0",
       "_model_name": "LayoutModel",
       "_view_count": null,
       "_view_module": "@jupyter-widgets/base",
       "_view_module_version": "2.0.0",
       "_view_name": "LayoutView",
       "align_content": null,
       "align_items": null,
       "align_self": null,
       "border_bottom": null,
       "border_left": null,
       "border_right": null,
       "border_top": null,
       "bottom": null,
       "display": null,
       "flex": null,
       "flex_flow": null,
       "grid_area": null,
       "grid_auto_columns": null,
       "grid_auto_flow": null,
       "grid_auto_rows": null,
       "grid_column": null,
       "grid_gap": null,
       "grid_row": null,
       "grid_template_areas": null,
       "grid_template_columns": null,
       "grid_template_rows": null,
       "height": null,
       "justify_content": null,
       "justify_items": null,
       "left": null,
       "margin": null,
       "max_height": null,
       "max_width": null,
       "min_height": null,
       "min_width": null,
       "object_fit": null,
       "object_position": null,
       "order": null,
       "overflow": null,
       "padding": null,
       "right": null,
       "top": null,
       "visibility": null,
       "width": null
      }
     }
    },
    "version_major": 2,
    "version_minor": 0
   }
  }
 },
 "nbformat": 4,
 "nbformat_minor": 5
}