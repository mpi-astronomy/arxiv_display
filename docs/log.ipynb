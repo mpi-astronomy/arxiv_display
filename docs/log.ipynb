{
 "cells": [
  {
   "cell_type": "markdown",
   "id": "92bcb855",
   "metadata": {
    "papermill": {
     "duration": 0.004402,
     "end_time": "2023-11-02T04:06:19.540302",
     "exception": false,
     "start_time": "2023-11-02T04:06:19.535900",
     "status": "completed"
    },
    "tags": []
   },
   "source": [
    "# MPIA Arxiv on Deck 2\n",
    "\n",
    "Contains the steps to produce the paper extractions."
   ]
  },
  {
   "cell_type": "code",
   "execution_count": 1,
   "id": "3a0d6e11",
   "metadata": {
    "execution": {
     "iopub.execute_input": "2023-11-02T04:06:19.549235Z",
     "iopub.status.busy": "2023-11-02T04:06:19.548561Z",
     "iopub.status.idle": "2023-11-02T04:06:20.040709Z",
     "shell.execute_reply": "2023-11-02T04:06:20.040052Z"
    },
    "papermill": {
     "duration": 0.498489,
     "end_time": "2023-11-02T04:06:20.042572",
     "exception": false,
     "start_time": "2023-11-02T04:06:19.544083",
     "status": "completed"
    },
    "tags": []
   },
   "outputs": [],
   "source": [
    "# Imports\n",
    "import os\n",
    "from IPython.display import Markdown, display\n",
    "from tqdm.notebook import tqdm\n",
    "import warnings\n",
    "from PIL import Image \n",
    "\n",
    "# requires arxiv_on_deck_2\n",
    "\n",
    "from arxiv_on_deck_2.arxiv2 import (get_new_papers, \n",
    "                                    get_paper_from_identifier,\n",
    "                                    retrieve_document_source, \n",
    "                                    get_markdown_badge)\n",
    "from arxiv_on_deck_2 import (latex,\n",
    "                             latex_bib,\n",
    "                             mpia,\n",
    "                             highlight_authors_in_list)\n",
    "\n",
    "# Sometimes images are really big\n",
    "Image.MAX_IMAGE_PIXELS = 1000000000 "
   ]
  },
  {
   "cell_type": "code",
   "execution_count": 2,
   "id": "22aa9d44",
   "metadata": {
    "execution": {
     "iopub.execute_input": "2023-11-02T04:06:20.052731Z",
     "iopub.status.busy": "2023-11-02T04:06:20.051991Z",
     "iopub.status.idle": "2023-11-02T04:06:20.057781Z",
     "shell.execute_reply": "2023-11-02T04:06:20.057138Z"
    },
    "papermill": {
     "duration": 0.011804,
     "end_time": "2023-11-02T04:06:20.059403",
     "exception": false,
     "start_time": "2023-11-02T04:06:20.047599",
     "status": "completed"
    },
    "tags": []
   },
   "outputs": [],
   "source": [
    "# Some useful definitions.\n",
    "\n",
    "class AffiliationWarning(UserWarning):\n",
    "    pass\n",
    "\n",
    "class AffiliationError(RuntimeError):\n",
    "    pass\n",
    "\n",
    "def validation(source: str):\n",
    "    \"\"\"Raises error paper during parsing of source file\n",
    "    \n",
    "    Allows checks before parsing TeX code.\n",
    "    \n",
    "    Raises AffiliationWarning\n",
    "    \"\"\"\n",
    "    check = mpia.affiliation_verifications(source, verbose=True)\n",
    "    if check is not True:\n",
    "        raise AffiliationError(\"mpia.affiliation_verifications: \" + check)\n",
    "\n",
    "        \n",
    "warnings.simplefilter('always', AffiliationWarning)\n",
    "\n",
    "\n",
    "def get_markdown_qrcode(paper_id: str):\n",
    "    \"\"\" Generate a qrcode to the arxiv page using qrserver.com\n",
    "    \n",
    "    :param paper: Arxiv paper\n",
    "    :returns: markdown text\n",
    "    \"\"\"\n",
    "    url = r\"https://api.qrserver.com/v1/create-qr-code/?size=100x100&data=\"\n",
    "    txt = f\"\"\"<img src={url}\"https://arxiv.org/abs/{paper_id}\">\"\"\"\n",
    "    txt = '<div id=\"qrcode\">' + txt + '</div>'\n",
    "    return txt"
   ]
  },
  {
   "cell_type": "markdown",
   "id": "14bd6310",
   "metadata": {
    "papermill": {
     "duration": 0.003339,
     "end_time": "2023-11-02T04:06:20.066154",
     "exception": false,
     "start_time": "2023-11-02T04:06:20.062815",
     "status": "completed"
    },
    "tags": []
   },
   "source": [
    "## get list of arxiv paper candidates\n",
    "\n",
    "We use the MPIA mitarbeiter list webpage from mpia.de to get author names\n",
    "We then get all new papers from Arxiv and match authors"
   ]
  },
  {
   "cell_type": "code",
   "execution_count": 3,
   "id": "2645e73a",
   "metadata": {
    "execution": {
     "iopub.execute_input": "2023-11-02T04:06:20.074030Z",
     "iopub.status.busy": "2023-11-02T04:06:20.073809Z",
     "iopub.status.idle": "2023-11-02T04:06:42.067008Z",
     "shell.execute_reply": "2023-11-02T04:06:42.066194Z"
    },
    "papermill": {
     "duration": 21.999174,
     "end_time": "2023-11-02T04:06:42.068750",
     "exception": false,
     "start_time": "2023-11-02T04:06:20.069576",
     "status": "completed"
    },
    "tags": []
   },
   "outputs": [
    {
     "name": "stdout",
     "output_type": "stream",
     "text": [
      "S. Li  ->  S. Li  |  ['S. Li']\n",
      "C. Bailer-Jones  ->  C. Bailer-Jones  |  ['C. Bailer-Jones']\n",
      "S. Ghosh  ->  S. Ghosh  |  ['S. Ghosh']\n",
      "J. He  ->  J. He  |  ['J. He']\n",
      "Arxiv has 58 new papers today\n",
      "          4 with possible author matches\n"
     ]
    }
   ],
   "source": [
    "# get list from MPIA website\n",
    "# it automatically filters identified non-scientists :func:`mpia.filter_non_scientists`\n",
    "mpia_authors = mpia.get_mpia_mitarbeiter_list()\n",
    "normed_mpia_authors = [k[1] for k in mpia_authors]   # initials + fullname\n",
    "new_papers = get_new_papers()\n",
    "# add manual references\n",
    "add_paper_refs = []\n",
    "new_papers.extend([get_paper_from_identifier(k) for k in add_paper_refs])\n",
    "\n",
    "candidates = []\n",
    "for paperk in new_papers:\n",
    "    # Check author list with their initials\n",
    "    normed_author_list = [mpia.get_initials(k) for k in paperk['authors']]\n",
    "    hl_authors = highlight_authors_in_list(normed_author_list, normed_mpia_authors, verbose=True)\n",
    "    matches = [(hl, orig) for hl, orig in zip(hl_authors, paperk['authors']) if 'mark' in hl]\n",
    "    paperk['authors'] = hl_authors\n",
    "    if matches:\n",
    "        # only select paper if an author matched our list\n",
    "        candidates.append(paperk)\n",
    "print(\"\"\"Arxiv has {0:,d} new papers today\"\"\".format(len(new_papers)))        \n",
    "print(\"\"\"          {0:,d} with possible author matches\"\"\".format(len(candidates)))"
   ]
  },
  {
   "cell_type": "markdown",
   "id": "3543b34a",
   "metadata": {
    "papermill": {
     "duration": 0.003623,
     "end_time": "2023-11-02T04:06:42.081896",
     "exception": false,
     "start_time": "2023-11-02T04:06:42.078273",
     "status": "completed"
    },
    "tags": []
   },
   "source": [
    "# Parse sources and generate relevant outputs\n",
    "\n",
    "From the candidates, we do the following steps:\n",
    "* get their tarball from ArXiv (and extract data)\n",
    "* find the main .tex file: find one with \\documentclass{...} (sometimes it's non trivial)\n",
    "* Check affiliations with :func:`validation`, which uses :func:`mpia.affiliation_verifications`\n",
    "* If passing the affiliations: we parse the .tex source\n",
    "   * inject sub-documents into the main (flatten the main document)\n",
    "   * parse structure, extract information (title, abstract, authors, figures...)\n",
    "   * handles `\\graphicspath` if provided\n",
    "* Generate the .md document."
   ]
  },
  {
   "cell_type": "code",
   "execution_count": 4,
   "id": "9576b79e",
   "metadata": {
    "execution": {
     "iopub.execute_input": "2023-11-02T04:06:42.090922Z",
     "iopub.status.busy": "2023-11-02T04:06:42.090452Z",
     "iopub.status.idle": "2023-11-02T04:07:40.255387Z",
     "shell.execute_reply": "2023-11-02T04:07:40.254763Z"
    },
    "papermill": {
     "duration": 58.171915,
     "end_time": "2023-11-02T04:07:40.257337",
     "exception": false,
     "start_time": "2023-11-02T04:06:42.085422",
     "status": "completed"
    },
    "scrolled": false,
    "tags": []
   },
   "outputs": [
    {
     "data": {
      "application/vnd.jupyter.widget-view+json": {
       "model_id": "ec52ad35381e48bea0c89a7a1e5647e3",
       "version_major": 2,
       "version_minor": 0
      },
      "text/plain": [
       "  0%|          | 0/4 [00:00<?, ?it/s]"
      ]
     },
     "metadata": {},
     "output_type": "display_data"
    },
    {
     "name": "stdout",
     "output_type": "stream",
     "text": [
      "Retrieving document from  https://arxiv.org/e-print/2311.00186\n"
     ]
    },
    {
     "name": "stdout",
     "output_type": "stream",
     "text": [
      "extracting tarball to tmp_2311.00186..."
     ]
    },
    {
     "name": "stdout",
     "output_type": "stream",
     "text": [
      " done.\n",
      "Retrieving document from  https://arxiv.org/e-print/2311.00374\n"
     ]
    },
    {
     "name": "stdout",
     "output_type": "stream",
     "text": [
      "extracting tarball to tmp_2311.00374..."
     ]
    },
    {
     "name": "stdout",
     "output_type": "stream",
     "text": [
      " done.\n"
     ]
    },
    {
     "name": "stdout",
     "output_type": "stream",
     "text": [
      "C. Bailer-Jones  ->  C. Bailer-Jones  |  ['C. Bailer-Jones']\n"
     ]
    },
    {
     "name": "stderr",
     "output_type": "stream",
     "text": [
      "/opt/hostedtoolcache/Python/3.9.18/x64/lib/python3.9/site-packages/arxiv_on_deck_2/latex.py:120: LatexWarning: attempting recovering figure plots/distance_prior_median_skyplot\n",
      "  warnings.warn(LatexWarning(f'attempting recovering figure {image}'))\n",
      "/opt/hostedtoolcache/Python/3.9.18/x64/lib/python3.9/site-packages/arxiv_on_deck_2/latex.py:125: LatexWarning: Recovered figure plots/distance_prior_median_skyplot as tmp_2311.00374/./plots/distance_prior_median_skyplot.pdf\n",
      "  warnings.warn(LatexWarning(f'Recovered figure {image} as {fname}'))\n"
     ]
    },
    {
     "name": "stdout",
     "output_type": "stream",
     "text": [
      "Found 29 bibliographic references in tmp_2311.00374/gedr3_distances_velocities.bbl.\n",
      "Retrieving document from  https://arxiv.org/e-print/2311.00477\n"
     ]
    },
    {
     "name": "stdout",
     "output_type": "stream",
     "text": [
      "extracting tarball to tmp_2311.00477..."
     ]
    },
    {
     "name": "stdout",
     "output_type": "stream",
     "text": [
      " done.\n",
      "Retrieving document from  https://arxiv.org/e-print/2311.00615\n"
     ]
    },
    {
     "name": "stderr",
     "output_type": "stream",
     "text": [
      "/tmp/ipykernel_2154/3009462391.py:49: LatexWarning: 2311.00615 did not run properly\n",
      "not a gzip file\n",
      "  warnings.warn(latex.LatexWarning(f\"{paper_id:s} did not run properly\\n\" +\n"
     ]
    }
   ],
   "source": [
    "documents = []\n",
    "failed = []\n",
    "for paper in tqdm(candidates):\n",
    "    paper_id = paper['identifier'].lower().replace('arxiv:', '')\n",
    "    \n",
    "    folder = f'tmp_{paper_id}'\n",
    "\n",
    "    try:\n",
    "        if not os.path.isdir(folder):\n",
    "            folder = retrieve_document_source(f\"{paper_id}\", f'tmp_{paper_id}')\n",
    "        \n",
    "        try:\n",
    "            doc = latex.LatexDocument(folder, validation=validation)    \n",
    "        except AffiliationError as affilerror:\n",
    "            msg = f\"ArXiv:{paper_id:s} is not an MPIA paper... \" + str(affilerror)\n",
    "            failed.append((paper, \"affiliation error: \" + str(affilerror) ))\n",
    "            continue\n",
    "        \n",
    "        # Hack because sometimes author parsing does not work well\n",
    "        if (len(doc.authors) != len(paper['authors'])):\n",
    "            doc._authors = paper['authors']\n",
    "        else:\n",
    "            # highlight authors (FIXME: doc.highlight_authors)\n",
    "            # done on arxiv paper already\n",
    "            doc._authors = highlight_authors_in_list(\n",
    "                [mpia.get_initials(k) for k in doc.authors], \n",
    "                normed_mpia_authors, verbose=True)\n",
    "        if (doc.abstract) in (None, ''):\n",
    "            doc._abstract = paper['abstract']\n",
    "            \n",
    "        doc.comment = (get_markdown_badge(paper_id) + \n",
    "                       \"<mark>Appeared on: \" + paper['date'] + \"</mark> - \")\n",
    "        if paper['comments']:\n",
    "            doc.comment += \" _\" + paper['comments'] + \"_\"\n",
    "        \n",
    "        full_md = doc.generate_markdown_text()\n",
    "        \n",
    "        full_md += get_markdown_qrcode(paper_id)\n",
    "        \n",
    "        # replace citations\n",
    "        try:\n",
    "            bibdata = latex_bib.LatexBib.from_doc(doc)\n",
    "            full_md = latex_bib.replace_citations(full_md, bibdata)\n",
    "        except Exception as e:\n",
    "            print(e)\n",
    "        \n",
    "        documents.append((paper_id, full_md))\n",
    "    except Exception as e:\n",
    "        warnings.warn(latex.LatexWarning(f\"{paper_id:s} did not run properly\\n\" +\n",
    "                                         str(e)\n",
    "                                        ))\n",
    "        failed.append((paper, \"latex error \" + str(e)))"
   ]
  },
  {
   "cell_type": "markdown",
   "id": "2505a25c",
   "metadata": {
    "papermill": {
     "duration": 0.004336,
     "end_time": "2023-11-02T04:07:40.266235",
     "exception": false,
     "start_time": "2023-11-02T04:07:40.261899",
     "status": "completed"
    },
    "tags": []
   },
   "source": [
    "### Export the logs\n",
    "\n",
    "Throughout, we also keep track of the logs per paper. see `logs-{today date}.md` "
   ]
  },
  {
   "cell_type": "code",
   "execution_count": 5,
   "id": "d733828a",
   "metadata": {
    "execution": {
     "iopub.execute_input": "2023-11-02T04:07:40.276659Z",
     "iopub.status.busy": "2023-11-02T04:07:40.275911Z",
     "iopub.status.idle": "2023-11-02T04:07:40.290878Z",
     "shell.execute_reply": "2023-11-02T04:07:40.290236Z"
    },
    "papermill": {
     "duration": 0.021888,
     "end_time": "2023-11-02T04:07:40.292442",
     "exception": false,
     "start_time": "2023-11-02T04:07:40.270554",
     "status": "completed"
    },
    "scrolled": false,
    "tags": []
   },
   "outputs": [
    {
     "data": {
      "text/markdown": [
       "## Successful papers"
      ],
      "text/plain": [
       "<IPython.core.display.Markdown object>"
      ]
     },
     "metadata": {},
     "output_type": "display_data"
    },
    {
     "data": {
      "text/markdown": [
       "\n",
       "|||\n",
       "|---:|:---|\n",
       "| [![arXiv](https://img.shields.io/badge/arXiv-arXiv:2311.00374-b31b1b.svg)](https://arxiv.org/abs/arXiv:2311.00374) | **Estimating distances from parallaxes. VI: A method for inferring  distances and transverse velocities from parallaxes and proper motions  demonstrated on Gaia Data Release 3**  |\n",
       "|| <mark>C. Bailer-Jones</mark> |\n",
       "|*Appeared on*| *2023-11-02*|\n",
       "|*Comments*| *Accepted to AJ. Details on the velocity prior for each HEALpixel are available at this https URL*|\n",
       "|**Abstract**| The accuracy of stellar distances inferred purely from parallaxes degrades rapidly with distance. Proper motion measurements, when combined with some idea of typical velocities, provide independent information on stellar distances. Here I build a direction- and distance-dependent model of the distribution of stellar velocities in the Galaxy, then use this together with parallaxes and proper motions to infer kinegeometric distances and transverse velocities for stars in Gaia DR3. Using noisy simulations I assess the performance of the method and compare its accuracy to purely parallax-based (geometric) distances. Over the whole Gaia catalogue, kinegeometric distances are on average 1.25 times more accurate than geometric ones. This average masks a large variation in the relative performance, however. Kinegeometric distances are considerably better than geometric ones beyond several kpc, for example. On average, kinegeometric distances can be measured to an accuracy of 19% and velocities (sqrt[vra^2 + vdec^2]) to 16 km/s (median absolute deviations). In Gaia DR3, kinegeometric distances are smaller than geometric ones on average for distant stars, but the pattern is more complex in the bulge and disk. With the much more accurate proper motions expected in Gaia DR5, a further improvement in the distance accuracy by a factor of (only) 1.35 on average is predicted (with kinegeometric distances still 1.25 times more accurate than geometric ones). The improvement from proper motions is limited by the width of the velocity prior, in a way that the improvement from better parallaxes is not limited by the width of the distance prior. |"
      ],
      "text/plain": [
       "[arXiv:2311.00374] Estimating distances from parallaxes. VI: A method for inferring  distances and transverse velocities from parallaxes and proper motions  demonstrated on Gaia Data Release 3\n",
       "\t<mark>C. Bailer-Jones</mark>"
      ]
     },
     "metadata": {},
     "output_type": "display_data"
    },
    {
     "data": {
      "text/markdown": [
       "## Failed papers"
      ],
      "text/plain": [
       "<IPython.core.display.Markdown object>"
      ]
     },
     "metadata": {},
     "output_type": "display_data"
    },
    {
     "data": {
      "text/markdown": [
       "\n",
       "|||\n",
       "|---:|:---|\n",
       "| [![arXiv](https://img.shields.io/badge/arXiv-arXiv:2311.00186-b31b1b.svg)](https://arxiv.org/abs/arXiv:2311.00186) | **Image Restoration with Point Spread Function Regularization and Active  Learning**  |\n",
       "|| P. Jia, et al. -- incl., <mark>S. Li</mark> |\n",
       "|*Appeared on*| *2023-11-02*|\n",
       "|*Comments*| *To be published in the MNRAS*|\n",
       "|**Abstract**| Large-scale astronomical surveys can capture numerous images of celestial objects, including galaxies and nebulae. Analysing and processing these images can reveal intricate internal structures of these objects, allowing researchers to conduct comprehensive studies on their morphology, evolution, and physical properties. However, varying noise levels and point spread functions can hamper the accuracy and efficiency of information extraction from these images. To mitigate these effects, we propose a novel image restoration algorithm that connects a deep learning-based restoration algorithm with a high-fidelity telescope simulator. During the training stage, the simulator generates images with different levels of blur and noise to train the neural network based on the quality of restored images. After training, the neural network can directly restore images obtained by the telescope, as represented by the simulator. We have tested the algorithm using real and simulated observation data and have found that it effectively enhances fine structures in blurry images and increases the quality of observation images. This algorithm can be applied to large-scale sky survey data, such as data obtained by LSST, Euclid, and CSST, to further improve the accuracy and efficiency of information extraction, promoting advances in the field of astronomical research. |\n",
       "|<p style=\"color:green\"> **ERROR** </p>| <p style=\"color:green\">affiliation error: mpia.affiliation_verifications: 'Heidelberg' keyword not found.</p> |"
      ],
      "text/plain": [
       "<IPython.core.display.Markdown object>"
      ]
     },
     "metadata": {},
     "output_type": "display_data"
    },
    {
     "data": {
      "text/markdown": [
       "\n",
       "|||\n",
       "|---:|:---|\n",
       "| [![arXiv](https://img.shields.io/badge/arXiv-arXiv:2311.00477-b31b1b.svg)](https://arxiv.org/abs/arXiv:2311.00477) | **Massive star-formation in the hub-filament system of RCW 117**  |\n",
       "|| A. Seshadri, S. Vig, <mark>S. Ghosh</mark>, D. Ojha |\n",
       "|*Appeared on*| *2023-11-02*|\n",
       "|*Comments*| *15 pages, 11 figures, 6 tables, Accepted for publication in Monthly Notices of the Royal Astronomical Society (MNRAS)*|\n",
       "|**Abstract**| We present a multiwavelength investigation of the hub-filament system RCW 117 (IRAS 17059-4132), which shows intricate filamentary features in the far-infrared, mapped using Herschel images. We obtain the column density and dust temperature maps for the region using the Herschel images, and identify 88 cores and 12 filaments from the column density map of the region ($18'\\times18'$). We employ the ThrUMMS $^{13}$CO (J=1-0) data for probing the kinematics in RCW 117, and find velocity gradients ($\\sim 0.3-1$ km s$^{-1}$ pc$^{-1}$) with hints of matter inflow along the filamentary structures. Ionised gas emission from the associated HII region is examined using the Giant Metrewave Radio Telescope (GMRT) at 610 and 1280 MHz, and is found to be of extent $5 \\times 3$ pc$^2$ with intensity being brightest towards the hub. We estimate the peak electron density towards the hub to be $\\sim 750$ cm$^{-3}$. Thirty four Class 0/I young stellar objects (YSOs) have been identified in the region using the Spitzer GLIMPSE colour-colour diagram, with many lying along the filamentary structures. Based on the (i) presence of filamentary structures, (ii) distribution of cores across the region, with $\\sim39$% found along the filamentary structures, (iii) massive star-formation tracers in the hub, and (iv) the kinematics, we believe that global hierarchical collapse can plausibly explain the observed features in RCW 117. |\n",
       "|<p style=\"color:green\"> **ERROR** </p>| <p style=\"color:green\">affiliation error: mpia.affiliation_verifications: 'Heidelberg' keyword not found.</p> |"
      ],
      "text/plain": [
       "<IPython.core.display.Markdown object>"
      ]
     },
     "metadata": {},
     "output_type": "display_data"
    },
    {
     "data": {
      "text/markdown": [
       "\n",
       "|||\n",
       "|---:|:---|\n",
       "| [![arXiv](https://img.shields.io/badge/arXiv-arXiv:2311.00615-b31b1b.svg)](https://arxiv.org/abs/arXiv:2311.00615) | **2023 Astrophotonics Roadmap: pathways to realizing multi-functional  integrated astrophotonic instruments**  |\n",
       "|| N. Jovanovic, et al. -- incl., <mark>J. He</mark> |\n",
       "|*Appeared on*| *2023-11-02*|\n",
       "|*Comments*| *191 pages, 47 figures. This is the version of the article before peer review or editing, as submitted by an author to J. Phys. Photonics. IOP Publishing Ltd is not responsible for any errors or omissions in this version of the manuscript or any version derived from it. The Version of Record is available online at this https URL*|\n",
       "|**Abstract**| Photonics offer numerous functionalities that can be used to realize astrophotonic instruments. The most spectacular example to date is the ESO Gravity instrument at the Very Large Telescope in Chile. Integrated astrophotonic devices stand to offer critical advantages for instrument development, including extreme miniaturization, as well as integration, superior thermal and mechanical stabilization owing to the small footprint, and high replicability offering cost savings. Numerous astrophotonic technologies have been developed to address shortcomings of conventional instruments to date, including for example the development of photonic lanterns, complex aperiodic fiber Bragg gratings, complex beam combiners to enable long baseline interferometry, and laser frequency combs for high precision spectral calibration of spectrometers. Despite these successes, the facility implementation of photonic solutions in astronomical instrumentation is currently limited because of (1) low throughputs from coupling to fibers, coupling fibers to chips, propagation and bend losses, device losses, etc, (2) difficulties with scaling to large channel count devices needed for large bandwidths and high resolutions, and (3) efficient integration of photonics with detectors, to name a few. In this roadmap, we identify 24 areas that need further development. We outline the challenges and advances needed across those areas covering design tools, simulation capabilities, fabrication processes, the need for entirely new components, integration and hybridization and the characterization of devices. To realize these advances the astrophotonics community will have to work cooperatively with industrial partners who have more advanced manufacturing capabilities. With the advances described herein, multi-functional instruments will be realized leading to novel observing capabilities for both ground and space platforms. |\n",
       "|<p style=\"color:red\"> **ERROR** </p>| <p style=\"color:red\">latex error not a gzip file</p> |"
      ],
      "text/plain": [
       "<IPython.core.display.Markdown object>"
      ]
     },
     "metadata": {},
     "output_type": "display_data"
    }
   ],
   "source": [
    "import datetime\n",
    "today = str(datetime.date.today())\n",
    "logfile = f\"_build/html/logs/log-{today}.md\"\n",
    "\n",
    "\n",
    "with open(logfile, 'w') as logs:\n",
    "    # Success\n",
    "    logs.write(f'# Arxiv on Deck 2: Logs - {today}\\n\\n')\n",
    "    logs.write(\"\"\"* Arxiv had {0:,d} new papers\\n\"\"\".format(len(new_papers)))\n",
    "    logs.write(\"\"\"    * {0:,d} with possible author matches\\n\\n\"\"\".format(len(candidates)))\n",
    "    logs.write(\"## Sucessful papers\\n\\n\")\n",
    "    display(Markdown(\"## Successful papers\"))\n",
    "    success = [k[0] for k in documents]\n",
    "    for candid in candidates:\n",
    "        if candid['identifier'].split(':')[-1] in success:\n",
    "            display(candid)\n",
    "            logs.write(candid.generate_markdown_text() + '\\n\\n')\n",
    "\n",
    "    ## failed\n",
    "    logs.write(\"## Failed papers\\n\\n\")\n",
    "    display(Markdown(\"## Failed papers\"))\n",
    "    failed = sorted(failed, key=lambda x: x[1])\n",
    "    current_reason = \"\"\n",
    "    for paper, reason in failed:\n",
    "        if 'affiliation' in reason:\n",
    "            color = 'green'\n",
    "        else:\n",
    "            color = 'red'\n",
    "        data = Markdown(\n",
    "                paper.generate_markdown_text() + \n",
    "                f'\\n|<p style=\"color:{color:s}\"> **ERROR** </p>| <p style=\"color:{color:s}\">{reason:s}</p> |'\n",
    "               )\n",
    "        if reason != current_reason:\n",
    "            logs.write(f'### {reason:s} \\n\\n')\n",
    "            current_reason = reason\n",
    "        logs.write(data.data + '\\n\\n')\n",
    "        \n",
    "        # only display here the important errors (all in logs)\n",
    "        # if color in ('red',):\n",
    "        display(data)"
   ]
  },
  {
   "cell_type": "markdown",
   "id": "472d20ee",
   "metadata": {
    "papermill": {
     "duration": 0.005032,
     "end_time": "2023-11-02T04:07:40.302577",
     "exception": false,
     "start_time": "2023-11-02T04:07:40.297545",
     "status": "completed"
    },
    "tags": []
   },
   "source": [
    "## Export documents\n",
    "\n",
    "We now write the .md files and export relevant images"
   ]
  },
  {
   "cell_type": "code",
   "execution_count": 6,
   "id": "d426aed9",
   "metadata": {
    "execution": {
     "iopub.execute_input": "2023-11-02T04:07:40.314514Z",
     "iopub.status.busy": "2023-11-02T04:07:40.313693Z",
     "iopub.status.idle": "2023-11-02T04:07:40.321553Z",
     "shell.execute_reply": "2023-11-02T04:07:40.320922Z"
    },
    "papermill": {
     "duration": 0.015875,
     "end_time": "2023-11-02T04:07:40.323433",
     "exception": false,
     "start_time": "2023-11-02T04:07:40.307558",
     "status": "completed"
    },
    "tags": []
   },
   "outputs": [],
   "source": [
    "def export_markdown_summary(md: str, md_fname:str, directory: str):\n",
    "    \"\"\"Export MD document and associated relevant images\"\"\"\n",
    "    import os\n",
    "    import shutil\n",
    "    import re\n",
    "\n",
    "    if (os.path.exists(directory) and not os.path.isdir(directory)):\n",
    "        raise RuntimeError(f\"a non-directory file exists with name {directory:s}\")\n",
    "\n",
    "    if (not os.path.exists(directory)):\n",
    "        print(f\"creating directory {directory:s}\")\n",
    "        os.mkdir(directory)\n",
    "\n",
    "    fig_fnames = (re.compile(r'\\[Fig.*\\]\\((.*)\\)').findall(md) + \n",
    "                  re.compile(r'\\<img src=\"([^>\\s]*)\"[^>]*/>').findall(md))\n",
    "    for fname in fig_fnames:\n",
    "        if 'http' in fname:\n",
    "            # No need to copy online figures\n",
    "            continue\n",
    "        destdir = os.path.join(directory, os.path.dirname(fname))\n",
    "        destfname = os.path.join(destdir, os.path.basename(fname))\n",
    "        try:\n",
    "            os.makedirs(destdir)\n",
    "        except FileExistsError:\n",
    "            pass\n",
    "        shutil.copy(fname, destfname)\n",
    "    with open(os.path.join(directory, md_fname), 'w') as fout:\n",
    "        fout.write(md)\n",
    "    print(\"exported in \", os.path.join(directory, md_fname))\n",
    "    [print(\"    + \" + os.path.join(directory,fk)) for fk in fig_fnames]"
   ]
  },
  {
   "cell_type": "code",
   "execution_count": 7,
   "id": "014d04a4",
   "metadata": {
    "execution": {
     "iopub.execute_input": "2023-11-02T04:07:40.335217Z",
     "iopub.status.busy": "2023-11-02T04:07:40.334743Z",
     "iopub.status.idle": "2023-11-02T04:07:40.348952Z",
     "shell.execute_reply": "2023-11-02T04:07:40.348281Z"
    },
    "papermill": {
     "duration": 0.022049,
     "end_time": "2023-11-02T04:07:40.350651",
     "exception": false,
     "start_time": "2023-11-02T04:07:40.328602",
     "status": "completed"
    },
    "tags": []
   },
   "outputs": [
    {
     "name": "stdout",
     "output_type": "stream",
     "text": [
      "exported in  _build/html/2311.00374.md\n",
      "    + _build/html/tmp_2311.00374/./plots/veltotmeanprior_0pc_skyplot.png\n",
      "    + _build/html/tmp_2311.00374/./plots/veltotmeanprior_1000pc_skyplot.png\n",
      "    + _build/html/tmp_2311.00374/./plots/veltotmeanprior_2000pc_skyplot.png\n",
      "    + _build/html/tmp_2311.00374/./plots/veltotmeanprior_4000pc_skyplot.png\n",
      "    + _build/html/tmp_2311.00374/./plots/veltotmeanprior_6000pc_skyplot.png\n",
      "    + _build/html/tmp_2311.00374/./plots/veltotmeanprior_10000pc_skyplot.png\n",
      "    + _build/html/tmp_2311.00374/./plots/results_mock_cfs_rMedKinogeo_bias_vs_distance.png\n",
      "    + _build/html/tmp_2311.00374/./plots/results_mock_cfs_rMedKinogeo_scatter_vs_distance.png\n",
      "    + _build/html/tmp_2311.00374/./plots/results_cns_rMedGeo_skyplot.png\n",
      "    + _build/html/tmp_2311.00374/./plots/results_cns_rMedKinogeo_skyplot.png\n",
      "    + _build/html/tmp_2311.00374/./plots/results_cns_rMedGeo_rMedKinogeo_fracdiff_skyplot.png\n"
     ]
    }
   ],
   "source": [
    "for paper_id, md in documents:\n",
    "    export_markdown_summary(md, f\"{paper_id:s}.md\", '_build/html/')"
   ]
  },
  {
   "cell_type": "markdown",
   "id": "f087a0a7",
   "metadata": {
    "papermill": {
     "duration": 0.005114,
     "end_time": "2023-11-02T04:07:40.360942",
     "exception": false,
     "start_time": "2023-11-02T04:07:40.355828",
     "status": "completed"
    },
    "tags": []
   },
   "source": [
    "## Display the papers\n",
    "\n",
    "Not necessary but allows for a quick check."
   ]
  },
  {
   "cell_type": "code",
   "execution_count": 8,
   "id": "fd25f625",
   "metadata": {
    "execution": {
     "iopub.execute_input": "2023-11-02T04:07:40.372809Z",
     "iopub.status.busy": "2023-11-02T04:07:40.372229Z",
     "iopub.status.idle": "2023-11-02T04:07:40.377388Z",
     "shell.execute_reply": "2023-11-02T04:07:40.376743Z"
    },
    "papermill": {
     "duration": 0.012521,
     "end_time": "2023-11-02T04:07:40.378814",
     "exception": false,
     "start_time": "2023-11-02T04:07:40.366293",
     "status": "completed"
    },
    "scrolled": false,
    "tags": []
   },
   "outputs": [
    {
     "data": {
      "text/markdown": [
       "<div class=\"macros\" style=\"visibility:hidden;\">\n",
       "$\\newcommand{\\ensuremath}{}$\n",
       "$\\newcommand{\\xspace}{}$\n",
       "$\\newcommand{\\object}[1]{\\texttt{#1}}$\n",
       "$\\newcommand{\\farcs}{{.}''}$\n",
       "$\\newcommand{\\farcm}{{.}'}$\n",
       "$\\newcommand{\\arcsec}{''}$\n",
       "$\\newcommand{\\arcmin}{'}$\n",
       "$\\newcommand{\\ion}[2]{#1#2}$\n",
       "$\\newcommand{\\textsc}[1]{\\textrm{#1}}$\n",
       "$\\newcommand{\\hl}[1]{\\textrm{#1}}$\n",
       "$\\newcommand{\\footnote}[1]{}$\n",
       "$\\newcommand{\\sourceid}{\\texttt{source\\_id}}$\n",
       "$\\newcommand{\\deriv}{\\ensuremath{\\mathrm{d}}}$\n",
       "$\\newcommand{\\given}{\\ensuremath{\\hspace{0.05em}\\mid\\hspace{0.05em}}}$\n",
       "$\\newcommand{\\logten}{\\ensuremath{\\log_{\\rm 10}}}$\n",
       "$\\newcommand{\\deriv}{\\ensuremath{\\mathrm{d}}}$\n",
       "$\\newcommand{\\given}{\\ensuremath{\\hspace{0.01em}\\mid\\hspace{0.01em}}}$\n",
       "$\\newcommand{\\logten}{\\ensuremath{\\log_{\\rm 10}}}$\n",
       "$\\newcommand{\\gaia}{Gaia}$\n",
       "$\\newcommand{\\gdr}[1]{GDR{#1}}$\n",
       "$\\newcommand{\\gedr}[1]{GeDR{#1}}$\n",
       "$\\newcommand{\\mock}{GeDR3mock}$\n",
       "$\\newcommand{\\release}{GDR3}$\n",
       "$\\newcommand{\\gmag}{\\ensuremath{G}}$\n",
       "$\\newcommand{\\parallax}{\\ensuremath{\\varpi}}$\n",
       "$\\newcommand{\\parallaxzp}{\\ensuremath{\\varpi_{\\rm zp}}}$\n",
       "$\\newcommand{\\fpu}{\\ensuremath{\\sigparallax/\\parallax}}$\n",
       "$\\newcommand{\\propm}{\\ensuremath{\\mu}}$\n",
       "$\\newcommand{\\pmra}{\\ensuremath{\\mu_{\\alpha*}}}$\n",
       "$\\newcommand{\\pmdec}{\\ensuremath{\\mu_{\\delta}}}$\n",
       "$\\newcommand{\\sigparallax}{\\ensuremath{\\sigma_{\\varpi}}}$\n",
       "$\\newcommand{\\cov}{\\ensuremath{\\Sigma}}$\n",
       "$\\newcommand{\\glon}{\\ensuremath{l}}$\n",
       "$\\newcommand{\\glat}{\\ensuremath{b}}$\n",
       "$\\newcommand{\\hp}{\\ensuremath{p}}$\n",
       "$\\newcommand{\\dist}{\\ensuremath{r}}$\n",
       "$\\newcommand{\\rest}{\\ensuremath{\\dist_{\\rm est}}}$\n",
       "$\\newcommand{\\rlo}{\\ensuremath{\\dist_{\\rm lo}}}$\n",
       "$\\newcommand{\\rhi}{\\ensuremath{\\dist_{\\rm hi}}}$\n",
       "$\\newcommand{\\rmode}{\\ensuremath{\\dist_{\\rm mode}}}$\n",
       "$\\newcommand{\\rmed}{\\ensuremath{\\dist_{\\rm med}}}$\n",
       "$\\newcommand{\\rEDSDmode}{\\ensuremath{\\dist^{\\rm EDSD}_{\\rm mode}}}$\n",
       "$\\newcommand{\\rinit}{\\ensuremath{\\dist_{\\rm init}}}$\n",
       "$\\newcommand{\\rlen}{\\ensuremath{L}}$\n",
       "$\\newcommand{\\myalpha}{\\ensuremath{\\alpha}}$\n",
       "$\\newcommand{\\mybeta}{\\ensuremath{\\beta}}$\n",
       "$\\newcommand{\\vra}{\\ensuremath{v_{\\alpha*}}}$\n",
       "$\\newcommand{\\vdec}{\\ensuremath{v_{\\delta}}}$\n",
       "$\\newcommand{◦ee}{\\ensuremath{^\\circ}}$\n",
       "$\\newcommand{\\kms}{\\ensuremath{\\mathrm{km} \\mathrm{s}^{-1}}}$\n",
       "$\\newcommand{\\pc}{\\ensuremath{\\mathrm{pc}}}$\n",
       "$\\newcommand{\\kpc}{\\ensuremath{\\mathrm{kpc}}}$\n",
       "$\\newcommand{\\mas}{\\ensuremath{\\mathrm{mas}}}$\n",
       "$\\newcommand{\\maspyr}{\\ensuremath{\\mathrm{mas \\mathrm{yr}^{-1}}}}$\n",
       "$\\newcommand{\\red}{\\textcolor{red}}$</div>\n",
       "\n",
       "\n",
       "\n",
       "<div id=\"title\">\n",
       "\n",
       "# Estimating distances from parallaxes. VI:$\\A method for inferring distances and transverse velocities from parallaxes and proper motions$\\\\demonstrated on Gaia Data Release 3\n",
       "\n",
       "</div>\n",
       "<div id=\"comments\">\n",
       "\n",
       "[![arXiv](https://img.shields.io/badge/arXiv-2311.00374-b31b1b.svg)](https://arxiv.org/abs/2311.00374)<mark>Appeared on: 2023-11-02</mark> -  _Accepted to AJ. Details on the velocity prior for each HEALpixel are available at this https URL_\n",
       "\n",
       "</div>\n",
       "<div id=\"authors\">\n",
       "\n",
       "<mark>C. Bailer-Jones</mark>\n",
       "\n",
       "</div>\n",
       "<div id=\"abstract\">\n",
       "\n",
       "**Abstract:** The accuracy of stellar distances inferred purely from parallaxes degrades rapidly with distance.Proper motion measurements, when combined with some idea of typical velocities, provide independent information on stellar distances.  Here I build a direction- and distance-dependent model of the distribution of stellar velocities in the Galaxy, then use this together with parallaxes and proper motions to infer kinegeometric distances and transverse velocities for stars in $\\gaia$ DR3.  Using noisy simulations I assess the performance of the method and compare its accuracy to purely parallax-based (geometric) distances. Over the whole $\\gaia$ catalogue, kinegeometric distances are on average 1.25 times  more accurate than geometric ones. This average masks a large variation in the relative performance, however. Kinegeometric distances are considerably better than geometric ones  beyond several $\\kpc$ , for example.    On average, kinegeometric distances can be measured to an accuracy of 19 \\% and velocities( $\\sqrt{\\vra^2 + \\vdec^2}$ )  to 16 $\\kms$ (median absolute deviations).In $\\gaia$ DR3, kinegeometric distances are smaller than geometric ones on average for distant stars, but the pattern is more complex in the bulge and disk.With the much more accurate proper motions expected in $\\gaia$ DR5, a further improvement in the distance accuracy by a factor of (only) 1.35 on average is predicted(with kinegeometric distances still 1.25 times more accurate than geometric ones).The improvement attained from proper motions is limited by the width of the velocity prior, in a way that the improvement from better parallaxes is not limited by the width of the distance prior.\n",
       "\n",
       "</div>\n",
       "\n",
       "<div id=\"div_fig1\">\n",
       "\n",
       "<img src=\"tmp_2311.00374/./plots/veltotmeanprior_0pc_skyplot.png\" alt=\"Fig13.1\" width=\"16%\"/><img src=\"tmp_2311.00374/./plots/veltotmeanprior_1000pc_skyplot.png\" alt=\"Fig13.2\" width=\"16%\"/><img src=\"tmp_2311.00374/./plots/veltotmeanprior_2000pc_skyplot.png\" alt=\"Fig13.3\" width=\"16%\"/><img src=\"tmp_2311.00374/./plots/veltotmeanprior_4000pc_skyplot.png\" alt=\"Fig13.4\" width=\"16%\"/><img src=\"tmp_2311.00374/./plots/veltotmeanprior_6000pc_skyplot.png\" alt=\"Fig13.5\" width=\"16%\"/><img src=\"tmp_2311.00374/./plots/veltotmeanprior_10000pc_skyplot.png\" alt=\"Fig13.6\" width=\"16%\"/>\n",
       "\n",
       "**Figure 13. -** Variation of the mean of the velocity prior over the Galactic sky at six different distances. The quantity shown\n",
       "    is $\\sqrt{$\\vra$^2 + $\\vdec$^2}$, where $\\vra$ and $\\vdec$ are the means of the two components of the velocity prior at the specified distance in each HEALpixel. In each distance slice the colour bar covers the full range of velocities plotted, and is different for each slice.\n",
       " (*fig:veltotmeanprior_skyplot*)\n",
       "\n",
       "</div>\n",
       "<div id=\"div_fig2\">\n",
       "\n",
       "<img src=\"tmp_2311.00374/./plots/results_mock_cfs_rMedKinogeo_bias_vs_distance.png\" alt=\"Fig16.1\" width=\"50%\"/><img src=\"tmp_2311.00374/./plots/results_mock_cfs_rMedKinogeo_scatter_vs_distance.png\" alt=\"Fig16.2\" width=\"50%\"/>\n",
       "\n",
       "**Figure 16. -** Performance of the kinegeometric distance estimate (median of the posterior) as a function of distance for the constant fraction sample in the mock catalogue. The left panel shows the fractional bias in the estimates, the right panel the fractional scatter. The colour scale shows the density of stars on a log scale. The solid orange line shows the median bias or scatter at each distance, the dotted lines are the 5th and 95th percentiles. The blue lines show the same metrics for the geometric distances for comparison.\n",
       " (*fig:results_mock_rMedKinogeo_bias_scatter_vs_distance*)\n",
       "\n",
       "</div>\n",
       "<div id=\"div_fig3\">\n",
       "\n",
       "<img src=\"tmp_2311.00374/./plots/results_cns_rMedGeo_skyplot.png\" alt=\"Fig5.1\" width=\"33%\"/><img src=\"tmp_2311.00374/./plots/results_cns_rMedKinogeo_skyplot.png\" alt=\"Fig5.2\" width=\"33%\"/><img src=\"tmp_2311.00374/./plots/results_cns_rMedGeo_rMedKinogeo_fracdiff_skyplot.png\" alt=\"Fig5.3\" width=\"33%\"/>\n",
       "\n",
       "**Figure 5. -** Median distance per HEALpixel for the constant number sample in $\\release$: Geometric (top) and kinegeometric (middle).\n",
       "  The linear colour bar spans the full common range. The bottom panel shows\n",
       "  the median fractional differences between these (computed on the individual stars). It\n",
       "uses a bilinear colour bar with white at zero and diverges on different linear scales to the maximum negative and positive differences.\n",
       " (*fig:results_rMedGeo_rMedKinogeo_skyplot*)\n",
       "\n",
       "</div><div id=\"qrcode\"><img src=https://api.qrserver.com/v1/create-qr-code/?size=100x100&data=\"https://arxiv.org/abs/2311.00374\"></div>"
      ],
      "text/plain": [
       "<IPython.core.display.Markdown object>"
      ]
     },
     "metadata": {},
     "output_type": "display_data"
    }
   ],
   "source": [
    "[display(Markdown(k[1])) for k in documents];"
   ]
  },
  {
   "cell_type": "markdown",
   "id": "873873a4",
   "metadata": {
    "papermill": {
     "duration": 0.005458,
     "end_time": "2023-11-02T04:07:40.389818",
     "exception": false,
     "start_time": "2023-11-02T04:07:40.384360",
     "status": "completed"
    },
    "tags": []
   },
   "source": [
    "# Create HTML index"
   ]
  },
  {
   "cell_type": "code",
   "execution_count": 9,
   "id": "cf665672",
   "metadata": {
    "execution": {
     "iopub.execute_input": "2023-11-02T04:07:40.402248Z",
     "iopub.status.busy": "2023-11-02T04:07:40.401785Z",
     "iopub.status.idle": "2023-11-02T04:07:40.412865Z",
     "shell.execute_reply": "2023-11-02T04:07:40.412268Z"
    },
    "papermill": {
     "duration": 0.019077,
     "end_time": "2023-11-02T04:07:40.414372",
     "exception": false,
     "start_time": "2023-11-02T04:07:40.395295",
     "status": "completed"
    },
    "tags": []
   },
   "outputs": [
    {
     "name": "stdout",
     "output_type": "stream",
     "text": [
      "315  publications files modified in the last 7 days.\n"
     ]
    }
   ],
   "source": [
    "from datetime import datetime, timedelta, timezone\n",
    "from glob import glob\n",
    "import os\n",
    "\n",
    "files = glob('_build/html/*.md')\n",
    "days = 7\n",
    "now = datetime.today()\n",
    "res = []\n",
    "for fk in files:\n",
    "    stat_result = os.stat(fk).st_ctime\n",
    "    modified = datetime.fromtimestamp(stat_result, tz=timezone.utc).replace(tzinfo=None)\n",
    "    delta = now.today() - modified\n",
    "    if delta <= timedelta(days=days):\n",
    "        res.append((delta.seconds, fk))\n",
    "res = [k[1] for k in reversed(sorted(res, key=lambda x:x[1]))]\n",
    "npub = len(res)\n",
    "print(len(res), f\" publications files modified in the last {days:d} days.\")\n",
    "# [ print('\\t', k) for k in res ];"
   ]
  },
  {
   "cell_type": "code",
   "execution_count": 10,
   "id": "015de740",
   "metadata": {
    "execution": {
     "iopub.execute_input": "2023-11-02T04:07:40.427258Z",
     "iopub.status.busy": "2023-11-02T04:07:40.426647Z",
     "iopub.status.idle": "2023-11-02T04:07:40.447814Z",
     "shell.execute_reply": "2023-11-02T04:07:40.447157Z"
    },
    "papermill": {
     "duration": 0.029339,
     "end_time": "2023-11-02T04:07:40.449404",
     "exception": false,
     "start_time": "2023-11-02T04:07:40.420065",
     "status": "completed"
    },
    "tags": []
   },
   "outputs": [
    {
     "name": "stdout",
     "output_type": "stream",
     "text": [
      "7  publications in the last 7 days.\n"
     ]
    }
   ],
   "source": [
    "import datetime\n",
    "from glob import glob\n",
    "\n",
    "def get_last_n_days(lst, days=1):\n",
    "    \"\"\" Get the documents from the last n days \"\"\"\n",
    "    sorted_lst = sorted(lst, key=lambda x: x[1], reverse=True)\n",
    "    for fname, date in sorted_lst:\n",
    "        if date >= str(datetime.date.today() - datetime.timedelta(days=days)):\n",
    "            yield fname\n",
    "\n",
    "def extract_appearance_dates(lst_file):\n",
    "    dates = []\n",
    "\n",
    "    def get_date(line):\n",
    "        return line\\\n",
    "            .split('Appeared on:')[-1]\\\n",
    "            .split('</mark>')[0].strip()\n",
    "\n",
    "    for fname in lst:\n",
    "        with open(fname, 'r') as f:\n",
    "            found_date = False\n",
    "            for line in f:\n",
    "                if not found_date:\n",
    "                    if \"Appeared on\" in line:\n",
    "                        found_date = True\n",
    "                        dates.append((fname, get_date(line)))\n",
    "                else:\n",
    "                    break\n",
    "    return dates\n",
    "\n",
    "from glob import glob\n",
    "lst = glob('_build/html/*md')\n",
    "days = 7\n",
    "dates = extract_appearance_dates(lst)\n",
    "res = list(get_last_n_days(dates, days))\n",
    "npub = len(res)\n",
    "print(len(res), f\" publications in the last {days:d} days.\")"
   ]
  },
  {
   "cell_type": "code",
   "execution_count": 11,
   "id": "52ca0208",
   "metadata": {
    "execution": {
     "iopub.execute_input": "2023-11-02T04:07:40.462300Z",
     "iopub.status.busy": "2023-11-02T04:07:40.461836Z",
     "iopub.status.idle": "2023-11-02T04:07:40.467465Z",
     "shell.execute_reply": "2023-11-02T04:07:40.466834Z"
    },
    "papermill": {
     "duration": 0.013753,
     "end_time": "2023-11-02T04:07:40.468924",
     "exception": false,
     "start_time": "2023-11-02T04:07:40.455171",
     "status": "completed"
    },
    "scrolled": false,
    "tags": []
   },
   "outputs": [],
   "source": [
    "def create_carousel(npub=4):\n",
    "    \"\"\" Generate the HTML code for a carousel with `npub` slides \"\"\"\n",
    "    carousel = [\"\"\"  <div class=\"carousel\" \"\"\",\n",
    "                \"\"\"       data-flickity='{ \"autoPlay\": 10000, \"adaptiveHeight\": true, \"resize\": true, \"wrapAround\": true, \"pauseAutoPlayOnHover\": true, \"groupCells\": 1 }' id=\"asyncTypeset\">\"\"\"\n",
    "                ]\n",
    "    \n",
    "    item_str = \"\"\"    <div class=\"carousel-cell\"> <div id=\"slide{k}\" class=\"md_view\">Content {k}</div> </div>\"\"\"\n",
    "    for k in range(1, npub + 1):\n",
    "        carousel.append(item_str.format(k=k))\n",
    "    carousel.append(\"  </div>\")\n",
    "    return '\\n'.join(carousel)\n",
    "\n",
    "def create_grid(npub=4):\n",
    "    \"\"\" Generate the HTML code for a flat grid with `npub` slides \"\"\"\n",
    "    grid = [\"\"\"  <div class=\"grid\"> \"\"\",\n",
    "                ]\n",
    "    \n",
    "    item_str = \"\"\"    <div class=\"grid-item\"> <div id=\"slide{k}\" class=\"md_view\">Content {k}</div> </div>\"\"\"\n",
    "    for k in range(1, npub + 1):\n",
    "        grid.append(item_str.format(k=k))\n",
    "    grid.append(\"  </div>\")\n",
    "    return '\\n'.join(grid)"
   ]
  },
  {
   "cell_type": "code",
   "execution_count": 12,
   "id": "a6eac5b6",
   "metadata": {
    "execution": {
     "iopub.execute_input": "2023-11-02T04:07:40.481996Z",
     "iopub.status.busy": "2023-11-02T04:07:40.481542Z",
     "iopub.status.idle": "2023-11-02T04:07:40.487183Z",
     "shell.execute_reply": "2023-11-02T04:07:40.486544Z"
    },
    "papermill": {
     "duration": 0.013782,
     "end_time": "2023-11-02T04:07:40.488670",
     "exception": false,
     "start_time": "2023-11-02T04:07:40.474888",
     "status": "completed"
    },
    "scrolled": false,
    "tags": []
   },
   "outputs": [],
   "source": [
    "carousel = create_carousel(npub)\n",
    "docs = ', '.join(['\"{0:s}\"'.format(k.split('/')[-1]) for k in res])\n",
    "slides = ', '.join([f'\"slide{k}\"' for k in range(1, npub + 1)])\n",
    "\n",
    "with open(\"daily_template.html\", \"r\") as tpl:\n",
    "    page = tpl.read()\n",
    "    page = page.replace(\"{%-- carousel:s --%}\", carousel)\\\n",
    "               .replace(\"{%-- suptitle:s --%}\",  \"7-day archives\" )\\\n",
    "               .replace(\"{%-- docs:s --%}\", docs)\\\n",
    "               .replace(\"{%-- slides:s --%}\", slides)\n",
    "    \n",
    "with open(\"_build/html/index_7days.html\", 'w') as fout:\n",
    "    fout.write(page)"
   ]
  },
  {
   "cell_type": "code",
   "execution_count": 13,
   "id": "adc1a1ec",
   "metadata": {
    "execution": {
     "iopub.execute_input": "2023-11-02T04:07:40.501507Z",
     "iopub.status.busy": "2023-11-02T04:07:40.500919Z",
     "iopub.status.idle": "2023-11-02T04:07:40.508441Z",
     "shell.execute_reply": "2023-11-02T04:07:40.507812Z"
    },
    "papermill": {
     "duration": 0.015562,
     "end_time": "2023-11-02T04:07:40.509956",
     "exception": false,
     "start_time": "2023-11-02T04:07:40.494394",
     "status": "completed"
    },
    "tags": []
   },
   "outputs": [
    {
     "name": "stdout",
     "output_type": "stream",
     "text": [
      "2  publications in the last day.\n"
     ]
    }
   ],
   "source": [
    "# redo for today\n",
    "days = 1\n",
    "res = list(get_last_n_days(dates, days))\n",
    "npub = len(res)\n",
    "print(len(res), f\" publications in the last day.\")\n",
    "\n",
    "carousel = create_carousel(npub)\n",
    "docs = ', '.join(['\"{0:s}\"'.format(k.split('/')[-1]) for k in res])\n",
    "slides = ', '.join([f'\"slide{k}\"' for k in range(1, npub + 1)])\n",
    "\n",
    "with open(\"daily_template.html\", \"r\") as tpl:\n",
    "    page = tpl.read()\n",
    "    page = page.replace(\"{%-- carousel:s --%}\", carousel)\\\n",
    "               .replace(\"{%-- suptitle:s --%}\",  \"Daily\" )\\\n",
    "               .replace(\"{%-- docs:s --%}\", docs)\\\n",
    "               .replace(\"{%-- slides:s --%}\", slides)\n",
    "    \n",
    "# print(carousel, docs, slides)\n",
    "# print(page)\n",
    "with open(\"_build/html/index_daily.html\", 'w') as fout:\n",
    "    fout.write(page)"
   ]
  },
  {
   "cell_type": "code",
   "execution_count": 14,
   "id": "00eece82",
   "metadata": {
    "execution": {
     "iopub.execute_input": "2023-11-02T04:07:40.523045Z",
     "iopub.status.busy": "2023-11-02T04:07:40.522576Z",
     "iopub.status.idle": "2023-11-02T04:07:40.529886Z",
     "shell.execute_reply": "2023-11-02T04:07:40.529277Z"
    },
    "papermill": {
     "duration": 0.015598,
     "end_time": "2023-11-02T04:07:40.531379",
     "exception": false,
     "start_time": "2023-11-02T04:07:40.515781",
     "status": "completed"
    },
    "scrolled": false,
    "tags": []
   },
   "outputs": [
    {
     "name": "stdout",
     "output_type": "stream",
     "text": [
      "6  6 publications selected.\n"
     ]
    }
   ],
   "source": [
    "# Create the flat grid of the last N papers (fixed number regardless of dates)\n",
    "from itertools import islice \n",
    "\n",
    "npub = 6\n",
    "res = [k[0] for k in (islice(reversed(sorted(dates, key=lambda x: x[1])), 6))]\n",
    "print(len(res), f\" {npub} publications selected.\")\n",
    "\n",
    "grid = create_grid(npub)\n",
    "docs = ', '.join(['\"{0:s}\"'.format(k.split('/')[-1]) for k in res])\n",
    "slides = ', '.join([f'\"slide{k}\"' for k in range(1, npub + 1)])\n",
    "\n",
    "with open(\"grid_template.html\", \"r\") as tpl:\n",
    "    page = tpl.read()\n",
    "    page = page.replace(\"{%-- grid-content:s --%}\", grid)\\\n",
    "               .replace(\"{%-- suptitle:s --%}\",  f\"Last {npub:,d} papers\" )\\\n",
    "               .replace(\"{%-- docs:s --%}\", docs)\\\n",
    "               .replace(\"{%-- slides:s --%}\", slides)\n",
    "    \n",
    "# print(grid, docs, slides)\n",
    "# print(page)\n",
    "with open(\"_build/html/index_npub_grid.html\", 'w') as fout:\n",
    "    fout.write(page)"
   ]
  }
 ],
 "metadata": {
  "kernelspec": {
   "display_name": "Python 3 (ipykernel)",
   "language": "python",
   "name": "python3"
  },
  "language_info": {
   "codemirror_mode": {
    "name": "ipython",
    "version": 3
   },
   "file_extension": ".py",
   "mimetype": "text/x-python",
   "name": "python",
   "nbconvert_exporter": "python",
   "pygments_lexer": "ipython3",
   "version": "3.9.18"
  },
  "papermill": {
   "default_parameters": {},
   "duration": 82.34363,
   "end_time": "2023-11-02T04:07:40.753971",
   "environment_variables": {},
   "exception": null,
   "input_path": "MPIA daily digest.ipynb",
   "output_path": "log.ipynb",
   "parameters": {},
   "start_time": "2023-11-02T04:06:18.410341",
   "version": "2.5.0"
  },
  "vscode": {
   "interpreter": {
    "hash": "aee8b7b246df8f9039afb4144a1f6fd8d2ca17a180786b69acc140d282b71a49"
   }
  },
  "widgets": {
   "application/vnd.jupyter.widget-state+json": {
    "state": {
     "4d847072855f44b9964213832e63d412": {
      "model_module": "@jupyter-widgets/controls",
      "model_module_version": "2.0.0",
      "model_name": "HTMLModel",
      "state": {
       "_dom_classes": [],
       "_model_module": "@jupyter-widgets/controls",
       "_model_module_version": "2.0.0",
       "_model_name": "HTMLModel",
       "_view_count": null,
       "_view_module": "@jupyter-widgets/controls",
       "_view_module_version": "2.0.0",
       "_view_name": "HTMLView",
       "description": "",
       "description_allow_html": false,
       "layout": "IPY_MODEL_c98dc454c0104bc68997e5d2369965c5",
       "placeholder": "​",
       "style": "IPY_MODEL_59a76ee4a4074183b99dea7baa08cc27",
       "tabbable": null,
       "tooltip": null,
       "value": " 4/4 [00:58&lt;00:00, 11.61s/it]"
      }
     },
     "53bf80038b8249e2bb93541d166eba01": {
      "model_module": "@jupyter-widgets/base",
      "model_module_version": "2.0.0",
      "model_name": "LayoutModel",
      "state": {
       "_model_module": "@jupyter-widgets/base",
       "_model_module_version": "2.0.0",
       "_model_name": "LayoutModel",
       "_view_count": null,
       "_view_module": "@jupyter-widgets/base",
       "_view_module_version": "2.0.0",
       "_view_name": "LayoutView",
       "align_content": null,
       "align_items": null,
       "align_self": null,
       "border_bottom": null,
       "border_left": null,
       "border_right": null,
       "border_top": null,
       "bottom": null,
       "display": null,
       "flex": null,
       "flex_flow": null,
       "grid_area": null,
       "grid_auto_columns": null,
       "grid_auto_flow": null,
       "grid_auto_rows": null,
       "grid_column": null,
       "grid_gap": null,
       "grid_row": null,
       "grid_template_areas": null,
       "grid_template_columns": null,
       "grid_template_rows": null,
       "height": null,
       "justify_content": null,
       "justify_items": null,
       "left": null,
       "margin": null,
       "max_height": null,
       "max_width": null,
       "min_height": null,
       "min_width": null,
       "object_fit": null,
       "object_position": null,
       "order": null,
       "overflow": null,
       "padding": null,
       "right": null,
       "top": null,
       "visibility": null,
       "width": null
      }
     },
     "59a57dda4d7f4eeab3b0e063c7a468e9": {
      "model_module": "@jupyter-widgets/controls",
      "model_module_version": "2.0.0",
      "model_name": "HTMLStyleModel",
      "state": {
       "_model_module": "@jupyter-widgets/controls",
       "_model_module_version": "2.0.0",
       "_model_name": "HTMLStyleModel",
       "_view_count": null,
       "_view_module": "@jupyter-widgets/base",
       "_view_module_version": "2.0.0",
       "_view_name": "StyleView",
       "background": null,
       "description_width": "",
       "font_size": null,
       "text_color": null
      }
     },
     "59a76ee4a4074183b99dea7baa08cc27": {
      "model_module": "@jupyter-widgets/controls",
      "model_module_version": "2.0.0",
      "model_name": "HTMLStyleModel",
      "state": {
       "_model_module": "@jupyter-widgets/controls",
       "_model_module_version": "2.0.0",
       "_model_name": "HTMLStyleModel",
       "_view_count": null,
       "_view_module": "@jupyter-widgets/base",
       "_view_module_version": "2.0.0",
       "_view_name": "StyleView",
       "background": null,
       "description_width": "",
       "font_size": null,
       "text_color": null
      }
     },
     "668eccf50e5d4216bc922963c37424a7": {
      "model_module": "@jupyter-widgets/base",
      "model_module_version": "2.0.0",
      "model_name": "LayoutModel",
      "state": {
       "_model_module": "@jupyter-widgets/base",
       "_model_module_version": "2.0.0",
       "_model_name": "LayoutModel",
       "_view_count": null,
       "_view_module": "@jupyter-widgets/base",
       "_view_module_version": "2.0.0",
       "_view_name": "LayoutView",
       "align_content": null,
       "align_items": null,
       "align_self": null,
       "border_bottom": null,
       "border_left": null,
       "border_right": null,
       "border_top": null,
       "bottom": null,
       "display": null,
       "flex": null,
       "flex_flow": null,
       "grid_area": null,
       "grid_auto_columns": null,
       "grid_auto_flow": null,
       "grid_auto_rows": null,
       "grid_column": null,
       "grid_gap": null,
       "grid_row": null,
       "grid_template_areas": null,
       "grid_template_columns": null,
       "grid_template_rows": null,
       "height": null,
       "justify_content": null,
       "justify_items": null,
       "left": null,
       "margin": null,
       "max_height": null,
       "max_width": null,
       "min_height": null,
       "min_width": null,
       "object_fit": null,
       "object_position": null,
       "order": null,
       "overflow": null,
       "padding": null,
       "right": null,
       "top": null,
       "visibility": null,
       "width": null
      }
     },
     "b1e4968343ac4345af6d67d50c1bc9b3": {
      "model_module": "@jupyter-widgets/base",
      "model_module_version": "2.0.0",
      "model_name": "LayoutModel",
      "state": {
       "_model_module": "@jupyter-widgets/base",
       "_model_module_version": "2.0.0",
       "_model_name": "LayoutModel",
       "_view_count": null,
       "_view_module": "@jupyter-widgets/base",
       "_view_module_version": "2.0.0",
       "_view_name": "LayoutView",
       "align_content": null,
       "align_items": null,
       "align_self": null,
       "border_bottom": null,
       "border_left": null,
       "border_right": null,
       "border_top": null,
       "bottom": null,
       "display": null,
       "flex": null,
       "flex_flow": null,
       "grid_area": null,
       "grid_auto_columns": null,
       "grid_auto_flow": null,
       "grid_auto_rows": null,
       "grid_column": null,
       "grid_gap": null,
       "grid_row": null,
       "grid_template_areas": null,
       "grid_template_columns": null,
       "grid_template_rows": null,
       "height": null,
       "justify_content": null,
       "justify_items": null,
       "left": null,
       "margin": null,
       "max_height": null,
       "max_width": null,
       "min_height": null,
       "min_width": null,
       "object_fit": null,
       "object_position": null,
       "order": null,
       "overflow": null,
       "padding": null,
       "right": null,
       "top": null,
       "visibility": null,
       "width": null
      }
     },
     "c7ffcbc12a6a45d3907114a7e564240d": {
      "model_module": "@jupyter-widgets/controls",
      "model_module_version": "2.0.0",
      "model_name": "ProgressStyleModel",
      "state": {
       "_model_module": "@jupyter-widgets/controls",
       "_model_module_version": "2.0.0",
       "_model_name": "ProgressStyleModel",
       "_view_count": null,
       "_view_module": "@jupyter-widgets/base",
       "_view_module_version": "2.0.0",
       "_view_name": "StyleView",
       "bar_color": null,
       "description_width": ""
      }
     },
     "c98dc454c0104bc68997e5d2369965c5": {
      "model_module": "@jupyter-widgets/base",
      "model_module_version": "2.0.0",
      "model_name": "LayoutModel",
      "state": {
       "_model_module": "@jupyter-widgets/base",
       "_model_module_version": "2.0.0",
       "_model_name": "LayoutModel",
       "_view_count": null,
       "_view_module": "@jupyter-widgets/base",
       "_view_module_version": "2.0.0",
       "_view_name": "LayoutView",
       "align_content": null,
       "align_items": null,
       "align_self": null,
       "border_bottom": null,
       "border_left": null,
       "border_right": null,
       "border_top": null,
       "bottom": null,
       "display": null,
       "flex": null,
       "flex_flow": null,
       "grid_area": null,
       "grid_auto_columns": null,
       "grid_auto_flow": null,
       "grid_auto_rows": null,
       "grid_column": null,
       "grid_gap": null,
       "grid_row": null,
       "grid_template_areas": null,
       "grid_template_columns": null,
       "grid_template_rows": null,
       "height": null,
       "justify_content": null,
       "justify_items": null,
       "left": null,
       "margin": null,
       "max_height": null,
       "max_width": null,
       "min_height": null,
       "min_width": null,
       "object_fit": null,
       "object_position": null,
       "order": null,
       "overflow": null,
       "padding": null,
       "right": null,
       "top": null,
       "visibility": null,
       "width": null
      }
     },
     "ec52ad35381e48bea0c89a7a1e5647e3": {
      "model_module": "@jupyter-widgets/controls",
      "model_module_version": "2.0.0",
      "model_name": "HBoxModel",
      "state": {
       "_dom_classes": [],
       "_model_module": "@jupyter-widgets/controls",
       "_model_module_version": "2.0.0",
       "_model_name": "HBoxModel",
       "_view_count": null,
       "_view_module": "@jupyter-widgets/controls",
       "_view_module_version": "2.0.0",
       "_view_name": "HBoxView",
       "box_style": "",
       "children": [
        "IPY_MODEL_f0f5888c8ed749d0be0eab1e812688e2",
        "IPY_MODEL_f7587b8eb8b04a7384d446f921764ab4",
        "IPY_MODEL_4d847072855f44b9964213832e63d412"
       ],
       "layout": "IPY_MODEL_53bf80038b8249e2bb93541d166eba01",
       "tabbable": null,
       "tooltip": null
      }
     },
     "f0f5888c8ed749d0be0eab1e812688e2": {
      "model_module": "@jupyter-widgets/controls",
      "model_module_version": "2.0.0",
      "model_name": "HTMLModel",
      "state": {
       "_dom_classes": [],
       "_model_module": "@jupyter-widgets/controls",
       "_model_module_version": "2.0.0",
       "_model_name": "HTMLModel",
       "_view_count": null,
       "_view_module": "@jupyter-widgets/controls",
       "_view_module_version": "2.0.0",
       "_view_name": "HTMLView",
       "description": "",
       "description_allow_html": false,
       "layout": "IPY_MODEL_668eccf50e5d4216bc922963c37424a7",
       "placeholder": "​",
       "style": "IPY_MODEL_59a57dda4d7f4eeab3b0e063c7a468e9",
       "tabbable": null,
       "tooltip": null,
       "value": "100%"
      }
     },
     "f7587b8eb8b04a7384d446f921764ab4": {
      "model_module": "@jupyter-widgets/controls",
      "model_module_version": "2.0.0",
      "model_name": "FloatProgressModel",
      "state": {
       "_dom_classes": [],
       "_model_module": "@jupyter-widgets/controls",
       "_model_module_version": "2.0.0",
       "_model_name": "FloatProgressModel",
       "_view_count": null,
       "_view_module": "@jupyter-widgets/controls",
       "_view_module_version": "2.0.0",
       "_view_name": "ProgressView",
       "bar_style": "success",
       "description": "",
       "description_allow_html": false,
       "layout": "IPY_MODEL_b1e4968343ac4345af6d67d50c1bc9b3",
       "max": 4.0,
       "min": 0.0,
       "orientation": "horizontal",
       "style": "IPY_MODEL_c7ffcbc12a6a45d3907114a7e564240d",
       "tabbable": null,
       "tooltip": null,
       "value": 4.0
      }
     }
    },
    "version_major": 2,
    "version_minor": 0
   }
  }
 },
 "nbformat": 4,
 "nbformat_minor": 5
}