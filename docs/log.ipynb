{
 "cells": [
  {
   "cell_type": "markdown",
   "id": "92bcb855",
   "metadata": {
    "papermill": {
     "duration": 0.003791,
     "end_time": "2025-06-16T04:24:26.094123",
     "exception": false,
     "start_time": "2025-06-16T04:24:26.090332",
     "status": "completed"
    },
    "tags": []
   },
   "source": [
    "# MPIA Arxiv on Deck 2\n",
    "\n",
    "Contains the steps to produce the paper extractions."
   ]
  },
  {
   "cell_type": "code",
   "execution_count": 1,
   "id": "3a0d6e11",
   "metadata": {
    "execution": {
     "iopub.execute_input": "2025-06-16T04:24:26.101884Z",
     "iopub.status.busy": "2025-06-16T04:24:26.101375Z",
     "iopub.status.idle": "2025-06-16T04:24:26.689618Z",
     "shell.execute_reply": "2025-06-16T04:24:26.688931Z"
    },
    "papermill": {
     "duration": 0.593533,
     "end_time": "2025-06-16T04:24:26.690972",
     "exception": false,
     "start_time": "2025-06-16T04:24:26.097439",
     "status": "completed"
    },
    "tags": []
   },
   "outputs": [],
   "source": [
    "# Imports\n",
    "import os\n",
    "from IPython.display import Markdown, display\n",
    "from tqdm.notebook import tqdm\n",
    "import warnings\n",
    "from PIL import Image \n",
    "import re\n",
    "\n",
    "# requires arxiv_on_deck_2\n",
    "\n",
    "from arxiv_on_deck_2.arxiv2 import (get_new_papers, \n",
    "                                    get_paper_from_identifier,\n",
    "                                    retrieve_document_source, \n",
    "                                    get_markdown_badge)\n",
    "from arxiv_on_deck_2 import (latex,\n",
    "                             latex_bib,\n",
    "                             mpia,\n",
    "                             highlight_authors_in_list)\n",
    "\n",
    "# Sometimes images are really big\n",
    "Image.MAX_IMAGE_PIXELS = 1000000000 "
   ]
  },
  {
   "cell_type": "code",
   "execution_count": 2,
   "id": "22aa9d44",
   "metadata": {
    "execution": {
     "iopub.execute_input": "2025-06-16T04:24:26.698380Z",
     "iopub.status.busy": "2025-06-16T04:24:26.697959Z",
     "iopub.status.idle": "2025-06-16T04:24:26.706225Z",
     "shell.execute_reply": "2025-06-16T04:24:26.705706Z"
    },
    "papermill": {
     "duration": 0.013012,
     "end_time": "2025-06-16T04:24:26.707218",
     "exception": false,
     "start_time": "2025-06-16T04:24:26.694206",
     "status": "completed"
    },
    "tags": []
   },
   "outputs": [],
   "source": [
    "# Some useful definitions.\n",
    "\n",
    "class AffiliationWarning(UserWarning):\n",
    "    pass\n",
    "\n",
    "class AffiliationError(RuntimeError):\n",
    "    pass\n",
    "\n",
    "def validation(source: str):\n",
    "    \"\"\"Raises error paper during parsing of source file\n",
    "    \n",
    "    Allows checks before parsing TeX code.\n",
    "    \n",
    "    Raises AffiliationWarning\n",
    "    \"\"\"\n",
    "    check = mpia.affiliation_verifications(source, verbose=True)\n",
    "    if check is not True:\n",
    "        raise AffiliationError(\"mpia.affiliation_verifications: \" + check)\n",
    "\n",
    "        \n",
    "warnings.simplefilter('always', AffiliationWarning)\n",
    "\n",
    "\n",
    "def get_markdown_qrcode(paper_id: str):\n",
    "    \"\"\" Generate a qrcode to the arxiv page using qrserver.com\n",
    "    \n",
    "    :param paper: Arxiv paper\n",
    "    :returns: markdown text\n",
    "    \"\"\"\n",
    "    url = r\"https://api.qrserver.com/v1/create-qr-code/?size=100x100&data=\"\n",
    "    txt = f\"\"\"<img src={url}\"https://arxiv.org/abs/{paper_id}\">\"\"\"\n",
    "    txt = '<div id=\"qrcode\">' + txt + '</div>'\n",
    "    return txt\n",
    "\n",
    "\n",
    "def clean_non_western_encoded_characters_commands(text: str) -> str:\n",
    "    \"\"\" Remove non-western encoded characters from a string\n",
    "    List may need to grow.\n",
    "    \n",
    "    :param text: the text to clean\n",
    "    :return: the cleaned text\n",
    "    \"\"\"\n",
    "    text = re.sub(r\"(\\\\begin{CJK}{UTF8}{gbsn})(.*?)(\\\\end{CJK})\", r\"\\2\", text)\n",
    "    return text\n",
    "\n",
    "\n",
    "def get_initials(name: str) -> str:\n",
    "    \"\"\" Get the short name, e.g., A.-B. FamName\n",
    "    :param name: full name\n",
    "    :returns: initials\n",
    "    \"\"\"\n",
    "    initials = []\n",
    "    # account for non western names often in ()\n",
    "    if '(' in name:\n",
    "        name = clean_non_western_encoded_characters_commands(name)\n",
    "        suffix = re.findall(r\"\\((.*?)\\)\", name)[0]\n",
    "        name = name.replace(f\"({suffix})\", '')\n",
    "    else:\n",
    "        suffix = ''\n",
    "    split = name.split()\n",
    "    for token in split[:-1]:\n",
    "        if '-' in token:\n",
    "            current = '-'.join([k[0] + '.' for k in token.split('-')])\n",
    "        else:\n",
    "            current = token[0] + '.'\n",
    "        initials.append(current)\n",
    "    initials.append(split[-1].strip())\n",
    "    if suffix:\n",
    "        initials.append(f\"({suffix})\")\n",
    "    return ' '.join(initials)"
   ]
  },
  {
   "cell_type": "markdown",
   "id": "14bd6310",
   "metadata": {
    "papermill": {
     "duration": 0.002893,
     "end_time": "2025-06-16T04:24:26.713141",
     "exception": false,
     "start_time": "2025-06-16T04:24:26.710248",
     "status": "completed"
    },
    "tags": []
   },
   "source": [
    "## get list of arxiv paper candidates\n",
    "\n",
    "We use the MPIA mitarbeiter list webpage from mpia.de to get author names\n",
    "We then get all new papers from Arxiv and match authors"
   ]
  },
  {
   "cell_type": "code",
   "execution_count": 3,
   "id": "7ea813a8",
   "metadata": {
    "execution": {
     "iopub.execute_input": "2025-06-16T04:24:26.720063Z",
     "iopub.status.busy": "2025-06-16T04:24:26.719652Z",
     "iopub.status.idle": "2025-06-16T04:24:47.219681Z",
     "shell.execute_reply": "2025-06-16T04:24:47.218988Z"
    },
    "papermill": {
     "duration": 20.504873,
     "end_time": "2025-06-16T04:24:47.220922",
     "exception": false,
     "start_time": "2025-06-16T04:24:26.716049",
     "status": "completed"
    },
    "tags": []
   },
   "outputs": [],
   "source": [
    "# deal with the author list and edge cases of people that cannot be consistent on their name  \n",
    "\n",
    "def filter_non_scientists(name: str) -> bool:\n",
    "    \"\"\" Loose filter on expected authorships\n",
    "\n",
    "    removing IT, administration, technical staff\n",
    "    :param name: name\n",
    "    :returns: False if name is not a scientist\n",
    "    \"\"\"\n",
    "    remove_list = ['Licht', 'Binroth', 'Witzel', 'Jordan',\n",
    "                   'Zähringer', 'Scheerer', 'Hoffmann', 'Düe',\n",
    "                   'Hellmich', 'Enkler-Scharpegge', 'Witte-Nguy',\n",
    "                   'Dehen', 'Beckmann', 'Jager', 'Jäger'\n",
    "                  ]\n",
    "\n",
    "    for k in remove_list:\n",
    "        if k in name:\n",
    "            return False\n",
    "    return True\n",
    "\n",
    "def add_author_to_list(author_list: list) -> list:\n",
    "    \"\"\" Add author to list if not already in list\n",
    "    \n",
    "    :param author: author name\n",
    "    :param author_list: list of authors\n",
    "    :returns: updated list of authors\n",
    "    \"\"\"\n",
    "    add_list = ['T. Henning']\n",
    "\n",
    "    for author in add_list:\n",
    "        if author not in author_list:\n",
    "            author_list.append(author)\n",
    "    return author_list\n",
    "\n",
    "# get list from MPIA website\n",
    "# filter for non-scientists (mpia.get_mpia_mitarbeiter_list() does some filtering)\n",
    "mpia_authors = [k[1] for k in mpia.get_mpia_mitarbeiter_list() if filter_non_scientists(k[1])]\n",
    "# add some missing author because of inconsistencies in their MPIA name and author name on papers\n",
    "mpia_authors = add_author_to_list(mpia_authors)"
   ]
  },
  {
   "cell_type": "code",
   "execution_count": 4,
   "id": "2645e73a",
   "metadata": {
    "execution": {
     "iopub.execute_input": "2025-06-16T04:24:47.228457Z",
     "iopub.status.busy": "2025-06-16T04:24:47.228020Z",
     "iopub.status.idle": "2025-06-16T04:24:47.982103Z",
     "shell.execute_reply": "2025-06-16T04:24:47.981429Z"
    },
    "papermill": {
     "duration": 0.758951,
     "end_time": "2025-06-16T04:24:47.983210",
     "exception": false,
     "start_time": "2025-06-16T04:24:47.224259",
     "status": "completed"
    },
    "tags": []
   },
   "outputs": [
    {
     "name": "stdout",
     "output_type": "stream",
     "text": [
      "T. Suhasaria  ->  T. Suhasaria  |  ['T. Suhasaria']\n",
      "D. Fasano  ->  D. Fasano  |  ['D. Fasano']\n",
      "M. Benisty  ->  M. Benisty  |  ['M. Benisty']\n",
      "F. Zagaria  ->  F. Zagaria  |  ['F. Zagaria']\n",
      "K. Doi  ->  K. Doi  |  ['K. Doi']\n",
      "F. Walter  ->  F. Walter  |  ['F. Walter']\n",
      "E. Schinnerer  ->  E. Schinnerer  |  ['E. Schinnerer']\n",
      "N. Wang  ->  N. Wang  |  ['N. Wang']\n",
      "Arxiv has 67 new papers today\n",
      "          5 with possible author matches\n"
     ]
    }
   ],
   "source": [
    "new_papers = get_new_papers()\n",
    "# add manual references\n",
    "add_paper_refs = []\n",
    "new_papers.extend([get_paper_from_identifier(k) for k in add_paper_refs])\n",
    "\n",
    "def robust_call(fn, value, *args, **kwargs):\n",
    "    try:\n",
    "        return fn(value, *args, **kwargs)\n",
    "    except Exception:\n",
    "        return value\n",
    "\n",
    "candidates = []\n",
    "for paperk in new_papers:\n",
    "    # Check author list with their initials\n",
    "    normed_author_list = [robust_call(mpia.get_initials, k) for k in paperk['authors']]\n",
    "    hl_authors = highlight_authors_in_list(normed_author_list, mpia_authors, verbose=True)\n",
    "    matches = [(hl, orig) for hl, orig in zip(hl_authors, paperk['authors']) if 'mark' in hl]\n",
    "    paperk['authors'] = hl_authors\n",
    "    if matches:\n",
    "        # only select paper if an author matched our list\n",
    "        candidates.append(paperk)\n",
    "print(\"\"\"Arxiv has {0:,d} new papers today\"\"\".format(len(new_papers)))        \n",
    "print(\"\"\"          {0:,d} with possible author matches\"\"\".format(len(candidates)))"
   ]
  },
  {
   "cell_type": "markdown",
   "id": "3543b34a",
   "metadata": {
    "papermill": {
     "duration": 0.00307,
     "end_time": "2025-06-16T04:24:47.989832",
     "exception": false,
     "start_time": "2025-06-16T04:24:47.986762",
     "status": "completed"
    },
    "tags": []
   },
   "source": [
    "# Parse sources and generate relevant outputs\n",
    "\n",
    "From the candidates, we do the following steps:\n",
    "* get their tarball from ArXiv (and extract data)\n",
    "* find the main .tex file: find one with \\documentclass{...} (sometimes it's non trivial)\n",
    "* Check affiliations with :func:`validation`, which uses :func:`mpia.affiliation_verifications`\n",
    "* If passing the affiliations: we parse the .tex source\n",
    "   * inject sub-documents into the main (flatten the main document)\n",
    "   * parse structure, extract information (title, abstract, authors, figures...)\n",
    "   * handles `\\graphicspath` if provided\n",
    "* Generate the .md document."
   ]
  },
  {
   "cell_type": "code",
   "execution_count": 5,
   "id": "9576b79e",
   "metadata": {
    "execution": {
     "iopub.execute_input": "2025-06-16T04:24:47.997119Z",
     "iopub.status.busy": "2025-06-16T04:24:47.996904Z",
     "iopub.status.idle": "2025-06-16T04:25:37.554779Z",
     "shell.execute_reply": "2025-06-16T04:25:37.554031Z"
    },
    "papermill": {
     "duration": 49.56322,
     "end_time": "2025-06-16T04:25:37.556124",
     "exception": false,
     "start_time": "2025-06-16T04:24:47.992904",
     "status": "completed"
    },
    "scrolled": false,
    "tags": []
   },
   "outputs": [
    {
     "data": {
      "application/vnd.jupyter.widget-view+json": {
       "model_id": "e35f6defc3d949a19917ef28b8d052d2",
       "version_major": 2,
       "version_minor": 0
      },
      "text/plain": [
       "  0%|          | 0/5 [00:00<?, ?it/s]"
      ]
     },
     "metadata": {},
     "output_type": "display_data"
    },
    {
     "name": "stdout",
     "output_type": "stream",
     "text": [
      "Retrieving document from  https://arxiv.org/e-print/2506.11596\n"
     ]
    },
    {
     "name": "stdout",
     "output_type": "stream",
     "text": [
      "extracting tarball to tmp_2506.11596... done.\n"
     ]
    },
    {
     "name": "stdout",
     "output_type": "stream",
     "text": [
      "T. Suhasaria  ->  T. Suhasaria  |  ['T. Suhasaria']\n"
     ]
    },
    {
     "name": "stdout",
     "output_type": "stream",
     "text": [
      "Found 61 bibliographic references in tmp_2506.11596/main.bbl.\n",
      "Retrieving document from  https://arxiv.org/e-print/2506.11688\n",
      "extracting tarball to tmp_2506.11688... done.\n",
      "Retrieving document from  https://arxiv.org/e-print/2506.11709\n",
      "extracting tarball to tmp_2506.11709..."
     ]
    },
    {
     "name": "stderr",
     "output_type": "stream",
     "text": [
      "/opt/hostedtoolcache/Python/3.9.22/x64/lib/python3.9/site-packages/IPython/core/interactiveshell.py:3550: LatexWarning: Multiple tex files.\n",
      "\n",
      "  exec(code_obj, self.user_global_ns, self.user_ns)\n",
      "/opt/hostedtoolcache/Python/3.9.22/x64/lib/python3.9/site-packages/IPython/core/interactiveshell.py:3550: LatexWarning: Found documentclass in tmp_2506.11688/main.tex\n",
      "\n",
      "  exec(code_obj, self.user_global_ns, self.user_ns)\n",
      "/opt/hostedtoolcache/Python/3.9.22/x64/lib/python3.9/site-packages/arxiv_on_deck_2/latex.py:414: LatexWarning: Latex injecting: 'revtex_authorlist.tex' from 'tmp_2506.11688/revtex_authorlist.tex'\n",
      "  warnings.warn(LatexWarning(f\"Latex injecting: '{ext}' from '{subsource}'\"))\n"
     ]
    },
    {
     "name": "stdout",
     "output_type": "stream",
     "text": [
      " done.\n"
     ]
    },
    {
     "name": "stdout",
     "output_type": "stream",
     "text": [
      "D. Fasano  ->  D. Fasano  |  ['D. Fasano']\n",
      "M. Benisty  ->  M. Benisty  |  ['M. Benisty']\n",
      "F. Zagaria  ->  F. Zagaria  |  ['F. Zagaria']\n",
      "K. Doi  ->  K. Doi  |  ['K. Doi']\n"
     ]
    },
    {
     "name": "stdout",
     "output_type": "stream",
     "text": [
      "Found 49 bibliographic references in tmp_2506.11709/aa54959-25.bbl.\n",
      "Retrieving document from  https://arxiv.org/e-print/2506.11792\n"
     ]
    },
    {
     "name": "stdout",
     "output_type": "stream",
     "text": [
      "extracting tarball to tmp_2506.11792... done.\n"
     ]
    },
    {
     "name": "stderr",
     "output_type": "stream",
     "text": [
      "/opt/hostedtoolcache/Python/3.9.22/x64/lib/python3.9/site-packages/IPython/core/interactiveshell.py:3550: LatexWarning: Multiple tex files.\n",
      "\n",
      "  exec(code_obj, self.user_global_ns, self.user_ns)\n",
      "/opt/hostedtoolcache/Python/3.9.22/x64/lib/python3.9/site-packages/IPython/core/interactiveshell.py:3550: LatexWarning: Found documentclass in tmp_2506.11792/ms.tex\n",
      "\n",
      "  exec(code_obj, self.user_global_ns, self.user_ns)\n",
      "/opt/hostedtoolcache/Python/3.9.22/x64/lib/python3.9/site-packages/arxiv_on_deck_2/latex.py:414: LatexWarning: Latex injecting: 'obs_setup_table' from 'tmp_2506.11792/obs_setup_table.tex'\n",
      "  warnings.warn(LatexWarning(f\"Latex injecting: '{ext}' from '{subsource}'\"))\n",
      "/opt/hostedtoolcache/Python/3.9.22/x64/lib/python3.9/site-packages/arxiv_on_deck_2/latex.py:414: LatexWarning: Latex injecting: 'physical_properties_table' from 'tmp_2506.11792/physical_properties_table.tex'\n",
      "  warnings.warn(LatexWarning(f\"Latex injecting: '{ext}' from '{subsource}'\"))\n",
      "/opt/hostedtoolcache/Python/3.9.22/x64/lib/python3.9/site-packages/arxiv_on_deck_2/latex.py:414: LatexWarning: Latex injecting: 'affiliations' from 'tmp_2506.11792/affiliations.tex'\n",
      "  warnings.warn(LatexWarning(f\"Latex injecting: '{ext}' from '{subsource}'\"))\n"
     ]
    },
    {
     "name": "stdout",
     "output_type": "stream",
     "text": [
      "F. Walter  ->  F. Walter  |  ['F. Walter']\n",
      "E. Schinnerer  ->  E. Schinnerer  |  ['E. Schinnerer']\n"
     ]
    },
    {
     "name": "stderr",
     "output_type": "stream",
     "text": [
      "/opt/hostedtoolcache/Python/3.9.22/x64/lib/python3.9/site-packages/arxiv_on_deck_2/latex.py:132: LatexWarning: attempting recovering figure figures/LGLBS_overview_plot_v5\n",
      "  warnings.warn(LatexWarning(f'attempting recovering figure {image}'))\n",
      "/opt/hostedtoolcache/Python/3.9.22/x64/lib/python3.9/site-packages/arxiv_on_deck_2/latex.py:137: LatexWarning: Recovered figure figures/LGLBS_overview_plot_v5 as tmp_2506.11792/./figures/LGLBS_overview_plot_v5.jpg\n",
      "  warnings.warn(LatexWarning(f'Recovered figure {image} as {fname}'))\n"
     ]
    },
    {
     "name": "stdout",
     "output_type": "stream",
     "text": [
      "Found 198 bibliographic references in tmp_2506.11792/ms.bbl.\n",
      "Issues with the citations\n",
      "syntax error in line 508: '=' expected\n",
      "Retrieving document from  https://arxiv.org/e-print/2506.11915\n"
     ]
    },
    {
     "name": "stdout",
     "output_type": "stream",
     "text": [
      "extracting tarball to tmp_2506.11915..."
     ]
    },
    {
     "name": "stdout",
     "output_type": "stream",
     "text": [
      " done.\n"
     ]
    }
   ],
   "source": [
    "documents = []\n",
    "failed = []\n",
    "for paper in tqdm(candidates):\n",
    "    # debug crap\n",
    "    paper['identifier'] = paper['identifier'].lower().replace('arxiv:', '').replace(r'\\n', '').strip()\n",
    "    paper_id = paper['identifier']\n",
    "    \n",
    "    folder = f'tmp_{paper_id}'\n",
    "\n",
    "    try:\n",
    "        if not os.path.isdir(folder):\n",
    "            folder = retrieve_document_source(f\"{paper_id}\", f'tmp_{paper_id}')\n",
    "        \n",
    "        try:\n",
    "            doc = latex.LatexDocument(folder, validation=validation)    \n",
    "        except AffiliationError as affilerror:\n",
    "            msg = f\"ArXiv:{paper_id:s} is not an MPIA paper... \" + str(affilerror)\n",
    "            failed.append((paper, \"affiliation error: \" + str(affilerror) ))\n",
    "            continue\n",
    "        \n",
    "        # Hack because sometimes author parsing does not work well\n",
    "        if (len(doc.authors) != len(paper['authors'])):\n",
    "            doc._authors = paper['authors']\n",
    "        else:\n",
    "            # highlight authors (FIXME: doc.highlight_authors)\n",
    "            # done on arxiv paper already\n",
    "            doc._authors = highlight_authors_in_list(\n",
    "                [get_initials(k) for k in doc.authors], \n",
    "                mpia_authors, verbose=True)\n",
    "        if (doc.abstract) in (None, ''):\n",
    "            doc._abstract = paper['abstract']\n",
    "            \n",
    "        doc.comment = (get_markdown_badge(paper_id) + \n",
    "                       \"<mark>Appeared on: \" + paper['date'] + \"</mark> - \")\n",
    "        if paper['comments']:\n",
    "            doc.comment += \" _\" + paper['comments'] + \"_\"\n",
    "        \n",
    "        full_md = doc.generate_markdown_text()\n",
    "        \n",
    "        full_md += get_markdown_qrcode(paper_id)\n",
    "        \n",
    "        # replace citations\n",
    "        try:\n",
    "            bibdata = latex_bib.LatexBib.from_doc(doc)\n",
    "            full_md = latex_bib.replace_citations(full_md, bibdata)\n",
    "        except Exception as e:\n",
    "            print(\"Issues with the citations\")\n",
    "            print(e)\n",
    "        \n",
    "        documents.append((paper_id, full_md))\n",
    "    except Exception as e:\n",
    "        warnings.warn(latex.LatexWarning(f\"{paper_id:s} did not run properly\\n\" +\n",
    "                                         str(e)\n",
    "                                        ))\n",
    "        failed.append((paper, \"latex error \" + str(e)))"
   ]
  },
  {
   "cell_type": "markdown",
   "id": "2505a25c",
   "metadata": {
    "papermill": {
     "duration": 0.003859,
     "end_time": "2025-06-16T04:25:37.564226",
     "exception": false,
     "start_time": "2025-06-16T04:25:37.560367",
     "status": "completed"
    },
    "tags": []
   },
   "source": [
    "### Export the logs\n",
    "\n",
    "Throughout, we also keep track of the logs per paper. see `logs-{today date}.md` "
   ]
  },
  {
   "cell_type": "code",
   "execution_count": 6,
   "id": "d733828a",
   "metadata": {
    "execution": {
     "iopub.execute_input": "2025-06-16T04:25:37.573290Z",
     "iopub.status.busy": "2025-06-16T04:25:37.572761Z",
     "iopub.status.idle": "2025-06-16T04:25:37.588531Z",
     "shell.execute_reply": "2025-06-16T04:25:37.587994Z"
    },
    "papermill": {
     "duration": 0.021337,
     "end_time": "2025-06-16T04:25:37.589498",
     "exception": false,
     "start_time": "2025-06-16T04:25:37.568161",
     "status": "completed"
    },
    "scrolled": false,
    "tags": []
   },
   "outputs": [
    {
     "data": {
      "text/markdown": [
       "## Successful papers"
      ],
      "text/plain": [
       "<IPython.core.display.Markdown object>"
      ]
     },
     "metadata": {},
     "output_type": "display_data"
    },
    {
     "data": {
      "text/markdown": [
       "\n",
       "|||\n",
       "|---:|:---|\n",
       "| [![arXiv](https://img.shields.io/badge/arXiv-2506.11596-b31b1b.svg)](https://arxiv.org/abs/2506.11596) | **Hydroxylated Mg-rich amorphous silicates as catalysts for molecular hydrogen formation in the interstellar medium**  |\n",
       "|| V. Mennella, <mark>T. Suhasaria</mark>, B. Kerkeni, G. Ouerfelli |\n",
       "|*Appeared on*| *2025-06-16*|\n",
       "|*Comments*| *10 pages, 6 figures*|\n",
       "|**Abstract**|            We present results from an experimental study on the interaction of atomic deuterium with Mg-rich amorphous enstatite and forsterite type silicates. Infrared spectroscopy was used to examine the process. During D atom exposure, deuteroxyl group formation was observed. The cross section for OD group formation, estimated from the OD stretching band intensity with D atom fluence, is 4.2.10^{-18} cm^2 for both silicates. HD (D2) molecules form via D atom abstraction of chemisorbed H(D) atoms from OH (OD) groups, with a cross section of 7.0.10^{-18} cm^2. Quantum chemical calculations on enstatite and forsterite amorphous nano-clusters were used to analyze chemisorption and abstraction energies of H atoms. The formation of OH groups on forsterite is barrierless, while enstatite has a small energy barrier. H2 abstraction from hydroxyl groups is barrierless in both silicates. The results support our interpretation of IR spectral changes during D atom exposure as addition and exchange reactions, with catalytic molecular deuterium formation. These findings, obtained at 300 K, are relevant to astrophysical environments like photodissociation regions and interstellar clouds at lower temperatures. Amorphous silicates, like carbon grains, undergo hydrogenation in the diffuse interstellar medium due to interactions with atomic hydrogen and UV photons. The detection of these components on comet 67P/Churyumov-Gerasimenko connects primitive solar system objects to interstellar dust, offering new insights into their evolution.         |"
      ],
      "text/plain": [
       "[2506.11596] Hydroxylated Mg-rich amorphous silicates as catalysts for molecular hydrogen formation in the interstellar medium\n",
       "\tV. Mennella, <mark>T. Suhasaria</mark>, B. Kerkeni, G. Ouerfelli"
      ]
     },
     "metadata": {},
     "output_type": "display_data"
    },
    {
     "data": {
      "text/markdown": [
       "\n",
       "|||\n",
       "|---:|:---|\n",
       "| [![arXiv](https://img.shields.io/badge/arXiv-2506.11709-b31b1b.svg)](https://arxiv.org/abs/2506.11709) | **Inner disc and circumplanetary material in the PDS 70 system**  |\n",
       "|| <mark>D. Fasano</mark>, et al. -- incl., <mark>M. Benisty</mark>, <mark>F. Zagaria</mark>, <mark>K. Doi</mark> |\n",
       "|*Appeared on*| *2025-06-16*|\n",
       "|*Comments*| *12 pages, 5 figures. Accepted for publication in A&A June 04, 2025*|\n",
       "|**Abstract**|            The two giant protoplanets directly imaged in the dust-depleted cavity of PDS 70 offer a unique opportunity to study ongoing planet formation. Both planets have been detected in infrared thermal emission and in H$\\alpha$, indicating active accretion. We calibrate and analyse archival ALMA Band 6 and 7 observations of PDS 70 from 2019, 2021, and 2023 to search for circumplanetary material and assess its motion. Using 2D visibility modelling of the high-resolution (~0.11\"x0.08\" in Band 6; ~0.05\"x0.05\" in Band 7) dust continuum from the outer disc, we subtract the model and image the cavity at multiple epochs. We re-detect compact dust emission around PDS 70 c in all datasets with >$3.8\\sigma$ significance, and tentatively detect emission near PDS 70 b at ~$3\\sigma$ in Band 6, with peak fluxes of $59\\pm17\\mu$Jy/beam and $46\\pm14\\mu$Jy/beam. The relative astrometry of the compact emission around PDS 70 c is consistent with the expected position of the planet between 2019-2023. We find a peak flux difference up to $64\\pm34\\mu$Jy/beam at 1$\\sigma$, but Bayesian analysis indicates no significant variability. We detect no flux variability in the inner disc. The inferred dust mass near PDS 70 c and in the inner disc ranges from $0.008$-$0.063 M_\\oplus$ and $0.04$-$0.31 M_\\oplus$, respectively, consistent with prior estimates. Finally, we measure Band 6-7 spectral indices of $2.5\\pm1.2$ (PDS 70 c) and $3.2\\pm0.5$ (inner disc), suggesting that the inner disc emission is dominated by optically thin dust.         |"
      ],
      "text/plain": [
       "[2506.11709] Inner disc and circumplanetary material in the PDS 70 system\n",
       "\t<mark>D. Fasano</mark>, et al. -- incl., <mark>M. Benisty</mark>, <mark>F. Zagaria</mark>, <mark>K. Doi</mark>"
      ]
     },
     "metadata": {},
     "output_type": "display_data"
    },
    {
     "data": {
      "text/markdown": [
       "\n",
       "|||\n",
       "|---:|:---|\n",
       "| [![arXiv](https://img.shields.io/badge/arXiv-2506.11792-b31b1b.svg)](https://arxiv.org/abs/2506.11792) | **The Karl G. Jansky Very Large Array Local Group L-band Survey (LGLBS)**  |\n",
       "|| E. W. Koch, et al. -- incl., <mark>F. Walter</mark>, <mark>E. Schinnerer</mark> |\n",
       "|*Appeared on*| *2025-06-16*|\n",
       "|*Comments*| *ApJS in press. LGLBS HI v1.0 data release is available here: this https URL (with permanent DOI to follow)*|\n",
       "|**Abstract**|            We present the Local Group L-Band Survey (LGLBS), a Karl G. Jansky Very Large Array (VLA) survey producing the highest quality 21-cm and 1-2 GHz radio continuum images to date for the six VLA-accessible, star-forming, Local Group galaxies. Leveraging the VLA's spectral multiplexing power, we simultaneously survey the 21-cm line at high 0.4 km/s velocity resolution, the 1-2 GHz polarized continuum, and four OH lines. For the massive spiral M31, the dwarf spiral M33, and the dwarf irregular galaxies NGC6822, IC10, IC1613, and the Wolf-Lundmark-Melotte Galaxy (WLM), we use all four VLA configurations and the Green Bank Telescope to reach angular resolutions of $< 5''$ ($10{-}20$~pc) for the 21-cm line with $<10^{20}$~cm$^{-2}$ column density sensitivity, and even sharper views ($< 2''$; $5{-}10$~pc) of the continuum. Targeting these nearby galaxies ($D\\lesssim1$ Mpc) reveals a sharp, resolved view of the atomic gas, including 21-cm absorption, and continuum emission from supernova remnants and HII regions. These datasets can be used to test theories of the abundance and formation of cold clouds, the driving and dissipation of interstellar turbulence, and the impact of feedback from massive stars and supernovae. Here, we describe the survey design and execution, scientific motivation, data processing, and quality assurance. We provide a first look at and publicly release the wide-field 21-cm HI data products for M31, M33, and four dwarf irregular targets in the survey, which represent some of the highest physical resolution 21-cm observations of any external galaxies beyond the LMC and SMC.         |"
      ],
      "text/plain": [
       "[2506.11792] The Karl G. Jansky Very Large Array Local Group L-band Survey (LGLBS)\n",
       "\tE. W. Koch, et al. -- incl., <mark>F. Walter</mark>, <mark>E. Schinnerer</mark>"
      ]
     },
     "metadata": {},
     "output_type": "display_data"
    },
    {
     "data": {
      "text/markdown": [
       "## Failed papers"
      ],
      "text/plain": [
       "<IPython.core.display.Markdown object>"
      ]
     },
     "metadata": {},
     "output_type": "display_data"
    },
    {
     "data": {
      "text/markdown": [
       "\n",
       "|||\n",
       "|---:|:---|\n",
       "| [![arXiv](https://img.shields.io/badge/arXiv-2506.11688-b31b1b.svg)](https://arxiv.org/abs/2506.11688) | **The Energy Spectrum of Ultra-High Energy Cosmic Rays across Declinations $-90^\\circ$ to $+44.8^\\circ$ as measured at the Pierre Auger Observatory**  |\n",
       "|| P. A. Collaboration, et al. |\n",
       "|*Appeared on*| *2025-06-16*|\n",
       "|*Comments*| *12 pages, 4 figures*|\n",
       "|**Abstract**|            The energy spectrum of cosmic rays above 2.5 EeV has been measured across the declination range $-90^\\circ \\leq\\delta\\leq +44.8^\\circ$ using data from $\\sim 310{,}000$ events accrued at the Pierre Auger Observatory from an exposure of $(104{,}900\\pm 3{,}100)$ km$^2\\,$sr$\\,$yr. No significant variations of energy spectra with declination are observed, after allowing or not for non-uniformities across the sky arising from the well-established dipolar anisotropies in the arrival directions of ultra-high energy cosmic rays. Additionally, the instep feature in the spectrum at $\\simeq$ 10 EeV reported previously is now established at a significance above $5\\,\\sigma$. The quasi-uniformity of the energy spectrum across declinations disfavors an origin for the instep from a few distinctive sources.         |\n",
       "|<p style=\"color:green\"> **ERROR** </p>| <p style=\"color:green\">affiliation error: mpia.affiliation_verifications: 'Heidelberg' keyword not found.</p> |"
      ],
      "text/plain": [
       "<IPython.core.display.Markdown object>"
      ]
     },
     "metadata": {},
     "output_type": "display_data"
    },
    {
     "data": {
      "text/markdown": [
       "\n",
       "|||\n",
       "|---:|:---|\n",
       "| [![arXiv](https://img.shields.io/badge/arXiv-2506.11915-b31b1b.svg)](https://arxiv.org/abs/2506.11915) | **A Hyperactive FRB Pinpointed in an SMC-Like Satellite Host Galaxy**  |\n",
       "|| M. Bhardwaj, et al. -- incl., <mark>N. Wang</mark> |\n",
       "|*Appeared on*| *2025-06-16*|\n",
       "|*Comments*| *Submitted to ApJL. Comments welcome*|\n",
       "|**Abstract**|            Precise localizations of fast radio bursts (FRBs) are essential for uncovering their host galaxies and immediate environments. We present the milliarcsecond-precision European VLBI Network (EVN) localization of FRB 20240114A, a hyper-active repeating FRB, achieving <90x30 mas (1-sigma) accuracy. This precision places the burst 0.5 kpc from the nucleus of its low-metallicity star-forming dwarf host at a spectroscopic redshift of z = 0.1300. Our Gran Telescopio CANARIAS (GTC) spectroscopic follow-up reveals that the dwarf FRB host is gravitationally bound to a more massive, star-forming spiral galaxy. This establishes the first known instance of an FRB residing in a satellite galaxy within a larger galactic system. This configuration, analogous to the Small Magellanic Cloud orbiting the Milky Way (but at a lower overall mass scale), expands the known diversity of FRB host environments and offers important insights for interpreting seemingly \"hostless\" or highly offset FRBs. Furthermore, our detailed dispersion measure (DM) budget analysis indicates that the dominant contribution to FRB 20240114A's DM likely originates from the foreground halo of the central galaxy. This finding addresses the anomalously high DM observed for this FRB and underscores the significant role of intervening foreground structures in shaping observed FRB DMs, which is important for accurate FRB-based cosmological measurements. Our results highlight the importance of deep, high-resolution optical/infrared observations (e.g., with Hubble or James Webb Space Telescopes) to fully leverage our precise radio localization and probe the immediate astrophysical birthplaces of FRB progenitors within these complex galactic systems.         |\n",
       "|<p style=\"color:green\"> **ERROR** </p>| <p style=\"color:green\">affiliation error: mpia.affiliation_verifications: 'Heidelberg' keyword not found.</p> |"
      ],
      "text/plain": [
       "<IPython.core.display.Markdown object>"
      ]
     },
     "metadata": {},
     "output_type": "display_data"
    }
   ],
   "source": [
    "import datetime\n",
    "today = str(datetime.date.today())\n",
    "logfile = f\"_build/html/logs/log-{today}.md\"\n",
    "\n",
    "\n",
    "with open(logfile, 'w') as logs:\n",
    "    # Success\n",
    "    logs.write(f'# Arxiv on Deck 2: Logs - {today}\\n\\n')\n",
    "    logs.write(\"\"\"* Arxiv had {0:,d} new papers\\n\"\"\".format(len(new_papers)))\n",
    "    logs.write(\"\"\"    * {0:,d} with possible author matches\\n\\n\"\"\".format(len(candidates)))\n",
    "    logs.write(\"## Sucessful papers\\n\\n\")\n",
    "    display(Markdown(\"## Successful papers\"))\n",
    "    success = [k[0] for k in documents]\n",
    "    for candid in candidates:\n",
    "        if candid['identifier'].split(':')[-1] in success:\n",
    "            display(candid)\n",
    "            logs.write(candid.generate_markdown_text() + '\\n\\n')\n",
    "\n",
    "    ## failed\n",
    "    logs.write(\"## Failed papers\\n\\n\")\n",
    "    display(Markdown(\"## Failed papers\"))\n",
    "    failed = sorted(failed, key=lambda x: x[1])\n",
    "    current_reason = \"\"\n",
    "    for paper, reason in failed:\n",
    "        if 'affiliation' in reason:\n",
    "            color = 'green'\n",
    "        else:\n",
    "            color = 'red'\n",
    "        data = Markdown(\n",
    "                paper.generate_markdown_text() + \n",
    "                f'\\n|<p style=\"color:{color:s}\"> **ERROR** </p>| <p style=\"color:{color:s}\">{reason:s}</p> |'\n",
    "               )\n",
    "        if reason != current_reason:\n",
    "            logs.write(f'### {reason:s} \\n\\n')\n",
    "            current_reason = reason\n",
    "        logs.write(data.data + '\\n\\n')\n",
    "        \n",
    "        # only display here the important errors (all in logs)\n",
    "        # if color in ('red',):\n",
    "        display(data)"
   ]
  },
  {
   "cell_type": "markdown",
   "id": "472d20ee",
   "metadata": {
    "papermill": {
     "duration": 0.004476,
     "end_time": "2025-06-16T04:25:37.599094",
     "exception": false,
     "start_time": "2025-06-16T04:25:37.594618",
     "status": "completed"
    },
    "tags": []
   },
   "source": [
    "## Export documents\n",
    "\n",
    "We now write the .md files and export relevant images"
   ]
  },
  {
   "cell_type": "code",
   "execution_count": 7,
   "id": "d426aed9",
   "metadata": {
    "execution": {
     "iopub.execute_input": "2025-06-16T04:25:37.609031Z",
     "iopub.status.busy": "2025-06-16T04:25:37.608793Z",
     "iopub.status.idle": "2025-06-16T04:25:37.615615Z",
     "shell.execute_reply": "2025-06-16T04:25:37.615033Z"
    },
    "papermill": {
     "duration": 0.012946,
     "end_time": "2025-06-16T04:25:37.616608",
     "exception": false,
     "start_time": "2025-06-16T04:25:37.603662",
     "status": "completed"
    },
    "tags": []
   },
   "outputs": [],
   "source": [
    "def export_markdown_summary(md: str, md_fname:str, directory: str):\n",
    "    \"\"\"Export MD document and associated relevant images\"\"\"\n",
    "    import os\n",
    "    import shutil\n",
    "    import re\n",
    "\n",
    "    if (os.path.exists(directory) and not os.path.isdir(directory)):\n",
    "        raise RuntimeError(f\"a non-directory file exists with name {directory:s}\")\n",
    "\n",
    "    if (not os.path.exists(directory)):\n",
    "        print(f\"creating directory {directory:s}\")\n",
    "        os.mkdir(directory)\n",
    "\n",
    "    fig_fnames = (re.compile(r'\\[Fig.*\\]\\((.*)\\)').findall(md) + \n",
    "                  re.compile(r'\\<img src=\"([^>\\s]*)\"[^>]*/>').findall(md))\n",
    "    print(\"found figures\", fig_fnames)\n",
    "    for fname in fig_fnames:\n",
    "        if 'http' in fname:\n",
    "            # No need to copy online figures\n",
    "            continue\n",
    "        if not os.path.exists(fname):\n",
    "            print(\"file not found\", fname)\n",
    "            continue\n",
    "        print(\"copying \", fname, \"to\", directory)\n",
    "        destdir = os.path.join(directory, os.path.dirname(fname))\n",
    "        destfname = os.path.join(destdir, os.path.basename(fname))\n",
    "        try:\n",
    "            os.makedirs(destdir)\n",
    "        except FileExistsError:\n",
    "            pass\n",
    "        shutil.copy(fname, destfname)\n",
    "    with open(os.path.join(directory, md_fname), 'w') as fout:\n",
    "        fout.write(md)\n",
    "    print(\"exported in \", os.path.join(directory, md_fname))\n",
    "    [print(\"    + \" + os.path.join(directory,fk)) for fk in fig_fnames]"
   ]
  },
  {
   "cell_type": "code",
   "execution_count": 8,
   "id": "014d04a4",
   "metadata": {
    "execution": {
     "iopub.execute_input": "2025-06-16T04:25:37.626738Z",
     "iopub.status.busy": "2025-06-16T04:25:37.626337Z",
     "iopub.status.idle": "2025-06-16T04:25:37.636458Z",
     "shell.execute_reply": "2025-06-16T04:25:37.635847Z"
    },
    "papermill": {
     "duration": 0.016195,
     "end_time": "2025-06-16T04:25:37.637455",
     "exception": false,
     "start_time": "2025-06-16T04:25:37.621260",
     "status": "completed"
    },
    "tags": []
   },
   "outputs": [
    {
     "name": "stdout",
     "output_type": "stream",
     "text": [
      "found figures ['tmp_2506.11596/./fig2.png', 'tmp_2506.11596/./fig6.png', 'tmp_2506.11596/./fig1.png']\n",
      "copying  tmp_2506.11596/./fig2.png to _build/html/\n",
      "copying  tmp_2506.11596/./fig6.png to _build/html/\n",
      "copying  tmp_2506.11596/./fig1.png to _build/html/\n",
      "exported in  _build/html/2506.11596.md\n",
      "    + _build/html/tmp_2506.11596/./fig2.png\n",
      "    + _build/html/tmp_2506.11596/./fig6.png\n",
      "    + _build/html/tmp_2506.11596/./fig1.png\n",
      "found figures ['tmp_2506.11709/./Images/Summary_plots.png', 'tmp_2506.11709/./Images/Residual_cavity_all_B7.png', 'tmp_2506.11709/./Images/Residual_cavity_all_B6.png', 'tmp_2506.11709/./Images/Residual_cavity_clumps_B7.png']\n",
      "copying  tmp_2506.11709/./Images/Summary_plots.png to _build/html/\n",
      "copying  tmp_2506.11709/./Images/Residual_cavity_all_B7.png to _build/html/\n",
      "copying  tmp_2506.11709/./Images/Residual_cavity_all_B6.png to _build/html/\n",
      "copying  tmp_2506.11709/./Images/Residual_cavity_clumps_B7.png to _build/html/\n",
      "exported in  _build/html/2506.11709.md\n",
      "    + _build/html/tmp_2506.11709/./Images/Summary_plots.png\n",
      "    + _build/html/tmp_2506.11709/./Images/Residual_cavity_all_B7.png\n",
      "    + _build/html/tmp_2506.11709/./Images/Residual_cavity_all_B6.png\n",
      "    + _build/html/tmp_2506.11709/./Images/Residual_cavity_clumps_B7.png\n",
      "found figures ['tmp_2506.11792/./figures/dwarfs_c+d_ew.png', 'tmp_2506.11792/./figures/flagging_stats_by_spw.png', 'tmp_2506.11792/./figures/m31_m33_c+d_mom1.png']\n",
      "copying  tmp_2506.11792/./figures/dwarfs_c+d_ew.png to _build/html/\n",
      "copying  tmp_2506.11792/./figures/flagging_stats_by_spw.png to _build/html/\n",
      "copying  tmp_2506.11792/./figures/m31_m33_c+d_mom1.png to _build/html/\n",
      "exported in  _build/html/2506.11792.md\n",
      "    + _build/html/tmp_2506.11792/./figures/dwarfs_c+d_ew.png\n",
      "    + _build/html/tmp_2506.11792/./figures/flagging_stats_by_spw.png\n",
      "    + _build/html/tmp_2506.11792/./figures/m31_m33_c+d_mom1.png\n"
     ]
    }
   ],
   "source": [
    "for paper_id, md in documents:\n",
    "    export_markdown_summary(md, f\"{paper_id:s}.md\", '_build/html/')"
   ]
  },
  {
   "cell_type": "markdown",
   "id": "f087a0a7",
   "metadata": {
    "papermill": {
     "duration": 0.004606,
     "end_time": "2025-06-16T04:25:37.646825",
     "exception": false,
     "start_time": "2025-06-16T04:25:37.642219",
     "status": "completed"
    },
    "tags": []
   },
   "source": [
    "## Display the papers\n",
    "\n",
    "Not necessary but allows for a quick check."
   ]
  },
  {
   "cell_type": "code",
   "execution_count": 9,
   "id": "fd25f625",
   "metadata": {
    "execution": {
     "iopub.execute_input": "2025-06-16T04:25:37.656938Z",
     "iopub.status.busy": "2025-06-16T04:25:37.656734Z",
     "iopub.status.idle": "2025-06-16T04:25:37.663781Z",
     "shell.execute_reply": "2025-06-16T04:25:37.663108Z"
    },
    "papermill": {
     "duration": 0.013344,
     "end_time": "2025-06-16T04:25:37.664897",
     "exception": false,
     "start_time": "2025-06-16T04:25:37.651553",
     "status": "completed"
    },
    "scrolled": false,
    "tags": []
   },
   "outputs": [
    {
     "data": {
      "text/markdown": [
       "<div class=\"macros\" style=\"visibility:hidden;\">\n",
       "$\\newcommand{\\ensuremath}{}$\n",
       "$\\newcommand{\\xspace}{}$\n",
       "$\\newcommand{\\object}[1]{\\texttt{#1}}$\n",
       "$\\newcommand{\\farcs}{{.}''}$\n",
       "$\\newcommand{\\farcm}{{.}'}$\n",
       "$\\newcommand{\\arcsec}{''}$\n",
       "$\\newcommand{\\arcmin}{'}$\n",
       "$\\newcommand{\\ion}[2]{#1#2}$\n",
       "$\\newcommand{\\textsc}[1]{\\textrm{#1}}$\n",
       "$\\newcommand{\\hl}[1]{\\textrm{#1}}$\n",
       "$\\newcommand{\\footnote}[1]{}$\n",
       "$\\newcommand{\\vdag}{(v)^\\dagger}$\n",
       "$\\newcommand$\n",
       "$\\newcommand$</div>\n",
       "\n",
       "\n",
       "\n",
       "<div id=\"title\">\n",
       "\n",
       "# Hydroxylated Mg-rich amorphous silicates as catalysts for molecular hydrogen formation in the interstellar medium\n",
       "\n",
       "</div>\n",
       "<div id=\"comments\">\n",
       "\n",
       "[![arXiv](https://img.shields.io/badge/arXiv-2506.11596-b31b1b.svg)](https://arxiv.org/abs/2506.11596)<mark>Appeared on: 2025-06-16</mark> -  _10 pages, 6 figures_\n",
       "\n",
       "</div>\n",
       "<div id=\"authors\">\n",
       "\n",
       "V. Mennella, <mark>T. Suhasaria</mark>, B. Kerkeni, G. Ouerfelli\n",
       "\n",
       "</div>\n",
       "<div id=\"abstract\">\n",
       "\n",
       "**Abstract:** We present results from an experimental study on the interaction of atomic deuterium with Mg-rich amorphous enstatite and forsterite type silicates. Infrared spectroscopy was used to examine the process. During D atom exposure, deuteroxyl group formation was observed. The cross section for OD group formation, estimated from the OD stretching band intensity with D atom fluence, is $\\sigma _{f,OD}$ = 4.2 $\\times10^{-18}$ cm $^{2}$ for both silicates. HD ($D_2$ ) molecules form via D atom abstraction of chemisorbed H (D) atoms from OH (OD) groups, with a cross section of $\\sigma _{f,D_2}$ = 7.0 $\\times10^{-18}$ cm $^{2}$ . Quantum chemical calculations on enstatite and forsterite amorphous nano-clusters were used to analyze chemisorption and abstraction energies of H atoms. The formation of OH groups on forsterite is barrierless, while enstatite has a small energy barrier. $H_2$ abstraction from hydroxyl groups is barrierless in both silicates. The results support our interpretation of IR spectral changes during D atom exposure as addition and exchange reactions, with catalytic molecular deuterium formation. These findings, obtained at 300 K, are relevant to astrophysical environments like photodissociation regions and interstellar clouds at lower temperatures. Amorphous silicates, like carbon grains, undergo hydrogenation in the diffuse interstellar medium due to interactions with atomic hydrogen and UV photons. The detection of these components on comet 67P/Churyumov-Gerasimenko connects primitive solar system objects to interstellar dust, offering new insights into their evolution.\n",
       "\n",
       "</div>\n",
       "\n",
       "<div id=\"div_fig1\">\n",
       "\n",
       "<img src=\"tmp_2506.11596/./fig2.png\" alt=\"Fig2\" width=\"100%\"/>\n",
       "\n",
       "**Figure 2. -** A) Evolution of the O-H and O-D stretching bands during D atom irradiation of the SIL1 and SIL2 silicates. The spectra  of the exposed silicates are shown after subtraction\n",
       "of the spectrum of the samples as produced. The SIL1 spectra are offset in ordinate for the sake of clarity.\n",
       "B) The O-D stretching band of SIL1 after D exposure compared with the O-H mode of SIL1 as shown in the inset to Figure \\ref{fig1}. The later has been red shifted, reducing the frequency of a factor 1.36, to take into account the H/D isotope substitution.\n",
       "  (*fig2*)\n",
       "\n",
       "</div>\n",
       "<div id=\"div_fig2\">\n",
       "\n",
       "<img src=\"tmp_2506.11596/./fig6.png\" alt=\"Fig6\" width=\"100%\"/>\n",
       "\n",
       "**Figure 6. -** The ER potential energy surface along the minimum energy path for (a) H atom approaching an hydroxyl group from infinity and (b) $H_2$ molecule abstraction from the enstatite nanocluster. (*fig6*)\n",
       "\n",
       "</div>\n",
       "<div id=\"div_fig3\">\n",
       "\n",
       "<img src=\"tmp_2506.11596/./fig1.png\" alt=\"Fig1\" width=\"100%\"/>\n",
       "\n",
       "**Figure 1. -** Continuum subtracted mid-IR spectra of SIL1 and SIL2. The details of the O-H stretching region are shown in the inset. The spectra are offset in ordinate for the sake of clarity.  (*fig1*)\n",
       "\n",
       "</div><div id=\"qrcode\"><img src=https://api.qrserver.com/v1/create-qr-code/?size=100x100&data=\"https://arxiv.org/abs/2506.11596\"></div>"
      ],
      "text/plain": [
       "<IPython.core.display.Markdown object>"
      ]
     },
     "metadata": {},
     "output_type": "display_data"
    },
    {
     "data": {
      "text/markdown": [
       "<div class=\"macros\" style=\"visibility:hidden;\">\n",
       "$\\newcommand{\\ensuremath}{}$\n",
       "$\\newcommand{\\xspace}{}$\n",
       "$\\newcommand{\\object}[1]{\\texttt{#1}}$\n",
       "$\\newcommand{\\farcs}{{.}''}$\n",
       "$\\newcommand{\\farcm}{{.}'}$\n",
       "$\\newcommand{\\arcsec}{''}$\n",
       "$\\newcommand{\\arcmin}{'}$\n",
       "$\\newcommand{\\ion}[2]{#1#2}$\n",
       "$\\newcommand{\\textsc}[1]{\\textrm{#1}}$\n",
       "$\\newcommand{\\hl}[1]{\\textrm{#1}}$\n",
       "$\\newcommand{\\footnote}[1]{}$\n",
       "$\\newcommand{\\Daniele}[1]{{\\color{MidnightBlue}\\textbf{DF}: #1}}$\n",
       "$\\newcommand{\\mb}[1]{{\\color{magenta}\\textbf{mb}: #1}}$\n",
       "$\\newcommand{\\Tomo}[1]{{\\color{ForestGreen}\\textbf{TY}: #1}}$\n",
       "$\\newcommand{\\fsco}[1]{{\\color{Orange}\\textbf{fsco}: #1}}$\n",
       "$\\newcommand{\\arraystretch}{1.5}$\n",
       "$\\newcommand{\\arraystretch}{1.5}$\n",
       "$\\newcommand{\\arraystretch}{1.5}$\n",
       "$\\newcommand{\\arraystretch}{1.5}$\n",
       "$\\newcommand{\\arraystretch}{1.5}$\n",
       "$\\newcommand{\\arraystretch}{1.5}$\n",
       "$\\newcommand{\\arraystretch}{1.5}$\n",
       "$\\newcommand{\\arraystretch}{1.5}$</div>\n",
       "\n",
       "\n",
       "\n",
       "<div id=\"title\">\n",
       "\n",
       "# Inner Disc and Circumplanetary Material in the PDS 70 System: Insights from Multi-Epoch, Multi-Frequency ALMA Observations\n",
       "\n",
       "</div>\n",
       "<div id=\"comments\">\n",
       "\n",
       "[![arXiv](https://img.shields.io/badge/arXiv-2506.11709-b31b1b.svg)](https://arxiv.org/abs/2506.11709)<mark>Appeared on: 2025-06-16</mark> -  _12 pages, 5 figures. Accepted for publication in A&A June 04, 2025_\n",
       "\n",
       "</div>\n",
       "<div id=\"authors\">\n",
       "\n",
       "<mark>D. Fasano</mark>, et al. -- incl., <mark>M. Benisty</mark>, <mark>F. Zagaria</mark>, <mark>K. Doi</mark>\n",
       "\n",
       "</div>\n",
       "<div id=\"abstract\">\n",
       "\n",
       "**Abstract:** The two giant protoplanets directly detected in the dust-depleted cavity of PDS 70 offer a unique opportunity to study the processes of ongoing planet formation. The planets have been detected both in IR thermal light and in the H $\\alpha$ line, indicating that they are actively accreting material from their surroundings. We calibrate and analyse archival Atacama Large Millimetre/subMillimetre Array (ALMA) Band 6 and 7 observations of PDS 70 to detect circumplanetary material in independent datasets taken at different epochs in 2019, 2021 and 2023 and assess its possible motion. We perform 2D visibility modelling of the high resolution ALMA Band 6 ( $\\sim0.11\\arcsec\\times0.08\\arcsec$ ) and Band 7 ( $\\sim0.05\\arcsec\\times0.05\\arcsec$ )  dust continuum emission of the outer disc. After subtracting the model from the data, we image the dust continuum emission in the cavity of PDS 70 at multiple epochs. We re-detect the compact dust emission around PDS 70 c in all our datasets in Band 6 and 7, with more than $3.8\\sigma$ significance, and tentatively detect compact emission around PDS 70 b at $\\sim3\\sigma$ in the Band 6 datasets, with a peak emission of $59\\pm17 \\rm\\mu Jy/beam$ and $46\\pm14 \\rm\\mu Jy/beam$ . We find the astrometric relative position of the compact emission around PDS 70 c to be consistent with the expected position of the planet in the 2019-2023 time range. We measure a peak flux difference of up to $64\\pm34\\rm \\mu Jy/beam$ at $1\\sigma$ confidence level for the continuum emission coming from the region around PDS 70 c and perform a Bayesian test on our measurements, finding that they are not consistent with significant variable emission. We find no evidence of flux variability in the inner disc. We measure the dust mass of the material co-located with PDS 70 c and the inner disc to be in the range $0.008-0.063 M_\\oplus$ and $0.04-0.31 M_\\oplus$ , respectively, consistent with previous measurements. Additionally, we obtain Band 6-7 spectral indices of $2.5\\pm1.2$ and $3.2\\pm0.5$ for the dust emission around PDS 70 c and in the inner disc, respectively, suggesting the inner disc emission is dominated by optically thin dust.\n",
       "\n",
       "</div>\n",
       "\n",
       "<div id=\"div_fig1\">\n",
       "\n",
       "<img src=\"tmp_2506.11709/./Images/Summary_plots.png\" alt=\"Fig2\" width=\"100%\"/>\n",
       "\n",
       "**Figure 2. -** Left to right: Continuum images with insets showing a zoom in the cavity; CLEANed \\texttt{galario} model images; CLEANed residual images; zoom on the North (1) and South (2) sides of the outer ring residuals. Contours start at $3\\sigma$ and increase by $1\\sigma$. The green ellipses approximate the $7\\sigma$ contours of the continuum data. The datasets are ordered from Band 7 to Band 6 and by epoch from top to bottom. (*fig:Summary plots*)\n",
       "\n",
       "</div>\n",
       "<div id=\"div_fig2\">\n",
       "\n",
       "<img src=\"tmp_2506.11709/./Images/Residual_cavity_all_B7.png\" alt=\"Fig3.1\" width=\"50%\"/><img src=\"tmp_2506.11709/./Images/Residual_cavity_all_B6.png\" alt=\"Fig3.2\" width=\"50%\"/>\n",
       "\n",
       "**Figure 3. -** Zoom of the residuals in the cavity from Fig.\\ref{fig:Summary plots}. a) Band 7 2019 (left panel), 2021 (middle panel) and 2023 (right panel) datasets. b) Band 6 2021 datasets at $\\rm220 GHz$(left panel) and $\\rm260 GHz$(right panel). The solid contours start from the $3\\sigma$ emission and increase by $1\\sigma$, while the  dashed contours correspond to the $3\\sigma$ emission from the B7 2023 dataset and are overlaid to the other datasets for comparison. The white plus sign marks the centre of the disc, corrected with the \\texttt{galario} offset. The green circles and purple diamonds represent the expected position in July 2019 (dark), July 2021 (medium) and May 2023 (light) obtained from the orbital fit of PDS 70 b and c  ([Wang, Vigan and Lacour 2021]()) , respectively. The error bars are smaller than the markers.\n",
       "               (*fig:Residual cavity all*)\n",
       "\n",
       "</div>\n",
       "<div id=\"div_fig3\">\n",
       "\n",
       "<img src=\"tmp_2506.11709/./Images/Residual_cavity_clumps_B7.png\" alt=\"Fig4\" width=\"100%\"/>\n",
       "\n",
       "**Figure 4. -** Same as left an middle panels of Fig. \\ref{fig:Residual cavity all B7}, with additional labels to identify Clump 1 and Clump 2. The dashed white and black circles represent the location where we re-detect Clump 1 and Clump 2, respectively, in the B7 2019 dataset (left panel), and their expected position assuming Keplerian rotation in the B7 2021 dataset (right panel). (*fig:Inner disc clumps*)\n",
       "\n",
       "</div><div id=\"qrcode\"><img src=https://api.qrserver.com/v1/create-qr-code/?size=100x100&data=\"https://arxiv.org/abs/2506.11709\"></div>"
      ],
      "text/plain": [
       "<IPython.core.display.Markdown object>"
      ]
     },
     "metadata": {},
     "output_type": "display_data"
    },
    {
     "data": {
      "text/markdown": [
       "<div class=\"macros\" style=\"visibility:hidden;\">\n",
       "$\\newcommand{\\ensuremath}{}$\n",
       "$\\newcommand{\\xspace}{}$\n",
       "$\\newcommand{\\object}[1]{\\texttt{#1}}$\n",
       "$\\newcommand{\\farcs}{{.}''}$\n",
       "$\\newcommand{\\farcm}{{.}'}$\n",
       "$\\newcommand{\\arcsec}{''}$\n",
       "$\\newcommand{\\arcmin}{'}$\n",
       "$\\newcommand{\\ion}[2]{#1#2}$\n",
       "$\\newcommand{\\textsc}[1]{\\textrm{#1}}$\n",
       "$\\newcommand{\\hl}[1]{\\textrm{#1}}$\n",
       "$\\newcommand{\\footnote}[1]{}$\n",
       "$\\newcommand{\\vdag}{(v)^\\dagger}$\n",
       "$\\newcommand$\n",
       "$\\newcommand$\n",
       "$\\newcommand{\\msolpcsq}{M_\\odot pc^{-2}\\xspace}$\n",
       "$\\newcommand{\\msolyr}{M_\\odot yr^{-1}\\xspace}$\n",
       "$\\newcommand{\\msol}{M_\\odot\\xspace}$\n",
       "$\\newcommand{\\twelveco}{^{12}CO\\xspace}$\n",
       "$\\newcommand{\\twelvecoto}{^{12}CO\\mbox{(2-1)}\\xspace}$\n",
       "$\\newcommand{\\twelvecotht}{^{12}CO\\mbox{(3-2)}\\xspace}$\n",
       "$\\newcommand{\\thirtco}{^{13}CO\\xspace}$\n",
       "$\\newcommand{\\thirtcoto}{^{13}CO\\mbox{(2-1)}\\xspace}$\n",
       "$\\newcommand{\\thirtcotht}{^{13}CO\\mbox{(3-2)}\\xspace}$\n",
       "$\\newcommand{\\ceighto}{C^{18}O\\xspace}$\n",
       "$\\newcommand{\\hcop}{HCO^{+}\\xspace}$\n",
       "$\\newcommand{\\hi}{\\ion{H}{1}\\xspace}$\n",
       "$\\newcommand{◦ee}{\\ensuremath{\\circ}}$\n",
       "$\\newcommand{\\hii}{{\\sc H\\textsc{ ii}}\\xspace}$\n",
       "$\\newcommand{\\kms}{km s^{-1}\\xspace}$\n",
       "$\\newcommand{\\htwo}{H_{2}\\xspace}$\n",
       "$\\newcommand{\\halpha}{H\\alpha\\xspace}$\n",
       "$\\newcommand{\\Msun}{M_{\\odot}\\xspace}$\n",
       "$\\newcommand{\\Ox}{Sub-department of Astrophysics, Department of Physics, University of Oxford, Keble Road, Oxford OX1 3RH, UK}$\n",
       "$\\newcommand{\\UGent}{Sterrenkundig Observatorium, Universiteit Gent, Krijgslaan 281 S9, B-9000 Gent, Belgium}$\n",
       "$\\newcommand{\\STScI}{Space Telescope Science Institute, 3700 San Martin Drive, Baltimore, MD 21218, USA}$\n",
       "$\\newcommand{\\IWR}{Universität Heidelberg, Interdisziplinäres Zentrum für Wissenschaftliches Rechnen, Im Neuenheimer Feld 205, 69120 Heidelberg, Germany}$\n",
       "$\\newcommand{\\Radcliffe}{Elizabeth S. and Richard M. Cashin Fellow at the Radcliffe Institute for Advanced Studies at Harvard University, 10 Garden Street, Cambridge, MA 02138, U.S.A.}$\n",
       "$\\newcommand{\\MPIA}{Max-Planck-Institut für Astronomie, Königstuhl 17, D-69117, Heidelberg, Germany}$\n",
       "$\\newcommand{\\AURA}{AURA for the European Space Agency (ESA), Space Telescope Science Institute, 3700 San Martin Drive, Baltimore, MD 21218, USA}$\n",
       "$\\newcommand{\\UCSD}{Department of Astronomy \\& Astrophysics, University of California, San Diego, 9500 Gilman Dr., La Jolla, CA 92093, USA}$\n",
       "$\\newcommand{\\Whitman}{Whitman College, 345 Boyer Avenue, Walla Walla, WA 99362, USA}$\n",
       "$\\newcommand{\\JHU}{Department of Physics and Astronomy, The Johns Hopkins University, Baltimore, MD 21218, USA}$\n",
       "$\\newcommand{\\OSU}{Department of Astronomy, The Ohio State University, 140 West 18th Avenue, Columbus, OH 43210, USA}$\n",
       "$\\newcommand{\\OSUPhys}{Department of Physics, The Ohio State University, Columbus, Ohio 43210, USA}$\n",
       "$\\newcommand{ÇAPP}{Center for Cosmology and Astroparticle Physics (CCAPP), 191 West Woodruff Avenue, Columbus, OH 43210, USA}$\n",
       "$\\newcommand{\\ARI}{Astronomisches Rechen-Institut, Zentrum für Astronomie der Universität Heidelberg, Mönchhofstr. 12-14, D-69120 Heidelberg, Germany}$\n",
       "$\\newcommand{\\ANU}{Research School of Astronomy and Astrophysics, Australian National University, Canberra, ACT 2611, Australia}$\n",
       "$\\newcommand{\\UConn}{Department of Physics, University of Connecticut, 196A Auditorium Road, Storrs, CT 06269, USA}$\n",
       "$\\newcommand{\\UHawaii}{Institute for Astronomy, University of Hawaii, 2680 Woodlawn Drive, Honolulu, HI 96822, USA}$\n",
       "$\\newcommand{\\UniCA}{Université C\\^{o}te d'Azur, Observatoire de la C\\^{o}te d'Azur, CNRS, Laboratoire Lagrange, 06000, Nice, France}$\n",
       "$\\newcommand{\\UAlberta}{Dept. of Physics, University of Alberta, 4-183 CCIS, Edmonton, Alberta, T6G 2E1, Canada}$\n",
       "$\\newcommand{\\Arcetri}{INAF — Osservatorio Astrofisico di Arcetri, Largo E. Fermi 5, I-50125, Florence, Italy}$\n",
       "$\\newcommand{\\UWyoming}{Department of Physics and Astronomy, University of Wyoming, Laramie, WY 82071, USA}$\n",
       "$\\newcommand{\\LJMU}{Astrophysics Research Institute, Liverpool John Moores University, 146 Brownlow Hill, Liverpool L3 5RF, UK}$\n",
       "$\\newcommand{\\ITA}{Universität Heidelberg, Zentrum für Astronomie, Institut für Theoretische Astrophysik, Albert-Ueberle-Str 2, D-69120 Heidelberg, Germany}$\n",
       "$\\newcommand{\\CfA}{Center for Astrophysics \\mid Harvard \\& Smithsonian, 60 Garden St., 02138 Cambridge, MA, USA}$\n",
       "$\\newcommand{\\MPE}{Max-Planck-Institut für Extraterrestrische Physik (MPE), Giessenbachstr. 1, D-85748 Garching, Germany}$\n",
       "$\\newcommand{\\UMD}{Department of Astronomy and Joint Space-Science Institute, University of Maryland, College Park, MD 20742, USA}$\n",
       "$\\newcommand{\\UVA}{Department of Astronomy, University of Virginia, Charlottesville, VA, USA}$\n",
       "$\\newcommand{\\NRAO}{National Radio Astronomy Observatory, Charlottesville, VA, USA}$\n",
       "$\\newcommand{\\ASIAA}{Institute of Astronomy and Astrophysics, Academia Sinica, No. 1, Sec. 4, Roosevelt Road, Taipei 106216, Taiwan}$\n",
       "$\\newcommand{\\kipac}{Kavli Institute for Particle Astrophysics \\& Cosmology (KIPAC), Stanford University, CA 94305, USA}$\n",
       "$\\newcommand{\\aifa}{Argelander-Institut für Astronomie, University of Bonn, Auf dem Hügel 71, 53121 Bonn, Germany}$\n",
       "$\\newcommand{\\TKU}{Department of Physics, Tamkang University, No.151, Yingzhuan Road, Tamsui District, New Taipei City 251301, Taiwan}$\n",
       "$\\newcommand{\\CarnegieObs}{The Observatories of the Carnegie Institution for Science. 813 Santa Barbara Street, Pasadena, CA 91101, USA}$\n",
       "$\\newcommand{\\Princeton}{Department of Astrophysical Sciences, Princeton University, Princeton, NJ 08544, USA}$\n",
       "$\\newcommand{\\IAS}{Institute for Advanced Study, 1 Einstein Drive, Princeton, NJ 08540, USA}$\n",
       "$\\newcommand{\\COOL}{Cosmic Origins Of Life (COOL) Research DAO, coolresearch.io}$\n",
       "$\\newcommand{\\ESO}{European Southern Observatory (ESO), Karl-Schwarzschild-Stra{\\ss}e 2, 85748 Garching, Germany}$\n",
       "$\\newcommand{\\ULyon}{Univ Lyon, Univ Lyon 1, ENS de Lyon, CNRS, Centre de Recherche Astrophysique de Lyon UMR5574, F-69230 Saint-Genis-Laval, France}$\n",
       "$\\newcommand{\\UoM}{Jodrell Bank Centre for Astrophysics, Department of Physics and Astronomy, University of Manchester, Oxford Road, Manchester M13 9PL, UK}$\n",
       "$\\newcommand{\\farcs}{\\hbox{.\\!\\!^{\\prime\\prime}}}$\n",
       "$\\newcommand{\\lesssim}{\\mathrel{\\hbox{\\rlap{\\hbox{\\lower4pt\\hbox{\\sim}}}\\hbox{<}}}}$\n",
       "$\\newcommand{\\gtrsim}{\\mathrel{\\hbox{\\rlap{\\hbox{\\lower4pt\\hbox{\\sim}}}\\hbox{>}}}}$</div>\n",
       "\n",
       "\n",
       "\n",
       "<div id=\"title\">\n",
       "\n",
       "# The Karl G. Jansky Very Large Array Local Group L-band Survey (LGLBS)\n",
       "\n",
       "</div>\n",
       "<div id=\"comments\">\n",
       "\n",
       "[![arXiv](https://img.shields.io/badge/arXiv-2506.11792-b31b1b.svg)](https://arxiv.org/abs/2506.11792)<mark>Appeared on: 2025-06-16</mark> -  _ApJS in press. LGLBS HI v1.0 data release is available here: this https URL (with permanent DOI to follow)_\n",
       "\n",
       "</div>\n",
       "<div id=\"authors\">\n",
       "\n",
       "E. W. Koch, et al. -- incl., <mark>F. Walter</mark>, <mark>E. Schinnerer</mark>\n",
       "\n",
       "</div>\n",
       "<div id=\"abstract\">\n",
       "\n",
       "**Abstract:** We present the Local Group L-Band Survey (LGLBS), a Karl G. Jansky Very Large Array (VLA) survey producing the highest quality 21-cm and $1{-}2$ GHz radio continuum images to date for the six VLA-accessible, star-forming, Local Group galaxies. Leveraging the VLA's spectral multiplexing power, we simultaneously survey the 21-cm line at high $0.4$ km s $^{-1}$ velocity resolution, the 1--2 GHz polarized continuum, and four OH lines. For the massive spiral M31, the dwarf spiral M33, and the dwarf irregular galaxies NGC6822, IC10, IC1613, and the Wolf-Lundmark-Melotte Galaxy (WLM), we use all four VLA configurations and the Green Bank Telescope to reach angular resolutions of $< 5\"$ ( $10{-}20$ pc) for the 21-cm line with $<10^{20}$ cm $^{-2}$ column density sensitivity, and even sharper views ( $< 2\"$ ; $5{-}10$ pc) of the continuum. Targeting these nearby galaxies ( $D\\lesssim1$ Mpc) reveals a sharp, resolved view of the atomic gas, including 21-cm absorption, and continuum emission from supernova remnants and $\\ion{H}{2}$ regions. These datasets can be used to test theories of the abundance and formation of cold clouds, the driving and dissipation of interstellar turbulence, and the impact of feedback from massive stars and supernovae. Here, we describe the survey design and execution, scientific motivation, data processing, and quality assurance. We provide a first look at and publicly release the wide-field 21-cm $\\hi$ data products for M31, M33, and four dwarf irregular targets in the survey, which represent some of the highest physical resolution 21-cm observations of any external galaxies beyond the LMC and SMC.\n",
       "\n",
       "</div>\n",
       "\n",
       "<div id=\"div_fig1\">\n",
       "\n",
       "<img src=\"tmp_2506.11792/./figures/dwarfs_c+d_ew.png\" alt=\"Fig14\" width=\"100%\"/>\n",
       "\n",
       "**Figure 14. -** **$\\hi$ line width maps of the four LGLBS dwarf galaxies, as measured with the effective width,** defined as $\\sigma = I_{\\rm HI} / \\sqrt{2\\pi}   T_{\\rm peak}$. Each map is shown at a common physical resolution of 120 pc. Regions with recent massive star formation in NGC6822 and IC10 tend to show larger velocity dispersions, while IC1613 and WLM with lower recent star formation rates tend to have lower dispersions. (*fig:hi_dwarfs_ew*)\n",
       "\n",
       "</div>\n",
       "<div id=\"div_fig2\">\n",
       "\n",
       "<img src=\"tmp_2506.11792/./figures/flagging_stats_by_spw.png\" alt=\"Fig2\" width=\"100%\"/>\n",
       "\n",
       "**Figure 2. -** **Median percent of flagged data per SPW, where the errorbars reflect the 15$^{\\rm th**$ to 85$^{\\rm th}$ percentile range of 337 LGLBS tracks}. The continuous blue lines indicate flagging percentages for the continuum SPWs, and the orange diamonds are the line SPWs for $\\hi$ and the 4 OH lines (the OH1665/1667 are recorded together in the same SPW). The current LGLBS processing does not include the Hydrogen RRLs included in the spectral setup. (*fig:flagging_by_freq*)\n",
       "\n",
       "</div>\n",
       "<div id=\"div_fig3\">\n",
       "\n",
       "<img src=\"tmp_2506.11792/./figures/m31_m33_c+d_mom1.png\" alt=\"Fig13\" width=\"100%\"/>\n",
       "\n",
       "**Figure 13. -** **$\\hi$ centroid velocity maps of M31 and M33** at a common physical resolution of 120 pc. The colormaps are centered at the galaxy's systemic velocity indicated by the vertical black line in each colorbar and extend to $\\pm V_{\\rm max}$(the maximum rotation velocity). (*fig:hi_m31m33_mom1*)\n",
       "\n",
       "</div><div id=\"qrcode\"><img src=https://api.qrserver.com/v1/create-qr-code/?size=100x100&data=\"https://arxiv.org/abs/2506.11792\"></div>"
      ],
      "text/plain": [
       "<IPython.core.display.Markdown object>"
      ]
     },
     "metadata": {},
     "output_type": "display_data"
    }
   ],
   "source": [
    "[display(Markdown(k[1])) for k in documents];"
   ]
  },
  {
   "cell_type": "markdown",
   "id": "873873a4",
   "metadata": {
    "papermill": {
     "duration": 0.005321,
     "end_time": "2025-06-16T04:25:37.675754",
     "exception": false,
     "start_time": "2025-06-16T04:25:37.670433",
     "status": "completed"
    },
    "tags": []
   },
   "source": [
    "# Create HTML index"
   ]
  },
  {
   "cell_type": "code",
   "execution_count": 10,
   "id": "cf665672",
   "metadata": {
    "execution": {
     "iopub.execute_input": "2025-06-16T04:25:37.687030Z",
     "iopub.status.busy": "2025-06-16T04:25:37.686805Z",
     "iopub.status.idle": "2025-06-16T04:25:37.697709Z",
     "shell.execute_reply": "2025-06-16T04:25:37.697142Z"
    },
    "papermill": {
     "duration": 0.017682,
     "end_time": "2025-06-16T04:25:37.698700",
     "exception": false,
     "start_time": "2025-06-16T04:25:37.681018",
     "status": "completed"
    },
    "tags": []
   },
   "outputs": [
    {
     "name": "stdout",
     "output_type": "stream",
     "text": [
      "524  publications files modified in the last 7 days.\n"
     ]
    }
   ],
   "source": [
    "from datetime import datetime, timedelta, timezone\n",
    "from glob import glob\n",
    "import os\n",
    "\n",
    "files = glob('_build/html/*.md')\n",
    "days = 7\n",
    "now = datetime.today()\n",
    "res = []\n",
    "for fk in files:\n",
    "    stat_result = os.stat(fk).st_ctime\n",
    "    modified = datetime.fromtimestamp(stat_result, tz=timezone.utc).replace(tzinfo=None)\n",
    "    delta = now.today() - modified\n",
    "    if delta <= timedelta(days=days):\n",
    "        res.append((delta.seconds, fk))\n",
    "res = [k[1] for k in reversed(sorted(res, key=lambda x:x[1]))]\n",
    "npub = len(res)\n",
    "print(len(res), f\" publications files modified in the last {days:d} days.\")\n",
    "# [ print('\\t', k) for k in res ];"
   ]
  },
  {
   "cell_type": "code",
   "execution_count": 11,
   "id": "015de740",
   "metadata": {
    "execution": {
     "iopub.execute_input": "2025-06-16T04:25:37.710119Z",
     "iopub.status.busy": "2025-06-16T04:25:37.709878Z",
     "iopub.status.idle": "2025-06-16T04:25:37.734200Z",
     "shell.execute_reply": "2025-06-16T04:25:37.733656Z"
    },
    "papermill": {
     "duration": 0.03116,
     "end_time": "2025-06-16T04:25:37.735145",
     "exception": false,
     "start_time": "2025-06-16T04:25:37.703985",
     "status": "completed"
    },
    "tags": []
   },
   "outputs": [
    {
     "name": "stdout",
     "output_type": "stream",
     "text": [
      "14  publications in the last 7 days.\n"
     ]
    }
   ],
   "source": [
    "import datetime\n",
    "from glob import glob\n",
    "\n",
    "def get_last_n_days(lst, days=1):\n",
    "    \"\"\" Get the documents from the last n days \"\"\"\n",
    "    sorted_lst = sorted(lst, key=lambda x: x[1], reverse=True)\n",
    "    for fname, date in sorted_lst:\n",
    "        if date >= str(datetime.date.today() - datetime.timedelta(days=days)):\n",
    "            yield fname\n",
    "\n",
    "def extract_appearance_dates(lst_file):\n",
    "    dates = []\n",
    "\n",
    "    def get_date(line):\n",
    "        return line\\\n",
    "            .split('Appeared on:')[-1]\\\n",
    "            .split('</mark>')[0].strip()\n",
    "\n",
    "    for fname in lst:\n",
    "        with open(fname, 'r') as f:\n",
    "            found_date = False\n",
    "            for line in f:\n",
    "                if not found_date:\n",
    "                    if \"Appeared on\" in line:\n",
    "                        found_date = True\n",
    "                        dates.append((fname, get_date(line)))\n",
    "                else:\n",
    "                    break\n",
    "    return dates\n",
    "\n",
    "from glob import glob\n",
    "lst = glob('_build/html/*md')\n",
    "days = 7\n",
    "dates = extract_appearance_dates(lst)\n",
    "res = list(get_last_n_days(dates, days))\n",
    "npub = len(res)\n",
    "print(len(res), f\" publications in the last {days:d} days.\")"
   ]
  },
  {
   "cell_type": "code",
   "execution_count": 12,
   "id": "52ca0208",
   "metadata": {
    "execution": {
     "iopub.execute_input": "2025-06-16T04:25:37.746758Z",
     "iopub.status.busy": "2025-06-16T04:25:37.746567Z",
     "iopub.status.idle": "2025-06-16T04:25:37.751556Z",
     "shell.execute_reply": "2025-06-16T04:25:37.750903Z"
    },
    "papermill": {
     "duration": 0.011902,
     "end_time": "2025-06-16T04:25:37.752546",
     "exception": false,
     "start_time": "2025-06-16T04:25:37.740644",
     "status": "completed"
    },
    "scrolled": false,
    "tags": []
   },
   "outputs": [],
   "source": [
    "def create_carousel(npub=4):\n",
    "    \"\"\" Generate the HTML code for a carousel with `npub` slides \"\"\"\n",
    "    carousel = [\"\"\"  <div class=\"carousel\" \"\"\",\n",
    "                \"\"\"       data-flickity='{ \"autoPlay\": 10000, \"adaptiveHeight\": true, \"resize\": true, \"wrapAround\": true, \"pauseAutoPlayOnHover\": true, \"groupCells\": 1 }' id=\"asyncTypeset\">\"\"\"\n",
    "                ]\n",
    "    \n",
    "    item_str = \"\"\"    <div class=\"carousel-cell\"> <div id=\"slide{k}\" class=\"md_view\">Content {k}</div> </div>\"\"\"\n",
    "    for k in range(1, npub + 1):\n",
    "        carousel.append(item_str.format(k=k))\n",
    "    carousel.append(\"  </div>\")\n",
    "    return '\\n'.join(carousel)\n",
    "\n",
    "def create_grid(npub=4):\n",
    "    \"\"\" Generate the HTML code for a flat grid with `npub` slides \"\"\"\n",
    "    grid = [\"\"\"  <div class=\"grid\"> \"\"\",\n",
    "                ]\n",
    "    \n",
    "    item_str = \"\"\"    <div class=\"grid-item\"> <div id=\"slide{k}\" class=\"md_view\">Content {k}</div> </div>\"\"\"\n",
    "    for k in range(1, npub + 1):\n",
    "        grid.append(item_str.format(k=k))\n",
    "    grid.append(\"  </div>\")\n",
    "    return '\\n'.join(grid)"
   ]
  },
  {
   "cell_type": "code",
   "execution_count": 13,
   "id": "a6eac5b6",
   "metadata": {
    "execution": {
     "iopub.execute_input": "2025-06-16T04:25:37.764159Z",
     "iopub.status.busy": "2025-06-16T04:25:37.763793Z",
     "iopub.status.idle": "2025-06-16T04:25:37.768793Z",
     "shell.execute_reply": "2025-06-16T04:25:37.768153Z"
    },
    "papermill": {
     "duration": 0.011842,
     "end_time": "2025-06-16T04:25:37.769764",
     "exception": false,
     "start_time": "2025-06-16T04:25:37.757922",
     "status": "completed"
    },
    "scrolled": false,
    "tags": []
   },
   "outputs": [],
   "source": [
    "carousel = create_carousel(npub)\n",
    "docs = ', '.join(['\"{0:s}\"'.format(k.split('/')[-1]) for k in res])\n",
    "slides = ', '.join([f'\"slide{k}\"' for k in range(1, npub + 1)])\n",
    "\n",
    "with open(\"daily_template.html\", \"r\") as tpl:\n",
    "    page = tpl.read()\n",
    "    page = page.replace(\"{%-- carousel:s --%}\", carousel)\\\n",
    "               .replace(\"{%-- suptitle:s --%}\",  \"7-day archives\" )\\\n",
    "               .replace(\"{%-- docs:s --%}\", docs)\\\n",
    "               .replace(\"{%-- slides:s --%}\", slides)\n",
    "    \n",
    "with open(\"_build/html/index_7days.html\", 'w') as fout:\n",
    "    fout.write(page)"
   ]
  },
  {
   "cell_type": "code",
   "execution_count": 14,
   "id": "adc1a1ec",
   "metadata": {
    "execution": {
     "iopub.execute_input": "2025-06-16T04:25:37.782124Z",
     "iopub.status.busy": "2025-06-16T04:25:37.781607Z",
     "iopub.status.idle": "2025-06-16T04:25:37.788848Z",
     "shell.execute_reply": "2025-06-16T04:25:37.788275Z"
    },
    "papermill": {
     "duration": 0.014388,
     "end_time": "2025-06-16T04:25:37.789888",
     "exception": false,
     "start_time": "2025-06-16T04:25:37.775500",
     "status": "completed"
    },
    "tags": []
   },
   "outputs": [
    {
     "name": "stdout",
     "output_type": "stream",
     "text": [
      "3  publications in the last day.\n"
     ]
    }
   ],
   "source": [
    "# redo for today\n",
    "days = 1\n",
    "res = list(get_last_n_days(dates, days))\n",
    "npub = len(res)\n",
    "print(len(res), f\" publications in the last day.\")\n",
    "\n",
    "carousel = create_carousel(npub)\n",
    "docs = ', '.join(['\"{0:s}\"'.format(k.split('/')[-1]) for k in res])\n",
    "slides = ', '.join([f'\"slide{k}\"' for k in range(1, npub + 1)])\n",
    "\n",
    "with open(\"daily_template.html\", \"r\") as tpl:\n",
    "    page = tpl.read()\n",
    "    page = page.replace(\"{%-- carousel:s --%}\", carousel)\\\n",
    "               .replace(\"{%-- suptitle:s --%}\",  \"Daily\" )\\\n",
    "               .replace(\"{%-- docs:s --%}\", docs)\\\n",
    "               .replace(\"{%-- slides:s --%}\", slides)\n",
    "    \n",
    "# print(carousel, docs, slides)\n",
    "# print(page)\n",
    "with open(\"_build/html/index_daily.html\", 'w') as fout:\n",
    "    fout.write(page)"
   ]
  },
  {
   "cell_type": "code",
   "execution_count": 15,
   "id": "00eece82",
   "metadata": {
    "execution": {
     "iopub.execute_input": "2025-06-16T04:25:37.801661Z",
     "iopub.status.busy": "2025-06-16T04:25:37.801445Z",
     "iopub.status.idle": "2025-06-16T04:25:37.807986Z",
     "shell.execute_reply": "2025-06-16T04:25:37.807311Z"
    },
    "papermill": {
     "duration": 0.01357,
     "end_time": "2025-06-16T04:25:37.809017",
     "exception": false,
     "start_time": "2025-06-16T04:25:37.795447",
     "status": "completed"
    },
    "scrolled": false,
    "tags": []
   },
   "outputs": [
    {
     "name": "stdout",
     "output_type": "stream",
     "text": [
      "6  6 publications selected.\n"
     ]
    }
   ],
   "source": [
    "# Create the flat grid of the last N papers (fixed number regardless of dates)\n",
    "from itertools import islice \n",
    "\n",
    "npub = 6\n",
    "res = [k[0] for k in (islice(reversed(sorted(dates, key=lambda x: x[1])), 6))]\n",
    "print(len(res), f\" {npub} publications selected.\")\n",
    "\n",
    "grid = create_grid(npub)\n",
    "docs = ', '.join(['\"{0:s}\"'.format(k.split('/')[-1]) for k in res])\n",
    "slides = ', '.join([f'\"slide{k}\"' for k in range(1, npub + 1)])\n",
    "\n",
    "with open(\"grid_template.html\", \"r\") as tpl:\n",
    "    page = tpl.read()\n",
    "    page = page.replace(\"{%-- grid-content:s --%}\", grid)\\\n",
    "               .replace(\"{%-- suptitle:s --%}\",  f\"Last {npub:,d} papers\" )\\\n",
    "               .replace(\"{%-- docs:s --%}\", docs)\\\n",
    "               .replace(\"{%-- slides:s --%}\", slides)\n",
    "    \n",
    "# print(grid, docs, slides)\n",
    "# print(page)\n",
    "with open(\"_build/html/index_npub_grid.html\", 'w') as fout:\n",
    "    fout.write(page)"
   ]
  }
 ],
 "metadata": {
  "kernelspec": {
   "display_name": "Python 3 (ipykernel)",
   "language": "python",
   "name": "python3"
  },
  "language_info": {
   "codemirror_mode": {
    "name": "ipython",
    "version": 3
   },
   "file_extension": ".py",
   "mimetype": "text/x-python",
   "name": "python",
   "nbconvert_exporter": "python",
   "pygments_lexer": "ipython3",
   "version": "3.9.22"
  },
  "papermill": {
   "default_parameters": {},
   "duration": 72.903182,
   "end_time": "2025-06-16T04:25:38.030313",
   "environment_variables": {},
   "exception": null,
   "input_path": "MPIA daily digest.ipynb",
   "output_path": "log.ipynb",
   "parameters": {},
   "start_time": "2025-06-16T04:24:25.127131",
   "version": "2.6.0"
  },
  "vscode": {
   "interpreter": {
    "hash": "aee8b7b246df8f9039afb4144a1f6fd8d2ca17a180786b69acc140d282b71a49"
   }
  },
  "widgets": {
   "application/vnd.jupyter.widget-state+json": {
    "state": {
     "06f734c86b1547c7998783ef04796c47": {
      "model_module": "@jupyter-widgets/controls",
      "model_module_version": "2.0.0",
      "model_name": "ProgressStyleModel",
      "state": {
       "_model_module": "@jupyter-widgets/controls",
       "_model_module_version": "2.0.0",
       "_model_name": "ProgressStyleModel",
       "_view_count": null,
       "_view_module": "@jupyter-widgets/base",
       "_view_module_version": "2.0.0",
       "_view_name": "StyleView",
       "bar_color": null,
       "description_width": ""
      }
     },
     "5a20d41415984ccea0ac25f31c7e586b": {
      "model_module": "@jupyter-widgets/controls",
      "model_module_version": "2.0.0",
      "model_name": "HTMLStyleModel",
      "state": {
       "_model_module": "@jupyter-widgets/controls",
       "_model_module_version": "2.0.0",
       "_model_name": "HTMLStyleModel",
       "_view_count": null,
       "_view_module": "@jupyter-widgets/base",
       "_view_module_version": "2.0.0",
       "_view_name": "StyleView",
       "background": null,
       "description_width": "",
       "font_size": null,
       "text_color": null
      }
     },
     "62e27f66dbb64eda91900446118c7677": {
      "model_module": "@jupyter-widgets/controls",
      "model_module_version": "2.0.0",
      "model_name": "FloatProgressModel",
      "state": {
       "_dom_classes": [],
       "_model_module": "@jupyter-widgets/controls",
       "_model_module_version": "2.0.0",
       "_model_name": "FloatProgressModel",
       "_view_count": null,
       "_view_module": "@jupyter-widgets/controls",
       "_view_module_version": "2.0.0",
       "_view_name": "ProgressView",
       "bar_style": "success",
       "description": "",
       "description_allow_html": false,
       "layout": "IPY_MODEL_b6a0fd12e8804450a86176cec5d984ad",
       "max": 5.0,
       "min": 0.0,
       "orientation": "horizontal",
       "style": "IPY_MODEL_06f734c86b1547c7998783ef04796c47",
       "tabbable": null,
       "tooltip": null,
       "value": 5.0
      }
     },
     "851b368ae5ca468ba16257cafecd211f": {
      "model_module": "@jupyter-widgets/controls",
      "model_module_version": "2.0.0",
      "model_name": "HTMLModel",
      "state": {
       "_dom_classes": [],
       "_model_module": "@jupyter-widgets/controls",
       "_model_module_version": "2.0.0",
       "_model_name": "HTMLModel",
       "_view_count": null,
       "_view_module": "@jupyter-widgets/controls",
       "_view_module_version": "2.0.0",
       "_view_name": "HTMLView",
       "description": "",
       "description_allow_html": false,
       "layout": "IPY_MODEL_baaab6ad6bd94986a5ea247aa4b4b7fe",
       "placeholder": "​",
       "style": "IPY_MODEL_c6d390acf3a9450eb60521b6331a36df",
       "tabbable": null,
       "tooltip": null,
       "value": "100%"
      }
     },
     "9def5b7193d64727978d3ca5f116045c": {
      "model_module": "@jupyter-widgets/base",
      "model_module_version": "2.0.0",
      "model_name": "LayoutModel",
      "state": {
       "_model_module": "@jupyter-widgets/base",
       "_model_module_version": "2.0.0",
       "_model_name": "LayoutModel",
       "_view_count": null,
       "_view_module": "@jupyter-widgets/base",
       "_view_module_version": "2.0.0",
       "_view_name": "LayoutView",
       "align_content": null,
       "align_items": null,
       "align_self": null,
       "border_bottom": null,
       "border_left": null,
       "border_right": null,
       "border_top": null,
       "bottom": null,
       "display": null,
       "flex": null,
       "flex_flow": null,
       "grid_area": null,
       "grid_auto_columns": null,
       "grid_auto_flow": null,
       "grid_auto_rows": null,
       "grid_column": null,
       "grid_gap": null,
       "grid_row": null,
       "grid_template_areas": null,
       "grid_template_columns": null,
       "grid_template_rows": null,
       "height": null,
       "justify_content": null,
       "justify_items": null,
       "left": null,
       "margin": null,
       "max_height": null,
       "max_width": null,
       "min_height": null,
       "min_width": null,
       "object_fit": null,
       "object_position": null,
       "order": null,
       "overflow": null,
       "padding": null,
       "right": null,
       "top": null,
       "visibility": null,
       "width": null
      }
     },
     "a10edc61b82e43efa9b0e0b396fbc8f9": {
      "model_module": "@jupyter-widgets/controls",
      "model_module_version": "2.0.0",
      "model_name": "HTMLModel",
      "state": {
       "_dom_classes": [],
       "_model_module": "@jupyter-widgets/controls",
       "_model_module_version": "2.0.0",
       "_model_name": "HTMLModel",
       "_view_count": null,
       "_view_module": "@jupyter-widgets/controls",
       "_view_module_version": "2.0.0",
       "_view_name": "HTMLView",
       "description": "",
       "description_allow_html": false,
       "layout": "IPY_MODEL_9def5b7193d64727978d3ca5f116045c",
       "placeholder": "​",
       "style": "IPY_MODEL_5a20d41415984ccea0ac25f31c7e586b",
       "tabbable": null,
       "tooltip": null,
       "value": " 5/5 [00:49&lt;00:00, 11.80s/it]"
      }
     },
     "b6a0fd12e8804450a86176cec5d984ad": {
      "model_module": "@jupyter-widgets/base",
      "model_module_version": "2.0.0",
      "model_name": "LayoutModel",
      "state": {
       "_model_module": "@jupyter-widgets/base",
       "_model_module_version": "2.0.0",
       "_model_name": "LayoutModel",
       "_view_count": null,
       "_view_module": "@jupyter-widgets/base",
       "_view_module_version": "2.0.0",
       "_view_name": "LayoutView",
       "align_content": null,
       "align_items": null,
       "align_self": null,
       "border_bottom": null,
       "border_left": null,
       "border_right": null,
       "border_top": null,
       "bottom": null,
       "display": null,
       "flex": null,
       "flex_flow": null,
       "grid_area": null,
       "grid_auto_columns": null,
       "grid_auto_flow": null,
       "grid_auto_rows": null,
       "grid_column": null,
       "grid_gap": null,
       "grid_row": null,
       "grid_template_areas": null,
       "grid_template_columns": null,
       "grid_template_rows": null,
       "height": null,
       "justify_content": null,
       "justify_items": null,
       "left": null,
       "margin": null,
       "max_height": null,
       "max_width": null,
       "min_height": null,
       "min_width": null,
       "object_fit": null,
       "object_position": null,
       "order": null,
       "overflow": null,
       "padding": null,
       "right": null,
       "top": null,
       "visibility": null,
       "width": null
      }
     },
     "baaab6ad6bd94986a5ea247aa4b4b7fe": {
      "model_module": "@jupyter-widgets/base",
      "model_module_version": "2.0.0",
      "model_name": "LayoutModel",
      "state": {
       "_model_module": "@jupyter-widgets/base",
       "_model_module_version": "2.0.0",
       "_model_name": "LayoutModel",
       "_view_count": null,
       "_view_module": "@jupyter-widgets/base",
       "_view_module_version": "2.0.0",
       "_view_name": "LayoutView",
       "align_content": null,
       "align_items": null,
       "align_self": null,
       "border_bottom": null,
       "border_left": null,
       "border_right": null,
       "border_top": null,
       "bottom": null,
       "display": null,
       "flex": null,
       "flex_flow": null,
       "grid_area": null,
       "grid_auto_columns": null,
       "grid_auto_flow": null,
       "grid_auto_rows": null,
       "grid_column": null,
       "grid_gap": null,
       "grid_row": null,
       "grid_template_areas": null,
       "grid_template_columns": null,
       "grid_template_rows": null,
       "height": null,
       "justify_content": null,
       "justify_items": null,
       "left": null,
       "margin": null,
       "max_height": null,
       "max_width": null,
       "min_height": null,
       "min_width": null,
       "object_fit": null,
       "object_position": null,
       "order": null,
       "overflow": null,
       "padding": null,
       "right": null,
       "top": null,
       "visibility": null,
       "width": null
      }
     },
     "bb4d9c50d9d945d4bdc5798852c4914a": {
      "model_module": "@jupyter-widgets/base",
      "model_module_version": "2.0.0",
      "model_name": "LayoutModel",
      "state": {
       "_model_module": "@jupyter-widgets/base",
       "_model_module_version": "2.0.0",
       "_model_name": "LayoutModel",
       "_view_count": null,
       "_view_module": "@jupyter-widgets/base",
       "_view_module_version": "2.0.0",
       "_view_name": "LayoutView",
       "align_content": null,
       "align_items": null,
       "align_self": null,
       "border_bottom": null,
       "border_left": null,
       "border_right": null,
       "border_top": null,
       "bottom": null,
       "display": null,
       "flex": null,
       "flex_flow": null,
       "grid_area": null,
       "grid_auto_columns": null,
       "grid_auto_flow": null,
       "grid_auto_rows": null,
       "grid_column": null,
       "grid_gap": null,
       "grid_row": null,
       "grid_template_areas": null,
       "grid_template_columns": null,
       "grid_template_rows": null,
       "height": null,
       "justify_content": null,
       "justify_items": null,
       "left": null,
       "margin": null,
       "max_height": null,
       "max_width": null,
       "min_height": null,
       "min_width": null,
       "object_fit": null,
       "object_position": null,
       "order": null,
       "overflow": null,
       "padding": null,
       "right": null,
       "top": null,
       "visibility": null,
       "width": null
      }
     },
     "c6d390acf3a9450eb60521b6331a36df": {
      "model_module": "@jupyter-widgets/controls",
      "model_module_version": "2.0.0",
      "model_name": "HTMLStyleModel",
      "state": {
       "_model_module": "@jupyter-widgets/controls",
       "_model_module_version": "2.0.0",
       "_model_name": "HTMLStyleModel",
       "_view_count": null,
       "_view_module": "@jupyter-widgets/base",
       "_view_module_version": "2.0.0",
       "_view_name": "StyleView",
       "background": null,
       "description_width": "",
       "font_size": null,
       "text_color": null
      }
     },
     "e35f6defc3d949a19917ef28b8d052d2": {
      "model_module": "@jupyter-widgets/controls",
      "model_module_version": "2.0.0",
      "model_name": "HBoxModel",
      "state": {
       "_dom_classes": [],
       "_model_module": "@jupyter-widgets/controls",
       "_model_module_version": "2.0.0",
       "_model_name": "HBoxModel",
       "_view_count": null,
       "_view_module": "@jupyter-widgets/controls",
       "_view_module_version": "2.0.0",
       "_view_name": "HBoxView",
       "box_style": "",
       "children": [
        "IPY_MODEL_851b368ae5ca468ba16257cafecd211f",
        "IPY_MODEL_62e27f66dbb64eda91900446118c7677",
        "IPY_MODEL_a10edc61b82e43efa9b0e0b396fbc8f9"
       ],
       "layout": "IPY_MODEL_bb4d9c50d9d945d4bdc5798852c4914a",
       "tabbable": null,
       "tooltip": null
      }
     }
    },
    "version_major": 2,
    "version_minor": 0
   }
  }
 },
 "nbformat": 4,
 "nbformat_minor": 5
}