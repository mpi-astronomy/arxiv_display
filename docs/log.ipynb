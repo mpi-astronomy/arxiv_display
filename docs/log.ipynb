{
 "cells": [
  {
   "cell_type": "markdown",
   "id": "92bcb855",
   "metadata": {
    "papermill": {
     "duration": 0.00628,
     "end_time": "2022-09-01T08:19:00.082464",
     "exception": false,
     "start_time": "2022-09-01T08:19:00.076184",
     "status": "completed"
    },
    "tags": []
   },
   "source": [
    "# MPIA Arxiv on Deck 2\n",
    "\n",
    "Contains the steps to produce the paper extractions."
   ]
  },
  {
   "cell_type": "code",
   "execution_count": 1,
   "id": "3a0d6e11",
   "metadata": {
    "execution": {
     "iopub.execute_input": "2022-09-01T08:19:00.094587Z",
     "iopub.status.busy": "2022-09-01T08:19:00.094249Z",
     "iopub.status.idle": "2022-09-01T08:19:00.300951Z",
     "shell.execute_reply": "2022-09-01T08:19:00.300025Z"
    },
    "papermill": {
     "duration": 0.215614,
     "end_time": "2022-09-01T08:19:00.303317",
     "exception": false,
     "start_time": "2022-09-01T08:19:00.087703",
     "status": "completed"
    },
    "tags": []
   },
   "outputs": [],
   "source": [
    "# Imports\n",
    "import os\n",
    "from IPython.display import Markdown, display\n",
    "from tqdm.notebook import tqdm\n",
    "import warnings\n",
    "from PIL import Image \n",
    "\n",
    "# requires arxiv_on_deck_2\n",
    "\n",
    "from arxiv_on_deck_2.arxiv2 import (get_new_papers, \n",
    "                                    get_paper_from_identifier,\n",
    "                                    retrieve_document_source, \n",
    "                                    get_markdown_badge)\n",
    "from arxiv_on_deck_2 import (latex, \n",
    "                             mpia,\n",
    "                             highlight_authors_in_list)\n",
    "\n",
    "# Sometimes images are really big\n",
    "Image.MAX_IMAGE_PIXELS = 1000000000 "
   ]
  },
  {
   "cell_type": "code",
   "execution_count": 2,
   "id": "22aa9d44",
   "metadata": {
    "execution": {
     "iopub.execute_input": "2022-09-01T08:19:00.320111Z",
     "iopub.status.busy": "2022-09-01T08:19:00.319822Z",
     "iopub.status.idle": "2022-09-01T08:19:00.327012Z",
     "shell.execute_reply": "2022-09-01T08:19:00.326084Z"
    },
    "papermill": {
     "duration": 0.018614,
     "end_time": "2022-09-01T08:19:00.329122",
     "exception": false,
     "start_time": "2022-09-01T08:19:00.310508",
     "status": "completed"
    },
    "tags": []
   },
   "outputs": [],
   "source": [
    "# Some useful definitions.\n",
    "\n",
    "class AffiliationWarning(UserWarning):\n",
    "    pass\n",
    "\n",
    "class AffiliationError(RuntimeError):\n",
    "    pass\n",
    "\n",
    "def validation(source: str):\n",
    "    \"\"\"Raises error paper during parsing of source file\n",
    "    \n",
    "    Allows checks before parsing TeX code.\n",
    "    \n",
    "    Raises AffiliationWarning\n",
    "    \"\"\"\n",
    "    check = mpia.affiliation_verifications(source, verbose=True)\n",
    "    if check is not True:\n",
    "        raise AffiliationError(\"mpia.affiliation_verifications: \" + check)\n",
    "\n",
    "        \n",
    "warnings.simplefilter('always', AffiliationWarning)"
   ]
  },
  {
   "cell_type": "code",
   "execution_count": 3,
   "id": "14622700",
   "metadata": {
    "execution": {
     "iopub.execute_input": "2022-09-01T08:19:00.339876Z",
     "iopub.status.busy": "2022-09-01T08:19:00.339590Z",
     "iopub.status.idle": "2022-09-01T08:19:00.343825Z",
     "shell.execute_reply": "2022-09-01T08:19:00.343029Z"
    },
    "papermill": {
     "duration": 0.01249,
     "end_time": "2022-09-01T08:19:00.346306",
     "exception": false,
     "start_time": "2022-09-01T08:19:00.333816",
     "status": "completed"
    },
    "tags": []
   },
   "outputs": [],
   "source": [
    "# additional CSS to consider. \n",
    "# TODO: Current into each exported file. \n",
    "#       This should be set once into the webpages directly.\n",
    "#       With only the class/id definitions in the .md files.\n",
    "\n",
    "debug_html = \"\"\"\n",
    "<style>\n",
    "#wrap{ overflow:auto; }\n",
    "#fig1{ background:yellow; width:100%; float:left; padding:5px;  }\n",
    "#fig2{ background:red; width:50%; float:left; clear:left; padding:5px;  }\n",
    "#fig3{ background:green; width:50%; float:left; padding:5px;   }\n",
    ".macros{ background:yellow; visibility:visible;}\n",
    "h1 {margin: 0 0 0 0;}\n",
    "mark {background-color:#fff3b6;}\n",
    "img {object-fit:contain; max-height:250px; display:inline-block; text-align: center;}\n",
    "</style>\n",
    "\"\"\" \n",
    "html = \"\"\"\n",
    "<style>\n",
    "#wrap{ overflow:auto; }\n",
    "#fig1{ width:100%; float:left; padding: 5px;  }\n",
    "#fig2{ width:50%; float:left; clear:left; padding: 5px;  }\n",
    "#fig3{ width:50%; float:left; padding: 5px;  }\n",
    ".macros{ visibility:hidden; height:0px; }\n",
    "h1 {margin: 0em 0 0 0;}\n",
    "mark {background-color:#fff3b6;}\n",
    "img {object-fit:contain; max-height:250px; display:inline-block; text-align: center;}\n",
    "</style>\n",
    "\"\"\""
   ]
  },
  {
   "cell_type": "markdown",
   "id": "14bd6310",
   "metadata": {
    "papermill": {
     "duration": 0.004456,
     "end_time": "2022-09-01T08:19:00.354975",
     "exception": false,
     "start_time": "2022-09-01T08:19:00.350519",
     "status": "completed"
    },
    "tags": []
   },
   "source": [
    "## get list of arxiv paper candidates\n",
    "\n",
    "We use the MPIA mitarbeiter list webpage from mpia.de to get author names\n",
    "We then get all new papers from Arxiv and match authors"
   ]
  },
  {
   "cell_type": "code",
   "execution_count": 4,
   "id": "2645e73a",
   "metadata": {
    "execution": {
     "iopub.execute_input": "2022-09-01T08:19:00.366491Z",
     "iopub.status.busy": "2022-09-01T08:19:00.366078Z",
     "iopub.status.idle": "2022-09-01T08:19:27.238835Z",
     "shell.execute_reply": "2022-09-01T08:19:27.237738Z"
    },
    "papermill": {
     "duration": 26.880221,
     "end_time": "2022-09-01T08:19:27.240878",
     "exception": false,
     "start_time": "2022-09-01T08:19:00.360657",
     "status": "completed"
    },
    "tags": []
   },
   "outputs": [
    {
     "name": "stdout",
     "output_type": "stream",
     "text": [
      "Arxiv has 59 new papers today\n",
      "          20 with possible author matches\n"
     ]
    }
   ],
   "source": [
    "# get list from MPIA website\n",
    "# it automatically filters identified non-scientists :func:`mpia.filter_non_scientists`\n",
    "mpia_authors = mpia.get_mpia_mitarbeiter_list()\n",
    "new_papers = get_new_papers()\n",
    "# add manual references\n",
    "add_paper_refs = []\n",
    "new_papers.extend([get_paper_from_identifier(k) for k in add_paper_refs])\n",
    "\n",
    "# select only papers with matching author names and highlight authors\n",
    "hl_list = [k[0] for k in mpia_authors]\n",
    "\n",
    "candidates = []\n",
    "for paperk in new_papers:\n",
    "    hl_authors = highlight_authors_in_list(paperk['authors'], hl_list)\n",
    "    matches = [(hl, orig) for hl, orig in zip(hl_authors, paperk['authors']) if 'mark' in hl]\n",
    "    paperk['authors'] = hl_authors\n",
    "    if matches:\n",
    "        candidates.append(paperk)\n",
    "print(\"\"\"Arxiv has {0:,d} new papers today\"\"\".format(len(new_papers)))        \n",
    "print(\"\"\"          {0:,d} with possible author matches\"\"\".format(len(candidates)))"
   ]
  },
  {
   "cell_type": "markdown",
   "id": "3543b34a",
   "metadata": {
    "papermill": {
     "duration": 0.004942,
     "end_time": "2022-09-01T08:19:27.251468",
     "exception": false,
     "start_time": "2022-09-01T08:19:27.246526",
     "status": "completed"
    },
    "tags": []
   },
   "source": [
    "# Parse sources and generate relevant outputs\n",
    "\n",
    "From the candidates, we do the following steps:\n",
    "* get their tarball from ArXiv (and extract data)\n",
    "* find the main .tex file: find one with \\documentclass{...} (sometimes it's non trivial)\n",
    "* Check affiliations with :func:`validation`, which uses :func:`mpia.affiliation_verifications`\n",
    "* If passing the affiliations: we parse the .tex source\n",
    "   * inject sub-documents into the main (flatten the main document)\n",
    "   * parse structure, extract information (title, abstract, authors, figures...)\n",
    "   * handles `\\graphicspath` if provided\n",
    "* Generate the .md document."
   ]
  },
  {
   "cell_type": "code",
   "execution_count": 5,
   "id": "9576b79e",
   "metadata": {
    "execution": {
     "iopub.execute_input": "2022-09-01T08:19:27.263001Z",
     "iopub.status.busy": "2022-09-01T08:19:27.262718Z",
     "iopub.status.idle": "2022-09-01T08:22:51.728157Z",
     "shell.execute_reply": "2022-09-01T08:22:51.727196Z"
    },
    "papermill": {
     "duration": 204.474625,
     "end_time": "2022-09-01T08:22:51.730918",
     "exception": false,
     "start_time": "2022-09-01T08:19:27.256293",
     "status": "completed"
    },
    "scrolled": false,
    "tags": []
   },
   "outputs": [
    {
     "data": {
      "application/json": {
       "ascii": false,
       "bar_format": null,
       "colour": null,
       "elapsed": 0.02723860740661621,
       "initial": 0,
       "n": 0,
       "ncols": null,
       "nrows": null,
       "postfix": null,
       "prefix": "",
       "rate": null,
       "total": 19,
       "unit": "it",
       "unit_divisor": 1000,
       "unit_scale": false
      },
      "application/vnd.jupyter.widget-view+json": {
       "model_id": "849abf6cef774613af8dc1b65ed4d224",
       "version_major": 2,
       "version_minor": 0
      },
      "text/plain": [
       "  0%|          | 0/19 [00:00<?, ?it/s]"
      ]
     },
     "metadata": {},
     "output_type": "display_data"
    },
    {
     "name": "stdout",
     "output_type": "stream",
     "text": [
      "Retrieving document from  https://arxiv.org/e-print/2208.14455\n"
     ]
    },
    {
     "name": "stdout",
     "output_type": "stream",
     "text": [
      "extracting tarball to tmp_2208.14455..."
     ]
    },
    {
     "name": "stdout",
     "output_type": "stream",
     "text": [
      " done.\n",
      "Retrieving document from  https://arxiv.org/e-print/2208.14480\n"
     ]
    },
    {
     "name": "stderr",
     "output_type": "stream",
     "text": [
      "/opt/hostedtoolcache/Python/3.9.13/x64/lib/python3.9/site-packages/IPython/core/interactiveshell.py:3398: LatexWarning: Multiple tex files.\n",
      "\n",
      "  exec(code_obj, self.user_global_ns, self.user_ns)\n",
      "/opt/hostedtoolcache/Python/3.9.13/x64/lib/python3.9/site-packages/IPython/core/interactiveshell.py:3398: LatexWarning: Found documentclass in tmp_2208.14455/main.tex\n",
      "\n",
      "  exec(code_obj, self.user_global_ns, self.user_ns)\n",
      "/opt/hostedtoolcache/Python/3.9.13/x64/lib/python3.9/site-packages/arxiv_on_deck_2/latex.py:292: LatexWarning: Latex injecting: 'authors' from 'tmp_2208.14455/authors.tex'\n",
      "  warnings.warn(LatexWarning(f\"Latex injecting: '{ext}' from '{subsource}'\"))\n",
      "/opt/hostedtoolcache/Python/3.9.13/x64/lib/python3.9/site-packages/arxiv_on_deck_2/latex.py:292: LatexWarning: Latex injecting: 'affiliation' from 'tmp_2208.14455/affiliation.tex'\n",
      "  warnings.warn(LatexWarning(f\"Latex injecting: '{ext}' from '{subsource}'\"))\n"
     ]
    },
    {
     "name": "stdout",
     "output_type": "stream",
     "text": [
      "extracting tarball to tmp_2208.14480..."
     ]
    },
    {
     "name": "stdout",
     "output_type": "stream",
     "text": [
      " done.\n",
      "Retrieving document from  https://arxiv.org/e-print/2208.14507\n"
     ]
    },
    {
     "name": "stderr",
     "output_type": "stream",
     "text": [
      "/opt/hostedtoolcache/Python/3.9.13/x64/lib/python3.9/site-packages/arxiv_on_deck_2/latex.py:292: LatexWarning: Latex injecting: 'agnmorph.bbl' from 'tmp_2208.14480/agnmorph.tex'\n",
      "  warnings.warn(LatexWarning(f\"Latex injecting: '{ext}' from '{subsource}'\"))\n"
     ]
    },
    {
     "name": "stdout",
     "output_type": "stream",
     "text": [
      "extracting tarball to tmp_2208.14507..."
     ]
    },
    {
     "name": "stdout",
     "output_type": "stream",
     "text": [
      " done.\n",
      "Retrieving document from  https://arxiv.org/e-print/2208.14519\n"
     ]
    },
    {
     "name": "stdout",
     "output_type": "stream",
     "text": [
      "extracting tarball to tmp_2208.14519..."
     ]
    },
    {
     "name": "stdout",
     "output_type": "stream",
     "text": [
      " done.\n",
      "Retrieving document from  https://arxiv.org/e-print/2208.14520\n"
     ]
    },
    {
     "name": "stdout",
     "output_type": "stream",
     "text": [
      "extracting tarball to tmp_2208.14520..."
     ]
    },
    {
     "name": "stdout",
     "output_type": "stream",
     "text": [
      " done.\n",
      "Retrieving document from  https://arxiv.org/e-print/2208.14562\n"
     ]
    },
    {
     "name": "stdout",
     "output_type": "stream",
     "text": [
      "extracting tarball to tmp_2208.14562..."
     ]
    },
    {
     "name": "stdout",
     "output_type": "stream",
     "text": [
      " done.\n",
      "Retrieving document from  https://arxiv.org/e-print/2208.14622\n"
     ]
    },
    {
     "name": "stderr",
     "output_type": "stream",
     "text": [
      "/opt/hostedtoolcache/Python/3.9.13/x64/lib/python3.9/site-packages/IPython/core/interactiveshell.py:3398: LatexWarning: Multiple tex files.\n",
      "\n",
      "  exec(code_obj, self.user_global_ns, self.user_ns)\n",
      "/opt/hostedtoolcache/Python/3.9.13/x64/lib/python3.9/site-packages/IPython/core/interactiveshell.py:3398: LatexWarning: Found documentclass in tmp_2208.14562/main.tex\n",
      "\n",
      "  exec(code_obj, self.user_global_ns, self.user_ns)\n"
     ]
    },
    {
     "name": "stdout",
     "output_type": "stream",
     "text": [
      "extracting tarball to tmp_2208.14622..."
     ]
    },
    {
     "name": "stdout",
     "output_type": "stream",
     "text": [
      " done.\n",
      "Retrieving document from  https://arxiv.org/e-print/2208.14632\n"
     ]
    },
    {
     "name": "stdout",
     "output_type": "stream",
     "text": [
      "extracting tarball to tmp_2208.14632..."
     ]
    },
    {
     "name": "stdout",
     "output_type": "stream",
     "text": [
      " done.\n",
      "Retrieving document from  https://arxiv.org/e-print/2208.14664\n"
     ]
    },
    {
     "name": "stderr",
     "output_type": "stream",
     "text": [
      "/tmp/ipykernel_2225/4030337529.py:34: LatexWarning: 2208.14664 did not run properly\n",
      "not a gzip file\n",
      "  warnings.warn(latex.LatexWarning(f\"{paper_id:s} did not run properly\\n\" +\n"
     ]
    },
    {
     "name": "stdout",
     "output_type": "stream",
     "text": [
      "Retrieving document from  https://arxiv.org/e-print/2208.14778\n"
     ]
    },
    {
     "name": "stdout",
     "output_type": "stream",
     "text": [
      "extracting tarball to tmp_2208.14778..."
     ]
    },
    {
     "name": "stdout",
     "output_type": "stream",
     "text": [
      " done.\n",
      "Retrieving document from  https://arxiv.org/e-print/2208.14781\n"
     ]
    },
    {
     "name": "stdout",
     "output_type": "stream",
     "text": [
      "extracting tarball to tmp_2208.14781..."
     ]
    },
    {
     "name": "stdout",
     "output_type": "stream",
     "text": [
      " done.\n",
      "Retrieving document from  https://arxiv.org/e-print/2208.14785\n"
     ]
    },
    {
     "name": "stdout",
     "output_type": "stream",
     "text": [
      "extracting tarball to tmp_2208.14785..."
     ]
    },
    {
     "name": "stdout",
     "output_type": "stream",
     "text": [
      " done.\n",
      "Retrieving document from  https://arxiv.org/e-print/2208.14838\n"
     ]
    },
    {
     "name": "stdout",
     "output_type": "stream",
     "text": [
      "extracting tarball to tmp_2208.14838..."
     ]
    },
    {
     "name": "stdout",
     "output_type": "stream",
     "text": [
      " done.\n",
      "Retrieving document from  https://arxiv.org/e-print/2208.14875\n"
     ]
    },
    {
     "name": "stderr",
     "output_type": "stream",
     "text": [
      "/tmp/ipykernel_2225/4030337529.py:34: LatexWarning: 2208.14875 did not run properly\n",
      "not a gzip file\n",
      "  warnings.warn(latex.LatexWarning(f\"{paper_id:s} did not run properly\\n\" +\n"
     ]
    },
    {
     "name": "stdout",
     "output_type": "stream",
     "text": [
      "Retrieving document from  https://arxiv.org/e-print/2208.14903\n"
     ]
    },
    {
     "name": "stdout",
     "output_type": "stream",
     "text": [
      "extracting tarball to tmp_2208.14903..."
     ]
    },
    {
     "name": "stdout",
     "output_type": "stream",
     "text": [
      " done.\n",
      "Retrieving document from  https://arxiv.org/e-print/2208.14904\n"
     ]
    },
    {
     "name": "stderr",
     "output_type": "stream",
     "text": [
      "/opt/hostedtoolcache/Python/3.9.13/x64/lib/python3.9/site-packages/arxiv_on_deck_2/latex.py:292: LatexWarning: Latex injecting: 'main.bbl' from 'tmp_2208.14903/main.tex'\n",
      "  warnings.warn(LatexWarning(f\"Latex injecting: '{ext}' from '{subsource}'\"))\n"
     ]
    },
    {
     "name": "stdout",
     "output_type": "stream",
     "text": [
      "extracting tarball to tmp_2208.14904..."
     ]
    },
    {
     "name": "stdout",
     "output_type": "stream",
     "text": [
      " done.\n",
      "Retrieving document from  https://arxiv.org/e-print/2208.14914\n"
     ]
    },
    {
     "name": "stdout",
     "output_type": "stream",
     "text": [
      "extracting tarball to tmp_2208.14914..."
     ]
    },
    {
     "name": "stdout",
     "output_type": "stream",
     "text": [
      " done.\n",
      "Retrieving document from  https://arxiv.org/e-print/2208.14927\n"
     ]
    },
    {
     "name": "stderr",
     "output_type": "stream",
     "text": [
      "/opt/hostedtoolcache/Python/3.9.13/x64/lib/python3.9/site-packages/IPython/core/interactiveshell.py:3398: LatexWarning: Multiple tex files.\n",
      "\n",
      "  exec(code_obj, self.user_global_ns, self.user_ns)\n",
      "/opt/hostedtoolcache/Python/3.9.13/x64/lib/python3.9/site-packages/IPython/core/interactiveshell.py:3398: LatexWarning: Found documentclass in tmp_2208.14914/main.tex\n",
      "\n",
      "  exec(code_obj, self.user_global_ns, self.user_ns)\n",
      "/opt/hostedtoolcache/Python/3.9.13/x64/lib/python3.9/site-packages/arxiv_on_deck_2/latex.py:292: LatexWarning: Latex injecting: 'content/datasheet' from 'tmp_2208.14914/content/datasheet.tex'\n",
      "  warnings.warn(LatexWarning(f\"Latex injecting: '{ext}' from '{subsource}'\"))\n",
      "/opt/hostedtoolcache/Python/3.9.13/x64/lib/python3.9/site-packages/arxiv_on_deck_2/latex.py:292: LatexWarning: Latex injecting: 'content/appendix' from 'tmp_2208.14914/content/appendix.tex'\n",
      "  warnings.warn(LatexWarning(f\"Latex injecting: '{ext}' from '{subsource}'\"))\n",
      "/opt/hostedtoolcache/Python/3.9.13/x64/lib/python3.9/site-packages/arxiv_on_deck_2/latex.py:292: LatexWarning: Latex injecting: 'content/ref' from 'tmp_2208.14914/content/ref.tex'\n",
      "  warnings.warn(LatexWarning(f\"Latex injecting: '{ext}' from '{subsource}'\"))\n",
      "/opt/hostedtoolcache/Python/3.9.13/x64/lib/python3.9/site-packages/arxiv_on_deck_2/latex.py:292: LatexWarning: Latex injecting: 'content/ack' from 'tmp_2208.14914/content/ack.tex'\n",
      "  warnings.warn(LatexWarning(f\"Latex injecting: '{ext}' from '{subsource}'\"))\n",
      "/opt/hostedtoolcache/Python/3.9.13/x64/lib/python3.9/site-packages/arxiv_on_deck_2/latex.py:292: LatexWarning: Latex injecting: 'content/conclusions' from 'tmp_2208.14914/content/conclusions.tex'\n",
      "  warnings.warn(LatexWarning(f\"Latex injecting: '{ext}' from '{subsource}'\"))\n",
      "/opt/hostedtoolcache/Python/3.9.13/x64/lib/python3.9/site-packages/arxiv_on_deck_2/latex.py:292: LatexWarning: Latex injecting: 'content/limitations' from 'tmp_2208.14914/content/limitations.tex'\n",
      "  warnings.warn(LatexWarning(f\"Latex injecting: '{ext}' from '{subsource}'\"))\n",
      "/opt/hostedtoolcache/Python/3.9.13/x64/lib/python3.9/site-packages/arxiv_on_deck_2/latex.py:292: LatexWarning: Latex injecting: 'content/experiments' from 'tmp_2208.14914/content/experiments.tex'\n",
      "  warnings.warn(LatexWarning(f\"Latex injecting: '{ext}' from '{subsource}'\"))\n",
      "/opt/hostedtoolcache/Python/3.9.13/x64/lib/python3.9/site-packages/arxiv_on_deck_2/latex.py:292: LatexWarning: Latex injecting: 'content/applications' from 'tmp_2208.14914/content/applications.tex'\n",
      "  warnings.warn(LatexWarning(f\"Latex injecting: '{ext}' from '{subsource}'\"))\n",
      "/opt/hostedtoolcache/Python/3.9.13/x64/lib/python3.9/site-packages/arxiv_on_deck_2/latex.py:292: LatexWarning: Latex injecting: 'content/dataset' from 'tmp_2208.14914/content/dataset.tex'\n",
      "  warnings.warn(LatexWarning(f\"Latex injecting: '{ext}' from '{subsource}'\"))\n",
      "/opt/hostedtoolcache/Python/3.9.13/x64/lib/python3.9/site-packages/arxiv_on_deck_2/latex.py:292: LatexWarning: Latex injecting: 'content/introduction' from 'tmp_2208.14914/content/introduction.tex'\n",
      "  warnings.warn(LatexWarning(f\"Latex injecting: '{ext}' from '{subsource}'\"))\n",
      "/opt/hostedtoolcache/Python/3.9.13/x64/lib/python3.9/site-packages/arxiv_on_deck_2/latex.py:292: LatexWarning: Latex injecting: 'content/abstract' from 'tmp_2208.14914/content/abstract.tex'\n",
      "  warnings.warn(LatexWarning(f\"Latex injecting: '{ext}' from '{subsource}'\"))\n"
     ]
    },
    {
     "name": "stdout",
     "output_type": "stream",
     "text": [
      "extracting tarball to tmp_2208.14927..."
     ]
    },
    {
     "name": "stdout",
     "output_type": "stream",
     "text": [
      " done.\n"
     ]
    },
    {
     "name": "stdout",
     "output_type": "stream",
     "text": [
      "Retrieving document from  https://arxiv.org/e-print/2208.14988\n"
     ]
    },
    {
     "name": "stdout",
     "output_type": "stream",
     "text": [
      "extracting tarball to tmp_2208.14988..."
     ]
    },
    {
     "name": "stdout",
     "output_type": "stream",
     "text": [
      " done.\n"
     ]
    }
   ],
   "source": [
    "documents = []\n",
    "failed = []\n",
    "for paper in tqdm(candidates[:-1]):\n",
    "    paper_id = paper['identifier'].lower().replace('arxiv:', '')\n",
    "    \n",
    "    folder = f'tmp_{paper_id}'\n",
    "\n",
    "    try:\n",
    "        if not os.path.isdir(folder):\n",
    "            folder = retrieve_document_source(f\"{paper_id}\", f'tmp_{paper_id}')\n",
    "        \n",
    "        try:\n",
    "            doc = latex.LatexDocument(folder, validation=validation)    \n",
    "        except AffiliationError as affilerror:\n",
    "            msg = f\"ArXiv:{paper_id:s} is not an MPIA paper... \" + str(affilerror)\n",
    "            failed.append((paper, \"affiliation error: \" + str(affilerror) ))\n",
    "            continue\n",
    "        \n",
    "        # Hack because sometimes author parsing does not work well\n",
    "        if (len(doc.authors) != len(paper['authors'])):\n",
    "            doc._authors = paper['authors']\n",
    "        if (doc.abstract) in (None, ''):\n",
    "            doc._abstract = paper['abstract']\n",
    "            \n",
    "        doc.comment = (get_markdown_badge(paper_id) + \n",
    "                       \"<mark>Appeared on: \" + paper['date'] + \"</mark> - \" +\n",
    "                       \"_\" + paper['comments'] + \"_\")\n",
    "        doc.highlight_authors_in_list(hl_list)\n",
    "\n",
    "        full_md = doc.generate_markdown_text()\n",
    "        \n",
    "        documents.append((paper_id, full_md))\n",
    "    except Exception as e:\n",
    "        warnings.warn(latex.LatexWarning(f\"{paper_id:s} did not run properly\\n\" +\n",
    "                                         str(e)\n",
    "                                        ))\n",
    "        failed.append((paper, \"latex error \" + str(e)))"
   ]
  },
  {
   "cell_type": "markdown",
   "id": "2505a25c",
   "metadata": {
    "papermill": {
     "duration": 0.0077,
     "end_time": "2022-09-01T08:22:51.746322",
     "exception": false,
     "start_time": "2022-09-01T08:22:51.738622",
     "status": "completed"
    },
    "tags": []
   },
   "source": [
    "### Export the logs\n",
    "\n",
    "Throughout, we also keep track of the logs per paper. see `logs-{today date}.md` "
   ]
  },
  {
   "cell_type": "code",
   "execution_count": 6,
   "id": "d733828a",
   "metadata": {
    "execution": {
     "iopub.execute_input": "2022-09-01T08:22:51.762857Z",
     "iopub.status.busy": "2022-09-01T08:22:51.762374Z",
     "iopub.status.idle": "2022-09-01T08:22:51.806124Z",
     "shell.execute_reply": "2022-09-01T08:22:51.805179Z"
    },
    "papermill": {
     "duration": 0.054514,
     "end_time": "2022-09-01T08:22:51.808148",
     "exception": false,
     "start_time": "2022-09-01T08:22:51.753634",
     "status": "completed"
    },
    "scrolled": false,
    "tags": []
   },
   "outputs": [
    {
     "data": {
      "text/markdown": [
       "## Successful papers"
      ],
      "text/plain": [
       "<IPython.core.display.Markdown object>"
      ]
     },
     "metadata": {},
     "output_type": "display_data"
    },
    {
     "data": {
      "text/markdown": [
       "\n",
       "|||\n",
       "|---:|:---|\n",
       "| [![arXiv](https://img.shields.io/badge/arXiv-arXiv:2208.14927-b31b1b.svg)](https://arxiv.org/abs/arXiv:2208.14927) | **Experimental determination of the dissociative recombination rate  coefficient for rotationally-cold CH$^{+}$ and its implications for the  diffuse cloud chemistry**  |\n",
       "|| Daniel Paul, et al. -- incl., <mark>Holger Kreckel</mark> |\n",
       "|*Appeared on*| *2022-09-01*|\n",
       "|*Comments*| *Main paper: PDFLaTeX with 7 pages, 3 figures. Appendix starting on page 7: PDFLaTeX with 11 pages, 2 figures, 4 tables. This article has been accepted by The Astrophysical Journal*|\n",
       "|**Abstract**| Observations of CH$^+$ are used to trace the physical properties of diffuse clouds, but this requires an accurate understanding of the underlying CH$^+$ chemistry. Until this work, the most uncertain reaction in that chemistry was dissociative recombination (DR) of CH$^+$. Using an electron-ion merged-beams experiment at the Cryogenic Storage Ring, we have determined the DR rate coefficient of the CH$^+$ electronic, vibrational, and rotational ground state applicable for different diffuse cloud conditions. Our results reduce the previously unrecognized order-of-magnitude uncertainty in the CH$^+$ DR rate coefficient to $\\sim \\pm 20\\%$ and are applicable at all temperatures relevant to diffuse clouds, ranging from quiescent gas to gas locally heated by processes such as shocks and turbulence. Based on a simple chemical network, we find that DR can be an important destruction mechanism at temperatures relevant to quiescent gas. As the temperature increases locally, DR can continue to be important up to temperatures of $ \\sim 600\\,\\mathrm{K} $ if there is also a corresponding increase in the electron fraction of the gas. Our new CH$^+$ DR rate coefficient data will increase the reliability of future studies of diffuse cloud physical properties via CH$^+$ abundance observations. |"
      ],
      "text/plain": [
       "[arXiv:2208.14927] Experimental determination of the dissociative recombination rate  coefficient for rotationally-cold CH$^{+}$ and its implications for the  diffuse cloud chemistry\n",
       "\tDaniel Paul, et al. -- incl., <mark>Holger Kreckel</mark>"
      ]
     },
     "metadata": {},
     "output_type": "display_data"
    },
    {
     "data": {
      "text/markdown": [
       "## Failed papers"
      ],
      "text/plain": [
       "<IPython.core.display.Markdown object>"
      ]
     },
     "metadata": {},
     "output_type": "display_data"
    },
    {
     "data": {
      "text/markdown": [
       "\n",
       "|||\n",
       "|---:|:---|\n",
       "| [![arXiv](https://img.shields.io/badge/arXiv-arXiv:2208.14519-b31b1b.svg)](https://arxiv.org/abs/arXiv:2208.14519) | **Gemini North Adaptive Optics (GNAO) facility overview and status updates**  |\n",
       "|| Gaetano Sivo, et al. -- incl., <mark>Célia Blain</mark>, <mark>Henry Roe</mark>, <mark>Heather Carr</mark>, <mark>Anja Feldmeier-Krause</mark> |\n",
       "|*Appeared on*| *2022-09-01*|\n",
       "|*Comments*| *SPIE conference 2022 Montreal*|\n",
       "|**Abstract**| The Gemini North Adaptive Optics (GNAO) facility is the upcoming AO facility for Gemini North providing a state-of-the-art AO system for surveys and time domain science in the era of JWST and Rubin operations. GNAO will be optimized to feed the Gemini infrared Multi Object Spectrograph (GIRMOS). While GIRMOS is the primary science driver for defining the capabilities of GNAO, any instrument operating with an f/32 beam can be deployed using GNAO. The GNAO project includes the development of a new laser guide star facility which will consist of four side-launched laser beams supporting the two primary AO modes of GNAO: a wide-field mode providing an improved image quality over natural seeing for a 2-arcminute circular field-of-view and a narrow-field mode providing near diffraction-limited performance over a 20x20 arcsecond square field-of-view. The GNAO wide field mode will enable GIRMOS's multi-IFU configuration in which the science beam to each individual IFU will be additionally corrected using multi-object AO within GIRMOS. The GNAO narrow field mode will feed the GIRMOS tiled IFU configuration in which all IFUs are combined into a \"super\"-IFU in the center of the field. GNAO also includes the development of a new Real Time Controller, a new GNAO Facility System Controller and finally the development of a new AO Bench. We present in this paper an overview of the GNAO facility and provide a status update of each product. |\n",
       "|<p style=\"color:green\"> **ERROR** </p>| <p style=\"color:green\">affiliation error: mpia.affiliation_verifications: '69117' keyword not found.</p> |"
      ],
      "text/plain": [
       "<IPython.core.display.Markdown object>"
      ]
     },
     "metadata": {},
     "output_type": "display_data"
    },
    {
     "data": {
      "text/markdown": [
       "\n",
       "|||\n",
       "|---:|:---|\n",
       "| [![arXiv](https://img.shields.io/badge/arXiv-arXiv:2208.14632-b31b1b.svg)](https://arxiv.org/abs/arXiv:2208.14632) | **A Wide and Deep Exploration of Radio Galaxies with Subaru HSC (WERGS).  IX. The Most Overdense Region at z~5 Inhabited by a Massive Radio Galaxy**  |\n",
       "|| Hisakazu Uchiyama, et al. -- incl., <mark>Chien-Hsiu Lee</mark> |\n",
       "|*Appeared on*| *2022-09-01*|\n",
       "|*Comments*| *7 pages, 3 figures, accepted in PASJ*|\n",
       "|**Abstract**| We report on the galaxy density environment around a high-z radio galaxy (HzRG) at z=4.72, HSC J083913.17+011308.1 (HSC J0839+0113), probed using an r-dropout Lyman break galaxy (LBG) sample from the Hyper Suprime-Cam Subaru Strategic Program data. We find that HSC J0839+0113 resides in the outskirt of an overdense region identified by the r-dropout galaxies at a 4.7 sigma significance level. The projected distance between HSC J0839+0113 and the peak position of the overdense region is 0.4 physical Mpc which is shorter than the typical protocluster radius in this epoch. According to the extended Press Schechter and the light cone models, the HSC J0839+0113-hosted overdense region is expected to evolve into a halo > 10^14 Msun at z=0 with a high probability of >80 %. These findings suggest that HSC J0839+0113 is associated with a protocluster. The HSC J0839+0113 rich-system is the most overdense region of LBGs among the known protoclusters with LBGs in the same cosmic epoch. |\n",
       "|<p style=\"color:green\"> **ERROR** </p>| <p style=\"color:green\">affiliation error: mpia.affiliation_verifications: '69117' keyword not found.</p> |"
      ],
      "text/plain": [
       "<IPython.core.display.Markdown object>"
      ]
     },
     "metadata": {},
     "output_type": "display_data"
    },
    {
     "data": {
      "text/markdown": [
       "\n",
       "|||\n",
       "|---:|:---|\n",
       "| [![arXiv](https://img.shields.io/badge/arXiv-arXiv:2208.14455-b31b1b.svg)](https://arxiv.org/abs/arXiv:2208.14455) | **Circumstellar Medium Interaction in SN 2018lab, A Low-Luminosity II-P  Supernova observed with TESS**  |\n",
       "|| Jeniveve Pearson, et al. -- incl., <mark>Nathan Smith</mark> |\n",
       "|*Appeared on*| *2022-09-01*|\n",
       "|*Comments*| **|\n",
       "|**Abstract**| We present photometric and spectroscopic data of SN 2018lab, a low luminosity type II-P supernova (LLSN) with a V-band peak luminosity of $-15.1\\pm0.1$ mag. SN 2018lab was discovered by the Distance Less Than 40 Mpc (DLT40) SNe survey only 0.73 days post-explosion, as determined by observations from the Transiting Exoplanet Survey Satellite (TESS). TESS observations of SN 2018lab yield a densely sampled, fast-rising, early time light curve likely powered by circumstellar medium (CSM) interaction. The blue-shifted, broadened flash ionization lines in the earliest spectra ($<$2 days) of SN 2018lab provide further evidence for ejecta-CSM interaction. The early emission features in the spectra of SN 2018lab are well described by models of a red supergiant progenitor with an extended envelope and close-in CSM. As one of the few LLSNe with observed flash ionization features, SN 2018lab highlights the need for more early spectra to explain the diversity of flash feature morphology in type II SNe. |\n",
       "|<p style=\"color:green\"> **ERROR** </p>| <p style=\"color:green\">affiliation error: mpia.affiliation_verifications: 'Heidelberg' keyword not found.</p> |"
      ],
      "text/plain": [
       "<IPython.core.display.Markdown object>"
      ]
     },
     "metadata": {},
     "output_type": "display_data"
    },
    {
     "data": {
      "text/markdown": [
       "\n",
       "|||\n",
       "|---:|:---|\n",
       "| [![arXiv](https://img.shields.io/badge/arXiv-arXiv:2208.14480-b31b1b.svg)](https://arxiv.org/abs/arXiv:2208.14480) | **CEERS Key Paper III: The Resolved Host Properties of AGN at 3 < z < 5  with JWST**  |\n",
       "|| Dale D. Kocevski, et al. -- incl., <mark>Henry C. Ferguson</mark> |\n",
       "|*Appeared on*| *2022-09-01*|\n",
       "|*Comments*| *Submitted to ApJ; 12 Pages, 6 Figures*|\n",
       "|**Abstract**| We report on the host properties of five X-ray luminous Active Galactic Nuclei (AGN) identified at $3 < z < 5$ in the first epoch of imaging from the Cosmic Evolution Early Release Science Survey (CEERS). Each galaxy has been imaged with the \\textit{James Webb Space Telescope} (\\jwst) Near-Infrared Camera (NIRCam), which provides spatially resolved, rest-frame optical morphologies at these redshifts. We also derive stellar masses and star formation rates for each host galaxy by fitting its spectral energy distribution using a combination of galaxy and AGN templates. The AGN hosts have an average stellar mass of ${\\rm log}(M_{*}/{\\rm M_{\\odot}} )= 11.0$, making them among the most massive galaxies detected at this redshift range in the current CEERS pointings, even after accounting for nuclear light from the AGN. We find that three of the AGN hosts have spheroidal morphologies, one is a bulge-dominated disk and one host is dominated by point-like emission. None are found to show strong morphological disturbances that might indicate a recent interaction or merger event. Notably, all four of the resolved hosts have rest-frame optical colors consistent with a quenched or post-starburst stellar population. The presence of AGN in passively evolving galaxies at $z>3$ is significant because a rapid feedback mechanism is required in most semi-analytic models and cosmological simulations to explain the growing population of massive quiescent galaxies observed at these redshifts. Our findings are in general agreement with this picture and show that AGN can continue to inject energy into these systems after their star formation is curtailed, possibly helping to maintain their quiescent state. |\n",
       "|<p style=\"color:green\"> **ERROR** </p>| <p style=\"color:green\">affiliation error: mpia.affiliation_verifications: 'Heidelberg' keyword not found.</p> |"
      ],
      "text/plain": [
       "<IPython.core.display.Markdown object>"
      ]
     },
     "metadata": {},
     "output_type": "display_data"
    },
    {
     "data": {
      "text/markdown": [
       "\n",
       "|||\n",
       "|---:|:---|\n",
       "| [![arXiv](https://img.shields.io/badge/arXiv-arXiv:2208.14507-b31b1b.svg)](https://arxiv.org/abs/arXiv:2208.14507) | **GOALS-JWST: Hidden Star Formation and Extended PAH Emission in the  Luminous Infrared Galaxy VV 114**  |\n",
       "|| Aaron S. Evans, et al. -- incl., <mark>Lee Armus</mark>, <mark>Joseph Mazzarella</mark>, <mark>Michael Brown</mark> |\n",
       "|*Appeared on*| *2022-09-01*|\n",
       "|*Comments*| *8 pages, 4 figures, 1 table, Submitted to ApJL*|\n",
       "|**Abstract**| James Webb Space Telescope (JWST) Mid-InfraRed Instrument (MIRI) images of the luminous infrared (IR) galaxy VV 114 are presented. This redshift ~ 0.020 merger has a western component (VV 114W) rich in optical star clusters and an eastern component (VV 114E) hosting a luminous mid-IR nucleus hidden at UV and optical wavelengths by dust lanes. With MIRI, the VV 114E nucleus resolves primarily into bright NE and SW cores separated by 630 pc. This nucleus comprises 45% of the 15um light of VV 114, with the NE and SW cores having IR luminosities, L_ IR (8-1000um) ~ 8+/-0.8x10^10 L_sun and ~ 5+/-0.5x10^10 L_sun, respectively, and IR densities, Sigma_IR >~ 2+/-0.2x10^13 L_sun / kpc^2 and >~ 7+/-0.7x10^12 L_sun / kpc^2, respectively -- in the range of Sigma_IR for the Orion star-forming core and the nuclei of Arp 220. The NE core, previously speculated to have an Active Galactic Nucleus (AGN), has starburst-like mid-IR colors. In contrast, the VV 114E SW has AGN-like colors. Approximately 40 star-forming knots with L_IR ~ 0.02-5x10^10 L_sun are identified, 25% of which have no optical counterpart. Finally, diffuse emission accounts for 40-60% of the mid-IR emission. Mostly notably, filamentary Poly-cyclic Aromatic Hydrocarbon (PAH) emission stochastically excited by UV and optical photons accounts for half of the 7.7um light of VV 114. This study illustrates the ability of JWST to detect obscured compact activity and distributed PAH emission in the most extreme starburst galaxies in the local Universe. |\n",
       "|<p style=\"color:green\"> **ERROR** </p>| <p style=\"color:green\">affiliation error: mpia.affiliation_verifications: 'Heidelberg' keyword not found.</p> |"
      ],
      "text/plain": [
       "<IPython.core.display.Markdown object>"
      ]
     },
     "metadata": {},
     "output_type": "display_data"
    },
    {
     "data": {
      "text/markdown": [
       "\n",
       "|||\n",
       "|---:|:---|\n",
       "| [![arXiv](https://img.shields.io/badge/arXiv-arXiv:2208.14520-b31b1b.svg)](https://arxiv.org/abs/arXiv:2208.14520) | **Utilizing a global network of telescopes to update the ephemeris for the  highly eccentric planet HD 80606 b and to ensure the efficient scheduling of  JWST**  |\n",
       "|| Kyle A. Pearson, et al. -- incl., <mark>Alexandra D. Burnett</mark>, <mark>Frank Sienkiewicz</mark> |\n",
       "|*Appeared on*| *2022-09-01*|\n",
       "|*Comments*| *Accepted for publication in AJ; in press*|\n",
       "|**Abstract**| The transiting planet HD80606b undergoes a 1000-fold increase in insolation during its 111-day orbit due to it being highly eccentric (e=0.93). The planet's effective temperature increases from 400K to over 1400K in a few hours as it makes a rapid passage to within 0.03AU of its host star during periapsis. Spectroscopic observations during the eclipse (which is conveniently oriented a few hours before periapsis) of HD80606b with the James Webb Space Telescope (JWST) are poised to exploit this highly variable environment to study a wide variety of atmospheric properties, including composition, chemical and dynamical timescales, and large scale atmospheric motions. Critical to planning and interpreting these observations is an accurate knowledge of the planet's orbit. We report on observations of two full-transit events: 7 February 2020 as observed by the TESS spacecraft and 7--8 December 2021 as observed with a worldwide network of small telescopes. We also report new radial velocity observations which when analyzed with a coupled model to the transits greatly improve the planet's orbital ephemeris. Our new orbit solution reduces the uncertainty in the transit and eclipse timing of the JWST era from tens of minutes to a few minutes. When combined with the planned JWST observations, this new precision may be adequate to look for non-Keplerian effects in the orbit of HD80606b. |\n",
       "|<p style=\"color:green\"> **ERROR** </p>| <p style=\"color:green\">affiliation error: mpia.affiliation_verifications: 'Heidelberg' keyword not found.</p> |"
      ],
      "text/plain": [
       "<IPython.core.display.Markdown object>"
      ]
     },
     "metadata": {},
     "output_type": "display_data"
    },
    {
     "data": {
      "text/markdown": [
       "\n",
       "|||\n",
       "|---:|:---|\n",
       "| [![arXiv](https://img.shields.io/badge/arXiv-arXiv:2208.14562-b31b1b.svg)](https://arxiv.org/abs/arXiv:2208.14562) | **The Athena X-ray Integral Field Unit: a consolidated design for the  system requirement review of the preliminary definition phase**  |\n",
       "|| Didier Barret, et al. -- incl., <mark>Jan-Willem den Herder</mark>, <mark>J. Miguel Mas-Hesse</mark> |\n",
       "|*Appeared on*| *2022-09-01*|\n",
       "|*Comments*| *48 pages, 29 figures, submitted for publication in Experimental Astronomy*|\n",
       "|**Abstract**| The Athena X-ray Integral Unit (X-IFU) is the high resolution X-ray spectrometer, studied since 2015 for flying in the mid-30s on the Athena space X-ray Observatory, a versatile observatory designed to address the Hot and Energetic Universe science theme, selected in November 2013 by the Survey Science Committee. Based on a large format array of Transition Edge Sensors (TES), it aims to provide spatially resolved X-ray spectroscopy, with a spectral resolution of 2.5 eV (up to 7 keV) over an hexagonal field of view of 5 arc minutes (equivalent diameter). The X-IFU entered its System Requirement Review (SRR) in June 2022, at about the same time when ESA called for an overall X-IFU redesign (including the X-IFU cryostat and the cooling chain), due to an unanticipated cost overrun of Athena. In this paper, after illustrating the breakthrough capabilities of the X-IFU, we describe the instrument as presented at its SRR, browsing through all the subsystems and associated requirements. We then show the instrument budgets, with a particular emphasis on the anticipated budgets of some of its key performance parameters. Finally we briefly discuss on the ongoing key technology demonstration activities, the calibration and the activities foreseen in the X-IFU Instrument Science Center, and touch on communication and outreach activities, the consortium organisation, and finally on the life cycle assessment of X-IFU aiming at minimising the environmental footprint, associated with the development of the instrument. It is expected that thanks to the studies conducted so far on X-IFU, along the design-to-cost exercise requested by ESA, the X-IFU will maintain flagship capabilities in spatially resolved high resolution X-ray spectroscopy, enabling most of the original X-IFU related scientific objectives of the Athena mission to be retained (abridged). |\n",
       "|<p style=\"color:green\"> **ERROR** </p>| <p style=\"color:green\">affiliation error: mpia.affiliation_verifications: 'Heidelberg' keyword not found.</p> |"
      ],
      "text/plain": [
       "<IPython.core.display.Markdown object>"
      ]
     },
     "metadata": {},
     "output_type": "display_data"
    },
    {
     "data": {
      "text/markdown": [
       "\n",
       "|||\n",
       "|---:|:---|\n",
       "| [![arXiv](https://img.shields.io/badge/arXiv-arXiv:2208.14622-b31b1b.svg)](https://arxiv.org/abs/arXiv:2208.14622) | **Impact of Neutrino Cooling on Type-I X-ray Bursts and X-ray Superbursts**  |\n",
       "|| Akira Dohi, et al. -- incl., <mark>Helei Liu</mark> |\n",
       "|*Appeared on*| *2022-09-01*|\n",
       "|*Comments*| *12 pages, 8 figures, 3 Tables, Accepted for publication in ApJ*|\n",
       "|**Abstract**| We investigate the impacts of neutrino cooling mechanism inside the neutron star (NS) core on the light curves of type-I X-ray bursts and X-ray superbursts. From several observations of NS thermal evolution, physical processes of fast neutrino cooling, such as the direct Urca (DU) process, are indicated. They significantly decrease the surface temperature of NSs, though the cooling effect could be suppressed by nucleon superfluidity. In the present study, focusing on the DU process and nucleon superfluidity, we investigate the effects of NS cooling on the X-ray bursts using a general-relativistic stellar-evolution code. We find that the DU process leads find the longer recurrence time and the higher peak luminosity, which could be obstructed by the neutrons superfluidity. We also apply our burst models to the comparison with {\\it Clocked burster} GS 1826$-$24, and to the recurrence time of superburst triggered by carbon ignition. These effects are significant within a certain range of binary parameters and uncertainty of the NS equation of state. |\n",
       "|<p style=\"color:green\"> **ERROR** </p>| <p style=\"color:green\">affiliation error: mpia.affiliation_verifications: 'Heidelberg' keyword not found.</p> |"
      ],
      "text/plain": [
       "<IPython.core.display.Markdown object>"
      ]
     },
     "metadata": {},
     "output_type": "display_data"
    },
    {
     "data": {
      "text/markdown": [
       "\n",
       "|||\n",
       "|---:|:---|\n",
       "| [![arXiv](https://img.shields.io/badge/arXiv-arXiv:2208.14778-b31b1b.svg)](https://arxiv.org/abs/arXiv:2208.14778) | **A detailed study of the barium central star of the planetary nebula  Abell 70**  |\n",
       "|| David Jones, et al. -- incl., <mark>Henri M.J. Boffin</mark>, <mark>Alex J. Brown</mark> |\n",
       "|*Appeared on*| *2022-09-01*|\n",
       "|*Comments*| *Accepted for publication in MNRAS*|\n",
       "|**Abstract**| We present a detailed study of the barium star at the heart of the planetary nebula Abell 70. Time-series photometry obtained over a period of more than ten years demonstrates that the barium-contaminated companion is a rapid rotator with temporal variability due to spots. The amplitude and phasing of the photometric variability changes abruptly, however there is no evidence for a change in the rotation period (P = 2.06~d) over the course of the observations. The co-addition of 17 high-resolution spectra obtained with VLT-UVES allow us to measure the physical and chemical properties of the companion, confirming it to be a chromospherically-active, late G-type sub-giant with more than +1~dex of barium enhancement. We find no evidence of radial velocity variability in the spectra, obtained over the course of approximately 130~d with a single additional point some 8 years later, with the radial velocities of all epochs approximately $-$10 \\kms{} from the previously measured systemic velocity of the nebula. This is perhaps indicative that the binary has a relatively long period (P $\\gtrsim$ 2~yr) and high eccentricity ($e\\gtrsim$ 0.3), and that all the observations were taken around radial velocity minimum. However, unless the binary orbital plane is not aligned with the waist of the nebula or the systemic velocity of the binary is not equal to the literature value for the nebula, this would imply an unfeasibly large mass for the nebular progenitor. |\n",
       "|<p style=\"color:green\"> **ERROR** </p>| <p style=\"color:green\">affiliation error: mpia.affiliation_verifications: 'Heidelberg' keyword not found.</p> |"
      ],
      "text/plain": [
       "<IPython.core.display.Markdown object>"
      ]
     },
     "metadata": {},
     "output_type": "display_data"
    },
    {
     "data": {
      "text/markdown": [
       "\n",
       "|||\n",
       "|---:|:---|\n",
       "| [![arXiv](https://img.shields.io/badge/arXiv-arXiv:2208.14781-b31b1b.svg)](https://arxiv.org/abs/arXiv:2208.14781) | **A Machine Learning Approach to Predict Missing Flux Densities in  Multi-band Galaxy Surveys**  |\n",
       "|| Nima Chartab, et al. -- incl., <mark>Shoubaneh Hemmati</mark>, <mark>Henry C. Ferguson</mark>, <mark>Henry J. McCracken</mark> |\n",
       "|*Appeared on*| *2022-09-01*|\n",
       "|*Comments*| *15 pages, 14 figures, accepted for publication in ApJ*|\n",
       "|**Abstract**| We present a new method based on information theory to find the optimal number of bands required to measure the physical properties of galaxies with a desired accuracy. As a proof of concept, using the recently updated COSMOS catalog (COSMOS2020), we identify the most relevant wavebands for measuring the physical properties of galaxies in a Hawaii Two-0 (H20)- and UVISTA-like survey for a sample of $i<25$ AB mag galaxies. We find that with available $i$-band fluxes, $r$, $u$, IRAC/$ch2$ and $z$ bands provide most of the information regarding the redshift with importance decreasing from $r$-band to $z$-band. We also find that for the same sample, IRAC/$ch2$, $Y$, $r$ and $u$ bands are the most relevant bands in stellar mass measurements with decreasing order of importance. Investigating the inter-correlation between the bands, we train a model to predict UVISTA observations in near-IR from H20-like observations. We find that magnitudes in $YJH$ bands can be simulated/predicted with an accuracy of $1\\sigma$ mag scatter $\\lesssim 0.2$ for galaxies brighter than 24 AB mag in near-IR bands. One should note that these conclusions depend on the selection criteria of the sample. For any new sample of galaxies with a different selection, these results should be remeasured. Our results suggest that in the presence of a limited number of bands, a machine learning model trained over the population of observed galaxies with extensive spectral coverage outperforms template-fitting. Such a machine learning model maximally comprises the information acquired over available extensive surveys and breaks degeneracies in the parameter space of template-fitting inevitable in the presence of a few bands. |\n",
       "|<p style=\"color:green\"> **ERROR** </p>| <p style=\"color:green\">affiliation error: mpia.affiliation_verifications: 'Heidelberg' keyword not found.</p> |"
      ],
      "text/plain": [
       "<IPython.core.display.Markdown object>"
      ]
     },
     "metadata": {},
     "output_type": "display_data"
    },
    {
     "data": {
      "text/markdown": [
       "\n",
       "|||\n",
       "|---:|:---|\n",
       "| [![arXiv](https://img.shields.io/badge/arXiv-arXiv:2208.14785-b31b1b.svg)](https://arxiv.org/abs/arXiv:2208.14785) | **Fan beamed X-ray emission from 1 keV to above 130 keV from the  ultraluminous X-ray pulsar RX J0209.6-7427 in the Small Magellanic Cloud**  |\n",
       "|| X. Hou, et al. -- incl., <mark>S.N. Zhang</mark>, <mark>S. Zhang</mark> |\n",
       "|*Appeared on*| *2022-09-01*|\n",
       "|*Comments*| *31 pages, 14 figures, 5 tables. Accepted by ApJ*|\n",
       "|**Abstract**| We present detailed timing and spectral analyses of the transient X-ray pulsar RX J0209.6$-$7427 in the Small Magellanic Cloud during its 2019 giant outburst. With a better known distance than most galactic X-ray pulsars, its peak luminosity is determined to be $(1.11\\pm0.06)\\times 10^{39}\\, \\rm erg\\ s^{-1}$; it is thus a {\\it bonda fide} pulsating ultraluminous X-ray source (PULX). Owing to the broad energy band of \\textit{Insight}-HXMT, its pulsed X-ray emission was detected from 1 keV up to the 130$-$180 keV band, which is the highest energy emission detected from any PULXs outside the Milky Way. This allows us to conclude that its main pulsed X-ray emission is from the \"fan beam\" of the accretion column, and its luminosity is thus intrinsic. We also estimate its magnetic field of (4.8$-$8.6)$\\times10^{12}$ G or (1.7$-$2.2)$\\times10^{13}$ G, from its spin evolution or transition in the accretion column structure during the outburst; we suggest that the two values of the magnetic field strength correspond to the dipole and multipole magnetic fields of the neutron star, similar to the recent discovery in the Galactic PULX Swift J0243.6+6124. Therefore, the nature of the neutron star and its ULX emission can be understood within the current theoretical frame of accreting neutron stars. This may have implications for understanding the nature of those farther away extragalactic PULXs. |\n",
       "|<p style=\"color:green\"> **ERROR** </p>| <p style=\"color:green\">affiliation error: mpia.affiliation_verifications: 'Heidelberg' keyword not found.</p> |"
      ],
      "text/plain": [
       "<IPython.core.display.Markdown object>"
      ]
     },
     "metadata": {},
     "output_type": "display_data"
    },
    {
     "data": {
      "text/markdown": [
       "\n",
       "|||\n",
       "|---:|:---|\n",
       "| [![arXiv](https://img.shields.io/badge/arXiv-arXiv:2208.14838-b31b1b.svg)](https://arxiv.org/abs/arXiv:2208.14838) | **RISTRETTO: high-resolution spectroscopy at the diffraction limit of the  VLT**  |\n",
       "|| Christophe Lovis, et al. -- incl., <mark>Ian Hughes</mark> |\n",
       "|*Appeared on*| *2022-09-01*|\n",
       "|*Comments*| *9 pages, 6 figures, proceedings of SPIE Astronomical Telescopes + Instrumentation, 2022, Montr\\'eal, Qu\\'ebec, Canada*|\n",
       "|**Abstract**| RISTRETTO is a visible high-resolution spectrograph fed by an extreme adaptive optics (XAO) system, to be proposed as a visitor instrument on ESO VLT. The main science goal of RISTRETTO is the detection and atmospheric characterization of exoplanets in reflected light, in particular the temperate rocky planet Proxima b. RISTRETTO will be able to measure albedos and detect atmospheric features in a number of exoplanets orbiting nearby stars for the first time. It will do so by combining a high-contrast AO system working at the diffraction limit of the telescope to a high-resolution spectrograph, via a 7-spaxel integral-field unit (IFU) feeding single-mode fibers. Further science cases for RISTRETTO include the study of accreting protoplanets such as PDS 70 b & c through spectrally-resolved H-alpha emission; and spatially-resolved studies of Solar System objects such as icy moons and the ice giants Uranus and Neptune. The project is in an advanced design phase for the spectrograph and IFU/fiber-link sub-systems, and a preliminary design phase for the AO front-end. Construction of the spectrograph and IFU/fiber-link will start at the end of 2022. RISTRETTO is a pathfinder instrument in view of similar developments at ESO ELT, in particular the SCAO-IFU mode of ELT-ANDES and the future ELT-PCS instrument. |\n",
       "|<p style=\"color:green\"> **ERROR** </p>| <p style=\"color:green\">affiliation error: mpia.affiliation_verifications: 'Heidelberg' keyword not found.</p> |"
      ],
      "text/plain": [
       "<IPython.core.display.Markdown object>"
      ]
     },
     "metadata": {},
     "output_type": "display_data"
    },
    {
     "data": {
      "text/markdown": [
       "\n",
       "|||\n",
       "|---:|:---|\n",
       "| [![arXiv](https://img.shields.io/badge/arXiv-arXiv:2208.14903-b31b1b.svg)](https://arxiv.org/abs/arXiv:2208.14903) | **Radio monitoring of transient Be/X-ray binaries and the inflow-outflow  coupling of strongly-magnetized accreting neutron stars**  |\n",
       "|| J. van den Eijnden, et al. -- incl., <mark>J. V. Hernández Santisteban</mark> |\n",
       "|*Appeared on*| *2022-09-01*|\n",
       "|*Comments*| *Re-submitted to MNRAS after minor comments. 18 pages, 9 Figures. Online Supplementary Materials added as appendix*|\n",
       "|**Abstract**| Strongly-magnetized ($B\\geq10^{12}$ G) accreting neutron stars (NSs) are prime targets for studying the launching of jets by objects with a solid surface; while classical jet-launching models predict that such NSs cannot launch jets, recent observations and models argue otherwise. Transient Be/X-ray binaries (BeXRBs) are critical laboratories for probing this poorly-explored parameter space for jet formation. Here, we present the coordinated monitoring campaigns of three BeXRBs across four outbursts: giant outbursts of SAX 2103.5+4545, 1A 0535+262, and GRO J1008-57, as well as a Type-I outburst of the latter. We obtain radio detections of 1A 0535+262 during ten out of twenty observations, while the other targets remained undetected at typical limits of $20$-$50$ $\\mu$Jy. The radio luminosity of 1A 0535+262 positively correlates with its evolving X-ray luminosity, and inhabits a region of the $L_X$-$L_R$ plane continuing the correlation observed previously for the BeXRB Swift J0243.6+6124. We measure a BeXRB $L_X$-$L_R$ coupling index of $\\beta = 0.86 \\pm 0.06$ ($L_R \\propto L_X^\\beta$), similar to the indices measured in NS and black hole low-mass X-ray binaries. Strikingly, the coupling's $L_R$ normalisation is $\\sim 275$ and $\\sim 6.2\\times10^3$ times lower than in those two comparison samples, respectively. We conclude that jet emission likely dominates during the main peak of giant outbursts, but is only detectable for close-by or super-Eddington systems at current radio sensitivities. We discuss these results in the broader context of X-ray binary radio studies, concluding that our results suggest how supergiant X-ray binaries may host a currently unidentified additional radio emission mechanism. |\n",
       "|<p style=\"color:green\"> **ERROR** </p>| <p style=\"color:green\">affiliation error: mpia.affiliation_verifications: 'Heidelberg' keyword not found.</p> |"
      ],
      "text/plain": [
       "<IPython.core.display.Markdown object>"
      ]
     },
     "metadata": {},
     "output_type": "display_data"
    },
    {
     "data": {
      "text/markdown": [
       "\n",
       "|||\n",
       "|---:|:---|\n",
       "| [![arXiv](https://img.shields.io/badge/arXiv-arXiv:2208.14904-b31b1b.svg)](https://arxiv.org/abs/arXiv:2208.14904) | **The on-ground data reduction and calibration pipeline for SO/PHI-HRT**  |\n",
       "|| J. Sinjan, et al. -- incl., <mark>A. Alvarez-Herrero</mark>, <mark>K. Heerlein</mark>, <mark>T. Lange</mark>, <mark>R. Müller</mark> |\n",
       "|*Appeared on*| *2022-09-01*|\n",
       "|*Comments*| **|\n",
       "|**Abstract**| The ESA/NASA Solar Orbiter space mission has been successfully launched in February 2020. Onboard is the Polarimetric and Helioseismic Imager (SO/PHI), which has two telescopes, a High Resolution Telescope (HRT) and the Full Disc Telescope (FDT). The instrument is designed to infer the photospheric magnetic field and line-of-sight velocity through differential imaging of the polarised light emitted by the Sun. It calculates the full Stokes vector at 6 wavelength positions at the Fe I 617.3 nm absorption line. Due to telemetry constraints, the instrument nominally processes these Stokes profiles onboard, however when telemetry is available, the raw images are downlinked and reduced on ground. Here the architecture of the on-ground pipeline for HRT is presented, which also offers additional corrections not currently available on board the instrument. The pipeline can reduce raw images to the full Stokes vector with a polarimetric sensitivity of $10^{-3}\\cdot I_{c}$ or better. |\n",
       "|<p style=\"color:green\"> **ERROR** </p>| <p style=\"color:green\">affiliation error: mpia.affiliation_verifications: 'Heidelberg' keyword not found.</p> |"
      ],
      "text/plain": [
       "<IPython.core.display.Markdown object>"
      ]
     },
     "metadata": {},
     "output_type": "display_data"
    },
    {
     "data": {
      "text/markdown": [
       "\n",
       "|||\n",
       "|---:|:---|\n",
       "| [![arXiv](https://img.shields.io/badge/arXiv-arXiv:2208.14914-b31b1b.svg)](https://arxiv.org/abs/arXiv:2208.14914) | **Object classification on video data of meteors and meteor-like  phenomena: algorithm and data**  |\n",
       "|| Rabea Sennlaub, et al. -- incl., <mark>Thomas Müller</mark> |\n",
       "|*Appeared on*| *2022-09-01*|\n",
       "|*Comments*| *11 Pages, 10 Figures, Accepted for publication in MNRAS Journal*|\n",
       "|**Abstract**| Every moment, countless meteoroids enter our atmosphere unseen. The detection and measurement of meteors offer the unique opportunity to gain insights into the composition of our solar systems' celestial bodies. Researchers, therefore, carry out a wide-area-sky-monitoring to secure 360-degree video material, saving every single entry of a meteor. Existing machine intelligence cannot accurately recognize events of meteors intersecting the earth's atmosphere due to a lack of high-quality training data publicly available. This work presents four reusable open source solutions for researchers trained on data we collected due to the lack of available labeled high-quality training data. We refer to the proposed dataset as the NightSkyUCP dataset, consisting of a balanced set of 10,000 meteor- and 10,000 non-meteor-events. Our solutions apply various machine learning techniques, namely classification, feature learning, anomaly detection, and extrapolation. For the classification task, a mean accuracy of 99.1\\% is achieved. The code and data are made public at figshare with DOI: 10.6084/m9.figshare.16451625 |\n",
       "|<p style=\"color:green\"> **ERROR** </p>| <p style=\"color:green\">affiliation error: mpia.affiliation_verifications: 'Heidelberg' keyword not found.</p> |"
      ],
      "text/plain": [
       "<IPython.core.display.Markdown object>"
      ]
     },
     "metadata": {},
     "output_type": "display_data"
    },
    {
     "data": {
      "text/markdown": [
       "\n",
       "|||\n",
       "|---:|:---|\n",
       "| [![arXiv](https://img.shields.io/badge/arXiv-arXiv:2208.14988-b31b1b.svg)](https://arxiv.org/abs/arXiv:2208.14988) | **CMB lensing with shear-only reconstruction on the full sky**  |\n",
       "|| <mark>Frank J. Qu</mark>, Anthony Challinor, Blake D. Sherwin |\n",
       "|*Appeared on*| *2022-09-01*|\n",
       "|*Comments*| **|\n",
       "|**Abstract**| Reconstruction of gravitational lensing effects in the CMB from current and upcoming surveys is still dominated by temperature anisotropies. Extragalactic foregrounds in temperature maps can induce significant biases in the lensing power spectrum obtained with the standard quadratic estimators. Techniques such as masking cannot remove these foregrounds fully, and the residuals can still lead to large biases if unaccounted for. In this paper, we study the \"shear-only\" estimator, an example of a class of geometric methods that suppress extragalactic foreground contamination while making only minimal assumptions about foreground properties. The shear-only estimator has only been formulated in the flat-sky limit and so is not easily applied to wide surveys. Here, we derive the full-sky version of the shear-only estimator and its generalisation to an $m=2$ multipole estimator that has improved performance for lensing reconstruction on smaller scales. The multipole estimator is generally not separable, and so is expensive to compute. We explore separable approximations based on a singular-value decomposition, which allow efficient evaluation of the estimator with real-space methods. Finally, we apply these estimators to simulations that include extragalactic foregrounds and verify their efficacy in suppressing foreground biases. |\n",
       "|<p style=\"color:green\"> **ERROR** </p>| <p style=\"color:green\">affiliation error: mpia.affiliation_verifications: 'Heidelberg' keyword not found.</p> |"
      ],
      "text/plain": [
       "<IPython.core.display.Markdown object>"
      ]
     },
     "metadata": {},
     "output_type": "display_data"
    },
    {
     "data": {
      "text/markdown": [
       "\n",
       "|||\n",
       "|---:|:---|\n",
       "| [![arXiv](https://img.shields.io/badge/arXiv-arXiv:2208.14664-b31b1b.svg)](https://arxiv.org/abs/arXiv:2208.14664) | **LOPES 3D -- studies on the benefits of EAS-radio measurements with  vertically aligned antennas**  |\n",
       "|| <mark>D. Huber</mark>, et al. -- incl., <mark>D. Heck</mark>, <mark>M. Roth</mark> |\n",
       "|*Appeared on*| *2022-09-01*|\n",
       "|*Comments*| *Submission to the proceedings of the ARENA2014 workshop, which unfortunately were never published; thus documented here for reference*|\n",
       "|**Abstract**| The LOPES experiment was a radio interferometer built at the existing air shower array KASCADE-Grande in Karlsruhe, Germany. The last configuration of LOPES was called LOPES 3D and consisted of ten tripole antennas. Each of these antennas consisted of three crossed dipoles east-west, north-south, and vertically aligned. With this, LOPES 3D had the unique possibility to study the benefits of measurements with vertically aligned antennas in the environment of the well understood and calibrated particle detector array KASCADE-Grande. The measurements with three spatially coincident antennas allows a redundant reconstruction of the electric field vector. Several methods to exploit the redundancy were developed and tested. Furthermore, for the first time in LOPES, the background noise could be studied polarization- and direction dependent. With LOPES 3D it could be demonstrated that radio detection reaches a higher efficiency for inclined showers when including measurements with vertically aligned antennas and that the vertical component gets more important for the measurement of inclined showers. In this contribution we discuss a weighting scheme for the best combination of three redundant reconstructed electric field vectors. Furthermore, we discuss the influence of these weighting schemes on the ability to reconstruct air showers using the radio method. We show an estimate of the radio efficiency for inclined showers with focus on the benefits of measurements with vertically aligned antennas and we present the direction dependent noise in the different polarizations. |\n",
       "|<p style=\"color:red\"> **ERROR** </p>| <p style=\"color:red\">latex error not a gzip file</p> |"
      ],
      "text/plain": [
       "<IPython.core.display.Markdown object>"
      ]
     },
     "metadata": {},
     "output_type": "display_data"
    },
    {
     "data": {
      "text/markdown": [
       "\n",
       "|||\n",
       "|---:|:---|\n",
       "| [![arXiv](https://img.shields.io/badge/arXiv-arXiv:2208.14875-b31b1b.svg)](https://arxiv.org/abs/arXiv:2208.14875) | **RISTRETTO: Seven Spaxels Single Mode Spectrograph Design**  |\n",
       "|| Bruno Chazelas, et al. -- incl., <mark>Ian Hughes</mark> |\n",
       "|*Appeared on*| *2022-09-01*|\n",
       "|*Comments*| *7 pages, 7 figures, SPIE Astronomical Telescope and Instrumentation 2022, conference : Ground-based and Airborne Instrumentation for Astronomy IX (12184)*|\n",
       "|**Abstract**| The RISTRETTO project is aiming to build an instrument that will detect the reflected light from close-by exoplanet. It is a two stage instrument: An extreme AO system in the visible, followed by a seven spaxel single mode High resolution Spectrograph. In this paper we present the design of this spectrograph: a classical echelle spectrograph fed with single mode fibers. Standard single mode fibers have been chosen and are forming a long tilted slit in order to have the right order spacing on the detector. The instrument will be under vacuum and thermally controlled in order to make it stable. |\n",
       "|<p style=\"color:red\"> **ERROR** </p>| <p style=\"color:red\">latex error not a gzip file</p> |"
      ],
      "text/plain": [
       "<IPython.core.display.Markdown object>"
      ]
     },
     "metadata": {},
     "output_type": "display_data"
    }
   ],
   "source": [
    "import datetime\n",
    "today = str(datetime.date.today())\n",
    "logfile = f\"_build/html/logs/log-{today}.md\"\n",
    "\n",
    "\n",
    "with open(logfile, 'w') as logs:\n",
    "    # Success\n",
    "    logs.write(f'# Arxiv on Deck 2: Logs - {today}\\n\\n')\n",
    "    logs.write(\"\"\"* Arxiv had {0:,d} new papers\\n\"\"\".format(len(new_papers)))\n",
    "    logs.write(\"\"\"    * {0:,d} with possible author matches\\n\\n\"\"\".format(len(candidates)))\n",
    "    logs.write(\"## Sucessful papers\\n\\n\")\n",
    "    display(Markdown(\"## Successful papers\"))\n",
    "    success = [k[0] for k in documents]\n",
    "    for candid in candidates:\n",
    "        if candid['identifier'].split(':')[-1] in success:\n",
    "            display(candid)\n",
    "            logs.write(candid.generate_markdown_text() + '\\n\\n')\n",
    "\n",
    "    ## failed\n",
    "    logs.write(\"## Failed papers\\n\\n\")\n",
    "    display(Markdown(\"## Failed papers\"))\n",
    "    failed = sorted(failed, key=lambda x: x[1])\n",
    "    current_reason = \"\"\n",
    "    for paper, reason in failed:\n",
    "        if 'affiliation' in reason:\n",
    "            color = 'green'\n",
    "        else:\n",
    "            color = 'red'\n",
    "        data = Markdown(\n",
    "                paper.generate_markdown_text() + \n",
    "                f'\\n|<p style=\"color:{color:s}\"> **ERROR** </p>| <p style=\"color:{color:s}\">{reason:s}</p> |'\n",
    "               )\n",
    "        if reason != current_reason:\n",
    "            logs.write(f'### {reason:s} \\n\\n')\n",
    "            current_reason = reason\n",
    "        logs.write(data.data + '\\n\\n')\n",
    "        \n",
    "        # only display here the important errors (all in logs)\n",
    "        # if color in ('red',):\n",
    "        display(data)"
   ]
  },
  {
   "cell_type": "markdown",
   "id": "472d20ee",
   "metadata": {
    "papermill": {
     "duration": 0.010749,
     "end_time": "2022-09-01T08:22:51.829992",
     "exception": false,
     "start_time": "2022-09-01T08:22:51.819243",
     "status": "completed"
    },
    "tags": []
   },
   "source": [
    "## Export documents\n",
    "\n",
    "We now write the .md files and export relevant images"
   ]
  },
  {
   "cell_type": "code",
   "execution_count": 7,
   "id": "d426aed9",
   "metadata": {
    "execution": {
     "iopub.execute_input": "2022-09-01T08:22:51.855433Z",
     "iopub.status.busy": "2022-09-01T08:22:51.852713Z",
     "iopub.status.idle": "2022-09-01T08:22:51.864738Z",
     "shell.execute_reply": "2022-09-01T08:22:51.863878Z"
    },
    "papermill": {
     "duration": 0.026298,
     "end_time": "2022-09-01T08:22:51.867009",
     "exception": false,
     "start_time": "2022-09-01T08:22:51.840711",
     "status": "completed"
    },
    "tags": []
   },
   "outputs": [],
   "source": [
    "def export_markdown_summary(md: str, md_fname:str, directory: str):\n",
    "    \"\"\"Export MD document and associated relevant images\"\"\"\n",
    "    import os\n",
    "    import shutil\n",
    "    import re\n",
    "\n",
    "    if (os.path.exists(directory) and not os.path.isdir(directory)):\n",
    "        raise RuntimeError(f\"a non-directory file exists with name {directory:s}\")\n",
    "\n",
    "    if (not os.path.exists(directory)):\n",
    "        print(f\"creating directory {directory:s}\")\n",
    "        os.mkdir(directory)\n",
    "\n",
    "    fig_fnames = (re.compile(r'\\[Fig.*\\]\\((.*)\\)').findall(md) + \n",
    "                  re.compile(r'\\<img src=\"([^>\\s]*)\"[^>]*/>').findall(md))\n",
    "    for fname in fig_fnames:\n",
    "        if 'http' in fname:\n",
    "            # No need to copy online figures\n",
    "            continue\n",
    "        destdir = os.path.join(directory, os.path.dirname(fname))\n",
    "        destfname = os.path.join(destdir, os.path.basename(fname))\n",
    "        try:\n",
    "            os.makedirs(destdir)\n",
    "        except FileExistsError:\n",
    "            pass\n",
    "        shutil.copy(fname, destfname)\n",
    "    with open(os.path.join(directory, md_fname), 'w') as fout:\n",
    "        fout.write(md)\n",
    "    print(\"exported in \", os.path.join(directory, md_fname))\n",
    "    [print(\"    + \" + os.path.join(directory,fk)) for fk in fig_fnames]"
   ]
  },
  {
   "cell_type": "code",
   "execution_count": 8,
   "id": "014d04a4",
   "metadata": {
    "execution": {
     "iopub.execute_input": "2022-09-01T08:22:51.890890Z",
     "iopub.status.busy": "2022-09-01T08:22:51.890232Z",
     "iopub.status.idle": "2022-09-01T08:22:51.898336Z",
     "shell.execute_reply": "2022-09-01T08:22:51.897415Z"
    },
    "papermill": {
     "duration": 0.022183,
     "end_time": "2022-09-01T08:22:51.900691",
     "exception": false,
     "start_time": "2022-09-01T08:22:51.878508",
     "status": "completed"
    },
    "tags": []
   },
   "outputs": [
    {
     "name": "stdout",
     "output_type": "stream",
     "text": [
      "exported in  _build/html/2208.14927.md\n",
      "    + _build/html/tmp_2208.14927/./P3.png\n",
      "    + _build/html/tmp_2208.14927/./P1.png\n",
      "    + _build/html/tmp_2208.14927/./P2.png\n"
     ]
    }
   ],
   "source": [
    "for paper_id, md in documents:\n",
    "    export_markdown_summary(md, f\"{paper_id:s}.md\", '_build/html/')"
   ]
  },
  {
   "cell_type": "markdown",
   "id": "f087a0a7",
   "metadata": {
    "papermill": {
     "duration": 0.011459,
     "end_time": "2022-09-01T08:22:51.923171",
     "exception": false,
     "start_time": "2022-09-01T08:22:51.911712",
     "status": "completed"
    },
    "tags": []
   },
   "source": [
    "## Display the papers\n",
    "\n",
    "Not necessary but allows for a quick check."
   ]
  },
  {
   "cell_type": "code",
   "execution_count": 9,
   "id": "fd25f625",
   "metadata": {
    "execution": {
     "iopub.execute_input": "2022-09-01T08:22:51.945986Z",
     "iopub.status.busy": "2022-09-01T08:22:51.945302Z",
     "iopub.status.idle": "2022-09-01T08:22:51.954921Z",
     "shell.execute_reply": "2022-09-01T08:22:51.953921Z"
    },
    "papermill": {
     "duration": 0.023013,
     "end_time": "2022-09-01T08:22:51.956975",
     "exception": false,
     "start_time": "2022-09-01T08:22:51.933962",
     "status": "completed"
    },
    "scrolled": false,
    "tags": []
   },
   "outputs": [
    {
     "data": {
      "text/markdown": [
       "<div class=\"macros\" style=\"visibility:hidden;\">\n",
       "$\\newcommand{\\ensuremath}{}$\n",
       "$\\newcommand{\\xspace}{}$\n",
       "$\\newcommand{\\object}[1]{\\texttt{#1}}$\n",
       "$\\newcommand{\\farcs}{{.}''}$\n",
       "$\\newcommand{\\farcm}{{.}'}$\n",
       "$\\newcommand{\\arcsec}{''}$\n",
       "$\\newcommand{\\arcmin}{'}$\n",
       "$\\newcommand{\\ion}[2]{#1#2}$\n",
       "$\\newcommand{\\textsc}[1]{\\textrm{#1}}$\n",
       "$\\newcommand{\\hl}[1]{\\textrm{#1}}$\n",
       "$\\newcommand{\\vdag}{(v)^\\dagger}$\n",
       "$\\newcommand$\n",
       "$\\newcommand$\n",
       "$\\newcommand$</div>\n",
       "\n",
       "<div class=\"macros\" style=\"visibility:hidden;\">\n",
       "$\\newcommand{$\\ensuremath$}{}$\n",
       "$\\newcommand{$\\xspace$}{}$\n",
       "$\\newcommand{$\\object$}[1]{\\texttt{#1}}$\n",
       "$\\newcommand{$\\farcs$}{{.}''}$\n",
       "$\\newcommand{$\\farcm$}{{.}'}$\n",
       "$\\newcommand{$\\arcsec$}{''}$\n",
       "$\\newcommand{$\\arcmin$}{'}$\n",
       "$\\newcommand{$\\ion$}[2]{#1#2}$\n",
       "$\\newcommand{$\\textsc$}[1]{\\textrm{#1}}$\n",
       "$\\newcommand{$\\hl$}[1]{\\textrm{#1}}$\n",
       "$\\newcommand{$\\vdag$}{(v)^\\dagger}$\n",
       "$\\newcommand$\n",
       "$\\newcommand$\n",
       "$\\newcommand$</div>\n",
       "\n",
       "\n",
       "\n",
       "<div id=\"title\">\n",
       "\n",
       "#  and its implications for the diffuse cloud chemistry\n",
       "\n",
       "</div>\n",
       "<div id=\"comments\">\n",
       "\n",
       "[![arXiv](https://img.shields.io/badge/arXiv-2208.14927-b31b1b.svg)](https://arxiv.org/abs/2208.14927)<mark>Appeared on: 2022-09-01</mark> - _Main paper: PDFLaTeX with 7 pages, 3 figures. Appendix starting on page 7: PDFLaTeX with 11 pages, 2 figures, 4 tables. This article has been accepted by The Astrophysical Journal_\n",
       "\n",
       "</div>\n",
       "<div id=\"authors\">\n",
       "\n",
       "Daniel Paul, et al. -- incl., <mark>Holger Kreckel</mark>\n",
       "\n",
       "</div>\n",
       "<div id=\"abstract\">\n",
       "\n",
       "**Abstract:** Observations of CH$^+$are used to trace the physical properties of diffuse clouds, but this requires an accurate understanding of the underlying CH$^+$chemistry. Until this work, the most uncertain reaction in that chemistry was dissociative recombination (DR) of CH$^+$. Using an electron-ion merged-beams experiment at the Cryogenic Storage Ring, we have determined the DR rate coefficient of the CH$^+$electronic, vibrational, and rotational ground state applicable for different diffuse cloud conditions. Our results reduce the previously unrecognized order-of-magnitude uncertainty in the CH$^+$DR rate coefficient to$\\sim \\pm 20\\%$and are applicable at all temperatures relevant to diffuse clouds, ranging from quiescent gas to gas locally heated by processes such as shocks and turbulence. Based on a simple chemical network, we find that DR can be an important destruction mechanism at temperatures relevant to quiescent gas. As the temperature increases locally, DR can continue to be important up to temperatures of$ \\sim\\SI{600}{K} $if there is also a corresponding increase in the electron fraction of the gas. Our new CH$^+$DR rate coefficient data will increase the reliability of future studies of diffuse cloud physical properties via CH$^+$abundance observations.\n",
       "\n",
       "</div>\n",
       "\n",
       "<div id=\"div_fig1\">\n",
       "\n",
       "<img src=\"tmp_2208.14927/./P3.png\" alt=\"Fig4\" width=\"100%\"/>\n",
       "\n",
       "**Figure 4. -** CH$^{+}$ DR kinetic temperature rate coefficient and its relevance for the CH$^{+}$ destruction in diffuse interstellar clouds. (a) The thick solid line shows the experimentally determined $ J=0 $ kinetic temperature rate coefficient of this work. The one-sigma error band in gray represents the quadrature sum of all systematic uncertainties.  The dashed lines indicate rate coefficients from the UMIST (\\citealt{McElroy2013}, upper line) and KIDA (\\citealt{Wakelam2012}, lower line) astrochemistry databases. The calculated $ J=0 $ rate coefficient of \\citet{Mezei2019} is drawn as dotted line. (b) Diffuse cloud parameter ranges where DR is the dominant CH$^+$ destruction process (colored) for a standard electron fraction ($ \\chi_{\\mathrm{e}}=\\SI{1.6e-4}  $) and for enhanced values of $ \\chi_{\\mathrm{e}} $ as given. One-sigma error bars for $ f_\\mathrm{H_2}=1 $ and $ f_\\mathrm{H_2}=0 $ are shown at the top and bottom of the figure, respectively. They were calculated from the combined systematic uncertainties for the rate coefficients $ \\alpha_\\mathrm{H} $($\\sim50\\%$, \\cite{Plasil2011}), $ \\alpha_\\mathrm{H_2} $($\\sim20\\%$, \\cite{Gerlich2011}), and $ \\alpha^\\mathrm{k}_{J=0} $($ \\sim20\\% $, this work). (*fig:plasmarate*)\n",
       "\n",
       "</div>\n",
       "<div id=\"div_fig2\">\n",
       "\n",
       "<img src=\"tmp_2208.14927/./P1.png\" alt=\"Fig2\" width=\"100%\"/>\n",
       "\n",
       "**Figure 2. -** (a) Schematic of the CSR experimental setup for DR measurements of CH$^+$  and probing of its internal level populations. See text for details. (b) Measured relative $ J $-level populations in the CSR for storage times of $ \\SI[parse-numbers=false]{60-80}{s} $ with statistical one-sigma error bars. (c) Relative $ J $-level populations predicted in TSR for a thermal equilibrium at $ T=\\SI{300}{K} $. (*fig:setup*)\n",
       "\n",
       "</div>\n",
       "<div id=\"div_fig3\">\n",
       "\n",
       "<img src=\"tmp_2208.14927/./P2.png\" alt=\"Fig3\" width=\"100%\"/>\n",
       "\n",
       "**Figure 3. -** Merged-beams DR rate coefficient (blue line) for the CH$^{+}$ ground state $X^1\\Sigma^+ (v=0,J=0)$ with the statistical one-sigma uncertainties (blue shaded area). The one-sigma uncertainty of the absolute scale is $ \\pm13 \\% $. The room-temperature TSR results of \\citet{Amitay1996}, which have a $ \\pm50 \\% $ absolute scaling systematic uncertainty, are shown by the gray squares. The symbols and lines on top of the figure indicate the full width at half maximum (FWHM) energy resolution $ \\Delta E $ of the CSR and TSR measurements. The divergence of the CSR from the TSR data for $ E_\\mathrm{d}\\gtrsim\\SI{10}{eV} $ is due to contribution from dissociative excitation (see text). The data behind the TSR and CSR graphs are both available. The latter are part of Figure \\ref{fig:ratecoeffmeas}(b). (*fig:ratecoeff*)\n",
       "\n",
       "</div>"
      ],
      "text/plain": [
       "<IPython.core.display.Markdown object>"
      ]
     },
     "metadata": {},
     "output_type": "display_data"
    }
   ],
   "source": [
    "[display(Markdown(k[1])) for k in documents];"
   ]
  },
  {
   "cell_type": "markdown",
   "id": "873873a4",
   "metadata": {
    "papermill": {
     "duration": 0.010873,
     "end_time": "2022-09-01T08:22:51.978917",
     "exception": false,
     "start_time": "2022-09-01T08:22:51.968044",
     "status": "completed"
    },
    "tags": []
   },
   "source": [
    "# Create HTML index"
   ]
  },
  {
   "cell_type": "code",
   "execution_count": 10,
   "id": "cf665672",
   "metadata": {
    "execution": {
     "iopub.execute_input": "2022-09-01T08:22:52.002729Z",
     "iopub.status.busy": "2022-09-01T08:22:52.002027Z",
     "iopub.status.idle": "2022-09-01T08:22:52.013387Z",
     "shell.execute_reply": "2022-09-01T08:22:52.012232Z"
    },
    "papermill": {
     "duration": 0.025819,
     "end_time": "2022-09-01T08:22:52.015442",
     "exception": false,
     "start_time": "2022-09-01T08:22:51.989623",
     "status": "completed"
    },
    "tags": []
   },
   "outputs": [
    {
     "name": "stdout",
     "output_type": "stream",
     "text": [
      "21  publications in the last 7 days.\n",
      "\t _build/html/2208.14927.md\n",
      "\t _build/html/2208.09335.md\n",
      "\t _build/html/2208.08872.md\n",
      "\t _build/html/2204.06393.md\n",
      "\t _build/html/2204.03335.md\n",
      "\t _build/html/2204.03253.md\n",
      "\t _build/html/2204.02998.md\n",
      "\t _build/html/2204.02109.md\n",
      "\t _build/html/2204.02017.md\n",
      "\t _build/html/2204.01824.md\n",
      "\t _build/html/2204.01758.md\n",
      "\t _build/html/2204.01245.md\n",
      "\t _build/html/2204.00793.md\n",
      "\t _build/html/2204.00342.md\n",
      "\t _build/html/2203.16959.md\n",
      "\t _build/html/2203.16856.md\n",
      "\t _build/html/2203.16735.md\n",
      "\t _build/html/2203.16734.md\n",
      "\t _build/html/2203.16504.md\n",
      "\t _build/html/2203.15822.md\n",
      "\t _build/html/2203.15811.md\n"
     ]
    }
   ],
   "source": [
    "from datetime import datetime, timedelta, timezone\n",
    "from glob import glob\n",
    "\n",
    "files = glob('_build/html/*.md')\n",
    "days = 7\n",
    "now = datetime.today()\n",
    "res = []\n",
    "for fk in files:\n",
    "    stat_result = os.stat(fk).st_ctime\n",
    "    modified = datetime.fromtimestamp(stat_result, tz=timezone.utc).replace(tzinfo=None)\n",
    "    delta = now.today() - modified\n",
    "    if delta <= timedelta(days=days):\n",
    "        res.append((delta.seconds, fk))\n",
    "res = [k[1] for k in reversed(sorted(res, key=lambda x:x[1]))]\n",
    "npub = len(res)\n",
    "print(len(res), f\" publications in the last {days:d} days.\")\n",
    "[ print('\\t', k) for k in res ];"
   ]
  },
  {
   "cell_type": "code",
   "execution_count": 11,
   "id": "52ca0208",
   "metadata": {
    "execution": {
     "iopub.execute_input": "2022-09-01T08:22:52.038579Z",
     "iopub.status.busy": "2022-09-01T08:22:52.037935Z",
     "iopub.status.idle": "2022-09-01T08:22:52.045838Z",
     "shell.execute_reply": "2022-09-01T08:22:52.044844Z"
    },
    "papermill": {
     "duration": 0.021686,
     "end_time": "2022-09-01T08:22:52.047687",
     "exception": false,
     "start_time": "2022-09-01T08:22:52.026001",
     "status": "completed"
    },
    "scrolled": false,
    "tags": []
   },
   "outputs": [],
   "source": [
    "def create_carousel(npub=4):\n",
    "    \"\"\" Generate the HTML code for a carousel with `npub` slides \"\"\"\n",
    "    carousel = [\"\"\"<section class=\"carousel\" aria-label=\"Gallery\">\"\"\",\n",
    "                \"\"\"  <ol class=\"carousel__viewport\">\"\"\",\n",
    "    ]\n",
    "    for k in range(1, npub + 1):\n",
    "        prev_ = k - 1\n",
    "        next_ = k + 1\n",
    "        if prev_ <= 0:\n",
    "            prev_ = npub\n",
    "        if next_ > npub:\n",
    "            next_ = 1\n",
    "        text  = f\"\"\"    <li id=\"carousel__slide{k}\" tabindex=\"0\" class=\"carousel__slide\">\\n\"\"\"\n",
    "        text += f\"\"\"       <div class=\"carousel__snapper\">\\n\"\"\"\n",
    "        text += f\"\"\"         <a href=\"#carousel__slide{prev_}\" class=\"carousel__prev\">Go to previous slide</a>\\n\"\"\"\n",
    "        text += f\"\"\"         <a href=\"#carousel__slide{next_}\" class=\"carousel__next\">Go to next slide</a>\\n\"\"\"\n",
    "        text += f\"\"\"         <div id=\"slide{k}_content\" class=\"md_view\" >Content {k}</div>\\n\"\"\"\n",
    "        text += f\"\"\"       </div>\\n\"\"\"\n",
    "        text += f\"\"\"    </li>\"\"\"\n",
    "        carousel.append(text)\n",
    "\n",
    "    carousel.extend([\n",
    "        \"\"\"  </ol>\"\"\",\n",
    "        \"\"\"  <aside class=\"carousel__navigation\">\"\"\",\n",
    "        \"\"\"    <ol class=\"carousel__navigation-list\">\"\"\"])\n",
    "\n",
    "    for k in range(1, npub + 1):\n",
    "        text  = f\"\"\"      <li class=\"carousel__navigation-item\">\\n\"\"\"\n",
    "        text += f\"\"\"        <a href=\"#carousel__slide{k}\" class=\"carousel__navigation-button\">Go to {k}</a>\\n\"\"\"\n",
    "        text += f\"\"\"      </li>\"\"\"\n",
    "        carousel.append(text)\n",
    "    carousel.extend([\"\"\"    </ol>\"\"\", \"\"\"  </aside>\"\"\", \"\"\"</section>\"\"\"])\n",
    "\n",
    "    return '\\n'.join(carousel)"
   ]
  },
  {
   "cell_type": "code",
   "execution_count": 12,
   "id": "a6eac5b6",
   "metadata": {
    "execution": {
     "iopub.execute_input": "2022-09-01T08:22:52.076402Z",
     "iopub.status.busy": "2022-09-01T08:22:52.075317Z",
     "iopub.status.idle": "2022-09-01T08:22:52.084076Z",
     "shell.execute_reply": "2022-09-01T08:22:52.083247Z"
    },
    "papermill": {
     "duration": 0.026242,
     "end_time": "2022-09-01T08:22:52.086286",
     "exception": false,
     "start_time": "2022-09-01T08:22:52.060044",
     "status": "completed"
    },
    "scrolled": false,
    "tags": []
   },
   "outputs": [],
   "source": [
    "carousel = create_carousel(npub)\n",
    "docs = ', '.join(['\"{0:s}\"'.format(k.split('/')[-1]) for k in res])\n",
    "slides = ', '.join([f'\"slide{k}_content\"' for k in range(1, npub + 1)])\n",
    "\n",
    "script = f\"\"\"\n",
    "const docs = [{docs}]\n",
    "\n",
    "const slides = [{slides}]\n",
    "\"\"\" + \"\"\"\n",
    "async function run() {\n",
    "    for (let i = 0; i < docs.length; i++) {\n",
    "        let file = await fetch(docs[i]);\n",
    "        let text = await file.text()\n",
    "        document.getElementById(slides[i]).innerHTML =\n",
    "            marked.parse(text);\n",
    "    }\n",
    "    hljs.highlightAll();\n",
    "}\n",
    "run()\n",
    "\"\"\"\n",
    "\n",
    "page = f\"\"\"<!doctype html>\n",
    "<html lang=\"en\">\n",
    "\n",
    "<head>\n",
    "  <meta charset=\"utf-8\">\n",
    "  <meta name=\"viewport\" content=\"width=device-width, initial-scale=1\">\n",
    "  <!-- Bootstrap CSS -->\n",
    "  <link href=\"https://cdn.jsdelivr.net/npm/bootstrap@5.0.2/dist/css/bootstrap.min.css\" rel=\"stylesheet\"\n",
    "   integrity=\"sha384-EVSTQN3/azprG1Anm3QDgpJLIm9Nao0Yz1ztcQTwFspd3yD65VohhpuuCOmLASjC\" crossorigin=\"anonymous\">\n",
    "  <!-- highlight.js CSS -->\n",
    "  <link rel=\"stylesheet\" href=\"https://cdnjs.cloudflare.com/ajax/libs/highlight.js/11.1.0/styles/default.min.css\">\n",
    "  <!-- Mathjax 3 -->\n",
    "  <script type=\"text/javascript\" id=\"MathJax-config\" src=\"mathjax_config.js\"> </script>\n",
    "  <script type=\"text/javascript\" id=\"MathJax-script\" async \n",
    "    src=\"https://cdn.jsdelivr.net/npm/mathjax@3/es5/tex-mml-chtml.js\">\n",
    "  </script>\n",
    "  <link rel=\"stylesheet\" href=\"index_carousel.css\">\n",
    "  <link rel=\"icon\" type=\"image/x-icon\" href=\"https://www.mpia.de/assets/touch-icon-32x32-a66937bcebc4e8894ebff1f41a366c7c7220fd97a38869ee0f2db65a9f59b6c1.png\">\n",
    "  <title>MPIA Arxiv on deck!</title>\n",
    "</head>\n",
    "\n",
    "<body>\n",
    "  <div id=\"header\"> <img src=\"header_banner.png\" width=\"100%\"></div>\n",
    "  <div id=\"suptitle\"> 7-day archives </div>\n",
    "  <div id=\"info\">\n",
    "    <img src=\"https://pngimg.com/uploads/github/github_PNG58.png\" height=30rem></img>\n",
    "    <a href=https://github.com/mpi-astronomy/arxiv_display style=\"color:black;\">github/mpi-astronomy/arxiv_display</a> \n",
    "  </div>\n",
    "  {carousel:s}\n",
    "</body>\n",
    "\n",
    "<!-- Render Markdown -->\n",
    "\n",
    "<body>\n",
    "  <!-- highlight.js: https://highlightjs.org/download/ -->\n",
    "  <script src=\"https://cdnjs.cloudflare.com/ajax/libs/highlight.js/11.5.0/highlight.min.js\"></script>\n",
    "  <!-- marked.js -->\n",
    "  <script src=\"https://cdn.jsdelivr.net/npm/marked/marked.min.js\"></script>\n",
    "  <script>{script:s}</script>\n",
    "</body>\n",
    "</html>\n",
    "\"\"\"\n",
    "with open(\"_build/html/index_7days.html\", 'w') as fout:\n",
    "    fout.write(page)"
   ]
  },
  {
   "cell_type": "markdown",
   "id": "1cebacbc",
   "metadata": {
    "papermill": {
     "duration": 0.010846,
     "end_time": "2022-09-01T08:22:52.108165",
     "exception": false,
     "start_time": "2022-09-01T08:22:52.097319",
     "status": "completed"
    },
    "tags": []
   },
   "source": [
    "# Debugging papers"
   ]
  },
  {
   "cell_type": "raw",
   "id": "debe7cc6",
   "metadata": {
    "papermill": {
     "duration": 0.012493,
     "end_time": "2022-09-01T08:22:52.132864",
     "exception": false,
     "start_time": "2022-09-01T08:22:52.120371",
     "status": "completed"
    },
    "tags": []
   },
   "source": [
    "raise NotImplementedError(\"Manual Stop\")"
   ]
  },
  {
   "cell_type": "raw",
   "id": "eb169192",
   "metadata": {
    "papermill": {
     "duration": 0.011288,
     "end_time": "2022-09-01T08:22:52.156250",
     "exception": false,
     "start_time": "2022-09-01T08:22:52.144962",
     "status": "completed"
    },
    "scrolled": true,
    "tags": []
   },
   "source": [
    "from IPython.display import display, Markdown\n",
    "from TexSoup import TexSoup\n",
    "import re\n",
    "\n",
    "def bracket_error(source: str):\n",
    "    \"\"\" Find problematic portions of the document \"\"\"\n",
    "    \n",
    "    print(\"len(source)\", len(source))\n",
    "    \n",
    "    # Checking header\n",
    "    begin_doc = next(re.finditer(r'\\\\begin\\{document\\}', doc.source)).span()[1]\n",
    "    header = source[:begin_doc]\n",
    "    text = header + r\"\\n\\end{document}\"\n",
    "\n",
    "    try:\n",
    "        # print(\"Header check... \", end='')\n",
    "        TexSoup(text)\n",
    "        display(Markdown(f\"**[OK]** - Header\"))\n",
    "    except:\n",
    "        raise RuntimeError(\"Error in the header\")\n",
    "        \n",
    "    # Check the text per section until the end.\n",
    "    # Do not stop and try them all.\n",
    "    \n",
    "    problematic_text = []\n",
    "    \n",
    "    sections = ([(0, begin_doc, 'until first section')] + \n",
    "                [(g.span()[0], g.span()[1], g.group()) for g in re.finditer(r'\\\\section\\{.*\\}', source)] +\n",
    "                [(g.span()[0], g.span()[1], g.group()) for g in re.finditer(r'\\\\begin\\{appendix\\}', source)]\n",
    "               )\n",
    "    sections.append([len(source), len(source), 'end'])\n",
    "    \n",
    "    sections = sorted(sections, key=lambda x: x[0])\n",
    "    \n",
    "    prev_pos, prev_name = (0, 'header')\n",
    "    parsed = []\n",
    "    \n",
    "    for span, span_end, name in sections:\n",
    "\n",
    "        if span - prev_pos <= 0:\n",
    "            continue\n",
    "            \n",
    "\n",
    "        text = source[prev_pos:span]\n",
    "        if prev_pos > begin_doc:\n",
    "            text = r\"\\n\\begin{document}\" + text + r\"\\n\\end{document}\"\n",
    "        else:\n",
    "            text = text + r\"\\n\\end{document}\"\n",
    "        try:\n",
    "            #print(f\"{prev_pos}:{prev_name}-->{span}:{name} check... \", end='')\n",
    "            parsed.append(TexSoup(text, tolerance=1))  # allow not ending env\n",
    "            display(Markdown(f\"**[OK]** - *{prev_pos}*:{prev_name} &rarr; *{span}*:{name}\"))\n",
    "            # print(\"ok\")\n",
    "\n",
    "            prev_pos = span\n",
    "            prev_name = name\n",
    "        except:\n",
    "            # print(f\"error between {prev_pos} and {span}\")\n",
    "            display(Markdown(f\"**[ERR]** *{prev_pos}*:{prev_name} &rarr; *{span}*:{name}\"))\n",
    "            problematic_text.append((prev_pos, source[prev_pos:span]))\n",
    "            prev_pos = span\n",
    "            prev_name = name\n",
    "            # raise\n",
    "    return problematic_text, parsed\n",
    "\n",
    "\n",
    "def check_environment(text, offset=0):\n",
    "    \"\"\" Check environment \"\"\"\n",
    "    env = re.compile(r\"\\\\begin\\{(?P<env>.*)\\}(.*)\\\\end\\{(?P=env)\\}\", re.DOTALL)\n",
    "\n",
    "    for match in env.finditer(text):\n",
    "        beg, end = match.span()\n",
    "        beg += offset\n",
    "        end += offset\n",
    "        envname = match.groups()[0]\n",
    "        try:\n",
    "            latex.TexSoup(match.group())\n",
    "        except Exception as e:\n",
    "            display(e)\n",
    "            print(f\"Error in {envname:s} between {beg} and {end}\")\n",
    "            return match.groups()[1], beg, end"
   ]
  },
  {
   "cell_type": "raw",
   "id": "2315e835",
   "metadata": {
    "papermill": {
     "duration": 0.015799,
     "end_time": "2022-09-01T08:22:52.188224",
     "exception": false,
     "start_time": "2022-09-01T08:22:52.172425",
     "status": "completed"
    },
    "scrolled": false,
    "tags": []
   },
   "source": [
    "import importlib\n",
    "importlib.reload(latex)\n",
    "which = \"2204.03253\"\n",
    "paper_id = f'{which:s}'\n",
    "folder = f'tmp_{paper_id:s}'\n",
    "\n",
    "if not os.path.isdir(folder):\n",
    "    folder = retrieve_document_source(f\"{paper_id}\", f'tmp_{paper_id}')\n",
    "\n",
    "try:\n",
    "    doc = latex.LatexDocument(folder, validation=validation)    \n",
    "except AffiliationError as affilerror:\n",
    "    msg = f\"ArXiv:{paper_id:s} is not an MPIA paper... \" + str(affilerror)\n",
    "    print(msg)\n",
    "\n",
    "\n",
    "# Hack because sometimes author parsing does not work well\n",
    "if (len(doc.authors) != len(paper['authors'])):\n",
    "    doc._authors = paper['authors']\n",
    "if (doc.abstract) in (None, ''):\n",
    "    doc._abstract = paper['abstract']\n",
    "\n",
    "doc.comment = get_markdown_badge(paper_id) + \" _\" + paper['comments'] + \"_\"\n",
    "doc.highlight_authors_in_list(hl_list)\n",
    "\n",
    "full_md = doc.generate_markdown_text()"
   ]
  },
  {
   "cell_type": "raw",
   "id": "dd3781db",
   "metadata": {
    "papermill": {
     "duration": 0.011227,
     "end_time": "2022-09-01T08:22:52.210783",
     "exception": false,
     "start_time": "2022-09-01T08:22:52.199556",
     "status": "completed"
    },
    "scrolled": false,
    "tags": []
   },
   "source": [
    "doc"
   ]
  },
  {
   "cell_type": "raw",
   "id": "c6eed834",
   "metadata": {
    "papermill": {
     "duration": 0.014842,
     "end_time": "2022-09-01T08:22:52.238627",
     "exception": false,
     "start_time": "2022-09-01T08:22:52.223785",
     "status": "completed"
    },
    "tags": []
   },
   "source": [
    "# [check_environment(k) for k in bracket_error(doc.source)]\n",
    "_, _, a = latex.get_content_per_section(doc.source, verbose=True)\n",
    "if not a:\n",
    "    print(\"no issues per section\")\n",
    "for ak in a:\n",
    "    r = check_environment(ak[1], offset=ak[0])\n",
    "    print(r[1], r[2])\n",
    "    print(r[0])"
   ]
  },
  {
   "cell_type": "code",
   "execution_count": null,
   "id": "71ce768a",
   "metadata": {
    "papermill": {
     "duration": 0.011085,
     "end_time": "2022-09-01T08:22:52.261468",
     "exception": false,
     "start_time": "2022-09-01T08:22:52.250383",
     "status": "completed"
    },
    "tags": []
   },
   "outputs": [],
   "source": []
  }
 ],
 "metadata": {
  "kernelspec": {
   "display_name": "Python 3.10.6 64-bit",
   "language": "python",
   "name": "python3"
  },
  "language_info": {
   "codemirror_mode": {
    "name": "ipython",
    "version": 3
   },
   "file_extension": ".py",
   "mimetype": "text/x-python",
   "name": "python",
   "nbconvert_exporter": "python",
   "pygments_lexer": "ipython3",
   "version": "3.9.13"
  },
  "papermill": {
   "default_parameters": {},
   "duration": 233.832814,
   "end_time": "2022-09-01T08:22:52.627940",
   "environment_variables": {},
   "exception": null,
   "input_path": "MPIA daily digest.ipynb",
   "output_path": "log.ipynb",
   "parameters": {},
   "start_time": "2022-09-01T08:18:58.795126",
   "version": "2.4.0"
  },
  "vscode": {
   "interpreter": {
    "hash": "e7370f93d1d0cde622a1f8e1c04877d8463912d04d973331ad4851f04de6915a"
   }
  },
  "widgets": {
   "application/vnd.jupyter.widget-state+json": {
    "state": {
     "14b8a4cecb554dd49a0be5e73b3d0443": {
      "model_module": "@jupyter-widgets/base",
      "model_module_version": "2.0.0",
      "model_name": "LayoutModel",
      "state": {
       "_model_module": "@jupyter-widgets/base",
       "_model_module_version": "2.0.0",
       "_model_name": "LayoutModel",
       "_view_count": null,
       "_view_module": "@jupyter-widgets/base",
       "_view_module_version": "2.0.0",
       "_view_name": "LayoutView",
       "align_content": null,
       "align_items": null,
       "align_self": null,
       "border_bottom": null,
       "border_left": null,
       "border_right": null,
       "border_top": null,
       "bottom": null,
       "display": null,
       "flex": null,
       "flex_flow": null,
       "grid_area": null,
       "grid_auto_columns": null,
       "grid_auto_flow": null,
       "grid_auto_rows": null,
       "grid_column": null,
       "grid_gap": null,
       "grid_row": null,
       "grid_template_areas": null,
       "grid_template_columns": null,
       "grid_template_rows": null,
       "height": null,
       "justify_content": null,
       "justify_items": null,
       "left": null,
       "margin": null,
       "max_height": null,
       "max_width": null,
       "min_height": null,
       "min_width": null,
       "object_fit": null,
       "object_position": null,
       "order": null,
       "overflow": null,
       "padding": null,
       "right": null,
       "top": null,
       "visibility": null,
       "width": null
      }
     },
     "3632a5a487f1468e93c86ad9134eb67c": {
      "model_module": "@jupyter-widgets/controls",
      "model_module_version": "2.0.0",
      "model_name": "HTMLModel",
      "state": {
       "_dom_classes": [],
       "_model_module": "@jupyter-widgets/controls",
       "_model_module_version": "2.0.0",
       "_model_name": "HTMLModel",
       "_view_count": null,
       "_view_module": "@jupyter-widgets/controls",
       "_view_module_version": "2.0.0",
       "_view_name": "HTMLView",
       "description": "",
       "description_allow_html": false,
       "layout": "IPY_MODEL_ea576463d28c407b95abff4e651c36ca",
       "placeholder": "​",
       "style": "IPY_MODEL_df84247a0abe4b4aa76adf3670399a50",
       "tabbable": null,
       "tooltip": null,
       "value": "100%"
      }
     },
     "3d91741b6f9847cd9fe6eebe8d1b0c8a": {
      "model_module": "@jupyter-widgets/base",
      "model_module_version": "2.0.0",
      "model_name": "LayoutModel",
      "state": {
       "_model_module": "@jupyter-widgets/base",
       "_model_module_version": "2.0.0",
       "_model_name": "LayoutModel",
       "_view_count": null,
       "_view_module": "@jupyter-widgets/base",
       "_view_module_version": "2.0.0",
       "_view_name": "LayoutView",
       "align_content": null,
       "align_items": null,
       "align_self": null,
       "border_bottom": null,
       "border_left": null,
       "border_right": null,
       "border_top": null,
       "bottom": null,
       "display": null,
       "flex": null,
       "flex_flow": null,
       "grid_area": null,
       "grid_auto_columns": null,
       "grid_auto_flow": null,
       "grid_auto_rows": null,
       "grid_column": null,
       "grid_gap": null,
       "grid_row": null,
       "grid_template_areas": null,
       "grid_template_columns": null,
       "grid_template_rows": null,
       "height": null,
       "justify_content": null,
       "justify_items": null,
       "left": null,
       "margin": null,
       "max_height": null,
       "max_width": null,
       "min_height": null,
       "min_width": null,
       "object_fit": null,
       "object_position": null,
       "order": null,
       "overflow": null,
       "padding": null,
       "right": null,
       "top": null,
       "visibility": null,
       "width": null
      }
     },
     "4909f0639b3945d5bb01643341372bea": {
      "model_module": "@jupyter-widgets/controls",
      "model_module_version": "2.0.0",
      "model_name": "HTMLModel",
      "state": {
       "_dom_classes": [],
       "_model_module": "@jupyter-widgets/controls",
       "_model_module_version": "2.0.0",
       "_model_name": "HTMLModel",
       "_view_count": null,
       "_view_module": "@jupyter-widgets/controls",
       "_view_module_version": "2.0.0",
       "_view_name": "HTMLView",
       "description": "",
       "description_allow_html": false,
       "layout": "IPY_MODEL_14b8a4cecb554dd49a0be5e73b3d0443",
       "placeholder": "​",
       "style": "IPY_MODEL_d2e29a3c846548529ff3454e60cf8c42",
       "tabbable": null,
       "tooltip": null,
       "value": " 19/19 [03:24&lt;00:00,  9.71s/it]"
      }
     },
     "506c07da656d4819bc266cd6d2c647f5": {
      "model_module": "@jupyter-widgets/base",
      "model_module_version": "2.0.0",
      "model_name": "LayoutModel",
      "state": {
       "_model_module": "@jupyter-widgets/base",
       "_model_module_version": "2.0.0",
       "_model_name": "LayoutModel",
       "_view_count": null,
       "_view_module": "@jupyter-widgets/base",
       "_view_module_version": "2.0.0",
       "_view_name": "LayoutView",
       "align_content": null,
       "align_items": null,
       "align_self": null,
       "border_bottom": null,
       "border_left": null,
       "border_right": null,
       "border_top": null,
       "bottom": null,
       "display": null,
       "flex": null,
       "flex_flow": null,
       "grid_area": null,
       "grid_auto_columns": null,
       "grid_auto_flow": null,
       "grid_auto_rows": null,
       "grid_column": null,
       "grid_gap": null,
       "grid_row": null,
       "grid_template_areas": null,
       "grid_template_columns": null,
       "grid_template_rows": null,
       "height": null,
       "justify_content": null,
       "justify_items": null,
       "left": null,
       "margin": null,
       "max_height": null,
       "max_width": null,
       "min_height": null,
       "min_width": null,
       "object_fit": null,
       "object_position": null,
       "order": null,
       "overflow": null,
       "padding": null,
       "right": null,
       "top": null,
       "visibility": null,
       "width": null
      }
     },
     "849abf6cef774613af8dc1b65ed4d224": {
      "model_module": "@jupyter-widgets/controls",
      "model_module_version": "2.0.0",
      "model_name": "HBoxModel",
      "state": {
       "_dom_classes": [],
       "_model_module": "@jupyter-widgets/controls",
       "_model_module_version": "2.0.0",
       "_model_name": "HBoxModel",
       "_view_count": null,
       "_view_module": "@jupyter-widgets/controls",
       "_view_module_version": "2.0.0",
       "_view_name": "HBoxView",
       "box_style": "",
       "children": [
        "IPY_MODEL_3632a5a487f1468e93c86ad9134eb67c",
        "IPY_MODEL_9ed93cb3daae47689d89f7f488b22baa",
        "IPY_MODEL_4909f0639b3945d5bb01643341372bea"
       ],
       "layout": "IPY_MODEL_3d91741b6f9847cd9fe6eebe8d1b0c8a",
       "tabbable": null,
       "tooltip": null
      }
     },
     "9ed93cb3daae47689d89f7f488b22baa": {
      "model_module": "@jupyter-widgets/controls",
      "model_module_version": "2.0.0",
      "model_name": "FloatProgressModel",
      "state": {
       "_dom_classes": [],
       "_model_module": "@jupyter-widgets/controls",
       "_model_module_version": "2.0.0",
       "_model_name": "FloatProgressModel",
       "_view_count": null,
       "_view_module": "@jupyter-widgets/controls",
       "_view_module_version": "2.0.0",
       "_view_name": "ProgressView",
       "bar_style": "success",
       "description": "",
       "description_allow_html": false,
       "layout": "IPY_MODEL_506c07da656d4819bc266cd6d2c647f5",
       "max": 19.0,
       "min": 0.0,
       "orientation": "horizontal",
       "style": "IPY_MODEL_ab24e31af751447ba6edabd9acda0a40",
       "tabbable": null,
       "tooltip": null,
       "value": 19.0
      }
     },
     "ab24e31af751447ba6edabd9acda0a40": {
      "model_module": "@jupyter-widgets/controls",
      "model_module_version": "2.0.0",
      "model_name": "ProgressStyleModel",
      "state": {
       "_model_module": "@jupyter-widgets/controls",
       "_model_module_version": "2.0.0",
       "_model_name": "ProgressStyleModel",
       "_view_count": null,
       "_view_module": "@jupyter-widgets/base",
       "_view_module_version": "2.0.0",
       "_view_name": "StyleView",
       "bar_color": null,
       "description_width": ""
      }
     },
     "d2e29a3c846548529ff3454e60cf8c42": {
      "model_module": "@jupyter-widgets/controls",
      "model_module_version": "2.0.0",
      "model_name": "HTMLStyleModel",
      "state": {
       "_model_module": "@jupyter-widgets/controls",
       "_model_module_version": "2.0.0",
       "_model_name": "HTMLStyleModel",
       "_view_count": null,
       "_view_module": "@jupyter-widgets/base",
       "_view_module_version": "2.0.0",
       "_view_name": "StyleView",
       "background": null,
       "description_width": "",
       "font_size": null,
       "text_color": null
      }
     },
     "df84247a0abe4b4aa76adf3670399a50": {
      "model_module": "@jupyter-widgets/controls",
      "model_module_version": "2.0.0",
      "model_name": "HTMLStyleModel",
      "state": {
       "_model_module": "@jupyter-widgets/controls",
       "_model_module_version": "2.0.0",
       "_model_name": "HTMLStyleModel",
       "_view_count": null,
       "_view_module": "@jupyter-widgets/base",
       "_view_module_version": "2.0.0",
       "_view_name": "StyleView",
       "background": null,
       "description_width": "",
       "font_size": null,
       "text_color": null
      }
     },
     "ea576463d28c407b95abff4e651c36ca": {
      "model_module": "@jupyter-widgets/base",
      "model_module_version": "2.0.0",
      "model_name": "LayoutModel",
      "state": {
       "_model_module": "@jupyter-widgets/base",
       "_model_module_version": "2.0.0",
       "_model_name": "LayoutModel",
       "_view_count": null,
       "_view_module": "@jupyter-widgets/base",
       "_view_module_version": "2.0.0",
       "_view_name": "LayoutView",
       "align_content": null,
       "align_items": null,
       "align_self": null,
       "border_bottom": null,
       "border_left": null,
       "border_right": null,
       "border_top": null,
       "bottom": null,
       "display": null,
       "flex": null,
       "flex_flow": null,
       "grid_area": null,
       "grid_auto_columns": null,
       "grid_auto_flow": null,
       "grid_auto_rows": null,
       "grid_column": null,
       "grid_gap": null,
       "grid_row": null,
       "grid_template_areas": null,
       "grid_template_columns": null,
       "grid_template_rows": null,
       "height": null,
       "justify_content": null,
       "justify_items": null,
       "left": null,
       "margin": null,
       "max_height": null,
       "max_width": null,
       "min_height": null,
       "min_width": null,
       "object_fit": null,
       "object_position": null,
       "order": null,
       "overflow": null,
       "padding": null,
       "right": null,
       "top": null,
       "visibility": null,
       "width": null
      }
     }
    },
    "version_major": 2,
    "version_minor": 0
   }
  }
 },
 "nbformat": 4,
 "nbformat_minor": 5
}