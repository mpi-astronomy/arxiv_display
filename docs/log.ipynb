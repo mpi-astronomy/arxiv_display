{
 "cells": [
  {
   "cell_type": "markdown",
   "id": "92bcb855",
   "metadata": {
    "papermill": {
     "duration": 0.003471,
     "end_time": "2023-12-06T04:08:23.279574",
     "exception": false,
     "start_time": "2023-12-06T04:08:23.276103",
     "status": "completed"
    },
    "tags": []
   },
   "source": [
    "# MPIA Arxiv on Deck 2\n",
    "\n",
    "Contains the steps to produce the paper extractions."
   ]
  },
  {
   "cell_type": "code",
   "execution_count": 1,
   "id": "3a0d6e11",
   "metadata": {
    "execution": {
     "iopub.execute_input": "2023-12-06T04:08:23.287594Z",
     "iopub.status.busy": "2023-12-06T04:08:23.287218Z",
     "iopub.status.idle": "2023-12-06T04:08:23.631391Z",
     "shell.execute_reply": "2023-12-06T04:08:23.630708Z"
    },
    "papermill": {
     "duration": 0.34964,
     "end_time": "2023-12-06T04:08:23.633304",
     "exception": false,
     "start_time": "2023-12-06T04:08:23.283664",
     "status": "completed"
    },
    "tags": []
   },
   "outputs": [],
   "source": [
    "# Imports\n",
    "import os\n",
    "from IPython.display import Markdown, display\n",
    "from tqdm.notebook import tqdm\n",
    "import warnings\n",
    "from PIL import Image \n",
    "\n",
    "# requires arxiv_on_deck_2\n",
    "\n",
    "from arxiv_on_deck_2.arxiv2 import (get_new_papers, \n",
    "                                    get_paper_from_identifier,\n",
    "                                    retrieve_document_source, \n",
    "                                    get_markdown_badge)\n",
    "from arxiv_on_deck_2 import (latex,\n",
    "                             latex_bib,\n",
    "                             mpia,\n",
    "                             highlight_authors_in_list)\n",
    "\n",
    "# Sometimes images are really big\n",
    "Image.MAX_IMAGE_PIXELS = 1000000000 "
   ]
  },
  {
   "cell_type": "code",
   "execution_count": 2,
   "id": "22aa9d44",
   "metadata": {
    "execution": {
     "iopub.execute_input": "2023-12-06T04:08:23.640264Z",
     "iopub.status.busy": "2023-12-06T04:08:23.639840Z",
     "iopub.status.idle": "2023-12-06T04:08:23.644877Z",
     "shell.execute_reply": "2023-12-06T04:08:23.644236Z"
    },
    "papermill": {
     "duration": 0.009945,
     "end_time": "2023-12-06T04:08:23.646204",
     "exception": false,
     "start_time": "2023-12-06T04:08:23.636259",
     "status": "completed"
    },
    "tags": []
   },
   "outputs": [],
   "source": [
    "# Some useful definitions.\n",
    "\n",
    "class AffiliationWarning(UserWarning):\n",
    "    pass\n",
    "\n",
    "class AffiliationError(RuntimeError):\n",
    "    pass\n",
    "\n",
    "def validation(source: str):\n",
    "    \"\"\"Raises error paper during parsing of source file\n",
    "    \n",
    "    Allows checks before parsing TeX code.\n",
    "    \n",
    "    Raises AffiliationWarning\n",
    "    \"\"\"\n",
    "    check = mpia.affiliation_verifications(source, verbose=True)\n",
    "    if check is not True:\n",
    "        raise AffiliationError(\"mpia.affiliation_verifications: \" + check)\n",
    "\n",
    "        \n",
    "warnings.simplefilter('always', AffiliationWarning)\n",
    "\n",
    "\n",
    "def get_markdown_qrcode(paper_id: str):\n",
    "    \"\"\" Generate a qrcode to the arxiv page using qrserver.com\n",
    "    \n",
    "    :param paper: Arxiv paper\n",
    "    :returns: markdown text\n",
    "    \"\"\"\n",
    "    url = r\"https://api.qrserver.com/v1/create-qr-code/?size=100x100&data=\"\n",
    "    txt = f\"\"\"<img src={url}\"https://arxiv.org/abs/{paper_id}\">\"\"\"\n",
    "    txt = '<div id=\"qrcode\">' + txt + '</div>'\n",
    "    return txt"
   ]
  },
  {
   "cell_type": "markdown",
   "id": "14bd6310",
   "metadata": {
    "papermill": {
     "duration": 0.002666,
     "end_time": "2023-12-06T04:08:23.651745",
     "exception": false,
     "start_time": "2023-12-06T04:08:23.649079",
     "status": "completed"
    },
    "tags": []
   },
   "source": [
    "## get list of arxiv paper candidates\n",
    "\n",
    "We use the MPIA mitarbeiter list webpage from mpia.de to get author names\n",
    "We then get all new papers from Arxiv and match authors"
   ]
  },
  {
   "cell_type": "code",
   "execution_count": 3,
   "id": "2645e73a",
   "metadata": {
    "execution": {
     "iopub.execute_input": "2023-12-06T04:08:23.658341Z",
     "iopub.status.busy": "2023-12-06T04:08:23.657885Z",
     "iopub.status.idle": "2023-12-06T04:08:42.790115Z",
     "shell.execute_reply": "2023-12-06T04:08:42.789444Z"
    },
    "papermill": {
     "duration": 19.137089,
     "end_time": "2023-12-06T04:08:42.791573",
     "exception": false,
     "start_time": "2023-12-06T04:08:23.654484",
     "status": "completed"
    },
    "tags": []
   },
   "outputs": [
    {
     "name": "stdout",
     "output_type": "stream",
     "text": [
      "M. Habouzit  ->  M. Habouzit  |  ['M. Habouzit']\n",
      "L. Kreidberg  ->  L. Kreidberg  |  ['L. Kreidberg']\n",
      "S. Scheithauer  ->  S. Scheithauer  |  ['S. Scheithauer']\n",
      "Arxiv has 66 new papers today\n",
      "          2 with possible author matches\n"
     ]
    }
   ],
   "source": [
    "# get list from MPIA website\n",
    "# it automatically filters identified non-scientists :func:`mpia.filter_non_scientists`\n",
    "mpia_authors = mpia.get_mpia_mitarbeiter_list()\n",
    "normed_mpia_authors = [k[1] for k in mpia_authors]   # initials + fullname\n",
    "new_papers = get_new_papers()\n",
    "# add manual references\n",
    "add_paper_refs = []\n",
    "new_papers.extend([get_paper_from_identifier(k) for k in add_paper_refs])\n",
    "\n",
    "candidates = []\n",
    "for paperk in new_papers:\n",
    "    # Check author list with their initials\n",
    "    normed_author_list = [mpia.get_initials(k) for k in paperk['authors']]\n",
    "    hl_authors = highlight_authors_in_list(normed_author_list, normed_mpia_authors, verbose=True)\n",
    "    matches = [(hl, orig) for hl, orig in zip(hl_authors, paperk['authors']) if 'mark' in hl]\n",
    "    paperk['authors'] = hl_authors\n",
    "    if matches:\n",
    "        # only select paper if an author matched our list\n",
    "        candidates.append(paperk)\n",
    "print(\"\"\"Arxiv has {0:,d} new papers today\"\"\".format(len(new_papers)))        \n",
    "print(\"\"\"          {0:,d} with possible author matches\"\"\".format(len(candidates)))"
   ]
  },
  {
   "cell_type": "markdown",
   "id": "3543b34a",
   "metadata": {
    "papermill": {
     "duration": 0.00295,
     "end_time": "2023-12-06T04:08:42.797742",
     "exception": false,
     "start_time": "2023-12-06T04:08:42.794792",
     "status": "completed"
    },
    "tags": []
   },
   "source": [
    "# Parse sources and generate relevant outputs\n",
    "\n",
    "From the candidates, we do the following steps:\n",
    "* get their tarball from ArXiv (and extract data)\n",
    "* find the main .tex file: find one with \\documentclass{...} (sometimes it's non trivial)\n",
    "* Check affiliations with :func:`validation`, which uses :func:`mpia.affiliation_verifications`\n",
    "* If passing the affiliations: we parse the .tex source\n",
    "   * inject sub-documents into the main (flatten the main document)\n",
    "   * parse structure, extract information (title, abstract, authors, figures...)\n",
    "   * handles `\\graphicspath` if provided\n",
    "* Generate the .md document."
   ]
  },
  {
   "cell_type": "code",
   "execution_count": 4,
   "id": "9576b79e",
   "metadata": {
    "execution": {
     "iopub.execute_input": "2023-12-06T04:08:42.804319Z",
     "iopub.status.busy": "2023-12-06T04:08:42.804121Z",
     "iopub.status.idle": "2023-12-06T04:08:53.613942Z",
     "shell.execute_reply": "2023-12-06T04:08:53.613222Z"
    },
    "papermill": {
     "duration": 10.815383,
     "end_time": "2023-12-06T04:08:53.615947",
     "exception": false,
     "start_time": "2023-12-06T04:08:42.800564",
     "status": "completed"
    },
    "scrolled": false,
    "tags": []
   },
   "outputs": [
    {
     "data": {
      "application/vnd.jupyter.widget-view+json": {
       "model_id": "a2ae175264124de381f0b41309a0d427",
       "version_major": 2,
       "version_minor": 0
      },
      "text/plain": [
       "  0%|          | 0/2 [00:00<?, ?it/s]"
      ]
     },
     "metadata": {},
     "output_type": "display_data"
    },
    {
     "name": "stdout",
     "output_type": "stream",
     "text": [
      "Retrieving document from  https://arxiv.org/e-print/2312.02311\n"
     ]
    },
    {
     "name": "stdout",
     "output_type": "stream",
     "text": [
      "extracting tarball to tmp_2312.02311..."
     ]
    },
    {
     "name": "stdout",
     "output_type": "stream",
     "text": [
      " done.\n",
      "Retrieving document from  https://arxiv.org/e-print/2312.02653\n"
     ]
    },
    {
     "name": "stderr",
     "output_type": "stream",
     "text": [
      "/opt/hostedtoolcache/Python/3.9.18/x64/lib/python3.9/site-packages/IPython/core/interactiveshell.py:3550: LatexWarning: Multiple tex files.\n",
      "\n",
      "  exec(code_obj, self.user_global_ns, self.user_ns)\n",
      "/opt/hostedtoolcache/Python/3.9.18/x64/lib/python3.9/site-packages/IPython/core/interactiveshell.py:3550: LatexWarning: Found documentclass in tmp_2312.02311/aassymbols.tex\n",
      "\n",
      "  exec(code_obj, self.user_global_ns, self.user_ns)\n"
     ]
    },
    {
     "name": "stdout",
     "output_type": "stream",
     "text": [
      "extracting tarball to tmp_2312.02653... done.\n"
     ]
    },
    {
     "name": "stderr",
     "output_type": "stream",
     "text": [
      "/opt/hostedtoolcache/Python/3.9.18/x64/lib/python3.9/site-packages/arxiv_on_deck_2/latex.py:473: LatexWarning: Error parsing the document directly. Trying to recover.\n",
      "  warnings.warn(LatexWarning(f\"Error parsing the document directly. Trying to recover.\"))\n"
     ]
    },
    {
     "name": "stdout",
     "output_type": "stream",
     "text": [
      "✔ → 0:header\n",
      "  ↳ 5487:\\section{Introduction}\n",
      "✔ → 5487:\\section{Introduction}\n",
      "  ↳ 10946:\\section{Setup}\n"
     ]
    },
    {
     "name": "stdout",
     "output_type": "stream",
     "text": [
      "✘ → 10946:\\section{Setup}\n",
      "  ↳ 20369:\\section{Results}\n"
     ]
    },
    {
     "name": "stdout",
     "output_type": "stream",
     "text": [
      "✔ → 20369:\\section{Results}\n",
      "  ↳ 37326:\\section{Variation of the orbital elements}\n",
      "✔ → 37326:\\section{Variation of the orbital elements}\n",
      "  ↳ 38654:\\section{Initial conditions and Kepler equation}\n"
     ]
    },
    {
     "name": "stdout",
     "output_type": "stream",
     "text": [
      "✔ → 38654:\\section{Initial conditions and Kepler equation}\n",
      "  ↳ 40101:\\section{Coordinate transformation}\n",
      "✔ → 40101:\\section{Coordinate transformation}\n",
      "  ↳ 41545:\\section{Relativistic effects and R{\\O}mer's delay}\n"
     ]
    },
    {
     "name": "stdout",
     "output_type": "stream",
     "text": [
      "✔ → 41545:\\section{Relativistic effects and R{\\O}mer's delay}\n",
      "  ↳ 43601:\\section{MCMC details}\n",
      "✔ → 43601:\\section{MCMC details}\n",
      "  ↳ 46893:end\n"
     ]
    },
    {
     "name": "stdout",
     "output_type": "stream",
     "text": [
      "Found 63 bibliographic references in tmp_2312.02653/main.bbl.\n"
     ]
    }
   ],
   "source": [
    "documents = []\n",
    "failed = []\n",
    "for paper in tqdm(candidates):\n",
    "    paper_id = paper['identifier'].lower().replace('arxiv:', '')\n",
    "    \n",
    "    folder = f'tmp_{paper_id}'\n",
    "\n",
    "    try:\n",
    "        if not os.path.isdir(folder):\n",
    "            folder = retrieve_document_source(f\"{paper_id}\", f'tmp_{paper_id}')\n",
    "        \n",
    "        try:\n",
    "            doc = latex.LatexDocument(folder, validation=validation)    \n",
    "        except AffiliationError as affilerror:\n",
    "            msg = f\"ArXiv:{paper_id:s} is not an MPIA paper... \" + str(affilerror)\n",
    "            failed.append((paper, \"affiliation error: \" + str(affilerror) ))\n",
    "            continue\n",
    "        \n",
    "        # Hack because sometimes author parsing does not work well\n",
    "        if (len(doc.authors) != len(paper['authors'])):\n",
    "            doc._authors = paper['authors']\n",
    "        else:\n",
    "            # highlight authors (FIXME: doc.highlight_authors)\n",
    "            # done on arxiv paper already\n",
    "            doc._authors = highlight_authors_in_list(\n",
    "                [mpia.get_initials(k) for k in doc.authors], \n",
    "                normed_mpia_authors, verbose=True)\n",
    "        if (doc.abstract) in (None, ''):\n",
    "            doc._abstract = paper['abstract']\n",
    "            \n",
    "        doc.comment = (get_markdown_badge(paper_id) + \n",
    "                       \"<mark>Appeared on: \" + paper['date'] + \"</mark> - \")\n",
    "        if paper['comments']:\n",
    "            doc.comment += \" _\" + paper['comments'] + \"_\"\n",
    "        \n",
    "        full_md = doc.generate_markdown_text()\n",
    "        \n",
    "        full_md += get_markdown_qrcode(paper_id)\n",
    "        \n",
    "        # replace citations\n",
    "        try:\n",
    "            bibdata = latex_bib.LatexBib.from_doc(doc)\n",
    "            full_md = latex_bib.replace_citations(full_md, bibdata)\n",
    "        except Exception as e:\n",
    "            print(e)\n",
    "        \n",
    "        documents.append((paper_id, full_md))\n",
    "    except Exception as e:\n",
    "        warnings.warn(latex.LatexWarning(f\"{paper_id:s} did not run properly\\n\" +\n",
    "                                         str(e)\n",
    "                                        ))\n",
    "        failed.append((paper, \"latex error \" + str(e)))"
   ]
  },
  {
   "cell_type": "markdown",
   "id": "2505a25c",
   "metadata": {
    "papermill": {
     "duration": 0.003608,
     "end_time": "2023-12-06T04:08:53.623490",
     "exception": false,
     "start_time": "2023-12-06T04:08:53.619882",
     "status": "completed"
    },
    "tags": []
   },
   "source": [
    "### Export the logs\n",
    "\n",
    "Throughout, we also keep track of the logs per paper. see `logs-{today date}.md` "
   ]
  },
  {
   "cell_type": "code",
   "execution_count": 5,
   "id": "d733828a",
   "metadata": {
    "execution": {
     "iopub.execute_input": "2023-12-06T04:08:53.631903Z",
     "iopub.status.busy": "2023-12-06T04:08:53.631452Z",
     "iopub.status.idle": "2023-12-06T04:08:53.643723Z",
     "shell.execute_reply": "2023-12-06T04:08:53.643125Z"
    },
    "papermill": {
     "duration": 0.017982,
     "end_time": "2023-12-06T04:08:53.645053",
     "exception": false,
     "start_time": "2023-12-06T04:08:53.627071",
     "status": "completed"
    },
    "scrolled": false,
    "tags": []
   },
   "outputs": [
    {
     "data": {
      "text/markdown": [
       "## Successful papers"
      ],
      "text/plain": [
       "<IPython.core.display.Markdown object>"
      ]
     },
     "metadata": {},
     "output_type": "display_data"
    },
    {
     "data": {
      "text/markdown": [
       "\n",
       "|||\n",
       "|---:|:---|\n",
       "| [![arXiv](https://img.shields.io/badge/arXiv-arXiv:2312.02653-b31b1b.svg)](https://arxiv.org/abs/arXiv:2312.02653) | **Using the motion of S2 to constrain vector clouds around SgrA***  |\n",
       "|| G. Collaboration, et al. -- incl., <mark>L. Kreidberg</mark>, <mark>S. Scheithauer</mark> |\n",
       "|*Appeared on*| *2023-12-06*|\n",
       "|*Comments*| *9 pages, 5 figures, submitted to MNRAS*|\n",
       "|**Abstract**| The dark compact object at the centre of the Milky Way is well established to be a supermassive black hole with mass $M_{\\bullet} \\sim 4.3 \\cdot 10^6 \\, M_{\\odot}$, but the nature of its environment is still under debate. In this work, we used astrometric and spectroscopic measurements of the motion of the star S2, one of the closest stars to the massive black hole, to determine an upper limit on an extended mass composed of a massive vector field around Sagittarius A*. For a vector with effective mass $10^{-19} \\, \\rm eV \\lesssim m_s \\lesssim 10^{-18} \\, \\rm eV$, our Markov Chain Monte Carlo analysis shows no evidence for such a cloud, placing an upper bound $M_{\\rm cloud} \\lesssim 0.1\\% M_{\\bullet}$ at $3\\sigma$ confidence level. We show that dynamical friction exerted by the medium on S2 motion plays no role in the analysis performed in this and previous works, and can be neglected thus. |"
      ],
      "text/plain": [
       "[arXiv:2312.02653] Using the motion of S2 to constrain vector clouds around SgrA*\n",
       "\tG. Collaboration, et al. -- incl., <mark>L. Kreidberg</mark>, <mark>S. Scheithauer</mark>"
      ]
     },
     "metadata": {},
     "output_type": "display_data"
    },
    {
     "data": {
      "text/markdown": [
       "## Failed papers"
      ],
      "text/plain": [
       "<IPython.core.display.Markdown object>"
      ]
     },
     "metadata": {},
     "output_type": "display_data"
    },
    {
     "data": {
      "text/markdown": [
       "\n",
       "|||\n",
       "|---:|:---|\n",
       "| [![arXiv](https://img.shields.io/badge/arXiv-arXiv:2312.02311-b31b1b.svg)](https://arxiv.org/abs/arXiv:2312.02311) | **Searching for the Highest-z Dual AGN in the Deepest Chandra Surveys**  |\n",
       "|| B. Sandoval, et al. -- incl., <mark>M. Habouzit</mark> |\n",
       "|*Appeared on*| *2023-12-06*|\n",
       "|*Comments*| *19 pages, 5 figures, 2 tales. Submitted to ApJ*|\n",
       "|**Abstract**| We present an analysis searching for dual AGN among 62 high-redshift ($2.5 < z < 3.5$) X-ray sources selected from publicly available deep Chandra fields. We aim to quantify the frequency of dual AGN in the high-redshift Universe, which holds implications for black hole merger timescales and low-frequency gravitational wave detection rates. We analyze each X-ray source using BAYMAX, an analysis tool that calculates the Bayes factor for whether a given archival Chandra AGN is more likely a single or dual point source. We find no strong evidence for dual AGN in any individual source in our sample. We then increase our sensitivity to search for dual AGN across the sample by comparing our measured distribution of Bayes factors to that expected from a sample composed entirely of single point sources, and again find no evidence for dual AGN in the observed sample distribution. Although our analysis utilizes one of the largest Chandra catalogs of high-$z$ X-ray point sources available to study, the findings remain limited by the modest number of sources observed at the highest spatial resolution with Chandra and the typical count rates of the detected sources. Our non-detection allows us to place an upper-limit on the X-ray dual AGN fraction between $2.5<z<3.5$ of 4.8\\%. Expanding substantially on these results at X-ray wavelengths will require future surveys spanning larger sky areas and extending to fainter fluxes than has been possible with Chandra. We illustrate the potential of the AXIS mission concept in this regard. |\n",
       "|<p style=\"color:green\"> **ERROR** </p>| <p style=\"color:green\">affiliation error: mpia.affiliation_verifications: 'Heidelberg' keyword not found.</p> |"
      ],
      "text/plain": [
       "<IPython.core.display.Markdown object>"
      ]
     },
     "metadata": {},
     "output_type": "display_data"
    }
   ],
   "source": [
    "import datetime\n",
    "today = str(datetime.date.today())\n",
    "logfile = f\"_build/html/logs/log-{today}.md\"\n",
    "\n",
    "\n",
    "with open(logfile, 'w') as logs:\n",
    "    # Success\n",
    "    logs.write(f'# Arxiv on Deck 2: Logs - {today}\\n\\n')\n",
    "    logs.write(\"\"\"* Arxiv had {0:,d} new papers\\n\"\"\".format(len(new_papers)))\n",
    "    logs.write(\"\"\"    * {0:,d} with possible author matches\\n\\n\"\"\".format(len(candidates)))\n",
    "    logs.write(\"## Sucessful papers\\n\\n\")\n",
    "    display(Markdown(\"## Successful papers\"))\n",
    "    success = [k[0] for k in documents]\n",
    "    for candid in candidates:\n",
    "        if candid['identifier'].split(':')[-1] in success:\n",
    "            display(candid)\n",
    "            logs.write(candid.generate_markdown_text() + '\\n\\n')\n",
    "\n",
    "    ## failed\n",
    "    logs.write(\"## Failed papers\\n\\n\")\n",
    "    display(Markdown(\"## Failed papers\"))\n",
    "    failed = sorted(failed, key=lambda x: x[1])\n",
    "    current_reason = \"\"\n",
    "    for paper, reason in failed:\n",
    "        if 'affiliation' in reason:\n",
    "            color = 'green'\n",
    "        else:\n",
    "            color = 'red'\n",
    "        data = Markdown(\n",
    "                paper.generate_markdown_text() + \n",
    "                f'\\n|<p style=\"color:{color:s}\"> **ERROR** </p>| <p style=\"color:{color:s}\">{reason:s}</p> |'\n",
    "               )\n",
    "        if reason != current_reason:\n",
    "            logs.write(f'### {reason:s} \\n\\n')\n",
    "            current_reason = reason\n",
    "        logs.write(data.data + '\\n\\n')\n",
    "        \n",
    "        # only display here the important errors (all in logs)\n",
    "        # if color in ('red',):\n",
    "        display(data)"
   ]
  },
  {
   "cell_type": "markdown",
   "id": "472d20ee",
   "metadata": {
    "papermill": {
     "duration": 0.004171,
     "end_time": "2023-12-06T04:08:53.653291",
     "exception": false,
     "start_time": "2023-12-06T04:08:53.649120",
     "status": "completed"
    },
    "tags": []
   },
   "source": [
    "## Export documents\n",
    "\n",
    "We now write the .md files and export relevant images"
   ]
  },
  {
   "cell_type": "code",
   "execution_count": 6,
   "id": "d426aed9",
   "metadata": {
    "execution": {
     "iopub.execute_input": "2023-12-06T04:08:53.662314Z",
     "iopub.status.busy": "2023-12-06T04:08:53.661948Z",
     "iopub.status.idle": "2023-12-06T04:08:53.668119Z",
     "shell.execute_reply": "2023-12-06T04:08:53.667580Z"
    },
    "papermill": {
     "duration": 0.012054,
     "end_time": "2023-12-06T04:08:53.669440",
     "exception": false,
     "start_time": "2023-12-06T04:08:53.657386",
     "status": "completed"
    },
    "tags": []
   },
   "outputs": [],
   "source": [
    "def export_markdown_summary(md: str, md_fname:str, directory: str):\n",
    "    \"\"\"Export MD document and associated relevant images\"\"\"\n",
    "    import os\n",
    "    import shutil\n",
    "    import re\n",
    "\n",
    "    if (os.path.exists(directory) and not os.path.isdir(directory)):\n",
    "        raise RuntimeError(f\"a non-directory file exists with name {directory:s}\")\n",
    "\n",
    "    if (not os.path.exists(directory)):\n",
    "        print(f\"creating directory {directory:s}\")\n",
    "        os.mkdir(directory)\n",
    "\n",
    "    fig_fnames = (re.compile(r'\\[Fig.*\\]\\((.*)\\)').findall(md) + \n",
    "                  re.compile(r'\\<img src=\"([^>\\s]*)\"[^>]*/>').findall(md))\n",
    "    for fname in fig_fnames:\n",
    "        if 'http' in fname:\n",
    "            # No need to copy online figures\n",
    "            continue\n",
    "        destdir = os.path.join(directory, os.path.dirname(fname))\n",
    "        destfname = os.path.join(destdir, os.path.basename(fname))\n",
    "        try:\n",
    "            os.makedirs(destdir)\n",
    "        except FileExistsError:\n",
    "            pass\n",
    "        shutil.copy(fname, destfname)\n",
    "    with open(os.path.join(directory, md_fname), 'w') as fout:\n",
    "        fout.write(md)\n",
    "    print(\"exported in \", os.path.join(directory, md_fname))\n",
    "    [print(\"    + \" + os.path.join(directory,fk)) for fk in fig_fnames]"
   ]
  },
  {
   "cell_type": "code",
   "execution_count": 7,
   "id": "014d04a4",
   "metadata": {
    "execution": {
     "iopub.execute_input": "2023-12-06T04:08:53.678223Z",
     "iopub.status.busy": "2023-12-06T04:08:53.678035Z",
     "iopub.status.idle": "2023-12-06T04:08:53.683308Z",
     "shell.execute_reply": "2023-12-06T04:08:53.682693Z"
    },
    "papermill": {
     "duration": 0.011224,
     "end_time": "2023-12-06T04:08:53.684730",
     "exception": false,
     "start_time": "2023-12-06T04:08:53.673506",
     "status": "completed"
    },
    "tags": []
   },
   "outputs": [
    {
     "name": "stdout",
     "output_type": "stream",
     "text": [
      "exported in  _build/html/2312.02653.md\n",
      "    + _build/html/tmp_2312.02653/./orbital_elements_cloud+Schwarzschild.png\n",
      "    + _build/html/tmp_2312.02653/./difference_wDF.png\n",
      "    + _build/html/tmp_2312.02653/./orbital_elements_only_cloud.png\n"
     ]
    }
   ],
   "source": [
    "for paper_id, md in documents:\n",
    "    export_markdown_summary(md, f\"{paper_id:s}.md\", '_build/html/')"
   ]
  },
  {
   "cell_type": "markdown",
   "id": "f087a0a7",
   "metadata": {
    "papermill": {
     "duration": 0.00403,
     "end_time": "2023-12-06T04:08:53.692833",
     "exception": false,
     "start_time": "2023-12-06T04:08:53.688803",
     "status": "completed"
    },
    "tags": []
   },
   "source": [
    "## Display the papers\n",
    "\n",
    "Not necessary but allows for a quick check."
   ]
  },
  {
   "cell_type": "code",
   "execution_count": 8,
   "id": "fd25f625",
   "metadata": {
    "execution": {
     "iopub.execute_input": "2023-12-06T04:08:53.701933Z",
     "iopub.status.busy": "2023-12-06T04:08:53.701602Z",
     "iopub.status.idle": "2023-12-06T04:08:53.705885Z",
     "shell.execute_reply": "2023-12-06T04:08:53.705289Z"
    },
    "papermill": {
     "duration": 0.010256,
     "end_time": "2023-12-06T04:08:53.707197",
     "exception": false,
     "start_time": "2023-12-06T04:08:53.696941",
     "status": "completed"
    },
    "scrolled": false,
    "tags": []
   },
   "outputs": [
    {
     "data": {
      "text/markdown": [
       "<div class=\"macros\" style=\"visibility:hidden;\">\n",
       "$\\newcommand{\\ensuremath}{}$\n",
       "$\\newcommand{\\xspace}{}$\n",
       "$\\newcommand{\\object}[1]{\\texttt{#1}}$\n",
       "$\\newcommand{\\farcs}{{.}''}$\n",
       "$\\newcommand{\\farcm}{{.}'}$\n",
       "$\\newcommand{\\arcsec}{''}$\n",
       "$\\newcommand{\\arcmin}{'}$\n",
       "$\\newcommand{\\ion}[2]{#1#2}$\n",
       "$\\newcommand{\\textsc}[1]{\\textrm{#1}}$\n",
       "$\\newcommand{\\hl}[1]{\\textrm{#1}}$\n",
       "$\\newcommand{\\footnote}[1]{}$\n",
       "$\\newcommand{\\af}[1]{{\\textcolor{red}{\\sf{[Arianna: #1]}} }}$\n",
       "$\\newcommand{\\pg}[1]{{\\textcolor{magenta}{#1}}}$\n",
       "$\\newcommand{\\sg}[1]{{\\textcolor{cyan}{\\sf{[Stefan: #1]}} }}$\n",
       "$\\newcommand{\\thebibliography}{\\DeclareRobustCommand{\\VAN}[3]{##3}\\VANthebibliography}$\n",
       "$\\newcommand{\\beq}{\\begin{equation}}$\n",
       "$\\newcommand{\\eeq}{\\end{equation}}$\n",
       "$\\newcommand{\\af}[1]{{\\textcolor{red}{\\sf{[Arianna: #1]}} }}$\n",
       "$\\newcommand{\\pg}[1]{{\\textcolor{magenta}{#1}}}$\n",
       "$\\newcommand{\\sg}[1]{{\\textcolor{cyan}{\\sf{[Stefan: #1]}} }}$\n",
       "$\\usepackage{graphicx}$\n",
       "$\\usepackage{amsmath}$\n",
       "$\\title[Vector clouds around SgrA^*]{Using the motion of S2 to constrain vector clouds around SgrA^*}$\n",
       "$\\author[GRAVITY Collaboration]{GRAVITY Collaboration \\thanks{GRAVITY is developed in collaboration by$\n",
       "$MPE,$\n",
       "$LESIA of Paris Observatory / CNRS / Sorbonne Université / Univ. Paris Diderot$\n",
       "$and IPAG of Université Grenoble Alpes / CNRS,$\n",
       "$MPIA,$\n",
       "$Univ. of  Cologne,$\n",
       "$CENTRA - Centro de Astrofísica e Gravita\\c cão, and ESO. Corresponding authors: A.~Foschi$\n",
       "$(arianna.foschi@tecnico.ulisboa.pt) \\& P.J.V.~Garcia (pgarcia@fe.up.pt)$\n",
       "$}:$\n",
       "$A.~Foschi^{1, 2},$\n",
       "$R.~Abuter^{3},$\n",
       "$K. Abd El Dayem^{4},$\n",
       "$N.~Aimar^{4}, \\newauthor$\n",
       "$P.~Amaro Seoane^{6, 5, 7, 21},$\n",
       "$A.~Amorim^{1, 8},$\n",
       "$J.P.~Berger^{9},$\n",
       "$H.~Bonnet^{3},$\n",
       "$G.~Bourdarot^{5},$\n",
       "$W.~Brandner^{10}, \\newauthor$\n",
       "$R.~Davies^{5},$\n",
       "$P.T.~de~Zeeuw^{11},$\n",
       "$D.~Defrère^{19},$\n",
       "$J.~Dexter^{12},$\n",
       "$A.~Drescher^{5},$\n",
       "$A.~Eckart^{16, 18},$\n",
       "$F.~Eisenhauer^{5}, \\newauthor$\n",
       "$N.M.~Förster~Schreiber^{5},$\n",
       "$P.J.V.~Garcia^{1, 2},$\n",
       "$R.~Genzel^{5, 13},$\n",
       "$S.~Gillessen^{5},$\n",
       "$T.~Gomes^{1, 2},$\n",
       "$X.~Haubois^{14},\\newauthor$\n",
       "$G.~Hei{\\ss}el^{4, 15},$\n",
       "$Th.~Henning^{10},$\n",
       "$L.~Jochum^{14},$\n",
       "$L.~Jocou^{10},$\n",
       "$A.~Kaufer^{14},$\n",
       "$L.~Kreidberg^{10},$\n",
       "$S.~Lacour^{4}, \\newauthor$\n",
       "$V.~Lapeyrère^{4},$\n",
       "$J.-B.~Le~Bouquin^{9},$\n",
       "$P.~Léna^{4},$\n",
       "$D.~Lutz^{5},$\n",
       "$F.~Mang^{5},$\n",
       "$F.~Millour^{20},$\n",
       "$T.~Ott^{5},$\n",
       "$T.~Paumard^{4}, \\newauthor$\n",
       "$K.~Perraut^{9},$\n",
       "$G.~Perrin^{4},$\n",
       "$O.~Pfuhl^{3, 5},$\n",
       "$S.~Rabien^{5},$\n",
       "$D.C.~Ribeiro^{5},$\n",
       "$M.~Sadun Bordoni^{5},$\n",
       "$S.~Scheithauer^{10},  \\newauthor$\n",
       "$J.~Shangguan^{5},$\n",
       "$T.~Shimizu^{5},$\n",
       "$J.~Stadler^{5, 17},$\n",
       "$C.~Straubmeier^{16},$\n",
       "$E.~Sturm^{5},$\n",
       "$M.~Subroweit^{16},$\n",
       "$L.J.~Tacconi^{5},  \\newauthor$\n",
       "$F.~Vincent^{4},$\n",
       "$S.~von~Fellenberg^{5, 18}$\n",
       "$and J.~Woillez^{3}$\n",
       "$\\^{1}CENTRA - Centro de Astrofísica e$\n",
       "$Gravita\\c cão, IST, Universidade de Lisboa, 1049-001 Lisboa,$\n",
       "$Portugal\\^2Faculdade de Engenharia, Universidade do Porto, rua Dr. Roberto$\n",
       "$Frias, 4200-465 Porto, Portugal\\^3European Southern Observatory, Karl-Schwarzschild-Stra{\\ss}e 2, 85748$\n",
       "$Garching, Germany\\^4LESIA, Observatoire de Paris, Université PSL, CNRS, Sorbonne Université, Université de Paris, 5 place Jules Janssen, 92195 Meudon, France\\^5Max Planck Institute for extraterrestrial Physics,$\n",
       "$Giessenbachstra{\\ss}e~1, 85748 Garching, Germany\\^{6}Universitat Politècnica de València, València, Spain \\^{7} Kavli Institute for Astronomy and Astrophysics, Beijing, China \\^{8}Universidade de Lisboa - Faculdade de Ci\\^encias, Campo Grande,$\n",
       "$1749-016 Lisboa, Portugal\\^{9}Univ. Grenoble Alpes, CNRS, IPAG, 38000 Grenoble, France\\^{10}Max Planck Institute for Astronomy, Königstuhl 17,$\n",
       "$69117 Heidelberg, Germany\\^{11}Leiden University, 2311EZ Leiden, The Netherlands\\^{12}Department of Astrophysical \\& Planetary Sciences, JILA, Duane Physics Bldg., 2000 Colorado Ave, University of Colorado, Boulder, CO 80309, USA\\^{13}Departments of Physics and Astronomy, Le Conte Hall, University$\n",
       "$of California, Berkeley, CA 94720, USA\\^{14}European Southern Observatory, Casilla 19001, Santiago 19, Chile\\^{15}Advanced Concepts Team, European Space Agency, TEC-SF, ESTEC, Keplerlaan 1, 2201, AZ Noordwijk, The Netherlands \\^{16} 1^{\\rm st} Institute of Physics, University of Cologne,$\n",
       "$Zülpicher Stra{\\ss}e 77, 50937 Cologne, Germany\\^{17}Max Planck Institute for Astrophysics, Karl-Schwarzschild-Stra{\\ss}e 1, D-85748$\n",
       "$Garching, Germany\\^{18}Max Planck Institute for Radio Astronomy, auf dem Hügel 69, D-53121 Bonn, Germany \\^{19}Institute of Astronomy, KU Leuven, Celestijnenlaan 200D, 3001 Leuven, Belgium \\^{20}Université C\\^{o}te d'Azur, Observatoire de la  C\\^{o}te d'Azur, CNRS, Lagrange, France \\^{21} Higgs Centre for Theoretical Physics, Edinburgh, UK}$\n",
       "$\\date{Accepted XXX. Received YYY; in original form ZZZ}$\n",
       "$\\pubyear{2023}$\n",
       "$\\begin{document}$\n",
       "$\\label{firstpage}$\n",
       "$\\pagerange{\\pageref{firstpage}--\\pageref{lastpage}}$\n",
       "$\\maketitle$\n",
       "$\\begin{abstract}$\n",
       "$The dark compact object at the centre of the Milky Way is well established to be a supermassive black hole with mass M_{\\bullet} \\sim 4.3 \\cdot 10^6   M_{\\odot}, but the nature of its environment is still under debate. In this work, we used astrometric and spectroscopic measurements of the motion of the star S2, one of the closest stars to the massive black hole, to determine an upper limit on an extended mass composed of a massive vector field around Sagittarius A*. For a vector with effective mass 10^{-19}   \\rm eV \\lesssim m_s \\lesssim 10^{-18}   \\rm eV, our Markov Chain Monte Carlo analysis shows no evidence for such a cloud, placing an upper bound M_{\\rm cloud} \\lesssim 0.1\\% M_{\\bullet} at 3\\sigma confidence level.$\n",
       "$We show that dynamical friction exerted by the medium on S2 motion plays no role in the analysis performed in this and previous works, and can be neglected thus.$\n",
       "$\\end{abstract}$\n",
       "$\\begin{keywords}$\n",
       "$black holes physics -- dark matter -- gravitation -- celestial mechanics -- Galaxy: centre$\n",
       "$\\end{keywords}$\n",
       "$\\n\\end{document}\\end{equation}}$\n",
       "$\\newcommand{\\eeq}{\\end{equation}}$</div>\n",
       "\n",
       "\n",
       "\n",
       "<div id=\"title\">\n",
       "\n",
       "# Using the motion of S2 to constrain vector clouds around SgrA$^*$\n",
       "\n",
       "</div>\n",
       "<div id=\"comments\">\n",
       "\n",
       "[![arXiv](https://img.shields.io/badge/arXiv-2312.02653-b31b1b.svg)](https://arxiv.org/abs/2312.02653)<mark>Appeared on: 2023-12-06</mark> -  _9 pages, 5 figures, submitted to MNRAS_\n",
       "\n",
       "</div>\n",
       "<div id=\"authors\">\n",
       "\n",
       "G. Collaboration, et al. -- incl., <mark>L. Kreidberg</mark>, <mark>S. Scheithauer</mark>\n",
       "\n",
       "</div>\n",
       "<div id=\"abstract\">\n",
       "\n",
       "**Abstract:** The dark compact object at the centre of the Milky Way is well established to be a supermassive black hole with mass $M_{\\bullet} \\sim 4.3 \\cdot 10^6   M_{\\odot}$ , but the nature of its environment is still under debate. In this work, we used astrometric and spectroscopic measurements of the motion of the star S2, one of the closest stars to the massive black hole, to determine an upper limit on an extended mass composed of a massive vector field around Sagittarius A*. For a vector with effective mass $10^{-19}   \\rm eV \\lesssim m_s \\lesssim 10^{-18}   \\rm eV$ , our Markov Chain Monte Carlo analysis shows no evidence for such a cloud, placing an upper bound $M_{\\rm cloud} \\lesssim 0.1\\% M_{\\bullet}$ at $3\\sigma$ confidence level.We show that dynamical friction exerted by the medium on S2 motion plays no role in the analysis performed in this and previous works, and can be neglected thus.\n",
       "\n",
       "</div>\n",
       "\n",
       "<div id=\"div_fig1\">\n",
       "\n",
       "<img src=\"tmp_2312.02653/./orbital_elements_cloud+Schwarzschild.png\" alt=\"Fig2\" width=\"100%\"/>\n",
       "\n",
       "**Figure 2. -** Variation of the orbital elements $\\Delta \\mu^{a}$ over an entire orbit for different values of the coupling constant $\\alpha$ when one includes the Schwarzschild precession in the equation for the osculating elements. Here $\\Lambda = 10^{-3}$. The maximum variation is still found in $0.003 \\lesssim \\alpha \\lesssim 0.03$. (*fig:var_elements_cloud_1PN*)\n",
       "\n",
       "</div>\n",
       "<div id=\"div_fig2\">\n",
       "\n",
       "<img src=\"tmp_2312.02653/./difference_wDF.png\" alt=\"Fig5\" width=\"100%\"/>\n",
       "\n",
       "**Figure 5. -** Absolute difference in DEC, R.A. and radial velocity between the case where dynamical friction is implemented in the supersonic case with $c_s = 10^{-3}$ and the case where no dynamical friction is present. In both cases $\\Lambda = 10^{-3}$ and $\\alpha = 0.015$. The difference is maximum around the periastron passages (red dashed lines) and minimum at the apoastron (black dotted line). Overall, they remain far below the current instrument threshold. (*fig:dynamical_friction*)\n",
       "\n",
       "</div>\n",
       "<div id=\"div_fig3\">\n",
       "\n",
       "<img src=\"tmp_2312.02653/./orbital_elements_only_cloud.png\" alt=\"Fig1\" width=\"100%\"/>\n",
       "\n",
       "**Figure 1. -** Variation of the orbital elements $\\Delta \\mu^{a}/\\Lambda$ over an entire orbit for different values of the coupling constant $\\alpha$ when only the vector cloud is present. The maximum variation in $\\Delta \\omega/\\Lambda$ is roughly found in the range $0.003 \\lesssim \\alpha \\lesssim 0.03$. (*fig:var_elements_cloud*)\n",
       "\n",
       "</div><div id=\"qrcode\"><img src=https://api.qrserver.com/v1/create-qr-code/?size=100x100&data=\"https://arxiv.org/abs/2312.02653\"></div>"
      ],
      "text/plain": [
       "<IPython.core.display.Markdown object>"
      ]
     },
     "metadata": {},
     "output_type": "display_data"
    }
   ],
   "source": [
    "[display(Markdown(k[1])) for k in documents];"
   ]
  },
  {
   "cell_type": "markdown",
   "id": "873873a4",
   "metadata": {
    "papermill": {
     "duration": 0.004263,
     "end_time": "2023-12-06T04:08:53.715850",
     "exception": false,
     "start_time": "2023-12-06T04:08:53.711587",
     "status": "completed"
    },
    "tags": []
   },
   "source": [
    "# Create HTML index"
   ]
  },
  {
   "cell_type": "code",
   "execution_count": 9,
   "id": "cf665672",
   "metadata": {
    "execution": {
     "iopub.execute_input": "2023-12-06T04:08:53.725821Z",
     "iopub.status.busy": "2023-12-06T04:08:53.725457Z",
     "iopub.status.idle": "2023-12-06T04:08:53.734699Z",
     "shell.execute_reply": "2023-12-06T04:08:53.734163Z"
    },
    "papermill": {
     "duration": 0.015715,
     "end_time": "2023-12-06T04:08:53.735976",
     "exception": false,
     "start_time": "2023-12-06T04:08:53.720261",
     "status": "completed"
    },
    "tags": []
   },
   "outputs": [
    {
     "name": "stdout",
     "output_type": "stream",
     "text": [
      "334  publications files modified in the last 7 days.\n"
     ]
    }
   ],
   "source": [
    "from datetime import datetime, timedelta, timezone\n",
    "from glob import glob\n",
    "import os\n",
    "\n",
    "files = glob('_build/html/*.md')\n",
    "days = 7\n",
    "now = datetime.today()\n",
    "res = []\n",
    "for fk in files:\n",
    "    stat_result = os.stat(fk).st_ctime\n",
    "    modified = datetime.fromtimestamp(stat_result, tz=timezone.utc).replace(tzinfo=None)\n",
    "    delta = now.today() - modified\n",
    "    if delta <= timedelta(days=days):\n",
    "        res.append((delta.seconds, fk))\n",
    "res = [k[1] for k in reversed(sorted(res, key=lambda x:x[1]))]\n",
    "npub = len(res)\n",
    "print(len(res), f\" publications files modified in the last {days:d} days.\")\n",
    "# [ print('\\t', k) for k in res ];"
   ]
  },
  {
   "cell_type": "code",
   "execution_count": 10,
   "id": "015de740",
   "metadata": {
    "execution": {
     "iopub.execute_input": "2023-12-06T04:08:53.745773Z",
     "iopub.status.busy": "2023-12-06T04:08:53.745410Z",
     "iopub.status.idle": "2023-12-06T04:08:53.764833Z",
     "shell.execute_reply": "2023-12-06T04:08:53.764302Z"
    },
    "papermill": {
     "duration": 0.025794,
     "end_time": "2023-12-06T04:08:53.766145",
     "exception": false,
     "start_time": "2023-12-06T04:08:53.740351",
     "status": "completed"
    },
    "tags": []
   },
   "outputs": [
    {
     "name": "stdout",
     "output_type": "stream",
     "text": [
      "7  publications in the last 7 days.\n"
     ]
    }
   ],
   "source": [
    "import datetime\n",
    "from glob import glob\n",
    "\n",
    "def get_last_n_days(lst, days=1):\n",
    "    \"\"\" Get the documents from the last n days \"\"\"\n",
    "    sorted_lst = sorted(lst, key=lambda x: x[1], reverse=True)\n",
    "    for fname, date in sorted_lst:\n",
    "        if date >= str(datetime.date.today() - datetime.timedelta(days=days)):\n",
    "            yield fname\n",
    "\n",
    "def extract_appearance_dates(lst_file):\n",
    "    dates = []\n",
    "\n",
    "    def get_date(line):\n",
    "        return line\\\n",
    "            .split('Appeared on:')[-1]\\\n",
    "            .split('</mark>')[0].strip()\n",
    "\n",
    "    for fname in lst:\n",
    "        with open(fname, 'r') as f:\n",
    "            found_date = False\n",
    "            for line in f:\n",
    "                if not found_date:\n",
    "                    if \"Appeared on\" in line:\n",
    "                        found_date = True\n",
    "                        dates.append((fname, get_date(line)))\n",
    "                else:\n",
    "                    break\n",
    "    return dates\n",
    "\n",
    "from glob import glob\n",
    "lst = glob('_build/html/*md')\n",
    "days = 7\n",
    "dates = extract_appearance_dates(lst)\n",
    "res = list(get_last_n_days(dates, days))\n",
    "npub = len(res)\n",
    "print(len(res), f\" publications in the last {days:d} days.\")"
   ]
  },
  {
   "cell_type": "code",
   "execution_count": 11,
   "id": "52ca0208",
   "metadata": {
    "execution": {
     "iopub.execute_input": "2023-12-06T04:08:53.776359Z",
     "iopub.status.busy": "2023-12-06T04:08:53.775936Z",
     "iopub.status.idle": "2023-12-06T04:08:53.780810Z",
     "shell.execute_reply": "2023-12-06T04:08:53.780211Z"
    },
    "papermill": {
     "duration": 0.011313,
     "end_time": "2023-12-06T04:08:53.782100",
     "exception": false,
     "start_time": "2023-12-06T04:08:53.770787",
     "status": "completed"
    },
    "scrolled": false,
    "tags": []
   },
   "outputs": [],
   "source": [
    "def create_carousel(npub=4):\n",
    "    \"\"\" Generate the HTML code for a carousel with `npub` slides \"\"\"\n",
    "    carousel = [\"\"\"  <div class=\"carousel\" \"\"\",\n",
    "                \"\"\"       data-flickity='{ \"autoPlay\": 10000, \"adaptiveHeight\": true, \"resize\": true, \"wrapAround\": true, \"pauseAutoPlayOnHover\": true, \"groupCells\": 1 }' id=\"asyncTypeset\">\"\"\"\n",
    "                ]\n",
    "    \n",
    "    item_str = \"\"\"    <div class=\"carousel-cell\"> <div id=\"slide{k}\" class=\"md_view\">Content {k}</div> </div>\"\"\"\n",
    "    for k in range(1, npub + 1):\n",
    "        carousel.append(item_str.format(k=k))\n",
    "    carousel.append(\"  </div>\")\n",
    "    return '\\n'.join(carousel)\n",
    "\n",
    "def create_grid(npub=4):\n",
    "    \"\"\" Generate the HTML code for a flat grid with `npub` slides \"\"\"\n",
    "    grid = [\"\"\"  <div class=\"grid\"> \"\"\",\n",
    "                ]\n",
    "    \n",
    "    item_str = \"\"\"    <div class=\"grid-item\"> <div id=\"slide{k}\" class=\"md_view\">Content {k}</div> </div>\"\"\"\n",
    "    for k in range(1, npub + 1):\n",
    "        grid.append(item_str.format(k=k))\n",
    "    grid.append(\"  </div>\")\n",
    "    return '\\n'.join(grid)"
   ]
  },
  {
   "cell_type": "code",
   "execution_count": 12,
   "id": "a6eac5b6",
   "metadata": {
    "execution": {
     "iopub.execute_input": "2023-12-06T04:08:53.792399Z",
     "iopub.status.busy": "2023-12-06T04:08:53.791997Z",
     "iopub.status.idle": "2023-12-06T04:08:53.796956Z",
     "shell.execute_reply": "2023-12-06T04:08:53.796336Z"
    },
    "papermill": {
     "duration": 0.011621,
     "end_time": "2023-12-06T04:08:53.798345",
     "exception": false,
     "start_time": "2023-12-06T04:08:53.786724",
     "status": "completed"
    },
    "scrolled": false,
    "tags": []
   },
   "outputs": [],
   "source": [
    "carousel = create_carousel(npub)\n",
    "docs = ', '.join(['\"{0:s}\"'.format(k.split('/')[-1]) for k in res])\n",
    "slides = ', '.join([f'\"slide{k}\"' for k in range(1, npub + 1)])\n",
    "\n",
    "with open(\"daily_template.html\", \"r\") as tpl:\n",
    "    page = tpl.read()\n",
    "    page = page.replace(\"{%-- carousel:s --%}\", carousel)\\\n",
    "               .replace(\"{%-- suptitle:s --%}\",  \"7-day archives\" )\\\n",
    "               .replace(\"{%-- docs:s --%}\", docs)\\\n",
    "               .replace(\"{%-- slides:s --%}\", slides)\n",
    "    \n",
    "with open(\"_build/html/index_7days.html\", 'w') as fout:\n",
    "    fout.write(page)"
   ]
  },
  {
   "cell_type": "code",
   "execution_count": 13,
   "id": "adc1a1ec",
   "metadata": {
    "execution": {
     "iopub.execute_input": "2023-12-06T04:08:53.808581Z",
     "iopub.status.busy": "2023-12-06T04:08:53.808068Z",
     "iopub.status.idle": "2023-12-06T04:08:53.814595Z",
     "shell.execute_reply": "2023-12-06T04:08:53.814001Z"
    },
    "papermill": {
     "duration": 0.013025,
     "end_time": "2023-12-06T04:08:53.815925",
     "exception": false,
     "start_time": "2023-12-06T04:08:53.802900",
     "status": "completed"
    },
    "tags": []
   },
   "outputs": [
    {
     "name": "stdout",
     "output_type": "stream",
     "text": [
      "4  publications in the last day.\n"
     ]
    }
   ],
   "source": [
    "# redo for today\n",
    "days = 1\n",
    "res = list(get_last_n_days(dates, days))\n",
    "npub = len(res)\n",
    "print(len(res), f\" publications in the last day.\")\n",
    "\n",
    "carousel = create_carousel(npub)\n",
    "docs = ', '.join(['\"{0:s}\"'.format(k.split('/')[-1]) for k in res])\n",
    "slides = ', '.join([f'\"slide{k}\"' for k in range(1, npub + 1)])\n",
    "\n",
    "with open(\"daily_template.html\", \"r\") as tpl:\n",
    "    page = tpl.read()\n",
    "    page = page.replace(\"{%-- carousel:s --%}\", carousel)\\\n",
    "               .replace(\"{%-- suptitle:s --%}\",  \"Daily\" )\\\n",
    "               .replace(\"{%-- docs:s --%}\", docs)\\\n",
    "               .replace(\"{%-- slides:s --%}\", slides)\n",
    "    \n",
    "# print(carousel, docs, slides)\n",
    "# print(page)\n",
    "with open(\"_build/html/index_daily.html\", 'w') as fout:\n",
    "    fout.write(page)"
   ]
  },
  {
   "cell_type": "code",
   "execution_count": 14,
   "id": "00eece82",
   "metadata": {
    "execution": {
     "iopub.execute_input": "2023-12-06T04:08:53.826226Z",
     "iopub.status.busy": "2023-12-06T04:08:53.826034Z",
     "iopub.status.idle": "2023-12-06T04:08:53.832213Z",
     "shell.execute_reply": "2023-12-06T04:08:53.831612Z"
    },
    "papermill": {
     "duration": 0.012881,
     "end_time": "2023-12-06T04:08:53.833548",
     "exception": false,
     "start_time": "2023-12-06T04:08:53.820667",
     "status": "completed"
    },
    "scrolled": false,
    "tags": []
   },
   "outputs": [
    {
     "name": "stdout",
     "output_type": "stream",
     "text": [
      "6  6 publications selected.\n"
     ]
    }
   ],
   "source": [
    "# Create the flat grid of the last N papers (fixed number regardless of dates)\n",
    "from itertools import islice \n",
    "\n",
    "npub = 6\n",
    "res = [k[0] for k in (islice(reversed(sorted(dates, key=lambda x: x[1])), 6))]\n",
    "print(len(res), f\" {npub} publications selected.\")\n",
    "\n",
    "grid = create_grid(npub)\n",
    "docs = ', '.join(['\"{0:s}\"'.format(k.split('/')[-1]) for k in res])\n",
    "slides = ', '.join([f'\"slide{k}\"' for k in range(1, npub + 1)])\n",
    "\n",
    "with open(\"grid_template.html\", \"r\") as tpl:\n",
    "    page = tpl.read()\n",
    "    page = page.replace(\"{%-- grid-content:s --%}\", grid)\\\n",
    "               .replace(\"{%-- suptitle:s --%}\",  f\"Last {npub:,d} papers\" )\\\n",
    "               .replace(\"{%-- docs:s --%}\", docs)\\\n",
    "               .replace(\"{%-- slides:s --%}\", slides)\n",
    "    \n",
    "# print(grid, docs, slides)\n",
    "# print(page)\n",
    "with open(\"_build/html/index_npub_grid.html\", 'w') as fout:\n",
    "    fout.write(page)"
   ]
  }
 ],
 "metadata": {
  "kernelspec": {
   "display_name": "Python 3 (ipykernel)",
   "language": "python",
   "name": "python3"
  },
  "language_info": {
   "codemirror_mode": {
    "name": "ipython",
    "version": 3
   },
   "file_extension": ".py",
   "mimetype": "text/x-python",
   "name": "python",
   "nbconvert_exporter": "python",
   "pygments_lexer": "ipython3",
   "version": "3.9.18"
  },
  "papermill": {
   "default_parameters": {},
   "duration": 31.655158,
   "end_time": "2023-12-06T04:08:54.054034",
   "environment_variables": {},
   "exception": null,
   "input_path": "MPIA daily digest.ipynb",
   "output_path": "log.ipynb",
   "parameters": {},
   "start_time": "2023-12-06T04:08:22.398876",
   "version": "2.5.0"
  },
  "vscode": {
   "interpreter": {
    "hash": "aee8b7b246df8f9039afb4144a1f6fd8d2ca17a180786b69acc140d282b71a49"
   }
  },
  "widgets": {
   "application/vnd.jupyter.widget-state+json": {
    "state": {
     "00a394d980af415d95cbce9609281162": {
      "model_module": "@jupyter-widgets/controls",
      "model_module_version": "2.0.0",
      "model_name": "HTMLModel",
      "state": {
       "_dom_classes": [],
       "_model_module": "@jupyter-widgets/controls",
       "_model_module_version": "2.0.0",
       "_model_name": "HTMLModel",
       "_view_count": null,
       "_view_module": "@jupyter-widgets/controls",
       "_view_module_version": "2.0.0",
       "_view_name": "HTMLView",
       "description": "",
       "description_allow_html": false,
       "layout": "IPY_MODEL_0c0063a6432e49b7a882b4f4a589e9d7",
       "placeholder": "​",
       "style": "IPY_MODEL_b1e162b019a448ec813053051780b3b3",
       "tabbable": null,
       "tooltip": null,
       "value": " 2/2 [00:10&lt;00:00,  6.20s/it]"
      }
     },
     "0c0063a6432e49b7a882b4f4a589e9d7": {
      "model_module": "@jupyter-widgets/base",
      "model_module_version": "2.0.0",
      "model_name": "LayoutModel",
      "state": {
       "_model_module": "@jupyter-widgets/base",
       "_model_module_version": "2.0.0",
       "_model_name": "LayoutModel",
       "_view_count": null,
       "_view_module": "@jupyter-widgets/base",
       "_view_module_version": "2.0.0",
       "_view_name": "LayoutView",
       "align_content": null,
       "align_items": null,
       "align_self": null,
       "border_bottom": null,
       "border_left": null,
       "border_right": null,
       "border_top": null,
       "bottom": null,
       "display": null,
       "flex": null,
       "flex_flow": null,
       "grid_area": null,
       "grid_auto_columns": null,
       "grid_auto_flow": null,
       "grid_auto_rows": null,
       "grid_column": null,
       "grid_gap": null,
       "grid_row": null,
       "grid_template_areas": null,
       "grid_template_columns": null,
       "grid_template_rows": null,
       "height": null,
       "justify_content": null,
       "justify_items": null,
       "left": null,
       "margin": null,
       "max_height": null,
       "max_width": null,
       "min_height": null,
       "min_width": null,
       "object_fit": null,
       "object_position": null,
       "order": null,
       "overflow": null,
       "padding": null,
       "right": null,
       "top": null,
       "visibility": null,
       "width": null
      }
     },
     "4686f9f761c74b2f855ff225c4d929e2": {
      "model_module": "@jupyter-widgets/base",
      "model_module_version": "2.0.0",
      "model_name": "LayoutModel",
      "state": {
       "_model_module": "@jupyter-widgets/base",
       "_model_module_version": "2.0.0",
       "_model_name": "LayoutModel",
       "_view_count": null,
       "_view_module": "@jupyter-widgets/base",
       "_view_module_version": "2.0.0",
       "_view_name": "LayoutView",
       "align_content": null,
       "align_items": null,
       "align_self": null,
       "border_bottom": null,
       "border_left": null,
       "border_right": null,
       "border_top": null,
       "bottom": null,
       "display": null,
       "flex": null,
       "flex_flow": null,
       "grid_area": null,
       "grid_auto_columns": null,
       "grid_auto_flow": null,
       "grid_auto_rows": null,
       "grid_column": null,
       "grid_gap": null,
       "grid_row": null,
       "grid_template_areas": null,
       "grid_template_columns": null,
       "grid_template_rows": null,
       "height": null,
       "justify_content": null,
       "justify_items": null,
       "left": null,
       "margin": null,
       "max_height": null,
       "max_width": null,
       "min_height": null,
       "min_width": null,
       "object_fit": null,
       "object_position": null,
       "order": null,
       "overflow": null,
       "padding": null,
       "right": null,
       "top": null,
       "visibility": null,
       "width": null
      }
     },
     "5d2319d05ee747fe8c01c972735e86d0": {
      "model_module": "@jupyter-widgets/base",
      "model_module_version": "2.0.0",
      "model_name": "LayoutModel",
      "state": {
       "_model_module": "@jupyter-widgets/base",
       "_model_module_version": "2.0.0",
       "_model_name": "LayoutModel",
       "_view_count": null,
       "_view_module": "@jupyter-widgets/base",
       "_view_module_version": "2.0.0",
       "_view_name": "LayoutView",
       "align_content": null,
       "align_items": null,
       "align_self": null,
       "border_bottom": null,
       "border_left": null,
       "border_right": null,
       "border_top": null,
       "bottom": null,
       "display": null,
       "flex": null,
       "flex_flow": null,
       "grid_area": null,
       "grid_auto_columns": null,
       "grid_auto_flow": null,
       "grid_auto_rows": null,
       "grid_column": null,
       "grid_gap": null,
       "grid_row": null,
       "grid_template_areas": null,
       "grid_template_columns": null,
       "grid_template_rows": null,
       "height": null,
       "justify_content": null,
       "justify_items": null,
       "left": null,
       "margin": null,
       "max_height": null,
       "max_width": null,
       "min_height": null,
       "min_width": null,
       "object_fit": null,
       "object_position": null,
       "order": null,
       "overflow": null,
       "padding": null,
       "right": null,
       "top": null,
       "visibility": null,
       "width": null
      }
     },
     "60cc4fb6549f4a4485d1c4af7425dc48": {
      "model_module": "@jupyter-widgets/controls",
      "model_module_version": "2.0.0",
      "model_name": "ProgressStyleModel",
      "state": {
       "_model_module": "@jupyter-widgets/controls",
       "_model_module_version": "2.0.0",
       "_model_name": "ProgressStyleModel",
       "_view_count": null,
       "_view_module": "@jupyter-widgets/base",
       "_view_module_version": "2.0.0",
       "_view_name": "StyleView",
       "bar_color": null,
       "description_width": ""
      }
     },
     "918d8e3533d9424c8c99f90b917346cc": {
      "model_module": "@jupyter-widgets/controls",
      "model_module_version": "2.0.0",
      "model_name": "HTMLModel",
      "state": {
       "_dom_classes": [],
       "_model_module": "@jupyter-widgets/controls",
       "_model_module_version": "2.0.0",
       "_model_name": "HTMLModel",
       "_view_count": null,
       "_view_module": "@jupyter-widgets/controls",
       "_view_module_version": "2.0.0",
       "_view_name": "HTMLView",
       "description": "",
       "description_allow_html": false,
       "layout": "IPY_MODEL_5d2319d05ee747fe8c01c972735e86d0",
       "placeholder": "​",
       "style": "IPY_MODEL_ddb8c6b8ef8c43148bd9cb5094a12d5c",
       "tabbable": null,
       "tooltip": null,
       "value": "100%"
      }
     },
     "a2ae175264124de381f0b41309a0d427": {
      "model_module": "@jupyter-widgets/controls",
      "model_module_version": "2.0.0",
      "model_name": "HBoxModel",
      "state": {
       "_dom_classes": [],
       "_model_module": "@jupyter-widgets/controls",
       "_model_module_version": "2.0.0",
       "_model_name": "HBoxModel",
       "_view_count": null,
       "_view_module": "@jupyter-widgets/controls",
       "_view_module_version": "2.0.0",
       "_view_name": "HBoxView",
       "box_style": "",
       "children": [
        "IPY_MODEL_918d8e3533d9424c8c99f90b917346cc",
        "IPY_MODEL_ca1685dc201340ceb3394af5aa207bf3",
        "IPY_MODEL_00a394d980af415d95cbce9609281162"
       ],
       "layout": "IPY_MODEL_4686f9f761c74b2f855ff225c4d929e2",
       "tabbable": null,
       "tooltip": null
      }
     },
     "b1e162b019a448ec813053051780b3b3": {
      "model_module": "@jupyter-widgets/controls",
      "model_module_version": "2.0.0",
      "model_name": "HTMLStyleModel",
      "state": {
       "_model_module": "@jupyter-widgets/controls",
       "_model_module_version": "2.0.0",
       "_model_name": "HTMLStyleModel",
       "_view_count": null,
       "_view_module": "@jupyter-widgets/base",
       "_view_module_version": "2.0.0",
       "_view_name": "StyleView",
       "background": null,
       "description_width": "",
       "font_size": null,
       "text_color": null
      }
     },
     "ca1685dc201340ceb3394af5aa207bf3": {
      "model_module": "@jupyter-widgets/controls",
      "model_module_version": "2.0.0",
      "model_name": "FloatProgressModel",
      "state": {
       "_dom_classes": [],
       "_model_module": "@jupyter-widgets/controls",
       "_model_module_version": "2.0.0",
       "_model_name": "FloatProgressModel",
       "_view_count": null,
       "_view_module": "@jupyter-widgets/controls",
       "_view_module_version": "2.0.0",
       "_view_name": "ProgressView",
       "bar_style": "success",
       "description": "",
       "description_allow_html": false,
       "layout": "IPY_MODEL_cc33ce7b82144443a60481e281c99a11",
       "max": 2.0,
       "min": 0.0,
       "orientation": "horizontal",
       "style": "IPY_MODEL_60cc4fb6549f4a4485d1c4af7425dc48",
       "tabbable": null,
       "tooltip": null,
       "value": 2.0
      }
     },
     "cc33ce7b82144443a60481e281c99a11": {
      "model_module": "@jupyter-widgets/base",
      "model_module_version": "2.0.0",
      "model_name": "LayoutModel",
      "state": {
       "_model_module": "@jupyter-widgets/base",
       "_model_module_version": "2.0.0",
       "_model_name": "LayoutModel",
       "_view_count": null,
       "_view_module": "@jupyter-widgets/base",
       "_view_module_version": "2.0.0",
       "_view_name": "LayoutView",
       "align_content": null,
       "align_items": null,
       "align_self": null,
       "border_bottom": null,
       "border_left": null,
       "border_right": null,
       "border_top": null,
       "bottom": null,
       "display": null,
       "flex": null,
       "flex_flow": null,
       "grid_area": null,
       "grid_auto_columns": null,
       "grid_auto_flow": null,
       "grid_auto_rows": null,
       "grid_column": null,
       "grid_gap": null,
       "grid_row": null,
       "grid_template_areas": null,
       "grid_template_columns": null,
       "grid_template_rows": null,
       "height": null,
       "justify_content": null,
       "justify_items": null,
       "left": null,
       "margin": null,
       "max_height": null,
       "max_width": null,
       "min_height": null,
       "min_width": null,
       "object_fit": null,
       "object_position": null,
       "order": null,
       "overflow": null,
       "padding": null,
       "right": null,
       "top": null,
       "visibility": null,
       "width": null
      }
     },
     "ddb8c6b8ef8c43148bd9cb5094a12d5c": {
      "model_module": "@jupyter-widgets/controls",
      "model_module_version": "2.0.0",
      "model_name": "HTMLStyleModel",
      "state": {
       "_model_module": "@jupyter-widgets/controls",
       "_model_module_version": "2.0.0",
       "_model_name": "HTMLStyleModel",
       "_view_count": null,
       "_view_module": "@jupyter-widgets/base",
       "_view_module_version": "2.0.0",
       "_view_name": "StyleView",
       "background": null,
       "description_width": "",
       "font_size": null,
       "text_color": null
      }
     }
    },
    "version_major": 2,
    "version_minor": 0
   }
  }
 },
 "nbformat": 4,
 "nbformat_minor": 5
}