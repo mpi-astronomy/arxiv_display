{
 "cells": [
  {
   "cell_type": "markdown",
   "id": "92bcb855",
   "metadata": {
    "papermill": {
     "duration": 0.003759,
     "end_time": "2025-07-16T04:30:00.809201",
     "exception": false,
     "start_time": "2025-07-16T04:30:00.805442",
     "status": "completed"
    },
    "tags": []
   },
   "source": [
    "# MPIA Arxiv on Deck 2\n",
    "\n",
    "Contains the steps to produce the paper extractions."
   ]
  },
  {
   "cell_type": "code",
   "execution_count": 1,
   "id": "3a0d6e11",
   "metadata": {
    "execution": {
     "iopub.execute_input": "2025-07-16T04:30:00.817054Z",
     "iopub.status.busy": "2025-07-16T04:30:00.816375Z",
     "iopub.status.idle": "2025-07-16T04:30:01.047102Z",
     "shell.execute_reply": "2025-07-16T04:30:01.046344Z"
    },
    "papermill": {
     "duration": 0.236053,
     "end_time": "2025-07-16T04:30:01.048516",
     "exception": false,
     "start_time": "2025-07-16T04:30:00.812463",
     "status": "completed"
    },
    "tags": []
   },
   "outputs": [],
   "source": [
    "# Imports\n",
    "import os\n",
    "from IPython.display import Markdown, display\n",
    "from tqdm.notebook import tqdm\n",
    "import warnings\n",
    "from PIL import Image \n",
    "import re\n",
    "\n",
    "# requires arxiv_on_deck_2\n",
    "\n",
    "from arxiv_on_deck_2.arxiv2 import (get_new_papers, \n",
    "                                    get_paper_from_identifier,\n",
    "                                    retrieve_document_source, \n",
    "                                    get_markdown_badge)\n",
    "from arxiv_on_deck_2 import (latex,\n",
    "                             latex_bib,\n",
    "                             mpia,\n",
    "                             highlight_authors_in_list)\n",
    "\n",
    "# Sometimes images are really big\n",
    "Image.MAX_IMAGE_PIXELS = 1000000000 "
   ]
  },
  {
   "cell_type": "code",
   "execution_count": 2,
   "id": "22aa9d44",
   "metadata": {
    "execution": {
     "iopub.execute_input": "2025-07-16T04:30:01.056000Z",
     "iopub.status.busy": "2025-07-16T04:30:01.055524Z",
     "iopub.status.idle": "2025-07-16T04:30:01.063414Z",
     "shell.execute_reply": "2025-07-16T04:30:01.062857Z"
    },
    "papermill": {
     "duration": 0.012629,
     "end_time": "2025-07-16T04:30:01.064441",
     "exception": false,
     "start_time": "2025-07-16T04:30:01.051812",
     "status": "completed"
    },
    "tags": []
   },
   "outputs": [],
   "source": [
    "# Some useful definitions.\n",
    "\n",
    "class AffiliationWarning(UserWarning):\n",
    "    pass\n",
    "\n",
    "class AffiliationError(RuntimeError):\n",
    "    pass\n",
    "\n",
    "def validation(source: str):\n",
    "    \"\"\"Raises error paper during parsing of source file\n",
    "    \n",
    "    Allows checks before parsing TeX code.\n",
    "    \n",
    "    Raises AffiliationWarning\n",
    "    \"\"\"\n",
    "    check = mpia.affiliation_verifications(source, verbose=True)\n",
    "    if check is not True:\n",
    "        raise AffiliationError(\"mpia.affiliation_verifications: \" + check)\n",
    "\n",
    "        \n",
    "warnings.simplefilter('always', AffiliationWarning)\n",
    "\n",
    "\n",
    "def get_markdown_qrcode(paper_id: str):\n",
    "    \"\"\" Generate a qrcode to the arxiv page using qrserver.com\n",
    "    \n",
    "    :param paper: Arxiv paper\n",
    "    :returns: markdown text\n",
    "    \"\"\"\n",
    "    url = r\"https://api.qrserver.com/v1/create-qr-code/?size=100x100&data=\"\n",
    "    txt = f\"\"\"<img src={url}\"https://arxiv.org/abs/{paper_id}\">\"\"\"\n",
    "    txt = '<div id=\"qrcode\">' + txt + '</div>'\n",
    "    return txt\n",
    "\n",
    "\n",
    "def clean_non_western_encoded_characters_commands(text: str) -> str:\n",
    "    \"\"\" Remove non-western encoded characters from a string\n",
    "    List may need to grow.\n",
    "    \n",
    "    :param text: the text to clean\n",
    "    :return: the cleaned text\n",
    "    \"\"\"\n",
    "    text = re.sub(r\"(\\\\begin{CJK}{UTF8}{gbsn})(.*?)(\\\\end{CJK})\", r\"\\2\", text)\n",
    "    return text\n",
    "\n",
    "\n",
    "def get_initials(name: str) -> str:\n",
    "    \"\"\" Get the short name, e.g., A.-B. FamName\n",
    "    :param name: full name\n",
    "    :returns: initials\n",
    "    \"\"\"\n",
    "    initials = []\n",
    "    # account for non western names often in ()\n",
    "    if '(' in name:\n",
    "        name = clean_non_western_encoded_characters_commands(name)\n",
    "        suffix = re.findall(r\"\\((.*?)\\)\", name)[0]\n",
    "        name = name.replace(f\"({suffix})\", '')\n",
    "    else:\n",
    "        suffix = ''\n",
    "    split = name.split()\n",
    "    for token in split[:-1]:\n",
    "        if '-' in token:\n",
    "            current = '-'.join([k[0] + '.' for k in token.split('-')])\n",
    "        else:\n",
    "            current = token[0] + '.'\n",
    "        initials.append(current)\n",
    "    initials.append(split[-1].strip())\n",
    "    if suffix:\n",
    "        initials.append(f\"({suffix})\")\n",
    "    return ' '.join(initials)"
   ]
  },
  {
   "cell_type": "markdown",
   "id": "14bd6310",
   "metadata": {
    "papermill": {
     "duration": 0.002885,
     "end_time": "2025-07-16T04:30:01.070276",
     "exception": false,
     "start_time": "2025-07-16T04:30:01.067391",
     "status": "completed"
    },
    "tags": []
   },
   "source": [
    "## get list of arxiv paper candidates\n",
    "\n",
    "We use the MPIA mitarbeiter list webpage from mpia.de to get author names\n",
    "We then get all new papers from Arxiv and match authors"
   ]
  },
  {
   "cell_type": "code",
   "execution_count": 3,
   "id": "7ea813a8",
   "metadata": {
    "execution": {
     "iopub.execute_input": "2025-07-16T04:30:01.077174Z",
     "iopub.status.busy": "2025-07-16T04:30:01.076691Z",
     "iopub.status.idle": "2025-07-16T04:30:21.409263Z",
     "shell.execute_reply": "2025-07-16T04:30:21.408601Z"
    },
    "papermill": {
     "duration": 20.337341,
     "end_time": "2025-07-16T04:30:21.410519",
     "exception": false,
     "start_time": "2025-07-16T04:30:01.073178",
     "status": "completed"
    },
    "tags": []
   },
   "outputs": [],
   "source": [
    "# deal with the author list and edge cases of people that cannot be consistent on their name  \n",
    "\n",
    "def filter_non_scientists(name: str) -> bool:\n",
    "    \"\"\" Loose filter on expected authorships\n",
    "\n",
    "    removing IT, administration, technical staff\n",
    "    :param name: name\n",
    "    :returns: False if name is not a scientist\n",
    "    \"\"\"\n",
    "    remove_list = ['Licht', 'Binroth', 'Witzel', 'Jordan',\n",
    "                   'Zähringer', 'Scheerer', 'Hoffmann', 'Düe',\n",
    "                   'Hellmich', 'Enkler-Scharpegge', 'Witte-Nguy',\n",
    "                   'Dehen', 'Beckmann', 'Jager', 'Jäger'\n",
    "                  ]\n",
    "\n",
    "    for k in remove_list:\n",
    "        if k in name:\n",
    "            return False\n",
    "    return True\n",
    "\n",
    "def add_author_to_list(author_list: list) -> list:\n",
    "    \"\"\" Add author to list if not already in list\n",
    "    \n",
    "    :param author: author name\n",
    "    :param author_list: list of authors\n",
    "    :returns: updated list of authors\n",
    "    \"\"\"\n",
    "    add_list = ['T. Henning']\n",
    "\n",
    "    for author in add_list:\n",
    "        if author not in author_list:\n",
    "            author_list.append(author)\n",
    "    return author_list\n",
    "\n",
    "# get list from MPIA website\n",
    "# filter for non-scientists (mpia.get_mpia_mitarbeiter_list() does some filtering)\n",
    "mpia_authors = [k[1] for k in mpia.get_mpia_mitarbeiter_list() if filter_non_scientists(k[1])]\n",
    "# add some missing author because of inconsistencies in their MPIA name and author name on papers\n",
    "mpia_authors = add_author_to_list(mpia_authors)"
   ]
  },
  {
   "cell_type": "code",
   "execution_count": 4,
   "id": "2645e73a",
   "metadata": {
    "execution": {
     "iopub.execute_input": "2025-07-16T04:30:21.417913Z",
     "iopub.status.busy": "2025-07-16T04:30:21.417643Z",
     "iopub.status.idle": "2025-07-16T04:30:22.231794Z",
     "shell.execute_reply": "2025-07-16T04:30:22.231087Z"
    },
    "papermill": {
     "duration": 0.818915,
     "end_time": "2025-07-16T04:30:22.232813",
     "exception": false,
     "start_time": "2025-07-16T04:30:21.413898",
     "status": "completed"
    },
    "tags": []
   },
   "outputs": [
    {
     "name": "stdout",
     "output_type": "stream",
     "text": [
      "Y. Wang  ->  Y. Wang  |  ['Y. Wang']\n",
      "K. Paterson  ->  K. Paterson  |  ['K. Paterson']\n",
      "M. Schirmer  ->  M. Schirmer  |  ['M. Schirmer']\n",
      "K. Jahnke  ->  K. Jahnke  |  ['K. Jahnke']\n",
      "M. Flock  ->  M. Flock  |  ['M. Flock']\n",
      "K. Jahnke  ->  K. Jahnke  |  ['K. Jahnke']\n"
     ]
    },
    {
     "name": "stdout",
     "output_type": "stream",
     "text": [
      "Arxiv has 75 new papers today\n",
      "          4 with possible author matches\n"
     ]
    }
   ],
   "source": [
    "new_papers = get_new_papers()\n",
    "# add manual references\n",
    "add_paper_refs = []\n",
    "new_papers.extend([get_paper_from_identifier(k) for k in add_paper_refs])\n",
    "\n",
    "def robust_call(fn, value, *args, **kwargs):\n",
    "    try:\n",
    "        return fn(value, *args, **kwargs)\n",
    "    except Exception:\n",
    "        return value\n",
    "\n",
    "candidates = []\n",
    "for paperk in new_papers:\n",
    "    # Check author list with their initials\n",
    "    normed_author_list = [robust_call(mpia.get_initials, k) for k in paperk['authors']]\n",
    "    hl_authors = highlight_authors_in_list(normed_author_list, mpia_authors, verbose=True)\n",
    "    matches = [(hl, orig) for hl, orig in zip(hl_authors, paperk['authors']) if 'mark' in hl]\n",
    "    paperk['authors'] = hl_authors\n",
    "    if matches:\n",
    "        # only select paper if an author matched our list\n",
    "        candidates.append(paperk)\n",
    "print(\"\"\"Arxiv has {0:,d} new papers today\"\"\".format(len(new_papers)))        \n",
    "print(\"\"\"          {0:,d} with possible author matches\"\"\".format(len(candidates)))"
   ]
  },
  {
   "cell_type": "markdown",
   "id": "3543b34a",
   "metadata": {
    "papermill": {
     "duration": 0.003063,
     "end_time": "2025-07-16T04:30:22.239439",
     "exception": false,
     "start_time": "2025-07-16T04:30:22.236376",
     "status": "completed"
    },
    "tags": []
   },
   "source": [
    "# Parse sources and generate relevant outputs\n",
    "\n",
    "From the candidates, we do the following steps:\n",
    "* get their tarball from ArXiv (and extract data)\n",
    "* find the main .tex file: find one with \\documentclass{...} (sometimes it's non trivial)\n",
    "* Check affiliations with :func:`validation`, which uses :func:`mpia.affiliation_verifications`\n",
    "* If passing the affiliations: we parse the .tex source\n",
    "   * inject sub-documents into the main (flatten the main document)\n",
    "   * parse structure, extract information (title, abstract, authors, figures...)\n",
    "   * handles `\\graphicspath` if provided\n",
    "* Generate the .md document."
   ]
  },
  {
   "cell_type": "code",
   "execution_count": 5,
   "id": "9576b79e",
   "metadata": {
    "execution": {
     "iopub.execute_input": "2025-07-16T04:30:22.246577Z",
     "iopub.status.busy": "2025-07-16T04:30:22.246354Z",
     "iopub.status.idle": "2025-07-16T04:31:45.310854Z",
     "shell.execute_reply": "2025-07-16T04:31:45.310130Z"
    },
    "papermill": {
     "duration": 83.069507,
     "end_time": "2025-07-16T04:31:45.312020",
     "exception": false,
     "start_time": "2025-07-16T04:30:22.242513",
     "status": "completed"
    },
    "scrolled": false,
    "tags": []
   },
   "outputs": [
    {
     "data": {
      "application/vnd.jupyter.widget-view+json": {
       "model_id": "d9a9a802d3b6417d894e650a1466c916",
       "version_major": 2,
       "version_minor": 0
      },
      "text/plain": [
       "  0%|          | 0/4 [00:00<?, ?it/s]"
      ]
     },
     "metadata": {},
     "output_type": "display_data"
    },
    {
     "name": "stdout",
     "output_type": "stream",
     "text": [
      "Retrieving document from  https://arxiv.org/e-print/2507.10829\n",
      "extracting tarball to tmp_2507.10829..."
     ]
    },
    {
     "name": "stdout",
     "output_type": "stream",
     "text": [
      " done.\n",
      "Retrieving document from  https://arxiv.org/e-print/2507.11072\n",
      "extracting tarball to tmp_2507.11072..."
     ]
    },
    {
     "name": "stdout",
     "output_type": "stream",
     "text": [
      " done.\n"
     ]
    },
    {
     "name": "stderr",
     "output_type": "stream",
     "text": [
      "/opt/hostedtoolcache/Python/3.9.23/x64/lib/python3.9/site-packages/IPython/core/interactiveshell.py:3550: LatexWarning: Multiple tex files.\n",
      "\n",
      "  exec(code_obj, self.user_global_ns, self.user_ns)\n",
      "/opt/hostedtoolcache/Python/3.9.23/x64/lib/python3.9/site-packages/IPython/core/interactiveshell.py:3550: LatexWarning: Found documentclass in tmp_2507.11072/Paterson_ghosts.tex\n",
      "\n",
      "  exec(code_obj, self.user_global_ns, self.user_ns)\n",
      "/opt/hostedtoolcache/Python/3.9.23/x64/lib/python3.9/site-packages/arxiv_on_deck_2/latex.py:414: LatexWarning: Latex injecting: 'authors' from 'tmp_2507.11072/authors.tex'\n",
      "  warnings.warn(LatexWarning(f\"Latex injecting: '{ext}' from '{subsource}'\"))\n",
      "/opt/hostedtoolcache/Python/3.9.23/x64/lib/python3.9/site-packages/arxiv_on_deck_2/latex.py:414: LatexWarning: Latex injecting: 'acronyms' from 'tmp_2507.11072/acronyms.tex'\n",
      "  warnings.warn(LatexWarning(f\"Latex injecting: '{ext}' from '{subsource}'\"))\n"
     ]
    },
    {
     "name": "stdout",
     "output_type": "stream",
     "text": [
      "Found 20 bibliographic references in tmp_2507.11072/Paterson_ghosts.bbl.\n",
      "Retrieving document from  https://arxiv.org/e-print/2507.11156\n"
     ]
    },
    {
     "name": "stdout",
     "output_type": "stream",
     "text": [
      "extracting tarball to tmp_2507.11156..."
     ]
    },
    {
     "name": "stdout",
     "output_type": "stream",
     "text": [
      " done.\n"
     ]
    },
    {
     "name": "stdout",
     "output_type": "stream",
     "text": [
      "M. Flock  ->  M. Flock  |  ['M. Flock']\n"
     ]
    },
    {
     "name": "stdout",
     "output_type": "stream",
     "text": [
      "Found 77 bibliographic references in tmp_2507.11156/FukuharaFlock25.bbl.\n",
      "Retrieving document from  https://arxiv.org/e-print/2507.11326\n"
     ]
    },
    {
     "name": "stdout",
     "output_type": "stream",
     "text": [
      "extracting tarball to tmp_2507.11326... done.\n"
     ]
    },
    {
     "name": "stderr",
     "output_type": "stream",
     "text": [
      "/opt/hostedtoolcache/Python/3.9.23/x64/lib/python3.9/site-packages/IPython/core/interactiveshell.py:3550: LatexWarning: Multiple tex files.\n",
      "\n",
      "  exec(code_obj, self.user_global_ns, self.user_ns)\n",
      "/opt/hostedtoolcache/Python/3.9.23/x64/lib/python3.9/site-packages/IPython/core/interactiveshell.py:3550: LatexWarning: Found documentclass in tmp_2507.11326/paper.tex\n",
      "\n",
      "  exec(code_obj, self.user_global_ns, self.user_ns)\n",
      "/opt/hostedtoolcache/Python/3.9.23/x64/lib/python3.9/site-packages/arxiv_on_deck_2/latex.py:414: LatexWarning: Latex injecting: 'app_orth_poly.tex' from 'tmp_2507.11326/app_orth_poly.tex'\n",
      "  warnings.warn(LatexWarning(f\"Latex injecting: '{ext}' from '{subsource}'\"))\n",
      "/opt/hostedtoolcache/Python/3.9.23/x64/lib/python3.9/site-packages/arxiv_on_deck_2/latex.py:414: LatexWarning: Latex injecting: 'app_properties.tex' from 'tmp_2507.11326/app_properties.tex'\n",
      "  warnings.warn(LatexWarning(f\"Latex injecting: '{ext}' from '{subsource}'\"))\n",
      "/opt/hostedtoolcache/Python/3.9.23/x64/lib/python3.9/site-packages/arxiv_on_deck_2/latex.py:414: LatexWarning: Latex injecting: 'conclusions.tex' from 'tmp_2507.11326/conclusions.tex'\n",
      "  warnings.warn(LatexWarning(f\"Latex injecting: '{ext}' from '{subsource}'\"))\n",
      "/opt/hostedtoolcache/Python/3.9.23/x64/lib/python3.9/site-packages/arxiv_on_deck_2/latex.py:414: LatexWarning: Latex injecting: 'persistence.tex' from 'tmp_2507.11326/persistence.tex'\n",
      "  warnings.warn(LatexWarning(f\"Latex injecting: '{ext}' from '{subsource}'\"))\n",
      "/opt/hostedtoolcache/Python/3.9.23/x64/lib/python3.9/site-packages/arxiv_on_deck_2/latex.py:414: LatexWarning: Latex injecting: 'nl.tex' from 'tmp_2507.11326/nl.tex'\n",
      "  warnings.warn(LatexWarning(f\"Latex injecting: '{ext}' from '{subsource}'\"))\n",
      "/opt/hostedtoolcache/Python/3.9.23/x64/lib/python3.9/site-packages/arxiv_on_deck_2/latex.py:414: LatexWarning: Latex injecting: 'dark.tex' from 'tmp_2507.11326/dark.tex'\n",
      "  warnings.warn(LatexWarning(f\"Latex injecting: '{ext}' from '{subsource}'\"))\n",
      "/opt/hostedtoolcache/Python/3.9.23/x64/lib/python3.9/site-packages/arxiv_on_deck_2/latex.py:414: LatexWarning: Latex injecting: 'noise.tex' from 'tmp_2507.11326/noise.tex'\n",
      "  warnings.warn(LatexWarning(f\"Latex injecting: '{ext}' from '{subsource}'\"))\n",
      "/opt/hostedtoolcache/Python/3.9.23/x64/lib/python3.9/site-packages/arxiv_on_deck_2/latex.py:414: LatexWarning: Latex injecting: 'convgain.tex' from 'tmp_2507.11326/convgain.tex'\n",
      "  warnings.warn(LatexWarning(f\"Latex injecting: '{ext}' from '{subsource}'\"))\n",
      "/opt/hostedtoolcache/Python/3.9.23/x64/lib/python3.9/site-packages/arxiv_on_deck_2/latex.py:414: LatexWarning: Latex injecting: 'qe.tex' from 'tmp_2507.11326/qe.tex'\n",
      "  warnings.warn(LatexWarning(f\"Latex injecting: '{ext}' from '{subsource}'\"))\n",
      "/opt/hostedtoolcache/Python/3.9.23/x64/lib/python3.9/site-packages/arxiv_on_deck_2/latex.py:414: LatexWarning: Latex injecting: 'ipc.tex' from 'tmp_2507.11326/ipc.tex'\n",
      "  warnings.warn(LatexWarning(f\"Latex injecting: '{ext}' from '{subsource}'\"))\n",
      "/opt/hostedtoolcache/Python/3.9.23/x64/lib/python3.9/site-packages/arxiv_on_deck_2/latex.py:414: LatexWarning: Latex injecting: 'bad.tex' from 'tmp_2507.11326/bad.tex'\n",
      "  warnings.warn(LatexWarning(f\"Latex injecting: '{ext}' from '{subsource}'\"))\n",
      "/opt/hostedtoolcache/Python/3.9.23/x64/lib/python3.9/site-packages/arxiv_on_deck_2/latex.py:414: LatexWarning: Latex injecting: 'baseline.tex' from 'tmp_2507.11326/baseline.tex'\n",
      "  warnings.warn(LatexWarning(f\"Latex injecting: '{ext}' from '{subsource}'\"))\n",
      "/opt/hostedtoolcache/Python/3.9.23/x64/lib/python3.9/site-packages/arxiv_on_deck_2/latex.py:414: LatexWarning: Latex injecting: 'disconnected.tex' from 'tmp_2507.11326/disconnected.tex'\n",
      "  warnings.warn(LatexWarning(f\"Latex injecting: '{ext}' from '{subsource}'\"))\n",
      "/opt/hostedtoolcache/Python/3.9.23/x64/lib/python3.9/site-packages/arxiv_on_deck_2/latex.py:414: LatexWarning: Latex injecting: 'properties.tex' from 'tmp_2507.11326/properties.tex'\n",
      "  warnings.warn(LatexWarning(f\"Latex injecting: '{ext}' from '{subsource}'\"))\n",
      "/opt/hostedtoolcache/Python/3.9.23/x64/lib/python3.9/site-packages/arxiv_on_deck_2/latex.py:414: LatexWarning: Latex injecting: 'tuning.tex' from 'tmp_2507.11326/tuning.tex'\n",
      "  warnings.warn(LatexWarning(f\"Latex injecting: '{ext}' from '{subsource}'\"))\n",
      "/opt/hostedtoolcache/Python/3.9.23/x64/lib/python3.9/site-packages/arxiv_on_deck_2/latex.py:414: LatexWarning: Latex injecting: 'ground_charac.tex' from 'tmp_2507.11326/ground_charac.tex'\n",
      "  warnings.warn(LatexWarning(f\"Latex injecting: '{ext}' from '{subsource}'\"))\n",
      "/opt/hostedtoolcache/Python/3.9.23/x64/lib/python3.9/site-packages/arxiv_on_deck_2/latex.py:414: LatexWarning: Latex injecting: 'euclid_detectors.tex' from 'tmp_2507.11326/euclid_detectors.tex'\n",
      "  warnings.warn(LatexWarning(f\"Latex injecting: '{ext}' from '{subsource}'\"))\n",
      "/opt/hostedtoolcache/Python/3.9.23/x64/lib/python3.9/site-packages/arxiv_on_deck_2/latex.py:414: LatexWarning: Latex injecting: 'introduction.tex' from 'tmp_2507.11326/introduction.tex'\n",
      "  warnings.warn(LatexWarning(f\"Latex injecting: '{ext}' from '{subsource}'\"))\n",
      "/opt/hostedtoolcache/Python/3.9.23/x64/lib/python3.9/site-packages/arxiv_on_deck_2/latex.py:414: LatexWarning: Latex injecting: 'authors' from 'tmp_2507.11326/authors.tex'\n",
      "  warnings.warn(LatexWarning(f\"Latex injecting: '{ext}' from '{subsource}'\"))\n",
      "/opt/hostedtoolcache/Python/3.9.23/x64/lib/python3.9/site-packages/arxiv_on_deck_2/latex.py:414: LatexWarning: Latex injecting: 'acronyms' from 'tmp_2507.11326/acronyms.tex'\n",
      "  warnings.warn(LatexWarning(f\"Latex injecting: '{ext}' from '{subsource}'\"))\n"
     ]
    },
    {
     "name": "stderr",
     "output_type": "stream",
     "text": [
      "/opt/hostedtoolcache/Python/3.9.23/x64/lib/python3.9/site-packages/arxiv_on_deck_2/latex.py:132: LatexWarning: attempting recovering figure figures/nl_tv1.pdf \n",
      "  warnings.warn(LatexWarning(f'attempting recovering figure {image}'))\n",
      "/opt/hostedtoolcache/Python/3.9.23/x64/lib/python3.9/site-packages/arxiv_on_deck_2/latex.py:707: LatexWarning: Could not find graphic \\includegraphics[width=\\linewidth]{figures/nl_tv1.pdf }\n",
      "  warnings.warn(LatexWarning(f\"Could not find graphic {k}\"))\n"
     ]
    },
    {
     "name": "stdout",
     "output_type": "stream",
     "text": [
      "Found 47 bibliographic references in tmp_2507.11326/paper.bbl.\n",
      "Issues with the citations\n",
      "syntax error in line 165: '=' expected\n"
     ]
    }
   ],
   "source": [
    "documents = []\n",
    "failed = []\n",
    "for paper in tqdm(candidates):\n",
    "    # debug crap\n",
    "    paper['identifier'] = paper['identifier'].lower().replace('arxiv:', '').replace(r'\\n', '').strip()\n",
    "    paper_id = paper['identifier']\n",
    "    \n",
    "    folder = f'tmp_{paper_id}'\n",
    "\n",
    "    try:\n",
    "        if not os.path.isdir(folder):\n",
    "            folder = retrieve_document_source(f\"{paper_id}\", f'tmp_{paper_id}')\n",
    "        \n",
    "        try:\n",
    "            doc = latex.LatexDocument(folder, validation=validation)    \n",
    "        except AffiliationError as affilerror:\n",
    "            msg = f\"ArXiv:{paper_id:s} is not an MPIA paper... \" + str(affilerror)\n",
    "            failed.append((paper, \"affiliation error: \" + str(affilerror) ))\n",
    "            continue\n",
    "        \n",
    "        # Hack because sometimes author parsing does not work well\n",
    "        if (len(doc.authors) != len(paper['authors'])):\n",
    "            doc._authors = paper['authors']\n",
    "        else:\n",
    "            # highlight authors (FIXME: doc.highlight_authors)\n",
    "            # done on arxiv paper already\n",
    "            doc._authors = highlight_authors_in_list(\n",
    "                [get_initials(k) for k in doc.authors], \n",
    "                mpia_authors, verbose=True)\n",
    "        if (doc.abstract) in (None, ''):\n",
    "            doc._abstract = paper['abstract']\n",
    "            \n",
    "        doc.comment = (get_markdown_badge(paper_id) + \n",
    "                       \"<mark>Appeared on: \" + paper['date'] + \"</mark> - \")\n",
    "        if paper['comments']:\n",
    "            doc.comment += \" _\" + paper['comments'] + \"_\"\n",
    "        \n",
    "        full_md = doc.generate_markdown_text()\n",
    "        \n",
    "        full_md += get_markdown_qrcode(paper_id)\n",
    "        \n",
    "        # replace citations\n",
    "        try:\n",
    "            bibdata = latex_bib.LatexBib.from_doc(doc)\n",
    "            full_md = latex_bib.replace_citations(full_md, bibdata)\n",
    "        except Exception as e:\n",
    "            print(\"Issues with the citations\")\n",
    "            print(e)\n",
    "        \n",
    "        documents.append((paper_id, full_md))\n",
    "    except Exception as e:\n",
    "        warnings.warn(latex.LatexWarning(f\"{paper_id:s} did not run properly\\n\" +\n",
    "                                         str(e)\n",
    "                                        ))\n",
    "        failed.append((paper, \"latex error \" + str(e)))"
   ]
  },
  {
   "cell_type": "markdown",
   "id": "2505a25c",
   "metadata": {
    "papermill": {
     "duration": 0.003919,
     "end_time": "2025-07-16T04:31:45.320087",
     "exception": false,
     "start_time": "2025-07-16T04:31:45.316168",
     "status": "completed"
    },
    "tags": []
   },
   "source": [
    "### Export the logs\n",
    "\n",
    "Throughout, we also keep track of the logs per paper. see `logs-{today date}.md` "
   ]
  },
  {
   "cell_type": "code",
   "execution_count": 6,
   "id": "d733828a",
   "metadata": {
    "execution": {
     "iopub.execute_input": "2025-07-16T04:31:45.328906Z",
     "iopub.status.busy": "2025-07-16T04:31:45.328343Z",
     "iopub.status.idle": "2025-07-16T04:31:45.343417Z",
     "shell.execute_reply": "2025-07-16T04:31:45.342855Z"
    },
    "papermill": {
     "duration": 0.020577,
     "end_time": "2025-07-16T04:31:45.344395",
     "exception": false,
     "start_time": "2025-07-16T04:31:45.323818",
     "status": "completed"
    },
    "scrolled": false,
    "tags": []
   },
   "outputs": [
    {
     "data": {
      "text/markdown": [
       "## Successful papers"
      ],
      "text/plain": [
       "<IPython.core.display.Markdown object>"
      ]
     },
     "metadata": {},
     "output_type": "display_data"
    },
    {
     "data": {
      "text/markdown": [
       "\n",
       "|||\n",
       "|---:|:---|\n",
       "| [![arXiv](https://img.shields.io/badge/arXiv-2507.11072-b31b1b.svg)](https://arxiv.org/abs/2507.11072) | **Euclid VI. NISP-P optical ghosts**  |\n",
       "|| E. Collaboration, et al. -- incl., <mark>K. Paterson</mark>, <mark>M. Schirmer</mark>, <mark>K. Jahnke</mark> |\n",
       "|*Appeared on*| *2025-07-16*|\n",
       "|*Comments*| *13 pages, 10 figures, submitted*|\n",
       "|**Abstract**|            The Near-Infrared Spectrometer and Photometer (NISP) onboard Euclid includes several optical elements in its path, which introduce artefacts into the data from non-nominal light paths. To ensure uncontaminated source photometry, these artefacts must be accurately accounted for. This paper focuses on two specific optical features in NISP's photometric data (NISP-P): ghosts caused by the telescope's dichroic beamsplitter, and the bandpass filters within the NISP fore-optics. Both ghost types exhibit a characteristic morphology and are offset from the originating stars. The offsets are well modelled using 2D polynomials, with only stars brighter than approximately 10 magnitudes in each filter producing significant ghost contributions. The masking radii for these ghosts depend on both the source-star brightness and the filter wavelength, ranging from 20 to 40 pixels. We present the final relations and models used in the near-infrared (NIR) data pipeline to mask these ghosts for Euclid's Quick Data Release (Q1).         |"
      ],
      "text/plain": [
       "[2507.11072] Euclid VI. NISP-P optical ghosts\n",
       "\tE. Collaboration, et al. -- incl., <mark>K. Paterson</mark>, <mark>M. Schirmer</mark>, <mark>K. Jahnke</mark>"
      ]
     },
     "metadata": {},
     "output_type": "display_data"
    },
    {
     "data": {
      "text/markdown": [
       "\n",
       "|||\n",
       "|---:|:---|\n",
       "| [![arXiv](https://img.shields.io/badge/arXiv-2507.11156-b31b1b.svg)](https://arxiv.org/abs/2507.11156) | **Hydrodynamical simulations of the vertical shear instability with dynamic dust and cooling rates in protoplanetary disks**  |\n",
       "|| Y. Fukuhara, <mark>M. Flock</mark>, S. Okuzumi, R. T. Tominaga |\n",
       "|*Appeared on*| *2025-07-16*|\n",
       "|*Comments*| *16 pages, 20 figures, 1 table, Accepted for publication in Astronomy & Astrophysics (A&A)*|\n",
       "|**Abstract**|            Turbulence in protoplanetary disks affects dust evolution and planetesimal formation. The vertical shear instability (VSI) is one of the candidate turbulence-driving mechanisms in the outer disk region. Since the VSI requires rapid gas cooling, dust grains in disks can influence and potentially control VSI-driven turbulence. However, VSI-driven turbulence has strong vertical motion, causing vertical dust diffusion. As a result, it remains unclear how turbulent structures and dust distributions form. We aim to clarify whether the VSI can achieve a quasi-steady dust profile under cooling rate evolution associated with turbulently diffusing dust. We also elucidate the dependence of the dust size and dust-to-gas mass ratio on the realization and persistence of the equilibrium state. We perform global two-dimensional hydrodynamical simulations of an axisymmetric disk to investigate how the VSI drives turbulence and maintains a balance between dust settling and diffusion. These simulations account for the dynamic interplay between dust distribution, cooling rates, and turbulence. We find that VSI mixing, dust settling, and local cooling reach an equilibrium, forming a thick dust layer with a dimensionless vertical mixing coefficient of approximately 10^{-3}. The ability of the VSI to sustain this state also depends on the dust size and dust-to-gas mass ratio. Larger grains or lower mass ratios weaken turbulence, leading to dust settling. The condition of equilibrium state existence is consistent with the prediction of the semi-analytic model presented by Fukuhara & Okuzumi (2024). Our results indicate that efficient turbulent dust mixing and efficient cooling can occur simultaneously. They also imply that turbulence in VSI-dominated disks has different intensity levels depending on the grain size. This suggests that the efficiency of dust growth can depend on the VSI in protoplanetary disks.         |"
      ],
      "text/plain": [
       "[2507.11156] Hydrodynamical simulations of the vertical shear instability with dynamic dust and cooling rates in protoplanetary disks\n",
       "\tY. Fukuhara, <mark>M. Flock</mark>, S. Okuzumi, R. T. Tominaga"
      ]
     },
     "metadata": {},
     "output_type": "display_data"
    },
    {
     "data": {
      "text/markdown": [
       "\n",
       "|||\n",
       "|---:|:---|\n",
       "| [![arXiv](https://img.shields.io/badge/arXiv-2507.11326-b31b1b.svg)](https://arxiv.org/abs/2507.11326) | **Euclid preparation. Overview of Euclid infrared detector performance from ground tests**  |\n",
       "|| E. Collaboration, et al. -- incl., <mark>K. Jahnke</mark> |\n",
       "|*Appeared on*| *2025-07-16*|\n",
       "|*Comments*| *22 pages, 20 figures, 4 pages of annexes. Submitted to A&A*|\n",
       "|**Abstract**|            The paper describes the objectives, design and findings of the pre-launch ground characterisation campaigns of the Euclid infrared detectors. The pixel properties, including baseline, bad pixels, quantum efficiency, inter pixel capacitance, quantum efficiency, dark current, readout noise, conversion gain, response nonlinearity, and image persistence were measured and characterised for each pixel. We describe in detail the test flow definition that allows us to derive the pixel properties and we present the data acquisition and data quality check software implemented for this purpose. We also outline the measurement protocols of all the pixel properties presented and we provide a comprehensive overview of the performance of the Euclid infrared detectors as derived after tuning the operating parameters of the detectors. The main conclusion of this work is that the performance of the infrared detectors Euclid meets the requirements. Pixels classified as non-functioning accounted for less than 0.2% of all science pixels. IPC coupling is minimal and crosstalk between adjacent pixels is less than 1% between adjacent pixels. 95% of the pixels show a QE greater than 80% across the entire spectral range of the Euclid mission. The conversion gain is approximately 0.52 ADU/e-, with a variation less than 1% between channels of the same detector. The reset noise is approximately equal to 23 ADU after reference pixels correction. The readout noise of a single frame is approximately 13 $e^-$ while the signal estimator noise is measured at 7 $e^-$ in photometric mode and 9 $e^-$ in spectroscopic acquisition mode. The deviation from linear response at signal levels up to 80 k$e^-$ is less than 5% for 95% of the pixels. Median persistence amplitudes are less than 0.3% of the signal, though persistence exhibits significant spatial variation and differences between detectors.         |"
      ],
      "text/plain": [
       "[2507.11326] Euclid preparation. Overview of Euclid infrared detector performance from ground tests\n",
       "\tE. Collaboration, et al. -- incl., <mark>K. Jahnke</mark>"
      ]
     },
     "metadata": {},
     "output_type": "display_data"
    },
    {
     "data": {
      "text/markdown": [
       "## Failed papers"
      ],
      "text/plain": [
       "<IPython.core.display.Markdown object>"
      ]
     },
     "metadata": {},
     "output_type": "display_data"
    },
    {
     "data": {
      "text/markdown": [
       "\n",
       "|||\n",
       "|---:|:---|\n",
       "| [![arXiv](https://img.shields.io/badge/arXiv-2507.10829-b31b1b.svg)](https://arxiv.org/abs/2507.10829) | **VegasAfterglow: A High-Performance Framework for Gamma-Ray Burst Afterglows**  |\n",
       "|| <mark>Y. Wang</mark>, C. Chen, B. Zhang |\n",
       "|*Appeared on*| *2025-07-16*|\n",
       "|*Comments*| *Submitted to Journal of High Energy Astrophysics. Comments are welcome. Code available at this https URL*|\n",
       "|**Abstract**|            Gamma-ray bursts (GRBs) are the most luminous astrophysical transients, known to be associated with core collapse of massive stars or mergers of two compact objects such as two neutron stars. They are followed by multi-wavelength afterglow emission originating from the deceleration of the relativistic jets by the ambient medium. The study of after emission offers crucial insights into the physics of relativistic shocks, the properties of the circumburst environment, as well as the physical and geometrical structure of relativistic jets, as well as the viewing geometry of the observer. We present VegasAfterglow, a newly developed, high-performance C++ framework designed for modeling GRB afterglows with flexibility and computational efficiency as keynotes of design. The framework self-consistently solves forward and reverse shock dynamics and calculates synchrotron (including self-absorption or all spectral regimes) and inverse Compton radiation (including Klein-Nishina corrections); it can handle arbitrary user-defined ambient density profiles, central engine activity histories, viewing angles, and the jet structures of energy, Lorentz factor, and magnetization profiles. It supports both relativistic and non-relativistic regimes and includes lateral jet spreading effects. In this paper, we describe the numerical implementation of the framework and assess its computational performance. Our results demonstrate that VegasAfterglow is well-suited for interpreting current and future multi-wavelength observations in the era of multi-messenger astronomy.         |\n",
       "|<p style=\"color:green\"> **ERROR** </p>| <p style=\"color:green\">affiliation error: mpia.affiliation_verifications: 'Heidelberg' keyword not found.</p> |"
      ],
      "text/plain": [
       "<IPython.core.display.Markdown object>"
      ]
     },
     "metadata": {},
     "output_type": "display_data"
    }
   ],
   "source": [
    "import datetime\n",
    "today = str(datetime.date.today())\n",
    "logfile = f\"_build/html/logs/log-{today}.md\"\n",
    "\n",
    "\n",
    "with open(logfile, 'w') as logs:\n",
    "    # Success\n",
    "    logs.write(f'# Arxiv on Deck 2: Logs - {today}\\n\\n')\n",
    "    logs.write(\"\"\"* Arxiv had {0:,d} new papers\\n\"\"\".format(len(new_papers)))\n",
    "    logs.write(\"\"\"    * {0:,d} with possible author matches\\n\\n\"\"\".format(len(candidates)))\n",
    "    logs.write(\"## Sucessful papers\\n\\n\")\n",
    "    display(Markdown(\"## Successful papers\"))\n",
    "    success = [k[0] for k in documents]\n",
    "    for candid in candidates:\n",
    "        if candid['identifier'].split(':')[-1] in success:\n",
    "            display(candid)\n",
    "            logs.write(candid.generate_markdown_text() + '\\n\\n')\n",
    "\n",
    "    ## failed\n",
    "    logs.write(\"## Failed papers\\n\\n\")\n",
    "    display(Markdown(\"## Failed papers\"))\n",
    "    failed = sorted(failed, key=lambda x: x[1])\n",
    "    current_reason = \"\"\n",
    "    for paper, reason in failed:\n",
    "        if 'affiliation' in reason:\n",
    "            color = 'green'\n",
    "        else:\n",
    "            color = 'red'\n",
    "        data = Markdown(\n",
    "                paper.generate_markdown_text() + \n",
    "                f'\\n|<p style=\"color:{color:s}\"> **ERROR** </p>| <p style=\"color:{color:s}\">{reason:s}</p> |'\n",
    "               )\n",
    "        if reason != current_reason:\n",
    "            logs.write(f'### {reason:s} \\n\\n')\n",
    "            current_reason = reason\n",
    "        logs.write(data.data + '\\n\\n')\n",
    "        \n",
    "        # only display here the important errors (all in logs)\n",
    "        # if color in ('red',):\n",
    "        display(data)"
   ]
  },
  {
   "cell_type": "markdown",
   "id": "472d20ee",
   "metadata": {
    "papermill": {
     "duration": 0.004375,
     "end_time": "2025-07-16T04:31:45.353777",
     "exception": false,
     "start_time": "2025-07-16T04:31:45.349402",
     "status": "completed"
    },
    "tags": []
   },
   "source": [
    "## Export documents\n",
    "\n",
    "We now write the .md files and export relevant images"
   ]
  },
  {
   "cell_type": "code",
   "execution_count": 7,
   "id": "d426aed9",
   "metadata": {
    "execution": {
     "iopub.execute_input": "2025-07-16T04:31:45.363678Z",
     "iopub.status.busy": "2025-07-16T04:31:45.363212Z",
     "iopub.status.idle": "2025-07-16T04:31:45.370143Z",
     "shell.execute_reply": "2025-07-16T04:31:45.369477Z"
    },
    "papermill": {
     "duration": 0.012924,
     "end_time": "2025-07-16T04:31:45.371094",
     "exception": false,
     "start_time": "2025-07-16T04:31:45.358170",
     "status": "completed"
    },
    "tags": []
   },
   "outputs": [],
   "source": [
    "def export_markdown_summary(md: str, md_fname:str, directory: str):\n",
    "    \"\"\"Export MD document and associated relevant images\"\"\"\n",
    "    import os\n",
    "    import shutil\n",
    "    import re\n",
    "\n",
    "    if (os.path.exists(directory) and not os.path.isdir(directory)):\n",
    "        raise RuntimeError(f\"a non-directory file exists with name {directory:s}\")\n",
    "\n",
    "    if (not os.path.exists(directory)):\n",
    "        print(f\"creating directory {directory:s}\")\n",
    "        os.mkdir(directory)\n",
    "\n",
    "    fig_fnames = (re.compile(r'\\[Fig.*\\]\\((.*)\\)').findall(md) + \n",
    "                  re.compile(r'\\<img src=\"([^>\\s]*)\"[^>]*/>').findall(md))\n",
    "    print(\"found figures\", fig_fnames)\n",
    "    for fname in fig_fnames:\n",
    "        if 'http' in fname:\n",
    "            # No need to copy online figures\n",
    "            continue\n",
    "        if not os.path.exists(fname):\n",
    "            print(\"file not found\", fname)\n",
    "            continue\n",
    "        print(\"copying \", fname, \"to\", directory)\n",
    "        destdir = os.path.join(directory, os.path.dirname(fname))\n",
    "        destfname = os.path.join(destdir, os.path.basename(fname))\n",
    "        try:\n",
    "            os.makedirs(destdir)\n",
    "        except FileExistsError:\n",
    "            pass\n",
    "        shutil.copy(fname, destfname)\n",
    "    with open(os.path.join(directory, md_fname), 'w') as fout:\n",
    "        fout.write(md)\n",
    "    print(\"exported in \", os.path.join(directory, md_fname))\n",
    "    [print(\"    + \" + os.path.join(directory,fk)) for fk in fig_fnames]"
   ]
  },
  {
   "cell_type": "code",
   "execution_count": 8,
   "id": "014d04a4",
   "metadata": {
    "execution": {
     "iopub.execute_input": "2025-07-16T04:31:45.380839Z",
     "iopub.status.busy": "2025-07-16T04:31:45.380474Z",
     "iopub.status.idle": "2025-07-16T04:31:45.392259Z",
     "shell.execute_reply": "2025-07-16T04:31:45.391579Z"
    },
    "papermill": {
     "duration": 0.01778,
     "end_time": "2025-07-16T04:31:45.393301",
     "exception": false,
     "start_time": "2025-07-16T04:31:45.375521",
     "status": "completed"
    },
    "tags": []
   },
   "outputs": [
    {
     "name": "stdout",
     "output_type": "stream",
     "text": [
      "found figures ['tmp_2507.11072/./figures/dichroic_wave.png', 'tmp_2507.11072/./figures/filter_wave.png', 'tmp_2507.11072/./figures/dichroic_radius_mag.png', 'tmp_2507.11072/./figures/filter_cen_radius_mag.png', 'tmp_2507.11072/./figures/dichroic_flux.png', 'tmp_2507.11072/./figures/filter_flux.png']\n",
      "copying  tmp_2507.11072/./figures/dichroic_wave.png to _build/html/\n",
      "copying  tmp_2507.11072/./figures/filter_wave.png to _build/html/\n",
      "copying  tmp_2507.11072/./figures/dichroic_radius_mag.png to _build/html/\n",
      "copying  tmp_2507.11072/./figures/filter_cen_radius_mag.png to _build/html/\n",
      "copying  tmp_2507.11072/./figures/dichroic_flux.png to _build/html/\n",
      "copying  tmp_2507.11072/./figures/filter_flux.png to _build/html/\n",
      "exported in  _build/html/2507.11072.md\n",
      "    + _build/html/tmp_2507.11072/./figures/dichroic_wave.png\n",
      "    + _build/html/tmp_2507.11072/./figures/filter_wave.png\n",
      "    + _build/html/tmp_2507.11072/./figures/dichroic_radius_mag.png\n",
      "    + _build/html/tmp_2507.11072/./figures/filter_cen_radius_mag.png\n",
      "    + _build/html/tmp_2507.11072/./figures/dichroic_flux.png\n",
      "    + _build/html/tmp_2507.11072/./figures/filter_flux.png\n",
      "found figures ['tmp_2507.11156/./colormap_vz_rhodgINI_D2G1e-2_a1e-3_h.png', 'tmp_2507.11156/./colormap_time_vz_rhodgINI_D2G1e-2_a1e-3_h.png', 'tmp_2507.11156/./vertical_profile_rhod.png']\n",
      "copying  tmp_2507.11156/./colormap_vz_rhodgINI_D2G1e-2_a1e-3_h.png to _build/html/\n",
      "copying  tmp_2507.11156/./colormap_time_vz_rhodgINI_D2G1e-2_a1e-3_h.png to _build/html/\n",
      "copying  tmp_2507.11156/./vertical_profile_rhod.png to _build/html/\n",
      "exported in  _build/html/2507.11156.md\n",
      "    + _build/html/tmp_2507.11156/./colormap_vz_rhodgINI_D2G1e-2_a1e-3_h.png\n",
      "    + _build/html/tmp_2507.11156/./colormap_time_vz_rhodgINI_D2G1e-2_a1e-3_h.png\n",
      "    + _build/html/tmp_2507.11156/./vertical_profile_rhod.png\n",
      "found figures ['tmp_2507.11326/./figures/pers_nonsat_TV1.png', 'tmp_2507.11326/./figures/H2RG_geom.png', 'tmp_2507.11326/./figures/nl_ref_lin.png']\n",
      "copying  tmp_2507.11326/./figures/pers_nonsat_TV1.png to _build/html/\n",
      "copying  tmp_2507.11326/./figures/H2RG_geom.png to _build/html/\n",
      "copying  tmp_2507.11326/./figures/nl_ref_lin.png to _build/html/\n",
      "exported in  _build/html/2507.11326.md\n",
      "    + _build/html/tmp_2507.11326/./figures/pers_nonsat_TV1.png\n",
      "    + _build/html/tmp_2507.11326/./figures/H2RG_geom.png\n",
      "    + _build/html/tmp_2507.11326/./figures/nl_ref_lin.png\n"
     ]
    }
   ],
   "source": [
    "for paper_id, md in documents:\n",
    "    export_markdown_summary(md, f\"{paper_id:s}.md\", '_build/html/')"
   ]
  },
  {
   "cell_type": "markdown",
   "id": "f087a0a7",
   "metadata": {
    "papermill": {
     "duration": 0.004473,
     "end_time": "2025-07-16T04:31:45.402490",
     "exception": false,
     "start_time": "2025-07-16T04:31:45.398017",
     "status": "completed"
    },
    "tags": []
   },
   "source": [
    "## Display the papers\n",
    "\n",
    "Not necessary but allows for a quick check."
   ]
  },
  {
   "cell_type": "code",
   "execution_count": 9,
   "id": "fd25f625",
   "metadata": {
    "execution": {
     "iopub.execute_input": "2025-07-16T04:31:45.412332Z",
     "iopub.status.busy": "2025-07-16T04:31:45.412130Z",
     "iopub.status.idle": "2025-07-16T04:31:45.419014Z",
     "shell.execute_reply": "2025-07-16T04:31:45.418455Z"
    },
    "papermill": {
     "duration": 0.012999,
     "end_time": "2025-07-16T04:31:45.420026",
     "exception": false,
     "start_time": "2025-07-16T04:31:45.407027",
     "status": "completed"
    },
    "scrolled": false,
    "tags": []
   },
   "outputs": [
    {
     "data": {
      "text/markdown": [
       "<div class=\"macros\" style=\"visibility:hidden;\">\n",
       "$\\newcommand{\\ensuremath}{}$\n",
       "$\\newcommand{\\xspace}{}$\n",
       "$\\newcommand{\\object}[1]{\\texttt{#1}}$\n",
       "$\\newcommand{\\farcs}{{.}''}$\n",
       "$\\newcommand{\\farcm}{{.}'}$\n",
       "$\\newcommand{\\arcsec}{''}$\n",
       "$\\newcommand{\\arcmin}{'}$\n",
       "$\\newcommand{\\ion}[2]{#1#2}$\n",
       "$\\newcommand{\\textsc}[1]{\\textrm{#1}}$\n",
       "$\\newcommand{\\hl}[1]{\\textrm{#1}}$\n",
       "$\\newcommand{\\footnote}[1]{}$\n",
       "$\\newcommand{\\orcid}[1]$</div>\n",
       "\n",
       "\n",
       "\n",
       "<div id=\"title\">\n",
       "\n",
       "# Euclid: VI. NISP-P optical ghosts\n",
       "\n",
       "</div>\n",
       "<div id=\"comments\">\n",
       "\n",
       "[![arXiv](https://img.shields.io/badge/arXiv-2507.11072-b31b1b.svg)](https://arxiv.org/abs/2507.11072)<mark>Appeared on: 2025-07-16</mark> -  _13 pages, 10 figures, submitted_\n",
       "\n",
       "</div>\n",
       "<div id=\"authors\">\n",
       "\n",
       "E. Collaboration, et al. -- incl., <mark>K. Paterson</mark>, <mark>M. Schirmer</mark>, <mark>K. Jahnke</mark>\n",
       "\n",
       "</div>\n",
       "<div id=\"abstract\">\n",
       "\n",
       "**Abstract:** The Near-Infrared Spectrometer and Photometer (NISP) onboard $\\Euclid$ includes several optical elements in its path, which introduce artefacts into the data from non-nominal light paths. To ensure uncontaminated source photometry, these artefacts must be accurately accounted for. This paper focuses on two specific optical features in NISP's photometric data (NISP-P): ghosts caused by the telescope's dichroic beamsplitter, and the bandpass filters within the NISP fore-optics. Both ghost types  exhibit a characteristic morphology and are offset from the originating stars. The offsets are well modelled using 2D polynomials, with only stars brighter than approximately 10 magnitudes in each filter producing significant ghost contributions. The masking radii for these ghosts depend on both the source-star brightness and the filter wavelength, ranging from 20 to 40 pixels. We present the final relations and models used in the near-infrared (NIR) data pipeline to mask these ghosts for $\\Euclid$ 's Quick Data Release (Q1).\n",
       "\n",
       "</div>\n",
       "\n",
       "<div id=\"div_fig1\">\n",
       "\n",
       "<img src=\"tmp_2507.11072/./figures/dichroic_wave.png\" alt=\"Fig3.1\" width=\"50%\"/><img src=\"tmp_2507.11072/./figures/filter_wave.png\" alt=\"Fig3.2\" width=\"50%\"/>\n",
       "\n",
       "**Figure 3. -** Shape of the dichroic ghost (_top row_) and filter ghost (_lower rows_) as a function of waveband. For the dichroic ghosts, images are made from a median combination of 60 $\\times$ 60 pixel (18 $\\times$ 18$\\arcsec$) cutouts, restricted to one region of the FPA and a single magnitude bin. For the filter ghosts, since there is a dependency of the shape on the FPA position, images are made from a median combination of 80 $\\times$ 80 pixel (24 $\\times$ 24$\\arcsec$) cutouts, restricted to either the central region (middle) or a corner region (bottom) of the FPA and a single magnitude bin. The number of cutouts used to create each median is given in the top right of each median cutout. (*fig:wave*)\n",
       "\n",
       "</div>\n",
       "<div id=\"div_fig2\">\n",
       "\n",
       "<img src=\"tmp_2507.11072/./figures/dichroic_radius_mag.png\" alt=\"Fig8.1\" width=\"50%\"/><img src=\"tmp_2507.11072/./figures/filter_cen_radius_mag.png\" alt=\"Fig8.2\" width=\"50%\"/>\n",
       "\n",
       "**Figure 8. -** The radius-magnitude relation, given by the coefficients in \\cref{table:rad}, for each filter for the dichroic ghost (_left_) and filter ghost (_right_); described in \\cref{sc:Rad_di}. (*fig:rad_mag*)\n",
       "\n",
       "</div>\n",
       "<div id=\"div_fig3\">\n",
       "\n",
       "<img src=\"tmp_2507.11072/./figures/dichroic_flux.png\" alt=\"Fig2.1\" width=\"50%\"/><img src=\"tmp_2507.11072/./figures/filter_flux.png\" alt=\"Fig2.2\" width=\"50%\"/>\n",
       "\n",
       "**Figure 2. -** Appearance of the dichroic ghost (_top row_) and filter ghost (_bottom row_) as a function of source-star brightness. For the dichroic ghosts, images are made from a median combination of 60 $\\times$ 60 pixel (18 $\\times$ 18$\\arcsec$) cutouts, restricted to one region of the FPA for the \\HE band. For the filter ghosts, images are made from a median combination of 80 $\\times$ 80 pixel (24 $\\times$ 24$\\arcsec$) cutouts, restricted to the central region of the FPA for the \\YE band. The number of cutouts used to create each median is given in the top right of each median cutout. (*fig:flux*)\n",
       "\n",
       "</div><div id=\"qrcode\"><img src=https://api.qrserver.com/v1/create-qr-code/?size=100x100&data=\"https://arxiv.org/abs/2507.11072\"></div>"
      ],
      "text/plain": [
       "<IPython.core.display.Markdown object>"
      ]
     },
     "metadata": {},
     "output_type": "display_data"
    },
    {
     "data": {
      "text/markdown": [
       "<div class=\"macros\" style=\"visibility:hidden;\">\n",
       "$\\newcommand{\\ensuremath}{}$\n",
       "$\\newcommand{\\xspace}{}$\n",
       "$\\newcommand{\\object}[1]{\\texttt{#1}}$\n",
       "$\\newcommand{\\farcs}{{.}''}$\n",
       "$\\newcommand{\\farcm}{{.}'}$\n",
       "$\\newcommand{\\arcsec}{''}$\n",
       "$\\newcommand{\\arcmin}{'}$\n",
       "$\\newcommand{\\ion}[2]{#1#2}$\n",
       "$\\newcommand{\\textsc}[1]{\\textrm{#1}}$\n",
       "$\\newcommand{\\hl}[1]{\\textrm{#1}}$\n",
       "$\\newcommand{\\footnote}[1]{}$</div>\n",
       "\n",
       "\n",
       "\n",
       "<div id=\"title\">\n",
       "\n",
       "# Hydrodynamical simulations of the vertical shear instability with dynamic dust and cooling rates in protoplanetary disks\n",
       "\n",
       "</div>\n",
       "<div id=\"comments\">\n",
       "\n",
       "[![arXiv](https://img.shields.io/badge/arXiv-2507.11156-b31b1b.svg)](https://arxiv.org/abs/2507.11156)<mark>Appeared on: 2025-07-16</mark> -  _16 pages, 20 figures, 1 table, Accepted for publication in Astronomy & Astrophysics (A&A)_\n",
       "\n",
       "</div>\n",
       "<div id=\"authors\">\n",
       "\n",
       "Y. Fukuhara, <mark>M. Flock</mark>, S. Okuzumi, R. T. Tominaga\n",
       "\n",
       "</div>\n",
       "<div id=\"abstract\">\n",
       "\n",
       "**Abstract:** Turbulence in protoplanetary disks affects dust evolution and planetesimal formation.The vertical shear instability (VSI) is one of the candidate turbulence-driving mechanisms in the outer disk region.Since the VSI requires rapid gas cooling, dust particles in disks can influence and potentially control VSI-driven turbulence.However, VSI-driven turbulence has strong vertical motion, causing vertical diffusion of particles.As a result of this interaction, it remains unclear how turbulent structures and dust distributions form and persist. We aim to clarify whether the VSI can drive turbulence and achieve a quasi-steady dust distribution under cooling rate evolution associated with turbulently diffusing dust.We also elucidate the dependence of the dust size and dust-to-gas mass ratio on the realization and persistence of the equilibrium state. We perform global two-dimensional hydrodynamical simulations of an axisymmetric protoplanetary disk to investigate how the VSI drives turbulence and maintains a balance between dust settling and diffusion.These simulations account for the dynamic interplay between dust distribution, cooling rates, and turbulence. We find that VSI mixing, dust settling, and local dust cooling reach an equilibrium, forming a thick dust layer with a dimensionless vertical mixing coefficient of approximately $\\alpha_{\\rm diff} \\approx 10^{-3}$ .The ability of the VSI to sustain this state also depends on the dust size and dust-to-gas mass ratio.Larger grains or lower mass ratios weaken turbulence, leading to dust settling.The condition of equilibrium state existence is consistent with the prediction of the semi-analytic model presented by [ and Fukuhara (2024)]() . Our results indicate that efficient turbulent dust mixing and efficient cooling can occur simultaneously.They also imply that turbulence in VSI-dominated disks has different levels of intensity depending on the grain size.This suggests that the efficiency of dust growth can depend on the VSI in protoplanetary disks.\n",
       "\n",
       "</div>\n",
       "\n",
       "<div id=\"div_fig1\">\n",
       "\n",
       "<img src=\"tmp_2507.11156/./colormap_vz_rhodgINI_D2G1e-2_a1e-3_h.png\" alt=\"Fig15\" width=\"100%\"/>\n",
       "\n",
       "**Figure 15. -** Gas vertical velocity $v_{z,\\rm gas}/c_{\\rm s}$(left) and ratio of dust and gas density $(\\rho_{\\rm dust}/\\rho_{\\rm gas})/Z_{\\rm D2G}$(right) for a run with $(Z_{\\rm D2G}, a) = (0.01, 10 {\\rm \\mu m})$ in the dynamic-dust simulations, as a function of $R$ and $z$ at the end of the simulation ($1000$ orbits at $20 {\\rm au}$). (*fig:colormap_vz_rhodgINI_D2G1e-2_a1e-3_h*)\n",
       "\n",
       "</div>\n",
       "<div id=\"div_fig2\">\n",
       "\n",
       "<img src=\"tmp_2507.11156/./colormap_time_vz_rhodgINI_D2G1e-2_a1e-3_h.png\" alt=\"Fig16\" width=\"100%\"/>\n",
       "\n",
       "**Figure 16. -** Gas vertical velocity $v_{z,\\rm gas}/c_{\\rm s}$(left) and ratio of dust and gas density $(\\rho_{\\rm dust}/\\rho_{\\rm gas})/Z_{\\rm D2G}$(right) for a run with $(Z_{\\rm D2G}, a) = (0.01, 10 {\\rm \\mu m})$ in the dynamic-dust simulations, as a function of time and $z/H_{\\rm gas}$ at $R=40 {\\rm au}$. (*fig:colormap_time_vzINI_rhodg_D2G1e-2_a1e-3_h*)\n",
       "\n",
       "</div>\n",
       "<div id=\"div_fig3\">\n",
       "\n",
       "<img src=\"tmp_2507.11156/./vertical_profile_rhod.png\" alt=\"Fig2\" width=\"100%\"/>\n",
       "\n",
       "**Figure 2. -** Vertical profiles of the dust density $\\rho_{\\rm dust}$ normalized by the initial dust density at the midplane $\\rho_{\\rm dust,ini}(z=0)$(upper panel), and ratio of dust and gas densities $\\rho_{\\rm dust}/\\rho_{\\rm gas}$ normalized by the initial dust-to-gas mass ratio $Z_{\\rm D2G}$(lower panel), at $R=40 {\\rm au}$ for a run with $(Z_{\\rm D2G}, a) = (0.01, 10 {\\rm \\mu m})$ in the dynamic-dust simulations. In the upper panel, the dashed curve shows a Gaussian fitting of $\\rho_{\\rm dust}$ within $|z|<H_{\\rm dg}$, and the vertical dotted lines mark the height of the dust scale height $H_{\\rm dust}$. The horizontal dashed and dotted lines in the lower panel mark $\\rho_{\\rm dust}/\\rho_{\\rm gas}=Z_{\\rm D2G}/2$ and $Z_{\\rm D2G}$, respectively. The gray regions in both panels map the dust layer defined by $H_{\\rm dg}$. (*fig:vertical_profile_rhod*)\n",
       "\n",
       "</div><div id=\"qrcode\"><img src=https://api.qrserver.com/v1/create-qr-code/?size=100x100&data=\"https://arxiv.org/abs/2507.11156\"></div>"
      ],
      "text/plain": [
       "<IPython.core.display.Markdown object>"
      ]
     },
     "metadata": {},
     "output_type": "display_data"
    },
    {
     "data": {
      "text/markdown": [
       "<div class=\"macros\" style=\"visibility:hidden;\">\n",
       "$\\newcommand{\\ensuremath}{}$\n",
       "$\\newcommand{\\xspace}{}$\n",
       "$\\newcommand{\\object}[1]{\\texttt{#1}}$\n",
       "$\\newcommand{\\farcs}{{.}''}$\n",
       "$\\newcommand{\\farcm}{{.}'}$\n",
       "$\\newcommand{\\arcsec}{''}$\n",
       "$\\newcommand{\\arcmin}{'}$\n",
       "$\\newcommand{\\ion}[2]{#1#2}$\n",
       "$\\newcommand{\\textsc}[1]{\\textrm{#1}}$\n",
       "$\\newcommand{\\hl}[1]{\\textrm{#1}}$\n",
       "$\\newcommand{\\footnote}[1]{}$\n",
       "$\\newcommand{\\WG}[1]{\\textcolor{green}{#1}}$\n",
       "$\\newcommand{\\as}[1]{\\textcolor{cyan}{#1}}$\n",
       "$\\newcommand{\\Ha}{\\ensuremath{\\text{H}\\alpha} }$\n",
       "$\\newcommand{\\TBD}[1]{\\textcolor{red}{\\bf #1}}$\n",
       "$\\newcommand{\\orcid}[1]$</div>\n",
       "\n",
       "\n",
       "\n",
       "<div id=\"title\">\n",
       "\n",
       "# $\\Euclid$ preparation: TBD. Overview of $\\Euclid$ infrared detector performance from ground tests\n",
       "\n",
       "</div>\n",
       "<div id=\"comments\">\n",
       "\n",
       "[![arXiv](https://img.shields.io/badge/arXiv-2507.11326-b31b1b.svg)](https://arxiv.org/abs/2507.11326)<mark>Appeared on: 2025-07-16</mark> -  _22 pages, 20 figures, 4 pages of annexes. Submitted to A&A_\n",
       "\n",
       "</div>\n",
       "<div id=\"authors\">\n",
       "\n",
       "E. Collaboration, et al. -- incl., <mark>K. Jahnke</mark>\n",
       "\n",
       "</div>\n",
       "<div id=\"abstract\">\n",
       "\n",
       "**Abstract:** The paper describes the objectives, design and findings of the pre-launch ground characterisation campaigns of the $\\Euclid$ infrared detectors. The aim of the ground characterisations is to evaluate the performance of the detectors, to calibrate the pixel response, and to derive the pixel response correction methods. The detectors have been tested and characterised in the facilities set up for this purpose. The pixel properties, including baseline, bad pixels, quantum efficiency, inter pixel capacitance, quantum efficiency, dark current, readout noise, conversion gain, response nonlinearity, and image persistence were measured and characterised for each pixel. We describe in detail the test flow definition that allows us to derive the pixel properties and we present the data acquisition and data quality check software implemented for this purpose. We also outline the measurement protocols of all the pixel properties presented and we provide a comprehensive overview of the performance of the $\\Euclid$ infrared detectors as derived after tuning the operating parameters of the detectors.The main conclusion of this work is that the performance of the infrared detectors $\\Euclid$ meets the requirements. Pixels classified as non-functioning accounted for less than 0.2 \\% of all science pixels. IPC coupling is minimal and crosstalk between adjacent pixels is less than 1 \\% between adjacent pixels. 95 \\% of the pixels show a QE greater than 80 \\% across the entire spectral range of the Euclid mission. The conversion gain is approximately 0.52 ADU/e $^-$ , with a variation less than 1 \\% between channels of the same detector. The reset noise is approximately equal to 23 ADU after reference pixels correction. The readout noise of a single frame is approximately $\\SI{13}{e^-}$ while the signal estimator noise is measured at 7 e $^-$ in photometric mode and 9 e $^-$ in spectroscopic acquisition mode. The deviation from linear response at signal levels up to 80 ke $^-$ is less than 5 \\% for 95 \\% of the pixels. Median persistence amplitudes are less than 0.3 \\% of the signal, though persistence exhibits significant spatial variation and differences between detectors.\n",
       "\n",
       "</div>\n",
       "\n",
       "<div id=\"div_fig1\">\n",
       "\n",
       "<img src=\"tmp_2507.11326/./figures/pers_nonsat_TV1.png\" alt=\"Fig17\" width=\"100%\"/>\n",
       "\n",
       "**Figure 17. -** Persistence amplitudes in percentage of the previous flat-field illumination below saturation. (*fig:pers_det_structures*)\n",
       "\n",
       "</div>\n",
       "<div id=\"div_fig2\">\n",
       "\n",
       "<img src=\"tmp_2507.11326/./figures/H2RG_geom.png\" alt=\"Fig3\" width=\"100%\"/>\n",
       "\n",
       "**Figure 3. -**  H2RG frame geometry definition with reference pixels on the edges of the array in the 32-output channel mode. The read directions are indicated by the blue arrows. The widths are not in scale.  (*fig:frame_geometry*)\n",
       "\n",
       "</div>\n",
       "<div id=\"div_fig3\">\n",
       "\n",
       "<img src=\"tmp_2507.11326/./figures/nl_ref_lin.png\" alt=\"Fig15\" width=\"100%\"/>\n",
       "\n",
       "**Figure 15. -**  Example of linear flux definition using ramps acquired in UTR(394). Fit performed using 76 frames $S_\\textrm{lin}^{(76)}$ and 394 frames $S_\\textrm{lin}^{(394)}$. The difference per pixel of first order coefficients was computed and the relative differences between the median signals per detector are shown for two detectors: low persistence SCA18452 (blue points) a higher persistence SCA18267 (red squares). (*fig:nl_ref_lin*)\n",
       "\n",
       "</div><div id=\"qrcode\"><img src=https://api.qrserver.com/v1/create-qr-code/?size=100x100&data=\"https://arxiv.org/abs/2507.11326\"></div>"
      ],
      "text/plain": [
       "<IPython.core.display.Markdown object>"
      ]
     },
     "metadata": {},
     "output_type": "display_data"
    }
   ],
   "source": [
    "[display(Markdown(k[1])) for k in documents];"
   ]
  },
  {
   "cell_type": "markdown",
   "id": "873873a4",
   "metadata": {
    "papermill": {
     "duration": 0.005002,
     "end_time": "2025-07-16T04:31:45.430289",
     "exception": false,
     "start_time": "2025-07-16T04:31:45.425287",
     "status": "completed"
    },
    "tags": []
   },
   "source": [
    "# Create HTML index"
   ]
  },
  {
   "cell_type": "code",
   "execution_count": 10,
   "id": "cf665672",
   "metadata": {
    "execution": {
     "iopub.execute_input": "2025-07-16T04:31:45.441472Z",
     "iopub.status.busy": "2025-07-16T04:31:45.440851Z",
     "iopub.status.idle": "2025-07-16T04:31:45.448632Z",
     "shell.execute_reply": "2025-07-16T04:31:45.447984Z"
    },
    "papermill": {
     "duration": 0.014452,
     "end_time": "2025-07-16T04:31:45.449651",
     "exception": false,
     "start_time": "2025-07-16T04:31:45.435199",
     "status": "completed"
    },
    "tags": []
   },
   "outputs": [
    {
     "name": "stdout",
     "output_type": "stream",
     "text": [
      "143  publications files modified in the last 7 days.\n"
     ]
    }
   ],
   "source": [
    "from datetime import datetime, timedelta, timezone\n",
    "from glob import glob\n",
    "import os\n",
    "\n",
    "files = glob('_build/html/*.md')\n",
    "days = 7\n",
    "now = datetime.today()\n",
    "res = []\n",
    "for fk in files:\n",
    "    stat_result = os.stat(fk).st_ctime\n",
    "    modified = datetime.fromtimestamp(stat_result, tz=timezone.utc).replace(tzinfo=None)\n",
    "    delta = now.today() - modified\n",
    "    if delta <= timedelta(days=days):\n",
    "        res.append((delta.seconds, fk))\n",
    "res = [k[1] for k in reversed(sorted(res, key=lambda x:x[1]))]\n",
    "npub = len(res)\n",
    "print(len(res), f\" publications files modified in the last {days:d} days.\")\n",
    "# [ print('\\t', k) for k in res ];"
   ]
  },
  {
   "cell_type": "code",
   "execution_count": 11,
   "id": "015de740",
   "metadata": {
    "execution": {
     "iopub.execute_input": "2025-07-16T04:31:45.460824Z",
     "iopub.status.busy": "2025-07-16T04:31:45.460458Z",
     "iopub.status.idle": "2025-07-16T04:31:45.472926Z",
     "shell.execute_reply": "2025-07-16T04:31:45.472236Z"
    },
    "papermill": {
     "duration": 0.01921,
     "end_time": "2025-07-16T04:31:45.474055",
     "exception": false,
     "start_time": "2025-07-16T04:31:45.454845",
     "status": "completed"
    },
    "tags": []
   },
   "outputs": [
    {
     "name": "stdout",
     "output_type": "stream",
     "text": [
      "17  publications in the last 7 days.\n"
     ]
    }
   ],
   "source": [
    "import datetime\n",
    "from glob import glob\n",
    "\n",
    "def get_last_n_days(lst, days=1):\n",
    "    \"\"\" Get the documents from the last n days \"\"\"\n",
    "    sorted_lst = sorted(lst, key=lambda x: x[1], reverse=True)\n",
    "    for fname, date in sorted_lst:\n",
    "        if date >= str(datetime.date.today() - datetime.timedelta(days=days)):\n",
    "            yield fname\n",
    "\n",
    "def extract_appearance_dates(lst_file):\n",
    "    dates = []\n",
    "\n",
    "    def get_date(line):\n",
    "        return line\\\n",
    "            .split('Appeared on:')[-1]\\\n",
    "            .split('</mark>')[0].strip()\n",
    "\n",
    "    for fname in lst:\n",
    "        with open(fname, 'r') as f:\n",
    "            found_date = False\n",
    "            for line in f:\n",
    "                if not found_date:\n",
    "                    if \"Appeared on\" in line:\n",
    "                        found_date = True\n",
    "                        dates.append((fname, get_date(line)))\n",
    "                else:\n",
    "                    break\n",
    "    return dates\n",
    "\n",
    "from glob import glob\n",
    "lst = glob('_build/html/*md')\n",
    "days = 7\n",
    "dates = extract_appearance_dates(lst)\n",
    "res = list(get_last_n_days(dates, days))\n",
    "npub = len(res)\n",
    "print(len(res), f\" publications in the last {days:d} days.\")"
   ]
  },
  {
   "cell_type": "code",
   "execution_count": 12,
   "id": "52ca0208",
   "metadata": {
    "execution": {
     "iopub.execute_input": "2025-07-16T04:31:45.485733Z",
     "iopub.status.busy": "2025-07-16T04:31:45.485309Z",
     "iopub.status.idle": "2025-07-16T04:31:45.490492Z",
     "shell.execute_reply": "2025-07-16T04:31:45.489945Z"
    },
    "papermill": {
     "duration": 0.012083,
     "end_time": "2025-07-16T04:31:45.491478",
     "exception": false,
     "start_time": "2025-07-16T04:31:45.479395",
     "status": "completed"
    },
    "scrolled": false,
    "tags": []
   },
   "outputs": [],
   "source": [
    "def create_carousel(npub=4):\n",
    "    \"\"\" Generate the HTML code for a carousel with `npub` slides \"\"\"\n",
    "    carousel = [\"\"\"  <div class=\"carousel\" \"\"\",\n",
    "                \"\"\"       data-flickity='{ \"autoPlay\": 10000, \"adaptiveHeight\": true, \"resize\": true, \"wrapAround\": true, \"pauseAutoPlayOnHover\": true, \"groupCells\": 1 }' id=\"asyncTypeset\">\"\"\"\n",
    "                ]\n",
    "    \n",
    "    item_str = \"\"\"    <div class=\"carousel-cell\"> <div id=\"slide{k}\" class=\"md_view\">Content {k}</div> </div>\"\"\"\n",
    "    for k in range(1, npub + 1):\n",
    "        carousel.append(item_str.format(k=k))\n",
    "    carousel.append(\"  </div>\")\n",
    "    return '\\n'.join(carousel)\n",
    "\n",
    "def create_grid(npub=4):\n",
    "    \"\"\" Generate the HTML code for a flat grid with `npub` slides \"\"\"\n",
    "    grid = [\"\"\"  <div class=\"grid\"> \"\"\",\n",
    "                ]\n",
    "    \n",
    "    item_str = \"\"\"    <div class=\"grid-item\"> <div id=\"slide{k}\" class=\"md_view\">Content {k}</div> </div>\"\"\"\n",
    "    for k in range(1, npub + 1):\n",
    "        grid.append(item_str.format(k=k))\n",
    "    grid.append(\"  </div>\")\n",
    "    return '\\n'.join(grid)"
   ]
  },
  {
   "cell_type": "code",
   "execution_count": 13,
   "id": "a6eac5b6",
   "metadata": {
    "execution": {
     "iopub.execute_input": "2025-07-16T04:31:45.502967Z",
     "iopub.status.busy": "2025-07-16T04:31:45.502527Z",
     "iopub.status.idle": "2025-07-16T04:31:45.507675Z",
     "shell.execute_reply": "2025-07-16T04:31:45.507150Z"
    },
    "papermill": {
     "duration": 0.011908,
     "end_time": "2025-07-16T04:31:45.508696",
     "exception": false,
     "start_time": "2025-07-16T04:31:45.496788",
     "status": "completed"
    },
    "scrolled": false,
    "tags": []
   },
   "outputs": [],
   "source": [
    "carousel = create_carousel(npub)\n",
    "docs = ', '.join(['\"{0:s}\"'.format(k.split('/')[-1]) for k in res])\n",
    "slides = ', '.join([f'\"slide{k}\"' for k in range(1, npub + 1)])\n",
    "\n",
    "with open(\"daily_template.html\", \"r\") as tpl:\n",
    "    page = tpl.read()\n",
    "    page = page.replace(\"{%-- carousel:s --%}\", carousel)\\\n",
    "               .replace(\"{%-- suptitle:s --%}\",  \"7-day archives\" )\\\n",
    "               .replace(\"{%-- docs:s --%}\", docs)\\\n",
    "               .replace(\"{%-- slides:s --%}\", slides)\n",
    "    \n",
    "with open(\"_build/html/index_7days.html\", 'w') as fout:\n",
    "    fout.write(page)"
   ]
  },
  {
   "cell_type": "code",
   "execution_count": 14,
   "id": "adc1a1ec",
   "metadata": {
    "execution": {
     "iopub.execute_input": "2025-07-16T04:31:45.520149Z",
     "iopub.status.busy": "2025-07-16T04:31:45.519926Z",
     "iopub.status.idle": "2025-07-16T04:31:45.526112Z",
     "shell.execute_reply": "2025-07-16T04:31:45.525568Z"
    },
    "papermill": {
     "duration": 0.013135,
     "end_time": "2025-07-16T04:31:45.527154",
     "exception": false,
     "start_time": "2025-07-16T04:31:45.514019",
     "status": "completed"
    },
    "tags": []
   },
   "outputs": [
    {
     "name": "stdout",
     "output_type": "stream",
     "text": [
      "7  publications in the last day.\n"
     ]
    }
   ],
   "source": [
    "# redo for today\n",
    "days = 1\n",
    "res = list(get_last_n_days(dates, days))\n",
    "npub = len(res)\n",
    "print(len(res), f\" publications in the last day.\")\n",
    "\n",
    "carousel = create_carousel(npub)\n",
    "docs = ', '.join(['\"{0:s}\"'.format(k.split('/')[-1]) for k in res])\n",
    "slides = ', '.join([f'\"slide{k}\"' for k in range(1, npub + 1)])\n",
    "\n",
    "with open(\"daily_template.html\", \"r\") as tpl:\n",
    "    page = tpl.read()\n",
    "    page = page.replace(\"{%-- carousel:s --%}\", carousel)\\\n",
    "               .replace(\"{%-- suptitle:s --%}\",  \"Daily\" )\\\n",
    "               .replace(\"{%-- docs:s --%}\", docs)\\\n",
    "               .replace(\"{%-- slides:s --%}\", slides)\n",
    "    \n",
    "# print(carousel, docs, slides)\n",
    "# print(page)\n",
    "with open(\"_build/html/index_daily.html\", 'w') as fout:\n",
    "    fout.write(page)"
   ]
  },
  {
   "cell_type": "code",
   "execution_count": 15,
   "id": "00eece82",
   "metadata": {
    "execution": {
     "iopub.execute_input": "2025-07-16T04:31:45.538782Z",
     "iopub.status.busy": "2025-07-16T04:31:45.538571Z",
     "iopub.status.idle": "2025-07-16T04:31:45.545520Z",
     "shell.execute_reply": "2025-07-16T04:31:45.544861Z"
    },
    "papermill": {
     "duration": 0.013854,
     "end_time": "2025-07-16T04:31:45.546509",
     "exception": false,
     "start_time": "2025-07-16T04:31:45.532655",
     "status": "completed"
    },
    "scrolled": false,
    "tags": []
   },
   "outputs": [
    {
     "name": "stdout",
     "output_type": "stream",
     "text": [
      "6  6 publications selected.\n"
     ]
    }
   ],
   "source": [
    "# Create the flat grid of the last N papers (fixed number regardless of dates)\n",
    "from itertools import islice \n",
    "\n",
    "npub = 6\n",
    "res = [k[0] for k in (islice(reversed(sorted(dates, key=lambda x: x[1])), 6))]\n",
    "print(len(res), f\" {npub} publications selected.\")\n",
    "\n",
    "grid = create_grid(npub)\n",
    "docs = ', '.join(['\"{0:s}\"'.format(k.split('/')[-1]) for k in res])\n",
    "slides = ', '.join([f'\"slide{k}\"' for k in range(1, npub + 1)])\n",
    "\n",
    "with open(\"grid_template.html\", \"r\") as tpl:\n",
    "    page = tpl.read()\n",
    "    page = page.replace(\"{%-- grid-content:s --%}\", grid)\\\n",
    "               .replace(\"{%-- suptitle:s --%}\",  f\"Last {npub:,d} papers\" )\\\n",
    "               .replace(\"{%-- docs:s --%}\", docs)\\\n",
    "               .replace(\"{%-- slides:s --%}\", slides)\n",
    "    \n",
    "# print(grid, docs, slides)\n",
    "# print(page)\n",
    "with open(\"_build/html/index_npub_grid.html\", 'w') as fout:\n",
    "    fout.write(page)"
   ]
  }
 ],
 "metadata": {
  "kernelspec": {
   "display_name": "Python 3 (ipykernel)",
   "language": "python",
   "name": "python3"
  },
  "language_info": {
   "codemirror_mode": {
    "name": "ipython",
    "version": 3
   },
   "file_extension": ".py",
   "mimetype": "text/x-python",
   "name": "python",
   "nbconvert_exporter": "python",
   "pygments_lexer": "ipython3",
   "version": "3.9.23"
  },
  "papermill": {
   "default_parameters": {},
   "duration": 105.972892,
   "end_time": "2025-07-16T04:31:45.867765",
   "environment_variables": {},
   "exception": null,
   "input_path": "MPIA daily digest.ipynb",
   "output_path": "log.ipynb",
   "parameters": {},
   "start_time": "2025-07-16T04:29:59.894873",
   "version": "2.6.0"
  },
  "vscode": {
   "interpreter": {
    "hash": "aee8b7b246df8f9039afb4144a1f6fd8d2ca17a180786b69acc140d282b71a49"
   }
  },
  "widgets": {
   "application/vnd.jupyter.widget-state+json": {
    "state": {
     "30389b9f26a34496a28bda565949f789": {
      "model_module": "@jupyter-widgets/controls",
      "model_module_version": "2.0.0",
      "model_name": "HTMLModel",
      "state": {
       "_dom_classes": [],
       "_model_module": "@jupyter-widgets/controls",
       "_model_module_version": "2.0.0",
       "_model_name": "HTMLModel",
       "_view_count": null,
       "_view_module": "@jupyter-widgets/controls",
       "_view_module_version": "2.0.0",
       "_view_name": "HTMLView",
       "description": "",
       "description_allow_html": false,
       "layout": "IPY_MODEL_e5c923a729b1473eb2b97a11cfd4f340",
       "placeholder": "​",
       "style": "IPY_MODEL_dcf47a8e755b403ab23c78ff0fbc1780",
       "tabbable": null,
       "tooltip": null,
       "value": "100%"
      }
     },
     "4f2d597cee1f42fd992ae2b261dccc7d": {
      "model_module": "@jupyter-widgets/controls",
      "model_module_version": "2.0.0",
      "model_name": "FloatProgressModel",
      "state": {
       "_dom_classes": [],
       "_model_module": "@jupyter-widgets/controls",
       "_model_module_version": "2.0.0",
       "_model_name": "FloatProgressModel",
       "_view_count": null,
       "_view_module": "@jupyter-widgets/controls",
       "_view_module_version": "2.0.0",
       "_view_name": "ProgressView",
       "bar_style": "success",
       "description": "",
       "description_allow_html": false,
       "layout": "IPY_MODEL_6ac18839e6fb4acfbfe4e1f788b7fce3",
       "max": 4.0,
       "min": 0.0,
       "orientation": "horizontal",
       "style": "IPY_MODEL_68f9fb684c254f4b94281c4ff63b5878",
       "tabbable": null,
       "tooltip": null,
       "value": 4.0
      }
     },
     "527fad51589c427a82799156c973bd80": {
      "model_module": "@jupyter-widgets/controls",
      "model_module_version": "2.0.0",
      "model_name": "HTMLModel",
      "state": {
       "_dom_classes": [],
       "_model_module": "@jupyter-widgets/controls",
       "_model_module_version": "2.0.0",
       "_model_name": "HTMLModel",
       "_view_count": null,
       "_view_module": "@jupyter-widgets/controls",
       "_view_module_version": "2.0.0",
       "_view_name": "HTMLView",
       "description": "",
       "description_allow_html": false,
       "layout": "IPY_MODEL_e591b3ded3614e61952a67cc3a1c21b8",
       "placeholder": "​",
       "style": "IPY_MODEL_dd0d9adcbfd04a6db3699754fc291957",
       "tabbable": null,
       "tooltip": null,
       "value": " 4/4 [01:23&lt;00:00, 24.19s/it]"
      }
     },
     "52f19f515e0f44b58b5651d8fe69f9e0": {
      "model_module": "@jupyter-widgets/base",
      "model_module_version": "2.0.0",
      "model_name": "LayoutModel",
      "state": {
       "_model_module": "@jupyter-widgets/base",
       "_model_module_version": "2.0.0",
       "_model_name": "LayoutModel",
       "_view_count": null,
       "_view_module": "@jupyter-widgets/base",
       "_view_module_version": "2.0.0",
       "_view_name": "LayoutView",
       "align_content": null,
       "align_items": null,
       "align_self": null,
       "border_bottom": null,
       "border_left": null,
       "border_right": null,
       "border_top": null,
       "bottom": null,
       "display": null,
       "flex": null,
       "flex_flow": null,
       "grid_area": null,
       "grid_auto_columns": null,
       "grid_auto_flow": null,
       "grid_auto_rows": null,
       "grid_column": null,
       "grid_gap": null,
       "grid_row": null,
       "grid_template_areas": null,
       "grid_template_columns": null,
       "grid_template_rows": null,
       "height": null,
       "justify_content": null,
       "justify_items": null,
       "left": null,
       "margin": null,
       "max_height": null,
       "max_width": null,
       "min_height": null,
       "min_width": null,
       "object_fit": null,
       "object_position": null,
       "order": null,
       "overflow": null,
       "padding": null,
       "right": null,
       "top": null,
       "visibility": null,
       "width": null
      }
     },
     "68f9fb684c254f4b94281c4ff63b5878": {
      "model_module": "@jupyter-widgets/controls",
      "model_module_version": "2.0.0",
      "model_name": "ProgressStyleModel",
      "state": {
       "_model_module": "@jupyter-widgets/controls",
       "_model_module_version": "2.0.0",
       "_model_name": "ProgressStyleModel",
       "_view_count": null,
       "_view_module": "@jupyter-widgets/base",
       "_view_module_version": "2.0.0",
       "_view_name": "StyleView",
       "bar_color": null,
       "description_width": ""
      }
     },
     "6ac18839e6fb4acfbfe4e1f788b7fce3": {
      "model_module": "@jupyter-widgets/base",
      "model_module_version": "2.0.0",
      "model_name": "LayoutModel",
      "state": {
       "_model_module": "@jupyter-widgets/base",
       "_model_module_version": "2.0.0",
       "_model_name": "LayoutModel",
       "_view_count": null,
       "_view_module": "@jupyter-widgets/base",
       "_view_module_version": "2.0.0",
       "_view_name": "LayoutView",
       "align_content": null,
       "align_items": null,
       "align_self": null,
       "border_bottom": null,
       "border_left": null,
       "border_right": null,
       "border_top": null,
       "bottom": null,
       "display": null,
       "flex": null,
       "flex_flow": null,
       "grid_area": null,
       "grid_auto_columns": null,
       "grid_auto_flow": null,
       "grid_auto_rows": null,
       "grid_column": null,
       "grid_gap": null,
       "grid_row": null,
       "grid_template_areas": null,
       "grid_template_columns": null,
       "grid_template_rows": null,
       "height": null,
       "justify_content": null,
       "justify_items": null,
       "left": null,
       "margin": null,
       "max_height": null,
       "max_width": null,
       "min_height": null,
       "min_width": null,
       "object_fit": null,
       "object_position": null,
       "order": null,
       "overflow": null,
       "padding": null,
       "right": null,
       "top": null,
       "visibility": null,
       "width": null
      }
     },
     "d9a9a802d3b6417d894e650a1466c916": {
      "model_module": "@jupyter-widgets/controls",
      "model_module_version": "2.0.0",
      "model_name": "HBoxModel",
      "state": {
       "_dom_classes": [],
       "_model_module": "@jupyter-widgets/controls",
       "_model_module_version": "2.0.0",
       "_model_name": "HBoxModel",
       "_view_count": null,
       "_view_module": "@jupyter-widgets/controls",
       "_view_module_version": "2.0.0",
       "_view_name": "HBoxView",
       "box_style": "",
       "children": [
        "IPY_MODEL_30389b9f26a34496a28bda565949f789",
        "IPY_MODEL_4f2d597cee1f42fd992ae2b261dccc7d",
        "IPY_MODEL_527fad51589c427a82799156c973bd80"
       ],
       "layout": "IPY_MODEL_52f19f515e0f44b58b5651d8fe69f9e0",
       "tabbable": null,
       "tooltip": null
      }
     },
     "dcf47a8e755b403ab23c78ff0fbc1780": {
      "model_module": "@jupyter-widgets/controls",
      "model_module_version": "2.0.0",
      "model_name": "HTMLStyleModel",
      "state": {
       "_model_module": "@jupyter-widgets/controls",
       "_model_module_version": "2.0.0",
       "_model_name": "HTMLStyleModel",
       "_view_count": null,
       "_view_module": "@jupyter-widgets/base",
       "_view_module_version": "2.0.0",
       "_view_name": "StyleView",
       "background": null,
       "description_width": "",
       "font_size": null,
       "text_color": null
      }
     },
     "dd0d9adcbfd04a6db3699754fc291957": {
      "model_module": "@jupyter-widgets/controls",
      "model_module_version": "2.0.0",
      "model_name": "HTMLStyleModel",
      "state": {
       "_model_module": "@jupyter-widgets/controls",
       "_model_module_version": "2.0.0",
       "_model_name": "HTMLStyleModel",
       "_view_count": null,
       "_view_module": "@jupyter-widgets/base",
       "_view_module_version": "2.0.0",
       "_view_name": "StyleView",
       "background": null,
       "description_width": "",
       "font_size": null,
       "text_color": null
      }
     },
     "e591b3ded3614e61952a67cc3a1c21b8": {
      "model_module": "@jupyter-widgets/base",
      "model_module_version": "2.0.0",
      "model_name": "LayoutModel",
      "state": {
       "_model_module": "@jupyter-widgets/base",
       "_model_module_version": "2.0.0",
       "_model_name": "LayoutModel",
       "_view_count": null,
       "_view_module": "@jupyter-widgets/base",
       "_view_module_version": "2.0.0",
       "_view_name": "LayoutView",
       "align_content": null,
       "align_items": null,
       "align_self": null,
       "border_bottom": null,
       "border_left": null,
       "border_right": null,
       "border_top": null,
       "bottom": null,
       "display": null,
       "flex": null,
       "flex_flow": null,
       "grid_area": null,
       "grid_auto_columns": null,
       "grid_auto_flow": null,
       "grid_auto_rows": null,
       "grid_column": null,
       "grid_gap": null,
       "grid_row": null,
       "grid_template_areas": null,
       "grid_template_columns": null,
       "grid_template_rows": null,
       "height": null,
       "justify_content": null,
       "justify_items": null,
       "left": null,
       "margin": null,
       "max_height": null,
       "max_width": null,
       "min_height": null,
       "min_width": null,
       "object_fit": null,
       "object_position": null,
       "order": null,
       "overflow": null,
       "padding": null,
       "right": null,
       "top": null,
       "visibility": null,
       "width": null
      }
     },
     "e5c923a729b1473eb2b97a11cfd4f340": {
      "model_module": "@jupyter-widgets/base",
      "model_module_version": "2.0.0",
      "model_name": "LayoutModel",
      "state": {
       "_model_module": "@jupyter-widgets/base",
       "_model_module_version": "2.0.0",
       "_model_name": "LayoutModel",
       "_view_count": null,
       "_view_module": "@jupyter-widgets/base",
       "_view_module_version": "2.0.0",
       "_view_name": "LayoutView",
       "align_content": null,
       "align_items": null,
       "align_self": null,
       "border_bottom": null,
       "border_left": null,
       "border_right": null,
       "border_top": null,
       "bottom": null,
       "display": null,
       "flex": null,
       "flex_flow": null,
       "grid_area": null,
       "grid_auto_columns": null,
       "grid_auto_flow": null,
       "grid_auto_rows": null,
       "grid_column": null,
       "grid_gap": null,
       "grid_row": null,
       "grid_template_areas": null,
       "grid_template_columns": null,
       "grid_template_rows": null,
       "height": null,
       "justify_content": null,
       "justify_items": null,
       "left": null,
       "margin": null,
       "max_height": null,
       "max_width": null,
       "min_height": null,
       "min_width": null,
       "object_fit": null,
       "object_position": null,
       "order": null,
       "overflow": null,
       "padding": null,
       "right": null,
       "top": null,
       "visibility": null,
       "width": null
      }
     }
    },
    "version_major": 2,
    "version_minor": 0
   }
  }
 },
 "nbformat": 4,
 "nbformat_minor": 5
}