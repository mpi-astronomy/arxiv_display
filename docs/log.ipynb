{
 "cells": [
  {
   "cell_type": "markdown",
   "id": "92bcb855",
   "metadata": {
    "papermill": {
     "duration": 0.003865,
     "end_time": "2024-09-19T04:10:06.401406",
     "exception": false,
     "start_time": "2024-09-19T04:10:06.397541",
     "status": "completed"
    },
    "tags": []
   },
   "source": [
    "# MPIA Arxiv on Deck 2\n",
    "\n",
    "Contains the steps to produce the paper extractions."
   ]
  },
  {
   "cell_type": "code",
   "execution_count": 1,
   "id": "3a0d6e11",
   "metadata": {
    "execution": {
     "iopub.execute_input": "2024-09-19T04:10:06.409098Z",
     "iopub.status.busy": "2024-09-19T04:10:06.408601Z",
     "iopub.status.idle": "2024-09-19T04:10:06.892246Z",
     "shell.execute_reply": "2024-09-19T04:10:06.891583Z"
    },
    "papermill": {
     "duration": 0.488914,
     "end_time": "2024-09-19T04:10:06.893595",
     "exception": false,
     "start_time": "2024-09-19T04:10:06.404681",
     "status": "completed"
    },
    "tags": []
   },
   "outputs": [],
   "source": [
    "# Imports\n",
    "import os\n",
    "from IPython.display import Markdown, display\n",
    "from tqdm.notebook import tqdm\n",
    "import warnings\n",
    "from PIL import Image \n",
    "\n",
    "# requires arxiv_on_deck_2\n",
    "\n",
    "from arxiv_on_deck_2.arxiv2 import (get_new_papers, \n",
    "                                    get_paper_from_identifier,\n",
    "                                    retrieve_document_source, \n",
    "                                    get_markdown_badge)\n",
    "from arxiv_on_deck_2 import (latex,\n",
    "                             latex_bib,\n",
    "                             mpia,\n",
    "                             highlight_authors_in_list)\n",
    "\n",
    "# Sometimes images are really big\n",
    "Image.MAX_IMAGE_PIXELS = 1000000000 "
   ]
  },
  {
   "cell_type": "code",
   "execution_count": 2,
   "id": "22aa9d44",
   "metadata": {
    "execution": {
     "iopub.execute_input": "2024-09-19T04:10:06.901137Z",
     "iopub.status.busy": "2024-09-19T04:10:06.900665Z",
     "iopub.status.idle": "2024-09-19T04:10:06.905583Z",
     "shell.execute_reply": "2024-09-19T04:10:06.905045Z"
    },
    "papermill": {
     "duration": 0.009713,
     "end_time": "2024-09-19T04:10:06.906638",
     "exception": false,
     "start_time": "2024-09-19T04:10:06.896925",
     "status": "completed"
    },
    "tags": []
   },
   "outputs": [],
   "source": [
    "# Some useful definitions.\n",
    "\n",
    "class AffiliationWarning(UserWarning):\n",
    "    pass\n",
    "\n",
    "class AffiliationError(RuntimeError):\n",
    "    pass\n",
    "\n",
    "def validation(source: str):\n",
    "    \"\"\"Raises error paper during parsing of source file\n",
    "    \n",
    "    Allows checks before parsing TeX code.\n",
    "    \n",
    "    Raises AffiliationWarning\n",
    "    \"\"\"\n",
    "    check = mpia.affiliation_verifications(source, verbose=True)\n",
    "    if check is not True:\n",
    "        raise AffiliationError(\"mpia.affiliation_verifications: \" + check)\n",
    "\n",
    "        \n",
    "warnings.simplefilter('always', AffiliationWarning)\n",
    "\n",
    "\n",
    "def get_markdown_qrcode(paper_id: str):\n",
    "    \"\"\" Generate a qrcode to the arxiv page using qrserver.com\n",
    "    \n",
    "    :param paper: Arxiv paper\n",
    "    :returns: markdown text\n",
    "    \"\"\"\n",
    "    url = r\"https://api.qrserver.com/v1/create-qr-code/?size=100x100&data=\"\n",
    "    txt = f\"\"\"<img src={url}\"https://arxiv.org/abs/{paper_id}\">\"\"\"\n",
    "    txt = '<div id=\"qrcode\">' + txt + '</div>'\n",
    "    return txt"
   ]
  },
  {
   "cell_type": "markdown",
   "id": "14bd6310",
   "metadata": {
    "papermill": {
     "duration": 0.00294,
     "end_time": "2024-09-19T04:10:06.912605",
     "exception": false,
     "start_time": "2024-09-19T04:10:06.909665",
     "status": "completed"
    },
    "tags": []
   },
   "source": [
    "## get list of arxiv paper candidates\n",
    "\n",
    "We use the MPIA mitarbeiter list webpage from mpia.de to get author names\n",
    "We then get all new papers from Arxiv and match authors"
   ]
  },
  {
   "cell_type": "code",
   "execution_count": 3,
   "id": "7ea813a8",
   "metadata": {
    "execution": {
     "iopub.execute_input": "2024-09-19T04:10:06.919470Z",
     "iopub.status.busy": "2024-09-19T04:10:06.919084Z",
     "iopub.status.idle": "2024-09-19T04:10:24.280692Z",
     "shell.execute_reply": "2024-09-19T04:10:24.280038Z"
    },
    "papermill": {
     "duration": 17.366416,
     "end_time": "2024-09-19T04:10:24.281949",
     "exception": false,
     "start_time": "2024-09-19T04:10:06.915533",
     "status": "completed"
    },
    "tags": []
   },
   "outputs": [],
   "source": [
    "# deal with the author list and edge cases of people that cannot be consistent on their name  \n",
    "\n",
    "def filter_non_scientists(name: str) -> bool:\n",
    "    \"\"\" Loose filter on expected authorships\n",
    "\n",
    "    removing IT, administration, technical staff\n",
    "    :param name: name\n",
    "    :returns: False if name is not a scientist\n",
    "    \"\"\"\n",
    "    remove_list = ['Wolf', 'Licht', 'Binroth', 'Witzel', 'Jordan',\n",
    "                   'Zähringer', 'Scheerer', 'Hoffmann', 'Düe',\n",
    "                   'Hellmich', 'Enkler-Scharpegge', 'Witte-Nguy',\n",
    "                   'Dehen', 'Beckmann', 'Jager', 'Jäger'\n",
    "                  ]\n",
    "\n",
    "    for k in remove_list:\n",
    "        if k in name:\n",
    "            return False\n",
    "    return True\n",
    "\n",
    "def add_author_to_list(author_list: list) -> list:\n",
    "    \"\"\" Add author to list if not already in list\n",
    "    \n",
    "    :param author: author name\n",
    "    :param author_list: list of authors\n",
    "    :returns: updated list of authors\n",
    "    \"\"\"\n",
    "    add_list = ['T. Henning']\n",
    "\n",
    "    for author in add_list:\n",
    "        if author not in author_list:\n",
    "            author_list.append(author)\n",
    "    return author_list\n",
    "\n",
    "# get list from MPIA website\n",
    "# filter for non-scientists (mpia.get_mpia_mitarbeiter_list() does some filtering)\n",
    "mpia_authors = [k[1] for k in mpia.get_mpia_mitarbeiter_list() if filter_non_scientists(k[1])]\n",
    "# add some missing author because of inconsistencies in their MPIA name and author name on papers\n",
    "mpia_authors = add_author_to_list(mpia_authors)"
   ]
  },
  {
   "cell_type": "code",
   "execution_count": 4,
   "id": "2645e73a",
   "metadata": {
    "execution": {
     "iopub.execute_input": "2024-09-19T04:10:24.289748Z",
     "iopub.status.busy": "2024-09-19T04:10:24.289299Z",
     "iopub.status.idle": "2024-09-19T04:10:25.033534Z",
     "shell.execute_reply": "2024-09-19T04:10:25.032919Z"
    },
    "papermill": {
     "duration": 0.749198,
     "end_time": "2024-09-19T04:10:25.034590",
     "exception": false,
     "start_time": "2024-09-19T04:10:24.285392",
     "status": "completed"
    },
    "tags": []
   },
   "outputs": [
    {
     "name": "stdout",
     "output_type": "stream",
     "text": [
      "A. d. Graaff  ->  A. D. Graaff  |  ['A. D. Graaff']\n",
      "F. Walter  ->  F. Walter  |  ['F. Walter']\n",
      "A. d. Graaff  ->  A. D. Graaff  |  ['A. D. Graaff']\n",
      "Zhang  ->  R. Zhang  |  ['Zhang']\n",
      "T. Henning  ->  T. Henning  |  ['T. Henning']\n",
      "X. Zhang  ->  X. Zhang  |  ['X. Zhang']\n"
     ]
    },
    {
     "name": "stdout",
     "output_type": "stream",
     "text": [
      "J. Henshaw  ->  J. Henshaw  |  ['J. Henshaw']\n",
      "G.-D. Marleau  ->  G.-D. Marleau  |  ['G.-D. Marleau']\n",
      "Arxiv has 75 new papers today\n",
      "          8 with possible author matches\n"
     ]
    }
   ],
   "source": [
    "new_papers = get_new_papers()\n",
    "# add manual references\n",
    "add_paper_refs = []\n",
    "new_papers.extend([get_paper_from_identifier(k) for k in add_paper_refs])\n",
    "\n",
    "candidates = []\n",
    "for paperk in new_papers:\n",
    "    # Check author list with their initials\n",
    "    normed_author_list = [mpia.get_initials(k) for k in paperk['authors']]\n",
    "    hl_authors = highlight_authors_in_list(normed_author_list, mpia_authors, verbose=True)\n",
    "    matches = [(hl, orig) for hl, orig in zip(hl_authors, paperk['authors']) if 'mark' in hl]\n",
    "    paperk['authors'] = hl_authors\n",
    "    if matches:\n",
    "        # only select paper if an author matched our list\n",
    "        candidates.append(paperk)\n",
    "print(\"\"\"Arxiv has {0:,d} new papers today\"\"\".format(len(new_papers)))        \n",
    "print(\"\"\"          {0:,d} with possible author matches\"\"\".format(len(candidates)))"
   ]
  },
  {
   "cell_type": "markdown",
   "id": "3543b34a",
   "metadata": {
    "papermill": {
     "duration": 0.003138,
     "end_time": "2024-09-19T04:10:25.041241",
     "exception": false,
     "start_time": "2024-09-19T04:10:25.038103",
     "status": "completed"
    },
    "tags": []
   },
   "source": [
    "# Parse sources and generate relevant outputs\n",
    "\n",
    "From the candidates, we do the following steps:\n",
    "* get their tarball from ArXiv (and extract data)\n",
    "* find the main .tex file: find one with \\documentclass{...} (sometimes it's non trivial)\n",
    "* Check affiliations with :func:`validation`, which uses :func:`mpia.affiliation_verifications`\n",
    "* If passing the affiliations: we parse the .tex source\n",
    "   * inject sub-documents into the main (flatten the main document)\n",
    "   * parse structure, extract information (title, abstract, authors, figures...)\n",
    "   * handles `\\graphicspath` if provided\n",
    "* Generate the .md document."
   ]
  },
  {
   "cell_type": "code",
   "execution_count": 5,
   "id": "9576b79e",
   "metadata": {
    "execution": {
     "iopub.execute_input": "2024-09-19T04:10:25.048699Z",
     "iopub.status.busy": "2024-09-19T04:10:25.048240Z",
     "iopub.status.idle": "2024-09-19T04:13:05.925395Z",
     "shell.execute_reply": "2024-09-19T04:13:05.924632Z"
    },
    "papermill": {
     "duration": 160.882034,
     "end_time": "2024-09-19T04:13:05.926447",
     "exception": false,
     "start_time": "2024-09-19T04:10:25.044413",
     "status": "completed"
    },
    "scrolled": false,
    "tags": []
   },
   "outputs": [
    {
     "data": {
      "application/vnd.jupyter.widget-view+json": {
       "model_id": "7990d1e530184b4fbe7ec23ffaf20ea9",
       "version_major": 2,
       "version_minor": 0
      },
      "text/plain": [
       "  0%|          | 0/8 [00:00<?, ?it/s]"
      ]
     },
     "metadata": {},
     "output_type": "display_data"
    },
    {
     "name": "stdout",
     "output_type": "stream",
     "text": [
      "Retrieving document from  https://arxiv.org/e-print/2409.11457\n"
     ]
    },
    {
     "name": "stdout",
     "output_type": "stream",
     "text": [
      "extracting tarball to tmp_2409.11457..."
     ]
    },
    {
     "name": "stdout",
     "output_type": "stream",
     "text": [
      " done.\n",
      "  0: tmp_2409.11457/aassymbols.tex, 579 lines\n",
      "  1: tmp_2409.11457/main.tex, 772 lines\n"
     ]
    },
    {
     "name": "stderr",
     "output_type": "stream",
     "text": [
      "/opt/hostedtoolcache/Python/3.9.20/x64/lib/python3.9/site-packages/IPython/core/interactiveshell.py:3550: LatexWarning: Multiple tex files.\n",
      "\n",
      "  exec(code_obj, self.user_global_ns, self.user_ns)\n",
      "/opt/hostedtoolcache/Python/3.9.20/x64/lib/python3.9/site-packages/IPython/core/interactiveshell.py:3550: LatexWarning: Found 2 candidates with documentclass definition.\n",
      "  exec(code_obj, self.user_global_ns, self.user_ns)\n",
      "/opt/hostedtoolcache/Python/3.9.20/x64/lib/python3.9/site-packages/IPython/core/interactiveshell.py:3550: LatexWarning: Assuming tmp_2409.11457/main.tex as main document.\n",
      "  exec(code_obj, self.user_global_ns, self.user_ns)\n"
     ]
    },
    {
     "name": "stdout",
     "output_type": "stream",
     "text": [
      "A. d. Graaff  ->  A. D. Graaff  |  ['A. D. Graaff']\n",
      "Retrieving document from  https://arxiv.org/e-print/2409.11463\n"
     ]
    },
    {
     "name": "stderr",
     "output_type": "stream",
     "text": [
      "/tmp/ipykernel_2751/1211882699.py:51: LatexWarning: 2409.11457 did not run properly\n",
      "bad escape \\i at position 36\n",
      "  warnings.warn(latex.LatexWarning(f\"{paper_id:s} did not run properly\\n\" +\n"
     ]
    },
    {
     "name": "stdout",
     "output_type": "stream",
     "text": [
      "extracting tarball to tmp_2409.11463..."
     ]
    },
    {
     "name": "stdout",
     "output_type": "stream",
     "text": [
      " done.\n"
     ]
    },
    {
     "name": "stdout",
     "output_type": "stream",
     "text": [
      "Found 110 bibliographic references in tmp_2409.11463/mnras_template.bbl.\n",
      "syntax error in line 417: '=' expected\n",
      "Retrieving document from  https://arxiv.org/e-print/2409.11464\n"
     ]
    },
    {
     "name": "stdout",
     "output_type": "stream",
     "text": [
      "extracting tarball to tmp_2409.11464..."
     ]
    },
    {
     "name": "stdout",
     "output_type": "stream",
     "text": [
      " done.\n"
     ]
    },
    {
     "name": "stdout",
     "output_type": "stream",
     "text": [
      "A. d. Graaff  ->  A. D. Graaff  |  ['A. D. Graaff']\n"
     ]
    },
    {
     "name": "stderr",
     "output_type": "stream",
     "text": [
      "/tmp/ipykernel_2751/1211882699.py:51: LatexWarning: 2409.11464 did not run properly\n",
      "list index out of range\n",
      "  warnings.warn(latex.LatexWarning(f\"{paper_id:s} did not run properly\\n\" +\n"
     ]
    },
    {
     "name": "stdout",
     "output_type": "stream",
     "text": [
      "Retrieving document from  https://arxiv.org/e-print/2409.11481\n"
     ]
    },
    {
     "name": "stdout",
     "output_type": "stream",
     "text": [
      "extracting tarball to tmp_2409.11481..."
     ]
    },
    {
     "name": "stdout",
     "output_type": "stream",
     "text": [
      " done.\n",
      "Retrieving document from  https://arxiv.org/e-print/2409.11485\n"
     ]
    },
    {
     "name": "stdout",
     "output_type": "stream",
     "text": [
      "extracting tarball to tmp_2409.11485..."
     ]
    },
    {
     "name": "stdout",
     "output_type": "stream",
     "text": [
      " done.\n",
      "  1: tmp_2409.11485/table.tex, 93 lines\n",
      "  2: tmp_2409.11485/aanda.tex, 535 lines\n"
     ]
    },
    {
     "name": "stderr",
     "output_type": "stream",
     "text": [
      "/opt/hostedtoolcache/Python/3.9.20/x64/lib/python3.9/site-packages/IPython/core/interactiveshell.py:3550: LatexWarning: Multiple tex files.\n",
      "\n",
      "  exec(code_obj, self.user_global_ns, self.user_ns)\n",
      "/opt/hostedtoolcache/Python/3.9.20/x64/lib/python3.9/site-packages/IPython/core/interactiveshell.py:3550: LatexWarning: Found 2 candidates with documentclass definition.\n",
      "  exec(code_obj, self.user_global_ns, self.user_ns)\n",
      "/opt/hostedtoolcache/Python/3.9.20/x64/lib/python3.9/site-packages/IPython/core/interactiveshell.py:3550: LatexWarning: Assuming tmp_2409.11485/aanda.tex as main document.\n",
      "  exec(code_obj, self.user_global_ns, self.user_ns)\n",
      "/opt/hostedtoolcache/Python/3.9.20/x64/lib/python3.9/site-packages/arxiv_on_deck_2/latex.py:414: LatexWarning: Latex injecting: 'table_stellarinfo' from 'tmp_2409.11485/table_stellarinfo.tex'\n",
      "  warnings.warn(LatexWarning(f\"Latex injecting: '{ext}' from '{subsource}'\"))\n",
      "/opt/hostedtoolcache/Python/3.9.20/x64/lib/python3.9/site-packages/arxiv_on_deck_2/latex.py:414: LatexWarning: Latex injecting: 'table' from 'tmp_2409.11485/table.tex'\n",
      "  warnings.warn(LatexWarning(f\"Latex injecting: '{ext}' from '{subsource}'\"))\n"
     ]
    },
    {
     "name": "stdout",
     "output_type": "stream",
     "text": [
      "S. v. Terwisga  ->  S. v. Terwisga  |  ['S. v. Terwisga']\n",
      "T. Henning  ->  T. Henning  |  ['T. Henning']\n"
     ]
    },
    {
     "name": "stderr",
     "output_type": "stream",
     "text": [
      "/opt/hostedtoolcache/Python/3.9.20/x64/lib/python3.9/site-packages/arxiv_on_deck_2/latex.py:132: LatexWarning: attempting recovering figure BSs_SODAVisionKounkel_MeanMass.png\n",
      "  warnings.warn(LatexWarning(f'attempting recovering figure {image}'))\n",
      "/opt/hostedtoolcache/Python/3.9.20/x64/lib/python3.9/site-packages/arxiv_on_deck_2/latex.py:707: LatexWarning: Could not find graphic \\includegraphics[width=\\columnwidth]{BSs_SODAVisionKounkel_MeanMass.png}\n",
      "  warnings.warn(LatexWarning(f\"Could not find graphic {k}\"))\n"
     ]
    },
    {
     "name": "stdout",
     "output_type": "stream",
     "text": [
      "Found 73 bibliographic references in tmp_2409.11485/aanda.bbl.\n",
      "Error retrieving bib data for  Harris_2012: 'author'\n",
      "Error retrieving bib data for  Harris_2012: 'author'\n",
      "Error retrieving bib data for  Barenfeld_2019: 'author'\n",
      "Retrieving document from  https://arxiv.org/e-print/2409.11767\n"
     ]
    },
    {
     "name": "stdout",
     "output_type": "stream",
     "text": [
      "extracting tarball to tmp_2409.11767..."
     ]
    },
    {
     "name": "stdout",
     "output_type": "stream",
     "text": [
      " done.\n",
      "Retrieving document from  https://arxiv.org/e-print/2409.12185\n"
     ]
    },
    {
     "name": "stdout",
     "output_type": "stream",
     "text": [
      "extracting tarball to tmp_2409.12185..."
     ]
    },
    {
     "name": "stdout",
     "output_type": "stream",
     "text": [
      " done.\n"
     ]
    },
    {
     "name": "stdout",
     "output_type": "stream",
     "text": [
      "Found 104 bibliographic references in tmp_2409.12185/aa51190-24corr.bbl.\n",
      "Retrieving document from  https://arxiv.org/e-print/2409.12187\n"
     ]
    },
    {
     "name": "stdout",
     "output_type": "stream",
     "text": [
      "extracting tarball to tmp_2409.12187... done.\n"
     ]
    },
    {
     "name": "stdout",
     "output_type": "stream",
     "text": [
      "Found 81 bibliographic references in tmp_2409.12187/main.bbl.\n",
      "syntax error in line 109: '=' expected\n"
     ]
    }
   ],
   "source": [
    "documents = []\n",
    "failed = []\n",
    "for paper in tqdm(candidates):\n",
    "    # debug crap\n",
    "    paper['identifier'] = paper['identifier'].lower().replace('arxiv:', '').replace(r'\\n', '').strip()\n",
    "    paper_id = paper['identifier']\n",
    "    \n",
    "    folder = f'tmp_{paper_id}'\n",
    "\n",
    "    try:\n",
    "        if not os.path.isdir(folder):\n",
    "            folder = retrieve_document_source(f\"{paper_id}\", f'tmp_{paper_id}')\n",
    "        \n",
    "        try:\n",
    "            doc = latex.LatexDocument(folder, validation=validation)    \n",
    "        except AffiliationError as affilerror:\n",
    "            msg = f\"ArXiv:{paper_id:s} is not an MPIA paper... \" + str(affilerror)\n",
    "            failed.append((paper, \"affiliation error: \" + str(affilerror) ))\n",
    "            continue\n",
    "        \n",
    "        # Hack because sometimes author parsing does not work well\n",
    "        if (len(doc.authors) != len(paper['authors'])):\n",
    "            doc._authors = paper['authors']\n",
    "        else:\n",
    "            # highlight authors (FIXME: doc.highlight_authors)\n",
    "            # done on arxiv paper already\n",
    "            doc._authors = highlight_authors_in_list(\n",
    "                [mpia.get_initials(k) for k in doc.authors], \n",
    "                mpia_authors, verbose=True)\n",
    "        if (doc.abstract) in (None, ''):\n",
    "            doc._abstract = paper['abstract']\n",
    "            \n",
    "        doc.comment = (get_markdown_badge(paper_id) + \n",
    "                       \"<mark>Appeared on: \" + paper['date'] + \"</mark> - \")\n",
    "        if paper['comments']:\n",
    "            doc.comment += \" _\" + paper['comments'] + \"_\"\n",
    "        \n",
    "        full_md = doc.generate_markdown_text()\n",
    "        \n",
    "        full_md += get_markdown_qrcode(paper_id)\n",
    "        \n",
    "        # replace citations\n",
    "        try:\n",
    "            bibdata = latex_bib.LatexBib.from_doc(doc)\n",
    "            full_md = latex_bib.replace_citations(full_md, bibdata)\n",
    "        except Exception as e:\n",
    "            print(e)\n",
    "        \n",
    "        documents.append((paper_id, full_md))\n",
    "    except Exception as e:\n",
    "        warnings.warn(latex.LatexWarning(f\"{paper_id:s} did not run properly\\n\" +\n",
    "                                         str(e)\n",
    "                                        ))\n",
    "        failed.append((paper, \"latex error \" + str(e)))"
   ]
  },
  {
   "cell_type": "markdown",
   "id": "2505a25c",
   "metadata": {
    "papermill": {
     "duration": 0.004714,
     "end_time": "2024-09-19T04:13:05.936199",
     "exception": false,
     "start_time": "2024-09-19T04:13:05.931485",
     "status": "completed"
    },
    "tags": []
   },
   "source": [
    "### Export the logs\n",
    "\n",
    "Throughout, we also keep track of the logs per paper. see `logs-{today date}.md` "
   ]
  },
  {
   "cell_type": "code",
   "execution_count": 6,
   "id": "d733828a",
   "metadata": {
    "execution": {
     "iopub.execute_input": "2024-09-19T04:13:05.946690Z",
     "iopub.status.busy": "2024-09-19T04:13:05.946381Z",
     "iopub.status.idle": "2024-09-19T04:13:05.966227Z",
     "shell.execute_reply": "2024-09-19T04:13:05.965582Z"
    },
    "papermill": {
     "duration": 0.026428,
     "end_time": "2024-09-19T04:13:05.967273",
     "exception": false,
     "start_time": "2024-09-19T04:13:05.940845",
     "status": "completed"
    },
    "scrolled": false,
    "tags": []
   },
   "outputs": [
    {
     "data": {
      "text/markdown": [
       "## Successful papers"
      ],
      "text/plain": [
       "<IPython.core.display.Markdown object>"
      ]
     },
     "metadata": {},
     "output_type": "display_data"
    },
    {
     "data": {
      "text/markdown": [
       "\n",
       "|||\n",
       "|---:|:---|\n",
       "| [![arXiv](https://img.shields.io/badge/arXiv-2409.11463-b31b1b.svg)](https://arxiv.org/abs/2409.11463) | **Characterizing the contribution of dust-obscured star formation at $z \\gtrsim$ 5 using 18 serendipitously identified [CII] emitters**  |\n",
       "|| I. F. v. Leeuwen, et al. -- incl., <mark>F. Walter</mark> |\n",
       "|*Appeared on*| *2024-09-19*|\n",
       "|*Comments*| *Accepted for publication in MNRAS. 24 pages, 14 figures, 8 tables (including appendices)*|\n",
       "|**Abstract**|            We present a new method to determine the star formation rate (SFR) density of the Universe at $z \\gtrsim 5$ that includes the contribution of dust-obscured star formation. For this purpose, we use a [CII] (158 $\\mu$m) selected sample of galaxies serendipitously identified in the fields of known $z\\gtrsim 4.5$ objects to characterize the fraction of obscured SFR. The advantage of a [CII] selection is that our sample is SFR-selected, in contrast to a UV-selection that would be biased towards unobscured star formation. We obtain a sample of 23 [CII] emitters near star-forming (SF) galaxies and QSOs -- three of which we identify for the first time -- using previous literature and archival ALMA data. 18 of these serendipitously identified galaxies have sufficiently deep rest-UV data and are used to characterize the obscured fraction of the star formation in galaxies with SFRs $\\gtrsim 30\\ \\text{M}_{\\odot} \\ \\text{yr}^{-1}$. We find that [CII] emitters identified around SF galaxies have $\\approx$63\\% of their SFR obscured, while [CII] emitters around QSOs have $\\approx$93\\% of their SFR obscured. By forward modeling existing wide-area UV luminosity function (LF) determinations, we derive the intrinsic UV LF using our characterization of the obscured SFR. Integrating the intrinsic LF to $M_{UV}$ = $-$20 we find that the obscured SFRD contributes to $>3\\%$ and $>10\\%$ of the total SFRD at $z \\sim 5$ and $z \\sim 6$ based on our sample of companions galaxies near SFGs and QSOs, respectively. Our results suggest that dust obscuration is not negligible at $z\\gtrsim 5$, further underlining the importance of far-IR observations of the $z\\gtrsim 5$ Universe.         |"
      ],
      "text/plain": [
       "[2409.11463] Characterizing the contribution of dust-obscured star formation at $z \\gtrsim$ 5 using 18 serendipitously identified [CII] emitters\n",
       "\tI. F. v. Leeuwen, et al. -- incl., <mark>F. Walter</mark>"
      ]
     },
     "metadata": {},
     "output_type": "display_data"
    },
    {
     "data": {
      "text/markdown": [
       "\n",
       "|||\n",
       "|---:|:---|\n",
       "| [![arXiv](https://img.shields.io/badge/arXiv-2409.11485-b31b1b.svg)](https://arxiv.org/abs/2409.11485) | **Survey of Orion Disks with ALMA (SODA) III: Disks in wide binary systems in L1641 and L1647**  |\n",
       "|| G. Ricciardi, et al. -- incl., <mark>T. Henning</mark> |\n",
       "|*Appeared on*| *2024-09-19*|\n",
       "|*Comments*| *18 pages, 30 figures, comments welcome*|\n",
       "|**Abstract**|            Aims. The goal of this work is to comprehensively characterize the impact of stellar multiplicity on Class II disks in the L1641 and L1647 regions of Orion A (~1-3 Myr), part of the Survey of Orion Disks with ALMA (SODA). We characterize the protostellar multiplicity using the Atacama Large Millimeter/submillimeter Array (ALMA), the ESO-VISTA, and Hubble Space telescopes. The resulting sample of 65 multiple systems represents the largest catalogue of wide binary systems to date (projected separation >1000 AU), allowing a more robust statistical characterization of the evolution and properties of protoplanetary disks. Methods. The disk population was observed in continuum with ALMA at 225 GHz, with a median rms of 1.5 Mearth. Combining these data (resolution ~1.1arcsec ) with the ESO-VISTA near-infrared survey of the Orion A cloud (resolution ~0.7arcsec ), multiple systems are assembled and selected by an iterative inside-out search in projected separation (>1000 AU). Results. We identify 61 binary systems, 3 triple systems, and one quadruple system. The separation range is between 1000 and 10^4 AU. The dust mass distributions inferred with the Kaplan-Meier estimator yield a median mass of 3.23+0.6-0.4 Mearth for primary disks and 3.88+0.3-0.3 Mearth for secondary disks.         |"
      ],
      "text/plain": [
       "[2409.11485] Survey of Orion Disks with ALMA (SODA) III: Disks in wide binary systems in L1641 and L1647\n",
       "\tG. Ricciardi, et al. -- incl., <mark>T. Henning</mark>"
      ]
     },
     "metadata": {},
     "output_type": "display_data"
    },
    {
     "data": {
      "text/markdown": [
       "\n",
       "|||\n",
       "|---:|:---|\n",
       "| [![arXiv](https://img.shields.io/badge/arXiv-2409.12185-b31b1b.svg)](https://arxiv.org/abs/2409.12185) | **Disruption of a massive molecular cloud by a supernova in the Galactic Centre: Initial results from the ACES project**  |\n",
       "|| M. Nonhebel, et al. -- incl., <mark>J. Henshaw</mark> |\n",
       "|*Appeared on*| *2024-09-19*|\n",
       "|*Comments*| *17 pages, 13 figures, and 2 tables. Accepted for publication in Astronomy & Astrophysics*|\n",
       "|**Abstract**|            The Milky Way's Central Molecular Zone (CMZ) differs dramatically from our local solar neighbourhood, both in the extreme interstellar medium conditions it exhibits (e.g. high gas, stellar, and feedback density) and in the strong dynamics at play (e.g. due to shear and gas influx along the bar). Consequently, it is likely that there are large-scale physical structures within the CMZ that cannot form elsewhere in the Milky Way. In this paper, we present new results from the Atacama Large Millimeter/submillimeter Array (ALMA) large programme ACES (ALMA CMZ Exploration Survey) and conduct a multi-wavelength and kinematic analysis to determine the origin of the M0.8$-$0.2 ring, a molecular cloud with a distinct ring-like morphology. We estimate the projected inner and outer radii of the M0.8$-$0.2 ring to be 79\" and 154\", respectively (3.1 pc and 6.1 pc at an assumed Galactic Centre distance of 8.2 kpc) and calculate a mean gas density $> 10^{4}$ cm$^{-3}$, a mass of $\\sim$ $10^6$ M$_\\odot$, and an expansion speed of $\\sim$ 20 km s$^{-1}$, resulting in a high estimated kinetic energy ($> 10^{51}$ erg) and momentum ($> 10^7$ M$_\\odot$ km s$^{-1}$). We discuss several possible causes for the existence and expansion of the structure, including stellar feedback and large-scale dynamics. We propose that the most likely cause of the M0.8$-$0.2 ring is a single high-energy hypernova explosion. To viably explain the observed morphology and kinematics, such an explosion would need to have taken place inside a dense, very massive molecular cloud, the remnants of which we now see as the M0.8$-$0.2 ring. In this case, the structure provides an extreme example of how supernovae can affect molecular clouds.         |"
      ],
      "text/plain": [
       "[2409.12185] Disruption of a massive molecular cloud by a supernova in the Galactic Centre: Initial results from the ACES project\n",
       "\tM. Nonhebel, et al. -- incl., <mark>J. Henshaw</mark>"
      ]
     },
     "metadata": {},
     "output_type": "display_data"
    },
    {
     "data": {
      "text/markdown": [
       "\n",
       "|||\n",
       "|---:|:---|\n",
       "| [![arXiv](https://img.shields.io/badge/arXiv-2409.12187-b31b1b.svg)](https://arxiv.org/abs/2409.12187) | **Exoplanet accretion monitoring spectroscopic survey (ENTROPY) I. Evidence for magnetospheric accretion in the young isolated planetary-mass object 2MASS J11151597+1937266**  |\n",
       "|| G. Viswanath, et al. -- incl., <mark>G.-D. Marleau</mark> |\n",
       "|*Appeared on*| *2024-09-19*|\n",
       "|*Comments*| *Accepted for publication at A&A on 2024-09-11. 15 pages, 9 figures, 7 tables*|\n",
       "|**Abstract**|            Accretion among planets is a poorly understood phenomenon, due to lack of both observational and theoretical studies. Detection of emission lines from accreting gas giants facilitate detailed investigations into this process. This work presents a detailed analysis of Balmer lines from one of the few known young, planetary-mass objects with observed emission, the isolated L2 dwarf 2MASS J11151597+1937266 with a mass 7-21 Mj and age 5-45 Myr, located at 45+-2 pc. We obtained the first high-resolution (R~50,000) spectrum of the target with VLT/UVES, a spectrograph in the near-UV to visible wavelengths (3200-6800 AA). We report resolved H3-H6 and He I (5875.6 AA) emission in the spectrum. Based on the asymmetric line profiles of H3 and H4, 10% width of H3 (199+-1 km/s), tentative He I 6678 AA emission and indications of a disk from MIR excess, we confirm ongoing accretion at this object. Using the Gaia update of the parallax, we revise its temperature to 1816+-63 K and radius to 1.5+-0.1 Rj. Analysis of observed H I profiles using 1D planet-surface shock model implies a pre-shock gas velocity of v0=120(+80,-40) km/s and a pre-shock density of log(n0/cm^-3)=14(+0,-5). Pre-shock velocity points to a mass of 6(+8,-4) Mj for the target. Combining the H I line luminosities and planetary Lline-Lacc scaling relations, we derive a mass accretion rate of 1.4(+2.8,-0.9)x10^-8 Mj/yr.         |"
      ],
      "text/plain": [
       "[2409.12187] Exoplanet accretion monitoring spectroscopic survey (ENTROPY) I. Evidence for magnetospheric accretion in the young isolated planetary-mass object 2MASS J11151597+1937266\n",
       "\tG. Viswanath, et al. -- incl., <mark>G.-D. Marleau</mark>"
      ]
     },
     "metadata": {},
     "output_type": "display_data"
    },
    {
     "data": {
      "text/markdown": [
       "## Failed papers"
      ],
      "text/plain": [
       "<IPython.core.display.Markdown object>"
      ]
     },
     "metadata": {},
     "output_type": "display_data"
    },
    {
     "data": {
      "text/markdown": [
       "\n",
       "|||\n",
       "|---:|:---|\n",
       "| [![arXiv](https://img.shields.io/badge/arXiv-2409.11481-b31b1b.svg)](https://arxiv.org/abs/2409.11481) | **The MDW H{\\alpha} Sky Survey: Data Release 0**  |\n",
       "|| N. Aftab, et al. -- incl., <mark>Zhang</mark> |\n",
       "|*Appeared on*| *2024-09-19*|\n",
       "|*Comments*| **|\n",
       "|**Abstract**|            The Mittelman-di Cicco-Walker (MDW) H$\\alpha$ Sky Survey is an autonomously-operated and ongoing all-sky imaging survey in the narrowband H$\\alpha$ wavelength. The survey was founded by amateur astronomers, and is presented here in its first stage of refinement for rigorous scientific use. Each field is exposed through an H$\\alpha$ filter with a 3nm bandwidth for a total of four hours, with a pixel scale of 3.2 arcsec. Here, we introduce the first Data Release of the MDW H$\\alpha$ Survey (Data Release 0, or DR0), spanning 238 fields in the region of Orion (~3100 deg$^2$). DR0 includes: calibrated mean fields, star-removed mean fields, a point source catalog matched to Data Release 1 of the Panoramic Survey Telescope and Rapid Response System (Pan-STARRS1) and the INT Galactic Plane Survey (IGAPS), and mosaics.         |\n",
       "|<p style=\"color:green\"> **ERROR** </p>| <p style=\"color:green\">affiliation error: mpia.affiliation_verifications: '69117' keyword not found.</p> |"
      ],
      "text/plain": [
       "<IPython.core.display.Markdown object>"
      ]
     },
     "metadata": {},
     "output_type": "display_data"
    },
    {
     "data": {
      "text/markdown": [
       "\n",
       "|||\n",
       "|---:|:---|\n",
       "| [![arXiv](https://img.shields.io/badge/arXiv-2409.11767-b31b1b.svg)](https://arxiv.org/abs/2409.11767) | **Bright unintended electromagnetic radiation from second-generation Starlink satellites**  |\n",
       "|| C. Bassa, et al. -- incl., <mark>X. Zhang</mark> |\n",
       "|*Appeared on*| *2024-09-19*|\n",
       "|*Comments*| *12 pages, 6 figures, accepted for publication in A&A*|\n",
       "|**Abstract**|            We report on the detection of unintended electromagnetic radiation (UEMR) from the second-generation of Starlink satellites. Observations with the LOFAR radio telescope between 10 to 88MHz and 110 to 188MHz show broadband emission covering the frequency ranges from 40 to 70MHz and 110 to 188MHz from the v2-Mini and v2-Mini Direct-to-Cell Starlink satellites. The spectral power flux density of this broadband UEMR varies from satellite to satellite, with values ranging from 15Jy to 1300Jy, between 56 and 66MHz, and from 2 to 100Jy over two distinct 8MHz frequency ranges centered at 120 and 161MHz. We compared the detected power flux densities of this UEMR to that emitted by the first generation v1.0 and v1.5 Starlink satellites. When correcting for the observed satellite distances, we find that the second-generation satellites emit UEMR that is up to a factor of 32 stronger compared to the first generation. The calculated electric field strengths of the detected UEMR exceed typical electromagnetic compatibility standards used for commercial electronic devices as well as recommended emission thresholds from the Radiocommunication Sector of the International Telecommunications Union (ITU-R) aimed at protecting the 150.05-153MHz frequency range allocated to radio astronomy. We characterize the properties of the detected UEMR with the aim of assisting the satellite operator with the identification of the cause of the UEMR.         |\n",
       "|<p style=\"color:green\"> **ERROR** </p>| <p style=\"color:green\">affiliation error: mpia.affiliation_verifications: 'Heidelberg' keyword not found.</p> |"
      ],
      "text/plain": [
       "<IPython.core.display.Markdown object>"
      ]
     },
     "metadata": {},
     "output_type": "display_data"
    },
    {
     "data": {
      "text/markdown": [
       "\n",
       "|||\n",
       "|---:|:---|\n",
       "| [![arXiv](https://img.shields.io/badge/arXiv-2409.11457-b31b1b.svg)](https://arxiv.org/abs/2409.11457) | **UNCOVER: Significant Reddening in Cosmic Noon Quiescent Galaxies**  |\n",
       "|| J. Siegel, et al. -- incl., <mark>A. d. Graaff</mark> |\n",
       "|*Appeared on*| *2024-09-19*|\n",
       "|*Comments*| *18 pages, 8 figures, submitted to ApJ*|\n",
       "|**Abstract**|            We explore the physical properties of five massive quiescent galaxies at $z\\sim2.5$, revealing the presence of non-negligible dust reservoirs. JWST NIRSpec observations were obtained for each target, finding no significant line emission; multiple star formation tracers independently place upper limits between $0.1-10~M_\\odot / \\mathrm{yr}$. Spectral energy distribution modeling with Prospector infers stellar masses between $\\log_{10}[M / M_\\odot] \\sim 10-11$ and stellar mass-weighted ages between $1-2$ Gyr. The inferred mass-weighted effective radii ($r_{eff}\\sim 0.4-1.4$ kpc) and inner $1$ kpc stellar surface densities ($\\log_{10}[\\Sigma / M_\\odot \\mathrm{kpc}^2 ]\\gtrsim 9$) are typical of quiescent galaxies at $z \\gtrsim 2$. The galaxies display negative color gradients (redder core and bluer outskirts); for one galaxy, this effect results from a dusty core, while for the others it may be evidence of an \"inside-out\" growth process. Unlike local quiescent galaxies, we identify significant reddening in these typical cosmic noon passive galaxies; all but one require $A_V \\gtrsim 0.4$. This finding is in qualitative agreement with previous studies but our deep 20-band NIRCam imaging is able to significantly suppress the dust-age degeneracy and confidently determine that these galaxies are reddened. We speculate about the physical effects that may drive the decline in dust content in quiescent galaxies over cosmic time.         |\n",
       "|<p style=\"color:red\"> **ERROR** </p>| <p style=\"color:red\">latex error bad escape \\i at position 36</p> |"
      ],
      "text/plain": [
       "<IPython.core.display.Markdown object>"
      ]
     },
     "metadata": {},
     "output_type": "display_data"
    },
    {
     "data": {
      "text/markdown": [
       "\n",
       "|||\n",
       "|---:|:---|\n",
       "| [![arXiv](https://img.shields.io/badge/arXiv-2409.11464-b31b1b.svg)](https://arxiv.org/abs/2409.11464) | **A Systematic Search for Galaxies with Extended Emission Line and Potential Outflows in JADES Medium-Band Images**  |\n",
       "|| Y. Zhu, et al. -- incl., <mark>A. d. Graaff</mark> |\n",
       "|*Appeared on*| *2024-09-19*|\n",
       "|*Comments*| *21 pages, 12 figures, 2 tables. Submitted to AAS journals*|\n",
       "|**Abstract**|            For the first time, we systematically search for galaxies with extended emission line and potential outflows features using medium-band images in the GOODS-S field by comparing the morphology in medium-band images to adjacent continuum and UV bands. We look for galaxies that have a maximum extent 50\\% larger, an excess area 30\\% greater, or an axis ratio difference of more than 0.3 in the medium band compared to the reference bands. After visual inspection, we find 326 candidate galaxies at $1 < z < 6$, with a peak in the population near cosmic noon, benefiting from the good coverage of the medium-band filters. By examining their SEDs, we find that the candidate galaxies are at least 20\\% more bursty in their star-forming activity and have 60\\% more young stellar populations compared to a control sample selected based on the continuum band flux. Additionally, these candidates exhibit a significantly higher production rate of ionizing photons. We further find that candidates hosting known AGN produce extended emission that is more anisotropic compared to non-AGN candidates. A few of our candidates have been spectroscopically confirmed to have prominent outflow signatures through NIRSpec observations, showcasing the robustness of the photometric selection. Future spectroscopic follow-up will better help verify and characterize the kinematics and chemical properties of these systems.         |\n",
       "|<p style=\"color:red\"> **ERROR** </p>| <p style=\"color:red\">latex error list index out of range</p> |"
      ],
      "text/plain": [
       "<IPython.core.display.Markdown object>"
      ]
     },
     "metadata": {},
     "output_type": "display_data"
    }
   ],
   "source": [
    "import datetime\n",
    "today = str(datetime.date.today())\n",
    "logfile = f\"_build/html/logs/log-{today}.md\"\n",
    "\n",
    "\n",
    "with open(logfile, 'w') as logs:\n",
    "    # Success\n",
    "    logs.write(f'# Arxiv on Deck 2: Logs - {today}\\n\\n')\n",
    "    logs.write(\"\"\"* Arxiv had {0:,d} new papers\\n\"\"\".format(len(new_papers)))\n",
    "    logs.write(\"\"\"    * {0:,d} with possible author matches\\n\\n\"\"\".format(len(candidates)))\n",
    "    logs.write(\"## Sucessful papers\\n\\n\")\n",
    "    display(Markdown(\"## Successful papers\"))\n",
    "    success = [k[0] for k in documents]\n",
    "    for candid in candidates:\n",
    "        if candid['identifier'].split(':')[-1] in success:\n",
    "            display(candid)\n",
    "            logs.write(candid.generate_markdown_text() + '\\n\\n')\n",
    "\n",
    "    ## failed\n",
    "    logs.write(\"## Failed papers\\n\\n\")\n",
    "    display(Markdown(\"## Failed papers\"))\n",
    "    failed = sorted(failed, key=lambda x: x[1])\n",
    "    current_reason = \"\"\n",
    "    for paper, reason in failed:\n",
    "        if 'affiliation' in reason:\n",
    "            color = 'green'\n",
    "        else:\n",
    "            color = 'red'\n",
    "        data = Markdown(\n",
    "                paper.generate_markdown_text() + \n",
    "                f'\\n|<p style=\"color:{color:s}\"> **ERROR** </p>| <p style=\"color:{color:s}\">{reason:s}</p> |'\n",
    "               )\n",
    "        if reason != current_reason:\n",
    "            logs.write(f'### {reason:s} \\n\\n')\n",
    "            current_reason = reason\n",
    "        logs.write(data.data + '\\n\\n')\n",
    "        \n",
    "        # only display here the important errors (all in logs)\n",
    "        # if color in ('red',):\n",
    "        display(data)"
   ]
  },
  {
   "cell_type": "markdown",
   "id": "472d20ee",
   "metadata": {
    "papermill": {
     "duration": 0.005479,
     "end_time": "2024-09-19T04:13:05.978705",
     "exception": false,
     "start_time": "2024-09-19T04:13:05.973226",
     "status": "completed"
    },
    "tags": []
   },
   "source": [
    "## Export documents\n",
    "\n",
    "We now write the .md files and export relevant images"
   ]
  },
  {
   "cell_type": "code",
   "execution_count": 7,
   "id": "d426aed9",
   "metadata": {
    "execution": {
     "iopub.execute_input": "2024-09-19T04:13:05.991446Z",
     "iopub.status.busy": "2024-09-19T04:13:05.990816Z",
     "iopub.status.idle": "2024-09-19T04:13:05.998147Z",
     "shell.execute_reply": "2024-09-19T04:13:05.997603Z"
    },
    "papermill": {
     "duration": 0.014825,
     "end_time": "2024-09-19T04:13:05.999114",
     "exception": false,
     "start_time": "2024-09-19T04:13:05.984289",
     "status": "completed"
    },
    "tags": []
   },
   "outputs": [],
   "source": [
    "def export_markdown_summary(md: str, md_fname:str, directory: str):\n",
    "    \"\"\"Export MD document and associated relevant images\"\"\"\n",
    "    import os\n",
    "    import shutil\n",
    "    import re\n",
    "\n",
    "    if (os.path.exists(directory) and not os.path.isdir(directory)):\n",
    "        raise RuntimeError(f\"a non-directory file exists with name {directory:s}\")\n",
    "\n",
    "    if (not os.path.exists(directory)):\n",
    "        print(f\"creating directory {directory:s}\")\n",
    "        os.mkdir(directory)\n",
    "\n",
    "    fig_fnames = (re.compile(r'\\[Fig.*\\]\\((.*)\\)').findall(md) + \n",
    "                  re.compile(r'\\<img src=\"([^>\\s]*)\"[^>]*/>').findall(md))\n",
    "    print(\"found figures\", fig_fnames)\n",
    "    for fname in fig_fnames:\n",
    "        if 'http' in fname:\n",
    "            # No need to copy online figures\n",
    "            continue\n",
    "        if not os.path.exists(fname):\n",
    "            print(\"file not found\", fname)\n",
    "            continue\n",
    "        print(\"copying \", fname, \"to\", directory)\n",
    "        destdir = os.path.join(directory, os.path.dirname(fname))\n",
    "        destfname = os.path.join(destdir, os.path.basename(fname))\n",
    "        try:\n",
    "            os.makedirs(destdir)\n",
    "        except FileExistsError:\n",
    "            pass\n",
    "        shutil.copy(fname, destfname)\n",
    "    with open(os.path.join(directory, md_fname), 'w') as fout:\n",
    "        fout.write(md)\n",
    "    print(\"exported in \", os.path.join(directory, md_fname))\n",
    "    [print(\"    + \" + os.path.join(directory,fk)) for fk in fig_fnames]"
   ]
  },
  {
   "cell_type": "code",
   "execution_count": 8,
   "id": "014d04a4",
   "metadata": {
    "execution": {
     "iopub.execute_input": "2024-09-19T04:13:06.011498Z",
     "iopub.status.busy": "2024-09-19T04:13:06.011261Z",
     "iopub.status.idle": "2024-09-19T04:13:06.028288Z",
     "shell.execute_reply": "2024-09-19T04:13:06.027593Z"
    },
    "papermill": {
     "duration": 0.024378,
     "end_time": "2024-09-19T04:13:06.029370",
     "exception": false,
     "start_time": "2024-09-19T04:13:06.004992",
     "status": "completed"
    },
    "tags": []
   },
   "outputs": [
    {
     "name": "stdout",
     "output_type": "stream",
     "text": [
      "found figures ['tmp_2409.11463/./Figures/SFR_obs_SFR_tot.png', 'tmp_2409.11463/./Figures/SFRD_2_panels.png', 'tmp_2409.11463/./Figures/parameter_space.png']\n",
      "copying  tmp_2409.11463/./Figures/SFR_obs_SFR_tot.png to _build/html/\n",
      "copying  tmp_2409.11463/./Figures/SFRD_2_panels.png to _build/html/\n",
      "copying  tmp_2409.11463/./Figures/parameter_space.png to _build/html/\n",
      "exported in  _build/html/2409.11463.md\n",
      "    + _build/html/tmp_2409.11463/./Figures/SFR_obs_SFR_tot.png\n",
      "    + _build/html/tmp_2409.11463/./Figures/SFRD_2_panels.png\n",
      "    + _build/html/tmp_2409.11463/./Figures/parameter_space.png\n",
      "found figures ['tmp_2409.11485/./Flux_Separation_Mass1.png', 'tmp_2409.11485/./Bestfit_linearconst_up.png', 'tmp_2409.11485/./Multiples_Comparison.png']\n",
      "copying  tmp_2409.11485/./Flux_Separation_Mass1.png to _build/html/\n",
      "copying  tmp_2409.11485/./Bestfit_linearconst_up.png to _build/html/\n",
      "copying  tmp_2409.11485/./Multiples_Comparison.png to _build/html/\n",
      "exported in  _build/html/2409.11485.md\n",
      "    + _build/html/tmp_2409.11485/./Flux_Separation_Mass1.png\n",
      "    + _build/html/tmp_2409.11485/./Bestfit_linearconst_up.png\n",
      "    + _build/html/tmp_2409.11485/./Multiples_Comparison.png\n",
      "found figures ['tmp_2409.12185/./figures/multiwave_all_max_labels_updated_v4.png', 'tmp_2409.12185/./figures/hnco_rgb_v3.png', 'tmp_2409.12185/./figures/radial-profile.png']\n",
      "copying  tmp_2409.12185/./figures/multiwave_all_max_labels_updated_v4.png to _build/html/\n",
      "copying  tmp_2409.12185/./figures/hnco_rgb_v3.png to _build/html/\n",
      "copying  tmp_2409.12185/./figures/radial-profile.png to _build/html/\n",
      "exported in  _build/html/2409.12185.md\n",
      "    + _build/html/tmp_2409.12185/./figures/multiwave_all_max_labels_updated_v4.png\n",
      "    + _build/html/tmp_2409.12185/./figures/hnco_rgb_v3.png\n",
      "    + _build/html/tmp_2409.12185/./figures/radial-profile.png\n",
      "found figures ['tmp_2409.12187/./Hgamma34.png', 'tmp_2409.12187/./Hgamma35.png', 'tmp_2409.12187/./H_delta.png', 'tmp_2409.12187/./SED_fit_new.png', 'tmp_2409.12187/./Halpha.png', 'tmp_2409.12187/./Hbeta.png']\n",
      "copying  tmp_2409.12187/./Hgamma34.png to _build/html/\n",
      "copying  tmp_2409.12187/./Hgamma35.png to _build/html/\n",
      "copying  tmp_2409.12187/./H_delta.png to _build/html/\n",
      "copying  tmp_2409.12187/./SED_fit_new.png to _build/html/\n",
      "copying  tmp_2409.12187/./Halpha.png to _build/html/\n",
      "copying  tmp_2409.12187/./Hbeta.png to _build/html/\n",
      "exported in  _build/html/2409.12187.md\n",
      "    + _build/html/tmp_2409.12187/./Hgamma34.png\n",
      "    + _build/html/tmp_2409.12187/./Hgamma35.png\n",
      "    + _build/html/tmp_2409.12187/./H_delta.png\n",
      "    + _build/html/tmp_2409.12187/./SED_fit_new.png\n",
      "    + _build/html/tmp_2409.12187/./Halpha.png\n",
      "    + _build/html/tmp_2409.12187/./Hbeta.png\n"
     ]
    }
   ],
   "source": [
    "for paper_id, md in documents:\n",
    "    export_markdown_summary(md, f\"{paper_id:s}.md\", '_build/html/')"
   ]
  },
  {
   "cell_type": "markdown",
   "id": "f087a0a7",
   "metadata": {
    "papermill": {
     "duration": 0.00571,
     "end_time": "2024-09-19T04:13:06.041206",
     "exception": false,
     "start_time": "2024-09-19T04:13:06.035496",
     "status": "completed"
    },
    "tags": []
   },
   "source": [
    "## Display the papers\n",
    "\n",
    "Not necessary but allows for a quick check."
   ]
  },
  {
   "cell_type": "code",
   "execution_count": 9,
   "id": "fd25f625",
   "metadata": {
    "execution": {
     "iopub.execute_input": "2024-09-19T04:13:06.054148Z",
     "iopub.status.busy": "2024-09-19T04:13:06.053648Z",
     "iopub.status.idle": "2024-09-19T04:13:06.062423Z",
     "shell.execute_reply": "2024-09-19T04:13:06.061716Z"
    },
    "papermill": {
     "duration": 0.016545,
     "end_time": "2024-09-19T04:13:06.063586",
     "exception": false,
     "start_time": "2024-09-19T04:13:06.047041",
     "status": "completed"
    },
    "scrolled": false,
    "tags": []
   },
   "outputs": [
    {
     "data": {
      "text/markdown": [
       "<div class=\"macros\" style=\"visibility:hidden;\">\n",
       "$\\newcommand{\\ensuremath}{}$\n",
       "$\\newcommand{\\xspace}{}$\n",
       "$\\newcommand{\\object}[1]{\\texttt{#1}}$\n",
       "$\\newcommand{\\farcs}{{.}''}$\n",
       "$\\newcommand{\\farcm}{{.}'}$\n",
       "$\\newcommand{\\arcsec}{''}$\n",
       "$\\newcommand{\\arcmin}{'}$\n",
       "$\\newcommand{\\ion}[2]{#1#2}$\n",
       "$\\newcommand{\\textsc}[1]{\\textrm{#1}}$\n",
       "$\\newcommand{\\hl}[1]{\\textrm{#1}}$\n",
       "$\\newcommand{\\footnote}[1]{}$\n",
       "$\\newcommand{\\arraystretch}{1.2}$\n",
       "$\\newcommand{\\thebibliography}{\\DeclareRobustCommand{\\VAN}[3]{##3}\\VANthebibliography}$</div>\n",
       "\n",
       "\n",
       "\n",
       "<div id=\"title\">\n",
       "\n",
       "# Characterizing the contribution of dust-obscured star formation at $z \\gtrsim$ 5 using18 serendipitously identified [CII] emitters\n",
       "\n",
       "</div>\n",
       "<div id=\"comments\">\n",
       "\n",
       "[![arXiv](https://img.shields.io/badge/arXiv-2409.11463-b31b1b.svg)](https://arxiv.org/abs/2409.11463)<mark>Appeared on: 2024-09-19</mark> -  _Accepted for publication in MNRAS. 24 pages, 14 figures, 8 tables (including appendices)_\n",
       "\n",
       "</div>\n",
       "<div id=\"authors\">\n",
       "\n",
       "I. F. v. Leeuwen, et al. -- incl., <mark>F. Walter</mark>\n",
       "\n",
       "</div>\n",
       "<div id=\"abstract\">\n",
       "\n",
       "**Abstract:** $\\noindent$ We present a new method to determine the star formation rate (SFR) density of the Universe at $z \\gtrsim 5$ that includes the contribution of dust-obscured star formation. For this purpose, we use a [ CII ] (158 $\\mu$ m) selected sample of galaxies serendipitously identified in the fields of known $z\\gtrsim 4.5$ objects to characterize the fraction of obscured SFR. The advantage of a [ CII ] selection is that our sample is SFR-selected, in contrast to a UV-selection that would be biased towards unobscured star formation. We obtain a sample of 23 [ CII ] emitters near star-forming (SF) galaxies and QSOs -- three of which we identify for the first time -- using previous literature and archival ALMA data. 18 of these serendipitously identified galaxies have sufficiently deep rest-UV data and are used to characterize the obscured fraction of the star formation in galaxies with SFRs $\\gtrsim 30 \\text{M}_{\\odot}   \\text{yr}^{-1}$ . We find that [ CII ] emitters identified around SF galaxies have $\\approx$ 63 \\% of their SFR obscured, while [ CII ] emitters around QSOs have $\\approx$ 93 \\% of their SFR obscured. By forward modeling existing wide-area UV luminosity function (LF) determinations, we derive the intrinsic UV LF using our characterization of the obscured SFR. Integrating the intrinsic LF to $M_{UV}$ = $-$ 20 we find that the obscured SFRD contributes to $>3\\%$ and $>10\\%$ of the total SFRD at $z \\sim 5$ and $z \\sim 6$ based on our sample of companions galaxies near SFGs and QSOs, respectively. Our results suggest that dust obscuration is not negligible at $z\\gtrsim 5$ , further underlining the importance of far-IR observations of the $z\\gtrsim 5$ Universe.\n",
       "\n",
       "</div>\n",
       "\n",
       "<div id=\"div_fig1\">\n",
       "\n",
       "<img src=\"tmp_2409.11463/./Figures/SFR_obs_SFR_tot.png\" alt=\"Fig8\" width=\"100%\"/>\n",
       "\n",
       "**Figure 8. -** The unobscured fraction of the SFR as a function of the total SFR as measured from the [CII] emission from companions galaxies around SF galaxies (_left_) and companions galaxies around QSOs (_right_). The [CII]-selected galaxies are shown in red and orange for these samples, respectively, and the mean unobscured fraction by the black solid line. The width of the shaded grey region indicates the 16th and 84th percentiles of the mean fraction. Galaxies that are not detected in the far-IR are indicated by an upside down triangle. The blue diamonds show the relation derived for the stacked UV-selected ALPINE galaxies \\citep{bethermin2020}, while the purple crosses show the relation based on the stacked REBELS sample \\citep{algera23}. The dotted lines show the $z \\sim 5$ and $z \\sim 6$ relations from \\citet{mauerhofer} from the DELPHI semi-analytic model calibrated with ALPINE and REBELS galaxies. Also shown are the IRX-$M_{*}$  relations from ASPECS \\citep{Bouwens2020},  A$^3$COSMOS \\citep{fudamoto20} and ALPINE/REBELS \\citep{bowler23} assuming the main sequence relation from \\citet{speagle14} for $z = 5$ and $z = 6$. The top axis shows the stellar masses assuming the same relation from \\citet{speagle14} at $z = 5$ and $z = 6$. (*fig:obs*)\n",
       "\n",
       "</div>\n",
       "<div id=\"div_fig2\">\n",
       "\n",
       "<img src=\"tmp_2409.11463/./Figures/SFRD_2_panels.png\" alt=\"Fig11\" width=\"100%\"/>\n",
       "\n",
       "**Figure 11. -** Constraints on the SFR density as a function of redshift. _Top panel:_ The red and orange solid circles show the SFR density we estimate from our intrinsic UV luminosity functions based on dust obscuration from companions around SF galaxies and QSOs, respectively, integrated to $-17$ mag. We only infer the intrinsic LF and dust corrections over the SFR range directly sampled by our work and therefore the dust corrected SFRDs we derive are lower limits. The blue solid circles show the SFR density when we integrate the observed UV LF from \\citet{Harikane2022} to $-17$ mag. The solid black line indicates the fiducial SFR density evolution from \\citet{Madau2014}.  Meanwhile, the dashed/dotted lines correspond to the dust-rich and dust-poor models from \\citet{casey2018brightest} and intrinsic and dust-attenuated models from \\citet{mauerhofer}. Furthermore, we show the constraints on the rest-UV SFRD from \\citet{bouwens2022}(_grey triangles_), the SFRD from radio-observations from \\citet{Vlugt22}(_green triangles_) and SFRDs from the [CII]-LF from the ALPINE companions from \\citet{Loiacona_alpine}(_aqua and purple crosses_).\n",
       "    _Lower panel:_ The purple and green solid circles show the contribution of dust-obscured sources to the SFR density, based on the dust obscuration from SF galaxy and QSO companions, respectively. The empty purple and green circles show the dust-obscured SFRD when we assume a constant mean obscuration instead of using the distribution of obscured fractions. Other estimates of the contribution of obscured sources to the SFRD are shown, including those of \\citet{Casey2021_MORA}(_light blue triangles_), \\citet{Wang2019}(_orange pentagons_), \\citet{Barrufet}(_gray thin diamond_), \\citet{algera}(_yellow triangle_), \\citet{fudamoto_nature}(_pink star_),  \\citet{gruppioni2020}(_pink diamonds_),  \\citet{Traina}(_aqua squares_), \\citet{Khusanova_21}(_red cross and plus sign_), \\citet{dud+20}(_green shaded region_) and \\citet{vlugt23}(_orange shaded region_). (*fig:SFRD*)\n",
       "\n",
       "</div>\n",
       "<div id=\"div_fig3\">\n",
       "\n",
       "<img src=\"tmp_2409.11463/./Figures/parameter_space.png\" alt=\"Fig1\" width=\"100%\"/>\n",
       "\n",
       "**Figure 1. -** The redshifts and [CII] luminosities of the 161 ALMA targets we use to search for a sample of [CII]-emitting companion galaxies.  The [CII] luminosity of the archival sources is derived based on the peak flux and the redshift is from the peak frequency of [CII]. The red circles correspond to the 27 quasars with [CII] detections where \\citet{venemans_kilo} has already described a companion search, while the purple stars and blue diamonds correspond to the 25 [CII]-detected galaxies from REBELS \\citep{rebels} and 75 [CII]-detected galaxies from ALPINE \\citep{alpine}, where companion searches have been done (\\citealt{fudamoto_nature,Loiacona_alpine}; see also Schouws et al. 2024, in prep.).\n",
       "    Green squares indicate the 34 [CII]-detected ALMA targets where no searches for [CII]-emitting companion galaxies have thus far been reported in the literature, and we provide for the first time here.\n",
       "    Filled markers indicate targeted galaxies with serendipitously detected companions, while open markers are targeted galaxies without detected companions. (*fig:parameter_space*)\n",
       "\n",
       "</div><div id=\"qrcode\"><img src=https://api.qrserver.com/v1/create-qr-code/?size=100x100&data=\"https://arxiv.org/abs/2409.11463\"></div>"
      ],
      "text/plain": [
       "<IPython.core.display.Markdown object>"
      ]
     },
     "metadata": {},
     "output_type": "display_data"
    },
    {
     "data": {
      "text/markdown": [
       "<div class=\"macros\" style=\"visibility:hidden;\">\n",
       "$\\newcommand{\\ensuremath}{}$\n",
       "$\\newcommand{\\xspace}{}$\n",
       "$\\newcommand{\\object}[1]{\\texttt{#1}}$\n",
       "$\\newcommand{\\farcs}{{.}''}$\n",
       "$\\newcommand{\\farcm}{{.}'}$\n",
       "$\\newcommand{\\arcsec}{''}$\n",
       "$\\newcommand{\\arcmin}{'}$\n",
       "$\\newcommand{\\ion}[2]{#1#2}$\n",
       "$\\newcommand{\\textsc}[1]{\\textrm{#1}}$\n",
       "$\\newcommand{\\hl}[1]{\\textrm{#1}}$\n",
       "$\\newcommand{\\footnote}[1]{}$</div>\n",
       "\n",
       "\n",
       "\n",
       "<div id=\"title\">\n",
       "\n",
       "# Survey of Orion Disks with ALMA (SODA)\n",
       "\n",
       "</div>\n",
       "<div id=\"comments\">\n",
       "\n",
       "[![arXiv](https://img.shields.io/badge/arXiv-2409.11485-b31b1b.svg)](https://arxiv.org/abs/2409.11485)<mark>Appeared on: 2024-09-19</mark> -  _18 pages, 30 figures, comments welcome_\n",
       "\n",
       "</div>\n",
       "<div id=\"authors\">\n",
       "\n",
       "G. Ricciardi, et al. -- incl., <mark>S. v. Terwisga</mark>, <mark>T. Henning</mark>\n",
       "\n",
       "</div>\n",
       "<div id=\"abstract\">\n",
       "\n",
       "**Abstract:** Observations of protoplanetary disks within multiple systems in nearby star-forming regions (SFRs) have shown that the presence of a neighboring object influences the evolution of dust of disks. However, the sample size available and the separation range covered are insufficient to fully understand the dust evolution in binary systems. The goal of this work is to comprehensively characterize the impact of stellar multiplicity on Class II disks in the L1641 and L1647 regions of Orion A ( $\\sim$ 1-3 Myr), part of the Survey of Orion Disks with ALMA (SODA). We characterize the protostellar multiplicity using the Atacama Large Millimeter/submillimeter Array (ALMA), the ESO-VISTA, and Hubble Space telescopes. The resulting sample of 65 multiple systems represents the largest catalogue of wide binary systems to date (projected separation $\\geq$ 1000 AU), allowing a more robust statistical characterization of the evolution and properties of protoplanetary disks. The disk population was observed in continuum with ALMA at 225 GHz, with a median rms of 1.5 M $_{\\oplus}$ . Combining these data (resolution $\\sim$ 1.1 $^{\"}$ ) with the ESO-VISTA near-infrared survey of the Orion A cloud (resolution $\\sim$ 0.7 $^{\"}$ ), multiple systems are assembled and selected by an iterative inside-out search in projected separation ( $\\geq$ 1000 AU). We identify 61 binary systems, 3 triple systems, and one quadruple system. The separation range is between 1000 and 10 $^4$ AU. The dust mass distributions inferred with the Kaplan-Meier estimator yield a median mass of 3.23 $^{+0.6}_{-0.4}$ M $_{\\oplus}$ for primary disks and 3.88 $^{+0.3}_{-0.3}$ M $_{\\oplus}$ for secondary disks. Combining our data with those available for Lupus and Taurus disks, we identify a threshold separation of about 130 AU, beyond which the previously observed positive correlation between millimeter flux (and hence dust mass) and projected separation is lost. Recent theoretical models confirm that pre- and post-threshold systems are the result of different star formation processes, such as the fragmentation of a gravitationally unstable circumstellar disks, the thermal fragmentation of infalling cores, or the turbulent fragmentation of molecular clouds. We can rule out the dependency on different SFRs: the cumulative mass distribution of multiples in SFRs of similar age are statistically indistinguishable. This result strengthens the hypothesis that there is a universal initial mass distribution for disks.\n",
       "\n",
       "</div>\n",
       "\n",
       "<div id=\"div_fig1\">\n",
       "\n",
       "<img src=\"tmp_2409.11485/./Flux_Separation_Mass1.png\" alt=\"Fig30\" width=\"100%\"/>\n",
       "\n",
       "**Figure 30. -** Pair millimeter flux (re-scaled to a distance of $d=140 pc$) and dust mass of binary systems as a function of their projected separation, located in Orion A, Lupus  ([Zurlo, Cieza and Ansdell 2021](), [Ansdell, Williams and Trapman 2018]()) , and Taurus  ([Akeson, Jensen and Carpenter 2020](), [Manara, Tazzari and Long 2019](), [ and Akeson 2014](),  Harris_2012) . Crosses represent detections and triangles represent non-detections: according to [Akeson, Jensen and Carpenter (2020)](), we consider a binary pair to be detected only if both disk components were detected. In blue is the linear regression (slope $m=0.69^{+0.13}_{-0.12}$, intercept $q=-0.45^{+0.31}_{-0.33}$) from [Zagaria, Rosotti and Lodato (2021)](), and in purple is the linear regression (slope $m=0.15^{+0.11}_{-0.12}$, intercept $q=0.92^{+0.34}_{-0.32}$) we get considering also our binary sample. (*figure:fluxsep*)\n",
       "\n",
       "</div>\n",
       "<div id=\"div_fig2\">\n",
       "\n",
       "<img src=\"tmp_2409.11485/./Bestfit_linearconst_up.png\" alt=\"Fig31\" width=\"100%\"/>\n",
       "\n",
       "**Figure 31. -** Regression best-fit of the logarithm of flux over the logarithm of separation. Free parameters: m (slope),  q (intercept), and x$_{edge}$(i.e., separation threshold).\\ Crosses indicate detected systems, while triangles indicate upper limits. The binary systems are color-coded as in Figure \\ref{figure:fluxsep}. (*figure:linearconst*)\n",
       "\n",
       "</div>\n",
       "<div id=\"div_fig3\">\n",
       "\n",
       "<img src=\"tmp_2409.11485/./Multiples_Comparison.png\" alt=\"Fig1\" width=\"100%\"/>\n",
       "\n",
       "**Figure 1. -** Dust mass distributions inferred with the Kaplan-Meier estimator for the binary systems located in Orion A, Lupus, Taurus, and Upper Scorpius. For the later 3 regions, we have considered the available data from the relevant literature  ([Zurlo, Cieza and Ansdell 2021](), [Ansdell, Williams and Trapman 2018](), [Akeson, Jensen and Carpenter 2020](), [Manara, Tazzari and Long 2019](), [ and Akeson 2014](),  Harris_2012,  Barenfeld_2019) . (*figure:literature*)\n",
       "\n",
       "</div><div id=\"qrcode\"><img src=https://api.qrserver.com/v1/create-qr-code/?size=100x100&data=\"https://arxiv.org/abs/2409.11485\"></div>"
      ],
      "text/plain": [
       "<IPython.core.display.Markdown object>"
      ]
     },
     "metadata": {},
     "output_type": "display_data"
    },
    {
     "data": {
      "text/markdown": [
       "<div class=\"macros\" style=\"visibility:hidden;\">\n",
       "$\\newcommand{\\ensuremath}{}$\n",
       "$\\newcommand{\\xspace}{}$\n",
       "$\\newcommand{\\object}[1]{\\texttt{#1}}$\n",
       "$\\newcommand{\\farcs}{{.}''}$\n",
       "$\\newcommand{\\farcm}{{.}'}$\n",
       "$\\newcommand{\\arcsec}{''}$\n",
       "$\\newcommand{\\arcmin}{'}$\n",
       "$\\newcommand{\\ion}[2]{#1#2}$\n",
       "$\\newcommand{\\textsc}[1]{\\textrm{#1}}$\n",
       "$\\newcommand{\\hl}[1]{\\textrm{#1}}$\n",
       "$\\newcommand{\\footnote}[1]{}$\n",
       "$\\newcommand{\\HII}{\\ion{H}{II}}$\n",
       "$\\newcommand{\\Ha}{H{\\alpha}}$\n",
       "$\\newcommand{\\kms}{\\rm km s^{-1}}$\n",
       "$\\newcommand{\\xx}[1]{\\textcolor{black}{ #1}}$\n",
       "$\\newcommand\\kms{{\\rm km s^{-1}}}$\n",
       "$\\newcommand\\Kkms{{\\rm K km s^{-1}}}$\n",
       "$\\newcommand\\msun{{\\mathrm{M}_\\odot}}$\n",
       "$\\newcommand\\lsun{{\\mathrm{L}_\\odot}}$\n",
       "$\\newcommand\\micron{\\hbox{\\mum}}$\n",
       "$\\newcommand\\solyr{{\\rm M_\\odot yr^{-1}}}$\n",
       "$\\newcommand\\sol{{\\rm M_\\odot}}$\n",
       "$\\newcommand\\dyncm{{\\rm dyn cm^{-2}}}$\n",
       "$\\newcommand\\ergs{{\\rm  erg s^{-1}}}$\n",
       "$\\newcommand\\cmsq{{\\rm cm^{-2}}}$\n",
       "$\\newcommand\\cmcb{{\\rm cm^{-3}}}$\n",
       "$\\newcommand\\gcmsq{{\\rm g cm^{-2}}}$\n",
       "$\\newcommand\\gcmcb{{\\rm g cm^{-3}}}$\n",
       "$\\newcommand\\Kcmcb{{\\rm K cm^{-3}}}$\n",
       "$\\newcommand\\ntdp{{\\rm N_2D^+}}$\n",
       "$\\newcommand\\name{{\\rm the vortex}}$</div>\n",
       "\n",
       "\n",
       "\n",
       "<div id=\"title\">\n",
       "\n",
       "# Disruption of a massive molecular cloud by a supernova in the Galactic Centre\n",
       "\n",
       "</div>\n",
       "<div id=\"comments\">\n",
       "\n",
       "[![arXiv](https://img.shields.io/badge/arXiv-2409.12185-b31b1b.svg)](https://arxiv.org/abs/2409.12185)<mark>Appeared on: 2024-09-19</mark> -  _17 pages, 13 figures, and 2 tables. Accepted for publication in Astronomy & Astrophysics_\n",
       "\n",
       "</div>\n",
       "<div id=\"authors\">\n",
       "\n",
       "M. Nonhebel, et al.\n",
       "\n",
       "</div>\n",
       "<div id=\"abstract\">\n",
       "\n",
       "**Abstract:** The Milky Way's Central Molecular Zone (CMZ) differs dramatically from our local solar neighbourhood, both in the extreme interstellar medium conditions it exhibits (e.g. high gas, stellar, and feedback density) and in the strong dynamics at play (e.g. due to shear and gas influx along the bar).Consequently, it is likely that there are large-scale physical structures within the CMZ that cannot form elsewhere in the Milky Way.In this paper, we present new results from the Atacama Large Millimeter/submillimeter Array (ALMA) large programme ACES (ALMA CMZ Exploration Survey) and conduct a multi-wavelength and kinematic analysis to determine the origin of the M0.8 $-$ 0.2 ring, a molecular cloud with a distinct ring-like morphology. We estimate the projected inner and outer radii of the M0.8 $-$ 0.2 ring to be 79 $\\arcsec$ and 154 $\\arcsec$ , respectively (3.1 pc and 6.1 pc at an assumed Galactic Centre distance of 8.2 kpc) and calculate a mean gas density $> 10^{4}$ cm $^{-3}$ , a mass of $\\sim$ $10^6$ $\\sol$ , and an expansion speed of $\\sim$ 20 $\\kms$ , resulting in a high estimated kinetic energy ( $> 10^{51}$ erg) and momentum ( $> 10^7$ $\\textup{M}_{\\odot}$ $\\kms$ ). We discuss several possible causes for the existence and expansion of the structure, including stellar feedback and large-scale dynamics. We propose that the most likely cause of the M0.8 $-$ 0.2 ring is a single high-energy hypernova explosion. To viably explain the observed morphology and kinematics, such an explosion would need to have taken place inside a dense, very massive molecular cloud, the remnants of which we now see as the M0.8 $-$ 0.2 ring. In this case, the structure provides an extreme example of how supernovae can affect molecular clouds.\n",
       "\n",
       "</div>\n",
       "\n",
       "<div id=\"div_fig1\">\n",
       "\n",
       "<img src=\"tmp_2409.12185/./figures/multiwave_all_max_labels_updated_v4.png\" alt=\"Fig7\" width=\"100%\"/>\n",
       "\n",
       "**Figure 7. -** {Multi-wavelength view of the M0.8$-$0.2 ring.}\n",
       "    The dotted white circles in each panel show the approximate extent of the _Herschel_ 250 $\\mu$m continuum emission of the ring. The cyan circle marks the position of the $\\ion${H}{ii} region discussed in Sect. \\ref{subsec_youngfeedback}.\n",
       "    _Top row, left to right:__Chandra_ 4 - 6 keV emission  ([ and Wang 2021]()) , 2MASS K-band observations  ([Skrutskie, Cutri and Stiening 2006]()) , and _Spitzer_ 8 $\\mu$m observations from the GLIMPSE survey  ([Churchwell, Babler and Meade 2009]()) . _Middle row, left to right:__Spitzer_ MIPSGAL 24 $\\mu$m  ([Carey, Noriega-Crespo and Mizuno 2009]())  and _Herschel_  70 and 250 $\\mu$m observations  ([Molinari, Swinyard and Bally 2010]()) . _Bottom row, left to right:_ 3 mm continuum emission from the ACES survey (12 m combined with GBT+_Planck_ from \\citealp{Ginsburg2020}), 20 cm emission observed by MeerKAT, and the MeerKAT spectral index map, with a zoomed-in view of the peak H40$\\alpha$ emission at the location of the $\\ion${H}{ii} region overlaid.\n",
       "    In the 3 mm continuum image, magnetic field pseudo-vectors from the FIREPLACE polarimetry survey are overlaid (polarisation vectors rotated by 90 degrees, as the direction of the polarised electric field measured in the infrared is considered to be perpendicular to that of the magnetic field; \\citealp{Butterfield2023, Butterfield2024}).\n",
       "    The beam sizes of the observations are shown with a circle in the lower-right corner of each panel, with the FWHMs as follows (proceeding from left to right and top to bottom, and finishing with the H40$\\alpha$ image): 0.5, 4, 2, 6, 5, 18, 2.5, 4, 4, and 1.4$\\arcsec$. A scale bar of 5 pc is displayed in yellow on the _Chandra_ image. (*fig_multiwavelength*)\n",
       "\n",
       "</div>\n",
       "<div id=\"div_fig2\">\n",
       "\n",
       "<img src=\"tmp_2409.12185/./figures/hnco_rgb_v3.png\" alt=\"Fig5\" width=\"100%\"/>\n",
       "\n",
       "**Figure 5. -** {Overview of the M0.8$-$0.2 ring within the CMZ.}_Upper-left panel:_ HNCO (4--3) peak intensity map (12 m, 7 m, and total power array data combined) from ACES towards the M0.8$-$0.2 ring. The colour scale extends from 0.2 to 8.0 K in square root stretch. The dotted white circles show the approximate extent of the _Herschel_ 250 $\\mu$m continuum emission of the ring-like structure. The ALMA beam size of 2.8$\\arcsec$ is shown in the lower right, and a scale bar of 5 pc is shown in the lower left of the panel. _Lower-left panel:_ HNCO (4--3) emission from the Mopra telescope  ([Jones, Burton and Cunningham 2012]()) . The Mopra beam size of 39$\\arcsec$ is shown in the lower right of the panel. _Upper-right panel:_ Multi-wavelength view of part of the CMZ. We show a three-colour composite of 8 \\micron emission  from the * Spitzer* GLIMPSE survey \\citep[green;][]{Churchwell2009}, 24 \\micron emission from the * Spitzer* MIPSGAL survey \\citep[yellow;][]{Carey2009}, and 20 cm emission observed by MeerKAT \\citep[red;][]{Heywood2019, Heywood2022} and the GBT (red; \\citealp{Law2008}). Overlaid as black contours are the total molecular gas column densities at levels of 5, 7.5, 10, 15, 25, and 50 $\\times  10^{22}$ cm$^{-2}$(Battersby et al., in prep) calculated using data from the * Herschel* Hi-GAL survey  ([Molinari, Swinyard and Bally 2010]()) . Also overlaid are a number of interesting features in the Galactic Centre and the dotted white circles highlighting the ring-like structure (identical to the left panels). The _Herschel_ beam size of 25$\\arcsec$ and a scale bar of 15 pc are shown in the lower left of the panel. _Lower-right panel:_ PV diagram of the Mopra HNCO (4--3) emission  ([Henshaw, Longmore and Kruijssen 2016]()) . Each point corresponds to the longitude and centroid velocity of a Gaussian component of the HNCO emission, extracted using {\\sc scouse} ([Henshaw, Longmore and Kruijssen 2016]()) . The emission at the position of the ring-like structure is highlighted with three different colours, corresponding to the velocity ranges <0 $\\kms$(blue), 0--70 $\\kms$(orange), and >70 $\\kms$(red). The orange dots correspond to the M0.8$-$0.2 ring, while the blue and red dots relate to additional line-of-sight material. The orbital model of [Kruijssen, Dale and Longmore (2015)]() is overlaid as a dashed black line. (*fig_CMZ_HNCO_peak*)\n",
       "\n",
       "</div>\n",
       "<div id=\"div_fig3\">\n",
       "\n",
       "<img src=\"tmp_2409.12185/./figures/radial-profile.png\" alt=\"Fig1\" width=\"100%\"/>\n",
       "\n",
       "**Figure 1. -** {Radial profile from _Herschel_ 250 $\\mu$m emission.} The mean flux contained in annuli of increasing radius is plotted, normalised against the peak value. The annuli are defined outwards from the centre of the M0.8-0.2 ring ($l=0.^{\\circ}804$ and $b=-0.^{\\circ}184$) with a thickness of one pixel. The overlaid vertical grey lines define the radii between which the normalised mean flux is above the threshold of 0.5, indicated by the horizontal grey line. (*fig_chans*)\n",
       "\n",
       "</div><div id=\"qrcode\"><img src=https://api.qrserver.com/v1/create-qr-code/?size=100x100&data=\"https://arxiv.org/abs/2409.12185\"></div>"
      ],
      "text/plain": [
       "<IPython.core.display.Markdown object>"
      ]
     },
     "metadata": {},
     "output_type": "display_data"
    },
    {
     "data": {
      "text/markdown": [
       "<div class=\"macros\" style=\"visibility:hidden;\">\n",
       "$\\newcommand{\\ensuremath}{}$\n",
       "$\\newcommand{\\xspace}{}$\n",
       "$\\newcommand{\\object}[1]{\\texttt{#1}}$\n",
       "$\\newcommand{\\farcs}{{.}''}$\n",
       "$\\newcommand{\\farcm}{{.}'}$\n",
       "$\\newcommand{\\arcsec}{''}$\n",
       "$\\newcommand{\\arcmin}{'}$\n",
       "$\\newcommand{\\ion}[2]{#1#2}$\n",
       "$\\newcommand{\\textsc}[1]{\\textrm{#1}}$\n",
       "$\\newcommand{\\hl}[1]{\\textrm{#1}}$\n",
       "$\\newcommand{\\footnote}[1]{}$\n",
       "$\\newcommand{\\mj}{\\ensuremath{M_\\mathrm{Jup}}\\xspace}$\n",
       "$\\newcommand{\\rj}{\\ensuremath{R_\\mathrm{Jup}}\\xspace}$\n",
       "$\\newcommand{\\mjyr}{\\ensuremath{M_\\mathrm{Jup} \\mathrm{yr^{-1}}}\\xspace}$\n",
       "$\\newcommand{\\Msyr}{\\ensuremath{M_\\odot \\mathrm{yr^{-1}}}\\xspace}$\n",
       "$\\newcommand{\\lsun}{\\ensuremath{L_\\odot}\\xspace}$\n",
       "$\\newcommand{\\msun}{\\ensuremath{M_\\odot}\\xspace}$\n",
       "$\\newcommand{\\rsun}{\\ensuremath{R_\\odot}\\xspace}$\n",
       "$\\newcommand{\\Mp}{\\ensuremath{M_{\\mathrm{p}}}\\xspace}$\n",
       "$\\newcommand{\\Rp}{\\ensuremath{R_{\\mathrm{p}}}\\xspace}$\n",
       "$\\newcommand{\\Mstar}{\\ensuremath{M_\\star}\\xspace}$\n",
       "$\\newcommand{\\Rstar}{\\ensuremath{R_\\star}\\xspace}$\n",
       "$\\newcommand{\\Teff}{\\ensuremath{T_{\\mathrm{eff}}}\\xspace}$\n",
       "$\\newcommand{\\Ha}{\\ensuremath{\\mathrm{H}\\alpha}\\xspace}$\n",
       "$\\newcommand{\\Hb}{\\ensuremath{\\mathrm{H}\\beta}\\xspace}$\n",
       "$\\newcommand{\\Hg}{\\ensuremath{\\mathrm{H}\\gamma}\\xspace}$\n",
       "$\\newcommand{\\Lbol}{\\ensuremath{L_{\\mathrm{bol}}}\\xspace}$\n",
       "$\\newcommand{\\Lacc}{\\ensuremath{L_{\\mathrm{acc}}}\\xspace}$\n",
       "$\\newcommand{\\mdot}{\\ensuremath{\\dot{M}_{\\mathrm{acc}}}\\xspace}$\n",
       "$\\newcommand{\\logm}{\\ensuremath{\\mathrm{log}(\\mdot/\\mjyr)}\\xspace}$\n",
       "$\\newcommand{\\Lline}{\\ensuremath{L_{\\mathrm{line}}}\\xspace}$\n",
       "$\\newcommand{\\logla}{\\ensuremath{\\mathrm{log}(\\Lacc/\\lsun)}\\xspace}$\n",
       "$\\newcommand{\\logll}{\\ensuremath{\\mathrm{log}(\\Lline/\\lsun)}\\xspace}$\n",
       "$\\newcommand{\\Hi}{H~\\textsc{i}\\xspace}$\n",
       "$\\newcommand{\\Hei}{He~\\textsc{i}\\xspace}$\n",
       "$\\newcommand{\\ff}{\\ensuremath{f_{f}}\\xspace}$\n",
       "$\\newcommand{\\lamrest}{\\ensuremath{\\lambda_\\mathrm{rest, air}}\\xspace}$\n",
       "$\\newcommand{\\lamobs}{\\ensuremath{\\lambda_\\mathrm{observed}}\\xspace}$\n",
       "$\\newcommand{\\Wten}{\\ensuremath{W_{10}}\\xspace}$\n",
       "$\\newcommand{\\kms}{\\ensuremath{\\mathrm{km s}^{-1}}\\xspace}$\n",
       "$\\newcommand{\\flux}{\\ensuremath{\\mathrm{erg s^{-1} cm^{-2} Å^{-1}}}\\xspace}$\n",
       "$\\newcommand{\\fluxinteg}{\\ensuremath{\\mathrm{erg s^{-1} cm^{-2}}}\\xspace}$\n",
       "$\\newcommand{\\masyr}{\\ensuremath{\\mathrm{mas yr^{-1}}}\\xspace}$\n",
       "$\\newcommand{\\cmcube}{\\ensuremath{\\mathrm{cm}^{-3}}\\xspace}$\n",
       "$\\newcommand{\\col}{\\textcolor{magenta}}$\n",
       "$\\newcommand{\\arraystretch}{1.2}$\n",
       "$\\newcommand{\\arraystretch}{1.3}$\n",
       "$\\newcommand{\\arraystretch}{1.2}$</div>\n",
       "\n",
       "\n",
       "\n",
       "<div id=\"title\">\n",
       "\n",
       "# Exoplanet accretion monitoring spectroscopic survey (ENTROPY)\n",
       "\n",
       "</div>\n",
       "<div id=\"comments\">\n",
       "\n",
       "[![arXiv](https://img.shields.io/badge/arXiv-2409.12187-b31b1b.svg)](https://arxiv.org/abs/2409.12187)<mark>Appeared on: 2024-09-19</mark> -  _Accepted for publication at A&A on 2024-09-11. 15 pages, 9 figures, 7 tables_\n",
       "\n",
       "</div>\n",
       "<div id=\"authors\">\n",
       "\n",
       "G. Viswanath, et al. -- incl., <mark>G.-D. Marleau</mark>\n",
       "\n",
       "</div>\n",
       "<div id=\"abstract\">\n",
       "\n",
       "**Abstract:** Accretion among planetary mass companions is a poorly understood phenomenon, due to the lack of both observational and theoretical studies. Detection of emission lines from accreting gas giants facilitate detailed investigations into this process. This work presents a detailed analysis of Balmer lines from one of the few known young, planetary-mass objects with observed emission, the isolated L2 $\\gamma$ dwarf 2MASS J11151597+1937266 with a mass between 7 and 21 $\\mj$ and an age of 5--45 Myr, located at $45\\pm2$ pc. We obtained the first high-resolution ( $R\\sim50,000$ ) spectrum of the target with VLT/UVES, an echelle spectrograph operating in the near-UV to visible wavelengths (3200--6800 Å). We report several resolved $\\Hi$ (H3--H6) and $\\Hei$ emission lines ( $\\lambda5875.6$ ) in the spectrum. Based on the asymmetric line profiles of $\\Ha$ and $\\Hb$ , 10 \\% width of $\\Ha$ ( $199\\pm1$  $\\kms$ ), tentative $\\Hei$  $\\lambda6678$ emission and indications of a disk from MIR excess, we confirm ongoing accretion at this object. Using the _Gaia_ update of the parallax, we revise its temperature to $1816\\pm63$ K and radius to $1.5\\pm0.1$ $\\rj$ . Analysis of observed $\\Hi$ profiles using 1D planet-surface shock model implies a pre-shock gas velocity of $v_0=120^{+80}_{-40}$  $\\kms$ and a pre-shock density of $\\log(n_0/\\mathrm{cm}^{-3})=14^{+0}_{-5}$ . The pre-shock velocity points to a mass of $\\Mp=6^{+8}_{-4} \\mj$ for the target. Combining the $\\Hi$ line luminosities and planetary $\\Lline$ -- $\\Lacc$ scaling relations, we derive a mass accretion rate of $\\mdot$ $=1.4^{+2.8}_{-0.9}\\times10^{-8}$  $\\mjyr$ . The line-emitting area predicted from planet-surface shock model is very small ( $\\sim0.03\\%$ ), and points to a shock at the base of a magnetospherically induced funnel. The $\\Ha$ profile exhibits much stronger flux than predicted by the model that best fits the rest of the $\\Hi$ profiles, indicating that another mechanism than shock emission contributes to the $\\Ha$ emission. Comparison of line fluxes and mass accretion rates from archival moderate-resolution SDSS spectra indicate variable accretion at 2MASS J11151597+1937266.\n",
       "\n",
       "</div>\n",
       "\n",
       "<div id=\"div_fig1\">\n",
       "\n",
       "<img src=\"tmp_2409.12187/./Hgamma34.png\" alt=\"Fig2.1\" width=\"33%\"/><img src=\"tmp_2409.12187/./Hgamma35.png\" alt=\"Fig2.2\" width=\"33%\"/><img src=\"tmp_2409.12187/./H_delta.png\" alt=\"Fig2.3\" width=\"33%\"/>\n",
       "\n",
       "**Figure 2. -** Line profiles of (upper panel) H$\\gamma$ in order 34, (middle panel) H$\\gamma$ in order 35, and (lower panel) H$\\delta$ in order 28 detected in the UVES spectrum for 2M1115 in the Blue arm. The flux uncertainties are shown as vertical error bars and represent the weighted standard deviation among the four observations. Velocity is set with respect to the rest-frame wavelength (in air) of the respective lines. (*fig2*)\n",
       "\n",
       "</div>\n",
       "<div id=\"div_fig2\">\n",
       "\n",
       "<img src=\"tmp_2409.12187/./SED_fit_new.png\" alt=\"Fig5\" width=\"100%\"/>\n",
       "\n",
       "**Figure 5. -** Least-$\\chi^2$ fits to the SED of 2M1115 with DRIFT-PHOENIX, BT-Settl-AGSS2009 and AMES-Dusty atmospheric models. The overall best fit with the minimum $\\chi^2$\n",
       "    corresponds to DRIFT-PHOENIX model at $\\Teff=1800\\pm50$ K, log(\\textsl{g})$=4.0\\pm0.25$ and metallicity$=0.3\\pm0.15$. The SDSS DR12 spectrum for 2M1115 is also shown, along with its flux uncertainty (grey shaded region). Note that the flux in the WISE $W4$ band is a 2$\\sigma$ upper limit, denoted by the red downward-pointing arrow, and is not included in the fitting process. The unWISE catalogue (\\citealp{lang16}; see \\url{https://unwise.me/photsearch/}) however reports a W4 detection consistent with this upper limit. (*apfig5*)\n",
       "\n",
       "</div>\n",
       "<div id=\"div_fig3\">\n",
       "\n",
       "<img src=\"tmp_2409.12187/./Halpha.png\" alt=\"Fig1.1\" width=\"50%\"/><img src=\"tmp_2409.12187/./Hbeta.png\" alt=\"Fig1.2\" width=\"50%\"/>\n",
       "\n",
       "**Figure 1. -** Line profiles of $\\Ha$ in the RedU arm (top panel), and $\\Hb$ in the RedL arm (bottom panel) of the UVES spectrum of 2M1115. NC, BC indicate narrow component and broad component, respectively, of the total Gaussian fit to the profile. The flux uncertainties are shown as vertical error bars and represent the weighted standard deviation among the four observations. Velocity is set with respect to the rest-frame wavelength (in air) of the respective lines. (*fig1*)\n",
       "\n",
       "</div><div id=\"qrcode\"><img src=https://api.qrserver.com/v1/create-qr-code/?size=100x100&data=\"https://arxiv.org/abs/2409.12187\"></div>"
      ],
      "text/plain": [
       "<IPython.core.display.Markdown object>"
      ]
     },
     "metadata": {},
     "output_type": "display_data"
    }
   ],
   "source": [
    "[display(Markdown(k[1])) for k in documents];"
   ]
  },
  {
   "cell_type": "markdown",
   "id": "873873a4",
   "metadata": {
    "papermill": {
     "duration": 0.006557,
     "end_time": "2024-09-19T04:13:06.077051",
     "exception": false,
     "start_time": "2024-09-19T04:13:06.070494",
     "status": "completed"
    },
    "tags": []
   },
   "source": [
    "# Create HTML index"
   ]
  },
  {
   "cell_type": "code",
   "execution_count": 10,
   "id": "cf665672",
   "metadata": {
    "execution": {
     "iopub.execute_input": "2024-09-19T04:13:06.091612Z",
     "iopub.status.busy": "2024-09-19T04:13:06.091075Z",
     "iopub.status.idle": "2024-09-19T04:13:06.099179Z",
     "shell.execute_reply": "2024-09-19T04:13:06.098593Z"
    },
    "papermill": {
     "duration": 0.016629,
     "end_time": "2024-09-19T04:13:06.100260",
     "exception": false,
     "start_time": "2024-09-19T04:13:06.083631",
     "status": "completed"
    },
    "tags": []
   },
   "outputs": [
    {
     "name": "stdout",
     "output_type": "stream",
     "text": [
      "185  publications files modified in the last 7 days.\n"
     ]
    }
   ],
   "source": [
    "from datetime import datetime, timedelta, timezone\n",
    "from glob import glob\n",
    "import os\n",
    "\n",
    "files = glob('_build/html/*.md')\n",
    "days = 7\n",
    "now = datetime.today()\n",
    "res = []\n",
    "for fk in files:\n",
    "    stat_result = os.stat(fk).st_ctime\n",
    "    modified = datetime.fromtimestamp(stat_result, tz=timezone.utc).replace(tzinfo=None)\n",
    "    delta = now.today() - modified\n",
    "    if delta <= timedelta(days=days):\n",
    "        res.append((delta.seconds, fk))\n",
    "res = [k[1] for k in reversed(sorted(res, key=lambda x:x[1]))]\n",
    "npub = len(res)\n",
    "print(len(res), f\" publications files modified in the last {days:d} days.\")\n",
    "# [ print('\\t', k) for k in res ];"
   ]
  },
  {
   "cell_type": "code",
   "execution_count": 11,
   "id": "015de740",
   "metadata": {
    "execution": {
     "iopub.execute_input": "2024-09-19T04:13:06.115364Z",
     "iopub.status.busy": "2024-09-19T04:13:06.114750Z",
     "iopub.status.idle": "2024-09-19T04:13:06.129525Z",
     "shell.execute_reply": "2024-09-19T04:13:06.128926Z"
    },
    "papermill": {
     "duration": 0.023469,
     "end_time": "2024-09-19T04:13:06.130681",
     "exception": false,
     "start_time": "2024-09-19T04:13:06.107212",
     "status": "completed"
    },
    "tags": []
   },
   "outputs": [
    {
     "name": "stdout",
     "output_type": "stream",
     "text": [
      "7  publications in the last 7 days.\n"
     ]
    }
   ],
   "source": [
    "import datetime\n",
    "from glob import glob\n",
    "\n",
    "def get_last_n_days(lst, days=1):\n",
    "    \"\"\" Get the documents from the last n days \"\"\"\n",
    "    sorted_lst = sorted(lst, key=lambda x: x[1], reverse=True)\n",
    "    for fname, date in sorted_lst:\n",
    "        if date >= str(datetime.date.today() - datetime.timedelta(days=days)):\n",
    "            yield fname\n",
    "\n",
    "def extract_appearance_dates(lst_file):\n",
    "    dates = []\n",
    "\n",
    "    def get_date(line):\n",
    "        return line\\\n",
    "            .split('Appeared on:')[-1]\\\n",
    "            .split('</mark>')[0].strip()\n",
    "\n",
    "    for fname in lst:\n",
    "        with open(fname, 'r') as f:\n",
    "            found_date = False\n",
    "            for line in f:\n",
    "                if not found_date:\n",
    "                    if \"Appeared on\" in line:\n",
    "                        found_date = True\n",
    "                        dates.append((fname, get_date(line)))\n",
    "                else:\n",
    "                    break\n",
    "    return dates\n",
    "\n",
    "from glob import glob\n",
    "lst = glob('_build/html/*md')\n",
    "days = 7\n",
    "dates = extract_appearance_dates(lst)\n",
    "res = list(get_last_n_days(dates, days))\n",
    "npub = len(res)\n",
    "print(len(res), f\" publications in the last {days:d} days.\")"
   ]
  },
  {
   "cell_type": "code",
   "execution_count": 12,
   "id": "52ca0208",
   "metadata": {
    "execution": {
     "iopub.execute_input": "2024-09-19T04:13:06.145942Z",
     "iopub.status.busy": "2024-09-19T04:13:06.145446Z",
     "iopub.status.idle": "2024-09-19T04:13:06.150815Z",
     "shell.execute_reply": "2024-09-19T04:13:06.150220Z"
    },
    "papermill": {
     "duration": 0.014144,
     "end_time": "2024-09-19T04:13:06.151913",
     "exception": false,
     "start_time": "2024-09-19T04:13:06.137769",
     "status": "completed"
    },
    "scrolled": false,
    "tags": []
   },
   "outputs": [],
   "source": [
    "def create_carousel(npub=4):\n",
    "    \"\"\" Generate the HTML code for a carousel with `npub` slides \"\"\"\n",
    "    carousel = [\"\"\"  <div class=\"carousel\" \"\"\",\n",
    "                \"\"\"       data-flickity='{ \"autoPlay\": 10000, \"adaptiveHeight\": true, \"resize\": true, \"wrapAround\": true, \"pauseAutoPlayOnHover\": true, \"groupCells\": 1 }' id=\"asyncTypeset\">\"\"\"\n",
    "                ]\n",
    "    \n",
    "    item_str = \"\"\"    <div class=\"carousel-cell\"> <div id=\"slide{k}\" class=\"md_view\">Content {k}</div> </div>\"\"\"\n",
    "    for k in range(1, npub + 1):\n",
    "        carousel.append(item_str.format(k=k))\n",
    "    carousel.append(\"  </div>\")\n",
    "    return '\\n'.join(carousel)\n",
    "\n",
    "def create_grid(npub=4):\n",
    "    \"\"\" Generate the HTML code for a flat grid with `npub` slides \"\"\"\n",
    "    grid = [\"\"\"  <div class=\"grid\"> \"\"\",\n",
    "                ]\n",
    "    \n",
    "    item_str = \"\"\"    <div class=\"grid-item\"> <div id=\"slide{k}\" class=\"md_view\">Content {k}</div> </div>\"\"\"\n",
    "    for k in range(1, npub + 1):\n",
    "        grid.append(item_str.format(k=k))\n",
    "    grid.append(\"  </div>\")\n",
    "    return '\\n'.join(grid)"
   ]
  },
  {
   "cell_type": "code",
   "execution_count": 13,
   "id": "a6eac5b6",
   "metadata": {
    "execution": {
     "iopub.execute_input": "2024-09-19T04:13:06.166765Z",
     "iopub.status.busy": "2024-09-19T04:13:06.166289Z",
     "iopub.status.idle": "2024-09-19T04:13:06.171877Z",
     "shell.execute_reply": "2024-09-19T04:13:06.171154Z"
    },
    "papermill": {
     "duration": 0.014141,
     "end_time": "2024-09-19T04:13:06.172997",
     "exception": false,
     "start_time": "2024-09-19T04:13:06.158856",
     "status": "completed"
    },
    "scrolled": false,
    "tags": []
   },
   "outputs": [],
   "source": [
    "carousel = create_carousel(npub)\n",
    "docs = ', '.join(['\"{0:s}\"'.format(k.split('/')[-1]) for k in res])\n",
    "slides = ', '.join([f'\"slide{k}\"' for k in range(1, npub + 1)])\n",
    "\n",
    "with open(\"daily_template.html\", \"r\") as tpl:\n",
    "    page = tpl.read()\n",
    "    page = page.replace(\"{%-- carousel:s --%}\", carousel)\\\n",
    "               .replace(\"{%-- suptitle:s --%}\",  \"7-day archives\" )\\\n",
    "               .replace(\"{%-- docs:s --%}\", docs)\\\n",
    "               .replace(\"{%-- slides:s --%}\", slides)\n",
    "    \n",
    "with open(\"_build/html/index_7days.html\", 'w') as fout:\n",
    "    fout.write(page)"
   ]
  },
  {
   "cell_type": "code",
   "execution_count": 14,
   "id": "adc1a1ec",
   "metadata": {
    "execution": {
     "iopub.execute_input": "2024-09-19T04:13:06.188334Z",
     "iopub.status.busy": "2024-09-19T04:13:06.187850Z",
     "iopub.status.idle": "2024-09-19T04:13:06.194827Z",
     "shell.execute_reply": "2024-09-19T04:13:06.194206Z"
    },
    "papermill": {
     "duration": 0.015728,
     "end_time": "2024-09-19T04:13:06.195828",
     "exception": false,
     "start_time": "2024-09-19T04:13:06.180100",
     "status": "completed"
    },
    "tags": []
   },
   "outputs": [
    {
     "name": "stdout",
     "output_type": "stream",
     "text": [
      "5  publications in the last day.\n"
     ]
    }
   ],
   "source": [
    "# redo for today\n",
    "days = 1\n",
    "res = list(get_last_n_days(dates, days))\n",
    "npub = len(res)\n",
    "print(len(res), f\" publications in the last day.\")\n",
    "\n",
    "carousel = create_carousel(npub)\n",
    "docs = ', '.join(['\"{0:s}\"'.format(k.split('/')[-1]) for k in res])\n",
    "slides = ', '.join([f'\"slide{k}\"' for k in range(1, npub + 1)])\n",
    "\n",
    "with open(\"daily_template.html\", \"r\") as tpl:\n",
    "    page = tpl.read()\n",
    "    page = page.replace(\"{%-- carousel:s --%}\", carousel)\\\n",
    "               .replace(\"{%-- suptitle:s --%}\",  \"Daily\" )\\\n",
    "               .replace(\"{%-- docs:s --%}\", docs)\\\n",
    "               .replace(\"{%-- slides:s --%}\", slides)\n",
    "    \n",
    "# print(carousel, docs, slides)\n",
    "# print(page)\n",
    "with open(\"_build/html/index_daily.html\", 'w') as fout:\n",
    "    fout.write(page)"
   ]
  },
  {
   "cell_type": "code",
   "execution_count": 15,
   "id": "00eece82",
   "metadata": {
    "execution": {
     "iopub.execute_input": "2024-09-19T04:13:06.211108Z",
     "iopub.status.busy": "2024-09-19T04:13:06.210642Z",
     "iopub.status.idle": "2024-09-19T04:13:06.217590Z",
     "shell.execute_reply": "2024-09-19T04:13:06.216881Z"
    },
    "papermill": {
     "duration": 0.015709,
     "end_time": "2024-09-19T04:13:06.218604",
     "exception": false,
     "start_time": "2024-09-19T04:13:06.202895",
     "status": "completed"
    },
    "scrolled": false,
    "tags": []
   },
   "outputs": [
    {
     "name": "stdout",
     "output_type": "stream",
     "text": [
      "6  6 publications selected.\n"
     ]
    }
   ],
   "source": [
    "# Create the flat grid of the last N papers (fixed number regardless of dates)\n",
    "from itertools import islice \n",
    "\n",
    "npub = 6\n",
    "res = [k[0] for k in (islice(reversed(sorted(dates, key=lambda x: x[1])), 6))]\n",
    "print(len(res), f\" {npub} publications selected.\")\n",
    "\n",
    "grid = create_grid(npub)\n",
    "docs = ', '.join(['\"{0:s}\"'.format(k.split('/')[-1]) for k in res])\n",
    "slides = ', '.join([f'\"slide{k}\"' for k in range(1, npub + 1)])\n",
    "\n",
    "with open(\"grid_template.html\", \"r\") as tpl:\n",
    "    page = tpl.read()\n",
    "    page = page.replace(\"{%-- grid-content:s --%}\", grid)\\\n",
    "               .replace(\"{%-- suptitle:s --%}\",  f\"Last {npub:,d} papers\" )\\\n",
    "               .replace(\"{%-- docs:s --%}\", docs)\\\n",
    "               .replace(\"{%-- slides:s --%}\", slides)\n",
    "    \n",
    "# print(grid, docs, slides)\n",
    "# print(page)\n",
    "with open(\"_build/html/index_npub_grid.html\", 'w') as fout:\n",
    "    fout.write(page)"
   ]
  }
 ],
 "metadata": {
  "kernelspec": {
   "display_name": "Python 3 (ipykernel)",
   "language": "python",
   "name": "python3"
  },
  "language_info": {
   "codemirror_mode": {
    "name": "ipython",
    "version": 3
   },
   "file_extension": ".py",
   "mimetype": "text/x-python",
   "name": "python",
   "nbconvert_exporter": "python",
   "pygments_lexer": "ipython3",
   "version": "3.9.20"
  },
  "papermill": {
   "default_parameters": {},
   "duration": 181.038598,
   "end_time": "2024-09-19T04:13:06.541645",
   "environment_variables": {},
   "exception": null,
   "input_path": "MPIA daily digest.ipynb",
   "output_path": "log.ipynb",
   "parameters": {},
   "start_time": "2024-09-19T04:10:05.503047",
   "version": "2.6.0"
  },
  "vscode": {
   "interpreter": {
    "hash": "aee8b7b246df8f9039afb4144a1f6fd8d2ca17a180786b69acc140d282b71a49"
   }
  },
  "widgets": {
   "application/vnd.jupyter.widget-state+json": {
    "state": {
     "45ef3e0d82424abeb1783bcf0d58dabf": {
      "model_module": "@jupyter-widgets/controls",
      "model_module_version": "2.0.0",
      "model_name": "HTMLStyleModel",
      "state": {
       "_model_module": "@jupyter-widgets/controls",
       "_model_module_version": "2.0.0",
       "_model_name": "HTMLStyleModel",
       "_view_count": null,
       "_view_module": "@jupyter-widgets/base",
       "_view_module_version": "2.0.0",
       "_view_name": "StyleView",
       "background": null,
       "description_width": "",
       "font_size": null,
       "text_color": null
      }
     },
     "4ad8c700c8cb4652b29aac61b83b7ec2": {
      "model_module": "@jupyter-widgets/controls",
      "model_module_version": "2.0.0",
      "model_name": "ProgressStyleModel",
      "state": {
       "_model_module": "@jupyter-widgets/controls",
       "_model_module_version": "2.0.0",
       "_model_name": "ProgressStyleModel",
       "_view_count": null,
       "_view_module": "@jupyter-widgets/base",
       "_view_module_version": "2.0.0",
       "_view_name": "StyleView",
       "bar_color": null,
       "description_width": ""
      }
     },
     "68f92655ac4c407c85aec7f497f1ed96": {
      "model_module": "@jupyter-widgets/controls",
      "model_module_version": "2.0.0",
      "model_name": "HTMLModel",
      "state": {
       "_dom_classes": [],
       "_model_module": "@jupyter-widgets/controls",
       "_model_module_version": "2.0.0",
       "_model_name": "HTMLModel",
       "_view_count": null,
       "_view_module": "@jupyter-widgets/controls",
       "_view_module_version": "2.0.0",
       "_view_name": "HTMLView",
       "description": "",
       "description_allow_html": false,
       "layout": "IPY_MODEL_6d26390fc057494087b66faf78263458",
       "placeholder": "​",
       "style": "IPY_MODEL_bc8c110ba6084af995c903e7d1158bc4",
       "tabbable": null,
       "tooltip": null,
       "value": "100%"
      }
     },
     "6d26390fc057494087b66faf78263458": {
      "model_module": "@jupyter-widgets/base",
      "model_module_version": "2.0.0",
      "model_name": "LayoutModel",
      "state": {
       "_model_module": "@jupyter-widgets/base",
       "_model_module_version": "2.0.0",
       "_model_name": "LayoutModel",
       "_view_count": null,
       "_view_module": "@jupyter-widgets/base",
       "_view_module_version": "2.0.0",
       "_view_name": "LayoutView",
       "align_content": null,
       "align_items": null,
       "align_self": null,
       "border_bottom": null,
       "border_left": null,
       "border_right": null,
       "border_top": null,
       "bottom": null,
       "display": null,
       "flex": null,
       "flex_flow": null,
       "grid_area": null,
       "grid_auto_columns": null,
       "grid_auto_flow": null,
       "grid_auto_rows": null,
       "grid_column": null,
       "grid_gap": null,
       "grid_row": null,
       "grid_template_areas": null,
       "grid_template_columns": null,
       "grid_template_rows": null,
       "height": null,
       "justify_content": null,
       "justify_items": null,
       "left": null,
       "margin": null,
       "max_height": null,
       "max_width": null,
       "min_height": null,
       "min_width": null,
       "object_fit": null,
       "object_position": null,
       "order": null,
       "overflow": null,
       "padding": null,
       "right": null,
       "top": null,
       "visibility": null,
       "width": null
      }
     },
     "7990d1e530184b4fbe7ec23ffaf20ea9": {
      "model_module": "@jupyter-widgets/controls",
      "model_module_version": "2.0.0",
      "model_name": "HBoxModel",
      "state": {
       "_dom_classes": [],
       "_model_module": "@jupyter-widgets/controls",
       "_model_module_version": "2.0.0",
       "_model_name": "HBoxModel",
       "_view_count": null,
       "_view_module": "@jupyter-widgets/controls",
       "_view_module_version": "2.0.0",
       "_view_name": "HBoxView",
       "box_style": "",
       "children": [
        "IPY_MODEL_68f92655ac4c407c85aec7f497f1ed96",
        "IPY_MODEL_93674da591c442fda2300f3e74f23647",
        "IPY_MODEL_d49b8fe9ed9448a184bad4616c24af13"
       ],
       "layout": "IPY_MODEL_bb3475c22ddf437386f12492cf780955",
       "tabbable": null,
       "tooltip": null
      }
     },
     "93674da591c442fda2300f3e74f23647": {
      "model_module": "@jupyter-widgets/controls",
      "model_module_version": "2.0.0",
      "model_name": "FloatProgressModel",
      "state": {
       "_dom_classes": [],
       "_model_module": "@jupyter-widgets/controls",
       "_model_module_version": "2.0.0",
       "_model_name": "FloatProgressModel",
       "_view_count": null,
       "_view_module": "@jupyter-widgets/controls",
       "_view_module_version": "2.0.0",
       "_view_name": "ProgressView",
       "bar_style": "success",
       "description": "",
       "description_allow_html": false,
       "layout": "IPY_MODEL_98da31e91d264ba2be75b1074cccc6f2",
       "max": 8.0,
       "min": 0.0,
       "orientation": "horizontal",
       "style": "IPY_MODEL_4ad8c700c8cb4652b29aac61b83b7ec2",
       "tabbable": null,
       "tooltip": null,
       "value": 8.0
      }
     },
     "98da31e91d264ba2be75b1074cccc6f2": {
      "model_module": "@jupyter-widgets/base",
      "model_module_version": "2.0.0",
      "model_name": "LayoutModel",
      "state": {
       "_model_module": "@jupyter-widgets/base",
       "_model_module_version": "2.0.0",
       "_model_name": "LayoutModel",
       "_view_count": null,
       "_view_module": "@jupyter-widgets/base",
       "_view_module_version": "2.0.0",
       "_view_name": "LayoutView",
       "align_content": null,
       "align_items": null,
       "align_self": null,
       "border_bottom": null,
       "border_left": null,
       "border_right": null,
       "border_top": null,
       "bottom": null,
       "display": null,
       "flex": null,
       "flex_flow": null,
       "grid_area": null,
       "grid_auto_columns": null,
       "grid_auto_flow": null,
       "grid_auto_rows": null,
       "grid_column": null,
       "grid_gap": null,
       "grid_row": null,
       "grid_template_areas": null,
       "grid_template_columns": null,
       "grid_template_rows": null,
       "height": null,
       "justify_content": null,
       "justify_items": null,
       "left": null,
       "margin": null,
       "max_height": null,
       "max_width": null,
       "min_height": null,
       "min_width": null,
       "object_fit": null,
       "object_position": null,
       "order": null,
       "overflow": null,
       "padding": null,
       "right": null,
       "top": null,
       "visibility": null,
       "width": null
      }
     },
     "adb3d6f932f945d79eb6e3aa8b242a2d": {
      "model_module": "@jupyter-widgets/base",
      "model_module_version": "2.0.0",
      "model_name": "LayoutModel",
      "state": {
       "_model_module": "@jupyter-widgets/base",
       "_model_module_version": "2.0.0",
       "_model_name": "LayoutModel",
       "_view_count": null,
       "_view_module": "@jupyter-widgets/base",
       "_view_module_version": "2.0.0",
       "_view_name": "LayoutView",
       "align_content": null,
       "align_items": null,
       "align_self": null,
       "border_bottom": null,
       "border_left": null,
       "border_right": null,
       "border_top": null,
       "bottom": null,
       "display": null,
       "flex": null,
       "flex_flow": null,
       "grid_area": null,
       "grid_auto_columns": null,
       "grid_auto_flow": null,
       "grid_auto_rows": null,
       "grid_column": null,
       "grid_gap": null,
       "grid_row": null,
       "grid_template_areas": null,
       "grid_template_columns": null,
       "grid_template_rows": null,
       "height": null,
       "justify_content": null,
       "justify_items": null,
       "left": null,
       "margin": null,
       "max_height": null,
       "max_width": null,
       "min_height": null,
       "min_width": null,
       "object_fit": null,
       "object_position": null,
       "order": null,
       "overflow": null,
       "padding": null,
       "right": null,
       "top": null,
       "visibility": null,
       "width": null
      }
     },
     "bb3475c22ddf437386f12492cf780955": {
      "model_module": "@jupyter-widgets/base",
      "model_module_version": "2.0.0",
      "model_name": "LayoutModel",
      "state": {
       "_model_module": "@jupyter-widgets/base",
       "_model_module_version": "2.0.0",
       "_model_name": "LayoutModel",
       "_view_count": null,
       "_view_module": "@jupyter-widgets/base",
       "_view_module_version": "2.0.0",
       "_view_name": "LayoutView",
       "align_content": null,
       "align_items": null,
       "align_self": null,
       "border_bottom": null,
       "border_left": null,
       "border_right": null,
       "border_top": null,
       "bottom": null,
       "display": null,
       "flex": null,
       "flex_flow": null,
       "grid_area": null,
       "grid_auto_columns": null,
       "grid_auto_flow": null,
       "grid_auto_rows": null,
       "grid_column": null,
       "grid_gap": null,
       "grid_row": null,
       "grid_template_areas": null,
       "grid_template_columns": null,
       "grid_template_rows": null,
       "height": null,
       "justify_content": null,
       "justify_items": null,
       "left": null,
       "margin": null,
       "max_height": null,
       "max_width": null,
       "min_height": null,
       "min_width": null,
       "object_fit": null,
       "object_position": null,
       "order": null,
       "overflow": null,
       "padding": null,
       "right": null,
       "top": null,
       "visibility": null,
       "width": null
      }
     },
     "bc8c110ba6084af995c903e7d1158bc4": {
      "model_module": "@jupyter-widgets/controls",
      "model_module_version": "2.0.0",
      "model_name": "HTMLStyleModel",
      "state": {
       "_model_module": "@jupyter-widgets/controls",
       "_model_module_version": "2.0.0",
       "_model_name": "HTMLStyleModel",
       "_view_count": null,
       "_view_module": "@jupyter-widgets/base",
       "_view_module_version": "2.0.0",
       "_view_name": "StyleView",
       "background": null,
       "description_width": "",
       "font_size": null,
       "text_color": null
      }
     },
     "d49b8fe9ed9448a184bad4616c24af13": {
      "model_module": "@jupyter-widgets/controls",
      "model_module_version": "2.0.0",
      "model_name": "HTMLModel",
      "state": {
       "_dom_classes": [],
       "_model_module": "@jupyter-widgets/controls",
       "_model_module_version": "2.0.0",
       "_model_name": "HTMLModel",
       "_view_count": null,
       "_view_module": "@jupyter-widgets/controls",
       "_view_module_version": "2.0.0",
       "_view_name": "HTMLView",
       "description": "",
       "description_allow_html": false,
       "layout": "IPY_MODEL_adb3d6f932f945d79eb6e3aa8b242a2d",
       "placeholder": "​",
       "style": "IPY_MODEL_45ef3e0d82424abeb1783bcf0d58dabf",
       "tabbable": null,
       "tooltip": null,
       "value": " 8/8 [02:40&lt;00:00, 22.06s/it]"
      }
     }
    },
    "version_major": 2,
    "version_minor": 0
   }
  }
 },
 "nbformat": 4,
 "nbformat_minor": 5
}