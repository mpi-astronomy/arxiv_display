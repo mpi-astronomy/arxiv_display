{
 "cells": [
  {
   "cell_type": "markdown",
   "id": "92bcb855",
   "metadata": {
    "papermill": {
     "duration": 0.005148,
     "end_time": "2022-10-17T05:20:12.904600",
     "exception": false,
     "start_time": "2022-10-17T05:20:12.899452",
     "status": "completed"
    },
    "tags": []
   },
   "source": [
    "# MPIA Arxiv on Deck 2\n",
    "\n",
    "Contains the steps to produce the paper extractions."
   ]
  },
  {
   "cell_type": "code",
   "execution_count": 1,
   "id": "3a0d6e11",
   "metadata": {
    "execution": {
     "iopub.execute_input": "2022-10-17T05:20:12.914450Z",
     "iopub.status.busy": "2022-10-17T05:20:12.913862Z",
     "iopub.status.idle": "2022-10-17T05:20:13.080257Z",
     "shell.execute_reply": "2022-10-17T05:20:13.079587Z"
    },
    "papermill": {
     "duration": 0.173611,
     "end_time": "2022-10-17T05:20:13.082483",
     "exception": false,
     "start_time": "2022-10-17T05:20:12.908872",
     "status": "completed"
    },
    "tags": []
   },
   "outputs": [],
   "source": [
    "# Imports\n",
    "import os\n",
    "from IPython.display import Markdown, display\n",
    "from tqdm.notebook import tqdm\n",
    "import warnings\n",
    "from PIL import Image \n",
    "\n",
    "# requires arxiv_on_deck_2\n",
    "\n",
    "from arxiv_on_deck_2.arxiv2 import (get_new_papers, \n",
    "                                    get_paper_from_identifier,\n",
    "                                    retrieve_document_source, \n",
    "                                    get_markdown_badge)\n",
    "from arxiv_on_deck_2 import (latex, \n",
    "                             mpia,\n",
    "                             highlight_authors_in_list)\n",
    "\n",
    "# Sometimes images are really big\n",
    "Image.MAX_IMAGE_PIXELS = 1000000000 "
   ]
  },
  {
   "cell_type": "code",
   "execution_count": 2,
   "id": "22aa9d44",
   "metadata": {
    "execution": {
     "iopub.execute_input": "2022-10-17T05:20:13.092997Z",
     "iopub.status.busy": "2022-10-17T05:20:13.092628Z",
     "iopub.status.idle": "2022-10-17T05:20:13.097658Z",
     "shell.execute_reply": "2022-10-17T05:20:13.096987Z"
    },
    "papermill": {
     "duration": 0.011606,
     "end_time": "2022-10-17T05:20:13.098973",
     "exception": false,
     "start_time": "2022-10-17T05:20:13.087367",
     "status": "completed"
    },
    "tags": []
   },
   "outputs": [],
   "source": [
    "# Some useful definitions.\n",
    "\n",
    "class AffiliationWarning(UserWarning):\n",
    "    pass\n",
    "\n",
    "class AffiliationError(RuntimeError):\n",
    "    pass\n",
    "\n",
    "def validation(source: str):\n",
    "    \"\"\"Raises error paper during parsing of source file\n",
    "    \n",
    "    Allows checks before parsing TeX code.\n",
    "    \n",
    "    Raises AffiliationWarning\n",
    "    \"\"\"\n",
    "    check = mpia.affiliation_verifications(source, verbose=True)\n",
    "    if check is not True:\n",
    "        raise AffiliationError(\"mpia.affiliation_verifications: \" + check)\n",
    "\n",
    "        \n",
    "warnings.simplefilter('always', AffiliationWarning)"
   ]
  },
  {
   "cell_type": "code",
   "execution_count": 3,
   "id": "14622700",
   "metadata": {
    "execution": {
     "iopub.execute_input": "2022-10-17T05:20:13.135767Z",
     "iopub.status.busy": "2022-10-17T05:20:13.134710Z",
     "iopub.status.idle": "2022-10-17T05:20:13.139743Z",
     "shell.execute_reply": "2022-10-17T05:20:13.139197Z"
    },
    "papermill": {
     "duration": 0.033059,
     "end_time": "2022-10-17T05:20:13.141119",
     "exception": false,
     "start_time": "2022-10-17T05:20:13.108060",
     "status": "completed"
    },
    "tags": []
   },
   "outputs": [],
   "source": [
    "# additional CSS to consider. \n",
    "# TODO: Current into each exported file. \n",
    "#       This should be set once into the webpages directly.\n",
    "#       With only the class/id definitions in the .md files.\n",
    "\n",
    "debug_html = \"\"\"\n",
    "<style>\n",
    "#wrap{ overflow:auto; }\n",
    "#fig1{ background:yellow; width:100%; float:left; padding:5px;  }\n",
    "#fig2{ background:red; width:50%; float:left; clear:left; padding:5px;  }\n",
    "#fig3{ background:green; width:50%; float:left; padding:5px;   }\n",
    ".macros{ background:yellow; visibility:visible;}\n",
    "h1 {margin: 0 0 0 0;}\n",
    "mark {background-color:#fff3b6;}\n",
    "img {object-fit:contain; max-height:250px; display:inline-block; text-align: center;}\n",
    "</style>\n",
    "\"\"\" \n",
    "html = \"\"\"\n",
    "<style>\n",
    "#wrap{ overflow:auto; }\n",
    "#fig1{ width:100%; float:left; padding: 5px;  }\n",
    "#fig2{ width:50%; float:left; clear:left; padding: 5px;  }\n",
    "#fig3{ width:50%; float:left; padding: 5px;  }\n",
    ".macros{ visibility:hidden; height:0px; }\n",
    "h1 {margin: 0em 0 0 0;}\n",
    "mark {background-color:#fff3b6;}\n",
    "img {object-fit:contain; max-height:250px; display:inline-block; text-align: center;}\n",
    "</style>\n",
    "\"\"\""
   ]
  },
  {
   "cell_type": "markdown",
   "id": "14bd6310",
   "metadata": {
    "papermill": {
     "duration": 0.03028,
     "end_time": "2022-10-17T05:20:13.212320",
     "exception": false,
     "start_time": "2022-10-17T05:20:13.182040",
     "status": "completed"
    },
    "tags": []
   },
   "source": [
    "## get list of arxiv paper candidates\n",
    "\n",
    "We use the MPIA mitarbeiter list webpage from mpia.de to get author names\n",
    "We then get all new papers from Arxiv and match authors"
   ]
  },
  {
   "cell_type": "code",
   "execution_count": 4,
   "id": "2645e73a",
   "metadata": {
    "execution": {
     "iopub.execute_input": "2022-10-17T05:20:13.282724Z",
     "iopub.status.busy": "2022-10-17T05:20:13.282017Z",
     "iopub.status.idle": "2022-10-17T05:20:39.470514Z",
     "shell.execute_reply": "2022-10-17T05:20:39.469823Z"
    },
    "papermill": {
     "duration": 26.239316,
     "end_time": "2022-10-17T05:20:39.472149",
     "exception": false,
     "start_time": "2022-10-17T05:20:13.232833",
     "status": "completed"
    },
    "tags": []
   },
   "outputs": [
    {
     "name": "stdout",
     "output_type": "stream",
     "text": [
      "Arxiv has 48 new papers today\n",
      "          18 with possible author matches\n"
     ]
    }
   ],
   "source": [
    "# get list from MPIA website\n",
    "# it automatically filters identified non-scientists :func:`mpia.filter_non_scientists`\n",
    "mpia_authors = mpia.get_mpia_mitarbeiter_list()\n",
    "new_papers = get_new_papers()\n",
    "# add manual references\n",
    "add_paper_refs = []\n",
    "new_papers.extend([get_paper_from_identifier(k) for k in add_paper_refs])\n",
    "\n",
    "# select only papers with matching author names and highlight authors\n",
    "hl_list = [k[0] for k in mpia_authors]\n",
    "\n",
    "candidates = []\n",
    "for paperk in new_papers:\n",
    "    hl_authors = highlight_authors_in_list(paperk['authors'], hl_list)\n",
    "    matches = [(hl, orig) for hl, orig in zip(hl_authors, paperk['authors']) if 'mark' in hl]\n",
    "    paperk['authors'] = hl_authors\n",
    "    if matches:\n",
    "        candidates.append(paperk)\n",
    "print(\"\"\"Arxiv has {0:,d} new papers today\"\"\".format(len(new_papers)))        \n",
    "print(\"\"\"          {0:,d} with possible author matches\"\"\".format(len(candidates)))"
   ]
  },
  {
   "cell_type": "markdown",
   "id": "3543b34a",
   "metadata": {
    "papermill": {
     "duration": 0.004285,
     "end_time": "2022-10-17T05:20:39.480771",
     "exception": false,
     "start_time": "2022-10-17T05:20:39.476486",
     "status": "completed"
    },
    "tags": []
   },
   "source": [
    "# Parse sources and generate relevant outputs\n",
    "\n",
    "From the candidates, we do the following steps:\n",
    "* get their tarball from ArXiv (and extract data)\n",
    "* find the main .tex file: find one with \\documentclass{...} (sometimes it's non trivial)\n",
    "* Check affiliations with :func:`validation`, which uses :func:`mpia.affiliation_verifications`\n",
    "* If passing the affiliations: we parse the .tex source\n",
    "   * inject sub-documents into the main (flatten the main document)\n",
    "   * parse structure, extract information (title, abstract, authors, figures...)\n",
    "   * handles `\\graphicspath` if provided\n",
    "* Generate the .md document."
   ]
  },
  {
   "cell_type": "code",
   "execution_count": 5,
   "id": "9576b79e",
   "metadata": {
    "execution": {
     "iopub.execute_input": "2022-10-17T05:20:39.490324Z",
     "iopub.status.busy": "2022-10-17T05:20:39.489696Z",
     "iopub.status.idle": "2022-10-17T05:21:55.171275Z",
     "shell.execute_reply": "2022-10-17T05:21:55.170749Z"
    },
    "papermill": {
     "duration": 75.688709,
     "end_time": "2022-10-17T05:21:55.173406",
     "exception": false,
     "start_time": "2022-10-17T05:20:39.484697",
     "status": "completed"
    },
    "scrolled": false,
    "tags": []
   },
   "outputs": [
    {
     "data": {
      "application/vnd.jupyter.widget-view+json": {
       "model_id": "6eb20a824052494385fe2287e8a316db",
       "version_major": 2,
       "version_minor": 0
      },
      "text/plain": [
       "  0%|          | 0/17 [00:00<?, ?it/s]"
      ]
     },
     "metadata": {},
     "output_type": "display_data"
    },
    {
     "name": "stdout",
     "output_type": "stream",
     "text": [
      "Retrieving document from  https://arxiv.org/e-print/2210.07252\n"
     ]
    },
    {
     "name": "stdout",
     "output_type": "stream",
     "text": [
      "extracting tarball to tmp_2210.07252..."
     ]
    },
    {
     "name": "stdout",
     "output_type": "stream",
     "text": [
      " done.\n",
      "Retrieving document from  https://arxiv.org/e-print/2210.07258\n"
     ]
    },
    {
     "name": "stdout",
     "output_type": "stream",
     "text": [
      "extracting tarball to tmp_2210.07258..."
     ]
    },
    {
     "name": "stdout",
     "output_type": "stream",
     "text": [
      " done.\n",
      "Retrieving document from  https://arxiv.org/e-print/2210.07273\n"
     ]
    },
    {
     "name": "stderr",
     "output_type": "stream",
     "text": [
      "/opt/hostedtoolcache/Python/3.9.14/x64/lib/python3.9/site-packages/IPython/core/interactiveshell.py:3378: LatexWarning: Multiple tex files.\n",
      "\n",
      "  exec(code_obj, self.user_global_ns, self.user_ns)\n",
      "/opt/hostedtoolcache/Python/3.9.14/x64/lib/python3.9/site-packages/IPython/core/interactiveshell.py:3378: LatexWarning: Found documentclass in tmp_2210.07258/J1628+4329.tex\n",
      "\n",
      "  exec(code_obj, self.user_global_ns, self.user_ns)\n",
      "/opt/hostedtoolcache/Python/3.9.14/x64/lib/python3.9/site-packages/arxiv_on_deck_2/latex.py:292: LatexWarning: Latex injecting: 'BT_commands' from 'tmp_2210.07258/BT_commands.tex'\n",
      "  warnings.warn(LatexWarning(f\"Latex injecting: '{ext}' from '{subsource}'\"))\n"
     ]
    },
    {
     "name": "stdout",
     "output_type": "stream",
     "text": [
      "extracting tarball to tmp_2210.07273..."
     ]
    },
    {
     "name": "stdout",
     "output_type": "stream",
     "text": [
      " done.\n",
      "Retrieving document from  https://arxiv.org/e-print/2210.07284\n"
     ]
    },
    {
     "name": "stderr",
     "output_type": "stream",
     "text": [
      "/opt/hostedtoolcache/Python/3.9.14/x64/lib/python3.9/site-packages/IPython/core/interactiveshell.py:3378: LatexWarning: Multiple tex files.\n",
      "\n",
      "  exec(code_obj, self.user_global_ns, self.user_ns)\n",
      "/opt/hostedtoolcache/Python/3.9.14/x64/lib/python3.9/site-packages/IPython/core/interactiveshell.py:3378: LatexWarning: Found documentclass in tmp_2210.07273/main.tex\n",
      "\n",
      "  exec(code_obj, self.user_global_ns, self.user_ns)\n"
     ]
    },
    {
     "name": "stdout",
     "output_type": "stream",
     "text": [
      "extracting tarball to tmp_2210.07284..."
     ]
    },
    {
     "name": "stdout",
     "output_type": "stream",
     "text": [
      " done.\n",
      "Retrieving document from  https://arxiv.org/e-print/2210.07304\n"
     ]
    },
    {
     "name": "stderr",
     "output_type": "stream",
     "text": [
      "/opt/hostedtoolcache/Python/3.9.14/x64/lib/python3.9/site-packages/IPython/core/interactiveshell.py:3378: LatexWarning: Multiple tex files.\n",
      "\n",
      "  exec(code_obj, self.user_global_ns, self.user_ns)\n",
      "/opt/hostedtoolcache/Python/3.9.14/x64/lib/python3.9/site-packages/IPython/core/interactiveshell.py:3378: LatexWarning: Found documentclass in tmp_2210.07284/main.tex\n",
      "\n",
      "  exec(code_obj, self.user_global_ns, self.user_ns)\n",
      "/opt/hostedtoolcache/Python/3.9.14/x64/lib/python3.9/site-packages/arxiv_on_deck_2/latex.py:292: LatexWarning: Latex injecting: 'table/table_turb' from 'tmp_2210.07284/table/table_turb.tex'\n",
      "  warnings.warn(LatexWarning(f\"Latex injecting: '{ext}' from '{subsource}'\"))\n",
      "/opt/hostedtoolcache/Python/3.9.14/x64/lib/python3.9/site-packages/arxiv_on_deck_2/latex.py:292: LatexWarning: Latex injecting: 'table/morph' from 'tmp_2210.07284/table/morph.tex'\n",
      "  warnings.warn(LatexWarning(f\"Latex injecting: '{ext}' from '{subsource}'\"))\n"
     ]
    },
    {
     "name": "stdout",
     "output_type": "stream",
     "text": [
      "extracting tarball to tmp_2210.07304..."
     ]
    },
    {
     "name": "stdout",
     "output_type": "stream",
     "text": [
      " done.\n",
      "Retrieving document from  https://arxiv.org/e-print/2210.07391\n"
     ]
    },
    {
     "name": "stderr",
     "output_type": "stream",
     "text": [
      "/opt/hostedtoolcache/Python/3.9.14/x64/lib/python3.9/site-packages/IPython/core/interactiveshell.py:3378: LatexWarning: Multiple tex files.\n",
      "\n",
      "  exec(code_obj, self.user_global_ns, self.user_ns)\n",
      "/opt/hostedtoolcache/Python/3.9.14/x64/lib/python3.9/site-packages/IPython/core/interactiveshell.py:3378: LatexWarning: Found documentclass in tmp_2210.07304/main.tex\n",
      "\n",
      "  exec(code_obj, self.user_global_ns, self.user_ns)\n"
     ]
    },
    {
     "name": "stdout",
     "output_type": "stream",
     "text": [
      "extracting tarball to tmp_2210.07391..."
     ]
    },
    {
     "name": "stdout",
     "output_type": "stream",
     "text": [
      " done.\n",
      "Retrieving document from  https://arxiv.org/e-print/2210.07478\n"
     ]
    },
    {
     "name": "stdout",
     "output_type": "stream",
     "text": [
      "extracting tarball to tmp_2210.07478..."
     ]
    },
    {
     "name": "stdout",
     "output_type": "stream",
     "text": [
      " done.\n"
     ]
    },
    {
     "name": "stderr",
     "output_type": "stream",
     "text": [
      "/tmp/ipykernel_2223/4030337529.py:34: LatexWarning: 2210.07478 did not run properly\n",
      "sequence item 0: expected str instance, TexNode found\n",
      "  warnings.warn(latex.LatexWarning(f\"{paper_id:s} did not run properly\\n\" +\n"
     ]
    },
    {
     "name": "stdout",
     "output_type": "stream",
     "text": [
      "Retrieving document from  https://arxiv.org/e-print/2210.07542\n"
     ]
    },
    {
     "name": "stdout",
     "output_type": "stream",
     "text": [
      "extracting tarball to tmp_2210.07542..."
     ]
    },
    {
     "name": "stdout",
     "output_type": "stream",
     "text": [
      " done.\n",
      "Retrieving document from  https://arxiv.org/e-print/2210.07554\n"
     ]
    },
    {
     "name": "stderr",
     "output_type": "stream",
     "text": [
      "/opt/hostedtoolcache/Python/3.9.14/x64/lib/python3.9/site-packages/IPython/core/interactiveshell.py:3378: LatexWarning: Multiple tex files.\n",
      "\n",
      "  exec(code_obj, self.user_global_ns, self.user_ns)\n",
      "/opt/hostedtoolcache/Python/3.9.14/x64/lib/python3.9/site-packages/IPython/core/interactiveshell.py:3378: LatexWarning: Found documentclass in tmp_2210.07542/ms.tex\n",
      "\n",
      "  exec(code_obj, self.user_global_ns, self.user_ns)\n",
      "/opt/hostedtoolcache/Python/3.9.14/x64/lib/python3.9/site-packages/arxiv_on_deck_2/latex.py:292: LatexWarning: Latex injecting: 'tab2.tex' from 'tmp_2210.07542/tab2.tex'\n",
      "  warnings.warn(LatexWarning(f\"Latex injecting: '{ext}' from '{subsource}'\"))\n",
      "/opt/hostedtoolcache/Python/3.9.14/x64/lib/python3.9/site-packages/arxiv_on_deck_2/latex.py:292: LatexWarning: Latex injecting: 'tab1.tex' from 'tmp_2210.07542/tab1.tex'\n",
      "  warnings.warn(LatexWarning(f\"Latex injecting: '{ext}' from '{subsource}'\"))\n"
     ]
    },
    {
     "name": "stdout",
     "output_type": "stream",
     "text": [
      "extracting tarball to tmp_2210.07554..."
     ]
    },
    {
     "name": "stdout",
     "output_type": "stream",
     "text": [
      " done.\n",
      "Retrieving document from  https://arxiv.org/e-print/2210.07709\n"
     ]
    },
    {
     "name": "stdout",
     "output_type": "stream",
     "text": [
      "extracting tarball to tmp_2210.07709..."
     ]
    },
    {
     "name": "stdout",
     "output_type": "stream",
     "text": [
      " done.\n",
      "Retrieving document from  https://arxiv.org/e-print/2210.07725\n"
     ]
    },
    {
     "name": "stderr",
     "output_type": "stream",
     "text": [
      "/opt/hostedtoolcache/Python/3.9.14/x64/lib/python3.9/site-packages/IPython/core/interactiveshell.py:3378: LatexWarning: Multiple tex files.\n",
      "\n",
      "  exec(code_obj, self.user_global_ns, self.user_ns)\n",
      "/opt/hostedtoolcache/Python/3.9.14/x64/lib/python3.9/site-packages/IPython/core/interactiveshell.py:3378: LatexWarning: Found documentclass in tmp_2210.07709/aanda.tex\n",
      "\n",
      "  exec(code_obj, self.user_global_ns, self.user_ns)\n",
      "/opt/hostedtoolcache/Python/3.9.14/x64/lib/python3.9/site-packages/arxiv_on_deck_2/latex.py:292: LatexWarning: Latex injecting: 'spinnaker_appendix' from 'tmp_2210.07709/spinnaker_appendix.tex'\n",
      "  warnings.warn(LatexWarning(f\"Latex injecting: '{ext}' from '{subsource}'\"))\n",
      "/opt/hostedtoolcache/Python/3.9.14/x64/lib/python3.9/site-packages/arxiv_on_deck_2/latex.py:292: LatexWarning: Latex injecting: 'spinnaker_appendix' from 'tmp_2210.07709/CHANG-ES CR Transport MStein/spinnaker_appendix.tex'\n",
      "  warnings.warn(LatexWarning(f\"Latex injecting: '{ext}' from '{subsource}'\"))\n",
      "/opt/hostedtoolcache/Python/3.9.14/x64/lib/python3.9/site-packages/arxiv_on_deck_2/latex.py:292: LatexWarning: Latex injecting: 'int_prof_appendix' from 'tmp_2210.07709/int_prof_appendix.tex'\n",
      "  warnings.warn(LatexWarning(f\"Latex injecting: '{ext}' from '{subsource}'\"))\n",
      "/opt/hostedtoolcache/Python/3.9.14/x64/lib/python3.9/site-packages/arxiv_on_deck_2/latex.py:292: LatexWarning: Latex injecting: 'int_prof_appendix' from 'tmp_2210.07709/CHANG-ES CR Transport MStein/int_prof_appendix.tex'\n",
      "  warnings.warn(LatexWarning(f\"Latex injecting: '{ext}' from '{subsource}'\"))\n",
      "/opt/hostedtoolcache/Python/3.9.14/x64/lib/python3.9/site-packages/arxiv_on_deck_2/latex.py:292: LatexWarning: Latex injecting: 'tab_fit_params' from 'tmp_2210.07709/tab_fit_params.tex'\n",
      "  warnings.warn(LatexWarning(f\"Latex injecting: '{ext}' from '{subsource}'\"))\n",
      "/opt/hostedtoolcache/Python/3.9.14/x64/lib/python3.9/site-packages/arxiv_on_deck_2/latex.py:292: LatexWarning: Latex injecting: 'tab_fit_params' from 'tmp_2210.07709/CHANG-ES CR Transport MStein/tab_fit_params.tex'\n",
      "  warnings.warn(LatexWarning(f\"Latex injecting: '{ext}' from '{subsource}'\"))\n",
      "/opt/hostedtoolcache/Python/3.9.14/x64/lib/python3.9/site-packages/arxiv_on_deck_2/latex.py:292: LatexWarning: Latex injecting: 'tab_fit_params' from 'tmp_2210.07709/CHANG-ES CR Transport MStein/figures/total_intensity/tab_fit_params.tex'\n",
      "  warnings.warn(LatexWarning(f\"Latex injecting: '{ext}' from '{subsource}'\"))\n",
      "/opt/hostedtoolcache/Python/3.9.14/x64/lib/python3.9/site-packages/arxiv_on_deck_2/latex.py:292: LatexWarning: Latex injecting: 'tab_fit_params' from 'tmp_2210.07709/figures/total_intensity/tab_fit_params.tex'\n",
      "  warnings.warn(LatexWarning(f\"Latex injecting: '{ext}' from '{subsource}'\"))\n",
      "/opt/hostedtoolcache/Python/3.9.14/x64/lib/python3.9/site-packages/arxiv_on_deck_2/latex.py:292: LatexWarning: Latex injecting: 'thermal_figs_appendix' from 'tmp_2210.07709/thermal_figs_appendix.tex'\n",
      "  warnings.warn(LatexWarning(f\"Latex injecting: '{ext}' from '{subsource}'\"))\n",
      "/opt/hostedtoolcache/Python/3.9.14/x64/lib/python3.9/site-packages/arxiv_on_deck_2/latex.py:292: LatexWarning: Latex injecting: 'thermal_figs_appendix' from 'tmp_2210.07709/CHANG-ES CR Transport MStein/thermal_figs_appendix.tex'\n",
      "  warnings.warn(LatexWarning(f\"Latex injecting: '{ext}' from '{subsource}'\"))\n",
      "/opt/hostedtoolcache/Python/3.9.14/x64/lib/python3.9/site-packages/arxiv_on_deck_2/latex.py:292: LatexWarning: Latex injecting: 'tab_spin_param' from 'tmp_2210.07709/tab_spin_param.tex'\n",
      "  warnings.warn(LatexWarning(f\"Latex injecting: '{ext}' from '{subsource}'\"))\n",
      "/opt/hostedtoolcache/Python/3.9.14/x64/lib/python3.9/site-packages/arxiv_on_deck_2/latex.py:292: LatexWarning: Latex injecting: 'tab_spin_param' from 'tmp_2210.07709/CHANG-ES CR Transport MStein/tab_spin_param.tex'\n",
      "  warnings.warn(LatexWarning(f\"Latex injecting: '{ext}' from '{subsource}'\"))\n",
      "/opt/hostedtoolcache/Python/3.9.14/x64/lib/python3.9/site-packages/arxiv_on_deck_2/latex.py:292: LatexWarning: Latex injecting: 'tab_scale_summary' from 'tmp_2210.07709/tab_scale_summary.tex'\n",
      "  warnings.warn(LatexWarning(f\"Latex injecting: '{ext}' from '{subsource}'\"))\n",
      "/opt/hostedtoolcache/Python/3.9.14/x64/lib/python3.9/site-packages/arxiv_on_deck_2/latex.py:292: LatexWarning: Latex injecting: 'tab_scale_summary' from 'tmp_2210.07709/CHANG-ES CR Transport MStein/tab_scale_summary.tex'\n",
      "  warnings.warn(LatexWarning(f\"Latex injecting: '{ext}' from '{subsource}'\"))\n",
      "/opt/hostedtoolcache/Python/3.9.14/x64/lib/python3.9/site-packages/arxiv_on_deck_2/latex.py:292: LatexWarning: Latex injecting: 'tab_box_setup' from 'tmp_2210.07709/tab_box_setup.tex'\n",
      "  warnings.warn(LatexWarning(f\"Latex injecting: '{ext}' from '{subsource}'\"))\n",
      "/opt/hostedtoolcache/Python/3.9.14/x64/lib/python3.9/site-packages/arxiv_on_deck_2/latex.py:292: LatexWarning: Latex injecting: 'tab_box_setup' from 'tmp_2210.07709/CHANG-ES CR Transport MStein/tab_box_setup.tex'\n",
      "  warnings.warn(LatexWarning(f\"Latex injecting: '{ext}' from '{subsource}'\"))\n",
      "/opt/hostedtoolcache/Python/3.9.14/x64/lib/python3.9/site-packages/arxiv_on_deck_2/latex.py:292: LatexWarning: Latex injecting: 'tab_thermal_emission' from 'tmp_2210.07709/tab_thermal_emission.tex'\n",
      "  warnings.warn(LatexWarning(f\"Latex injecting: '{ext}' from '{subsource}'\"))\n",
      "/opt/hostedtoolcache/Python/3.9.14/x64/lib/python3.9/site-packages/arxiv_on_deck_2/latex.py:292: LatexWarning: Latex injecting: 'tab_thermal_emission' from 'tmp_2210.07709/CHANG-ES CR Transport MStein/tab_thermal_emission.tex'\n",
      "  warnings.warn(LatexWarning(f\"Latex injecting: '{ext}' from '{subsource}'\"))\n",
      "/opt/hostedtoolcache/Python/3.9.14/x64/lib/python3.9/site-packages/arxiv_on_deck_2/latex.py:292: LatexWarning: Latex injecting: 'tab_radio_param' from 'tmp_2210.07709/tab_radio_param.tex'\n",
      "  warnings.warn(LatexWarning(f\"Latex injecting: '{ext}' from '{subsource}'\"))\n",
      "/opt/hostedtoolcache/Python/3.9.14/x64/lib/python3.9/site-packages/arxiv_on_deck_2/latex.py:292: LatexWarning: Latex injecting: 'tab_radio_param' from 'tmp_2210.07709/CHANG-ES CR Transport MStein/tab_radio_param.tex'\n",
      "  warnings.warn(LatexWarning(f\"Latex injecting: '{ext}' from '{subsource}'\"))\n",
      "/opt/hostedtoolcache/Python/3.9.14/x64/lib/python3.9/site-packages/arxiv_on_deck_2/latex.py:292: LatexWarning: Latex injecting: 'si_fig' from 'tmp_2210.07709/si_fig.tex'\n",
      "  warnings.warn(LatexWarning(f\"Latex injecting: '{ext}' from '{subsource}'\"))\n",
      "/opt/hostedtoolcache/Python/3.9.14/x64/lib/python3.9/site-packages/arxiv_on_deck_2/latex.py:292: LatexWarning: Latex injecting: 'si_fig' from 'tmp_2210.07709/CHANG-ES CR Transport MStein/si_fig.tex'\n",
      "  warnings.warn(LatexWarning(f\"Latex injecting: '{ext}' from '{subsource}'\"))\n",
      "/opt/hostedtoolcache/Python/3.9.14/x64/lib/python3.9/site-packages/arxiv_on_deck_2/latex.py:292: LatexWarning: Latex injecting: 'tab_obs_info' from 'tmp_2210.07709/tab_obs_info.tex'\n",
      "  warnings.warn(LatexWarning(f\"Latex injecting: '{ext}' from '{subsource}'\"))\n",
      "/opt/hostedtoolcache/Python/3.9.14/x64/lib/python3.9/site-packages/arxiv_on_deck_2/latex.py:292: LatexWarning: Latex injecting: 'tab_obs_info' from 'tmp_2210.07709/CHANG-ES CR Transport MStein/tab_obs_info.tex'\n",
      "  warnings.warn(LatexWarning(f\"Latex injecting: '{ext}' from '{subsource}'\"))\n",
      "/opt/hostedtoolcache/Python/3.9.14/x64/lib/python3.9/site-packages/arxiv_on_deck_2/latex.py:292: LatexWarning: Latex injecting: 'total_int_figs' from 'tmp_2210.07709/total_int_figs.tex'\n",
      "  warnings.warn(LatexWarning(f\"Latex injecting: '{ext}' from '{subsource}'\"))\n",
      "/opt/hostedtoolcache/Python/3.9.14/x64/lib/python3.9/site-packages/arxiv_on_deck_2/latex.py:292: LatexWarning: Latex injecting: 'total_int_figs' from 'tmp_2210.07709/CHANG-ES CR Transport MStein/total_int_figs.tex'\n",
      "  warnings.warn(LatexWarning(f\"Latex injecting: '{ext}' from '{subsource}'\"))\n",
      "/opt/hostedtoolcache/Python/3.9.14/x64/lib/python3.9/site-packages/arxiv_on_deck_2/latex.py:292: LatexWarning: Latex injecting: 'tab_galaxy_param' from 'tmp_2210.07709/tab_galaxy_param.tex'\n",
      "  warnings.warn(LatexWarning(f\"Latex injecting: '{ext}' from '{subsource}'\"))\n",
      "/opt/hostedtoolcache/Python/3.9.14/x64/lib/python3.9/site-packages/arxiv_on_deck_2/latex.py:292: LatexWarning: Latex injecting: 'tab_galaxy_param' from 'tmp_2210.07709/CHANG-ES CR Transport MStein/tab_galaxy_param.tex'\n",
      "  warnings.warn(LatexWarning(f\"Latex injecting: '{ext}' from '{subsource}'\"))\n",
      "/opt/hostedtoolcache/Python/3.9.14/x64/lib/python3.9/site-packages/arxiv_on_deck_2/latex.py:292: LatexWarning: Latex injecting: 'tab_basic_info' from 'tmp_2210.07709/tab_basic_info.tex'\n",
      "  warnings.warn(LatexWarning(f\"Latex injecting: '{ext}' from '{subsource}'\"))\n",
      "/opt/hostedtoolcache/Python/3.9.14/x64/lib/python3.9/site-packages/arxiv_on_deck_2/latex.py:292: LatexWarning: Latex injecting: 'tab_basic_info' from 'tmp_2210.07709/CHANG-ES CR Transport MStein/tab_basic_info.tex'\n",
      "  warnings.warn(LatexWarning(f\"Latex injecting: '{ext}' from '{subsource}'\"))\n"
     ]
    },
    {
     "name": "stdout",
     "output_type": "stream",
     "text": [
      "extracting tarball to tmp_2210.07725..."
     ]
    },
    {
     "name": "stdout",
     "output_type": "stream",
     "text": [
      " done.\n",
      "Retrieving document from  https://arxiv.org/e-print/2210.07801\n"
     ]
    },
    {
     "name": "stdout",
     "output_type": "stream",
     "text": [
      "extracting tarball to tmp_2210.07801..."
     ]
    },
    {
     "name": "stdout",
     "output_type": "stream",
     "text": [
      " done.\n",
      "Retrieving document from  https://arxiv.org/e-print/2210.07853\n"
     ]
    },
    {
     "name": "stdout",
     "output_type": "stream",
     "text": [
      "extracting tarball to tmp_2210.07853..."
     ]
    },
    {
     "name": "stdout",
     "output_type": "stream",
     "text": [
      " done.\n",
      "Retrieving document from  https://arxiv.org/e-print/2210.07905\n"
     ]
    },
    {
     "name": "stdout",
     "output_type": "stream",
     "text": [
      "extracting tarball to tmp_2210.07905..."
     ]
    },
    {
     "name": "stdout",
     "output_type": "stream",
     "text": [
      " done.\n",
      "Retrieving document from  https://arxiv.org/e-print/2210.07919\n"
     ]
    },
    {
     "name": "stdout",
     "output_type": "stream",
     "text": [
      "extracting tarball to tmp_2210.07919..."
     ]
    },
    {
     "name": "stdout",
     "output_type": "stream",
     "text": [
      " done.\n",
      "Retrieving document from  https://arxiv.org/e-print/2210.07925\n"
     ]
    },
    {
     "name": "stdout",
     "output_type": "stream",
     "text": [
      "extracting tarball to tmp_2210.07925..."
     ]
    },
    {
     "name": "stdout",
     "output_type": "stream",
     "text": [
      " done.\n",
      "Retrieving document from  https://arxiv.org/e-print/2210.07933\n"
     ]
    },
    {
     "name": "stderr",
     "output_type": "stream",
     "text": [
      "/opt/hostedtoolcache/Python/3.9.14/x64/lib/python3.9/site-packages/IPython/core/interactiveshell.py:3378: LatexWarning: Multiple tex files.\n",
      "\n",
      "  exec(code_obj, self.user_global_ns, self.user_ns)\n",
      "/opt/hostedtoolcache/Python/3.9.14/x64/lib/python3.9/site-packages/IPython/core/interactiveshell.py:3378: LatexWarning: Found documentclass in tmp_2210.07925/natnotes.tex\n",
      "\n",
      "  exec(code_obj, self.user_global_ns, self.user_ns)\n"
     ]
    },
    {
     "name": "stdout",
     "output_type": "stream",
     "text": [
      "extracting tarball to tmp_2210.07933..."
     ]
    },
    {
     "name": "stdout",
     "output_type": "stream",
     "text": [
      " done.\n"
     ]
    }
   ],
   "source": [
    "documents = []\n",
    "failed = []\n",
    "for paper in tqdm(candidates[:-1]):\n",
    "    paper_id = paper['identifier'].lower().replace('arxiv:', '')\n",
    "    \n",
    "    folder = f'tmp_{paper_id}'\n",
    "\n",
    "    try:\n",
    "        if not os.path.isdir(folder):\n",
    "            folder = retrieve_document_source(f\"{paper_id}\", f'tmp_{paper_id}')\n",
    "        \n",
    "        try:\n",
    "            doc = latex.LatexDocument(folder, validation=validation)    \n",
    "        except AffiliationError as affilerror:\n",
    "            msg = f\"ArXiv:{paper_id:s} is not an MPIA paper... \" + str(affilerror)\n",
    "            failed.append((paper, \"affiliation error: \" + str(affilerror) ))\n",
    "            continue\n",
    "        \n",
    "        # Hack because sometimes author parsing does not work well\n",
    "        if (len(doc.authors) != len(paper['authors'])):\n",
    "            doc._authors = paper['authors']\n",
    "        if (doc.abstract) in (None, ''):\n",
    "            doc._abstract = paper['abstract']\n",
    "            \n",
    "        doc.comment = (get_markdown_badge(paper_id) + \n",
    "                       \"<mark>Appeared on: \" + paper['date'] + \"</mark> - \" +\n",
    "                       \"_\" + paper['comments'] + \"_\")\n",
    "        doc.highlight_authors_in_list(hl_list)\n",
    "\n",
    "        full_md = doc.generate_markdown_text()\n",
    "        \n",
    "        documents.append((paper_id, full_md))\n",
    "    except Exception as e:\n",
    "        warnings.warn(latex.LatexWarning(f\"{paper_id:s} did not run properly\\n\" +\n",
    "                                         str(e)\n",
    "                                        ))\n",
    "        failed.append((paper, \"latex error \" + str(e)))"
   ]
  },
  {
   "cell_type": "markdown",
   "id": "2505a25c",
   "metadata": {
    "papermill": {
     "duration": 0.006667,
     "end_time": "2022-10-17T05:21:55.186560",
     "exception": false,
     "start_time": "2022-10-17T05:21:55.179893",
     "status": "completed"
    },
    "tags": []
   },
   "source": [
    "### Export the logs\n",
    "\n",
    "Throughout, we also keep track of the logs per paper. see `logs-{today date}.md` "
   ]
  },
  {
   "cell_type": "code",
   "execution_count": 6,
   "id": "d733828a",
   "metadata": {
    "execution": {
     "iopub.execute_input": "2022-10-17T05:21:55.201423Z",
     "iopub.status.busy": "2022-10-17T05:21:55.200095Z",
     "iopub.status.idle": "2022-10-17T05:21:55.241938Z",
     "shell.execute_reply": "2022-10-17T05:21:55.241280Z"
    },
    "papermill": {
     "duration": 0.051937,
     "end_time": "2022-10-17T05:21:55.244692",
     "exception": false,
     "start_time": "2022-10-17T05:21:55.192755",
     "status": "completed"
    },
    "scrolled": false,
    "tags": []
   },
   "outputs": [
    {
     "data": {
      "text/markdown": [
       "## Successful papers"
      ],
      "text/plain": [
       "<IPython.core.display.Markdown object>"
      ]
     },
     "metadata": {},
     "output_type": "display_data"
    },
    {
     "data": {
      "text/markdown": [
       "## Failed papers"
      ],
      "text/plain": [
       "<IPython.core.display.Markdown object>"
      ]
     },
     "metadata": {},
     "output_type": "display_data"
    },
    {
     "data": {
      "text/markdown": [
       "\n",
       "|||\n",
       "|---:|:---|\n",
       "| [![arXiv](https://img.shields.io/badge/arXiv-arXiv:2210.07258-b31b1b.svg)](https://arxiv.org/abs/arXiv:2210.07258) | **A Transient `Changing-Look' AGN Resolved on Month Timescales From  First-Year SDSS-V Data**  |\n",
       "|| Grisha Zeltyn, et al. -- incl., <mark>Lorena Hernandez-Garcia</mark>, <mark>Paul Green</mark>, <mark>Muryel Guolo</mark>, <mark>Xin Liu</mark>, <mark>Joel R. Brownstein</mark>, <mark>Hector Ibarra-Medel</mark> |\n",
       "|*Appeared on*| *2022-10-17*|\n",
       "|*Comments*| *Resubmitted to ApJL after addressing the referee report*|\n",
       "|**Abstract**| We report the discovery of a new `changing-look' active galactic nucleus (CLAGN) event, in the quasar SDSS J162829.17+432948.5 at z=0.2603, identified through repeat spectroscopy from the fifth Sloan Digital Sky Survey (SDSS-V). Optical photometry taken during 2020-2021 shows a dramatic dimming of ${\\Delta}$g${\\approx}$1 mag, followed by a rapid recovery on a timescale of several months, with the ${\\lesssim}$2 month period of rebrightening captured in new SDSS-V and Las Cumbres Observatory spectroscopy. This is one of the fastest CLAGN transitions observed to date. Archival observations suggest that the object experienced a much more gradual dimming over the period of 2011-2013. Our spectroscopy shows that the photometric changes were accompanied by dramatic variations in the quasar-like continuum and broad-line emission. The excellent agreement between the pre- and post-dip photometric and spectroscopic appearances of the source, as well as the fact that the dimmest spectra can be reproduced by applying a single extinction law to the brighter spectral states, favor a variable line-of-sight obscuration as the driver of the observed transitions. Such an interpretation faces several theoretical challenges, and thus an alternative accretion-driven scenario cannot be excluded. The recent events observed in this quasar highlight the importance of spectroscopic monitoring of large AGN samples on weeks-to-months timescales, which the SDSS-V is designed to achieve. |\n",
       "|<p style=\"color:green\"> **ERROR** </p>| <p style=\"color:green\">affiliation error: mpia.affiliation_verifications: '69117' keyword not found.</p> |"
      ],
      "text/plain": [
       "<IPython.core.display.Markdown object>"
      ]
     },
     "metadata": {},
     "output_type": "display_data"
    },
    {
     "data": {
      "text/markdown": [
       "\n",
       "|||\n",
       "|---:|:---|\n",
       "| [![arXiv](https://img.shields.io/badge/arXiv-arXiv:2210.07542-b31b1b.svg)](https://arxiv.org/abs/arXiv:2210.07542) | **A Blueprint for the Milky Way's Stellar Populations. IV. Spectrum-based  Empirical Corrections and the Galactic Starburst Sequence**  |\n",
       "|| Deokkeun An, Timothy C. Beers, <mark>Young Sun Lee</mark>, Thomas Masseron |\n",
       "|*Appeared on*| *2022-10-17*|\n",
       "|*Comments*| *34 pages, 25 figures, submitted to the AAS Journals*|\n",
       "|**Abstract**| We continue our series of papers on phase-space distributions of stars in the Milky Way based on photometrically derived metallicities and Gaia astrometry, with a focus on the halo-disk interface in the local volume. To exploit various photometric databases, we develop a method of empirically calibrating synthetic stellar spectra based on a comparison with observations of stellar sequences and individual stars in SDSS, SMSS, and PS1, overcoming band-specific corrections employed in our previous work. In addition, photometric zero-point corrections are derived to provide an internally consistent photometric system with a spatially uniform metallicity zero point. Based on our phase-space diagrams, we find a strikingly narrow sequence in the rotational velocity ($v_\\phi$) versus metallicity ([Fe/H]) space for a sample of high proper-motion stars ($>25$ mas yr$^{-1}$), which runs along the Gaia Sausage/Enceladus (GSE) and the Splash sub-structures, and is connected to the disk. Notably, a rapid increase of $v_\\phi$ from a nearly zero net rotation to $200$ km s$^{-1}$ within a narrow metallicity interval ($-0.8 < {\\rm [Fe/H]} < -0.2$) suggests that these stars were formed on a short gas-depletion time scale. Based on measurements of a scale height and length, we argue that they are distinct from stars dynamically heated by mergers, and are the relics formed during the starburst when the young Milky Way encountered the gas-rich GSE merger. The chain of high proper-motion stars, which we dub the Galactic Starburst Sequence (GSS), provides evidence that the post-merger metal-enriched gas settled onto the disk. |\n",
       "|<p style=\"color:green\"> **ERROR** </p>| <p style=\"color:green\">affiliation error: mpia.affiliation_verifications: '69117' keyword not found.</p> |"
      ],
      "text/plain": [
       "<IPython.core.display.Markdown object>"
      ]
     },
     "metadata": {},
     "output_type": "display_data"
    },
    {
     "data": {
      "text/markdown": [
       "\n",
       "|||\n",
       "|---:|:---|\n",
       "| [![arXiv](https://img.shields.io/badge/arXiv-arXiv:2210.07725-b31b1b.svg)](https://arxiv.org/abs/arXiv:2210.07725) | **A radio-detected thermonuclear supernova from a single-degenerate  progenitor with a helium star donor**  |\n",
       "|| Erik C. Kool, et al. -- incl., <mark>Chelsea Harris</mark>, <mark>Miguel Pérez-Torres</mark>, <mark>Nora Linn Strotjohann</mark>, <mark>Mathew Smith</mark>, <mark>Frank Masci</mark>, <mark>Yashvi Sharma</mark> |\n",
       "|*Appeared on*| *2022-10-17*|\n",
       "|*Comments*| *52 pages, 9 figures, 6 tables. Under review*|\n",
       "|**Abstract**| Type Ia supernovae are thought to be carbon-oxygen white dwarf stars that explode after accreting material from a companion star, but despite extensive studies the nature of the companion star is still poorly understood, as is the explosion mechanism. In the single degenerate scenario, the companion is a non-degenerate star that loses material through winds and/or binary interaction, and a few Type Ia supernovae have shown evidence for hydrogen-rich circumstellar material. We present here the study of SN 2020eyj, a unique Type Ia supernova showing delayed interaction with helium-rich, but hydrogen-poor, circumstellar material. This material surrounding SN 2020eyj is revealed by its unusual light curve and infrared emission, narrow helium emission lines and, for the first time ever in a Type Ia supernova, also a radio counterpart. The circumstellar material likely originates from the companion star, providing the first direct evidence for a, so far hypothesized, single degenerate progenitor system composed of a white dwarf and a helium donor star. |\n",
       "|<p style=\"color:green\"> **ERROR** </p>| <p style=\"color:green\">affiliation error: mpia.affiliation_verifications: '69117' keyword not found.</p> |"
      ],
      "text/plain": [
       "<IPython.core.display.Markdown object>"
      ]
     },
     "metadata": {},
     "output_type": "display_data"
    },
    {
     "data": {
      "text/markdown": [
       "\n",
       "|||\n",
       "|---:|:---|\n",
       "| [![arXiv](https://img.shields.io/badge/arXiv-arXiv:2210.07853-b31b1b.svg)](https://arxiv.org/abs/arXiv:2210.07853) | **Cosmological Studies from HSC-SSP Tomographic Weak Lensing Peak  Abundances**  |\n",
       "|| <mark>Xiangkun Liu</mark>, et al. -- incl., <mark>Tianyu Zhang</mark> |\n",
       "|*Appeared on*| *2022-10-17*|\n",
       "|*Comments*| *19 pages, 11 figures, accepted for publication in MNRAS*|\n",
       "|**Abstract**| We perform weak lensing tomographic peak studies using the first-year shear data from Hyper Suprime-Cam Subaru Strategic Program (HSC-SSP) survey. The effective area used in our analyses after field selection, mask and boundary exclusions is $\\sim 58 \\deg^2$. The source galaxies are divided into low- and high-redshift bins with $0.2\\le z_p\\le0.85$ and $0.85\\le z_p\\le1.5$, respectively. We utilize our halo-based theoretical peak model including the projection effect of large-scale structures to derive cosmological constraints from the observed tomographic high peak abundances with the signal-to-noise ratio in the range of $\\nu_{\\rm N}=[3.5,5.5]$. These high peaks are closely associated with the lensing effects of massive clusters of galaxies. Thus the inclusion of their member galaxies in the shear catalog can lead to significant source clustering and dilute their lensing signals. We account for this systematic effect in our theoretical modelling. Additionally, the impacts of baryonic effects, galaxy intrinsic alignments, as well as residual uncertainties in shear and photometric redshift calibrations are also analyzed. Within the flat $\\Lambda$CDM model, the derived constraint is $S_8=0.758_{-0.076}^{+0.033}$ and $0.768_{-0.057}^{+0.030}$ with the source clustering information measured from the two cluster catalogs, CAMIRA and WZL, respectively. The asymmetric uncertainties are due to the different degeneracy direction of $(\\Omega_{\\rm m}, \\sigma_8)$ from high peak abundances comparing to that from the cosmic shear two-point correlations which give rise approximately the power index $\\alpha=0.5$. Fitting to our constraints, we obtain $\\alpha\\approx 0.38$ and $\\Sigma_8=0.772_{-0.032}^{+0.028}$ (CAMIRA) and $0.781_{-0.033}^{+0.028}$ (WZL). In comparison with the results from non-tomographic peak analyses, the $1\\sigma$ uncertainties on $\\Sigma_8$ are reduced by a factor of $\\sim1.3$. |\n",
       "|<p style=\"color:green\"> **ERROR** </p>| <p style=\"color:green\">affiliation error: mpia.affiliation_verifications: '69117' keyword not found.</p> |"
      ],
      "text/plain": [
       "<IPython.core.display.Markdown object>"
      ]
     },
     "metadata": {},
     "output_type": "display_data"
    },
    {
     "data": {
      "text/markdown": [
       "\n",
       "|||\n",
       "|---:|:---|\n",
       "| [![arXiv](https://img.shields.io/badge/arXiv-arXiv:2210.07905-b31b1b.svg)](https://arxiv.org/abs/arXiv:2210.07905) | **Chemodynamical Analysis of Metal-rich High-eccentricity Stars in the  Milky Way's Disk**  |\n",
       "|| <mark>Ayeon Lee</mark>, et al. -- incl., <mark>Young Sun Lee</mark> |\n",
       "|*Appeared on*| *2022-10-17*|\n",
       "|*Comments*| **|\n",
       "|**Abstract**| We present a chemodynamical analysis of 11,562 metal-rich, high-eccentricity halo-like main-sequence (MS) stars, which has been referred to as the Splash or Splashed Disk, selected from Sloan Digital Sky Survey (SDSS) and Large Sky Area Multi-Object Fiber Spectroscopic Telescope (LAMOST). When divided into two groups, a low-[$\\alpha$/Fe] population (LAP) and a high-[$\\alpha$/Fe] population (HAP), based on kinematics and chemistry, we find that they exhibit very distinct properties, indicative of different origins. From a detailed analysis of their orbital inclinations, we suggest that the HAP arises from a large fraction (~ 90%) of heated disk stars and a small fraction (~ 10%) of in situ stars from a starburst population, likely induced by interaction of the Milky Way with Gaia Sausage/Enceladus (GSE) or other early merger. The LAP comprises about half accreted stars from the GSE and half formed by the GSE-induced starburst. Our findings further imply that the Splash stars in our sample originated from at least three different mechanisms - accretion, disk heating, and a merger induced starburst. |\n",
       "|<p style=\"color:green\"> **ERROR** </p>| <p style=\"color:green\">affiliation error: mpia.affiliation_verifications: '69117' keyword not found.</p> |"
      ],
      "text/plain": [
       "<IPython.core.display.Markdown object>"
      ]
     },
     "metadata": {},
     "output_type": "display_data"
    },
    {
     "data": {
      "text/markdown": [
       "\n",
       "|||\n",
       "|---:|:---|\n",
       "| [![arXiv](https://img.shields.io/badge/arXiv-arXiv:2210.07252-b31b1b.svg)](https://arxiv.org/abs/arXiv:2210.07252) | **The McDonald Accelerating Stars Survey (MASS): Architecture of the  Ancient Five-Planet Host System Kepler-444**  |\n",
       "|| <mark>Zhoujian Zhang</mark>, et al. |\n",
       "|*Appeared on*| *2022-10-17*|\n",
       "|*Comments*| *AJ in press*|\n",
       "|**Abstract**| We present the latest and most precise characterization of the architecture for the ancient ($\\approx 11$ Gyr) Kepler-444 system, which is composed of a K0 primary star (Kepler-444 A) hosting five transiting planets, and a tight M-type spectroscopic binary (Kepler-444 BC) with an A-BC projected separation of 66 au. We have measured the system's relative astrometry using the adaptive optics imaging from Keck/NIRC2 and Kepler-444 A's radial velocities from the Hobby Eberly Telescope, and re-analyzed relative radial velocities between BC and A from Keck/HIRES. We also include the Hipparcos-Gaia astrometric acceleration and all published astrometry and radial velocities into an updated orbit analysis of BC's barycenter. These data greatly extend the time baseline of the monitoring and lead to significant updates to BC's barycentric orbit compared to previous work, including a larger semi-major axis ($a = 52.2^{+3.3}_{-2.7}$ au), a smaller eccentricity ($e = 0.55 \\pm 0.05$), and a more precise inclination ($i =85.4^{+0.3}_{-0.4}$ degrees). We have also derived the first dynamical masses of B and C components. Our results suggest Kepler-444~A's protoplanetary disk was likely truncated by BC to a radius of $\\approx 8$ au, which resolves the previously noticed tension between Kepler-444 A's disk mass and planet masses. Kepler-444 BC's barycentric orbit is likely aligned with those of A's five planets, which might be primordial or a consequence of dynamical evolution. The Kepler-444 system demonstrates that compact multi-planet systems residing in hierarchical stellar triples can form at early epochs of the Universe and survive their secular evolution throughout cosmic time. |\n",
       "|<p style=\"color:green\"> **ERROR** </p>| <p style=\"color:green\">affiliation error: mpia.affiliation_verifications: 'Heidelberg' keyword not found.</p> |"
      ],
      "text/plain": [
       "<IPython.core.display.Markdown object>"
      ]
     },
     "metadata": {},
     "output_type": "display_data"
    },
    {
     "data": {
      "text/markdown": [
       "\n",
       "|||\n",
       "|---:|:---|\n",
       "| [![arXiv](https://img.shields.io/badge/arXiv-arXiv:2210.07273-b31b1b.svg)](https://arxiv.org/abs/arXiv:2210.07273) | **Relativistic Signatures of Flux Eruption Events Near Black Holes**  |\n",
       "|| Zachary Gelles, et al. -- incl., <mark>Matthew Liska</mark> |\n",
       "|*Appeared on*| *2022-10-17*|\n",
       "|*Comments*| *Submitted to Galaxies. Comments are welcome*|\n",
       "|**Abstract**| Images of supermassive black holes produced using very long baseline interferometry provide a pathway to directly observing effects of a highly curved spacetime, such as a bright ``photon ring'' that arises from strongly lensed emission. In addition, the emission near supermassive black holes is highly variable, with bright high-energy flares regularly observed. We demonstrate that intrinsic variability can introduce prominent associated changes in the relative brightness of the photon ring. We analyze both semianalytic toy models and GRMHD simulations with magnetic flux eruption events, showing that they each exhibit a characteristic ``loop'' in the space of relative photon ring brightness versus total flux density. For black holes viewed at high inclination, the relative photon ring brightness can change by an order of magnitude, even with variations in total flux density that are comparatively mild. We show that gravitational lensing, Doppler boosting, and magnetic field structure all significantly affect this feature, and we discuss the prospects for observing it in observations of M87* and Sgr A* with the next-generation Event Horizon Telescope. |\n",
       "|<p style=\"color:green\"> **ERROR** </p>| <p style=\"color:green\">affiliation error: mpia.affiliation_verifications: 'Heidelberg' keyword not found.</p> |"
      ],
      "text/plain": [
       "<IPython.core.display.Markdown object>"
      ]
     },
     "metadata": {},
     "output_type": "display_data"
    },
    {
     "data": {
      "text/markdown": [
       "\n",
       "|||\n",
       "|---:|:---|\n",
       "| [![arXiv](https://img.shields.io/badge/arXiv-arXiv:2210.07284-b31b1b.svg)](https://arxiv.org/abs/arXiv:2210.07284) | **The Planck clusters in the LOFAR sky. III. LoTSS-DR2: Dynamic states and  density fluctuations of the intracluster medium**  |\n",
       "|| <mark>X. Zhang</mark>, et al. |\n",
       "|*Appeared on*| *2022-10-17*|\n",
       "|*Comments*| *20 pages, 13 figures, 5 tables includig appendix. Accepted for publication in A&A. The abstract on arXiv has been shorten to meet the word limit*|\n",
       "|**Abstract**| The footprint of LoTSS-DR2 covers 309 PSZ2 galaxy clusters, 83 of which host a radio halo and 26 host a radio relic(s). It provides us an excellent opportunity to statistically study the properties of extended cluster radio sources, especially their connection with merging activities. We aim to quantify cluster dynamic states to investigate their relation with the occurrence of extended radio sources. We also search for connections between intracluster medium (ICM) turbulence and nonthermal characteristics of radio halos in the LoTSS-DR2. We analyzed XMM-Newton and Chandra archival X-ray data and computed concentration parameters and centroid shifts that indicate the dynamic states of the clusters. We also performed a power spectral analysis of the X-ray surface brightness (SB) fluctuations to investigate large-scale density perturbations and estimate the turbulent velocity dispersion. The power spectral analysis results in a large scatter density fluctuation amplitude. We therefore only found a marginal anticorrelation between density fluctuations and cluster relaxation state, and we did not find a correlation between density fluctuations and radio halo power. Nevertheless, the injected power for particle acceleration calculated from turbulent dissipation is correlated with the radio halo power, where the best-fit unity slope supports the turbulent (re)acceleration scenario. Two different acceleration models, transit-time damping and adiabatic stochastic acceleration, cannot be distinguished due to the large scatter of the estimated turbulent Mach number. We introduced a new quantity $[kT\\cdot Y_X]_{r_\\mathrm{RH}}$, which is proportional to the turbulent acceleration power assuming a constant Mach number. This quantity is strongly correlated with radio halo power, where the slope is also unity. |\n",
       "|<p style=\"color:green\"> **ERROR** </p>| <p style=\"color:green\">affiliation error: mpia.affiliation_verifications: 'Heidelberg' keyword not found.</p> |"
      ],
      "text/plain": [
       "<IPython.core.display.Markdown object>"
      ]
     },
     "metadata": {},
     "output_type": "display_data"
    },
    {
     "data": {
      "text/markdown": [
       "\n",
       "|||\n",
       "|---:|:---|\n",
       "| [![arXiv](https://img.shields.io/badge/arXiv-arXiv:2210.07304-b31b1b.svg)](https://arxiv.org/abs/arXiv:2210.07304) | **Beyond $Λ$CDM constraints from the full shape clustering  measurements from BOSS and eBOSS**  |\n",
       "|| Agne Semenaite, et al. -- incl., <mark>Cheng Zhao</mark>, <mark>Joel R. Brownstein</mark> |\n",
       "|*Appeared on*| *2022-10-17*|\n",
       "|*Comments*| *12 pages, 6 figures, submitted to MNRAS*|\n",
       "|**Abstract**| We analyse the full shape of anisotropic clustering measurements from the extended Baryon Oscillation Spectroscopic survey (eBOSS) quasar sample together with the combined galaxy sample from the Baryon Oscillation Spectroscopic Survey (BOSS). We obtain constraints on the cosmological parameters independent of the Hubble parameter $h$ for the extensions of the $\\Lambda$CDM models, focusing on cosmologies with free dark energy equation of state parameter $w$. We combine the clustering constraints with those from the latest CMB data from Planck to obtain joint constraints for these cosmologies for $w$ and the additional extension parameters - its time evolution $w_{\\rm{a}}$, the physical curvature density $\\omega_{K}$ and the neutrino mass sum $\\sum m_{\\nu}$. Our joint constraints are consistent with flat $\\Lambda$CDM cosmological model within 68\\% confidence limits. We demonstrate that the Planck data are able to place tight constraints on the clustering amplitude today, $\\sigma_{12}$, in cosmologies with varying $w$ and present the first constraints for the clustering amplitude for such cosmologies, which is found to be slightly higher than the $\\Lambda$CDM value. Additionally, we show that when we vary $w$ and allow for non-flat cosmologies and the physical curvature density is used, Planck prefers a curved universe at $4\\sigma$ significance, which is $\\sim2\\sigma$ higher than when using the relative curvature density $\\Omega_{\\rm{K}}$. Finally, when $w$ is varied freely, clustering provides only a modest improvement (of 0.021 eV) on the upper limit of $\\sum m_{\\nu}$. |\n",
       "|<p style=\"color:green\"> **ERROR** </p>| <p style=\"color:green\">affiliation error: mpia.affiliation_verifications: 'Heidelberg' keyword not found.</p> |"
      ],
      "text/plain": [
       "<IPython.core.display.Markdown object>"
      ]
     },
     "metadata": {},
     "output_type": "display_data"
    },
    {
     "data": {
      "text/markdown": [
       "\n",
       "|||\n",
       "|---:|:---|\n",
       "| [![arXiv](https://img.shields.io/badge/arXiv-arXiv:2210.07391-b31b1b.svg)](https://arxiv.org/abs/arXiv:2210.07391) | **CMB Delensing with Neural Network Based Lensing Reconstruction in the  Presence of Primordial Tensor Perturbations**  |\n",
       "|| <mark>Chen Heinrich</mark>, Trey Driskell, <mark>Chris Heinrich</mark> |\n",
       "|*Appeared on*| *2022-10-17*|\n",
       "|*Comments*| *16 pages, 9 figures*|\n",
       "|**Abstract**| The next-generation CMB experiments are expected to constrain the tensor-to-scalar ratio $r$ with high precision. Delensing is an important process as the observed CMB $B$-mode polarization that contains the primordial tensor perturbation signal is dominated by a much larger contribution due to gravitational lensing. To do so successfully, it is useful to explore methods for lensing reconstruction beyond the traditional quadratic estimator (QE) (which will become suboptimal for the next-generation experiments), and the maximum a posterior estimator (which is still currently under development). In Caldeira et al. 2020, the authors showed that a neural network (NN) method using the ResUNet architectrue performs better than the QE and slightly suboptimally compared to the iterative estimator in terms of the lensing reconstruction performance. In this work, we take one step further to evaluate the delensing performance of these estimators on maps with primordial tensor perturbations using a standard delensing pipeline, and show that the \\emph{delensing} performance of the NN estimator is optimal, agreeing with that of a converged iterative estimator, when tested on a suite of simulations with $r=0.01$ and $r=0.001$ for $12.7^{\\circ} \\times 12.7^{\\circ}$ maps at a CMB-Stage~4 like polarization noise level $1\\,\\mu \\rm{K\\,arcmin}$ and 1' beam. We found that for the purpose of delensing, it is necessary to train and evaluate the NN on a set of CMB maps with $l<l_{\\rm{cut}}$ removed, in order to avoid spurious correlations on the scales of interest for the final delensed $B$-mode power spectrum $l<l_{\\rm{cut}}$, similar to what was known previously for the QE and the iterative estimator. We also present various NN training techniques that can be extended for a simultaneous treatment of foregrounds and more complex instrumental effects where the modeling is more uncertain. |\n",
       "|<p style=\"color:green\"> **ERROR** </p>| <p style=\"color:green\">affiliation error: mpia.affiliation_verifications: 'Heidelberg' keyword not found.</p> |"
      ],
      "text/plain": [
       "<IPython.core.display.Markdown object>"
      ]
     },
     "metadata": {},
     "output_type": "display_data"
    },
    {
     "data": {
      "text/markdown": [
       "\n",
       "|||\n",
       "|---:|:---|\n",
       "| [![arXiv](https://img.shields.io/badge/arXiv-arXiv:2210.07554-b31b1b.svg)](https://arxiv.org/abs/arXiv:2210.07554) | **WHTZ 1: A high excitation Planetary Nebula not a gaseous cocoon from  runaway star HD 185806**  |\n",
       "|| Quentin A. Parker, et al. -- incl., <mark>Lionel Mulato</mark> |\n",
       "|*Appeared on*| *2022-10-17*|\n",
       "|*Comments*| *8 pages, 6 figure, accepted for publication in MNRAS*|\n",
       "|**Abstract**| We present evidence that the nebular cocoon and bow-shock emission nebula putatively and recently reported as deriving from the 9th magnitude \"runaway\" star HD 185806 is the previously discovered but obscure planetary nebula WHTZ 1 (Ra 7). It has a Gaia DR3 G~16 blue ionizing star at its geometric centre. We present imagery, spectroscopy, other data and arguments to support that this emission source is a high excitation Planetary Nebula not a stellar wind bow shock. |\n",
       "|<p style=\"color:green\"> **ERROR** </p>| <p style=\"color:green\">affiliation error: mpia.affiliation_verifications: 'Heidelberg' keyword not found.</p> |"
      ],
      "text/plain": [
       "<IPython.core.display.Markdown object>"
      ]
     },
     "metadata": {},
     "output_type": "display_data"
    },
    {
     "data": {
      "text/markdown": [
       "\n",
       "|||\n",
       "|---:|:---|\n",
       "| [![arXiv](https://img.shields.io/badge/arXiv-arXiv:2210.07709-b31b1b.svg)](https://arxiv.org/abs/arXiv:2210.07709) | **CHANG-ES XXVI: Insights into cosmic-ray transport from radio halos in  edge-on galaxies**  |\n",
       "|| M. Stein, et al. -- incl., <mark>V. Heesen</mark>, <mark>J. Li</mark> |\n",
       "|*Appeared on*| *2022-10-17*|\n",
       "|*Comments*| *Accepted for publication in Astronomy & Astrophysics section 4. Extragalactic astronomy*|\n",
       "|**Abstract**| Galactic winds play a key role in regulating the evolution of galaxies over cosmic time. In recent years, the role of cosmic rays (CR) in the formation of the galactic wind has increasingly gained attention. Therefore, we use radio continuum data to analyse the cosmic ray transport in edge-on galaxies. Data from the LOFAR Two-metre Sky Survey (LoTSS) data release 2 at 144 MHz (HBA) and reprocessed VLA data at 1.6 GHz (L-band) from the Continuum Halos in Nearby Galaxies - an EVLA Survey (CHANG-ES) enable us to increase the extent of the analysed radio continuum profile significantly (up to a factor of 2) compared to previous studies. We compute thermal emission maps using a mixture approach of H-alpha and near infrared data, which is then subtracted to yield radio synchrotron emission maps. Then we compile non-thermal spectral index maps and compute intensity profiles using a box integration approach. Lastly, we perform 1D cosmic ray transport modelling. The non-thermal spectral index maps show evidence that the LoTSS maps are affected by thermal absorption, in star forming regions. The scale height analysis reveals that most of the galaxies are equally well fitted with an one-component instead of a twocomponent exponential profile. We find a bi-modality within our sample. While NGC 3432 and NGC 4013 have similar scale heights in the L-band and HBA, the low-frequency scale heights of NGC 891, NGC 4157, and NGC 4631 exceed their high-frequency counterpart significantly. The 1D CR transport modelling shows agreement of the predicted magnetic field strength and the magnetic field strength estimates of equipartition measurements. Additionally we find an increasing difference of wind velocities (with increasing height over the galactic disk) between central and outer regions of the analysed galaxies. |\n",
       "|<p style=\"color:green\"> **ERROR** </p>| <p style=\"color:green\">affiliation error: mpia.affiliation_verifications: 'Heidelberg' keyword not found.</p> |"
      ],
      "text/plain": [
       "<IPython.core.display.Markdown object>"
      ]
     },
     "metadata": {},
     "output_type": "display_data"
    },
    {
     "data": {
      "text/markdown": [
       "\n",
       "|||\n",
       "|---:|:---|\n",
       "| [![arXiv](https://img.shields.io/badge/arXiv-arXiv:2210.07801-b31b1b.svg)](https://arxiv.org/abs/arXiv:2210.07801) | **A combinatorial algebraic approach for the modified second-generation  time-delay interferometry**  |\n",
       "|| <mark>Zhang-Qi Wu</mark>, Pan-Pan Wang, <mark>Wei-Liang Qian</mark>, Cheng-Gang Shao |\n",
       "|*Appeared on*| *2022-10-17*|\n",
       "|*Comments*| **|\n",
       "|**Abstract**| We generalize the combinatorial algebraic approach first proposed by Dhurandhar et al. to construct various classes of modified second-generation time-delay interferometry (TDI) solutions. The main idea behind the algorithm is to enumerate, in a given order, a specific type of commutator between two monomials defined by the products of particular time-displacement operators. On the one hand, the above commutators can be systematically rewritten as the elements of a left ideal, defined by the l.h.s. of the relevant equation for the TDI solution. On the other hand, these commutators are shown to vanish if we only keep up the first-order contributions regarding the rate of change of armlengths. In other words, each commutator furnishes a valid TDI solution pertaining to the given type of modified second-generation combinations. In this work, the original algorithm, which only involves time-delay operators, is extended by introducing the time-advance ones and then utilized to seek solutions of the Beacon, Relay, Monitor, Sagnac, and fully symmetric Sagnac types. We discuss the relation between the present scheme's solutions and those obtained by the geometric TDI approach, a well-known method of exhaustion of virtual optical paths. In particular, we report the results on novel Sagnac-inspired solutions that cannot be straightforwardly obtained using the geometric TDI algorithm. The average response functions, floor noise power spectral densities, and sensitivity functions are evaluated for the obtained solutions. |\n",
       "|<p style=\"color:green\"> **ERROR** </p>| <p style=\"color:green\">affiliation error: mpia.affiliation_verifications: 'Heidelberg' keyword not found.</p> |"
      ],
      "text/plain": [
       "<IPython.core.display.Markdown object>"
      ]
     },
     "metadata": {},
     "output_type": "display_data"
    },
    {
     "data": {
      "text/markdown": [
       "\n",
       "|||\n",
       "|---:|:---|\n",
       "| [![arXiv](https://img.shields.io/badge/arXiv-arXiv:2210.07925-b31b1b.svg)](https://arxiv.org/abs/arXiv:2210.07925) | **300: An ACA 870 $μ$m Continuum Survey of Orion Protostars and their  Evolution**  |\n",
       "|| Samuel Federman, et al. -- incl., <mark>William J. Fischer</mark>, <mark>Lee Hartmann</mark> |\n",
       "|*Appeared on*| *2022-10-17*|\n",
       "|*Comments*| **|\n",
       "|**Abstract**| We present an 870 $\\mu$m continuum survey of 300 protostars from the Herschel Orion Protostar Survey (HOPS) using the Atacama Compact Array (ACA). These data measure protostellar flux densities on envelope scales $\\le$ 8000 AU (20\") and resolve the structure of envelopes with 1600 AU (4\") resolution, a factor of 3-5 improvement in angular resolution over existing single dish 870 $\\mu$m observations. We compare the ACA observations to Atacama Large Millimeter Array (ALMA) 12m array observations at 870 $\\mu$m with $\\sim$0.1\" (40 AU) resolution. Using the 12 meter data to measure the fluxes from disks and the ACA fluxes within 2500 au to measure the combined disk plus envelope fluxes, we calculate the 12 m/ACA 870 $\\mu$m flux ratios. Our sample shows a clear evolution in this ratio. Class 0 protostars are mostly envelope-dominated with ratios $<$ 0.5. In contrast, Flat Spectrum protostars are primarily disk-dominated with ratios near one, although with a number of face-on protostars with large envelopes. Class I protostars span the range from envelope to disk dominated. The increase in ratio is accompanied by a decrease in the envelope fluxes and estimated mass infall rates. We estimate that 80% of the mass is accreted during the envelope-dominated phase. We find that the 12m/ACA flux ratio is an evolutionary indicator that largely avoids the inclination and foreground extinction dependence of SED-based indicators. |\n",
       "|<p style=\"color:green\"> **ERROR** </p>| <p style=\"color:green\">affiliation error: mpia.affiliation_verifications: 'Heidelberg' keyword not found.</p> |"
      ],
      "text/plain": [
       "<IPython.core.display.Markdown object>"
      ]
     },
     "metadata": {},
     "output_type": "display_data"
    },
    {
     "data": {
      "text/markdown": [
       "\n",
       "|||\n",
       "|---:|:---|\n",
       "| [![arXiv](https://img.shields.io/badge/arXiv-arXiv:2210.07933-b31b1b.svg)](https://arxiv.org/abs/arXiv:2210.07933) | **TOI-179: a young system with a transiting compact Neptune-mass planet  and a low-mass companion in outer orbit**  |\n",
       "|| S. Desidera, et al. -- incl., <mark>A. Maggio</mark> |\n",
       "|*Appeared on*| *2022-10-17*|\n",
       "|*Comments*| *25 pages, 24 figures, A&A, in press*|\n",
       "|**Abstract**| Transiting planets around young stars are key benchmarks for our understanding of planetary systems. One of such candidates was identified around the K dwarf HD 18599 by TESS, labeled as TOI-179. We present the confirmation of the transiting planet and the characterization of the host star and of the TOI-179 system over a broad range of angular separations. To this aim, we exploited the TESS photometric time series, intensive radial velocity monitoring performed with HARPS, and deep high-contrast imaging observations obtained with SPHERE and NACO at VLT. The inclusion of Gaussian processes regression analysis is effective to properly model the magnetic activity of the star and identify the Keplerian signature of the transiting planet. The star, with an age of 400+-100 Myr, is orbited by a transiting planet with period 4.137436 days, mass 24+-7 Mearth, radius 2.62 (+0.15-0.12) Rearth, and significant eccentricity (0.34 (+0.07-0.09)). Adaptive optics observations identified a low-mass companion at the boundary between brown dwarfs and very low mass stars (mass derived from luminosity 83 (+4-6) Mjup) at a very small projected separation (84.5 mas, 3.3 au at the distance of the star). Coupling the imaging detection with the long-term radial velocity trend and the astrometric signature, we constrained the orbit of the low mass companion, identifying two families of possible orbital solutions. The TOI-179 system represents a high-merit laboratory for our understanding of the physical evolution of planets and other low-mass objects and of how the planet properties are influenced by dynamical effects and interactions with the parent star. |\n",
       "|<p style=\"color:green\"> **ERROR** </p>| <p style=\"color:green\">affiliation error: mpia.affiliation_verifications: 'Heidelberg' keyword not found.</p> |"
      ],
      "text/plain": [
       "<IPython.core.display.Markdown object>"
      ]
     },
     "metadata": {},
     "output_type": "display_data"
    },
    {
     "data": {
      "text/markdown": [
       "\n",
       "|||\n",
       "|---:|:---|\n",
       "| [![arXiv](https://img.shields.io/badge/arXiv-arXiv:2210.07919-b31b1b.svg)](https://arxiv.org/abs/arXiv:2210.07919) | **A model for the infrared-radio correlation of main-sequence galaxies at  GHz frequencies and its dependence on redshift and stellar mass**  |\n",
       "|| J. Schober, M. T. Sargent, R. S. Klessen, <mark>D. R. G. Schleicher</mark> |\n",
       "|*Appeared on*| *2022-10-17*|\n",
       "|*Comments*| *15 pages, 14 figures, submitted to A&A*|\n",
       "|**Abstract**| The infrared-radio correlation (IRRC) of star-forming galaxies can be used to estimate their star formation rate (SFR) based on the radio continuum luminosity at MHz-GHz frequencies. For application in future deep radio surveys, it is crucial to know whether the IRRC persists at high redshift z. Delvecchio et al. (2021) observed that the 1.4 GHz IRRC correlation of star-forming galaxies is nearly z-invariant up to z~4, but depends strongly on the stellar mass M_star. This should be taken into account for SFR calibrations based on radio luminosity. To understand the physical cause of the M_star-dependence of the IRRC and its properties at higher z, we construct a phenomenological model for galactic radio emission involving magnetic fields generated by a small-scale dynamo, a steady-state cosmic ray population, as well as observed scaling relations that reduce the number of free parameters. The best agreement between the model and the characteristics of the IRRC observed by Delvecchio et al. (2021) is found when the efficiency of the SN-driven turbulence is 5% and when saturation of the small-scale dynamo occurs once 0.5% of the kinetic energy is converted into magnetic energy. Generally, we find that the observed mass dependence of the IRRC appears as long as synchrotron emission dominates the galactic radio flux. When extrapolating the reference model to higher redshift, the free-free emission and absorption strongly affect the radio spectrum, which ultimately leads to an inversion of the M_star dependence of the IRRC at z>5. This could be tested with future deep radio observations, which will also probe the dependence of IR/radio flux ratios on galaxy orientation that is predicted by our model for high-z systems. |\n",
       "|<p style=\"color:green\"> **ERROR** </p>| <p style=\"color:green\">affiliation error: mpia.affiliation_verifications: 'Planck' keyword not found.</p> |"
      ],
      "text/plain": [
       "<IPython.core.display.Markdown object>"
      ]
     },
     "metadata": {},
     "output_type": "display_data"
    },
    {
     "data": {
      "text/markdown": [
       "\n",
       "|||\n",
       "|---:|:---|\n",
       "| [![arXiv](https://img.shields.io/badge/arXiv-arXiv:2210.07478-b31b1b.svg)](https://arxiv.org/abs/arXiv:2210.07478) | **On the underestimation of dust mass in protoplanetary disks: Effects of  disk structure and dust properties**  |\n",
       "|| <mark>Yao Liu</mark>, et al. -- incl., <mark>Hendrik Linz</mark>, <mark>Thomas Henning</mark>, <mark>Mario Flock</mark>, <mark>Dafa Li</mark> |\n",
       "|*Appeared on*| *2022-10-17*|\n",
       "|*Comments*| *16 pages, 9 figures, accepted for publication in A&A*|\n",
       "|**Abstract**| The total amount of dust grains in protoplanetary disks is one of the key properties that characterize the potential for planet formation. With (sub-)millimeter flux measurements, literature studies usually derive the dust mass using an analytic form under the assumption of optically thin emission, which may lead to substantial underestimation. In this work, we conduct a parameter study with the goal of investigating the effects of disk structure and dust properties on the underestimation through self-consistent radiative transfer models. Different dust models, scattering modes and approaches for dust settling are considered and compared. The influences of disk substructures, such as rings and crescents, on the mass derivation are investigated as well. The results indicate that the traditional analytic method can underestimate the mass by a factor of a few to hundreds, depending on the optical depth along the line of sight set mainly by the true dust mass, disk size and inclination. As an application, we perform a detailed radiative transfer modeling of the spectral energy distribution of DoAr 33, one of the observed DSHARP disks. When the DSHARP dust opacities are adopted, the most probable dust mass returned from the Bayesian analysis is roughly 7 times higher than the value given by the analytic calculation. Our study demonstrates that estimating disk dust masses from radiative transfer modeling is one solution for alleviating the problem of insufficient mass for planet formation raised in the ALMA era. |\n",
       "|<p style=\"color:red\"> **ERROR** </p>| <p style=\"color:red\">latex error sequence item 0: expected str instance, TexNode found</p> |"
      ],
      "text/plain": [
       "<IPython.core.display.Markdown object>"
      ]
     },
     "metadata": {},
     "output_type": "display_data"
    }
   ],
   "source": [
    "import datetime\n",
    "today = str(datetime.date.today())\n",
    "logfile = f\"_build/html/logs/log-{today}.md\"\n",
    "\n",
    "\n",
    "with open(logfile, 'w') as logs:\n",
    "    # Success\n",
    "    logs.write(f'# Arxiv on Deck 2: Logs - {today}\\n\\n')\n",
    "    logs.write(\"\"\"* Arxiv had {0:,d} new papers\\n\"\"\".format(len(new_papers)))\n",
    "    logs.write(\"\"\"    * {0:,d} with possible author matches\\n\\n\"\"\".format(len(candidates)))\n",
    "    logs.write(\"## Sucessful papers\\n\\n\")\n",
    "    display(Markdown(\"## Successful papers\"))\n",
    "    success = [k[0] for k in documents]\n",
    "    for candid in candidates:\n",
    "        if candid['identifier'].split(':')[-1] in success:\n",
    "            display(candid)\n",
    "            logs.write(candid.generate_markdown_text() + '\\n\\n')\n",
    "\n",
    "    ## failed\n",
    "    logs.write(\"## Failed papers\\n\\n\")\n",
    "    display(Markdown(\"## Failed papers\"))\n",
    "    failed = sorted(failed, key=lambda x: x[1])\n",
    "    current_reason = \"\"\n",
    "    for paper, reason in failed:\n",
    "        if 'affiliation' in reason:\n",
    "            color = 'green'\n",
    "        else:\n",
    "            color = 'red'\n",
    "        data = Markdown(\n",
    "                paper.generate_markdown_text() + \n",
    "                f'\\n|<p style=\"color:{color:s}\"> **ERROR** </p>| <p style=\"color:{color:s}\">{reason:s}</p> |'\n",
    "               )\n",
    "        if reason != current_reason:\n",
    "            logs.write(f'### {reason:s} \\n\\n')\n",
    "            current_reason = reason\n",
    "        logs.write(data.data + '\\n\\n')\n",
    "        \n",
    "        # only display here the important errors (all in logs)\n",
    "        # if color in ('red',):\n",
    "        display(data)"
   ]
  },
  {
   "cell_type": "markdown",
   "id": "472d20ee",
   "metadata": {
    "papermill": {
     "duration": 0.008626,
     "end_time": "2022-10-17T05:21:55.262217",
     "exception": false,
     "start_time": "2022-10-17T05:21:55.253591",
     "status": "completed"
    },
    "tags": []
   },
   "source": [
    "## Export documents\n",
    "\n",
    "We now write the .md files and export relevant images"
   ]
  },
  {
   "cell_type": "code",
   "execution_count": 7,
   "id": "d426aed9",
   "metadata": {
    "execution": {
     "iopub.execute_input": "2022-10-17T05:21:55.281476Z",
     "iopub.status.busy": "2022-10-17T05:21:55.280811Z",
     "iopub.status.idle": "2022-10-17T05:21:55.288208Z",
     "shell.execute_reply": "2022-10-17T05:21:55.287547Z"
    },
    "papermill": {
     "duration": 0.01906,
     "end_time": "2022-10-17T05:21:55.289799",
     "exception": false,
     "start_time": "2022-10-17T05:21:55.270739",
     "status": "completed"
    },
    "tags": []
   },
   "outputs": [],
   "source": [
    "def export_markdown_summary(md: str, md_fname:str, directory: str):\n",
    "    \"\"\"Export MD document and associated relevant images\"\"\"\n",
    "    import os\n",
    "    import shutil\n",
    "    import re\n",
    "\n",
    "    if (os.path.exists(directory) and not os.path.isdir(directory)):\n",
    "        raise RuntimeError(f\"a non-directory file exists with name {directory:s}\")\n",
    "\n",
    "    if (not os.path.exists(directory)):\n",
    "        print(f\"creating directory {directory:s}\")\n",
    "        os.mkdir(directory)\n",
    "\n",
    "    fig_fnames = (re.compile(r'\\[Fig.*\\]\\((.*)\\)').findall(md) + \n",
    "                  re.compile(r'\\<img src=\"([^>\\s]*)\"[^>]*/>').findall(md))\n",
    "    for fname in fig_fnames:\n",
    "        if 'http' in fname:\n",
    "            # No need to copy online figures\n",
    "            continue\n",
    "        destdir = os.path.join(directory, os.path.dirname(fname))\n",
    "        destfname = os.path.join(destdir, os.path.basename(fname))\n",
    "        try:\n",
    "            os.makedirs(destdir)\n",
    "        except FileExistsError:\n",
    "            pass\n",
    "        shutil.copy(fname, destfname)\n",
    "    with open(os.path.join(directory, md_fname), 'w') as fout:\n",
    "        fout.write(md)\n",
    "    print(\"exported in \", os.path.join(directory, md_fname))\n",
    "    [print(\"    + \" + os.path.join(directory,fk)) for fk in fig_fnames]"
   ]
  },
  {
   "cell_type": "code",
   "execution_count": 8,
   "id": "014d04a4",
   "metadata": {
    "execution": {
     "iopub.execute_input": "2022-10-17T05:21:55.308742Z",
     "iopub.status.busy": "2022-10-17T05:21:55.308133Z",
     "iopub.status.idle": "2022-10-17T05:21:55.312529Z",
     "shell.execute_reply": "2022-10-17T05:21:55.311957Z"
    },
    "papermill": {
     "duration": 0.015584,
     "end_time": "2022-10-17T05:21:55.314114",
     "exception": false,
     "start_time": "2022-10-17T05:21:55.298530",
     "status": "completed"
    },
    "tags": []
   },
   "outputs": [],
   "source": [
    "for paper_id, md in documents:\n",
    "    export_markdown_summary(md, f\"{paper_id:s}.md\", '_build/html/')"
   ]
  },
  {
   "cell_type": "markdown",
   "id": "f087a0a7",
   "metadata": {
    "papermill": {
     "duration": 0.009789,
     "end_time": "2022-10-17T05:21:55.332529",
     "exception": false,
     "start_time": "2022-10-17T05:21:55.322740",
     "status": "completed"
    },
    "tags": []
   },
   "source": [
    "## Display the papers\n",
    "\n",
    "Not necessary but allows for a quick check."
   ]
  },
  {
   "cell_type": "code",
   "execution_count": 9,
   "id": "fd25f625",
   "metadata": {
    "execution": {
     "iopub.execute_input": "2022-10-17T05:21:55.351804Z",
     "iopub.status.busy": "2022-10-17T05:21:55.351139Z",
     "iopub.status.idle": "2022-10-17T05:21:55.355198Z",
     "shell.execute_reply": "2022-10-17T05:21:55.354542Z"
    },
    "papermill": {
     "duration": 0.01539,
     "end_time": "2022-10-17T05:21:55.356923",
     "exception": false,
     "start_time": "2022-10-17T05:21:55.341533",
     "status": "completed"
    },
    "scrolled": false,
    "tags": []
   },
   "outputs": [],
   "source": [
    "[display(Markdown(k[1])) for k in documents];"
   ]
  },
  {
   "cell_type": "markdown",
   "id": "873873a4",
   "metadata": {
    "papermill": {
     "duration": 0.008568,
     "end_time": "2022-10-17T05:21:55.374079",
     "exception": false,
     "start_time": "2022-10-17T05:21:55.365511",
     "status": "completed"
    },
    "tags": []
   },
   "source": [
    "# Create HTML index"
   ]
  },
  {
   "cell_type": "code",
   "execution_count": 10,
   "id": "cf665672",
   "metadata": {
    "execution": {
     "iopub.execute_input": "2022-10-17T05:21:55.392756Z",
     "iopub.status.busy": "2022-10-17T05:21:55.392135Z",
     "iopub.status.idle": "2022-10-17T05:21:55.401018Z",
     "shell.execute_reply": "2022-10-17T05:21:55.400358Z"
    },
    "papermill": {
     "duration": 0.019922,
     "end_time": "2022-10-17T05:21:55.402519",
     "exception": false,
     "start_time": "2022-10-17T05:21:55.382597",
     "status": "completed"
    },
    "tags": []
   },
   "outputs": [
    {
     "name": "stdout",
     "output_type": "stream",
     "text": [
      "63  publications in the last 7 days.\n",
      "\t _build/html/2210.06504.md\n",
      "\t _build/html/2210.05695.md\n",
      "\t _build/html/2210.05595.md\n",
      "\t _build/html/2210.05505.md\n",
      "\t _build/html/2210.04721.md\n",
      "\t _build/html/2210.03615.md\n",
      "\t _build/html/2210.01811.md\n",
      "\t _build/html/2210.01809.md\n",
      "\t _build/html/2210.01556.md\n",
      "\t _build/html/2210.00863.md\n",
      "\t _build/html/2210.00560.md\n",
      "\t _build/html/2209.15403.md\n",
      "\t _build/html/2209.15110.md\n",
      "\t _build/html/2209.14410.md\n",
      "\t _build/html/2209.14396.md\n",
      "\t _build/html/2209.13717.md\n",
      "\t _build/html/2209.13336.md\n",
      "\t _build/html/2209.12906.md\n",
      "\t _build/html/2209.11781.md\n",
      "\t _build/html/2209.11602.md\n",
      "\t _build/html/2209.11248.md\n",
      "\t _build/html/2209.11096.md\n",
      "\t _build/html/2209.10618.md\n",
      "\t _build/html/2209.09914.md\n",
      "\t _build/html/2209.09823.md\n",
      "\t _build/html/2209.08242.md\n",
      "\t _build/html/2209.08120.md\n",
      "\t _build/html/2209.08106.md\n",
      "\t _build/html/2209.07962.md\n",
      "\t _build/html/2209.07931.md\n",
      "\t _build/html/2209.06833.md\n",
      "\t _build/html/2209.05814.md\n",
      "\t _build/html/2209.05593.md\n",
      "\t _build/html/2209.04304.md\n",
      "\t _build/html/2209.03367.md\n",
      "\t _build/html/2209.02872.md\n",
      "\t _build/html/2209.02725.md\n",
      "\t _build/html/2209.02722.md\n",
      "\t _build/html/2209.02092.md\n",
      "\t _build/html/2209.01125.md\n",
      "\t _build/html/2209.00828.md\n",
      "\t _build/html/2209.00363.md\n",
      "\t _build/html/2208.14927.md\n",
      "\t _build/html/2208.09335.md\n",
      "\t _build/html/2208.08872.md\n",
      "\t _build/html/2204.06393.md\n",
      "\t _build/html/2204.03335.md\n",
      "\t _build/html/2204.03253.md\n",
      "\t _build/html/2204.02998.md\n",
      "\t _build/html/2204.02109.md\n",
      "\t _build/html/2204.02017.md\n",
      "\t _build/html/2204.01824.md\n",
      "\t _build/html/2204.01758.md\n",
      "\t _build/html/2204.01245.md\n",
      "\t _build/html/2204.00793.md\n",
      "\t _build/html/2204.00342.md\n",
      "\t _build/html/2203.16959.md\n",
      "\t _build/html/2203.16856.md\n",
      "\t _build/html/2203.16735.md\n",
      "\t _build/html/2203.16734.md\n",
      "\t _build/html/2203.16504.md\n",
      "\t _build/html/2203.15822.md\n",
      "\t _build/html/2203.15811.md\n"
     ]
    }
   ],
   "source": [
    "from datetime import datetime, timedelta, timezone\n",
    "from glob import glob\n",
    "\n",
    "files = glob('_build/html/*.md')\n",
    "days = 7\n",
    "now = datetime.today()\n",
    "res = []\n",
    "for fk in files:\n",
    "    stat_result = os.stat(fk).st_ctime\n",
    "    modified = datetime.fromtimestamp(stat_result, tz=timezone.utc).replace(tzinfo=None)\n",
    "    delta = now.today() - modified\n",
    "    if delta <= timedelta(days=days):\n",
    "        res.append((delta.seconds, fk))\n",
    "res = [k[1] for k in reversed(sorted(res, key=lambda x:x[1]))]\n",
    "npub = len(res)\n",
    "print(len(res), f\" publications in the last {days:d} days.\")\n",
    "[ print('\\t', k) for k in res ];"
   ]
  },
  {
   "cell_type": "code",
   "execution_count": 11,
   "id": "52ca0208",
   "metadata": {
    "execution": {
     "iopub.execute_input": "2022-10-17T05:21:55.421721Z",
     "iopub.status.busy": "2022-10-17T05:21:55.421095Z",
     "iopub.status.idle": "2022-10-17T05:21:55.428723Z",
     "shell.execute_reply": "2022-10-17T05:21:55.428129Z"
    },
    "papermill": {
     "duration": 0.018758,
     "end_time": "2022-10-17T05:21:55.430183",
     "exception": false,
     "start_time": "2022-10-17T05:21:55.411425",
     "status": "completed"
    },
    "scrolled": false,
    "tags": []
   },
   "outputs": [],
   "source": [
    "def create_carousel(npub=4):\n",
    "    \"\"\" Generate the HTML code for a carousel with `npub` slides \"\"\"\n",
    "    carousel = [\"\"\"<section class=\"carousel\" aria-label=\"Gallery\">\"\"\",\n",
    "                \"\"\"  <ol class=\"carousel__viewport\">\"\"\",\n",
    "    ]\n",
    "    for k in range(1, npub + 1):\n",
    "        prev_ = k - 1\n",
    "        next_ = k + 1\n",
    "        if prev_ <= 0:\n",
    "            prev_ = npub\n",
    "        if next_ > npub:\n",
    "            next_ = 1\n",
    "        text  = f\"\"\"    <li id=\"carousel__slide{k}\" tabindex=\"0\" class=\"carousel__slide\">\\n\"\"\"\n",
    "        text += f\"\"\"       <div class=\"carousel__snapper\">\\n\"\"\"\n",
    "        text += f\"\"\"         <a href=\"#carousel__slide{prev_}\" class=\"carousel__prev\">Go to previous slide</a>\\n\"\"\"\n",
    "        text += f\"\"\"         <a href=\"#carousel__slide{next_}\" class=\"carousel__next\">Go to next slide</a>\\n\"\"\"\n",
    "        text += f\"\"\"         <div id=\"slide{k}_content\" class=\"md_view\" >Content {k}</div>\\n\"\"\"\n",
    "        text += f\"\"\"       </div>\\n\"\"\"\n",
    "        text += f\"\"\"    </li>\"\"\"\n",
    "        carousel.append(text)\n",
    "\n",
    "    carousel.extend([\n",
    "        \"\"\"  </ol>\"\"\",\n",
    "        \"\"\"  <aside class=\"carousel__navigation\">\"\"\",\n",
    "        \"\"\"    <ol class=\"carousel__navigation-list\">\"\"\"])\n",
    "\n",
    "    for k in range(1, npub + 1):\n",
    "        text  = f\"\"\"      <li class=\"carousel__navigation-item\">\\n\"\"\"\n",
    "        text += f\"\"\"        <a href=\"#carousel__slide{k}\" class=\"carousel__navigation-button\">Go to {k}</a>\\n\"\"\"\n",
    "        text += f\"\"\"      </li>\"\"\"\n",
    "        carousel.append(text)\n",
    "    carousel.extend([\"\"\"    </ol>\"\"\", \"\"\"  </aside>\"\"\", \"\"\"</section>\"\"\"])\n",
    "\n",
    "    return '\\n'.join(carousel)"
   ]
  },
  {
   "cell_type": "code",
   "execution_count": 12,
   "id": "a6eac5b6",
   "metadata": {
    "execution": {
     "iopub.execute_input": "2022-10-17T05:21:55.448817Z",
     "iopub.status.busy": "2022-10-17T05:21:55.448586Z",
     "iopub.status.idle": "2022-10-17T05:21:55.454724Z",
     "shell.execute_reply": "2022-10-17T05:21:55.454124Z"
    },
    "papermill": {
     "duration": 0.017312,
     "end_time": "2022-10-17T05:21:55.456207",
     "exception": false,
     "start_time": "2022-10-17T05:21:55.438895",
     "status": "completed"
    },
    "scrolled": false,
    "tags": []
   },
   "outputs": [],
   "source": [
    "carousel = create_carousel(npub)\n",
    "docs = ', '.join(['\"{0:s}\"'.format(k.split('/')[-1]) for k in res])\n",
    "slides = ', '.join([f'\"slide{k}_content\"' for k in range(1, npub + 1)])\n",
    "\n",
    "script = f\"\"\"\n",
    "const docs = [{docs}]\n",
    "\n",
    "const slides = [{slides}]\n",
    "\"\"\" + \"\"\"\n",
    "async function run() {\n",
    "    for (let i = 0; i < docs.length; i++) {\n",
    "        let file = await fetch(docs[i]);\n",
    "        let text = await file.text()\n",
    "        document.getElementById(slides[i]).innerHTML =\n",
    "            marked.parse(text);\n",
    "    }\n",
    "    hljs.highlightAll();\n",
    "}\n",
    "run()\n",
    "\"\"\"\n",
    "\n",
    "page = f\"\"\"<!doctype html>\n",
    "<html lang=\"en\">\n",
    "\n",
    "<head>\n",
    "  <meta charset=\"utf-8\">\n",
    "  <meta name=\"viewport\" content=\"width=device-width, initial-scale=1\">\n",
    "  <!-- Bootstrap CSS -->\n",
    "  <link href=\"https://cdn.jsdelivr.net/npm/bootstrap@5.0.2/dist/css/bootstrap.min.css\" rel=\"stylesheet\"\n",
    "   integrity=\"sha384-EVSTQN3/azprG1Anm3QDgpJLIm9Nao0Yz1ztcQTwFspd3yD65VohhpuuCOmLASjC\" crossorigin=\"anonymous\">\n",
    "  <!-- highlight.js CSS -->\n",
    "  <link rel=\"stylesheet\" href=\"https://cdnjs.cloudflare.com/ajax/libs/highlight.js/11.1.0/styles/default.min.css\">\n",
    "  <!-- Mathjax 3 -->\n",
    "  <script type=\"text/javascript\" id=\"MathJax-config\" src=\"mathjax_config.js\"> </script>\n",
    "  <script type=\"text/javascript\" id=\"MathJax-script\" async \n",
    "    src=\"https://cdn.jsdelivr.net/npm/mathjax@3/es5/tex-mml-chtml.js\">\n",
    "  </script>\n",
    "  <link rel=\"stylesheet\" href=\"index_carousel.css\">\n",
    "  <link rel=\"icon\" type=\"image/x-icon\" href=\"https://www.mpia.de/assets/touch-icon-32x32-a66937bcebc4e8894ebff1f41a366c7c7220fd97a38869ee0f2db65a9f59b6c1.png\">\n",
    "  <title>MPIA Arxiv on deck!</title>\n",
    "</head>\n",
    "\n",
    "<body>\n",
    "  <div id=\"header\"> <img src=\"header_banner.png\" width=\"100%\"></div>\n",
    "  <div id=\"suptitle\"> 7-day archives </div>\n",
    "  <div id=\"info\">\n",
    "    <img src=\"https://pngimg.com/uploads/github/github_PNG58.png\" height=30rem></img>\n",
    "    <a href=https://github.com/mpi-astronomy/arxiv_display style=\"color:black;\">github/mpi-astronomy/arxiv_display</a> \n",
    "  </div>\n",
    "  {carousel:s}\n",
    "</body>\n",
    "\n",
    "<!-- Render Markdown -->\n",
    "\n",
    "<body>\n",
    "  <!-- highlight.js: https://highlightjs.org/download/ -->\n",
    "  <script src=\"https://cdnjs.cloudflare.com/ajax/libs/highlight.js/11.5.0/highlight.min.js\"></script>\n",
    "  <!-- marked.js -->\n",
    "  <script src=\"https://cdn.jsdelivr.net/npm/marked/marked.min.js\"></script>\n",
    "  <script>{script:s}</script>\n",
    "</body>\n",
    "</html>\n",
    "\"\"\"\n",
    "with open(\"_build/html/index_7days.html\", 'w') as fout:\n",
    "    fout.write(page)"
   ]
  },
  {
   "cell_type": "markdown",
   "id": "1cebacbc",
   "metadata": {
    "papermill": {
     "duration": 0.008718,
     "end_time": "2022-10-17T05:21:55.473689",
     "exception": false,
     "start_time": "2022-10-17T05:21:55.464971",
     "status": "completed"
    },
    "tags": []
   },
   "source": [
    "# Debugging papers"
   ]
  },
  {
   "cell_type": "raw",
   "id": "debe7cc6",
   "metadata": {
    "papermill": {
     "duration": 0.008644,
     "end_time": "2022-10-17T05:21:55.491035",
     "exception": false,
     "start_time": "2022-10-17T05:21:55.482391",
     "status": "completed"
    },
    "tags": []
   },
   "source": [
    "raise NotImplementedError(\"Manual Stop\")"
   ]
  },
  {
   "cell_type": "raw",
   "id": "eb169192",
   "metadata": {
    "papermill": {
     "duration": 0.008669,
     "end_time": "2022-10-17T05:21:55.508403",
     "exception": false,
     "start_time": "2022-10-17T05:21:55.499734",
     "status": "completed"
    },
    "scrolled": true,
    "tags": []
   },
   "source": [
    "from IPython.display import display, Markdown\n",
    "from TexSoup import TexSoup\n",
    "import re\n",
    "\n",
    "def bracket_error(source: str):\n",
    "    \"\"\" Find problematic portions of the document \"\"\"\n",
    "    \n",
    "    print(\"len(source)\", len(source))\n",
    "    \n",
    "    # Checking header\n",
    "    begin_doc = next(re.finditer(r'\\\\begin\\{document\\}', doc.source)).span()[1]\n",
    "    header = source[:begin_doc]\n",
    "    text = header + r\"\\n\\end{document}\"\n",
    "\n",
    "    try:\n",
    "        # print(\"Header check... \", end='')\n",
    "        TexSoup(text)\n",
    "        display(Markdown(f\"**[OK]** - Header\"))\n",
    "    except:\n",
    "        raise RuntimeError(\"Error in the header\")\n",
    "        \n",
    "    # Check the text per section until the end.\n",
    "    # Do not stop and try them all.\n",
    "    \n",
    "    problematic_text = []\n",
    "    \n",
    "    sections = ([(0, begin_doc, 'until first section')] + \n",
    "                [(g.span()[0], g.span()[1], g.group()) for g in re.finditer(r'\\\\section\\{.*\\}', source)] +\n",
    "                [(g.span()[0], g.span()[1], g.group()) for g in re.finditer(r'\\\\begin\\{appendix\\}', source)]\n",
    "               )\n",
    "    sections.append([len(source), len(source), 'end'])\n",
    "    \n",
    "    sections = sorted(sections, key=lambda x: x[0])\n",
    "    \n",
    "    prev_pos, prev_name = (0, 'header')\n",
    "    parsed = []\n",
    "    \n",
    "    for span, span_end, name in sections:\n",
    "\n",
    "        if span - prev_pos <= 0:\n",
    "            continue\n",
    "            \n",
    "\n",
    "        text = source[prev_pos:span]\n",
    "        if prev_pos > begin_doc:\n",
    "            text = r\"\\n\\begin{document}\" + text + r\"\\n\\end{document}\"\n",
    "        else:\n",
    "            text = text + r\"\\n\\end{document}\"\n",
    "        try:\n",
    "            #print(f\"{prev_pos}:{prev_name}-->{span}:{name} check... \", end='')\n",
    "            parsed.append(TexSoup(text, tolerance=1))  # allow not ending env\n",
    "            display(Markdown(f\"**[OK]** - *{prev_pos}*:{prev_name} &rarr; *{span}*:{name}\"))\n",
    "            # print(\"ok\")\n",
    "\n",
    "            prev_pos = span\n",
    "            prev_name = name\n",
    "        except:\n",
    "            # print(f\"error between {prev_pos} and {span}\")\n",
    "            display(Markdown(f\"**[ERR]** *{prev_pos}*:{prev_name} &rarr; *{span}*:{name}\"))\n",
    "            problematic_text.append((prev_pos, source[prev_pos:span]))\n",
    "            prev_pos = span\n",
    "            prev_name = name\n",
    "            # raise\n",
    "    return problematic_text, parsed\n",
    "\n",
    "\n",
    "def check_environment(text, offset=0):\n",
    "    \"\"\" Check environment \"\"\"\n",
    "    env = re.compile(r\"\\\\begin\\{(?P<env>.*)\\}(.*)\\\\end\\{(?P=env)\\}\", re.DOTALL)\n",
    "\n",
    "    for match in env.finditer(text):\n",
    "        beg, end = match.span()\n",
    "        beg += offset\n",
    "        end += offset\n",
    "        envname = match.groups()[0]\n",
    "        try:\n",
    "            latex.TexSoup(match.group())\n",
    "        except Exception as e:\n",
    "            display(e)\n",
    "            print(f\"Error in {envname:s} between {beg} and {end}\")\n",
    "            return match.groups()[1], beg, end"
   ]
  },
  {
   "cell_type": "raw",
   "id": "2315e835",
   "metadata": {
    "papermill": {
     "duration": 0.008762,
     "end_time": "2022-10-17T05:21:55.526043",
     "exception": false,
     "start_time": "2022-10-17T05:21:55.517281",
     "status": "completed"
    },
    "scrolled": false,
    "tags": []
   },
   "source": [
    "import importlib\n",
    "importlib.reload(latex)\n",
    "which = \"2204.03253\"\n",
    "paper_id = f'{which:s}'\n",
    "folder = f'tmp_{paper_id:s}'\n",
    "\n",
    "if not os.path.isdir(folder):\n",
    "    folder = retrieve_document_source(f\"{paper_id}\", f'tmp_{paper_id}')\n",
    "\n",
    "try:\n",
    "    doc = latex.LatexDocument(folder, validation=validation)    \n",
    "except AffiliationError as affilerror:\n",
    "    msg = f\"ArXiv:{paper_id:s} is not an MPIA paper... \" + str(affilerror)\n",
    "    print(msg)\n",
    "\n",
    "\n",
    "# Hack because sometimes author parsing does not work well\n",
    "if (len(doc.authors) != len(paper['authors'])):\n",
    "    doc._authors = paper['authors']\n",
    "if (doc.abstract) in (None, ''):\n",
    "    doc._abstract = paper['abstract']\n",
    "\n",
    "doc.comment = get_markdown_badge(paper_id) + \" _\" + paper['comments'] + \"_\"\n",
    "doc.highlight_authors_in_list(hl_list)\n",
    "\n",
    "full_md = doc.generate_markdown_text()"
   ]
  },
  {
   "cell_type": "raw",
   "id": "dd3781db",
   "metadata": {
    "papermill": {
     "duration": 0.008701,
     "end_time": "2022-10-17T05:21:55.543455",
     "exception": false,
     "start_time": "2022-10-17T05:21:55.534754",
     "status": "completed"
    },
    "scrolled": false,
    "tags": []
   },
   "source": [
    "doc"
   ]
  },
  {
   "cell_type": "raw",
   "id": "c6eed834",
   "metadata": {
    "papermill": {
     "duration": 0.008673,
     "end_time": "2022-10-17T05:21:55.560855",
     "exception": false,
     "start_time": "2022-10-17T05:21:55.552182",
     "status": "completed"
    },
    "tags": []
   },
   "source": [
    "# [check_environment(k) for k in bracket_error(doc.source)]\n",
    "_, _, a = latex.get_content_per_section(doc.source, verbose=True)\n",
    "if not a:\n",
    "    print(\"no issues per section\")\n",
    "for ak in a:\n",
    "    r = check_environment(ak[1], offset=ak[0])\n",
    "    print(r[1], r[2])\n",
    "    print(r[0])"
   ]
  },
  {
   "cell_type": "code",
   "execution_count": null,
   "id": "71ce768a",
   "metadata": {
    "papermill": {
     "duration": 0.008672,
     "end_time": "2022-10-17T05:21:55.578193",
     "exception": false,
     "start_time": "2022-10-17T05:21:55.569521",
     "status": "completed"
    },
    "tags": []
   },
   "outputs": [],
   "source": []
  }
 ],
 "metadata": {
  "kernelspec": {
   "display_name": "Python 3.10.6 64-bit",
   "language": "python",
   "name": "python3"
  },
  "language_info": {
   "codemirror_mode": {
    "name": "ipython",
    "version": 3
   },
   "file_extension": ".py",
   "mimetype": "text/x-python",
   "name": "python",
   "nbconvert_exporter": "python",
   "pygments_lexer": "ipython3",
   "version": "3.9.14"
  },
  "papermill": {
   "default_parameters": {},
   "duration": 104.204251,
   "end_time": "2022-10-17T05:21:55.804268",
   "environment_variables": {},
   "exception": null,
   "input_path": "MPIA daily digest.ipynb",
   "output_path": "log.ipynb",
   "parameters": {},
   "start_time": "2022-10-17T05:20:11.600017",
   "version": "2.4.0"
  },
  "vscode": {
   "interpreter": {
    "hash": "e7370f93d1d0cde622a1f8e1c04877d8463912d04d973331ad4851f04de6915a"
   }
  },
  "widgets": {
   "application/vnd.jupyter.widget-state+json": {
    "state": {
     "2cbded3a707a433aa15d149f3d09cf71": {
      "model_module": "@jupyter-widgets/base",
      "model_module_version": "2.0.0",
      "model_name": "LayoutModel",
      "state": {
       "_model_module": "@jupyter-widgets/base",
       "_model_module_version": "2.0.0",
       "_model_name": "LayoutModel",
       "_view_count": null,
       "_view_module": "@jupyter-widgets/base",
       "_view_module_version": "2.0.0",
       "_view_name": "LayoutView",
       "align_content": null,
       "align_items": null,
       "align_self": null,
       "border_bottom": null,
       "border_left": null,
       "border_right": null,
       "border_top": null,
       "bottom": null,
       "display": null,
       "flex": null,
       "flex_flow": null,
       "grid_area": null,
       "grid_auto_columns": null,
       "grid_auto_flow": null,
       "grid_auto_rows": null,
       "grid_column": null,
       "grid_gap": null,
       "grid_row": null,
       "grid_template_areas": null,
       "grid_template_columns": null,
       "grid_template_rows": null,
       "height": null,
       "justify_content": null,
       "justify_items": null,
       "left": null,
       "margin": null,
       "max_height": null,
       "max_width": null,
       "min_height": null,
       "min_width": null,
       "object_fit": null,
       "object_position": null,
       "order": null,
       "overflow": null,
       "padding": null,
       "right": null,
       "top": null,
       "visibility": null,
       "width": null
      }
     },
     "39f6aab87dc84f92b41f3b960140452a": {
      "model_module": "@jupyter-widgets/base",
      "model_module_version": "2.0.0",
      "model_name": "LayoutModel",
      "state": {
       "_model_module": "@jupyter-widgets/base",
       "_model_module_version": "2.0.0",
       "_model_name": "LayoutModel",
       "_view_count": null,
       "_view_module": "@jupyter-widgets/base",
       "_view_module_version": "2.0.0",
       "_view_name": "LayoutView",
       "align_content": null,
       "align_items": null,
       "align_self": null,
       "border_bottom": null,
       "border_left": null,
       "border_right": null,
       "border_top": null,
       "bottom": null,
       "display": null,
       "flex": null,
       "flex_flow": null,
       "grid_area": null,
       "grid_auto_columns": null,
       "grid_auto_flow": null,
       "grid_auto_rows": null,
       "grid_column": null,
       "grid_gap": null,
       "grid_row": null,
       "grid_template_areas": null,
       "grid_template_columns": null,
       "grid_template_rows": null,
       "height": null,
       "justify_content": null,
       "justify_items": null,
       "left": null,
       "margin": null,
       "max_height": null,
       "max_width": null,
       "min_height": null,
       "min_width": null,
       "object_fit": null,
       "object_position": null,
       "order": null,
       "overflow": null,
       "padding": null,
       "right": null,
       "top": null,
       "visibility": null,
       "width": null
      }
     },
     "3e765a0a67c941fa94b357bf5541146c": {
      "model_module": "@jupyter-widgets/controls",
      "model_module_version": "2.0.0",
      "model_name": "HTMLModel",
      "state": {
       "_dom_classes": [],
       "_model_module": "@jupyter-widgets/controls",
       "_model_module_version": "2.0.0",
       "_model_name": "HTMLModel",
       "_view_count": null,
       "_view_module": "@jupyter-widgets/controls",
       "_view_module_version": "2.0.0",
       "_view_name": "HTMLView",
       "description": "",
       "description_allow_html": false,
       "layout": "IPY_MODEL_4ffdd15babea47cb95e86ce19ad01788",
       "placeholder": "​",
       "style": "IPY_MODEL_f17bec287957434790493022d116da3f",
       "tabbable": null,
       "tooltip": null,
       "value": " 17/17 [01:15&lt;00:00,  4.79s/it]"
      }
     },
     "4ffdd15babea47cb95e86ce19ad01788": {
      "model_module": "@jupyter-widgets/base",
      "model_module_version": "2.0.0",
      "model_name": "LayoutModel",
      "state": {
       "_model_module": "@jupyter-widgets/base",
       "_model_module_version": "2.0.0",
       "_model_name": "LayoutModel",
       "_view_count": null,
       "_view_module": "@jupyter-widgets/base",
       "_view_module_version": "2.0.0",
       "_view_name": "LayoutView",
       "align_content": null,
       "align_items": null,
       "align_self": null,
       "border_bottom": null,
       "border_left": null,
       "border_right": null,
       "border_top": null,
       "bottom": null,
       "display": null,
       "flex": null,
       "flex_flow": null,
       "grid_area": null,
       "grid_auto_columns": null,
       "grid_auto_flow": null,
       "grid_auto_rows": null,
       "grid_column": null,
       "grid_gap": null,
       "grid_row": null,
       "grid_template_areas": null,
       "grid_template_columns": null,
       "grid_template_rows": null,
       "height": null,
       "justify_content": null,
       "justify_items": null,
       "left": null,
       "margin": null,
       "max_height": null,
       "max_width": null,
       "min_height": null,
       "min_width": null,
       "object_fit": null,
       "object_position": null,
       "order": null,
       "overflow": null,
       "padding": null,
       "right": null,
       "top": null,
       "visibility": null,
       "width": null
      }
     },
     "6cd2830299884bd88079fefec4245589": {
      "model_module": "@jupyter-widgets/controls",
      "model_module_version": "2.0.0",
      "model_name": "ProgressStyleModel",
      "state": {
       "_model_module": "@jupyter-widgets/controls",
       "_model_module_version": "2.0.0",
       "_model_name": "ProgressStyleModel",
       "_view_count": null,
       "_view_module": "@jupyter-widgets/base",
       "_view_module_version": "2.0.0",
       "_view_name": "StyleView",
       "bar_color": null,
       "description_width": ""
      }
     },
     "6eb20a824052494385fe2287e8a316db": {
      "model_module": "@jupyter-widgets/controls",
      "model_module_version": "2.0.0",
      "model_name": "HBoxModel",
      "state": {
       "_dom_classes": [],
       "_model_module": "@jupyter-widgets/controls",
       "_model_module_version": "2.0.0",
       "_model_name": "HBoxModel",
       "_view_count": null,
       "_view_module": "@jupyter-widgets/controls",
       "_view_module_version": "2.0.0",
       "_view_name": "HBoxView",
       "box_style": "",
       "children": [
        "IPY_MODEL_8603ae388b984b408b68ac964d0be082",
        "IPY_MODEL_74d63e381f8843bd95b2a33c45343b5f",
        "IPY_MODEL_3e765a0a67c941fa94b357bf5541146c"
       ],
       "layout": "IPY_MODEL_2cbded3a707a433aa15d149f3d09cf71",
       "tabbable": null,
       "tooltip": null
      }
     },
     "74d63e381f8843bd95b2a33c45343b5f": {
      "model_module": "@jupyter-widgets/controls",
      "model_module_version": "2.0.0",
      "model_name": "FloatProgressModel",
      "state": {
       "_dom_classes": [],
       "_model_module": "@jupyter-widgets/controls",
       "_model_module_version": "2.0.0",
       "_model_name": "FloatProgressModel",
       "_view_count": null,
       "_view_module": "@jupyter-widgets/controls",
       "_view_module_version": "2.0.0",
       "_view_name": "ProgressView",
       "bar_style": "success",
       "description": "",
       "description_allow_html": false,
       "layout": "IPY_MODEL_b070b3a378114aa9845042d1f44d2816",
       "max": 17.0,
       "min": 0.0,
       "orientation": "horizontal",
       "style": "IPY_MODEL_6cd2830299884bd88079fefec4245589",
       "tabbable": null,
       "tooltip": null,
       "value": 17.0
      }
     },
     "8603ae388b984b408b68ac964d0be082": {
      "model_module": "@jupyter-widgets/controls",
      "model_module_version": "2.0.0",
      "model_name": "HTMLModel",
      "state": {
       "_dom_classes": [],
       "_model_module": "@jupyter-widgets/controls",
       "_model_module_version": "2.0.0",
       "_model_name": "HTMLModel",
       "_view_count": null,
       "_view_module": "@jupyter-widgets/controls",
       "_view_module_version": "2.0.0",
       "_view_name": "HTMLView",
       "description": "",
       "description_allow_html": false,
       "layout": "IPY_MODEL_39f6aab87dc84f92b41f3b960140452a",
       "placeholder": "​",
       "style": "IPY_MODEL_954bbac0aaf440a6b63e493e32a7449d",
       "tabbable": null,
       "tooltip": null,
       "value": "100%"
      }
     },
     "954bbac0aaf440a6b63e493e32a7449d": {
      "model_module": "@jupyter-widgets/controls",
      "model_module_version": "2.0.0",
      "model_name": "HTMLStyleModel",
      "state": {
       "_model_module": "@jupyter-widgets/controls",
       "_model_module_version": "2.0.0",
       "_model_name": "HTMLStyleModel",
       "_view_count": null,
       "_view_module": "@jupyter-widgets/base",
       "_view_module_version": "2.0.0",
       "_view_name": "StyleView",
       "background": null,
       "description_width": "",
       "font_size": null,
       "text_color": null
      }
     },
     "b070b3a378114aa9845042d1f44d2816": {
      "model_module": "@jupyter-widgets/base",
      "model_module_version": "2.0.0",
      "model_name": "LayoutModel",
      "state": {
       "_model_module": "@jupyter-widgets/base",
       "_model_module_version": "2.0.0",
       "_model_name": "LayoutModel",
       "_view_count": null,
       "_view_module": "@jupyter-widgets/base",
       "_view_module_version": "2.0.0",
       "_view_name": "LayoutView",
       "align_content": null,
       "align_items": null,
       "align_self": null,
       "border_bottom": null,
       "border_left": null,
       "border_right": null,
       "border_top": null,
       "bottom": null,
       "display": null,
       "flex": null,
       "flex_flow": null,
       "grid_area": null,
       "grid_auto_columns": null,
       "grid_auto_flow": null,
       "grid_auto_rows": null,
       "grid_column": null,
       "grid_gap": null,
       "grid_row": null,
       "grid_template_areas": null,
       "grid_template_columns": null,
       "grid_template_rows": null,
       "height": null,
       "justify_content": null,
       "justify_items": null,
       "left": null,
       "margin": null,
       "max_height": null,
       "max_width": null,
       "min_height": null,
       "min_width": null,
       "object_fit": null,
       "object_position": null,
       "order": null,
       "overflow": null,
       "padding": null,
       "right": null,
       "top": null,
       "visibility": null,
       "width": null
      }
     },
     "f17bec287957434790493022d116da3f": {
      "model_module": "@jupyter-widgets/controls",
      "model_module_version": "2.0.0",
      "model_name": "HTMLStyleModel",
      "state": {
       "_model_module": "@jupyter-widgets/controls",
       "_model_module_version": "2.0.0",
       "_model_name": "HTMLStyleModel",
       "_view_count": null,
       "_view_module": "@jupyter-widgets/base",
       "_view_module_version": "2.0.0",
       "_view_name": "StyleView",
       "background": null,
       "description_width": "",
       "font_size": null,
       "text_color": null
      }
     }
    },
    "version_major": 2,
    "version_minor": 0
   }
  }
 },
 "nbformat": 4,
 "nbformat_minor": 5
}