{
 "cells": [
  {
   "cell_type": "markdown",
   "id": "92bcb855",
   "metadata": {
    "papermill": {
     "duration": 0.00384,
     "end_time": "2025-07-18T04:31:12.228856",
     "exception": false,
     "start_time": "2025-07-18T04:31:12.225016",
     "status": "completed"
    },
    "tags": []
   },
   "source": [
    "# MPIA Arxiv on Deck 2\n",
    "\n",
    "Contains the steps to produce the paper extractions."
   ]
  },
  {
   "cell_type": "code",
   "execution_count": 1,
   "id": "3a0d6e11",
   "metadata": {
    "execution": {
     "iopub.execute_input": "2025-07-18T04:31:12.236724Z",
     "iopub.status.busy": "2025-07-18T04:31:12.236117Z",
     "iopub.status.idle": "2025-07-18T04:31:12.471203Z",
     "shell.execute_reply": "2025-07-18T04:31:12.470542Z"
    },
    "papermill": {
     "duration": 0.240319,
     "end_time": "2025-07-18T04:31:12.472543",
     "exception": false,
     "start_time": "2025-07-18T04:31:12.232224",
     "status": "completed"
    },
    "tags": []
   },
   "outputs": [],
   "source": [
    "# Imports\n",
    "import os\n",
    "from IPython.display import Markdown, display\n",
    "from tqdm.notebook import tqdm\n",
    "import warnings\n",
    "from PIL import Image \n",
    "import re\n",
    "\n",
    "# requires arxiv_on_deck_2\n",
    "\n",
    "from arxiv_on_deck_2.arxiv2 import (get_new_papers, \n",
    "                                    get_paper_from_identifier,\n",
    "                                    retrieve_document_source, \n",
    "                                    get_markdown_badge)\n",
    "from arxiv_on_deck_2 import (latex,\n",
    "                             latex_bib,\n",
    "                             mpia,\n",
    "                             highlight_authors_in_list)\n",
    "\n",
    "# Sometimes images are really big\n",
    "Image.MAX_IMAGE_PIXELS = 1000000000 "
   ]
  },
  {
   "cell_type": "code",
   "execution_count": 2,
   "id": "22aa9d44",
   "metadata": {
    "execution": {
     "iopub.execute_input": "2025-07-18T04:31:12.480020Z",
     "iopub.status.busy": "2025-07-18T04:31:12.479651Z",
     "iopub.status.idle": "2025-07-18T04:31:12.487848Z",
     "shell.execute_reply": "2025-07-18T04:31:12.487192Z"
    },
    "papermill": {
     "duration": 0.012954,
     "end_time": "2025-07-18T04:31:12.488813",
     "exception": false,
     "start_time": "2025-07-18T04:31:12.475859",
     "status": "completed"
    },
    "tags": []
   },
   "outputs": [],
   "source": [
    "# Some useful definitions.\n",
    "\n",
    "class AffiliationWarning(UserWarning):\n",
    "    pass\n",
    "\n",
    "class AffiliationError(RuntimeError):\n",
    "    pass\n",
    "\n",
    "def validation(source: str):\n",
    "    \"\"\"Raises error paper during parsing of source file\n",
    "    \n",
    "    Allows checks before parsing TeX code.\n",
    "    \n",
    "    Raises AffiliationWarning\n",
    "    \"\"\"\n",
    "    check = mpia.affiliation_verifications(source, verbose=True)\n",
    "    if check is not True:\n",
    "        raise AffiliationError(\"mpia.affiliation_verifications: \" + check)\n",
    "\n",
    "        \n",
    "warnings.simplefilter('always', AffiliationWarning)\n",
    "\n",
    "\n",
    "def get_markdown_qrcode(paper_id: str):\n",
    "    \"\"\" Generate a qrcode to the arxiv page using qrserver.com\n",
    "    \n",
    "    :param paper: Arxiv paper\n",
    "    :returns: markdown text\n",
    "    \"\"\"\n",
    "    url = r\"https://api.qrserver.com/v1/create-qr-code/?size=100x100&data=\"\n",
    "    txt = f\"\"\"<img src={url}\"https://arxiv.org/abs/{paper_id}\">\"\"\"\n",
    "    txt = '<div id=\"qrcode\">' + txt + '</div>'\n",
    "    return txt\n",
    "\n",
    "\n",
    "def clean_non_western_encoded_characters_commands(text: str) -> str:\n",
    "    \"\"\" Remove non-western encoded characters from a string\n",
    "    List may need to grow.\n",
    "    \n",
    "    :param text: the text to clean\n",
    "    :return: the cleaned text\n",
    "    \"\"\"\n",
    "    text = re.sub(r\"(\\\\begin{CJK}{UTF8}{gbsn})(.*?)(\\\\end{CJK})\", r\"\\2\", text)\n",
    "    return text\n",
    "\n",
    "\n",
    "def get_initials(name: str) -> str:\n",
    "    \"\"\" Get the short name, e.g., A.-B. FamName\n",
    "    :param name: full name\n",
    "    :returns: initials\n",
    "    \"\"\"\n",
    "    initials = []\n",
    "    # account for non western names often in ()\n",
    "    if '(' in name:\n",
    "        name = clean_non_western_encoded_characters_commands(name)\n",
    "        suffix = re.findall(r\"\\((.*?)\\)\", name)[0]\n",
    "        name = name.replace(f\"({suffix})\", '')\n",
    "    else:\n",
    "        suffix = ''\n",
    "    split = name.split()\n",
    "    for token in split[:-1]:\n",
    "        if '-' in token:\n",
    "            current = '-'.join([k[0] + '.' for k in token.split('-')])\n",
    "        else:\n",
    "            current = token[0] + '.'\n",
    "        initials.append(current)\n",
    "    initials.append(split[-1].strip())\n",
    "    if suffix:\n",
    "        initials.append(f\"({suffix})\")\n",
    "    return ' '.join(initials)"
   ]
  },
  {
   "cell_type": "markdown",
   "id": "14bd6310",
   "metadata": {
    "papermill": {
     "duration": 0.00289,
     "end_time": "2025-07-18T04:31:12.494682",
     "exception": false,
     "start_time": "2025-07-18T04:31:12.491792",
     "status": "completed"
    },
    "tags": []
   },
   "source": [
    "## get list of arxiv paper candidates\n",
    "\n",
    "We use the MPIA mitarbeiter list webpage from mpia.de to get author names\n",
    "We then get all new papers from Arxiv and match authors"
   ]
  },
  {
   "cell_type": "code",
   "execution_count": 3,
   "id": "7ea813a8",
   "metadata": {
    "execution": {
     "iopub.execute_input": "2025-07-18T04:31:12.501586Z",
     "iopub.status.busy": "2025-07-18T04:31:12.501201Z",
     "iopub.status.idle": "2025-07-18T04:31:31.158583Z",
     "shell.execute_reply": "2025-07-18T04:31:31.157931Z"
    },
    "papermill": {
     "duration": 18.66223,
     "end_time": "2025-07-18T04:31:31.159830",
     "exception": false,
     "start_time": "2025-07-18T04:31:12.497600",
     "status": "completed"
    },
    "tags": []
   },
   "outputs": [],
   "source": [
    "# deal with the author list and edge cases of people that cannot be consistent on their name  \n",
    "\n",
    "def filter_non_scientists(name: str) -> bool:\n",
    "    \"\"\" Loose filter on expected authorships\n",
    "\n",
    "    removing IT, administration, technical staff\n",
    "    :param name: name\n",
    "    :returns: False if name is not a scientist\n",
    "    \"\"\"\n",
    "    remove_list = ['Licht', 'Binroth', 'Witzel', 'Jordan',\n",
    "                   'Zähringer', 'Scheerer', 'Hoffmann', 'Düe',\n",
    "                   'Hellmich', 'Enkler-Scharpegge', 'Witte-Nguy',\n",
    "                   'Dehen', 'Beckmann', 'Jager', 'Jäger'\n",
    "                  ]\n",
    "\n",
    "    for k in remove_list:\n",
    "        if k in name:\n",
    "            return False\n",
    "    return True\n",
    "\n",
    "def add_author_to_list(author_list: list) -> list:\n",
    "    \"\"\" Add author to list if not already in list\n",
    "    \n",
    "    :param author: author name\n",
    "    :param author_list: list of authors\n",
    "    :returns: updated list of authors\n",
    "    \"\"\"\n",
    "    add_list = ['T. Henning']\n",
    "\n",
    "    for author in add_list:\n",
    "        if author not in author_list:\n",
    "            author_list.append(author)\n",
    "    return author_list\n",
    "\n",
    "# get list from MPIA website\n",
    "# filter for non-scientists (mpia.get_mpia_mitarbeiter_list() does some filtering)\n",
    "mpia_authors = [k[1] for k in mpia.get_mpia_mitarbeiter_list() if filter_non_scientists(k[1])]\n",
    "# add some missing author because of inconsistencies in their MPIA name and author name on papers\n",
    "mpia_authors = add_author_to_list(mpia_authors)"
   ]
  },
  {
   "cell_type": "code",
   "execution_count": 4,
   "id": "2645e73a",
   "metadata": {
    "execution": {
     "iopub.execute_input": "2025-07-18T04:31:31.167501Z",
     "iopub.status.busy": "2025-07-18T04:31:31.167080Z",
     "iopub.status.idle": "2025-07-18T04:31:31.887753Z",
     "shell.execute_reply": "2025-07-18T04:31:31.887188Z"
    },
    "papermill": {
     "duration": 0.72548,
     "end_time": "2025-07-18T04:31:31.888754",
     "exception": false,
     "start_time": "2025-07-18T04:31:31.163274",
     "status": "completed"
    },
    "tags": []
   },
   "outputs": [
    {
     "name": "stdout",
     "output_type": "stream",
     "text": [
      "M. Prunier  ->  M. Prunier  |  ['M. Prunier']\n",
      "A. Pillepich  ->  A. Pillepich  |  ['A. Pillepich']\n",
      "K. El-Badry  ->  K. El-Badry  |  ['K. El-Badry']\n",
      "J. Müller-Horn  ->  J. Müller-Horn  |  ['J. Müller-Horn']\n",
      "R. Seeburger  ->  L. R. Seeburger  |  ['R. Seeburger']\n",
      "H.-W. Rix  ->  H.-W. Rix  |  ['H.-W. Rix']\n",
      "R. Andrae  ->  R. Andrae  |  ['R. Andrae']\n",
      "Y. Wang  ->  Y. Wang  |  ['Y. Wang']\n",
      "M. Zhang  ->  M. Zhang  |  ['M. Zhang']\n",
      "X. Zhang  ->  X. Zhang  |  ['X. Zhang']\n"
     ]
    },
    {
     "name": "stdout",
     "output_type": "stream",
     "text": [
      "X. Zhang  ->  X. Zhang  |  ['X. Zhang']\n",
      "Arxiv has 71 new papers today\n",
      "          5 with possible author matches\n"
     ]
    }
   ],
   "source": [
    "new_papers = get_new_papers()\n",
    "# add manual references\n",
    "add_paper_refs = []\n",
    "new_papers.extend([get_paper_from_identifier(k) for k in add_paper_refs])\n",
    "\n",
    "def robust_call(fn, value, *args, **kwargs):\n",
    "    try:\n",
    "        return fn(value, *args, **kwargs)\n",
    "    except Exception:\n",
    "        return value\n",
    "\n",
    "candidates = []\n",
    "for paperk in new_papers:\n",
    "    # Check author list with their initials\n",
    "    normed_author_list = [robust_call(mpia.get_initials, k) for k in paperk['authors']]\n",
    "    hl_authors = highlight_authors_in_list(normed_author_list, mpia_authors, verbose=True)\n",
    "    matches = [(hl, orig) for hl, orig in zip(hl_authors, paperk['authors']) if 'mark' in hl]\n",
    "    paperk['authors'] = hl_authors\n",
    "    if matches:\n",
    "        # only select paper if an author matched our list\n",
    "        candidates.append(paperk)\n",
    "print(\"\"\"Arxiv has {0:,d} new papers today\"\"\".format(len(new_papers)))        \n",
    "print(\"\"\"          {0:,d} with possible author matches\"\"\".format(len(candidates)))"
   ]
  },
  {
   "cell_type": "markdown",
   "id": "3543b34a",
   "metadata": {
    "papermill": {
     "duration": 0.00315,
     "end_time": "2025-07-18T04:31:31.895583",
     "exception": false,
     "start_time": "2025-07-18T04:31:31.892433",
     "status": "completed"
    },
    "tags": []
   },
   "source": [
    "# Parse sources and generate relevant outputs\n",
    "\n",
    "From the candidates, we do the following steps:\n",
    "* get their tarball from ArXiv (and extract data)\n",
    "* find the main .tex file: find one with \\documentclass{...} (sometimes it's non trivial)\n",
    "* Check affiliations with :func:`validation`, which uses :func:`mpia.affiliation_verifications`\n",
    "* If passing the affiliations: we parse the .tex source\n",
    "   * inject sub-documents into the main (flatten the main document)\n",
    "   * parse structure, extract information (title, abstract, authors, figures...)\n",
    "   * handles `\\graphicspath` if provided\n",
    "* Generate the .md document."
   ]
  },
  {
   "cell_type": "code",
   "execution_count": 5,
   "id": "9576b79e",
   "metadata": {
    "execution": {
     "iopub.execute_input": "2025-07-18T04:31:31.902916Z",
     "iopub.status.busy": "2025-07-18T04:31:31.902555Z",
     "iopub.status.idle": "2025-07-18T04:32:44.370080Z",
     "shell.execute_reply": "2025-07-18T04:32:44.369370Z"
    },
    "papermill": {
     "duration": 72.47248,
     "end_time": "2025-07-18T04:32:44.371204",
     "exception": false,
     "start_time": "2025-07-18T04:31:31.898724",
     "status": "completed"
    },
    "scrolled": false,
    "tags": []
   },
   "outputs": [
    {
     "data": {
      "application/vnd.jupyter.widget-view+json": {
       "model_id": "265c9447b09842258bca4937d5507a5b",
       "version_major": 2,
       "version_minor": 0
      },
      "text/plain": [
       "  0%|          | 0/5 [00:00<?, ?it/s]"
      ]
     },
     "metadata": {},
     "output_type": "display_data"
    },
    {
     "name": "stdout",
     "output_type": "stream",
     "text": [
      "Retrieving document from  https://arxiv.org/e-print/2507.12517\n"
     ]
    },
    {
     "name": "stdout",
     "output_type": "stream",
     "text": [
      "extracting tarball to tmp_2507.12517..."
     ]
    },
    {
     "name": "stdout",
     "output_type": "stream",
     "text": [
      " done.\n"
     ]
    },
    {
     "name": "stdout",
     "output_type": "stream",
     "text": [
      "M. Prunier  ->  M. Prunier  |  ['M. Prunier']\n",
      "A. Pillepich  ->  A. Pillepich  |  ['A. Pillepich']\n"
     ]
    },
    {
     "name": "stdout",
     "output_type": "stream",
     "text": [
      "Found 103 bibliographic references in tmp_2507.12517/paper.bbl.\n",
      "Issues with the citations\n",
      "syntax error in line 5: unbalanced braces\n",
      "Retrieving document from  https://arxiv.org/e-print/2507.12532\n"
     ]
    },
    {
     "name": "stdout",
     "output_type": "stream",
     "text": [
      "extracting tarball to tmp_2507.12532..."
     ]
    },
    {
     "name": "stdout",
     "output_type": "stream",
     "text": [
      " done.\n"
     ]
    },
    {
     "name": "stdout",
     "output_type": "stream",
     "text": [
      "K. El-Badry  ->  K. El-Badry  |  ['K. El-Badry']\n",
      "J. Müller-Horn  ->  J. Müller-Horn  |  ['J. Müller-Horn']\n",
      "R. Seeburger  ->  L. R. Seeburger  |  ['R. Seeburger']\n",
      "H.-W. Rix  ->  H.-W. Rix  |  ['H.-W. Rix']\n",
      "R. Andrae  ->  R. Andrae  |  ['R. Andrae']\n"
     ]
    },
    {
     "name": "stdout",
     "output_type": "stream",
     "text": [
      "Found 78 bibliographic references in tmp_2507.12532/main.bbl.\n",
      "Error retrieving bib data for gaia_collaboration_discovery_2024: 'author'\n",
      "Retrieving document from  https://arxiv.org/e-print/2507.12876\n"
     ]
    },
    {
     "name": "stdout",
     "output_type": "stream",
     "text": [
      "extracting tarball to tmp_2507.12876..."
     ]
    },
    {
     "name": "stdout",
     "output_type": "stream",
     "text": [
      " done.\n",
      "Retrieving document from  https://arxiv.org/e-print/2507.12965\n"
     ]
    },
    {
     "name": "stdout",
     "output_type": "stream",
     "text": [
      "extracting tarball to tmp_2507.12965..."
     ]
    },
    {
     "name": "stdout",
     "output_type": "stream",
     "text": [
      " done.\n",
      "Retrieving document from  https://arxiv.org/e-print/2507.13278\n"
     ]
    },
    {
     "name": "stdout",
     "output_type": "stream",
     "text": [
      "extracting tarball to tmp_2507.13278..."
     ]
    },
    {
     "name": "stdout",
     "output_type": "stream",
     "text": [
      " done.\n"
     ]
    }
   ],
   "source": [
    "documents = []\n",
    "failed = []\n",
    "for paper in tqdm(candidates):\n",
    "    # debug crap\n",
    "    paper['identifier'] = paper['identifier'].lower().replace('arxiv:', '').replace(r'\\n', '').strip()\n",
    "    paper_id = paper['identifier']\n",
    "    \n",
    "    folder = f'tmp_{paper_id}'\n",
    "\n",
    "    try:\n",
    "        if not os.path.isdir(folder):\n",
    "            folder = retrieve_document_source(f\"{paper_id}\", f'tmp_{paper_id}')\n",
    "        \n",
    "        try:\n",
    "            doc = latex.LatexDocument(folder, validation=validation)    \n",
    "        except AffiliationError as affilerror:\n",
    "            msg = f\"ArXiv:{paper_id:s} is not an MPIA paper... \" + str(affilerror)\n",
    "            failed.append((paper, \"affiliation error: \" + str(affilerror) ))\n",
    "            continue\n",
    "        \n",
    "        # Hack because sometimes author parsing does not work well\n",
    "        if (len(doc.authors) != len(paper['authors'])):\n",
    "            doc._authors = paper['authors']\n",
    "        else:\n",
    "            # highlight authors (FIXME: doc.highlight_authors)\n",
    "            # done on arxiv paper already\n",
    "            doc._authors = highlight_authors_in_list(\n",
    "                [get_initials(k) for k in doc.authors], \n",
    "                mpia_authors, verbose=True)\n",
    "        if (doc.abstract) in (None, ''):\n",
    "            doc._abstract = paper['abstract']\n",
    "            \n",
    "        doc.comment = (get_markdown_badge(paper_id) + \n",
    "                       \"<mark>Appeared on: \" + paper['date'] + \"</mark> - \")\n",
    "        if paper['comments']:\n",
    "            doc.comment += \" _\" + paper['comments'] + \"_\"\n",
    "        \n",
    "        full_md = doc.generate_markdown_text()\n",
    "        \n",
    "        full_md += get_markdown_qrcode(paper_id)\n",
    "        \n",
    "        # replace citations\n",
    "        try:\n",
    "            bibdata = latex_bib.LatexBib.from_doc(doc)\n",
    "            full_md = latex_bib.replace_citations(full_md, bibdata)\n",
    "        except Exception as e:\n",
    "            print(\"Issues with the citations\")\n",
    "            print(e)\n",
    "        \n",
    "        documents.append((paper_id, full_md))\n",
    "    except Exception as e:\n",
    "        warnings.warn(latex.LatexWarning(f\"{paper_id:s} did not run properly\\n\" +\n",
    "                                         str(e)\n",
    "                                        ))\n",
    "        failed.append((paper, \"latex error \" + str(e)))"
   ]
  },
  {
   "cell_type": "markdown",
   "id": "2505a25c",
   "metadata": {
    "papermill": {
     "duration": 0.003933,
     "end_time": "2025-07-18T04:32:44.379410",
     "exception": false,
     "start_time": "2025-07-18T04:32:44.375477",
     "status": "completed"
    },
    "tags": []
   },
   "source": [
    "### Export the logs\n",
    "\n",
    "Throughout, we also keep track of the logs per paper. see `logs-{today date}.md` "
   ]
  },
  {
   "cell_type": "code",
   "execution_count": 6,
   "id": "d733828a",
   "metadata": {
    "execution": {
     "iopub.execute_input": "2025-07-18T04:32:44.388496Z",
     "iopub.status.busy": "2025-07-18T04:32:44.387933Z",
     "iopub.status.idle": "2025-07-18T04:32:44.403718Z",
     "shell.execute_reply": "2025-07-18T04:32:44.403055Z"
    },
    "papermill": {
     "duration": 0.021453,
     "end_time": "2025-07-18T04:32:44.404792",
     "exception": false,
     "start_time": "2025-07-18T04:32:44.383339",
     "status": "completed"
    },
    "scrolled": false,
    "tags": []
   },
   "outputs": [
    {
     "data": {
      "text/markdown": [
       "## Successful papers"
      ],
      "text/plain": [
       "<IPython.core.display.Markdown object>"
      ]
     },
     "metadata": {},
     "output_type": "display_data"
    },
    {
     "data": {
      "text/markdown": [
       "\n",
       "|||\n",
       "|---:|:---|\n",
       "| [![arXiv](https://img.shields.io/badge/arXiv-2507.12517-b31b1b.svg)](https://arxiv.org/abs/2507.12517) | **Magnetic fields in the intracluster medium with TNG-Cluster: properties, morphology, and tangential anisotropy**  |\n",
       "|| K. Lehle, et al. -- incl., <mark>M. Prunier</mark>, <mark>A. Pillepich</mark> |\n",
       "|*Appeared on*| *2025-07-18*|\n",
       "|*Comments*| *submitted to A&A*|\n",
       "|**Abstract**|            We characterize the magnetic field properties of 352 massive galaxy clusters from the TNG-Cluster magnetohydrodynamical cosmological simulation with a focus on central magnetic field morphology in cool-core (CC) vs non-cool-core (NCC) clusters. We present the central values and radial profiles of magnetic field strength and plasma parameter as a function of mass, cooling status and redshift. Compared to low-redshift observations, TNG-Cluster produces reasonable magnetic field amplitudes in the central regions of clusters spanning a range of 1-200 muG. We then discuss the main finding of this work: z=0 cool-core clusters have preferentially tangential magnetic fields at a characteristic scale of ~ 0.1 r500c. These strongly tangential field orientations are specific to CCs. In contrast, across the full cluster population, magnetic fields show isotropic configurations at all radii and redshifts. As individual halos grow, the evolution of their magnetic field topologies is diverse: tangential features can be short-lived, persist over large cosmological time-scales, or periodically appear, vanish, and reappear towards z=0. We discuss the underlying physics and possible physical scenarios to explain the origin of these structures. We argue that both AGN feedback-driven outflows, and merger-driven sloshing motions, cannot explain the population-wide tangential bias in magnetic field orientation. Instead, we propose that the trapping of internal gravity waves is responsible for the tangentially biased magnetic field topologies that we find in cool-core TNG-Cluster halos, due to the strong entropy gradient in these clusters.         |"
      ],
      "text/plain": [
       "[2507.12517] Magnetic fields in the intracluster medium with TNG-Cluster: properties, morphology, and tangential anisotropy\n",
       "\tK. Lehle, et al. -- incl., <mark>M. Prunier</mark>, <mark>A. Pillepich</mark>"
      ]
     },
     "metadata": {},
     "output_type": "display_data"
    },
    {
     "data": {
      "text/markdown": [
       "\n",
       "|||\n",
       "|---:|:---|\n",
       "| [![arXiv](https://img.shields.io/badge/arXiv-2507.12532-b31b1b.svg)](https://arxiv.org/abs/2507.12532) | **A Spectroscopic Search for Dormant Black Holes in Low-Metallicity Binaries**  |\n",
       "|| P. Nagarajan, et al. -- incl., <mark>K. El-Badry</mark>, <mark>J. Müller-Horn</mark>, <mark>R. Seeburger</mark>, <mark>H.-W. Rix</mark>, <mark>R. Andrae</mark> |\n",
       "|*Appeared on*| *2025-07-18*|\n",
       "|*Comments*| *39 pages, 11 figures, submitted to PASP*|\n",
       "|**Abstract**|            The discovery of the massive black hole (BH) system Gaia BH3 in pre-release Gaia DR4 data suggests that wide BH binaries with luminous companions may be significantly overrepresented at low metallicities. Motivated by this finding, we have initiated a spectroscopic survey of low-metallicity stars exhibiting elevated RUWE values in Gaia DR3, using the FEROS and APF spectrographs. We identify promising BH binary candidates as objects with instantaneously measured radial velocities (RVs) that are very different from their mean RVs reported in Gaia DR3. Thus far, we have observed over 500 targets, including a nearly complete sample of stars with $\\text{[Fe/H]} < -1.5$, RUWE $> 2$, and $G < 15$. Our search has yielded one promising target exhibiting slow acceleration and an RV more than 98 km s$^{-1}$ different from its DR3 mean RV, as well as dozens of other candidates with smaller RV discrepancies. We quantify the sensitivity of our search using simulations, demonstrating that it recovers at least half of the BH companions within our selection criteria. We make all the spectra and RVs from our survey publicly available and encourage further follow-up.         |"
      ],
      "text/plain": [
       "[2507.12532] A Spectroscopic Search for Dormant Black Holes in Low-Metallicity Binaries\n",
       "\tP. Nagarajan, et al. -- incl., <mark>K. El-Badry</mark>, <mark>J. Müller-Horn</mark>, <mark>R. Seeburger</mark>, <mark>H.-W. Rix</mark>, <mark>R. Andrae</mark>"
      ]
     },
     "metadata": {},
     "output_type": "display_data"
    },
    {
     "data": {
      "text/markdown": [
       "## Failed papers"
      ],
      "text/plain": [
       "<IPython.core.display.Markdown object>"
      ]
     },
     "metadata": {},
     "output_type": "display_data"
    },
    {
     "data": {
      "text/markdown": [
       "\n",
       "|||\n",
       "|---:|:---|\n",
       "| [![arXiv](https://img.shields.io/badge/arXiv-2507.12876-b31b1b.svg)](https://arxiv.org/abs/2507.12876) | **Einstein Probe Discovery of EP J182730.0-095633: A New Black Hole X-ray Binary Candidate in Faint Outburst?**  |\n",
       "|| H. Cheng, et al. -- incl., <mark>Y. Wang</mark>, <mark>M. Zhang</mark> |\n",
       "|*Appeared on*| *2025-07-18*|\n",
       "|*Comments*| *22 pages, 5 figures (plus 3 in appendix), 3 tables in appendix. Accepted for publication in ApJ Letters*|\n",
       "|**Abstract**|            Black hole X-ray binaries (candidates) currently identified in our galaxy are mainly transient sources, with the majority discovered through the detection of their X-ray outbursts. Among these, only four were found during faint outbursts exhibiting peak X-ray luminosities $L_{\\rm X}\\lesssim10^{36}~{\\rm erg~s^{-1}}$, likely due to the previous lack of sensitive, wide-field monitoring instruments in the X-ray band. In this Letter, we present the discovery of an intriguing X-ray transient, EP J182730.0-095633, via the Einstein Probe (EP) and subsequent multi-wavelength follow-up studies. This transient, located on the Galactic plane, experienced a faint and brief X-ray outburst lasting about 20 days. Its X-ray spectrum is non-thermal and consistent with a power-law model with a nearly constant photon index of $\\Gamma \\sim2$ throughout the outburst. A long-lasting millihertz quasi-periodic oscillation (QPO) signal was detected in its X-ray light curve, centered around a frequency of $\\sim0.04$ Hz. A transient near-infrared source was identified as its counterpart, although no optical emission was detectable, likely due to significant extinction. A radio counterpart was also observed, displaying an inverted radio spectrum with $\\alpha\\sim0.45$. The X-ray spectral and temporal characteristics, along with the multi-wavelength properties, indicate that the source is a faint low-mass X-ray binary, with the compact object likely being a black hole. This work demonstrates the potential of the EP in discovering new X-ray binaries by capturing faint-level X-ray outbursts.         |\n",
       "|<p style=\"color:green\"> **ERROR** </p>| <p style=\"color:green\">affiliation error: mpia.affiliation_verifications: 'Heidelberg' keyword not found.</p> |"
      ],
      "text/plain": [
       "<IPython.core.display.Markdown object>"
      ]
     },
     "metadata": {},
     "output_type": "display_data"
    },
    {
     "data": {
      "text/markdown": [
       "\n",
       "|||\n",
       "|---:|:---|\n",
       "| [![arXiv](https://img.shields.io/badge/arXiv-2507.12965-b31b1b.svg)](https://arxiv.org/abs/2507.12965) | **Gravitational wave standard sirens: A brief review of cosmological parameter estimation**  |\n",
       "|| S.-J. Jin, et al. -- incl., <mark>X. Zhang</mark> |\n",
       "|*Appeared on*| *2025-07-18*|\n",
       "|*Comments*| *36 pages, 20 figures*|\n",
       "|**Abstract**|            Gravitational wave (GW) observations are expected to serve as a powerful and independent probe of the expansion history of the universe. By providing direct and calibration-free measurements of luminosity distances through waveform analysis, GWs provide a fundamentally different and potentially more robust approach to measuring cosmic-scale distances compared to traditional electromagnetic observations, which is known as the standard siren method. In this review, we present an overview of recent developments in GW standard siren cosmology, the latest observational results, and prospects for constraining cosmological parameters using future GW detections. We first introduce standard sirens based on how redshift information is obtained and outline the Bayesian framework used in cosmological parameter estimation. We then review the measurements on the Hubble constant from the LIGO-Virgo-KAGRA network and present the potential role of future standard siren observations in cosmological parameter estimations. A central focus of this review is the unique ability of GW observations to break cosmological parameter degeneracies inherent in the EM observations. Since the cosmological parameter degeneracy directions of GW and EM observations are quite different (roughly orthogonal in some cases), their combination can significantly improve constraints on cosmological parameters. This complementarity is expected to become one of the most critical advantages for GW standard siren cosmology. Looking forward, we highlight the importance of combining GW standard sirens with other emerging late-universe cosmological probes such as fast radio bursts, 21 cm intensity mapping, and strong gravitational lensing to forge a precise cosmological probe for exploring the late universe. Finally, we introduce the challenges and the role of machine learning in future standard siren analysis.         |\n",
       "|<p style=\"color:green\"> **ERROR** </p>| <p style=\"color:green\">affiliation error: mpia.affiliation_verifications: 'Heidelberg' keyword not found.</p> |"
      ],
      "text/plain": [
       "<IPython.core.display.Markdown object>"
      ]
     },
     "metadata": {},
     "output_type": "display_data"
    },
    {
     "data": {
      "text/markdown": [
       "\n",
       "|||\n",
       "|---:|:---|\n",
       "| [![arXiv](https://img.shields.io/badge/arXiv-2507.13278-b31b1b.svg)](https://arxiv.org/abs/2507.13278) | **The pulsar wind nebula around B1853+01 in X-rays**  |\n",
       "|| <mark>X. Zhang</mark>, P. Bordas, S. Safi-Harb, K. Iwasawa |\n",
       "|*Appeared on*| *2025-07-18*|\n",
       "|*Comments*| **|\n",
       "|**Abstract**|            We report on the results of a comprehensive analysis of X-ray observations carried out with \\textit{Chandra}, \\textit{XMM-Newton} and \\textit{NuSTAR} of the pulsar wind nebula (PWN) associated with PSR B1853+01, located inside the W44 supernova remnant (SNR). Previous X-ray observations unveiled the presence of a fast-moving pulsar, PSR B1853+01, located at the southern edge of the W44 thermal X-ray emission region, as well as an elongated tail structure trailing the pulsar. Our analysis reveals, in addition, the presence of an ``outflow'' feature ahead of the pulsar extending for about 1 \\arcmin ($\\sim$ 1.0 pc at the distance of 3.2 kpc). At larger scales, the entire PWN seems to be surrounded by a faint, diffuse X-ray emission structure. The southern part of this structure displays the same unusual morphology as the ``outflow'' feature ahead of the pulsar, and extends along $\\sim 6$ \\arcmin ($\\sim$ 5 pc) in the direction of the pulsar proper motion. In this report, a spatially-resolved spectral analysis for the different extended regions around PSR B1853+01 is carried out. For an updated value of the column density of $0.65_{+0.46}^{-0.42} \\times 10^{22} ~\\textrm{cm}^{-2}$, a power-law fit to the ``outflow'' region yields a spectral index $\\Gamma \\approx 1.24_{+0.23}^{-0.24}$, which is significantly harder than that of the pulsar ($\\Gamma \\approx 1.87_{+0.48}^{-0.43}$) and the pulsar tail ($\\Gamma \\approx 2.01_{+0.39}^{-0.38}$). We argue that both the ``outflow'' structure and the surrounding halo-like X-ray emission might be produced by high-energy particles escaping the PWN around PSR B1853+01, a scenario recently suggested also for other Bow-shock PWNe with jet-like structures and/or TeV halos.         |\n",
       "|<p style=\"color:green\"> **ERROR** </p>| <p style=\"color:green\">affiliation error: mpia.affiliation_verifications: 'Heidelberg' keyword not found.</p> |"
      ],
      "text/plain": [
       "<IPython.core.display.Markdown object>"
      ]
     },
     "metadata": {},
     "output_type": "display_data"
    }
   ],
   "source": [
    "import datetime\n",
    "today = str(datetime.date.today())\n",
    "logfile = f\"_build/html/logs/log-{today}.md\"\n",
    "\n",
    "\n",
    "with open(logfile, 'w') as logs:\n",
    "    # Success\n",
    "    logs.write(f'# Arxiv on Deck 2: Logs - {today}\\n\\n')\n",
    "    logs.write(\"\"\"* Arxiv had {0:,d} new papers\\n\"\"\".format(len(new_papers)))\n",
    "    logs.write(\"\"\"    * {0:,d} with possible author matches\\n\\n\"\"\".format(len(candidates)))\n",
    "    logs.write(\"## Sucessful papers\\n\\n\")\n",
    "    display(Markdown(\"## Successful papers\"))\n",
    "    success = [k[0] for k in documents]\n",
    "    for candid in candidates:\n",
    "        if candid['identifier'].split(':')[-1] in success:\n",
    "            display(candid)\n",
    "            logs.write(candid.generate_markdown_text() + '\\n\\n')\n",
    "\n",
    "    ## failed\n",
    "    logs.write(\"## Failed papers\\n\\n\")\n",
    "    display(Markdown(\"## Failed papers\"))\n",
    "    failed = sorted(failed, key=lambda x: x[1])\n",
    "    current_reason = \"\"\n",
    "    for paper, reason in failed:\n",
    "        if 'affiliation' in reason:\n",
    "            color = 'green'\n",
    "        else:\n",
    "            color = 'red'\n",
    "        data = Markdown(\n",
    "                paper.generate_markdown_text() + \n",
    "                f'\\n|<p style=\"color:{color:s}\"> **ERROR** </p>| <p style=\"color:{color:s}\">{reason:s}</p> |'\n",
    "               )\n",
    "        if reason != current_reason:\n",
    "            logs.write(f'### {reason:s} \\n\\n')\n",
    "            current_reason = reason\n",
    "        logs.write(data.data + '\\n\\n')\n",
    "        \n",
    "        # only display here the important errors (all in logs)\n",
    "        # if color in ('red',):\n",
    "        display(data)"
   ]
  },
  {
   "cell_type": "markdown",
   "id": "472d20ee",
   "metadata": {
    "papermill": {
     "duration": 0.004551,
     "end_time": "2025-07-18T04:32:44.414681",
     "exception": false,
     "start_time": "2025-07-18T04:32:44.410130",
     "status": "completed"
    },
    "tags": []
   },
   "source": [
    "## Export documents\n",
    "\n",
    "We now write the .md files and export relevant images"
   ]
  },
  {
   "cell_type": "code",
   "execution_count": 7,
   "id": "d426aed9",
   "metadata": {
    "execution": {
     "iopub.execute_input": "2025-07-18T04:32:44.424940Z",
     "iopub.status.busy": "2025-07-18T04:32:44.424479Z",
     "iopub.status.idle": "2025-07-18T04:32:44.431356Z",
     "shell.execute_reply": "2025-07-18T04:32:44.430798Z"
    },
    "papermill": {
     "duration": 0.013077,
     "end_time": "2025-07-18T04:32:44.432371",
     "exception": false,
     "start_time": "2025-07-18T04:32:44.419294",
     "status": "completed"
    },
    "tags": []
   },
   "outputs": [],
   "source": [
    "def export_markdown_summary(md: str, md_fname:str, directory: str):\n",
    "    \"\"\"Export MD document and associated relevant images\"\"\"\n",
    "    import os\n",
    "    import shutil\n",
    "    import re\n",
    "\n",
    "    if (os.path.exists(directory) and not os.path.isdir(directory)):\n",
    "        raise RuntimeError(f\"a non-directory file exists with name {directory:s}\")\n",
    "\n",
    "    if (not os.path.exists(directory)):\n",
    "        print(f\"creating directory {directory:s}\")\n",
    "        os.mkdir(directory)\n",
    "\n",
    "    fig_fnames = (re.compile(r'\\[Fig.*\\]\\((.*)\\)').findall(md) + \n",
    "                  re.compile(r'\\<img src=\"([^>\\s]*)\"[^>]*/>').findall(md))\n",
    "    print(\"found figures\", fig_fnames)\n",
    "    for fname in fig_fnames:\n",
    "        if 'http' in fname:\n",
    "            # No need to copy online figures\n",
    "            continue\n",
    "        if not os.path.exists(fname):\n",
    "            print(\"file not found\", fname)\n",
    "            continue\n",
    "        print(\"copying \", fname, \"to\", directory)\n",
    "        destdir = os.path.join(directory, os.path.dirname(fname))\n",
    "        destfname = os.path.join(destdir, os.path.basename(fname))\n",
    "        try:\n",
    "            os.makedirs(destdir)\n",
    "        except FileExistsError:\n",
    "            pass\n",
    "        shutil.copy(fname, destfname)\n",
    "    with open(os.path.join(directory, md_fname), 'w') as fout:\n",
    "        fout.write(md)\n",
    "    print(\"exported in \", os.path.join(directory, md_fname))\n",
    "    [print(\"    + \" + os.path.join(directory,fk)) for fk in fig_fnames]"
   ]
  },
  {
   "cell_type": "code",
   "execution_count": 8,
   "id": "014d04a4",
   "metadata": {
    "execution": {
     "iopub.execute_input": "2025-07-18T04:32:44.442998Z",
     "iopub.status.busy": "2025-07-18T04:32:44.442406Z",
     "iopub.status.idle": "2025-07-18T04:32:44.464480Z",
     "shell.execute_reply": "2025-07-18T04:32:44.463867Z"
    },
    "papermill": {
     "duration": 0.028481,
     "end_time": "2025-07-18T04:32:44.465547",
     "exception": false,
     "start_time": "2025-07-18T04:32:44.437066",
     "status": "completed"
    },
    "tags": []
   },
   "outputs": [
    {
     "name": "stdout",
     "output_type": "stream",
     "text": [
      "found figures ['tmp_2507.12517/./figures/StreamlinePlots/Halo_17440255_lic_betaA_0p4r500_sn99.png', 'tmp_2507.12517/./figures/Anisotropy/betaProfile_0tor500_CCness.png', 'tmp_2507.12517/./figures/Bfields/CoreGallery_B_sort.png', 'tmp_2507.12517/./figures/Bfields/BetaPprofile_z0_SCCvsNCC.png', 'tmp_2507.12517/./figures/Bfields/Projection_Pth_Halo17440255.png', 'tmp_2507.12517/./figures/Bfields/Projection_Pmag_Halo17440255.png']\n",
      "copying  tmp_2507.12517/./figures/StreamlinePlots/Halo_17440255_lic_betaA_0p4r500_sn99.png to _build/html/\n",
      "copying  tmp_2507.12517/./figures/Anisotropy/betaProfile_0tor500_CCness.png to _build/html/\n",
      "copying  tmp_2507.12517/./figures/Bfields/CoreGallery_B_sort.png to _build/html/\n",
      "copying  tmp_2507.12517/./figures/Bfields/BetaPprofile_z0_SCCvsNCC.png to _build/html/\n",
      "copying  tmp_2507.12517/./figures/Bfields/Projection_Pth_Halo17440255.png to _build/html/\n",
      "copying  tmp_2507.12517/./figures/Bfields/Projection_Pmag_Halo17440255.png to _build/html/\n",
      "exported in  _build/html/2507.12517.md\n",
      "    + _build/html/tmp_2507.12517/./figures/StreamlinePlots/Halo_17440255_lic_betaA_0p4r500_sn99.png\n",
      "    + _build/html/tmp_2507.12517/./figures/Anisotropy/betaProfile_0tor500_CCness.png\n",
      "    + _build/html/tmp_2507.12517/./figures/Bfields/CoreGallery_B_sort.png\n",
      "    + _build/html/tmp_2507.12517/./figures/Bfields/BetaPprofile_z0_SCCvsNCC.png\n",
      "    + _build/html/tmp_2507.12517/./figures/Bfields/Projection_Pth_Halo17440255.png\n",
      "    + _build/html/tmp_2507.12517/./figures/Bfields/Projection_Pmag_Halo17440255.png\n",
      "found figures ['tmp_2507.12532/./RUWE_Trend_Figure.png', 'tmp_2507.12532/./Compare_Gaia_RV_Figure.png', 'tmp_2507.12532/./Gaia_BH3_RV_Astrometry.png']\n",
      "copying  tmp_2507.12532/./RUWE_Trend_Figure.png to _build/html/\n",
      "copying  tmp_2507.12532/./Compare_Gaia_RV_Figure.png to _build/html/\n",
      "copying  tmp_2507.12532/./Gaia_BH3_RV_Astrometry.png to _build/html/\n",
      "exported in  _build/html/2507.12532.md\n",
      "    + _build/html/tmp_2507.12532/./RUWE_Trend_Figure.png\n",
      "    + _build/html/tmp_2507.12532/./Compare_Gaia_RV_Figure.png\n",
      "    + _build/html/tmp_2507.12532/./Gaia_BH3_RV_Astrometry.png\n"
     ]
    }
   ],
   "source": [
    "for paper_id, md in documents:\n",
    "    export_markdown_summary(md, f\"{paper_id:s}.md\", '_build/html/')"
   ]
  },
  {
   "cell_type": "markdown",
   "id": "f087a0a7",
   "metadata": {
    "papermill": {
     "duration": 0.004701,
     "end_time": "2025-07-18T04:32:44.475227",
     "exception": false,
     "start_time": "2025-07-18T04:32:44.470526",
     "status": "completed"
    },
    "tags": []
   },
   "source": [
    "## Display the papers\n",
    "\n",
    "Not necessary but allows for a quick check."
   ]
  },
  {
   "cell_type": "code",
   "execution_count": 9,
   "id": "fd25f625",
   "metadata": {
    "execution": {
     "iopub.execute_input": "2025-07-18T04:32:44.486081Z",
     "iopub.status.busy": "2025-07-18T04:32:44.485617Z",
     "iopub.status.idle": "2025-07-18T04:32:44.491593Z",
     "shell.execute_reply": "2025-07-18T04:32:44.491065Z"
    },
    "papermill": {
     "duration": 0.012522,
     "end_time": "2025-07-18T04:32:44.492603",
     "exception": false,
     "start_time": "2025-07-18T04:32:44.480081",
     "status": "completed"
    },
    "scrolled": false,
    "tags": []
   },
   "outputs": [
    {
     "data": {
      "text/markdown": [
       "<div class=\"macros\" style=\"visibility:hidden;\">\n",
       "$\\newcommand{\\ensuremath}{}$\n",
       "$\\newcommand{\\xspace}{}$\n",
       "$\\newcommand{\\object}[1]{\\texttt{#1}}$\n",
       "$\\newcommand{\\farcs}{{.}''}$\n",
       "$\\newcommand{\\farcm}{{.}'}$\n",
       "$\\newcommand{\\arcsec}{''}$\n",
       "$\\newcommand{\\arcmin}{'}$\n",
       "$\\newcommand{\\ion}[2]{#1#2}$\n",
       "$\\newcommand{\\textsc}[1]{\\textrm{#1}}$\n",
       "$\\newcommand{\\hl}[1]{\\textrm{#1}}$\n",
       "$\\newcommand{\\footnote}[1]{}$\n",
       "$\\newcommand{\\mvir}{{\\rm M}_{\\rm 500c}}$\n",
       "$\\newcommand{\\rvir}{r_{\\rm 500c}}$\n",
       "$\\newcommand{\\mtc}{{\\rm M}_{\\rm 200c}}$\n",
       "$\\newcommand{\\rtc}{r_{\\rm 200c}}$\n",
       "$\\newcommand{\\msun}{M_\\odot}$\n",
       "$\\newcommand{\\betaP}{\\beta_{\\rm P}}$\n",
       "$\\newcommand{\\betaA}{\\beta_{\\rm A}}$\n",
       "$\\newcommand{\\cmr}[1]{{\\color{red}\\bf{[MR: #1]}}}$\n",
       "$\\newcommand{\\mr}[1]{{\\color{red}#1}}$</div>\n",
       "\n",
       "\n",
       "\n",
       "<div id=\"title\">\n",
       "\n",
       "# Magnetic fields in the intracluster medium with TNG-Cluster: properties, morphology, and tangential anisotropy\n",
       "\n",
       "</div>\n",
       "<div id=\"comments\">\n",
       "\n",
       "[![arXiv](https://img.shields.io/badge/arXiv-2507.12517-b31b1b.svg)](https://arxiv.org/abs/2507.12517)<mark>Appeared on: 2025-07-18</mark> -  _submitted to A&A_\n",
       "\n",
       "</div>\n",
       "<div id=\"authors\">\n",
       "\n",
       "K. Lehle, et al. -- incl., <mark>M. Prunier</mark>, <mark>A. Pillepich</mark>\n",
       "\n",
       "</div>\n",
       "<div id=\"abstract\">\n",
       "\n",
       "**Abstract:** We characterize the magnetic field properties of 352 massive galaxy clusters from the TNG-Cluster magnetohydrodynamical cosmological simulation with a focus on central magnetic field morphology in cool-core (CC) vs non-cool-core (NCC) clusters. We present the central values and radial profiles of magnetic field strength and plasma parameter as a function of mass, cooling status and redshift. Compared to low-redshift observations, TNG-Cluster produces reasonable magnetic field amplitudes in the central regions of clusters spanning a range of $1-200  \\mu$ G. We then discuss the main finding of this work: $z=0$ cool-core clusters have preferentially tangential magnetic fields at a characteristic scale of $\\sim 0.1 \\rvir$ . These strongly tangential field orientations are specific to CCs. In contrast, across the full cluster population, magnetic fields show isotropic configurations at all radii and redshifts. As individual halos grow, the evolution of their magnetic field topologies is diverse: tangential features can be short-lived, persist over large cosmological time-scales, or periodically appear, vanish, and reappear towards $z=0$ . We discuss the underlying physics and possible physical scenarios to explain the origin of these structures. We argue that both AGN feedback-driven outflows, and merger-driven sloshing motions, cannot explain the population-wide tangential bias in magnetic field orientation. Instead, we propose that the trapping of internal gravity waves is responsible for the tangentially biased magnetic field topologies that we find in cool-core TNG-Cluster halos, due to the strong entropy gradient in these clusters.\n",
       "\n",
       "</div>\n",
       "\n",
       "<div id=\"div_fig1\">\n",
       "\n",
       "<img src=\"tmp_2507.12517/./figures/StreamlinePlots/Halo_17440255_lic_betaA_0p4r500_sn99.png\" alt=\"Fig7.1\" width=\"50%\"/><img src=\"tmp_2507.12517/./figures/Anisotropy/betaProfile_0tor500_CCness.png\" alt=\"Fig7.2\" width=\"50%\"/>\n",
       "\n",
       "**Figure 7. -** The topology of magnetic fields can be preferentially tangential for cool-core clusters. **Top panel:** Visualization of magnetic fields in a single TNG-Cluster halo at $z=0$(Halo 17440255) showing the central $40\\%$ of $\\rvir$. The background color shows the magnetic anisotropy $\\betaA$ in the $xy$-plane. Negative values (yellow) correspond to tangential magnetic fields and positive values (blue) correspond to radially oriented magnetic fields. Overplotted in gray are the magnetic field directions, which appear as relief-like structures in the image. The white circle marks the radius at which the magnetic anisotropy profile (bottom panel) has its minimum. **Bottom panel:** Radial profiles of magnetic field anisotropy parameter $\\betaA$ at $z=0$ for all halos in TNG-Cluster. Thin lines show individual halos, colored by CC state. The thick lines show the median profiles for SCCs (blue), WCCs (purple) and NCCs (orange). WCCs and NCCs show a flat profile at $\\betaA\\sim0$, while SCCs exhibit a dip at $\\sim 0.1$\\rvir$$ with $\\betaA <0$. This shows that WCCs and NCCs have primarily isotropic magnetic fields, while SCCs have preferably tangentially oriented magnetic fields in the vicinity of this radius (as indicated by black arrow). (*fig:betaA*)\n",
       "\n",
       "</div>\n",
       "<div id=\"div_fig2\">\n",
       "\n",
       "<img src=\"tmp_2507.12517/./figures/Bfields/CoreGallery_B_sort.png\" alt=\"Fig3\" width=\"100%\"/>\n",
       "\n",
       "**Figure 3. -** Gallery of magnetic field strength and morphology in sixteen high-mass galaxy clusters selected from TNG-Cluster at $z=0$. Each panel shows the central region and extends $0.2$\\rvir$$ from side-to-side, giving projections of mean magnetic field strength in a thin slice of $15$ kpc depth. The white circles indicate $0.1$\\rvir$$. The panels are ordered by ascending central entropy $K_0$, such that the strongest cool-core (CC) systems are in the upper left, and the strongest non-cool-core (NCC) halos are located in the bottom right. Central magnetic field strength increases rapidly with halo mass, and is higher in CC versus NCC clusters. (*fig:galleryB*)\n",
       "\n",
       "</div>\n",
       "<div id=\"div_fig3\">\n",
       "\n",
       "<img src=\"tmp_2507.12517/./figures/Bfields/BetaPprofile_z0_SCCvsNCC.png\" alt=\"Fig5.1\" width=\"33%\"/><img src=\"tmp_2507.12517/./figures/Bfields/Projection_Pth_Halo17440255.png\" alt=\"Fig5.2\" width=\"33%\"/><img src=\"tmp_2507.12517/./figures/Bfields/Projection_Pmag_Halo17440255.png\" alt=\"Fig5.3\" width=\"33%\"/>\n",
       "\n",
       "**Figure 5. -** **Main panel:** radial profiles of the plasma beta parameter $\\beta_{\\rm P}$ at $z=0$ for all TNG-Cluster halos, colored according to CC state. Thin lines show individual clusters, while the three thick lines show median stacks of SCC, WCC, and NCC clusters. **Lower panels:** maps of thermal pressure (left) and magnetic pressure (right) of one individual SCC halo ans an example. Both maps show the central region with $r<0.2$\\rvir$$ for a slice with depth $15$ kpc. The overall pressure budget is dominated by the thermal pressure for both CCs and NCCs. $\\beta_{\\rm P}$ profiles for WCCs and NCCs are flat with average values of $\\beta_{\\rm P}\\sim 900$. SCCs have a small dip in the core and a excess at $0.1 $\\rvir$$. However, these trends are rather weak. (*fig:profileBetaP*)\n",
       "\n",
       "</div><div id=\"qrcode\"><img src=https://api.qrserver.com/v1/create-qr-code/?size=100x100&data=\"https://arxiv.org/abs/2507.12517\"></div>"
      ],
      "text/plain": [
       "<IPython.core.display.Markdown object>"
      ]
     },
     "metadata": {},
     "output_type": "display_data"
    },
    {
     "data": {
      "text/markdown": [
       "<div class=\"macros\" style=\"visibility:hidden;\">\n",
       "$\\newcommand{\\ensuremath}{}$\n",
       "$\\newcommand{\\xspace}{}$\n",
       "$\\newcommand{\\object}[1]{\\texttt{#1}}$\n",
       "$\\newcommand{\\farcs}{{.}''}$\n",
       "$\\newcommand{\\farcm}{{.}'}$\n",
       "$\\newcommand{\\arcsec}{''}$\n",
       "$\\newcommand{\\arcmin}{'}$\n",
       "$\\newcommand{\\ion}[2]{#1#2}$\n",
       "$\\newcommand{\\textsc}[1]{\\textrm{#1}}$\n",
       "$\\newcommand{\\hl}[1]{\\textrm{#1}}$\n",
       "$\\newcommand{\\footnote}[1]{}$\n",
       "$\\newcommand{\\vdag}{(v)^\\dagger}$\n",
       "$\\newcommand$\n",
       "$\\newcommand$</div>\n",
       "\n",
       "\n",
       "\n",
       "<div id=\"title\">\n",
       "\n",
       "# A Spectroscopic Search for Dormant Black Holes in Low-Metallicity Binaries\n",
       "\n",
       "</div>\n",
       "<div id=\"comments\">\n",
       "\n",
       "[![arXiv](https://img.shields.io/badge/arXiv-2507.12532-b31b1b.svg)](https://arxiv.org/abs/2507.12532)<mark>Appeared on: 2025-07-18</mark> -  _39 pages, 11 figures, submitted to PASP_\n",
       "\n",
       "</div>\n",
       "<div id=\"authors\">\n",
       "\n",
       "P. Nagarajan, et al. -- incl., <mark>K. El-Badry</mark>, <mark>J. Müller-Horn</mark>, <mark>R. Seeburger</mark>, <mark>H.-W. Rix</mark>, <mark>R. Andrae</mark>\n",
       "\n",
       "</div>\n",
       "<div id=\"abstract\">\n",
       "\n",
       "**Abstract:** The discovery of the massive black hole (BH) system Gaia BH3 in pre-release _Gaia_ DR4 data suggests that wide BH binaries with luminous companions may be significantly overrepresented at low metallicities. Motivated by this finding, we have initiated a spectroscopic survey of low-metallicity stars exhibiting elevated \\texttt{RUWE} values in $_ Gaia_$ DR3, using the FEROS and APF spectrographs. We identify promising BH binary candidates as objects with instantaneously measured radial velocities (RVs) that are very different from their mean RVs reported in _Gaia_ DR3. Thus far, we have observed over 500 targets, including a nearly complete sample of stars with $\\rm[Fe/H] < -1.5$ , \\texttt{RUWE} $> 2$ , and $G < 15$ . Our search has yielded one promising target exhibiting slow acceleration and an RV more than 98 km s $^{-1}$ different from its DR3 mean RV, as well as dozens of other candidates with smaller RV discrepancies. We quantify the sensitivity of our search using simulations, demonstrating that it recovers at least half of the BH companions within our selection criteria. We make all the spectra and RVs from our survey publicly available and encourage further follow-up.\n",
       "\n",
       "</div>\n",
       "\n",
       "<div id=\"div_fig1\">\n",
       "\n",
       "<img src=\"tmp_2507.12532/./RUWE_Trend_Figure.png\" alt=\"Fig2\" width=\"100%\"/>\n",
       "\n",
       "**Figure 2. -** Dependence of predicted \\texttt{RUWE} in DR3 on orbital period, distance, and BH mass for low-metallicity dwarf or giant companions to BHs, with the shaded regions representing a 68\\% confidence interval. We randomly sample sky positions from our catalog of candidates, orbital eccentricities from a thermal distribution, and isotropic binary orientations. At orbital periods of $10^2$--$10^3$ d, \\texttt{RUWE} increases as the projected semi-major axis of the photocenter increases, peaking at $\\sim10^3$ days. At orbital periods $> 10^3$ d, the limited orbital coverage during _Gaia_ DR3's $\\sim1000$ d observing baseline causes \\texttt{RUWE} to decrease. \\texttt{RUWE} also decreases as the binary gets farther away, since the projected semi-major axis of the photocenter decreases. \\texttt{RUWE} is only weakly sensitive to BH mass. Due to their brighter absolute magnitudes, giants tend to have slightly larger \\texttt{RUWE} values than dwarfs, and are detectable out to farther distances. With a selection cut of \\texttt{RUWE}$> 2.0$, we are sensitive to orbital periods of $100$--$5000$ d and distances out to $\\sim2$ kpc. (*fig:ruwe_trend_fig*)\n",
       "\n",
       "</div>\n",
       "<div id=\"div_fig2\">\n",
       "\n",
       "<img src=\"tmp_2507.12532/./Compare_Gaia_RV_Figure.png\" alt=\"Fig6\" width=\"100%\"/>\n",
       "\n",
       "**Figure 6. -** Comparison of our derived RVs to the mean RV reported in DR3. RVs for flagged spectra (see Section \\ref{sec:problematic}) are plotted in orange. In most cases, the RVs are in good agreement. In several cases, the RVs are discrepant, suggesting the presence of a faint or dark companion. We highlight both Gaia BH3 and _Gaia_ DR3 6769569470180424704, which has the largest RV discrepancy in our sample. (*fig:compare_gaia_rvs*)\n",
       "\n",
       "</div>\n",
       "<div id=\"div_fig3\">\n",
       "\n",
       "<img src=\"tmp_2507.12532/./Gaia_BH3_RV_Astrometry.png\" alt=\"Fig1\" width=\"100%\"/>\n",
       "\n",
       "**Figure 1. -** Simulated _Gaia_ DR3 epoch astrometry and radial velocity curve for Gaia BH3 based on best-fit combined parameters from gaia_collaboration_discovery_2024. In the left panel, the gray line connects the barycenter to periastron. In the right panel, the temporal range of the simulated DR3 epoch astrometry is plotted with higher opacity. The epoch RVs of Gaia BH3 are different from its reported mean RV by at least 20 km s$^{-1}$ over $\\sim70\\%$ of its orbit (shaded purple region), suggesting that a search strategy based on this comparison may be useful in finding similar targets. (*fig:bh3_rv_astro*)\n",
       "\n",
       "</div><div id=\"qrcode\"><img src=https://api.qrserver.com/v1/create-qr-code/?size=100x100&data=\"https://arxiv.org/abs/2507.12532\"></div>"
      ],
      "text/plain": [
       "<IPython.core.display.Markdown object>"
      ]
     },
     "metadata": {},
     "output_type": "display_data"
    }
   ],
   "source": [
    "[display(Markdown(k[1])) for k in documents];"
   ]
  },
  {
   "cell_type": "markdown",
   "id": "873873a4",
   "metadata": {
    "papermill": {
     "duration": 0.005058,
     "end_time": "2025-07-18T04:32:44.502852",
     "exception": false,
     "start_time": "2025-07-18T04:32:44.497794",
     "status": "completed"
    },
    "tags": []
   },
   "source": [
    "# Create HTML index"
   ]
  },
  {
   "cell_type": "code",
   "execution_count": 10,
   "id": "cf665672",
   "metadata": {
    "execution": {
     "iopub.execute_input": "2025-07-18T04:32:44.514635Z",
     "iopub.status.busy": "2025-07-18T04:32:44.514132Z",
     "iopub.status.idle": "2025-07-18T04:32:44.521997Z",
     "shell.execute_reply": "2025-07-18T04:32:44.521409Z"
    },
    "papermill": {
     "duration": 0.014972,
     "end_time": "2025-07-18T04:32:44.523000",
     "exception": false,
     "start_time": "2025-07-18T04:32:44.508028",
     "status": "completed"
    },
    "tags": []
   },
   "outputs": [
    {
     "name": "stdout",
     "output_type": "stream",
     "text": [
      "145  publications files modified in the last 7 days.\n"
     ]
    }
   ],
   "source": [
    "from datetime import datetime, timedelta, timezone\n",
    "from glob import glob\n",
    "import os\n",
    "\n",
    "files = glob('_build/html/*.md')\n",
    "days = 7\n",
    "now = datetime.today()\n",
    "res = []\n",
    "for fk in files:\n",
    "    stat_result = os.stat(fk).st_ctime\n",
    "    modified = datetime.fromtimestamp(stat_result, tz=timezone.utc).replace(tzinfo=None)\n",
    "    delta = now.today() - modified\n",
    "    if delta <= timedelta(days=days):\n",
    "        res.append((delta.seconds, fk))\n",
    "res = [k[1] for k in reversed(sorted(res, key=lambda x:x[1]))]\n",
    "npub = len(res)\n",
    "print(len(res), f\" publications files modified in the last {days:d} days.\")\n",
    "# [ print('\\t', k) for k in res ];"
   ]
  },
  {
   "cell_type": "code",
   "execution_count": 11,
   "id": "015de740",
   "metadata": {
    "execution": {
     "iopub.execute_input": "2025-07-18T04:32:44.534515Z",
     "iopub.status.busy": "2025-07-18T04:32:44.534261Z",
     "iopub.status.idle": "2025-07-18T04:32:44.547306Z",
     "shell.execute_reply": "2025-07-18T04:32:44.546718Z"
    },
    "papermill": {
     "duration": 0.019952,
     "end_time": "2025-07-18T04:32:44.548305",
     "exception": false,
     "start_time": "2025-07-18T04:32:44.528353",
     "status": "completed"
    },
    "tags": []
   },
   "outputs": [
    {
     "name": "stdout",
     "output_type": "stream",
     "text": [
      "17  publications in the last 7 days.\n"
     ]
    }
   ],
   "source": [
    "import datetime\n",
    "from glob import glob\n",
    "\n",
    "def get_last_n_days(lst, days=1):\n",
    "    \"\"\" Get the documents from the last n days \"\"\"\n",
    "    sorted_lst = sorted(lst, key=lambda x: x[1], reverse=True)\n",
    "    for fname, date in sorted_lst:\n",
    "        if date >= str(datetime.date.today() - datetime.timedelta(days=days)):\n",
    "            yield fname\n",
    "\n",
    "def extract_appearance_dates(lst_file):\n",
    "    dates = []\n",
    "\n",
    "    def get_date(line):\n",
    "        return line\\\n",
    "            .split('Appeared on:')[-1]\\\n",
    "            .split('</mark>')[0].strip()\n",
    "\n",
    "    for fname in lst:\n",
    "        with open(fname, 'r') as f:\n",
    "            found_date = False\n",
    "            for line in f:\n",
    "                if not found_date:\n",
    "                    if \"Appeared on\" in line:\n",
    "                        found_date = True\n",
    "                        dates.append((fname, get_date(line)))\n",
    "                else:\n",
    "                    break\n",
    "    return dates\n",
    "\n",
    "from glob import glob\n",
    "lst = glob('_build/html/*md')\n",
    "days = 7\n",
    "dates = extract_appearance_dates(lst)\n",
    "res = list(get_last_n_days(dates, days))\n",
    "npub = len(res)\n",
    "print(len(res), f\" publications in the last {days:d} days.\")"
   ]
  },
  {
   "cell_type": "code",
   "execution_count": 12,
   "id": "52ca0208",
   "metadata": {
    "execution": {
     "iopub.execute_input": "2025-07-18T04:32:44.560589Z",
     "iopub.status.busy": "2025-07-18T04:32:44.559944Z",
     "iopub.status.idle": "2025-07-18T04:32:44.565069Z",
     "shell.execute_reply": "2025-07-18T04:32:44.564501Z"
    },
    "papermill": {
     "duration": 0.012009,
     "end_time": "2025-07-18T04:32:44.566007",
     "exception": false,
     "start_time": "2025-07-18T04:32:44.553998",
     "status": "completed"
    },
    "scrolled": false,
    "tags": []
   },
   "outputs": [],
   "source": [
    "def create_carousel(npub=4):\n",
    "    \"\"\" Generate the HTML code for a carousel with `npub` slides \"\"\"\n",
    "    carousel = [\"\"\"  <div class=\"carousel\" \"\"\",\n",
    "                \"\"\"       data-flickity='{ \"autoPlay\": 10000, \"adaptiveHeight\": true, \"resize\": true, \"wrapAround\": true, \"pauseAutoPlayOnHover\": true, \"groupCells\": 1 }' id=\"asyncTypeset\">\"\"\"\n",
    "                ]\n",
    "    \n",
    "    item_str = \"\"\"    <div class=\"carousel-cell\"> <div id=\"slide{k}\" class=\"md_view\">Content {k}</div> </div>\"\"\"\n",
    "    for k in range(1, npub + 1):\n",
    "        carousel.append(item_str.format(k=k))\n",
    "    carousel.append(\"  </div>\")\n",
    "    return '\\n'.join(carousel)\n",
    "\n",
    "def create_grid(npub=4):\n",
    "    \"\"\" Generate the HTML code for a flat grid with `npub` slides \"\"\"\n",
    "    grid = [\"\"\"  <div class=\"grid\"> \"\"\",\n",
    "                ]\n",
    "    \n",
    "    item_str = \"\"\"    <div class=\"grid-item\"> <div id=\"slide{k}\" class=\"md_view\">Content {k}</div> </div>\"\"\"\n",
    "    for k in range(1, npub + 1):\n",
    "        grid.append(item_str.format(k=k))\n",
    "    grid.append(\"  </div>\")\n",
    "    return '\\n'.join(grid)"
   ]
  },
  {
   "cell_type": "code",
   "execution_count": 13,
   "id": "a6eac5b6",
   "metadata": {
    "execution": {
     "iopub.execute_input": "2025-07-18T04:32:44.577519Z",
     "iopub.status.busy": "2025-07-18T04:32:44.577270Z",
     "iopub.status.idle": "2025-07-18T04:32:44.582451Z",
     "shell.execute_reply": "2025-07-18T04:32:44.581923Z"
    },
    "papermill": {
     "duration": 0.012106,
     "end_time": "2025-07-18T04:32:44.583467",
     "exception": false,
     "start_time": "2025-07-18T04:32:44.571361",
     "status": "completed"
    },
    "scrolled": false,
    "tags": []
   },
   "outputs": [],
   "source": [
    "carousel = create_carousel(npub)\n",
    "docs = ', '.join(['\"{0:s}\"'.format(k.split('/')[-1]) for k in res])\n",
    "slides = ', '.join([f'\"slide{k}\"' for k in range(1, npub + 1)])\n",
    "\n",
    "with open(\"daily_template.html\", \"r\") as tpl:\n",
    "    page = tpl.read()\n",
    "    page = page.replace(\"{%-- carousel:s --%}\", carousel)\\\n",
    "               .replace(\"{%-- suptitle:s --%}\",  \"7-day archives\" )\\\n",
    "               .replace(\"{%-- docs:s --%}\", docs)\\\n",
    "               .replace(\"{%-- slides:s --%}\", slides)\n",
    "    \n",
    "with open(\"_build/html/index_7days.html\", 'w') as fout:\n",
    "    fout.write(page)"
   ]
  },
  {
   "cell_type": "code",
   "execution_count": 14,
   "id": "adc1a1ec",
   "metadata": {
    "execution": {
     "iopub.execute_input": "2025-07-18T04:32:44.595457Z",
     "iopub.status.busy": "2025-07-18T04:32:44.595072Z",
     "iopub.status.idle": "2025-07-18T04:32:44.601497Z",
     "shell.execute_reply": "2025-07-18T04:32:44.600873Z"
    },
    "papermill": {
     "duration": 0.013589,
     "end_time": "2025-07-18T04:32:44.602566",
     "exception": false,
     "start_time": "2025-07-18T04:32:44.588977",
     "status": "completed"
    },
    "tags": []
   },
   "outputs": [
    {
     "name": "stdout",
     "output_type": "stream",
     "text": [
      "7  publications in the last day.\n"
     ]
    }
   ],
   "source": [
    "# redo for today\n",
    "days = 1\n",
    "res = list(get_last_n_days(dates, days))\n",
    "npub = len(res)\n",
    "print(len(res), f\" publications in the last day.\")\n",
    "\n",
    "carousel = create_carousel(npub)\n",
    "docs = ', '.join(['\"{0:s}\"'.format(k.split('/')[-1]) for k in res])\n",
    "slides = ', '.join([f'\"slide{k}\"' for k in range(1, npub + 1)])\n",
    "\n",
    "with open(\"daily_template.html\", \"r\") as tpl:\n",
    "    page = tpl.read()\n",
    "    page = page.replace(\"{%-- carousel:s --%}\", carousel)\\\n",
    "               .replace(\"{%-- suptitle:s --%}\",  \"Daily\" )\\\n",
    "               .replace(\"{%-- docs:s --%}\", docs)\\\n",
    "               .replace(\"{%-- slides:s --%}\", slides)\n",
    "    \n",
    "# print(carousel, docs, slides)\n",
    "# print(page)\n",
    "with open(\"_build/html/index_daily.html\", 'w') as fout:\n",
    "    fout.write(page)"
   ]
  },
  {
   "cell_type": "code",
   "execution_count": 15,
   "id": "00eece82",
   "metadata": {
    "execution": {
     "iopub.execute_input": "2025-07-18T04:32:44.614505Z",
     "iopub.status.busy": "2025-07-18T04:32:44.614141Z",
     "iopub.status.idle": "2025-07-18T04:32:44.620515Z",
     "shell.execute_reply": "2025-07-18T04:32:44.619958Z"
    },
    "papermill": {
     "duration": 0.013403,
     "end_time": "2025-07-18T04:32:44.621501",
     "exception": false,
     "start_time": "2025-07-18T04:32:44.608098",
     "status": "completed"
    },
    "scrolled": false,
    "tags": []
   },
   "outputs": [
    {
     "name": "stdout",
     "output_type": "stream",
     "text": [
      "6  6 publications selected.\n"
     ]
    }
   ],
   "source": [
    "# Create the flat grid of the last N papers (fixed number regardless of dates)\n",
    "from itertools import islice \n",
    "\n",
    "npub = 6\n",
    "res = [k[0] for k in (islice(reversed(sorted(dates, key=lambda x: x[1])), 6))]\n",
    "print(len(res), f\" {npub} publications selected.\")\n",
    "\n",
    "grid = create_grid(npub)\n",
    "docs = ', '.join(['\"{0:s}\"'.format(k.split('/')[-1]) for k in res])\n",
    "slides = ', '.join([f'\"slide{k}\"' for k in range(1, npub + 1)])\n",
    "\n",
    "with open(\"grid_template.html\", \"r\") as tpl:\n",
    "    page = tpl.read()\n",
    "    page = page.replace(\"{%-- grid-content:s --%}\", grid)\\\n",
    "               .replace(\"{%-- suptitle:s --%}\",  f\"Last {npub:,d} papers\" )\\\n",
    "               .replace(\"{%-- docs:s --%}\", docs)\\\n",
    "               .replace(\"{%-- slides:s --%}\", slides)\n",
    "    \n",
    "# print(grid, docs, slides)\n",
    "# print(page)\n",
    "with open(\"_build/html/index_npub_grid.html\", 'w') as fout:\n",
    "    fout.write(page)"
   ]
  }
 ],
 "metadata": {
  "kernelspec": {
   "display_name": "Python 3 (ipykernel)",
   "language": "python",
   "name": "python3"
  },
  "language_info": {
   "codemirror_mode": {
    "name": "ipython",
    "version": 3
   },
   "file_extension": ".py",
   "mimetype": "text/x-python",
   "name": "python",
   "nbconvert_exporter": "python",
   "pygments_lexer": "ipython3",
   "version": "3.9.23"
  },
  "papermill": {
   "default_parameters": {},
   "duration": 93.644762,
   "end_time": "2025-07-18T04:32:44.943590",
   "environment_variables": {},
   "exception": null,
   "input_path": "MPIA daily digest.ipynb",
   "output_path": "log.ipynb",
   "parameters": {},
   "start_time": "2025-07-18T04:31:11.298828",
   "version": "2.6.0"
  },
  "vscode": {
   "interpreter": {
    "hash": "aee8b7b246df8f9039afb4144a1f6fd8d2ca17a180786b69acc140d282b71a49"
   }
  },
  "widgets": {
   "application/vnd.jupyter.widget-state+json": {
    "state": {
     "0355e90d29a8468694d9a6770f2f503c": {
      "model_module": "@jupyter-widgets/controls",
      "model_module_version": "2.0.0",
      "model_name": "HTMLStyleModel",
      "state": {
       "_model_module": "@jupyter-widgets/controls",
       "_model_module_version": "2.0.0",
       "_model_name": "HTMLStyleModel",
       "_view_count": null,
       "_view_module": "@jupyter-widgets/base",
       "_view_module_version": "2.0.0",
       "_view_name": "StyleView",
       "background": null,
       "description_width": "",
       "font_size": null,
       "text_color": null
      }
     },
     "0783fa456fbc46ce962d476b421d72fc": {
      "model_module": "@jupyter-widgets/base",
      "model_module_version": "2.0.0",
      "model_name": "LayoutModel",
      "state": {
       "_model_module": "@jupyter-widgets/base",
       "_model_module_version": "2.0.0",
       "_model_name": "LayoutModel",
       "_view_count": null,
       "_view_module": "@jupyter-widgets/base",
       "_view_module_version": "2.0.0",
       "_view_name": "LayoutView",
       "align_content": null,
       "align_items": null,
       "align_self": null,
       "border_bottom": null,
       "border_left": null,
       "border_right": null,
       "border_top": null,
       "bottom": null,
       "display": null,
       "flex": null,
       "flex_flow": null,
       "grid_area": null,
       "grid_auto_columns": null,
       "grid_auto_flow": null,
       "grid_auto_rows": null,
       "grid_column": null,
       "grid_gap": null,
       "grid_row": null,
       "grid_template_areas": null,
       "grid_template_columns": null,
       "grid_template_rows": null,
       "height": null,
       "justify_content": null,
       "justify_items": null,
       "left": null,
       "margin": null,
       "max_height": null,
       "max_width": null,
       "min_height": null,
       "min_width": null,
       "object_fit": null,
       "object_position": null,
       "order": null,
       "overflow": null,
       "padding": null,
       "right": null,
       "top": null,
       "visibility": null,
       "width": null
      }
     },
     "265c9447b09842258bca4937d5507a5b": {
      "model_module": "@jupyter-widgets/controls",
      "model_module_version": "2.0.0",
      "model_name": "HBoxModel",
      "state": {
       "_dom_classes": [],
       "_model_module": "@jupyter-widgets/controls",
       "_model_module_version": "2.0.0",
       "_model_name": "HBoxModel",
       "_view_count": null,
       "_view_module": "@jupyter-widgets/controls",
       "_view_module_version": "2.0.0",
       "_view_name": "HBoxView",
       "box_style": "",
       "children": [
        "IPY_MODEL_8ecd0415d58c4745ae61a942dbc6b582",
        "IPY_MODEL_fe78b19e2e544022b031630bee4dc1a3",
        "IPY_MODEL_38db75e29edd48d7a36d1db67db5fd95"
       ],
       "layout": "IPY_MODEL_f84903f3d69a4331b3fec5e3d142a049",
       "tabbable": null,
       "tooltip": null
      }
     },
     "38db75e29edd48d7a36d1db67db5fd95": {
      "model_module": "@jupyter-widgets/controls",
      "model_module_version": "2.0.0",
      "model_name": "HTMLModel",
      "state": {
       "_dom_classes": [],
       "_model_module": "@jupyter-widgets/controls",
       "_model_module_version": "2.0.0",
       "_model_name": "HTMLModel",
       "_view_count": null,
       "_view_module": "@jupyter-widgets/controls",
       "_view_module_version": "2.0.0",
       "_view_name": "HTMLView",
       "description": "",
       "description_allow_html": false,
       "layout": "IPY_MODEL_ba43e74e468944509ab366a743754074",
       "placeholder": "​",
       "style": "IPY_MODEL_0355e90d29a8468694d9a6770f2f503c",
       "tabbable": null,
       "tooltip": null,
       "value": " 5/5 [01:12&lt;00:00,  8.78s/it]"
      }
     },
     "57e5a18fadcf46319b015a01944e2080": {
      "model_module": "@jupyter-widgets/controls",
      "model_module_version": "2.0.0",
      "model_name": "ProgressStyleModel",
      "state": {
       "_model_module": "@jupyter-widgets/controls",
       "_model_module_version": "2.0.0",
       "_model_name": "ProgressStyleModel",
       "_view_count": null,
       "_view_module": "@jupyter-widgets/base",
       "_view_module_version": "2.0.0",
       "_view_name": "StyleView",
       "bar_color": null,
       "description_width": ""
      }
     },
     "791ca5979f2c447e83fa1ca6d9d6eedd": {
      "model_module": "@jupyter-widgets/base",
      "model_module_version": "2.0.0",
      "model_name": "LayoutModel",
      "state": {
       "_model_module": "@jupyter-widgets/base",
       "_model_module_version": "2.0.0",
       "_model_name": "LayoutModel",
       "_view_count": null,
       "_view_module": "@jupyter-widgets/base",
       "_view_module_version": "2.0.0",
       "_view_name": "LayoutView",
       "align_content": null,
       "align_items": null,
       "align_self": null,
       "border_bottom": null,
       "border_left": null,
       "border_right": null,
       "border_top": null,
       "bottom": null,
       "display": null,
       "flex": null,
       "flex_flow": null,
       "grid_area": null,
       "grid_auto_columns": null,
       "grid_auto_flow": null,
       "grid_auto_rows": null,
       "grid_column": null,
       "grid_gap": null,
       "grid_row": null,
       "grid_template_areas": null,
       "grid_template_columns": null,
       "grid_template_rows": null,
       "height": null,
       "justify_content": null,
       "justify_items": null,
       "left": null,
       "margin": null,
       "max_height": null,
       "max_width": null,
       "min_height": null,
       "min_width": null,
       "object_fit": null,
       "object_position": null,
       "order": null,
       "overflow": null,
       "padding": null,
       "right": null,
       "top": null,
       "visibility": null,
       "width": null
      }
     },
     "7bc9b1c7eb604d85a4525ab2151aff87": {
      "model_module": "@jupyter-widgets/controls",
      "model_module_version": "2.0.0",
      "model_name": "HTMLStyleModel",
      "state": {
       "_model_module": "@jupyter-widgets/controls",
       "_model_module_version": "2.0.0",
       "_model_name": "HTMLStyleModel",
       "_view_count": null,
       "_view_module": "@jupyter-widgets/base",
       "_view_module_version": "2.0.0",
       "_view_name": "StyleView",
       "background": null,
       "description_width": "",
       "font_size": null,
       "text_color": null
      }
     },
     "8ecd0415d58c4745ae61a942dbc6b582": {
      "model_module": "@jupyter-widgets/controls",
      "model_module_version": "2.0.0",
      "model_name": "HTMLModel",
      "state": {
       "_dom_classes": [],
       "_model_module": "@jupyter-widgets/controls",
       "_model_module_version": "2.0.0",
       "_model_name": "HTMLModel",
       "_view_count": null,
       "_view_module": "@jupyter-widgets/controls",
       "_view_module_version": "2.0.0",
       "_view_name": "HTMLView",
       "description": "",
       "description_allow_html": false,
       "layout": "IPY_MODEL_791ca5979f2c447e83fa1ca6d9d6eedd",
       "placeholder": "​",
       "style": "IPY_MODEL_7bc9b1c7eb604d85a4525ab2151aff87",
       "tabbable": null,
       "tooltip": null,
       "value": "100%"
      }
     },
     "ba43e74e468944509ab366a743754074": {
      "model_module": "@jupyter-widgets/base",
      "model_module_version": "2.0.0",
      "model_name": "LayoutModel",
      "state": {
       "_model_module": "@jupyter-widgets/base",
       "_model_module_version": "2.0.0",
       "_model_name": "LayoutModel",
       "_view_count": null,
       "_view_module": "@jupyter-widgets/base",
       "_view_module_version": "2.0.0",
       "_view_name": "LayoutView",
       "align_content": null,
       "align_items": null,
       "align_self": null,
       "border_bottom": null,
       "border_left": null,
       "border_right": null,
       "border_top": null,
       "bottom": null,
       "display": null,
       "flex": null,
       "flex_flow": null,
       "grid_area": null,
       "grid_auto_columns": null,
       "grid_auto_flow": null,
       "grid_auto_rows": null,
       "grid_column": null,
       "grid_gap": null,
       "grid_row": null,
       "grid_template_areas": null,
       "grid_template_columns": null,
       "grid_template_rows": null,
       "height": null,
       "justify_content": null,
       "justify_items": null,
       "left": null,
       "margin": null,
       "max_height": null,
       "max_width": null,
       "min_height": null,
       "min_width": null,
       "object_fit": null,
       "object_position": null,
       "order": null,
       "overflow": null,
       "padding": null,
       "right": null,
       "top": null,
       "visibility": null,
       "width": null
      }
     },
     "f84903f3d69a4331b3fec5e3d142a049": {
      "model_module": "@jupyter-widgets/base",
      "model_module_version": "2.0.0",
      "model_name": "LayoutModel",
      "state": {
       "_model_module": "@jupyter-widgets/base",
       "_model_module_version": "2.0.0",
       "_model_name": "LayoutModel",
       "_view_count": null,
       "_view_module": "@jupyter-widgets/base",
       "_view_module_version": "2.0.0",
       "_view_name": "LayoutView",
       "align_content": null,
       "align_items": null,
       "align_self": null,
       "border_bottom": null,
       "border_left": null,
       "border_right": null,
       "border_top": null,
       "bottom": null,
       "display": null,
       "flex": null,
       "flex_flow": null,
       "grid_area": null,
       "grid_auto_columns": null,
       "grid_auto_flow": null,
       "grid_auto_rows": null,
       "grid_column": null,
       "grid_gap": null,
       "grid_row": null,
       "grid_template_areas": null,
       "grid_template_columns": null,
       "grid_template_rows": null,
       "height": null,
       "justify_content": null,
       "justify_items": null,
       "left": null,
       "margin": null,
       "max_height": null,
       "max_width": null,
       "min_height": null,
       "min_width": null,
       "object_fit": null,
       "object_position": null,
       "order": null,
       "overflow": null,
       "padding": null,
       "right": null,
       "top": null,
       "visibility": null,
       "width": null
      }
     },
     "fe78b19e2e544022b031630bee4dc1a3": {
      "model_module": "@jupyter-widgets/controls",
      "model_module_version": "2.0.0",
      "model_name": "FloatProgressModel",
      "state": {
       "_dom_classes": [],
       "_model_module": "@jupyter-widgets/controls",
       "_model_module_version": "2.0.0",
       "_model_name": "FloatProgressModel",
       "_view_count": null,
       "_view_module": "@jupyter-widgets/controls",
       "_view_module_version": "2.0.0",
       "_view_name": "ProgressView",
       "bar_style": "success",
       "description": "",
       "description_allow_html": false,
       "layout": "IPY_MODEL_0783fa456fbc46ce962d476b421d72fc",
       "max": 5.0,
       "min": 0.0,
       "orientation": "horizontal",
       "style": "IPY_MODEL_57e5a18fadcf46319b015a01944e2080",
       "tabbable": null,
       "tooltip": null,
       "value": 5.0
      }
     }
    },
    "version_major": 2,
    "version_minor": 0
   }
  }
 },
 "nbformat": 4,
 "nbformat_minor": 5
}