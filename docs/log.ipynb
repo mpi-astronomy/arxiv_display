{
 "cells": [
  {
   "cell_type": "markdown",
   "id": "92bcb855",
   "metadata": {
    "papermill": {
     "duration": 0.004356,
     "end_time": "2023-07-10T04:08:31.641154",
     "exception": false,
     "start_time": "2023-07-10T04:08:31.636798",
     "status": "completed"
    },
    "tags": []
   },
   "source": [
    "# MPIA Arxiv on Deck 2\n",
    "\n",
    "Contains the steps to produce the paper extractions."
   ]
  },
  {
   "cell_type": "code",
   "execution_count": 1,
   "id": "3a0d6e11",
   "metadata": {
    "execution": {
     "iopub.execute_input": "2023-07-10T04:08:31.649759Z",
     "iopub.status.busy": "2023-07-10T04:08:31.649178Z",
     "iopub.status.idle": "2023-07-10T04:08:31.869661Z",
     "shell.execute_reply": "2023-07-10T04:08:31.868973Z"
    },
    "papermill": {
     "duration": 0.226724,
     "end_time": "2023-07-10T04:08:31.871519",
     "exception": false,
     "start_time": "2023-07-10T04:08:31.644795",
     "status": "completed"
    },
    "tags": []
   },
   "outputs": [],
   "source": [
    "# Imports\n",
    "import os\n",
    "from IPython.display import Markdown, display\n",
    "from tqdm.notebook import tqdm\n",
    "import warnings\n",
    "from PIL import Image \n",
    "\n",
    "# requires arxiv_on_deck_2\n",
    "\n",
    "from arxiv_on_deck_2.arxiv2 import (get_new_papers, \n",
    "                                    get_paper_from_identifier,\n",
    "                                    retrieve_document_source, \n",
    "                                    get_markdown_badge)\n",
    "from arxiv_on_deck_2 import (latex,\n",
    "                             latex_bib,\n",
    "                             mpia,\n",
    "                             highlight_authors_in_list)\n",
    "\n",
    "# Sometimes images are really big\n",
    "Image.MAX_IMAGE_PIXELS = 1000000000 "
   ]
  },
  {
   "cell_type": "code",
   "execution_count": 2,
   "id": "22aa9d44",
   "metadata": {
    "execution": {
     "iopub.execute_input": "2023-07-10T04:08:31.879977Z",
     "iopub.status.busy": "2023-07-10T04:08:31.879369Z",
     "iopub.status.idle": "2023-07-10T04:08:31.885037Z",
     "shell.execute_reply": "2023-07-10T04:08:31.884394Z"
    },
    "papermill": {
     "duration": 0.011456,
     "end_time": "2023-07-10T04:08:31.886606",
     "exception": false,
     "start_time": "2023-07-10T04:08:31.875150",
     "status": "completed"
    },
    "tags": []
   },
   "outputs": [],
   "source": [
    "# Some useful definitions.\n",
    "\n",
    "class AffiliationWarning(UserWarning):\n",
    "    pass\n",
    "\n",
    "class AffiliationError(RuntimeError):\n",
    "    pass\n",
    "\n",
    "def validation(source: str):\n",
    "    \"\"\"Raises error paper during parsing of source file\n",
    "    \n",
    "    Allows checks before parsing TeX code.\n",
    "    \n",
    "    Raises AffiliationWarning\n",
    "    \"\"\"\n",
    "    check = mpia.affiliation_verifications(source, verbose=True)\n",
    "    if check is not True:\n",
    "        raise AffiliationError(\"mpia.affiliation_verifications: \" + check)\n",
    "\n",
    "        \n",
    "warnings.simplefilter('always', AffiliationWarning)\n",
    "\n",
    "\n",
    "def get_markdown_qrcode(paper_id: str):\n",
    "    \"\"\" Generate a qrcode to the arxiv page using qrserver.com\n",
    "    \n",
    "    :param paper: Arxiv paper\n",
    "    :returns: markdown text\n",
    "    \"\"\"\n",
    "    url = r\"https://api.qrserver.com/v1/create-qr-code/?size=100x100&data=\"\n",
    "    txt = f\"\"\"<img src={url}\"https://arxiv.org/abs/{paper_id}\">\"\"\"\n",
    "    txt = '<div id=\"qrcode\">' + txt + '</div>'\n",
    "    return txt"
   ]
  },
  {
   "cell_type": "markdown",
   "id": "14bd6310",
   "metadata": {
    "papermill": {
     "duration": 0.003211,
     "end_time": "2023-07-10T04:08:31.893166",
     "exception": false,
     "start_time": "2023-07-10T04:08:31.889955",
     "status": "completed"
    },
    "tags": []
   },
   "source": [
    "## get list of arxiv paper candidates\n",
    "\n",
    "We use the MPIA mitarbeiter list webpage from mpia.de to get author names\n",
    "We then get all new papers from Arxiv and match authors"
   ]
  },
  {
   "cell_type": "code",
   "execution_count": 3,
   "id": "2645e73a",
   "metadata": {
    "execution": {
     "iopub.execute_input": "2023-07-10T04:08:31.901117Z",
     "iopub.status.busy": "2023-07-10T04:08:31.900553Z",
     "iopub.status.idle": "2023-07-10T04:08:57.093334Z",
     "shell.execute_reply": "2023-07-10T04:08:57.092038Z"
    },
    "papermill": {
     "duration": 25.198447,
     "end_time": "2023-07-10T04:08:57.094946",
     "exception": false,
     "start_time": "2023-07-10T04:08:31.896499",
     "status": "completed"
    },
    "tags": []
   },
   "outputs": [
    {
     "name": "stdout",
     "output_type": "stream",
     "text": [
      "A. d. Graaff  ->  A. D. Graaff  |  ['A. D. Graaff']\n",
      "X. Zhang  ->  X. Zhang  |  ['X. Zhang']\n",
      "Arxiv has 52 new papers today\n",
      "          2 with possible author matches\n"
     ]
    }
   ],
   "source": [
    "# get list from MPIA website\n",
    "# it automatically filters identified non-scientists :func:`mpia.filter_non_scientists`\n",
    "mpia_authors = mpia.get_mpia_mitarbeiter_list()\n",
    "normed_mpia_authors = [k[1] for k in mpia_authors]   # initials + fullname\n",
    "new_papers = get_new_papers()\n",
    "# add manual references\n",
    "add_paper_refs = []\n",
    "new_papers.extend([get_paper_from_identifier(k) for k in add_paper_refs])\n",
    "\n",
    "candidates = []\n",
    "for paperk in new_papers:\n",
    "    # Check author list with their initials\n",
    "    normed_author_list = [mpia.get_initials(k) for k in paperk['authors']]\n",
    "    hl_authors = highlight_authors_in_list(normed_author_list, normed_mpia_authors, verbose=True)\n",
    "    matches = [(hl, orig) for hl, orig in zip(hl_authors, paperk['authors']) if 'mark' in hl]\n",
    "    paperk['authors'] = hl_authors\n",
    "    if matches:\n",
    "        # only select paper if an author matched our list\n",
    "        candidates.append(paperk)\n",
    "print(\"\"\"Arxiv has {0:,d} new papers today\"\"\".format(len(new_papers)))        \n",
    "print(\"\"\"          {0:,d} with possible author matches\"\"\".format(len(candidates)))"
   ]
  },
  {
   "cell_type": "markdown",
   "id": "3543b34a",
   "metadata": {
    "papermill": {
     "duration": 0.005126,
     "end_time": "2023-07-10T04:08:57.103799",
     "exception": false,
     "start_time": "2023-07-10T04:08:57.098673",
     "status": "completed"
    },
    "tags": []
   },
   "source": [
    "# Parse sources and generate relevant outputs\n",
    "\n",
    "From the candidates, we do the following steps:\n",
    "* get their tarball from ArXiv (and extract data)\n",
    "* find the main .tex file: find one with \\documentclass{...} (sometimes it's non trivial)\n",
    "* Check affiliations with :func:`validation`, which uses :func:`mpia.affiliation_verifications`\n",
    "* If passing the affiliations: we parse the .tex source\n",
    "   * inject sub-documents into the main (flatten the main document)\n",
    "   * parse structure, extract information (title, abstract, authors, figures...)\n",
    "   * handles `\\graphicspath` if provided\n",
    "* Generate the .md document."
   ]
  },
  {
   "cell_type": "code",
   "execution_count": 4,
   "id": "9576b79e",
   "metadata": {
    "execution": {
     "iopub.execute_input": "2023-07-10T04:08:57.112299Z",
     "iopub.status.busy": "2023-07-10T04:08:57.111754Z",
     "iopub.status.idle": "2023-07-10T04:10:54.822124Z",
     "shell.execute_reply": "2023-07-10T04:10:54.821345Z"
    },
    "papermill": {
     "duration": 117.716733,
     "end_time": "2023-07-10T04:10:54.823975",
     "exception": false,
     "start_time": "2023-07-10T04:08:57.107242",
     "status": "completed"
    },
    "scrolled": false,
    "tags": []
   },
   "outputs": [
    {
     "data": {
      "application/vnd.jupyter.widget-view+json": {
       "model_id": "297bc466195f4f7e8a773ae34e9d2df8",
       "version_major": 2,
       "version_minor": 0
      },
      "text/plain": [
       "  0%|          | 0/2 [00:00<?, ?it/s]"
      ]
     },
     "metadata": {},
     "output_type": "display_data"
    },
    {
     "name": "stdout",
     "output_type": "stream",
     "text": [
      "Retrieving document from  https://arxiv.org/e-print/2307.03264\n"
     ]
    },
    {
     "name": "stdout",
     "output_type": "stream",
     "text": [
      "extracting tarball to tmp_2307.03264..."
     ]
    },
    {
     "name": "stdout",
     "output_type": "stream",
     "text": [
      " done.\n"
     ]
    },
    {
     "name": "stdout",
     "output_type": "stream",
     "text": [
      "A. d. Graaff  ->  A. D. Graaff  |  ['A. D. Graaff']\n"
     ]
    },
    {
     "name": "stderr",
     "output_type": "stream",
     "text": [
      "/opt/hostedtoolcache/Python/3.9.17/x64/lib/python3.9/site-packages/arxiv_on_deck_2/latex.py:120: LatexWarning: attempting recovering figure rz_massive\n",
      "  warnings.warn(LatexWarning(f'attempting recovering figure {image}'))\n",
      "/opt/hostedtoolcache/Python/3.9.17/x64/lib/python3.9/site-packages/arxiv_on_deck_2/latex.py:125: LatexWarning: Recovered figure rz_massive as tmp_2307.03264/./rz_massive.pdf\n",
      "  warnings.warn(LatexWarning(f'Recovered figure {image} as {fname}'))\n"
     ]
    },
    {
     "name": "stderr",
     "output_type": "stream",
     "text": [
      "/opt/hostedtoolcache/Python/3.9.17/x64/lib/python3.9/site-packages/arxiv_on_deck_2/latex.py:120: LatexWarning: attempting recovering figure rm_ropt\n",
      "  warnings.warn(LatexWarning(f'attempting recovering figure {image}'))\n",
      "/opt/hostedtoolcache/Python/3.9.17/x64/lib/python3.9/site-packages/arxiv_on_deck_2/latex.py:125: LatexWarning: Recovered figure rm_ropt as tmp_2307.03264/./rm_ropt.pdf\n",
      "  warnings.warn(LatexWarning(f'Recovered figure {image} as {fname}'))\n"
     ]
    },
    {
     "name": "stderr",
     "output_type": "stream",
     "text": [
      "/opt/hostedtoolcache/Python/3.9.17/x64/lib/python3.9/site-packages/arxiv_on_deck_2/latex.py:120: LatexWarning: attempting recovering figure rm_rnir\n",
      "  warnings.warn(LatexWarning(f'attempting recovering figure {image}'))\n",
      "/opt/hostedtoolcache/Python/3.9.17/x64/lib/python3.9/site-packages/arxiv_on_deck_2/latex.py:125: LatexWarning: Recovered figure rm_rnir as tmp_2307.03264/./rm_rnir.pdf\n",
      "  warnings.warn(LatexWarning(f'Recovered figure {image} as {fname}'))\n"
     ]
    },
    {
     "name": "stdout",
     "output_type": "stream",
     "text": [
      "Found 65 bibliographic references in tmp_2307.03264/ms.bbl.\n",
      "Retrieving document from  https://arxiv.org/e-print/2307.03369\n"
     ]
    },
    {
     "name": "stdout",
     "output_type": "stream",
     "text": [
      "extracting tarball to tmp_2307.03369..."
     ]
    },
    {
     "name": "stdout",
     "output_type": "stream",
     "text": [
      " done.\n"
     ]
    }
   ],
   "source": [
    "documents = []\n",
    "failed = []\n",
    "for paper in tqdm(candidates):\n",
    "    paper_id = paper['identifier'].lower().replace('arxiv:', '')\n",
    "    \n",
    "    folder = f'tmp_{paper_id}'\n",
    "\n",
    "    try:\n",
    "        if not os.path.isdir(folder):\n",
    "            folder = retrieve_document_source(f\"{paper_id}\", f'tmp_{paper_id}')\n",
    "        \n",
    "        try:\n",
    "            doc = latex.LatexDocument(folder, validation=validation)    \n",
    "        except AffiliationError as affilerror:\n",
    "            msg = f\"ArXiv:{paper_id:s} is not an MPIA paper... \" + str(affilerror)\n",
    "            failed.append((paper, \"affiliation error: \" + str(affilerror) ))\n",
    "            continue\n",
    "        \n",
    "        # Hack because sometimes author parsing does not work well\n",
    "        if (len(doc.authors) != len(paper['authors'])):\n",
    "            doc._authors = paper['authors']\n",
    "        else:\n",
    "            # highlight authors (FIXME: doc.highlight_authors)\n",
    "            # done on arxiv paper already\n",
    "            doc._authors = highlight_authors_in_list(\n",
    "                [mpia.get_initials(k) for k in doc.authors], \n",
    "                normed_mpia_authors, verbose=True)\n",
    "        if (doc.abstract) in (None, ''):\n",
    "            doc._abstract = paper['abstract']\n",
    "            \n",
    "        doc.comment = (get_markdown_badge(paper_id) + \n",
    "                       \"<mark>Appeared on: \" + paper['date'] + \"</mark> - \")\n",
    "        if paper['comments']:\n",
    "            doc.comment += \" _\" + paper['comments'] + \"_\"\n",
    "        \n",
    "        full_md = doc.generate_markdown_text()\n",
    "        \n",
    "        full_md += get_markdown_qrcode(paper_id)\n",
    "        \n",
    "        # replace citations\n",
    "        try:\n",
    "            bibdata = latex_bib.LatexBib.from_doc(doc)\n",
    "            full_md = latex_bib.replace_citations(full_md, bibdata)\n",
    "        except Exception as e:\n",
    "            print(e)\n",
    "        \n",
    "        documents.append((paper_id, full_md))\n",
    "    except Exception as e:\n",
    "        warnings.warn(latex.LatexWarning(f\"{paper_id:s} did not run properly\\n\" +\n",
    "                                         str(e)\n",
    "                                        ))\n",
    "        failed.append((paper, \"latex error \" + str(e)))"
   ]
  },
  {
   "cell_type": "markdown",
   "id": "2505a25c",
   "metadata": {
    "papermill": {
     "duration": 0.004301,
     "end_time": "2023-07-10T04:10:54.832729",
     "exception": false,
     "start_time": "2023-07-10T04:10:54.828428",
     "status": "completed"
    },
    "tags": []
   },
   "source": [
    "### Export the logs\n",
    "\n",
    "Throughout, we also keep track of the logs per paper. see `logs-{today date}.md` "
   ]
  },
  {
   "cell_type": "code",
   "execution_count": 5,
   "id": "d733828a",
   "metadata": {
    "execution": {
     "iopub.execute_input": "2023-07-10T04:10:54.842848Z",
     "iopub.status.busy": "2023-07-10T04:10:54.842424Z",
     "iopub.status.idle": "2023-07-10T04:10:54.858629Z",
     "shell.execute_reply": "2023-07-10T04:10:54.858096Z"
    },
    "papermill": {
     "duration": 0.023199,
     "end_time": "2023-07-10T04:10:54.860187",
     "exception": false,
     "start_time": "2023-07-10T04:10:54.836988",
     "status": "completed"
    },
    "scrolled": false,
    "tags": []
   },
   "outputs": [
    {
     "data": {
      "text/markdown": [
       "## Successful papers"
      ],
      "text/plain": [
       "<IPython.core.display.Markdown object>"
      ]
     },
     "metadata": {},
     "output_type": "display_data"
    },
    {
     "data": {
      "text/markdown": [
       "\n",
       "|||\n",
       "|---:|:---|\n",
       "| [![arXiv](https://img.shields.io/badge/arXiv-arXiv:2307.03264-b31b1b.svg)](https://arxiv.org/abs/arXiv:2307.03264) | **Stellar Half-Mass Radii of $0.5<z<2.3$ Galaxies: Comparison with  JWST/NIRCam Half-Light Radii**  |\n",
       "|| A. v. d. Wel, et al. -- incl., <mark>A. d. Graaff</mark> |\n",
       "|*Appeared on*| *2023-07-10*|\n",
       "|*Comments*| *Submitted to ApJ. Comments welcome*|\n",
       "|**Abstract**| We use CEERS JWST/NIRCam imaging to measure rest-frame near-IR light profiles of $>$500 $M_\\star>10^{10}~M_\\odot$ galaxies in the redshift range $0.5<z<2.3$. We compare the resulting rest-frame 1.5-2$\\mu$m half-light radii ($R_{\\rm{NIR}}$) with stellar half-mass radii (\\rmass) derived with multi-color light profiles from CANDELS HST imaging. In general agreement with previous work, we find that $R_{\\rm{NIR}}$ and \\rmass~are up to 40\\%~smaller than the rest-frame optical half-light radius $R_{\\rm{opt}}$. The agreement between $R_{\\rm{NIR}}$ and \\rmass~is excellent, with negligible systematic offset ($<$0.03 dex) up to $z=2$ for quiescent galaxies and up to $z=1.5$ for star-forming galaxies. We also deproject the profiles to estimate \\rmassd, the radius of a sphere containing 50\\% of the stellar mass. We present the $R-M_\\star$ distribution of galaxies at $0.5<z<1.5$, comparing $R_{\\rm{opt}}$, \\rmass~and \\rmassd. The slope is significantly flatter for \\rmass~and \\rmassd~ compared to $R_{\\rm{opt}}$, mostly due to downward shifts in size for massive star-forming galaxies, while \\rmass~and \\rmassd~do not show markedly different trends. Finally, we show rapid size evolution ($R\\propto (1+z)^{-1.7\\pm0.1}$) for massive ($M_\\star>10^{11}~M_\\odot$) quiescent galaxies between $z=0.5$ and $z=2.3$, again comparing $R_{\\rm{opt}}$, \\rmass~and \\rmassd. We conclude that the main tenets of the size evolution narrative established over the past 20 years, based on rest-frame optical light profile analysis, still hold in the era of JWST/NIRCam observations in the rest-frame near-IR. |"
      ],
      "text/plain": [
       "[arXiv:2307.03264] Stellar Half-Mass Radii of $0.5<z<2.3$ Galaxies: Comparison with  JWST/NIRCam Half-Light Radii\n",
       "\tA. v. d. Wel, et al. -- incl., <mark>A. d. Graaff</mark>"
      ]
     },
     "metadata": {},
     "output_type": "display_data"
    },
    {
     "data": {
      "text/markdown": [
       "## Failed papers"
      ],
      "text/plain": [
       "<IPython.core.display.Markdown object>"
      ]
     },
     "metadata": {},
     "output_type": "display_data"
    },
    {
     "data": {
      "text/markdown": [
       "\n",
       "|||\n",
       "|---:|:---|\n",
       "| [![arXiv](https://img.shields.io/badge/arXiv-arXiv:2307.03369-b31b1b.svg)](https://arxiv.org/abs/arXiv:2307.03369) | **Molecular environment of the thermal composite supernova remnant  G352.7$-$0.1**  |\n",
       "|| Q.-Q. Zhang, et al. -- incl., <mark>X. Zhang</mark> |\n",
       "|*Appeared on*| *2023-07-10*|\n",
       "|*Comments*| *14 pages, 10 figures, accepted for publication in ApJ*|\n",
       "|**Abstract**| Galactic supernova remnants (SNRs) play an important role in our understanding of supernovae and their feedback on the interstellar environment. SNR G352.7$-$0.1 is special for its thermal composite morphology and double-ring structure. We have performed spectroscopic mapping in $^{12}$CO and $^{13}$CO $J=2$-1 lines toward G352.7$-$0.1 with the Atacama Pathfinder Experiment telescope. Broad $^{12}$CO lines are found in the northeastern ring at a local-standard-of-rest velocity range of $\\sim-50$-$-30$ km s$^{-1}$, suggesting that the remnant is interacting with molecular clouds (MCs) at $\\sim-51$ km s$^{-1}$. Thus, we adopt a distance of $\\sim10.5$ kpc for this SNR. The momentum and kinetic energy of the shocked gas along the line of sight are estimated to be $\\sim10^2{\\rm M_{sun}}$ km s$^{-1}$ and $\\sim10^{46}$ erg, respectively. We also find an expanding structure around the remnant, which is possibly related to the wind-blown bubble of the progenitor star. From the Fermi-LAT data in an energy range of 0.1-500 GeV, we find no gamma-ray counterparts of G352.7$-$0.1. |\n",
       "|<p style=\"color:green\"> **ERROR** </p>| <p style=\"color:green\">affiliation error: mpia.affiliation_verifications: 'Heidelberg' keyword not found.</p> |"
      ],
      "text/plain": [
       "<IPython.core.display.Markdown object>"
      ]
     },
     "metadata": {},
     "output_type": "display_data"
    }
   ],
   "source": [
    "import datetime\n",
    "today = str(datetime.date.today())\n",
    "logfile = f\"_build/html/logs/log-{today}.md\"\n",
    "\n",
    "\n",
    "with open(logfile, 'w') as logs:\n",
    "    # Success\n",
    "    logs.write(f'# Arxiv on Deck 2: Logs - {today}\\n\\n')\n",
    "    logs.write(\"\"\"* Arxiv had {0:,d} new papers\\n\"\"\".format(len(new_papers)))\n",
    "    logs.write(\"\"\"    * {0:,d} with possible author matches\\n\\n\"\"\".format(len(candidates)))\n",
    "    logs.write(\"## Sucessful papers\\n\\n\")\n",
    "    display(Markdown(\"## Successful papers\"))\n",
    "    success = [k[0] for k in documents]\n",
    "    for candid in candidates:\n",
    "        if candid['identifier'].split(':')[-1] in success:\n",
    "            display(candid)\n",
    "            logs.write(candid.generate_markdown_text() + '\\n\\n')\n",
    "\n",
    "    ## failed\n",
    "    logs.write(\"## Failed papers\\n\\n\")\n",
    "    display(Markdown(\"## Failed papers\"))\n",
    "    failed = sorted(failed, key=lambda x: x[1])\n",
    "    current_reason = \"\"\n",
    "    for paper, reason in failed:\n",
    "        if 'affiliation' in reason:\n",
    "            color = 'green'\n",
    "        else:\n",
    "            color = 'red'\n",
    "        data = Markdown(\n",
    "                paper.generate_markdown_text() + \n",
    "                f'\\n|<p style=\"color:{color:s}\"> **ERROR** </p>| <p style=\"color:{color:s}\">{reason:s}</p> |'\n",
    "               )\n",
    "        if reason != current_reason:\n",
    "            logs.write(f'### {reason:s} \\n\\n')\n",
    "            current_reason = reason\n",
    "        logs.write(data.data + '\\n\\n')\n",
    "        \n",
    "        # only display here the important errors (all in logs)\n",
    "        # if color in ('red',):\n",
    "        display(data)"
   ]
  },
  {
   "cell_type": "markdown",
   "id": "472d20ee",
   "metadata": {
    "papermill": {
     "duration": 0.004667,
     "end_time": "2023-07-10T04:10:54.869587",
     "exception": false,
     "start_time": "2023-07-10T04:10:54.864920",
     "status": "completed"
    },
    "tags": []
   },
   "source": [
    "## Export documents\n",
    "\n",
    "We now write the .md files and export relevant images"
   ]
  },
  {
   "cell_type": "code",
   "execution_count": 6,
   "id": "d426aed9",
   "metadata": {
    "execution": {
     "iopub.execute_input": "2023-07-10T04:10:54.880354Z",
     "iopub.status.busy": "2023-07-10T04:10:54.879826Z",
     "iopub.status.idle": "2023-07-10T04:10:54.887201Z",
     "shell.execute_reply": "2023-07-10T04:10:54.886629Z"
    },
    "papermill": {
     "duration": 0.014436,
     "end_time": "2023-07-10T04:10:54.888652",
     "exception": false,
     "start_time": "2023-07-10T04:10:54.874216",
     "status": "completed"
    },
    "tags": []
   },
   "outputs": [],
   "source": [
    "def export_markdown_summary(md: str, md_fname:str, directory: str):\n",
    "    \"\"\"Export MD document and associated relevant images\"\"\"\n",
    "    import os\n",
    "    import shutil\n",
    "    import re\n",
    "\n",
    "    if (os.path.exists(directory) and not os.path.isdir(directory)):\n",
    "        raise RuntimeError(f\"a non-directory file exists with name {directory:s}\")\n",
    "\n",
    "    if (not os.path.exists(directory)):\n",
    "        print(f\"creating directory {directory:s}\")\n",
    "        os.mkdir(directory)\n",
    "\n",
    "    fig_fnames = (re.compile(r'\\[Fig.*\\]\\((.*)\\)').findall(md) + \n",
    "                  re.compile(r'\\<img src=\"([^>\\s]*)\"[^>]*/>').findall(md))\n",
    "    for fname in fig_fnames:\n",
    "        if 'http' in fname:\n",
    "            # No need to copy online figures\n",
    "            continue\n",
    "        destdir = os.path.join(directory, os.path.dirname(fname))\n",
    "        destfname = os.path.join(destdir, os.path.basename(fname))\n",
    "        try:\n",
    "            os.makedirs(destdir)\n",
    "        except FileExistsError:\n",
    "            pass\n",
    "        shutil.copy(fname, destfname)\n",
    "    with open(os.path.join(directory, md_fname), 'w') as fout:\n",
    "        fout.write(md)\n",
    "    print(\"exported in \", os.path.join(directory, md_fname))\n",
    "    [print(\"    + \" + os.path.join(directory,fk)) for fk in fig_fnames]"
   ]
  },
  {
   "cell_type": "code",
   "execution_count": 7,
   "id": "014d04a4",
   "metadata": {
    "execution": {
     "iopub.execute_input": "2023-07-10T04:10:54.899571Z",
     "iopub.status.busy": "2023-07-10T04:10:54.899052Z",
     "iopub.status.idle": "2023-07-10T04:10:54.921837Z",
     "shell.execute_reply": "2023-07-10T04:10:54.921158Z"
    },
    "papermill": {
     "duration": 0.030151,
     "end_time": "2023-07-10T04:10:54.923626",
     "exception": false,
     "start_time": "2023-07-10T04:10:54.893475",
     "status": "completed"
    },
    "tags": []
   },
   "outputs": [
    {
     "name": "stdout",
     "output_type": "stream",
     "text": [
      "exported in  _build/html/2307.03264.md\n",
      "    + _build/html/tmp_2307.03264/./rm_ropt.png\n",
      "    + _build/html/tmp_2307.03264/./m_r1.png\n",
      "    + _build/html/tmp_2307.03264/./m_r2.png\n",
      "    + _build/html/tmp_2307.03264/./ml_ml.png\n"
     ]
    }
   ],
   "source": [
    "for paper_id, md in documents:\n",
    "    export_markdown_summary(md, f\"{paper_id:s}.md\", '_build/html/')"
   ]
  },
  {
   "cell_type": "markdown",
   "id": "f087a0a7",
   "metadata": {
    "papermill": {
     "duration": 0.004841,
     "end_time": "2023-07-10T04:10:54.933450",
     "exception": false,
     "start_time": "2023-07-10T04:10:54.928609",
     "status": "completed"
    },
    "tags": []
   },
   "source": [
    "## Display the papers\n",
    "\n",
    "Not necessary but allows for a quick check."
   ]
  },
  {
   "cell_type": "code",
   "execution_count": 8,
   "id": "fd25f625",
   "metadata": {
    "execution": {
     "iopub.execute_input": "2023-07-10T04:10:54.944379Z",
     "iopub.status.busy": "2023-07-10T04:10:54.943843Z",
     "iopub.status.idle": "2023-07-10T04:10:54.948681Z",
     "shell.execute_reply": "2023-07-10T04:10:54.948162Z"
    },
    "papermill": {
     "duration": 0.012041,
     "end_time": "2023-07-10T04:10:54.950166",
     "exception": false,
     "start_time": "2023-07-10T04:10:54.938125",
     "status": "completed"
    },
    "scrolled": false,
    "tags": []
   },
   "outputs": [
    {
     "data": {
      "text/markdown": [
       "<div class=\"macros\" style=\"visibility:hidden;\">\n",
       "$\\newcommand{\\ensuremath}{}$\n",
       "$\\newcommand{\\xspace}{}$\n",
       "$\\newcommand{\\object}[1]{\\texttt{#1}}$\n",
       "$\\newcommand{\\farcs}{{.}''}$\n",
       "$\\newcommand{\\farcm}{{.}'}$\n",
       "$\\newcommand{\\arcsec}{''}$\n",
       "$\\newcommand{\\arcmin}{'}$\n",
       "$\\newcommand{\\ion}[2]{#1#2}$\n",
       "$\\newcommand{\\textsc}[1]{\\textrm{#1}}$\n",
       "$\\newcommand{\\hl}[1]{\\textrm{#1}}$\n",
       "$\\newcommand{\\footnote}[1]{}$\n",
       "$\\newcommand{\\vdag}{(v)^\\dagger}$\n",
       "$\\newcommand$\n",
       "$\\newcommand$\n",
       "$\\newcommand{\\sigpr}{\\sigma'_{\\star,\\rm{int}}}$\n",
       "$\\newcommand{\\sigprsq}{\\sigma'^2_{\\star,\\rm{int}}}$\n",
       "$\\newcommand{\\ropt}{R_{0.5\\mu\\rm{m}}}$\n",
       "$\\newcommand{\\rnirtwo}{R_{2.0\\mu m}}$\n",
       "$\\newcommand{\\rmass}{R_{\\rm{M_\\star}}}$\n",
       "$\\newcommand{\\rmassd}{R_{\\rm{M_\\star,3D}}}$\n",
       "$\\newcommand{\\vsig}{v_{5}/\\sigma_{0}}$\n",
       "$\\newcommand{\\rnirone}{R_{1.5\\mu m}}$\n",
       "$\\newcommand{\\thefigure}{\\arabic{figure}}$</div>\n",
       "\n",
       "\n",
       "\n",
       "<div id=\"title\">\n",
       "\n",
       "# Stellar Half-Mass Radii of $0.5<z<2.3$ Galaxies: Comparison with JWST/NIRCam Half-Light Radii\n",
       "\n",
       "</div>\n",
       "<div id=\"comments\">\n",
       "\n",
       "[![arXiv](https://img.shields.io/badge/arXiv-2307.03264-b31b1b.svg)](https://arxiv.org/abs/2307.03264)<mark>Appeared on: 2023-07-10</mark> -  _Submitted to ApJ. Comments welcome_\n",
       "\n",
       "</div>\n",
       "<div id=\"authors\">\n",
       "\n",
       "A. v. d. Wel, et al. -- incl., <mark>A. d. Graaff</mark>\n",
       "\n",
       "</div>\n",
       "<div id=\"abstract\">\n",
       "\n",
       "**Abstract:** We use CEERS JWST/NIRCam imaging to measure rest-frame near-IR light profiles of $>$ 500 $M_\\star>10^{10} M_\\odot$ galaxies in the redshift range $0.5<z<2.3$ . We compare the resulting rest-frame 1.5-2 $\\mu$ m half-light radii ( $R_{\\rm{NIR}}$ ) with stellar half-mass radii ( $\\rmass$ ) derived with multi-color light profiles from CANDELS HST imaging. In general agreement with previous work, we find that $R_{\\rm{NIR}}$ and $\\rmass$ are  up to 40 \\% smaller than the rest-frame optical half-light radius $R_{\\rm{opt}}$ .The agreement between $R_{\\rm{NIR}}$ and $\\rmass$ is excellent, with negligible systematic offset ( $<$ 0.03 dex) up to $z=2$ for quiescent galaxies and up to $z=1.5$ for star-forming galaxies. We also deproject the profiles to estimate $\\rmassd$ , the radius of a sphere containing 50 \\% of the stellar mass.We present the $R-M_\\star$ distribution of galaxies at $0.5<z<1.5$ , comparing $R_{\\rm{opt}}$ , $\\rmass$ and $\\rmassd$ .The slope is significantly flatter for $\\rmass$ and $\\rmassd$ compared to $R_{\\rm{opt}}$ , mostly due to downward shifts in size for massive star-forming galaxies, while $\\rmass$ and $\\rmassd$ do not show markedly different trends.Finally, we show rapid size evolution ( $R\\propto (1+z)^{-1.7\\pm0.1}$ ) for massive ( $M_\\star>10^{11} M_\\odot$ ) quiescent galaxies between $z=0.5$ and $z=2.3$ , again comparing $R_{\\rm{opt}}$ , $\\rmass$ and $\\rmassd$ .We conclude that the main tenets of the size evolution narrative established over the past 20 years, based on rest-frame optical light profile analysis, still hold in the era of JWST/NIRCam observations in the rest-frame near-IR.\n",
       "\n",
       "</div>\n",
       "\n",
       "<div id=\"div_fig1\">\n",
       "\n",
       "<img src=\"tmp_2307.03264/./rm_ropt.png\" alt=\"Fig7\" width=\"100%\"/>\n",
       "\n",
       "**Figure 7. -**  Stellar half-mass radius vs. rest-frame optical half-light radius in four redshift bins for quiescent (red) and star-forming (blue) galaxies with total stellar mass $>10^{10} M_\\odot$. $\\Delta$ is the median offset in dex, with the 16-84\\%-ile scatter in parentheses. $\\sigma$ is the median formal uncertainty. Offsets in the range $-0.05$ to $-0.17$ show that stellar half-mass radii are generally smaller than the optical radius. The scatter is comparable to the formal uncertainties, which implies that the uncertainties are certainly not underestimated.\n",
       " (*fig:rm_ropt*)\n",
       "\n",
       "</div>\n",
       "<div id=\"div_fig2\">\n",
       "\n",
       "<img src=\"tmp_2307.03264/./m_r1.png\" alt=\"Fig9.1\" width=\"50%\"/><img src=\"tmp_2307.03264/./m_r2.png\" alt=\"Fig9.2\" width=\"50%\"/>\n",
       "\n",
       "**Figure 9. -**  Size-stellar mass distributions for two redshift bins ($0.5<z<1$ at the top; $1<z<1.5$ at the bottom) and three different size proxies: rest-frame optical half-light radius $R_{\\rm{opt}}$(_left_; projected stellar half-mass radius $R_{\\rm{M_\\star,2D}}$(_middle_); deprojected stellar half-mass radius $R_{\\rm{M_\\star,3D}}$(_bottom_). The solid lines indicate the 16th, 50th and 84th percentiles of the size distribution in 0.2 dex wide bins of $M_\\star$(Table \\ref{tab:medians}). The dotted lines in the middle and right-hand panels repeat, for reference, the solid lines in the left-hand panels. The color-coding is the star-formation rate relative to the star-forming sequence defined by [Leja, Speagle and Ting (2022)]().\n",
       " (*fig:m_r*)\n",
       "\n",
       "</div>\n",
       "<div id=\"div_fig3\">\n",
       "\n",
       "<img src=\"tmp_2307.03264/./ml_ml.png\" alt=\"Fig2\" width=\"100%\"/>\n",
       "\n",
       "**Figure 2. -**  Comparison of rest-frame $V$-band stellar mass-to-light ratio as inferred from Prospector (x-axis) and our HST color-based proxy (y-axis). Across a 1.5 dex range in $M/L$ the HST color-based $M/L$ estimates agree well with the ground truth as inferred from fits to the full SED. The color-coding is the star-formation rate relative to the star-forming sequence defined by [Leja, Speagle and Ting (2022)]().\n",
       " (*fig:ml_ml*)\n",
       "\n",
       "</div><div id=\"qrcode\"><img src=https://api.qrserver.com/v1/create-qr-code/?size=100x100&data=\"https://arxiv.org/abs/2307.03264\"></div>"
      ],
      "text/plain": [
       "<IPython.core.display.Markdown object>"
      ]
     },
     "metadata": {},
     "output_type": "display_data"
    }
   ],
   "source": [
    "[display(Markdown(k[1])) for k in documents];"
   ]
  },
  {
   "cell_type": "markdown",
   "id": "873873a4",
   "metadata": {
    "papermill": {
     "duration": 0.00488,
     "end_time": "2023-07-10T04:10:54.960088",
     "exception": false,
     "start_time": "2023-07-10T04:10:54.955208",
     "status": "completed"
    },
    "tags": []
   },
   "source": [
    "# Create HTML index"
   ]
  },
  {
   "cell_type": "code",
   "execution_count": 9,
   "id": "cf665672",
   "metadata": {
    "execution": {
     "iopub.execute_input": "2023-07-10T04:10:54.972662Z",
     "iopub.status.busy": "2023-07-10T04:10:54.972374Z",
     "iopub.status.idle": "2023-07-10T04:10:54.983585Z",
     "shell.execute_reply": "2023-07-10T04:10:54.982998Z"
    },
    "papermill": {
     "duration": 0.02001,
     "end_time": "2023-07-10T04:10:54.985107",
     "exception": false,
     "start_time": "2023-07-10T04:10:54.965097",
     "status": "completed"
    },
    "tags": []
   },
   "outputs": [
    {
     "name": "stdout",
     "output_type": "stream",
     "text": [
      "227  publications files modified in the last 7 days.\n"
     ]
    }
   ],
   "source": [
    "from datetime import datetime, timedelta, timezone\n",
    "from glob import glob\n",
    "import os\n",
    "\n",
    "files = glob('_build/html/*.md')\n",
    "days = 7\n",
    "now = datetime.today()\n",
    "res = []\n",
    "for fk in files:\n",
    "    stat_result = os.stat(fk).st_ctime\n",
    "    modified = datetime.fromtimestamp(stat_result, tz=timezone.utc).replace(tzinfo=None)\n",
    "    delta = now.today() - modified\n",
    "    if delta <= timedelta(days=days):\n",
    "        res.append((delta.seconds, fk))\n",
    "res = [k[1] for k in reversed(sorted(res, key=lambda x:x[1]))]\n",
    "npub = len(res)\n",
    "print(len(res), f\" publications files modified in the last {days:d} days.\")\n",
    "# [ print('\\t', k) for k in res ];"
   ]
  },
  {
   "cell_type": "code",
   "execution_count": 10,
   "id": "015de740",
   "metadata": {
    "execution": {
     "iopub.execute_input": "2023-07-10T04:10:54.997167Z",
     "iopub.status.busy": "2023-07-10T04:10:54.996635Z",
     "iopub.status.idle": "2023-07-10T04:10:55.015190Z",
     "shell.execute_reply": "2023-07-10T04:10:55.014659Z"
    },
    "papermill": {
     "duration": 0.026193,
     "end_time": "2023-07-10T04:10:55.016665",
     "exception": false,
     "start_time": "2023-07-10T04:10:54.990472",
     "status": "completed"
    },
    "tags": []
   },
   "outputs": [
    {
     "name": "stdout",
     "output_type": "stream",
     "text": [
      "5  publications in the last 7 days.\n"
     ]
    }
   ],
   "source": [
    "import datetime\n",
    "from glob import glob\n",
    "\n",
    "def get_last_n_days(lst, days=1):\n",
    "    \"\"\" Get the documents from the last n days \"\"\"\n",
    "    sorted_lst = sorted(lst, key=lambda x: x[1], reverse=True)\n",
    "    for fname, date in sorted_lst:\n",
    "        if date >= str(datetime.date.today() - datetime.timedelta(days=days)):\n",
    "            yield fname\n",
    "\n",
    "def extract_appearance_dates(lst_file):\n",
    "    dates = []\n",
    "\n",
    "    def get_date(line):\n",
    "        return line\\\n",
    "            .split('Appeared on:')[-1]\\\n",
    "            .split('</mark>')[0].strip()\n",
    "\n",
    "    for fname in lst:\n",
    "        with open(fname, 'r') as f:\n",
    "            found_date = False\n",
    "            for line in f:\n",
    "                if not found_date:\n",
    "                    if \"Appeared on\" in line:\n",
    "                        found_date = True\n",
    "                        dates.append((fname, get_date(line)))\n",
    "                else:\n",
    "                    break\n",
    "    return dates\n",
    "\n",
    "from glob import glob\n",
    "lst = glob('_build/html/*md')\n",
    "days = 7\n",
    "dates = extract_appearance_dates(lst)\n",
    "res = list(get_last_n_days(dates, days))\n",
    "npub = len(res)\n",
    "print(len(res), f\" publications in the last {days:d} days.\")"
   ]
  },
  {
   "cell_type": "code",
   "execution_count": 11,
   "id": "52ca0208",
   "metadata": {
    "execution": {
     "iopub.execute_input": "2023-07-10T04:10:55.028780Z",
     "iopub.status.busy": "2023-07-10T04:10:55.028389Z",
     "iopub.status.idle": "2023-07-10T04:10:55.033546Z",
     "shell.execute_reply": "2023-07-10T04:10:55.032995Z"
    },
    "papermill": {
     "duration": 0.012927,
     "end_time": "2023-07-10T04:10:55.034930",
     "exception": false,
     "start_time": "2023-07-10T04:10:55.022003",
     "status": "completed"
    },
    "scrolled": false,
    "tags": []
   },
   "outputs": [],
   "source": [
    "def create_carousel(npub=4):\n",
    "    \"\"\" Generate the HTML code for a carousel with `npub` slides \"\"\"\n",
    "    carousel = [\"\"\"  <div class=\"carousel\" \"\"\",\n",
    "                \"\"\"       data-flickity='{ \"autoPlay\": 10000, \"adaptiveHeight\": true, \"resize\": true, \"wrapAround\": true, \"pauseAutoPlayOnHover\": true, \"groupCells\": 1 }' id=\"asyncTypeset\">\"\"\"\n",
    "                ]\n",
    "    \n",
    "    item_str = \"\"\"    <div class=\"carousel-cell\"> <div id=\"slide{k}\" class=\"md_view\">Content {k}</div> </div>\"\"\"\n",
    "    for k in range(1, npub + 1):\n",
    "        carousel.append(item_str.format(k=k))\n",
    "    carousel.append(\"  </div>\")\n",
    "    return '\\n'.join(carousel)\n",
    "\n",
    "def create_grid(npub=4):\n",
    "    \"\"\" Generate the HTML code for a flat grid with `npub` slides \"\"\"\n",
    "    grid = [\"\"\"  <div class=\"grid\"> \"\"\",\n",
    "                ]\n",
    "    \n",
    "    item_str = \"\"\"    <div class=\"grid-item\"> <div id=\"slide{k}\" class=\"md_view\">Content {k}</div> </div>\"\"\"\n",
    "    for k in range(1, npub + 1):\n",
    "        grid.append(item_str.format(k=k))\n",
    "    grid.append(\"  </div>\")\n",
    "    return '\\n'.join(grid)"
   ]
  },
  {
   "cell_type": "code",
   "execution_count": 12,
   "id": "a6eac5b6",
   "metadata": {
    "execution": {
     "iopub.execute_input": "2023-07-10T04:10:55.046829Z",
     "iopub.status.busy": "2023-07-10T04:10:55.046450Z",
     "iopub.status.idle": "2023-07-10T04:10:55.051524Z",
     "shell.execute_reply": "2023-07-10T04:10:55.050997Z"
    },
    "papermill": {
     "duration": 0.012617,
     "end_time": "2023-07-10T04:10:55.052897",
     "exception": false,
     "start_time": "2023-07-10T04:10:55.040280",
     "status": "completed"
    },
    "scrolled": false,
    "tags": []
   },
   "outputs": [],
   "source": [
    "carousel = create_carousel(npub)\n",
    "docs = ', '.join(['\"{0:s}\"'.format(k.split('/')[-1]) for k in res])\n",
    "slides = ', '.join([f'\"slide{k}\"' for k in range(1, npub + 1)])\n",
    "\n",
    "with open(\"daily_template.html\", \"r\") as tpl:\n",
    "    page = tpl.read()\n",
    "    page = page.replace(\"{%-- carousel:s --%}\", carousel)\\\n",
    "               .replace(\"{%-- suptitle:s --%}\",  \"7-day archives\" )\\\n",
    "               .replace(\"{%-- docs:s --%}\", docs)\\\n",
    "               .replace(\"{%-- slides:s --%}\", slides)\n",
    "    \n",
    "with open(\"_build/html/index_7days.html\", 'w') as fout:\n",
    "    fout.write(page)"
   ]
  },
  {
   "cell_type": "code",
   "execution_count": 13,
   "id": "adc1a1ec",
   "metadata": {
    "execution": {
     "iopub.execute_input": "2023-07-10T04:10:55.064619Z",
     "iopub.status.busy": "2023-07-10T04:10:55.064237Z",
     "iopub.status.idle": "2023-07-10T04:10:55.070969Z",
     "shell.execute_reply": "2023-07-10T04:10:55.070474Z"
    },
    "papermill": {
     "duration": 0.014213,
     "end_time": "2023-07-10T04:10:55.072302",
     "exception": false,
     "start_time": "2023-07-10T04:10:55.058089",
     "status": "completed"
    },
    "tags": []
   },
   "outputs": [
    {
     "name": "stdout",
     "output_type": "stream",
     "text": [
      "1  publications in the last day.\n"
     ]
    }
   ],
   "source": [
    "# redo for today\n",
    "days = 1\n",
    "res = list(get_last_n_days(dates, days))\n",
    "npub = len(res)\n",
    "print(len(res), f\" publications in the last day.\")\n",
    "\n",
    "carousel = create_carousel(npub)\n",
    "docs = ', '.join(['\"{0:s}\"'.format(k.split('/')[-1]) for k in res])\n",
    "slides = ', '.join([f'\"slide{k}\"' for k in range(1, npub + 1)])\n",
    "\n",
    "with open(\"daily_template.html\", \"r\") as tpl:\n",
    "    page = tpl.read()\n",
    "    page = page.replace(\"{%-- carousel:s --%}\", carousel)\\\n",
    "               .replace(\"{%-- suptitle:s --%}\",  \"Daily\" )\\\n",
    "               .replace(\"{%-- docs:s --%}\", docs)\\\n",
    "               .replace(\"{%-- slides:s --%}\", slides)\n",
    "    \n",
    "# print(carousel, docs, slides)\n",
    "# print(page)\n",
    "with open(\"_build/html/index_daily.html\", 'w') as fout:\n",
    "    fout.write(page)"
   ]
  },
  {
   "cell_type": "code",
   "execution_count": 14,
   "id": "00eece82",
   "metadata": {
    "execution": {
     "iopub.execute_input": "2023-07-10T04:10:55.084277Z",
     "iopub.status.busy": "2023-07-10T04:10:55.083878Z",
     "iopub.status.idle": "2023-07-10T04:10:55.090485Z",
     "shell.execute_reply": "2023-07-10T04:10:55.089991Z"
    },
    "papermill": {
     "duration": 0.014359,
     "end_time": "2023-07-10T04:10:55.092000",
     "exception": false,
     "start_time": "2023-07-10T04:10:55.077641",
     "status": "completed"
    },
    "scrolled": false,
    "tags": []
   },
   "outputs": [
    {
     "name": "stdout",
     "output_type": "stream",
     "text": [
      "6  6 publications selected.\n"
     ]
    }
   ],
   "source": [
    "# Create the flat grid of the last N papers (fixed number regardless of dates)\n",
    "from itertools import islice \n",
    "\n",
    "npub = 6\n",
    "res = [k[0] for k in (islice(reversed(sorted(dates, key=lambda x: x[1])), 6))]\n",
    "print(len(res), f\" {npub} publications selected.\")\n",
    "\n",
    "grid = create_grid(npub)\n",
    "docs = ', '.join(['\"{0:s}\"'.format(k.split('/')[-1]) for k in res])\n",
    "slides = ', '.join([f'\"slide{k}\"' for k in range(1, npub + 1)])\n",
    "\n",
    "with open(\"grid_template.html\", \"r\") as tpl:\n",
    "    page = tpl.read()\n",
    "    page = page.replace(\"{%-- grid-content:s --%}\", grid)\\\n",
    "               .replace(\"{%-- suptitle:s --%}\",  f\"Last {npub:,d} papers\" )\\\n",
    "               .replace(\"{%-- docs:s --%}\", docs)\\\n",
    "               .replace(\"{%-- slides:s --%}\", slides)\n",
    "    \n",
    "# print(grid, docs, slides)\n",
    "# print(page)\n",
    "with open(\"_build/html/index_npub_grid.html\", 'w') as fout:\n",
    "    fout.write(page)"
   ]
  }
 ],
 "metadata": {
  "kernelspec": {
   "display_name": "Python 3 (ipykernel)",
   "language": "python",
   "name": "python3"
  },
  "language_info": {
   "codemirror_mode": {
    "name": "ipython",
    "version": 3
   },
   "file_extension": ".py",
   "mimetype": "text/x-python",
   "name": "python",
   "nbconvert_exporter": "python",
   "pygments_lexer": "ipython3",
   "version": "3.9.17"
  },
  "papermill": {
   "default_parameters": {},
   "duration": 145.00241,
   "end_time": "2023-07-10T04:10:55.314103",
   "environment_variables": {},
   "exception": null,
   "input_path": "MPIA daily digest.ipynb",
   "output_path": "log.ipynb",
   "parameters": {},
   "start_time": "2023-07-10T04:08:30.311693",
   "version": "2.4.0"
  },
  "vscode": {
   "interpreter": {
    "hash": "aee8b7b246df8f9039afb4144a1f6fd8d2ca17a180786b69acc140d282b71a49"
   }
  },
  "widgets": {
   "application/vnd.jupyter.widget-state+json": {
    "state": {
     "16023504957047669a3896d2db6a889c": {
      "model_module": "@jupyter-widgets/controls",
      "model_module_version": "2.0.0",
      "model_name": "FloatProgressModel",
      "state": {
       "_dom_classes": [],
       "_model_module": "@jupyter-widgets/controls",
       "_model_module_version": "2.0.0",
       "_model_name": "FloatProgressModel",
       "_view_count": null,
       "_view_module": "@jupyter-widgets/controls",
       "_view_module_version": "2.0.0",
       "_view_name": "ProgressView",
       "bar_style": "success",
       "description": "",
       "description_allow_html": false,
       "layout": "IPY_MODEL_a1cb85b3beee4378bc6483bd4181c8b6",
       "max": 2.0,
       "min": 0.0,
       "orientation": "horizontal",
       "style": "IPY_MODEL_a4aaa152cc7f4ac0a577cf2dffb99d52",
       "tabbable": null,
       "tooltip": null,
       "value": 2.0
      }
     },
     "1a1e6ddce7ae45838200ebf364966b7e": {
      "model_module": "@jupyter-widgets/base",
      "model_module_version": "2.0.0",
      "model_name": "LayoutModel",
      "state": {
       "_model_module": "@jupyter-widgets/base",
       "_model_module_version": "2.0.0",
       "_model_name": "LayoutModel",
       "_view_count": null,
       "_view_module": "@jupyter-widgets/base",
       "_view_module_version": "2.0.0",
       "_view_name": "LayoutView",
       "align_content": null,
       "align_items": null,
       "align_self": null,
       "border_bottom": null,
       "border_left": null,
       "border_right": null,
       "border_top": null,
       "bottom": null,
       "display": null,
       "flex": null,
       "flex_flow": null,
       "grid_area": null,
       "grid_auto_columns": null,
       "grid_auto_flow": null,
       "grid_auto_rows": null,
       "grid_column": null,
       "grid_gap": null,
       "grid_row": null,
       "grid_template_areas": null,
       "grid_template_columns": null,
       "grid_template_rows": null,
       "height": null,
       "justify_content": null,
       "justify_items": null,
       "left": null,
       "margin": null,
       "max_height": null,
       "max_width": null,
       "min_height": null,
       "min_width": null,
       "object_fit": null,
       "object_position": null,
       "order": null,
       "overflow": null,
       "padding": null,
       "right": null,
       "top": null,
       "visibility": null,
       "width": null
      }
     },
     "1b63322c199c4f289c90d89a8123f56a": {
      "model_module": "@jupyter-widgets/controls",
      "model_module_version": "2.0.0",
      "model_name": "HTMLModel",
      "state": {
       "_dom_classes": [],
       "_model_module": "@jupyter-widgets/controls",
       "_model_module_version": "2.0.0",
       "_model_name": "HTMLModel",
       "_view_count": null,
       "_view_module": "@jupyter-widgets/controls",
       "_view_module_version": "2.0.0",
       "_view_name": "HTMLView",
       "description": "",
       "description_allow_html": false,
       "layout": "IPY_MODEL_2e9b247834e84728a5284497579f287a",
       "placeholder": "​",
       "style": "IPY_MODEL_e46dd70ab6d84ddfb674564de30507e9",
       "tabbable": null,
       "tooltip": null,
       "value": " 2/2 [01:57&lt;00:00, 48.84s/it]"
      }
     },
     "21979be5e7744cf49b36f5893b7e7f4c": {
      "model_module": "@jupyter-widgets/controls",
      "model_module_version": "2.0.0",
      "model_name": "HTMLModel",
      "state": {
       "_dom_classes": [],
       "_model_module": "@jupyter-widgets/controls",
       "_model_module_version": "2.0.0",
       "_model_name": "HTMLModel",
       "_view_count": null,
       "_view_module": "@jupyter-widgets/controls",
       "_view_module_version": "2.0.0",
       "_view_name": "HTMLView",
       "description": "",
       "description_allow_html": false,
       "layout": "IPY_MODEL_aedb939c8dd74cb1a420b59648f809d9",
       "placeholder": "​",
       "style": "IPY_MODEL_571ba7ffb201456ea7e0814a78f7153e",
       "tabbable": null,
       "tooltip": null,
       "value": "100%"
      }
     },
     "297bc466195f4f7e8a773ae34e9d2df8": {
      "model_module": "@jupyter-widgets/controls",
      "model_module_version": "2.0.0",
      "model_name": "HBoxModel",
      "state": {
       "_dom_classes": [],
       "_model_module": "@jupyter-widgets/controls",
       "_model_module_version": "2.0.0",
       "_model_name": "HBoxModel",
       "_view_count": null,
       "_view_module": "@jupyter-widgets/controls",
       "_view_module_version": "2.0.0",
       "_view_name": "HBoxView",
       "box_style": "",
       "children": [
        "IPY_MODEL_21979be5e7744cf49b36f5893b7e7f4c",
        "IPY_MODEL_16023504957047669a3896d2db6a889c",
        "IPY_MODEL_1b63322c199c4f289c90d89a8123f56a"
       ],
       "layout": "IPY_MODEL_1a1e6ddce7ae45838200ebf364966b7e",
       "tabbable": null,
       "tooltip": null
      }
     },
     "2e9b247834e84728a5284497579f287a": {
      "model_module": "@jupyter-widgets/base",
      "model_module_version": "2.0.0",
      "model_name": "LayoutModel",
      "state": {
       "_model_module": "@jupyter-widgets/base",
       "_model_module_version": "2.0.0",
       "_model_name": "LayoutModel",
       "_view_count": null,
       "_view_module": "@jupyter-widgets/base",
       "_view_module_version": "2.0.0",
       "_view_name": "LayoutView",
       "align_content": null,
       "align_items": null,
       "align_self": null,
       "border_bottom": null,
       "border_left": null,
       "border_right": null,
       "border_top": null,
       "bottom": null,
       "display": null,
       "flex": null,
       "flex_flow": null,
       "grid_area": null,
       "grid_auto_columns": null,
       "grid_auto_flow": null,
       "grid_auto_rows": null,
       "grid_column": null,
       "grid_gap": null,
       "grid_row": null,
       "grid_template_areas": null,
       "grid_template_columns": null,
       "grid_template_rows": null,
       "height": null,
       "justify_content": null,
       "justify_items": null,
       "left": null,
       "margin": null,
       "max_height": null,
       "max_width": null,
       "min_height": null,
       "min_width": null,
       "object_fit": null,
       "object_position": null,
       "order": null,
       "overflow": null,
       "padding": null,
       "right": null,
       "top": null,
       "visibility": null,
       "width": null
      }
     },
     "571ba7ffb201456ea7e0814a78f7153e": {
      "model_module": "@jupyter-widgets/controls",
      "model_module_version": "2.0.0",
      "model_name": "HTMLStyleModel",
      "state": {
       "_model_module": "@jupyter-widgets/controls",
       "_model_module_version": "2.0.0",
       "_model_name": "HTMLStyleModel",
       "_view_count": null,
       "_view_module": "@jupyter-widgets/base",
       "_view_module_version": "2.0.0",
       "_view_name": "StyleView",
       "background": null,
       "description_width": "",
       "font_size": null,
       "text_color": null
      }
     },
     "a1cb85b3beee4378bc6483bd4181c8b6": {
      "model_module": "@jupyter-widgets/base",
      "model_module_version": "2.0.0",
      "model_name": "LayoutModel",
      "state": {
       "_model_module": "@jupyter-widgets/base",
       "_model_module_version": "2.0.0",
       "_model_name": "LayoutModel",
       "_view_count": null,
       "_view_module": "@jupyter-widgets/base",
       "_view_module_version": "2.0.0",
       "_view_name": "LayoutView",
       "align_content": null,
       "align_items": null,
       "align_self": null,
       "border_bottom": null,
       "border_left": null,
       "border_right": null,
       "border_top": null,
       "bottom": null,
       "display": null,
       "flex": null,
       "flex_flow": null,
       "grid_area": null,
       "grid_auto_columns": null,
       "grid_auto_flow": null,
       "grid_auto_rows": null,
       "grid_column": null,
       "grid_gap": null,
       "grid_row": null,
       "grid_template_areas": null,
       "grid_template_columns": null,
       "grid_template_rows": null,
       "height": null,
       "justify_content": null,
       "justify_items": null,
       "left": null,
       "margin": null,
       "max_height": null,
       "max_width": null,
       "min_height": null,
       "min_width": null,
       "object_fit": null,
       "object_position": null,
       "order": null,
       "overflow": null,
       "padding": null,
       "right": null,
       "top": null,
       "visibility": null,
       "width": null
      }
     },
     "a4aaa152cc7f4ac0a577cf2dffb99d52": {
      "model_module": "@jupyter-widgets/controls",
      "model_module_version": "2.0.0",
      "model_name": "ProgressStyleModel",
      "state": {
       "_model_module": "@jupyter-widgets/controls",
       "_model_module_version": "2.0.0",
       "_model_name": "ProgressStyleModel",
       "_view_count": null,
       "_view_module": "@jupyter-widgets/base",
       "_view_module_version": "2.0.0",
       "_view_name": "StyleView",
       "bar_color": null,
       "description_width": ""
      }
     },
     "aedb939c8dd74cb1a420b59648f809d9": {
      "model_module": "@jupyter-widgets/base",
      "model_module_version": "2.0.0",
      "model_name": "LayoutModel",
      "state": {
       "_model_module": "@jupyter-widgets/base",
       "_model_module_version": "2.0.0",
       "_model_name": "LayoutModel",
       "_view_count": null,
       "_view_module": "@jupyter-widgets/base",
       "_view_module_version": "2.0.0",
       "_view_name": "LayoutView",
       "align_content": null,
       "align_items": null,
       "align_self": null,
       "border_bottom": null,
       "border_left": null,
       "border_right": null,
       "border_top": null,
       "bottom": null,
       "display": null,
       "flex": null,
       "flex_flow": null,
       "grid_area": null,
       "grid_auto_columns": null,
       "grid_auto_flow": null,
       "grid_auto_rows": null,
       "grid_column": null,
       "grid_gap": null,
       "grid_row": null,
       "grid_template_areas": null,
       "grid_template_columns": null,
       "grid_template_rows": null,
       "height": null,
       "justify_content": null,
       "justify_items": null,
       "left": null,
       "margin": null,
       "max_height": null,
       "max_width": null,
       "min_height": null,
       "min_width": null,
       "object_fit": null,
       "object_position": null,
       "order": null,
       "overflow": null,
       "padding": null,
       "right": null,
       "top": null,
       "visibility": null,
       "width": null
      }
     },
     "e46dd70ab6d84ddfb674564de30507e9": {
      "model_module": "@jupyter-widgets/controls",
      "model_module_version": "2.0.0",
      "model_name": "HTMLStyleModel",
      "state": {
       "_model_module": "@jupyter-widgets/controls",
       "_model_module_version": "2.0.0",
       "_model_name": "HTMLStyleModel",
       "_view_count": null,
       "_view_module": "@jupyter-widgets/base",
       "_view_module_version": "2.0.0",
       "_view_name": "StyleView",
       "background": null,
       "description_width": "",
       "font_size": null,
       "text_color": null
      }
     }
    },
    "version_major": 2,
    "version_minor": 0
   }
  }
 },
 "nbformat": 4,
 "nbformat_minor": 5
}