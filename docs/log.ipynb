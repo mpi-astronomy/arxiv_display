{
 "cells": [
  {
   "cell_type": "markdown",
   "id": "92bcb855",
   "metadata": {
    "papermill": {
     "duration": 0.003921,
     "end_time": "2024-06-12T04:08:44.645940",
     "exception": false,
     "start_time": "2024-06-12T04:08:44.642019",
     "status": "completed"
    },
    "tags": []
   },
   "source": [
    "# MPIA Arxiv on Deck 2\n",
    "\n",
    "Contains the steps to produce the paper extractions."
   ]
  },
  {
   "cell_type": "code",
   "execution_count": 1,
   "id": "3a0d6e11",
   "metadata": {
    "execution": {
     "iopub.execute_input": "2024-06-12T04:08:44.652930Z",
     "iopub.status.busy": "2024-06-12T04:08:44.652724Z",
     "iopub.status.idle": "2024-06-12T04:08:44.978930Z",
     "shell.execute_reply": "2024-06-12T04:08:44.978277Z"
    },
    "papermill": {
     "duration": 0.33167,
     "end_time": "2024-06-12T04:08:44.980734",
     "exception": false,
     "start_time": "2024-06-12T04:08:44.649064",
     "status": "completed"
    },
    "tags": []
   },
   "outputs": [],
   "source": [
    "# Imports\n",
    "import os\n",
    "from IPython.display import Markdown, display\n",
    "from tqdm.notebook import tqdm\n",
    "import warnings\n",
    "from PIL import Image \n",
    "\n",
    "# requires arxiv_on_deck_2\n",
    "\n",
    "from arxiv_on_deck_2.arxiv2 import (get_new_papers, \n",
    "                                    get_paper_from_identifier,\n",
    "                                    retrieve_document_source, \n",
    "                                    get_markdown_badge)\n",
    "from arxiv_on_deck_2 import (latex,\n",
    "                             latex_bib,\n",
    "                             mpia,\n",
    "                             highlight_authors_in_list)\n",
    "\n",
    "# Sometimes images are really big\n",
    "Image.MAX_IMAGE_PIXELS = 1000000000 "
   ]
  },
  {
   "cell_type": "code",
   "execution_count": 2,
   "id": "22aa9d44",
   "metadata": {
    "execution": {
     "iopub.execute_input": "2024-06-12T04:08:44.987989Z",
     "iopub.status.busy": "2024-06-12T04:08:44.987737Z",
     "iopub.status.idle": "2024-06-12T04:08:44.992777Z",
     "shell.execute_reply": "2024-06-12T04:08:44.992223Z"
    },
    "papermill": {
     "duration": 0.010083,
     "end_time": "2024-06-12T04:08:44.994014",
     "exception": false,
     "start_time": "2024-06-12T04:08:44.983931",
     "status": "completed"
    },
    "tags": []
   },
   "outputs": [],
   "source": [
    "# Some useful definitions.\n",
    "\n",
    "class AffiliationWarning(UserWarning):\n",
    "    pass\n",
    "\n",
    "class AffiliationError(RuntimeError):\n",
    "    pass\n",
    "\n",
    "def validation(source: str):\n",
    "    \"\"\"Raises error paper during parsing of source file\n",
    "    \n",
    "    Allows checks before parsing TeX code.\n",
    "    \n",
    "    Raises AffiliationWarning\n",
    "    \"\"\"\n",
    "    check = mpia.affiliation_verifications(source, verbose=True)\n",
    "    if check is not True:\n",
    "        raise AffiliationError(\"mpia.affiliation_verifications: \" + check)\n",
    "\n",
    "        \n",
    "warnings.simplefilter('always', AffiliationWarning)\n",
    "\n",
    "\n",
    "def get_markdown_qrcode(paper_id: str):\n",
    "    \"\"\" Generate a qrcode to the arxiv page using qrserver.com\n",
    "    \n",
    "    :param paper: Arxiv paper\n",
    "    :returns: markdown text\n",
    "    \"\"\"\n",
    "    url = r\"https://api.qrserver.com/v1/create-qr-code/?size=100x100&data=\"\n",
    "    txt = f\"\"\"<img src={url}\"https://arxiv.org/abs/{paper_id}\">\"\"\"\n",
    "    txt = '<div id=\"qrcode\">' + txt + '</div>'\n",
    "    return txt"
   ]
  },
  {
   "cell_type": "markdown",
   "id": "14bd6310",
   "metadata": {
    "papermill": {
     "duration": 0.002803,
     "end_time": "2024-06-12T04:08:44.999745",
     "exception": false,
     "start_time": "2024-06-12T04:08:44.996942",
     "status": "completed"
    },
    "tags": []
   },
   "source": [
    "## get list of arxiv paper candidates\n",
    "\n",
    "We use the MPIA mitarbeiter list webpage from mpia.de to get author names\n",
    "We then get all new papers from Arxiv and match authors"
   ]
  },
  {
   "cell_type": "code",
   "execution_count": 3,
   "id": "7ea813a8",
   "metadata": {
    "execution": {
     "iopub.execute_input": "2024-06-12T04:08:45.006910Z",
     "iopub.status.busy": "2024-06-12T04:08:45.006434Z",
     "iopub.status.idle": "2024-06-12T04:09:02.876503Z",
     "shell.execute_reply": "2024-06-12T04:09:02.875821Z"
    },
    "papermill": {
     "duration": 17.875321,
     "end_time": "2024-06-12T04:09:02.878165",
     "exception": false,
     "start_time": "2024-06-12T04:08:45.002844",
     "status": "completed"
    },
    "tags": []
   },
   "outputs": [],
   "source": [
    "# deal with the author list and edge cases of people that cannot be consistent on their name  \n",
    "\n",
    "def filter_non_scientists(name: str) -> bool:\n",
    "    \"\"\" Loose filter on expected authorships\n",
    "\n",
    "    removing IT, administration, technical staff\n",
    "    :param name: name\n",
    "    :returns: False if name is not a scientist\n",
    "    \"\"\"\n",
    "    remove_list = ['Wolf', 'Licht', 'Binroth', 'Witzel', 'Jordan',\n",
    "                   'Zähringer', 'Scheerer', 'Hoffmann', 'Düe',\n",
    "                   'Hellmich', 'Enkler-Scharpegge', 'Witte-Nguy',\n",
    "                   'Dehen', 'Beckmann', 'Jager', 'Jäger'\n",
    "                  ]\n",
    "\n",
    "    for k in remove_list:\n",
    "        if k in name:\n",
    "            return False\n",
    "    return True\n",
    "\n",
    "def add_author_to_list(author_list: list) -> list:\n",
    "    \"\"\" Add author to list if not already in list\n",
    "    \n",
    "    :param author: author name\n",
    "    :param author_list: list of authors\n",
    "    :returns: updated list of authors\n",
    "    \"\"\"\n",
    "    add_list = ['T. Henning']\n",
    "\n",
    "    for author in add_list:\n",
    "        if author not in author_list:\n",
    "            author_list.append(author)\n",
    "    return author_list\n",
    "\n",
    "# get list from MPIA website\n",
    "# filter for non-scientists (mpia.get_mpia_mitarbeiter_list() does some filtering)\n",
    "mpia_authors = [k[1] for k in mpia.get_mpia_mitarbeiter_list() if filter_non_scientists(k[1])]\n",
    "# add some missing author because of inconsistencies in their MPIA name and author name on papers\n",
    "mpia_authors = add_author_to_list(mpia_authors)"
   ]
  },
  {
   "cell_type": "code",
   "execution_count": 4,
   "id": "2645e73a",
   "metadata": {
    "execution": {
     "iopub.execute_input": "2024-06-12T04:09:02.885334Z",
     "iopub.status.busy": "2024-06-12T04:09:02.885091Z",
     "iopub.status.idle": "2024-06-12T04:09:03.474525Z",
     "shell.execute_reply": "2024-06-12T04:09:03.473869Z"
    },
    "papermill": {
     "duration": 0.594607,
     "end_time": "2024-06-12T04:09:03.475952",
     "exception": false,
     "start_time": "2024-06-12T04:09:02.881345",
     "status": "completed"
    },
    "tags": []
   },
   "outputs": [
    {
     "name": "stdout",
     "output_type": "stream",
     "text": [
      "J. Li  ->  J. Li  |  ['J. Li']\n",
      "F. Walter  ->  F. Walter  |  ['F. Walter']\n",
      "E. Bañados  ->  E. Bañados  |  ['E. Bañados']\n",
      "S. Bosman  ->  S. Bosman  |  ['S. Bosman']\n",
      "H.-W. Rix  ->  H.-W. Rix  |  ['H.-W. Rix']\n",
      "C. Bailer-Jones  ->  C. Bailer-Jones  |  ['C. Bailer-Jones']\n",
      "M. Fouesneau  ->  M. Fouesneau  |  ['M. Fouesneau']\n",
      "T. Müller  ->  T. Müller  |  ['T. Müller']\n"
     ]
    },
    {
     "name": "stdout",
     "output_type": "stream",
     "text": [
      "T. Ueda  ->  T. Ueda  |  ['T. Ueda']\n",
      "M. Flock  ->  M. Flock  |  ['M. Flock']\n",
      "P. Sudarshan  ->  P. Sudarshan  |  ['P. Sudarshan']\n",
      "Arxiv has 67 new papers today\n",
      "          5 with possible author matches\n"
     ]
    }
   ],
   "source": [
    "new_papers = get_new_papers()\n",
    "# add manual references\n",
    "add_paper_refs = []\n",
    "new_papers.extend([get_paper_from_identifier(k) for k in add_paper_refs])\n",
    "\n",
    "candidates = []\n",
    "for paperk in new_papers:\n",
    "    # Check author list with their initials\n",
    "    normed_author_list = [mpia.get_initials(k) for k in paperk['authors']]\n",
    "    hl_authors = highlight_authors_in_list(normed_author_list, mpia_authors, verbose=True)\n",
    "    matches = [(hl, orig) for hl, orig in zip(hl_authors, paperk['authors']) if 'mark' in hl]\n",
    "    paperk['authors'] = hl_authors\n",
    "    if matches:\n",
    "        # only select paper if an author matched our list\n",
    "        candidates.append(paperk)\n",
    "print(\"\"\"Arxiv has {0:,d} new papers today\"\"\".format(len(new_papers)))        \n",
    "print(\"\"\"          {0:,d} with possible author matches\"\"\".format(len(candidates)))"
   ]
  },
  {
   "cell_type": "markdown",
   "id": "3543b34a",
   "metadata": {
    "papermill": {
     "duration": 0.003059,
     "end_time": "2024-06-12T04:09:03.482441",
     "exception": false,
     "start_time": "2024-06-12T04:09:03.479382",
     "status": "completed"
    },
    "tags": []
   },
   "source": [
    "# Parse sources and generate relevant outputs\n",
    "\n",
    "From the candidates, we do the following steps:\n",
    "* get their tarball from ArXiv (and extract data)\n",
    "* find the main .tex file: find one with \\documentclass{...} (sometimes it's non trivial)\n",
    "* Check affiliations with :func:`validation`, which uses :func:`mpia.affiliation_verifications`\n",
    "* If passing the affiliations: we parse the .tex source\n",
    "   * inject sub-documents into the main (flatten the main document)\n",
    "   * parse structure, extract information (title, abstract, authors, figures...)\n",
    "   * handles `\\graphicspath` if provided\n",
    "* Generate the .md document."
   ]
  },
  {
   "cell_type": "code",
   "execution_count": 5,
   "id": "9576b79e",
   "metadata": {
    "execution": {
     "iopub.execute_input": "2024-06-12T04:09:03.490017Z",
     "iopub.status.busy": "2024-06-12T04:09:03.489339Z",
     "iopub.status.idle": "2024-06-12T04:09:25.147991Z",
     "shell.execute_reply": "2024-06-12T04:09:25.147207Z"
    },
    "papermill": {
     "duration": 21.665158,
     "end_time": "2024-06-12T04:09:25.150641",
     "exception": false,
     "start_time": "2024-06-12T04:09:03.485483",
     "status": "completed"
    },
    "scrolled": false,
    "tags": []
   },
   "outputs": [
    {
     "data": {
      "application/vnd.jupyter.widget-view+json": {
       "model_id": "999eed15e43c487787c9dd47e69b1f22",
       "version_major": 2,
       "version_minor": 0
      },
      "text/plain": [
       "  0%|          | 0/5 [00:00<?, ?it/s]"
      ]
     },
     "metadata": {},
     "output_type": "display_data"
    },
    {
     "name": "stdout",
     "output_type": "stream",
     "text": [
      "Retrieving document from  https://arxiv.org/e-print/2406.06674\n"
     ]
    },
    {
     "name": "stdout",
     "output_type": "stream",
     "text": [
      "extracting tarball to tmp_2406.06674... done.\n",
      "Retrieving document from  https://arxiv.org/e-print/2406.06697\n"
     ]
    },
    {
     "name": "stdout",
     "output_type": "stream",
     "text": [
      "extracting tarball to tmp_2406.06697..."
     ]
    },
    {
     "name": "stdout",
     "output_type": "stream",
     "text": [
      " done.\n"
     ]
    },
    {
     "name": "stdout",
     "output_type": "stream",
     "text": [
      "list index out of range\n",
      "Retrieving document from  https://arxiv.org/e-print/2406.06740\n",
      "extracting tarball to tmp_2406.06740..."
     ]
    },
    {
     "name": "stdout",
     "output_type": "stream",
     "text": [
      " done.\n",
      "Retrieving document from  https://arxiv.org/e-print/2406.07427\n",
      "extracting tarball to tmp_2406.07427..."
     ]
    },
    {
     "name": "stderr",
     "output_type": "stream",
     "text": [
      "/opt/hostedtoolcache/Python/3.9.19/x64/lib/python3.9/site-packages/IPython/core/interactiveshell.py:3550: LatexWarning: Multiple tex files.\n",
      "\n",
      "  exec(code_obj, self.user_global_ns, self.user_ns)\n",
      "/tmp/ipykernel_2119/1211882699.py:51: LatexWarning: 2406.06740 did not run properly\n",
      "'PosixPath' object is not subscriptable\n",
      "  warnings.warn(latex.LatexWarning(f\"{paper_id:s} did not run properly\\n\" +\n"
     ]
    },
    {
     "name": "stdout",
     "output_type": "stream",
     "text": [
      " done.\n"
     ]
    },
    {
     "name": "stdout",
     "output_type": "stream",
     "text": [
      "list index out of range\n",
      "Retrieving document from  https://arxiv.org/e-print/2406.07439\n",
      "extracting tarball to tmp_2406.07439... done.\n"
     ]
    },
    {
     "name": "stderr",
     "output_type": "stream",
     "text": [
      "/opt/hostedtoolcache/Python/3.9.19/x64/lib/python3.9/site-packages/IPython/core/interactiveshell.py:3550: LatexWarning: Multiple tex files.\n",
      "\n",
      "  exec(code_obj, self.user_global_ns, self.user_ns)\n",
      "/tmp/ipykernel_2119/1211882699.py:51: LatexWarning: 2406.07439 did not run properly\n",
      "'PosixPath' object is not subscriptable\n",
      "  warnings.warn(latex.LatexWarning(f\"{paper_id:s} did not run properly\\n\" +\n"
     ]
    }
   ],
   "source": [
    "documents = []\n",
    "failed = []\n",
    "for paper in tqdm(candidates):\n",
    "    # debug crap\n",
    "    paper['identifier'] = paper['identifier'].lower().replace('arxiv:', '').replace(r'\\n', '').strip()\n",
    "    paper_id = paper['identifier']\n",
    "    \n",
    "    folder = f'tmp_{paper_id}'\n",
    "\n",
    "    try:\n",
    "        if not os.path.isdir(folder):\n",
    "            folder = retrieve_document_source(f\"{paper_id}\", f'tmp_{paper_id}')\n",
    "        \n",
    "        try:\n",
    "            doc = latex.LatexDocument(folder, validation=validation)    \n",
    "        except AffiliationError as affilerror:\n",
    "            msg = f\"ArXiv:{paper_id:s} is not an MPIA paper... \" + str(affilerror)\n",
    "            failed.append((paper, \"affiliation error: \" + str(affilerror) ))\n",
    "            continue\n",
    "        \n",
    "        # Hack because sometimes author parsing does not work well\n",
    "        if (len(doc.authors) != len(paper['authors'])):\n",
    "            doc._authors = paper['authors']\n",
    "        else:\n",
    "            # highlight authors (FIXME: doc.highlight_authors)\n",
    "            # done on arxiv paper already\n",
    "            doc._authors = highlight_authors_in_list(\n",
    "                [mpia.get_initials(k) for k in doc.authors], \n",
    "                mpia_authors, verbose=True)\n",
    "        if (doc.abstract) in (None, ''):\n",
    "            doc._abstract = paper['abstract']\n",
    "            \n",
    "        doc.comment = (get_markdown_badge(paper_id) + \n",
    "                       \"<mark>Appeared on: \" + paper['date'] + \"</mark> - \")\n",
    "        if paper['comments']:\n",
    "            doc.comment += \" _\" + paper['comments'] + \"_\"\n",
    "        \n",
    "        full_md = doc.generate_markdown_text()\n",
    "        \n",
    "        full_md += get_markdown_qrcode(paper_id)\n",
    "        \n",
    "        # replace citations\n",
    "        try:\n",
    "            bibdata = latex_bib.LatexBib.from_doc(doc)\n",
    "            full_md = latex_bib.replace_citations(full_md, bibdata)\n",
    "        except Exception as e:\n",
    "            print(e)\n",
    "        \n",
    "        documents.append((paper_id, full_md))\n",
    "    except Exception as e:\n",
    "        warnings.warn(latex.LatexWarning(f\"{paper_id:s} did not run properly\\n\" +\n",
    "                                         str(e)\n",
    "                                        ))\n",
    "        failed.append((paper, \"latex error \" + str(e)))"
   ]
  },
  {
   "cell_type": "markdown",
   "id": "2505a25c",
   "metadata": {
    "papermill": {
     "duration": 0.003645,
     "end_time": "2024-06-12T04:09:25.159045",
     "exception": false,
     "start_time": "2024-06-12T04:09:25.155400",
     "status": "completed"
    },
    "tags": []
   },
   "source": [
    "### Export the logs\n",
    "\n",
    "Throughout, we also keep track of the logs per paper. see `logs-{today date}.md` "
   ]
  },
  {
   "cell_type": "code",
   "execution_count": 6,
   "id": "d733828a",
   "metadata": {
    "execution": {
     "iopub.execute_input": "2024-06-12T04:09:25.167765Z",
     "iopub.status.busy": "2024-06-12T04:09:25.167316Z",
     "iopub.status.idle": "2024-06-12T04:09:25.183324Z",
     "shell.execute_reply": "2024-06-12T04:09:25.182796Z"
    },
    "papermill": {
     "duration": 0.021984,
     "end_time": "2024-06-12T04:09:25.184656",
     "exception": false,
     "start_time": "2024-06-12T04:09:25.162672",
     "status": "completed"
    },
    "scrolled": false,
    "tags": []
   },
   "outputs": [
    {
     "data": {
      "text/markdown": [
       "## Successful papers"
      ],
      "text/plain": [
       "<IPython.core.display.Markdown object>"
      ]
     },
     "metadata": {},
     "output_type": "display_data"
    },
    {
     "data": {
      "text/markdown": [
       "\n",
       "|||\n",
       "|---:|:---|\n",
       "| [![arXiv](https://img.shields.io/badge/arXiv-2406.06697-b31b1b.svg)](https://arxiv.org/abs/2406.06697) | **A quasar-galaxy merger at $z\\sim 6.2$: rapid host growth via accretion of two massive satellite galaxies**  |\n",
       "|| R. Decarli, et al. -- incl., <mark>F. Walter</mark>, <mark>E. Bañados</mark>, <mark>S. Bosman</mark>, <mark>H.-W. Rix</mark> |\n",
       "|*Appeared on*| *2024-06-12*|\n",
       "|*Comments*| *15 pages, 16 figures. Accepted for publication in A&A*|\n",
       "|**Abstract**|            We present JWST/NIRSpec Integral Field Spectroscopy in the rest-frame optical bands of the system PJ308-21, a quasar at $z=6.2342$ caught as its host galaxy interacts with companion galaxies. We detect spatially extended emission of several emission lines (H$\\alpha$, H$\\beta$, [OIII], [NII], [SII], HeII), which we use to study the properties of the ionized phase of the interstellar medium: the source and hardness of the photoionizing radiation field, metallicity, dust reddening, electron density and temperature, and star formation. We also marginally detect continuum starlight emission associated with the companion sources. We find that at least two independent satellite galaxies are part of the system. While the quasar host appears highly enriched and obscured, with AGN-like photoionization conditions, the western companion shows minimal dust extinction, low metallicity ($Z\\sim0.4$ Z$_\\odot$), and star-formation driven photoionization. The eastern companion shows higher extinction and metallicity ($Z\\sim0.8$ Z$_\\odot$) compared to the western companion, and it is at least partially photoionized by the nearby quasar. We do not find any indication of AGN in the companion sources. Our study shows that while the quasar host galaxy is already very massive ($M_{\\rm dyn}>10^{11}$ M$_\\odot$), it is still rapidly building up by accreting two relatively massive ($M_{\\rm star}\\sim 10^{10}$ M$_\\odot$) companion sources. This dataset showcases the power of JWST in exposing the build-up of massive galaxies in the first Gyr of the Universe.         |"
      ],
      "text/plain": [
       "[2406.06697] A quasar-galaxy merger at $z\\sim 6.2$: rapid host growth via accretion of two massive satellite galaxies\n",
       "\tR. Decarli, et al. -- incl., <mark>F. Walter</mark>, <mark>E. Bañados</mark>, <mark>S. Bosman</mark>, <mark>H.-W. Rix</mark>"
      ]
     },
     "metadata": {},
     "output_type": "display_data"
    },
    {
     "data": {
      "text/markdown": [
       "\n",
       "|||\n",
       "|---:|:---|\n",
       "| [![arXiv](https://img.shields.io/badge/arXiv-2406.07427-b31b1b.svg)](https://arxiv.org/abs/2406.07427) | **Support for fragile porous dust in a gravitationally self-regulated disk around IM Lup**  |\n",
       "|| <mark>T. Ueda</mark>, et al. -- incl., <mark>M. Flock</mark>, <mark>P. Sudarshan</mark> |\n",
       "|*Appeared on*| *2024-06-12*|\n",
       "|*Comments*| *Accepted for publication. Author version*|\n",
       "|**Abstract**|            Protoplanetary disks, the birthplace of planets, are expected to be gravitationally unstable in their early phase of evolution. IM Lup, a well-known T-Tauri star, is surrounded by a protoplanetary disk with spiral arms likely caused by gravitational instability. The IM Lup disk has been observed using various methods, but developing a unified explanatory model is challenging. Here we present a physical model of the IM Lup disk that offers a comprehensive explanation for diverse observations spanning from near-infrared to millimeter wavelengths. Our findings underscore the importance of dust fragility in retaining the observed millimeter emission and reveal the preference for moderately porous dust to explain observed millimeter polarization. We also find that the inner disk region is likely heated by gas accretion, providing a natural explanation for bright millimeter emission within 20 au. The actively heated inner region in the model casts a 100-au-scale shadow, aligning seamlessly with the near-infrared scattered light observation. The presence of accretion heating also supports the fragile dust scenario in which accretion efficiently heat the disk midplane. Due to the fragility of dust, it is unlikely that a potential embedded planet at 100 au formed via pebble accretion in a smooth disk, pointing to local dust enhancement boosting pebble accretion or alternative pathways such as outward migration or gravitational fragmentation.         |"
      ],
      "text/plain": [
       "[2406.07427] Support for fragile porous dust in a gravitationally self-regulated disk around IM Lup\n",
       "\t<mark>T. Ueda</mark>, et al. -- incl., <mark>M. Flock</mark>, <mark>P. Sudarshan</mark>"
      ]
     },
     "metadata": {},
     "output_type": "display_data"
    },
    {
     "data": {
      "text/markdown": [
       "## Failed papers"
      ],
      "text/plain": [
       "<IPython.core.display.Markdown object>"
      ]
     },
     "metadata": {},
     "output_type": "display_data"
    },
    {
     "data": {
      "text/markdown": [
       "\n",
       "|||\n",
       "|---:|:---|\n",
       "| [![arXiv](https://img.shields.io/badge/arXiv-2406.06674-b31b1b.svg)](https://arxiv.org/abs/2406.06674) | **Systematic Collapse of the Accretion Disc Across the Supermassive Black Hole Population**  |\n",
       "|| S. Hagen, et al. -- incl., <mark>J. Li</mark> |\n",
       "|*Appeared on*| *2024-06-12*|\n",
       "|*Comments*| *10 pages, 5 figure, 1 appendix - submitted to MNRAS, comments welcome*|\n",
       "|**Abstract**|            The structure of the accretion flow onto supermassive black holes (SMBH) is not well understood. Standard disc models match to zeroth order in predicting substantial energy dissipation within optically-thick material producing a characteristic strong blue/UV continuum. However they fail at reproducing more detailed comparisons to the observed spectral shapes along with their observed variability. Based on stellar mass black holes within our galaxy, accretion discs should undergo a transition into an X-ray hot, radiatively inefficient flow, below a (mass scaled) luminosity of $\\sim 0.02\\,L_{\\rm{Edd}}$. While this has been seen in limited samples of nearby low-luminosity active galactic nuclei (AGN) and a few rare changing-look AGN, it is not at all clear whether this transition is present in the wider AGN population across cosmic time. A key issue is the difficulty in disentangling a change in spectral state from increased dust obscuration and/or host galaxy contamination, effectively drowning out the AGN emission. Here we use the new eROSITA eFEDS Survey to identify unobscured AGN from their X-ray emission, matched to excellent optical imaging from Subaru's Hyper Suprime-Cam; allowing the subtraction of the host galaxy contamination. The resulting, uncontaminated, AGN spectra reveal a smooth transition from a strongly disc dominated state in bright AGN, to the collapse of the disc into an inefficient X-ray plasma in the low luminosity AGN, with the transition occurring at $\\sim 0.02\\,L_{\\rm{Edd}}$; revealing fundamental aspects of accretion physics in AGN.         |\n",
       "|<p style=\"color:green\"> **ERROR** </p>| <p style=\"color:green\">affiliation error: mpia.affiliation_verifications: 'Heidelberg' keyword not found.</p> |"
      ],
      "text/plain": [
       "<IPython.core.display.Markdown object>"
      ]
     },
     "metadata": {},
     "output_type": "display_data"
    },
    {
     "data": {
      "text/markdown": [
       "\n",
       "|||\n",
       "|---:|:---|\n",
       "| [![arXiv](https://img.shields.io/badge/arXiv-2406.06740-b31b1b.svg)](https://arxiv.org/abs/2406.06740) | **All-sky three-dimensional dust density and extinction Maps of the Milky Way out to 2.8 kpc**  |\n",
       "|| T. E. Dharmawardena, et al. -- incl., <mark>C. Bailer-Jones</mark>, <mark>M. Fouesneau</mark>, <mark>T. Müller</mark> |\n",
       "|*Appeared on*| *2024-06-12*|\n",
       "|*Comments*| *Accepted for publication in MNRAS; 13 pages in main document and 7 pages in appendix*|\n",
       "|**Abstract**|            Three-dimensional dust density maps are crucial for understanding the structure of the interstellar medium of the Milky Way and the processes that shape it. However, constructing these maps requires large datasets and the methods used to analyse them are computationally expensive and difficult to scale up. As a result it is has only recently become possible to map kiloparsec-scale regions of our Galaxy at parsec-scale grid sampling. We present all-sky three-dimensional dust density and extinction maps of the Milky Way out to 2.8~kpc in distance from the Sun using the fast and scalable Gaussian Process algorithm \\DustT. The sampling of the three-dimensional map is $l,b,d = 1^{\\circ} \\times1^{\\circ} \\times 1.7$~pc. The input extinction and distance catalogue contains 120 million stars with photometry and astrometry from Gaia DR2, 2MASS and AllWISE. This combines the strengths of optical and infrared data to probe deeper into the dusty regions of the Milky Way. We compare our maps with other published 3D dust maps. All maps quantitatively agree at the $0.001$~mag~pc$^{-1}$ scale with many qualitatively similar features, although each map also has its own features. We recover Galactic features previously identified in the literature. Moreover, we also see a large under-density that may correspond to an inter-arm or -spur gap towards the Galactic Centre.         |\n",
       "|<p style=\"color:red\"> **ERROR** </p>| <p style=\"color:red\">latex error 'PosixPath' object is not subscriptable</p> |"
      ],
      "text/plain": [
       "<IPython.core.display.Markdown object>"
      ]
     },
     "metadata": {},
     "output_type": "display_data"
    },
    {
     "data": {
      "text/markdown": [
       "\n",
       "|||\n",
       "|---:|:---|\n",
       "| [![arXiv](https://img.shields.io/badge/arXiv-2406.07439-b31b1b.svg)](https://arxiv.org/abs/2406.07439) | **Search for photons above 10$^{18}$ eV by simultaneously measuring the atmospheric depth and the muon content of air showers at the Pierre Auger Observatory**  |\n",
       "|| P. A. Collaboration, et al. |\n",
       "|*Appeared on*| *2024-06-12*|\n",
       "|*Comments*| *19 pages, 22 figures*|\n",
       "|**Abstract**|            The Pierre Auger Observatory is the most sensitive instrument to detect photons with energies above $10^{17}$ eV. It measures extensive air showers generated by ultra high energy cosmic rays using a hybrid technique that exploits the combination of a fluorescence detector with a ground array of particle detectors. The signatures of a photon-induced air shower are a larger atmospheric depth of the shower maximum ($X_{max}$) and a steeper lateral distribution function, along with a lower number of muons with respect to the bulk of hadron-induced cascades. In this work, a new analysis technique in the energy interval between 1 and 30 EeV (1 EeV = $10^{18}$ eV) has been developed by combining the fluorescence detector-based measurement of $X_{max}$ with the specific features of the surface detector signal through a parameter related to the air shower muon content, derived from the universality of the air shower development. No evidence of a statistically significant signal due to photon primaries was found using data collected in about 12 years of operation. Thus, upper bounds to the integral photon flux have been set using a detailed calculation of the detector exposure, in combination with a data-driven background estimation. The derived 95% confidence level upper limits are 0.0403, 0.01113, 0.0035, 0.0023, and 0.0021 km$^{-2}$ sr$^{-1}$ yr$^{-1}$ above 1, 2, 3, 5, and 10 EeV, respectively, leading to the most stringent upper limits on the photon flux in the EeV range. Compared with past results, the upper limits were improved by about 40% for the lowest energy threshold and by a factor 3 above 3 EeV, where no candidates were found and the expected background is negligible. The presented limits can be used to probe the assumptions on chemical composition of ultra-high energy cosmic rays and allow for the constraint of the mass and lifetime phase space of super-heavy dark matter particles.         |\n",
       "|<p style=\"color:red\"> **ERROR** </p>| <p style=\"color:red\">latex error 'PosixPath' object is not subscriptable</p> |"
      ],
      "text/plain": [
       "<IPython.core.display.Markdown object>"
      ]
     },
     "metadata": {},
     "output_type": "display_data"
    }
   ],
   "source": [
    "import datetime\n",
    "today = str(datetime.date.today())\n",
    "logfile = f\"_build/html/logs/log-{today}.md\"\n",
    "\n",
    "\n",
    "with open(logfile, 'w') as logs:\n",
    "    # Success\n",
    "    logs.write(f'# Arxiv on Deck 2: Logs - {today}\\n\\n')\n",
    "    logs.write(\"\"\"* Arxiv had {0:,d} new papers\\n\"\"\".format(len(new_papers)))\n",
    "    logs.write(\"\"\"    * {0:,d} with possible author matches\\n\\n\"\"\".format(len(candidates)))\n",
    "    logs.write(\"## Sucessful papers\\n\\n\")\n",
    "    display(Markdown(\"## Successful papers\"))\n",
    "    success = [k[0] for k in documents]\n",
    "    for candid in candidates:\n",
    "        if candid['identifier'].split(':')[-1] in success:\n",
    "            display(candid)\n",
    "            logs.write(candid.generate_markdown_text() + '\\n\\n')\n",
    "\n",
    "    ## failed\n",
    "    logs.write(\"## Failed papers\\n\\n\")\n",
    "    display(Markdown(\"## Failed papers\"))\n",
    "    failed = sorted(failed, key=lambda x: x[1])\n",
    "    current_reason = \"\"\n",
    "    for paper, reason in failed:\n",
    "        if 'affiliation' in reason:\n",
    "            color = 'green'\n",
    "        else:\n",
    "            color = 'red'\n",
    "        data = Markdown(\n",
    "                paper.generate_markdown_text() + \n",
    "                f'\\n|<p style=\"color:{color:s}\"> **ERROR** </p>| <p style=\"color:{color:s}\">{reason:s}</p> |'\n",
    "               )\n",
    "        if reason != current_reason:\n",
    "            logs.write(f'### {reason:s} \\n\\n')\n",
    "            current_reason = reason\n",
    "        logs.write(data.data + '\\n\\n')\n",
    "        \n",
    "        # only display here the important errors (all in logs)\n",
    "        # if color in ('red',):\n",
    "        display(data)"
   ]
  },
  {
   "cell_type": "markdown",
   "id": "472d20ee",
   "metadata": {
    "papermill": {
     "duration": 0.004313,
     "end_time": "2024-06-12T04:09:25.193353",
     "exception": false,
     "start_time": "2024-06-12T04:09:25.189040",
     "status": "completed"
    },
    "tags": []
   },
   "source": [
    "## Export documents\n",
    "\n",
    "We now write the .md files and export relevant images"
   ]
  },
  {
   "cell_type": "code",
   "execution_count": 7,
   "id": "d426aed9",
   "metadata": {
    "execution": {
     "iopub.execute_input": "2024-06-12T04:09:25.203030Z",
     "iopub.status.busy": "2024-06-12T04:09:25.202606Z",
     "iopub.status.idle": "2024-06-12T04:09:25.208908Z",
     "shell.execute_reply": "2024-06-12T04:09:25.208312Z"
    },
    "papermill": {
     "duration": 0.012471,
     "end_time": "2024-06-12T04:09:25.210169",
     "exception": false,
     "start_time": "2024-06-12T04:09:25.197698",
     "status": "completed"
    },
    "tags": []
   },
   "outputs": [],
   "source": [
    "def export_markdown_summary(md: str, md_fname:str, directory: str):\n",
    "    \"\"\"Export MD document and associated relevant images\"\"\"\n",
    "    import os\n",
    "    import shutil\n",
    "    import re\n",
    "\n",
    "    if (os.path.exists(directory) and not os.path.isdir(directory)):\n",
    "        raise RuntimeError(f\"a non-directory file exists with name {directory:s}\")\n",
    "\n",
    "    if (not os.path.exists(directory)):\n",
    "        print(f\"creating directory {directory:s}\")\n",
    "        os.mkdir(directory)\n",
    "\n",
    "    fig_fnames = (re.compile(r'\\[Fig.*\\]\\((.*)\\)').findall(md) + \n",
    "                  re.compile(r'\\<img src=\"([^>\\s]*)\"[^>]*/>').findall(md))\n",
    "    for fname in fig_fnames:\n",
    "        if 'http' in fname:\n",
    "            # No need to copy online figures\n",
    "            continue\n",
    "        destdir = os.path.join(directory, os.path.dirname(fname))\n",
    "        destfname = os.path.join(destdir, os.path.basename(fname))\n",
    "        try:\n",
    "            os.makedirs(destdir)\n",
    "        except FileExistsError:\n",
    "            pass\n",
    "        shutil.copy(fname, destfname)\n",
    "    with open(os.path.join(directory, md_fname), 'w') as fout:\n",
    "        fout.write(md)\n",
    "    print(\"exported in \", os.path.join(directory, md_fname))\n",
    "    [print(\"    + \" + os.path.join(directory,fk)) for fk in fig_fnames]"
   ]
  },
  {
   "cell_type": "code",
   "execution_count": 8,
   "id": "014d04a4",
   "metadata": {
    "execution": {
     "iopub.execute_input": "2024-06-12T04:09:25.219764Z",
     "iopub.status.busy": "2024-06-12T04:09:25.219584Z",
     "iopub.status.idle": "2024-06-12T04:09:25.225980Z",
     "shell.execute_reply": "2024-06-12T04:09:25.225385Z"
    },
    "papermill": {
     "duration": 0.012639,
     "end_time": "2024-06-12T04:09:25.227245",
     "exception": false,
     "start_time": "2024-06-12T04:09:25.214606",
     "status": "completed"
    },
    "tags": []
   },
   "outputs": [
    {
     "name": "stdout",
     "output_type": "stream",
     "text": [
      "exported in  _build/html/2406.06697.md\n",
      "    + _build/html/tmp_2406.06697/./regions.png\n",
      "    + _build/html/tmp_2406.06697/./lineRGB_c2.png\n",
      "    + _build/html/tmp_2406.06697/./velfield.png\n",
      "    + _build/html/tmp_2406.06697/./fig_spec_panels.png\n",
      "    + _build/html/tmp_2406.06697/./linemapne.png\n",
      "    + _build/html/tmp_2406.06697/./linemapTe.png\n",
      "    + _build/html/tmp_2406.06697/./linemapZ.png\n",
      "exported in  _build/html/2406.07427.md\n",
      "    + _build/html/tmp_2406.07427/././figs/SFig2.png\n",
      "    + _build/html/tmp_2406.07427/././figs/SFig5.png\n",
      "    + _build/html/tmp_2406.07427/././figs/Fig3.png\n"
     ]
    }
   ],
   "source": [
    "for paper_id, md in documents:\n",
    "    export_markdown_summary(md, f\"{paper_id:s}.md\", '_build/html/')"
   ]
  },
  {
   "cell_type": "markdown",
   "id": "f087a0a7",
   "metadata": {
    "papermill": {
     "duration": 0.004392,
     "end_time": "2024-06-12T04:09:25.236125",
     "exception": false,
     "start_time": "2024-06-12T04:09:25.231733",
     "status": "completed"
    },
    "tags": []
   },
   "source": [
    "## Display the papers\n",
    "\n",
    "Not necessary but allows for a quick check."
   ]
  },
  {
   "cell_type": "code",
   "execution_count": 9,
   "id": "fd25f625",
   "metadata": {
    "execution": {
     "iopub.execute_input": "2024-06-12T04:09:25.245972Z",
     "iopub.status.busy": "2024-06-12T04:09:25.245640Z",
     "iopub.status.idle": "2024-06-12T04:09:25.250952Z",
     "shell.execute_reply": "2024-06-12T04:09:25.250365Z"
    },
    "papermill": {
     "duration": 0.011776,
     "end_time": "2024-06-12T04:09:25.252307",
     "exception": false,
     "start_time": "2024-06-12T04:09:25.240531",
     "status": "completed"
    },
    "scrolled": false,
    "tags": []
   },
   "outputs": [
    {
     "data": {
      "text/markdown": [
       "<div class=\"macros\" style=\"visibility:hidden;\">\n",
       "$\\newcommand{\\ensuremath}{}$\n",
       "$\\newcommand{\\xspace}{}$\n",
       "$\\newcommand{\\object}[1]{\\texttt{#1}}$\n",
       "$\\newcommand{\\farcs}{{.}''}$\n",
       "$\\newcommand{\\farcm}{{.}'}$\n",
       "$\\newcommand{\\arcsec}{''}$\n",
       "$\\newcommand{\\arcmin}{'}$\n",
       "$\\newcommand{\\ion}[2]{#1#2}$\n",
       "$\\newcommand{\\textsc}[1]{\\textrm{#1}}$\n",
       "$\\newcommand{\\hl}[1]{\\textrm{#1}}$\n",
       "$\\newcommand{\\footnote}[1]{}$\n",
       "$\\newcommand{\\Lsun}{L_\\odot}$\n",
       "$\\newcommand{\\Msun}{M_\\odot}$\n",
       "$\\newcommand{\\Zsun}{Z_\\odot}$\n",
       "$\\newcommand{\\Mbh}{M_{\\rm BH}}$\n",
       "$\\newcommand{\\Lhost}{L_{\\rm host}}$\n",
       "$\\newcommand{\\Mhost}{M_{\\rm host}}$\n",
       "$\\newcommand{\\Lya}{Ly\\alpha}$\n",
       "$\\newcommand{\\Ha}{H\\alpha}$\n",
       "$\\newcommand{\\Hb}{H\\beta}$\n",
       "$\\newcommand{\\Hg}{H\\gamma}$\n",
       "$\\newcommand{\\Hd}{H\\delta}$\n",
       "$\\newcommand{\\Hi}{H {\\sc i}}$\n",
       "$\\newcommand{\\Hii}{H {\\sc ii}}$\n",
       "$\\newcommand{\\Hei}{He {\\sc i}}$\n",
       "$\\newcommand{\\Heii}{He {\\sc ii}}$\n",
       "$\\newcommand{\\Ci}{[C {\\sc i}]}$\n",
       "$\\newcommand{\\Cii}{[C {\\sc ii}]}$\n",
       "$\\newcommand{\\Civ}{C {\\sc iv}}$\n",
       "$\\newcommand{\\Nii}{[N {\\sc ii}]}$\n",
       "$\\newcommand{\\Niv}{[N {\\sc iv}]}$\n",
       "$\\newcommand{\\Oi}{[O {\\sc i}]}$\n",
       "$\\newcommand{\\Oii}{[O {\\sc ii}]}$\n",
       "$\\newcommand{\\Oiii}{[O {\\sc iii}]}$\n",
       "$\\newcommand{\\Sii}{[S {\\sc ii}]}$\n",
       "$\\newcommand{\\kms}{km s^{-1}}$\n",
       "$\\newcommand{\\um}{\\mum}$\n",
       "$\\newcommand{\\jykms}{Jy~km s^{-1}}$\n",
       "$\\newcommand{\\Kkmspc}{K~km s^{-1} pc^2}$\n",
       "$\\newcommand{\\lsim}{\\mathrel{\\rlap{\\lower 3pt \\hbox{\\sim}} \\raise 2.0pt \\hbox{<}}}$\n",
       "$\\newcommand{\\gsim}{\\mathrel{\\rlap{\\lower 3pt \\hbox{\\sim}} \\raise 2.0pt \\hbox{>}}}$</div>\n",
       "\n",
       "\n",
       "\n",
       "<div id=\"title\">\n",
       "\n",
       "# A quasar-galaxy merger at $z\\sim 6.2$: rapid host growth via accretion of two massive satellite galaxies\n",
       "\n",
       "</div>\n",
       "<div id=\"comments\">\n",
       "\n",
       "[![arXiv](https://img.shields.io/badge/arXiv-2406.06697-b31b1b.svg)](https://arxiv.org/abs/2406.06697)<mark>Appeared on: 2024-06-12</mark> -  _15 pages, 16 figures. Accepted for publication in A&A_\n",
       "\n",
       "</div>\n",
       "<div id=\"authors\">\n",
       "\n",
       "R. Decarli, et al. -- incl., <mark>F. Walter</mark>, <mark>E. Bañados</mark>, <mark>S. Bosman</mark>, <mark>H.-W. Rix</mark>\n",
       "\n",
       "</div>\n",
       "<div id=\"abstract\">\n",
       "\n",
       "**Abstract:** We present JWST/NIRSpec Integral Field Spectroscopy in the rest-frame optical bands of the system PJ308--21, a quasar at $z=6.2342$ caught as its host galaxy interacts with companion galaxies. We detect spatially extended emission of several emission lines ( $\\Ha$ , $\\Hb$ , $\\Oiii$ , $\\Nii$ , $\\Sii$ , $\\Heii$ ), which we use to study the properties of the ionized phase of the interstellar medium: the source and hardness of the photoionizing radiation field, metallicity, dust reddening, electron density and temperature, and star formation. We also marginally detect continuum starlight emission associated with the companion sources. We find that at least two independent satellite galaxies are part of the system. While the quasar host appears highly enriched and obscured, with AGN-like photoionization conditions, the western companion shows minimal dust extinction, low metallicity ( $Z\\sim0.4$ $\\Zsun$ ), and star-formation driven photoionization. The eastern companion shows higher extinction and metallicity ( $Z\\sim0.8$ $\\Zsun$ ) compared to the western companion, and it is at least partially photoionized by the nearby quasar. We do not find any indication of AGN in the companion sources. Our study shows that while the quasar host galaxy is already very massive ( $M_{\\rm dyn}>10^{11}$ $\\Msun$ ), it is still rapidly building up by accreting two relatively massive ( $M_{\\rm star}\\sim 10^{10}$ $\\Msun$ ) companion sources. This dataset showcases the power of JWST in exposing the build-up of massive galaxies in the first Gyr of the Universe.\n",
       "\n",
       "</div>\n",
       "\n",
       "<div id=\"div_fig1\">\n",
       "\n",
       "<img src=\"tmp_2406.06697/./regions.png\" alt=\"Fig15.1\" width=\"50%\"/><img src=\"tmp_2406.06697/./lineRGB_c2.png\" alt=\"Fig15.2\" width=\"50%\"/>\n",
       "\n",
       "**Figure 15. -** * Left:* The $\\Oi$ii$_{\\rm 5007 Å}$ line emission map in the quasar+companion galaxies system PJ308--21 at $z$=6.2342, shown in gray scale (after PSF subtraction). The footprints of the NIRSpec IFU pointings are displayed in grey. We also mark the regions of the main components of the system with colored shading. * Right:* The same $\\Oi$ii$_{\\rm 5007 Å }$ map (in blue), now with the $\\Ci$i$_{\\rm 158 \\mu m}$ map from \\citet{decarli19} superimposed. The main regions are identified with ellipses: From left to right, the eastern companion (red), the outflow (orange), the quasar host galaxy (green), the bridge (cyan), and the western companion (blue). The $\\Oi$ii  emission arises from the regions where $\\Ci$i  is brightest, except for the \"outflow\" component where the $\\Oi$ii  emission stretches beyond the $\\Ci$i  emission. (*fig_system_map*)\n",
       "\n",
       "</div>\n",
       "<div id=\"div_fig2\">\n",
       "\n",
       "<img src=\"tmp_2406.06697/./velfield.png\" alt=\"Fig2.1\" width=\"50%\"/><img src=\"tmp_2406.06697/./fig_spec_panels.png\" alt=\"Fig2.2\" width=\"50%\"/>\n",
       "\n",
       "**Figure 2. -** Velocity maps of $\\Oi$ii$_{5007 Å}$ in the PJ308--21 system (* top panel*). The system shows a prominent velocity gradient: The western companion and the bridge connecting it to the quasar host galaxies show a blue shift of $\\Delta v\\approx-650$  and $-880$\\kms  respectively compared to the system rest frame ($z=6.2342$, based on the $\\Ci$i  emission). The host galaxy shows a prominent velocity gradient from South ($\\Delta v\\approx -700$\\kms) to North ($\\Delta v = +140$\\kms). The eastern companion is redshifted with respect to the system's rest frame, with $\\Delta v$ increasing at increasing distance from the quasar (up to $\\Delta v \\approx 650$\\kms). The eastern companion shows a modest velocity dispersion ($\\sigma_{\\rm line}<140$\\kms).  (*fig_gas_kin*)\n",
       "\n",
       "</div>\n",
       "<div id=\"div_fig3\">\n",
       "\n",
       "<img src=\"tmp_2406.06697/./linemapne.png\" alt=\"Fig9.1\" width=\"33%\"/><img src=\"tmp_2406.06697/./linemapTe.png\" alt=\"Fig9.2\" width=\"33%\"/><img src=\"tmp_2406.06697/./linemapZ.png\" alt=\"Fig9.3\" width=\"33%\"/>\n",
       "\n",
       "**Figure 9. -** Maps of the electron density, $n_e$({\\rm top}), based on the $\\Sii$$_{6717 Å }$/$\\Sii$$_{6731 Å }$ ratio; of the electron temperature, $T_e$, based on the $\\Oi$ii$_{5007 Å }$/$\\Oi$ii$_{4363 Å }$ line ratio; and of the gas--phase metallicity $Z$, based on the Scal-PG16 method (see text for details). (*fig_map_electron_nT*)\n",
       "\n",
       "</div><div id=\"qrcode\"><img src=https://api.qrserver.com/v1/create-qr-code/?size=100x100&data=\"https://arxiv.org/abs/2406.06697\"></div>"
      ],
      "text/plain": [
       "<IPython.core.display.Markdown object>"
      ]
     },
     "metadata": {},
     "output_type": "display_data"
    },
    {
     "data": {
      "text/markdown": [
       "<div class=\"macros\" style=\"visibility:hidden;\">\n",
       "$\\newcommand{\\ensuremath}{}$\n",
       "$\\newcommand{\\xspace}{}$\n",
       "$\\newcommand{\\object}[1]{\\texttt{#1}}$\n",
       "$\\newcommand{\\farcs}{{.}''}$\n",
       "$\\newcommand{\\farcm}{{.}'}$\n",
       "$\\newcommand{\\arcsec}{''}$\n",
       "$\\newcommand{\\arcmin}{'}$\n",
       "$\\newcommand{\\ion}[2]{#1#2}$\n",
       "$\\newcommand{\\textsc}[1]{\\textrm{#1}}$\n",
       "$\\newcommand{\\hl}[1]{\\textrm{#1}}$\n",
       "$\\newcommand{\\footnote}[1]{}$\n",
       "$\\newcommand$\n",
       "$\\newcommand{\\baselinestretch}{1.0}$\n",
       "$\\newcommand{\\refname}{References in the main text}$\n",
       "$\\newcommand{\\refname}{References in Methods}$\n",
       "$\\newcommand{\\figurename}{Supplementary Figure}$\n",
       "$\\newcommand{\\refname}{References in Supplementary information}$</div>\n",
       "\n",
       "\n",
       "\n",
       "<div id=\"title\">\n",
       "\n",
       "# $\\bf$ Support for fragile porous dust in a gravitationally self-regulated disk around IM Lup\n",
       "\n",
       "</div>\n",
       "<div id=\"comments\">\n",
       "\n",
       "[![arXiv](https://img.shields.io/badge/arXiv-2406.07427-b31b1b.svg)](https://arxiv.org/abs/2406.07427)<mark>Appeared on: 2024-06-12</mark> -  _Accepted for publication. Author version_\n",
       "\n",
       "</div>\n",
       "<div id=\"authors\">\n",
       "\n",
       "<mark>T. Ueda</mark>, et al. -- incl., <mark>M. Flock</mark>, <mark>P. Sudarshan</mark>\n",
       "\n",
       "</div>\n",
       "<div id=\"abstract\">\n",
       "\n",
       "**Abstract:** Protoplanetary disks, the birthplace of planets, are expected to be gravitationally unstable in their early phase of evolution.IM Lup, a well-known T-Tauri star, is surrounded by a protoplanetary disk with spiral arms likely caused by gravitational instability.The IM Lup disk has been observed using various methods, but developing a unified explanatory model is challenging.Here we present a physical model of the IM Lup disk that offers a comprehensive explanation for diverse observations spanning from near-infrared to millimeter wavelengths.Our findings underscore the importance of dust fragility in retaining the observed millimeter emission and reveal the preference for moderately porous dust to explain observed millimeter polarization.We also find that the inner disk region is likely heated by gas accretion, providing a natural explanation for bright millimeter emission within 20 au.The actively heated inner region in the model casts a 100-au-scale shadow, aligning seamlessly with the near-infrared scattered light observation.The presence of accretion heating also supports the fragile dust scenario in which accretion efficiently heat the disk midplane.Due to the fragility of dust, it is unlikely that a potential embedded planet at 100 au formed via pebble accretion in a smooth disk, pointing to local dust enhancement boosting pebble accretion or alternative pathways such as outward migration or gravitational fragmentation.\n",
       "\n",
       "</div>\n",
       "\n",
       "<div id=\"div_fig1\">\n",
       "\n",
       "<img src=\"tmp_2406.07427/././figs/SFig2.png\" alt=\"Fig8\" width=\"100%\"/>\n",
       "\n",
       "**Figure 8. -** \n",
       "Opacities at $\\lambda=1.3$ mm obtained from our dust model.\n",
       "Left: absorption opacity.\n",
       "Right: polarization efficiency which is described by the product of the degree of linear polarization at scattering angle of $90^{\\circ}$ and effective albedo.\n",
       "The red solid line and blue dashed line denote compact ($f=0$) and porous ($f=0.2$) dust model, respectively.\n",
       "The green dash-dotted line denotes the dust opacity with $f=0.01$ for reference.\n",
       "The dust size distribution is assumed to have a power-law index of $-3$.\n",
       " (*fig:opac*)\n",
       "\n",
       "</div>\n",
       "<div id=\"div_fig2\">\n",
       "\n",
       "<img src=\"tmp_2406.07427/././figs/SFig5.png\" alt=\"Fig11\" width=\"100%\"/>\n",
       "\n",
       "**Figure 11. -** \n",
       "Summary of our model of the gas disk around IM Lup.\n",
       "The black solid line denotes our model.\n",
       "The blue solid line and red dotted line denotes the model with temperature solely determined by stellar irradiation ($T_{\\rm MAPS}$; Eq. \\ref{eq:Sierra}) and by accretion heating ($T_{\\rm GSR,acc}$; Eq. \\ref{eq:T_acc}), respectively.\n",
       "The blue dashed lines show the conventional model \\cite{Zhang+21} for which we assume $h_{\\rm g}=c_{\\rm s}/\\Omega_{\\rm K}$.\n",
       "Left: midplane temperature profile. The gray solid line in the left panel denotes the observed brightness temperature at $\\lambda=1.25 {\\rm mm}$ taken by the ALMA DSHARP program \\cite{Andrews+18}.\n",
       "The green dash-dotted line denotes the temperature determined by external radiation (15 K).\n",
       "Middle: gas surface density. The green dash-dotted line denotes the Minimum-Mass Solar Nebula model \\cite{Hayashi81}.\n",
       "Left: accretion parameter $\\alpha_{\\rm acc}$.\n",
       " (*fig:disk*)\n",
       "\n",
       "</div>\n",
       "<div id=\"div_fig3\">\n",
       "\n",
       "<img src=\"tmp_2406.07427/././figs/Fig3.png\" alt=\"Fig1\" width=\"100%\"/>\n",
       "\n",
       "**Figure 1. -** \n",
       "Comparison of the 1.25 mm intensity profile obtained from our models and the DSHARP observation.\n",
       "The red, green, blue and purple solid lines denote the model with $v_{\\rm f}=0.3$, 1, 3 and 10 ${\\rm m s^{-1}}$, respectively, while the black solid line denotes the observed value obtained from DSHARP observation \\cite{Andrews+18}.\n",
       "The left panel shows our standard model in which the disk temperature is determined by accretion heating and external irradiation, while the right panel shows the model based on the temperature model in which the heating is solely by stellar irradiation (Eq. \\ref{eq:Sierra}).\n",
       " (*fig:dsharp*)\n",
       "\n",
       "</div><div id=\"qrcode\"><img src=https://api.qrserver.com/v1/create-qr-code/?size=100x100&data=\"https://arxiv.org/abs/2406.07427\"></div>"
      ],
      "text/plain": [
       "<IPython.core.display.Markdown object>"
      ]
     },
     "metadata": {},
     "output_type": "display_data"
    }
   ],
   "source": [
    "[display(Markdown(k[1])) for k in documents];"
   ]
  },
  {
   "cell_type": "markdown",
   "id": "873873a4",
   "metadata": {
    "papermill": {
     "duration": 0.004746,
     "end_time": "2024-06-12T04:09:25.262030",
     "exception": false,
     "start_time": "2024-06-12T04:09:25.257284",
     "status": "completed"
    },
    "tags": []
   },
   "source": [
    "# Create HTML index"
   ]
  },
  {
   "cell_type": "code",
   "execution_count": 10,
   "id": "cf665672",
   "metadata": {
    "execution": {
     "iopub.execute_input": "2024-06-12T04:09:25.272643Z",
     "iopub.status.busy": "2024-06-12T04:09:25.272229Z",
     "iopub.status.idle": "2024-06-12T04:09:25.278968Z",
     "shell.execute_reply": "2024-06-12T04:09:25.278448Z"
    },
    "papermill": {
     "duration": 0.01348,
     "end_time": "2024-06-12T04:09:25.280256",
     "exception": false,
     "start_time": "2024-06-12T04:09:25.266776",
     "status": "completed"
    },
    "tags": []
   },
   "outputs": [
    {
     "name": "stdout",
     "output_type": "stream",
     "text": [
      "92  publications files modified in the last 7 days.\n"
     ]
    }
   ],
   "source": [
    "from datetime import datetime, timedelta, timezone\n",
    "from glob import glob\n",
    "import os\n",
    "\n",
    "files = glob('_build/html/*.md')\n",
    "days = 7\n",
    "now = datetime.today()\n",
    "res = []\n",
    "for fk in files:\n",
    "    stat_result = os.stat(fk).st_ctime\n",
    "    modified = datetime.fromtimestamp(stat_result, tz=timezone.utc).replace(tzinfo=None)\n",
    "    delta = now.today() - modified\n",
    "    if delta <= timedelta(days=days):\n",
    "        res.append((delta.seconds, fk))\n",
    "res = [k[1] for k in reversed(sorted(res, key=lambda x:x[1]))]\n",
    "npub = len(res)\n",
    "print(len(res), f\" publications files modified in the last {days:d} days.\")\n",
    "# [ print('\\t', k) for k in res ];"
   ]
  },
  {
   "cell_type": "code",
   "execution_count": 11,
   "id": "015de740",
   "metadata": {
    "execution": {
     "iopub.execute_input": "2024-06-12T04:09:25.290843Z",
     "iopub.status.busy": "2024-06-12T04:09:25.290504Z",
     "iopub.status.idle": "2024-06-12T04:09:25.301135Z",
     "shell.execute_reply": "2024-06-12T04:09:25.300613Z"
    },
    "papermill": {
     "duration": 0.017257,
     "end_time": "2024-06-12T04:09:25.302393",
     "exception": false,
     "start_time": "2024-06-12T04:09:25.285136",
     "status": "completed"
    },
    "tags": []
   },
   "outputs": [
    {
     "name": "stdout",
     "output_type": "stream",
     "text": [
      "10  publications in the last 7 days.\n"
     ]
    }
   ],
   "source": [
    "import datetime\n",
    "from glob import glob\n",
    "\n",
    "def get_last_n_days(lst, days=1):\n",
    "    \"\"\" Get the documents from the last n days \"\"\"\n",
    "    sorted_lst = sorted(lst, key=lambda x: x[1], reverse=True)\n",
    "    for fname, date in sorted_lst:\n",
    "        if date >= str(datetime.date.today() - datetime.timedelta(days=days)):\n",
    "            yield fname\n",
    "\n",
    "def extract_appearance_dates(lst_file):\n",
    "    dates = []\n",
    "\n",
    "    def get_date(line):\n",
    "        return line\\\n",
    "            .split('Appeared on:')[-1]\\\n",
    "            .split('</mark>')[0].strip()\n",
    "\n",
    "    for fname in lst:\n",
    "        with open(fname, 'r') as f:\n",
    "            found_date = False\n",
    "            for line in f:\n",
    "                if not found_date:\n",
    "                    if \"Appeared on\" in line:\n",
    "                        found_date = True\n",
    "                        dates.append((fname, get_date(line)))\n",
    "                else:\n",
    "                    break\n",
    "    return dates\n",
    "\n",
    "from glob import glob\n",
    "lst = glob('_build/html/*md')\n",
    "days = 7\n",
    "dates = extract_appearance_dates(lst)\n",
    "res = list(get_last_n_days(dates, days))\n",
    "npub = len(res)\n",
    "print(len(res), f\" publications in the last {days:d} days.\")"
   ]
  },
  {
   "cell_type": "code",
   "execution_count": 12,
   "id": "52ca0208",
   "metadata": {
    "execution": {
     "iopub.execute_input": "2024-06-12T04:09:25.313528Z",
     "iopub.status.busy": "2024-06-12T04:09:25.313030Z",
     "iopub.status.idle": "2024-06-12T04:09:25.317872Z",
     "shell.execute_reply": "2024-06-12T04:09:25.317271Z"
    },
    "papermill": {
     "duration": 0.011783,
     "end_time": "2024-06-12T04:09:25.319144",
     "exception": false,
     "start_time": "2024-06-12T04:09:25.307361",
     "status": "completed"
    },
    "scrolled": false,
    "tags": []
   },
   "outputs": [],
   "source": [
    "def create_carousel(npub=4):\n",
    "    \"\"\" Generate the HTML code for a carousel with `npub` slides \"\"\"\n",
    "    carousel = [\"\"\"  <div class=\"carousel\" \"\"\",\n",
    "                \"\"\"       data-flickity='{ \"autoPlay\": 10000, \"adaptiveHeight\": true, \"resize\": true, \"wrapAround\": true, \"pauseAutoPlayOnHover\": true, \"groupCells\": 1 }' id=\"asyncTypeset\">\"\"\"\n",
    "                ]\n",
    "    \n",
    "    item_str = \"\"\"    <div class=\"carousel-cell\"> <div id=\"slide{k}\" class=\"md_view\">Content {k}</div> </div>\"\"\"\n",
    "    for k in range(1, npub + 1):\n",
    "        carousel.append(item_str.format(k=k))\n",
    "    carousel.append(\"  </div>\")\n",
    "    return '\\n'.join(carousel)\n",
    "\n",
    "def create_grid(npub=4):\n",
    "    \"\"\" Generate the HTML code for a flat grid with `npub` slides \"\"\"\n",
    "    grid = [\"\"\"  <div class=\"grid\"> \"\"\",\n",
    "                ]\n",
    "    \n",
    "    item_str = \"\"\"    <div class=\"grid-item\"> <div id=\"slide{k}\" class=\"md_view\">Content {k}</div> </div>\"\"\"\n",
    "    for k in range(1, npub + 1):\n",
    "        grid.append(item_str.format(k=k))\n",
    "    grid.append(\"  </div>\")\n",
    "    return '\\n'.join(grid)"
   ]
  },
  {
   "cell_type": "code",
   "execution_count": 13,
   "id": "a6eac5b6",
   "metadata": {
    "execution": {
     "iopub.execute_input": "2024-06-12T04:09:25.330250Z",
     "iopub.status.busy": "2024-06-12T04:09:25.329823Z",
     "iopub.status.idle": "2024-06-12T04:09:25.334692Z",
     "shell.execute_reply": "2024-06-12T04:09:25.334095Z"
    },
    "papermill": {
     "duration": 0.011852,
     "end_time": "2024-06-12T04:09:25.336037",
     "exception": false,
     "start_time": "2024-06-12T04:09:25.324185",
     "status": "completed"
    },
    "scrolled": false,
    "tags": []
   },
   "outputs": [],
   "source": [
    "carousel = create_carousel(npub)\n",
    "docs = ', '.join(['\"{0:s}\"'.format(k.split('/')[-1]) for k in res])\n",
    "slides = ', '.join([f'\"slide{k}\"' for k in range(1, npub + 1)])\n",
    "\n",
    "with open(\"daily_template.html\", \"r\") as tpl:\n",
    "    page = tpl.read()\n",
    "    page = page.replace(\"{%-- carousel:s --%}\", carousel)\\\n",
    "               .replace(\"{%-- suptitle:s --%}\",  \"7-day archives\" )\\\n",
    "               .replace(\"{%-- docs:s --%}\", docs)\\\n",
    "               .replace(\"{%-- slides:s --%}\", slides)\n",
    "    \n",
    "with open(\"_build/html/index_7days.html\", 'w') as fout:\n",
    "    fout.write(page)"
   ]
  },
  {
   "cell_type": "code",
   "execution_count": 14,
   "id": "adc1a1ec",
   "metadata": {
    "execution": {
     "iopub.execute_input": "2024-06-12T04:09:25.347153Z",
     "iopub.status.busy": "2024-06-12T04:09:25.346663Z",
     "iopub.status.idle": "2024-06-12T04:09:25.352606Z",
     "shell.execute_reply": "2024-06-12T04:09:25.351983Z"
    },
    "papermill": {
     "duration": 0.012823,
     "end_time": "2024-06-12T04:09:25.353870",
     "exception": false,
     "start_time": "2024-06-12T04:09:25.341047",
     "status": "completed"
    },
    "tags": []
   },
   "outputs": [
    {
     "name": "stdout",
     "output_type": "stream",
     "text": [
      "3  publications in the last day.\n"
     ]
    }
   ],
   "source": [
    "# redo for today\n",
    "days = 1\n",
    "res = list(get_last_n_days(dates, days))\n",
    "npub = len(res)\n",
    "print(len(res), f\" publications in the last day.\")\n",
    "\n",
    "carousel = create_carousel(npub)\n",
    "docs = ', '.join(['\"{0:s}\"'.format(k.split('/')[-1]) for k in res])\n",
    "slides = ', '.join([f'\"slide{k}\"' for k in range(1, npub + 1)])\n",
    "\n",
    "with open(\"daily_template.html\", \"r\") as tpl:\n",
    "    page = tpl.read()\n",
    "    page = page.replace(\"{%-- carousel:s --%}\", carousel)\\\n",
    "               .replace(\"{%-- suptitle:s --%}\",  \"Daily\" )\\\n",
    "               .replace(\"{%-- docs:s --%}\", docs)\\\n",
    "               .replace(\"{%-- slides:s --%}\", slides)\n",
    "    \n",
    "# print(carousel, docs, slides)\n",
    "# print(page)\n",
    "with open(\"_build/html/index_daily.html\", 'w') as fout:\n",
    "    fout.write(page)"
   ]
  },
  {
   "cell_type": "code",
   "execution_count": 15,
   "id": "00eece82",
   "metadata": {
    "execution": {
     "iopub.execute_input": "2024-06-12T04:09:25.365184Z",
     "iopub.status.busy": "2024-06-12T04:09:25.364807Z",
     "iopub.status.idle": "2024-06-12T04:09:25.370957Z",
     "shell.execute_reply": "2024-06-12T04:09:25.370355Z"
    },
    "papermill": {
     "duration": 0.013135,
     "end_time": "2024-06-12T04:09:25.372178",
     "exception": false,
     "start_time": "2024-06-12T04:09:25.359043",
     "status": "completed"
    },
    "scrolled": false,
    "tags": []
   },
   "outputs": [
    {
     "name": "stdout",
     "output_type": "stream",
     "text": [
      "6  6 publications selected.\n"
     ]
    }
   ],
   "source": [
    "# Create the flat grid of the last N papers (fixed number regardless of dates)\n",
    "from itertools import islice \n",
    "\n",
    "npub = 6\n",
    "res = [k[0] for k in (islice(reversed(sorted(dates, key=lambda x: x[1])), 6))]\n",
    "print(len(res), f\" {npub} publications selected.\")\n",
    "\n",
    "grid = create_grid(npub)\n",
    "docs = ', '.join(['\"{0:s}\"'.format(k.split('/')[-1]) for k in res])\n",
    "slides = ', '.join([f'\"slide{k}\"' for k in range(1, npub + 1)])\n",
    "\n",
    "with open(\"grid_template.html\", \"r\") as tpl:\n",
    "    page = tpl.read()\n",
    "    page = page.replace(\"{%-- grid-content:s --%}\", grid)\\\n",
    "               .replace(\"{%-- suptitle:s --%}\",  f\"Last {npub:,d} papers\" )\\\n",
    "               .replace(\"{%-- docs:s --%}\", docs)\\\n",
    "               .replace(\"{%-- slides:s --%}\", slides)\n",
    "    \n",
    "# print(grid, docs, slides)\n",
    "# print(page)\n",
    "with open(\"_build/html/index_npub_grid.html\", 'w') as fout:\n",
    "    fout.write(page)"
   ]
  }
 ],
 "metadata": {
  "kernelspec": {
   "display_name": "Python 3 (ipykernel)",
   "language": "python",
   "name": "python3"
  },
  "language_info": {
   "codemirror_mode": {
    "name": "ipython",
    "version": 3
   },
   "file_extension": ".py",
   "mimetype": "text/x-python",
   "name": "python",
   "nbconvert_exporter": "python",
   "pygments_lexer": "ipython3",
   "version": "3.9.19"
  },
  "papermill": {
   "default_parameters": {},
   "duration": 41.797511,
   "end_time": "2024-06-12T04:09:25.593392",
   "environment_variables": {},
   "exception": null,
   "input_path": "MPIA daily digest.ipynb",
   "output_path": "log.ipynb",
   "parameters": {},
   "start_time": "2024-06-12T04:08:43.795881",
   "version": "2.6.0"
  },
  "vscode": {
   "interpreter": {
    "hash": "aee8b7b246df8f9039afb4144a1f6fd8d2ca17a180786b69acc140d282b71a49"
   }
  },
  "widgets": {
   "application/vnd.jupyter.widget-state+json": {
    "state": {
     "1f80bbb2ca574caea25277e810f11963": {
      "model_module": "@jupyter-widgets/controls",
      "model_module_version": "2.0.0",
      "model_name": "HTMLModel",
      "state": {
       "_dom_classes": [],
       "_model_module": "@jupyter-widgets/controls",
       "_model_module_version": "2.0.0",
       "_model_name": "HTMLModel",
       "_view_count": null,
       "_view_module": "@jupyter-widgets/controls",
       "_view_module_version": "2.0.0",
       "_view_name": "HTMLView",
       "description": "",
       "description_allow_html": false,
       "layout": "IPY_MODEL_8e627cee9fd94293ab68b3ece7131813",
       "placeholder": "​",
       "style": "IPY_MODEL_6996cf0ad7db4e168bddb9f057b4a512",
       "tabbable": null,
       "tooltip": null,
       "value": " 5/5 [00:21&lt;00:00,  4.50s/it]"
      }
     },
     "6756b812cd9b4fafb6ea10301f76b188": {
      "model_module": "@jupyter-widgets/base",
      "model_module_version": "2.0.0",
      "model_name": "LayoutModel",
      "state": {
       "_model_module": "@jupyter-widgets/base",
       "_model_module_version": "2.0.0",
       "_model_name": "LayoutModel",
       "_view_count": null,
       "_view_module": "@jupyter-widgets/base",
       "_view_module_version": "2.0.0",
       "_view_name": "LayoutView",
       "align_content": null,
       "align_items": null,
       "align_self": null,
       "border_bottom": null,
       "border_left": null,
       "border_right": null,
       "border_top": null,
       "bottom": null,
       "display": null,
       "flex": null,
       "flex_flow": null,
       "grid_area": null,
       "grid_auto_columns": null,
       "grid_auto_flow": null,
       "grid_auto_rows": null,
       "grid_column": null,
       "grid_gap": null,
       "grid_row": null,
       "grid_template_areas": null,
       "grid_template_columns": null,
       "grid_template_rows": null,
       "height": null,
       "justify_content": null,
       "justify_items": null,
       "left": null,
       "margin": null,
       "max_height": null,
       "max_width": null,
       "min_height": null,
       "min_width": null,
       "object_fit": null,
       "object_position": null,
       "order": null,
       "overflow": null,
       "padding": null,
       "right": null,
       "top": null,
       "visibility": null,
       "width": null
      }
     },
     "6996cf0ad7db4e168bddb9f057b4a512": {
      "model_module": "@jupyter-widgets/controls",
      "model_module_version": "2.0.0",
      "model_name": "HTMLStyleModel",
      "state": {
       "_model_module": "@jupyter-widgets/controls",
       "_model_module_version": "2.0.0",
       "_model_name": "HTMLStyleModel",
       "_view_count": null,
       "_view_module": "@jupyter-widgets/base",
       "_view_module_version": "2.0.0",
       "_view_name": "StyleView",
       "background": null,
       "description_width": "",
       "font_size": null,
       "text_color": null
      }
     },
     "7cb80c7cde2546a7979385e519be56e1": {
      "model_module": "@jupyter-widgets/controls",
      "model_module_version": "2.0.0",
      "model_name": "ProgressStyleModel",
      "state": {
       "_model_module": "@jupyter-widgets/controls",
       "_model_module_version": "2.0.0",
       "_model_name": "ProgressStyleModel",
       "_view_count": null,
       "_view_module": "@jupyter-widgets/base",
       "_view_module_version": "2.0.0",
       "_view_name": "StyleView",
       "bar_color": null,
       "description_width": ""
      }
     },
     "8e627cee9fd94293ab68b3ece7131813": {
      "model_module": "@jupyter-widgets/base",
      "model_module_version": "2.0.0",
      "model_name": "LayoutModel",
      "state": {
       "_model_module": "@jupyter-widgets/base",
       "_model_module_version": "2.0.0",
       "_model_name": "LayoutModel",
       "_view_count": null,
       "_view_module": "@jupyter-widgets/base",
       "_view_module_version": "2.0.0",
       "_view_name": "LayoutView",
       "align_content": null,
       "align_items": null,
       "align_self": null,
       "border_bottom": null,
       "border_left": null,
       "border_right": null,
       "border_top": null,
       "bottom": null,
       "display": null,
       "flex": null,
       "flex_flow": null,
       "grid_area": null,
       "grid_auto_columns": null,
       "grid_auto_flow": null,
       "grid_auto_rows": null,
       "grid_column": null,
       "grid_gap": null,
       "grid_row": null,
       "grid_template_areas": null,
       "grid_template_columns": null,
       "grid_template_rows": null,
       "height": null,
       "justify_content": null,
       "justify_items": null,
       "left": null,
       "margin": null,
       "max_height": null,
       "max_width": null,
       "min_height": null,
       "min_width": null,
       "object_fit": null,
       "object_position": null,
       "order": null,
       "overflow": null,
       "padding": null,
       "right": null,
       "top": null,
       "visibility": null,
       "width": null
      }
     },
     "999eed15e43c487787c9dd47e69b1f22": {
      "model_module": "@jupyter-widgets/controls",
      "model_module_version": "2.0.0",
      "model_name": "HBoxModel",
      "state": {
       "_dom_classes": [],
       "_model_module": "@jupyter-widgets/controls",
       "_model_module_version": "2.0.0",
       "_model_name": "HBoxModel",
       "_view_count": null,
       "_view_module": "@jupyter-widgets/controls",
       "_view_module_version": "2.0.0",
       "_view_name": "HBoxView",
       "box_style": "",
       "children": [
        "IPY_MODEL_d5a6192aa92a456d8f8b6fe736c2a381",
        "IPY_MODEL_d543120cebf44b7b830acacb7f0fdb5d",
        "IPY_MODEL_1f80bbb2ca574caea25277e810f11963"
       ],
       "layout": "IPY_MODEL_acede9df81ee422bbc747b9f62b75a7f",
       "tabbable": null,
       "tooltip": null
      }
     },
     "acede9df81ee422bbc747b9f62b75a7f": {
      "model_module": "@jupyter-widgets/base",
      "model_module_version": "2.0.0",
      "model_name": "LayoutModel",
      "state": {
       "_model_module": "@jupyter-widgets/base",
       "_model_module_version": "2.0.0",
       "_model_name": "LayoutModel",
       "_view_count": null,
       "_view_module": "@jupyter-widgets/base",
       "_view_module_version": "2.0.0",
       "_view_name": "LayoutView",
       "align_content": null,
       "align_items": null,
       "align_self": null,
       "border_bottom": null,
       "border_left": null,
       "border_right": null,
       "border_top": null,
       "bottom": null,
       "display": null,
       "flex": null,
       "flex_flow": null,
       "grid_area": null,
       "grid_auto_columns": null,
       "grid_auto_flow": null,
       "grid_auto_rows": null,
       "grid_column": null,
       "grid_gap": null,
       "grid_row": null,
       "grid_template_areas": null,
       "grid_template_columns": null,
       "grid_template_rows": null,
       "height": null,
       "justify_content": null,
       "justify_items": null,
       "left": null,
       "margin": null,
       "max_height": null,
       "max_width": null,
       "min_height": null,
       "min_width": null,
       "object_fit": null,
       "object_position": null,
       "order": null,
       "overflow": null,
       "padding": null,
       "right": null,
       "top": null,
       "visibility": null,
       "width": null
      }
     },
     "b40091ac654047b79bdce3d54ecbaa04": {
      "model_module": "@jupyter-widgets/base",
      "model_module_version": "2.0.0",
      "model_name": "LayoutModel",
      "state": {
       "_model_module": "@jupyter-widgets/base",
       "_model_module_version": "2.0.0",
       "_model_name": "LayoutModel",
       "_view_count": null,
       "_view_module": "@jupyter-widgets/base",
       "_view_module_version": "2.0.0",
       "_view_name": "LayoutView",
       "align_content": null,
       "align_items": null,
       "align_self": null,
       "border_bottom": null,
       "border_left": null,
       "border_right": null,
       "border_top": null,
       "bottom": null,
       "display": null,
       "flex": null,
       "flex_flow": null,
       "grid_area": null,
       "grid_auto_columns": null,
       "grid_auto_flow": null,
       "grid_auto_rows": null,
       "grid_column": null,
       "grid_gap": null,
       "grid_row": null,
       "grid_template_areas": null,
       "grid_template_columns": null,
       "grid_template_rows": null,
       "height": null,
       "justify_content": null,
       "justify_items": null,
       "left": null,
       "margin": null,
       "max_height": null,
       "max_width": null,
       "min_height": null,
       "min_width": null,
       "object_fit": null,
       "object_position": null,
       "order": null,
       "overflow": null,
       "padding": null,
       "right": null,
       "top": null,
       "visibility": null,
       "width": null
      }
     },
     "bf9919820e7e47dba67db8a37b94e66d": {
      "model_module": "@jupyter-widgets/controls",
      "model_module_version": "2.0.0",
      "model_name": "HTMLStyleModel",
      "state": {
       "_model_module": "@jupyter-widgets/controls",
       "_model_module_version": "2.0.0",
       "_model_name": "HTMLStyleModel",
       "_view_count": null,
       "_view_module": "@jupyter-widgets/base",
       "_view_module_version": "2.0.0",
       "_view_name": "StyleView",
       "background": null,
       "description_width": "",
       "font_size": null,
       "text_color": null
      }
     },
     "d543120cebf44b7b830acacb7f0fdb5d": {
      "model_module": "@jupyter-widgets/controls",
      "model_module_version": "2.0.0",
      "model_name": "FloatProgressModel",
      "state": {
       "_dom_classes": [],
       "_model_module": "@jupyter-widgets/controls",
       "_model_module_version": "2.0.0",
       "_model_name": "FloatProgressModel",
       "_view_count": null,
       "_view_module": "@jupyter-widgets/controls",
       "_view_module_version": "2.0.0",
       "_view_name": "ProgressView",
       "bar_style": "success",
       "description": "",
       "description_allow_html": false,
       "layout": "IPY_MODEL_6756b812cd9b4fafb6ea10301f76b188",
       "max": 5.0,
       "min": 0.0,
       "orientation": "horizontal",
       "style": "IPY_MODEL_7cb80c7cde2546a7979385e519be56e1",
       "tabbable": null,
       "tooltip": null,
       "value": 5.0
      }
     },
     "d5a6192aa92a456d8f8b6fe736c2a381": {
      "model_module": "@jupyter-widgets/controls",
      "model_module_version": "2.0.0",
      "model_name": "HTMLModel",
      "state": {
       "_dom_classes": [],
       "_model_module": "@jupyter-widgets/controls",
       "_model_module_version": "2.0.0",
       "_model_name": "HTMLModel",
       "_view_count": null,
       "_view_module": "@jupyter-widgets/controls",
       "_view_module_version": "2.0.0",
       "_view_name": "HTMLView",
       "description": "",
       "description_allow_html": false,
       "layout": "IPY_MODEL_b40091ac654047b79bdce3d54ecbaa04",
       "placeholder": "​",
       "style": "IPY_MODEL_bf9919820e7e47dba67db8a37b94e66d",
       "tabbable": null,
       "tooltip": null,
       "value": "100%"
      }
     }
    },
    "version_major": 2,
    "version_minor": 0
   }
  }
 },
 "nbformat": 4,
 "nbformat_minor": 5
}