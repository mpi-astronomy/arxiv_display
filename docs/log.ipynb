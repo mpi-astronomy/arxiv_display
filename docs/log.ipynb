{
 "cells": [
  {
   "cell_type": "markdown",
   "id": "92bcb855",
   "metadata": {
    "papermill": {
     "duration": 0.003712,
     "end_time": "2025-06-03T04:18:44.368868",
     "exception": false,
     "start_time": "2025-06-03T04:18:44.365156",
     "status": "completed"
    },
    "tags": []
   },
   "source": [
    "# MPIA Arxiv on Deck 2\n",
    "\n",
    "Contains the steps to produce the paper extractions."
   ]
  },
  {
   "cell_type": "code",
   "execution_count": 1,
   "id": "3a0d6e11",
   "metadata": {
    "execution": {
     "iopub.execute_input": "2025-06-03T04:18:44.375943Z",
     "iopub.status.busy": "2025-06-03T04:18:44.375572Z",
     "iopub.status.idle": "2025-06-03T04:18:45.069599Z",
     "shell.execute_reply": "2025-06-03T04:18:45.068868Z"
    },
    "papermill": {
     "duration": 0.698859,
     "end_time": "2025-06-03T04:18:45.070940",
     "exception": false,
     "start_time": "2025-06-03T04:18:44.372081",
     "status": "completed"
    },
    "tags": []
   },
   "outputs": [],
   "source": [
    "# Imports\n",
    "import os\n",
    "from IPython.display import Markdown, display\n",
    "from tqdm.notebook import tqdm\n",
    "import warnings\n",
    "from PIL import Image \n",
    "import re\n",
    "\n",
    "# requires arxiv_on_deck_2\n",
    "\n",
    "from arxiv_on_deck_2.arxiv2 import (get_new_papers, \n",
    "                                    get_paper_from_identifier,\n",
    "                                    retrieve_document_source, \n",
    "                                    get_markdown_badge)\n",
    "from arxiv_on_deck_2 import (latex,\n",
    "                             latex_bib,\n",
    "                             mpia,\n",
    "                             highlight_authors_in_list)\n",
    "\n",
    "# Sometimes images are really big\n",
    "Image.MAX_IMAGE_PIXELS = 1000000000 "
   ]
  },
  {
   "cell_type": "code",
   "execution_count": 2,
   "id": "22aa9d44",
   "metadata": {
    "execution": {
     "iopub.execute_input": "2025-06-03T04:18:45.078550Z",
     "iopub.status.busy": "2025-06-03T04:18:45.078081Z",
     "iopub.status.idle": "2025-06-03T04:18:45.086070Z",
     "shell.execute_reply": "2025-06-03T04:18:45.085545Z"
    },
    "papermill": {
     "duration": 0.012683,
     "end_time": "2025-06-03T04:18:45.087046",
     "exception": false,
     "start_time": "2025-06-03T04:18:45.074363",
     "status": "completed"
    },
    "tags": []
   },
   "outputs": [],
   "source": [
    "# Some useful definitions.\n",
    "\n",
    "class AffiliationWarning(UserWarning):\n",
    "    pass\n",
    "\n",
    "class AffiliationError(RuntimeError):\n",
    "    pass\n",
    "\n",
    "def validation(source: str):\n",
    "    \"\"\"Raises error paper during parsing of source file\n",
    "    \n",
    "    Allows checks before parsing TeX code.\n",
    "    \n",
    "    Raises AffiliationWarning\n",
    "    \"\"\"\n",
    "    check = mpia.affiliation_verifications(source, verbose=True)\n",
    "    if check is not True:\n",
    "        raise AffiliationError(\"mpia.affiliation_verifications: \" + check)\n",
    "\n",
    "        \n",
    "warnings.simplefilter('always', AffiliationWarning)\n",
    "\n",
    "\n",
    "def get_markdown_qrcode(paper_id: str):\n",
    "    \"\"\" Generate a qrcode to the arxiv page using qrserver.com\n",
    "    \n",
    "    :param paper: Arxiv paper\n",
    "    :returns: markdown text\n",
    "    \"\"\"\n",
    "    url = r\"https://api.qrserver.com/v1/create-qr-code/?size=100x100&data=\"\n",
    "    txt = f\"\"\"<img src={url}\"https://arxiv.org/abs/{paper_id}\">\"\"\"\n",
    "    txt = '<div id=\"qrcode\">' + txt + '</div>'\n",
    "    return txt\n",
    "\n",
    "\n",
    "def clean_non_western_encoded_characters_commands(text: str) -> str:\n",
    "    \"\"\" Remove non-western encoded characters from a string\n",
    "    List may need to grow.\n",
    "    \n",
    "    :param text: the text to clean\n",
    "    :return: the cleaned text\n",
    "    \"\"\"\n",
    "    text = re.sub(r\"(\\\\begin{CJK}{UTF8}{gbsn})(.*?)(\\\\end{CJK})\", r\"\\2\", text)\n",
    "    return text\n",
    "\n",
    "\n",
    "def get_initials(name: str) -> str:\n",
    "    \"\"\" Get the short name, e.g., A.-B. FamName\n",
    "    :param name: full name\n",
    "    :returns: initials\n",
    "    \"\"\"\n",
    "    initials = []\n",
    "    # account for non western names often in ()\n",
    "    if '(' in name:\n",
    "        name = clean_non_western_encoded_characters_commands(name)\n",
    "        suffix = re.findall(r\"\\((.*?)\\)\", name)[0]\n",
    "        name = name.replace(f\"({suffix})\", '')\n",
    "    else:\n",
    "        suffix = ''\n",
    "    split = name.split()\n",
    "    for token in split[:-1]:\n",
    "        if '-' in token:\n",
    "            current = '-'.join([k[0] + '.' for k in token.split('-')])\n",
    "        else:\n",
    "            current = token[0] + '.'\n",
    "        initials.append(current)\n",
    "    initials.append(split[-1].strip())\n",
    "    if suffix:\n",
    "        initials.append(f\"({suffix})\")\n",
    "    return ' '.join(initials)"
   ]
  },
  {
   "cell_type": "markdown",
   "id": "14bd6310",
   "metadata": {
    "papermill": {
     "duration": 0.002962,
     "end_time": "2025-06-03T04:18:45.093031",
     "exception": false,
     "start_time": "2025-06-03T04:18:45.090069",
     "status": "completed"
    },
    "tags": []
   },
   "source": [
    "## get list of arxiv paper candidates\n",
    "\n",
    "We use the MPIA mitarbeiter list webpage from mpia.de to get author names\n",
    "We then get all new papers from Arxiv and match authors"
   ]
  },
  {
   "cell_type": "code",
   "execution_count": 3,
   "id": "7ea813a8",
   "metadata": {
    "execution": {
     "iopub.execute_input": "2025-06-03T04:18:45.100035Z",
     "iopub.status.busy": "2025-06-03T04:18:45.099670Z",
     "iopub.status.idle": "2025-06-03T04:19:07.893572Z",
     "shell.execute_reply": "2025-06-03T04:19:07.892871Z"
    },
    "papermill": {
     "duration": 22.798849,
     "end_time": "2025-06-03T04:19:07.894916",
     "exception": false,
     "start_time": "2025-06-03T04:18:45.096067",
     "status": "completed"
    },
    "tags": []
   },
   "outputs": [],
   "source": [
    "# deal with the author list and edge cases of people that cannot be consistent on their name  \n",
    "\n",
    "def filter_non_scientists(name: str) -> bool:\n",
    "    \"\"\" Loose filter on expected authorships\n",
    "\n",
    "    removing IT, administration, technical staff\n",
    "    :param name: name\n",
    "    :returns: False if name is not a scientist\n",
    "    \"\"\"\n",
    "    remove_list = ['Licht', 'Binroth', 'Witzel', 'Jordan',\n",
    "                   'Zähringer', 'Scheerer', 'Hoffmann', 'Düe',\n",
    "                   'Hellmich', 'Enkler-Scharpegge', 'Witte-Nguy',\n",
    "                   'Dehen', 'Beckmann', 'Jager', 'Jäger'\n",
    "                  ]\n",
    "\n",
    "    for k in remove_list:\n",
    "        if k in name:\n",
    "            return False\n",
    "    return True\n",
    "\n",
    "def add_author_to_list(author_list: list) -> list:\n",
    "    \"\"\" Add author to list if not already in list\n",
    "    \n",
    "    :param author: author name\n",
    "    :param author_list: list of authors\n",
    "    :returns: updated list of authors\n",
    "    \"\"\"\n",
    "    add_list = ['T. Henning']\n",
    "\n",
    "    for author in add_list:\n",
    "        if author not in author_list:\n",
    "            author_list.append(author)\n",
    "    return author_list\n",
    "\n",
    "# get list from MPIA website\n",
    "# filter for non-scientists (mpia.get_mpia_mitarbeiter_list() does some filtering)\n",
    "mpia_authors = [k[1] for k in mpia.get_mpia_mitarbeiter_list() if filter_non_scientists(k[1])]\n",
    "# add some missing author because of inconsistencies in their MPIA name and author name on papers\n",
    "mpia_authors = add_author_to_list(mpia_authors)"
   ]
  },
  {
   "cell_type": "code",
   "execution_count": 4,
   "id": "2645e73a",
   "metadata": {
    "execution": {
     "iopub.execute_input": "2025-06-03T04:19:07.902384Z",
     "iopub.status.busy": "2025-06-03T04:19:07.902014Z",
     "iopub.status.idle": "2025-06-03T04:19:08.891919Z",
     "shell.execute_reply": "2025-06-03T04:19:08.891237Z"
    },
    "papermill": {
     "duration": 0.994722,
     "end_time": "2025-06-03T04:19:08.892993",
     "exception": false,
     "start_time": "2025-06-03T04:19:07.898271",
     "status": "completed"
    },
    "tags": []
   },
   "outputs": [
    {
     "name": "stdout",
     "output_type": "stream",
     "text": [
      "J. Liu  ->  J. Liu  |  ['J. Liu']\n",
      "K. Schwarz  ->  K. Schwarz  |  ['K. Schwarz']\n",
      "E.-M. Ahrer  ->  E.-M. Ahrer  |  ['E.-M. Ahrer']\n",
      "I. J. M. Crossfield  ->  I. J. M. Crossfield  |  ['I. J. M. Crossfield']\n",
      "L. Kreidberg  ->  L. Kreidberg  |  ['L. Kreidberg']\n",
      "G. Perotti  ->  G. Perotti  |  ['G. Perotti']\n",
      "J. Shi  ->  J. Shi  |  ['J. Shi']\n"
     ]
    },
    {
     "name": "stdout",
     "output_type": "stream",
     "text": [
      "A. Müller  ->  A. Müller  |  ['A. Müller']\n",
      "E.-M. Ahrer  ->  E.-M. Ahrer  |  ['E.-M. Ahrer']\n",
      "C. Gapp  ->  C. Gapp  |  ['C. Gapp']\n",
      "Arxiv has 82 new papers today\n",
      "          5 with possible author matches\n"
     ]
    }
   ],
   "source": [
    "new_papers = get_new_papers()\n",
    "# add manual references\n",
    "add_paper_refs = []\n",
    "new_papers.extend([get_paper_from_identifier(k) for k in add_paper_refs])\n",
    "\n",
    "def robust_call(fn, value, *args, **kwargs):\n",
    "    try:\n",
    "        return fn(value, *args, **kwargs)\n",
    "    except Exception:\n",
    "        return value\n",
    "\n",
    "candidates = []\n",
    "for paperk in new_papers:\n",
    "    # Check author list with their initials\n",
    "    normed_author_list = [robust_call(mpia.get_initials, k) for k in paperk['authors']]\n",
    "    hl_authors = highlight_authors_in_list(normed_author_list, mpia_authors, verbose=True)\n",
    "    matches = [(hl, orig) for hl, orig in zip(hl_authors, paperk['authors']) if 'mark' in hl]\n",
    "    paperk['authors'] = hl_authors\n",
    "    if matches:\n",
    "        # only select paper if an author matched our list\n",
    "        candidates.append(paperk)\n",
    "print(\"\"\"Arxiv has {0:,d} new papers today\"\"\".format(len(new_papers)))        \n",
    "print(\"\"\"          {0:,d} with possible author matches\"\"\".format(len(candidates)))"
   ]
  },
  {
   "cell_type": "markdown",
   "id": "3543b34a",
   "metadata": {
    "papermill": {
     "duration": 0.003165,
     "end_time": "2025-06-03T04:19:08.899685",
     "exception": false,
     "start_time": "2025-06-03T04:19:08.896520",
     "status": "completed"
    },
    "tags": []
   },
   "source": [
    "# Parse sources and generate relevant outputs\n",
    "\n",
    "From the candidates, we do the following steps:\n",
    "* get their tarball from ArXiv (and extract data)\n",
    "* find the main .tex file: find one with \\documentclass{...} (sometimes it's non trivial)\n",
    "* Check affiliations with :func:`validation`, which uses :func:`mpia.affiliation_verifications`\n",
    "* If passing the affiliations: we parse the .tex source\n",
    "   * inject sub-documents into the main (flatten the main document)\n",
    "   * parse structure, extract information (title, abstract, authors, figures...)\n",
    "   * handles `\\graphicspath` if provided\n",
    "* Generate the .md document."
   ]
  },
  {
   "cell_type": "code",
   "execution_count": 5,
   "id": "9576b79e",
   "metadata": {
    "execution": {
     "iopub.execute_input": "2025-06-03T04:19:08.907030Z",
     "iopub.status.busy": "2025-06-03T04:19:08.906530Z",
     "iopub.status.idle": "2025-06-03T04:19:44.400785Z",
     "shell.execute_reply": "2025-06-03T04:19:44.400002Z"
    },
    "papermill": {
     "duration": 35.499035,
     "end_time": "2025-06-03T04:19:44.401802",
     "exception": false,
     "start_time": "2025-06-03T04:19:08.902767",
     "status": "completed"
    },
    "scrolled": false,
    "tags": []
   },
   "outputs": [
    {
     "data": {
      "application/vnd.jupyter.widget-view+json": {
       "model_id": "a1b3bd91087642c2a73503053fd2c886",
       "version_major": 2,
       "version_minor": 0
      },
      "text/plain": [
       "  0%|          | 0/5 [00:00<?, ?it/s]"
      ]
     },
     "metadata": {},
     "output_type": "display_data"
    },
    {
     "name": "stdout",
     "output_type": "stream",
     "text": [
      "Retrieving document from  https://arxiv.org/e-print/2506.00435\n"
     ]
    },
    {
     "name": "stdout",
     "output_type": "stream",
     "text": [
      "extracting tarball to tmp_2506.00435..."
     ]
    },
    {
     "name": "stdout",
     "output_type": "stream",
     "text": [
      " done.\n",
      "Retrieving document from  https://arxiv.org/e-print/2506.00669\n"
     ]
    },
    {
     "name": "stdout",
     "output_type": "stream",
     "text": [
      "extracting tarball to tmp_2506.00669..."
     ]
    },
    {
     "name": "stdout",
     "output_type": "stream",
     "text": [
      " done.\n"
     ]
    },
    {
     "name": "stdout",
     "output_type": "stream",
     "text": [
      "E.-M. Ahrer  ->  E.-M. Ahrer  |  ['E.-M. Ahrer']\n",
      "I. J. M. Crossfield  ->  I. J. M. Crossfield  |  ['I. J. M. Crossfield']\n",
      "L. Kreidberg  ->  L. Kreidberg  |  ['L. Kreidberg']\n",
      "G. Perotti  ->  G. Perotti  |  ['G. Perotti']\n",
      "D. Semenov  ->  D. Semenov  |  ['D. Semenov']\n"
     ]
    },
    {
     "name": "stdout",
     "output_type": "stream",
     "text": [
      "Found 443 bibliographic references in tmp_2506.00669/main.bbl.\n",
      "Retrieving document from  https://arxiv.org/e-print/2506.01632\n"
     ]
    },
    {
     "name": "stdout",
     "output_type": "stream",
     "text": [
      "extracting tarball to tmp_2506.01632..."
     ]
    },
    {
     "name": "stdout",
     "output_type": "stream",
     "text": [
      " done.\n",
      "Retrieving document from  https://arxiv.org/e-print/2506.01733\n"
     ]
    },
    {
     "name": "stdout",
     "output_type": "stream",
     "text": [
      "extracting tarball to tmp_2506.01733..."
     ]
    },
    {
     "name": "stdout",
     "output_type": "stream",
     "text": [
      " done.\n",
      "Retrieving document from  https://arxiv.org/e-print/2506.01771\n"
     ]
    },
    {
     "name": "stderr",
     "output_type": "stream",
     "text": [
      "/tmp/ipykernel_3627/2822249172.py:52: LatexWarning: 2506.01771 did not run properly\n",
      "not a gzip file\n",
      "  warnings.warn(latex.LatexWarning(f\"{paper_id:s} did not run properly\\n\" +\n"
     ]
    }
   ],
   "source": [
    "documents = []\n",
    "failed = []\n",
    "for paper in tqdm(candidates):\n",
    "    # debug crap\n",
    "    paper['identifier'] = paper['identifier'].lower().replace('arxiv:', '').replace(r'\\n', '').strip()\n",
    "    paper_id = paper['identifier']\n",
    "    \n",
    "    folder = f'tmp_{paper_id}'\n",
    "\n",
    "    try:\n",
    "        if not os.path.isdir(folder):\n",
    "            folder = retrieve_document_source(f\"{paper_id}\", f'tmp_{paper_id}')\n",
    "        \n",
    "        try:\n",
    "            doc = latex.LatexDocument(folder, validation=validation)    \n",
    "        except AffiliationError as affilerror:\n",
    "            msg = f\"ArXiv:{paper_id:s} is not an MPIA paper... \" + str(affilerror)\n",
    "            failed.append((paper, \"affiliation error: \" + str(affilerror) ))\n",
    "            continue\n",
    "        \n",
    "        # Hack because sometimes author parsing does not work well\n",
    "        if (len(doc.authors) != len(paper['authors'])):\n",
    "            doc._authors = paper['authors']\n",
    "        else:\n",
    "            # highlight authors (FIXME: doc.highlight_authors)\n",
    "            # done on arxiv paper already\n",
    "            doc._authors = highlight_authors_in_list(\n",
    "                [get_initials(k) for k in doc.authors], \n",
    "                mpia_authors, verbose=True)\n",
    "        if (doc.abstract) in (None, ''):\n",
    "            doc._abstract = paper['abstract']\n",
    "            \n",
    "        doc.comment = (get_markdown_badge(paper_id) + \n",
    "                       \"<mark>Appeared on: \" + paper['date'] + \"</mark> - \")\n",
    "        if paper['comments']:\n",
    "            doc.comment += \" _\" + paper['comments'] + \"_\"\n",
    "        \n",
    "        full_md = doc.generate_markdown_text()\n",
    "        \n",
    "        full_md += get_markdown_qrcode(paper_id)\n",
    "        \n",
    "        # replace citations\n",
    "        try:\n",
    "            bibdata = latex_bib.LatexBib.from_doc(doc)\n",
    "            full_md = latex_bib.replace_citations(full_md, bibdata)\n",
    "        except Exception as e:\n",
    "            print(\"Issues with the citations\")\n",
    "            print(e)\n",
    "        \n",
    "        documents.append((paper_id, full_md))\n",
    "    except Exception as e:\n",
    "        warnings.warn(latex.LatexWarning(f\"{paper_id:s} did not run properly\\n\" +\n",
    "                                         str(e)\n",
    "                                        ))\n",
    "        failed.append((paper, \"latex error \" + str(e)))"
   ]
  },
  {
   "cell_type": "markdown",
   "id": "2505a25c",
   "metadata": {
    "papermill": {
     "duration": 0.003764,
     "end_time": "2025-06-03T04:19:44.409667",
     "exception": false,
     "start_time": "2025-06-03T04:19:44.405903",
     "status": "completed"
    },
    "tags": []
   },
   "source": [
    "### Export the logs\n",
    "\n",
    "Throughout, we also keep track of the logs per paper. see `logs-{today date}.md` "
   ]
  },
  {
   "cell_type": "code",
   "execution_count": 6,
   "id": "d733828a",
   "metadata": {
    "execution": {
     "iopub.execute_input": "2025-06-03T04:19:44.418131Z",
     "iopub.status.busy": "2025-06-03T04:19:44.417927Z",
     "iopub.status.idle": "2025-06-03T04:19:44.433698Z",
     "shell.execute_reply": "2025-06-03T04:19:44.433047Z"
    },
    "papermill": {
     "duration": 0.021223,
     "end_time": "2025-06-03T04:19:44.434721",
     "exception": false,
     "start_time": "2025-06-03T04:19:44.413498",
     "status": "completed"
    },
    "scrolled": false,
    "tags": []
   },
   "outputs": [
    {
     "data": {
      "text/markdown": [
       "## Successful papers"
      ],
      "text/plain": [
       "<IPython.core.display.Markdown object>"
      ]
     },
     "metadata": {},
     "output_type": "display_data"
    },
    {
     "data": {
      "text/markdown": [
       "\n",
       "|||\n",
       "|---:|:---|\n",
       "| [![arXiv](https://img.shields.io/badge/arXiv-2506.00669-b31b1b.svg)](https://arxiv.org/abs/2506.00669) | **On Linking Planet Formation Models, Protoplanetary Disk Properties, and Mature Gas Giant Exoplanet Atmospheres**  |\n",
       "|| A. D. Feinstein, et al. -- incl., <mark>K. Schwarz</mark>, <mark>E.-M. Ahrer</mark>, <mark>I. J. M. Crossfield</mark>, <mark>L. Kreidberg</mark>, <mark>G. Perotti</mark> |\n",
       "|*Appeared on*| *2025-06-03*|\n",
       "|*Comments*| *24 pages (37 pages with references), 8 figures, 1 table. Submitted to AAS Journals. This article is intended to reflect the discussions and perspectives of workshop participants, and not provide a comprehensive review of the fields covered*|\n",
       "|**Abstract**|            Measuring a single elemental ratio (e.g., carbon-to-oxygen) provides insufficient information for understanding the formation mechanisms and evolution that affect our observations of gas giant planet atmospheres. Although the fields of planet formation, protoplanetary disks, and exoplanets are well established and interconnected, our understanding of how to self-consistently and accurately link the theoretical and observational aspects of these fields together is lacking. To foster interdisciplinary conversations, the Max-Planck Institut für Astronomie (MPIA) hosted a week-long workshop called, \"Challenge Accepted: Linking Planet Formation with Present-Day Atmospheres.\" Here, we summarize the latest theories and results in planet formation modeling, protoplanetary disk observations, and atmospheric observations of gas giant atmospheres to address one of the challenges of hosting interdisciplinary conferences: ensuring everyone is aware of the state-of-the-art results and technical language from each discipline represented. Additionally, we highlight key discussions held at the workshop. Our main conclusion is that it is unclear what the ideal observable is to make this link between formation scenarios and exoplanet atmospheres, whether it be multiple elemental abundance ratios, measuring refractory budgets, or something else. Based on discussions held throughout the workshop, we provide several key takeaways of what the workshop attendees feel need the most improvement and exploration within each discipline.         |"
      ],
      "text/plain": [
       "[2506.00669] On Linking Planet Formation Models, Protoplanetary Disk Properties, and Mature Gas Giant Exoplanet Atmospheres\n",
       "\tA. D. Feinstein, et al. -- incl., <mark>K. Schwarz</mark>, <mark>E.-M. Ahrer</mark>, <mark>I. J. M. Crossfield</mark>, <mark>L. Kreidberg</mark>, <mark>G. Perotti</mark>"
      ]
     },
     "metadata": {},
     "output_type": "display_data"
    },
    {
     "data": {
      "text/markdown": [
       "## Failed papers"
      ],
      "text/plain": [
       "<IPython.core.display.Markdown object>"
      ]
     },
     "metadata": {},
     "output_type": "display_data"
    },
    {
     "data": {
      "text/markdown": [
       "\n",
       "|||\n",
       "|---:|:---|\n",
       "| [![arXiv](https://img.shields.io/badge/arXiv-2506.00435-b31b1b.svg)](https://arxiv.org/abs/2506.00435) | **Spectral Hardening Reveals Afterglow Emergence in Long-Duration Fast X-ray Transients: A Case Study of GRB 250404A/EP250404a**  |\n",
       "|| Y.-H. I. Yin, et al. -- incl., <mark>J. Liu</mark> |\n",
       "|*Appeared on*| *2025-06-03*|\n",
       "|*Comments*| *20 pages, 7 figures, 6 tables*|\n",
       "|**Abstract**|            The prompt emission and afterglow phases of gamma-ray bursts (GRBs) have been extensively studied, yet the transition between these two phases remains inadequately characterized due to limited multiwavelength observational coverage. Among the recent growing samples of fast X-ray transients observed by Einstein Probe (EP), a subgroup of gamma-ray bursts are captured with long-duration X-ray emission, potentially containing featured evolution from prompt emission to the afterglow phase. In this Letter, we present a detailed analysis of GRB 250404A/EP250404a, a bright fast X-ray transient detected simultaneously by EP and Fermi/GBM in X-rays and gamma-rays. Its continuous X-ray emission reveals a long-duration tail, accompanied by distinct spectral evolution manifested by the spectral index $\\alpha_{\\rm X}$ with an initial softening, followed by an evident hardening, eventually reaching a plateau at the value of $\\sim$ -2. Early optical and near-infrared observations enable broadband modeling with forward- and reverse-shock components, confirming that the X-ray hardening signals the emergence of the external-shock afterglow. From this spectral hardening we infer that the prompt phase in soft X-rays lasted $\\sim300$ s, which is more than three times longer than the gamma-ray $T_{90}$. This well-tracked soft-hard-flat spectral pattern provides a clear indication of afterglow emergence from the fading prompt emission and offers a practical criterion for identifying a distinct population of GRBs among fast X-ray transients, even when the detection of the gamma-ray counterpart or obvious temporal break is absent.         |\n",
       "|<p style=\"color:green\"> **ERROR** </p>| <p style=\"color:green\">affiliation error: mpia.affiliation_verifications: 'Heidelberg' keyword not found.</p> |"
      ],
      "text/plain": [
       "<IPython.core.display.Markdown object>"
      ]
     },
     "metadata": {},
     "output_type": "display_data"
    },
    {
     "data": {
      "text/markdown": [
       "\n",
       "|||\n",
       "|---:|:---|\n",
       "| [![arXiv](https://img.shields.io/badge/arXiv-2506.01632-b31b1b.svg)](https://arxiv.org/abs/2506.01632) | **Probing the Turbulent Corona and Heliosphere Using Radio Spectral Imaging Observation during the Solar Conjunction of Crab Nebula**  |\n",
       "|| P. Zhang, et al. -- incl., <mark>J. Shi</mark> |\n",
       "|*Appeared on*| *2025-06-03*|\n",
       "|*Comments*| **|\n",
       "|**Abstract**|            Measuring plasma parameters in the upper solar corona and inner heliosphere is challenging because of the region's weakly emissive nature and inaccessibility for most in situ observations. Radio imaging of broadened and distorted background astronomical radio sources during solar conjunction can provide unique constraints for the coronal material along the line of sight. In this study, we present radio spectral imaging observations of the Crab Nebula (Tau A) from June 9 to June 22, 2024 when it was near the Sun with a projected heliocentric distance of 5 to 27 solar radii, using the Owens Valley Radio Observatory's Long Wavelength Array (OVRO-LWA) at multiple frequencies in the 30--80 MHz range. The imaging data reveal frequency-dependent broadening and distortion effects caused by anisotropic wave propagation through the turbulent solar corona at different distances. We analyze the brightness, size, and anisotropy of the broadened images. Our results provide detailed observations showing that the eccentricity of the unresolved source increases as the line of sight approaches the Sun, suggesting a higher anisotropic ratio of the plasma turbulence closer to the Sun. In addition, the major axis of the elongated source is consistently oriented in the direction perpendicular to the radial direction, suggesting that the turbulence-induced scattering effect is more pronounced in the direction transverse to the coronal magnetic field. Lastly, when the source undergoes large-scale refraction as the line of sight passes through a streamer, the apparent source exhibits substructures at lower frequencies. This study demonstrates that observations of celestial radio sources with lines of sight near the Sun provide a promising method for measuring turbulence parameters in the inner heliosphere.         |\n",
       "|<p style=\"color:green\"> **ERROR** </p>| <p style=\"color:green\">affiliation error: mpia.affiliation_verifications: 'Heidelberg' keyword not found.</p> |"
      ],
      "text/plain": [
       "<IPython.core.display.Markdown object>"
      ]
     },
     "metadata": {},
     "output_type": "display_data"
    },
    {
     "data": {
      "text/markdown": [
       "\n",
       "|||\n",
       "|---:|:---|\n",
       "| [![arXiv](https://img.shields.io/badge/arXiv-2506.01733-b31b1b.svg)](https://arxiv.org/abs/2506.01733) | **Observation of the Crab Nebula with the Single-Mirror Small-Size Telescope stereoscopic system at low altitude**  |\n",
       "|| C. Alispach, et al. -- incl., <mark>A. Müller</mark> |\n",
       "|*Appeared on*| *2025-06-03*|\n",
       "|*Comments*| *22 pages, 20 figures. Accepted for publication in Astronomy & Astrophysics*|\n",
       "|**Abstract**|            The Single-Mirror Small-Size Telescope (SST-1M) stereoscopic system is composed of two Imaging Atmospheric Cherenkov Telescopes (IACTs) designed for optimal performance for gamma-ray astronomy in the multi-TeV energy range. It features a 4-meter-diameter tessellated mirror dish and an innovative SiPM-based camera. Its optical system features a 4-m diameter spherical mirror dish based on the Davies-Cotton design, maintaining a good image quality over a large FoV while minimizing optical aberrations. In 2022, two SST-1M telescopes were installed at the Ondřejov Observatory, Czech Republic, at an altitude of 510 meters above sea level, and have been collecting data for commissioning and astronomical observations since then. We present the first SST-1M observations of the Crab Nebula, conducted between September 2023 and March 2024 in both mono and stereoscopic modes. During this observation period, 46 hours for the SST-1M-1 and 52 hours for the SST-1M-2 were collected for which 33 hours are in stereoscopic mode. We use the Crab Nebula observation to validate the expected performance of the instrument, as evaluated by Monte Carlo simulations carefully tuned to account for instrumental and atmospheric effects. We determined that the energy threshold at the analysis level for the zenith angles below $30^\\circ$ is 1 TeV for mono mode and 1.3 TeV for stereo mode. The energy and angular resolutions are approximately 20\\% and $0.18^\\circ$ for mono mode and 10\\% and $0.10^\\circ$ for stereo mode, respectively. We present the off-axis performance of the instrument and a detailed study of systematic uncertainties. The results of a full simulation of the telescope and its camera is compared to the data for the first time, allowing a deep understanding of the SST-1M array performance.         |\n",
       "|<p style=\"color:green\"> **ERROR** </p>| <p style=\"color:green\">affiliation error: mpia.affiliation_verifications: 'Heidelberg' keyword not found.</p> |"
      ],
      "text/plain": [
       "<IPython.core.display.Markdown object>"
      ]
     },
     "metadata": {},
     "output_type": "display_data"
    },
    {
     "data": {
      "text/markdown": [
       "\n",
       "|||\n",
       "|---:|:---|\n",
       "| [![arXiv](https://img.shields.io/badge/arXiv-2506.01771-b31b1b.svg)](https://arxiv.org/abs/2506.01771) | **SiO and a super-stellar C/O ratio in the atmosphere of the giant exoplanet WASP-121b**  |\n",
       "|| T. M. Evans-Soma, et al. -- incl., <mark>E.-M. Ahrer</mark>, <mark>C. Gapp</mark> |\n",
       "|*Appeared on*| *2025-06-03*|\n",
       "|*Comments*| *Published in Nature Astronomy (publisher version is Open Access)*|\n",
       "|**Abstract**|            Refractory elements such as iron, magnesium, and silicon can be detected in the atmospheres of ultrahot giant planets. This provides an opportunity to quantify the amount of refractory material accreted during formation, along with volatile gases and ices. However, simultaneous detections of refractories and volatiles have proved challenging, as the most prominent spectral features of associated atoms and molecules span a broad wavelength range. Here, using a single JWST observation of the ultrahot giant planet WASP-121b, we report detections of H$_2$O (5.5-13.5$\\sigma$), CO (10.8-12.8$\\sigma$), and SiO (5.7-6.2$\\sigma$) in the planet's dayside atmosphere, and CH$_4$ (3.1-5.1$\\sigma$) in the nightside atmosphere. We measure super-stellar values for the atmospheric C/H, O/H, Si/H, and C/O ratios, which point to the joint importance of pebbles and planetesimals in giant planet formation. The CH$_4$-rich nightside composition is also indicative of dynamical processes, such as strong vertical mixing, having a profound influence on the chemistry of ultrahot giant planets.         |\n",
       "|<p style=\"color:red\"> **ERROR** </p>| <p style=\"color:red\">latex error not a gzip file</p> |"
      ],
      "text/plain": [
       "<IPython.core.display.Markdown object>"
      ]
     },
     "metadata": {},
     "output_type": "display_data"
    }
   ],
   "source": [
    "import datetime\n",
    "today = str(datetime.date.today())\n",
    "logfile = f\"_build/html/logs/log-{today}.md\"\n",
    "\n",
    "\n",
    "with open(logfile, 'w') as logs:\n",
    "    # Success\n",
    "    logs.write(f'# Arxiv on Deck 2: Logs - {today}\\n\\n')\n",
    "    logs.write(\"\"\"* Arxiv had {0:,d} new papers\\n\"\"\".format(len(new_papers)))\n",
    "    logs.write(\"\"\"    * {0:,d} with possible author matches\\n\\n\"\"\".format(len(candidates)))\n",
    "    logs.write(\"## Sucessful papers\\n\\n\")\n",
    "    display(Markdown(\"## Successful papers\"))\n",
    "    success = [k[0] for k in documents]\n",
    "    for candid in candidates:\n",
    "        if candid['identifier'].split(':')[-1] in success:\n",
    "            display(candid)\n",
    "            logs.write(candid.generate_markdown_text() + '\\n\\n')\n",
    "\n",
    "    ## failed\n",
    "    logs.write(\"## Failed papers\\n\\n\")\n",
    "    display(Markdown(\"## Failed papers\"))\n",
    "    failed = sorted(failed, key=lambda x: x[1])\n",
    "    current_reason = \"\"\n",
    "    for paper, reason in failed:\n",
    "        if 'affiliation' in reason:\n",
    "            color = 'green'\n",
    "        else:\n",
    "            color = 'red'\n",
    "        data = Markdown(\n",
    "                paper.generate_markdown_text() + \n",
    "                f'\\n|<p style=\"color:{color:s}\"> **ERROR** </p>| <p style=\"color:{color:s}\">{reason:s}</p> |'\n",
    "               )\n",
    "        if reason != current_reason:\n",
    "            logs.write(f'### {reason:s} \\n\\n')\n",
    "            current_reason = reason\n",
    "        logs.write(data.data + '\\n\\n')\n",
    "        \n",
    "        # only display here the important errors (all in logs)\n",
    "        # if color in ('red',):\n",
    "        display(data)"
   ]
  },
  {
   "cell_type": "markdown",
   "id": "472d20ee",
   "metadata": {
    "papermill": {
     "duration": 0.004485,
     "end_time": "2025-06-03T04:19:44.443793",
     "exception": false,
     "start_time": "2025-06-03T04:19:44.439308",
     "status": "completed"
    },
    "tags": []
   },
   "source": [
    "## Export documents\n",
    "\n",
    "We now write the .md files and export relevant images"
   ]
  },
  {
   "cell_type": "code",
   "execution_count": 7,
   "id": "d426aed9",
   "metadata": {
    "execution": {
     "iopub.execute_input": "2025-06-03T04:19:44.453599Z",
     "iopub.status.busy": "2025-06-03T04:19:44.453227Z",
     "iopub.status.idle": "2025-06-03T04:19:44.460182Z",
     "shell.execute_reply": "2025-06-03T04:19:44.459531Z"
    },
    "papermill": {
     "duration": 0.01295,
     "end_time": "2025-06-03T04:19:44.461195",
     "exception": false,
     "start_time": "2025-06-03T04:19:44.448245",
     "status": "completed"
    },
    "tags": []
   },
   "outputs": [],
   "source": [
    "def export_markdown_summary(md: str, md_fname:str, directory: str):\n",
    "    \"\"\"Export MD document and associated relevant images\"\"\"\n",
    "    import os\n",
    "    import shutil\n",
    "    import re\n",
    "\n",
    "    if (os.path.exists(directory) and not os.path.isdir(directory)):\n",
    "        raise RuntimeError(f\"a non-directory file exists with name {directory:s}\")\n",
    "\n",
    "    if (not os.path.exists(directory)):\n",
    "        print(f\"creating directory {directory:s}\")\n",
    "        os.mkdir(directory)\n",
    "\n",
    "    fig_fnames = (re.compile(r'\\[Fig.*\\]\\((.*)\\)').findall(md) + \n",
    "                  re.compile(r'\\<img src=\"([^>\\s]*)\"[^>]*/>').findall(md))\n",
    "    print(\"found figures\", fig_fnames)\n",
    "    for fname in fig_fnames:\n",
    "        if 'http' in fname:\n",
    "            # No need to copy online figures\n",
    "            continue\n",
    "        if not os.path.exists(fname):\n",
    "            print(\"file not found\", fname)\n",
    "            continue\n",
    "        print(\"copying \", fname, \"to\", directory)\n",
    "        destdir = os.path.join(directory, os.path.dirname(fname))\n",
    "        destfname = os.path.join(destdir, os.path.basename(fname))\n",
    "        try:\n",
    "            os.makedirs(destdir)\n",
    "        except FileExistsError:\n",
    "            pass\n",
    "        shutil.copy(fname, destfname)\n",
    "    with open(os.path.join(directory, md_fname), 'w') as fout:\n",
    "        fout.write(md)\n",
    "    print(\"exported in \", os.path.join(directory, md_fname))\n",
    "    [print(\"    + \" + os.path.join(directory,fk)) for fk in fig_fnames]"
   ]
  },
  {
   "cell_type": "code",
   "execution_count": 8,
   "id": "014d04a4",
   "metadata": {
    "execution": {
     "iopub.execute_input": "2025-06-03T04:19:44.471629Z",
     "iopub.status.busy": "2025-06-03T04:19:44.471260Z",
     "iopub.status.idle": "2025-06-03T04:19:44.477592Z",
     "shell.execute_reply": "2025-06-03T04:19:44.477050Z"
    },
    "papermill": {
     "duration": 0.012379,
     "end_time": "2025-06-03T04:19:44.478592",
     "exception": false,
     "start_time": "2025-06-03T04:19:44.466213",
     "status": "completed"
    },
    "tags": []
   },
   "outputs": [
    {
     "name": "stdout",
     "output_type": "stream",
     "text": [
      "found figures ['tmp_2506.00669/./CO_depl.png', 'tmp_2506.00669/./xsection_combined.png', 'tmp_2506.00669/./compared_co_ratios_split_v2.png']\n",
      "copying  tmp_2506.00669/./CO_depl.png to _build/html/\n",
      "copying  tmp_2506.00669/./xsection_combined.png to _build/html/\n",
      "copying  tmp_2506.00669/./compared_co_ratios_split_v2.png to _build/html/\n",
      "exported in  _build/html/2506.00669.md\n",
      "    + _build/html/tmp_2506.00669/./CO_depl.png\n",
      "    + _build/html/tmp_2506.00669/./xsection_combined.png\n",
      "    + _build/html/tmp_2506.00669/./compared_co_ratios_split_v2.png\n"
     ]
    }
   ],
   "source": [
    "for paper_id, md in documents:\n",
    "    export_markdown_summary(md, f\"{paper_id:s}.md\", '_build/html/')"
   ]
  },
  {
   "cell_type": "markdown",
   "id": "f087a0a7",
   "metadata": {
    "papermill": {
     "duration": 0.004558,
     "end_time": "2025-06-03T04:19:44.487763",
     "exception": false,
     "start_time": "2025-06-03T04:19:44.483205",
     "status": "completed"
    },
    "tags": []
   },
   "source": [
    "## Display the papers\n",
    "\n",
    "Not necessary but allows for a quick check."
   ]
  },
  {
   "cell_type": "code",
   "execution_count": 9,
   "id": "fd25f625",
   "metadata": {
    "execution": {
     "iopub.execute_input": "2025-06-03T04:19:44.498118Z",
     "iopub.status.busy": "2025-06-03T04:19:44.497662Z",
     "iopub.status.idle": "2025-06-03T04:19:44.502139Z",
     "shell.execute_reply": "2025-06-03T04:19:44.501634Z"
    },
    "papermill": {
     "duration": 0.010782,
     "end_time": "2025-06-03T04:19:44.503136",
     "exception": false,
     "start_time": "2025-06-03T04:19:44.492354",
     "status": "completed"
    },
    "scrolled": false,
    "tags": []
   },
   "outputs": [
    {
     "data": {
      "text/markdown": [
       "<div class=\"macros\" style=\"visibility:hidden;\">\n",
       "$\\newcommand{\\ensuremath}{}$\n",
       "$\\newcommand{\\xspace}{}$\n",
       "$\\newcommand{\\object}[1]{\\texttt{#1}}$\n",
       "$\\newcommand{\\farcs}{{.}''}$\n",
       "$\\newcommand{\\farcm}{{.}'}$\n",
       "$\\newcommand{\\arcsec}{''}$\n",
       "$\\newcommand{\\arcmin}{'}$\n",
       "$\\newcommand{\\ion}[2]{#1#2}$\n",
       "$\\newcommand{\\textsc}[1]{\\textrm{#1}}$\n",
       "$\\newcommand{\\hl}[1]{\\textrm{#1}}$\n",
       "$\\newcommand{\\footnote}[1]{}$\n",
       "$\\newcommand{\\vdag}{(v)^\\dagger}$\n",
       "$\\newcommand$\n",
       "$\\newcommand$\n",
       "$\\newcommand{\\water}{H_2O}$\n",
       "$\\newcommand{\\sotwo}{SO_2}$\n",
       "$\\newcommand{\\cotwo}{CO_2}$\n",
       "$\\newcommand{\\methane}{CH_4}$\n",
       "$\\newcommand{\\ammonia}{NH_3}$</div>\n",
       "\n",
       "\n",
       "\n",
       "<div id=\"title\">\n",
       "\n",
       "# On Linking Planet Formation Models, Protoplanetary Disk Properties, and Mature Gas Giant Exoplanet Atmospheres\n",
       "\n",
       "</div>\n",
       "<div id=\"comments\">\n",
       "\n",
       "[![arXiv](https://img.shields.io/badge/arXiv-2506.00669-b31b1b.svg)](https://arxiv.org/abs/2506.00669)<mark>Appeared on: 2025-06-03</mark> -  _24 pages (37 pages with references), 8 figures, 1 table. Submitted to AAS Journals. This article is intended to reflect the discussions and perspectives of workshop participants, and not provide a comprehensive review of the fields covered_\n",
       "\n",
       "</div>\n",
       "<div id=\"authors\">\n",
       "\n",
       "Adina~D.~Feinstein, et al. -- incl., <mark>E.-M. Ahrer</mark>, <mark>I. J. M. Crossfield</mark>, <mark>L. Kreidberg</mark>, <mark>G. Perotti</mark>, <mark>D. Semenov</mark>\n",
       "\n",
       "</div>\n",
       "<div id=\"abstract\">\n",
       "\n",
       "**Abstract:** Measuring a single elemental ratio (e.g., carbon-to-oxygen) provides insufficient information for understanding the formation mechanisms and evolution that affect our observations of gas  giant planet atmospheres. Although the fields of planet formation, protoplanetary disks, and exoplanets are well established and interconnected, our understanding of how to self-consistently and accurately link the theoretical and observational aspects of these fields together is lacking. To foster interdisciplinary conversations, the Max-Planck Institut für Astronomie (MPIA) hosted a week-long workshop called, \"Challenge Accepted: Linking Planet Formation with Present-Day Atmospheres.\"  Here, we summarize the latest theories and results in planet formation modeling, protoplanetary disk observations, and atmospheric observations of gas giant atmospheres to address one of the challenges of hosting interdisciplinary conferences: ensuring everyone is aware of the state-of-the-art results and technical language from each discipline represented. Additionally, we highlight key discussions held at the workshop. Our main conclusion is that it is unclear what the ideal observable is to make this link between formation scenarios and exoplanet atmospheres, whether it be multiple elemental abundance ratios, measuring refractory budgets, or something else. Based on discussions held throughout the workshop, we provide several key takeaways of what the workshop attendees feel need the most improvement and exploration within each discipline.\n",
       "\n",
       "</div>\n",
       "\n",
       "<div id=\"div_fig1\">\n",
       "\n",
       "<img src=\"tmp_2506.00669/./CO_depl.png\" alt=\"Fig1\" width=\"100%\"/>\n",
       "\n",
       "**Figure 1. -** The impact of CO depletion on the composition of hot Jupiters using the formation model of [Penzlin, Booth and Kirk (2024)](). Here, 90\\% of the CO in the fiducial model has been replaced with either $C_2$$H_6$, $CO_2$, or $CH_3$OH. In all of the different disk models, the composition of hot Jupiters that underwent high-eccentricity migration differs from those that did not. However, different assumptions about CO depletion in the disk produce larger changes in the C/O ratio than the differences in formation history. (*fig:co_comp*)\n",
       "\n",
       "</div>\n",
       "<div id=\"div_fig2\">\n",
       "\n",
       "<img src=\"tmp_2506.00669/./xsection_combined.png\" alt=\"Fig4\" width=\"100%\"/>\n",
       "\n",
       "**Figure 4. -** The cross-sections for molecular species which could exist in a (a) hot Jupiter at 1000 K and (b) ultra hot Jupiter at 2500 K atmosphere. The wavelengths plotted here are within the range of JWST's NIRISS, NIRCam, NIRSpec, and MIRI/LRS. With access to the broader wavelength coverage of JWST, we are now able to potentially detect multiple absorption features from the same species and multiple species, simultaneously. Cross sections computed following the methods and sources of opacity listed in [Welbanks and Madhusudhan (2021)](). We note that several versions of this plot already exist in the literature \\citep[e.g.,][]{madhusudhan19}. (*fig:spaghetti*)\n",
       "\n",
       "</div>\n",
       "<div id=\"div_fig3\">\n",
       "\n",
       "<img src=\"tmp_2506.00669/./compared_co_ratios_split_v2.png\" alt=\"Fig5\" width=\"100%\"/>\n",
       "\n",
       "**Figure 5. -** A comparison of the measured carbon-to-oxygen (C/O) ratio for planets, as observed with different instruments/wavelength coverages (see Table \\ref{tab:exoplanet_c2o} for details). Panels marked with $\\triangle$ highlight upper limits on the C/O. Grayed out squares do not have C/O measurements for those planets with those instruments. While the majority of measurements of C/O for each of these planets are consistent within $2\\sigma$, the difference in wavelength coverage, and thus which molecular species are detected, change the measured C/O for the same planet.  (*fig:exoplanet_c2o*)\n",
       "\n",
       "</div><div id=\"qrcode\"><img src=https://api.qrserver.com/v1/create-qr-code/?size=100x100&data=\"https://arxiv.org/abs/2506.00669\"></div>"
      ],
      "text/plain": [
       "<IPython.core.display.Markdown object>"
      ]
     },
     "metadata": {},
     "output_type": "display_data"
    }
   ],
   "source": [
    "[display(Markdown(k[1])) for k in documents];"
   ]
  },
  {
   "cell_type": "markdown",
   "id": "873873a4",
   "metadata": {
    "papermill": {
     "duration": 0.004802,
     "end_time": "2025-06-03T04:19:44.512870",
     "exception": false,
     "start_time": "2025-06-03T04:19:44.508068",
     "status": "completed"
    },
    "tags": []
   },
   "source": [
    "# Create HTML index"
   ]
  },
  {
   "cell_type": "code",
   "execution_count": 10,
   "id": "cf665672",
   "metadata": {
    "execution": {
     "iopub.execute_input": "2025-06-03T04:19:44.523293Z",
     "iopub.status.busy": "2025-06-03T04:19:44.523110Z",
     "iopub.status.idle": "2025-06-03T04:19:44.533347Z",
     "shell.execute_reply": "2025-06-03T04:19:44.532836Z"
    },
    "papermill": {
     "duration": 0.016645,
     "end_time": "2025-06-03T04:19:44.534306",
     "exception": false,
     "start_time": "2025-06-03T04:19:44.517661",
     "status": "completed"
    },
    "tags": []
   },
   "outputs": [
    {
     "name": "stdout",
     "output_type": "stream",
     "text": [
      "507  publications files modified in the last 7 days.\n"
     ]
    }
   ],
   "source": [
    "from datetime import datetime, timedelta, timezone\n",
    "from glob import glob\n",
    "import os\n",
    "\n",
    "files = glob('_build/html/*.md')\n",
    "days = 7\n",
    "now = datetime.today()\n",
    "res = []\n",
    "for fk in files:\n",
    "    stat_result = os.stat(fk).st_ctime\n",
    "    modified = datetime.fromtimestamp(stat_result, tz=timezone.utc).replace(tzinfo=None)\n",
    "    delta = now.today() - modified\n",
    "    if delta <= timedelta(days=days):\n",
    "        res.append((delta.seconds, fk))\n",
    "res = [k[1] for k in reversed(sorted(res, key=lambda x:x[1]))]\n",
    "npub = len(res)\n",
    "print(len(res), f\" publications files modified in the last {days:d} days.\")\n",
    "# [ print('\\t', k) for k in res ];"
   ]
  },
  {
   "cell_type": "code",
   "execution_count": 11,
   "id": "015de740",
   "metadata": {
    "execution": {
     "iopub.execute_input": "2025-06-03T04:19:44.544777Z",
     "iopub.status.busy": "2025-06-03T04:19:44.544595Z",
     "iopub.status.idle": "2025-06-03T04:19:44.568754Z",
     "shell.execute_reply": "2025-06-03T04:19:44.568207Z"
    },
    "papermill": {
     "duration": 0.030544,
     "end_time": "2025-06-03T04:19:44.569718",
     "exception": false,
     "start_time": "2025-06-03T04:19:44.539174",
     "status": "completed"
    },
    "tags": []
   },
   "outputs": [
    {
     "name": "stdout",
     "output_type": "stream",
     "text": [
      "8  publications in the last 7 days.\n"
     ]
    }
   ],
   "source": [
    "import datetime\n",
    "from glob import glob\n",
    "\n",
    "def get_last_n_days(lst, days=1):\n",
    "    \"\"\" Get the documents from the last n days \"\"\"\n",
    "    sorted_lst = sorted(lst, key=lambda x: x[1], reverse=True)\n",
    "    for fname, date in sorted_lst:\n",
    "        if date >= str(datetime.date.today() - datetime.timedelta(days=days)):\n",
    "            yield fname\n",
    "\n",
    "def extract_appearance_dates(lst_file):\n",
    "    dates = []\n",
    "\n",
    "    def get_date(line):\n",
    "        return line\\\n",
    "            .split('Appeared on:')[-1]\\\n",
    "            .split('</mark>')[0].strip()\n",
    "\n",
    "    for fname in lst:\n",
    "        with open(fname, 'r') as f:\n",
    "            found_date = False\n",
    "            for line in f:\n",
    "                if not found_date:\n",
    "                    if \"Appeared on\" in line:\n",
    "                        found_date = True\n",
    "                        dates.append((fname, get_date(line)))\n",
    "                else:\n",
    "                    break\n",
    "    return dates\n",
    "\n",
    "from glob import glob\n",
    "lst = glob('_build/html/*md')\n",
    "days = 7\n",
    "dates = extract_appearance_dates(lst)\n",
    "res = list(get_last_n_days(dates, days))\n",
    "npub = len(res)\n",
    "print(len(res), f\" publications in the last {days:d} days.\")"
   ]
  },
  {
   "cell_type": "code",
   "execution_count": 12,
   "id": "52ca0208",
   "metadata": {
    "execution": {
     "iopub.execute_input": "2025-06-03T04:19:44.580886Z",
     "iopub.status.busy": "2025-06-03T04:19:44.580264Z",
     "iopub.status.idle": "2025-06-03T04:19:44.585271Z",
     "shell.execute_reply": "2025-06-03T04:19:44.584651Z"
    },
    "papermill": {
     "duration": 0.011512,
     "end_time": "2025-06-03T04:19:44.586199",
     "exception": false,
     "start_time": "2025-06-03T04:19:44.574687",
     "status": "completed"
    },
    "scrolled": false,
    "tags": []
   },
   "outputs": [],
   "source": [
    "def create_carousel(npub=4):\n",
    "    \"\"\" Generate the HTML code for a carousel with `npub` slides \"\"\"\n",
    "    carousel = [\"\"\"  <div class=\"carousel\" \"\"\",\n",
    "                \"\"\"       data-flickity='{ \"autoPlay\": 10000, \"adaptiveHeight\": true, \"resize\": true, \"wrapAround\": true, \"pauseAutoPlayOnHover\": true, \"groupCells\": 1 }' id=\"asyncTypeset\">\"\"\"\n",
    "                ]\n",
    "    \n",
    "    item_str = \"\"\"    <div class=\"carousel-cell\"> <div id=\"slide{k}\" class=\"md_view\">Content {k}</div> </div>\"\"\"\n",
    "    for k in range(1, npub + 1):\n",
    "        carousel.append(item_str.format(k=k))\n",
    "    carousel.append(\"  </div>\")\n",
    "    return '\\n'.join(carousel)\n",
    "\n",
    "def create_grid(npub=4):\n",
    "    \"\"\" Generate the HTML code for a flat grid with `npub` slides \"\"\"\n",
    "    grid = [\"\"\"  <div class=\"grid\"> \"\"\",\n",
    "                ]\n",
    "    \n",
    "    item_str = \"\"\"    <div class=\"grid-item\"> <div id=\"slide{k}\" class=\"md_view\">Content {k}</div> </div>\"\"\"\n",
    "    for k in range(1, npub + 1):\n",
    "        grid.append(item_str.format(k=k))\n",
    "    grid.append(\"  </div>\")\n",
    "    return '\\n'.join(grid)"
   ]
  },
  {
   "cell_type": "code",
   "execution_count": 13,
   "id": "a6eac5b6",
   "metadata": {
    "execution": {
     "iopub.execute_input": "2025-06-03T04:19:44.597239Z",
     "iopub.status.busy": "2025-06-03T04:19:44.596764Z",
     "iopub.status.idle": "2025-06-03T04:19:44.601736Z",
     "shell.execute_reply": "2025-06-03T04:19:44.601214Z"
    },
    "papermill": {
     "duration": 0.01148,
     "end_time": "2025-06-03T04:19:44.602719",
     "exception": false,
     "start_time": "2025-06-03T04:19:44.591239",
     "status": "completed"
    },
    "scrolled": false,
    "tags": []
   },
   "outputs": [],
   "source": [
    "carousel = create_carousel(npub)\n",
    "docs = ', '.join(['\"{0:s}\"'.format(k.split('/')[-1]) for k in res])\n",
    "slides = ', '.join([f'\"slide{k}\"' for k in range(1, npub + 1)])\n",
    "\n",
    "with open(\"daily_template.html\", \"r\") as tpl:\n",
    "    page = tpl.read()\n",
    "    page = page.replace(\"{%-- carousel:s --%}\", carousel)\\\n",
    "               .replace(\"{%-- suptitle:s --%}\",  \"7-day archives\" )\\\n",
    "               .replace(\"{%-- docs:s --%}\", docs)\\\n",
    "               .replace(\"{%-- slides:s --%}\", slides)\n",
    "    \n",
    "with open(\"_build/html/index_7days.html\", 'w') as fout:\n",
    "    fout.write(page)"
   ]
  },
  {
   "cell_type": "code",
   "execution_count": 14,
   "id": "adc1a1ec",
   "metadata": {
    "execution": {
     "iopub.execute_input": "2025-06-03T04:19:44.614010Z",
     "iopub.status.busy": "2025-06-03T04:19:44.613447Z",
     "iopub.status.idle": "2025-06-03T04:19:44.620443Z",
     "shell.execute_reply": "2025-06-03T04:19:44.619952Z"
    },
    "papermill": {
     "duration": 0.013694,
     "end_time": "2025-06-03T04:19:44.621448",
     "exception": false,
     "start_time": "2025-06-03T04:19:44.607754",
     "status": "completed"
    },
    "tags": []
   },
   "outputs": [
    {
     "name": "stdout",
     "output_type": "stream",
     "text": [
      "1  publications in the last day.\n"
     ]
    }
   ],
   "source": [
    "# redo for today\n",
    "days = 1\n",
    "res = list(get_last_n_days(dates, days))\n",
    "npub = len(res)\n",
    "print(len(res), f\" publications in the last day.\")\n",
    "\n",
    "carousel = create_carousel(npub)\n",
    "docs = ', '.join(['\"{0:s}\"'.format(k.split('/')[-1]) for k in res])\n",
    "slides = ', '.join([f'\"slide{k}\"' for k in range(1, npub + 1)])\n",
    "\n",
    "with open(\"daily_template.html\", \"r\") as tpl:\n",
    "    page = tpl.read()\n",
    "    page = page.replace(\"{%-- carousel:s --%}\", carousel)\\\n",
    "               .replace(\"{%-- suptitle:s --%}\",  \"Daily\" )\\\n",
    "               .replace(\"{%-- docs:s --%}\", docs)\\\n",
    "               .replace(\"{%-- slides:s --%}\", slides)\n",
    "    \n",
    "# print(carousel, docs, slides)\n",
    "# print(page)\n",
    "with open(\"_build/html/index_daily.html\", 'w') as fout:\n",
    "    fout.write(page)"
   ]
  },
  {
   "cell_type": "code",
   "execution_count": 15,
   "id": "00eece82",
   "metadata": {
    "execution": {
     "iopub.execute_input": "2025-06-03T04:19:44.632668Z",
     "iopub.status.busy": "2025-06-03T04:19:44.632272Z",
     "iopub.status.idle": "2025-06-03T04:19:44.638667Z",
     "shell.execute_reply": "2025-06-03T04:19:44.638123Z"
    },
    "papermill": {
     "duration": 0.013022,
     "end_time": "2025-06-03T04:19:44.639659",
     "exception": false,
     "start_time": "2025-06-03T04:19:44.626637",
     "status": "completed"
    },
    "scrolled": false,
    "tags": []
   },
   "outputs": [
    {
     "name": "stdout",
     "output_type": "stream",
     "text": [
      "6  6 publications selected.\n"
     ]
    }
   ],
   "source": [
    "# Create the flat grid of the last N papers (fixed number regardless of dates)\n",
    "from itertools import islice \n",
    "\n",
    "npub = 6\n",
    "res = [k[0] for k in (islice(reversed(sorted(dates, key=lambda x: x[1])), 6))]\n",
    "print(len(res), f\" {npub} publications selected.\")\n",
    "\n",
    "grid = create_grid(npub)\n",
    "docs = ', '.join(['\"{0:s}\"'.format(k.split('/')[-1]) for k in res])\n",
    "slides = ', '.join([f'\"slide{k}\"' for k in range(1, npub + 1)])\n",
    "\n",
    "with open(\"grid_template.html\", \"r\") as tpl:\n",
    "    page = tpl.read()\n",
    "    page = page.replace(\"{%-- grid-content:s --%}\", grid)\\\n",
    "               .replace(\"{%-- suptitle:s --%}\",  f\"Last {npub:,d} papers\" )\\\n",
    "               .replace(\"{%-- docs:s --%}\", docs)\\\n",
    "               .replace(\"{%-- slides:s --%}\", slides)\n",
    "    \n",
    "# print(grid, docs, slides)\n",
    "# print(page)\n",
    "with open(\"_build/html/index_npub_grid.html\", 'w') as fout:\n",
    "    fout.write(page)"
   ]
  }
 ],
 "metadata": {
  "kernelspec": {
   "display_name": "Python 3 (ipykernel)",
   "language": "python",
   "name": "python3"
  },
  "language_info": {
   "codemirror_mode": {
    "name": "ipython",
    "version": 3
   },
   "file_extension": ".py",
   "mimetype": "text/x-python",
   "name": "python",
   "nbconvert_exporter": "python",
   "pygments_lexer": "ipython3",
   "version": "3.9.22"
  },
  "papermill": {
   "default_parameters": {},
   "duration": 61.440386,
   "end_time": "2025-06-03T04:19:44.860906",
   "environment_variables": {},
   "exception": null,
   "input_path": "MPIA daily digest.ipynb",
   "output_path": "log.ipynb",
   "parameters": {},
   "start_time": "2025-06-03T04:18:43.420520",
   "version": "2.6.0"
  },
  "vscode": {
   "interpreter": {
    "hash": "aee8b7b246df8f9039afb4144a1f6fd8d2ca17a180786b69acc140d282b71a49"
   }
  },
  "widgets": {
   "application/vnd.jupyter.widget-state+json": {
    "state": {
     "0661afcc1b39494daf74987a82d85d8d": {
      "model_module": "@jupyter-widgets/controls",
      "model_module_version": "2.0.0",
      "model_name": "ProgressStyleModel",
      "state": {
       "_model_module": "@jupyter-widgets/controls",
       "_model_module_version": "2.0.0",
       "_model_name": "ProgressStyleModel",
       "_view_count": null,
       "_view_module": "@jupyter-widgets/base",
       "_view_module_version": "2.0.0",
       "_view_name": "StyleView",
       "bar_color": null,
       "description_width": ""
      }
     },
     "0c50485e90f84c8784a980261ce2b307": {
      "model_module": "@jupyter-widgets/base",
      "model_module_version": "2.0.0",
      "model_name": "LayoutModel",
      "state": {
       "_model_module": "@jupyter-widgets/base",
       "_model_module_version": "2.0.0",
       "_model_name": "LayoutModel",
       "_view_count": null,
       "_view_module": "@jupyter-widgets/base",
       "_view_module_version": "2.0.0",
       "_view_name": "LayoutView",
       "align_content": null,
       "align_items": null,
       "align_self": null,
       "border_bottom": null,
       "border_left": null,
       "border_right": null,
       "border_top": null,
       "bottom": null,
       "display": null,
       "flex": null,
       "flex_flow": null,
       "grid_area": null,
       "grid_auto_columns": null,
       "grid_auto_flow": null,
       "grid_auto_rows": null,
       "grid_column": null,
       "grid_gap": null,
       "grid_row": null,
       "grid_template_areas": null,
       "grid_template_columns": null,
       "grid_template_rows": null,
       "height": null,
       "justify_content": null,
       "justify_items": null,
       "left": null,
       "margin": null,
       "max_height": null,
       "max_width": null,
       "min_height": null,
       "min_width": null,
       "object_fit": null,
       "object_position": null,
       "order": null,
       "overflow": null,
       "padding": null,
       "right": null,
       "top": null,
       "visibility": null,
       "width": null
      }
     },
     "20ff69ed8682484a98678a46189035da": {
      "model_module": "@jupyter-widgets/controls",
      "model_module_version": "2.0.0",
      "model_name": "HTMLStyleModel",
      "state": {
       "_model_module": "@jupyter-widgets/controls",
       "_model_module_version": "2.0.0",
       "_model_name": "HTMLStyleModel",
       "_view_count": null,
       "_view_module": "@jupyter-widgets/base",
       "_view_module_version": "2.0.0",
       "_view_name": "StyleView",
       "background": null,
       "description_width": "",
       "font_size": null,
       "text_color": null
      }
     },
     "25d8ed16fb5a4c538b7a7d0edd7894c3": {
      "model_module": "@jupyter-widgets/controls",
      "model_module_version": "2.0.0",
      "model_name": "HTMLModel",
      "state": {
       "_dom_classes": [],
       "_model_module": "@jupyter-widgets/controls",
       "_model_module_version": "2.0.0",
       "_model_name": "HTMLModel",
       "_view_count": null,
       "_view_module": "@jupyter-widgets/controls",
       "_view_module_version": "2.0.0",
       "_view_name": "HTMLView",
       "description": "",
       "description_allow_html": false,
       "layout": "IPY_MODEL_0c50485e90f84c8784a980261ce2b307",
       "placeholder": "​",
       "style": "IPY_MODEL_a862f0b6f2b3480eb6334038f89ee5d8",
       "tabbable": null,
       "tooltip": null,
       "value": " 5/5 [00:35&lt;00:00,  6.05s/it]"
      }
     },
     "6b26d651ef764a8d8c4523510fcbb54b": {
      "model_module": "@jupyter-widgets/base",
      "model_module_version": "2.0.0",
      "model_name": "LayoutModel",
      "state": {
       "_model_module": "@jupyter-widgets/base",
       "_model_module_version": "2.0.0",
       "_model_name": "LayoutModel",
       "_view_count": null,
       "_view_module": "@jupyter-widgets/base",
       "_view_module_version": "2.0.0",
       "_view_name": "LayoutView",
       "align_content": null,
       "align_items": null,
       "align_self": null,
       "border_bottom": null,
       "border_left": null,
       "border_right": null,
       "border_top": null,
       "bottom": null,
       "display": null,
       "flex": null,
       "flex_flow": null,
       "grid_area": null,
       "grid_auto_columns": null,
       "grid_auto_flow": null,
       "grid_auto_rows": null,
       "grid_column": null,
       "grid_gap": null,
       "grid_row": null,
       "grid_template_areas": null,
       "grid_template_columns": null,
       "grid_template_rows": null,
       "height": null,
       "justify_content": null,
       "justify_items": null,
       "left": null,
       "margin": null,
       "max_height": null,
       "max_width": null,
       "min_height": null,
       "min_width": null,
       "object_fit": null,
       "object_position": null,
       "order": null,
       "overflow": null,
       "padding": null,
       "right": null,
       "top": null,
       "visibility": null,
       "width": null
      }
     },
     "86b1b08d76df4c92b607fba93e2d656f": {
      "model_module": "@jupyter-widgets/base",
      "model_module_version": "2.0.0",
      "model_name": "LayoutModel",
      "state": {
       "_model_module": "@jupyter-widgets/base",
       "_model_module_version": "2.0.0",
       "_model_name": "LayoutModel",
       "_view_count": null,
       "_view_module": "@jupyter-widgets/base",
       "_view_module_version": "2.0.0",
       "_view_name": "LayoutView",
       "align_content": null,
       "align_items": null,
       "align_self": null,
       "border_bottom": null,
       "border_left": null,
       "border_right": null,
       "border_top": null,
       "bottom": null,
       "display": null,
       "flex": null,
       "flex_flow": null,
       "grid_area": null,
       "grid_auto_columns": null,
       "grid_auto_flow": null,
       "grid_auto_rows": null,
       "grid_column": null,
       "grid_gap": null,
       "grid_row": null,
       "grid_template_areas": null,
       "grid_template_columns": null,
       "grid_template_rows": null,
       "height": null,
       "justify_content": null,
       "justify_items": null,
       "left": null,
       "margin": null,
       "max_height": null,
       "max_width": null,
       "min_height": null,
       "min_width": null,
       "object_fit": null,
       "object_position": null,
       "order": null,
       "overflow": null,
       "padding": null,
       "right": null,
       "top": null,
       "visibility": null,
       "width": null
      }
     },
     "a1b3bd91087642c2a73503053fd2c886": {
      "model_module": "@jupyter-widgets/controls",
      "model_module_version": "2.0.0",
      "model_name": "HBoxModel",
      "state": {
       "_dom_classes": [],
       "_model_module": "@jupyter-widgets/controls",
       "_model_module_version": "2.0.0",
       "_model_name": "HBoxModel",
       "_view_count": null,
       "_view_module": "@jupyter-widgets/controls",
       "_view_module_version": "2.0.0",
       "_view_name": "HBoxView",
       "box_style": "",
       "children": [
        "IPY_MODEL_bb2afc910a6f4d59956878cff617af1e",
        "IPY_MODEL_bf214aa2d29b48509723ff00e74244e7",
        "IPY_MODEL_25d8ed16fb5a4c538b7a7d0edd7894c3"
       ],
       "layout": "IPY_MODEL_6b26d651ef764a8d8c4523510fcbb54b",
       "tabbable": null,
       "tooltip": null
      }
     },
     "a4261625a5c646dc91507c1bea3272ac": {
      "model_module": "@jupyter-widgets/base",
      "model_module_version": "2.0.0",
      "model_name": "LayoutModel",
      "state": {
       "_model_module": "@jupyter-widgets/base",
       "_model_module_version": "2.0.0",
       "_model_name": "LayoutModel",
       "_view_count": null,
       "_view_module": "@jupyter-widgets/base",
       "_view_module_version": "2.0.0",
       "_view_name": "LayoutView",
       "align_content": null,
       "align_items": null,
       "align_self": null,
       "border_bottom": null,
       "border_left": null,
       "border_right": null,
       "border_top": null,
       "bottom": null,
       "display": null,
       "flex": null,
       "flex_flow": null,
       "grid_area": null,
       "grid_auto_columns": null,
       "grid_auto_flow": null,
       "grid_auto_rows": null,
       "grid_column": null,
       "grid_gap": null,
       "grid_row": null,
       "grid_template_areas": null,
       "grid_template_columns": null,
       "grid_template_rows": null,
       "height": null,
       "justify_content": null,
       "justify_items": null,
       "left": null,
       "margin": null,
       "max_height": null,
       "max_width": null,
       "min_height": null,
       "min_width": null,
       "object_fit": null,
       "object_position": null,
       "order": null,
       "overflow": null,
       "padding": null,
       "right": null,
       "top": null,
       "visibility": null,
       "width": null
      }
     },
     "a862f0b6f2b3480eb6334038f89ee5d8": {
      "model_module": "@jupyter-widgets/controls",
      "model_module_version": "2.0.0",
      "model_name": "HTMLStyleModel",
      "state": {
       "_model_module": "@jupyter-widgets/controls",
       "_model_module_version": "2.0.0",
       "_model_name": "HTMLStyleModel",
       "_view_count": null,
       "_view_module": "@jupyter-widgets/base",
       "_view_module_version": "2.0.0",
       "_view_name": "StyleView",
       "background": null,
       "description_width": "",
       "font_size": null,
       "text_color": null
      }
     },
     "bb2afc910a6f4d59956878cff617af1e": {
      "model_module": "@jupyter-widgets/controls",
      "model_module_version": "2.0.0",
      "model_name": "HTMLModel",
      "state": {
       "_dom_classes": [],
       "_model_module": "@jupyter-widgets/controls",
       "_model_module_version": "2.0.0",
       "_model_name": "HTMLModel",
       "_view_count": null,
       "_view_module": "@jupyter-widgets/controls",
       "_view_module_version": "2.0.0",
       "_view_name": "HTMLView",
       "description": "",
       "description_allow_html": false,
       "layout": "IPY_MODEL_a4261625a5c646dc91507c1bea3272ac",
       "placeholder": "​",
       "style": "IPY_MODEL_20ff69ed8682484a98678a46189035da",
       "tabbable": null,
       "tooltip": null,
       "value": "100%"
      }
     },
     "bf214aa2d29b48509723ff00e74244e7": {
      "model_module": "@jupyter-widgets/controls",
      "model_module_version": "2.0.0",
      "model_name": "FloatProgressModel",
      "state": {
       "_dom_classes": [],
       "_model_module": "@jupyter-widgets/controls",
       "_model_module_version": "2.0.0",
       "_model_name": "FloatProgressModel",
       "_view_count": null,
       "_view_module": "@jupyter-widgets/controls",
       "_view_module_version": "2.0.0",
       "_view_name": "ProgressView",
       "bar_style": "success",
       "description": "",
       "description_allow_html": false,
       "layout": "IPY_MODEL_86b1b08d76df4c92b607fba93e2d656f",
       "max": 5.0,
       "min": 0.0,
       "orientation": "horizontal",
       "style": "IPY_MODEL_0661afcc1b39494daf74987a82d85d8d",
       "tabbable": null,
       "tooltip": null,
       "value": 5.0
      }
     }
    },
    "version_major": 2,
    "version_minor": 0
   }
  }
 },
 "nbformat": 4,
 "nbformat_minor": 5
}