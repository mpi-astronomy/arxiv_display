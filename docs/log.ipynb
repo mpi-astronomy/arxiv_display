{
 "cells": [
  {
   "cell_type": "markdown",
   "id": "92bcb855",
   "metadata": {
    "papermill": {
     "duration": 0.004402,
     "end_time": "2023-09-28T04:05:40.677938",
     "exception": false,
     "start_time": "2023-09-28T04:05:40.673536",
     "status": "completed"
    },
    "tags": []
   },
   "source": [
    "# MPIA Arxiv on Deck 2\n",
    "\n",
    "Contains the steps to produce the paper extractions."
   ]
  },
  {
   "cell_type": "code",
   "execution_count": 1,
   "id": "3a0d6e11",
   "metadata": {
    "execution": {
     "iopub.execute_input": "2023-09-28T04:05:40.688376Z",
     "iopub.status.busy": "2023-09-28T04:05:40.687811Z",
     "iopub.status.idle": "2023-09-28T04:05:41.146639Z",
     "shell.execute_reply": "2023-09-28T04:05:41.145930Z"
    },
    "papermill": {
     "duration": 0.46542,
     "end_time": "2023-09-28T04:05:41.148628",
     "exception": false,
     "start_time": "2023-09-28T04:05:40.683208",
     "status": "completed"
    },
    "tags": []
   },
   "outputs": [],
   "source": [
    "# Imports\n",
    "import os\n",
    "from IPython.display import Markdown, display\n",
    "from tqdm.notebook import tqdm\n",
    "import warnings\n",
    "from PIL import Image \n",
    "\n",
    "# requires arxiv_on_deck_2\n",
    "\n",
    "from arxiv_on_deck_2.arxiv2 import (get_new_papers, \n",
    "                                    get_paper_from_identifier,\n",
    "                                    retrieve_document_source, \n",
    "                                    get_markdown_badge)\n",
    "from arxiv_on_deck_2 import (latex,\n",
    "                             latex_bib,\n",
    "                             mpia,\n",
    "                             highlight_authors_in_list)\n",
    "\n",
    "# Sometimes images are really big\n",
    "Image.MAX_IMAGE_PIXELS = 1000000000 "
   ]
  },
  {
   "cell_type": "code",
   "execution_count": 2,
   "id": "22aa9d44",
   "metadata": {
    "execution": {
     "iopub.execute_input": "2023-09-28T04:05:41.157750Z",
     "iopub.status.busy": "2023-09-28T04:05:41.157305Z",
     "iopub.status.idle": "2023-09-28T04:05:41.163221Z",
     "shell.execute_reply": "2023-09-28T04:05:41.162524Z"
    },
    "papermill": {
     "duration": 0.012714,
     "end_time": "2023-09-28T04:05:41.165041",
     "exception": false,
     "start_time": "2023-09-28T04:05:41.152327",
     "status": "completed"
    },
    "tags": []
   },
   "outputs": [],
   "source": [
    "# Some useful definitions.\n",
    "\n",
    "class AffiliationWarning(UserWarning):\n",
    "    pass\n",
    "\n",
    "class AffiliationError(RuntimeError):\n",
    "    pass\n",
    "\n",
    "def validation(source: str):\n",
    "    \"\"\"Raises error paper during parsing of source file\n",
    "    \n",
    "    Allows checks before parsing TeX code.\n",
    "    \n",
    "    Raises AffiliationWarning\n",
    "    \"\"\"\n",
    "    check = mpia.affiliation_verifications(source, verbose=True)\n",
    "    if check is not True:\n",
    "        raise AffiliationError(\"mpia.affiliation_verifications: \" + check)\n",
    "\n",
    "        \n",
    "warnings.simplefilter('always', AffiliationWarning)\n",
    "\n",
    "\n",
    "def get_markdown_qrcode(paper_id: str):\n",
    "    \"\"\" Generate a qrcode to the arxiv page using qrserver.com\n",
    "    \n",
    "    :param paper: Arxiv paper\n",
    "    :returns: markdown text\n",
    "    \"\"\"\n",
    "    url = r\"https://api.qrserver.com/v1/create-qr-code/?size=100x100&data=\"\n",
    "    txt = f\"\"\"<img src={url}\"https://arxiv.org/abs/{paper_id}\">\"\"\"\n",
    "    txt = '<div id=\"qrcode\">' + txt + '</div>'\n",
    "    return txt"
   ]
  },
  {
   "cell_type": "markdown",
   "id": "14bd6310",
   "metadata": {
    "papermill": {
     "duration": 0.003366,
     "end_time": "2023-09-28T04:05:41.171942",
     "exception": false,
     "start_time": "2023-09-28T04:05:41.168576",
     "status": "completed"
    },
    "tags": []
   },
   "source": [
    "## get list of arxiv paper candidates\n",
    "\n",
    "We use the MPIA mitarbeiter list webpage from mpia.de to get author names\n",
    "We then get all new papers from Arxiv and match authors"
   ]
  },
  {
   "cell_type": "code",
   "execution_count": 3,
   "id": "2645e73a",
   "metadata": {
    "execution": {
     "iopub.execute_input": "2023-09-28T04:05:41.180237Z",
     "iopub.status.busy": "2023-09-28T04:05:41.179622Z",
     "iopub.status.idle": "2023-09-28T04:06:06.635349Z",
     "shell.execute_reply": "2023-09-28T04:06:06.634380Z"
    },
    "papermill": {
     "duration": 25.461992,
     "end_time": "2023-09-28T04:06:06.637298",
     "exception": false,
     "start_time": "2023-09-28T04:05:41.175306",
     "status": "completed"
    },
    "tags": []
   },
   "outputs": [
    {
     "name": "stdout",
     "output_type": "stream",
     "text": [
      "K. El-Badry  ->  K. El-Badry  |  ['K. El-Badry']\n",
      "E. Schinnerer  ->  E. Schinnerer  |  ['E. Schinnerer']\n",
      "C. Desgrange  ->  C. Desgrange  |  ['C. Desgrange']\n",
      "J. Olofsson  ->  J. Olofsson  |  ['J. Olofsson']\n",
      "F. Walter  ->  F. Walter  |  ['F. Walter']\n",
      "L. Boogaard  ->  L. Boogaard  |  ['L. Boogaard']\n"
     ]
    },
    {
     "name": "stdout",
     "output_type": "stream",
     "text": [
      "Arxiv has 66 new papers today\n",
      "          5 with possible author matches\n"
     ]
    }
   ],
   "source": [
    "# get list from MPIA website\n",
    "# it automatically filters identified non-scientists :func:`mpia.filter_non_scientists`\n",
    "mpia_authors = mpia.get_mpia_mitarbeiter_list()\n",
    "normed_mpia_authors = [k[1] for k in mpia_authors]   # initials + fullname\n",
    "new_papers = get_new_papers()\n",
    "# add manual references\n",
    "add_paper_refs = []\n",
    "new_papers.extend([get_paper_from_identifier(k) for k in add_paper_refs])\n",
    "\n",
    "candidates = []\n",
    "for paperk in new_papers:\n",
    "    # Check author list with their initials\n",
    "    normed_author_list = [mpia.get_initials(k) for k in paperk['authors']]\n",
    "    hl_authors = highlight_authors_in_list(normed_author_list, normed_mpia_authors, verbose=True)\n",
    "    matches = [(hl, orig) for hl, orig in zip(hl_authors, paperk['authors']) if 'mark' in hl]\n",
    "    paperk['authors'] = hl_authors\n",
    "    if matches:\n",
    "        # only select paper if an author matched our list\n",
    "        candidates.append(paperk)\n",
    "print(\"\"\"Arxiv has {0:,d} new papers today\"\"\".format(len(new_papers)))        \n",
    "print(\"\"\"          {0:,d} with possible author matches\"\"\".format(len(candidates)))"
   ]
  },
  {
   "cell_type": "markdown",
   "id": "3543b34a",
   "metadata": {
    "papermill": {
     "duration": 0.003656,
     "end_time": "2023-09-28T04:06:06.644880",
     "exception": false,
     "start_time": "2023-09-28T04:06:06.641224",
     "status": "completed"
    },
    "tags": []
   },
   "source": [
    "# Parse sources and generate relevant outputs\n",
    "\n",
    "From the candidates, we do the following steps:\n",
    "* get their tarball from ArXiv (and extract data)\n",
    "* find the main .tex file: find one with \\documentclass{...} (sometimes it's non trivial)\n",
    "* Check affiliations with :func:`validation`, which uses :func:`mpia.affiliation_verifications`\n",
    "* If passing the affiliations: we parse the .tex source\n",
    "   * inject sub-documents into the main (flatten the main document)\n",
    "   * parse structure, extract information (title, abstract, authors, figures...)\n",
    "   * handles `\\graphicspath` if provided\n",
    "* Generate the .md document."
   ]
  },
  {
   "cell_type": "code",
   "execution_count": 4,
   "id": "9576b79e",
   "metadata": {
    "execution": {
     "iopub.execute_input": "2023-09-28T04:06:06.653717Z",
     "iopub.status.busy": "2023-09-28T04:06:06.653443Z",
     "iopub.status.idle": "2023-09-28T04:07:31.590583Z",
     "shell.execute_reply": "2023-09-28T04:07:31.589951Z"
    },
    "papermill": {
     "duration": 84.94404,
     "end_time": "2023-09-28T04:07:31.592489",
     "exception": false,
     "start_time": "2023-09-28T04:06:06.648449",
     "status": "completed"
    },
    "scrolled": false,
    "tags": []
   },
   "outputs": [
    {
     "data": {
      "application/vnd.jupyter.widget-view+json": {
       "model_id": "d73ef19bb2a94280995995119efd8cf4",
       "version_major": 2,
       "version_minor": 0
      },
      "text/plain": [
       "  0%|          | 0/5 [00:00<?, ?it/s]"
      ]
     },
     "metadata": {},
     "output_type": "display_data"
    },
    {
     "name": "stdout",
     "output_type": "stream",
     "text": [
      "Retrieving document from  https://arxiv.org/e-print/2309.15143\n"
     ]
    },
    {
     "name": "stdout",
     "output_type": "stream",
     "text": [
      "extracting tarball to tmp_2309.15143..."
     ]
    },
    {
     "name": "stdout",
     "output_type": "stream",
     "text": [
      " done.\n",
      "Retrieving document from  https://arxiv.org/e-print/2309.15150\n"
     ]
    },
    {
     "name": "stdout",
     "output_type": "stream",
     "text": [
      "extracting tarball to tmp_2309.15150..."
     ]
    },
    {
     "name": "stdout",
     "output_type": "stream",
     "text": [
      " done.\n"
     ]
    },
    {
     "name": "stdout",
     "output_type": "stream",
     "text": [
      "E. Schinnerer  ->  E. Schinnerer  |  ['E. Schinnerer']\n"
     ]
    },
    {
     "name": "stdout",
     "output_type": "stream",
     "text": [
      "Found 125 bibliographic references in tmp_2309.15150/aanda.bbl.\n",
      "syntax error in line 417: '=' expected\n",
      "Retrieving document from  https://arxiv.org/e-print/2309.15158\n"
     ]
    },
    {
     "name": "stdout",
     "output_type": "stream",
     "text": [
      "extracting tarball to tmp_2309.15158..."
     ]
    },
    {
     "name": "stdout",
     "output_type": "stream",
     "text": [
      " done.\n"
     ]
    },
    {
     "name": "stdout",
     "output_type": "stream",
     "text": [
      "C. Desgrange  ->  C. Desgrange  |  ['C. Desgrange']\n",
      "J. Olofsson  ->  J. Olofsson  |  ['J. Olofsson']\n"
     ]
    },
    {
     "name": "stdout",
     "output_type": "stream",
     "text": [
      "Found 106 bibliographic references in tmp_2309.15158/proofs_arxiv.bbl.\n",
      "Retrieving document from  https://arxiv.org/e-print/2309.15310\n"
     ]
    },
    {
     "name": "stdout",
     "output_type": "stream",
     "text": [
      "extracting tarball to tmp_2309.15310..."
     ]
    },
    {
     "name": "stdout",
     "output_type": "stream",
     "text": [
      " done.\n",
      "Retrieving document from  https://arxiv.org/e-print/2309.15671\n"
     ]
    },
    {
     "name": "stdout",
     "output_type": "stream",
     "text": [
      "extracting tarball to tmp_2309.15671..."
     ]
    },
    {
     "name": "stdout",
     "output_type": "stream",
     "text": [
      " done.\n"
     ]
    },
    {
     "name": "stdout",
     "output_type": "stream",
     "text": [
      "F. Walter  ->  F. Walter  |  ['F. Walter']\n",
      "L. Boogaard  ->  L. Boogaard  |  ['L. Boogaard']\n"
     ]
    },
    {
     "name": "stdout",
     "output_type": "stream",
     "text": [
      "Found 170 bibliographic references in tmp_2309.15671/Manuscript.bbl.\n",
      "syntax error in line 11: '=' expected\n"
     ]
    }
   ],
   "source": [
    "documents = []\n",
    "failed = []\n",
    "for paper in tqdm(candidates):\n",
    "    paper_id = paper['identifier'].lower().replace('arxiv:', '')\n",
    "    \n",
    "    folder = f'tmp_{paper_id}'\n",
    "\n",
    "    try:\n",
    "        if not os.path.isdir(folder):\n",
    "            folder = retrieve_document_source(f\"{paper_id}\", f'tmp_{paper_id}')\n",
    "        \n",
    "        try:\n",
    "            doc = latex.LatexDocument(folder, validation=validation)    \n",
    "        except AffiliationError as affilerror:\n",
    "            msg = f\"ArXiv:{paper_id:s} is not an MPIA paper... \" + str(affilerror)\n",
    "            failed.append((paper, \"affiliation error: \" + str(affilerror) ))\n",
    "            continue\n",
    "        \n",
    "        # Hack because sometimes author parsing does not work well\n",
    "        if (len(doc.authors) != len(paper['authors'])):\n",
    "            doc._authors = paper['authors']\n",
    "        else:\n",
    "            # highlight authors (FIXME: doc.highlight_authors)\n",
    "            # done on arxiv paper already\n",
    "            doc._authors = highlight_authors_in_list(\n",
    "                [mpia.get_initials(k) for k in doc.authors], \n",
    "                normed_mpia_authors, verbose=True)\n",
    "        if (doc.abstract) in (None, ''):\n",
    "            doc._abstract = paper['abstract']\n",
    "            \n",
    "        doc.comment = (get_markdown_badge(paper_id) + \n",
    "                       \"<mark>Appeared on: \" + paper['date'] + \"</mark> - \")\n",
    "        if paper['comments']:\n",
    "            doc.comment += \" _\" + paper['comments'] + \"_\"\n",
    "        \n",
    "        full_md = doc.generate_markdown_text()\n",
    "        \n",
    "        full_md += get_markdown_qrcode(paper_id)\n",
    "        \n",
    "        # replace citations\n",
    "        try:\n",
    "            bibdata = latex_bib.LatexBib.from_doc(doc)\n",
    "            full_md = latex_bib.replace_citations(full_md, bibdata)\n",
    "        except Exception as e:\n",
    "            print(e)\n",
    "        \n",
    "        documents.append((paper_id, full_md))\n",
    "    except Exception as e:\n",
    "        warnings.warn(latex.LatexWarning(f\"{paper_id:s} did not run properly\\n\" +\n",
    "                                         str(e)\n",
    "                                        ))\n",
    "        failed.append((paper, \"latex error \" + str(e)))"
   ]
  },
  {
   "cell_type": "markdown",
   "id": "2505a25c",
   "metadata": {
    "papermill": {
     "duration": 0.004804,
     "end_time": "2023-09-28T04:07:31.602242",
     "exception": false,
     "start_time": "2023-09-28T04:07:31.597438",
     "status": "completed"
    },
    "tags": []
   },
   "source": [
    "### Export the logs\n",
    "\n",
    "Throughout, we also keep track of the logs per paper. see `logs-{today date}.md` "
   ]
  },
  {
   "cell_type": "code",
   "execution_count": 5,
   "id": "d733828a",
   "metadata": {
    "execution": {
     "iopub.execute_input": "2023-09-28T04:07:31.613398Z",
     "iopub.status.busy": "2023-09-28T04:07:31.612704Z",
     "iopub.status.idle": "2023-09-28T04:07:31.629054Z",
     "shell.execute_reply": "2023-09-28T04:07:31.628514Z"
    },
    "papermill": {
     "duration": 0.023595,
     "end_time": "2023-09-28T04:07:31.630477",
     "exception": false,
     "start_time": "2023-09-28T04:07:31.606882",
     "status": "completed"
    },
    "scrolled": false,
    "tags": []
   },
   "outputs": [
    {
     "data": {
      "text/markdown": [
       "## Successful papers"
      ],
      "text/plain": [
       "<IPython.core.display.Markdown object>"
      ]
     },
     "metadata": {},
     "output_type": "display_data"
    },
    {
     "data": {
      "text/markdown": [
       "\n",
       "|||\n",
       "|---:|:---|\n",
       "| [![arXiv](https://img.shields.io/badge/arXiv-arXiv:2309.15150-b31b1b.svg)](https://arxiv.org/abs/arXiv:2309.15150) | **A$^3$COSMOS: the infrared luminosity function and dust-obscured star  formation rate density at $0.5<z<6$**  |\n",
       "|| A. Traina, et al. -- incl., <mark>E. Schinnerer</mark> |\n",
       "|*Appeared on*| *2023-09-28*|\n",
       "|*Comments*| *17 pages, 15 figures, 5 tables, accepted for publication on A&A*|\n",
       "|**Abstract**| Aims: We leverage the largest available Atacama Large Millimetre/submillimetre Array (ALMA) survey from the archive (A$^3$COSMOS) to study to study infrared luminosity function and dust-obscured star formation rate density of sub-millimeter/millimeter (sub-mm/mm) galaxies from $z=0.5\\,-\\,6$. Methods: The A$^3$COSMOS survey utilizes all publicly available ALMA data in the COSMOS field, therefore having inhomogeneous coverage in terms of observing wavelength and depth. In order to derive the luminosity functions and star formation rate densities, we apply a newly developed method that corrects the statistics of an inhomogeously sampled survey of individual pointings to those representing an unbiased blind survey. Results: We find our sample to mostly consist of massive ($M_{\\star} \\sim 10^{10} - 10^{12}$ $\\rm M_{\\odot}$), IR-bright ($L_* \\sim 10^{11}-10^{13.5} \\rm L_{\\odot}$), highly star-forming (SFR $\\sim 100-1000$ $\\rm M_{\\odot}$ $\\rm yr^{-1}$) galaxies. We find an evolutionary trend in the typical density ($\\Phi^*$) and luminosity ($L^*$) of the galaxy population, which decrease and increase with redshift, respectively. Our IR LF is in agreement with previous literature results and we are able to extend to high redshift ($z > 3$) the constraints on the knee and bright-end of the LF, derived by using the Herschel data. Finally, we obtain the SFRD up to $z\\sim 6$ by integrating the IR LF, finding a broad peak from $z \\sim 1$ to $z \\sim 3$ and a decline towards higher redshifts, in agreement with recent IR/mm-based studies, within the uncertainties, thus implying the presence of larger quantities of dust than what is expected by optical/UV studies. |"
      ],
      "text/plain": [
       "[arXiv:2309.15150] A$^3$COSMOS: the infrared luminosity function and dust-obscured star  formation rate density at $0.5<z<6$\n",
       "\tA. Traina, et al. -- incl., <mark>E. Schinnerer</mark>"
      ]
     },
     "metadata": {},
     "output_type": "display_data"
    },
    {
     "data": {
      "text/markdown": [
       "\n",
       "|||\n",
       "|---:|:---|\n",
       "| [![arXiv](https://img.shields.io/badge/arXiv-arXiv:2309.15158-b31b1b.svg)](https://arxiv.org/abs/arXiv:2309.15158) | **The first scattered light images of HD 112810, a faint debris disk in  the Sco-Cen association**  |\n",
       "|| E. C. Matthews, et al. -- incl., <mark>C. Desgrange</mark>, <mark>J. Olofsson</mark> |\n",
       "|*Appeared on*| *2023-09-28*|\n",
       "|*Comments*| *A&A accepted. 13 pages, 6 figures + appendix*|\n",
       "|**Abstract**| Context: Circumstellar debris disks provide insight into the formation and early evolution of planetary systems. Resolved belts in particular help to locate planetesimals in exosystems, and can hint at the presence of disk-sculpting exoplanets. Aims: We study the circumstellar environment of HD 112810 (HIP 63439), a mid-F type star in the Sco-Cen association with a significant infrared excess indicating the presence of a circumstellar debris disk. Methods: We collected five high-contrast observations of HD 112810 with VLT/SPHERE. We identified a debris disk in scattered light, and found that the debris signature is robust over a number of epochs and a variety of reduction techniques. We modelled the disk, accounting for self-subtraction and assuming that it is optically thin. Results: We find a single-belt debris disk, with a radius of 118$\\pm$9au and an inclination angle of ${75.7}^{+1.1}_{-1.3}$$\\deg$. This is in good agreement with the constraints from SED modelling and from a partially-resolved ALMA image of the system. No planets are detected, though planets below the detection limit ($\\sim$2.6M$_\\textrm{J}$ at a projected separation of 118au) could be present and could have contributed to sculpting the ring of debris. Conclusions: HD 112810 adds to the growing inventory of debris disks imaged in scattered light. The disk is faint, but the radius and the inclination of the disk are promising for follow-up studies of the dust properties. |"
      ],
      "text/plain": [
       "[arXiv:2309.15158] The first scattered light images of HD 112810, a faint debris disk in  the Sco-Cen association\n",
       "\tE. C. Matthews, et al. -- incl., <mark>C. Desgrange</mark>, <mark>J. Olofsson</mark>"
      ]
     },
     "metadata": {},
     "output_type": "display_data"
    },
    {
     "data": {
      "text/markdown": [
       "\n",
       "|||\n",
       "|---:|:---|\n",
       "| [![arXiv](https://img.shields.io/badge/arXiv-arXiv:2309.15671-b31b1b.svg)](https://arxiv.org/abs/arXiv:2309.15671) | **MIDIS: Unveiling the Role of Strong Ha-emitters during the Epoch of  Reionization with JWST**  |\n",
       "|| P. Rinaldi, et al. -- incl., <mark>F. Walter</mark>, <mark>L. Boogaard</mark> |\n",
       "|*Appeared on*| *2023-09-28*|\n",
       "|*Comments*| *21 pages, 12 Figures, 1 table. Submitted in ApJ. Comments are welcome*|\n",
       "|**Abstract**| We make use of the deepest JWST/MIRI image at 5.6 um, obtained in the Hubble eXtreme Deep Field (XDF), to constrain the role of strong Ha emitters (HAEs) in Cosmic Reionization at z~7-8. Our sample of bright (M(UV) < -20 mag) HAEs is comprised of young (<30 Myr) galaxies with low stellar masses (<= 10^9 Msun). They span a wide range of UV-beta slopes, with a median beta = -2.22+-0.35, which broadly correlates with stellar mass. We estimate the ionizing photon production efficiency (xi_ion,0) of these sources (assuming f_esc,LyC = 0), which yields a median value log10(xi_ion,0/(Hz erg^(-1))) = 25.54(+0.09, -0.10). We show that xi_ion,0 positively correlates with EW0(Ha) and specific star formation rate (sSFR). Instead xi_ion,0 weakly anti-correlates with stellar mass and beta. Based on the beta values, we estimate f_esc,LyC=0.07(+0.03, -0.02), which results in log10(xi_ion/(Hz erg^(-1))) = 25.59 (+0.06, -0.04). By considering this result along with others from the literature, we find a mild evolution of xi_ion with redshift. Finally, we assess the impact of strong HAEs during Cosmic Reionization at z~7-8. We find that our HAEs do not need high values of f_esc, rel (only 6-10%) to be able to reionize their surrounding intergalactic medium. They have N_dot_ion = 10^(50.43+-0.3) s^(-1)Mpc^(-3) and contribute more than a factor of two in terms of emitted ionizing photons per comoving volume compared to non-Ha emitters in the same redshift bin, suggesting that strong, young, and low stellar-mass emitters could have played a central role during the Epoch of Reionization. |"
      ],
      "text/plain": [
       "[arXiv:2309.15671] MIDIS: Unveiling the Role of Strong Ha-emitters during the Epoch of  Reionization with JWST\n",
       "\tP. Rinaldi, et al. -- incl., <mark>F. Walter</mark>, <mark>L. Boogaard</mark>"
      ]
     },
     "metadata": {},
     "output_type": "display_data"
    },
    {
     "data": {
      "text/markdown": [
       "## Failed papers"
      ],
      "text/plain": [
       "<IPython.core.display.Markdown object>"
      ]
     },
     "metadata": {},
     "output_type": "display_data"
    },
    {
     "data": {
      "text/markdown": [
       "\n",
       "|||\n",
       "|---:|:---|\n",
       "| [![arXiv](https://img.shields.io/badge/arXiv-arXiv:2309.15143-b31b1b.svg)](https://arxiv.org/abs/arXiv:2309.15143) | **Triage of the Gaia DR3 astrometric orbits. II. A census of white dwarfs**  |\n",
       "|| S. Shahaf, et al. -- incl., <mark>K. El-Badry</mark> |\n",
       "|*Appeared on*| *2023-09-28*|\n",
       "|*Comments*| *Submitted to MNRAS*|\n",
       "|**Abstract**| The third data release of Gaia was the first to include orbital solutions assuming non-single stars. Here, we apply the astrometric triage technique of Shahaf et al. 2019 to identify binary star systems with companions that are not single main-sequence stars. Gaia's synthetic photometry of these binaries is used to distinguish between systems likely to have white-dwarf companions and those that may be hierarchical triples. The study uncovered a population of nearly 3200 binaries, characterised by orbital separations on the order of an astronomical unit, in which the faint astrometric companion is probably a white dwarf. Remarkably, over 110 of these systems exhibit significant ultraviolet excess flux, confirming this classification and, in some cases, indicating their relatively young cooling ages. We show that the sample is not easily reproduced by binary population synthesis codes. Therefore, it challenges current binary evolution models, offering a unique opportunity to gain insights into the processes governing white-dwarf formation, binary evolution, and mass transfer. |\n",
       "|<p style=\"color:green\"> **ERROR** </p>| <p style=\"color:green\">affiliation error: mpia.affiliation_verifications: 'Heidelberg' keyword not found.</p> |"
      ],
      "text/plain": [
       "<IPython.core.display.Markdown object>"
      ]
     },
     "metadata": {},
     "output_type": "display_data"
    },
    {
     "data": {
      "text/markdown": [
       "\n",
       "|||\n",
       "|---:|:---|\n",
       "| [![arXiv](https://img.shields.io/badge/arXiv-arXiv:2309.15310-b31b1b.svg)](https://arxiv.org/abs/arXiv:2309.15310) | **Microlensing Discovery and Characterization Efficiency in the Vera C.  Rubin Legacy Survey of Space and Time**  |\n",
       "|| N. S. Abrams, et al. |\n",
       "|*Appeared on*| *2023-09-28*|\n",
       "|*Comments*| *21 pages, 15 figures, submitted to ApJS Rubin Survey Strategy Edition*|\n",
       "|**Abstract**| The Vera C. Rubin Legacy Survey of Space and Time will discover thousands of microlensing events across the Milky Way Galaxy, allowing for the study of populations of exoplanets, stars, and compact objects. It will reach deeper limiting magnitudes over a wider area than any previous survey. We evaluate numerous survey strategies simulated in the Rubin Operation Simulations (OpSims) to assess the discovery and characterization efficiencies of microlensing events. We have implemented three metrics in the Rubin Metric Analysis Framework: a discovery metric and two characterization metrics, where one estimates how well the lightcurve is covered and the other quantifies how precisely event parameters can be determined. We also assess the characterizability of microlensing parallax, critical for detection of free-floating black hole lenses, in a representative bulge and disk field. We find that, given Rubin's baseline cadence, the discovery and characterization efficiency will be higher for longer duration and larger parallax events. Microlensing discovery efficiency is dominated by observing footprint, where more time spent looking at regions of high stellar density including the Galactic bulge, Galactic plane, and Magellanic clouds, leads to higher discovery and characterization rates. However, if the observations are stretched over too wide an area, including low-priority areas of the Galactic plane with fewer stars and higher extinction, event characterization suffers by > 10%, which could impact exoplanet, binary star, and compact object events alike. We find that some rolling strategies (where Rubin focuses on a fraction of the sky in alternating years) in the Galactic bulge can lead to a 15-20% decrease in microlensing parallax characterization, so rolling strategies should be chosen carefully to minimize losses. |\n",
       "|<p style=\"color:green\"> **ERROR** </p>| <p style=\"color:green\">affiliation error: mpia.affiliation_verifications: 'Planck' keyword not found.</p> |"
      ],
      "text/plain": [
       "<IPython.core.display.Markdown object>"
      ]
     },
     "metadata": {},
     "output_type": "display_data"
    }
   ],
   "source": [
    "import datetime\n",
    "today = str(datetime.date.today())\n",
    "logfile = f\"_build/html/logs/log-{today}.md\"\n",
    "\n",
    "\n",
    "with open(logfile, 'w') as logs:\n",
    "    # Success\n",
    "    logs.write(f'# Arxiv on Deck 2: Logs - {today}\\n\\n')\n",
    "    logs.write(\"\"\"* Arxiv had {0:,d} new papers\\n\"\"\".format(len(new_papers)))\n",
    "    logs.write(\"\"\"    * {0:,d} with possible author matches\\n\\n\"\"\".format(len(candidates)))\n",
    "    logs.write(\"## Sucessful papers\\n\\n\")\n",
    "    display(Markdown(\"## Successful papers\"))\n",
    "    success = [k[0] for k in documents]\n",
    "    for candid in candidates:\n",
    "        if candid['identifier'].split(':')[-1] in success:\n",
    "            display(candid)\n",
    "            logs.write(candid.generate_markdown_text() + '\\n\\n')\n",
    "\n",
    "    ## failed\n",
    "    logs.write(\"## Failed papers\\n\\n\")\n",
    "    display(Markdown(\"## Failed papers\"))\n",
    "    failed = sorted(failed, key=lambda x: x[1])\n",
    "    current_reason = \"\"\n",
    "    for paper, reason in failed:\n",
    "        if 'affiliation' in reason:\n",
    "            color = 'green'\n",
    "        else:\n",
    "            color = 'red'\n",
    "        data = Markdown(\n",
    "                paper.generate_markdown_text() + \n",
    "                f'\\n|<p style=\"color:{color:s}\"> **ERROR** </p>| <p style=\"color:{color:s}\">{reason:s}</p> |'\n",
    "               )\n",
    "        if reason != current_reason:\n",
    "            logs.write(f'### {reason:s} \\n\\n')\n",
    "            current_reason = reason\n",
    "        logs.write(data.data + '\\n\\n')\n",
    "        \n",
    "        # only display here the important errors (all in logs)\n",
    "        # if color in ('red',):\n",
    "        display(data)"
   ]
  },
  {
   "cell_type": "markdown",
   "id": "472d20ee",
   "metadata": {
    "papermill": {
     "duration": 0.005507,
     "end_time": "2023-09-28T04:07:31.641707",
     "exception": false,
     "start_time": "2023-09-28T04:07:31.636200",
     "status": "completed"
    },
    "tags": []
   },
   "source": [
    "## Export documents\n",
    "\n",
    "We now write the .md files and export relevant images"
   ]
  },
  {
   "cell_type": "code",
   "execution_count": 6,
   "id": "d426aed9",
   "metadata": {
    "execution": {
     "iopub.execute_input": "2023-09-28T04:07:31.654651Z",
     "iopub.status.busy": "2023-09-28T04:07:31.653906Z",
     "iopub.status.idle": "2023-09-28T04:07:31.661603Z",
     "shell.execute_reply": "2023-09-28T04:07:31.660937Z"
    },
    "papermill": {
     "duration": 0.015904,
     "end_time": "2023-09-28T04:07:31.663145",
     "exception": false,
     "start_time": "2023-09-28T04:07:31.647241",
     "status": "completed"
    },
    "tags": []
   },
   "outputs": [],
   "source": [
    "def export_markdown_summary(md: str, md_fname:str, directory: str):\n",
    "    \"\"\"Export MD document and associated relevant images\"\"\"\n",
    "    import os\n",
    "    import shutil\n",
    "    import re\n",
    "\n",
    "    if (os.path.exists(directory) and not os.path.isdir(directory)):\n",
    "        raise RuntimeError(f\"a non-directory file exists with name {directory:s}\")\n",
    "\n",
    "    if (not os.path.exists(directory)):\n",
    "        print(f\"creating directory {directory:s}\")\n",
    "        os.mkdir(directory)\n",
    "\n",
    "    fig_fnames = (re.compile(r'\\[Fig.*\\]\\((.*)\\)').findall(md) + \n",
    "                  re.compile(r'\\<img src=\"([^>\\s]*)\"[^>]*/>').findall(md))\n",
    "    for fname in fig_fnames:\n",
    "        if 'http' in fname:\n",
    "            # No need to copy online figures\n",
    "            continue\n",
    "        destdir = os.path.join(directory, os.path.dirname(fname))\n",
    "        destfname = os.path.join(destdir, os.path.basename(fname))\n",
    "        try:\n",
    "            os.makedirs(destdir)\n",
    "        except FileExistsError:\n",
    "            pass\n",
    "        shutil.copy(fname, destfname)\n",
    "    with open(os.path.join(directory, md_fname), 'w') as fout:\n",
    "        fout.write(md)\n",
    "    print(\"exported in \", os.path.join(directory, md_fname))\n",
    "    [print(\"    + \" + os.path.join(directory,fk)) for fk in fig_fnames]"
   ]
  },
  {
   "cell_type": "code",
   "execution_count": 7,
   "id": "014d04a4",
   "metadata": {
    "execution": {
     "iopub.execute_input": "2023-09-28T04:07:31.675950Z",
     "iopub.status.busy": "2023-09-28T04:07:31.675320Z",
     "iopub.status.idle": "2023-09-28T04:07:31.686775Z",
     "shell.execute_reply": "2023-09-28T04:07:31.686220Z"
    },
    "papermill": {
     "duration": 0.019443,
     "end_time": "2023-09-28T04:07:31.688224",
     "exception": false,
     "start_time": "2023-09-28T04:07:31.668781",
     "status": "completed"
    },
    "tags": []
   },
   "outputs": [
    {
     "name": "stdout",
     "output_type": "stream",
     "text": [
      "exported in  _build/html/2309.15150.md\n",
      "    + _build/html/tmp_2309.15150/./areal_coverage/areal_coverage.png\n",
      "    + _build/html/tmp_2309.15150/./LF/lstar_phistar.png\n",
      "    + _build/html/tmp_2309.15150/./LF/lf_a3only.png\n",
      "exported in  _build/html/2309.15158.md\n",
      "    + _build/html/tmp_2309.15158/./figures/irdis_grid.png\n",
      "    + _build/html/tmp_2309.15158/./figures/data_model_residuals/grater_model_5par.png\n",
      "    + _build/html/tmp_2309.15158/./figures/data_model_residuals/grater_model_6par.png\n",
      "    + _build/html/tmp_2309.15158/./figures/data_model_residuals/grater_model_7par.png\n",
      "    + _build/html/tmp_2309.15158/./figures/hip63439_planetdetectionlim.png\n",
      "exported in  _build/html/2309.15671.md\n",
      "    + _build/html/tmp_2309.15671/./beta_vs_age_models.png\n",
      "    + _build/html/tmp_2309.15671/./Beta_vs_Mass.png\n",
      "    + _build/html/tmp_2309.15671/./Xion_f_esc_MUV.png\n"
     ]
    }
   ],
   "source": [
    "for paper_id, md in documents:\n",
    "    export_markdown_summary(md, f\"{paper_id:s}.md\", '_build/html/')"
   ]
  },
  {
   "cell_type": "markdown",
   "id": "f087a0a7",
   "metadata": {
    "papermill": {
     "duration": 0.005702,
     "end_time": "2023-09-28T04:07:31.699696",
     "exception": false,
     "start_time": "2023-09-28T04:07:31.693994",
     "status": "completed"
    },
    "tags": []
   },
   "source": [
    "## Display the papers\n",
    "\n",
    "Not necessary but allows for a quick check."
   ]
  },
  {
   "cell_type": "code",
   "execution_count": 8,
   "id": "fd25f625",
   "metadata": {
    "execution": {
     "iopub.execute_input": "2023-09-28T04:07:31.712843Z",
     "iopub.status.busy": "2023-09-28T04:07:31.712213Z",
     "iopub.status.idle": "2023-09-28T04:07:31.719168Z",
     "shell.execute_reply": "2023-09-28T04:07:31.718629Z"
    },
    "papermill": {
     "duration": 0.015033,
     "end_time": "2023-09-28T04:07:31.720556",
     "exception": false,
     "start_time": "2023-09-28T04:07:31.705523",
     "status": "completed"
    },
    "scrolled": false,
    "tags": []
   },
   "outputs": [
    {
     "data": {
      "text/markdown": [
       "<div class=\"macros\" style=\"visibility:hidden;\">\n",
       "$\\newcommand{\\ensuremath}{}$\n",
       "$\\newcommand{\\xspace}{}$\n",
       "$\\newcommand{\\object}[1]{\\texttt{#1}}$\n",
       "$\\newcommand{\\farcs}{{.}''}$\n",
       "$\\newcommand{\\farcm}{{.}'}$\n",
       "$\\newcommand{\\arcsec}{''}$\n",
       "$\\newcommand{\\arcmin}{'}$\n",
       "$\\newcommand{\\ion}[2]{#1#2}$\n",
       "$\\newcommand{\\textsc}[1]{\\textrm{#1}}$\n",
       "$\\newcommand{\\hl}[1]{\\textrm{#1}}$\n",
       "$\\newcommand{\\footnote}[1]{}$\n",
       "$\\newcommand{\\arraystretch}{1.5}$\n",
       "$\\newcommand{\\arraystretch}{1.5}$\n",
       "$\\newcommand{\\arraystretch}{1.5}$\n",
       "$\\newcommand{\\arraystretch}{1.5}$\n",
       "$\\newcommand{\\arraystretch}{1.5}$\n",
       "$\\newcommand{\\cha}{\\textit{Chandra}}$\n",
       "$\\newcommand{\\XMM}{{XMM-\\textit{Newton}}}$\n",
       "$\\newcommand{\\NuSTAR}{\\textit{NuSTAR}}$\n",
       "$\\newcommand{\\Nu}{\\textit{NuSTAR,}}$\n",
       "$\\newcommand{\\bat}{{{\\it Swift}-BAT}}$\n",
       "$\\newcommand{\\}{XSPEC}$\n",
       "$\\newcommand{\\}{pexrav}$\n",
       "$\\newcommand{\\}{MYTorus}$\n",
       "$\\newcommand{\\}{borus}$\n",
       "$\\newcommand{\\}{bntorus}$\n",
       "$\\newcommand{\\}{ngc}$\n",
       "$\\newcommand{\\}{a}$\n",
       "$\\newcommand{\\}{ad}$</div>\n",
       "\n",
       "\n",
       "\n",
       "<div id=\"title\">\n",
       "\n",
       "# A$^3$COSMOS: the infrared luminosity function and dust-obscured star formation rate density at $0.5<z<6$\n",
       "\n",
       "</div>\n",
       "<div id=\"comments\">\n",
       "\n",
       "[![arXiv](https://img.shields.io/badge/arXiv-2309.15150-b31b1b.svg)](https://arxiv.org/abs/2309.15150)<mark>Appeared on: 2023-09-28</mark> -  _17 pages, 15 figures, 5 tables, accepted for publication on A&A_\n",
       "\n",
       "</div>\n",
       "<div id=\"authors\">\n",
       "\n",
       "A. Traina, et al. -- incl., <mark>E. Schinnerer</mark>\n",
       "\n",
       "</div>\n",
       "<div id=\"abstract\">\n",
       "\n",
       "**Abstract:** Aims: We leverage the largest available Atacama Large Millimetre/submillimetre Array (ALMA) survey from the archive (A$^3$COSMOS) to study to study infrared luminosity function and dust-obscured star formation rate density of sub-millimeter/millimeter (sub-mm/mm) galaxies from $z=0.5\\,-\\,6$. Methods: The A$^3$COSMOS survey utilizes all publicly available ALMA data in the COSMOS field, therefore having inhomogeneous coverage in terms of observing wavelength and depth. In order to derive the luminosity functions and star formation rate densities, we apply a newly developed method that corrects the statistics of an inhomogeously sampled survey of individual pointings to those representing an unbiased blind survey. Results: We find our sample to mostly consist of massive ($M_{\\star} \\sim 10^{10} - 10^{12}$ $\\rm M_{\\odot}$), IR-bright ($L_* \\sim 10^{11}-10^{13.5} \\rm L_{\\odot}$), highly star-forming (SFR $\\sim 100-1000$ $\\rm M_{\\odot}$ $\\rm yr^{-1}$) galaxies. We find an evolutionary trend in the typical density ($\\Phi^*$) and luminosity ($L^*$) of the galaxy population, which decrease and increase with redshift, respectively. Our IR LF is in agreement with previous literature results and we are able to extend to high redshift ($z > 3$) the constraints on the knee and bright-end of the LF, derived by using the Herschel data. Finally, we obtain the SFRD up to $z\\sim 6$ by integrating the IR LF, finding a broad peak from $z \\sim 1$ to $z \\sim 3$ and a decline towards higher redshifts, in agreement with recent IR/mm-based studies, within the uncertainties, thus implying the presence of larger quantities of dust than what is expected by optical/UV studies. \n",
       "\n",
       "</div>\n",
       "\n",
       "<div id=\"div_fig1\">\n",
       "\n",
       "<img src=\"tmp_2309.15150/./areal_coverage/areal_coverage.png\" alt=\"Fig6\" width=\"100%\"/>\n",
       "\n",
       "**Figure 6. -** Total areal coverage of the 1155 pointings after the cut for the lack of target detection within 1 arcsec.\\\\ (*fig:areal_coverage*)\n",
       "\n",
       "</div>\n",
       "<div id=\"div_fig2\">\n",
       "\n",
       "<img src=\"tmp_2309.15150/./LF/lstar_phistar.png\" alt=\"Fig8\" width=\"100%\"/>\n",
       "\n",
       "**Figure 8. -** Evolutionary trends of $\\Phi^*$ (top panel) and $L^*$ (bottom panel) with redshift. The solid dark-red lines and shaded areas show the behaviours of $\\Phi^*$ and $L^*$ at all the redshifts, while pink diamonds are the estimates obtained fitting each redshift bin individually in the ALMA only case. Finally, black empty circles and yellow points represent estimates for $L^*$ and $\\Phi^*$ from \\cite{gruppioni2013lf and \\cite{gruppioni2020alpine}, reported for comparison.} (*fig:lstar_phistar*)\n",
       "\n",
       "</div>\n",
       "<div id=\"div_fig3\">\n",
       "\n",
       "<img src=\"tmp_2309.15150/./LF/lf_a3only.png\" alt=\"Fig13\" width=\"100%\"/>\n",
       "\n",
       "**Figure 13. -** A$^3$COSMOS luminosity function (black points and red boxes). The individual redshift bin MCMC best-fit is plotted as pink solid lines and shaded error bands. The redshift ranges are reported in the upper-right corner of each subplot, while the luminosity bins are centered at each 0.25 dex, with a width of 0.5 dex (overlapping bins). The black vertical dashed lines represent the completeness limit of the L$_{IR$. The orange dashed, purple dotted and green dashed lines are the best fit LF obtained by \\cite{gruppioni2013lf,magnelli2013ir,gruppioni2020alpine}.} (*fig:LF_models_a3_only*)\n",
       "\n",
       "</div><div id=\"qrcode\"><img src=https://api.qrserver.com/v1/create-qr-code/?size=100x100&data=\"https://arxiv.org/abs/2309.15150\"></div>"
      ],
      "text/plain": [
       "<IPython.core.display.Markdown object>"
      ]
     },
     "metadata": {},
     "output_type": "display_data"
    },
    {
     "data": {
      "text/markdown": [
       "<div class=\"macros\" style=\"visibility:hidden;\">\n",
       "$\\newcommand{\\ensuremath}{}$\n",
       "$\\newcommand{\\xspace}{}$\n",
       "$\\newcommand{\\object}[1]{\\texttt{#1}}$\n",
       "$\\newcommand{\\farcs}{{.}''}$\n",
       "$\\newcommand{\\farcm}{{.}'}$\n",
       "$\\newcommand{\\arcsec}{''}$\n",
       "$\\newcommand{\\arcmin}{'}$\n",
       "$\\newcommand{\\ion}[2]{#1#2}$\n",
       "$\\newcommand{\\textsc}[1]{\\textrm{#1}}$\n",
       "$\\newcommand{\\hl}[1]{\\textrm{#1}}$\n",
       "$\\newcommand{\\footnote}[1]{}$\n",
       "$\\newcommand{\\diskpa}{{98.6\\pm0.7}\\deg}$\n",
       "$\\newcommand{\\diskincl}{{75.7}^{+1.1}_{-1.3}\\deg}$\n",
       "$\\newcommand{\\diskrad}{{118\\pm9}\\textrm{au}}$\n",
       "$\\newcommand{\\deg}{^\\circ}$\n",
       "$\\newcommand{\\arraystretch}{1.5}$\n",
       "$\\newcommand{\\arraystretch}{0.666}$\n",
       "$\\newcommand{\\arraystretch}{1.3}$\n",
       "$\\newcommand{\\arraystretch}{0.769}$\n",
       "$\\newcommand{\\refereeresponse}{\\latexdiff}$\n",
       "$\\newcommand{\\Lir}{L_{\\textrm{IR}}/L_{\\ast}}$\n",
       "$\\newcommand{\\gaia}{\\textit{Gaia}}$\n",
       "$\\newcommand{\\hipp}{\\textit{Hipparcos}}$\n",
       "$\\newcommand{\\apjl}{ApJL}$\n",
       "$\\newcommand{\\aj}{AJ}$\n",
       "$\\newcommand{\\apj}{ApJ}$\n",
       "$\\newcommand{\\apjs}{ApJS}$\n",
       "$\\newcommand{\\pasp}{PASP}$\n",
       "$\\newcommand{\\pasj}{PASJ}$\n",
       "$\\newcommand{\\spie}{SPIE}$\n",
       "$\\newcommand{\\apjs}{ApJS}$\n",
       "$\\newcommand{\\araa}{ARAA}$\n",
       "$\\newcommand{\\aap}{A\\&A}$\n",
       "$\\newcommand{\\aaps}{A\\&AS}$\n",
       "$\\newcommand{\\apss}{Ap\\&SS}$\n",
       "$\\newcommand{\\mnras}{MNRAS}$\n",
       "$\\newcommand{\\memsai}{MmSAI}$\n",
       "$\\newcommand{\\sovast}{SvA}$\n",
       "$\\newcommand{\\rmxaa}{RMxAA}$\n",
       "$\\newcommand{\\nat}{Nature}$\n",
       "$\\newcommand{\\sci}{Science}$\n",
       "$\\newcommand{\\etal}{{et al.}}$</div>\n",
       "\n",
       "\n",
       "\n",
       "<div id=\"title\">\n",
       "\n",
       "# The first scattered light images of HD 112810, a faint debris disk in the Sco-Cen association\n",
       "\n",
       "</div>\n",
       "<div id=\"comments\">\n",
       "\n",
       "[![arXiv](https://img.shields.io/badge/arXiv-2309.15158-b31b1b.svg)](https://arxiv.org/abs/2309.15158)<mark>Appeared on: 2023-09-28</mark> -  _A&A accepted. 13 pages, 6 figures + appendix_\n",
       "\n",
       "</div>\n",
       "<div id=\"authors\">\n",
       "\n",
       "E. C. Matthews, et al. -- incl., <mark>C. Desgrange</mark>, <mark>J. Olofsson</mark>\n",
       "\n",
       "</div>\n",
       "<div id=\"abstract\">\n",
       "\n",
       "**Abstract:** Circumstellar debris disks provide insight into the formation and early evolution of planetary systems. Resolved belts in particular help to locate planetesimals in exosystems, and can hint at the presence of disk-sculpting exoplanets. We study the circumstellar environment of $\\object{HD 112810}$ (HIP 63439), a mid-F type star in the Sco-Cen association with a significant infrared excess indicating the presence of a circumstellar debris disk. We collected five high-contrast observations of HD 112810 with VLT/SPHERE. We identified a debris disk in scattered light, and found that the debris signature is robust over a number of epochs and a variety of reduction techniques. We modelled the disk, accounting for self-subtraction and assuming that it is optically thin. We find a single-belt debris disk, with a radius of $\\diskrad$ and an inclination angle of $\\diskincl$ . This is in good agreement with the constraints from SED modelling and from a partially-resolved ALMA image of the system. No planets are detected, though planets below the detection limit ( $\\sim$ 2.6M $_\\textrm{J}$ at a projected separation of 118au) could be present and could have contributed to sculpting the ring of debris. HD 112810 adds to the growing inventory of debris disks imaged in scattered light. The disk is faint, but the radius and the inclination of the disk are promising for follow-up studies of the dust properties.\n",
       "\n",
       "</div>\n",
       "\n",
       "<div id=\"div_fig1\">\n",
       "\n",
       "<img src=\"tmp_2309.15158/./figures/irdis_grid.png\" alt=\"Fig1\" width=\"100%\"/>\n",
       "\n",
       "**Figure 1. -** SPHERE/IRDIS images of the HD 112810 debris disk. Each column indicates data processed via a different method: GRAPHIC/PCA \\citep[Sect. \\ref{sec:dr-graphic};][]{hagelberg2016}, TLOCI as provided by the SPHERE Data Center \\citep[Sect. \\ref{sec:spheredc};][]{delorme2017} or RDI \\citep[Sect. \\ref{sec:rdi};][]{xie2022}; rows indicate each observation epoch. In each case, the two SPHERE/IRDIS channels are co-added. There are no RDI reductions for the BB\\_H data, since there is far more data collected with the DB\\_H23 filter in the archive, and the reference library we considered does not collate BB\\_H data  ([Xie, Choquet and Vigan 2022]()) . The `normalised signal' is calculated relative to the background noise in the wide-field; note that this is _not_ a true SNR at very small separations, where the noise is higher than the background limit. (*fig:sphere_irdis_images*)\n",
       "\n",
       "</div>\n",
       "<div id=\"div_fig2\">\n",
       "\n",
       "<img src=\"tmp_2309.15158/./figures/data_model_residuals/grater_model_5par.png\" alt=\"Fig3.1\" width=\"33%\"/><img src=\"tmp_2309.15158/./figures/data_model_residuals/grater_model_6par.png\" alt=\"Fig3.2\" width=\"33%\"/><img src=\"tmp_2309.15158/./figures/data_model_residuals/grater_model_7par.png\" alt=\"Fig3.3\" width=\"33%\"/>\n",
       "\n",
       "**Figure 3. -** Best fitting models to the data, alongside the raw data and the residual image with the disk subtracted. 3- and 5-$\\sigma$ contours (relative to the background noise) are shown in pink and purple respectively. The three rows show the best fitting models for (a) the 5-parameter fit (b) the vertical structure fit, and (c) the radial structure fit (see Sects. \\ref{sec:5parfit}--\\ref{sec:diskradial}). Best-fit parameters are given in Table \\ref{tab:disk_parameters}. Residual images are generated by subtracting model disks from the raw data, and then repeating the PCA reduction. The debris disk is well-subtracted in all cases. (*fig:gratermodel*)\n",
       "\n",
       "</div>\n",
       "<div id=\"div_fig3\">\n",
       "\n",
       "<img src=\"tmp_2309.15158/./figures/hip63439_planetdetectionlim.png\" alt=\"Fig4\" width=\"100%\"/>\n",
       "\n",
       "**Figure 4. -** Contrast (left) and mass sensitivities (right) of each epoch of observations. The legend applies to both figures; cool colours indicate the narrowband DB\\_H23 observations and warm colours indicate the broadband BB\\_H observations. Companion magnitude limits were converted to mass limits using the ATMO models from [Phillips, Tremblin and Baraffe (2020)](). (*fig:contrastcurves*)\n",
       "\n",
       "</div><div id=\"qrcode\"><img src=https://api.qrserver.com/v1/create-qr-code/?size=100x100&data=\"https://arxiv.org/abs/2309.15158\"></div>"
      ],
      "text/plain": [
       "<IPython.core.display.Markdown object>"
      ]
     },
     "metadata": {},
     "output_type": "display_data"
    },
    {
     "data": {
      "text/markdown": [
       "<div class=\"macros\" style=\"visibility:hidden;\">\n",
       "$\\newcommand{\\ensuremath}{}$\n",
       "$\\newcommand{\\xspace}{}$\n",
       "$\\newcommand{\\object}[1]{\\texttt{#1}}$\n",
       "$\\newcommand{\\farcs}{{.}''}$\n",
       "$\\newcommand{\\farcm}{{.}'}$\n",
       "$\\newcommand{\\arcsec}{''}$\n",
       "$\\newcommand{\\arcmin}{'}$\n",
       "$\\newcommand{\\ion}[2]{#1#2}$\n",
       "$\\newcommand{\\textsc}[1]{\\textrm{#1}}$\n",
       "$\\newcommand{\\hl}[1]{\\textrm{#1}}$\n",
       "$\\newcommand{\\footnote}[1]{}$\n",
       "$\\newcommand{\\gsim}{{\\;\\raise0.3ex\\hbox{>\\kern-0.75em\\raise-1.1ex\\hbox{\\sim}}\\;}}$</div>\n",
       "\n",
       "\n",
       "\n",
       "<div id=\"title\">\n",
       "\n",
       "# $\\bf{MIDIS:  Unveiling the Role of Strong H$\\alpha$-emitters during the Epoch of Reionization with _JWST_}$\n",
       "\n",
       "</div>\n",
       "<div id=\"comments\">\n",
       "\n",
       "[![arXiv](https://img.shields.io/badge/arXiv-2309.15671-b31b1b.svg)](https://arxiv.org/abs/2309.15671)<mark>Appeared on: 2023-09-28</mark> -  _21 pages, 12 Figures, 1 table. Submitted in ApJ. Comments are welcome_\n",
       "\n",
       "</div>\n",
       "<div id=\"authors\">\n",
       "\n",
       "P. Rinaldi, et al. -- incl., <mark>F. Walter</mark>, <mark>L. Boogaard</mark>\n",
       "\n",
       "</div>\n",
       "<div id=\"abstract\">\n",
       "\n",
       "**Abstract:** We make use of the deepest _JWST_ /MIRI image at 5.6 $\\mu m$ , in the Hubble eXtreme Deep Field, to constrain the role of strong H $\\alpha$ emitters (HAEs) in Cosmic Reionization at $z\\simeq7-8$ . Our sample of bright (M $_{UV} \\lesssim -20$ mag) HAEs is comprised of young ( $<30\\;\\rm Myr$ ) galaxies with low stellar masses ( $\\lesssim 10^{9}\\;\\rm M_{\\odot}$ ). They span a wide range of UV- $\\beta$ slopes, with a median $\\beta = -2.22\\pm0.35$ , which broadly correlates with stellar mass. We estimate the ionizing photon production efficiency ( $\\xi_{ion,0}$ ) of these sources (assuming $f_{esc,LyC} = 0$ ), which yields a median value $\\rm log_{10}(\\xi_{ion,0}/(Hz\\;erg^{-1})) = 25.54^{+0.09}_{-0.10}$ . We show that $\\xi_{ion,0}$ positively correlates with EW $_{0}$ (H $\\alpha$ ) and specific star formation rate (sSFR). Instead $\\xi_{ion,0}$ weakly anti-correlates with stellar mass and $\\beta$ . Based on the $\\beta$ values, we estimate $f_{esc, LyC}=0.07^{+0.03}_{-0.02}$ , which results in $\\rm log_{10}(\\xi_{ion}/(Hz\\;erg^{-1})) = 25.59^{+0.06}_{-0.04}$ . By considering this result along with others from the literature, we find a mild evolution of $\\xi_{ion}$ with redshift. Finally, we assess the impact of strong HAEs during Cosmic Reionization at $z\\simeq7-8$ . We find that our HAEs do not need high values of $f_{esc, rel}$ (only $6-10\\%$ ) to be able to reionize their surrounding intergalactic medium. They have $\\dot N_{ion} = 10^{50.43\\pm0.3}\\;\\rm s^{-1}Mpc^{-3}$ and contribute more than a factor of two in terms of emitted ionizing photons per comoving volume compared to non-H $\\alpha$ emitters in the same redshift bin, suggesting that strong, young, and low stellar-mass emitters could have played a central role during the Epoch of Reionization.\n",
       "\n",
       "</div>\n",
       "\n",
       "<div id=\"div_fig1\">\n",
       "\n",
       "<img src=\"tmp_2309.15671/./beta_vs_age_models.png\" alt=\"Fig9\" width=\"100%\"/>\n",
       "\n",
       "**Figure 9. -** Beta slope as a function of galaxy age. The ages of galaxies have been obtained as output from LePHARE. The red dashed line refers to the median $\\beta$ value that we find in our sample, which is in line with what we expect from galaxies at high redshifts. For comparison, we also include theoretical predictions by considering synthetic-model tracks from \\citet{Schaerer_2002, Schaerer_2003}, which are color-coded based on metallicity. Solid lines refer to models with a combination of stellar and nebular contributions, while dashed lines refer to pure stellar models. Two different SFHs have been adopted: burst and constant star formation. (*beta_vs_age_models*)\n",
       "\n",
       "</div>\n",
       "<div id=\"div_fig2\">\n",
       "\n",
       "<img src=\"tmp_2309.15671/./Beta_vs_Mass.png\" alt=\"Fig2\" width=\"100%\"/>\n",
       "\n",
       "**Figure 2. -** UV-$\\beta$ slope as a function of stellar mass. A collection of results at high redshift from the recent literature is presented as well \\citep{Wilkins_2016, Bhatawdekar_2021, Endsley_2021, Tacchella_2022, Topping_2022, Austin_2023, Bouwens_2023, Franco_2023, Mascia_2023}. From this plot, we can see that our sample of HAEs is dominated by low-mass galaxies ($\\rm M_{\\star} \\leq 10^{9}\\; M_{\\odot}$). We also show colored regions (blue gradients) that correspond to the averages of the escape fraction of the Lyman continuum photons (5, 10, 20 per cent) by adopting Equation 11 from \\citet{Chisholm_2022}. We include the $z \\simeq 7$ relation from \\cite{Finkelstein_2012b} as the dashed line. The purple shaded area refers to Delphi simulations at $z\\simeq7$,  where we show how the nebular contribution (both continuum and emission lines) can impact the UV-$\\beta$ slope as a function of $\\rm M_{\\star}$. Particularly, the lower limit of the shaded area refers to the pure stellar continuum + dust. The upper limit, instead, refers to the maximum contribution of stellar + nebular continuum + nebular lines + dust. (*Beta_vs_Mass*)\n",
       "\n",
       "</div>\n",
       "<div id=\"div_fig3\">\n",
       "\n",
       "<img src=\"tmp_2309.15671/./Xion_f_esc_MUV.png\" alt=\"Fig3\" width=\"100%\"/>\n",
       "\n",
       "**Figure 3. -** $\\xi_{ion,0}$ as a function of M$_{UV}$.\n",
       "    We also collect data points from the recent literature at high redshifts \\citep{Harikane_2018, Lam_2019, Maseda_2020, Castellano_2022, Endsley_2022, Matthee_2022, Bunker_2023, Fujimoto_2023, Hsiao_2023, Lin_2023, Ning_2023, Prieto_Lyon_2023, Tang_2023}. Our sample at $z\\simeq 7-8$ is comprised of relatively bright galaxies with M$_{UV} \\lesssim -20$ mag (shaded area), given their redshifts and the depth of our analysed data. The red dot-dashed line indicates the median $\\xi_{ion,0}$ value that we find in our sample. The black dashed line refers to the relation between $\\xi_{ion,0}$ and M$_{UV}$, as reported in \\citet{Prieto_Lyon_2023}. The green shaded area refers to the canonical value of $\\xi_{ion}$ that is usually assumed \\citep{Robertson_2013}. No evident correlation arises by comparing these two quantities. (*Xion_f_esc_MUV*)\n",
       "\n",
       "</div><div id=\"qrcode\"><img src=https://api.qrserver.com/v1/create-qr-code/?size=100x100&data=\"https://arxiv.org/abs/2309.15671\"></div>"
      ],
      "text/plain": [
       "<IPython.core.display.Markdown object>"
      ]
     },
     "metadata": {},
     "output_type": "display_data"
    }
   ],
   "source": [
    "[display(Markdown(k[1])) for k in documents];"
   ]
  },
  {
   "cell_type": "markdown",
   "id": "873873a4",
   "metadata": {
    "papermill": {
     "duration": 0.006277,
     "end_time": "2023-09-28T04:07:31.733300",
     "exception": false,
     "start_time": "2023-09-28T04:07:31.727023",
     "status": "completed"
    },
    "tags": []
   },
   "source": [
    "# Create HTML index"
   ]
  },
  {
   "cell_type": "code",
   "execution_count": 9,
   "id": "cf665672",
   "metadata": {
    "execution": {
     "iopub.execute_input": "2023-09-28T04:07:31.747489Z",
     "iopub.status.busy": "2023-09-28T04:07:31.746970Z",
     "iopub.status.idle": "2023-09-28T04:07:31.757210Z",
     "shell.execute_reply": "2023-09-28T04:07:31.756568Z"
    },
    "papermill": {
     "duration": 0.019183,
     "end_time": "2023-09-28T04:07:31.758777",
     "exception": false,
     "start_time": "2023-09-28T04:07:31.739594",
     "status": "completed"
    },
    "tags": []
   },
   "outputs": [
    {
     "name": "stdout",
     "output_type": "stream",
     "text": [
      "282  publications files modified in the last 7 days.\n"
     ]
    }
   ],
   "source": [
    "from datetime import datetime, timedelta, timezone\n",
    "from glob import glob\n",
    "import os\n",
    "\n",
    "files = glob('_build/html/*.md')\n",
    "days = 7\n",
    "now = datetime.today()\n",
    "res = []\n",
    "for fk in files:\n",
    "    stat_result = os.stat(fk).st_ctime\n",
    "    modified = datetime.fromtimestamp(stat_result, tz=timezone.utc).replace(tzinfo=None)\n",
    "    delta = now.today() - modified\n",
    "    if delta <= timedelta(days=days):\n",
    "        res.append((delta.seconds, fk))\n",
    "res = [k[1] for k in reversed(sorted(res, key=lambda x:x[1]))]\n",
    "npub = len(res)\n",
    "print(len(res), f\" publications files modified in the last {days:d} days.\")\n",
    "# [ print('\\t', k) for k in res ];"
   ]
  },
  {
   "cell_type": "code",
   "execution_count": 10,
   "id": "015de740",
   "metadata": {
    "execution": {
     "iopub.execute_input": "2023-09-28T04:07:31.773483Z",
     "iopub.status.busy": "2023-09-28T04:07:31.772967Z",
     "iopub.status.idle": "2023-09-28T04:07:31.793136Z",
     "shell.execute_reply": "2023-09-28T04:07:31.792473Z"
    },
    "papermill": {
     "duration": 0.029389,
     "end_time": "2023-09-28T04:07:31.794766",
     "exception": false,
     "start_time": "2023-09-28T04:07:31.765377",
     "status": "completed"
    },
    "tags": []
   },
   "outputs": [
    {
     "name": "stdout",
     "output_type": "stream",
     "text": [
      "6  publications in the last 7 days.\n"
     ]
    }
   ],
   "source": [
    "import datetime\n",
    "from glob import glob\n",
    "\n",
    "def get_last_n_days(lst, days=1):\n",
    "    \"\"\" Get the documents from the last n days \"\"\"\n",
    "    sorted_lst = sorted(lst, key=lambda x: x[1], reverse=True)\n",
    "    for fname, date in sorted_lst:\n",
    "        if date >= str(datetime.date.today() - datetime.timedelta(days=days)):\n",
    "            yield fname\n",
    "\n",
    "def extract_appearance_dates(lst_file):\n",
    "    dates = []\n",
    "\n",
    "    def get_date(line):\n",
    "        return line\\\n",
    "            .split('Appeared on:')[-1]\\\n",
    "            .split('</mark>')[0].strip()\n",
    "\n",
    "    for fname in lst:\n",
    "        with open(fname, 'r') as f:\n",
    "            found_date = False\n",
    "            for line in f:\n",
    "                if not found_date:\n",
    "                    if \"Appeared on\" in line:\n",
    "                        found_date = True\n",
    "                        dates.append((fname, get_date(line)))\n",
    "                else:\n",
    "                    break\n",
    "    return dates\n",
    "\n",
    "from glob import glob\n",
    "lst = glob('_build/html/*md')\n",
    "days = 7\n",
    "dates = extract_appearance_dates(lst)\n",
    "res = list(get_last_n_days(dates, days))\n",
    "npub = len(res)\n",
    "print(len(res), f\" publications in the last {days:d} days.\")"
   ]
  },
  {
   "cell_type": "code",
   "execution_count": 11,
   "id": "52ca0208",
   "metadata": {
    "execution": {
     "iopub.execute_input": "2023-09-28T04:07:31.809753Z",
     "iopub.status.busy": "2023-09-28T04:07:31.809221Z",
     "iopub.status.idle": "2023-09-28T04:07:31.814864Z",
     "shell.execute_reply": "2023-09-28T04:07:31.814188Z"
    },
    "papermill": {
     "duration": 0.014869,
     "end_time": "2023-09-28T04:07:31.816378",
     "exception": false,
     "start_time": "2023-09-28T04:07:31.801509",
     "status": "completed"
    },
    "scrolled": false,
    "tags": []
   },
   "outputs": [],
   "source": [
    "def create_carousel(npub=4):\n",
    "    \"\"\" Generate the HTML code for a carousel with `npub` slides \"\"\"\n",
    "    carousel = [\"\"\"  <div class=\"carousel\" \"\"\",\n",
    "                \"\"\"       data-flickity='{ \"autoPlay\": 10000, \"adaptiveHeight\": true, \"resize\": true, \"wrapAround\": true, \"pauseAutoPlayOnHover\": true, \"groupCells\": 1 }' id=\"asyncTypeset\">\"\"\"\n",
    "                ]\n",
    "    \n",
    "    item_str = \"\"\"    <div class=\"carousel-cell\"> <div id=\"slide{k}\" class=\"md_view\">Content {k}</div> </div>\"\"\"\n",
    "    for k in range(1, npub + 1):\n",
    "        carousel.append(item_str.format(k=k))\n",
    "    carousel.append(\"  </div>\")\n",
    "    return '\\n'.join(carousel)\n",
    "\n",
    "def create_grid(npub=4):\n",
    "    \"\"\" Generate the HTML code for a flat grid with `npub` slides \"\"\"\n",
    "    grid = [\"\"\"  <div class=\"grid\"> \"\"\",\n",
    "                ]\n",
    "    \n",
    "    item_str = \"\"\"    <div class=\"grid-item\"> <div id=\"slide{k}\" class=\"md_view\">Content {k}</div> </div>\"\"\"\n",
    "    for k in range(1, npub + 1):\n",
    "        grid.append(item_str.format(k=k))\n",
    "    grid.append(\"  </div>\")\n",
    "    return '\\n'.join(grid)"
   ]
  },
  {
   "cell_type": "code",
   "execution_count": 12,
   "id": "a6eac5b6",
   "metadata": {
    "execution": {
     "iopub.execute_input": "2023-09-28T04:07:31.831508Z",
     "iopub.status.busy": "2023-09-28T04:07:31.830987Z",
     "iopub.status.idle": "2023-09-28T04:07:31.836798Z",
     "shell.execute_reply": "2023-09-28T04:07:31.836111Z"
    },
    "papermill": {
     "duration": 0.015123,
     "end_time": "2023-09-28T04:07:31.838361",
     "exception": false,
     "start_time": "2023-09-28T04:07:31.823238",
     "status": "completed"
    },
    "scrolled": false,
    "tags": []
   },
   "outputs": [],
   "source": [
    "carousel = create_carousel(npub)\n",
    "docs = ', '.join(['\"{0:s}\"'.format(k.split('/')[-1]) for k in res])\n",
    "slides = ', '.join([f'\"slide{k}\"' for k in range(1, npub + 1)])\n",
    "\n",
    "with open(\"daily_template.html\", \"r\") as tpl:\n",
    "    page = tpl.read()\n",
    "    page = page.replace(\"{%-- carousel:s --%}\", carousel)\\\n",
    "               .replace(\"{%-- suptitle:s --%}\",  \"7-day archives\" )\\\n",
    "               .replace(\"{%-- docs:s --%}\", docs)\\\n",
    "               .replace(\"{%-- slides:s --%}\", slides)\n",
    "    \n",
    "with open(\"_build/html/index_7days.html\", 'w') as fout:\n",
    "    fout.write(page)"
   ]
  },
  {
   "cell_type": "code",
   "execution_count": 13,
   "id": "adc1a1ec",
   "metadata": {
    "execution": {
     "iopub.execute_input": "2023-09-28T04:07:31.853385Z",
     "iopub.status.busy": "2023-09-28T04:07:31.852878Z",
     "iopub.status.idle": "2023-09-28T04:07:31.861725Z",
     "shell.execute_reply": "2023-09-28T04:07:31.861064Z"
    },
    "papermill": {
     "duration": 0.018222,
     "end_time": "2023-09-28T04:07:31.863276",
     "exception": false,
     "start_time": "2023-09-28T04:07:31.845054",
     "status": "completed"
    },
    "tags": []
   },
   "outputs": [
    {
     "name": "stdout",
     "output_type": "stream",
     "text": [
      "4  publications in the last day.\n"
     ]
    }
   ],
   "source": [
    "# redo for today\n",
    "days = 1\n",
    "res = list(get_last_n_days(dates, days))\n",
    "npub = len(res)\n",
    "print(len(res), f\" publications in the last day.\")\n",
    "\n",
    "carousel = create_carousel(npub)\n",
    "docs = ', '.join(['\"{0:s}\"'.format(k.split('/')[-1]) for k in res])\n",
    "slides = ', '.join([f'\"slide{k}\"' for k in range(1, npub + 1)])\n",
    "\n",
    "with open(\"daily_template.html\", \"r\") as tpl:\n",
    "    page = tpl.read()\n",
    "    page = page.replace(\"{%-- carousel:s --%}\", carousel)\\\n",
    "               .replace(\"{%-- suptitle:s --%}\",  \"Daily\" )\\\n",
    "               .replace(\"{%-- docs:s --%}\", docs)\\\n",
    "               .replace(\"{%-- slides:s --%}\", slides)\n",
    "    \n",
    "# print(carousel, docs, slides)\n",
    "# print(page)\n",
    "with open(\"_build/html/index_daily.html\", 'w') as fout:\n",
    "    fout.write(page)"
   ]
  },
  {
   "cell_type": "code",
   "execution_count": 14,
   "id": "00eece82",
   "metadata": {
    "execution": {
     "iopub.execute_input": "2023-09-28T04:07:31.878507Z",
     "iopub.status.busy": "2023-09-28T04:07:31.877827Z",
     "iopub.status.idle": "2023-09-28T04:07:31.885948Z",
     "shell.execute_reply": "2023-09-28T04:07:31.885276Z"
    },
    "papermill": {
     "duration": 0.017403,
     "end_time": "2023-09-28T04:07:31.887502",
     "exception": false,
     "start_time": "2023-09-28T04:07:31.870099",
     "status": "completed"
    },
    "scrolled": false,
    "tags": []
   },
   "outputs": [
    {
     "name": "stdout",
     "output_type": "stream",
     "text": [
      "6"
     ]
    },
    {
     "name": "stdout",
     "output_type": "stream",
     "text": [
      "  6 publications selected.\n"
     ]
    }
   ],
   "source": [
    "# Create the flat grid of the last N papers (fixed number regardless of dates)\n",
    "from itertools import islice \n",
    "\n",
    "npub = 6\n",
    "res = [k[0] for k in (islice(reversed(sorted(dates, key=lambda x: x[1])), 6))]\n",
    "print(len(res), f\" {npub} publications selected.\")\n",
    "\n",
    "grid = create_grid(npub)\n",
    "docs = ', '.join(['\"{0:s}\"'.format(k.split('/')[-1]) for k in res])\n",
    "slides = ', '.join([f'\"slide{k}\"' for k in range(1, npub + 1)])\n",
    "\n",
    "with open(\"grid_template.html\", \"r\") as tpl:\n",
    "    page = tpl.read()\n",
    "    page = page.replace(\"{%-- grid-content:s --%}\", grid)\\\n",
    "               .replace(\"{%-- suptitle:s --%}\",  f\"Last {npub:,d} papers\" )\\\n",
    "               .replace(\"{%-- docs:s --%}\", docs)\\\n",
    "               .replace(\"{%-- slides:s --%}\", slides)\n",
    "    \n",
    "# print(grid, docs, slides)\n",
    "# print(page)\n",
    "with open(\"_build/html/index_npub_grid.html\", 'w') as fout:\n",
    "    fout.write(page)"
   ]
  }
 ],
 "metadata": {
  "kernelspec": {
   "display_name": "Python 3 (ipykernel)",
   "language": "python",
   "name": "python3"
  },
  "language_info": {
   "codemirror_mode": {
    "name": "ipython",
    "version": 3
   },
   "file_extension": ".py",
   "mimetype": "text/x-python",
   "name": "python",
   "nbconvert_exporter": "python",
   "pygments_lexer": "ipython3",
   "version": "3.9.18"
  },
  "papermill": {
   "default_parameters": {},
   "duration": 112.704117,
   "end_time": "2023-09-28T04:07:32.112844",
   "environment_variables": {},
   "exception": null,
   "input_path": "MPIA daily digest.ipynb",
   "output_path": "log.ipynb",
   "parameters": {},
   "start_time": "2023-09-28T04:05:39.408727",
   "version": "2.4.0"
  },
  "vscode": {
   "interpreter": {
    "hash": "aee8b7b246df8f9039afb4144a1f6fd8d2ca17a180786b69acc140d282b71a49"
   }
  },
  "widgets": {
   "application/vnd.jupyter.widget-state+json": {
    "state": {
     "06ba78a664504d2bb3383fc9204d4546": {
      "model_module": "@jupyter-widgets/controls",
      "model_module_version": "2.0.0",
      "model_name": "ProgressStyleModel",
      "state": {
       "_model_module": "@jupyter-widgets/controls",
       "_model_module_version": "2.0.0",
       "_model_name": "ProgressStyleModel",
       "_view_count": null,
       "_view_module": "@jupyter-widgets/base",
       "_view_module_version": "2.0.0",
       "_view_name": "StyleView",
       "bar_color": null,
       "description_width": ""
      }
     },
     "16f5d10b45374b81b36997e5dbe8b893": {
      "model_module": "@jupyter-widgets/controls",
      "model_module_version": "2.0.0",
      "model_name": "HTMLModel",
      "state": {
       "_dom_classes": [],
       "_model_module": "@jupyter-widgets/controls",
       "_model_module_version": "2.0.0",
       "_model_name": "HTMLModel",
       "_view_count": null,
       "_view_module": "@jupyter-widgets/controls",
       "_view_module_version": "2.0.0",
       "_view_name": "HTMLView",
       "description": "",
       "description_allow_html": false,
       "layout": "IPY_MODEL_fa9f3924beb143deae1e76f3415cea4e",
       "placeholder": "​",
       "style": "IPY_MODEL_851080e7c789451da8eafcee67d0b82e",
       "tabbable": null,
       "tooltip": null,
       "value": "100%"
      }
     },
     "38a6217c60fa4f9ca821063ebd227fd4": {
      "model_module": "@jupyter-widgets/controls",
      "model_module_version": "2.0.0",
      "model_name": "FloatProgressModel",
      "state": {
       "_dom_classes": [],
       "_model_module": "@jupyter-widgets/controls",
       "_model_module_version": "2.0.0",
       "_model_name": "FloatProgressModel",
       "_view_count": null,
       "_view_module": "@jupyter-widgets/controls",
       "_view_module_version": "2.0.0",
       "_view_name": "ProgressView",
       "bar_style": "success",
       "description": "",
       "description_allow_html": false,
       "layout": "IPY_MODEL_aefb373829484d6b843ad0739c937f7f",
       "max": 5.0,
       "min": 0.0,
       "orientation": "horizontal",
       "style": "IPY_MODEL_06ba78a664504d2bb3383fc9204d4546",
       "tabbable": null,
       "tooltip": null,
       "value": 5.0
      }
     },
     "4d2c628002704d2a8d1c6c88242e0e3a": {
      "model_module": "@jupyter-widgets/controls",
      "model_module_version": "2.0.0",
      "model_name": "HTMLStyleModel",
      "state": {
       "_model_module": "@jupyter-widgets/controls",
       "_model_module_version": "2.0.0",
       "_model_name": "HTMLStyleModel",
       "_view_count": null,
       "_view_module": "@jupyter-widgets/base",
       "_view_module_version": "2.0.0",
       "_view_name": "StyleView",
       "background": null,
       "description_width": "",
       "font_size": null,
       "text_color": null
      }
     },
     "851080e7c789451da8eafcee67d0b82e": {
      "model_module": "@jupyter-widgets/controls",
      "model_module_version": "2.0.0",
      "model_name": "HTMLStyleModel",
      "state": {
       "_model_module": "@jupyter-widgets/controls",
       "_model_module_version": "2.0.0",
       "_model_name": "HTMLStyleModel",
       "_view_count": null,
       "_view_module": "@jupyter-widgets/base",
       "_view_module_version": "2.0.0",
       "_view_name": "StyleView",
       "background": null,
       "description_width": "",
       "font_size": null,
       "text_color": null
      }
     },
     "aefb373829484d6b843ad0739c937f7f": {
      "model_module": "@jupyter-widgets/base",
      "model_module_version": "2.0.0",
      "model_name": "LayoutModel",
      "state": {
       "_model_module": "@jupyter-widgets/base",
       "_model_module_version": "2.0.0",
       "_model_name": "LayoutModel",
       "_view_count": null,
       "_view_module": "@jupyter-widgets/base",
       "_view_module_version": "2.0.0",
       "_view_name": "LayoutView",
       "align_content": null,
       "align_items": null,
       "align_self": null,
       "border_bottom": null,
       "border_left": null,
       "border_right": null,
       "border_top": null,
       "bottom": null,
       "display": null,
       "flex": null,
       "flex_flow": null,
       "grid_area": null,
       "grid_auto_columns": null,
       "grid_auto_flow": null,
       "grid_auto_rows": null,
       "grid_column": null,
       "grid_gap": null,
       "grid_row": null,
       "grid_template_areas": null,
       "grid_template_columns": null,
       "grid_template_rows": null,
       "height": null,
       "justify_content": null,
       "justify_items": null,
       "left": null,
       "margin": null,
       "max_height": null,
       "max_width": null,
       "min_height": null,
       "min_width": null,
       "object_fit": null,
       "object_position": null,
       "order": null,
       "overflow": null,
       "padding": null,
       "right": null,
       "top": null,
       "visibility": null,
       "width": null
      }
     },
     "bed11dd877a64d4d9cd621a937c55a46": {
      "model_module": "@jupyter-widgets/controls",
      "model_module_version": "2.0.0",
      "model_name": "HTMLModel",
      "state": {
       "_dom_classes": [],
       "_model_module": "@jupyter-widgets/controls",
       "_model_module_version": "2.0.0",
       "_model_name": "HTMLModel",
       "_view_count": null,
       "_view_module": "@jupyter-widgets/controls",
       "_view_module_version": "2.0.0",
       "_view_name": "HTMLView",
       "description": "",
       "description_allow_html": false,
       "layout": "IPY_MODEL_c9d304ac33ea475a8e9fb38d2866e4db",
       "placeholder": "​",
       "style": "IPY_MODEL_4d2c628002704d2a8d1c6c88242e0e3a",
       "tabbable": null,
       "tooltip": null,
       "value": " 5/5 [01:24&lt;00:00, 16.16s/it]"
      }
     },
     "c9d304ac33ea475a8e9fb38d2866e4db": {
      "model_module": "@jupyter-widgets/base",
      "model_module_version": "2.0.0",
      "model_name": "LayoutModel",
      "state": {
       "_model_module": "@jupyter-widgets/base",
       "_model_module_version": "2.0.0",
       "_model_name": "LayoutModel",
       "_view_count": null,
       "_view_module": "@jupyter-widgets/base",
       "_view_module_version": "2.0.0",
       "_view_name": "LayoutView",
       "align_content": null,
       "align_items": null,
       "align_self": null,
       "border_bottom": null,
       "border_left": null,
       "border_right": null,
       "border_top": null,
       "bottom": null,
       "display": null,
       "flex": null,
       "flex_flow": null,
       "grid_area": null,
       "grid_auto_columns": null,
       "grid_auto_flow": null,
       "grid_auto_rows": null,
       "grid_column": null,
       "grid_gap": null,
       "grid_row": null,
       "grid_template_areas": null,
       "grid_template_columns": null,
       "grid_template_rows": null,
       "height": null,
       "justify_content": null,
       "justify_items": null,
       "left": null,
       "margin": null,
       "max_height": null,
       "max_width": null,
       "min_height": null,
       "min_width": null,
       "object_fit": null,
       "object_position": null,
       "order": null,
       "overflow": null,
       "padding": null,
       "right": null,
       "top": null,
       "visibility": null,
       "width": null
      }
     },
     "d1257dc2013545858db942bd383c2db6": {
      "model_module": "@jupyter-widgets/base",
      "model_module_version": "2.0.0",
      "model_name": "LayoutModel",
      "state": {
       "_model_module": "@jupyter-widgets/base",
       "_model_module_version": "2.0.0",
       "_model_name": "LayoutModel",
       "_view_count": null,
       "_view_module": "@jupyter-widgets/base",
       "_view_module_version": "2.0.0",
       "_view_name": "LayoutView",
       "align_content": null,
       "align_items": null,
       "align_self": null,
       "border_bottom": null,
       "border_left": null,
       "border_right": null,
       "border_top": null,
       "bottom": null,
       "display": null,
       "flex": null,
       "flex_flow": null,
       "grid_area": null,
       "grid_auto_columns": null,
       "grid_auto_flow": null,
       "grid_auto_rows": null,
       "grid_column": null,
       "grid_gap": null,
       "grid_row": null,
       "grid_template_areas": null,
       "grid_template_columns": null,
       "grid_template_rows": null,
       "height": null,
       "justify_content": null,
       "justify_items": null,
       "left": null,
       "margin": null,
       "max_height": null,
       "max_width": null,
       "min_height": null,
       "min_width": null,
       "object_fit": null,
       "object_position": null,
       "order": null,
       "overflow": null,
       "padding": null,
       "right": null,
       "top": null,
       "visibility": null,
       "width": null
      }
     },
     "d73ef19bb2a94280995995119efd8cf4": {
      "model_module": "@jupyter-widgets/controls",
      "model_module_version": "2.0.0",
      "model_name": "HBoxModel",
      "state": {
       "_dom_classes": [],
       "_model_module": "@jupyter-widgets/controls",
       "_model_module_version": "2.0.0",
       "_model_name": "HBoxModel",
       "_view_count": null,
       "_view_module": "@jupyter-widgets/controls",
       "_view_module_version": "2.0.0",
       "_view_name": "HBoxView",
       "box_style": "",
       "children": [
        "IPY_MODEL_16f5d10b45374b81b36997e5dbe8b893",
        "IPY_MODEL_38a6217c60fa4f9ca821063ebd227fd4",
        "IPY_MODEL_bed11dd877a64d4d9cd621a937c55a46"
       ],
       "layout": "IPY_MODEL_d1257dc2013545858db942bd383c2db6",
       "tabbable": null,
       "tooltip": null
      }
     },
     "fa9f3924beb143deae1e76f3415cea4e": {
      "model_module": "@jupyter-widgets/base",
      "model_module_version": "2.0.0",
      "model_name": "LayoutModel",
      "state": {
       "_model_module": "@jupyter-widgets/base",
       "_model_module_version": "2.0.0",
       "_model_name": "LayoutModel",
       "_view_count": null,
       "_view_module": "@jupyter-widgets/base",
       "_view_module_version": "2.0.0",
       "_view_name": "LayoutView",
       "align_content": null,
       "align_items": null,
       "align_self": null,
       "border_bottom": null,
       "border_left": null,
       "border_right": null,
       "border_top": null,
       "bottom": null,
       "display": null,
       "flex": null,
       "flex_flow": null,
       "grid_area": null,
       "grid_auto_columns": null,
       "grid_auto_flow": null,
       "grid_auto_rows": null,
       "grid_column": null,
       "grid_gap": null,
       "grid_row": null,
       "grid_template_areas": null,
       "grid_template_columns": null,
       "grid_template_rows": null,
       "height": null,
       "justify_content": null,
       "justify_items": null,
       "left": null,
       "margin": null,
       "max_height": null,
       "max_width": null,
       "min_height": null,
       "min_width": null,
       "object_fit": null,
       "object_position": null,
       "order": null,
       "overflow": null,
       "padding": null,
       "right": null,
       "top": null,
       "visibility": null,
       "width": null
      }
     }
    },
    "version_major": 2,
    "version_minor": 0
   }
  }
 },
 "nbformat": 4,
 "nbformat_minor": 5
}