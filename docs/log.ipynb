{
 "cells": [
  {
   "cell_type": "markdown",
   "id": "92bcb855",
   "metadata": {
    "papermill": {
     "duration": 0.006549,
     "end_time": "2023-10-25T04:07:10.613516",
     "exception": false,
     "start_time": "2023-10-25T04:07:10.606967",
     "status": "completed"
    },
    "tags": []
   },
   "source": [
    "# MPIA Arxiv on Deck 2\n",
    "\n",
    "Contains the steps to produce the paper extractions."
   ]
  },
  {
   "cell_type": "code",
   "execution_count": 1,
   "id": "3a0d6e11",
   "metadata": {
    "execution": {
     "iopub.execute_input": "2023-10-25T04:07:10.626785Z",
     "iopub.status.busy": "2023-10-25T04:07:10.625833Z",
     "iopub.status.idle": "2023-10-25T04:07:11.072748Z",
     "shell.execute_reply": "2023-10-25T04:07:11.071899Z"
    },
    "papermill": {
     "duration": 0.455277,
     "end_time": "2023-10-25T04:07:11.075074",
     "exception": false,
     "start_time": "2023-10-25T04:07:10.619797",
     "status": "completed"
    },
    "tags": []
   },
   "outputs": [],
   "source": [
    "# Imports\n",
    "import os\n",
    "from IPython.display import Markdown, display\n",
    "from tqdm.notebook import tqdm\n",
    "import warnings\n",
    "from PIL import Image \n",
    "\n",
    "# requires arxiv_on_deck_2\n",
    "\n",
    "from arxiv_on_deck_2.arxiv2 import (get_new_papers, \n",
    "                                    get_paper_from_identifier,\n",
    "                                    retrieve_document_source, \n",
    "                                    get_markdown_badge)\n",
    "from arxiv_on_deck_2 import (latex,\n",
    "                             latex_bib,\n",
    "                             mpia,\n",
    "                             highlight_authors_in_list)\n",
    "\n",
    "# Sometimes images are really big\n",
    "Image.MAX_IMAGE_PIXELS = 1000000000 "
   ]
  },
  {
   "cell_type": "code",
   "execution_count": 2,
   "id": "22aa9d44",
   "metadata": {
    "execution": {
     "iopub.execute_input": "2023-10-25T04:07:11.086386Z",
     "iopub.status.busy": "2023-10-25T04:07:11.085447Z",
     "iopub.status.idle": "2023-10-25T04:07:11.092488Z",
     "shell.execute_reply": "2023-10-25T04:07:11.091790Z"
    },
    "papermill": {
     "duration": 0.014788,
     "end_time": "2023-10-25T04:07:11.094544",
     "exception": false,
     "start_time": "2023-10-25T04:07:11.079756",
     "status": "completed"
    },
    "tags": []
   },
   "outputs": [],
   "source": [
    "# Some useful definitions.\n",
    "\n",
    "class AffiliationWarning(UserWarning):\n",
    "    pass\n",
    "\n",
    "class AffiliationError(RuntimeError):\n",
    "    pass\n",
    "\n",
    "def validation(source: str):\n",
    "    \"\"\"Raises error paper during parsing of source file\n",
    "    \n",
    "    Allows checks before parsing TeX code.\n",
    "    \n",
    "    Raises AffiliationWarning\n",
    "    \"\"\"\n",
    "    check = mpia.affiliation_verifications(source, verbose=True)\n",
    "    if check is not True:\n",
    "        raise AffiliationError(\"mpia.affiliation_verifications: \" + check)\n",
    "\n",
    "        \n",
    "warnings.simplefilter('always', AffiliationWarning)\n",
    "\n",
    "\n",
    "def get_markdown_qrcode(paper_id: str):\n",
    "    \"\"\" Generate a qrcode to the arxiv page using qrserver.com\n",
    "    \n",
    "    :param paper: Arxiv paper\n",
    "    :returns: markdown text\n",
    "    \"\"\"\n",
    "    url = r\"https://api.qrserver.com/v1/create-qr-code/?size=100x100&data=\"\n",
    "    txt = f\"\"\"<img src={url}\"https://arxiv.org/abs/{paper_id}\">\"\"\"\n",
    "    txt = '<div id=\"qrcode\">' + txt + '</div>'\n",
    "    return txt"
   ]
  },
  {
   "cell_type": "markdown",
   "id": "14bd6310",
   "metadata": {
    "papermill": {
     "duration": 0.004073,
     "end_time": "2023-10-25T04:07:11.102850",
     "exception": false,
     "start_time": "2023-10-25T04:07:11.098777",
     "status": "completed"
    },
    "tags": []
   },
   "source": [
    "## get list of arxiv paper candidates\n",
    "\n",
    "We use the MPIA mitarbeiter list webpage from mpia.de to get author names\n",
    "We then get all new papers from Arxiv and match authors"
   ]
  },
  {
   "cell_type": "code",
   "execution_count": 3,
   "id": "2645e73a",
   "metadata": {
    "execution": {
     "iopub.execute_input": "2023-10-25T04:07:11.112842Z",
     "iopub.status.busy": "2023-10-25T04:07:11.112124Z",
     "iopub.status.idle": "2023-10-25T04:07:32.129628Z",
     "shell.execute_reply": "2023-10-25T04:07:32.128664Z"
    },
    "papermill": {
     "duration": 21.024737,
     "end_time": "2023-10-25T04:07:32.131661",
     "exception": false,
     "start_time": "2023-10-25T04:07:11.106924",
     "status": "completed"
    },
    "tags": []
   },
   "outputs": [
    {
     "name": "stdout",
     "output_type": "stream",
     "text": [
      "X. Zhang  ->  X. Zhang  |  ['X. Zhang']\n"
     ]
    },
    {
     "name": "stdout",
     "output_type": "stream",
     "text": [
      "X. Zhang  ->  X. Zhang  |  ['X. Zhang']\n",
      "L. Kreidberg  ->  L. Kreidberg  |  ['L. Kreidberg']\n",
      "E. Schinnerer  ->  E. Schinnerer  |  ['E. Schinnerer']\n",
      "A. Pillepich  ->  A. Pillepich  |  ['A. Pillepich']\n",
      "Arxiv has 95 new papers today\n",
      "          5 with possible author matches\n"
     ]
    }
   ],
   "source": [
    "# get list from MPIA website\n",
    "# it automatically filters identified non-scientists :func:`mpia.filter_non_scientists`\n",
    "mpia_authors = mpia.get_mpia_mitarbeiter_list()\n",
    "normed_mpia_authors = [k[1] for k in mpia_authors]   # initials + fullname\n",
    "new_papers = get_new_papers()\n",
    "# add manual references\n",
    "add_paper_refs = []\n",
    "new_papers.extend([get_paper_from_identifier(k) for k in add_paper_refs])\n",
    "\n",
    "candidates = []\n",
    "for paperk in new_papers:\n",
    "    # Check author list with their initials\n",
    "    normed_author_list = [mpia.get_initials(k) for k in paperk['authors']]\n",
    "    hl_authors = highlight_authors_in_list(normed_author_list, normed_mpia_authors, verbose=True)\n",
    "    matches = [(hl, orig) for hl, orig in zip(hl_authors, paperk['authors']) if 'mark' in hl]\n",
    "    paperk['authors'] = hl_authors\n",
    "    if matches:\n",
    "        # only select paper if an author matched our list\n",
    "        candidates.append(paperk)\n",
    "print(\"\"\"Arxiv has {0:,d} new papers today\"\"\".format(len(new_papers)))        \n",
    "print(\"\"\"          {0:,d} with possible author matches\"\"\".format(len(candidates)))"
   ]
  },
  {
   "cell_type": "markdown",
   "id": "3543b34a",
   "metadata": {
    "papermill": {
     "duration": 0.004453,
     "end_time": "2023-10-25T04:07:32.140815",
     "exception": false,
     "start_time": "2023-10-25T04:07:32.136362",
     "status": "completed"
    },
    "tags": []
   },
   "source": [
    "# Parse sources and generate relevant outputs\n",
    "\n",
    "From the candidates, we do the following steps:\n",
    "* get their tarball from ArXiv (and extract data)\n",
    "* find the main .tex file: find one with \\documentclass{...} (sometimes it's non trivial)\n",
    "* Check affiliations with :func:`validation`, which uses :func:`mpia.affiliation_verifications`\n",
    "* If passing the affiliations: we parse the .tex source\n",
    "   * inject sub-documents into the main (flatten the main document)\n",
    "   * parse structure, extract information (title, abstract, authors, figures...)\n",
    "   * handles `\\graphicspath` if provided\n",
    "* Generate the .md document."
   ]
  },
  {
   "cell_type": "code",
   "execution_count": 4,
   "id": "9576b79e",
   "metadata": {
    "execution": {
     "iopub.execute_input": "2023-10-25T04:07:32.151717Z",
     "iopub.status.busy": "2023-10-25T04:07:32.151112Z",
     "iopub.status.idle": "2023-10-25T04:10:24.131177Z",
     "shell.execute_reply": "2023-10-25T04:10:24.130351Z"
    },
    "papermill": {
     "duration": 171.993922,
     "end_time": "2023-10-25T04:10:24.139091",
     "exception": false,
     "start_time": "2023-10-25T04:07:32.145169",
     "status": "completed"
    },
    "scrolled": false,
    "tags": []
   },
   "outputs": [
    {
     "data": {
      "application/vnd.jupyter.widget-view+json": {
       "model_id": "5c23cb352f344692af69d59a28f4806b",
       "version_major": 2,
       "version_minor": 0
      },
      "text/plain": [
       "  0%|          | 0/5 [00:00<?, ?it/s]"
      ]
     },
     "metadata": {},
     "output_type": "display_data"
    },
    {
     "name": "stdout",
     "output_type": "stream",
     "text": [
      "Retrieving document from  https://arxiv.org/e-print/2310.15267\n"
     ]
    },
    {
     "name": "stdout",
     "output_type": "stream",
     "text": [
      "extracting tarball to tmp_2310.15267..."
     ]
    },
    {
     "name": "stdout",
     "output_type": "stream",
     "text": [
      " done.\n",
      "Retrieving document from  https://arxiv.org/e-print/2310.15879\n"
     ]
    },
    {
     "name": "stderr",
     "output_type": "stream",
     "text": [
      "/opt/hostedtoolcache/Python/3.9.18/x64/lib/python3.9/site-packages/IPython/core/interactiveshell.py:3526: LatexWarning: Multiple tex files.\n",
      "\n",
      "  exec(code_obj, self.user_global_ns, self.user_ns)\n",
      "/opt/hostedtoolcache/Python/3.9.18/x64/lib/python3.9/site-packages/IPython/core/interactiveshell.py:3526: LatexWarning: Found documentclass in tmp_2310.15267/aassymbols.tex\n",
      "\n",
      "  exec(code_obj, self.user_global_ns, self.user_ns)\n"
     ]
    },
    {
     "name": "stdout",
     "output_type": "stream",
     "text": [
      "extracting tarball to tmp_2310.15879..."
     ]
    },
    {
     "name": "stdout",
     "output_type": "stream",
     "text": [
      " done.\n",
      "Retrieving document from  https://arxiv.org/e-print/2310.15895\n"
     ]
    },
    {
     "name": "stdout",
     "output_type": "stream",
     "text": [
      "extracting tarball to tmp_2310.15895... done.\n"
     ]
    },
    {
     "name": "stderr",
     "output_type": "stream",
     "text": [
      "/opt/hostedtoolcache/Python/3.9.18/x64/lib/python3.9/site-packages/arxiv_on_deck_2/latex.py:120: LatexWarning: attempting recovering figure figure_1a.pdf\n",
      "  warnings.warn(LatexWarning(f'attempting recovering figure {image}'))\n",
      "/opt/hostedtoolcache/Python/3.9.18/x64/lib/python3.9/site-packages/arxiv_on_deck_2/latex.py:692: LatexWarning: Could not find graphic \\includegraphics[height=\\textheight, width=0.575\\textwidth, keepaspectratio]{figure_1a.pdf}\n",
      "  warnings.warn(LatexWarning(f\"Could not find graphic {k}\"))\n",
      "/opt/hostedtoolcache/Python/3.9.18/x64/lib/python3.9/site-packages/arxiv_on_deck_2/latex.py:120: LatexWarning: attempting recovering figure figure_1b.pdf\n",
      "  warnings.warn(LatexWarning(f'attempting recovering figure {image}'))\n",
      "/opt/hostedtoolcache/Python/3.9.18/x64/lib/python3.9/site-packages/arxiv_on_deck_2/latex.py:692: LatexWarning: Could not find graphic \\includegraphics[height=\\textheight, width=0.4\\textwidth, keepaspectratio]{figure_1b.pdf}\n",
      "  warnings.warn(LatexWarning(f\"Could not find graphic {k}\"))\n",
      "/opt/hostedtoolcache/Python/3.9.18/x64/lib/python3.9/site-packages/arxiv_on_deck_2/latex.py:120: LatexWarning: attempting recovering figure figure_2.pdf\n",
      "  warnings.warn(LatexWarning(f'attempting recovering figure {image}'))\n",
      "/opt/hostedtoolcache/Python/3.9.18/x64/lib/python3.9/site-packages/arxiv_on_deck_2/latex.py:692: LatexWarning: Could not find graphic \\includegraphics[height=\\textheight, width=\\textwidth, keepaspectratio]{figure_2.pdf}\n",
      "  warnings.warn(LatexWarning(f\"Could not find graphic {k}\"))\n",
      "/opt/hostedtoolcache/Python/3.9.18/x64/lib/python3.9/site-packages/arxiv_on_deck_2/latex.py:120: LatexWarning: attempting recovering figure figure_3.pdf\n",
      "  warnings.warn(LatexWarning(f'attempting recovering figure {image}'))\n",
      "/opt/hostedtoolcache/Python/3.9.18/x64/lib/python3.9/site-packages/arxiv_on_deck_2/latex.py:692: LatexWarning: Could not find graphic \\includegraphics[height=\\textheight, width=\\textwidth, keepaspectratio]{figure_3.pdf}\n",
      "  warnings.warn(LatexWarning(f\"Could not find graphic {k}\"))\n",
      "/opt/hostedtoolcache/Python/3.9.18/x64/lib/python3.9/site-packages/arxiv_on_deck_2/latex.py:120: LatexWarning: attempting recovering figure figure_4.pdf\n",
      "  warnings.warn(LatexWarning(f'attempting recovering figure {image}'))\n",
      "/opt/hostedtoolcache/Python/3.9.18/x64/lib/python3.9/site-packages/arxiv_on_deck_2/latex.py:692: LatexWarning: Could not find graphic \\includegraphics[height=\\textheight, width=\\textwidth, keepaspectratio]{figure_4.pdf}\n",
      "  warnings.warn(LatexWarning(f\"Could not find graphic {k}\"))\n",
      "/opt/hostedtoolcache/Python/3.9.18/x64/lib/python3.9/site-packages/arxiv_on_deck_2/latex.py:120: LatexWarning: attempting recovering figure figure_5__large.pdf\n",
      "  warnings.warn(LatexWarning(f'attempting recovering figure {image}'))\n",
      "/opt/hostedtoolcache/Python/3.9.18/x64/lib/python3.9/site-packages/arxiv_on_deck_2/latex.py:692: LatexWarning: Could not find graphic \\includegraphics[height=\\textheight, width=\\textwidth, keepaspectratio]{figure_5__large.pdf}\n",
      "  warnings.warn(LatexWarning(f\"Could not find graphic {k}\"))\n"
     ]
    },
    {
     "name": "stdout",
     "output_type": "stream",
     "text": [
      "Found 89 bibliographic references in tmp_2310.15895/main.bbl.\n",
      "Retrieving document from  https://arxiv.org/e-print/2310.15925\n"
     ]
    },
    {
     "name": "stderr",
     "output_type": "stream",
     "text": [
      "/opt/hostedtoolcache/Python/3.9.18/x64/lib/python3.9/site-packages/arxiv_on_deck_2/latex_bib.py:132: UserWarning: Error processing bibitem\n",
      " item = \\bibitem{Greene2023}\\bibinfo{author}{{Greene}, T.~P.} \\emph{et~al.}\\newblock \\bibinfo{title}{{Thermal emission from the Earth-sized exoplanet TRAPPIST-1 b using JWST}}.\\newblock \\emph{\\bibinfo{journal}{\\nat}} \\textbf{\\bibinfo{volume}{618}}, \\bibinfo{pages}{39--42} (\\bibinfo{year}{2023}).\\newblock \\eprint{2303.14849}.\n",
      " regex = \n",
      "        \\\\bibitem(\\[[^\\[\\]]*?\\]){(?P<bibkey>[a-zA-Z0-9\\-\\+\\.\\S]+?)}(?P<authors>|([\\D]*?))(?P<year>[12][0-9]{3})(?P<rest>.*)\n",
      "        \n",
      "  warnings.warn(str(e))\n",
      "/opt/hostedtoolcache/Python/3.9.18/x64/lib/python3.9/site-packages/arxiv_on_deck_2/latex_bib.py:132: UserWarning: Error processing bibitem\n",
      " item = \\bibitem{Zieba2023}\\bibinfo{author}{{Zieba}, S.} \\emph{et~al.}\\newblock \\bibinfo{title}{{No thick carbon dioxide atmosphere on the rocky exoplanet TRAPPIST-1 c}}.\\newblock \\emph{\\bibinfo{journal}{arXiv e-prints}} \\bibinfo{pages}{arXiv:2306.10150} (\\bibinfo{year}{2023}).\\newblock \\eprint{2306.10150}.\n",
      " regex = \n",
      "        \\\\bibitem(\\[[^\\[\\]]*?\\]){(?P<bibkey>[a-zA-Z0-9\\-\\+\\.\\S]+?)}(?P<authors>|([\\D]*?))(?P<year>[12][0-9]{3})(?P<rest>.*)\n",
      "        \n",
      "  warnings.warn(str(e))\n",
      "/opt/hostedtoolcache/Python/3.9.18/x64/lib/python3.9/site-packages/arxiv_on_deck_2/latex_bib.py:132: UserWarning: Error processing bibitem\n",
      " item = \\bibitem{Lim2023}\\bibinfo{author}{{Lim}, O.} \\emph{et~al.}\\newblock \\bibinfo{title}{{Atmospheric Reconnaissance of TRAPPIST-1 b with JWST/NIRISS: Evidence for Strong Stellar Contamination in the Transmission Spectra}}.\\newblock \\emph{\\bibinfo{journal}{\\apjl}} \\textbf{\\bibinfo{volume}{955}}, \\bibinfo{pages}{L22} (\\bibinfo{year}{2023}).\\newblock \\eprint{2309.07047}.\n",
      " regex = \n",
      "        \\\\bibitem(\\[[^\\[\\]]*?\\]){(?P<bibkey>[a-zA-Z0-9\\-\\+\\.\\S]+?)}(?P<authors>|([\\D]*?))(?P<year>[12][0-9]{3})(?P<rest>.*)\n",
      "        \n",
      "  warnings.warn(str(e))\n",
      "/opt/hostedtoolcache/Python/3.9.18/x64/lib/python3.9/site-packages/arxiv_on_deck_2/latex_bib.py:132: UserWarning: Error processing bibitem\n",
      " item = \\bibitem{dewit2016}\\bibinfo{author}{{de Wit}, J.} \\emph{et~al.}\\newblock \\bibinfo{title}{{A combined transmission spectrum of the Earth-sized exoplanets TRAPPIST-1 b and c}}.\\newblock \\emph{\\bibinfo{journal}{\\nat}} \\textbf{\\bibinfo{volume}{537}}, \\bibinfo{pages}{69--72} (\\bibinfo{year}{2016}).\\newblock \\eprint{1606.01103}.\n",
      " regex = \n",
      "        \\\\bibitem(\\[[^\\[\\]]*?\\]){(?P<bibkey>[a-zA-Z0-9\\-\\+\\.\\S]+?)}(?P<authors>|([\\D]*?))(?P<year>[12][0-9]{3})(?P<rest>.*)\n",
      "        \n",
      "  warnings.warn(str(e))\n",
      "/opt/hostedtoolcache/Python/3.9.18/x64/lib/python3.9/site-packages/arxiv_on_deck_2/latex_bib.py:132: UserWarning: Error processing bibitem\n",
      " item = \\bibitem{deWit2018}\\bibinfo{author}{{de Wit}, J.} \\emph{et~al.}\\newblock \\bibinfo{title}{{Atmospheric reconnaissance of the habitable-zone Earth-sized planets orbiting TRAPPIST-1}}.\\newblock \\emph{\\bibinfo{journal}{Nature Astronomy}} \\textbf{\\bibinfo{volume}{2}}, \\bibinfo{pages}{214--219} (\\bibinfo{year}{2018}).\\newblock \\eprint{1802.02250}.\n",
      " regex = \n",
      "        \\\\bibitem(\\[[^\\[\\]]*?\\]){(?P<bibkey>[a-zA-Z0-9\\-\\+\\.\\S]+?)}(?P<authors>|([\\D]*?))(?P<year>[12][0-9]{3})(?P<rest>.*)\n",
      "        \n",
      "  warnings.warn(str(e))\n",
      "/opt/hostedtoolcache/Python/3.9.18/x64/lib/python3.9/site-packages/arxiv_on_deck_2/latex_bib.py:132: UserWarning: Error processing bibitem\n",
      " item = \\bibitem{Triaud2023}\\bibinfo{author}{{Triaud}, A.} \\emph{et~al.}\\newblock \\bibinfo{title}{{Atmospheric carbon depletion as a tracer of water oceans and biomass on temperate terrestrial exoplanets}}.\\newblock \\emph{\\bibinfo{journal}{arXiv e-prints}} \\bibinfo{pages}{arXiv:2310.14987} (\\bibinfo{year}{2023}).\\newblock \\eprint{2310.14987}.\n",
      " regex = \n",
      "        \\\\bibitem(\\[[^\\[\\]]*?\\]){(?P<bibkey>[a-zA-Z0-9\\-\\+\\.\\S]+?)}(?P<authors>|([\\D]*?))(?P<year>[12][0-9]{3})(?P<rest>.*)\n",
      "        \n",
      "  warnings.warn(str(e))\n",
      "/opt/hostedtoolcache/Python/3.9.18/x64/lib/python3.9/site-packages/arxiv_on_deck_2/latex_bib.py:132: UserWarning: Error processing bibitem\n",
      " item = \\bibitem{Dressing2015}\\bibinfo{author}{{Dressing}, C.~D.}  \\bibinfo{author}{{Charbonneau}, D.}\\newblock \\bibinfo{title}{{The Occurrence of Potentially Habitable Planets Orbiting M Dwarfs Estimated from the Full Kepler Dataset and an Empirical Measurement of the Detection Sensitivity}}.\\newblock \\emph{\\bibinfo{journal}{\\apj}} \\textbf{\\bibinfo{volume}{807}}, \\bibinfo{pages}{45} (\\bibinfo{year}{2015}).\\newblock \\eprint{1501.01623}.\n",
      " regex = \n",
      "        \\\\bibitem(\\[[^\\[\\]]*?\\]){(?P<bibkey>[a-zA-Z0-9\\-\\+\\.\\S]+?)}(?P<authors>|([\\D]*?))(?P<year>[12][0-9]{3})(?P<rest>.*)\n",
      "        \n",
      "  warnings.warn(str(e))\n",
      "/opt/hostedtoolcache/Python/3.9.18/x64/lib/python3.9/site-packages/arxiv_on_deck_2/latex_bib.py:132: UserWarning: Error processing bibitem\n",
      " item = \\bibitem{Gaidos2016}\\bibinfo{author}{{Gaidos}, E.}, \\bibinfo{author}{{Mann}, A.~W.}, \\bibinfo{author}{{Kraus}, A.~L.}  \\bibinfo{author}{{Ireland}, M.}\\newblock \\bibinfo{title}{{They are small worlds after all: revised properties of Kepler M dwarf stars and their planets}}.\\newblock \\emph{\\bibinfo{journal}{\\mnras}} \\textbf{\\bibinfo{volume}{457}}, \\bibinfo{pages}{2877--2899} (\\bibinfo{year}{2016}).\\newblock \\eprint{1512.04437}.\n",
      " regex = \n",
      "        \\\\bibitem(\\[[^\\[\\]]*?\\]){(?P<bibkey>[a-zA-Z0-9\\-\\+\\.\\S]+?)}(?P<authors>|([\\D]*?))(?P<year>[12][0-9]{3})(?P<rest>.*)\n",
      "        \n",
      "  warnings.warn(str(e))\n",
      "/opt/hostedtoolcache/Python/3.9.18/x64/lib/python3.9/site-packages/arxiv_on_deck_2/latex_bib.py:132: UserWarning: Error processing bibitem\n",
      " item = \\bibitem{Ment2023}\\bibinfo{author}{{Ment}, K.}  \\bibinfo{author}{{Charbonneau}, D.}\\newblock \\bibinfo{title}{{The Occurrence Rate of Terrestrial Planets Orbiting Nearby Mid-to-late M Dwarfs from TESS Sectors 1-42}}.\\newblock \\emph{\\bibinfo{journal}{arXiv e-prints}} \\bibinfo{pages}{arXiv:2302.04242} (\\bibinfo{year}{2023}).\\newblock \\eprint{2302.04242}.\n",
      " regex = \n",
      "        \\\\bibitem(\\[[^\\[\\]]*?\\]){(?P<bibkey>[a-zA-Z0-9\\-\\+\\.\\S]+?)}(?P<authors>|([\\D]*?))(?P<year>[12][0-9]{3})(?P<rest>.*)\n",
      "        \n",
      "  warnings.warn(str(e))\n",
      "/opt/hostedtoolcache/Python/3.9.18/x64/lib/python3.9/site-packages/arxiv_on_deck_2/latex_bib.py:132: UserWarning: Error processing bibitem\n",
      " item = \\bibitem{Bochanski2010}\\bibinfo{author}{{Bochanski}, J.~J.} \\emph{et~al.}\\newblock \\bibinfo{title}{{The Luminosity and Mass Functions of Low-mass Stars in the Galactic Disk. II. The Field}}.\\newblock \\emph{\\bibinfo{journal}{\\aj}} \\textbf{\\bibinfo{volume}{139}}, \\bibinfo{pages}{2679--2699} (\\bibinfo{year}{2010}).\\newblock \\eprint{1004.4002}.\n",
      " regex = \n",
      "        \\\\bibitem(\\[[^\\[\\]]*?\\]){(?P<bibkey>[a-zA-Z0-9\\-\\+\\.\\S]+?)}(?P<authors>|([\\D]*?))(?P<year>[12][0-9]{3})(?P<rest>.*)\n",
      "        \n",
      "  warnings.warn(str(e))\n",
      "/opt/hostedtoolcache/Python/3.9.18/x64/lib/python3.9/site-packages/arxiv_on_deck_2/latex_bib.py:132: UserWarning: Error processing bibitem\n",
      " item = \\bibitem{Lichtenberg2022}\\bibinfo{author}{{Lichtenberg}, T.}  \\bibinfo{author}{{Clement}, M.~S.}\\newblock \\bibinfo{title}{{Reduced Late Bombardment on Rocky Exoplanets around M Dwarfs}}.\\newblock \\emph{\\bibinfo{journal}{\\apjl}} \\textbf{\\bibinfo{volume}{938}}, \\bibinfo{pages}{L3} (\\bibinfo{year}{2022}).\\newblock \\eprint{2209.14037}.\n",
      " regex = \n",
      "        \\\\bibitem(\\[[^\\[\\]]*?\\]){(?P<bibkey>[a-zA-Z0-9\\-\\+\\.\\S]+?)}(?P<authors>|([\\D]*?))(?P<year>[12][0-9]{3})(?P<rest>.*)\n",
      "        \n",
      "  warnings.warn(str(e))\n",
      "/opt/hostedtoolcache/Python/3.9.18/x64/lib/python3.9/site-packages/arxiv_on_deck_2/latex_bib.py:132: UserWarning: Error processing bibitem\n",
      " item = \\bibitem{Baraffe1998}\\bibinfo{author}{{Baraffe}, I.}, \\bibinfo{author}{{Chabrier}, G.}, \\bibinfo{author}{{Allard}, F.}  \\bibinfo{author}{{Hauschildt}, P.~H.}\\newblock \\bibinfo{title}{{Evolutionary models for solar metallicity low-mass stars: mass-magnitude relationships and color-magnitude diagrams}}.\\newblock \\emph{\\bibinfo{journal}{\\aap}} \\textbf{\\bibinfo{volume}{337}}, \\bibinfo{pages}{403--412} (\\bibinfo{year}{1998}).\\newblock \\eprint{astro-ph/9805009}.\n",
      " regex = \n",
      "        \\\\bibitem(\\[[^\\[\\]]*?\\]){(?P<bibkey>[a-zA-Z0-9\\-\\+\\.\\S]+?)}(?P<authors>|([\\D]*?))(?P<year>[12][0-9]{3})(?P<rest>.*)\n",
      "        \n",
      "  warnings.warn(str(e))\n",
      "/opt/hostedtoolcache/Python/3.9.18/x64/lib/python3.9/site-packages/arxiv_on_deck_2/latex_bib.py:132: UserWarning: Error processing bibitem\n",
      " item = \\bibitem{Baraffe2015}\\bibinfo{author}{{Baraffe}, I.}, \\bibinfo{author}{{Homeier}, D.}, \\bibinfo{author}{{Allard}, F.}  \\bibinfo{author}{{Chabrier}, G.}\\newblock \\bibinfo{title}{{New evolutionary models for pre-main sequence and main sequence low-mass stars down to the hydrogen-burning limit}}.\\newblock \\emph{\\bibinfo{journal}{\\aap}} \\textbf{\\bibinfo{volume}{577}}, \\bibinfo{pages}{A42} (\\bibinfo{year}{2015}).\\newblock \\eprint{1503.04107}.\n",
      " regex = \n",
      "        \\\\bibitem(\\[[^\\[\\]]*?\\]){(?P<bibkey>[a-zA-Z0-9\\-\\+\\.\\S]+?)}(?P<authors>|([\\D]*?))(?P<year>[12][0-9]{3})(?P<rest>.*)\n",
      "        \n",
      "  warnings.warn(str(e))\n",
      "/opt/hostedtoolcache/Python/3.9.18/x64/lib/python3.9/site-packages/arxiv_on_deck_2/latex_bib.py:132: UserWarning: Error processing bibitem\n",
      " item = \\bibitem{Kane2014}\\bibinfo{author}{{Kane}, S.~R.}, \\bibinfo{author}{{Kopparapu}, R.~K.}  \\bibinfo{author}{{Domagal-Goldman}, S.~D.}\\newblock \\bibinfo{title}{{On the Frequency of Potential Venus Analogs from Kepler Data}}.\\newblock \\emph{\\bibinfo{journal}{\\apjl}} \\textbf{\\bibinfo{volume}{794}}, \\bibinfo{pages}{L5} (\\bibinfo{year}{2014}).\\newblock \\eprint{1409.2886}.\n",
      " regex = \n",
      "        \\\\bibitem(\\[[^\\[\\]]*?\\]){(?P<bibkey>[a-zA-Z0-9\\-\\+\\.\\S]+?)}(?P<authors>|([\\D]*?))(?P<year>[12][0-9]{3})(?P<rest>.*)\n",
      "        \n",
      "  warnings.warn(str(e))\n",
      "/opt/hostedtoolcache/Python/3.9.18/x64/lib/python3.9/site-packages/arxiv_on_deck_2/latex_bib.py:132: UserWarning: Error processing bibitem\n",
      " item = \\bibitem{Tian2015}\\bibinfo{author}{{Tian}, F.}  \\bibinfo{author}{{Ida}, S.}\\newblock \\bibinfo{title}{{Water contents of Earth-mass planets around M dwarfs}}.\\newblock \\emph{\\bibinfo{journal}{Nature Geoscience}} \\textbf{\\bibinfo{volume}{8}}, \\bibinfo{pages}{177--180} (\\bibinfo{year}{2015}).\n",
      " regex = \n",
      "        \\\\bibitem(\\[[^\\[\\]]*?\\]){(?P<bibkey>[a-zA-Z0-9\\-\\+\\.\\S]+?)}(?P<authors>|([\\D]*?))(?P<year>[12][0-9]{3})(?P<rest>.*)\n",
      "        \n",
      "  warnings.warn(str(e))\n",
      "/opt/hostedtoolcache/Python/3.9.18/x64/lib/python3.9/site-packages/arxiv_on_deck_2/latex_bib.py:132: UserWarning: Error processing bibitem\n",
      " item = \\bibitem{Kane2019}\\bibinfo{author}{{Kane}, S.~R.} \\emph{et~al.}\\newblock \\bibinfo{title}{{Venus as a Laboratory for Exoplanetary Science}}.\\newblock \\emph{\\bibinfo{journal}{Journal of Geophysical Research (Planets)}} \\textbf{\\bibinfo{volume}{124}}, \\bibinfo{pages}{2015--2028} (\\bibinfo{year}{2019}).\\newblock \\eprint{1908.02783}.\n",
      " regex = \n",
      "        \\\\bibitem(\\[[^\\[\\]]*?\\]){(?P<bibkey>[a-zA-Z0-9\\-\\+\\.\\S]+?)}(?P<authors>|([\\D]*?))(?P<year>[12][0-9]{3})(?P<rest>.*)\n",
      "        \n",
      "  warnings.warn(str(e))\n",
      "/opt/hostedtoolcache/Python/3.9.18/x64/lib/python3.9/site-packages/arxiv_on_deck_2/latex_bib.py:132: UserWarning: Error processing bibitem\n",
      " item = \\bibitem{Lichtenberg2019}\\bibinfo{author}{{Lichtenberg}, T.} \\emph{et~al.}\\newblock \\bibinfo{title}{{A water budget dichotomy of rocky protoplanets from $^{26}$Al-heating}}.\\newblock \\emph{\\bibinfo{journal}{Nature Astronomy}} \\textbf{\\bibinfo{volume}{3}}, \\bibinfo{pages}{307--313} (\\bibinfo{year}{2019}).\\newblock \\eprint{1902.04026}.\n",
      " regex = \n",
      "        \\\\bibitem(\\[[^\\[\\]]*?\\]){(?P<bibkey>[a-zA-Z0-9\\-\\+\\.\\S]+?)}(?P<authors>|([\\D]*?))(?P<year>[12][0-9]{3})(?P<rest>.*)\n",
      "        \n",
      "  warnings.warn(str(e))\n",
      "/opt/hostedtoolcache/Python/3.9.18/x64/lib/python3.9/site-packages/arxiv_on_deck_2/latex_bib.py:132: UserWarning: Error processing bibitem\n",
      " item = \\bibitem{Venturini2020}\\bibinfo{author}{{Venturini}, J.}, \\bibinfo{author}{{Guilera}, O.~M.}, \\bibinfo{author}{{Haldemann}, J.}, \\bibinfo{author}{{Ronco}, M.~P.}  \\bibinfo{author}{{Mordasini}, C.}\\newblock \\bibinfo{title}{{The nature of the radius valley. Hints from formation and evolution models}}.\\newblock \\emph{\\bibinfo{journal}{\\aap}} \\textbf{\\bibinfo{volume}{643}}, \\bibinfo{pages}{L1} (\\bibinfo{year}{2020}).\\newblock \\eprint{2008.05513}.\n",
      " regex = \n",
      "        \\\\bibitem(\\[[^\\[\\]]*?\\]){(?P<bibkey>[a-zA-Z0-9\\-\\+\\.\\S]+?)}(?P<authors>|([\\D]*?))(?P<year>[12][0-9]{3})(?P<rest>.*)\n",
      "        \n",
      "  warnings.warn(str(e))\n",
      "/opt/hostedtoolcache/Python/3.9.18/x64/lib/python3.9/site-packages/arxiv_on_deck_2/latex_bib.py:132: UserWarning: Error processing bibitem\n",
      " item = \\bibitem{Way2020}\\bibinfo{author}{{Way}, M.~J.}  \\bibinfo{author}{{Del Genio}, A.~D.}\\newblock \\bibinfo{title}{{Venusian Habitable Climate Scenarios: Modeling Venus Through Time and Applications to Slowly Rotating Venus-Like Exoplanets}}.\\newblock \\emph{\\bibinfo{journal}{Journal of Geophysical Research (Planets)}} \\textbf{\\bibinfo{volume}{125}}, \\bibinfo{pages}{e06276} (\\bibinfo{year}{2020}).\\newblock \\eprint{2003.05704}.\n",
      " regex = \n",
      "        \\\\bibitem(\\[[^\\[\\]]*?\\]){(?P<bibkey>[a-zA-Z0-9\\-\\+\\.\\S]+?)}(?P<authors>|([\\D]*?))(?P<year>[12][0-9]{3})(?P<rest>.*)\n",
      "        \n",
      "  warnings.warn(str(e))\n",
      "/opt/hostedtoolcache/Python/3.9.18/x64/lib/python3.9/site-packages/arxiv_on_deck_2/latex_bib.py:132: UserWarning: Error processing bibitem\n",
      " item = \\bibitem{Kimura2022}\\bibinfo{author}{{Kimura}, T.}  \\bibinfo{author}{{Ikoma}, M.}\\newblock \\bibinfo{title}{{Predicted diversity in water content of terrestrial exoplanets orbiting M dwarfs}}.\\newblock \\emph{\\bibinfo{journal}{Nature Astronomy}} \\textbf{\\bibinfo{volume}{6}}, \\bibinfo{pages}{1296--1307} (\\bibinfo{year}{2022}).\\newblock \\eprint{2209.14563}.\n",
      " regex = \n",
      "        \\\\bibitem(\\[[^\\[\\]]*?\\]){(?P<bibkey>[a-zA-Z0-9\\-\\+\\.\\S]+?)}(?P<authors>|([\\D]*?))(?P<year>[12][0-9]{3})(?P<rest>.*)\n",
      "        \n",
      "  warnings.warn(str(e))\n",
      "/opt/hostedtoolcache/Python/3.9.18/x64/lib/python3.9/site-packages/arxiv_on_deck_2/latex_bib.py:132: UserWarning: Error processing bibitem\n",
      " item = \\bibitem{Luger2015}\\bibinfo{author}{{Luger}, R.}  \\bibinfo{author}{{Barnes}, R.}\\newblock \\bibinfo{title}{{Extreme Water Loss and Abiotic O$_2$ Buildup on Planets Throughout the Habitable Zones of M Dwarfs}}.\\newblock \\emph{\\bibinfo{journal}{Astrobiology}} \\textbf{\\bibinfo{volume}{15}}, \\bibinfo{pages}{119--143} (\\bibinfo{year}{2015}).\\newblock \\eprint{1411.7412}.\n",
      " regex = \n",
      "        \\\\bibitem(\\[[^\\[\\]]*?\\]){(?P<bibkey>[a-zA-Z0-9\\-\\+\\.\\S]+?)}(?P<authors>|([\\D]*?))(?P<year>[12][0-9]{3})(?P<rest>.*)\n",
      "        \n",
      "  warnings.warn(str(e))\n",
      "/opt/hostedtoolcache/Python/3.9.18/x64/lib/python3.9/site-packages/arxiv_on_deck_2/latex_bib.py:132: UserWarning: Error processing bibitem\n",
      " item = \\bibitem{Dong2017}\\bibinfo{author}{{Dong}, C.} \\emph{et~al.}\\newblock \\bibinfo{title}{{The Dehydration of Water Worlds via Atmospheric Losses}}.\\newblock \\emph{\\bibinfo{journal}{\\apjl}} \\textbf{\\bibinfo{volume}{847}}, \\bibinfo{pages}{L4} (\\bibinfo{year}{2017}).\\newblock \\eprint{1709.01219}.\n",
      " regex = \n",
      "        \\\\bibitem(\\[[^\\[\\]]*?\\]){(?P<bibkey>[a-zA-Z0-9\\-\\+\\.\\S]+?)}(?P<authors>|([\\D]*?))(?P<year>[12][0-9]{3})(?P<rest>.*)\n",
      "        \n",
      "  warnings.warn(str(e))\n",
      "/opt/hostedtoolcache/Python/3.9.18/x64/lib/python3.9/site-packages/arxiv_on_deck_2/latex_bib.py:132: UserWarning: Error processing bibitem\n",
      " item = \\bibitem{lincowski2018}\\bibinfo{author}{Lincowski, A.~P.} \\emph{et~al.}\\newblock \\bibinfo{title}{Evolved climates and observational discriminants for the trappist-1 planetary system}.\\newblock \\emph{\\bibinfo{journal}{The Astrophysical Journal}} \\textbf{\\bibinfo{volume}{867}}, \\bibinfo{pages}{76} (\\bibinfo{year}{2018}).\n",
      " regex = \n",
      "        \\\\bibitem(\\[[^\\[\\]]*?\\]){(?P<bibkey>[a-zA-Z0-9\\-\\+\\.\\S]+?)}(?P<authors>|([\\D]*?))(?P<year>[12][0-9]{3})(?P<rest>.*)\n",
      "        \n",
      "  warnings.warn(str(e))\n",
      "/opt/hostedtoolcache/Python/3.9.18/x64/lib/python3.9/site-packages/arxiv_on_deck_2/latex_bib.py:132: UserWarning: Error processing bibitem\n",
      " item = \\bibitem{Dong2018}\\bibinfo{author}{{Dong}, C.} \\emph{et~al.}\\newblock \\bibinfo{title}{{Atmospheric escape from the TRAPPIST-1 planets and implications for habitability}}.\\newblock \\emph{\\bibinfo{journal}{Proceedings of the National Academy of Science}} \\textbf{\\bibinfo{volume}{115}}, \\bibinfo{pages}{260--265} (\\bibinfo{year}{2018}).\\newblock \\eprint{1705.05535}.\n",
      " regex = \n",
      "        \\\\bibitem(\\[[^\\[\\]]*?\\]){(?P<bibkey>[a-zA-Z0-9\\-\\+\\.\\S]+?)}(?P<authors>|([\\D]*?))(?P<year>[12][0-9]{3})(?P<rest>.*)\n",
      "        \n",
      "  warnings.warn(str(e))\n",
      "/opt/hostedtoolcache/Python/3.9.18/x64/lib/python3.9/site-packages/arxiv_on_deck_2/latex_bib.py:132: UserWarning: Error processing bibitem\n",
      " item = \\bibitem{Kral2018}\\bibinfo{author}{{Kral}, Q.} \\emph{et~al.}\\newblock \\bibinfo{title}{{Cometary impactors on the TRAPPIST-1 planets can destroy all planetary atmospheres and rebuild secondary atmospheres on planets f, g, and h}}.\\newblock \\emph{\\bibinfo{journal}{\\mnras}} \\textbf{\\bibinfo{volume}{479}}, \\bibinfo{pages}{2649--2672} (\\bibinfo{year}{2018}).\\newblock \\eprint{1802.05034}.\n",
      " regex = \n",
      "        \\\\bibitem(\\[[^\\[\\]]*?\\]){(?P<bibkey>[a-zA-Z0-9\\-\\+\\.\\S]+?)}(?P<authors>|([\\D]*?))(?P<year>[12][0-9]{3})(?P<rest>.*)\n",
      "        \n",
      "  warnings.warn(str(e))\n",
      "/opt/hostedtoolcache/Python/3.9.18/x64/lib/python3.9/site-packages/arxiv_on_deck_2/latex_bib.py:132: UserWarning: Error processing bibitem\n",
      " item = \\bibitem{Hu2023}\\bibinfo{author}{{Hu}, R.}, \\bibinfo{author}{{Gaillard}, F.}  \\bibinfo{author}{{Kite}, E.~S.}\\newblock \\bibinfo{title}{{Narrow Loophole for H$_{2}$-Dominated Atmospheres on Habitable Rocky Planets around M Dwarfs}}.\\newblock \\emph{\\bibinfo{journal}{\\apjl}} \\textbf{\\bibinfo{volume}{948}}, \\bibinfo{pages}{L20} (\\bibinfo{year}{2023}).\\newblock \\eprint{2304.13659}.\n",
      " regex = \n",
      "        \\\\bibitem(\\[[^\\[\\]]*?\\]){(?P<bibkey>[a-zA-Z0-9\\-\\+\\.\\S]+?)}(?P<authors>|([\\D]*?))(?P<year>[12][0-9]{3})(?P<rest>.*)\n",
      "        \n",
      "  warnings.warn(str(e))\n",
      "/opt/hostedtoolcache/Python/3.9.18/x64/lib/python3.9/site-packages/arxiv_on_deck_2/latex_bib.py:132: UserWarning: Error processing bibitem\n",
      " item = \\bibitem{Kostov2019}\\bibinfo{author}{{Kostov}, V.~B.} \\emph{et~al.}\\newblock \\bibinfo{title}{{The L 98-59 System: Three Transiting, Terrestrial-size Planets Orbiting a Nearby M Dwarf}}.\\newblock \\emph{\\bibinfo{journal}{\\aj}} \\textbf{\\bibinfo{volume}{158}}, \\bibinfo{pages}{32} (\\bibinfo{year}{2019}).\\newblock \\eprint{1903.08017}.\n",
      " regex = \n",
      "        \\\\bibitem(\\[[^\\[\\]]*?\\]){(?P<bibkey>[a-zA-Z0-9\\-\\+\\.\\S]+?)}(?P<authors>|([\\D]*?))(?P<year>[12][0-9]{3})(?P<rest>.*)\n",
      "        \n",
      "  warnings.warn(str(e))\n",
      "/opt/hostedtoolcache/Python/3.9.18/x64/lib/python3.9/site-packages/arxiv_on_deck_2/latex_bib.py:132: UserWarning: Error processing bibitem\n",
      " item = \\bibitem{Dittmann2017}\\bibinfo{author}{{Dittmann}, J.~A.} \\emph{et~al.}\\newblock \\bibinfo{title}{{A temperate rocky super-Earth transiting a nearby cool star}}.\\newblock \\emph{\\bibinfo{journal}{\\nat}} \\textbf{\\bibinfo{volume}{544}}, \\bibinfo{pages}{333--336} (\\bibinfo{year}{2017}).\\newblock \\eprint{1704.05556}.\n",
      " regex = \n",
      "        \\\\bibitem(\\[[^\\[\\]]*?\\]){(?P<bibkey>[a-zA-Z0-9\\-\\+\\.\\S]+?)}(?P<authors>|([\\D]*?))(?P<year>[12][0-9]{3})(?P<rest>.*)\n",
      "        \n",
      "  warnings.warn(str(e))\n",
      "/opt/hostedtoolcache/Python/3.9.18/x64/lib/python3.9/site-packages/arxiv_on_deck_2/latex_bib.py:132: UserWarning: Error processing bibitem\n",
      " item = \\bibitem{Vanderspek2019}\\bibinfo{author}{{Vanderspek}, R.} \\emph{et~al.}\\newblock \\bibinfo{title}{{TESS Discovery of an Ultra-short-period Planet around the Nearby M Dwarf LHS 3844}}.\\newblock \\emph{\\bibinfo{journal}{\\apjl}} \\textbf{\\bibinfo{volume}{871}}, \\bibinfo{pages}{L24} (\\bibinfo{year}{2019}).\\newblock \\eprint{1809.07242}.\n",
      " regex = \n",
      "        \\\\bibitem(\\[[^\\[\\]]*?\\]){(?P<bibkey>[a-zA-Z0-9\\-\\+\\.\\S]+?)}(?P<authors>|([\\D]*?))(?P<year>[12][0-9]{3})(?P<rest>.*)\n",
      "        \n",
      "  warnings.warn(str(e))\n",
      "/opt/hostedtoolcache/Python/3.9.18/x64/lib/python3.9/site-packages/arxiv_on_deck_2/latex_bib.py:132: UserWarning: Error processing bibitem\n",
      " item = \\bibitem{Crossfield2019}\\bibinfo{author}{{Crossfield}, I. J.~M.} \\emph{et~al.}\\newblock \\bibinfo{title}{{A Super-Earth and Sub-Neptune Transiting the Late-type M Dwarf LP 791-18}}.\\newblock \\emph{\\bibinfo{journal}{\\apjl}} \\textbf{\\bibinfo{volume}{883}}, \\bibinfo{pages}{L16} (\\bibinfo{year}{2019}).\\newblock \\eprint{1906.09267}.\n",
      " regex = \n",
      "        \\\\bibitem(\\[[^\\[\\]]*?\\]){(?P<bibkey>[a-zA-Z0-9\\-\\+\\.\\S]+?)}(?P<authors>|([\\D]*?))(?P<year>[12][0-9]{3})(?P<rest>.*)\n",
      "        \n",
      "  warnings.warn(str(e))\n",
      "/opt/hostedtoolcache/Python/3.9.18/x64/lib/python3.9/site-packages/arxiv_on_deck_2/latex_bib.py:132: UserWarning: Error processing bibitem\n",
      " item = \\bibitem{Peterson2023}\\bibinfo{author}{{Peterson}, M.~S.} \\emph{et~al.}\\newblock \\bibinfo{title}{{A temperate Earth-sized planet with tidal heating transiting an M6 star}}.\\newblock \\emph{\\bibinfo{journal}{\\nat}} \\textbf{\\bibinfo{volume}{617}}, \\bibinfo{pages}{701--705} (\\bibinfo{year}{2023}).\n",
      " regex = \n",
      "        \\\\bibitem(\\[[^\\[\\]]*?\\]){(?P<bibkey>[a-zA-Z0-9\\-\\+\\.\\S]+?)}(?P<authors>|([\\D]*?))(?P<year>[12][0-9]{3})(?P<rest>.*)\n",
      "        \n",
      "  warnings.warn(str(e))\n",
      "/opt/hostedtoolcache/Python/3.9.18/x64/lib/python3.9/site-packages/arxiv_on_deck_2/latex_bib.py:132: UserWarning: Error processing bibitem\n",
      " item = \\bibitem{Delrez2022}\\bibinfo{author}{{Delrez}, L.} \\emph{et~al.}\\newblock \\bibinfo{title}{{Two temperate super-Earths transiting a nearby late-type M dwarf}}.\\newblock \\emph{\\bibinfo{journal}{\\aap}} \\textbf{\\bibinfo{volume}{667}}, \\bibinfo{pages}{A59} (\\bibinfo{year}{2022}).\\newblock \\eprint{2209.02831}.\n",
      " regex = \n",
      "        \\\\bibitem(\\[[^\\[\\]]*?\\]){(?P<bibkey>[a-zA-Z0-9\\-\\+\\.\\S]+?)}(?P<authors>|([\\D]*?))(?P<year>[12][0-9]{3})(?P<rest>.*)\n",
      "        \n",
      "  warnings.warn(str(e))\n",
      "/opt/hostedtoolcache/Python/3.9.18/x64/lib/python3.9/site-packages/arxiv_on_deck_2/latex_bib.py:132: UserWarning: Error processing bibitem\n",
      " item = \\bibitem{Ment2021}\\bibinfo{author}{{Ment}, K.} \\emph{et~al.}\\newblock \\bibinfo{title}{{TOI 540 b: A Planet Smaller than Earth Orbiting a Nearby Rapidly Rotating Low-mass Star}}.\\newblock \\emph{\\bibinfo{journal}{\\aj}} \\textbf{\\bibinfo{volume}{161}}, \\bibinfo{pages}{23} (\\bibinfo{year}{2021}).\\newblock \\eprint{2009.13623}.\n",
      " regex = \n",
      "        \\\\bibitem(\\[[^\\[\\]]*?\\]){(?P<bibkey>[a-zA-Z0-9\\-\\+\\.\\S]+?)}(?P<authors>|([\\D]*?))(?P<year>[12][0-9]{3})(?P<rest>.*)\n",
      "        \n",
      "  warnings.warn(str(e))\n",
      "/opt/hostedtoolcache/Python/3.9.18/x64/lib/python3.9/site-packages/arxiv_on_deck_2/latex_bib.py:132: UserWarning: Error processing bibitem\n",
      " item = \\bibitem{Gillon2016}\\bibinfo{author}{{Gillon}, M.} \\emph{et~al.}\\newblock \\bibinfo{title}{{Temperate Earth-sized planets transiting a nearby ultracool dwarf star}}.\\newblock \\emph{\\bibinfo{journal}{Nature}} \\textbf{\\bibinfo{volume}{533}}, \\bibinfo{pages}{221--224} (\\bibinfo{year}{2016}).\\newblock \\eprint{1605.07211}.\n",
      " regex = \n",
      "        \\\\bibitem(\\[[^\\[\\]]*?\\]){(?P<bibkey>[a-zA-Z0-9\\-\\+\\.\\S]+?)}(?P<authors>|([\\D]*?))(?P<year>[12][0-9]{3})(?P<rest>.*)\n",
      "        \n",
      "  warnings.warn(str(e))\n",
      "/opt/hostedtoolcache/Python/3.9.18/x64/lib/python3.9/site-packages/arxiv_on_deck_2/latex_bib.py:132: UserWarning: Error processing bibitem\n",
      " item = \\bibitem{Gillon2017}\\bibinfo{author}{Gillon, M.} \\emph{et~al.}\\newblock \\bibinfo{title}{Seven temperate terrestrial planets around the nearby ultracool dwarf star {TRAPPIST}-1}.\\newblock \\emph{\\bibinfo{journal}{Nature}} \\textbf{\\bibinfo{volume}{542}}, \\bibinfo{pages}{456--460} (\\bibinfo{year}{2017}).\\newblock \\urlprefix\\url{https://doi.org/10.1038/nature21360}.\n",
      " regex = \n",
      "        \\\\bibitem(\\[[^\\[\\]]*?\\]){(?P<bibkey>[a-zA-Z0-9\\-\\+\\.\\S]+?)}(?P<authors>|([\\D]*?))(?P<year>[12][0-9]{3})(?P<rest>.*)\n",
      "        \n",
      "  warnings.warn(str(e))\n",
      "/opt/hostedtoolcache/Python/3.9.18/x64/lib/python3.9/site-packages/arxiv_on_deck_2/latex_bib.py:132: UserWarning: Error processing bibitem\n",
      " item = \\bibitem{Ormel2017}\\bibinfo{author}{{Ormel}, C.~W.}, \\bibinfo{author}{{Liu}, B.}  \\bibinfo{author}{{Schoonenberg}, D.}\\newblock \\bibinfo{title}{{Formation of TRAPPIST-1 and other compact systems}}.\\newblock \\emph{\\bibinfo{journal}{\\aap}} \\textbf{\\bibinfo{volume}{604}}, \\bibinfo{pages}{A1} (\\bibinfo{year}{2017}).\\newblock \\eprint{1703.06924}.\n",
      " regex = \n",
      "        \\\\bibitem(\\[[^\\[\\]]*?\\]){(?P<bibkey>[a-zA-Z0-9\\-\\+\\.\\S]+?)}(?P<authors>|([\\D]*?))(?P<year>[12][0-9]{3})(?P<rest>.*)\n",
      "        \n",
      "  warnings.warn(str(e))\n",
      "/opt/hostedtoolcache/Python/3.9.18/x64/lib/python3.9/site-packages/arxiv_on_deck_2/latex_bib.py:132: UserWarning: Error processing bibitem\n",
      " item = \\bibitem{Weiss2018}\\bibinfo{author}{{Weiss}, L.~M.} \\emph{et~al.}\\newblock \\bibinfo{title}{{The California-Kepler Survey. V. Peas in a Pod: Planets in a Kepler Multi-planet System Are Similar in Size and Regularly Spaced}}.\\newblock \\emph{\\bibinfo{journal}{\\aj}} \\textbf{\\bibinfo{volume}{155}}, \\bibinfo{pages}{48} (\\bibinfo{year}{2018}).\\newblock \\eprint{1706.06204}.\n",
      " regex = \n",
      "        \\\\bibitem(\\[[^\\[\\]]*?\\]){(?P<bibkey>[a-zA-Z0-9\\-\\+\\.\\S]+?)}(?P<authors>|([\\D]*?))(?P<year>[12][0-9]{3})(?P<rest>.*)\n",
      "        \n",
      "  warnings.warn(str(e))\n",
      "/opt/hostedtoolcache/Python/3.9.18/x64/lib/python3.9/site-packages/arxiv_on_deck_2/latex_bib.py:132: UserWarning: Error processing bibitem\n",
      " item = \\bibitem{Sandford2021}\\bibinfo{author}{{Sandford}, E.}, \\bibinfo{author}{{Kipping}, D.}  \\bibinfo{author}{{Collins}, M.}\\newblock \\bibinfo{title}{{On planetary systems as ordered sequences}}.\\newblock \\emph{\\bibinfo{journal}{\\mnras}} \\textbf{\\bibinfo{volume}{505}}, \\bibinfo{pages}{2224--2246} (\\bibinfo{year}{2021}).\\newblock \\eprint{2105.09966}.\n",
      " regex = \n",
      "        \\\\bibitem(\\[[^\\[\\]]*?\\]){(?P<bibkey>[a-zA-Z0-9\\-\\+\\.\\S]+?)}(?P<authors>|([\\D]*?))(?P<year>[12][0-9]{3})(?P<rest>.*)\n",
      "        \n",
      "  warnings.warn(str(e))\n",
      "/opt/hostedtoolcache/Python/3.9.18/x64/lib/python3.9/site-packages/arxiv_on_deck_2/latex_bib.py:132: UserWarning: Error processing bibitem\n",
      " item = \\bibitem{Mishra2021}\\bibinfo{author}{{Mishra}, L.} \\emph{et~al.}\\newblock \\bibinfo{title}{{The New Generation Planetary Population Synthesis (NGPPS) VI. Introducing KOBE: Kepler Observes Bern Exoplanets. Theoretical perspectives on the architecture of planetary systems: Peas in a pod}}.\\newblock \\emph{\\bibinfo{journal}{\\aap}} \\textbf{\\bibinfo{volume}{656}}, \\bibinfo{pages}{A74} (\\bibinfo{year}{2021}).\\newblock \\eprint{2105.12745}.\n",
      " regex = \n",
      "        \\\\bibitem(\\[[^\\[\\]]*?\\]){(?P<bibkey>[a-zA-Z0-9\\-\\+\\.\\S]+?)}(?P<authors>|([\\D]*?))(?P<year>[12][0-9]{3})(?P<rest>.*)\n",
      "        \n",
      "  warnings.warn(str(e))\n",
      "/opt/hostedtoolcache/Python/3.9.18/x64/lib/python3.9/site-packages/arxiv_on_deck_2/latex_bib.py:132: UserWarning: Error processing bibitem\n",
      " item = \\bibitem{Millholland2021}\\bibinfo{author}{{Millholland}, S.~C.}  \\bibinfo{author}{{Winn}, J.~N.}\\newblock \\bibinfo{title}{{Split Peas in a Pod: Intra-system Uniformity of Super-Earths and Sub-Neptunes}}.\\newblock \\emph{\\bibinfo{journal}{\\apjl}} \\textbf{\\bibinfo{volume}{920}}, \\bibinfo{pages}{L34} (\\bibinfo{year}{2021}).\\newblock \\eprint{2110.01466}.\n",
      " regex = \n",
      "        \\\\bibitem(\\[[^\\[\\]]*?\\]){(?P<bibkey>[a-zA-Z0-9\\-\\+\\.\\S]+?)}(?P<authors>|([\\D]*?))(?P<year>[12][0-9]{3})(?P<rest>.*)\n",
      "        \n",
      "  warnings.warn(str(e))\n",
      "/opt/hostedtoolcache/Python/3.9.18/x64/lib/python3.9/site-packages/arxiv_on_deck_2/latex_bib.py:132: UserWarning: Error processing bibitem\n",
      " item = \\bibitem{Goyal2022}\\bibinfo{author}{{Goyal}, A.~V.}  \\bibinfo{author}{{Wang}, S.}\\newblock \\bibinfo{title}{{Generalized Peas in a Pod: Extending Intra-system Mass Uniformity to Non-TTV Systems via the Gini Index}}.\\newblock \\emph{\\bibinfo{journal}{\\apj}} \\textbf{\\bibinfo{volume}{933}}, \\bibinfo{pages}{162} (\\bibinfo{year}{2022}).\\newblock \\eprint{2206.00053}.\n",
      " regex = \n",
      "        \\\\bibitem(\\[[^\\[\\]]*?\\]){(?P<bibkey>[a-zA-Z0-9\\-\\+\\.\\S]+?)}(?P<authors>|([\\D]*?))(?P<year>[12][0-9]{3})(?P<rest>.*)\n",
      "        \n",
      "  warnings.warn(str(e))\n",
      "/opt/hostedtoolcache/Python/3.9.18/x64/lib/python3.9/site-packages/arxiv_on_deck_2/latex_bib.py:132: UserWarning: Error processing bibitem\n",
      " item = \\bibitem{Delrez2018}\\bibinfo{author}{{Delrez}, L.} \\emph{et~al.}\\newblock \\bibinfo{title}{{SPECULOOS: a network of robotic telescopes to hunt for terrestrial planets around the nearest ultracool dwarfs}}.\\newblock In \\bibinfo{editor}{{Marshall}, H.~K.}  \\bibinfo{editor}{{Spyromilio}, J.} (eds.) \\emph{\\bibinfo{booktitle}{Ground-based and Airborne Telescopes VII}}, vol. \\bibinfo{volume}{10700} of \\emph{\\bibinfo{series}{Society of Photo-Optical Instrumentation Engineers (SPIE) Conference Series}}, \\bibinfo{pages}{107001I} (\\bibinfo{year}{2018}).\\newblock \\eprint{1806.11205}.\n",
      " regex = \n",
      "        \\\\bibitem(\\[[^\\[\\]]*?\\]){(?P<bibkey>[a-zA-Z0-9\\-\\+\\.\\S]+?)}(?P<authors>|([\\D]*?))(?P<year>[12][0-9]{3})(?P<rest>.*)\n",
      "        \n",
      "  warnings.warn(str(e))\n",
      "/opt/hostedtoolcache/Python/3.9.18/x64/lib/python3.9/site-packages/arxiv_on_deck_2/latex_bib.py:132: UserWarning: Error processing bibitem\n",
      " item = \\bibitem{Burdanov2018}\\bibinfo{author}{{Burdanov}, A.}, \\bibinfo{author}{{Delrez}, L.}, \\bibinfo{author}{{Gillon}, M.}  \\bibinfo{author}{{Jehin}, E.}\\newblock \\bibinfo{title}{{SPECULOOS Exoplanet Search and Its Prototype on TRAPPIST}}.\\newblock In \\bibinfo{editor}{{Deeg}, H.~J.}  \\bibinfo{editor}{{Belmonte}, J.~A.} (eds.) \\emph{\\bibinfo{booktitle}{Handbook of Exoplanets}}, \\bibinfo{pages}{130} (\\bibinfo{year}{2018}).\n",
      " regex = \n",
      "        \\\\bibitem(\\[[^\\[\\]]*?\\]){(?P<bibkey>[a-zA-Z0-9\\-\\+\\.\\S]+?)}(?P<authors>|([\\D]*?))(?P<year>[12][0-9]{3})(?P<rest>.*)\n",
      "        \n",
      "  warnings.warn(str(e))\n",
      "/opt/hostedtoolcache/Python/3.9.18/x64/lib/python3.9/site-packages/arxiv_on_deck_2/latex_bib.py:132: UserWarning: Error processing bibitem\n",
      " item = \\bibitem{Gibbs2020}\\bibinfo{author}{{Gibbs}, A.} \\emph{et~al.}\\newblock \\bibinfo{title}{{EDEN: Sensitivity Analysis and Transiting Planet Detection Limits for Nearby Late Red Dwarfs}}.\\newblock \\emph{\\bibinfo{journal}{\\aj}} \\textbf{\\bibinfo{volume}{159}}, \\bibinfo{pages}{169} (\\bibinfo{year}{2020}).\\newblock \\eprint{2002.10017}.\n",
      " regex = \n",
      "        \\\\bibitem(\\[[^\\[\\]]*?\\]){(?P<bibkey>[a-zA-Z0-9\\-\\+\\.\\S]+?)}(?P<authors>|([\\D]*?))(?P<year>[12][0-9]{3})(?P<rest>.*)\n",
      "        \n",
      "  warnings.warn(str(e))\n",
      "/opt/hostedtoolcache/Python/3.9.18/x64/lib/python3.9/site-packages/arxiv_on_deck_2/latex_bib.py:132: UserWarning: Error processing bibitem\n",
      " item = \\bibitem{Tamburo2022}\\bibinfo{author}{{Tamburo}, P.} \\emph{et~al.}\\newblock \\bibinfo{title}{{The Perkins INfrared Exosatellite Survey (PINES) I. Survey Overview, Reduction Pipeline, and Early Results}}.\\newblock \\emph{\\bibinfo{journal}{\\aj}} \\textbf{\\bibinfo{volume}{163}}, \\bibinfo{pages}{253} (\\bibinfo{year}{2022}).\\newblock \\eprint{2201.01794}.\n",
      " regex = \n",
      "        \\\\bibitem(\\[[^\\[\\]]*?\\]){(?P<bibkey>[a-zA-Z0-9\\-\\+\\.\\S]+?)}(?P<authors>|([\\D]*?))(?P<year>[12][0-9]{3})(?P<rest>.*)\n",
      "        \n",
      "  warnings.warn(str(e))\n",
      "/opt/hostedtoolcache/Python/3.9.18/x64/lib/python3.9/site-packages/arxiv_on_deck_2/latex_bib.py:132: UserWarning: Error processing bibitem\n",
      " item = \\bibitem{Jehin2011}\\bibinfo{author}{{Jehin}, E.} \\emph{et~al.}\\newblock \\bibinfo{title}{{TRAPPIST: TRAnsiting Planets and PlanetesImals Small Telescope}}.\\newblock \\emph{\\bibinfo{journal}{The Messenger}} \\textbf{\\bibinfo{volume}{145}}, \\bibinfo{pages}{2--6} (\\bibinfo{year}{2011}).\n",
      " regex = \n",
      "        \\\\bibitem(\\[[^\\[\\]]*?\\]){(?P<bibkey>[a-zA-Z0-9\\-\\+\\.\\S]+?)}(?P<authors>|([\\D]*?))(?P<year>[12][0-9]{3})(?P<rest>.*)\n",
      "        \n",
      "  warnings.warn(str(e))\n",
      "/opt/hostedtoolcache/Python/3.9.18/x64/lib/python3.9/site-packages/arxiv_on_deck_2/latex_bib.py:132: UserWarning: Error processing bibitem\n",
      " item = \\bibitem{Gillon2020}\\bibinfo{author}{{Gillon}, M.} \\emph{et~al.}\\newblock \\bibinfo{title}{{The TRAPPIST-1 JWST Community Initiative}}.\\newblock In \\emph{\\bibinfo{booktitle}{Bulletin of the American Astronomical Society}}, vol.~\\bibinfo{volume}{52}, \\bibinfo{pages}{0208} (\\bibinfo{year}{2020}).\n",
      " regex = \n",
      "        \\\\bibitem(\\[[^\\[\\]]*?\\]){(?P<bibkey>[a-zA-Z0-9\\-\\+\\.\\S]+?)}(?P<authors>|([\\D]*?))(?P<year>[12][0-9]{3})(?P<rest>.*)\n",
      "        \n",
      "  warnings.warn(str(e))\n",
      "/opt/hostedtoolcache/Python/3.9.18/x64/lib/python3.9/site-packages/arxiv_on_deck_2/latex_bib.py:132: UserWarning: Error processing bibitem\n",
      " item = \\bibitem{Ducrot2020}\\bibinfo{author}{{Ducrot}, E.} \\emph{et~al.}\\newblock \\bibinfo{title}{{TRAPPIST-1: Global results of the Spitzer Exploration Science Program Red Worlds}}.\\newblock \\emph{\\bibinfo{journal}{\\aap}} \\textbf{\\bibinfo{volume}{640}}, \\bibinfo{pages}{A112} (\\bibinfo{year}{2020}).\\newblock \\eprint{2006.13826}.\n",
      " regex = \n",
      "        \\\\bibitem(\\[[^\\[\\]]*?\\]){(?P<bibkey>[a-zA-Z0-9\\-\\+\\.\\S]+?)}(?P<authors>|([\\D]*?))(?P<year>[12][0-9]{3})(?P<rest>.*)\n",
      "        \n",
      "  warnings.warn(str(e))\n",
      "/opt/hostedtoolcache/Python/3.9.18/x64/lib/python3.9/site-packages/arxiv_on_deck_2/latex_bib.py:132: UserWarning: Error processing bibitem\n",
      " item = \\bibitem{Wakeford2019}\\bibinfo{author}{{Wakeford}, H.~R.} \\emph{et~al.}\\newblock \\bibinfo{title}{{Disentangling the Planet from the Star in Late-Type M Dwarfs: A Case Study of TRAPPIST-1g}}.\\newblock \\emph{\\bibinfo{journal}{\\aj}} \\textbf{\\bibinfo{volume}{157}}, \\bibinfo{pages}{11} (\\bibinfo{year}{2019}).\\newblock \\eprint{1811.04877}.\n",
      " regex = \n",
      "        \\\\bibitem(\\[[^\\[\\]]*?\\]){(?P<bibkey>[a-zA-Z0-9\\-\\+\\.\\S]+?)}(?P<authors>|([\\D]*?))(?P<year>[12][0-9]{3})(?P<rest>.*)\n",
      "        \n",
      "  warnings.warn(str(e))\n",
      "/opt/hostedtoolcache/Python/3.9.18/x64/lib/python3.9/site-packages/arxiv_on_deck_2/latex_bib.py:132: UserWarning: Error processing bibitem\n",
      " item = \\bibitem{Turbet2020}\\bibinfo{author}{{Turbet}, M.} \\emph{et~al.}\\newblock \\bibinfo{title}{{A Review of Possible Planetary Atmospheres in the TRAPPIST-1 System}}.\\newblock \\emph{\\bibinfo{journal}{\\ssr}} \\textbf{\\bibinfo{volume}{216}}, \\bibinfo{pages}{100} (\\bibinfo{year}{2020}).\\newblock \\eprint{2007.03334}.\n",
      " regex = \n",
      "        \\\\bibitem(\\[[^\\[\\]]*?\\]){(?P<bibkey>[a-zA-Z0-9\\-\\+\\.\\S]+?)}(?P<authors>|([\\D]*?))(?P<year>[12][0-9]{3})(?P<rest>.*)\n",
      "        \n",
      "  warnings.warn(str(e))\n",
      "/opt/hostedtoolcache/Python/3.9.18/x64/lib/python3.9/site-packages/arxiv_on_deck_2/latex_bib.py:132: UserWarning: Error processing bibitem\n",
      " item = \\bibitem{Agol2021}\\bibinfo{author}{{Agol}, E.} \\emph{et~al.}\\newblock \\bibinfo{title}{{Refining the Transit-timing and Photometric Analysis of TRAPPIST-1: Masses, Radii, Densities, Dynamics, and Ephemerides}}.\\newblock \\emph{\\bibinfo{journal}{\\psj}} \\textbf{\\bibinfo{volume}{2}}, \\bibinfo{pages}{1} (\\bibinfo{year}{2021}).\\newblock \\eprint{2010.01074}.\n",
      " regex = \n",
      "        \\\\bibitem(\\[[^\\[\\]]*?\\]){(?P<bibkey>[a-zA-Z0-9\\-\\+\\.\\S]+?)}(?P<authors>|([\\D]*?))(?P<year>[12][0-9]{3})(?P<rest>.*)\n",
      "        \n",
      "  warnings.warn(str(e))\n",
      "/opt/hostedtoolcache/Python/3.9.18/x64/lib/python3.9/site-packages/arxiv_on_deck_2/latex_bib.py:132: UserWarning: Error processing bibitem\n",
      " item = \\bibitem{Garcia2022}\\bibinfo{author}{{Garcia}, L.~J.} \\emph{et~al.}\\newblock \\bibinfo{title}{{HST/WFC3 transmission spectroscopy of the cold rocky planet TRAPPIST-1h}}.\\newblock \\emph{\\bibinfo{journal}{\\aap}} \\textbf{\\bibinfo{volume}{665}}, \\bibinfo{pages}{A19} (\\bibinfo{year}{2022}).\\newblock \\eprint{2203.13698}.\n",
      " regex = \n",
      "        \\\\bibitem(\\[[^\\[\\]]*?\\]){(?P<bibkey>[a-zA-Z0-9\\-\\+\\.\\S]+?)}(?P<authors>|([\\D]*?))(?P<year>[12][0-9]{3})(?P<rest>.*)\n",
      "        \n",
      "  warnings.warn(str(e))\n",
      "/opt/hostedtoolcache/Python/3.9.18/x64/lib/python3.9/site-packages/arxiv_on_deck_2/latex_bib.py:132: UserWarning: Error processing bibitem\n",
      " item = \\bibitem{Gressier2022}\\bibinfo{author}{{Gressier}, A.} \\emph{et~al.}\\newblock \\bibinfo{title}{{Near-infrared transmission spectrum of TRAPPIST-1 h using Hubble WFC3 G141 observations}}.\\newblock \\emph{\\bibinfo{journal}{\\aap}} \\textbf{\\bibinfo{volume}{658}}, \\bibinfo{pages}{A133} (\\bibinfo{year}{2022}).\\newblock \\eprint{2112.05510}.\n",
      " regex = \n",
      "        \\\\bibitem(\\[[^\\[\\]]*?\\]){(?P<bibkey>[a-zA-Z0-9\\-\\+\\.\\S]+?)}(?P<authors>|([\\D]*?))(?P<year>[12][0-9]{3})(?P<rest>.*)\n",
      "        \n",
      "  warnings.warn(str(e))\n",
      "/opt/hostedtoolcache/Python/3.9.18/x64/lib/python3.9/site-packages/arxiv_on_deck_2/latex_bib.py:132: UserWarning: Error processing bibitem\n",
      " item = \\bibitem{Dorn2021}\\bibinfo{author}{{Dorn}, C.}  \\bibinfo{author}{{Lichtenberg}, T.}\\newblock \\bibinfo{title}{{Hidden Water in Magma Ocean Exoplanets}}.\\newblock \\emph{\\bibinfo{journal}{\\apjl}} \\textbf{\\bibinfo{volume}{922}}, \\bibinfo{pages}{L4} (\\bibinfo{year}{2021}).\\newblock \\eprint{2110.15069}.\n",
      " regex = \n",
      "        \\\\bibitem(\\[[^\\[\\]]*?\\]){(?P<bibkey>[a-zA-Z0-9\\-\\+\\.\\S]+?)}(?P<authors>|([\\D]*?))(?P<year>[12][0-9]{3})(?P<rest>.*)\n",
      "        \n",
      "  warnings.warn(str(e))\n",
      "/opt/hostedtoolcache/Python/3.9.18/x64/lib/python3.9/site-packages/arxiv_on_deck_2/latex_bib.py:132: UserWarning: Error processing bibitem\n",
      " item = \\bibitem{Benneke2023}\\bibinfo{author}{{Benneke}, B. e.~a.}\\newblock \\bibinfo{title}{{JWST NIRSpec Reconnaissance Transmission Spectroscopy of the Habitable-zone Exo-Earth TRAPPIST-1~g}}.\\newblock \\emph{\\bibinfo{journal}{in prep.}}  (\\bibinfo{year}{2023}).\n",
      " regex = \n",
      "        \\\\bibitem(\\[[^\\[\\]]*?\\]){(?P<bibkey>[a-zA-Z0-9\\-\\+\\.\\S]+?)}(?P<authors>|([\\D]*?))(?P<year>[12][0-9]{3})(?P<rest>.*)\n",
      "        \n",
      "  warnings.warn(str(e))\n",
      "/opt/hostedtoolcache/Python/3.9.18/x64/lib/python3.9/site-packages/arxiv_on_deck_2/latex_bib.py:132: UserWarning: Error processing bibitem\n",
      " item = \\bibitem{Moran2023}\\bibinfo{author}{{Moran}, S.~E.} \\emph{et~al.}\\newblock \\bibinfo{title}{{High Tide or Riptide on the Cosmic Shoreline? A Water-Rich Atmosphere or Stellar Contamination for the Warm Super-Earth GJ\\raisebox{-0.5ex}\\textasciitilde486b from JWST Observations}}.\\newblock \\emph{\\bibinfo{journal}{arXiv e-prints}} \\bibinfo{pages}{arXiv:2305.00868} (\\bibinfo{year}{2023}).\\newblock \\eprint{2305.00868}.\n",
      " regex = \n",
      "        \\\\bibitem(\\[[^\\[\\]]*?\\]){(?P<bibkey>[a-zA-Z0-9\\-\\+\\.\\S]+?)}(?P<authors>|([\\D]*?))(?P<year>[12][0-9]{3})(?P<rest>.*)\n",
      "        \n",
      "  warnings.warn(str(e))\n",
      "/opt/hostedtoolcache/Python/3.9.18/x64/lib/python3.9/site-packages/arxiv_on_deck_2/latex_bib.py:132: UserWarning: Error processing bibitem\n",
      " item = \\bibitem{rackham2018}\\bibinfo{author}{{Rackham}, B.~V.}, \\bibinfo{author}{{Apai}, D.}  \\bibinfo{author}{{Giampapa}, M.~S.}\\newblock \\bibinfo{title}{{The Transit Light Source Effect: False Spectral Features and Incorrect Densities for M-dwarf Transiting Planets}}.\\newblock \\emph{\\bibinfo{journal}{\\apj}} \\textbf{\\bibinfo{volume}{853}}, \\bibinfo{pages}{122} (\\bibinfo{year}{2018}).\\newblock \\eprint{1711.05691}.\n",
      " regex = \n",
      "        \\\\bibitem(\\[[^\\[\\]]*?\\]){(?P<bibkey>[a-zA-Z0-9\\-\\+\\.\\S]+?)}(?P<authors>|([\\D]*?))(?P<year>[12][0-9]{3})(?P<rest>.*)\n",
      "        \n",
      "  warnings.warn(str(e))\n",
      "/opt/hostedtoolcache/Python/3.9.18/x64/lib/python3.9/site-packages/arxiv_on_deck_2/latex_bib.py:132: UserWarning: Error processing bibitem\n",
      " item = \\bibitem{Rackham2019A}\\bibinfo{author}{{Rackham}, B.~V.}, \\bibinfo{author}{{Apai}, D.}  \\bibinfo{author}{{Giampapa}, M.~S.}\\newblock \\bibinfo{title}{{The Transit Light Source Effect. II. The Impact of Stellar Heterogeneity on Transmission Spectra of Planets Orbiting Broadly Sun-like Stars}}.\\newblock \\emph{\\bibinfo{journal}{\\aj}} \\textbf{\\bibinfo{volume}{157}}, \\bibinfo{pages}{96} (\\bibinfo{year}{2019}).\\newblock \\eprint{1812.06184}.\n",
      " regex = \n",
      "        \\\\bibitem(\\[[^\\[\\]]*?\\]){(?P<bibkey>[a-zA-Z0-9\\-\\+\\.\\S]+?)}(?P<authors>|([\\D]*?))(?P<year>[12][0-9]{3})(?P<rest>.*)\n",
      "        \n",
      "  warnings.warn(str(e))\n",
      "/opt/hostedtoolcache/Python/3.9.18/x64/lib/python3.9/site-packages/arxiv_on_deck_2/latex_bib.py:132: UserWarning: Error processing bibitem\n",
      " item = \\bibitem{Witzke2021}\\bibinfo{author}{{Witzke}, V.} \\emph{et~al.}\\newblock \\bibinfo{title}{{MPS-ATLAS: A fast all-in-one code for synthesising stellar spectra}}.\\newblock \\emph{\\bibinfo{journal}{\\aap}} \\textbf{\\bibinfo{volume}{653}}, \\bibinfo{pages}{A65} (\\bibinfo{year}{2021}).\\newblock \\eprint{2105.13611}.\n",
      " regex = \n",
      "        \\\\bibitem(\\[[^\\[\\]]*?\\]){(?P<bibkey>[a-zA-Z0-9\\-\\+\\.\\S]+?)}(?P<authors>|([\\D]*?))(?P<year>[12][0-9]{3})(?P<rest>.*)\n",
      "        \n",
      "  warnings.warn(str(e))\n",
      "/opt/hostedtoolcache/Python/3.9.18/x64/lib/python3.9/site-packages/arxiv_on_deck_2/latex_bib.py:132: UserWarning: Error processing bibitem\n",
      " item = \\bibitem{Rustamkulov2022}\\bibinfo{author}{{Rustamkulov}, Z.} \\emph{et~al.}\\newblock \\bibinfo{title}{{Early Release Science of the exoplanet WASP-39b with JWST NIRSpec PRISM}}.\\newblock \\emph{\\bibinfo{journal}{arXiv e-prints}} \\bibinfo{pages}{arXiv:2211.10487} (\\bibinfo{year}{2022}).\\newblock \\eprint{2211.10487}.\n",
      " regex = \n",
      "        \\\\bibitem(\\[[^\\[\\]]*?\\]){(?P<bibkey>[a-zA-Z0-9\\-\\+\\.\\S]+?)}(?P<authors>|([\\D]*?))(?P<year>[12][0-9]{3})(?P<rest>.*)\n",
      "        \n",
      "  warnings.warn(str(e))\n",
      "/opt/hostedtoolcache/Python/3.9.18/x64/lib/python3.9/site-packages/arxiv_on_deck_2/latex_bib.py:132: UserWarning: Error processing bibitem\n",
      " item = \\bibitem{Zhang2018}\\bibinfo{author}{{Zhang}, Z.}, \\bibinfo{author}{{Zhou}, Y.}, \\bibinfo{author}{{Rackham}, B.~V.}  \\bibinfo{author}{{Apai}, D.}\\newblock \\bibinfo{title}{{The Near-infrared Transmission Spectra of TRAPPIST-1 Planets b, c, d, e, f, and g and Stellar Contamination in Multi-epoch Transit Spectra}}.\\newblock \\emph{\\bibinfo{journal}{The Astronomical Journal}} \\textbf{\\bibinfo{volume}{156}}, \\bibinfo{pages}{178} (\\bibinfo{year}{2018}).\\newblock \\eprint{1802.02086}.\n",
      " regex = \n",
      "        \\\\bibitem(\\[[^\\[\\]]*?\\]){(?P<bibkey>[a-zA-Z0-9\\-\\+\\.\\S]+?)}(?P<authors>|([\\D]*?))(?P<year>[12][0-9]{3})(?P<rest>.*)\n",
      "        \n",
      "  warnings.warn(str(e))\n",
      "/opt/hostedtoolcache/Python/3.9.18/x64/lib/python3.9/site-packages/arxiv_on_deck_2/latex_bib.py:132: UserWarning: Error processing bibitem\n",
      " item = \\bibitem{Morley2017}\\bibinfo{author}{{Morley}, C.~V.}, \\bibinfo{author}{{Kreidberg}, L.}, \\bibinfo{author}{{Rustamkulov}, Z.}, \\bibinfo{author}{{Robinson}, T.}  \\bibinfo{author}{{Fortney}, J.~J.}\\newblock \\bibinfo{title}{{Observing the Atmospheres of Known Temperate Earth-sized Planets with JWST}}.\\newblock \\emph{\\bibinfo{journal}{\\apj}} \\textbf{\\bibinfo{volume}{850}}, \\bibinfo{pages}{121} (\\bibinfo{year}{2017}).\\newblock \\eprint{1708.04239}.\n",
      " regex = \n",
      "        \\\\bibitem(\\[[^\\[\\]]*?\\]){(?P<bibkey>[a-zA-Z0-9\\-\\+\\.\\S]+?)}(?P<authors>|([\\D]*?))(?P<year>[12][0-9]{3})(?P<rest>.*)\n",
      "        \n",
      "  warnings.warn(str(e))\n",
      "/opt/hostedtoolcache/Python/3.9.18/x64/lib/python3.9/site-packages/arxiv_on_deck_2/latex_bib.py:132: UserWarning: Error processing bibitem\n",
      " item = \\bibitem{Lustig-Yaeger2019}\\bibinfo{author}{{Lustig-Yaeger}, J.}, \\bibinfo{author}{{Meadows}, V.~S.}  \\bibinfo{author}{{Lincowski}, A.~P.}\\newblock \\bibinfo{title}{{The Detectability and Characterization of the TRAPPIST-1 Exoplanet Atmospheres with JWST}}.\\newblock \\emph{\\bibinfo{journal}{The Astronomical Journal}} \\textbf{\\bibinfo{volume}{158}}, \\bibinfo{pages}{27} (\\bibinfo{year}{2019}).\\newblock \\eprint{1905.07070}.\n",
      " regex = \n",
      "        \\\\bibitem(\\[[^\\[\\]]*?\\]){(?P<bibkey>[a-zA-Z0-9\\-\\+\\.\\S]+?)}(?P<authors>|([\\D]*?))(?P<year>[12][0-9]{3})(?P<rest>.*)\n",
      "        \n",
      "  warnings.warn(str(e))\n",
      "/opt/hostedtoolcache/Python/3.9.18/x64/lib/python3.9/site-packages/arxiv_on_deck_2/latex_bib.py:132: UserWarning: Error processing bibitem\n",
      " item = \\bibitem{Krissansen2018}\\bibinfo{author}{{Krissansen-Totton}, J.}, \\bibinfo{author}{{Garland}, R.}, \\bibinfo{author}{{Irwin}, P.}  \\bibinfo{author}{{Catling}, D.~C.}\\newblock \\bibinfo{title}{{Detectability of Biosignatures in Anoxic Atmospheres with the James Webb Space Telescope: A TRAPPIST-1e Case Study}}.\\newblock \\emph{\\bibinfo{journal}{\\aj}} \\textbf{\\bibinfo{volume}{156}}, \\bibinfo{pages}{114} (\\bibinfo{year}{2018}).\\newblock \\eprint{1808.08377}.\n",
      " regex = \n",
      "        \\\\bibitem(\\[[^\\[\\]]*?\\]){(?P<bibkey>[a-zA-Z0-9\\-\\+\\.\\S]+?)}(?P<authors>|([\\D]*?))(?P<year>[12][0-9]{3})(?P<rest>.*)\n",
      "        \n",
      "  warnings.warn(str(e))\n",
      "/opt/hostedtoolcache/Python/3.9.18/x64/lib/python3.9/site-packages/arxiv_on_deck_2/latex_bib.py:132: UserWarning: Error processing bibitem\n",
      " item = \\bibitem{Fauchez2019}\\bibinfo{author}{{Fauchez}, T.~J.} \\emph{et~al.}\\newblock \\bibinfo{title}{{Impact of Clouds and Hazes on the Simulated JWST Transmission Spectra of Habitable Zone Planets in the TRAPPIST-1 System}}.\\newblock \\emph{\\bibinfo{journal}{\\apj}} \\textbf{\\bibinfo{volume}{887}}, \\bibinfo{pages}{194} (\\bibinfo{year}{2019}).\\newblock \\eprint{1911.08596}.\n",
      " regex = \n",
      "        \\\\bibitem(\\[[^\\[\\]]*?\\]){(?P<bibkey>[a-zA-Z0-9\\-\\+\\.\\S]+?)}(?P<authors>|([\\D]*?))(?P<year>[12][0-9]{3})(?P<rest>.*)\n",
      "        \n",
      "  warnings.warn(str(e))\n",
      "/opt/hostedtoolcache/Python/3.9.18/x64/lib/python3.9/site-packages/arxiv_on_deck_2/latex_bib.py:132: UserWarning: Error processing bibitem\n",
      " item = \\bibitem{Wunderlich2019}\\bibinfo{author}{{Wunderlich}, F.} \\emph{et~al.}\\newblock \\bibinfo{title}{{Detectability of atmospheric features of Earth-like planets in the habitable zone around M dwarfs}}.\\newblock \\emph{\\bibinfo{journal}{\\aap}} \\textbf{\\bibinfo{volume}{624}}, \\bibinfo{pages}{A49} (\\bibinfo{year}{2019}).\\newblock \\eprint{1905.02560}.\n",
      " regex = \n",
      "        \\\\bibitem(\\[[^\\[\\]]*?\\]){(?P<bibkey>[a-zA-Z0-9\\-\\+\\.\\S]+?)}(?P<authors>|([\\D]*?))(?P<year>[12][0-9]{3})(?P<rest>.*)\n",
      "        \n",
      "  warnings.warn(str(e))\n",
      "/opt/hostedtoolcache/Python/3.9.18/x64/lib/python3.9/site-packages/arxiv_on_deck_2/latex_bib.py:132: UserWarning: Error processing bibitem\n",
      " item = \\bibitem{Gialluca2021}\\bibinfo{author}{{Gialluca}, M.~T.}, \\bibinfo{author}{{Robinson}, T.~D.}, \\bibinfo{author}{{Rugheimer}, S.}  \\bibinfo{author}{{Wunderlich}, F.}\\newblock \\bibinfo{title}{{Characterizing Atmospheres of Transiting Earth-like Exoplanets Orbiting M Dwarfs with James Webb Space Telescope}}.\\newblock \\emph{\\bibinfo{journal}{\\pasp}} \\textbf{\\bibinfo{volume}{133}}, \\bibinfo{pages}{054401} (\\bibinfo{year}{2021}).\\newblock \\eprint{2101.04139}.\n",
      " regex = \n",
      "        \\\\bibitem(\\[[^\\[\\]]*?\\]){(?P<bibkey>[a-zA-Z0-9\\-\\+\\.\\S]+?)}(?P<authors>|([\\D]*?))(?P<year>[12][0-9]{3})(?P<rest>.*)\n",
      "        \n",
      "  warnings.warn(str(e))\n",
      "/opt/hostedtoolcache/Python/3.9.18/x64/lib/python3.9/site-packages/arxiv_on_deck_2/latex_bib.py:132: UserWarning: Error processing bibitem\n",
      " item = \\bibitem{Faria2022}\\bibinfo{author}{{Faria}, J.~P.} \\emph{et~al.}\\newblock \\bibinfo{title}{{A candidate short-period sub-Earth orbiting Proxima Centauri}}.\\newblock \\emph{\\bibinfo{journal}{\\aap}} \\textbf{\\bibinfo{volume}{658}}, \\bibinfo{pages}{A115} (\\bibinfo{year}{2022}).\\newblock \\eprint{2202.05188}.\n",
      " regex = \n",
      "        \\\\bibitem(\\[[^\\[\\]]*?\\]){(?P<bibkey>[a-zA-Z0-9\\-\\+\\.\\S]+?)}(?P<authors>|([\\D]*?))(?P<year>[12][0-9]{3})(?P<rest>.*)\n",
      "        \n",
      "  warnings.warn(str(e))\n",
      "/opt/hostedtoolcache/Python/3.9.18/x64/lib/python3.9/site-packages/arxiv_on_deck_2/latex_bib.py:132: UserWarning: Error processing bibitem\n",
      " item = \\bibitem{Segura2010}\\bibinfo{author}{{Segura}, A.}, \\bibinfo{author}{{Walkowicz}, L.~M.}, \\bibinfo{author}{{Meadows}, V.}, \\bibinfo{author}{{Kasting}, J.}  \\bibinfo{author}{{Hawley}, S.}\\newblock \\bibinfo{title}{{The Effect of a Strong Stellar Flare on the Atmospheric Chemistry of an Earth-like Planet Orbiting an M Dwarf}}.\\newblock \\emph{\\bibinfo{journal}{Astrobiology}} \\textbf{\\bibinfo{volume}{10}}, \\bibinfo{pages}{751--771} (\\bibinfo{year}{2010}).\\newblock \\eprint{1006.0022}.\n",
      " regex = \n",
      "        \\\\bibitem(\\[[^\\[\\]]*?\\]){(?P<bibkey>[a-zA-Z0-9\\-\\+\\.\\S]+?)}(?P<authors>|([\\D]*?))(?P<year>[12][0-9]{3})(?P<rest>.*)\n",
      "        \n",
      "  warnings.warn(str(e))\n",
      "/opt/hostedtoolcache/Python/3.9.18/x64/lib/python3.9/site-packages/arxiv_on_deck_2/latex_bib.py:132: UserWarning: Error processing bibitem\n",
      " item = \\bibitem{Grayver2022}\\bibinfo{author}{{Grayver}, A.}, \\bibinfo{author}{{Bower}, D.~J.}, \\bibinfo{author}{{Saur}, J.}, \\bibinfo{author}{{Dorn}, C.}  \\bibinfo{author}{{Morris}, B.~M.}\\newblock \\bibinfo{title}{{Interior Heating of Rocky Exoplanets from Stellar Flares with Application to TRAPPIST-1}}.\\newblock \\emph{\\bibinfo{journal}{\\apjl}} \\textbf{\\bibinfo{volume}{941}}, \\bibinfo{pages}{L7} (\\bibinfo{year}{2022}).\\newblock \\eprint{2211.06140}.\n",
      " regex = \n",
      "        \\\\bibitem(\\[[^\\[\\]]*?\\]){(?P<bibkey>[a-zA-Z0-9\\-\\+\\.\\S]+?)}(?P<authors>|([\\D]*?))(?P<year>[12][0-9]{3})(?P<rest>.*)\n",
      "        \n",
      "  warnings.warn(str(e))\n",
      "/opt/hostedtoolcache/Python/3.9.18/x64/lib/python3.9/site-packages/arxiv_on_deck_2/latex_bib.py:132: UserWarning: Error processing bibitem\n",
      " item = \\bibitem{Ilin2021}\\bibinfo{author}{{Ilin}, E.} \\emph{et~al.}\\newblock \\bibinfo{title}{{Giant white-light flares on fully convective stars occur at high latitudes}}.\\newblock \\emph{\\bibinfo{journal}{\\mnras}} \\textbf{\\bibinfo{volume}{507}}, \\bibinfo{pages}{1723--1745} (\\bibinfo{year}{2021}).\\newblock \\eprint{2108.01917}.\n",
      " regex = \n",
      "        \\\\bibitem(\\[[^\\[\\]]*?\\]){(?P<bibkey>[a-zA-Z0-9\\-\\+\\.\\S]+?)}(?P<authors>|([\\D]*?))(?P<year>[12][0-9]{3})(?P<rest>.*)\n",
      "        \n",
      "  warnings.warn(str(e))\n",
      "/opt/hostedtoolcache/Python/3.9.18/x64/lib/python3.9/site-packages/arxiv_on_deck_2/latex_bib.py:132: UserWarning: Error processing bibitem\n",
      " item = \\bibitem{Luger2021a}\\bibinfo{author}{{Luger}, R.}, \\bibinfo{author}{{Foreman-Mackey}, D.}, \\bibinfo{author}{{Hedges}, C.}  \\bibinfo{author}{{Hogg}, D.~W.}\\newblock \\bibinfo{title}{{Mapping Stellar Surfaces. I. Degeneracies in the Rotational Light-curve Problem}}.\\newblock \\emph{\\bibinfo{journal}{\\aj}} \\textbf{\\bibinfo{volume}{162}}, \\bibinfo{pages}{123} (\\bibinfo{year}{2021}).\\newblock \\eprint{2102.00007}.\n",
      " regex = \n",
      "        \\\\bibitem(\\[[^\\[\\]]*?\\]){(?P<bibkey>[a-zA-Z0-9\\-\\+\\.\\S]+?)}(?P<authors>|([\\D]*?))(?P<year>[12][0-9]{3})(?P<rest>.*)\n",
      "        \n",
      "  warnings.warn(str(e))\n",
      "/opt/hostedtoolcache/Python/3.9.18/x64/lib/python3.9/site-packages/arxiv_on_deck_2/latex_bib.py:132: UserWarning: Error processing bibitem\n",
      " item = \\bibitem{Luger2021b}\\bibinfo{author}{{Luger}, R.}, \\bibinfo{author}{{Foreman-Mackey}, D.}  \\bibinfo{author}{{Hedges}, C.}\\newblock \\bibinfo{title}{{Mapping Stellar Surfaces. II. An Interpretable Gaussian Process Model for Light Curves}}.\\newblock \\emph{\\bibinfo{journal}{\\aj}} \\textbf{\\bibinfo{volume}{162}}, \\bibinfo{pages}{124} (\\bibinfo{year}{2021}).\\newblock \\eprint{2102.01697}.\n",
      " regex = \n",
      "        \\\\bibitem(\\[[^\\[\\]]*?\\]){(?P<bibkey>[a-zA-Z0-9\\-\\+\\.\\S]+?)}(?P<authors>|([\\D]*?))(?P<year>[12][0-9]{3})(?P<rest>.*)\n",
      "        \n",
      "  warnings.warn(str(e))\n",
      "/opt/hostedtoolcache/Python/3.9.18/x64/lib/python3.9/site-packages/arxiv_on_deck_2/latex_bib.py:132: UserWarning: Error processing bibitem\n",
      " item = \\bibitem{Luger2022}\\bibinfo{author}{{Luger}, R.} \\emph{et~al.}\\newblock \\bibinfo{title}{{Mapping stellar surfaces III: An Efficient, Scalable, and Open-Source Doppler Imaging Model}}.\\newblock \\emph{\\bibinfo{journal}{arXiv e-prints}} \\bibinfo{pages}{arXiv:2110.06271} (\\bibinfo{year}{2021}).\\newblock \\eprint{2110.06271}.\n",
      " regex = \n",
      "        \\\\bibitem(\\[[^\\[\\]]*?\\]){(?P<bibkey>[a-zA-Z0-9\\-\\+\\.\\S]+?)}(?P<authors>|([\\D]*?))(?P<year>[12][0-9]{3})(?P<rest>.*)\n",
      "        \n",
      "  warnings.warn(str(e))\n",
      "/opt/hostedtoolcache/Python/3.9.18/x64/lib/python3.9/site-packages/arxiv_on_deck_2/latex_bib.py:132: UserWarning: Error processing bibitem\n",
      " item = \\bibitem{Bolmont2017}\\bibinfo{author}{{Bolmont}, E.} \\emph{et~al.}\\newblock \\bibinfo{title}{{Water loss from terrestrial planets orbiting ultracool dwarfs: implications for the planets of TRAPPIST-1}}.\\newblock \\emph{\\bibinfo{journal}{Monthly Notices of the Royal Astronomical Society}} \\textbf{\\bibinfo{volume}{464}}, \\bibinfo{pages}{3728--3741} (\\bibinfo{year}{2017}).\\newblock \\eprint{1605.00616}.\n",
      " regex = \n",
      "        \\\\bibitem(\\[[^\\[\\]]*?\\]){(?P<bibkey>[a-zA-Z0-9\\-\\+\\.\\S]+?)}(?P<authors>|([\\D]*?))(?P<year>[12][0-9]{3})(?P<rest>.*)\n",
      "        \n",
      "  warnings.warn(str(e))\n",
      "/opt/hostedtoolcache/Python/3.9.18/x64/lib/python3.9/site-packages/arxiv_on_deck_2/latex_bib.py:132: UserWarning: Error processing bibitem\n",
      " item = \\bibitem{Bourrier2017b}\\bibinfo{author}{{Bourrier}, V.} \\emph{et~al.}\\newblock \\bibinfo{title}{{Temporal Evolution of the High-energy Irradiation and Water Content of TRAPPIST-1 Exoplanets}}.\\newblock \\emph{\\bibinfo{journal}{The Astronomical Journal}} \\textbf{\\bibinfo{volume}{154}}, \\bibinfo{pages}{121} (\\bibinfo{year}{2017}).\\newblock \\eprint{1708.09484}.\n",
      " regex = \n",
      "        \\\\bibitem(\\[[^\\[\\]]*?\\]){(?P<bibkey>[a-zA-Z0-9\\-\\+\\.\\S]+?)}(?P<authors>|([\\D]*?))(?P<year>[12][0-9]{3})(?P<rest>.*)\n",
      "        \n",
      "  warnings.warn(str(e))\n",
      "/opt/hostedtoolcache/Python/3.9.18/x64/lib/python3.9/site-packages/arxiv_on_deck_2/latex_bib.py:132: UserWarning: Error processing bibitem\n",
      " item = \\bibitem{Rimmer2018}\\bibinfo{author}{{Rimmer}, P.~B.} \\emph{et~al.}\\newblock \\bibinfo{title}{{The origin of RNA precursors on exoplanets}}.\\newblock \\emph{\\bibinfo{journal}{Science Advances}} \\textbf{\\bibinfo{volume}{4}}, \\bibinfo{pages}{eaar3302} (\\bibinfo{year}{2018}).\\newblock \\eprint{1808.02718}.\n",
      " regex = \n",
      "        \\\\bibitem(\\[[^\\[\\]]*?\\]){(?P<bibkey>[a-zA-Z0-9\\-\\+\\.\\S]+?)}(?P<authors>|([\\D]*?))(?P<year>[12][0-9]{3})(?P<rest>.*)\n",
      "        \n",
      "  warnings.warn(str(e))\n",
      "/opt/hostedtoolcache/Python/3.9.18/x64/lib/python3.9/site-packages/arxiv_on_deck_2/latex_bib.py:132: UserWarning: Error processing bibitem\n",
      " item = \\bibitem{Rackham2023}\\bibinfo{author}{{Rackham}, B.~V.}  \\bibinfo{author}{{de Wit}, J.}\\newblock \\bibinfo{title}{{Towards robust corrections for stellar contamination in JWST exoplanet transmission spectra}}.\\newblock \\emph{\\bibinfo{journal}{arXiv e-prints}} \\bibinfo{pages}{arXiv:2303.15418} (\\bibinfo{year}{2023}).\\newblock \\eprint{2303.15418}.\n",
      " regex = \n",
      "        \\\\bibitem(\\[[^\\[\\]]*?\\]){(?P<bibkey>[a-zA-Z0-9\\-\\+\\.\\S]+?)}(?P<authors>|([\\D]*?))(?P<year>[12][0-9]{3})(?P<rest>.*)\n",
      "        \n",
      "  warnings.warn(str(e))\n",
      "/opt/hostedtoolcache/Python/3.9.18/x64/lib/python3.9/site-packages/arxiv_on_deck_2/latex_bib.py:132: UserWarning: Error processing bibitem\n",
      " item = \\bibitem{SAG21_RASTI}\\bibinfo{author}{{Rackham}, B.~V.}  \\bibinfo{author}{{de Wit}, J.}\\newblock \\bibinfo{title}{{Towards robust corrections for stellar contamination in JWST exoplanet transmission spectra}}.\\newblock \\emph{\\bibinfo{journal}{arXiv e-prints}} \\bibinfo{pages}{arXiv:2303.15418} (\\bibinfo{year}{2023}).\\newblock \\eprint{2303.15418}.\n",
      " regex = \n",
      "        \\\\bibitem(\\[[^\\[\\]]*?\\]){(?P<bibkey>[a-zA-Z0-9\\-\\+\\.\\S]+?)}(?P<authors>|([\\D]*?))(?P<year>[12][0-9]{3})(?P<rest>.*)\n",
      "        \n",
      "  warnings.warn(str(e))\n",
      "/opt/hostedtoolcache/Python/3.9.18/x64/lib/python3.9/site-packages/arxiv_on_deck_2/latex_bib.py:132: UserWarning: Error processing bibitem\n",
      " item = \\bibitem{Vogler2005}\\bibinfo{author}{{V{ö}gler}, A.} \\emph{et~al.}\\newblock \\bibinfo{title}{{Simulations of magneto-convection in the solar photosphere. Equations, methods, and results of the MURaM code}}.\\newblock \\emph{\\bibinfo{journal}{\\aap}} \\textbf{\\bibinfo{volume}{429}}, \\bibinfo{pages}{335--351} (\\bibinfo{year}{2005}).\n",
      " regex = \n",
      "        \\\\bibitem(\\[[^\\[\\]]*?\\]){(?P<bibkey>[a-zA-Z0-9\\-\\+\\.\\S]+?)}(?P<authors>|([\\D]*?))(?P<year>[12][0-9]{3})(?P<rest>.*)\n",
      "        \n",
      "  warnings.warn(str(e))\n",
      "/opt/hostedtoolcache/Python/3.9.18/x64/lib/python3.9/site-packages/arxiv_on_deck_2/latex_bib.py:132: UserWarning: Error processing bibitem\n",
      " item = \\bibitem{Berardo2023b}\\bibinfo{author}{{Berardo}, D.}, \\bibinfo{author}{{de Wit}, J.}  \\bibinfo{author}{{Rackham}, B.~V.}\\newblock \\bibinfo{title}{{Empirically Constraining the Spectra of a Stars Heterogeneities From Its Rotation Lightcurve}}.\\newblock \\emph{\\bibinfo{journal}{arXiv e-prints}} \\bibinfo{pages}{arXiv:2307.04785} (\\bibinfo{year}{2023}).\\newblock \\eprint{2307.04785}.\n",
      " regex = \n",
      "        \\\\bibitem(\\[[^\\[\\]]*?\\]){(?P<bibkey>[a-zA-Z0-9\\-\\+\\.\\S]+?)}(?P<authors>|([\\D]*?))(?P<year>[12][0-9]{3})(?P<rest>.*)\n",
      "        \n",
      "  warnings.warn(str(e))\n",
      "/opt/hostedtoolcache/Python/3.9.18/x64/lib/python3.9/site-packages/arxiv_on_deck_2/latex_bib.py:132: UserWarning: Error processing bibitem\n",
      " item = \\bibitem{Morris2018}\\bibinfo{author}{Morris, B.~M.} \\emph{et~al.}\\newblock \\bibinfo{title}{Non-detection of contamination by stellar activity in the spitzer transit light curves of {TRAPPIST}-1}.\\newblock \\emph{\\bibinfo{journal}{The Astrophysical Journal}} \\textbf{\\bibinfo{volume}{863}}, \\bibinfo{pages}{L32} (\\bibinfo{year}{2018}).\\newblock \\urlprefix\\url{https://doi.org/10.3847/2041-8213/aad8aa}.\n",
      " regex = \n",
      "        \\\\bibitem(\\[[^\\[\\]]*?\\]){(?P<bibkey>[a-zA-Z0-9\\-\\+\\.\\S]+?)}(?P<authors>|([\\D]*?))(?P<year>[12][0-9]{3})(?P<rest>.*)\n",
      "        \n",
      "  warnings.warn(str(e))\n",
      "/opt/hostedtoolcache/Python/3.9.18/x64/lib/python3.9/site-packages/arxiv_on_deck_2/latex_bib.py:132: UserWarning: Error processing bibitem\n",
      " item = \\bibitem{Krissansen2023}\\bibinfo{author}{{Krissansen-Totton}, J.}\\newblock \\bibinfo{title}{{Implications of atmospheric non-detections for Trappist-1 inner planets on atmospheric retention prospects for outer planets}}.\\newblock \\emph{\\bibinfo{journal}{arXiv e-prints}} \\bibinfo{pages}{arXiv:2306.05397} (\\bibinfo{year}{2023}).\\newblock \\eprint{2306.05397}.\n",
      " regex = \n",
      "        \\\\bibitem(\\[[^\\[\\]]*?\\]){(?P<bibkey>[a-zA-Z0-9\\-\\+\\.\\S]+?)}(?P<authors>|([\\D]*?))(?P<year>[12][0-9]{3})(?P<rest>.*)\n",
      "        \n",
      "  warnings.warn(str(e))\n",
      "/opt/hostedtoolcache/Python/3.9.18/x64/lib/python3.9/site-packages/arxiv_on_deck_2/latex_bib.py:132: UserWarning: Error processing bibitem\n",
      " item = \\bibitem{Mallonn2018}\\bibinfo{author}{{Mallonn}, M.} \\emph{et~al.}\\newblock \\bibinfo{title}{{GJ 1214: Rotation period, starspots, and uncertainty on the optical slope of the transmission spectrum}}.\\newblock \\emph{\\bibinfo{journal}{\\aap}} \\textbf{\\bibinfo{volume}{614}}, \\bibinfo{pages}{A35} (\\bibinfo{year}{2018}).\\newblock \\eprint{1803.05677}.\n",
      " regex = \n",
      "        \\\\bibitem(\\[[^\\[\\]]*?\\]){(?P<bibkey>[a-zA-Z0-9\\-\\+\\.\\S]+?)}(?P<authors>|([\\D]*?))(?P<year>[12][0-9]{3})(?P<rest>.*)\n",
      "        \n",
      "  warnings.warn(str(e))\n",
      "/opt/hostedtoolcache/Python/3.9.18/x64/lib/python3.9/site-packages/arxiv_on_deck_2/latex_bib.py:132: UserWarning: Error processing bibitem\n",
      " item = \\bibitem{Rosich2020}\\bibinfo{author}{{Rosich}, A.} \\emph{et~al.}\\newblock \\bibinfo{title}{{Correcting for chromatic stellar activity effects in transits with multiband photometric monitoring: application to WASP-52}}.\\newblock \\emph{\\bibinfo{journal}{\\aap}} \\textbf{\\bibinfo{volume}{641}}, \\bibinfo{pages}{A82} (\\bibinfo{year}{2020}).\\newblock \\eprint{2007.00573}.\n",
      " regex = \n",
      "        \\\\bibitem(\\[[^\\[\\]]*?\\]){(?P<bibkey>[a-zA-Z0-9\\-\\+\\.\\S]+?)}(?P<authors>|([\\D]*?))(?P<year>[12][0-9]{3})(?P<rest>.*)\n",
      "        \n",
      "  warnings.warn(str(e))\n",
      "/opt/hostedtoolcache/Python/3.9.18/x64/lib/python3.9/site-packages/arxiv_on_deck_2/latex_bib.py:132: UserWarning: Error processing bibitem\n",
      " item = \\bibitem{Perger2023}\\bibinfo{author}{{Perger}, M.} \\emph{et~al.}\\newblock \\bibinfo{title}{{A machine learning approach for correcting radial velocities using physical observables}}.\\newblock \\emph{\\bibinfo{journal}{\\aap}} \\textbf{\\bibinfo{volume}{672}}, \\bibinfo{pages}{A118} (\\bibinfo{year}{2023}).\\newblock \\eprint{2301.12872}.\n",
      " regex = \n",
      "        \\\\bibitem(\\[[^\\[\\]]*?\\]){(?P<bibkey>[a-zA-Z0-9\\-\\+\\.\\S]+?)}(?P<authors>|([\\D]*?))(?P<year>[12][0-9]{3})(?P<rest>.*)\n",
      "        \n",
      "  warnings.warn(str(e))\n",
      "/opt/hostedtoolcache/Python/3.9.18/x64/lib/python3.9/site-packages/arxiv_on_deck_2/latex_bib.py:132: UserWarning: Error processing bibitem\n",
      " item = \\bibitem{Reyle2021}\\bibinfo{author}{{Reyl{é}}, C.} \\emph{et~al.}\\newblock \\bibinfo{title}{{The 10 parsec sample in the Gaia era}}.\\newblock \\emph{\\bibinfo{journal}{\\aap}} \\textbf{\\bibinfo{volume}{650}}, \\bibinfo{pages}{A201} (\\bibinfo{year}{2021}).\\newblock \\eprint{2104.14972}.\n",
      " regex = \n",
      "        \\\\bibitem(\\[[^\\[\\]]*?\\]){(?P<bibkey>[a-zA-Z0-9\\-\\+\\.\\S]+?)}(?P<authors>|([\\D]*?))(?P<year>[12][0-9]{3})(?P<rest>.*)\n",
      "        \n",
      "  warnings.warn(str(e))\n",
      "/opt/hostedtoolcache/Python/3.9.18/x64/lib/python3.9/site-packages/arxiv_on_deck_2/latex_bib.py:132: UserWarning: Error processing bibitem\n",
      " item = \\bibitem{Kempton2018}\\bibinfo{author}{{Kempton}, E. M.~R.} \\emph{et~al.}\\newblock \\bibinfo{title}{{A Framework for Prioritizing the TESS Planetary Candidates Most Amenable to Atmospheric Characterization}}.\\newblock \\emph{\\bibinfo{journal}{\\pasp}} \\textbf{\\bibinfo{volume}{130}}, \\bibinfo{pages}{114401} (\\bibinfo{year}{2018}).\\newblock \\eprint{1805.03671}.\n",
      " regex = \n",
      "        \\\\bibitem(\\[[^\\[\\]]*?\\]){(?P<bibkey>[a-zA-Z0-9\\-\\+\\.\\S]+?)}(?P<authors>|([\\D]*?))(?P<year>[12][0-9]{3})(?P<rest>.*)\n",
      "        \n",
      "  warnings.warn(str(e))\n",
      "/opt/hostedtoolcache/Python/3.9.18/x64/lib/python3.9/site-packages/arxiv_on_deck_2/latex_bib.py:132: UserWarning: Error processing bibitem\n",
      " item = \\bibitem{Morris2020}\\bibinfo{author}{{Morris}, B.}\\newblock \\bibinfo{title}{{fleck: Fast approximate light curves for starspot rotational modulation}}.\\newblock \\emph{\\bibinfo{journal}{The Journal of Open Source Software}} \\textbf{\\bibinfo{volume}{5}}, \\bibinfo{pages}{2103} (\\bibinfo{year}{2020}).\\end{thebibliography}\n",
      " regex = \n",
      "        \\\\bibitem(\\[[^\\[\\]]*?\\]){(?P<bibkey>[a-zA-Z0-9\\-\\+\\.\\S]+?)}(?P<authors>|([\\D]*?))(?P<year>[12][0-9]{3})(?P<rest>.*)\n",
      "        \n",
      "  warnings.warn(str(e))\n"
     ]
    },
    {
     "name": "stdout",
     "output_type": "stream",
     "text": [
      "extracting tarball to tmp_2310.15925..."
     ]
    },
    {
     "name": "stdout",
     "output_type": "stream",
     "text": [
      " done.\n",
      "Retrieving document from  https://arxiv.org/e-print/2310.16038\n"
     ]
    },
    {
     "name": "stdout",
     "output_type": "stream",
     "text": [
      "extracting tarball to tmp_2310.16038..."
     ]
    },
    {
     "name": "stdout",
     "output_type": "stream",
     "text": [
      " done.\n"
     ]
    },
    {
     "name": "stderr",
     "output_type": "stream",
     "text": [
      "/opt/hostedtoolcache/Python/3.9.18/x64/lib/python3.9/site-packages/IPython/core/interactiveshell.py:3526: LatexWarning: Multiple tex files.\n",
      "\n",
      "  exec(code_obj, self.user_global_ns, self.user_ns)\n",
      "/opt/hostedtoolcache/Python/3.9.18/x64/lib/python3.9/site-packages/IPython/core/interactiveshell.py:3526: LatexWarning: Found documentclass in tmp_2310.16038/lem_wp.tex\n",
      "\n",
      "  exec(code_obj, self.user_global_ns, self.user_ns)\n",
      "/opt/hostedtoolcache/Python/3.9.18/x64/lib/python3.9/site-packages/arxiv_on_deck_2/latex.py:399: LatexWarning: Latex injecting: 'bib' from 'tmp_2310.16038/bib.tex'\n",
      "  warnings.warn(LatexWarning(f\"Latex injecting: '{ext}' from '{subsource}'\"))\n",
      "/opt/hostedtoolcache/Python/3.9.18/x64/lib/python3.9/site-packages/arxiv_on_deck_2/latex.py:399: LatexWarning: Latex injecting: 'headstuff' from 'tmp_2310.16038/headstuff.tex'\n",
      "  warnings.warn(LatexWarning(f\"Latex injecting: '{ext}' from '{subsource}'\"))\n",
      "/opt/hostedtoolcache/Python/3.9.18/x64/lib/python3.9/site-packages/arxiv_on_deck_2/latex.py:399: LatexWarning: Latex injecting: 'headstuff-original' from 'tmp_2310.16038/headstuff-original.tex'\n",
      "  warnings.warn(LatexWarning(f\"Latex injecting: '{ext}' from '{subsource}'\"))\n"
     ]
    },
    {
     "name": "stderr",
     "output_type": "stream",
     "text": [
      "/opt/hostedtoolcache/Python/3.9.18/x64/lib/python3.9/site-packages/arxiv_on_deck_2/latex.py:730: LatexWarning: Could not extract abstract from tmp_2310.16038/lem_wp.tex\n",
      "  warnings.warn(LatexWarning(f\"Could not extract abstract from {self.main_file}\"))\n"
     ]
    },
    {
     "name": "stderr",
     "output_type": "stream",
     "text": [
      "/opt/hostedtoolcache/Python/3.9.18/x64/lib/python3.9/site-packages/arxiv_on_deck_2/latex.py:120: LatexWarning: attempting recovering figure fig/lem_spec_whim_r1\n",
      "  warnings.warn(LatexWarning(f'attempting recovering figure {image}'))\n",
      "/opt/hostedtoolcache/Python/3.9.18/x64/lib/python3.9/site-packages/arxiv_on_deck_2/latex.py:125: LatexWarning: Recovered figure fig/lem_spec_whim_r1 as tmp_2310.16038/./fig/lem_spec_whim_r1.pdf\n",
      "  warnings.warn(LatexWarning(f'Recovered figure {image} as {fname}'))\n"
     ]
    },
    {
     "name": "stderr",
     "output_type": "stream",
     "text": [
      "/tmp/ipykernel_2262/3009462391.py:49: LatexWarning: 2310.16038 did not run properly\n",
      "Unable to locate Ghostscript on paths\n",
      "  warnings.warn(latex.LatexWarning(f\"{paper_id:s} did not run properly\\n\" +\n"
     ]
    }
   ],
   "source": [
    "documents = []\n",
    "failed = []\n",
    "for paper in tqdm(candidates):\n",
    "    paper_id = paper['identifier'].lower().replace('arxiv:', '')\n",
    "    \n",
    "    folder = f'tmp_{paper_id}'\n",
    "\n",
    "    try:\n",
    "        if not os.path.isdir(folder):\n",
    "            folder = retrieve_document_source(f\"{paper_id}\", f'tmp_{paper_id}')\n",
    "        \n",
    "        try:\n",
    "            doc = latex.LatexDocument(folder, validation=validation)    \n",
    "        except AffiliationError as affilerror:\n",
    "            msg = f\"ArXiv:{paper_id:s} is not an MPIA paper... \" + str(affilerror)\n",
    "            failed.append((paper, \"affiliation error: \" + str(affilerror) ))\n",
    "            continue\n",
    "        \n",
    "        # Hack because sometimes author parsing does not work well\n",
    "        if (len(doc.authors) != len(paper['authors'])):\n",
    "            doc._authors = paper['authors']\n",
    "        else:\n",
    "            # highlight authors (FIXME: doc.highlight_authors)\n",
    "            # done on arxiv paper already\n",
    "            doc._authors = highlight_authors_in_list(\n",
    "                [mpia.get_initials(k) for k in doc.authors], \n",
    "                normed_mpia_authors, verbose=True)\n",
    "        if (doc.abstract) in (None, ''):\n",
    "            doc._abstract = paper['abstract']\n",
    "            \n",
    "        doc.comment = (get_markdown_badge(paper_id) + \n",
    "                       \"<mark>Appeared on: \" + paper['date'] + \"</mark> - \")\n",
    "        if paper['comments']:\n",
    "            doc.comment += \" _\" + paper['comments'] + \"_\"\n",
    "        \n",
    "        full_md = doc.generate_markdown_text()\n",
    "        \n",
    "        full_md += get_markdown_qrcode(paper_id)\n",
    "        \n",
    "        # replace citations\n",
    "        try:\n",
    "            bibdata = latex_bib.LatexBib.from_doc(doc)\n",
    "            full_md = latex_bib.replace_citations(full_md, bibdata)\n",
    "        except Exception as e:\n",
    "            print(e)\n",
    "        \n",
    "        documents.append((paper_id, full_md))\n",
    "    except Exception as e:\n",
    "        warnings.warn(latex.LatexWarning(f\"{paper_id:s} did not run properly\\n\" +\n",
    "                                         str(e)\n",
    "                                        ))\n",
    "        failed.append((paper, \"latex error \" + str(e)))"
   ]
  },
  {
   "cell_type": "markdown",
   "id": "2505a25c",
   "metadata": {
    "papermill": {
     "duration": 0.006958,
     "end_time": "2023-10-25T04:10:24.153191",
     "exception": false,
     "start_time": "2023-10-25T04:10:24.146233",
     "status": "completed"
    },
    "tags": []
   },
   "source": [
    "### Export the logs\n",
    "\n",
    "Throughout, we also keep track of the logs per paper. see `logs-{today date}.md` "
   ]
  },
  {
   "cell_type": "code",
   "execution_count": 5,
   "id": "d733828a",
   "metadata": {
    "execution": {
     "iopub.execute_input": "2023-10-25T04:10:24.171987Z",
     "iopub.status.busy": "2023-10-25T04:10:24.171400Z",
     "iopub.status.idle": "2023-10-25T04:10:24.195116Z",
     "shell.execute_reply": "2023-10-25T04:10:24.194311Z"
    },
    "papermill": {
     "duration": 0.0368,
     "end_time": "2023-10-25T04:10:24.199579",
     "exception": false,
     "start_time": "2023-10-25T04:10:24.162779",
     "status": "completed"
    },
    "scrolled": false,
    "tags": []
   },
   "outputs": [
    {
     "data": {
      "text/markdown": [
       "## Successful papers"
      ],
      "text/plain": [
       "<IPython.core.display.Markdown object>"
      ]
     },
     "metadata": {},
     "output_type": "display_data"
    },
    {
     "data": {
      "text/markdown": [
       "\n",
       "|||\n",
       "|---:|:---|\n",
       "| [![arXiv](https://img.shields.io/badge/arXiv-arXiv:2310.15895-b31b1b.svg)](https://arxiv.org/abs/arXiv:2310.15895) | **A roadmap to the efficient and robust characterization of temperate  terrestrial planet atmospheres with JWST**  |\n",
       "|| J. d. Wit, et al. -- incl., <mark>L. Kreidberg</mark> |\n",
       "|*Appeared on*| *2023-10-25*|\n",
       "|*Comments*| **|\n",
       "|**Abstract**| Ultra-cool dwarf stars are abundant, long-lived, and uniquely suited to enable the atmospheric study of transiting terrestrial companions with JWST. Amongst them, the most prominent is the M8.5V star TRAPPIST-1 and its seven planets, which have been the favored targets of eight JWST Cycle 1 programs. While Cycle 1 observations have started to yield preliminary insights into the planets, they have also revealed that their atmospheric exploration requires a better understanding of their host star. Here, we propose a roadmap to characterize the TRAPPIST-1 system -- and others like it -- in an efficient and robust manner. We notably recommend that -- although more challenging to schedule -- multi-transit windows be prioritized to constrain stellar heterogeneities and gather up to 2$\\times$ more transits per JWST hour spent. We conclude that in such systems planets cannot be studied in isolation by small programs, thus large-scale community-supported programs should be supported to enable the efficient and robust exploration of terrestrial exoplanets in the JWST era. |"
      ],
      "text/plain": [
       "[arXiv:2310.15895] A roadmap to the efficient and robust characterization of temperate  terrestrial planet atmospheres with JWST\n",
       "\tJ. d. Wit, et al. -- incl., <mark>L. Kreidberg</mark>"
      ]
     },
     "metadata": {},
     "output_type": "display_data"
    },
    {
     "data": {
      "text/markdown": [
       "## Failed papers"
      ],
      "text/plain": [
       "<IPython.core.display.Markdown object>"
      ]
     },
     "metadata": {},
     "output_type": "display_data"
    },
    {
     "data": {
      "text/markdown": [
       "\n",
       "|||\n",
       "|---:|:---|\n",
       "| [![arXiv](https://img.shields.io/badge/arXiv-arXiv:2310.15267-b31b1b.svg)](https://arxiv.org/abs/arXiv:2310.15267) | **Heat-Flux Limited Cloud Activity and Vertical Mixing in Giant Planet  Atmospheres with an Application to Uranus and Neptune**  |\n",
       "|| H. Ge, C. Li, <mark>X. Zhang</mark>, C. Moeckel |\n",
       "|*Appeared on*| *2023-10-25*|\n",
       "|*Comments*| *23 pages, 7 figures, and 2 tables. Accepted for publication in PSJ*|\n",
       "|**Abstract**| Storms operated by moist convection and the condensation of $\\rm CH_{4}$ or $\\rm H_{2}S$ have been observed on Uranus and Neptune. However, the mechanism of cloud formation, thermal structure, and mixing efficiency of ice giant weather layers remains unclear. In this paper, we show that moist convection is limited by heat transport on giant planets, especially on ice giants where planetary heat flux is weak. Latent heat associated with condensation and evaporation can efficiently bring heat across the weather layer through precipitations. This effect was usually neglected in previous studies without a complete hydrological cycle. We first derive analytical theories and show the upper limit of cloud density is determined by the planetary heat flux and microphysics of clouds but independent of the atmospheric composition. The eddy diffusivity of moisture depends on the heat fluxes, atmospheric composition, and gravity of the planet but is not directly related to cloud microphysics. We then conduct convection- and cloud-resolving simulations with SNAP to validate our analytical theory. The simulated cloud density and eddy diffusivity are smaller than the results acquired from the equilibrium cloud condensation model and mixing length theory by several orders of magnitude but consistent with our analytical solutions. Meanwhile, the mass-loading effect of $\\rm CH_{4}$ and $\\rm H_{2}S$ leads to superadiabatic and stable weather layers. Our simulations produced three cloud layers that are qualitatively similar to recent observations. This study has important implications for cloud formation and eddy mixing in giant planet atmospheres in general and observations for future space missions and ground-based telescopes. |\n",
       "|<p style=\"color:green\"> **ERROR** </p>| <p style=\"color:green\">affiliation error: mpia.affiliation_verifications: 'Heidelberg' keyword not found.</p> |"
      ],
      "text/plain": [
       "<IPython.core.display.Markdown object>"
      ]
     },
     "metadata": {},
     "output_type": "display_data"
    },
    {
     "data": {
      "text/markdown": [
       "\n",
       "|||\n",
       "|---:|:---|\n",
       "| [![arXiv](https://img.shields.io/badge/arXiv-arXiv:2310.15879-b31b1b.svg)](https://arxiv.org/abs/arXiv:2310.15879) | **Prospects for probing the interaction between dark energy and dark  matter using gravitational-wave dark sirens with neutron star tidal  deformation**  |\n",
       "|| T.-N. Li, et al. -- incl., <mark>X. Zhang</mark> |\n",
       "|*Appeared on*| *2023-10-25*|\n",
       "|*Comments*| *12 pages, 9 figures*|\n",
       "|**Abstract**| Gravitational wave (GW) standard siren observations provide a rather useful tool to explore the evolution of the universe. In this work, we wish to investigate whether the dark sirens with neutron star (NS) deformation from third-generation (3G) GW detectors could help probe the interaction between dark energy and dark matter. We simulate the GW dark sirens of four detection strategies based on the three-year observation and consider four phenomenological interacting dark energy models to perform cosmological analysis. We find that GW dark sirens could provide tight constraints on $\\Omega_{\\rm m}$ and $H_0$ in the four IDE models, but perform not well in constraining the dimensionless coupling parameter $\\beta$ with the interaction proportional to the energy density of cold dark matter. Nevertheless, the parameter degeneracy orientations of CMB and GW are almost orthogonal, and thus the combination of them could effectively break cosmological parameter degeneracies, with the constraint errors of $\\beta$ being 0.00068-0.018. In addition, we choose three typical equation of states (EoSs) of NS, i.e., SLy, MPA1, and MS1, to investigate the effect of NS's EoS in cosmological analysis. The stiffer EoS could give tighter constraints than the softer EoS. Nonetheless, the combination of CMB and GW dark sirens (using different EoSs of NS) shows basically the same constraint results of cosmological parameters. We conclude that the dark sirens from 3G GW detectors would play a crucial role in helping probe the interaction between dark energy and dark matter, and the CMB+GW results are basically not affected by the EoS of NS. |\n",
       "|<p style=\"color:green\"> **ERROR** </p>| <p style=\"color:green\">affiliation error: mpia.affiliation_verifications: 'Heidelberg' keyword not found.</p> |"
      ],
      "text/plain": [
       "<IPython.core.display.Markdown object>"
      ]
     },
     "metadata": {},
     "output_type": "display_data"
    },
    {
     "data": {
      "text/markdown": [
       "\n",
       "|||\n",
       "|---:|:---|\n",
       "| [![arXiv](https://img.shields.io/badge/arXiv-arXiv:2310.15925-b31b1b.svg)](https://arxiv.org/abs/arXiv:2310.15925) | **Noema formIng Cluster survEy (NICE): Discovery of a starbursting galaxy  group with a radio-luminous core at z=3.95**  |\n",
       "|| L. Zhou, et al. -- incl., <mark>E. Schinnerer</mark> |\n",
       "|*Appeared on*| *2023-10-25*|\n",
       "|*Comments*| *7 pages, 7 figures, submitted to A&A*|\n",
       "|**Abstract**| The study of distant galaxy groups and clusters at the peak epoch of star formation is limited by the lack of a statistically and homogeneously selected and spectroscopically confirmed sample. Recent discoveries of concentrated starburst activities in cluster cores have opened a new window to hunt for these structures based on their integrated IR luminosities. Hereby we carry out the large NOEMA (NOrthern Extended Millimeter Array) program targeting a statistical sample of infrared-luminous sources associated with overdensities of massive galaxies at z>2, the Noema formIng Cluster survEy (NICE). We present the first result from the ongoing NICE survey, a compact group at z=3.95 in the Lockman Hole field (LH-SBC3), confirmed via four massive (M_star>10^10.5M_sun) galaxies detected in CO(4-3) and [CI](1-0) lines. The four CO-detected members of LH-SBC3 are distributed over a 180 kpc physical scale, and the entire structure has an estimated halo mass of ~10^13Msun and total star formation rate (SFR) of ~4000Msun/yr. In addition, the most massive galaxy hosts a radio-loud AGN with L_1.4GHz, rest = 3.0*10^25W/Hz. The discovery of LH-SBC3 demonstrates the feasibility of our method to efficiently identify high-z compact groups or forming cluster cores. The existence of these starbursting cluster cores up to z~4 provides critical insights into the mass assembly history of the central massive galaxies in clusters. |\n",
       "|<p style=\"color:green\"> **ERROR** </p>| <p style=\"color:green\">affiliation error: mpia.affiliation_verifications: 'Heidelberg' keyword not found.</p> |"
      ],
      "text/plain": [
       "<IPython.core.display.Markdown object>"
      ]
     },
     "metadata": {},
     "output_type": "display_data"
    },
    {
     "data": {
      "text/markdown": [
       "\n",
       "|||\n",
       "|---:|:---|\n",
       "| [![arXiv](https://img.shields.io/badge/arXiv-arXiv:2310.16038-b31b1b.svg)](https://arxiv.org/abs/arXiv:2310.16038) | **LEM All-Sky Survey: Soft X-ray Sky at Microcalorimeter Resolution**  |\n",
       "|| I. Khabibullin, et al. -- incl., <mark>A. Pillepich</mark> |\n",
       "|*Appeared on*| *2023-10-25*|\n",
       "|*Comments*| *White Paper in support of a mission concept to be submitted for the 2023 NASA Astrophysics Probes opportunity. This White Paper will be updated when required. 30 pages, 25 figures*|\n",
       "|**Abstract**| The Line Emission Mapper (LEM) is an X-ray Probe with with spectral resolution ~2 eV FWHM from 0.2 to 2.5 keV and effective area >2,500 cm$^2$ at 1 keV, covering a 33 arcmin diameter Field of View with 15 arcsec angular resolution, capable of performing efficient scanning observations of very large sky areas and enabling the first high spectral resolution survey of the full sky. The LEM-All-Sky Survey (LASS) is expected to follow the success of previous all sky surveys such as ROSAT and eROSITA, adding a third dimension provided by the high resolution microcalorimeter spectrometer, with each 15 arcsec pixel of the survey including a full 1-2 eV resolution energy spectrum that can be integrated over any area of the sky to provide statistical accuracy. Like its predecessors, LASS will provide both a long-lasting legacy and open the door to the unknown, enabling new discoveries and delivering the baseline for unique GO studies. No other current or planned mission has the combination of microcalorimeter energy resolution and large grasp to cover the whole sky while maintaining good angular resolution and imaging capabilities. LASS will be able to probe the physical conditions of the hot phases of the Milky Way at multiple scales, from emission in the Solar system due to Solar Wind Charge eXchange, to the interstellar and circumgalactic media, including the North Polar Spur and the Fermi/eROSITA bubbles. It will measure velocities of gas in the inner part of the Galaxy and extract the emissivity of the Local Hot Bubble. By maintaining the original angular resolution, LASS will also be able to study classes of point sources through stacking. For classes with ~$10^4$ objects, it will provide the equivalent of 1 Ms of high spectral resolution data. We describe the technical specifications of LASS and highlight the main scientific objectives that will be addressed. (Abridged) |\n",
       "|<p style=\"color:red\"> **ERROR** </p>| <p style=\"color:red\">latex error Unable to locate Ghostscript on paths</p> |"
      ],
      "text/plain": [
       "<IPython.core.display.Markdown object>"
      ]
     },
     "metadata": {},
     "output_type": "display_data"
    }
   ],
   "source": [
    "import datetime\n",
    "today = str(datetime.date.today())\n",
    "logfile = f\"_build/html/logs/log-{today}.md\"\n",
    "\n",
    "\n",
    "with open(logfile, 'w') as logs:\n",
    "    # Success\n",
    "    logs.write(f'# Arxiv on Deck 2: Logs - {today}\\n\\n')\n",
    "    logs.write(\"\"\"* Arxiv had {0:,d} new papers\\n\"\"\".format(len(new_papers)))\n",
    "    logs.write(\"\"\"    * {0:,d} with possible author matches\\n\\n\"\"\".format(len(candidates)))\n",
    "    logs.write(\"## Sucessful papers\\n\\n\")\n",
    "    display(Markdown(\"## Successful papers\"))\n",
    "    success = [k[0] for k in documents]\n",
    "    for candid in candidates:\n",
    "        if candid['identifier'].split(':')[-1] in success:\n",
    "            display(candid)\n",
    "            logs.write(candid.generate_markdown_text() + '\\n\\n')\n",
    "\n",
    "    ## failed\n",
    "    logs.write(\"## Failed papers\\n\\n\")\n",
    "    display(Markdown(\"## Failed papers\"))\n",
    "    failed = sorted(failed, key=lambda x: x[1])\n",
    "    current_reason = \"\"\n",
    "    for paper, reason in failed:\n",
    "        if 'affiliation' in reason:\n",
    "            color = 'green'\n",
    "        else:\n",
    "            color = 'red'\n",
    "        data = Markdown(\n",
    "                paper.generate_markdown_text() + \n",
    "                f'\\n|<p style=\"color:{color:s}\"> **ERROR** </p>| <p style=\"color:{color:s}\">{reason:s}</p> |'\n",
    "               )\n",
    "        if reason != current_reason:\n",
    "            logs.write(f'### {reason:s} \\n\\n')\n",
    "            current_reason = reason\n",
    "        logs.write(data.data + '\\n\\n')\n",
    "        \n",
    "        # only display here the important errors (all in logs)\n",
    "        # if color in ('red',):\n",
    "        display(data)"
   ]
  },
  {
   "cell_type": "markdown",
   "id": "472d20ee",
   "metadata": {
    "papermill": {
     "duration": 0.007943,
     "end_time": "2023-10-25T04:10:24.215621",
     "exception": false,
     "start_time": "2023-10-25T04:10:24.207678",
     "status": "completed"
    },
    "tags": []
   },
   "source": [
    "## Export documents\n",
    "\n",
    "We now write the .md files and export relevant images"
   ]
  },
  {
   "cell_type": "code",
   "execution_count": 6,
   "id": "d426aed9",
   "metadata": {
    "execution": {
     "iopub.execute_input": "2023-10-25T04:10:24.234033Z",
     "iopub.status.busy": "2023-10-25T04:10:24.233385Z",
     "iopub.status.idle": "2023-10-25T04:10:24.242961Z",
     "shell.execute_reply": "2023-10-25T04:10:24.242145Z"
    },
    "papermill": {
     "duration": 0.021327,
     "end_time": "2023-10-25T04:10:24.244823",
     "exception": false,
     "start_time": "2023-10-25T04:10:24.223496",
     "status": "completed"
    },
    "tags": []
   },
   "outputs": [],
   "source": [
    "def export_markdown_summary(md: str, md_fname:str, directory: str):\n",
    "    \"\"\"Export MD document and associated relevant images\"\"\"\n",
    "    import os\n",
    "    import shutil\n",
    "    import re\n",
    "\n",
    "    if (os.path.exists(directory) and not os.path.isdir(directory)):\n",
    "        raise RuntimeError(f\"a non-directory file exists with name {directory:s}\")\n",
    "\n",
    "    if (not os.path.exists(directory)):\n",
    "        print(f\"creating directory {directory:s}\")\n",
    "        os.mkdir(directory)\n",
    "\n",
    "    fig_fnames = (re.compile(r'\\[Fig.*\\]\\((.*)\\)').findall(md) + \n",
    "                  re.compile(r'\\<img src=\"([^>\\s]*)\"[^>]*/>').findall(md))\n",
    "    for fname in fig_fnames:\n",
    "        if 'http' in fname:\n",
    "            # No need to copy online figures\n",
    "            continue\n",
    "        destdir = os.path.join(directory, os.path.dirname(fname))\n",
    "        destfname = os.path.join(destdir, os.path.basename(fname))\n",
    "        try:\n",
    "            os.makedirs(destdir)\n",
    "        except FileExistsError:\n",
    "            pass\n",
    "        shutil.copy(fname, destfname)\n",
    "    with open(os.path.join(directory, md_fname), 'w') as fout:\n",
    "        fout.write(md)\n",
    "    print(\"exported in \", os.path.join(directory, md_fname))\n",
    "    [print(\"    + \" + os.path.join(directory,fk)) for fk in fig_fnames]"
   ]
  },
  {
   "cell_type": "code",
   "execution_count": 7,
   "id": "014d04a4",
   "metadata": {
    "execution": {
     "iopub.execute_input": "2023-10-25T04:10:24.263518Z",
     "iopub.status.busy": "2023-10-25T04:10:24.262853Z",
     "iopub.status.idle": "2023-10-25T04:10:24.268053Z",
     "shell.execute_reply": "2023-10-25T04:10:24.267413Z"
    },
    "papermill": {
     "duration": 0.0169,
     "end_time": "2023-10-25T04:10:24.269831",
     "exception": false,
     "start_time": "2023-10-25T04:10:24.252931",
     "status": "completed"
    },
    "tags": []
   },
   "outputs": [
    {
     "name": "stdout",
     "output_type": "stream",
     "text": [
      "exported in  _build/html/2310.15895.md\n"
     ]
    }
   ],
   "source": [
    "for paper_id, md in documents:\n",
    "    export_markdown_summary(md, f\"{paper_id:s}.md\", '_build/html/')"
   ]
  },
  {
   "cell_type": "markdown",
   "id": "f087a0a7",
   "metadata": {
    "papermill": {
     "duration": 0.008064,
     "end_time": "2023-10-25T04:10:24.286066",
     "exception": false,
     "start_time": "2023-10-25T04:10:24.278002",
     "status": "completed"
    },
    "tags": []
   },
   "source": [
    "## Display the papers\n",
    "\n",
    "Not necessary but allows for a quick check."
   ]
  },
  {
   "cell_type": "code",
   "execution_count": 8,
   "id": "fd25f625",
   "metadata": {
    "execution": {
     "iopub.execute_input": "2023-10-25T04:10:24.304423Z",
     "iopub.status.busy": "2023-10-25T04:10:24.303562Z",
     "iopub.status.idle": "2023-10-25T04:10:24.309628Z",
     "shell.execute_reply": "2023-10-25T04:10:24.308935Z"
    },
    "papermill": {
     "duration": 0.017285,
     "end_time": "2023-10-25T04:10:24.311379",
     "exception": false,
     "start_time": "2023-10-25T04:10:24.294094",
     "status": "completed"
    },
    "scrolled": false,
    "tags": []
   },
   "outputs": [
    {
     "data": {
      "text/markdown": [
       ", and marker sizes are proportional to planet sizes.\n",
       "The region of temperature planets with instellations between 0.25 and 4 $S_\\oplus$ is highlighted, and planets of particular interest are labelled.\n",
       " (*fig:figure1*)\n",
       "\n",
       "</div><div id=\"qrcode\"><img src=https://api.qrserver.com/v1/create-qr-code/?size=100x100&data=\"https://arxiv.org/abs/2310.15895\"></div>"
      ],
      "text/plain": [
       "<IPython.core.display.Markdown object>"
      ]
     },
     "metadata": {},
     "output_type": "display_data"
    }
   ],
   "source": [
    "[display(Markdown(k[1])) for k in documents];"
   ]
  },
  {
   "cell_type": "markdown",
   "id": "873873a4",
   "metadata": {
    "papermill": {
     "duration": 0.008196,
     "end_time": "2023-10-25T04:10:24.327914",
     "exception": false,
     "start_time": "2023-10-25T04:10:24.319718",
     "status": "completed"
    },
    "tags": []
   },
   "source": [
    "# Create HTML index"
   ]
  },
  {
   "cell_type": "code",
   "execution_count": 9,
   "id": "cf665672",
   "metadata": {
    "execution": {
     "iopub.execute_input": "2023-10-25T04:10:24.347055Z",
     "iopub.status.busy": "2023-10-25T04:10:24.346184Z",
     "iopub.status.idle": "2023-10-25T04:10:24.362604Z",
     "shell.execute_reply": "2023-10-25T04:10:24.361787Z"
    },
    "papermill": {
     "duration": 0.028401,
     "end_time": "2023-10-25T04:10:24.364477",
     "exception": false,
     "start_time": "2023-10-25T04:10:24.336076",
     "status": "completed"
    },
    "tags": []
   },
   "outputs": [
    {
     "name": "stdout",
     "output_type": "stream",
     "text": [
      "307  publications files modified in the last 7 days.\n"
     ]
    }
   ],
   "source": [
    "from datetime import datetime, timedelta, timezone\n",
    "from glob import glob\n",
    "import os\n",
    "\n",
    "files = glob('_build/html/*.md')\n",
    "days = 7\n",
    "now = datetime.today()\n",
    "res = []\n",
    "for fk in files:\n",
    "    stat_result = os.stat(fk).st_ctime\n",
    "    modified = datetime.fromtimestamp(stat_result, tz=timezone.utc).replace(tzinfo=None)\n",
    "    delta = now.today() - modified\n",
    "    if delta <= timedelta(days=days):\n",
    "        res.append((delta.seconds, fk))\n",
    "res = [k[1] for k in reversed(sorted(res, key=lambda x:x[1]))]\n",
    "npub = len(res)\n",
    "print(len(res), f\" publications files modified in the last {days:d} days.\")\n",
    "# [ print('\\t', k) for k in res ];"
   ]
  },
  {
   "cell_type": "code",
   "execution_count": 10,
   "id": "015de740",
   "metadata": {
    "execution": {
     "iopub.execute_input": "2023-10-25T04:10:24.384354Z",
     "iopub.status.busy": "2023-10-25T04:10:24.383509Z",
     "iopub.status.idle": "2023-10-25T04:10:24.412678Z",
     "shell.execute_reply": "2023-10-25T04:10:24.411614Z"
    },
    "papermill": {
     "duration": 0.041456,
     "end_time": "2023-10-25T04:10:24.414708",
     "exception": false,
     "start_time": "2023-10-25T04:10:24.373252",
     "status": "completed"
    },
    "tags": []
   },
   "outputs": [
    {
     "name": "stdout",
     "output_type": "stream",
     "text": [
      "6  publications in the last 7 days.\n"
     ]
    }
   ],
   "source": [
    "import datetime\n",
    "from glob import glob\n",
    "\n",
    "def get_last_n_days(lst, days=1):\n",
    "    \"\"\" Get the documents from the last n days \"\"\"\n",
    "    sorted_lst = sorted(lst, key=lambda x: x[1], reverse=True)\n",
    "    for fname, date in sorted_lst:\n",
    "        if date >= str(datetime.date.today() - datetime.timedelta(days=days)):\n",
    "            yield fname\n",
    "\n",
    "def extract_appearance_dates(lst_file):\n",
    "    dates = []\n",
    "\n",
    "    def get_date(line):\n",
    "        return line\\\n",
    "            .split('Appeared on:')[-1]\\\n",
    "            .split('</mark>')[0].strip()\n",
    "\n",
    "    for fname in lst:\n",
    "        with open(fname, 'r') as f:\n",
    "            found_date = False\n",
    "            for line in f:\n",
    "                if not found_date:\n",
    "                    if \"Appeared on\" in line:\n",
    "                        found_date = True\n",
    "                        dates.append((fname, get_date(line)))\n",
    "                else:\n",
    "                    break\n",
    "    return dates\n",
    "\n",
    "from glob import glob\n",
    "lst = glob('_build/html/*md')\n",
    "days = 7\n",
    "dates = extract_appearance_dates(lst)\n",
    "res = list(get_last_n_days(dates, days))\n",
    "npub = len(res)\n",
    "print(len(res), f\" publications in the last {days:d} days.\")"
   ]
  },
  {
   "cell_type": "code",
   "execution_count": 11,
   "id": "52ca0208",
   "metadata": {
    "execution": {
     "iopub.execute_input": "2023-10-25T04:10:24.434195Z",
     "iopub.status.busy": "2023-10-25T04:10:24.433525Z",
     "iopub.status.idle": "2023-10-25T04:10:24.440790Z",
     "shell.execute_reply": "2023-10-25T04:10:24.439995Z"
    },
    "papermill": {
     "duration": 0.019094,
     "end_time": "2023-10-25T04:10:24.442628",
     "exception": false,
     "start_time": "2023-10-25T04:10:24.423534",
     "status": "completed"
    },
    "scrolled": false,
    "tags": []
   },
   "outputs": [],
   "source": [
    "def create_carousel(npub=4):\n",
    "    \"\"\" Generate the HTML code for a carousel with `npub` slides \"\"\"\n",
    "    carousel = [\"\"\"  <div class=\"carousel\" \"\"\",\n",
    "                \"\"\"       data-flickity='{ \"autoPlay\": 10000, \"adaptiveHeight\": true, \"resize\": true, \"wrapAround\": true, \"pauseAutoPlayOnHover\": true, \"groupCells\": 1 }' id=\"asyncTypeset\">\"\"\"\n",
    "                ]\n",
    "    \n",
    "    item_str = \"\"\"    <div class=\"carousel-cell\"> <div id=\"slide{k}\" class=\"md_view\">Content {k}</div> </div>\"\"\"\n",
    "    for k in range(1, npub + 1):\n",
    "        carousel.append(item_str.format(k=k))\n",
    "    carousel.append(\"  </div>\")\n",
    "    return '\\n'.join(carousel)\n",
    "\n",
    "def create_grid(npub=4):\n",
    "    \"\"\" Generate the HTML code for a flat grid with `npub` slides \"\"\"\n",
    "    grid = [\"\"\"  <div class=\"grid\"> \"\"\",\n",
    "                ]\n",
    "    \n",
    "    item_str = \"\"\"    <div class=\"grid-item\"> <div id=\"slide{k}\" class=\"md_view\">Content {k}</div> </div>\"\"\"\n",
    "    for k in range(1, npub + 1):\n",
    "        grid.append(item_str.format(k=k))\n",
    "    grid.append(\"  </div>\")\n",
    "    return '\\n'.join(grid)"
   ]
  },
  {
   "cell_type": "code",
   "execution_count": 12,
   "id": "a6eac5b6",
   "metadata": {
    "execution": {
     "iopub.execute_input": "2023-10-25T04:10:24.462127Z",
     "iopub.status.busy": "2023-10-25T04:10:24.461240Z",
     "iopub.status.idle": "2023-10-25T04:10:24.468416Z",
     "shell.execute_reply": "2023-10-25T04:10:24.467635Z"
    },
    "papermill": {
     "duration": 0.018778,
     "end_time": "2023-10-25T04:10:24.470201",
     "exception": false,
     "start_time": "2023-10-25T04:10:24.451423",
     "status": "completed"
    },
    "scrolled": false,
    "tags": []
   },
   "outputs": [],
   "source": [
    "carousel = create_carousel(npub)\n",
    "docs = ', '.join(['\"{0:s}\"'.format(k.split('/')[-1]) for k in res])\n",
    "slides = ', '.join([f'\"slide{k}\"' for k in range(1, npub + 1)])\n",
    "\n",
    "with open(\"daily_template.html\", \"r\") as tpl:\n",
    "    page = tpl.read()\n",
    "    page = page.replace(\"{%-- carousel:s --%}\", carousel)\\\n",
    "               .replace(\"{%-- suptitle:s --%}\",  \"7-day archives\" )\\\n",
    "               .replace(\"{%-- docs:s --%}\", docs)\\\n",
    "               .replace(\"{%-- slides:s --%}\", slides)\n",
    "    \n",
    "with open(\"_build/html/index_7days.html\", 'w') as fout:\n",
    "    fout.write(page)"
   ]
  },
  {
   "cell_type": "code",
   "execution_count": 13,
   "id": "adc1a1ec",
   "metadata": {
    "execution": {
     "iopub.execute_input": "2023-10-25T04:10:24.489693Z",
     "iopub.status.busy": "2023-10-25T04:10:24.488667Z",
     "iopub.status.idle": "2023-10-25T04:10:24.498062Z",
     "shell.execute_reply": "2023-10-25T04:10:24.497281Z"
    },
    "papermill": {
     "duration": 0.020979,
     "end_time": "2023-10-25T04:10:24.499876",
     "exception": false,
     "start_time": "2023-10-25T04:10:24.478897",
     "status": "completed"
    },
    "tags": []
   },
   "outputs": [
    {
     "name": "stdout",
     "output_type": "stream",
     "text": [
      "2  publications in the last day.\n"
     ]
    }
   ],
   "source": [
    "# redo for today\n",
    "days = 1\n",
    "res = list(get_last_n_days(dates, days))\n",
    "npub = len(res)\n",
    "print(len(res), f\" publications in the last day.\")\n",
    "\n",
    "carousel = create_carousel(npub)\n",
    "docs = ', '.join(['\"{0:s}\"'.format(k.split('/')[-1]) for k in res])\n",
    "slides = ', '.join([f'\"slide{k}\"' for k in range(1, npub + 1)])\n",
    "\n",
    "with open(\"daily_template.html\", \"r\") as tpl:\n",
    "    page = tpl.read()\n",
    "    page = page.replace(\"{%-- carousel:s --%}\", carousel)\\\n",
    "               .replace(\"{%-- suptitle:s --%}\",  \"Daily\" )\\\n",
    "               .replace(\"{%-- docs:s --%}\", docs)\\\n",
    "               .replace(\"{%-- slides:s --%}\", slides)\n",
    "    \n",
    "# print(carousel, docs, slides)\n",
    "# print(page)\n",
    "with open(\"_build/html/index_daily.html\", 'w') as fout:\n",
    "    fout.write(page)"
   ]
  },
  {
   "cell_type": "code",
   "execution_count": 14,
   "id": "00eece82",
   "metadata": {
    "execution": {
     "iopub.execute_input": "2023-10-25T04:10:24.519883Z",
     "iopub.status.busy": "2023-10-25T04:10:24.519016Z",
     "iopub.status.idle": "2023-10-25T04:10:24.527942Z",
     "shell.execute_reply": "2023-10-25T04:10:24.527291Z"
    },
    "papermill": {
     "duration": 0.021466,
     "end_time": "2023-10-25T04:10:24.530198",
     "exception": false,
     "start_time": "2023-10-25T04:10:24.508732",
     "status": "completed"
    },
    "scrolled": false,
    "tags": []
   },
   "outputs": [
    {
     "name": "stdout",
     "output_type": "stream",
     "text": [
      "6  6 publications selected.\n"
     ]
    }
   ],
   "source": [
    "# Create the flat grid of the last N papers (fixed number regardless of dates)\n",
    "from itertools import islice \n",
    "\n",
    "npub = 6\n",
    "res = [k[0] for k in (islice(reversed(sorted(dates, key=lambda x: x[1])), 6))]\n",
    "print(len(res), f\" {npub} publications selected.\")\n",
    "\n",
    "grid = create_grid(npub)\n",
    "docs = ', '.join(['\"{0:s}\"'.format(k.split('/')[-1]) for k in res])\n",
    "slides = ', '.join([f'\"slide{k}\"' for k in range(1, npub + 1)])\n",
    "\n",
    "with open(\"grid_template.html\", \"r\") as tpl:\n",
    "    page = tpl.read()\n",
    "    page = page.replace(\"{%-- grid-content:s --%}\", grid)\\\n",
    "               .replace(\"{%-- suptitle:s --%}\",  f\"Last {npub:,d} papers\" )\\\n",
    "               .replace(\"{%-- docs:s --%}\", docs)\\\n",
    "               .replace(\"{%-- slides:s --%}\", slides)\n",
    "    \n",
    "# print(grid, docs, slides)\n",
    "# print(page)\n",
    "with open(\"_build/html/index_npub_grid.html\", 'w') as fout:\n",
    "    fout.write(page)"
   ]
  }
 ],
 "metadata": {
  "kernelspec": {
   "display_name": "Python 3 (ipykernel)",
   "language": "python",
   "name": "python3"
  },
  "language_info": {
   "codemirror_mode": {
    "name": "ipython",
    "version": 3
   },
   "file_extension": ".py",
   "mimetype": "text/x-python",
   "name": "python",
   "nbconvert_exporter": "python",
   "pygments_lexer": "ipython3",
   "version": "3.9.18"
  },
  "papermill": {
   "default_parameters": {},
   "duration": 195.684063,
   "end_time": "2023-10-25T04:10:24.960357",
   "environment_variables": {},
   "exception": null,
   "input_path": "MPIA daily digest.ipynb",
   "output_path": "log.ipynb",
   "parameters": {},
   "start_time": "2023-10-25T04:07:09.276294",
   "version": "2.4.0"
  },
  "vscode": {
   "interpreter": {
    "hash": "aee8b7b246df8f9039afb4144a1f6fd8d2ca17a180786b69acc140d282b71a49"
   }
  },
  "widgets": {
   "application/vnd.jupyter.widget-state+json": {
    "state": {
     "09212cb3b20b48ec9ba887c8032dce51": {
      "model_module": "@jupyter-widgets/base",
      "model_module_version": "2.0.0",
      "model_name": "LayoutModel",
      "state": {
       "_model_module": "@jupyter-widgets/base",
       "_model_module_version": "2.0.0",
       "_model_name": "LayoutModel",
       "_view_count": null,
       "_view_module": "@jupyter-widgets/base",
       "_view_module_version": "2.0.0",
       "_view_name": "LayoutView",
       "align_content": null,
       "align_items": null,
       "align_self": null,
       "border_bottom": null,
       "border_left": null,
       "border_right": null,
       "border_top": null,
       "bottom": null,
       "display": null,
       "flex": null,
       "flex_flow": null,
       "grid_area": null,
       "grid_auto_columns": null,
       "grid_auto_flow": null,
       "grid_auto_rows": null,
       "grid_column": null,
       "grid_gap": null,
       "grid_row": null,
       "grid_template_areas": null,
       "grid_template_columns": null,
       "grid_template_rows": null,
       "height": null,
       "justify_content": null,
       "justify_items": null,
       "left": null,
       "margin": null,
       "max_height": null,
       "max_width": null,
       "min_height": null,
       "min_width": null,
       "object_fit": null,
       "object_position": null,
       "order": null,
       "overflow": null,
       "padding": null,
       "right": null,
       "top": null,
       "visibility": null,
       "width": null
      }
     },
     "3b144b5db5ab4eabb31035072c3d9fd6": {
      "model_module": "@jupyter-widgets/controls",
      "model_module_version": "2.0.0",
      "model_name": "HTMLModel",
      "state": {
       "_dom_classes": [],
       "_model_module": "@jupyter-widgets/controls",
       "_model_module_version": "2.0.0",
       "_model_name": "HTMLModel",
       "_view_count": null,
       "_view_module": "@jupyter-widgets/controls",
       "_view_module_version": "2.0.0",
       "_view_name": "HTMLView",
       "description": "",
       "description_allow_html": false,
       "layout": "IPY_MODEL_78d938ca359a4b25ad72a199c885f5eb",
       "placeholder": "​",
       "style": "IPY_MODEL_b495754cee6c42c0984f1a10eaf17781",
       "tabbable": null,
       "tooltip": null,
       "value": "100%"
      }
     },
     "446c79db83a64448a4bca479c09921af": {
      "model_module": "@jupyter-widgets/controls",
      "model_module_version": "2.0.0",
      "model_name": "HTMLStyleModel",
      "state": {
       "_model_module": "@jupyter-widgets/controls",
       "_model_module_version": "2.0.0",
       "_model_name": "HTMLStyleModel",
       "_view_count": null,
       "_view_module": "@jupyter-widgets/base",
       "_view_module_version": "2.0.0",
       "_view_name": "StyleView",
       "background": null,
       "description_width": "",
       "font_size": null,
       "text_color": null
      }
     },
     "47d2e9d5994642bbbcf9a57af4e8406a": {
      "model_module": "@jupyter-widgets/controls",
      "model_module_version": "2.0.0",
      "model_name": "FloatProgressModel",
      "state": {
       "_dom_classes": [],
       "_model_module": "@jupyter-widgets/controls",
       "_model_module_version": "2.0.0",
       "_model_name": "FloatProgressModel",
       "_view_count": null,
       "_view_module": "@jupyter-widgets/controls",
       "_view_module_version": "2.0.0",
       "_view_name": "ProgressView",
       "bar_style": "success",
       "description": "",
       "description_allow_html": false,
       "layout": "IPY_MODEL_b4bb5fd54f1b4effa9f3756e32cd0655",
       "max": 5.0,
       "min": 0.0,
       "orientation": "horizontal",
       "style": "IPY_MODEL_9a7569db20754cc2ba1facb0802c9dde",
       "tabbable": null,
       "tooltip": null,
       "value": 5.0
      }
     },
     "5c23cb352f344692af69d59a28f4806b": {
      "model_module": "@jupyter-widgets/controls",
      "model_module_version": "2.0.0",
      "model_name": "HBoxModel",
      "state": {
       "_dom_classes": [],
       "_model_module": "@jupyter-widgets/controls",
       "_model_module_version": "2.0.0",
       "_model_name": "HBoxModel",
       "_view_count": null,
       "_view_module": "@jupyter-widgets/controls",
       "_view_module_version": "2.0.0",
       "_view_name": "HBoxView",
       "box_style": "",
       "children": [
        "IPY_MODEL_3b144b5db5ab4eabb31035072c3d9fd6",
        "IPY_MODEL_47d2e9d5994642bbbcf9a57af4e8406a",
        "IPY_MODEL_c699bb1a7c2642debc5bfe57afa1ef3b"
       ],
       "layout": "IPY_MODEL_09212cb3b20b48ec9ba887c8032dce51",
       "tabbable": null,
       "tooltip": null
      }
     },
     "78d938ca359a4b25ad72a199c885f5eb": {
      "model_module": "@jupyter-widgets/base",
      "model_module_version": "2.0.0",
      "model_name": "LayoutModel",
      "state": {
       "_model_module": "@jupyter-widgets/base",
       "_model_module_version": "2.0.0",
       "_model_name": "LayoutModel",
       "_view_count": null,
       "_view_module": "@jupyter-widgets/base",
       "_view_module_version": "2.0.0",
       "_view_name": "LayoutView",
       "align_content": null,
       "align_items": null,
       "align_self": null,
       "border_bottom": null,
       "border_left": null,
       "border_right": null,
       "border_top": null,
       "bottom": null,
       "display": null,
       "flex": null,
       "flex_flow": null,
       "grid_area": null,
       "grid_auto_columns": null,
       "grid_auto_flow": null,
       "grid_auto_rows": null,
       "grid_column": null,
       "grid_gap": null,
       "grid_row": null,
       "grid_template_areas": null,
       "grid_template_columns": null,
       "grid_template_rows": null,
       "height": null,
       "justify_content": null,
       "justify_items": null,
       "left": null,
       "margin": null,
       "max_height": null,
       "max_width": null,
       "min_height": null,
       "min_width": null,
       "object_fit": null,
       "object_position": null,
       "order": null,
       "overflow": null,
       "padding": null,
       "right": null,
       "top": null,
       "visibility": null,
       "width": null
      }
     },
     "9a7569db20754cc2ba1facb0802c9dde": {
      "model_module": "@jupyter-widgets/controls",
      "model_module_version": "2.0.0",
      "model_name": "ProgressStyleModel",
      "state": {
       "_model_module": "@jupyter-widgets/controls",
       "_model_module_version": "2.0.0",
       "_model_name": "ProgressStyleModel",
       "_view_count": null,
       "_view_module": "@jupyter-widgets/base",
       "_view_module_version": "2.0.0",
       "_view_name": "StyleView",
       "bar_color": null,
       "description_width": ""
      }
     },
     "b495754cee6c42c0984f1a10eaf17781": {
      "model_module": "@jupyter-widgets/controls",
      "model_module_version": "2.0.0",
      "model_name": "HTMLStyleModel",
      "state": {
       "_model_module": "@jupyter-widgets/controls",
       "_model_module_version": "2.0.0",
       "_model_name": "HTMLStyleModel",
       "_view_count": null,
       "_view_module": "@jupyter-widgets/base",
       "_view_module_version": "2.0.0",
       "_view_name": "StyleView",
       "background": null,
       "description_width": "",
       "font_size": null,
       "text_color": null
      }
     },
     "b4bb5fd54f1b4effa9f3756e32cd0655": {
      "model_module": "@jupyter-widgets/base",
      "model_module_version": "2.0.0",
      "model_name": "LayoutModel",
      "state": {
       "_model_module": "@jupyter-widgets/base",
       "_model_module_version": "2.0.0",
       "_model_name": "LayoutModel",
       "_view_count": null,
       "_view_module": "@jupyter-widgets/base",
       "_view_module_version": "2.0.0",
       "_view_name": "LayoutView",
       "align_content": null,
       "align_items": null,
       "align_self": null,
       "border_bottom": null,
       "border_left": null,
       "border_right": null,
       "border_top": null,
       "bottom": null,
       "display": null,
       "flex": null,
       "flex_flow": null,
       "grid_area": null,
       "grid_auto_columns": null,
       "grid_auto_flow": null,
       "grid_auto_rows": null,
       "grid_column": null,
       "grid_gap": null,
       "grid_row": null,
       "grid_template_areas": null,
       "grid_template_columns": null,
       "grid_template_rows": null,
       "height": null,
       "justify_content": null,
       "justify_items": null,
       "left": null,
       "margin": null,
       "max_height": null,
       "max_width": null,
       "min_height": null,
       "min_width": null,
       "object_fit": null,
       "object_position": null,
       "order": null,
       "overflow": null,
       "padding": null,
       "right": null,
       "top": null,
       "visibility": null,
       "width": null
      }
     },
     "c699bb1a7c2642debc5bfe57afa1ef3b": {
      "model_module": "@jupyter-widgets/controls",
      "model_module_version": "2.0.0",
      "model_name": "HTMLModel",
      "state": {
       "_dom_classes": [],
       "_model_module": "@jupyter-widgets/controls",
       "_model_module_version": "2.0.0",
       "_model_name": "HTMLModel",
       "_view_count": null,
       "_view_module": "@jupyter-widgets/controls",
       "_view_module_version": "2.0.0",
       "_view_name": "HTMLView",
       "description": "",
       "description_allow_html": false,
       "layout": "IPY_MODEL_c72fb8123a6c4735a3f36bd9ae0a9a03",
       "placeholder": "​",
       "style": "IPY_MODEL_446c79db83a64448a4bca479c09921af",
       "tabbable": null,
       "tooltip": null,
       "value": " 5/5 [02:51&lt;00:00, 59.35s/it]"
      }
     },
     "c72fb8123a6c4735a3f36bd9ae0a9a03": {
      "model_module": "@jupyter-widgets/base",
      "model_module_version": "2.0.0",
      "model_name": "LayoutModel",
      "state": {
       "_model_module": "@jupyter-widgets/base",
       "_model_module_version": "2.0.0",
       "_model_name": "LayoutModel",
       "_view_count": null,
       "_view_module": "@jupyter-widgets/base",
       "_view_module_version": "2.0.0",
       "_view_name": "LayoutView",
       "align_content": null,
       "align_items": null,
       "align_self": null,
       "border_bottom": null,
       "border_left": null,
       "border_right": null,
       "border_top": null,
       "bottom": null,
       "display": null,
       "flex": null,
       "flex_flow": null,
       "grid_area": null,
       "grid_auto_columns": null,
       "grid_auto_flow": null,
       "grid_auto_rows": null,
       "grid_column": null,
       "grid_gap": null,
       "grid_row": null,
       "grid_template_areas": null,
       "grid_template_columns": null,
       "grid_template_rows": null,
       "height": null,
       "justify_content": null,
       "justify_items": null,
       "left": null,
       "margin": null,
       "max_height": null,
       "max_width": null,
       "min_height": null,
       "min_width": null,
       "object_fit": null,
       "object_position": null,
       "order": null,
       "overflow": null,
       "padding": null,
       "right": null,
       "top": null,
       "visibility": null,
       "width": null
      }
     }
    },
    "version_major": 2,
    "version_minor": 0
   }
  }
 },
 "nbformat": 4,
 "nbformat_minor": 5
}