{
 "cells": [
  {
   "cell_type": "markdown",
   "id": "92bcb855",
   "metadata": {
    "papermill": {
     "duration": 0.006644,
     "end_time": "2022-09-16T05:19:48.390547",
     "exception": false,
     "start_time": "2022-09-16T05:19:48.383903",
     "status": "completed"
    },
    "tags": []
   },
   "source": [
    "# MPIA Arxiv on Deck 2\n",
    "\n",
    "Contains the steps to produce the paper extractions."
   ]
  },
  {
   "cell_type": "code",
   "execution_count": 1,
   "id": "3a0d6e11",
   "metadata": {
    "execution": {
     "iopub.execute_input": "2022-09-16T05:19:48.402357Z",
     "iopub.status.busy": "2022-09-16T05:19:48.401523Z",
     "iopub.status.idle": "2022-09-16T05:19:48.592610Z",
     "shell.execute_reply": "2022-09-16T05:19:48.591317Z"
    },
    "papermill": {
     "duration": 0.200534,
     "end_time": "2022-09-16T05:19:48.595959",
     "exception": false,
     "start_time": "2022-09-16T05:19:48.395425",
     "status": "completed"
    },
    "tags": []
   },
   "outputs": [],
   "source": [
    "# Imports\n",
    "import os\n",
    "from IPython.display import Markdown, display\n",
    "from tqdm.notebook import tqdm\n",
    "import warnings\n",
    "from PIL import Image \n",
    "\n",
    "# requires arxiv_on_deck_2\n",
    "\n",
    "from arxiv_on_deck_2.arxiv2 import (get_new_papers, \n",
    "                                    get_paper_from_identifier,\n",
    "                                    retrieve_document_source, \n",
    "                                    get_markdown_badge)\n",
    "from arxiv_on_deck_2 import (latex, \n",
    "                             mpia,\n",
    "                             highlight_authors_in_list)\n",
    "\n",
    "# Sometimes images are really big\n",
    "Image.MAX_IMAGE_PIXELS = 1000000000 "
   ]
  },
  {
   "cell_type": "code",
   "execution_count": 2,
   "id": "22aa9d44",
   "metadata": {
    "execution": {
     "iopub.execute_input": "2022-09-16T05:19:48.607501Z",
     "iopub.status.busy": "2022-09-16T05:19:48.607222Z",
     "iopub.status.idle": "2022-09-16T05:19:48.614063Z",
     "shell.execute_reply": "2022-09-16T05:19:48.613274Z"
    },
    "papermill": {
     "duration": 0.015099,
     "end_time": "2022-09-16T05:19:48.615809",
     "exception": false,
     "start_time": "2022-09-16T05:19:48.600710",
     "status": "completed"
    },
    "tags": []
   },
   "outputs": [],
   "source": [
    "# Some useful definitions.\n",
    "\n",
    "class AffiliationWarning(UserWarning):\n",
    "    pass\n",
    "\n",
    "class AffiliationError(RuntimeError):\n",
    "    pass\n",
    "\n",
    "def validation(source: str):\n",
    "    \"\"\"Raises error paper during parsing of source file\n",
    "    \n",
    "    Allows checks before parsing TeX code.\n",
    "    \n",
    "    Raises AffiliationWarning\n",
    "    \"\"\"\n",
    "    check = mpia.affiliation_verifications(source, verbose=True)\n",
    "    if check is not True:\n",
    "        raise AffiliationError(\"mpia.affiliation_verifications: \" + check)\n",
    "\n",
    "        \n",
    "warnings.simplefilter('always', AffiliationWarning)"
   ]
  },
  {
   "cell_type": "code",
   "execution_count": 3,
   "id": "14622700",
   "metadata": {
    "execution": {
     "iopub.execute_input": "2022-09-16T05:19:48.625972Z",
     "iopub.status.busy": "2022-09-16T05:19:48.625348Z",
     "iopub.status.idle": "2022-09-16T05:19:48.629711Z",
     "shell.execute_reply": "2022-09-16T05:19:48.629052Z"
    },
    "papermill": {
     "duration": 0.011804,
     "end_time": "2022-09-16T05:19:48.631756",
     "exception": false,
     "start_time": "2022-09-16T05:19:48.619952",
     "status": "completed"
    },
    "tags": []
   },
   "outputs": [],
   "source": [
    "# additional CSS to consider. \n",
    "# TODO: Current into each exported file. \n",
    "#       This should be set once into the webpages directly.\n",
    "#       With only the class/id definitions in the .md files.\n",
    "\n",
    "debug_html = \"\"\"\n",
    "<style>\n",
    "#wrap{ overflow:auto; }\n",
    "#fig1{ background:yellow; width:100%; float:left; padding:5px;  }\n",
    "#fig2{ background:red; width:50%; float:left; clear:left; padding:5px;  }\n",
    "#fig3{ background:green; width:50%; float:left; padding:5px;   }\n",
    ".macros{ background:yellow; visibility:visible;}\n",
    "h1 {margin: 0 0 0 0;}\n",
    "mark {background-color:#fff3b6;}\n",
    "img {object-fit:contain; max-height:250px; display:inline-block; text-align: center;}\n",
    "</style>\n",
    "\"\"\" \n",
    "html = \"\"\"\n",
    "<style>\n",
    "#wrap{ overflow:auto; }\n",
    "#fig1{ width:100%; float:left; padding: 5px;  }\n",
    "#fig2{ width:50%; float:left; clear:left; padding: 5px;  }\n",
    "#fig3{ width:50%; float:left; padding: 5px;  }\n",
    ".macros{ visibility:hidden; height:0px; }\n",
    "h1 {margin: 0em 0 0 0;}\n",
    "mark {background-color:#fff3b6;}\n",
    "img {object-fit:contain; max-height:250px; display:inline-block; text-align: center;}\n",
    "</style>\n",
    "\"\"\""
   ]
  },
  {
   "cell_type": "markdown",
   "id": "14bd6310",
   "metadata": {
    "papermill": {
     "duration": 0.004415,
     "end_time": "2022-09-16T05:19:48.640598",
     "exception": false,
     "start_time": "2022-09-16T05:19:48.636183",
     "status": "completed"
    },
    "tags": []
   },
   "source": [
    "## get list of arxiv paper candidates\n",
    "\n",
    "We use the MPIA mitarbeiter list webpage from mpia.de to get author names\n",
    "We then get all new papers from Arxiv and match authors"
   ]
  },
  {
   "cell_type": "code",
   "execution_count": 4,
   "id": "2645e73a",
   "metadata": {
    "execution": {
     "iopub.execute_input": "2022-09-16T05:19:48.651241Z",
     "iopub.status.busy": "2022-09-16T05:19:48.650417Z",
     "iopub.status.idle": "2022-09-16T05:20:13.375933Z",
     "shell.execute_reply": "2022-09-16T05:20:13.374772Z"
    },
    "papermill": {
     "duration": 24.733304,
     "end_time": "2022-09-16T05:20:13.378247",
     "exception": false,
     "start_time": "2022-09-16T05:19:48.644943",
     "status": "completed"
    },
    "tags": []
   },
   "outputs": [
    {
     "name": "stdout",
     "output_type": "stream",
     "text": [
      "Arxiv has 71 new papers today\n",
      "          43 with possible author matches\n"
     ]
    }
   ],
   "source": [
    "# get list from MPIA website\n",
    "# it automatically filters identified non-scientists :func:`mpia.filter_non_scientists`\n",
    "mpia_authors = mpia.get_mpia_mitarbeiter_list()\n",
    "new_papers = get_new_papers()\n",
    "# add manual references\n",
    "add_paper_refs = []\n",
    "new_papers.extend([get_paper_from_identifier(k) for k in add_paper_refs])\n",
    "\n",
    "# select only papers with matching author names and highlight authors\n",
    "hl_list = [k[0] for k in mpia_authors]\n",
    "\n",
    "candidates = []\n",
    "for paperk in new_papers:\n",
    "    hl_authors = highlight_authors_in_list(paperk['authors'], hl_list)\n",
    "    matches = [(hl, orig) for hl, orig in zip(hl_authors, paperk['authors']) if 'mark' in hl]\n",
    "    paperk['authors'] = hl_authors\n",
    "    if matches:\n",
    "        candidates.append(paperk)\n",
    "print(\"\"\"Arxiv has {0:,d} new papers today\"\"\".format(len(new_papers)))        \n",
    "print(\"\"\"          {0:,d} with possible author matches\"\"\".format(len(candidates)))"
   ]
  },
  {
   "cell_type": "markdown",
   "id": "3543b34a",
   "metadata": {
    "papermill": {
     "duration": 0.004833,
     "end_time": "2022-09-16T05:20:13.389571",
     "exception": false,
     "start_time": "2022-09-16T05:20:13.384738",
     "status": "completed"
    },
    "tags": []
   },
   "source": [
    "# Parse sources and generate relevant outputs\n",
    "\n",
    "From the candidates, we do the following steps:\n",
    "* get their tarball from ArXiv (and extract data)\n",
    "* find the main .tex file: find one with \\documentclass{...} (sometimes it's non trivial)\n",
    "* Check affiliations with :func:`validation`, which uses :func:`mpia.affiliation_verifications`\n",
    "* If passing the affiliations: we parse the .tex source\n",
    "   * inject sub-documents into the main (flatten the main document)\n",
    "   * parse structure, extract information (title, abstract, authors, figures...)\n",
    "   * handles `\\graphicspath` if provided\n",
    "* Generate the .md document."
   ]
  },
  {
   "cell_type": "code",
   "execution_count": 5,
   "id": "9576b79e",
   "metadata": {
    "execution": {
     "iopub.execute_input": "2022-09-16T05:20:13.401136Z",
     "iopub.status.busy": "2022-09-16T05:20:13.400372Z",
     "iopub.status.idle": "2022-09-16T05:25:14.500363Z",
     "shell.execute_reply": "2022-09-16T05:25:14.499653Z"
    },
    "papermill": {
     "duration": 301.119239,
     "end_time": "2022-09-16T05:25:14.513758",
     "exception": false,
     "start_time": "2022-09-16T05:20:13.394519",
     "status": "completed"
    },
    "scrolled": false,
    "tags": []
   },
   "outputs": [
    {
     "data": {
      "application/vnd.jupyter.widget-view+json": {
       "model_id": "acadad330ee0413da48bd46d239e0929",
       "version_major": 2,
       "version_minor": 0
      },
      "text/plain": [
       "  0%|          | 0/42 [00:00<?, ?it/s]"
      ]
     },
     "metadata": {},
     "output_type": "display_data"
    },
    {
     "name": "stdout",
     "output_type": "stream",
     "text": [
      "Retrieving document from  https://arxiv.org/e-print/2209.06829\n"
     ]
    },
    {
     "name": "stdout",
     "output_type": "stream",
     "text": [
      "extracting tarball to tmp_2209.06829..."
     ]
    },
    {
     "name": "stdout",
     "output_type": "stream",
     "text": [
      " done.\n",
      "Retrieving document from  https://arxiv.org/e-print/2209.06830\n"
     ]
    },
    {
     "name": "stdout",
     "output_type": "stream",
     "text": [
      "extracting tarball to tmp_2209.06830..."
     ]
    },
    {
     "name": "stdout",
     "output_type": "stream",
     "text": [
      " done.\n",
      "Retrieving document from  https://arxiv.org/e-print/2209.06833\n"
     ]
    },
    {
     "name": "stdout",
     "output_type": "stream",
     "text": [
      "extracting tarball to tmp_2209.06833..."
     ]
    },
    {
     "name": "stdout",
     "output_type": "stream",
     "text": [
      " done.\n"
     ]
    },
    {
     "name": "stderr",
     "output_type": "stream",
     "text": [
      "/opt/hostedtoolcache/Python/3.9.13/x64/lib/python3.9/site-packages/arxiv_on_deck_2/latex.py:366: LatexWarning: Error parsing the document directly. Trying to recover.\n",
      "  warnings.warn(LatexWarning(f\"Error parsing the document directly. Trying to recover.\"))\n"
     ]
    },
    {
     "name": "stdout",
     "output_type": "stream",
     "text": [
      "✔ → 0:header\n",
      "  ↳ 5639:\\section{Introduction}\n",
      "✔ → 5639:\\section{Introduction}\n",
      "  ↳ 11471:\\section{Discovery}\n"
     ]
    },
    {
     "name": "stdout",
     "output_type": "stream",
     "text": [
      "✔ → 11471:\\section{Discovery}\n",
      "  ↳ 18389:\\section{Radial velocities}\n",
      "✔ → 18389:\\section{Radial velocities}\n",
      "  ↳ 22542:\\section{Companion mass}\n"
     ]
    },
    {
     "name": "stdout",
     "output_type": "stream",
     "text": [
      "✘ → 22542:\\section{Companion mass}\n",
      "  ↳ 40782:\\section{Analysis of the G star spectrum}\n"
     ]
    },
    {
     "name": "stdout",
     "output_type": "stream",
     "text": [
      "✔ → 40782:\\section{Analysis of the G star spectrum}\n",
      "  ↳ 53230:\\section{Galactic orbit}\n",
      "✔ → 53230:\\section{Galactic orbit}\n",
      "  ↳ 54606:\\section{X-ray and radio upper limits}\n"
     ]
    },
    {
     "name": "stdout",
     "output_type": "stream",
     "text": [
      "✘ → 54606:\\section{X-ray and radio upper limits}\n",
      "  ↳ 58976:\\section{Discussion}\n"
     ]
    },
    {
     "name": "stdout",
     "output_type": "stream",
     "text": [
      "✘ → 58976:\\section{Discussion}\n",
      "  ↳ 94519:\\section{How many similar objects exist?}\n"
     ]
    },
    {
     "name": "stdout",
     "output_type": "stream",
     "text": [
      "✔ → 94519:\\section{How many similar objects exist?}\n",
      "  ↳ 115080:\\section{Summary and conclusions}\n"
     ]
    },
    {
     "name": "stdout",
     "output_type": "stream",
     "text": [
      "✔ → 115080:\\section{Summary and conclusions}\n",
      "  ↳ 172924:\\section{Observations and data reduction}\n"
     ]
    },
    {
     "name": "stdout",
     "output_type": "stream",
     "text": [
      "✔ → 172924:\\section{Observations and data reduction}\n",
      "  ↳ 178865:\\section{Gaia observations}\n",
      "✔ → 178865:\\section{Gaia observations}\n",
      "  ↳ 182071:\\section{Comparison of the astrometric and RV solutions}\n",
      "✔ → 182071:\\section{Comparison of the astrometric and RV solutions}\n",
      "  ↳ 184388:\\section{Radial velocities}\n"
     ]
    },
    {
     "name": "stdout",
     "output_type": "stream",
     "text": [
      "✔ → 184388:\\section{Radial velocities}\n",
      "  ↳ 186851:\\section{Other candidates}\n"
     ]
    },
    {
     "name": "stdout",
     "output_type": "stream",
     "text": [
      "✔ → 186851:\\section{Other candidates}\n",
      "  ↳ 196002:\\section{HIRES Cannon labels}\n",
      "✔ → 196002:\\section{HIRES Cannon labels}\n",
      "  ↳ 197759:\\section{Dependence of Gaia astrometric uncertainties on observables}\n"
     ]
    },
    {
     "name": "stdout",
     "output_type": "stream",
     "text": [
      "✔ → 197759:\\section{Dependence of Gaia astrometric uncertainties on observables}\n",
      "  ↳ 202439:end\n"
     ]
    },
    {
     "name": "stdout",
     "output_type": "stream",
     "text": [
      "Retrieving document from  https://arxiv.org/e-print/2209.06840\n"
     ]
    },
    {
     "name": "stdout",
     "output_type": "stream",
     "text": [
      "extracting tarball to tmp_2209.06840..."
     ]
    },
    {
     "name": "stdout",
     "output_type": "stream",
     "text": [
      " done.\n",
      "Retrieving document from  https://arxiv.org/e-print/2209.06843\n"
     ]
    },
    {
     "name": "stderr",
     "output_type": "stream",
     "text": [
      "/opt/hostedtoolcache/Python/3.9.13/x64/lib/python3.9/site-packages/IPython/core/interactiveshell.py:3378: LatexWarning: Multiple tex files.\n",
      "\n",
      "  exec(code_obj, self.user_global_ns, self.user_ns)\n",
      "/opt/hostedtoolcache/Python/3.9.13/x64/lib/python3.9/site-packages/IPython/core/interactiveshell.py:3378: LatexWarning: Found documentclass in tmp_2209.06840/paper.tex\n",
      "\n",
      "  exec(code_obj, self.user_global_ns, self.user_ns)\n",
      "/opt/hostedtoolcache/Python/3.9.13/x64/lib/python3.9/site-packages/arxiv_on_deck_2/latex.py:292: LatexWarning: Latex injecting: 'definitions' from 'tmp_2209.06840/definitions.tex'\n",
      "  warnings.warn(LatexWarning(f\"Latex injecting: '{ext}' from '{subsource}'\"))\n"
     ]
    },
    {
     "name": "stdout",
     "output_type": "stream",
     "text": [
      "extracting tarball to tmp_2209.06843..."
     ]
    },
    {
     "name": "stdout",
     "output_type": "stream",
     "text": [
      " done.\n",
      "Retrieving document from  https://arxiv.org/e-print/2209.06851\n"
     ]
    },
    {
     "name": "stdout",
     "output_type": "stream",
     "text": [
      "extracting tarball to tmp_2209.06851..."
     ]
    },
    {
     "name": "stdout",
     "output_type": "stream",
     "text": [
      " done.\n",
      "Retrieving document from  https://arxiv.org/e-print/2209.06873\n"
     ]
    },
    {
     "name": "stdout",
     "output_type": "stream",
     "text": [
      "extracting tarball to tmp_2209.06873..."
     ]
    },
    {
     "name": "stdout",
     "output_type": "stream",
     "text": [
      " done.\n",
      "Retrieving document from  https://arxiv.org/e-print/2209.06895\n"
     ]
    },
    {
     "name": "stderr",
     "output_type": "stream",
     "text": [
      "/opt/hostedtoolcache/Python/3.9.13/x64/lib/python3.9/site-packages/IPython/core/interactiveshell.py:3378: LatexWarning: Multiple tex files.\n",
      "\n",
      "  exec(code_obj, self.user_global_ns, self.user_ns)\n",
      "/opt/hostedtoolcache/Python/3.9.13/x64/lib/python3.9/site-packages/IPython/core/interactiveshell.py:3378: LatexWarning: Found documentclass in tmp_2209.06873/template.tex\n",
      "\n",
      "  exec(code_obj, self.user_global_ns, self.user_ns)\n"
     ]
    },
    {
     "name": "stdout",
     "output_type": "stream",
     "text": [
      "extracting tarball to tmp_2209.06895..."
     ]
    },
    {
     "name": "stdout",
     "output_type": "stream",
     "text": [
      " done.\n",
      "Retrieving document from  https://arxiv.org/e-print/2209.06897\n"
     ]
    },
    {
     "name": "stderr",
     "output_type": "stream",
     "text": [
      "/opt/hostedtoolcache/Python/3.9.13/x64/lib/python3.9/site-packages/IPython/core/interactiveshell.py:3378: LatexWarning: Multiple tex files.\n",
      "\n",
      "  exec(code_obj, self.user_global_ns, self.user_ns)\n",
      "/opt/hostedtoolcache/Python/3.9.13/x64/lib/python3.9/site-packages/IPython/core/interactiveshell.py:3378: LatexWarning: Found documentclass in tmp_2209.06895/main.tex\n",
      "\n",
      "  exec(code_obj, self.user_global_ns, self.user_ns)\n",
      "/opt/hostedtoolcache/Python/3.9.13/x64/lib/python3.9/site-packages/arxiv_on_deck_2/latex.py:292: LatexWarning: Latex injecting: 'snowbird_auth.tex' from 'tmp_2209.06895/snowbird_auth.tex'\n",
      "  warnings.warn(LatexWarning(f\"Latex injecting: '{ext}' from '{subsource}'\"))\n"
     ]
    },
    {
     "name": "stdout",
     "output_type": "stream",
     "text": [
      "extracting tarball to tmp_2209.06897..."
     ]
    },
    {
     "name": "stdout",
     "output_type": "stream",
     "text": [
      " done.\n",
      "Retrieving document from  https://arxiv.org/e-print/2209.06929\n"
     ]
    },
    {
     "name": "stdout",
     "output_type": "stream",
     "text": [
      "extracting tarball to tmp_2209.06929..."
     ]
    },
    {
     "name": "stdout",
     "output_type": "stream",
     "text": [
      " done.\n",
      "Retrieving document from  https://arxiv.org/e-print/2209.06937\n"
     ]
    },
    {
     "name": "stdout",
     "output_type": "stream",
     "text": [
      "extracting tarball to tmp_2209.06937..."
     ]
    },
    {
     "name": "stdout",
     "output_type": "stream",
     "text": [
      " done.\n",
      "Retrieving document from  https://arxiv.org/e-print/2209.06958\n"
     ]
    },
    {
     "name": "stdout",
     "output_type": "stream",
     "text": [
      "extracting tarball to tmp_2209.06958..."
     ]
    },
    {
     "name": "stdout",
     "output_type": "stream",
     "text": [
      " done.\n",
      "Retrieving document from  https://arxiv.org/e-print/2209.07002\n"
     ]
    },
    {
     "name": "stderr",
     "output_type": "stream",
     "text": [
      "/opt/hostedtoolcache/Python/3.9.13/x64/lib/python3.9/site-packages/IPython/core/interactiveshell.py:3378: LatexWarning: Multiple tex files.\n",
      "\n",
      "  exec(code_obj, self.user_global_ns, self.user_ns)\n",
      "/opt/hostedtoolcache/Python/3.9.13/x64/lib/python3.9/site-packages/IPython/core/interactiveshell.py:3378: LatexWarning: Found documentclass in tmp_2209.06958/main.tex\n",
      "\n",
      "  exec(code_obj, self.user_global_ns, self.user_ns)\n",
      "/opt/hostedtoolcache/Python/3.9.13/x64/lib/python3.9/site-packages/arxiv_on_deck_2/latex.py:292: LatexWarning: Latex injecting: 'keck_proposal_table.tex' from 'tmp_2209.06958/keck_proposal_table.tex'\n",
      "  warnings.warn(LatexWarning(f\"Latex injecting: '{ext}' from '{subsource}'\"))\n",
      "/opt/hostedtoolcache/Python/3.9.13/x64/lib/python3.9/site-packages/arxiv_on_deck_2/latex.py:292: LatexWarning: Latex injecting: 'time_series_table.tex' from 'tmp_2209.06958/time_series_table.tex'\n",
      "  warnings.warn(LatexWarning(f\"Latex injecting: '{ext}' from '{subsource}'\"))\n",
      "/opt/hostedtoolcache/Python/3.9.13/x64/lib/python3.9/site-packages/arxiv_on_deck_2/latex.py:292: LatexWarning: Latex injecting: 'dg_stellar_table.tex' from 'tmp_2209.06958/dg_stellar_table.tex'\n",
      "  warnings.warn(LatexWarning(f\"Latex injecting: '{ext}' from '{subsource}'\"))\n",
      "/opt/hostedtoolcache/Python/3.9.13/x64/lib/python3.9/site-packages/arxiv_on_deck_2/latex.py:292: LatexWarning: Latex injecting: 'resolved_table.tex' from 'tmp_2209.06958/resolved_table.tex'\n",
      "  warnings.warn(LatexWarning(f\"Latex injecting: '{ext}' from '{subsource}'\"))\n",
      "/opt/hostedtoolcache/Python/3.9.13/x64/lib/python3.9/site-packages/arxiv_on_deck_2/latex.py:292: LatexWarning: Latex injecting: 'dg_transit_table.tex' from 'tmp_2209.06958/dg_transit_table.tex'\n",
      "  warnings.warn(LatexWarning(f\"Latex injecting: '{ext}' from '{subsource}'\"))\n",
      "/opt/hostedtoolcache/Python/3.9.13/x64/lib/python3.9/site-packages/arxiv_on_deck_2/latex.py:292: LatexWarning: Latex injecting: 'cuts_table.tex' from 'tmp_2209.06958/cuts_table.tex'\n",
      "  warnings.warn(LatexWarning(f\"Latex injecting: '{ext}' from '{subsource}'\"))\n",
      "/opt/hostedtoolcache/Python/3.9.13/x64/lib/python3.9/site-packages/arxiv_on_deck_2/latex.py:292: LatexWarning: Latex injecting: 'variables' from 'tmp_2209.06958/variables.tex'\n",
      "  warnings.warn(LatexWarning(f\"Latex injecting: '{ext}' from '{subsource}'\"))\n"
     ]
    },
    {
     "name": "stdout",
     "output_type": "stream",
     "text": [
      "extracting tarball to tmp_2209.07002..."
     ]
    },
    {
     "name": "stdout",
     "output_type": "stream",
     "text": [
      " done.\n",
      "Retrieving document from  https://arxiv.org/e-print/2209.07019\n"
     ]
    },
    {
     "name": "stderr",
     "output_type": "stream",
     "text": [
      "/opt/hostedtoolcache/Python/3.9.13/x64/lib/python3.9/site-packages/IPython/core/interactiveshell.py:3378: LatexWarning: Multiple tex files.\n",
      "\n",
      "  exec(code_obj, self.user_global_ns, self.user_ns)\n",
      "/opt/hostedtoolcache/Python/3.9.13/x64/lib/python3.9/site-packages/IPython/core/interactiveshell.py:3378: LatexWarning: Found documentclass in tmp_2209.07002/S5_0716+714.tex\n",
      "\n",
      "  exec(code_obj, self.user_global_ns, self.user_ns)\n"
     ]
    },
    {
     "name": "stdout",
     "output_type": "stream",
     "text": [
      "extracting tarball to tmp_2209.07019... done.\n",
      "Retrieving document from  https://arxiv.org/e-print/2209.07071\n"
     ]
    },
    {
     "name": "stdout",
     "output_type": "stream",
     "text": [
      "extracting tarball to tmp_2209.07071..."
     ]
    },
    {
     "name": "stdout",
     "output_type": "stream",
     "text": [
      " done.\n",
      "Retrieving document from  https://arxiv.org/e-print/2209.07087\n"
     ]
    },
    {
     "name": "stderr",
     "output_type": "stream",
     "text": [
      "/opt/hostedtoolcache/Python/3.9.13/x64/lib/python3.9/site-packages/IPython/core/interactiveshell.py:3378: LatexWarning: Multiple tex files.\n",
      "\n",
      "  exec(code_obj, self.user_global_ns, self.user_ns)\n",
      "/opt/hostedtoolcache/Python/3.9.13/x64/lib/python3.9/site-packages/IPython/core/interactiveshell.py:3378: LatexWarning: Found documentclass in tmp_2209.07071/natbib.tex\n",
      "\n",
      "  exec(code_obj, self.user_global_ns, self.user_ns)\n"
     ]
    },
    {
     "name": "stdout",
     "output_type": "stream",
     "text": [
      "extracting tarball to tmp_2209.07087..."
     ]
    },
    {
     "name": "stdout",
     "output_type": "stream",
     "text": [
      " done.\n",
      "Retrieving document from  https://arxiv.org/e-print/2209.07155\n"
     ]
    },
    {
     "name": "stderr",
     "output_type": "stream",
     "text": [
      "/opt/hostedtoolcache/Python/3.9.13/x64/lib/python3.9/site-packages/IPython/core/interactiveshell.py:3378: LatexWarning: Multiple tex files.\n",
      "\n",
      "  exec(code_obj, self.user_global_ns, self.user_ns)\n",
      "/opt/hostedtoolcache/Python/3.9.13/x64/lib/python3.9/site-packages/IPython/core/interactiveshell.py:3378: LatexWarning: Found documentclass in tmp_2209.07087/variableELG.tex\n",
      "\n",
      "  exec(code_obj, self.user_global_ns, self.user_ns)\n",
      "/opt/hostedtoolcache/Python/3.9.13/x64/lib/python3.9/site-packages/arxiv_on_deck_2/latex.py:292: LatexWarning: Latex injecting: 'table/observation_date' from 'tmp_2209.07087/variable ELG/table/observation_date.tex'\n",
      "  warnings.warn(LatexWarning(f\"Latex injecting: '{ext}' from '{subsource}'\"))\n",
      "/opt/hostedtoolcache/Python/3.9.13/x64/lib/python3.9/site-packages/arxiv_on_deck_2/latex.py:292: LatexWarning: Latex injecting: 'table/observation_date' from 'tmp_2209.07087/table/observation_date.tex'\n",
      "  warnings.warn(LatexWarning(f\"Latex injecting: '{ext}' from '{subsource}'\"))\n",
      "/opt/hostedtoolcache/Python/3.9.13/x64/lib/python3.9/site-packages/arxiv_on_deck_2/latex.py:292: LatexWarning: Latex injecting: 'table/table_sextractor_para' from 'tmp_2209.07087/variable ELG/table/table_sextractor_para.tex'\n",
      "  warnings.warn(LatexWarning(f\"Latex injecting: '{ext}' from '{subsource}'\"))\n",
      "/opt/hostedtoolcache/Python/3.9.13/x64/lib/python3.9/site-packages/arxiv_on_deck_2/latex.py:292: LatexWarning: Latex injecting: 'table/table_sextractor_para' from 'tmp_2209.07087/table/table_sextractor_para.tex'\n",
      "  warnings.warn(LatexWarning(f\"Latex injecting: '{ext}' from '{subsource}'\"))\n",
      "/opt/hostedtoolcache/Python/3.9.13/x64/lib/python3.9/site-packages/arxiv_on_deck_2/latex.py:292: LatexWarning: Latex injecting: 'latex_morphology' from 'tmp_2209.07087/latex_morphology.tex'\n",
      "  warnings.warn(LatexWarning(f\"Latex injecting: '{ext}' from '{subsource}'\"))\n",
      "/opt/hostedtoolcache/Python/3.9.13/x64/lib/python3.9/site-packages/arxiv_on_deck_2/latex.py:292: LatexWarning: Latex injecting: 'latex_morphology' from 'tmp_2209.07087/variable ELG/latex_morphology.tex'\n",
      "  warnings.warn(LatexWarning(f\"Latex injecting: '{ext}' from '{subsource}'\"))\n",
      "/opt/hostedtoolcache/Python/3.9.13/x64/lib/python3.9/site-packages/arxiv_on_deck_2/latex.py:292: LatexWarning: Latex injecting: 'table/table_AGN_in_ELGs.tex' from 'tmp_2209.07087/variable ELG/table/table_AGN_in_ELGs.tex'\n",
      "  warnings.warn(LatexWarning(f\"Latex injecting: '{ext}' from '{subsource}'\"))\n",
      "/opt/hostedtoolcache/Python/3.9.13/x64/lib/python3.9/site-packages/arxiv_on_deck_2/latex.py:292: LatexWarning: Latex injecting: 'table/table_AGN_in_ELGs.tex' from 'tmp_2209.07087/table/table_AGN_in_ELGs.tex'\n",
      "  warnings.warn(LatexWarning(f\"Latex injecting: '{ext}' from '{subsource}'\"))\n",
      "/opt/hostedtoolcache/Python/3.9.13/x64/lib/python3.9/site-packages/arxiv_on_deck_2/latex.py:292: LatexWarning: Latex injecting: 'latex_morphology' from 'tmp_2209.07087/latex_morphology.tex'\n",
      "  warnings.warn(LatexWarning(f\"Latex injecting: '{ext}' from '{subsource}'\"))\n",
      "/opt/hostedtoolcache/Python/3.9.13/x64/lib/python3.9/site-packages/arxiv_on_deck_2/latex.py:292: LatexWarning: Latex injecting: 'latex_morphology' from 'tmp_2209.07087/variable ELG/latex_morphology.tex'\n",
      "  warnings.warn(LatexWarning(f\"Latex injecting: '{ext}' from '{subsource}'\"))\n",
      "/opt/hostedtoolcache/Python/3.9.13/x64/lib/python3.9/site-packages/arxiv_on_deck_2/latex.py:292: LatexWarning: Latex injecting: 'table/table_photometry_of_variable_ELGs' from 'tmp_2209.07087/variable ELG/table/table_photometry_of_variable_ELGs.tex'\n",
      "  warnings.warn(LatexWarning(f\"Latex injecting: '{ext}' from '{subsource}'\"))\n",
      "/opt/hostedtoolcache/Python/3.9.13/x64/lib/python3.9/site-packages/arxiv_on_deck_2/latex.py:292: LatexWarning: Latex injecting: 'table/table_photometry_of_variable_ELGs' from 'tmp_2209.07087/table/table_photometry_of_variable_ELGs.tex'\n",
      "  warnings.warn(LatexWarning(f\"Latex injecting: '{ext}' from '{subsource}'\"))\n",
      "/opt/hostedtoolcache/Python/3.9.13/x64/lib/python3.9/site-packages/arxiv_on_deck_2/latex.py:292: LatexWarning: Latex injecting: 'table/table_AGN_in_variable_ELGs.tex' from 'tmp_2209.07087/variable ELG/table/table_AGN_in_variable_ELGs.tex'\n",
      "  warnings.warn(LatexWarning(f\"Latex injecting: '{ext}' from '{subsource}'\"))\n",
      "/opt/hostedtoolcache/Python/3.9.13/x64/lib/python3.9/site-packages/arxiv_on_deck_2/latex.py:292: LatexWarning: Latex injecting: 'table/table_AGN_in_variable_ELGs.tex' from 'tmp_2209.07087/table/table_AGN_in_variable_ELGs.tex'\n",
      "  warnings.warn(LatexWarning(f\"Latex injecting: '{ext}' from '{subsource}'\"))\n",
      "/opt/hostedtoolcache/Python/3.9.13/x64/lib/python3.9/site-packages/arxiv_on_deck_2/latex.py:292: LatexWarning: Latex injecting: 'table/table_AGN_var-ELG' from 'tmp_2209.07087/variable ELG/table/table_AGN_var-ELG.tex'\n",
      "  warnings.warn(LatexWarning(f\"Latex injecting: '{ext}' from '{subsource}'\"))\n",
      "/opt/hostedtoolcache/Python/3.9.13/x64/lib/python3.9/site-packages/arxiv_on_deck_2/latex.py:292: LatexWarning: Latex injecting: 'table/table_AGN_var-ELG' from 'tmp_2209.07087/table/table_AGN_var-ELG.tex'\n",
      "  warnings.warn(LatexWarning(f\"Latex injecting: '{ext}' from '{subsource}'\"))\n",
      "/opt/hostedtoolcache/Python/3.9.13/x64/lib/python3.9/site-packages/arxiv_on_deck_2/latex.py:292: LatexWarning: Latex injecting: 'table/table_AGN_in_ELGs.tex' from 'tmp_2209.07087/variable ELG/table/table_AGN_in_ELGs.tex'\n",
      "  warnings.warn(LatexWarning(f\"Latex injecting: '{ext}' from '{subsource}'\"))\n",
      "/opt/hostedtoolcache/Python/3.9.13/x64/lib/python3.9/site-packages/arxiv_on_deck_2/latex.py:292: LatexWarning: Latex injecting: 'table/table_AGN_in_ELGs.tex' from 'tmp_2209.07087/table/table_AGN_in_ELGs.tex'\n",
      "  warnings.warn(LatexWarning(f\"Latex injecting: '{ext}' from '{subsource}'\"))\n",
      "/opt/hostedtoolcache/Python/3.9.13/x64/lib/python3.9/site-packages/arxiv_on_deck_2/latex.py:292: LatexWarning: Latex injecting: 'table/table_AGN_var-ELG' from 'tmp_2209.07087/variable ELG/table/table_AGN_var-ELG.tex'\n",
      "  warnings.warn(LatexWarning(f\"Latex injecting: '{ext}' from '{subsource}'\"))\n",
      "/opt/hostedtoolcache/Python/3.9.13/x64/lib/python3.9/site-packages/arxiv_on_deck_2/latex.py:292: LatexWarning: Latex injecting: 'table/table_AGN_var-ELG' from 'tmp_2209.07087/table/table_AGN_var-ELG.tex'\n",
      "  warnings.warn(LatexWarning(f\"Latex injecting: '{ext}' from '{subsource}'\"))\n",
      "/opt/hostedtoolcache/Python/3.9.13/x64/lib/python3.9/site-packages/arxiv_on_deck_2/latex.py:292: LatexWarning: Latex injecting: 'table/table_photometry_of_variable_ELGs' from 'tmp_2209.07087/variable ELG/table/table_photometry_of_variable_ELGs.tex'\n",
      "  warnings.warn(LatexWarning(f\"Latex injecting: '{ext}' from '{subsource}'\"))\n",
      "/opt/hostedtoolcache/Python/3.9.13/x64/lib/python3.9/site-packages/arxiv_on_deck_2/latex.py:292: LatexWarning: Latex injecting: 'table/table_photometry_of_variable_ELGs' from 'tmp_2209.07087/table/table_photometry_of_variable_ELGs.tex'\n",
      "  warnings.warn(LatexWarning(f\"Latex injecting: '{ext}' from '{subsource}'\"))\n",
      "/opt/hostedtoolcache/Python/3.9.13/x64/lib/python3.9/site-packages/arxiv_on_deck_2/latex.py:292: LatexWarning: Latex injecting: 'latex_morphology' from 'tmp_2209.07087/latex_morphology.tex'\n",
      "  warnings.warn(LatexWarning(f\"Latex injecting: '{ext}' from '{subsource}'\"))\n",
      "/opt/hostedtoolcache/Python/3.9.13/x64/lib/python3.9/site-packages/arxiv_on_deck_2/latex.py:292: LatexWarning: Latex injecting: 'latex_morphology' from 'tmp_2209.07087/variable ELG/latex_morphology.tex'\n",
      "  warnings.warn(LatexWarning(f\"Latex injecting: '{ext}' from '{subsource}'\"))\n",
      "/opt/hostedtoolcache/Python/3.9.13/x64/lib/python3.9/site-packages/arxiv_on_deck_2/latex.py:292: LatexWarning: Latex injecting: 'table/table_AGN_in_ELGs.tex' from 'tmp_2209.07087/variable ELG/table/table_AGN_in_ELGs.tex'\n",
      "  warnings.warn(LatexWarning(f\"Latex injecting: '{ext}' from '{subsource}'\"))\n",
      "/opt/hostedtoolcache/Python/3.9.13/x64/lib/python3.9/site-packages/arxiv_on_deck_2/latex.py:292: LatexWarning: Latex injecting: 'table/table_AGN_in_ELGs.tex' from 'tmp_2209.07087/table/table_AGN_in_ELGs.tex'\n",
      "  warnings.warn(LatexWarning(f\"Latex injecting: '{ext}' from '{subsource}'\"))\n",
      "/opt/hostedtoolcache/Python/3.9.13/x64/lib/python3.9/site-packages/arxiv_on_deck_2/latex.py:292: LatexWarning: Latex injecting: 'table/table_sextractor_para' from 'tmp_2209.07087/variable ELG/table/table_sextractor_para.tex'\n",
      "  warnings.warn(LatexWarning(f\"Latex injecting: '{ext}' from '{subsource}'\"))\n",
      "/opt/hostedtoolcache/Python/3.9.13/x64/lib/python3.9/site-packages/arxiv_on_deck_2/latex.py:292: LatexWarning: Latex injecting: 'table/table_sextractor_para' from 'tmp_2209.07087/table/table_sextractor_para.tex'\n",
      "  warnings.warn(LatexWarning(f\"Latex injecting: '{ext}' from '{subsource}'\"))\n"
     ]
    },
    {
     "name": "stdout",
     "output_type": "stream",
     "text": [
      "extracting tarball to tmp_2209.07155..."
     ]
    },
    {
     "name": "stdout",
     "output_type": "stream",
     "text": [
      " done.\n",
      "Retrieving document from  https://arxiv.org/e-print/2209.07167\n"
     ]
    },
    {
     "name": "stdout",
     "output_type": "stream",
     "text": [
      "extracting tarball to tmp_2209.07167..."
     ]
    },
    {
     "name": "stdout",
     "output_type": "stream",
     "text": [
      " done.\n",
      "Retrieving document from  https://arxiv.org/e-print/2209.07176\n"
     ]
    },
    {
     "name": "stdout",
     "output_type": "stream",
     "text": [
      "extracting tarball to tmp_2209.07176..."
     ]
    },
    {
     "name": "stdout",
     "output_type": "stream",
     "text": [
      " done.\n",
      "Retrieving document from  https://arxiv.org/e-print/2209.07179\n"
     ]
    },
    {
     "name": "stdout",
     "output_type": "stream",
     "text": [
      "extracting tarball to tmp_2209.07179..."
     ]
    },
    {
     "name": "stdout",
     "output_type": "stream",
     "text": [
      " done.\n",
      "Retrieving document from  https://arxiv.org/e-print/2209.07181\n"
     ]
    },
    {
     "name": "stdout",
     "output_type": "stream",
     "text": [
      "extracting tarball to tmp_2209.07181..."
     ]
    },
    {
     "name": "stdout",
     "output_type": "stream",
     "text": [
      " done.\n",
      "Retrieving document from  https://arxiv.org/e-print/2209.07182\n"
     ]
    },
    {
     "name": "stderr",
     "output_type": "stream",
     "text": [
      "/tmp/ipykernel_2887/4030337529.py:34: LatexWarning: 2209.07182 did not run properly\n",
      "not a gzip file\n",
      "  warnings.warn(latex.LatexWarning(f\"{paper_id:s} did not run properly\\n\" +\n"
     ]
    },
    {
     "name": "stdout",
     "output_type": "stream",
     "text": [
      "Retrieving document from  https://arxiv.org/e-print/2209.07183\n"
     ]
    },
    {
     "name": "stdout",
     "output_type": "stream",
     "text": [
      "extracting tarball to tmp_2209.07183..."
     ]
    },
    {
     "name": "stdout",
     "output_type": "stream",
     "text": [
      " done.\n",
      "Retrieving document from  https://arxiv.org/e-print/2209.07184\n"
     ]
    },
    {
     "name": "stderr",
     "output_type": "stream",
     "text": [
      "/opt/hostedtoolcache/Python/3.9.13/x64/lib/python3.9/site-packages/IPython/core/interactiveshell.py:3378: LatexWarning: Multiple tex files.\n",
      "\n",
      "  exec(code_obj, self.user_global_ns, self.user_ns)\n",
      "/opt/hostedtoolcache/Python/3.9.13/x64/lib/python3.9/site-packages/IPython/core/interactiveshell.py:3378: LatexWarning: Found documentclass in tmp_2209.07183/template_text.tex\n",
      "\n",
      "  exec(code_obj, self.user_global_ns, self.user_ns)\n"
     ]
    },
    {
     "name": "stdout",
     "output_type": "stream",
     "text": [
      "extracting tarball to tmp_2209.07184..."
     ]
    },
    {
     "name": "stdout",
     "output_type": "stream",
     "text": [
      " done.\n",
      "Retrieving document from  https://arxiv.org/e-print/2209.07185\n"
     ]
    },
    {
     "name": "stdout",
     "output_type": "stream",
     "text": [
      "extracting tarball to tmp_2209.07185..."
     ]
    },
    {
     "name": "stdout",
     "output_type": "stream",
     "text": [
      " done.\n",
      "Retrieving document from  https://arxiv.org/e-print/2209.07187\n"
     ]
    },
    {
     "name": "stdout",
     "output_type": "stream",
     "text": [
      "extracting tarball to tmp_2209.07187..."
     ]
    },
    {
     "name": "stdout",
     "output_type": "stream",
     "text": [
      " done.\n",
      "Retrieving document from  https://arxiv.org/e-print/2209.07189\n"
     ]
    },
    {
     "name": "stdout",
     "output_type": "stream",
     "text": [
      "extracting tarball to tmp_2209.07189..."
     ]
    },
    {
     "name": "stdout",
     "output_type": "stream",
     "text": [
      " done.\n",
      "Retrieving document from  https://arxiv.org/e-print/2209.07192\n"
     ]
    },
    {
     "name": "stdout",
     "output_type": "stream",
     "text": [
      "extracting tarball to tmp_2209.07192..."
     ]
    },
    {
     "name": "stdout",
     "output_type": "stream",
     "text": [
      " done.\n",
      "Retrieving document from  https://arxiv.org/e-print/2209.07194\n"
     ]
    },
    {
     "name": "stdout",
     "output_type": "stream",
     "text": [
      "extracting tarball to tmp_2209.07194..."
     ]
    },
    {
     "name": "stdout",
     "output_type": "stream",
     "text": [
      " done.\n",
      "Retrieving document from  https://arxiv.org/e-print/2209.07197\n"
     ]
    },
    {
     "name": "stderr",
     "output_type": "stream",
     "text": [
      "/opt/hostedtoolcache/Python/3.9.13/x64/lib/python3.9/site-packages/IPython/core/interactiveshell.py:3378: LatexWarning: Multiple tex files.\n",
      "\n",
      "  exec(code_obj, self.user_global_ns, self.user_ns)\n",
      "/opt/hostedtoolcache/Python/3.9.13/x64/lib/python3.9/site-packages/IPython/core/interactiveshell.py:3378: LatexWarning: Found documentclass in tmp_2209.07194/template_text.tex\n",
      "\n",
      "  exec(code_obj, self.user_global_ns, self.user_ns)\n"
     ]
    },
    {
     "name": "stdout",
     "output_type": "stream",
     "text": [
      "extracting tarball to tmp_2209.07197..."
     ]
    },
    {
     "name": "stdout",
     "output_type": "stream",
     "text": [
      " done.\n",
      "Retrieving document from  https://arxiv.org/e-print/2209.07198\n"
     ]
    },
    {
     "name": "stdout",
     "output_type": "stream",
     "text": [
      "extracting tarball to tmp_2209.07198..."
     ]
    },
    {
     "name": "stdout",
     "output_type": "stream",
     "text": [
      " done.\n",
      "Retrieving document from  https://arxiv.org/e-print/2209.07200\n"
     ]
    },
    {
     "name": "stdout",
     "output_type": "stream",
     "text": [
      "extracting tarball to tmp_2209.07200..."
     ]
    },
    {
     "name": "stdout",
     "output_type": "stream",
     "text": [
      " done.\n",
      "Retrieving document from  https://arxiv.org/e-print/2209.07201\n"
     ]
    },
    {
     "name": "stderr",
     "output_type": "stream",
     "text": [
      "/tmp/ipykernel_2887/4030337529.py:34: LatexWarning: 2209.07201 did not run properly\n",
      "not a gzip file\n",
      "  warnings.warn(latex.LatexWarning(f\"{paper_id:s} did not run properly\\n\" +\n"
     ]
    },
    {
     "name": "stdout",
     "output_type": "stream",
     "text": [
      "Retrieving document from  https://arxiv.org/e-print/2209.07208\n"
     ]
    },
    {
     "name": "stderr",
     "output_type": "stream",
     "text": [
      "/tmp/ipykernel_2887/4030337529.py:34: LatexWarning: 2209.07208 did not run properly\n",
      "not a gzip file\n",
      "  warnings.warn(latex.LatexWarning(f\"{paper_id:s} did not run properly\\n\" +\n"
     ]
    },
    {
     "name": "stdout",
     "output_type": "stream",
     "text": [
      "Retrieving document from  https://arxiv.org/e-print/2209.07209\n"
     ]
    },
    {
     "name": "stdout",
     "output_type": "stream",
     "text": [
      "extracting tarball to tmp_2209.07209..."
     ]
    },
    {
     "name": "stdout",
     "output_type": "stream",
     "text": [
      " done.\n",
      "Retrieving document from  https://arxiv.org/e-print/2209.07234\n"
     ]
    },
    {
     "name": "stdout",
     "output_type": "stream",
     "text": [
      "extracting tarball to tmp_2209.07234..."
     ]
    },
    {
     "name": "stdout",
     "output_type": "stream",
     "text": [
      " done.\n",
      "Retrieving document from  https://arxiv.org/e-print/2209.07294\n"
     ]
    },
    {
     "name": "stdout",
     "output_type": "stream",
     "text": [
      "extracting tarball to tmp_2209.07294..."
     ]
    },
    {
     "name": "stdout",
     "output_type": "stream",
     "text": [
      " done.\n",
      "Retrieving document from  https://arxiv.org/e-print/2209.07325\n"
     ]
    },
    {
     "name": "stdout",
     "output_type": "stream",
     "text": [
      "extracting tarball to tmp_2209.07325..."
     ]
    },
    {
     "name": "stdout",
     "output_type": "stream",
     "text": [
      " done.\n",
      "Retrieving document from  https://arxiv.org/e-print/2209.07339\n"
     ]
    },
    {
     "name": "stdout",
     "output_type": "stream",
     "text": [
      "extracting tarball to tmp_2209.07339... done.\n",
      "Retrieving document from  https://arxiv.org/e-print/2209.07395\n"
     ]
    },
    {
     "name": "stdout",
     "output_type": "stream",
     "text": [
      "extracting tarball to tmp_2209.07395..."
     ]
    },
    {
     "name": "stdout",
     "output_type": "stream",
     "text": [
      " done.\n",
      "Retrieving document from  https://arxiv.org/e-print/2209.07412\n"
     ]
    },
    {
     "name": "stderr",
     "output_type": "stream",
     "text": [
      "/opt/hostedtoolcache/Python/3.9.13/x64/lib/python3.9/site-packages/IPython/core/interactiveshell.py:3378: LatexWarning: Multiple tex files.\n",
      "\n",
      "  exec(code_obj, self.user_global_ns, self.user_ns)\n",
      "/opt/hostedtoolcache/Python/3.9.13/x64/lib/python3.9/site-packages/IPython/core/interactiveshell.py:3378: LatexWarning: Found documentclass in tmp_2209.07395/ISW.tex\n",
      "\n",
      "  exec(code_obj, self.user_global_ns, self.user_ns)\n",
      "/opt/hostedtoolcache/Python/3.9.13/x64/lib/python3.9/site-packages/arxiv_on_deck_2/latex.py:292: LatexWarning: Latex injecting: 'texbase/macros' from 'tmp_2209.07395/texbase/macros.tex'\n",
      "  warnings.warn(LatexWarning(f\"Latex injecting: '{ext}' from '{subsource}'\"))\n"
     ]
    },
    {
     "name": "stdout",
     "output_type": "stream",
     "text": [
      "extracting tarball to tmp_2209.07412..."
     ]
    },
    {
     "name": "stdout",
     "output_type": "stream",
     "text": [
      " done.\n",
      "Retrieving document from  https://arxiv.org/e-print/2209.07460\n"
     ]
    },
    {
     "name": "stdout",
     "output_type": "stream",
     "text": [
      "extracting tarball to tmp_2209.07460..."
     ]
    },
    {
     "name": "stdout",
     "output_type": "stream",
     "text": [
      " done.\n"
     ]
    }
   ],
   "source": [
    "documents = []\n",
    "failed = []\n",
    "for paper in tqdm(candidates[:-1]):\n",
    "    paper_id = paper['identifier'].lower().replace('arxiv:', '')\n",
    "    \n",
    "    folder = f'tmp_{paper_id}'\n",
    "\n",
    "    try:\n",
    "        if not os.path.isdir(folder):\n",
    "            folder = retrieve_document_source(f\"{paper_id}\", f'tmp_{paper_id}')\n",
    "        \n",
    "        try:\n",
    "            doc = latex.LatexDocument(folder, validation=validation)    \n",
    "        except AffiliationError as affilerror:\n",
    "            msg = f\"ArXiv:{paper_id:s} is not an MPIA paper... \" + str(affilerror)\n",
    "            failed.append((paper, \"affiliation error: \" + str(affilerror) ))\n",
    "            continue\n",
    "        \n",
    "        # Hack because sometimes author parsing does not work well\n",
    "        if (len(doc.authors) != len(paper['authors'])):\n",
    "            doc._authors = paper['authors']\n",
    "        if (doc.abstract) in (None, ''):\n",
    "            doc._abstract = paper['abstract']\n",
    "            \n",
    "        doc.comment = (get_markdown_badge(paper_id) + \n",
    "                       \"<mark>Appeared on: \" + paper['date'] + \"</mark> - \" +\n",
    "                       \"_\" + paper['comments'] + \"_\")\n",
    "        doc.highlight_authors_in_list(hl_list)\n",
    "\n",
    "        full_md = doc.generate_markdown_text()\n",
    "        \n",
    "        documents.append((paper_id, full_md))\n",
    "    except Exception as e:\n",
    "        warnings.warn(latex.LatexWarning(f\"{paper_id:s} did not run properly\\n\" +\n",
    "                                         str(e)\n",
    "                                        ))\n",
    "        failed.append((paper, \"latex error \" + str(e)))"
   ]
  },
  {
   "cell_type": "markdown",
   "id": "2505a25c",
   "metadata": {
    "papermill": {
     "duration": 0.011819,
     "end_time": "2022-09-16T05:25:14.536515",
     "exception": false,
     "start_time": "2022-09-16T05:25:14.524696",
     "status": "completed"
    },
    "tags": []
   },
   "source": [
    "### Export the logs\n",
    "\n",
    "Throughout, we also keep track of the logs per paper. see `logs-{today date}.md` "
   ]
  },
  {
   "cell_type": "code",
   "execution_count": 6,
   "id": "d733828a",
   "metadata": {
    "execution": {
     "iopub.execute_input": "2022-09-16T05:25:14.561295Z",
     "iopub.status.busy": "2022-09-16T05:25:14.559887Z",
     "iopub.status.idle": "2022-09-16T05:25:14.622038Z",
     "shell.execute_reply": "2022-09-16T05:25:14.621203Z"
    },
    "papermill": {
     "duration": 0.076495,
     "end_time": "2022-09-16T05:25:14.623872",
     "exception": false,
     "start_time": "2022-09-16T05:25:14.547377",
     "status": "completed"
    },
    "scrolled": false,
    "tags": []
   },
   "outputs": [
    {
     "data": {
      "text/markdown": [
       "## Successful papers"
      ],
      "text/plain": [
       "<IPython.core.display.Markdown object>"
      ]
     },
     "metadata": {},
     "output_type": "display_data"
    },
    {
     "data": {
      "text/markdown": [
       "\n",
       "|||\n",
       "|---:|:---|\n",
       "| [![arXiv](https://img.shields.io/badge/arXiv-arXiv:2209.06833-b31b1b.svg)](https://arxiv.org/abs/arXiv:2209.06833) | **A Sun-like star orbiting a black hole**  |\n",
       "|| Kareem El-Badry, et al. -- incl., <mark>Hans-Walter Rix</mark>, <mark>Rhys Seeburger</mark>, <mark>Silvia Almada Monter</mark>, <mark>Jennifer Wojno</mark> |\n",
       "|*Appeared on*| *2022-09-16*|\n",
       "|*Comments*| *29 pages, 15 figures, 1-2 black holes. Submitted to MNRAS*|\n",
       "|**Abstract**| We report discovery of a bright, nearby ($G = 13.8$; $d = 480$ pc) Sun-like star orbiting a dark object. We identified the system as a black hole candidate via its astrometric orbital solution from the Gaia mission. Radial velocity monitoring validated and refined the Gaia solution, and spectroscopy ruled out significant light contributions from another star. Joint modeling of radial velocities and astrometry constrains the companion mass to $M_2 = 9.8\\pm 0.2\\,M_{\\odot}$. The spectroscopic orbit alone sets a minimum companion mass of $M_2>5\\,M_{\\odot}$; if the companion were a $5\\,M_{\\odot}$ star, it would be 500 times more luminous than the entire system. These constraints are insensitive to the assumed mass of the luminous star, which appears as a slowly-rotating G dwarf ($T_{\\rm eff}=5850$ K, $\\log g = 4.5$, $M=0.93\\,M_{\\odot}$), with near-solar metallicity ([Fe/H] = -0.2) and an unremarkable abundance pattern. We find no plausible astrophysical scenario that can explain the orbit and does not involve a black hole. The orbital period, $P_{\\rm orb}=185.6$ days, is longer than that of any known stellar-mass black hole binary, and the eccentricity is modest, $e=0.45$. The system's Galactic orbit is typical of thin-disk stars, suggesting that it formed in the Milky Way disk with at most a weak natal kick. Explaining the system's formation with standard binary evolutionary models is challenging: it is difficult for the luminous star to survive a common envelope event under standard assumptions, and difficult for it to end up in a wide orbit afterward. Formation models involving triples or dynamical assembly in an open cluster may be more promising. This is the nearest known black hole by a factor of 3, and its discovery suggests the existence of a sizable population of dormant black holes in binaries. Future Gaia releases will likely facilitate the discovery of dozens more. |"
      ],
      "text/plain": [
       "[arXiv:2209.06833] A Sun-like star orbiting a black hole\n",
       "\tKareem El-Badry, et al. -- incl., <mark>Hans-Walter Rix</mark>, <mark>Rhys Seeburger</mark>, <mark>Silvia Almada Monter</mark>, <mark>Jennifer Wojno</mark>"
      ]
     },
     "metadata": {},
     "output_type": "display_data"
    },
    {
     "data": {
      "text/markdown": [
       "## Failed papers"
      ],
      "text/plain": [
       "<IPython.core.display.Markdown object>"
      ]
     },
     "metadata": {},
     "output_type": "display_data"
    },
    {
     "data": {
      "text/markdown": [
       "\n",
       "|||\n",
       "|---:|:---|\n",
       "| [![arXiv](https://img.shields.io/badge/arXiv-arXiv:2209.07339-b31b1b.svg)](https://arxiv.org/abs/arXiv:2209.07339) | **A-SLOTH: Ancient Stars and Local Observables by Tracing Halos**  |\n",
       "|| <mark>Mattis Magg</mark>, Tilman Hartwig, <mark>Li-Hsin Chen</mark>, Yuta Tarumi |\n",
       "|*Appeared on*| *2022-09-16*|\n",
       "|*Comments*| *Published in JOSS. Git repo is available at this https URL*|\n",
       "|**Abstract**| Galaxies are thought to reside inside of large gravitationally bound structures of dark matter, so-called haloes. While the smallest of these haloes host no or only a few stars, the biggest host entire clusters of galaxies. Over cosmic history, haloes often collided and merged, forming bigger and bigger structures. Merger trees, i.e., catalogues of haloes evolving and connections between them as they grow and merge, have become a vital tool in describing and understanding the history of cosmological objects such as our Galaxy. Semi-analytical models, built on top of such merger trees, are a common approach for theoretical studies in cosmology. The semi-analytical nature of such models is especially beneficial when the dynamic range in spatial and time scales that need to be considered becomes too large for numerical simulations. Ancient Stars and Local Observables by Tracing Halos (A-SLOTH) is such a semi-analytical model and it is designed to simulate star formation in the early Universe in a fast and accessible way. It uses merger trees, either from numerical simulations or generated by statistical algorithms to describe the history of galaxies. The processes of baryonic physics, in particular gas cooling, star formation and stellar feedback are described with approximations and statistical models. The range of applications for this model is extensive and we, therefore, make it available to the scientific community. |\n",
       "|<p style=\"color:green\"> **ERROR** </p>| <p style=\"color:green\">affiliation error: mpia.affiliation_verifications: '69117' keyword not found.</p> |"
      ],
      "text/plain": [
       "<IPython.core.display.Markdown object>"
      ]
     },
     "metadata": {},
     "output_type": "display_data"
    },
    {
     "data": {
      "text/markdown": [
       "\n",
       "|||\n",
       "|---:|:---|\n",
       "| [![arXiv](https://img.shields.io/badge/arXiv-arXiv:2209.06829-b31b1b.svg)](https://arxiv.org/abs/arXiv:2209.06829) | **A Joint Roman Space Telescope and Rubin Observatory Synthetic Wide-Field  Imaging Survey**  |\n",
       "|| M. A. Troxel, et al. -- incl., <mark>C. Lin</mark>, <mark>C. W. Walter</mark>, <mark>T. Zhang</mark>, <mark>A. Hearin</mark>, <mark>K. Heitmann</mark> |\n",
       "|*Appeared on*| *2022-09-16*|\n",
       "|*Comments*| **|\n",
       "|**Abstract**| We present and validate 20 deg$^2$ of overlapping synthetic imaging surveys representing the full depth of the Nancy Grace Roman Space Telescope High-Latitude Imaging Survey (HLIS) and five years of observations of the Vera C. Rubin Observatory Legacy Survey of Space and Time (LSST). The two synthetic surveys are summarized, with reference to the existing 300 deg$^2$ of LSST simulated imaging produced as part of Dark Energy Science Collaboration (DESC) Data Challenge 2 (DC2). Both synthetic surveys observe the same simulated DESC DC2 universe. For the synthetic Roman survey, we simulate for the first time fully chromatic images along with the detailed physics of the Sensor Chip Assemblies derived from lab measurements using the flight detectors. The simulated imaging and resulting pixel-level measurements of photometric properties of objects span a wavelength range of $\\sim$0.3 to 2.0 $\\mu$m. We also describe updates to the Roman simulation pipeline, changes in how astrophysical objects are simulated relative to the original DC2 simulations, and the resulting simulated Roman data products. We use these simulations to explore the relative fraction of unrecognized blends in LSST images, finding that 20-30% of objects identified in LSST images with $i$-band magnitudes brighter than 25 can be identified as multiple objects in Roman images. These simulations provide a unique testing ground for the development and validation of joint pixel-level analysis techniques of ground- and space-based imaging data sets in the second half of the 2020s -- in particular the case of joint Roman--LSST analyses. |\n",
       "|<p style=\"color:green\"> **ERROR** </p>| <p style=\"color:green\">affiliation error: mpia.affiliation_verifications: 'Heidelberg' keyword not found.</p> |"
      ],
      "text/plain": [
       "<IPython.core.display.Markdown object>"
      ]
     },
     "metadata": {},
     "output_type": "display_data"
    },
    {
     "data": {
      "text/markdown": [
       "\n",
       "|||\n",
       "|---:|:---|\n",
       "| [![arXiv](https://img.shields.io/badge/arXiv-arXiv:2209.06830-b31b1b.svg)](https://arxiv.org/abs/arXiv:2209.06830) | **The Two $z\\sim 13$ Galaxy Candidates HD1 and HD2 Are Likely Not Lensed**  |\n",
       "|| <mark>Rui Zhe Lee</mark>, Fabio Pacucci, Priyamvada Natarajan, Abraham Loeb |\n",
       "|*Appeared on*| *2022-09-16*|\n",
       "|*Comments*| *Submitted for publication in MNRAS. 9 pages, 4 figures*|\n",
       "|**Abstract**| The discovery of two galaxy candidates at $z\\sim 13$, HD1 and HD2, laid the foundation for a new race to study the early Universe. These galaxies exhibit large UV luminosities, and previous investigations suggested that they are either powered by a supermassive black hole or by an extreme, transient burst of star formation. Given their uncertain nature, the critical question we investigate is whether these sources could be lensed by a hitherto undetected, faint foreground galaxy. We find that at the current limiting magnitude with which HD1 and HD2 were imaged, there is only a $7.39\\%$ probability they are lensed and that the hypothetical lensing galaxy was too faint to be detected. Meanwhile, with the limiting magnitudes of the Hubble Space Telescope (HST) and James Webb Space Telescope (JWST) imaging capabilities, the probability drops precipitously to $0.058\\%$ and $0.0012\\%$, respectively. We further find it unlikely that the luminosities of both sources can be accounted for by lensing that produces a single, resolved image with sufficiently high magnification. Alternatively, in the unlikely low-probability event that their brightness does indeed result from lensing, there is a $30.9 \\%$ probability that the lensing galaxy is too faint to be observable at the current limiting magnitude. Future HST (JWST) imaging will drop this probability to $0.245 \\%$ ($0.0025 \\%$). In summary, while deep imaging with HST and JWST is required to discard the lensing hypothesis entirely, it is unlikely that the exceptional luminosity of the two $z \\sim 13$ sources can be accounted for by gravitational lensing. |\n",
       "|<p style=\"color:green\"> **ERROR** </p>| <p style=\"color:green\">affiliation error: mpia.affiliation_verifications: 'Heidelberg' keyword not found.</p> |"
      ],
      "text/plain": [
       "<IPython.core.display.Markdown object>"
      ]
     },
     "metadata": {},
     "output_type": "display_data"
    },
    {
     "data": {
      "text/markdown": [
       "\n",
       "|||\n",
       "|---:|:---|\n",
       "| [![arXiv](https://img.shields.io/badge/arXiv-arXiv:2209.06840-b31b1b.svg)](https://arxiv.org/abs/arXiv:2209.06840) | **Blue Monsters. Why are JWST super-early, massive galaxies so blue?**  |\n",
       "|| Francesco Ziparo, Andrea Ferrara, Laura Sommovigo, <mark>Mahsa Kohandel</mark> |\n",
       "|*Appeared on*| *2022-09-16*|\n",
       "|*Comments*| *8 pages, 4 figures. Analysis of early release JWST data. Submitted to MNRAS. Comments welcome*|\n",
       "|**Abstract**| The recent JWST discovery of a population of super-early (redshift $z> 10$), relatively massive (stellar mass $M_* = 10^{8-9} M_{\\odot}$) and evolved (metallicity $Z \\approx 0.1 Z_{\\odot}$) galaxies, which nevertheless show blue ($\\beta \\simeq -2.6$) spectra, and very small dust attenuation ($A_{\\rm V} \\leq 0.02$), challenges our interpretation of these systems. To solve the puzzle we propose two solutions in which dust is either (a) ejected by radiation pressure, or (b) segregated with respect to UV-emitting regions. We clarify the conditions for which the two scenarios apply, and show that they can be discriminated by ALMA observations, such as the recent non-detection of the $88\\mu m$ dust continuum in GHZ2 ($z\\simeq 12$) favouring dust ejection. |\n",
       "|<p style=\"color:green\"> **ERROR** </p>| <p style=\"color:green\">affiliation error: mpia.affiliation_verifications: 'Heidelberg' keyword not found.</p> |"
      ],
      "text/plain": [
       "<IPython.core.display.Markdown object>"
      ]
     },
     "metadata": {},
     "output_type": "display_data"
    },
    {
     "data": {
      "text/markdown": [
       "\n",
       "|||\n",
       "|---:|:---|\n",
       "| [![arXiv](https://img.shields.io/badge/arXiv-arXiv:2209.06843-b31b1b.svg)](https://arxiv.org/abs/arXiv:2209.06843) | **Robust field-level inference with dark matter halos**  |\n",
       "|| <mark>Helen Shao</mark>, et al. -- incl., <mark>Elena Hernandez-Martinez</mark> |\n",
       "|*Appeared on*| *2022-09-16*|\n",
       "|*Comments*| *25 pages, 11 figures, summary video: this https URL*|\n",
       "|**Abstract**| We train graph neural networks on halo catalogues from Gadget N-body simulations to perform field-level likelihood-free inference of cosmological parameters. The catalogues contain $\\lesssim$5,000 halos with masses $\\gtrsim 10^{10}~h^{-1}M_\\odot$ in a periodic volume of $(25~h^{-1}{\\rm Mpc})^3$; every halo in the catalogue is characterized by several properties such as position, mass, velocity, concentration, and maximum circular velocity. Our models, built to be permutationally, translationally, and rotationally invariant, do not impose a minimum scale on which to extract information and are able to infer the values of $\\Omega_{\\rm m}$ and $\\sigma_8$ with a mean relative error of $\\sim6\\%$, when using positions plus velocities and positions plus masses, respectively. More importantly, we find that our models are very robust: they can infer the value of $\\Omega_{\\rm m}$ and $\\sigma_8$ when tested using halo catalogues from thousands of N-body simulations run with five different N-body codes: Abacus, CUBEP$^3$M, Enzo, PKDGrav3, and Ramses. Surprisingly, the model trained to infer $\\Omega_{\\rm m}$ also works when tested on thousands of state-of-the-art CAMELS hydrodynamic simulations run with four different codes and subgrid physics implementations. Using halo properties such as concentration and maximum circular velocity allow our models to extract more information, at the expense of breaking the robustness of the models. This may happen because the different N-body codes are not converged on the relevant scales corresponding to these parameters. |\n",
       "|<p style=\"color:green\"> **ERROR** </p>| <p style=\"color:green\">affiliation error: mpia.affiliation_verifications: 'Heidelberg' keyword not found.</p> |"
      ],
      "text/plain": [
       "<IPython.core.display.Markdown object>"
      ]
     },
     "metadata": {},
     "output_type": "display_data"
    },
    {
     "data": {
      "text/markdown": [
       "\n",
       "|||\n",
       "|---:|:---|\n",
       "| [![arXiv](https://img.shields.io/badge/arXiv-arXiv:2209.06851-b31b1b.svg)](https://arxiv.org/abs/arXiv:2209.06851) | **Discovery of Interstellar 2-Cyanoindene (2-C$_9$H$_7$CN) in GOTHAM  Observations of TMC-1**  |\n",
       "|| Madelyn L. Sita, et al. -- incl., <mark>Kin Long Kelvin Lee</mark>, <mark>Eric Herbst</mark> |\n",
       "|*Appeared on*| *2022-09-16*|\n",
       "|*Comments*| *Accepted in ApJL*|\n",
       "|**Abstract**| We present laboratory rotational spectroscopy of five isomers of cyanoindene (2-, 4-, 5-, 6-, and 7-cyanoindene) using a cavity Fourier-transform microwave spectrometer operating between 6-40 GHz. Based on these measurements, we report the detection of 2-cyanoindene (1H-indene-2-carbonitrile; 2-C$_9$H$_7$CN) in GOTHAM line survey observations of the dark molecular cloud TMC-1 using the Green Bank Telescope at centimeter wavelengths. Using a combination of Markov Chain Monte Carlo (MCMC), spectral stacking, and matched filtering techniques, we find evidence for the presence of this molecule at the 6.3$\\sigma$ level. This provides the first direct observation of the ratio of a cyano-substituted polycyclic aromatic hydrocarbon (PAH) to its pure hydrocarbon counterpart, in this case indene, in the same source. We discuss the possible formation chemistry of this species, including why we have only detected one of the isomers in TMC-1. We then examine the overall hydrocarbon:CN-substituted ratio across this and other simpler species, as well as compare to those ratios predicted by astrochemical models. We conclude that while astrochemical models are not yet sufficiently accurate to reproduce absolute abundances of these species, they do a good job at predicting the ratios of hydrocarbon:CN-substituted species, further solidifying -CN tagged species as excellent proxies for their fully-symmetric counterparts. |\n",
       "|<p style=\"color:green\"> **ERROR** </p>| <p style=\"color:green\">affiliation error: mpia.affiliation_verifications: 'Heidelberg' keyword not found.</p> |"
      ],
      "text/plain": [
       "<IPython.core.display.Markdown object>"
      ]
     },
     "metadata": {},
     "output_type": "display_data"
    },
    {
     "data": {
      "text/markdown": [
       "\n",
       "|||\n",
       "|---:|:---|\n",
       "| [![arXiv](https://img.shields.io/badge/arXiv-arXiv:2209.06873-b31b1b.svg)](https://arxiv.org/abs/arXiv:2209.06873) | **The C/N ratio from FUV spectroscopy as a constraint upon the past  evolution of HS0218+3229**  |\n",
       "|| O. Toloza, et al. -- incl., <mark>Matthias R. Schreiber</mark> |\n",
       "|*Appeared on*| *2022-09-16*|\n",
       "|*Comments*| **|\n",
       "|**Abstract**| Some white dwarfs accreting from non-degenerate companions show anomalous carbon and nitrogen abundances in the photospheres of their stellar components which have been postulated to be descendants of supersoft X-ray binaries. Therefore the carbon-to-nitrogen ratio can provide constraints upon their past evolution. We fit far ultraviolet spectroscopy of the cataclysmic variable HS0218+3229 taken with the Cosmic Origins Spectrograph using Markov Chain Monte Carlo. While some parameters depend upon the amount of reddening, the carbon-to-nitrogen ratio is about one tenth of the Solar value ($log C/N=-0.53^{+0.13}_{-0.14}$ and $-0.58^{+0.16}_{-0.15}$ for almost no reddening and E(B-V)=0.065, respectively, which are consistent within the uncertainties). We also provide estimates of the silicon and aluminum abundances, and upper limits for iron and oxygen. Using the measured parameters of HS0218+3229 we reconstruct its past using evolutionary simulations with MESA. We implemented Gaussian process fits to the MESA grid in order to determiner the most likely initial binary configuration of HS0218+3229. We found that an initial mass of the donor of $M_{\\rm donor;i}=0.90-0.98,\\mathrm{M}_{\\odot}$ and an initial orbital period of $P_{\\rm orb;i}=2.88$ days ($P_{\\rm orb;i}=3.12-3.16$ days) for an assumed white dwarf mass of $M_{\\mathrm{WD}}=0.83\\,\\mathrm{M}_{\\odot}$ ($M_{\\mathrm{WD}}=0.60\\,\\mathrm{M}_{\\odot}$) are needed to replicate the measured parameters. These configurations imply that the system did not go through a phase of quasi-steady hydrogen-burning on the white dwarf's surface. However, it could have experienced a phase of thermal timescale mass transfer in the past if the initial mass ratio was $\\geq1.5$. We predict that HS0218+3229 will evolve into a CV with a period below the $\\simeq80$\\,min period minimum for normal CVs, displaying helium and hydrogen in its spectrum. |\n",
       "|<p style=\"color:green\"> **ERROR** </p>| <p style=\"color:green\">affiliation error: mpia.affiliation_verifications: 'Heidelberg' keyword not found.</p> |"
      ],
      "text/plain": [
       "<IPython.core.display.Markdown object>"
      ]
     },
     "metadata": {},
     "output_type": "display_data"
    },
    {
     "data": {
      "text/markdown": [
       "\n",
       "|||\n",
       "|---:|:---|\n",
       "| [![arXiv](https://img.shields.io/badge/arXiv-arXiv:2209.06895-b31b1b.svg)](https://arxiv.org/abs/arXiv:2209.06895) | **CHIME Discovery of a Binary Pulsar with a Massive Non-Degenerate  Companion**  |\n",
       "|| Bridget C. Andersen, et al. -- incl., <mark>B. W. Meyers</mark>, <mark>Kendrick M. Smith</mark> |\n",
       "|*Appeared on*| *2022-09-16*|\n",
       "|*Comments*| *34 pages, 12 figures, submitted to ApJ*|\n",
       "|**Abstract**| Of the more than $3{,}000$ radio pulsars currently known, only ${\\sim}300$ are in binary systems, and only five of these consist of young pulsars with massive non-degenerate companions. We present the discovery and initial timing, accomplished using the Canadian Hydrogen Intensity Mapping Experiment telescope (CHIME), of the sixth such binary pulsar, PSR J2108+4516, a $0.577$-s radio pulsar in a 269-day orbit of eccentricity 0.09 with a companion of minimum mass ${\\lesssim}11$ M$_{\\odot}$. Notably, the pulsar undergoes periods of substantial eclipse, disappearing from the CHIME $400{-}800$ MHz observing band for a large fraction of its orbit, and displays significant dispersion measure and scattering variations throughout its orbit, pointing to the possibility of a circumstellar disk or very dense stellar wind associated with the companion star. Sub-arcsecond resolution imaging with the Karl G. Jansky Very Large Array unambiguously demonstrates that the companion is a bright, $V \\simeq 11$ OBe star, EM* UHA 138, located at a distance of $3.26(14)$ kpc. With further multi-wavelength followup, PSR J2108+4516 promises to serve as another rare laboratory for the exploration of companion winds, circumstellar disks, and short-term evolution through extended-body orbital dynamics. |\n",
       "|<p style=\"color:green\"> **ERROR** </p>| <p style=\"color:green\">affiliation error: mpia.affiliation_verifications: 'Heidelberg' keyword not found.</p> |"
      ],
      "text/plain": [
       "<IPython.core.display.Markdown object>"
      ]
     },
     "metadata": {},
     "output_type": "display_data"
    },
    {
     "data": {
      "text/markdown": [
       "\n",
       "|||\n",
       "|---:|:---|\n",
       "| [![arXiv](https://img.shields.io/badge/arXiv-arXiv:2209.06897-b31b1b.svg)](https://arxiv.org/abs/arXiv:2209.06897) | **Lessons Learned from the Two Largest Galaxy Morphological Classification  Catalogues built by Convolutional Neural Networks**  |\n",
       "|| Ting-Yun Cheng, et al. -- incl., <mark>M. Smith</mark> |\n",
       "|*Appeared on*| *2022-09-16*|\n",
       "|*Comments*| *17 pages, 14 figures (1 appendix for galaxy examples including 3 figures)*|\n",
       "|**Abstract**| We compare the two largest galaxy morphology catalogues, which separate early and late type galaxies at intermediate redshift. The two catalogues were built by applying supervised deep learning (convolutional neural networks, CNNs) to the Dark Energy Survey data down to a magnitude limit of $\\sim$21 mag. The methodologies used for the construction of the catalogues include differences such as the cutout sizes, the labels used for training, and the input to the CNN - monochromatic images versus $gri$-band normalized images. In addition, one catalogue is trained using bright galaxies observed with DES ($i<18$), while the other is trained with bright galaxies ($r<17.5$) and `emulated' galaxies up to $r$-band magnitude $22.5$. Despite the different approaches, the agreement between the two catalogues is excellent up to $i<19$, demonstrating that CNN predictions are reliable for samples at least one magnitude fainter than the training sample limit. It also shows that morphological classifications based on monochromatic images are comparable to those based on $gri$-band images, at least in the bright regime. At fainter magnitudes, $i>19$, the overall agreement is good ($\\sim$95\\%), but is mostly driven by the large spiral fraction in the two catalogues. In contrast, the agreement within the elliptical population is not as good, especially at faint magnitudes. By studying the mismatched cases we are able to identify lenticular galaxies (at least up to $i<19$), which are difficult to distinguish using standard classification approaches. The synergy of both catalogues provides an unique opportunity to select a population of unusual galaxies. |\n",
       "|<p style=\"color:green\"> **ERROR** </p>| <p style=\"color:green\">affiliation error: mpia.affiliation_verifications: 'Heidelberg' keyword not found.</p> |"
      ],
      "text/plain": [
       "<IPython.core.display.Markdown object>"
      ]
     },
     "metadata": {},
     "output_type": "display_data"
    },
    {
     "data": {
      "text/markdown": [
       "\n",
       "|||\n",
       "|---:|:---|\n",
       "| [![arXiv](https://img.shields.io/badge/arXiv-arXiv:2209.06929-b31b1b.svg)](https://arxiv.org/abs/arXiv:2209.06929) | **A large-scale kinematic study of molecular gas in high-z cluster  galaxies: Evidence for high levels of kinematic asymmetry**  |\n",
       "|| W. J. Cramer, et al. -- incl., <mark>J. Matharu</mark> |\n",
       "|*Appeared on*| *2022-09-16*|\n",
       "|*Comments*| *Submission pre-referee report*|\n",
       "|**Abstract**| We investigate the resolved kinematics of the molecular gas, as traced by ALMA in CO (2-1), of 25 cluster member galaxies across three different clusters at a redshift of $z\\sim1.6$. This is the first large-scale analysis of the molecular gas kinematics of cluster galaxies at this redshift. By separately estimating the rotation curve of the approaching and receding side of each galaxy via kinematic modeling, we quantify the difference in total circular velocity to characterize the overall kinematic asymmetry of each galaxy. 3/14 of the galaxies in our sample that we are able to model have similar degrees of asymmetry as that observed in galaxies in the field at similar redshift. However, this leaved 11/14 galaxies in our sample with significantly higher asymmetry, and some of these galaxies have degrees of asymmetry of up to $\\sim$50 times higher than field galaxies observed at similar redshift. Some of these extreme cases also have one-sided tail-like morphology seen in the molecular gas, supporting a scenario of tidal and/or ram pressure interaction. Such stark differences in the kinematic asymmetry in clusters versus the field suggest the evolutionary influence of dense environments, established as being a major driver of galaxy evolution at low-redshift, is also active in the high-redshift universe. |\n",
       "|<p style=\"color:green\"> **ERROR** </p>| <p style=\"color:green\">affiliation error: mpia.affiliation_verifications: 'Heidelberg' keyword not found.</p> |"
      ],
      "text/plain": [
       "<IPython.core.display.Markdown object>"
      ]
     },
     "metadata": {},
     "output_type": "display_data"
    },
    {
     "data": {
      "text/markdown": [
       "\n",
       "|||\n",
       "|---:|:---|\n",
       "| [![arXiv](https://img.shields.io/badge/arXiv-arXiv:2209.06937-b31b1b.svg)](https://arxiv.org/abs/arXiv:2209.06937) | **A CHEOPS-enhanced view of the HD3167 system**  |\n",
       "|| V. Bourrier, et al. -- incl., <mark>M. B. Davies</mark>, <mark>M. Güdel</mark>, <mark>K. Heng</mark>, <mark>S. Hoyer</mark> |\n",
       "|*Appeared on*| *2022-09-16*|\n",
       "|*Comments*| *22 pages, 23 pages, accepted for publication in A&A (18 August 2022)*|\n",
       "|**Abstract**| Much remains to be understood about the nature of exoplanets smaller than Neptune, most of which have been discovered in compact multi-planet systems. With its inner ultra-short period planet b aligned with the star and two larger outer planets d-c on polar orbits, the multi-planet system HD 3167 features a peculiar architecture and offers the possibility to investigate both dynamical and atmospheric evolution processes. To this purpose we combined multiple datasets of transit photometry and radial velocimetry (RV) to revise the properties of the system and inform models of its planets. This effort was spearheaded by CHEOPS observations of HD 3167b, which appear inconsistent with a purely rocky composition despite its extreme irradiation. Overall the precision on the planetary orbital periods are improved by an order of magnitude, and the uncertainties on the densities of the transiting planets b and c are decreased by a factor of 3. Internal structure and atmospheric simulations draw a contrasting picture between HD 3167d, likely a rocky super-Earth that lost its atmosphere through photo-evaporation, and HD 3167c, a mini-Neptune that kept a substantial primordial gaseous envelope. We detect a fourth, more massive planet on a larger orbit, likely coplanar with HD 3167d-c. Dynamical simulations indeed show that the outer planetary system d-c-e was tilted, as a whole, early in the system history, when HD 3167b was still dominated by the star influence and maintained its aligned orbit. RV data and direct imaging rule out that the companion that could be responsible for the present-day architecture is still bound to the HD\\,3167 system. Similar global studies of multi-planet systems will tell how many share the peculiar properties of the HD3167 system, which remains a target of choice for follow-up observations and simulations. |\n",
       "|<p style=\"color:green\"> **ERROR** </p>| <p style=\"color:green\">affiliation error: mpia.affiliation_verifications: 'Heidelberg' keyword not found.</p> |"
      ],
      "text/plain": [
       "<IPython.core.display.Markdown object>"
      ]
     },
     "metadata": {},
     "output_type": "display_data"
    },
    {
     "data": {
      "text/markdown": [
       "\n",
       "|||\n",
       "|---:|:---|\n",
       "| [![arXiv](https://img.shields.io/badge/arXiv-arXiv:2209.06958-b31b1b.svg)](https://arxiv.org/abs/arXiv:2209.06958) | **TESS-Keck Survey XIV: 2 giant exoplanets from the Distant Giants Survey**  |\n",
       "|| Judah E. Van Zandt, et al. -- incl., <mark>Daniel Huber</mark>, <mark>Joseph M. Akana Murphy</mark>, <mark>Lee J. Rosenthal</mark> |\n",
       "|*Appeared on*| *2022-09-16*|\n",
       "|*Comments*| **|\n",
       "|**Abstract**| We present the Distant Giants Survey, a three-year radial velocity (RV) campaign to measure the conditional occurrence of distant giant planets (M_p ~ 0.3 - 13 M_J, P ~100 days - 12 years) in systems hosting close-in small planets, P(DG|CS). For the past two years, we have monitored 47 Sun-like stars hosting small transiting planets (R_p < 10 R_E) detected by TESS. We present the selection criteria used to assemble our sample and report the discovery of two distant giant planets, TOI-1669 c and TOI-1694 c. For TOI-1669 c we find that Msin i = 0.602 +/- 0.078 M_J and P = 501 +/- 16 days, while for TOI-1694 c, Msin i = 0.929 +/- 0.037 M_J and P = 393.2 +/- 4.3 days. We also measured a true mass of M = 31.1 +/- 2.1 M_E for the 3.8-day transiting planet TOI-1694 b. Planets with mass ~30 M_E are rare at periods <~10 days, suggesting that TOI-1694 b may have reached its current location through dynamical interactions with its outer neighbor. At the end of the Distant Giants Survey, we will incorporate TOI-1669 c and TOI-1694 c into our calculation of P(DG|CS), a crucial statistic for understanding the relationship between outer giants and small inner companions. |\n",
       "|<p style=\"color:green\"> **ERROR** </p>| <p style=\"color:green\">affiliation error: mpia.affiliation_verifications: 'Heidelberg' keyword not found.</p> |"
      ],
      "text/plain": [
       "<IPython.core.display.Markdown object>"
      ]
     },
     "metadata": {},
     "output_type": "display_data"
    },
    {
     "data": {
      "text/markdown": [
       "\n",
       "|||\n",
       "|---:|:---|\n",
       "| [![arXiv](https://img.shields.io/badge/arXiv-arXiv:2209.07002-b31b1b.svg)](https://arxiv.org/abs/arXiv:2209.07002) | **A 31.3 day transient quasi-periodic oscillation in gamma-ray emission  from the blazar S5 0716+714**  |\n",
       "|| Junping Chen, et al. -- incl., <mark>Lisheng Mao</mark> |\n",
       "|*Appeared on*| *2022-09-16*|\n",
       "|*Comments*| *13 pages, 5 figures, accepted for publication in ApJ*|\n",
       "|**Abstract**| We systematically search for quasi-periodic oscillatory (QPO) signals on the monthly time scale among the 1525 sources given in the Fermi Large Area Telescope Light Curve Repository (LCR). We find a transient QPO of 31.3$\\pm$1.8 days in the gamma-ray band light curve of the TeV blazar S5 0716+714, which has 7 cycles (MJD 55918-56137) for the first time by Weighted wavelet Z-transform (WWZ) and Lomb-Scargle periodogram (LSP) methods. Monte Carlo simulations based on power spectral density (PSD) and probability distribution function (PDF) were used to evaluate the confidence level of the QPO, and the result is $\\sim 4.1 \\sigma$. Seasonal Autoregressive Integrated Moving Average (SARIMA) modeling of the light curve revealed it is a significant physical QPO. the physical models to explain the sporadic QPO of the month time scale in blazar were discussed. Our studies indicate that the helical jet model and blob move helically in a curved jet model to properly explain this kind of transient QPO. |\n",
       "|<p style=\"color:green\"> **ERROR** </p>| <p style=\"color:green\">affiliation error: mpia.affiliation_verifications: 'Heidelberg' keyword not found.</p> |"
      ],
      "text/plain": [
       "<IPython.core.display.Markdown object>"
      ]
     },
     "metadata": {},
     "output_type": "display_data"
    },
    {
     "data": {
      "text/markdown": [
       "\n",
       "|||\n",
       "|---:|:---|\n",
       "| [![arXiv](https://img.shields.io/badge/arXiv-arXiv:2209.07019-b31b1b.svg)](https://arxiv.org/abs/arXiv:2209.07019) | **Probing Large Scale Ionizing Background Fluctuation with Lyman $α$  Forest and Galaxy Cross-correlation at z=2.4**  |\n",
       "|| <mark>Heyang Long</mark>, Christopher M. Hirata |\n",
       "|*Appeared on*| *2022-09-16*|\n",
       "|*Comments*| *10 pages, 5 figures*|\n",
       "|**Abstract**| The amplitude of the metagalactic ultraviolet background (UVB) at large-scales is impacted by two factors. First, it naturally attenuates at scales larger than mean-free-path of UVB photons due to the absorption by neutral intergalactic medium. Second, there are discrete and rare ionizing sources distributing in the Universe, emitting the UVB photons, and thus enhancing the local UVB amplitude. Therefore, for cosmological probe that is sensitive to the UVB amplitude and capable of detecting the large scale like Lyman-$\\alpha$ forest spectrum, the fluctuation due to the clustering of ionizing sources becomes a significant factor for Lyman-$\\alpha$ flux transmission and leave imprints on Lyman-$\\alpha$ flux power spectrum at these large scales. In this work, we make use of a radiative transfer model that parametrizes the UVB source distribution by its bias $b_{\\rm j}$ and shot noise $\\overline{n}_{\\rm j}$. We estimate the constraints on this model through the cross-correlation between Lyman-$\\alpha$ forest survey and galaxy survey, using the DESI Lyman-$\\alpha$ forest survey and the Roman Space Telescope emission line galaxy survey as an example. We show the detection sensitivity improvement for UVB parameters from disjoint to maximal overlap of DESI+Roman survey strategy. We also show that the degeneracy of two ionizing source parameters can be broken by increasing the overlapping survey area. Our results motivate survey strategies more dedicated to probe the UVB large-scale fluctuations. |\n",
       "|<p style=\"color:green\"> **ERROR** </p>| <p style=\"color:green\">affiliation error: mpia.affiliation_verifications: 'Heidelberg' keyword not found.</p> |"
      ],
      "text/plain": [
       "<IPython.core.display.Markdown object>"
      ]
     },
     "metadata": {},
     "output_type": "display_data"
    },
    {
     "data": {
      "text/markdown": [
       "\n",
       "|||\n",
       "|---:|:---|\n",
       "| [![arXiv](https://img.shields.io/badge/arXiv-arXiv:2209.07071-b31b1b.svg)](https://arxiv.org/abs/arXiv:2209.07071) | **Noise2Astro: Astronomical Image Denoising With Self-Supervised  NeuralNetworks**  |\n",
       "|| <mark>Yunchong Zhang</mark>, Brian Nord, Amanda Pagul, Michael Lepori |\n",
       "|*Appeared on*| *2022-09-16*|\n",
       "|*Comments*| **|\n",
       "|**Abstract**| In observational astronomy, noise obscures signals of interest. Large-scale astronomical surveys are growing in size and complexity, which will produce more data and increase the workload of data processing. Developing automated tools, such as convolutional neural networks (CNN), for denoising has become a promising area of research. We investigate the feasibility of CNN-based self-supervised learning algorithms (e.g., Noise2Noise) for denoising astronomical images. We experimented with Noise2Noise on simulated noisy astronomical data. We evaluate the results based on the accuracy of recovering flux and morphology. This algorithm can well recover the flux for Poisson noise ( $98.13${\\raisebox{0.5ex}{\\tiny$^{+0.77}_{-0.90} $}$\\large\\%$}) and for Gaussian noise when image data has a smooth signal profile ($96.45${\\raisebox{0.5ex}{\\tiny$^{+0.80}_{-0.96} $}$\\large\\%$}). |\n",
       "|<p style=\"color:green\"> **ERROR** </p>| <p style=\"color:green\">affiliation error: mpia.affiliation_verifications: 'Heidelberg' keyword not found.</p> |"
      ],
      "text/plain": [
       "<IPython.core.display.Markdown object>"
      ]
     },
     "metadata": {},
     "output_type": "display_data"
    },
    {
     "data": {
      "text/markdown": [
       "\n",
       "|||\n",
       "|---:|:---|\n",
       "| [![arXiv](https://img.shields.io/badge/arXiv-arXiv:2209.07087-b31b1b.svg)](https://arxiv.org/abs/arXiv:2209.07087) | **On the Origin of the Strong Optical Variability of Emission-line Galaxie**  |\n",
       "|| <mark>Ruqiu Lin</mark>, et al. -- incl., <mark>Jian-Guo Wang</mark> |\n",
       "|*Appeared on*| *2022-09-16*|\n",
       "|*Comments*| *20 pages, 10 figures, accepted for publication in The Astrophysical Journal*|\n",
       "|**Abstract**| Emission-line galaxies (ELGs) are crucial in understanding the formation and evolution of galaxies, while little is known about their variability. Here we report the study on the optical variability of a sample of ELGs selected in the COSMOS field, which has narrow-band observations in two epochs separated by $\\gtrsim$ 12 years. This sample was observed with Suprime-Cam (SC) and Hyper Suprime-Cam (HSC) on the $Subaru$ telescope in NB816 and $i'/i$ bands, respectively. After carefully removing the wing effect of a narrow-band filter, we check the optical variability in a sample of 181 spectroscopically confirmed ELGs. We find that 0 (0/68) Ha emitters, 11.9% (5/42) [OIII] emitters, and 0 (0/71) [OII] emitters show significant variability ($|\\Delta m_{NB}| \\geq 3\\,\\sigma_{\\Delta m_{NB,AGN}} = 0.20\\, mag$) in the two-epoch narrow-band observations. We investigate the presence of active galactic nucleus (AGN) in this variable ELG (var-ELG) sample with three methods, including X-ray luminosity, mid-infrared activity, and radio-excess. We find zero bright AGN in this var-ELG sample, but cannot rule out the contribution from faint AGN. We find that SNe could also dominate the variability of the var-ELG sample. The merger morphology shown in the HST/F814W images of all the var-ELG sample is in agreement with the enhancement of star formation, i.e., the SNe activity. |\n",
       "|<p style=\"color:green\"> **ERROR** </p>| <p style=\"color:green\">affiliation error: mpia.affiliation_verifications: 'Heidelberg' keyword not found.</p> |"
      ],
      "text/plain": [
       "<IPython.core.display.Markdown object>"
      ]
     },
     "metadata": {},
     "output_type": "display_data"
    },
    {
     "data": {
      "text/markdown": [
       "\n",
       "|||\n",
       "|---:|:---|\n",
       "| [![arXiv](https://img.shields.io/badge/arXiv-arXiv:2209.07155-b31b1b.svg)](https://arxiv.org/abs/arXiv:2209.07155) | **Laboratory test of the VIS detector system of SOXS for the ESO-NTT  telescope**  |\n",
       "|| Rosario Cosentino, et al. -- incl., <mark>Marcos Hernandez</mark>, <mark>Hector Ventura</mark>, <mark>Ofir Hershko</mark>, <mark>Gianluca Li Causi</mark> |\n",
       "|*Appeared on*| *2022-09-16*|\n",
       "|*Comments*| **|\n",
       "|**Abstract**| SOXS is the new spectrograph for the ESO NTT telescope able to cover the optical and NIR bands thanks to two different arms: the UV-VIS (350-850 nm), and the NIR (800-2000 nm). In this article, we describe the final design of the visible camera cryostats, the test facilities for the CCD characterization, and the first results with the scientific detector. The UV-VIS detector system is based on a e2v CCD 44-82, a custom detector head coupled with the ESO Continuous Flowing Cryostat (CFC) cooling system and the New General Detector Controller (NGC) developed by ESO. The laboratory facility is based on an optical bench equipped with a Xenon lamp, filter wheels to select the wavelength, an integrating sphere, and a calibrated diode to measure the flux. This paper outlines the visible camera cryostat, the test facilities for the CCD characterization and the first results with the scientific detector in the laboratory and after the integration to the instrument. |\n",
       "|<p style=\"color:green\"> **ERROR** </p>| <p style=\"color:green\">affiliation error: mpia.affiliation_verifications: 'Heidelberg' keyword not found.</p> |"
      ],
      "text/plain": [
       "<IPython.core.display.Markdown object>"
      ]
     },
     "metadata": {},
     "output_type": "display_data"
    },
    {
     "data": {
      "text/markdown": [
       "\n",
       "|||\n",
       "|---:|:---|\n",
       "| [![arXiv](https://img.shields.io/badge/arXiv-arXiv:2209.07167-b31b1b.svg)](https://arxiv.org/abs/arXiv:2209.07167) | **Constraining Interacting Dark Energy Models from Future Generation PICO  and DESI Missions**  |\n",
       "|| <mark>Albin Joseph</mark>, Rajib Saha |\n",
       "|*Appeared on*| *2022-09-16*|\n",
       "|*Comments*| **|\n",
       "|**Abstract**| The next-generation CMB satellite missions are expected to provide robust constraints on a wide range of cosmological parameters with unprecedented precision. But these constraints on the parameters could weaken if we do not attribute dark energy to a cosmological constant. The cosmological models involving interaction between dark energy and dark matter can give rise to comparable energy densities at the present epoch, thereby alleviating the so-called cosmic coincidence problem. In the present paper, we perform a forecast analysis to test the ability of the future generation high-sensitive Cosmic Microwave Background (CMB), and Baryon Acoustic Oscillation (BAO) experiments to constrain phenomenological interacting dark energy models. We consider cosmic variance limited future CMB polarization experiment PICO along with BAO information from the DESI experiment to constrain the parameters of the interacting dark sector. Based on the stability of the cosmological perturbations, we consider two possibilities for the interaction scenario. We investigate the impact of both the coupling constant and the equation of state parameter of dark energy on the CMB temperature power spectrum, matter power spectrum, and $f\\sigma_8$. We have used simulated temperature and polarization data from PICO within the multipole ranges ($\\ell = 2 - 4000$), and as expected, we do see PICO alone produces better constraints than Planck on the $\\Lambda$CDM parameters. With the integration of the PICO and DESI missions, we observe a significant improvement in the constraints on several cosmological parameters, especially the equation of state parameter of dark energy. However, we note that additional data is required to constrain a small positive coupling constant. |\n",
       "|<p style=\"color:green\"> **ERROR** </p>| <p style=\"color:green\">affiliation error: mpia.affiliation_verifications: 'Heidelberg' keyword not found.</p> |"
      ],
      "text/plain": [
       "<IPython.core.display.Markdown object>"
      ]
     },
     "metadata": {},
     "output_type": "display_data"
    },
    {
     "data": {
      "text/markdown": [
       "\n",
       "|||\n",
       "|---:|:---|\n",
       "| [![arXiv](https://img.shields.io/badge/arXiv-arXiv:2209.07176-b31b1b.svg)](https://arxiv.org/abs/arXiv:2209.07176) | **Influence of fine structures on gyrosynchrotron emission of flare loops  modulated by sausage modes**  |\n",
       "|| Mijie Shi, <mark>Bo Li</mark>, <mark>Mingzhe Guo</mark> |\n",
       "|*Appeared on*| *2022-09-16*|\n",
       "|*Comments*| *Accepted for publication in ApJ Letters*|\n",
       "|**Abstract**| Sausage modes are one leading mechanism for interpreting short period quasi-periodic pulsations (QPPs) of solar flares. Forward modeling their radio emission is crucial for identifying sausage modes observationally and for understanding their connections with QPPs. Using the numerical output from three-dimensional magnetohydrodynamic (MHD) simulations, we forward model the gyrosynchrotron (GS) emission of flare loops modulated by sausage modes and examine the influence of loop fine structures. The temporal evolution of the emission intensity is analyzed for an oblique line of sight crossing the loop center. We find that the low- and high-frequency intensities oscillate in-phase at the period of sausage modes for models with or without fine structures. For low-frequency emissions where the optically thick regime arises, the modulation magnitude of the intensity is dramatically reduced by the fine structures at some viewing angles. On the contrary, for high-frequency emissions where the optically thin regime holds, the effect of fine structures or viewing angle is marginal. Our results show that the periodic intensity variations of sausage modes are not wiped out by the fine structures, and sausage modes remains a promising candidate mechanism for QPPs even when flare loops are fine-structured. |\n",
       "|<p style=\"color:green\"> **ERROR** </p>| <p style=\"color:green\">affiliation error: mpia.affiliation_verifications: 'Heidelberg' keyword not found.</p> |"
      ],
      "text/plain": [
       "<IPython.core.display.Markdown object>"
      ]
     },
     "metadata": {},
     "output_type": "display_data"
    },
    {
     "data": {
      "text/markdown": [
       "\n",
       "|||\n",
       "|---:|:---|\n",
       "| [![arXiv](https://img.shields.io/badge/arXiv-arXiv:2209.07179-b31b1b.svg)](https://arxiv.org/abs/arXiv:2209.07179) | **A Foreground Model Independent Bayesian CMB Temperature and Polarization  Signal Reconstruction and Cosmological Parameter Estimation over Large  Angular Scales**  |\n",
       "|| <mark>Albin Joseph</mark>, Ujjal Purkayastha, Rajib Saha |\n",
       "|*Appeared on*| *2022-09-16*|\n",
       "|*Comments*| **|\n",
       "|**Abstract**| Recent CMB observations have resulted in very precise observational data. A robust and reliable CMB reconstruction technique can lead to efficient estimation of the cosmological parameters. We demonstrate the performance of our methodology using simulated temperature and polarization observations using cosmic variance limited future generation PRISM satellite mission. We generate samples from the joint distribution by implementing the CMB inverse covariance weighted internal-linear-combination (ILC) with the Gibbs sampling technique. We use the Python Sky Model (PySM), d4f1s1 to generate the realistic foreground templates. The Synchrotron is parametrized by a spatially varying spectral index, whereas thermal dust is described as two component dust model. We estimate the marginalized densities of CMB signal ${\\bf S}$ and theoretical angular power spectrum $C_{\\ell}$ utilizing the samples from the entire posterior distribution. The best-fit cleaned CMB map and the corresponding angular power spectrum are consistent with the CMB realization and the sky $C_{\\ell}$ implying an efficient foreground minimized reconstruction. The likelihood function $P(C_{\\ell}|{\\bf D}$) estimated by making use of the Blackwell-Rao estimator is used for the estimation of the cosmological parameters. Our methodology can estimate tensor to scalar ratio $r\\ge 0.0075$. Our current work demonstrates an analysis pipeline starting from the reliable estimation of CMB signal and its angular power spectrum to the case of cosmological parameter estimation using the foreground model independent Gibbs-ILC method. |\n",
       "|<p style=\"color:green\"> **ERROR** </p>| <p style=\"color:green\">affiliation error: mpia.affiliation_verifications: 'Heidelberg' keyword not found.</p> |"
      ],
      "text/plain": [
       "<IPython.core.display.Markdown object>"
      ]
     },
     "metadata": {},
     "output_type": "display_data"
    },
    {
     "data": {
      "text/markdown": [
       "\n",
       "|||\n",
       "|---:|:---|\n",
       "| [![arXiv](https://img.shields.io/badge/arXiv-arXiv:2209.07181-b31b1b.svg)](https://arxiv.org/abs/arXiv:2209.07181) | **Dynamic scheduling for SOXS instrument: environment, algorithms and  development**  |\n",
       "|| Laura Asquini, et al. -- incl., <mark>Ofir Hershko</mark>, <mark>Marcos Hernandez</mark>, <mark>Gianluca Li Causi</mark> |\n",
       "|*Appeared on*| *2022-09-16*|\n",
       "|*Comments*| *Accepted for publication in SPIE Astronomical Telescope and Instrumentation Conference proceedings - Montreal (Canada) July 2022*|\n",
       "|**Abstract**| We present development progress of the scheduler for the Son Of X-Shooter (SOXS) instrument at the ESO-NTT 3.58 meter telescope. SOXS will be a single object spectroscopic facility, consisting of a two-arms high-efficiency spectrograph covering the spectral range 350-2000 nanometer with a mean resolving power R$\\approx$4500. SOXS will be uniquely dedicated to the UV-visible and near infrared follow up of astrophysical transients, with a very wide pool of targets available from the streaming services of wide-field telescopes, current and future. This instrument will serve a variety of scientific scopes in the astrophysical community, with each scope eliciting its specific requirements for observation planning, that the observing scheduler has to meet. Due to directions from the European Southern Observatory (ESO), the instrument will be operated only by La Silla staff, with no astronomer present on the mountain. This implies a new challenge for the scheduling process, requiring a fully automated algorithm that should be able to present the operator not only with and ordered list of optimal targets, but also with optimal back-ups, should anything in the observing conditions change. This imposes a fast-response capability to the scheduler, without compromising the optimization process, that ensures good quality of the observations. In this paper we present the current state of the scheduler, that is now almost complete, and of its web interface. |\n",
       "|<p style=\"color:green\"> **ERROR** </p>| <p style=\"color:green\">affiliation error: mpia.affiliation_verifications: 'Heidelberg' keyword not found.</p> |"
      ],
      "text/plain": [
       "<IPython.core.display.Markdown object>"
      ]
     },
     "metadata": {},
     "output_type": "display_data"
    },
    {
     "data": {
      "text/markdown": [
       "\n",
       "|||\n",
       "|---:|:---|\n",
       "| [![arXiv](https://img.shields.io/badge/arXiv-arXiv:2209.07183-b31b1b.svg)](https://arxiv.org/abs/arXiv:2209.07183) | **The Quality Check system architecture for Son-Of-X-Shooter SOXS**  |\n",
       "|| Marco Landoni, et al. -- incl., <mark>Ofir Hershko</mark>, <mark>Marcos Hernandez</mark>, <mark>Gianluca Li Causi</mark> |\n",
       "|*Appeared on*| *2022-09-16*|\n",
       "|*Comments*| *Accepted for publication in SPIE Astronomical Telescope and Instrumentation Conference proceedings (Montreal, Canada July 2022)*|\n",
       "|**Abstract**| We report the implemented architecture for monitoring the health and the quality of the Son Of X-Shooter (SOXS) spectrograph for the New Technology Telescope in La Silla at the European Southern Observatory. Briefly, we report on the innovative no-SQL database approach used for storing time-series data that best suits for automatically triggering alarm, and report high-quality graphs on the dashboard to be used by the operation support team. The system is designed to constantly and actively monitor the Key Performance Indicators (KPI) metrics, as much automatically as possible, reducing the overhead on the support and operation teams. Moreover, we will also detail about the interface designed to inject quality checks metrics from the automated SOXS Pipeline (Young et al. 2022). |\n",
       "|<p style=\"color:green\"> **ERROR** </p>| <p style=\"color:green\">affiliation error: mpia.affiliation_verifications: 'Heidelberg' keyword not found.</p> |"
      ],
      "text/plain": [
       "<IPython.core.display.Markdown object>"
      ]
     },
     "metadata": {},
     "output_type": "display_data"
    },
    {
     "data": {
      "text/markdown": [
       "\n",
       "|||\n",
       "|---:|:---|\n",
       "| [![arXiv](https://img.shields.io/badge/arXiv-arXiv:2209.07184-b31b1b.svg)](https://arxiv.org/abs/arXiv:2209.07184) | **The X-ray Polarization View of Mrk~421 in an Average Flux State as  Observed by the Imaging X-ray Polarimetry Explorer**  |\n",
       "|| Laura Di Gesu, et al. -- incl., <mark>Elina Lindfors</mark>, <mark>Ioannis Liodakis</mark>, <mark>Herman L. Marshall</mark> |\n",
       "|*Appeared on*| *2022-09-16*|\n",
       "|*Comments*| *accepted for ApJ Letters*|\n",
       "|**Abstract**| Particle acceleration mechanisms in supermassive black hole jets, such as shock acceleration, magnetic reconnection, and turbulence, are expected to have observable signatures in the multi-wavelength polarization properties of blazars. The recent launch of the Imaging X-ray Polarimetry Explorer (IXPE) enables us, for the first time, to use polarization in the X-ray band (2-8 keV) to probe the properties of the jet synchrotron emission in high-frequency-peaked BL Lac objects (HSPs). We report the discovery of X-ray linear polarization (degree $\\Pi_{\\rm x}=15\\pm$2\\% and electric-vector position angle $\\Psi_{\\rm x}=35^\\circ\\pm4^\\circ$) from the jet of the HSP Mrk~421 in an average X-ray flux state. At the same time, the degree of polarization at optical, infrared, and millimeter wavelengths was found to be lower by at least a factor of 3. During the IXPE pointing, the X-ray flux of the source increased by a factor of 2.2, while the polarization behavior was consistent with no variability. The higher level of $\\Pi_{\\rm x}$ compared to longer wavelengths, and the absence of significant polarization variability, suggest a shock as the most likely X-ray emission site in the jet of Mrk 421 during the observation. The multiwavelength polarization properties are consistent with an energy-stratified electron population, where the particles emitting at longer wavelengths are located farther from the acceleration site, where they experience a more disordered magnetic field. |\n",
       "|<p style=\"color:green\"> **ERROR** </p>| <p style=\"color:green\">affiliation error: mpia.affiliation_verifications: 'Heidelberg' keyword not found.</p> |"
      ],
      "text/plain": [
       "<IPython.core.display.Markdown object>"
      ]
     },
     "metadata": {},
     "output_type": "display_data"
    },
    {
     "data": {
      "text/markdown": [
       "\n",
       "|||\n",
       "|---:|:---|\n",
       "| [![arXiv](https://img.shields.io/badge/arXiv-arXiv:2209.07185-b31b1b.svg)](https://arxiv.org/abs/arXiv:2209.07185) | **Progress on the simulation tools for the SOXS spectrograph: Exposure  time calculator and End-to-End simulator**  |\n",
       "|| M. Genoni, et al. -- incl., <mark>G. Li Causi</mark>, <mark>O. Hershko</mark>, <mark>M. Hernandez</mark> |\n",
       "|*Appeared on*| *2022-09-16*|\n",
       "|*Comments*| *Accepted for publication in SPIE Astronomical Telescopes and Instrumentation conference proceedings (Montreal, Canada July 2022)*|\n",
       "|**Abstract**| We present the progresses of the simulation tools, the Exposure Time Calculator (ETC) and End-to-End simulator (E2E), for the Son Of X-Shooter (SOXS) instrument at the ESO-NTT 3.58-meter telescope. The SOXS will be a single object spectroscopic facility, made by a two-arms high-efficiency spectrograph, able to cover the spectral range 350-2000 nanometer with a mean resolving power R$\\approx$4500. While the purpose of the ETC is the estimate, to the best possible accuracy, of the Signal-to-Noise ratio (SNR), the E2E model allows us to simulate the propagation of photons, starting from the scientific target of interest, up to the detectors. We detail the ETC and E2E architectures, computational models and functionalities. The interface of the E2E with external simulation modules and with the pipeline are described, too. Synthetic spectral formats, related to different seeing and observing conditions, and calibration frames to be ingested by the pipeline are also presented. |\n",
       "|<p style=\"color:green\"> **ERROR** </p>| <p style=\"color:green\">affiliation error: mpia.affiliation_verifications: 'Heidelberg' keyword not found.</p> |"
      ],
      "text/plain": [
       "<IPython.core.display.Markdown object>"
      ]
     },
     "metadata": {},
     "output_type": "display_data"
    },
    {
     "data": {
      "text/markdown": [
       "\n",
       "|||\n",
       "|---:|:---|\n",
       "| [![arXiv](https://img.shields.io/badge/arXiv-arXiv:2209.07187-b31b1b.svg)](https://arxiv.org/abs/arXiv:2209.07187) | **Primordial non-Gaussianity with Angular correlation function: Integral  constraint and validation for DES**  |\n",
       "|| <mark>Walter Riquelme</mark>, et al. -- incl., <mark>Elisabeth Krause</mark> |\n",
       "|*Appeared on*| *2022-09-16*|\n",
       "|*Comments*| *16 pages, 10 figures*|\n",
       "|**Abstract**| Local primordial non-Gaussianity (PNG) is a promising observable of the underlying physics of inflation, characterized by a parameter denoted by $f_{\\rm NL}$. We present the methodology to measure local $f_{\\rm NL}$ from the Dark Energy Survey (DES) data using the 2-point angular correlation function (ACF) via the induced scale-dependent bias. One of the main focuses of the work is the treatment of the integral constraint. This condition appears when estimating the mean number density of galaxies from the data and is especially relevant for PNG analyses, where it is found to be key in obtaining unbiased $f_{\\rm NL}$ constraints. The methods are analysed for two types of simulations: $\\sim 246$ GOLIAT N-body simulations with non-Gaussian initial conditions $f_{\\rm NL}$ equal to -100 and 100, and 1952 Gaussian ICE-COLA mocks with $f_{\\rm NL}=0$ that follow the DES angular and redshift distribution. We use the GOLIAT mocks to asses the impact of the integral constraint when measuring $f_{\\rm NL}$. We obtain biased PNG constraints when ignoring the integral constraint, $f_{\\rm NL} = -2.8\\pm1.0$ for $f_{\\rm NL}=100$ simulations, and $f_{\\rm NL}=-10.3\\pm1.5$ for $f_{\\rm NL}=-100$ simulations, whereas we recover the fiducial values within $1\\sigma$ when correcting for the integral constraint with $f_{\\rm NL}=97.4\\pm3.5$ and $f_{\\rm NL}=-95.2\\pm5.4$, respectively. We use the ICE-COLA mocks to validate our analysis in a DES-like setup, finding it to be robust to different analysis choices: best-fit estimator, the effect of integral constraint, the effect of BAO damping, the choice of covariance, and scale configuration. We forecast a measurement of $f_{\\rm NL}$ within $\\sigma(f_{\\rm NL})=31$ when using the DES-Y3 BAO sample, with the ACF in the $1\\ {\\rm deg}<\\theta<20\\ {\\rm deg}$ range. |\n",
       "|<p style=\"color:green\"> **ERROR** </p>| <p style=\"color:green\">affiliation error: mpia.affiliation_verifications: 'Heidelberg' keyword not found.</p> |"
      ],
      "text/plain": [
       "<IPython.core.display.Markdown object>"
      ]
     },
     "metadata": {},
     "output_type": "display_data"
    },
    {
     "data": {
      "text/markdown": [
       "\n",
       "|||\n",
       "|---:|:---|\n",
       "| [![arXiv](https://img.shields.io/badge/arXiv-arXiv:2209.07189-b31b1b.svg)](https://arxiv.org/abs/arXiv:2209.07189) | **A GMOS/IFU Study of Jellyfish Galaxies in Massive Clusters**  |\n",
       "|| <mark>Jeong Hwan Lee</mark>, et al. -- incl., <mark>Myung Gyoon Lee</mark> |\n",
       "|*Appeared on*| *2022-09-16*|\n",
       "|*Comments*| *Accepted for publication in ApJ, 26 pages, 13 figures, 6 tables*|\n",
       "|**Abstract**| Jellyfish galaxies are an intriguing snapshot of galaxies undergoing ram-pressure stripping (RPS) in dense environments, showing spectacular star-forming knots in their disks and tails. We study the ionized gas properties of five jellyfish galaxies in massive clusters with Gemini GMOS/IFU observations: MACSJ0916-JFG1 ($z=0.330$), MACSJ1752-JFG2 ($z=0.353$), A2744-F0083 ($z=0.303$), MACSJ1258-JFG1 ($z=0.342$), and MACSJ1720-JFG1 ($z=0.383$). BPT diagrams show that various mechanisms (star formation, AGN, or mixed effects) are ionizing gas in these galaxies. Radial velocity distributions of ionized gas seem to follow disk rotation of galaxies, with the appearance of a few high-velocity components in the tails as a sign of RPS. Mean gas velocity dispersion is lower than 50 \\kms~in most star-forming regions except near AGNs or shock-heated regions, indicating that the ionized gas %in these star-forming regions is dynamically cold. Integrated star formation rates (SFRs) of these galaxies range from $7~{\\rm M_{\\odot}~{\\rm yr^{-1}}}$ to $35~{\\rm M_{\\odot}~{\\rm yr^{-1}}}$ and the tail SFRs are from $0.6~{\\rm M_{\\odot}~{\\rm yr^{-1}}}$ to $16~{\\rm M_{\\odot}~{\\rm yr^{-1}}}$, which are much higher than those of other jellyfish galaxies in the local universe. These high SFR values imply that RPS triggers intense star formation activity in these extreme jellyfish galaxies. The phase-space diagrams demonstrate that the jellyfish galaxies with higher stellar masses and higher host cluster velocity dispersion are likely to have more enhanced star formation activity. The jellyfish galaxies in this study have similar gas kinematics and dynamical states to those in the local universe, but they show a much higher SFR. |\n",
       "|<p style=\"color:green\"> **ERROR** </p>| <p style=\"color:green\">affiliation error: mpia.affiliation_verifications: 'Heidelberg' keyword not found.</p> |"
      ],
      "text/plain": [
       "<IPython.core.display.Markdown object>"
      ]
     },
     "metadata": {},
     "output_type": "display_data"
    },
    {
     "data": {
      "text/markdown": [
       "\n",
       "|||\n",
       "|---:|:---|\n",
       "| [![arXiv](https://img.shields.io/badge/arXiv-arXiv:2209.07192-b31b1b.svg)](https://arxiv.org/abs/arXiv:2209.07192) | **Progress on the SOXS transients chaser for the ESO-NTT**  |\n",
       "|| P. Schipani, et al. -- incl., <mark>O. Hershko</mark>, <mark>M. Hernandez Díaz</mark>, <mark>G. Li Causi</mark> |\n",
       "|*Appeared on*| *2022-09-16*|\n",
       "|*Comments*| *Proc. SPIE 12184, Ground-based and Airborne Instrumentation for Astronomy IX, 121840O (2022)*|\n",
       "|**Abstract**| SOXS (Son Of X-Shooter) is a single object spectrograph offering a simultaneous spectral coverage from U- to H-band, built by an international consortium for the 3.58-m ESO New Technology Telescope at the La Silla Observatory. It is designed to observe all kind of transients and variable sources discovered by different surveys with a highly flexible schedule maintained by the consortium, based on the Target of Opportunity concept. SOXS is going to be a fundamental spectroscopic partner for any kind of imaging survey, becoming one of the premier transient follow-up instruments in the Southern hemisphere. This paper gives an updated status of the project, when the instrument is in the advanced phase of integration and testing in Europe, prior to the activities in Chile. |\n",
       "|<p style=\"color:green\"> **ERROR** </p>| <p style=\"color:green\">affiliation error: mpia.affiliation_verifications: 'Heidelberg' keyword not found.</p> |"
      ],
      "text/plain": [
       "<IPython.core.display.Markdown object>"
      ]
     },
     "metadata": {},
     "output_type": "display_data"
    },
    {
     "data": {
      "text/markdown": [
       "\n",
       "|||\n",
       "|---:|:---|\n",
       "| [![arXiv](https://img.shields.io/badge/arXiv-arXiv:2209.07194-b31b1b.svg)](https://arxiv.org/abs/arXiv:2209.07194) | **The Son-Of-X-shooter (SOXS) Data-Reduction Pipeline**  |\n",
       "|| David R. Young, et al. -- incl., <mark>Ofir Hershko</mark>, <mark>Marcos Hernandez</mark>, <mark>Gianluca Li Causi</mark> |\n",
       "|*Appeared on*| *2022-09-16*|\n",
       "|*Comments*| *10 pages, 7 figures, published in SPIE proceedings volume 12189. arXiv admin note: substantial text overlap with arXiv:2012.12678*|\n",
       "|**Abstract**| The Son-Of-XShooter (SOXS) is a single object spectrograph (UV-VIS & NIR) and acquisition camera scheduled to be mounted on the ESO 3.58-m New Technology Telescope at the La Silla Observatory. Although the underlying data reduction processes to convert raw detector data to fully-reduced science ready data are complex and multi-stepped, we have designed the SOXS Data Reduction pipeline with the core aims of providing end-users with a simple-to-use, well-documented command-line interface while also allowing the pipeline to be run in a fully automated state; streaming reduced data into the ESO Science Archive Facility without need for human intervention. To keep up with the stream of data coming from the instrument, there is the requirement to optimise the software to reduce each observation block of data well within the typical observation exposure time. The pipeline is written in Python 3 and has been built with an agile development philosophy that includes CI and adaptive planning. |\n",
       "|<p style=\"color:green\"> **ERROR** </p>| <p style=\"color:green\">affiliation error: mpia.affiliation_verifications: 'Heidelberg' keyword not found.</p> |"
      ],
      "text/plain": [
       "<IPython.core.display.Markdown object>"
      ]
     },
     "metadata": {},
     "output_type": "display_data"
    },
    {
     "data": {
      "text/markdown": [
       "\n",
       "|||\n",
       "|---:|:---|\n",
       "| [![arXiv](https://img.shields.io/badge/arXiv-arXiv:2209.07197-b31b1b.svg)](https://arxiv.org/abs/arXiv:2209.07197) | **Different degrees of nitrogen and carbon depletion in the warm molecular  layers of protoplanetary disks**  |\n",
       "|| Kenji Furuya, <mark>Lee Sokho</mark>, Hideko Nomura |\n",
       "|*Appeared on*| *2022-09-16*|\n",
       "|*Comments*| *22 pages, 15 figures, accepted by ApJ*|\n",
       "|**Abstract**| Observations have revealed that the elemental abundances of carbon and oxygen in the warm molecular layers of some protoplanetary disks are depleted compared to those is the interstellar medium by a factor of ~10-100. Meanwhile, little is known about nitrogen. To investigate the time evolution of nitrogen, carbon, and oxygen elemental abundances in disks, we develop a one-dimensional model that incorporates dust settling, turbulent diffusion of dust and ices, as well as gas-ice chemistry including the chemistry driven by stellar UV/X-rays and the galactic cosmic rays. We find that gaseous CO in the warm molecular layer is converted to CO2 ice and locked up near the midplane via the combination of turbulent mixing (i.e., the vertical cold finger effect) and ice chemistry driven by stellar UV photons. On the other hand, gaseous N2, the main nitrogen reservoir in the warm molecular layer, is less processed by ice chemistry, and exists as it is. Then the nitrogen depletion occurs solely by the vertical cold finger effect of N2. As the binding energy of N2 is lower than that of CO and CO2, the degree of nitrogen depletion is smaller than that of carbon and oxygen depletion, leading to higher elemental abundance of nitrogen than that of carbon and oxygen. This evolution occurs within 1 Myr and proceeds further, when the $\\alpha$ parameter for the diffusion coefficient is ~0.001. Consequently, the N2H+/CO column density ratio increases with time. How the vertical transport affects the midplane ice composition is briefly discussed. |\n",
       "|<p style=\"color:green\"> **ERROR** </p>| <p style=\"color:green\">affiliation error: mpia.affiliation_verifications: 'Heidelberg' keyword not found.</p> |"
      ],
      "text/plain": [
       "<IPython.core.display.Markdown object>"
      ]
     },
     "metadata": {},
     "output_type": "display_data"
    },
    {
     "data": {
      "text/markdown": [
       "\n",
       "|||\n",
       "|---:|:---|\n",
       "| [![arXiv](https://img.shields.io/badge/arXiv-arXiv:2209.07198-b31b1b.svg)](https://arxiv.org/abs/arXiv:2209.07198) | **From Assembly to the Complete Integration and Verification of the SOXS  Common Path**  |\n",
       "|| Kalyan Kumar Radhakrishnan Santhakumari, et al. -- incl., <mark>O. Hershko</mark>, <mark>M. Hernandez</mark>, <mark>G. Li Causi</mark> |\n",
       "|*Appeared on*| *2022-09-16*|\n",
       "|*Comments*| *8 pages, 8 figures, SPIE conference proceeding*|\n",
       "|**Abstract**| The Son Of X-Shooter (SOXS) is a single object spectrograph offering simultaneous spectral coverage in UV-VIS (350-850 nm) and NIR (800-2000 nm) wavelength regimes with an average of R close to 4500 for a 1 slit. SOXS also has imaging capabilities in the visible wavelength regime. It is designed and optimized to observe all kinds of transients and variable sources. The final destination of SOXS is the Nasmyth platform of the ESO NTT at La Silla, Chile. The SOXS consortium has a relatively large geographic spread, and therefore the Assembly Integration and Verification (AIV) of this medium-class instrument follows a modular approach. Each of the five main sub-systems of SOXS, namely the Common Path, the Calibration Unit, the Acquisition Camera, the UV-VIS Spectrograph, and the NIR Spectrograph, are undergoing (or undergone) internal alignment and testing in the respective consortium institutes. INAF-Osservatorio Astronomico di Padova delivers the Common Path sub-system, the backbone of the entire instrument. We report the Common Path internal alignment starting from the assembly of the individual components to the final testing of the optical quality, and the efficiency of the complete sub-system. |\n",
       "|<p style=\"color:green\"> **ERROR** </p>| <p style=\"color:green\">affiliation error: mpia.affiliation_verifications: 'Heidelberg' keyword not found.</p> |"
      ],
      "text/plain": [
       "<IPython.core.display.Markdown object>"
      ]
     },
     "metadata": {},
     "output_type": "display_data"
    },
    {
     "data": {
      "text/markdown": [
       "\n",
       "|||\n",
       "|---:|:---|\n",
       "| [![arXiv](https://img.shields.io/badge/arXiv-arXiv:2209.07200-b31b1b.svg)](https://arxiv.org/abs/arXiv:2209.07200) | **The internal alignment and validation of a powered ADC for SOXS**  |\n",
       "|| F. Battaini, et al. -- incl., <mark>O. Hershkod</mark>, <mark>M. Hernandez</mark>, <mark>G. Li Causi</mark> |\n",
       "|*Appeared on*| *2022-09-16*|\n",
       "|*Comments*| **|\n",
       "|**Abstract**| The Son Of X-Shooter (SOXS) is a two-channel spectrograph along with imaging capabilities, characterized by a wide spectral coverage (350nm to 2000nm), designed for the NTT telescope at the La Silla Observatory. Its main scientific goal is the spectroscopic follow-up of transients and variable objects. The UV-VIS arm, of the Common Path sub-system, is characterized by the presence of a powered Atmospheric Dispersion Corrector composed (ADC) by two counter-rotating quadruplets, two prisms, and two lenses each. The presence of powered optics in both the optical groups represents an additional challenge in the alignment procedures. We present the characteristics of the ADC, the analysis after receiving the optics from the manufacturer, the emerging issues, the alignment strategies we followed, and the final results of the ADC in dispersion and optical quality. |\n",
       "|<p style=\"color:green\"> **ERROR** </p>| <p style=\"color:green\">affiliation error: mpia.affiliation_verifications: 'Heidelberg' keyword not found.</p> |"
      ],
      "text/plain": [
       "<IPython.core.display.Markdown object>"
      ]
     },
     "metadata": {},
     "output_type": "display_data"
    },
    {
     "data": {
      "text/markdown": [
       "\n",
       "|||\n",
       "|---:|:---|\n",
       "| [![arXiv](https://img.shields.io/badge/arXiv-arXiv:2209.07209-b31b1b.svg)](https://arxiv.org/abs/arXiv:2209.07209) | **SOXS AIT: a paradigm for system engineering of a medium class telescope  instrument**  |\n",
       "|| Riccardo Claudi, et al. -- incl., <mark>Ofir Hershko</mark>, <mark>Gianluca Li Causi</mark> |\n",
       "|*Appeared on*| *2022-09-16*|\n",
       "|*Comments*| *12 pages, 4 Figures, SPIE: Astronomical Telescope + Instrumentation, Montreal 2022. arXiv admin note: text overlap with arXiv:1812.07401*|\n",
       "|**Abstract**| SOXS (SOn of X-Shooter) is a high-efficiency spectrograph with a mean Resolution-Slit product of 3500 over the entire band capable of simultaneously observing the complete spectral range 350-2000 nm. It consists of three scientific arms (the UV-VIS Spectrograph, the NIR Spectrograph and the Acquisition Camera) connected by the Common Path system to the NTT, and the Calibration Unit. We present an overview of the flow from the scientific to the technical requirements, and the realization of the sub-systems. Further, we give an overview of the methodologies used for planning and managing the assembly of the sub-systems, their integration and tests before the acceptance of the instrument in Europe (PAE) along with the plan for the integration of SOXS to the NTT. SOXS could be used as an example for the system engineering of an instrument of moderate complexity, with a large geographic spread of the team. |\n",
       "|<p style=\"color:green\"> **ERROR** </p>| <p style=\"color:green\">affiliation error: mpia.affiliation_verifications: 'Heidelberg' keyword not found.</p> |"
      ],
      "text/plain": [
       "<IPython.core.display.Markdown object>"
      ]
     },
     "metadata": {},
     "output_type": "display_data"
    },
    {
     "data": {
      "text/markdown": [
       "\n",
       "|||\n",
       "|---:|:---|\n",
       "| [![arXiv](https://img.shields.io/badge/arXiv-arXiv:2209.07234-b31b1b.svg)](https://arxiv.org/abs/arXiv:2209.07234) | **Hermeian haloes in cosmological volumes**  |\n",
       "|| Anastasiia Osipova, et al. -- incl., <mark>Noam I. Libeskind</mark> |\n",
       "|*Appeared on*| *2022-09-16*|\n",
       "|*Comments*| *13 pages, 13 figures, submitted to MNRAS*|\n",
       "|**Abstract**| Recent studies based on numerical models of the Local Group predict the existence of field haloes and galaxies that have visited two distinct galaxies in the past, called Hermeian haloes. This work presents an analysis of the Hermeian haloes population in two high-resolution dark matter-only N-body simulations from the MultiDark suit (the ESMDPL, VSMDPL). Hermeian haloes make up from 0.5 to 2.5 per cent of the total number of field haloes depending on their mass. Furthermore, the results of our study suggest that at a sufficiently high resolution simulation, Hermeian haloes may be found around almost every halo, making them interesting for studies of matter exchange between galaxies. We find that about half (22 out of 49) of the selected Local Group analogues contain Hermeian haloes that passed through the haloes of both the Milky Way and M31 if the distance between the two main haloes is below 1 $h^{-1} \\;\\mathrm{Mpc}$; this fraction drops to one-fifth (24 out of 108) for distances of up to 1.5 $h^{-1} \\;\\mathrm{Mpc}$. We confirm earlier findings that unlike other field haloes, Hermeians are grouped along the line connecting the primary hosts of Local Group-like systems, which should facilitate their identification in observations. The vast majority of the Hermeian haloes, whose second target is a Milky Way analogue, are currently moving away from it with increased velocity compared to remaining field halo populations. Interestingly, the obtained data admits that NGC 3109 could have passed through the Andromeda Galaxy and the Milky Way earlier. |\n",
       "|<p style=\"color:green\"> **ERROR** </p>| <p style=\"color:green\">affiliation error: mpia.affiliation_verifications: 'Heidelberg' keyword not found.</p> |"
      ],
      "text/plain": [
       "<IPython.core.display.Markdown object>"
      ]
     },
     "metadata": {},
     "output_type": "display_data"
    },
    {
     "data": {
      "text/markdown": [
       "\n",
       "|||\n",
       "|---:|:---|\n",
       "| [![arXiv](https://img.shields.io/badge/arXiv-arXiv:2209.07325-b31b1b.svg)](https://arxiv.org/abs/arXiv:2209.07325) | **A Candidate of a Least-Massive Black Hole at the First 1.1 Billion Years  of the Universe**  |\n",
       "|| Masafusa Onoue, et al. -- incl., <mark>Wenxiu Li</mark>, <mark>Zhengrong Li</mark>, <mark>Linhua Jiang</mark> |\n",
       "|*Appeared on*| *2022-09-16*|\n",
       "|*Comments*| *12 pages, 4 figures, submitted to the Astrophysical Journal Letters*|\n",
       "|**Abstract**| We report a promising candidate of a low-luminosity active galactic nucleus (AGN) at z=5 that was selected from the first near-infrared images of the JWST CEERS project. This source, named CEERS-AGN-z5-1 at absolute 1450 A magnitude M1450=-19.5+/-0.3, was found via a visual selection of compact sources from a catalog of Lyman break galaxies at z>4, taking advantage of the superb spatial resolution of the JWST/NIRCam images. The 21 photometric data available from CFHT, HST, Spitzer, and JWST suggest that the continuum shape of this source is reminiscent of that for an unobscured AGN, and there is a clear color excess in the filters where the redshifted Hbeta+[O III] and Halpha are covered. The estimated line luminosity is L(Hbeta+[OIII]) =10^43.0 erg s^-1 and L(Halpha) =10^42.9 erg s^-1 with the corresponding rest-frame equivalent width EW(Hbeta+[OIII]) =1100 A and EW(Halpha) =1600 A, respectively. Our SED fitting analysis favors the scenario that this object is either a strong broad-line emitter or even a super-Eddington accreting black hole (BH) emerging in a metal-poor host galaxy. The bolometric luminosity, L_bol=2.5+/-0.3 x 10^44 erg s^-1, is consistent with those of z<0.35 broad-line AGNs with M_BH ~ 10^6 Msun accreting at the Eddington limit. This new AGN population at the first 1.1 billion years of the universe may close the gap between the observed BH mass range at high redshift and that of BH seeds. Spectroscopic confirmation is awaited to secure the redshift and its AGN nature. |\n",
       "|<p style=\"color:green\"> **ERROR** </p>| <p style=\"color:green\">affiliation error: mpia.affiliation_verifications: 'Heidelberg' keyword not found.</p> |"
      ],
      "text/plain": [
       "<IPython.core.display.Markdown object>"
      ]
     },
     "metadata": {},
     "output_type": "display_data"
    },
    {
     "data": {
      "text/markdown": [
       "\n",
       "|||\n",
       "|---:|:---|\n",
       "| [![arXiv](https://img.shields.io/badge/arXiv-arXiv:2209.07395-b31b1b.svg)](https://arxiv.org/abs/arXiv:2209.07395) | **Planck ISW-lensing likelihood and the CMB temperature**  |\n",
       "|| Julien Carron, <mark>Antony Lewis</mark>, Giulio Fabbian |\n",
       "|*Appeared on*| *2022-09-16*|\n",
       "|*Comments*| *9 pages, 10 figures*|\n",
       "|**Abstract**| We present a new Planck CMB lensing-CMB temperature cross-correlation likelihood that can be used to constrain cosmology via the Integrated Sachs-Wolfe (ISW) effect. CMB lensing is an excellent tracer of ISW, and we use the latest PR4 Planck data maps and lensing reconstruction to produce the first public Planck likelihood to constrain this signal. We demonstrate the likelihood by constraining the CMB background temperature from Planck data alone, where the ISW-lensing cross-correlation is a powerful way to break the geometric degeneracy, substantially improving constraints from the CMB and lensing power spectra alone. |\n",
       "|<p style=\"color:green\"> **ERROR** </p>| <p style=\"color:green\">affiliation error: mpia.affiliation_verifications: 'Heidelberg' keyword not found.</p> |"
      ],
      "text/plain": [
       "<IPython.core.display.Markdown object>"
      ]
     },
     "metadata": {},
     "output_type": "display_data"
    },
    {
     "data": {
      "text/markdown": [
       "\n",
       "|||\n",
       "|---:|:---|\n",
       "| [![arXiv](https://img.shields.io/badge/arXiv-arXiv:2209.07412-b31b1b.svg)](https://arxiv.org/abs/arXiv:2209.07412) | **Snowmass 2021 Cosmic Frontier White Paper: The Dense Matter Equation of  State and QCD Phase Transitions**  |\n",
       "|| Slavko Bogdanov, et al. -- incl., <mark>Bradley W. Meyers</mark> |\n",
       "|*Appeared on*| *2022-09-16*|\n",
       "|*Comments*| *Submitted to the Proceedings of the US Community Study on the Future of Particle Physics (Snowmass 2021) under Cosmic Frontier (CF07: Cosmic probes of fundamental physics); 30 pages, 8 figures*|\n",
       "|**Abstract**| Our limited understanding of the physical properties of matter at ultra-high density, high proton/neutron number asymmetry, and low temperature is presently one of the major outstanding problems in physics. As matter in this extreme state is known to only exist stably in the cores of neutron stars (NSs), complementary measurements from electromagnetic and gravitational wave astrophysical observations of NSs, combined with terrestrial laboratory constraints and further theoretical investigations, hold the promise to provide important insight into the properties of matter in a region of the quantum chromodynamics phase space that is otherwise inaccessible. This multidisciplinary endeavor imposes the following requirements for facilities and resources in the upcoming decade and beyond: * A next generation of gravitational wave detectors to uncover more double NS and neutron star-black hole mergers; * Sensitive radio telescopes to find the most massive and fastest spinning NSs; * Large-area, high-time-resolution and/or high angular resolution X-ray telescopes to constrain the NS mass-radius relation; * Suitable laboratory facilities for nuclear physics experiments to constrain the dense matter equation of state; * Funding resources for theoretical studies of matter in this regime; * The availability of modern large-scale high performance computing infrastructure. The same facilities and resources would also enable significant advances in other high-profile fields of inquiry in modern physics such as the nature of dark matter, alternative theories of gravity, nucleon superfluidity and superconductivity, as well as an array of astrophysics, including but not limited to stellar evolution, nucleosynthesis, and primordial black holes. |\n",
       "|<p style=\"color:green\"> **ERROR** </p>| <p style=\"color:green\">affiliation error: mpia.affiliation_verifications: 'Heidelberg' keyword not found.</p> |"
      ],
      "text/plain": [
       "<IPython.core.display.Markdown object>"
      ]
     },
     "metadata": {},
     "output_type": "display_data"
    },
    {
     "data": {
      "text/markdown": [
       "\n",
       "|||\n",
       "|---:|:---|\n",
       "| [![arXiv](https://img.shields.io/badge/arXiv-arXiv:2209.07460-b31b1b.svg)](https://arxiv.org/abs/arXiv:2209.07460) | **Multi-probe analysis of the galaxy cluster CL J1226.9+3332: Hydrostatic  mass and hydrostatic-to-lensing bias**  |\n",
       "|| M. Muñoz-Echeverría, et al. -- incl., <mark>C. Kramer</mark> |\n",
       "|*Appeared on*| *2022-09-16*|\n",
       "|*Comments*| **|\n",
       "|**Abstract**| The precise estimation of the mass of galaxy clusters is a major issue for cosmology. Large galaxy cluster surveys rely on scaling laws that relate cluster observables to their masses. From the high resolution observations of ~ 45 galaxy clusters with NIKA2 and XMM-Newton instruments, the NIKA2 SZ Large Program should provide an accurate scaling relation between the thermal Sunyaev-Zel'dovich effect and the hydrostatic mass. In this paper, we present an exhaustive analysis of the hydrostatic mass of the well known galaxy cluster CL J1226.9+3332, the highest-redshift cluster in the NIKA2 SZ Large Program at z = 0.89. We combine the NIKA2 observations with thermal Sunyaev-Zel'dovich data from NIKA, Bolocam and MUSTANG instruments and XMM-Newton X-ray observations and test the impact of the systematic effects on the mass reconstruction. We conclude that slight differences in the shape of the mass profile can be crucial when defining the integrated mass at R500, which demonstrates the importance of the modeling in the mass determination. We prove the robustness of our hydrostatic mass estimates by showing the agreement with all the results found in the literature. Another key information for cosmology is the bias of the masses estimated assuming hydrostatic equilibrium hypothesis. Based on the lensing convergence maps from the Cluster Lensing And Supernova survey with Hubble (CLASH) data, we obtain the lensing mass estimate for CL J1226.9+3332. From this we are able to measure the hydrostatic-to-lensing mass bias for this cluster, that spans from 1 - bHSE/lens ~ 0.7 to 1, presenting the impact of data-sets and mass reconstruction models on the bias. |\n",
       "|<p style=\"color:green\"> **ERROR** </p>| <p style=\"color:green\">affiliation error: mpia.affiliation_verifications: 'Heidelberg' keyword not found.</p> |"
      ],
      "text/plain": [
       "<IPython.core.display.Markdown object>"
      ]
     },
     "metadata": {},
     "output_type": "display_data"
    },
    {
     "data": {
      "text/markdown": [
       "\n",
       "|||\n",
       "|---:|:---|\n",
       "| [![arXiv](https://img.shields.io/badge/arXiv-arXiv:2209.07294-b31b1b.svg)](https://arxiv.org/abs/arXiv:2209.07294) | **CUBES and its software ecosystem: instrument simulation, control, and  data processing**  |\n",
       "|| Giorgio Calderone, et al. -- incl., <mark>Florian Rothmaier</mark> |\n",
       "|*Appeared on*| *2022-09-16*|\n",
       "|*Comments*| *SPIE proceedings, SPIE Astronomical Telescopes + Instrumentation 2022, Montr\\'eal, Canada*|\n",
       "|**Abstract**| CUBES (Cassegrain U-Band Efficient Spectrograph) is the recently approved high-efficiency VLT spectrograph aimed to observe the sky in the UV ground-based region (305-400 nm) with a high-resolution mode (~20K) and a low-resolution mode (~5K). In this paper we will briefly describe the requirements and the design of the several software packages involved in the project, namely the instrument control software, the exposure time calculator, the end-to-end simulator, and the data reduction software suite. We will discuss how the above mentioned blocks cooperate to build up a \"software ecosystem\" for the CUBES instrument, and to support the users from the proposal preparation to the science-grade data products. |\n",
       "|<p style=\"color:green\"> **ERROR** </p>| <p style=\"color:green\">affiliation error: mpia.affiliation_verifications: 'Planck' keyword not found.</p> |"
      ],
      "text/plain": [
       "<IPython.core.display.Markdown object>"
      ]
     },
     "metadata": {},
     "output_type": "display_data"
    },
    {
     "data": {
      "text/markdown": [
       "\n",
       "|||\n",
       "|---:|:---|\n",
       "| [![arXiv](https://img.shields.io/badge/arXiv-arXiv:2209.07182-b31b1b.svg)](https://arxiv.org/abs/arXiv:2209.07182) | **SOXS mechanical integration and verification in Italy**  |\n",
       "|| M. Aliverti, et al. -- incl., <mark>O. Hershko</mark>, <mark>M. Hernandez</mark>, <mark>G . Li Causi</mark> |\n",
       "|*Appeared on*| *2022-09-16*|\n",
       "|*Comments*| *arXiv admin note: text overlap with arXiv:2012.12693*|\n",
       "|**Abstract**| SOXS (SOn of X-Shooter) is a medium resolution (~4500) wide-band (0.35 - 2.0 {\\mu}m) spectrograph which passed the Final Design Review in 2018. The instrument is in the final integration phase and it is planned to be installed at the NTT in La Silla by next year. It is mainly composed of five different optomechanical subsystems (Common Path, NIR spectrograph, UV-VIS spectrograph, Camera, and Calibration) and other mechanical subsystems (Interface flange, Platform, cable corotator, and cooling system). A brief overview of the optomechanical subsystems is presented here as more details can be found in the specific proceedings while a more comprehensive discussion is dedicated to the other mechanical subsystems and the tools needed for the integration of the instrument. Moreover, the results obtained during the acceptance of the various mechanical elements are presented together with the experiments performed to validate the functionality of the subsystems. Finally, the mechanical integration procedure is shown here, along with all the modifications applied to correct the typical problems happening in this phase. |\n",
       "|<p style=\"color:red\"> **ERROR** </p>| <p style=\"color:red\">latex error not a gzip file</p> |"
      ],
      "text/plain": [
       "<IPython.core.display.Markdown object>"
      ]
     },
     "metadata": {},
     "output_type": "display_data"
    },
    {
     "data": {
      "text/markdown": [
       "\n",
       "|||\n",
       "|---:|:---|\n",
       "| [![arXiv](https://img.shields.io/badge/arXiv-arXiv:2209.07201-b31b1b.svg)](https://arxiv.org/abs/arXiv:2209.07201) | **Progress on the SOXS NIR Spectrograph AIT**  |\n",
       "|| Fabrizio Vitali, et al. -- incl., <mark>Marcos Hernandez Diaz</mark>, <mark>Ofir Hershko</mark>, <mark>Gianluca Li Causi</mark> |\n",
       "|*Appeared on*| *2022-09-16*|\n",
       "|*Comments*| *6 pages, 8 Figures, SPIE: Astronomical Telescope + Instrumentation, Montreal 2022*|\n",
       "|**Abstract**| The Son Of X-Shooter (SOXS) is a single object spectrograph, built by an international consortium for the 3.58-m ESO New Technology Telescope at the La Silla Observatory, ranging from 350 to 2000 nm. In this paper, we present the progress in the AIT phase of the Near InfraRed (NIR) arm. We describe the different AIT phases of the cryo, vacuum, opto-mechanics and detector subsystems, that finally converged at the INAF-OAB premises in Merate (Italy), where the NIR spectrograph is currently being assembled and tested, before the final assembly on SOXS. |\n",
       "|<p style=\"color:red\"> **ERROR** </p>| <p style=\"color:red\">latex error not a gzip file</p> |"
      ],
      "text/plain": [
       "<IPython.core.display.Markdown object>"
      ]
     },
     "metadata": {},
     "output_type": "display_data"
    },
    {
     "data": {
      "text/markdown": [
       "\n",
       "|||\n",
       "|---:|:---|\n",
       "| [![arXiv](https://img.shields.io/badge/arXiv-arXiv:2209.07208-b31b1b.svg)](https://arxiv.org/abs/arXiv:2209.07208) | **The vacuum and cryogenics system of the SOXS spectrograph**  |\n",
       "|| S. Scuderi, et al. -- incl., <mark>O. Hershko</mark>, <mark>M. Hernandez Diaz</mark>, <mark>G. Li Causi</mark> |\n",
       "|*Appeared on*| *2022-09-16*|\n",
       "|*Comments*| *12 pages, 6 figures, SPIE proceedings of the conference Advances in Optical and Mechanical Technologies for Telescopes and Instrumentation IV*|\n",
       "|**Abstract**| SOXS (Son Of X-Shooter) is a single object spectrograph built by an international consortium for the ESO NTT telescope. SOXS is based on the heritage of the X-Shooter at the ESO-VLT with two arms (UV-VIS and NIR) working in parallel, with a Resolution-Slit product of about 4500, capable of simultaneously observing over the entire band the complete spectral range from the U- to the H-band. SOXS will carry out rapid and long-term Target of Opportunity requests on a variety of astronomical objects. The SOXS vacuum and cryogenic control system has been designed to evacuate, cool down and maintain the UV-VIS detector and the entire NIR spectrograph to their operating temperatures. The design chosen allows the two arms to be operated independently. This paper describes the final design of the cryo-vacuum control system, its functionalities and the tests performed in the integration laboratories. |\n",
       "|<p style=\"color:red\"> **ERROR** </p>| <p style=\"color:red\">latex error not a gzip file</p> |"
      ],
      "text/plain": [
       "<IPython.core.display.Markdown object>"
      ]
     },
     "metadata": {},
     "output_type": "display_data"
    }
   ],
   "source": [
    "import datetime\n",
    "today = str(datetime.date.today())\n",
    "logfile = f\"_build/html/logs/log-{today}.md\"\n",
    "\n",
    "\n",
    "with open(logfile, 'w') as logs:\n",
    "    # Success\n",
    "    logs.write(f'# Arxiv on Deck 2: Logs - {today}\\n\\n')\n",
    "    logs.write(\"\"\"* Arxiv had {0:,d} new papers\\n\"\"\".format(len(new_papers)))\n",
    "    logs.write(\"\"\"    * {0:,d} with possible author matches\\n\\n\"\"\".format(len(candidates)))\n",
    "    logs.write(\"## Sucessful papers\\n\\n\")\n",
    "    display(Markdown(\"## Successful papers\"))\n",
    "    success = [k[0] for k in documents]\n",
    "    for candid in candidates:\n",
    "        if candid['identifier'].split(':')[-1] in success:\n",
    "            display(candid)\n",
    "            logs.write(candid.generate_markdown_text() + '\\n\\n')\n",
    "\n",
    "    ## failed\n",
    "    logs.write(\"## Failed papers\\n\\n\")\n",
    "    display(Markdown(\"## Failed papers\"))\n",
    "    failed = sorted(failed, key=lambda x: x[1])\n",
    "    current_reason = \"\"\n",
    "    for paper, reason in failed:\n",
    "        if 'affiliation' in reason:\n",
    "            color = 'green'\n",
    "        else:\n",
    "            color = 'red'\n",
    "        data = Markdown(\n",
    "                paper.generate_markdown_text() + \n",
    "                f'\\n|<p style=\"color:{color:s}\"> **ERROR** </p>| <p style=\"color:{color:s}\">{reason:s}</p> |'\n",
    "               )\n",
    "        if reason != current_reason:\n",
    "            logs.write(f'### {reason:s} \\n\\n')\n",
    "            current_reason = reason\n",
    "        logs.write(data.data + '\\n\\n')\n",
    "        \n",
    "        # only display here the important errors (all in logs)\n",
    "        # if color in ('red',):\n",
    "        display(data)"
   ]
  },
  {
   "cell_type": "markdown",
   "id": "472d20ee",
   "metadata": {
    "papermill": {
     "duration": 0.032838,
     "end_time": "2022-09-16T05:25:14.688695",
     "exception": false,
     "start_time": "2022-09-16T05:25:14.655857",
     "status": "completed"
    },
    "tags": []
   },
   "source": [
    "## Export documents\n",
    "\n",
    "We now write the .md files and export relevant images"
   ]
  },
  {
   "cell_type": "code",
   "execution_count": 7,
   "id": "d426aed9",
   "metadata": {
    "execution": {
     "iopub.execute_input": "2022-09-16T05:25:14.728196Z",
     "iopub.status.busy": "2022-09-16T05:25:14.727667Z",
     "iopub.status.idle": "2022-09-16T05:25:14.737289Z",
     "shell.execute_reply": "2022-09-16T05:25:14.736445Z"
    },
    "papermill": {
     "duration": 0.0284,
     "end_time": "2022-09-16T05:25:14.739175",
     "exception": false,
     "start_time": "2022-09-16T05:25:14.710775",
     "status": "completed"
    },
    "tags": []
   },
   "outputs": [],
   "source": [
    "def export_markdown_summary(md: str, md_fname:str, directory: str):\n",
    "    \"\"\"Export MD document and associated relevant images\"\"\"\n",
    "    import os\n",
    "    import shutil\n",
    "    import re\n",
    "\n",
    "    if (os.path.exists(directory) and not os.path.isdir(directory)):\n",
    "        raise RuntimeError(f\"a non-directory file exists with name {directory:s}\")\n",
    "\n",
    "    if (not os.path.exists(directory)):\n",
    "        print(f\"creating directory {directory:s}\")\n",
    "        os.mkdir(directory)\n",
    "\n",
    "    fig_fnames = (re.compile(r'\\[Fig.*\\]\\((.*)\\)').findall(md) + \n",
    "                  re.compile(r'\\<img src=\"([^>\\s]*)\"[^>]*/>').findall(md))\n",
    "    for fname in fig_fnames:\n",
    "        if 'http' in fname:\n",
    "            # No need to copy online figures\n",
    "            continue\n",
    "        destdir = os.path.join(directory, os.path.dirname(fname))\n",
    "        destfname = os.path.join(destdir, os.path.basename(fname))\n",
    "        try:\n",
    "            os.makedirs(destdir)\n",
    "        except FileExistsError:\n",
    "            pass\n",
    "        shutil.copy(fname, destfname)\n",
    "    with open(os.path.join(directory, md_fname), 'w') as fout:\n",
    "        fout.write(md)\n",
    "    print(\"exported in \", os.path.join(directory, md_fname))\n",
    "    [print(\"    + \" + os.path.join(directory,fk)) for fk in fig_fnames]"
   ]
  },
  {
   "cell_type": "code",
   "execution_count": 8,
   "id": "014d04a4",
   "metadata": {
    "execution": {
     "iopub.execute_input": "2022-09-16T05:25:14.771995Z",
     "iopub.status.busy": "2022-09-16T05:25:14.771410Z",
     "iopub.status.idle": "2022-09-16T05:25:14.781410Z",
     "shell.execute_reply": "2022-09-16T05:25:14.780620Z"
    },
    "papermill": {
     "duration": 0.028357,
     "end_time": "2022-09-16T05:25:14.783232",
     "exception": false,
     "start_time": "2022-09-16T05:25:14.754875",
     "status": "completed"
    },
    "tags": []
   },
   "outputs": [
    {
     "name": "stdout",
     "output_type": "stream",
     "text": [
      "exported in  _build/html/2209.06833.md\n",
      "    + _build/html/tmp_2209.06833/./gaia_bh1_mosaic.png\n",
      "    + _build/html/tmp_2209.06833/./gaia_bh1_rvfig.png\n",
      "    + _build/html/tmp_2209.06833/./gaia_bh1_search_volume_different_cuts.png\n"
     ]
    }
   ],
   "source": [
    "for paper_id, md in documents:\n",
    "    export_markdown_summary(md, f\"{paper_id:s}.md\", '_build/html/')"
   ]
  },
  {
   "cell_type": "markdown",
   "id": "f087a0a7",
   "metadata": {
    "papermill": {
     "duration": 0.016407,
     "end_time": "2022-09-16T05:25:14.815309",
     "exception": false,
     "start_time": "2022-09-16T05:25:14.798902",
     "status": "completed"
    },
    "tags": []
   },
   "source": [
    "## Display the papers\n",
    "\n",
    "Not necessary but allows for a quick check."
   ]
  },
  {
   "cell_type": "code",
   "execution_count": 9,
   "id": "fd25f625",
   "metadata": {
    "execution": {
     "iopub.execute_input": "2022-09-16T05:25:14.849528Z",
     "iopub.status.busy": "2022-09-16T05:25:14.848603Z",
     "iopub.status.idle": "2022-09-16T05:25:14.857063Z",
     "shell.execute_reply": "2022-09-16T05:25:14.855767Z"
    },
    "papermill": {
     "duration": 0.027992,
     "end_time": "2022-09-16T05:25:14.859042",
     "exception": false,
     "start_time": "2022-09-16T05:25:14.831050",
     "status": "completed"
    },
    "scrolled": false,
    "tags": []
   },
   "outputs": [
    {
     "data": {
      "text/markdown": [
       "<div class=\"macros\" style=\"visibility:hidden;\">\n",
       "$\\newcommand{\\ensuremath}{}$\n",
       "$\\newcommand{\\xspace}{}$\n",
       "$\\newcommand{\\object}[1]{\\texttt{#1}}$\n",
       "$\\newcommand{\\farcs}{{.}''}$\n",
       "$\\newcommand{\\farcm}{{.}'}$\n",
       "$\\newcommand{\\arcsec}{''}$\n",
       "$\\newcommand{\\arcmin}{'}$\n",
       "$\\newcommand{\\ion}[2]{#1#2}$\n",
       "$\\newcommand{\\textsc}[1]{\\textrm{#1}}$\n",
       "$\\newcommand{\\hl}[1]{\\textrm{#1}}$\n",
       "$\\newcommand{\\shrug}[1][]{$\n",
       "$\\begin{tikzpicture}[baseline,x=0.8\\ht\\strutbox,y=0.8\\ht\\strutbox,line width=0.125ex,#1]$\n",
       "$\\newcommand{\\arm}{(-2.5,0.95) to (-2,0.95) (-1.9,1) to (-1.5,0) (-1.35,0) to (-0.8,0)}$\n",
       "$\\draw \\arm;$\n",
       "$\\draw[xscale=-1] \\arm;$\n",
       "$\\newcommand{\\headpart}{(0.6,0) arc[start angle=-40, end angle=40,x radius=0.6,y radius=0.8]}$\n",
       "$\\draw \\headpart;$\n",
       "$\\draw[xscale=-1] \\headpart;$\n",
       "$\\newcommand{\\eye}{(-0.075,0.15) .. controls (0.02,0) .. (0.075,-0.15)}$\n",
       "$\\draw[shift={(-0.3,0.8)}] \\eye;$\n",
       "$\\draw[shift={(0,0.85)}] \\eye;$\n",
       "$\\draw (-0.1,0.2) to [out=15,in=-100] (0.4,0.95);$\n",
       "$\\end{tikzpicture}}$\n",
       "$\\newcommand{\\red}[1]{\\textcolor{red}{#1}}$\n",
       "$\\newcommand{\\blue}[1]{\\textcolor{blue}{#1}}$\n",
       "$\\newcommand{\\xmark}{\\ding{55}}$\n",
       "$\\newcommand{\\cmark}{\\ding{51}}$\n",
       "$\\newcommand{\\thebibliography}{\\DeclareRobustCommand{\\VAN}[3]{##3}\\VANthebibliography}$\n",
       "$\\newcommand{\\arm}{(-2.5,0.95) to (-2,0.95) (-1.9,1) to (-1.5,0) (-1.35,0) to (-0.8,0)}$\n",
       "$\\newcommand{\\headpart}{(0.6,0) arc[start angle=-40, end angle=40,x radius=0.6,y radius=0.8]}$\n",
       "$\\newcommand{\\eye}{(-0.075,0.15) .. controls (0.02,0) .. (0.075,-0.15)}$\n",
       "$\\newcommand{\\}{mn}$\n",
       "$\\newcommand{\\}{mn}$\n",
       "$\\newcommand{\\}{mn}$\n",
       "$\\newcommand{\\}{mn}$\n",
       "$\\newcommand{\\}{mn}$\n",
       "$\\newcommand{\\}{mn}$\n",
       "$\\newcommand{\\}{mn}$\n",
       "$\\newcommand{\\@}{tempa}$\n",
       "$\\newcommand{\\@}{tempa }$\n",
       "$\\newcommand{\\@}{tempb }$\n",
       "$\\newcommand{\\@}{tempc$\n",
       "$  }$\n",
       "$\\newcommand{\\@}{tempb }$</div>\n",
       "\n",
       "<div class=\"macros\" style=\"visibility:hidden;\">\n",
       "$\\newcommand{$\\ensuremath$}{}$\n",
       "$\\newcommand{$\\xspace$}{}$\n",
       "$\\newcommand{$\\object$}[1]{\\texttt{#1}}$\n",
       "$\\newcommand{$\\farcs$}{{.}''}$\n",
       "$\\newcommand{$\\farcm$}{{.}'}$\n",
       "$\\newcommand{$\\arcsec$}{''}$\n",
       "$\\newcommand{$\\arcmin$}{'}$\n",
       "$\\newcommand{$\\ion$}[2]{#1#2}$\n",
       "$\\newcommand{$\\textsc$}[1]{\\textrm{#1}}$\n",
       "$\\newcommand{$\\hl$}[1]{\\textrm{#1}}$\n",
       "$\\newcommand{\\shrug}[1][]{$\n",
       "$\\begin{tikzpicture}[baseline,x=0.8\\ht\\strutbox,y=0.8\\ht\\strutbox,line width=0.125ex,#1]$\n",
       "$\\newcommand{$\\arm$}{(-2.5,0.95) to (-2,0.95) (-1.9,1) to (-1.5,0) (-1.35,0) to (-0.8,0)}$\n",
       "$\\draw $\\arm$;$\n",
       "$\\draw[xscale=-1] $\\arm$;$\n",
       "$\\newcommand{$\\headpart$}{(0.6,0) arc[start angle=-40, end angle=40,x radius=0.6,y radius=0.8]}$\n",
       "$\\draw $\\headpart$;$\n",
       "$\\draw[xscale=-1] $\\headpart$;$\n",
       "$\\newcommand{$\\eye$}{(-0.075,0.15) .. controls (0.02,0) .. (0.075,-0.15)}$\n",
       "$\\draw[shift={(-0.3,0.8)}] $\\eye$;$\n",
       "$\\draw[shift={(0,0.85)}] $\\eye$;$\n",
       "$\\draw (-0.1,0.2) to [out=15,in=-100] (0.4,0.95);$\n",
       "$\\end{tikzpicture}}$\n",
       "$\\newcommand{$\\red$}[1]{\\textcolor{red}{#1}}$\n",
       "$\\newcommand{$\\blue$}[1]{\\textcolor{blue}{#1}}$\n",
       "$\\newcommand{$\\xmark$}{\\ding{55}}$\n",
       "$\\newcommand{$\\cmark$}{\\ding{51}}$\n",
       "$\\newcommand{$\\thebibliography$}{\\DeclareRobustCommand{\\VAN}[3]{##3}\\VANthebibliography}$\n",
       "$\\newcommand{$\\arm$}{(-2.5,0.95) to (-2,0.95) (-1.9,1) to (-1.5,0) (-1.35,0) to (-0.8,0)}$\n",
       "$\\newcommand{$\\headpart$}{(0.6,0) arc[start angle=-40, end angle=40,x radius=0.6,y radius=0.8]}$\n",
       "$\\newcommand{$\\eye$}{(-0.075,0.15) .. controls (0.02,0) .. (0.075,-0.15)}$\n",
       "$\\newcommand{\\}{mn}$\n",
       "$\\newcommand{\\}{mn}$\n",
       "$\\newcommand{\\}{mn}$\n",
       "$\\newcommand{\\}{mn}$\n",
       "$\\newcommand{\\}{mn}$\n",
       "$\\newcommand{\\}{mn}$\n",
       "$\\newcommand{\\}{mn}$\n",
       "$\\newcommand{\\@}{tempa}$\n",
       "$\\newcommand{\\@}{tempa }$\n",
       "$\\newcommand{\\@}{tempb }$\n",
       "$\\newcommand{\\@}{tempc$\n",
       "$  }$\n",
       "$\\newcommand{\\@}{tempb }$</div>\n",
       "\n",
       "\n",
       "\n",
       "<div id=\"title\">\n",
       "\n",
       "# A Sun-like star orbiting a black hole\n",
       "\n",
       "</div>\n",
       "<div id=\"comments\">\n",
       "\n",
       "[![arXiv](https://img.shields.io/badge/arXiv-2209.06833-b31b1b.svg)](https://arxiv.org/abs/2209.06833)<mark>Appeared on: 2022-09-16</mark> - _29 pages, 15 figures, 1-2 black holes. Submitted to MNRAS_\n",
       "\n",
       "</div>\n",
       "<div id=\"authors\">\n",
       "\n",
       "Kareem El-Badry, et al. -- incl., <mark><mark>Hans-Walter Rix</mark></mark>, <mark><mark>Rhys Seeburger</mark></mark>, <mark><mark>Silvia Almada Monter</mark></mark>, <mark><mark>Jennifer Wojno</mark></mark>\n",
       "\n",
       "</div>\n",
       "<div id=\"abstract\">\n",
       "\n",
       "**Abstract:** We report  discovery of a bright, nearby ($G = 13.8;  d = 480 \\rm pc$) Sun-like star orbiting a dark object. We identified the system as a black hole candidate via its astrometric orbital solution from the{\\it Gaia}mission. Radial velocity monitoring validated and refined the{\\it Gaia}solution, and spectroscopy ruled out significant light contributions from another star. Joint modeling of radial velocities and astrometry constrains the companion mass to$M_2 = 9.8\\pm 0.2 M_{\\odot}$. The spectroscopic orbit alone sets a minimum companion mass of$M_2>5 M_{\\odot}$; if the companion were a$5 M_{\\odot}$star, it would be$500$times more luminous than the entire system. These constraints are  insensitive to the assumed mass of the luminous star, which appears as a slowly-rotating G dwarf ($T_{\\rm eff}=5850 \\rm K$,$\\log g = 4.5$,$M=0.93 M_{\\odot}$), with near-solar metallicity ($\\rm[Fe/H] = -0.2$) and an unremarkable abundance pattern. We find no plausible astrophysical scenario that can explain the orbit and does not involve a black hole. The orbital period,$P_{\\rm orb}=185.6$days, is longer than that of any known stellar-mass black hole binary, and the eccentricity is modest,$e=0.45$. The system's Galactic orbit is typical of thin-disk stars, suggesting that it formed in the Milky Way disk with at most a weak natal kick. Explaining the system's formation with standard binary evolutionary models is challenging: it is difficult for the luminous star to survive a common envelope event under standard assumptions, and difficult for it to end up in a wide orbit afterward. Formation models involving triples or dynamical assembly in an open cluster may be more promising.This is the nearest known black hole by a factor of 3, and its discovery suggests the existence of a sizable population of dormant black holes in binaries. Future{\\it Gaia}releases will likely facilitate the discovery of dozens more.\n",
       "\n",
       "</div>\n",
       "\n",
       "<div id=\"div_fig1\">\n",
       "\n",
       "<img src=\"tmp_2209.06833/./gaia_bh1_mosaic.png\" alt=\"Fig2\" width=\"100%\"/>\n",
       "\n",
       "**Figure 2. -** Properties of the luminous star. Upper left shows a 45 arcsecond wide $z$/$g$ PanSTARRS postage stamp centered on the source. Upper right shows the broadband SED and a single-star fit. Red points show observed photometry; open black squares show the integrated fluxes predicted for the model spectrum (black line). Lower left compares the source to the rest of the {\\it Gaia} astrometric binary sample on the color-magnitude diagram. Lower right compares the temperature and radius measured from the SED to single-star MIST evolutionary models with [Fe/H] = -0.2 (as measured from spectroscopy), which suggest a mass of $M_\\star \\approx 0.93 M_{\\odot}$.  (*fig:mosaic*)\n",
       "\n",
       "</div>\n",
       "<div id=\"div_fig2\">\n",
       "\n",
       "<img src=\"tmp_2209.06833/./gaia_bh1_rvfig.png\" alt=\"Fig3\" width=\"100%\"/>\n",
       "\n",
       "**Figure 3. -** Radial velocities. Points with error bars are measurements; gray lines are draws from the posterior when jointly fitting these RVs and the {\\it Gaia} astrometric constraints. Top panel shows all available RVs, including observations by the LAMOST survey in 2017 and 2019; bottom panel highlights our follow-up in 2022. The best-fit solution has a period of 186 days, eccentricity 0.45, and RV semi-amplitude of $68 \\rm km s^{-1}$. Together with the inclination constraint from astrometry, this implies a companion mass of $9.8\\pm 0.2 M_{\\odot}$.  (*fig:rvfig*)\n",
       "\n",
       "</div>\n",
       "<div id=\"div_fig3\">\n",
       "\n",
       "<img src=\"tmp_2209.06833/./gaia_bh1_search_volume_different_cuts.png\" alt=\"Fig1\" width=\"100%\"/>\n",
       "\n",
       "**Figure 1. -** Number of sources in {\\it Gaia} DR3 in which a $10 M_{\\odot}$ dark companion could be detected. Black line shows the cuts employed in DR3 (Equations \\ref{eq:cut} and \\ref{eq:acut}), which remove most short-period binaries. Dashed red line corresponds to simply requiring $a_0/\\sigma_{a_0} > 10$ and $\\varpi/\\sigma_{\\varpi} > 10$; this results in a much larger searchable volume at short periods. Binaries with periods near 1 year are excluded, being difficult to detect with astrometry.   (*fig:volume_different_cuts*)\n",
       "\n",
       "</div>"
      ],
      "text/plain": [
       "<IPython.core.display.Markdown object>"
      ]
     },
     "metadata": {},
     "output_type": "display_data"
    }
   ],
   "source": [
    "[display(Markdown(k[1])) for k in documents];"
   ]
  },
  {
   "cell_type": "markdown",
   "id": "873873a4",
   "metadata": {
    "papermill": {
     "duration": 0.016362,
     "end_time": "2022-09-16T05:25:14.891887",
     "exception": false,
     "start_time": "2022-09-16T05:25:14.875525",
     "status": "completed"
    },
    "tags": []
   },
   "source": [
    "# Create HTML index"
   ]
  },
  {
   "cell_type": "code",
   "execution_count": 10,
   "id": "cf665672",
   "metadata": {
    "execution": {
     "iopub.execute_input": "2022-09-16T05:25:14.966314Z",
     "iopub.status.busy": "2022-09-16T05:25:14.965597Z",
     "iopub.status.idle": "2022-09-16T05:25:14.976680Z",
     "shell.execute_reply": "2022-09-16T05:25:14.975838Z"
    },
    "papermill": {
     "duration": 0.069626,
     "end_time": "2022-09-16T05:25:14.978580",
     "exception": false,
     "start_time": "2022-09-16T05:25:14.908954",
     "status": "completed"
    },
    "tags": []
   },
   "outputs": [
    {
     "name": "stdout",
     "output_type": "stream",
     "text": [
      "33  publications in the last 7 days.\n",
      "\t _build/html/2209.06833.md\n",
      "\t _build/html/2209.05814.md\n",
      "\t _build/html/2209.05593.md\n",
      "\t _build/html/2209.04304.md\n",
      "\t _build/html/2209.03367.md\n",
      "\t _build/html/2209.02872.md\n",
      "\t _build/html/2209.02725.md\n",
      "\t _build/html/2209.02722.md\n",
      "\t _build/html/2209.02092.md\n",
      "\t _build/html/2209.01125.md\n",
      "\t _build/html/2209.00828.md\n",
      "\t _build/html/2209.00363.md\n",
      "\t _build/html/2208.14927.md\n",
      "\t _build/html/2208.09335.md\n",
      "\t _build/html/2208.08872.md\n",
      "\t _build/html/2204.06393.md\n",
      "\t _build/html/2204.03335.md\n",
      "\t _build/html/2204.03253.md\n",
      "\t _build/html/2204.02998.md\n",
      "\t _build/html/2204.02109.md\n",
      "\t _build/html/2204.02017.md\n",
      "\t _build/html/2204.01824.md\n",
      "\t _build/html/2204.01758.md\n",
      "\t _build/html/2204.01245.md\n",
      "\t _build/html/2204.00793.md\n",
      "\t _build/html/2204.00342.md\n",
      "\t _build/html/2203.16959.md\n",
      "\t _build/html/2203.16856.md\n",
      "\t _build/html/2203.16735.md\n",
      "\t _build/html/2203.16734.md\n",
      "\t _build/html/2203.16504.md\n",
      "\t _build/html/2203.15822.md\n",
      "\t _build/html/2203.15811.md\n"
     ]
    }
   ],
   "source": [
    "from datetime import datetime, timedelta, timezone\n",
    "from glob import glob\n",
    "\n",
    "files = glob('_build/html/*.md')\n",
    "days = 7\n",
    "now = datetime.today()\n",
    "res = []\n",
    "for fk in files:\n",
    "    stat_result = os.stat(fk).st_ctime\n",
    "    modified = datetime.fromtimestamp(stat_result, tz=timezone.utc).replace(tzinfo=None)\n",
    "    delta = now.today() - modified\n",
    "    if delta <= timedelta(days=days):\n",
    "        res.append((delta.seconds, fk))\n",
    "res = [k[1] for k in reversed(sorted(res, key=lambda x:x[1]))]\n",
    "npub = len(res)\n",
    "print(len(res), f\" publications in the last {days:d} days.\")\n",
    "[ print('\\t', k) for k in res ];"
   ]
  },
  {
   "cell_type": "code",
   "execution_count": 11,
   "id": "52ca0208",
   "metadata": {
    "execution": {
     "iopub.execute_input": "2022-09-16T05:25:15.014306Z",
     "iopub.status.busy": "2022-09-16T05:25:15.013982Z",
     "iopub.status.idle": "2022-09-16T05:25:15.021965Z",
     "shell.execute_reply": "2022-09-16T05:25:15.020851Z"
    },
    "papermill": {
     "duration": 0.028186,
     "end_time": "2022-09-16T05:25:15.023772",
     "exception": false,
     "start_time": "2022-09-16T05:25:14.995586",
     "status": "completed"
    },
    "scrolled": false,
    "tags": []
   },
   "outputs": [],
   "source": [
    "def create_carousel(npub=4):\n",
    "    \"\"\" Generate the HTML code for a carousel with `npub` slides \"\"\"\n",
    "    carousel = [\"\"\"<section class=\"carousel\" aria-label=\"Gallery\">\"\"\",\n",
    "                \"\"\"  <ol class=\"carousel__viewport\">\"\"\",\n",
    "    ]\n",
    "    for k in range(1, npub + 1):\n",
    "        prev_ = k - 1\n",
    "        next_ = k + 1\n",
    "        if prev_ <= 0:\n",
    "            prev_ = npub\n",
    "        if next_ > npub:\n",
    "            next_ = 1\n",
    "        text  = f\"\"\"    <li id=\"carousel__slide{k}\" tabindex=\"0\" class=\"carousel__slide\">\\n\"\"\"\n",
    "        text += f\"\"\"       <div class=\"carousel__snapper\">\\n\"\"\"\n",
    "        text += f\"\"\"         <a href=\"#carousel__slide{prev_}\" class=\"carousel__prev\">Go to previous slide</a>\\n\"\"\"\n",
    "        text += f\"\"\"         <a href=\"#carousel__slide{next_}\" class=\"carousel__next\">Go to next slide</a>\\n\"\"\"\n",
    "        text += f\"\"\"         <div id=\"slide{k}_content\" class=\"md_view\" >Content {k}</div>\\n\"\"\"\n",
    "        text += f\"\"\"       </div>\\n\"\"\"\n",
    "        text += f\"\"\"    </li>\"\"\"\n",
    "        carousel.append(text)\n",
    "\n",
    "    carousel.extend([\n",
    "        \"\"\"  </ol>\"\"\",\n",
    "        \"\"\"  <aside class=\"carousel__navigation\">\"\"\",\n",
    "        \"\"\"    <ol class=\"carousel__navigation-list\">\"\"\"])\n",
    "\n",
    "    for k in range(1, npub + 1):\n",
    "        text  = f\"\"\"      <li class=\"carousel__navigation-item\">\\n\"\"\"\n",
    "        text += f\"\"\"        <a href=\"#carousel__slide{k}\" class=\"carousel__navigation-button\">Go to {k}</a>\\n\"\"\"\n",
    "        text += f\"\"\"      </li>\"\"\"\n",
    "        carousel.append(text)\n",
    "    carousel.extend([\"\"\"    </ol>\"\"\", \"\"\"  </aside>\"\"\", \"\"\"</section>\"\"\"])\n",
    "\n",
    "    return '\\n'.join(carousel)"
   ]
  },
  {
   "cell_type": "code",
   "execution_count": 12,
   "id": "a6eac5b6",
   "metadata": {
    "execution": {
     "iopub.execute_input": "2022-09-16T05:25:15.060444Z",
     "iopub.status.busy": "2022-09-16T05:25:15.060085Z",
     "iopub.status.idle": "2022-09-16T05:25:15.069619Z",
     "shell.execute_reply": "2022-09-16T05:25:15.068320Z"
    },
    "papermill": {
     "duration": 0.03062,
     "end_time": "2022-09-16T05:25:15.071600",
     "exception": false,
     "start_time": "2022-09-16T05:25:15.040980",
     "status": "completed"
    },
    "scrolled": false,
    "tags": []
   },
   "outputs": [],
   "source": [
    "carousel = create_carousel(npub)\n",
    "docs = ', '.join(['\"{0:s}\"'.format(k.split('/')[-1]) for k in res])\n",
    "slides = ', '.join([f'\"slide{k}_content\"' for k in range(1, npub + 1)])\n",
    "\n",
    "script = f\"\"\"\n",
    "const docs = [{docs}]\n",
    "\n",
    "const slides = [{slides}]\n",
    "\"\"\" + \"\"\"\n",
    "async function run() {\n",
    "    for (let i = 0; i < docs.length; i++) {\n",
    "        let file = await fetch(docs[i]);\n",
    "        let text = await file.text()\n",
    "        document.getElementById(slides[i]).innerHTML =\n",
    "            marked.parse(text);\n",
    "    }\n",
    "    hljs.highlightAll();\n",
    "}\n",
    "run()\n",
    "\"\"\"\n",
    "\n",
    "page = f\"\"\"<!doctype html>\n",
    "<html lang=\"en\">\n",
    "\n",
    "<head>\n",
    "  <meta charset=\"utf-8\">\n",
    "  <meta name=\"viewport\" content=\"width=device-width, initial-scale=1\">\n",
    "  <!-- Bootstrap CSS -->\n",
    "  <link href=\"https://cdn.jsdelivr.net/npm/bootstrap@5.0.2/dist/css/bootstrap.min.css\" rel=\"stylesheet\"\n",
    "   integrity=\"sha384-EVSTQN3/azprG1Anm3QDgpJLIm9Nao0Yz1ztcQTwFspd3yD65VohhpuuCOmLASjC\" crossorigin=\"anonymous\">\n",
    "  <!-- highlight.js CSS -->\n",
    "  <link rel=\"stylesheet\" href=\"https://cdnjs.cloudflare.com/ajax/libs/highlight.js/11.1.0/styles/default.min.css\">\n",
    "  <!-- Mathjax 3 -->\n",
    "  <script type=\"text/javascript\" id=\"MathJax-config\" src=\"mathjax_config.js\"> </script>\n",
    "  <script type=\"text/javascript\" id=\"MathJax-script\" async \n",
    "    src=\"https://cdn.jsdelivr.net/npm/mathjax@3/es5/tex-mml-chtml.js\">\n",
    "  </script>\n",
    "  <link rel=\"stylesheet\" href=\"index_carousel.css\">\n",
    "  <link rel=\"icon\" type=\"image/x-icon\" href=\"https://www.mpia.de/assets/touch-icon-32x32-a66937bcebc4e8894ebff1f41a366c7c7220fd97a38869ee0f2db65a9f59b6c1.png\">\n",
    "  <title>MPIA Arxiv on deck!</title>\n",
    "</head>\n",
    "\n",
    "<body>\n",
    "  <div id=\"header\"> <img src=\"header_banner.png\" width=\"100%\"></div>\n",
    "  <div id=\"suptitle\"> 7-day archives </div>\n",
    "  <div id=\"info\">\n",
    "    <img src=\"https://pngimg.com/uploads/github/github_PNG58.png\" height=30rem></img>\n",
    "    <a href=https://github.com/mpi-astronomy/arxiv_display style=\"color:black;\">github/mpi-astronomy/arxiv_display</a> \n",
    "  </div>\n",
    "  {carousel:s}\n",
    "</body>\n",
    "\n",
    "<!-- Render Markdown -->\n",
    "\n",
    "<body>\n",
    "  <!-- highlight.js: https://highlightjs.org/download/ -->\n",
    "  <script src=\"https://cdnjs.cloudflare.com/ajax/libs/highlight.js/11.5.0/highlight.min.js\"></script>\n",
    "  <!-- marked.js -->\n",
    "  <script src=\"https://cdn.jsdelivr.net/npm/marked/marked.min.js\"></script>\n",
    "  <script>{script:s}</script>\n",
    "</body>\n",
    "</html>\n",
    "\"\"\"\n",
    "with open(\"_build/html/index_7days.html\", 'w') as fout:\n",
    "    fout.write(page)"
   ]
  },
  {
   "cell_type": "markdown",
   "id": "1cebacbc",
   "metadata": {
    "papermill": {
     "duration": 0.017262,
     "end_time": "2022-09-16T05:25:15.106360",
     "exception": false,
     "start_time": "2022-09-16T05:25:15.089098",
     "status": "completed"
    },
    "tags": []
   },
   "source": [
    "# Debugging papers"
   ]
  },
  {
   "cell_type": "raw",
   "id": "debe7cc6",
   "metadata": {
    "papermill": {
     "duration": 0.017361,
     "end_time": "2022-09-16T05:25:15.141044",
     "exception": false,
     "start_time": "2022-09-16T05:25:15.123683",
     "status": "completed"
    },
    "tags": []
   },
   "source": [
    "raise NotImplementedError(\"Manual Stop\")"
   ]
  },
  {
   "cell_type": "raw",
   "id": "eb169192",
   "metadata": {
    "papermill": {
     "duration": 0.017027,
     "end_time": "2022-09-16T05:25:15.175278",
     "exception": false,
     "start_time": "2022-09-16T05:25:15.158251",
     "status": "completed"
    },
    "scrolled": true,
    "tags": []
   },
   "source": [
    "from IPython.display import display, Markdown\n",
    "from TexSoup import TexSoup\n",
    "import re\n",
    "\n",
    "def bracket_error(source: str):\n",
    "    \"\"\" Find problematic portions of the document \"\"\"\n",
    "    \n",
    "    print(\"len(source)\", len(source))\n",
    "    \n",
    "    # Checking header\n",
    "    begin_doc = next(re.finditer(r'\\\\begin\\{document\\}', doc.source)).span()[1]\n",
    "    header = source[:begin_doc]\n",
    "    text = header + r\"\\n\\end{document}\"\n",
    "\n",
    "    try:\n",
    "        # print(\"Header check... \", end='')\n",
    "        TexSoup(text)\n",
    "        display(Markdown(f\"**[OK]** - Header\"))\n",
    "    except:\n",
    "        raise RuntimeError(\"Error in the header\")\n",
    "        \n",
    "    # Check the text per section until the end.\n",
    "    # Do not stop and try them all.\n",
    "    \n",
    "    problematic_text = []\n",
    "    \n",
    "    sections = ([(0, begin_doc, 'until first section')] + \n",
    "                [(g.span()[0], g.span()[1], g.group()) for g in re.finditer(r'\\\\section\\{.*\\}', source)] +\n",
    "                [(g.span()[0], g.span()[1], g.group()) for g in re.finditer(r'\\\\begin\\{appendix\\}', source)]\n",
    "               )\n",
    "    sections.append([len(source), len(source), 'end'])\n",
    "    \n",
    "    sections = sorted(sections, key=lambda x: x[0])\n",
    "    \n",
    "    prev_pos, prev_name = (0, 'header')\n",
    "    parsed = []\n",
    "    \n",
    "    for span, span_end, name in sections:\n",
    "\n",
    "        if span - prev_pos <= 0:\n",
    "            continue\n",
    "            \n",
    "\n",
    "        text = source[prev_pos:span]\n",
    "        if prev_pos > begin_doc:\n",
    "            text = r\"\\n\\begin{document}\" + text + r\"\\n\\end{document}\"\n",
    "        else:\n",
    "            text = text + r\"\\n\\end{document}\"\n",
    "        try:\n",
    "            #print(f\"{prev_pos}:{prev_name}-->{span}:{name} check... \", end='')\n",
    "            parsed.append(TexSoup(text, tolerance=1))  # allow not ending env\n",
    "            display(Markdown(f\"**[OK]** - *{prev_pos}*:{prev_name} &rarr; *{span}*:{name}\"))\n",
    "            # print(\"ok\")\n",
    "\n",
    "            prev_pos = span\n",
    "            prev_name = name\n",
    "        except:\n",
    "            # print(f\"error between {prev_pos} and {span}\")\n",
    "            display(Markdown(f\"**[ERR]** *{prev_pos}*:{prev_name} &rarr; *{span}*:{name}\"))\n",
    "            problematic_text.append((prev_pos, source[prev_pos:span]))\n",
    "            prev_pos = span\n",
    "            prev_name = name\n",
    "            # raise\n",
    "    return problematic_text, parsed\n",
    "\n",
    "\n",
    "def check_environment(text, offset=0):\n",
    "    \"\"\" Check environment \"\"\"\n",
    "    env = re.compile(r\"\\\\begin\\{(?P<env>.*)\\}(.*)\\\\end\\{(?P=env)\\}\", re.DOTALL)\n",
    "\n",
    "    for match in env.finditer(text):\n",
    "        beg, end = match.span()\n",
    "        beg += offset\n",
    "        end += offset\n",
    "        envname = match.groups()[0]\n",
    "        try:\n",
    "            latex.TexSoup(match.group())\n",
    "        except Exception as e:\n",
    "            display(e)\n",
    "            print(f\"Error in {envname:s} between {beg} and {end}\")\n",
    "            return match.groups()[1], beg, end"
   ]
  },
  {
   "cell_type": "raw",
   "id": "2315e835",
   "metadata": {
    "papermill": {
     "duration": 0.01703,
     "end_time": "2022-09-16T05:25:15.209350",
     "exception": false,
     "start_time": "2022-09-16T05:25:15.192320",
     "status": "completed"
    },
    "scrolled": false,
    "tags": []
   },
   "source": [
    "import importlib\n",
    "importlib.reload(latex)\n",
    "which = \"2204.03253\"\n",
    "paper_id = f'{which:s}'\n",
    "folder = f'tmp_{paper_id:s}'\n",
    "\n",
    "if not os.path.isdir(folder):\n",
    "    folder = retrieve_document_source(f\"{paper_id}\", f'tmp_{paper_id}')\n",
    "\n",
    "try:\n",
    "    doc = latex.LatexDocument(folder, validation=validation)    \n",
    "except AffiliationError as affilerror:\n",
    "    msg = f\"ArXiv:{paper_id:s} is not an MPIA paper... \" + str(affilerror)\n",
    "    print(msg)\n",
    "\n",
    "\n",
    "# Hack because sometimes author parsing does not work well\n",
    "if (len(doc.authors) != len(paper['authors'])):\n",
    "    doc._authors = paper['authors']\n",
    "if (doc.abstract) in (None, ''):\n",
    "    doc._abstract = paper['abstract']\n",
    "\n",
    "doc.comment = get_markdown_badge(paper_id) + \" _\" + paper['comments'] + \"_\"\n",
    "doc.highlight_authors_in_list(hl_list)\n",
    "\n",
    "full_md = doc.generate_markdown_text()"
   ]
  },
  {
   "cell_type": "raw",
   "id": "dd3781db",
   "metadata": {
    "papermill": {
     "duration": 0.01714,
     "end_time": "2022-09-16T05:25:15.243117",
     "exception": false,
     "start_time": "2022-09-16T05:25:15.225977",
     "status": "completed"
    },
    "scrolled": false,
    "tags": []
   },
   "source": [
    "doc"
   ]
  },
  {
   "cell_type": "raw",
   "id": "c6eed834",
   "metadata": {
    "papermill": {
     "duration": 0.016988,
     "end_time": "2022-09-16T05:25:15.277106",
     "exception": false,
     "start_time": "2022-09-16T05:25:15.260118",
     "status": "completed"
    },
    "tags": []
   },
   "source": [
    "# [check_environment(k) for k in bracket_error(doc.source)]\n",
    "_, _, a = latex.get_content_per_section(doc.source, verbose=True)\n",
    "if not a:\n",
    "    print(\"no issues per section\")\n",
    "for ak in a:\n",
    "    r = check_environment(ak[1], offset=ak[0])\n",
    "    print(r[1], r[2])\n",
    "    print(r[0])"
   ]
  },
  {
   "cell_type": "code",
   "execution_count": null,
   "id": "71ce768a",
   "metadata": {
    "papermill": {
     "duration": 0.016762,
     "end_time": "2022-09-16T05:25:15.310674",
     "exception": false,
     "start_time": "2022-09-16T05:25:15.293912",
     "status": "completed"
    },
    "tags": []
   },
   "outputs": [],
   "source": []
  }
 ],
 "metadata": {
  "kernelspec": {
   "display_name": "Python 3.10.6 64-bit",
   "language": "python",
   "name": "python3"
  },
  "language_info": {
   "codemirror_mode": {
    "name": "ipython",
    "version": 3
   },
   "file_extension": ".py",
   "mimetype": "text/x-python",
   "name": "python",
   "nbconvert_exporter": "python",
   "pygments_lexer": "ipython3",
   "version": "3.9.13"
  },
  "papermill": {
   "default_parameters": {},
   "duration": 328.694292,
   "end_time": "2022-09-16T05:25:15.648590",
   "environment_variables": {},
   "exception": null,
   "input_path": "MPIA daily digest.ipynb",
   "output_path": "log.ipynb",
   "parameters": {},
   "start_time": "2022-09-16T05:19:46.954298",
   "version": "2.4.0"
  },
  "vscode": {
   "interpreter": {
    "hash": "e7370f93d1d0cde622a1f8e1c04877d8463912d04d973331ad4851f04de6915a"
   }
  },
  "widgets": {
   "application/vnd.jupyter.widget-state+json": {
    "state": {
     "08152119640d4bfd926b6ae82a7801a9": {
      "model_module": "@jupyter-widgets/controls",
      "model_module_version": "2.0.0",
      "model_name": "HTMLModel",
      "state": {
       "_dom_classes": [],
       "_model_module": "@jupyter-widgets/controls",
       "_model_module_version": "2.0.0",
       "_model_name": "HTMLModel",
       "_view_count": null,
       "_view_module": "@jupyter-widgets/controls",
       "_view_module_version": "2.0.0",
       "_view_name": "HTMLView",
       "description": "",
       "description_allow_html": false,
       "layout": "IPY_MODEL_38dfe3a2611d4b4dabf5b7c1a8f90dcc",
       "placeholder": "​",
       "style": "IPY_MODEL_44d6cb7714584855a34dc0505273b43a",
       "tabbable": null,
       "tooltip": null,
       "value": "100%"
      }
     },
     "102009794151452f8b7d2fe3a7dda985": {
      "model_module": "@jupyter-widgets/base",
      "model_module_version": "2.0.0",
      "model_name": "LayoutModel",
      "state": {
       "_model_module": "@jupyter-widgets/base",
       "_model_module_version": "2.0.0",
       "_model_name": "LayoutModel",
       "_view_count": null,
       "_view_module": "@jupyter-widgets/base",
       "_view_module_version": "2.0.0",
       "_view_name": "LayoutView",
       "align_content": null,
       "align_items": null,
       "align_self": null,
       "border_bottom": null,
       "border_left": null,
       "border_right": null,
       "border_top": null,
       "bottom": null,
       "display": null,
       "flex": null,
       "flex_flow": null,
       "grid_area": null,
       "grid_auto_columns": null,
       "grid_auto_flow": null,
       "grid_auto_rows": null,
       "grid_column": null,
       "grid_gap": null,
       "grid_row": null,
       "grid_template_areas": null,
       "grid_template_columns": null,
       "grid_template_rows": null,
       "height": null,
       "justify_content": null,
       "justify_items": null,
       "left": null,
       "margin": null,
       "max_height": null,
       "max_width": null,
       "min_height": null,
       "min_width": null,
       "object_fit": null,
       "object_position": null,
       "order": null,
       "overflow": null,
       "padding": null,
       "right": null,
       "top": null,
       "visibility": null,
       "width": null
      }
     },
     "38dfe3a2611d4b4dabf5b7c1a8f90dcc": {
      "model_module": "@jupyter-widgets/base",
      "model_module_version": "2.0.0",
      "model_name": "LayoutModel",
      "state": {
       "_model_module": "@jupyter-widgets/base",
       "_model_module_version": "2.0.0",
       "_model_name": "LayoutModel",
       "_view_count": null,
       "_view_module": "@jupyter-widgets/base",
       "_view_module_version": "2.0.0",
       "_view_name": "LayoutView",
       "align_content": null,
       "align_items": null,
       "align_self": null,
       "border_bottom": null,
       "border_left": null,
       "border_right": null,
       "border_top": null,
       "bottom": null,
       "display": null,
       "flex": null,
       "flex_flow": null,
       "grid_area": null,
       "grid_auto_columns": null,
       "grid_auto_flow": null,
       "grid_auto_rows": null,
       "grid_column": null,
       "grid_gap": null,
       "grid_row": null,
       "grid_template_areas": null,
       "grid_template_columns": null,
       "grid_template_rows": null,
       "height": null,
       "justify_content": null,
       "justify_items": null,
       "left": null,
       "margin": null,
       "max_height": null,
       "max_width": null,
       "min_height": null,
       "min_width": null,
       "object_fit": null,
       "object_position": null,
       "order": null,
       "overflow": null,
       "padding": null,
       "right": null,
       "top": null,
       "visibility": null,
       "width": null
      }
     },
     "4126ecdc69af414c834a771fdc716682": {
      "model_module": "@jupyter-widgets/controls",
      "model_module_version": "2.0.0",
      "model_name": "HTMLStyleModel",
      "state": {
       "_model_module": "@jupyter-widgets/controls",
       "_model_module_version": "2.0.0",
       "_model_name": "HTMLStyleModel",
       "_view_count": null,
       "_view_module": "@jupyter-widgets/base",
       "_view_module_version": "2.0.0",
       "_view_name": "StyleView",
       "background": null,
       "description_width": "",
       "font_size": null,
       "text_color": null
      }
     },
     "44d6cb7714584855a34dc0505273b43a": {
      "model_module": "@jupyter-widgets/controls",
      "model_module_version": "2.0.0",
      "model_name": "HTMLStyleModel",
      "state": {
       "_model_module": "@jupyter-widgets/controls",
       "_model_module_version": "2.0.0",
       "_model_name": "HTMLStyleModel",
       "_view_count": null,
       "_view_module": "@jupyter-widgets/base",
       "_view_module_version": "2.0.0",
       "_view_name": "StyleView",
       "background": null,
       "description_width": "",
       "font_size": null,
       "text_color": null
      }
     },
     "7e67f4d88ee544278385ed6b54b64336": {
      "model_module": "@jupyter-widgets/controls",
      "model_module_version": "2.0.0",
      "model_name": "HTMLModel",
      "state": {
       "_dom_classes": [],
       "_model_module": "@jupyter-widgets/controls",
       "_model_module_version": "2.0.0",
       "_model_name": "HTMLModel",
       "_view_count": null,
       "_view_module": "@jupyter-widgets/controls",
       "_view_module_version": "2.0.0",
       "_view_name": "HTMLView",
       "description": "",
       "description_allow_html": false,
       "layout": "IPY_MODEL_102009794151452f8b7d2fe3a7dda985",
       "placeholder": "​",
       "style": "IPY_MODEL_4126ecdc69af414c834a771fdc716682",
       "tabbable": null,
       "tooltip": null,
       "value": " 42/42 [05:01&lt;00:00, 10.13s/it]"
      }
     },
     "acadad330ee0413da48bd46d239e0929": {
      "model_module": "@jupyter-widgets/controls",
      "model_module_version": "2.0.0",
      "model_name": "HBoxModel",
      "state": {
       "_dom_classes": [],
       "_model_module": "@jupyter-widgets/controls",
       "_model_module_version": "2.0.0",
       "_model_name": "HBoxModel",
       "_view_count": null,
       "_view_module": "@jupyter-widgets/controls",
       "_view_module_version": "2.0.0",
       "_view_name": "HBoxView",
       "box_style": "",
       "children": [
        "IPY_MODEL_08152119640d4bfd926b6ae82a7801a9",
        "IPY_MODEL_c4949f60763c486b954a7f86a42ebb75",
        "IPY_MODEL_7e67f4d88ee544278385ed6b54b64336"
       ],
       "layout": "IPY_MODEL_c40eb4e269e146a4a9a248513e58e5ec",
       "tabbable": null,
       "tooltip": null
      }
     },
     "c40eb4e269e146a4a9a248513e58e5ec": {
      "model_module": "@jupyter-widgets/base",
      "model_module_version": "2.0.0",
      "model_name": "LayoutModel",
      "state": {
       "_model_module": "@jupyter-widgets/base",
       "_model_module_version": "2.0.0",
       "_model_name": "LayoutModel",
       "_view_count": null,
       "_view_module": "@jupyter-widgets/base",
       "_view_module_version": "2.0.0",
       "_view_name": "LayoutView",
       "align_content": null,
       "align_items": null,
       "align_self": null,
       "border_bottom": null,
       "border_left": null,
       "border_right": null,
       "border_top": null,
       "bottom": null,
       "display": null,
       "flex": null,
       "flex_flow": null,
       "grid_area": null,
       "grid_auto_columns": null,
       "grid_auto_flow": null,
       "grid_auto_rows": null,
       "grid_column": null,
       "grid_gap": null,
       "grid_row": null,
       "grid_template_areas": null,
       "grid_template_columns": null,
       "grid_template_rows": null,
       "height": null,
       "justify_content": null,
       "justify_items": null,
       "left": null,
       "margin": null,
       "max_height": null,
       "max_width": null,
       "min_height": null,
       "min_width": null,
       "object_fit": null,
       "object_position": null,
       "order": null,
       "overflow": null,
       "padding": null,
       "right": null,
       "top": null,
       "visibility": null,
       "width": null
      }
     },
     "c4949f60763c486b954a7f86a42ebb75": {
      "model_module": "@jupyter-widgets/controls",
      "model_module_version": "2.0.0",
      "model_name": "FloatProgressModel",
      "state": {
       "_dom_classes": [],
       "_model_module": "@jupyter-widgets/controls",
       "_model_module_version": "2.0.0",
       "_model_name": "FloatProgressModel",
       "_view_count": null,
       "_view_module": "@jupyter-widgets/controls",
       "_view_module_version": "2.0.0",
       "_view_name": "ProgressView",
       "bar_style": "success",
       "description": "",
       "description_allow_html": false,
       "layout": "IPY_MODEL_c597b9b02aff4b199b6887376693a6db",
       "max": 42.0,
       "min": 0.0,
       "orientation": "horizontal",
       "style": "IPY_MODEL_ffe9f15814f041bb80d1ff755808186b",
       "tabbable": null,
       "tooltip": null,
       "value": 42.0
      }
     },
     "c597b9b02aff4b199b6887376693a6db": {
      "model_module": "@jupyter-widgets/base",
      "model_module_version": "2.0.0",
      "model_name": "LayoutModel",
      "state": {
       "_model_module": "@jupyter-widgets/base",
       "_model_module_version": "2.0.0",
       "_model_name": "LayoutModel",
       "_view_count": null,
       "_view_module": "@jupyter-widgets/base",
       "_view_module_version": "2.0.0",
       "_view_name": "LayoutView",
       "align_content": null,
       "align_items": null,
       "align_self": null,
       "border_bottom": null,
       "border_left": null,
       "border_right": null,
       "border_top": null,
       "bottom": null,
       "display": null,
       "flex": null,
       "flex_flow": null,
       "grid_area": null,
       "grid_auto_columns": null,
       "grid_auto_flow": null,
       "grid_auto_rows": null,
       "grid_column": null,
       "grid_gap": null,
       "grid_row": null,
       "grid_template_areas": null,
       "grid_template_columns": null,
       "grid_template_rows": null,
       "height": null,
       "justify_content": null,
       "justify_items": null,
       "left": null,
       "margin": null,
       "max_height": null,
       "max_width": null,
       "min_height": null,
       "min_width": null,
       "object_fit": null,
       "object_position": null,
       "order": null,
       "overflow": null,
       "padding": null,
       "right": null,
       "top": null,
       "visibility": null,
       "width": null
      }
     },
     "ffe9f15814f041bb80d1ff755808186b": {
      "model_module": "@jupyter-widgets/controls",
      "model_module_version": "2.0.0",
      "model_name": "ProgressStyleModel",
      "state": {
       "_model_module": "@jupyter-widgets/controls",
       "_model_module_version": "2.0.0",
       "_model_name": "ProgressStyleModel",
       "_view_count": null,
       "_view_module": "@jupyter-widgets/base",
       "_view_module_version": "2.0.0",
       "_view_name": "StyleView",
       "bar_color": null,
       "description_width": ""
      }
     }
    },
    "version_major": 2,
    "version_minor": 0
   }
  }
 },
 "nbformat": 4,
 "nbformat_minor": 5
}