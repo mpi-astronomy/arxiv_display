{
 "cells": [
  {
   "cell_type": "markdown",
   "id": "92bcb855",
   "metadata": {
    "papermill": {
     "duration": 0.005003,
     "end_time": "2023-07-21T04:05:22.454623",
     "exception": false,
     "start_time": "2023-07-21T04:05:22.449620",
     "status": "completed"
    },
    "tags": []
   },
   "source": [
    "# MPIA Arxiv on Deck 2\n",
    "\n",
    "Contains the steps to produce the paper extractions."
   ]
  },
  {
   "cell_type": "code",
   "execution_count": 1,
   "id": "3a0d6e11",
   "metadata": {
    "execution": {
     "iopub.execute_input": "2023-07-21T04:05:22.463651Z",
     "iopub.status.busy": "2023-07-21T04:05:22.463159Z",
     "iopub.status.idle": "2023-07-21T04:05:22.701196Z",
     "shell.execute_reply": "2023-07-21T04:05:22.700472Z"
    },
    "papermill": {
     "duration": 0.245061,
     "end_time": "2023-07-21T04:05:22.703503",
     "exception": false,
     "start_time": "2023-07-21T04:05:22.458442",
     "status": "completed"
    },
    "tags": []
   },
   "outputs": [],
   "source": [
    "# Imports\n",
    "import os\n",
    "from IPython.display import Markdown, display\n",
    "from tqdm.notebook import tqdm\n",
    "import warnings\n",
    "from PIL import Image \n",
    "\n",
    "# requires arxiv_on_deck_2\n",
    "\n",
    "from arxiv_on_deck_2.arxiv2 import (get_new_papers, \n",
    "                                    get_paper_from_identifier,\n",
    "                                    retrieve_document_source, \n",
    "                                    get_markdown_badge)\n",
    "from arxiv_on_deck_2 import (latex,\n",
    "                             latex_bib,\n",
    "                             mpia,\n",
    "                             highlight_authors_in_list)\n",
    "\n",
    "# Sometimes images are really big\n",
    "Image.MAX_IMAGE_PIXELS = 1000000000 "
   ]
  },
  {
   "cell_type": "code",
   "execution_count": 2,
   "id": "22aa9d44",
   "metadata": {
    "execution": {
     "iopub.execute_input": "2023-07-21T04:05:22.713190Z",
     "iopub.status.busy": "2023-07-21T04:05:22.712673Z",
     "iopub.status.idle": "2023-07-21T04:05:22.718753Z",
     "shell.execute_reply": "2023-07-21T04:05:22.718037Z"
    },
    "papermill": {
     "duration": 0.012564,
     "end_time": "2023-07-21T04:05:22.720369",
     "exception": false,
     "start_time": "2023-07-21T04:05:22.707805",
     "status": "completed"
    },
    "tags": []
   },
   "outputs": [],
   "source": [
    "# Some useful definitions.\n",
    "\n",
    "class AffiliationWarning(UserWarning):\n",
    "    pass\n",
    "\n",
    "class AffiliationError(RuntimeError):\n",
    "    pass\n",
    "\n",
    "def validation(source: str):\n",
    "    \"\"\"Raises error paper during parsing of source file\n",
    "    \n",
    "    Allows checks before parsing TeX code.\n",
    "    \n",
    "    Raises AffiliationWarning\n",
    "    \"\"\"\n",
    "    check = mpia.affiliation_verifications(source, verbose=True)\n",
    "    if check is not True:\n",
    "        raise AffiliationError(\"mpia.affiliation_verifications: \" + check)\n",
    "\n",
    "        \n",
    "warnings.simplefilter('always', AffiliationWarning)\n",
    "\n",
    "\n",
    "def get_markdown_qrcode(paper_id: str):\n",
    "    \"\"\" Generate a qrcode to the arxiv page using qrserver.com\n",
    "    \n",
    "    :param paper: Arxiv paper\n",
    "    :returns: markdown text\n",
    "    \"\"\"\n",
    "    url = r\"https://api.qrserver.com/v1/create-qr-code/?size=100x100&data=\"\n",
    "    txt = f\"\"\"<img src={url}\"https://arxiv.org/abs/{paper_id}\">\"\"\"\n",
    "    txt = '<div id=\"qrcode\">' + txt + '</div>'\n",
    "    return txt"
   ]
  },
  {
   "cell_type": "markdown",
   "id": "14bd6310",
   "metadata": {
    "papermill": {
     "duration": 0.003462,
     "end_time": "2023-07-21T04:05:22.727421",
     "exception": false,
     "start_time": "2023-07-21T04:05:22.723959",
     "status": "completed"
    },
    "tags": []
   },
   "source": [
    "## get list of arxiv paper candidates\n",
    "\n",
    "We use the MPIA mitarbeiter list webpage from mpia.de to get author names\n",
    "We then get all new papers from Arxiv and match authors"
   ]
  },
  {
   "cell_type": "code",
   "execution_count": 3,
   "id": "2645e73a",
   "metadata": {
    "execution": {
     "iopub.execute_input": "2023-07-21T04:05:22.735967Z",
     "iopub.status.busy": "2023-07-21T04:05:22.735318Z",
     "iopub.status.idle": "2023-07-21T04:05:43.736135Z",
     "shell.execute_reply": "2023-07-21T04:05:43.735317Z"
    },
    "papermill": {
     "duration": 21.006846,
     "end_time": "2023-07-21T04:05:43.737780",
     "exception": false,
     "start_time": "2023-07-21T04:05:22.730934",
     "status": "completed"
    },
    "tags": []
   },
   "outputs": [
    {
     "name": "stdout",
     "output_type": "stream",
     "text": [
      "K. Kreckel  ->  K. Kreckel  |  ['K. Kreckel']\n",
      "E. Schinnerer  ->  E. Schinnerer  |  ['E. Schinnerer']\n"
     ]
    },
    {
     "name": "stdout",
     "output_type": "stream",
     "text": [
      "Arxiv has 60 new papers today\n",
      "          2 with possible author matches\n"
     ]
    }
   ],
   "source": [
    "# get list from MPIA website\n",
    "# it automatically filters identified non-scientists :func:`mpia.filter_non_scientists`\n",
    "mpia_authors = mpia.get_mpia_mitarbeiter_list()\n",
    "normed_mpia_authors = [k[1] for k in mpia_authors]   # initials + fullname\n",
    "new_papers = get_new_papers()\n",
    "# add manual references\n",
    "add_paper_refs = []\n",
    "new_papers.extend([get_paper_from_identifier(k) for k in add_paper_refs])\n",
    "\n",
    "candidates = []\n",
    "for paperk in new_papers:\n",
    "    # Check author list with their initials\n",
    "    normed_author_list = [mpia.get_initials(k) for k in paperk['authors']]\n",
    "    hl_authors = highlight_authors_in_list(normed_author_list, normed_mpia_authors, verbose=True)\n",
    "    matches = [(hl, orig) for hl, orig in zip(hl_authors, paperk['authors']) if 'mark' in hl]\n",
    "    paperk['authors'] = hl_authors\n",
    "    if matches:\n",
    "        # only select paper if an author matched our list\n",
    "        candidates.append(paperk)\n",
    "print(\"\"\"Arxiv has {0:,d} new papers today\"\"\".format(len(new_papers)))        \n",
    "print(\"\"\"          {0:,d} with possible author matches\"\"\".format(len(candidates)))"
   ]
  },
  {
   "cell_type": "markdown",
   "id": "3543b34a",
   "metadata": {
    "papermill": {
     "duration": 0.005274,
     "end_time": "2023-07-21T04:05:43.747032",
     "exception": false,
     "start_time": "2023-07-21T04:05:43.741758",
     "status": "completed"
    },
    "tags": []
   },
   "source": [
    "# Parse sources and generate relevant outputs\n",
    "\n",
    "From the candidates, we do the following steps:\n",
    "* get their tarball from ArXiv (and extract data)\n",
    "* find the main .tex file: find one with \\documentclass{...} (sometimes it's non trivial)\n",
    "* Check affiliations with :func:`validation`, which uses :func:`mpia.affiliation_verifications`\n",
    "* If passing the affiliations: we parse the .tex source\n",
    "   * inject sub-documents into the main (flatten the main document)\n",
    "   * parse structure, extract information (title, abstract, authors, figures...)\n",
    "   * handles `\\graphicspath` if provided\n",
    "* Generate the .md document."
   ]
  },
  {
   "cell_type": "code",
   "execution_count": 4,
   "id": "9576b79e",
   "metadata": {
    "execution": {
     "iopub.execute_input": "2023-07-21T04:05:43.756004Z",
     "iopub.status.busy": "2023-07-21T04:05:43.755241Z",
     "iopub.status.idle": "2023-07-21T04:08:28.100288Z",
     "shell.execute_reply": "2023-07-21T04:08:28.099549Z"
    },
    "papermill": {
     "duration": 164.352086,
     "end_time": "2023-07-21T04:08:28.102720",
     "exception": false,
     "start_time": "2023-07-21T04:05:43.750634",
     "status": "completed"
    },
    "scrolled": false,
    "tags": []
   },
   "outputs": [
    {
     "data": {
      "application/vnd.jupyter.widget-view+json": {
       "model_id": "8c1e0ee26b304ea78a8a540b01804428",
       "version_major": 2,
       "version_minor": 0
      },
      "text/plain": [
       "  0%|          | 0/2 [00:00<?, ?it/s]"
      ]
     },
     "metadata": {},
     "output_type": "display_data"
    },
    {
     "name": "stdout",
     "output_type": "stream",
     "text": [
      "Retrieving document from  https://arxiv.org/e-print/2307.10277\n"
     ]
    },
    {
     "name": "stdout",
     "output_type": "stream",
     "text": [
      "extracting tarball to tmp_2307.10277..."
     ]
    },
    {
     "name": "stdout",
     "output_type": "stream",
     "text": [
      " done.\n"
     ]
    },
    {
     "name": "stderr",
     "output_type": "stream",
     "text": [
      "/opt/hostedtoolcache/Python/3.9.17/x64/lib/python3.9/site-packages/arxiv_on_deck_2/latex.py:473: LatexWarning: Error parsing the document directly. Trying to recover.\n",
      "  warnings.warn(LatexWarning(f\"Error parsing the document directly. Trying to recover.\"))\n"
     ]
    },
    {
     "name": "stdout",
     "output_type": "stream",
     "text": [
      "✔ → 0:header\n",
      "  ↳ 7890:\\section{Introduction}\n"
     ]
    },
    {
     "name": "stdout",
     "output_type": "stream",
     "text": [
      "✔ → 7890:\\section{Introduction}\n",
      "  ↳ 16278:\\section{Observational data}\n"
     ]
    },
    {
     "name": "stdout",
     "output_type": "stream",
     "text": [
      "✔ → 16278:\\section{Observational data}\n",
      "  ↳ 30764:\\section{Data analysis}\n"
     ]
    },
    {
     "name": "stdout",
     "output_type": "stream",
     "text": [
      "✔ → 30764:\\section{Data analysis}\n",
      "  ↳ 67227:\\section{Properties of the ionised gas in  regions with high velocity dispersion}\n"
     ]
    },
    {
     "name": "stdout",
     "output_type": "stream",
     "text": [
      "✔ → 67227:\\section{Properties of the ionised gas in  regions with high velocity dispersion}\n",
      "  ↳ 91655:\\section{Discussion}\n"
     ]
    },
    {
     "name": "stdout",
     "output_type": "stream",
     "text": [
      "✔ → 91655:\\section{Discussion}\n",
      "  ↳ 112753:\\section{Summary}\n"
     ]
    },
    {
     "name": "stdout",
     "output_type": "stream",
     "text": [
      "✔ → 112753:\\section{Summary}\n",
      "  ↳ 118975:\\section{\\IS diagrams for all PHANGS-MUSE galaxies}\n"
     ]
    },
    {
     "name": "stdout",
     "output_type": "stream",
     "text": [
      "✔ → 118975:\\section{\\IS diagrams for all PHANGS-MUSE galaxies}\n",
      "  ↳ 134107:end\n"
     ]
    },
    {
     "name": "stdout",
     "output_type": "stream",
     "text": [
      "K. Kreckel  ->  K. Kreckel  |  ['K. Kreckel']\n",
      "E. Schinnerer  ->  E. Schinnerer  |  ['E. Schinnerer']\n"
     ]
    },
    {
     "name": "stdout",
     "output_type": "stream",
     "text": [
      "Found 155 bibliographic references in tmp_2307.10277/Ionized_gas_dispersion_in_PHANGS.bbl.\n",
      "Retrieving document from  https://arxiv.org/e-print/2307.10839\n"
     ]
    },
    {
     "name": "stdout",
     "output_type": "stream",
     "text": [
      "extracting tarball to tmp_2307.10839... done.\n"
     ]
    },
    {
     "name": "stderr",
     "output_type": "stream",
     "text": [
      "/opt/hostedtoolcache/Python/3.9.17/x64/lib/python3.9/site-packages/IPython/core/interactiveshell.py:3508: LatexWarning: Multiple tex files.\n",
      "\n",
      "  exec(code_obj, self.user_global_ns, self.user_ns)\n",
      "/opt/hostedtoolcache/Python/3.9.17/x64/lib/python3.9/site-packages/IPython/core/interactiveshell.py:3508: LatexWarning: Found documentclass in tmp_2307.10839/follow-up_photon_search.tex\n",
      "\n",
      "  exec(code_obj, self.user_global_ns, self.user_ns)\n",
      "/opt/hostedtoolcache/Python/3.9.17/x64/lib/python3.9/site-packages/arxiv_on_deck_2/latex.py:399: LatexWarning: Latex injecting: 'acknowledgments' from 'tmp_2307.10839/acknowledgments.tex'\n",
      "  warnings.warn(LatexWarning(f\"Latex injecting: '{ext}' from '{subsource}'\"))\n",
      "/opt/hostedtoolcache/Python/3.9.17/x64/lib/python3.9/site-packages/arxiv_on_deck_2/latex.py:399: LatexWarning: Latex injecting: 'aastex_authorlist' from 'tmp_2307.10839/aastex_authorlist.tex'\n",
      "  warnings.warn(LatexWarning(f\"Latex injecting: '{ext}' from '{subsource}'\"))\n"
     ]
    }
   ],
   "source": [
    "documents = []\n",
    "failed = []\n",
    "for paper in tqdm(candidates):\n",
    "    paper_id = paper['identifier'].lower().replace('arxiv:', '')\n",
    "    \n",
    "    folder = f'tmp_{paper_id}'\n",
    "\n",
    "    try:\n",
    "        if not os.path.isdir(folder):\n",
    "            folder = retrieve_document_source(f\"{paper_id}\", f'tmp_{paper_id}')\n",
    "        \n",
    "        try:\n",
    "            doc = latex.LatexDocument(folder, validation=validation)    \n",
    "        except AffiliationError as affilerror:\n",
    "            msg = f\"ArXiv:{paper_id:s} is not an MPIA paper... \" + str(affilerror)\n",
    "            failed.append((paper, \"affiliation error: \" + str(affilerror) ))\n",
    "            continue\n",
    "        \n",
    "        # Hack because sometimes author parsing does not work well\n",
    "        if (len(doc.authors) != len(paper['authors'])):\n",
    "            doc._authors = paper['authors']\n",
    "        else:\n",
    "            # highlight authors (FIXME: doc.highlight_authors)\n",
    "            # done on arxiv paper already\n",
    "            doc._authors = highlight_authors_in_list(\n",
    "                [mpia.get_initials(k) for k in doc.authors], \n",
    "                normed_mpia_authors, verbose=True)\n",
    "        if (doc.abstract) in (None, ''):\n",
    "            doc._abstract = paper['abstract']\n",
    "            \n",
    "        doc.comment = (get_markdown_badge(paper_id) + \n",
    "                       \"<mark>Appeared on: \" + paper['date'] + \"</mark> - \")\n",
    "        if paper['comments']:\n",
    "            doc.comment += \" _\" + paper['comments'] + \"_\"\n",
    "        \n",
    "        full_md = doc.generate_markdown_text()\n",
    "        \n",
    "        full_md += get_markdown_qrcode(paper_id)\n",
    "        \n",
    "        # replace citations\n",
    "        try:\n",
    "            bibdata = latex_bib.LatexBib.from_doc(doc)\n",
    "            full_md = latex_bib.replace_citations(full_md, bibdata)\n",
    "        except Exception as e:\n",
    "            print(e)\n",
    "        \n",
    "        documents.append((paper_id, full_md))\n",
    "    except Exception as e:\n",
    "        warnings.warn(latex.LatexWarning(f\"{paper_id:s} did not run properly\\n\" +\n",
    "                                         str(e)\n",
    "                                        ))\n",
    "        failed.append((paper, \"latex error \" + str(e)))"
   ]
  },
  {
   "cell_type": "markdown",
   "id": "2505a25c",
   "metadata": {
    "papermill": {
     "duration": 0.004874,
     "end_time": "2023-07-21T04:08:28.112625",
     "exception": false,
     "start_time": "2023-07-21T04:08:28.107751",
     "status": "completed"
    },
    "tags": []
   },
   "source": [
    "### Export the logs\n",
    "\n",
    "Throughout, we also keep track of the logs per paper. see `logs-{today date}.md` "
   ]
  },
  {
   "cell_type": "code",
   "execution_count": 5,
   "id": "d733828a",
   "metadata": {
    "execution": {
     "iopub.execute_input": "2023-07-21T04:08:28.124095Z",
     "iopub.status.busy": "2023-07-21T04:08:28.123492Z",
     "iopub.status.idle": "2023-07-21T04:08:28.137623Z",
     "shell.execute_reply": "2023-07-21T04:08:28.136926Z"
    },
    "papermill": {
     "duration": 0.02167,
     "end_time": "2023-07-21T04:08:28.139105",
     "exception": false,
     "start_time": "2023-07-21T04:08:28.117435",
     "status": "completed"
    },
    "scrolled": false,
    "tags": []
   },
   "outputs": [
    {
     "data": {
      "text/markdown": [
       "## Successful papers"
      ],
      "text/plain": [
       "<IPython.core.display.Markdown object>"
      ]
     },
     "metadata": {},
     "output_type": "display_data"
    },
    {
     "data": {
      "text/markdown": [
       "\n",
       "|||\n",
       "|---:|:---|\n",
       "| [![arXiv](https://img.shields.io/badge/arXiv-arXiv:2307.10277-b31b1b.svg)](https://arxiv.org/abs/arXiv:2307.10277) | **Quantifying the energy balance between the turbulent ionised gas and  young stars**  |\n",
       "|| O. V. Egorov, et al. -- incl., <mark>K. Kreckel</mark>, <mark>E. Schinnerer</mark> |\n",
       "|*Appeared on*| *2023-07-21*|\n",
       "|*Comments*| *31 pages (including 5 pages in appendix), 19 figures, the abstract is abridged; submitted to A&A (in mid May; awaiting report)*|\n",
       "|**Abstract**| We investigate the ionised gas morphology, excitation properties, and kinematics in 19 nearby star-forming galaxies from the PHANGS-MUSE survey. We directly compare the kinetic energy of expanding superbubbles and the turbulent motions in the interstellar medium with the mechanical energy deposited by massive stars in the form of winds and supernovae, with the aim to answer whether the stellar feedback is responsible for the observed turbulent motions and to quantify the fraction of mechanical energy retained in the superbubbles. Based on the distribution of the flux and velocity dispersion in the H$\\alpha$ line, we select 1484 regions of locally elevated velocity dispersion ($\\sigma$(H$\\alpha$)>45 km/s), including at least 171 expanding superbubbles. We analyse these regions and relate their properties to those of the young stellar associations and star clusters identified in PHANGS-HST data. We find a good correlation between the kinetic energy of the ionised gas and the total mechanical energy input from supernovae and stellar winds from the stellar associations, with a typical efficiency of 10-20%. The contribution of mechanical energy by the supernovae alone is not sufficient to explain the measured kinetic energy of the ionised gas, which implies that pre-supernova feedback in the form of radiation/thermal pressure and winds is necessary. We find that the gas kinetic energy decreases with metallicity for our sample covering Z=0.5-1.0 Zsun, reflecting the lower impact of stellar feedback. For the sample of superbubbles, we find that about 40% of the young stellar associations are preferentially located in their rims. We also find a slightly higher (by ~15%) fraction of the youngest (1-2.5 Myr) stellar associations in the rims of the superbubbles than in the centres, and the opposite for older associations, which implies possible propagation or triggering of star formation. |"
      ],
      "text/plain": [
       "[arXiv:2307.10277] Quantifying the energy balance between the turbulent ionised gas and  young stars\n",
       "\tO. V. Egorov, et al. -- incl., <mark>K. Kreckel</mark>, <mark>E. Schinnerer</mark>"
      ]
     },
     "metadata": {},
     "output_type": "display_data"
    },
    {
     "data": {
      "text/markdown": [
       "## Failed papers"
      ],
      "text/plain": [
       "<IPython.core.display.Markdown object>"
      ]
     },
     "metadata": {},
     "output_type": "display_data"
    },
    {
     "data": {
      "text/markdown": [
       "\n",
       "|||\n",
       "|---:|:---|\n",
       "| [![arXiv](https://img.shields.io/badge/arXiv-arXiv:2307.10839-b31b1b.svg)](https://arxiv.org/abs/arXiv:2307.10839) | **Search for UHE Photons from Gravitational Wave Sources with the Pierre  Auger Observatory**  |\n",
       "|| P. A. Collaboration, et al. |\n",
       "|*Appeared on*| *2023-07-21*|\n",
       "|*Comments*| *15 pages*|\n",
       "|**Abstract**| A search for time-directional coincidences of ultra-high-energy (UHE) photons above 10 EeV with gravitational wave (GW) events from the LIGO/Virgo runs O1 to O3 is conducted with the Pierre Auger Observatory. Due to the distinctive properties of photon interactions and to the background expected from hadronic showers, a subset of the most interesting GW events is selected based on their localization quality and distance. Time periods of 1000 s around and 1 day after the GW events are analyzed. No coincidences are observed. Upper limits on the UHE photon fluence from a GW event are derived that are typically at $\\sim$7 MeV cm$^{-2}$ (time period 1000~s) and $\\sim$35 MeV cm$^{-2}$ (time period 1 day). Due to the proximity of the binary neutron star merger GW170817, the energy of the source transferred into UHE photons above 40 EeV is constrained to be less than 20% of its total gravitational wave energy. These are the first limits on UHE photons from GW sources. |\n",
       "|<p style=\"color:green\"> **ERROR** </p>| <p style=\"color:green\">affiliation error: mpia.affiliation_verifications: 'Heidelberg' keyword not found.</p> |"
      ],
      "text/plain": [
       "<IPython.core.display.Markdown object>"
      ]
     },
     "metadata": {},
     "output_type": "display_data"
    }
   ],
   "source": [
    "import datetime\n",
    "today = str(datetime.date.today())\n",
    "logfile = f\"_build/html/logs/log-{today}.md\"\n",
    "\n",
    "\n",
    "with open(logfile, 'w') as logs:\n",
    "    # Success\n",
    "    logs.write(f'# Arxiv on Deck 2: Logs - {today}\\n\\n')\n",
    "    logs.write(\"\"\"* Arxiv had {0:,d} new papers\\n\"\"\".format(len(new_papers)))\n",
    "    logs.write(\"\"\"    * {0:,d} with possible author matches\\n\\n\"\"\".format(len(candidates)))\n",
    "    logs.write(\"## Sucessful papers\\n\\n\")\n",
    "    display(Markdown(\"## Successful papers\"))\n",
    "    success = [k[0] for k in documents]\n",
    "    for candid in candidates:\n",
    "        if candid['identifier'].split(':')[-1] in success:\n",
    "            display(candid)\n",
    "            logs.write(candid.generate_markdown_text() + '\\n\\n')\n",
    "\n",
    "    ## failed\n",
    "    logs.write(\"## Failed papers\\n\\n\")\n",
    "    display(Markdown(\"## Failed papers\"))\n",
    "    failed = sorted(failed, key=lambda x: x[1])\n",
    "    current_reason = \"\"\n",
    "    for paper, reason in failed:\n",
    "        if 'affiliation' in reason:\n",
    "            color = 'green'\n",
    "        else:\n",
    "            color = 'red'\n",
    "        data = Markdown(\n",
    "                paper.generate_markdown_text() + \n",
    "                f'\\n|<p style=\"color:{color:s}\"> **ERROR** </p>| <p style=\"color:{color:s}\">{reason:s}</p> |'\n",
    "               )\n",
    "        if reason != current_reason:\n",
    "            logs.write(f'### {reason:s} \\n\\n')\n",
    "            current_reason = reason\n",
    "        logs.write(data.data + '\\n\\n')\n",
    "        \n",
    "        # only display here the important errors (all in logs)\n",
    "        # if color in ('red',):\n",
    "        display(data)"
   ]
  },
  {
   "cell_type": "markdown",
   "id": "472d20ee",
   "metadata": {
    "papermill": {
     "duration": 0.005284,
     "end_time": "2023-07-21T04:08:28.149756",
     "exception": false,
     "start_time": "2023-07-21T04:08:28.144472",
     "status": "completed"
    },
    "tags": []
   },
   "source": [
    "## Export documents\n",
    "\n",
    "We now write the .md files and export relevant images"
   ]
  },
  {
   "cell_type": "code",
   "execution_count": 6,
   "id": "d426aed9",
   "metadata": {
    "execution": {
     "iopub.execute_input": "2023-07-21T04:08:28.161965Z",
     "iopub.status.busy": "2023-07-21T04:08:28.161374Z",
     "iopub.status.idle": "2023-07-21T04:08:28.170123Z",
     "shell.execute_reply": "2023-07-21T04:08:28.169406Z"
    },
    "papermill": {
     "duration": 0.016775,
     "end_time": "2023-07-21T04:08:28.171719",
     "exception": false,
     "start_time": "2023-07-21T04:08:28.154944",
     "status": "completed"
    },
    "tags": []
   },
   "outputs": [],
   "source": [
    "def export_markdown_summary(md: str, md_fname:str, directory: str):\n",
    "    \"\"\"Export MD document and associated relevant images\"\"\"\n",
    "    import os\n",
    "    import shutil\n",
    "    import re\n",
    "\n",
    "    if (os.path.exists(directory) and not os.path.isdir(directory)):\n",
    "        raise RuntimeError(f\"a non-directory file exists with name {directory:s}\")\n",
    "\n",
    "    if (not os.path.exists(directory)):\n",
    "        print(f\"creating directory {directory:s}\")\n",
    "        os.mkdir(directory)\n",
    "\n",
    "    fig_fnames = (re.compile(r'\\[Fig.*\\]\\((.*)\\)').findall(md) + \n",
    "                  re.compile(r'\\<img src=\"([^>\\s]*)\"[^>]*/>').findall(md))\n",
    "    for fname in fig_fnames:\n",
    "        if 'http' in fname:\n",
    "            # No need to copy online figures\n",
    "            continue\n",
    "        destdir = os.path.join(directory, os.path.dirname(fname))\n",
    "        destfname = os.path.join(destdir, os.path.basename(fname))\n",
    "        try:\n",
    "            os.makedirs(destdir)\n",
    "        except FileExistsError:\n",
    "            pass\n",
    "        shutil.copy(fname, destfname)\n",
    "    with open(os.path.join(directory, md_fname), 'w') as fout:\n",
    "        fout.write(md)\n",
    "    print(\"exported in \", os.path.join(directory, md_fname))\n",
    "    [print(\"    + \" + os.path.join(directory,fk)) for fk in fig_fnames]"
   ]
  },
  {
   "cell_type": "code",
   "execution_count": 7,
   "id": "014d04a4",
   "metadata": {
    "execution": {
     "iopub.execute_input": "2023-07-21T04:08:28.183919Z",
     "iopub.status.busy": "2023-07-21T04:08:28.183389Z",
     "iopub.status.idle": "2023-07-21T04:08:28.197571Z",
     "shell.execute_reply": "2023-07-21T04:08:28.196866Z"
    },
    "papermill": {
     "duration": 0.022002,
     "end_time": "2023-07-21T04:08:28.199105",
     "exception": false,
     "start_time": "2023-07-21T04:08:28.177103",
     "status": "completed"
    },
    "tags": []
   },
   "outputs": [
    {
     "name": "stdout",
     "output_type": "stream",
     "text": [
      "exported in  _build/html/2307.10277.md\n",
      "    + _build/html/tmp_2307.10277/./figs/NGC4254_isigma.png\n",
      "    + _build/html/tmp_2307.10277/./figs/energy_ha_all_snw.png\n",
      "    + _build/html/tmp_2307.10277/./figs/energy_ha_all_sn.png\n",
      "    + _build/html/tmp_2307.10277/./figs/energy_ha_all_snw_s2dens.png\n",
      "    + _build/html/tmp_2307.10277/./figs/energy_ha_all_sn_s2dens.png\n",
      "    + _build/html/tmp_2307.10277/./figs/SB99_energy.png\n"
     ]
    }
   ],
   "source": [
    "for paper_id, md in documents:\n",
    "    export_markdown_summary(md, f\"{paper_id:s}.md\", '_build/html/')"
   ]
  },
  {
   "cell_type": "markdown",
   "id": "f087a0a7",
   "metadata": {
    "papermill": {
     "duration": 0.005414,
     "end_time": "2023-07-21T04:08:28.210034",
     "exception": false,
     "start_time": "2023-07-21T04:08:28.204620",
     "status": "completed"
    },
    "tags": []
   },
   "source": [
    "## Display the papers\n",
    "\n",
    "Not necessary but allows for a quick check."
   ]
  },
  {
   "cell_type": "code",
   "execution_count": 8,
   "id": "fd25f625",
   "metadata": {
    "execution": {
     "iopub.execute_input": "2023-07-21T04:08:28.222648Z",
     "iopub.status.busy": "2023-07-21T04:08:28.222069Z",
     "iopub.status.idle": "2023-07-21T04:08:28.228123Z",
     "shell.execute_reply": "2023-07-21T04:08:28.227393Z"
    },
    "papermill": {
     "duration": 0.014185,
     "end_time": "2023-07-21T04:08:28.229648",
     "exception": false,
     "start_time": "2023-07-21T04:08:28.215463",
     "status": "completed"
    },
    "scrolled": false,
    "tags": []
   },
   "outputs": [
    {
     "data": {
      "text/markdown": [
       "<div class=\"macros\" style=\"visibility:hidden;\">\n",
       "$\\newcommand{\\ensuremath}{}$\n",
       "$\\newcommand{\\xspace}{}$\n",
       "$\\newcommand{\\object}[1]{\\texttt{#1}}$\n",
       "$\\newcommand{\\farcs}{{.}''}$\n",
       "$\\newcommand{\\farcm}{{.}'}$\n",
       "$\\newcommand{\\arcsec}{''}$\n",
       "$\\newcommand{\\arcmin}{'}$\n",
       "$\\newcommand{\\ion}[2]{#1#2}$\n",
       "$\\newcommand{\\textsc}[1]{\\textrm{#1}}$\n",
       "$\\newcommand{\\hl}[1]{\\textrm{#1}}$\n",
       "$\\newcommand{\\footnote}[1]{}$\n",
       "$\\newcommand{\\SII}{[S~{\\sc ii}]}$\n",
       "$\\newcommand{\\OIII}{[O~{\\sc iii}]}$\n",
       "$\\newcommand{\\NII}{[N~{\\sc ii}]}$\n",
       "$\\newcommand{\\HII}{H~{\\sc ii}}$\n",
       "$\\newcommand{\\HeII}{He~{\\sc ii}}$\n",
       "$\\newcommand{\\HI}{H~{\\sc i}}$\n",
       "$\\newcommand{\\Ha}{H\\alpha}$\n",
       "$\\newcommand{\\Hb}{H\\beta}$\n",
       "$\\newcommand{\\kms}{ \\mbox{km} \\mbox{s}^{-1}}$\n",
       "$\\newcommand{\\ergs}{ \\mbox{erg} \\mbox{s}^{-1}}$\n",
       "$\\newcommand{\\HST}{\\textit{HST}}$\n",
       "$\\newcommand{\\SIIHa}{[S~{\\sc ii}]/H\\alpha}$\n",
       "$\\newcommand{\\NIIHa}{[N~{\\sc ii}]/H\\alpha}$\n",
       "$\\newcommand{\\OIIIHb}{[O~{\\sc iii}]/H\\beta}$\n",
       "$\\newcommand{\\IS}{I - \\sigma}$\n",
       "$\\newcommand{\\SBDIG}{\\mathrm{\\Sigma(H\\alpha)_{DIG}}}$\n",
       "$\\newcommand{\\sigmaHa}{\\sigma(H\\alpha)}$\n",
       "$\\newcommand{\\nregs}{1484}$\n",
       "$\\newcommand{\\nregsnohst}{188}$\n",
       "$\\newcommand{\\nsnr}{572}$\n",
       "$\\newcommand{\\nregsnooldcls}{364}$\n",
       "$\\newcommand{\\nregshaveyoungcls}{264}$\n",
       "$\\newcommand{\\nshells}{171}$\n",
       "$\\newcommand{\\nabmig}{741}$\n",
       "$\\newcommand{\\ncentralpeak}{572}$\n",
       "$\\newcommand{\\nregswithcls}{511}$\n",
       "$\\newcommand{\\be}{\\begin{equation}}$\n",
       "$\\newcommand{\\ee}{\\end{equation}}$\n",
       "$\\newcommand{\\red}{\\textcolor{red}}$\n",
       "$\\newcommand{\\green}{\\textcolor{green}}$\n",
       "$\\begin{document}$\n",
       "$   \\title{Quantifying the energy balance between the turbulent ionised gas and young stars}$\n",
       "$   \\author{Oleg~V.~Egorov$\n",
       "$          \\inst{1}\\fnmsep\\thanks{\\email{oleg.egorov@uni-heidelberg.de}}$\n",
       "$          \\and$\n",
       "$          Kathryn Kreckel\\inst{1}$\n",
       "$          \\and Simon~C.~O.~Glover\\inst{2}$\n",
       "$          \\and Brent Groves\\inst{3}$\n",
       "$          \\and$\n",
       "$          Francesco Belfiore\\inst{4}$\n",
       "$          \\and$\n",
       "$          Eric Emsellem\\inst{5,6}$\n",
       "$          \\and$\n",
       "$          Ralf~S.~Klessen\\inst{2,7}$\n",
       "$          \\and$\n",
       "$          Adam K. Leroy\\inst{8,9}$\n",
       "$          \\and$\n",
       "$          Sharon E. Meidt\\inst{10}$\n",
       "$          \\and$\n",
       "$          Sumit K. Sarbadhicary\\inst{8,9}$\n",
       "$          \\and$\n",
       "$          Eva Schinnerer\\inst{11}$\n",
       "$          \\and$\n",
       "$          Elizabeth J. Watkins\\inst{1}$\n",
       "$          \\and$\n",
       "$          Brad C. Whitmore\\inst{12}$\n",
       "$          \\and$\n",
       "$          Ashley T. Barnes\\inst{5,13}$\n",
       "$          \\and$\n",
       "$          Enrico Congiu\\inst{14}$\n",
       "$          \\and$\n",
       "$          Daniel~A.~Dale\\inst{15}$\n",
       "$          \\and$\n",
       "$          Kathryn Grasha\\inst{16}\\thanks{ARC DECRA Fellow}$\n",
       "$          \\and$\n",
       "$          Kirsten L. Larson\\inst{17}$\n",
       "$          \\and$\n",
       "$          Janice C. Lee\\inst{18,19}$\n",
       "$          \\and$\n",
       "$          J. Eduardo Méndez-Delgado\\inst{1}$\n",
       "$          \\and$\n",
       "$          David A. Thilker\\inst{20}$\n",
       "$          \\and$\n",
       "$          Thomas G. Williams\\inst{21}$\n",
       "$          }$\n",
       "$   \\institute{Astronomisches Rechen-Institut, Zentrum für Astronomie der Universität Heidelberg, Mönchhofstr. 12-14, D-69120 Heidelberg, Germany$\n",
       "$   \\and$\n",
       "$   Institüt  für Theoretische Astrophysik, Zentrum für Astronomie der Universität Heidelberg, Albert-Ueberle-Strasse 2, 69120 Heidelberg, Germany$\n",
       "$   \\and$\n",
       "$   International Centre for Radio Astronomy Research, University of Western Australia, 7 Fairway, Crawley, 6009 WA, Australia$\n",
       "$   \\and$\n",
       "$   INAF -- Osservatorio Astrofisico di Arcetri, Largo E. Fermi 5, I-50157 Firenze, Italy$\n",
       "$   \\and$\n",
       "$   European Southern Observatory, Karl-Schwarzschild Stra{\\ss}e 2, D-85748 Garching bei München, Germany$\n",
       "$   \\and$\n",
       "$    Univ Lyon, Univ Lyon1, ENS de Lyon, CNRS, Centre de Recherche Astrophysique de Lyon UMR5574, F-69230 Saint-Genis-Laval France$\n",
       "$    \\and$\n",
       "$     Interdisziplinäres Zentrum für Wissenschaftliches Rechnen der Universität Heidelberg, Im Neuenheimer Feld 205, D-69120 Heidelberg, Germany$\n",
       "$     \\and$\n",
       "$   Department of Astronomy, The Ohio State University, 140 West 18th Avenue, Columbus, Ohio 43210, USA$\n",
       "$    \\and$\n",
       "$    Center for Cosmology and Astroparticle Physics, 191 West Woodruff Avenue, Columbus, OH 43210, USA$\n",
       "$    \\and$\n",
       "$    Sterrenkundig Observatorium, Universiteit Gent, Krijgslaan 281 S9, B-9000 Gent, Belgium$\n",
       "$    \\and$\n",
       "$    Max-Planck-Institut für Astronomie, Königstuhl 17, D-69117, Heidelberg, Germany$\n",
       "$    \\and$\n",
       "$    Space Telescope Science Institute, 3700 San Martin Drive, Baltimore, MD, 21218, USA$\n",
       "$    \\and$\n",
       "$    Argelander-Institut für Astronomie, Universität Bonn, Auf dem Hügel 71, 53121 Bonn, Germany$\n",
       "$    \\and$\n",
       "$    European Southern Observatory (ESO), Alonso de Córdova 3107, Casilla 19, Santiago 19001, Chile$\n",
       "$    \\and$\n",
       "$    Department of Physics \\& Astronomy, University of Wyoming, Laramie, WY 82071, USA$\n",
       "$    \\and$\n",
       "$    Research School of Astronomy and Astrophysics, Australian National University, Canberra, ACT 2611, Australia$\n",
       "$    \\and$\n",
       "$    AURA for the European Space Agency (ESA), Space Telescope Science Institute, 3700 San Martin Drive, Baltimore, MD 21218, USA$\n",
       "$    \\and$\n",
       "$    Gemini Observatory/NSF’s NOIRLab, 950 N. Cherry Avenue, Tucson, AZ, USA$\n",
       "$        \\and$\n",
       "$    Steward Observatory, University of Arizona, 933 N Cherry Ave, Tucson, AZ 85721, USA$\n",
       "$    \\and$\n",
       "$    Department of Physics \\& Astronomy, Bloomberg Center for Physics and Astronomy, Johns Hopkins University, 3400 N. Charles Street, Baltimore, MD 21218$\n",
       "$    \\and$\n",
       "$    Sub-department of Astrophysics, Department of Physics, University of Oxford, Keble Road, Oxford OX1 3RH, UK$\n",
       "$             }$\n",
       "$   \\date{Received ????? ??, 2023; accepted ????? ??, ????}$\n",
       "$  \\abstract{Stellar feedback is a key contributor to$\n",
       "$   the morphology and dynamics of the interstellar medium in star-forming galaxies. In particular, energy and momentum input from massive stars can drive the turbulent motions in the gas, but the dominance and efficiency of this process are unclear. The study of ionised superbubbles enables quantitative constraints to be placed on the energetics of stellar feedback.}{We directly compare the kinetic energy of$\n",
       "$   expanding superbubbles and the turbulent motions in the interstellar medium with the mechanical energy deposited by massive stars in the form of winds and supernovae. With such a comparison we aim to answer whether the stellar feedback is responsible for$\n",
       "$   the observed turbulent motions and to quantify the fraction of mechanical energy retained in the superbubbles.}{We investigate the ionised gas morphology, excitation properties, and kinematics in 19 nearby star-forming galaxies from the PHANGS-MUSE survey. Based on the distribution of the flux and velocity dispersion in the \\Ha line, we select \\nregs regions of locally elevated velocity dispersion (\\sigmaHa>45\\kms), including at least \\nshells expanding superbubbles. We analyse these regions and relate their properties to those of the young stellar associations and star clusters identified in PHANGS-HST data.}{We find a good correlation between the kinetic energy of the ionised gas and the total mechanical energy input from supernovae and stellar winds from the stellar associations. At the same time, the contribution of mechanical energy injected by the supernovae alone is not sufficient to explain the measured kinetic energy of the ionised gas, which implies that pre-supernova feedback in the form of radiation/thermal pressure and winds is necessary. We find that the gas kinetic energy decreases with metallicity for our sample covering Z=0.5-1.0   Z_\\odot, reflecting the lower impact of stellar feedback. For the sample of superbubbles, we find that about 40\\% of the young stellar associations are preferentially located in their rims.$\n",
       "$   We also find a slightly higher (by \\sim 15\\%) fraction of the youngest (1--2.5~Myr) stellar associations in the rims of the superbubbles than in the centres, and the opposite trend for older associations, which implies possible propagation or triggering of star formation.}{Stellar feedback is the dominant source for powering the ionised gas in regions of locally (on 50--500~pc scale) elevated velocity dispersion, with a typical efficiency of 10-20\\%. Accounting for pre-supernovae feedback is required to set up the energy balance between gas and stars. }$\n",
       "$   \\keywords{Galaxies: ISM --$\n",
       "$                ISM: kinematics and dynamics --$\n",
       "$                ISM: bubbles -- Galaxies: star formation$\n",
       "$               }$\n",
       "$   \\maketitle$\n",
       "$\\n\\end{document}\\end{equation}}$\n",
       "$\\newcommand{\\ee}{\\end{equation}}$\n",
       "$\\newcommand{\\red}{\\textcolor{red}}$\n",
       "$\\newcommand{\\green}{\\textcolor{green}}$</div>\n",
       "\n",
       "\n",
       "\n",
       "<div id=\"title\">\n",
       "\n",
       "# Quantifying the energy balance between the turbulent ionised gas and young stars\n",
       "\n",
       "</div>\n",
       "<div id=\"comments\">\n",
       "\n",
       "[![arXiv](https://img.shields.io/badge/arXiv-2307.10277-b31b1b.svg)](https://arxiv.org/abs/2307.10277)<mark>Appeared on: 2023-07-21</mark> -  _31 pages (including 5 pages in appendix), 19 figures, the abstract is abridged; submitted to A&A (in mid May; awaiting report)_\n",
       "\n",
       "</div>\n",
       "<div id=\"authors\">\n",
       "\n",
       "O. V. Egorov, et al. -- incl., <mark>K. Kreckel</mark>, <mark>E. Schinnerer</mark>\n",
       "\n",
       "</div>\n",
       "<div id=\"abstract\">\n",
       "\n",
       "**Abstract:** Stellar feedback is a key contributor to   the morphology and dynamics of the interstellar medium in star-forming galaxies. In particular, energy and momentum input from massive stars can drive the turbulent motions in the gas, but the dominance and efficiency of this process are unclear. The study of ionised superbubbles enables quantitative constraints to be placed on the energetics of stellar feedback. We directly compare the kinetic energy of   expanding superbubbles and the turbulent motions in the interstellar medium with the mechanical energy deposited by massive stars in the form of winds and supernovae. With such a comparison we aim to answer whether the stellar feedback is responsible for   the observed turbulent motions and to quantify the fraction of mechanical energy retained in the superbubbles. We investigate the ionised gas morphology, excitation properties, and kinematics in 19 nearby star-forming galaxies from the PHANGS-MUSE survey. Based on the distribution of the flux and velocity dispersion in the $\\Ha$ line, we select $\\nregs$ regions of locally elevated velocity dispersion ( $\\sigmaHa$ $>45\\kms$ ), including at least $\\nshells$ expanding superbubbles. We analyse these regions and relate their properties to those of the young stellar associations and star clusters identified in PHANGS-HST data. We find a good correlation between the kinetic energy of the ionised gas and the total mechanical energy input from supernovae and stellar winds from the stellar associations. At the same time, the contribution of mechanical energy injected by the supernovae alone is not sufficient to explain the measured kinetic energy of the ionised gas, which implies that pre-supernova feedback in the form of radiation/thermal pressure and winds is necessary. We find that the gas kinetic energy decreases with metallicity for our sample covering $Z=0.5-1.0   Z_\\odot$ , reflecting the lower impact of stellar feedback. For the sample of superbubbles, we find that about 40 \\% of the young stellar associations are preferentially located in their rims.   We also find a slightly higher (by $\\sim 15$ \\% ) fraction of the youngest (1--2.5 Myr) stellar associations in the rims of the superbubbles than in the centres, and the opposite trend for older associations, which implies possible propagation or triggering of star formation. Stellar feedback is the dominant source for powering the ionised gas in regions of locally (on 50--500 pc scale) elevated velocity dispersion, with a typical efficiency of $10-20$ \\% . Accounting for pre-supernovae feedback is required to set up the energy balance between gas and stars.\n",
       "\n",
       "</div>\n",
       "\n",
       "<div id=\"div_fig1\">\n",
       "\n",
       "<img src=\"tmp_2307.10277/./figs/NGC4254_isigma.png\" alt=\"Fig9\" width=\"100%\"/>\n",
       "\n",
       "**Figure 9. -** Localization of the regions of locally elevated $\\Ha$ velocity dispersion (cyan ellipses) in NGC 4254 galaxy identified based on the `intensity -- velocity dispersion' ($\\IS$) diagnostics overlaid on the $\\Ha$ surface brightness map (left panel) and the classification map (central panel; see text). The $\\IS$ diagram is shown on right panel. The black solid line shows the mean value of $\\sigmaHa$ in the galaxy, and dashed grey lines show its 1$\\sigma$ uncertainty.\n",
       "    See Fig \\ref{fig:isigma_all} for the rest of the PHANGS-MUSE galaxies. (*fig:isigma*)\n",
       "\n",
       "</div>\n",
       "<div id=\"div_fig2\">\n",
       "\n",
       "<img src=\"tmp_2307.10277/./figs/energy_ha_all_snw.png\" alt=\"Fig18.1\" width=\"25%\"/><img src=\"tmp_2307.10277/./figs/energy_ha_all_sn.png\" alt=\"Fig18.2\" width=\"25%\"/><img src=\"tmp_2307.10277/./figs/energy_ha_all_snw_s2dens.png\" alt=\"Fig18.3\" width=\"25%\"/><img src=\"tmp_2307.10277/./figs/energy_ha_all_sn_s2dens.png\" alt=\"Fig18.4\" width=\"25%\"/>\n",
       "\n",
       "**Figure 18. -** Dependence of the kinetic energy of ionised gas $E_{kin}$ in the regions of locally elevated velocity dispersion on the total mechanical energy input from the stellar associations in the form of supernovae and stellar winds (left panels), and supernovae only (right panels). Top and bottom panels correspond to the $n_e^{(min)}$ and $n_e^{(max)}$ density measurements (thus representing upper and lower limits of $E_{kin}$, respectively). Median value of logarithmic errors is shown in bottom-right corner of each panel. All regions with errors 2 times larger than presented are excluded from the plots. Colour encodes the $\\SII$Ha lines ratio tracing the dominant gas excitation mechanism ($\\SII$Ha$>0.4$ is likely produced by shocks; left panels), or the relative contribution of the SNe to the total mechanical energy input according to the starburst99 models for the corresponding mass and age of each cluster. Blue, orange, green and red lines correspond to mechanical stellar feedback energy efficiency $\\eta = 100, 30, 5, 1$\\%, respectively. Spearman correlation coefficient $\\rho$ is given above the plots. (*fig:energies*)\n",
       "\n",
       "</div>\n",
       "<div id=\"div_fig3\">\n",
       "\n",
       "<img src=\"tmp_2307.10277/./figs/SB99_energy.png\" alt=\"Fig3\" width=\"100%\"/>\n",
       "\n",
       "**Figure 3. -** Evolution of the cumulative mechanical energy input to the ISM ($E_{\\rm mech}$) normalized by the mass of star cluster ($M_{\\rm cls}$)  for different metallicity (traced by different colours) according to starburst99 ([Leitherer, Schaerer and Goldader 1999](), [Leitherer, Ekström and Meynet 2014]())  models. The contribution produced by stellar winds alone is shown by the solid line, while the dashed line corresponds to the impact of both stellar winds and supernovae. (*fig:sb99*)\n",
       "\n",
       "</div><div id=\"qrcode\"><img src=https://api.qrserver.com/v1/create-qr-code/?size=100x100&data=\"https://arxiv.org/abs/2307.10277\"></div>"
      ],
      "text/plain": [
       "<IPython.core.display.Markdown object>"
      ]
     },
     "metadata": {},
     "output_type": "display_data"
    }
   ],
   "source": [
    "[display(Markdown(k[1])) for k in documents];"
   ]
  },
  {
   "cell_type": "markdown",
   "id": "873873a4",
   "metadata": {
    "papermill": {
     "duration": 0.005714,
     "end_time": "2023-07-21T04:08:28.241182",
     "exception": false,
     "start_time": "2023-07-21T04:08:28.235468",
     "status": "completed"
    },
    "tags": []
   },
   "source": [
    "# Create HTML index"
   ]
  },
  {
   "cell_type": "code",
   "execution_count": 9,
   "id": "cf665672",
   "metadata": {
    "execution": {
     "iopub.execute_input": "2023-07-21T04:08:28.254511Z",
     "iopub.status.busy": "2023-07-21T04:08:28.253917Z",
     "iopub.status.idle": "2023-07-21T04:08:28.264575Z",
     "shell.execute_reply": "2023-07-21T04:08:28.263870Z"
    },
    "papermill": {
     "duration": 0.019153,
     "end_time": "2023-07-21T04:08:28.266146",
     "exception": false,
     "start_time": "2023-07-21T04:08:28.246993",
     "status": "completed"
    },
    "tags": []
   },
   "outputs": [
    {
     "name": "stdout",
     "output_type": "stream",
     "text": [
      "231  publications files modified in the last 7 days.\n"
     ]
    }
   ],
   "source": [
    "from datetime import datetime, timedelta, timezone\n",
    "from glob import glob\n",
    "import os\n",
    "\n",
    "files = glob('_build/html/*.md')\n",
    "days = 7\n",
    "now = datetime.today()\n",
    "res = []\n",
    "for fk in files:\n",
    "    stat_result = os.stat(fk).st_ctime\n",
    "    modified = datetime.fromtimestamp(stat_result, tz=timezone.utc).replace(tzinfo=None)\n",
    "    delta = now.today() - modified\n",
    "    if delta <= timedelta(days=days):\n",
    "        res.append((delta.seconds, fk))\n",
    "res = [k[1] for k in reversed(sorted(res, key=lambda x:x[1]))]\n",
    "npub = len(res)\n",
    "print(len(res), f\" publications files modified in the last {days:d} days.\")\n",
    "# [ print('\\t', k) for k in res ];"
   ]
  },
  {
   "cell_type": "code",
   "execution_count": 10,
   "id": "015de740",
   "metadata": {
    "execution": {
     "iopub.execute_input": "2023-07-21T04:08:28.279945Z",
     "iopub.status.busy": "2023-07-21T04:08:28.279173Z",
     "iopub.status.idle": "2023-07-21T04:08:28.298651Z",
     "shell.execute_reply": "2023-07-21T04:08:28.297945Z"
    },
    "papermill": {
     "duration": 0.028116,
     "end_time": "2023-07-21T04:08:28.300193",
     "exception": false,
     "start_time": "2023-07-21T04:08:28.272077",
     "status": "completed"
    },
    "tags": []
   },
   "outputs": [
    {
     "name": "stdout",
     "output_type": "stream",
     "text": [
      "4  publications in the last 7 days.\n"
     ]
    }
   ],
   "source": [
    "import datetime\n",
    "from glob import glob\n",
    "\n",
    "def get_last_n_days(lst, days=1):\n",
    "    \"\"\" Get the documents from the last n days \"\"\"\n",
    "    sorted_lst = sorted(lst, key=lambda x: x[1], reverse=True)\n",
    "    for fname, date in sorted_lst:\n",
    "        if date >= str(datetime.date.today() - datetime.timedelta(days=days)):\n",
    "            yield fname\n",
    "\n",
    "def extract_appearance_dates(lst_file):\n",
    "    dates = []\n",
    "\n",
    "    def get_date(line):\n",
    "        return line\\\n",
    "            .split('Appeared on:')[-1]\\\n",
    "            .split('</mark>')[0].strip()\n",
    "\n",
    "    for fname in lst:\n",
    "        with open(fname, 'r') as f:\n",
    "            found_date = False\n",
    "            for line in f:\n",
    "                if not found_date:\n",
    "                    if \"Appeared on\" in line:\n",
    "                        found_date = True\n",
    "                        dates.append((fname, get_date(line)))\n",
    "                else:\n",
    "                    break\n",
    "    return dates\n",
    "\n",
    "from glob import glob\n",
    "lst = glob('_build/html/*md')\n",
    "days = 7\n",
    "dates = extract_appearance_dates(lst)\n",
    "res = list(get_last_n_days(dates, days))\n",
    "npub = len(res)\n",
    "print(len(res), f\" publications in the last {days:d} days.\")"
   ]
  },
  {
   "cell_type": "code",
   "execution_count": 11,
   "id": "52ca0208",
   "metadata": {
    "execution": {
     "iopub.execute_input": "2023-07-21T04:08:28.314241Z",
     "iopub.status.busy": "2023-07-21T04:08:28.313783Z",
     "iopub.status.idle": "2023-07-21T04:08:28.319614Z",
     "shell.execute_reply": "2023-07-21T04:08:28.319059Z"
    },
    "papermill": {
     "duration": 0.014909,
     "end_time": "2023-07-21T04:08:28.321304",
     "exception": false,
     "start_time": "2023-07-21T04:08:28.306395",
     "status": "completed"
    },
    "scrolled": false,
    "tags": []
   },
   "outputs": [],
   "source": [
    "def create_carousel(npub=4):\n",
    "    \"\"\" Generate the HTML code for a carousel with `npub` slides \"\"\"\n",
    "    carousel = [\"\"\"  <div class=\"carousel\" \"\"\",\n",
    "                \"\"\"       data-flickity='{ \"autoPlay\": 10000, \"adaptiveHeight\": true, \"resize\": true, \"wrapAround\": true, \"pauseAutoPlayOnHover\": true, \"groupCells\": 1 }' id=\"asyncTypeset\">\"\"\"\n",
    "                ]\n",
    "    \n",
    "    item_str = \"\"\"    <div class=\"carousel-cell\"> <div id=\"slide{k}\" class=\"md_view\">Content {k}</div> </div>\"\"\"\n",
    "    for k in range(1, npub + 1):\n",
    "        carousel.append(item_str.format(k=k))\n",
    "    carousel.append(\"  </div>\")\n",
    "    return '\\n'.join(carousel)\n",
    "\n",
    "def create_grid(npub=4):\n",
    "    \"\"\" Generate the HTML code for a flat grid with `npub` slides \"\"\"\n",
    "    grid = [\"\"\"  <div class=\"grid\"> \"\"\",\n",
    "                ]\n",
    "    \n",
    "    item_str = \"\"\"    <div class=\"grid-item\"> <div id=\"slide{k}\" class=\"md_view\">Content {k}</div> </div>\"\"\"\n",
    "    for k in range(1, npub + 1):\n",
    "        grid.append(item_str.format(k=k))\n",
    "    grid.append(\"  </div>\")\n",
    "    return '\\n'.join(grid)"
   ]
  },
  {
   "cell_type": "code",
   "execution_count": 12,
   "id": "a6eac5b6",
   "metadata": {
    "execution": {
     "iopub.execute_input": "2023-07-21T04:08:28.335262Z",
     "iopub.status.busy": "2023-07-21T04:08:28.334753Z",
     "iopub.status.idle": "2023-07-21T04:08:28.340562Z",
     "shell.execute_reply": "2023-07-21T04:08:28.339896Z"
    },
    "papermill": {
     "duration": 0.014554,
     "end_time": "2023-07-21T04:08:28.342067",
     "exception": false,
     "start_time": "2023-07-21T04:08:28.327513",
     "status": "completed"
    },
    "scrolled": false,
    "tags": []
   },
   "outputs": [],
   "source": [
    "carousel = create_carousel(npub)\n",
    "docs = ', '.join(['\"{0:s}\"'.format(k.split('/')[-1]) for k in res])\n",
    "slides = ', '.join([f'\"slide{k}\"' for k in range(1, npub + 1)])\n",
    "\n",
    "with open(\"daily_template.html\", \"r\") as tpl:\n",
    "    page = tpl.read()\n",
    "    page = page.replace(\"{%-- carousel:s --%}\", carousel)\\\n",
    "               .replace(\"{%-- suptitle:s --%}\",  \"7-day archives\" )\\\n",
    "               .replace(\"{%-- docs:s --%}\", docs)\\\n",
    "               .replace(\"{%-- slides:s --%}\", slides)\n",
    "    \n",
    "with open(\"_build/html/index_7days.html\", 'w') as fout:\n",
    "    fout.write(page)"
   ]
  },
  {
   "cell_type": "code",
   "execution_count": 13,
   "id": "adc1a1ec",
   "metadata": {
    "execution": {
     "iopub.execute_input": "2023-07-21T04:08:28.355912Z",
     "iopub.status.busy": "2023-07-21T04:08:28.355228Z",
     "iopub.status.idle": "2023-07-21T04:08:28.362787Z",
     "shell.execute_reply": "2023-07-21T04:08:28.362138Z"
    },
    "papermill": {
     "duration": 0.016188,
     "end_time": "2023-07-21T04:08:28.364280",
     "exception": false,
     "start_time": "2023-07-21T04:08:28.348092",
     "status": "completed"
    },
    "tags": []
   },
   "outputs": [
    {
     "name": "stdout",
     "output_type": "stream",
     "text": [
      "1  publications in the last day.\n"
     ]
    }
   ],
   "source": [
    "# redo for today\n",
    "days = 1\n",
    "res = list(get_last_n_days(dates, days))\n",
    "npub = len(res)\n",
    "print(len(res), f\" publications in the last day.\")\n",
    "\n",
    "carousel = create_carousel(npub)\n",
    "docs = ', '.join(['\"{0:s}\"'.format(k.split('/')[-1]) for k in res])\n",
    "slides = ', '.join([f'\"slide{k}\"' for k in range(1, npub + 1)])\n",
    "\n",
    "with open(\"daily_template.html\", \"r\") as tpl:\n",
    "    page = tpl.read()\n",
    "    page = page.replace(\"{%-- carousel:s --%}\", carousel)\\\n",
    "               .replace(\"{%-- suptitle:s --%}\",  \"Daily\" )\\\n",
    "               .replace(\"{%-- docs:s --%}\", docs)\\\n",
    "               .replace(\"{%-- slides:s --%}\", slides)\n",
    "    \n",
    "# print(carousel, docs, slides)\n",
    "# print(page)\n",
    "with open(\"_build/html/index_daily.html\", 'w') as fout:\n",
    "    fout.write(page)"
   ]
  },
  {
   "cell_type": "code",
   "execution_count": 14,
   "id": "00eece82",
   "metadata": {
    "execution": {
     "iopub.execute_input": "2023-07-21T04:08:28.378300Z",
     "iopub.status.busy": "2023-07-21T04:08:28.377589Z",
     "iopub.status.idle": "2023-07-21T04:08:28.385251Z",
     "shell.execute_reply": "2023-07-21T04:08:28.384523Z"
    },
    "papermill": {
     "duration": 0.016246,
     "end_time": "2023-07-21T04:08:28.386751",
     "exception": false,
     "start_time": "2023-07-21T04:08:28.370505",
     "status": "completed"
    },
    "scrolled": false,
    "tags": []
   },
   "outputs": [
    {
     "name": "stdout",
     "output_type": "stream",
     "text": [
      "6  6 publications selected.\n"
     ]
    }
   ],
   "source": [
    "# Create the flat grid of the last N papers (fixed number regardless of dates)\n",
    "from itertools import islice \n",
    "\n",
    "npub = 6\n",
    "res = [k[0] for k in (islice(reversed(sorted(dates, key=lambda x: x[1])), 6))]\n",
    "print(len(res), f\" {npub} publications selected.\")\n",
    "\n",
    "grid = create_grid(npub)\n",
    "docs = ', '.join(['\"{0:s}\"'.format(k.split('/')[-1]) for k in res])\n",
    "slides = ', '.join([f'\"slide{k}\"' for k in range(1, npub + 1)])\n",
    "\n",
    "with open(\"grid_template.html\", \"r\") as tpl:\n",
    "    page = tpl.read()\n",
    "    page = page.replace(\"{%-- grid-content:s --%}\", grid)\\\n",
    "               .replace(\"{%-- suptitle:s --%}\",  f\"Last {npub:,d} papers\" )\\\n",
    "               .replace(\"{%-- docs:s --%}\", docs)\\\n",
    "               .replace(\"{%-- slides:s --%}\", slides)\n",
    "    \n",
    "# print(grid, docs, slides)\n",
    "# print(page)\n",
    "with open(\"_build/html/index_npub_grid.html\", 'w') as fout:\n",
    "    fout.write(page)"
   ]
  }
 ],
 "metadata": {
  "kernelspec": {
   "display_name": "Python 3 (ipykernel)",
   "language": "python",
   "name": "python3"
  },
  "language_info": {
   "codemirror_mode": {
    "name": "ipython",
    "version": 3
   },
   "file_extension": ".py",
   "mimetype": "text/x-python",
   "name": "python",
   "nbconvert_exporter": "python",
   "pygments_lexer": "ipython3",
   "version": "3.9.17"
  },
  "papermill": {
   "default_parameters": {},
   "duration": 187.60613,
   "end_time": "2023-07-21T04:08:28.711670",
   "environment_variables": {},
   "exception": null,
   "input_path": "MPIA daily digest.ipynb",
   "output_path": "log.ipynb",
   "parameters": {},
   "start_time": "2023-07-21T04:05:21.105540",
   "version": "2.4.0"
  },
  "vscode": {
   "interpreter": {
    "hash": "aee8b7b246df8f9039afb4144a1f6fd8d2ca17a180786b69acc140d282b71a49"
   }
  },
  "widgets": {
   "application/vnd.jupyter.widget-state+json": {
    "state": {
     "0dda6f24110f4184bc542a06da9bb974": {
      "model_module": "@jupyter-widgets/controls",
      "model_module_version": "2.0.0",
      "model_name": "HTMLStyleModel",
      "state": {
       "_model_module": "@jupyter-widgets/controls",
       "_model_module_version": "2.0.0",
       "_model_name": "HTMLStyleModel",
       "_view_count": null,
       "_view_module": "@jupyter-widgets/base",
       "_view_module_version": "2.0.0",
       "_view_name": "StyleView",
       "background": null,
       "description_width": "",
       "font_size": null,
       "text_color": null
      }
     },
     "446a025e47cc432a8023d48b6de02e6e": {
      "model_module": "@jupyter-widgets/controls",
      "model_module_version": "2.0.0",
      "model_name": "HTMLModel",
      "state": {
       "_dom_classes": [],
       "_model_module": "@jupyter-widgets/controls",
       "_model_module_version": "2.0.0",
       "_model_name": "HTMLModel",
       "_view_count": null,
       "_view_module": "@jupyter-widgets/controls",
       "_view_module_version": "2.0.0",
       "_view_name": "HTMLView",
       "description": "",
       "description_allow_html": false,
       "layout": "IPY_MODEL_dfae1d46f17e4425b09e9bc5408377fe",
       "placeholder": "​",
       "style": "IPY_MODEL_0dda6f24110f4184bc542a06da9bb974",
       "tabbable": null,
       "tooltip": null,
       "value": "100%"
      }
     },
     "5167a54d986e42259116e9bd37dc4480": {
      "model_module": "@jupyter-widgets/controls",
      "model_module_version": "2.0.0",
      "model_name": "HTMLStyleModel",
      "state": {
       "_model_module": "@jupyter-widgets/controls",
       "_model_module_version": "2.0.0",
       "_model_name": "HTMLStyleModel",
       "_view_count": null,
       "_view_module": "@jupyter-widgets/base",
       "_view_module_version": "2.0.0",
       "_view_name": "StyleView",
       "background": null,
       "description_width": "",
       "font_size": null,
       "text_color": null
      }
     },
     "522c161789964ea39bd4b75fcd32022d": {
      "model_module": "@jupyter-widgets/controls",
      "model_module_version": "2.0.0",
      "model_name": "HTMLModel",
      "state": {
       "_dom_classes": [],
       "_model_module": "@jupyter-widgets/controls",
       "_model_module_version": "2.0.0",
       "_model_name": "HTMLModel",
       "_view_count": null,
       "_view_module": "@jupyter-widgets/controls",
       "_view_module_version": "2.0.0",
       "_view_name": "HTMLView",
       "description": "",
       "description_allow_html": false,
       "layout": "IPY_MODEL_6ab8beb63291440e98b087cc4498bbaa",
       "placeholder": "​",
       "style": "IPY_MODEL_5167a54d986e42259116e9bd37dc4480",
       "tabbable": null,
       "tooltip": null,
       "value": " 2/2 [02:44&lt;00:00, 67.74s/it]"
      }
     },
     "58233d803915484285ef626c02c55c50": {
      "model_module": "@jupyter-widgets/base",
      "model_module_version": "2.0.0",
      "model_name": "LayoutModel",
      "state": {
       "_model_module": "@jupyter-widgets/base",
       "_model_module_version": "2.0.0",
       "_model_name": "LayoutModel",
       "_view_count": null,
       "_view_module": "@jupyter-widgets/base",
       "_view_module_version": "2.0.0",
       "_view_name": "LayoutView",
       "align_content": null,
       "align_items": null,
       "align_self": null,
       "border_bottom": null,
       "border_left": null,
       "border_right": null,
       "border_top": null,
       "bottom": null,
       "display": null,
       "flex": null,
       "flex_flow": null,
       "grid_area": null,
       "grid_auto_columns": null,
       "grid_auto_flow": null,
       "grid_auto_rows": null,
       "grid_column": null,
       "grid_gap": null,
       "grid_row": null,
       "grid_template_areas": null,
       "grid_template_columns": null,
       "grid_template_rows": null,
       "height": null,
       "justify_content": null,
       "justify_items": null,
       "left": null,
       "margin": null,
       "max_height": null,
       "max_width": null,
       "min_height": null,
       "min_width": null,
       "object_fit": null,
       "object_position": null,
       "order": null,
       "overflow": null,
       "padding": null,
       "right": null,
       "top": null,
       "visibility": null,
       "width": null
      }
     },
     "6ab8beb63291440e98b087cc4498bbaa": {
      "model_module": "@jupyter-widgets/base",
      "model_module_version": "2.0.0",
      "model_name": "LayoutModel",
      "state": {
       "_model_module": "@jupyter-widgets/base",
       "_model_module_version": "2.0.0",
       "_model_name": "LayoutModel",
       "_view_count": null,
       "_view_module": "@jupyter-widgets/base",
       "_view_module_version": "2.0.0",
       "_view_name": "LayoutView",
       "align_content": null,
       "align_items": null,
       "align_self": null,
       "border_bottom": null,
       "border_left": null,
       "border_right": null,
       "border_top": null,
       "bottom": null,
       "display": null,
       "flex": null,
       "flex_flow": null,
       "grid_area": null,
       "grid_auto_columns": null,
       "grid_auto_flow": null,
       "grid_auto_rows": null,
       "grid_column": null,
       "grid_gap": null,
       "grid_row": null,
       "grid_template_areas": null,
       "grid_template_columns": null,
       "grid_template_rows": null,
       "height": null,
       "justify_content": null,
       "justify_items": null,
       "left": null,
       "margin": null,
       "max_height": null,
       "max_width": null,
       "min_height": null,
       "min_width": null,
       "object_fit": null,
       "object_position": null,
       "order": null,
       "overflow": null,
       "padding": null,
       "right": null,
       "top": null,
       "visibility": null,
       "width": null
      }
     },
     "6e5fd0f54e6d4dfb969417a61c612142": {
      "model_module": "@jupyter-widgets/base",
      "model_module_version": "2.0.0",
      "model_name": "LayoutModel",
      "state": {
       "_model_module": "@jupyter-widgets/base",
       "_model_module_version": "2.0.0",
       "_model_name": "LayoutModel",
       "_view_count": null,
       "_view_module": "@jupyter-widgets/base",
       "_view_module_version": "2.0.0",
       "_view_name": "LayoutView",
       "align_content": null,
       "align_items": null,
       "align_self": null,
       "border_bottom": null,
       "border_left": null,
       "border_right": null,
       "border_top": null,
       "bottom": null,
       "display": null,
       "flex": null,
       "flex_flow": null,
       "grid_area": null,
       "grid_auto_columns": null,
       "grid_auto_flow": null,
       "grid_auto_rows": null,
       "grid_column": null,
       "grid_gap": null,
       "grid_row": null,
       "grid_template_areas": null,
       "grid_template_columns": null,
       "grid_template_rows": null,
       "height": null,
       "justify_content": null,
       "justify_items": null,
       "left": null,
       "margin": null,
       "max_height": null,
       "max_width": null,
       "min_height": null,
       "min_width": null,
       "object_fit": null,
       "object_position": null,
       "order": null,
       "overflow": null,
       "padding": null,
       "right": null,
       "top": null,
       "visibility": null,
       "width": null
      }
     },
     "8c1e0ee26b304ea78a8a540b01804428": {
      "model_module": "@jupyter-widgets/controls",
      "model_module_version": "2.0.0",
      "model_name": "HBoxModel",
      "state": {
       "_dom_classes": [],
       "_model_module": "@jupyter-widgets/controls",
       "_model_module_version": "2.0.0",
       "_model_name": "HBoxModel",
       "_view_count": null,
       "_view_module": "@jupyter-widgets/controls",
       "_view_module_version": "2.0.0",
       "_view_name": "HBoxView",
       "box_style": "",
       "children": [
        "IPY_MODEL_446a025e47cc432a8023d48b6de02e6e",
        "IPY_MODEL_cc7c8b81bb484decbeec7a4c628ffcc3",
        "IPY_MODEL_522c161789964ea39bd4b75fcd32022d"
       ],
       "layout": "IPY_MODEL_58233d803915484285ef626c02c55c50",
       "tabbable": null,
       "tooltip": null
      }
     },
     "cc7c8b81bb484decbeec7a4c628ffcc3": {
      "model_module": "@jupyter-widgets/controls",
      "model_module_version": "2.0.0",
      "model_name": "FloatProgressModel",
      "state": {
       "_dom_classes": [],
       "_model_module": "@jupyter-widgets/controls",
       "_model_module_version": "2.0.0",
       "_model_name": "FloatProgressModel",
       "_view_count": null,
       "_view_module": "@jupyter-widgets/controls",
       "_view_module_version": "2.0.0",
       "_view_name": "ProgressView",
       "bar_style": "success",
       "description": "",
       "description_allow_html": false,
       "layout": "IPY_MODEL_6e5fd0f54e6d4dfb969417a61c612142",
       "max": 2.0,
       "min": 0.0,
       "orientation": "horizontal",
       "style": "IPY_MODEL_f2c91c62ebd0466d9bd7d74dbfc99cdd",
       "tabbable": null,
       "tooltip": null,
       "value": 2.0
      }
     },
     "dfae1d46f17e4425b09e9bc5408377fe": {
      "model_module": "@jupyter-widgets/base",
      "model_module_version": "2.0.0",
      "model_name": "LayoutModel",
      "state": {
       "_model_module": "@jupyter-widgets/base",
       "_model_module_version": "2.0.0",
       "_model_name": "LayoutModel",
       "_view_count": null,
       "_view_module": "@jupyter-widgets/base",
       "_view_module_version": "2.0.0",
       "_view_name": "LayoutView",
       "align_content": null,
       "align_items": null,
       "align_self": null,
       "border_bottom": null,
       "border_left": null,
       "border_right": null,
       "border_top": null,
       "bottom": null,
       "display": null,
       "flex": null,
       "flex_flow": null,
       "grid_area": null,
       "grid_auto_columns": null,
       "grid_auto_flow": null,
       "grid_auto_rows": null,
       "grid_column": null,
       "grid_gap": null,
       "grid_row": null,
       "grid_template_areas": null,
       "grid_template_columns": null,
       "grid_template_rows": null,
       "height": null,
       "justify_content": null,
       "justify_items": null,
       "left": null,
       "margin": null,
       "max_height": null,
       "max_width": null,
       "min_height": null,
       "min_width": null,
       "object_fit": null,
       "object_position": null,
       "order": null,
       "overflow": null,
       "padding": null,
       "right": null,
       "top": null,
       "visibility": null,
       "width": null
      }
     },
     "f2c91c62ebd0466d9bd7d74dbfc99cdd": {
      "model_module": "@jupyter-widgets/controls",
      "model_module_version": "2.0.0",
      "model_name": "ProgressStyleModel",
      "state": {
       "_model_module": "@jupyter-widgets/controls",
       "_model_module_version": "2.0.0",
       "_model_name": "ProgressStyleModel",
       "_view_count": null,
       "_view_module": "@jupyter-widgets/base",
       "_view_module_version": "2.0.0",
       "_view_name": "StyleView",
       "bar_color": null,
       "description_width": ""
      }
     }
    },
    "version_major": 2,
    "version_minor": 0
   }
  }
 },
 "nbformat": 4,
 "nbformat_minor": 5
}