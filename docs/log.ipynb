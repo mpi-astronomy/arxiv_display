{
 "cells": [
  {
   "cell_type": "markdown",
   "id": "92bcb855",
   "metadata": {
    "papermill": {
     "duration": 0.004954,
     "end_time": "2024-11-27T04:11:23.910686",
     "exception": false,
     "start_time": "2024-11-27T04:11:23.905732",
     "status": "completed"
    },
    "tags": []
   },
   "source": [
    "# MPIA Arxiv on Deck 2\n",
    "\n",
    "Contains the steps to produce the paper extractions."
   ]
  },
  {
   "cell_type": "code",
   "execution_count": 1,
   "id": "3a0d6e11",
   "metadata": {
    "execution": {
     "iopub.execute_input": "2024-11-27T04:11:23.918433Z",
     "iopub.status.busy": "2024-11-27T04:11:23.917852Z",
     "iopub.status.idle": "2024-11-27T04:11:24.384113Z",
     "shell.execute_reply": "2024-11-27T04:11:24.383359Z"
    },
    "papermill": {
     "duration": 0.471572,
     "end_time": "2024-11-27T04:11:24.385562",
     "exception": false,
     "start_time": "2024-11-27T04:11:23.913990",
     "status": "completed"
    },
    "tags": []
   },
   "outputs": [],
   "source": [
    "# Imports\n",
    "import os\n",
    "from IPython.display import Markdown, display\n",
    "from tqdm.notebook import tqdm\n",
    "import warnings\n",
    "from PIL import Image \n",
    "import re\n",
    "\n",
    "# requires arxiv_on_deck_2\n",
    "\n",
    "from arxiv_on_deck_2.arxiv2 import (get_new_papers, \n",
    "                                    get_paper_from_identifier,\n",
    "                                    retrieve_document_source, \n",
    "                                    get_markdown_badge)\n",
    "from arxiv_on_deck_2 import (latex,\n",
    "                             latex_bib,\n",
    "                             mpia,\n",
    "                             highlight_authors_in_list)\n",
    "\n",
    "# Sometimes images are really big\n",
    "Image.MAX_IMAGE_PIXELS = 1000000000 "
   ]
  },
  {
   "cell_type": "code",
   "execution_count": 2,
   "id": "22aa9d44",
   "metadata": {
    "execution": {
     "iopub.execute_input": "2024-11-27T04:11:24.393073Z",
     "iopub.status.busy": "2024-11-27T04:11:24.392813Z",
     "iopub.status.idle": "2024-11-27T04:11:24.400540Z",
     "shell.execute_reply": "2024-11-27T04:11:24.399983Z"
    },
    "papermill": {
     "duration": 0.012602,
     "end_time": "2024-11-27T04:11:24.401481",
     "exception": false,
     "start_time": "2024-11-27T04:11:24.388879",
     "status": "completed"
    },
    "tags": []
   },
   "outputs": [],
   "source": [
    "# Some useful definitions.\n",
    "\n",
    "class AffiliationWarning(UserWarning):\n",
    "    pass\n",
    "\n",
    "class AffiliationError(RuntimeError):\n",
    "    pass\n",
    "\n",
    "def validation(source: str):\n",
    "    \"\"\"Raises error paper during parsing of source file\n",
    "    \n",
    "    Allows checks before parsing TeX code.\n",
    "    \n",
    "    Raises AffiliationWarning\n",
    "    \"\"\"\n",
    "    check = mpia.affiliation_verifications(source, verbose=True)\n",
    "    if check is not True:\n",
    "        raise AffiliationError(\"mpia.affiliation_verifications: \" + check)\n",
    "\n",
    "        \n",
    "warnings.simplefilter('always', AffiliationWarning)\n",
    "\n",
    "\n",
    "def get_markdown_qrcode(paper_id: str):\n",
    "    \"\"\" Generate a qrcode to the arxiv page using qrserver.com\n",
    "    \n",
    "    :param paper: Arxiv paper\n",
    "    :returns: markdown text\n",
    "    \"\"\"\n",
    "    url = r\"https://api.qrserver.com/v1/create-qr-code/?size=100x100&data=\"\n",
    "    txt = f\"\"\"<img src={url}\"https://arxiv.org/abs/{paper_id}\">\"\"\"\n",
    "    txt = '<div id=\"qrcode\">' + txt + '</div>'\n",
    "    return txt\n",
    "\n",
    "\n",
    "def clean_non_western_encoded_characters_commands(text: str) -> str:\n",
    "    \"\"\" Remove non-western encoded characters from a string\n",
    "    List may need to grow.\n",
    "    \n",
    "    :param text: the text to clean\n",
    "    :return: the cleaned text\n",
    "    \"\"\"\n",
    "    text = re.sub(r\"(\\\\begin{CJK}{UTF8}{gbsn})(.*?)(\\\\end{CJK})\", r\"\\2\", text)\n",
    "    return text\n",
    "\n",
    "\n",
    "def get_initials(name: str) -> str:\n",
    "    \"\"\" Get the short name, e.g., A.-B. FamName\n",
    "    :param name: full name\n",
    "    :returns: initials\n",
    "    \"\"\"\n",
    "    initials = []\n",
    "    # account for non western names often in ()\n",
    "    if '(' in name:\n",
    "        name = clean_non_western_encoded_characters_commands(name)\n",
    "        suffix = re.findall(r\"\\((.*?)\\)\", name)[0]\n",
    "        name = name.replace(f\"({suffix})\", '')\n",
    "    else:\n",
    "        suffix = ''\n",
    "    split = name.split()\n",
    "    for token in split[:-1]:\n",
    "        if '-' in token:\n",
    "            current = '-'.join([k[0] + '.' for k in token.split('-')])\n",
    "        else:\n",
    "            current = token[0] + '.'\n",
    "        initials.append(current)\n",
    "    initials.append(split[-1].strip())\n",
    "    if suffix:\n",
    "        initials.append(f\"({suffix})\")\n",
    "    return ' '.join(initials)"
   ]
  },
  {
   "cell_type": "markdown",
   "id": "14bd6310",
   "metadata": {
    "papermill": {
     "duration": 0.002965,
     "end_time": "2024-11-27T04:11:24.407430",
     "exception": false,
     "start_time": "2024-11-27T04:11:24.404465",
     "status": "completed"
    },
    "tags": []
   },
   "source": [
    "## get list of arxiv paper candidates\n",
    "\n",
    "We use the MPIA mitarbeiter list webpage from mpia.de to get author names\n",
    "We then get all new papers from Arxiv and match authors"
   ]
  },
  {
   "cell_type": "code",
   "execution_count": 3,
   "id": "7ea813a8",
   "metadata": {
    "execution": {
     "iopub.execute_input": "2024-11-27T04:11:24.414309Z",
     "iopub.status.busy": "2024-11-27T04:11:24.413920Z",
     "iopub.status.idle": "2024-11-27T04:11:41.921244Z",
     "shell.execute_reply": "2024-11-27T04:11:41.920596Z"
    },
    "papermill": {
     "duration": 17.51216,
     "end_time": "2024-11-27T04:11:41.922534",
     "exception": false,
     "start_time": "2024-11-27T04:11:24.410374",
     "status": "completed"
    },
    "tags": []
   },
   "outputs": [],
   "source": [
    "# deal with the author list and edge cases of people that cannot be consistent on their name  \n",
    "\n",
    "def filter_non_scientists(name: str) -> bool:\n",
    "    \"\"\" Loose filter on expected authorships\n",
    "\n",
    "    removing IT, administration, technical staff\n",
    "    :param name: name\n",
    "    :returns: False if name is not a scientist\n",
    "    \"\"\"\n",
    "    remove_list = ['Licht', 'Binroth', 'Witzel', 'Jordan',\n",
    "                   'Zähringer', 'Scheerer', 'Hoffmann', 'Düe',\n",
    "                   'Hellmich', 'Enkler-Scharpegge', 'Witte-Nguy',\n",
    "                   'Dehen', 'Beckmann', 'Jager', 'Jäger'\n",
    "                  ]\n",
    "\n",
    "    for k in remove_list:\n",
    "        if k in name:\n",
    "            return False\n",
    "    return True\n",
    "\n",
    "def add_author_to_list(author_list: list) -> list:\n",
    "    \"\"\" Add author to list if not already in list\n",
    "    \n",
    "    :param author: author name\n",
    "    :param author_list: list of authors\n",
    "    :returns: updated list of authors\n",
    "    \"\"\"\n",
    "    add_list = ['T. Henning']\n",
    "\n",
    "    for author in add_list:\n",
    "        if author not in author_list:\n",
    "            author_list.append(author)\n",
    "    return author_list\n",
    "\n",
    "# get list from MPIA website\n",
    "# filter for non-scientists (mpia.get_mpia_mitarbeiter_list() does some filtering)\n",
    "mpia_authors = [k[1] for k in mpia.get_mpia_mitarbeiter_list() if filter_non_scientists(k[1])]\n",
    "# add some missing author because of inconsistencies in their MPIA name and author name on papers\n",
    "mpia_authors = add_author_to_list(mpia_authors)"
   ]
  },
  {
   "cell_type": "code",
   "execution_count": 4,
   "id": "2645e73a",
   "metadata": {
    "execution": {
     "iopub.execute_input": "2024-11-27T04:11:41.930093Z",
     "iopub.status.busy": "2024-11-27T04:11:41.929690Z",
     "iopub.status.idle": "2024-11-27T04:11:42.748959Z",
     "shell.execute_reply": "2024-11-27T04:11:42.748327Z"
    },
    "papermill": {
     "duration": 0.824045,
     "end_time": "2024-11-27T04:11:42.749960",
     "exception": false,
     "start_time": "2024-11-27T04:11:41.925915",
     "status": "completed"
    },
    "tags": []
   },
   "outputs": [
    {
     "name": "stdout",
     "output_type": "stream",
     "text": [
      "K. Jahnke  ->  K. Jahnke  |  ['K. Jahnke']\n",
      "M. Schirmer  ->  M. Schirmer  |  ['M. Schirmer']\n",
      "I. J. M. Crossfield  ->  I. J. M. Crossfield  |  ['I. J. M. Crossfield']\n",
      "L. Kreidberg  ->  L. Kreidberg  |  ['L. Kreidberg']\n",
      "K. El-Badry  ->  K. El-Badry  |  ['K. El-Badry']\n",
      "R. Burn  ->  R. Burn  |  ['R. Burn']\n",
      "J. Liu  ->  J. Liu  |  ['J. Liu']\n"
     ]
    },
    {
     "name": "stdout",
     "output_type": "stream",
     "text": [
      "X. Zhang  ->  X. Zhang  |  ['X. Zhang']\n",
      "J. Li  ->  J. Li  |  ['J. Li']\n",
      "M. Feldt  ->  M. Feldt  |  ['M. Feldt']\n",
      "T. Bertram  ->  T. Bertram  |  ['T. Bertram']\n",
      "H. Coppejans  ->  H. Coppejans  |  ['H. Coppejans']\n",
      "M. Kulas  ->  M. Kulas  |  ['M. Kulas']\n",
      "S. Scheithauer  ->  S. Scheithauer  |  ['S. Scheithauer']\n",
      "H. Steuer  ->  H. Steuer  |  ['H. Steuer']\n",
      "M. Benisty  ->  M. Benisty  |  ['M. Benisty']\n",
      "J. Shi  ->  J. Shi  |  ['J. Shi']\n",
      "H. Klahr  ->  H. Klahr  |  ['H. Klahr']\n",
      "X. Zhang  ->  X. Zhang  |  ['X. Zhang']\n",
      "Arxiv has 77 new papers today\n",
      "          11 with possible author matches\n"
     ]
    }
   ],
   "source": [
    "new_papers = get_new_papers()\n",
    "# add manual references\n",
    "add_paper_refs = []\n",
    "new_papers.extend([get_paper_from_identifier(k) for k in add_paper_refs])\n",
    "\n",
    "def robust_call(fn, value, *args, **kwargs):\n",
    "    try:\n",
    "        return fn(value, *args, **kwargs)\n",
    "    except Exception:\n",
    "        return value\n",
    "\n",
    "candidates = []\n",
    "for paperk in new_papers:\n",
    "    # Check author list with their initials\n",
    "    normed_author_list = [robust_call(mpia.get_initials, k) for k in paperk['authors']]\n",
    "    hl_authors = highlight_authors_in_list(normed_author_list, mpia_authors, verbose=True)\n",
    "    matches = [(hl, orig) for hl, orig in zip(hl_authors, paperk['authors']) if 'mark' in hl]\n",
    "    paperk['authors'] = hl_authors\n",
    "    if matches:\n",
    "        # only select paper if an author matched our list\n",
    "        candidates.append(paperk)\n",
    "print(\"\"\"Arxiv has {0:,d} new papers today\"\"\".format(len(new_papers)))        \n",
    "print(\"\"\"          {0:,d} with possible author matches\"\"\".format(len(candidates)))"
   ]
  },
  {
   "cell_type": "markdown",
   "id": "3543b34a",
   "metadata": {
    "papermill": {
     "duration": 0.003198,
     "end_time": "2024-11-27T04:11:42.756634",
     "exception": false,
     "start_time": "2024-11-27T04:11:42.753436",
     "status": "completed"
    },
    "tags": []
   },
   "source": [
    "# Parse sources and generate relevant outputs\n",
    "\n",
    "From the candidates, we do the following steps:\n",
    "* get their tarball from ArXiv (and extract data)\n",
    "* find the main .tex file: find one with \\documentclass{...} (sometimes it's non trivial)\n",
    "* Check affiliations with :func:`validation`, which uses :func:`mpia.affiliation_verifications`\n",
    "* If passing the affiliations: we parse the .tex source\n",
    "   * inject sub-documents into the main (flatten the main document)\n",
    "   * parse structure, extract information (title, abstract, authors, figures...)\n",
    "   * handles `\\graphicspath` if provided\n",
    "* Generate the .md document."
   ]
  },
  {
   "cell_type": "code",
   "execution_count": 5,
   "id": "9576b79e",
   "metadata": {
    "execution": {
     "iopub.execute_input": "2024-11-27T04:11:42.763732Z",
     "iopub.status.busy": "2024-11-27T04:11:42.763485Z",
     "iopub.status.idle": "2024-11-27T04:13:02.569641Z",
     "shell.execute_reply": "2024-11-27T04:13:02.568930Z"
    },
    "papermill": {
     "duration": 79.81101,
     "end_time": "2024-11-27T04:13:02.570741",
     "exception": false,
     "start_time": "2024-11-27T04:11:42.759731",
     "status": "completed"
    },
    "scrolled": false,
    "tags": []
   },
   "outputs": [
    {
     "data": {
      "application/vnd.jupyter.widget-view+json": {
       "model_id": "1d14ce940d17409b8ac2bcc48bb5d175",
       "version_major": 2,
       "version_minor": 0
      },
      "text/plain": [
       "  0%|          | 0/11 [00:00<?, ?it/s]"
      ]
     },
     "metadata": {},
     "output_type": "display_data"
    },
    {
     "name": "stdout",
     "output_type": "stream",
     "text": [
      "Retrieving document from  https://arxiv.org/e-print/2411.16808\n"
     ]
    },
    {
     "name": "stdout",
     "output_type": "stream",
     "text": [
      "extracting tarball to tmp_2411.16808... done.\n"
     ]
    },
    {
     "name": "stderr",
     "output_type": "stream",
     "text": [
      "/opt/hostedtoolcache/Python/3.9.20/x64/lib/python3.9/site-packages/arxiv_on_deck_2/latex.py:488: LatexWarning: Error parsing the document directly. Trying to recover.\n",
      "  warnings.warn(LatexWarning(f\"Error parsing the document directly. Trying to recover.\"))\n"
     ]
    },
    {
     "name": "stdout",
     "output_type": "stream",
     "text": [
      "✔ → 0:header\n",
      "  ↳ 32269:\\section{\\label{sc:Intro}Introduction}\n",
      "✔ → 32269:\\section{\\label{sc:Intro}Introduction}\n",
      "  ↳ 38751:\\section{Early Release Observations}\\label{sec: Datasets}\n"
     ]
    },
    {
     "name": "stdout",
     "output_type": "stream",
     "text": [
      "✔ → 38751:\\section{Early Release Observations}\\label{sec: Datasets}\n",
      "  ↳ 44946:\\section{Overview of networks}\\label{sec: Methods}\n"
     ]
    },
    {
     "name": "stdout",
     "output_type": "stream",
     "text": [
      "✔ → 44946:\\section{Overview of networks}\\label{sec: Methods}\n",
      "  ↳ 83202:\\section{Metrics used for analysis}\\label{sec:metrics}\n",
      "✔ → 83202:\\section{Metrics used for analysis}\\label{sec:metrics}\n",
      "  ↳ 88765:\\section{Results}\\label{sec: Results}\n"
     ]
    },
    {
     "name": "stdout",
     "output_type": "stream",
     "text": [
      "✔ → 88765:\\section{Results}\\label{sec: Results}\n",
      "  ↳ 116317:\\section{Discussion and conclusion}\\label{sec: Conclusions}\n",
      "✔ → 116317:\\section{Discussion and conclusion}\\label{sec: Conclusions}\n",
      "  ↳ 122176:\\section{Lens candidates}\\label{apdx:A}\n",
      "✔ → 122176:\\section{Lens candidates}\\label{apdx:A}\n",
      "  ↳ 123532:\\section{Distribution of predicted scores from fine-tuning}\\label{apdx:B}\n"
     ]
    },
    {
     "name": "stdout",
     "output_type": "stream",
     "text": [
      "✔ → 123532:\\section{Distribution of predicted scores from fine-tuning}\\label{apdx:B}\n",
      "  ↳ 125580:\\section{False positives}\\label{apxc}\n"
     ]
    },
    {
     "name": "stdout",
     "output_type": "stream",
     "text": [
      "✔ → 125580:\\section{False positives}\\label{apxc}\n",
      "  ↳ 128990:end\n"
     ]
    },
    {
     "name": "stdout",
     "output_type": "stream",
     "text": [
      "Found 106 bibliographic references in tmp_2411.16808/AandA.bbl.\n",
      "Issues with the citations\n",
      "syntax error in line 179: '=' expected\n",
      "Retrieving document from  https://arxiv.org/e-print/2411.16836\n"
     ]
    },
    {
     "name": "stdout",
     "output_type": "stream",
     "text": [
      "extracting tarball to tmp_2411.16836... done.\n"
     ]
    },
    {
     "name": "stderr",
     "output_type": "stream",
     "text": [
      "/opt/hostedtoolcache/Python/3.9.20/x64/lib/python3.9/site-packages/arxiv_on_deck_2/latex.py:414: LatexWarning: Latex injecting: 'ms.bbl' from 'tmp_2411.16836/ms.tex'\n",
      "  warnings.warn(LatexWarning(f\"Latex injecting: '{ext}' from '{subsource}'\"))\n"
     ]
    },
    {
     "name": "stdout",
     "output_type": "stream",
     "text": [
      "Found 108 bibliographic references in tmp_2411.16836/ms.bbl.\n",
      "Retrieving document from  https://arxiv.org/e-print/2411.16847\n",
      "extracting tarball to tmp_2411.16847..."
     ]
    },
    {
     "name": "stdout",
     "output_type": "stream",
     "text": [
      " done.\n",
      "Retrieving document from  https://arxiv.org/e-print/2411.16879\n",
      "extracting tarball to tmp_2411.16879..."
     ]
    },
    {
     "name": "stdout",
     "output_type": "stream",
     "text": [
      " done.\n"
     ]
    },
    {
     "name": "stdout",
     "output_type": "stream",
     "text": [
      "R. Burn  ->  R. Burn  |  ['R. Burn']\n"
     ]
    },
    {
     "name": "stderr",
     "output_type": "stream",
     "text": [
      "/opt/hostedtoolcache/Python/3.9.20/x64/lib/python3.9/site-packages/arxiv_on_deck_2/latex.py:132: LatexWarning: attempting recovering figure evolution_tracks_examples_Fice0p5\n",
      "  warnings.warn(LatexWarning(f'attempting recovering figure {image}'))\n",
      "/opt/hostedtoolcache/Python/3.9.20/x64/lib/python3.9/site-packages/arxiv_on_deck_2/latex.py:137: LatexWarning: Recovered figure evolution_tracks_examples_Fice0p5 as tmp_2411.16879/./evolution_tracks_examples_Fice0p5.pdf\n",
      "  warnings.warn(LatexWarning(f'Recovered figure {image} as {fname}'))\n"
     ]
    },
    {
     "name": "stderr",
     "output_type": "stream",
     "text": [
      "/opt/hostedtoolcache/Python/3.9.20/x64/lib/python3.9/site-packages/arxiv_on_deck_2/latex.py:132: LatexWarning: attempting recovering figure period_radius_0p1__mixed_more_HHe_Tsonic3k_redJohn_lim_0p99\n",
      "  warnings.warn(LatexWarning(f'attempting recovering figure {image}'))\n",
      "/opt/hostedtoolcache/Python/3.9.20/x64/lib/python3.9/site-packages/arxiv_on_deck_2/latex.py:137: LatexWarning: Recovered figure period_radius_0p1__mixed_more_HHe_Tsonic3k_redJohn_lim_0p99 as tmp_2411.16879/./period_radius_0p1__mixed_more_HHe_Tsonic3k_redJohn_lim_0p99.pdf\n",
      "  warnings.warn(LatexWarning(f'Recovered figure {image} as {fname}'))\n",
      "/opt/hostedtoolcache/Python/3.9.20/x64/lib/python3.9/site-packages/arxiv_on_deck_2/latex.py:132: LatexWarning: attempting recovering figure period_radius_0p3__mixed_more_HHe_Tsonic3k_redJohn_lim_0p99\n",
      "  warnings.warn(LatexWarning(f'attempting recovering figure {image}'))\n",
      "/opt/hostedtoolcache/Python/3.9.20/x64/lib/python3.9/site-packages/arxiv_on_deck_2/latex.py:137: LatexWarning: Recovered figure period_radius_0p3__mixed_more_HHe_Tsonic3k_redJohn_lim_0p99 as tmp_2411.16879/./period_radius_0p3__mixed_more_HHe_Tsonic3k_redJohn_lim_0p99.pdf\n",
      "  warnings.warn(LatexWarning(f'Recovered figure {image} as {fname}'))\n",
      "/opt/hostedtoolcache/Python/3.9.20/x64/lib/python3.9/site-packages/arxiv_on_deck_2/latex.py:132: LatexWarning: attempting recovering figure period_radius_0p5__mixed_more_HHe_Tsonic3k_redJohn_lim_0p99\n",
      "  warnings.warn(LatexWarning(f'attempting recovering figure {image}'))\n",
      "/opt/hostedtoolcache/Python/3.9.20/x64/lib/python3.9/site-packages/arxiv_on_deck_2/latex.py:137: LatexWarning: Recovered figure period_radius_0p5__mixed_more_HHe_Tsonic3k_redJohn_lim_0p99 as tmp_2411.16879/./period_radius_0p5__mixed_more_HHe_Tsonic3k_redJohn_lim_0p99.pdf\n",
      "  warnings.warn(LatexWarning(f'Recovered figure {image} as {fname}'))\n",
      "/opt/hostedtoolcache/Python/3.9.20/x64/lib/python3.9/site-packages/arxiv_on_deck_2/latex.py:132: LatexWarning: attempting recovering figure period_radius_0p7__mixed_more_HHe_Tsonic3k_redJohn_lim_0p99\n",
      "  warnings.warn(LatexWarning(f'attempting recovering figure {image}'))\n",
      "/opt/hostedtoolcache/Python/3.9.20/x64/lib/python3.9/site-packages/arxiv_on_deck_2/latex.py:137: LatexWarning: Recovered figure period_radius_0p7__mixed_more_HHe_Tsonic3k_redJohn_lim_0p99 as tmp_2411.16879/./period_radius_0p7__mixed_more_HHe_Tsonic3k_redJohn_lim_0p99.pdf\n",
      "  warnings.warn(LatexWarning(f'Recovered figure {image} as {fname}'))\n",
      "/opt/hostedtoolcache/Python/3.9.20/x64/lib/python3.9/site-packages/arxiv_on_deck_2/latex.py:132: LatexWarning: attempting recovering figure period_radius_1p0__mixed_more_HHe_Tsonic3k_redJohn_lim_0p99\n",
      "  warnings.warn(LatexWarning(f'attempting recovering figure {image}'))\n",
      "/opt/hostedtoolcache/Python/3.9.20/x64/lib/python3.9/site-packages/arxiv_on_deck_2/latex.py:137: LatexWarning: Recovered figure period_radius_1p0__mixed_more_HHe_Tsonic3k_redJohn_lim_0p99 as tmp_2411.16879/./period_radius_1p0__mixed_more_HHe_Tsonic3k_redJohn_lim_0p99.pdf\n",
      "  warnings.warn(LatexWarning(f'Recovered figure {image} as {fname}'))\n"
     ]
    },
    {
     "name": "stderr",
     "output_type": "stream",
     "text": [
      "/opt/hostedtoolcache/Python/3.9.20/x64/lib/python3.9/site-packages/arxiv_on_deck_2/latex.py:132: LatexWarning: attempting recovering figure radius_valley_comparison\n",
      "  warnings.warn(LatexWarning(f'attempting recovering figure {image}'))\n",
      "/opt/hostedtoolcache/Python/3.9.20/x64/lib/python3.9/site-packages/arxiv_on_deck_2/latex.py:137: LatexWarning: Recovered figure radius_valley_comparison as tmp_2411.16879/./radius_valley_comparison.pdf\n",
      "  warnings.warn(LatexWarning(f'Recovered figure {image} as {fname}'))\n"
     ]
    },
    {
     "name": "stderr",
     "output_type": "stream",
     "text": [
      "/opt/hostedtoolcache/Python/3.9.20/x64/lib/python3.9/site-packages/arxiv_on_deck_2/latex.py:132: LatexWarning: attempting recovering figure mass_comparison/m_R_loglog_obsParc_redDetProb_all_masses_vert__new_evo_Steam_more_HHe_Tsonic3k_redJohn_Parc_redDetProb_cutRunaway\n",
      "  warnings.warn(LatexWarning(f'attempting recovering figure {image}'))\n",
      "/opt/hostedtoolcache/Python/3.9.20/x64/lib/python3.9/site-packages/arxiv_on_deck_2/latex.py:137: LatexWarning: Recovered figure mass_comparison/m_R_loglog_obsParc_redDetProb_all_masses_vert__new_evo_Steam_more_HHe_Tsonic3k_redJohn_Parc_redDetProb_cutRunaway as tmp_2411.16879/./mass_comparison/m_R_loglog_obsParc_redDetProb_all_masses_vert__new_evo_Steam_more_HHe_Tsonic3k_redJohn_Parc_redDetProb_cutRunaway.png\n",
      "  warnings.warn(LatexWarning(f'Recovered figure {image} as {fname}'))\n",
      "/opt/hostedtoolcache/Python/3.9.20/x64/lib/python3.9/site-packages/arxiv_on_deck_2/latex.py:132: LatexWarning: attempting recovering figure biased_cumulative_Observed_Mixed_Layered_Water_Sequestration_Burn+_2024\n",
      "  warnings.warn(LatexWarning(f'attempting recovering figure {image}'))\n",
      "/opt/hostedtoolcache/Python/3.9.20/x64/lib/python3.9/site-packages/arxiv_on_deck_2/latex.py:137: LatexWarning: Recovered figure biased_cumulative_Observed_Mixed_Layered_Water_Sequestration_Burn+_2024 as tmp_2411.16879/./biased_cumulative_Observed_Mixed_Layered_Water_Sequestration_Burn+_2024.pdf\n",
      "  warnings.warn(LatexWarning(f'Recovered figure {image} as {fname}'))\n"
     ]
    },
    {
     "name": "stderr",
     "output_type": "stream",
     "text": [
      "/opt/hostedtoolcache/Python/3.9.20/x64/lib/python3.9/site-packages/arxiv_on_deck_2/latex.py:132: LatexWarning: attempting recovering figure mass_comparison/m_R_loglog_obsParc_redDetProb_all_masses_vert__new_evo_Layered_more_HHe_Tsonic_redJohn_TransProb_Parc_redDetProb_cutRunaway\n",
      "  warnings.warn(LatexWarning(f'attempting recovering figure {image}'))\n",
      "/opt/hostedtoolcache/Python/3.9.20/x64/lib/python3.9/site-packages/arxiv_on_deck_2/latex.py:137: LatexWarning: Recovered figure mass_comparison/m_R_loglog_obsParc_redDetProb_all_masses_vert__new_evo_Layered_more_HHe_Tsonic_redJohn_TransProb_Parc_redDetProb_cutRunaway as tmp_2411.16879/./mass_comparison/m_R_loglog_obsParc_redDetProb_all_masses_vert__new_evo_Layered_more_HHe_Tsonic_redJohn_TransProb_Parc_redDetProb_cutRunaway.png\n",
      "  warnings.warn(LatexWarning(f'Recovered figure {image} as {fname}'))\n",
      "/opt/hostedtoolcache/Python/3.9.20/x64/lib/python3.9/site-packages/arxiv_on_deck_2/latex.py:132: LatexWarning: attempting recovering figure mass_comparison/m_R_loglog_obsParc_redDetProb_all_masses_vert__new_evo_Steam_more_HHe_H2O_Core\n",
      "  warnings.warn(LatexWarning(f'attempting recovering figure {image}'))\n",
      "/opt/hostedtoolcache/Python/3.9.20/x64/lib/python3.9/site-packages/arxiv_on_deck_2/latex.py:137: LatexWarning: Recovered figure mass_comparison/m_R_loglog_obsParc_redDetProb_all_masses_vert__new_evo_Steam_more_HHe_H2O_Core as tmp_2411.16879/./mass_comparison/m_R_loglog_obsParc_redDetProb_all_masses_vert__new_evo_Steam_more_HHe_H2O_Core.png\n",
      "  warnings.warn(LatexWarning(f'Recovered figure {image} as {fname}'))\n",
      "/opt/hostedtoolcache/Python/3.9.20/x64/lib/python3.9/site-packages/arxiv_on_deck_2/latex.py:132: LatexWarning: attempting recovering figure period_radius_0p1__Layered_more_HHe_Tsonic_redJohn_TransProb_Parc_lim_0p99\n",
      "  warnings.warn(LatexWarning(f'attempting recovering figure {image}'))\n",
      "/opt/hostedtoolcache/Python/3.9.20/x64/lib/python3.9/site-packages/arxiv_on_deck_2/latex.py:137: LatexWarning: Recovered figure period_radius_0p1__Layered_more_HHe_Tsonic_redJohn_TransProb_Parc_lim_0p99 as tmp_2411.16879/./period_radius_0p1__Layered_more_HHe_Tsonic_redJohn_TransProb_Parc_lim_0p99.pdf\n",
      "  warnings.warn(LatexWarning(f'Recovered figure {image} as {fname}'))\n",
      "/opt/hostedtoolcache/Python/3.9.20/x64/lib/python3.9/site-packages/arxiv_on_deck_2/latex.py:132: LatexWarning: attempting recovering figure period_radius_0p3__Layered_more_HHe_Tsonic_redJohn_TransProb_Parc_lim_0p99\n",
      "  warnings.warn(LatexWarning(f'attempting recovering figure {image}'))\n",
      "/opt/hostedtoolcache/Python/3.9.20/x64/lib/python3.9/site-packages/arxiv_on_deck_2/latex.py:137: LatexWarning: Recovered figure period_radius_0p3__Layered_more_HHe_Tsonic_redJohn_TransProb_Parc_lim_0p99 as tmp_2411.16879/./period_radius_0p3__Layered_more_HHe_Tsonic_redJohn_TransProb_Parc_lim_0p99.pdf\n",
      "  warnings.warn(LatexWarning(f'Recovered figure {image} as {fname}'))\n",
      "/opt/hostedtoolcache/Python/3.9.20/x64/lib/python3.9/site-packages/arxiv_on_deck_2/latex.py:132: LatexWarning: attempting recovering figure period_radius_0p5__Layered_more_HHe_Tsonic_redJohn_TransProb_Parc_lim_0p99\n",
      "  warnings.warn(LatexWarning(f'attempting recovering figure {image}'))\n",
      "/opt/hostedtoolcache/Python/3.9.20/x64/lib/python3.9/site-packages/arxiv_on_deck_2/latex.py:137: LatexWarning: Recovered figure period_radius_0p5__Layered_more_HHe_Tsonic_redJohn_TransProb_Parc_lim_0p99 as tmp_2411.16879/./period_radius_0p5__Layered_more_HHe_Tsonic_redJohn_TransProb_Parc_lim_0p99.pdf\n",
      "  warnings.warn(LatexWarning(f'Recovered figure {image} as {fname}'))\n",
      "/opt/hostedtoolcache/Python/3.9.20/x64/lib/python3.9/site-packages/arxiv_on_deck_2/latex.py:132: LatexWarning: attempting recovering figure period_radius_0p7__Layered_more_HHe_Tsonic_redJohn_TransProb_Parc_lim_0p99\n",
      "  warnings.warn(LatexWarning(f'attempting recovering figure {image}'))\n",
      "/opt/hostedtoolcache/Python/3.9.20/x64/lib/python3.9/site-packages/arxiv_on_deck_2/latex.py:137: LatexWarning: Recovered figure period_radius_0p7__Layered_more_HHe_Tsonic_redJohn_TransProb_Parc_lim_0p99 as tmp_2411.16879/./period_radius_0p7__Layered_more_HHe_Tsonic_redJohn_TransProb_Parc_lim_0p99.pdf\n",
      "  warnings.warn(LatexWarning(f'Recovered figure {image} as {fname}'))\n",
      "/opt/hostedtoolcache/Python/3.9.20/x64/lib/python3.9/site-packages/arxiv_on_deck_2/latex.py:132: LatexWarning: attempting recovering figure period_radius_1p0__Layered_more_HHe_Tsonic_redJohn_TransProb_Parc_lim_0p99\n",
      "  warnings.warn(LatexWarning(f'attempting recovering figure {image}'))\n",
      "/opt/hostedtoolcache/Python/3.9.20/x64/lib/python3.9/site-packages/arxiv_on_deck_2/latex.py:137: LatexWarning: Recovered figure period_radius_1p0__Layered_more_HHe_Tsonic_redJohn_TransProb_Parc_lim_0p99 as tmp_2411.16879/./period_radius_1p0__Layered_more_HHe_Tsonic_redJohn_TransProb_Parc_lim_0p99.pdf\n",
      "  warnings.warn(LatexWarning(f'Recovered figure {image} as {fname}'))\n"
     ]
    },
    {
     "name": "stderr",
     "output_type": "stream",
     "text": [
      "/opt/hostedtoolcache/Python/3.9.20/x64/lib/python3.9/site-packages/arxiv_on_deck_2/latex.py:132: LatexWarning: attempting recovering figure period_radius_0p1__mixed_more_HHe_H2O_Core_Tsonic_redJohn_no_secondary_noFrac_nominalCoredens_lim_0p99\n",
      "  warnings.warn(LatexWarning(f'attempting recovering figure {image}'))\n",
      "/opt/hostedtoolcache/Python/3.9.20/x64/lib/python3.9/site-packages/arxiv_on_deck_2/latex.py:137: LatexWarning: Recovered figure period_radius_0p1__mixed_more_HHe_H2O_Core_Tsonic_redJohn_no_secondary_noFrac_nominalCoredens_lim_0p99 as tmp_2411.16879/./period_radius_0p1__mixed_more_HHe_H2O_Core_Tsonic_redJohn_no_secondary_noFrac_nominalCoredens_lim_0p99.pdf\n",
      "  warnings.warn(LatexWarning(f'Recovered figure {image} as {fname}'))\n",
      "/opt/hostedtoolcache/Python/3.9.20/x64/lib/python3.9/site-packages/arxiv_on_deck_2/latex.py:132: LatexWarning: attempting recovering figure period_radius_0p3__mixed_more_HHe_H2O_Core_Tsonic_redJohn_no_secondary_noFrac_nominalCoredens_lim_0p99\n",
      "  warnings.warn(LatexWarning(f'attempting recovering figure {image}'))\n",
      "/opt/hostedtoolcache/Python/3.9.20/x64/lib/python3.9/site-packages/arxiv_on_deck_2/latex.py:137: LatexWarning: Recovered figure period_radius_0p3__mixed_more_HHe_H2O_Core_Tsonic_redJohn_no_secondary_noFrac_nominalCoredens_lim_0p99 as tmp_2411.16879/./period_radius_0p3__mixed_more_HHe_H2O_Core_Tsonic_redJohn_no_secondary_noFrac_nominalCoredens_lim_0p99.pdf\n",
      "  warnings.warn(LatexWarning(f'Recovered figure {image} as {fname}'))\n",
      "/opt/hostedtoolcache/Python/3.9.20/x64/lib/python3.9/site-packages/arxiv_on_deck_2/latex.py:132: LatexWarning: attempting recovering figure period_radius_0p5__mixed_more_HHe_H2O_Core_Tsonic_redJohn_no_secondary_noFrac_nominalCoredens_lim_0p99\n",
      "  warnings.warn(LatexWarning(f'attempting recovering figure {image}'))\n",
      "/opt/hostedtoolcache/Python/3.9.20/x64/lib/python3.9/site-packages/arxiv_on_deck_2/latex.py:137: LatexWarning: Recovered figure period_radius_0p5__mixed_more_HHe_H2O_Core_Tsonic_redJohn_no_secondary_noFrac_nominalCoredens_lim_0p99 as tmp_2411.16879/./period_radius_0p5__mixed_more_HHe_H2O_Core_Tsonic_redJohn_no_secondary_noFrac_nominalCoredens_lim_0p99.pdf\n",
      "  warnings.warn(LatexWarning(f'Recovered figure {image} as {fname}'))\n",
      "/opt/hostedtoolcache/Python/3.9.20/x64/lib/python3.9/site-packages/arxiv_on_deck_2/latex.py:132: LatexWarning: attempting recovering figure period_radius_0p7__mixed_more_HHe_H2O_Core_Tsonic_redJohn_no_secondary_noFrac_nominalCoredens_lim_0p99\n",
      "  warnings.warn(LatexWarning(f'attempting recovering figure {image}'))\n",
      "/opt/hostedtoolcache/Python/3.9.20/x64/lib/python3.9/site-packages/arxiv_on_deck_2/latex.py:137: LatexWarning: Recovered figure period_radius_0p7__mixed_more_HHe_H2O_Core_Tsonic_redJohn_no_secondary_noFrac_nominalCoredens_lim_0p99 as tmp_2411.16879/./period_radius_0p7__mixed_more_HHe_H2O_Core_Tsonic_redJohn_no_secondary_noFrac_nominalCoredens_lim_0p99.pdf\n",
      "  warnings.warn(LatexWarning(f'Recovered figure {image} as {fname}'))\n",
      "/opt/hostedtoolcache/Python/3.9.20/x64/lib/python3.9/site-packages/arxiv_on_deck_2/latex.py:132: LatexWarning: attempting recovering figure period_radius_1p0__mixed_more_HHe_H2O_Core_Tsonic_redJohn_no_secondary_noFrac_nominalCoredens_lim_0p99\n",
      "  warnings.warn(LatexWarning(f'attempting recovering figure {image}'))\n",
      "/opt/hostedtoolcache/Python/3.9.20/x64/lib/python3.9/site-packages/arxiv_on_deck_2/latex.py:137: LatexWarning: Recovered figure period_radius_1p0__mixed_more_HHe_H2O_Core_Tsonic_redJohn_no_secondary_noFrac_nominalCoredens_lim_0p99 as tmp_2411.16879/./period_radius_1p0__mixed_more_HHe_H2O_Core_Tsonic_redJohn_no_secondary_noFrac_nominalCoredens_lim_0p99.pdf\n",
      "  warnings.warn(LatexWarning(f'Recovered figure {image} as {fname}'))\n"
     ]
    },
    {
     "name": "stderr",
     "output_type": "stream",
     "text": [
      "/opt/hostedtoolcache/Python/3.9.20/x64/lib/python3.9/site-packages/arxiv_on_deck_2/latex.py:132: LatexWarning: attempting recovering figure M_R_four_models\n",
      "  warnings.warn(LatexWarning(f'attempting recovering figure {image}'))\n",
      "/opt/hostedtoolcache/Python/3.9.20/x64/lib/python3.9/site-packages/arxiv_on_deck_2/latex.py:137: LatexWarning: Recovered figure M_R_four_models as tmp_2411.16879/./M_R_four_models.pdf\n",
      "  warnings.warn(LatexWarning(f'Recovered figure {image} as {fname}'))\n"
     ]
    },
    {
     "name": "stderr",
     "output_type": "stream",
     "text": [
      "/opt/hostedtoolcache/Python/3.9.20/x64/lib/python3.9/site-packages/arxiv_on_deck_2/latex.py:132: LatexWarning: attempting recovering figure P_R_four_models_redDetProb\n",
      "  warnings.warn(LatexWarning(f'attempting recovering figure {image}'))\n",
      "/opt/hostedtoolcache/Python/3.9.20/x64/lib/python3.9/site-packages/arxiv_on_deck_2/latex.py:137: LatexWarning: Recovered figure P_R_four_models_redDetProb as tmp_2411.16879/./P_R_four_models_redDetProb.pdf\n",
      "  warnings.warn(LatexWarning(f'Recovered figure {image} as {fname}'))\n"
     ]
    },
    {
     "name": "stderr",
     "output_type": "stream",
     "text": [
      "/opt/hostedtoolcache/Python/3.9.20/x64/lib/python3.9/site-packages/arxiv_on_deck_2/latex.py:132: LatexWarning: attempting recovering figure fits_redDetProb_all_models_obs\n",
      "  warnings.warn(LatexWarning(f'attempting recovering figure {image}'))\n",
      "/opt/hostedtoolcache/Python/3.9.20/x64/lib/python3.9/site-packages/arxiv_on_deck_2/latex.py:137: LatexWarning: Recovered figure fits_redDetProb_all_models_obs as tmp_2411.16879/./fits_redDetProb_all_models_obs.png\n",
      "  warnings.warn(LatexWarning(f'Recovered figure {image} as {fname}'))\n",
      "/opt/hostedtoolcache/Python/3.9.20/x64/lib/python3.9/site-packages/arxiv_on_deck_2/latex.py:132: LatexWarning: attempting recovering figure fits_redDetProb_nominal_h2o_mstarcuts_obs\n",
      "  warnings.warn(LatexWarning(f'attempting recovering figure {image}'))\n",
      "/opt/hostedtoolcache/Python/3.9.20/x64/lib/python3.9/site-packages/arxiv_on_deck_2/latex.py:137: LatexWarning: Recovered figure fits_redDetProb_nominal_h2o_mstarcuts_obs as tmp_2411.16879/./fits_redDetProb_nominal_h2o_mstarcuts_obs.png\n",
      "  warnings.warn(LatexWarning(f'Recovered figure {image} as {fname}'))\n",
      "/opt/hostedtoolcache/Python/3.9.20/x64/lib/python3.9/site-packages/arxiv_on_deck_2/latex.py:132: LatexWarning: attempting recovering figure M_R_Zhomo_four_models_kde\n",
      "  warnings.warn(LatexWarning(f'attempting recovering figure {image}'))\n",
      "/opt/hostedtoolcache/Python/3.9.20/x64/lib/python3.9/site-packages/arxiv_on_deck_2/latex.py:137: LatexWarning: Recovered figure M_R_Zhomo_four_models_kde as tmp_2411.16879/./M_R_Zhomo_four_models_kde.pdf\n",
      "  warnings.warn(LatexWarning(f'Recovered figure {image} as {fname}'))\n"
     ]
    },
    {
     "name": "stdout",
     "output_type": "stream",
     "text": [
      "Found 184 bibliographic references in tmp_2411.16879/main.bbl.\n",
      "Error retrieving bib data for Parc2024: 'author'\n",
      "Error retrieving bib data for Petigura2022: 'author'\n",
      "Error retrieving bib data for Ho2024: 'author'\n",
      "Error retrieving bib data for Bonfanti2024: 'author'\n",
      "Error retrieving bib data for Venturini2024: 'author'\n",
      "Error retrieving bib data for Cloutier2020: 'author'\n",
      "Error retrieving bib data for Petigura2022: 'author'\n",
      "Error retrieving bib data for Petigura2022: 'author'\n",
      "Error retrieving bib data for Cloutier2020: 'author'\n",
      "Retrieving document from  https://arxiv.org/e-print/2411.17008\n"
     ]
    },
    {
     "name": "stdout",
     "output_type": "stream",
     "text": [
      "extracting tarball to tmp_2411.17008... done.\n",
      "Retrieving document from  https://arxiv.org/e-print/2411.17094\n"
     ]
    },
    {
     "name": "stdout",
     "output_type": "stream",
     "text": [
      "extracting tarball to tmp_2411.17094... done.\n",
      "Retrieving document from  https://arxiv.org/e-print/2411.17121\n",
      "extracting tarball to tmp_2411.17121..."
     ]
    },
    {
     "name": "stdout",
     "output_type": "stream",
     "text": [
      " done.\n",
      "Retrieving document from  https://arxiv.org/e-print/2411.17341\n"
     ]
    },
    {
     "name": "stdout",
     "output_type": "stream",
     "text": [
      "extracting tarball to tmp_2411.17341..."
     ]
    },
    {
     "name": "stdout",
     "output_type": "stream",
     "text": [
      " done.\n"
     ]
    },
    {
     "name": "stderr",
     "output_type": "stream",
     "text": [
      "/opt/hostedtoolcache/Python/3.9.20/x64/lib/python3.9/site-packages/IPython/core/interactiveshell.py:3550: LatexWarning: Multiple tex files.\n",
      "\n",
      "  exec(code_obj, self.user_global_ns, self.user_ns)\n",
      "/opt/hostedtoolcache/Python/3.9.20/x64/lib/python3.9/site-packages/IPython/core/interactiveshell.py:3550: LatexWarning: Found documentclass in tmp_2411.17341/main.tex\n",
      "\n",
      "  exec(code_obj, self.user_global_ns, self.user_ns)\n",
      "/opt/hostedtoolcache/Python/3.9.20/x64/lib/python3.9/site-packages/arxiv_on_deck_2/latex.py:414: LatexWarning: Latex injecting: 'Common/metis_glossary.tex' from 'tmp_2411.17341/Common/metis_glossary.tex'\n",
      "  warnings.warn(LatexWarning(f\"Latex injecting: '{ext}' from '{subsource}'\"))\n"
     ]
    },
    {
     "name": "stderr",
     "output_type": "stream",
     "text": [
      "/tmp/ipykernel_2633/2822249172.py:52: LatexWarning: 2411.17341 did not run properly\n",
      "bad escape \\e at position 25\n",
      "  warnings.warn(latex.LatexWarning(f\"{paper_id:s} did not run properly\\n\" +\n"
     ]
    },
    {
     "name": "stdout",
     "output_type": "stream",
     "text": [
      "Retrieving document from  https://arxiv.org/e-print/2411.17408\n",
      "extracting tarball to tmp_2411.17408..."
     ]
    },
    {
     "name": "stdout",
     "output_type": "stream",
     "text": [
      " done.\n"
     ]
    },
    {
     "name": "stdout",
     "output_type": "stream",
     "text": [
      "M. Benisty  ->  M. Benisty  |  ['M. Benisty']\n"
     ]
    },
    {
     "name": "stdout",
     "output_type": "stream",
     "text": [
      "Found 81 bibliographic references in tmp_2411.17408/main.bbl.\n",
      "Retrieving document from  https://arxiv.org/e-print/2411.17514\n",
      "extracting tarball to tmp_2411.17514... done.\n",
      "Retrieving document from  https://arxiv.org/e-print/2411.17516\n"
     ]
    },
    {
     "name": "stdout",
     "output_type": "stream",
     "text": [
      "extracting tarball to tmp_2411.17516... done.\n"
     ]
    }
   ],
   "source": [
    "documents = []\n",
    "failed = []\n",
    "for paper in tqdm(candidates):\n",
    "    # debug crap\n",
    "    paper['identifier'] = paper['identifier'].lower().replace('arxiv:', '').replace(r'\\n', '').strip()\n",
    "    paper_id = paper['identifier']\n",
    "    \n",
    "    folder = f'tmp_{paper_id}'\n",
    "\n",
    "    try:\n",
    "        if not os.path.isdir(folder):\n",
    "            folder = retrieve_document_source(f\"{paper_id}\", f'tmp_{paper_id}')\n",
    "        \n",
    "        try:\n",
    "            doc = latex.LatexDocument(folder, validation=validation)    \n",
    "        except AffiliationError as affilerror:\n",
    "            msg = f\"ArXiv:{paper_id:s} is not an MPIA paper... \" + str(affilerror)\n",
    "            failed.append((paper, \"affiliation error: \" + str(affilerror) ))\n",
    "            continue\n",
    "        \n",
    "        # Hack because sometimes author parsing does not work well\n",
    "        if (len(doc.authors) != len(paper['authors'])):\n",
    "            doc._authors = paper['authors']\n",
    "        else:\n",
    "            # highlight authors (FIXME: doc.highlight_authors)\n",
    "            # done on arxiv paper already\n",
    "            doc._authors = highlight_authors_in_list(\n",
    "                [get_initials(k) for k in doc.authors], \n",
    "                mpia_authors, verbose=True)\n",
    "        if (doc.abstract) in (None, ''):\n",
    "            doc._abstract = paper['abstract']\n",
    "            \n",
    "        doc.comment = (get_markdown_badge(paper_id) + \n",
    "                       \"<mark>Appeared on: \" + paper['date'] + \"</mark> - \")\n",
    "        if paper['comments']:\n",
    "            doc.comment += \" _\" + paper['comments'] + \"_\"\n",
    "        \n",
    "        full_md = doc.generate_markdown_text()\n",
    "        \n",
    "        full_md += get_markdown_qrcode(paper_id)\n",
    "        \n",
    "        # replace citations\n",
    "        try:\n",
    "            bibdata = latex_bib.LatexBib.from_doc(doc)\n",
    "            full_md = latex_bib.replace_citations(full_md, bibdata)\n",
    "        except Exception as e:\n",
    "            print(\"Issues with the citations\")\n",
    "            print(e)\n",
    "        \n",
    "        documents.append((paper_id, full_md))\n",
    "    except Exception as e:\n",
    "        warnings.warn(latex.LatexWarning(f\"{paper_id:s} did not run properly\\n\" +\n",
    "                                         str(e)\n",
    "                                        ))\n",
    "        failed.append((paper, \"latex error \" + str(e)))"
   ]
  },
  {
   "cell_type": "markdown",
   "id": "2505a25c",
   "metadata": {
    "papermill": {
     "duration": 0.005157,
     "end_time": "2024-11-27T04:13:02.581494",
     "exception": false,
     "start_time": "2024-11-27T04:13:02.576337",
     "status": "completed"
    },
    "tags": []
   },
   "source": [
    "### Export the logs\n",
    "\n",
    "Throughout, we also keep track of the logs per paper. see `logs-{today date}.md` "
   ]
  },
  {
   "cell_type": "code",
   "execution_count": 6,
   "id": "d733828a",
   "metadata": {
    "execution": {
     "iopub.execute_input": "2024-11-27T04:13:02.592768Z",
     "iopub.status.busy": "2024-11-27T04:13:02.592505Z",
     "iopub.status.idle": "2024-11-27T04:13:02.615149Z",
     "shell.execute_reply": "2024-11-27T04:13:02.614541Z"
    },
    "papermill": {
     "duration": 0.029665,
     "end_time": "2024-11-27T04:13:02.616291",
     "exception": false,
     "start_time": "2024-11-27T04:13:02.586626",
     "status": "completed"
    },
    "scrolled": false,
    "tags": []
   },
   "outputs": [
    {
     "data": {
      "text/markdown": [
       "## Successful papers"
      ],
      "text/plain": [
       "<IPython.core.display.Markdown object>"
      ]
     },
     "metadata": {},
     "output_type": "display_data"
    },
    {
     "data": {
      "text/markdown": [
       "\n",
       "|||\n",
       "|---:|:---|\n",
       "| [![arXiv](https://img.shields.io/badge/arXiv-2411.16808-b31b1b.svg)](https://arxiv.org/abs/2411.16808) | **Euclid: Searches for strong gravitational lenses using convolutional neural nets in Early Release Observations of the Perseus field**  |\n",
       "|| R. Pearce-Casey, et al. -- incl., <mark>K. Jahnke</mark>, <mark>M. Schirmer</mark> |\n",
       "|*Appeared on*| *2024-11-27*|\n",
       "|*Comments*| *22 pages, 11 figures, Euclid consortium paper, A&A submitted*|\n",
       "|**Abstract**|            The Euclid Wide Survey (EWS) is predicted to find approximately 170 000 galaxy-galaxy strong lenses from its lifetime observation of 14 000 deg^2 of the sky. Detecting this many lenses by visual inspection with professional astronomers and citizen scientists alone is infeasible. Machine learning algorithms, particularly convolutional neural networks (CNNs), have been used as an automated method of detecting strong lenses, and have proven fruitful in finding galaxy-galaxy strong lens candidates. We identify the major challenge to be the automatic detection of galaxy-galaxy strong lenses while simultaneously maintaining a low false positive rate. One aim of this research is to have a quantified starting point on the achieved purity and completeness with our current version of CNN-based detection pipelines for the VIS images of EWS. We select all sources with VIS IE < 23 mag from the Euclid Early Release Observation imaging of the Perseus field. We apply a range of CNN architectures to detect strong lenses in these cutouts. All our networks perform extremely well on simulated data sets and their respective validation sets. However, when applied to real Euclid imaging, the highest lens purity is just 11%. Among all our networks, the false positives are typically identifiable by human volunteers as, for example, spiral galaxies, multiple sources, and artefacts, implying that improvements are still possible, perhaps via a second, more interpretable lens selection filtering stage. There is currently no alternative to human classification of CNN-selected lens candidates. Given the expected 10^5 lensing systems in Euclid, this implies 10^6 objects for human classification, which while very large is not in principle intractable and not without precedent.         |"
      ],
      "text/plain": [
       "[2411.16808] Euclid: Searches for strong gravitational lenses using convolutional neural nets in Early Release Observations of the Perseus field\n",
       "\tR. Pearce-Casey, et al. -- incl., <mark>K. Jahnke</mark>, <mark>M. Schirmer</mark>"
      ]
     },
     "metadata": {},
     "output_type": "display_data"
    },
    {
     "data": {
      "text/markdown": [
       "\n",
       "|||\n",
       "|---:|:---|\n",
       "| [![arXiv](https://img.shields.io/badge/arXiv-2411.16836-b31b1b.svg)](https://arxiv.org/abs/2411.16836) | **OrCAS: Origins, Compositions, and Atmospheres of Sub-neptunes. I. Survey Definition**  |\n",
       "|| <mark>I. J. M. Crossfield</mark>, et al. -- incl., <mark>L. Kreidberg</mark> |\n",
       "|*Appeared on*| *2024-11-27*|\n",
       "|*Comments*| *20 pages, 4 figures, 4 tables, 26 sub-Neptunes, 31 TOIs. Accepted to AJ*|\n",
       "|**Abstract**|            Sub-Neptunes - volatile-rich exoplanets smaller than Neptune - are intrinsically the most common type of planet known. However, the formation and nature of these objects, as well as the distinctions between sub-classes (if any), remain unclear. Two powerful tools to tease out the secrets of these worlds are measurements of (i) atmospheric composition and structure revealed by transit and/or eclipse spectroscopy, and (ii) mass, radius, and density revealed by transit photometry and Doppler spectroscopy. Here we present OrCAS, a survey to better elucidate the origins, compositions, and atmospheres of sub-Neptunes. This radial velocity survey uses a repeatable, quantifiable metric to select targets suitable for subsequent transmission spectroscopy and address key science themes about the atmospheric & internal compositions and architectures of these systems. Our survey targets 26 systems with transiting sub-Neptune planet candidates, with the overarching goal of increasing the sample of such planets suitable for subsequent atmospheric characterization. This paper lays out our survey's science goals, defines our target prioritization metric, and performs light-curve fits and statistical validation using existing TESS photometry and ground-based follow-up observations. Our survey serves to continue expanding the sample of small exoplanets with well-measured properties orbiting nearby bright stars, ensuring fruitful studies of these systems for many years to come.         |"
      ],
      "text/plain": [
       "[2411.16836] OrCAS: Origins, Compositions, and Atmospheres of Sub-neptunes. I. Survey Definition\n",
       "\t<mark>I. J. M. Crossfield</mark>, et al. -- incl., <mark>L. Kreidberg</mark>"
      ]
     },
     "metadata": {},
     "output_type": "display_data"
    },
    {
     "data": {
      "text/markdown": [
       "\n",
       "|||\n",
       "|---:|:---|\n",
       "| [![arXiv](https://img.shields.io/badge/arXiv-2411.16879-b31b1b.svg)](https://arxiv.org/abs/2411.16879) | **Water-rich sub-Neptunes and rocky super Earths around different Stars: Radii shaped by Volatile Partitioning, Formation, and Evolution**  |\n",
       "|| <mark>R. Burn</mark>, et al. |\n",
       "|*Appeared on*| *2024-11-27*|\n",
       "|*Comments*| *25 pages, 17 figures, submitted to A&A*|\n",
       "|**Abstract**|            The nature of sub-Neptunes remains unknown due to degeneracies in interior structure solutions. However, a statistical set of small planets with measured masses and radii has been compiled. It can be used to test the prediction of large water reservoirs on sub-Neptunes by planet formation theory. We want to find out whether this water reservoir is included in photoevaporative winds and how much of it can partition into the rocky and metallic interior. We couple the result of a planetary formation model to evolution models which assume perfect mixing of water with H/He in the envelope or complete segregation. For the mixed envelopes, we also include fractionation during photoevaporative mass-loss. Further, the effect of equilibrium dissolution of water into an assumed magma ocean and into the metallic core is studied for the first time in coupled formation-evolution models. Out of the tested scenarios, the mass-radius relation of exoplanets is best matched under the mixed assumption without water sequestration to the interior. We quantify the radius valley location and scaling with stellar mass. Fractionation is not found to significantly alter the composition of the planets for our initial conditions due to initially massive envelopes on all planets. In contrast, water sequestration has a profound effect on the radius evolution and compositional budget of the planets. The model predicts the preservation of large quantities of water even if the gaseous envelope is lost. Planets with corresponding bulk densities are not observed in comparably large numbers. By combining formation and evolution model, we probe a parameter space favored by core accretion theory. We conclude that the dissolution of different volatiles into the planetary interior and solidification of the magma ocean are natural next steps for comprehensive treatment of atmosphere-interior interaction. (abridged)         |"
      ],
      "text/plain": [
       "[2411.16879] Water-rich sub-Neptunes and rocky super Earths around different Stars: Radii shaped by Volatile Partitioning, Formation, and Evolution\n",
       "\t<mark>R. Burn</mark>, et al."
      ]
     },
     "metadata": {},
     "output_type": "display_data"
    },
    {
     "data": {
      "text/markdown": [
       "\n",
       "|||\n",
       "|---:|:---|\n",
       "| [![arXiv](https://img.shields.io/badge/arXiv-2411.17408-b31b1b.svg)](https://arxiv.org/abs/2411.17408) | **Gas dynamics around a Jupiter mass planet: II. Chemical evolution of circumplanetary material**  |\n",
       "|| A. J. Cridland, E. Lega, <mark>M. Benisty</mark> |\n",
       "|*Appeared on*| *2024-11-27*|\n",
       "|*Comments*| *20 pages, 17 figures, accepted for publication in A&A*|\n",
       "|**Abstract**|            In an ongoing effort to understand planet formation the link between the chemistry of the protoplanetary disk and the properties of resulting planets have long been a subject of interest. These connections have generally been made between mature planets and young protoplanetary disks through the carbon-to-oxygen (C/O) ratio. In a rare number of systems, young protoplanets have been found within their natal protoplanetary disks. These systems offer a unique opportunity to directly study the delivery of gas from the protoplanetary disk to the planet. In this work we post-process 3D numerical simulations of an embedded Jupiter-massed planet in its protoplanetary disk to explore the chemical evolution of gas as it flows from the disk to the planet. The relevant dust to this chemical evolution is assumed to be small, co-moving grains with a reduced dust-to-gas ratio indicative of the upper atmosphere of a protoplanetary disk. We find that as the gas enters deep into the planet's gravitational well, it warms significantly (up to $\\sim 800$ K), releasing all of the volatile content from the ice phase. This change in phase can influence our understanding of the delivery of volatile species to the atmospheres of giant planets. The primary carbon, oxygen, and sulfur carrying ices: CO$_2$, H$_2$O, and H$_2$S are released into the gas phase and along with the warm gas temperatures near the embedded planets lead to the production of unique species like CS, SO, and SO$_2$ compared to the protoplanetary disk. We compute the column densities of SO, SO$_2$, CS, and H$_2$CS in our model and find that their values are consistent with previous observational studies.         |"
      ],
      "text/plain": [
       "[2411.17408] Gas dynamics around a Jupiter mass planet: II. Chemical evolution of circumplanetary material\n",
       "\tA. J. Cridland, E. Lega, <mark>M. Benisty</mark>"
      ]
     },
     "metadata": {},
     "output_type": "display_data"
    },
    {
     "data": {
      "text/markdown": [
       "## Failed papers"
      ],
      "text/plain": [
       "<IPython.core.display.Markdown object>"
      ]
     },
     "metadata": {},
     "output_type": "display_data"
    },
    {
     "data": {
      "text/markdown": [
       "\n",
       "|||\n",
       "|---:|:---|\n",
       "| [![arXiv](https://img.shields.io/badge/arXiv-2411.17514-b31b1b.svg)](https://arxiv.org/abs/2411.17514) | **Kinetic Field Theory Applied to Planetesimal Formation I: Freely Streaming Dust Particles**  |\n",
       "|| <mark>J. Shi</mark>, M. Bartelmann, <mark>H. Klahr</mark>, C. P. Dullemond |\n",
       "|*Appeared on*| *2024-11-27*|\n",
       "|*Comments*| *20 pages, 9 figures*|\n",
       "|**Abstract**|            Planet formation in the solar system was started when the first planetesimals were formed from the gravitational collapse of pebble clouds. Numerical simulations of this process, especially in the framework of streaming instability, produce various power laws for the initial mass function for planetesimals. While recent advances have shed light on turbulence and its role in particle clustering, a comprehensive theoretical framework linking turbulence characteristics to particle cluster properties and planetesimal mass function remains incomplete. Recently, a kinetic field theory for ensembles of point-like classical particles in or out of equilibrium has been applied to cosmic structure formation. This theory encodes the dynamics of a classical particle ensemble by a generating functional specified by the initial probability distribution of particles in phase space and their equations of motion. Here, we apply kinetic field theory to planetesimal formation. A model for the initial probability distribution of dust particles in phase space is obtained from a quasi-initial state for a three-dimensional streaming-instability simulation that is a particle distribution with velocities for gas and particles from the Nakagawa relations. The equations of motion are chosen for the simplest case of freely streaming particles. We calculate the non-linearly evolved density power spectrum of dust particles and find that it develops a universal $k^{-3}$ tail at small scales, suggesting scale-invariant structure formation below a characteristic and time-dependent length scale. Thus, the KFT analysis indicates that the initial state for streaming instability simulations does not impose a constraint on structure evolution during planetesimal formation.         |\n",
       "|<p style=\"color:green\"> **ERROR** </p>| <p style=\"color:green\">affiliation error: mpia.affiliation_verifications: '69117' keyword not found.</p> |"
      ],
      "text/plain": [
       "<IPython.core.display.Markdown object>"
      ]
     },
     "metadata": {},
     "output_type": "display_data"
    },
    {
     "data": {
      "text/markdown": [
       "\n",
       "|||\n",
       "|---:|:---|\n",
       "| [![arXiv](https://img.shields.io/badge/arXiv-2411.16847-b31b1b.svg)](https://arxiv.org/abs/2411.16847) | **Mixed origins: strong natal kicks for some black holes and none for others**  |\n",
       "|| P. Nagarajan, <mark>K. El-Badry</mark> |\n",
       "|*Appeared on*| *2024-11-27*|\n",
       "|*Comments*| *18 pages, 5 figures, Submitted to PASP*|\n",
       "|**Abstract**|            Using stellar kinematic data from Gaia DR3, we revisit constraints on black hole (BH) natal kicks from observed accreting and detached BH binaries. We compare the space velocities and Galactic orbits of a sample of 12 BHs in the Galactic disk with well-constrained distances to their local stellar populations, for which we obtain proper motions and radial velocities from Gaia DR3. Compared to most previous studies, we infer lower minimum kick velocities, because our modeling accounts for the fact that most BH binaries are old and have likely been kinematically heated by processes other than kicks. Nevertheless, we find that half of the BHs have at least weak evidence for a kick, being kinematically hotter than at least 68% of their local stellar populations. At least 4 BHs are kinematically hotter than 90% of their local stellar populations, suggesting they were born with kicks of $\\gtrsim 100$ km s$^{-1}$. On the other hand, 6 BHs have kinematics typical of their local populations, disfavoring kicks of $\\gtrsim 50$ km s$^{-1}$. For two BHs, V404 Cyg and VFTS 243, there is strong independent evidence for a very weak kick $\\lesssim 10$ km s$^{-1}$. Our analysis implies that while some BHs must form with very weak kicks, it would be wrong to conclude that most BHs do, particularly given that selection biases favor weak kicks. Although the uncertainties on most individual BHs' kicks are still too large to assess whether the kick distribution is bimodal, the data are consistent with a scenario where some BHs form by direct collapse and receive weak kicks, and others form in supernovae and receive strong kicks.         |\n",
       "|<p style=\"color:green\"> **ERROR** </p>| <p style=\"color:green\">affiliation error: mpia.affiliation_verifications: 'Heidelberg' keyword not found.</p> |"
      ],
      "text/plain": [
       "<IPython.core.display.Markdown object>"
      ]
     },
     "metadata": {},
     "output_type": "display_data"
    },
    {
     "data": {
      "text/markdown": [
       "\n",
       "|||\n",
       "|---:|:---|\n",
       "| [![arXiv](https://img.shields.io/badge/arXiv-2411.17008-b31b1b.svg)](https://arxiv.org/abs/2411.17008) | **SN 2014C: a metamorphic supernova exploded in the intricate and hydrogen-rich surroundings**  |\n",
       "|| Q. Zhai, et al. -- incl., <mark>J. Liu</mark> |\n",
       "|*Appeared on*| *2024-11-27*|\n",
       "|*Comments*| *23 pages, 15 figures, submitted to ApJ*|\n",
       "|**Abstract**|            We present photometric and spectroscopic observations of supernova (SN) 2014C, primarily emphasizing the initial month after the explosion at approximately daily intervals. During this time, it was classified as a Type Ib SN exhibiting a notably higher peak luminosity ($L_{\\rm peak}\\approx4.3\\times10^{42}\\rm erg\\,s^{-1}$), a faster rise to brightness ($t_{\\rm rise} \\approx 11.6$ d), and a more gradual dimming ($\\Delta m_{15}^{V} \\approx 0.48$ mag) compared to typical SNe Ib. Analysis of the velocity evolution over the first $\\sim$ 20 days after the explosion supports the view that the absorption near 6200Å\\,is due to high-velocity H$\\alpha$ in the outer layers of the ejecta, indicating the presence of a small amount of hydrogen in the envelope of progenitor before the explosion. Assuming the peak luminosity is entirely attributed to radioactive decay, we estimate that 0.14 \\Msun\\,of \\Nifs\\,was synthesized in the explosion. However, this amount of nickel could no longer maintain observed brightness approximately ten days after peak luminosity, suggesting additional energy sources beyond radioactive decay. This supplementary energy likely originates from interaction with the circumstellar medium (CSM). Consequently, the timing of the SN-CSM interaction in SN 2014C may occur much earlier than the emergence of IIn-like features during the nebular phase.         |\n",
       "|<p style=\"color:green\"> **ERROR** </p>| <p style=\"color:green\">affiliation error: mpia.affiliation_verifications: 'Heidelberg' keyword not found.</p> |"
      ],
      "text/plain": [
       "<IPython.core.display.Markdown object>"
      ]
     },
     "metadata": {},
     "output_type": "display_data"
    },
    {
     "data": {
      "text/markdown": [
       "\n",
       "|||\n",
       "|---:|:---|\n",
       "| [![arXiv](https://img.shields.io/badge/arXiv-2411.17094-b31b1b.svg)](https://arxiv.org/abs/2411.17094) | **Analytical modeling of the one-dimensional power spectrum of 21-cm forest based on a halo model method**  |\n",
       "|| Y. Shao, T.-Y. Sun, M.-L. Zhao, <mark>X. Zhang</mark> |\n",
       "|*Appeared on*| *2024-11-27*|\n",
       "|*Comments*| *10 pages, 7 figures*|\n",
       "|**Abstract**|            The 21-cm forest, composed of spectral absorption features from high-redshift background radio sources, provides a unique probe for studying small-scale structures during the epoch of reionization. It is particularly sensitive to detecting small-scale structures and early heating processes. Despite the rich information contained in the 21-cm forest signal, the complexity of directly modeling the signal has led to a lack of effective analytical models. However, the one-dimensional (1D) power spectrum of the 21-cm forest contains valuable information about the matter power spectrum, making analytical modeling feasible. This work employs an analytical modeling approach based on the halo model, which links the distribution of matter to dark matter halos, allowing for effective predictions of cosmic structure formation and its impact on the 21-cm signal. By considering various parameter scenarios within the halo model framework, particularly different dark matter particle masses and varying levels of cosmic heating, we can capture the complexities of small-scale structures and make the 1D power spectrum modeling applicable across a wide range of parameters. This method not only enhances our understanding of the 21-cm forest signal but also provides theoretical support for future observational data. Observing the 21-cm forest with large radio telescopes, such as the Square Kilometre Array, is anticipated to enable simultaneous exploration of dark matter properties and the heating history of the early universe.         |\n",
       "|<p style=\"color:green\"> **ERROR** </p>| <p style=\"color:green\">affiliation error: mpia.affiliation_verifications: 'Heidelberg' keyword not found.</p> |"
      ],
      "text/plain": [
       "<IPython.core.display.Markdown object>"
      ]
     },
     "metadata": {},
     "output_type": "display_data"
    },
    {
     "data": {
      "text/markdown": [
       "\n",
       "|||\n",
       "|---:|:---|\n",
       "| [![arXiv](https://img.shields.io/badge/arXiv-2411.17121-b31b1b.svg)](https://arxiv.org/abs/2411.17121) | **The deuterium fractionation of NH$_3$ in massive star-forming regions**  |\n",
       "|| Y. Li, et al. -- incl., <mark>J. Li</mark> |\n",
       "|*Appeared on*| *2024-11-27*|\n",
       "|*Comments*| *Accepted for publication in ApJ. 34 pages, 25 figures, 7 tables*|\n",
       "|**Abstract**|            Deuteration is sensitive to environmental conditions in star-forming regions. To investigate NH$_2$D chemistry, we compared the spatial distribution of ortho-NH$_2$D $1_{11}^s-1_{01}^a$, NH$_3$(1,1) and NH$_3$(2,2) in 12 late-stage massive star-forming regions. By averaging several pixels along the spatial slices of ortho-NH$_2$D $1_{11}^s-1_{01}^a$, we obtained the deuterium fractionation of NH$_3$. In seven targets, the deuterium fractionation of NH$_3$ shows a decreasing trend with increasing rotational temperature. This trend is less clear in the remaining five sources, likely due to limited spatial resolution. However, when considering all 12 sources together, the anticorrelation between NH$_3$ deuterium fractionation and rotational temperature becomes less significant, suggesting that other physical parameters may influence the fractionation. Additionally, we found that the region of highest deuterium fractionation of NH$_3$ is offset from the NH$_3$ peak in each source, likely because the temperature is higher near the NH$_3$ peaks and NH$_2$D may be depleted from the gas phase as the molecular cloud core evolves, as well as the increased release of CO from grains into the gas phase.         |\n",
       "|<p style=\"color:green\"> **ERROR** </p>| <p style=\"color:green\">affiliation error: mpia.affiliation_verifications: 'Heidelberg' keyword not found.</p> |"
      ],
      "text/plain": [
       "<IPython.core.display.Markdown object>"
      ]
     },
     "metadata": {},
     "output_type": "display_data"
    },
    {
     "data": {
      "text/markdown": [
       "\n",
       "|||\n",
       "|---:|:---|\n",
       "| [![arXiv](https://img.shields.io/badge/arXiv-2411.17516-b31b1b.svg)](https://arxiv.org/abs/2411.17516) | **The BINGO/ABDUS Project: Forecast for cosmological parameter from a mock Fast Radio Bursts survey**  |\n",
       "|| <mark>X. Zhang</mark>, et al. |\n",
       "|*Appeared on*| *2024-11-27*|\n",
       "|*Comments*| *11 pages, 10 figures, 2 tables*|\n",
       "|**Abstract**|            There are hosts of surveys that will provide excellent data to search for and locate Fast Radio Bursts (FRBs) at cosmological distances. The BINGO project is one such surveys, and this collaboration has already estimated a FRB detection rate that the project will yield with the main telescope helped by a set of outrigger stations. This paper aims to simulate and estimate the potential of FRBs in constraining our current cosmological model. We present a forecast of the future constraints that the BINGO FRB detections and localizations will have when added to other current cosmological datasets. We quantify the dispersion measure (DM) as a function of redshift ($z$) for the BINGO FRB mock sample. Furthermore, we use current datasets (Supernovae, Baryonic Acoustic Oscillations, and Cosmic Microwave Background data) prior to assessing the efficacy of constraining dark energy models using Monte Carlo methods. Our results show that spatially located BINGO FRB dataset will provide promising constraints on the population of host galaxies intrinsic DM and be able to measure the nuisance parameters present within a FRB cosmological analysis. Still, they will also provide alternative estimates on other parameters such as the Hubble constant and the dark energy equation of state. In particular, we should see that BINGO FRB data can put constraints on the degenerate $w-H_0$ plane, which the CMB is incapable of measuring, allowing FRBs to be a viable alternative to BAO to constrain the dark energy equation of state. We conclude that FRBs remain a promising future probe for cosmology and that the FRBs detected by the BINGO project will contribute significantly to our knowledge of the current cosmological model.         |\n",
       "|<p style=\"color:green\"> **ERROR** </p>| <p style=\"color:green\">affiliation error: mpia.affiliation_verifications: 'Heidelberg' keyword not found.</p> |"
      ],
      "text/plain": [
       "<IPython.core.display.Markdown object>"
      ]
     },
     "metadata": {},
     "output_type": "display_data"
    },
    {
     "data": {
      "text/markdown": [
       "\n",
       "|||\n",
       "|---:|:---|\n",
       "| [![arXiv](https://img.shields.io/badge/arXiv-2411.17341-b31b1b.svg)](https://arxiv.org/abs/2411.17341) | **High strehl and high contrast for the ELT instrument METIS - Final design, implementation, and predicted performance of the single-conjugate adaptive optics system**  |\n",
       "|| <mark>M. Feldt</mark>, et al. -- incl., <mark>T. Bertram</mark>, <mark>H. Coppejans</mark>, <mark>M. Kulas</mark>, <mark>S. Scheithauer</mark>, <mark>H. Steuer</mark> |\n",
       "|*Appeared on*| *2024-11-27*|\n",
       "|*Comments*| *51 pages, 29 figures, accepted to Experimental Astronomy*|\n",
       "|**Abstract**|            The Mid-infrared ELT Imager and Spectrograph (METIS) is a first-generation instrument for the Extremely Large Telescope (ELT), Europe's next-generation 39 m ground-based telescope for optical and infrared wavelengths. METIS will offer diffraction-limited imaging, low- and medium-resolution slit spectroscopy, and coronagraphy for high-contrast imaging between 3 and 13 microns, as well as high-resolution integral field spectroscopy between 3 and 5 microns. The main METIS science goals are the detection and characterisation of exoplanets, the investigation of proto-planetary disks, and the formation of planets. The Single-Conjugate Adaptive Optics (SCAO) system corrects atmospheric distortions and is thus essential for diffraction-limited observations with METIS. Numerous challenging aspects of an ELT Adaptive Optics (AO) system are addressed in the mature designs for the SCAO control system and the SCAO hardware module: the complex interaction with the telescope entities that participate in the AO control, wavefront reconstruction with a fragmented and moving pupil, secondary control tasks to deal with differential image motion, non-common path aberrations and mis-registration. A K-band pyramid wavefront sensor and a GPU-based Real-Time Computer (RTC), tailored to the needs of METIS at the ELT, are core components. This current paper serves as a natural sequel to our previous work presented in Hippler et al. (2018). It includes updated performance estimations in terms of several key performance indicators, including achieved contrast curves. We outline all important design decisions that were taken, and present the major challenges we faced and the main analyses carried out to arrive at these decisions and eventually the final design. We also elaborate on our testing and verification strategy, and, last not least, comprehensively present the full design, hardware and software.         |\n",
       "|<p style=\"color:red\"> **ERROR** </p>| <p style=\"color:red\">latex error bad escape \\e at position 25</p> |"
      ],
      "text/plain": [
       "<IPython.core.display.Markdown object>"
      ]
     },
     "metadata": {},
     "output_type": "display_data"
    }
   ],
   "source": [
    "import datetime\n",
    "today = str(datetime.date.today())\n",
    "logfile = f\"_build/html/logs/log-{today}.md\"\n",
    "\n",
    "\n",
    "with open(logfile, 'w') as logs:\n",
    "    # Success\n",
    "    logs.write(f'# Arxiv on Deck 2: Logs - {today}\\n\\n')\n",
    "    logs.write(\"\"\"* Arxiv had {0:,d} new papers\\n\"\"\".format(len(new_papers)))\n",
    "    logs.write(\"\"\"    * {0:,d} with possible author matches\\n\\n\"\"\".format(len(candidates)))\n",
    "    logs.write(\"## Sucessful papers\\n\\n\")\n",
    "    display(Markdown(\"## Successful papers\"))\n",
    "    success = [k[0] for k in documents]\n",
    "    for candid in candidates:\n",
    "        if candid['identifier'].split(':')[-1] in success:\n",
    "            display(candid)\n",
    "            logs.write(candid.generate_markdown_text() + '\\n\\n')\n",
    "\n",
    "    ## failed\n",
    "    logs.write(\"## Failed papers\\n\\n\")\n",
    "    display(Markdown(\"## Failed papers\"))\n",
    "    failed = sorted(failed, key=lambda x: x[1])\n",
    "    current_reason = \"\"\n",
    "    for paper, reason in failed:\n",
    "        if 'affiliation' in reason:\n",
    "            color = 'green'\n",
    "        else:\n",
    "            color = 'red'\n",
    "        data = Markdown(\n",
    "                paper.generate_markdown_text() + \n",
    "                f'\\n|<p style=\"color:{color:s}\"> **ERROR** </p>| <p style=\"color:{color:s}\">{reason:s}</p> |'\n",
    "               )\n",
    "        if reason != current_reason:\n",
    "            logs.write(f'### {reason:s} \\n\\n')\n",
    "            current_reason = reason\n",
    "        logs.write(data.data + '\\n\\n')\n",
    "        \n",
    "        # only display here the important errors (all in logs)\n",
    "        # if color in ('red',):\n",
    "        display(data)"
   ]
  },
  {
   "cell_type": "markdown",
   "id": "472d20ee",
   "metadata": {
    "papermill": {
     "duration": 0.006324,
     "end_time": "2024-11-27T04:13:02.629261",
     "exception": false,
     "start_time": "2024-11-27T04:13:02.622937",
     "status": "completed"
    },
    "tags": []
   },
   "source": [
    "## Export documents\n",
    "\n",
    "We now write the .md files and export relevant images"
   ]
  },
  {
   "cell_type": "code",
   "execution_count": 7,
   "id": "d426aed9",
   "metadata": {
    "execution": {
     "iopub.execute_input": "2024-11-27T04:13:02.642914Z",
     "iopub.status.busy": "2024-11-27T04:13:02.642708Z",
     "iopub.status.idle": "2024-11-27T04:13:02.649572Z",
     "shell.execute_reply": "2024-11-27T04:13:02.649029Z"
    },
    "papermill": {
     "duration": 0.014874,
     "end_time": "2024-11-27T04:13:02.650573",
     "exception": false,
     "start_time": "2024-11-27T04:13:02.635699",
     "status": "completed"
    },
    "tags": []
   },
   "outputs": [],
   "source": [
    "def export_markdown_summary(md: str, md_fname:str, directory: str):\n",
    "    \"\"\"Export MD document and associated relevant images\"\"\"\n",
    "    import os\n",
    "    import shutil\n",
    "    import re\n",
    "\n",
    "    if (os.path.exists(directory) and not os.path.isdir(directory)):\n",
    "        raise RuntimeError(f\"a non-directory file exists with name {directory:s}\")\n",
    "\n",
    "    if (not os.path.exists(directory)):\n",
    "        print(f\"creating directory {directory:s}\")\n",
    "        os.mkdir(directory)\n",
    "\n",
    "    fig_fnames = (re.compile(r'\\[Fig.*\\]\\((.*)\\)').findall(md) + \n",
    "                  re.compile(r'\\<img src=\"([^>\\s]*)\"[^>]*/>').findall(md))\n",
    "    print(\"found figures\", fig_fnames)\n",
    "    for fname in fig_fnames:\n",
    "        if 'http' in fname:\n",
    "            # No need to copy online figures\n",
    "            continue\n",
    "        if not os.path.exists(fname):\n",
    "            print(\"file not found\", fname)\n",
    "            continue\n",
    "        print(\"copying \", fname, \"to\", directory)\n",
    "        destdir = os.path.join(directory, os.path.dirname(fname))\n",
    "        destfname = os.path.join(destdir, os.path.basename(fname))\n",
    "        try:\n",
    "            os.makedirs(destdir)\n",
    "        except FileExistsError:\n",
    "            pass\n",
    "        shutil.copy(fname, destfname)\n",
    "    with open(os.path.join(directory, md_fname), 'w') as fout:\n",
    "        fout.write(md)\n",
    "    print(\"exported in \", os.path.join(directory, md_fname))\n",
    "    [print(\"    + \" + os.path.join(directory,fk)) for fk in fig_fnames]"
   ]
  },
  {
   "cell_type": "code",
   "execution_count": 8,
   "id": "014d04a4",
   "metadata": {
    "execution": {
     "iopub.execute_input": "2024-11-27T04:13:02.664434Z",
     "iopub.status.busy": "2024-11-27T04:13:02.664029Z",
     "iopub.status.idle": "2024-11-27T04:13:02.683006Z",
     "shell.execute_reply": "2024-11-27T04:13:02.682381Z"
    },
    "papermill": {
     "duration": 0.026955,
     "end_time": "2024-11-27T04:13:02.684038",
     "exception": false,
     "start_time": "2024-11-27T04:13:02.657083",
     "status": "completed"
    },
    "tags": []
   },
   "outputs": [
    {
     "name": "stdout",
     "output_type": "stream",
     "text": [
      "found figures ['tmp_2411.16808/./PDFs/ROC_V2.png', 'tmp_2411.16808/./PDFs/HistogramZoobot.png', 'tmp_2411.16808/./PDFs/GradeA.png']\n",
      "copying  tmp_2411.16808/./PDFs/ROC_V2.png to _build/html/\n",
      "copying  tmp_2411.16808/./PDFs/HistogramZoobot.png to _build/html/\n",
      "copying  tmp_2411.16808/./PDFs/GradeA.png to _build/html/\n",
      "exported in  _build/html/2411.16808.md\n",
      "    + _build/html/tmp_2411.16808/./PDFs/ROC_V2.png\n",
      "    + _build/html/tmp_2411.16808/./PDFs/HistogramZoobot.png\n",
      "    + _build/html/tmp_2411.16808/./PDFs/GradeA.png\n",
      "found figures ['tmp_2411.16836/./triptych_ksms_26targs.png', 'tmp_2411.16836/./triptych_ksms_26targs.png', 'tmp_2411.16836/./sample_distribution_fits_v2.png']\n",
      "copying  tmp_2411.16836/./triptych_ksms_26targs.png to _build/html/\n",
      "copying  tmp_2411.16836/./triptych_ksms_26targs.png to _build/html/\n",
      "copying  tmp_2411.16836/./sample_distribution_fits_v2.png to _build/html/\n",
      "exported in  _build/html/2411.16836.md\n",
      "    + _build/html/tmp_2411.16836/./triptych_ksms_26targs.png\n",
      "    + _build/html/tmp_2411.16836/./triptych_ksms_26targs.png\n",
      "    + _build/html/tmp_2411.16836/./sample_distribution_fits_v2.png\n",
      "found figures ['tmp_2411.16879/./M_R_four_models.png', 'tmp_2411.16879/./period_radius_0p1__mixed_more_HHe_Tsonic3k_redJohn_lim_0p99.png', 'tmp_2411.16879/./period_radius_0p3__mixed_more_HHe_Tsonic3k_redJohn_lim_0p99.png', 'tmp_2411.16879/./period_radius_0p5__mixed_more_HHe_Tsonic3k_redJohn_lim_0p99.png', 'tmp_2411.16879/./period_radius_0p7__mixed_more_HHe_Tsonic3k_redJohn_lim_0p99.png', 'tmp_2411.16879/./period_radius_1p0__mixed_more_HHe_Tsonic3k_redJohn_lim_0p99.png', 'tmp_2411.16879/./radius_valley_comparison.png']\n",
      "copying  tmp_2411.16879/./M_R_four_models.png to _build/html/\n",
      "copying  tmp_2411.16879/./period_radius_0p1__mixed_more_HHe_Tsonic3k_redJohn_lim_0p99.png to _build/html/\n",
      "copying  tmp_2411.16879/./period_radius_0p3__mixed_more_HHe_Tsonic3k_redJohn_lim_0p99.png to _build/html/\n",
      "copying  tmp_2411.16879/./period_radius_0p5__mixed_more_HHe_Tsonic3k_redJohn_lim_0p99.png to _build/html/\n",
      "copying  tmp_2411.16879/./period_radius_0p7__mixed_more_HHe_Tsonic3k_redJohn_lim_0p99.png to _build/html/\n",
      "copying  tmp_2411.16879/./period_radius_1p0__mixed_more_HHe_Tsonic3k_redJohn_lim_0p99.png to _build/html/\n",
      "copying  tmp_2411.16879/./radius_valley_comparison.png to _build/html/\n",
      "exported in  _build/html/2411.16879.md\n",
      "    + _build/html/tmp_2411.16879/./M_R_four_models.png\n",
      "    + _build/html/tmp_2411.16879/./period_radius_0p1__mixed_more_HHe_Tsonic3k_redJohn_lim_0p99.png\n",
      "    + _build/html/tmp_2411.16879/./period_radius_0p3__mixed_more_HHe_Tsonic3k_redJohn_lim_0p99.png\n",
      "    + _build/html/tmp_2411.16879/./period_radius_0p5__mixed_more_HHe_Tsonic3k_redJohn_lim_0p99.png\n",
      "    + _build/html/tmp_2411.16879/./period_radius_0p7__mixed_more_HHe_Tsonic3k_redJohn_lim_0p99.png\n",
      "    + _build/html/tmp_2411.16879/./period_radius_1p0__mixed_more_HHe_Tsonic3k_redJohn_lim_0p99.png\n",
      "    + _build/html/tmp_2411.16879/./radius_valley_comparison.png\n",
      "found figures ['tmp_2411.17408/./Sm01_Obearing_moded.png', 'tmp_2411.17408/./Sm01_cstreams_sample_streams.png', 'tmp_2411.17408/./Sm01_tempevo_combined.png']\n",
      "copying  tmp_2411.17408/./Sm01_Obearing_moded.png to _build/html/\n",
      "copying  tmp_2411.17408/./Sm01_cstreams_sample_streams.png to _build/html/\n",
      "copying  tmp_2411.17408/./Sm01_tempevo_combined.png to _build/html/\n",
      "exported in  _build/html/2411.17408.md\n",
      "    + _build/html/tmp_2411.17408/./Sm01_Obearing_moded.png\n",
      "    + _build/html/tmp_2411.17408/./Sm01_cstreams_sample_streams.png\n",
      "    + _build/html/tmp_2411.17408/./Sm01_tempevo_combined.png\n"
     ]
    }
   ],
   "source": [
    "for paper_id, md in documents:\n",
    "    export_markdown_summary(md, f\"{paper_id:s}.md\", '_build/html/')"
   ]
  },
  {
   "cell_type": "markdown",
   "id": "f087a0a7",
   "metadata": {
    "papermill": {
     "duration": 0.006792,
     "end_time": "2024-11-27T04:13:02.697716",
     "exception": false,
     "start_time": "2024-11-27T04:13:02.690924",
     "status": "completed"
    },
    "tags": []
   },
   "source": [
    "## Display the papers\n",
    "\n",
    "Not necessary but allows for a quick check."
   ]
  },
  {
   "cell_type": "code",
   "execution_count": 9,
   "id": "fd25f625",
   "metadata": {
    "execution": {
     "iopub.execute_input": "2024-11-27T04:13:02.711994Z",
     "iopub.status.busy": "2024-11-27T04:13:02.711448Z",
     "iopub.status.idle": "2024-11-27T04:13:02.720079Z",
     "shell.execute_reply": "2024-11-27T04:13:02.719377Z"
    },
    "papermill": {
     "duration": 0.016879,
     "end_time": "2024-11-27T04:13:02.721174",
     "exception": false,
     "start_time": "2024-11-27T04:13:02.704295",
     "status": "completed"
    },
    "scrolled": false,
    "tags": []
   },
   "outputs": [
    {
     "data": {
      "text/markdown": [
       "<div class=\"macros\" style=\"visibility:hidden;\">\n",
       "$\\newcommand{\\ensuremath}{}$\n",
       "$\\newcommand{\\xspace}{}$\n",
       "$\\newcommand{\\object}[1]{\\texttt{#1}}$\n",
       "$\\newcommand{\\farcs}{{.}''}$\n",
       "$\\newcommand{\\farcm}{{.}'}$\n",
       "$\\newcommand{\\arcsec}{''}$\n",
       "$\\newcommand{\\arcmin}{'}$\n",
       "$\\newcommand{\\ion}[2]{#1#2}$\n",
       "$\\newcommand{\\textsc}[1]{\\textrm{#1}}$\n",
       "$\\newcommand{\\hl}[1]{\\textrm{#1}}$\n",
       "$\\newcommand{\\footnote}[1]{}$\n",
       "$\\newcommand{\\orcid}[1]$</div>\n",
       "\n",
       "\n",
       "\n",
       "<div id=\"title\">\n",
       "\n",
       "# $\\Euclid$: Searches for strong gravitational lenses using convolutional neural nets in Early Release Observations   of the Perseus field   $\\thanks{This paper is published on     behalf of the Euclid Consortium.}$\n",
       "\n",
       "</div>\n",
       "<div id=\"comments\">\n",
       "\n",
       "[![arXiv](https://img.shields.io/badge/arXiv-2411.16808-b31b1b.svg)](https://arxiv.org/abs/2411.16808)<mark>Appeared on: 2024-11-27</mark> -  _22 pages, 11 figures, Euclid consortium paper, A&A submitted_\n",
       "\n",
       "</div>\n",
       "<div id=\"authors\">\n",
       "\n",
       "R. Pearce-Casey, et al. -- incl., <mark>K. Jahnke</mark>, <mark>M. Schirmer</mark>\n",
       "\n",
       "</div>\n",
       "<div id=\"abstract\">\n",
       "\n",
       "**Abstract:** The Euclid Wide Survey (EWS) is predicted to find approximately $\\num{170000}$ galaxy-galaxy strong lenses from its lifetime observation of $\\num{14000}\\textrm{ deg}^2$ of the sky. Detecting this many lenses by visual inspection with professional astronomers and citizen scientists alone is infeasible. As a result, machine learning algorithms, particularly convolutional neural networks (CNNs), have been used as an automated method of detecting strong lenses, and have proven fruitful in finding galaxy-galaxy strong lens candidates, such that the usage of CNNs in lens identification has increased. We identify the major challenge to be the automatic detection of galaxy-galaxy strong lenses while simultaneously maintaining a low false positive rate, thus producing a pure and complete sample of strong lens candidates from $\\Euclid$ with a limited need for visual inspection. One aim of this research is to have a quantified starting point on the achieved purity and completeness with our current version of CNN-based detection pipelines for the VIS images of EWS. This work is vital in preparing our CNN-based detection pipelines to be able to produce a pure sample of the $>\\num{100000}$ strong gravitational lensing systems widely predicted for $\\Euclid$ . We select all sources with VIS $\\IE<23$ mag from the $\\Euclid$ Early Release Observation imaging of the Perseus field. We apply a range of CNN architectures to detect strong lenses in these cutouts. All our networks perform extremely well on simulated data sets and their respective validation sets. However, when applied to real $\\Euclid$ imaging, the highest lens purity is just $\\sim11$ \\% . Among all our networks, the false positives are typically identifiable by human volunteers as, for example, spiral galaxies, multiple sources, and artifacts, implying that improvements are still possible, perhaps via a second, more interpretable lens selection filtering stage. There is currently no alternative to human classification of CNN-selected lens candidates. Given the expected $\\sim10^5$ lensing systems in $\\Euclid$ , this implies $10^6$ objects for human classification, which while very large is not in principle intractable and not without precedent.\n",
       "\n",
       "</div>\n",
       "\n",
       "<div id=\"div_fig1\">\n",
       "\n",
       "<img src=\"tmp_2411.16808/./PDFs/ROC_V2.png\" alt=\"Fig10\" width=\"100%\"/>\n",
       "\n",
       "**Figure 10. -** ROC curves for the networks described in Section \\ref{sec: Methods}.  Performance of the \\texttt{Zoobot} networks are shown in panel (a), \\texttt{Naberrie} and \\texttt{MRC} networks are shown in (b), \\texttt{NG}, \\texttt{4-layer CNN}, and \\texttt{ResNet-18} are shown in (c), and \\texttt{Denselens} and \\texttt{LencCLR} are shown in (d). The performance of the networks described in Sect. \\ref{ssec:Leuzzi} are shown in (e), and (f) shows the \\texttt{CBEN} networks at two voting values $\\beta=0.3$ and $\\beta=0.0001$, respectively. The orange diagonal line marked represents the expected performance of an entirely random classifier. The values in the legend of each subplot represent the true positive recovery for each network. Higher performance is represented in general by curves approaching the top-left corner of the plots. The best performing gravitational lens classifiers are the \\texttt{Zoobot1} and \\texttt{LensCLR} networks. (*fig:ROCAUC*)\n",
       "\n",
       "</div>\n",
       "<div id=\"div_fig2\">\n",
       "\n",
       "<img src=\"tmp_2411.16808/./PDFs/HistogramZoobot.png\" alt=\"Fig5\" width=\"100%\"/>\n",
       "\n",
       "**Figure 5. -** Distribution of predicted scores by \\texttt{Zoobot1}(left) and \\texttt{Zoobot2}(right) for lens candidates across grades $A$, $B$, and $C$. Grade $A$ lens candidates are confidently identified by both networks, shown to the right of the distribution in red at a high value of $p_{\\sfont{LENS}}$. Grade $B$ predicted scores are shown in blue and are more varied for \\texttt{Zoobot2}. The predicted scores for grade $C$ lens candidates have the most variation amongst grades, shown in green, for both networks illustrating that \\texttt{Zoobot1} and \\texttt{Zoobot2} are not as confident in identifying grade $C$ lens candidates. (*fig:Zoobot Distribution*)\n",
       "\n",
       "</div>\n",
       "<div id=\"div_fig3\">\n",
       "\n",
       "<img src=\"tmp_2411.16808/./PDFs/GradeA.png\" alt=\"Fig1\" width=\"100%\"/>\n",
       "\n",
       "**Figure 1. -** The three grade $A$ candidate lenses found by a visual inspection of $\\num{12086}$ stamps from the Perseus cluster. The grade $A$ candidates show clear lensing features. The \\IE-band images are $10^{\\prime\\prime}\\times10^{\\prime\\prime}$. Detailed lens models for these candidates are shown in Appendix C of \\cite{barroso2024euclidearlyreleaseobservations}. (*fig:grade a*)\n",
       "\n",
       "</div><div id=\"qrcode\"><img src=https://api.qrserver.com/v1/create-qr-code/?size=100x100&data=\"https://arxiv.org/abs/2411.16808\"></div>"
      ],
      "text/plain": [
       "<IPython.core.display.Markdown object>"
      ]
     },
     "metadata": {},
     "output_type": "display_data"
    },
    {
     "data": {
      "text/markdown": [
       "<div class=\"macros\" style=\"visibility:hidden;\">\n",
       "$\\newcommand{\\ensuremath}{}$\n",
       "$\\newcommand{\\xspace}{}$\n",
       "$\\newcommand{\\object}[1]{\\texttt{#1}}$\n",
       "$\\newcommand{\\farcs}{{.}''}$\n",
       "$\\newcommand{\\farcm}{{.}'}$\n",
       "$\\newcommand{\\arcsec}{''}$\n",
       "$\\newcommand{\\arcmin}{'}$\n",
       "$\\newcommand{\\ion}[2]{#1#2}$\n",
       "$\\newcommand{\\textsc}[1]{\\textrm{#1}}$\n",
       "$\\newcommand{\\hl}[1]{\\textrm{#1}}$\n",
       "$\\newcommand{\\footnote}[1]{}$\n",
       "$\\newcommand{\\vdag}{(v)^\\dagger}$\n",
       "$\\newcommand$\n",
       "$\\newcommand$\n",
       "$\\newcommand{\\psj}{PSJ}$\n",
       "$\\newcommand{\\ntarg}{26\\xspace}$\n",
       "$\\newcommand{\\ntoi}{31\\xspace}$\n",
       "$\\newcommand{\\vsini}{\\ensuremath{v \\sin i}\\xspace}$\n",
       "$\\newcommand{\\teff}{\\ensuremath{T_\\mathrm{eff}}\\xspace}$\n",
       "$\\newcommand{\\kms}{km~s\\ensuremath{^{-1}}\\xspace}$\n",
       "$\\newcommand{\\kzz}{\\ensuremath{K_{zz}}}$\n",
       "$\\newcommand{\\soo}{SO_2}$\n",
       "$\\newcommand{\\coo}{CO_2}$\n",
       "$\\newcommand{\\water}{H_2O}$\n",
       "$\\newcommand{\\methane}{CH_4}$\n",
       "$\\newcommand{\\co}[2]{\\ensuremath{^{#1}\\textrm{C}^{#2}\\textrm{O}}\\xspace}$\n",
       "$\\newcommand{\\car}[1]{\\ensuremath{^{#1}\\textrm{C}}\\xspace}$\n",
       "$\\newcommand{\\ox}[1]{\\ensuremath{^{#1}\\textrm{O}}\\xspace}$\n",
       "$\\newcommand{\\update}$\n",
       "$\\newcommand{\\tirr}{\\ensuremath{T_\\mathrm{irr}}}$\n",
       "$\\newcommand{\\TESS}{{\\em TESS}}$\n",
       "$\\newcommand{\\tess}{{\\em TESS}}$\n",
       "$\\newcommand{\\spitzer}{{\\em Spitzer}}$\n",
       "$\\newcommand{\\gj}{GJ~1252}$\n",
       "$\\newcommand{\\gjb}{GJ~1252b}$\n",
       "$\\newcommand{\\rp}{1.180}$\n",
       "$\\newcommand{\\urp}{\\pm0.078}$\n",
       "$\\newcommand{\\vesc}{5.4}$\n",
       "$\\newcommand{\\uvesc}{\\pm0.8}$\n",
       "$\\newcommand{\\tday}{1410}$\n",
       "$\\newcommand{\\utday}{^{+91}_{-125}}$\n",
       "$\\newcommand{\\depth}{149}$\n",
       "$\\newcommand{\\udepth}{^{+25}_{-32}}$\n",
       "$\\newcommand{\\te}{2458668.3575}$\n",
       "$\\newcommand{\\ute}{^{+0.0019}_{-0.0007}}$\n",
       "$\\newcommand{\\dt}{+1.4}$\n",
       "$\\newcommand{\\udt}{^{+2.8}_{-1.0}}$\n",
       "$\\newcommand{\\abUL}{0.41}$\n",
       "$\\newcommand{\\fLL}{0.40}$\n",
       "$\\newcommand{\\fabLL}{0.37}$\n",
       "$\\newcommand{\\ecoswnosign}{0.0025}$\n",
       "$\\newcommand{\\ecosw}{+0.0025}$\n",
       "$\\newcommand{\\uecosw}{^{+0.0049}_{-0.0018}}$\n",
       "$\\newcommand{\\psurfUL}{8.9}$\n",
       "$\\newcommand{\\age}{3.9}$\n",
       "$\\newcommand{\\uage}{0.4}$\n",
       "$\\newcommand{\\referee}$\n",
       "$\\newcommand{\\vdag}{(v)^\\dagger}$\n",
       "$\\newcommand$\n",
       "$\\newcommand$\n",
       "$\\newcommand{\\psj}{PSJ}$\n",
       "$\\newcommand{\\ntarg}{26\\xspace}$\n",
       "$\\newcommand{\\ntoi}{31\\xspace}$\n",
       "$\\newcommand{\\vsini}{\\ensuremath{v \\sin i}\\xspace}$\n",
       "$\\newcommand{\\teff}{\\ensuremath{T_\\mathrm{eff}}\\xspace}$\n",
       "$\\newcommand{\\kms}{km~s\\ensuremath{^{-1}}\\xspace}$\n",
       "$\\newcommand{\\kzz}{\\ensuremath{K_{zz}}}$\n",
       "$\\newcommand{\\soo}{SO_2}$\n",
       "$\\newcommand{\\coo}{CO_2}$\n",
       "$\\newcommand{\\water}{H_2O}$\n",
       "$\\newcommand{\\methane}{CH_4}$\n",
       "$\\newcommand{\\co}[2]{\\ensuremath{^{#1}\\textrm{C}^{#2}\\textrm{O}}\\xspace}$\n",
       "$\\newcommand{\\car}[1]{\\ensuremath{^{#1}\\textrm{C}}\\xspace}$\n",
       "$\\newcommand{\\ox}[1]{\\ensuremath{^{#1}\\textrm{O}}\\xspace}$\n",
       "$\\newcommand{\\update}$\n",
       "$\\newcommand{\\tirr}{\\ensuremath{T_\\mathrm{irr}}}$\n",
       "$\\newcommand{\\TESS}{{\\em TESS}}$\n",
       "$\\newcommand{\\tess}{{\\em TESS}}$\n",
       "$\\newcommand{\\spitzer}{{\\em Spitzer}}$\n",
       "$\\newcommand{\\gj}{GJ~1252}$\n",
       "$\\newcommand{\\gjb}{GJ~1252b}$\n",
       "$\\newcommand{\\rp}{1.180}$\n",
       "$\\newcommand{\\urp}{\\pm0.078}$\n",
       "$\\newcommand{\\vesc}{5.4}$\n",
       "$\\newcommand{\\uvesc}{\\pm0.8}$\n",
       "$\\newcommand{\\tday}{1410}$\n",
       "$\\newcommand{\\utday}{^{+91}_{-125}}$\n",
       "$\\newcommand{\\depth}{149}$\n",
       "$\\newcommand{\\udepth}{^{+25}_{-32}}$\n",
       "$\\newcommand{\\te}{2458668.3575}$\n",
       "$\\newcommand{\\ute}{^{+0.0019}_{-0.0007}}$\n",
       "$\\newcommand{\\dt}{+1.4}$\n",
       "$\\newcommand{\\udt}{^{+2.8}_{-1.0}}$\n",
       "$\\newcommand{\\abUL}{0.41}$\n",
       "$\\newcommand{\\fLL}{0.40}$\n",
       "$\\newcommand{\\fabLL}{0.37}$\n",
       "$\\newcommand{\\ecoswnosign}{0.0025}$\n",
       "$\\newcommand{\\ecosw}{+0.0025}$\n",
       "$\\newcommand{\\uecosw}{^{+0.0049}_{-0.0018}}$\n",
       "$\\newcommand{\\psurfUL}{8.9}$\n",
       "$\\newcommand{\\age}{3.9}$\n",
       "$\\newcommand{\\uage}{0.4}$\n",
       "$\\newcommand{\\referee}$</div>\n",
       "\n",
       "\n",
       "\n",
       "<div id=\"title\">\n",
       "\n",
       "# OrCAS: Origins, Compositions, and Atmospheres of Sub-neptunes. I.  Survey Definition\n",
       "\n",
       "</div>\n",
       "<div id=\"comments\">\n",
       "\n",
       "[![arXiv](https://img.shields.io/badge/arXiv-2411.16836-b31b1b.svg)](https://arxiv.org/abs/2411.16836)<mark>Appeared on: 2024-11-27</mark> -  _20 pages, 4 figures, 4 tables, 26 sub-Neptunes, 31 TOIs. Accepted to AJ_\n",
       "\n",
       "</div>\n",
       "<div id=\"authors\">\n",
       "\n",
       "<mark>I. J. M. Crossfield</mark>, et al. -- incl., <mark>L. Kreidberg</mark>\n",
       "\n",
       "</div>\n",
       "<div id=\"abstract\">\n",
       "\n",
       "**Abstract:** Sub-Neptunes --- volatile-rich exoplanets smaller than Neptune --- areintrinsically the most common type of planet known.  However, theformation and nature of these objects, as well as the distinctionsbetween sub-classes (if any), remain unclear.  Two powerful tools totease out the secrets of these worlds are measurements of (i)atmospheric composition and structure revealed by transit and/oreclipse spectroscopy, and (ii) mass, radius, and density revealed bytransit photometry and Doppler spectroscopy.  Here we present OrCAS, asurvey to better elucidate the origins, compositions, and atmospheresof sub-Neptunes.  This radial velocity survey uses a repeatable,quantifiable metric to select targets suitable for subsequenttransmission spectroscopy and address key science themes about theatmospheric \\& internal compositions and architectures of thesesystems.  Our survey targets $\\ntarg$ systems with transitingsub-Neptune planet candidates, with the overarching goal of increasingthe sample of such planets suitable for subsequent atmosphericcharacterization.  This paper lays out our survey's science goals,defines our target prioritization metric, and performs light-curvefits and statistical validation using existing $\\TESS$ photometry andground-based follow-up observations.  Our survey serves to continueexpanding the sample of small exoplanets with well-measured propertiesorbiting nearby bright stars, ensuring fruitful studies of thesesystems for many years to come.\n",
       "\n",
       "</div>\n",
       "\n",
       "<div id=\"div_fig1\">\n",
       "\n",
       "<img src=\"tmp_2411.16836/./triptych_ksms_26targs.png\" alt=\"Fig3\" width=\"100%\"/>\n",
       "\n",
       "**Figure 3. -**  Target prioritization. * Left:* Planet occurrence rate\n",
       "   ([Fulton and Petigura 2018]()) , showing that sup-Neptunes and super-Earths are\n",
       "  the most common planets on short-period orbits. * Center:* Gold\n",
       "  hexagons show transiting exoplanets targeted by JWST in Cycles\n",
       "  1 \\& 2 (our survey began before Cycle 3 results were announced); the shading is a Kernel Density Estimate map showing that hot\n",
       "  Jupiters and super-Earths were the most commonly targeted\n",
       "  planets. * Right:* Difference of the two heat maps, showing that\n",
       "  temperate sub-Neptunes (red region) remain underrepresented by JWST\n",
       "  relative to the intrinsic underlying population. We identified our\n",
       "  targets (gray points) by weighting by this under-representation, TSM,\n",
       "  and observing efficiency (see text for details).\n",
       " (*fig:triptych*)\n",
       "\n",
       "</div>\n",
       "<div id=\"div_fig2\">\n",
       "\n",
       "<img src=\"tmp_2411.16836/./triptych_ksms_26targs.png\" alt=\"Fig6\" width=\"100%\"/>\n",
       "\n",
       "**Figure 6. -**  Target prioritization. * Left:* Planet occurrence rate\n",
       "   ([Fulton and Petigura 2018]()) , showing that sup-Neptunes and super-Earths are\n",
       "  the most common planets on short-period orbits. * Center:* Gold\n",
       "  hexagons show transiting exoplanets targeted by JWST in Cycles\n",
       "  1 \\& 2 (our survey began before Cycle 3 results were announced); the shading is a Kernel Density Estimate map showing that hot\n",
       "  Jupiters and super-Earths were the most commonly targeted\n",
       "  planets. * Right:* Difference of the two heat maps, showing that\n",
       "  temperate sub-Neptunes (red region) remain underrepresented by JWST\n",
       "  relative to the intrinsic underlying population. We identified our\n",
       "  targets (gray points) by weighting by this under-representation, TSM,\n",
       "  and observing efficiency (see text for details).\n",
       " (*fig:triptych*)\n",
       "\n",
       "</div>\n",
       "<div id=\"div_fig3\">\n",
       "\n",
       "<img src=\"tmp_2411.16836/./sample_distribution_fits_v2.png\" alt=\"Fig5\" width=\"100%\"/>\n",
       "\n",
       "**Figure 5. -** Our target sample, showing the distribution of fit planet\n",
       "  size, temperature, and stellar $T_\\mathrm{eff}$. Red points are our\n",
       "  primary sample, white points are known companions to our targets,\n",
       "  dashed lines connect  planets orbiting the same target star, and light gray\n",
       "  points are other known exoplanets. The histogram at * right*\n",
       "  shows how our planet sizes (red) compare to the intrinsic occurrence\n",
       "  of sub-Neptunes \\citep[gray,][]{fulton:2018}. Noted that these\n",
       "  best-fit radii differ from the TESS-reported radii plotted in\n",
       "  Fig. \\ref{fig:triptych}c.\n",
       " (*fig:sample*)\n",
       "\n",
       "</div><div id=\"qrcode\"><img src=https://api.qrserver.com/v1/create-qr-code/?size=100x100&data=\"https://arxiv.org/abs/2411.16836\"></div>"
      ],
      "text/plain": [
       "<IPython.core.display.Markdown object>"
      ]
     },
     "metadata": {},
     "output_type": "display_data"
    },
    {
     "data": {
      "text/markdown": [
       "<div class=\"macros\" style=\"visibility:hidden;\">\n",
       "$\\newcommand{\\ensuremath}{}$\n",
       "$\\newcommand{\\xspace}{}$\n",
       "$\\newcommand{\\object}[1]{\\texttt{#1}}$\n",
       "$\\newcommand{\\farcs}{{.}''}$\n",
       "$\\newcommand{\\farcm}{{.}'}$\n",
       "$\\newcommand{\\arcsec}{''}$\n",
       "$\\newcommand{\\arcmin}{'}$\n",
       "$\\newcommand{\\ion}[2]{#1#2}$\n",
       "$\\newcommand{\\textsc}[1]{\\textrm{#1}}$\n",
       "$\\newcommand{\\hl}[1]{\\textrm{#1}}$\n",
       "$\\newcommand{\\footnote}[1]{}$\n",
       "$\\newcommand$\n",
       "$\\newcommand$\n",
       "$\\newcommand$\n",
       "$\\newcommand$\n",
       "$\\newcommand$\n",
       "$\\newcommand$\n",
       "$\\newcommand$\n",
       "$\\newcommand$\n",
       "$\\newcommand$\n",
       "$\\newcommand$\n",
       "$\\newcommand$\n",
       "$\\newcommand$\n",
       "$\\newcommand$\n",
       "$\\newcommand{\\svgwidth}{.9\\linewidth}$</div>\n",
       "\n",
       "\n",
       "\n",
       "<div id=\"title\">\n",
       "\n",
       "# Water-rich sub-Neptunes and rocky super Earths around different Stars: Radii shaped by Volatile Partitioning, Formation, and Evolution\n",
       "\n",
       "</div>\n",
       "<div id=\"comments\">\n",
       "\n",
       "[![arXiv](https://img.shields.io/badge/arXiv-2411.16879-b31b1b.svg)](https://arxiv.org/abs/2411.16879)<mark>Appeared on: 2024-11-27</mark> -  _25 pages, 17 figures, submitted to A&A_\n",
       "\n",
       "</div>\n",
       "<div id=\"authors\">\n",
       "\n",
       "<mark>R. Burn</mark>, et al.\n",
       "\n",
       "</div>\n",
       "<div id=\"abstract\">\n",
       "\n",
       "**Abstract:** Despite precise characterization measurements, the nature of planets with radii ranging from 2 to 4 Earth radii, the sub-Neptunes, remains unknown due to degeneracies in interior models. However, a statistical ensemble of small planets with measured masses and radii around different stars has been compiled by the field. It can be used to test the prediction of large water reservoirs on sub-Neptunes by planet formation theory with orbital migration. We want to find out whether this water reservoir is included in photoevaporative winds and how much of it can partition into the rocky and metallic interior. We couple the result of a planetary formation model with planetesimal and gas accretion as well as orbital migration to evolution models which assume perfect mixing of water with H/He in the envelope or complete segregation. For the mixed envelopes, we also include an analytic treatment of fractionation during photoevaporative mass-loss. Further, the effect of equilibrium dissolution of water into an assumed magma ocean and into the metallic core is studied for the first time in coupled formation-evolution models. Out of the tested scenarios, the mass-radius relation of exoplanets is best matched under the mixed assumption without water sequestration to the interior. We quantify the radius valley location and scaling with stellar mass. Fractionation is not found to significantly alter the composition of the planets for our initial conditions due to initially massive envelopes on all planets. In contrast, water sequestration has a profound effect on the radius evolution and compositional budget of the planets. The model predicts the preservation of large quantities of water even if the gaseous envelope is lost. Planets with corresponding bulk densities are not observed in comparably large numbers. By combining formation and evolution model, we probe a parameter space favored by core accretion theory. We conclude that observationally searching for the imprint of fractionation on present-day exoplanet atmospheres can constrain initial gas mass fractions of exoplanets but not the occurrence of photoevaporative mass loss in general. The dissolution of different volatiles into the planetary interior and solidification of the magma ocean are natural next steps for comprehensive treatment of atmosphere-interior interaction.\n",
       "\n",
       "</div>\n",
       "\n",
       "<div id=\"div_fig1\">\n",
       "\n",
       "<img src=\"tmp_2411.16879/./M_R_four_models.png\" alt=\"Fig13\" width=\"100%\"/>\n",
       "\n",
       "**Figure 13. -** Mass versus radius diagram of observed and synthetic planets. The four panels show the resulting planets using different model variations contrasted against the observational data from Parc2024. The synthetic data for all models is sampled according to the stellar mass distribution of the observations and an estimate of the detection and transit probability is applied. More saturated dots imply that the planet was sampled multiple times due to being more likely to be detected and their color is given by the planets' water mass fraction. (*fig:m_R_all*)\n",
       "\n",
       "</div>\n",
       "<div id=\"div_fig2\">\n",
       "\n",
       "<img src=\"tmp_2411.16879/./period_radius_0p1__mixed_more_HHe_Tsonic3k_redJohn_lim_0p99.png\" alt=\"Fig4.1\" width=\"20%\"/><img src=\"tmp_2411.16879/./period_radius_0p3__mixed_more_HHe_Tsonic3k_redJohn_lim_0p99.png\" alt=\"Fig4.2\" width=\"20%\"/><img src=\"tmp_2411.16879/./period_radius_0p5__mixed_more_HHe_Tsonic3k_redJohn_lim_0p99.png\" alt=\"Fig4.3\" width=\"20%\"/><img src=\"tmp_2411.16879/./period_radius_0p7__mixed_more_HHe_Tsonic3k_redJohn_lim_0p99.png\" alt=\"Fig4.4\" width=\"20%\"/><img src=\"tmp_2411.16879/./period_radius_1p0__mixed_more_HHe_Tsonic3k_redJohn_lim_0p99.png\" alt=\"Fig4.5\" width=\"20%\"/>\n",
       "\n",
       "**Figure 4. -** Period versus radius of unbiased, synthetic planets using the mixed model around stars of different masses. For each stellar mass (top left), a gap in the data was fitted (\\texttt{gapfit}, \\citealp{Loyd2020}) and the resulting slope ($u_{\\rm gap}$) and locus ($R_{\\rm gap}$) in logarithmic space are listed. The gray line marks $a_{\\rm runaway}$(Eq. \\ref{eq:runaway}) within which runaway heating occurs. (*fig:period_radius_Mstars*)\n",
       "\n",
       "</div>\n",
       "<div id=\"div_fig3\">\n",
       "\n",
       "<img src=\"tmp_2411.16879/./radius_valley_comparison.png\" alt=\"Fig5\" width=\"100%\"/>\n",
       "\n",
       "**Figure 5. -** Comparison of derived loci $R_{\\rm gap}$ and slopes with orbital period $u_{\\rm gap}$ for the radius valley. Observational data from Petigura2022, [ and é (2022)](http://doi.org/10.1126/science.abl7164), Ho2024, Bonfanti2024 is shown with diamond shaped markers and errors in x-direction showing the range of stellar masses included. From this work, only the Mixed (light blue squares) and Layered (red squares) model output is included here since the Fractionation model gives similar results to the Mixed case and for the Sequestration model no trustworthy fit can be obtained. For the same reason, Venturini2024(dark blue) did not report $R_{\\rm gap}$ for their sample of modeled planets around low stellar mass. The values for $R_{\\rm gap}$ by [ and é (2022)](http://doi.org/10.1126/science.abl7164) is read-off from their figure. The results of Cloutier2020 and Petigura2022 are based on occurrences instead of detections. For Petigura2022 the values for $R_{\\rm gap}$ were shifted to 1 day orbital period (incl. Gaussian error propagation). For the results from Cloutier2020, we report their values which were obtained from marginalizing over orbital periods. The values are only comparable to the other derivations because their derived $u_{\\rm gap}$ is close to zero. For \\citet[][green line and region, $M_{\\rm star}<0.6 $M$_{\\odot}$]{Bonfanti2024} and \\citet[][orange, $0.6$M$_{\\odot} \\apprle M_{\\rm star}\\apprle 1.2 $M$_{\\odot}$]{Ho2024}, we show their fitted continuous function for $R_{\\rm gap}(M_\\star)$ with shaded regions marking 16 to 84\\% confidence intervals. (*fig:rgap_ugap_comparison*)\n",
       "\n",
       "</div><div id=\"qrcode\"><img src=https://api.qrserver.com/v1/create-qr-code/?size=100x100&data=\"https://arxiv.org/abs/2411.16879\"></div>"
      ],
      "text/plain": [
       "<IPython.core.display.Markdown object>"
      ]
     },
     "metadata": {},
     "output_type": "display_data"
    },
    {
     "data": {
      "text/markdown": [
       "<div class=\"macros\" style=\"visibility:hidden;\">\n",
       "$\\newcommand{\\ensuremath}{}$\n",
       "$\\newcommand{\\xspace}{}$\n",
       "$\\newcommand{\\object}[1]{\\texttt{#1}}$\n",
       "$\\newcommand{\\farcs}{{.}''}$\n",
       "$\\newcommand{\\farcm}{{.}'}$\n",
       "$\\newcommand{\\arcsec}{''}$\n",
       "$\\newcommand{\\arcmin}{'}$\n",
       "$\\newcommand{\\ion}[2]{#1#2}$\n",
       "$\\newcommand{\\textsc}[1]{\\textrm{#1}}$\n",
       "$\\newcommand{\\hl}[1]{\\textrm{#1}}$\n",
       "$\\newcommand{\\footnote}[1]{}$\n",
       "$\\newcommand{\\ignore}[1]$\n",
       "$\\newcommand\\na{{New Astronomy}}$\n",
       "$\\newcommand\\nat{{Nature}}$\n",
       "$\\newcommand\\icarus{{Icarus}}$\n",
       "$\\newcommand\\pasj{{PASJ}}$\n",
       "$\\newcommand\\mnras{{MNRAS}}$\n",
       "$\\newcommand\\aap{{A\\&A}}$\n",
       "$\\newcommand\\nat{{\\it Nature}}$\n",
       "$\\newcommand\\aass{{A\\&AS}}$\n",
       "$\\newcommand\\apj{{ApJ}}$\n",
       "$\\newcommand\\apjl{{ApJL}}$\n",
       "$\\newcommand\\araa{{ARA\\&A}}$\n",
       "$\\newcommand\\aj{{AJ}}$\n",
       "$\\newcommand\\aas{{American Astronomical Society Meeting.}}$\n",
       "$\\newcommand\\apjs{{ApJS}}$\n",
       "$\\newcommand\\apss{{Ap\\&SS}}$\n",
       "$\\newcommand\\aaps{{A\\&ASS}}$\n",
       "$\\newcommand\\jrasc{{JRASC}}$\n",
       "$\\newcommand\\pasp{{PASP}}$\n",
       "$\\newcommand\\nature{{Nature}}$\n",
       "$\\newcommand\\sciam{{Scientific American}}$\n",
       "$\\newcommand\\astroph{{astro-ph}}$\n",
       "$\\newcommand\\ssr{{Space Sci. Rev.}}$\n",
       "$\\newcommand\\psj{{PSJ}}$\n",
       "$\\newcommand{\\mdot}{\\dot{M}}$\n",
       "$\\newcommand{\\micron}{\\mum }$</div>\n",
       "\n",
       "\n",
       "\n",
       "<div id=\"title\">\n",
       "\n",
       "#  Gas dynamics around a Jupiter mass planet: II. Chemical evolution of circumplanetary material \n",
       "\n",
       "</div>\n",
       "<div id=\"comments\">\n",
       "\n",
       "[![arXiv](https://img.shields.io/badge/arXiv-2411.17408-b31b1b.svg)](https://arxiv.org/abs/2411.17408)<mark>Appeared on: 2024-11-27</mark> -  _20 pages, 17 figures, accepted for publication in A&A_\n",
       "\n",
       "</div>\n",
       "<div id=\"authors\">\n",
       "\n",
       "A. J. Cridland, E. Lega, <mark>M. Benisty</mark>\n",
       "\n",
       "</div>\n",
       "<div id=\"abstract\">\n",
       "\n",
       "**Abstract:** In an ongoing effort to understand planet formation the link between the chemistry of the protoplanetary disk and the properties of resulting planets have long been a subject of interest. These connections have generally been made between mature planets and young protoplanetary disks through the carbon-to-oxygen (C/O) ratio. In a rare number of systems, young protoplanets have been found within their natal protoplanetary disks. These systems offer a unique opportunity to directly study the delivery of gas from the protoplanetary disk to the planet. In this work we post-process 3D numerical simulations of an embedded Jupiter-massed planet in its protoplanetary disk to explore the chemical evolution of gas as it flows from the disk to the planet. The relevant dust to this chemical evolution is assumed to be small, co-moving grains with a reduced dust-to-gas ratio indicative of the upper atmosphere of a protoplanetary disk. We find that as the gas enters deep into the planet's gravitational well, it warms significantly (up to $\\sim 800$ K), releasing all of the volatile content from the ice phase. This change in phase can influence our understanding of the delivery of volatile species to the atmospheres of giant planets. The primary carbon, oxygen, and sulfur carrying ices: $CO_2$ , $H_2$ O, and $H_2$ S are released into the gas phase and along with the warm gas temperatures near the embedded planets lead to the production of unique species like CS, SO, and $SO_2$ compared to the protoplanetary disk. We compute the column densities of SO, $SO_2$ , CS, and $H_2$ CS  in our model and find that their values  are consistent with previous observational studies.\n",
       "\n",
       "</div>\n",
       "\n",
       "<div id=\"div_fig1\">\n",
       "\n",
       "<img src=\"tmp_2411.17408/./Sm01_Obearing_moded.png\" alt=\"Fig11\" width=\"100%\"/>\n",
       "\n",
       "**Figure 11. -** Evolution of the most abundant oxygen bearing species for the 3 test streamlines. The solid lines represent the gas phase of each species while the dashed lines represent the ice species. $CH_2$$O_2$ represents the most abundant `organic' species in the CPD. Note the change in y-axis range between the top and bottom rows. For water and $CH_2$$O_2$ the opacity of the line for $t>40$ orbits is slowly reduced to better see the other lines on the plot. (*fig:Obearing*)\n",
       "\n",
       "</div>\n",
       "<div id=\"div_fig2\">\n",
       "\n",
       "<img src=\"tmp_2411.17408/./Sm01_cstreams_sample_streams.png\" alt=\"Fig8\" width=\"100%\"/>\n",
       "\n",
       "**Figure 8. -** Example of some of the streamlines by the embedded planet. Three types of streamlines are shown: one misses the CPD completely [(1) blue], one enters into the region of the CPD for less than an orbit [(2) orange], and one that ends up in the CPD [(3) red]. The solid lines represent forward integration from the initial conditions (black circles), while the dashed lines represent backward integration from the initial conditions. The coloured triangles show the location from which the chemical calculation is initialized. The host star is the black square. The x-axis corresponds to the radial distance along the axis passing through the host star and the embedded planet, centred here on the embedded planet. The y-axis runs perpendicular to the host star - planet axis and the z-axis extends from the midplane to heights above the disk. $x > 0$ corresponds to distance farther from the host star than the planet, while $y>0$ corresponds to the leading side of the planet's orbit. (*fig:cstreams*)\n",
       "\n",
       "</div>\n",
       "<div id=\"div_fig3\">\n",
       "\n",
       "<img src=\"tmp_2411.17408/./Sm01_tempevo_combined.png\" alt=\"Fig3\" width=\"100%\"/>\n",
       "\n",
       "**Figure 3. -** Temperature evolution for test streamlines. The first column shows the temperature as a function of time in orbits of the embedded planet. The second column shows the same temperature evolution of the streamlines as function of distance from the planet. The streamlines that enter the CPD first do so at around the same time ($\\sim40$ orbits) because their forward integration is started just before they enter the CPD. In the second row the opacity of the line for $t>40$ orbits is reduced as a function of time to better differentiate separate orbits in the CPD. (*fig:temp*)\n",
       "\n",
       "</div><div id=\"qrcode\"><img src=https://api.qrserver.com/v1/create-qr-code/?size=100x100&data=\"https://arxiv.org/abs/2411.17408\"></div>"
      ],
      "text/plain": [
       "<IPython.core.display.Markdown object>"
      ]
     },
     "metadata": {},
     "output_type": "display_data"
    }
   ],
   "source": [
    "[display(Markdown(k[1])) for k in documents];"
   ]
  },
  {
   "cell_type": "markdown",
   "id": "873873a4",
   "metadata": {
    "papermill": {
     "duration": 0.007174,
     "end_time": "2024-11-27T04:13:02.736038",
     "exception": false,
     "start_time": "2024-11-27T04:13:02.728864",
     "status": "completed"
    },
    "tags": []
   },
   "source": [
    "# Create HTML index"
   ]
  },
  {
   "cell_type": "code",
   "execution_count": 10,
   "id": "cf665672",
   "metadata": {
    "execution": {
     "iopub.execute_input": "2024-11-27T04:13:02.751539Z",
     "iopub.status.busy": "2024-11-27T04:13:02.751107Z",
     "iopub.status.idle": "2024-11-27T04:13:02.759634Z",
     "shell.execute_reply": "2024-11-27T04:13:02.759107Z"
    },
    "papermill": {
     "duration": 0.017401,
     "end_time": "2024-11-27T04:13:02.760638",
     "exception": false,
     "start_time": "2024-11-27T04:13:02.743237",
     "status": "completed"
    },
    "tags": []
   },
   "outputs": [
    {
     "name": "stdout",
     "output_type": "stream",
     "text": [
      "257  publications files modified in the last 7 days.\n"
     ]
    }
   ],
   "source": [
    "from datetime import datetime, timedelta, timezone\n",
    "from glob import glob\n",
    "import os\n",
    "\n",
    "files = glob('_build/html/*.md')\n",
    "days = 7\n",
    "now = datetime.today()\n",
    "res = []\n",
    "for fk in files:\n",
    "    stat_result = os.stat(fk).st_ctime\n",
    "    modified = datetime.fromtimestamp(stat_result, tz=timezone.utc).replace(tzinfo=None)\n",
    "    delta = now.today() - modified\n",
    "    if delta <= timedelta(days=days):\n",
    "        res.append((delta.seconds, fk))\n",
    "res = [k[1] for k in reversed(sorted(res, key=lambda x:x[1]))]\n",
    "npub = len(res)\n",
    "print(len(res), f\" publications files modified in the last {days:d} days.\")\n",
    "# [ print('\\t', k) for k in res ];"
   ]
  },
  {
   "cell_type": "code",
   "execution_count": 11,
   "id": "015de740",
   "metadata": {
    "execution": {
     "iopub.execute_input": "2024-11-27T04:13:02.776236Z",
     "iopub.status.busy": "2024-11-27T04:13:02.775990Z",
     "iopub.status.idle": "2024-11-27T04:13:02.793373Z",
     "shell.execute_reply": "2024-11-27T04:13:02.792730Z"
    },
    "papermill": {
     "duration": 0.026287,
     "end_time": "2024-11-27T04:13:02.794330",
     "exception": false,
     "start_time": "2024-11-27T04:13:02.768043",
     "status": "completed"
    },
    "tags": []
   },
   "outputs": [
    {
     "name": "stdout",
     "output_type": "stream",
     "text": [
      "10  publications in the last 7 days.\n"
     ]
    }
   ],
   "source": [
    "import datetime\n",
    "from glob import glob\n",
    "\n",
    "def get_last_n_days(lst, days=1):\n",
    "    \"\"\" Get the documents from the last n days \"\"\"\n",
    "    sorted_lst = sorted(lst, key=lambda x: x[1], reverse=True)\n",
    "    for fname, date in sorted_lst:\n",
    "        if date >= str(datetime.date.today() - datetime.timedelta(days=days)):\n",
    "            yield fname\n",
    "\n",
    "def extract_appearance_dates(lst_file):\n",
    "    dates = []\n",
    "\n",
    "    def get_date(line):\n",
    "        return line\\\n",
    "            .split('Appeared on:')[-1]\\\n",
    "            .split('</mark>')[0].strip()\n",
    "\n",
    "    for fname in lst:\n",
    "        with open(fname, 'r') as f:\n",
    "            found_date = False\n",
    "            for line in f:\n",
    "                if not found_date:\n",
    "                    if \"Appeared on\" in line:\n",
    "                        found_date = True\n",
    "                        dates.append((fname, get_date(line)))\n",
    "                else:\n",
    "                    break\n",
    "    return dates\n",
    "\n",
    "from glob import glob\n",
    "lst = glob('_build/html/*md')\n",
    "days = 7\n",
    "dates = extract_appearance_dates(lst)\n",
    "res = list(get_last_n_days(dates, days))\n",
    "npub = len(res)\n",
    "print(len(res), f\" publications in the last {days:d} days.\")"
   ]
  },
  {
   "cell_type": "code",
   "execution_count": 12,
   "id": "52ca0208",
   "metadata": {
    "execution": {
     "iopub.execute_input": "2024-11-27T04:13:02.810805Z",
     "iopub.status.busy": "2024-11-27T04:13:02.810170Z",
     "iopub.status.idle": "2024-11-27T04:13:02.815921Z",
     "shell.execute_reply": "2024-11-27T04:13:02.815189Z"
    },
    "papermill": {
     "duration": 0.014968,
     "end_time": "2024-11-27T04:13:02.817042",
     "exception": false,
     "start_time": "2024-11-27T04:13:02.802074",
     "status": "completed"
    },
    "scrolled": false,
    "tags": []
   },
   "outputs": [],
   "source": [
    "def create_carousel(npub=4):\n",
    "    \"\"\" Generate the HTML code for a carousel with `npub` slides \"\"\"\n",
    "    carousel = [\"\"\"  <div class=\"carousel\" \"\"\",\n",
    "                \"\"\"       data-flickity='{ \"autoPlay\": 10000, \"adaptiveHeight\": true, \"resize\": true, \"wrapAround\": true, \"pauseAutoPlayOnHover\": true, \"groupCells\": 1 }' id=\"asyncTypeset\">\"\"\"\n",
    "                ]\n",
    "    \n",
    "    item_str = \"\"\"    <div class=\"carousel-cell\"> <div id=\"slide{k}\" class=\"md_view\">Content {k}</div> </div>\"\"\"\n",
    "    for k in range(1, npub + 1):\n",
    "        carousel.append(item_str.format(k=k))\n",
    "    carousel.append(\"  </div>\")\n",
    "    return '\\n'.join(carousel)\n",
    "\n",
    "def create_grid(npub=4):\n",
    "    \"\"\" Generate the HTML code for a flat grid with `npub` slides \"\"\"\n",
    "    grid = [\"\"\"  <div class=\"grid\"> \"\"\",\n",
    "                ]\n",
    "    \n",
    "    item_str = \"\"\"    <div class=\"grid-item\"> <div id=\"slide{k}\" class=\"md_view\">Content {k}</div> </div>\"\"\"\n",
    "    for k in range(1, npub + 1):\n",
    "        grid.append(item_str.format(k=k))\n",
    "    grid.append(\"  </div>\")\n",
    "    return '\\n'.join(grid)"
   ]
  },
  {
   "cell_type": "code",
   "execution_count": 13,
   "id": "a6eac5b6",
   "metadata": {
    "execution": {
     "iopub.execute_input": "2024-11-27T04:13:02.833276Z",
     "iopub.status.busy": "2024-11-27T04:13:02.832880Z",
     "iopub.status.idle": "2024-11-27T04:13:02.838054Z",
     "shell.execute_reply": "2024-11-27T04:13:02.837529Z"
    },
    "papermill": {
     "duration": 0.01436,
     "end_time": "2024-11-27T04:13:02.839017",
     "exception": false,
     "start_time": "2024-11-27T04:13:02.824657",
     "status": "completed"
    },
    "scrolled": false,
    "tags": []
   },
   "outputs": [],
   "source": [
    "carousel = create_carousel(npub)\n",
    "docs = ', '.join(['\"{0:s}\"'.format(k.split('/')[-1]) for k in res])\n",
    "slides = ', '.join([f'\"slide{k}\"' for k in range(1, npub + 1)])\n",
    "\n",
    "with open(\"daily_template.html\", \"r\") as tpl:\n",
    "    page = tpl.read()\n",
    "    page = page.replace(\"{%-- carousel:s --%}\", carousel)\\\n",
    "               .replace(\"{%-- suptitle:s --%}\",  \"7-day archives\" )\\\n",
    "               .replace(\"{%-- docs:s --%}\", docs)\\\n",
    "               .replace(\"{%-- slides:s --%}\", slides)\n",
    "    \n",
    "with open(\"_build/html/index_7days.html\", 'w') as fout:\n",
    "    fout.write(page)"
   ]
  },
  {
   "cell_type": "code",
   "execution_count": 14,
   "id": "adc1a1ec",
   "metadata": {
    "execution": {
     "iopub.execute_input": "2024-11-27T04:13:02.854885Z",
     "iopub.status.busy": "2024-11-27T04:13:02.854504Z",
     "iopub.status.idle": "2024-11-27T04:13:02.861081Z",
     "shell.execute_reply": "2024-11-27T04:13:02.860556Z"
    },
    "papermill": {
     "duration": 0.015565,
     "end_time": "2024-11-27T04:13:02.862068",
     "exception": false,
     "start_time": "2024-11-27T04:13:02.846503",
     "status": "completed"
    },
    "tags": []
   },
   "outputs": [
    {
     "name": "stdout",
     "output_type": "stream",
     "text": [
      "4  publications in the last day.\n"
     ]
    }
   ],
   "source": [
    "# redo for today\n",
    "days = 1\n",
    "res = list(get_last_n_days(dates, days))\n",
    "npub = len(res)\n",
    "print(len(res), f\" publications in the last day.\")\n",
    "\n",
    "carousel = create_carousel(npub)\n",
    "docs = ', '.join(['\"{0:s}\"'.format(k.split('/')[-1]) for k in res])\n",
    "slides = ', '.join([f'\"slide{k}\"' for k in range(1, npub + 1)])\n",
    "\n",
    "with open(\"daily_template.html\", \"r\") as tpl:\n",
    "    page = tpl.read()\n",
    "    page = page.replace(\"{%-- carousel:s --%}\", carousel)\\\n",
    "               .replace(\"{%-- suptitle:s --%}\",  \"Daily\" )\\\n",
    "               .replace(\"{%-- docs:s --%}\", docs)\\\n",
    "               .replace(\"{%-- slides:s --%}\", slides)\n",
    "    \n",
    "# print(carousel, docs, slides)\n",
    "# print(page)\n",
    "with open(\"_build/html/index_daily.html\", 'w') as fout:\n",
    "    fout.write(page)"
   ]
  },
  {
   "cell_type": "code",
   "execution_count": 15,
   "id": "00eece82",
   "metadata": {
    "execution": {
     "iopub.execute_input": "2024-11-27T04:13:02.879241Z",
     "iopub.status.busy": "2024-11-27T04:13:02.879000Z",
     "iopub.status.idle": "2024-11-27T04:13:02.885505Z",
     "shell.execute_reply": "2024-11-27T04:13:02.884884Z"
    },
    "papermill": {
     "duration": 0.01671,
     "end_time": "2024-11-27T04:13:02.886550",
     "exception": false,
     "start_time": "2024-11-27T04:13:02.869840",
     "status": "completed"
    },
    "scrolled": false,
    "tags": []
   },
   "outputs": [
    {
     "name": "stdout",
     "output_type": "stream",
     "text": [
      "6  6 publications selected.\n"
     ]
    }
   ],
   "source": [
    "# Create the flat grid of the last N papers (fixed number regardless of dates)\n",
    "from itertools import islice \n",
    "\n",
    "npub = 6\n",
    "res = [k[0] for k in (islice(reversed(sorted(dates, key=lambda x: x[1])), 6))]\n",
    "print(len(res), f\" {npub} publications selected.\")\n",
    "\n",
    "grid = create_grid(npub)\n",
    "docs = ', '.join(['\"{0:s}\"'.format(k.split('/')[-1]) for k in res])\n",
    "slides = ', '.join([f'\"slide{k}\"' for k in range(1, npub + 1)])\n",
    "\n",
    "with open(\"grid_template.html\", \"r\") as tpl:\n",
    "    page = tpl.read()\n",
    "    page = page.replace(\"{%-- grid-content:s --%}\", grid)\\\n",
    "               .replace(\"{%-- suptitle:s --%}\",  f\"Last {npub:,d} papers\" )\\\n",
    "               .replace(\"{%-- docs:s --%}\", docs)\\\n",
    "               .replace(\"{%-- slides:s --%}\", slides)\n",
    "    \n",
    "# print(grid, docs, slides)\n",
    "# print(page)\n",
    "with open(\"_build/html/index_npub_grid.html\", 'w') as fout:\n",
    "    fout.write(page)"
   ]
  }
 ],
 "metadata": {
  "kernelspec": {
   "display_name": "Python 3 (ipykernel)",
   "language": "python",
   "name": "python3"
  },
  "language_info": {
   "codemirror_mode": {
    "name": "ipython",
    "version": 3
   },
   "file_extension": ".py",
   "mimetype": "text/x-python",
   "name": "python",
   "nbconvert_exporter": "python",
   "pygments_lexer": "ipython3",
   "version": "3.9.20"
  },
  "papermill": {
   "default_parameters": {},
   "duration": 100.050129,
   "end_time": "2024-11-27T04:13:03.110808",
   "environment_variables": {},
   "exception": null,
   "input_path": "MPIA daily digest.ipynb",
   "output_path": "log.ipynb",
   "parameters": {},
   "start_time": "2024-11-27T04:11:23.060679",
   "version": "2.6.0"
  },
  "vscode": {
   "interpreter": {
    "hash": "aee8b7b246df8f9039afb4144a1f6fd8d2ca17a180786b69acc140d282b71a49"
   }
  },
  "widgets": {
   "application/vnd.jupyter.widget-state+json": {
    "state": {
     "15d7db4651a941558e6fd258c85efee8": {
      "model_module": "@jupyter-widgets/controls",
      "model_module_version": "2.0.0",
      "model_name": "HTMLStyleModel",
      "state": {
       "_model_module": "@jupyter-widgets/controls",
       "_model_module_version": "2.0.0",
       "_model_name": "HTMLStyleModel",
       "_view_count": null,
       "_view_module": "@jupyter-widgets/base",
       "_view_module_version": "2.0.0",
       "_view_name": "StyleView",
       "background": null,
       "description_width": "",
       "font_size": null,
       "text_color": null
      }
     },
     "1d14ce940d17409b8ac2bcc48bb5d175": {
      "model_module": "@jupyter-widgets/controls",
      "model_module_version": "2.0.0",
      "model_name": "HBoxModel",
      "state": {
       "_dom_classes": [],
       "_model_module": "@jupyter-widgets/controls",
       "_model_module_version": "2.0.0",
       "_model_name": "HBoxModel",
       "_view_count": null,
       "_view_module": "@jupyter-widgets/controls",
       "_view_module_version": "2.0.0",
       "_view_name": "HBoxView",
       "box_style": "",
       "children": [
        "IPY_MODEL_a737bbfd24f6487e8652fffc8a81b3ff",
        "IPY_MODEL_c791375d1568496291ffaaeee2a1f393",
        "IPY_MODEL_aab81fde07db4ac48fdbb90d67a7195a"
       ],
       "layout": "IPY_MODEL_56f727b7f4d44077a4933878f0a714bb",
       "tabbable": null,
       "tooltip": null
      }
     },
     "5087351d6e014da1ab9f63970c16c14e": {
      "model_module": "@jupyter-widgets/base",
      "model_module_version": "2.0.0",
      "model_name": "LayoutModel",
      "state": {
       "_model_module": "@jupyter-widgets/base",
       "_model_module_version": "2.0.0",
       "_model_name": "LayoutModel",
       "_view_count": null,
       "_view_module": "@jupyter-widgets/base",
       "_view_module_version": "2.0.0",
       "_view_name": "LayoutView",
       "align_content": null,
       "align_items": null,
       "align_self": null,
       "border_bottom": null,
       "border_left": null,
       "border_right": null,
       "border_top": null,
       "bottom": null,
       "display": null,
       "flex": null,
       "flex_flow": null,
       "grid_area": null,
       "grid_auto_columns": null,
       "grid_auto_flow": null,
       "grid_auto_rows": null,
       "grid_column": null,
       "grid_gap": null,
       "grid_row": null,
       "grid_template_areas": null,
       "grid_template_columns": null,
       "grid_template_rows": null,
       "height": null,
       "justify_content": null,
       "justify_items": null,
       "left": null,
       "margin": null,
       "max_height": null,
       "max_width": null,
       "min_height": null,
       "min_width": null,
       "object_fit": null,
       "object_position": null,
       "order": null,
       "overflow": null,
       "padding": null,
       "right": null,
       "top": null,
       "visibility": null,
       "width": null
      }
     },
     "56f727b7f4d44077a4933878f0a714bb": {
      "model_module": "@jupyter-widgets/base",
      "model_module_version": "2.0.0",
      "model_name": "LayoutModel",
      "state": {
       "_model_module": "@jupyter-widgets/base",
       "_model_module_version": "2.0.0",
       "_model_name": "LayoutModel",
       "_view_count": null,
       "_view_module": "@jupyter-widgets/base",
       "_view_module_version": "2.0.0",
       "_view_name": "LayoutView",
       "align_content": null,
       "align_items": null,
       "align_self": null,
       "border_bottom": null,
       "border_left": null,
       "border_right": null,
       "border_top": null,
       "bottom": null,
       "display": null,
       "flex": null,
       "flex_flow": null,
       "grid_area": null,
       "grid_auto_columns": null,
       "grid_auto_flow": null,
       "grid_auto_rows": null,
       "grid_column": null,
       "grid_gap": null,
       "grid_row": null,
       "grid_template_areas": null,
       "grid_template_columns": null,
       "grid_template_rows": null,
       "height": null,
       "justify_content": null,
       "justify_items": null,
       "left": null,
       "margin": null,
       "max_height": null,
       "max_width": null,
       "min_height": null,
       "min_width": null,
       "object_fit": null,
       "object_position": null,
       "order": null,
       "overflow": null,
       "padding": null,
       "right": null,
       "top": null,
       "visibility": null,
       "width": null
      }
     },
     "6f194b1660604c7da5bc251aa17ada1e": {
      "model_module": "@jupyter-widgets/controls",
      "model_module_version": "2.0.0",
      "model_name": "HTMLStyleModel",
      "state": {
       "_model_module": "@jupyter-widgets/controls",
       "_model_module_version": "2.0.0",
       "_model_name": "HTMLStyleModel",
       "_view_count": null,
       "_view_module": "@jupyter-widgets/base",
       "_view_module_version": "2.0.0",
       "_view_name": "StyleView",
       "background": null,
       "description_width": "",
       "font_size": null,
       "text_color": null
      }
     },
     "a67965d4eeec49f6adfb70c7d97a00c9": {
      "model_module": "@jupyter-widgets/base",
      "model_module_version": "2.0.0",
      "model_name": "LayoutModel",
      "state": {
       "_model_module": "@jupyter-widgets/base",
       "_model_module_version": "2.0.0",
       "_model_name": "LayoutModel",
       "_view_count": null,
       "_view_module": "@jupyter-widgets/base",
       "_view_module_version": "2.0.0",
       "_view_name": "LayoutView",
       "align_content": null,
       "align_items": null,
       "align_self": null,
       "border_bottom": null,
       "border_left": null,
       "border_right": null,
       "border_top": null,
       "bottom": null,
       "display": null,
       "flex": null,
       "flex_flow": null,
       "grid_area": null,
       "grid_auto_columns": null,
       "grid_auto_flow": null,
       "grid_auto_rows": null,
       "grid_column": null,
       "grid_gap": null,
       "grid_row": null,
       "grid_template_areas": null,
       "grid_template_columns": null,
       "grid_template_rows": null,
       "height": null,
       "justify_content": null,
       "justify_items": null,
       "left": null,
       "margin": null,
       "max_height": null,
       "max_width": null,
       "min_height": null,
       "min_width": null,
       "object_fit": null,
       "object_position": null,
       "order": null,
       "overflow": null,
       "padding": null,
       "right": null,
       "top": null,
       "visibility": null,
       "width": null
      }
     },
     "a737bbfd24f6487e8652fffc8a81b3ff": {
      "model_module": "@jupyter-widgets/controls",
      "model_module_version": "2.0.0",
      "model_name": "HTMLModel",
      "state": {
       "_dom_classes": [],
       "_model_module": "@jupyter-widgets/controls",
       "_model_module_version": "2.0.0",
       "_model_name": "HTMLModel",
       "_view_count": null,
       "_view_module": "@jupyter-widgets/controls",
       "_view_module_version": "2.0.0",
       "_view_name": "HTMLView",
       "description": "",
       "description_allow_html": false,
       "layout": "IPY_MODEL_5087351d6e014da1ab9f63970c16c14e",
       "placeholder": "​",
       "style": "IPY_MODEL_6f194b1660604c7da5bc251aa17ada1e",
       "tabbable": null,
       "tooltip": null,
       "value": "100%"
      }
     },
     "aab81fde07db4ac48fdbb90d67a7195a": {
      "model_module": "@jupyter-widgets/controls",
      "model_module_version": "2.0.0",
      "model_name": "HTMLModel",
      "state": {
       "_dom_classes": [],
       "_model_module": "@jupyter-widgets/controls",
       "_model_module_version": "2.0.0",
       "_model_name": "HTMLModel",
       "_view_count": null,
       "_view_module": "@jupyter-widgets/controls",
       "_view_module_version": "2.0.0",
       "_view_name": "HTMLView",
       "description": "",
       "description_allow_html": false,
       "layout": "IPY_MODEL_a67965d4eeec49f6adfb70c7d97a00c9",
       "placeholder": "​",
       "style": "IPY_MODEL_15d7db4651a941558e6fd258c85efee8",
       "tabbable": null,
       "tooltip": null,
       "value": " 11/11 [01:19&lt;00:00,  2.82s/it]"
      }
     },
     "be4a5c62825c4756821e92e3218c444f": {
      "model_module": "@jupyter-widgets/base",
      "model_module_version": "2.0.0",
      "model_name": "LayoutModel",
      "state": {
       "_model_module": "@jupyter-widgets/base",
       "_model_module_version": "2.0.0",
       "_model_name": "LayoutModel",
       "_view_count": null,
       "_view_module": "@jupyter-widgets/base",
       "_view_module_version": "2.0.0",
       "_view_name": "LayoutView",
       "align_content": null,
       "align_items": null,
       "align_self": null,
       "border_bottom": null,
       "border_left": null,
       "border_right": null,
       "border_top": null,
       "bottom": null,
       "display": null,
       "flex": null,
       "flex_flow": null,
       "grid_area": null,
       "grid_auto_columns": null,
       "grid_auto_flow": null,
       "grid_auto_rows": null,
       "grid_column": null,
       "grid_gap": null,
       "grid_row": null,
       "grid_template_areas": null,
       "grid_template_columns": null,
       "grid_template_rows": null,
       "height": null,
       "justify_content": null,
       "justify_items": null,
       "left": null,
       "margin": null,
       "max_height": null,
       "max_width": null,
       "min_height": null,
       "min_width": null,
       "object_fit": null,
       "object_position": null,
       "order": null,
       "overflow": null,
       "padding": null,
       "right": null,
       "top": null,
       "visibility": null,
       "width": null
      }
     },
     "c791375d1568496291ffaaeee2a1f393": {
      "model_module": "@jupyter-widgets/controls",
      "model_module_version": "2.0.0",
      "model_name": "FloatProgressModel",
      "state": {
       "_dom_classes": [],
       "_model_module": "@jupyter-widgets/controls",
       "_model_module_version": "2.0.0",
       "_model_name": "FloatProgressModel",
       "_view_count": null,
       "_view_module": "@jupyter-widgets/controls",
       "_view_module_version": "2.0.0",
       "_view_name": "ProgressView",
       "bar_style": "success",
       "description": "",
       "description_allow_html": false,
       "layout": "IPY_MODEL_be4a5c62825c4756821e92e3218c444f",
       "max": 11.0,
       "min": 0.0,
       "orientation": "horizontal",
       "style": "IPY_MODEL_f01a51c956d74353b3eb0e0d418f5db4",
       "tabbable": null,
       "tooltip": null,
       "value": 11.0
      }
     },
     "f01a51c956d74353b3eb0e0d418f5db4": {
      "model_module": "@jupyter-widgets/controls",
      "model_module_version": "2.0.0",
      "model_name": "ProgressStyleModel",
      "state": {
       "_model_module": "@jupyter-widgets/controls",
       "_model_module_version": "2.0.0",
       "_model_name": "ProgressStyleModel",
       "_view_count": null,
       "_view_module": "@jupyter-widgets/base",
       "_view_module_version": "2.0.0",
       "_view_name": "StyleView",
       "bar_color": null,
       "description_width": ""
      }
     }
    },
    "version_major": 2,
    "version_minor": 0
   }
  }
 },
 "nbformat": 4,
 "nbformat_minor": 5
}