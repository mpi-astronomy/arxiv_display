{
 "cells": [
  {
   "cell_type": "markdown",
   "id": "92bcb855",
   "metadata": {
    "papermill": {
     "duration": 0.005331,
     "end_time": "2022-12-19T04:06:29.616055",
     "exception": false,
     "start_time": "2022-12-19T04:06:29.610724",
     "status": "completed"
    },
    "tags": []
   },
   "source": [
    "# MPIA Arxiv on Deck 2\n",
    "\n",
    "Contains the steps to produce the paper extractions."
   ]
  },
  {
   "cell_type": "code",
   "execution_count": 1,
   "id": "3a0d6e11",
   "metadata": {
    "execution": {
     "iopub.execute_input": "2022-12-19T04:06:29.625655Z",
     "iopub.status.busy": "2022-12-19T04:06:29.625183Z",
     "iopub.status.idle": "2022-12-19T04:06:29.831735Z",
     "shell.execute_reply": "2022-12-19T04:06:29.830656Z"
    },
    "papermill": {
     "duration": 0.213395,
     "end_time": "2022-12-19T04:06:29.833728",
     "exception": false,
     "start_time": "2022-12-19T04:06:29.620333",
     "status": "completed"
    },
    "tags": []
   },
   "outputs": [],
   "source": [
    "# Imports\n",
    "import os\n",
    "from IPython.display import Markdown, display\n",
    "from tqdm.notebook import tqdm\n",
    "import warnings\n",
    "from PIL import Image \n",
    "\n",
    "# requires arxiv_on_deck_2\n",
    "\n",
    "from arxiv_on_deck_2.arxiv2 import (get_new_papers, \n",
    "                                    get_paper_from_identifier,\n",
    "                                    retrieve_document_source, \n",
    "                                    get_markdown_badge)\n",
    "from arxiv_on_deck_2 import (latex, \n",
    "                             mpia,\n",
    "                             highlight_authors_in_list)\n",
    "\n",
    "# Sometimes images are really big\n",
    "Image.MAX_IMAGE_PIXELS = 1000000000 "
   ]
  },
  {
   "cell_type": "code",
   "execution_count": 2,
   "id": "22aa9d44",
   "metadata": {
    "execution": {
     "iopub.execute_input": "2022-12-19T04:06:29.843925Z",
     "iopub.status.busy": "2022-12-19T04:06:29.843288Z",
     "iopub.status.idle": "2022-12-19T04:06:29.848098Z",
     "shell.execute_reply": "2022-12-19T04:06:29.847467Z"
    },
    "papermill": {
     "duration": 0.011363,
     "end_time": "2022-12-19T04:06:29.849668",
     "exception": false,
     "start_time": "2022-12-19T04:06:29.838305",
     "status": "completed"
    },
    "tags": []
   },
   "outputs": [],
   "source": [
    "# Some useful definitions.\n",
    "\n",
    "class AffiliationWarning(UserWarning):\n",
    "    pass\n",
    "\n",
    "class AffiliationError(RuntimeError):\n",
    "    pass\n",
    "\n",
    "def validation(source: str):\n",
    "    \"\"\"Raises error paper during parsing of source file\n",
    "    \n",
    "    Allows checks before parsing TeX code.\n",
    "    \n",
    "    Raises AffiliationWarning\n",
    "    \"\"\"\n",
    "    check = mpia.affiliation_verifications(source, verbose=True)\n",
    "    if check is not True:\n",
    "        raise AffiliationError(\"mpia.affiliation_verifications: \" + check)\n",
    "\n",
    "        \n",
    "warnings.simplefilter('always', AffiliationWarning)"
   ]
  },
  {
   "cell_type": "code",
   "execution_count": 3,
   "id": "14622700",
   "metadata": {
    "execution": {
     "iopub.execute_input": "2022-12-19T04:06:29.858447Z",
     "iopub.status.busy": "2022-12-19T04:06:29.857910Z",
     "iopub.status.idle": "2022-12-19T04:06:29.862024Z",
     "shell.execute_reply": "2022-12-19T04:06:29.861441Z"
    },
    "papermill": {
     "duration": 0.010239,
     "end_time": "2022-12-19T04:06:29.863652",
     "exception": false,
     "start_time": "2022-12-19T04:06:29.853413",
     "status": "completed"
    },
    "tags": []
   },
   "outputs": [],
   "source": [
    "# additional CSS to consider. \n",
    "# TODO: Current into each exported file. \n",
    "#       This should be set once into the webpages directly.\n",
    "#       With only the class/id definitions in the .md files.\n",
    "\n",
    "debug_html = \"\"\"\n",
    "<style>\n",
    "#wrap{ overflow:auto; }\n",
    "#fig1{ background:yellow; width:100%; float:left; padding:5px;  }\n",
    "#fig2{ background:red; width:50%; float:left; clear:left; padding:5px;  }\n",
    "#fig3{ background:green; width:50%; float:left; padding:5px;   }\n",
    ".macros{ background:yellow; visibility:visible;}\n",
    "h1 {margin: 0 0 0 0;}\n",
    "mark {background-color:#fff3b6;}\n",
    "img {object-fit:contain; max-height:250px; display:inline-block; text-align: center;}\n",
    "</style>\n",
    "\"\"\" \n",
    "html = \"\"\"\n",
    "<style>\n",
    "#wrap{ overflow:auto; }\n",
    "#fig1{ width:100%; float:left; padding: 5px;  }\n",
    "#fig2{ width:50%; float:left; clear:left; padding: 5px;  }\n",
    "#fig3{ width:50%; float:left; padding: 5px;  }\n",
    ".macros{ visibility:hidden; height:0px; }\n",
    "h1 {margin: 0em 0 0 0;}\n",
    "mark {background-color:#fff3b6;}\n",
    "img {object-fit:contain; max-height:250px; display:inline-block; text-align: center;}\n",
    "</style>\n",
    "\"\"\""
   ]
  },
  {
   "cell_type": "markdown",
   "id": "14bd6310",
   "metadata": {
    "papermill": {
     "duration": 0.003739,
     "end_time": "2022-12-19T04:06:29.871220",
     "exception": false,
     "start_time": "2022-12-19T04:06:29.867481",
     "status": "completed"
    },
    "tags": []
   },
   "source": [
    "## get list of arxiv paper candidates\n",
    "\n",
    "We use the MPIA mitarbeiter list webpage from mpia.de to get author names\n",
    "We then get all new papers from Arxiv and match authors"
   ]
  },
  {
   "cell_type": "code",
   "execution_count": 4,
   "id": "2645e73a",
   "metadata": {
    "execution": {
     "iopub.execute_input": "2022-12-19T04:06:29.880100Z",
     "iopub.status.busy": "2022-12-19T04:06:29.879671Z",
     "iopub.status.idle": "2022-12-19T04:06:53.639446Z",
     "shell.execute_reply": "2022-12-19T04:06:53.638266Z"
    },
    "papermill": {
     "duration": 23.766318,
     "end_time": "2022-12-19T04:06:53.641330",
     "exception": false,
     "start_time": "2022-12-19T04:06:29.875012",
     "status": "completed"
    },
    "tags": []
   },
   "outputs": [
    {
     "name": "stdout",
     "output_type": "stream",
     "text": [
      "Arxiv has 54 new papers today\n",
      "          19 with possible author matches\n"
     ]
    }
   ],
   "source": [
    "# get list from MPIA website\n",
    "# it automatically filters identified non-scientists :func:`mpia.filter_non_scientists`\n",
    "mpia_authors = mpia.get_mpia_mitarbeiter_list()\n",
    "new_papers = get_new_papers()\n",
    "# add manual references\n",
    "add_paper_refs = []\n",
    "new_papers.extend([get_paper_from_identifier(k) for k in add_paper_refs])\n",
    "\n",
    "# select only papers with matching author names and highlight authors\n",
    "hl_list = [k[0] for k in mpia_authors]\n",
    "\n",
    "candidates = []\n",
    "for paperk in new_papers:\n",
    "    hl_authors = highlight_authors_in_list(paperk['authors'], hl_list)\n",
    "    matches = [(hl, orig) for hl, orig in zip(hl_authors, paperk['authors']) if 'mark' in hl]\n",
    "    paperk['authors'] = hl_authors\n",
    "    if matches:\n",
    "        candidates.append(paperk)\n",
    "print(\"\"\"Arxiv has {0:,d} new papers today\"\"\".format(len(new_papers)))        \n",
    "print(\"\"\"          {0:,d} with possible author matches\"\"\".format(len(candidates)))"
   ]
  },
  {
   "cell_type": "markdown",
   "id": "3543b34a",
   "metadata": {
    "papermill": {
     "duration": 0.004311,
     "end_time": "2022-12-19T04:06:53.650369",
     "exception": false,
     "start_time": "2022-12-19T04:06:53.646058",
     "status": "completed"
    },
    "tags": []
   },
   "source": [
    "# Parse sources and generate relevant outputs\n",
    "\n",
    "From the candidates, we do the following steps:\n",
    "* get their tarball from ArXiv (and extract data)\n",
    "* find the main .tex file: find one with \\documentclass{...} (sometimes it's non trivial)\n",
    "* Check affiliations with :func:`validation`, which uses :func:`mpia.affiliation_verifications`\n",
    "* If passing the affiliations: we parse the .tex source\n",
    "   * inject sub-documents into the main (flatten the main document)\n",
    "   * parse structure, extract information (title, abstract, authors, figures...)\n",
    "   * handles `\\graphicspath` if provided\n",
    "* Generate the .md document."
   ]
  },
  {
   "cell_type": "code",
   "execution_count": 5,
   "id": "9576b79e",
   "metadata": {
    "execution": {
     "iopub.execute_input": "2022-12-19T04:06:53.659836Z",
     "iopub.status.busy": "2022-12-19T04:06:53.659361Z",
     "iopub.status.idle": "2022-12-19T04:06:59.473036Z",
     "shell.execute_reply": "2022-12-19T04:06:59.472274Z"
    },
    "papermill": {
     "duration": 5.820374,
     "end_time": "2022-12-19T04:06:59.474647",
     "exception": false,
     "start_time": "2022-12-19T04:06:53.654273",
     "status": "completed"
    },
    "scrolled": false,
    "tags": []
   },
   "outputs": [
    {
     "data": {
      "application/vnd.jupyter.widget-view+json": {
       "model_id": "0c626f4cf4be42f99bdb4c24568b6733",
       "version_major": 2,
       "version_minor": 0
      },
      "text/plain": [
       "  0%|          | 0/18 [00:00<?, ?it/s]"
      ]
     },
     "metadata": {},
     "output_type": "display_data"
    },
    {
     "name": "stdout",
     "output_type": "stream",
     "text": [
      "Retrieving document from  https://arxiv.org/e-print/2212.08098\n"
     ]
    },
    {
     "name": "stdout",
     "output_type": "stream",
     "text": [
      "extracting tarball to tmp_2212.08098... done.\n",
      "Retrieving document from  https://arxiv.org/e-print/2212.08129\n"
     ]
    },
    {
     "name": "stderr",
     "output_type": "stream",
     "text": [
      "/tmp/ipykernel_2082/4030337529.py:34: LatexWarning: 2212.08129 did not run properly\n",
      "not a gzip file\n",
      "  warnings.warn(latex.LatexWarning(f\"{paper_id:s} did not run properly\\n\" +\n"
     ]
    },
    {
     "name": "stdout",
     "output_type": "stream",
     "text": [
      "Retrieving document from  https://arxiv.org/e-print/2212.08185\n"
     ]
    },
    {
     "name": "stdout",
     "output_type": "stream",
     "text": [
      "extracting tarball to tmp_2212.08185..."
     ]
    },
    {
     "name": "stdout",
     "output_type": "stream",
     "text": [
      " done.\n",
      "Retrieving document from  https://arxiv.org/e-print/2212.08194\n"
     ]
    },
    {
     "name": "stdout",
     "output_type": "stream",
     "text": [
      "extracting tarball to tmp_2212.08194..."
     ]
    },
    {
     "name": "stdout",
     "output_type": "stream",
     "text": [
      " done.\n",
      "Retrieving document from  https://arxiv.org/e-print/2212.08242\n"
     ]
    },
    {
     "name": "stderr",
     "output_type": "stream",
     "text": [
      "/opt/hostedtoolcache/Python/3.9.16/x64/lib/python3.9/site-packages/IPython/core/interactiveshell.py:3433: LatexWarning: Multiple tex files.\n",
      "\n",
      "  exec(code_obj, self.user_global_ns, self.user_ns)\n",
      "/opt/hostedtoolcache/Python/3.9.16/x64/lib/python3.9/site-packages/IPython/core/interactiveshell.py:3433: LatexWarning: Found documentclass in tmp_2212.08194/mnras_guide.tex\n",
      "\n",
      "  exec(code_obj, self.user_global_ns, self.user_ns)\n"
     ]
    },
    {
     "name": "stdout",
     "output_type": "stream",
     "text": [
      "extracting tarball to tmp_2212.08242..."
     ]
    },
    {
     "name": "stdout",
     "output_type": "stream",
     "text": [
      " done.\n",
      "Retrieving document from  https://arxiv.org/e-print/2212.08249\n"
     ]
    },
    {
     "name": "stderr",
     "output_type": "stream",
     "text": [
      "/tmp/ipykernel_2082/4030337529.py:34: LatexWarning: 2212.08249 did not run properly\n",
      "[Errno 104] Connection reset by peer\n",
      "  warnings.warn(latex.LatexWarning(f\"{paper_id:s} did not run properly\\n\" +\n"
     ]
    },
    {
     "name": "stdout",
     "output_type": "stream",
     "text": [
      "Retrieving document from  https://arxiv.org/e-print/2212.08261\n"
     ]
    },
    {
     "name": "stderr",
     "output_type": "stream",
     "text": [
      "/tmp/ipykernel_2082/4030337529.py:34: LatexWarning: 2212.08261 did not run properly\n",
      "<urlopen error [Errno 104] Connection reset by peer>\n",
      "  warnings.warn(latex.LatexWarning(f\"{paper_id:s} did not run properly\\n\" +\n"
     ]
    },
    {
     "name": "stdout",
     "output_type": "stream",
     "text": [
      "Retrieving document from  https://arxiv.org/e-print/2212.08266\n"
     ]
    },
    {
     "name": "stderr",
     "output_type": "stream",
     "text": [
      "/tmp/ipykernel_2082/4030337529.py:34: LatexWarning: 2212.08266 did not run properly\n",
      "<urlopen error [Errno 104] Connection reset by peer>\n",
      "  warnings.warn(latex.LatexWarning(f\"{paper_id:s} did not run properly\\n\" +\n",
      "/tmp/ipykernel_2082/4030337529.py:34: LatexWarning: 2212.08274 did not run properly\n",
      "<urlopen error [Errno 104] Connection reset by peer>\n",
      "  warnings.warn(latex.LatexWarning(f\"{paper_id:s} did not run properly\\n\" +\n",
      "/tmp/ipykernel_2082/4030337529.py:34: LatexWarning: 2212.08325 did not run properly\n",
      "<urlopen error [Errno 104] Connection reset by peer>\n",
      "  warnings.warn(latex.LatexWarning(f\"{paper_id:s} did not run properly\\n\" +\n",
      "/tmp/ipykernel_2082/4030337529.py:34: LatexWarning: 2212.08419 did not run properly\n",
      "<urlopen error [Errno 104] Connection reset by peer>\n",
      "  warnings.warn(latex.LatexWarning(f\"{paper_id:s} did not run properly\\n\" +\n"
     ]
    },
    {
     "name": "stdout",
     "output_type": "stream",
     "text": [
      "Retrieving document from  https://arxiv.org/e-print/2212.08274\n",
      "Retrieving document from  https://arxiv.org/e-print/2212.08325\n",
      "Retrieving document from  https://arxiv.org/e-print/2212.08419\n",
      "Retrieving document from  https://arxiv.org/e-print/2212.08436\n"
     ]
    },
    {
     "name": "stderr",
     "output_type": "stream",
     "text": [
      "/tmp/ipykernel_2082/4030337529.py:34: LatexWarning: 2212.08436 did not run properly\n",
      "<urlopen error [Errno 104] Connection reset by peer>\n",
      "  warnings.warn(latex.LatexWarning(f\"{paper_id:s} did not run properly\\n\" +\n",
      "/tmp/ipykernel_2082/4030337529.py:34: LatexWarning: 2212.08444 did not run properly\n",
      "<urlopen error [Errno 104] Connection reset by peer>\n",
      "  warnings.warn(latex.LatexWarning(f\"{paper_id:s} did not run properly\\n\" +\n",
      "/tmp/ipykernel_2082/4030337529.py:34: LatexWarning: 2212.08453 did not run properly\n",
      "<urlopen error [Errno 104] Connection reset by peer>\n",
      "  warnings.warn(latex.LatexWarning(f\"{paper_id:s} did not run properly\\n\" +\n",
      "/tmp/ipykernel_2082/4030337529.py:34: LatexWarning: 2212.08477 did not run properly\n",
      "<urlopen error [Errno 104] Connection reset by peer>\n",
      "  warnings.warn(latex.LatexWarning(f\"{paper_id:s} did not run properly\\n\" +\n",
      "/tmp/ipykernel_2082/4030337529.py:34: LatexWarning: 2212.08504 did not run properly\n",
      "<urlopen error [Errno 104] Connection reset by peer>\n",
      "  warnings.warn(latex.LatexWarning(f\"{paper_id:s} did not run properly\\n\" +\n"
     ]
    },
    {
     "name": "stdout",
     "output_type": "stream",
     "text": [
      "Retrieving document from  https://arxiv.org/e-print/2212.08444\n",
      "Retrieving document from  https://arxiv.org/e-print/2212.08453\n",
      "Retrieving document from  https://arxiv.org/e-print/2212.08477\n",
      "Retrieving document from  https://arxiv.org/e-print/2212.08504\n",
      "Retrieving document from  https://arxiv.org/e-print/2212.08517\n"
     ]
    },
    {
     "name": "stdout",
     "output_type": "stream",
     "text": [
      "Retrieving document from  https://arxiv.org/e-print/2212.08528\n"
     ]
    },
    {
     "name": "stderr",
     "output_type": "stream",
     "text": [
      "/tmp/ipykernel_2082/4030337529.py:34: LatexWarning: 2212.08517 did not run properly\n",
      "<urlopen error [Errno 104] Connection reset by peer>\n",
      "  warnings.warn(latex.LatexWarning(f\"{paper_id:s} did not run properly\\n\" +\n",
      "/tmp/ipykernel_2082/4030337529.py:34: LatexWarning: 2212.08528 did not run properly\n",
      "<urlopen error [Errno 104] Connection reset by peer>\n",
      "  warnings.warn(latex.LatexWarning(f\"{paper_id:s} did not run properly\\n\" +\n"
     ]
    }
   ],
   "source": [
    "documents = []\n",
    "failed = []\n",
    "for paper in tqdm(candidates[:-1]):\n",
    "    paper_id = paper['identifier'].lower().replace('arxiv:', '')\n",
    "    \n",
    "    folder = f'tmp_{paper_id}'\n",
    "\n",
    "    try:\n",
    "        if not os.path.isdir(folder):\n",
    "            folder = retrieve_document_source(f\"{paper_id}\", f'tmp_{paper_id}')\n",
    "        \n",
    "        try:\n",
    "            doc = latex.LatexDocument(folder, validation=validation)    \n",
    "        except AffiliationError as affilerror:\n",
    "            msg = f\"ArXiv:{paper_id:s} is not an MPIA paper... \" + str(affilerror)\n",
    "            failed.append((paper, \"affiliation error: \" + str(affilerror) ))\n",
    "            continue\n",
    "        \n",
    "        # Hack because sometimes author parsing does not work well\n",
    "        if (len(doc.authors) != len(paper['authors'])):\n",
    "            doc._authors = paper['authors']\n",
    "        if (doc.abstract) in (None, ''):\n",
    "            doc._abstract = paper['abstract']\n",
    "            \n",
    "        doc.comment = (get_markdown_badge(paper_id) + \n",
    "                       \"<mark>Appeared on: \" + paper['date'] + \"</mark> - \" +\n",
    "                       \"_\" + paper['comments'] + \"_\")\n",
    "        doc.highlight_authors_in_list(hl_list)\n",
    "\n",
    "        full_md = doc.generate_markdown_text()\n",
    "        \n",
    "        documents.append((paper_id, full_md))\n",
    "    except Exception as e:\n",
    "        warnings.warn(latex.LatexWarning(f\"{paper_id:s} did not run properly\\n\" +\n",
    "                                         str(e)\n",
    "                                        ))\n",
    "        failed.append((paper, \"latex error \" + str(e)))"
   ]
  },
  {
   "cell_type": "markdown",
   "id": "2505a25c",
   "metadata": {
    "papermill": {
     "duration": 0.005287,
     "end_time": "2022-12-19T04:06:59.485513",
     "exception": false,
     "start_time": "2022-12-19T04:06:59.480226",
     "status": "completed"
    },
    "tags": []
   },
   "source": [
    "### Export the logs\n",
    "\n",
    "Throughout, we also keep track of the logs per paper. see `logs-{today date}.md` "
   ]
  },
  {
   "cell_type": "code",
   "execution_count": 6,
   "id": "d733828a",
   "metadata": {
    "execution": {
     "iopub.execute_input": "2022-12-19T04:06:59.497362Z",
     "iopub.status.busy": "2022-12-19T04:06:59.496709Z",
     "iopub.status.idle": "2022-12-19T04:06:59.526217Z",
     "shell.execute_reply": "2022-12-19T04:06:59.525586Z"
    },
    "papermill": {
     "duration": 0.037237,
     "end_time": "2022-12-19T04:06:59.527779",
     "exception": false,
     "start_time": "2022-12-19T04:06:59.490542",
     "status": "completed"
    },
    "scrolled": false,
    "tags": []
   },
   "outputs": [
    {
     "data": {
      "text/markdown": [
       "## Successful papers"
      ],
      "text/plain": [
       "<IPython.core.display.Markdown object>"
      ]
     },
     "metadata": {},
     "output_type": "display_data"
    },
    {
     "data": {
      "text/markdown": [
       "## Failed papers"
      ],
      "text/plain": [
       "<IPython.core.display.Markdown object>"
      ]
     },
     "metadata": {},
     "output_type": "display_data"
    },
    {
     "data": {
      "text/markdown": [
       "\n",
       "|||\n",
       "|---:|:---|\n",
       "| [![arXiv](https://img.shields.io/badge/arXiv-arXiv:2212.08098-b31b1b.svg)](https://arxiv.org/abs/arXiv:2212.08098) | **A Dark Matter Trigger for Early Dark Energy Coincidence**  |\n",
       "|| <mark>Meng-Xiang Lin</mark>, Evan McDonough, J. Colin Hill, Wayne Hu |\n",
       "|*Appeared on*| *2022-12-19*|\n",
       "|*Comments*| *12 pages, 6 figures*|\n",
       "|**Abstract**| Early dark energy (EDE), whose cosmological role is localized in time around the epoch of matter-radiation equality in order to resolve the Hubble tension, introduces a new coincidence problem: why should the EDE dynamics occur near equality if EDE is decoupled from both matter and radiation? The resolution of this problem may lie in an {\\it early dark sector} (EDS), wherein the dark matter mass is dependent on the EDE scalar field. Concretely, we consider a Planck-suppressed coupling of EDE to dark matter, as would naturally arise from breaking of the global $U(1)$ shift symmetry of the former by quantum gravity effects. With a sufficiently flat potential, the rise to dominance of dark matter at matter-radiation equality itself triggers the rolling and subsequent decay of the EDE. We show that this {\\it trigger} EDS (tEDS) model can naturally resolve the EDE coincidence problem at the background level without any fine tuning of the coupling to dark matter or of the initial conditions. When fitting to current cosmological data, including that from the local distance ladder and the low-redshift amplitude of fluctuations, the tEDS maximum-likelihood model performs comparably to EDE for resolving the Hubble tension, achieving $H_0 =71.2$ km/s/Mpc. However, fitting the \\emph{Planck} cosmic microwave background data requires a specific range of initial field positions to balance the scalar field fluctuations that drive acoustic oscillations, providing testable differences with other EDE models. |\n",
       "|<p style=\"color:green\"> **ERROR** </p>| <p style=\"color:green\">affiliation error: mpia.affiliation_verifications: 'Heidelberg' keyword not found.</p> |"
      ],
      "text/plain": [
       "<IPython.core.display.Markdown object>"
      ]
     },
     "metadata": {},
     "output_type": "display_data"
    },
    {
     "data": {
      "text/markdown": [
       "\n",
       "|||\n",
       "|---:|:---|\n",
       "| [![arXiv](https://img.shields.io/badge/arXiv-arXiv:2212.08185-b31b1b.svg)](https://arxiv.org/abs/arXiv:2212.08185) | **Tracking hidden magnetospheric fluctuations in accretion-powered pulsars  with a Kalman filter**  |\n",
       "|| A. Melatos, N. J. O'Neill, <mark>P. M. Meyers</mark>, J. O'Leary |\n",
       "|*Appeared on*| *2022-12-19*|\n",
       "|*Comments*| *49 pages, 6 figures, accepted for publication in The Astrophysical Journal*|\n",
       "|**Abstract**| X-ray flux and pulse period fluctuations in an accretion-powered pulsar convey important information about the disk-magnetosphere interaction. It is shown that simultaneous flux and period measurements can be analysed with a Kalman filter based on the standard magnetocentrifugal accretion torque to generate accurate time-dependent estimates of three hidden state variables, which fluctuate stochastically and cannot be measured directly: the mass accretion rate, the Maxwell stress at the disk-magnetosphere boundary, and the radiative efficiency of accretion onto the stellar surface. The inferred fluctuation statistics carry implications for the physics of hydromagnetic instabilities at the disk-magnetosphere boundary and searches for continuous gravitational radiation from low-mass X-ray binaries. |\n",
       "|<p style=\"color:green\"> **ERROR** </p>| <p style=\"color:green\">affiliation error: mpia.affiliation_verifications: 'Heidelberg' keyword not found.</p> |"
      ],
      "text/plain": [
       "<IPython.core.display.Markdown object>"
      ]
     },
     "metadata": {},
     "output_type": "display_data"
    },
    {
     "data": {
      "text/markdown": [
       "\n",
       "|||\n",
       "|---:|:---|\n",
       "| [![arXiv](https://img.shields.io/badge/arXiv-arXiv:2212.08194-b31b1b.svg)](https://arxiv.org/abs/arXiv:2212.08194) | **On the gamma-ray emission from the core of the Sagittarius dwarf galaxy**  |\n",
       "|| Addy J. Evans, et al. -- incl., <mark>Tim Linden</mark> |\n",
       "|*Appeared on*| *2022-12-19*|\n",
       "|*Comments*| *12 pages, 9 figures. To be submitted to MNRAS -- comments welcome*|\n",
       "|**Abstract**| We use data from the Large Area Telescope onboard the Fermi gamma-ray space telescope (Fermi-LAT) to analyze the faint gamma-ray source located at the center of the Sagittarius (Sgr) dwarf spheroidal galaxy. In the 4FGL-DR3 catalog, this source is associated with the globular cluster, M54, which is coincident with the dynamical center of this dwarf galaxy. We investigate the spectral energy distribution and spatial extension of this source, with the goal of testing two hypotheses: (1) the emission is due to millisecond pulsars within M54, or (2) the emission is due to annihilating dark matter from the Sgr halo. For the pulsar interpretation, we consider a two-component model which describes both the lower-energy magnetospheric emission and possible high-energy emission arising from inverse Compton scattering. We find that this source has a point-like morphology at low energies, consistent with magnetospheric emission, and find no evidence for a higher-energy component. For the dark matter interpretation, we find that this signal favors a dark matter mass of $m_{\\chi} = 29.6 \\pm 5.8$ GeV and an annihilation cross section of $\\sigma v = (2.1 \\pm 0.59) \\times 10^{-26} \\,\\text{cm}^3/$s for the $b \\bar{b}$ channel (or $m_{\\chi} = 8.3 \\pm 3.8$ GeV and $\\sigma v = (0.90 \\pm 0.25) \\times 10^{-26} \\, \\text{cm}^3/$s for the $\\tau^+ \\tau^-$ channel), when adopting a J-factor of $J=10^{19.6} \\, \\text{GeV}^2 \\, \\text{cm}^{-5}$. This parameter space is consistent with gamma-ray constraints from other dwarf galaxies and with dark matter interpretations of the Galactic Center Gamma-Ray Excess. |\n",
       "|<p style=\"color:green\"> **ERROR** </p>| <p style=\"color:green\">affiliation error: mpia.affiliation_verifications: 'Heidelberg' keyword not found.</p> |"
      ],
      "text/plain": [
       "<IPython.core.display.Markdown object>"
      ]
     },
     "metadata": {},
     "output_type": "display_data"
    },
    {
     "data": {
      "text/markdown": [
       "\n",
       "|||\n",
       "|---:|:---|\n",
       "| [![arXiv](https://img.shields.io/badge/arXiv-arXiv:2212.08242-b31b1b.svg)](https://arxiv.org/abs/arXiv:2212.08242) | **Spinning up a Daze: TESS Uncovers a Hot Jupiter orbiting the  Rapid-Rotator TOI-778**  |\n",
       "|| Jake Clark, et al. -- incl., <mark>Alexis Heitzmann</mark>, <mark>Joseph Rodriguez</mark>, <mark>Carolyn Brown</mark>, <mark>Liu Hui-Gen</mark>, <mark>Annette Lee</mark>, <mark>Jessica Heim</mark>, <mark>Michele Lee</mark> |\n",
       "|*Appeared on*| *2022-12-19*|\n",
       "|*Comments*| *18 pages, 9 figures, and 4 tables. Submitted to the Astronomical Journal*|\n",
       "|**Abstract**| NASA's Transiting Exoplanet Survey Satellite (TESS) mission, has been uncovering a growing number of exoplanets orbiting nearby, bright stars. Most exoplanets that have been discovered by TESS orbit narrow-line, slow-rotating stars, facilitating the confirmation and mass determination of these worlds. We present the discovery of a hot Jupiter orbiting a rapidly rotating ($v\\sin{(i)}= 35.1\\pm1.0$km/s) early F3V-dwarf, HD115447 (TOI-778). The transit signal taken from Sectors 10 and 37 of TESS's initial detection of the exoplanet is combined with follow-up ground-based photometry and velocity measurements taken from Minerva-Australis, TRES, CORALIE and CHIRON to confirm and characterise TOI-778b. A joint analysis of the light curves and the radial velocity measurements yield a mass, radius, and orbital period for TOI-778b of $2.76^{+0.24}_{-0.23}$Mjup, $1.370\\pm0.043$Rjup and $\\sim4.63$ days, respectively. The planet orbits a bright ($V = 9.1$mag) F3-dwarf with $M=1.40\\pm0.05$Msun, $R=1.70\\pm0.05$Rsun, and $\\log g=4.05\\pm0.17$. We observed a spectroscopic transit of TOI-778b, which allowed us to derive a sky-projected spin-orbit angle of $18^{\\circ}\\pm11^{\\circ}$, consistent with an aligned planetary system. This discovery demonstrates the capability of smaller aperture telescopes such as Minerva-Australis to detect the radial velocity signals produced by planets orbiting broad-line, rapidly rotating stars. |\n",
       "|<p style=\"color:green\"> **ERROR** </p>| <p style=\"color:green\">affiliation error: mpia.affiliation_verifications: 'Heidelberg' keyword not found.</p> |"
      ],
      "text/plain": [
       "<IPython.core.display.Markdown object>"
      ]
     },
     "metadata": {},
     "output_type": "display_data"
    },
    {
     "data": {
      "text/markdown": [
       "\n",
       "|||\n",
       "|---:|:---|\n",
       "| [![arXiv](https://img.shields.io/badge/arXiv-arXiv:2212.08261-b31b1b.svg)](https://arxiv.org/abs/arXiv:2212.08261) | **A Census of the Low Accretors. II: Accretion Properties**  |\n",
       "|| Thanawuth Thanathibodee, et al. -- incl., <mark>Jesús Hernández</mark>, <mark>Ramiro Franco-Hernández</mark> |\n",
       "|*Appeared on*| *2022-12-19*|\n",
       "|*Comments*| *Accepted for publication in The Astrophysical Journal*|\n",
       "|**Abstract**| Much is known about the processes driving accretion from protoplanetary disks onto low-mass pre-main-sequence stars (T Tauri stars). Nevertheless, it is unclear how accretion stops. To determine the accretion properties and their relation to stellar properties and gain insight into the last stages of accretion, we present a detailed analysis of 24 low and possible accretors, previously identified using the He I $\\lambda$10830 line. We model moderate-resolution H$\\alpha$ profiles of these stars using magnetospheric accretion flow models that account for the chromospheric contribution at the line center. Based on parameters derived from the fits of 20 stars that can be reproduced with the models, we find a power-law relation between the disk truncation radius and the mass accretion rate consistent with predictions from theory and simulations. Comparing the corotation and truncation radii, we find that most of our targets are accreting in the unstable regime and rule out the propeller as the main process stopping accretion. For the truncation radius to be the same as the magnetic radius, the dipole magnetic field and/or the efficiency parameter $\\xi$ need to be smaller than previously determined, suggesting that higher-order fields dominate in low accretion rates. Lastly, we determine that the lowest accretion rates that can be detected by H$\\alpha$ line modeling are $1-3\\times10^{-11}M_{\\odot}yr^{-1}$ for M3 stars and $3-5\\times10^{-11}M_{\\odot}yr^{-1}$ for K5 stars. These limits are lower than the observed accretion rates in our sample, suggesting that we have reached a physical lower limit. This limit, $\\dot{M}\\sim10^{-10}M_{\\odot}yr^{-1}$, is consistent with EUV-dominated photoevaporation. |\n",
       "|<p style=\"color:red\"> **ERROR** </p>| <p style=\"color:red\">latex error <urlopen error [Errno 104] Connection reset by peer></p> |"
      ],
      "text/plain": [
       "<IPython.core.display.Markdown object>"
      ]
     },
     "metadata": {},
     "output_type": "display_data"
    },
    {
     "data": {
      "text/markdown": [
       "\n",
       "|||\n",
       "|---:|:---|\n",
       "| [![arXiv](https://img.shields.io/badge/arXiv-arXiv:2212.08266-b31b1b.svg)](https://arxiv.org/abs/arXiv:2212.08266) | **Signature of Collapsars as Sources for High-energy Neutrinos and  $r$-process Nuclei**  |\n",
       "|| <mark>Gang Guo</mark>, Yong-zhong Qian, Meng-Ru Wu |\n",
       "|*Appeared on*| *2022-12-19*|\n",
       "|*Comments*| *7 pages, 3 figures*|\n",
       "|**Abstract**| If collapsars are sources for both high-energy (HE) neutrinos and $r$-process nuclei, the profuse low-energy antineutrinos from $\\beta$-decay of the newly-synthesized nuclei can annihilate the HE neutrinos. Considering HE neutrinos produced at internal shocks induced by intermittent mildly-magnetized jets, we show that such annihilation suppresses the overall HE neutrino spectrum at $\\gtrsim 300$~TeV and produces a corresponding flavor composition of $(F_{\\nu_e+\\bar\\nu_e}: F_{\\nu_\\mu+\\bar\\nu_\\mu}: F_{\\nu_\\tau+\\bar\\nu_\\tau})_\\star \\approx (1 : 10 : 1)$ at source. We find that the emergent HE neutrino flux can well fit the diffuse flux observed at IceCube if contributions from all similar sources are taken into account. Our results highlight the unique role of HE neutrinos in supporting collapsars as sources for $r$-process nuclei, and can be tested by accurate measurement of the diffuse HE neutrino flux spectrum and flavor composition, as well as detection of HE neutrinos from individual sources. |\n",
       "|<p style=\"color:red\"> **ERROR** </p>| <p style=\"color:red\">latex error <urlopen error [Errno 104] Connection reset by peer></p> |"
      ],
      "text/plain": [
       "<IPython.core.display.Markdown object>"
      ]
     },
     "metadata": {},
     "output_type": "display_data"
    },
    {
     "data": {
      "text/markdown": [
       "\n",
       "|||\n",
       "|---:|:---|\n",
       "| [![arXiv](https://img.shields.io/badge/arXiv-arXiv:2212.08274-b31b1b.svg)](https://arxiv.org/abs/arXiv:2212.08274) | **Using the Crab Nebula as Polarization Angle Calibrator for the Korean  VLBI Network**  |\n",
       "|| Minchul Kam, et al. -- incl., <mark>Sang-Sung Lee</mark> |\n",
       "|*Appeared on*| *2022-12-19*|\n",
       "|*Comments*| *9 pages, 5 figures, 6 tables. Accepted for publication in JKAS (submitted 2022 Oct 13; accepted 2022 Dec 15)*|\n",
       "|**Abstract**| The Crab nebula is widely used as a polarization angle calibrator for single-dish radio observations because of its brightness, high degree of linear polarization, and well-known polarization angle over a wide frequency range. However, the Crab nebula cannot be directly used as a polarization angle calibrator for single-dish observations with the Korean VLBI Network (KVN), because the beam size of the telescopes is smaller than the size of the nebula. To determine the polarization angle of the Crab nebula as seen by KVN, we use 3C 286, a compact polarized extragalactic radio source whose polarization angle is well-known, as a reference target. We observed both the Crab nebula and 3C 286 with the KVN from 2017 to 2021 and find that the polarization angles at the total intensity peak of the Crab nebula (equatorial coordinates (J2000) R.A. $=$ 05$^{\\rm h}$34$^{\\rm m}$32.3804$^{\\rm s}$ and Dec $=$ 22$^\\circ$00'44.0982\") are $154.2^\\circ \\pm 0.3^\\circ$, $151.0^\\circ \\pm 0.2^\\circ$, $150.0^\\circ \\pm 1.0^\\circ$, and $151.3^\\circ \\pm 1.1^\\circ$ at 22, 43, 86, and 94 GHz, respectively. We also find that the polarization angles at the pulsar position (RA $=$ 05$^{\\rm h}$34$^{\\rm m}$31.971$^{\\rm s}$ and Dec $=$ 22$^\\circ$00'52.06\") are $154.4^\\circ\\pm 0.4^\\circ$, $150.7^\\circ\\pm 0.4^\\circ$, and $149.0^\\circ\\pm 1.0^\\circ$ for the KVN at 22, 43, and 86 GHz. At 129 GHz, we suggest to use the values $149.0^\\circ \\pm 1.6^\\circ$ at the total intensity peak and $150.2^\\circ \\pm 2.0^\\circ$ at the pulsar position obtained with the Institute for Radio Astronomy in the Millimeter Range (IRAM) 30-meter Telescope. Based on our study, both positions within the Crab nebula can be used as polarization angle calibrators for the KVN single-dish observations. |\n",
       "|<p style=\"color:red\"> **ERROR** </p>| <p style=\"color:red\">latex error <urlopen error [Errno 104] Connection reset by peer></p> |"
      ],
      "text/plain": [
       "<IPython.core.display.Markdown object>"
      ]
     },
     "metadata": {},
     "output_type": "display_data"
    },
    {
     "data": {
      "text/markdown": [
       "\n",
       "|||\n",
       "|---:|:---|\n",
       "| [![arXiv](https://img.shields.io/badge/arXiv-arXiv:2212.08325-b31b1b.svg)](https://arxiv.org/abs/arXiv:2212.08325) | **Revised the $γ$-ray emission from SNR CTB 109 with Fermi-LAT**  |\n",
       "|| Yuliang Xin, <mark>Qizhen Zhao</mark>, <mark>Xiaolei Guo</mark> |\n",
       "|*Appeared on*| *2022-12-19*|\n",
       "|*Comments*| *10 pages, 4 figures, 3 tables, accepted for publication in ApJ*|\n",
       "|**Abstract**| CTB 109 is a middle-aged shell-type SNR with bright thermal X-ray emission. We reanalyze the GeV $\\gamma$-ray emission from CTB 109 using thirteen years of Pass 8 data recorded by the Fermi Large Area Telescope (Fermi-LAT). The $\\gamma$-ray emission of CTB 109 shows a center bright morphology, which is well consistent with its thermal X-ray emission rather than the shell-type structure in the radio band. The spectral analysis shows an evident spectral curvature at $\\sim$ several GeV for the GeV $\\gamma$-ray spectrum, which can naturally explain the lack of TeV $\\gamma$-ray emission from CTB 109. Although either a leptonic or a hadronic model could fit the multi-wavelength observations of CTB 109, the hadronic model is favored considering its $\\gamma$-ray morphology and the spectral curvature of GeV spectrum. The unusual $\\gamma$-ray spectrum of CTB 109 with other SNRs and the luminosity-diameter squared relation make CTB 109 to be distinguished both from the young-aged SNRs with hard GeV $\\gamma$-ray spectra and several old-aged SNRs interacting with molecular clouds. |\n",
       "|<p style=\"color:red\"> **ERROR** </p>| <p style=\"color:red\">latex error <urlopen error [Errno 104] Connection reset by peer></p> |"
      ],
      "text/plain": [
       "<IPython.core.display.Markdown object>"
      ]
     },
     "metadata": {},
     "output_type": "display_data"
    },
    {
     "data": {
      "text/markdown": [
       "\n",
       "|||\n",
       "|---:|:---|\n",
       "| [![arXiv](https://img.shields.io/badge/arXiv-arXiv:2212.08419-b31b1b.svg)](https://arxiv.org/abs/arXiv:2212.08419) | **Data mining techniques on astronomical spectra data. I : Clustering  Analysis**  |\n",
       "|| Haifeng Yang, et al. -- incl., <mark>Lichan Zhou</mark>, <mark>Xujun Zhao</mark>, <mark>Yanting He</mark> |\n",
       "|*Appeared on*| *2022-12-19*|\n",
       "|*Comments*| *28 pages, 53 figures*|\n",
       "|**Abstract**| Clustering is an effective tool for astronomical spectral analysis, to mine clustering patterns among data. With the implementation of large sky surveys, many clustering methods have been applied to tackle spectroscopic and photometric data effectively and automatically. Meanwhile, the performance of clustering methods under different data characteristics varies greatly. With the aim of summarizing astronomical spectral clustering algorithms and laying the foundation for further research, this work gives a review of clustering methods applied to astronomical spectra data in three parts. First, many clustering methods for astronomical spectra are investigated and analysed theoretically, looking at algorithmic ideas, applications, and features. Secondly, experiments are carried out on unified datasets constructed using three criteria (spectra data type, spectra quality, and data volume) to compare the performance of typical algorithms; spectra data are selected from the Large Sky Area Multi-Object Fibre Spectroscopic Telescope (LAMOST) survey and Sloan Digital Sky Survey (SDSS). Finally, source codes of the comparison clustering algorithms and manuals for usage and improvement are provided on GitHub. |\n",
       "|<p style=\"color:red\"> **ERROR** </p>| <p style=\"color:red\">latex error <urlopen error [Errno 104] Connection reset by peer></p> |"
      ],
      "text/plain": [
       "<IPython.core.display.Markdown object>"
      ]
     },
     "metadata": {},
     "output_type": "display_data"
    },
    {
     "data": {
      "text/markdown": [
       "\n",
       "|||\n",
       "|---:|:---|\n",
       "| [![arXiv](https://img.shields.io/badge/arXiv-arXiv:2212.08436-b31b1b.svg)](https://arxiv.org/abs/arXiv:2212.08436) | **Dust hot spots at 10 au scales around the Class 0 binary IRAS 16293-2422  A: a departure from the passive irradiation model**  |\n",
       "|| M. J. Maureira, et al. -- incl., <mark>H. B. Liu</mark> |\n",
       "|*Appeared on*| *2022-12-19*|\n",
       "|*Comments*| *18 pages, 7 figures. Published in ApJL*|\n",
       "|**Abstract**| Characterizing the physical conditions at disk scales in Class 0 sources is crucial for constraining the protostellar accretion process and the initial conditions for planet formation. We use ALMA 1.3 mm and 3 mm observations to investigate the physical conditions of the dust around the Class 0 binary IRAS 16293-2422 A (sep <100 au) down to ~10 au scales. The circumbinary material's spectral index, alpha, has a median of 3.1 and a dispersion of ~0.2, providing no firm evidence of mm-sizes grains therein. Continuum substructures with brightness temperature peaks of T_b~60-80 K at 1.3 mm are observed near the disks at both wavelengths. These peaks do not overlap with strong variations of alpha, indicating they trace high-temperature spots instead of regions with significant optical depth variations. The lower limits to the inferred dust temperature in the hot spots are 122, 87 and 49 K. Depending on the assumed dust opacity index, these values can be several times higher. They overlap with high gas temperatures and enhanced complex organic molecular (COM) emission. This newly resolved dust temperature distribution is in better agreement with the expectations from mechanical instead of the most commonly assumed radiative heating. In particular, we find that the temperatures agree with shock heating predictions. This evidence and recent studies highlighting accretion heating in Class 0 disks suggest that mechanical heating (shocks, dissipation powered by accretion, etc.) is important during the early stages and should be considered when modeling and measuring properties of deeply embedded protostars and disks. |\n",
       "|<p style=\"color:red\"> **ERROR** </p>| <p style=\"color:red\">latex error <urlopen error [Errno 104] Connection reset by peer></p> |"
      ],
      "text/plain": [
       "<IPython.core.display.Markdown object>"
      ]
     },
     "metadata": {},
     "output_type": "display_data"
    },
    {
     "data": {
      "text/markdown": [
       "\n",
       "|||\n",
       "|---:|:---|\n",
       "| [![arXiv](https://img.shields.io/badge/arXiv-arXiv:2212.08444-b31b1b.svg)](https://arxiv.org/abs/arXiv:2212.08444) | **Searching for Supernovae in HETDEX Data Release 3**  |\n",
       "|| J. Vinko, et al. -- incl., <mark>C. Liu</mark> |\n",
       "|*Appeared on*| *2022-12-19*|\n",
       "|*Comments*| *submitted to ApJ*|\n",
       "|**Abstract**| We have extracted 636 spectra taken at the positions of 583 transient sources from the third Data Release of the Hobby-Eberly Telescope Dark Energy eXperiment (HETDEX). The transients were discovered by the Zwicky Transient Facility (ZTF) during 2018 - 2022. The HETDEX spectra are useful to classify a large number of objects found by photometric surveys for free. We attempt to explore and classify the spectra by utilizing machine learning (ML) and template matching techniques. We have identified two transient sources, ZTF20aatpoos = AT2020fiz and ZTF19abdkelq as supernova candidates. We classify AT2020fiz as a Type IIP supernova observed ~10 days after explosion, and we propose ZTF19abdkelq as a likely Type Ia SN caught ~40 days after maximum light. ZTF photometry of these two sources are consistent with their classification as supernovae. Beside these two objects, we have confirmed several ZTF transients as variable AGNs based on their spectral appearance, and also determined the host galaxy types for several other ZTF transients. |\n",
       "|<p style=\"color:red\"> **ERROR** </p>| <p style=\"color:red\">latex error <urlopen error [Errno 104] Connection reset by peer></p> |"
      ],
      "text/plain": [
       "<IPython.core.display.Markdown object>"
      ]
     },
     "metadata": {},
     "output_type": "display_data"
    },
    {
     "data": {
      "text/markdown": [
       "\n",
       "|||\n",
       "|---:|:---|\n",
       "| [![arXiv](https://img.shields.io/badge/arXiv-arXiv:2212.08453-b31b1b.svg)](https://arxiv.org/abs/arXiv:2212.08453) | **The radio detection and accretion properties of the peculiar nuclear  transient AT 2019avd**  |\n",
       "|| Yanan Wang, et al. -- incl., <mark>Muryel Guolo</mark>, <mark>Yangkang Zhang</mark>, <mark>Lixin Dai</mark> |\n",
       "|*Appeared on*| *2022-12-19*|\n",
       "|*Comments*| *19 pages, 10 figures, 1 table. Submitted to MNRAS, comments are welcome*|\n",
       "|**Abstract**| AT 2019avd is a nuclear transient detected from infrared to soft X-rays, though its nature is yet unclear. The source has shown two consecutive flaring episodes in the optical and the infrared bands and its second flare was covered by X-ray monitoring programs. During this flare, the UVOT/Swift photometries revealed two plateaus: one observed after the peak and the other one appeared ~240 days later. Meanwhile, our NICER and XRT/Swift campaigns show two declines in the X-ray emission, one during the first optical plateau and one 70-90 days after the optical/UV decline. The evidence suggests that the optical/UV could not have been primarily originated from X-ray reprocessing. Furthermore, we detected a timelag of ~16-34 days between the optical and UV emission, which indicates the optical likely comes from UV reprocessing by a gas at a distance of 0.1-0.3 pc. We also report the first VLA and VLBA detection of this source at different frequencies and different stages of the second flare. The information obtained in the radio band - namely a steep and a late-time inverted radio spectrum, a high brightness temperature and a radio-loud state at late times - likely suggests the formation of a nascent compact jet. Considering all the multiwavelength properties of AT 2019avd, we propose that a TDE ignited the black hole at the first flare; then, a super-Eddington flaring accretion disc formed and settled to a sub-Eddington state by the end of the second flare, which supported the launch of a radio jet. |\n",
       "|<p style=\"color:red\"> **ERROR** </p>| <p style=\"color:red\">latex error <urlopen error [Errno 104] Connection reset by peer></p> |"
      ],
      "text/plain": [
       "<IPython.core.display.Markdown object>"
      ]
     },
     "metadata": {},
     "output_type": "display_data"
    },
    {
     "data": {
      "text/markdown": [
       "\n",
       "|||\n",
       "|---:|:---|\n",
       "| [![arXiv](https://img.shields.io/badge/arXiv-arXiv:2212.08477-b31b1b.svg)](https://arxiv.org/abs/arXiv:2212.08477) | **Evidence for the volatile-rich composition of a 1.5-$R_\\oplus$ planet**  |\n",
       "|| Caroline Piaulet, et al. -- incl., <mark>Heather A. Knutson</mark>, <mark>Helmut Lammer</mark> |\n",
       "|*Appeared on*| *2022-12-19*|\n",
       "|*Comments*| *Published in Nature Astronomy. 4 main figures, 10 extended data figures, 13 supplementary figures. 4 tables*|\n",
       "|**Abstract**| The population of planets smaller than approximately $1.7~R_\\oplus$ is widely interpreted as consisting of rocky worlds, generally referred to as super-Earths. This picture is largely corroborated by radial-velocity (RV) mass measurements for close-in super-Earths but lacks constraints at lower insolations. Here we present the results of a detailed study of the Kepler-138 system using 13 Hubble and Spitzer transit observations of the warm-temperate $1.51\\pm0.04~R_\\oplus$ planet Kepler-138 d ($T_{\\mathrm{eq, A_B=0.3}}$~350 K) combined with new Keck/HIRES RV measurements of its host star. We find evidence for a volatile-rich \"water world\" nature of Kepler-138 d, with a large fraction of its mass contained in a thick volatile layer. This finding is independently supported by transit timing variations, RV observations ($M_d=2.1_{-0.7}^{+0.6}~M_\\oplus$), as well as the flat optical/IR transmission spectrum. Quantitatively, we infer a composition of $11_{-4}^{+3}$\\% volatiles by mass or ~51% by volume, with a 2000 km deep water mantle and atmosphere on top of a core with an Earth-like silicates/iron ratio. Any hypothetical hydrogen layer consistent with the observations ($<0.003~M_\\oplus$) would have swiftly been lost on a ~10 Myr timescale. The bulk composition of Kepler-138 d therefore resembles those of the icy moons rather than the terrestrial planets in the solar system. We conclude that not all super-Earth-sized planets are rocky worlds, but that volatile-rich water worlds exist in an overlapping size regime, especially at lower insolations. Finally, our photodynamical analysis also reveals that Kepler-138 c ($R_c=1.51 \\pm 0.04~R_\\oplus$, $M_c=2.3_{-0.5}^{+0.6}~M_\\oplus$) is a slightly warmer twin of Kepler-138 d, i.e., another water world in the same system, and we infer the presence of Kepler-138 e, a likely non-transiting planet at the inner edge of the habitable zone. |\n",
       "|<p style=\"color:red\"> **ERROR** </p>| <p style=\"color:red\">latex error <urlopen error [Errno 104] Connection reset by peer></p> |"
      ],
      "text/plain": [
       "<IPython.core.display.Markdown object>"
      ]
     },
     "metadata": {},
     "output_type": "display_data"
    },
    {
     "data": {
      "text/markdown": [
       "\n",
       "|||\n",
       "|---:|:---|\n",
       "| [![arXiv](https://img.shields.io/badge/arXiv-arXiv:2212.08504-b31b1b.svg)](https://arxiv.org/abs/arXiv:2212.08504) | **Morphological Classification of Radio Galaxies with wGAN-supported  Augmentation**  |\n",
       "|| Lennart Rustige, et al. -- incl., <mark>Frank Gaede</mark> |\n",
       "|*Appeared on*| *2022-12-19*|\n",
       "|*Comments*| *12 pages, 7+2 figures, 1+2 tables. Submitted, comments welcome*|\n",
       "|**Abstract**| Machine learning techniques that perform morphological classification of astronomical sources often suffer from a scarcity of labelled training data. Here, we focus on the case of supervised deep learning models for the morphological classification of radio galaxies, which is particularly topical for the forthcoming large radio surveys. We demonstrate the use of generative models, specifically Wasserstein GANs (wGANs), to generate data for different classes of radio galaxies. Further, we study the impact of augmenting the training data with images from our wGAN on three different classification architectures. We find that this technique makes it possible to improve models for the morphological classification of radio galaxies. A simple Fully Connected Neural Network (FCN) benefits most from including generated images into the training set, with a considerable improvement of its classification accuracy. In addition, we find it is more difficult to improve complex classifiers. The classification performance of a Convolutional Neural Network (CNN) can be improved slightly. However, this is not the case for a Vision Transformer (ViT). |\n",
       "|<p style=\"color:red\"> **ERROR** </p>| <p style=\"color:red\">latex error <urlopen error [Errno 104] Connection reset by peer></p> |"
      ],
      "text/plain": [
       "<IPython.core.display.Markdown object>"
      ]
     },
     "metadata": {},
     "output_type": "display_data"
    },
    {
     "data": {
      "text/markdown": [
       "\n",
       "|||\n",
       "|---:|:---|\n",
       "| [![arXiv](https://img.shields.io/badge/arXiv-arXiv:2212.08517-b31b1b.svg)](https://arxiv.org/abs/arXiv:2212.08517) | **The hot gas distribution, X-ray luminosity and baryon budget in the  L-Galaxies semi-analytic model of galaxy formation**  |\n",
       "|| Wenxin Zhong, et al. -- incl., <mark>Prateek Sharma</mark> |\n",
       "|*Appeared on*| *2022-12-19*|\n",
       "|*Comments*| *18 pages, 15 figures, accepted for publication in MNRAS*|\n",
       "|**Abstract**| Hot ionized gas is important in the baryon cycle of galaxies and contributes the majority of their ``missing baryons''. Until now, most semi-analytic models of galaxy formation have paid little attention to hot gaseous haloes and their X-ray emission. In this paper, we adopt the one-dimensional model from Sharma et al. instead of the isothermal sphere to describe the radial distribution of hot gas in the L-Galaxies semi-analytic model. The hot gas halo can be divided into two parts according to the ratio of the local thermal instability time-scale and the free-fall time-scale: a cool core with $t_{\\rm TI}/t_{\\rm ff}=10$ and a stable outer halo with $t_{\\rm TI}/t_{\\rm ff}>10$. We update the prescriptions of cooling, feedback and stripping based on the new hot gas profiles, and then reproduce several X-ray observational results, like the radial profiles of hot gas density, and the scaling relations of X-ray luminosity and temperature. We find: (1) Consistent with observations, flatter density profiles in halo centers produce lower X-ray emission than an isothermal sphere; (2) Cool core regions prone to precipitation have higher gas temperature than the virial temperature, and a larger $T_{\\rm X}/T_{\\rm 200}$ ratio in smaller haloes leads to a steeper slope in the $L_{\\rm X}-T_{\\rm X}$ relation; (3) The ionized gas in the unbounded reservoir and low temperature intergalactic gas in low mass haloes could be the main components of the halo ``missing baryons''. Our model outputs can predict the observations of hot gas in the nearby universe and produce mock surveys of baryons probed by future X-ray telescopes. |\n",
       "|<p style=\"color:red\"> **ERROR** </p>| <p style=\"color:red\">latex error <urlopen error [Errno 104] Connection reset by peer></p> |"
      ],
      "text/plain": [
       "<IPython.core.display.Markdown object>"
      ]
     },
     "metadata": {},
     "output_type": "display_data"
    },
    {
     "data": {
      "text/markdown": [
       "\n",
       "|||\n",
       "|---:|:---|\n",
       "| [![arXiv](https://img.shields.io/badge/arXiv-arXiv:2212.08528-b31b1b.svg)](https://arxiv.org/abs/arXiv:2212.08528) | **The TRAPUM L-band survey for pulsars in Fermi-LAT gamma-ray sources**  |\n",
       "|| C. J. Clark, et al. -- incl., <mark>M. Kramer</mark> |\n",
       "|*Appeared on*| *2022-12-19*|\n",
       "|*Comments*| *17 pages, 8 figures, accepted for publication in MNRAS*|\n",
       "|**Abstract**| More than 100 millisecond pulsars (MSPs) have been discovered in radio observations of gamma-ray sources detected by the Fermi Large Area Telescope (LAT), but hundreds of pulsar-like sources remain unidentified. Here we present the first results from the targeted survey of Fermi-LAT sources being performed by the Transients and Pulsars with MeerKAT (TRAPUM) Large Survey Project. We observed 79 sources identified as possible gamma-ray pulsar candidates by a Random Forest classification of unassociated sources from the 4FGL catalogue. Each source was observed for 10 minutes on two separate epochs using MeerKAT's L-band receiver (856-1712 MHz), with typical pulsed flux density sensitivities of $\\sim$100$\\,\\mu$Jy. Nine new MSPs were discovered, eight of which are in binary systems, including two eclipsing redbacks and one system, PSR J1526$-$2744, that appears to have a white dwarf companion in an unusually compact 5 hr orbit. We obtained phase-connected timing solutions for two of these MSPs, enabling the detection of gamma-ray pulsations in the Fermi-LAT data. A follow-up search for continuous gravitational waves from PSR J1526$-$2744 in Advanced LIGO data using the resulting Fermi-LAT timing ephemeris yielded no detection, but sets an upper limit on the neutron star ellipticity of $2.45\\times10^{-8}$. We also detected X-ray emission from the redback PSR J1803$-$6707 in data from the first eROSITA all-sky survey, likely due to emission from an intra-binary shock. |\n",
       "|<p style=\"color:red\"> **ERROR** </p>| <p style=\"color:red\">latex error <urlopen error [Errno 104] Connection reset by peer></p> |"
      ],
      "text/plain": [
       "<IPython.core.display.Markdown object>"
      ]
     },
     "metadata": {},
     "output_type": "display_data"
    },
    {
     "data": {
      "text/markdown": [
       "\n",
       "|||\n",
       "|---:|:---|\n",
       "| [![arXiv](https://img.shields.io/badge/arXiv-arXiv:2212.08249-b31b1b.svg)](https://arxiv.org/abs/arXiv:2212.08249) | **Phase-space Properties and Chemistry of the Sagittarius Stellar Stream  Down to the Extremely Metal-poor ($\\rm[Fe/H] \\lesssim -3$) Regime**  |\n",
       "|| <mark>Guilherme Limberg</mark>, et al. -- incl., <mark>Young Sun Lee</mark> |\n",
       "|*Appeared on*| *2022-12-19*|\n",
       "|*Comments*| *Submitted to ApJ. Comments are welcomed and sincerely appreciated!*|\n",
       "|**Abstract**| In this work, we study the phase-space and chemical properties of Sagittarius (Sgr) stream, the tidal tails produced by the ongoing destruction of Sgr dwarf spheroidal (dSph) galaxy, focusing on its very metal-poor (VMP; $\\rm[Fe/H] < -2$) content. We combine spectroscopic and astrometric information from SEGUE and $Gaia$ EDR3, respectively, with data products from a new large-scale run of $\\texttt{StarHorse}$ spectro-photometric code. Our selection criteria yields ${\\sim}1600$ stream members, including ${>}200$ VMP stars. We find the leading arm ($b>0$) of Sgr stream to be more metal-poor, by ${\\sim}0.2$ dex, than the trailing one ($b<0$). With a subsample of turnoff and subgiant stars, we estimate this substructure's stellar population to be ${\\sim}1$ Gyr older than the thick disk's. With the aid of an $N$-body model of the Sgr system, we verify that simulated particles stripped earlier (${>}2$ Gyr ago) have present-day phase-space properties similar to lower-metallicity stream stars. Conversely, those stripped more recently (${<}2$ Gyr) are preferentially more akin to metal-rich ($\\rm[Fe/H] > -1$) members of the stream. Such correlation between kinematics and chemistry can be explained by the existence of a dynamically hotter, less centrally-concentrated, and more metal-poor population in Sgr dSph prior to its disruption, implying that this galaxy was able to develop a metallicity gradient before its accretion. Finally, we discovered several carbon-enhanced metal-poor ($\\rm[C/Fe] > +0.7$ and $\\rm[Fe/H] \\leq -1.5$) stars in Sgr stream, which is in tension with current observations of its remaining core where such objects are not found. |\n",
       "|<p style=\"color:red\"> **ERROR** </p>| <p style=\"color:red\">latex error [Errno 104] Connection reset by peer</p> |"
      ],
      "text/plain": [
       "<IPython.core.display.Markdown object>"
      ]
     },
     "metadata": {},
     "output_type": "display_data"
    },
    {
     "data": {
      "text/markdown": [
       "\n",
       "|||\n",
       "|---:|:---|\n",
       "| [![arXiv](https://img.shields.io/badge/arXiv-arXiv:2212.08129-b31b1b.svg)](https://arxiv.org/abs/arXiv:2212.08129) | **Micro-arcsecond Astrometry Technology: Detector and Field Distortion  Calibration**  |\n",
       "|| Michael Shao, et al. -- incl., <mark>Chengxing Zhai</mark> |\n",
       "|*Appeared on*| *2022-12-19*|\n",
       "|*Comments*| *16 pages, 10 figures, to be submitted to PASP*|\n",
       "|**Abstract**| Microarcsecond (uas) astrometry provides an indispensable way to survey earth-like exoplanets and fully characterize the orbits and masses for assessing their habitability. Highly accurate astrometric measurements can also probe the nature of dark matter, the primordial universe, black holes, and neutron stars for new astrophysics. This paper presents technology for calibrating array detectors and field distortions to achieve narrow field uas astrometry using a 6 m telescope with a focal plane array detector. |\n",
       "|<p style=\"color:red\"> **ERROR** </p>| <p style=\"color:red\">latex error not a gzip file</p> |"
      ],
      "text/plain": [
       "<IPython.core.display.Markdown object>"
      ]
     },
     "metadata": {},
     "output_type": "display_data"
    }
   ],
   "source": [
    "import datetime\n",
    "today = str(datetime.date.today())\n",
    "logfile = f\"_build/html/logs/log-{today}.md\"\n",
    "\n",
    "\n",
    "with open(logfile, 'w') as logs:\n",
    "    # Success\n",
    "    logs.write(f'# Arxiv on Deck 2: Logs - {today}\\n\\n')\n",
    "    logs.write(\"\"\"* Arxiv had {0:,d} new papers\\n\"\"\".format(len(new_papers)))\n",
    "    logs.write(\"\"\"    * {0:,d} with possible author matches\\n\\n\"\"\".format(len(candidates)))\n",
    "    logs.write(\"## Sucessful papers\\n\\n\")\n",
    "    display(Markdown(\"## Successful papers\"))\n",
    "    success = [k[0] for k in documents]\n",
    "    for candid in candidates:\n",
    "        if candid['identifier'].split(':')[-1] in success:\n",
    "            display(candid)\n",
    "            logs.write(candid.generate_markdown_text() + '\\n\\n')\n",
    "\n",
    "    ## failed\n",
    "    logs.write(\"## Failed papers\\n\\n\")\n",
    "    display(Markdown(\"## Failed papers\"))\n",
    "    failed = sorted(failed, key=lambda x: x[1])\n",
    "    current_reason = \"\"\n",
    "    for paper, reason in failed:\n",
    "        if 'affiliation' in reason:\n",
    "            color = 'green'\n",
    "        else:\n",
    "            color = 'red'\n",
    "        data = Markdown(\n",
    "                paper.generate_markdown_text() + \n",
    "                f'\\n|<p style=\"color:{color:s}\"> **ERROR** </p>| <p style=\"color:{color:s}\">{reason:s}</p> |'\n",
    "               )\n",
    "        if reason != current_reason:\n",
    "            logs.write(f'### {reason:s} \\n\\n')\n",
    "            current_reason = reason\n",
    "        logs.write(data.data + '\\n\\n')\n",
    "        \n",
    "        # only display here the important errors (all in logs)\n",
    "        # if color in ('red',):\n",
    "        display(data)"
   ]
  },
  {
   "cell_type": "markdown",
   "id": "472d20ee",
   "metadata": {
    "papermill": {
     "duration": 0.00718,
     "end_time": "2022-12-19T04:06:59.542428",
     "exception": false,
     "start_time": "2022-12-19T04:06:59.535248",
     "status": "completed"
    },
    "tags": []
   },
   "source": [
    "## Export documents\n",
    "\n",
    "We now write the .md files and export relevant images"
   ]
  },
  {
   "cell_type": "code",
   "execution_count": 7,
   "id": "d426aed9",
   "metadata": {
    "execution": {
     "iopub.execute_input": "2022-12-19T04:06:59.558440Z",
     "iopub.status.busy": "2022-12-19T04:06:59.557882Z",
     "iopub.status.idle": "2022-12-19T04:06:59.565147Z",
     "shell.execute_reply": "2022-12-19T04:06:59.564488Z"
    },
    "papermill": {
     "duration": 0.016976,
     "end_time": "2022-12-19T04:06:59.566621",
     "exception": false,
     "start_time": "2022-12-19T04:06:59.549645",
     "status": "completed"
    },
    "tags": []
   },
   "outputs": [],
   "source": [
    "def export_markdown_summary(md: str, md_fname:str, directory: str):\n",
    "    \"\"\"Export MD document and associated relevant images\"\"\"\n",
    "    import os\n",
    "    import shutil\n",
    "    import re\n",
    "\n",
    "    if (os.path.exists(directory) and not os.path.isdir(directory)):\n",
    "        raise RuntimeError(f\"a non-directory file exists with name {directory:s}\")\n",
    "\n",
    "    if (not os.path.exists(directory)):\n",
    "        print(f\"creating directory {directory:s}\")\n",
    "        os.mkdir(directory)\n",
    "\n",
    "    fig_fnames = (re.compile(r'\\[Fig.*\\]\\((.*)\\)').findall(md) + \n",
    "                  re.compile(r'\\<img src=\"([^>\\s]*)\"[^>]*/>').findall(md))\n",
    "    for fname in fig_fnames:\n",
    "        if 'http' in fname:\n",
    "            # No need to copy online figures\n",
    "            continue\n",
    "        destdir = os.path.join(directory, os.path.dirname(fname))\n",
    "        destfname = os.path.join(destdir, os.path.basename(fname))\n",
    "        try:\n",
    "            os.makedirs(destdir)\n",
    "        except FileExistsError:\n",
    "            pass\n",
    "        shutil.copy(fname, destfname)\n",
    "    with open(os.path.join(directory, md_fname), 'w') as fout:\n",
    "        fout.write(md)\n",
    "    print(\"exported in \", os.path.join(directory, md_fname))\n",
    "    [print(\"    + \" + os.path.join(directory,fk)) for fk in fig_fnames]"
   ]
  },
  {
   "cell_type": "code",
   "execution_count": 8,
   "id": "014d04a4",
   "metadata": {
    "execution": {
     "iopub.execute_input": "2022-12-19T04:06:59.582289Z",
     "iopub.status.busy": "2022-12-19T04:06:59.581871Z",
     "iopub.status.idle": "2022-12-19T04:06:59.585061Z",
     "shell.execute_reply": "2022-12-19T04:06:59.584454Z"
    },
    "papermill": {
     "duration": 0.012639,
     "end_time": "2022-12-19T04:06:59.586517",
     "exception": false,
     "start_time": "2022-12-19T04:06:59.573878",
     "status": "completed"
    },
    "tags": []
   },
   "outputs": [],
   "source": [
    "for paper_id, md in documents:\n",
    "    export_markdown_summary(md, f\"{paper_id:s}.md\", '_build/html/')"
   ]
  },
  {
   "cell_type": "markdown",
   "id": "f087a0a7",
   "metadata": {
    "papermill": {
     "duration": 0.007262,
     "end_time": "2022-12-19T04:06:59.601561",
     "exception": false,
     "start_time": "2022-12-19T04:06:59.594299",
     "status": "completed"
    },
    "tags": []
   },
   "source": [
    "## Display the papers\n",
    "\n",
    "Not necessary but allows for a quick check."
   ]
  },
  {
   "cell_type": "code",
   "execution_count": 9,
   "id": "fd25f625",
   "metadata": {
    "execution": {
     "iopub.execute_input": "2022-12-19T04:06:59.617603Z",
     "iopub.status.busy": "2022-12-19T04:06:59.617051Z",
     "iopub.status.idle": "2022-12-19T04:06:59.620534Z",
     "shell.execute_reply": "2022-12-19T04:06:59.619880Z"
    },
    "papermill": {
     "duration": 0.013214,
     "end_time": "2022-12-19T04:06:59.622048",
     "exception": false,
     "start_time": "2022-12-19T04:06:59.608834",
     "status": "completed"
    },
    "scrolled": false,
    "tags": []
   },
   "outputs": [],
   "source": [
    "[display(Markdown(k[1])) for k in documents];"
   ]
  },
  {
   "cell_type": "markdown",
   "id": "873873a4",
   "metadata": {
    "papermill": {
     "duration": 0.007378,
     "end_time": "2022-12-19T04:06:59.636712",
     "exception": false,
     "start_time": "2022-12-19T04:06:59.629334",
     "status": "completed"
    },
    "tags": []
   },
   "source": [
    "# Create HTML index"
   ]
  },
  {
   "cell_type": "code",
   "execution_count": 10,
   "id": "cf665672",
   "metadata": {
    "execution": {
     "iopub.execute_input": "2022-12-19T04:06:59.652779Z",
     "iopub.status.busy": "2022-12-19T04:06:59.652191Z",
     "iopub.status.idle": "2022-12-19T04:06:59.662169Z",
     "shell.execute_reply": "2022-12-19T04:06:59.661267Z"
    },
    "papermill": {
     "duration": 0.019666,
     "end_time": "2022-12-19T04:06:59.663683",
     "exception": false,
     "start_time": "2022-12-19T04:06:59.644017",
     "status": "completed"
    },
    "tags": []
   },
   "outputs": [
    {
     "name": "stdout",
     "output_type": "stream",
     "text": [
      "133  publications in the last 7 days.\n",
      "\t _build/html/2212.07332.md\n",
      "\t _build/html/2212.06434.md\n",
      "\t _build/html/2212.04710.md\n",
      "\t _build/html/2212.04026.md\n",
      "\t _build/html/2212.03563.md\n",
      "\t _build/html/2212.03514.md\n",
      "\t _build/html/2212.02667.md\n",
      "\t _build/html/2212.02627.md\n",
      "\t _build/html/2212.02235.md\n",
      "\t _build/html/2212.01707.md\n",
      "\t _build/html/2212.01526.md\n",
      "\t _build/html/2212.01397.md\n",
      "\t _build/html/2212.01291.md\n",
      "\t _build/html/2212.01281.md\n",
      "\t _build/html/2212.00812.md\n",
      "\t _build/html/2212.00811.md\n",
      "\t _build/html/2212.00806.md\n",
      "\t _build/html/2212.00047.md\n",
      "\t _build/html/2212.00032.md\n",
      "\t _build/html/2211.16996.md\n",
      "\t _build/html/2211.16510.md\n",
      "\t _build/html/2211.16123.md\n",
      "\t _build/html/2211.15816.md\n",
      "\t _build/html/2211.15698.md\n",
      "\t _build/html/2211.15576.md\n",
      "\t _build/html/2211.15434.md\n",
      "\t _build/html/2211.15288.md\n",
      "\t _build/html/2211.15224.md\n",
      "\t _build/html/2211.14543.md\n",
      "\t _build/html/2211.14330.md\n",
      "\t _build/html/2211.14322.md\n",
      "\t _build/html/2211.14132.md\n",
      "\t _build/html/2211.13811.md\n",
      "\t _build/html/2211.13426.md\n",
      "\t _build/html/2211.13318.md\n",
      "\t _build/html/2211.13146.md\n",
      "\t _build/html/2211.12613.md\n",
      "\t _build/html/2211.11767.md\n",
      "\t _build/html/2211.09840.md\n",
      "\t _build/html/2211.09217.md\n",
      "\t _build/html/2211.08493.md\n",
      "\t _build/html/2211.08487.md\n",
      "\t _build/html/2211.08294.md\n",
      "\t _build/html/2211.07667.md\n",
      "\t _build/html/2211.07659.md\n",
      "\t _build/html/2211.06454.md\n",
      "\t _build/html/2211.06205.md\n",
      "\t _build/html/2211.06194.md\n",
      "\t _build/html/2211.05022.md\n",
      "\t _build/html/2211.04048.md\n",
      "\t _build/html/2211.03641.md\n",
      "\t _build/html/2211.02502.md\n",
      "\t _build/html/2211.01474.md\n",
      "\t _build/html/2211.00667.md\n",
      "\t _build/html/2211.00657.md\n",
      "\t _build/html/2211.00087.md\n",
      "\t _build/html/2211.00036.md\n",
      "\t _build/html/2211.00020.md\n",
      "\t _build/html/2211.00010.md\n",
      "\t _build/html/2210.17434.md\n",
      "\t _build/html/2210.12412.md\n",
      "\t _build/html/2210.11926.md\n",
      "\t _build/html/2210.11551.md\n",
      "\t _build/html/2210.11103.md\n",
      "\t _build/html/2210.10707.md\n",
      "\t _build/html/2210.09930.md\n",
      "\t _build/html/2210.08996.md\n",
      "\t _build/html/2210.08517.md\n",
      "\t _build/html/2210.08510.md\n",
      "\t _build/html/2210.08078.md\n",
      "\t _build/html/2210.06504.md\n",
      "\t _build/html/2210.05695.md\n",
      "\t _build/html/2210.05595.md\n",
      "\t _build/html/2210.05505.md\n",
      "\t _build/html/2210.04721.md\n",
      "\t _build/html/2210.03615.md\n",
      "\t _build/html/2210.01811.md\n",
      "\t _build/html/2210.01809.md\n",
      "\t _build/html/2210.01556.md\n",
      "\t _build/html/2210.00863.md\n",
      "\t _build/html/2210.00560.md\n",
      "\t _build/html/2209.15403.md\n",
      "\t _build/html/2209.15110.md\n",
      "\t _build/html/2209.14410.md\n",
      "\t _build/html/2209.14396.md\n",
      "\t _build/html/2209.13717.md\n",
      "\t _build/html/2209.13336.md\n",
      "\t _build/html/2209.12906.md\n",
      "\t _build/html/2209.11781.md\n",
      "\t _build/html/2209.11602.md\n",
      "\t _build/html/2209.11248.md\n",
      "\t _build/html/2209.11096.md\n",
      "\t _build/html/2209.10618.md\n",
      "\t _build/html/2209.09914.md\n",
      "\t _build/html/2209.09823.md\n",
      "\t _build/html/2209.08242.md\n",
      "\t _build/html/2209.08120.md\n",
      "\t _build/html/2209.08106.md\n",
      "\t _build/html/2209.07962.md\n",
      "\t _build/html/2209.07931.md\n",
      "\t _build/html/2209.06833.md\n",
      "\t _build/html/2209.05814.md\n",
      "\t _build/html/2209.05593.md\n",
      "\t _build/html/2209.04304.md\n",
      "\t _build/html/2209.03367.md\n",
      "\t _build/html/2209.02872.md\n",
      "\t _build/html/2209.02725.md\n",
      "\t _build/html/2209.02722.md\n",
      "\t _build/html/2209.02092.md\n",
      "\t _build/html/2209.01125.md\n",
      "\t _build/html/2209.00828.md\n",
      "\t _build/html/2209.00363.md\n",
      "\t _build/html/2208.14927.md\n",
      "\t _build/html/2208.09335.md\n",
      "\t _build/html/2208.08872.md\n",
      "\t _build/html/2204.06393.md\n",
      "\t _build/html/2204.03335.md\n",
      "\t _build/html/2204.03253.md\n",
      "\t _build/html/2204.02998.md\n",
      "\t _build/html/2204.02109.md\n",
      "\t _build/html/2204.02017.md\n",
      "\t _build/html/2204.01824.md\n",
      "\t _build/html/2204.01758.md\n",
      "\t _build/html/2204.01245.md\n",
      "\t _build/html/2204.00793.md\n",
      "\t _build/html/2204.00342.md\n",
      "\t _build/html/2203.16959.md\n",
      "\t _build/html/2203.16856.md\n",
      "\t _build/html/2203.16735.md\n",
      "\t _build/html/2203.16734.md\n",
      "\t _build/html/2203.16504.md\n",
      "\t _build/html/2203.15822.md\n",
      "\t _build/html/2203.15811.md\n"
     ]
    }
   ],
   "source": [
    "from datetime import datetime, timedelta, timezone\n",
    "from glob import glob\n",
    "\n",
    "files = glob('_build/html/*.md')\n",
    "days = 7\n",
    "now = datetime.today()\n",
    "res = []\n",
    "for fk in files:\n",
    "    stat_result = os.stat(fk).st_ctime\n",
    "    modified = datetime.fromtimestamp(stat_result, tz=timezone.utc).replace(tzinfo=None)\n",
    "    delta = now.today() - modified\n",
    "    if delta <= timedelta(days=days):\n",
    "        res.append((delta.seconds, fk))\n",
    "res = [k[1] for k in reversed(sorted(res, key=lambda x:x[1]))]\n",
    "npub = len(res)\n",
    "print(len(res), f\" publications in the last {days:d} days.\")\n",
    "[ print('\\t', k) for k in res ];"
   ]
  },
  {
   "cell_type": "code",
   "execution_count": 11,
   "id": "52ca0208",
   "metadata": {
    "execution": {
     "iopub.execute_input": "2022-12-19T04:06:59.679845Z",
     "iopub.status.busy": "2022-12-19T04:06:59.679436Z",
     "iopub.status.idle": "2022-12-19T04:06:59.685595Z",
     "shell.execute_reply": "2022-12-19T04:06:59.684955Z"
    },
    "papermill": {
     "duration": 0.015796,
     "end_time": "2022-12-19T04:06:59.687049",
     "exception": false,
     "start_time": "2022-12-19T04:06:59.671253",
     "status": "completed"
    },
    "scrolled": false,
    "tags": []
   },
   "outputs": [],
   "source": [
    "def create_carousel(npub=4):\n",
    "    \"\"\" Generate the HTML code for a carousel with `npub` slides \"\"\"\n",
    "    carousel = [\"\"\"<section class=\"carousel\" aria-label=\"Gallery\">\"\"\",\n",
    "                \"\"\"  <ol class=\"carousel__viewport\">\"\"\",\n",
    "    ]\n",
    "    for k in range(1, npub + 1):\n",
    "        prev_ = k - 1\n",
    "        next_ = k + 1\n",
    "        if prev_ <= 0:\n",
    "            prev_ = npub\n",
    "        if next_ > npub:\n",
    "            next_ = 1\n",
    "        text  = f\"\"\"    <li id=\"carousel__slide{k}\" tabindex=\"0\" class=\"carousel__slide\">\\n\"\"\"\n",
    "        text += f\"\"\"       <div class=\"carousel__snapper\">\\n\"\"\"\n",
    "        text += f\"\"\"         <a href=\"#carousel__slide{prev_}\" class=\"carousel__prev\">Go to previous slide</a>\\n\"\"\"\n",
    "        text += f\"\"\"         <a href=\"#carousel__slide{next_}\" class=\"carousel__next\">Go to next slide</a>\\n\"\"\"\n",
    "        text += f\"\"\"         <div id=\"slide{k}_content\" class=\"md_view\" >Content {k}</div>\\n\"\"\"\n",
    "        text += f\"\"\"       </div>\\n\"\"\"\n",
    "        text += f\"\"\"    </li>\"\"\"\n",
    "        carousel.append(text)\n",
    "\n",
    "    carousel.extend([\n",
    "        \"\"\"  </ol>\"\"\",\n",
    "        \"\"\"  <aside class=\"carousel__navigation\">\"\"\",\n",
    "        \"\"\"    <ol class=\"carousel__navigation-list\">\"\"\"])\n",
    "\n",
    "    for k in range(1, npub + 1):\n",
    "        text  = f\"\"\"      <li class=\"carousel__navigation-item\">\\n\"\"\"\n",
    "        text += f\"\"\"        <a href=\"#carousel__slide{k}\" class=\"carousel__navigation-button\">Go to {k}</a>\\n\"\"\"\n",
    "        text += f\"\"\"      </li>\"\"\"\n",
    "        carousel.append(text)\n",
    "    carousel.extend([\"\"\"    </ol>\"\"\", \"\"\"  </aside>\"\"\", \"\"\"</section>\"\"\"])\n",
    "\n",
    "    return '\\n'.join(carousel)"
   ]
  },
  {
   "cell_type": "code",
   "execution_count": 12,
   "id": "a6eac5b6",
   "metadata": {
    "execution": {
     "iopub.execute_input": "2022-12-19T04:06:59.703481Z",
     "iopub.status.busy": "2022-12-19T04:06:59.703265Z",
     "iopub.status.idle": "2022-12-19T04:06:59.710064Z",
     "shell.execute_reply": "2022-12-19T04:06:59.708977Z"
    },
    "papermill": {
     "duration": 0.016853,
     "end_time": "2022-12-19T04:06:59.711571",
     "exception": false,
     "start_time": "2022-12-19T04:06:59.694718",
     "status": "completed"
    },
    "scrolled": false,
    "tags": []
   },
   "outputs": [],
   "source": [
    "carousel = create_carousel(npub)\n",
    "docs = ', '.join(['\"{0:s}\"'.format(k.split('/')[-1]) for k in res])\n",
    "slides = ', '.join([f'\"slide{k}_content\"' for k in range(1, npub + 1)])\n",
    "\n",
    "script = f\"\"\"\n",
    "const docs = [{docs}]\n",
    "\n",
    "const slides = [{slides}]\n",
    "\"\"\" + \"\"\"\n",
    "async function run() {\n",
    "    for (let i = 0; i < docs.length; i++) {\n",
    "        let file = await fetch(docs[i]);\n",
    "        let text = await file.text()\n",
    "        document.getElementById(slides[i]).innerHTML =\n",
    "            marked.parse(text);\n",
    "    }\n",
    "    hljs.highlightAll();\n",
    "}\n",
    "run()\n",
    "\"\"\"\n",
    "\n",
    "page = f\"\"\"<!doctype html>\n",
    "<html lang=\"en\">\n",
    "\n",
    "<head>\n",
    "  <meta charset=\"utf-8\">\n",
    "  <meta name=\"viewport\" content=\"width=device-width, initial-scale=1\">\n",
    "  <!-- Bootstrap CSS -->\n",
    "  <link href=\"https://cdn.jsdelivr.net/npm/bootstrap@5.0.2/dist/css/bootstrap.min.css\" rel=\"stylesheet\"\n",
    "   integrity=\"sha384-EVSTQN3/azprG1Anm3QDgpJLIm9Nao0Yz1ztcQTwFspd3yD65VohhpuuCOmLASjC\" crossorigin=\"anonymous\">\n",
    "  <!-- highlight.js CSS -->\n",
    "  <link rel=\"stylesheet\" href=\"https://cdnjs.cloudflare.com/ajax/libs/highlight.js/11.1.0/styles/default.min.css\">\n",
    "  <!-- Mathjax 3 -->\n",
    "  <script type=\"text/javascript\" id=\"MathJax-config\" src=\"mathjax_config.js\"> </script>\n",
    "  <script type=\"text/javascript\" id=\"MathJax-script\" async \n",
    "    src=\"https://cdn.jsdelivr.net/npm/mathjax@3/es5/tex-mml-chtml.js\">\n",
    "  </script>\n",
    "  <link rel=\"stylesheet\" href=\"index_carousel.css\">\n",
    "  <link rel=\"icon\" type=\"image/x-icon\" href=\"https://www.mpia.de/assets/touch-icon-32x32-a66937bcebc4e8894ebff1f41a366c7c7220fd97a38869ee0f2db65a9f59b6c1.png\">\n",
    "  <title>MPIA Arxiv on deck!</title>\n",
    "</head>\n",
    "\n",
    "<body>\n",
    "  <div id=\"header\"> <img src=\"header_banner.png\" width=\"100%\"></div>\n",
    "  <div id=\"suptitle\"> 7-day archives </div>\n",
    "  <div id=\"info\">\n",
    "    <img src=\"https://pngimg.com/uploads/github/github_PNG58.png\" height=30rem></img>\n",
    "    <a href=https://github.com/mpi-astronomy/arxiv_display style=\"color:black;\">github/mpi-astronomy/arxiv_display</a> \n",
    "  </div>\n",
    "  {carousel:s}\n",
    "</body>\n",
    "\n",
    "<!-- Render Markdown -->\n",
    "\n",
    "<body>\n",
    "  <!-- highlight.js: https://highlightjs.org/download/ -->\n",
    "  <script src=\"https://cdnjs.cloudflare.com/ajax/libs/highlight.js/11.5.0/highlight.min.js\"></script>\n",
    "  <!-- marked.js -->\n",
    "  <script src=\"https://cdn.jsdelivr.net/npm/marked/marked.min.js\"></script>\n",
    "  <script>{script:s}</script>\n",
    "</body>\n",
    "</html>\n",
    "\"\"\"\n",
    "with open(\"_build/html/index_7days.html\", 'w') as fout:\n",
    "    fout.write(page)"
   ]
  },
  {
   "cell_type": "markdown",
   "id": "1cebacbc",
   "metadata": {
    "papermill": {
     "duration": 0.007472,
     "end_time": "2022-12-19T04:06:59.726640",
     "exception": false,
     "start_time": "2022-12-19T04:06:59.719168",
     "status": "completed"
    },
    "tags": []
   },
   "source": [
    "# Debugging papers"
   ]
  },
  {
   "cell_type": "raw",
   "id": "debe7cc6",
   "metadata": {
    "papermill": {
     "duration": 0.007486,
     "end_time": "2022-12-19T04:06:59.741696",
     "exception": false,
     "start_time": "2022-12-19T04:06:59.734210",
     "status": "completed"
    },
    "tags": []
   },
   "source": [
    "raise NotImplementedError(\"Manual Stop\")"
   ]
  },
  {
   "cell_type": "raw",
   "id": "eb169192",
   "metadata": {
    "papermill": {
     "duration": 0.007437,
     "end_time": "2022-12-19T04:06:59.756662",
     "exception": false,
     "start_time": "2022-12-19T04:06:59.749225",
     "status": "completed"
    },
    "scrolled": true,
    "tags": []
   },
   "source": [
    "from IPython.display import display, Markdown\n",
    "from TexSoup import TexSoup\n",
    "import re\n",
    "\n",
    "def bracket_error(source: str):\n",
    "    \"\"\" Find problematic portions of the document \"\"\"\n",
    "    \n",
    "    print(\"len(source)\", len(source))\n",
    "    \n",
    "    # Checking header\n",
    "    begin_doc = next(re.finditer(r'\\\\begin\\{document\\}', doc.source)).span()[1]\n",
    "    header = source[:begin_doc]\n",
    "    text = header + r\"\\n\\end{document}\"\n",
    "\n",
    "    try:\n",
    "        # print(\"Header check... \", end='')\n",
    "        TexSoup(text)\n",
    "        display(Markdown(f\"**[OK]** - Header\"))\n",
    "    except:\n",
    "        raise RuntimeError(\"Error in the header\")\n",
    "        \n",
    "    # Check the text per section until the end.\n",
    "    # Do not stop and try them all.\n",
    "    \n",
    "    problematic_text = []\n",
    "    \n",
    "    sections = ([(0, begin_doc, 'until first section')] + \n",
    "                [(g.span()[0], g.span()[1], g.group()) for g in re.finditer(r'\\\\section\\{.*\\}', source)] +\n",
    "                [(g.span()[0], g.span()[1], g.group()) for g in re.finditer(r'\\\\begin\\{appendix\\}', source)]\n",
    "               )\n",
    "    sections.append([len(source), len(source), 'end'])\n",
    "    \n",
    "    sections = sorted(sections, key=lambda x: x[0])\n",
    "    \n",
    "    prev_pos, prev_name = (0, 'header')\n",
    "    parsed = []\n",
    "    \n",
    "    for span, span_end, name in sections:\n",
    "\n",
    "        if span - prev_pos <= 0:\n",
    "            continue\n",
    "            \n",
    "\n",
    "        text = source[prev_pos:span]\n",
    "        if prev_pos > begin_doc:\n",
    "            text = r\"\\n\\begin{document}\" + text + r\"\\n\\end{document}\"\n",
    "        else:\n",
    "            text = text + r\"\\n\\end{document}\"\n",
    "        try:\n",
    "            #print(f\"{prev_pos}:{prev_name}-->{span}:{name} check... \", end='')\n",
    "            parsed.append(TexSoup(text, tolerance=1))  # allow not ending env\n",
    "            display(Markdown(f\"**[OK]** - *{prev_pos}*:{prev_name} &rarr; *{span}*:{name}\"))\n",
    "            # print(\"ok\")\n",
    "\n",
    "            prev_pos = span\n",
    "            prev_name = name\n",
    "        except:\n",
    "            # print(f\"error between {prev_pos} and {span}\")\n",
    "            display(Markdown(f\"**[ERR]** *{prev_pos}*:{prev_name} &rarr; *{span}*:{name}\"))\n",
    "            problematic_text.append((prev_pos, source[prev_pos:span]))\n",
    "            prev_pos = span\n",
    "            prev_name = name\n",
    "            # raise\n",
    "    return problematic_text, parsed\n",
    "\n",
    "\n",
    "def check_environment(text, offset=0):\n",
    "    \"\"\" Check environment \"\"\"\n",
    "    env = re.compile(r\"\\\\begin\\{(?P<env>.*)\\}(.*)\\\\end\\{(?P=env)\\}\", re.DOTALL)\n",
    "\n",
    "    for match in env.finditer(text):\n",
    "        beg, end = match.span()\n",
    "        beg += offset\n",
    "        end += offset\n",
    "        envname = match.groups()[0]\n",
    "        try:\n",
    "            latex.TexSoup(match.group())\n",
    "        except Exception as e:\n",
    "            display(e)\n",
    "            print(f\"Error in {envname:s} between {beg} and {end}\")\n",
    "            return match.groups()[1], beg, end"
   ]
  },
  {
   "cell_type": "raw",
   "id": "2315e835",
   "metadata": {
    "papermill": {
     "duration": 0.007472,
     "end_time": "2022-12-19T04:06:59.771688",
     "exception": false,
     "start_time": "2022-12-19T04:06:59.764216",
     "status": "completed"
    },
    "scrolled": false,
    "tags": []
   },
   "source": [
    "import importlib\n",
    "importlib.reload(latex)\n",
    "which = \"2204.03253\"\n",
    "paper_id = f'{which:s}'\n",
    "folder = f'tmp_{paper_id:s}'\n",
    "\n",
    "if not os.path.isdir(folder):\n",
    "    folder = retrieve_document_source(f\"{paper_id}\", f'tmp_{paper_id}')\n",
    "\n",
    "try:\n",
    "    doc = latex.LatexDocument(folder, validation=validation)    \n",
    "except AffiliationError as affilerror:\n",
    "    msg = f\"ArXiv:{paper_id:s} is not an MPIA paper... \" + str(affilerror)\n",
    "    print(msg)\n",
    "\n",
    "\n",
    "# Hack because sometimes author parsing does not work well\n",
    "if (len(doc.authors) != len(paper['authors'])):\n",
    "    doc._authors = paper['authors']\n",
    "if (doc.abstract) in (None, ''):\n",
    "    doc._abstract = paper['abstract']\n",
    "\n",
    "doc.comment = get_markdown_badge(paper_id) + \" _\" + paper['comments'] + \"_\"\n",
    "doc.highlight_authors_in_list(hl_list)\n",
    "\n",
    "full_md = doc.generate_markdown_text()"
   ]
  },
  {
   "cell_type": "raw",
   "id": "dd3781db",
   "metadata": {
    "papermill": {
     "duration": 0.007415,
     "end_time": "2022-12-19T04:06:59.786625",
     "exception": false,
     "start_time": "2022-12-19T04:06:59.779210",
     "status": "completed"
    },
    "scrolled": false,
    "tags": []
   },
   "source": [
    "doc"
   ]
  },
  {
   "cell_type": "raw",
   "id": "c6eed834",
   "metadata": {
    "papermill": {
     "duration": 0.007438,
     "end_time": "2022-12-19T04:06:59.801603",
     "exception": false,
     "start_time": "2022-12-19T04:06:59.794165",
     "status": "completed"
    },
    "tags": []
   },
   "source": [
    "# [check_environment(k) for k in bracket_error(doc.source)]\n",
    "_, _, a = latex.get_content_per_section(doc.source, verbose=True)\n",
    "if not a:\n",
    "    print(\"no issues per section\")\n",
    "for ak in a:\n",
    "    r = check_environment(ak[1], offset=ak[0])\n",
    "    print(r[1], r[2])\n",
    "    print(r[0])"
   ]
  },
  {
   "cell_type": "code",
   "execution_count": null,
   "id": "71ce768a",
   "metadata": {
    "papermill": {
     "duration": 0.007585,
     "end_time": "2022-12-19T04:06:59.816850",
     "exception": false,
     "start_time": "2022-12-19T04:06:59.809265",
     "status": "completed"
    },
    "tags": []
   },
   "outputs": [],
   "source": []
  }
 ],
 "metadata": {
  "kernelspec": {
   "display_name": "Python 3.10.6 64-bit",
   "language": "python",
   "name": "python3"
  },
  "language_info": {
   "codemirror_mode": {
    "name": "ipython",
    "version": 3
   },
   "file_extension": ".py",
   "mimetype": "text/x-python",
   "name": "python",
   "nbconvert_exporter": "python",
   "pygments_lexer": "ipython3",
   "version": "3.9.16"
  },
  "papermill": {
   "default_parameters": {},
   "duration": 31.748069,
   "end_time": "2022-12-19T04:07:00.042240",
   "environment_variables": {},
   "exception": null,
   "input_path": "MPIA daily digest.ipynb",
   "output_path": "log.ipynb",
   "parameters": {},
   "start_time": "2022-12-19T04:06:28.294171",
   "version": "2.4.0"
  },
  "vscode": {
   "interpreter": {
    "hash": "e7370f93d1d0cde622a1f8e1c04877d8463912d04d973331ad4851f04de6915a"
   }
  },
  "widgets": {
   "application/vnd.jupyter.widget-state+json": {
    "state": {
     "0b1dd831155e4504a58b4d5baf07c6e5": {
      "model_module": "@jupyter-widgets/base",
      "model_module_version": "2.0.0",
      "model_name": "LayoutModel",
      "state": {
       "_model_module": "@jupyter-widgets/base",
       "_model_module_version": "2.0.0",
       "_model_name": "LayoutModel",
       "_view_count": null,
       "_view_module": "@jupyter-widgets/base",
       "_view_module_version": "2.0.0",
       "_view_name": "LayoutView",
       "align_content": null,
       "align_items": null,
       "align_self": null,
       "border_bottom": null,
       "border_left": null,
       "border_right": null,
       "border_top": null,
       "bottom": null,
       "display": null,
       "flex": null,
       "flex_flow": null,
       "grid_area": null,
       "grid_auto_columns": null,
       "grid_auto_flow": null,
       "grid_auto_rows": null,
       "grid_column": null,
       "grid_gap": null,
       "grid_row": null,
       "grid_template_areas": null,
       "grid_template_columns": null,
       "grid_template_rows": null,
       "height": null,
       "justify_content": null,
       "justify_items": null,
       "left": null,
       "margin": null,
       "max_height": null,
       "max_width": null,
       "min_height": null,
       "min_width": null,
       "object_fit": null,
       "object_position": null,
       "order": null,
       "overflow": null,
       "padding": null,
       "right": null,
       "top": null,
       "visibility": null,
       "width": null
      }
     },
     "0c61f44ef5bc433f9c022c5bd3c74be5": {
      "model_module": "@jupyter-widgets/base",
      "model_module_version": "2.0.0",
      "model_name": "LayoutModel",
      "state": {
       "_model_module": "@jupyter-widgets/base",
       "_model_module_version": "2.0.0",
       "_model_name": "LayoutModel",
       "_view_count": null,
       "_view_module": "@jupyter-widgets/base",
       "_view_module_version": "2.0.0",
       "_view_name": "LayoutView",
       "align_content": null,
       "align_items": null,
       "align_self": null,
       "border_bottom": null,
       "border_left": null,
       "border_right": null,
       "border_top": null,
       "bottom": null,
       "display": null,
       "flex": null,
       "flex_flow": null,
       "grid_area": null,
       "grid_auto_columns": null,
       "grid_auto_flow": null,
       "grid_auto_rows": null,
       "grid_column": null,
       "grid_gap": null,
       "grid_row": null,
       "grid_template_areas": null,
       "grid_template_columns": null,
       "grid_template_rows": null,
       "height": null,
       "justify_content": null,
       "justify_items": null,
       "left": null,
       "margin": null,
       "max_height": null,
       "max_width": null,
       "min_height": null,
       "min_width": null,
       "object_fit": null,
       "object_position": null,
       "order": null,
       "overflow": null,
       "padding": null,
       "right": null,
       "top": null,
       "visibility": null,
       "width": null
      }
     },
     "0c626f4cf4be42f99bdb4c24568b6733": {
      "model_module": "@jupyter-widgets/controls",
      "model_module_version": "2.0.0",
      "model_name": "HBoxModel",
      "state": {
       "_dom_classes": [],
       "_model_module": "@jupyter-widgets/controls",
       "_model_module_version": "2.0.0",
       "_model_name": "HBoxModel",
       "_view_count": null,
       "_view_module": "@jupyter-widgets/controls",
       "_view_module_version": "2.0.0",
       "_view_name": "HBoxView",
       "box_style": "",
       "children": [
        "IPY_MODEL_b90b8f846eee4a2f906729529b718356",
        "IPY_MODEL_3b75a4e85d9c47acac12af081a0af225",
        "IPY_MODEL_3054bed6a9ae46e49d874f0874c2975a"
       ],
       "layout": "IPY_MODEL_bc16c334a43140f38a3ecd1387a5993f",
       "tabbable": null,
       "tooltip": null
      }
     },
     "211bcf84321b4c64bceb492dd126a7f7": {
      "model_module": "@jupyter-widgets/controls",
      "model_module_version": "2.0.0",
      "model_name": "HTMLModel",
      "state": {
       "_dom_classes": [],
       "_model_module": "@jupyter-widgets/controls",
       "_model_module_version": "2.0.0",
       "_model_name": "HTMLModel",
       "_view_count": null,
       "_view_module": "@jupyter-widgets/controls",
       "_view_module_version": "2.0.0",
       "_view_name": "HTMLView",
       "description": "",
       "description_allow_html": false,
       "layout": "IPY_MODEL_40494907d091492888700e5a86130cf7",
       "placeholder": "​",
       "style": "IPY_MODEL_90556840d30c45f987f4bae0114e44dd",
       "tabbable": null,
       "tooltip": null,
       "value": ""
      }
     },
     "3054bed6a9ae46e49d874f0874c2975a": {
      "model_module": "@jupyter-widgets/controls",
      "model_module_version": "2.0.0",
      "model_name": "HTMLModel",
      "state": {
       "_dom_classes": [],
       "_model_module": "@jupyter-widgets/controls",
       "_model_module_version": "2.0.0",
       "_model_name": "HTMLModel",
       "_view_count": null,
       "_view_module": "@jupyter-widgets/controls",
       "_view_module_version": "2.0.0",
       "_view_name": "HTMLView",
       "description": "",
       "description_allow_html": false,
       "layout": "IPY_MODEL_0c61f44ef5bc433f9c022c5bd3c74be5",
       "placeholder": "​",
       "style": "IPY_MODEL_af60b223163a400cb63071e932c7664a",
       "tabbable": null,
       "tooltip": null,
       "value": " 18/18 [00:05&lt;00:00,  8.45it/s]"
      }
     },
     "3b75a4e85d9c47acac12af081a0af225": {
      "model_module": "@jupyter-widgets/controls",
      "model_module_version": "2.0.0",
      "model_name": "FloatProgressModel",
      "state": {
       "_dom_classes": [],
       "_model_module": "@jupyter-widgets/controls",
       "_model_module_version": "2.0.0",
       "_model_name": "FloatProgressModel",
       "_view_count": null,
       "_view_module": "@jupyter-widgets/controls",
       "_view_module_version": "2.0.0",
       "_view_name": "ProgressView",
       "bar_style": "success",
       "description": "",
       "description_allow_html": false,
       "layout": "IPY_MODEL_af94053700a0439e97b6ea31e5654f1c",
       "max": 18.0,
       "min": 0.0,
       "orientation": "horizontal",
       "style": "IPY_MODEL_9b3924f8ff3b4e2dbf8b62818f6da78a",
       "tabbable": null,
       "tooltip": null,
       "value": 18.0
      }
     },
     "40494907d091492888700e5a86130cf7": {
      "model_module": "@jupyter-widgets/base",
      "model_module_version": "2.0.0",
      "model_name": "LayoutModel",
      "state": {
       "_model_module": "@jupyter-widgets/base",
       "_model_module_version": "2.0.0",
       "_model_name": "LayoutModel",
       "_view_count": null,
       "_view_module": "@jupyter-widgets/base",
       "_view_module_version": "2.0.0",
       "_view_name": "LayoutView",
       "align_content": null,
       "align_items": null,
       "align_self": null,
       "border_bottom": null,
       "border_left": null,
       "border_right": null,
       "border_top": null,
       "bottom": null,
       "display": null,
       "flex": null,
       "flex_flow": null,
       "grid_area": null,
       "grid_auto_columns": null,
       "grid_auto_flow": null,
       "grid_auto_rows": null,
       "grid_column": null,
       "grid_gap": null,
       "grid_row": null,
       "grid_template_areas": null,
       "grid_template_columns": null,
       "grid_template_rows": null,
       "height": null,
       "justify_content": null,
       "justify_items": null,
       "left": null,
       "margin": null,
       "max_height": null,
       "max_width": null,
       "min_height": null,
       "min_width": null,
       "object_fit": null,
       "object_position": null,
       "order": null,
       "overflow": null,
       "padding": null,
       "right": null,
       "top": null,
       "visibility": null,
       "width": null
      }
     },
     "478c8873238149b89653f37f1dad3d83": {
      "model_module": "@jupyter-widgets/controls",
      "model_module_version": "2.0.0",
      "model_name": "HTMLStyleModel",
      "state": {
       "_model_module": "@jupyter-widgets/controls",
       "_model_module_version": "2.0.0",
       "_model_name": "HTMLStyleModel",
       "_view_count": null,
       "_view_module": "@jupyter-widgets/base",
       "_view_module_version": "2.0.0",
       "_view_name": "StyleView",
       "background": null,
       "description_width": "",
       "font_size": null,
       "text_color": null
      }
     },
     "5eb48c110d07400a93adf3de2d22c308": {
      "model_module": "@jupyter-widgets/controls",
      "model_module_version": "2.0.0",
      "model_name": "HTMLModel",
      "state": {
       "_dom_classes": [],
       "_model_module": "@jupyter-widgets/controls",
       "_model_module_version": "2.0.0",
       "_model_name": "HTMLModel",
       "_view_count": null,
       "_view_module": "@jupyter-widgets/controls",
       "_view_module_version": "2.0.0",
       "_view_name": "HTMLView",
       "description": "",
       "description_allow_html": false,
       "layout": "IPY_MODEL_0c61f44ef5bc433f9c022c5bd3c74be5",
       "placeholder": "​",
       "style": "IPY_MODEL_af60b223163a400cb63071e932c7664a",
       "tabbable": null,
       "tooltip": null,
       "value": ""
      }
     },
     "6a80fabae32949c7810d4b1301d85071": {
      "model_module": "@jupyter-widgets/controls",
      "model_module_version": "2.0.0",
      "model_name": "HBoxModel",
      "state": {
       "_dom_classes": [],
       "_model_module": "@jupyter-widgets/controls",
       "_model_module_version": "2.0.0",
       "_model_name": "HBoxModel",
       "_view_count": null,
       "_view_module": "@jupyter-widgets/controls",
       "_view_module_version": "2.0.0",
       "_view_name": "HBoxView",
       "box_style": "",
       "children": [
        "IPY_MODEL_b90b8f846eee4a2f906729529b718356",
        "IPY_MODEL_3b75a4e85d9c47acac12af081a0af225",
        "IPY_MODEL_3054bed6a9ae46e49d874f0874c2975a"
       ],
       "layout": "IPY_MODEL_bc16c334a43140f38a3ecd1387a5993f",
       "tabbable": null,
       "tooltip": null
      }
     },
     "7a1a7e4ba3484143b1813e20884322b3": {
      "model_module": "@jupyter-widgets/base",
      "model_module_version": "2.0.0",
      "model_name": "LayoutModel",
      "state": {
       "_model_module": "@jupyter-widgets/base",
       "_model_module_version": "2.0.0",
       "_model_name": "LayoutModel",
       "_view_count": null,
       "_view_module": "@jupyter-widgets/base",
       "_view_module_version": "2.0.0",
       "_view_name": "LayoutView",
       "align_content": null,
       "align_items": null,
       "align_self": null,
       "border_bottom": null,
       "border_left": null,
       "border_right": null,
       "border_top": null,
       "bottom": null,
       "display": null,
       "flex": null,
       "flex_flow": null,
       "grid_area": null,
       "grid_auto_columns": null,
       "grid_auto_flow": null,
       "grid_auto_rows": null,
       "grid_column": null,
       "grid_gap": null,
       "grid_row": null,
       "grid_template_areas": null,
       "grid_template_columns": null,
       "grid_template_rows": null,
       "height": null,
       "justify_content": null,
       "justify_items": null,
       "left": null,
       "margin": null,
       "max_height": null,
       "max_width": null,
       "min_height": null,
       "min_width": null,
       "object_fit": null,
       "object_position": null,
       "order": null,
       "overflow": null,
       "padding": null,
       "right": null,
       "top": null,
       "visibility": null,
       "width": null
      }
     },
     "8cd98ea5aea742088bd2af3f3540d758": {
      "model_module": "@jupyter-widgets/controls",
      "model_module_version": "2.0.0",
      "model_name": "HTMLStyleModel",
      "state": {
       "_model_module": "@jupyter-widgets/controls",
       "_model_module_version": "2.0.0",
       "_model_name": "HTMLStyleModel",
       "_view_count": null,
       "_view_module": "@jupyter-widgets/base",
       "_view_module_version": "2.0.0",
       "_view_name": "StyleView",
       "background": null,
       "description_width": "",
       "font_size": null,
       "text_color": null
      }
     },
     "90556840d30c45f987f4bae0114e44dd": {
      "model_module": "@jupyter-widgets/controls",
      "model_module_version": "2.0.0",
      "model_name": "HTMLStyleModel",
      "state": {
       "_model_module": "@jupyter-widgets/controls",
       "_model_module_version": "2.0.0",
       "_model_name": "HTMLStyleModel",
       "_view_count": null,
       "_view_module": "@jupyter-widgets/base",
       "_view_module_version": "2.0.0",
       "_view_name": "StyleView",
       "background": null,
       "description_width": "",
       "font_size": null,
       "text_color": null
      }
     },
     "9b3924f8ff3b4e2dbf8b62818f6da78a": {
      "model_module": "@jupyter-widgets/controls",
      "model_module_version": "2.0.0",
      "model_name": "ProgressStyleModel",
      "state": {
       "_model_module": "@jupyter-widgets/controls",
       "_model_module_version": "2.0.0",
       "_model_name": "ProgressStyleModel",
       "_view_count": null,
       "_view_module": "@jupyter-widgets/base",
       "_view_module_version": "2.0.0",
       "_view_name": "StyleView",
       "bar_color": null,
       "description_width": ""
      }
     },
     "9dc2d44f24f44804bea8eeeb1723e75a": {
      "model_module": "@jupyter-widgets/base",
      "model_module_version": "2.0.0",
      "model_name": "LayoutModel",
      "state": {
       "_model_module": "@jupyter-widgets/base",
       "_model_module_version": "2.0.0",
       "_model_name": "LayoutModel",
       "_view_count": null,
       "_view_module": "@jupyter-widgets/base",
       "_view_module_version": "2.0.0",
       "_view_name": "LayoutView",
       "align_content": null,
       "align_items": null,
       "align_self": null,
       "border_bottom": null,
       "border_left": null,
       "border_right": null,
       "border_top": null,
       "bottom": null,
       "display": null,
       "flex": null,
       "flex_flow": null,
       "grid_area": null,
       "grid_auto_columns": null,
       "grid_auto_flow": null,
       "grid_auto_rows": null,
       "grid_column": null,
       "grid_gap": null,
       "grid_row": null,
       "grid_template_areas": null,
       "grid_template_columns": null,
       "grid_template_rows": null,
       "height": null,
       "justify_content": null,
       "justify_items": null,
       "left": null,
       "margin": null,
       "max_height": null,
       "max_width": null,
       "min_height": null,
       "min_width": null,
       "object_fit": null,
       "object_position": null,
       "order": null,
       "overflow": null,
       "padding": null,
       "right": null,
       "top": null,
       "visibility": null,
       "width": null
      }
     },
     "ab39322cc1e840d1845e5136f7f20e25": {
      "model_module": "@jupyter-widgets/base",
      "model_module_version": "2.0.0",
      "model_name": "LayoutModel",
      "state": {
       "_model_module": "@jupyter-widgets/base",
       "_model_module_version": "2.0.0",
       "_model_name": "LayoutModel",
       "_view_count": null,
       "_view_module": "@jupyter-widgets/base",
       "_view_module_version": "2.0.0",
       "_view_name": "LayoutView",
       "align_content": null,
       "align_items": null,
       "align_self": null,
       "border_bottom": null,
       "border_left": null,
       "border_right": null,
       "border_top": null,
       "bottom": null,
       "display": null,
       "flex": null,
       "flex_flow": null,
       "grid_area": null,
       "grid_auto_columns": null,
       "grid_auto_flow": null,
       "grid_auto_rows": null,
       "grid_column": null,
       "grid_gap": null,
       "grid_row": null,
       "grid_template_areas": null,
       "grid_template_columns": null,
       "grid_template_rows": null,
       "height": null,
       "justify_content": null,
       "justify_items": null,
       "left": null,
       "margin": null,
       "max_height": null,
       "max_width": null,
       "min_height": null,
       "min_width": null,
       "object_fit": null,
       "object_position": null,
       "order": null,
       "overflow": null,
       "padding": null,
       "right": null,
       "top": null,
       "visibility": null,
       "width": null
      }
     },
     "af60b223163a400cb63071e932c7664a": {
      "model_module": "@jupyter-widgets/controls",
      "model_module_version": "2.0.0",
      "model_name": "HTMLStyleModel",
      "state": {
       "_model_module": "@jupyter-widgets/controls",
       "_model_module_version": "2.0.0",
       "_model_name": "HTMLStyleModel",
       "_view_count": null,
       "_view_module": "@jupyter-widgets/base",
       "_view_module_version": "2.0.0",
       "_view_name": "StyleView",
       "background": null,
       "description_width": "",
       "font_size": null,
       "text_color": null
      }
     },
     "af94053700a0439e97b6ea31e5654f1c": {
      "model_module": "@jupyter-widgets/base",
      "model_module_version": "2.0.0",
      "model_name": "LayoutModel",
      "state": {
       "_model_module": "@jupyter-widgets/base",
       "_model_module_version": "2.0.0",
       "_model_name": "LayoutModel",
       "_view_count": null,
       "_view_module": "@jupyter-widgets/base",
       "_view_module_version": "2.0.0",
       "_view_name": "LayoutView",
       "align_content": null,
       "align_items": null,
       "align_self": null,
       "border_bottom": null,
       "border_left": null,
       "border_right": null,
       "border_top": null,
       "bottom": null,
       "display": null,
       "flex": null,
       "flex_flow": null,
       "grid_area": null,
       "grid_auto_columns": null,
       "grid_auto_flow": null,
       "grid_auto_rows": null,
       "grid_column": null,
       "grid_gap": null,
       "grid_row": null,
       "grid_template_areas": null,
       "grid_template_columns": null,
       "grid_template_rows": null,
       "height": null,
       "justify_content": null,
       "justify_items": null,
       "left": null,
       "margin": null,
       "max_height": null,
       "max_width": null,
       "min_height": null,
       "min_width": null,
       "object_fit": null,
       "object_position": null,
       "order": null,
       "overflow": null,
       "padding": null,
       "right": null,
       "top": null,
       "visibility": null,
       "width": null
      }
     },
     "b90b8f846eee4a2f906729529b718356": {
      "model_module": "@jupyter-widgets/controls",
      "model_module_version": "2.0.0",
      "model_name": "HTMLModel",
      "state": {
       "_dom_classes": [],
       "_model_module": "@jupyter-widgets/controls",
       "_model_module_version": "2.0.0",
       "_model_name": "HTMLModel",
       "_view_count": null,
       "_view_module": "@jupyter-widgets/controls",
       "_view_module_version": "2.0.0",
       "_view_name": "HTMLView",
       "description": "",
       "description_allow_html": false,
       "layout": "IPY_MODEL_40494907d091492888700e5a86130cf7",
       "placeholder": "​",
       "style": "IPY_MODEL_90556840d30c45f987f4bae0114e44dd",
       "tabbable": null,
       "tooltip": null,
       "value": "100%"
      }
     },
     "bc16c334a43140f38a3ecd1387a5993f": {
      "model_module": "@jupyter-widgets/base",
      "model_module_version": "2.0.0",
      "model_name": "LayoutModel",
      "state": {
       "_model_module": "@jupyter-widgets/base",
       "_model_module_version": "2.0.0",
       "_model_name": "LayoutModel",
       "_view_count": null,
       "_view_module": "@jupyter-widgets/base",
       "_view_module_version": "2.0.0",
       "_view_name": "LayoutView",
       "align_content": null,
       "align_items": null,
       "align_self": null,
       "border_bottom": null,
       "border_left": null,
       "border_right": null,
       "border_top": null,
       "bottom": null,
       "display": null,
       "flex": null,
       "flex_flow": null,
       "grid_area": null,
       "grid_auto_columns": null,
       "grid_auto_flow": null,
       "grid_auto_rows": null,
       "grid_column": null,
       "grid_gap": null,
       "grid_row": null,
       "grid_template_areas": null,
       "grid_template_columns": null,
       "grid_template_rows": null,
       "height": null,
       "justify_content": null,
       "justify_items": null,
       "left": null,
       "margin": null,
       "max_height": null,
       "max_width": null,
       "min_height": null,
       "min_width": null,
       "object_fit": null,
       "object_position": null,
       "order": null,
       "overflow": null,
       "padding": null,
       "right": null,
       "top": null,
       "visibility": null,
       "width": null
      }
     },
     "c5379d4d97044cdb8a0733e943a49dd4": {
      "model_module": "@jupyter-widgets/controls",
      "model_module_version": "2.0.0",
      "model_name": "FloatProgressModel",
      "state": {
       "_dom_classes": [],
       "_model_module": "@jupyter-widgets/controls",
       "_model_module_version": "2.0.0",
       "_model_name": "FloatProgressModel",
       "_view_count": null,
       "_view_module": "@jupyter-widgets/controls",
       "_view_module_version": "2.0.0",
       "_view_name": "ProgressView",
       "bar_style": "",
       "description": "",
       "description_allow_html": false,
       "layout": "IPY_MODEL_af94053700a0439e97b6ea31e5654f1c",
       "max": 18.0,
       "min": 0.0,
       "orientation": "horizontal",
       "style": "IPY_MODEL_9b3924f8ff3b4e2dbf8b62818f6da78a",
       "tabbable": null,
       "tooltip": null,
       "value": 0.0
      }
     },
     "da3ce5144b8c49d9b77f3cb0427e02b7": {
      "model_module": "@jupyter-widgets/controls",
      "model_module_version": "2.0.0",
      "model_name": "ProgressStyleModel",
      "state": {
       "_model_module": "@jupyter-widgets/controls",
       "_model_module_version": "2.0.0",
       "_model_name": "ProgressStyleModel",
       "_view_count": null,
       "_view_module": "@jupyter-widgets/base",
       "_view_module_version": "2.0.0",
       "_view_name": "StyleView",
       "bar_color": null,
       "description_width": ""
      }
     }
    },
    "version_major": 2,
    "version_minor": 0
   }
  }
 },
 "nbformat": 4,
 "nbformat_minor": 5
}