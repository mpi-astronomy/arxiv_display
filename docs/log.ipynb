{
 "cells": [
  {
   "cell_type": "markdown",
   "id": "92bcb855",
   "metadata": {
    "papermill": {
     "duration": 0.010167,
     "end_time": "2022-11-28T04:07:46.393577",
     "exception": false,
     "start_time": "2022-11-28T04:07:46.383410",
     "status": "completed"
    },
    "tags": []
   },
   "source": [
    "# MPIA Arxiv on Deck 2\n",
    "\n",
    "Contains the steps to produce the paper extractions."
   ]
  },
  {
   "cell_type": "code",
   "execution_count": 1,
   "id": "3a0d6e11",
   "metadata": {
    "execution": {
     "iopub.execute_input": "2022-11-28T04:07:46.405876Z",
     "iopub.status.busy": "2022-11-28T04:07:46.404975Z",
     "iopub.status.idle": "2022-11-28T04:07:46.610398Z",
     "shell.execute_reply": "2022-11-28T04:07:46.609538Z"
    },
    "papermill": {
     "duration": 0.214285,
     "end_time": "2022-11-28T04:07:46.612998",
     "exception": false,
     "start_time": "2022-11-28T04:07:46.398713",
     "status": "completed"
    },
    "tags": []
   },
   "outputs": [],
   "source": [
    "# Imports\n",
    "import os\n",
    "from IPython.display import Markdown, display\n",
    "from tqdm.notebook import tqdm\n",
    "import warnings\n",
    "from PIL import Image \n",
    "\n",
    "# requires arxiv_on_deck_2\n",
    "\n",
    "from arxiv_on_deck_2.arxiv2 import (get_new_papers, \n",
    "                                    get_paper_from_identifier,\n",
    "                                    retrieve_document_source, \n",
    "                                    get_markdown_badge)\n",
    "from arxiv_on_deck_2 import (latex, \n",
    "                             mpia,\n",
    "                             highlight_authors_in_list)\n",
    "\n",
    "# Sometimes images are really big\n",
    "Image.MAX_IMAGE_PIXELS = 1000000000 "
   ]
  },
  {
   "cell_type": "code",
   "execution_count": 2,
   "id": "22aa9d44",
   "metadata": {
    "execution": {
     "iopub.execute_input": "2022-11-28T04:07:46.626800Z",
     "iopub.status.busy": "2022-11-28T04:07:46.626494Z",
     "iopub.status.idle": "2022-11-28T04:07:46.633157Z",
     "shell.execute_reply": "2022-11-28T04:07:46.632429Z"
    },
    "papermill": {
     "duration": 0.014623,
     "end_time": "2022-11-28T04:07:46.635027",
     "exception": false,
     "start_time": "2022-11-28T04:07:46.620404",
     "status": "completed"
    },
    "tags": []
   },
   "outputs": [],
   "source": [
    "# Some useful definitions.\n",
    "\n",
    "class AffiliationWarning(UserWarning):\n",
    "    pass\n",
    "\n",
    "class AffiliationError(RuntimeError):\n",
    "    pass\n",
    "\n",
    "def validation(source: str):\n",
    "    \"\"\"Raises error paper during parsing of source file\n",
    "    \n",
    "    Allows checks before parsing TeX code.\n",
    "    \n",
    "    Raises AffiliationWarning\n",
    "    \"\"\"\n",
    "    check = mpia.affiliation_verifications(source, verbose=True)\n",
    "    if check is not True:\n",
    "        raise AffiliationError(\"mpia.affiliation_verifications: \" + check)\n",
    "\n",
    "        \n",
    "warnings.simplefilter('always', AffiliationWarning)"
   ]
  },
  {
   "cell_type": "code",
   "execution_count": 3,
   "id": "14622700",
   "metadata": {
    "execution": {
     "iopub.execute_input": "2022-11-28T04:07:46.646899Z",
     "iopub.status.busy": "2022-11-28T04:07:46.646136Z",
     "iopub.status.idle": "2022-11-28T04:07:46.651082Z",
     "shell.execute_reply": "2022-11-28T04:07:46.650184Z"
    },
    "papermill": {
     "duration": 0.015109,
     "end_time": "2022-11-28T04:07:46.654796",
     "exception": false,
     "start_time": "2022-11-28T04:07:46.639687",
     "status": "completed"
    },
    "tags": []
   },
   "outputs": [],
   "source": [
    "# additional CSS to consider. \n",
    "# TODO: Current into each exported file. \n",
    "#       This should be set once into the webpages directly.\n",
    "#       With only the class/id definitions in the .md files.\n",
    "\n",
    "debug_html = \"\"\"\n",
    "<style>\n",
    "#wrap{ overflow:auto; }\n",
    "#fig1{ background:yellow; width:100%; float:left; padding:5px;  }\n",
    "#fig2{ background:red; width:50%; float:left; clear:left; padding:5px;  }\n",
    "#fig3{ background:green; width:50%; float:left; padding:5px;   }\n",
    ".macros{ background:yellow; visibility:visible;}\n",
    "h1 {margin: 0 0 0 0;}\n",
    "mark {background-color:#fff3b6;}\n",
    "img {object-fit:contain; max-height:250px; display:inline-block; text-align: center;}\n",
    "</style>\n",
    "\"\"\" \n",
    "html = \"\"\"\n",
    "<style>\n",
    "#wrap{ overflow:auto; }\n",
    "#fig1{ width:100%; float:left; padding: 5px;  }\n",
    "#fig2{ width:50%; float:left; clear:left; padding: 5px;  }\n",
    "#fig3{ width:50%; float:left; padding: 5px;  }\n",
    ".macros{ visibility:hidden; height:0px; }\n",
    "h1 {margin: 0em 0 0 0;}\n",
    "mark {background-color:#fff3b6;}\n",
    "img {object-fit:contain; max-height:250px; display:inline-block; text-align: center;}\n",
    "</style>\n",
    "\"\"\""
   ]
  },
  {
   "cell_type": "markdown",
   "id": "14bd6310",
   "metadata": {
    "papermill": {
     "duration": 0.00466,
     "end_time": "2022-11-28T04:07:46.664041",
     "exception": false,
     "start_time": "2022-11-28T04:07:46.659381",
     "status": "completed"
    },
    "tags": []
   },
   "source": [
    "## get list of arxiv paper candidates\n",
    "\n",
    "We use the MPIA mitarbeiter list webpage from mpia.de to get author names\n",
    "We then get all new papers from Arxiv and match authors"
   ]
  },
  {
   "cell_type": "code",
   "execution_count": 4,
   "id": "2645e73a",
   "metadata": {
    "execution": {
     "iopub.execute_input": "2022-11-28T04:07:46.675811Z",
     "iopub.status.busy": "2022-11-28T04:07:46.675060Z",
     "iopub.status.idle": "2022-11-28T04:08:10.689611Z",
     "shell.execute_reply": "2022-11-28T04:08:10.688867Z"
    },
    "papermill": {
     "duration": 24.022876,
     "end_time": "2022-11-28T04:08:10.691695",
     "exception": false,
     "start_time": "2022-11-28T04:07:46.668819",
     "status": "completed"
    },
    "tags": []
   },
   "outputs": [
    {
     "name": "stdout",
     "output_type": "stream",
     "text": [
      "Arxiv has 82 new papers today\n",
      "          36 with possible author matches\n"
     ]
    }
   ],
   "source": [
    "# get list from MPIA website\n",
    "# it automatically filters identified non-scientists :func:`mpia.filter_non_scientists`\n",
    "mpia_authors = mpia.get_mpia_mitarbeiter_list()\n",
    "new_papers = get_new_papers()\n",
    "# add manual references\n",
    "add_paper_refs = []\n",
    "new_papers.extend([get_paper_from_identifier(k) for k in add_paper_refs])\n",
    "\n",
    "# select only papers with matching author names and highlight authors\n",
    "hl_list = [k[0] for k in mpia_authors]\n",
    "\n",
    "candidates = []\n",
    "for paperk in new_papers:\n",
    "    hl_authors = highlight_authors_in_list(paperk['authors'], hl_list)\n",
    "    matches = [(hl, orig) for hl, orig in zip(hl_authors, paperk['authors']) if 'mark' in hl]\n",
    "    paperk['authors'] = hl_authors\n",
    "    if matches:\n",
    "        candidates.append(paperk)\n",
    "print(\"\"\"Arxiv has {0:,d} new papers today\"\"\".format(len(new_papers)))        \n",
    "print(\"\"\"          {0:,d} with possible author matches\"\"\".format(len(candidates)))"
   ]
  },
  {
   "cell_type": "markdown",
   "id": "3543b34a",
   "metadata": {
    "papermill": {
     "duration": 0.004962,
     "end_time": "2022-11-28T04:08:10.701861",
     "exception": false,
     "start_time": "2022-11-28T04:08:10.696899",
     "status": "completed"
    },
    "tags": []
   },
   "source": [
    "# Parse sources and generate relevant outputs\n",
    "\n",
    "From the candidates, we do the following steps:\n",
    "* get their tarball from ArXiv (and extract data)\n",
    "* find the main .tex file: find one with \\documentclass{...} (sometimes it's non trivial)\n",
    "* Check affiliations with :func:`validation`, which uses :func:`mpia.affiliation_verifications`\n",
    "* If passing the affiliations: we parse the .tex source\n",
    "   * inject sub-documents into the main (flatten the main document)\n",
    "   * parse structure, extract information (title, abstract, authors, figures...)\n",
    "   * handles `\\graphicspath` if provided\n",
    "* Generate the .md document."
   ]
  },
  {
   "cell_type": "code",
   "execution_count": 5,
   "id": "9576b79e",
   "metadata": {
    "execution": {
     "iopub.execute_input": "2022-11-28T04:08:10.713728Z",
     "iopub.status.busy": "2022-11-28T04:08:10.712896Z",
     "iopub.status.idle": "2022-11-28T04:10:51.711710Z",
     "shell.execute_reply": "2022-11-28T04:10:51.710882Z"
    },
    "papermill": {
     "duration": 161.007606,
     "end_time": "2022-11-28T04:10:51.714184",
     "exception": false,
     "start_time": "2022-11-28T04:08:10.706578",
     "status": "completed"
    },
    "scrolled": false,
    "tags": []
   },
   "outputs": [
    {
     "data": {
      "application/vnd.jupyter.widget-view+json": {
       "model_id": "ac9a47f7bc954b2f9d1601f24b85a2fa",
       "version_major": 2,
       "version_minor": 0
      },
      "text/plain": [
       "  0%|          | 0/35 [00:00<?, ?it/s]"
      ]
     },
     "metadata": {},
     "output_type": "display_data"
    },
    {
     "name": "stdout",
     "output_type": "stream",
     "text": [
      "Retrieving document from  https://arxiv.org/e-print/2211.13311\n"
     ]
    },
    {
     "name": "stdout",
     "output_type": "stream",
     "text": [
      "extracting tarball to tmp_2211.13311..."
     ]
    },
    {
     "name": "stdout",
     "output_type": "stream",
     "text": [
      " done.\n",
      "Retrieving document from  https://arxiv.org/e-print/2211.13318\n"
     ]
    },
    {
     "name": "stdout",
     "output_type": "stream",
     "text": [
      "extracting tarball to tmp_2211.13318..."
     ]
    },
    {
     "name": "stdout",
     "output_type": "stream",
     "text": [
      " done.\n"
     ]
    },
    {
     "name": "stderr",
     "output_type": "stream",
     "text": [
      "/opt/hostedtoolcache/Python/3.9.15/x64/lib/python3.9/site-packages/IPython/core/interactiveshell.py:3433: LatexWarning: Multiple tex files.\n",
      "\n",
      "  exec(code_obj, self.user_global_ns, self.user_ns)\n",
      "/opt/hostedtoolcache/Python/3.9.15/x64/lib/python3.9/site-packages/IPython/core/interactiveshell.py:3433: LatexWarning: Found documentclass in tmp_2211.13318/main.tex\n",
      "\n",
      "  exec(code_obj, self.user_global_ns, self.user_ns)\n"
     ]
    },
    {
     "name": "stdout",
     "output_type": "stream",
     "text": [
      "Retrieving document from  https://arxiv.org/e-print/2211.13320\n"
     ]
    },
    {
     "name": "stdout",
     "output_type": "stream",
     "text": [
      "extracting tarball to tmp_2211.13320..."
     ]
    },
    {
     "name": "stdout",
     "output_type": "stream",
     "text": [
      " done.\n",
      "Retrieving document from  https://arxiv.org/e-print/2211.13334\n"
     ]
    },
    {
     "name": "stdout",
     "output_type": "stream",
     "text": [
      "extracting tarball to tmp_2211.13334..."
     ]
    },
    {
     "name": "stdout",
     "output_type": "stream",
     "text": [
      " done.\n",
      "Retrieving document from  https://arxiv.org/e-print/2211.13380\n"
     ]
    },
    {
     "name": "stderr",
     "output_type": "stream",
     "text": [
      "/opt/hostedtoolcache/Python/3.9.15/x64/lib/python3.9/site-packages/IPython/core/interactiveshell.py:3433: LatexWarning: Multiple tex files.\n",
      "\n",
      "  exec(code_obj, self.user_global_ns, self.user_ns)\n",
      "/opt/hostedtoolcache/Python/3.9.15/x64/lib/python3.9/site-packages/IPython/core/interactiveshell.py:3433: LatexWarning: Found documentclass in tmp_2211.13334/MACS0647.tex\n",
      "\n",
      "  exec(code_obj, self.user_global_ns, self.user_ns)\n",
      "/opt/hostedtoolcache/Python/3.9.15/x64/lib/python3.9/site-packages/arxiv_on_deck_2/latex.py:292: LatexWarning: Latex injecting: 'lensed_systems.tex' from 'tmp_2211.13334/lensed_systems.tex'\n",
      "  warnings.warn(LatexWarning(f\"Latex injecting: '{ext}' from '{subsource}'\"))\n",
      "/opt/hostedtoolcache/Python/3.9.15/x64/lib/python3.9/site-packages/arxiv_on_deck_2/latex.py:292: LatexWarning: Latex injecting: 'star_photometry.tex' from 'tmp_2211.13334/star_photometry.tex'\n",
      "  warnings.warn(LatexWarning(f\"Latex injecting: '{ext}' from '{subsource}'\"))\n"
     ]
    },
    {
     "name": "stdout",
     "output_type": "stream",
     "text": [
      "extracting tarball to tmp_2211.13380..."
     ]
    },
    {
     "name": "stdout",
     "output_type": "stream",
     "text": [
      " done.\n",
      "Retrieving document from  https://arxiv.org/e-print/2211.13393\n"
     ]
    },
    {
     "name": "stderr",
     "output_type": "stream",
     "text": [
      "/opt/hostedtoolcache/Python/3.9.15/x64/lib/python3.9/site-packages/IPython/core/interactiveshell.py:3433: LatexWarning: Multiple tex files.\n",
      "\n",
      "  exec(code_obj, self.user_global_ns, self.user_ns)\n",
      "/opt/hostedtoolcache/Python/3.9.15/x64/lib/python3.9/site-packages/IPython/core/interactiveshell.py:3433: LatexWarning: Found documentclass in tmp_2211.13380/aassymbols.tex\n",
      "\n",
      "  exec(code_obj, self.user_global_ns, self.user_ns)\n"
     ]
    },
    {
     "name": "stdout",
     "output_type": "stream",
     "text": [
      "extracting tarball to tmp_2211.13393..."
     ]
    },
    {
     "name": "stdout",
     "output_type": "stream",
     "text": [
      " done.\n",
      "Retrieving document from  https://arxiv.org/e-print/2211.13407\n"
     ]
    },
    {
     "name": "stderr",
     "output_type": "stream",
     "text": [
      "/opt/hostedtoolcache/Python/3.9.15/x64/lib/python3.9/site-packages/IPython/core/interactiveshell.py:3433: LatexWarning: Multiple tex files.\n",
      "\n",
      "  exec(code_obj, self.user_global_ns, self.user_ns)\n",
      "/opt/hostedtoolcache/Python/3.9.15/x64/lib/python3.9/site-packages/IPython/core/interactiveshell.py:3433: LatexWarning: Found documentclass in tmp_2211.13393/main.tex\n",
      "\n",
      "  exec(code_obj, self.user_global_ns, self.user_ns)\n",
      "/opt/hostedtoolcache/Python/3.9.15/x64/lib/python3.9/site-packages/arxiv_on_deck_2/latex.py:292: LatexWarning: Latex injecting: 'conclu' from 'tmp_2211.13393/conclu.tex'\n",
      "  warnings.warn(LatexWarning(f\"Latex injecting: '{ext}' from '{subsource}'\"))\n",
      "/opt/hostedtoolcache/Python/3.9.15/x64/lib/python3.9/site-packages/arxiv_on_deck_2/latex.py:292: LatexWarning: Latex injecting: 'dis' from 'tmp_2211.13393/dis.tex'\n",
      "  warnings.warn(LatexWarning(f\"Latex injecting: '{ext}' from '{subsource}'\"))\n",
      "/opt/hostedtoolcache/Python/3.9.15/x64/lib/python3.9/site-packages/arxiv_on_deck_2/latex.py:292: LatexWarning: Latex injecting: 'result' from 'tmp_2211.13393/result.tex'\n",
      "  warnings.warn(LatexWarning(f\"Latex injecting: '{ext}' from '{subsource}'\"))\n",
      "/opt/hostedtoolcache/Python/3.9.15/x64/lib/python3.9/site-packages/arxiv_on_deck_2/latex.py:292: LatexWarning: Latex injecting: 'simu' from 'tmp_2211.13393/simu.tex'\n",
      "  warnings.warn(LatexWarning(f\"Latex injecting: '{ext}' from '{subsource}'\"))\n",
      "/opt/hostedtoolcache/Python/3.9.15/x64/lib/python3.9/site-packages/arxiv_on_deck_2/latex.py:292: LatexWarning: Latex injecting: 'intro' from 'tmp_2211.13393/intro.tex'\n",
      "  warnings.warn(LatexWarning(f\"Latex injecting: '{ext}' from '{subsource}'\"))\n",
      "/opt/hostedtoolcache/Python/3.9.15/x64/lib/python3.9/site-packages/arxiv_on_deck_2/latex.py:292: LatexWarning: Latex injecting: 'abstract' from 'tmp_2211.13393/abstract.tex'\n",
      "  warnings.warn(LatexWarning(f\"Latex injecting: '{ext}' from '{subsource}'\"))\n",
      "/opt/hostedtoolcache/Python/3.9.15/x64/lib/python3.9/site-packages/arxiv_on_deck_2/latex.py:292: LatexWarning: Latex injecting: 'author.tex' from 'tmp_2211.13393/author.tex'\n",
      "  warnings.warn(LatexWarning(f\"Latex injecting: '{ext}' from '{subsource}'\"))\n"
     ]
    },
    {
     "name": "stdout",
     "output_type": "stream",
     "text": [
      "extracting tarball to tmp_2211.13407..."
     ]
    },
    {
     "name": "stdout",
     "output_type": "stream",
     "text": [
      " done.\n",
      "Retrieving document from  https://arxiv.org/e-print/2211.13426\n"
     ]
    },
    {
     "name": "stdout",
     "output_type": "stream",
     "text": [
      "extracting tarball to tmp_2211.13426..."
     ]
    },
    {
     "name": "stdout",
     "output_type": "stream",
     "text": [
      " done.\n"
     ]
    },
    {
     "name": "stdout",
     "output_type": "stream",
     "text": [
      "Retrieving document from  https://arxiv.org/e-print/2211.13476\n"
     ]
    },
    {
     "name": "stdout",
     "output_type": "stream",
     "text": [
      "extracting tarball to tmp_2211.13476..."
     ]
    },
    {
     "name": "stdout",
     "output_type": "stream",
     "text": [
      " done.\n",
      "Retrieving document from  https://arxiv.org/e-print/2211.13576\n"
     ]
    },
    {
     "name": "stdout",
     "output_type": "stream",
     "text": [
      "extracting tarball to tmp_2211.13576..."
     ]
    },
    {
     "name": "stdout",
     "output_type": "stream",
     "text": [
      " done.\n",
      "Retrieving document from  https://arxiv.org/e-print/2211.13588\n"
     ]
    },
    {
     "name": "stderr",
     "output_type": "stream",
     "text": [
      "/opt/hostedtoolcache/Python/3.9.15/x64/lib/python3.9/site-packages/IPython/core/interactiveshell.py:3433: LatexWarning: Multiple tex files.\n",
      "\n",
      "  exec(code_obj, self.user_global_ns, self.user_ns)\n",
      "/opt/hostedtoolcache/Python/3.9.15/x64/lib/python3.9/site-packages/IPython/core/interactiveshell.py:3433: LatexWarning: Found documentclass in tmp_2211.13576/main.tex\n",
      "\n",
      "  exec(code_obj, self.user_global_ns, self.user_ns)\n"
     ]
    },
    {
     "name": "stdout",
     "output_type": "stream",
     "text": [
      "extracting tarball to tmp_2211.13588..."
     ]
    },
    {
     "name": "stdout",
     "output_type": "stream",
     "text": [
      " done.\n",
      "Retrieving document from  https://arxiv.org/e-print/2211.13608\n"
     ]
    },
    {
     "name": "stdout",
     "output_type": "stream",
     "text": [
      "extracting tarball to tmp_2211.13608..."
     ]
    },
    {
     "name": "stdout",
     "output_type": "stream",
     "text": [
      " done.\n",
      "Retrieving document from  https://arxiv.org/e-print/2211.13611\n"
     ]
    },
    {
     "name": "stderr",
     "output_type": "stream",
     "text": [
      "/opt/hostedtoolcache/Python/3.9.15/x64/lib/python3.9/site-packages/IPython/core/interactiveshell.py:3433: LatexWarning: Multiple tex files.\n",
      "\n",
      "  exec(code_obj, self.user_global_ns, self.user_ns)\n",
      "/opt/hostedtoolcache/Python/3.9.15/x64/lib/python3.9/site-packages/IPython/core/interactiveshell.py:3433: LatexWarning: Found documentclass in tmp_2211.13608/paper2.tex\n",
      "\n",
      "  exec(code_obj, self.user_global_ns, self.user_ns)\n"
     ]
    },
    {
     "name": "stdout",
     "output_type": "stream",
     "text": [
      "extracting tarball to tmp_2211.13611..."
     ]
    },
    {
     "name": "stdout",
     "output_type": "stream",
     "text": [
      " done.\n",
      "Retrieving document from  https://arxiv.org/e-print/2211.13614\n"
     ]
    },
    {
     "name": "stdout",
     "output_type": "stream",
     "text": [
      "extracting tarball to tmp_2211.13614..."
     ]
    },
    {
     "name": "stdout",
     "output_type": "stream",
     "text": [
      " done.\n",
      "Retrieving document from  https://arxiv.org/e-print/2211.13620\n"
     ]
    },
    {
     "name": "stdout",
     "output_type": "stream",
     "text": [
      "extracting tarball to tmp_2211.13620..."
     ]
    },
    {
     "name": "stdout",
     "output_type": "stream",
     "text": [
      " done.\n",
      "Retrieving document from  https://arxiv.org/e-print/2211.13629\n"
     ]
    },
    {
     "name": "stdout",
     "output_type": "stream",
     "text": [
      "extracting tarball to tmp_2211.13629..."
     ]
    },
    {
     "name": "stdout",
     "output_type": "stream",
     "text": [
      " done.\n",
      "Retrieving document from  https://arxiv.org/e-print/2211.13640\n"
     ]
    },
    {
     "name": "stdout",
     "output_type": "stream",
     "text": [
      "extracting tarball to tmp_2211.13640..."
     ]
    },
    {
     "name": "stdout",
     "output_type": "stream",
     "text": [
      " done.\n",
      "Retrieving document from  https://arxiv.org/e-print/2211.13677\n"
     ]
    },
    {
     "name": "stdout",
     "output_type": "stream",
     "text": [
      "extracting tarball to tmp_2211.13677..."
     ]
    },
    {
     "name": "stdout",
     "output_type": "stream",
     "text": [
      " done.\n",
      "Retrieving document from  https://arxiv.org/e-print/2211.13759\n"
     ]
    },
    {
     "name": "stdout",
     "output_type": "stream",
     "text": [
      "extracting tarball to tmp_2211.13759..."
     ]
    },
    {
     "name": "stdout",
     "output_type": "stream",
     "text": [
      " done.\n",
      "Retrieving document from  https://arxiv.org/e-print/2211.13761\n"
     ]
    },
    {
     "name": "stderr",
     "output_type": "stream",
     "text": [
      "/opt/hostedtoolcache/Python/3.9.15/x64/lib/python3.9/site-packages/IPython/core/interactiveshell.py:3433: LatexWarning: Multiple tex files.\n",
      "\n",
      "  exec(code_obj, self.user_global_ns, self.user_ns)\n",
      "/opt/hostedtoolcache/Python/3.9.15/x64/lib/python3.9/site-packages/IPython/core/interactiveshell.py:3433: LatexWarning: Found documentclass in tmp_2211.13759/main.tex\n",
      "\n",
      "  exec(code_obj, self.user_global_ns, self.user_ns)\n"
     ]
    },
    {
     "name": "stdout",
     "output_type": "stream",
     "text": [
      "extracting tarball to tmp_2211.13761..."
     ]
    },
    {
     "name": "stdout",
     "output_type": "stream",
     "text": [
      " done.\n",
      "Retrieving document from  https://arxiv.org/e-print/2211.13763\n"
     ]
    },
    {
     "name": "stdout",
     "output_type": "stream",
     "text": [
      "extracting tarball to tmp_2211.13763..."
     ]
    },
    {
     "name": "stdout",
     "output_type": "stream",
     "text": [
      " done.\n",
      "Retrieving document from  https://arxiv.org/e-print/2211.13764\n"
     ]
    },
    {
     "name": "stderr",
     "output_type": "stream",
     "text": [
      "/opt/hostedtoolcache/Python/3.9.15/x64/lib/python3.9/site-packages/IPython/core/interactiveshell.py:3433: LatexWarning: Multiple tex files.\n",
      "\n",
      "  exec(code_obj, self.user_global_ns, self.user_ns)\n",
      "/opt/hostedtoolcache/Python/3.9.15/x64/lib/python3.9/site-packages/IPython/core/interactiveshell.py:3433: LatexWarning: Found documentclass in tmp_2211.13763/main.tex\n",
      "\n",
      "  exec(code_obj, self.user_global_ns, self.user_ns)\n",
      "/opt/hostedtoolcache/Python/3.9.15/x64/lib/python3.9/site-packages/arxiv_on_deck_2/latex.py:292: LatexWarning: Latex injecting: 'table.tex' from 'tmp_2211.13763/table.tex'\n",
      "  warnings.warn(LatexWarning(f\"Latex injecting: '{ext}' from '{subsource}'\"))\n"
     ]
    },
    {
     "name": "stdout",
     "output_type": "stream",
     "text": [
      "extracting tarball to tmp_2211.13764..."
     ]
    },
    {
     "name": "stdout",
     "output_type": "stream",
     "text": [
      " done.\n",
      "Retrieving document from  https://arxiv.org/e-print/2211.13811\n"
     ]
    },
    {
     "name": "stdout",
     "output_type": "stream",
     "text": [
      "extracting tarball to tmp_2211.13811..."
     ]
    },
    {
     "name": "stdout",
     "output_type": "stream",
     "text": [
      " done.\n"
     ]
    },
    {
     "name": "stdout",
     "output_type": "stream",
     "text": [
      "Retrieving document from  https://arxiv.org/e-print/2211.13820\n"
     ]
    },
    {
     "name": "stdout",
     "output_type": "stream",
     "text": [
      "extracting tarball to tmp_2211.13820..."
     ]
    },
    {
     "name": "stdout",
     "output_type": "stream",
     "text": [
      " done.\n",
      "Retrieving document from  https://arxiv.org/e-print/2211.13870\n"
     ]
    },
    {
     "name": "stdout",
     "output_type": "stream",
     "text": [
      "extracting tarball to tmp_2211.13870..."
     ]
    },
    {
     "name": "stdout",
     "output_type": "stream",
     "text": [
      " done.\n",
      "Retrieving document from  https://arxiv.org/e-print/2211.13877\n"
     ]
    },
    {
     "name": "stderr",
     "output_type": "stream",
     "text": [
      "/opt/hostedtoolcache/Python/3.9.15/x64/lib/python3.9/site-packages/IPython/core/interactiveshell.py:3433: LatexWarning: Multiple tex files.\n",
      "\n",
      "  exec(code_obj, self.user_global_ns, self.user_ns)\n",
      "/opt/hostedtoolcache/Python/3.9.15/x64/lib/python3.9/site-packages/IPython/core/interactiveshell.py:3433: LatexWarning: Found documentclass in tmp_2211.13870/main.tex\n",
      "\n",
      "  exec(code_obj, self.user_global_ns, self.user_ns)\n",
      "/opt/hostedtoolcache/Python/3.9.15/x64/lib/python3.9/site-packages/arxiv_on_deck_2/latex.py:292: LatexWarning: Latex injecting: 'head/head_AA' from 'tmp_2211.13870/head/head_AA.tex'\n",
      "  warnings.warn(LatexWarning(f\"Latex injecting: '{ext}' from '{subsource}'\"))\n",
      "/opt/hostedtoolcache/Python/3.9.15/x64/lib/python3.9/site-packages/arxiv_on_deck_2/latex.py:292: LatexWarning: Latex injecting: 'head/head_APJ' from 'tmp_2211.13870/head/head_APJ.tex'\n",
      "  warnings.warn(LatexWarning(f\"Latex injecting: '{ext}' from '{subsource}'\"))\n",
      "/opt/hostedtoolcache/Python/3.9.15/x64/lib/python3.9/site-packages/arxiv_on_deck_2/latex.py:292: LatexWarning: Latex injecting: 'head/head_JCAP' from 'tmp_2211.13870/head/head_JCAP.tex'\n",
      "  warnings.warn(LatexWarning(f\"Latex injecting: '{ext}' from '{subsource}'\"))\n",
      "/opt/hostedtoolcache/Python/3.9.15/x64/lib/python3.9/site-packages/arxiv_on_deck_2/latex.py:292: LatexWarning: Latex injecting: 'head/head_PR' from 'tmp_2211.13870/head/head_PR.tex'\n",
      "  warnings.warn(LatexWarning(f\"Latex injecting: '{ext}' from '{subsource}'\"))\n"
     ]
    },
    {
     "name": "stdout",
     "output_type": "stream",
     "text": [
      "extracting tarball to tmp_2211.13877..."
     ]
    },
    {
     "name": "stdout",
     "output_type": "stream",
     "text": [
      " done.\n",
      "Retrieving document from  https://arxiv.org/e-print/2211.13997\n"
     ]
    },
    {
     "name": "stdout",
     "output_type": "stream",
     "text": [
      "extracting tarball to tmp_2211.13997..."
     ]
    },
    {
     "name": "stdout",
     "output_type": "stream",
     "text": [
      " done.\n"
     ]
    },
    {
     "name": "stderr",
     "output_type": "stream",
     "text": [
      "/opt/hostedtoolcache/Python/3.9.15/x64/lib/python3.9/site-packages/IPython/core/interactiveshell.py:3433: LatexWarning: Multiple tex files.\n",
      "\n",
      "  exec(code_obj, self.user_global_ns, self.user_ns)\n",
      "/opt/hostedtoolcache/Python/3.9.15/x64/lib/python3.9/site-packages/IPython/core/interactiveshell.py:3433: LatexWarning: Found documentclass in tmp_2211.13997/main.tex\n",
      "\n",
      "  exec(code_obj, self.user_global_ns, self.user_ns)\n",
      "/opt/hostedtoolcache/Python/3.9.15/x64/lib/python3.9/site-packages/arxiv_on_deck_2/latex.py:292: LatexWarning: Latex injecting: 'appendix_c.tex' from 'tmp_2211.13997/appendix_c.tex'\n",
      "  warnings.warn(LatexWarning(f\"Latex injecting: '{ext}' from '{subsource}'\"))\n",
      "/opt/hostedtoolcache/Python/3.9.15/x64/lib/python3.9/site-packages/arxiv_on_deck_2/latex.py:292: LatexWarning: Latex injecting: 'appendix_b.tex' from 'tmp_2211.13997/appendix_b.tex'\n",
      "  warnings.warn(LatexWarning(f\"Latex injecting: '{ext}' from '{subsource}'\"))\n",
      "/opt/hostedtoolcache/Python/3.9.15/x64/lib/python3.9/site-packages/arxiv_on_deck_2/latex.py:292: LatexWarning: Latex injecting: 'appendix_a.tex' from 'tmp_2211.13997/appendix_a.tex'\n",
      "  warnings.warn(LatexWarning(f\"Latex injecting: '{ext}' from '{subsource}'\"))\n",
      "/opt/hostedtoolcache/Python/3.9.15/x64/lib/python3.9/site-packages/arxiv_on_deck_2/latex.py:292: LatexWarning: Latex injecting: 'conclusion.tex' from 'tmp_2211.13997/conclusion.tex'\n",
      "  warnings.warn(LatexWarning(f\"Latex injecting: '{ext}' from '{subsource}'\"))\n",
      "/opt/hostedtoolcache/Python/3.9.15/x64/lib/python3.9/site-packages/arxiv_on_deck_2/latex.py:292: LatexWarning: Latex injecting: 'discussion.tex' from 'tmp_2211.13997/discussion.tex'\n",
      "  warnings.warn(LatexWarning(f\"Latex injecting: '{ext}' from '{subsource}'\"))\n",
      "/opt/hostedtoolcache/Python/3.9.15/x64/lib/python3.9/site-packages/arxiv_on_deck_2/latex.py:292: LatexWarning: Latex injecting: 'analysis.tex' from 'tmp_2211.13997/analysis.tex'\n",
      "  warnings.warn(LatexWarning(f\"Latex injecting: '{ext}' from '{subsource}'\"))\n",
      "/opt/hostedtoolcache/Python/3.9.15/x64/lib/python3.9/site-packages/arxiv_on_deck_2/latex.py:292: LatexWarning: Latex injecting: 'image_fitting.tex' from 'tmp_2211.13997/image_fitting.tex'\n",
      "  warnings.warn(LatexWarning(f\"Latex injecting: '{ext}' from '{subsource}'\"))\n",
      "/opt/hostedtoolcache/Python/3.9.15/x64/lib/python3.9/site-packages/arxiv_on_deck_2/latex.py:292: LatexWarning: Latex injecting: 'data.tex' from 'tmp_2211.13997/data.tex'\n",
      "  warnings.warn(LatexWarning(f\"Latex injecting: '{ext}' from '{subsource}'\"))\n",
      "/opt/hostedtoolcache/Python/3.9.15/x64/lib/python3.9/site-packages/arxiv_on_deck_2/latex.py:292: LatexWarning: Latex injecting: 'introduction.tex' from 'tmp_2211.13997/introduction.tex'\n",
      "  warnings.warn(LatexWarning(f\"Latex injecting: '{ext}' from '{subsource}'\"))\n",
      "/opt/hostedtoolcache/Python/3.9.15/x64/lib/python3.9/site-packages/arxiv_on_deck_2/latex.py:292: LatexWarning: Latex injecting: 'authors' from 'tmp_2211.13997/authors.tex'\n",
      "  warnings.warn(LatexWarning(f\"Latex injecting: '{ext}' from '{subsource}'\"))\n"
     ]
    },
    {
     "name": "stderr",
     "output_type": "stream",
     "text": [
      "/tmp/ipykernel_2133/4030337529.py:34: LatexWarning: 2211.13997 did not run properly\n",
      "sequence item 0: expected str instance, TexNode found\n",
      "  warnings.warn(latex.LatexWarning(f\"{paper_id:s} did not run properly\\n\" +\n"
     ]
    },
    {
     "name": "stdout",
     "output_type": "stream",
     "text": [
      "Retrieving document from  https://arxiv.org/e-print/2211.14022\n"
     ]
    },
    {
     "name": "stdout",
     "output_type": "stream",
     "text": [
      "extracting tarball to tmp_2211.14022..."
     ]
    },
    {
     "name": "stdout",
     "output_type": "stream",
     "text": [
      " done.\n",
      "Retrieving document from  https://arxiv.org/e-print/2211.14023\n"
     ]
    },
    {
     "name": "stderr",
     "output_type": "stream",
     "text": [
      "/opt/hostedtoolcache/Python/3.9.15/x64/lib/python3.9/site-packages/IPython/core/interactiveshell.py:3433: LatexWarning: Multiple tex files.\n",
      "\n",
      "  exec(code_obj, self.user_global_ns, self.user_ns)\n",
      "/opt/hostedtoolcache/Python/3.9.15/x64/lib/python3.9/site-packages/IPython/core/interactiveshell.py:3433: LatexWarning: Found documentclass in tmp_2211.14022/main.tex\n",
      "\n",
      "  exec(code_obj, self.user_global_ns, self.user_ns)\n",
      "/opt/hostedtoolcache/Python/3.9.15/x64/lib/python3.9/site-packages/arxiv_on_deck_2/latex.py:292: LatexWarning: Latex injecting: 'authors.tex' from 'tmp_2211.14022/authors.tex'\n",
      "  warnings.warn(LatexWarning(f\"Latex injecting: '{ext}' from '{subsource}'\"))\n"
     ]
    },
    {
     "name": "stdout",
     "output_type": "stream",
     "text": [
      "extracting tarball to tmp_2211.14023..."
     ]
    },
    {
     "name": "stdout",
     "output_type": "stream",
     "text": [
      " done.\n",
      "Retrieving document from  https://arxiv.org/e-print/2211.14063\n"
     ]
    },
    {
     "name": "stdout",
     "output_type": "stream",
     "text": [
      "extracting tarball to tmp_2211.14063..."
     ]
    },
    {
     "name": "stdout",
     "output_type": "stream",
     "text": [
      " done.\n",
      "Retrieving document from  https://arxiv.org/e-print/2211.14131\n"
     ]
    },
    {
     "name": "stderr",
     "output_type": "stream",
     "text": [
      "/opt/hostedtoolcache/Python/3.9.15/x64/lib/python3.9/site-packages/IPython/core/interactiveshell.py:3433: LatexWarning: Multiple tex files.\n",
      "\n",
      "  exec(code_obj, self.user_global_ns, self.user_ns)\n",
      "/opt/hostedtoolcache/Python/3.9.15/x64/lib/python3.9/site-packages/IPython/core/interactiveshell.py:3433: LatexWarning: Found documentclass in tmp_2211.14063/pazukhin.tex\n",
      "\n",
      "  exec(code_obj, self.user_global_ns, self.user_ns)\n"
     ]
    },
    {
     "name": "stdout",
     "output_type": "stream",
     "text": [
      "extracting tarball to tmp_2211.14131..."
     ]
    },
    {
     "name": "stdout",
     "output_type": "stream",
     "text": [
      " done.\n",
      "Retrieving document from  https://arxiv.org/e-print/2211.14132\n"
     ]
    },
    {
     "name": "stdout",
     "output_type": "stream",
     "text": [
      "extracting tarball to tmp_2211.14132..."
     ]
    },
    {
     "name": "stdout",
     "output_type": "stream",
     "text": [
      " done.\n"
     ]
    },
    {
     "name": "stderr",
     "output_type": "stream",
     "text": [
      "/opt/hostedtoolcache/Python/3.9.15/x64/lib/python3.9/site-packages/IPython/core/interactiveshell.py:3433: LatexWarning: Multiple tex files.\n",
      "\n",
      "  exec(code_obj, self.user_global_ns, self.user_ns)\n",
      "/opt/hostedtoolcache/Python/3.9.15/x64/lib/python3.9/site-packages/IPython/core/interactiveshell.py:3433: LatexWarning: Found documentclass in tmp_2211.14132/paper.tex\n",
      "\n",
      "  exec(code_obj, self.user_global_ns, self.user_ns)\n",
      "/opt/hostedtoolcache/Python/3.9.15/x64/lib/python3.9/site-packages/arxiv_on_deck_2/latex.py:292: LatexWarning: Latex injecting: 'tables/super_solar_mgfe' from 'tmp_2211.14132/tables/super_solar_mgfe.tex'\n",
      "  warnings.warn(LatexWarning(f\"Latex injecting: '{ext}' from '{subsource}'\"))\n",
      "/opt/hostedtoolcache/Python/3.9.15/x64/lib/python3.9/site-packages/arxiv_on_deck_2/latex.py:292: LatexWarning: Latex injecting: 'tables/super_solar_li_corr' from 'tmp_2211.14132/tables/super_solar_li_corr.tex'\n",
      "  warnings.warn(LatexWarning(f\"Latex injecting: '{ext}' from '{subsource}'\"))\n",
      "/opt/hostedtoolcache/Python/3.9.15/x64/lib/python3.9/site-packages/arxiv_on_deck_2/latex.py:292: LatexWarning: Latex injecting: 'tables/mmr_general' from 'tmp_2211.14132/tables/mmr_general.tex'\n",
      "  warnings.warn(LatexWarning(f\"Latex injecting: '{ext}' from '{subsource}'\"))\n"
     ]
    },
    {
     "name": "stdout",
     "output_type": "stream",
     "text": [
      "Retrieving document from  https://arxiv.org/e-print/2211.14200\n"
     ]
    },
    {
     "name": "stdout",
     "output_type": "stream",
     "text": [
      "extracting tarball to tmp_2211.14200... done.\n",
      "Retrieving document from  https://arxiv.org/e-print/2211.14225\n"
     ]
    },
    {
     "name": "stdout",
     "output_type": "stream",
     "text": [
      "extracting tarball to tmp_2211.14225..."
     ]
    },
    {
     "name": "stdout",
     "output_type": "stream",
     "text": [
      " done.\n",
      "Retrieving document from  https://arxiv.org/e-print/2211.14262\n"
     ]
    },
    {
     "name": "stderr",
     "output_type": "stream",
     "text": [
      "/opt/hostedtoolcache/Python/3.9.15/x64/lib/python3.9/site-packages/IPython/core/interactiveshell.py:3433: LatexWarning: Multiple tex files.\n",
      "\n",
      "  exec(code_obj, self.user_global_ns, self.user_ns)\n",
      "/opt/hostedtoolcache/Python/3.9.15/x64/lib/python3.9/site-packages/IPython/core/interactiveshell.py:3433: LatexWarning: Found documentclass in tmp_2211.14225/aa.tex\n",
      "\n",
      "  exec(code_obj, self.user_global_ns, self.user_ns)\n",
      "/opt/hostedtoolcache/Python/3.9.15/x64/lib/python3.9/site-packages/arxiv_on_deck_2/latex.py:292: LatexWarning: Latex injecting: 'tables/table_comp_squicc_miret.tex' from 'tmp_2211.14225/tables/table_comp_squicc_miret.tex'\n",
      "  warnings.warn(LatexWarning(f\"Latex injecting: '{ext}' from '{subsource}'\"))\n",
      "/opt/hostedtoolcache/Python/3.9.15/x64/lib/python3.9/site-packages/arxiv_on_deck_2/latex.py:292: LatexWarning: Latex injecting: 'tables/table_comp_kerr.tex' from 'tmp_2211.14225/tables/table_comp_kerr.tex'\n",
      "  warnings.warn(LatexWarning(f\"Latex injecting: '{ext}' from '{subsource}'\"))\n",
      "/opt/hostedtoolcache/Python/3.9.15/x64/lib/python3.9/site-packages/arxiv_on_deck_2/latex.py:292: LatexWarning: Latex injecting: 'tables/table_comp_damiani_zerjal.tex' from 'tmp_2211.14225/tables/table_comp_damiani_zerjal.tex'\n",
      "  warnings.warn(LatexWarning(f\"Latex injecting: '{ext}' from '{subsource}'\"))\n",
      "/opt/hostedtoolcache/Python/3.9.15/x64/lib/python3.9/site-packages/arxiv_on_deck_2/latex.py:292: LatexWarning: Latex injecting: 'tables/table-full-result-catalog-single-stars.tex' from 'tmp_2211.14225/tables/table-full-result-catalog-single-stars.tex'\n",
      "  warnings.warn(LatexWarning(f\"Latex injecting: '{ext}' from '{subsource}'\"))\n",
      "/opt/hostedtoolcache/Python/3.9.15/x64/lib/python3.9/site-packages/arxiv_on_deck_2/latex.py:292: LatexWarning: Latex injecting: 'tables/typical_parameter_uncertainties.tex' from 'tmp_2211.14225/tables/typical_parameter_uncertainties.tex'\n",
      "  warnings.warn(LatexWarning(f\"Latex injecting: '{ext}' from '{subsource}'\"))\n",
      "/opt/hostedtoolcache/Python/3.9.15/x64/lib/python3.9/site-packages/arxiv_on_deck_2/latex.py:292: LatexWarning: Latex injecting: 'tables/table_literature_overview.tex' from 'tmp_2211.14225/tables/table_literature_overview.tex'\n",
      "  warnings.warn(LatexWarning(f\"Latex injecting: '{ext}' from '{subsource}'\"))\n",
      "/opt/hostedtoolcache/Python/3.9.15/x64/lib/python3.9/site-packages/arxiv_on_deck_2/latex.py:292: LatexWarning: Latex injecting: 'tables/table2_hip+gaia.tex' from 'tmp_2211.14225/tables/table2_hip+gaia.tex'\n",
      "  warnings.warn(LatexWarning(f\"Latex injecting: '{ext}' from '{subsource}'\"))\n",
      "/opt/hostedtoolcache/Python/3.9.15/x64/lib/python3.9/site-packages/arxiv_on_deck_2/latex.py:292: LatexWarning: Latex injecting: 'tables/table_average_velocities.tex' from 'tmp_2211.14225/tables/table_average_velocities.tex'\n",
      "  warnings.warn(LatexWarning(f\"Latex injecting: '{ext}' from '{subsource}'\"))\n",
      "/opt/hostedtoolcache/Python/3.9.15/x64/lib/python3.9/site-packages/arxiv_on_deck_2/latex.py:292: LatexWarning: Latex injecting: 'tables/table_average_positions.tex' from 'tmp_2211.14225/tables/table_average_positions.tex'\n",
      "  warnings.warn(LatexWarning(f\"Latex injecting: '{ext}' from '{subsource}'\"))\n",
      "/opt/hostedtoolcache/Python/3.9.15/x64/lib/python3.9/site-packages/arxiv_on_deck_2/latex.py:292: LatexWarning: Latex injecting: 'tables/table_results_simulation' from 'tmp_2211.14225/tables/table_results_simulation.tex'\n",
      "  warnings.warn(LatexWarning(f\"Latex injecting: '{ext}' from '{subsource}'\"))\n",
      "/opt/hostedtoolcache/Python/3.9.15/x64/lib/python3.9/site-packages/arxiv_on_deck_2/latex.py:292: LatexWarning: Latex injecting: 'tables/table_algorithms.tex' from 'tmp_2211.14225/tables/table_algorithms.tex'\n",
      "  warnings.warn(LatexWarning(f\"Latex injecting: '{ext}' from '{subsource}'\"))\n"
     ]
    },
    {
     "name": "stdout",
     "output_type": "stream",
     "text": [
      "extracting tarball to tmp_2211.14262..."
     ]
    },
    {
     "name": "stdout",
     "output_type": "stream",
     "text": [
      " done.\n"
     ]
    }
   ],
   "source": [
    "documents = []\n",
    "failed = []\n",
    "for paper in tqdm(candidates[:-1]):\n",
    "    paper_id = paper['identifier'].lower().replace('arxiv:', '')\n",
    "    \n",
    "    folder = f'tmp_{paper_id}'\n",
    "\n",
    "    try:\n",
    "        if not os.path.isdir(folder):\n",
    "            folder = retrieve_document_source(f\"{paper_id}\", f'tmp_{paper_id}')\n",
    "        \n",
    "        try:\n",
    "            doc = latex.LatexDocument(folder, validation=validation)    \n",
    "        except AffiliationError as affilerror:\n",
    "            msg = f\"ArXiv:{paper_id:s} is not an MPIA paper... \" + str(affilerror)\n",
    "            failed.append((paper, \"affiliation error: \" + str(affilerror) ))\n",
    "            continue\n",
    "        \n",
    "        # Hack because sometimes author parsing does not work well\n",
    "        if (len(doc.authors) != len(paper['authors'])):\n",
    "            doc._authors = paper['authors']\n",
    "        if (doc.abstract) in (None, ''):\n",
    "            doc._abstract = paper['abstract']\n",
    "            \n",
    "        doc.comment = (get_markdown_badge(paper_id) + \n",
    "                       \"<mark>Appeared on: \" + paper['date'] + \"</mark> - \" +\n",
    "                       \"_\" + paper['comments'] + \"_\")\n",
    "        doc.highlight_authors_in_list(hl_list)\n",
    "\n",
    "        full_md = doc.generate_markdown_text()\n",
    "        \n",
    "        documents.append((paper_id, full_md))\n",
    "    except Exception as e:\n",
    "        warnings.warn(latex.LatexWarning(f\"{paper_id:s} did not run properly\\n\" +\n",
    "                                         str(e)\n",
    "                                        ))\n",
    "        failed.append((paper, \"latex error \" + str(e)))"
   ]
  },
  {
   "cell_type": "markdown",
   "id": "2505a25c",
   "metadata": {
    "papermill": {
     "duration": 0.010208,
     "end_time": "2022-11-28T04:10:51.734861",
     "exception": false,
     "start_time": "2022-11-28T04:10:51.724653",
     "status": "completed"
    },
    "tags": []
   },
   "source": [
    "### Export the logs\n",
    "\n",
    "Throughout, we also keep track of the logs per paper. see `logs-{today date}.md` "
   ]
  },
  {
   "cell_type": "code",
   "execution_count": 6,
   "id": "d733828a",
   "metadata": {
    "execution": {
     "iopub.execute_input": "2022-11-28T04:10:51.758545Z",
     "iopub.status.busy": "2022-11-28T04:10:51.757489Z",
     "iopub.status.idle": "2022-11-28T04:10:51.817639Z",
     "shell.execute_reply": "2022-11-28T04:10:51.816810Z"
    },
    "papermill": {
     "duration": 0.07468,
     "end_time": "2022-11-28T04:10:51.819552",
     "exception": false,
     "start_time": "2022-11-28T04:10:51.744872",
     "status": "completed"
    },
    "scrolled": false,
    "tags": []
   },
   "outputs": [
    {
     "data": {
      "text/markdown": [
       "## Successful papers"
      ],
      "text/plain": [
       "<IPython.core.display.Markdown object>"
      ]
     },
     "metadata": {},
     "output_type": "display_data"
    },
    {
     "data": {
      "text/markdown": [
       "\n",
       "|||\n",
       "|---:|:---|\n",
       "| [![arXiv](https://img.shields.io/badge/arXiv-arXiv:2211.13318-b31b1b.svg)](https://arxiv.org/abs/arXiv:2211.13318) | **High Resolution Study of Planetesimal Formation by Gravitational  Collapse of Pebble Clouds**  |\n",
       "|| Brooke Polak, <mark>Hubert Klahr</mark> |\n",
       "|*Appeared on*| *2022-11-28*|\n",
       "|*Comments*| *Accepted for publication in ApJ*|\n",
       "|**Abstract**| Planetary embryos are built through the collisional growth of 10-100 km sized objects called planetesimals, a formerly large population of objects, of which asteroids, comets and Kuiper-Belt objects represent the leftovers from planet formation in our solar system. Here, we follow the paradigm that turbulence created over-dense pebble clouds, which then collapse under their own self-gravity. We use the multi-physics code GIZMO to model the pebble cloud density as a continuum, with a polytropic equation of state to account for collisional interactions and capturing the phase transition to a quasi-incompressible solid object, i.e. a planetesimal in hydrostatic equilibrium. Thus we study cloud collapse effectively at the resolution of the forming planetesimals, allowing us to derive an initial mass function for planetesimals in relation to the total pebble mass of the collapsing cloud. The redistribution of angular momentum in the collapsing pebble cloud is the main mechanism leading to multiple fragmentation. The angular momentum of the pebble cloud and thus the centrifugal radius increases with distance to the sun, but the solid size of the forming planetesimals is constant. Therefore we find that with increasing distance to the sun, the number of forming planetesimals per pebble cloud increases. For all distances the formation of binaries occurs within higher hierarchical systems. The size distribution is top heavy and can be described with a Gaussian distribution of planetesimal mass. For the asteroid belt, we can infer a most likely size of 125 km, all stemming from pebble clouds of equivalent size 152 km. |"
      ],
      "text/plain": [
       "[arXiv:2211.13318] High Resolution Study of Planetesimal Formation by Gravitational  Collapse of Pebble Clouds\n",
       "\tBrooke Polak, <mark>Hubert Klahr</mark>"
      ]
     },
     "metadata": {},
     "output_type": "display_data"
    },
    {
     "data": {
      "text/markdown": [
       "\n",
       "|||\n",
       "|---:|:---|\n",
       "| [![arXiv](https://img.shields.io/badge/arXiv-arXiv:2211.13426-b31b1b.svg)](https://arxiv.org/abs/arXiv:2211.13426) | **PHANGS-JWST First Results: Dust embedded star clusters in NGC 7496  selected via 3.3 $μ$m PAH emission**  |\n",
       "|| Jimena Rodriguez, et al. -- incl., <mark>Janice Lee</mark>, <mark>Frank Bigiel</mark>, <mark>Daizhong Liu</mark>, <mark>Kathryn Kreckel</mark>, <mark>Annie Hughes</mark>, <mark>Eva Schinnerer</mark> |\n",
       "|*Appeared on*| *2022-11-28*|\n",
       "|*Comments*| *12 pages, 6 figures*|\n",
       "|**Abstract**| The earliest stages of star formation occur enshrouded in dust and are not observable in the optical. Here we leverage the extraordinary new high-resolution infrared imaging from JWST to begin the study of dust-embedded star clusters in nearby galaxies throughout the local volume. We present a technique for identifying dust-embedded clusters in NGC 7496 (18.7 Mpc), the first galaxy to be observed by the PHANGS-JWST Cycle 1 Treasury Survey. We select sources that have strong 3.3$\\mu$m PAH emission based on a $\\rm F300M-F335M$ color excess, and identify 67 candidate embedded clusters. Only eight of these are found in the PHANGS-HST optically-selected cluster catalog and all are young (six have SED-fit ages of $\\sim1$ Myr). We find that this sample of embedded cluster candidates may significantly increase the census of young clusters in NGC 7496 from the PHANGS-HST catalog -- the number of clusters younger than $\\sim$2 Myr could be increased by a factor of two. Candidates are preferentially located in dust lanes, and are coincident with peaks in PHANGS-ALMA CO (2-1) maps. We take a first look at concentration indices, luminosity functions, SEDs spanning from 2700A to 21$\\mu$m, and stellar masses (estimated to be between $\\sim10^4-10^5 M_{\\odot}$). The methods tested here provide a basis for future work to derive accurate constraints on the physical properties of embedded clusters, characterize the completeness of cluster samples, and expand analysis to all 19 galaxies in the PHANGS-JWST sample, which will enable basic unsolved problems in star formation and cluster evolution to be addressed. |"
      ],
      "text/plain": [
       "[arXiv:2211.13426] PHANGS-JWST First Results: Dust embedded star clusters in NGC 7496  selected via 3.3 $μ$m PAH emission\n",
       "\tJimena Rodriguez, et al. -- incl., <mark>Janice Lee</mark>, <mark>Frank Bigiel</mark>, <mark>Daizhong Liu</mark>, <mark>Kathryn Kreckel</mark>, <mark>Annie Hughes</mark>, <mark>Eva Schinnerer</mark>"
      ]
     },
     "metadata": {},
     "output_type": "display_data"
    },
    {
     "data": {
      "text/markdown": [
       "\n",
       "|||\n",
       "|---:|:---|\n",
       "| [![arXiv](https://img.shields.io/badge/arXiv-arXiv:2211.13811-b31b1b.svg)](https://arxiv.org/abs/arXiv:2211.13811) | **A global view on star formation: The GLOSTAR Galactic plane survey. VII.  Supernova remnants in the Galactic longitude range $28^\\circ<l<36^\\circ$**  |\n",
       "|| R. Dokara, et al. -- incl., <mark>H. Beuther</mark>, <mark>P. Müller</mark> |\n",
       "|*Appeared on*| *2022-11-28*|\n",
       "|*Comments*| *To be published in A&A. 21 pages, 15 figures*|\n",
       "|**Abstract**| Context. While over 1000 supernova remnants (SNRs) are estimated to exist in the Milky Way, only less than 400 have been found to date. In the context of this apparent deficiency, more than 150 SNR candidates were recently identified in the D-configuration Very Large Array (VLA-D) continuum images of the 4--8 GHz global view on star formation (GLOSTAR) survey, in the Galactic longitude range $-2^\\circ<l<60^\\circ$. Aims. We attempt to find evidence of nonthermal synchrotron emission from 35 SNR candidates in the region of Galactic longitude range $28^\\circ<l<36^\\circ$, and also to study the radio continuum emission from the previously confirmed SNRs in this region. Methods. Using the short-spacing corrected GLOSTAR VLA-D+Effelsberg images, we measure ${\\sim}6$ GHz total and linearly polarized flux densities of the SNR candidates and the SNRs that were previously confirmed. We also attempt to determine the spectral indices by measuring flux densities from complementary Galactic plane surveys and from the temperature-temperature plots of the GLOSTAR-Effelsberg images. Results. We provide evidence of nonthermal emission from four candidates that have spectral indices and polarization consistent with a SNR origin, and, considering their morphology, we are confident that three of these (G28.36+0.21, G28.78-0.44, and G29.38+0.10) are indeed SNRs. However, about $25\\%$ of the candidates have spectral index measurements that indicate thermal emission, and the rest of them are too faint to have a good constraint on the spectral index yet. Conclusions. Additional observations at longer wavelengths and higher sensitivities will shed more light on the nature of these candidates. A simple Monte-Carlo simulation reiterates the view that future studies must persist with the current strategy of searching for SNRs with small angular size to solve the problem of the Milky Way's missing SNRs. |"
      ],
      "text/plain": [
       "[arXiv:2211.13811] A global view on star formation: The GLOSTAR Galactic plane survey. VII.  Supernova remnants in the Galactic longitude range $28^\\circ<l<36^\\circ$\n",
       "\tR. Dokara, et al. -- incl., <mark>H. Beuther</mark>, <mark>P. Müller</mark>"
      ]
     },
     "metadata": {},
     "output_type": "display_data"
    },
    {
     "data": {
      "text/markdown": [
       "\n",
       "|||\n",
       "|---:|:---|\n",
       "| [![arXiv](https://img.shields.io/badge/arXiv-arXiv:2211.14132-b31b1b.svg)](https://arxiv.org/abs/arXiv:2211.14132) | **The Gaia-ESO Survey: probing the lithium abundances in old metal-rich  dwarf stars in the Solar vicinity**  |\n",
       "|| M. L. L. Dantas, et al. -- incl., <mark>G. Guiglion</mark>, <mark>U. Heiter</mark> |\n",
       "|*Appeared on*| *2022-11-28*|\n",
       "|*Comments*| *8 pages, 3 figures. Accepted for publication in A&A Letters. Abridged abstract to fit ArXiv's requirements*|\n",
       "|**Abstract**| We test a scenario in which radial migration could affect the Li abundance pattern of dwarf stars in the solar neighbourhood. This may confirm that the Li abundance in these stars can not serve as a probe for the Li abundance in the interstellar medium. We use the high-quality data (including Li abundances) from the 6th internal Data Release of the Gaia-ESO survey. In this sample, we group stars by similarity in chemical abundances via hierarchical clustering. Our analysis treats both measured Li abundances and upper limits. The Li envelope of the previously identified radially migrated stars is well below the benchmark meteoritic value (<3.26 dex); the star with the highest detected abundance has A(Li) = 2.76 dex. This confirms the previous trends observed for old dwarf stars (median ages $\\sim$ 8 Gyr), where Li decreases for [Fe/H]$\\gtrsim$0. This result acts as supporting evidence that the abundance of Li measured in the upper envelope of old dwarf stars should not be considered a proxy for the interstellar medium Li. Our scenario also indicates that the stellar yields for [M/H]>0 should not be decreased, as recently proposed in the literature. Our study backs the recent studies that claimed that old dwarfs on the hot side of the dip are efficient probes of the ISM abundance of Li, provided atomic diffusion does not lower significantly the initial Li abundance in the atmospheres of metal-rich objects. |"
      ],
      "text/plain": [
       "[arXiv:2211.14132] The Gaia-ESO Survey: probing the lithium abundances in old metal-rich  dwarf stars in the Solar vicinity\n",
       "\tM. L. L. Dantas, et al. -- incl., <mark>G. Guiglion</mark>, <mark>U. Heiter</mark>"
      ]
     },
     "metadata": {},
     "output_type": "display_data"
    },
    {
     "data": {
      "text/markdown": [
       "## Failed papers"
      ],
      "text/plain": [
       "<IPython.core.display.Markdown object>"
      ]
     },
     "metadata": {},
     "output_type": "display_data"
    },
    {
     "data": {
      "text/markdown": [
       "\n",
       "|||\n",
       "|---:|:---|\n",
       "| [![arXiv](https://img.shields.io/badge/arXiv-arXiv:2211.13476-b31b1b.svg)](https://arxiv.org/abs/arXiv:2211.13476) | **The VLT-FLAMES Tarantula Survey: Observational evidence for two distinct  populations of massive runaway stars in 30 Doradus**  |\n",
       "|| H. Sana, et al. -- incl., <mark>L. Mahy</mark>, <mark>N. Langer</mark>, <mark>A. Herrero</mark> |\n",
       "|*Appeared on*| *2022-11-28*|\n",
       "|*Comments*| *Accepted for publication in A&A Letters; 9 pages, 5 figures*|\n",
       "|**Abstract**| Two main scenarios have been proposed for origin of massive runaway stars -- dynamical ejection or release from a binary at the first core collapse -- but their relative contribution remains debated. Using two large spectroscopic campaigns towards massive stars in 30 Doradus, we aim to provide observational constraints on the properties of the O-type runaway population in the most massive active star-forming region in the Local group. We use RV measurements of the O-type star populations in 30 Doradus obtained by the VLT-FLAMES Tarantula Survey and the Tarantula Massive Binary Monitoring to identify single and binary O-type runaways. We discuss their rotational properties and qualitatively compare observations with expectations of ejection scenarios. We identify 23 single and one binary O-type runaway objects, most of them outside the main star-forming regions in 30 Doradus. We find an overabundance of rapid rotators (vsini > 200km/s) among the runaway population, providing an explanation of the overabundance of rapidly rotating stars in the 30 Doradus field. Considerations of the projected rotation rates and runaway line-of-sight (los) velocities reveal a conspicuous absence of rapidly rotating (vsini > 210k/ms), fast moving (v_{los} > 60km/s) runaways, and suggest the presence of two different populations of runaway stars: a population of rapidly-spinning but slowly moving runaways and a population of fast moving but slowly rotating ones. These are detected with a ratio close to 2:1 in our sample. We argue that slowly moving but rapidly spinning runaways result from binary ejections, while rapidly moving but slowly spinning runaways could result from dynamical ejections. Given that detection biases will more strongly impact the slow-moving population, our results suggest that the binary evolution scenario dominates the current massive runaway population in 30 Doradus. |\n",
       "|<p style=\"color:green\"> **ERROR** </p>| <p style=\"color:green\">affiliation error: mpia.affiliation_verifications: '69117' keyword not found.</p> |"
      ],
      "text/plain": [
       "<IPython.core.display.Markdown object>"
      ]
     },
     "metadata": {},
     "output_type": "display_data"
    },
    {
     "data": {
      "text/markdown": [
       "\n",
       "|||\n",
       "|---:|:---|\n",
       "| [![arXiv](https://img.shields.io/badge/arXiv-arXiv:2211.13311-b31b1b.svg)](https://arxiv.org/abs/arXiv:2211.13311) | **Investigating datasets with high IRIS burst prevalence**  |\n",
       "|| C. J. Nelson, <mark>L. Kleint</mark> |\n",
       "|*Appeared on*| *2022-11-28*|\n",
       "|*Comments*| *12 pages, 9 figures, accepted to A&A*|\n",
       "|**Abstract**| Approximately 0.01 % of all Si IV 1394 A spectra sampled in 2013 and 2014 by the Interface Region Imaging Spectrograph (IRIS) have IRIS burst profiles. However, these events are not evenly distributed across datasets with 19.31 % of these spectra being identified in only six rasters. Here, we investigate five of these six datasets, to understand why they contain so many IRIS burst profiles. This research will help guide future targeted analyses of IRIS bursts. We analyse five datasets sampled by the IRIS satellite, studying both Si IV 1394 A spectra and 1400 A filter slit-jaw imager (SJI) data. IRIS burst profiles are identified through the use of an automated algorithm. Additionally, we study co-spatial line-of-sight photospheric magnetic field maps sampled by the Solar Dynamics Observatory's Helioseismic and Magnetic Imager (SDO/HMI) instrument. The majority of identified IRIS burst profiles (12401 out of 13904) found in the five datasets analysed here were localised to seven small regions in the time-distance domain (temporal durations of <4 hours and spatial lengths of <12\" along the slit). The SJI data co-spatial to these regions contained long-lived or repetitive compact brightenings, matching the defined properties of UV bursts, which remained close to the IRIS slit throughout their evolutions. The IRIS burst profiles were not limited to the brightest pixels in the fields of view (FOVs) nor did they comprise the majority of bright (>500 DN/s) pixels. These IRIS burst profiles occurred co-spatial to evolving (e.g. cancelling) opposite polarity magnetic fields where magnetic reconnection is thought to be possible. More than 10 % of the IRIS burst profiles identified during the entirety of 2013 and 2014 are contained in just seven small regions in the time-distance domain where long-lived (lifetimes >10 minutes) or repetitive UV bursts occurred along the axis of the IRIS slit. |\n",
       "|<p style=\"color:green\"> **ERROR** </p>| <p style=\"color:green\">affiliation error: mpia.affiliation_verifications: 'Heidelberg' keyword not found.</p> |"
      ],
      "text/plain": [
       "<IPython.core.display.Markdown object>"
      ]
     },
     "metadata": {},
     "output_type": "display_data"
    },
    {
     "data": {
      "text/markdown": [
       "\n",
       "|||\n",
       "|---:|:---|\n",
       "| [![arXiv](https://img.shields.io/badge/arXiv-arXiv:2211.13320-b31b1b.svg)](https://arxiv.org/abs/arXiv:2211.13320) | **The growth of intermediate mass black holes through tidal captures and  tidal disruption events**  |\n",
       "|| Francesco Paolo Rizzuto, et al. -- incl., <mark>Shihong Liao</mark> |\n",
       "|*Appeared on*| *2022-11-28*|\n",
       "|*Comments*| *17 pages, 18 figures*|\n",
       "|**Abstract**| We present $N\\mathrm{-body} $ simulations, including post-Newtonian dynamics, of dense clusters of low-mass stars harbouring central black holes (BHs) with initial masses of 50, 300, and 2000 $\\mathrm{M_{\\odot}}$. The models are evolved with the $N\\mathrm{-body} $ code \\textsc{bifrost} to investigate the possible formation and growth of massive BHs by the tidal capture of stars and tidal disruption events (TDEs). We model star-BH tidal interactions using a velocity-dependent drag force, which causes orbital energy and angular momentum loss near the BH. About $\\sim 20-30$ per cent of the stars within the spheres of influence of the black holes form Bahcall-Wolf cusps and prevent the systems from core collapse. Within the first 40 Myr of evolution, the systems experience 500 up to 1300 TDEs, depending on the initial cluster structure. Most ($> 95$ per cent) of the TDEs originate from stars in the Bahcall-Wolf cusp. We derive an analytical formula for the TDE rate as a function of the central BH mass, density and velocity dispersion of the clusters ($\\dot{N}_{\\mathrm{TDE}} \\propto M\\mathrm{_{BH}} \\rho \\sigma^{-3}$). We find that TDEs can lead a 300 $\\mathrm{M_{\\odot}}$ BH to reach $\\sim 7000 \\mathrm{M_{\\odot}}$ within a Gyr. This indicates that TDEs can drive the formation and growth of massive BHs in sufficiently dense environments, which might be present in the central regions of nuclear star clusters. |\n",
       "|<p style=\"color:green\"> **ERROR** </p>| <p style=\"color:green\">affiliation error: mpia.affiliation_verifications: 'Heidelberg' keyword not found.</p> |"
      ],
      "text/plain": [
       "<IPython.core.display.Markdown object>"
      ]
     },
     "metadata": {},
     "output_type": "display_data"
    },
    {
     "data": {
      "text/markdown": [
       "\n",
       "|||\n",
       "|---:|:---|\n",
       "| [![arXiv](https://img.shields.io/badge/arXiv-arXiv:2211.13334-b31b1b.svg)](https://arxiv.org/abs/arXiv:2211.13334) | **Two lensed star candidates at $z\\simeq4.8$ behind the galaxy cluster  MACS J0647.7+7015**  |\n",
       "|| Ashish Kumar Meena, et al. -- incl., <mark>Guillaume Mahler</mark> |\n",
       "|*Appeared on*| *2022-11-28*|\n",
       "|*Comments*| *12 pages, 5 figures, 2 tables. comments are welcome*|\n",
       "|**Abstract**| We report the discovery of two extremely magnified lensed star candidates behind the galaxy cluster MACS~J0647.7+7015, in recent multi-band James Webb Space Telescope (JWST) NIRCam observations. The candidates are seen in a previously known, $z_{phot}\\simeq4.8$ dropout giant arc that straddles the critical curve. The candidates lie near the expected critical curve position but lack clear counter images on the other side of it, suggesting these are possibly stars undergoing caustic crossings. We present revised lensing models for the cluster, including multiply imaged galaxies newly identified in the JWST data, and use them to estimate a background macro-magnification of at least $\\gtrsim90$ and $\\gtrsim50$ at the positions of the two candidates, respectively. With these values, we expect effective, caustic-crossing magnifications of $10^4-10^5$ for the two star candidates. The Spectral Energy Distributions (SEDs) of the two candidates match well spectra of B-type stars with best-fit surface temperatures of $\\sim10,000$ K, and $\\sim12,000$ K, respectively, and we show that such stars with masses $\\gtrsim20$ M$_{\\odot}$ and $\\gtrsim50$ M$_{\\odot}$, respectively, can become sufficiently magnified to be observed. We briefly discuss other alternative explanations and conclude these are likely lensed stars, but also acknowledge that the less magnified candidate may instead be or reside in a star cluster. These star candidates constitute the second highest-redshift examples to date after Earendel at $z_{phot}\\simeq6.2$, establishing further the potential of studying extremely magnified stars to high redshifts with the JWST. Planned visits including NIRSpec observations will enable a more detailed view of the candidates already in the near future. |\n",
       "|<p style=\"color:green\"> **ERROR** </p>| <p style=\"color:green\">affiliation error: mpia.affiliation_verifications: 'Heidelberg' keyword not found.</p> |"
      ],
      "text/plain": [
       "<IPython.core.display.Markdown object>"
      ]
     },
     "metadata": {},
     "output_type": "display_data"
    },
    {
     "data": {
      "text/markdown": [
       "\n",
       "|||\n",
       "|---:|:---|\n",
       "| [![arXiv](https://img.shields.io/badge/arXiv-arXiv:2211.13380-b31b1b.svg)](https://arxiv.org/abs/arXiv:2211.13380) | **Dependence of Chemical Abundance on the Cosmic Ray Ionization Rate in IC  348**  |\n",
       "|| Gan Luo, et al. -- incl., <mark>Zhi-Yu Zhang</mark>, <mark>Di Li</mark>, <mark>Lingrui Lin</mark> |\n",
       "|*Appeared on*| *2022-11-28*|\n",
       "|*Comments*| *21 pages, 11 figures. Submitted to ApJ*|\n",
       "|**Abstract**| Ions (e.g., H$_3^+$, H$_2$O$^+$) have been used extensively to quantify the cosmic-ray ionization rate (CRIR) in diffuse sightlines. However, measurements of CRIR in low-to-intermediate density gas environments are rare, especially when background stars are absent. In this work, we combine molecular line observations of CO, OH, CH, and HCO$^+$ in the star-forming cloud IC~348, and chemical models to constrain the value of CRIR and study the response of the chemical abundances distribution. The cloud boundary is found to have an $A_{\\rm V}$ of approximately 4 mag. From the interior to the exterior of the cloud, the observed $^{13}$CO line intensities drop by an order of magnitude. The calculated average abundance of $^{12}$CO (assuming $^{12}$C/$^{13}$C = 65) is (1.2$\\pm$0.9) $\\times$10$^{-4}$, which increases by a factor of 6 from the interior to the outside regions. The average abundance of CH (3.3$\\pm$0.7 $\\times$ 10$^{-8}$) is in good agreement with previous findings in diffuse and translucent clouds ($A_{\\rm V}$ $<$ 5 mag). However, we did not find a decline in CH abundance in regions of high extinction ($A_{\\rm V}\\simeq$8 mag) as previously reported in Taurus. By comparing the observed molecular abundances and chemical models, we find a decreasing trend of CRIR as $A_{\\rm V}$ increases. The inferred CRIR of $\\zeta_{cr}$ = (4.7$\\pm$1.5) $\\times$ 10$^{-16}$ s$^{-1}$ at low $A_{\\rm V}$ is consistent with H$^+_3$ measurements toward two nearby massive stars. |\n",
       "|<p style=\"color:green\"> **ERROR** </p>| <p style=\"color:green\">affiliation error: mpia.affiliation_verifications: 'Heidelberg' keyword not found.</p> |"
      ],
      "text/plain": [
       "<IPython.core.display.Markdown object>"
      ]
     },
     "metadata": {},
     "output_type": "display_data"
    },
    {
     "data": {
      "text/markdown": [
       "\n",
       "|||\n",
       "|---:|:---|\n",
       "| [![arXiv](https://img.shields.io/badge/arXiv-arXiv:2211.13393-b31b1b.svg)](https://arxiv.org/abs/arXiv:2211.13393) | **Simulations of Triple Microlensing Events I: Detectability of a scaled  Sun-Jupiter-Saturn System**  |\n",
       "|| Renkun Kuang, et al. -- incl., <mark>Jiyuan Zhang</mark> |\n",
       "|*Appeared on*| *2022-11-28*|\n",
       "|*Comments*| *14 pages, 11 figures, submitted to MNRAS, comments welcome!*|\n",
       "|**Abstract**| Up to date, only 13 firmly established triple microlensing events have been discovered, so the occurrence rates of microlensing two-planet systems and planets in binary systems are still uncertain. With the upcoming space-based microlensing surveys, hundreds of triple microlensing events will be detected. To provide clues for future observations and statistical analyses, we initiate a project to investigate the detectability of triple-lens systems with different configurations and observational setups. As the first step, in this work we develop the simulation software and investigate the detectability of a scaled Sun-Jupiter-Saturn system with the recently proposed microlensing telescope of the ``Earth 2.0 (ET)'' mission. We find that the detectability of the scaled Sun-Jupiter-Saturn analog is about 1%. In addition, the presence of the Jovian planet suppresses the detectability of the Saturn-like planet by $\\sim $13% regardless of the adopted detection $\\Delta\\chi^2$ threshold. This suppression probability could be at the same level as the Poisson noise of future space-based statistical samples of triple-lenses, so it is inappropriate to treat each planet separately during detection efficiency calculations. |\n",
       "|<p style=\"color:green\"> **ERROR** </p>| <p style=\"color:green\">affiliation error: mpia.affiliation_verifications: 'Heidelberg' keyword not found.</p> |"
      ],
      "text/plain": [
       "<IPython.core.display.Markdown object>"
      ]
     },
     "metadata": {},
     "output_type": "display_data"
    },
    {
     "data": {
      "text/markdown": [
       "\n",
       "|||\n",
       "|---:|:---|\n",
       "| [![arXiv](https://img.shields.io/badge/arXiv-arXiv:2211.13407-b31b1b.svg)](https://arxiv.org/abs/arXiv:2211.13407) | **X-ray emission of radio-loud quasar SDSS J121426.52+140258.9:  independent variations between optical/UV and X-ray emission**  |\n",
       "|| Minhua Zhou, Minfeng Gu, <mark>Mai Liao</mark>, Muhammad S. Anjum |\n",
       "|*Appeared on*| *2022-11-28*|\n",
       "|*Comments*| *13 pages, 9 figures, accepted for publication in MNRAS*|\n",
       "|**Abstract**| To understand the X-ray emission of active galactic nuclei (AGNs), we explored the optical-to-X-ray variation correlation of a radio-loud quasar (RLQ) SDSS J121426.52+140258.9 (hereafter J1214+1402) with multi-epoch observations of Swift and XMM-Newton telescopes. With the historical multi-band data, we found that the infrared to X-ray flux of RLQ J1214+1402 should not be dominated by the beamed jet emission. The Swift optical/UV and X-ray light curves showed that J1214+1402 has two optical states with low flux before 2014 April 08 and high flux after 2014 June 11, but has no significant X-ray variations during the time range between 2007 March 09 and 2014 August 04. This result was supported by the XMM-Newton observations in the overlapped time with Swift. Interestingly, the early XMM-Newton data prior to the Swift time presents two unusual emission epochs when J1214+1402 has relatively low optical fluxes but has the brightest X-ray fluxes. The overall independence of optical-to-X-ray variation seems hard to be described by the disk-corona model. With the X-ray spectral fitting, we find that the soft X-ray excess in J1214+1402 appears only during the high optical state when the X-ray emission is at low state. The soft X-ray excess in J1214+1402 is difficult to be explained by the ionized accretion disk, instead, it may be related to the warm corona. |\n",
       "|<p style=\"color:green\"> **ERROR** </p>| <p style=\"color:green\">affiliation error: mpia.affiliation_verifications: 'Heidelberg' keyword not found.</p> |"
      ],
      "text/plain": [
       "<IPython.core.display.Markdown object>"
      ]
     },
     "metadata": {},
     "output_type": "display_data"
    },
    {
     "data": {
      "text/markdown": [
       "\n",
       "|||\n",
       "|---:|:---|\n",
       "| [![arXiv](https://img.shields.io/badge/arXiv-arXiv:2211.13576-b31b1b.svg)](https://arxiv.org/abs/arXiv:2211.13576) | **Why and When to Expect Gaussian Error Distributions in Epoch of  Reionization 21-cm Power Spectrum Measurements**  |\n",
       "|| Michael J. Wilensky, <mark>Jordan Brown</mark>, Bryna J. Hazelton |\n",
       "|*Appeared on*| *2022-11-28*|\n",
       "|*Comments*| **|\n",
       "|**Abstract**| We explore error distributions in Epoch of Reionization 21-cm power spectrum estimators using a combination of mathematical analysis and numerical simulations. We provide closed form solutions for the error distributions of individual bins in 3d-power spectra for two estimators currently in use in the field, which we designate as ``straight-square\" and ``cross-multiply\" estimators. We then demonstrate when the corresponding spherically binned power spectra should (and should not) have Gaussian error distributions, which requires appealing to nonstandard statements of the central limit theorem. This has important implications for how upper limits are reported, as well as how cosmological inferences are performed based on power spectrum measurements. Specifically, assuming a Gaussian error distribution can over or underestimate the upper limit depending on the type of estimator, and produces overly compact likelihood functions for the power spectrum. |\n",
       "|<p style=\"color:green\"> **ERROR** </p>| <p style=\"color:green\">affiliation error: mpia.affiliation_verifications: 'Heidelberg' keyword not found.</p> |"
      ],
      "text/plain": [
       "<IPython.core.display.Markdown object>"
      ]
     },
     "metadata": {},
     "output_type": "display_data"
    },
    {
     "data": {
      "text/markdown": [
       "\n",
       "|||\n",
       "|---:|:---|\n",
       "| [![arXiv](https://img.shields.io/badge/arXiv-arXiv:2211.13588-b31b1b.svg)](https://arxiv.org/abs/arXiv:2211.13588) | **Constraining constant and tomographic coupled dark energy with  low-redshift and high-redshift probes**  |\n",
       "|| <mark>Lisa W. K. Goh</mark>, Adrià Gómez-Valent, Valeria Pettorino, Martin Kilbinger |\n",
       "|*Appeared on*| *2022-11-28*|\n",
       "|*Comments*| *25 pages, 17 figures*|\n",
       "|**Abstract**| We consider coupled dark energy (CDE) cosmologies, where dark matter particles feel a force stronger than gravity, due to the fifth force mediated by a scalar field which plays the role of dark energy. We perform for the first time a tomographic analysis of coupled dark energy, where the coupling strength is parametrised and constrained in different redshift bins. This allows us to verify which data can better constrain the strength of the coupling and how large the coupling can be at different epochs. First, we employ cosmic microwave background data from $\\textit{Planck}$, the Atacama Cosmology Telescope (ACT) and South Pole Telescope (SPT), showing the impact of different choices that can be done in combining these datasets. Then, we use a range of low redshift probes to test CDE cosmologies, both for a constant and for a tomographic coupling. In particular, we use for the first time data from weak lensing (the KiDS-1000 survey), galaxy clustering (BOSS survey), and their combination, including 3x2pt galaxy-galaxy lensing cross-correlation data. We see that with a tomographic CDE model, there can be a considerable degree of variation in coupling strength between different epochs. When combining CMB and low redshift probes other than weak lensing and galaxy clustering, we see that coupling at redshifts $ z\\leq 5$ is considerably unconstrained. On the other hand, galaxy clustering and consequently 3x2pt are able to place tight constraints on the coupling strength $\\beta$, with $\\beta \\lesssim 0.02$ at 68% C.L. for a constant coupling case, making upcoming galaxy surveys potentially powerful probes to constrain such CDE models. |\n",
       "|<p style=\"color:green\"> **ERROR** </p>| <p style=\"color:green\">affiliation error: mpia.affiliation_verifications: 'Heidelberg' keyword not found.</p> |"
      ],
      "text/plain": [
       "<IPython.core.display.Markdown object>"
      ]
     },
     "metadata": {},
     "output_type": "display_data"
    },
    {
     "data": {
      "text/markdown": [
       "\n",
       "|||\n",
       "|---:|:---|\n",
       "| [![arXiv](https://img.shields.io/badge/arXiv-arXiv:2211.13608-b31b1b.svg)](https://arxiv.org/abs/arXiv:2211.13608) | **Inference of cosmological models with principal component analysis**  |\n",
       "|| <mark>Ranbir Sharma</mark>, H K Jassal |\n",
       "|*Appeared on*| *2022-11-28*|\n",
       "|*Comments*| *6 pages, 3 figures*|\n",
       "|**Abstract**| In this paper, we combine the Principal Component Analysis (PCA) and Markov Chain Monte Carlo (MCMC) method to infer the parameters of cosmological models. We use No U Turn Sampler (NUTS) to run the MCMC chains in the model parameter space. After testing our methodology with simulated data, we apply the same in the observed data-set. We assume a polynomial expansion as the parametrization of the dark energy equation of state. We show that this method is effective in constraining cosmological parameters from data, including sparse data-sets. |\n",
       "|<p style=\"color:green\"> **ERROR** </p>| <p style=\"color:green\">affiliation error: mpia.affiliation_verifications: 'Heidelberg' keyword not found.</p> |"
      ],
      "text/plain": [
       "<IPython.core.display.Markdown object>"
      ]
     },
     "metadata": {},
     "output_type": "display_data"
    },
    {
     "data": {
      "text/markdown": [
       "\n",
       "|||\n",
       "|---:|:---|\n",
       "| [![arXiv](https://img.shields.io/badge/arXiv-arXiv:2211.13611-b31b1b.svg)](https://arxiv.org/abs/arXiv:2211.13611) | **Software Architecture and System Design of Rubin Observatory**  |\n",
       "|| William O'Mullane, et al. -- incl., <mark>Kian-Tat Lim</mark>, <mark>Fritz Mueller</mark> |\n",
       "|*Appeared on*| *2022-11-28*|\n",
       "|*Comments*| *10 pages ADASS XXXII submission*|\n",
       "|**Abstract**| Starting from a description of the Rubin Observatory Data Management System Architecture, and drawing on our experience with and involvement in a range of other projects including Gaia, SDSS, UKIRT, and JCMT, we derive a series of generic design patterns and lessons learned. |\n",
       "|<p style=\"color:green\"> **ERROR** </p>| <p style=\"color:green\">affiliation error: mpia.affiliation_verifications: 'Heidelberg' keyword not found.</p> |"
      ],
      "text/plain": [
       "<IPython.core.display.Markdown object>"
      ]
     },
     "metadata": {},
     "output_type": "display_data"
    },
    {
     "data": {
      "text/markdown": [
       "\n",
       "|||\n",
       "|---:|:---|\n",
       "| [![arXiv](https://img.shields.io/badge/arXiv-arXiv:2211.13614-b31b1b.svg)](https://arxiv.org/abs/arXiv:2211.13614) | **Supermassive black holes in merger-free galaxies have higher spins which  are preferentially aligned with their host galaxy**  |\n",
       "|| R. S. Beckmann, et al. -- incl., <mark>C. J. Lintott</mark> |\n",
       "|*Appeared on*| *2022-11-28*|\n",
       "|*Comments*| *RSB and RJS are joint first authors. Submitted to MNRAS, 10 pages*|\n",
       "|**Abstract**| Here we use the Horizon-AGN simulation to test whether the spins of SMBHs in merger-free galaxies are higher. We select samples using an observationally motivated bulge-to-total mass ratio of < 0.1, along with two simulation motivated thresholds selecting galaxies which have not undergone a galaxy merger since z = 2, and those SMBHs with < 10% of their mass due to SMBH mergers. We find higher spins (> 5{\\sigma} ) in all three samples compared to the rest of the population. In addition, we find that SMBHs with their growth dominated by BH mergers following galaxy mergers, are less likely to be aligned with their galaxy spin than those that have grown through accretion in the absence of galaxy mergers (3.4{\\sigma} ). We discuss the implications this has for the impact of active galactic nuclei (AGN) feedback, finding that merger-free SMBHs spend on average 91% of their lifetimes since z = 2 in a radio mode of feedback (88% for merger-dominated galaxies). Given that previous observational and theoretical works have concluded that merger-free processes dominate SMBH-galaxy co-evolution, our results suggest that this co-evolution could be regulated by radio mode AGN feedback. |\n",
       "|<p style=\"color:green\"> **ERROR** </p>| <p style=\"color:green\">affiliation error: mpia.affiliation_verifications: 'Heidelberg' keyword not found.</p> |"
      ],
      "text/plain": [
       "<IPython.core.display.Markdown object>"
      ]
     },
     "metadata": {},
     "output_type": "display_data"
    },
    {
     "data": {
      "text/markdown": [
       "\n",
       "|||\n",
       "|---:|:---|\n",
       "| [![arXiv](https://img.shields.io/badge/arXiv-arXiv:2211.13620-b31b1b.svg)](https://arxiv.org/abs/arXiv:2211.13620) | **An Hα Impression of Lyα Galaxies at $z\\simeq6$ with Deep  JWST/NIRCam Imaging**  |\n",
       "|| Yuanhang Ning, et al. -- incl., <mark>Linhua Jiang</mark>, <mark>Xiaojing Lin</mark> |\n",
       "|*Appeared on*| *2022-11-28*|\n",
       "|*Comments*| *10 pages, 4 figures, 2 tables, submitted to ApJL*|\n",
       "|**Abstract**| We present a study of seven spectroscopically confirmed Ly{\\alpha} emitting galaxies at redshift $z\\simeq6$ using the James Webb Space Telescope (JWST) NIRCam images. These galaxies, with a wide range of Ly{\\alpha} luminosities, were recently observed in a series of NIRCam broad- and medium-bands. We measure the continuum and H{\\alpha} line properties of the galaxies using the combination of the NIRCam photometry and archival Hubble Space Telescope imaging data. We find that galaxies with bluer UV continuum slopes likely have higher escape fractions of Ly{\\alpha} photons. We also find that galaxies with higher Ly{\\alpha} line emission tend to produce ionizing photons more efficiently. The most Ly{\\alpha}-luminous galaxy in the sample has a high ionizing photon production efficiency of log$_{10} \\xi_{\\rm ion, 0}$ (Hz erg$^{-1}$) > 26. Our results support that Ly{\\alpha} galaxies may have served as an important contributor to the cosmic reionization. Blue and bright Ly{\\alpha} galaxies are also excellent targets for JWST follow-up spectroscopic observations. |\n",
       "|<p style=\"color:green\"> **ERROR** </p>| <p style=\"color:green\">affiliation error: mpia.affiliation_verifications: 'Heidelberg' keyword not found.</p> |"
      ],
      "text/plain": [
       "<IPython.core.display.Markdown object>"
      ]
     },
     "metadata": {},
     "output_type": "display_data"
    },
    {
     "data": {
      "text/markdown": [
       "\n",
       "|||\n",
       "|---:|:---|\n",
       "| [![arXiv](https://img.shields.io/badge/arXiv-arXiv:2211.13629-b31b1b.svg)](https://arxiv.org/abs/arXiv:2211.13629) | **Deep solar ALMA neural network estimator for image refinement and  estimates of small-scale dynamics**  |\n",
       "|| <mark>Henrik Eklund</mark> |\n",
       "|*Appeared on*| *2022-11-28*|\n",
       "|*Comments*| *11 pages, 7 figures. Accepted for publication in Astronomy and Astrophysics*|\n",
       "|**Abstract**| The contrasts and magnitude of observable signatures of small-scale features degrade as angular resolution decreases. High-cadence time-series of synthetic observable maps at 1.25 mm were produced from 3D magnetohydrodynamic Bifrost simulations of the solar atmosphere and degraded to the angular resolution corresponding to observational data with the Atacama Large Millimeter/sub-millimeter Array (ALMA). The Deep Solar ALMA Neural Network Estimator (Deep-SANNE) is an artificial neural network trained to improve the resolution and contrast of solar observations. This is done by recognizing dynamic patterns in both the spatial and temporal domains of small-scale features at an angular resolution corresponding to observational data and correlated them to highly resolved nondegraded data from the magnetohydrodynamic simulations. A second simulation, was used to validate the performance. Deep-SANNE provides maps of the estimated degradation of the brightness temperature, which can be used to filter for locations that most probably show a high accuracy and as correction factors in order to construct refined images that show higher contrast and more accurate brightness temperatures than at the observational resolution. Deep-SANNE reveals more small-scale features and estimates the excess temperature of brightening events with an average accuracy of 94.0% relative to the highly resolved data, compared to 43.7% at the observational resolution. By using the additional information of the temporal domain, Deep-SANNE can restore high contrasts better than a standard two-dimensional deconvolver technique. Deep-SANNE is applied on observational solar ALMA data. The Deep-SANNE refined images are useful for analysing small-scale and dynamic features. They can identify locations in the data with high accuracy for an in-depth analysis and allow a more meaningful interpretation of solar observations. |\n",
       "|<p style=\"color:green\"> **ERROR** </p>| <p style=\"color:green\">affiliation error: mpia.affiliation_verifications: 'Heidelberg' keyword not found.</p> |"
      ],
      "text/plain": [
       "<IPython.core.display.Markdown object>"
      ]
     },
     "metadata": {},
     "output_type": "display_data"
    },
    {
     "data": {
      "text/markdown": [
       "\n",
       "|||\n",
       "|---:|:---|\n",
       "| [![arXiv](https://img.shields.io/badge/arXiv-arXiv:2211.13640-b31b1b.svg)](https://arxiv.org/abs/arXiv:2211.13640) | **Molecules in the peculiar age-defying source IRAS 19312+1950**  |\n",
       "|| Jian-Jie Qiu, et al. -- incl., <mark>Yong Zhang</mark>, <mark>Jiang-Shui Zhang</mark> |\n",
       "|*Appeared on*| *2022-11-28*|\n",
       "|*Comments*| *30 pages, 24 figures, accepted for publication in A&A*|\n",
       "|**Abstract**| Context. IRAS 19312+1950 is an isolated infrared source that exhibits a characteristic quasi-point-symmetric morphology in the near- and mid-infrared images and is also very bright in molecular radio lines. Because of its unique observational characteristics, various observational studies have been conducted and several hypotheses have been proposed regarding its origin, which is still unclear. So far, it has been suggested that it could be a peculiar evolved star, a young stellar object, or even a red nova remnant. Regardless of which type of object it is ultimately classified as, IRAS 19312+1950 is exceptionally bright in the infrared and molecular radio lines and therefore will undoubtedly be crucial as a prototype of this kind of object having a peculiar nature or unusual evolutionary phase. Aims. This study aims to reveal the molecular composition of the central part of IRAS 19312+1950 by performing an unbiased molecular radio line survey and discussing the origin of the object from a molecular chemical point of view. Methods. We carried out a spectral line survey with the IRAM 30 m telescope towards the center of IRAS 19312+1950 in the 3 and 1.3 mm windows. Results. In total, 28 transition lines of 22 molecular species and those isotopologues are detected towards IRAS 19312+1950, some of which exhibit a broad and a narrow components. Seventeen thermal lines and 1 maser line are newly detected. The molecular species of C$^{17}$O, $^{30}$SiO, HN$^{13}$C, HC$^{18}$O$^{+}$, H$_{2}$CO, and $c$-C$_{3}$H$_{2}$ are detected for the first time in this object. Conclusions. Our results, in combination with previous studies, favor the hypothesis that IRAS 19312+1950 might be a red nova remnant, in which the progenitors that merged to become a red nova may have contained at least two evolved stars with oxygen-rich and carbon-rich chemistry, respectively. |\n",
       "|<p style=\"color:green\"> **ERROR** </p>| <p style=\"color:green\">affiliation error: mpia.affiliation_verifications: 'Heidelberg' keyword not found.</p> |"
      ],
      "text/plain": [
       "<IPython.core.display.Markdown object>"
      ]
     },
     "metadata": {},
     "output_type": "display_data"
    },
    {
     "data": {
      "text/markdown": [
       "\n",
       "|||\n",
       "|---:|:---|\n",
       "| [![arXiv](https://img.shields.io/badge/arXiv-arXiv:2211.13677-b31b1b.svg)](https://arxiv.org/abs/arXiv:2211.13677) | **Evidence for non-merger co-evolution of galaxies and their supermassive  black holes**  |\n",
       "|| R. J. Smethurst, et al. -- incl., <mark>C. J. Lintott</mark> |\n",
       "|*Appeared on*| *2022-11-28*|\n",
       "|*Comments*| *RJS and RSB are joint first authors. 12 pages, 7 figures, submitted to MNRAS*|\n",
       "|**Abstract**| Recent observational and theoretical studies have suggested that supermassive black holes (SMBHs) grow mostly through non-merger (`secular') processes. Since galaxy mergers lead to dynamical bulge growth, the only way to observationally isolate non-merger growth is to study galaxies with low bulge-to-total mass ratio (e.g. B/T < 10%). However, bulge growth can also occur due to secular processes, such as disk instabilities, making disk-dominated selections a somewhat incomplete way to select merger-free systems. Here we use the Horizon-AGN simulation to select simulated galaxies which have not undergone a merger since z = 2, regardless of bulge mass, and investigate their location on typical black hole-galaxy scaling relations in comparison to galaxies with merger dominated histories. While the existence of these correlations has long been interpreted as co-evolution of galaxies and their SMBHs driven by galaxy mergers, we show here that they persist even in the absence of mergers. We find that the correlations between SMBH mass and both total mass and stellar velocity dispersion are independent of B/T ratio for both merger-free and merger-dominated galaxies. In addition, the bulge mass and SMBH mass correlation is still apparent for merger-free galaxies, the intercept for which is dependent on B/T. Galaxy mergers reduce the scatter around the scaling relations, with merger-free systems showing broader scatter. We show that for merger-free galaxies, the co-evolution is dominated by radio-mode feedback, and suggest that the long periods of time between galaxy mergers make an important contribution to the co-evolution between galaxies and SMBHs in all galaxies. |\n",
       "|<p style=\"color:green\"> **ERROR** </p>| <p style=\"color:green\">affiliation error: mpia.affiliation_verifications: 'Heidelberg' keyword not found.</p> |"
      ],
      "text/plain": [
       "<IPython.core.display.Markdown object>"
      ]
     },
     "metadata": {},
     "output_type": "display_data"
    },
    {
     "data": {
      "text/markdown": [
       "\n",
       "|||\n",
       "|---:|:---|\n",
       "| [![arXiv](https://img.shields.io/badge/arXiv-arXiv:2211.13759-b31b1b.svg)](https://arxiv.org/abs/arXiv:2211.13759) | **Chasing Super-Massive Black Hole merging events with $Athena$ and LISA**  |\n",
       "|| L. Piro, et al. -- incl., <mark>M. Bonetti</mark> |\n",
       "|*Appeared on*| *2022-11-28*|\n",
       "|*Comments*| *18 pages, 8 figures. Submitted to MNRAS*|\n",
       "|**Abstract**| The European Space Agency is studying two large-class missions bound to operate in the $2030$s, and aiming at investigating the most energetic phenomena in the Universe. $Athena$ is poised to study the physical conditions of baryons in large-scale structures, as well as to yield a census of accreting super-massive black holes down to the epoch of reionization; the Laser Interferometer Space Antenna (LISA) will extend the hunt for Gravitational Wave (GW) events to the mHz regime. While the science cases of the two missions are independently outstanding, we discuss in this paper the $additional$ science that their concurrent operation could yield. We focus on the multi-messenger study of Super-Massive (M$\\lesssim 10^7\\rm M_{\\odot}$) Black Hole Mergers (SMBHMs), accessible to $Athena$ up to $z\\sim2$. The simultaneous measurement of their electro-magnetic (EM) and GW signals may enable unique experiments in the domains of astrophysics, fundamental physics, and cosmography. Key to achieve these results will be the LISA capability of locating a SMBHM event with an error box comparable to, or better than the field-of-view of the $Athena$ Wide Field Imager ($\\simeq0.4$deg$^2$). LISA will achieve such an accuracy several hours prior to merging for the highest signal-to-noise events. While theoretical predictions of the EM emission are still uncertain, this opens in principle the possibility of truly concurrent EM and GW studies of the merger phase. LISA localization improves significantly at merging, and is likely to reach the arcminute-level for a sizeable fraction of events at $z\\lesssim 0.5$ and masses $\\lesssim10^6\\rm M_{\\odot}$, well within the detection capability of $Athena$. We also briefly discuss the prospective of $Athena$ studies for other classes of GW-emitting black hole binaries, for which theoretical predictions are admittedly extremely uncertain. [abridged] |\n",
       "|<p style=\"color:green\"> **ERROR** </p>| <p style=\"color:green\">affiliation error: mpia.affiliation_verifications: 'Heidelberg' keyword not found.</p> |"
      ],
      "text/plain": [
       "<IPython.core.display.Markdown object>"
      ]
     },
     "metadata": {},
     "output_type": "display_data"
    },
    {
     "data": {
      "text/markdown": [
       "\n",
       "|||\n",
       "|---:|:---|\n",
       "| [![arXiv](https://img.shields.io/badge/arXiv-arXiv:2211.13761-b31b1b.svg)](https://arxiv.org/abs/arXiv:2211.13761) | **Water and an escaping helium tail detected in the hazy and  methane-depleted atmosphere of HAT-P-18b from JWST NIRISS/SOSS**  |\n",
       "|| Guangwei Fu, et al. -- incl., <mark>Heather A. Knutson</mark>, <mark>Joseph Filippazzo</mark> |\n",
       "|*Appeared on*| *2022-11-28*|\n",
       "|*Comments*| *Accepted to ApJL, JWST is awesome!*|\n",
       "|**Abstract**| JWST is here. The early release observation program (ERO) provides us with the first look at the scientific data and the spectral capabilities. One of the targets from ERO is HAT-P-18b, an inflated Saturn-mass planet with an equilibrium temperature of $\\sim$850K. We present the NIRISS/SOSS transmission spectrum of HAT-P-18b from 0.6 to 2.8$\\mu m$ and reveal the planet in the infrared beyond 1.6$\\mu m$ for the first time. From the spectrum, we see clear water and escaping helium tail features in an otherwise very hazy atmosphere. Our free chemistry retrievals with ATMO show moderate Bayesian evidence (3.79) supporting the presence of methane, but the spectrum does not display any clearly identifiable methane absorption features. The retrieved methane abundance is $\\sim$2 orders of magnitude lower than that of solar composition. The methane-depleted atmosphere strongly rejects simple equilibrium chemistry forward models with solar metallicity and C/O ratio and disfavors high metallicity (100 times) and low C/O ratio (0.3). This calls for additional physical processes such as vertical mixing and photochemistry which can remove methane from the atmosphere. |\n",
       "|<p style=\"color:green\"> **ERROR** </p>| <p style=\"color:green\">affiliation error: mpia.affiliation_verifications: 'Heidelberg' keyword not found.</p> |"
      ],
      "text/plain": [
       "<IPython.core.display.Markdown object>"
      ]
     },
     "metadata": {},
     "output_type": "display_data"
    },
    {
     "data": {
      "text/markdown": [
       "\n",
       "|||\n",
       "|---:|:---|\n",
       "| [![arXiv](https://img.shields.io/badge/arXiv-arXiv:2211.13763-b31b1b.svg)](https://arxiv.org/abs/arXiv:2211.13763) | **MOSEL Survey: Extremely weak outflows in EoR analogues at z=3-4**  |\n",
       "|| Anshu Gupta, et al. -- incl., <mark>R. L. Davies</mark>, <mark>Lisa J. Kewley</mark> |\n",
       "|*Appeared on*| *2022-11-28*|\n",
       "|*Comments*| *14 pages, 9 figures, accepted for publication in MNRAS*|\n",
       "|**Abstract**| This paper presents deep K-band spectroscopic observations of galaxies at z=3-4 with composite photometric rest-frame Hb+[OIII] equivalent widths EW_0>600A, comparable to the EW of galaxies observed during the epoch of reionisation (EoR, z>6). The typical spectroscopic [OIII] EW_0 and stellar mass of our targets is ~ 700A and log(M_star/M_sun)=8.98. By stacking the [OIII] emission profiles, we find evidence of a weak broad component with F_broad/F_narrow ~ 0.2 and velocity width sigma_{broad} ~ 170 km/s. The strength and velocity width of the broad component does not change significantly with stellar mass and [OIII] EW_0 of the stacked sample. Assuming similar broad component profiles for [OIII] and Halpha emission, we estimate a mass loading factor ~0.2, similar to low stellar mass galaxies at z>1 even if the star formation rates of our sample is 10 times higher. We hypothesize that either the multi-phase nature of supernovae driven outflows or the suppression of winds in the extreme star-forming regime is responsible for the weak signature of outflows in the EoR analogues. |\n",
       "|<p style=\"color:green\"> **ERROR** </p>| <p style=\"color:green\">affiliation error: mpia.affiliation_verifications: 'Heidelberg' keyword not found.</p> |"
      ],
      "text/plain": [
       "<IPython.core.display.Markdown object>"
      ]
     },
     "metadata": {},
     "output_type": "display_data"
    },
    {
     "data": {
      "text/markdown": [
       "\n",
       "|||\n",
       "|---:|:---|\n",
       "| [![arXiv](https://img.shields.io/badge/arXiv-arXiv:2211.13764-b31b1b.svg)](https://arxiv.org/abs/arXiv:2211.13764) | **X-ray Polarization Observations of BL Lacertae**  |\n",
       "|| Riccardo Middei, et al. -- incl., <mark>Ioannis Liodakis</mark>, <mark>Herman L. Marshall</mark> |\n",
       "|*Appeared on*| *2022-11-28*|\n",
       "|*Comments*| *17 pages, 5 figures, accepted for publication in ApJL*|\n",
       "|**Abstract**| Blazars are a class of jet-dominated active galactic nuclei with a typical double-humped spectral energy distribution. It is of common consensus the Synchrotron emission to be responsible for the low frequency peak, while the origin of the high frequency hump is still debated. The analysis of X-rays and their polarization can provide a valuable tool to understand the physical mechanisms responsible for the origin of high-energy emission of blazars. We report the first observations of BL Lacertae performed with the Imaging X-ray Polarimetry Explorer ({IXPE}), from which an upper limit to the polarization degree $\\Pi_X<$12.6\\% was found in the 2-8 keV band. We contemporaneously measured the polarization in radio, infrared, and optical wavelengths. Our multiwavelength polarization analysis disfavors a significant contribution of proton synchrotron radiation to the X-ray emission at these epochs. Instead, it supports a leptonic origin for the X-ray emission in BL Lac. |\n",
       "|<p style=\"color:green\"> **ERROR** </p>| <p style=\"color:green\">affiliation error: mpia.affiliation_verifications: 'Heidelberg' keyword not found.</p> |"
      ],
      "text/plain": [
       "<IPython.core.display.Markdown object>"
      ]
     },
     "metadata": {},
     "output_type": "display_data"
    },
    {
     "data": {
      "text/markdown": [
       "\n",
       "|||\n",
       "|---:|:---|\n",
       "| [![arXiv](https://img.shields.io/badge/arXiv-arXiv:2211.13820-b31b1b.svg)](https://arxiv.org/abs/arXiv:2211.13820) | **X-ray emission from a rapidly accreting narrow-line Seyfert 1 galaxy at  z=6.56**  |\n",
       "|| Julien Wolf, et al. -- incl., <mark>Teng Liu</mark> |\n",
       "|*Appeared on*| *2022-11-28*|\n",
       "|*Comments*| *Accepted for publication in A&A*|\n",
       "|**Abstract**| This study aims at identifying luminous quasars at $z>5.7$ among X-ray-selected sources in the eROSITA Final Equatorial-Depth Survey (eFEDS) in order to place a lower limit on black hole accretion well into the epoch of re-ionisation. We confirm the low significance detection with eROSITA of a previously known, optically faint $z=6.56$ quasar from the Subaru High-z Exploration of Low-luminosity Quasars (SHELLQs) survey. We obtained a pointed follow-up observation of the source with the Chandra X-ray telescope in order to confirm the eROSITA detection. Using new near-infrared spectroscopy, we derived the physical properties of the super-massive black hole. Finally, we used this detection to infer a lower limit on the black hole accretion density rate at $z>6$. The Chandra observation confirms the eFEDS source as the most distant blind X-ray detection to date. The derived X-ray luminosity is high with respect to the rest-frame optical emission of the quasar. With a narrow MgII line, low derived black hole mass, and high Eddington ratio, as well as its steep photon index, the source shows properties that are similar to local narrow-line Seyfert 1 galaxies, which are thought to be powered by young super-massive black holes. In combination with a previous high-redshift quasar detection in the field, we show that quasars with $L_{2-10 \\, \\mathrm{keV}} >10^{45} \\, \\mathrm{erg \\, s^{-1}}$ dominate accretion onto super-massive black holes at $z\\sim 6$. |\n",
       "|<p style=\"color:green\"> **ERROR** </p>| <p style=\"color:green\">affiliation error: mpia.affiliation_verifications: 'Heidelberg' keyword not found.</p> |"
      ],
      "text/plain": [
       "<IPython.core.display.Markdown object>"
      ]
     },
     "metadata": {},
     "output_type": "display_data"
    },
    {
     "data": {
      "text/markdown": [
       "\n",
       "|||\n",
       "|---:|:---|\n",
       "| [![arXiv](https://img.shields.io/badge/arXiv-arXiv:2211.13870-b31b1b.svg)](https://arxiv.org/abs/arXiv:2211.13870) | **Removal of point source leakage from time-order data filtering**  |\n",
       "|| <mark>Zhaoxuan Zhang</mark>, et al. -- incl., <mark>Yang Liu</mark>, <mark>Si-Yu Li</mark>, <mark>Le Zhang</mark>, <mark>Hao Liu</mark> |\n",
       "|*Appeared on*| *2022-11-28*|\n",
       "|*Comments*| *13pages, 6 figures, 5 tables*|\n",
       "|**Abstract**| Time-ordered data (TOD) from ground-based CMB experiments are generally filtered before map-making to remove or reduce the contamination from the ground and the atmospheric emissions. However, when the observation region contains strong point sources, the filtering process will result in considerable leakage around the point sources in a measured CMB map, and leave spurious polarization signals. Therefore, such signals need to be assessed and removed before CMB science exploitation. In this work, we present a new method that we call \"template fitting\" and can effectively remove these leakage signals in pixel domain, not only satisfying the requirement for measuring primordial gravitational waves from CMB-$B$ modes, but also avoiding time-consuming operations on TOD. |\n",
       "|<p style=\"color:green\"> **ERROR** </p>| <p style=\"color:green\">affiliation error: mpia.affiliation_verifications: 'Heidelberg' keyword not found.</p> |"
      ],
      "text/plain": [
       "<IPython.core.display.Markdown object>"
      ]
     },
     "metadata": {},
     "output_type": "display_data"
    },
    {
     "data": {
      "text/markdown": [
       "\n",
       "|||\n",
       "|---:|:---|\n",
       "| [![arXiv](https://img.shields.io/badge/arXiv-arXiv:2211.13877-b31b1b.svg)](https://arxiv.org/abs/arXiv:2211.13877) | **Asymmetry in the number of L4 and L5 Jupiter Trojans driven by jumping  Jupiter**  |\n",
       "|| <mark>Jian Li</mark>, et al. -- incl., <mark>Xin Li</mark> |\n",
       "|*Appeared on*| *2022-11-28*|\n",
       "|*Comments*| *11 pages, 5 figures, accepted for publication in A&A*|\n",
       "|**Abstract**| Context. More than 10000 Jupiter Trojans have been detected so far. They are moving around the L4 and L5 triangular Lagrangian points of the Sun-Jupiter system and their distributions can provide important clues to the early evolution of the Solar System. Aims. The number asymmetry of the L4 and L5 Jupiter Trojans is a longstanding problem. We aim to test a new mechanism in order to explain this anomalous feature by invoking the jumping-Jupiter scenario. Methods. First, we introduce the orbital evolution of Jupiter caused by the giant planet instability in the early Solar System. In this scenario, Jupiter could undergo an outward migration at a very high speed. We then investigate how such a jump changes the numbers of the L4 (N4) and L5 (N5) Trojans. Results. The outward migration of Jupiter can distort the co-orbital orbits near the Lagrangian points, resulting in L4 Trojans being more stable than the L5 ones. We find that, this mechanism could potentially explain the unbiased number asymmetry of N4/N5~1.6 for the known Jupiter Trojans. The uncertainties of the system parameters, e.g. Jupiter's eccentricity and inclination, the inclination distribution of Jupiter Trojans, are also taken into account and our results about the L4/L5 asymmetry have been further validated. However, the resonant amplitudes of the simulated Trojans are excited to higher values compared to the current population. A possible solution is that collisions among the Trojans may reduce their resonant amplitudes. |\n",
       "|<p style=\"color:green\"> **ERROR** </p>| <p style=\"color:green\">affiliation error: mpia.affiliation_verifications: 'Heidelberg' keyword not found.</p> |"
      ],
      "text/plain": [
       "<IPython.core.display.Markdown object>"
      ]
     },
     "metadata": {},
     "output_type": "display_data"
    },
    {
     "data": {
      "text/markdown": [
       "\n",
       "|||\n",
       "|---:|:---|\n",
       "| [![arXiv](https://img.shields.io/badge/arXiv-arXiv:2211.14022-b31b1b.svg)](https://arxiv.org/abs/arXiv:2211.14022) | **Characterisation of the MUSIC ASIC for large-area silicon  photomultipliers for gamma-ray astronomy**  |\n",
       "|| Nicolas De Angelis, et al. -- incl., <mark>Matthieu Heller</mark> |\n",
       "|*Appeared on*| *2022-11-28*|\n",
       "|*Comments*| *16 pages, 15 figures*|\n",
       "|**Abstract**| Large-area silicon photomultipliers (SiPMs) are desired in many applications where large surfaces have to be covered. For instance, a large area SiPM has been developed by Hamamatsu Photonics in collaboration with the University of Geneva, to equip gamma-ray cameras employed in imaging atmospheric Cherenkov telescopes. Being the sensor about 1 cm$^2$, a suitable preamplification electronics has been investigated in this work, which can deal with long pulses induced by the large capacitance of the sensor. The so-called Multiple Use SiPM Integrated Circuit (MUSIC), developed by the ICCUB (University of Barcelona), is investigated as a potential front-end ASIC, suitable to cover large area photodetection planes of gamma-ray telescopes. The ASIC offers an interesting pole-zero cancellation (PZC) that allows dealing with long SiPM signals, the feature of active summation of up to 8 input channels into a single differential output and it can offer a solution for reducing power consumption compared to discrete solutions. Measurements and simulations of MUSIC coupled to two SiPMs developed by Hamamatsu are considered and the ASIC response is characterized. The 5$^{th}$ generation sensor of the Low Cross Talk technology coupled to MUSIC turns out to be a good solution for gamma-ray cameras. |\n",
       "|<p style=\"color:green\"> **ERROR** </p>| <p style=\"color:green\">affiliation error: mpia.affiliation_verifications: 'Heidelberg' keyword not found.</p> |"
      ],
      "text/plain": [
       "<IPython.core.display.Markdown object>"
      ]
     },
     "metadata": {},
     "output_type": "display_data"
    },
    {
     "data": {
      "text/markdown": [
       "\n",
       "|||\n",
       "|---:|:---|\n",
       "| [![arXiv](https://img.shields.io/badge/arXiv-arXiv:2211.14023-b31b1b.svg)](https://arxiv.org/abs/arXiv:2211.14023) | **R-process nucleosynthesis during explosion of low-mass neutron stars in  close binaries**  |\n",
       "|| Chun-Ming Yip, Ming-Chung Chu, Shing-Chi Leung, <mark>Lap-Ming Lin</mark> |\n",
       "|*Appeared on*| *2022-11-28*|\n",
       "|*Comments*| *12 pages, 13 figures*|\n",
       "|**Abstract**| We investigate the explosion of low-mass neutron stars through Newtonian hydrodynamic simulations. We couple the hydrodynamics to a nuclear reaction network consisting of $\\sim 4500$ isotopes to study the impact of nuclear reactions, mainly neutron capture, $\\beta$-decays, and spontaneous fission of nuclei, on the development of hydrodynamic instability of a neutron star. We show that after mass removal from the surfaces, low-mass neutron stars undergo delayed explosion, and an electron anti-neutrino burst with a peak luminosity of $\\sim3\\times10^{50}$ erg s$^{-1}$ is emitted, while the ejecta is heated to $\\sim10^{9}$ K. A robust r-process nucleosynthesis is realized in the ejecta. Lanthanides and heavy elements near the second and third r-process peaks are synthesized as end products of nucleosynthesis, suggesting that the explosions of low-mass neutron stars could be a potentially important source of solar chemical elements. |\n",
       "|<p style=\"color:green\"> **ERROR** </p>| <p style=\"color:green\">affiliation error: mpia.affiliation_verifications: 'Heidelberg' keyword not found.</p> |"
      ],
      "text/plain": [
       "<IPython.core.display.Markdown object>"
      ]
     },
     "metadata": {},
     "output_type": "display_data"
    },
    {
     "data": {
      "text/markdown": [
       "\n",
       "|||\n",
       "|---:|:---|\n",
       "| [![arXiv](https://img.shields.io/badge/arXiv-arXiv:2211.14063-b31b1b.svg)](https://arxiv.org/abs/arXiv:2211.14063) | **H$^{13}$CN-HN$^{13}$C intensity ratio as a temperature indicator of  interstellar clouds**  |\n",
       "|| A. G. Pazukhin, I. I. Zinchenko, E. A. Trofimova, <mark>C. Henkel</mark> |\n",
       "|*Appeared on*| *2022-11-28*|\n",
       "|*Comments*| *16 pages, 7 figures, 2 tables, Accepted for publication in Astronomy Reports (2022)*|\n",
       "|**Abstract**| With the 30-m IRAM radio telescope, we observed several massive star forming regions at wavelengths of 3-4 and 2 mm. The temperature of the gas in the sources was estimated from the lines of CH$_{3}$CCH and from the transitions of the NH$_3$ molecule obtained during observations at the 100-m radio telescope in Effelsberg. As a result, a correlation between the integrated intensity ratios of the $J=1-0$ transitions of H$^{13}$CN and HN$^{13}$C and the kinetic temperature has been obtained. The obtained results allow us to propose the use of the intensity ratio H$^{13}$CN-HN$^{13}$C as a possible temperature indicator of interstellar clouds. We also compared the obtained estimates of the kinetic temperature with the dust temperature $T_{dust}$. As a result, no significant correlation was found. |\n",
       "|<p style=\"color:green\"> **ERROR** </p>| <p style=\"color:green\">affiliation error: mpia.affiliation_verifications: 'Heidelberg' keyword not found.</p> |"
      ],
      "text/plain": [
       "<IPython.core.display.Markdown object>"
      ]
     },
     "metadata": {},
     "output_type": "display_data"
    },
    {
     "data": {
      "text/markdown": [
       "\n",
       "|||\n",
       "|---:|:---|\n",
       "| [![arXiv](https://img.shields.io/badge/arXiv-arXiv:2211.14131-b31b1b.svg)](https://arxiv.org/abs/arXiv:2211.14131) | **The uncertain interstellar medium of high-redshift quiescent galaxies:  Impact of methodology**  |\n",
       "|| Raphaël Gobat, et al. -- incl., <mark>Daizhong Liu</mark> |\n",
       "|*Appeared on*| *2022-11-28*|\n",
       "|*Comments*| *7 pages, 5 figures, 2 tables; accepted for publication in Astronomy & Astrophysics*|\n",
       "|**Abstract**| How much gas and dust is contained in high-redshift quiescent galaxies (QGs) is currently an open question with relatively few and contradictory answers, as well as important implications for our understanding of the nature of star formation quenching processes at cosmic noon. Here we revisit far-infrared (FIR) observations of the REQUIEM-ALMA sample of six z = 1.6 - 3.2 QGs strongly lensed by intermediate-redshift galaxy clusters. We measured their continuum emission using priors obtained from high resolution near-infrared (NIR) imaging, as opposed to focusing on point-source extraction, converted it into dust masses using a FIR dust emission model derived from statistical samples of QGs, and compared the results to those of the reference work. We find that, while at least the most massive sample galaxy is indeed dust-poor, the picture is much more nuanced than previously reported. In particular, these more conservative constraints remain consistent with high dust fractions in early QGs. We find that these measurements are very sensitive to the adopted extraction method and conversion factors: the use of an extended light model to fit the FIR emission increases the flux of detections by up to 50% and the upper limit by up to a factor 6. Adding the FIR-to-dust conversion, this amounts to an order of magnitude difference in dust fraction, casting doubts on the power of these data to discriminate between star formation quenching scenarios. Unless these are identified by other means, mapping the dust and gas in high-redshift QGs will continue to require somewhat costly observations. |\n",
       "|<p style=\"color:green\"> **ERROR** </p>| <p style=\"color:green\">affiliation error: mpia.affiliation_verifications: 'Heidelberg' keyword not found.</p> |"
      ],
      "text/plain": [
       "<IPython.core.display.Markdown object>"
      ]
     },
     "metadata": {},
     "output_type": "display_data"
    },
    {
     "data": {
      "text/markdown": [
       "\n",
       "|||\n",
       "|---:|:---|\n",
       "| [![arXiv](https://img.shields.io/badge/arXiv-arXiv:2211.14200-b31b1b.svg)](https://arxiv.org/abs/arXiv:2211.14200) | **Constraints on the Model of Gamma-ray Bursts and Implications from GRB  221009A: GeV gamma rays v.s. High-energy Neutrinos**  |\n",
       "|| <mark>Ruo-Yu Liu</mark>, <mark>Hai-Ming Zhang</mark>, Xiang-Yu Wang |\n",
       "|*Appeared on*| *2022-11-28*|\n",
       "|*Comments*| *10 pages, 6 figures; comments are welcome*|\n",
       "|**Abstract**| Gamma-ray bursts (GRB) are generally believed to be efficient particle accelerators. In the presence of energetic protons in a GRB jet, interactions between these protons and intense radiation field of the GRB are supposed to induce electromagnetic cascade. Electrons/positrons generated in the cascade will produce an additional spectrum of robust feature, which is in the form of a power-law distribution up to GeV regime with an index of $\\lesssim 2$. We suggest that measurements of Fermi-LAT at GeV band can provide independent constraints on the key GRB model parameters such as the dissipation radius, the jet's bulk Lorentz factor, and the baryon loading factor. Taking GRB 221009A, the brightest GRB ever detected, as an example, we show that the constraints from GeV gamma-ray emission may be more stringent than that from the neutrino observation, providing us a deep insight into the origin of GRBs. |\n",
       "|<p style=\"color:green\"> **ERROR** </p>| <p style=\"color:green\">affiliation error: mpia.affiliation_verifications: 'Heidelberg' keyword not found.</p> |"
      ],
      "text/plain": [
       "<IPython.core.display.Markdown object>"
      ]
     },
     "metadata": {},
     "output_type": "display_data"
    },
    {
     "data": {
      "text/markdown": [
       "\n",
       "|||\n",
       "|---:|:---|\n",
       "| [![arXiv](https://img.shields.io/badge/arXiv-arXiv:2211.14262-b31b1b.svg)](https://arxiv.org/abs/arXiv:2211.14262) | **Hybrid $α$-attractors, primordial black holes and gravitational  wave backgrounds**  |\n",
       "|| Matteo Braglia, <mark>Andrei Linde</mark>, Renata Kallosh, Fabio Finelli |\n",
       "|*Appeared on*| *2022-11-28*|\n",
       "|*Comments*| *39 pages, 12 figures*|\n",
       "|**Abstract**| We investigate the two-stage inflation regime in the theory of hybrid cosmological $\\alpha$-attractors. The spectrum of inflationary perturbations is compatible with the latest Planck/BICEP/Keck results, thanks to the attractor properties of the model. However, at smaller scales, it may have a very high peak of controllable width and position, leading to a copious production of primordial black holes (PBH) and generation of a stochastic background of gravitational waves (SGWB). |\n",
       "|<p style=\"color:green\"> **ERROR** </p>| <p style=\"color:green\">affiliation error: mpia.affiliation_verifications: 'Heidelberg' keyword not found.</p> |"
      ],
      "text/plain": [
       "<IPython.core.display.Markdown object>"
      ]
     },
     "metadata": {},
     "output_type": "display_data"
    },
    {
     "data": {
      "text/markdown": [
       "\n",
       "|||\n",
       "|---:|:---|\n",
       "| [![arXiv](https://img.shields.io/badge/arXiv-arXiv:2211.14225-b31b1b.svg)](https://arxiv.org/abs/arXiv:2211.14225) | **Significance Mode Analysis (SigMA) for hierarchical structures. An  application to the Sco-Cen OB association**  |\n",
       "|| Sebastian Ratzenböck, et al. -- incl., <mark>Josefa E. Großschedl</mark> |\n",
       "|*Appeared on*| *2022-11-28*|\n",
       "|*Comments*| *Submitted after first revision to A&A*|\n",
       "|**Abstract**| We present a new clustering method, Significance Mode Analysis (SigMA), to extract co-spatial and co-moving stellar populations from large-scale surveys such as ESA Gaia. The method studies the topological properties of the density field in the multidimensional phase space. We validate SigMA on simulated clusters and find that it outperforms competing methods, especially in cases where many clusters are closely spaced. We apply the new method to Gaia DR3 data of the closest OB association to Earth, Scorpio-Centaurus (Sco-Cen), and find more than 13,000 co-moving young objects, with about 19% of these having a sub-stellar mass. SigMA finds 37 co-moving clusters in Sco-Cen. These clusters are independently validated by their narrow HRD sequences and, to a certain extent, by their association with massive stars too bright for Gaia, hence unknown to SigMA. We compare our results with similar recent work and find that the SigMA algorithm recovers richer populations, is able to distinguish clusters with velocity differences down to about 0.5 km s$^{-1}$, and reaches cluster volume densities as low as 0.01 sources/pc$^3$. The 3D distribution of these 37 coeval clusters implies a larger extent and volume for the Sco-Cen OB association than typically assumed in the literature. Additionally, we find the association to be more actively star-forming and dynamically more complex than previously thought. We confirm that the star-forming molecular clouds in the Sco-Cen region, namely, Ophiuchus, L134/L183, Pipe Nebula, Corona Australis, Lupus, and Chamaeleon, are part of the Sco-Cen The application of SigMA to Sco-Cen demonstrates that advanced machine learning tools applied to the superb Gaia data allows to construct an accurate census of the young populations, to quantify their dynamics, and to reconstruct the recent star formation history of the local Milky Way. |\n",
       "|<p style=\"color:green\"> **ERROR** </p>| <p style=\"color:green\">affiliation error: mpia.affiliation_verifications: 'Planck' keyword not found.</p> |"
      ],
      "text/plain": [
       "<IPython.core.display.Markdown object>"
      ]
     },
     "metadata": {},
     "output_type": "display_data"
    },
    {
     "data": {
      "text/markdown": [
       "\n",
       "|||\n",
       "|---:|:---|\n",
       "| [![arXiv](https://img.shields.io/badge/arXiv-arXiv:2211.13997-b31b1b.svg)](https://arxiv.org/abs/arXiv:2211.13997) | **PHANGS-JWST First Results: A combined HST and JWST analysis of the  nuclear star cluster in NGC 628**  |\n",
       "|| Nils Hoyer, et al. -- incl., <mark>Francesca Pinna</mark>, <mark>Albrecht W. H. Kamlah</mark>, <mark>Francisco Nogueras-Lara</mark>, <mark>Anja Feldmeier-Krause</mark>, <mark>Nadine Neumayer</mark>, <mark>Eva Schinnerer</mark>, <mark>Justus Neumann</mark>, <mark>Frank Bigiel</mark>, <mark>Daizhong Liu</mark> |\n",
       "|*Appeared on*| *2022-11-28*|\n",
       "|*Comments*| *26 pages, 10 figures, 6 tables. Accepted for publication by ApJL*|\n",
       "|**Abstract**| We combine archival HST and new JWST imaging data, covering the ultraviolet to mid-infrared regime, to morphologically analyze the nuclear star cluster (NSC) of NGC 628, a grand-design spiral galaxy. The cluster is located in a 200 pc x 400 pc cavity, lacking both dust and gas. We find roughly constant values for the effective radius (r_eff ~ 5 pc) and ellipticity ({\\epsilon} ~ 0.05), while the S\\'ersic index (n) and position angle (PA) drop from n ~ 3 to ~ 2 and PA ~ 130{\\deg} to 90{\\deg}, respectively. In the mid-infrared, r_eff ~ 12pc, {\\epsilon} ~ 0.4, and n ~ 1-1.5, with the same PA ~ 90{\\deg}. The NSC has a stellar mass of log10 (M_nsc / M_Sun) = 7.06 +- 0.31, as derived through B-V, confirmed when using multi-wavelength data, and in agreement with the literature value. Fitting the spectral energy distribution, excluding the mid-infrared data, yields a main stellar population's age of (8 +- 3) Gyr with a metallicity of Z = 0.012 +- 0.006. There is no indication of any significant star formation over the last few Gyr. Whether gas and dust were dynamically kept out or evacuated from the central cavity remains unclear. The best-fit suggests an excess of flux in the mid-infrared bands, with further indications that the center of the mid-infrared structure is displaced with respect to the optical center of the NSC. We discuss five potential scenarios, none of them fully explaining both the observed photometry and structure. |\n",
       "|<p style=\"color:red\"> **ERROR** </p>| <p style=\"color:red\">latex error sequence item 0: expected str instance, TexNode found</p> |"
      ],
      "text/plain": [
       "<IPython.core.display.Markdown object>"
      ]
     },
     "metadata": {},
     "output_type": "display_data"
    }
   ],
   "source": [
    "import datetime\n",
    "today = str(datetime.date.today())\n",
    "logfile = f\"_build/html/logs/log-{today}.md\"\n",
    "\n",
    "\n",
    "with open(logfile, 'w') as logs:\n",
    "    # Success\n",
    "    logs.write(f'# Arxiv on Deck 2: Logs - {today}\\n\\n')\n",
    "    logs.write(\"\"\"* Arxiv had {0:,d} new papers\\n\"\"\".format(len(new_papers)))\n",
    "    logs.write(\"\"\"    * {0:,d} with possible author matches\\n\\n\"\"\".format(len(candidates)))\n",
    "    logs.write(\"## Sucessful papers\\n\\n\")\n",
    "    display(Markdown(\"## Successful papers\"))\n",
    "    success = [k[0] for k in documents]\n",
    "    for candid in candidates:\n",
    "        if candid['identifier'].split(':')[-1] in success:\n",
    "            display(candid)\n",
    "            logs.write(candid.generate_markdown_text() + '\\n\\n')\n",
    "\n",
    "    ## failed\n",
    "    logs.write(\"## Failed papers\\n\\n\")\n",
    "    display(Markdown(\"## Failed papers\"))\n",
    "    failed = sorted(failed, key=lambda x: x[1])\n",
    "    current_reason = \"\"\n",
    "    for paper, reason in failed:\n",
    "        if 'affiliation' in reason:\n",
    "            color = 'green'\n",
    "        else:\n",
    "            color = 'red'\n",
    "        data = Markdown(\n",
    "                paper.generate_markdown_text() + \n",
    "                f'\\n|<p style=\"color:{color:s}\"> **ERROR** </p>| <p style=\"color:{color:s}\">{reason:s}</p> |'\n",
    "               )\n",
    "        if reason != current_reason:\n",
    "            logs.write(f'### {reason:s} \\n\\n')\n",
    "            current_reason = reason\n",
    "        logs.write(data.data + '\\n\\n')\n",
    "        \n",
    "        # only display here the important errors (all in logs)\n",
    "        # if color in ('red',):\n",
    "        display(data)"
   ]
  },
  {
   "cell_type": "markdown",
   "id": "472d20ee",
   "metadata": {
    "papermill": {
     "duration": 0.015438,
     "end_time": "2022-11-28T04:10:51.852197",
     "exception": false,
     "start_time": "2022-11-28T04:10:51.836759",
     "status": "completed"
    },
    "tags": []
   },
   "source": [
    "## Export documents\n",
    "\n",
    "We now write the .md files and export relevant images"
   ]
  },
  {
   "cell_type": "code",
   "execution_count": 7,
   "id": "d426aed9",
   "metadata": {
    "execution": {
     "iopub.execute_input": "2022-11-28T04:10:51.885887Z",
     "iopub.status.busy": "2022-11-28T04:10:51.884979Z",
     "iopub.status.idle": "2022-11-28T04:10:51.894302Z",
     "shell.execute_reply": "2022-11-28T04:10:51.893320Z"
    },
    "papermill": {
     "duration": 0.028585,
     "end_time": "2022-11-28T04:10:51.896206",
     "exception": false,
     "start_time": "2022-11-28T04:10:51.867621",
     "status": "completed"
    },
    "tags": []
   },
   "outputs": [],
   "source": [
    "def export_markdown_summary(md: str, md_fname:str, directory: str):\n",
    "    \"\"\"Export MD document and associated relevant images\"\"\"\n",
    "    import os\n",
    "    import shutil\n",
    "    import re\n",
    "\n",
    "    if (os.path.exists(directory) and not os.path.isdir(directory)):\n",
    "        raise RuntimeError(f\"a non-directory file exists with name {directory:s}\")\n",
    "\n",
    "    if (not os.path.exists(directory)):\n",
    "        print(f\"creating directory {directory:s}\")\n",
    "        os.mkdir(directory)\n",
    "\n",
    "    fig_fnames = (re.compile(r'\\[Fig.*\\]\\((.*)\\)').findall(md) + \n",
    "                  re.compile(r'\\<img src=\"([^>\\s]*)\"[^>]*/>').findall(md))\n",
    "    for fname in fig_fnames:\n",
    "        if 'http' in fname:\n",
    "            # No need to copy online figures\n",
    "            continue\n",
    "        destdir = os.path.join(directory, os.path.dirname(fname))\n",
    "        destfname = os.path.join(destdir, os.path.basename(fname))\n",
    "        try:\n",
    "            os.makedirs(destdir)\n",
    "        except FileExistsError:\n",
    "            pass\n",
    "        shutil.copy(fname, destfname)\n",
    "    with open(os.path.join(directory, md_fname), 'w') as fout:\n",
    "        fout.write(md)\n",
    "    print(\"exported in \", os.path.join(directory, md_fname))\n",
    "    [print(\"    + \" + os.path.join(directory,fk)) for fk in fig_fnames]"
   ]
  },
  {
   "cell_type": "code",
   "execution_count": 8,
   "id": "014d04a4",
   "metadata": {
    "execution": {
     "iopub.execute_input": "2022-11-28T04:10:51.928881Z",
     "iopub.status.busy": "2022-11-28T04:10:51.927827Z",
     "iopub.status.idle": "2022-11-28T04:10:51.954251Z",
     "shell.execute_reply": "2022-11-28T04:10:51.953496Z"
    },
    "papermill": {
     "duration": 0.044963,
     "end_time": "2022-11-28T04:10:51.956156",
     "exception": false,
     "start_time": "2022-11-28T04:10:51.911193",
     "status": "completed"
    },
    "tags": []
   },
   "outputs": [
    {
     "name": "stdout",
     "output_type": "stream",
     "text": [
      "exported in  _build/html/2211.13318.md\n",
      "    + _build/html/tmp_2211.13318/./binaryProperties.png\n",
      "    + _build/html/tmp_2211.13318/./etaCumMass_500.png\n",
      "    + _build/html/tmp_2211.13318/./binaryAU.png\n",
      "exported in  _build/html/2211.13426.md\n",
      "    + _build/html/tmp_2211.13426/./CMDs_NGC7496_v4_r.png\n",
      "    + _build/html/tmp_2211.13426/./galaxy_plus_region.png\n",
      "    + _build/html/tmp_2211.13426/./ngc7496_rgb_co_h_alpha_v2.png\n",
      "exported in  _build/html/2211.13811.md\n",
      "    + _build/html/tmp_2211.13811/./figs/G35.6-0.4.png\n",
      "    + _build/html/tmp_2211.13811/./figs/G29.6+0.1.png\n",
      "    + _build/html/tmp_2211.13811/./figs/G31.5-0.6.png\n",
      "    + _build/html/tmp_2211.13811/./figs/G32.4+0.1.png\n",
      "    + _build/html/tmp_2211.13811/./figs/G32.8-0.1.png\n",
      "    + _build/html/tmp_2211.13811/./figs/spidx_dist2.png\n",
      "exported in  _build/html/2211.14132.md\n",
      "    + _build/html/tmp_2211.14132/./figs/lithium_top6li_all11subgs_lifeh_g19.png\n",
      "    + _build/html/tmp_2211.14132/./figs/lithium_top6li_all11subgs_liteff.png\n",
      "    + _build/html/tmp_2211.14132/./figs/MMR_solar_feh_li.png\n",
      "    + _build/html/tmp_2211.14132/./figs/mmr_li_teff.png\n"
     ]
    }
   ],
   "source": [
    "for paper_id, md in documents:\n",
    "    export_markdown_summary(md, f\"{paper_id:s}.md\", '_build/html/')"
   ]
  },
  {
   "cell_type": "markdown",
   "id": "f087a0a7",
   "metadata": {
    "papermill": {
     "duration": 0.015375,
     "end_time": "2022-11-28T04:10:51.986988",
     "exception": false,
     "start_time": "2022-11-28T04:10:51.971613",
     "status": "completed"
    },
    "tags": []
   },
   "source": [
    "## Display the papers\n",
    "\n",
    "Not necessary but allows for a quick check."
   ]
  },
  {
   "cell_type": "code",
   "execution_count": 9,
   "id": "fd25f625",
   "metadata": {
    "execution": {
     "iopub.execute_input": "2022-11-28T04:10:52.019226Z",
     "iopub.status.busy": "2022-11-28T04:10:52.018551Z",
     "iopub.status.idle": "2022-11-28T04:10:52.029056Z",
     "shell.execute_reply": "2022-11-28T04:10:52.028440Z"
    },
    "papermill": {
     "duration": 0.028812,
     "end_time": "2022-11-28T04:10:52.030679",
     "exception": false,
     "start_time": "2022-11-28T04:10:52.001867",
     "status": "completed"
    },
    "scrolled": false,
    "tags": []
   },
   "outputs": [
    {
     "data": {
      "text/markdown": [
       "<div class=\"macros\" style=\"visibility:hidden;\">\n",
       "$\\newcommand{\\ensuremath}{}$\n",
       "$\\newcommand{\\xspace}{}$\n",
       "$\\newcommand{\\object}[1]{\\texttt{#1}}$\n",
       "$\\newcommand{\\farcs}{{.}''}$\n",
       "$\\newcommand{\\farcm}{{.}'}$\n",
       "$\\newcommand{\\arcsec}{''}$\n",
       "$\\newcommand{\\arcmin}{'}$\n",
       "$\\newcommand{\\ion}[2]{#1#2}$\n",
       "$\\newcommand{\\textsc}[1]{\\textrm{#1}}$\n",
       "$\\newcommand{\\hl}[1]{\\textrm{#1}}$\n",
       "$\\newcommand{\\vdag}{(v)^\\dagger}$\n",
       "$\\newcommand$\n",
       "$\\newcommand$\n",
       "$\\newcommand{\\hubert}[1]{{\\color{magenta}#1}}$\n",
       "$\\newcommand{\\brooke}[1]{{\\color{teal}#1}}$\n",
       "$\\newcommand{\\response}[1]$\n",
       "$\\newcommand{\\responsetwo}[1]$\n",
       "$\\newcommand{\\baselinestretch}{1.1}$</div>\n",
       "\n",
       "<div class=\"macros\" style=\"visibility:hidden;\">\n",
       "$\\newcommand{$\\ensuremath$}{}$\n",
       "$\\newcommand{$\\xspace$}{}$\n",
       "$\\newcommand{$\\object$}[1]{\\texttt{#1}}$\n",
       "$\\newcommand{$\\farcs$}{{.}''}$\n",
       "$\\newcommand{$\\farcm$}{{.}'}$\n",
       "$\\newcommand{$\\arcsec$}{''}$\n",
       "$\\newcommand{$\\arcmin$}{'}$\n",
       "$\\newcommand{$\\ion$}[2]{#1#2}$\n",
       "$\\newcommand{$\\textsc$}[1]{\\textrm{#1}}$\n",
       "$\\newcommand{$\\hl$}[1]{\\textrm{#1}}$\n",
       "$\\newcommand{$\\vdag$}{(v)^\\dagger}$\n",
       "$\\newcommand$\n",
       "$\\newcommand$\n",
       "$\\newcommand{$\\hubert$}[1]{{\\color{magenta}#1}}$\n",
       "$\\newcommand{$\\brooke$}[1]{{\\color{teal}#1}}$\n",
       "$\\newcommand{$\\response$}[1]$\n",
       "$\\newcommand{$\\response$two}[1]$\n",
       "$\\newcommand{$\\baselinestretch$}{1.1}$</div>\n",
       "\n",
       "\n",
       "\n",
       "<div id=\"title\">\n",
       "\n",
       "# High Resolution Study of Planetesimal Formation by Gravitational Collapse of Pebble Clouds\n",
       "\n",
       "</div>\n",
       "<div id=\"comments\">\n",
       "\n",
       "[![arXiv](https://img.shields.io/badge/arXiv-2211.13318-b31b1b.svg)](https://arxiv.org/abs/2211.13318)<mark>Appeared on: 2022-11-28</mark> - _Accepted for publication in ApJ_\n",
       "\n",
       "</div>\n",
       "<div id=\"authors\">\n",
       "\n",
       "Brooke Polak, <mark>Hubert Klahr</mark>\n",
       "\n",
       "</div>\n",
       "<div id=\"abstract\">\n",
       "\n",
       "**Abstract:** Planetary embryos are built through the collisional growth of 10-100 km sized objects called planetesimals, a formerly large population of objects, of which asteroids, comets and Kuiper-Belt objects represent the leftovers from planet formation in our solar system.Here, we follow the paradigm that turbulence created over-dense pebble clouds, which then collapse under their own self-gravity.We use the multi-physics code GIZMO  to model the pebble cloud density as a continuum, with a polytropic equation of state to account for collisional interactions and capturing the phase transition to a quasi-incompressible \"solid\" object, i.e. a planetesimal in hydrostatic equilibrium.Thus we study cloud collapse effectively at the resolution of the forming planetesimals, allowing us to derive an initial mass function for planetesimals in relation to the total pebble mass of the collapsing cloud.The redistribution of angular momentum in the collapsing pebble cloud is the main mechanism leading to multiple fragmentation. The angular momentum of the pebble cloud and thus the centrifugal radius increases with distance to the sun, but the solid size of the forming planetesimals is constant. Therefore we find that with increasing distance to the sun, the number of forming planetesimals per pebble cloud increases. For all distances the formation of binaries occurs within higher hierarchical systems.The size distribution is top heavy and can be described with a Gaussian distribution of planetesimal mass. For the asteroid belt, we can infer a most likely size of 125 km, all stemming from pebble clouds of equivalent size 152 km.\n",
       "\n",
       "</div>\n",
       "\n",
       "<div id=\"div_fig1\">\n",
       "\n",
       "<img src=\"tmp_2211.13318/./binaryProperties.png\" alt=\"Fig22\" width=\"100%\"/>\n",
       "\n",
       "**Figure 22. -** Properties of the binaries formed in our simulations. Circles, triangles, and squares are the simulated binaries and plus signs are observations of KBOs. The color represents the semi-major axis of the objects around a 1M$_\\odot$ central star. The opaque circles are the binaries that have completed at least one orbital radius, and the transparent squares are the binaries that have been detected but haven't had time to complete an orbit. The transparent triangles are the moons, with the lines indicating to which binary they belong. None of the moons have completed an orbit. Upper left plot shows the scaled binary semi-major axis against the binary size ratio. Upper right shows the angular momentum scaled to the Hill angular momentum $L_H=$. Lower left shows the eccentricities. The lines denote the pericenter distances $\\beta=a_b(1-e_b)/(R_1+R_2)=$35 (dotted) and 2 (dashed) which represent the binary separation resolving limit of the \\citet{Nesvorny2021} simulations and our current model, respectively. This means our current model can resolve much tighter binaries than previous models. Lower right shows the binary orbit inclination angle from the initial rotation axis of the cloud. (*fig:binaryProperties*)\n",
       "\n",
       "</div>\n",
       "<div id=\"div_fig2\">\n",
       "\n",
       "<img src=\"tmp_2211.13318/./etaCumMass_500.png\" alt=\"Fig3\" width=\"100%\"/>\n",
       "\n",
       "**Figure 3. -** Cumulative mass distribution of clumps in units of the initial cloud mass. Color represents orbital radius. (*fig:etaCumMass*)\n",
       "\n",
       "</div>\n",
       "<div id=\"div_fig3\">\n",
       "\n",
       "<img src=\"tmp_2211.13318/./binaryAU.png\" alt=\"Fig11\" width=\"100%\"/>\n",
       "\n",
       "**Figure 11. -** Binary proximity factor $\\zeta$ against heliocentric semi-major axis. Circles, triangles, and squares are the simulated binaries and plus signs are observations of KBOs. The color represents the semi-major axis of the objects around a 1M$_\\odot$ central star. The triangles are moons, with lines indicating to which binary they belong. The opaque circles have completed at lest one orbit, and the transparent squares (and triangles) have not. For a contact binary, $\\zeta=1$. The maximum proximity factor $\\zeta_0$ for a given semi-major axis is shown by the dashed black line. This factor corresponds to the binary that would form if all the angular momentum from the initial cloud went into a single equal mass binary. (*fig:binaryAU*)\n",
       "\n",
       "</div>"
      ],
      "text/plain": [
       "<IPython.core.display.Markdown object>"
      ]
     },
     "metadata": {},
     "output_type": "display_data"
    },
    {
     "data": {
      "text/markdown": [
       "<div class=\"macros\" style=\"visibility:hidden;\">\n",
       "$\\newcommand{\\ensuremath}{}$\n",
       "$\\newcommand{\\xspace}{}$\n",
       "$\\newcommand{\\object}[1]{\\texttt{#1}}$\n",
       "$\\newcommand{\\farcs}{{.}''}$\n",
       "$\\newcommand{\\farcm}{{.}'}$\n",
       "$\\newcommand{\\arcsec}{''}$\n",
       "$\\newcommand{\\arcmin}{'}$\n",
       "$\\newcommand{\\ion}[2]{#1#2}$\n",
       "$\\newcommand{\\textsc}[1]{\\textrm{#1}}$\n",
       "$\\newcommand{\\hl}[1]{\\textrm{#1}}$\n",
       "$\\newcommand{\\msun}{M_{\\odot}}$\n",
       "$\\newcommand{\\sfr}{M_{\\odot} yr^{-1}}$</div>\n",
       "\n",
       "<div class=\"macros\" style=\"visibility:hidden;\">\n",
       "$\\newcommand{$\\ensuremath$}{}$\n",
       "$\\newcommand{$\\xspace$}{}$\n",
       "$\\newcommand{$\\object$}[1]{\\texttt{#1}}$\n",
       "$\\newcommand{$\\farcs$}{{.}''}$\n",
       "$\\newcommand{$\\farcm$}{{.}'}$\n",
       "$\\newcommand{$\\arcsec$}{''}$\n",
       "$\\newcommand{$\\arcmin$}{'}$\n",
       "$\\newcommand{$\\ion$}[2]{#1#2}$\n",
       "$\\newcommand{$\\textsc$}[1]{\\textrm{#1}}$\n",
       "$\\newcommand{$\\hl$}[1]{\\textrm{#1}}$\n",
       "$\\newcommand{$\\msun$}{M_{\\odot}}$\n",
       "$\\newcommand{$\\sfr$}{M_{\\odot} yr^{-1}}$</div>\n",
       "\n",
       "\n",
       "\n",
       "<div id=\"title\">\n",
       "\n",
       "# m PAH emission\n",
       "\n",
       "</div>\n",
       "<div id=\"comments\">\n",
       "\n",
       "[![arXiv](https://img.shields.io/badge/arXiv-2211.13426-b31b1b.svg)](https://arxiv.org/abs/2211.13426)<mark>Appeared on: 2022-11-28</mark> - _12 pages, 6 figures_\n",
       "\n",
       "</div>\n",
       "<div id=\"authors\">\n",
       "\n",
       "M. Jimena Rodríguez, et al. -- incl., <mark>Janice C. Lee</mark>, <mark>Eva Schinnerer</mark>, <mark>Daizhong Liu</mark>, <mark>Kathryn~Kreckel</mark>, <mark>Annie~Hughes</mark>\n",
       "\n",
       "</div>\n",
       "<div id=\"abstract\">\n",
       "\n",
       "**Abstract:** The earliest stages of star formation occur enshrouded in dustand are not observable in the optical.Here we leverage the extraordinary new high-resolution infrared imaging from JWST to begin the study of dust-embedded star clusters in nearby galaxies throughout the local volume.  We present atechnique for identifying dust-embedded clusters in NGC 7496 (18.7 Mpc), the first galaxy to be observed by the PHANGS-JWST Cycle 1 Treasury Survey.We select sources that have strong 3.3$\\mu$m PAH emission based on a$\\rm F300M-F335M$color excess, and identify 67 candidate embedded clusters.  Only eight of these are found in the PHANGS-HST optically-selected cluster catalog and all are young (six have SED-fit ages of$\\sim1$Myr).  We find that this sample of embedded cluster candidates may significantly increase the census of young clusters in NGC 7496 from the PHANGS-HST catalog -- the number of clusters younger than$\\sim$2 Myr could be increased by a factor of two.  Candidates are preferentially located in dust lanes, and are coincident with peaks in PHANGS-ALMA CO (2-1)maps. We take a first look at concentration indices, luminosity functions, SEDs spanning from 2700\\AAto 21$\\mu$m, and stellar masses (estimated to be between$\\sim10^4-10^5 M_{\\odot}$).  The methods tested here provide a basis for future work to derive accurate constraints on the physical properties of embedded clusters, characterize the completeness of cluster samples, and expand analysis to all 19 galaxies in the PHANGS-JWST sample, which will enable basic unsolved problems in star formation and cluster evolution to be addressed.\n",
       "\n",
       "</div>\n",
       "\n",
       "<div id=\"div_fig1\">\n",
       "\n",
       "<img src=\"tmp_2211.13426/./CMDs_NGC7496_v4_r.png\" alt=\"Fig4\" width=\"100%\"/>\n",
       "\n",
       "**Figure 4. -** Color-magnitude diagram $\\rm F335M$ vs. $\\rm F300M-F335M$ for NGC 7496. Magnitudes are in the AB system. In all panels the black dots are $\\rm F335M$ sources detected with Photutils {\\it find\\_peaks}. Density contours for the densest parts of this diagram are shown in panels {\\it a} and {\\it b}. In panel {\\it a)} yellow stars show the 12 prototype embedded clusters selected in our initial visual inspection. Based on the location in the CMD of these candidates, we select 67 embedded candidates (cyan circles). The dashed lines show the selection criteria: $\\rm F300M-F335M >$0.3 and F335M$<$24. The magenta box indicates a region where scatter due to the uncertainties in the color is large, and is chosen for the purposes of illustrating the spatial distribution in Fig. \\ref{Fig:color_CO_alpha}.\n",
       "Panel {\\it b)} shows the same extended sample of 67 candidates but differentiated by category: embedded objects (red), intermediate or partially embedded (green), and visible or exposed (blue).\n",
       "Panels {\\it c} and {\\it d} show for comparison the location in the CMD sources from the PHANGS-HST optical cluster catalog.\n",
       "Panel {\\it c)} show clusters older than 100 Myr (magenta). As expected, these clusters fall around $\\rm F300M-F335M=0$, indicating that these old sources do not have PAH emission. This panel also shows clusters with SED-fit age estimates between 10-100 Myr (green crosses) and 5-10 Myr (yellow diamonds), which also appear around $\\rm F300M-F335M=0$. In contrast, about half of the clusters younger than 2 Myr shown in panel {\\it d)}(small cyan crosses) are PAH emitters. Panel {\\it d)} also shows clusters between 2 and 5 Myr (orange squares), which mostly have little measured PAH emission. (*fig:cmd*)\n",
       "\n",
       "</div>\n",
       "<div id=\"div_fig2\">\n",
       "\n",
       "<img src=\"tmp_2211.13426/./galaxy_plus_region.png\" alt=\"Fig3\" width=\"100%\"/>\n",
       "\n",
       "**Figure 3. -** \n",
       "The upper panel shows the PHANGS-HST WFC3 $\\rm F555M$ image of NGC 7496.\n",
       "The sample of 67 PHANGS-JWST 3.3 $\\mu$m selected star cluster candidates are plotted with different colors according to their categories: embedded (red), partially embedded (green) and visible (blue).\n",
       "The locations of optically-selected clusters from the PHANGS-HST catalog are also shown, and distinguished by SED-fit age (black squares for $>10$ Myr and black circles for $<10$ Myr). Only clusters brighter than $\\rm F300M < 25$ are included.\n",
       "The bottom panels show images in the HST-WFC3, JWST-NIRCam, and JWST-MIRI filters, for the $10\" \\times 10\"$ region indicated by the white box in the upper panel. The central wavelength of each filter is indicated in the panel label.\n",
       "The colored circles are the same as in the upper panel. Clusters marked by an additional yellow circle are part of our prototype sample (see text for details).\n",
       "The comparison of this region in the optical HST images and IR from JWST, clearly shows that the candidates fall along a dust lane, largely obscured in the HST bands.\n",
       "\\label{fig:galaxy+reg} (*fig:galaxy+reg*)\n",
       "\n",
       "</div>\n",
       "<div id=\"div_fig3\">\n",
       "\n",
       "<img src=\"tmp_2211.13426/./ngc7496_rgb_co_h_alpha_v2.png\" alt=\"Fig6\" width=\"100%\"/>\n",
       "\n",
       "**Figure 6. -** {\\it Left:} Combined HST F555W (blue) and JWST F335M (red) image. The green dots are sources detected in F335M that satisfy our color cut $\\rm F300M-F335M>0.3$(Sect. \\ref{subsect:selectioncriteria}), but before performing any cut in magnitude.  Sources shown in green without a magenta circle are the strongest PAH emitters, and are mostly found in the main dust lanes within the spiral arms.\n",
       "Sources with an additional magenta circle are those that have $\\rm F300M-F335M$ between 0.3 and 0.7, and $\\rm F335M>24.5$, i.e., they are both fainter and have larger color uncertainties (magenta box in Fig. \\ref{fig:cmd}). This figure shows that when we select only the brightest sources with the largest color excesses, sources which tend to coincide with minor dust lanes in the galaxy, i.e., potentially fainter embedded clusters, are excluded.\n",
       "{\\it Middle}: CO(2-1) ALMA map, with resolution of $\\sim 1\"$ with the 67 embedded cluster candidates (red circles).\n",
       "{\\it Right}: Muse H$_{\\alpha}$ map with resolution of $\\sim 0$\\farcs$$7 and the 67 candidates. Note that the sample is well-correlated with $H_{\\alpha}$ and CO(2-1) peaks.  (*Fig:color_CO_alpha*)\n",
       "\n",
       "</div>"
      ],
      "text/plain": [
       "<IPython.core.display.Markdown object>"
      ]
     },
     "metadata": {},
     "output_type": "display_data"
    },
    {
     "data": {
      "text/markdown": [
       "<div class=\"macros\" style=\"visibility:hidden;\">\n",
       "$\\newcommand{\\ensuremath}{}$\n",
       "$\\newcommand{\\xspace}{}$\n",
       "$\\newcommand{\\object}[1]{\\texttt{#1}}$\n",
       "$\\newcommand{\\farcs}{{.}''}$\n",
       "$\\newcommand{\\farcm}{{.}'}$\n",
       "$\\newcommand{\\arcsec}{''}$\n",
       "$\\newcommand{\\arcmin}{'}$\n",
       "$\\newcommand{\\ion}[2]{#1#2}$\n",
       "$\\newcommand{\\textsc}[1]{\\textrm{#1}}$\n",
       "$\\newcommand{\\hl}[1]{\\textrm{#1}}$\n",
       "$\\newcommand{\\dok}{\\citetalias{2021A&A...651A..86D}}$\n",
       "$\\newcommand{\\loren}{\\citetalias{2017A&A...605A..58A}}$</div>\n",
       "\n",
       "<div class=\"macros\" style=\"visibility:hidden;\">\n",
       "$\\newcommand{$\\ensuremath$}{}$\n",
       "$\\newcommand{$\\xspace$}{}$\n",
       "$\\newcommand{$\\object$}[1]{\\texttt{#1}}$\n",
       "$\\newcommand{$\\farcs$}{{.}''}$\n",
       "$\\newcommand{$\\farcm$}{{.}'}$\n",
       "$\\newcommand{$\\arcsec$}{''}$\n",
       "$\\newcommand{$\\arcmin$}{'}$\n",
       "$\\newcommand{$\\ion$}[2]{#1#2}$\n",
       "$\\newcommand{$\\textsc$}[1]{\\textrm{#1}}$\n",
       "$\\newcommand{$\\hl$}[1]{\\textrm{#1}}$\n",
       "$\\newcommand{$\\dok$}{\\citetalias{2021A&A...651A..86D}}$\n",
       "$\\newcommand{$\\loren$}{\\citetalias{2017A&A...605A..58A}}$</div>\n",
       "\n",
       "\n",
       "\n",
       "<div id=\"title\">\n",
       "\n",
       "# A global view on star formation: The GLOSTAR Galactic plane survey\n",
       "\n",
       "</div>\n",
       "<div id=\"comments\">\n",
       "\n",
       "[![arXiv](https://img.shields.io/badge/arXiv-2211.13811-b31b1b.svg)](https://arxiv.org/abs/2211.13811)<mark>Appeared on: 2022-11-28</mark> - _To be published in A&A. 21 pages, 15 figures_\n",
       "\n",
       "</div>\n",
       "<div id=\"authors\">\n",
       "\n",
       "R. Dokara, et al. -- incl., <mark><mark>H. Beuther</mark></mark>, <mark><mark>P. Müller</mark></mark>\n",
       "\n",
       "</div>\n",
       "<div id=\"abstract\">\n",
       "\n",
       "**Abstract:** While over 1000 supernova remnants (SNRs) are estimated to exist in the Milky Way, only less than 400 have been found to date.  In the context of this apparent deficiency, more than 150 SNR candidates were recently identified in the D-configuration Very Large Array (VLA-D) continuum images of the 4--8 GHz global view on star formation (GLOSTAR) survey, in the Galactic longitude range$-2\\degree<l<60\\degree$.We attempt to find evidence of nonthermal synchrotron emission from 35 SNR candidates in the region of Galactic longitude range$28\\degree<l<36\\degree$, and also to study the radio continuum emission from the previously confirmed SNRs in this region.Using the short-spacing corrected GLOSTAR VLA-D+Effelsberg images, we measure the${\\sim}6$GHz total and linearly polarized flux densities of the SNR candidates and the SNRs that were previously confirmed.  We also attempt to determine the spectral indices by measuring flux densities from complementary Galactic plane surveys and from the temperature-temperature plots of the GLOSTAR-Effelsberg images.We provide evidence of nonthermal emission from four candidates that have spectral indices and polarization consistent with a SNR origin, and, considering their morphology, we are confident that three of these (G28.36+0.21, G28.78-0.44, and G29.38+0.10) are indeed SNRs.  However, about$25\\%$of the candidates (8 out of 35) have spectral index measurements that indicate thermal emission, and the rest of them are too faint to have a good constraint on the spectral index yet.Additional observations at longer wavelengths and higher sensitivities will shed more light on the nature of these candidates.  A simple Monte-Carlo simulation reiterates the view that future studies must persist with the current strategy of searching for SNRs with small angular size to solve the problem of the Milky Way's missing SNRs.\n",
       "\n",
       "</div>\n",
       "\n",
       "<div id=\"div_fig1\">\n",
       "\n",
       "<img src=\"tmp_2211.13811/./figs/G35.6-0.4.png\" alt=\"Fig5\" width=\"100%\"/>\n",
       "\n",
       "**Figure 5. -** SNR G35.6-0.4: the top left and right panels show the GLOSTAR combination images of total and linearly polarized intensity.  The red dotted circles represent the two shell-like structures identified at 610 MHz by \\citet{2014A&A...561A..56P}, while the black diamond marks the position of the recombination line discovered by \\citet{1989ApJS...71..469L}.  The TT-plot from GLOSTAR-Effelsberg images and the flux density spectrum are presented in the bottom left and right panels respectively.  (*fig:G35.6-0.4*)\n",
       "\n",
       "</div>\n",
       "<div id=\"div_fig2\">\n",
       "\n",
       "<img src=\"tmp_2211.13811/./figs/G29.6+0.1.png\" alt=\"Fig3.1\" width=\"25%\"/><img src=\"tmp_2211.13811/./figs/G31.5-0.6.png\" alt=\"Fig3.2\" width=\"25%\"/><img src=\"tmp_2211.13811/./figs/G32.4+0.1.png\" alt=\"Fig3.3\" width=\"25%\"/><img src=\"tmp_2211.13811/./figs/G32.8-0.1.png\" alt=\"Fig3.4\" width=\"25%\"/>\n",
       "\n",
       "**Figure 3. -** From top to bottom: G29.6+0.1, G31.5-0.6, G32.4+0.1, and G32.8-0.1.  Left panels show the GLOSTAR combination images.  The TT-plot from GLOSTAR-Effelsberg images, and the flux density spectrum using the GLOSTAR combination images and ancillary data are presented in the middle and right panels respectively.   (*fig:ksnrs*)\n",
       "\n",
       "</div>\n",
       "<div id=\"div_fig3\">\n",
       "\n",
       "<img src=\"tmp_2211.13811/./figs/spidx_dist2.png\" alt=\"Fig6\" width=\"100%\"/>\n",
       "\n",
       "**Figure 6. -** Flux density spectral indices ($\\alpha_{\\mathrm{FD}}$) of the candidate SNRs being studied in this work.  Candidates with lower limits are represented by upward arrows.  Since G29.38+0.10 has a spectral break, both the spectral indices are shown.  (*fig:spidxdist*)\n",
       "\n",
       "</div>"
      ],
      "text/plain": [
       "<IPython.core.display.Markdown object>"
      ]
     },
     "metadata": {},
     "output_type": "display_data"
    },
    {
     "data": {
      "text/markdown": [
       "<div class=\"macros\" style=\"visibility:hidden;\">\n",
       "$\\newcommand{\\ensuremath}{}$\n",
       "$\\newcommand{\\xspace}{}$\n",
       "$\\newcommand{\\object}[1]{\\texttt{#1}}$\n",
       "$\\newcommand{\\farcs}{{.}''}$\n",
       "$\\newcommand{\\farcm}{{.}'}$\n",
       "$\\newcommand{\\arcsec}{''}$\n",
       "$\\newcommand{\\arcmin}{'}$\n",
       "$\\newcommand{\\ion}[2]{#1#2}$\n",
       "$\\newcommand{\\textsc}[1]{\\textrm{#1}}$\n",
       "$\\newcommand{\\hl}[1]{\\textrm{#1}}$\n",
       "$\\newcommand{\\feh}{\\langle \\rm{[Fe/H]} \\rangle}$\n",
       "$\\newcommand{\\ali}{A(Li)}$\n",
       "$\\newcommand{\\medt}{\\overline{t}}$\n",
       "$\\newcommand{\\sfehtot}{\\sigma(\\rm{[Fe/H]})_{\\rm tot}}$\n",
       "$\\newcommand{\\sfehtop}{\\sigma(\\rm{[Fe/H]})_{\\rm top6}}$\n",
       "$\\newcommand{\\smgfetot}{\\sigma(\\rm{[Mg/Fe]})_{\\rm tot}}$\n",
       "$\\newcommand{\\smgfetop}{\\sigma(\\rm{[Mg/Fe]})_{\\rm top6}}$\n",
       "$\\newcommand$\n",
       "$\\newcommand$\n",
       "$\\newcommand{\\mlld}[1]{\\textcolor{magenta}{#1}}$\n",
       "$\\newcommand{\\guillaume}[1]{\\textcolor{blue}{#1}}$\n",
       "$\\newcommand{\\laura}[1]{\\textcolor{red}{#1}}$</div>\n",
       "\n",
       "<div class=\"macros\" style=\"visibility:hidden;\">\n",
       "$\\newcommand{$\\ensuremath$}{}$\n",
       "$\\newcommand{$\\xspace$}{}$\n",
       "$\\newcommand{$\\object$}[1]{\\texttt{#1}}$\n",
       "$\\newcommand{$\\farcs$}{{.}''}$\n",
       "$\\newcommand{$\\farcm$}{{.}'}$\n",
       "$\\newcommand{$\\arcsec$}{''}$\n",
       "$\\newcommand{$\\arcmin$}{'}$\n",
       "$\\newcommand{$\\ion$}[2]{#1#2}$\n",
       "$\\newcommand{$\\textsc$}[1]{\\textrm{#1}}$\n",
       "$\\newcommand{$\\hl$}[1]{\\textrm{#1}}$\n",
       "$\\newcommand{$\\feh$}{\\langle \\rm{[Fe/H]} \\rangle}$\n",
       "$\\newcommand{$\\ali$}{A(Li)}$\n",
       "$\\newcommand{$\\medt$}{\\overline{t}}$\n",
       "$\\newcommand{$\\sfehtot$}{\\sigma(\\rm{[Fe/H]})_{\\rm tot}}$\n",
       "$\\newcommand{$\\sfehtop$}{\\sigma(\\rm{[Fe/H]})_{\\rm top6}}$\n",
       "$\\newcommand{$\\smgfetot$}{\\sigma(\\rm{[Mg/Fe]})_{\\rm tot}}$\n",
       "$\\newcommand{$\\smgfetop$}{\\sigma(\\rm{[Mg/Fe]})_{\\rm top6}}$\n",
       "$\\newcommand$\n",
       "$\\newcommand$\n",
       "$\\newcommand{$\\mlld$}[1]{\\textcolor{magenta}{#1}}$\n",
       "$\\newcommand{$\\guillaume$}[1]{\\textcolor{blue}{#1}}$\n",
       "$\\newcommand{$\\laura$}[1]{\\textcolor{red}{#1}}$</div>\n",
       "\n",
       "\n",
       "\n",
       "<div id=\"title\">\n",
       "\n",
       "# -ESO Survey: probing the lithium abundances in old  metal-rich dwarf stars in the Solar vicinity\n",
       "\n",
       "</div>\n",
       "<div id=\"comments\">\n",
       "\n",
       "[![arXiv](https://img.shields.io/badge/arXiv-2211.14132-b31b1b.svg)](https://arxiv.org/abs/2211.14132)<mark>Appeared on: 2022-11-28</mark> - _8 pages, 3 figures. Accepted for publication in A&A Letters. Abridged abstract to fit ArXiv's requirements_\n",
       "\n",
       "</div>\n",
       "<div id=\"authors\">\n",
       "\n",
       "M. L. L. Dantas, et al. -- incl., <mark><mark>G. Guiglion</mark></mark>, <mark><mark>U. Heiter</mark></mark>\n",
       "\n",
       "</div>\n",
       "<div id=\"abstract\">\n",
       "\n",
       "**Abstract:** Lithium (Li) is a fragile element that is produced in a variety of sites, but can also be very easily depleted in stellar photospheres. Radial migration has been reported to explain the decrease of the upper envelope of Li measurements observed for relatively old metal-rich dwarf stars in some surveys.We test a scenario in which radial migration could affect the Li abundance pattern of dwarf stars in the solar neighbourhood. This may confirm that the Li abundances in these stars can not serve as a probe for the Li abundance in the interstellar medium. In other words, to probe the evolution of the Li abundance in the local interstellar medium (ISM), it is crucial that stellar intruders are identified and removed from the adopted sample.We use the high-quality data (including Li abundances) from the 6\\textsuperscript{th}internal Data Release of the\\emph{Gaia}-ESO survey. In this sample, we group stars by similarity in chemical abundances via hierarchical clustering. Our analysis treats both measured Li abundances and upper limits.The Li envelope of the previously identified radially migrated stars is well below the benchmark meteoritic value (<3.26 dex); the star with the highest detected abundance has A(Li) = 2.76 dex. This confirms the previous trends observed for old dwarf stars (median ages$\\sim$8 Gyr), where Li decreases for[Fe/H]$\\gtrsim$0.This result acts as supporting evidence that the abundance of Li measured in the upper envelope of old dwarf stars should not be considered a proxy for the interstellar medium Li. Our scenario also indicates that the stellar yields for[M/H]>0 should not be decreased, as recently proposed in the literature. Our study backs the recent studies that claimed that old dwarfs on the hot side of the dip are efficient probes of the ISM abundance of Li, provided atomic diffusion does not lower significantly the initial Li abundance in the atmospheres of metal-rich objects.\n",
       "\n",
       "</div>\n",
       "\n",
       "<div id=\"div_fig1\">\n",
       "\n",
       "<img src=\"tmp_2211.14132/./figs/lithium_top6li_all11subgs_lifeh_g19.png\" alt=\"Fig1.1\" width=\"50%\"/><img src=\"tmp_2211.14132/./figs/lithium_top6li_all11subgs_liteff.png\" alt=\"Fig1.2\" width=\"50%\"/>\n",
       "\n",
       "**Figure 1. -** \\emph{Left panel:}$\\langle{\\rm A(Li)} \\rangle$ vs $\\feh$ for the super-solar groups of the sample, split into those with direct detection of Li (LiD -- round markers) and those with upper limit estimate (LiUL -- inverted triangle markers). In this representation, only the median of top 6 stars with the highest $\\ali$ are shown in each marker. Dark magenta markers have been added to represent the meteoritic ({\\tiny{$\\bigotimes$}}) and Solar photospheric ({\\tiny $\\bigodot$}) values. The median ages of the stars represented by each marker are displayed on the legend. The black star-shaped markers display the data from \\citet{guiglion_2016}. It is worth mentioning that the errors associated with $\\ali$ are very small and that is why they are not seen. \\emph{Right panel:}$\\langle{\\rm A(Li)} \\rangle$ vs $\\langle T_{\\rm eff} \\rangle$: it is possible to see that $\\ali$ seems to decrease with decreasing $T_{\\rm eff}$. Indeed, the warmer temperatures seem to have a protective effect on $\\ali$ due to their thinner convective layers. A straight black dotted line is added to depict an approximate estimation of $T_{\\rm{eff}}$(i.e. at $\\sim$5700K) for unmodified $\\ali$ as shown in \\citet[][]{romano2021}. (*fig:li_feh_top6*)\n",
       "\n",
       "</div>\n",
       "<div id=\"div_fig2\">\n",
       "\n",
       "<img src=\"tmp_2211.14132/./figs/MMR_solar_feh_li.png\" alt=\"Fig2\" width=\"100%\"/>\n",
       "\n",
       "**Figure 2. -** $\\ali$ vs [Fe/H] in the shape of a scatter-plot and a 2D-Gaussian kernel density plot the MMR subgroups (from 6 to 10) in order of increasing $\\feh$. Round and inverted-triangle markers depict, respectively, LiD and LiUL measurements. The 2D-kernel densities are either in the same colour as the scatter markers (for LiD) or in grey (for LiUL). 2D-kernel densities are not shown for subgroups 9 and 10 in the case of LiD due to the low number of stars with detected Li in each of these subgroups (2 and 1, respectively). Similarly to Fig. \\ref{fig:li_feh_top6}, additional markers were added to depict both the meteoritic and Solar photospheric $\\ali$. The MMR group colours are the same as in \\citet{Dantas2022}. The errors are omitted to ease the visualisation. The median ages of each MMR subgroup are depicted at the top of each subplot; it is worth noting that subgroup 10 (purple) has a smaller $\\overline{t}$ than depicted in \\citet[][]{Dantas2022}. The reason for this difference is due to the stars removed with missing Li. (*fig:mmr_feh_li*)\n",
       "\n",
       "</div>\n",
       "<div id=\"div_fig3\">\n",
       "\n",
       "<img src=\"tmp_2211.14132/./figs/mmr_li_teff.png\" alt=\"Fig3\" width=\"100%\"/>\n",
       "\n",
       "**Figure 3. -** $\\ali$ vs $T_{\\rm{eff}}$ for all MMR stars. Stars with LiD are represented by the round markers whereas those with LiUL are displayed using inverted triangles. The colours that differentiate each MMR subgroup are the same as in Fig. \\ref{fig:mmr_feh_li}. A straight black dotted line is added to depict an approximate estimation of $T_{\\rm{eff}}$(i.e. at $\\sim$5700K) for unmodified $\\ali$ as shown in \\citet[][]{romano2021}. (*fig:mmr_li_teff*)\n",
       "\n",
       "</div>"
      ],
      "text/plain": [
       "<IPython.core.display.Markdown object>"
      ]
     },
     "metadata": {},
     "output_type": "display_data"
    }
   ],
   "source": [
    "[display(Markdown(k[1])) for k in documents];"
   ]
  },
  {
   "cell_type": "markdown",
   "id": "873873a4",
   "metadata": {
    "papermill": {
     "duration": 0.015894,
     "end_time": "2022-11-28T04:10:52.062895",
     "exception": false,
     "start_time": "2022-11-28T04:10:52.047001",
     "status": "completed"
    },
    "tags": []
   },
   "source": [
    "# Create HTML index"
   ]
  },
  {
   "cell_type": "code",
   "execution_count": 10,
   "id": "cf665672",
   "metadata": {
    "execution": {
     "iopub.execute_input": "2022-11-28T04:10:52.130397Z",
     "iopub.status.busy": "2022-11-28T04:10:52.129857Z",
     "iopub.status.idle": "2022-11-28T04:10:52.141306Z",
     "shell.execute_reply": "2022-11-28T04:10:52.140518Z"
    },
    "papermill": {
     "duration": 0.06392,
     "end_time": "2022-11-28T04:10:52.143045",
     "exception": false,
     "start_time": "2022-11-28T04:10:52.079125",
     "status": "completed"
    },
    "tags": []
   },
   "outputs": [
    {
     "name": "stdout",
     "output_type": "stream",
     "text": [
      "102  publications in the last 7 days.\n",
      "\t _build/html/2211.14132.md\n",
      "\t _build/html/2211.13811.md\n",
      "\t _build/html/2211.13426.md\n",
      "\t _build/html/2211.13318.md\n",
      "\t _build/html/2211.13146.md\n",
      "\t _build/html/2211.12613.md\n",
      "\t _build/html/2211.11767.md\n",
      "\t _build/html/2211.09840.md\n",
      "\t _build/html/2211.09217.md\n",
      "\t _build/html/2211.08493.md\n",
      "\t _build/html/2211.08487.md\n",
      "\t _build/html/2211.08294.md\n",
      "\t _build/html/2211.07667.md\n",
      "\t _build/html/2211.07659.md\n",
      "\t _build/html/2211.06454.md\n",
      "\t _build/html/2211.06205.md\n",
      "\t _build/html/2211.06194.md\n",
      "\t _build/html/2211.05022.md\n",
      "\t _build/html/2211.04048.md\n",
      "\t _build/html/2211.03641.md\n",
      "\t _build/html/2211.02502.md\n",
      "\t _build/html/2211.01474.md\n",
      "\t _build/html/2211.00667.md\n",
      "\t _build/html/2211.00657.md\n",
      "\t _build/html/2211.00087.md\n",
      "\t _build/html/2211.00036.md\n",
      "\t _build/html/2211.00020.md\n",
      "\t _build/html/2211.00010.md\n",
      "\t _build/html/2210.17434.md\n",
      "\t _build/html/2210.12412.md\n",
      "\t _build/html/2210.11926.md\n",
      "\t _build/html/2210.11551.md\n",
      "\t _build/html/2210.11103.md\n",
      "\t _build/html/2210.10707.md\n",
      "\t _build/html/2210.09930.md\n",
      "\t _build/html/2210.08996.md\n",
      "\t _build/html/2210.08517.md\n",
      "\t _build/html/2210.08510.md\n",
      "\t _build/html/2210.08078.md\n",
      "\t _build/html/2210.06504.md\n",
      "\t _build/html/2210.05695.md\n",
      "\t _build/html/2210.05595.md\n",
      "\t _build/html/2210.05505.md\n",
      "\t _build/html/2210.04721.md\n",
      "\t _build/html/2210.03615.md\n",
      "\t _build/html/2210.01811.md\n",
      "\t _build/html/2210.01809.md\n",
      "\t _build/html/2210.01556.md\n",
      "\t _build/html/2210.00863.md\n",
      "\t _build/html/2210.00560.md\n",
      "\t _build/html/2209.15403.md\n",
      "\t _build/html/2209.15110.md\n",
      "\t _build/html/2209.14410.md\n",
      "\t _build/html/2209.14396.md\n",
      "\t _build/html/2209.13717.md\n",
      "\t _build/html/2209.13336.md\n",
      "\t _build/html/2209.12906.md\n",
      "\t _build/html/2209.11781.md\n",
      "\t _build/html/2209.11602.md\n",
      "\t _build/html/2209.11248.md\n",
      "\t _build/html/2209.11096.md\n",
      "\t _build/html/2209.10618.md\n",
      "\t _build/html/2209.09914.md\n",
      "\t _build/html/2209.09823.md\n",
      "\t _build/html/2209.08242.md\n",
      "\t _build/html/2209.08120.md\n",
      "\t _build/html/2209.08106.md\n",
      "\t _build/html/2209.07962.md\n",
      "\t _build/html/2209.07931.md\n",
      "\t _build/html/2209.06833.md\n",
      "\t _build/html/2209.05814.md\n",
      "\t _build/html/2209.05593.md\n",
      "\t _build/html/2209.04304.md\n",
      "\t _build/html/2209.03367.md\n",
      "\t _build/html/2209.02872.md\n",
      "\t _build/html/2209.02725.md\n",
      "\t _build/html/2209.02722.md\n",
      "\t _build/html/2209.02092.md\n",
      "\t _build/html/2209.01125.md\n",
      "\t _build/html/2209.00828.md\n",
      "\t _build/html/2209.00363.md\n",
      "\t _build/html/2208.14927.md\n",
      "\t _build/html/2208.09335.md\n",
      "\t _build/html/2208.08872.md\n",
      "\t _build/html/2204.06393.md\n",
      "\t _build/html/2204.03335.md\n",
      "\t _build/html/2204.03253.md\n",
      "\t _build/html/2204.02998.md\n",
      "\t _build/html/2204.02109.md\n",
      "\t _build/html/2204.02017.md\n",
      "\t _build/html/2204.01824.md\n",
      "\t _build/html/2204.01758.md\n",
      "\t _build/html/2204.01245.md\n",
      "\t _build/html/2204.00793.md\n",
      "\t _build/html/2204.00342.md\n",
      "\t _build/html/2203.16959.md\n",
      "\t _build/html/2203.16856.md\n",
      "\t _build/html/2203.16735.md\n",
      "\t _build/html/2203.16734.md\n",
      "\t _build/html/2203.16504.md\n",
      "\t _build/html/2203.15822.md\n",
      "\t _build/html/2203.15811.md\n"
     ]
    }
   ],
   "source": [
    "from datetime import datetime, timedelta, timezone\n",
    "from glob import glob\n",
    "\n",
    "files = glob('_build/html/*.md')\n",
    "days = 7\n",
    "now = datetime.today()\n",
    "res = []\n",
    "for fk in files:\n",
    "    stat_result = os.stat(fk).st_ctime\n",
    "    modified = datetime.fromtimestamp(stat_result, tz=timezone.utc).replace(tzinfo=None)\n",
    "    delta = now.today() - modified\n",
    "    if delta <= timedelta(days=days):\n",
    "        res.append((delta.seconds, fk))\n",
    "res = [k[1] for k in reversed(sorted(res, key=lambda x:x[1]))]\n",
    "npub = len(res)\n",
    "print(len(res), f\" publications in the last {days:d} days.\")\n",
    "[ print('\\t', k) for k in res ];"
   ]
  },
  {
   "cell_type": "code",
   "execution_count": 11,
   "id": "52ca0208",
   "metadata": {
    "execution": {
     "iopub.execute_input": "2022-11-28T04:10:52.177339Z",
     "iopub.status.busy": "2022-11-28T04:10:52.176887Z",
     "iopub.status.idle": "2022-11-28T04:10:52.184600Z",
     "shell.execute_reply": "2022-11-28T04:10:52.183977Z"
    },
    "papermill": {
     "duration": 0.027174,
     "end_time": "2022-11-28T04:10:52.186349",
     "exception": false,
     "start_time": "2022-11-28T04:10:52.159175",
     "status": "completed"
    },
    "scrolled": false,
    "tags": []
   },
   "outputs": [],
   "source": [
    "def create_carousel(npub=4):\n",
    "    \"\"\" Generate the HTML code for a carousel with `npub` slides \"\"\"\n",
    "    carousel = [\"\"\"<section class=\"carousel\" aria-label=\"Gallery\">\"\"\",\n",
    "                \"\"\"  <ol class=\"carousel__viewport\">\"\"\",\n",
    "    ]\n",
    "    for k in range(1, npub + 1):\n",
    "        prev_ = k - 1\n",
    "        next_ = k + 1\n",
    "        if prev_ <= 0:\n",
    "            prev_ = npub\n",
    "        if next_ > npub:\n",
    "            next_ = 1\n",
    "        text  = f\"\"\"    <li id=\"carousel__slide{k}\" tabindex=\"0\" class=\"carousel__slide\">\\n\"\"\"\n",
    "        text += f\"\"\"       <div class=\"carousel__snapper\">\\n\"\"\"\n",
    "        text += f\"\"\"         <a href=\"#carousel__slide{prev_}\" class=\"carousel__prev\">Go to previous slide</a>\\n\"\"\"\n",
    "        text += f\"\"\"         <a href=\"#carousel__slide{next_}\" class=\"carousel__next\">Go to next slide</a>\\n\"\"\"\n",
    "        text += f\"\"\"         <div id=\"slide{k}_content\" class=\"md_view\" >Content {k}</div>\\n\"\"\"\n",
    "        text += f\"\"\"       </div>\\n\"\"\"\n",
    "        text += f\"\"\"    </li>\"\"\"\n",
    "        carousel.append(text)\n",
    "\n",
    "    carousel.extend([\n",
    "        \"\"\"  </ol>\"\"\",\n",
    "        \"\"\"  <aside class=\"carousel__navigation\">\"\"\",\n",
    "        \"\"\"    <ol class=\"carousel__navigation-list\">\"\"\"])\n",
    "\n",
    "    for k in range(1, npub + 1):\n",
    "        text  = f\"\"\"      <li class=\"carousel__navigation-item\">\\n\"\"\"\n",
    "        text += f\"\"\"        <a href=\"#carousel__slide{k}\" class=\"carousel__navigation-button\">Go to {k}</a>\\n\"\"\"\n",
    "        text += f\"\"\"      </li>\"\"\"\n",
    "        carousel.append(text)\n",
    "    carousel.extend([\"\"\"    </ol>\"\"\", \"\"\"  </aside>\"\"\", \"\"\"</section>\"\"\"])\n",
    "\n",
    "    return '\\n'.join(carousel)"
   ]
  },
  {
   "cell_type": "code",
   "execution_count": 12,
   "id": "a6eac5b6",
   "metadata": {
    "execution": {
     "iopub.execute_input": "2022-11-28T04:10:52.221857Z",
     "iopub.status.busy": "2022-11-28T04:10:52.220972Z",
     "iopub.status.idle": "2022-11-28T04:10:52.231984Z",
     "shell.execute_reply": "2022-11-28T04:10:52.231296Z"
    },
    "papermill": {
     "duration": 0.030751,
     "end_time": "2022-11-28T04:10:52.233664",
     "exception": false,
     "start_time": "2022-11-28T04:10:52.202913",
     "status": "completed"
    },
    "scrolled": false,
    "tags": []
   },
   "outputs": [],
   "source": [
    "carousel = create_carousel(npub)\n",
    "docs = ', '.join(['\"{0:s}\"'.format(k.split('/')[-1]) for k in res])\n",
    "slides = ', '.join([f'\"slide{k}_content\"' for k in range(1, npub + 1)])\n",
    "\n",
    "script = f\"\"\"\n",
    "const docs = [{docs}]\n",
    "\n",
    "const slides = [{slides}]\n",
    "\"\"\" + \"\"\"\n",
    "async function run() {\n",
    "    for (let i = 0; i < docs.length; i++) {\n",
    "        let file = await fetch(docs[i]);\n",
    "        let text = await file.text()\n",
    "        document.getElementById(slides[i]).innerHTML =\n",
    "            marked.parse(text);\n",
    "    }\n",
    "    hljs.highlightAll();\n",
    "}\n",
    "run()\n",
    "\"\"\"\n",
    "\n",
    "page = f\"\"\"<!doctype html>\n",
    "<html lang=\"en\">\n",
    "\n",
    "<head>\n",
    "  <meta charset=\"utf-8\">\n",
    "  <meta name=\"viewport\" content=\"width=device-width, initial-scale=1\">\n",
    "  <!-- Bootstrap CSS -->\n",
    "  <link href=\"https://cdn.jsdelivr.net/npm/bootstrap@5.0.2/dist/css/bootstrap.min.css\" rel=\"stylesheet\"\n",
    "   integrity=\"sha384-EVSTQN3/azprG1Anm3QDgpJLIm9Nao0Yz1ztcQTwFspd3yD65VohhpuuCOmLASjC\" crossorigin=\"anonymous\">\n",
    "  <!-- highlight.js CSS -->\n",
    "  <link rel=\"stylesheet\" href=\"https://cdnjs.cloudflare.com/ajax/libs/highlight.js/11.1.0/styles/default.min.css\">\n",
    "  <!-- Mathjax 3 -->\n",
    "  <script type=\"text/javascript\" id=\"MathJax-config\" src=\"mathjax_config.js\"> </script>\n",
    "  <script type=\"text/javascript\" id=\"MathJax-script\" async \n",
    "    src=\"https://cdn.jsdelivr.net/npm/mathjax@3/es5/tex-mml-chtml.js\">\n",
    "  </script>\n",
    "  <link rel=\"stylesheet\" href=\"index_carousel.css\">\n",
    "  <link rel=\"icon\" type=\"image/x-icon\" href=\"https://www.mpia.de/assets/touch-icon-32x32-a66937bcebc4e8894ebff1f41a366c7c7220fd97a38869ee0f2db65a9f59b6c1.png\">\n",
    "  <title>MPIA Arxiv on deck!</title>\n",
    "</head>\n",
    "\n",
    "<body>\n",
    "  <div id=\"header\"> <img src=\"header_banner.png\" width=\"100%\"></div>\n",
    "  <div id=\"suptitle\"> 7-day archives </div>\n",
    "  <div id=\"info\">\n",
    "    <img src=\"https://pngimg.com/uploads/github/github_PNG58.png\" height=30rem></img>\n",
    "    <a href=https://github.com/mpi-astronomy/arxiv_display style=\"color:black;\">github/mpi-astronomy/arxiv_display</a> \n",
    "  </div>\n",
    "  {carousel:s}\n",
    "</body>\n",
    "\n",
    "<!-- Render Markdown -->\n",
    "\n",
    "<body>\n",
    "  <!-- highlight.js: https://highlightjs.org/download/ -->\n",
    "  <script src=\"https://cdnjs.cloudflare.com/ajax/libs/highlight.js/11.5.0/highlight.min.js\"></script>\n",
    "  <!-- marked.js -->\n",
    "  <script src=\"https://cdn.jsdelivr.net/npm/marked/marked.min.js\"></script>\n",
    "  <script>{script:s}</script>\n",
    "</body>\n",
    "</html>\n",
    "\"\"\"\n",
    "with open(\"_build/html/index_7days.html\", 'w') as fout:\n",
    "    fout.write(page)"
   ]
  },
  {
   "cell_type": "markdown",
   "id": "1cebacbc",
   "metadata": {
    "papermill": {
     "duration": 0.016009,
     "end_time": "2022-11-28T04:10:52.265704",
     "exception": false,
     "start_time": "2022-11-28T04:10:52.249695",
     "status": "completed"
    },
    "tags": []
   },
   "source": [
    "# Debugging papers"
   ]
  },
  {
   "cell_type": "raw",
   "id": "debe7cc6",
   "metadata": {
    "papermill": {
     "duration": 0.018894,
     "end_time": "2022-11-28T04:10:52.300789",
     "exception": false,
     "start_time": "2022-11-28T04:10:52.281895",
     "status": "completed"
    },
    "tags": []
   },
   "source": [
    "raise NotImplementedError(\"Manual Stop\")"
   ]
  },
  {
   "cell_type": "raw",
   "id": "eb169192",
   "metadata": {
    "papermill": {
     "duration": 0.015904,
     "end_time": "2022-11-28T04:10:52.332945",
     "exception": false,
     "start_time": "2022-11-28T04:10:52.317041",
     "status": "completed"
    },
    "scrolled": true,
    "tags": []
   },
   "source": [
    "from IPython.display import display, Markdown\n",
    "from TexSoup import TexSoup\n",
    "import re\n",
    "\n",
    "def bracket_error(source: str):\n",
    "    \"\"\" Find problematic portions of the document \"\"\"\n",
    "    \n",
    "    print(\"len(source)\", len(source))\n",
    "    \n",
    "    # Checking header\n",
    "    begin_doc = next(re.finditer(r'\\\\begin\\{document\\}', doc.source)).span()[1]\n",
    "    header = source[:begin_doc]\n",
    "    text = header + r\"\\n\\end{document}\"\n",
    "\n",
    "    try:\n",
    "        # print(\"Header check... \", end='')\n",
    "        TexSoup(text)\n",
    "        display(Markdown(f\"**[OK]** - Header\"))\n",
    "    except:\n",
    "        raise RuntimeError(\"Error in the header\")\n",
    "        \n",
    "    # Check the text per section until the end.\n",
    "    # Do not stop and try them all.\n",
    "    \n",
    "    problematic_text = []\n",
    "    \n",
    "    sections = ([(0, begin_doc, 'until first section')] + \n",
    "                [(g.span()[0], g.span()[1], g.group()) for g in re.finditer(r'\\\\section\\{.*\\}', source)] +\n",
    "                [(g.span()[0], g.span()[1], g.group()) for g in re.finditer(r'\\\\begin\\{appendix\\}', source)]\n",
    "               )\n",
    "    sections.append([len(source), len(source), 'end'])\n",
    "    \n",
    "    sections = sorted(sections, key=lambda x: x[0])\n",
    "    \n",
    "    prev_pos, prev_name = (0, 'header')\n",
    "    parsed = []\n",
    "    \n",
    "    for span, span_end, name in sections:\n",
    "\n",
    "        if span - prev_pos <= 0:\n",
    "            continue\n",
    "            \n",
    "\n",
    "        text = source[prev_pos:span]\n",
    "        if prev_pos > begin_doc:\n",
    "            text = r\"\\n\\begin{document}\" + text + r\"\\n\\end{document}\"\n",
    "        else:\n",
    "            text = text + r\"\\n\\end{document}\"\n",
    "        try:\n",
    "            #print(f\"{prev_pos}:{prev_name}-->{span}:{name} check... \", end='')\n",
    "            parsed.append(TexSoup(text, tolerance=1))  # allow not ending env\n",
    "            display(Markdown(f\"**[OK]** - *{prev_pos}*:{prev_name} &rarr; *{span}*:{name}\"))\n",
    "            # print(\"ok\")\n",
    "\n",
    "            prev_pos = span\n",
    "            prev_name = name\n",
    "        except:\n",
    "            # print(f\"error between {prev_pos} and {span}\")\n",
    "            display(Markdown(f\"**[ERR]** *{prev_pos}*:{prev_name} &rarr; *{span}*:{name}\"))\n",
    "            problematic_text.append((prev_pos, source[prev_pos:span]))\n",
    "            prev_pos = span\n",
    "            prev_name = name\n",
    "            # raise\n",
    "    return problematic_text, parsed\n",
    "\n",
    "\n",
    "def check_environment(text, offset=0):\n",
    "    \"\"\" Check environment \"\"\"\n",
    "    env = re.compile(r\"\\\\begin\\{(?P<env>.*)\\}(.*)\\\\end\\{(?P=env)\\}\", re.DOTALL)\n",
    "\n",
    "    for match in env.finditer(text):\n",
    "        beg, end = match.span()\n",
    "        beg += offset\n",
    "        end += offset\n",
    "        envname = match.groups()[0]\n",
    "        try:\n",
    "            latex.TexSoup(match.group())\n",
    "        except Exception as e:\n",
    "            display(e)\n",
    "            print(f\"Error in {envname:s} between {beg} and {end}\")\n",
    "            return match.groups()[1], beg, end"
   ]
  },
  {
   "cell_type": "raw",
   "id": "2315e835",
   "metadata": {
    "papermill": {
     "duration": 0.01622,
     "end_time": "2022-11-28T04:10:52.365083",
     "exception": false,
     "start_time": "2022-11-28T04:10:52.348863",
     "status": "completed"
    },
    "scrolled": false,
    "tags": []
   },
   "source": [
    "import importlib\n",
    "importlib.reload(latex)\n",
    "which = \"2204.03253\"\n",
    "paper_id = f'{which:s}'\n",
    "folder = f'tmp_{paper_id:s}'\n",
    "\n",
    "if not os.path.isdir(folder):\n",
    "    folder = retrieve_document_source(f\"{paper_id}\", f'tmp_{paper_id}')\n",
    "\n",
    "try:\n",
    "    doc = latex.LatexDocument(folder, validation=validation)    \n",
    "except AffiliationError as affilerror:\n",
    "    msg = f\"ArXiv:{paper_id:s} is not an MPIA paper... \" + str(affilerror)\n",
    "    print(msg)\n",
    "\n",
    "\n",
    "# Hack because sometimes author parsing does not work well\n",
    "if (len(doc.authors) != len(paper['authors'])):\n",
    "    doc._authors = paper['authors']\n",
    "if (doc.abstract) in (None, ''):\n",
    "    doc._abstract = paper['abstract']\n",
    "\n",
    "doc.comment = get_markdown_badge(paper_id) + \" _\" + paper['comments'] + \"_\"\n",
    "doc.highlight_authors_in_list(hl_list)\n",
    "\n",
    "full_md = doc.generate_markdown_text()"
   ]
  },
  {
   "cell_type": "raw",
   "id": "dd3781db",
   "metadata": {
    "papermill": {
     "duration": 0.015993,
     "end_time": "2022-11-28T04:10:52.396972",
     "exception": false,
     "start_time": "2022-11-28T04:10:52.380979",
     "status": "completed"
    },
    "scrolled": false,
    "tags": []
   },
   "source": [
    "doc"
   ]
  },
  {
   "cell_type": "raw",
   "id": "c6eed834",
   "metadata": {
    "papermill": {
     "duration": 0.01596,
     "end_time": "2022-11-28T04:10:52.428884",
     "exception": false,
     "start_time": "2022-11-28T04:10:52.412924",
     "status": "completed"
    },
    "tags": []
   },
   "source": [
    "# [check_environment(k) for k in bracket_error(doc.source)]\n",
    "_, _, a = latex.get_content_per_section(doc.source, verbose=True)\n",
    "if not a:\n",
    "    print(\"no issues per section\")\n",
    "for ak in a:\n",
    "    r = check_environment(ak[1], offset=ak[0])\n",
    "    print(r[1], r[2])\n",
    "    print(r[0])"
   ]
  },
  {
   "cell_type": "code",
   "execution_count": null,
   "id": "71ce768a",
   "metadata": {
    "papermill": {
     "duration": 0.016216,
     "end_time": "2022-11-28T04:10:52.461330",
     "exception": false,
     "start_time": "2022-11-28T04:10:52.445114",
     "status": "completed"
    },
    "tags": []
   },
   "outputs": [],
   "source": []
  }
 ],
 "metadata": {
  "kernelspec": {
   "display_name": "Python 3.10.6 64-bit",
   "language": "python",
   "name": "python3"
  },
  "language_info": {
   "codemirror_mode": {
    "name": "ipython",
    "version": 3
   },
   "file_extension": ".py",
   "mimetype": "text/x-python",
   "name": "python",
   "nbconvert_exporter": "python",
   "pygments_lexer": "ipython3",
   "version": "3.9.15"
  },
  "papermill": {
   "default_parameters": {},
   "duration": 187.604833,
   "end_time": "2022-11-28T04:10:52.696877",
   "environment_variables": {},
   "exception": null,
   "input_path": "MPIA daily digest.ipynb",
   "output_path": "log.ipynb",
   "parameters": {},
   "start_time": "2022-11-28T04:07:45.092044",
   "version": "2.4.0"
  },
  "vscode": {
   "interpreter": {
    "hash": "e7370f93d1d0cde622a1f8e1c04877d8463912d04d973331ad4851f04de6915a"
   }
  },
  "widgets": {
   "application/vnd.jupyter.widget-state+json": {
    "state": {
     "066b37a004ab480b96ff7366d5316ab0": {
      "model_module": "@jupyter-widgets/controls",
      "model_module_version": "2.0.0",
      "model_name": "ProgressStyleModel",
      "state": {
       "_model_module": "@jupyter-widgets/controls",
       "_model_module_version": "2.0.0",
       "_model_name": "ProgressStyleModel",
       "_view_count": null,
       "_view_module": "@jupyter-widgets/base",
       "_view_module_version": "2.0.0",
       "_view_name": "StyleView",
       "bar_color": null,
       "description_width": ""
      }
     },
     "372bf47019cf465db9975f80428d42da": {
      "model_module": "@jupyter-widgets/base",
      "model_module_version": "2.0.0",
      "model_name": "LayoutModel",
      "state": {
       "_model_module": "@jupyter-widgets/base",
       "_model_module_version": "2.0.0",
       "_model_name": "LayoutModel",
       "_view_count": null,
       "_view_module": "@jupyter-widgets/base",
       "_view_module_version": "2.0.0",
       "_view_name": "LayoutView",
       "align_content": null,
       "align_items": null,
       "align_self": null,
       "border_bottom": null,
       "border_left": null,
       "border_right": null,
       "border_top": null,
       "bottom": null,
       "display": null,
       "flex": null,
       "flex_flow": null,
       "grid_area": null,
       "grid_auto_columns": null,
       "grid_auto_flow": null,
       "grid_auto_rows": null,
       "grid_column": null,
       "grid_gap": null,
       "grid_row": null,
       "grid_template_areas": null,
       "grid_template_columns": null,
       "grid_template_rows": null,
       "height": null,
       "justify_content": null,
       "justify_items": null,
       "left": null,
       "margin": null,
       "max_height": null,
       "max_width": null,
       "min_height": null,
       "min_width": null,
       "object_fit": null,
       "object_position": null,
       "order": null,
       "overflow": null,
       "padding": null,
       "right": null,
       "top": null,
       "visibility": null,
       "width": null
      }
     },
     "3c3616ec21b7468e9a741cb30cc80bc8": {
      "model_module": "@jupyter-widgets/controls",
      "model_module_version": "2.0.0",
      "model_name": "HTMLStyleModel",
      "state": {
       "_model_module": "@jupyter-widgets/controls",
       "_model_module_version": "2.0.0",
       "_model_name": "HTMLStyleModel",
       "_view_count": null,
       "_view_module": "@jupyter-widgets/base",
       "_view_module_version": "2.0.0",
       "_view_name": "StyleView",
       "background": null,
       "description_width": "",
       "font_size": null,
       "text_color": null
      }
     },
     "531734379cd34aaaad3a45d3dfb327f7": {
      "model_module": "@jupyter-widgets/controls",
      "model_module_version": "2.0.0",
      "model_name": "HTMLModel",
      "state": {
       "_dom_classes": [],
       "_model_module": "@jupyter-widgets/controls",
       "_model_module_version": "2.0.0",
       "_model_name": "HTMLModel",
       "_view_count": null,
       "_view_module": "@jupyter-widgets/controls",
       "_view_module_version": "2.0.0",
       "_view_name": "HTMLView",
       "description": "",
       "description_allow_html": false,
       "layout": "IPY_MODEL_7127a5a0aa514894a19a52d0f904b8a5",
       "placeholder": "​",
       "style": "IPY_MODEL_3c3616ec21b7468e9a741cb30cc80bc8",
       "tabbable": null,
       "tooltip": null,
       "value": " 35/35 [02:40&lt;00:00,  2.83s/it]"
      }
     },
     "617c34802baf44d3888b392347113206": {
      "model_module": "@jupyter-widgets/controls",
      "model_module_version": "2.0.0",
      "model_name": "HTMLModel",
      "state": {
       "_dom_classes": [],
       "_model_module": "@jupyter-widgets/controls",
       "_model_module_version": "2.0.0",
       "_model_name": "HTMLModel",
       "_view_count": null,
       "_view_module": "@jupyter-widgets/controls",
       "_view_module_version": "2.0.0",
       "_view_name": "HTMLView",
       "description": "",
       "description_allow_html": false,
       "layout": "IPY_MODEL_7c779ee47ba249c2b026aeb37be9f569",
       "placeholder": "​",
       "style": "IPY_MODEL_76d053f9f5784b39b5a8ba204d8e2823",
       "tabbable": null,
       "tooltip": null,
       "value": "100%"
      }
     },
     "65b64d23e60c4ca48d6ec3993e886f79": {
      "model_module": "@jupyter-widgets/controls",
      "model_module_version": "2.0.0",
      "model_name": "FloatProgressModel",
      "state": {
       "_dom_classes": [],
       "_model_module": "@jupyter-widgets/controls",
       "_model_module_version": "2.0.0",
       "_model_name": "FloatProgressModel",
       "_view_count": null,
       "_view_module": "@jupyter-widgets/controls",
       "_view_module_version": "2.0.0",
       "_view_name": "ProgressView",
       "bar_style": "success",
       "description": "",
       "description_allow_html": false,
       "layout": "IPY_MODEL_fc16bf10fd514de8a585ea29cf857bd9",
       "max": 35.0,
       "min": 0.0,
       "orientation": "horizontal",
       "style": "IPY_MODEL_066b37a004ab480b96ff7366d5316ab0",
       "tabbable": null,
       "tooltip": null,
       "value": 35.0
      }
     },
     "7127a5a0aa514894a19a52d0f904b8a5": {
      "model_module": "@jupyter-widgets/base",
      "model_module_version": "2.0.0",
      "model_name": "LayoutModel",
      "state": {
       "_model_module": "@jupyter-widgets/base",
       "_model_module_version": "2.0.0",
       "_model_name": "LayoutModel",
       "_view_count": null,
       "_view_module": "@jupyter-widgets/base",
       "_view_module_version": "2.0.0",
       "_view_name": "LayoutView",
       "align_content": null,
       "align_items": null,
       "align_self": null,
       "border_bottom": null,
       "border_left": null,
       "border_right": null,
       "border_top": null,
       "bottom": null,
       "display": null,
       "flex": null,
       "flex_flow": null,
       "grid_area": null,
       "grid_auto_columns": null,
       "grid_auto_flow": null,
       "grid_auto_rows": null,
       "grid_column": null,
       "grid_gap": null,
       "grid_row": null,
       "grid_template_areas": null,
       "grid_template_columns": null,
       "grid_template_rows": null,
       "height": null,
       "justify_content": null,
       "justify_items": null,
       "left": null,
       "margin": null,
       "max_height": null,
       "max_width": null,
       "min_height": null,
       "min_width": null,
       "object_fit": null,
       "object_position": null,
       "order": null,
       "overflow": null,
       "padding": null,
       "right": null,
       "top": null,
       "visibility": null,
       "width": null
      }
     },
     "76d053f9f5784b39b5a8ba204d8e2823": {
      "model_module": "@jupyter-widgets/controls",
      "model_module_version": "2.0.0",
      "model_name": "HTMLStyleModel",
      "state": {
       "_model_module": "@jupyter-widgets/controls",
       "_model_module_version": "2.0.0",
       "_model_name": "HTMLStyleModel",
       "_view_count": null,
       "_view_module": "@jupyter-widgets/base",
       "_view_module_version": "2.0.0",
       "_view_name": "StyleView",
       "background": null,
       "description_width": "",
       "font_size": null,
       "text_color": null
      }
     },
     "7c779ee47ba249c2b026aeb37be9f569": {
      "model_module": "@jupyter-widgets/base",
      "model_module_version": "2.0.0",
      "model_name": "LayoutModel",
      "state": {
       "_model_module": "@jupyter-widgets/base",
       "_model_module_version": "2.0.0",
       "_model_name": "LayoutModel",
       "_view_count": null,
       "_view_module": "@jupyter-widgets/base",
       "_view_module_version": "2.0.0",
       "_view_name": "LayoutView",
       "align_content": null,
       "align_items": null,
       "align_self": null,
       "border_bottom": null,
       "border_left": null,
       "border_right": null,
       "border_top": null,
       "bottom": null,
       "display": null,
       "flex": null,
       "flex_flow": null,
       "grid_area": null,
       "grid_auto_columns": null,
       "grid_auto_flow": null,
       "grid_auto_rows": null,
       "grid_column": null,
       "grid_gap": null,
       "grid_row": null,
       "grid_template_areas": null,
       "grid_template_columns": null,
       "grid_template_rows": null,
       "height": null,
       "justify_content": null,
       "justify_items": null,
       "left": null,
       "margin": null,
       "max_height": null,
       "max_width": null,
       "min_height": null,
       "min_width": null,
       "object_fit": null,
       "object_position": null,
       "order": null,
       "overflow": null,
       "padding": null,
       "right": null,
       "top": null,
       "visibility": null,
       "width": null
      }
     },
     "ac9a47f7bc954b2f9d1601f24b85a2fa": {
      "model_module": "@jupyter-widgets/controls",
      "model_module_version": "2.0.0",
      "model_name": "HBoxModel",
      "state": {
       "_dom_classes": [],
       "_model_module": "@jupyter-widgets/controls",
       "_model_module_version": "2.0.0",
       "_model_name": "HBoxModel",
       "_view_count": null,
       "_view_module": "@jupyter-widgets/controls",
       "_view_module_version": "2.0.0",
       "_view_name": "HBoxView",
       "box_style": "",
       "children": [
        "IPY_MODEL_617c34802baf44d3888b392347113206",
        "IPY_MODEL_65b64d23e60c4ca48d6ec3993e886f79",
        "IPY_MODEL_531734379cd34aaaad3a45d3dfb327f7"
       ],
       "layout": "IPY_MODEL_372bf47019cf465db9975f80428d42da",
       "tabbable": null,
       "tooltip": null
      }
     },
     "fc16bf10fd514de8a585ea29cf857bd9": {
      "model_module": "@jupyter-widgets/base",
      "model_module_version": "2.0.0",
      "model_name": "LayoutModel",
      "state": {
       "_model_module": "@jupyter-widgets/base",
       "_model_module_version": "2.0.0",
       "_model_name": "LayoutModel",
       "_view_count": null,
       "_view_module": "@jupyter-widgets/base",
       "_view_module_version": "2.0.0",
       "_view_name": "LayoutView",
       "align_content": null,
       "align_items": null,
       "align_self": null,
       "border_bottom": null,
       "border_left": null,
       "border_right": null,
       "border_top": null,
       "bottom": null,
       "display": null,
       "flex": null,
       "flex_flow": null,
       "grid_area": null,
       "grid_auto_columns": null,
       "grid_auto_flow": null,
       "grid_auto_rows": null,
       "grid_column": null,
       "grid_gap": null,
       "grid_row": null,
       "grid_template_areas": null,
       "grid_template_columns": null,
       "grid_template_rows": null,
       "height": null,
       "justify_content": null,
       "justify_items": null,
       "left": null,
       "margin": null,
       "max_height": null,
       "max_width": null,
       "min_height": null,
       "min_width": null,
       "object_fit": null,
       "object_position": null,
       "order": null,
       "overflow": null,
       "padding": null,
       "right": null,
       "top": null,
       "visibility": null,
       "width": null
      }
     }
    },
    "version_major": 2,
    "version_minor": 0
   }
  }
 },
 "nbformat": 4,
 "nbformat_minor": 5
}