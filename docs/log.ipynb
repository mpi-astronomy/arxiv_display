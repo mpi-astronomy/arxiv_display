{
 "cells": [
  {
   "cell_type": "markdown",
   "id": "92bcb855",
   "metadata": {
    "papermill": {
     "duration": 0.007415,
     "end_time": "2022-11-25T04:07:40.689151",
     "exception": false,
     "start_time": "2022-11-25T04:07:40.681736",
     "status": "completed"
    },
    "tags": []
   },
   "source": [
    "# MPIA Arxiv on Deck 2\n",
    "\n",
    "Contains the steps to produce the paper extractions."
   ]
  },
  {
   "cell_type": "code",
   "execution_count": 1,
   "id": "3a0d6e11",
   "metadata": {
    "execution": {
     "iopub.execute_input": "2022-11-25T04:07:40.702289Z",
     "iopub.status.busy": "2022-11-25T04:07:40.701116Z",
     "iopub.status.idle": "2022-11-25T04:07:40.923927Z",
     "shell.execute_reply": "2022-11-25T04:07:40.922953Z"
    },
    "papermill": {
     "duration": 0.232346,
     "end_time": "2022-11-25T04:07:40.926950",
     "exception": false,
     "start_time": "2022-11-25T04:07:40.694604",
     "status": "completed"
    },
    "tags": []
   },
   "outputs": [],
   "source": [
    "# Imports\n",
    "import os\n",
    "from IPython.display import Markdown, display\n",
    "from tqdm.notebook import tqdm\n",
    "import warnings\n",
    "from PIL import Image \n",
    "\n",
    "# requires arxiv_on_deck_2\n",
    "\n",
    "from arxiv_on_deck_2.arxiv2 import (get_new_papers, \n",
    "                                    get_paper_from_identifier,\n",
    "                                    retrieve_document_source, \n",
    "                                    get_markdown_badge)\n",
    "from arxiv_on_deck_2 import (latex, \n",
    "                             mpia,\n",
    "                             highlight_authors_in_list)\n",
    "\n",
    "# Sometimes images are really big\n",
    "Image.MAX_IMAGE_PIXELS = 1000000000 "
   ]
  },
  {
   "cell_type": "code",
   "execution_count": 2,
   "id": "22aa9d44",
   "metadata": {
    "execution": {
     "iopub.execute_input": "2022-11-25T04:07:40.941948Z",
     "iopub.status.busy": "2022-11-25T04:07:40.941576Z",
     "iopub.status.idle": "2022-11-25T04:07:40.948674Z",
     "shell.execute_reply": "2022-11-25T04:07:40.947864Z"
    },
    "papermill": {
     "duration": 0.015614,
     "end_time": "2022-11-25T04:07:40.950626",
     "exception": false,
     "start_time": "2022-11-25T04:07:40.935012",
     "status": "completed"
    },
    "tags": []
   },
   "outputs": [],
   "source": [
    "# Some useful definitions.\n",
    "\n",
    "class AffiliationWarning(UserWarning):\n",
    "    pass\n",
    "\n",
    "class AffiliationError(RuntimeError):\n",
    "    pass\n",
    "\n",
    "def validation(source: str):\n",
    "    \"\"\"Raises error paper during parsing of source file\n",
    "    \n",
    "    Allows checks before parsing TeX code.\n",
    "    \n",
    "    Raises AffiliationWarning\n",
    "    \"\"\"\n",
    "    check = mpia.affiliation_verifications(source, verbose=True)\n",
    "    if check is not True:\n",
    "        raise AffiliationError(\"mpia.affiliation_verifications: \" + check)\n",
    "\n",
    "        \n",
    "warnings.simplefilter('always', AffiliationWarning)"
   ]
  },
  {
   "cell_type": "code",
   "execution_count": 3,
   "id": "14622700",
   "metadata": {
    "execution": {
     "iopub.execute_input": "2022-11-25T04:07:40.962754Z",
     "iopub.status.busy": "2022-11-25T04:07:40.962199Z",
     "iopub.status.idle": "2022-11-25T04:07:40.966735Z",
     "shell.execute_reply": "2022-11-25T04:07:40.965898Z"
    },
    "papermill": {
     "duration": 0.013104,
     "end_time": "2022-11-25T04:07:40.968692",
     "exception": false,
     "start_time": "2022-11-25T04:07:40.955588",
     "status": "completed"
    },
    "tags": []
   },
   "outputs": [],
   "source": [
    "# additional CSS to consider. \n",
    "# TODO: Current into each exported file. \n",
    "#       This should be set once into the webpages directly.\n",
    "#       With only the class/id definitions in the .md files.\n",
    "\n",
    "debug_html = \"\"\"\n",
    "<style>\n",
    "#wrap{ overflow:auto; }\n",
    "#fig1{ background:yellow; width:100%; float:left; padding:5px;  }\n",
    "#fig2{ background:red; width:50%; float:left; clear:left; padding:5px;  }\n",
    "#fig3{ background:green; width:50%; float:left; padding:5px;   }\n",
    ".macros{ background:yellow; visibility:visible;}\n",
    "h1 {margin: 0 0 0 0;}\n",
    "mark {background-color:#fff3b6;}\n",
    "img {object-fit:contain; max-height:250px; display:inline-block; text-align: center;}\n",
    "</style>\n",
    "\"\"\" \n",
    "html = \"\"\"\n",
    "<style>\n",
    "#wrap{ overflow:auto; }\n",
    "#fig1{ width:100%; float:left; padding: 5px;  }\n",
    "#fig2{ width:50%; float:left; clear:left; padding: 5px;  }\n",
    "#fig3{ width:50%; float:left; padding: 5px;  }\n",
    ".macros{ visibility:hidden; height:0px; }\n",
    "h1 {margin: 0em 0 0 0;}\n",
    "mark {background-color:#fff3b6;}\n",
    "img {object-fit:contain; max-height:250px; display:inline-block; text-align: center;}\n",
    "</style>\n",
    "\"\"\""
   ]
  },
  {
   "cell_type": "markdown",
   "id": "14bd6310",
   "metadata": {
    "papermill": {
     "duration": 0.005215,
     "end_time": "2022-11-25T04:07:40.978589",
     "exception": false,
     "start_time": "2022-11-25T04:07:40.973374",
     "status": "completed"
    },
    "tags": []
   },
   "source": [
    "## get list of arxiv paper candidates\n",
    "\n",
    "We use the MPIA mitarbeiter list webpage from mpia.de to get author names\n",
    "We then get all new papers from Arxiv and match authors"
   ]
  },
  {
   "cell_type": "code",
   "execution_count": 4,
   "id": "2645e73a",
   "metadata": {
    "execution": {
     "iopub.execute_input": "2022-11-25T04:07:40.990545Z",
     "iopub.status.busy": "2022-11-25T04:07:40.990233Z",
     "iopub.status.idle": "2022-11-25T04:08:08.140742Z",
     "shell.execute_reply": "2022-11-25T04:08:08.139219Z"
    },
    "papermill": {
     "duration": 27.158642,
     "end_time": "2022-11-25T04:08:08.142539",
     "exception": false,
     "start_time": "2022-11-25T04:07:40.983897",
     "status": "completed"
    },
    "tags": []
   },
   "outputs": [
    {
     "name": "stdout",
     "output_type": "stream",
     "text": [
      "Arxiv has 58 new papers today\n",
      "          25 with possible author matches\n"
     ]
    }
   ],
   "source": [
    "# get list from MPIA website\n",
    "# it automatically filters identified non-scientists :func:`mpia.filter_non_scientists`\n",
    "mpia_authors = mpia.get_mpia_mitarbeiter_list()\n",
    "new_papers = get_new_papers()\n",
    "# add manual references\n",
    "add_paper_refs = []\n",
    "new_papers.extend([get_paper_from_identifier(k) for k in add_paper_refs])\n",
    "\n",
    "# select only papers with matching author names and highlight authors\n",
    "hl_list = [k[0] for k in mpia_authors]\n",
    "\n",
    "candidates = []\n",
    "for paperk in new_papers:\n",
    "    hl_authors = highlight_authors_in_list(paperk['authors'], hl_list)\n",
    "    matches = [(hl, orig) for hl, orig in zip(hl_authors, paperk['authors']) if 'mark' in hl]\n",
    "    paperk['authors'] = hl_authors\n",
    "    if matches:\n",
    "        candidates.append(paperk)\n",
    "print(\"\"\"Arxiv has {0:,d} new papers today\"\"\".format(len(new_papers)))        \n",
    "print(\"\"\"          {0:,d} with possible author matches\"\"\".format(len(candidates)))"
   ]
  },
  {
   "cell_type": "markdown",
   "id": "3543b34a",
   "metadata": {
    "papermill": {
     "duration": 0.004643,
     "end_time": "2022-11-25T04:08:08.152590",
     "exception": false,
     "start_time": "2022-11-25T04:08:08.147947",
     "status": "completed"
    },
    "tags": []
   },
   "source": [
    "# Parse sources and generate relevant outputs\n",
    "\n",
    "From the candidates, we do the following steps:\n",
    "* get their tarball from ArXiv (and extract data)\n",
    "* find the main .tex file: find one with \\documentclass{...} (sometimes it's non trivial)\n",
    "* Check affiliations with :func:`validation`, which uses :func:`mpia.affiliation_verifications`\n",
    "* If passing the affiliations: we parse the .tex source\n",
    "   * inject sub-documents into the main (flatten the main document)\n",
    "   * parse structure, extract information (title, abstract, authors, figures...)\n",
    "   * handles `\\graphicspath` if provided\n",
    "* Generate the .md document."
   ]
  },
  {
   "cell_type": "code",
   "execution_count": 5,
   "id": "9576b79e",
   "metadata": {
    "execution": {
     "iopub.execute_input": "2022-11-25T04:08:08.164403Z",
     "iopub.status.busy": "2022-11-25T04:08:08.163475Z",
     "iopub.status.idle": "2022-11-25T04:11:38.599670Z",
     "shell.execute_reply": "2022-11-25T04:11:38.598700Z"
    },
    "papermill": {
     "duration": 210.445323,
     "end_time": "2022-11-25T04:11:38.602679",
     "exception": false,
     "start_time": "2022-11-25T04:08:08.157356",
     "status": "completed"
    },
    "scrolled": false,
    "tags": []
   },
   "outputs": [
    {
     "data": {
      "application/vnd.jupyter.widget-view+json": {
       "model_id": "8ee7f1014aec430d98b31c7c88a3ccd6",
       "version_major": 2,
       "version_minor": 0
      },
      "text/plain": [
       "  0%|          | 0/24 [00:00<?, ?it/s]"
      ]
     },
     "metadata": {},
     "output_type": "display_data"
    },
    {
     "name": "stdout",
     "output_type": "stream",
     "text": [
      "Retrieving document from  https://arxiv.org/e-print/2211.12534\n"
     ]
    },
    {
     "name": "stdout",
     "output_type": "stream",
     "text": [
      "extracting tarball to tmp_2211.12534..."
     ]
    },
    {
     "name": "stdout",
     "output_type": "stream",
     "text": [
      " done.\n",
      "Retrieving document from  https://arxiv.org/e-print/2211.12547\n"
     ]
    },
    {
     "name": "stdout",
     "output_type": "stream",
     "text": [
      "extracting tarball to tmp_2211.12547..."
     ]
    },
    {
     "name": "stdout",
     "output_type": "stream",
     "text": [
      " done.\n",
      "Retrieving document from  https://arxiv.org/e-print/2211.12557\n"
     ]
    },
    {
     "name": "stderr",
     "output_type": "stream",
     "text": [
      "/tmp/ipykernel_2224/4030337529.py:34: LatexWarning: 2211.12557 did not run properly\n",
      "not a gzip file\n",
      "  warnings.warn(latex.LatexWarning(f\"{paper_id:s} did not run properly\\n\" +\n"
     ]
    },
    {
     "name": "stdout",
     "output_type": "stream",
     "text": [
      "Retrieving document from  https://arxiv.org/e-print/2211.12576\n"
     ]
    },
    {
     "name": "stdout",
     "output_type": "stream",
     "text": [
      "extracting tarball to tmp_2211.12576..."
     ]
    },
    {
     "name": "stdout",
     "output_type": "stream",
     "text": [
      " done.\n",
      "Retrieving document from  https://arxiv.org/e-print/2211.12599\n"
     ]
    },
    {
     "name": "stderr",
     "output_type": "stream",
     "text": [
      "/opt/hostedtoolcache/Python/3.9.15/x64/lib/python3.9/site-packages/IPython/core/interactiveshell.py:3433: LatexWarning: Multiple tex files.\n",
      "\n",
      "  exec(code_obj, self.user_global_ns, self.user_ns)\n",
      "/opt/hostedtoolcache/Python/3.9.15/x64/lib/python3.9/site-packages/IPython/core/interactiveshell.py:3433: LatexWarning: Found documentclass in tmp_2211.12576/main.tex\n",
      "\n",
      "  exec(code_obj, self.user_global_ns, self.user_ns)\n"
     ]
    },
    {
     "name": "stdout",
     "output_type": "stream",
     "text": [
      "extracting tarball to tmp_2211.12599..."
     ]
    },
    {
     "name": "stdout",
     "output_type": "stream",
     "text": [
      " done.\n",
      "Retrieving document from  https://arxiv.org/e-print/2211.12613\n"
     ]
    },
    {
     "name": "stderr",
     "output_type": "stream",
     "text": [
      "/opt/hostedtoolcache/Python/3.9.15/x64/lib/python3.9/site-packages/IPython/core/interactiveshell.py:3433: LatexWarning: Multiple tex files.\n",
      "\n",
      "  exec(code_obj, self.user_global_ns, self.user_ns)\n",
      "/opt/hostedtoolcache/Python/3.9.15/x64/lib/python3.9/site-packages/IPython/core/interactiveshell.py:3433: LatexWarning: Found documentclass in tmp_2211.12599/main.tex\n",
      "\n",
      "  exec(code_obj, self.user_global_ns, self.user_ns)\n",
      "/opt/hostedtoolcache/Python/3.9.15/x64/lib/python3.9/site-packages/arxiv_on_deck_2/latex.py:292: LatexWarning: Latex injecting: 'acknowledgement.tex' from 'tmp_2211.12599/acknowledgement.tex'\n",
      "  warnings.warn(LatexWarning(f\"Latex injecting: '{ext}' from '{subsource}'\"))\n",
      "/opt/hostedtoolcache/Python/3.9.15/x64/lib/python3.9/site-packages/arxiv_on_deck_2/latex.py:292: LatexWarning: Latex injecting: 'conclusion.tex' from 'tmp_2211.12599/conclusion.tex'\n",
      "  warnings.warn(LatexWarning(f\"Latex injecting: '{ext}' from '{subsource}'\"))\n",
      "/opt/hostedtoolcache/Python/3.9.15/x64/lib/python3.9/site-packages/arxiv_on_deck_2/latex.py:292: LatexWarning: Latex injecting: 'disc_jet_fillingfactor' from 'tmp_2211.12599/disc_jet_fillingfactor.tex'\n",
      "  warnings.warn(LatexWarning(f\"Latex injecting: '{ext}' from '{subsource}'\"))\n",
      "/opt/hostedtoolcache/Python/3.9.15/x64/lib/python3.9/site-packages/arxiv_on_deck_2/latex.py:292: LatexWarning: Latex injecting: 'disc_protostar_cloud_impact' from 'tmp_2211.12599/disc_protostar_cloud_impact.tex'\n",
      "  warnings.warn(LatexWarning(f\"Latex injecting: '{ext}' from '{subsource}'\"))\n",
      "/opt/hostedtoolcache/Python/3.9.15/x64/lib/python3.9/site-packages/arxiv_on_deck_2/latex.py:292: LatexWarning: Latex injecting: 'disc_depth_cloud_av' from 'tmp_2211.12599/disc_depth_cloud_av.tex'\n",
      "  warnings.warn(LatexWarning(f\"Latex injecting: '{ext}' from '{subsource}'\"))\n",
      "/opt/hostedtoolcache/Python/3.9.15/x64/lib/python3.9/site-packages/arxiv_on_deck_2/latex.py:292: LatexWarning: Latex injecting: 'disc_outflowaxis_precession' from 'tmp_2211.12599/disc_outflowaxis_precession.tex'\n",
      "  warnings.warn(LatexWarning(f\"Latex injecting: '{ext}' from '{subsource}'\"))\n",
      "/opt/hostedtoolcache/Python/3.9.15/x64/lib/python3.9/site-packages/arxiv_on_deck_2/latex.py:292: LatexWarning: Latex injecting: 'disc_outflow_speeds' from 'tmp_2211.12599/disc_outflow_speeds.tex'\n",
      "  warnings.warn(LatexWarning(f\"Latex injecting: '{ext}' from '{subsource}'\"))\n",
      "/opt/hostedtoolcache/Python/3.9.15/x64/lib/python3.9/site-packages/arxiv_on_deck_2/latex.py:292: LatexWarning: Latex injecting: 'lineratio_jet_model.tex' from 'tmp_2211.12599/lineratio_jet_model.tex'\n",
      "  warnings.warn(LatexWarning(f\"Latex injecting: '{ext}' from '{subsource}'\"))\n",
      "/opt/hostedtoolcache/Python/3.9.15/x64/lib/python3.9/site-packages/arxiv_on_deck_2/latex.py:292: LatexWarning: Latex injecting: 'lineratio_extinc.tex' from 'tmp_2211.12599/lineratio_extinc.tex'\n",
      "  warnings.warn(LatexWarning(f\"Latex injecting: '{ext}' from '{subsource}'\"))\n",
      "/opt/hostedtoolcache/Python/3.9.15/x64/lib/python3.9/site-packages/arxiv_on_deck_2/latex.py:292: LatexWarning: Latex injecting: 'knots_tan_vels.tex' from 'tmp_2211.12599/knots_tan_vels.tex'\n",
      "  warnings.warn(LatexWarning(f\"Latex injecting: '{ext}' from '{subsource}'\"))\n",
      "/opt/hostedtoolcache/Python/3.9.15/x64/lib/python3.9/site-packages/arxiv_on_deck_2/latex.py:292: LatexWarning: Latex injecting: 'knots_proper_motions.tex' from 'tmp_2211.12599/knots_proper_motions.tex'\n",
      "  warnings.warn(LatexWarning(f\"Latex injecting: '{ext}' from '{subsource}'\"))\n",
      "/opt/hostedtoolcache/Python/3.9.15/x64/lib/python3.9/site-packages/arxiv_on_deck_2/latex.py:292: LatexWarning: Latex injecting: 'Obs_GREAT' from 'tmp_2211.12599/Obs_GREAT.tex'\n",
      "  warnings.warn(LatexWarning(f\"Latex injecting: '{ext}' from '{subsource}'\"))\n",
      "/opt/hostedtoolcache/Python/3.9.15/x64/lib/python3.9/site-packages/arxiv_on_deck_2/latex.py:292: LatexWarning: Latex injecting: 'Obs_HST' from 'tmp_2211.12599/Obs_HST.tex'\n",
      "  warnings.warn(LatexWarning(f\"Latex injecting: '{ext}' from '{subsource}'\"))\n",
      "/opt/hostedtoolcache/Python/3.9.15/x64/lib/python3.9/site-packages/arxiv_on_deck_2/latex.py:292: LatexWarning: Latex injecting: 'introduction.tex' from 'tmp_2211.12599/introduction.tex'\n",
      "  warnings.warn(LatexWarning(f\"Latex injecting: '{ext}' from '{subsource}'\"))\n",
      "/opt/hostedtoolcache/Python/3.9.15/x64/lib/python3.9/site-packages/arxiv_on_deck_2/latex.py:292: LatexWarning: Latex injecting: 'abstract_keywords' from 'tmp_2211.12599/abstract_keywords.tex'\n",
      "  warnings.warn(LatexWarning(f\"Latex injecting: '{ext}' from '{subsource}'\"))\n",
      "/opt/hostedtoolcache/Python/3.9.15/x64/lib/python3.9/site-packages/arxiv_on_deck_2/latex.py:292: LatexWarning: Latex injecting: 'title_authors.tex' from 'tmp_2211.12599/title_authors.tex'\n",
      "  warnings.warn(LatexWarning(f\"Latex injecting: '{ext}' from '{subsource}'\"))\n"
     ]
    },
    {
     "name": "stdout",
     "output_type": "stream",
     "text": [
      "extracting tarball to tmp_2211.12613..."
     ]
    },
    {
     "name": "stdout",
     "output_type": "stream",
     "text": [
      " done.\n"
     ]
    },
    {
     "name": "stdout",
     "output_type": "stream",
     "text": [
      "Retrieving document from  https://arxiv.org/e-print/2211.12622\n"
     ]
    },
    {
     "name": "stdout",
     "output_type": "stream",
     "text": [
      "extracting tarball to tmp_2211.12622..."
     ]
    },
    {
     "name": "stdout",
     "output_type": "stream",
     "text": [
      " done.\n",
      "Retrieving document from  https://arxiv.org/e-print/2211.12666\n"
     ]
    },
    {
     "name": "stderr",
     "output_type": "stream",
     "text": [
      "/opt/hostedtoolcache/Python/3.9.15/x64/lib/python3.9/site-packages/IPython/core/interactiveshell.py:3433: LatexWarning: Multiple tex files.\n",
      "\n",
      "  exec(code_obj, self.user_global_ns, self.user_ns)\n",
      "/opt/hostedtoolcache/Python/3.9.15/x64/lib/python3.9/site-packages/IPython/core/interactiveshell.py:3433: LatexWarning: Found documentclass in tmp_2211.12622/ALMA_Tsys_final.tex\n",
      "\n",
      "  exec(code_obj, self.user_global_ns, self.user_ns)\n"
     ]
    },
    {
     "name": "stdout",
     "output_type": "stream",
     "text": [
      "extracting tarball to tmp_2211.12666..."
     ]
    },
    {
     "name": "stdout",
     "output_type": "stream",
     "text": [
      " done.\n",
      "Retrieving document from  https://arxiv.org/e-print/2211.12675\n"
     ]
    },
    {
     "name": "stdout",
     "output_type": "stream",
     "text": [
      "extracting tarball to tmp_2211.12675..."
     ]
    },
    {
     "name": "stdout",
     "output_type": "stream",
     "text": [
      " done.\n",
      "Retrieving document from  https://arxiv.org/e-print/2211.12684\n"
     ]
    },
    {
     "name": "stdout",
     "output_type": "stream",
     "text": [
      "extracting tarball to tmp_2211.12684..."
     ]
    },
    {
     "name": "stdout",
     "output_type": "stream",
     "text": [
      " done.\n",
      "Retrieving document from  https://arxiv.org/e-print/2211.12726\n"
     ]
    },
    {
     "name": "stderr",
     "output_type": "stream",
     "text": [
      "/tmp/ipykernel_2224/4030337529.py:34: LatexWarning: 2211.12684 did not run properly\n",
      "'utf-8' codec can't decode byte 0xb9 in position 9392: invalid start byte\n",
      "  warnings.warn(latex.LatexWarning(f\"{paper_id:s} did not run properly\\n\" +\n"
     ]
    },
    {
     "name": "stdout",
     "output_type": "stream",
     "text": [
      "extracting tarball to tmp_2211.12726..."
     ]
    },
    {
     "name": "stdout",
     "output_type": "stream",
     "text": [
      " done.\n",
      "Retrieving document from  https://arxiv.org/e-print/2211.12756\n"
     ]
    },
    {
     "name": "stderr",
     "output_type": "stream",
     "text": [
      "/opt/hostedtoolcache/Python/3.9.15/x64/lib/python3.9/site-packages/IPython/core/interactiveshell.py:3433: LatexWarning: Multiple tex files.\n",
      "\n",
      "  exec(code_obj, self.user_global_ns, self.user_ns)\n",
      "/opt/hostedtoolcache/Python/3.9.15/x64/lib/python3.9/site-packages/IPython/core/interactiveshell.py:3433: LatexWarning: Found documentclass in tmp_2211.12726/main.tex\n",
      "\n",
      "  exec(code_obj, self.user_global_ns, self.user_ns)\n"
     ]
    },
    {
     "name": "stdout",
     "output_type": "stream",
     "text": [
      "extracting tarball to tmp_2211.12756..."
     ]
    },
    {
     "name": "stdout",
     "output_type": "stream",
     "text": [
      " done.\n",
      "Retrieving document from  https://arxiv.org/e-print/2211.12825\n"
     ]
    },
    {
     "name": "stdout",
     "output_type": "stream",
     "text": [
      "extracting tarball to tmp_2211.12825..."
     ]
    },
    {
     "name": "stdout",
     "output_type": "stream",
     "text": [
      " done.\n",
      "Retrieving document from  https://arxiv.org/e-print/2211.12843\n"
     ]
    },
    {
     "name": "stderr",
     "output_type": "stream",
     "text": [
      "/tmp/ipykernel_2224/4030337529.py:34: LatexWarning: 2211.12843 did not run properly\n",
      "not a gzip file\n",
      "  warnings.warn(latex.LatexWarning(f\"{paper_id:s} did not run properly\\n\" +\n"
     ]
    },
    {
     "name": "stdout",
     "output_type": "stream",
     "text": [
      "Retrieving document from  https://arxiv.org/e-print/2211.12967\n"
     ]
    },
    {
     "name": "stdout",
     "output_type": "stream",
     "text": [
      "extracting tarball to tmp_2211.12967..."
     ]
    },
    {
     "name": "stdout",
     "output_type": "stream",
     "text": [
      " done.\n",
      "Retrieving document from  https://arxiv.org/e-print/2211.12975\n"
     ]
    },
    {
     "name": "stdout",
     "output_type": "stream",
     "text": [
      "extracting tarball to tmp_2211.12975..."
     ]
    },
    {
     "name": "stdout",
     "output_type": "stream",
     "text": [
      " done.\n",
      "Retrieving document from  https://arxiv.org/e-print/2211.12994\n"
     ]
    },
    {
     "name": "stdout",
     "output_type": "stream",
     "text": [
      "extracting tarball to tmp_2211.12994..."
     ]
    },
    {
     "name": "stdout",
     "output_type": "stream",
     "text": [
      " done.\n",
      "Retrieving document from  https://arxiv.org/e-print/2211.13031\n"
     ]
    },
    {
     "name": "stdout",
     "output_type": "stream",
     "text": [
      "extracting tarball to tmp_2211.13031..."
     ]
    },
    {
     "name": "stdout",
     "output_type": "stream",
     "text": [
      " done.\n",
      "Retrieving document from  https://arxiv.org/e-print/2211.13064\n"
     ]
    },
    {
     "name": "stderr",
     "output_type": "stream",
     "text": [
      "/opt/hostedtoolcache/Python/3.9.15/x64/lib/python3.9/site-packages/IPython/core/interactiveshell.py:3433: LatexWarning: Multiple tex files.\n",
      "\n",
      "  exec(code_obj, self.user_global_ns, self.user_ns)\n",
      "/opt/hostedtoolcache/Python/3.9.15/x64/lib/python3.9/site-packages/IPython/core/interactiveshell.py:3433: LatexWarning: Found documentclass in tmp_2211.13031/2Jy_SED_paper_final.tex\n",
      "\n",
      "  exec(code_obj, self.user_global_ns, self.user_ns)\n"
     ]
    },
    {
     "name": "stdout",
     "output_type": "stream",
     "text": [
      "extracting tarball to tmp_2211.13064..."
     ]
    },
    {
     "name": "stdout",
     "output_type": "stream",
     "text": [
      " done.\n",
      "Retrieving document from  https://arxiv.org/e-print/2211.13146\n"
     ]
    },
    {
     "name": "stdout",
     "output_type": "stream",
     "text": [
      "extracting tarball to tmp_2211.13146..."
     ]
    },
    {
     "name": "stdout",
     "output_type": "stream",
     "text": [
      " done.\n"
     ]
    },
    {
     "name": "stdout",
     "output_type": "stream",
     "text": [
      "Retrieving document from  https://arxiv.org/e-print/2211.13153\n"
     ]
    },
    {
     "name": "stdout",
     "output_type": "stream",
     "text": [
      "extracting tarball to tmp_2211.13153..."
     ]
    },
    {
     "name": "stdout",
     "output_type": "stream",
     "text": [
      " done.\n",
      "Retrieving document from  https://arxiv.org/e-print/2211.13166\n"
     ]
    },
    {
     "name": "stderr",
     "output_type": "stream",
     "text": [
      "/opt/hostedtoolcache/Python/3.9.15/x64/lib/python3.9/site-packages/IPython/core/interactiveshell.py:3433: LatexWarning: Multiple tex files.\n",
      "\n",
      "  exec(code_obj, self.user_global_ns, self.user_ns)\n",
      "/opt/hostedtoolcache/Python/3.9.15/x64/lib/python3.9/site-packages/IPython/core/interactiveshell.py:3433: LatexWarning: Found documentclass in tmp_2211.13153/final_main.tex\n",
      "\n",
      "  exec(code_obj, self.user_global_ns, self.user_ns)\n",
      "/opt/hostedtoolcache/Python/3.9.15/x64/lib/python3.9/site-packages/arxiv_on_deck_2/latex.py:292: LatexWarning: Latex injecting: 'final_main.bbl' from 'tmp_2211.13153/final_main.tex'\n",
      "  warnings.warn(LatexWarning(f\"Latex injecting: '{ext}' from '{subsource}'\"))\n",
      "/opt/hostedtoolcache/Python/3.9.15/x64/lib/python3.9/site-packages/arxiv_on_deck_2/latex.py:292: LatexWarning: Latex injecting: 'final_main.bbl' from 'tmp_2211.13153/Testing gravitational models of galaxies arXiv/final_main.tex'\n",
      "  warnings.warn(LatexWarning(f\"Latex injecting: '{ext}' from '{subsource}'\"))\n"
     ]
    },
    {
     "name": "stdout",
     "output_type": "stream",
     "text": [
      "extracting tarball to tmp_2211.13166..."
     ]
    },
    {
     "name": "stdout",
     "output_type": "stream",
     "text": [
      " done.\n",
      "Retrieving document from  https://arxiv.org/e-print/2211.13167\n"
     ]
    },
    {
     "name": "stderr",
     "output_type": "stream",
     "text": [
      "/opt/hostedtoolcache/Python/3.9.15/x64/lib/python3.9/site-packages/IPython/core/interactiveshell.py:3433: LatexWarning: Multiple tex files.\n",
      "\n",
      "  exec(code_obj, self.user_global_ns, self.user_ns)\n",
      "/opt/hostedtoolcache/Python/3.9.15/x64/lib/python3.9/site-packages/IPython/core/interactiveshell.py:3433: LatexWarning: Found documentclass in tmp_2211.13166/mnras_template.tex\n",
      "\n",
      "  exec(code_obj, self.user_global_ns, self.user_ns)\n"
     ]
    },
    {
     "name": "stdout",
     "output_type": "stream",
     "text": [
      "extracting tarball to tmp_2211.13167..."
     ]
    },
    {
     "name": "stdout",
     "output_type": "stream",
     "text": [
      " done.\n",
      "Retrieving document from  https://arxiv.org/e-print/2211.13193\n"
     ]
    },
    {
     "name": "stderr",
     "output_type": "stream",
     "text": [
      "/opt/hostedtoolcache/Python/3.9.15/x64/lib/python3.9/site-packages/IPython/core/interactiveshell.py:3433: LatexWarning: Multiple tex files.\n",
      "\n",
      "  exec(code_obj, self.user_global_ns, self.user_ns)\n",
      "/opt/hostedtoolcache/Python/3.9.15/x64/lib/python3.9/site-packages/IPython/core/interactiveshell.py:3433: LatexWarning: Found documentclass in tmp_2211.13167/main.tex\n",
      "\n",
      "  exec(code_obj, self.user_global_ns, self.user_ns)\n",
      "/opt/hostedtoolcache/Python/3.9.15/x64/lib/python3.9/site-packages/arxiv_on_deck_2/latex.py:292: LatexWarning: Latex injecting: 'journal_abbrev' from 'tmp_2211.13167/journal_abbrev.tex'\n",
      "  warnings.warn(LatexWarning(f\"Latex injecting: '{ext}' from '{subsource}'\"))\n"
     ]
    },
    {
     "name": "stdout",
     "output_type": "stream",
     "text": [
      "extracting tarball to tmp_2211.13193..."
     ]
    },
    {
     "name": "stdout",
     "output_type": "stream",
     "text": [
      " done.\n"
     ]
    }
   ],
   "source": [
    "documents = []\n",
    "failed = []\n",
    "for paper in tqdm(candidates[:-1]):\n",
    "    paper_id = paper['identifier'].lower().replace('arxiv:', '')\n",
    "    \n",
    "    folder = f'tmp_{paper_id}'\n",
    "\n",
    "    try:\n",
    "        if not os.path.isdir(folder):\n",
    "            folder = retrieve_document_source(f\"{paper_id}\", f'tmp_{paper_id}')\n",
    "        \n",
    "        try:\n",
    "            doc = latex.LatexDocument(folder, validation=validation)    \n",
    "        except AffiliationError as affilerror:\n",
    "            msg = f\"ArXiv:{paper_id:s} is not an MPIA paper... \" + str(affilerror)\n",
    "            failed.append((paper, \"affiliation error: \" + str(affilerror) ))\n",
    "            continue\n",
    "        \n",
    "        # Hack because sometimes author parsing does not work well\n",
    "        if (len(doc.authors) != len(paper['authors'])):\n",
    "            doc._authors = paper['authors']\n",
    "        if (doc.abstract) in (None, ''):\n",
    "            doc._abstract = paper['abstract']\n",
    "            \n",
    "        doc.comment = (get_markdown_badge(paper_id) + \n",
    "                       \"<mark>Appeared on: \" + paper['date'] + \"</mark> - \" +\n",
    "                       \"_\" + paper['comments'] + \"_\")\n",
    "        doc.highlight_authors_in_list(hl_list)\n",
    "\n",
    "        full_md = doc.generate_markdown_text()\n",
    "        \n",
    "        documents.append((paper_id, full_md))\n",
    "    except Exception as e:\n",
    "        warnings.warn(latex.LatexWarning(f\"{paper_id:s} did not run properly\\n\" +\n",
    "                                         str(e)\n",
    "                                        ))\n",
    "        failed.append((paper, \"latex error \" + str(e)))"
   ]
  },
  {
   "cell_type": "markdown",
   "id": "2505a25c",
   "metadata": {
    "papermill": {
     "duration": 0.009294,
     "end_time": "2022-11-25T04:11:38.620256",
     "exception": false,
     "start_time": "2022-11-25T04:11:38.610962",
     "status": "completed"
    },
    "tags": []
   },
   "source": [
    "### Export the logs\n",
    "\n",
    "Throughout, we also keep track of the logs per paper. see `logs-{today date}.md` "
   ]
  },
  {
   "cell_type": "code",
   "execution_count": 6,
   "id": "d733828a",
   "metadata": {
    "execution": {
     "iopub.execute_input": "2022-11-25T04:11:38.641144Z",
     "iopub.status.busy": "2022-11-25T04:11:38.640738Z",
     "iopub.status.idle": "2022-11-25T04:11:38.694544Z",
     "shell.execute_reply": "2022-11-25T04:11:38.693653Z"
    },
    "papermill": {
     "duration": 0.066666,
     "end_time": "2022-11-25T04:11:38.696787",
     "exception": false,
     "start_time": "2022-11-25T04:11:38.630121",
     "status": "completed"
    },
    "scrolled": false,
    "tags": []
   },
   "outputs": [
    {
     "data": {
      "text/markdown": [
       "## Successful papers"
      ],
      "text/plain": [
       "<IPython.core.display.Markdown object>"
      ]
     },
     "metadata": {},
     "output_type": "display_data"
    },
    {
     "data": {
      "text/markdown": [
       "\n",
       "|||\n",
       "|---:|:---|\n",
       "| [![arXiv](https://img.shields.io/badge/arXiv-arXiv:2211.12613-b31b1b.svg)](https://arxiv.org/abs/arXiv:2211.12613) | **(Nearly) Model-Independent Constraints on the Neutral Hydrogen Fraction  in the Intergalactic Medium at $z\\sim 5-7$ Using Dark Pixel Fractions in  Ly$α$ and Ly$β$ Forests**  |\n",
       "|| Xiangyu Jin, et al. -- incl., <mark>Frederick B. Davies</mark>, <mark>Joseph F. Hennawi</mark>, <mark>Fabian Walter</mark> |\n",
       "|*Appeared on*| *2022-11-24*|\n",
       "|*Comments*| *13 pages, 6 figures, 2 tables, accepted for publication in ApJ*|\n",
       "|**Abstract**| Cosmic reionization was the last major phase transition of hydrogen from neutral to highly ionized in the intergalactic medium (IGM). Current observations show that the IGM is significantly neutral at $z>7$, and largely ionized by $z\\sim5.5$. However, most methods to measure the IGM neutral fraction are highly model-dependent, and are limited to when the volume-averaged neutral fraction of the IGM is either relatively low ($\\bar{x}_{\\rm HI} \\lesssim 10^{-3}$) or close to unity ($\\bar{x}_{\\rm HI}\\sim 1$). In particular, the neutral fraction evolution of the IGM at the critical redshift range of $z=6-7$ is poorly constrained. We present new constraints on $\\bar{x}_{\\rm HI}$ at $z\\sim5.1-6.8$, by analyzing deep optical spectra of $53$ quasars at $5.73<z<7.09$. We derive model-independent upper limits on the neutral hydrogen fraction based on the fraction of \"dark\" pixels identified in the Lyman $\\alpha$ (Ly$\\alpha$) and Lyman $\\beta$ (Ly$\\beta$) forests, without any assumptions on the IGM model or the intrinsic shape of the quasar continuum. They are the first model-independent constraints on the IGM neutral hydrogen fraction at $z\\sim6.2-6.8$ using quasar absorption measurements. Our results give upper limits of $\\bar{x}_{\\rm HI}(z=6.3) < 0.79\\pm0.04$ (1$\\sigma$), $\\bar{x}_{\\rm HI} (z=6.5) < 0.87\\pm0.03$ (1$\\sigma$), and $\\bar{x}_{\\rm HI} (z=6.7) < 0.94^{+0.06}_{-0.09}$ (1$\\sigma$). The dark pixel fractions at $z>6.1$ are consistent with the redshift evolution of the neutral fraction of the IGM derived from the Planck 2018. |"
      ],
      "text/plain": [
       "[arXiv:2211.12613] (Nearly) Model-Independent Constraints on the Neutral Hydrogen Fraction  in the Intergalactic Medium at $z\\sim 5-7$ Using Dark Pixel Fractions in  Ly$α$ and Ly$β$ Forests\n",
       "\tXiangyu Jin, et al. -- incl., <mark>Frederick B. Davies</mark>, <mark>Joseph F. Hennawi</mark>, <mark>Fabian Walter</mark>"
      ]
     },
     "metadata": {},
     "output_type": "display_data"
    },
    {
     "data": {
      "text/markdown": [
       "\n",
       "|||\n",
       "|---:|:---|\n",
       "| [![arXiv](https://img.shields.io/badge/arXiv-arXiv:2211.13146-b31b1b.svg)](https://arxiv.org/abs/arXiv:2211.13146) | **iMaNGA: mock MaNGA galaxies based on IllustrisTNG-50 and MaStar SSPs.  II. the catalogue**  |\n",
       "|| Lorenza Nanni, et al. -- incl., <mark>Justus Neumann</mark>, <mark>Lewis Hill</mark>, <mark>Annalisa Pillepich</mark> |\n",
       "|*Appeared on*| *2022-11-24*|\n",
       "|*Comments*| *arXiv admin note: text overlap with arXiv:2203.11575*|\n",
       "|**Abstract**| To probe the current theory on galaxy formation and evolution, an increased synergy between observations and simulations is necessary. For this reason, in our previous paper of this series, we presented a method to mock SDSS-IV/MaNGA integral-field spectroscopic galaxy observations from cosmological simulations of galaxy formation. Here we present the resulting mock galaxy catalogue. This catalogue consists of 1,000 unique galaxies in IllustrisTNG-50 falling into the SDSS-IV/MaNGA-primary target footprint, defined in the redshift and i-band absolute magnitude space. In this paper, we describe the general characteristics of the catalogue, in terms of morphology, kinematics, and stellar population properties. We also investigate our ability to recover the galaxy characteristics, as given by the simulations, analysing the synthetic spectra. We show that the `intrinsic' and recovered kinematics, age and metallicity are consistent within 1${\\sigma}$, with residuals over all tassels ($\\sim 8$ million) consistent with $0$ at the $68\\%$ confidence level. We also compare `intrinsic' and recovered star formation histories, finding a close resemblance. Therefore, our mocking and spectral fitting processes do not distort intrinsic galaxy properties, hence we can use these results for scientific analysis. In the next papers of this series, we will present a comprehensive comparison and scientific analysis of TNG50 simulations with MaNGA observational results. |"
      ],
      "text/plain": [
       "[arXiv:2211.13146] iMaNGA: mock MaNGA galaxies based on IllustrisTNG-50 and MaStar SSPs.  II. the catalogue\n",
       "\tLorenza Nanni, et al. -- incl., <mark>Justus Neumann</mark>, <mark>Lewis Hill</mark>, <mark>Annalisa Pillepich</mark>"
      ]
     },
     "metadata": {},
     "output_type": "display_data"
    },
    {
     "data": {
      "text/markdown": [
       "## Failed papers"
      ],
      "text/plain": [
       "<IPython.core.display.Markdown object>"
      ]
     },
     "metadata": {},
     "output_type": "display_data"
    },
    {
     "data": {
      "text/markdown": [
       "\n",
       "|||\n",
       "|---:|:---|\n",
       "| [![arXiv](https://img.shields.io/badge/arXiv-arXiv:2211.12576-b31b1b.svg)](https://arxiv.org/abs/arXiv:2211.12576) | **A Swing of the Pendulum: The Chemodynamics of the Local Stellar Halo  Indicate Contributions from Several Radial Merger Events**  |\n",
       "|| Thomas Donlon II, <mark>Heidi Jo Newberg</mark> |\n",
       "|*Appeared on*| *2022-11-24*|\n",
       "|*Comments*| **|\n",
       "|**Abstract**| We find that the chemical abundances and dynamics of APOGEE and GALAH stars in the local stellar halo are inconsistent with a scenario in which the inner halo is primarily composed of debris from a single, massive, ancient merger event, as has been proposed to explain the Gaia-Enceladus/Gaia Sausage (GSE) structure. The data contains trends of chemical composition with energy which are opposite to expectations for a single massive, ancient merger event, and multiple chemical evolution paths with distinct dynamics are present. We use a Bayesian Gaussian mixture model regression algorithm to characterize the local stellar halo, and find that the data is best fit by a model with four components. We interpret these components as the VRM, Cronus, Nereus, and Thamnos; however, Nereus and Thamnos likely represent more than one accretion event because the chemical abundance distributions of their member stars contain many peaks. Although the Cronus and Thamnos components have different dynamics, their chemical abundances suggest they may be related. We show that the distinct low and high alpha halo populations from Nissen & Schuster (2010) are explained by VRM and Cronus stars, as well as some in-situ stars. Because the local stellar halo contains multiple substructures, different popular methods of selecting GSE stars will actually select different mixtures of these substructures, which may change the apparent chemodynamic properties of the selected stars. We also find that the Splash stars in the solar region are shifted to higher v_phi and slightly lower [Fe/H] than previously reported. |\n",
       "|<p style=\"color:green\"> **ERROR** </p>| <p style=\"color:green\">affiliation error: mpia.affiliation_verifications: '69117' keyword not found.</p> |"
      ],
      "text/plain": [
       "<IPython.core.display.Markdown object>"
      ]
     },
     "metadata": {},
     "output_type": "display_data"
    },
    {
     "data": {
      "text/markdown": [
       "\n",
       "|||\n",
       "|---:|:---|\n",
       "| [![arXiv](https://img.shields.io/badge/arXiv-arXiv:2211.13167-b31b1b.svg)](https://arxiv.org/abs/arXiv:2211.13167) | **Background rejection using image residuals from large telescopes in  imaging atmospheric Cherenkov telescope arrays**  |\n",
       "|| Laura Olivera-Nieto, et al. -- incl., <mark>Helena X. Ren</mark> |\n",
       "|*Appeared on*| *2022-11-24*|\n",
       "|*Comments*| *Accepted for publication in EPJC*|\n",
       "|**Abstract**| Identification of Cherenkov light generated by muons has been suggested as a promising way to dramatically improve the background rejection power of Imaging Atmospheric Cherenkov Telescope (IACT) arrays at high energies. However, muon identification remains a challenging task, for which efficient algorithms are still being developed. We present an approach in which, rather than identifying Cherenkov light from muons, we simply consider the presence of Cherenkov light other than the main shower image in IACTs with large mirror area. We show that in the case of the H.E.S.S. array of five telescopes this approach results in background rejection improvements at all energies above 1 TeV. In particular, the rejection power can be improved by a factor $\\sim3-4$ at energies above 20 TeV while keeping $\\sim90\\%$ of the original gamma-ray efficiency. |\n",
       "|<p style=\"color:green\"> **ERROR** </p>| <p style=\"color:green\">affiliation error: mpia.affiliation_verifications: '69117' keyword not found.</p> |"
      ],
      "text/plain": [
       "<IPython.core.display.Markdown object>"
      ]
     },
     "metadata": {},
     "output_type": "display_data"
    },
    {
     "data": {
      "text/markdown": [
       "\n",
       "|||\n",
       "|---:|:---|\n",
       "| [![arXiv](https://img.shields.io/badge/arXiv-arXiv:2211.12534-b31b1b.svg)](https://arxiv.org/abs/arXiv:2211.12534) | **EAVN Astrometry toward the Extreme Outer Galaxy: Kinematic distance with  the proper motion of G034.84-00.95**  |\n",
       "|| Nobuyuki Sakai, et al. -- incl., <mark>Bo Zhang</mark>, <mark>Lang Cui</mark>, <mark>Jeong Ae Lee</mark>, <mark>Guanghui Li</mark> |\n",
       "|*Appeared on*| *2022-11-24*|\n",
       "|*Comments*| *Accepted for publication in PASJ. 14 figures; 8 tables*|\n",
       "|**Abstract**| We aim to reveal the structure and kinematics of the Outer-Scutum-Centaurus (OSC) arm located on the far side of the Milky Way through very long baseline interferometry (VLBI) astrometry using KaVA, which is composed of KVN (Korean VLBI Network) and VERA (VLBI Exploration of Radio Astrometry). We report the proper motion of a 22 GHz H$_{2}$O maser source, which is associated with the star-forming region G034.84$-$00.95, to be ($\\mu_{\\alpha} \\rm{cos}\\delta$, $\\mu_{\\delta}$) = ($-$1.61$\\pm$0.18, $-$4.29$\\pm$0.16) mas yr$^{-1}$ in equatorial coordinates (J2000). We estimate the 2D kinematic distance to the source to be 18.6$\\pm$1.0 kpc, which is derived from the variance-weighted average of kinematic distances with LSR velocity and the Galactic-longitude component of the measured proper motion. Our result places the source in the OSC arm and implies that G034.84$-$00.95 is moving away from the Galactic plane with a vertical velocity of $-$38$\\pm$16 km s$^{-1}$. Since the H I supershell GS033+06$-$49 is located at a kinematic distance roughly equal to that of G034.84$-$00.95, it is expected that gas circulation occurs between the outer Galactic disk around G034.84$-$00.95 with a Galactocentric distance of 12.8$^{+1.0}_{-0.9}$ kpc and halo. We evaluate possible origins of the fast vertical motion of G034.84$-$00.95, which are (1) supernova explosions and (2) cloud collisions with the Galactic disk. However, neither of the possibilities are matched with the results of VLBI astrometry as well as spatial distributions of H II regions and H I gas. |\n",
       "|<p style=\"color:green\"> **ERROR** </p>| <p style=\"color:green\">affiliation error: mpia.affiliation_verifications: 'Heidelberg' keyword not found.</p> |"
      ],
      "text/plain": [
       "<IPython.core.display.Markdown object>"
      ]
     },
     "metadata": {},
     "output_type": "display_data"
    },
    {
     "data": {
      "text/markdown": [
       "\n",
       "|||\n",
       "|---:|:---|\n",
       "| [![arXiv](https://img.shields.io/badge/arXiv-arXiv:2211.12547-b31b1b.svg)](https://arxiv.org/abs/arXiv:2211.12547) | **Radiative Transfer as a Bayesian Linear Regression problem**  |\n",
       "|| Frederik De Ceuster, et al. -- incl., <mark>Leen Decin</mark> |\n",
       "|*Appeared on*| *2022-11-24*|\n",
       "|*Comments*| *16 pages, 1 figure, accepted to Monthly Notices of the Royal Astronomical Society (MNRAS)*|\n",
       "|**Abstract**| Electromagnetic radiation plays a crucial role in various physical and chemical processes. Hence, almost all astrophysical simulations require some form of radiative transfer model. Despite many innovations in radiative transfer algorithms and their implementation, realistic radiative transfer models remain very computationally expensive, such that one often has to resort to approximate descriptions. The complexity of these models makes it difficult to assess the validity of any approximation and to quantify uncertainties on the model results. This impedes scientific rigour, in particular, when comparing models to observations, or when using their results as input for other models. We present a probabilistic numerical approach to address these issues by treating radiative transfer as a Bayesian linear regression problem. This allows us to model uncertainties on the input and output of the model with the variances of the associated probability distributions. Furthermore, this approach naturally allows us to create reduced-order radiative transfer models with a quantifiable accuracy. These are approximate solutions to exact radiative transfer models, in contrast to the exact solutions to approximate models that are often used. As a first demonstration, we derive a probabilistic version of the method of characteristics, a commonly-used technique to solve radiative transfer problems. |\n",
       "|<p style=\"color:green\"> **ERROR** </p>| <p style=\"color:green\">affiliation error: mpia.affiliation_verifications: 'Heidelberg' keyword not found.</p> |"
      ],
      "text/plain": [
       "<IPython.core.display.Markdown object>"
      ]
     },
     "metadata": {},
     "output_type": "display_data"
    },
    {
     "data": {
      "text/markdown": [
       "\n",
       "|||\n",
       "|---:|:---|\n",
       "| [![arXiv](https://img.shields.io/badge/arXiv-arXiv:2211.12599-b31b1b.svg)](https://arxiv.org/abs/arXiv:2211.12599) | **HOPS 361-C's Jet Decelerating and Precessing Through NGC 2071 IR**  |\n",
       "|| Adam E. Rubinstein, et al. -- incl., <mark>Joel D. Green</mark> |\n",
       "|*Appeared on*| *2022-11-24*|\n",
       "|*Comments*| *24 pages, 9 figures, submitted to ApJ*|\n",
       "|**Abstract**| We present a two-epoch Hubble Space Telescope (HST) near-infrared (NIR) study of NGC 2071 IR highlighting HOPS 361-C, a protostar producing an arced 0.2 parsec-scale jet. Proper motions for the brightest knots decrease from 350 to 100 km/s with increasing distance from the source. The [Fe II] and Pa$\\beta$ emission line intensity ratio gives a velocity jump through each knot of 40-50 km/s. We show a new [O I] 63 $\\rm \\mu$m spectrum taken with the German REciever for Astronomy at Terahertz frequencies (GREAT) instrument aboard Stratospheric Observatory for Infrared Astronomy (SOFIA), which give a low jet inclination. Proper motions and jump velocities then estimate total flow speed throughout the jet. We model knot positions and speeds with a precessing jet that decelerates within the host molecular cloud. The measurements are matched with a precession period of a few thousand years and half opening angle of 15$\\rm\\deg$. The [Fe II] 1.26 $\\rm \\mu$m to 1.64 $\\rm \\mu$m line intensity ratio gives the extinction to each knot ranging from 5-30 mag. Relative to $\\sim$14 mag of extinction through the cloud from C$^{18}$O emission maps, the jet is well embedded at a fractional depth from 1/5 to 4/5, and can interact with the cloud. Our model suggests the jet is locally dissipated over 0.2 pc. This may be because knots sweep through a wide angle, giving the cloud time to fill in cavities opened by the jet. This contrasts with nearly unidirectional protostellar jets that puncture host clouds and can propagate significantly further than a quarter pc. |\n",
       "|<p style=\"color:green\"> **ERROR** </p>| <p style=\"color:green\">affiliation error: mpia.affiliation_verifications: 'Heidelberg' keyword not found.</p> |"
      ],
      "text/plain": [
       "<IPython.core.display.Markdown object>"
      ]
     },
     "metadata": {},
     "output_type": "display_data"
    },
    {
     "data": {
      "text/markdown": [
       "\n",
       "|||\n",
       "|---:|:---|\n",
       "| [![arXiv](https://img.shields.io/badge/arXiv-arXiv:2211.12622-b31b1b.svg)](https://arxiv.org/abs/arXiv:2211.12622) | **Tracking ALMA System Temperature with Water Vapor Data at High Frequency**  |\n",
       "|| <mark>Hao He</mark>, William R.F. Dent, Christine Wilson |\n",
       "|*Appeared on*| *2022-11-24*|\n",
       "|*Comments*| *24 pages, 18 figures, accepted to PASP*|\n",
       "|**Abstract**| The ALMA observatory is now putting more focus on high-frequency observations (frequencies from 275-950 GHz). However, high-frequency observations often suffer from rapid variations in atmospheric opacity that directly affect the system temperature $T_{sys}$. Current observations perform discrete atmospheric calibrations (Atm-cals) every few minutes, with typically 10-20 occurring per hour for high frequency observation and each taking 30-40 seconds. In order to obtain more accurate flux measurements and reduce the number of atmospheric calibrations (Atm-cals), a new method to monitor $T_{sys}$ continuously is proposed using existing data in the measurement set. In this work, we demonstrate the viability of using water vapor radiometer (WVR) data to track the $T_{sys}$ continuously. We find a tight linear correlation between $T_{sys}$ measured using the traditional method and $T_{sys}$ extrapolated based on WVR data with scatter of 0.5-3%. Although the exact form of the linear relation varies among different data sets and spectral windows, we can use a small number of discrete $T_{sys}$ measurements to fit the linear relation and use this heuristic relationship to derive $T_{sys}$ every 10 seconds. Furthermore, we successfully reproduce the observed correlation using atmospheric transmission at microwave (ATM) modeling and demonstrate the viability of a more general method to directly derive the $T_{sys}$ from the modeling. We apply the semi-continuous $T_{sys}$ from heuristic fitting on a few data sets from Band 7 to Band 10 and compare the flux measured using these methods. We find the discrete and continuous $T_{sys}$ methods give us consistent flux measurements with differences up to 5%. Furthermore, this method has significantly reduced the flux uncertainty due to $T_{sys}$ variability for one dataset, which has large precipitable water vapor (PWV) fluctuation, from 10% to 0.7%. |\n",
       "|<p style=\"color:green\"> **ERROR** </p>| <p style=\"color:green\">affiliation error: mpia.affiliation_verifications: 'Heidelberg' keyword not found.</p> |"
      ],
      "text/plain": [
       "<IPython.core.display.Markdown object>"
      ]
     },
     "metadata": {},
     "output_type": "display_data"
    },
    {
     "data": {
      "text/markdown": [
       "\n",
       "|||\n",
       "|---:|:---|\n",
       "| [![arXiv](https://img.shields.io/badge/arXiv-arXiv:2211.12675-b31b1b.svg)](https://arxiv.org/abs/arXiv:2211.12675) | **Comparison of the Core-Collapse Evolution of Two Nearly Equal Mass  Progenitors**  |\n",
       "|| Stephen W. Bruen, et al. -- incl., <mark>J. Austin Harris</mark> |\n",
       "|*Appeared on*| *2022-11-24*|\n",
       "|*Comments*| *24 pages; Submitted to ApJ*|\n",
       "|**Abstract**| We compare the core-collapse evolution of a pair of 15.8 $M_\\odot$ stars with significantly different internal structures, a consequence of bimodal variability exhibited by massive stars during their late evolutionary stages. The 15.78 and 15.79 $M_\\odot $ progenitors have core masses of 1.47 and 1.78 $M_\\odot$ and compactness parameters $\\xi_{1.75}$ of 0.302 and 0.604. The core collapse simulations are carried out in 2D to nearly 3 s post-bounce and show substantial differences in the times of shock revival and explosion energies. The 15.78 $M_\\odot$ model explodes promptly at 120 ms post-bounce when a strong density decrement at the Si--Si/O shell interface encounters the stalled shock. The 15.79 $M_\\odot$ model, which lacks the density decrement, takes 100 ms longer to explode but ultimately produces a more powerful explosion. Larger mass accretion rate of the 15.79 $M_\\odot$ model during the first 0.8 s post-bounce results in larger $\\nu_{e}$/$\\bar \\nu_{e}$ luminosities and rms energies. The $\\nu_{e}$/$\\bar \\nu_{e}$ luminosities and rms energies arising from the inner core are also larger in the 15.79 $M_\\odot$ model throughout due to the larger negative temperature gradient of this core due to greater adiabatic compression. Larger luminosities and rms energies in the 15.79 $M_\\odot$ model and a flatter and higher density heating region, result in more energy deposition behind the shock and more ejected matter with higher enthalpy. We find the ejected $^{56}$Ni mass of the 15.79 $M_\\odot$ model is more than double that of the 15.78 $M_\\odot$ model. Most of the ejecta in both models is moderately proton-rich, though counterintuitively the highest electron fraction ($Y_e=0.61$) ejecta in either model is in the less energetic 15.78 $M_\\odot$ model while the lowest electron fraction ($Y_e=0.45$) ejecta in either model is in the 15.79 $M_\\odot$ model. |\n",
       "|<p style=\"color:green\"> **ERROR** </p>| <p style=\"color:green\">affiliation error: mpia.affiliation_verifications: 'Heidelberg' keyword not found.</p> |"
      ],
      "text/plain": [
       "<IPython.core.display.Markdown object>"
      ]
     },
     "metadata": {},
     "output_type": "display_data"
    },
    {
     "data": {
      "text/markdown": [
       "\n",
       "|||\n",
       "|---:|:---|\n",
       "| [![arXiv](https://img.shields.io/badge/arXiv-arXiv:2211.12726-b31b1b.svg)](https://arxiv.org/abs/arXiv:2211.12726) | **The Effects of Gas Angular Momentum on Forming Magnetically Arrested  Disks and Launching Powerful Jets**  |\n",
       "|| Tom M. Kwan, <mark>Lixin Dai</mark>, Alexander Tchekhovskoy |\n",
       "|*Appeared on*| *2022-11-24*|\n",
       "|*Comments*| *15 pages, 7 figures, 1 table, submitted to ApJL, comments welcome!*|\n",
       "|**Abstract**| In this Letter, we investigate jet-launching abilities of Bondi-like accretion flows with zero or low specific angular momentum by performing 3D general relativistic magnetohydrodynamic simulations. In order to check if relativistic jets can be launched magnetically, we thread the accretion flow with large-scale poloidal magnetic field, and choose a rapidly spinning black hole. We demonstrate that the magnitude of the initial gas specific angular momentum primarily controls whether the disk can reach and sustain the magnetically arrested disk (MAD) state that launches very powerful jets, at $\\gtrsim 100\\%$ energy efficiency. We find that MAD forms in the presence of even a very small amount of specific angular momentum, and episodic jets with an average energy efficiency of $\\sim 10\\%$ can still form even when the gas has zero initial angular momentum. Our results give plausible explanations to why jets can be produced from various astrophysical systems that lack large gas specific angular momenta, such as Sgr A*, wind-fed X-ray binaries, tidal disruption events, and long-duration gamma-ray bursts. |\n",
       "|<p style=\"color:green\"> **ERROR** </p>| <p style=\"color:green\">affiliation error: mpia.affiliation_verifications: 'Heidelberg' keyword not found.</p> |"
      ],
      "text/plain": [
       "<IPython.core.display.Markdown object>"
      ]
     },
     "metadata": {},
     "output_type": "display_data"
    },
    {
     "data": {
      "text/markdown": [
       "\n",
       "|||\n",
       "|---:|:---|\n",
       "| [![arXiv](https://img.shields.io/badge/arXiv-arXiv:2211.12756-b31b1b.svg)](https://arxiv.org/abs/arXiv:2211.12756) | **Interferometric imaging of the type IIIb and U radio bursts observed  with LOFAR on 22 August 2017**  |\n",
       "|| Bartosz Dabrowski, et al. -- incl., <mark>PeiJin Zhang</mark> |\n",
       "|*Appeared on*| *2022-11-24*|\n",
       "|*Comments*| *Astronomy & Astrophysics, in press; 9 pages, 6 figures*|\n",
       "|**Abstract**| The Sun is the source of different types of radio bursts that are associated with solar flares, for example. Among the most frequently observed phenomena are type III solar bursts. Their radio images at low frequencies (below 100 MHz) are relatively poorly studied due to the limitations of legacy radio telescopes. We study the general characteristics of types IIIb and U with stria structure solar radio bursts in the frequency range of 20 - 80 MHz, in particular the source size and evolution in different altitudes, as well as the velocity and energy of electron beams responsible for their generation. In this work types IIIb and U with stria structure radio bursts are analyzed using data from the LOFAR telescope including dynamic spectra and imaging observations, as well as data taken in the X-ray range (GOES and RHESSI satellites) and in the extreme ultraviolet (SDO satellite). In this study we determined the source size limited by the actual shape of the contour at particular frequencies of type IIIb and U solar bursts in a relatively wide frequency band from 20 to 80 MHz. Two of the bursts seem to appear at roughly the same place in the studied active region and their source sizes are similar. It is different in the case of another burst, which seems to be related to another part of the magnetic field structure in this active region. The velocities of the electron beams responsible for the generation of the three bursts studied here were also found to be different. |\n",
       "|<p style=\"color:green\"> **ERROR** </p>| <p style=\"color:green\">affiliation error: mpia.affiliation_verifications: 'Heidelberg' keyword not found.</p> |"
      ],
      "text/plain": [
       "<IPython.core.display.Markdown object>"
      ]
     },
     "metadata": {},
     "output_type": "display_data"
    },
    {
     "data": {
      "text/markdown": [
       "\n",
       "|||\n",
       "|---:|:---|\n",
       "| [![arXiv](https://img.shields.io/badge/arXiv-arXiv:2211.12825-b31b1b.svg)](https://arxiv.org/abs/arXiv:2211.12825) | **Is there a Dynamic Difference between Stealthy and Standard CMEs?**  |\n",
       "|| Beili Ying, et al. -- incl., <mark>Li Feng</mark> |\n",
       "|*Appeared on*| *2022-11-24*|\n",
       "|*Comments*| *14 pages, 7 figures, 1 table. Accepted by ApJ*|\n",
       "|**Abstract**| Stealthy Coronal Mass Ejections (CMEs), lacking low coronal signatures, may result in significant geomagnetic storms. However, the mechanism of stealthy CMEs is still highly debated. In this work, we investigate whether there are differences between the stealthy and standard CMEs in terms of their dynamic behaviors. Seven stealthy and eight standard CMEs with slow speeds are selected. We calculate two-dimensional speed distributions of CMEs based on the cross-correlation method, rather than the unidimensional speed, and further obtain more accurate distributions and evolution of CME mechanical energies. Then we derive the CME driving powers and correlate them with CME parameters (total mass, average speed, and acceleration) for standard and stealthy CMEs. Besides, we study the forces that drive CMEs, namely, the Lorentz force, gravitational force, and drag force due to the ambient solar wind near the Sun. The results reveal that both the standard and stealthy CMEs are propelled by the combined action of those forces in the inner corona. The drag force and gravitational force are comparable with the Lorentz force. However, the impact of the drag and Lorentz forces on the global evolution of the stealthy CMEs is significantly weaker than that of the standard CMEs. |\n",
       "|<p style=\"color:green\"> **ERROR** </p>| <p style=\"color:green\">affiliation error: mpia.affiliation_verifications: 'Heidelberg' keyword not found.</p> |"
      ],
      "text/plain": [
       "<IPython.core.display.Markdown object>"
      ]
     },
     "metadata": {},
     "output_type": "display_data"
    },
    {
     "data": {
      "text/markdown": [
       "\n",
       "|||\n",
       "|---:|:---|\n",
       "| [![arXiv](https://img.shields.io/badge/arXiv-arXiv:2211.12967-b31b1b.svg)](https://arxiv.org/abs/arXiv:2211.12967) | **Misaligned jets from Sgr A$^*$ and the origin of Fermi/eROSITA bubbles**  |\n",
       "|| Kartick C. Sarkar, Santanu Mondal, <mark>Prateek Sharma</mark>, Tsvi Piran |\n",
       "|*Appeared on*| *2022-11-24*|\n",
       "|*Comments*| *12 pages. Submitted to ApJ. Comments are welcome*|\n",
       "|**Abstract**| One of the leading explanations for the origin of Fermi Bubbles is a past jet activity in the Galactic center supermassive black hole Sgr A$^*$. The claimed jets are often assumed to be perpendicular to the Galactic plane. Motivated by the orientation of pc-scale nuclear stellar disk and gas streams, and a low inclination of the accretion disk around Sgr A$^*$ inferred by the Event Horizon Telescope, we perform hydrodynamical simulations of nuclear jets significantly tilted relative to the Galactic rotation axis. The observed axisymmetry and hemisymmetry (north-south symmetry) of Fermi/eROSITA bubbles (FEBs) due to quasi-steady jets in Sgr A$^*$ can be produced if the jet had a super-Eddington power ($\\gtrsim 5\\times 10^{44}$ erg s$^{-1}$) for a short time (jet active period $\\lesssim 6$ kyr) for a reasonable jet opening angle ($\\lesssim 10^\\circ$). Such powerful explosions are, however, incompatible with the observed O VIII/O VII line ratio towards the bubbles, even after considering electron-proton temperature non-equilibrium. We argue that the only remaining options for producing FEBs are i) a low-luminosity ($\\approx 10^{40.5-41}$ erg s$^{-1}$)) magnetically dominated jet or accretion wind from the Sgr A$^*$, and ii) a SNe or TDE driven wind of a similar luminosity from the Galactic center. |\n",
       "|<p style=\"color:green\"> **ERROR** </p>| <p style=\"color:green\">affiliation error: mpia.affiliation_verifications: 'Heidelberg' keyword not found.</p> |"
      ],
      "text/plain": [
       "<IPython.core.display.Markdown object>"
      ]
     },
     "metadata": {},
     "output_type": "display_data"
    },
    {
     "data": {
      "text/markdown": [
       "\n",
       "|||\n",
       "|---:|:---|\n",
       "| [![arXiv](https://img.shields.io/badge/arXiv-arXiv:2211.12975-b31b1b.svg)](https://arxiv.org/abs/arXiv:2211.12975) | **Investigating the origin of optical and X-ray pulsations of the  transitional millisecond pulsar PSR J1023+0038**  |\n",
       "|| G. Illiano, et al. -- incl., <mark>M. Hernandez Diaz</mark>, <mark>D. F. Torres</mark> |\n",
       "|*Appeared on*| *2022-11-24*|\n",
       "|*Comments*| *13 pages, 6 figures, 5 tables, accepted for publication in A&A*|\n",
       "|**Abstract**| PSR J1023+0038 is the first millisecond pulsar that was ever observed as an optical and UV pulsar. So far, it is the only optical transitional millisecond pulsar. The rotation- and accretion-powered emission mechanisms hardly individually explain the observed characteristics of optical pulsations. A synergistic model, combining these standard emission processes, was proposed to explain the origin of the X-ray/UV/optical pulsations. We study the phase lag between the pulses in the optical and X-ray bands to gain insight into the physical mechanisms that cause it. We performed a detailed timing analysis of simultaneous or quasi-simultaneous observations in the X-ray band, acquired with the XMM-Newton and NICER satellites, and in the optical band, with the fast photometers SiFAP2 (mounted at the 3.6 m Telescopio Nazionale Galileo) and Aqueye+ (mounted at the 1.8 m Copernicus Telescope). We estimated the time lag of the optical pulsation with respect to that in the X-rays by modeling the folded pulse profiles with two harmonic components. Optical pulses lag the X-ray pulses by $\\sim$ 150 $\\mu$s in observations acquired with instruments (NICER and Aqueye+) whose absolute timing uncertainty is much smaller than the measured lag. We also show that the phase lag between optical and X-ray pulsations lies in a limited range of values, $\\delta \\phi \\in$ (0 $-$ 0.15), which is maintained over timescales of about five years. This indicates that both pulsations originate from the same region, and it supports the hypothesis of a common emission mechanism. Our results are interpreted in the shock-driven mini pulsar nebula scenario. This scenario suggests that optical and X-ray pulses are produced by synchrotron emission from the shock that formed within a few light cylinder radii away ($\\sim$ 100 km) from the pulsar, where its striped wind encounters the accretion disk inflow. |\n",
       "|<p style=\"color:green\"> **ERROR** </p>| <p style=\"color:green\">affiliation error: mpia.affiliation_verifications: 'Heidelberg' keyword not found.</p> |"
      ],
      "text/plain": [
       "<IPython.core.display.Markdown object>"
      ]
     },
     "metadata": {},
     "output_type": "display_data"
    },
    {
     "data": {
      "text/markdown": [
       "\n",
       "|||\n",
       "|---:|:---|\n",
       "| [![arXiv](https://img.shields.io/badge/arXiv-arXiv:2211.12994-b31b1b.svg)](https://arxiv.org/abs/arXiv:2211.12994) | **Connecting Solar Orbiter remote-sensing observations and Parker Solar  Probe in-situ measurements with a numerical MHD reconstruction of the Parker  spiral**  |\n",
       "|| Ruggero Biondo, et al. -- incl., <mark>Petr Heinzel</mark> |\n",
       "|*Appeared on*| *2022-11-24*|\n",
       "|*Comments*| *Astronomy & Astrophysics, Solar Orbiter First Results (Nominal Mission Phase), (in press) DOI: 10.1051/0004-6361/202244535*|\n",
       "|**Abstract**| As a key feature, NASA's Parker Solar Probe (PSP) and ESA-NASA's Solar Orbiter (SO) missions cooperate to trace solar wind and transients from their sources on the Sun to the inner interplanetary space. The goal of this work is to accurately reconstruct the interplanetary Parker spiral and the connection between coronal features observed remotely by the Metis coronagraph on-board SO and those detected in situ by PSP at the time of the first PSP-SO quadrature of January 2021. We use the Reverse In-situ and MHD Approach (RIMAP), a hybrid analytical-numerical method performing data-driven reconstructions of the Parker spiral. RIMAP solves the MHD equations on the equatorial plane with the PLUTO code, using the measurements collected by PSP between 0.1 and 0.2 AU as boundary conditions. Our reconstruction connects density and wind speed measurements provided by Metis (3-6 solar radii) to those acquired by PSP (21.5 solar radii) along a single streamline. The capability of our MHD model to connect the inner corona observed by Metis and the super Alfv\\'enic wind measured by PSP, not only confirms the research pathways provided by multi-spacecraft observations, but also the validity and accuracy of RIMAP reconstructions as a possible test bench to verify models of transient phenomena propagating across the heliosphere, such as coronal mass ejections, solar energetic particles and solar wind switchbacks. |\n",
       "|<p style=\"color:green\"> **ERROR** </p>| <p style=\"color:green\">affiliation error: mpia.affiliation_verifications: 'Heidelberg' keyword not found.</p> |"
      ],
      "text/plain": [
       "<IPython.core.display.Markdown object>"
      ]
     },
     "metadata": {},
     "output_type": "display_data"
    },
    {
     "data": {
      "text/markdown": [
       "\n",
       "|||\n",
       "|---:|:---|\n",
       "| [![arXiv](https://img.shields.io/badge/arXiv-arXiv:2211.13031-b31b1b.svg)](https://arxiv.org/abs/arXiv:2211.13031) | **Deep Herschel observations of the 2Jy sample: assessing the non-thermal  and AGN contributions to the far-IR continuum**  |\n",
       "|| D. Dicken, et al. -- incl., <mark>C. Ramos Almeida</mark> |\n",
       "|*Appeared on*| *2022-11-24*|\n",
       "|*Comments*| *22 pages, 8 figures, Accepted in MNRAS*|\n",
       "|**Abstract**| The far-IR/sub-mm wavelength range contains a wealth of diagnostic information that is important for understanding the role of radio AGN in galaxy evolution. Here we present the results of Herschel PACS and SPIRE observations of a complete sample of 46 powerful 2Jy radio AGN at intermediate redshifts (0.05 < z < 0.7), which represent the deepest pointed observations of a major sample of radio AGN undertaken by Herschel. In order to assess the importance of non-thermal synchrotron emission at far-IR wavelengths, we also present new APEX sub-mm and ALMA mm data. We find that the overall incidence of non-thermal contamination in the PACS bands ($<$200$\\mu$m) is in the range 28 -- 43%; however, this rises to 30 -- 72% for wavelengths ($> $200$\\mu$m) sampled by the SPIRE instrument. Non-thermal contamination is strongest in objects with compact CSS/GPS or extended FRI radio morphologies, and in those with type 1 optical spectra. Considering thermal dust emission, we find strong correlations between the 100 and 160$\\mu$m monochromatic luminosities and AGN power indicators, providing further evidence that radiation from the AGN may be an important heating source for the far-IR emitting dust. Clearly, AGN contamination -- whether by the direct emission from synchrotron-emitting lobes and cores, or via radiative heating of the cool dust -- needs to be carefully considered when using the far-IR continuum to measure the star formation rates in the host galaxies of radio AGN. |\n",
       "|<p style=\"color:green\"> **ERROR** </p>| <p style=\"color:green\">affiliation error: mpia.affiliation_verifications: 'Heidelberg' keyword not found.</p> |"
      ],
      "text/plain": [
       "<IPython.core.display.Markdown object>"
      ]
     },
     "metadata": {},
     "output_type": "display_data"
    },
    {
     "data": {
      "text/markdown": [
       "\n",
       "|||\n",
       "|---:|:---|\n",
       "| [![arXiv](https://img.shields.io/badge/arXiv-arXiv:2211.13064-b31b1b.svg)](https://arxiv.org/abs/arXiv:2211.13064) | **[OI] 6300Å$\\,$ emission as a probe of external photoevaporation of  protoplanetary discs**  |\n",
       "|| Giulia Ballabio, Thomas J. Haworth, <mark>W. J. Henney</mark> |\n",
       "|*Appeared on*| *2022-11-24*|\n",
       "|*Comments*| *13 pages, 8 figures*|\n",
       "|**Abstract**| We study the utility of the [OI] 6300$\\mathring{\\mathrm A}$ forbidden line for identifying and interpreting externally driven photoevaporative winds in different environments and at a range of distances. Thermally excited [OI] 6300$\\mathring{\\mathrm A}$ is a well known tracer of inner disc winds, so any external contribution needs to be distinguishable. In external winds, the line is not thermally excited and instead results from the dissociation of OH and we study how the line luminosity resulting from that process scales with the disc/environmental parameters. We find that the line luminosity increases dramatically with FUV radiation field strength above around 5000 G$_0$. The predicted luminosities from our models are consistent with measurements of the line luminosity of proplyds in the Orion Nebula Cluster. The high luminosity in strong UV environments alone may act as a diagnostic, but a rise in the [OI]-to-accretion luminosity ratio is predicted to better separate the two contributions. This could provide a means of identifying external photoevaporation in distant clusters where the proplyd morphology of evaporating discs cannot be spatially resolved. |\n",
       "|<p style=\"color:green\"> **ERROR** </p>| <p style=\"color:green\">affiliation error: mpia.affiliation_verifications: 'Heidelberg' keyword not found.</p> |"
      ],
      "text/plain": [
       "<IPython.core.display.Markdown object>"
      ]
     },
     "metadata": {},
     "output_type": "display_data"
    },
    {
     "data": {
      "text/markdown": [
       "\n",
       "|||\n",
       "|---:|:---|\n",
       "| [![arXiv](https://img.shields.io/badge/arXiv-arXiv:2211.13153-b31b1b.svg)](https://arxiv.org/abs/arXiv:2211.13153) | **How Close Dark Matter Halos and MOND Are to Each Other:  Three-Dimensional Tests Based on Gaia DR2**  |\n",
       "|| Yongda Zhu, et al. -- incl., <mark>Liang Chang</mark> |\n",
       "|*Appeared on*| *2022-11-24*|\n",
       "|*Comments*| *20 pages, 13 figures; accepted for publication in MNRAS*|\n",
       "|**Abstract**| Aiming at discriminating different gravitational potential models of the Milky Way, we perform tests based on the kinematic data powered by the Gaia DR2 astrometry, over a large range of $(R,z)$ locations. Invoking the complete form of Jeans equations that admit three integrals of motion, we use the independent $R$- and $z$-directional equations as two discriminators ($T_R$ and $T_z$). We apply the formula for spatial distributions of radial and vertical velocity dispersions proposed by Binney et al., and successfully extend it to azimuthal components, $\\sigma_\\theta(R,z)$ and $V_\\theta(R,z)$; the analytic form avoids the numerical artifacts caused by numerical differentiation in Jeans-equations calculation given the limited spatial resolutions of observations, and more importantly reduces the impact of kinematic substructures in the Galactic disk. It turns out that whereas the current kinematic data are able to reject Moffat's Modified Gravity (let alone the Newtonian baryon-only model), Milgrom's MOND is still not rejected. In fact, both the carefully calibrated fiducial model invoking a spherical dark matter (DM) halo and MOND are equally consistent with the data at almost all spatial locations (except that probably both have respective problems at low-$|z|$ locations), no matter which a tracer population or which a meaningful density profile is used. Because there is no free parameter at all in the quasi-linear MOND model we use, and the baryonic parameters are actually fine-tuned in the DM context, such an effective equivalence is surprising, and might be calling forth a transcending synthesis of the two paradigms. |\n",
       "|<p style=\"color:green\"> **ERROR** </p>| <p style=\"color:green\">affiliation error: mpia.affiliation_verifications: 'Heidelberg' keyword not found.</p> |"
      ],
      "text/plain": [
       "<IPython.core.display.Markdown object>"
      ]
     },
     "metadata": {},
     "output_type": "display_data"
    },
    {
     "data": {
      "text/markdown": [
       "\n",
       "|||\n",
       "|---:|:---|\n",
       "| [![arXiv](https://img.shields.io/badge/arXiv-arXiv:2211.13166-b31b1b.svg)](https://arxiv.org/abs/arXiv:2211.13166) | **Newly discovered Ca II absorbers in the early universe: statistics,  element abundances and dust**  |\n",
       "|| Hannah Fang, et al. -- incl., <mark>Yinan Zhao</mark> |\n",
       "|*Appeared on*| *2022-11-24*|\n",
       "|*Comments*| *17 pages, 24 figures, 5 tables; Acccepted for publication in the Monthly Notices of the Royal Astronomical Society (MNRAS)*|\n",
       "|**Abstract**| We report discoveries of 165 new quasar Ca II absorbers from the Sloan Digital Sky Survey (SDSS) Data Release 7 and 12. Our Ca II rest frame equivalent width distribution supports the weak and strong subpopulations, split at ${W}^{\\lambda3934}_{0}=0.7${\\AA}. Comparison of both populations' dust depletion shows clear consistency for weak absorber association with halo-type gas in the Milky Way (MW) while strong absorbers have environments consistent with halo and disc-type gas. We probed our high redshift Ca II absorbers for 2175{\\AA} dust bumps, discovering 12 2175{\\AA} dust absorbers (2DAs). This clearly shows that some Ca II absorbers follow the Large Magellanic Cloud (LMC) extinction law rather than the Small Magellanic Cloud extinction law. About 33% of our strong Ca II absorbers exhibit the 2175{\\AA} dust bump while only 6% of weak Ca II absorbers show this bump. 2DA detection further supports the theory that strong Ca II absorbers are associated with disk components and are dustier than the weak population. Comparing average Ca II absorber dust depletion patterns to that of Damped Ly{\\alpha} Absorbers (DLAs), Mg II absorbers, and 2DAs shows that Ca II absorbers generally have environments with more dust than DLAs and Mg II absorbers, but less dust than 2DAs. Comparing 2175{\\AA} dust bump strengths from different samples and also the MW and LMC, the bump strength appears to grow stronger as the redshift decreases, indicating dust growth and the global chemical enrichment of galaxies in the universe over time. |\n",
       "|<p style=\"color:green\"> **ERROR** </p>| <p style=\"color:green\">affiliation error: mpia.affiliation_verifications: 'Heidelberg' keyword not found.</p> |"
      ],
      "text/plain": [
       "<IPython.core.display.Markdown object>"
      ]
     },
     "metadata": {},
     "output_type": "display_data"
    },
    {
     "data": {
      "text/markdown": [
       "\n",
       "|||\n",
       "|---:|:---|\n",
       "| [![arXiv](https://img.shields.io/badge/arXiv-arXiv:2211.13193-b31b1b.svg)](https://arxiv.org/abs/arXiv:2211.13193) | **Taking a break: paused accretion in the symbiotic binary RT Cru**  |\n",
       "|| A. Pujol, et al. -- incl., <mark>F. M. Walter</mark> |\n",
       "|*Appeared on*| *2022-11-24*|\n",
       "|*Comments*| *Accepted in A&A*|\n",
       "|**Abstract**| Symbiotic binaries sometimes hide their symbiotic nature for significant periods of time. There is mounting observational evidence that in those symbiotics that are powered solely by accretion of red-giant's wind material onto a white dwarf, without any quasi-steady shell burning on the surface of the white dwarf, the characteristic emission lines in the optical spectrum can vanish, leaving the semblance of an isolated red giant spectrum. Here we present compelling evidence that this disappearance of optical emission lines from the spectrum of RT Cru during 2019 was due to a decrease in the accretion rate, which we derive by modeling the X-ray spectrum. This drop in accretion rate leads to a lower flux of ionizing photons and thus to faint/absent photoionization emission lines in the optical spectrum. We observed the white dwarf symbiotic RT Cru with XMM-Newton and Swift in X-rays and UV and collected ground-based optical spectra and photometry over the last 33 years. This long-term coverage shows that during most of the year 2019, the accretion rate onto the white dwarf was so low, $\\dot{M}= (3.2\\pm 0.06)\\, \\times$10$^{-11}$ $M_{\\odot}$ yr$^{-1}$ (d/2.52 kpc)$^2$, that the historically detected hard X-ray emission almost vanished, the UV flux faded by roughly 5 magnitudes, the $U$, $B$ and $V$ flickering amplitude decreased, and the Balmer lines virtually disappeared from January through March 2019. Long-lasting low-accretion episodes as the one reported here may hamper the chances of RT Cru experiencing nova-type outburst despite the high-mass of the accreting white dwarf. |\n",
       "|<p style=\"color:green\"> **ERROR** </p>| <p style=\"color:green\">affiliation error: mpia.affiliation_verifications: 'Heidelberg' keyword not found.</p> |"
      ],
      "text/plain": [
       "<IPython.core.display.Markdown object>"
      ]
     },
     "metadata": {},
     "output_type": "display_data"
    },
    {
     "data": {
      "text/markdown": [
       "\n",
       "|||\n",
       "|---:|:---|\n",
       "| [![arXiv](https://img.shields.io/badge/arXiv-arXiv:2211.12666-b31b1b.svg)](https://arxiv.org/abs/arXiv:2211.12666) | **Inferring Maps of the Sun's Far-side Unsigned Magnetic Flux from  Far-side Helioseismic Images using Machine Learning Techniques**  |\n",
       "|| Ruizhu Chen, et al. -- incl., <mark>Junwei Zhao</mark>, <mark>Shea Hess Webber</mark>, <mark>Yang Liu</mark> |\n",
       "|*Appeared on*| *2022-11-24*|\n",
       "|*Comments*| *Accepted by ApJ*|\n",
       "|**Abstract**| Accurate modeling of the Sun's coronal magnetic field and solar wind structures require inputs of the solar global magnetic field, including both the near and far sides, but the Sun's far-side magnetic field cannot be directly observed. However, the Sun's far-side active regions are routinely monitored by helioseismic imaging methods, which only require continuous near-side observations. It is therefore both feasible and useful to estimate the far-side magnetic-flux maps using the far-side helioseismic images despite their relatively low spatial resolution and large uncertainties. In this work, we train two machine-learning models to achieve this goal. The first machine-learning training pairs simultaneous SDO/HMI-observed magnetic-flux maps and SDO/AIA-observed EUV 304$\\r{A}$ images, and the resulting model can convert 304$\\r{A}$ images into magnetic-flux maps. This model is then applied on the STEREO/EUVI-observed far-side 304$\\r{A}$ images, available for about 4.3 years, for the far-side magnetic-flux maps. These EUV-converted magnetic-flux maps are then paired with simultaneous far-side helioseismic images for a second machine-learning training, and the resulting model can convert far-side helioseismic images into magnetic-flux maps. These helioseismically derived far-side magnetic-flux maps, despite their limitations in spatial resolution and accuracy, can be routinely available on a daily basis, providing useful magnetic information on the Sun's far side using only the near-side observations. |\n",
       "|<p style=\"color:green\"> **ERROR** </p>| <p style=\"color:green\">affiliation error: mpia.affiliation_verifications: 'Planck' keyword not found.</p> |"
      ],
      "text/plain": [
       "<IPython.core.display.Markdown object>"
      ]
     },
     "metadata": {},
     "output_type": "display_data"
    },
    {
     "data": {
      "text/markdown": [
       "\n",
       "|||\n",
       "|---:|:---|\n",
       "| [![arXiv](https://img.shields.io/badge/arXiv-arXiv:2211.12684-b31b1b.svg)](https://arxiv.org/abs/arXiv:2211.12684) | **Isochrone fitting of Galactic globular clusters -- IV. NGC6362 and  NGC6723**  |\n",
       "|| George A. Gontcharov, et al. -- incl., <mark>Jae-Woo Lee</mark>, <mark>Noah Hebdon</mark> |\n",
       "|*Appeared on*| *2022-11-24*|\n",
       "|*Comments*| *Accepted to be published in MNRAS, 20 pages, 3 online tables*|\n",
       "|**Abstract**| We present new isochrone fits to the colour-magnitude diagrams of the Galactic globular clusters NGC\\,6362 and NGC\\,6723. We utilize 22 and 26 photometric filters for NGC\\,6362 and NGC\\,6723, respectively, from the ultraviolet to mid-infrared using data sets from {\\it HST}, {\\it Gaia}, unWISE, and other photometric sources. We use models and isochrones from the Dartmouth Stellar Evolution Database (DSED) and Bag of Stellar Tracks and Isochrones (BaSTI) for $\\alpha$-enhanced [$\\alpha$/Fe]$=+0.4$ and different helium abundances. The metallicities [Fe/H]$=-1.04\\pm0.07$ and $-1.09\\pm0.06$ are derived from the red giant branch slopes in our fitting for NGC\\,6362 and NGC\\,6723, respectively. They agree with spectroscopic estimates from the literature. We find a differential reddening up to $\\Delta E(B-V)=0.13$ mag in the NGC\\,6723 field due to the adjacent Corona Australis cloud complex. We derive the following for NGC\\,6362 and NGC\\,6723, respectively: distances $7.75\\pm0.03\\pm0.15$ (statistic and systematic error) and $8.15\\pm0.04\\pm0.15$ kpc; ages $12.0\\pm0.1\\pm0.8$ and $12.4\\pm0.1\\pm0.8$ Gyr; extinctions $A_\\mathrm{V}=0.19\\pm0.04\\pm0.06$ and $0.24\\pm0.03\\pm0.06$ mag; reddenings $E(B-V)=0.056\\pm0.01\\pm0.02$ and $0.068\\pm0.01\\pm0.02$ mag. DSED provides systematically lower [Fe/H] and higher reddenings than BaSTI. However, the models agree in their relative estimates: NGC\\,6723 is $0.44\\pm0.04$ kpc further, $0.5\\pm0.1$ Gyr older, $\\Delta E(B-V)=0.007\\pm0.002$ more reddened, and with $0.05\\pm0.01$ dex lower [Fe/H] than NGC\\,6362. The lower metallicity and greater age of NGC\\,6723 with respect to NGC\\,6362 explain their horizontal branch morphology difference. This confirms age as the second parameter for these clusters. We provide lists of the cluster members from the {\\it Gaia} Data Release 3. |\n",
       "|<p style=\"color:red\"> **ERROR** </p>| <p style=\"color:red\">latex error 'utf-8' codec can't decode byte 0xb9 in position 9392: invalid start byte</p> |"
      ],
      "text/plain": [
       "<IPython.core.display.Markdown object>"
      ]
     },
     "metadata": {},
     "output_type": "display_data"
    },
    {
     "data": {
      "text/markdown": [
       "\n",
       "|||\n",
       "|---:|:---|\n",
       "| [![arXiv](https://img.shields.io/badge/arXiv-arXiv:2211.12557-b31b1b.svg)](https://arxiv.org/abs/arXiv:2211.12557) | **The CO$_2$ Profile and Analytical Model for the Pioneer Venus Large  Probe Neutral Mass Spectrometer**  |\n",
       "|| Rakesh Mogul, <mark>Sanjay S. Limaye</mark>, Michael. J. Way |\n",
       "|*Appeared on*| *2022-11-24*|\n",
       "|*Comments*| *Accepted, Nov. 2022*|\n",
       "|**Abstract**| We present a significantly updated CO$_2$ altitude profile for Venus (64.2-0.9 km) and provide support for a potential deep lower atmospheric haze of particles (17 km and lower). We extracted this information by developing a new analytical model for mass spectra obtained by the Pioneer Venus Large Probe (PVLP) Neutral Mass Spectrometer (LNMS). Our model accounts for changes in LNMS configuration and output during descent and enables the disentanglement of isobaric species via a data fitting routine that adjusts for mass-dependent changes in peak shape. The model yields CO$_2$ in units of density (kg m-3), isotope ratios for $^{13}$C/$^{12}$C and $^{18}$O/$^{16}$O, and 14 measures of CO$_2$ density across 55.4-0.9 km, which represents the most complete altitude profile for CO$_2$ at 60 km towards the surface to date. The CO$_2$ density profile is also consistent with the pressure, temperature, and volumetric gas measurements from the PVLP and VeNeRa spacecraft. Nominal and low-noise operations for the LNMS mass analyzer are supported by the behaviors (e.g., ionization yields, fragmentation yields, and peak shapes) of several internal standards (e.g., CH$^{3+}$, CH$^{4+}$, $^{40}$Ar$^+$, $^{136}$Xe$^{2+}$, and $^{136}$Xe$^+$), which were tracked across the descent. Lastly, our review of the CO$_2$ profile and LNMS spectra reveals hitherto unreported partial and rapidly clearing clogs of the inlet in the lower atmosphere, along with several ensuing data spikes at multiple masses. Together, these observations suggest that atmospheric intake was impacted by particles at 17 km (and lower) and that rapid particle degradation at the inlet yielded a temporary influx of mass signals into the LNMS. |\n",
       "|<p style=\"color:red\"> **ERROR** </p>| <p style=\"color:red\">latex error not a gzip file</p> |"
      ],
      "text/plain": [
       "<IPython.core.display.Markdown object>"
      ]
     },
     "metadata": {},
     "output_type": "display_data"
    },
    {
     "data": {
      "text/markdown": [
       "\n",
       "|||\n",
       "|---:|:---|\n",
       "| [![arXiv](https://img.shields.io/badge/arXiv-arXiv:2211.12843-b31b1b.svg)](https://arxiv.org/abs/arXiv:2211.12843) | **Discovery and description of two young open clusters in the primordial  group of NGC 6871**  |\n",
       "|| Juan Casado, <mark>Yasser Hendy</mark> |\n",
       "|*Appeared on*| *2022-11-24*|\n",
       "|*Comments*| *21 pages, 13 figures, 4 tables*|\n",
       "|**Abstract**| A primordial group of open clusters containing NGC 6871 is confirmed and described through Gaia DR3 data and the previous literature. It is a star-forming complex containing at least six young OCs, including Teutsch 8, FSR 198 and Biurakan 2. Two nearby OCs (Casado 82 and Casado-Hendy 1) are newly identified and studied in detail and found to be also members of the cited group. The parameters of the components are sufficiently similar to postulate the case of at least six clusters born from a single GMC. None of the cluster pairs of the group seems to be an authentic binary cluster, with the possible exception of the candidate pair Teutsch 8/FSR 198. Instead, NGC 6871 seems to be disintegrating, and the primordial group members appear to be dispersing out rapidly. Searching for new open clusters in the vicinity of young or grouped OCs using Gaia data is an efficient strategy to find new associated OCs forming primordial groups. |\n",
       "|<p style=\"color:red\"> **ERROR** </p>| <p style=\"color:red\">latex error not a gzip file</p> |"
      ],
      "text/plain": [
       "<IPython.core.display.Markdown object>"
      ]
     },
     "metadata": {},
     "output_type": "display_data"
    }
   ],
   "source": [
    "import datetime\n",
    "today = str(datetime.date.today())\n",
    "logfile = f\"_build/html/logs/log-{today}.md\"\n",
    "\n",
    "\n",
    "with open(logfile, 'w') as logs:\n",
    "    # Success\n",
    "    logs.write(f'# Arxiv on Deck 2: Logs - {today}\\n\\n')\n",
    "    logs.write(\"\"\"* Arxiv had {0:,d} new papers\\n\"\"\".format(len(new_papers)))\n",
    "    logs.write(\"\"\"    * {0:,d} with possible author matches\\n\\n\"\"\".format(len(candidates)))\n",
    "    logs.write(\"## Sucessful papers\\n\\n\")\n",
    "    display(Markdown(\"## Successful papers\"))\n",
    "    success = [k[0] for k in documents]\n",
    "    for candid in candidates:\n",
    "        if candid['identifier'].split(':')[-1] in success:\n",
    "            display(candid)\n",
    "            logs.write(candid.generate_markdown_text() + '\\n\\n')\n",
    "\n",
    "    ## failed\n",
    "    logs.write(\"## Failed papers\\n\\n\")\n",
    "    display(Markdown(\"## Failed papers\"))\n",
    "    failed = sorted(failed, key=lambda x: x[1])\n",
    "    current_reason = \"\"\n",
    "    for paper, reason in failed:\n",
    "        if 'affiliation' in reason:\n",
    "            color = 'green'\n",
    "        else:\n",
    "            color = 'red'\n",
    "        data = Markdown(\n",
    "                paper.generate_markdown_text() + \n",
    "                f'\\n|<p style=\"color:{color:s}\"> **ERROR** </p>| <p style=\"color:{color:s}\">{reason:s}</p> |'\n",
    "               )\n",
    "        if reason != current_reason:\n",
    "            logs.write(f'### {reason:s} \\n\\n')\n",
    "            current_reason = reason\n",
    "        logs.write(data.data + '\\n\\n')\n",
    "        \n",
    "        # only display here the important errors (all in logs)\n",
    "        # if color in ('red',):\n",
    "        display(data)"
   ]
  },
  {
   "cell_type": "markdown",
   "id": "472d20ee",
   "metadata": {
    "papermill": {
     "duration": 0.011646,
     "end_time": "2022-11-25T04:11:38.721740",
     "exception": false,
     "start_time": "2022-11-25T04:11:38.710094",
     "status": "completed"
    },
    "tags": []
   },
   "source": [
    "## Export documents\n",
    "\n",
    "We now write the .md files and export relevant images"
   ]
  },
  {
   "cell_type": "code",
   "execution_count": 7,
   "id": "d426aed9",
   "metadata": {
    "execution": {
     "iopub.execute_input": "2022-11-25T04:11:38.748286Z",
     "iopub.status.busy": "2022-11-25T04:11:38.747790Z",
     "iopub.status.idle": "2022-11-25T04:11:38.756959Z",
     "shell.execute_reply": "2022-11-25T04:11:38.756053Z"
    },
    "papermill": {
     "duration": 0.025552,
     "end_time": "2022-11-25T04:11:38.759110",
     "exception": false,
     "start_time": "2022-11-25T04:11:38.733558",
     "status": "completed"
    },
    "tags": []
   },
   "outputs": [],
   "source": [
    "def export_markdown_summary(md: str, md_fname:str, directory: str):\n",
    "    \"\"\"Export MD document and associated relevant images\"\"\"\n",
    "    import os\n",
    "    import shutil\n",
    "    import re\n",
    "\n",
    "    if (os.path.exists(directory) and not os.path.isdir(directory)):\n",
    "        raise RuntimeError(f\"a non-directory file exists with name {directory:s}\")\n",
    "\n",
    "    if (not os.path.exists(directory)):\n",
    "        print(f\"creating directory {directory:s}\")\n",
    "        os.mkdir(directory)\n",
    "\n",
    "    fig_fnames = (re.compile(r'\\[Fig.*\\]\\((.*)\\)').findall(md) + \n",
    "                  re.compile(r'\\<img src=\"([^>\\s]*)\"[^>]*/>').findall(md))\n",
    "    for fname in fig_fnames:\n",
    "        if 'http' in fname:\n",
    "            # No need to copy online figures\n",
    "            continue\n",
    "        destdir = os.path.join(directory, os.path.dirname(fname))\n",
    "        destfname = os.path.join(destdir, os.path.basename(fname))\n",
    "        try:\n",
    "            os.makedirs(destdir)\n",
    "        except FileExistsError:\n",
    "            pass\n",
    "        shutil.copy(fname, destfname)\n",
    "    with open(os.path.join(directory, md_fname), 'w') as fout:\n",
    "        fout.write(md)\n",
    "    print(\"exported in \", os.path.join(directory, md_fname))\n",
    "    [print(\"    + \" + os.path.join(directory,fk)) for fk in fig_fnames]"
   ]
  },
  {
   "cell_type": "code",
   "execution_count": 8,
   "id": "014d04a4",
   "metadata": {
    "execution": {
     "iopub.execute_input": "2022-11-25T04:11:38.786934Z",
     "iopub.status.busy": "2022-11-25T04:11:38.786470Z",
     "iopub.status.idle": "2022-11-25T04:11:38.800126Z",
     "shell.execute_reply": "2022-11-25T04:11:38.799247Z"
    },
    "papermill": {
     "duration": 0.029781,
     "end_time": "2022-11-25T04:11:38.802267",
     "exception": false,
     "start_time": "2022-11-25T04:11:38.772486",
     "status": "completed"
    },
    "tags": []
   },
   "outputs": [
    {
     "name": "stdout",
     "output_type": "stream",
     "text": [
      "exported in  _build/html/2211.12613.md\n",
      "    + _build/html/tmp_2211.12613/./J1120_bin_spec_corr_sky_zoomin.png\n",
      "    + _build/html/tmp_2211.12613/./xhi_other_constrain_cut_misc_scale.png\n",
      "    + _build/html/tmp_2211.12613/./J1120_flux_distribution.png\n",
      "exported in  _build/html/2211.13146.md\n",
      "    + _build/html/tmp_2211.13146/./posterimage.png\n",
      "    + _build/html/tmp_2211.13146/./2_targetvsTNGintarget_Exclusion.png\n",
      "    + _build/html/tmp_2211.13146/./4_finalsample.png\n"
     ]
    }
   ],
   "source": [
    "for paper_id, md in documents:\n",
    "    export_markdown_summary(md, f\"{paper_id:s}.md\", '_build/html/')"
   ]
  },
  {
   "cell_type": "markdown",
   "id": "f087a0a7",
   "metadata": {
    "papermill": {
     "duration": 0.01201,
     "end_time": "2022-11-25T04:11:38.827346",
     "exception": false,
     "start_time": "2022-11-25T04:11:38.815336",
     "status": "completed"
    },
    "tags": []
   },
   "source": [
    "## Display the papers\n",
    "\n",
    "Not necessary but allows for a quick check."
   ]
  },
  {
   "cell_type": "code",
   "execution_count": 9,
   "id": "fd25f625",
   "metadata": {
    "execution": {
     "iopub.execute_input": "2022-11-25T04:11:38.855920Z",
     "iopub.status.busy": "2022-11-25T04:11:38.855395Z",
     "iopub.status.idle": "2022-11-25T04:11:38.863976Z",
     "shell.execute_reply": "2022-11-25T04:11:38.863008Z"
    },
    "papermill": {
     "duration": 0.026194,
     "end_time": "2022-11-25T04:11:38.866061",
     "exception": false,
     "start_time": "2022-11-25T04:11:38.839867",
     "status": "completed"
    },
    "scrolled": false,
    "tags": []
   },
   "outputs": [
    {
     "data": {
      "text/markdown": [
       "<div class=\"macros\" style=\"visibility:hidden;\">\n",
       "$\\newcommand{\\ensuremath}{}$\n",
       "$\\newcommand{\\xspace}{}$\n",
       "$\\newcommand{\\object}[1]{\\texttt{#1}}$\n",
       "$\\newcommand{\\farcs}{{.}''}$\n",
       "$\\newcommand{\\farcm}{{.}'}$\n",
       "$\\newcommand{\\arcsec}{''}$\n",
       "$\\newcommand{\\arcmin}{'}$\n",
       "$\\newcommand{\\ion}[2]{#1#2}$\n",
       "$\\newcommand{\\textsc}[1]{\\textrm{#1}}$\n",
       "$\\newcommand{\\hl}[1]{\\textrm{#1}}$\n",
       "$\\newcommand{\\vdag}{(v)^\\dagger}$\n",
       "$\\newcommand$\n",
       "$\\newcommand$</div>\n",
       "\n",
       "<div class=\"macros\" style=\"visibility:hidden;\">\n",
       "$\\newcommand{$\\ensuremath$}{}$\n",
       "$\\newcommand{$\\xspace$}{}$\n",
       "$\\newcommand{$\\object$}[1]{\\texttt{#1}}$\n",
       "$\\newcommand{$\\farcs$}{{.}''}$\n",
       "$\\newcommand{$\\farcm$}{{.}'}$\n",
       "$\\newcommand{$\\arcsec$}{''}$\n",
       "$\\newcommand{$\\arcmin$}{'}$\n",
       "$\\newcommand{$\\ion$}[2]{#1#2}$\n",
       "$\\newcommand{$\\textsc$}[1]{\\textrm{#1}}$\n",
       "$\\newcommand{$\\hl$}[1]{\\textrm{#1}}$\n",
       "$\\newcommand{$\\vdag$}{(v)^\\dagger}$\n",
       "$\\newcommand$\n",
       "$\\newcommand$</div>\n",
       "\n",
       "\n",
       "\n",
       "<div id=\"title\">\n",
       "\n",
       "#  Forests\n",
       "\n",
       "</div>\n",
       "<div id=\"comments\">\n",
       "\n",
       "[![arXiv](https://img.shields.io/badge/arXiv-2211.12613-b31b1b.svg)](https://arxiv.org/abs/2211.12613)<mark>Appeared on: 2022-11-24</mark> - _13 pages, 6 figures, 2 tables, accepted for publication in ApJ_\n",
       "\n",
       "</div>\n",
       "<div id=\"authors\">\n",
       "\n",
       "Xiangyu Jin, et al. -- incl., <mark>Frederick B. Davies</mark>, <mark>Joseph F. Hennawi</mark>, <mark>Fabian Walter</mark>\n",
       "\n",
       "</div>\n",
       "<div id=\"abstract\">\n",
       "\n",
       "**Abstract:** Cosmic reionization was the last major phase transition of hydrogen from neutral to highly ionized in the intergalactic medium (IGM). Current observations show that the IGM is significantly neutral at$z>7$, and largely ionized by$z\\sim5.5$. However, most methods to measure the IGM neutral fraction are highly model-dependent, and are limited to when the volume-averaged neutral fraction of the IGM is either relatively low ($\\overline{x}_{\\rm HI} \\lesssim 10^{-3}$) or close to unity ($\\overline{x}_{\\rm HI}\\sim 1$). In particular, the neutral fraction evolution of the IGM at the critical redshift range of$z=6-7$is poorly constrained. We present new constraints on$\\overline{x}_{\\rm HI}$at$z\\sim5.1-6.8$, by analyzing deep optical spectra of$53$quasars at$5.73<z<7.09$.We derive model-independent upper limits on the neutral hydrogen fraction based on the fraction of “dark” pixels identified in the Lyman$\\alpha$(Ly$\\alpha$) and Lyman$\\beta$(Ly$\\beta$) forests, without any assumptions on the IGM model or the intrinsic shape of the quasar continuum. They are the first model-independent constraints on the IGM neutral hydrogen fraction at$z\\sim6.2-6.8$using quasar absorption measurements. Our results give upper limits of$\\overline{x}_{\\rm HI}(z=6.3) < 0.79\\pm0.04$(1$\\sigma$),$\\overline{x}_{\\rm HI} (z=6.5) < 0.87\\pm0.03$(1$\\sigma$), and$\\overline{x}_{\\rm HI} (z=6.7) < 0.94^{+0.06}_{-0.09}$(1$\\sigma$). The dark pixel fractions at$z>6.1$are consistent with the redshift evolution of the neutral fraction of the IGM derived from the Planck 2018.\n",
       "\n",
       "</div>\n",
       "\n",
       "<div id=\"div_fig1\">\n",
       "\n",
       "<img src=\"tmp_2211.12613/./J1120_bin_spec_corr_sky_zoomin.png\" alt=\"Fig2\" width=\"100%\"/>\n",
       "\n",
       "**Figure 2. -** J1120+0641 binned spectrum in the Ly$\\alpha$ forests (upper panel), Ly$\\beta$ forests (lower left panel), and the redshift overlapping regions in Ly$\\alpha$ and Ly$\\beta$ forests (lower middle panel). The size of each binned pixel is $3.3 $cMpc. The binned $2\\sigma$ spectral uncertainty is shown as the red line. The binned flux density is presented in bars, and identified \"dark\" pixels are shown in black. The sky OH emission is shown by the blue line \\citep{Rousselot2000AA}, and our spectral binning method effectively puts the majority of pixels between sky OH emission lines. Yellow hatched pixels are manually masked during our analysis, as those fluxes are plausibly from residual sky OH emission. The zero flux level is corrected by the $2\\sigma$ clipping median of all pixels in the Ly$\\alpha$ forest (i. e., the vertical dashed line shown in Figure \\ref{fig:1120_flux_distribution}).\n",
       "     (*fig:binned_spec_correction*)\n",
       "\n",
       "</div>\n",
       "<div id=\"div_fig2\">\n",
       "\n",
       "<img src=\"tmp_2211.12613/./xhi_other_constrain_cut_misc_scale.png\" alt=\"Fig4\" width=\"100%\"/>\n",
       "\n",
       "**Figure 4. -** Constraints on the IGM neutral hydrogen fraction $\\overline{x}_{\\rm HI}$ from high-$z$ quasars studies and Planck 2018 results. The upper limits on $\\overline{x}_{\\rm HI}$ from dark pixels are in red (this work, derived from flux-corrected $\\tau^{\\alpha}_{\\rm lim,2\\sigma}>2.5$ pixels at $z>6$), magenta (this work, derived from flux-corrected $\\tau^{\\alpha}_{\\rm lim,2\\sigma}>4.5$ pixels at $z<6$), and blue \\citep{McGreer2015MNRAS}. Constraints on $\\overline{x}_{\\rm HI}$ derived from Ly$\\alpha$ effective optical depth are shown by black squares \\citep{Fan2006AJ}, green squares \\citep{Yang2020ApJb}, and yellow squares \\citep{Bosman2021MNRAS}. The upper limits on $\\overline{x}_{\\rm HI}$, inferred from long dark gap length distributions in Ly$\\alpha$ and Ly$\\beta$ forests, are shown in blue pentagons \\citep{Zhu2022ApJ}. At $z>7$, individual measurements on the neutral hydrogen fraction from quasar damping wings are denoted by hexagons \\citep{Greig2017MNRAS,Banados2018Natur,Davies2018ApJ,Greig2019MNRAS,Wang2020ApJ,Yang2020ApJa}. The $1\\sigma$ and $2\\sigma$ reionization history derived from Planck 2018 results by assuming the FlexKnot model are denoted by the dark grey shaded region and the light grey shaded region \\citep{Planck2020AA}. The colored regions display $1\\sigma$ reionization histories in \\citealt[][]{Robertson2015ApJ}(red), \\citealt{Finkelstein2019ApJ}(blue), and \\citealt{Naidu2020ApJ}(purple). (*fig:nhi_other_constraints*)\n",
       "\n",
       "</div>\n",
       "<div id=\"div_fig3\">\n",
       "\n",
       "<img src=\"tmp_2211.12613/./J1120_flux_distribution.png\" alt=\"Fig6\" width=\"100%\"/>\n",
       "\n",
       "**Figure 6. -** To correct \"zero\" flux level in VLT/X-Shooter spectra, we apply the median flux derived from sigma clipped pixels to the VLT/X-Shooter spectra. The original flux distribution of pixels in the Ly$\\alpha$ forest from the J1120+0641 VLT/X-Shooter spectrum is shown by the black histogram. The median derived from the sigma clipping is denoted by the vertical black dashed line, and the 2$\\sigma$ range from sigma clipping is in the grey shaded region. The flux distribution corrected by the sigma-clipped median is shown by the red histogram. (*fig:1120_flux_distribution*)\n",
       "\n",
       "</div>"
      ],
      "text/plain": [
       "<IPython.core.display.Markdown object>"
      ]
     },
     "metadata": {},
     "output_type": "display_data"
    },
    {
     "data": {
      "text/markdown": [
       "<div class=\"macros\" style=\"visibility:hidden;\">\n",
       "$\\newcommand{\\ensuremath}{}$\n",
       "$\\newcommand{\\xspace}{}$\n",
       "$\\newcommand{\\object}[1]{\\texttt{#1}}$\n",
       "$\\newcommand{\\farcs}{{.}''}$\n",
       "$\\newcommand{\\farcm}{{.}'}$\n",
       "$\\newcommand{\\arcsec}{''}$\n",
       "$\\newcommand{\\arcmin}{'}$\n",
       "$\\newcommand{\\ion}[2]{#1#2}$\n",
       "$\\newcommand{\\textsc}[1]{\\textrm{#1}}$\n",
       "$\\newcommand{\\hl}[1]{\\textrm{#1}}$\n",
       "$\\newcommand{\\thebibliography}{\\DeclareRobustCommand{\\VAN}[3]{##3}\\VANthebibliography}$</div>\n",
       "\n",
       "<div class=\"macros\" style=\"visibility:hidden;\">\n",
       "$\\newcommand{$\\ensuremath$}{}$\n",
       "$\\newcommand{$\\xspace$}{}$\n",
       "$\\newcommand{$\\object$}[1]{\\texttt{#1}}$\n",
       "$\\newcommand{$\\farcs$}{{.}''}$\n",
       "$\\newcommand{$\\farcm$}{{.}'}$\n",
       "$\\newcommand{$\\arcsec$}{''}$\n",
       "$\\newcommand{$\\arcmin$}{'}$\n",
       "$\\newcommand{$\\ion$}[2]{#1#2}$\n",
       "$\\newcommand{$\\textsc$}[1]{\\textrm{#1}}$\n",
       "$\\newcommand{$\\hl$}[1]{\\textrm{#1}}$\n",
       "$\\newcommand{$\\thebibliography$}{\\DeclareRobustCommand{\\VAN}[3]{##3}\\VANthebibliography}$</div>\n",
       "\n",
       "\n",
       "\n",
       "<div id=\"title\">\n",
       "\n",
       "# iMaNGA: mock MaNGA galaxies based on IllustrisTNG-50 and MaStar SSPs. II. the catalogue\n",
       "\n",
       "</div>\n",
       "<div id=\"comments\">\n",
       "\n",
       "[![arXiv](https://img.shields.io/badge/arXiv-2211.13146-b31b1b.svg)](https://arxiv.org/abs/2211.13146)<mark>Appeared on: 2022-11-24</mark> - _arXiv admin note: text overlap with arXiv:2203.11575_\n",
       "\n",
       "</div>\n",
       "<div id=\"authors\">\n",
       "\n",
       "Lorenza Nanni, et al. -- incl., <mark><mark>Justus Neumann</mark></mark>, <mark><mark>Lewis Hill</mark></mark>, <mark><mark>Annalisa Pillepich</mark></mark>\n",
       "\n",
       "</div>\n",
       "<div id=\"abstract\">\n",
       "\n",
       "**Abstract:** To probe the current theory on galaxy formation and evolution, an increased synergy between observations and simulations is necessary. For this reason, in our previous paper of this series, we presented a method to mock  SDSS-IV/MaNGA integral-field spectroscopic galaxy observations from cosmological simulations of galaxy formation. Here we present the resulting mock galaxy catalogue.  This catalogue consists of 1,000 unique galaxies in IllustrisTNG-50 falling into the SDSS-IV/MaNGA-primary target footprint, defined in the redshift and i-band absolute magnitude space.In this paper, we describe the general characteristics of the catalogue, in terms of morphology, kinematics, and stellar population properties. We also investigate our ability to recover the galaxy characteristics, as given by the simulations, analysing the synthetic spectra. We show that the `intrinsic' and recovered kinematics, age and metallicity are consistent within 1${\\sigma}$, with residuals over all tassels ($\\sim 8$million) consistent with$0$at the$68\\%$confidence level.  We also compare `intrinsic' and recovered star formation histories, finding a close resemblance. Therefore, our mocking and spectral fitting processes do not distort intrinsic galaxy properties, hence we can use these results for scientific analysis. In the next papers of this series, we will present a comprehensive comparison and scientific analysis of TNG50 simulations with MaNGA observational results.\n",
       "\n",
       "</div>\n",
       "\n",
       "<div id=\"div_fig1\">\n",
       "\n",
       "<img src=\"tmp_2211.13146/./posterimage.png\" alt=\"Fig15\" width=\"100%\"/>\n",
       "\n",
       "**Figure 15. -** RGB images of 8 galaxies in the TNG50 iMaNGA sample (see \\cref{sec:mangasample}). The RGB images are constructed from their mock MaNGA-like datacubes, generated with the method presented in \\citet[][]{Nanni2022}. Different sky-sizes and morphologies can be appreciated. The redshift and the ID of the galaxies in TNG50 are reported in the upper-left corner for each galaxy. Their key properties are stated in Table \\ref{tab:prop}.\n",
       "     (*fig:posterimage*)\n",
       "\n",
       "</div>\n",
       "<div id=\"div_fig2\">\n",
       "\n",
       "<img src=\"tmp_2211.13146/./2_targetvsTNGintarget_Exclusion.png\" alt=\"Fig3\" width=\"100%\"/>\n",
       "\n",
       "**Figure 3. -** LoF entryThe distribution of the TNG50 galaxies in the initial sample (see \\cref{sec:tnggal}) falling into the MaNGA-primary target footprint, defined in the redshift and i-band AB magnitude space (upper panel), and their distribution in i-band AB magnitude (bottom panel). There are 3,152 galaxies in this sample, which we refer to as \"parent sample\". \\textit{Upper panel:} The distribution of the TNG50 galaxies in the parent sample in the magnitude-redshift space, colour-coded by the number of galaxies, and the MaNGA-primary sample footprint (black solid line). The grey crosses represent the galaxies excluded from the sample because not in the MaNGA-primary target. (*fig:targetvsTNGintarget*)\n",
       "\n",
       "</div>\n",
       "<div id=\"div_fig3\">\n",
       "\n",
       "<img src=\"tmp_2211.13146/./4_finalsample.png\" alt=\"Fig5\" width=\"100%\"/>\n",
       "\n",
       "**Figure 5. -** LoF entryThe distribution of TNG50 galaxies in the iMaNGA sample in the redshift and i-band AB magnitude space (upper panel) and their distribution in i-band AB magnitude in comparison to the previous defined samples, i.e. the initial and parent samples (bottom panel). The iMaNGA sample is built from the parent sample randomly extracting 1000 galaxies from it, with a higher probability to get selected if in magnitude bins less populated. \\textit{Upper panel:} the distribution of the TNG50  galaxies in the iMaNGA sample in magnitude-redshift space, colour-coded by the number of galaxies. The black solid line reports the MaNGA-primary sample footprint.  \\textit{Bottom panel:} the density distribution in i-band  AB $M_i-5\\log_{10}h$ of the samples of TNG50 galaxies discussed so far, i.e. the initial sample (black hatch-filled histogram),  the parent sample (yellow histogram) and  the iMaNGA sample (teal empty histogram).\n",
       "     (*fig:finalsample*)\n",
       "\n",
       "</div>"
      ],
      "text/plain": [
       "<IPython.core.display.Markdown object>"
      ]
     },
     "metadata": {},
     "output_type": "display_data"
    }
   ],
   "source": [
    "[display(Markdown(k[1])) for k in documents];"
   ]
  },
  {
   "cell_type": "markdown",
   "id": "873873a4",
   "metadata": {
    "papermill": {
     "duration": 0.013072,
     "end_time": "2022-11-25T04:11:38.891544",
     "exception": false,
     "start_time": "2022-11-25T04:11:38.878472",
     "status": "completed"
    },
    "tags": []
   },
   "source": [
    "# Create HTML index"
   ]
  },
  {
   "cell_type": "code",
   "execution_count": 10,
   "id": "cf665672",
   "metadata": {
    "execution": {
     "iopub.execute_input": "2022-11-25T04:11:38.920372Z",
     "iopub.status.busy": "2022-11-25T04:11:38.919809Z",
     "iopub.status.idle": "2022-11-25T04:11:38.933635Z",
     "shell.execute_reply": "2022-11-25T04:11:38.932753Z"
    },
    "papermill": {
     "duration": 0.03105,
     "end_time": "2022-11-25T04:11:38.935676",
     "exception": false,
     "start_time": "2022-11-25T04:11:38.904626",
     "status": "completed"
    },
    "tags": []
   },
   "outputs": [
    {
     "name": "stdout",
     "output_type": "stream",
     "text": [
      "98  publications in the last 7 days.\n",
      "\t _build/html/2211.13146.md\n",
      "\t _build/html/2211.12613.md\n",
      "\t _build/html/2211.11767.md\n",
      "\t _build/html/2211.09840.md\n",
      "\t _build/html/2211.09217.md\n",
      "\t _build/html/2211.08493.md\n",
      "\t _build/html/2211.08487.md\n",
      "\t _build/html/2211.08294.md\n",
      "\t _build/html/2211.07667.md\n",
      "\t _build/html/2211.07659.md\n",
      "\t _build/html/2211.06454.md\n",
      "\t _build/html/2211.06205.md\n",
      "\t _build/html/2211.06194.md\n",
      "\t _build/html/2211.05022.md\n",
      "\t _build/html/2211.04048.md\n",
      "\t _build/html/2211.03641.md\n",
      "\t _build/html/2211.02502.md\n",
      "\t _build/html/2211.01474.md\n",
      "\t _build/html/2211.00667.md\n",
      "\t _build/html/2211.00657.md\n",
      "\t _build/html/2211.00087.md\n",
      "\t _build/html/2211.00036.md\n",
      "\t _build/html/2211.00020.md\n",
      "\t _build/html/2211.00010.md\n",
      "\t _build/html/2210.17434.md\n",
      "\t _build/html/2210.12412.md\n",
      "\t _build/html/2210.11926.md\n",
      "\t _build/html/2210.11551.md\n",
      "\t _build/html/2210.11103.md\n",
      "\t _build/html/2210.10707.md\n",
      "\t _build/html/2210.09930.md\n",
      "\t _build/html/2210.08996.md\n",
      "\t _build/html/2210.08517.md\n",
      "\t _build/html/2210.08510.md\n",
      "\t _build/html/2210.08078.md\n",
      "\t _build/html/2210.06504.md\n",
      "\t _build/html/2210.05695.md\n",
      "\t _build/html/2210.05595.md\n",
      "\t _build/html/2210.05505.md\n",
      "\t _build/html/2210.04721.md\n",
      "\t _build/html/2210.03615.md\n",
      "\t _build/html/2210.01811.md\n",
      "\t _build/html/2210.01809.md\n",
      "\t _build/html/2210.01556.md\n",
      "\t _build/html/2210.00863.md\n",
      "\t _build/html/2210.00560.md\n",
      "\t _build/html/2209.15403.md\n",
      "\t _build/html/2209.15110.md\n",
      "\t _build/html/2209.14410.md\n",
      "\t _build/html/2209.14396.md\n",
      "\t _build/html/2209.13717.md\n",
      "\t _build/html/2209.13336.md\n",
      "\t _build/html/2209.12906.md\n",
      "\t _build/html/2209.11781.md\n",
      "\t _build/html/2209.11602.md\n",
      "\t _build/html/2209.11248.md\n",
      "\t _build/html/2209.11096.md\n",
      "\t _build/html/2209.10618.md\n",
      "\t _build/html/2209.09914.md\n",
      "\t _build/html/2209.09823.md\n",
      "\t _build/html/2209.08242.md\n",
      "\t _build/html/2209.08120.md\n",
      "\t _build/html/2209.08106.md\n",
      "\t _build/html/2209.07962.md\n",
      "\t _build/html/2209.07931.md\n",
      "\t _build/html/2209.06833.md\n",
      "\t _build/html/2209.05814.md\n",
      "\t _build/html/2209.05593.md\n",
      "\t _build/html/2209.04304.md\n",
      "\t _build/html/2209.03367.md\n",
      "\t _build/html/2209.02872.md\n",
      "\t _build/html/2209.02725.md\n",
      "\t _build/html/2209.02722.md\n",
      "\t _build/html/2209.02092.md\n",
      "\t _build/html/2209.01125.md\n",
      "\t _build/html/2209.00828.md\n",
      "\t _build/html/2209.00363.md\n",
      "\t _build/html/2208.14927.md\n",
      "\t _build/html/2208.09335.md\n",
      "\t _build/html/2208.08872.md\n",
      "\t _build/html/2204.06393.md\n",
      "\t _build/html/2204.03335.md\n",
      "\t _build/html/2204.03253.md\n",
      "\t _build/html/2204.02998.md\n",
      "\t _build/html/2204.02109.md\n",
      "\t _build/html/2204.02017.md\n",
      "\t _build/html/2204.01824.md\n",
      "\t _build/html/2204.01758.md\n",
      "\t _build/html/2204.01245.md\n",
      "\t _build/html/2204.00793.md\n",
      "\t _build/html/2204.00342.md\n",
      "\t _build/html/2203.16959.md\n",
      "\t _build/html/2203.16856.md\n",
      "\t _build/html/2203.16735.md\n",
      "\t _build/html/2203.16734.md\n",
      "\t _build/html/2203.16504.md\n",
      "\t _build/html/2203.15822.md\n",
      "\t _build/html/2203.15811.md\n"
     ]
    }
   ],
   "source": [
    "from datetime import datetime, timedelta, timezone\n",
    "from glob import glob\n",
    "\n",
    "files = glob('_build/html/*.md')\n",
    "days = 7\n",
    "now = datetime.today()\n",
    "res = []\n",
    "for fk in files:\n",
    "    stat_result = os.stat(fk).st_ctime\n",
    "    modified = datetime.fromtimestamp(stat_result, tz=timezone.utc).replace(tzinfo=None)\n",
    "    delta = now.today() - modified\n",
    "    if delta <= timedelta(days=days):\n",
    "        res.append((delta.seconds, fk))\n",
    "res = [k[1] for k in reversed(sorted(res, key=lambda x:x[1]))]\n",
    "npub = len(res)\n",
    "print(len(res), f\" publications in the last {days:d} days.\")\n",
    "[ print('\\t', k) for k in res ];"
   ]
  },
  {
   "cell_type": "code",
   "execution_count": 11,
   "id": "52ca0208",
   "metadata": {
    "execution": {
     "iopub.execute_input": "2022-11-25T04:11:38.997197Z",
     "iopub.status.busy": "2022-11-25T04:11:38.996508Z",
     "iopub.status.idle": "2022-11-25T04:11:39.004783Z",
     "shell.execute_reply": "2022-11-25T04:11:39.004006Z"
    },
    "papermill": {
     "duration": 0.057263,
     "end_time": "2022-11-25T04:11:39.006818",
     "exception": false,
     "start_time": "2022-11-25T04:11:38.949555",
     "status": "completed"
    },
    "scrolled": false,
    "tags": []
   },
   "outputs": [],
   "source": [
    "def create_carousel(npub=4):\n",
    "    \"\"\" Generate the HTML code for a carousel with `npub` slides \"\"\"\n",
    "    carousel = [\"\"\"<section class=\"carousel\" aria-label=\"Gallery\">\"\"\",\n",
    "                \"\"\"  <ol class=\"carousel__viewport\">\"\"\",\n",
    "    ]\n",
    "    for k in range(1, npub + 1):\n",
    "        prev_ = k - 1\n",
    "        next_ = k + 1\n",
    "        if prev_ <= 0:\n",
    "            prev_ = npub\n",
    "        if next_ > npub:\n",
    "            next_ = 1\n",
    "        text  = f\"\"\"    <li id=\"carousel__slide{k}\" tabindex=\"0\" class=\"carousel__slide\">\\n\"\"\"\n",
    "        text += f\"\"\"       <div class=\"carousel__snapper\">\\n\"\"\"\n",
    "        text += f\"\"\"         <a href=\"#carousel__slide{prev_}\" class=\"carousel__prev\">Go to previous slide</a>\\n\"\"\"\n",
    "        text += f\"\"\"         <a href=\"#carousel__slide{next_}\" class=\"carousel__next\">Go to next slide</a>\\n\"\"\"\n",
    "        text += f\"\"\"         <div id=\"slide{k}_content\" class=\"md_view\" >Content {k}</div>\\n\"\"\"\n",
    "        text += f\"\"\"       </div>\\n\"\"\"\n",
    "        text += f\"\"\"    </li>\"\"\"\n",
    "        carousel.append(text)\n",
    "\n",
    "    carousel.extend([\n",
    "        \"\"\"  </ol>\"\"\",\n",
    "        \"\"\"  <aside class=\"carousel__navigation\">\"\"\",\n",
    "        \"\"\"    <ol class=\"carousel__navigation-list\">\"\"\"])\n",
    "\n",
    "    for k in range(1, npub + 1):\n",
    "        text  = f\"\"\"      <li class=\"carousel__navigation-item\">\\n\"\"\"\n",
    "        text += f\"\"\"        <a href=\"#carousel__slide{k}\" class=\"carousel__navigation-button\">Go to {k}</a>\\n\"\"\"\n",
    "        text += f\"\"\"      </li>\"\"\"\n",
    "        carousel.append(text)\n",
    "    carousel.extend([\"\"\"    </ol>\"\"\", \"\"\"  </aside>\"\"\", \"\"\"</section>\"\"\"])\n",
    "\n",
    "    return '\\n'.join(carousel)"
   ]
  },
  {
   "cell_type": "code",
   "execution_count": 12,
   "id": "a6eac5b6",
   "metadata": {
    "execution": {
     "iopub.execute_input": "2022-11-25T04:11:39.036850Z",
     "iopub.status.busy": "2022-11-25T04:11:39.036227Z",
     "iopub.status.idle": "2022-11-25T04:11:39.044695Z",
     "shell.execute_reply": "2022-11-25T04:11:39.043630Z"
    },
    "papermill": {
     "duration": 0.026138,
     "end_time": "2022-11-25T04:11:39.046701",
     "exception": false,
     "start_time": "2022-11-25T04:11:39.020563",
     "status": "completed"
    },
    "scrolled": false,
    "tags": []
   },
   "outputs": [],
   "source": [
    "carousel = create_carousel(npub)\n",
    "docs = ', '.join(['\"{0:s}\"'.format(k.split('/')[-1]) for k in res])\n",
    "slides = ', '.join([f'\"slide{k}_content\"' for k in range(1, npub + 1)])\n",
    "\n",
    "script = f\"\"\"\n",
    "const docs = [{docs}]\n",
    "\n",
    "const slides = [{slides}]\n",
    "\"\"\" + \"\"\"\n",
    "async function run() {\n",
    "    for (let i = 0; i < docs.length; i++) {\n",
    "        let file = await fetch(docs[i]);\n",
    "        let text = await file.text()\n",
    "        document.getElementById(slides[i]).innerHTML =\n",
    "            marked.parse(text);\n",
    "    }\n",
    "    hljs.highlightAll();\n",
    "}\n",
    "run()\n",
    "\"\"\"\n",
    "\n",
    "page = f\"\"\"<!doctype html>\n",
    "<html lang=\"en\">\n",
    "\n",
    "<head>\n",
    "  <meta charset=\"utf-8\">\n",
    "  <meta name=\"viewport\" content=\"width=device-width, initial-scale=1\">\n",
    "  <!-- Bootstrap CSS -->\n",
    "  <link href=\"https://cdn.jsdelivr.net/npm/bootstrap@5.0.2/dist/css/bootstrap.min.css\" rel=\"stylesheet\"\n",
    "   integrity=\"sha384-EVSTQN3/azprG1Anm3QDgpJLIm9Nao0Yz1ztcQTwFspd3yD65VohhpuuCOmLASjC\" crossorigin=\"anonymous\">\n",
    "  <!-- highlight.js CSS -->\n",
    "  <link rel=\"stylesheet\" href=\"https://cdnjs.cloudflare.com/ajax/libs/highlight.js/11.1.0/styles/default.min.css\">\n",
    "  <!-- Mathjax 3 -->\n",
    "  <script type=\"text/javascript\" id=\"MathJax-config\" src=\"mathjax_config.js\"> </script>\n",
    "  <script type=\"text/javascript\" id=\"MathJax-script\" async \n",
    "    src=\"https://cdn.jsdelivr.net/npm/mathjax@3/es5/tex-mml-chtml.js\">\n",
    "  </script>\n",
    "  <link rel=\"stylesheet\" href=\"index_carousel.css\">\n",
    "  <link rel=\"icon\" type=\"image/x-icon\" href=\"https://www.mpia.de/assets/touch-icon-32x32-a66937bcebc4e8894ebff1f41a366c7c7220fd97a38869ee0f2db65a9f59b6c1.png\">\n",
    "  <title>MPIA Arxiv on deck!</title>\n",
    "</head>\n",
    "\n",
    "<body>\n",
    "  <div id=\"header\"> <img src=\"header_banner.png\" width=\"100%\"></div>\n",
    "  <div id=\"suptitle\"> 7-day archives </div>\n",
    "  <div id=\"info\">\n",
    "    <img src=\"https://pngimg.com/uploads/github/github_PNG58.png\" height=30rem></img>\n",
    "    <a href=https://github.com/mpi-astronomy/arxiv_display style=\"color:black;\">github/mpi-astronomy/arxiv_display</a> \n",
    "  </div>\n",
    "  {carousel:s}\n",
    "</body>\n",
    "\n",
    "<!-- Render Markdown -->\n",
    "\n",
    "<body>\n",
    "  <!-- highlight.js: https://highlightjs.org/download/ -->\n",
    "  <script src=\"https://cdnjs.cloudflare.com/ajax/libs/highlight.js/11.5.0/highlight.min.js\"></script>\n",
    "  <!-- marked.js -->\n",
    "  <script src=\"https://cdn.jsdelivr.net/npm/marked/marked.min.js\"></script>\n",
    "  <script>{script:s}</script>\n",
    "</body>\n",
    "</html>\n",
    "\"\"\"\n",
    "with open(\"_build/html/index_7days.html\", 'w') as fout:\n",
    "    fout.write(page)"
   ]
  },
  {
   "cell_type": "markdown",
   "id": "1cebacbc",
   "metadata": {
    "papermill": {
     "duration": 0.012545,
     "end_time": "2022-11-25T04:11:39.072239",
     "exception": false,
     "start_time": "2022-11-25T04:11:39.059694",
     "status": "completed"
    },
    "tags": []
   },
   "source": [
    "# Debugging papers"
   ]
  },
  {
   "cell_type": "raw",
   "id": "debe7cc6",
   "metadata": {
    "papermill": {
     "duration": 0.012335,
     "end_time": "2022-11-25T04:11:39.097627",
     "exception": false,
     "start_time": "2022-11-25T04:11:39.085292",
     "status": "completed"
    },
    "tags": []
   },
   "source": [
    "raise NotImplementedError(\"Manual Stop\")"
   ]
  },
  {
   "cell_type": "raw",
   "id": "eb169192",
   "metadata": {
    "papermill": {
     "duration": 0.014165,
     "end_time": "2022-11-25T04:11:39.124084",
     "exception": false,
     "start_time": "2022-11-25T04:11:39.109919",
     "status": "completed"
    },
    "scrolled": true,
    "tags": []
   },
   "source": [
    "from IPython.display import display, Markdown\n",
    "from TexSoup import TexSoup\n",
    "import re\n",
    "\n",
    "def bracket_error(source: str):\n",
    "    \"\"\" Find problematic portions of the document \"\"\"\n",
    "    \n",
    "    print(\"len(source)\", len(source))\n",
    "    \n",
    "    # Checking header\n",
    "    begin_doc = next(re.finditer(r'\\\\begin\\{document\\}', doc.source)).span()[1]\n",
    "    header = source[:begin_doc]\n",
    "    text = header + r\"\\n\\end{document}\"\n",
    "\n",
    "    try:\n",
    "        # print(\"Header check... \", end='')\n",
    "        TexSoup(text)\n",
    "        display(Markdown(f\"**[OK]** - Header\"))\n",
    "    except:\n",
    "        raise RuntimeError(\"Error in the header\")\n",
    "        \n",
    "    # Check the text per section until the end.\n",
    "    # Do not stop and try them all.\n",
    "    \n",
    "    problematic_text = []\n",
    "    \n",
    "    sections = ([(0, begin_doc, 'until first section')] + \n",
    "                [(g.span()[0], g.span()[1], g.group()) for g in re.finditer(r'\\\\section\\{.*\\}', source)] +\n",
    "                [(g.span()[0], g.span()[1], g.group()) for g in re.finditer(r'\\\\begin\\{appendix\\}', source)]\n",
    "               )\n",
    "    sections.append([len(source), len(source), 'end'])\n",
    "    \n",
    "    sections = sorted(sections, key=lambda x: x[0])\n",
    "    \n",
    "    prev_pos, prev_name = (0, 'header')\n",
    "    parsed = []\n",
    "    \n",
    "    for span, span_end, name in sections:\n",
    "\n",
    "        if span - prev_pos <= 0:\n",
    "            continue\n",
    "            \n",
    "\n",
    "        text = source[prev_pos:span]\n",
    "        if prev_pos > begin_doc:\n",
    "            text = r\"\\n\\begin{document}\" + text + r\"\\n\\end{document}\"\n",
    "        else:\n",
    "            text = text + r\"\\n\\end{document}\"\n",
    "        try:\n",
    "            #print(f\"{prev_pos}:{prev_name}-->{span}:{name} check... \", end='')\n",
    "            parsed.append(TexSoup(text, tolerance=1))  # allow not ending env\n",
    "            display(Markdown(f\"**[OK]** - *{prev_pos}*:{prev_name} &rarr; *{span}*:{name}\"))\n",
    "            # print(\"ok\")\n",
    "\n",
    "            prev_pos = span\n",
    "            prev_name = name\n",
    "        except:\n",
    "            # print(f\"error between {prev_pos} and {span}\")\n",
    "            display(Markdown(f\"**[ERR]** *{prev_pos}*:{prev_name} &rarr; *{span}*:{name}\"))\n",
    "            problematic_text.append((prev_pos, source[prev_pos:span]))\n",
    "            prev_pos = span\n",
    "            prev_name = name\n",
    "            # raise\n",
    "    return problematic_text, parsed\n",
    "\n",
    "\n",
    "def check_environment(text, offset=0):\n",
    "    \"\"\" Check environment \"\"\"\n",
    "    env = re.compile(r\"\\\\begin\\{(?P<env>.*)\\}(.*)\\\\end\\{(?P=env)\\}\", re.DOTALL)\n",
    "\n",
    "    for match in env.finditer(text):\n",
    "        beg, end = match.span()\n",
    "        beg += offset\n",
    "        end += offset\n",
    "        envname = match.groups()[0]\n",
    "        try:\n",
    "            latex.TexSoup(match.group())\n",
    "        except Exception as e:\n",
    "            display(e)\n",
    "            print(f\"Error in {envname:s} between {beg} and {end}\")\n",
    "            return match.groups()[1], beg, end"
   ]
  },
  {
   "cell_type": "raw",
   "id": "2315e835",
   "metadata": {
    "papermill": {
     "duration": 0.014758,
     "end_time": "2022-11-25T04:11:39.150638",
     "exception": false,
     "start_time": "2022-11-25T04:11:39.135880",
     "status": "completed"
    },
    "scrolled": false,
    "tags": []
   },
   "source": [
    "import importlib\n",
    "importlib.reload(latex)\n",
    "which = \"2204.03253\"\n",
    "paper_id = f'{which:s}'\n",
    "folder = f'tmp_{paper_id:s}'\n",
    "\n",
    "if not os.path.isdir(folder):\n",
    "    folder = retrieve_document_source(f\"{paper_id}\", f'tmp_{paper_id}')\n",
    "\n",
    "try:\n",
    "    doc = latex.LatexDocument(folder, validation=validation)    \n",
    "except AffiliationError as affilerror:\n",
    "    msg = f\"ArXiv:{paper_id:s} is not an MPIA paper... \" + str(affilerror)\n",
    "    print(msg)\n",
    "\n",
    "\n",
    "# Hack because sometimes author parsing does not work well\n",
    "if (len(doc.authors) != len(paper['authors'])):\n",
    "    doc._authors = paper['authors']\n",
    "if (doc.abstract) in (None, ''):\n",
    "    doc._abstract = paper['abstract']\n",
    "\n",
    "doc.comment = get_markdown_badge(paper_id) + \" _\" + paper['comments'] + \"_\"\n",
    "doc.highlight_authors_in_list(hl_list)\n",
    "\n",
    "full_md = doc.generate_markdown_text()"
   ]
  },
  {
   "cell_type": "raw",
   "id": "dd3781db",
   "metadata": {
    "papermill": {
     "duration": 0.013639,
     "end_time": "2022-11-25T04:11:39.177452",
     "exception": false,
     "start_time": "2022-11-25T04:11:39.163813",
     "status": "completed"
    },
    "scrolled": false,
    "tags": []
   },
   "source": [
    "doc"
   ]
  },
  {
   "cell_type": "raw",
   "id": "c6eed834",
   "metadata": {
    "papermill": {
     "duration": 0.012736,
     "end_time": "2022-11-25T04:11:39.203534",
     "exception": false,
     "start_time": "2022-11-25T04:11:39.190798",
     "status": "completed"
    },
    "tags": []
   },
   "source": [
    "# [check_environment(k) for k in bracket_error(doc.source)]\n",
    "_, _, a = latex.get_content_per_section(doc.source, verbose=True)\n",
    "if not a:\n",
    "    print(\"no issues per section\")\n",
    "for ak in a:\n",
    "    r = check_environment(ak[1], offset=ak[0])\n",
    "    print(r[1], r[2])\n",
    "    print(r[0])"
   ]
  },
  {
   "cell_type": "code",
   "execution_count": null,
   "id": "71ce768a",
   "metadata": {
    "papermill": {
     "duration": 0.012259,
     "end_time": "2022-11-25T04:11:39.227496",
     "exception": false,
     "start_time": "2022-11-25T04:11:39.215237",
     "status": "completed"
    },
    "tags": []
   },
   "outputs": [],
   "source": []
  }
 ],
 "metadata": {
  "kernelspec": {
   "display_name": "Python 3.10.6 64-bit",
   "language": "python",
   "name": "python3"
  },
  "language_info": {
   "codemirror_mode": {
    "name": "ipython",
    "version": 3
   },
   "file_extension": ".py",
   "mimetype": "text/x-python",
   "name": "python",
   "nbconvert_exporter": "python",
   "pygments_lexer": "ipython3",
   "version": "3.9.15"
  },
  "papermill": {
   "default_parameters": {},
   "duration": 240.469462,
   "end_time": "2022-11-25T04:11:39.561925",
   "environment_variables": {},
   "exception": null,
   "input_path": "MPIA daily digest.ipynb",
   "output_path": "log.ipynb",
   "parameters": {},
   "start_time": "2022-11-25T04:07:39.092463",
   "version": "2.4.0"
  },
  "vscode": {
   "interpreter": {
    "hash": "e7370f93d1d0cde622a1f8e1c04877d8463912d04d973331ad4851f04de6915a"
   }
  },
  "widgets": {
   "application/vnd.jupyter.widget-state+json": {
    "state": {
     "10886abd640043bc817f846f8d58778f": {
      "model_module": "@jupyter-widgets/base",
      "model_module_version": "2.0.0",
      "model_name": "LayoutModel",
      "state": {
       "_model_module": "@jupyter-widgets/base",
       "_model_module_version": "2.0.0",
       "_model_name": "LayoutModel",
       "_view_count": null,
       "_view_module": "@jupyter-widgets/base",
       "_view_module_version": "2.0.0",
       "_view_name": "LayoutView",
       "align_content": null,
       "align_items": null,
       "align_self": null,
       "border_bottom": null,
       "border_left": null,
       "border_right": null,
       "border_top": null,
       "bottom": null,
       "display": null,
       "flex": null,
       "flex_flow": null,
       "grid_area": null,
       "grid_auto_columns": null,
       "grid_auto_flow": null,
       "grid_auto_rows": null,
       "grid_column": null,
       "grid_gap": null,
       "grid_row": null,
       "grid_template_areas": null,
       "grid_template_columns": null,
       "grid_template_rows": null,
       "height": null,
       "justify_content": null,
       "justify_items": null,
       "left": null,
       "margin": null,
       "max_height": null,
       "max_width": null,
       "min_height": null,
       "min_width": null,
       "object_fit": null,
       "object_position": null,
       "order": null,
       "overflow": null,
       "padding": null,
       "right": null,
       "top": null,
       "visibility": null,
       "width": null
      }
     },
     "15b8bc1440184f23bdedac4baeffc0e8": {
      "model_module": "@jupyter-widgets/base",
      "model_module_version": "2.0.0",
      "model_name": "LayoutModel",
      "state": {
       "_model_module": "@jupyter-widgets/base",
       "_model_module_version": "2.0.0",
       "_model_name": "LayoutModel",
       "_view_count": null,
       "_view_module": "@jupyter-widgets/base",
       "_view_module_version": "2.0.0",
       "_view_name": "LayoutView",
       "align_content": null,
       "align_items": null,
       "align_self": null,
       "border_bottom": null,
       "border_left": null,
       "border_right": null,
       "border_top": null,
       "bottom": null,
       "display": null,
       "flex": null,
       "flex_flow": null,
       "grid_area": null,
       "grid_auto_columns": null,
       "grid_auto_flow": null,
       "grid_auto_rows": null,
       "grid_column": null,
       "grid_gap": null,
       "grid_row": null,
       "grid_template_areas": null,
       "grid_template_columns": null,
       "grid_template_rows": null,
       "height": null,
       "justify_content": null,
       "justify_items": null,
       "left": null,
       "margin": null,
       "max_height": null,
       "max_width": null,
       "min_height": null,
       "min_width": null,
       "object_fit": null,
       "object_position": null,
       "order": null,
       "overflow": null,
       "padding": null,
       "right": null,
       "top": null,
       "visibility": null,
       "width": null
      }
     },
     "1ccb0c11ebaa41dfb39903879050cd48": {
      "model_module": "@jupyter-widgets/controls",
      "model_module_version": "2.0.0",
      "model_name": "HTMLModel",
      "state": {
       "_dom_classes": [],
       "_model_module": "@jupyter-widgets/controls",
       "_model_module_version": "2.0.0",
       "_model_name": "HTMLModel",
       "_view_count": null,
       "_view_module": "@jupyter-widgets/controls",
       "_view_module_version": "2.0.0",
       "_view_name": "HTMLView",
       "description": "",
       "description_allow_html": false,
       "layout": "IPY_MODEL_10886abd640043bc817f846f8d58778f",
       "placeholder": "​",
       "style": "IPY_MODEL_38d8f282b5ad47ee9ae679d313e76e43",
       "tabbable": null,
       "tooltip": null,
       "value": "100%"
      }
     },
     "38d8f282b5ad47ee9ae679d313e76e43": {
      "model_module": "@jupyter-widgets/controls",
      "model_module_version": "2.0.0",
      "model_name": "HTMLStyleModel",
      "state": {
       "_model_module": "@jupyter-widgets/controls",
       "_model_module_version": "2.0.0",
       "_model_name": "HTMLStyleModel",
       "_view_count": null,
       "_view_module": "@jupyter-widgets/base",
       "_view_module_version": "2.0.0",
       "_view_name": "StyleView",
       "background": null,
       "description_width": "",
       "font_size": null,
       "text_color": null
      }
     },
     "4922ea1761964758a10a1e4f45fecc6b": {
      "model_module": "@jupyter-widgets/base",
      "model_module_version": "2.0.0",
      "model_name": "LayoutModel",
      "state": {
       "_model_module": "@jupyter-widgets/base",
       "_model_module_version": "2.0.0",
       "_model_name": "LayoutModel",
       "_view_count": null,
       "_view_module": "@jupyter-widgets/base",
       "_view_module_version": "2.0.0",
       "_view_name": "LayoutView",
       "align_content": null,
       "align_items": null,
       "align_self": null,
       "border_bottom": null,
       "border_left": null,
       "border_right": null,
       "border_top": null,
       "bottom": null,
       "display": null,
       "flex": null,
       "flex_flow": null,
       "grid_area": null,
       "grid_auto_columns": null,
       "grid_auto_flow": null,
       "grid_auto_rows": null,
       "grid_column": null,
       "grid_gap": null,
       "grid_row": null,
       "grid_template_areas": null,
       "grid_template_columns": null,
       "grid_template_rows": null,
       "height": null,
       "justify_content": null,
       "justify_items": null,
       "left": null,
       "margin": null,
       "max_height": null,
       "max_width": null,
       "min_height": null,
       "min_width": null,
       "object_fit": null,
       "object_position": null,
       "order": null,
       "overflow": null,
       "padding": null,
       "right": null,
       "top": null,
       "visibility": null,
       "width": null
      }
     },
     "8698a48e3905411da63600c7e8d93506": {
      "model_module": "@jupyter-widgets/controls",
      "model_module_version": "2.0.0",
      "model_name": "ProgressStyleModel",
      "state": {
       "_model_module": "@jupyter-widgets/controls",
       "_model_module_version": "2.0.0",
       "_model_name": "ProgressStyleModel",
       "_view_count": null,
       "_view_module": "@jupyter-widgets/base",
       "_view_module_version": "2.0.0",
       "_view_name": "StyleView",
       "bar_color": null,
       "description_width": ""
      }
     },
     "8ee7f1014aec430d98b31c7c88a3ccd6": {
      "model_module": "@jupyter-widgets/controls",
      "model_module_version": "2.0.0",
      "model_name": "HBoxModel",
      "state": {
       "_dom_classes": [],
       "_model_module": "@jupyter-widgets/controls",
       "_model_module_version": "2.0.0",
       "_model_name": "HBoxModel",
       "_view_count": null,
       "_view_module": "@jupyter-widgets/controls",
       "_view_module_version": "2.0.0",
       "_view_name": "HBoxView",
       "box_style": "",
       "children": [
        "IPY_MODEL_1ccb0c11ebaa41dfb39903879050cd48",
        "IPY_MODEL_96e05ec713f047a29199296f06d7cf63",
        "IPY_MODEL_b99050e2b6964d5988a2fdf5c5c93686"
       ],
       "layout": "IPY_MODEL_4922ea1761964758a10a1e4f45fecc6b",
       "tabbable": null,
       "tooltip": null
      }
     },
     "93c4fc6eefe24f49aabb48ffe1f97e75": {
      "model_module": "@jupyter-widgets/controls",
      "model_module_version": "2.0.0",
      "model_name": "HTMLStyleModel",
      "state": {
       "_model_module": "@jupyter-widgets/controls",
       "_model_module_version": "2.0.0",
       "_model_name": "HTMLStyleModel",
       "_view_count": null,
       "_view_module": "@jupyter-widgets/base",
       "_view_module_version": "2.0.0",
       "_view_name": "StyleView",
       "background": null,
       "description_width": "",
       "font_size": null,
       "text_color": null
      }
     },
     "96e05ec713f047a29199296f06d7cf63": {
      "model_module": "@jupyter-widgets/controls",
      "model_module_version": "2.0.0",
      "model_name": "FloatProgressModel",
      "state": {
       "_dom_classes": [],
       "_model_module": "@jupyter-widgets/controls",
       "_model_module_version": "2.0.0",
       "_model_name": "FloatProgressModel",
       "_view_count": null,
       "_view_module": "@jupyter-widgets/controls",
       "_view_module_version": "2.0.0",
       "_view_name": "ProgressView",
       "bar_style": "success",
       "description": "",
       "description_allow_html": false,
       "layout": "IPY_MODEL_ba71ddafb3cf4f41b4a265803c56d044",
       "max": 24.0,
       "min": 0.0,
       "orientation": "horizontal",
       "style": "IPY_MODEL_8698a48e3905411da63600c7e8d93506",
       "tabbable": null,
       "tooltip": null,
       "value": 24.0
      }
     },
     "b99050e2b6964d5988a2fdf5c5c93686": {
      "model_module": "@jupyter-widgets/controls",
      "model_module_version": "2.0.0",
      "model_name": "HTMLModel",
      "state": {
       "_dom_classes": [],
       "_model_module": "@jupyter-widgets/controls",
       "_model_module_version": "2.0.0",
       "_model_name": "HTMLModel",
       "_view_count": null,
       "_view_module": "@jupyter-widgets/controls",
       "_view_module_version": "2.0.0",
       "_view_name": "HTMLView",
       "description": "",
       "description_allow_html": false,
       "layout": "IPY_MODEL_15b8bc1440184f23bdedac4baeffc0e8",
       "placeholder": "​",
       "style": "IPY_MODEL_93c4fc6eefe24f49aabb48ffe1f97e75",
       "tabbable": null,
       "tooltip": null,
       "value": " 24/24 [03:30&lt;00:00,  8.80s/it]"
      }
     },
     "ba71ddafb3cf4f41b4a265803c56d044": {
      "model_module": "@jupyter-widgets/base",
      "model_module_version": "2.0.0",
      "model_name": "LayoutModel",
      "state": {
       "_model_module": "@jupyter-widgets/base",
       "_model_module_version": "2.0.0",
       "_model_name": "LayoutModel",
       "_view_count": null,
       "_view_module": "@jupyter-widgets/base",
       "_view_module_version": "2.0.0",
       "_view_name": "LayoutView",
       "align_content": null,
       "align_items": null,
       "align_self": null,
       "border_bottom": null,
       "border_left": null,
       "border_right": null,
       "border_top": null,
       "bottom": null,
       "display": null,
       "flex": null,
       "flex_flow": null,
       "grid_area": null,
       "grid_auto_columns": null,
       "grid_auto_flow": null,
       "grid_auto_rows": null,
       "grid_column": null,
       "grid_gap": null,
       "grid_row": null,
       "grid_template_areas": null,
       "grid_template_columns": null,
       "grid_template_rows": null,
       "height": null,
       "justify_content": null,
       "justify_items": null,
       "left": null,
       "margin": null,
       "max_height": null,
       "max_width": null,
       "min_height": null,
       "min_width": null,
       "object_fit": null,
       "object_position": null,
       "order": null,
       "overflow": null,
       "padding": null,
       "right": null,
       "top": null,
       "visibility": null,
       "width": null
      }
     }
    },
    "version_major": 2,
    "version_minor": 0
   }
  }
 },
 "nbformat": 4,
 "nbformat_minor": 5
}