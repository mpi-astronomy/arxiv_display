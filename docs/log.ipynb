{
 "cells": [
  {
   "cell_type": "markdown",
   "id": "92bcb855",
   "metadata": {
    "papermill": {
     "duration": 0.005865,
     "end_time": "2023-02-16T04:07:38.800030",
     "exception": false,
     "start_time": "2023-02-16T04:07:38.794165",
     "status": "completed"
    },
    "tags": []
   },
   "source": [
    "# MPIA Arxiv on Deck 2\n",
    "\n",
    "Contains the steps to produce the paper extractions."
   ]
  },
  {
   "cell_type": "code",
   "execution_count": 1,
   "id": "3a0d6e11",
   "metadata": {
    "execution": {
     "iopub.execute_input": "2023-02-16T04:07:38.810524Z",
     "iopub.status.busy": "2023-02-16T04:07:38.809764Z",
     "iopub.status.idle": "2023-02-16T04:07:39.000332Z",
     "shell.execute_reply": "2023-02-16T04:07:38.999615Z"
    },
    "papermill": {
     "duration": 0.198209,
     "end_time": "2023-02-16T04:07:39.002749",
     "exception": false,
     "start_time": "2023-02-16T04:07:38.804540",
     "status": "completed"
    },
    "tags": []
   },
   "outputs": [],
   "source": [
    "# Imports\n",
    "import os\n",
    "from IPython.display import Markdown, display\n",
    "from tqdm.notebook import tqdm\n",
    "import warnings\n",
    "from PIL import Image \n",
    "\n",
    "# requires arxiv_on_deck_2\n",
    "\n",
    "from arxiv_on_deck_2.arxiv2 import (get_new_papers, \n",
    "                                    get_paper_from_identifier,\n",
    "                                    retrieve_document_source, \n",
    "                                    get_markdown_badge)\n",
    "from arxiv_on_deck_2 import (latex, \n",
    "                             mpia,\n",
    "                             highlight_authors_in_list)\n",
    "\n",
    "# Sometimes images are really big\n",
    "Image.MAX_IMAGE_PIXELS = 1000000000 "
   ]
  },
  {
   "cell_type": "code",
   "execution_count": 2,
   "id": "22aa9d44",
   "metadata": {
    "execution": {
     "iopub.execute_input": "2023-02-16T04:07:39.013233Z",
     "iopub.status.busy": "2023-02-16T04:07:39.012778Z",
     "iopub.status.idle": "2023-02-16T04:07:39.017785Z",
     "shell.execute_reply": "2023-02-16T04:07:39.017131Z"
    },
    "papermill": {
     "duration": 0.011798,
     "end_time": "2023-02-16T04:07:39.019279",
     "exception": false,
     "start_time": "2023-02-16T04:07:39.007481",
     "status": "completed"
    },
    "tags": []
   },
   "outputs": [],
   "source": [
    "# Some useful definitions.\n",
    "\n",
    "class AffiliationWarning(UserWarning):\n",
    "    pass\n",
    "\n",
    "class AffiliationError(RuntimeError):\n",
    "    pass\n",
    "\n",
    "def validation(source: str):\n",
    "    \"\"\"Raises error paper during parsing of source file\n",
    "    \n",
    "    Allows checks before parsing TeX code.\n",
    "    \n",
    "    Raises AffiliationWarning\n",
    "    \"\"\"\n",
    "    check = mpia.affiliation_verifications(source, verbose=True)\n",
    "    if check is not True:\n",
    "        raise AffiliationError(\"mpia.affiliation_verifications: \" + check)\n",
    "\n",
    "        \n",
    "warnings.simplefilter('always', AffiliationWarning)"
   ]
  },
  {
   "cell_type": "code",
   "execution_count": 3,
   "id": "14622700",
   "metadata": {
    "execution": {
     "iopub.execute_input": "2023-02-16T04:07:39.028591Z",
     "iopub.status.busy": "2023-02-16T04:07:39.028043Z",
     "iopub.status.idle": "2023-02-16T04:07:39.031790Z",
     "shell.execute_reply": "2023-02-16T04:07:39.031182Z"
    },
    "papermill": {
     "duration": 0.010007,
     "end_time": "2023-02-16T04:07:39.033398",
     "exception": false,
     "start_time": "2023-02-16T04:07:39.023391",
     "status": "completed"
    },
    "tags": []
   },
   "outputs": [],
   "source": [
    "# additional CSS to consider. \n",
    "# TODO: Current into each exported file. \n",
    "#       This should be set once into the webpages directly.\n",
    "#       With only the class/id definitions in the .md files.\n",
    "\n",
    "debug_html = \"\"\"\n",
    "<style>\n",
    "#wrap{ overflow:auto; }\n",
    "#fig1{ background:yellow; width:100%; float:left; padding:5px;  }\n",
    "#fig2{ background:red; width:50%; float:left; clear:left; padding:5px;  }\n",
    "#fig3{ background:green; width:50%; float:left; padding:5px;   }\n",
    ".macros{ background:yellow; visibility:visible;}\n",
    "h1 {margin: 0 0 0 0;}\n",
    "mark {background-color:#fff3b6;}\n",
    "img {object-fit:contain; max-height:250px; display:inline-block; text-align: center;}\n",
    "</style>\n",
    "\"\"\" \n",
    "html = \"\"\"\n",
    "<style>\n",
    "#wrap{ overflow:auto; }\n",
    "#fig1{ width:100%; float:left; padding: 5px;  }\n",
    "#fig2{ width:50%; float:left; clear:left; padding: 5px;  }\n",
    "#fig3{ width:50%; float:left; padding: 5px;  }\n",
    ".macros{ visibility:hidden; height:0px; }\n",
    "h1 {margin: 0em 0 0 0;}\n",
    "mark {background-color:#fff3b6;}\n",
    "img {object-fit:contain; max-height:250px; display:inline-block; text-align: center;}\n",
    "</style>\n",
    "\"\"\""
   ]
  },
  {
   "cell_type": "markdown",
   "id": "14bd6310",
   "metadata": {
    "papermill": {
     "duration": 0.003922,
     "end_time": "2023-02-16T04:07:39.041218",
     "exception": false,
     "start_time": "2023-02-16T04:07:39.037296",
     "status": "completed"
    },
    "tags": []
   },
   "source": [
    "## get list of arxiv paper candidates\n",
    "\n",
    "We use the MPIA mitarbeiter list webpage from mpia.de to get author names\n",
    "We then get all new papers from Arxiv and match authors"
   ]
  },
  {
   "cell_type": "code",
   "execution_count": 4,
   "id": "2645e73a",
   "metadata": {
    "execution": {
     "iopub.execute_input": "2023-02-16T04:07:39.050318Z",
     "iopub.status.busy": "2023-02-16T04:07:39.049752Z",
     "iopub.status.idle": "2023-02-16T04:08:04.176784Z",
     "shell.execute_reply": "2023-02-16T04:08:04.174952Z"
    },
    "papermill": {
     "duration": 25.133898,
     "end_time": "2023-02-16T04:08:04.178997",
     "exception": false,
     "start_time": "2023-02-16T04:07:39.045099",
     "status": "completed"
    },
    "tags": []
   },
   "outputs": [
    {
     "name": "stdout",
     "output_type": "stream",
     "text": [
      "Arxiv has 51 new papers today\n",
      "          25 with possible author matches\n"
     ]
    }
   ],
   "source": [
    "# get list from MPIA website\n",
    "# it automatically filters identified non-scientists :func:`mpia.filter_non_scientists`\n",
    "mpia_authors = mpia.get_mpia_mitarbeiter_list()\n",
    "new_papers = get_new_papers()\n",
    "# add manual references\n",
    "add_paper_refs = []\n",
    "new_papers.extend([get_paper_from_identifier(k) for k in add_paper_refs])\n",
    "\n",
    "# select only papers with matching author names and highlight authors\n",
    "hl_list = [k[0] for k in mpia_authors]\n",
    "\n",
    "candidates = []\n",
    "for paperk in new_papers:\n",
    "    hl_authors = highlight_authors_in_list(paperk['authors'], hl_list)\n",
    "    matches = [(hl, orig) for hl, orig in zip(hl_authors, paperk['authors']) if 'mark' in hl]\n",
    "    paperk['authors'] = hl_authors\n",
    "    if matches:\n",
    "        candidates.append(paperk)\n",
    "print(\"\"\"Arxiv has {0:,d} new papers today\"\"\".format(len(new_papers)))        \n",
    "print(\"\"\"          {0:,d} with possible author matches\"\"\".format(len(candidates)))"
   ]
  },
  {
   "cell_type": "markdown",
   "id": "3543b34a",
   "metadata": {
    "papermill": {
     "duration": 0.004407,
     "end_time": "2023-02-16T04:08:04.188579",
     "exception": false,
     "start_time": "2023-02-16T04:08:04.184172",
     "status": "completed"
    },
    "tags": []
   },
   "source": [
    "# Parse sources and generate relevant outputs\n",
    "\n",
    "From the candidates, we do the following steps:\n",
    "* get their tarball from ArXiv (and extract data)\n",
    "* find the main .tex file: find one with \\documentclass{...} (sometimes it's non trivial)\n",
    "* Check affiliations with :func:`validation`, which uses :func:`mpia.affiliation_verifications`\n",
    "* If passing the affiliations: we parse the .tex source\n",
    "   * inject sub-documents into the main (flatten the main document)\n",
    "   * parse structure, extract information (title, abstract, authors, figures...)\n",
    "   * handles `\\graphicspath` if provided\n",
    "* Generate the .md document."
   ]
  },
  {
   "cell_type": "code",
   "execution_count": 5,
   "id": "9576b79e",
   "metadata": {
    "execution": {
     "iopub.execute_input": "2023-02-16T04:08:04.198299Z",
     "iopub.status.busy": "2023-02-16T04:08:04.197664Z",
     "iopub.status.idle": "2023-02-16T04:09:44.374733Z",
     "shell.execute_reply": "2023-02-16T04:09:44.374099Z"
    },
    "papermill": {
     "duration": 100.183785,
     "end_time": "2023-02-16T04:09:44.376391",
     "exception": false,
     "start_time": "2023-02-16T04:08:04.192606",
     "status": "completed"
    },
    "scrolled": false,
    "tags": []
   },
   "outputs": [
    {
     "data": {
      "application/vnd.jupyter.widget-view+json": {
       "model_id": "3286e5b01cf04af0843d613fddc4d8e0",
       "version_major": 2,
       "version_minor": 0
      },
      "text/plain": [
       "  0%|          | 0/24 [00:00<?, ?it/s]"
      ]
     },
     "metadata": {},
     "output_type": "display_data"
    },
    {
     "name": "stdout",
     "output_type": "stream",
     "text": [
      "Retrieving document from  https://arxiv.org/e-print/2302.07273\n"
     ]
    },
    {
     "name": "stdout",
     "output_type": "stream",
     "text": [
      "extracting tarball to tmp_2302.07273..."
     ]
    },
    {
     "name": "stdout",
     "output_type": "stream",
     "text": [
      " done.\n",
      "Retrieving document from  https://arxiv.org/e-print/2302.07274\n"
     ]
    },
    {
     "name": "stdout",
     "output_type": "stream",
     "text": [
      "extracting tarball to tmp_2302.07274... done.\n",
      "Retrieving document from  https://arxiv.org/e-print/2302.07277\n"
     ]
    },
    {
     "name": "stdout",
     "output_type": "stream",
     "text": [
      "extracting tarball to tmp_2302.07277..."
     ]
    },
    {
     "name": "stdout",
     "output_type": "stream",
     "text": [
      " done.\n"
     ]
    },
    {
     "name": "stdout",
     "output_type": "stream",
     "text": [
      "Retrieving document from  https://arxiv.org/e-print/2302.07284\n"
     ]
    },
    {
     "name": "stdout",
     "output_type": "stream",
     "text": [
      "extracting tarball to tmp_2302.07284... done.\n",
      "Retrieving document from  https://arxiv.org/e-print/2302.07308\n"
     ]
    },
    {
     "name": "stdout",
     "output_type": "stream",
     "text": [
      "extracting tarball to tmp_2302.07308..."
     ]
    },
    {
     "name": "stdout",
     "output_type": "stream",
     "text": [
      " done.\n",
      "Retrieving document from  https://arxiv.org/e-print/2302.07318\n"
     ]
    },
    {
     "name": "stdout",
     "output_type": "stream",
     "text": [
      "extracting tarball to tmp_2302.07318..."
     ]
    },
    {
     "name": "stdout",
     "output_type": "stream",
     "text": [
      " done.\n",
      "Retrieving document from  https://arxiv.org/e-print/2302.07333\n"
     ]
    },
    {
     "name": "stdout",
     "output_type": "stream",
     "text": [
      "extracting tarball to tmp_2302.07333... done.\n",
      "Retrieving document from  https://arxiv.org/e-print/2302.07342\n"
     ]
    },
    {
     "name": "stdout",
     "output_type": "stream",
     "text": [
      "extracting tarball to tmp_2302.07342... done.\n",
      "Retrieving document from  https://arxiv.org/e-print/2302.07378\n"
     ]
    },
    {
     "name": "stderr",
     "output_type": "stream",
     "text": [
      "/opt/hostedtoolcache/Python/3.9.16/x64/lib/python3.9/site-packages/IPython/core/interactiveshell.py:3460: LatexWarning: Multiple tex files.\n",
      "\n",
      "  exec(code_obj, self.user_global_ns, self.user_ns)\n",
      "/opt/hostedtoolcache/Python/3.9.16/x64/lib/python3.9/site-packages/IPython/core/interactiveshell.py:3460: LatexWarning: Found documentclass in tmp_2302.07342/main.tex\n",
      "\n",
      "  exec(code_obj, self.user_global_ns, self.user_ns)\n",
      "/opt/hostedtoolcache/Python/3.9.16/x64/lib/python3.9/site-packages/arxiv_on_deck_2/latex.py:292: LatexWarning: Latex injecting: 'defns' from 'tmp_2302.07342/defns.tex'\n",
      "  warnings.warn(LatexWarning(f\"Latex injecting: '{ext}' from '{subsource}'\"))\n"
     ]
    },
    {
     "name": "stdout",
     "output_type": "stream",
     "text": [
      "extracting tarball to tmp_2302.07378..."
     ]
    },
    {
     "name": "stdout",
     "output_type": "stream",
     "text": [
      " done.\n",
      "Retrieving document from  https://arxiv.org/e-print/2302.07397\n"
     ]
    },
    {
     "name": "stderr",
     "output_type": "stream",
     "text": [
      "/opt/hostedtoolcache/Python/3.9.16/x64/lib/python3.9/site-packages/IPython/core/interactiveshell.py:3460: LatexWarning: Multiple tex files.\n",
      "\n",
      "  exec(code_obj, self.user_global_ns, self.user_ns)\n",
      "/opt/hostedtoolcache/Python/3.9.16/x64/lib/python3.9/site-packages/IPython/core/interactiveshell.py:3460: LatexWarning: Found documentclass in tmp_2302.07378/Quest_DtG_Paper.tex\n",
      "\n",
      "  exec(code_obj, self.user_global_ns, self.user_ns)\n"
     ]
    },
    {
     "name": "stdout",
     "output_type": "stream",
     "text": [
      "extracting tarball to tmp_2302.07397..."
     ]
    },
    {
     "name": "stdout",
     "output_type": "stream",
     "text": [
      " done.\n",
      "Retrieving document from  https://arxiv.org/e-print/2302.07484\n"
     ]
    },
    {
     "name": "stderr",
     "output_type": "stream",
     "text": [
      "/opt/hostedtoolcache/Python/3.9.16/x64/lib/python3.9/site-packages/IPython/core/interactiveshell.py:3460: LatexWarning: Multiple tex files.\n",
      "\n",
      "  exec(code_obj, self.user_global_ns, self.user_ns)\n",
      "/opt/hostedtoolcache/Python/3.9.16/x64/lib/python3.9/site-packages/IPython/core/interactiveshell.py:3460: LatexWarning: Found documentclass in tmp_2302.07397/main.tex\n",
      "\n",
      "  exec(code_obj, self.user_global_ns, self.user_ns)\n"
     ]
    },
    {
     "name": "stdout",
     "output_type": "stream",
     "text": [
      "extracting tarball to tmp_2302.07484..."
     ]
    },
    {
     "name": "stdout",
     "output_type": "stream",
     "text": [
      " done.\n",
      "Retrieving document from  https://arxiv.org/e-print/2302.07494\n"
     ]
    },
    {
     "name": "stdout",
     "output_type": "stream",
     "text": [
      "extracting tarball to tmp_2302.07494..."
     ]
    },
    {
     "name": "stdout",
     "output_type": "stream",
     "text": [
      " done.\n",
      "Retrieving document from  https://arxiv.org/e-print/2302.07497\n"
     ]
    },
    {
     "name": "stdout",
     "output_type": "stream",
     "text": [
      "extracting tarball to tmp_2302.07497..."
     ]
    },
    {
     "name": "stdout",
     "output_type": "stream",
     "text": [
      " done.\n"
     ]
    },
    {
     "name": "stderr",
     "output_type": "stream",
     "text": [
      "/opt/hostedtoolcache/Python/3.9.16/x64/lib/python3.9/site-packages/arxiv_on_deck_2/latex.py:366: LatexWarning: Error parsing the document directly. Trying to recover.\n",
      "  warnings.warn(LatexWarning(f\"Error parsing the document directly. Trying to recover.\"))\n"
     ]
    },
    {
     "name": "stdout",
     "output_type": "stream",
     "text": [
      "✔ → 0:header\n",
      "  ↳ 9004:\\section{Introduction} \\label{sec:Intro}\n"
     ]
    },
    {
     "name": "stdout",
     "output_type": "stream",
     "text": [
      "✔ → 9004:\\section{Introduction} \\label{sec:Intro}\n",
      "  ↳ 17581:\\section{Data Collection and Reduction} \\label{sec:Observations}\n",
      "✔ → 17581:\\section{Data Collection and Reduction} \\label{sec:Observations}\n",
      "  ↳ 20332:\\section{Ground-Based Analysis} \\label{S:Ground}\n"
     ]
    },
    {
     "name": "stdout",
     "output_type": "stream",
     "text": [
      "✘ → 20332:\\section{Ground-Based Analysis} \\label{S:Ground}\n",
      "  ↳ 37005:\\section{Inclusion of Satellite Data} \\label{S:Satellite}\n"
     ]
    },
    {
     "name": "stdout",
     "output_type": "stream",
     "text": [
      "✔ → 37005:\\section{Inclusion of Satellite Data} \\label{S:Satellite}\n",
      "  ↳ 76963:\\section{Physical Parameters} \\label{S:Physical}\n"
     ]
    },
    {
     "name": "stdout",
     "output_type": "stream",
     "text": [
      "✔ → 76963:\\section{Physical Parameters} \\label{S:Physical}\n",
      "  ↳ 86488:\\section{Solution Probabilities} \\label{S:P}\n",
      "✔ → 86488:\\section{Solution Probabilities} \\label{S:P}\n",
      "  ↳ 90928:\\section{Discussion} \\label{S:Discussion}\n"
     ]
    },
    {
     "name": "stdout",
     "output_type": "stream",
     "text": [
      "✔ → 90928:\\section{Discussion} \\label{S:Discussion}\n",
      "  ↳ 98762:\\section{Summary}\n",
      "✔ → 98762:\\section{Summary}\n",
      "  ↳ 101006:end\n"
     ]
    },
    {
     "name": "stderr",
     "output_type": "stream",
     "text": [
      "/opt/hostedtoolcache/Python/3.9.16/x64/lib/python3.9/site-packages/arxiv_on_deck_2/latex.py:118: LatexWarning: attempting recovering figure pm_theoretical_disk\n",
      "  warnings.warn(LatexWarning(f'attempting recovering figure {image}'))\n",
      "/opt/hostedtoolcache/Python/3.9.16/x64/lib/python3.9/site-packages/arxiv_on_deck_2/latex.py:118: LatexWarning: attempting recovering figure final-GP-samplesc+--7931.477392-7968.662699-GPlightcurve\n",
      "  warnings.warn(LatexWarning(f'attempting recovering figure {image}'))\n"
     ]
    },
    {
     "name": "stdout",
     "output_type": "stream",
     "text": [
      "Retrieving document from  https://arxiv.org/e-print/2302.07502\n"
     ]
    },
    {
     "name": "stdout",
     "output_type": "stream",
     "text": [
      "extracting tarball to tmp_2302.07502..."
     ]
    },
    {
     "name": "stdout",
     "output_type": "stream",
     "text": [
      " done.\n",
      "Retrieving document from  https://arxiv.org/e-print/2302.07569\n"
     ]
    },
    {
     "name": "stdout",
     "output_type": "stream",
     "text": [
      "extracting tarball to tmp_2302.07569..."
     ]
    },
    {
     "name": "stdout",
     "output_type": "stream",
     "text": [
      " done.\n",
      "Retrieving document from  https://arxiv.org/e-print/2302.07599\n"
     ]
    },
    {
     "name": "stderr",
     "output_type": "stream",
     "text": [
      "/opt/hostedtoolcache/Python/3.9.16/x64/lib/python3.9/site-packages/IPython/core/interactiveshell.py:3460: LatexWarning: Multiple tex files.\n",
      "\n",
      "  exec(code_obj, self.user_global_ns, self.user_ns)\n",
      "/opt/hostedtoolcache/Python/3.9.16/x64/lib/python3.9/site-packages/IPython/core/interactiveshell.py:3460: LatexWarning: Found documentclass in tmp_2302.07569/sample631.tex\n",
      "\n",
      "  exec(code_obj, self.user_global_ns, self.user_ns)\n"
     ]
    },
    {
     "name": "stdout",
     "output_type": "stream",
     "text": [
      "extracting tarball to tmp_2302.07599... done.\n",
      "Retrieving document from  https://arxiv.org/e-print/2302.07634\n"
     ]
    },
    {
     "name": "stdout",
     "output_type": "stream",
     "text": [
      "extracting tarball to tmp_2302.07634..."
     ]
    },
    {
     "name": "stdout",
     "output_type": "stream",
     "text": [
      " done.\n",
      "Retrieving document from  https://arxiv.org/e-print/2302.07674\n"
     ]
    },
    {
     "name": "stderr",
     "output_type": "stream",
     "text": [
      "/opt/hostedtoolcache/Python/3.9.16/x64/lib/python3.9/site-packages/IPython/core/interactiveshell.py:3460: LatexWarning: Multiple tex files.\n",
      "\n",
      "  exec(code_obj, self.user_global_ns, self.user_ns)\n",
      "/opt/hostedtoolcache/Python/3.9.16/x64/lib/python3.9/site-packages/IPython/core/interactiveshell.py:3460: LatexWarning: Found documentclass in tmp_2302.07634/natbib.tex\n",
      "\n",
      "  exec(code_obj, self.user_global_ns, self.user_ns)\n"
     ]
    },
    {
     "name": "stdout",
     "output_type": "stream",
     "text": [
      "extracting tarball to tmp_2302.07674..."
     ]
    },
    {
     "name": "stdout",
     "output_type": "stream",
     "text": [
      " done.\n",
      "Retrieving document from  https://arxiv.org/e-print/2302.07700\n"
     ]
    },
    {
     "name": "stdout",
     "output_type": "stream",
     "text": [
      "extracting tarball to tmp_2302.07700... done.\n",
      "Retrieving document from  https://arxiv.org/e-print/2302.07713\n"
     ]
    },
    {
     "name": "stdout",
     "output_type": "stream",
     "text": [
      "extracting tarball to tmp_2302.07713..."
     ]
    },
    {
     "name": "stdout",
     "output_type": "stream",
     "text": [
      " done.\n",
      "Retrieving document from  https://arxiv.org/e-print/2302.07714\n"
     ]
    },
    {
     "name": "stderr",
     "output_type": "stream",
     "text": [
      "/opt/hostedtoolcache/Python/3.9.16/x64/lib/python3.9/site-packages/IPython/core/interactiveshell.py:3460: LatexWarning: Multiple tex files.\n",
      "\n",
      "  exec(code_obj, self.user_global_ns, self.user_ns)\n",
      "/opt/hostedtoolcache/Python/3.9.16/x64/lib/python3.9/site-packages/IPython/core/interactiveshell.py:3460: LatexWarning: Found documentclass in tmp_2302.07713/main.tex\n",
      "\n",
      "  exec(code_obj, self.user_global_ns, self.user_ns)\n",
      "/opt/hostedtoolcache/Python/3.9.16/x64/lib/python3.9/site-packages/arxiv_on_deck_2/latex.py:292: LatexWarning: Latex injecting: 'fig2set' from 'tmp_2302.07713/fig2set.tex'\n",
      "  warnings.warn(LatexWarning(f\"Latex injecting: '{ext}' from '{subsource}'\"))\n",
      "/opt/hostedtoolcache/Python/3.9.16/x64/lib/python3.9/site-packages/arxiv_on_deck_2/latex.py:292: LatexWarning: Latex injecting: 'fig1set' from 'tmp_2302.07713/fig1set.tex'\n",
      "  warnings.warn(LatexWarning(f\"Latex injecting: '{ext}' from '{subsource}'\"))\n"
     ]
    },
    {
     "name": "stdout",
     "output_type": "stream",
     "text": [
      "extracting tarball to tmp_2302.07714..."
     ]
    },
    {
     "name": "stdout",
     "output_type": "stream",
     "text": [
      " done.\n",
      "Retrieving document from  https://arxiv.org/e-print/2302.07761\n"
     ]
    },
    {
     "name": "stdout",
     "output_type": "stream",
     "text": [
      "extracting tarball to tmp_2302.07761..."
     ]
    },
    {
     "name": "stdout",
     "output_type": "stream",
     "text": [
      " done.\n",
      "Retrieving document from  https://arxiv.org/e-print/2302.07808\n"
     ]
    },
    {
     "name": "stdout",
     "output_type": "stream",
     "text": [
      "extracting tarball to tmp_2302.07808... done.\n",
      "Retrieving document from  https://arxiv.org/e-print/2302.07853\n"
     ]
    },
    {
     "name": "stdout",
     "output_type": "stream",
     "text": [
      "extracting tarball to tmp_2302.07853..."
     ]
    },
    {
     "name": "stdout",
     "output_type": "stream",
     "text": [
      " done.\n"
     ]
    },
    {
     "name": "stderr",
     "output_type": "stream",
     "text": [
      "/opt/hostedtoolcache/Python/3.9.16/x64/lib/python3.9/site-packages/IPython/core/interactiveshell.py:3460: LatexWarning: Multiple tex files.\n",
      "\n",
      "  exec(code_obj, self.user_global_ns, self.user_ns)\n",
      "/opt/hostedtoolcache/Python/3.9.16/x64/lib/python3.9/site-packages/IPython/core/interactiveshell.py:3460: LatexWarning: Found documentclass in tmp_2302.07853/aa.tex\n",
      "\n",
      "  exec(code_obj, self.user_global_ns, self.user_ns)\n",
      "/opt/hostedtoolcache/Python/3.9.16/x64/lib/python3.9/site-packages/arxiv_on_deck_2/latex.py:292: LatexWarning: Latex injecting: 'tables/table_peaks.tex' from 'tmp_2302.07853/tables/table_peaks.tex'\n",
      "  warnings.warn(LatexWarning(f\"Latex injecting: '{ext}' from '{subsource}'\"))\n",
      "/opt/hostedtoolcache/Python/3.9.16/x64/lib/python3.9/site-packages/arxiv_on_deck_2/latex.py:292: LatexWarning: Latex injecting: 'tables/ages_table.tex' from 'tmp_2302.07853/tables/ages_table.tex'\n",
      "  warnings.warn(LatexWarning(f\"Latex injecting: '{ext}' from '{subsource}'\"))\n",
      "/opt/hostedtoolcache/Python/3.9.16/x64/lib/python3.9/site-packages/arxiv_on_deck_2/latex.py:292: LatexWarning: Latex injecting: 'tables/description_range_parameters' from 'tmp_2302.07853/tables/description_range_parameters.tex'\n",
      "  warnings.warn(LatexWarning(f\"Latex injecting: '{ext}' from '{subsource}'\"))\n"
     ]
    }
   ],
   "source": [
    "documents = []\n",
    "failed = []\n",
    "for paper in tqdm(candidates[:-1]):\n",
    "    paper_id = paper['identifier'].lower().replace('arxiv:', '')\n",
    "    \n",
    "    folder = f'tmp_{paper_id}'\n",
    "\n",
    "    try:\n",
    "        if not os.path.isdir(folder):\n",
    "            folder = retrieve_document_source(f\"{paper_id}\", f'tmp_{paper_id}')\n",
    "        \n",
    "        try:\n",
    "            doc = latex.LatexDocument(folder, validation=validation)    \n",
    "        except AffiliationError as affilerror:\n",
    "            msg = f\"ArXiv:{paper_id:s} is not an MPIA paper... \" + str(affilerror)\n",
    "            failed.append((paper, \"affiliation error: \" + str(affilerror) ))\n",
    "            continue\n",
    "        \n",
    "        # Hack because sometimes author parsing does not work well\n",
    "        if (len(doc.authors) != len(paper['authors'])):\n",
    "            doc._authors = paper['authors']\n",
    "        if (doc.abstract) in (None, ''):\n",
    "            doc._abstract = paper['abstract']\n",
    "            \n",
    "        doc.comment = (get_markdown_badge(paper_id) + \n",
    "                       \"<mark>Appeared on: \" + paper['date'] + \"</mark> - \" +\n",
    "                       \"_\" + paper['comments'] + \"_\")\n",
    "        doc.highlight_authors_in_list(hl_list)\n",
    "\n",
    "        full_md = doc.generate_markdown_text()\n",
    "        \n",
    "        documents.append((paper_id, full_md))\n",
    "    except Exception as e:\n",
    "        warnings.warn(latex.LatexWarning(f\"{paper_id:s} did not run properly\\n\" +\n",
    "                                         str(e)\n",
    "                                        ))\n",
    "        failed.append((paper, \"latex error \" + str(e)))"
   ]
  },
  {
   "cell_type": "markdown",
   "id": "2505a25c",
   "metadata": {
    "papermill": {
     "duration": 0.007047,
     "end_time": "2023-02-16T04:09:44.390934",
     "exception": false,
     "start_time": "2023-02-16T04:09:44.383887",
     "status": "completed"
    },
    "tags": []
   },
   "source": [
    "### Export the logs\n",
    "\n",
    "Throughout, we also keep track of the logs per paper. see `logs-{today date}.md` "
   ]
  },
  {
   "cell_type": "code",
   "execution_count": 6,
   "id": "d733828a",
   "metadata": {
    "execution": {
     "iopub.execute_input": "2023-02-16T04:09:44.406952Z",
     "iopub.status.busy": "2023-02-16T04:09:44.406132Z",
     "iopub.status.idle": "2023-02-16T04:09:44.441533Z",
     "shell.execute_reply": "2023-02-16T04:09:44.440473Z"
    },
    "papermill": {
     "duration": 0.045126,
     "end_time": "2023-02-16T04:09:44.443057",
     "exception": false,
     "start_time": "2023-02-16T04:09:44.397931",
     "status": "completed"
    },
    "scrolled": false,
    "tags": []
   },
   "outputs": [
    {
     "data": {
      "text/markdown": [
       "## Successful papers"
      ],
      "text/plain": [
       "<IPython.core.display.Markdown object>"
      ]
     },
     "metadata": {},
     "output_type": "display_data"
    },
    {
     "data": {
      "text/markdown": [
       "\n",
       "|||\n",
       "|---:|:---|\n",
       "| [![arXiv](https://img.shields.io/badge/arXiv-arXiv:2302.07277-b31b1b.svg)](https://arxiv.org/abs/arXiv:2302.07277) | **On the nature of disks at high redshift seen by JWST/CEERS with  contrastive learning and cosmological simulations**  |\n",
       "|| J. Vega-Ferrero, et al. -- incl., <mark>A. Pillepich</mark>, <mark>S. L. Finkelstein</mark> |\n",
       "|*Appeared on*| *2023-02-16*|\n",
       "|*Comments*| *25 pages, 23 figures. Submitted to ApJ. Comments welcome*|\n",
       "|**Abstract**| Visual inspections of the first optical rest-frame images from JWST have indicated a surprisingly high fraction of disk galaxies at high redshifts. Here we alternatively apply self-supervised machine learning to explore the morphological diversity at $z \\geq 3$. Our proposed data-driven representation scheme of galaxy morphologies, calibrated on mock images from the TNG50 simulation, is shown to be robust to noise and to correlate well with physical properties of the simulated galaxies, including their 3D structure. We apply the method simultaneously to F200W and F356W galaxy images of a mass-complete sample ($M_*/M_\\odot>10^9$) at $z \\geq 3$ from the first JWST/NIRCam CEERS data release. We find that the simulated and observed galaxies do not populate the same manifold in the representation space from contrastive learning, partly because the observed galaxies tend to be more compact and more elongated than the simulated galaxies. We also find that about half the galaxies that were visually classified as disks based on their elongated images actually populate a similar region of the representation space than spheroids, which according to the TNG50 simulation is occupied by objects with low stellar specific angular momentum and non-oblate structure. This suggests that the disk fraction at $z > 3$ as evaluated by visual classification may be severely overestimated by misclassifying compact, elongated galaxies as disks. Deeper imaging and/or spectroscopic follow-ups as well as comparisons with other simulations will help to unambiguously determine the true nature of these galaxies. |"
      ],
      "text/plain": [
       "[arXiv:2302.07277] On the nature of disks at high redshift seen by JWST/CEERS with  contrastive learning and cosmological simulations\n",
       "\tJ. Vega-Ferrero, et al. -- incl., <mark>A. Pillepich</mark>, <mark>S. L. Finkelstein</mark>"
      ]
     },
     "metadata": {},
     "output_type": "display_data"
    },
    {
     "data": {
      "text/markdown": [
       "\n",
       "|||\n",
       "|---:|:---|\n",
       "| [![arXiv](https://img.shields.io/badge/arXiv-arXiv:2302.07497-b31b1b.svg)](https://arxiv.org/abs/arXiv:2302.07497) | **OGLE-2017-BLG-1038: A Possible Brown-dwarf Binary Revealed by Spitzer  Microlensing Parallax**  |\n",
       "|| Amber Malpas, et al. -- incl., <mark>Andrew Gould</mark>, <mark>Antonio Herrera Martin</mark>, <mark>Calen B. Henderson</mark>, <mark>Seung-Lee Kim</mark>, <mark>Chung-Uk Lee</mark>, <mark>Dong-Joo Lee</mark>, <mark>Yongseok Lee</mark> |\n",
       "|*Appeared on*| *2023-02-16*|\n",
       "|*Comments*| *20 pages, 11 figures, 4 tables*|\n",
       "|**Abstract**| We report the analysis of microlensing event OGLE-2017-BLG-1038, observed by the Optical Gravitational Lensing Experiment, Korean Microlensing Telescope Network, and Spitzer telescopes. The event is caused by a giant source star in the Galactic Bulge passing over a large resonant binary lens caustic. The availability of space-based data allows the full set of physical parameters to be calculated. However, there exists an eightfold degeneracy in the parallax measurement. The four best solutions correspond to very-low-mass binaries near ($M_1 = 170^{+40}_{-50} M_J$ and $M_2 = 110^{+20}_{-30} M_J$), or well below ($M_1 = 22.5^{+0.7}_{-0.4} M_J$ and $M_2 = 13.3^{+0.4}_{-0.3} M_J$) the boundary between stars and brown dwarfs. A conventional analysis, with scaled uncertainties for Spitzer data, implies a very-low-mass brown dwarf binary lens at a distance of 2 kpc. Compensating for systematic Spitzer errors using a Gaussian process model suggests that a higher mass M-dwarf binary at 6 kpc is equally likely. A Bayesian comparison based on a galactic model favors the larger-mass solutions. We demonstrate how this degeneracy can be resolved within the next ten years through infrared adaptive-optics imaging with a 40 m class telescope. |"
      ],
      "text/plain": [
       "[arXiv:2302.07497] OGLE-2017-BLG-1038: A Possible Brown-dwarf Binary Revealed by Spitzer  Microlensing Parallax\n",
       "\tAmber Malpas, et al. -- incl., <mark>Andrew Gould</mark>, <mark>Antonio Herrera Martin</mark>, <mark>Calen B. Henderson</mark>, <mark>Seung-Lee Kim</mark>, <mark>Chung-Uk Lee</mark>, <mark>Dong-Joo Lee</mark>, <mark>Yongseok Lee</mark>"
      ]
     },
     "metadata": {},
     "output_type": "display_data"
    },
    {
     "data": {
      "text/markdown": [
       "## Failed papers"
      ],
      "text/plain": [
       "<IPython.core.display.Markdown object>"
      ]
     },
     "metadata": {},
     "output_type": "display_data"
    },
    {
     "data": {
      "text/markdown": [
       "\n",
       "|||\n",
       "|---:|:---|\n",
       "| [![arXiv](https://img.shields.io/badge/arXiv-arXiv:2302.07502-b31b1b.svg)](https://arxiv.org/abs/arXiv:2302.07502) | **IC 5146 dark Streamer: is a first reliable candidate of edge collapse,  hub-filament systems, and intertwined sub-filaments?**  |\n",
       "|| L. K. Dewangan, et al. -- incl., <mark>C. W. Lee</mark> |\n",
       "|*Appeared on*| *2023-02-16*|\n",
       "|*Comments*| *22 pages, 11 figures, Accepted for publication in The Astrophysical Journal*|\n",
       "|**Abstract**| The paper presents an analysis of multi-wavelength data of a nearby star-forming site IC 5146 dark Streamer (d $\\sim$600 pc), which has been treated as a single and long filament, fl. Two hub-filament systems (HFSs) are known toward the eastern and the western ends of fl. Earlier published results favor the simultaneous evidence of HFSs and the end-dominated collapse (EDC) in fl. Herschel column density map (resolution $\\sim$13$''$.5) reveals two intertwined sub-filaments (i.e., fl-A and fl-B) toward fl, displaying a nearly double helix-like structure. This picture is also supported by the C$^{18}$O(3-2) emission. The scenario \"fray and fragment\" may explain the origin of intertwined sub-filaments. In the direction of fl, two cloud components around 2 and 4 km s$^{-1}$ are depicted using the $^{13}$CO(1-0) and C$^{18}$O(1-0) emission, and are connected in velocity space. The HFSs are spatially found at the overlapping areas of these cloud components and can be explained by the cloud-cloud collision scenario. Non-thermal gas motion in fl with larger Mach number is found. The magnetic field position angle measured from the filament's long axis shows a linear trend along the filament. This signature is confirmed in the other nearby EDC filaments, presenting a more quantitative confirmation of the EDC scenario. Based on our observational outcomes, we witness multiple processes operational in IC 5146 Streamer. Overall, the Streamer can be recognized as the first reliable candidate of edge collapse, HFSs, and intertwined sub-filaments together. |\n",
       "|<p style=\"color:green\"> **ERROR** </p>| <p style=\"color:green\">affiliation error: mpia.affiliation_verifications: '69117' keyword not found.</p> |"
      ],
      "text/plain": [
       "<IPython.core.display.Markdown object>"
      ]
     },
     "metadata": {},
     "output_type": "display_data"
    },
    {
     "data": {
      "text/markdown": [
       "\n",
       "|||\n",
       "|---:|:---|\n",
       "| [![arXiv](https://img.shields.io/badge/arXiv-arXiv:2302.07713-b31b1b.svg)](https://arxiv.org/abs/arXiv:2302.07713) | **Characterization of low-mass companions to $\\textit{Kepler}$ objects of  interest observed with APOGEE-N**  |\n",
       "|| Caleb I. Cañas, et al. -- incl., <mark>Suvrath Mahadevan</mark>, <mark>Nathan De Lee</mark>, <mark>Fred Hearty</mark> |\n",
       "|*Appeared on*| *2023-02-16*|\n",
       "|*Comments*| *98 pages (include 56 for the figure sets), 10 tables, 7 figures, 2 figure sets, accepted for publication in ApJS*|\n",
       "|**Abstract**| We report the characterization of 28 low-mass ($0.02\\mathrm{~M_\\odot}\\le\\mathrm{~M_{2}}\\le0.25\\mathrm{~M_\\odot}$) companions to $\\textit{Kepler}$ objects of interest (KOIs), eight of which were previously designated confirmed planets. These objects were detected as transiting companions to Sun-like stars (G and F dwarfs) by the $\\textit{Kepler}$ mission and are confirmed as single-lined spectroscopic binaries in the current work using the northern multiplexed Apache Point Observatory Galactic Evolution Experiment near-infrared spectrograph (APOGEE-N) as part of the third and fourth Sloan Digital Sky Surveys. We have observed hundreds of KOIs using APOGEE-N and collected a total of 43,175 spectra with a median of 19 visits and a median baseline of $\\sim1.9$ years per target. We jointly model the $\\textit{Kepler}$ photometry and APOGEE-N radial velocities to derive fundamental parameters for this subset of 28 transiting companions. The radii for most of these low-mass companions are over-inflated (by $\\sim10\\%$) when compared to theoretical models. Tidally locked M dwarfs on short period orbits show the largest amount of inflation, but inflation is also evident for companions that are well separated from the host star. We demonstrate that APOGEE-N data provides reliable radial velocities when compared to precise high-resolution spectrographs that enable detailed characterization of individual systems and the inference of orbital elements for faint ($H>12$) KOIs. The data from the entire APOGEE-KOI program is public and presents an opportunity to characterize an extensive subset of the binary population observed by $\\textit{Kepler}$. |\n",
       "|<p style=\"color:green\"> **ERROR** </p>| <p style=\"color:green\">affiliation error: mpia.affiliation_verifications: '69117' keyword not found.</p> |"
      ],
      "text/plain": [
       "<IPython.core.display.Markdown object>"
      ]
     },
     "metadata": {},
     "output_type": "display_data"
    },
    {
     "data": {
      "text/markdown": [
       "\n",
       "|||\n",
       "|---:|:---|\n",
       "| [![arXiv](https://img.shields.io/badge/arXiv-arXiv:2302.07273-b31b1b.svg)](https://arxiv.org/abs/arXiv:2302.07273) | **Three-dimensional dynamics of strongly twisted magnetar magnetospheres:  Kinking flux tubes and global eruptions**  |\n",
       "|| <mark>J. F. Mahlmann</mark>, et al. |\n",
       "|*Appeared on*| *2023-02-16*|\n",
       "|*Comments*| *21 pages, 11 figures, submitted to ApJL*|\n",
       "|**Abstract**| The origin of the various outbursts of hard X-rays from magnetars, highly magnetized neutron stars, is still unknown. We identify instabilities in relativistic magnetospheres that can explain a range of X-ray flare luminosities. Crustal surface motions can twist the magnetar magnetosphere by shifting the frozen-in footpoints of magnetic field lines in current-carrying flux bundles. Axisymmetric (2D) magnetospheres exhibit strong eruptive dynamics, as to say, catastrophic lateral instabilities triggered by a critical footpoint displacement of $\\psi_{\\rm crit}\\gtrsim\\pi$. In contrast, our new three-dimensional (3D) twist models with finite surface extension capture important non-axisymmetric dynamics of twisted force-free flux bundles in dipolar magnetospheres. Besides the well-established global eruption resulting (as in 2D) from lateral instabilities, such 3D structures can develop helical, kink-like dynamics, and dissipate energy locally (confined eruptions). Up to $25\\%$ of the induced twist energy is dissipated and available to power X-ray flares in powerful global eruptions, with most of our models showing an energy release in the range of the most common X-ray outbursts, $\\lesssim 10^{43}$erg. Such events occur when significant energy builds up deeply buried in the dipole magnetosphere. Less energetic outbursts likely precede powerful flares due to intermittent instabilities and confined eruptions of a continuously twisting flux tube. Upon reaching a critical state, global eruptions produce the necessary Poynting-flux-dominated outflows required by models prescribing the fast radio burst production in the magnetar wind, for example, via relativistic magnetic reconnection or shocks. |\n",
       "|<p style=\"color:green\"> **ERROR** </p>| <p style=\"color:green\">affiliation error: mpia.affiliation_verifications: 'Heidelberg' keyword not found.</p> |"
      ],
      "text/plain": [
       "<IPython.core.display.Markdown object>"
      ]
     },
     "metadata": {},
     "output_type": "display_data"
    },
    {
     "data": {
      "text/markdown": [
       "\n",
       "|||\n",
       "|---:|:---|\n",
       "| [![arXiv](https://img.shields.io/badge/arXiv-arXiv:2302.07274-b31b1b.svg)](https://arxiv.org/abs/arXiv:2302.07274) | **Discovery of Dust Emission Activity Emanating from Main-belt Asteroid  2015 FW412**  |\n",
       "|| Colin Orion Chandler, et al. -- incl., <mark>Henry H. Hsieh</mark> |\n",
       "|*Appeared on*| *2023-02-16*|\n",
       "|*Comments*| *4 pages, 1 figure*|\n",
       "|**Abstract**| We present the discovery of activity emanating from main-belt asteroid 2015 FW412, a finding stemming from the Citizen Science project Active Asteroids, a NASA Partner program. We identified a pronounced tail originating from 2015 FW412 and oriented in the anti-motion direction in archival Blanco 4-m (Cerro Tololo Inter-American Observatory, Chile) Dark Energy Camera (DECam) images from UT 2015 April 13, 18, 19, 21 and 22. Activity occurred near perihelion, consistent with the main-belt comets (MBCs), an active asteroid subset known for sublimation-driven activity in the main asteroid belt; thus 2015 FW412 is a candidate MBC. We did not detect activity on UT 2021 December 12 using the Inamori-Magellan Areal Camera and Spectrograph (IMACS) on the 6.5 m Baade telescope, when 2015 FW412 was near aphelion. |\n",
       "|<p style=\"color:green\"> **ERROR** </p>| <p style=\"color:green\">affiliation error: mpia.affiliation_verifications: 'Heidelberg' keyword not found.</p> |"
      ],
      "text/plain": [
       "<IPython.core.display.Markdown object>"
      ]
     },
     "metadata": {},
     "output_type": "display_data"
    },
    {
     "data": {
      "text/markdown": [
       "\n",
       "|||\n",
       "|---:|:---|\n",
       "| [![arXiv](https://img.shields.io/badge/arXiv-arXiv:2302.07284-b31b1b.svg)](https://arxiv.org/abs/arXiv:2302.07284) | **On the Likely Dynamical Origin of GW191109 and of Binary Black Hole  Mergers with Negative Effective Spin**  |\n",
       "|| <mark>Rachel C. Zhang</mark>, Giacomo Fragione, Chase Kimball, Vicky Kalogera |\n",
       "|*Appeared on*| *2023-02-16*|\n",
       "|*Comments*| *Submitted to ApJ, comments welcome*|\n",
       "|**Abstract**| With the growing number of binary black hole (BBH) mergers detected by LIGO/Virgo/KAGRA, several systems have become difficult to explain via isolated binary evolution, having components in the pair-instability mass gap, high orbital eccentricities, and/or spin-orbit misalignment. Here, we focus on GW191109\\_010717, a BBH merger with component masses of $65^{+11}_{-11}$ and $47^{+15}_{-13}$ $\\rm M_{\\odot}$, and effective spin $-0.29^{+0.42}_{-0.31}$, which implies a spin-orbit misalignment of more than $\\pi/2$ radians for at least one of its components. Besides its component masses being in the pair-instability mass gap, we show that isolated binary evolution is unlikely to reproduce the spin-orbit misalignment of GW191109 with high confidence. On the other hand, we demonstrate that BBHs dynamically assembled in dense star clusters would naturally reproduce the spin-orbit misalignment and the masses of GW191109, and the rates of GW191109-like events, if at least one of the components were to be a second-generation BH. Finally, we generalize our results to all the events with a measured negative effective spin, arguing that GW200225 also has a likely dynamical origin. |\n",
       "|<p style=\"color:green\"> **ERROR** </p>| <p style=\"color:green\">affiliation error: mpia.affiliation_verifications: 'Heidelberg' keyword not found.</p> |"
      ],
      "text/plain": [
       "<IPython.core.display.Markdown object>"
      ]
     },
     "metadata": {},
     "output_type": "display_data"
    },
    {
     "data": {
      "text/markdown": [
       "\n",
       "|||\n",
       "|---:|:---|\n",
       "| [![arXiv](https://img.shields.io/badge/arXiv-arXiv:2302.07308-b31b1b.svg)](https://arxiv.org/abs/arXiv:2302.07308) | **In-flight validation of Metis Visible-light Polarimeter Coronagraph on  board Solar Orbiter**  |\n",
       "|| <mark>A. Liberatore</mark>, et al. |\n",
       "|*Appeared on*| *2023-02-16*|\n",
       "|*Comments*| *8 pages, 13 figures, 3 tables, paper*|\n",
       "|**Abstract**| Context. The Metis coronagraph is one of the remote-sensing instruments of the ESA/NASA Solar Orbiter mission. Metis is aimed at the study of the solar atmosphere and solar wind by simultaneously acquiring images of the solar corona at two different wavelengths; visible-light (VL) within a band ranging from 580 nm to 640 nm, and in the HI Ly-alpha 121.6 +/- 10 nm ultraviolet (UV) light. The visible-light channel includes a polarimeter with electro-optically modulating Liquid Crystal Variable Retarders (LCVRs) to measure the linearly polarized brightness of the K-corona to derive the electron density. Aims. In this paper, we present the first in-flight validation results of the Metis polarimetric channel together with a comparison to the on-ground calibrations. It is the validation of the first use in deep space (with hard radiation environment) of an electro-optical device: a liquid crystal-based polarimeter. Methods. We used the orientation of the K-corona's linear polarization vector during the spacecraft roll maneuvers for the in-flight calibration. Results. The first in-flight validation of the Metis coronagraph on-board Solar Orbiter shows a good agreement with the on-ground measurements. It confirms the expected visible-light channel polarimetric performance. A final comparison between the first pB obtained by Metis with the polarized brightness (pB) obtained by the space-based coronagraph LASCO and the ground-based coronagraph KCor shows the consistency of the Metis calibrated results. |\n",
       "|<p style=\"color:green\"> **ERROR** </p>| <p style=\"color:green\">affiliation error: mpia.affiliation_verifications: 'Heidelberg' keyword not found.</p> |"
      ],
      "text/plain": [
       "<IPython.core.display.Markdown object>"
      ]
     },
     "metadata": {},
     "output_type": "display_data"
    },
    {
     "data": {
      "text/markdown": [
       "\n",
       "|||\n",
       "|---:|:---|\n",
       "| [![arXiv](https://img.shields.io/badge/arXiv-arXiv:2302.07318-b31b1b.svg)](https://arxiv.org/abs/arXiv:2302.07318) | **Investigating the superorbital modulations in 4U 1909+07, IGR  J16418-4532 and IGR J16479-4514 with Swift XRT, BAT and NuSTAR observations**  |\n",
       "|| Nazma Islam, et al. -- incl., <mark>Katja Pottschmidt</mark> |\n",
       "|*Appeared on*| *2023-02-16*|\n",
       "|*Comments*| *Accepted for publication in the Astrophysical Journal*|\n",
       "|**Abstract**| A puzzling variety of superorbital modulations have been discovered in several supergiant High-Mass X-ray binaries (sgHMXBs). To investigate the mechanisms driving these superorbital modulations, we have analyzed long-term Neil Gehrels Swift Observatory (Swift) Burst Alert Telescope (BAT) observations of three sgHMXBs: 4U 1909+07, IGR J16418-4532 and IGR J16479-4514 and constructed their dynamic power spectra and superorbital intensity profiles. These Swift BAT observations are complemented by pointed Swift X-ray Telescope (XRT) and Nuclear Spectroscopic Telescope Array (NuSTAR) observations performed near the predicted maximum and minimum phase of a single superorbital cycle for each of these sources. The BAT dynamic power spectra show changes in the strength of the superorbital modulation on timescales of years, with either the peak at the fundamental frequency and/or the second harmonic present at different times for all three sources. The pointed Swift XRT and NuSTAR observations show no significant differences between the pulse profiles and spectral parameters at the superorbital maximum and minimum phase. This is likely due to the fact the superorbital modulation had weakened significantly during the times when the NuSTAR observations were carried out for all three sources. The results from the Swift XRT, BAT and NuSTAR analysis indicate the possible presence of multiple co-rotating interaction regions (CIRs) in the stellar winds of the supergiant stars, although a structured stellar wind from the supergiant star due to tidal oscillations cannot be ruled out. |\n",
       "|<p style=\"color:green\"> **ERROR** </p>| <p style=\"color:green\">affiliation error: mpia.affiliation_verifications: 'Heidelberg' keyword not found.</p> |"
      ],
      "text/plain": [
       "<IPython.core.display.Markdown object>"
      ]
     },
     "metadata": {},
     "output_type": "display_data"
    },
    {
     "data": {
      "text/markdown": [
       "\n",
       "|||\n",
       "|---:|:---|\n",
       "| [![arXiv](https://img.shields.io/badge/arXiv-arXiv:2302.07333-b31b1b.svg)](https://arxiv.org/abs/arXiv:2302.07333) | **Early dark energy constraints with late-time expansion marginalization**  |\n",
       "|| João Rebouças, et al. -- incl., <mark>Elisabeth Krause</mark> |\n",
       "|*Appeared on*| *2023-02-16*|\n",
       "|*Comments*| *22 pages, 9 figures*|\n",
       "|**Abstract**| Early dark energy (EDE) is an extension to the $\\Lambda$CDM model, proposed to reduce the tension between the measurements of the Hubble constant $H_0$ from the cosmic microwave background (CMB) and from the local cosmic distance ladder. However, this model increases the $S_8$ tension between CMB and large scale structure measurements. Analyses of galaxy clustering and lensing correlation functions report a decreased preference for EDE and its effect on the Hubble tension. Smooth dark energy models affect growth of structure through the background expansion. In this work, we study the inclusion of a general, smooth late-time dark energy modification in combination with EDE and obtain constraints on EDE marginalized over the late-time expansion. We assess the impact on the $S_8$ and Hubble tensions. In order to generalize the late expansion, we use a late dark energy fluid model with a piecewise constant equation of state $w(z)$ over 3, 5 and 10 redshift bins in the window $z \\in [0,3]$. We show that, when analyzing ACT and Planck CMB data combined with Pantheon supernovae, BAO from 6dF, SDSS and BOSS, Planck 2018 CMB lensing and Dark Energy Survey cosmic shear and clustering data, the inclusion of a general smooth dark energy modification at late times has no significant effect on $S_8$ and EDE parameter constraints. Using the aforementioned datasets, the EDE fraction constraint with late-time expansion marginalization is $f_\\mathrm{EDE} = 0.067^{+0.019}_{-0.027}$ using 3 redshift bins, with similar results for 5 and 10 redshift bins. This work shows that in order to solve simultaneously the Hubble and $S_8$ tensions, one needs a mechanism for increasing the clustering of matter at late times different from a simple change in the background evolution of late dark energy. [Abridged] |\n",
       "|<p style=\"color:green\"> **ERROR** </p>| <p style=\"color:green\">affiliation error: mpia.affiliation_verifications: 'Heidelberg' keyword not found.</p> |"
      ],
      "text/plain": [
       "<IPython.core.display.Markdown object>"
      ]
     },
     "metadata": {},
     "output_type": "display_data"
    },
    {
     "data": {
      "text/markdown": [
       "\n",
       "|||\n",
       "|---:|:---|\n",
       "| [![arXiv](https://img.shields.io/badge/arXiv-arXiv:2302.07342-b31b1b.svg)](https://arxiv.org/abs/arXiv:2302.07342) | **UV/Optical disk reverberation lags despite a faint X-ray corona in the  AGN Mrk 335**  |\n",
       "|| Erin Kara, et al. -- incl., <mark>Yan-Rong Li</mark>, <mark>Lisabeth Santana</mark>, <mark>Juan V. Hernandez Santisteban</mark>, <mark>Tiffany Lewis</mark> |\n",
       "|*Appeared on*| *2023-02-16*|\n",
       "|*Comments*| *Accepted for publication in the Astrophysical Journal. 15 pages, 8 figures, 3 tables*|\n",
       "|**Abstract**| We present the first results from a 100-day Swift, NICER and ground-based X-ray/UV/optical reverberation mapping campaign of the Narrow-Line Seyfert 1 Mrk 335, when it was in an unprecedented low X-ray flux state. Despite dramatic suppression of the X-ray variability, we still observe UV/optical lags as expected from disk reverberation. Moreover, the UV/optical lags are consistent with archival observations when the X-ray luminosity was >10 times higher. Interestingly, both low- and high-flux states reveal UV/optical lags that are 6-11 times longer than expected from a thin disk. These long lags are often interpreted as due to contamination from the broad line region, however the u band excess lag (containing the Balmer jump from the diffuse continuum) is less prevalent than in other AGN. The Swift campaign showed a low X-ray-to-optical correlation (similar to previous campaigns), but NICER and ground-based monitoring continued for another two weeks, during which the optical rose to the highest level of the campaign, followed ~10 days later by a sharp rise in X-rays. While the low X-ray countrate and relatively large systematic uncertainties in the NICER background make this measurement challenging, if the optical does lead X-rays in this flare, this indicates a departure from the zeroth-order reprocessing picture. If the optical flare is due to an increase in mass accretion rate, this occurs on much shorter than the viscous timescale. Alternatively, the optical could be responding to an intrinsic rise in X-rays that is initially hidden from our line-of-sight. |\n",
       "|<p style=\"color:green\"> **ERROR** </p>| <p style=\"color:green\">affiliation error: mpia.affiliation_verifications: 'Heidelberg' keyword not found.</p> |"
      ],
      "text/plain": [
       "<IPython.core.display.Markdown object>"
      ]
     },
     "metadata": {},
     "output_type": "display_data"
    },
    {
     "data": {
      "text/markdown": [
       "\n",
       "|||\n",
       "|---:|:---|\n",
       "| [![arXiv](https://img.shields.io/badge/arXiv-arXiv:2302.07378-b31b1b.svg)](https://arxiv.org/abs/arXiv:2302.07378) | **The Quest for the Missing Dust: II -- Two Orders of Magnitude of  Evolution in the Dust-to-Gas Ratio Resolved Within Local Group Galaxies**  |\n",
       "|| Christopher J. R. Clark, et al. -- incl., <mark>Matthew W. L. Smith</mark> |\n",
       "|*Appeared on*| *2023-02-16*|\n",
       "|*Comments*| *Accepted for publication in the Astrophysical Journal*|\n",
       "|**Abstract**| We explore evolution in the dust-to-gas ratio with density within four well-resolved Local Group galaxies - the LMC, SMC, M31, and M33. We do this using new ${\\it Herschel}$ maps, which restore extended emission that was missed by previous ${\\it Herschel}$ reductions. This improved data allows us to probe the dust-to-gas ratio across 2.5 orders of magnitude in ISM surface density. We find significant evolution in the dust-to-gas ratio, with dust-to-gas varying with density within each galaxy by up to a factor 22.4. We explore several possible reasons for this, and our favored explanation is dust grain growth in denser regions of ISM. We find that the evolution of the dust-to-gas ratio with ISM surface density is very similar between M31 and M33, despite their large differences in mass, metallicity, and star formation rate; conversely, we find M33 and the LMC to have very different dust-to-gas evolution profiles, despite their close similarity in those properties. Our dust-to-gas ratios address previous disagreement between UV- and FIR-based dust-to-gas estimates for the Magellanic Clouds, removing the disagreement for the LMC, and considerably reducing it for the SMC - with our new dust-to-gas measurements being factors of 2.4 and 2.0 greater than the previous far-infrared estimates, respectively. We also observe that the dust-to-gas ratio appears to fall at the highest densities for the LMC, M31, and M33; this is unlikely to be an actual physical phenomenon, and we posit that it may be due to a combined effect of dark gas, and changing dust mass opacity. |\n",
       "|<p style=\"color:green\"> **ERROR** </p>| <p style=\"color:green\">affiliation error: mpia.affiliation_verifications: 'Heidelberg' keyword not found.</p> |"
      ],
      "text/plain": [
       "<IPython.core.display.Markdown object>"
      ]
     },
     "metadata": {},
     "output_type": "display_data"
    },
    {
     "data": {
      "text/markdown": [
       "\n",
       "|||\n",
       "|---:|:---|\n",
       "| [![arXiv](https://img.shields.io/badge/arXiv-arXiv:2302.07397-b31b1b.svg)](https://arxiv.org/abs/arXiv:2302.07397) | **The 2022 high-energy outburst and radio disappearing act of the magnetar  1E 1547.0-5408**  |\n",
       "|| Marcus E. Lower, et al. -- incl., <mark>Liam Dunn</mark>, <mark>Lin Lin</mark> |\n",
       "|*Appeared on*| *2023-02-16*|\n",
       "|*Comments*| *Accepted to ApJ, 18 pages, 7 figures*|\n",
       "|**Abstract**| We report the radio and high-energy properties of a new outburst from the radio-loud magnetar 1E 1547.0$-$5408. Following the detection of a short burst from the source with Swift-BAT on 2022 April 7, observations by NICER detected an increased flux peaking at $(6.0 \\pm 0.4) \\times 10^{-11}$ erg s$^{-1}$ cm$^{-2}$ in the soft X-ray band, falling to the baseline level of $1.7\\times10^{-11}$ erg s$^{-1}$ cm$^{-2}$ over a 17-day period. Joint spectroscopic measurements by NICER and NuSTAR indicated no change in the hard non-thermal tail despite the prominent increase in soft X-rays. Observations at radio wavelengths with Murriyang, the 64-m Parkes radio telescope, revealed that the persistent radio emission from the magnetar disappeared at least 22 days prior to the initial Swift-BAT detection and was re-detected two weeks later. Such behavior is unprecedented in a radio-loud magnetar, and may point to an unnoticed slow rise in the high-energy activity prior to the detected short-bursts. Finally, our combined radio and X-ray timing revealed the outburst coincided with a spin-up glitch, where the spin-frequency and spin-down rate increased by $2 \\pm 1$ $\\mu$Hz and $(-2.4 \\pm 0.1) \\times 10^{-12}$ s$^{-2}$ respectively. A linear increase in spin-down rate of $(-2.0 \\pm 0.1) \\times 10^{-19}$ s$^{-3}$ was also observed over 147 d of post-outburst timing. Our results suggest that the outburst may have been associated with a reconfiguration of the quasi-polar field lines, likely signalling a changing twist, accompanied by spatially broader heating of the surface and a brief quenching of the radio signal, yet without any measurable impact on the hard X-ray properties. |\n",
       "|<p style=\"color:green\"> **ERROR** </p>| <p style=\"color:green\">affiliation error: mpia.affiliation_verifications: 'Heidelberg' keyword not found.</p> |"
      ],
      "text/plain": [
       "<IPython.core.display.Markdown object>"
      ]
     },
     "metadata": {},
     "output_type": "display_data"
    },
    {
     "data": {
      "text/markdown": [
       "\n",
       "|||\n",
       "|---:|:---|\n",
       "| [![arXiv](https://img.shields.io/badge/arXiv-arXiv:2302.07484-b31b1b.svg)](https://arxiv.org/abs/arXiv:2302.07484) | **Measurement of the matter-radiation equality scale using the extended  Baryon Oscillation Spectroscopic Survey Quasar Sample**  |\n",
       "|| Benedict Bahr-Kalus, David Parkinson, <mark>Eva-Maria Mueller</mark> |\n",
       "|*Appeared on*| *2023-02-16*|\n",
       "|*Comments*| *11 pages, 9 figures*|\n",
       "|**Abstract**| The position of the peak of the matter power spectrum, the so-called turnover scale, is set by the horizon size at the epoch of matter-radiation equality. It can easily be predicted in terms of the physics of the Universe in the relativistic era, and so can be used as a standard ruler, independent of other features present in the matter power spectrum, such as baryon acoustic oscillations (BAO). We use the distribution of quasars measured by the extended Baryon Oscillation Spectroscopic Survey (eBOSS) to determine the turnover scale in a model-independent fashion statistically. We avoid modelling the BAO by down-weighting affected scales in the covariance matrix using the mode deprojection technique. We measure the wavenumber of the peak to be $k_\\mathrm{TO} = \\left( 17.7^{+1.9}_{-1.7} \\right) \\times 10^{-3}h/\\mathrm{Mpc}$, corresponding to a dilation scale of $ D_\\mathrm{V}(z_\\mathrm{eff} = 1.48) = \\left(31.5^{+3.0}_{-3.4}\\right)r_\\mathrm{H}$. This is not competitive with current BAO distance measures in terms of determining the expansion history but does provide a useful cross-check. We combine this measurement with low-redshift distance measurements from type-Ia supernova data from Pantheon and BAO data from eBOSS to make a sound-horizon free estimate of the Hubble-Lema\\^itre parameter and find it to be $H_0=64.8^{+8.4}_{-7.8} \\ \\mathrm{km/s/Mpc}$ with Pantheon, and $H_0=63.3^{+8.2}_{-6.9} \\ \\mathrm{km/s/Mpc}$ with eBOSS BAO. We make predictions for the measurement of the turnover scale by the Dark Energy Spectroscopic Instrument (DESI) survey, the Maunakea Spectroscopic Explorer (MSE) and MegaMapper, which will make more precise and accurate distance determinations. |\n",
       "|<p style=\"color:green\"> **ERROR** </p>| <p style=\"color:green\">affiliation error: mpia.affiliation_verifications: 'Heidelberg' keyword not found.</p> |"
      ],
      "text/plain": [
       "<IPython.core.display.Markdown object>"
      ]
     },
     "metadata": {},
     "output_type": "display_data"
    },
    {
     "data": {
      "text/markdown": [
       "\n",
       "|||\n",
       "|---:|:---|\n",
       "| [![arXiv](https://img.shields.io/badge/arXiv-arXiv:2302.07494-b31b1b.svg)](https://arxiv.org/abs/arXiv:2302.07494) | **eROSITA Final Equatorial-Depth Survey (eFEDS): eFEDS X-ray view of WERGS  Radio Galaxies selected by the Subaru/HSC and VLA/FIRST survey**  |\n",
       "|| Kohei Ichikawa, et al. -- incl., <mark>Junyao Li</mark>, <mark>Teng Liu</mark>, <mark>Yoshihiro Ueda</mark> |\n",
       "|*Appeared on*| *2023-02-16*|\n",
       "|*Comments*| *20 pages, 11 figures, accepted for publication in A&A*|\n",
       "|**Abstract**| We construct the eROSITA X-ray catalog of radio galaxies discovered by the WERGS survey that is made by the cross-matching of the wide-area Subaru/HSC optical survey and VLA/FIRST 1.4 GHz radio survey. We find 393 eROSITA detected radio galaxies in the 0.5--2 keV band in the eFEDS field covering 140~deg$^2$. Thanks to the wide and medium depth eFEDS X-ray survey, the sample contains the rare and most X-ray luminous radio galaxies above the knee of the X-ray luminosity function, spanning 44<log L(0.5-2keV,abs)<46.5 at $1<z<4$. Based on the X-ray properties obtained by the spectral fitting, 37 sources show obscured AGN signature with $\\log (N_\\mathrm{H}/\\mathrm{cm}^{-2})>22$. Those obscured and radio AGN reside in $0.4<z<3.2$, indicating that they are obscured counterparts of the radio-loud quasar, which are missed in the previous optical quasar surveys. By combining radio and X-ray luminosities, the jet production efficiency $\\eta_\\mathrm{jet}$ is investigated, and we find 14 sources with extremely high jet production efficiency at $\\eta_\\mathrm{jet}\\approx1$. This high $\\eta_\\mathrm{jet}$ value might be a result of 1) the decreased radiation efficiency of $\\eta_\\mathrm{rad}<0.1$ due to the low accretion rate for those sources and/or 2) the boosting due to the decline of $L_\\mathrm{bol}$ by a factor of 10--100 by keeping $P_\\mathrm{jet}$ constant in the previous Myr, indicating the experience of the AGN feedback. Finally, inferring the BH masses from the stellar-mass, we find that X-ray luminous sources show the excess of the radio emission with respect to the value estimated from the fundamental plane. Such radio emission excess cannot be explained by the Doppler booming alone, and therefore disk-jet connection of X-ray luminous eFEDS-WERGS is fundamentally different from the conventional fundamental plane which mainly covers low accretion regime. |\n",
       "|<p style=\"color:green\"> **ERROR** </p>| <p style=\"color:green\">affiliation error: mpia.affiliation_verifications: 'Heidelberg' keyword not found.</p> |"
      ],
      "text/plain": [
       "<IPython.core.display.Markdown object>"
      ]
     },
     "metadata": {},
     "output_type": "display_data"
    },
    {
     "data": {
      "text/markdown": [
       "\n",
       "|||\n",
       "|---:|:---|\n",
       "| [![arXiv](https://img.shields.io/badge/arXiv-arXiv:2302.07569-b31b1b.svg)](https://arxiv.org/abs/arXiv:2302.07569) | **Beam pattern evolution of accreting X-ray pulsar 1A 0535+262 during its  2020 giant outburst**  |\n",
       "|| Y. F. Hu, et al. -- incl., <mark>S. N. Zhang</mark>, <mark>S. Zhang</mark> |\n",
       "|*Appeared on*| *2023-02-16*|\n",
       "|*Comments*| *14 pages, 8 figures. Accepted by ApJ*|\n",
       "|**Abstract**| We report on pulse profile decomposition analysis of a bright transient X-ray pulsar 1A 0535+262 using the broadband Insight-HXMT observations during a giant outburst of the source in 2020. We show that the observed pulse profile shape can be described in terms of a combination of two symmetric single-pole contributions for wide range of energies and luminosities for a fixed geometry defining basic geometry of the pulsar. This corresponds to a slightly distorted dipole magnetic field, i.e., one pole has to be offset by $\\sim 12^{\\circ}$ from the antipodal position of the other pole. We reconstruct the intrinsic beam patterns of the pulsar assuming the geometry recovered from the decomposition analysis, and find evidence for a transition between \"pencil\" and \"fan\" beams in energy ranges above the cyclotron line energy which can be interpreted as transition from sub- to super-critical accretion regimes associated with onset of an accretion column. At lower energies the beam pattern appears, however, to be more complex, and contains substantial \"fan\" beam and an additional \"pencil\" beam component at all luminosities. The latter is not related to the accretion rate and is stronger in the fading phase of the outburst. We finally discuss results in context of other observational and theoretical findings earlier reported for the source in the literature. |\n",
       "|<p style=\"color:green\"> **ERROR** </p>| <p style=\"color:green\">affiliation error: mpia.affiliation_verifications: 'Heidelberg' keyword not found.</p> |"
      ],
      "text/plain": [
       "<IPython.core.display.Markdown object>"
      ]
     },
     "metadata": {},
     "output_type": "display_data"
    },
    {
     "data": {
      "text/markdown": [
       "\n",
       "|||\n",
       "|---:|:---|\n",
       "| [![arXiv](https://img.shields.io/badge/arXiv-arXiv:2302.07599-b31b1b.svg)](https://arxiv.org/abs/arXiv:2302.07599) | **The Star Formation History and Dust Production in Andromeda IX**  |\n",
       "|| <mark>Hedieh Abdollahi</mark>, et al. |\n",
       "|*Appeared on*| *2023-02-16*|\n",
       "|*Comments*| *Proceedings of IAUS373 \"Resolving the Rise and Fall of Star Formation in Galaxies\", August 2 - 11, 2022*|\n",
       "|**Abstract**| Local Group (LG), the nearest and most complete galactic environment, provides valuable information on the formation and evolution of the Universe. Studying galaxies of different sizes, morphologies, and ages can provide this information. For this purpose, we chose the And\\,IX dSph galaxy, which is one of the observational targets of the Isaac Newton Telescope (INT) survey. A total of 50 long-period variables (LPVs) were found in And\\,IX in two filters, Sloan $i'$ and Harris $V$ at a half-light radius of 2.5 arcmin. The And\\,IX's star formation history (SFH) was constructed with a maximum star formation rate (SFR) of about $0.00082\\pm0.00031$ M$_\\odot$ yr$^{-1}$, using LPVs as a tracer. The total mass return rate of LPVs was calculated based on the spectral energy distribution (SED) of about $2.4\\times10^{-4}$ M$_\\odot$ yr$^{-1}$. The distance modulus of $24.56_{-0.15}^{+0.05}$ mag was estimated based on the tip of the red giant branch (TRGB). |\n",
       "|<p style=\"color:green\"> **ERROR** </p>| <p style=\"color:green\">affiliation error: mpia.affiliation_verifications: 'Heidelberg' keyword not found.</p> |"
      ],
      "text/plain": [
       "<IPython.core.display.Markdown object>"
      ]
     },
     "metadata": {},
     "output_type": "display_data"
    },
    {
     "data": {
      "text/markdown": [
       "\n",
       "|||\n",
       "|---:|:---|\n",
       "| [![arXiv](https://img.shields.io/badge/arXiv-arXiv:2302.07634-b31b1b.svg)](https://arxiv.org/abs/arXiv:2302.07634) | **Density Structure of Centrally Concentrated Prestellar Cores from  Multi-scale Observations**  |\n",
       "|| Dipen Sahu, et al. -- incl., <mark>Sheng-Yuan Liu</mark>, <mark>Tie Liu</mark>, <mark>Chin-Fei Lee</mark>, <mark>Shanghuo Li</mark>, <mark>Chang Won Lee</mark>, <mark>Jeong-Eun Lee</mark> |\n",
       "|*Appeared on*| *2023-02-16*|\n",
       "|*Comments*| *Accepted for publication in ApJ*|\n",
       "|**Abstract**| Starless cores represent the initial stage of evolution toward (proto)star formation, and a subset of them, known as prestellar cores, with high density (~ 10^6 cm^-3 or higher) and being centrally concentrated are expected to be embryos of (proto)stars. Determining the density profile of prestellar cores, therefore provides an important opportunity to gauge the initial conditions of star formation. In this work, we perform rigorous modeling to estimate the density profiles of three nearly spherical prestellar cores among a sample of five highly dense cores detected by our recent observations. We employed multi-scale observational data of the (sub)millimeter dust continuum emission including those obtained by SCUBA-2 on the JCMT with a resolution of ~5600 au and by multiple ALMA observations with a resolution as high as ~480 au. We are able to consistently reproduce the observed multi-scale dust continuum images of the cores with a simple prescribed density profile, which bears an inner region of flat density and a r^-2 profile toward the outer region. By utilizing the peak density and the size of the inner flat region as a proxy for the dynamical stage of the cores, we find that the three modeled cores are most likely unstable and prone to collapse. The sizes of the inner flat regions, as compact as ~500 au, signify them being the highly evolved prestellar cores rarely found to date. |\n",
       "|<p style=\"color:green\"> **ERROR** </p>| <p style=\"color:green\">affiliation error: mpia.affiliation_verifications: 'Heidelberg' keyword not found.</p> |"
      ],
      "text/plain": [
       "<IPython.core.display.Markdown object>"
      ]
     },
     "metadata": {},
     "output_type": "display_data"
    },
    {
     "data": {
      "text/markdown": [
       "\n",
       "|||\n",
       "|---:|:---|\n",
       "| [![arXiv](https://img.shields.io/badge/arXiv-arXiv:2302.07674-b31b1b.svg)](https://arxiv.org/abs/arXiv:2302.07674) | **The Isaac Newton Telescope Monitoring Survey of Local Group Dwarf  Galaxies. VI. The Star Formation History and Dust Production in Andromeda IX**  |\n",
       "|| <mark>Hedieh Abdollahi</mark>, et al. -- incl., <mark>Hamidreza Mahani</mark> |\n",
       "|*Appeared on*| *2023-02-16*|\n",
       "|*Comments*| *Accepted for publication in ApJ*|\n",
       "|**Abstract**| We present a photometric study of the resolved stellar populations in And\\,IX, the closest satellite to the M31, a metal-poor and low-mass dwarf spheroidal galaxy. We estimate a distance modulus of $24.56_{-0.15}^{+0.05}$ mag based on the tip of the red giant branch (TRGB). By probing the variability of asymptotic giant branch stars (AGB), we study the star formation history of And\\,IX. We identified 50 long period variables (LPVs) in And\\,IX using the Isaac Newton Telescope (INT) in two filters, Sloan $i'$ and Harris $V$. In this study, we selected LPVs within two half-light radii with amplitudes in the range of $0.2-2.20$ mag. It is found that the peak of star formation reaches $\\sim$ $8.2\\pm3.1\\times10^{-4}$ M$\\textsubscript{\\(\\odot\\)}$ yr$^{-1}$ at $\\approx 6$ Gyr ago. Our findings suggest an outside-in galaxy formation scenario for And\\,IX with a quenching occurring $3.80_{-0.27}^{+1.82}$ Gyr ago with the SFR in the order of $2.0\\times10^{-4}$ M$\\textsubscript{\\(\\odot\\)}$ yr$^{-1}$ at redshift < $0.5$. We calculate the total stellar mass by integrating the star formation rate (SFR) within two half-light radii $\\sim$ $3.0\\times10^5$ M$\\textsubscript{\\(\\odot\\)}$. By employing the spectral energy distribution (SED) fitting for observed LPVs in And\\,IX, we evaluate the mass-loss rate in the range of $10^{-7}$ $\\leq$ $\\dot{M}$ $\\leq$ $10^{-5}$ M$\\textsubscript{\\(\\odot\\)}$ yr$^{-1}$. Finally, we show that the total mass deposition to the interstellar medium (ISM) is $\\sim$ $2.4\\times10^{-4}$ M$\\textsubscript{\\(\\odot\\)}$ yr$^{-1}$ from the C- and O-rich type of dust-enshrouded LPVs. The ratio of the total mass returned to the ISM by LPVs to the total stellar mass is $\\sim 8.0\\times10^{-10}$ yr$^{-1}$, and so at this rate, it would take $\\sim$ 1 Gyr to reproduce this galaxy |\n",
       "|<p style=\"color:green\"> **ERROR** </p>| <p style=\"color:green\">affiliation error: mpia.affiliation_verifications: 'Heidelberg' keyword not found.</p> |"
      ],
      "text/plain": [
       "<IPython.core.display.Markdown object>"
      ]
     },
     "metadata": {},
     "output_type": "display_data"
    },
    {
     "data": {
      "text/markdown": [
       "\n",
       "|||\n",
       "|---:|:---|\n",
       "| [![arXiv](https://img.shields.io/badge/arXiv-arXiv:2302.07700-b31b1b.svg)](https://arxiv.org/abs/arXiv:2302.07700) | **Self-Supervised Learning for Modeling Gamma-ray Variability in Blazars**  |\n",
       "|| <mark>Aryeh Brill</mark> |\n",
       "|*Appeared on*| *2023-02-16*|\n",
       "|*Comments*| *2nd Annual AAAI Workshop on AI to Accelerate Science and Engineering (AI2ASE), this https URL Updated reference and typo correction in this version (H=32, not 64)*|\n",
       "|**Abstract**| Blazars are active galactic nuclei with relativistic jets pointed almost directly at Earth. Blazars are characterized by strong, apparently stochastic flux variability at virtually all observed wavelengths and timescales, from minutes to years, the physical origin of which is still poorly understood. In the high-energy gamma-ray band, the Large Area Telescope aboard the Fermi space telescope (Fermi-LAT) has conducted regular monitoring of thousands of blazars since 2008. Deep learning can help uncover structure in gamma-ray blazars' complex variability patterns that traditional methods based on parametric statistical modeling or manual feature engineering may miss. In this work, we propose using a self-supervised Transformer encoder architecture to construct an effective representation of blazar gamma-ray variability. Measurement errors, upper limits, and missing data are accommodated using learned encodings. The model predicts a set of quantiles for the flux probability distribution at each time step, an architecture naturally suited for describing data generated by a stochastic process. As a proof of concept for how the model output can be analyzed to extract scientifically relevant information, a preliminary search for weekly-timescale time-reversal asymmetry in gamma-ray blazar light curves was conducted, finding no significant evidence for asymmetry. |\n",
       "|<p style=\"color:green\"> **ERROR** </p>| <p style=\"color:green\">affiliation error: mpia.affiliation_verifications: 'Heidelberg' keyword not found.</p> |"
      ],
      "text/plain": [
       "<IPython.core.display.Markdown object>"
      ]
     },
     "metadata": {},
     "output_type": "display_data"
    },
    {
     "data": {
      "text/markdown": [
       "\n",
       "|||\n",
       "|---:|:---|\n",
       "| [![arXiv](https://img.shields.io/badge/arXiv-arXiv:2302.07714-b31b1b.svg)](https://arxiv.org/abs/arXiv:2302.07714) | **TOI-3984 A b and TOI-5293 A b: two temperate gas giants transiting mid-M  dwarfs in wide binary systems**  |\n",
       "|| Caleb I. Cañas, et al. -- incl., <mark>Jessica Libby-Roberts</mark>, <mark>Andrea S.J. Lin</mark>, <mark>Suvrath Mahadevan</mark>, <mark>Franklin A.L. Chapman</mark>, <mark>Henry A. Kobulnicky</mark> |\n",
       "|*Appeared on*| *2023-02-16*|\n",
       "|*Comments*| *Submitted to AJ, 42 pages, 14 figures. arXiv admin note: substantial text overlap with arXiv:2201.09963*|\n",
       "|**Abstract**| We confirm the planetary nature of two gas giants discovered by TESS to transit M dwarfs with stellar companions at wide separations. TOI-3984 A ($J=11.93$) is an M4 dwarf hosting a short-period ($4.353326 \\pm 0.000005$ days) gas giant ($M_p=0.14\\pm0.03~\\mathrm{M_{J}}$ and $R_p=0.71\\pm0.02~\\mathrm{R_{J}}$) with a wide separation white dwarf companion. TOI-5293 A ($J=12.47$) is an M3 dwarf hosting a short-period ($2.930289 \\pm 0.000004$ days) gas giant ($M_p=0.54\\pm0.07~\\mathrm{M_{J}}$ and $R_p=1.06\\pm0.04~\\mathrm{R_{J}}$) with a wide separation M dwarf companion. We characterize both systems using a combination of ground-based and space-based photometry, speckle imaging, and high-precision radial velocities from the Habitable-zone Planet Finder and NEID spectrographs. TOI-3984 A b ($T_{eq}=563\\pm15$ K and $\\mathrm{TSM}=138_{-27}^{+29}$) and TOI-5293 A b ($T_{eq}=675_{-30}^{+42}$ K and $\\mathrm{TSM}=92\\pm14$) are two of the coolest gas giants among the population of hot Jupiter-sized gas planets orbiting M dwarfs and are favorable targets for atmospheric characterization of temperate gas giants and three-dimensional obliquity measurements to probe system architecture and migration scenarios. |\n",
       "|<p style=\"color:green\"> **ERROR** </p>| <p style=\"color:green\">affiliation error: mpia.affiliation_verifications: 'Heidelberg' keyword not found.</p> |"
      ],
      "text/plain": [
       "<IPython.core.display.Markdown object>"
      ]
     },
     "metadata": {},
     "output_type": "display_data"
    },
    {
     "data": {
      "text/markdown": [
       "\n",
       "|||\n",
       "|---:|:---|\n",
       "| [![arXiv](https://img.shields.io/badge/arXiv-arXiv:2302.07761-b31b1b.svg)](https://arxiv.org/abs/arXiv:2302.07761) | **The first JWST spectrum of a GRB afterglow: No bright supernova in  observations of the brightest GRB of all time, GRB 221009A**  |\n",
       "|| A. J. Levan, et al. -- incl., <mark>E. Burns</mark>, <mark>C. L. Hedges</mark>, <mark>K. E. Heintz</mark> |\n",
       "|*Appeared on*| *2023-02-16*|\n",
       "|*Comments*| *Submitted to the Astrophysical Journal Letters for the GRB 221009A Special Issue. The results of this paper are under press embargo. 18 pages, 8 figures, 2 tables*|\n",
       "|**Abstract**| We present JWST and Hubble Space Telescope (HST) observations of the afterglow of GRB\\,221009A, the brightest gamma-ray burst (GRB) ever observed. Observations obtained with NIRSPEC (0.6-5.5 micron) and MIRI (5-12 micron) 12 days after the burst are the first mid-IR spectroscopy performed for a GRB. Assuming the underlying slope is that of a single power-law, we obtain $\\beta \\approx 0.35$ and $A_V = 4.9$, in excess of the notional Galactic value. This is suggestive of extinction above the notional Galactic value, possibly due to patchy extinction within the Milky Way or dust in the GRB host galaxy. It further implies that the X-ray and optical/IR regimes are not on the same branch of the synchrotron spectrum of the afterglow. If the cooling break lies between the X-ray and optical/IR, then the temporal declines would only match for a post jet break, ISM medium and electron index with $p<2$. The shape of the JWST spectrum is near-identical in the optical/nIR to X-shooter spectroscopy obtained at 0.5 days and to later time observations with HST. The lack of spectral evolution suggests the SNe is either substantially fainter or bluer than SN~1998bw. Our {\\em HST} observations also reveal a disc-like host galaxy, viewed close to edge-on that further complicates the isolation of any supernova component. The host galaxy appears rather typical amongst long-GRB hosts and suggests that the extreme properties of GRB 221009A are not directly tied to its galaxy-scale environment. |\n",
       "|<p style=\"color:green\"> **ERROR** </p>| <p style=\"color:green\">affiliation error: mpia.affiliation_verifications: 'Heidelberg' keyword not found.</p> |"
      ],
      "text/plain": [
       "<IPython.core.display.Markdown object>"
      ]
     },
     "metadata": {},
     "output_type": "display_data"
    },
    {
     "data": {
      "text/markdown": [
       "\n",
       "|||\n",
       "|---:|:---|\n",
       "| [![arXiv](https://img.shields.io/badge/arXiv-arXiv:2302.07808-b31b1b.svg)](https://arxiv.org/abs/arXiv:2302.07808) | **The discovery of blue-cored dwarf early-type galaxies in isolated  environments**  |\n",
       "|| Soo-Chang Rey, Suk Kim, Jiwon Chung, <mark>Youngdae Lee</mark> |\n",
       "|*Appeared on*| *2023-02-16*|\n",
       "|*Comments*| *8 pages, 5 figures, accepted for publication in Astrophysical Journal*|\n",
       "|**Abstract**| The presence of blue-cored dwarf early-type galaxies (dE(bc)s) in high-density environments supports the scenario of the transformation of infalling late-type galaxies into quiescent dwarf early-type galaxies by environmental effects. While low-density environments lacking environmental processes could not be relevant to the formation of dE(bc)s, we discovered a large sample of rare dE(bc)s in isolated environments at z < 0.01 using the NASA-Sloan Atlas catalog. Thirty-two isolated dE(bc)s were identified by visual inspection of the Sloan Digital Sky Survey images and g - r color profiles. We found that (1) isolated dE(bc)s exhibit similar structural parameters to dE(bc)s in the Virgo cluster; (2) based on the ultraviolet-r color-magnitude relation, color gradients, and optical emission lines of dE(bc)s, isolated dE(bc)s show more vigorous, centrally concentrated SF compared to their counterparts in the Virgo cluster; (3) at a given stellar mass, isolated dE(bc)s tend to have a larger fraction of gas mass than their Virgo counterparts. We discuss a scenario of episodic SF sustained by gas accretion, suggested by Sanchez Almeida et al., in which the star-bursting blue compact dwarf galaxy (BCD)-quiescent BCD (QBCD) cycle can be repeated during the Hubble time. We suggest that, in this cadence, isolated dE(bc)s might be QBCDs at pre- or post-BCD stages. Our results imply that dE(bc)s comprise a mixture of objects with two types of origins, nature or nurture, depending on their environment. |\n",
       "|<p style=\"color:green\"> **ERROR** </p>| <p style=\"color:green\">affiliation error: mpia.affiliation_verifications: 'Heidelberg' keyword not found.</p> |"
      ],
      "text/plain": [
       "<IPython.core.display.Markdown object>"
      ]
     },
     "metadata": {},
     "output_type": "display_data"
    },
    {
     "data": {
      "text/markdown": [
       "\n",
       "|||\n",
       "|---:|:---|\n",
       "| [![arXiv](https://img.shields.io/badge/arXiv-arXiv:2302.07853-b31b1b.svg)](https://arxiv.org/abs/arXiv:2302.07853) | **The star formation history of the Sco-Cen association: Coherent star  formation patterns in space and time**  |\n",
       "|| Sebastian Ratzenböck, et al. -- incl., <mark>Josefa E. Großschedl</mark> |\n",
       "|*Appeared on*| *2023-02-16*|\n",
       "|*Comments*| *19 pages, 14 figures, preliminary version of this work. Comments welcome. Soon to be submitted to A&A*|\n",
       "|**Abstract**| We reconstruct the star formation history of the Sco-Cen OB association using a novel high-resolution age map of the region. We develop an approach to produce robust ages for Sco-Cen's recently identified 37 stellar clusters using the \\texttt{SigMA} algorithm. The Sco-Cen star formation timeline reveals four periods of enhanced star formation activity, or bursts, remarkably separated by about 5 Myr. Of these, the second burst, which occurred 15 million years ago, is by far the dominant, and most of Sco-Cen's stars and clusters were in place by the end of this burst. The formation of stars and clusters in Sco-Cen is correlated, but not linearly, meaning that more stars were formed per cluster during the peak of star formation rate. Most of the clusters, which are large enough to have supernova precursors, were formed during the 15 Myr period. Star and cluster formation activity has been continuously declining since then. We have clear evidence that Sco-Cen formed from the inside out and contains 100-pc long correlated chains of contiguous clusters exhibiting well-defined age gradients, from massive older clusters to smaller young clusters. These observables suggest an important role for feedback in the formation of about half of Sco-Cen stars, although follow-up work is needed to quantify this statement. Finally, we confirm that the Upper-Sco age controversy discussed in the literature during the last decades is solved: the region toward Upper-Sco, a benchmark region for planet formation studies, contains not one but up to nine clusters spanning ages from 3 to 19 Myr. |\n",
       "|<p style=\"color:green\"> **ERROR** </p>| <p style=\"color:green\">affiliation error: mpia.affiliation_verifications: 'Heidelberg' keyword not found.</p> |"
      ],
      "text/plain": [
       "<IPython.core.display.Markdown object>"
      ]
     },
     "metadata": {},
     "output_type": "display_data"
    }
   ],
   "source": [
    "import datetime\n",
    "today = str(datetime.date.today())\n",
    "logfile = f\"_build/html/logs/log-{today}.md\"\n",
    "\n",
    "\n",
    "with open(logfile, 'w') as logs:\n",
    "    # Success\n",
    "    logs.write(f'# Arxiv on Deck 2: Logs - {today}\\n\\n')\n",
    "    logs.write(\"\"\"* Arxiv had {0:,d} new papers\\n\"\"\".format(len(new_papers)))\n",
    "    logs.write(\"\"\"    * {0:,d} with possible author matches\\n\\n\"\"\".format(len(candidates)))\n",
    "    logs.write(\"## Sucessful papers\\n\\n\")\n",
    "    display(Markdown(\"## Successful papers\"))\n",
    "    success = [k[0] for k in documents]\n",
    "    for candid in candidates:\n",
    "        if candid['identifier'].split(':')[-1] in success:\n",
    "            display(candid)\n",
    "            logs.write(candid.generate_markdown_text() + '\\n\\n')\n",
    "\n",
    "    ## failed\n",
    "    logs.write(\"## Failed papers\\n\\n\")\n",
    "    display(Markdown(\"## Failed papers\"))\n",
    "    failed = sorted(failed, key=lambda x: x[1])\n",
    "    current_reason = \"\"\n",
    "    for paper, reason in failed:\n",
    "        if 'affiliation' in reason:\n",
    "            color = 'green'\n",
    "        else:\n",
    "            color = 'red'\n",
    "        data = Markdown(\n",
    "                paper.generate_markdown_text() + \n",
    "                f'\\n|<p style=\"color:{color:s}\"> **ERROR** </p>| <p style=\"color:{color:s}\">{reason:s}</p> |'\n",
    "               )\n",
    "        if reason != current_reason:\n",
    "            logs.write(f'### {reason:s} \\n\\n')\n",
    "            current_reason = reason\n",
    "        logs.write(data.data + '\\n\\n')\n",
    "        \n",
    "        # only display here the important errors (all in logs)\n",
    "        # if color in ('red',):\n",
    "        display(data)"
   ]
  },
  {
   "cell_type": "markdown",
   "id": "472d20ee",
   "metadata": {
    "papermill": {
     "duration": 0.009827,
     "end_time": "2023-02-16T04:09:44.463051",
     "exception": false,
     "start_time": "2023-02-16T04:09:44.453224",
     "status": "completed"
    },
    "tags": []
   },
   "source": [
    "## Export documents\n",
    "\n",
    "We now write the .md files and export relevant images"
   ]
  },
  {
   "cell_type": "code",
   "execution_count": 7,
   "id": "d426aed9",
   "metadata": {
    "execution": {
     "iopub.execute_input": "2023-02-16T04:09:44.484241Z",
     "iopub.status.busy": "2023-02-16T04:09:44.483643Z",
     "iopub.status.idle": "2023-02-16T04:09:44.490790Z",
     "shell.execute_reply": "2023-02-16T04:09:44.490164Z"
    },
    "papermill": {
     "duration": 0.019307,
     "end_time": "2023-02-16T04:09:44.492209",
     "exception": false,
     "start_time": "2023-02-16T04:09:44.472902",
     "status": "completed"
    },
    "tags": []
   },
   "outputs": [],
   "source": [
    "def export_markdown_summary(md: str, md_fname:str, directory: str):\n",
    "    \"\"\"Export MD document and associated relevant images\"\"\"\n",
    "    import os\n",
    "    import shutil\n",
    "    import re\n",
    "\n",
    "    if (os.path.exists(directory) and not os.path.isdir(directory)):\n",
    "        raise RuntimeError(f\"a non-directory file exists with name {directory:s}\")\n",
    "\n",
    "    if (not os.path.exists(directory)):\n",
    "        print(f\"creating directory {directory:s}\")\n",
    "        os.mkdir(directory)\n",
    "\n",
    "    fig_fnames = (re.compile(r'\\[Fig.*\\]\\((.*)\\)').findall(md) + \n",
    "                  re.compile(r'\\<img src=\"([^>\\s]*)\"[^>]*/>').findall(md))\n",
    "    for fname in fig_fnames:\n",
    "        if 'http' in fname:\n",
    "            # No need to copy online figures\n",
    "            continue\n",
    "        destdir = os.path.join(directory, os.path.dirname(fname))\n",
    "        destfname = os.path.join(destdir, os.path.basename(fname))\n",
    "        try:\n",
    "            os.makedirs(destdir)\n",
    "        except FileExistsError:\n",
    "            pass\n",
    "        shutil.copy(fname, destfname)\n",
    "    with open(os.path.join(directory, md_fname), 'w') as fout:\n",
    "        fout.write(md)\n",
    "    print(\"exported in \", os.path.join(directory, md_fname))\n",
    "    [print(\"    + \" + os.path.join(directory,fk)) for fk in fig_fnames]"
   ]
  },
  {
   "cell_type": "code",
   "execution_count": 8,
   "id": "014d04a4",
   "metadata": {
    "execution": {
     "iopub.execute_input": "2023-02-16T04:09:44.513426Z",
     "iopub.status.busy": "2023-02-16T04:09:44.512860Z",
     "iopub.status.idle": "2023-02-16T04:09:44.530014Z",
     "shell.execute_reply": "2023-02-16T04:09:44.523669Z"
    },
    "papermill": {
     "duration": 0.02931,
     "end_time": "2023-02-16T04:09:44.531520",
     "exception": false,
     "start_time": "2023-02-16T04:09:44.502210",
     "status": "completed"
    },
    "tags": []
   },
   "outputs": [
    {
     "name": "stdout",
     "output_type": "stream",
     "text": [
      "exported in  _build/html/2302.07277.md\n",
      "    + _build/html/tmp_2302.07277/./figures/umap_raw_pg.png\n",
      "    + _build/html/tmp_2302.07277/./figures/umap_images_pg_f200.png\n",
      "    + _build/html/tmp_2302.07277/./figures/umap_images_pg_f356.png\n",
      "    + _build/html/tmp_2302.07277/./figures/umap_classes_zoo.png\n",
      "    + _build/html/tmp_2302.07277/./figures/umap_images_zoo_f200.png\n",
      "    + _build/html/tmp_2302.07277/./figures/umap_images_zoo_f356.png\n",
      "    + _build/html/tmp_2302.07277/./figures/umap_dist_umap_reduced_hexbin.png\n",
      "    + _build/html/tmp_2302.07277/./figures/umap_CEERS_BACK356_hexbin.png\n",
      "    + _build/html/tmp_2302.07277/./figures/umap_CEERS_log_rsersic_hexbin.png\n",
      "    + _build/html/tmp_2302.07277/./figures/umap_CEERS_sersic_n_hexbin.png\n",
      "    + _build/html/tmp_2302.07277/./figures/umap_CEERS_sersic_ellip_hexbin.png\n",
      "    + _build/html/tmp_2302.07277/./figures/umap_CEERS_concentration_hexbin.png\n",
      "    + _build/html/tmp_2302.07277/./figures/umap_CEERS_asymmetry_hexbin.png\n",
      "    + _build/html/tmp_2302.07277/./figures/umap_CEERS_smoothness_hexbin.png\n",
      "exported in  _build/html/2302.07497.md\n",
      "    + _build/html/tmp_2302.07497/./spitzer_grid-paper-annotated.png\n",
      "    + _build/html/tmp_2302.07497/./Jen_Caustic_combined_spitzer-constrained_renorm-annotated.png\n",
      "    + _build/html/tmp_2302.07497/./pm_theoretical_disk.png\n",
      "    + _build/html/tmp_2302.07497/./naive_Spitzer_lightcurve_w_res.png\n"
     ]
    }
   ],
   "source": [
    "for paper_id, md in documents:\n",
    "    export_markdown_summary(md, f\"{paper_id:s}.md\", '_build/html/')"
   ]
  },
  {
   "cell_type": "markdown",
   "id": "f087a0a7",
   "metadata": {
    "papermill": {
     "duration": 0.010116,
     "end_time": "2023-02-16T04:09:44.552010",
     "exception": false,
     "start_time": "2023-02-16T04:09:44.541894",
     "status": "completed"
    },
    "tags": []
   },
   "source": [
    "## Display the papers\n",
    "\n",
    "Not necessary but allows for a quick check."
   ]
  },
  {
   "cell_type": "code",
   "execution_count": 9,
   "id": "fd25f625",
   "metadata": {
    "execution": {
     "iopub.execute_input": "2023-02-16T04:09:44.608657Z",
     "iopub.status.busy": "2023-02-16T04:09:44.607915Z",
     "iopub.status.idle": "2023-02-16T04:09:44.614087Z",
     "shell.execute_reply": "2023-02-16T04:09:44.613543Z"
    },
    "papermill": {
     "duration": 0.053379,
     "end_time": "2023-02-16T04:09:44.615475",
     "exception": false,
     "start_time": "2023-02-16T04:09:44.562096",
     "status": "completed"
    },
    "scrolled": false,
    "tags": []
   },
   "outputs": [
    {
     "data": {
      "text/markdown": [
       "<div class=\"macros\" style=\"visibility:hidden;\">\n",
       "$\\newcommand{\\ensuremath}{}$\n",
       "$\\newcommand{\\xspace}{}$\n",
       "$\\newcommand{\\object}[1]{\\texttt{#1}}$\n",
       "$\\newcommand{\\farcs}{{.}''}$\n",
       "$\\newcommand{\\farcm}{{.}'}$\n",
       "$\\newcommand{\\arcsec}{''}$\n",
       "$\\newcommand{\\arcmin}{'}$\n",
       "$\\newcommand{\\ion}[2]{#1#2}$\n",
       "$\\newcommand{\\textsc}[1]{\\textrm{#1}}$\n",
       "$\\newcommand{\\hl}[1]{\\textrm{#1}}$\n",
       "$\\newcommand{\\powerset}{\\raisebox{.15\\baselineskip}{\\Large\\ensuremath{\\wp}}}$</div>\n",
       "\n",
       "<div class=\"macros\" style=\"visibility:hidden;\">\n",
       "$\\newcommand{$\\ensuremath$}{}$\n",
       "$\\newcommand{$\\xspace$}{}$\n",
       "$\\newcommand{$\\object$}[1]{\\texttt{#1}}$\n",
       "$\\newcommand{$\\farcs$}{{.}''}$\n",
       "$\\newcommand{$\\farcm$}{{.}'}$\n",
       "$\\newcommand{$\\arcsec$}{''}$\n",
       "$\\newcommand{$\\arcmin$}{'}$\n",
       "$\\newcommand{$\\ion$}[2]{#1#2}$\n",
       "$\\newcommand{$\\textsc$}[1]{\\textrm{#1}}$\n",
       "$\\newcommand{$\\hl$}[1]{\\textrm{#1}}$\n",
       "$\\newcommand{$\\powerset$}{\\raisebox{.15\\baselineskip}{\\Large$\\ensuremath${\\wp}}}$</div>\n",
       "\n",
       "\n",
       "\n",
       "<div id=\"title\">\n",
       "\n",
       "# On the nature of disks at high redshift seen by JWST/CEERS with contrastive learning and cosmological simulations\n",
       "\n",
       "</div>\n",
       "<div id=\"comments\">\n",
       "\n",
       "[![arXiv](https://img.shields.io/badge/arXiv-2302.07277-b31b1b.svg)](https://arxiv.org/abs/2302.07277)<mark>Appeared on: 2023-02-16</mark> - _25 pages, 23 figures. Submitted to ApJ. Comments welcome_\n",
       "\n",
       "</div>\n",
       "<div id=\"authors\">\n",
       "\n",
       "Jes\\'us Vega-Ferrero, et al. -- incl., <mark>Annalisa Pillepich</mark>, <mark>Steven L. Finkelstein</mark>, <mark>Helena Domínguez Sánchez</mark>, <mark>Henry C. Ferguson</mark>\n",
       "\n",
       "</div>\n",
       "<div id=\"abstract\">\n",
       "\n",
       "**Abstract:** Visual inspections of the first optical rest-frame images from JWST have indicated a surprisingly high fraction of disk galaxies at high redshifts. Here we alternatively apply self-supervised machine learning to explore the morphological diversity at$z \\geq 3$. Our proposed data-driven representation scheme of galaxy morphologies, calibrated on mock images from the TNG50 simulation, is shown to be robust to noise and to correlate well with physical properties of the simulated galaxies, including their 3D structure. We apply the method simultaneously to F200W and F356W galaxy images of a mass-complete sample ($M_*/M_\\odot>10^9$) at$z \\geq 3$from the first JWST/NIRCam CEERS data release. We find that the simulated and observed galaxies do not populate the same manifold in the representation space from contrastive learning, partly because the observed galaxies tend to be more compact and more elongated than the simulated galaxies. We also find that about half the galaxies that were visually classified as disks based on their elongated images actually populate a similar region of the representation space than spheroids, which according to the TNG50 simulation is occupied by objects with low stellar specific angular momentum and non-oblate structure. This suggests that the disk fraction at$z > 3$as evaluated by visual classification may be severely overestimated by misclassifying compact, elongated galaxies as disks. Deeper imaging and/or spectroscopic follow-ups as well as comparisons with other simulations will help to unambiguously determine the true nature of these galaxies.\n",
       "\n",
       "</div>\n",
       "\n",
       "<div id=\"div_fig1\">\n",
       "\n",
       "<img src=\"tmp_2302.07277/./figures/umap_raw_pg.png\" alt=\"Fig13.1\" width=\"16%\"/><img src=\"tmp_2302.07277/./figures/umap_images_pg_f200.png\" alt=\"Fig13.2\" width=\"16%\"/><img src=\"tmp_2302.07277/./figures/umap_images_pg_f356.png\" alt=\"Fig13.3\" width=\"16%\"/><img src=\"tmp_2302.07277/./figures/umap_classes_zoo.png\" alt=\"Fig13.4\" width=\"16%\"/><img src=\"tmp_2302.07277/./figures/umap_images_zoo_f200.png\" alt=\"Fig13.5\" width=\"16%\"/><img src=\"tmp_2302.07277/./figures/umap_images_zoo_f356.png\" alt=\"Fig13.6\" width=\"16%\"/>\n",
       "\n",
       "**Figure 13. -** Comparison of distributions of observed and simulated galaxies in the representation space. The top row shows the CEERS mass-complete sample and the bottom row the VISUAL sample with available visual morphologies. Top left-hand panel: UMAP visualization for the observed CEERS galaxy images selected in mass and redshift (color-coded by the source photo-$z$) overlapped with the representation of noise-added TNG50 galaxy images. Top middle panel: randomly chosen observed CEERS galaxy images in the UMAP visualization in the F200W filter. Top right-hand panel: randomly chosen observed CEERS galaxy images in the UMAP visualization in the F356W filter. Bottom left-hand panel: UMAP visualization for the observed VISUAL galaxy images selected in mass and redshift. Points are colored according to the visual classifications into several non-exclusive classes. Bottom middle panel: randomly chosen observed VISUAL galaxy images in the UMAP visualization in the F200W filter. Bottom right-hand panel: randomly chosen observed VISUAL galaxy images in the UMAP visualization in the F356W filter. (*fig:CEERS_umap*)\n",
       "\n",
       "</div>\n",
       "<div id=\"div_fig2\">\n",
       "\n",
       "<img src=\"tmp_2302.07277/./figures/umap_dist_umap_reduced_hexbin.png\" alt=\"Fig9.1\" width=\"50%\"/><img src=\"tmp_2302.07277/./figures/umap_CEERS_BACK356_hexbin.png\" alt=\"Fig9.2\" width=\"50%\"/>\n",
       "\n",
       "**Figure 9. -** Left-hand panel: UMAP visualization for all the TNG50 galaxy images in our dataset color-coded by the mean value of the distance in the UMAP representation between the noiseless and the reduced images of each galaxy (denoted as $\\delta$). Right-hand panel: UMAP visualization for all the TNG50 galaxy images in our dataset color-coded by the mean value of the ratio of the flux measured in the TNG50 stamps and the flux derived from the noiseless TNG50 stamps for the F356W filter (denoted as $\\delta_\\mathrm{F356W}$). Large values of $\\delta_\\mathrm{F356W}$ indicate the presence of a secondary (or even more) source. The larger $\\delta_\\mathrm{F356W}$ is, the brighter the companions are with respect to the central galaxy. (*fig:umap_CEERS_BACK356*)\n",
       "\n",
       "</div>\n",
       "<div id=\"div_fig3\">\n",
       "\n",
       "<img src=\"tmp_2302.07277/./figures/umap_CEERS_log_rsersic_hexbin.png\" alt=\"Fig12.1\" width=\"16%\"/><img src=\"tmp_2302.07277/./figures/umap_CEERS_sersic_n_hexbin.png\" alt=\"Fig12.2\" width=\"16%\"/><img src=\"tmp_2302.07277/./figures/umap_CEERS_sersic_ellip_hexbin.png\" alt=\"Fig12.3\" width=\"16%\"/><img src=\"tmp_2302.07277/./figures/umap_CEERS_concentration_hexbin.png\" alt=\"Fig12.4\" width=\"16%\"/><img src=\"tmp_2302.07277/./figures/umap_CEERS_asymmetry_hexbin.png\" alt=\"Fig12.5\" width=\"16%\"/><img src=\"tmp_2302.07277/./figures/umap_CEERS_smoothness_hexbin.png\" alt=\"Fig12.6\" width=\"16%\"/>\n",
       "\n",
       "**Figure 12. -** UMAP visualization for all the TNG50 galaxy images in our dataset color-coded by the distribution of several morphological and photometric parameters. Color code corresponds to the median values in each hexagonal bin in the UMAP plane. From left to right and top to bottom, the different panels show: the logarithm of the effective radius ($r_e \\mathrm{[kpc]}$), in kpc), the Sèrsic index ($n_e$), the ellipticity based on Sèrsic fit ($1-b/a$), the concentration ($C$), the asymmetry ($A$) and the smoothness ($C$). The scatter maps of these parameters are presented in \\autoref{app:dependence}. (*fig:phot_hexbin_umap*)\n",
       "\n",
       "</div>"
      ],
      "text/plain": [
       "<IPython.core.display.Markdown object>"
      ]
     },
     "metadata": {},
     "output_type": "display_data"
    },
    {
     "data": {
      "text/markdown": [
       "<div class=\"macros\" style=\"visibility:hidden;\">\n",
       "$\\newcommand{\\ensuremath}{}$\n",
       "$\\newcommand{\\xspace}{}$\n",
       "$\\newcommand{\\object}[1]{\\texttt{#1}}$\n",
       "$\\newcommand{\\farcs}{{.}''}$\n",
       "$\\newcommand{\\farcm}{{.}'}$\n",
       "$\\newcommand{\\arcsec}{''}$\n",
       "$\\newcommand{\\arcmin}{'}$\n",
       "$\\newcommand{\\ion}[2]{#1#2}$\n",
       "$\\newcommand{\\textsc}[1]{\\textrm{#1}}$\n",
       "$\\newcommand{\\hl}[1]{\\textrm{#1}}$\n",
       "$\\newcommand{\\vdag}{(v)^\\dagger}$\n",
       "$\\newcommand$\n",
       "$\\newcommand$\n",
       "$\\newcommand$</div>\n",
       "\n",
       "<div class=\"macros\" style=\"visibility:hidden;\">\n",
       "$\\newcommand{$\\ensuremath$}{}$\n",
       "$\\newcommand{$\\xspace$}{}$\n",
       "$\\newcommand{$\\object$}[1]{\\texttt{#1}}$\n",
       "$\\newcommand{$\\farcs$}{{.}''}$\n",
       "$\\newcommand{$\\farcm$}{{.}'}$\n",
       "$\\newcommand{$\\arcsec$}{''}$\n",
       "$\\newcommand{$\\arcmin$}{'}$\n",
       "$\\newcommand{$\\ion$}[2]{#1#2}$\n",
       "$\\newcommand{$\\textsc$}[1]{\\textrm{#1}}$\n",
       "$\\newcommand{$\\hl$}[1]{\\textrm{#1}}$\n",
       "$\\newcommand{$\\vdag$}{(v)^\\dagger}$\n",
       "$\\newcommand$\n",
       "$\\newcommand$\n",
       "$\\newcommand$</div>\n",
       "\n",
       "\n",
       "\n",
       "<div id=\"title\">\n",
       "\n",
       "#  OGLE-2017-BLG-1038: A Possible Brown-dwarf Binary Revealed by Spitzer Microlensing Parallax\n",
       "\n",
       "</div>\n",
       "<div id=\"comments\">\n",
       "\n",
       "[![arXiv](https://img.shields.io/badge/arXiv-2302.07497-b31b1b.svg)](https://arxiv.org/abs/2302.07497)<mark>Appeared on: 2023-02-16</mark> - _20 pages, 11 figures, 4 tables_\n",
       "\n",
       "</div>\n",
       "<div id=\"authors\">\n",
       "\n",
       "Amber Malpas, et al. -- incl., <mark><mark>Andrew Gould</mark></mark>, <mark><mark>Antonio Herrera Martin</mark></mark>, <mark><mark>Calen B. Henderson</mark></mark>, <mark><mark>Seung-Lee Kim</mark></mark>, <mark><mark>Chung-Uk Lee</mark></mark>, <mark><mark>Dong-Joo Lee</mark></mark>, <mark><mark>Yongseok Lee</mark></mark>\n",
       "\n",
       "</div>\n",
       "<div id=\"abstract\">\n",
       "\n",
       "**Abstract:** We report the analysis of microlensing event OGLE-2017-BLG-1038, observed by the Optical Gravitational Lensing Experiment, Korean Microlensing Telescope Network, and Spitzer telescopes. The event is caused by a giant source star in the Galactic Bulge passing over a large resonant binary lens caustic. The availability of space-based data allows the full set of physical parameters to be calculated.However, there exists an eightfold degeneracy in the parallax measurement. The four best solutions correspond to very-low-mass binaries near ($M_1 = 170^{+40}_{-50} M_J$and$M_2 = 110^{+20}_{-30} M_J$), or well below ($M_1 = 22.5^{+0.7}_{-0.4} M_J$and$M_2 = 13.3^{+0.4}_{-0.3} M_J$) the boundary between stars and brown dwarfs.A conventional analysis, with scaled uncertainties for Spitzer data, implies a very-low-mass brown dwarf binary lens at a distance of 2 kpc. Compensating for systematic Spitzer errors using a Gaussian process model suggests that a higher mass M-dwarf binary at 6 kpc is equally likely.A Bayesian comparison based on a galactic model favors the larger-mass solutions.We demonstrate how this degeneracy can be resolved within the next ten years through infrared adaptive-optics imaging with a 40 m class telescope.\n",
       "\n",
       "</div>\n",
       "\n",
       "<div id=\"div_fig1\">\n",
       "\n",
       "<img src=\"tmp_2302.07497/./spitzer_grid-paper-annotated.png\" alt=\"Fig4.1\" width=\"50%\"/><img src=\"tmp_2302.07497/./Jen_Caustic_combined_spitzer-constrained_renorm-annotated.png\" alt=\"Fig4.2\" width=\"50%\"/>\n",
       "\n",
       "**Figure 4. -** \\emph{Left}: contour maps demonstrating the results of the parallax grid searches over discretely varied $\\pi_{{\\rm E},E}$ and $\\pi_{{\\rm E},N}$ for the $-u_{0,Earth}$ configuration, including only the Spitzer $\\chi^2$ components. The dashed contours show the $\\chi^2$ landscape without a color constraint and the solid lines with the constraint. Note that the $\\pi_{{\\rm E},N}$-axis  of this figure is reversed from the usual orientation so that the two figures approximately align. \\emph{Right}: caustic diagram with projected ground-based and Spitzer-based trajectories (black and red, respectively).  The four Spitzer trajectories are the result of minimization from the local $\\chi^{2}$ minima from the left figure, with all modeling parameters free to evolve.  The data points are represented by colored circles on the trajectories, where the colors correspond to the observation site and field, as specified in Figures \\ref{Fig:StaticLC} and \\ref{Fig:GroundCumulative}. The caustics change with the orbiting of the lens bodies and are depicted here at the instances of the first and last Spitzer data points, specifically for the c -/+ solution (all four $u_{0,Earth}<0$ solutions looks very diagrammatically similar to the one shown). These epochs are represented on grounds-based trajectory (also from the c -/+ solution) with colours matching their corresponding caustics. (*Fig:RSGrid*)\n",
       "\n",
       "</div>\n",
       "<div id=\"div_fig2\">\n",
       "\n",
       "<img src=\"tmp_2302.07497/./pm_theoretical_disk.png\" alt=\"Fig3\" width=\"100%\"/>\n",
       "\n",
       "**Figure 3. -** Proper motions of the lens solutions and source star. For context, we also include contour representations of the disk (blue) and bulge (red) distributions. The bulge contours are from histograms of the red-clump stars from Gaia EDR3, selecting stars within a $0.2^o$ radius cone centred on the lens. The distribution of red-clump stars is the results of a Gaussian fit to the red clump on the field's CMD. The innermost thicker line of the red-clump distribution contains approximately 68\\% of the population samples. The outermost thicker line contains approximately  95\\% of the population samples. The blue contours depict the theoretical distribution of the disk stars used in our galactic model. The solid ellipses correspond to the 1 and 2 $\\sigma$ proper-motion dispersions of disk stars at $D=6$ kpc. The dotted ellipses show the same for disk stars at $D=2.3$ kpc.\n",
       " (*F:pm*)\n",
       "\n",
       "</div>\n",
       "<div id=\"div_fig3\">\n",
       "\n",
       "<img src=\"tmp_2302.07497/./naive_Spitzer_lightcurve_w_res.png\" alt=\"Fig1\" width=\"100%\"/>\n",
       "\n",
       "**Figure 1. -** Raw Spitzer light curve and model light curve resulting from the static binary-lens model (no parallax), fitted to the ground-based data, and transforming to the Spitzer flux system assuming $F_{\\rm L} \\equiv F_{{\\rm S},L} A$, where $F_{{\\rm S},L} = 56.1$ and $(I - L)_{\\rm S} = -7.4$ . The ground-based observations have also been scaled to the Spitzer flux system. The residuals between the model and the data are depicted in black for ground-based data and red for \\textit{Spitzer} data. These show a dramatic difference for the $t<7935$ data. \\label{Fig:SpitzerLC} (*Fig:SpitzerLC*)\n",
       "\n",
       "</div>"
      ],
      "text/plain": [
       "<IPython.core.display.Markdown object>"
      ]
     },
     "metadata": {},
     "output_type": "display_data"
    }
   ],
   "source": [
    "[display(Markdown(k[1])) for k in documents];"
   ]
  },
  {
   "cell_type": "markdown",
   "id": "873873a4",
   "metadata": {
    "papermill": {
     "duration": 0.010412,
     "end_time": "2023-02-16T04:09:44.636638",
     "exception": false,
     "start_time": "2023-02-16T04:09:44.626226",
     "status": "completed"
    },
    "tags": []
   },
   "source": [
    "# Create HTML index"
   ]
  },
  {
   "cell_type": "code",
   "execution_count": 10,
   "id": "cf665672",
   "metadata": {
    "execution": {
     "iopub.execute_input": "2023-02-16T04:09:44.659210Z",
     "iopub.status.busy": "2023-02-16T04:09:44.658502Z",
     "iopub.status.idle": "2023-02-16T04:09:44.670388Z",
     "shell.execute_reply": "2023-02-16T04:09:44.669674Z"
    },
    "papermill": {
     "duration": 0.025871,
     "end_time": "2023-02-16T04:09:44.672873",
     "exception": false,
     "start_time": "2023-02-16T04:09:44.647002",
     "status": "completed"
    },
    "tags": []
   },
   "outputs": [
    {
     "name": "stdout",
     "output_type": "stream",
     "text": [
      "206  publications in the last 7 days.\n",
      "\t _build/html/2302.07497.md\n",
      "\t _build/html/2302.07277.md\n",
      "\t _build/html/2302.07256.md\n",
      "\t _build/html/2302.07234.md\n",
      "\t _build/html/2302.07057.md\n",
      "\t _build/html/2302.05694.md\n",
      "\t _build/html/2302.05465.md\n",
      "\t _build/html/2302.04507.md\n",
      "\t _build/html/2302.04239.md\n",
      "\t _build/html/2302.04138.md\n",
      "\t _build/html/2302.03699.md\n",
      "\t _build/html/2302.03576.md\n",
      "\t _build/html/2302.03042.md\n",
      "\t _build/html/2302.03039.md\n",
      "\t _build/html/2302.02890.md\n",
      "\t _build/html/2302.02611.md\n",
      "\t _build/html/2302.02429.md\n",
      "\t _build/html/2302.01678.md\n",
      "\t _build/html/2302.00450.md\n",
      "\t _build/html/2301.13766.md\n",
      "\t _build/html/2301.13526.md\n",
      "\t _build/html/2301.12890.md\n",
      "\t _build/html/2301.11942.md\n",
      "\t _build/html/2301.10717.md\n",
      "\t _build/html/2301.10666.md\n",
      "\t _build/html/2301.10496.md\n",
      "\t _build/html/2301.09621.md\n",
      "\t _build/html/2301.09140.md\n",
      "\t _build/html/2301.08770.md\n",
      "\t _build/html/2301.08310.md\n",
      "\t _build/html/2301.07990.md\n",
      "\t _build/html/2301.07366.md\n",
      "\t _build/html/2301.07199.md\n",
      "\t _build/html/2301.07116.md\n",
      "\t _build/html/2301.06873.md\n",
      "\t _build/html/2301.06819.md\n",
      "\t _build/html/2301.06575.md\n",
      "\t _build/html/2301.05720.md\n",
      "\t _build/html/2301.05718.md\n",
      "\t _build/html/2301.05034.md\n",
      "\t _build/html/2301.04656.md\n",
      "\t _build/html/2301.04533.md\n",
      "\t _build/html/2301.04442.md\n",
      "\t _build/html/2301.03811.md\n",
      "\t _build/html/2301.03689.md\n",
      "\t _build/html/2301.03387.md\n",
      "\t _build/html/2301.03209.md\n",
      "\t _build/html/2301.02671.md\n",
      "\t _build/html/2301.02477.md\n",
      "\t _build/html/2301.02313.md\n",
      "\t _build/html/2301.02265.md\n",
      "\t _build/html/2301.01937.md\n",
      "\t _build/html/2301.01895.md\n",
      "\t _build/html/2301.01684.md\n",
      "\t _build/html/2301.01306.md\n",
      "\t _build/html/2301.00881.md\n",
      "\t _build/html/2301.00854.md\n",
      "\t _build/html/2301.00578.md\n",
      "\t _build/html/2212.12039.md\n",
      "\t _build/html/2212.11991.md\n",
      "\t _build/html/2212.11425.md\n",
      "\t _build/html/2212.11177.md\n",
      "\t _build/html/2212.10804.md\n",
      "\t _build/html/2212.10512.md\n",
      "\t _build/html/2212.09766.md\n",
      "\t _build/html/2212.09675.md\n",
      "\t _build/html/2212.09661.md\n",
      "\t _build/html/2212.09652.md\n",
      "\t _build/html/2212.09443.md\n",
      "\t _build/html/2212.09307.md\n",
      "\t _build/html/2212.09168.md\n",
      "\t _build/html/2212.09159.md\n",
      "\t _build/html/2212.08702.md\n",
      "\t _build/html/2212.07332.md\n",
      "\t _build/html/2212.06434.md\n",
      "\t _build/html/2212.04710.md\n",
      "\t _build/html/2212.04026.md\n",
      "\t _build/html/2212.03563.md\n",
      "\t _build/html/2212.03514.md\n",
      "\t _build/html/2212.02667.md\n",
      "\t _build/html/2212.02627.md\n",
      "\t _build/html/2212.02235.md\n",
      "\t _build/html/2212.01707.md\n",
      "\t _build/html/2212.01526.md\n",
      "\t _build/html/2212.01397.md\n",
      "\t _build/html/2212.01291.md\n",
      "\t _build/html/2212.01281.md\n",
      "\t _build/html/2212.00812.md\n",
      "\t _build/html/2212.00811.md\n",
      "\t _build/html/2212.00806.md\n",
      "\t _build/html/2212.00047.md\n",
      "\t _build/html/2212.00032.md\n",
      "\t _build/html/2211.16996.md\n",
      "\t _build/html/2211.16510.md\n",
      "\t _build/html/2211.16123.md\n",
      "\t _build/html/2211.15816.md\n",
      "\t _build/html/2211.15698.md\n",
      "\t _build/html/2211.15576.md\n",
      "\t _build/html/2211.15434.md\n",
      "\t _build/html/2211.15288.md\n",
      "\t _build/html/2211.15224.md\n",
      "\t _build/html/2211.14543.md\n",
      "\t _build/html/2211.14330.md\n",
      "\t _build/html/2211.14322.md\n",
      "\t _build/html/2211.14132.md\n",
      "\t _build/html/2211.13811.md\n",
      "\t _build/html/2211.13426.md\n",
      "\t _build/html/2211.13318.md\n",
      "\t _build/html/2211.13146.md\n",
      "\t _build/html/2211.12613.md\n",
      "\t _build/html/2211.11767.md\n",
      "\t _build/html/2211.09840.md\n",
      "\t _build/html/2211.09217.md\n",
      "\t _build/html/2211.08493.md\n",
      "\t _build/html/2211.08487.md\n",
      "\t _build/html/2211.08294.md\n",
      "\t _build/html/2211.07667.md\n",
      "\t _build/html/2211.07659.md\n",
      "\t _build/html/2211.06454.md\n",
      "\t _build/html/2211.06205.md\n",
      "\t _build/html/2211.06194.md\n",
      "\t _build/html/2211.05022.md\n",
      "\t _build/html/2211.04048.md\n",
      "\t _build/html/2211.03641.md\n",
      "\t _build/html/2211.02502.md\n",
      "\t _build/html/2211.01474.md\n",
      "\t _build/html/2211.00667.md\n",
      "\t _build/html/2211.00657.md\n",
      "\t _build/html/2211.00087.md\n",
      "\t _build/html/2211.00036.md\n",
      "\t _build/html/2211.00020.md\n",
      "\t _build/html/2211.00010.md\n",
      "\t _build/html/2210.17434.md\n",
      "\t _build/html/2210.12412.md\n",
      "\t _build/html/2210.11926.md\n",
      "\t _build/html/2210.11551.md\n",
      "\t _build/html/2210.11103.md\n",
      "\t _build/html/2210.10707.md\n",
      "\t _build/html/2210.09930.md\n",
      "\t _build/html/2210.08996.md\n",
      "\t _build/html/2210.08517.md\n",
      "\t _build/html/2210.08510.md\n",
      "\t _build/html/2210.08078.md\n",
      "\t _build/html/2210.06504.md\n",
      "\t _build/html/2210.05695.md\n",
      "\t _build/html/2210.05595.md\n",
      "\t _build/html/2210.05505.md\n",
      "\t _build/html/2210.04721.md\n",
      "\t _build/html/2210.03615.md\n",
      "\t _build/html/2210.01811.md\n",
      "\t _build/html/2210.01809.md\n",
      "\t _build/html/2210.01556.md\n",
      "\t _build/html/2210.00863.md\n",
      "\t _build/html/2210.00560.md\n",
      "\t _build/html/2209.15403.md\n",
      "\t _build/html/2209.15110.md\n",
      "\t _build/html/2209.14410.md\n",
      "\t _build/html/2209.14396.md\n",
      "\t _build/html/2209.13717.md\n",
      "\t _build/html/2209.13336.md\n",
      "\t _build/html/2209.12906.md\n",
      "\t _build/html/2209.11781.md\n",
      "\t _build/html/2209.11602.md\n",
      "\t _build/html/2209.11248.md\n",
      "\t _build/html/2209.11096.md\n",
      "\t _build/html/2209.10618.md\n",
      "\t _build/html/2209.09914.md\n",
      "\t _build/html/2209.09823.md\n",
      "\t _build/html/2209.08242.md\n",
      "\t _build/html/2209.08120.md\n",
      "\t _build/html/2209.08106.md\n",
      "\t _build/html/2209.07962.md\n",
      "\t _build/html/2209.07931.md\n",
      "\t _build/html/2209.06833.md\n",
      "\t _build/html/2209.05814.md\n",
      "\t _build/html/2209.05593.md\n",
      "\t _build/html/2209.04304.md\n",
      "\t _build/html/2209.03367.md\n",
      "\t _build/html/2209.02872.md\n",
      "\t _build/html/2209.02725.md\n",
      "\t _build/html/2209.02722.md\n",
      "\t _build/html/2209.02092.md\n",
      "\t _build/html/2209.01125.md\n",
      "\t _build/html/2209.00828.md\n",
      "\t _build/html/2209.00363.md\n",
      "\t _build/html/2208.14927.md\n",
      "\t _build/html/2208.09335.md\n",
      "\t _build/html/2208.08872.md\n",
      "\t _build/html/2204.06393.md\n",
      "\t _build/html/2204.03335.md\n",
      "\t _build/html/2204.03253.md\n",
      "\t _build/html/2204.02998.md\n",
      "\t _build/html/2204.02109.md\n",
      "\t _build/html/2204.02017.md\n",
      "\t _build/html/2204.01824.md\n",
      "\t _build/html/2204.01758.md\n",
      "\t _build/html/2204.01245.md\n",
      "\t _build/html/2204.00793.md\n",
      "\t _build/html/2204.00342.md\n",
      "\t _build/html/2203.16959.md\n",
      "\t _build/html/2203.16856.md\n",
      "\t _build/html/2203.16735.md\n",
      "\t _build/html/2203.16734.md\n",
      "\t _build/html/2203.16504.md\n",
      "\t _build/html/2203.15822.md\n",
      "\t _build/html/2203.15811.md\n"
     ]
    }
   ],
   "source": [
    "from datetime import datetime, timedelta, timezone\n",
    "from glob import glob\n",
    "\n",
    "files = glob('_build/html/*.md')\n",
    "days = 7\n",
    "now = datetime.today()\n",
    "res = []\n",
    "for fk in files:\n",
    "    stat_result = os.stat(fk).st_ctime\n",
    "    modified = datetime.fromtimestamp(stat_result, tz=timezone.utc).replace(tzinfo=None)\n",
    "    delta = now.today() - modified\n",
    "    if delta <= timedelta(days=days):\n",
    "        res.append((delta.seconds, fk))\n",
    "res = [k[1] for k in reversed(sorted(res, key=lambda x:x[1]))]\n",
    "npub = len(res)\n",
    "print(len(res), f\" publications in the last {days:d} days.\")\n",
    "[ print('\\t', k) for k in res ];"
   ]
  },
  {
   "cell_type": "code",
   "execution_count": 11,
   "id": "015de740",
   "metadata": {
    "execution": {
     "iopub.execute_input": "2023-02-16T04:09:44.695830Z",
     "iopub.status.busy": "2023-02-16T04:09:44.695144Z",
     "iopub.status.idle": "2023-02-16T04:09:44.715273Z",
     "shell.execute_reply": "2023-02-16T04:09:44.714638Z"
    },
    "papermill": {
     "duration": 0.033196,
     "end_time": "2023-02-16T04:09:44.716770",
     "exception": false,
     "start_time": "2023-02-16T04:09:44.683574",
     "status": "completed"
    },
    "tags": []
   },
   "outputs": [
    {
     "name": "stdout",
     "output_type": "stream",
     "text": [
      "11  publications in the last 7 days.\n"
     ]
    }
   ],
   "source": [
    "import datetime\n",
    "from glob import glob\n",
    "\n",
    "def get_last_n_days(lst, days=1):\n",
    "    \"\"\" Get the documents from the last n days \"\"\"\n",
    "    sorted_lst = sorted(lst, key=lambda x: x[1], reverse=True)\n",
    "    for fname, date in sorted_lst:\n",
    "        if date >= str(datetime.date.today() - datetime.timedelta(days=days)):\n",
    "            yield fname\n",
    "\n",
    "def extract_appearance_dates(lst_file):\n",
    "    dates = []\n",
    "\n",
    "    def get_date(line):\n",
    "        return line\\\n",
    "            .split('Appeared on:')[-1]\\\n",
    "            .split('</mark>')[0].strip()\n",
    "\n",
    "    for fname in lst:\n",
    "        with open(fname, 'r') as f:\n",
    "            found_date = False\n",
    "            for line in f:\n",
    "                if not found_date:\n",
    "                    if \"Appeared on\" in line:\n",
    "                        found_date = True\n",
    "                        dates.append((fname, get_date(line)))\n",
    "                else:\n",
    "                    break\n",
    "    return dates\n",
    "\n",
    "from glob import glob\n",
    "lst = glob('_build/html/*md')\n",
    "days = 7\n",
    "dates = extract_appearance_dates(lst)\n",
    "res = list(get_last_n_days(dates, days))\n",
    "npub = len(res)\n",
    "print(len(res), f\" publications in the last {days:d} days.\")"
   ]
  },
  {
   "cell_type": "code",
   "execution_count": 12,
   "id": "52ca0208",
   "metadata": {
    "execution": {
     "iopub.execute_input": "2023-02-16T04:09:44.744051Z",
     "iopub.status.busy": "2023-02-16T04:09:44.743495Z",
     "iopub.status.idle": "2023-02-16T04:09:44.750303Z",
     "shell.execute_reply": "2023-02-16T04:09:44.749586Z"
    },
    "papermill": {
     "duration": 0.020519,
     "end_time": "2023-02-16T04:09:44.751884",
     "exception": false,
     "start_time": "2023-02-16T04:09:44.731365",
     "status": "completed"
    },
    "scrolled": false,
    "tags": []
   },
   "outputs": [],
   "source": [
    "def create_carousel(npub=4):\n",
    "    \"\"\" Generate the HTML code for a carousel with `npub` slides \"\"\"\n",
    "    carousel = [\"\"\"<section class=\"carousel\" aria-label=\"Gallery\">\"\"\",\n",
    "                \"\"\"  <ol class=\"carousel__viewport\">\"\"\",\n",
    "    ]\n",
    "    for k in range(1, npub + 1):\n",
    "        prev_ = k - 1\n",
    "        next_ = k + 1\n",
    "        if prev_ <= 0:\n",
    "            prev_ = npub\n",
    "        if next_ > npub:\n",
    "            next_ = 1\n",
    "        text  = f\"\"\"    <li id=\"carousel__slide{k}\" tabindex=\"0\" class=\"carousel__slide\">\\n\"\"\"\n",
    "        text += f\"\"\"       <div class=\"carousel__snapper\">\\n\"\"\"\n",
    "        text += f\"\"\"         <a href=\"#carousel__slide{prev_}\" class=\"carousel__prev\">Go to previous slide</a>\\n\"\"\"\n",
    "        text += f\"\"\"         <a href=\"#carousel__slide{next_}\" class=\"carousel__next\">Go to next slide</a>\\n\"\"\"\n",
    "        text += f\"\"\"         <div id=\"slide{k}_content\" class=\"md_view\" >Content {k}</div>\\n\"\"\"\n",
    "        text += f\"\"\"       </div>\\n\"\"\"\n",
    "        text += f\"\"\"    </li>\"\"\"\n",
    "        carousel.append(text)\n",
    "\n",
    "    carousel.extend([\n",
    "        \"\"\"  </ol>\"\"\",\n",
    "        \"\"\"  <aside class=\"carousel__navigation\">\"\"\",\n",
    "        \"\"\"    <ol class=\"carousel__navigation-list\">\"\"\"])\n",
    "\n",
    "    for k in range(1, npub + 1):\n",
    "        text  = f\"\"\"      <li class=\"carousel__navigation-item\">\\n\"\"\"\n",
    "        text += f\"\"\"        <a href=\"#carousel__slide{k}\" class=\"carousel__navigation-button\">Go to {k}</a>\\n\"\"\"\n",
    "        text += f\"\"\"      </li>\"\"\"\n",
    "        carousel.append(text)\n",
    "    carousel.extend([\"\"\"    </ol>\"\"\", \"\"\"  </aside>\"\"\", \"\"\"</section>\"\"\"])\n",
    "\n",
    "    return '\\n'.join(carousel)"
   ]
  },
  {
   "cell_type": "code",
   "execution_count": 13,
   "id": "a6eac5b6",
   "metadata": {
    "execution": {
     "iopub.execute_input": "2023-02-16T04:09:44.775016Z",
     "iopub.status.busy": "2023-02-16T04:09:44.774584Z",
     "iopub.status.idle": "2023-02-16T04:09:44.781023Z",
     "shell.execute_reply": "2023-02-16T04:09:44.780426Z"
    },
    "papermill": {
     "duration": 0.019878,
     "end_time": "2023-02-16T04:09:44.782485",
     "exception": false,
     "start_time": "2023-02-16T04:09:44.762607",
     "status": "completed"
    },
    "scrolled": false,
    "tags": []
   },
   "outputs": [],
   "source": [
    "carousel = create_carousel(npub)\n",
    "docs = ', '.join(['\"{0:s}\"'.format(k.split('/')[-1]) for k in res])\n",
    "slides = ', '.join([f'\"slide{k}_content\"' for k in range(1, npub + 1)])\n",
    "\n",
    "script = f\"\"\"\n",
    "const docs = [{docs}]\n",
    "\n",
    "const slides = [{slides}]\n",
    "\"\"\" + \"\"\"\n",
    "async function run() {\n",
    "    for (let i = 0; i < docs.length; i++) {\n",
    "        let file = await fetch(docs[i]);\n",
    "        let text = await file.text()\n",
    "        document.getElementById(slides[i]).innerHTML =\n",
    "            marked.parse(text);\n",
    "    }\n",
    "    hljs.highlightAll();\n",
    "}\n",
    "run()\n",
    "\"\"\"\n",
    "\n",
    "page = f\"\"\"<!doctype html>\n",
    "<html lang=\"en\">\n",
    "\n",
    "<head>\n",
    "  <meta charset=\"utf-8\">\n",
    "  <meta name=\"viewport\" content=\"width=device-width, initial-scale=1\">\n",
    "  <!-- Bootstrap CSS -->\n",
    "  <link href=\"https://cdn.jsdelivr.net/npm/bootstrap@5.0.2/dist/css/bootstrap.min.css\" rel=\"stylesheet\"\n",
    "   integrity=\"sha384-EVSTQN3/azprG1Anm3QDgpJLIm9Nao0Yz1ztcQTwFspd3yD65VohhpuuCOmLASjC\" crossorigin=\"anonymous\">\n",
    "  <!-- highlight.js CSS -->\n",
    "  <link rel=\"stylesheet\" href=\"https://cdnjs.cloudflare.com/ajax/libs/highlight.js/11.1.0/styles/default.min.css\">\n",
    "  <!-- Mathjax 3 -->\n",
    "  <script type=\"text/javascript\" id=\"MathJax-config\" src=\"mathjax_config.js\"> </script>\n",
    "  <script type=\"text/javascript\" id=\"MathJax-script\" async \n",
    "    src=\"https://cdn.jsdelivr.net/npm/mathjax@3/es5/tex-mml-chtml.js\">\n",
    "  </script>\n",
    "  <link rel=\"stylesheet\" href=\"index_carousel.css\">\n",
    "  <link rel=\"icon\" type=\"image/x-icon\" href=\"https://www.mpia.de/assets/touch-icon-32x32-a66937bcebc4e8894ebff1f41a366c7c7220fd97a38869ee0f2db65a9f59b6c1.png\">\n",
    "  <title>MPIA Arxiv on deck!</title>\n",
    "</head>\n",
    "\n",
    "<body>\n",
    "  <div id=\"header\"> <img src=\"header_banner.png\" width=\"100%\"></div>\n",
    "  <div id=\"suptitle\"> 7-day archives </div>\n",
    "  <div id=\"info\">\n",
    "    <img src=\"https://pngimg.com/uploads/github/github_PNG58.png\" height=30rem></img>\n",
    "    <a href=https://github.com/mpi-astronomy/arxiv_display style=\"color:black;\">github/mpi-astronomy/arxiv_display</a> \n",
    "  </div>\n",
    "  {carousel:s}\n",
    "</body>\n",
    "\n",
    "<!-- Render Markdown -->\n",
    "\n",
    "<body>\n",
    "  <!-- highlight.js: https://highlightjs.org/download/ -->\n",
    "  <script src=\"https://cdnjs.cloudflare.com/ajax/libs/highlight.js/11.5.0/highlight.min.js\"></script>\n",
    "  <!-- marked.js -->\n",
    "  <script src=\"https://cdn.jsdelivr.net/npm/marked/marked.min.js\"></script>\n",
    "  <script>{script:s}</script>\n",
    "</body>\n",
    "</html>\n",
    "\"\"\"\n",
    "with open(\"_build/html/index_7days.html\", 'w') as fout:\n",
    "    fout.write(page)"
   ]
  },
  {
   "cell_type": "markdown",
   "id": "1cebacbc",
   "metadata": {
    "papermill": {
     "duration": 0.01075,
     "end_time": "2023-02-16T04:09:44.803939",
     "exception": false,
     "start_time": "2023-02-16T04:09:44.793189",
     "status": "completed"
    },
    "tags": []
   },
   "source": [
    "# Debugging papers"
   ]
  },
  {
   "cell_type": "raw",
   "id": "debe7cc6",
   "metadata": {
    "papermill": {
     "duration": 0.010659,
     "end_time": "2023-02-16T04:09:44.825355",
     "exception": false,
     "start_time": "2023-02-16T04:09:44.814696",
     "status": "completed"
    },
    "tags": []
   },
   "source": [
    "raise NotImplementedError(\"Manual Stop\")"
   ]
  },
  {
   "cell_type": "raw",
   "id": "eb169192",
   "metadata": {
    "papermill": {
     "duration": 0.010956,
     "end_time": "2023-02-16T04:09:44.847166",
     "exception": false,
     "start_time": "2023-02-16T04:09:44.836210",
     "status": "completed"
    },
    "scrolled": true,
    "tags": []
   },
   "source": [
    "from IPython.display import display, Markdown\n",
    "from TexSoup import TexSoup\n",
    "import re\n",
    "\n",
    "def bracket_error(source: str):\n",
    "    \"\"\" Find problematic portions of the document \"\"\"\n",
    "    \n",
    "    print(\"len(source)\", len(source))\n",
    "    \n",
    "    # Checking header\n",
    "    begin_doc = next(re.finditer(r'\\\\begin\\{document\\}', doc.source)).span()[1]\n",
    "    header = source[:begin_doc]\n",
    "    text = header + r\"\\n\\end{document}\"\n",
    "\n",
    "    try:\n",
    "        # print(\"Header check... \", end='')\n",
    "        TexSoup(text)\n",
    "        display(Markdown(f\"**[OK]** - Header\"))\n",
    "    except:\n",
    "        raise RuntimeError(\"Error in the header\")\n",
    "        \n",
    "    # Check the text per section until the end.\n",
    "    # Do not stop and try them all.\n",
    "    \n",
    "    problematic_text = []\n",
    "    \n",
    "    sections = ([(0, begin_doc, 'until first section')] + \n",
    "                [(g.span()[0], g.span()[1], g.group()) for g in re.finditer(r'\\\\section\\{.*\\}', source)] +\n",
    "                [(g.span()[0], g.span()[1], g.group()) for g in re.finditer(r'\\\\begin\\{appendix\\}', source)]\n",
    "               )\n",
    "    sections.append([len(source), len(source), 'end'])\n",
    "    \n",
    "    sections = sorted(sections, key=lambda x: x[0])\n",
    "    \n",
    "    prev_pos, prev_name = (0, 'header')\n",
    "    parsed = []\n",
    "    \n",
    "    for span, span_end, name in sections:\n",
    "\n",
    "        if span - prev_pos <= 0:\n",
    "            continue\n",
    "            \n",
    "\n",
    "        text = source[prev_pos:span]\n",
    "        if prev_pos > begin_doc:\n",
    "            text = r\"\\n\\begin{document}\" + text + r\"\\n\\end{document}\"\n",
    "        else:\n",
    "            text = text + r\"\\n\\end{document}\"\n",
    "        try:\n",
    "            #print(f\"{prev_pos}:{prev_name}-->{span}:{name} check... \", end='')\n",
    "            parsed.append(TexSoup(text, tolerance=1))  # allow not ending env\n",
    "            display(Markdown(f\"**[OK]** - *{prev_pos}*:{prev_name} &rarr; *{span}*:{name}\"))\n",
    "            # print(\"ok\")\n",
    "\n",
    "            prev_pos = span\n",
    "            prev_name = name\n",
    "        except:\n",
    "            # print(f\"error between {prev_pos} and {span}\")\n",
    "            display(Markdown(f\"**[ERR]** *{prev_pos}*:{prev_name} &rarr; *{span}*:{name}\"))\n",
    "            problematic_text.append((prev_pos, source[prev_pos:span]))\n",
    "            prev_pos = span\n",
    "            prev_name = name\n",
    "            # raise\n",
    "    return problematic_text, parsed\n",
    "\n",
    "\n",
    "def check_environment(text, offset=0):\n",
    "    \"\"\" Check environment \"\"\"\n",
    "    env = re.compile(r\"\\\\begin\\{(?P<env>.*)\\}(.*)\\\\end\\{(?P=env)\\}\", re.DOTALL)\n",
    "\n",
    "    for match in env.finditer(text):\n",
    "        beg, end = match.span()\n",
    "        beg += offset\n",
    "        end += offset\n",
    "        envname = match.groups()[0]\n",
    "        try:\n",
    "            latex.TexSoup(match.group())\n",
    "        except Exception as e:\n",
    "            display(e)\n",
    "            print(f\"Error in {envname:s} between {beg} and {end}\")\n",
    "            return match.groups()[1], beg, end"
   ]
  },
  {
   "cell_type": "raw",
   "id": "2315e835",
   "metadata": {
    "papermill": {
     "duration": 0.010652,
     "end_time": "2023-02-16T04:09:44.868623",
     "exception": false,
     "start_time": "2023-02-16T04:09:44.857971",
     "status": "completed"
    },
    "scrolled": false,
    "tags": []
   },
   "source": [
    "import importlib\n",
    "importlib.reload(latex)\n",
    "which = \"2204.03253\"\n",
    "paper_id = f'{which:s}'\n",
    "folder = f'tmp_{paper_id:s}'\n",
    "\n",
    "if not os.path.isdir(folder):\n",
    "    folder = retrieve_document_source(f\"{paper_id}\", f'tmp_{paper_id}')\n",
    "\n",
    "try:\n",
    "    doc = latex.LatexDocument(folder, validation=validation)    \n",
    "except AffiliationError as affilerror:\n",
    "    msg = f\"ArXiv:{paper_id:s} is not an MPIA paper... \" + str(affilerror)\n",
    "    print(msg)\n",
    "\n",
    "\n",
    "# Hack because sometimes author parsing does not work well\n",
    "if (len(doc.authors) != len(paper['authors'])):\n",
    "    doc._authors = paper['authors']\n",
    "if (doc.abstract) in (None, ''):\n",
    "    doc._abstract = paper['abstract']\n",
    "\n",
    "doc.comment = get_markdown_badge(paper_id) + \" _\" + paper['comments'] + \"_\"\n",
    "doc.highlight_authors_in_list(hl_list)\n",
    "\n",
    "full_md = doc.generate_markdown_text()"
   ]
  },
  {
   "cell_type": "raw",
   "id": "dd3781db",
   "metadata": {
    "papermill": {
     "duration": 0.010978,
     "end_time": "2023-02-16T04:09:44.890300",
     "exception": false,
     "start_time": "2023-02-16T04:09:44.879322",
     "status": "completed"
    },
    "scrolled": false,
    "tags": []
   },
   "source": [
    "doc"
   ]
  },
  {
   "cell_type": "raw",
   "id": "c6eed834",
   "metadata": {
    "papermill": {
     "duration": 0.010674,
     "end_time": "2023-02-16T04:09:44.911640",
     "exception": false,
     "start_time": "2023-02-16T04:09:44.900966",
     "status": "completed"
    },
    "tags": []
   },
   "source": [
    "# [check_environment(k) for k in bracket_error(doc.source)]\n",
    "_, _, a = latex.get_content_per_section(doc.source, verbose=True)\n",
    "if not a:\n",
    "    print(\"no issues per section\")\n",
    "for ak in a:\n",
    "    r = check_environment(ak[1], offset=ak[0])\n",
    "    print(r[1], r[2])\n",
    "    print(r[0])"
   ]
  },
  {
   "cell_type": "code",
   "execution_count": null,
   "id": "71ce768a",
   "metadata": {
    "papermill": {
     "duration": 0.010645,
     "end_time": "2023-02-16T04:09:44.933040",
     "exception": false,
     "start_time": "2023-02-16T04:09:44.922395",
     "status": "completed"
    },
    "tags": []
   },
   "outputs": [],
   "source": []
  }
 ],
 "metadata": {
  "kernelspec": {
   "display_name": "Python 3",
   "language": "python",
   "name": "python3"
  },
  "language_info": {
   "codemirror_mode": {
    "name": "ipython",
    "version": 3
   },
   "file_extension": ".py",
   "mimetype": "text/x-python",
   "name": "python",
   "nbconvert_exporter": "python",
   "pygments_lexer": "ipython3",
   "version": "3.9.16"
  },
  "papermill": {
   "default_parameters": {},
   "duration": 127.691592,
   "end_time": "2023-02-16T04:09:45.162662",
   "environment_variables": {},
   "exception": null,
   "input_path": "MPIA daily digest.ipynb",
   "output_path": "log.ipynb",
   "parameters": {},
   "start_time": "2023-02-16T04:07:37.471070",
   "version": "2.4.0"
  },
  "vscode": {
   "interpreter": {
    "hash": "aee8b7b246df8f9039afb4144a1f6fd8d2ca17a180786b69acc140d282b71a49"
   }
  },
  "widgets": {
   "application/vnd.jupyter.widget-state+json": {
    "state": {
     "10d757d7f918451f93a20bd1ff7604c5": {
      "model_module": "@jupyter-widgets/controls",
      "model_module_version": "2.0.0",
      "model_name": "HTMLStyleModel",
      "state": {
       "_model_module": "@jupyter-widgets/controls",
       "_model_module_version": "2.0.0",
       "_model_name": "HTMLStyleModel",
       "_view_count": null,
       "_view_module": "@jupyter-widgets/base",
       "_view_module_version": "2.0.0",
       "_view_name": "StyleView",
       "background": null,
       "description_width": "",
       "font_size": null,
       "text_color": null
      }
     },
     "1af12df1120941619121cae17f323c00": {
      "model_module": "@jupyter-widgets/controls",
      "model_module_version": "2.0.0",
      "model_name": "FloatProgressModel",
      "state": {
       "_dom_classes": [],
       "_model_module": "@jupyter-widgets/controls",
       "_model_module_version": "2.0.0",
       "_model_name": "FloatProgressModel",
       "_view_count": null,
       "_view_module": "@jupyter-widgets/controls",
       "_view_module_version": "2.0.0",
       "_view_name": "ProgressView",
       "bar_style": "success",
       "description": "",
       "description_allow_html": false,
       "layout": "IPY_MODEL_4fb718e745364326bc52bef41f49b2ff",
       "max": 24.0,
       "min": 0.0,
       "orientation": "horizontal",
       "style": "IPY_MODEL_810b08cb14ca4541834f51d6f7fab6c2",
       "tabbable": null,
       "tooltip": null,
       "value": 24.0
      }
     },
     "1dc9cc1a7767409ca76baa2fd2946ec1": {
      "model_module": "@jupyter-widgets/base",
      "model_module_version": "2.0.0",
      "model_name": "LayoutModel",
      "state": {
       "_model_module": "@jupyter-widgets/base",
       "_model_module_version": "2.0.0",
       "_model_name": "LayoutModel",
       "_view_count": null,
       "_view_module": "@jupyter-widgets/base",
       "_view_module_version": "2.0.0",
       "_view_name": "LayoutView",
       "align_content": null,
       "align_items": null,
       "align_self": null,
       "border_bottom": null,
       "border_left": null,
       "border_right": null,
       "border_top": null,
       "bottom": null,
       "display": null,
       "flex": null,
       "flex_flow": null,
       "grid_area": null,
       "grid_auto_columns": null,
       "grid_auto_flow": null,
       "grid_auto_rows": null,
       "grid_column": null,
       "grid_gap": null,
       "grid_row": null,
       "grid_template_areas": null,
       "grid_template_columns": null,
       "grid_template_rows": null,
       "height": null,
       "justify_content": null,
       "justify_items": null,
       "left": null,
       "margin": null,
       "max_height": null,
       "max_width": null,
       "min_height": null,
       "min_width": null,
       "object_fit": null,
       "object_position": null,
       "order": null,
       "overflow": null,
       "padding": null,
       "right": null,
       "top": null,
       "visibility": null,
       "width": null
      }
     },
     "2d2acbbe5de745d3aa95876a502b528d": {
      "model_module": "@jupyter-widgets/controls",
      "model_module_version": "2.0.0",
      "model_name": "HTMLModel",
      "state": {
       "_dom_classes": [],
       "_model_module": "@jupyter-widgets/controls",
       "_model_module_version": "2.0.0",
       "_model_name": "HTMLModel",
       "_view_count": null,
       "_view_module": "@jupyter-widgets/controls",
       "_view_module_version": "2.0.0",
       "_view_name": "HTMLView",
       "description": "",
       "description_allow_html": false,
       "layout": "IPY_MODEL_1dc9cc1a7767409ca76baa2fd2946ec1",
       "placeholder": "​",
       "style": "IPY_MODEL_10d757d7f918451f93a20bd1ff7604c5",
       "tabbable": null,
       "tooltip": null,
       "value": "100%"
      }
     },
     "3286e5b01cf04af0843d613fddc4d8e0": {
      "model_module": "@jupyter-widgets/controls",
      "model_module_version": "2.0.0",
      "model_name": "HBoxModel",
      "state": {
       "_dom_classes": [],
       "_model_module": "@jupyter-widgets/controls",
       "_model_module_version": "2.0.0",
       "_model_name": "HBoxModel",
       "_view_count": null,
       "_view_module": "@jupyter-widgets/controls",
       "_view_module_version": "2.0.0",
       "_view_name": "HBoxView",
       "box_style": "",
       "children": [
        "IPY_MODEL_2d2acbbe5de745d3aa95876a502b528d",
        "IPY_MODEL_1af12df1120941619121cae17f323c00",
        "IPY_MODEL_c09fd5d86a7a430c9780010f9aeb404f"
       ],
       "layout": "IPY_MODEL_7552fb27ef314d169423346493963db3",
       "tabbable": null,
       "tooltip": null
      }
     },
     "4fb718e745364326bc52bef41f49b2ff": {
      "model_module": "@jupyter-widgets/base",
      "model_module_version": "2.0.0",
      "model_name": "LayoutModel",
      "state": {
       "_model_module": "@jupyter-widgets/base",
       "_model_module_version": "2.0.0",
       "_model_name": "LayoutModel",
       "_view_count": null,
       "_view_module": "@jupyter-widgets/base",
       "_view_module_version": "2.0.0",
       "_view_name": "LayoutView",
       "align_content": null,
       "align_items": null,
       "align_self": null,
       "border_bottom": null,
       "border_left": null,
       "border_right": null,
       "border_top": null,
       "bottom": null,
       "display": null,
       "flex": null,
       "flex_flow": null,
       "grid_area": null,
       "grid_auto_columns": null,
       "grid_auto_flow": null,
       "grid_auto_rows": null,
       "grid_column": null,
       "grid_gap": null,
       "grid_row": null,
       "grid_template_areas": null,
       "grid_template_columns": null,
       "grid_template_rows": null,
       "height": null,
       "justify_content": null,
       "justify_items": null,
       "left": null,
       "margin": null,
       "max_height": null,
       "max_width": null,
       "min_height": null,
       "min_width": null,
       "object_fit": null,
       "object_position": null,
       "order": null,
       "overflow": null,
       "padding": null,
       "right": null,
       "top": null,
       "visibility": null,
       "width": null
      }
     },
     "7552fb27ef314d169423346493963db3": {
      "model_module": "@jupyter-widgets/base",
      "model_module_version": "2.0.0",
      "model_name": "LayoutModel",
      "state": {
       "_model_module": "@jupyter-widgets/base",
       "_model_module_version": "2.0.0",
       "_model_name": "LayoutModel",
       "_view_count": null,
       "_view_module": "@jupyter-widgets/base",
       "_view_module_version": "2.0.0",
       "_view_name": "LayoutView",
       "align_content": null,
       "align_items": null,
       "align_self": null,
       "border_bottom": null,
       "border_left": null,
       "border_right": null,
       "border_top": null,
       "bottom": null,
       "display": null,
       "flex": null,
       "flex_flow": null,
       "grid_area": null,
       "grid_auto_columns": null,
       "grid_auto_flow": null,
       "grid_auto_rows": null,
       "grid_column": null,
       "grid_gap": null,
       "grid_row": null,
       "grid_template_areas": null,
       "grid_template_columns": null,
       "grid_template_rows": null,
       "height": null,
       "justify_content": null,
       "justify_items": null,
       "left": null,
       "margin": null,
       "max_height": null,
       "max_width": null,
       "min_height": null,
       "min_width": null,
       "object_fit": null,
       "object_position": null,
       "order": null,
       "overflow": null,
       "padding": null,
       "right": null,
       "top": null,
       "visibility": null,
       "width": null
      }
     },
     "810b08cb14ca4541834f51d6f7fab6c2": {
      "model_module": "@jupyter-widgets/controls",
      "model_module_version": "2.0.0",
      "model_name": "ProgressStyleModel",
      "state": {
       "_model_module": "@jupyter-widgets/controls",
       "_model_module_version": "2.0.0",
       "_model_name": "ProgressStyleModel",
       "_view_count": null,
       "_view_module": "@jupyter-widgets/base",
       "_view_module_version": "2.0.0",
       "_view_name": "StyleView",
       "bar_color": null,
       "description_width": ""
      }
     },
     "bfb5c9fca9c2401dbdc84d8cd1189d3c": {
      "model_module": "@jupyter-widgets/base",
      "model_module_version": "2.0.0",
      "model_name": "LayoutModel",
      "state": {
       "_model_module": "@jupyter-widgets/base",
       "_model_module_version": "2.0.0",
       "_model_name": "LayoutModel",
       "_view_count": null,
       "_view_module": "@jupyter-widgets/base",
       "_view_module_version": "2.0.0",
       "_view_name": "LayoutView",
       "align_content": null,
       "align_items": null,
       "align_self": null,
       "border_bottom": null,
       "border_left": null,
       "border_right": null,
       "border_top": null,
       "bottom": null,
       "display": null,
       "flex": null,
       "flex_flow": null,
       "grid_area": null,
       "grid_auto_columns": null,
       "grid_auto_flow": null,
       "grid_auto_rows": null,
       "grid_column": null,
       "grid_gap": null,
       "grid_row": null,
       "grid_template_areas": null,
       "grid_template_columns": null,
       "grid_template_rows": null,
       "height": null,
       "justify_content": null,
       "justify_items": null,
       "left": null,
       "margin": null,
       "max_height": null,
       "max_width": null,
       "min_height": null,
       "min_width": null,
       "object_fit": null,
       "object_position": null,
       "order": null,
       "overflow": null,
       "padding": null,
       "right": null,
       "top": null,
       "visibility": null,
       "width": null
      }
     },
     "c09fd5d86a7a430c9780010f9aeb404f": {
      "model_module": "@jupyter-widgets/controls",
      "model_module_version": "2.0.0",
      "model_name": "HTMLModel",
      "state": {
       "_dom_classes": [],
       "_model_module": "@jupyter-widgets/controls",
       "_model_module_version": "2.0.0",
       "_model_name": "HTMLModel",
       "_view_count": null,
       "_view_module": "@jupyter-widgets/controls",
       "_view_module_version": "2.0.0",
       "_view_name": "HTMLView",
       "description": "",
       "description_allow_html": false,
       "layout": "IPY_MODEL_bfb5c9fca9c2401dbdc84d8cd1189d3c",
       "placeholder": "​",
       "style": "IPY_MODEL_eafe3cc775cd422a8481a317459b955a",
       "tabbable": null,
       "tooltip": null,
       "value": " 24/24 [01:40&lt;00:00,  1.71s/it]"
      }
     },
     "eafe3cc775cd422a8481a317459b955a": {
      "model_module": "@jupyter-widgets/controls",
      "model_module_version": "2.0.0",
      "model_name": "HTMLStyleModel",
      "state": {
       "_model_module": "@jupyter-widgets/controls",
       "_model_module_version": "2.0.0",
       "_model_name": "HTMLStyleModel",
       "_view_count": null,
       "_view_module": "@jupyter-widgets/base",
       "_view_module_version": "2.0.0",
       "_view_name": "StyleView",
       "background": null,
       "description_width": "",
       "font_size": null,
       "text_color": null
      }
     }
    },
    "version_major": 2,
    "version_minor": 0
   }
  }
 },
 "nbformat": 4,
 "nbformat_minor": 5
}