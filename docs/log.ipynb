{
 "cells": [
  {
   "cell_type": "markdown",
   "id": "92bcb855",
   "metadata": {
    "papermill": {
     "duration": 0.006069,
     "end_time": "2022-10-28T04:35:30.694309",
     "exception": false,
     "start_time": "2022-10-28T04:35:30.688240",
     "status": "completed"
    },
    "tags": []
   },
   "source": [
    "# MPIA Arxiv on Deck 2\n",
    "\n",
    "Contains the steps to produce the paper extractions."
   ]
  },
  {
   "cell_type": "code",
   "execution_count": 1,
   "id": "3a0d6e11",
   "metadata": {
    "execution": {
     "iopub.execute_input": "2022-10-28T04:35:30.705370Z",
     "iopub.status.busy": "2022-10-28T04:35:30.705013Z",
     "iopub.status.idle": "2022-10-28T04:35:30.904869Z",
     "shell.execute_reply": "2022-10-28T04:35:30.903972Z"
    },
    "papermill": {
     "duration": 0.208511,
     "end_time": "2022-10-28T04:35:30.907283",
     "exception": false,
     "start_time": "2022-10-28T04:35:30.698772",
     "status": "completed"
    },
    "tags": []
   },
   "outputs": [],
   "source": [
    "# Imports\n",
    "import os\n",
    "from IPython.display import Markdown, display\n",
    "from tqdm.notebook import tqdm\n",
    "import warnings\n",
    "from PIL import Image \n",
    "\n",
    "# requires arxiv_on_deck_2\n",
    "\n",
    "from arxiv_on_deck_2.arxiv2 import (get_new_papers, \n",
    "                                    get_paper_from_identifier,\n",
    "                                    retrieve_document_source, \n",
    "                                    get_markdown_badge)\n",
    "from arxiv_on_deck_2 import (latex, \n",
    "                             mpia,\n",
    "                             highlight_authors_in_list)\n",
    "\n",
    "# Sometimes images are really big\n",
    "Image.MAX_IMAGE_PIXELS = 1000000000 "
   ]
  },
  {
   "cell_type": "code",
   "execution_count": 2,
   "id": "22aa9d44",
   "metadata": {
    "execution": {
     "iopub.execute_input": "2022-10-28T04:35:30.920380Z",
     "iopub.status.busy": "2022-10-28T04:35:30.920069Z",
     "iopub.status.idle": "2022-10-28T04:35:30.927222Z",
     "shell.execute_reply": "2022-10-28T04:35:30.926326Z"
    },
    "papermill": {
     "duration": 0.017276,
     "end_time": "2022-10-28T04:35:30.929449",
     "exception": false,
     "start_time": "2022-10-28T04:35:30.912173",
     "status": "completed"
    },
    "tags": []
   },
   "outputs": [],
   "source": [
    "# Some useful definitions.\n",
    "\n",
    "class AffiliationWarning(UserWarning):\n",
    "    pass\n",
    "\n",
    "class AffiliationError(RuntimeError):\n",
    "    pass\n",
    "\n",
    "def validation(source: str):\n",
    "    \"\"\"Raises error paper during parsing of source file\n",
    "    \n",
    "    Allows checks before parsing TeX code.\n",
    "    \n",
    "    Raises AffiliationWarning\n",
    "    \"\"\"\n",
    "    check = mpia.affiliation_verifications(source, verbose=True)\n",
    "    if check is not True:\n",
    "        raise AffiliationError(\"mpia.affiliation_verifications: \" + check)\n",
    "\n",
    "        \n",
    "warnings.simplefilter('always', AffiliationWarning)"
   ]
  },
  {
   "cell_type": "code",
   "execution_count": 3,
   "id": "14622700",
   "metadata": {
    "execution": {
     "iopub.execute_input": "2022-10-28T04:35:30.942550Z",
     "iopub.status.busy": "2022-10-28T04:35:30.941789Z",
     "iopub.status.idle": "2022-10-28T04:35:30.946606Z",
     "shell.execute_reply": "2022-10-28T04:35:30.945597Z"
    },
    "papermill": {
     "duration": 0.014456,
     "end_time": "2022-10-28T04:35:30.948620",
     "exception": false,
     "start_time": "2022-10-28T04:35:30.934164",
     "status": "completed"
    },
    "tags": []
   },
   "outputs": [],
   "source": [
    "# additional CSS to consider. \n",
    "# TODO: Current into each exported file. \n",
    "#       This should be set once into the webpages directly.\n",
    "#       With only the class/id definitions in the .md files.\n",
    "\n",
    "debug_html = \"\"\"\n",
    "<style>\n",
    "#wrap{ overflow:auto; }\n",
    "#fig1{ background:yellow; width:100%; float:left; padding:5px;  }\n",
    "#fig2{ background:red; width:50%; float:left; clear:left; padding:5px;  }\n",
    "#fig3{ background:green; width:50%; float:left; padding:5px;   }\n",
    ".macros{ background:yellow; visibility:visible;}\n",
    "h1 {margin: 0 0 0 0;}\n",
    "mark {background-color:#fff3b6;}\n",
    "img {object-fit:contain; max-height:250px; display:inline-block; text-align: center;}\n",
    "</style>\n",
    "\"\"\" \n",
    "html = \"\"\"\n",
    "<style>\n",
    "#wrap{ overflow:auto; }\n",
    "#fig1{ width:100%; float:left; padding: 5px;  }\n",
    "#fig2{ width:50%; float:left; clear:left; padding: 5px;  }\n",
    "#fig3{ width:50%; float:left; padding: 5px;  }\n",
    ".macros{ visibility:hidden; height:0px; }\n",
    "h1 {margin: 0em 0 0 0;}\n",
    "mark {background-color:#fff3b6;}\n",
    "img {object-fit:contain; max-height:250px; display:inline-block; text-align: center;}\n",
    "</style>\n",
    "\"\"\""
   ]
  },
  {
   "cell_type": "markdown",
   "id": "14bd6310",
   "metadata": {
    "papermill": {
     "duration": 0.005293,
     "end_time": "2022-10-28T04:35:30.958235",
     "exception": false,
     "start_time": "2022-10-28T04:35:30.952942",
     "status": "completed"
    },
    "tags": []
   },
   "source": [
    "## get list of arxiv paper candidates\n",
    "\n",
    "We use the MPIA mitarbeiter list webpage from mpia.de to get author names\n",
    "We then get all new papers from Arxiv and match authors"
   ]
  },
  {
   "cell_type": "code",
   "execution_count": 4,
   "id": "2645e73a",
   "metadata": {
    "execution": {
     "iopub.execute_input": "2022-10-28T04:35:30.968632Z",
     "iopub.status.busy": "2022-10-28T04:35:30.968364Z",
     "iopub.status.idle": "2022-10-28T04:35:58.263496Z",
     "shell.execute_reply": "2022-10-28T04:35:58.262765Z"
    },
    "papermill": {
     "duration": 27.302673,
     "end_time": "2022-10-28T04:35:58.265407",
     "exception": false,
     "start_time": "2022-10-28T04:35:30.962734",
     "status": "completed"
    },
    "tags": []
   },
   "outputs": [
    {
     "name": "stdout",
     "output_type": "stream",
     "text": [
      "Arxiv has 48 new papers today\n",
      "          23 with possible author matches\n"
     ]
    }
   ],
   "source": [
    "# get list from MPIA website\n",
    "# it automatically filters identified non-scientists :func:`mpia.filter_non_scientists`\n",
    "mpia_authors = mpia.get_mpia_mitarbeiter_list()\n",
    "new_papers = get_new_papers()\n",
    "# add manual references\n",
    "add_paper_refs = []\n",
    "new_papers.extend([get_paper_from_identifier(k) for k in add_paper_refs])\n",
    "\n",
    "# select only papers with matching author names and highlight authors\n",
    "hl_list = [k[0] for k in mpia_authors]\n",
    "\n",
    "candidates = []\n",
    "for paperk in new_papers:\n",
    "    hl_authors = highlight_authors_in_list(paperk['authors'], hl_list)\n",
    "    matches = [(hl, orig) for hl, orig in zip(hl_authors, paperk['authors']) if 'mark' in hl]\n",
    "    paperk['authors'] = hl_authors\n",
    "    if matches:\n",
    "        candidates.append(paperk)\n",
    "print(\"\"\"Arxiv has {0:,d} new papers today\"\"\".format(len(new_papers)))        \n",
    "print(\"\"\"          {0:,d} with possible author matches\"\"\".format(len(candidates)))"
   ]
  },
  {
   "cell_type": "markdown",
   "id": "3543b34a",
   "metadata": {
    "papermill": {
     "duration": 0.0048,
     "end_time": "2022-10-28T04:35:58.275279",
     "exception": false,
     "start_time": "2022-10-28T04:35:58.270479",
     "status": "completed"
    },
    "tags": []
   },
   "source": [
    "# Parse sources and generate relevant outputs\n",
    "\n",
    "From the candidates, we do the following steps:\n",
    "* get their tarball from ArXiv (and extract data)\n",
    "* find the main .tex file: find one with \\documentclass{...} (sometimes it's non trivial)\n",
    "* Check affiliations with :func:`validation`, which uses :func:`mpia.affiliation_verifications`\n",
    "* If passing the affiliations: we parse the .tex source\n",
    "   * inject sub-documents into the main (flatten the main document)\n",
    "   * parse structure, extract information (title, abstract, authors, figures...)\n",
    "   * handles `\\graphicspath` if provided\n",
    "* Generate the .md document."
   ]
  },
  {
   "cell_type": "code",
   "execution_count": 5,
   "id": "9576b79e",
   "metadata": {
    "execution": {
     "iopub.execute_input": "2022-10-28T04:35:58.286252Z",
     "iopub.status.busy": "2022-10-28T04:35:58.285861Z",
     "iopub.status.idle": "2022-10-28T04:37:19.838439Z",
     "shell.execute_reply": "2022-10-28T04:37:19.837259Z"
    },
    "papermill": {
     "duration": 81.561425,
     "end_time": "2022-10-28T04:37:19.841119",
     "exception": false,
     "start_time": "2022-10-28T04:35:58.279694",
     "status": "completed"
    },
    "scrolled": false,
    "tags": []
   },
   "outputs": [
    {
     "data": {
      "application/vnd.jupyter.widget-view+json": {
       "model_id": "32b8685c8d7b436e989425e3ba84cce0",
       "version_major": 2,
       "version_minor": 0
      },
      "text/plain": [
       "  0%|          | 0/22 [00:00<?, ?it/s]"
      ]
     },
     "metadata": {},
     "output_type": "display_data"
    },
    {
     "name": "stdout",
     "output_type": "stream",
     "text": [
      "Retrieving document from  https://arxiv.org/e-print/2210.14927\n"
     ]
    },
    {
     "name": "stdout",
     "output_type": "stream",
     "text": [
      "extracting tarball to tmp_2210.14927..."
     ]
    },
    {
     "name": "stdout",
     "output_type": "stream",
     "text": [
      " done.\n",
      "Retrieving document from  https://arxiv.org/e-print/2210.14931\n"
     ]
    },
    {
     "name": "stderr",
     "output_type": "stream",
     "text": [
      "/opt/hostedtoolcache/Python/3.9.15/x64/lib/python3.9/site-packages/IPython/core/interactiveshell.py:3378: LatexWarning: Multiple tex files.\n",
      "\n",
      "  exec(code_obj, self.user_global_ns, self.user_ns)\n",
      "/opt/hostedtoolcache/Python/3.9.15/x64/lib/python3.9/site-packages/IPython/core/interactiveshell.py:3378: LatexWarning: Found documentclass in tmp_2210.14927/mnras_template.tex\n",
      "\n",
      "  exec(code_obj, self.user_global_ns, self.user_ns)\n",
      "/opt/hostedtoolcache/Python/3.9.15/x64/lib/python3.9/site-packages/arxiv_on_deck_2/latex.py:292: LatexWarning: Latex injecting: 'author_list' from 'tmp_2210.14927/author_list.tex'\n",
      "  warnings.warn(LatexWarning(f\"Latex injecting: '{ext}' from '{subsource}'\"))\n"
     ]
    },
    {
     "name": "stdout",
     "output_type": "stream",
     "text": [
      "extracting tarball to tmp_2210.14931..."
     ]
    },
    {
     "name": "stdout",
     "output_type": "stream",
     "text": [
      " done.\n",
      "Retrieving document from  https://arxiv.org/e-print/2210.14934\n"
     ]
    },
    {
     "name": "stdout",
     "output_type": "stream",
     "text": [
      "extracting tarball to tmp_2210.14934..."
     ]
    },
    {
     "name": "stdout",
     "output_type": "stream",
     "text": [
      " done.\n",
      "Retrieving document from  https://arxiv.org/e-print/2210.14940\n"
     ]
    },
    {
     "name": "stderr",
     "output_type": "stream",
     "text": [
      "/opt/hostedtoolcache/Python/3.9.15/x64/lib/python3.9/site-packages/IPython/core/interactiveshell.py:3378: LatexWarning: Multiple tex files.\n",
      "\n",
      "  exec(code_obj, self.user_global_ns, self.user_ns)\n",
      "/opt/hostedtoolcache/Python/3.9.15/x64/lib/python3.9/site-packages/IPython/core/interactiveshell.py:3378: LatexWarning: Found documentclass in tmp_2210.14934/main.tex\n",
      "\n",
      "  exec(code_obj, self.user_global_ns, self.user_ns)\n",
      "/opt/hostedtoolcache/Python/3.9.15/x64/lib/python3.9/site-packages/arxiv_on_deck_2/latex.py:292: LatexWarning: Latex injecting: 'appendix' from 'tmp_2210.14934/appendix.tex'\n",
      "  warnings.warn(LatexWarning(f\"Latex injecting: '{ext}' from '{subsource}'\"))\n"
     ]
    },
    {
     "name": "stdout",
     "output_type": "stream",
     "text": [
      "extracting tarball to tmp_2210.14940..."
     ]
    },
    {
     "name": "stdout",
     "output_type": "stream",
     "text": [
      " done.\n",
      "Retrieving document from  https://arxiv.org/e-print/2210.14950\n"
     ]
    },
    {
     "name": "stdout",
     "output_type": "stream",
     "text": [
      "extracting tarball to tmp_2210.14950..."
     ]
    },
    {
     "name": "stdout",
     "output_type": "stream",
     "text": [
      " done.\n",
      "Retrieving document from  https://arxiv.org/e-print/2210.14983\n"
     ]
    },
    {
     "name": "stdout",
     "output_type": "stream",
     "text": [
      "extracting tarball to tmp_2210.14983..."
     ]
    },
    {
     "name": "stdout",
     "output_type": "stream",
     "text": [
      " done.\n",
      "Retrieving document from  https://arxiv.org/e-print/2210.14994\n"
     ]
    },
    {
     "name": "stdout",
     "output_type": "stream",
     "text": [
      "extracting tarball to tmp_2210.14994..."
     ]
    },
    {
     "name": "stdout",
     "output_type": "stream",
     "text": [
      " done.\n",
      "Retrieving document from  https://arxiv.org/e-print/2210.15013\n"
     ]
    },
    {
     "name": "stderr",
     "output_type": "stream",
     "text": [
      "/opt/hostedtoolcache/Python/3.9.15/x64/lib/python3.9/site-packages/IPython/core/interactiveshell.py:3378: LatexWarning: Multiple tex files.\n",
      "\n",
      "  exec(code_obj, self.user_global_ns, self.user_ns)\n",
      "/opt/hostedtoolcache/Python/3.9.15/x64/lib/python3.9/site-packages/IPython/core/interactiveshell.py:3378: LatexWarning: Found documentclass in tmp_2210.14994/aassymbols.tex\n",
      "\n",
      "  exec(code_obj, self.user_global_ns, self.user_ns)\n"
     ]
    },
    {
     "name": "stdout",
     "output_type": "stream",
     "text": [
      "extracting tarball to tmp_2210.15013..."
     ]
    },
    {
     "name": "stdout",
     "output_type": "stream",
     "text": [
      " done.\n",
      "Retrieving document from  https://arxiv.org/e-print/2210.15020\n"
     ]
    },
    {
     "name": "stderr",
     "output_type": "stream",
     "text": [
      "/opt/hostedtoolcache/Python/3.9.15/x64/lib/python3.9/site-packages/IPython/core/interactiveshell.py:3378: LatexWarning: Multiple tex files.\n",
      "\n",
      "  exec(code_obj, self.user_global_ns, self.user_ns)\n",
      "/opt/hostedtoolcache/Python/3.9.15/x64/lib/python3.9/site-packages/IPython/core/interactiveshell.py:3378: LatexWarning: Found documentclass in tmp_2210.15013/Manuscript.tex\n",
      "\n",
      "  exec(code_obj, self.user_global_ns, self.user_ns)\n"
     ]
    },
    {
     "name": "stdout",
     "output_type": "stream",
     "text": [
      "extracting tarball to tmp_2210.15020..."
     ]
    },
    {
     "name": "stdout",
     "output_type": "stream",
     "text": [
      " done.\n",
      "Retrieving document from  https://arxiv.org/e-print/2210.15039\n"
     ]
    },
    {
     "name": "stdout",
     "output_type": "stream",
     "text": [
      "extracting tarball to tmp_2210.15039..."
     ]
    },
    {
     "name": "stdout",
     "output_type": "stream",
     "text": [
      " done.\n",
      "Retrieving document from  https://arxiv.org/e-print/2210.15061\n"
     ]
    },
    {
     "name": "stdout",
     "output_type": "stream",
     "text": [
      "extracting tarball to tmp_2210.15061..."
     ]
    },
    {
     "name": "stdout",
     "output_type": "stream",
     "text": [
      " done.\n",
      "Retrieving document from  https://arxiv.org/e-print/2210.15074\n"
     ]
    },
    {
     "name": "stdout",
     "output_type": "stream",
     "text": [
      "extracting tarball to tmp_2210.15074..."
     ]
    },
    {
     "name": "stdout",
     "output_type": "stream",
     "text": [
      " done.\n",
      "Retrieving document from  https://arxiv.org/e-print/2210.15090\n"
     ]
    },
    {
     "name": "stderr",
     "output_type": "stream",
     "text": [
      "/opt/hostedtoolcache/Python/3.9.15/x64/lib/python3.9/site-packages/IPython/core/interactiveshell.py:3378: LatexWarning: Multiple tex files.\n",
      "\n",
      "  exec(code_obj, self.user_global_ns, self.user_ns)\n",
      "/opt/hostedtoolcache/Python/3.9.15/x64/lib/python3.9/site-packages/IPython/core/interactiveshell.py:3378: LatexWarning: Found documentclass in tmp_2210.15074/fuyu_et_al_noaa12158_manuscript_1023update.tex\n",
      "\n",
      "  exec(code_obj, self.user_global_ns, self.user_ns)\n"
     ]
    },
    {
     "name": "stdout",
     "output_type": "stream",
     "text": [
      "extracting tarball to tmp_2210.15090..."
     ]
    },
    {
     "name": "stdout",
     "output_type": "stream",
     "text": [
      " done.\n",
      "Retrieving document from  https://arxiv.org/e-print/2210.15163\n"
     ]
    },
    {
     "name": "stdout",
     "output_type": "stream",
     "text": [
      "extracting tarball to tmp_2210.15163..."
     ]
    },
    {
     "name": "stdout",
     "output_type": "stream",
     "text": [
      " done.\n",
      "Retrieving document from  https://arxiv.org/e-print/2210.15337\n"
     ]
    },
    {
     "name": "stdout",
     "output_type": "stream",
     "text": [
      "extracting tarball to tmp_2210.15337..."
     ]
    },
    {
     "name": "stdout",
     "output_type": "stream",
     "text": [
      " done.\n",
      "Retrieving document from  https://arxiv.org/e-print/2210.15376\n"
     ]
    },
    {
     "name": "stdout",
     "output_type": "stream",
     "text": [
      "extracting tarball to tmp_2210.15376..."
     ]
    },
    {
     "name": "stdout",
     "output_type": "stream",
     "text": [
      " done.\n",
      "Retrieving document from  https://arxiv.org/e-print/2210.15473\n"
     ]
    },
    {
     "name": "stdout",
     "output_type": "stream",
     "text": [
      "extracting tarball to tmp_2210.15473..."
     ]
    },
    {
     "name": "stdout",
     "output_type": "stream",
     "text": [
      " done.\n",
      "Retrieving document from  https://arxiv.org/e-print/2210.15525\n"
     ]
    },
    {
     "name": "stderr",
     "output_type": "stream",
     "text": [
      "/opt/hostedtoolcache/Python/3.9.15/x64/lib/python3.9/site-packages/IPython/core/interactiveshell.py:3378: LatexWarning: Multiple tex files.\n",
      "\n",
      "  exec(code_obj, self.user_global_ns, self.user_ns)\n",
      "/opt/hostedtoolcache/Python/3.9.15/x64/lib/python3.9/site-packages/IPython/core/interactiveshell.py:3378: LatexWarning: Found documentclass in tmp_2210.15473/main.tex\n",
      "\n",
      "  exec(code_obj, self.user_global_ns, self.user_ns)\n",
      "/opt/hostedtoolcache/Python/3.9.15/x64/lib/python3.9/site-packages/arxiv_on_deck_2/latex.py:292: LatexWarning: Latex injecting: 'aux_fit_results' from 'tmp_2210.15473/aux_fit_results.tex'\n",
      "  warnings.warn(LatexWarning(f\"Latex injecting: '{ext}' from '{subsource}'\"))\n",
      "/opt/hostedtoolcache/Python/3.9.15/x64/lib/python3.9/site-packages/arxiv_on_deck_2/latex.py:292: LatexWarning: Latex injecting: 'planet_fit_results_3' from 'tmp_2210.15473/planet_fit_results_3.tex'\n",
      "  warnings.warn(LatexWarning(f\"Latex injecting: '{ext}' from '{subsource}'\"))\n",
      "/opt/hostedtoolcache/Python/3.9.15/x64/lib/python3.9/site-packages/arxiv_on_deck_2/latex.py:292: LatexWarning: Latex injecting: 'planet_fit_results_2' from 'tmp_2210.15473/planet_fit_results_2.tex'\n",
      "  warnings.warn(LatexWarning(f\"Latex injecting: '{ext}' from '{subsource}'\"))\n",
      "/opt/hostedtoolcache/Python/3.9.15/x64/lib/python3.9/site-packages/arxiv_on_deck_2/latex.py:292: LatexWarning: Latex injecting: 'planet_fit_results_1' from 'tmp_2210.15473/planet_fit_results_1.tex'\n",
      "  warnings.warn(LatexWarning(f\"Latex injecting: '{ext}' from '{subsource}'\"))\n",
      "/opt/hostedtoolcache/Python/3.9.15/x64/lib/python3.9/site-packages/arxiv_on_deck_2/latex.py:292: LatexWarning: Latex injecting: 'planet_fit_results_0' from 'tmp_2210.15473/planet_fit_results_0.tex'\n",
      "  warnings.warn(LatexWarning(f\"Latex injecting: '{ext}' from '{subsource}'\"))\n",
      "/opt/hostedtoolcache/Python/3.9.15/x64/lib/python3.9/site-packages/arxiv_on_deck_2/latex.py:292: LatexWarning: Latex injecting: 'spec_props' from 'tmp_2210.15473/spec_props.tex'\n",
      "  warnings.warn(LatexWarning(f\"Latex injecting: '{ext}' from '{subsource}'\"))\n",
      "/opt/hostedtoolcache/Python/3.9.15/x64/lib/python3.9/site-packages/arxiv_on_deck_2/latex.py:292: LatexWarning: Latex injecting: 'comp_props' from 'tmp_2210.15473/comp_props.tex'\n",
      "  warnings.warn(LatexWarning(f\"Latex injecting: '{ext}' from '{subsource}'\"))\n",
      "/opt/hostedtoolcache/Python/3.9.15/x64/lib/python3.9/site-packages/arxiv_on_deck_2/latex.py:292: LatexWarning: Latex injecting: 'gaia_comp_props' from 'tmp_2210.15473/gaia_comp_props.tex'\n",
      "  warnings.warn(LatexWarning(f\"Latex injecting: '{ext}' from '{subsource}'\"))\n",
      "/opt/hostedtoolcache/Python/3.9.15/x64/lib/python3.9/site-packages/arxiv_on_deck_2/latex.py:292: LatexWarning: Latex injecting: 'target_props_3' from 'tmp_2210.15473/target_props_3.tex'\n",
      "  warnings.warn(LatexWarning(f\"Latex injecting: '{ext}' from '{subsource}'\"))\n",
      "/opt/hostedtoolcache/Python/3.9.15/x64/lib/python3.9/site-packages/arxiv_on_deck_2/latex.py:292: LatexWarning: Latex injecting: 'target_props_2' from 'tmp_2210.15473/target_props_2.tex'\n",
      "  warnings.warn(LatexWarning(f\"Latex injecting: '{ext}' from '{subsource}'\"))\n",
      "/opt/hostedtoolcache/Python/3.9.15/x64/lib/python3.9/site-packages/arxiv_on_deck_2/latex.py:292: LatexWarning: Latex injecting: 'target_props_1' from 'tmp_2210.15473/target_props_1.tex'\n",
      "  warnings.warn(LatexWarning(f\"Latex injecting: '{ext}' from '{subsource}'\"))\n",
      "/opt/hostedtoolcache/Python/3.9.15/x64/lib/python3.9/site-packages/arxiv_on_deck_2/latex.py:292: LatexWarning: Latex injecting: 'target_props_0' from 'tmp_2210.15473/target_props_0.tex'\n",
      "  warnings.warn(LatexWarning(f\"Latex injecting: '{ext}' from '{subsource}'\"))\n",
      "/opt/hostedtoolcache/Python/3.9.15/x64/lib/python3.9/site-packages/arxiv_on_deck_2/latex.py:292: LatexWarning: Latex injecting: 'rv_summary' from 'tmp_2210.15473/rv_summary.tex'\n",
      "  warnings.warn(LatexWarning(f\"Latex injecting: '{ext}' from '{subsource}'\"))\n",
      "/opt/hostedtoolcache/Python/3.9.15/x64/lib/python3.9/site-packages/arxiv_on_deck_2/latex.py:292: LatexWarning: Latex injecting: 'sg3_summary' from 'tmp_2210.15473/sg3_summary.tex'\n",
      "  warnings.warn(LatexWarning(f\"Latex injecting: '{ext}' from '{subsource}'\"))\n",
      "/opt/hostedtoolcache/Python/3.9.15/x64/lib/python3.9/site-packages/arxiv_on_deck_2/latex.py:292: LatexWarning: Latex injecting: 'sg1_summary' from 'tmp_2210.15473/sg1_summary.tex'\n",
      "  warnings.warn(LatexWarning(f\"Latex injecting: '{ext}' from '{subsource}'\"))\n",
      "/opt/hostedtoolcache/Python/3.9.15/x64/lib/python3.9/site-packages/arxiv_on_deck_2/latex.py:292: LatexWarning: Latex injecting: 'tess_summary' from 'tmp_2210.15473/tess_summary.tex'\n",
      "  warnings.warn(LatexWarning(f\"Latex injecting: '{ext}' from '{subsource}'\"))\n",
      "/opt/hostedtoolcache/Python/3.9.15/x64/lib/python3.9/site-packages/arxiv_on_deck_2/latex.py:292: LatexWarning: Latex injecting: 'target_summary' from 'tmp_2210.15473/target_summary.tex'\n",
      "  warnings.warn(LatexWarning(f\"Latex injecting: '{ext}' from '{subsource}'\"))\n",
      "/opt/hostedtoolcache/Python/3.9.15/x64/lib/python3.9/site-packages/arxiv_on_deck_2/latex.py:292: LatexWarning: Latex injecting: 'authors_alpha' from 'tmp_2210.15473/authors_alpha.tex'\n",
      "  warnings.warn(LatexWarning(f\"Latex injecting: '{ext}' from '{subsource}'\"))\n"
     ]
    },
    {
     "name": "stdout",
     "output_type": "stream",
     "text": [
      "extracting tarball to tmp_2210.15525..."
     ]
    },
    {
     "name": "stdout",
     "output_type": "stream",
     "text": [
      " done.\n"
     ]
    },
    {
     "name": "stderr",
     "output_type": "stream",
     "text": [
      "/opt/hostedtoolcache/Python/3.9.15/x64/lib/python3.9/site-packages/arxiv_on_deck_2/latex.py:118: LatexWarning: attempting recovering figure FIGURE/USED/62RgcXHXFEbyagelowessmeanv13.pdf\n",
      "  warnings.warn(LatexWarning(f'attempting recovering figure {image}'))\n",
      "/tmp/ipykernel_2220/4030337529.py:34: LatexWarning: 2210.15525 did not run properly\n",
      "Could not find figure FIGURE/USED/62RgcXHXFEbyagelowessmeanv13.pdf\n",
      "  warnings.warn(latex.LatexWarning(f\"{paper_id:s} did not run properly\\n\" +\n"
     ]
    },
    {
     "name": "stdout",
     "output_type": "stream",
     "text": [
      "Retrieving document from  https://arxiv.org/e-print/2210.15542\n"
     ]
    },
    {
     "name": "stdout",
     "output_type": "stream",
     "text": [
      "extracting tarball to tmp_2210.15542..."
     ]
    },
    {
     "name": "stdout",
     "output_type": "stream",
     "text": [
      " done.\n",
      "Retrieving document from  https://arxiv.org/e-print/2210.15589\n"
     ]
    },
    {
     "name": "stdout",
     "output_type": "stream",
     "text": [
      "extracting tarball to tmp_2210.15589..."
     ]
    },
    {
     "name": "stdout",
     "output_type": "stream",
     "text": [
      " done.\n",
      "Retrieving document from  https://arxiv.org/e-print/2210.15595\n"
     ]
    },
    {
     "name": "stdout",
     "output_type": "stream",
     "text": [
      "extracting tarball to tmp_2210.15595..."
     ]
    },
    {
     "name": "stdout",
     "output_type": "stream",
     "text": [
      " done.\n",
      "Retrieving document from  https://arxiv.org/e-print/2210.15639\n"
     ]
    },
    {
     "name": "stdout",
     "output_type": "stream",
     "text": [
      "extracting tarball to tmp_2210.15639..."
     ]
    },
    {
     "name": "stdout",
     "output_type": "stream",
     "text": [
      " done.\n"
     ]
    }
   ],
   "source": [
    "documents = []\n",
    "failed = []\n",
    "for paper in tqdm(candidates[:-1]):\n",
    "    paper_id = paper['identifier'].lower().replace('arxiv:', '')\n",
    "    \n",
    "    folder = f'tmp_{paper_id}'\n",
    "\n",
    "    try:\n",
    "        if not os.path.isdir(folder):\n",
    "            folder = retrieve_document_source(f\"{paper_id}\", f'tmp_{paper_id}')\n",
    "        \n",
    "        try:\n",
    "            doc = latex.LatexDocument(folder, validation=validation)    \n",
    "        except AffiliationError as affilerror:\n",
    "            msg = f\"ArXiv:{paper_id:s} is not an MPIA paper... \" + str(affilerror)\n",
    "            failed.append((paper, \"affiliation error: \" + str(affilerror) ))\n",
    "            continue\n",
    "        \n",
    "        # Hack because sometimes author parsing does not work well\n",
    "        if (len(doc.authors) != len(paper['authors'])):\n",
    "            doc._authors = paper['authors']\n",
    "        if (doc.abstract) in (None, ''):\n",
    "            doc._abstract = paper['abstract']\n",
    "            \n",
    "        doc.comment = (get_markdown_badge(paper_id) + \n",
    "                       \"<mark>Appeared on: \" + paper['date'] + \"</mark> - \" +\n",
    "                       \"_\" + paper['comments'] + \"_\")\n",
    "        doc.highlight_authors_in_list(hl_list)\n",
    "\n",
    "        full_md = doc.generate_markdown_text()\n",
    "        \n",
    "        documents.append((paper_id, full_md))\n",
    "    except Exception as e:\n",
    "        warnings.warn(latex.LatexWarning(f\"{paper_id:s} did not run properly\\n\" +\n",
    "                                         str(e)\n",
    "                                        ))\n",
    "        failed.append((paper, \"latex error \" + str(e)))"
   ]
  },
  {
   "cell_type": "markdown",
   "id": "2505a25c",
   "metadata": {
    "papermill": {
     "duration": 0.008373,
     "end_time": "2022-10-28T04:37:19.857346",
     "exception": false,
     "start_time": "2022-10-28T04:37:19.848973",
     "status": "completed"
    },
    "tags": []
   },
   "source": [
    "### Export the logs\n",
    "\n",
    "Throughout, we also keep track of the logs per paper. see `logs-{today date}.md` "
   ]
  },
  {
   "cell_type": "code",
   "execution_count": 6,
   "id": "d733828a",
   "metadata": {
    "execution": {
     "iopub.execute_input": "2022-10-28T04:37:19.873595Z",
     "iopub.status.busy": "2022-10-28T04:37:19.873117Z",
     "iopub.status.idle": "2022-10-28T04:37:19.915305Z",
     "shell.execute_reply": "2022-10-28T04:37:19.914526Z"
    },
    "papermill": {
     "duration": 0.052396,
     "end_time": "2022-10-28T04:37:19.917121",
     "exception": false,
     "start_time": "2022-10-28T04:37:19.864725",
     "status": "completed"
    },
    "scrolled": false,
    "tags": []
   },
   "outputs": [
    {
     "data": {
      "text/markdown": [
       "## Successful papers"
      ],
      "text/plain": [
       "<IPython.core.display.Markdown object>"
      ]
     },
     "metadata": {},
     "output_type": "display_data"
    },
    {
     "data": {
      "text/markdown": [
       "## Failed papers"
      ],
      "text/plain": [
       "<IPython.core.display.Markdown object>"
      ]
     },
     "metadata": {},
     "output_type": "display_data"
    },
    {
     "data": {
      "text/markdown": [
       "\n",
       "|||\n",
       "|---:|:---|\n",
       "| [![arXiv](https://img.shields.io/badge/arXiv-arXiv:2210.14927-b31b1b.svg)](https://arxiv.org/abs/arXiv:2210.14927) | **Characterization Of Inpaint Residuals In Interferometric Measurements of  the Epoch Of Reionization**  |\n",
       "|| Michael Pagano, et al. -- incl., <mark>Jing Liu</mark>, <mark>Adrian Liu</mark>, <mark>Jacqueline N. Hewitt</mark> |\n",
       "|*Appeared on*| *2022-10-28*|\n",
       "|*Comments*| *26 pages, 18 figures*|\n",
       "|**Abstract**| Radio Frequency Interference (RFI) is one of the systematic challenges preventing 21cm interferometric instruments from detecting the Epoch of Reionization. To mitigate the effects of RFI on data analysis pipelines, numerous inpaint techniques have been developed to restore RFI corrupted data. We examine the qualitative and quantitative errors introduced into the visibilities and power spectrum due to inpainting. We perform our analysis on simulated data as well as real data from the Hydrogen Epoch of Reionization Array (HERA) Phase 1 upper limits. We also introduce a convolutional neural network that capable of inpainting RFI corrupted data in interferometric instruments. We train our network on simulated data and show that our network is capable at inpainting real data without requiring to be retrained. We find that techniques that incorporate high wavenumbers in delay space in their modeling are best suited for inpainting over narrowband RFI. We also show that with our fiducial parameters Discrete Prolate Spheroidal Sequences (DPSS) and CLEAN provide the best performance for intermittent ``narrowband'' RFI while Gaussian Progress Regression (GPR) and Least Squares Spectral Analysis (LSSA) provide the best performance for larger RFI gaps. However we caution that these qualitative conclusions are sensitive to the chosen hyperparameters of each inpainting technique. We find these results to be consistent in both simulated and real visibilities. We show that all inpainting techniques reliably reproduce foreground dominated modes in the power spectrum. Since the inpainting techniques should not be capable of reproducing noise realizations, we find that the largest errors occur in the noise dominated delay modes. We show that in the future, as the noise level of the data comes down, CLEAN and DPSS are most capable of reproducing the fine frequency structure in the visibilities of HERA data. |\n",
       "|<p style=\"color:green\"> **ERROR** </p>| <p style=\"color:green\">affiliation error: mpia.affiliation_verifications: 'Heidelberg' keyword not found.</p> |"
      ],
      "text/plain": [
       "<IPython.core.display.Markdown object>"
      ]
     },
     "metadata": {},
     "output_type": "display_data"
    },
    {
     "data": {
      "text/markdown": [
       "\n",
       "|||\n",
       "|---:|:---|\n",
       "| [![arXiv](https://img.shields.io/badge/arXiv-arXiv:2210.14931-b31b1b.svg)](https://arxiv.org/abs/arXiv:2210.14931) | **Cosmological inference from the EFTofLSS: the eBOSS QSO full-shape  analysis**  |\n",
       "|| Théo Simon, <mark>Pierre Zhang</mark>, Vivian Poulin |\n",
       "|*Appeared on*| *2022-10-28*|\n",
       "|*Comments*| *33 + 13 pages, 8 figures. Comments welcome!*|\n",
       "|**Abstract**| We present cosmological results inferred from the effective-field theory (EFT) analysis of the full-shape of eBOSS quasars (QSO) power spectrum. We validate our analysis pipeline against simulations, and find overall good agreement between the analyses in Fourier and configuration space. Keeping the baryon abundance and the spectral tilt fixed, we reconstruct at $68\\%$ CL the fractional matter abundance $\\Omega_m$, the reduced Hubble constant $h$, and the clustering amplitude $\\sigma_8$, to respectively $\\Omega_m=0.327\\pm 0.035$, $h=0.655\\pm 0.034$, and $\\sigma_8=0.880\\pm 0.083$ from eBOSS QSO alone. These constraints are consistent at $\\lesssim 1.8\\sigma$ with the ones from Planck and from the EFT analysis of BOSS full-shape. Interestingly $S_8$ reconstructed from eBOSS QSO is slightly higher than that deduced from Planck and BOSS, although statistically consistent. In combination with the EFT likelihood of BOSS, supernovae from Pantheon, and BAO from lyman-$\\alpha$ and 6dF/MGS, constraints improve to $\\Omega_m = 0.2985\\pm 0.0069$ and $h = 0.6803\\pm 0.0075$, in agreement with Planck and with similar precision. We also explore one-parameter extensions to $\\Lambda$CDM and find that results are consistent with flat $\\Lambda$CDM at $\\lesssim 1.1\\sigma$. We obtain competitive constraints on the curvature density fraction $\\Omega_k=-0.039\\pm 0.029$, the dark energy equation of state $w_0=-1.038\\pm 0.041$, the effective number of relativistic species $N_{\\rm eff}=3.44^{+0.44}_{-0.91}$ at $68\\%$ CL, and the sum of neutrino masses $\\sum m_\\nu<0.274e$V at $95\\%$ CL, without Planck data. Including Planck data, contraints significantly improve thanks to the large lever arm in redshift between LSS and CMB measurements. In particular, we obtain the stringent constraint $\\sum m_\\nu<0.093e$V, competitive with recent lyman-$\\alpha$ forest power spectrum bound. |\n",
       "|<p style=\"color:green\"> **ERROR** </p>| <p style=\"color:green\">affiliation error: mpia.affiliation_verifications: 'Heidelberg' keyword not found.</p> |"
      ],
      "text/plain": [
       "<IPython.core.display.Markdown object>"
      ]
     },
     "metadata": {},
     "output_type": "display_data"
    },
    {
     "data": {
      "text/markdown": [
       "\n",
       "|||\n",
       "|---:|:---|\n",
       "| [![arXiv](https://img.shields.io/badge/arXiv-arXiv:2210.14934-b31b1b.svg)](https://arxiv.org/abs/arXiv:2210.14934) | **The effect of outflows on CMB bounds from Primordial Black Hole  accretion**  |\n",
       "|| Lorenzo Piga, et al. -- incl., <mark>Licia Verde</mark> |\n",
       "|*Appeared on*| *2022-10-28*|\n",
       "|*Comments*| *34 pages, 8 figures*|\n",
       "|**Abstract**| Should Primordial Black Holes (PBHs) exist in nature, they would inevitably accrete baryonic matter in their vicinity. In turn, the consequent emission of high-energy radiation could affect the thermal history of the universe to an extent that can be probed with a number of cosmological observables such as the Cosmic Microwave Background (CMB) anisotropies. However, our understanding of the accretion and radiation emission processes in the context of PBHs is still in its infancy, and very large theoretical uncertainties affect the resulting constraints on the PBH abundance. Building on state-of-the-art literature, in this work we take a step towards the development of a more realistic picture of PBH accretion by accounting for the contribution of outflows. Specifically, we derive CMB-driven constraints on the PBH abundance for various accretion geometries, ionization models and mass distributions in absence and in presence of mechanical feedback and non-thermal emissions due to the outflows. As a result, we show that the presence of such outflows introduces an additional layer of uncertainty that needs to be taken into account when quoting cosmological constraints on the PBH abundance, with important consequences in particular in the LIGO-Virgo-KAGRA observational window. |\n",
       "|<p style=\"color:green\"> **ERROR** </p>| <p style=\"color:green\">affiliation error: mpia.affiliation_verifications: 'Heidelberg' keyword not found.</p> |"
      ],
      "text/plain": [
       "<IPython.core.display.Markdown object>"
      ]
     },
     "metadata": {},
     "output_type": "display_data"
    },
    {
     "data": {
      "text/markdown": [
       "\n",
       "|||\n",
       "|---:|:---|\n",
       "| [![arXiv](https://img.shields.io/badge/arXiv-arXiv:2210.14940-b31b1b.svg)](https://arxiv.org/abs/arXiv:2210.14940) | **The effect of winds on atmospheric layers of red supergiants I.  Modelling for interferometric observations**  |\n",
       "|| G. González-Torà, et al. -- incl., <mark>B. Davies</mark> |\n",
       "|*Appeared on*| *2022-10-28*|\n",
       "|*Comments*| *13 pages, 14 figures. Accepted for publication at A&A*|\n",
       "|**Abstract**| Red supergiants (RSGs) are evolved massive stars in a stage preceding core-collapse supernova. The physical processes that trigger mass loss in their atmospheres are still not fully understood. Based on observations of $\\alpha$ Ori, a new semi-empirical method to add a wind to hydrostatic model atmospheres of RSGs was recently developed. We use this method of adding a wind to a MARCS model atmosphere to compute synthetic observables, comparing the model to spatially resolved interferometric observations. We present a case study to model published data of HD 95687 and V602 Car obtained with VLTI/AMBER. We compute model intensities, spectra and visibilities for different mass-loss rates using the radiative transfer code Turbospectrum. The models are convolved to match the different spectral resolutions of the VLTI instruments, studying a wavelength range of $1.8-5\\,\\mathrm{\\mu m}$ corresponding to the $K$, $L$ and $M$-bands for GRAVITY and MATISSE data. We compare the model spectra and visibilities with the published VLTI/AMBER data. The synthetic visibilities reproduce observed drops in the CO, SiO, and water layers that are not shown in visibilities based on MARCS models alone. For the case studies, we find that adding a wind to MARCS with simple radiative equilibrium dramatically improves the agreement with the visibilities and the spectra. Our results reproduce observed extended atmospheres up to several stellar radii. This paper shows the potential of our model to describe extended atmospheres in RSGs: it can reproduce the shapes of the spectra and visibilities with better accuracy in the CO and water lines than previous models. The method can be extended to other wavelength bands for both spectroscopic and interferometric data. We provide temperature and density stratifications that succeed for the first time in reproducing observed interferometric properties of RSG atmospheres. |\n",
       "|<p style=\"color:green\"> **ERROR** </p>| <p style=\"color:green\">affiliation error: mpia.affiliation_verifications: 'Heidelberg' keyword not found.</p> |"
      ],
      "text/plain": [
       "<IPython.core.display.Markdown object>"
      ]
     },
     "metadata": {},
     "output_type": "display_data"
    },
    {
     "data": {
      "text/markdown": [
       "\n",
       "|||\n",
       "|---:|:---|\n",
       "| [![arXiv](https://img.shields.io/badge/arXiv-arXiv:2210.14950-b31b1b.svg)](https://arxiv.org/abs/arXiv:2210.14950) | **The Luminosity Function of Tidal Disruption Flares for the ZTF-I Survey**  |\n",
       "|| <mark>Zheyu Lin</mark>, et al. -- incl., <mark>Zesen Lin</mark> |\n",
       "|*Appeared on*| *2022-10-28*|\n",
       "|*Comments*| *13 pages, 3 figures, 2 tables, accepted for publication in ApJ Letters*|\n",
       "|**Abstract**| The high-cadence survey of Zwicky Transient Facility (ZTF) has completely dominated the discovery of tidal disruption events (TDEs) in the past few years and resulted in the largest sample of TDEs with optical/UV light curves well-sampled around their peaks, providing us an excellent opportunity to construct a peak luminosity function (LF) of tidal disruption flares (TDFs). The new construction is necessary particularly considering that the most updated LF reported in literature has been inferred from only 13 sources from 5 different surveys. Here we present the optical and blackbody LFs calculated by 33 TDFs discovered in the ZTF-I survey. The optical LF can be described by both a power-law profile $dN/dL_g\\propto L_g^{-2.3\\pm0.2}$, and a Schechter-like function. The blackbody LF can be described by a power-law profile $dN/dL_{\\rm bb}\\propto L_{\\rm bb}^{-2.2\\pm0.2}$, shallower than the LF made of previous van Velzen (2018) sample. A possible low-luminosity turnover in the optical LF supports an Eddington-limited emission scenario. The drop of volumetric rate at high luminosity suggests a rate suppression due to direct captures of the black hole. The total volumetric rate is one order of magnitude lower than the previous estimation, which is probably not simply caused by the high fraction post-peak sources (7/13) in the previous sample. Instead, the normalization step during the previous LF construction to reconcile various surveys might adversely amplify the influence of serendipitous discoveries. Therefore, TDFs selected from ongoing and upcoming uniform surveys like ZTF, Vera Rubin Observatory (VRO) and Wide-Field Survey Telescope (WFST) should yield more accurate LFs. |\n",
       "|<p style=\"color:green\"> **ERROR** </p>| <p style=\"color:green\">affiliation error: mpia.affiliation_verifications: 'Heidelberg' keyword not found.</p> |"
      ],
      "text/plain": [
       "<IPython.core.display.Markdown object>"
      ]
     },
     "metadata": {},
     "output_type": "display_data"
    },
    {
     "data": {
      "text/markdown": [
       "\n",
       "|||\n",
       "|---:|:---|\n",
       "| [![arXiv](https://img.shields.io/badge/arXiv-arXiv:2210.14983-b31b1b.svg)](https://arxiv.org/abs/arXiv:2210.14983) | **Constraining the Tilt of the Milky Way's Dark Matter Halo with the  Sagittarius Stream**  |\n",
       "|| Nondh Panithanpaisal, et al. -- incl., <mark>Robyn E. Sanderson</mark> |\n",
       "|*Appeared on*| *2022-10-28*|\n",
       "|*Comments*| *16 pages, 12 figures*|\n",
       "|**Abstract**| Recent studies have suggested that the Milky Way (MW)'s Dark Matter (DM) halo may be significantly tilted with respect to its central stellar disk, a feature that might be linked to its formation history. In this work, we demonstrate a method of constraining the orientation of the minor axis of the DM halo using the angle and frequency variables. This method is complementary to other traditional techniques, such as orbit fitting. We first test the method using a simulated tidal stream evolving in a realistic environment inside an MW-mass host from the FIRE cosmological simulation, showing that the theoretical description of a stream in the action-angle-frequency formalism still holds for a realistic dwarf galaxy stream in a cosmological potential. Utilizing the slopes of the line in angle and frequency space, we show that the correct rotation frame yields a minimal slope difference, allowing us to put a constraint on the minor axis location. Finally, we apply this method to the Sagittarius stream's leading arm. We report that the MW's DM halo is oblate with the flattening parameter in the potential $q\\sim0.7-0.9$ and the minor axis pointing toward $(\\ell,b) = (42^{o},48^{o})$. Our constraint on the minor axis location is weak and disagrees with the estimates from other works; we argue that the inconsistency can be attributed in part to the observational uncertainties and in part to the influence of the Large Magellanic Cloud. |\n",
       "|<p style=\"color:green\"> **ERROR** </p>| <p style=\"color:green\">affiliation error: mpia.affiliation_verifications: 'Heidelberg' keyword not found.</p> |"
      ],
      "text/plain": [
       "<IPython.core.display.Markdown object>"
      ]
     },
     "metadata": {},
     "output_type": "display_data"
    },
    {
     "data": {
      "text/markdown": [
       "\n",
       "|||\n",
       "|---:|:---|\n",
       "| [![arXiv](https://img.shields.io/badge/arXiv-arXiv:2210.14994-b31b1b.svg)](https://arxiv.org/abs/arXiv:2210.14994) | **Beyond Ultra-Diffuse Galaxies I: Mass-Size Outliers Among the Satellites  of Milky Way Analogs**  |\n",
       "|| <mark>Jiaxuan Li</mark>, et al. -- incl., <mark>Jenny E. Greene</mark>, <mark>Andy Goulding</mark>, <mark>Remy Joseph</mark> |\n",
       "|*Appeared on*| *2022-10-28*|\n",
       "|*Comments*| *19 pages, 7 figures, submitted to ApJ*|\n",
       "|**Abstract**| Large diffuse galaxies are hard to find, but understanding the environments where they live, their numbers, and ultimately their origins, is of intense interest and importance for galaxy formation and evolution. Using Subaru's Hyper Suprime-Cam Strategic Survey Program, we perform a systematic search for low surface brightness galaxies and present novel and effective methods for detecting and modeling them. As a case study, we surveyed 922 Milky Way analogs in the nearby Universe ($0.01 < z < 0.04$) and build a large sample of satellite galaxies that are outliers in the mass-size relation. These ``ultra-puffy'' galaxies (UPGs), defined to be $1.5\\sigma$ above the average mass-size relation, represent the tail of the satellite size distribution. We find that each MW analog hosts $N_{\\rm UPG} = 0.31\\pm 0.05$ ultra-puffy galaxies on average, which is consistent with but slightly lower than the observed abundance at this halo mass in the Local Volume. We also construct a sample of ultra-diffuse galaxies (UDGs) in MW analogs and find an abundance of $N_{\\rm UDG} = 0.44\\pm0.05$ per host. With literature results, we confirm that the UDG abundance scales with the host halo mass following a sublinear power law. We argue that our definition for ultra-puffy galaxies, which is based on the mass-size relation, is more physically-motivated than the common definition of ultra-diffuse galaxies, which depends on surface brightness and size cuts and thus yields different surface mass density cuts for quenched and star-forming galaxies. |\n",
       "|<p style=\"color:green\"> **ERROR** </p>| <p style=\"color:green\">affiliation error: mpia.affiliation_verifications: 'Heidelberg' keyword not found.</p> |"
      ],
      "text/plain": [
       "<IPython.core.display.Markdown object>"
      ]
     },
     "metadata": {},
     "output_type": "display_data"
    },
    {
     "data": {
      "text/markdown": [
       "\n",
       "|||\n",
       "|---:|:---|\n",
       "| [![arXiv](https://img.shields.io/badge/arXiv-arXiv:2210.15013-b31b1b.svg)](https://arxiv.org/abs/arXiv:2210.15013) | **High-Resolution Chemical Abundances of the Nyx Stream**  |\n",
       "|| S. Wang, et al. -- incl., <mark>M. Lisanti</mark>, <mark>M. Truong</mark> |\n",
       "|*Appeared on*| *2022-10-28*|\n",
       "|*Comments*| *23 pages, 5 figures, submitted to the AAS Journals, Appendix by S. Wang*|\n",
       "|**Abstract**| Nyx is a nearby, prograde, and high-eccentricity stellar stream physically contained in the thick disk but with an unknown origin. Nyx could be the remnant of a disrupted dwarf galaxy, in which case the associated dark matter substructure could affect terrestrial dark matter direct detection experiments. Alternatively, Nyx could be a signature of the Milky Way's disk formation and evolution. To determine the origin of Nyx, we obtained high-resolution spectroscopy of 34 Nyx stars using Keck/HIRES and Magellan/MIKE. A differential chemical abundance analysis shows that most Nyx stars reside in a metal-rich ($\\mbox{[Fe/H]} > -1$) high-$\\alpha$ component that is chemically indistinguishable from the thick disk. This rules out an originally suggested scenario that Nyx is the remnant of a single massive dwarf galaxy merger. However, we also identify five substantially more metal-poor stars ($\\mbox{[Fe/H]} \\sim -2.0$) that have chemical abundances similar to the metal-weak thick disk. It remains unclear how stars chemically identical to the thick disk can be on such prograde, high-eccentricity orbits. We suggest two most likely scenarios: that Nyx is the result of an early minor dwarf galaxy merger or that it is a record of the early spin-up of the Milky Way disk -- although neither perfectly reproduces the chemodynamic observations. The most likely formation scenarios suggest that future spectroscopic surveys should find Nyx-like structures outside of the Solar Neighborhood. |\n",
       "|<p style=\"color:green\"> **ERROR** </p>| <p style=\"color:green\">affiliation error: mpia.affiliation_verifications: 'Heidelberg' keyword not found.</p> |"
      ],
      "text/plain": [
       "<IPython.core.display.Markdown object>"
      ]
     },
     "metadata": {},
     "output_type": "display_data"
    },
    {
     "data": {
      "text/markdown": [
       "\n",
       "|||\n",
       "|---:|:---|\n",
       "| [![arXiv](https://img.shields.io/badge/arXiv-arXiv:2210.15020-b31b1b.svg)](https://arxiv.org/abs/arXiv:2210.15020) | **An analytic solution to measure the gas size in protoplanetary discs in  the viscous self-similar scenario**  |\n",
       "|| Claudia Toci, et al. -- incl., <mark>Francesco Gerardo Livio</mark> |\n",
       "|*Appeared on*| *2022-10-28*|\n",
       "|*Comments*| *5 pages, 3 figures*|\n",
       "|**Abstract**| In order to understand which mechanism is responsible for accretion in protoplanetary discs, a robust knowledge of the observed disc radius using gas tracers such as $^{12}$CO and other CO isotopologues is pivotal. Indeed, the two main theories proposed, viscous accretion and wind-driven accretion, predict different time evolution for the disc radii. In this Letter, we present an analytical solution for the evolution of the disc radii in viscously evolving protoplanetary discs using $^{12}$CO as a tracer, under the assumption that the $^{12}$CO radius is the radius where the surface density of the disc is equal to the threshold for CO photo-dissociation. We discuss the properties of the solution and the limits of its applicability as a simple numerical prescription to evaluate the observed disc radii of populations of discs. Our results suggest that, in addition to photo-dissociation, also freeze out plays an important role in setting the disc size. We find an effective reduction of the CO abundance by about two orders of magnitude at the location of CO photo-dissociation, which however should not be interpreted as the bulk abundance of CO in the disc. The use of our analytical solution will allow to compute disc sizes for large quantities of models without using expensive computational resources such as radiative transfer calculations. |\n",
       "|<p style=\"color:green\"> **ERROR** </p>| <p style=\"color:green\">affiliation error: mpia.affiliation_verifications: 'Heidelberg' keyword not found.</p> |"
      ],
      "text/plain": [
       "<IPython.core.display.Markdown object>"
      ]
     },
     "metadata": {},
     "output_type": "display_data"
    },
    {
     "data": {
      "text/markdown": [
       "\n",
       "|||\n",
       "|---:|:---|\n",
       "| [![arXiv](https://img.shields.io/badge/arXiv-arXiv:2210.15039-b31b1b.svg)](https://arxiv.org/abs/arXiv:2210.15039) | **Relation of Observable Stellar Parameters to Mass-Loss Rate of AGB Stars  in the LMC**  |\n",
       "|| <mark>Henry A. Prager</mark>, <mark>Lee Anne Willson</mark>, Massimo Marengo, Michelle J. Creech-Eakman |\n",
       "|*Appeared on*| *2022-10-28*|\n",
       "|*Comments*| *26 pages, 13 figures, to be published in the Astrophysical Journal (ApJ)*|\n",
       "|**Abstract**| Using the Riebel et al. (2012) data set for 6,889 pulsating AGB stars in the LMC, we have derived formulae for mass-loss rate as a function of luminosity and pulsation period or luminosity and mass in three ways, for each of five subsets of data: fundamental mode oxygen rich stars, first overtone mode oxygen rich stars stars, fundamental mode carbon stars, first overtone mode carbon stars, and extreme carbon stars. Using the distribution of the stars in period versus luminosity and mass versus luminosity, we are able to derive a power-law fit to the dependence of mass-loss rate on those quantities. This results in formulae that reproduce observed mass-loss rates and are in general agreement with the expectation from mass-loss models that the mass-loss rate is highly sensitive to luminosity, mass, and pulsation period. In the process of carrying out this analysis we have found radius-mass-luminosity and examined pulsation-mass-radius relations using published evolutionary and pulsation models. These allow us to derive mass and radius from the observed quantities luminosity and pulsation period. We also derived new mass-loss rate versus color relations. |\n",
       "|<p style=\"color:green\"> **ERROR** </p>| <p style=\"color:green\">affiliation error: mpia.affiliation_verifications: 'Heidelberg' keyword not found.</p> |"
      ],
      "text/plain": [
       "<IPython.core.display.Markdown object>"
      ]
     },
     "metadata": {},
     "output_type": "display_data"
    },
    {
     "data": {
      "text/markdown": [
       "\n",
       "|||\n",
       "|---:|:---|\n",
       "| [![arXiv](https://img.shields.io/badge/arXiv-arXiv:2210.15061-b31b1b.svg)](https://arxiv.org/abs/arXiv:2210.15061) | **Peeking beneath the precision floor I: metallicity spreads and multiple  elemental dispersions in the globular clusters NGC 288 and NGC 362**  |\n",
       "|| Stephanie Monty, et al. -- incl., <mark>Frank Grundahl</mark> |\n",
       "|*Appeared on*| *2022-10-28*|\n",
       "|*Comments*| *First paper in a series. Accepted for publication in MNRAS*|\n",
       "|**Abstract**| The view of globular clusters (GCs) as simple systems continues to unravel, revealing complex objects hosting multiple chemical peculiarities. Using differential abundance analysis, we probe the chemistry of the Type I GC, NGC 288 and the Type II GC, NGC 362 at the 2\\% level for the first time. We measure 20 elements and find differential measurement uncertainties on the order 0.01-0.02 dex in both clusters. The smallest uncertainties are measured for Fe I in both clusters, with an average uncertainty of $\\sim$0.013 dex. Dispersion in the abundances of Na, Al, Ti I, Ni, Fe I, Y, Zr, Ba and Nd are recovered in NGC 288, none of which can be explained by a spread in He. This is the first time, to our knowledge, a statistically significant spread in $s$-process elements and a potential spread in metallicity has been detected in NGC 288. In NGC 362, we find significant dispersion in the same elements as NGC 288, with the addition of Co, Cu, Zn, Sr, La, Ce, and Eu. Two distinct groups are recovered in NGC 362, separated by 0.3 dex in average differential $s$-process abundances. Given strong correlations between Al and several $s$-process elements, and a significant correlation between Mg and Si, we propose that the $s$-process rich group is younger. This agrees with asymptotic giant branch star (AGB) enrichment between generations, if there is overlap between low- and intermediate-mass AGBs. In our scenario, the older population is dominated by the $r$-process with a $\\Delta^{\\mathrm{La}}-\\Delta^{\\mathrm{Eu}}$ ratio of $-0.16\\pm0.06$. We propose that the $r$-process dominance and dispersion found in NGC 362 are primordial. |\n",
       "|<p style=\"color:green\"> **ERROR** </p>| <p style=\"color:green\">affiliation error: mpia.affiliation_verifications: 'Heidelberg' keyword not found.</p> |"
      ],
      "text/plain": [
       "<IPython.core.display.Markdown object>"
      ]
     },
     "metadata": {},
     "output_type": "display_data"
    },
    {
     "data": {
      "text/markdown": [
       "\n",
       "|||\n",
       "|---:|:---|\n",
       "| [![arXiv](https://img.shields.io/badge/arXiv-arXiv:2210.15074-b31b1b.svg)](https://arxiv.org/abs/arXiv:2210.15074) | **Does the non-force-freeness matter for the extrapolation of solar  magnetic field?**  |\n",
       "|| Fu Yu, et al. -- incl., <mark>Jie Zhao</mark>, <mark>Yang Guo</mark> |\n",
       "|*Appeared on*| *2022-10-28*|\n",
       "|*Comments*| *19 pages, 6 figures, accepted by ApJ*|\n",
       "|**Abstract**| Magnetic field extrapolation is a fundamental tool to reconstruct the three-dimensional solar coronal magnetic field. However, the prevalently used force-free field model might not be applicable in the lower atmosphere, where plasma \\b{eta} is greater than 1. In this work, we perform extrapolation in active region 12158, based on an updated magnetohydrostatic (MHS) method. By comparing the results with those from the force-free field method of Current-Field Iteration in Spherical Coordinates (CFITS), we find that the overall properties, which are characterized by the magnetic free energy and helicity, are roughly the same after volume integral. The major differences lie in the magnetic configuration and the twist number of magnetic flux rope (MFR). A coherent MFR with twist around 1 is reproduced from CFITS. In another manner, two sets of MFR, which are highly twisted and slightly coupled, are derived by the MHS method. The latter one is better constrained by the high-resolution observations, such as the filament fibrils, pre-eruptive braiding characteristics and the eruptive double-J shaped hot channel. Overall, our work shows the MHS method is more promising to reproduce the magnetic fine structures that can well match the observations not only in the chromosphere but also in the corona. This initiates the necessity of reconsidering the simplification of low atmosphere for currently widely used nonlinear force-free extrapolation method, since such assumption will not only omit the magnetic structures at low atmosphere but also affect those obtained in the corona, and therefore bringing in ambiguity in interpreting the solar eruption. |\n",
       "|<p style=\"color:green\"> **ERROR** </p>| <p style=\"color:green\">affiliation error: mpia.affiliation_verifications: 'Heidelberg' keyword not found.</p> |"
      ],
      "text/plain": [
       "<IPython.core.display.Markdown object>"
      ]
     },
     "metadata": {},
     "output_type": "display_data"
    },
    {
     "data": {
      "text/markdown": [
       "\n",
       "|||\n",
       "|---:|:---|\n",
       "| [![arXiv](https://img.shields.io/badge/arXiv-arXiv:2210.15090-b31b1b.svg)](https://arxiv.org/abs/arXiv:2210.15090) | **Properties of Globular Clusters in Galaxy Clusters: Sensitivity from the  Formation and Evolution of Globular Clusters**  |\n",
       "|| So-Myoung Park, Jihye Shin, <mark>Rory Smith</mark>, Kyungwon Chun |\n",
       "|*Appeared on*| *2022-10-28*|\n",
       "|*Comments*| *21 pages, 14 figures, accepted in ApJ*|\n",
       "|**Abstract**| We investigate the properties of globular clusters in a galaxy cluster, using the particle tagging method with a semi-analytical approach in a cosmological context. We assume globular clusters form from dark matter halo mergers and their metallicity is assigned based on the stellar mass of the host dark matter halos and the formation redshift of GCs. Dynamical evolution and disruption of globular clusters are considered using semi-analytical approaches, controlled by several free parameters. In this paper, we investigate how our results are changed by the choice of free parameters. We compare our fiducial results with representative observations, including the mass ratio between the globular cluster system and its host galaxy, the globular cluster occupancy, the number fraction of blue globular clusters, and the metallicity gradient with the globular cluster mass. Because we can know the positions of globular clusters with time, comparison with additional observations is possible, e.g., the median radii of the globular cluster system in individual galaxies, the mean projected density profiles of intracluster globular clusters, and metallicity and age gradients of globular clusters with a clustercentric radius. We also find that the specific mass of the globular cluster system in each galaxy is different with a clustercentric radius. |\n",
       "|<p style=\"color:green\"> **ERROR** </p>| <p style=\"color:green\">affiliation error: mpia.affiliation_verifications: 'Heidelberg' keyword not found.</p> |"
      ],
      "text/plain": [
       "<IPython.core.display.Markdown object>"
      ]
     },
     "metadata": {},
     "output_type": "display_data"
    },
    {
     "data": {
      "text/markdown": [
       "\n",
       "|||\n",
       "|---:|:---|\n",
       "| [![arXiv](https://img.shields.io/badge/arXiv-arXiv:2210.15163-b31b1b.svg)](https://arxiv.org/abs/arXiv:2210.15163) | **Asteroseismology of PG 1541$+$651 and BPM 31594 with TESS**  |\n",
       "|| Alejandra D. Romero, et al. -- incl., <mark>J. J. Hermes</mark> |\n",
       "|*Appeared on*| *2022-10-28*|\n",
       "|*Comments*| *12 pages, 11 figures. Accepted for publication in MNRAS*|\n",
       "|**Abstract**| We present the photometric data from TESS for two known ZZ Ceti stars, PG 1541+651 and BPM 31594. Before TESS, both objects only had observations from short runs from ground-based facilities, with three and one period detected, respectively. The TESS data allowed the detection of multiple periodicities, 12 for PG 1541$+$651, and six for BPM 31594, which enables us to perform a detailed asteroseismological study. For both objects we found a representative asteroseismic model with canonical stellar mass ~ 0.61 Msun and thick hydrogen envelopes, thicker than 10^(-5.3) M_*. The detection of triplets in the Fourier transform also allowed us to estimate mean rotation periods, being ~22 h for PG 1541+651 and 11.6 h for BPM 31594, which is consistent with range of values reported for other ZZ Ceti stars. |\n",
       "|<p style=\"color:green\"> **ERROR** </p>| <p style=\"color:green\">affiliation error: mpia.affiliation_verifications: 'Heidelberg' keyword not found.</p> |"
      ],
      "text/plain": [
       "<IPython.core.display.Markdown object>"
      ]
     },
     "metadata": {},
     "output_type": "display_data"
    },
    {
     "data": {
      "text/markdown": [
       "\n",
       "|||\n",
       "|---:|:---|\n",
       "| [![arXiv](https://img.shields.io/badge/arXiv-arXiv:2210.15337-b31b1b.svg)](https://arxiv.org/abs/arXiv:2210.15337) | **On the appearance of non-local MRI in Keplerian accretion discs**  |\n",
       "|| Nikolay Shakura, Konstantin Postnov, Dmitry Kolesnikov, <mark>Galina Lipunova</mark> |\n",
       "|*Appeared on*| *2022-10-28*|\n",
       "|*Comments*| *13 pages, 13 figures, to be submitted. Comments welcome!*|\n",
       "|**Abstract**| We revisit the modal analysis of small perturbations in Keplerian ideal gas flows with constant vertical magnetic field leading to magneto-rotational instability (MRI) using the non-local approach. In the general case, MRI modes are described by a Schr\\\"odinger-like differential equation with some effective potential including 'repulsive' ($1/r^2$) and 'attractive' ($-1/r^3$) terms and are quantized. In shallow potentials, there are no stationary 'energy levels'. In thin Keplerian accretion discs, the perturbation wavelengths $\\lambda=2\\pi/k_z$ are smaller than the disc semi-thickness $h$ only in 'deep' potential wells. We find that there is a critical magnetic field for the MRI to develop. The instability arises for magnetic field below this critical value. In thin accretion discs, at low background Alfv\\'en velocity $c_A\\ll (c_A)_\\mathrm{cr}$ the MRI instability increment $\\omega$ is suppressed compared to the value obtained in the local perturbation analysis, $\\omega\\approx -\\sqrt{3}\\mathrm{i}c_Ak_z$. We also investigate for the first time the case of radially variable background magnetic field. |\n",
       "|<p style=\"color:green\"> **ERROR** </p>| <p style=\"color:green\">affiliation error: mpia.affiliation_verifications: 'Heidelberg' keyword not found.</p> |"
      ],
      "text/plain": [
       "<IPython.core.display.Markdown object>"
      ]
     },
     "metadata": {},
     "output_type": "display_data"
    },
    {
     "data": {
      "text/markdown": [
       "\n",
       "|||\n",
       "|---:|:---|\n",
       "| [![arXiv](https://img.shields.io/badge/arXiv-arXiv:2210.15376-b31b1b.svg)](https://arxiv.org/abs/arXiv:2210.15376) | **Constraining the X-ray reflection in low accretion rate AGN using  XMM-Newton, NuSTAR and Swift**  |\n",
       "|| Y. Díaz, et al. -- incl., <mark>L. Hernández-García</mark> |\n",
       "|*Appeared on*| *2022-10-28*|\n",
       "|*Comments*| *Accepted for publication in Astronomy & Astrophysics*|\n",
       "|**Abstract**| An interesting feature in active galactic nuclei (AGN) accreting at low rate is the weakness of the reflection features in their X-ray spectra, which can result from the gradual disappearance of the torus with decreasing accretion rates. It has been suggested that low luminosity AGN (LLAGN) would have a different reflector configuration compared with high luminosity AGN, either covering a smaller fraction of the sky or simply having less material. Additionally, we note that the determination of the spectral index ($\\Gamma$) and the cut-off energy of the primary power-law emission is affected by the inclusion of reflection models, showing the importance of using them to study the accretion mechanism, especially in the case of the LLAGN that have previously shown a high dispersion on the relation between $\\Gamma$ and the accretion rate. Our purpose is to constrain the geometry and column density of the reflector in a sample of LLAGN covering a broad X-ray range of energy combining data from XMM-Newton + NuSTAR + Swift of a hard X-ray-flux limited sample of 17 LLAGN from BASS/DR2 with accretion rates $\\lambda_{Edd}$=L$_{\\rm Bol}$/L$_{\\rm Edd}$<10$^{-3}$. We fit all spectra using the reflection model for torus (borus02) and accretion disk (Xillver) reflectors. We found a tentative correlation between the torus column density and the accretion rate, LLAGN shows a lower column density compared with the high-luminosity objects. We also confirm the relation between $\\Gamma$ and $\\lambda_{Edd}$, with a smaller scatter than previously reported, thanks to the inclusion of high-energy data and the reflection models. Our results are consistent with a break at $\\lambda_{Edd}\\sim10^{-3}$, suggestive of a different accretion mechanism compared with higher accretion AGN. |\n",
       "|<p style=\"color:green\"> **ERROR** </p>| <p style=\"color:green\">affiliation error: mpia.affiliation_verifications: 'Heidelberg' keyword not found.</p> |"
      ],
      "text/plain": [
       "<IPython.core.display.Markdown object>"
      ]
     },
     "metadata": {},
     "output_type": "display_data"
    },
    {
     "data": {
      "text/markdown": [
       "\n",
       "|||\n",
       "|---:|:---|\n",
       "| [![arXiv](https://img.shields.io/badge/arXiv-arXiv:2210.15473-b31b1b.svg)](https://arxiv.org/abs/arXiv:2210.15473) | **The TESS Grand Unified Hot Jupiter Survey. II. Twenty New Giant Planets**  |\n",
       "|| Samuel W. Yee, et al. -- incl., <mark>Joseph E. Rodriguez</mark>, <mark>Owen Alfaro</mark>, <mark>Coel Hellier</mark>, <mark>Ian Helm</mark> |\n",
       "|*Appeared on*| *2022-10-28*|\n",
       "|*Comments*| *67 pages, 11 tables, 13 figures, 2 figure sets. Resubmitted to ApJS after revisions*|\n",
       "|**Abstract**| NASA's Transiting Exoplanet Survey Satellite (TESS) mission promises to improve our understanding of hot Jupiters by providing an all-sky, magnitude-limited sample of transiting hot Jupiters suitable for population studies. Assembling such a sample requires confirming hundreds of planet candidates with additional follow-up observations. Here, we present twenty hot Jupiters that were detected using TESS data and confirmed to be planets through photometric, spectroscopic, and imaging observations coordinated by the TESS Follow-up Observing Program (TFOP). These twenty planets have orbital periods shorter than 7 days and orbit relatively bright FGK stars ($10.9 < G < 13.0$). Most of the planets are comparable in mass to Jupiter, although there are four planets with masses less than that of Saturn. TOI-3976 b, the longest period planet in our sample ($P = 6.6$ days), may be on a moderately eccentric orbit ($e = 0.18\\pm0.06$), while observations of the other targets are consistent with them being on circular orbits. We measured the projected stellar obliquity of TOI-1937A b, a hot Jupiter on a 22.4 hour orbit with the Rossiter-McLaughlin effect, finding the planet's orbit to be well-aligned with the stellar spin axis ($|\\lambda| = 4.0\\pm3.5^\\circ$). We also investigated the possibility that TOI-1937 is a member of the NGC 2516 open cluster, but ultimately found the evidence for cluster membership to be ambiguous. These objects are part of a larger effort to build a complete sample of hot Jupiters to be used for future demographic and detailed characterization work. |\n",
       "|<p style=\"color:green\"> **ERROR** </p>| <p style=\"color:green\">affiliation error: mpia.affiliation_verifications: 'Heidelberg' keyword not found.</p> |"
      ],
      "text/plain": [
       "<IPython.core.display.Markdown object>"
      ]
     },
     "metadata": {},
     "output_type": "display_data"
    },
    {
     "data": {
      "text/markdown": [
       "\n",
       "|||\n",
       "|---:|:---|\n",
       "| [![arXiv](https://img.shields.io/badge/arXiv-arXiv:2210.15542-b31b1b.svg)](https://arxiv.org/abs/arXiv:2210.15542) | **MHD decomposition explains diffuse $γ$-ray emission in Cygnus X**  |\n",
       "|| Ottavio Fornieri, <mark>Heshou Zhang</mark> |\n",
       "|*Appeared on*| *2022-10-28*|\n",
       "|*Comments*| *7 pages, 4 figures*|\n",
       "|**Abstract**| Cosmic-ray (CR) diffusion is the result of the interaction of such charged particles against magnetic fluctuations. These fluctuations originate from large-scale turbulence cascading towards smaller spatial scales, decomposed into three different modes, as described by $magneto-hydro-dynamics$ (MHD) theory. As a consequence, the description of particle diffusion strongly depends on the model describing the injected turbulence. Moreover, the amount of energy assigned to each of the three modes is in general not equally divided, which implies that diffusion properties might be different from one region to another. Here, motivated by the detection of different MHD modes inside the Cygnus-X star-forming region, we study the 3D transport of CRs injected by two prominent sources within a two-zone model that represents the distribution of the modes. Then, by convolving the propagated CR-distribution with the neutral gas, we are able to explain the $\\gamma$-ray diffuse emission in the region, observed by the Fermi-LAT and HAWC Collaborations. Such a result represents an important step in the long-standing problem of connecting the CR observables with the micro-physics of particle transport. |\n",
       "|<p style=\"color:green\"> **ERROR** </p>| <p style=\"color:green\">affiliation error: mpia.affiliation_verifications: 'Heidelberg' keyword not found.</p> |"
      ],
      "text/plain": [
       "<IPython.core.display.Markdown object>"
      ]
     },
     "metadata": {},
     "output_type": "display_data"
    },
    {
     "data": {
      "text/markdown": [
       "\n",
       "|||\n",
       "|---:|:---|\n",
       "| [![arXiv](https://img.shields.io/badge/arXiv-arXiv:2210.15589-b31b1b.svg)](https://arxiv.org/abs/arXiv:2210.15589) | **Kinematics of the Local Group gas and galaxies in the Hestia simulations**  |\n",
       "|| Luis Biaus, et al. -- incl., <mark>Philipp Richter</mark>, <mark>Noam I. Libeskind</mark> |\n",
       "|*Appeared on*| *2022-10-28*|\n",
       "|*Comments*| *13 pages, 9 figures, accepted for publication in MNRAS*|\n",
       "|**Abstract**| We investigate the kinematic properties of gas and galaxies in the Local Group (LG) using high-resolution simulations performed by the {\\sc Hestia} (High-resolution Environmental Simulations of The Immediate Area) collaboration. Our simulations include the correct cosmography surrounding LG-like regions consisting of two main spiral galaxies of $\\sim 10^{12}$~M$_\\odot$, their satellites and minor isolated galaxies, all sharing the same large-scale motion within a volume of a few Mpc. We characterise the gas and galaxy kinematics within the simulated LGs, from the perspective of the Sun, to compare with observed trends from recent HST/COS absorption-line observations and LG galaxy data. To analyse the velocity pattern of LG gas and galaxies seen in the observational data, we build sky maps from the local standard of rest, and the galactic and local group barycentre frames. Our findings show that the establishment of a radial velocity dipole at low/high latitudes, near the preferred barycentre direction, is a natural outcome of simulation kinematics for material {\\it outside} the Milky Way virial radius after removing galaxy rotation when the two main LG galaxies are approaching. Our results favour a scenario where gas and galaxies stream towards the LG barycentre producing a velocity dipole resembling observations. While our study shows in a qualitative way the global matter kinematics in the LG as part of its on-going assembly, quantitative estimates of gas-flow rates and physical conditions of the LG gas have to await a more detailed modeling of the ionization conditions, which will be presented in a follow-up paper. |\n",
       "|<p style=\"color:green\"> **ERROR** </p>| <p style=\"color:green\">affiliation error: mpia.affiliation_verifications: 'Heidelberg' keyword not found.</p> |"
      ],
      "text/plain": [
       "<IPython.core.display.Markdown object>"
      ]
     },
     "metadata": {},
     "output_type": "display_data"
    },
    {
     "data": {
      "text/markdown": [
       "\n",
       "|||\n",
       "|---:|:---|\n",
       "| [![arXiv](https://img.shields.io/badge/arXiv-arXiv:2210.15595-b31b1b.svg)](https://arxiv.org/abs/arXiv:2210.15595) | **A deep 1.4 GHz survey of the J1030 equatorial field: a new window on  radio source populations across cosmic time**  |\n",
       "|| Q. D'Amato, et al. -- incl., <mark>E. Liuzzo</mark> |\n",
       "|*Appeared on*| *2022-10-28*|\n",
       "|*Comments*| *18 pages, 15 figures, 5 table. Accepted for publication in A&A*|\n",
       "|**Abstract**| We present deep L-Band observations of the equatorial field centered on the z=6.3 SDSS QSO, reaching a 1 sigma sensitivity of ~2.5 uJy at the center of the field. We extracted a catalog of 1489 radio sources down to a flux density of ~12.5 uJy (5 sigma) over a field of view of ~ 30' diameter. We derived the source counts accounting for catalog reliability and completeness, and compared them with others available in the literature. Our source counts are among the deepest available so far, and, overall, are consistent with recent counts' determinations and models. We detected for the first time in the radio band the SDSS J1030+0524 QSO (26 +/- 5 uJy). We derived its optical radio loudness R_O = 0.62 +/- 0.12, which makes it the most radio quiet AGN at z >~ 6 discovered so far and detected at radio wavelengths. We unveiled extended diffuse radio emission associated with the lobes of a bright FRII radio galaxy located close to the center of the J1030 field, which is likely to become the future BCG of a protocluster at z=1.7. The lobes' complex morphology, coupled with the presence of X-ray diffuse emission detected around the FRII galaxy lobes, may point toward an interaction between the radio jets and the external medium. We also investigated the relation between radio and X-ray luminosity for a sample of 243 X-ray-selected objects obtained from 500 ks Chandra observations of the same field, and spanning a wide redshift range (0 ~< z ~< 3). Focused on sources with a spectroscopic redshift and classification, we found that sources hosted by ETG and AGN follow Log(L_R)/Log(L_X) linear correlations with slopes of ~0.6 and ~0.8, respectively. This is interpreted as a likely signature of different efficiency in the accretion process. Finally, we found that most of these sources (>~87%) show a radio-to-X-ray radio loudness R_X < -3.5, classifying these objects as radio quiet. |\n",
       "|<p style=\"color:green\"> **ERROR** </p>| <p style=\"color:green\">affiliation error: mpia.affiliation_verifications: 'Heidelberg' keyword not found.</p> |"
      ],
      "text/plain": [
       "<IPython.core.display.Markdown object>"
      ]
     },
     "metadata": {},
     "output_type": "display_data"
    },
    {
     "data": {
      "text/markdown": [
       "\n",
       "|||\n",
       "|---:|:---|\n",
       "| [![arXiv](https://img.shields.io/badge/arXiv-arXiv:2210.15639-b31b1b.svg)](https://arxiv.org/abs/arXiv:2210.15639) | **A shot in the Dark (Ages): a faint galaxy at $z=9.76$ confirmed with  JWST**  |\n",
       "|| Guido Roberts-Borsani, et al. -- incl., <mark>Nicha Leethochawalit</mark>, <mark>Lifan Wang</mark>, <mark>Lilan Yang</mark> |\n",
       "|*Appeared on*| *2022-10-28*|\n",
       "|*Comments*| *Submitted to Nature. 34 pages, 4 main figures, 1 supplementary figure, 2 supplementary tables. Comments are welcome*|\n",
       "|**Abstract**| The appearance of galaxies over the first billion years after the Big Bang is believed to be responsible for the last dramatic change in the state of the Universe. Ultraviolet photons from galaxies within this time period - the Epoch of Reionization - ionized intergalactic Hydrogen, rendering the Universe transparent to UV radiation and ending the so-called cosmic Dark Ages, sometime after redshift $z\\sim8$. The majority of ionizing photons in the first few hundred Myrs of cosmic history are thought to derive from galaxies significantly fainter than the characteristic luminosity $L^{*}$. These faint galaxies are thought to be surrounded by sufficient neutral gas to prevent the escape of the Lyman-$\\alpha$ photons that would allow confirmation with current observatories. Here we demonstrate the power of the recently commissioned James Webb Space Telescope to transform our understanding of the sources of reionization, by reporting the first spectroscopic confirmation of a very low luminosity ($\\sim0.05 L^{*}$) galaxy at $z=9.76$, observed 480 Myr after the Big Bang, via the detection of the Lyman-break and redward continuum with the NIRSpec and NIRCam instruments. The galaxy JD1 is gravitationally magnified by a factor of $\\mu\\sim13$ by the foreground cluster A2744. The power of JWST and lensing allows us to peer deeper than ever before into the cosmic Dark Ages, revealing the compact ($\\sim$150 pc) and complex morphology and physical properties of an ultrafaint galaxy ($M_{\\rm UV}=-17.45$). |\n",
       "|<p style=\"color:green\"> **ERROR** </p>| <p style=\"color:green\">affiliation error: mpia.affiliation_verifications: 'Heidelberg' keyword not found.</p> |"
      ],
      "text/plain": [
       "<IPython.core.display.Markdown object>"
      ]
     },
     "metadata": {},
     "output_type": "display_data"
    },
    {
     "data": {
      "text/markdown": [
       "\n",
       "|||\n",
       "|---:|:---|\n",
       "| [![arXiv](https://img.shields.io/badge/arXiv-arXiv:2210.15525-b31b1b.svg)](https://arxiv.org/abs/arXiv:2210.15525) | **The Gaia-ESO survey: mapping the shape and evolution of the radial  abundance gradients with open clusters**  |\n",
       "|| L. Magrini, et al. -- incl., <mark>U. Heiter</mark>, <mark>M. Bergemann</mark> |\n",
       "|*Appeared on*| *2022-10-28*|\n",
       "|*Comments*| *25 pages, 14 figures and 4 tables in the main text, 3 figures and 7 tables in the Appendix. Accepted for publication in A&A*|\n",
       "|**Abstract**| The spatial distribution of elemental abundances and their time evolution are among the major constraints to disentangle the scenarios of formation and evolution of the Galaxy. We used the sample of open clusters available in the final release of the Gaia-ESO survey to trace the Galactic radial abundance and abundance to iron ratio gradients, and their time evolution. We selected member stars in 62 open clusters, with ages from 0.1 to about 7~Gyr, located in the Galactic thin disc at Galactocentric radii from about 6 to 21~kpc. We analysed the shape of the resulting [Fe/H] gradient, the average gradients [El/H] and [El/Fe] combining elements belonging to four different nucleosynthesis channels, and their individual abundance and abundance ratio gradients. We also investigated the time evolution of the gradients dividing open clusters in three age bins. The[Fe/H] gradient has a slope of -0.054 dex~kpc-1. We saw different behaviours for elements belonging to different channels. We found that the youngest clusters in the inner disc have lower metallicity than their older counterpart and they outline a flatter gradient. We considered some possible explanations, including the effects of gas inflow and migration. We suggested that it might be a bias introduced by the standard spectroscopic analysis producing lower metallicities in low gravity stars. To delineate the shape of the `true' gradient, we should limit our analysis to stars with low surface gravity logg>2.5 and xi<1.8 km~s-1. Based on this reduced sample, we can conclude that the gradient has minimally evolved over the time-frame outlined by the open clusters, indicating a slow and stationary formation of the thin disc in the latest Gyr. We found a secondary role of clusters' migration in shaping the gradient, with a more prominent role of migration for the oldest clusters. |\n",
       "|<p style=\"color:red\"> **ERROR** </p>| <p style=\"color:red\">latex error Could not find figure FIGURE/USED/62RgcXHXFEbyagelowessmeanv13.pdf</p> |"
      ],
      "text/plain": [
       "<IPython.core.display.Markdown object>"
      ]
     },
     "metadata": {},
     "output_type": "display_data"
    }
   ],
   "source": [
    "import datetime\n",
    "today = str(datetime.date.today())\n",
    "logfile = f\"_build/html/logs/log-{today}.md\"\n",
    "\n",
    "\n",
    "with open(logfile, 'w') as logs:\n",
    "    # Success\n",
    "    logs.write(f'# Arxiv on Deck 2: Logs - {today}\\n\\n')\n",
    "    logs.write(\"\"\"* Arxiv had {0:,d} new papers\\n\"\"\".format(len(new_papers)))\n",
    "    logs.write(\"\"\"    * {0:,d} with possible author matches\\n\\n\"\"\".format(len(candidates)))\n",
    "    logs.write(\"## Sucessful papers\\n\\n\")\n",
    "    display(Markdown(\"## Successful papers\"))\n",
    "    success = [k[0] for k in documents]\n",
    "    for candid in candidates:\n",
    "        if candid['identifier'].split(':')[-1] in success:\n",
    "            display(candid)\n",
    "            logs.write(candid.generate_markdown_text() + '\\n\\n')\n",
    "\n",
    "    ## failed\n",
    "    logs.write(\"## Failed papers\\n\\n\")\n",
    "    display(Markdown(\"## Failed papers\"))\n",
    "    failed = sorted(failed, key=lambda x: x[1])\n",
    "    current_reason = \"\"\n",
    "    for paper, reason in failed:\n",
    "        if 'affiliation' in reason:\n",
    "            color = 'green'\n",
    "        else:\n",
    "            color = 'red'\n",
    "        data = Markdown(\n",
    "                paper.generate_markdown_text() + \n",
    "                f'\\n|<p style=\"color:{color:s}\"> **ERROR** </p>| <p style=\"color:{color:s}\">{reason:s}</p> |'\n",
    "               )\n",
    "        if reason != current_reason:\n",
    "            logs.write(f'### {reason:s} \\n\\n')\n",
    "            current_reason = reason\n",
    "        logs.write(data.data + '\\n\\n')\n",
    "        \n",
    "        # only display here the important errors (all in logs)\n",
    "        # if color in ('red',):\n",
    "        display(data)"
   ]
  },
  {
   "cell_type": "markdown",
   "id": "472d20ee",
   "metadata": {
    "papermill": {
     "duration": 0.011092,
     "end_time": "2022-10-28T04:37:19.939086",
     "exception": false,
     "start_time": "2022-10-28T04:37:19.927994",
     "status": "completed"
    },
    "tags": []
   },
   "source": [
    "## Export documents\n",
    "\n",
    "We now write the .md files and export relevant images"
   ]
  },
  {
   "cell_type": "code",
   "execution_count": 7,
   "id": "d426aed9",
   "metadata": {
    "execution": {
     "iopub.execute_input": "2022-10-28T04:37:19.963480Z",
     "iopub.status.busy": "2022-10-28T04:37:19.963207Z",
     "iopub.status.idle": "2022-10-28T04:37:19.971468Z",
     "shell.execute_reply": "2022-10-28T04:37:19.970710Z"
    },
    "papermill": {
     "duration": 0.023,
     "end_time": "2022-10-28T04:37:19.973113",
     "exception": false,
     "start_time": "2022-10-28T04:37:19.950113",
     "status": "completed"
    },
    "tags": []
   },
   "outputs": [],
   "source": [
    "def export_markdown_summary(md: str, md_fname:str, directory: str):\n",
    "    \"\"\"Export MD document and associated relevant images\"\"\"\n",
    "    import os\n",
    "    import shutil\n",
    "    import re\n",
    "\n",
    "    if (os.path.exists(directory) and not os.path.isdir(directory)):\n",
    "        raise RuntimeError(f\"a non-directory file exists with name {directory:s}\")\n",
    "\n",
    "    if (not os.path.exists(directory)):\n",
    "        print(f\"creating directory {directory:s}\")\n",
    "        os.mkdir(directory)\n",
    "\n",
    "    fig_fnames = (re.compile(r'\\[Fig.*\\]\\((.*)\\)').findall(md) + \n",
    "                  re.compile(r'\\<img src=\"([^>\\s]*)\"[^>]*/>').findall(md))\n",
    "    for fname in fig_fnames:\n",
    "        if 'http' in fname:\n",
    "            # No need to copy online figures\n",
    "            continue\n",
    "        destdir = os.path.join(directory, os.path.dirname(fname))\n",
    "        destfname = os.path.join(destdir, os.path.basename(fname))\n",
    "        try:\n",
    "            os.makedirs(destdir)\n",
    "        except FileExistsError:\n",
    "            pass\n",
    "        shutil.copy(fname, destfname)\n",
    "    with open(os.path.join(directory, md_fname), 'w') as fout:\n",
    "        fout.write(md)\n",
    "    print(\"exported in \", os.path.join(directory, md_fname))\n",
    "    [print(\"    + \" + os.path.join(directory,fk)) for fk in fig_fnames]"
   ]
  },
  {
   "cell_type": "code",
   "execution_count": 8,
   "id": "014d04a4",
   "metadata": {
    "execution": {
     "iopub.execute_input": "2022-10-28T04:37:19.997088Z",
     "iopub.status.busy": "2022-10-28T04:37:19.996806Z",
     "iopub.status.idle": "2022-10-28T04:37:20.000604Z",
     "shell.execute_reply": "2022-10-28T04:37:19.999727Z"
    },
    "papermill": {
     "duration": 0.018324,
     "end_time": "2022-10-28T04:37:20.002625",
     "exception": false,
     "start_time": "2022-10-28T04:37:19.984301",
     "status": "completed"
    },
    "tags": []
   },
   "outputs": [],
   "source": [
    "for paper_id, md in documents:\n",
    "    export_markdown_summary(md, f\"{paper_id:s}.md\", '_build/html/')"
   ]
  },
  {
   "cell_type": "markdown",
   "id": "f087a0a7",
   "metadata": {
    "papermill": {
     "duration": 0.011208,
     "end_time": "2022-10-28T04:37:20.024831",
     "exception": false,
     "start_time": "2022-10-28T04:37:20.013623",
     "status": "completed"
    },
    "tags": []
   },
   "source": [
    "## Display the papers\n",
    "\n",
    "Not necessary but allows for a quick check."
   ]
  },
  {
   "cell_type": "code",
   "execution_count": 9,
   "id": "fd25f625",
   "metadata": {
    "execution": {
     "iopub.execute_input": "2022-10-28T04:37:20.050114Z",
     "iopub.status.busy": "2022-10-28T04:37:20.049748Z",
     "iopub.status.idle": "2022-10-28T04:37:20.054262Z",
     "shell.execute_reply": "2022-10-28T04:37:20.053337Z"
    },
    "papermill": {
     "duration": 0.020174,
     "end_time": "2022-10-28T04:37:20.056545",
     "exception": false,
     "start_time": "2022-10-28T04:37:20.036371",
     "status": "completed"
    },
    "scrolled": false,
    "tags": []
   },
   "outputs": [],
   "source": [
    "[display(Markdown(k[1])) for k in documents];"
   ]
  },
  {
   "cell_type": "markdown",
   "id": "873873a4",
   "metadata": {
    "papermill": {
     "duration": 0.010715,
     "end_time": "2022-10-28T04:37:20.077815",
     "exception": false,
     "start_time": "2022-10-28T04:37:20.067100",
     "status": "completed"
    },
    "tags": []
   },
   "source": [
    "# Create HTML index"
   ]
  },
  {
   "cell_type": "code",
   "execution_count": 10,
   "id": "cf665672",
   "metadata": {
    "execution": {
     "iopub.execute_input": "2022-10-28T04:37:20.101626Z",
     "iopub.status.busy": "2022-10-28T04:37:20.101295Z",
     "iopub.status.idle": "2022-10-28T04:37:20.111177Z",
     "shell.execute_reply": "2022-10-28T04:37:20.110379Z"
    },
    "papermill": {
     "duration": 0.023856,
     "end_time": "2022-10-28T04:37:20.113015",
     "exception": false,
     "start_time": "2022-10-28T04:37:20.089159",
     "status": "completed"
    },
    "tags": []
   },
   "outputs": [
    {
     "name": "stdout",
     "output_type": "stream",
     "text": [
      "73  publications in the last 7 days.\n",
      "\t _build/html/2210.12412.md\n",
      "\t _build/html/2210.11926.md\n",
      "\t _build/html/2210.11551.md\n",
      "\t _build/html/2210.11103.md\n",
      "\t _build/html/2210.10707.md\n",
      "\t _build/html/2210.09930.md\n",
      "\t _build/html/2210.08996.md\n",
      "\t _build/html/2210.08517.md\n",
      "\t _build/html/2210.08510.md\n",
      "\t _build/html/2210.08078.md\n",
      "\t _build/html/2210.06504.md\n",
      "\t _build/html/2210.05695.md\n",
      "\t _build/html/2210.05595.md\n",
      "\t _build/html/2210.05505.md\n",
      "\t _build/html/2210.04721.md\n",
      "\t _build/html/2210.03615.md\n",
      "\t _build/html/2210.01811.md\n",
      "\t _build/html/2210.01809.md\n",
      "\t _build/html/2210.01556.md\n",
      "\t _build/html/2210.00863.md\n",
      "\t _build/html/2210.00560.md\n",
      "\t _build/html/2209.15403.md\n",
      "\t _build/html/2209.15110.md\n",
      "\t _build/html/2209.14410.md\n",
      "\t _build/html/2209.14396.md\n",
      "\t _build/html/2209.13717.md\n",
      "\t _build/html/2209.13336.md\n",
      "\t _build/html/2209.12906.md\n",
      "\t _build/html/2209.11781.md\n",
      "\t _build/html/2209.11602.md\n",
      "\t _build/html/2209.11248.md\n",
      "\t _build/html/2209.11096.md\n",
      "\t _build/html/2209.10618.md\n",
      "\t _build/html/2209.09914.md\n",
      "\t _build/html/2209.09823.md\n",
      "\t _build/html/2209.08242.md\n",
      "\t _build/html/2209.08120.md\n",
      "\t _build/html/2209.08106.md\n",
      "\t _build/html/2209.07962.md\n",
      "\t _build/html/2209.07931.md\n",
      "\t _build/html/2209.06833.md\n",
      "\t _build/html/2209.05814.md\n",
      "\t _build/html/2209.05593.md\n",
      "\t _build/html/2209.04304.md\n",
      "\t _build/html/2209.03367.md\n",
      "\t _build/html/2209.02872.md\n",
      "\t _build/html/2209.02725.md\n",
      "\t _build/html/2209.02722.md\n",
      "\t _build/html/2209.02092.md\n",
      "\t _build/html/2209.01125.md\n",
      "\t _build/html/2209.00828.md\n",
      "\t _build/html/2209.00363.md\n",
      "\t _build/html/2208.14927.md\n",
      "\t _build/html/2208.09335.md\n",
      "\t _build/html/2208.08872.md\n",
      "\t _build/html/2204.06393.md\n",
      "\t _build/html/2204.03335.md\n",
      "\t _build/html/2204.03253.md\n",
      "\t _build/html/2204.02998.md\n",
      "\t _build/html/2204.02109.md\n",
      "\t _build/html/2204.02017.md\n",
      "\t _build/html/2204.01824.md\n",
      "\t _build/html/2204.01758.md\n",
      "\t _build/html/2204.01245.md\n",
      "\t _build/html/2204.00793.md\n",
      "\t _build/html/2204.00342.md\n",
      "\t _build/html/2203.16959.md\n",
      "\t _build/html/2203.16856.md\n",
      "\t _build/html/2203.16735.md\n",
      "\t _build/html/2203.16734.md\n",
      "\t _build/html/2203.16504.md\n",
      "\t _build/html/2203.15822.md\n",
      "\t _build/html/2203.15811.md\n"
     ]
    }
   ],
   "source": [
    "from datetime import datetime, timedelta, timezone\n",
    "from glob import glob\n",
    "\n",
    "files = glob('_build/html/*.md')\n",
    "days = 7\n",
    "now = datetime.today()\n",
    "res = []\n",
    "for fk in files:\n",
    "    stat_result = os.stat(fk).st_ctime\n",
    "    modified = datetime.fromtimestamp(stat_result, tz=timezone.utc).replace(tzinfo=None)\n",
    "    delta = now.today() - modified\n",
    "    if delta <= timedelta(days=days):\n",
    "        res.append((delta.seconds, fk))\n",
    "res = [k[1] for k in reversed(sorted(res, key=lambda x:x[1]))]\n",
    "npub = len(res)\n",
    "print(len(res), f\" publications in the last {days:d} days.\")\n",
    "[ print('\\t', k) for k in res ];"
   ]
  },
  {
   "cell_type": "code",
   "execution_count": 11,
   "id": "52ca0208",
   "metadata": {
    "execution": {
     "iopub.execute_input": "2022-10-28T04:37:20.136433Z",
     "iopub.status.busy": "2022-10-28T04:37:20.135712Z",
     "iopub.status.idle": "2022-10-28T04:37:20.143059Z",
     "shell.execute_reply": "2022-10-28T04:37:20.142280Z"
    },
    "papermill": {
     "duration": 0.021035,
     "end_time": "2022-10-28T04:37:20.144945",
     "exception": false,
     "start_time": "2022-10-28T04:37:20.123910",
     "status": "completed"
    },
    "scrolled": false,
    "tags": []
   },
   "outputs": [],
   "source": [
    "def create_carousel(npub=4):\n",
    "    \"\"\" Generate the HTML code for a carousel with `npub` slides \"\"\"\n",
    "    carousel = [\"\"\"<section class=\"carousel\" aria-label=\"Gallery\">\"\"\",\n",
    "                \"\"\"  <ol class=\"carousel__viewport\">\"\"\",\n",
    "    ]\n",
    "    for k in range(1, npub + 1):\n",
    "        prev_ = k - 1\n",
    "        next_ = k + 1\n",
    "        if prev_ <= 0:\n",
    "            prev_ = npub\n",
    "        if next_ > npub:\n",
    "            next_ = 1\n",
    "        text  = f\"\"\"    <li id=\"carousel__slide{k}\" tabindex=\"0\" class=\"carousel__slide\">\\n\"\"\"\n",
    "        text += f\"\"\"       <div class=\"carousel__snapper\">\\n\"\"\"\n",
    "        text += f\"\"\"         <a href=\"#carousel__slide{prev_}\" class=\"carousel__prev\">Go to previous slide</a>\\n\"\"\"\n",
    "        text += f\"\"\"         <a href=\"#carousel__slide{next_}\" class=\"carousel__next\">Go to next slide</a>\\n\"\"\"\n",
    "        text += f\"\"\"         <div id=\"slide{k}_content\" class=\"md_view\" >Content {k}</div>\\n\"\"\"\n",
    "        text += f\"\"\"       </div>\\n\"\"\"\n",
    "        text += f\"\"\"    </li>\"\"\"\n",
    "        carousel.append(text)\n",
    "\n",
    "    carousel.extend([\n",
    "        \"\"\"  </ol>\"\"\",\n",
    "        \"\"\"  <aside class=\"carousel__navigation\">\"\"\",\n",
    "        \"\"\"    <ol class=\"carousel__navigation-list\">\"\"\"])\n",
    "\n",
    "    for k in range(1, npub + 1):\n",
    "        text  = f\"\"\"      <li class=\"carousel__navigation-item\">\\n\"\"\"\n",
    "        text += f\"\"\"        <a href=\"#carousel__slide{k}\" class=\"carousel__navigation-button\">Go to {k}</a>\\n\"\"\"\n",
    "        text += f\"\"\"      </li>\"\"\"\n",
    "        carousel.append(text)\n",
    "    carousel.extend([\"\"\"    </ol>\"\"\", \"\"\"  </aside>\"\"\", \"\"\"</section>\"\"\"])\n",
    "\n",
    "    return '\\n'.join(carousel)"
   ]
  },
  {
   "cell_type": "code",
   "execution_count": 12,
   "id": "a6eac5b6",
   "metadata": {
    "execution": {
     "iopub.execute_input": "2022-10-28T04:37:20.195787Z",
     "iopub.status.busy": "2022-10-28T04:37:20.195367Z",
     "iopub.status.idle": "2022-10-28T04:37:20.203722Z",
     "shell.execute_reply": "2022-10-28T04:37:20.202922Z"
    },
    "papermill": {
     "duration": 0.049418,
     "end_time": "2022-10-28T04:37:20.205454",
     "exception": false,
     "start_time": "2022-10-28T04:37:20.156036",
     "status": "completed"
    },
    "scrolled": false,
    "tags": []
   },
   "outputs": [],
   "source": [
    "carousel = create_carousel(npub)\n",
    "docs = ', '.join(['\"{0:s}\"'.format(k.split('/')[-1]) for k in res])\n",
    "slides = ', '.join([f'\"slide{k}_content\"' for k in range(1, npub + 1)])\n",
    "\n",
    "script = f\"\"\"\n",
    "const docs = [{docs}]\n",
    "\n",
    "const slides = [{slides}]\n",
    "\"\"\" + \"\"\"\n",
    "async function run() {\n",
    "    for (let i = 0; i < docs.length; i++) {\n",
    "        let file = await fetch(docs[i]);\n",
    "        let text = await file.text()\n",
    "        document.getElementById(slides[i]).innerHTML =\n",
    "            marked.parse(text);\n",
    "    }\n",
    "    hljs.highlightAll();\n",
    "}\n",
    "run()\n",
    "\"\"\"\n",
    "\n",
    "page = f\"\"\"<!doctype html>\n",
    "<html lang=\"en\">\n",
    "\n",
    "<head>\n",
    "  <meta charset=\"utf-8\">\n",
    "  <meta name=\"viewport\" content=\"width=device-width, initial-scale=1\">\n",
    "  <!-- Bootstrap CSS -->\n",
    "  <link href=\"https://cdn.jsdelivr.net/npm/bootstrap@5.0.2/dist/css/bootstrap.min.css\" rel=\"stylesheet\"\n",
    "   integrity=\"sha384-EVSTQN3/azprG1Anm3QDgpJLIm9Nao0Yz1ztcQTwFspd3yD65VohhpuuCOmLASjC\" crossorigin=\"anonymous\">\n",
    "  <!-- highlight.js CSS -->\n",
    "  <link rel=\"stylesheet\" href=\"https://cdnjs.cloudflare.com/ajax/libs/highlight.js/11.1.0/styles/default.min.css\">\n",
    "  <!-- Mathjax 3 -->\n",
    "  <script type=\"text/javascript\" id=\"MathJax-config\" src=\"mathjax_config.js\"> </script>\n",
    "  <script type=\"text/javascript\" id=\"MathJax-script\" async \n",
    "    src=\"https://cdn.jsdelivr.net/npm/mathjax@3/es5/tex-mml-chtml.js\">\n",
    "  </script>\n",
    "  <link rel=\"stylesheet\" href=\"index_carousel.css\">\n",
    "  <link rel=\"icon\" type=\"image/x-icon\" href=\"https://www.mpia.de/assets/touch-icon-32x32-a66937bcebc4e8894ebff1f41a366c7c7220fd97a38869ee0f2db65a9f59b6c1.png\">\n",
    "  <title>MPIA Arxiv on deck!</title>\n",
    "</head>\n",
    "\n",
    "<body>\n",
    "  <div id=\"header\"> <img src=\"header_banner.png\" width=\"100%\"></div>\n",
    "  <div id=\"suptitle\"> 7-day archives </div>\n",
    "  <div id=\"info\">\n",
    "    <img src=\"https://pngimg.com/uploads/github/github_PNG58.png\" height=30rem></img>\n",
    "    <a href=https://github.com/mpi-astronomy/arxiv_display style=\"color:black;\">github/mpi-astronomy/arxiv_display</a> \n",
    "  </div>\n",
    "  {carousel:s}\n",
    "</body>\n",
    "\n",
    "<!-- Render Markdown -->\n",
    "\n",
    "<body>\n",
    "  <!-- highlight.js: https://highlightjs.org/download/ -->\n",
    "  <script src=\"https://cdnjs.cloudflare.com/ajax/libs/highlight.js/11.5.0/highlight.min.js\"></script>\n",
    "  <!-- marked.js -->\n",
    "  <script src=\"https://cdn.jsdelivr.net/npm/marked/marked.min.js\"></script>\n",
    "  <script>{script:s}</script>\n",
    "</body>\n",
    "</html>\n",
    "\"\"\"\n",
    "with open(\"_build/html/index_7days.html\", 'w') as fout:\n",
    "    fout.write(page)"
   ]
  },
  {
   "cell_type": "markdown",
   "id": "1cebacbc",
   "metadata": {
    "papermill": {
     "duration": 0.012153,
     "end_time": "2022-10-28T04:37:20.228675",
     "exception": false,
     "start_time": "2022-10-28T04:37:20.216522",
     "status": "completed"
    },
    "tags": []
   },
   "source": [
    "# Debugging papers"
   ]
  },
  {
   "cell_type": "raw",
   "id": "debe7cc6",
   "metadata": {
    "papermill": {
     "duration": 0.01056,
     "end_time": "2022-10-28T04:37:20.250664",
     "exception": false,
     "start_time": "2022-10-28T04:37:20.240104",
     "status": "completed"
    },
    "tags": []
   },
   "source": [
    "raise NotImplementedError(\"Manual Stop\")"
   ]
  },
  {
   "cell_type": "raw",
   "id": "eb169192",
   "metadata": {
    "papermill": {
     "duration": 0.010521,
     "end_time": "2022-10-28T04:37:20.271777",
     "exception": false,
     "start_time": "2022-10-28T04:37:20.261256",
     "status": "completed"
    },
    "scrolled": true,
    "tags": []
   },
   "source": [
    "from IPython.display import display, Markdown\n",
    "from TexSoup import TexSoup\n",
    "import re\n",
    "\n",
    "def bracket_error(source: str):\n",
    "    \"\"\" Find problematic portions of the document \"\"\"\n",
    "    \n",
    "    print(\"len(source)\", len(source))\n",
    "    \n",
    "    # Checking header\n",
    "    begin_doc = next(re.finditer(r'\\\\begin\\{document\\}', doc.source)).span()[1]\n",
    "    header = source[:begin_doc]\n",
    "    text = header + r\"\\n\\end{document}\"\n",
    "\n",
    "    try:\n",
    "        # print(\"Header check... \", end='')\n",
    "        TexSoup(text)\n",
    "        display(Markdown(f\"**[OK]** - Header\"))\n",
    "    except:\n",
    "        raise RuntimeError(\"Error in the header\")\n",
    "        \n",
    "    # Check the text per section until the end.\n",
    "    # Do not stop and try them all.\n",
    "    \n",
    "    problematic_text = []\n",
    "    \n",
    "    sections = ([(0, begin_doc, 'until first section')] + \n",
    "                [(g.span()[0], g.span()[1], g.group()) for g in re.finditer(r'\\\\section\\{.*\\}', source)] +\n",
    "                [(g.span()[0], g.span()[1], g.group()) for g in re.finditer(r'\\\\begin\\{appendix\\}', source)]\n",
    "               )\n",
    "    sections.append([len(source), len(source), 'end'])\n",
    "    \n",
    "    sections = sorted(sections, key=lambda x: x[0])\n",
    "    \n",
    "    prev_pos, prev_name = (0, 'header')\n",
    "    parsed = []\n",
    "    \n",
    "    for span, span_end, name in sections:\n",
    "\n",
    "        if span - prev_pos <= 0:\n",
    "            continue\n",
    "            \n",
    "\n",
    "        text = source[prev_pos:span]\n",
    "        if prev_pos > begin_doc:\n",
    "            text = r\"\\n\\begin{document}\" + text + r\"\\n\\end{document}\"\n",
    "        else:\n",
    "            text = text + r\"\\n\\end{document}\"\n",
    "        try:\n",
    "            #print(f\"{prev_pos}:{prev_name}-->{span}:{name} check... \", end='')\n",
    "            parsed.append(TexSoup(text, tolerance=1))  # allow not ending env\n",
    "            display(Markdown(f\"**[OK]** - *{prev_pos}*:{prev_name} &rarr; *{span}*:{name}\"))\n",
    "            # print(\"ok\")\n",
    "\n",
    "            prev_pos = span\n",
    "            prev_name = name\n",
    "        except:\n",
    "            # print(f\"error between {prev_pos} and {span}\")\n",
    "            display(Markdown(f\"**[ERR]** *{prev_pos}*:{prev_name} &rarr; *{span}*:{name}\"))\n",
    "            problematic_text.append((prev_pos, source[prev_pos:span]))\n",
    "            prev_pos = span\n",
    "            prev_name = name\n",
    "            # raise\n",
    "    return problematic_text, parsed\n",
    "\n",
    "\n",
    "def check_environment(text, offset=0):\n",
    "    \"\"\" Check environment \"\"\"\n",
    "    env = re.compile(r\"\\\\begin\\{(?P<env>.*)\\}(.*)\\\\end\\{(?P=env)\\}\", re.DOTALL)\n",
    "\n",
    "    for match in env.finditer(text):\n",
    "        beg, end = match.span()\n",
    "        beg += offset\n",
    "        end += offset\n",
    "        envname = match.groups()[0]\n",
    "        try:\n",
    "            latex.TexSoup(match.group())\n",
    "        except Exception as e:\n",
    "            display(e)\n",
    "            print(f\"Error in {envname:s} between {beg} and {end}\")\n",
    "            return match.groups()[1], beg, end"
   ]
  },
  {
   "cell_type": "raw",
   "id": "2315e835",
   "metadata": {
    "papermill": {
     "duration": 0.011004,
     "end_time": "2022-10-28T04:37:20.293543",
     "exception": false,
     "start_time": "2022-10-28T04:37:20.282539",
     "status": "completed"
    },
    "scrolled": false,
    "tags": []
   },
   "source": [
    "import importlib\n",
    "importlib.reload(latex)\n",
    "which = \"2204.03253\"\n",
    "paper_id = f'{which:s}'\n",
    "folder = f'tmp_{paper_id:s}'\n",
    "\n",
    "if not os.path.isdir(folder):\n",
    "    folder = retrieve_document_source(f\"{paper_id}\", f'tmp_{paper_id}')\n",
    "\n",
    "try:\n",
    "    doc = latex.LatexDocument(folder, validation=validation)    \n",
    "except AffiliationError as affilerror:\n",
    "    msg = f\"ArXiv:{paper_id:s} is not an MPIA paper... \" + str(affilerror)\n",
    "    print(msg)\n",
    "\n",
    "\n",
    "# Hack because sometimes author parsing does not work well\n",
    "if (len(doc.authors) != len(paper['authors'])):\n",
    "    doc._authors = paper['authors']\n",
    "if (doc.abstract) in (None, ''):\n",
    "    doc._abstract = paper['abstract']\n",
    "\n",
    "doc.comment = get_markdown_badge(paper_id) + \" _\" + paper['comments'] + \"_\"\n",
    "doc.highlight_authors_in_list(hl_list)\n",
    "\n",
    "full_md = doc.generate_markdown_text()"
   ]
  },
  {
   "cell_type": "raw",
   "id": "dd3781db",
   "metadata": {
    "papermill": {
     "duration": 0.01139,
     "end_time": "2022-10-28T04:37:20.316241",
     "exception": false,
     "start_time": "2022-10-28T04:37:20.304851",
     "status": "completed"
    },
    "scrolled": false,
    "tags": []
   },
   "source": [
    "doc"
   ]
  },
  {
   "cell_type": "raw",
   "id": "c6eed834",
   "metadata": {
    "papermill": {
     "duration": 0.011856,
     "end_time": "2022-10-28T04:37:20.339717",
     "exception": false,
     "start_time": "2022-10-28T04:37:20.327861",
     "status": "completed"
    },
    "tags": []
   },
   "source": [
    "# [check_environment(k) for k in bracket_error(doc.source)]\n",
    "_, _, a = latex.get_content_per_section(doc.source, verbose=True)\n",
    "if not a:\n",
    "    print(\"no issues per section\")\n",
    "for ak in a:\n",
    "    r = check_environment(ak[1], offset=ak[0])\n",
    "    print(r[1], r[2])\n",
    "    print(r[0])"
   ]
  },
  {
   "cell_type": "code",
   "execution_count": null,
   "id": "71ce768a",
   "metadata": {
    "papermill": {
     "duration": 0.012984,
     "end_time": "2022-10-28T04:37:20.364232",
     "exception": false,
     "start_time": "2022-10-28T04:37:20.351248",
     "status": "completed"
    },
    "tags": []
   },
   "outputs": [],
   "source": []
  }
 ],
 "metadata": {
  "kernelspec": {
   "display_name": "Python 3.10.6 64-bit",
   "language": "python",
   "name": "python3"
  },
  "language_info": {
   "codemirror_mode": {
    "name": "ipython",
    "version": 3
   },
   "file_extension": ".py",
   "mimetype": "text/x-python",
   "name": "python",
   "nbconvert_exporter": "python",
   "pygments_lexer": "ipython3",
   "version": "3.9.15"
  },
  "papermill": {
   "default_parameters": {},
   "duration": 111.286203,
   "end_time": "2022-10-28T04:37:20.694103",
   "environment_variables": {},
   "exception": null,
   "input_path": "MPIA daily digest.ipynb",
   "output_path": "log.ipynb",
   "parameters": {},
   "start_time": "2022-10-28T04:35:29.407900",
   "version": "2.4.0"
  },
  "vscode": {
   "interpreter": {
    "hash": "e7370f93d1d0cde622a1f8e1c04877d8463912d04d973331ad4851f04de6915a"
   }
  },
  "widgets": {
   "application/vnd.jupyter.widget-state+json": {
    "state": {
     "083ec47afd5549a4ba9d7deca73c03af": {
      "model_module": "@jupyter-widgets/base",
      "model_module_version": "2.0.0",
      "model_name": "LayoutModel",
      "state": {
       "_model_module": "@jupyter-widgets/base",
       "_model_module_version": "2.0.0",
       "_model_name": "LayoutModel",
       "_view_count": null,
       "_view_module": "@jupyter-widgets/base",
       "_view_module_version": "2.0.0",
       "_view_name": "LayoutView",
       "align_content": null,
       "align_items": null,
       "align_self": null,
       "border_bottom": null,
       "border_left": null,
       "border_right": null,
       "border_top": null,
       "bottom": null,
       "display": null,
       "flex": null,
       "flex_flow": null,
       "grid_area": null,
       "grid_auto_columns": null,
       "grid_auto_flow": null,
       "grid_auto_rows": null,
       "grid_column": null,
       "grid_gap": null,
       "grid_row": null,
       "grid_template_areas": null,
       "grid_template_columns": null,
       "grid_template_rows": null,
       "height": null,
       "justify_content": null,
       "justify_items": null,
       "left": null,
       "margin": null,
       "max_height": null,
       "max_width": null,
       "min_height": null,
       "min_width": null,
       "object_fit": null,
       "object_position": null,
       "order": null,
       "overflow": null,
       "padding": null,
       "right": null,
       "top": null,
       "visibility": null,
       "width": null
      }
     },
     "1ea602c1a6134d96a86e4c2274401be3": {
      "model_module": "@jupyter-widgets/base",
      "model_module_version": "2.0.0",
      "model_name": "LayoutModel",
      "state": {
       "_model_module": "@jupyter-widgets/base",
       "_model_module_version": "2.0.0",
       "_model_name": "LayoutModel",
       "_view_count": null,
       "_view_module": "@jupyter-widgets/base",
       "_view_module_version": "2.0.0",
       "_view_name": "LayoutView",
       "align_content": null,
       "align_items": null,
       "align_self": null,
       "border_bottom": null,
       "border_left": null,
       "border_right": null,
       "border_top": null,
       "bottom": null,
       "display": null,
       "flex": null,
       "flex_flow": null,
       "grid_area": null,
       "grid_auto_columns": null,
       "grid_auto_flow": null,
       "grid_auto_rows": null,
       "grid_column": null,
       "grid_gap": null,
       "grid_row": null,
       "grid_template_areas": null,
       "grid_template_columns": null,
       "grid_template_rows": null,
       "height": null,
       "justify_content": null,
       "justify_items": null,
       "left": null,
       "margin": null,
       "max_height": null,
       "max_width": null,
       "min_height": null,
       "min_width": null,
       "object_fit": null,
       "object_position": null,
       "order": null,
       "overflow": null,
       "padding": null,
       "right": null,
       "top": null,
       "visibility": null,
       "width": null
      }
     },
     "2f21a5c6fa794bafa6d6842b958be213": {
      "model_module": "@jupyter-widgets/controls",
      "model_module_version": "2.0.0",
      "model_name": "HTMLStyleModel",
      "state": {
       "_model_module": "@jupyter-widgets/controls",
       "_model_module_version": "2.0.0",
       "_model_name": "HTMLStyleModel",
       "_view_count": null,
       "_view_module": "@jupyter-widgets/base",
       "_view_module_version": "2.0.0",
       "_view_name": "StyleView",
       "background": null,
       "description_width": "",
       "font_size": null,
       "text_color": null
      }
     },
     "32b8685c8d7b436e989425e3ba84cce0": {
      "model_module": "@jupyter-widgets/controls",
      "model_module_version": "2.0.0",
      "model_name": "HBoxModel",
      "state": {
       "_dom_classes": [],
       "_model_module": "@jupyter-widgets/controls",
       "_model_module_version": "2.0.0",
       "_model_name": "HBoxModel",
       "_view_count": null,
       "_view_module": "@jupyter-widgets/controls",
       "_view_module_version": "2.0.0",
       "_view_name": "HBoxView",
       "box_style": "",
       "children": [
        "IPY_MODEL_7a1e4d7531e543b4a48d279e8cd11a43",
        "IPY_MODEL_93936496b16e4c36b11a7f24e3e2f2ad",
        "IPY_MODEL_90cf4bfaa4c54c34af7c78e4ca8dc918"
       ],
       "layout": "IPY_MODEL_1ea602c1a6134d96a86e4c2274401be3",
       "tabbable": null,
       "tooltip": null
      }
     },
     "45e0296ecf33437eacf5778f19f4b746": {
      "model_module": "@jupyter-widgets/base",
      "model_module_version": "2.0.0",
      "model_name": "LayoutModel",
      "state": {
       "_model_module": "@jupyter-widgets/base",
       "_model_module_version": "2.0.0",
       "_model_name": "LayoutModel",
       "_view_count": null,
       "_view_module": "@jupyter-widgets/base",
       "_view_module_version": "2.0.0",
       "_view_name": "LayoutView",
       "align_content": null,
       "align_items": null,
       "align_self": null,
       "border_bottom": null,
       "border_left": null,
       "border_right": null,
       "border_top": null,
       "bottom": null,
       "display": null,
       "flex": null,
       "flex_flow": null,
       "grid_area": null,
       "grid_auto_columns": null,
       "grid_auto_flow": null,
       "grid_auto_rows": null,
       "grid_column": null,
       "grid_gap": null,
       "grid_row": null,
       "grid_template_areas": null,
       "grid_template_columns": null,
       "grid_template_rows": null,
       "height": null,
       "justify_content": null,
       "justify_items": null,
       "left": null,
       "margin": null,
       "max_height": null,
       "max_width": null,
       "min_height": null,
       "min_width": null,
       "object_fit": null,
       "object_position": null,
       "order": null,
       "overflow": null,
       "padding": null,
       "right": null,
       "top": null,
       "visibility": null,
       "width": null
      }
     },
     "478b4e458e64414eba711c63b9cbd671": {
      "model_module": "@jupyter-widgets/controls",
      "model_module_version": "2.0.0",
      "model_name": "HTMLStyleModel",
      "state": {
       "_model_module": "@jupyter-widgets/controls",
       "_model_module_version": "2.0.0",
       "_model_name": "HTMLStyleModel",
       "_view_count": null,
       "_view_module": "@jupyter-widgets/base",
       "_view_module_version": "2.0.0",
       "_view_name": "StyleView",
       "background": null,
       "description_width": "",
       "font_size": null,
       "text_color": null
      }
     },
     "7a1e4d7531e543b4a48d279e8cd11a43": {
      "model_module": "@jupyter-widgets/controls",
      "model_module_version": "2.0.0",
      "model_name": "HTMLModel",
      "state": {
       "_dom_classes": [],
       "_model_module": "@jupyter-widgets/controls",
       "_model_module_version": "2.0.0",
       "_model_name": "HTMLModel",
       "_view_count": null,
       "_view_module": "@jupyter-widgets/controls",
       "_view_module_version": "2.0.0",
       "_view_name": "HTMLView",
       "description": "",
       "description_allow_html": false,
       "layout": "IPY_MODEL_be92b12aa8324712a43c2ffd536b7c39",
       "placeholder": "​",
       "style": "IPY_MODEL_2f21a5c6fa794bafa6d6842b958be213",
       "tabbable": null,
       "tooltip": null,
       "value": "100%"
      }
     },
     "90cf4bfaa4c54c34af7c78e4ca8dc918": {
      "model_module": "@jupyter-widgets/controls",
      "model_module_version": "2.0.0",
      "model_name": "HTMLModel",
      "state": {
       "_dom_classes": [],
       "_model_module": "@jupyter-widgets/controls",
       "_model_module_version": "2.0.0",
       "_model_name": "HTMLModel",
       "_view_count": null,
       "_view_module": "@jupyter-widgets/controls",
       "_view_module_version": "2.0.0",
       "_view_name": "HTMLView",
       "description": "",
       "description_allow_html": false,
       "layout": "IPY_MODEL_45e0296ecf33437eacf5778f19f4b746",
       "placeholder": "​",
       "style": "IPY_MODEL_478b4e458e64414eba711c63b9cbd671",
       "tabbable": null,
       "tooltip": null,
       "value": " 22/22 [01:21&lt;00:00,  4.28s/it]"
      }
     },
     "93936496b16e4c36b11a7f24e3e2f2ad": {
      "model_module": "@jupyter-widgets/controls",
      "model_module_version": "2.0.0",
      "model_name": "FloatProgressModel",
      "state": {
       "_dom_classes": [],
       "_model_module": "@jupyter-widgets/controls",
       "_model_module_version": "2.0.0",
       "_model_name": "FloatProgressModel",
       "_view_count": null,
       "_view_module": "@jupyter-widgets/controls",
       "_view_module_version": "2.0.0",
       "_view_name": "ProgressView",
       "bar_style": "success",
       "description": "",
       "description_allow_html": false,
       "layout": "IPY_MODEL_083ec47afd5549a4ba9d7deca73c03af",
       "max": 22.0,
       "min": 0.0,
       "orientation": "horizontal",
       "style": "IPY_MODEL_bca24dd1cb0044f79607e0af697f5518",
       "tabbable": null,
       "tooltip": null,
       "value": 22.0
      }
     },
     "bca24dd1cb0044f79607e0af697f5518": {
      "model_module": "@jupyter-widgets/controls",
      "model_module_version": "2.0.0",
      "model_name": "ProgressStyleModel",
      "state": {
       "_model_module": "@jupyter-widgets/controls",
       "_model_module_version": "2.0.0",
       "_model_name": "ProgressStyleModel",
       "_view_count": null,
       "_view_module": "@jupyter-widgets/base",
       "_view_module_version": "2.0.0",
       "_view_name": "StyleView",
       "bar_color": null,
       "description_width": ""
      }
     },
     "be92b12aa8324712a43c2ffd536b7c39": {
      "model_module": "@jupyter-widgets/base",
      "model_module_version": "2.0.0",
      "model_name": "LayoutModel",
      "state": {
       "_model_module": "@jupyter-widgets/base",
       "_model_module_version": "2.0.0",
       "_model_name": "LayoutModel",
       "_view_count": null,
       "_view_module": "@jupyter-widgets/base",
       "_view_module_version": "2.0.0",
       "_view_name": "LayoutView",
       "align_content": null,
       "align_items": null,
       "align_self": null,
       "border_bottom": null,
       "border_left": null,
       "border_right": null,
       "border_top": null,
       "bottom": null,
       "display": null,
       "flex": null,
       "flex_flow": null,
       "grid_area": null,
       "grid_auto_columns": null,
       "grid_auto_flow": null,
       "grid_auto_rows": null,
       "grid_column": null,
       "grid_gap": null,
       "grid_row": null,
       "grid_template_areas": null,
       "grid_template_columns": null,
       "grid_template_rows": null,
       "height": null,
       "justify_content": null,
       "justify_items": null,
       "left": null,
       "margin": null,
       "max_height": null,
       "max_width": null,
       "min_height": null,
       "min_width": null,
       "object_fit": null,
       "object_position": null,
       "order": null,
       "overflow": null,
       "padding": null,
       "right": null,
       "top": null,
       "visibility": null,
       "width": null
      }
     }
    },
    "version_major": 2,
    "version_minor": 0
   }
  }
 },
 "nbformat": 4,
 "nbformat_minor": 5
}