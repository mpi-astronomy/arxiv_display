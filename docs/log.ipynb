{
 "cells": [
  {
   "cell_type": "markdown",
   "id": "92bcb855",
   "metadata": {
    "papermill": {
     "duration": 0.003835,
     "end_time": "2025-09-01T04:20:15.678820",
     "exception": false,
     "start_time": "2025-09-01T04:20:15.674985",
     "status": "completed"
    },
    "tags": []
   },
   "source": [
    "# MPIA Arxiv on Deck 2\n",
    "\n",
    "Contains the steps to produce the paper extractions."
   ]
  },
  {
   "cell_type": "code",
   "execution_count": 1,
   "id": "3a0d6e11",
   "metadata": {
    "execution": {
     "iopub.execute_input": "2025-09-01T04:20:15.686126Z",
     "iopub.status.busy": "2025-09-01T04:20:15.685865Z",
     "iopub.status.idle": "2025-09-01T04:20:15.888583Z",
     "shell.execute_reply": "2025-09-01T04:20:15.887955Z"
    },
    "papermill": {
     "duration": 0.207878,
     "end_time": "2025-09-01T04:20:15.889929",
     "exception": false,
     "start_time": "2025-09-01T04:20:15.682051",
     "status": "completed"
    },
    "tags": []
   },
   "outputs": [],
   "source": [
    "# Imports\n",
    "import os\n",
    "from IPython.display import Markdown, display\n",
    "from tqdm.notebook import tqdm\n",
    "import warnings\n",
    "from PIL import Image \n",
    "import re\n",
    "\n",
    "# requires arxiv_on_deck_2\n",
    "\n",
    "from arxiv_on_deck_2.arxiv2 import (get_new_papers, \n",
    "                                    get_paper_from_identifier,\n",
    "                                    retrieve_document_source, \n",
    "                                    get_markdown_badge)\n",
    "from arxiv_on_deck_2 import (latex,\n",
    "                             latex_bib,\n",
    "                             mpia,\n",
    "                             highlight_authors_in_list)\n",
    "\n",
    "# Sometimes images are really big\n",
    "Image.MAX_IMAGE_PIXELS = 1000000000 "
   ]
  },
  {
   "cell_type": "code",
   "execution_count": 2,
   "id": "22aa9d44",
   "metadata": {
    "execution": {
     "iopub.execute_input": "2025-09-01T04:20:15.897050Z",
     "iopub.status.busy": "2025-09-01T04:20:15.896826Z",
     "iopub.status.idle": "2025-09-01T04:20:15.904600Z",
     "shell.execute_reply": "2025-09-01T04:20:15.903938Z"
    },
    "papermill": {
     "duration": 0.012339,
     "end_time": "2025-09-01T04:20:15.905565",
     "exception": false,
     "start_time": "2025-09-01T04:20:15.893226",
     "status": "completed"
    },
    "tags": []
   },
   "outputs": [],
   "source": [
    "# Some useful definitions.\n",
    "\n",
    "class AffiliationWarning(UserWarning):\n",
    "    pass\n",
    "\n",
    "class AffiliationError(RuntimeError):\n",
    "    pass\n",
    "\n",
    "def validation(source: str):\n",
    "    \"\"\"Raises error paper during parsing of source file\n",
    "    \n",
    "    Allows checks before parsing TeX code.\n",
    "    \n",
    "    Raises AffiliationWarning\n",
    "    \"\"\"\n",
    "    check = mpia.affiliation_verifications(source, verbose=True)\n",
    "    if check is not True:\n",
    "        raise AffiliationError(\"mpia.affiliation_verifications: \" + check)\n",
    "\n",
    "        \n",
    "warnings.simplefilter('always', AffiliationWarning)\n",
    "\n",
    "\n",
    "def get_markdown_qrcode(paper_id: str):\n",
    "    \"\"\" Generate a qrcode to the arxiv page using qrserver.com\n",
    "    \n",
    "    :param paper: Arxiv paper\n",
    "    :returns: markdown text\n",
    "    \"\"\"\n",
    "    url = r\"https://api.qrserver.com/v1/create-qr-code/?size=100x100&data=\"\n",
    "    txt = f\"\"\"<img src={url}\"https://arxiv.org/abs/{paper_id}\">\"\"\"\n",
    "    txt = '<div id=\"qrcode\">' + txt + '</div>'\n",
    "    return txt\n",
    "\n",
    "\n",
    "def clean_non_western_encoded_characters_commands(text: str) -> str:\n",
    "    \"\"\" Remove non-western encoded characters from a string\n",
    "    List may need to grow.\n",
    "    \n",
    "    :param text: the text to clean\n",
    "    :return: the cleaned text\n",
    "    \"\"\"\n",
    "    text = re.sub(r\"(\\\\begin{CJK}{UTF8}{gbsn})(.*?)(\\\\end{CJK})\", r\"\\2\", text)\n",
    "    return text\n",
    "\n",
    "\n",
    "def get_initials(name: str) -> str:\n",
    "    \"\"\" Get the short name, e.g., A.-B. FamName\n",
    "    :param name: full name\n",
    "    :returns: initials\n",
    "    \"\"\"\n",
    "    initials = []\n",
    "    # account for non western names often in ()\n",
    "    if '(' in name:\n",
    "        name = clean_non_western_encoded_characters_commands(name)\n",
    "        suffix = re.findall(r\"\\((.*?)\\)\", name)[0]\n",
    "        name = name.replace(f\"({suffix})\", '')\n",
    "    else:\n",
    "        suffix = ''\n",
    "    split = name.split()\n",
    "    for token in split[:-1]:\n",
    "        if '-' in token:\n",
    "            current = '-'.join([k[0] + '.' for k in token.split('-')])\n",
    "        else:\n",
    "            current = token[0] + '.'\n",
    "        initials.append(current)\n",
    "    initials.append(split[-1].strip())\n",
    "    if suffix:\n",
    "        initials.append(f\"({suffix})\")\n",
    "    return ' '.join(initials)"
   ]
  },
  {
   "cell_type": "markdown",
   "id": "14bd6310",
   "metadata": {
    "papermill": {
     "duration": 0.002862,
     "end_time": "2025-09-01T04:20:15.911392",
     "exception": false,
     "start_time": "2025-09-01T04:20:15.908530",
     "status": "completed"
    },
    "tags": []
   },
   "source": [
    "## get list of arxiv paper candidates\n",
    "\n",
    "We use the MPIA mitarbeiter list webpage from mpia.de to get author names\n",
    "We then get all new papers from Arxiv and match authors"
   ]
  },
  {
   "cell_type": "code",
   "execution_count": 3,
   "id": "7ea813a8",
   "metadata": {
    "execution": {
     "iopub.execute_input": "2025-09-01T04:20:15.917917Z",
     "iopub.status.busy": "2025-09-01T04:20:15.917727Z",
     "iopub.status.idle": "2025-09-01T04:20:36.184117Z",
     "shell.execute_reply": "2025-09-01T04:20:36.183489Z"
    },
    "papermill": {
     "duration": 20.271027,
     "end_time": "2025-09-01T04:20:36.185362",
     "exception": false,
     "start_time": "2025-09-01T04:20:15.914335",
     "status": "completed"
    },
    "tags": []
   },
   "outputs": [],
   "source": [
    "# deal with the author list and edge cases of people that cannot be consistent on their name  \n",
    "\n",
    "def filter_non_scientists(name: str) -> bool:\n",
    "    \"\"\" Loose filter on expected authorships\n",
    "\n",
    "    removing IT, administration, technical staff\n",
    "    :param name: name\n",
    "    :returns: False if name is not a scientist\n",
    "    \"\"\"\n",
    "    remove_list = ['Licht', 'Binroth', 'Witzel', 'Jordan',\n",
    "                   'Zähringer', 'Scheerer', 'Hoffmann', 'Düe',\n",
    "                   'Hellmich', 'Enkler-Scharpegge', 'Witte-Nguy',\n",
    "                   'Dehen', 'Beckmann', 'Jager', 'Jäger'\n",
    "                  ]\n",
    "\n",
    "    for k in remove_list:\n",
    "        if k in name:\n",
    "            return False\n",
    "    return True\n",
    "\n",
    "def add_author_to_list(author_list: list) -> list:\n",
    "    \"\"\" Add author to list if not already in list\n",
    "    \n",
    "    :param author: author name\n",
    "    :param author_list: list of authors\n",
    "    :returns: updated list of authors\n",
    "    \"\"\"\n",
    "    add_list = ['T. Henning']\n",
    "\n",
    "    for author in add_list:\n",
    "        if author not in author_list:\n",
    "            author_list.append(author)\n",
    "    return author_list\n",
    "\n",
    "# get list from MPIA website\n",
    "# filter for non-scientists (mpia.get_mpia_mitarbeiter_list() does some filtering)\n",
    "mpia_authors = [k[1] for k in mpia.get_mpia_mitarbeiter_list() if filter_non_scientists(k[1])]\n",
    "# add some missing author because of inconsistencies in their MPIA name and author name on papers\n",
    "mpia_authors = add_author_to_list(mpia_authors)"
   ]
  },
  {
   "cell_type": "code",
   "execution_count": 4,
   "id": "2645e73a",
   "metadata": {
    "execution": {
     "iopub.execute_input": "2025-09-01T04:20:36.192437Z",
     "iopub.status.busy": "2025-09-01T04:20:36.192248Z",
     "iopub.status.idle": "2025-09-01T04:20:36.980790Z",
     "shell.execute_reply": "2025-09-01T04:20:36.980158Z"
    },
    "papermill": {
     "duration": 0.793114,
     "end_time": "2025-09-01T04:20:36.981833",
     "exception": false,
     "start_time": "2025-09-01T04:20:36.188719",
     "status": "completed"
    },
    "tags": []
   },
   "outputs": [
    {
     "name": "stdout",
     "output_type": "stream",
     "text": [
      "M. Zhang  ->  M. Zhang  |  ['M. Zhang']\n",
      "I. J. M. Crossfield  ->  I. J. M. Crossfield  |  ['I. J. M. Crossfield']\n",
      "X. Zhang  ->  X. Zhang  |  ['X. Zhang']\n",
      "F. Walter  ->  F. Walter  |  ['F. Walter']\n"
     ]
    },
    {
     "name": "stdout",
     "output_type": "stream",
     "text": [
      "E. Bañados  ->  E. Bañados  |  ['E. Bañados']\n",
      "Arxiv has 56 new papers today\n",
      "          5 with possible author matches\n"
     ]
    }
   ],
   "source": [
    "new_papers = get_new_papers()\n",
    "# add manual references\n",
    "add_paper_refs = []\n",
    "new_papers.extend([get_paper_from_identifier(k) for k in add_paper_refs])\n",
    "\n",
    "def robust_call(fn, value, *args, **kwargs):\n",
    "    try:\n",
    "        return fn(value, *args, **kwargs)\n",
    "    except Exception:\n",
    "        return value\n",
    "\n",
    "candidates = []\n",
    "for paperk in new_papers:\n",
    "    # Check author list with their initials\n",
    "    normed_author_list = [robust_call(mpia.get_initials, k) for k in paperk['authors']]\n",
    "    hl_authors = highlight_authors_in_list(normed_author_list, mpia_authors, verbose=True)\n",
    "    matches = [(hl, orig) for hl, orig in zip(hl_authors, paperk['authors']) if 'mark' in hl]\n",
    "    paperk['authors'] = hl_authors\n",
    "    if matches:\n",
    "        # only select paper if an author matched our list\n",
    "        candidates.append(paperk)\n",
    "print(\"\"\"Arxiv has {0:,d} new papers today\"\"\".format(len(new_papers)))        \n",
    "print(\"\"\"          {0:,d} with possible author matches\"\"\".format(len(candidates)))"
   ]
  },
  {
   "cell_type": "markdown",
   "id": "3543b34a",
   "metadata": {
    "papermill": {
     "duration": 0.003082,
     "end_time": "2025-09-01T04:20:36.988433",
     "exception": false,
     "start_time": "2025-09-01T04:20:36.985351",
     "status": "completed"
    },
    "tags": []
   },
   "source": [
    "# Parse sources and generate relevant outputs\n",
    "\n",
    "From the candidates, we do the following steps:\n",
    "* get their tarball from ArXiv (and extract data)\n",
    "* find the main .tex file: find one with \\documentclass{...} (sometimes it's non trivial)\n",
    "* Check affiliations with :func:`validation`, which uses :func:`mpia.affiliation_verifications`\n",
    "* If passing the affiliations: we parse the .tex source\n",
    "   * inject sub-documents into the main (flatten the main document)\n",
    "   * parse structure, extract information (title, abstract, authors, figures...)\n",
    "   * handles `\\graphicspath` if provided\n",
    "* Generate the .md document."
   ]
  },
  {
   "cell_type": "code",
   "execution_count": 5,
   "id": "9576b79e",
   "metadata": {
    "execution": {
     "iopub.execute_input": "2025-09-01T04:20:36.995594Z",
     "iopub.status.busy": "2025-09-01T04:20:36.995365Z",
     "iopub.status.idle": "2025-09-01T04:22:12.302244Z",
     "shell.execute_reply": "2025-09-01T04:22:12.301466Z"
    },
    "papermill": {
     "duration": 95.314838,
     "end_time": "2025-09-01T04:22:12.306378",
     "exception": false,
     "start_time": "2025-09-01T04:20:36.991540",
     "status": "completed"
    },
    "scrolled": false,
    "tags": []
   },
   "outputs": [
    {
     "data": {
      "application/vnd.jupyter.widget-view+json": {
       "model_id": "512f26aac50e4b93834f9386c62de41a",
       "version_major": 2,
       "version_minor": 0
      },
      "text/plain": [
       "  0%|          | 0/5 [00:00<?, ?it/s]"
      ]
     },
     "metadata": {},
     "output_type": "display_data"
    },
    {
     "name": "stdout",
     "output_type": "stream",
     "text": [
      "Retrieving document from  https://arxiv.org/e-print/2508.21166\n"
     ]
    },
    {
     "name": "stdout",
     "output_type": "stream",
     "text": [
      "extracting tarball to tmp_2508.21166... done.\n",
      "Retrieving document from  https://arxiv.org/e-print/2508.21533\n",
      "extracting tarball to tmp_2508.21533..."
     ]
    },
    {
     "name": "stdout",
     "output_type": "stream",
     "text": [
      " done.\n"
     ]
    },
    {
     "name": "stdout",
     "output_type": "stream",
     "text": [
      "Found 193 bibliographic references in tmp_2508.21533/aa55318-25corr.bbl.\n",
      "Issues with the citations\n",
      "syntax error in line 828: '}' expected\n",
      "Retrieving document from  https://arxiv.org/e-print/2508.21576\n"
     ]
    },
    {
     "name": "stdout",
     "output_type": "stream",
     "text": [
      "extracting tarball to tmp_2508.21576... done.\n",
      "Retrieving document from  https://arxiv.org/e-print/2508.21708\n",
      "extracting tarball to tmp_2508.21708... done.\n"
     ]
    },
    {
     "name": "stderr",
     "output_type": "stream",
     "text": [
      "/opt/hostedtoolcache/Python/3.9.23/x64/lib/python3.9/site-packages/arxiv_on_deck_2/latex.py:132: LatexWarning: attempting recovering figure figures/AGN.pdf\n",
      "  warnings.warn(LatexWarning(f'attempting recovering figure {image}'))\n",
      "/opt/hostedtoolcache/Python/3.9.23/x64/lib/python3.9/site-packages/arxiv_on_deck_2/latex.py:707: LatexWarning: Could not find graphic \\includegraphics[width=\\columnwidth]{figures/AGN.pdf}\n",
      "  warnings.warn(LatexWarning(f\"Could not find graphic {k}\"))\n"
     ]
    },
    {
     "name": "stdout",
     "output_type": "stream",
     "text": [
      "Found 157 bibliographic references in tmp_2508.21708/main.bbl.\n",
      "Retrieving document from  https://arxiv.org/e-print/2508.21818\n",
      "extracting tarball to tmp_2508.21818... done.\n"
     ]
    },
    {
     "name": "stdout",
     "output_type": "stream",
     "text": [
      "Found 54 bibliographic references in tmp_2508.21818/main.bbl.\n",
      "Error retrieving bib data for davies2025: 'author'\n"
     ]
    }
   ],
   "source": [
    "documents = []\n",
    "failed = []\n",
    "for paper in tqdm(candidates):\n",
    "    # debug crap\n",
    "    paper['identifier'] = paper['identifier'].lower().replace('arxiv:', '').replace(r'\\n', '').strip()\n",
    "    paper_id = paper['identifier']\n",
    "    \n",
    "    folder = f'tmp_{paper_id}'\n",
    "\n",
    "    try:\n",
    "        if not os.path.isdir(folder):\n",
    "            folder = retrieve_document_source(f\"{paper_id}\", f'tmp_{paper_id}')\n",
    "        \n",
    "        try:\n",
    "            doc = latex.LatexDocument(folder, validation=validation)    \n",
    "        except AffiliationError as affilerror:\n",
    "            msg = f\"ArXiv:{paper_id:s} is not an MPIA paper... \" + str(affilerror)\n",
    "            failed.append((paper, \"affiliation error: \" + str(affilerror) ))\n",
    "            continue\n",
    "        \n",
    "        # Hack because sometimes author parsing does not work well\n",
    "        if (len(doc.authors) != len(paper['authors'])):\n",
    "            doc._authors = paper['authors']\n",
    "        else:\n",
    "            # highlight authors (FIXME: doc.highlight_authors)\n",
    "            # done on arxiv paper already\n",
    "            doc._authors = highlight_authors_in_list(\n",
    "                [get_initials(k) for k in doc.authors], \n",
    "                mpia_authors, verbose=True)\n",
    "        if (doc.abstract) in (None, ''):\n",
    "            doc._abstract = paper['abstract']\n",
    "            \n",
    "        doc.comment = (get_markdown_badge(paper_id) + \n",
    "                       \"<mark>Appeared on: \" + paper['date'] + \"</mark> - \")\n",
    "        if paper['comments']:\n",
    "            doc.comment += \" _\" + paper['comments'] + \"_\"\n",
    "        \n",
    "        full_md = doc.generate_markdown_text()\n",
    "        \n",
    "        full_md += get_markdown_qrcode(paper_id)\n",
    "        \n",
    "        # replace citations\n",
    "        try:\n",
    "            bibdata = latex_bib.LatexBib.from_doc(doc)\n",
    "            full_md = latex_bib.replace_citations(full_md, bibdata)\n",
    "        except Exception as e:\n",
    "            print(\"Issues with the citations\")\n",
    "            print(e)\n",
    "        \n",
    "        documents.append((paper_id, full_md))\n",
    "    except Exception as e:\n",
    "        warnings.warn(latex.LatexWarning(f\"{paper_id:s} did not run properly\\n\" +\n",
    "                                         str(e)\n",
    "                                        ))\n",
    "        failed.append((paper, \"latex error \" + str(e)))"
   ]
  },
  {
   "cell_type": "markdown",
   "id": "2505a25c",
   "metadata": {
    "papermill": {
     "duration": 0.003594,
     "end_time": "2025-09-01T04:22:12.313715",
     "exception": false,
     "start_time": "2025-09-01T04:22:12.310121",
     "status": "completed"
    },
    "tags": []
   },
   "source": [
    "### Export the logs\n",
    "\n",
    "Throughout, we also keep track of the logs per paper. see `logs-{today date}.md` "
   ]
  },
  {
   "cell_type": "code",
   "execution_count": 6,
   "id": "d733828a",
   "metadata": {
    "execution": {
     "iopub.execute_input": "2025-09-01T04:22:12.321816Z",
     "iopub.status.busy": "2025-09-01T04:22:12.321578Z",
     "iopub.status.idle": "2025-09-01T04:22:12.337149Z",
     "shell.execute_reply": "2025-09-01T04:22:12.336514Z"
    },
    "papermill": {
     "duration": 0.020786,
     "end_time": "2025-09-01T04:22:12.338054",
     "exception": false,
     "start_time": "2025-09-01T04:22:12.317268",
     "status": "completed"
    },
    "scrolled": false,
    "tags": []
   },
   "outputs": [
    {
     "data": {
      "text/markdown": [
       "## Successful papers"
      ],
      "text/plain": [
       "<IPython.core.display.Markdown object>"
      ]
     },
     "metadata": {},
     "output_type": "display_data"
    },
    {
     "data": {
      "text/markdown": [
       "\n",
       "|||\n",
       "|---:|:---|\n",
       "| [![arXiv](https://img.shields.io/badge/arXiv-2508.21533-b31b1b.svg)](https://arxiv.org/abs/2508.21533) | **TOI-1438: A rare system with two short-period sub-Neptunes and a tentative long-period Jupiter-like planet orbiting a K0V star**  |\n",
       "|| C. M. Persson, et al. -- incl., <mark>I. J. M. Crossfield</mark> |\n",
       "|*Appeared on*| *2025-09-01*|\n",
       "|*Comments*| *31 pages, 21 figures. Accepted by Astronomy & Astrophysics (A&A) 31 July 2025*|\n",
       "|**Abstract**|            We present the detection and characterisation of the TOI-1438 multi-planet system discovered by TESS. We collected a series of follow-up observations including high-spectral resolution observations with HARPS-N over a period of five years. Our modelling shows that the K0V star hosts two transiting sub-Neptunes with Rb = 3.04 +/- 0.19 RE, Rc = 2.75 +/- 0.14 RE, Mb = 9.4 +/- 1.8 ME, and Mc = 10.6 +/- 2.1 ME. The orbital periods of planets b and c are 5.1 and 9.4 days, respectively, corresponding to instellations of 145 +/- 10 and 65 +/- 4 FE. The bulk densities are 1.8 +/- 0.5 and 2.9 +/- 0.7 g cm-3, respectively, suggesting a volatile-rich interior composition. We computed a set of planet interior structure models. Planet b presents a high-metallicity envelope that can accommodate up to 2.5 % in H/He in mass, while planet c cannot have more than 0.2 % as H/He in mass. For any composition of the core considered (Fe-rock or ice-rock), both planets would require a volatile-rich envelope. In addition to the two planets, the radial velocity (RV) data clearly reveal a third signal, likely coming from a non-transiting planet, with an orbital period of 7.6 +1.6 -2.4 years and a radial velocity semi-amplitude of 35+3-5 m s-1. Our best fit model finds a minimum mass of 2.1 +/- 0.3 MJ and an eccentricity of 0.25+0.08-0.11. However, several RV activity indicators also show strong signals at similar periods, suggesting this signal might (partly) originate from stellar activity. More data over a longer period of time are needed to conclusively determine the nature of this signal. If it is confirmed as a triple-planet system, TOI-1438 would be one of the few detected systems to date characterised by an architecture with two small, short-period planets and one massive, long-period planet, where the inner and outer systems are separated by an orbital period ratio of the order of a few hundred.         |"
      ],
      "text/plain": [
       "[2508.21533] TOI-1438: A rare system with two short-period sub-Neptunes and a tentative long-period Jupiter-like planet orbiting a K0V star\n",
       "\tC. M. Persson, et al. -- incl., <mark>I. J. M. Crossfield</mark>"
      ]
     },
     "metadata": {},
     "output_type": "display_data"
    },
    {
     "data": {
      "text/markdown": [
       "\n",
       "|||\n",
       "|---:|:---|\n",
       "| [![arXiv](https://img.shields.io/badge/arXiv-2508.21708-b31b1b.svg)](https://arxiv.org/abs/2508.21708) | **JWST Spectroscopic Insights Into the Diversity of Galaxies in the First 500 Myr: Short-Lived Snapshots Along a Common Evolutionary Pathway**  |\n",
       "|| G. Roberts-Borsani, et al. -- incl., <mark>F. Walter</mark> |\n",
       "|*Appeared on*| *2025-09-01*|\n",
       "|*Comments*| *20 pages, 13 figures. Submitted for publication, comments welcome*|\n",
       "|**Abstract**|            We investigate the nature and spectroscopic diversity of early galaxies from a sample of 40 sources at z>10 with JWST/NIRSpec prism observations, the largest of its kind thus far. We compare the properties of strong UV line emitters, as traced by intense CIV emission, with those of more \"typical\" sources with weak or undetected CIV. The more typical (or \"CIV-weak\") sources reveal significant scatter in their CIII] line strengths, UV continuum slopes, and physical sizes, spanning CIII] equivalent widths of ~1-51 Å, UV slopes of $\\beta$~-1.6 to -2.6, and half-light radii of ~50-1000 pc. In contrast, CIV-strong sources generally occupy the tail of these distributions, with CIII] EWs of 16-51 Å, UV slopes $\\beta$<-2.5, compact morphologies ($r_{50}$<100 pc), and elevated star formation surface densities ($\\Sigma_{SFR}$>100 $M_{\\odot}yr^{-1}kpc^{-2}$). Collectively these properties are consistent with concentrated starbursts that temporarily outshine the extended structure of the galaxy. Comparing average properties from composite spectra, we find the diversity of the sample is primarily driven by bursts and lulls of star formation on very short timescales (<3 Myr), where strong CIV emitters are observed at the apex of these phases and sources devoid of emission lines represent periods of relative inactivity. An apparent association between strong CIV and enhanced nitrogen abundance suggests both features may be modulated by the same duty cycle and reflect a generic mode of star formation. We show that AGN are unlikely to be a significant contributor to this duty cycle based on a comparison of UV line diagnostics to photoionisation models, although some non-thermal activity cannot be fully ruled out. Our results support a unified evolutionary picture whereby transient bursts and lulls can explain the spectral diversity and early growth of bright galaxies in the first 500 Myr.         |"
      ],
      "text/plain": [
       "[2508.21708] JWST Spectroscopic Insights Into the Diversity of Galaxies in the First 500 Myr: Short-Lived Snapshots Along a Common Evolutionary Pathway\n",
       "\tG. Roberts-Borsani, et al. -- incl., <mark>F. Walter</mark>"
      ]
     },
     "metadata": {},
     "output_type": "display_data"
    },
    {
     "data": {
      "text/markdown": [
       "\n",
       "|||\n",
       "|---:|:---|\n",
       "| [![arXiv](https://img.shields.io/badge/arXiv-2508.21818-b31b1b.svg)](https://arxiv.org/abs/2508.21818) | **First constraints on the local ionization topology in front of two quasars at z ~ 7.5**  |\n",
       "|| T. Kist, et al. -- incl., <mark>E. Bañados</mark> |\n",
       "|*Appeared on*| *2025-09-01*|\n",
       "|*Comments*| *submitted to MNRAS*|\n",
       "|**Abstract**|            Thus far, Lyman-$\\alpha$ damping wings towards quasars have been used to probe the \\textit{global} ionization state of the foreground intergalactic medium (IGM). A new parameterization has demonstrated that the damping wing signature also carries \\textit{local} information about the distribution of neutral hydrogen (HI) in front of the quasar before it started shining. Leveraging a recently introduced Bayesian \\texttt{JAX}-based Hamiltonian Monte Carlo (HMC) inference framework, we derive constraints on the Lorentzian-weighted HI column density $N_\\mathrm{HI}^\\mathrm{DW}$, the quasar's distance $r_\\mathrm{patch}$ to the first neutral patch and its lifetime $t_\\mathrm{Q}$ based on JWST/NIRSpec spectra of the two $z \\sim 7.5$ quasars J1007+2115 and J1342+0928. After folding in model-dependent topology information, we find that J1007+2115 (and J1342+0928) is most likely to reside in a $\\langle x_\\mathrm{HI} \\rangle = 0.32_{-0.20}^{+0.22}$ ($0.58_{-0.23}^{+0.23}$) neutral IGM while shining for a remarkably short lifetime of $\\log_{10} t_\\mathrm{Q} /\\mathrm{yr} = 4.14_{-0.18}^{+0.74}$ (an intermediate lifetime of $5.64_{-0.43}^{+0.25}$) along a sightline with $\\log_{10} N_\\mathrm{HI}^\\mathrm{DW} /\\mathrm{cm}^{-2} = 19.70_{-0.86}^{+0.35}$ ($20.24_{-0.22}^{+0.25}$) and $r_\\mathrm{patch} = 28.9_{-14.4}^{+54.0} \\,\\mathrm{cMpc}$ ($10.9_{-5.9}^{+5.6} \\,\\mathrm{cMpc}$). In light of the potential presence of local absorbers in the foreground of J1342+0928 as has been recently suggested, we also demonstrate how the Lorentzian-weighted column density $N_\\mathrm{HI}^\\mathrm{DW}$ provides a natural means for quantifying their contribution to the observed damping wing signal.         |"
      ],
      "text/plain": [
       "[2508.21818] First constraints on the local ionization topology in front of two quasars at z ~ 7.5\n",
       "\tT. Kist, et al. -- incl., <mark>E. Bañados</mark>"
      ]
     },
     "metadata": {},
     "output_type": "display_data"
    },
    {
     "data": {
      "text/markdown": [
       "## Failed papers"
      ],
      "text/plain": [
       "<IPython.core.display.Markdown object>"
      ]
     },
     "metadata": {},
     "output_type": "display_data"
    },
    {
     "data": {
      "text/markdown": [
       "\n",
       "|||\n",
       "|---:|:---|\n",
       "| [![arXiv](https://img.shields.io/badge/arXiv-2508.21166-b31b1b.svg)](https://arxiv.org/abs/2508.21166) | **Stringent Upper Bounds on Atmospheric Mass Loss from Three Neptune-Sized Planets in the TOI-4010 System**  |\n",
       "|| M. Saidel, et al. -- incl., <mark>M. Zhang</mark> |\n",
       "|*Appeared on*| *2025-09-01*|\n",
       "|*Comments*| *16 pages, 8 figures; Accepted for publication in the Astronomical Journal*|\n",
       "|**Abstract**|            Photoevaporative models predict that the lower edge of the Neptune desert is sculpted by atmospheric mass loss. However, the stellar high energy fluxes that power hydrodynamic escape and set predicted mass loss rates can be uncertain by multiple orders of magnitude. These uncertainties can be bypassed by studying mass loss for planets within the same system, as they have effectively undergone scaled versions of the same irradiation history. The TOI-4010 system is an ideal test case for mass loss models, as it contains three Neptune-sized planets with planet b located in the `Neptune desert', planet c in the `Neptune ridge', and planet d in the `Neptune savanna'. Using Keck/NIRSPEC, we measured the metastable helium transit depths of all three planets in order to search for evidence of atmospheric escape. We place upper bounds on the excess helium absorption of 1.23\\%, 0.81\\%, and 0.87\\% at 95\\% confidence for TOI-4010~b, c and d respectively. We fit our transmission spectra with Parker wind models and find that this corresponds to 95th-percentile upper limits of $10^{10.17}$g~s$^{-1}$, $10^{10.53}$g~s$^{-1}$, and $10^{10.50}$g~s$^{-1}$ on the mass loss rates of TOI-4010~b, c, and d respectively. Our non-detections are inconsistent with expectations from one-dimensional hydrodynamic models for solar composition atmospheres. We consider potential reductions in signal from a decreased host star XUV luminosity, planetary magnetic fields, enhanced atmospheric metallicities, and fractionation, and explore the implications of our measurements for the past evaporation histories of all three planets.         |\n",
       "|<p style=\"color:green\"> **ERROR** </p>| <p style=\"color:green\">affiliation error: mpia.affiliation_verifications: 'Heidelberg' keyword not found.</p> |"
      ],
      "text/plain": [
       "<IPython.core.display.Markdown object>"
      ]
     },
     "metadata": {},
     "output_type": "display_data"
    },
    {
     "data": {
      "text/markdown": [
       "\n",
       "|||\n",
       "|---:|:---|\n",
       "| [![arXiv](https://img.shields.io/badge/arXiv-2508.21576-b31b1b.svg)](https://arxiv.org/abs/2508.21576) | **Tracing the Origins of Hot Halo Gas in Milky Way-Type Galaxies with SMUGGLE**  |\n",
       "|| Z. Zhang, et al. -- incl., <mark>X. Zhang</mark> |\n",
       "|*Appeared on*| *2025-09-01*|\n",
       "|*Comments*| *13 pages, 7 figures, 1 table; ApJ accepted. Comments are welcome!*|\n",
       "|**Abstract**|            Current galaxy formation models predict the existence of X-ray-emitting gaseous halos around Milky Way (MW)-type galaxies. To investigate properties of this coronal gas in MW-like galaxies, we analyze a suite of high-resolution simulations based on the {\\it SMUGGLE} framework, and compare the results with X-ray observations of both the MW and external galaxies. We find that for subgrid models incorporating any form of stellar feedback, e.g., early feedback (including stellar winds and radiation) and/or supernova (SN) explosions, the total $0.5-2$\\,keV luminosity is consistent {\\it within uncertainties} with X-ray observations of the MW and with scaling relations derived for external disk galaxies. However, all models exhibit an X-ray surface brightness profile that declines too steeply beyond $\\sim5$\\,kpc, underpredicting the extended emission seen in recent eROSITA stacking results. Across all subgrid prescriptions, the simulated surface brightness and emission measure fall below MW observations by at least $1-2$ orders of magnitude, with the most severe discrepancy occurring in the no-feedback model. Our results suggest that (i) stellar feedback primarily shapes the innermost hot atmosphere (central $\\sim5$\\,kpc), with comparable contributions from early feedback and SNe to the resulting X-ray luminosity; (ii) additional mechanisms such as gravitational heating, AGN feedback, and/or Compton effects of GeV cosmic ray are necessary to generate the extended, volume-filling hot gaseous halo of MW-mass galaxies; (iii) the origins of hot corona in MW-like galaxies are partially distinct from those of the warm ($\\sim10^5$\\,K) gas, by combining our previous finding that the {\\it SMUGGLE} model successfully reproduces the kinematics and spatial distribution of MW \\ion{O}{6} absorbers \\citep{2024ApJ...962...15Z}.         |\n",
       "|<p style=\"color:green\"> **ERROR** </p>| <p style=\"color:green\">affiliation error: mpia.affiliation_verifications: 'Heidelberg' keyword not found.</p> |"
      ],
      "text/plain": [
       "<IPython.core.display.Markdown object>"
      ]
     },
     "metadata": {},
     "output_type": "display_data"
    }
   ],
   "source": [
    "import datetime\n",
    "today = str(datetime.date.today())\n",
    "logfile = f\"_build/html/logs/log-{today}.md\"\n",
    "\n",
    "\n",
    "with open(logfile, 'w') as logs:\n",
    "    # Success\n",
    "    logs.write(f'# Arxiv on Deck 2: Logs - {today}\\n\\n')\n",
    "    logs.write(\"\"\"* Arxiv had {0:,d} new papers\\n\"\"\".format(len(new_papers)))\n",
    "    logs.write(\"\"\"    * {0:,d} with possible author matches\\n\\n\"\"\".format(len(candidates)))\n",
    "    logs.write(\"## Sucessful papers\\n\\n\")\n",
    "    display(Markdown(\"## Successful papers\"))\n",
    "    success = [k[0] for k in documents]\n",
    "    for candid in candidates:\n",
    "        if candid['identifier'].split(':')[-1] in success:\n",
    "            display(candid)\n",
    "            logs.write(candid.generate_markdown_text() + '\\n\\n')\n",
    "\n",
    "    ## failed\n",
    "    logs.write(\"## Failed papers\\n\\n\")\n",
    "    display(Markdown(\"## Failed papers\"))\n",
    "    failed = sorted(failed, key=lambda x: x[1])\n",
    "    current_reason = \"\"\n",
    "    for paper, reason in failed:\n",
    "        if 'affiliation' in reason:\n",
    "            color = 'green'\n",
    "        else:\n",
    "            color = 'red'\n",
    "        data = Markdown(\n",
    "                paper.generate_markdown_text() + \n",
    "                f'\\n|<p style=\"color:{color:s}\"> **ERROR** </p>| <p style=\"color:{color:s}\">{reason:s}</p> |'\n",
    "               )\n",
    "        if reason != current_reason:\n",
    "            logs.write(f'### {reason:s} \\n\\n')\n",
    "            current_reason = reason\n",
    "        logs.write(data.data + '\\n\\n')\n",
    "        \n",
    "        # only display here the important errors (all in logs)\n",
    "        # if color in ('red',):\n",
    "        display(data)"
   ]
  },
  {
   "cell_type": "markdown",
   "id": "472d20ee",
   "metadata": {
    "papermill": {
     "duration": 0.004228,
     "end_time": "2025-09-01T04:22:12.346648",
     "exception": false,
     "start_time": "2025-09-01T04:22:12.342420",
     "status": "completed"
    },
    "tags": []
   },
   "source": [
    "## Export documents\n",
    "\n",
    "We now write the .md files and export relevant images"
   ]
  },
  {
   "cell_type": "code",
   "execution_count": 7,
   "id": "d426aed9",
   "metadata": {
    "execution": {
     "iopub.execute_input": "2025-09-01T04:22:12.355912Z",
     "iopub.status.busy": "2025-09-01T04:22:12.355713Z",
     "iopub.status.idle": "2025-09-01T04:22:12.362417Z",
     "shell.execute_reply": "2025-09-01T04:22:12.361765Z"
    },
    "papermill": {
     "duration": 0.012555,
     "end_time": "2025-09-01T04:22:12.363440",
     "exception": false,
     "start_time": "2025-09-01T04:22:12.350885",
     "status": "completed"
    },
    "tags": []
   },
   "outputs": [],
   "source": [
    "def export_markdown_summary(md: str, md_fname:str, directory: str):\n",
    "    \"\"\"Export MD document and associated relevant images\"\"\"\n",
    "    import os\n",
    "    import shutil\n",
    "    import re\n",
    "\n",
    "    if (os.path.exists(directory) and not os.path.isdir(directory)):\n",
    "        raise RuntimeError(f\"a non-directory file exists with name {directory:s}\")\n",
    "\n",
    "    if (not os.path.exists(directory)):\n",
    "        print(f\"creating directory {directory:s}\")\n",
    "        os.mkdir(directory)\n",
    "\n",
    "    fig_fnames = (re.compile(r'\\[Fig.*\\]\\((.*)\\)').findall(md) + \n",
    "                  re.compile(r'\\<img src=\"([^>\\s]*)\"[^>]*/>').findall(md))\n",
    "    print(\"found figures\", fig_fnames)\n",
    "    for fname in fig_fnames:\n",
    "        if 'http' in fname:\n",
    "            # No need to copy online figures\n",
    "            continue\n",
    "        if not os.path.exists(fname):\n",
    "            print(\"file not found\", fname)\n",
    "            continue\n",
    "        print(\"copying \", fname, \"to\", directory)\n",
    "        destdir = os.path.join(directory, os.path.dirname(fname))\n",
    "        destfname = os.path.join(destdir, os.path.basename(fname))\n",
    "        try:\n",
    "            os.makedirs(destdir)\n",
    "        except FileExistsError:\n",
    "            pass\n",
    "        shutil.copy(fname, destfname)\n",
    "    with open(os.path.join(directory, md_fname), 'w') as fout:\n",
    "        fout.write(md)\n",
    "    print(\"exported in \", os.path.join(directory, md_fname))\n",
    "    [print(\"    + \" + os.path.join(directory,fk)) for fk in fig_fnames]"
   ]
  },
  {
   "cell_type": "code",
   "execution_count": 8,
   "id": "014d04a4",
   "metadata": {
    "execution": {
     "iopub.execute_input": "2025-09-01T04:22:12.373285Z",
     "iopub.status.busy": "2025-09-01T04:22:12.373044Z",
     "iopub.status.idle": "2025-09-01T04:22:12.384259Z",
     "shell.execute_reply": "2025-09-01T04:22:12.383722Z"
    },
    "papermill": {
     "duration": 0.017444,
     "end_time": "2025-09-01T04:22:12.385225",
     "exception": false,
     "start_time": "2025-09-01T04:22:12.367781",
     "status": "completed"
    },
    "tags": []
   },
   "outputs": [
    {
     "name": "stdout",
     "output_type": "stream",
     "text": [
      "found figures ['tmp_2508.21533/./Fig08a.png', 'tmp_2508.21533/./Fig08b.png', 'tmp_2508.21533/./Fig08c.png', 'tmp_2508.21533/./Fig08d.png', 'tmp_2508.21533/./Fig14.png', 'tmp_2508.21533/./Fig07.png']\n",
      "copying  tmp_2508.21533/./Fig08a.png to _build/html/\n",
      "copying  tmp_2508.21533/./Fig08b.png to _build/html/\n",
      "copying  tmp_2508.21533/./Fig08c.png to _build/html/\n",
      "copying  tmp_2508.21533/./Fig08d.png to _build/html/\n",
      "copying  tmp_2508.21533/./Fig14.png to _build/html/\n",
      "copying  tmp_2508.21533/./Fig07.png to _build/html/\n",
      "exported in  _build/html/2508.21533.md\n",
      "    + _build/html/tmp_2508.21533/./Fig08a.png\n",
      "    + _build/html/tmp_2508.21533/./Fig08b.png\n",
      "    + _build/html/tmp_2508.21533/./Fig08c.png\n",
      "    + _build/html/tmp_2508.21533/./Fig08d.png\n",
      "    + _build/html/tmp_2508.21533/./Fig14.png\n",
      "    + _build/html/tmp_2508.21533/./Fig07.png\n",
      "found figures ['tmp_2508.21708/./figures/stack_spectrum.png', 'tmp_2508.21708/./figures/uvslope_origins.png', 'tmp_2508.21708/./figures/bursty.png']\n",
      "copying  tmp_2508.21708/./figures/stack_spectrum.png to _build/html/\n",
      "copying  tmp_2508.21708/./figures/uvslope_origins.png to _build/html/\n",
      "copying  tmp_2508.21708/./figures/bursty.png to _build/html/\n",
      "exported in  _build/html/2508.21708.md\n",
      "    + _build/html/tmp_2508.21708/./figures/stack_spectrum.png\n",
      "    + _build/html/tmp_2508.21708/./figures/uvslope_origins.png\n",
      "    + _build/html/tmp_2508.21708/./figures/bursty.png\n",
      "found figures ['tmp_2508.21818/./figures/mcmc_proc_JWST_J1007+2115_iqso_000.hdf5_P_xHI_and_tQ_and_NHI_and_Rb_.png', 'tmp_2508.21818/./figures/mcmc_proc_JWST_J1007+2115_spec_iqso_000_.png', 'tmp_2508.21818/./figures/mcmc_proc_JWST_J1342+0928_iqso_000.hdf5_P_xHI_and_tQ_and_NHI_and_Rb_.png']\n",
      "copying  tmp_2508.21818/./figures/mcmc_proc_JWST_J1007+2115_iqso_000.hdf5_P_xHI_and_tQ_and_NHI_and_Rb_.png to _build/html/\n",
      "copying  tmp_2508.21818/./figures/mcmc_proc_JWST_J1007+2115_spec_iqso_000_.png to _build/html/\n",
      "copying  tmp_2508.21818/./figures/mcmc_proc_JWST_J1342+0928_iqso_000.hdf5_P_xHI_and_tQ_and_NHI_and_Rb_.png to _build/html/\n",
      "exported in  _build/html/2508.21818.md\n",
      "    + _build/html/tmp_2508.21818/./figures/mcmc_proc_JWST_J1007+2115_iqso_000.hdf5_P_xHI_and_tQ_and_NHI_and_Rb_.png\n",
      "    + _build/html/tmp_2508.21818/./figures/mcmc_proc_JWST_J1007+2115_spec_iqso_000_.png\n",
      "    + _build/html/tmp_2508.21818/./figures/mcmc_proc_JWST_J1342+0928_iqso_000.hdf5_P_xHI_and_tQ_and_NHI_and_Rb_.png\n"
     ]
    }
   ],
   "source": [
    "for paper_id, md in documents:\n",
    "    export_markdown_summary(md, f\"{paper_id:s}.md\", '_build/html/')"
   ]
  },
  {
   "cell_type": "markdown",
   "id": "f087a0a7",
   "metadata": {
    "papermill": {
     "duration": 0.004327,
     "end_time": "2025-09-01T04:22:12.394015",
     "exception": false,
     "start_time": "2025-09-01T04:22:12.389688",
     "status": "completed"
    },
    "tags": []
   },
   "source": [
    "## Display the papers\n",
    "\n",
    "Not necessary but allows for a quick check."
   ]
  },
  {
   "cell_type": "code",
   "execution_count": 9,
   "id": "fd25f625",
   "metadata": {
    "execution": {
     "iopub.execute_input": "2025-09-01T04:22:12.403509Z",
     "iopub.status.busy": "2025-09-01T04:22:12.403294Z",
     "iopub.status.idle": "2025-09-01T04:22:12.410306Z",
     "shell.execute_reply": "2025-09-01T04:22:12.409765Z"
    },
    "papermill": {
     "duration": 0.012916,
     "end_time": "2025-09-01T04:22:12.411293",
     "exception": false,
     "start_time": "2025-09-01T04:22:12.398377",
     "status": "completed"
    },
    "scrolled": false,
    "tags": []
   },
   "outputs": [
    {
     "data": {
      "text/markdown": [
       "<div class=\"macros\" style=\"visibility:hidden;\">\n",
       "$\\newcommand{\\ensuremath}{}$\n",
       "$\\newcommand{\\xspace}{}$\n",
       "$\\newcommand{\\object}[1]{\\texttt{#1}}$\n",
       "$\\newcommand{\\farcs}{{.}''}$\n",
       "$\\newcommand{\\farcm}{{.}'}$\n",
       "$\\newcommand{\\arcsec}{''}$\n",
       "$\\newcommand{\\arcmin}{'}$\n",
       "$\\newcommand{\\ion}[2]{#1#2}$\n",
       "$\\newcommand{\\textsc}[1]{\\textrm{#1}}$\n",
       "$\\newcommand{\\hl}[1]{\\textrm{#1}}$\n",
       "$\\newcommand{\\footnote}[1]{}$\n",
       "$\\newcommand{\\vsini}{V \\sin i_\\star}$\n",
       "$\\newcommand{\\vrad}{V_{\\rm rad}}$\n",
       "$\\newcommand{\\vmic}{V_{\\rm mic}}$\n",
       "$\\newcommand{\\vmac}{V_{\\rm mac}}$\n",
       "$\\newcommand{\\dex}{\\rm dex}$\n",
       "$\\newcommand{\\teff}{T_{\\rm eff}}$\n",
       "$\\newcommand{\\logg}{log g_\\star}$\n",
       "$\\newcommand{\\met}{[M/H]}$\n",
       "$\\newcommand{\\feh}{[Fe/H]}$\n",
       "$\\newcommand{\\cah}{[Ca/H]}$\n",
       "$\\newcommand{\\mgh}{[Mg/H]}$\n",
       "$\\newcommand{\\nah}{[Na/H]}$\n",
       "$\\newcommand{\\sih}{[Si/H]}$\n",
       "$\\newcommand{\\kms}{km s^{-1}}$\n",
       "$\\newcommand{\\ms}{m~s^{-1}}$\n",
       "$\\newcommand{\\msd}{m~s^{-1}~day^{-1}}$\n",
       "$\\newcommand{\\gc}{g~cm^{-3}}$\n",
       "$\\newcommand{\\lgr}{\\log (R^\\prime_{HK})}$\n",
       "$\\newcommand{\\lgt}{\\log~t}$\n",
       "$\\newcommand{\\Lsun}{L_{\\odot}}$\n",
       "$\\newcommand{\\Msun}{M_{\\odot}}$\n",
       "$\\newcommand{\\Rsun}{R_{\\odot}}$\n",
       "$\\newcommand{\\msunyr}{M_{\\odot} yr^{-1}}$\n",
       "$\\newcommand{\\Fearth}{F_{\\oplus}}$\n",
       "$\\newcommand{\\mearth}{M_{\\oplus}}$\n",
       "$\\newcommand{\\rearth}{R_{\\oplus}}$\n",
       "$\\newcommand{\\rjup}{R_\\mathrm{J}}$\n",
       "$\\newcommand{\\mjup}{M_\\mathrm{J}}$\n",
       "$\\newcommand{\\Porb}{P_{\\rm orb}}$\n",
       "$\\newcommand{\\Prot}{P_{\\rm rot}}$\n",
       "$\\newcommand{\\mstar}{M_\\star}$\n",
       "$\\newcommand{\\lstar}{L_\\star}$\n",
       "$\\newcommand{\\rstar}{R_\\star}$\n",
       "$\\newcommand{\\rhostar}{\\rho_{\\mathrm{*}}}$\n",
       "$\\newcommand{\\rhoplanet}{\\rho_\\mathrm{p}}$\n",
       "$\\newcommand{\\rplanet}{R_{\\mathrm{p}}}$\n",
       "$\\newcommand{\\mplanet}{M_{\\mathrm{p}}}$\n",
       "$\\newcommand{\\halpha}{H\\alpha}$\n",
       "$\\newcommand{\\hbeta}{H\\beta}$\n",
       "$\\newcommand{\\sii}{[S {\\sc II}] }$\n",
       "$\\newcommand{\\oii}{[O {\\sc I}] }$\n",
       "$\\newcommand{\\oiii}{[O {\\sc III}] }$\n",
       "$\\newcommand{\\oi}{[O {\\sc i}] }$\n",
       "$\\newcommand{\\cai}{Ca {\\sc I} }$\n",
       "$\\newcommand{\\caii}{[Ca {\\sc II}] }$\n",
       "$\\newcommand{\\feii}{[Fe {\\sc II}] }$\n",
       "$\\newcommand{\\nii}{[N {\\sc II}] }$\n",
       "$\\newcommand{\\mgi}{Mg {\\sc I} }$\n",
       "$\\newcommand{\\nai}{[Na {\\sc I}]}$\n",
       "$\\newcommand{\\av}{A_{V}}$\n",
       "$\\newcommand{\\vmag}{m_{V}}$\n",
       "$\\newcommand{\\tic}{TIC~229650439}$\n",
       "$\\newcommand{\\ticno}{229650439}$\n",
       "$\\newcommand{\\ticb}{TIC~229650439.01}$\n",
       "$\\newcommand{\\ticc}{TIC~229650439.02}$\n",
       "$\\newcommand{\\targeta}{\\mbox{TOI-1438}}$\n",
       "$\\newcommand{\\targetone}{TOI-1438.01}$\n",
       "$\\newcommand{\\targettwo}{TOI-1438.02}$\n",
       "$\\newcommand{\\targetb}{TOI-1438~b}$\n",
       "$\\newcommand{\\targetc}{TOI-1438~c}$\n",
       "$\\newcommand{\\bjdtdb}{\\ensuremath{\\rm{BJD_{TDB}}}}$\n",
       "$\\newcommand{\\logRHK}[1][]{-4.925 \\pm 0.013}$\n",
       "$\\newcommand{\\smassariadne}[1][]{0.876 \\pm 0.038}$\n",
       "$\\newcommand{\\smassariadnegrav}[1][]{0.764\\pm 0.127}$\n",
       "$\\newcommand{\\smassparam}[1][]{0.867 \\pm 0.027}$\n",
       "$\\newcommand{\\sradiusariadne}[1][]{0.820 \\pm 0.017}$\n",
       "$\\newcommand{\\sradiusisochrones}[1][]{0.x\\pm 0.0x}$\n",
       "$\\newcommand{\\sradiusparam}[1][]{0.822\\pm 0.018}$\n",
       "$\\newcommand{\\sradiusspechmatch}[1][]{0.81\\pm 0.08}$\n",
       "$\\newcommand{\\sradiusgaia}[1][]{0.853^{+0.026}_{-0.016} }$\n",
       "$\\newcommand{\\srhoariadne}[1][]{2.2 \\pm 0.2}$\n",
       "$\\newcommand{\\srhospechmatch}[1][]{x \\pm x}$\n",
       "$\\newcommand{\\srhoparam}[1][]{2.2 \\pm 0.2}$\n",
       "$\\newcommand{\\srhotransitmodel}[1][]{x \\pm x}$\n",
       "$\\newcommand{\\srhotic}[1][]{x \\pm x}$\n",
       "$\\newcommand{\\steffariadne}[1][]{5230\\pm 60}$\n",
       "$\\newcommand{\\sloggariadne}[1][]{4.50\\pm0.07}$\n",
       "$\\newcommand{\\sfehariadne}[1][]{0.03\\pm0.06}$\n",
       "$\\newcommand{\\Lumariadne}[1][]{0.45 \\pm 0.02}$\n",
       "$\\newcommand{\\Avariadne}[1][]{0.04 \\pm 0.05}$\n",
       "$\\newcommand{\\steffsme}[1][]{5189 \\pm 65}$\n",
       "$\\newcommand{\\sloggsme}{4.50\\pm 0.05}$\n",
       "$\\newcommand{\\scahsme}[1][]{0.07\\pm 0.06}$\n",
       "$\\newcommand{\\sfehsme}[1][]{0.04\\pm 0.05}$\n",
       "$\\newcommand{\\snasme}[1][]{0.13\\pm 0.06}$\n",
       "$\\newcommand{\\smghsme}[1][]{0.14 \\pm 0.06}$\n",
       "$\\newcommand{\\ssihsme}[1][]{0.07 \\pm 0.06}$\n",
       "$\\newcommand{\\svsinisme}[1][]{1.8 \\pm 0.9}$\n",
       "$\\newcommand{\\svmic}[1][]{0.8}$\n",
       "$\\newcommand{\\svmac}[1][]{2.5}$\n",
       "$\\newcommand{\\velsme}[1][\\mathrm{km s^{-1}}]{-29.21}$\n",
       "$\\newcommand{\\steffspechmatch}[1][]{5225 \\pm 110}$\n",
       "$\\newcommand{\\sloggspechmatch}[1][]{4.53 \\pm 0.12}$\n",
       "$\\newcommand{\\sfehspechmatch}[1][]{0.06\\pm 0.09}$\n",
       "$\\newcommand{\\sloggparam}[1][]{4.52 \\pm 0.03}$\n",
       "$\\newcommand{\\steffgaia}[1][]{5202^{+8}_{-4} }$\n",
       "$\\newcommand{\\slogggaia}[1][]{4.53 \\pm 0.01}$\n",
       "$\\newcommand{\\sfehgaia}[1][]{-0.14 \\pm 0.01}$\n",
       "$\\newcommand{\\lstargaia}[1][]{0.449\\pm0.002}$\n",
       "$\\newcommand{\\distancegaia}{ 110.7\\pm 0.1}$\n",
       "$\\newcommand{\\parallaxgaia}{9.0312\\pm0.0111}$\n",
       "$\\newcommand{\\velgaia}[1][\\mathrm{km s^{-1}}]{-29.40 \\pm 0.34}$\n",
       "$\\newcommand{\\pmra}{-22.8246 \\pm 0.0125}$\n",
       "$\\newcommand{\\pmdec}{53.0721 \\pm  0.0155}$\n",
       "$\\newcommand{\\stefftfop}[1][]{5259\\pm 125}$\n",
       "$\\newcommand{\\sfehtfop}[1][]{0.10 \\pm 0.06 }$\n",
       "$\\newcommand{\\sloggtfop}[1][]{4.57 \\pm 0.09 }$\n",
       "$\\newcommand{\\sradiustfop}[1][]{0.816 \\pm 0.046 }$\n",
       "$\\newcommand{\\smasstfop}[1][]{0.90 \\pm 0.11}$\n",
       "$\\newcommand{\\spectraltype}{K0V}$\n",
       "$\\newcommand{\\smassspectraltype}{0.88}$\n",
       "$\\newcommand{\\sradiusspectraltype}{0.81}$\n",
       "$\\newcommand{\\srhospectraltype}{2.3}$\n",
       "$\\newcommand{\\protvsini}{22.8 \\pm 11.4}$\n",
       "$\\newcommand{\\prottess}{23.0 \\pm 1.4}$\n",
       "$\\newcommand{\\agespechmatch}[1][]{4.2\\pm 1.5}$\n",
       "$\\newcommand{\\ageparam}{5.9\\pm 4.2}$\n",
       "$\\newcommand{\\ageariadne}[1][]{2.6^{+4.2}_{-2.3}}$\n",
       "$\\newcommand{\\ageallmodels}[1][]{2 - 6}$\n",
       "$\\newcommand{\\Tzerob}[1][]$\n",
       "$\\newcommand{\\Tzeroc}[1][]$\n",
       "$\\newcommand{\\Tzerod}[1][]$\n",
       "$\\newcommand{\\Pb}[1][]$\n",
       "$\\newcommand{\\Pc}[1][]$\n",
       "$\\newcommand{\\lnPd}[1][]$\n",
       "$\\newcommand{\\Pd}[1][]$\n",
       "$\\newcommand{\\Pdyear}[1][]$\n",
       "$\\newcommand{\\eb}[1][ ]$\n",
       "$\\newcommand{\\ebfree}[1][ ]$\n",
       "$\\newcommand{\\wb}[1][]$\n",
       "$\\newcommand{\\cosib}[1][]$\n",
       "$\\newcommand{\\bb}[1][ ]$\n",
       "$\\newcommand{\\arb}[1][ ]$\n",
       "$\\newcommand{\\rrb}[1][ ]$\n",
       "$\\newcommand{\\kb}[1][]$\n",
       "$\\newcommand{\\ecfree}[1][ ]$\n",
       "$\\newcommand{\\wc}[1][]$\n",
       "$\\newcommand{\\ed}[1][ ]$\n",
       "$\\newcommand{\\wwd}[1][]$\n",
       "$\\newcommand{\\cosic}[1][]$\n",
       "$\\newcommand{\\bc}[1][ ]$\n",
       "$\\newcommand{\\arc}[1][ ]$\n",
       "$\\newcommand{\\rrc}[1][ ]$\n",
       "$\\newcommand{\\kc}[1][]$\n",
       "$\\newcommand{\\kd}[1][]$\n",
       "$\\newcommand{\\mpb}[1][]$\n",
       "$\\newcommand{\\mpc}[1][]$\n",
       "$\\newcommand{\\mpdearth}[1][]$\n",
       "$\\newcommand{\\mpdjup}[1][]$\n",
       "$\\newcommand{\\rpb}[1][]$\n",
       "$\\newcommand{\\rpc}[1][]$\n",
       "$\\newcommand{\\Tperib}[1][]$\n",
       "$\\newcommand{\\ecosd}[1][]$\n",
       "$\\newcommand{\\esind}[1][]$\n",
       "$\\newcommand{\\ecosc}[1][]$\n",
       "$\\newcommand{\\esinc}[1][]$\n",
       "$\\newcommand{\\eblim}[1][]$\n",
       "$\\newcommand{\\eclim}[1][]$\n",
       "$\\newcommand{\\prvb}[1][]$\n",
       "$\\newcommand{\\ib}[1][]$\n",
       "$\\newcommand{\\ic}[1][]$\n",
       "$\\newcommand{\\ab}[1][]$\n",
       "$\\newcommand{\\ac}[1][]$\n",
       "$\\newcommand{\\ad}[1][]$\n",
       "$\\newcommand{\\depthbSC}[1][]$\n",
       "$\\newcommand{\\RMbSC}[1][]$\n",
       "$\\newcommand{\\insolationb}[1][]$\n",
       "$\\newcommand{\\insolationc}[1][]$\n",
       "$\\newcommand{\\tsmb}[1][ ]$\n",
       "$\\newcommand{\\tsmc}[1][ ]$\n",
       "$\\newcommand{\\denstrb}[1][]$\n",
       "$\\newcommand{\\densspb}[1][]$\n",
       "$\\newcommand{\\Teqb}[1][]$\n",
       "$\\newcommand{\\Teqc}[1][]$\n",
       "$\\newcommand{\\ttotb}[1][]$\n",
       "$\\newcommand{\\tfulb}[1][]$\n",
       "$\\newcommand{\\ttotc}[1][]$\n",
       "$\\newcommand{\\tfulc}[1][]$\n",
       "$\\newcommand{\\tegb}[1][]$\n",
       "$\\newcommand{\\deltamagb}[1][]$\n",
       "$\\newcommand{\\denpb}[1][]$\n",
       "$\\newcommand{\\denpc}[1][]$\n",
       "$\\newcommand{\\grapb}[1][]$\n",
       "$\\newcommand{\\grapc}[1][]$\n",
       "$\\newcommand{\\grapparsb}[1][]$\n",
       "$\\newcommand{\\jspb}[1][]$\n",
       "$\\newcommand{\\jspc}[1][]$\n",
       "$\\newcommand{\\qoneSC}[1][]$\n",
       "$\\newcommand{\\qtwoSC}[1][]$\n",
       "$\\newcommand{\\qsum}[1][]$\n",
       "$\\newcommand{\\HARPSN}[1][]$\n",
       "$\\newcommand{\\jHARPSN}[1][]$\n",
       "$\\newcommand{\\HIRES}[1][]$\n",
       "$\\newcommand{\\jHIRES}[1][]$</div>\n",
       "\n",
       "\n",
       "\n",
       "<div id=\"title\">\n",
       "\n",
       "# TOI-1438:  A  rare system with two short-period sub-Neptunes and a tentative long-period Jupiter-like planet  orbiting a  $\\spectraltype$ star\n",
       "\n",
       "</div>\n",
       "<div id=\"comments\">\n",
       "\n",
       "[![arXiv](https://img.shields.io/badge/arXiv-2508.21533-b31b1b.svg)](https://arxiv.org/abs/2508.21533)<mark>Appeared on: 2025-09-01</mark> -  _31 pages, 21 figures. Accepted by Astronomy & Astrophysics (A&A) 31 July 2025_\n",
       "\n",
       "</div>\n",
       "<div id=\"authors\">\n",
       "\n",
       "C. M. Persson, et al. -- incl., <mark>I. J. M. Crossfield</mark>\n",
       "\n",
       "</div>\n",
       "<div id=\"abstract\">\n",
       "\n",
       "**Abstract:** We present the detection and characterisation of the $\\targeta$ multi-planet system   discovered   by the  Transiting Exoplanet Survey Satellite (TESS).To confirm the planetary nature of the  candidates and determine their masses,  we collected a series  of follow-up observations including    high-spectral resolution  observations with HARPS-N and HIRES over a period of five years.  Our combined modelling  shows that the $\\spectraltype$ star hosts   two transiting sub-Neptunes with $R_\\mathrm{b} = $ $\\rpb$  $\\rearth$ , $R_\\mathrm{c} = $ $\\rpc$  $\\rearth$ , $M_\\mathrm{b} = $ $\\mpb$  $\\mearth$ , and $M_\\mathrm{c} = $ $\\mpc$  $\\mearth$ . The orbital periods of planets b and c are 5.1 and 9.4 days, respectively,   corresponding to instellations of $\\insolationb$  $\\Fearth$ and $\\insolationc$  $\\Fearth$ .  The bulk densities are $\\denpb$  $\\gc$ and $\\denpc$  $\\gc$ , respectively, suggesting a volatile-rich   interior composition. By combining the planet and stellar parameters, we were able to compute a set of  planet interior structure models. Planet b presents a high-metallicity envelope that can accommodate up to 2.5 \\% in H/He in mass, while planet c cannot have more than 0.2 \\% as H/He in mass. For any composition of the core considered (Fe-rock or ice-rock), both planets would require a volatile-rich envelope.  In addition to the two planets, the radial velocity (RV) data  clearly reveal a third   signal,   likely coming from a non-transiting planet, with an   orbital period of $\\Pdyear$ years  and an RV semi-amplitude of $\\kd$  $\\ms$ . Our best-fit model finds a minimum mass of $\\mpdjup$  $\\mjup$ and an eccentricity of $\\ed$ .However, several RV activity indicators also show  strong signals at similar periods, suggesting  this signal might (partly) originate from   stellar   activity.More data over a longer period of time are needed to conclusively determine the nature of this   signal.If it is confirmed as a triple-planet system, $\\targeta$ would be one of the few detected systems to date characterised by an architecture with two small, short-period planets and one massive, long-period planet, where the inner and outer systems are separated by an orbital period ratio of the order of a few hundred.\n",
       "\n",
       "</div>\n",
       "\n",
       "<div id=\"div_fig1\">\n",
       "\n",
       "<img src=\"tmp_2508.21533/./Fig08a.png\" alt=\"Fig6.1\" width=\"25%\"/><img src=\"tmp_2508.21533/./Fig08b.png\" alt=\"Fig6.2\" width=\"25%\"/><img src=\"tmp_2508.21533/./Fig08c.png\" alt=\"Fig6.3\" width=\"25%\"/><img src=\"tmp_2508.21533/./Fig08d.png\" alt=\"Fig6.4\" width=\"25%\"/>\n",
       "\n",
       "**Figure 6. -** Dynamical maps of the eccentricities of the two inner planets ($e_b$, $e_c$) and fixed values of the argument of pericentre of $\\targetb$($\\Delta \\varpi =\\omega_c-\\omega_b$). The black filled circle with a white rim shows the location of the solution obtained by modelling with the eccentricities set as free parameters. Small values of the fast indicator $\\log \\mathrm{\\widehat{REM}}$ characterises regular (long-term stable) solutions, which are marked with black and dark blue colour. Chaotic solutions are marked with brighter colours, up to yellow. The black line represents the so-called collision curve of orbits, defined by the condition: $a_b(1 + e_b) = a_c(1 - e_c)$.  The resolution of each plot is 301 $\\times$ 301 points. Triangles  marked $1-3$ correspond to the solutions shown in Fig. \\ref{figure-TOI-2427-ebec}.\n",
       "    Also, the labelled grey contours refer to the TTV amplitudes shown in Fig. \\ref{figure-TOI-2427-TTV}(details in Section \\ref{sec-dynamical_analysis}).\n",
       "     (*figure-TOI-2427-dynamical_map*)\n",
       "\n",
       "</div>\n",
       "<div id=\"div_fig2\">\n",
       "\n",
       "<img src=\"tmp_2508.21533/./Fig14.png\" alt=\"Fig10\" width=\"100%\"/>\n",
       "\n",
       "**Figure 10. -** RV jitter ($\\sigma_1$) as derived in \\citet{Bonomo2017} as a function of $\\log R^\\prime_{\\rm HK}$ activity index calculated in \\citet{Claudi2024} for exoplanet host stars with $M_\\star<1.1$ $\\Msun$. Light-grey error bars denote systems with a baseline shorter than 1 yr, grey error bars are systems with a baseline  $1-2$ yr, and black error bars are systems with   baselines $>2$ yr. The error bars with arrows are upper limits on the RV jitter. The markers are colour coded with the stellar $T_{\\rm eff}$. $\\targeta$ is marked with a square. The marked systems HAT-P-15, HAT-P-19, TrES-4, and WASP-10 are discussed in Sect. \\ref{Subsection: system architecture}.\n",
       "        Adapted from Fig. 3 in  \\citet{Hekker2006}. (*fig:jitter*)\n",
       "\n",
       "</div>\n",
       "<div id=\"div_fig3\">\n",
       "\n",
       "<img src=\"tmp_2508.21533/./Fig07.png\" alt=\"Fig13\" width=\"100%\"/>\n",
       "\n",
       "**Figure 13. -** RVs of $\\targeta$. Top: The HARPS-N (blue) and HIRES (orange) RV time series with the best-fitting three Keplerian model in grey with residuals shown in the panel below. Lower: The phasefolded RV curves for planet b (left) and c (middle) as well as signal d (right). The best-fitting models are shown as the grey lines with the shaded area denoting the $1$ and $2 \\sigma$ intervals in the $K$-amplitude. Residuals are given below. (*fig:rvs*)\n",
       "\n",
       "</div><div id=\"qrcode\"><img src=https://api.qrserver.com/v1/create-qr-code/?size=100x100&data=\"https://arxiv.org/abs/2508.21533\"></div>"
      ],
      "text/plain": [
       "<IPython.core.display.Markdown object>"
      ]
     },
     "metadata": {},
     "output_type": "display_data"
    },
    {
     "data": {
      "text/markdown": [
       "<div class=\"macros\" style=\"visibility:hidden;\">\n",
       "$\\newcommand{\\ensuremath}{}$\n",
       "$\\newcommand{\\xspace}{}$\n",
       "$\\newcommand{\\object}[1]{\\texttt{#1}}$\n",
       "$\\newcommand{\\farcs}{{.}''}$\n",
       "$\\newcommand{\\farcm}{{.}'}$\n",
       "$\\newcommand{\\arcsec}{''}$\n",
       "$\\newcommand{\\arcmin}{'}$\n",
       "$\\newcommand{\\ion}[2]{#1#2}$\n",
       "$\\newcommand{\\textsc}[1]{\\textrm{#1}}$\n",
       "$\\newcommand{\\hl}[1]{\\textrm{#1}}$\n",
       "$\\newcommand{\\footnote}[1]{}$\n",
       "$\\newcommand{\\kms}{km s^{-1}}$\n",
       "$\\newcommand{\\oii}{O {\\scriptsize II}}$\n",
       "$\\newcommand{\\oiii}{O {\\scriptsize III}}$\n",
       "$\\newcommand{\\oiv}{O {\\scriptsize IV}}$\n",
       "$\\newcommand{\\caii}{Ca {\\scriptsize II}}$\n",
       "$\\newcommand{\\cii}{C {\\scriptsize II}}$\n",
       "$\\newcommand{\\ciii}{C {\\scriptsize III}}$\n",
       "$\\newcommand{\\sii}{S {\\scriptsize II}}$\n",
       "$\\newcommand{\\nii}{N {\\scriptsize II}}$\n",
       "$\\newcommand{\\niii}{N {\\scriptsize III}}$\n",
       "$\\newcommand{\\niv}{N {\\scriptsize IV}}$\n",
       "$\\newcommand{\\neiii}{Ne {\\scriptsize III}}$\n",
       "$\\newcommand{\\nv}{N {\\scriptsize V}}$\n",
       "$\\newcommand{\\civ}{C {\\scriptsize IV}}$\n",
       "$\\newcommand{\\hi}{H {\\scriptsize I}}$\n",
       "$\\newcommand{\\hii}{H {\\scriptsize II}}$\n",
       "$\\newcommand{\\hei}{He {\\scriptsize I}}$\n",
       "$\\newcommand{\\heii}{He {\\scriptsize II}}$\n",
       "$\\newcommand{\\feiv}{Fe {\\scriptsize IV}}$\n",
       "$\\newcommand{\\nev}{Ne {\\scriptsize V}}$\n",
       "$\\newcommand{\\hdelta}{H\\delta}$\n",
       "$\\newcommand{\\hbeta}{H\\beta}$\n",
       "$\\newcommand{\\halpha}{H\\alpha}$\n",
       "$\\newcommand{\\lya}{Ly\\alpha}$\n",
       "$\\newcommand{\\hst}{\\textit{HST}}$\n",
       "$\\newcommand{\\jwst}{\\textit{JWST}}$\n",
       "$\\newcommand{\\spitzer}{\\textit{Spitzer}}$\n",
       "$\\newcommand{\\eazy}{\\texttt{EAzY}}$\n",
       "$\\newcommand{\\pypeit}{\\texttt{PypeIt}}$\n",
       "$\\newcommand{\\bagpipes}{\\texttt{Bagpipes}}$\n",
       "$\\newcommand{\\thefigure}{A\\arabic{figure}}$\n",
       "$\\newcommand{\\thebibliography}{\\DeclareRobustCommand{\\VAN}[3]{##3}\\VANthebibliography}$</div>\n",
       "\n",
       "\n",
       "\n",
       "<div id=\"title\">\n",
       "\n",
       "# JWST Spectroscopic Insights Into the Diversity of Galaxies in the First 500 Myr: Short-Lived Snapshots Along a Common Evolutionary Pathway\n",
       "\n",
       "</div>\n",
       "<div id=\"comments\">\n",
       "\n",
       "[![arXiv](https://img.shields.io/badge/arXiv-2508.21708-b31b1b.svg)](https://arxiv.org/abs/2508.21708)<mark>Appeared on: 2025-09-01</mark> -  _20 pages, 13 figures. Submitted for publication, comments welcome_\n",
       "\n",
       "</div>\n",
       "<div id=\"authors\">\n",
       "\n",
       "G. Roberts-Borsani, et al. -- incl., <mark>F. Walter</mark>\n",
       "\n",
       "</div>\n",
       "<div id=\"abstract\">\n",
       "\n",
       "**Abstract:** We investigate the nature and spectroscopic diversity of early galaxies from a sample of 40 sources at $z\\geqslant10$ with JWST/NIRSpec prism observations, the largest of its kind thus far. We compare the properties of strong UV line emitters, as traced by intense $\\civ$ emission, with those of more \"typical\" sources with weak or undetected $\\civ$ . The more typical (or \" $\\civ$ -weak\") sources reveal significant scatter in their $\\ciii$ ] line strengths, UV continuum slopes, and physical sizes, spanning $\\ciii$ ] equivalent widths of $\\sim$ 1-51 Å, UV slopes of $\\beta\\sim-1.6$ to $-2.6$ , and half-light radii of $\\sim$ 50-1000 pc. In contrast, $\\civ$ -strong sources generally occupy the tail of these distributions, with $\\ciii$ ] EWs of 16-51 Å, UV slopes $\\beta\\lesssim-2.5$ , compact morphologies ( $r_{\\rm 50} \\lesssim 100$ pc), and elevated star formation surface densities ( $\\Sigma_{\\rm SFR} \\gtrsim 100 M_\\odot \\mathrm{yr}^{-1} \\mathrm{kpc}^{-2}$ ). Collectively these properties are consistent with concentrated starbursts that temporarily outshine the extended structure of the galaxy. Comparing average properties from composite spectra, we find the diversity of the sample is primarily driven by bursts and lulls of star formation on very short timescales ( $\\leq$ 3 Myr), where strong $\\civ$ emitters are observed at the apex of these phases and sources devoid of emission lines represent periods of relative inactivity. An apparent association between strong $\\civ$ and enhanced nitrogen abundance suggests both features may be modulated by the same duty cycle and reflect a generic mode of star formation. We show that AGN are unlikely to be a significant contributor to this duty cycle based on a comparison of UV line diagnostics to photoionisation models, although some non-thermal activity cannot be fully ruled out. Our results support a unified evolutionary picture whereby transient bursts and lulls can explain the spectral diversity and early growth of bright galaxies in the first 500 Myr.\n",
       "\n",
       "</div>\n",
       "\n",
       "<div id=\"div_fig1\">\n",
       "\n",
       "<img src=\"tmp_2508.21708/./figures/stack_spectrum.png\" alt=\"Fig12\" width=\"100%\"/>\n",
       "\n",
       "**Figure 12. -** **Composite spectra of the $\\civ$-strong (dark blue) and $\\civ$-weak (light blue) samples at $z\\simeq10.0-14.4$, and the corresponding 2D spectrum of the former.** Emission lines of interest (detected or not) and the Ly$\\alpha$ break are indicated by red vertical lines in the 1D spectrum, as well as S/N ratio contours of 3, 5 and 10 in the 2D spectrum. The $\\civ$-strong composite reveals strongly enhanced $\\niv$], $\\civ$, $\\hei$i$+$\\oiii], and $\\cii$i] line emission compared to its $\\civ$-weak counterpart comprising the rest of the sample. The comparison highlights the strong variance across the galaxy population and diversity of astrophysical processes underpinning the evolution of galaxies within the first 500 Myr. (*fig:stack*)\n",
       "\n",
       "</div>\n",
       "<div id=\"div_fig2\">\n",
       "\n",
       "<img src=\"tmp_2508.21708/./figures/uvslope_origins.png\" alt=\"Fig6\" width=\"100%\"/>\n",
       "\n",
       "**Figure 6. -** **Contributions to the UV continuum slopes of $z\\geqslant10$ galaxies.** The mass-weighted ages from \\texttt{Bagpipes} are plotted with the spectroscopic $\\beta$ measurements for individual objects (small squares) and composite measurements (stars), following previous color schemes. Composite symbols are scaled in size according to their recent star formation activity, where a larger size equates to more recent star formation. The intrinsic scatter in $\\beta$ measured in Section \\ref{subsec:beta} for $\\civ$-weak objects is shown as the light-blue box, while the range of $\\beta$ determined from a number of FSPS models are shown as green fill (varying metallicity), red fill (timing relative to a burst of star formation), purple fill (stellar vs nebular continuum contributions), and grey fill (varying stellar ages). Only variations in the recent star formation history and in stellar age are able to explain the intrinsic scatter of observed UV slopes. (*fig:beta_origins*)\n",
       "\n",
       "</div>\n",
       "<div id=\"div_fig3\">\n",
       "\n",
       "<img src=\"tmp_2508.21708/./figures/bursty.png\" alt=\"Fig7\" width=\"100%\"/>\n",
       "\n",
       "**Figure 7. -** **The burstiness of star formation in $z\\geqslant10$ galaxies.** Individual measurements are plotted as small squares following previous color schemes, while composite measurements from stacked NIRSpec spectra and NIRCam F200W data of _unlensed_ sources are shown as stars (grey for the $\\civ$-weak population, gold for the $\\civ$-strong population). Each composite symbol is scaled in size according to their recent star formation activity, where larger size corresponds to more recent star formation. The log-normal scatter around the median of the morphological distributions in Section \\ref{subsec:morphologies} are plotted as light blue boxes. The large range of SFR surface densities and correlation with half-light radius suggests varying gas densities and star formation efficiencies, while the positions of $\\civ$-strong objects at the most compact end of the distribution with high star formation rate surface densities highlights the requirement of extreme star formation episodes to power $\\civ$ emission. (*fig:bursty*)\n",
       "\n",
       "</div><div id=\"qrcode\"><img src=https://api.qrserver.com/v1/create-qr-code/?size=100x100&data=\"https://arxiv.org/abs/2508.21708\"></div>"
      ],
      "text/plain": [
       "<IPython.core.display.Markdown object>"
      ]
     },
     "metadata": {},
     "output_type": "display_data"
    },
    {
     "data": {
      "text/markdown": [
       "<div class=\"macros\" style=\"visibility:hidden;\">\n",
       "$\\newcommand{\\ensuremath}{}$\n",
       "$\\newcommand{\\xspace}{}$\n",
       "$\\newcommand{\\object}[1]{\\texttt{#1}}$\n",
       "$\\newcommand{\\farcs}{{.}''}$\n",
       "$\\newcommand{\\farcm}{{.}'}$\n",
       "$\\newcommand{\\arcsec}{''}$\n",
       "$\\newcommand{\\arcmin}{'}$\n",
       "$\\newcommand{\\ion}[2]{#1#2}$\n",
       "$\\newcommand{\\textsc}[1]{\\textrm{#1}}$\n",
       "$\\newcommand{\\hl}[1]{\\textrm{#1}}$\n",
       "$\\newcommand{\\footnote}[1]{}$\n",
       "$\\newcommand{\\xHI}{\\langle x_\\mathrm{HI} \\rangle}$\n",
       "$\\newcommand{\\NHI}{N_\\mathrm{HI}^\\mathrm{DW}}$\n",
       "$\\newcommand{\\NHIabs}{N_\\mathrm{HI}^\\mathrm{abs}}$\n",
       "$\\newcommand{\\NHIIGM}{N_\\mathrm{HI}^\\mathrm{IGM}}$\n",
       "$\\newcommand{\\Rb}{r_\\mathrm{patch}}$\n",
       "$\\newcommand{\\tQ}{t_\\mathrm{Q}}$\n",
       "$\\newcommand{\\logNHI}{\\log_{10} \\NHI/\\mathrm{cm}^{-2}}$\n",
       "$\\newcommand{\\logNHIabs}{\\log\\NHIabs}$\n",
       "$\\newcommand{\\logNHIIGM}{\\log\\NHIIGM}$\n",
       "$\\newcommand{\\logtQ}{\\log_{10} \\tQ/\\mathrm{yr}}$\n",
       "$\\newcommand{\\thebibliography}{\\DeclareRobustCommand{\\VAN}[3]{##3}\\VANthebibliography}$</div>\n",
       "\n",
       "\n",
       "\n",
       "<div id=\"title\">\n",
       "\n",
       "# First constraints on the local ionization topology in front of two quasars at $z \\sim 7.5$\n",
       "\n",
       "</div>\n",
       "<div id=\"comments\">\n",
       "\n",
       "[![arXiv](https://img.shields.io/badge/arXiv-2508.21818-b31b1b.svg)](https://arxiv.org/abs/2508.21818)<mark>Appeared on: 2025-09-01</mark> -  _submitted to MNRAS_\n",
       "\n",
       "</div>\n",
       "<div id=\"authors\">\n",
       "\n",
       "T. Kist, et al. -- incl., <mark>E. Bañados</mark>\n",
       "\n",
       "</div>\n",
       "<div id=\"abstract\">\n",
       "\n",
       "**Abstract:** Thus far, Lyman- $\\alpha$ damping wings towards quasars have been used to probe the _global_ ionization state of the foreground intergalactic medium (IGM). A new parameterization has demonstrated that the damping wing signature also carries _local_ information about the distribution of neutral hydrogen (HI) in front of the quasar before it started shining. Leveraging a recently introduced Bayesian \\texttt{JAX} -based Hamiltonian Monte Carlo (HMC) inference framework, we derive constraints on the Lorentzian-weighted HI column density $\\NHI$ , the quasar's distance $\\Rb$ to the first neutral patch and its lifetime $\\tQ$ based on JWST/NIRSpec spectra of the two $z \\sim 7.5$ quasars J1007+2115 and J1342+0928. After folding in model-dependent topology information, we find that J1007+2115 (and J1342+0928) is most likely to reside in a $\\xHI = 0.32_{-0.20}^{+0.22}$ ( $0.58_{-0.23}^{+0.23}$ ) neutral IGM while shining for a remarkably short lifetime of $\\logtQ = 4.14_{-0.18}^{+0.74}$ (an intermediate lifetime of $5.64_{-0.43}^{+0.25}$ ) along a sightline with $\\logNHI = 19.70_{-0.86}^{+0.35}$ ( $20.24_{-0.22}^{+0.25}$ ) and $\\Rb = 28.9_{-14.4}^{+54.0}  \\mathrm{cMpc}$ ( $10.9_{-5.9}^{+5.6}  \\mathrm{cMpc}$ ). In light of the potential presence of local absorbers in the foreground of J1342+0928 as has been recently suggested, we also demonstrate how the Lorentzian-weighted column density $\\NHI$ provides a natural means for quantifying their contribution to the observed damping wing signal.\n",
       "\n",
       "</div>\n",
       "\n",
       "<div id=\"div_fig1\">\n",
       "\n",
       "<img src=\"tmp_2508.21818/./figures/mcmc_proc_JWST_J1007+2115_iqso_000.hdf5_P_xHI_and_tQ_and_NHI_and_Rb_.png\" alt=\"Fig1\" width=\"100%\"/>\n",
       "\n",
       "**Figure 1. -** Posterior distributions inferred from the JWST/NIRSpec spectrum of the quasar J1007+2115 depicted in Figure \\ref{fig:spec_J1007} in the context of the local IGM damping wing parameterization (black) and the global one (yellow). Both distributions are marginalized over $7$ nuisance parameters describing the shape of the quasar continuum. Additionally depicted in green is the topology-informed version of the local constraints, entailing the non-trivial prior $P_\\mathrm{top}($\\logNHI$, $\\Rb$)$(explicitly depicted in purple in the extra panel), and also providing a constraint on the global IGM neutral fraction $\\xHI$ in good agreement with the directly inferred one. (*fig:corner_J1007*)\n",
       "\n",
       "</div>\n",
       "<div id=\"div_fig2\">\n",
       "\n",
       "<img src=\"tmp_2508.21818/./figures/mcmc_proc_JWST_J1007+2115_spec_iqso_000_.png\" alt=\"Fig4\" width=\"100%\"/>\n",
       "\n",
       "**Figure 4. -** Inferred model for the JWST/NIRSpec spectrum of the quasar J1007+2115, fitted in the context of the local IGM damping wing parameterization (upper row) and the global one (lower row). The observed (and rebinned) spectrum of the quasar is depicted in black, with the noise vector shown in yellow. The inferred model spectrum is depicted in red and the unabsorbed inferred continuum in blue, where solid lines represent the median inferred models, and shaded regions the $16 \\%$ and the $84 \\%$ percentile variations reflecting parameter uncertainty, continuum reconstruction errors, as well as spectral noise. (*fig:spec_J1007*)\n",
       "\n",
       "</div>\n",
       "<div id=\"div_fig3\">\n",
       "\n",
       "<img src=\"tmp_2508.21818/./figures/mcmc_proc_JWST_J1342+0928_iqso_000.hdf5_P_xHI_and_tQ_and_NHI_and_Rb_.png\" alt=\"Fig2\" width=\"100%\"/>\n",
       "\n",
       "**Figure 2. -** Like Figure \\ref{fig:corner_J1007} but for the posterior distributions inferred from the JWST/NIRSpec spectrum of the quasar J1342+0928 depicted in Figure \\ref{fig:spec_J1342}. The $($\\NHI$, $\\Rb$)$ panel also shows the putative local absorber constraints obtained by davies2025 assuming two different metallicities which provide lower limits on $\\NHI$. (*fig:corner_J1342*)\n",
       "\n",
       "</div><div id=\"qrcode\"><img src=https://api.qrserver.com/v1/create-qr-code/?size=100x100&data=\"https://arxiv.org/abs/2508.21818\"></div>"
      ],
      "text/plain": [
       "<IPython.core.display.Markdown object>"
      ]
     },
     "metadata": {},
     "output_type": "display_data"
    }
   ],
   "source": [
    "[display(Markdown(k[1])) for k in documents];"
   ]
  },
  {
   "cell_type": "markdown",
   "id": "873873a4",
   "metadata": {
    "papermill": {
     "duration": 0.004996,
     "end_time": "2025-09-01T04:22:12.421643",
     "exception": false,
     "start_time": "2025-09-01T04:22:12.416647",
     "status": "completed"
    },
    "tags": []
   },
   "source": [
    "# Create HTML index"
   ]
  },
  {
   "cell_type": "code",
   "execution_count": 10,
   "id": "cf665672",
   "metadata": {
    "execution": {
     "iopub.execute_input": "2025-09-01T04:22:12.432501Z",
     "iopub.status.busy": "2025-09-01T04:22:12.432274Z",
     "iopub.status.idle": "2025-09-01T04:22:12.439312Z",
     "shell.execute_reply": "2025-09-01T04:22:12.438645Z"
    },
    "papermill": {
     "duration": 0.013611,
     "end_time": "2025-09-01T04:22:12.440320",
     "exception": false,
     "start_time": "2025-09-01T04:22:12.426709",
     "status": "completed"
    },
    "tags": []
   },
   "outputs": [
    {
     "name": "stdout",
     "output_type": "stream",
     "text": [
      "129  publications files modified in the last 7 days.\n"
     ]
    }
   ],
   "source": [
    "from datetime import datetime, timedelta, timezone\n",
    "from glob import glob\n",
    "import os\n",
    "\n",
    "files = glob('_build/html/*.md')\n",
    "days = 7\n",
    "now = datetime.today()\n",
    "res = []\n",
    "for fk in files:\n",
    "    stat_result = os.stat(fk).st_ctime\n",
    "    modified = datetime.fromtimestamp(stat_result, tz=timezone.utc).replace(tzinfo=None)\n",
    "    delta = now.today() - modified\n",
    "    if delta <= timedelta(days=days):\n",
    "        res.append((delta.seconds, fk))\n",
    "res = [k[1] for k in reversed(sorted(res, key=lambda x:x[1]))]\n",
    "npub = len(res)\n",
    "print(len(res), f\" publications files modified in the last {days:d} days.\")\n",
    "# [ print('\\t', k) for k in res ];"
   ]
  },
  {
   "cell_type": "code",
   "execution_count": 11,
   "id": "015de740",
   "metadata": {
    "execution": {
     "iopub.execute_input": "2025-09-01T04:22:12.451258Z",
     "iopub.status.busy": "2025-09-01T04:22:12.451075Z",
     "iopub.status.idle": "2025-09-01T04:22:12.462940Z",
     "shell.execute_reply": "2025-09-01T04:22:12.462377Z"
    },
    "papermill": {
     "duration": 0.018436,
     "end_time": "2025-09-01T04:22:12.463950",
     "exception": false,
     "start_time": "2025-09-01T04:22:12.445514",
     "status": "completed"
    },
    "tags": []
   },
   "outputs": [
    {
     "name": "stdout",
     "output_type": "stream",
     "text": [
      "12  publications in the last 7 days.\n"
     ]
    }
   ],
   "source": [
    "import datetime\n",
    "from glob import glob\n",
    "\n",
    "def get_last_n_days(lst, days=1):\n",
    "    \"\"\" Get the documents from the last n days \"\"\"\n",
    "    sorted_lst = sorted(lst, key=lambda x: x[1], reverse=True)\n",
    "    for fname, date in sorted_lst:\n",
    "        if date >= str(datetime.date.today() - datetime.timedelta(days=days)):\n",
    "            yield fname\n",
    "\n",
    "def extract_appearance_dates(lst_file):\n",
    "    dates = []\n",
    "\n",
    "    def get_date(line):\n",
    "        return line\\\n",
    "            .split('Appeared on:')[-1]\\\n",
    "            .split('</mark>')[0].strip()\n",
    "\n",
    "    for fname in lst:\n",
    "        with open(fname, 'r') as f:\n",
    "            found_date = False\n",
    "            for line in f:\n",
    "                if not found_date:\n",
    "                    if \"Appeared on\" in line:\n",
    "                        found_date = True\n",
    "                        dates.append((fname, get_date(line)))\n",
    "                else:\n",
    "                    break\n",
    "    return dates\n",
    "\n",
    "from glob import glob\n",
    "lst = glob('_build/html/*md')\n",
    "days = 7\n",
    "dates = extract_appearance_dates(lst)\n",
    "res = list(get_last_n_days(dates, days))\n",
    "npub = len(res)\n",
    "print(len(res), f\" publications in the last {days:d} days.\")"
   ]
  },
  {
   "cell_type": "code",
   "execution_count": 12,
   "id": "52ca0208",
   "metadata": {
    "execution": {
     "iopub.execute_input": "2025-09-01T04:22:12.475122Z",
     "iopub.status.busy": "2025-09-01T04:22:12.474929Z",
     "iopub.status.idle": "2025-09-01T04:22:12.479690Z",
     "shell.execute_reply": "2025-09-01T04:22:12.479123Z"
    },
    "papermill": {
     "duration": 0.011439,
     "end_time": "2025-09-01T04:22:12.480720",
     "exception": false,
     "start_time": "2025-09-01T04:22:12.469281",
     "status": "completed"
    },
    "scrolled": false,
    "tags": []
   },
   "outputs": [],
   "source": [
    "def create_carousel(npub=4):\n",
    "    \"\"\" Generate the HTML code for a carousel with `npub` slides \"\"\"\n",
    "    carousel = [\"\"\"  <div class=\"carousel\" \"\"\",\n",
    "                \"\"\"       data-flickity='{ \"autoPlay\": 10000, \"adaptiveHeight\": true, \"resize\": true, \"wrapAround\": true, \"pauseAutoPlayOnHover\": true, \"groupCells\": 1 }' id=\"asyncTypeset\">\"\"\"\n",
    "                ]\n",
    "    \n",
    "    item_str = \"\"\"    <div class=\"carousel-cell\"> <div id=\"slide{k}\" class=\"md_view\">Content {k}</div> </div>\"\"\"\n",
    "    for k in range(1, npub + 1):\n",
    "        carousel.append(item_str.format(k=k))\n",
    "    carousel.append(\"  </div>\")\n",
    "    return '\\n'.join(carousel)\n",
    "\n",
    "def create_grid(npub=4):\n",
    "    \"\"\" Generate the HTML code for a flat grid with `npub` slides \"\"\"\n",
    "    grid = [\"\"\"  <div class=\"grid\"> \"\"\",\n",
    "                ]\n",
    "    \n",
    "    item_str = \"\"\"    <div class=\"grid-item\"> <div id=\"slide{k}\" class=\"md_view\">Content {k}</div> </div>\"\"\"\n",
    "    for k in range(1, npub + 1):\n",
    "        grid.append(item_str.format(k=k))\n",
    "    grid.append(\"  </div>\")\n",
    "    return '\\n'.join(grid)"
   ]
  },
  {
   "cell_type": "code",
   "execution_count": 13,
   "id": "a6eac5b6",
   "metadata": {
    "execution": {
     "iopub.execute_input": "2025-09-01T04:22:12.492082Z",
     "iopub.status.busy": "2025-09-01T04:22:12.491889Z",
     "iopub.status.idle": "2025-09-01T04:22:12.496871Z",
     "shell.execute_reply": "2025-09-01T04:22:12.496197Z"
    },
    "papermill": {
     "duration": 0.01176,
     "end_time": "2025-09-01T04:22:12.497890",
     "exception": false,
     "start_time": "2025-09-01T04:22:12.486130",
     "status": "completed"
    },
    "scrolled": false,
    "tags": []
   },
   "outputs": [],
   "source": [
    "carousel = create_carousel(npub)\n",
    "docs = ', '.join(['\"{0:s}\"'.format(k.split('/')[-1]) for k in res])\n",
    "slides = ', '.join([f'\"slide{k}\"' for k in range(1, npub + 1)])\n",
    "\n",
    "with open(\"daily_template.html\", \"r\") as tpl:\n",
    "    page = tpl.read()\n",
    "    page = page.replace(\"{%-- carousel:s --%}\", carousel)\\\n",
    "               .replace(\"{%-- suptitle:s --%}\",  \"7-day archives\" )\\\n",
    "               .replace(\"{%-- docs:s --%}\", docs)\\\n",
    "               .replace(\"{%-- slides:s --%}\", slides)\n",
    "    \n",
    "with open(\"_build/html/index_7days.html\", 'w') as fout:\n",
    "    fout.write(page)"
   ]
  },
  {
   "cell_type": "code",
   "execution_count": 14,
   "id": "adc1a1ec",
   "metadata": {
    "execution": {
     "iopub.execute_input": "2025-09-01T04:22:12.509051Z",
     "iopub.status.busy": "2025-09-01T04:22:12.508870Z",
     "iopub.status.idle": "2025-09-01T04:22:12.515017Z",
     "shell.execute_reply": "2025-09-01T04:22:12.514477Z"
    },
    "papermill": {
     "duration": 0.012881,
     "end_time": "2025-09-01T04:22:12.516008",
     "exception": false,
     "start_time": "2025-09-01T04:22:12.503127",
     "status": "completed"
    },
    "tags": []
   },
   "outputs": [
    {
     "name": "stdout",
     "output_type": "stream",
     "text": [
      "3  publications in the last day.\n"
     ]
    }
   ],
   "source": [
    "# redo for today\n",
    "days = 1\n",
    "res = list(get_last_n_days(dates, days))\n",
    "npub = len(res)\n",
    "print(len(res), f\" publications in the last day.\")\n",
    "\n",
    "carousel = create_carousel(npub)\n",
    "docs = ', '.join(['\"{0:s}\"'.format(k.split('/')[-1]) for k in res])\n",
    "slides = ', '.join([f'\"slide{k}\"' for k in range(1, npub + 1)])\n",
    "\n",
    "with open(\"daily_template.html\", \"r\") as tpl:\n",
    "    page = tpl.read()\n",
    "    page = page.replace(\"{%-- carousel:s --%}\", carousel)\\\n",
    "               .replace(\"{%-- suptitle:s --%}\",  \"Daily\" )\\\n",
    "               .replace(\"{%-- docs:s --%}\", docs)\\\n",
    "               .replace(\"{%-- slides:s --%}\", slides)\n",
    "    \n",
    "# print(carousel, docs, slides)\n",
    "# print(page)\n",
    "with open(\"_build/html/index_daily.html\", 'w') as fout:\n",
    "    fout.write(page)"
   ]
  },
  {
   "cell_type": "code",
   "execution_count": 15,
   "id": "00eece82",
   "metadata": {
    "execution": {
     "iopub.execute_input": "2025-09-01T04:22:12.527588Z",
     "iopub.status.busy": "2025-09-01T04:22:12.527334Z",
     "iopub.status.idle": "2025-09-01T04:22:12.533687Z",
     "shell.execute_reply": "2025-09-01T04:22:12.533127Z"
    },
    "papermill": {
     "duration": 0.013166,
     "end_time": "2025-09-01T04:22:12.534672",
     "exception": false,
     "start_time": "2025-09-01T04:22:12.521506",
     "status": "completed"
    },
    "scrolled": false,
    "tags": []
   },
   "outputs": [
    {
     "name": "stdout",
     "output_type": "stream",
     "text": [
      "6  6 publications selected.\n"
     ]
    }
   ],
   "source": [
    "# Create the flat grid of the last N papers (fixed number regardless of dates)\n",
    "from itertools import islice \n",
    "\n",
    "npub = 6\n",
    "res = [k[0] for k in (islice(reversed(sorted(dates, key=lambda x: x[1])), 6))]\n",
    "print(len(res), f\" {npub} publications selected.\")\n",
    "\n",
    "grid = create_grid(npub)\n",
    "docs = ', '.join(['\"{0:s}\"'.format(k.split('/')[-1]) for k in res])\n",
    "slides = ', '.join([f'\"slide{k}\"' for k in range(1, npub + 1)])\n",
    "\n",
    "with open(\"grid_template.html\", \"r\") as tpl:\n",
    "    page = tpl.read()\n",
    "    page = page.replace(\"{%-- grid-content:s --%}\", grid)\\\n",
    "               .replace(\"{%-- suptitle:s --%}\",  f\"Last {npub:,d} papers\" )\\\n",
    "               .replace(\"{%-- docs:s --%}\", docs)\\\n",
    "               .replace(\"{%-- slides:s --%}\", slides)\n",
    "    \n",
    "# print(grid, docs, slides)\n",
    "# print(page)\n",
    "with open(\"_build/html/index_npub_grid.html\", 'w') as fout:\n",
    "    fout.write(page)"
   ]
  }
 ],
 "metadata": {
  "kernelspec": {
   "display_name": "Python 3 (ipykernel)",
   "language": "python",
   "name": "python3"
  },
  "language_info": {
   "codemirror_mode": {
    "name": "ipython",
    "version": 3
   },
   "file_extension": ".py",
   "mimetype": "text/x-python",
   "name": "python",
   "nbconvert_exporter": "python",
   "pygments_lexer": "ipython3",
   "version": "3.9.23"
  },
  "papermill": {
   "default_parameters": {},
   "duration": 117.984479,
   "end_time": "2025-09-01T04:22:12.755230",
   "environment_variables": {},
   "exception": null,
   "input_path": "MPIA daily digest.ipynb",
   "output_path": "log.ipynb",
   "parameters": {},
   "start_time": "2025-09-01T04:20:14.770751",
   "version": "2.6.0"
  },
  "vscode": {
   "interpreter": {
    "hash": "aee8b7b246df8f9039afb4144a1f6fd8d2ca17a180786b69acc140d282b71a49"
   }
  },
  "widgets": {
   "application/vnd.jupyter.widget-state+json": {
    "state": {
     "100ca6c4f832400a8d70cf21c007d00c": {
      "model_module": "@jupyter-widgets/controls",
      "model_module_version": "2.0.0",
      "model_name": "FloatProgressModel",
      "state": {
       "_dom_classes": [],
       "_model_module": "@jupyter-widgets/controls",
       "_model_module_version": "2.0.0",
       "_model_name": "FloatProgressModel",
       "_view_count": null,
       "_view_module": "@jupyter-widgets/controls",
       "_view_module_version": "2.0.0",
       "_view_name": "ProgressView",
       "bar_style": "success",
       "description": "",
       "description_allow_html": false,
       "layout": "IPY_MODEL_83f4b4e20d144ed9b72c3f882e2d608c",
       "max": 5.0,
       "min": 0.0,
       "orientation": "horizontal",
       "style": "IPY_MODEL_6a4198857b844cdb93a63d713216b1d7",
       "tabbable": null,
       "tooltip": null,
       "value": 5.0
      }
     },
     "2d09527725a94ace92ec31c9712759f8": {
      "model_module": "@jupyter-widgets/base",
      "model_module_version": "2.0.0",
      "model_name": "LayoutModel",
      "state": {
       "_model_module": "@jupyter-widgets/base",
       "_model_module_version": "2.0.0",
       "_model_name": "LayoutModel",
       "_view_count": null,
       "_view_module": "@jupyter-widgets/base",
       "_view_module_version": "2.0.0",
       "_view_name": "LayoutView",
       "align_content": null,
       "align_items": null,
       "align_self": null,
       "border_bottom": null,
       "border_left": null,
       "border_right": null,
       "border_top": null,
       "bottom": null,
       "display": null,
       "flex": null,
       "flex_flow": null,
       "grid_area": null,
       "grid_auto_columns": null,
       "grid_auto_flow": null,
       "grid_auto_rows": null,
       "grid_column": null,
       "grid_gap": null,
       "grid_row": null,
       "grid_template_areas": null,
       "grid_template_columns": null,
       "grid_template_rows": null,
       "height": null,
       "justify_content": null,
       "justify_items": null,
       "left": null,
       "margin": null,
       "max_height": null,
       "max_width": null,
       "min_height": null,
       "min_width": null,
       "object_fit": null,
       "object_position": null,
       "order": null,
       "overflow": null,
       "padding": null,
       "right": null,
       "top": null,
       "visibility": null,
       "width": null
      }
     },
     "512f26aac50e4b93834f9386c62de41a": {
      "model_module": "@jupyter-widgets/controls",
      "model_module_version": "2.0.0",
      "model_name": "HBoxModel",
      "state": {
       "_dom_classes": [],
       "_model_module": "@jupyter-widgets/controls",
       "_model_module_version": "2.0.0",
       "_model_name": "HBoxModel",
       "_view_count": null,
       "_view_module": "@jupyter-widgets/controls",
       "_view_module_version": "2.0.0",
       "_view_name": "HBoxView",
       "box_style": "",
       "children": [
        "IPY_MODEL_60a78959ce7a41c6867d2dc79cab2caf",
        "IPY_MODEL_100ca6c4f832400a8d70cf21c007d00c",
        "IPY_MODEL_e31b7105b1944c4abd9b8c73179539c8"
       ],
       "layout": "IPY_MODEL_c2a334409cf446c6ad8646c70b45ecc4",
       "tabbable": null,
       "tooltip": null
      }
     },
     "60a78959ce7a41c6867d2dc79cab2caf": {
      "model_module": "@jupyter-widgets/controls",
      "model_module_version": "2.0.0",
      "model_name": "HTMLModel",
      "state": {
       "_dom_classes": [],
       "_model_module": "@jupyter-widgets/controls",
       "_model_module_version": "2.0.0",
       "_model_name": "HTMLModel",
       "_view_count": null,
       "_view_module": "@jupyter-widgets/controls",
       "_view_module_version": "2.0.0",
       "_view_name": "HTMLView",
       "description": "",
       "description_allow_html": false,
       "layout": "IPY_MODEL_fb0d569e6b36408599ddb04556fde254",
       "placeholder": "​",
       "style": "IPY_MODEL_dd3a84eeea974f7c88ce07d8f7615d5d",
       "tabbable": null,
       "tooltip": null,
       "value": "100%"
      }
     },
     "6a4198857b844cdb93a63d713216b1d7": {
      "model_module": "@jupyter-widgets/controls",
      "model_module_version": "2.0.0",
      "model_name": "ProgressStyleModel",
      "state": {
       "_model_module": "@jupyter-widgets/controls",
       "_model_module_version": "2.0.0",
       "_model_name": "ProgressStyleModel",
       "_view_count": null,
       "_view_module": "@jupyter-widgets/base",
       "_view_module_version": "2.0.0",
       "_view_name": "StyleView",
       "bar_color": null,
       "description_width": ""
      }
     },
     "83f4b4e20d144ed9b72c3f882e2d608c": {
      "model_module": "@jupyter-widgets/base",
      "model_module_version": "2.0.0",
      "model_name": "LayoutModel",
      "state": {
       "_model_module": "@jupyter-widgets/base",
       "_model_module_version": "2.0.0",
       "_model_name": "LayoutModel",
       "_view_count": null,
       "_view_module": "@jupyter-widgets/base",
       "_view_module_version": "2.0.0",
       "_view_name": "LayoutView",
       "align_content": null,
       "align_items": null,
       "align_self": null,
       "border_bottom": null,
       "border_left": null,
       "border_right": null,
       "border_top": null,
       "bottom": null,
       "display": null,
       "flex": null,
       "flex_flow": null,
       "grid_area": null,
       "grid_auto_columns": null,
       "grid_auto_flow": null,
       "grid_auto_rows": null,
       "grid_column": null,
       "grid_gap": null,
       "grid_row": null,
       "grid_template_areas": null,
       "grid_template_columns": null,
       "grid_template_rows": null,
       "height": null,
       "justify_content": null,
       "justify_items": null,
       "left": null,
       "margin": null,
       "max_height": null,
       "max_width": null,
       "min_height": null,
       "min_width": null,
       "object_fit": null,
       "object_position": null,
       "order": null,
       "overflow": null,
       "padding": null,
       "right": null,
       "top": null,
       "visibility": null,
       "width": null
      }
     },
     "ae865387b14848a0b094ecdf405f7f42": {
      "model_module": "@jupyter-widgets/controls",
      "model_module_version": "2.0.0",
      "model_name": "HTMLStyleModel",
      "state": {
       "_model_module": "@jupyter-widgets/controls",
       "_model_module_version": "2.0.0",
       "_model_name": "HTMLStyleModel",
       "_view_count": null,
       "_view_module": "@jupyter-widgets/base",
       "_view_module_version": "2.0.0",
       "_view_name": "StyleView",
       "background": null,
       "description_width": "",
       "font_size": null,
       "text_color": null
      }
     },
     "c2a334409cf446c6ad8646c70b45ecc4": {
      "model_module": "@jupyter-widgets/base",
      "model_module_version": "2.0.0",
      "model_name": "LayoutModel",
      "state": {
       "_model_module": "@jupyter-widgets/base",
       "_model_module_version": "2.0.0",
       "_model_name": "LayoutModel",
       "_view_count": null,
       "_view_module": "@jupyter-widgets/base",
       "_view_module_version": "2.0.0",
       "_view_name": "LayoutView",
       "align_content": null,
       "align_items": null,
       "align_self": null,
       "border_bottom": null,
       "border_left": null,
       "border_right": null,
       "border_top": null,
       "bottom": null,
       "display": null,
       "flex": null,
       "flex_flow": null,
       "grid_area": null,
       "grid_auto_columns": null,
       "grid_auto_flow": null,
       "grid_auto_rows": null,
       "grid_column": null,
       "grid_gap": null,
       "grid_row": null,
       "grid_template_areas": null,
       "grid_template_columns": null,
       "grid_template_rows": null,
       "height": null,
       "justify_content": null,
       "justify_items": null,
       "left": null,
       "margin": null,
       "max_height": null,
       "max_width": null,
       "min_height": null,
       "min_width": null,
       "object_fit": null,
       "object_position": null,
       "order": null,
       "overflow": null,
       "padding": null,
       "right": null,
       "top": null,
       "visibility": null,
       "width": null
      }
     },
     "dd3a84eeea974f7c88ce07d8f7615d5d": {
      "model_module": "@jupyter-widgets/controls",
      "model_module_version": "2.0.0",
      "model_name": "HTMLStyleModel",
      "state": {
       "_model_module": "@jupyter-widgets/controls",
       "_model_module_version": "2.0.0",
       "_model_name": "HTMLStyleModel",
       "_view_count": null,
       "_view_module": "@jupyter-widgets/base",
       "_view_module_version": "2.0.0",
       "_view_name": "StyleView",
       "background": null,
       "description_width": "",
       "font_size": null,
       "text_color": null
      }
     },
     "e31b7105b1944c4abd9b8c73179539c8": {
      "model_module": "@jupyter-widgets/controls",
      "model_module_version": "2.0.0",
      "model_name": "HTMLModel",
      "state": {
       "_dom_classes": [],
       "_model_module": "@jupyter-widgets/controls",
       "_model_module_version": "2.0.0",
       "_model_name": "HTMLModel",
       "_view_count": null,
       "_view_module": "@jupyter-widgets/controls",
       "_view_module_version": "2.0.0",
       "_view_name": "HTMLView",
       "description": "",
       "description_allow_html": false,
       "layout": "IPY_MODEL_2d09527725a94ace92ec31c9712759f8",
       "placeholder": "​",
       "style": "IPY_MODEL_ae865387b14848a0b094ecdf405f7f42",
       "tabbable": null,
       "tooltip": null,
       "value": " 5/5 [01:35&lt;00:00, 17.26s/it]"
      }
     },
     "fb0d569e6b36408599ddb04556fde254": {
      "model_module": "@jupyter-widgets/base",
      "model_module_version": "2.0.0",
      "model_name": "LayoutModel",
      "state": {
       "_model_module": "@jupyter-widgets/base",
       "_model_module_version": "2.0.0",
       "_model_name": "LayoutModel",
       "_view_count": null,
       "_view_module": "@jupyter-widgets/base",
       "_view_module_version": "2.0.0",
       "_view_name": "LayoutView",
       "align_content": null,
       "align_items": null,
       "align_self": null,
       "border_bottom": null,
       "border_left": null,
       "border_right": null,
       "border_top": null,
       "bottom": null,
       "display": null,
       "flex": null,
       "flex_flow": null,
       "grid_area": null,
       "grid_auto_columns": null,
       "grid_auto_flow": null,
       "grid_auto_rows": null,
       "grid_column": null,
       "grid_gap": null,
       "grid_row": null,
       "grid_template_areas": null,
       "grid_template_columns": null,
       "grid_template_rows": null,
       "height": null,
       "justify_content": null,
       "justify_items": null,
       "left": null,
       "margin": null,
       "max_height": null,
       "max_width": null,
       "min_height": null,
       "min_width": null,
       "object_fit": null,
       "object_position": null,
       "order": null,
       "overflow": null,
       "padding": null,
       "right": null,
       "top": null,
       "visibility": null,
       "width": null
      }
     }
    },
    "version_major": 2,
    "version_minor": 0
   }
  }
 },
 "nbformat": 4,
 "nbformat_minor": 5
}