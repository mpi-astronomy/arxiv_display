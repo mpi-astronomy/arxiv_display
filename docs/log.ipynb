{
 "cells": [
  {
   "cell_type": "markdown",
   "id": "92bcb855",
   "metadata": {
    "papermill": {
     "duration": 0.004855,
     "end_time": "2023-05-03T04:03:57.951080",
     "exception": false,
     "start_time": "2023-05-03T04:03:57.946225",
     "status": "completed"
    },
    "tags": []
   },
   "source": [
    "# MPIA Arxiv on Deck 2\n",
    "\n",
    "Contains the steps to produce the paper extractions."
   ]
  },
  {
   "cell_type": "code",
   "execution_count": 1,
   "id": "3a0d6e11",
   "metadata": {
    "execution": {
     "iopub.execute_input": "2023-05-03T04:03:57.960054Z",
     "iopub.status.busy": "2023-05-03T04:03:57.959303Z",
     "iopub.status.idle": "2023-05-03T04:03:58.188895Z",
     "shell.execute_reply": "2023-05-03T04:03:58.188159Z"
    },
    "papermill": {
     "duration": 0.236425,
     "end_time": "2023-05-03T04:03:58.191146",
     "exception": false,
     "start_time": "2023-05-03T04:03:57.954721",
     "status": "completed"
    },
    "tags": []
   },
   "outputs": [],
   "source": [
    "# Imports\n",
    "import os\n",
    "from IPython.display import Markdown, display\n",
    "from tqdm.notebook import tqdm\n",
    "import warnings\n",
    "from PIL import Image \n",
    "\n",
    "# requires arxiv_on_deck_2\n",
    "\n",
    "from arxiv_on_deck_2.arxiv2 import (get_new_papers, \n",
    "                                    get_paper_from_identifier,\n",
    "                                    retrieve_document_source, \n",
    "                                    get_markdown_badge)\n",
    "from arxiv_on_deck_2 import (latex,\n",
    "                             latex_bib,\n",
    "                             mpia,\n",
    "                             highlight_authors_in_list)\n",
    "\n",
    "# Sometimes images are really big\n",
    "Image.MAX_IMAGE_PIXELS = 1000000000 "
   ]
  },
  {
   "cell_type": "code",
   "execution_count": 2,
   "id": "22aa9d44",
   "metadata": {
    "execution": {
     "iopub.execute_input": "2023-05-03T04:03:58.200342Z",
     "iopub.status.busy": "2023-05-03T04:03:58.199725Z",
     "iopub.status.idle": "2023-05-03T04:03:58.205869Z",
     "shell.execute_reply": "2023-05-03T04:03:58.205182Z"
    },
    "papermill": {
     "duration": 0.012474,
     "end_time": "2023-05-03T04:03:58.207752",
     "exception": false,
     "start_time": "2023-05-03T04:03:58.195278",
     "status": "completed"
    },
    "tags": []
   },
   "outputs": [],
   "source": [
    "# Some useful definitions.\n",
    "\n",
    "class AffiliationWarning(UserWarning):\n",
    "    pass\n",
    "\n",
    "class AffiliationError(RuntimeError):\n",
    "    pass\n",
    "\n",
    "def validation(source: str):\n",
    "    \"\"\"Raises error paper during parsing of source file\n",
    "    \n",
    "    Allows checks before parsing TeX code.\n",
    "    \n",
    "    Raises AffiliationWarning\n",
    "    \"\"\"\n",
    "    check = mpia.affiliation_verifications(source, verbose=True)\n",
    "    if check is not True:\n",
    "        raise AffiliationError(\"mpia.affiliation_verifications: \" + check)\n",
    "\n",
    "        \n",
    "warnings.simplefilter('always', AffiliationWarning)\n",
    "\n",
    "\n",
    "def get_markdown_qrcode(paper_id: str):\n",
    "    \"\"\" Generate a qrcode to the arxiv page using qrserver.com\n",
    "    \n",
    "    :param paper: Arxiv paper\n",
    "    :returns: markdown text\n",
    "    \"\"\"\n",
    "    url = r\"https://api.qrserver.com/v1/create-qr-code/?size=100x100&data=\"\n",
    "    txt = f\"\"\"<img src={url}\"https://arxiv.org/abs/{paper_id}\">\"\"\"\n",
    "    txt = '<div id=\"qrcode\">' + txt + '</div>'\n",
    "    return txt"
   ]
  },
  {
   "cell_type": "markdown",
   "id": "14bd6310",
   "metadata": {
    "papermill": {
     "duration": 0.00328,
     "end_time": "2023-05-03T04:03:58.214370",
     "exception": false,
     "start_time": "2023-05-03T04:03:58.211090",
     "status": "completed"
    },
    "tags": []
   },
   "source": [
    "## get list of arxiv paper candidates\n",
    "\n",
    "We use the MPIA mitarbeiter list webpage from mpia.de to get author names\n",
    "We then get all new papers from Arxiv and match authors"
   ]
  },
  {
   "cell_type": "code",
   "execution_count": 3,
   "id": "2645e73a",
   "metadata": {
    "execution": {
     "iopub.execute_input": "2023-05-03T04:03:58.222564Z",
     "iopub.status.busy": "2023-05-03T04:03:58.221913Z",
     "iopub.status.idle": "2023-05-03T04:04:29.260451Z",
     "shell.execute_reply": "2023-05-03T04:04:29.259742Z"
    },
    "papermill": {
     "duration": 31.04823,
     "end_time": "2023-05-03T04:04:29.265929",
     "exception": false,
     "start_time": "2023-05-03T04:03:58.217699",
     "status": "completed"
    },
    "tags": []
   },
   "outputs": [
    {
     "name": "stdout",
     "output_type": "stream",
     "text": [
      "E. Bañados  ->  E. Bañados  |  ['E. Bañados']\n",
      "F. Walter  ->  F. Walter  |  ['F. Walter']\n",
      "Y. Guo  ->  Y. Guo  |  ['Y. Guo']\n",
      "L. Acuna  ->  L. Acuna  |  ['L. Acuna']\n",
      "R. Andrae  ->  R. Andrae  |  ['R. Andrae']\n",
      "K. El-Badry  ->  K. El-Badry  |  ['K. El-Badry']\n",
      "Arxiv has 56 new papers today\n",
      "          4 with possible author matches\n"
     ]
    }
   ],
   "source": [
    "# get list from MPIA website\n",
    "# it automatically filters identified non-scientists :func:`mpia.filter_non_scientists`\n",
    "mpia_authors = mpia.get_mpia_mitarbeiter_list()\n",
    "normed_mpia_authors = [k[1] for k in mpia_authors]   # initials + fullname\n",
    "new_papers = get_new_papers()\n",
    "# add manual references\n",
    "add_paper_refs = []\n",
    "new_papers.extend([get_paper_from_identifier(k) for k in add_paper_refs])\n",
    "\n",
    "candidates = []\n",
    "for paperk in new_papers:\n",
    "    # Check author list with their initials\n",
    "    normed_author_list = [mpia.get_initials(k) for k in paperk['authors']]\n",
    "    hl_authors = highlight_authors_in_list(normed_author_list, normed_mpia_authors, verbose=True)\n",
    "    matches = [(hl, orig) for hl, orig in zip(hl_authors, paperk['authors']) if 'mark' in hl]\n",
    "    paperk['authors'] = hl_authors\n",
    "    if matches:\n",
    "        # only select paper if an author matched our list\n",
    "        candidates.append(paperk)\n",
    "print(\"\"\"Arxiv has {0:,d} new papers today\"\"\".format(len(new_papers)))        \n",
    "print(\"\"\"          {0:,d} with possible author matches\"\"\".format(len(candidates)))"
   ]
  },
  {
   "cell_type": "markdown",
   "id": "3543b34a",
   "metadata": {
    "papermill": {
     "duration": 0.00335,
     "end_time": "2023-05-03T04:04:29.272871",
     "exception": false,
     "start_time": "2023-05-03T04:04:29.269521",
     "status": "completed"
    },
    "tags": []
   },
   "source": [
    "# Parse sources and generate relevant outputs\n",
    "\n",
    "From the candidates, we do the following steps:\n",
    "* get their tarball from ArXiv (and extract data)\n",
    "* find the main .tex file: find one with \\documentclass{...} (sometimes it's non trivial)\n",
    "* Check affiliations with :func:`validation`, which uses :func:`mpia.affiliation_verifications`\n",
    "* If passing the affiliations: we parse the .tex source\n",
    "   * inject sub-documents into the main (flatten the main document)\n",
    "   * parse structure, extract information (title, abstract, authors, figures...)\n",
    "   * handles `\\graphicspath` if provided\n",
    "* Generate the .md document."
   ]
  },
  {
   "cell_type": "code",
   "execution_count": 4,
   "id": "9576b79e",
   "metadata": {
    "execution": {
     "iopub.execute_input": "2023-05-03T04:04:29.281559Z",
     "iopub.status.busy": "2023-05-03T04:04:29.280927Z",
     "iopub.status.idle": "2023-05-03T04:05:37.676913Z",
     "shell.execute_reply": "2023-05-03T04:05:37.676110Z"
    },
    "papermill": {
     "duration": 68.402592,
     "end_time": "2023-05-03T04:05:37.678833",
     "exception": false,
     "start_time": "2023-05-03T04:04:29.276241",
     "status": "completed"
    },
    "scrolled": false,
    "tags": []
   },
   "outputs": [
    {
     "data": {
      "application/vnd.jupyter.widget-view+json": {
       "model_id": "5633f1a0330e43f592da051e2f4c3062",
       "version_major": 2,
       "version_minor": 0
      },
      "text/plain": [
       "  0%|          | 0/3 [00:00<?, ?it/s]"
      ]
     },
     "metadata": {},
     "output_type": "display_data"
    },
    {
     "name": "stdout",
     "output_type": "stream",
     "text": [
      "Retrieving document from  https://arxiv.org/e-print/2305.00998\n"
     ]
    },
    {
     "name": "stdout",
     "output_type": "stream",
     "text": [
      "extracting tarball to tmp_2305.00998..."
     ]
    },
    {
     "name": "stdout",
     "output_type": "stream",
     "text": [
      " done.\n"
     ]
    },
    {
     "name": "stderr",
     "output_type": "stream",
     "text": [
      "/opt/hostedtoolcache/Python/3.9.16/x64/lib/python3.9/site-packages/IPython/core/interactiveshell.py:3508: LatexWarning: Multiple tex files.\n",
      "\n",
      "  exec(code_obj, self.user_global_ns, self.user_ns)\n",
      "/opt/hostedtoolcache/Python/3.9.16/x64/lib/python3.9/site-packages/IPython/core/interactiveshell.py:3508: LatexWarning: Found documentclass in tmp_2305.00998/xqr30-paper1.tex\n",
      "\n",
      "  exec(code_obj, self.user_global_ns, self.user_ns)\n"
     ]
    },
    {
     "name": "stdout",
     "output_type": "stream",
     "text": [
      "Found 69 bibliographic references in tmp_2305.00998/xqr30-paper1.bbl.\n",
      "Retrieving document from  https://arxiv.org/e-print/2305.01014\n"
     ]
    },
    {
     "name": "stdout",
     "output_type": "stream",
     "text": [
      "extracting tarball to tmp_2305.01014... done.\n",
      "Retrieving document from  https://arxiv.org/e-print/2305.01250\n"
     ]
    },
    {
     "name": "stdout",
     "output_type": "stream",
     "text": [
      "extracting tarball to tmp_2305.01250..."
     ]
    },
    {
     "name": "stdout",
     "output_type": "stream",
     "text": [
      " done.\n"
     ]
    },
    {
     "name": "stderr",
     "output_type": "stream",
     "text": [
      "/opt/hostedtoolcache/Python/3.9.16/x64/lib/python3.9/site-packages/IPython/core/interactiveshell.py:3508: LatexWarning: Multiple tex files.\n",
      "\n",
      "  exec(code_obj, self.user_global_ns, self.user_ns)\n",
      "/opt/hostedtoolcache/Python/3.9.16/x64/lib/python3.9/site-packages/IPython/core/interactiveshell.py:3508: LatexWarning: Found documentclass in tmp_2305.01250/aanda.tex\n",
      "\n",
      "  exec(code_obj, self.user_global_ns, self.user_ns)\n"
     ]
    },
    {
     "name": "stdout",
     "output_type": "stream",
     "text": [
      "Found 97 bibliographic references in tmp_2305.01250/aanda.bbl.\n",
      "syntax error in line 86: '}' expected\n"
     ]
    }
   ],
   "source": [
    "documents = []\n",
    "failed = []\n",
    "for paper in tqdm(candidates[:-1]):\n",
    "    paper_id = paper['identifier'].lower().replace('arxiv:', '')\n",
    "    \n",
    "    folder = f'tmp_{paper_id}'\n",
    "\n",
    "    try:\n",
    "        if not os.path.isdir(folder):\n",
    "            folder = retrieve_document_source(f\"{paper_id}\", f'tmp_{paper_id}')\n",
    "        \n",
    "        try:\n",
    "            doc = latex.LatexDocument(folder, validation=validation)    \n",
    "        except AffiliationError as affilerror:\n",
    "            msg = f\"ArXiv:{paper_id:s} is not an MPIA paper... \" + str(affilerror)\n",
    "            failed.append((paper, \"affiliation error: \" + str(affilerror) ))\n",
    "            continue\n",
    "        \n",
    "        # Hack because sometimes author parsing does not work well\n",
    "        if (len(doc.authors) != len(paper['authors'])):\n",
    "            doc._authors = paper['authors']\n",
    "        else:\n",
    "            # highlight authors (FIXME: doc.highlight_authors)\n",
    "            # done on arxiv paper already\n",
    "            doc._authors = highlight_authors_in_list(\n",
    "                [mpia.get_initials(k) for k in doc.authors], \n",
    "                normed_mpia_authors, verbose=True)\n",
    "        if (doc.abstract) in (None, ''):\n",
    "            doc._abstract = paper['abstract']\n",
    "            \n",
    "        doc.comment = (get_markdown_badge(paper_id) + \n",
    "                       \"<mark>Appeared on: \" + paper['date'] + \"</mark> - \")\n",
    "        if paper['comments']:\n",
    "            doc.comment += \" _\" + paper['comments'] + \"_\"\n",
    "        \n",
    "        full_md = doc.generate_markdown_text()\n",
    "        \n",
    "        full_md += get_markdown_qrcode(paper_id)\n",
    "        \n",
    "        # replace citations\n",
    "        try:\n",
    "            bibdata = latex_bib.LatexBib.from_doc(doc)\n",
    "            full_md = latex_bib.replace_citations(full_md, bibdata)\n",
    "        except Exception as e:\n",
    "            print(e)\n",
    "        \n",
    "        documents.append((paper_id, full_md))\n",
    "    except Exception as e:\n",
    "        warnings.warn(latex.LatexWarning(f\"{paper_id:s} did not run properly\\n\" +\n",
    "                                         str(e)\n",
    "                                        ))\n",
    "        failed.append((paper, \"latex error \" + str(e)))"
   ]
  },
  {
   "cell_type": "markdown",
   "id": "2505a25c",
   "metadata": {
    "papermill": {
     "duration": 0.0041,
     "end_time": "2023-05-03T04:05:37.688611",
     "exception": false,
     "start_time": "2023-05-03T04:05:37.684511",
     "status": "completed"
    },
    "tags": []
   },
   "source": [
    "### Export the logs\n",
    "\n",
    "Throughout, we also keep track of the logs per paper. see `logs-{today date}.md` "
   ]
  },
  {
   "cell_type": "code",
   "execution_count": 5,
   "id": "d733828a",
   "metadata": {
    "execution": {
     "iopub.execute_input": "2023-05-03T04:05:37.698591Z",
     "iopub.status.busy": "2023-05-03T04:05:37.697924Z",
     "iopub.status.idle": "2023-05-03T04:05:37.712863Z",
     "shell.execute_reply": "2023-05-03T04:05:37.712209Z"
    },
    "papermill": {
     "duration": 0.023547,
     "end_time": "2023-05-03T04:05:37.716179",
     "exception": false,
     "start_time": "2023-05-03T04:05:37.692632",
     "status": "completed"
    },
    "scrolled": false,
    "tags": []
   },
   "outputs": [
    {
     "data": {
      "text/markdown": [
       "## Successful papers"
      ],
      "text/plain": [
       "<IPython.core.display.Markdown object>"
      ]
     },
     "metadata": {},
     "output_type": "display_data"
    },
    {
     "data": {
      "text/markdown": [
       "\n",
       "|||\n",
       "|---:|:---|\n",
       "| [![arXiv](https://img.shields.io/badge/arXiv-arXiv:2305.00998-b31b1b.svg)](https://arxiv.org/abs/arXiv:2305.00998) | **New quasar proximity zone size measurements at $z\\sim 6$ using the  enlarged XQR-30 sample**  |\n",
       "|| S. Satyavolu, et al. -- incl., <mark>E. Bañados</mark>, <mark>F. Walter</mark> |\n",
       "|*Appeared on*| *2023-05-03*|\n",
       "|*Comments*| *16 pages, 9 figures, Accepted in MNRAS*|\n",
       "|**Abstract**| Proximity zones of high-redshift quasars are unique probes of their central supermassive black holes as well as the intergalactic medium in the last stages of reionization. We present 22 new measurements of proximity zones of quasars with redshifts between 5.8 and 6.6, using the enlarged XQR-30 sample of high-resolution, high-SNR quasar spectra. The quasars in our sample have UV magnitudes of $M_{1450}\\sim -27$ and black hole masses of $10^9$$\\unicode{x2013}$$10^{10}$ M$_\\odot$. Our inferred proximity zone sizes are 2$\\unicode{x2013}$7 physical Mpc, with a typical uncertainty of less than 0.5 physical Mpc, which, for the first time, also includes uncertainty in the quasar continuum. We find that the correlation between proximity zone sizes and the quasar redshift, luminosity, or black hole mass, indicates a large diversity of quasar lifetimes. Two of our proximity zone sizes are exceptionally small. The spectrum of one of these quasars, with $z=6.02$, displays, unusually for this redshift, damping wing absorption without any detectable metal lines, which could potentially originate from the IGM. The other quasar has a high-ionization absorber $\\sim$0.5 pMpc from the edge of the proximity zone. This work increases the number of proximity zone measurements available in the last stages of cosmic reionization to 87. This data will lead to better constraints on quasar lifetimes and obscuration fractions at high redshift, which in turn will help probe the seed mass and formation redshift of supermassive black holes. |"
      ],
      "text/plain": [
       "[arXiv:2305.00998] New quasar proximity zone size measurements at $z\\sim 6$ using the  enlarged XQR-30 sample\n",
       "\tS. Satyavolu, et al. -- incl., <mark>E. Bañados</mark>, <mark>F. Walter</mark>"
      ]
     },
     "metadata": {},
     "output_type": "display_data"
    },
    {
     "data": {
      "text/markdown": [
       "\n",
       "|||\n",
       "|---:|:---|\n",
       "| [![arXiv](https://img.shields.io/badge/arXiv-arXiv:2305.01250-b31b1b.svg)](https://arxiv.org/abs/arXiv:2305.01250) | **Interior-atmosphere modelling to assess the observability of rocky  planets with JWST**  |\n",
       "|| <mark>L. Acuna</mark>, M. Deleuil, O. Mousis |\n",
       "|*Appeared on*| *2023-05-03*|\n",
       "|*Comments*| *15 pages, 9 figures. Accepted for publication in A&A*|\n",
       "|**Abstract**| Super-Earths present compositions dominated by refractory materials. However, there is a degeneracy in their interior structure between a planet with no atmosphere and a small Fe content, and a planet with a thin atmosphere and a higher core mass fraction. To break this degeneracy, atmospheric characterization observations are required. We present a self-consistent interior-atmosphere model to constrain the volatile mass fraction, surface pressure, and temperature of rocky planets with water and CO2 atmospheres. These parameters obtained in our analysis can then be used to predict observations in emission spectroscopy and photometry with JWST, which can determine the presence of an atmosphere, and if present, its composition. To obtain the bolometric emission and Bond albedo for an atmosphere in radiative-convective equilibrium, we present the k-uncorrelated approximation for fast computations within our retrieval on planetary mass, radius and host stellar abundances. For the generation of emission spectra, we use our k-correlated atmospheric model. An adaptive MCMC is used for an efficient sampling of the parameter space at low volatile mass fractions. We show how to use our modelling approach to predict observations with JWST for TRAPPIST-1 c and 55 Cancri e. TRAPPIST-1 c's most likely scenario is a bare surface, although the presence of an atmosphere cannot be ruled out. If the emission in the MIRI F1500 filter is 731 ppm or higher, there would be a water-rich atmosphere. For fluxes between 730 and 400 ppm, no atmosphere is present, while low emission fluxes (300 ppm) indicate a CO2-dominated atmosphere. In the case of 55 Cancri e, a combined spectrum with NIRCam and MIRI LRS may present high uncertainties at wavelengths between 3 and 3.7 $\\mu$m. However, this does not affect the identification of H2O and CO2 because they do not present spectral features in this wavelength range. |"
      ],
      "text/plain": [
       "[arXiv:2305.01250] Interior-atmosphere modelling to assess the observability of rocky  planets with JWST\n",
       "\t<mark>L. Acuna</mark>, M. Deleuil, O. Mousis"
      ]
     },
     "metadata": {},
     "output_type": "display_data"
    },
    {
     "data": {
      "text/markdown": [
       "## Failed papers"
      ],
      "text/plain": [
       "<IPython.core.display.Markdown object>"
      ]
     },
     "metadata": {},
     "output_type": "display_data"
    },
    {
     "data": {
      "text/markdown": [
       "\n",
       "|||\n",
       "|---:|:---|\n",
       "| [![arXiv](https://img.shields.io/badge/arXiv-arXiv:2305.01014-b31b1b.svg)](https://arxiv.org/abs/arXiv:2305.01014) | **The Sloan Digital Sky Survey Reverberation Mapping Project: Key Results**  |\n",
       "|| Y. Shen, et al. -- incl., <mark>Y. Guo</mark> |\n",
       "|*Appeared on*| *2023-05-03*|\n",
       "|*Comments*| *33 pages. Data products available at this ftp URL*|\n",
       "|**Abstract**| We present the final data from the Sloan Digital Sky Survey Reverberation Mapping (SDSS-RM) project, a precursor to the SDSS-V Black Hole Mapper Reverberation Mapping program. This data set includes 11-year photometric and 7-year spectroscopic light curves for 849 broad-line quasars over a redshift range of 0.1<z<4.5 and a luminosity range of Lbol=1E44-47.5 erg/s, along with spectral and variability measurements. We report 23, 81, 125, and 110 reverberation mapping lags (relative to optical continuum variability) for broad Halpha, Hbeta, MgII and CIV using the SDSS-RM sample, spanning much of the luminosity and redshift ranges of the sample. Using 30 low-redshift RM AGNs with dynamical-modeling black hole masses, we derive a new estimate of the average virial factor of <log f>=0.62+-0.07 for the line dispersion measured from the RMS spectrum. The intrinsic scatter of individual virial factors is 0.31+-0.07 dex, indicating a factor of two systematic uncertainty in RM black hole masses. Our lag measurements reveal significant R-L relations for Hbeta and MgII at high redshift, consistent with the latest measurements based on heterogeneous samples. While we are unable to robustly constrain the slope of the R-L relation for CIV given the limited dynamical range in luminosity, we found substantially larger scatter in CIV lags at fixed L1350. Using the SDSS-RM lag sample, we derive improved single-epoch (SE) mass recipes for Hbeta, MgII and CIV, which are consistent with their respective RM masses as well as between the SE recipes from two different lines, over the luminosity range probed by our sample. The new Hbeta and MgII recipes are approximately unbiased estimators at given RM masses, but there are systematic biases in the CIV recipe. The intrinsic scatter of SE masses around RM masses is ~0.45 dex for Hbeta and MgII, increasing to ~0.58 dex for CIV. |\n",
       "|<p style=\"color:green\"> **ERROR** </p>| <p style=\"color:green\">affiliation error: mpia.affiliation_verifications: '69117' keyword not found.</p> |"
      ],
      "text/plain": [
       "<IPython.core.display.Markdown object>"
      ]
     },
     "metadata": {},
     "output_type": "display_data"
    }
   ],
   "source": [
    "import datetime\n",
    "today = str(datetime.date.today())\n",
    "logfile = f\"_build/html/logs/log-{today}.md\"\n",
    "\n",
    "\n",
    "with open(logfile, 'w') as logs:\n",
    "    # Success\n",
    "    logs.write(f'# Arxiv on Deck 2: Logs - {today}\\n\\n')\n",
    "    logs.write(\"\"\"* Arxiv had {0:,d} new papers\\n\"\"\".format(len(new_papers)))\n",
    "    logs.write(\"\"\"    * {0:,d} with possible author matches\\n\\n\"\"\".format(len(candidates)))\n",
    "    logs.write(\"## Sucessful papers\\n\\n\")\n",
    "    display(Markdown(\"## Successful papers\"))\n",
    "    success = [k[0] for k in documents]\n",
    "    for candid in candidates:\n",
    "        if candid['identifier'].split(':')[-1] in success:\n",
    "            display(candid)\n",
    "            logs.write(candid.generate_markdown_text() + '\\n\\n')\n",
    "\n",
    "    ## failed\n",
    "    logs.write(\"## Failed papers\\n\\n\")\n",
    "    display(Markdown(\"## Failed papers\"))\n",
    "    failed = sorted(failed, key=lambda x: x[1])\n",
    "    current_reason = \"\"\n",
    "    for paper, reason in failed:\n",
    "        if 'affiliation' in reason:\n",
    "            color = 'green'\n",
    "        else:\n",
    "            color = 'red'\n",
    "        data = Markdown(\n",
    "                paper.generate_markdown_text() + \n",
    "                f'\\n|<p style=\"color:{color:s}\"> **ERROR** </p>| <p style=\"color:{color:s}\">{reason:s}</p> |'\n",
    "               )\n",
    "        if reason != current_reason:\n",
    "            logs.write(f'### {reason:s} \\n\\n')\n",
    "            current_reason = reason\n",
    "        logs.write(data.data + '\\n\\n')\n",
    "        \n",
    "        # only display here the important errors (all in logs)\n",
    "        # if color in ('red',):\n",
    "        display(data)"
   ]
  },
  {
   "cell_type": "markdown",
   "id": "472d20ee",
   "metadata": {
    "papermill": {
     "duration": 0.004614,
     "end_time": "2023-05-03T04:05:37.725414",
     "exception": false,
     "start_time": "2023-05-03T04:05:37.720800",
     "status": "completed"
    },
    "tags": []
   },
   "source": [
    "## Export documents\n",
    "\n",
    "We now write the .md files and export relevant images"
   ]
  },
  {
   "cell_type": "code",
   "execution_count": 6,
   "id": "d426aed9",
   "metadata": {
    "execution": {
     "iopub.execute_input": "2023-05-03T04:05:37.736177Z",
     "iopub.status.busy": "2023-05-03T04:05:37.735586Z",
     "iopub.status.idle": "2023-05-03T04:05:37.742770Z",
     "shell.execute_reply": "2023-05-03T04:05:37.742128Z"
    },
    "papermill": {
     "duration": 0.014137,
     "end_time": "2023-05-03T04:05:37.744222",
     "exception": false,
     "start_time": "2023-05-03T04:05:37.730085",
     "status": "completed"
    },
    "tags": []
   },
   "outputs": [],
   "source": [
    "def export_markdown_summary(md: str, md_fname:str, directory: str):\n",
    "    \"\"\"Export MD document and associated relevant images\"\"\"\n",
    "    import os\n",
    "    import shutil\n",
    "    import re\n",
    "\n",
    "    if (os.path.exists(directory) and not os.path.isdir(directory)):\n",
    "        raise RuntimeError(f\"a non-directory file exists with name {directory:s}\")\n",
    "\n",
    "    if (not os.path.exists(directory)):\n",
    "        print(f\"creating directory {directory:s}\")\n",
    "        os.mkdir(directory)\n",
    "\n",
    "    fig_fnames = (re.compile(r'\\[Fig.*\\]\\((.*)\\)').findall(md) + \n",
    "                  re.compile(r'\\<img src=\"([^>\\s]*)\"[^>]*/>').findall(md))\n",
    "    for fname in fig_fnames:\n",
    "        if 'http' in fname:\n",
    "            # No need to copy online figures\n",
    "            continue\n",
    "        destdir = os.path.join(directory, os.path.dirname(fname))\n",
    "        destfname = os.path.join(destdir, os.path.basename(fname))\n",
    "        try:\n",
    "            os.makedirs(destdir)\n",
    "        except FileExistsError:\n",
    "            pass\n",
    "        shutil.copy(fname, destfname)\n",
    "    with open(os.path.join(directory, md_fname), 'w') as fout:\n",
    "        fout.write(md)\n",
    "    print(\"exported in \", os.path.join(directory, md_fname))\n",
    "    [print(\"    + \" + os.path.join(directory,fk)) for fk in fig_fnames]"
   ]
  },
  {
   "cell_type": "code",
   "execution_count": 7,
   "id": "014d04a4",
   "metadata": {
    "execution": {
     "iopub.execute_input": "2023-05-03T04:05:37.754896Z",
     "iopub.status.busy": "2023-05-03T04:05:37.754324Z",
     "iopub.status.idle": "2023-05-03T04:05:37.764499Z",
     "shell.execute_reply": "2023-05-03T04:05:37.763858Z"
    },
    "papermill": {
     "duration": 0.017168,
     "end_time": "2023-05-03T04:05:37.765992",
     "exception": false,
     "start_time": "2023-05-03T04:05:37.748824",
     "status": "completed"
    },
    "tags": []
   },
   "outputs": [
    {
     "name": "stdout",
     "output_type": "stream",
     "text": [
      "exported in  _build/html/2305.00998.md\n",
      "    + _build/html/tmp_2305.00998/./dampingwingqso_paper_v2.png\n",
      "    + _build/html/tmp_2305.00998/./fig2_11qsopanel.png\n",
      "    + _build/html/tmp_2305.00998/./rphist_paper.png\n",
      "exported in  _build/html/2305.01250.md\n",
      "    + _build/html/tmp_2305.01250/./Figures/MRrel_comp_foreditor.png\n",
      "    + _build/html/tmp_2305.01250/./Figures/OLR_vs_Tsurf_T1c.png\n",
      "    + _build/html/tmp_2305.01250/./Figures/OLR_vs_Tsurf_55cnce.png\n"
     ]
    }
   ],
   "source": [
    "for paper_id, md in documents:\n",
    "    export_markdown_summary(md, f\"{paper_id:s}.md\", '_build/html/')"
   ]
  },
  {
   "cell_type": "markdown",
   "id": "f087a0a7",
   "metadata": {
    "papermill": {
     "duration": 0.004679,
     "end_time": "2023-05-03T04:05:37.775360",
     "exception": false,
     "start_time": "2023-05-03T04:05:37.770681",
     "status": "completed"
    },
    "tags": []
   },
   "source": [
    "## Display the papers\n",
    "\n",
    "Not necessary but allows for a quick check."
   ]
  },
  {
   "cell_type": "code",
   "execution_count": 8,
   "id": "fd25f625",
   "metadata": {
    "execution": {
     "iopub.execute_input": "2023-05-03T04:05:37.786206Z",
     "iopub.status.busy": "2023-05-03T04:05:37.785618Z",
     "iopub.status.idle": "2023-05-03T04:05:37.791754Z",
     "shell.execute_reply": "2023-05-03T04:05:37.791110Z"
    },
    "papermill": {
     "duration": 0.013214,
     "end_time": "2023-05-03T04:05:37.793282",
     "exception": false,
     "start_time": "2023-05-03T04:05:37.780068",
     "status": "completed"
    },
    "scrolled": false,
    "tags": []
   },
   "outputs": [
    {
     "data": {
      "text/markdown": [
       "<div class=\"macros\" style=\"visibility:hidden;\">\n",
       "$\\newcommand{\\ensuremath}{}$\n",
       "$\\newcommand{\\xspace}{}$\n",
       "$\\newcommand{\\object}[1]{\\texttt{#1}}$\n",
       "$\\newcommand{\\farcs}{{.}''}$\n",
       "$\\newcommand{\\farcm}{{.}'}$\n",
       "$\\newcommand{\\arcsec}{''}$\n",
       "$\\newcommand{\\arcmin}{'}$\n",
       "$\\newcommand{\\ion}[2]{#1#2}$\n",
       "$\\newcommand{\\textsc}[1]{\\textrm{#1}}$\n",
       "$\\newcommand{\\hl}[1]{\\textrm{#1}}$\n",
       "$\\newcommand{\\footnote}[1]{}$\n",
       "$\\newcommand{\\orcidauthorA}{0000-0001-5818-6838}$\n",
       "$\\newcommand{\\orcidauthorB}{0000-0003-2895-6218}$\n",
       "$\\newcommand{\\orcidauthorC}{0000-0001-5829-4716}$\n",
       "$\\newcommand{\\orcidauthorD}{0000-0003-2344-263X}$\n",
       "$\\newcommand{\\orcidauthorE}{0000-0001-8582-7012}$\n",
       "$\\newcommand{\\orcidauthorF}{0000-0002-3324-4824}$\n",
       "$\\newcommand{\\orcidauthorG}{0000-0002-5360-8103}$\n",
       "$\\newcommand{\\orcidauthorH}{0000-0003-4793-7880}$\n",
       "$\\newcommand{\\orcidauthorI}{0000-0002-4314-021X}$\n",
       "$\\newcommand{\\orcidauthorJ}{0000-0003-3693-3091}$\n",
       "$\\newcommand{\\orcidauthorK}{0000-0003-3310-0131}$\n",
       "$\\newcommand{\\orcidauthorL}{0000-0002-6822-2254}$\n",
       "$\\newcommand{\\orcidauthorM}{0000-0003-4793-7880}$\n",
       "$\\newcommand{\\orcidauthorN}{0000-0001-8443-2393}$\n",
       "$\\newcommand{\\orcidauthorO}{0000-0001-5211-1958}$\n",
       "$\\newcommand{\\orcidauthorP}{0000-0003-4793-7880}$\n",
       "$\\newcommand{\\orcidauthorQ}{0000-0003-4793-7880}$\n",
       "$\\newcommand{\\orcidauthorR}{0000-0003-4793-7880}$\n",
       "$\\newcommand{\\msun}{\\mathrm{M}_\\odot}$\n",
       "$\\newcommand{\\lya}{Ly\\alpha}$\n",
       "$\\newcommand{\\lyb}{Ly\\beta}$\n",
       "$\\newcommand{\\HI}{H I}$\n",
       "$\\newcommand{\\HII}{H II}$\n",
       "$\\newcommand{\\HeI}{He I}$\n",
       "$\\newcommand{\\HeII}{He II}$\n",
       "$\\newcommand{\\HeIII}{He III}$\n",
       "$\\newcommand{\\MgII}{Mg {\\small II}}$\n",
       "$\\newcommand{\\CII}{[C {\\small II}]}$\n",
       "$\\newcommand{\\CV}{C {\\small V}}$\n",
       "$\\newcommand{\\CIV}{C {\\small IV}}$\n",
       "$\\newcommand{\\SiIV}{Si {\\small IV}}$\n",
       "$\\newcommand{\\NV}{N\\thinspace{V}}$\n",
       "$\\newcommand{\\ud}{\\mathrm{d}}$\n",
       "$\\newcommand{\\nel}{n_\\mathrm{e}}$\n",
       "$\\newcommand{\\nH}{n_\\mathrm{H}}$\n",
       "$\\newcommand{\\nHe}{n_\\mathrm{He}}$\n",
       "$\\newcommand{\\nHI}{n_\\mathrm{HI}}$\n",
       "$\\newcommand{\\nHII}{n_\\mathrm{HII}}$\n",
       "$\\newcommand{\\nHeI}{n_\\mathrm{HeI}}$\n",
       "$\\newcommand{\\nHeII}{n_\\mathrm{HeII}}$\n",
       "$\\newcommand{\\nHeIII}{n_\\mathrm{HeIII}}$\n",
       "$\\newcommand{\\rp}{R_\\mathrm{p}}$\n",
       "$\\newcommand{\\rpc}{R_\\mathrm{p,corr}}$\n",
       "$\\newcommand{\\tq}{t_\\mathrm{q}}$\n",
       "$\\newcommand{\\gk}[1]{{\\color{notecolor} [GK: #1]}}$\n",
       "$\\newcommand{\\sr}[1]{{\\color{color2} [SR: #1]}}$\n",
       "$\\newcommand{\\change}[1]{{\\color{purple} #1}}$\n",
       "$\\newcommand{\\ace}[1]{{\\color{green} [ACE: #1]}}$\n",
       "$\\newcommand{\\theenumi}{\\textbf{\\Alph{enumi}.}}$\n",
       "$\\newcommand{\\theenumii}{\\textbf{\\alph{enumii}.}}$\n",
       "$\\newcommand{\\thebibliography}{\\DeclareRobustCommand{\\VAN}[3]{##3}\\VANthebibliography}$</div>\n",
       "\n",
       "\n",
       "\n",
       "<div id=\"title\">\n",
       "\n",
       "# New quasar proximity zone size measurements at $z\\sim 6$ using the enlarged XQR-30 sample\n",
       "\n",
       "</div>\n",
       "<div id=\"comments\">\n",
       "\n",
       "[![arXiv](https://img.shields.io/badge/arXiv-2305.00998-b31b1b.svg)](https://arxiv.org/abs/2305.00998)<mark>Appeared on: 2023-05-03</mark> -  _16 pages, 9 figures, Accepted in MNRAS_\n",
       "\n",
       "</div>\n",
       "<div id=\"authors\">\n",
       "\n",
       "S. Satyavolu, et al. -- incl., <mark>E. Bañados</mark>, <mark>F. Walter</mark>\n",
       "\n",
       "</div>\n",
       "<div id=\"abstract\">\n",
       "\n",
       "**Abstract:** Proximity zones of high-redshift quasars are unique probes of their central supermassive black holes as well as the intergalactic medium in the last stages of reionization.  We present 22 new measurements of proximity zones of quasars with redshifts between 5.8 and 6.6, using the enlarged XQR-30 sample of high-resolution, high-SNR quasar spectra.  The quasars in our sample have UV magnitudes of $M_{1450}\\sim -27$ and black hole masses of $10^9$ -- $10^{10}$ M $_\\odot$ .  Our inferred proximity zone sizes are 2--7 physical Mpc, with a typical uncertainty of less than 0.5 physical Mpc, which, for the first time, also includes uncertainty in the quasar continuum.  We find that the correlation between proximity zone sizes and the quasar redshift, luminosity, or black hole mass,  indicates a large diversity of quasar lifetimes. Two of our proximity zone sizes are exceptionally small.  The spectrum of one of these quasars, with $z=6.02$ , displays, unusually for this redshift, damping wing absorption without any detectable metal lines, which could potentially originate from the IGM. The other quasar has a high-ionization absorber $\\sim$ 0.5 pMpc from the edge of the proximity zone. This work increases the number of proximity zone measurements available in the last stages of cosmic reionization to 87.  This data will lead to better constraints on quasar lifetimes and obscuration fractions at high redshift, which in turn will help probe the seed mass and formation redshift of supermassive black holes.\n",
       "\n",
       "</div>\n",
       "\n",
       "<div id=\"div_fig1\">\n",
       "\n",
       "<img src=\"tmp_2305.00998/./dampingwingqso_paper_v2.png\" alt=\"Fig6\" width=\"100%\"/>\n",
       "\n",
       "**Figure 6. -** _Top panel_: Continuum-normalised spectrum of PSOJ158-14, for two continuum reconstruction methods, the log-PCA method \\citep[]{2022ApJ...931...29C} and the covariance matrix method  ([Greig, et. al 2017](https://ui.adsabs.harvard.edu/abs/2017MNRAS.466.1814G)) , shown in blue and orange, respectively. Shaded regions show the $1\\sigma$ spread around the median value.  (We use the log-PCA method for all quasars in this work.) _Middle panel_: A simulated spectrum showing an IGM damping wing at $z=6.14$  for a quasar with magnitude $-27$ and age 1 Myr. _Bottom panel_: The ionised hydrogen fraction along the same simulated sightline. This reveals the neutral hydrogen regions that create the damping wing seen in the middle panel. At redshift 6.14, only one of 500 sightlines in our simulation shows this feature. (*fig:dwingprops*)\n",
       "\n",
       "</div>\n",
       "<div id=\"div_fig2\">\n",
       "\n",
       "<img src=\"tmp_2305.00998/./fig2_11qsopanel.png\" alt=\"Fig8\" width=\"100%\"/>\n",
       "\n",
       "**Figure 8. -** Proximity zones of the quasars in our sample.  The normalised flux obtained by dividing measured flux by continuum, is shown in black. Red curves show the smoothed spectra with shaded region showing the 1$\\sigma$ uncertainty in the continuum. Black solid and dotted lines show the quasar location and the extent of proximity zones, respectively. The blue shaded regions show the 1$\\sigma$ uncertainty on proximity zone sizes due to continuum uncertainties.  Green shaded regions show redshift errors as the uncertainty on the location of the expected $\\lya$ emission of the quasar.   (*fig:fullsample*)\n",
       "\n",
       "</div>\n",
       "<div id=\"div_fig3\">\n",
       "\n",
       "<img src=\"tmp_2305.00998/./rphist_paper.png\" alt=\"Fig1\" width=\"100%\"/>\n",
       "\n",
       "**Figure 1. -** Distribution of proximity zone sizes reported in this work.  The blue histogram shows the distribution of all previously available proximity zone sizes  ([ and Carilli 2010](https://ui.adsabs.harvard.edu/abs/2010ApJ...714..834C), [Eilers, et. al 2017](https://ui.adsabs.harvard.edu/abs/2017ApJ...840...24E), [ and Mazzucchelli 2017](https://ui.adsabs.harvard.edu/abs/2017ApJ...849...91M), [ and Reed 2017](https://ui.adsabs.harvard.edu/abs/2017MNRAS.468.4702R), [ and Bañados 2018](https://ui.adsabs.harvard.edu/abs/2018Natur.553..473B), [ and Eilers 2020](https://ui.adsabs.harvard.edu/abs/2020ApJ...900...37E), [ and Ishimoto 2020](https://ui.adsabs.harvard.edu/abs/2020ApJ...903...60I), [ and Bañados 2021](https://ui.adsabs.harvard.edu/abs/2021ApJ...909...80B)) , except those only available as values scaled to a fiducial luminosity, or that have been updated in this paper.  The yellow histogram shows the distribution of the 22 proximity zone sizes presented in this work. (*fig:rphist*)\n",
       "\n",
       "</div><div id=\"qrcode\"><img src=https://api.qrserver.com/v1/create-qr-code/?size=100x100&data=\"https://arxiv.org/abs/2305.00998\"></div>"
      ],
      "text/plain": [
       "<IPython.core.display.Markdown object>"
      ]
     },
     "metadata": {},
     "output_type": "display_data"
    },
    {
     "data": {
      "text/markdown": [
       "<div class=\"macros\" style=\"visibility:hidden;\">\n",
       "$\\newcommand{\\ensuremath}{}$\n",
       "$\\newcommand{\\xspace}{}$\n",
       "$\\newcommand{\\object}[1]{\\texttt{#1}}$\n",
       "$\\newcommand{\\farcs}{{.}''}$\n",
       "$\\newcommand{\\farcm}{{.}'}$\n",
       "$\\newcommand{\\arcsec}{''}$\n",
       "$\\newcommand{\\arcmin}{'}$\n",
       "$\\newcommand{\\ion}[2]{#1#2}$\n",
       "$\\newcommand{\\textsc}[1]{\\textrm{#1}}$\n",
       "$\\newcommand{\\hl}[1]{\\textrm{#1}}$\n",
       "$\\newcommand{\\footnote}[1]{}$</div>\n",
       "\n",
       "\n",
       "\n",
       "<div id=\"title\">\n",
       "\n",
       "# Interior-atmosphere modelling to assess the observability of rocky planets with JWST\n",
       "\n",
       "</div>\n",
       "<div id=\"comments\">\n",
       "\n",
       "[![arXiv](https://img.shields.io/badge/arXiv-2305.01250-b31b1b.svg)](https://arxiv.org/abs/2305.01250)<mark>Appeared on: 2023-05-03</mark> -  _15 pages, 9 figures. Accepted for publication in A&A_\n",
       "\n",
       "</div>\n",
       "<div id=\"authors\">\n",
       "\n",
       "L. Acuña, M. Deleuil, O. Mousis\n",
       "\n",
       "</div>\n",
       "<div id=\"abstract\">\n",
       "\n",
       "**Abstract:** Super-Earths present compositions dominated by refractory materials. However, there is a degeneracy in their interior structure between a planet with no atmosphere and a small Fe content, and a planet with a thin atmosphere and a higher core mass fraction. To break this degeneracy, atmospheric characterization observations are required. We present a self-consistent interior-atmosphere model to constrain the volatile mass fraction, surface pressure, and temperature of rocky planets with water and CO $_{2}$ atmospheres. These parameters obtained in our analysis can then be used to predict observations in emission spectroscopy and photometry with JWST, which can determine the presence of an atmosphere, and if present, its composition. We couple a 1D interior model with a supercritical water layer with an atmospheric model. To obtain the bolometric emission and Bond albedo for an atmosphere in radiative-convective equilibrium, we present the k-uncorrelated approximation for fast computations within our retrieval on planetary mass, radius and host stellar abundances. For the generation of emission spectra, we use our k-correlated atmospheric model. An adaptive Markov chain Monte Carlo (MCMC) is used for an efficient sampling of the parameter space at low volatile mass fractions. We show how to use our modelling approach to predict observations with JWST for TRAPPIST-1 c and 55 Cancri e, which have been proposed in Cycle 1. TRAPPIST-1 c's most likely scenario is a bare surface, although the presence of an atmosphere cannot be ruled out. If the emission in the MIRI F1500 filter is 731 ppm or higher, there would be a water-rich atmosphere. For fluxes between 730 and 400 ppm, no atmosphere is present, while low emission fluxes (300 ppm) indicate a CO $_{2}$ -dominated atmosphere. In the case of 55 Cancri e, a combined spectrum with NIRCam and MIRI LRS may present high uncertainties at wavelengths between 3 and 3.7 $\\mu$ m. However, this does not affect the identification of H $_{2}$ O and CO $_{2}$ because they do not present spectral features in this wavelength range.\n",
       "\n",
       "</div>\n",
       "\n",
       "<div id=\"div_fig1\">\n",
       "\n",
       "<img src=\"tmp_2305.01250/./Figures/MRrel_comp_foreditor.png\" alt=\"Fig7\" width=\"100%\"/>\n",
       "\n",
       "**Figure 7. -** Comparison of the radius and interior-atmosphere boundary temperature between a k-correlated model and the k-uncorrelated approximation. Left panel: Mass-radius relationships for a planet with a water-dominated atmosphere orbiting a Sun-like star at $a_{d} = 0.05$ AU. Dashed lines indicate the total radius calculated by the k-uncorrelated version of MSEIRADTRAN, while the solid line corresponds to the interior radius, which comprises the core, mantle, and supercritical water (SW). Triangles and circles indicate the total radius and the interior radius obtained when the interior model is coupled with the atmospheric model of \\cite{Pluriel19}, respectively. Right panel: Temperature at the 300 bar interface as a function of planetary mass. (*fig:MRdiag_MSEI*)\n",
       "\n",
       "</div>\n",
       "<div id=\"div_fig2\">\n",
       "\n",
       "<img src=\"tmp_2305.01250/./Figures/OLR_vs_Tsurf_T1c.png\" alt=\"Fig5\" width=\"100%\"/>\n",
       "\n",
       "**Figure 5. -** Outgoing longwave radiation (OLR) and Bond albedo as function of the surface temperature for a grey model, our k-correlated model, and the k-uncorrelated approximation, assuming the water-dominated case of TRAPPIST-1 c (see text). (*fig:OLR_T_T1c*)\n",
       "\n",
       "</div>\n",
       "<div id=\"div_fig3\">\n",
       "\n",
       "<img src=\"tmp_2305.01250/./Figures/OLR_vs_Tsurf_55cnce.png\" alt=\"Fig6\" width=\"100%\"/>\n",
       "\n",
       "**Figure 6. -** Outgoing longwave radiation (OLR) and Bond albedo as function of the surface temperature for a grey model, our k-correlated model, and the k-uncorrelated approximation, assuming the water-dominated case of 55 Cancri e (see text). (*fig:OLR_T_55cnce*)\n",
       "\n",
       "</div><div id=\"qrcode\"><img src=https://api.qrserver.com/v1/create-qr-code/?size=100x100&data=\"https://arxiv.org/abs/2305.01250\"></div>"
      ],
      "text/plain": [
       "<IPython.core.display.Markdown object>"
      ]
     },
     "metadata": {},
     "output_type": "display_data"
    }
   ],
   "source": [
    "[display(Markdown(k[1])) for k in documents];"
   ]
  },
  {
   "cell_type": "markdown",
   "id": "873873a4",
   "metadata": {
    "papermill": {
     "duration": 0.005141,
     "end_time": "2023-05-03T04:05:37.803810",
     "exception": false,
     "start_time": "2023-05-03T04:05:37.798669",
     "status": "completed"
    },
    "tags": []
   },
   "source": [
    "# Create HTML index"
   ]
  },
  {
   "cell_type": "code",
   "execution_count": 9,
   "id": "cf665672",
   "metadata": {
    "execution": {
     "iopub.execute_input": "2023-05-03T04:05:37.815513Z",
     "iopub.status.busy": "2023-05-03T04:05:37.815045Z",
     "iopub.status.idle": "2023-05-03T04:05:37.824541Z",
     "shell.execute_reply": "2023-05-03T04:05:37.823895Z"
    },
    "papermill": {
     "duration": 0.017093,
     "end_time": "2023-05-03T04:05:37.826023",
     "exception": false,
     "start_time": "2023-05-03T04:05:37.808930",
     "status": "completed"
    },
    "tags": []
   },
   "outputs": [
    {
     "name": "stdout",
     "output_type": "stream",
     "text": [
      "202  publications files modified in the last 7 days.\n"
     ]
    }
   ],
   "source": [
    "from datetime import datetime, timedelta, timezone\n",
    "from glob import glob\n",
    "import os\n",
    "\n",
    "files = glob('_build/html/*.md')\n",
    "days = 7\n",
    "now = datetime.today()\n",
    "res = []\n",
    "for fk in files:\n",
    "    stat_result = os.stat(fk).st_ctime\n",
    "    modified = datetime.fromtimestamp(stat_result, tz=timezone.utc).replace(tzinfo=None)\n",
    "    delta = now.today() - modified\n",
    "    if delta <= timedelta(days=days):\n",
    "        res.append((delta.seconds, fk))\n",
    "res = [k[1] for k in reversed(sorted(res, key=lambda x:x[1]))]\n",
    "npub = len(res)\n",
    "print(len(res), f\" publications files modified in the last {days:d} days.\")\n",
    "# [ print('\\t', k) for k in res ];"
   ]
  },
  {
   "cell_type": "code",
   "execution_count": 10,
   "id": "015de740",
   "metadata": {
    "execution": {
     "iopub.execute_input": "2023-05-03T04:05:37.838045Z",
     "iopub.status.busy": "2023-05-03T04:05:37.837477Z",
     "iopub.status.idle": "2023-05-03T04:05:37.853848Z",
     "shell.execute_reply": "2023-05-03T04:05:37.853325Z"
    },
    "papermill": {
     "duration": 0.023968,
     "end_time": "2023-05-03T04:05:37.855231",
     "exception": false,
     "start_time": "2023-05-03T04:05:37.831263",
     "status": "completed"
    },
    "tags": []
   },
   "outputs": [
    {
     "name": "stdout",
     "output_type": "stream",
     "text": [
      "6  publications in the last 7 days.\n"
     ]
    }
   ],
   "source": [
    "import datetime\n",
    "from glob import glob\n",
    "\n",
    "def get_last_n_days(lst, days=1):\n",
    "    \"\"\" Get the documents from the last n days \"\"\"\n",
    "    sorted_lst = sorted(lst, key=lambda x: x[1], reverse=True)\n",
    "    for fname, date in sorted_lst:\n",
    "        if date >= str(datetime.date.today() - datetime.timedelta(days=days)):\n",
    "            yield fname\n",
    "\n",
    "def extract_appearance_dates(lst_file):\n",
    "    dates = []\n",
    "\n",
    "    def get_date(line):\n",
    "        return line\\\n",
    "            .split('Appeared on:')[-1]\\\n",
    "            .split('</mark>')[0].strip()\n",
    "\n",
    "    for fname in lst:\n",
    "        with open(fname, 'r') as f:\n",
    "            found_date = False\n",
    "            for line in f:\n",
    "                if not found_date:\n",
    "                    if \"Appeared on\" in line:\n",
    "                        found_date = True\n",
    "                        dates.append((fname, get_date(line)))\n",
    "                else:\n",
    "                    break\n",
    "    return dates\n",
    "\n",
    "from glob import glob\n",
    "lst = glob('_build/html/*md')\n",
    "days = 7\n",
    "dates = extract_appearance_dates(lst)\n",
    "res = list(get_last_n_days(dates, days))\n",
    "npub = len(res)\n",
    "print(len(res), f\" publications in the last {days:d} days.\")"
   ]
  },
  {
   "cell_type": "code",
   "execution_count": 11,
   "id": "52ca0208",
   "metadata": {
    "execution": {
     "iopub.execute_input": "2023-05-03T04:05:37.867083Z",
     "iopub.status.busy": "2023-05-03T04:05:37.866659Z",
     "iopub.status.idle": "2023-05-03T04:05:37.871982Z",
     "shell.execute_reply": "2023-05-03T04:05:37.871351Z"
    },
    "papermill": {
     "duration": 0.012896,
     "end_time": "2023-05-03T04:05:37.873460",
     "exception": false,
     "start_time": "2023-05-03T04:05:37.860564",
     "status": "completed"
    },
    "scrolled": false,
    "tags": []
   },
   "outputs": [],
   "source": [
    "def create_carousel(npub=4):\n",
    "    \"\"\" Generate the HTML code for a carousel with `npub` slides \"\"\"\n",
    "    carousel = [\"\"\"  <div class=\"carousel\" \"\"\",\n",
    "                \"\"\"       data-flickity='{ \"autoPlay\": 10000, \"adaptiveHeight\": true, \"resize\": true, \"wrapAround\": true, \"pauseAutoPlayOnHover\": true, \"groupCells\": 1 }' id=\"asyncTypeset\">\"\"\"\n",
    "                ]\n",
    "    \n",
    "    item_str = \"\"\"    <div class=\"carousel-cell\"> <div id=\"slide{k}\" class=\"md_view\">Content {k}</div> </div>\"\"\"\n",
    "    for k in range(1, npub + 1):\n",
    "        carousel.append(item_str.format(k=k))\n",
    "    carousel.append(\"  </div>\")\n",
    "    return '\\n'.join(carousel)\n",
    "\n",
    "def create_grid(npub=4):\n",
    "    \"\"\" Generate the HTML code for a flat grid with `npub` slides \"\"\"\n",
    "    grid = [\"\"\"  <div class=\"grid\"> \"\"\",\n",
    "                ]\n",
    "    \n",
    "    item_str = \"\"\"    <div class=\"grid-item\"> <div id=\"slide{k}\" class=\"md_view\">Content {k}</div> </div>\"\"\"\n",
    "    for k in range(1, npub + 1):\n",
    "        grid.append(item_str.format(k=k))\n",
    "    grid.append(\"  </div>\")\n",
    "    return '\\n'.join(grid)"
   ]
  },
  {
   "cell_type": "code",
   "execution_count": 12,
   "id": "a6eac5b6",
   "metadata": {
    "execution": {
     "iopub.execute_input": "2023-05-03T04:05:37.885941Z",
     "iopub.status.busy": "2023-05-03T04:05:37.885310Z",
     "iopub.status.idle": "2023-05-03T04:05:37.893087Z",
     "shell.execute_reply": "2023-05-03T04:05:37.892421Z"
    },
    "papermill": {
     "duration": 0.015331,
     "end_time": "2023-05-03T04:05:37.894522",
     "exception": false,
     "start_time": "2023-05-03T04:05:37.879191",
     "status": "completed"
    },
    "scrolled": false,
    "tags": []
   },
   "outputs": [],
   "source": [
    "carousel = create_carousel(npub)\n",
    "docs = ', '.join(['\"{0:s}\"'.format(k.split('/')[-1]) for k in res])\n",
    "slides = ', '.join([f'\"slide{k}\"' for k in range(1, npub + 1)])\n",
    "\n",
    "with open(\"daily_template.html\", \"r\") as tpl:\n",
    "    page = tpl.read()\n",
    "    page = page.replace(\"{%-- carousel:s --%}\", carousel)\\\n",
    "               .replace(\"{%-- suptitle:s --%}\",  \"7-day archives\" )\\\n",
    "               .replace(\"{%-- docs:s --%}\", docs)\\\n",
    "               .replace(\"{%-- slides:s --%}\", slides)\n",
    "    \n",
    "with open(\"_build/html/index_7days.html\", 'w') as fout:\n",
    "    fout.write(page)"
   ]
  },
  {
   "cell_type": "code",
   "execution_count": 13,
   "id": "adc1a1ec",
   "metadata": {
    "execution": {
     "iopub.execute_input": "2023-05-03T04:05:37.907459Z",
     "iopub.status.busy": "2023-05-03T04:05:37.906845Z",
     "iopub.status.idle": "2023-05-03T04:05:37.913787Z",
     "shell.execute_reply": "2023-05-03T04:05:37.913215Z"
    },
    "papermill": {
     "duration": 0.014541,
     "end_time": "2023-05-03T04:05:37.915139",
     "exception": false,
     "start_time": "2023-05-03T04:05:37.900598",
     "status": "completed"
    },
    "tags": []
   },
   "outputs": [
    {
     "name": "stdout",
     "output_type": "stream",
     "text": [
      "2  publications in the last day.\n"
     ]
    }
   ],
   "source": [
    "# redo for today\n",
    "days = 1\n",
    "res = list(get_last_n_days(dates, days))\n",
    "npub = len(res)\n",
    "print(len(res), f\" publications in the last day.\")\n",
    "\n",
    "carousel = create_carousel(npub)\n",
    "docs = ', '.join(['\"{0:s}\"'.format(k.split('/')[-1]) for k in res])\n",
    "slides = ', '.join([f'\"slide{k}\"' for k in range(1, npub + 1)])\n",
    "\n",
    "with open(\"daily_template.html\", \"r\") as tpl:\n",
    "    page = tpl.read()\n",
    "    page = page.replace(\"{%-- carousel:s --%}\", carousel)\\\n",
    "               .replace(\"{%-- suptitle:s --%}\",  \"Daily\" )\\\n",
    "               .replace(\"{%-- docs:s --%}\", docs)\\\n",
    "               .replace(\"{%-- slides:s --%}\", slides)\n",
    "    \n",
    "# print(carousel, docs, slides)\n",
    "# print(page)\n",
    "with open(\"_build/html/index_daily.html\", 'w') as fout:\n",
    "    fout.write(page)"
   ]
  },
  {
   "cell_type": "code",
   "execution_count": 14,
   "id": "00eece82",
   "metadata": {
    "execution": {
     "iopub.execute_input": "2023-05-03T04:05:37.927575Z",
     "iopub.status.busy": "2023-05-03T04:05:37.927108Z",
     "iopub.status.idle": "2023-05-03T04:05:37.933994Z",
     "shell.execute_reply": "2023-05-03T04:05:37.933469Z"
    },
    "papermill": {
     "duration": 0.014721,
     "end_time": "2023-05-03T04:05:37.935356",
     "exception": false,
     "start_time": "2023-05-03T04:05:37.920635",
     "status": "completed"
    },
    "scrolled": false,
    "tags": []
   },
   "outputs": [
    {
     "name": "stdout",
     "output_type": "stream",
     "text": [
      "6  6 publications selected.\n"
     ]
    }
   ],
   "source": [
    "# Create the flat grid of the last N papers (fixed number regardless of dates)\n",
    "from itertools import islice \n",
    "\n",
    "npub = 6\n",
    "res = [k[0] for k in (islice(reversed(sorted(dates, key=lambda x: x[1])), 6))]\n",
    "print(len(res), f\" {npub} publications selected.\")\n",
    "\n",
    "grid = create_grid(npub)\n",
    "docs = ', '.join(['\"{0:s}\"'.format(k.split('/')[-1]) for k in res])\n",
    "slides = ', '.join([f'\"slide{k}\"' for k in range(1, npub + 1)])\n",
    "\n",
    "with open(\"grid_template.html\", \"r\") as tpl:\n",
    "    page = tpl.read()\n",
    "    page = page.replace(\"{%-- grid-content:s --%}\", grid)\\\n",
    "               .replace(\"{%-- suptitle:s --%}\",  f\"Last {npub:,d} papers\" )\\\n",
    "               .replace(\"{%-- docs:s --%}\", docs)\\\n",
    "               .replace(\"{%-- slides:s --%}\", slides)\n",
    "    \n",
    "# print(grid, docs, slides)\n",
    "# print(page)\n",
    "with open(\"_build/html/index_npub_grid.html\", 'w') as fout:\n",
    "    fout.write(page)"
   ]
  }
 ],
 "metadata": {
  "kernelspec": {
   "display_name": "Python 3 (ipykernel)",
   "language": "python",
   "name": "python3"
  },
  "language_info": {
   "codemirror_mode": {
    "name": "ipython",
    "version": 3
   },
   "file_extension": ".py",
   "mimetype": "text/x-python",
   "name": "python",
   "nbconvert_exporter": "python",
   "pygments_lexer": "ipython3",
   "version": "3.9.16"
  },
  "papermill": {
   "default_parameters": {},
   "duration": 101.403305,
   "end_time": "2023-05-03T04:05:38.162553",
   "environment_variables": {},
   "exception": null,
   "input_path": "MPIA daily digest.ipynb",
   "output_path": "log.ipynb",
   "parameters": {},
   "start_time": "2023-05-03T04:03:56.759248",
   "version": "2.4.0"
  },
  "vscode": {
   "interpreter": {
    "hash": "aee8b7b246df8f9039afb4144a1f6fd8d2ca17a180786b69acc140d282b71a49"
   }
  },
  "widgets": {
   "application/vnd.jupyter.widget-state+json": {
    "state": {
     "17c1758ef12d442fbdabc7fb3210a8dd": {
      "model_module": "@jupyter-widgets/controls",
      "model_module_version": "2.0.0",
      "model_name": "HTMLStyleModel",
      "state": {
       "_model_module": "@jupyter-widgets/controls",
       "_model_module_version": "2.0.0",
       "_model_name": "HTMLStyleModel",
       "_view_count": null,
       "_view_module": "@jupyter-widgets/base",
       "_view_module_version": "2.0.0",
       "_view_name": "StyleView",
       "background": null,
       "description_width": "",
       "font_size": null,
       "text_color": null
      }
     },
     "18222fda83394623ada8bbd71b74660d": {
      "model_module": "@jupyter-widgets/controls",
      "model_module_version": "2.0.0",
      "model_name": "HTMLStyleModel",
      "state": {
       "_model_module": "@jupyter-widgets/controls",
       "_model_module_version": "2.0.0",
       "_model_name": "HTMLStyleModel",
       "_view_count": null,
       "_view_module": "@jupyter-widgets/base",
       "_view_module_version": "2.0.0",
       "_view_name": "StyleView",
       "background": null,
       "description_width": "",
       "font_size": null,
       "text_color": null
      }
     },
     "2e2016d11ec84c9ea23cb412c3dc5b0f": {
      "model_module": "@jupyter-widgets/controls",
      "model_module_version": "2.0.0",
      "model_name": "ProgressStyleModel",
      "state": {
       "_model_module": "@jupyter-widgets/controls",
       "_model_module_version": "2.0.0",
       "_model_name": "ProgressStyleModel",
       "_view_count": null,
       "_view_module": "@jupyter-widgets/base",
       "_view_module_version": "2.0.0",
       "_view_name": "StyleView",
       "bar_color": null,
       "description_width": ""
      }
     },
     "36d2a1959c3a4b218850740efbc6595c": {
      "model_module": "@jupyter-widgets/base",
      "model_module_version": "2.0.0",
      "model_name": "LayoutModel",
      "state": {
       "_model_module": "@jupyter-widgets/base",
       "_model_module_version": "2.0.0",
       "_model_name": "LayoutModel",
       "_view_count": null,
       "_view_module": "@jupyter-widgets/base",
       "_view_module_version": "2.0.0",
       "_view_name": "LayoutView",
       "align_content": null,
       "align_items": null,
       "align_self": null,
       "border_bottom": null,
       "border_left": null,
       "border_right": null,
       "border_top": null,
       "bottom": null,
       "display": null,
       "flex": null,
       "flex_flow": null,
       "grid_area": null,
       "grid_auto_columns": null,
       "grid_auto_flow": null,
       "grid_auto_rows": null,
       "grid_column": null,
       "grid_gap": null,
       "grid_row": null,
       "grid_template_areas": null,
       "grid_template_columns": null,
       "grid_template_rows": null,
       "height": null,
       "justify_content": null,
       "justify_items": null,
       "left": null,
       "margin": null,
       "max_height": null,
       "max_width": null,
       "min_height": null,
       "min_width": null,
       "object_fit": null,
       "object_position": null,
       "order": null,
       "overflow": null,
       "padding": null,
       "right": null,
       "top": null,
       "visibility": null,
       "width": null
      }
     },
     "5633f1a0330e43f592da051e2f4c3062": {
      "model_module": "@jupyter-widgets/controls",
      "model_module_version": "2.0.0",
      "model_name": "HBoxModel",
      "state": {
       "_dom_classes": [],
       "_model_module": "@jupyter-widgets/controls",
       "_model_module_version": "2.0.0",
       "_model_name": "HBoxModel",
       "_view_count": null,
       "_view_module": "@jupyter-widgets/controls",
       "_view_module_version": "2.0.0",
       "_view_name": "HBoxView",
       "box_style": "",
       "children": [
        "IPY_MODEL_dee01b11b2de4a6c8df16f84370d3e76",
        "IPY_MODEL_e81a23d86d79422aa83663df0b0a5a6c",
        "IPY_MODEL_fa69628df04a4b388bb60d7428d8bbc1"
       ],
       "layout": "IPY_MODEL_88d4b0e4d6a54036bf6e2f0436a72845",
       "tabbable": null,
       "tooltip": null
      }
     },
     "748acfaa727d4e838f626a6e1c32e3dd": {
      "model_module": "@jupyter-widgets/base",
      "model_module_version": "2.0.0",
      "model_name": "LayoutModel",
      "state": {
       "_model_module": "@jupyter-widgets/base",
       "_model_module_version": "2.0.0",
       "_model_name": "LayoutModel",
       "_view_count": null,
       "_view_module": "@jupyter-widgets/base",
       "_view_module_version": "2.0.0",
       "_view_name": "LayoutView",
       "align_content": null,
       "align_items": null,
       "align_self": null,
       "border_bottom": null,
       "border_left": null,
       "border_right": null,
       "border_top": null,
       "bottom": null,
       "display": null,
       "flex": null,
       "flex_flow": null,
       "grid_area": null,
       "grid_auto_columns": null,
       "grid_auto_flow": null,
       "grid_auto_rows": null,
       "grid_column": null,
       "grid_gap": null,
       "grid_row": null,
       "grid_template_areas": null,
       "grid_template_columns": null,
       "grid_template_rows": null,
       "height": null,
       "justify_content": null,
       "justify_items": null,
       "left": null,
       "margin": null,
       "max_height": null,
       "max_width": null,
       "min_height": null,
       "min_width": null,
       "object_fit": null,
       "object_position": null,
       "order": null,
       "overflow": null,
       "padding": null,
       "right": null,
       "top": null,
       "visibility": null,
       "width": null
      }
     },
     "88d4b0e4d6a54036bf6e2f0436a72845": {
      "model_module": "@jupyter-widgets/base",
      "model_module_version": "2.0.0",
      "model_name": "LayoutModel",
      "state": {
       "_model_module": "@jupyter-widgets/base",
       "_model_module_version": "2.0.0",
       "_model_name": "LayoutModel",
       "_view_count": null,
       "_view_module": "@jupyter-widgets/base",
       "_view_module_version": "2.0.0",
       "_view_name": "LayoutView",
       "align_content": null,
       "align_items": null,
       "align_self": null,
       "border_bottom": null,
       "border_left": null,
       "border_right": null,
       "border_top": null,
       "bottom": null,
       "display": null,
       "flex": null,
       "flex_flow": null,
       "grid_area": null,
       "grid_auto_columns": null,
       "grid_auto_flow": null,
       "grid_auto_rows": null,
       "grid_column": null,
       "grid_gap": null,
       "grid_row": null,
       "grid_template_areas": null,
       "grid_template_columns": null,
       "grid_template_rows": null,
       "height": null,
       "justify_content": null,
       "justify_items": null,
       "left": null,
       "margin": null,
       "max_height": null,
       "max_width": null,
       "min_height": null,
       "min_width": null,
       "object_fit": null,
       "object_position": null,
       "order": null,
       "overflow": null,
       "padding": null,
       "right": null,
       "top": null,
       "visibility": null,
       "width": null
      }
     },
     "dee01b11b2de4a6c8df16f84370d3e76": {
      "model_module": "@jupyter-widgets/controls",
      "model_module_version": "2.0.0",
      "model_name": "HTMLModel",
      "state": {
       "_dom_classes": [],
       "_model_module": "@jupyter-widgets/controls",
       "_model_module_version": "2.0.0",
       "_model_name": "HTMLModel",
       "_view_count": null,
       "_view_module": "@jupyter-widgets/controls",
       "_view_module_version": "2.0.0",
       "_view_name": "HTMLView",
       "description": "",
       "description_allow_html": false,
       "layout": "IPY_MODEL_e20286db151045d98b5c87f910201016",
       "placeholder": "​",
       "style": "IPY_MODEL_18222fda83394623ada8bbd71b74660d",
       "tabbable": null,
       "tooltip": null,
       "value": "100%"
      }
     },
     "e20286db151045d98b5c87f910201016": {
      "model_module": "@jupyter-widgets/base",
      "model_module_version": "2.0.0",
      "model_name": "LayoutModel",
      "state": {
       "_model_module": "@jupyter-widgets/base",
       "_model_module_version": "2.0.0",
       "_model_name": "LayoutModel",
       "_view_count": null,
       "_view_module": "@jupyter-widgets/base",
       "_view_module_version": "2.0.0",
       "_view_name": "LayoutView",
       "align_content": null,
       "align_items": null,
       "align_self": null,
       "border_bottom": null,
       "border_left": null,
       "border_right": null,
       "border_top": null,
       "bottom": null,
       "display": null,
       "flex": null,
       "flex_flow": null,
       "grid_area": null,
       "grid_auto_columns": null,
       "grid_auto_flow": null,
       "grid_auto_rows": null,
       "grid_column": null,
       "grid_gap": null,
       "grid_row": null,
       "grid_template_areas": null,
       "grid_template_columns": null,
       "grid_template_rows": null,
       "height": null,
       "justify_content": null,
       "justify_items": null,
       "left": null,
       "margin": null,
       "max_height": null,
       "max_width": null,
       "min_height": null,
       "min_width": null,
       "object_fit": null,
       "object_position": null,
       "order": null,
       "overflow": null,
       "padding": null,
       "right": null,
       "top": null,
       "visibility": null,
       "width": null
      }
     },
     "e81a23d86d79422aa83663df0b0a5a6c": {
      "model_module": "@jupyter-widgets/controls",
      "model_module_version": "2.0.0",
      "model_name": "FloatProgressModel",
      "state": {
       "_dom_classes": [],
       "_model_module": "@jupyter-widgets/controls",
       "_model_module_version": "2.0.0",
       "_model_name": "FloatProgressModel",
       "_view_count": null,
       "_view_module": "@jupyter-widgets/controls",
       "_view_module_version": "2.0.0",
       "_view_name": "ProgressView",
       "bar_style": "success",
       "description": "",
       "description_allow_html": false,
       "layout": "IPY_MODEL_748acfaa727d4e838f626a6e1c32e3dd",
       "max": 3.0,
       "min": 0.0,
       "orientation": "horizontal",
       "style": "IPY_MODEL_2e2016d11ec84c9ea23cb412c3dc5b0f",
       "tabbable": null,
       "tooltip": null,
       "value": 3.0
      }
     },
     "fa69628df04a4b388bb60d7428d8bbc1": {
      "model_module": "@jupyter-widgets/controls",
      "model_module_version": "2.0.0",
      "model_name": "HTMLModel",
      "state": {
       "_dom_classes": [],
       "_model_module": "@jupyter-widgets/controls",
       "_model_module_version": "2.0.0",
       "_model_name": "HTMLModel",
       "_view_count": null,
       "_view_module": "@jupyter-widgets/controls",
       "_view_module_version": "2.0.0",
       "_view_name": "HTMLView",
       "description": "",
       "description_allow_html": false,
       "layout": "IPY_MODEL_36d2a1959c3a4b218850740efbc6595c",
       "placeholder": "​",
       "style": "IPY_MODEL_17c1758ef12d442fbdabc7fb3210a8dd",
       "tabbable": null,
       "tooltip": null,
       "value": " 3/3 [01:08&lt;00:00, 21.45s/it]"
      }
     }
    },
    "version_major": 2,
    "version_minor": 0
   }
  }
 },
 "nbformat": 4,
 "nbformat_minor": 5
}