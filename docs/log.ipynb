{
 "cells": [
  {
   "cell_type": "markdown",
   "id": "92bcb855",
   "metadata": {
    "papermill": {
     "duration": 0.004032,
     "end_time": "2024-11-05T04:10:53.305607",
     "exception": false,
     "start_time": "2024-11-05T04:10:53.301575",
     "status": "completed"
    },
    "tags": []
   },
   "source": [
    "# MPIA Arxiv on Deck 2\n",
    "\n",
    "Contains the steps to produce the paper extractions."
   ]
  },
  {
   "cell_type": "code",
   "execution_count": 1,
   "id": "3a0d6e11",
   "metadata": {
    "execution": {
     "iopub.execute_input": "2024-11-05T04:10:53.313520Z",
     "iopub.status.busy": "2024-11-05T04:10:53.312939Z",
     "iopub.status.idle": "2024-11-05T04:10:53.664374Z",
     "shell.execute_reply": "2024-11-05T04:10:53.663722Z"
    },
    "papermill": {
     "duration": 0.356821,
     "end_time": "2024-11-05T04:10:53.665762",
     "exception": false,
     "start_time": "2024-11-05T04:10:53.308941",
     "status": "completed"
    },
    "tags": []
   },
   "outputs": [],
   "source": [
    "# Imports\n",
    "import os\n",
    "from IPython.display import Markdown, display\n",
    "from tqdm.notebook import tqdm\n",
    "import warnings\n",
    "from PIL import Image \n",
    "import re\n",
    "\n",
    "# requires arxiv_on_deck_2\n",
    "\n",
    "from arxiv_on_deck_2.arxiv2 import (get_new_papers, \n",
    "                                    get_paper_from_identifier,\n",
    "                                    retrieve_document_source, \n",
    "                                    get_markdown_badge)\n",
    "from arxiv_on_deck_2 import (latex,\n",
    "                             latex_bib,\n",
    "                             mpia,\n",
    "                             highlight_authors_in_list)\n",
    "\n",
    "# Sometimes images are really big\n",
    "Image.MAX_IMAGE_PIXELS = 1000000000 "
   ]
  },
  {
   "cell_type": "code",
   "execution_count": 2,
   "id": "22aa9d44",
   "metadata": {
    "execution": {
     "iopub.execute_input": "2024-11-05T04:10:53.673336Z",
     "iopub.status.busy": "2024-11-05T04:10:53.672885Z",
     "iopub.status.idle": "2024-11-05T04:10:53.681255Z",
     "shell.execute_reply": "2024-11-05T04:10:53.680694Z"
    },
    "papermill": {
     "duration": 0.013211,
     "end_time": "2024-11-05T04:10:53.682263",
     "exception": false,
     "start_time": "2024-11-05T04:10:53.669052",
     "status": "completed"
    },
    "tags": []
   },
   "outputs": [],
   "source": [
    "# Some useful definitions.\n",
    "\n",
    "class AffiliationWarning(UserWarning):\n",
    "    pass\n",
    "\n",
    "class AffiliationError(RuntimeError):\n",
    "    pass\n",
    "\n",
    "def validation(source: str):\n",
    "    \"\"\"Raises error paper during parsing of source file\n",
    "    \n",
    "    Allows checks before parsing TeX code.\n",
    "    \n",
    "    Raises AffiliationWarning\n",
    "    \"\"\"\n",
    "    check = mpia.affiliation_verifications(source, verbose=True)\n",
    "    if check is not True:\n",
    "        raise AffiliationError(\"mpia.affiliation_verifications: \" + check)\n",
    "\n",
    "        \n",
    "warnings.simplefilter('always', AffiliationWarning)\n",
    "\n",
    "\n",
    "def get_markdown_qrcode(paper_id: str):\n",
    "    \"\"\" Generate a qrcode to the arxiv page using qrserver.com\n",
    "    \n",
    "    :param paper: Arxiv paper\n",
    "    :returns: markdown text\n",
    "    \"\"\"\n",
    "    url = r\"https://api.qrserver.com/v1/create-qr-code/?size=100x100&data=\"\n",
    "    txt = f\"\"\"<img src={url}\"https://arxiv.org/abs/{paper_id}\">\"\"\"\n",
    "    txt = '<div id=\"qrcode\">' + txt + '</div>'\n",
    "    return txt\n",
    "\n",
    "\n",
    "def clean_non_western_encoded_characters_commands(text: str) -> str:\n",
    "    \"\"\" Remove non-western encoded characters from a string\n",
    "    List may need to grow.\n",
    "    \n",
    "    :param text: the text to clean\n",
    "    :return: the cleaned text\n",
    "    \"\"\"\n",
    "    text = re.sub(r\"(\\\\begin{CJK}{UTF8}{gbsn})(.*?)(\\\\end{CJK})\", r\"\\2\", text)\n",
    "    return text\n",
    "\n",
    "\n",
    "def get_initials(name: str) -> str:\n",
    "    \"\"\" Get the short name, e.g., A.-B. FamName\n",
    "    :param name: full name\n",
    "    :returns: initials\n",
    "    \"\"\"\n",
    "    initials = []\n",
    "    # account for non western names often in ()\n",
    "    if '(' in name:\n",
    "        name = clean_non_western_encoded_characters_commands(name)\n",
    "        suffix = re.findall(r\"\\((.*?)\\)\", name)[0]\n",
    "        name = name.replace(f\"({suffix})\", '')\n",
    "    else:\n",
    "        suffix = ''\n",
    "    split = name.split()\n",
    "    for token in split[:-1]:\n",
    "        if '-' in token:\n",
    "            current = '-'.join([k[0] + '.' for k in token.split('-')])\n",
    "        else:\n",
    "            current = token[0] + '.'\n",
    "        initials.append(current)\n",
    "    initials.append(split[-1].strip())\n",
    "    if suffix:\n",
    "        initials.append(f\"({suffix})\")\n",
    "    return ' '.join(initials)"
   ]
  },
  {
   "cell_type": "markdown",
   "id": "14bd6310",
   "metadata": {
    "papermill": {
     "duration": 0.002984,
     "end_time": "2024-11-05T04:10:53.688353",
     "exception": false,
     "start_time": "2024-11-05T04:10:53.685369",
     "status": "completed"
    },
    "tags": []
   },
   "source": [
    "## get list of arxiv paper candidates\n",
    "\n",
    "We use the MPIA mitarbeiter list webpage from mpia.de to get author names\n",
    "We then get all new papers from Arxiv and match authors"
   ]
  },
  {
   "cell_type": "code",
   "execution_count": 3,
   "id": "7ea813a8",
   "metadata": {
    "execution": {
     "iopub.execute_input": "2024-11-05T04:10:53.695374Z",
     "iopub.status.busy": "2024-11-05T04:10:53.694924Z",
     "iopub.status.idle": "2024-11-05T04:11:14.373289Z",
     "shell.execute_reply": "2024-11-05T04:11:14.372644Z"
    },
    "papermill": {
     "duration": 20.683318,
     "end_time": "2024-11-05T04:11:14.374624",
     "exception": false,
     "start_time": "2024-11-05T04:10:53.691306",
     "status": "completed"
    },
    "tags": []
   },
   "outputs": [],
   "source": [
    "# deal with the author list and edge cases of people that cannot be consistent on their name  \n",
    "\n",
    "def filter_non_scientists(name: str) -> bool:\n",
    "    \"\"\" Loose filter on expected authorships\n",
    "\n",
    "    removing IT, administration, technical staff\n",
    "    :param name: name\n",
    "    :returns: False if name is not a scientist\n",
    "    \"\"\"\n",
    "    remove_list = ['Licht', 'Binroth', 'Witzel', 'Jordan',\n",
    "                   'Zähringer', 'Scheerer', 'Hoffmann', 'Düe',\n",
    "                   'Hellmich', 'Enkler-Scharpegge', 'Witte-Nguy',\n",
    "                   'Dehen', 'Beckmann', 'Jager', 'Jäger'\n",
    "                  ]\n",
    "\n",
    "    for k in remove_list:\n",
    "        if k in name:\n",
    "            return False\n",
    "    return True\n",
    "\n",
    "def add_author_to_list(author_list: list) -> list:\n",
    "    \"\"\" Add author to list if not already in list\n",
    "    \n",
    "    :param author: author name\n",
    "    :param author_list: list of authors\n",
    "    :returns: updated list of authors\n",
    "    \"\"\"\n",
    "    add_list = ['T. Henning']\n",
    "\n",
    "    for author in add_list:\n",
    "        if author not in author_list:\n",
    "            author_list.append(author)\n",
    "    return author_list\n",
    "\n",
    "# get list from MPIA website\n",
    "# filter for non-scientists (mpia.get_mpia_mitarbeiter_list() does some filtering)\n",
    "mpia_authors = [k[1] for k in mpia.get_mpia_mitarbeiter_list() if filter_non_scientists(k[1])]\n",
    "# add some missing author because of inconsistencies in their MPIA name and author name on papers\n",
    "mpia_authors = add_author_to_list(mpia_authors)"
   ]
  },
  {
   "cell_type": "code",
   "execution_count": 4,
   "id": "2645e73a",
   "metadata": {
    "execution": {
     "iopub.execute_input": "2024-11-05T04:11:14.383043Z",
     "iopub.status.busy": "2024-11-05T04:11:14.382449Z",
     "iopub.status.idle": "2024-11-05T04:11:15.366516Z",
     "shell.execute_reply": "2024-11-05T04:11:15.365752Z"
    },
    "papermill": {
     "duration": 0.989128,
     "end_time": "2024-11-05T04:11:15.367682",
     "exception": false,
     "start_time": "2024-11-05T04:11:14.378554",
     "status": "completed"
    },
    "tags": []
   },
   "outputs": [
    {
     "name": "stdout",
     "output_type": "stream",
     "text": [
      "J. Li  ->  J. Li  |  ['J. Li']\n",
      "S. Kraus  ->  S. Kraus  |  ['S. Kraus']\n",
      "J. Li  ->  J. Li  |  ['J. Li']\n",
      "E. Bañados  ->  E. Bañados  |  ['E. Bañados']\n",
      "F. Walter  ->  F. Walter  |  ['F. Walter']\n",
      "M. Sharma  ->  Y. M. Sharma  |  ['M. Sharma']\n",
      "K. Jahnke  ->  K. Jahnke  |  ['K. Jahnke']\n"
     ]
    },
    {
     "name": "stdout",
     "output_type": "stream",
     "text": [
      "J. Liu  ->  J. Liu  |  ['J. Liu']\n",
      "L. Xie  ->  Z.-L. Xie  |  ['L. Xie']\n",
      "Arxiv has 81 new papers today\n",
      "          7 with possible author matches\n"
     ]
    }
   ],
   "source": [
    "new_papers = get_new_papers()\n",
    "# add manual references\n",
    "add_paper_refs = []\n",
    "new_papers.extend([get_paper_from_identifier(k) for k in add_paper_refs])\n",
    "\n",
    "def robust_call(fn, value, *args, **kwargs):\n",
    "    try:\n",
    "        return fn(value, *args, **kwargs)\n",
    "    except Exception:\n",
    "        return value\n",
    "\n",
    "candidates = []\n",
    "for paperk in new_papers:\n",
    "    # Check author list with their initials\n",
    "    normed_author_list = [robust_call(mpia.get_initials, k) for k in paperk['authors']]\n",
    "    hl_authors = highlight_authors_in_list(normed_author_list, mpia_authors, verbose=True)\n",
    "    matches = [(hl, orig) for hl, orig in zip(hl_authors, paperk['authors']) if 'mark' in hl]\n",
    "    paperk['authors'] = hl_authors\n",
    "    if matches:\n",
    "        # only select paper if an author matched our list\n",
    "        candidates.append(paperk)\n",
    "print(\"\"\"Arxiv has {0:,d} new papers today\"\"\".format(len(new_papers)))        \n",
    "print(\"\"\"          {0:,d} with possible author matches\"\"\".format(len(candidates)))"
   ]
  },
  {
   "cell_type": "markdown",
   "id": "3543b34a",
   "metadata": {
    "papermill": {
     "duration": 0.003216,
     "end_time": "2024-11-05T04:11:15.374572",
     "exception": false,
     "start_time": "2024-11-05T04:11:15.371356",
     "status": "completed"
    },
    "tags": []
   },
   "source": [
    "# Parse sources and generate relevant outputs\n",
    "\n",
    "From the candidates, we do the following steps:\n",
    "* get their tarball from ArXiv (and extract data)\n",
    "* find the main .tex file: find one with \\documentclass{...} (sometimes it's non trivial)\n",
    "* Check affiliations with :func:`validation`, which uses :func:`mpia.affiliation_verifications`\n",
    "* If passing the affiliations: we parse the .tex source\n",
    "   * inject sub-documents into the main (flatten the main document)\n",
    "   * parse structure, extract information (title, abstract, authors, figures...)\n",
    "   * handles `\\graphicspath` if provided\n",
    "* Generate the .md document."
   ]
  },
  {
   "cell_type": "code",
   "execution_count": 5,
   "id": "9576b79e",
   "metadata": {
    "execution": {
     "iopub.execute_input": "2024-11-05T04:11:15.382237Z",
     "iopub.status.busy": "2024-11-05T04:11:15.381751Z",
     "iopub.status.idle": "2024-11-05T04:12:43.842470Z",
     "shell.execute_reply": "2024-11-05T04:12:43.841719Z"
    },
    "papermill": {
     "duration": 88.465791,
     "end_time": "2024-11-05T04:12:43.843592",
     "exception": false,
     "start_time": "2024-11-05T04:11:15.377801",
     "status": "completed"
    },
    "scrolled": false,
    "tags": []
   },
   "outputs": [
    {
     "data": {
      "application/vnd.jupyter.widget-view+json": {
       "model_id": "85326f4ec91e421b9a37db74585e3e2e",
       "version_major": 2,
       "version_minor": 0
      },
      "text/plain": [
       "  0%|          | 0/7 [00:00<?, ?it/s]"
      ]
     },
     "metadata": {},
     "output_type": "display_data"
    },
    {
     "name": "stdout",
     "output_type": "stream",
     "text": [
      "Retrieving document from  https://arxiv.org/e-print/2411.00829\n"
     ]
    },
    {
     "name": "stdout",
     "output_type": "stream",
     "text": [
      "extracting tarball to tmp_2411.00829... done.\n",
      "Retrieving document from  https://arxiv.org/e-print/2411.01062\n"
     ]
    },
    {
     "name": "stdout",
     "output_type": "stream",
     "text": [
      "extracting tarball to tmp_2411.01062... done.\n"
     ]
    },
    {
     "name": "stdout",
     "output_type": "stream",
     "text": [
      "S. Kraus  ->  S. Kraus  |  ['S. Kraus']\n",
      "Retrieving document from  https://arxiv.org/e-print/2411.01701\n"
     ]
    },
    {
     "name": "stderr",
     "output_type": "stream",
     "text": [
      "/tmp/ipykernel_2683/2822249172.py:52: LatexWarning: 2411.01062 did not run properly\n",
      "Unable to locate Ghostscript on paths\n",
      "  warnings.warn(latex.LatexWarning(f\"{paper_id:s} did not run properly\\n\" +\n"
     ]
    },
    {
     "name": "stdout",
     "output_type": "stream",
     "text": [
      "extracting tarball to tmp_2411.01701..."
     ]
    },
    {
     "name": "stdout",
     "output_type": "stream",
     "text": [
      " done.\n"
     ]
    },
    {
     "name": "stdout",
     "output_type": "stream",
     "text": [
      "J. Li  ->  J. Li  |  ['J. Li']\n",
      "E. Bañados  ->  E. Bañados  |  ['E. Bañados']\n",
      "F. Walter  ->  F. Walter  |  ['F. Walter']\n"
     ]
    },
    {
     "name": "stderr",
     "output_type": "stream",
     "text": [
      "/tmp/ipykernel_2683/2822249172.py:52: LatexWarning: 2411.01701 did not run properly\n",
      "list index out of range\n",
      "  warnings.warn(latex.LatexWarning(f\"{paper_id:s} did not run properly\\n\" +\n"
     ]
    },
    {
     "name": "stdout",
     "output_type": "stream",
     "text": [
      "Retrieving document from  https://arxiv.org/e-print/2411.01823\n"
     ]
    },
    {
     "name": "stdout",
     "output_type": "stream",
     "text": [
      "extracting tarball to tmp_2411.01823... done.\n",
      "  0: tmp_2411.01823/natnotes.tex, 332 lines\n",
      "  1: tmp_2411.01823/ngc1275.tex, 803 lines\n",
      "  2: tmp_2411.01823/natbib.tex, 96 lines\n",
      "  3: tmp_2411.01823/aassymbols.tex, 579 lines\n",
      "Retrieving document from  https://arxiv.org/e-print/2411.01927\n"
     ]
    },
    {
     "name": "stderr",
     "output_type": "stream",
     "text": [
      "/opt/hostedtoolcache/Python/3.9.20/x64/lib/python3.9/site-packages/IPython/core/interactiveshell.py:3550: LatexWarning: Multiple tex files.\n",
      "\n",
      "  exec(code_obj, self.user_global_ns, self.user_ns)\n",
      "/opt/hostedtoolcache/Python/3.9.20/x64/lib/python3.9/site-packages/IPython/core/interactiveshell.py:3550: LatexWarning: Found 4 candidates with documentclass definition.\n",
      "  exec(code_obj, self.user_global_ns, self.user_ns)\n",
      "/opt/hostedtoolcache/Python/3.9.20/x64/lib/python3.9/site-packages/IPython/core/interactiveshell.py:3550: LatexWarning: Assuming tmp_2411.01823/ngc1275.tex as main document.\n",
      "  exec(code_obj, self.user_global_ns, self.user_ns)\n"
     ]
    },
    {
     "name": "stdout",
     "output_type": "stream",
     "text": [
      "extracting tarball to tmp_2411.01927..."
     ]
    },
    {
     "name": "stdout",
     "output_type": "stream",
     "text": [
      " done.\n"
     ]
    },
    {
     "name": "stdout",
     "output_type": "stream",
     "text": [
      "Found 55 bibliographic references in tmp_2411.01927/NGC1272Euclid3.bbl.\n",
      "Retrieving document from  https://arxiv.org/e-print/2411.01960\n"
     ]
    },
    {
     "name": "stdout",
     "output_type": "stream",
     "text": [
      "extracting tarball to tmp_2411.01960..."
     ]
    },
    {
     "name": "stdout",
     "output_type": "stream",
     "text": [
      " done.\n",
      "Retrieving document from  https://arxiv.org/e-print/2411.02352\n"
     ]
    },
    {
     "name": "stderr",
     "output_type": "stream",
     "text": [
      "/opt/hostedtoolcache/Python/3.9.20/x64/lib/python3.9/site-packages/IPython/core/interactiveshell.py:3550: LatexWarning: Multiple tex files.\n",
      "\n",
      "  exec(code_obj, self.user_global_ns, self.user_ns)\n",
      "/opt/hostedtoolcache/Python/3.9.20/x64/lib/python3.9/site-packages/IPython/core/interactiveshell.py:3550: LatexWarning: Found documentclass in tmp_2411.01960/main.tex\n",
      "\n",
      "  exec(code_obj, self.user_global_ns, self.user_ns)\n",
      "/opt/hostedtoolcache/Python/3.9.20/x64/lib/python3.9/site-packages/arxiv_on_deck_2/latex.py:414: LatexWarning: Latex injecting: 'authorlist' from 'tmp_2411.01960/authorlist.tex'\n",
      "  warnings.warn(LatexWarning(f\"Latex injecting: '{ext}' from '{subsource}'\"))\n"
     ]
    },
    {
     "name": "stdout",
     "output_type": "stream",
     "text": [
      "extracting tarball to tmp_2411.02352..."
     ]
    },
    {
     "name": "stdout",
     "output_type": "stream",
     "text": [
      " done.\n"
     ]
    }
   ],
   "source": [
    "documents = []\n",
    "failed = []\n",
    "for paper in tqdm(candidates):\n",
    "    # debug crap\n",
    "    paper['identifier'] = paper['identifier'].lower().replace('arxiv:', '').replace(r'\\n', '').strip()\n",
    "    paper_id = paper['identifier']\n",
    "    \n",
    "    folder = f'tmp_{paper_id}'\n",
    "\n",
    "    try:\n",
    "        if not os.path.isdir(folder):\n",
    "            folder = retrieve_document_source(f\"{paper_id}\", f'tmp_{paper_id}')\n",
    "        \n",
    "        try:\n",
    "            doc = latex.LatexDocument(folder, validation=validation)    \n",
    "        except AffiliationError as affilerror:\n",
    "            msg = f\"ArXiv:{paper_id:s} is not an MPIA paper... \" + str(affilerror)\n",
    "            failed.append((paper, \"affiliation error: \" + str(affilerror) ))\n",
    "            continue\n",
    "        \n",
    "        # Hack because sometimes author parsing does not work well\n",
    "        if (len(doc.authors) != len(paper['authors'])):\n",
    "            doc._authors = paper['authors']\n",
    "        else:\n",
    "            # highlight authors (FIXME: doc.highlight_authors)\n",
    "            # done on arxiv paper already\n",
    "            doc._authors = highlight_authors_in_list(\n",
    "                [get_initials(k) for k in doc.authors], \n",
    "                mpia_authors, verbose=True)\n",
    "        if (doc.abstract) in (None, ''):\n",
    "            doc._abstract = paper['abstract']\n",
    "            \n",
    "        doc.comment = (get_markdown_badge(paper_id) + \n",
    "                       \"<mark>Appeared on: \" + paper['date'] + \"</mark> - \")\n",
    "        if paper['comments']:\n",
    "            doc.comment += \" _\" + paper['comments'] + \"_\"\n",
    "        \n",
    "        full_md = doc.generate_markdown_text()\n",
    "        \n",
    "        full_md += get_markdown_qrcode(paper_id)\n",
    "        \n",
    "        # replace citations\n",
    "        try:\n",
    "            bibdata = latex_bib.LatexBib.from_doc(doc)\n",
    "            full_md = latex_bib.replace_citations(full_md, bibdata)\n",
    "        except Exception as e:\n",
    "            print(\"Issues with the citations\")\n",
    "            print(e)\n",
    "        \n",
    "        documents.append((paper_id, full_md))\n",
    "    except Exception as e:\n",
    "        warnings.warn(latex.LatexWarning(f\"{paper_id:s} did not run properly\\n\" +\n",
    "                                         str(e)\n",
    "                                        ))\n",
    "        failed.append((paper, \"latex error \" + str(e)))"
   ]
  },
  {
   "cell_type": "markdown",
   "id": "2505a25c",
   "metadata": {
    "papermill": {
     "duration": 0.004326,
     "end_time": "2024-11-05T04:12:43.852485",
     "exception": false,
     "start_time": "2024-11-05T04:12:43.848159",
     "status": "completed"
    },
    "tags": []
   },
   "source": [
    "### Export the logs\n",
    "\n",
    "Throughout, we also keep track of the logs per paper. see `logs-{today date}.md` "
   ]
  },
  {
   "cell_type": "code",
   "execution_count": 6,
   "id": "d733828a",
   "metadata": {
    "execution": {
     "iopub.execute_input": "2024-11-05T04:12:43.862661Z",
     "iopub.status.busy": "2024-11-05T04:12:43.862142Z",
     "iopub.status.idle": "2024-11-05T04:12:43.880287Z",
     "shell.execute_reply": "2024-11-05T04:12:43.879584Z"
    },
    "papermill": {
     "duration": 0.024595,
     "end_time": "2024-11-05T04:12:43.881365",
     "exception": false,
     "start_time": "2024-11-05T04:12:43.856770",
     "status": "completed"
    },
    "scrolled": false,
    "tags": []
   },
   "outputs": [
    {
     "data": {
      "text/markdown": [
       "## Successful papers"
      ],
      "text/plain": [
       "<IPython.core.display.Markdown object>"
      ]
     },
     "metadata": {},
     "output_type": "display_data"
    },
    {
     "data": {
      "text/markdown": [
       "\n",
       "|||\n",
       "|---:|:---|\n",
       "| [![arXiv](https://img.shields.io/badge/arXiv-2411.01927-b31b1b.svg)](https://arxiv.org/abs/2411.01927) | **Euclid: The $r_{\\rm b}$-$M_\\ast$ relation as a function of redshift. I. The $5 \\times 10^9 M_\\odot$ black hole in NGC 1272**  |\n",
       "|| R. Saglia, et al. -- incl., <mark>K. Jahnke</mark> |\n",
       "|*Appeared on*| *2024-11-05*|\n",
       "|*Comments*| *Accepted for publication in A&A*|\n",
       "|**Abstract**|            Core ellipticals, massive early-type galaxies have an almost constant inner surface brightness profile. The size of the core region correlates with the mass of the finally merged black hole. Here we report the first Euclid-based dynamical mass determination of a supermassive black hole. We study the centre of NGC 1272, the second most luminous elliptical galaxy in the Perseus cluster, combining the Euclid VIS photometry coming from the Early Release Observations of the Perseus cluster with VIRUS spectroscopic observations at the Hobby-Eberly Telescope. The core of NGC 1272 is detected on the Euclid VIS image. Its size is $1.29\\pm 0.07''$ or 0.45 kpc, determined by fitting PSF-convolved core-Sérsic and Nuker-law functions. The two-dimensional stellar kinematics of the galaxy is measured from the VIRUS spectra by deriving optimally regularized non-parametric line-of-sight velocity distributions. Dynamical models of the galaxy are constructed using our axisymmetric and triaxial Schwarzschild codes. We measure a black hole mass of $(5\\pm3) \\times 10^9 M_\\odot$, in line with the expectation from the $M_{\\rm BH}$-$r_{\\rm b}$ correlation, but eight times larger than predicted by the $M_{\\rm BH}$-$\\sigma$ correlation (at $1.8\\sigma$ significance). The core size, rather than the velocity dispersion, allows one to select galaxies harboring the most massive black holes. The spatial resolution, wide area coverage, and depth of the \\Euclid (Wide and Deep) surveys allow us to find cores of passive galaxies larger than 2 kpc up to redshift 1.         |"
      ],
      "text/plain": [
       "[2411.01927] Euclid: The $r_{\\rm b}$-$M_\\ast$ relation as a function of redshift. I. The $5 \\times 10^9 M_\\odot$ black hole in NGC 1272\n",
       "\tR. Saglia, et al. -- incl., <mark>K. Jahnke</mark>"
      ]
     },
     "metadata": {},
     "output_type": "display_data"
    },
    {
     "data": {
      "text/markdown": [
       "## Failed papers"
      ],
      "text/plain": [
       "<IPython.core.display.Markdown object>"
      ]
     },
     "metadata": {},
     "output_type": "display_data"
    },
    {
     "data": {
      "text/markdown": [
       "\n",
       "|||\n",
       "|---:|:---|\n",
       "| [![arXiv](https://img.shields.io/badge/arXiv-2411.00829-b31b1b.svg)](https://arxiv.org/abs/2411.00829) | **A new multiple-arc model of the resonant Kuiper belt objects -- Plutinos**  |\n",
       "|| Y. Chen, <mark>J. Li</mark> |\n",
       "|*Appeared on*| *2024-11-05*|\n",
       "|*Comments*| *arXiv admin note: substantial text overlap with arXiv:2305.18157*|\n",
       "|**Abstract**|            To incorporate the gravitational influence of Kuiper belt objects (KBOs) in planetary ephemerides, uniform-ring models are commonly employed. In this paper, for representing the KBO population residing in Neptune's 2:3 mean motion resonance (MMR), known as the Plutinos, we introduce a three-arc model by considering their resonant characteristics. Each `arc' refers to a segment of the uniform ring and comprises an appropriate number of point masses. Then the total perturbation of Plutinos is numerically measured by the change in the Sun-Neptune distance ($\\Delta d_{SN}$). We conduct a comprehensive investigation to take into account various azimuthal and radial distributions associated with the resonant amplitudes ($A$) and eccentricities ($e$) of Plutinos, respectively. The results show that over a 100-year period: (1) at the smallest $e=0.05$, the Sun-Neptune distance change $\\Delta d_{SN}$ caused by Plutinos decreases significantly as $A$ reduces. It can deviate from the value of $\\Delta d_{SN}$ obtained in the ring model by approximately 100 km; (2) as $e$ increases in the medium range of 0.1-0.2, the difference in $\\Delta d_{SN}$ between the arc and ring models becomes increasingly significant; (3) at the largest $e\\gtrsim0.25$, $\\Delta d_{SN}$ can approach zero regardless of $A$, and the arc and ring models exhibit a substantial difference in $\\Delta d_{SN}$, reaching up to 170 km. Then the applicability of our three-arc model is further verified by comparing it to the perturbations induced by observed Plutinos on the positions of both Neptune and Saturn. Moreover, the concept of the multiple-arc model, designed for Plutinos, can be easily extended to other MMRs densely populated by small bodies.         |\n",
       "|<p style=\"color:green\"> **ERROR** </p>| <p style=\"color:green\">affiliation error: mpia.affiliation_verifications: 'Heidelberg' keyword not found.</p> |"
      ],
      "text/plain": [
       "<IPython.core.display.Markdown object>"
      ]
     },
     "metadata": {},
     "output_type": "display_data"
    },
    {
     "data": {
      "text/markdown": [
       "\n",
       "|||\n",
       "|---:|:---|\n",
       "| [![arXiv](https://img.shields.io/badge/arXiv-2411.01823-b31b1b.svg)](https://arxiv.org/abs/2411.01823) | **Very High-energy Gamma-Ray Episodic Activity of Radio Galaxy NGC 1275 in 2022-2023 Measured with MACE**  |\n",
       "|| S. Godambe, et al. -- incl., <mark>M. Sharma</mark> |\n",
       "|*Appeared on*| *2024-11-05*|\n",
       "|*Comments*| *7 Pages, 5 Figures, and 1 Table*|\n",
       "|**Abstract**|            The radio galaxy NGC 1275, located at the central region of Perseus cluster, is a well-known very high-energy (VHE) gamma-ray emitter. The Major Atmospheric Cherenkov Experiment Telescope has detected two distinct episodes of VHE (E > 80 GeV) gamma-ray emission from NGC 1275 during 2022 December and 2023 January. The second outburst, observed on 2023 January 10, was the more intense of the two, with flux reaching 58$\\%$ of the Crab Nebula flux above 80 GeV. The differential energy spectrum measured between 80 GeV and 1.5 TeV can be described by a power law with a spectral index of $\\Gamma = - 2.90 \\pm 0.16_{stat}$ for both flaring events. The broadband spectral energy distribution derived from these flares, along with quasisimultaneous low-energy counterparts, suggests that the observed gamma-ray emission can be explained using a homogeneous single-zone synchrotron self-Compton model. The physical parameters derived from this model for both flaring states are similar. The intermediate state observed between two flaring episodes is explained by a lower Doppler factor or magnetic field, which subsequently returned to its previous value during the high-activity state observed on 2023 January 10.         |\n",
       "|<p style=\"color:green\"> **ERROR** </p>| <p style=\"color:green\">affiliation error: mpia.affiliation_verifications: 'Heidelberg' keyword not found.</p> |"
      ],
      "text/plain": [
       "<IPython.core.display.Markdown object>"
      ]
     },
     "metadata": {},
     "output_type": "display_data"
    },
    {
     "data": {
      "text/markdown": [
       "\n",
       "|||\n",
       "|---:|:---|\n",
       "| [![arXiv](https://img.shields.io/badge/arXiv-2411.01960-b31b1b.svg)](https://arxiv.org/abs/2411.01960) | **The JCMT BISTRO Survey: The Magnetic Fields of the IC 348 Star-forming Region**  |\n",
       "|| Y. Choi, et al. -- incl., <mark>J. Liu</mark> |\n",
       "|*Appeared on*| *2024-11-05*|\n",
       "|*Comments*| *Accepted for publication in ApJ. 21 pages, 12 figures*|\n",
       "|**Abstract**|            We present 850 $\\mu$m polarization observations of the IC 348 star-forming region in the Perseus molecular cloud as part of the B-fields In STar-forming Region Observation (BISTRO) survey. We study the magnetic properties of two cores (HH 211 MMS and IC 348 MMS) and a filamentary structure of IC 348. We find that the overall field tends to be more perpendicular than parallel to the filamentary structure of the region. The polarization fraction decreases with intensity, and we estimate the trend by power-law and the mean of the Rice distribution fittings. The power indices for the cores are much smaller than 1, indicative of possible grain growth to micron size in the cores. We also measure the magnetic field strengths of the two cores and the filamentary area separately by applying the Davis-Chandrasekhar-Fermi method and its alternative version for compressed medium. The estimated mass-to-flux ratios are 0.45-2.20 and 0.63-2.76 for HH 211 MMS and IC 348 MMS, respectively, while the ratios for the filament is 0.33-1.50. This result may suggest that the transition from subcritical to supercritical conditions occurs at the core scale ($\\sim$ 0.05 pc) in the region. In addition, we study the energy balance of the cores and find that the relative strength of turbulence to the magnetic field tends to be stronger for IC 348 MMS than HH 211 MMS. The result could potentially explain the different configurations inside the two cores: a single protostellar system in HH 211 MMS and multiple protostars in IC 348 MMS.         |\n",
       "|<p style=\"color:green\"> **ERROR** </p>| <p style=\"color:green\">affiliation error: mpia.affiliation_verifications: 'Heidelberg' keyword not found.</p> |"
      ],
      "text/plain": [
       "<IPython.core.display.Markdown object>"
      ]
     },
     "metadata": {},
     "output_type": "display_data"
    },
    {
     "data": {
      "text/markdown": [
       "\n",
       "|||\n",
       "|---:|:---|\n",
       "| [![arXiv](https://img.shields.io/badge/arXiv-2411.02352-b31b1b.svg)](https://arxiv.org/abs/2411.02352) | **Virgo Filaments IV: Using WISE to Measure the Modification of Star-Forming Disks in the Extended Regions Around the Virgo Cluster**  |\n",
       "|| K. Conger, et al. -- incl., <mark>L. Xie</mark> |\n",
       "|*Appeared on*| *2024-11-05*|\n",
       "|*Comments*| *21 pages, 11 figures. Resubmitted second time to ApJ with only minor revision requested*|\n",
       "|**Abstract**|            Recent theoretical work and targeted observational studies suggest that filaments are sites of galaxy preprocessing. The aim of the WISESize project is to directly probe galaxies over the full range of environments to quantify and characterize extrinsic galaxy quenching in the local Universe. In this paper, we use GALFIT to measure the infrared 12$\\mu$m ($R_{12}$) and 3.4$\\mu$m ($R_{3.4}$) effective radii of 603 late-type galaxies in and surrounding the Virgo cluster. We find that Virgo cluster galaxies show smaller star-forming disks relative to their field counterparts at the $2.5\\sigma$ level, while filament galaxies show smaller star-forming disks to almost $1.5\\sigma$. Our data, therefore, show that cluster galaxies experience significant effects on their star-forming disks prior to their final quenching period. There is also tentative support for the hypothesis that galaxies are preprocessed in filamentary regions surrounding clusters. On the other hand, galaxies belonging to rich groups and poor groups do not differ significantly from those in the field. We additionally find hints of a positive correlation between stellar mass and size ratio for both rich group and filament galaxies, though the uncertainties on these data are consistent with no correlation. We compare our size measurements with the predictions from two variants of a state-of-the-art semi-analytic model (SAM), one which includes starvation and the other incorporating both starvation and ram-pressure stripping (RPS). Our data appear to disfavor the SAM, which includes RPS for the rich group, filament, and cluster samples, which contributes to improved constraints for general models of galaxy quenching.         |\n",
       "|<p style=\"color:green\"> **ERROR** </p>| <p style=\"color:green\">affiliation error: mpia.affiliation_verifications: 'Heidelberg' keyword not found.</p> |"
      ],
      "text/plain": [
       "<IPython.core.display.Markdown object>"
      ]
     },
     "metadata": {},
     "output_type": "display_data"
    },
    {
     "data": {
      "text/markdown": [
       "\n",
       "|||\n",
       "|---:|:---|\n",
       "| [![arXiv](https://img.shields.io/badge/arXiv-2411.01062-b31b1b.svg)](https://arxiv.org/abs/2411.01062) | **Visual Orbits of Wolf-Rayet Stars II: The Orbit of the Nitrogen-Rich WR Binary WR 138 measured with the CHARA Array**  |\n",
       "|| A. Holdsworth, et al. -- incl., <mark>S. Kraus</mark> |\n",
       "|*Appeared on*| *2024-11-05*|\n",
       "|*Comments*| *accepted to ApJ*|\n",
       "|**Abstract**|            Classical Wolf-Rayet stars are descendants of massive OB-type stars that have lost their hydrogen-rich envelopes, and are in the final stages of stellar evolution, possibly exploding as type Ib/c supernovae. It is understood that the mechanisms driving this mass-loss are either strong stellar winds and or binary interactions, so intense studies of these binaries including their evolution can tell us about the importance of the two pathways in WR formation. WR 138 (HD 193077) has a period of just over 4 years and was previously reported to be resolved through interferometry. We report on new interferometric data combined with spectroscopic radial velocities in order to provide a three-dimensional orbit of the system. The precision on our parameters tend to be about an order of magnitude better than previous spectroscopic techniques. These measurements provide masses of the stars, namely $M_{\\rm WR} = 13.93\\pm1.49M_{\\odot}$ and $M_{\\rm O} = 26.28\\pm1.71M_{\\odot}$. The derived orbital parallax agrees with the parallax from \\textit{Gaia}, namely with a distance of 2.13 kpc. We compare the system's orbit to models from BPASS, showing that the system likely may have been formed with little interaction but could have formed through some binary interactions either following or at the start of a red supergiant phase, but with the most likely scenario occurring as the red supergiant phase starts for a $\\sim 40M_\\odot$ star.         |\n",
       "|<p style=\"color:red\"> **ERROR** </p>| <p style=\"color:red\">latex error Unable to locate Ghostscript on paths</p> |"
      ],
      "text/plain": [
       "<IPython.core.display.Markdown object>"
      ]
     },
     "metadata": {},
     "output_type": "display_data"
    },
    {
     "data": {
      "text/markdown": [
       "\n",
       "|||\n",
       "|---:|:---|\n",
       "| [![arXiv](https://img.shields.io/badge/arXiv-2411.01701-b31b1b.svg)](https://arxiv.org/abs/2411.01701) | **Constraining the excitation of molecular gas in Two Quasar-Starburst Systems at $z \\sim 6$**  |\n",
       "|| F. Xu, et al. -- incl., <mark>J. Li</mark>, <mark>E. Bañados</mark>, <mark>F. Walter</mark> |\n",
       "|*Appeared on*| *2024-11-05*|\n",
       "|*Comments*| *19 pages, 9 figures, accepted for publication in ApJ*|\n",
       "|**Abstract**|            We present NOrthern Extended Millimeter Array observations of CO(8-7), (9-8), and (10-9) lines, as well as the underlying continuum for two far-infrared luminous quasars: SDSS J2054-0005 at $\\rm z=6.0389$ and SDSS J0129-0035 at $\\rm z=5.7788$. Both quasars were previously detected in CO (2-1) and (6-5) transitions, making them candidates for studying the CO Spectral Line Energy Distribution (SLED) of quasars at $z \\sim 6$. Utilizing the radiative transfer code CLOUDY, we fit the CO SLED with two heating mechanisms, including the photo-dissociation region (PDR) and X-ray-dominated region (XDR) for both objects. The CO SLEDs can be fitted by either a dense PDR component with an extremely strong far-ultraviolet radiation field (gas density $ n_{\\rm H} \\sim 10^6 \\, \\rm cm^{-3}$ and field strength $G_0 \\gtrsim 10^6$) or a two-component model including a PDR and an XDR. However, the line ratios, including \\tir and previous \\cii and \\ci measurements, argue against a very high PDR radiation field strength. Thus, the results prefer a PDR+XDR origin for the CO SLED. The excitation of the high-J CO lines in both objects is likely dominated by the central AGN. We then check the CO (9-8)-to-(6-5) line luminosity ratio $r_{96}$ for all $z \\sim 6$ quasars with available CO SLEDs (seven in total) and find that there are no clear correlations between $r_{96}$ and both \\fir and the AGN UV luminosities. This further demonstrates the complexity of the CO excitation powered by both the AGN and nuclear star formation in these young quasar host galaxies.         |\n",
       "|<p style=\"color:red\"> **ERROR** </p>| <p style=\"color:red\">latex error list index out of range</p> |"
      ],
      "text/plain": [
       "<IPython.core.display.Markdown object>"
      ]
     },
     "metadata": {},
     "output_type": "display_data"
    }
   ],
   "source": [
    "import datetime\n",
    "today = str(datetime.date.today())\n",
    "logfile = f\"_build/html/logs/log-{today}.md\"\n",
    "\n",
    "\n",
    "with open(logfile, 'w') as logs:\n",
    "    # Success\n",
    "    logs.write(f'# Arxiv on Deck 2: Logs - {today}\\n\\n')\n",
    "    logs.write(\"\"\"* Arxiv had {0:,d} new papers\\n\"\"\".format(len(new_papers)))\n",
    "    logs.write(\"\"\"    * {0:,d} with possible author matches\\n\\n\"\"\".format(len(candidates)))\n",
    "    logs.write(\"## Sucessful papers\\n\\n\")\n",
    "    display(Markdown(\"## Successful papers\"))\n",
    "    success = [k[0] for k in documents]\n",
    "    for candid in candidates:\n",
    "        if candid['identifier'].split(':')[-1] in success:\n",
    "            display(candid)\n",
    "            logs.write(candid.generate_markdown_text() + '\\n\\n')\n",
    "\n",
    "    ## failed\n",
    "    logs.write(\"## Failed papers\\n\\n\")\n",
    "    display(Markdown(\"## Failed papers\"))\n",
    "    failed = sorted(failed, key=lambda x: x[1])\n",
    "    current_reason = \"\"\n",
    "    for paper, reason in failed:\n",
    "        if 'affiliation' in reason:\n",
    "            color = 'green'\n",
    "        else:\n",
    "            color = 'red'\n",
    "        data = Markdown(\n",
    "                paper.generate_markdown_text() + \n",
    "                f'\\n|<p style=\"color:{color:s}\"> **ERROR** </p>| <p style=\"color:{color:s}\">{reason:s}</p> |'\n",
    "               )\n",
    "        if reason != current_reason:\n",
    "            logs.write(f'### {reason:s} \\n\\n')\n",
    "            current_reason = reason\n",
    "        logs.write(data.data + '\\n\\n')\n",
    "        \n",
    "        # only display here the important errors (all in logs)\n",
    "        # if color in ('red',):\n",
    "        display(data)"
   ]
  },
  {
   "cell_type": "markdown",
   "id": "472d20ee",
   "metadata": {
    "papermill": {
     "duration": 0.005038,
     "end_time": "2024-11-05T04:12:43.891962",
     "exception": false,
     "start_time": "2024-11-05T04:12:43.886924",
     "status": "completed"
    },
    "tags": []
   },
   "source": [
    "## Export documents\n",
    "\n",
    "We now write the .md files and export relevant images"
   ]
  },
  {
   "cell_type": "code",
   "execution_count": 7,
   "id": "d426aed9",
   "metadata": {
    "execution": {
     "iopub.execute_input": "2024-11-05T04:12:43.903440Z",
     "iopub.status.busy": "2024-11-05T04:12:43.902878Z",
     "iopub.status.idle": "2024-11-05T04:12:43.910135Z",
     "shell.execute_reply": "2024-11-05T04:12:43.909385Z"
    },
    "papermill": {
     "duration": 0.014175,
     "end_time": "2024-11-05T04:12:43.911175",
     "exception": false,
     "start_time": "2024-11-05T04:12:43.897000",
     "status": "completed"
    },
    "tags": []
   },
   "outputs": [],
   "source": [
    "def export_markdown_summary(md: str, md_fname:str, directory: str):\n",
    "    \"\"\"Export MD document and associated relevant images\"\"\"\n",
    "    import os\n",
    "    import shutil\n",
    "    import re\n",
    "\n",
    "    if (os.path.exists(directory) and not os.path.isdir(directory)):\n",
    "        raise RuntimeError(f\"a non-directory file exists with name {directory:s}\")\n",
    "\n",
    "    if (not os.path.exists(directory)):\n",
    "        print(f\"creating directory {directory:s}\")\n",
    "        os.mkdir(directory)\n",
    "\n",
    "    fig_fnames = (re.compile(r'\\[Fig.*\\]\\((.*)\\)').findall(md) + \n",
    "                  re.compile(r'\\<img src=\"([^>\\s]*)\"[^>]*/>').findall(md))\n",
    "    print(\"found figures\", fig_fnames)\n",
    "    for fname in fig_fnames:\n",
    "        if 'http' in fname:\n",
    "            # No need to copy online figures\n",
    "            continue\n",
    "        if not os.path.exists(fname):\n",
    "            print(\"file not found\", fname)\n",
    "            continue\n",
    "        print(\"copying \", fname, \"to\", directory)\n",
    "        destdir = os.path.join(directory, os.path.dirname(fname))\n",
    "        destfname = os.path.join(destdir, os.path.basename(fname))\n",
    "        try:\n",
    "            os.makedirs(destdir)\n",
    "        except FileExistsError:\n",
    "            pass\n",
    "        shutil.copy(fname, destfname)\n",
    "    with open(os.path.join(directory, md_fname), 'w') as fout:\n",
    "        fout.write(md)\n",
    "    print(\"exported in \", os.path.join(directory, md_fname))\n",
    "    [print(\"    + \" + os.path.join(directory,fk)) for fk in fig_fnames]"
   ]
  },
  {
   "cell_type": "code",
   "execution_count": 8,
   "id": "014d04a4",
   "metadata": {
    "execution": {
     "iopub.execute_input": "2024-11-05T04:12:43.923271Z",
     "iopub.status.busy": "2024-11-05T04:12:43.922794Z",
     "iopub.status.idle": "2024-11-05T04:12:43.930726Z",
     "shell.execute_reply": "2024-11-05T04:12:43.930087Z"
    },
    "papermill": {
     "duration": 0.015122,
     "end_time": "2024-11-05T04:12:43.931783",
     "exception": false,
     "start_time": "2024-11-05T04:12:43.916661",
     "status": "completed"
    },
    "tags": []
   },
   "outputs": [
    {
     "name": "stdout",
     "output_type": "stream",
     "text": [
      "found figures ['tmp_2411.01927/./newphot1272trim.png', 'tmp_2411.01927/./pq_itvls_all_slz_xaxis_axi_trim.png', 'tmp_2411.01927/./NGC1272_kinematic_map_trimmed.png']\n",
      "copying  tmp_2411.01927/./newphot1272trim.png to _build/html/\n",
      "copying  tmp_2411.01927/./pq_itvls_all_slz_xaxis_axi_trim.png to _build/html/\n",
      "copying  tmp_2411.01927/./NGC1272_kinematic_map_trimmed.png to _build/html/\n",
      "exported in  _build/html/2411.01927.md\n",
      "    + _build/html/tmp_2411.01927/./newphot1272trim.png\n",
      "    + _build/html/tmp_2411.01927/./pq_itvls_all_slz_xaxis_axi_trim.png\n",
      "    + _build/html/tmp_2411.01927/./NGC1272_kinematic_map_trimmed.png\n"
     ]
    }
   ],
   "source": [
    "for paper_id, md in documents:\n",
    "    export_markdown_summary(md, f\"{paper_id:s}.md\", '_build/html/')"
   ]
  },
  {
   "cell_type": "markdown",
   "id": "f087a0a7",
   "metadata": {
    "papermill": {
     "duration": 0.005114,
     "end_time": "2024-11-05T04:12:43.942240",
     "exception": false,
     "start_time": "2024-11-05T04:12:43.937126",
     "status": "completed"
    },
    "tags": []
   },
   "source": [
    "## Display the papers\n",
    "\n",
    "Not necessary but allows for a quick check."
   ]
  },
  {
   "cell_type": "code",
   "execution_count": 9,
   "id": "fd25f625",
   "metadata": {
    "execution": {
     "iopub.execute_input": "2024-11-05T04:12:43.953727Z",
     "iopub.status.busy": "2024-11-05T04:12:43.953273Z",
     "iopub.status.idle": "2024-11-05T04:12:43.958066Z",
     "shell.execute_reply": "2024-11-05T04:12:43.957466Z"
    },
    "papermill": {
     "duration": 0.01156,
     "end_time": "2024-11-05T04:12:43.959045",
     "exception": false,
     "start_time": "2024-11-05T04:12:43.947485",
     "status": "completed"
    },
    "scrolled": false,
    "tags": []
   },
   "outputs": [
    {
     "data": {
      "text/markdown": [
       "<div class=\"macros\" style=\"visibility:hidden;\">\n",
       "$\\newcommand{\\ensuremath}{}$\n",
       "$\\newcommand{\\xspace}{}$\n",
       "$\\newcommand{\\object}[1]{\\texttt{#1}}$\n",
       "$\\newcommand{\\farcs}{{.}''}$\n",
       "$\\newcommand{\\farcm}{{.}'}$\n",
       "$\\newcommand{\\arcsec}{''}$\n",
       "$\\newcommand{\\arcmin}{'}$\n",
       "$\\newcommand{\\ion}[2]{#1#2}$\n",
       "$\\newcommand{\\textsc}[1]{\\textrm{#1}}$\n",
       "$\\newcommand{\\hl}[1]{\\textrm{#1}}$\n",
       "$\\newcommand{\\footnote}[1]{}$\n",
       "$\\newcommand{\\orcid}[1]$\n",
       "$\\newcommand\\natexlab{#1}$</div>\n",
       "\n",
       "\n",
       "\n",
       "<div id=\"title\">\n",
       "\n",
       "# $\\Euclid$: The $r_{\\rm b}$-$M_\\ast$ relation as a function of redshift. I. The $5\\expo{9}\\solarmass$ black hole in NGC 1272$\\thanks{This paper is    published on       behalf of the Euclid Consortium}$\n",
       "\n",
       "</div>\n",
       "<div id=\"comments\">\n",
       "\n",
       "[![arXiv](https://img.shields.io/badge/arXiv-2411.01927-b31b1b.svg)](https://arxiv.org/abs/2411.01927)<mark>Appeared on: 2024-11-05</mark> -  _Accepted for publication in A&A_\n",
       "\n",
       "</div>\n",
       "<div id=\"authors\">\n",
       "\n",
       "R. Saglia, et al. -- incl., <mark>K. Jahnke</mark>\n",
       "\n",
       "</div>\n",
       "<div id=\"abstract\">\n",
       "\n",
       "**Abstract:** Core ellipticals, massive    early-type galaxies with almost constant inner surface brightness    profiles, are the results of dry mergers. During these events a    binary black hole is formed, destroying the original cuspy central    regions of the merging objects and scattering stars that are not on    tangential orbits. The size of the emerging core correlates with    the mass of the finally merged black hole. Therefore, the    determination of the size of the core of massive early type    galaxies provides key insights not only on the mass of the black    hole, but also on the origin and evolution of these objects.    In this work we report the first $\\Euclid$ -based dynamical mass determination of a supermassive black    hole.  We perform it by studying the centre of NGC 1272, the    second most luminous elliptical galaxy in the Perseus cluster,    combining the $\\Euclid$ VIS photometry coming from the Early Release    Observations of the Perseus cluster with VIRUS spectroscopic    observations at the Hobby-Eberly Telescope.    The core of NGC 1272 is detected    on the $\\Euclid$ VIS image. Its size is $1\\arcsecf29\\pm 0\\arcsecf07$ or 0.45 $\\kiloparsec$ , determined by    fitting PSF-convolved core-Sérsic and Nuker-law functions. We    deproject the surface brightness profile of the galaxy, finding    that the galaxy is axisymmetric and nearly spherical. The    two-dimensional stellar kinematics of the galaxy is measured from    the VIRUS spectra by deriving optimally regularized non-parametric    line-of-sight velocity distributions. Dynamical models of the    galaxy are constructed using our axisymmetric and triaxial    Schwarzschild codes.    We measure a black hole mass of $(5\\pm3)\\expo{9}\\solarmass$ ,    in line with the expectation from the $M_{\\rm BH}$ - $r_{\\rm b}$ correlation, but eight times larger than    predicted by the $M_{\\rm BH}$ - $\\sigma$ correlation (at $1.8\\sigma$ significance).    The core size, rather than the velocity dispersion, allows one to    select galaxies harboring the most massive black holes. The    spatial resolution, wide area coverage, and depth of the $\\Euclid$ (Wide and Deep) surveys allow us to find cores of passive galaxies    larger than 2 $\\kiloparsec$ up to redshift 1.\n",
       "\n",
       "</div>\n",
       "\n",
       "<div id=\"div_fig1\">\n",
       "\n",
       "<img src=\"tmp_2411.01927/./newphot1272trim.png\" alt=\"Fig3\" width=\"100%\"/>\n",
       "\n",
       "**Figure 3. -** *Top Left:* surface brightness profile of NGC 1272,\n",
       "  measured from the \\Euclid VIS image, calibrated to the $V-$band\n",
       "  and corrected for Galactic absorption and cosmological dimming,\n",
       "  as a function of the 1/4 power of the semi-major distance\n",
       "  $A$ on the sky in arcsec. *Bottom Left:* the difference\n",
       "  $\\Delta$_ SB_ between the surface brightness profile of NGC 1272 and the\n",
       "  surface brightness of the core-Sérsic+Sérsic model.\n",
       "  *Right:* ellipticity $1-B/A$, where $B$ is the semi-minor\n",
       "  axis length on the sky (top) and PA (bottom) as a function of the 1/4\n",
       "  power of $A$.  The solid red lines show the core-Sérsic+Sérsic\n",
       "  model. The dashed lines show its core radius. The blue line shows\n",
       "  the ellipticity profile of the axisymmetric deprojection. The green\n",
       "  line shows the PA profile of the triaxial deprojection. (*Fig_photoN1272*)\n",
       "\n",
       "</div>\n",
       "<div id=\"div_fig2\">\n",
       "\n",
       "<img src=\"tmp_2411.01927/./pq_itvls_all_slz_xaxis_axi_trim.png\" alt=\"Fig5\" width=\"100%\"/>\n",
       "\n",
       "**Figure 5. -** Profiles of $p(r)$ and $q(r)$(where $p=b/a$, $q=c/a$ and $a$, $b$ and $c$ are the major,\n",
       "intermediate and minor semi-axis of the galaxy) derived from the axisymmetric (dotted), triaxial (full line), the spherical (dashed line), and prolate (dashed-dotted line) deprojections\n",
       "of the galaxy, as a function of the distance $r$ from the center.\n",
       "The red and blue shaded areas show the whole range of\n",
       "      allowed deprojections with ${\\rm RMS}\\le 1.2\\times{\\rm RMS_{min}}$ ([Saglia, et. al 2020](), [Saglia and Thomas 2022](), [Neureiter, et. al 2022]()) . (*Fig_pqprofiles*)\n",
       "\n",
       "</div>\n",
       "<div id=\"div_fig3\">\n",
       "\n",
       "<img src=\"tmp_2411.01927/./NGC1272_kinematic_map_trimmed.png\" alt=\"Fig11\" width=\"100%\"/>\n",
       "\n",
       "**Figure 11. -** Two-dimensional stellar kinematics of NGC 1272.\n",
       "      The horizontal and vertical dashed lines show the major and minor\n",
       "      axes of the galaxy, respectively. North is up and east is to the left. (*Fig_2dimKinN1272*)\n",
       "\n",
       "</div><div id=\"qrcode\"><img src=https://api.qrserver.com/v1/create-qr-code/?size=100x100&data=\"https://arxiv.org/abs/2411.01927\"></div>"
      ],
      "text/plain": [
       "<IPython.core.display.Markdown object>"
      ]
     },
     "metadata": {},
     "output_type": "display_data"
    }
   ],
   "source": [
    "[display(Markdown(k[1])) for k in documents];"
   ]
  },
  {
   "cell_type": "markdown",
   "id": "873873a4",
   "metadata": {
    "papermill": {
     "duration": 0.005551,
     "end_time": "2024-11-05T04:12:43.970211",
     "exception": false,
     "start_time": "2024-11-05T04:12:43.964660",
     "status": "completed"
    },
    "tags": []
   },
   "source": [
    "# Create HTML index"
   ]
  },
  {
   "cell_type": "code",
   "execution_count": 10,
   "id": "cf665672",
   "metadata": {
    "execution": {
     "iopub.execute_input": "2024-11-05T04:12:43.982163Z",
     "iopub.status.busy": "2024-11-05T04:12:43.981712Z",
     "iopub.status.idle": "2024-11-05T04:12:43.990226Z",
     "shell.execute_reply": "2024-11-05T04:12:43.989552Z"
    },
    "papermill": {
     "duration": 0.015619,
     "end_time": "2024-11-05T04:12:43.991222",
     "exception": false,
     "start_time": "2024-11-05T04:12:43.975603",
     "status": "completed"
    },
    "tags": []
   },
   "outputs": [
    {
     "name": "stdout",
     "output_type": "stream",
     "text": [
      "239  publications files modified in the last 7 days.\n"
     ]
    }
   ],
   "source": [
    "from datetime import datetime, timedelta, timezone\n",
    "from glob import glob\n",
    "import os\n",
    "\n",
    "files = glob('_build/html/*.md')\n",
    "days = 7\n",
    "now = datetime.today()\n",
    "res = []\n",
    "for fk in files:\n",
    "    stat_result = os.stat(fk).st_ctime\n",
    "    modified = datetime.fromtimestamp(stat_result, tz=timezone.utc).replace(tzinfo=None)\n",
    "    delta = now.today() - modified\n",
    "    if delta <= timedelta(days=days):\n",
    "        res.append((delta.seconds, fk))\n",
    "res = [k[1] for k in reversed(sorted(res, key=lambda x:x[1]))]\n",
    "npub = len(res)\n",
    "print(len(res), f\" publications files modified in the last {days:d} days.\")\n",
    "# [ print('\\t', k) for k in res ];"
   ]
  },
  {
   "cell_type": "code",
   "execution_count": 11,
   "id": "015de740",
   "metadata": {
    "execution": {
     "iopub.execute_input": "2024-11-05T04:12:44.003229Z",
     "iopub.status.busy": "2024-11-05T04:12:44.002828Z",
     "iopub.status.idle": "2024-11-05T04:12:44.019320Z",
     "shell.execute_reply": "2024-11-05T04:12:44.018679Z"
    },
    "papermill": {
     "duration": 0.023694,
     "end_time": "2024-11-05T04:12:44.020492",
     "exception": false,
     "start_time": "2024-11-05T04:12:43.996798",
     "status": "completed"
    },
    "tags": []
   },
   "outputs": [
    {
     "name": "stdout",
     "output_type": "stream",
     "text": [
      "10  publications in the last 7 days.\n"
     ]
    }
   ],
   "source": [
    "import datetime\n",
    "from glob import glob\n",
    "\n",
    "def get_last_n_days(lst, days=1):\n",
    "    \"\"\" Get the documents from the last n days \"\"\"\n",
    "    sorted_lst = sorted(lst, key=lambda x: x[1], reverse=True)\n",
    "    for fname, date in sorted_lst:\n",
    "        if date >= str(datetime.date.today() - datetime.timedelta(days=days)):\n",
    "            yield fname\n",
    "\n",
    "def extract_appearance_dates(lst_file):\n",
    "    dates = []\n",
    "\n",
    "    def get_date(line):\n",
    "        return line\\\n",
    "            .split('Appeared on:')[-1]\\\n",
    "            .split('</mark>')[0].strip()\n",
    "\n",
    "    for fname in lst:\n",
    "        with open(fname, 'r') as f:\n",
    "            found_date = False\n",
    "            for line in f:\n",
    "                if not found_date:\n",
    "                    if \"Appeared on\" in line:\n",
    "                        found_date = True\n",
    "                        dates.append((fname, get_date(line)))\n",
    "                else:\n",
    "                    break\n",
    "    return dates\n",
    "\n",
    "from glob import glob\n",
    "lst = glob('_build/html/*md')\n",
    "days = 7\n",
    "dates = extract_appearance_dates(lst)\n",
    "res = list(get_last_n_days(dates, days))\n",
    "npub = len(res)\n",
    "print(len(res), f\" publications in the last {days:d} days.\")"
   ]
  },
  {
   "cell_type": "code",
   "execution_count": 12,
   "id": "52ca0208",
   "metadata": {
    "execution": {
     "iopub.execute_input": "2024-11-05T04:12:44.033218Z",
     "iopub.status.busy": "2024-11-05T04:12:44.032676Z",
     "iopub.status.idle": "2024-11-05T04:12:44.037668Z",
     "shell.execute_reply": "2024-11-05T04:12:44.037143Z"
    },
    "papermill": {
     "duration": 0.012286,
     "end_time": "2024-11-05T04:12:44.038737",
     "exception": false,
     "start_time": "2024-11-05T04:12:44.026451",
     "status": "completed"
    },
    "scrolled": false,
    "tags": []
   },
   "outputs": [],
   "source": [
    "def create_carousel(npub=4):\n",
    "    \"\"\" Generate the HTML code for a carousel with `npub` slides \"\"\"\n",
    "    carousel = [\"\"\"  <div class=\"carousel\" \"\"\",\n",
    "                \"\"\"       data-flickity='{ \"autoPlay\": 10000, \"adaptiveHeight\": true, \"resize\": true, \"wrapAround\": true, \"pauseAutoPlayOnHover\": true, \"groupCells\": 1 }' id=\"asyncTypeset\">\"\"\"\n",
    "                ]\n",
    "    \n",
    "    item_str = \"\"\"    <div class=\"carousel-cell\"> <div id=\"slide{k}\" class=\"md_view\">Content {k}</div> </div>\"\"\"\n",
    "    for k in range(1, npub + 1):\n",
    "        carousel.append(item_str.format(k=k))\n",
    "    carousel.append(\"  </div>\")\n",
    "    return '\\n'.join(carousel)\n",
    "\n",
    "def create_grid(npub=4):\n",
    "    \"\"\" Generate the HTML code for a flat grid with `npub` slides \"\"\"\n",
    "    grid = [\"\"\"  <div class=\"grid\"> \"\"\",\n",
    "                ]\n",
    "    \n",
    "    item_str = \"\"\"    <div class=\"grid-item\"> <div id=\"slide{k}\" class=\"md_view\">Content {k}</div> </div>\"\"\"\n",
    "    for k in range(1, npub + 1):\n",
    "        grid.append(item_str.format(k=k))\n",
    "    grid.append(\"  </div>\")\n",
    "    return '\\n'.join(grid)"
   ]
  },
  {
   "cell_type": "code",
   "execution_count": 13,
   "id": "a6eac5b6",
   "metadata": {
    "execution": {
     "iopub.execute_input": "2024-11-05T04:12:44.051115Z",
     "iopub.status.busy": "2024-11-05T04:12:44.050688Z",
     "iopub.status.idle": "2024-11-05T04:12:44.055925Z",
     "shell.execute_reply": "2024-11-05T04:12:44.055350Z"
    },
    "papermill": {
     "duration": 0.012584,
     "end_time": "2024-11-05T04:12:44.057000",
     "exception": false,
     "start_time": "2024-11-05T04:12:44.044416",
     "status": "completed"
    },
    "scrolled": false,
    "tags": []
   },
   "outputs": [],
   "source": [
    "carousel = create_carousel(npub)\n",
    "docs = ', '.join(['\"{0:s}\"'.format(k.split('/')[-1]) for k in res])\n",
    "slides = ', '.join([f'\"slide{k}\"' for k in range(1, npub + 1)])\n",
    "\n",
    "with open(\"daily_template.html\", \"r\") as tpl:\n",
    "    page = tpl.read()\n",
    "    page = page.replace(\"{%-- carousel:s --%}\", carousel)\\\n",
    "               .replace(\"{%-- suptitle:s --%}\",  \"7-day archives\" )\\\n",
    "               .replace(\"{%-- docs:s --%}\", docs)\\\n",
    "               .replace(\"{%-- slides:s --%}\", slides)\n",
    "    \n",
    "with open(\"_build/html/index_7days.html\", 'w') as fout:\n",
    "    fout.write(page)"
   ]
  },
  {
   "cell_type": "code",
   "execution_count": 14,
   "id": "adc1a1ec",
   "metadata": {
    "execution": {
     "iopub.execute_input": "2024-11-05T04:12:44.069711Z",
     "iopub.status.busy": "2024-11-05T04:12:44.069271Z",
     "iopub.status.idle": "2024-11-05T04:12:44.076173Z",
     "shell.execute_reply": "2024-11-05T04:12:44.075481Z"
    },
    "papermill": {
     "duration": 0.014168,
     "end_time": "2024-11-05T04:12:44.077156",
     "exception": false,
     "start_time": "2024-11-05T04:12:44.062988",
     "status": "completed"
    },
    "tags": []
   },
   "outputs": [
    {
     "name": "stdout",
     "output_type": "stream",
     "text": [
      "2  publications in the last day.\n"
     ]
    }
   ],
   "source": [
    "# redo for today\n",
    "days = 1\n",
    "res = list(get_last_n_days(dates, days))\n",
    "npub = len(res)\n",
    "print(len(res), f\" publications in the last day.\")\n",
    "\n",
    "carousel = create_carousel(npub)\n",
    "docs = ', '.join(['\"{0:s}\"'.format(k.split('/')[-1]) for k in res])\n",
    "slides = ', '.join([f'\"slide{k}\"' for k in range(1, npub + 1)])\n",
    "\n",
    "with open(\"daily_template.html\", \"r\") as tpl:\n",
    "    page = tpl.read()\n",
    "    page = page.replace(\"{%-- carousel:s --%}\", carousel)\\\n",
    "               .replace(\"{%-- suptitle:s --%}\",  \"Daily\" )\\\n",
    "               .replace(\"{%-- docs:s --%}\", docs)\\\n",
    "               .replace(\"{%-- slides:s --%}\", slides)\n",
    "    \n",
    "# print(carousel, docs, slides)\n",
    "# print(page)\n",
    "with open(\"_build/html/index_daily.html\", 'w') as fout:\n",
    "    fout.write(page)"
   ]
  },
  {
   "cell_type": "code",
   "execution_count": 15,
   "id": "00eece82",
   "metadata": {
    "execution": {
     "iopub.execute_input": "2024-11-05T04:12:44.089997Z",
     "iopub.status.busy": "2024-11-05T04:12:44.089518Z",
     "iopub.status.idle": "2024-11-05T04:12:44.096252Z",
     "shell.execute_reply": "2024-11-05T04:12:44.095570Z"
    },
    "papermill": {
     "duration": 0.01431,
     "end_time": "2024-11-05T04:12:44.097323",
     "exception": false,
     "start_time": "2024-11-05T04:12:44.083013",
     "status": "completed"
    },
    "scrolled": false,
    "tags": []
   },
   "outputs": [
    {
     "name": "stdout",
     "output_type": "stream",
     "text": [
      "6  6 publications selected.\n"
     ]
    }
   ],
   "source": [
    "# Create the flat grid of the last N papers (fixed number regardless of dates)\n",
    "from itertools import islice \n",
    "\n",
    "npub = 6\n",
    "res = [k[0] for k in (islice(reversed(sorted(dates, key=lambda x: x[1])), 6))]\n",
    "print(len(res), f\" {npub} publications selected.\")\n",
    "\n",
    "grid = create_grid(npub)\n",
    "docs = ', '.join(['\"{0:s}\"'.format(k.split('/')[-1]) for k in res])\n",
    "slides = ', '.join([f'\"slide{k}\"' for k in range(1, npub + 1)])\n",
    "\n",
    "with open(\"grid_template.html\", \"r\") as tpl:\n",
    "    page = tpl.read()\n",
    "    page = page.replace(\"{%-- grid-content:s --%}\", grid)\\\n",
    "               .replace(\"{%-- suptitle:s --%}\",  f\"Last {npub:,d} papers\" )\\\n",
    "               .replace(\"{%-- docs:s --%}\", docs)\\\n",
    "               .replace(\"{%-- slides:s --%}\", slides)\n",
    "    \n",
    "# print(grid, docs, slides)\n",
    "# print(page)\n",
    "with open(\"_build/html/index_npub_grid.html\", 'w') as fout:\n",
    "    fout.write(page)"
   ]
  }
 ],
 "metadata": {
  "kernelspec": {
   "display_name": "Python 3 (ipykernel)",
   "language": "python",
   "name": "python3"
  },
  "language_info": {
   "codemirror_mode": {
    "name": "ipython",
    "version": 3
   },
   "file_extension": ".py",
   "mimetype": "text/x-python",
   "name": "python",
   "nbconvert_exporter": "python",
   "pygments_lexer": "ipython3",
   "version": "3.9.20"
  },
  "papermill": {
   "default_parameters": {},
   "duration": 112.096539,
   "end_time": "2024-11-05T04:12:44.520376",
   "environment_variables": {},
   "exception": null,
   "input_path": "MPIA daily digest.ipynb",
   "output_path": "log.ipynb",
   "parameters": {},
   "start_time": "2024-11-05T04:10:52.423837",
   "version": "2.6.0"
  },
  "vscode": {
   "interpreter": {
    "hash": "aee8b7b246df8f9039afb4144a1f6fd8d2ca17a180786b69acc140d282b71a49"
   }
  },
  "widgets": {
   "application/vnd.jupyter.widget-state+json": {
    "state": {
     "00af98089d7743ddb9caa5cea2096ffa": {
      "model_module": "@jupyter-widgets/base",
      "model_module_version": "2.0.0",
      "model_name": "LayoutModel",
      "state": {
       "_model_module": "@jupyter-widgets/base",
       "_model_module_version": "2.0.0",
       "_model_name": "LayoutModel",
       "_view_count": null,
       "_view_module": "@jupyter-widgets/base",
       "_view_module_version": "2.0.0",
       "_view_name": "LayoutView",
       "align_content": null,
       "align_items": null,
       "align_self": null,
       "border_bottom": null,
       "border_left": null,
       "border_right": null,
       "border_top": null,
       "bottom": null,
       "display": null,
       "flex": null,
       "flex_flow": null,
       "grid_area": null,
       "grid_auto_columns": null,
       "grid_auto_flow": null,
       "grid_auto_rows": null,
       "grid_column": null,
       "grid_gap": null,
       "grid_row": null,
       "grid_template_areas": null,
       "grid_template_columns": null,
       "grid_template_rows": null,
       "height": null,
       "justify_content": null,
       "justify_items": null,
       "left": null,
       "margin": null,
       "max_height": null,
       "max_width": null,
       "min_height": null,
       "min_width": null,
       "object_fit": null,
       "object_position": null,
       "order": null,
       "overflow": null,
       "padding": null,
       "right": null,
       "top": null,
       "visibility": null,
       "width": null
      }
     },
     "0e98e9ca9f1643ef98e5fa42786a479b": {
      "model_module": "@jupyter-widgets/controls",
      "model_module_version": "2.0.0",
      "model_name": "ProgressStyleModel",
      "state": {
       "_model_module": "@jupyter-widgets/controls",
       "_model_module_version": "2.0.0",
       "_model_name": "ProgressStyleModel",
       "_view_count": null,
       "_view_module": "@jupyter-widgets/base",
       "_view_module_version": "2.0.0",
       "_view_name": "StyleView",
       "bar_color": null,
       "description_width": ""
      }
     },
     "4266d91d1536462d977fbb1f2dc853b3": {
      "model_module": "@jupyter-widgets/base",
      "model_module_version": "2.0.0",
      "model_name": "LayoutModel",
      "state": {
       "_model_module": "@jupyter-widgets/base",
       "_model_module_version": "2.0.0",
       "_model_name": "LayoutModel",
       "_view_count": null,
       "_view_module": "@jupyter-widgets/base",
       "_view_module_version": "2.0.0",
       "_view_name": "LayoutView",
       "align_content": null,
       "align_items": null,
       "align_self": null,
       "border_bottom": null,
       "border_left": null,
       "border_right": null,
       "border_top": null,
       "bottom": null,
       "display": null,
       "flex": null,
       "flex_flow": null,
       "grid_area": null,
       "grid_auto_columns": null,
       "grid_auto_flow": null,
       "grid_auto_rows": null,
       "grid_column": null,
       "grid_gap": null,
       "grid_row": null,
       "grid_template_areas": null,
       "grid_template_columns": null,
       "grid_template_rows": null,
       "height": null,
       "justify_content": null,
       "justify_items": null,
       "left": null,
       "margin": null,
       "max_height": null,
       "max_width": null,
       "min_height": null,
       "min_width": null,
       "object_fit": null,
       "object_position": null,
       "order": null,
       "overflow": null,
       "padding": null,
       "right": null,
       "top": null,
       "visibility": null,
       "width": null
      }
     },
     "76710e3f57e14997b1e47d3e8d365b00": {
      "model_module": "@jupyter-widgets/controls",
      "model_module_version": "2.0.0",
      "model_name": "FloatProgressModel",
      "state": {
       "_dom_classes": [],
       "_model_module": "@jupyter-widgets/controls",
       "_model_module_version": "2.0.0",
       "_model_name": "FloatProgressModel",
       "_view_count": null,
       "_view_module": "@jupyter-widgets/controls",
       "_view_module_version": "2.0.0",
       "_view_name": "ProgressView",
       "bar_style": "success",
       "description": "",
       "description_allow_html": false,
       "layout": "IPY_MODEL_00af98089d7743ddb9caa5cea2096ffa",
       "max": 7.0,
       "min": 0.0,
       "orientation": "horizontal",
       "style": "IPY_MODEL_0e98e9ca9f1643ef98e5fa42786a479b",
       "tabbable": null,
       "tooltip": null,
       "value": 7.0
      }
     },
     "7936aadb9f1d4d34806ebbdaf88a84f0": {
      "model_module": "@jupyter-widgets/base",
      "model_module_version": "2.0.0",
      "model_name": "LayoutModel",
      "state": {
       "_model_module": "@jupyter-widgets/base",
       "_model_module_version": "2.0.0",
       "_model_name": "LayoutModel",
       "_view_count": null,
       "_view_module": "@jupyter-widgets/base",
       "_view_module_version": "2.0.0",
       "_view_name": "LayoutView",
       "align_content": null,
       "align_items": null,
       "align_self": null,
       "border_bottom": null,
       "border_left": null,
       "border_right": null,
       "border_top": null,
       "bottom": null,
       "display": null,
       "flex": null,
       "flex_flow": null,
       "grid_area": null,
       "grid_auto_columns": null,
       "grid_auto_flow": null,
       "grid_auto_rows": null,
       "grid_column": null,
       "grid_gap": null,
       "grid_row": null,
       "grid_template_areas": null,
       "grid_template_columns": null,
       "grid_template_rows": null,
       "height": null,
       "justify_content": null,
       "justify_items": null,
       "left": null,
       "margin": null,
       "max_height": null,
       "max_width": null,
       "min_height": null,
       "min_width": null,
       "object_fit": null,
       "object_position": null,
       "order": null,
       "overflow": null,
       "padding": null,
       "right": null,
       "top": null,
       "visibility": null,
       "width": null
      }
     },
     "81a6ba2fb15143db92768615afa879b1": {
      "model_module": "@jupyter-widgets/base",
      "model_module_version": "2.0.0",
      "model_name": "LayoutModel",
      "state": {
       "_model_module": "@jupyter-widgets/base",
       "_model_module_version": "2.0.0",
       "_model_name": "LayoutModel",
       "_view_count": null,
       "_view_module": "@jupyter-widgets/base",
       "_view_module_version": "2.0.0",
       "_view_name": "LayoutView",
       "align_content": null,
       "align_items": null,
       "align_self": null,
       "border_bottom": null,
       "border_left": null,
       "border_right": null,
       "border_top": null,
       "bottom": null,
       "display": null,
       "flex": null,
       "flex_flow": null,
       "grid_area": null,
       "grid_auto_columns": null,
       "grid_auto_flow": null,
       "grid_auto_rows": null,
       "grid_column": null,
       "grid_gap": null,
       "grid_row": null,
       "grid_template_areas": null,
       "grid_template_columns": null,
       "grid_template_rows": null,
       "height": null,
       "justify_content": null,
       "justify_items": null,
       "left": null,
       "margin": null,
       "max_height": null,
       "max_width": null,
       "min_height": null,
       "min_width": null,
       "object_fit": null,
       "object_position": null,
       "order": null,
       "overflow": null,
       "padding": null,
       "right": null,
       "top": null,
       "visibility": null,
       "width": null
      }
     },
     "85326f4ec91e421b9a37db74585e3e2e": {
      "model_module": "@jupyter-widgets/controls",
      "model_module_version": "2.0.0",
      "model_name": "HBoxModel",
      "state": {
       "_dom_classes": [],
       "_model_module": "@jupyter-widgets/controls",
       "_model_module_version": "2.0.0",
       "_model_name": "HBoxModel",
       "_view_count": null,
       "_view_module": "@jupyter-widgets/controls",
       "_view_module_version": "2.0.0",
       "_view_name": "HBoxView",
       "box_style": "",
       "children": [
        "IPY_MODEL_8b33715d732441899f1bb68bde0e08e0",
        "IPY_MODEL_76710e3f57e14997b1e47d3e8d365b00",
        "IPY_MODEL_ba2998d8cb074cde95c86663fb15aa38"
       ],
       "layout": "IPY_MODEL_4266d91d1536462d977fbb1f2dc853b3",
       "tabbable": null,
       "tooltip": null
      }
     },
     "8b33715d732441899f1bb68bde0e08e0": {
      "model_module": "@jupyter-widgets/controls",
      "model_module_version": "2.0.0",
      "model_name": "HTMLModel",
      "state": {
       "_dom_classes": [],
       "_model_module": "@jupyter-widgets/controls",
       "_model_module_version": "2.0.0",
       "_model_name": "HTMLModel",
       "_view_count": null,
       "_view_module": "@jupyter-widgets/controls",
       "_view_module_version": "2.0.0",
       "_view_name": "HTMLView",
       "description": "",
       "description_allow_html": false,
       "layout": "IPY_MODEL_7936aadb9f1d4d34806ebbdaf88a84f0",
       "placeholder": "​",
       "style": "IPY_MODEL_df4183d01cb44ec59e640740e85bf349",
       "tabbable": null,
       "tooltip": null,
       "value": "100%"
      }
     },
     "ba2998d8cb074cde95c86663fb15aa38": {
      "model_module": "@jupyter-widgets/controls",
      "model_module_version": "2.0.0",
      "model_name": "HTMLModel",
      "state": {
       "_dom_classes": [],
       "_model_module": "@jupyter-widgets/controls",
       "_model_module_version": "2.0.0",
       "_model_name": "HTMLModel",
       "_view_count": null,
       "_view_module": "@jupyter-widgets/controls",
       "_view_module_version": "2.0.0",
       "_view_name": "HTMLView",
       "description": "",
       "description_allow_html": false,
       "layout": "IPY_MODEL_81a6ba2fb15143db92768615afa879b1",
       "placeholder": "​",
       "style": "IPY_MODEL_f4c3070cad9c42208025f82329e88853",
       "tabbable": null,
       "tooltip": null,
       "value": " 7/7 [01:28&lt;00:00, 12.10s/it]"
      }
     },
     "df4183d01cb44ec59e640740e85bf349": {
      "model_module": "@jupyter-widgets/controls",
      "model_module_version": "2.0.0",
      "model_name": "HTMLStyleModel",
      "state": {
       "_model_module": "@jupyter-widgets/controls",
       "_model_module_version": "2.0.0",
       "_model_name": "HTMLStyleModel",
       "_view_count": null,
       "_view_module": "@jupyter-widgets/base",
       "_view_module_version": "2.0.0",
       "_view_name": "StyleView",
       "background": null,
       "description_width": "",
       "font_size": null,
       "text_color": null
      }
     },
     "f4c3070cad9c42208025f82329e88853": {
      "model_module": "@jupyter-widgets/controls",
      "model_module_version": "2.0.0",
      "model_name": "HTMLStyleModel",
      "state": {
       "_model_module": "@jupyter-widgets/controls",
       "_model_module_version": "2.0.0",
       "_model_name": "HTMLStyleModel",
       "_view_count": null,
       "_view_module": "@jupyter-widgets/base",
       "_view_module_version": "2.0.0",
       "_view_name": "StyleView",
       "background": null,
       "description_width": "",
       "font_size": null,
       "text_color": null
      }
     }
    },
    "version_major": 2,
    "version_minor": 0
   }
  }
 },
 "nbformat": 4,
 "nbformat_minor": 5
}