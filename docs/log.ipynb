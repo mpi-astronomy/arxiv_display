{
 "cells": [
  {
   "cell_type": "markdown",
   "id": "92bcb855",
   "metadata": {
    "papermill": {
     "duration": 0.003867,
     "end_time": "2025-09-18T04:13:15.913288",
     "exception": false,
     "start_time": "2025-09-18T04:13:15.909421",
     "status": "completed"
    },
    "tags": []
   },
   "source": [
    "# MPIA Arxiv on Deck 2\n",
    "\n",
    "Contains the steps to produce the paper extractions."
   ]
  },
  {
   "cell_type": "code",
   "execution_count": 1,
   "id": "3a0d6e11",
   "metadata": {
    "execution": {
     "iopub.execute_input": "2025-09-18T04:13:15.920582Z",
     "iopub.status.busy": "2025-09-18T04:13:15.920303Z",
     "iopub.status.idle": "2025-09-18T04:13:16.123818Z",
     "shell.execute_reply": "2025-09-18T04:13:16.123098Z"
    },
    "papermill": {
     "duration": 0.20868,
     "end_time": "2025-09-18T04:13:16.125230",
     "exception": false,
     "start_time": "2025-09-18T04:13:15.916550",
     "status": "completed"
    },
    "tags": []
   },
   "outputs": [],
   "source": [
    "# Imports\n",
    "import os\n",
    "from IPython.display import Markdown, display\n",
    "from tqdm.notebook import tqdm\n",
    "import warnings\n",
    "from PIL import Image \n",
    "import re\n",
    "\n",
    "# requires arxiv_on_deck_2\n",
    "\n",
    "from arxiv_on_deck_2.arxiv2 import (get_new_papers, \n",
    "                                    get_paper_from_identifier,\n",
    "                                    retrieve_document_source, \n",
    "                                    get_markdown_badge)\n",
    "from arxiv_on_deck_2 import (latex,\n",
    "                             latex_bib,\n",
    "                             mpia,\n",
    "                             highlight_authors_in_list)\n",
    "\n",
    "# Sometimes images are really big\n",
    "Image.MAX_IMAGE_PIXELS = 1000000000 "
   ]
  },
  {
   "cell_type": "code",
   "execution_count": 2,
   "id": "22aa9d44",
   "metadata": {
    "execution": {
     "iopub.execute_input": "2025-09-18T04:13:16.132437Z",
     "iopub.status.busy": "2025-09-18T04:13:16.132240Z",
     "iopub.status.idle": "2025-09-18T04:13:16.140446Z",
     "shell.execute_reply": "2025-09-18T04:13:16.139903Z"
    },
    "papermill": {
     "duration": 0.012824,
     "end_time": "2025-09-18T04:13:16.141433",
     "exception": false,
     "start_time": "2025-09-18T04:13:16.128609",
     "status": "completed"
    },
    "tags": []
   },
   "outputs": [],
   "source": [
    "# Some useful definitions.\n",
    "\n",
    "class AffiliationWarning(UserWarning):\n",
    "    pass\n",
    "\n",
    "class AffiliationError(RuntimeError):\n",
    "    pass\n",
    "\n",
    "def validation(source: str):\n",
    "    \"\"\"Raises error paper during parsing of source file\n",
    "    \n",
    "    Allows checks before parsing TeX code.\n",
    "    \n",
    "    Raises AffiliationWarning\n",
    "    \"\"\"\n",
    "    check = mpia.affiliation_verifications(source, verbose=True)\n",
    "    if check is not True:\n",
    "        raise AffiliationError(\"mpia.affiliation_verifications: \" + check)\n",
    "\n",
    "        \n",
    "warnings.simplefilter('always', AffiliationWarning)\n",
    "\n",
    "\n",
    "def get_markdown_qrcode(paper_id: str):\n",
    "    \"\"\" Generate a qrcode to the arxiv page using qrserver.com\n",
    "    \n",
    "    :param paper: Arxiv paper\n",
    "    :returns: markdown text\n",
    "    \"\"\"\n",
    "    url = r\"https://api.qrserver.com/v1/create-qr-code/?size=100x100&data=\"\n",
    "    txt = f\"\"\"<img src={url}\"https://arxiv.org/abs/{paper_id}\">\"\"\"\n",
    "    txt = '<div id=\"qrcode\">' + txt + '</div>'\n",
    "    return txt\n",
    "\n",
    "\n",
    "def clean_non_western_encoded_characters_commands(text: str) -> str:\n",
    "    \"\"\" Remove non-western encoded characters from a string\n",
    "    List may need to grow.\n",
    "    \n",
    "    :param text: the text to clean\n",
    "    :return: the cleaned text\n",
    "    \"\"\"\n",
    "    text = re.sub(r\"(\\\\begin{CJK}{UTF8}{gbsn})(.*?)(\\\\end{CJK})\", r\"\\2\", text)\n",
    "    return text\n",
    "\n",
    "\n",
    "def get_initials(name: str) -> str:\n",
    "    \"\"\" Get the short name, e.g., A.-B. FamName\n",
    "    :param name: full name\n",
    "    :returns: initials\n",
    "    \"\"\"\n",
    "    initials = []\n",
    "    # account for non western names often in ()\n",
    "    if '(' in name:\n",
    "        name = clean_non_western_encoded_characters_commands(name)\n",
    "        suffix = re.findall(r\"\\((.*?)\\)\", name)[0]\n",
    "        name = name.replace(f\"({suffix})\", '')\n",
    "    else:\n",
    "        suffix = ''\n",
    "    split = name.split()\n",
    "    for token in split[:-1]:\n",
    "        if '-' in token:\n",
    "            current = '-'.join([k[0] + '.' for k in token.split('-')])\n",
    "        else:\n",
    "            current = token[0] + '.'\n",
    "        initials.append(current)\n",
    "    initials.append(split[-1].strip())\n",
    "    if suffix:\n",
    "        initials.append(f\"({suffix})\")\n",
    "    return ' '.join(initials)"
   ]
  },
  {
   "cell_type": "markdown",
   "id": "14bd6310",
   "metadata": {
    "papermill": {
     "duration": 0.002868,
     "end_time": "2025-09-18T04:13:16.147315",
     "exception": false,
     "start_time": "2025-09-18T04:13:16.144447",
     "status": "completed"
    },
    "tags": []
   },
   "source": [
    "## get list of arxiv paper candidates\n",
    "\n",
    "We use the MPIA mitarbeiter list webpage from mpia.de to get author names\n",
    "We then get all new papers from Arxiv and match authors"
   ]
  },
  {
   "cell_type": "code",
   "execution_count": 3,
   "id": "7ea813a8",
   "metadata": {
    "execution": {
     "iopub.execute_input": "2025-09-18T04:13:16.153823Z",
     "iopub.status.busy": "2025-09-18T04:13:16.153637Z",
     "iopub.status.idle": "2025-09-18T04:13:40.748229Z",
     "shell.execute_reply": "2025-09-18T04:13:40.747558Z"
    },
    "papermill": {
     "duration": 24.599191,
     "end_time": "2025-09-18T04:13:40.749458",
     "exception": false,
     "start_time": "2025-09-18T04:13:16.150267",
     "status": "completed"
    },
    "tags": []
   },
   "outputs": [],
   "source": [
    "# deal with the author list and edge cases of people that cannot be consistent on their name  \n",
    "\n",
    "def filter_non_scientists(name: str) -> bool:\n",
    "    \"\"\" Loose filter on expected authorships\n",
    "\n",
    "    removing IT, administration, technical staff\n",
    "    :param name: name\n",
    "    :returns: False if name is not a scientist\n",
    "    \"\"\"\n",
    "    remove_list = ['Licht', 'Binroth', 'Witzel', 'Jordan',\n",
    "                   'Zähringer', 'Scheerer', 'Hoffmann', 'Düe',\n",
    "                   'Hellmich', 'Enkler-Scharpegge', 'Witte-Nguy',\n",
    "                   'Dehen', 'Beckmann', 'Jager', 'Jäger'\n",
    "                  ]\n",
    "\n",
    "    for k in remove_list:\n",
    "        if k in name:\n",
    "            return False\n",
    "    return True\n",
    "\n",
    "def add_author_to_list(author_list: list) -> list:\n",
    "    \"\"\" Add author to list if not already in list\n",
    "    \n",
    "    :param author: author name\n",
    "    :param author_list: list of authors\n",
    "    :returns: updated list of authors\n",
    "    \"\"\"\n",
    "    add_list = ['T. Henning']\n",
    "\n",
    "    for author in add_list:\n",
    "        if author not in author_list:\n",
    "            author_list.append(author)\n",
    "    return author_list\n",
    "\n",
    "# get list from MPIA website\n",
    "# filter for non-scientists (mpia.get_mpia_mitarbeiter_list() does some filtering)\n",
    "mpia_authors = [k[1] for k in mpia.get_mpia_mitarbeiter_list() if filter_non_scientists(k[1])]\n",
    "# add some missing author because of inconsistencies in their MPIA name and author name on papers\n",
    "mpia_authors = add_author_to_list(mpia_authors)"
   ]
  },
  {
   "cell_type": "code",
   "execution_count": 4,
   "id": "2645e73a",
   "metadata": {
    "execution": {
     "iopub.execute_input": "2025-09-18T04:13:40.756655Z",
     "iopub.status.busy": "2025-09-18T04:13:40.756458Z",
     "iopub.status.idle": "2025-09-18T04:13:41.645706Z",
     "shell.execute_reply": "2025-09-18T04:13:41.645099Z"
    },
    "papermill": {
     "duration": 0.894199,
     "end_time": "2025-09-18T04:13:41.646993",
     "exception": false,
     "start_time": "2025-09-18T04:13:40.752794",
     "status": "completed"
    },
    "tags": []
   },
   "outputs": [
    {
     "name": "stdout",
     "output_type": "stream",
     "text": [
      "S. Shahaf  ->  S. Shahaf  |  ['S. Shahaf']\n",
      "J. Müller-Horn  ->  J. Müller-Horn  |  ['J. Müller-Horn']\n",
      "H.-W. Rix  ->  H.-W. Rix  |  ['H.-W. Rix']\n",
      "C. Doughty  ->  C. Doughty  |  ['C. Doughty']\n",
      "T. Henning  ->  T. Henning  |  ['T. Henning']\n",
      "X. Zhang  ->  X. Zhang  |  ['X. Zhang']\n",
      "K. Kreckel  ->  K. Kreckel  |  ['K. Kreckel']\n",
      "J. Li  ->  J. Li  |  ['J. Li']\n",
      "E. Schinnerer  ->  E. Schinnerer  |  ['E. Schinnerer']\n",
      "W. Brandner  ->  W. Brandner  |  ['W. Brandner']\n",
      "P. Garcia  ->  A. P. Garcia  |  ['P. Garcia']\n",
      "S. Joharle  ->  S. Joharle  |  ['S. Joharle']\n",
      "L. Kreidberg  ->  L. Kreidberg  |  ['L. Kreidberg']\n"
     ]
    },
    {
     "name": "stdout",
     "output_type": "stream",
     "text": [
      "J. Sauter  ->  J. Sauter  |  ['J. Sauter']\n",
      "S. Jiao  ->  S. Jiao  |  ['S. Jiao']\n",
      "J. Li  ->  J. Li  |  ['J. Li']\n",
      "N. Wang  ->  N. Wang  |  ['N. Wang']\n",
      "X. Zhang  ->  X. Zhang  |  ['X. Zhang']\n",
      "A. Huber  ->  A. Huber  |  ['A. Huber']\n",
      "J. Schneider  ->  J. Schneider  |  ['J. Schneider']\n",
      "E.-M. Ahrer  ->  E.-M. Ahrer  |  ['E.-M. Ahrer']\n",
      "C. Gapp  ->  C. Gapp  |  ['C. Gapp']\n",
      "Arxiv has 62 new papers today\n",
      "          10 with possible author matches\n"
     ]
    }
   ],
   "source": [
    "new_papers = get_new_papers()\n",
    "# add manual references\n",
    "add_paper_refs = []\n",
    "new_papers.extend([get_paper_from_identifier(k) for k in add_paper_refs])\n",
    "\n",
    "def robust_call(fn, value, *args, **kwargs):\n",
    "    try:\n",
    "        return fn(value, *args, **kwargs)\n",
    "    except Exception:\n",
    "        return value\n",
    "\n",
    "candidates = []\n",
    "for paperk in new_papers:\n",
    "    # Check author list with their initials\n",
    "    normed_author_list = [robust_call(mpia.get_initials, k) for k in paperk['authors']]\n",
    "    hl_authors = highlight_authors_in_list(normed_author_list, mpia_authors, verbose=True)\n",
    "    matches = [(hl, orig) for hl, orig in zip(hl_authors, paperk['authors']) if 'mark' in hl]\n",
    "    paperk['authors'] = hl_authors\n",
    "    if matches:\n",
    "        # only select paper if an author matched our list\n",
    "        candidates.append(paperk)\n",
    "print(\"\"\"Arxiv has {0:,d} new papers today\"\"\".format(len(new_papers)))        \n",
    "print(\"\"\"          {0:,d} with possible author matches\"\"\".format(len(candidates)))"
   ]
  },
  {
   "cell_type": "markdown",
   "id": "3543b34a",
   "metadata": {
    "papermill": {
     "duration": 0.003182,
     "end_time": "2025-09-18T04:13:41.653697",
     "exception": false,
     "start_time": "2025-09-18T04:13:41.650515",
     "status": "completed"
    },
    "tags": []
   },
   "source": [
    "# Parse sources and generate relevant outputs\n",
    "\n",
    "From the candidates, we do the following steps:\n",
    "* get their tarball from ArXiv (and extract data)\n",
    "* find the main .tex file: find one with \\documentclass{...} (sometimes it's non trivial)\n",
    "* Check affiliations with :func:`validation`, which uses :func:`mpia.affiliation_verifications`\n",
    "* If passing the affiliations: we parse the .tex source\n",
    "   * inject sub-documents into the main (flatten the main document)\n",
    "   * parse structure, extract information (title, abstract, authors, figures...)\n",
    "   * handles `\\graphicspath` if provided\n",
    "* Generate the .md document."
   ]
  },
  {
   "cell_type": "code",
   "execution_count": 5,
   "id": "9576b79e",
   "metadata": {
    "execution": {
     "iopub.execute_input": "2025-09-18T04:13:41.660663Z",
     "iopub.status.busy": "2025-09-18T04:13:41.660434Z",
     "iopub.status.idle": "2025-09-18T04:15:36.731697Z",
     "shell.execute_reply": "2025-09-18T04:15:36.730891Z"
    },
    "papermill": {
     "duration": 115.080488,
     "end_time": "2025-09-18T04:15:36.737257",
     "exception": false,
     "start_time": "2025-09-18T04:13:41.656769",
     "status": "completed"
    },
    "scrolled": false,
    "tags": []
   },
   "outputs": [
    {
     "data": {
      "application/vnd.jupyter.widget-view+json": {
       "model_id": "f55255d4d0c846e6864847cf7bdbbb0a",
       "version_major": 2,
       "version_minor": 0
      },
      "text/plain": [
       "  0%|          | 0/10 [00:00<?, ?it/s]"
      ]
     },
     "metadata": {},
     "output_type": "display_data"
    },
    {
     "name": "stdout",
     "output_type": "stream",
     "text": [
      "Retrieving document from  https://arxiv.org/e-print/2509.13413\n"
     ]
    },
    {
     "name": "stdout",
     "output_type": "stream",
     "text": [
      "extracting tarball to tmp_2509.13413..."
     ]
    },
    {
     "name": "stdout",
     "output_type": "stream",
     "text": [
      " done.\n"
     ]
    },
    {
     "name": "stdout",
     "output_type": "stream",
     "text": [
      "S. Shahaf  ->  S. Shahaf  |  ['S. Shahaf']\n",
      "J. Müller-Horn  ->  J. Müller-Horn  |  ['J. Müller-Horn']\n",
      "H.-W. Rix  ->  H.-W. Rix  |  ['H.-W. Rix']\n"
     ]
    },
    {
     "name": "stdout",
     "output_type": "stream",
     "text": [
      "Found 82 bibliographic references in tmp_2509.13413/main.bbl.\n",
      "Error retrieving bib data for Shahaf_2024_TriageGaia: 'author'\n",
      "Retrieving document from  https://arxiv.org/e-print/2509.13498\n"
     ]
    },
    {
     "name": "stdout",
     "output_type": "stream",
     "text": [
      "extracting tarball to tmp_2509.13498..."
     ]
    },
    {
     "name": "stdout",
     "output_type": "stream",
     "text": [
      " done.\n",
      "Retrieving document from  https://arxiv.org/e-print/2509.13587\n"
     ]
    },
    {
     "name": "stdout",
     "output_type": "stream",
     "text": [
      "extracting tarball to tmp_2509.13587..."
     ]
    },
    {
     "name": "stdout",
     "output_type": "stream",
     "text": [
      " done.\n"
     ]
    },
    {
     "name": "stdout",
     "output_type": "stream",
     "text": [
      "T. Henning  ->  T. Henning  |  ['T. Henning']\n"
     ]
    },
    {
     "name": "stdout",
     "output_type": "stream",
     "text": [
      "Found 65 bibliographic references in tmp_2509.13587/main.bbl.\n",
      "Retrieving document from  https://arxiv.org/e-print/2509.13812\n"
     ]
    },
    {
     "name": "stdout",
     "output_type": "stream",
     "text": [
      "extracting tarball to tmp_2509.13812..."
     ]
    },
    {
     "name": "stdout",
     "output_type": "stream",
     "text": [
      " done.\n",
      "Retrieving document from  https://arxiv.org/e-print/2509.13845\n"
     ]
    },
    {
     "name": "stdout",
     "output_type": "stream",
     "text": [
      "extracting tarball to tmp_2509.13845..."
     ]
    },
    {
     "name": "stdout",
     "output_type": "stream",
     "text": [
      " done.\n"
     ]
    },
    {
     "name": "stderr",
     "output_type": "stream",
     "text": [
      "/opt/hostedtoolcache/Python/3.9.23/x64/lib/python3.9/site-packages/IPython/core/interactiveshell.py:3550: LatexWarning: Multiple tex files.\n",
      "\n",
      "  exec(code_obj, self.user_global_ns, self.user_ns)\n",
      "/opt/hostedtoolcache/Python/3.9.23/x64/lib/python3.9/site-packages/IPython/core/interactiveshell.py:3550: LatexWarning: Found documentclass in tmp_2509.13845/PAHs_in_HII_rev1_clean.tex\n",
      "\n",
      "  exec(code_obj, self.user_global_ns, self.user_ns)\n",
      "/opt/hostedtoolcache/Python/3.9.23/x64/lib/python3.9/site-packages/arxiv_on_deck_2/latex.py:414: LatexWarning: Latex injecting: 'authors' from 'tmp_2509.13845/authors.tex'\n",
      "  warnings.warn(LatexWarning(f\"Latex injecting: '{ext}' from '{subsource}'\"))\n"
     ]
    },
    {
     "name": "stderr",
     "output_type": "stream",
     "text": [
      "/opt/hostedtoolcache/Python/3.9.23/x64/lib/python3.9/site-packages/arxiv_on_deck_2/latex.py:488: LatexWarning: Error parsing the document directly. Trying to recover.\n",
      "  warnings.warn(LatexWarning(f\"Error parsing the document directly. Trying to recover.\"))\n"
     ]
    },
    {
     "name": "stdout",
     "output_type": "stream",
     "text": [
      "✔ → 0:header\n",
      "  ↳ 14036:\\section{Introduction}\n",
      "✔ → 14036:\\section{Introduction}\n",
      "  ↳ 20734:\\section{Observations}\n"
     ]
    },
    {
     "name": "stdout",
     "output_type": "stream",
     "text": [
      "✔ → 20734:\\section{Observations}\n",
      "  ↳ 32194:\\section{Analysis}\n"
     ]
    },
    {
     "name": "stdout",
     "output_type": "stream",
     "text": [
      "✔ → 32194:\\section{Analysis}\n",
      "  ↳ 48904:\\section{Results}\n"
     ]
    },
    {
     "name": "stdout",
     "output_type": "stream",
     "text": [
      "✔ → 48904:\\section{Results}\n",
      "  ↳ 63397:\\section{Discussion}\n"
     ]
    },
    {
     "name": "stdout",
     "output_type": "stream",
     "text": [
      "✔ → 63397:\\section{Discussion}\n",
      "  ↳ 96521:\\section{Summary}\n",
      "✔ → 96521:\\section{Summary}\n",
      "  ↳ 102588:\\section{Testing effects of background and stellar continuum subtraction}\n"
     ]
    },
    {
     "name": "stdout",
     "output_type": "stream",
     "text": [
      "✔ → 102588:\\section{Testing effects of background and stellar continuum subtraction}\n",
      "  ↳ 106312:\\section{Calibration of ${\\rm R_{PAH}^*}$ prescription}\n"
     ]
    },
    {
     "name": "stdout",
     "output_type": "stream",
     "text": [
      "✔ → 106312:\\section{Calibration of ${\\rm R_{PAH}^*}$ prescription}\n",
      "  ↳ 112071:\\section{Linking observational properties of \\HII regions with Cloudy models}\n",
      "✔ → 112071:\\section{Linking observational properties of \\HII regions with Cloudy models}\n",
      "  ↳ 118127:\\section{\\revone{Online catalog}}\n"
     ]
    },
    {
     "name": "stdout",
     "output_type": "stream",
     "text": [
      "✔ → 118127:\\section{\\revone{Online catalog}}\n",
      "  ↳ 122018:end\n"
     ]
    },
    {
     "name": "stdout",
     "output_type": "stream",
     "text": [
      "K. Kreckel  ->  K. Kreckel  |  ['K. Kreckel']\n",
      "J. Li  ->  J. Li  |  ['J. Li']\n",
      "E. Schinnerer  ->  E. Schinnerer  |  ['E. Schinnerer']\n"
     ]
    },
    {
     "name": "stdout",
     "output_type": "stream",
     "text": [
      "Found 134 bibliographic references in tmp_2509.13845/PAHs_in_HII_rev1_clean.bbl.\n",
      "Retrieving document from  https://arxiv.org/e-print/2509.13911\n"
     ]
    },
    {
     "name": "stdout",
     "output_type": "stream",
     "text": [
      "extracting tarball to tmp_2509.13911..."
     ]
    },
    {
     "name": "stdout",
     "output_type": "stream",
     "text": [
      " done.\n"
     ]
    },
    {
     "name": "stdout",
     "output_type": "stream",
     "text": [
      "Found 140 bibliographic references in tmp_2509.13911/aaJ0529.bbl.\n",
      "Issues with the citations\n",
      "syntax error in line 130: '=' expected\n",
      "Retrieving document from  https://arxiv.org/e-print/2509.13983\n"
     ]
    },
    {
     "name": "stdout",
     "output_type": "stream",
     "text": [
      "extracting tarball to tmp_2509.13983..."
     ]
    },
    {
     "name": "stdout",
     "output_type": "stream",
     "text": [
      " done.\n",
      "Retrieving document from  https://arxiv.org/e-print/2509.14016\n"
     ]
    },
    {
     "name": "stdout",
     "output_type": "stream",
     "text": [
      "extracting tarball to tmp_2509.14016..."
     ]
    },
    {
     "name": "stdout",
     "output_type": "stream",
     "text": [
      " done.\n",
      "Retrieving document from  https://arxiv.org/e-print/2509.14019\n"
     ]
    },
    {
     "name": "stdout",
     "output_type": "stream",
     "text": [
      "extracting tarball to tmp_2509.14019..."
     ]
    },
    {
     "name": "stdout",
     "output_type": "stream",
     "text": [
      " done.\n",
      "Retrieving document from  https://arxiv.org/e-print/2509.14224\n"
     ]
    },
    {
     "name": "stdout",
     "output_type": "stream",
     "text": [
      "extracting tarball to tmp_2509.14224..."
     ]
    },
    {
     "name": "stdout",
     "output_type": "stream",
     "text": [
      " done.\n"
     ]
    },
    {
     "name": "stderr",
     "output_type": "stream",
     "text": [
      "/opt/hostedtoolcache/Python/3.9.23/x64/lib/python3.9/site-packages/IPython/core/interactiveshell.py:3550: LatexWarning: Multiple tex files.\n",
      "\n",
      "  exec(code_obj, self.user_global_ns, self.user_ns)\n",
      "/opt/hostedtoolcache/Python/3.9.23/x64/lib/python3.9/site-packages/IPython/core/interactiveshell.py:3550: LatexWarning: Found documentclass in tmp_2509.14224/main.tex\n",
      "\n",
      "  exec(code_obj, self.user_global_ns, self.user_ns)\n",
      "/opt/hostedtoolcache/Python/3.9.23/x64/lib/python3.9/site-packages/arxiv_on_deck_2/latex.py:414: LatexWarning: Latex injecting: 'commanddef.tex' from 'tmp_2509.14224/commanddef.tex'\n",
      "  warnings.warn(LatexWarning(f\"Latex injecting: '{ext}' from '{subsource}'\"))\n"
     ]
    },
    {
     "name": "stdout",
     "output_type": "stream",
     "text": [
      "E.-M. Ahrer  ->  E.-M. Ahrer  |  ['E.-M. Ahrer']\n",
      "C. Gapp  ->  C. Gapp  |  ['C. Gapp']\n"
     ]
    },
    {
     "name": "stdout",
     "output_type": "stream",
     "text": [
      "Found 150 bibliographic references in tmp_2509.14224/main.bbl.\n",
      "Error retrieving bib data for krissansen2024erosion: 'author'\n"
     ]
    }
   ],
   "source": [
    "documents = []\n",
    "failed = []\n",
    "for paper in tqdm(candidates):\n",
    "    # debug crap\n",
    "    paper['identifier'] = paper['identifier'].lower().replace('arxiv:', '').replace(r'\\n', '').strip()\n",
    "    paper_id = paper['identifier']\n",
    "    \n",
    "    folder = f'tmp_{paper_id}'\n",
    "\n",
    "    try:\n",
    "        if not os.path.isdir(folder):\n",
    "            folder = retrieve_document_source(f\"{paper_id}\", f'tmp_{paper_id}')\n",
    "        \n",
    "        try:\n",
    "            doc = latex.LatexDocument(folder, validation=validation)    \n",
    "        except AffiliationError as affilerror:\n",
    "            msg = f\"ArXiv:{paper_id:s} is not an MPIA paper... \" + str(affilerror)\n",
    "            failed.append((paper, \"affiliation error: \" + str(affilerror) ))\n",
    "            continue\n",
    "        \n",
    "        # Hack because sometimes author parsing does not work well\n",
    "        if (len(doc.authors) != len(paper['authors'])):\n",
    "            doc._authors = paper['authors']\n",
    "        else:\n",
    "            # highlight authors (FIXME: doc.highlight_authors)\n",
    "            # done on arxiv paper already\n",
    "            doc._authors = highlight_authors_in_list(\n",
    "                [get_initials(k) for k in doc.authors], \n",
    "                mpia_authors, verbose=True)\n",
    "        if (doc.abstract) in (None, ''):\n",
    "            doc._abstract = paper['abstract']\n",
    "            \n",
    "        doc.comment = (get_markdown_badge(paper_id) + \n",
    "                       \"<mark>Appeared on: \" + paper['date'] + \"</mark> - \")\n",
    "        if paper['comments']:\n",
    "            doc.comment += \" _\" + paper['comments'] + \"_\"\n",
    "        \n",
    "        full_md = doc.generate_markdown_text()\n",
    "        \n",
    "        full_md += get_markdown_qrcode(paper_id)\n",
    "        \n",
    "        # replace citations\n",
    "        try:\n",
    "            bibdata = latex_bib.LatexBib.from_doc(doc)\n",
    "            full_md = latex_bib.replace_citations(full_md, bibdata)\n",
    "        except Exception as e:\n",
    "            print(\"Issues with the citations\")\n",
    "            print(e)\n",
    "        \n",
    "        documents.append((paper_id, full_md))\n",
    "    except Exception as e:\n",
    "        warnings.warn(latex.LatexWarning(f\"{paper_id:s} did not run properly\\n\" +\n",
    "                                         str(e)\n",
    "                                        ))\n",
    "        failed.append((paper, \"latex error \" + str(e)))"
   ]
  },
  {
   "cell_type": "markdown",
   "id": "2505a25c",
   "metadata": {
    "papermill": {
     "duration": 0.005167,
     "end_time": "2025-09-18T04:15:36.747725",
     "exception": false,
     "start_time": "2025-09-18T04:15:36.742558",
     "status": "completed"
    },
    "tags": []
   },
   "source": [
    "### Export the logs\n",
    "\n",
    "Throughout, we also keep track of the logs per paper. see `logs-{today date}.md` "
   ]
  },
  {
   "cell_type": "code",
   "execution_count": 6,
   "id": "d733828a",
   "metadata": {
    "execution": {
     "iopub.execute_input": "2025-09-18T04:15:36.759095Z",
     "iopub.status.busy": "2025-09-18T04:15:36.758781Z",
     "iopub.status.idle": "2025-09-18T04:15:36.780743Z",
     "shell.execute_reply": "2025-09-18T04:15:36.780093Z"
    },
    "papermill": {
     "duration": 0.028982,
     "end_time": "2025-09-18T04:15:36.781773",
     "exception": false,
     "start_time": "2025-09-18T04:15:36.752791",
     "status": "completed"
    },
    "scrolled": false,
    "tags": []
   },
   "outputs": [
    {
     "data": {
      "text/markdown": [
       "## Successful papers"
      ],
      "text/plain": [
       "<IPython.core.display.Markdown object>"
      ]
     },
     "metadata": {},
     "output_type": "display_data"
    },
    {
     "data": {
      "text/markdown": [
       "\n",
       "|||\n",
       "|---:|:---|\n",
       "| [![arXiv](https://img.shields.io/badge/arXiv-2509.13413-b31b1b.svg)](https://arxiv.org/abs/2509.13413) | **Gaia Barium Dwarfs and Their Ostensibly Ordinary Counterparts**  |\n",
       "|| P. Rekhi, et al. -- incl., <mark>S. Shahaf</mark>, <mark>J. Müller-Horn</mark>, <mark>H.-W. Rix</mark> |\n",
       "|*Appeared on*| *2025-09-18*|\n",
       "|*Comments*| **|\n",
       "|**Abstract**|            The recently identified Gaia population of main-sequence--white dwarf (MS+WD) binaries at separations of ${\\sim}\\,1~{\\rm AU}$, often with moderate eccentricities, is not readily reproduced by binary population synthesis models. Barium stars represent a closely related population whose enrichment in $s$-process elements both confirms the presence of a WD companion and attests to past binary interaction. It also indicates that mass transfer occurred at least during the late- and post-AGB phases of the WD progenitor, when $s$-process elements are dredged up. In this work, we further explore the connection between the astrometrically identified Gaia MS+WD binaries and the classical barium star population. To achieve this, we used high-resolution FEROS spectroscopy to measure abundances for 30 Gaia DR3 non-single-star binaries, identifying 10 as Ba-enriched. Together with our recent analysis of archival GALAH data, this yields a sample of 38 barium dwarfs with dynamically measured WD masses, compared to only 6 previously known systems with known WD masses at these separations. We find that, in cases where metallicity is sufficiently low to facilitate efficient $s$-process production, barium and yttrium enrichment is often detected. This enrichment is also identified in eccentric systems, suggesting that post-AGB mass transfer mechanisms are capable of pumping eccentricity into the orbit or occur without erasing it. Our results indicate that the Gaia MS+WD binaries trace the population from which barium stars emerge. Treating the large Gaia-discovered population as an extension of known $s$-process enriched dwarfs opens an avenue to empirically constrain their formation and evolution.         |"
      ],
      "text/plain": [
       "[2509.13413] Gaia Barium Dwarfs and Their Ostensibly Ordinary Counterparts\n",
       "\tP. Rekhi, et al. -- incl., <mark>S. Shahaf</mark>, <mark>J. Müller-Horn</mark>, <mark>H.-W. Rix</mark>"
      ]
     },
     "metadata": {},
     "output_type": "display_data"
    },
    {
     "data": {
      "text/markdown": [
       "\n",
       "|||\n",
       "|---:|:---|\n",
       "| [![arXiv](https://img.shields.io/badge/arXiv-2509.13587-b31b1b.svg)](https://arxiv.org/abs/2509.13587) | **Direct Imaging Explorations for Companions from the Subaru/IRD Strategic Program II; Discovery of a Brown-dwarf Companion around a Nearby mid-M~dwarf LSPM~J1446+4633**  |\n",
       "|| T. Uyama, et al. -- incl., <mark>T. Henning</mark> |\n",
       "|*Appeared on*| *2025-09-18*|\n",
       "|*Comments*| *11 pages, 7 figs, 4 tables, accepted for publication in AJ*|\n",
       "|**Abstract**|            We report the discovery of a new directly-imaged brown dwarf companion with Keck/NIRC2+pyWFS around a nearby mid-type M~dwarf LSPM~J1446+4633 (hereafter J1446). The $L'$-band contrast ($4.5\\times10^{-3}$) is consistent with a $\\sim20-60\\ M_{\\rm Jup}$ object at 1--10~Gyr and our two-epoch NIRC2 data suggest a $\\sim30\\%$ ($\\sim3.1\\sigma)$ variability in its $L'$-band flux. We incorporated Gaia DR3 non-single-star catalog into the orbital fitting by combining the Subaru/IRD RV monitoring results, NIRC2 direct imaging results, and Gaia proper motion acceleration. As a result, we derive ${59.8}_{-1.4}^{+1.5}\\ M_{\\rm Jup}$ and $\\approx4.3~{\\rm au}$ for the dynamical mass and the semi-major axis of the companion J1446B, respectively. J1446B is one of the intriguing late-T~dwarfs showing variability at $L'$-band for future atmospheric studies with the constrained dynamical mass. Because the J1446 system is accessible with various observation techniques such as astrometry, direct imaging, and high-resolution spectroscopy including radial velocity measurement, it has a potential as a great benchmark system to improve our understanding for cool dwarfs.         |"
      ],
      "text/plain": [
       "[2509.13587] Direct Imaging Explorations for Companions from the Subaru/IRD Strategic Program II; Discovery of a Brown-dwarf Companion around a Nearby mid-M~dwarf LSPM~J1446+4633\n",
       "\tT. Uyama, et al. -- incl., <mark>T. Henning</mark>"
      ]
     },
     "metadata": {},
     "output_type": "display_data"
    },
    {
     "data": {
      "text/markdown": [
       "\n",
       "|||\n",
       "|---:|:---|\n",
       "| [![arXiv](https://img.shields.io/badge/arXiv-2509.13845-b31b1b.svg)](https://arxiv.org/abs/2509.13845) | **Polycyclic aromatic hydrocarbons destruction in star-forming regions across 42 nearby galaxies**  |\n",
       "|| O. V. Egorov, et al. -- incl., <mark>K. Kreckel</mark>, <mark>J. Li</mark>, <mark>E. Schinnerer</mark> |\n",
       "|*Appeared on*| *2025-09-18*|\n",
       "|*Comments*| *19 pages, 15 figures. Accepted for publication in A&A*|\n",
       "|**Abstract**|            Polycyclic aromatic hydrocarbons (PAHs) are widespread in the interstellar medium (ISM) of Solar metallicity galaxies, where they play a critical role in ISM heating, cooling, and reprocessing stellar radiation. The PAH fraction, the abundance of PAHs relative to total dust mass, is a key parameter in ISM physics. Using JWST and MUSE observations of 42 galaxies from the PHANGS survey, we analyze the PAH fraction in over 17 000 H II regions spanning a gas-phase oxygen abundance of 12+log(O/H) = 8.0-8.8 (Z ~ 0.2-1.3 Zsun), and ~400 isolated supernova remnants (SNRs). We find a significantly lower PAH fraction toward H II regions compared to a reference sample of diffuse ISM areas at matched metallicity. At 12+log(O/H) > 8.2, the PAH fraction toward H II regions is strongly anti-correlated with the local ionization parameter, suggesting that PAH destruction is correlated with ionized gas and/or hydrogen-ionizing UV radiation. At lower metallicities, the PAH fraction declines steeply in both H II regions and the diffuse ISM, likely reflecting less efficient PAH formation in metal-poor environments. Carefully isolating dust emission from the vicinity of optically-identified supernova remnants, we see evidence for selective PAH destruction from measurements of lower PAH fractions, which is, however, indistinguishable at ~50 pc scales. Overall, our results point to ionizing radiation as the dominant agent of PAH destruction within H II regions, with metallicity playing a key role in their global abundance in galaxies.         |"
      ],
      "text/plain": [
       "[2509.13845] Polycyclic aromatic hydrocarbons destruction in star-forming regions across 42 nearby galaxies\n",
       "\tO. V. Egorov, et al. -- incl., <mark>K. Kreckel</mark>, <mark>J. Li</mark>, <mark>E. Schinnerer</mark>"
      ]
     },
     "metadata": {},
     "output_type": "display_data"
    },
    {
     "data": {
      "text/markdown": [
       "\n",
       "|||\n",
       "|---:|:---|\n",
       "| [![arXiv](https://img.shields.io/badge/arXiv-2509.13911-b31b1b.svg)](https://arxiv.org/abs/2509.13911) | **Spatially resolved broad line region in a quasar at z=4: Dynamical black hole mass and prominent outflow**  |\n",
       "|| G. Collaboration, et al. -- incl., <mark>W. Brandner</mark>, <mark>P. Garcia</mark>, <mark>S. Joharle</mark>, <mark>L. Kreidberg</mark>, <mark>J. Sauter</mark> |\n",
       "|*Appeared on*| *2025-09-18*|\n",
       "|*Comments*| *submitted to A&A (15 pages, 10 figures)*|\n",
       "|**Abstract**|            We present the first near-infrared interferometric data of a QSO at z=4. The K-band observations were performed with GRAVITY+ on the VLTI using all 4 UTs, detecting a differential phase signal that traces the spatially resolved kinematics for both the H$\\beta$ and H$\\gamma$ lines in the broad line region. We fit the two lines simultaneously with an updated model that includes distinct rotating and conical outflowing components. We find that more than 80\\% of the HI line emission from the BLR originates in an outflow with a velocity up to $10^4$ km s$^{-1}$. This is oriented so that our line of sight is along an edge of the conical structure, which produces the prominent blue wing on the line profile. A combination of anisotropic line emission and mid-plane opacity lead to the single-sided phase signal. The model is able to qualitatively match both the outflowing CIV line profile and the systemic OI fluorescent emission. The derived black hole mass of $8\\times10^8$ M$_\\odot$ is the highest redshift black hole mass measurement to date obtained directly from BLR dynamics. It is an order of magnitude lower than that inferred from various single epoch scaling relations, and implies that the accretion is highly super-Eddington. With reference to recent simulations, the data suggest that this QSO is emitting close to its radiative limit in a regime where strong outflows are expected around a polar conical region.         |"
      ],
      "text/plain": [
       "[2509.13911] Spatially resolved broad line region in a quasar at z=4: Dynamical black hole mass and prominent outflow\n",
       "\tG. Collaboration, et al. -- incl., <mark>W. Brandner</mark>, <mark>P. Garcia</mark>, <mark>S. Joharle</mark>, <mark>L. Kreidberg</mark>, <mark>J. Sauter</mark>"
      ]
     },
     "metadata": {},
     "output_type": "display_data"
    },
    {
     "data": {
      "text/markdown": [
       "\n",
       "|||\n",
       "|---:|:---|\n",
       "| [![arXiv](https://img.shields.io/badge/arXiv-2509.14224-b31b1b.svg)](https://arxiv.org/abs/2509.14224) | **Possible Evidence for the Presence of Volatiles on the Warm Super-Earth TOI-270 b**  |\n",
       "|| L.-P. Coulombe, et al. -- incl., <mark>E.-M. Ahrer</mark>, <mark>C. Gapp</mark> |\n",
       "|*Appeared on*| *2025-09-18*|\n",
       "|*Comments*| *Published in The Astronomical Journal*|\n",
       "|**Abstract**|            The search for atmospheres on rocky exoplanets is a crucial step in understanding the processes driving atmosphere formation, retention, and loss. Past studies have revealed the existence of planets interior to the radius valley with densities lower than would be expected for pure-rock compositions, indicative of the presence of large volatile inventories which could facilitate atmosphere retention. Here we present an analysis of the JWST NIRSpec/G395H transmission spectrum of the warm ($T_\\mathrm{eq,{A_B}=0}$ = 569 K) super-Earth TOI-270 b ($R_\\mathrm{p}$ = 1.306 $R_\\oplus$), captured alongside the transit of TOI-270 d. The JWST white light-curve transit depth updates TOI-270 b's density to $\\rho_\\mathrm{p}$ = 3.7 $\\pm$ 0.5 g/cm$^3$, inconsistent at 4.4$\\sigma$ with an Earth-like composition. Instead, the planet is best explained by a non-zero, percent-level water mass fraction, possibly residing on the surface or stored within the interior. The JWST transmission spectrum shows possible spectroscopic evidence for the presence of this water as part of an atmosphere on TOI-270 b, favoring a H$_2$O-rich steam atmosphere model over a flat spectrum ($\\ln\\mathcal{B}$ = $0.3-3.2$, inconclusive to moderate), with the exact significance depending on whether an offset parameter between the NIRSpec detectors is included. We leverage the transit of the twice-larger TOI-270 d crossing the stellar disk almost simultaneously to rule out the alternative hypothesis that the transit-light-source effect could have caused the water feature in TOI-270 b's observed transmission spectrum. Planetary evolution modeling furthermore shows that TOI-270 b could sustain a significant atmosphere on Gyr timescales, despite its high stellar irradiation, if it formed with a large initial volatile inventory.         |"
      ],
      "text/plain": [
       "[2509.14224] Possible Evidence for the Presence of Volatiles on the Warm Super-Earth TOI-270 b\n",
       "\tL.-P. Coulombe, et al. -- incl., <mark>E.-M. Ahrer</mark>, <mark>C. Gapp</mark>"
      ]
     },
     "metadata": {},
     "output_type": "display_data"
    },
    {
     "data": {
      "text/markdown": [
       "## Failed papers"
      ],
      "text/plain": [
       "<IPython.core.display.Markdown object>"
      ]
     },
     "metadata": {},
     "output_type": "display_data"
    },
    {
     "data": {
      "text/markdown": [
       "\n",
       "|||\n",
       "|---:|:---|\n",
       "| [![arXiv](https://img.shields.io/badge/arXiv-2509.13498-b31b1b.svg)](https://arxiv.org/abs/2509.13498) | **Using Neural Emulators and Hamiltonian Monte Carlo to constrain the Epoch of Reionization's History with the Ly$α$ Forest Power Spectrum**  |\n",
       "|| D. González-Hernández, et al. -- incl., <mark>C. Doughty</mark> |\n",
       "|*Appeared on*| *2025-09-18*|\n",
       "|*Comments*| *Submitted to MNRAS*|\n",
       "|**Abstract**|            The Lyman-alpha (Ly$\\alpha$) forest at $z \\sim 5$ offers a primary probe to constrain the history of the Epoch of Reionization (EoR), retaining thermal and ionization signatures imprinted by the reionization process. In this work, we present a new inference framework based on JAX that combines forward-modeled Ly$\\alpha$ forest observables with differentiable neural emulators and Hamiltonian Monte Carlo (HMC). We construct a dataset of 501 low-resolution simulations generated with user-defined reionization histories and compute a set of 1D Ly$\\alpha$ power spectra and model-dependent covariance matrices. We then train two independent neural emulators that achieve sub-percent errors across relevant scales and combine them with HMC to efficiently perform parameter estimation. We validate this framework by applying it to a suite of mock observations, demonstrating that the true parameters are reliably recovered. While this work is limited by the low resolution of the simulations used, our results highlight the potential of this method for inferring the reionization history from high-redshift Ly$\\alpha$ forest measurements. Future improvements in our reionization models will further enhance its ability to extract constraints from observational datasets.         |\n",
       "|<p style=\"color:green\"> **ERROR** </p>| <p style=\"color:green\">affiliation error: mpia.affiliation_verifications: 'Heidelberg' keyword not found.</p> |"
      ],
      "text/plain": [
       "<IPython.core.display.Markdown object>"
      ]
     },
     "metadata": {},
     "output_type": "display_data"
    },
    {
     "data": {
      "text/markdown": [
       "\n",
       "|||\n",
       "|---:|:---|\n",
       "| [![arXiv](https://img.shields.io/badge/arXiv-2509.13812-b31b1b.svg)](https://arxiv.org/abs/2509.13812) | **Fermi-LAT Detected Gamma-ray Emission Likely Associated with SNR Kes 78**  |\n",
       "|| Y.-Z. Shen, Y. Chen, <mark>X. Zhang</mark>, C. Huang |\n",
       "|*Appeared on*| *2025-09-18*|\n",
       "|*Comments*| *To appear in the Astrophysical Journal. 12 pages, 5 figures*|\n",
       "|**Abstract**|            We have analyzed the GeV gamma-ray emission in the region of the supernova remnant (SNR) Kes 78 using $\\sim$16.7 years of Fermi-LAT observations and found that the catalog sources 4FGL J1852.4+0037e and 4FGL J1851.8$-$0007c are better represented as two extended sources modeled as `2Ext'. One of them, designated as E2, is located at R.A.$=282.86^\\circ$, Dec.$=-0.11^\\circ$ with the 68\\% containment radius $R_{68} = 0.31^\\circ$, and is detected with a significance of 15.2$\\sigma$ in the 0.2--500 GeV energy range. The gamma-ray emission of source E2 is well described by a log-parabola (LogP) spectral model with spectral index $\\Gamma$ = 1.2 and curvature $\\beta$ = 0.3. The fitting with electron-proton number ratio $K_{\\rm ep}=0.01$ indicates that the GeV emission of source E2 is dominated by hadronic emission. Given the dense molecular environment surrounding the middle-aged SNR Kes 78, the hadronic scenario provides a natural explanation for the observed GeV emission. The extended source E2 can also be replaced with two point sources. One of them, designated as PTS1, is coincident with the newly discovered PSR J1852$-$0002g within the 68\\% positional uncertainty circle, indicating a possible gamma-ray contribution from this PSR. The gamma-ray spectrum of source PTS1 can be well described by a LogP spectral shape. The synchro-curvature radiation model provides a satisfactory spectral fit for source PTS1, suggesting that some of the GeV emission from the Kes 78 region might possibly originate from the magnetosphere of PSR J1852$-$0002g.         |\n",
       "|<p style=\"color:green\"> **ERROR** </p>| <p style=\"color:green\">affiliation error: mpia.affiliation_verifications: 'Heidelberg' keyword not found.</p> |"
      ],
      "text/plain": [
       "<IPython.core.display.Markdown object>"
      ]
     },
     "metadata": {},
     "output_type": "display_data"
    },
    {
     "data": {
      "text/markdown": [
       "\n",
       "|||\n",
       "|---:|:---|\n",
       "| [![arXiv](https://img.shields.io/badge/arXiv-2509.13983-b31b1b.svg)](https://arxiv.org/abs/2509.13983) | **Scientific Objectives of the Xue-shan-mu-chang 15-meter Submillimeter Telescope**  |\n",
       "|| X. P. C. Group, et al. -- incl., <mark>S. Jiao</mark>, <mark>J. Li</mark>, <mark>N. Wang</mark>, <mark>X. Zhang</mark> |\n",
       "|*Appeared on*| *2025-09-18*|\n",
       "|*Comments*| *Accepted by Science China Physics, Mechanics & Astronomy*|\n",
       "|**Abstract**|            Submillimeter astronomy is poised to revolutionize our understanding of the Universe by revealing cosmic phenomena hidden from optical and near-infrared observations, particularly those associated with interstellar dust, molecular gas, and star formation. The Xue-shan-mu-chang 15-meter submillimeter telescope (XSMT-15m), to be constructed at a premier high-altitude site (4813 m) in Qinghai, China, marks a major milestone for Chinese astronomy, establishing the China mainland's first independently developed, world-class submillimeter facility. Equipped with state-of-the-art instruments, XSMT-15m will address a diverse range of frontier scientific questions spanning extragalactic astronomy, Galactic structure, time-domain astrophysics, and astrochemistry. In synergy with current and forthcoming observatories, XSMT-15m will illuminate the formation and evolution of galaxies, unravel the physical and chemical processes shaping the interstellar medium, and explore transient phenomena in the submillimeter regime. These capabilities will advance our understanding across extragalactic astronomy, Galactic ecology, astrochemistry, and time-domain astrophysics, inaugurating a new era for submillimeter research in China and the northern hemisphere.         |\n",
       "|<p style=\"color:green\"> **ERROR** </p>| <p style=\"color:green\">affiliation error: mpia.affiliation_verifications: 'Heidelberg' keyword not found.</p> |"
      ],
      "text/plain": [
       "<IPython.core.display.Markdown object>"
      ]
     },
     "metadata": {},
     "output_type": "display_data"
    },
    {
     "data": {
      "text/markdown": [
       "\n",
       "|||\n",
       "|---:|:---|\n",
       "| [![arXiv](https://img.shields.io/badge/arXiv-2509.14016-b31b1b.svg)](https://arxiv.org/abs/2509.14016) | **Improving cosmological reach of a gravitational wave observatory using Deep Loop Shaping**  |\n",
       "|| J. Buchli, et al. -- incl., <mark>A. Huber</mark> |\n",
       "|*Appeared on*| *2025-09-18*|\n",
       "|*Comments*| **|\n",
       "|**Abstract**|            Improved low-frequency sensitivity of gravitational wave observatories would unlock study of intermediate-mass black hole mergers, binary black hole eccentricity, and provide early warnings for multi-messenger observations of binary neutron star mergers. Today's mirror stabilization control injects harmful noise, constituting a major obstacle to sensitivity improvements. We eliminated this noise through Deep Loop Shaping, a reinforcement learning method using frequency domain rewards. We proved our methodology on the LIGO Livingston Observatory (LLO). Our controller reduced control noise in the 10--30Hz band by over 30x, and up to 100x in sub-bands surpassing the design goal motivated by the quantum limit. These results highlight the potential of Deep Loop Shaping to improve current and future GW observatories, and more broadly instrumentation and control systems.         |\n",
       "|<p style=\"color:green\"> **ERROR** </p>| <p style=\"color:green\">affiliation error: mpia.affiliation_verifications: 'Heidelberg' keyword not found.</p> |"
      ],
      "text/plain": [
       "<IPython.core.display.Markdown object>"
      ]
     },
     "metadata": {},
     "output_type": "display_data"
    },
    {
     "data": {
      "text/markdown": [
       "\n",
       "|||\n",
       "|---:|:---|\n",
       "| [![arXiv](https://img.shields.io/badge/arXiv-2509.14019-b31b1b.svg)](https://arxiv.org/abs/2509.14019) | **The Galaxy Activity, Torus, and Outflow Survey (GATOS): TBD. Unveiling physical processes in local active galaxies. Unsupervised hierarchical clustering of JWST MIRI/MRS observations**  |\n",
       "|| L. H. Muñoz, et al. -- incl., <mark>J. Schneider</mark> |\n",
       "|*Appeared on*| *2025-09-18*|\n",
       "|*Comments*| *Submitted to A&A*|\n",
       "|**Abstract**|            With the rise of the integral field spectroscopy, we are currently dealing with large amounts of spatially resolved data, whose analysis has become challenging, especially when observing complex objects such as nearby galaxies. We aim to develop a method to automatically separate different physical regions within the central parts (1\"~160 pc, on average) of galaxies. This can allow us to better understand the systems, and provide an initial characterisation of the main ionisation sources affecting its evolution. We have developed an unsupervised hierarchical clustering algorithm to analyse data cubes based on spectral similarity. It clusters together spaxels with similar spectra, which is useful to disentangle between different physical processes. We have applied this method to a sample of 15 nearby (distances <100 Mpc) galaxies, 7 from the Galaxy Activity, Torus, and Outflow Survey (GATOS) and 8 archival sources, all observed with the medium resolution spectrometer (MRS) of the Mid-Infrared Instrument (MIRI) on board of the JWST. From the clusters, we computed their median spectrum and measured the line and continuum properties. We used these measurements to train random forest models and create several empirical mid-IR diagnostic diagrams for the MRS channel 3 wavelength range, including among others the bright [Ne II], [Ne III], and [Ne V] lines, several H2 transitions, and PAH features. The clustering technique allows to differentiate emission coming from an AGN, the disc, and star forming regions in galaxies, and other composite regions, potentially ionised by several sources simultaneously. This is supported by the results from the empirical diagnostic diagrams, that are indeed able to separate physically distinct regions. This innovative method serves as a tool to identify regions of interest in any data cube prior to an in-depth analysis of the sources. [abridged]         |\n",
       "|<p style=\"color:green\"> **ERROR** </p>| <p style=\"color:green\">affiliation error: mpia.affiliation_verifications: 'Heidelberg' keyword not found.</p> |"
      ],
      "text/plain": [
       "<IPython.core.display.Markdown object>"
      ]
     },
     "metadata": {},
     "output_type": "display_data"
    }
   ],
   "source": [
    "import datetime\n",
    "today = str(datetime.date.today())\n",
    "logfile = f\"_build/html/logs/log-{today}.md\"\n",
    "\n",
    "\n",
    "with open(logfile, 'w') as logs:\n",
    "    # Success\n",
    "    logs.write(f'# Arxiv on Deck 2: Logs - {today}\\n\\n')\n",
    "    logs.write(\"\"\"* Arxiv had {0:,d} new papers\\n\"\"\".format(len(new_papers)))\n",
    "    logs.write(\"\"\"    * {0:,d} with possible author matches\\n\\n\"\"\".format(len(candidates)))\n",
    "    logs.write(\"## Sucessful papers\\n\\n\")\n",
    "    display(Markdown(\"## Successful papers\"))\n",
    "    success = [k[0] for k in documents]\n",
    "    for candid in candidates:\n",
    "        if candid['identifier'].split(':')[-1] in success:\n",
    "            display(candid)\n",
    "            logs.write(candid.generate_markdown_text() + '\\n\\n')\n",
    "\n",
    "    ## failed\n",
    "    logs.write(\"## Failed papers\\n\\n\")\n",
    "    display(Markdown(\"## Failed papers\"))\n",
    "    failed = sorted(failed, key=lambda x: x[1])\n",
    "    current_reason = \"\"\n",
    "    for paper, reason in failed:\n",
    "        if 'affiliation' in reason:\n",
    "            color = 'green'\n",
    "        else:\n",
    "            color = 'red'\n",
    "        data = Markdown(\n",
    "                paper.generate_markdown_text() + \n",
    "                f'\\n|<p style=\"color:{color:s}\"> **ERROR** </p>| <p style=\"color:{color:s}\">{reason:s}</p> |'\n",
    "               )\n",
    "        if reason != current_reason:\n",
    "            logs.write(f'### {reason:s} \\n\\n')\n",
    "            current_reason = reason\n",
    "        logs.write(data.data + '\\n\\n')\n",
    "        \n",
    "        # only display here the important errors (all in logs)\n",
    "        # if color in ('red',):\n",
    "        display(data)"
   ]
  },
  {
   "cell_type": "markdown",
   "id": "472d20ee",
   "metadata": {
    "papermill": {
     "duration": 0.006188,
     "end_time": "2025-09-18T04:15:36.794824",
     "exception": false,
     "start_time": "2025-09-18T04:15:36.788636",
     "status": "completed"
    },
    "tags": []
   },
   "source": [
    "## Export documents\n",
    "\n",
    "We now write the .md files and export relevant images"
   ]
  },
  {
   "cell_type": "code",
   "execution_count": 7,
   "id": "d426aed9",
   "metadata": {
    "execution": {
     "iopub.execute_input": "2025-09-18T04:15:36.808143Z",
     "iopub.status.busy": "2025-09-18T04:15:36.807897Z",
     "iopub.status.idle": "2025-09-18T04:15:36.814723Z",
     "shell.execute_reply": "2025-09-18T04:15:36.814188Z"
    },
    "papermill": {
     "duration": 0.014704,
     "end_time": "2025-09-18T04:15:36.815735",
     "exception": false,
     "start_time": "2025-09-18T04:15:36.801031",
     "status": "completed"
    },
    "tags": []
   },
   "outputs": [],
   "source": [
    "def export_markdown_summary(md: str, md_fname:str, directory: str):\n",
    "    \"\"\"Export MD document and associated relevant images\"\"\"\n",
    "    import os\n",
    "    import shutil\n",
    "    import re\n",
    "\n",
    "    if (os.path.exists(directory) and not os.path.isdir(directory)):\n",
    "        raise RuntimeError(f\"a non-directory file exists with name {directory:s}\")\n",
    "\n",
    "    if (not os.path.exists(directory)):\n",
    "        print(f\"creating directory {directory:s}\")\n",
    "        os.mkdir(directory)\n",
    "\n",
    "    fig_fnames = (re.compile(r'\\[Fig.*\\]\\((.*)\\)').findall(md) + \n",
    "                  re.compile(r'\\<img src=\"([^>\\s]*)\"[^>]*/>').findall(md))\n",
    "    print(\"found figures\", fig_fnames)\n",
    "    for fname in fig_fnames:\n",
    "        if 'http' in fname:\n",
    "            # No need to copy online figures\n",
    "            continue\n",
    "        if not os.path.exists(fname):\n",
    "            print(\"file not found\", fname)\n",
    "            continue\n",
    "        print(\"copying \", fname, \"to\", directory)\n",
    "        destdir = os.path.join(directory, os.path.dirname(fname))\n",
    "        destfname = os.path.join(destdir, os.path.basename(fname))\n",
    "        try:\n",
    "            os.makedirs(destdir)\n",
    "        except FileExistsError:\n",
    "            pass\n",
    "        shutil.copy(fname, destfname)\n",
    "    with open(os.path.join(directory, md_fname), 'w') as fout:\n",
    "        fout.write(md)\n",
    "    print(\"exported in \", os.path.join(directory, md_fname))\n",
    "    [print(\"    + \" + os.path.join(directory,fk)) for fk in fig_fnames]"
   ]
  },
  {
   "cell_type": "code",
   "execution_count": 8,
   "id": "014d04a4",
   "metadata": {
    "execution": {
     "iopub.execute_input": "2025-09-18T04:15:36.829303Z",
     "iopub.status.busy": "2025-09-18T04:15:36.829098Z",
     "iopub.status.idle": "2025-09-18T04:15:36.849267Z",
     "shell.execute_reply": "2025-09-18T04:15:36.848718Z"
    },
    "papermill": {
     "duration": 0.028127,
     "end_time": "2025-09-18T04:15:36.850325",
     "exception": false,
     "start_time": "2025-09-18T04:15:36.822198",
     "status": "completed"
    },
    "tags": []
   },
   "outputs": [
    {
     "name": "stdout",
     "output_type": "stream",
     "text": [
      "found figures ['tmp_2509.13413/figures/P_e_general.jpg', 'tmp_2509.13413/figures/color_feh_yfe_bafe.jpg', 'tmp_2509.13413/figures/color_feh_yfe_ecc.jpg', 'tmp_2509.13413/figures/color_feh_yfe_mwd.jpg']\n",
      "copying  tmp_2509.13413/figures/P_e_general.jpg to _build/html/\n",
      "copying  tmp_2509.13413/figures/color_feh_yfe_bafe.jpg to _build/html/\n",
      "copying  tmp_2509.13413/figures/color_feh_yfe_ecc.jpg to _build/html/\n",
      "copying  tmp_2509.13413/figures/color_feh_yfe_mwd.jpg to _build/html/\n",
      "exported in  _build/html/2509.13413.md\n",
      "    + _build/html/tmp_2509.13413/figures/P_e_general.jpg\n",
      "    + _build/html/tmp_2509.13413/figures/color_feh_yfe_bafe.jpg\n",
      "    + _build/html/tmp_2509.13413/figures/color_feh_yfe_ecc.jpg\n",
      "    + _build/html/tmp_2509.13413/figures/color_feh_yfe_mwd.jpg\n",
      "found figures ['tmp_2509.13587/./astrometric_orbit_J1446.png', 'tmp_2509.13587/./RV_OC_J1446_InstAll.png', 'tmp_2509.13587/./J1446_lightcurve-SPOC.png', 'tmp_2509.13587/./cpmtest_J1446.png']\n",
      "copying  tmp_2509.13587/./astrometric_orbit_J1446.png to _build/html/\n",
      "copying  tmp_2509.13587/./RV_OC_J1446_InstAll.png to _build/html/\n",
      "copying  tmp_2509.13587/./J1446_lightcurve-SPOC.png to _build/html/\n",
      "copying  tmp_2509.13587/./cpmtest_J1446.png to _build/html/\n",
      "exported in  _build/html/2509.13587.md\n",
      "    + _build/html/tmp_2509.13587/./astrometric_orbit_J1446.png\n",
      "    + _build/html/tmp_2509.13587/./RV_OC_J1446_InstAll.png\n",
      "    + _build/html/tmp_2509.13587/./J1446_lightcurve-SPOC.png\n",
      "    + _build/html/tmp_2509.13587/./cpmtest_J1446.png\n",
      "found figures ['tmp_2509.13845/./figs/RPAH_vs_ip_v20_rev1.png', 'tmp_2509.13845/./figs/RPAH_vs_ip_v20_resolved_rev1.png', 'tmp_2509.13845/./figs/hist_diff_hii_rpah7_v20_rev1.png', 'tmp_2509.13845/./figs/RPAH_vs_met_v2p0_rev1.png']\n",
      "copying  tmp_2509.13845/./figs/RPAH_vs_ip_v20_rev1.png to _build/html/\n",
      "copying  tmp_2509.13845/./figs/RPAH_vs_ip_v20_resolved_rev1.png to _build/html/\n",
      "copying  tmp_2509.13845/./figs/hist_diff_hii_rpah7_v20_rev1.png to _build/html/\n",
      "copying  tmp_2509.13845/./figs/RPAH_vs_met_v2p0_rev1.png to _build/html/\n",
      "exported in  _build/html/2509.13845.md\n",
      "    + _build/html/tmp_2509.13845/./figs/RPAH_vs_ip_v20_rev1.png\n",
      "    + _build/html/tmp_2509.13845/./figs/RPAH_vs_ip_v20_resolved_rev1.png\n",
      "    + _build/html/tmp_2509.13845/./figs/hist_diff_hii_rpah7_v20_rev1.png\n",
      "    + _build/html/tmp_2509.13845/./figs/RPAH_vs_met_v2p0_rev1.png\n",
      "found figures ['tmp_2509.13911/./GRAVITY_avg_phase.png', 'tmp_2509.13911/./GRAVITY_outflow_vs_disk.png', 'tmp_2509.13911/./specJ0529s_fit.png', 'tmp_2509.13911/./GRAVITY_line_comparison.png']\n",
      "copying  tmp_2509.13911/./GRAVITY_avg_phase.png to _build/html/\n",
      "copying  tmp_2509.13911/./GRAVITY_outflow_vs_disk.png to _build/html/\n",
      "copying  tmp_2509.13911/./specJ0529s_fit.png to _build/html/\n",
      "copying  tmp_2509.13911/./GRAVITY_line_comparison.png to _build/html/\n",
      "exported in  _build/html/2509.13911.md\n",
      "    + _build/html/tmp_2509.13911/./GRAVITY_avg_phase.png\n",
      "    + _build/html/tmp_2509.13911/./GRAVITY_outflow_vs_disk.png\n",
      "    + _build/html/tmp_2509.13911/./specJ0529s_fit.png\n",
      "    + _build/html/tmp_2509.13911/./GRAVITY_line_comparison.png\n",
      "found figures ['tmp_2509.14224/./figures/Three_Scenarios_TOI_270b_titles.png', 'tmp_2509.14224/./figures/spec_vs_mods_TOI270b_exoTED_vf.png', 'tmp_2509.14224/./figures/H2O_vs_pCloud_TOI270b_X_exoTED_vf.png', 'tmp_2509.14224/./figures/H2O_vs_muX_TOI270b_X_exoTED_vf.png', 'tmp_2509.14224/./figures/muX_vs_pCloud_TOI270b_X_exoTED_vf.png']\n",
      "copying  tmp_2509.14224/./figures/Three_Scenarios_TOI_270b_titles.png to _build/html/\n",
      "copying  tmp_2509.14224/./figures/spec_vs_mods_TOI270b_exoTED_vf.png to _build/html/\n",
      "copying  tmp_2509.14224/./figures/H2O_vs_pCloud_TOI270b_X_exoTED_vf.png to _build/html/\n",
      "copying  tmp_2509.14224/./figures/H2O_vs_muX_TOI270b_X_exoTED_vf.png to _build/html/\n",
      "copying  tmp_2509.14224/./figures/muX_vs_pCloud_TOI270b_X_exoTED_vf.png to _build/html/\n",
      "exported in  _build/html/2509.14224.md\n",
      "    + _build/html/tmp_2509.14224/./figures/Three_Scenarios_TOI_270b_titles.png\n",
      "    + _build/html/tmp_2509.14224/./figures/spec_vs_mods_TOI270b_exoTED_vf.png\n",
      "    + _build/html/tmp_2509.14224/./figures/H2O_vs_pCloud_TOI270b_X_exoTED_vf.png\n",
      "    + _build/html/tmp_2509.14224/./figures/H2O_vs_muX_TOI270b_X_exoTED_vf.png\n",
      "    + _build/html/tmp_2509.14224/./figures/muX_vs_pCloud_TOI270b_X_exoTED_vf.png\n"
     ]
    }
   ],
   "source": [
    "for paper_id, md in documents:\n",
    "    export_markdown_summary(md, f\"{paper_id:s}.md\", '_build/html/')"
   ]
  },
  {
   "cell_type": "markdown",
   "id": "f087a0a7",
   "metadata": {
    "papermill": {
     "duration": 0.00644,
     "end_time": "2025-09-18T04:15:36.863604",
     "exception": false,
     "start_time": "2025-09-18T04:15:36.857164",
     "status": "completed"
    },
    "tags": []
   },
   "source": [
    "## Display the papers\n",
    "\n",
    "Not necessary but allows for a quick check."
   ]
  },
  {
   "cell_type": "code",
   "execution_count": 9,
   "id": "fd25f625",
   "metadata": {
    "execution": {
     "iopub.execute_input": "2025-09-18T04:15:36.877187Z",
     "iopub.status.busy": "2025-09-18T04:15:36.876945Z",
     "iopub.status.idle": "2025-09-18T04:15:36.886504Z",
     "shell.execute_reply": "2025-09-18T04:15:36.885836Z"
    },
    "papermill": {
     "duration": 0.017526,
     "end_time": "2025-09-18T04:15:36.887502",
     "exception": false,
     "start_time": "2025-09-18T04:15:36.869976",
     "status": "completed"
    },
    "scrolled": false,
    "tags": []
   },
   "outputs": [
    {
     "data": {
      "text/markdown": [
       "<div class=\"macros\" style=\"visibility:hidden;\">\n",
       "$\\newcommand{\\ensuremath}{}$\n",
       "$\\newcommand{\\xspace}{}$\n",
       "$\\newcommand{\\object}[1]{\\texttt{#1}}$\n",
       "$\\newcommand{\\farcs}{{.}''}$\n",
       "$\\newcommand{\\farcm}{{.}'}$\n",
       "$\\newcommand{\\arcsec}{''}$\n",
       "$\\newcommand{\\arcmin}{'}$\n",
       "$\\newcommand{\\ion}[2]{#1#2}$\n",
       "$\\newcommand{\\textsc}[1]{\\textrm{#1}}$\n",
       "$\\newcommand{\\hl}[1]{\\textrm{#1}}$\n",
       "$\\newcommand{\\footnote}[1]{}$\n",
       "$\\newcommand{\\noun}[1]{\\textsc{\\MakeLowercase{#1}}}$\n",
       "$\\newcommand{\\code}{\\texttt}$\n",
       "$\\newcommand{\\m}[1]{M_#1}$\n",
       "$\\newcommand{\\mwd}{M_\\text{WD}}$\n",
       "$\\newcommand{\\msun}{M_\\odot}$\n",
       "$\\newcommand{\\bah}{[Ba/H]}$\n",
       "$\\newcommand{\\bafe}{[Ba/Fe]}$\n",
       "$\\newcommand{\\yh}{[Y/H]}$\n",
       "$\\newcommand{\\yfe}{[Y/Fe]}$\n",
       "$\\newcommand{\\sH}{[s/H]}$\n",
       "$\\newcommand{\\sfe}{[s/Fe]}$\n",
       "$\\newcommand{\\rl}{r\\textsubscript{L}}$\n",
       "$\\newcommand{\\rorb}{R\\textsubscript{orb}}$\n",
       "$\\newcommand{\\sproc}{\\textit{s}-process}$</div>\n",
       "\n",
       "\n",
       "\n",
       "<div id=\"title\">\n",
       "\n",
       "# Gaia Barium Dwarfs and Their Ostensibly Ordinary Counterparts\n",
       "\n",
       "</div>\n",
       "<div id=\"comments\">\n",
       "\n",
       "[![arXiv](https://img.shields.io/badge/arXiv-2509.13413-b31b1b.svg)](https://arxiv.org/abs/2509.13413)<mark>Appeared on: 2025-09-18</mark> - \n",
       "\n",
       "</div>\n",
       "<div id=\"authors\">\n",
       "\n",
       "P. Rekhi, et al. -- incl., <mark>S. Shahaf</mark>, <mark>J. Müller-Horn</mark>, <mark>H.-W. Rix</mark>\n",
       "\n",
       "</div>\n",
       "<div id=\"abstract\">\n",
       "\n",
       "**Abstract:** The recently identified Gaia population of main-sequence--white dwarf (MS+WD) binaries at separations of ${\\sim} 1 {\\rm AU}$ , often with moderate eccentricities, is not readily reproduced by binary population synthesis models.Barium stars represent a closely related population whose enrichment in $\\sproc$ elements both confirms the presence of a WD companion and attests to past binary interaction.It also indicates that mass transfer occurred at least during the late and post-AGB phases of the WD progenitor, when $\\sproc$ elements are dredged up.In this work, we further explore the connection between the astrometrically identified Gaia MS+WD binaries and the classical barium star population.To achieve this, we used high-resolution FEROS spectroscopy to measure abundances for 30 Gaia DR3 non-single-star binaries, identifying 10 as Ba-enriched. Together with our recent analysis of archival GALAH data, this yields a sample of 38 barium dwarfs with dynamically measured WD masses, compared to only 6 previously known systems with known WD masses at these separations.We find that, in cases where metallicity is sufficiently low to facilitate efficient $\\sproc$ production, barium and yttrium enrichment is often detected. This enrichment is also identified in eccentric systems, suggesting that post-AGB mass transfer mechanisms are capable of pumping eccentricity into the orbit or occur without erasing it.Our results indicate that the Gaia MS+WD binaries trace the population from which barium stars emerge.  Treating the large Gaia-discovered population as an extension of known $\\sproc$ enriched dwarfs opens an avenue to empirically constrain their formation and evolution.\n",
       "\n",
       "</div>\n",
       "\n",
       "<div id=\"div_fig1\">\n",
       "\n",
       "<img src=\"tmp_2509.13413/figures/P_e_general.jpg\" alt=\"Fig2\" width=\"100%\"/>\n",
       "\n",
       "**Figure 2. -** Period-Eccentricity diagram of the Shahaf_2024_TriageGaia AMRF sample (gray), its Ba-enriched subset from this work and \\citetalias{Rekhi_2024_BaEnrichment}(red) and Ba/CH/CEMP-s stars from literature \\citep[green/blue; ][]{Jorissen_2016_BinaryProperties, Escorza_2019_BariumRelated, Escorza_2023_BariumRelated}. The samples show scatter consistent with each other. Our samples uncover a significantly larger population of Ba dwarfs at $e$ > 0.1 at P < 1000 d, which is underrepresented in literature. The AMRF sample thus provides a systematic route to identifying large samples of Ba dwarfs with orbital parameters and companion WD masses from the Gaia NSS catalog. (*fig:P e general*)\n",
       "\n",
       "</div>\n",
       "<div id=\"div_fig2\">\n",
       "\n",
       "<img src=\"tmp_2509.13413/figures/color_feh_yfe_bafe.jpg\" alt=\"Fig7\" width=\"100%\"/>\n",
       "\n",
       "**Figure 7. -** [Ba/Fe] vs [Y/Fe] coloured by [Fe/H], for the 10 targets having Y measurements. The green dashed line denotes the enrichment boundary.\n",
       "Ba-enhanced stars generally exhibit Y enhancement, reducing the likelihood of spurious Ba/Y enhancement.  (*fig:ba y comp*)\n",
       "\n",
       "</div>\n",
       "<div id=\"div_fig3\">\n",
       "\n",
       "<img src=\"tmp_2509.13413/figures/color_feh_yfe_ecc.jpg\" alt=\"Fig8.1\" width=\"50%\"/><img src=\"tmp_2509.13413/figures/color_feh_yfe_mwd.jpg\" alt=\"Fig8.2\" width=\"50%\"/>\n",
       "\n",
       "**Figure 8. -** [Y/Fe] as function of (a) eccentricity and (b) $\\m$wd. (*fig: Y color plots*)\n",
       "\n",
       "</div><div id=\"qrcode\"><img src=https://api.qrserver.com/v1/create-qr-code/?size=100x100&data=\"https://arxiv.org/abs/2509.13413\"></div>"
      ],
      "text/plain": [
       "<IPython.core.display.Markdown object>"
      ]
     },
     "metadata": {},
     "output_type": "display_data"
    },
    {
     "data": {
      "text/markdown": [
       "<div class=\"macros\" style=\"visibility:hidden;\">\n",
       "$\\newcommand{\\ensuremath}{}$\n",
       "$\\newcommand{\\xspace}{}$\n",
       "$\\newcommand{\\object}[1]{\\texttt{#1}}$\n",
       "$\\newcommand{\\farcs}{{.}''}$\n",
       "$\\newcommand{\\farcm}{{.}'}$\n",
       "$\\newcommand{\\arcsec}{''}$\n",
       "$\\newcommand{\\arcmin}{'}$\n",
       "$\\newcommand{\\ion}[2]{#1#2}$\n",
       "$\\newcommand{\\textsc}[1]{\\textrm{#1}}$\n",
       "$\\newcommand{\\hl}[1]{\\textrm{#1}}$\n",
       "$\\newcommand{\\footnote}[1]{}$\n",
       "$\\newcommand{\\uat}[2]{\\href{http://vocabs.ands.org.au/repository/api/lda/aas/the-unified-astronomy-thesaurus/current/resource.html?uri=http://astrothesaurus.org/uat/#1}{#2 (#1)}}$\n",
       "$\\newcommand\\mk{#1}$</div>\n",
       "\n",
       "\n",
       "\n",
       "<div id=\"title\">\n",
       "\n",
       "# Direct Imaging Explorations for Companions from the Subaru/IRD Strategic Program II; Discovery of a Brown-dwarf Companion around a Nearby mid-M dwarf LSPM J1446+4633\n",
       "\n",
       "</div>\n",
       "<div id=\"comments\">\n",
       "\n",
       "[![arXiv](https://img.shields.io/badge/arXiv-2509.13587-b31b1b.svg)](https://arxiv.org/abs/2509.13587)<mark>Appeared on: 2025-09-18</mark> -  _11 pages, 7 figs, 4 tables, accepted for publication in AJ_\n",
       "\n",
       "</div>\n",
       "<div id=\"authors\">\n",
       "\n",
       "T. Uyama, et al. -- incl., <mark>T. Henning</mark>\n",
       "\n",
       "</div>\n",
       "<div id=\"abstract\">\n",
       "\n",
       "**Abstract:** We report the discovery of a new directly-imaged brown dwarf companion with Keck/NIRC2+pyWFS around a nearby mid-type M dwarf LSPM J1446+4633 (hereafter J1446). The $L'$ -band contrast ( $4.5\\times10^{-3}$ ) is consistent with a $\\sim20-60 M_{\\rm Jup}$ object at 1--10 Gyr and our two-epoch NIRC2 data suggest a $\\sim30\\%$ ( $\\sim3.1\\sigma)$ variability in its $L'$ -band flux. We incorporated Gaia DR3 non-single-star catalog into the orbital fitting by combining the Subaru/IRD RV monitoring results, NIRC2 direct imaging results, and Gaia proper motion acceleration. As a result, we derive ${59.8}_{-1.4}^{+1.5} M_{\\rm Jup}$ and $\\approx4.3 {\\rm au}$ for the dynamical mass and the semi-major axis of the companion J1446B, respectively.J1446B is one of the intriguing late-T dwarfs showing variability at $L'$ -band for future atmospheric studies with the constrained dynamical mass.Because the J1446 system is accessible with various observation techniques such as astrometry, direct imaging, and high-resolution spectroscopy including radial velocity measurement, it has a potential as a great benchmark system to improve our understanding for cool dwarfs.\n",
       "\n",
       "</div>\n",
       "\n",
       "<div id=\"div_fig1\">\n",
       "\n",
       "<img src=\"tmp_2509.13587/./astrometric_orbit_J1446.png\" alt=\"Fig4.1\" width=\"50%\"/><img src=\"tmp_2509.13587/./RV_OC_J1446_InstAll.png\" alt=\"Fig4.2\" width=\"50%\"/>\n",
       "\n",
       "**Figure 4. -** \n",
       "    Left: Modeled projected orbits of J1446B from fitting the Gaia DR3 acceleration (a red arrow in left) and two measured Keck/NIRC2 relative astrometric measurements (blue dots in left), and Subaru/IRD RVs (red dots in right). The host star defines the origin and is indicated by a black star; one hundred random orbital draws are shown and color-coded by companion mass, with the best-fit orbit (black). The fitted offset at 2016.0 is plotted in red, and the direction of the measured Gaia DR3 acceleration is indicated by the red arrow. Right: Modeled RVs from a random sampling of orbits from the posterior are color-coded by companion mass with the best-fit orbit.\n",
       "     (*fig: orvara fitting*)\n",
       "\n",
       "</div>\n",
       "<div id=\"div_fig2\">\n",
       "\n",
       "<img src=\"tmp_2509.13587/./J1446_lightcurve-SPOC.png\" alt=\"Fig3\" width=\"100%\"/>\n",
       "\n",
       "**Figure 3. -** TESS lightcurves of J1446 ranging four sectors. Left: Comparisons of the measured flux variations in the four sectors, where we adopted median time of each section as a reference date. Right: The same comparison as the left panel except for the y-axis with normalized fluxes. (*fig: TESS*)\n",
       "\n",
       "</div>\n",
       "<div id=\"div_fig3\">\n",
       "\n",
       "<img src=\"tmp_2509.13587/./cpmtest_J1446.png\" alt=\"Fig1\" width=\"100%\"/>\n",
       "\n",
       "**Figure 1. -** Common proper motion test of the companion candidate around J1446. The blue and orange crosses indicate the relative location to the central star ($\\Delta{\\rm RA}$ for x-axis and $\\Delta{\\rm Dec}$ for y-axis, respectively). The gray solid line indicates a trajectory of a zero proper-motion background star and the red cross indicates an expected position of the background-star case in the second epoch. We insert the zoomed-in panel for the relative astrometry of the first and second epochs, whose error-bars are small in the original panel.  (*fig: cpm test*)\n",
       "\n",
       "</div><div id=\"qrcode\"><img src=https://api.qrserver.com/v1/create-qr-code/?size=100x100&data=\"https://arxiv.org/abs/2509.13587\"></div>"
      ],
      "text/plain": [
       "<IPython.core.display.Markdown object>"
      ]
     },
     "metadata": {},
     "output_type": "display_data"
    },
    {
     "data": {
      "text/markdown": [
       "<div class=\"macros\" style=\"visibility:hidden;\">\n",
       "$\\newcommand{\\ensuremath}{}$\n",
       "$\\newcommand{\\xspace}{}$\n",
       "$\\newcommand{\\object}[1]{\\texttt{#1}}$\n",
       "$\\newcommand{\\farcs}{{.}''}$\n",
       "$\\newcommand{\\farcm}{{.}'}$\n",
       "$\\newcommand{\\arcsec}{''}$\n",
       "$\\newcommand{\\arcmin}{'}$\n",
       "$\\newcommand{\\ion}[2]{#1#2}$\n",
       "$\\newcommand{\\textsc}[1]{\\textrm{#1}}$\n",
       "$\\newcommand{\\hl}[1]{\\textrm{#1}}$\n",
       "$\\newcommand{\\footnote}[1]{}$\n",
       "$\\newcommand{\\SII}{[S~{\\sc ii}]}$\n",
       "$\\newcommand{\\SIII}{[S~{\\sc iii}]}$\n",
       "$\\newcommand{\\OIII}{[O~{\\sc iii}]}$\n",
       "$\\newcommand{\\NII}{[N~{\\sc ii}]}$\n",
       "$\\newcommand{\\HII}{H~{\\sc ii}}$\n",
       "$\\newcommand{\\HeII}{He~{\\sc ii}}$\n",
       "$\\newcommand{\\HI}{H~{\\sc i}}$\n",
       "$\\newcommand{\\Ha}{H\\alpha}$\n",
       "$\\newcommand{\\Hb}{H\\beta}$\n",
       "$\\newcommand{\\kms}{ \\mbox{km} \\mbox{s}^{-1}}$\n",
       "$\\newcommand{\\ergs}{ \\mbox{erg} \\mbox{s}^{-1}}$\n",
       "$\\newcommand{\\HST}{\\textit{HST}}$\n",
       "$\\newcommand{\\JWST}{\\textit{JWST}}$\n",
       "$\\newcommand{\\SIIHa}{[S~{\\sc ii}]/H\\alpha}$\n",
       "$\\newcommand{\\SIIISII}{[S~{\\sc iii}]/[S~{\\sc ii}]}$\n",
       "$\\newcommand{\\NIIHa}{[N~{\\sc ii}]/H\\alpha}$\n",
       "$\\newcommand{\\OIIIHb}{[O~{\\sc iii}]/H\\beta}$\n",
       "$\\newcommand{\\RPAH}{{\\rm R_{PAH}}}$\n",
       "$\\newcommand{\\RPAHst}{{\\rm R_{PAH}^*}}$\n",
       "$\\newcommand{\\SBDIG}{\\mathrm{\\Sigma(H\\alpha)_{DIG}}}$\n",
       "$\\newcommand{\\sigmaHa}{\\sigma(H\\alpha)}$\n",
       "$\\newcommand{\\be}{\\begin{equation}}$\n",
       "$\\newcommand{\\ee}{\\end{equation}}$\n",
       "$\\newcommand{\\red}{\\textcolor{red}}$\n",
       "$\\newcommand{\\green}{\\textcolor{green}}$\n",
       "$\\newcommand{\\note}{\\red}$\n",
       "$\\newcommand{\\revone}\\begin{document}$\n",
       "$\\newcommand{\\numHII}{17151}$\n",
       "$\\newcommand{\\numSNRs}{\\revone{396}}$\n",
       "$   \\title{Polycyclic aromatic hydrocarbons destruction in star-forming regions across 42 nearby galaxies}$\n",
       "$    \\titlerunning{PHANGS-JWST and MUSE: PAHs in star-forming regions}$\n",
       "$\\newcommand{\\OSU}{\\label{OSU} Department of Astronomy, The Ohio State University, 140 West 18th Avenue, Columbus, Ohio 43210, USA}$\n",
       "$\\newcommand{\\Alberta}{\\label{Alberta} Department of Physics, University of Alberta, Edmonton, AB T6G 2E1, Canada}$\n",
       "$\\newcommand{\\ANU}{\\label{ANU} Research School of Astronomy and Astrophysics, Australian National University, Canberra, ACT 2611, Australia}$\n",
       "$\\newcommand{\\IPAC}{\\label{IPAC} Caltech-IPAC, 1200 E. California Blvd. Pasadena, CA 91125, USA}$\n",
       "$\\newcommand{\\Carnegie}{\\label{Carnegi} Observatories of the Carnegie Institution for Science, 813 Santa Barbara Street, Pasadena, CA 91101, USA}$\n",
       "$\\newcommand{ÇAPP}{\\label{CCAPP} Center for Cosmology and Astroparticle Physics, 191 West Woodruff Avenue, Columbus, OH 43210, USA}$\n",
       "$\\newcommand{\\CfA}{\\label{CfA} Harvard-Smithsonian Center for Astrophysics, 60 Garden Street, Cambridge, MA 02138, USA}$\n",
       "$\\newcommand{\\CITEVA}{\\label{CITEVA} Centro de Astronomía (CITEVA), Universidad de Antofagasta, Avenida Angamos 601, Antofagasta, Chile}$\n",
       "$\\newcommand{\\CNRS}{\\label{CNRS} CNRS, IRAP, 9 Av. du Colonel Roche, BP 44346, F-31028 Toulouse cedex 4, France}$\n",
       "$\\newcommand{\\ESO}{\\label{ESO} European Southern Observatory, Karl-Schwarzschild Stra{\\ss}e 2, D-85748 Garching bei München, Germany}$\n",
       "$\\newcommand{\\HD}{\\label{HD} Astronomisches Rechen-Institut, Zentrum für Astronomie der Universität Heidelberg, Mönchhofstra\\ss e 12-14, D-69120 Heidelberg, Germany}$\n",
       "$\\newcommand{\\ICRAR}{\\label{ICRAR} International Centre for Radio Astronomy Research, University of Western Australia, 35 Stirling Highway, Crawley, WA 6009, Australia}$\n",
       "$\\newcommand{\\IRAM}{\\label{IRAM} Institut de Radioastronomie Millimétrique (IRAM), 300 Rue de la Piscine, F-38406 Saint Martin d'Hères, France}$\n",
       "$\\newcommand{\\ITA}{\\label{ITA} Universität Heidelberg, Zentrum für Astronomie, Institut für Theoretische Astrophysik, Albert-Ueberle-Str 2, D-69120 Heidelberg, Germany}$\n",
       "$\\newcommand{\\IWR}{\\label{IWR} Universität Heidelberg, Interdisziplinäres Zentrum für Wissenschaftliches Rechnen, Im Neuenheimer Feld 205, D-69120 Heidelberg, Germany}$\n",
       "$\\newcommand{\\JHU}{\\label{JHU} Department of Physics and Astronomy, The Johns Hopkins University, Baltimore, MD 21218, USA}$\n",
       "$\\newcommand{\\Leiden}{\\label{Leiden} Leiden Observatory, Leiden University, P.O. Box 9513, 2300 RA Leiden, The Netherlands}$\n",
       "$\\newcommand{\\Maryland}{\\label{Maryland} Department of Astronomy, University of Maryland, College Park, MD 20742, USA}$\n",
       "$\\newcommand{\\MPE}{\\label{MPE} Max-Planck-Institut für extraterrestrische Physik, Giessenbachstra{\\ss}e 1, D-85748 Garching, Germany}$\n",
       "$\\newcommand{\\MPIA}{\\label{MPIA} Max-Planck-Institut für Astronomie, Königstuhl 17, D-69117, Heidelberg, Germany}$\n",
       "$\\newcommand{\\Nagoya}{\\label{Nagoya} Department of Physics, Nagoya University, Furo-cho, Chikusa-ku, Nagoya, Aichi 464-8602, Japan}$\n",
       "$\\newcommand{\\NRAO}{\\label{NRAO} National Radio Astronomy Observatory, 520 Edgemont Road, Charlottesville, VA 22903-2475, USA}$\n",
       "$\\newcommand{\\OAN}{\\label{OAN} Observatorio Astronómico Nacional (IGN), C/Alfonso XII, 3, E-28014 Madrid, Spain}$\n",
       "$\\newcommand{\\ObsParis}{\\label{ObsParis} Sorbonne Université, Observatoire de Paris, Université PSL, CNRS, LERMA, F-75014, Paris, France}$\n",
       "$\\newcommand{\\Princeton}{\\label{Princeton} Department of Astrophysical Sciences, Princeton University, Princeton, NJ 08544 USA}$\n",
       "$\\newcommand{\\UToledo}{\\label{UToledo} University of Toledo, 2801 W. Bancroft St., Mail Stop 111, Toledo, OH, 43606}$\n",
       "$\\newcommand{\\Toulouse}{\\label{Toulouse} Université de Toulouse, UPS-OMP, IRAP, F-31028 Toulouse cedex 4, France}$\n",
       "$\\newcommand{\\UBonn}{\\label{UBonn} Argelander-Institut für Astronomie, Universität Bonn, Auf dem Hügel 71, 53121 Bonn, Germany}$\n",
       "$\\newcommand{\\UChile}{\\label{UChile} Departamento de Astronomía, Universidad de Chile, Camino del Observatorio 1515, Las Condes, Santiago, Chile}$\n",
       "$\\newcommand{\\UConn}{\\label{UConn} Department of Physics, University of Connecticut, Storrs, CT, 06269, USA}$\n",
       "$\\newcommand{\\UCSD}{\\label{UCSD} Department of Astronomy \\& Astrophysics,  University of California, San Diego, 9500 Gilman Drive, La Jolla, CA 92093, USA}$\n",
       "$\\newcommand{\\UGent}{\\label{UGent} Sterrenkundig Observatorium, Universiteit Gent, Krijgslaan 281 S9, B-9000 Gent, Belgium}$\n",
       "$\\newcommand{\\ULyon}{\\label{ULyon} Univ Lyon, Univ Lyon 1, ENS de Lyon, CNRS, Centre de Recherche Astrophysique de Lyon UMR5574,\\ F-69230 Saint-Genis-Laval, France}$\n",
       "$\\newcommand{\\UMass}{\\label{UMass} University of Massachusetts—Amherst, 710 N. Pleasant Street, Amherst, MA 01003, USA}$\n",
       "$\\newcommand{\\UWyoming}{\\label{UWyoming} Department of Physics and Astronomy, University of Wyoming, Laramie, WY 82071, USA}$\n",
       "$\\newcommand{\\LAM}{\\label{LAM} Aix Marseille Univ, CNRS, CNES, LAM (Laboratoire d’Astrophysique de Marseille), Marseille, France}$\n",
       "$\\newcommand{\\UHawaii}{\\label{UHawaii} Institute for Astronomy, University of Hawaii, 2680 Woodlawn Drive, Honolulu, HI 96822, USA}$\n",
       "$\\newcommand{\\UCM}{\\label{UCM} Departamento de Física de la Tierra y Astrofísica, Universidad Complutense de Madrid, E-28040, Spain}$\n",
       "$\\newcommand{\\IPARC}{\\label{IPARC} Instituto de Física de Partículas y del Cosmos IPARCOS, Facultad de Ciencias Físicas, Universidad Complutense de Madrid, E-28040, Spain}$\n",
       "$\\newcommand{\\STScI}{\\label{STScI} Space Telescope Science Institute, 3700 San Martin Drive, Baltimore, MD 21218, USA}$\n",
       "$\\newcommand{\\McMaster}{\\label{McMaster} Department of Physics and Astronomy, McMaster University, 1280 Main Street West, Hamilton, ON L8S 4M1, Canada}$\n",
       "$\\newcommand{\\INAF}{\\label{INAF} INAF -- Osservatorio Astrofisico di Arcetri, Largo E. Fermi 5, I-50157, Firenze, Italy}$\n",
       "$\\newcommand{\\Sydney}{\\label{Sydney} Sydney Institute for Astronomy, School of Physics A28, The University of Sydney, NSW 2006, Australia}$\n",
       "$\\newcommand{\\UA}{\\label{UA} Centro de Astronomía (CITEVA), Universidad de Antofagasta, Avenida Angamos 601, Antofagasta, Chile}$\n",
       "$\\newcommand{\\CITA}{\\label{CITA} Canadian Institute for Theoretical Astrophysics (CITA), University of Toronto, 60 St George St, Toronto, ON M5S 3H8, Canada}$\n",
       "$\\newcommand{\\ASIAA}{\\label{ASIAA} Institute of Astronomy and Astrophysics, Academia Sinica, No. 1, Sec. 4, Roosevelt Road, Taipei 106319, Taiwan}$\n",
       "$\\newcommand{\\TKU}{\\label{TKU} Department of Physics, Tamkang University, No.151, Yingzhuan Rd., Tamsui Dist., New Taipei City 251301, Taiwan}$\n",
       "$\\newcommand{\\PSMA}{\\label{PSMA} Penn State Mont Alto, 1 Campus Drive, Mont Alto, PA  17237, USA}$\n",
       "$\\newcommand{\\ILL}{\\label{ILL} ILL}$\n",
       "$\\newcommand{\\Whitman}{\\label{Whitman} Whitman College, 345 Boyer Avenue, Walla Walla, WA 99362, USA}$\n",
       "$\\newcommand{\\Ox}{\\label{Ox} Sub-department of Astrophysics, Department of Physics, University of Oxford, Keble Road, Oxford OX1 3RH, UK}$\n",
       "$\\newcommand{\\stromlo}{\\label{stromlo} Research School of Astronomy and Astrophysics, Australian National University, Mt Stromlo Observatory, Weston Creek, ACT 2611, Australia}$\n",
       "$\\newcommand{\\FAU}{\\label{FAU} Dr. Karl-Remeis Sternwarte and Erlangen Centre for Astroparticle Physics, Friedrich-Alexander Universitat Erlangen-Nurnberg, Sternwartstr. 7, 96049 Bamberg, Germany}$\n",
       "$\\newcommand{\\Nice}{\\label{Nice} Université C\\^ote d'Azur, Observatoire de la C\\^ote d'Azur, CNRS, Laboratoire Lagrange, 06000, Nice, France}$\n",
       "$\\newcommand{\\Gemini}{\\label{Gemini} International Gemini Observatory, NSF NOIRLab, 950 N Cherry Ave, Tucson, AZ 85719, USA}$\n",
       "$\\newcommand{\\ESOchile}{\\label{ESOchile} European Southern Observatory (ESO), Alonso de Córdova 3107, Casilla 19, Santiago 19001, Chile}$\n",
       "$\\newcommand{\\UNAM}{\\label{UNAM}$\n",
       "$Instituto de Astronomía, Universidad Nacional Autónoma de México, Ap. 70-264, 04510 CDMX, Mexico}$\n",
       "$\\newcommand{\\KIPAC}{\\label{KIPAC} Kavli Institute for Particle Astrophysics \\& Cosmology, Stanford University, CA 94305, USA}$\n",
       "$\\newcommand{\\CDU}{\\label{CDU} Center for Decoding the Universe, Stanford University, CA 94305, USA}$\n",
       "$\\newcommand{\\UnknownInst}{\\label{UnknownInst} What is your affiliation?}$\n",
       "$\\author{$\n",
       "$        Oleg V. Egorov\\orcid{0000-0002-4755-118X}\\inst{\\ref{HD}}\\thanks{\\email{oleg.egorov@uni-heidelberg.de}}$\n",
       "$        \\and$\n",
       "$    Adam~K.~Leroy\\orcid{0000-0002-2545-1700}$\n",
       "$\\inst{\\ref{OSU}, \\ref{CCAPP}}$\n",
       "$\\and$\n",
       "$    Karin Sandstrom\\orcid{0000-0002-4378-8534}\\inst{\\ref{UCSD}}$\n",
       "$    \\and$\n",
       "$    Kathryn Kreckel\\orcid{0000-0001-6551-3091}\\inst{\\ref{HD}}$\n",
       "$    \\and$\n",
       "$    Dalya Baron\\orcid{0000-0003-4974-3481}\\inst{\\ref{KIPAC}, \\ref{CDU}}$\n",
       "$    \\and$\n",
       "$    Francesco Belfiore\\orcid{0000-0002-2545-5752}\\inst{\\ref{INAF}}$\n",
       "$       \\and$\n",
       "$    Ryan Chown\\orcid{0000-0001-8241-7704}\\inst{\\ref{OSU}}$\n",
       "$    \\and$\n",
       "$    Jessica Sutter\\orcid{0000-0002-9183-8102}\\inst{\\ref{Whitman}}$\n",
       "$    \\and$\n",
       "$   Médéric Boquien\\orcid{0000-0003-0946-6176}$\n",
       "$\\inst{\\ref{Nice}}$\n",
       "$\\and$\n",
       "$    Mar Canal i Saguer\\inst{\\ref{FAU}}$\n",
       "$    \\and$\n",
       "$    Enrico Congiu\\orcid{0000-0002-8549-4083}\\inst{\\ref{ESOchile}}$\n",
       "$    \\and$\n",
       "$Daniel~A.~Dale\\orcid{0000-0002-5782-9093}\\inst{\\ref{UWyoming}}$\n",
       "$    \\and$\n",
       "$    Evgeniya Egorova\\orcid{0000-0003-2717-8784}\\inst{\\ref{HD}}$\n",
       "$    \\and$\n",
       "$    Michael Huber\\inst{\\ref{HD}}$\n",
       "$    \\and$\n",
       "$    Jing Li\\orcid{0000-0002-4825-9367}\\inst{\\ref{HD}}$\n",
       "$   \\and$\n",
       "$Thomas~G.~Williams\\orcid{0000-0002-0012-2142}$\n",
       "$    \\inst{\\ref{Ox}}$\n",
       "$    \\and$\n",
       "$    Jérémy Chastenet\\orcid{0000-0002-5235-5589}\\inst{\\ref{UGent}}$\n",
       "$    \\and$\n",
       "$    I-Da Chiang\\orcid{0000-0003-2551-7148}\\inst{\\ref{ASIAA}}$\n",
       "$    \\and$\n",
       "$    Ivan Gerasimov\\orcid{0000-0001-7113-8152}\\inst{\\ref{Nice}}$\n",
       "$    \\and$\n",
       "$    Hamid Hassani\\orcid{0000-0002-8806-6308}\\inst{\\ref{Alberta}}$\n",
       "$\\and$\n",
       "$   Hwihyun Kim\\orcid{0000-0003-4770-688X}\\inst{\\ref{Gemini}}$\n",
       "$   \\and$\n",
       "$   Hannah Koziol\\orcid{0009-0001-5949-1524}\\inst{\\ref{UCSD}}$\n",
       "$   \\and$\n",
       "$   Janice C. Lee\\orcid{0000-0003-0946-6176}\\inst{\\ref{STScI}}$\n",
       "$   \\and$\n",
       "$   Rebecca L. McClain\\orcid{0000-0002-6187-4866}\\inst{\\ref{OSU}, \\ref{CCAPP}}$\n",
       "$\\and$\n",
       "$José Eduardo Méndez Delgado\\orcid{0000-0002-6972-6411}\\inst{\\ref{UNAM}}$\n",
       "$   \\and$\n",
       "$Hsi-An Pan\\orcid{0000-0002-1370-6964}\\inst{\\ref{TKU}}$\n",
       "$\\and$\n",
       "$   Debosmita Pathak\\orcid{0000-0003-2721-487X$\n",
       "$}\\inst{\\ref{OSU}}$\n",
       "$    \\and$\n",
       "$    Erik Rosolowsky\\orcid{0000-0002-5204-2259}\\inst{\\ref{Alberta}}$\n",
       "$    \\and$\n",
       "$    Sumit K. Sarbadhicary\\orcid{0000-0002-4781-7291}$\n",
       "$\\inst{\\ref{OSU}, \\ref{CCAPP}}$\n",
       "$\\and$\n",
       "$    Eva Schinnerer\\orcid{0000-0002-3933-7677}\\inst{\\ref{MPIA}}$\n",
       "$    \\and$\n",
       "$    David Thilker\\orcid{0000-0002-8528-7340}\\inst{\\ref{JHU}}$\n",
       "$    \\and$\n",
       "$    Leonardo Ubeda\\orcid{0000-0001-7130-2880}\\inst{\\ref{STScI}}$\n",
       "$    \\and$\n",
       "$    Tony Weinbeck\\orcid{0009-0005-8923-558X}\\inst{\\ref{UWyoming}}$\n",
       "$}$\n",
       "$\\institute{\\HD \\and \\OSU \\and ÇAPP \\and \\UCSD  \\and \\KIPAC \\and \\CDU \\and \\INAF  \\and \\Whitman  \\and  \\Nice \\and \\FAU  \\and \\ESOchile \\and \\UWyoming \\and \\Ox   \\and \\UGent \\and \\ASIAA \\and \\Alberta \\and  \\Gemini \\and \\STScI \\and \\UNAM \\and \\TKU \\and \\MPIA \\and \\JHU$\n",
       "$}$\n",
       "$   \\date{Received ????? ??, 2025; accepted ????? ??, ????}$\n",
       "$  \\abstract{$\n",
       "$  Polycyclic aromatic hydrocarbons (PAHs) are widespread in the interstellar medium (ISM) of \\simSolar metallicity galaxies, where they play a critical role in ISM heating, cooling, and reprocessing stellar radiation. The PAH fraction, the abundance of PAHs relative to total dust mass, is a key parameter in ISM physics. Using JWST and MUSE observations of 42 galaxies from the PHANGS survey, we analyze the PAH fraction in over 17 000 \\HII regions spanning a gas-phase oxygen abundance of \\rm 12+\\log(O/H) = 8.0–8.8 (Z \\sim 0.2–1.3~Z_\\odot), and \\sim400 isolated supernova remnants (SNRs). We find a significantly lower PAH fraction \\revone{toward} \\HII regions compared to a reference sample of diffuse ISM areas at matched metallicity. At \\rm 12+\\log(O/H) > 8.2, the PAH fraction \\revone{toward} \\HII regions is strongly anti-correlated with the local ionization parameter, suggesting that PAH destruction is correlated with ionized gas and/or hydrogen-ionizing UV radiation.$\n",
       "$  At lower metallicities, the PAH fraction declines steeply in both \\HII regions and the diffuse ISM, likely reflecting less efficient PAH formation in metal-poor environments. Carefully isolating dust emission from the vicinity of optically-identified supernova remnants, we see evidence for selective PAH destruction from measurements of lower PAH fractions, which is, however, indistinguishable at \\sim 50 pc scales.$\n",
       "$  Overall, our results point to ionizing radiation as the dominant agent of PAH destruction within \\HII regions, with metallicity playing a key role in their global abundance in galaxies.$\n",
       "$}$\n",
       "$   \\keywords{Galaxies: ISM --$\n",
       "$                Infrared: ISM -- ISM: HII regions -- ISM: dust, extinction -- ISM: abundances$\n",
       "$               }$\n",
       "$   \\maketitle$\n",
       "$\\n\\end{equation}\\end{document}}$\n",
       "$\\newcommand{\\ee}{\\end{equation}}$\n",
       "$\\newcommand{\\numHII}{17151}$\n",
       "$\\newcommand{\\numSNRs}{\\revone{396}}$\n",
       "$\\newcommand{\\OSU}{\\label{OSU} Department of Astronomy, The Ohio State University, 140 West 18th Avenue, Columbus, Ohio 43210, USA}$\n",
       "$\\newcommand{\\Alberta}{\\label{Alberta} Department of Physics, University of Alberta, Edmonton, AB T6G 2E1, Canada}$\n",
       "$\\newcommand{\\ANU}{\\label{ANU} Research School of Astronomy and Astrophysics, Australian National University, Canberra, ACT 2611, Australia}$\n",
       "$\\newcommand{\\IPAC}{\\label{IPAC} Caltech-IPAC, 1200 E. California Blvd. Pasadena, CA 91125, USA}$\n",
       "$\\newcommand{\\Carnegie}{\\label{Carnegi} Observatories of the Carnegie Institution for Science, 813 Santa Barbara Street, Pasadena, CA 91101, USA}$\n",
       "$\\newcommand{ÇAPP}{\\label{CCAPP} Center for Cosmology and Astroparticle Physics, 191 West Woodruff Avenue, Columbus, OH 43210, USA}$\n",
       "$\\newcommand{\\CfA}{\\label{CfA} Harvard-Smithsonian Center for Astrophysics, 60 Garden Street, Cambridge, MA 02138, USA}$\n",
       "$\\newcommand{\\CITEVA}{\\label{CITEVA} Centro de Astronomía (CITEVA), Universidad de Antofagasta, Avenida Angamos 601, Antofagasta, Chile}$\n",
       "$\\newcommand{\\CNRS}{\\label{CNRS} CNRS, IRAP, 9 Av. du Colonel Roche, BP 44346, F-31028 Toulouse cedex 4, France}$\n",
       "$\\newcommand{\\ESO}{\\label{ESO} European Southern Observatory, Karl-Schwarzschild Stra{\\ss}e 2, D-85748 Garching bei München, Germany}$\n",
       "$\\newcommand{\\HD}{\\label{HD} Astronomisches Rechen-Institut, Zentrum für Astronomie der Universität Heidelberg, Mönchhofstra\\ss e 12-14, D-69120 Heidelberg, Germany}$\n",
       "$\\newcommand{\\ICRAR}{\\label{ICRAR} International Centre for Radio Astronomy Research, University of Western Australia, 35 Stirling Highway, Crawley, WA 6009, Australia}$\n",
       "$\\newcommand{\\IRAM}{\\label{IRAM} Institut de Radioastronomie Millimétrique (IRAM), 300 Rue de la Piscine, F-38406 Saint Martin d'Hères, France}$\n",
       "$\\newcommand{\\ITA}{\\label{ITA} Universität Heidelberg, Zentrum für Astronomie, Institut für Theoretische Astrophysik, Albert-Ueberle-Str 2, D-69120 Heidelberg, Germany}$\n",
       "$\\newcommand{\\IWR}{\\label{IWR} Universität Heidelberg, Interdisziplinäres Zentrum für Wissenschaftliches Rechnen, Im Neuenheimer Feld 205, D-69120 Heidelberg, Germany}$\n",
       "$\\newcommand{\\JHU}{\\label{JHU} Department of Physics and Astronomy, The Johns Hopkins University, Baltimore, MD 21218, USA}$\n",
       "$\\newcommand{\\Leiden}{\\label{Leiden} Leiden Observatory, Leiden University, P.O. Box 9513, 2300 RA Leiden, The Netherlands}$\n",
       "$\\newcommand{\\Maryland}{\\label{Maryland} Department of Astronomy, University of Maryland, College Park, MD 20742, USA}$\n",
       "$\\newcommand{\\MPE}{\\label{MPE} Max-Planck-Institut für extraterrestrische Physik, Giessenbachstra{\\ss}e 1, D-85748 Garching, Germany}$\n",
       "$\\newcommand{\\MPIA}{\\label{MPIA} Max-Planck-Institut für Astronomie, Königstuhl 17, D-69117, Heidelberg, Germany}$\n",
       "$\\newcommand{\\Nagoya}{\\label{Nagoya} Department of Physics, Nagoya University, Furo-cho, Chikusa-ku, Nagoya, Aichi 464-8602, Japan}$\n",
       "$\\newcommand{\\NRAO}{\\label{NRAO} National Radio Astronomy Observatory, 520 Edgemont Road, Charlottesville, VA 22903-2475, USA}$\n",
       "$\\newcommand{\\OAN}{\\label{OAN} Observatorio Astronómico Nacional (IGN), C/Alfonso XII, 3, E-28014 Madrid, Spain}$\n",
       "$\\newcommand{\\ObsParis}{\\label{ObsParis} Sorbonne Université, Observatoire de Paris, Université PSL, CNRS, LERMA, F-75014, Paris, France}$\n",
       "$\\newcommand{\\Princeton}{\\label{Princeton} Department of Astrophysical Sciences, Princeton University, Princeton, NJ 08544 USA}$\n",
       "$\\newcommand{\\UToledo}{\\label{UToledo} University of Toledo, 2801 W. Bancroft St., Mail Stop 111, Toledo, OH, 43606}$\n",
       "$\\newcommand{\\Toulouse}{\\label{Toulouse} Université de Toulouse, UPS-OMP, IRAP, F-31028 Toulouse cedex 4, France}$\n",
       "$\\newcommand{\\UBonn}{\\label{UBonn} Argelander-Institut für Astronomie, Universität Bonn, Auf dem Hügel 71, 53121 Bonn, Germany}$\n",
       "$\\newcommand{\\UChile}{\\label{UChile} Departamento de Astronomía, Universidad de Chile, Camino del Observatorio 1515, Las Condes, Santiago, Chile}$\n",
       "$\\newcommand{\\UConn}{\\label{UConn} Department of Physics, University of Connecticut, Storrs, CT, 06269, USA}$\n",
       "$\\newcommand{\\UCSD}{\\label{UCSD} Department of Astronomy \\& Astrophysics,  University of California, San Diego, 9500 Gilman Drive, La Jolla, CA 92093, USA}$\n",
       "$\\newcommand{\\UGent}{\\label{UGent} Sterrenkundig Observatorium, Universiteit Gent, Krijgslaan 281 S9, B-9000 Gent, Belgium}$\n",
       "$\\newcommand{\\ULyon}{\\label{ULyon} Univ Lyon, Univ Lyon 1, ENS de Lyon, CNRS, Centre de Recherche Astrophysique de Lyon UMR5574,\\ F-69230 Saint-Genis-Laval, France}$\n",
       "$\\newcommand{\\UMass}{\\label{UMass} University of Massachusetts—Amherst, 710 N. Pleasant Street, Amherst, MA 01003, USA}$\n",
       "$\\newcommand{\\UWyoming}{\\label{UWyoming} Department of Physics and Astronomy, University of Wyoming, Laramie, WY 82071, USA}$\n",
       "$\\newcommand{\\LAM}{\\label{LAM} Aix Marseille Univ, CNRS, CNES, LAM (Laboratoire d’Astrophysique de Marseille), Marseille, France}$\n",
       "$\\newcommand{\\UHawaii}{\\label{UHawaii} Institute for Astronomy, University of Hawaii, 2680 Woodlawn Drive, Honolulu, HI 96822, USA}$\n",
       "$\\newcommand{\\UCM}{\\label{UCM} Departamento de Física de la Tierra y Astrofísica, Universidad Complutense de Madrid, E-28040, Spain}$\n",
       "$\\newcommand{\\IPARC}{\\label{IPARC} Instituto de Física de Partículas y del Cosmos IPARCOS, Facultad de Ciencias Físicas, Universidad Complutense de Madrid, E-28040, Spain}$\n",
       "$\\newcommand{\\STScI}{\\label{STScI} Space Telescope Science Institute, 3700 San Martin Drive, Baltimore, MD 21218, USA}$\n",
       "$\\newcommand{\\McMaster}{\\label{McMaster} Department of Physics and Astronomy, McMaster University, 1280 Main Street West, Hamilton, ON L8S 4M1, Canada}$\n",
       "$\\newcommand{\\INAF}{\\label{INAF} INAF -- Osservatorio Astrofisico di Arcetri, Largo E. Fermi 5, I-50157, Firenze, Italy}$\n",
       "$\\newcommand{\\Sydney}{\\label{Sydney} Sydney Institute for Astronomy, School of Physics A28, The University of Sydney, NSW 2006, Australia}$\n",
       "$\\newcommand{\\UA}{\\label{UA} Centro de Astronomía (CITEVA), Universidad de Antofagasta, Avenida Angamos 601, Antofagasta, Chile}$\n",
       "$\\newcommand{\\CITA}{\\label{CITA} Canadian Institute for Theoretical Astrophysics (CITA), University of Toronto, 60 St George St, Toronto, ON M5S 3H8, Canada}$\n",
       "$\\newcommand{\\ASIAA}{\\label{ASIAA} Institute of Astronomy and Astrophysics, Academia Sinica, No. 1, Sec. 4, Roosevelt Road, Taipei 106319, Taiwan}$\n",
       "$\\newcommand{\\TKU}{\\label{TKU} Department of Physics, Tamkang University, No.151, Yingzhuan Rd., Tamsui Dist., New Taipei City 251301, Taiwan}$\n",
       "$\\newcommand{\\PSMA}{\\label{PSMA} Penn State Mont Alto, 1 Campus Drive, Mont Alto, PA  17237, USA}$\n",
       "$\\newcommand{\\ILL}{\\label{ILL} ILL}$\n",
       "$\\newcommand{\\Whitman}{\\label{Whitman} Whitman College, 345 Boyer Avenue, Walla Walla, WA 99362, USA}$\n",
       "$\\newcommand{\\Ox}{\\label{Ox} Sub-department of Astrophysics, Department of Physics, University of Oxford, Keble Road, Oxford OX1 3RH, UK}$\n",
       "$\\newcommand{\\stromlo}{\\label{stromlo} Research School of Astronomy and Astrophysics, Australian National University, Mt Stromlo Observatory, Weston Creek, ACT 2611, Australia}$\n",
       "$\\newcommand{\\FAU}{\\label{FAU} Dr. Karl-Remeis Sternwarte and Erlangen Centre for Astroparticle Physics, Friedrich-Alexander Universitat Erlangen-Nurnberg, Sternwartstr. 7, 96049 Bamberg, Germany}$\n",
       "$\\newcommand{\\Nice}{\\label{Nice} Université C\\^ote d'Azur, Observatoire de la C\\^ote d'Azur, CNRS, Laboratoire Lagrange, 06000, Nice, France}$\n",
       "$\\newcommand{\\Gemini}{\\label{Gemini} International Gemini Observatory, NSF NOIRLab, 950 N Cherry Ave, Tucson, AZ 85719, USA}$\n",
       "$\\newcommand{\\ESOchile}{\\label{ESOchile} European Southern Observatory (ESO), Alonso de Córdova 3107, Casilla 19, Santiago 19001, Chile}$\n",
       "$\\newcommand{\\UNAM}{\\label{UNAM}$\n",
       "$Instituto de Astronomía, Universidad Nacional Autónoma de México, Ap. 70-264, 04510 CDMX, Mexico}$\n",
       "$\\newcommand{\\KIPAC}{\\label{KIPAC} Kavli Institute for Particle Astrophysics \\& Cosmology, Stanford University, CA 94305, USA}$\n",
       "$\\newcommand{\\CDU}{\\label{CDU} Center for Decoding the Universe, Stanford University, CA 94305, USA}$\n",
       "$\\newcommand{\\UnknownInst}{\\label{UnknownInst} What is your affiliation?}$\n",
       "$\\newcommand{\\red}{\\textcolor{red}}$\n",
       "$\\newcommand{\\green}{\\textcolor{green}}$\n",
       "$\\newcommand{\\note}{\\red}$\n",
       "$\\newcommand{\\revone}\\begin$</div>\n",
       "\n",
       "\n",
       "\n",
       "<div id=\"title\">\n",
       "\n",
       "# Polycyclic aromatic hydrocarbons destruction in star-forming regions across 42 nearby galaxies\n",
       "\n",
       "</div>\n",
       "<div id=\"comments\">\n",
       "\n",
       "[![arXiv](https://img.shields.io/badge/arXiv-2509.13845-b31b1b.svg)](https://arxiv.org/abs/2509.13845)<mark>Appeared on: 2025-09-18</mark> -  _19 pages, 15 figures. Accepted for publication in A&A_\n",
       "\n",
       "</div>\n",
       "<div id=\"authors\">\n",
       "\n",
       "O. V. Egorov, et al. -- incl., <mark>K. Kreckel</mark>, <mark>J. Li</mark>, <mark>E. Schinnerer</mark>\n",
       "\n",
       "</div>\n",
       "<div id=\"abstract\">\n",
       "\n",
       "**Abstract:** Polycyclic aromatic hydrocarbons (PAHs) are widespread in the interstellar medium (ISM) of $\\sim$ Solar metallicity galaxies, where they play a critical role in ISM heating, cooling, and reprocessing stellar radiation. The PAH fraction, the abundance of PAHs relative to total dust mass, is a key parameter in ISM physics. Using JWST and MUSE observations of 42 galaxies from the PHANGS survey, we analyze the PAH fraction in over 17 000 $\\HII$ regions spanning a gas-phase oxygen abundance of $\\rm 12+\\log(O/H) = 8.0$ –8.8 ( $Z \\sim 0.2$ –1.3 $Z_\\odot$ ), and $\\sim400$ isolated supernova remnants (SNRs). We find a significantly lower PAH fraction $\\revone{toward}$ $\\HII$ regions compared to a reference sample of diffuse ISM areas at matched metallicity. At $\\rm 12+\\log(O/H) > 8.2$ , the PAH fraction $\\revone{toward}$ $\\HII$ regions is strongly anti-correlated with the local ionization parameter, suggesting that PAH destruction is correlated with ionized gas and/or hydrogen-ionizing UV radiation.  At lower metallicities, the PAH fraction declines steeply in both $\\HII$ regions and the diffuse ISM, likely reflecting less efficient PAH formation in metal-poor environments. Carefully isolating dust emission from the vicinity of optically-identified supernova remnants, we see evidence for selective PAH destruction from measurements of lower PAH fractions, which is, however, indistinguishable at $\\sim 50$ pc scales.  Overall, our results point to ionizing radiation as the dominant agent of PAH destruction within $\\HII$ regions, with metallicity playing a key role in their global abundance in galaxies.\n",
       "\n",
       "</div>\n",
       "\n",
       "<div id=\"div_fig1\">\n",
       "\n",
       "<img src=\"tmp_2509.13845/./figs/RPAH_vs_ip_v20_rev1.png\" alt=\"Fig12.1\" width=\"50%\"/><img src=\"tmp_2509.13845/./figs/RPAH_vs_ip_v20_resolved_rev1.png\" alt=\"Fig12.2\" width=\"50%\"/>\n",
       "\n",
       "**Figure 12. -** PAH fraction anti-correlates with $\\log$($\\SII$I/$\\SII$) (ionization parameter tracer) for thousands $\\HII$ regions in 42 PHANGS-JWST galaxies. Panel (a, b) shows all $\\sim 17200$ analyzed $\\HII$ regions, while  $\\sim 5600$ brightest \\revone{\"resolved\"}$\\HII$ regions are shown on Panels (c, d). The dashed red line shows the best-fit linear regression to the \\revone{\"resolved\"} sample defined by Eq. \\ref{eq:RPAH_vs_ip}. Histograms on panels (b, d) show how the logarithmic residuals after subtracting this linear trend depend on metallicity. Color on panels (a, c) denotes gas-phase oxygen abundance; red contours show the probability density of the high-metallicity ($\\rm 12+\\log(O/H) > 8.2$) points (levels correspond to 50, 65, 80, 95 and 99 percentile intervals). The Spearman correlation coefficient ($\\rho$) and RMS scatter around the linear fit are reported on panels (a, c).  (*fig:RPAH_vs_ip*)\n",
       "\n",
       "</div>\n",
       "<div id=\"div_fig2\">\n",
       "\n",
       "<img src=\"tmp_2509.13845/./figs/hist_diff_hii_rpah7_v20_rev1.png\" alt=\"Fig4\" width=\"100%\"/>\n",
       "\n",
       "**Figure 4. -** Distribution of $\\RPAH$st for \\revone{\"resolved\"}(luminous) $\\HII$ regions (orange) and the regions of the similar size from diffuse ISM (blue) for several gas-phase metallicity bins. Dashed and two dotted lines on each distribution show median and 25 and 75 percentile quartiles, respectively. Both $\\RPAH$ and $\\RPAH$st are lower in $\\HII$ regions than in diffuse ISM. A strong decrease of $\\RPAH$st in the lowest metallicity bin is seen for both $\\HII$ regions and diffuse ISM. (*fig:diff_vs_hii*)\n",
       "\n",
       "</div>\n",
       "<div id=\"div_fig3\">\n",
       "\n",
       "<img src=\"tmp_2509.13845/./figs/RPAH_vs_met_v2p0_rev1.png\" alt=\"Fig1\" width=\"100%\"/>\n",
       "\n",
       "**Figure 1. -** Distribution of $\\rm \\log({\\rm R_{PAH}^*})$ vs oxygen abundance color-coded by $\\rm \\log([SIII]/[SII])$(tracer of the ionization parameter) for all $\\HII$ regions in the sample. Red circles show average values in different metallicity bins (reported in Tab. \\ref{tab:Rpah_vs_z_bins}). Vertical gray dashed line marks $\\rm 12 + \\log(O/H) = 8.2$ as a threshold between the low- and high-metallicity regimes. The horizontal dashed line correspond to the average $\\RPAH$ for diffuse ISM measured by [Sutter, Sandstrom and Chastenet (2024)](). Black squares correspond to measurements for WLM and NGC6822 (from low- to high-metallicity) made by  ([Chown, Leroy and Bolatto 2025]())  using JWST F770W and F2100W images. The PAH fraction drops significantly in the low-metallicity regime.  (*fig:RPAH_vs_met*)\n",
       "\n",
       "</div><div id=\"qrcode\"><img src=https://api.qrserver.com/v1/create-qr-code/?size=100x100&data=\"https://arxiv.org/abs/2509.13845\"></div>"
      ],
      "text/plain": [
       "<IPython.core.display.Markdown object>"
      ]
     },
     "metadata": {},
     "output_type": "display_data"
    },
    {
     "data": {
      "text/markdown": [
       "<div class=\"macros\" style=\"visibility:hidden;\">\n",
       "$\\newcommand{\\ensuremath}{}$\n",
       "$\\newcommand{\\xspace}{}$\n",
       "$\\newcommand{\\object}[1]{\\texttt{#1}}$\n",
       "$\\newcommand{\\farcs}{{.}''}$\n",
       "$\\newcommand{\\farcm}{{.}'}$\n",
       "$\\newcommand{\\arcsec}{''}$\n",
       "$\\newcommand{\\arcmin}{'}$\n",
       "$\\newcommand{\\ion}[2]{#1#2}$\n",
       "$\\newcommand{\\textsc}[1]{\\textrm{#1}}$\n",
       "$\\newcommand{\\hl}[1]{\\textrm{#1}}$\n",
       "$\\newcommand{\\footnote}[1]{}$\n",
       "$\\newcommand{\\civ}{C{ \\tiny IV}}$\n",
       "$\\newcommand{\\mgii}{Mg{ \\tiny II}}$\n",
       "$\\newcommand{\\oi}{O{ \\tiny I}}$\n",
       "$\\newcommand{\\oiii}{[O{ \\tiny III}]}$\n",
       "$\\newcommand{\\feii}{Fe{ \\tiny II}}$\n",
       "$\\newcommand{\\hi}{H{ \\tiny I}}$\n",
       "$\\newcommand{\\hb}{H\\beta}$\n",
       "$\\newcommand{\\hg}{H\\gamma}$\n",
       "$\\newcommand{\\rfe}{\\mathcal{R}_\\mathrm{Fe}}$</div>\n",
       "\n",
       "\n",
       "\n",
       "<div id=\"title\">\n",
       "\n",
       "# Spatially resolved broad line region in a quasar at z=4: Dynamical black hole mass and prominent outflow\n",
       "\n",
       "</div>\n",
       "<div id=\"comments\">\n",
       "\n",
       "[![arXiv](https://img.shields.io/badge/arXiv-2509.13911-b31b1b.svg)](https://arxiv.org/abs/2509.13911)<mark>Appeared on: 2025-09-18</mark> -  _submitted to A&A (15 pages, 10 figures)_\n",
       "\n",
       "</div>\n",
       "<div id=\"authors\">\n",
       "\n",
       "G. Collaboration, et al. -- incl., <mark>W. Brandner</mark>, <mark>P. Garcia</mark>, <mark>S. Joharle</mark>, <mark>L. Kreidberg</mark>, <mark>J. Sauter</mark>\n",
       "\n",
       "</div>\n",
       "<div id=\"abstract\">\n",
       "\n",
       "**Abstract:** We present the first near-infrared interferometric data of a QSO at z=4. The K-band observations were performed with GRAVITY+ on the VLTI using all 4 UTs, detecting a differential phase signal that traces the spatially resolved kinematics for both the $\\hb$ and $\\hg$ lines in the broad line region. We fit the two lines simultaneously with an updated model that includes distinct rotating and conical outflowing components. We find that more than 80 \\% of the $\\hi$ line emission from the BLR originates in an outflow with a velocity up to $10^4$ km s $^{-1}$ . This is oriented so that our line of sight is along an edge of the conical structure, which produces the prominent blue wing on the line profile. A combination of anisotropic line emission and mid-plane opacity lead to the single-sided phase signal. The model is able to qualitatively match both the outflowing $\\civ$ line profile and the systemic $\\oi$ fluorescent emission. The derived black hole mass of $8\\times10^8$ M $_\\odot$ is the highest redshift black hole mass measurement to date obtained directly from BLR dynamics. It is an order of magnitude lower than that inferred from various single epoch scaling relations, and implies that the accretion is highly super-Eddington. With reference to recent simulations, the data suggest that this QSO is emitting close to its radiative limit in a regime where strong outflows are expected around a polar conical region.\n",
       "\n",
       "</div>\n",
       "\n",
       "<div id=\"div_fig1\">\n",
       "\n",
       "<img src=\"tmp_2509.13911/./GRAVITY_avg_phase.png\" alt=\"Fig6.1\" width=\"50%\"/><img src=\"tmp_2509.13911/./GRAVITY_outflow_vs_disk.png\" alt=\"Fig6.2\" width=\"50%\"/>\n",
       "\n",
       "**Figure 6. -** Flux spectrum, averaged differential phase spectra, and line decomposition.\n",
       "The top row shows the continuum subtracted spectrum of the two emission lines, and the best fit model.\n",
       "For each of the $\\hb$(left) and $\\hg$(right) lines, the middle row shows the average phase spectra  which are created from the three baselines with the strongest signal (this is for visualisation purposes only; phase spectra for the individual baselines are shown in Fig. \\ref{fig:allphases}).\n",
       "The bottom row shows the decomposition of the fitted line profile (red) into the outflow (green) and disky (blue) components. The outflow dominates the total line flux, including much of the apparent core of the line profile. (*fig:avgphase*)\n",
       "\n",
       "</div>\n",
       "<div id=\"div_fig2\">\n",
       "\n",
       "<img src=\"tmp_2509.13911/./specJ0529s_fit.png\" alt=\"Fig4\" width=\"100%\"/>\n",
       "\n",
       "**Figure 4. -** K-band spectrum of J0529 from ERIS. The upper panel shows the data (blue; the narrow features at the long end of the band are due to imperfect atmospheric correction) and the fit (orange), with the $\\hi$ lines marked (the location of the $\\oi$ii lines are also marked; the 4363 Å line is expected to be 10-100 times weaker than those at 4959 Å and 5007 Å, the peaks of which are out of the spectral range). Also shown is the relative atmospheric transmission and the residual, indicating which regions have been excluded from the fit.\n",
       "The lower panel shows the components of the fit: the $\\hi$ lines (black) and $\\feii$ complex (red), as well as a component that represents either poor slope correction at the band edge (as is seen also at the short end of the band) or a possible blue wing on the $\\oi$ii line. (*fig:erisspec*)\n",
       "\n",
       "</div>\n",
       "<div id=\"div_fig3\">\n",
       "\n",
       "<img src=\"tmp_2509.13911/./GRAVITY_line_comparison.png\" alt=\"Fig5\" width=\"100%\"/>\n",
       "\n",
       "**Figure 5. -** Comparison of $\\hi$ profile to $\\civ$$\\lambda$1549 Å (left) and $\\oi$$\\lambda$1302 Å (right) in the Xshooter spectrum \\citep{wol24}. The normalisations are independent, and the velocity zero point here is defined by the $\\hi$ line peak rather than the true systemic velocity.\n",
       "$\\civ$ is associated only with the BLR outflow, and extends to higher velocities.\n",
       "$\\oi$ is more associated with the static rotating part of the BLR (the source of the deep absorption at multiple velocities across the line peak is unclear). (*fig:linecomp*)\n",
       "\n",
       "</div><div id=\"qrcode\"><img src=https://api.qrserver.com/v1/create-qr-code/?size=100x100&data=\"https://arxiv.org/abs/2509.13911\"></div>"
      ],
      "text/plain": [
       "<IPython.core.display.Markdown object>"
      ]
     },
     "metadata": {},
     "output_type": "display_data"
    },
    {
     "data": {
      "text/markdown": [
       "<div class=\"macros\" style=\"visibility:hidden;\">\n",
       "$\\newcommand{\\ensuremath}{}$\n",
       "$\\newcommand{\\xspace}{}$\n",
       "$\\newcommand{\\object}[1]{\\texttt{#1}}$\n",
       "$\\newcommand{\\farcs}{{.}''}$\n",
       "$\\newcommand{\\farcm}{{.}'}$\n",
       "$\\newcommand{\\arcsec}{''}$\n",
       "$\\newcommand{\\arcmin}{'}$\n",
       "$\\newcommand{\\ion}[2]{#1#2}$\n",
       "$\\newcommand{\\textsc}[1]{\\textrm{#1}}$\n",
       "$\\newcommand{\\hl}[1]{\\textrm{#1}}$\n",
       "$\\newcommand{\\footnote}[1]{}$\n",
       "$\\newcommand{\\icarus}{Icarus}$\n",
       "$\\newcommand{\\mnras}{MNRAS}$\n",
       "$\\newcommand{\\pasp}{PASP}$\n",
       "$\\newcommand{\\jqsrt}{JQSRT}$\n",
       "$\\newcommand{\\aj}{AJ}$\n",
       "$\\newcommand{\\apj}{ApJ}$\n",
       "$\\newcommand{\\apjl}{ApJL}$\n",
       "$\\newcommand{\\apjs}{ApJS}$\n",
       "$\\newcommand{\\aap}{A\\&Aj}$\n",
       "$\\newcommand{\\araa}{ARAA}$\n",
       "$\\newcommand{\\nat}{Nature}$\n",
       "$\\newcommand{\\vdag}{(v)^\\dagger}$\n",
       "$\\newcommand$\n",
       "$\\newcommand$\n",
       "$\\newcommand{\\vect}[1]{\\mathbf{#1}}$\n",
       "$\\newcommand{\\mt}[1]{\\mathrm{#1}}$\n",
       "$\\newcommand{\\Msun}{\\ensuremath{ M_{\\odot}}}$\n",
       "$\\newcommand{\\Mearth}{\\ensuremath{ M_{\\oplus}}}$\n",
       "$\\newcommand{\\Mmoon}{\\ensuremath{ M_{\\mathrm{Moon}}}}$\n",
       "$\\newcommand{\\Mjup}{\\ensuremath{ M_{\\mathrm{Jup}}}}$\n",
       "$\\newcommand{\\Rjup}{\\ensuremath{ R_{\\mathrm{Jup}}}}$\n",
       "$\\newcommand{\\mum}{\\ensuremath{\\mathrm{ \\mu m}}}$\n",
       "$\\newcommand{\\AMMF}{\\ensuremath{\\mathrm{AMMF}}}$\n",
       "$\\newcommand{\\Zatm}{\\ensuremath{Z_{\\mathrm{atm}}}}$\n",
       "$\\newcommand{\\Zenv}{\\ensuremath{Z_{\\mathrm{env}}}}$\n",
       "$\\newcommand{\\farcmin}{\\mbox{\\ensuremath{.\\mkern-4mu^\\prime}}}$\n",
       "$\\newcommand{\\farcsec}{\\mbox{\\ensuremath{ .\\!\\!^{\\prime\\prime}}}}$\n",
       "$\\newcommand{\\water}{H_{2}O}$\n",
       "$\\newcommand{\\logX}[1]{\\ensuremath{\\log(\\mathrm{X_{\\ce{#1}}})}}$\n",
       "$\\newcommand{\\logXratio}[2]{\\ensuremath{\\log(\\mathrm{X_{\\ce{#1}} / X_{\\ce{#2}} })}}$\n",
       "$\\newcommand{\\rstar}{R_*}$\n",
       "$\\newcommand{\\re}{ R_\\oplus}$\n",
       "$\\newcommand{\\me}{ M_\\oplus}$\n",
       "$\\newcommand{\\rsun}{ R_\\odot}$\n",
       "$\\newcommand{\\project}[1]{\\textsl{#1}}$\n",
       "$\\newcommand{\\JWST}{\\project{JWST}}$\n",
       "$\\newcommand{\\HST}{\\project{HST}}$\n",
       "$\\newcommand{\\Hubble}{\\project{Hubble}}$\n",
       "$\\newcommand{\\Spitzer}{\\project{Spitzer}}$\n",
       "$\\newcommand{\\Kepler}{\\project{Kepler}}$\n",
       "$\\newcommand{\\Ktwo}{\\project{K2}}$\n",
       "$\\newcommand{\\TESS}{\\project{TESS}}$\n",
       "$\\newcommand{\\CHEOPS}{\\project{CHEOPS}}$\n",
       "$\\newcommand$\n",
       "$\\newcommand$\n",
       "$\\newcommand{\\umontreal}{Department of Physics and Trottier Institute for Research on Exoplanets, Université de Montréal, Montreal, QC, Canada}$\n",
       "$\\newcommand{\\ucla}{Department of Earth, Planetary, and Space Sciences, University of California, Los Angeles, Los Angeles, CA, USA}$\n",
       "$\\newcommand{\\uwashington}{Department of Earth and Space Sciences/Astrobiology Program, University of Washington, Seattle, WA, USA}$\n",
       "$\\newcommand{\\uchicago}{Department of Astronomy \\& Astrophysics, University of Chicago, Chicago, IL, USA}$\n",
       "$\\newcommand{\\mpia}{Max-Planck-Institut für Astronomie, Königstuhl 17, D-69117 Heidelberg, Germany}$\n",
       "$\\newcommand{\\sron}{SRON Netherlands Institute for Space Research, Niels Bohrweg 4, 2333 CA Leiden, The Netherlands}$\n",
       "$\\newcommand{\\leiden}{Leiden Observatory, Leiden University, Einsteinweg 55, 2333 CC Leiden, The Netherlands}$\n",
       "$\\newcommand{\\cab}{Centro de Astrobiología (CAB), CSIC-INTA, ESAC campus, Camino Bajo del Castillo s/n, 28692, Villanueva de la Cañada (Madrid), Spain}$\n",
       "$\\newcommand{\\porto}{Instituto de Astrofísica e Ciências do Espaço, Universidade do Porto, CAUP, Rua das Estrelas, 4150-762 Porto, Portugal}$\n",
       "$\\newcommand{\\uclaAstro}{Department of Physics \\& Astronomy, University of California Los Angeles, Los Angeles, CA 90095, USA}$\n",
       "$\\newcommand{\\uwisconsin}{Department of Astronomy, University of Wisconsin--Madison, Madison, WI 53706, USA}$\n",
       "$\\newcommand{\\mcmaster}{Department of Physics \\& Astronomy, McMaster University, Hamilton, ON, Canada}$\n",
       "$\\newcommand{\\oxford}{Department of Physics, University of Oxford, Parks Rd, Oxford, OX1 3PU, UK}$\n",
       "$\\newcommand{\\heidelberg}{Department of Physics and Astronomy, Heidelberg University, Im Neuenheimer Feld 226, D-69120 Heidelberg, Germany}$\n",
       "$\\newcommand{\\riogrande}{Departamento de Física Teórica e Experimental, Universidade Federal do Rio Grande do Norte, Campus Universitário, Natal, RN, 59072-970, Brazil}$\n",
       "$\\newcommand{\\geneve}{Observatoire de Genève, Département d’Astronomie, Université de Genève, Chemin Pegasi 51, 1290 Versoix, Switzerland}$\n",
       "$\\newcommand{\\newcastle}{School of Information and Physical Sciences, University of Newcastle, Callaghan, NSW, Australia}$\n",
       "$\\newcommand{\\grenoble}{Univ. Grenoble Alpes, CNRS, IPAG, 38000 Grenoble, France}$\n",
       "$\\newcommand{\\iac}{Instituto de Astrofísica de Canarias, c/ Vía Láctea s/n, 38205$\n",
       "$La Laguna, Tenerife, Spain\\label{iac}$\n",
       "$Departamento de Astrofísica, Universidad de La Laguna, 38206 La Laguna, Tenerife, Spain}$</div>\n",
       "\n",
       "\n",
       "\n",
       "<div id=\"title\">\n",
       "\n",
       "# $\\large{Possible Evidence for the Presence of Volatiles on the Warm Super-Earth TOI-270 b}$\n",
       "\n",
       "</div>\n",
       "<div id=\"comments\">\n",
       "\n",
       "[![arXiv](https://img.shields.io/badge/arXiv-2509.14224-b31b1b.svg)](https://arxiv.org/abs/2509.14224)<mark>Appeared on: 2025-09-18</mark> -  _Published in The Astronomical Journal_\n",
       "\n",
       "</div>\n",
       "<div id=\"authors\">\n",
       "\n",
       "L.-P. Coulombe, et al. -- incl., <mark>E.-M. Ahrer</mark>, <mark>C. Gapp</mark>\n",
       "\n",
       "</div>\n",
       "<div id=\"abstract\">\n",
       "\n",
       "**Abstract:** The search for atmospheres on rocky exoplanets is a crucial step in understanding the processes driving atmosphere formation, retention, and loss.Past studies have revealed the existence of planets interior to the radius valley with densities lower than would be expected for pure-rock compositions, indicative of the presence of large volatile inventories which could facilitate atmosphere retention.Here we present an analysis of the JWST NIRSpec/G395H transmission spectrum of the warm ( $T_\\mathrm{eq,A_B=0} = 569$ K) super-Earth TOI-270 b ( $R_\\mathrm{p}$ = 1.306 $R_\\oplus$ ), captured alongside the transit of TOI-270 d. The JWST white light-curve transit depth updates TOI-270 b's density to $\\rho_\\mathrm{p}$ = $3.7\\pm0.5$ g/cm $^3$ , inconsistent at 4.4 $\\sigma$ with an Earth-like composition. Instead, the planet is best explained by a non-zero, percent-level water mass fraction, possibly residing on the surface or stored within the interior.The JWST transmission spectrum shows possible spectroscopic evidence for the presence of this water as part of an atmosphere on TOI-270 b, favoring a $H_2$ O-rich steam atmosphere model over a flat spectrum ( $\\ln\\mathcal{B}=0.3-3.2$ , inconclusive to moderate), with the exact significance depending on whether an offset parameter between the NIRSpec detectors is included. We leverage the transit of the twice-larger TOI-270 d crossing the stellar disk almost simultaneously to rule out the alternative hypothesis that the transit-light-source effect could have caused the water feature in TOI-270 b's observed transmission spectrum. Planetary evolution modeling furthermore shows that TOI-270 b could sustain a significant atmosphere on Gyr timescales, despite its high stellar irradiation, if it formed with a large initial volatile inventory.\n",
       "\n",
       "</div>\n",
       "\n",
       "<div id=\"div_fig1\">\n",
       "\n",
       "<img src=\"tmp_2509.14224/./figures/Three_Scenarios_TOI_270b_titles.png\" alt=\"Fig7\" width=\"100%\"/>\n",
       "\n",
       "**Figure 7. -** Coupled atmosphere-interior evolution modelling shows that a diversity of atmospheric outcomes are consistent with observational constraints. The PACMAN-P geochemical evolution model  (krissansen2024erosion)  was used to explore plausible evolutionary scenarios for TOI-270 b. This model explicitly couples magma ocean solidification, speciation of C, H, O, and Fe-bearing species, stellar evolution, thermal escape, and radiative-convective climate. Subpanels represent scenarios whereby hydrogen escape causes a transition to an $O_2$-$H_2$O atmosphere (top), an $H_2$O-dominated atmosphere (middle), and a case where an $H_2$-dominated atmosphere is retained (bottom). The internal volatile reservoirs of the planet are not shown. (*fig:Three_Scenarios_TOI_270b*)\n",
       "\n",
       "</div>\n",
       "<div id=\"div_fig2\">\n",
       "\n",
       "<img src=\"tmp_2509.14224/./figures/spec_vs_mods_TOI270b_exoTED_vf.png\" alt=\"Fig3\" width=\"100%\"/>\n",
       "\n",
       "**Figure 3. -** **Top:** Comparison of our measured transmission spectrum, binned at a fixed resolving power of R = 35 for visual clarity, to cloudless self-consistent models produced using SCARLET and assuming a solar carbon-to-oxygen ratio \\citep[C/O = 0.55,][]{Asplund2009} and atmosphere metallicities of 1 (yellow), 100 (orange), 300 (maroon), and 1,000 times solar (brown).\n",
       "The relatively small amplitude of the spectrum of TOI-270 b is inconsistent with any clear $H_2$/He-rich atmosphere with atmosphere metallicities below 300 times solar. Chi-square $\\chi^2$ values between the models and the full-resolution ($R=200$, $N=113$ data points)\n",
       "spectrum are shown for comparison. **Bottom:** Comparison of TOI-270 b with 100 bar pure $H_2$O (blue), $CH_4$(red), $CO_2$(green), and $NH_3$(purple) atmospheres. The rise in transit depth at the shorter wavelengths of NIRSpec/G395H is best reproduced by the absorption features of water. (*fig:spec_vs_mods*)\n",
       "\n",
       "</div>\n",
       "<div id=\"div_fig3\">\n",
       "\n",
       "<img src=\"tmp_2509.14224/./figures/H2O_vs_pCloud_TOI270b_X_exoTED_vf.png\" alt=\"Fig10.1\" width=\"33%\"/><img src=\"tmp_2509.14224/./figures/H2O_vs_muX_TOI270b_X_exoTED_vf.png\" alt=\"Fig10.2\" width=\"33%\"/><img src=\"tmp_2509.14224/./figures/muX_vs_pCloud_TOI270b_X_exoTED_vf.png\" alt=\"Fig10.3\" width=\"33%\"/>\n",
       "\n",
       "**Figure 10. -** Constraints from the atmospheric retrieval considering the fictitious species X as the background gas. **Left:** Joint constraints on the water mole fraction and effective surface pressure, where color represents the normalized probability density. The 1, 1.5, 2, and 3$\\sigma$ probability contours are indicated by the full and dashed black lines for the retrievals assuming no TLS and with constrained TLS, respectively. **Middle:** Joint constraints on the water mole fraction and background gas MMW ($\\mu_\\mathrm{X}$). The 1.5, 2, and 3$\\sigma$ probability contours are indicated by the full and dashed black lines for the retrievals assuming no TLS and with constrained TLS, respectively. Beyond water mole fractions of 90\\%, the background MMW is unconstrained as the global MMW is dominated by that of $H_2$O. Below that, the 1.5 and 2$\\sigma$ confidence regions are confined to a given range of MMW values, as global MMW that are too high/low would result in water absorption features that are too large/small compared to the tentative feature. **Right:** Joint constraints on the background gas MMW and effective surface pressure. (*fig:h2o_vs_pcloud_muX*)\n",
       "\n",
       "</div><div id=\"qrcode\"><img src=https://api.qrserver.com/v1/create-qr-code/?size=100x100&data=\"https://arxiv.org/abs/2509.14224\"></div>"
      ],
      "text/plain": [
       "<IPython.core.display.Markdown object>"
      ]
     },
     "metadata": {},
     "output_type": "display_data"
    }
   ],
   "source": [
    "[display(Markdown(k[1])) for k in documents];"
   ]
  },
  {
   "cell_type": "markdown",
   "id": "873873a4",
   "metadata": {
    "papermill": {
     "duration": 0.007621,
     "end_time": "2025-09-18T04:15:36.902919",
     "exception": false,
     "start_time": "2025-09-18T04:15:36.895298",
     "status": "completed"
    },
    "tags": []
   },
   "source": [
    "# Create HTML index"
   ]
  },
  {
   "cell_type": "code",
   "execution_count": 10,
   "id": "cf665672",
   "metadata": {
    "execution": {
     "iopub.execute_input": "2025-09-18T04:15:36.919040Z",
     "iopub.status.busy": "2025-09-18T04:15:36.918720Z",
     "iopub.status.idle": "2025-09-18T04:15:36.926229Z",
     "shell.execute_reply": "2025-09-18T04:15:36.925550Z"
    },
    "papermill": {
     "duration": 0.016764,
     "end_time": "2025-09-18T04:15:36.927258",
     "exception": false,
     "start_time": "2025-09-18T04:15:36.910494",
     "status": "completed"
    },
    "tags": []
   },
   "outputs": [
    {
     "name": "stdout",
     "output_type": "stream",
     "text": [
      "131  publications files modified in the last 7 days.\n"
     ]
    }
   ],
   "source": [
    "from datetime import datetime, timedelta, timezone\n",
    "from glob import glob\n",
    "import os\n",
    "\n",
    "files = glob('_build/html/*.md')\n",
    "days = 7\n",
    "now = datetime.today()\n",
    "res = []\n",
    "for fk in files:\n",
    "    stat_result = os.stat(fk).st_ctime\n",
    "    modified = datetime.fromtimestamp(stat_result, tz=timezone.utc).replace(tzinfo=None)\n",
    "    delta = now.today() - modified\n",
    "    if delta <= timedelta(days=days):\n",
    "        res.append((delta.seconds, fk))\n",
    "res = [k[1] for k in reversed(sorted(res, key=lambda x:x[1]))]\n",
    "npub = len(res)\n",
    "print(len(res), f\" publications files modified in the last {days:d} days.\")\n",
    "# [ print('\\t', k) for k in res ];"
   ]
  },
  {
   "cell_type": "code",
   "execution_count": 11,
   "id": "015de740",
   "metadata": {
    "execution": {
     "iopub.execute_input": "2025-09-18T04:15:36.943290Z",
     "iopub.status.busy": "2025-09-18T04:15:36.943054Z",
     "iopub.status.idle": "2025-09-18T04:15:36.955497Z",
     "shell.execute_reply": "2025-09-18T04:15:36.954820Z"
    },
    "papermill": {
     "duration": 0.021624,
     "end_time": "2025-09-18T04:15:36.956494",
     "exception": false,
     "start_time": "2025-09-18T04:15:36.934870",
     "status": "completed"
    },
    "tags": []
   },
   "outputs": [
    {
     "name": "stdout",
     "output_type": "stream",
     "text": [
      "17  publications in the last 7 days.\n"
     ]
    }
   ],
   "source": [
    "import datetime\n",
    "from glob import glob\n",
    "\n",
    "def get_last_n_days(lst, days=1):\n",
    "    \"\"\" Get the documents from the last n days \"\"\"\n",
    "    sorted_lst = sorted(lst, key=lambda x: x[1], reverse=True)\n",
    "    for fname, date in sorted_lst:\n",
    "        if date >= str(datetime.date.today() - datetime.timedelta(days=days)):\n",
    "            yield fname\n",
    "\n",
    "def extract_appearance_dates(lst_file):\n",
    "    dates = []\n",
    "\n",
    "    def get_date(line):\n",
    "        return line\\\n",
    "            .split('Appeared on:')[-1]\\\n",
    "            .split('</mark>')[0].strip()\n",
    "\n",
    "    for fname in lst:\n",
    "        with open(fname, 'r') as f:\n",
    "            found_date = False\n",
    "            for line in f:\n",
    "                if not found_date:\n",
    "                    if \"Appeared on\" in line:\n",
    "                        found_date = True\n",
    "                        dates.append((fname, get_date(line)))\n",
    "                else:\n",
    "                    break\n",
    "    return dates\n",
    "\n",
    "from glob import glob\n",
    "lst = glob('_build/html/*md')\n",
    "days = 7\n",
    "dates = extract_appearance_dates(lst)\n",
    "res = list(get_last_n_days(dates, days))\n",
    "npub = len(res)\n",
    "print(len(res), f\" publications in the last {days:d} days.\")"
   ]
  },
  {
   "cell_type": "code",
   "execution_count": 12,
   "id": "52ca0208",
   "metadata": {
    "execution": {
     "iopub.execute_input": "2025-09-18T04:15:36.973283Z",
     "iopub.status.busy": "2025-09-18T04:15:36.973033Z",
     "iopub.status.idle": "2025-09-18T04:15:36.977906Z",
     "shell.execute_reply": "2025-09-18T04:15:36.977370Z"
    },
    "papermill": {
     "duration": 0.014448,
     "end_time": "2025-09-18T04:15:36.978933",
     "exception": false,
     "start_time": "2025-09-18T04:15:36.964485",
     "status": "completed"
    },
    "scrolled": false,
    "tags": []
   },
   "outputs": [],
   "source": [
    "def create_carousel(npub=4):\n",
    "    \"\"\" Generate the HTML code for a carousel with `npub` slides \"\"\"\n",
    "    carousel = [\"\"\"  <div class=\"carousel\" \"\"\",\n",
    "                \"\"\"       data-flickity='{ \"autoPlay\": 10000, \"adaptiveHeight\": true, \"resize\": true, \"wrapAround\": true, \"pauseAutoPlayOnHover\": true, \"groupCells\": 1 }' id=\"asyncTypeset\">\"\"\"\n",
    "                ]\n",
    "    \n",
    "    item_str = \"\"\"    <div class=\"carousel-cell\"> <div id=\"slide{k}\" class=\"md_view\">Content {k}</div> </div>\"\"\"\n",
    "    for k in range(1, npub + 1):\n",
    "        carousel.append(item_str.format(k=k))\n",
    "    carousel.append(\"  </div>\")\n",
    "    return '\\n'.join(carousel)\n",
    "\n",
    "def create_grid(npub=4):\n",
    "    \"\"\" Generate the HTML code for a flat grid with `npub` slides \"\"\"\n",
    "    grid = [\"\"\"  <div class=\"grid\"> \"\"\",\n",
    "                ]\n",
    "    \n",
    "    item_str = \"\"\"    <div class=\"grid-item\"> <div id=\"slide{k}\" class=\"md_view\">Content {k}</div> </div>\"\"\"\n",
    "    for k in range(1, npub + 1):\n",
    "        grid.append(item_str.format(k=k))\n",
    "    grid.append(\"  </div>\")\n",
    "    return '\\n'.join(grid)"
   ]
  },
  {
   "cell_type": "code",
   "execution_count": 13,
   "id": "a6eac5b6",
   "metadata": {
    "execution": {
     "iopub.execute_input": "2025-09-18T04:15:36.995140Z",
     "iopub.status.busy": "2025-09-18T04:15:36.994900Z",
     "iopub.status.idle": "2025-09-18T04:15:37.000047Z",
     "shell.execute_reply": "2025-09-18T04:15:36.999383Z"
    },
    "papermill": {
     "duration": 0.014479,
     "end_time": "2025-09-18T04:15:37.001150",
     "exception": false,
     "start_time": "2025-09-18T04:15:36.986671",
     "status": "completed"
    },
    "scrolled": false,
    "tags": []
   },
   "outputs": [],
   "source": [
    "carousel = create_carousel(npub)\n",
    "docs = ', '.join(['\"{0:s}\"'.format(k.split('/')[-1]) for k in res])\n",
    "slides = ', '.join([f'\"slide{k}\"' for k in range(1, npub + 1)])\n",
    "\n",
    "with open(\"daily_template.html\", \"r\") as tpl:\n",
    "    page = tpl.read()\n",
    "    page = page.replace(\"{%-- carousel:s --%}\", carousel)\\\n",
    "               .replace(\"{%-- suptitle:s --%}\",  \"7-day archives\" )\\\n",
    "               .replace(\"{%-- docs:s --%}\", docs)\\\n",
    "               .replace(\"{%-- slides:s --%}\", slides)\n",
    "    \n",
    "with open(\"_build/html/index_7days.html\", 'w') as fout:\n",
    "    fout.write(page)"
   ]
  },
  {
   "cell_type": "code",
   "execution_count": 14,
   "id": "adc1a1ec",
   "metadata": {
    "execution": {
     "iopub.execute_input": "2025-09-18T04:15:37.017547Z",
     "iopub.status.busy": "2025-09-18T04:15:37.017314Z",
     "iopub.status.idle": "2025-09-18T04:15:37.023793Z",
     "shell.execute_reply": "2025-09-18T04:15:37.023132Z"
    },
    "papermill": {
     "duration": 0.015821,
     "end_time": "2025-09-18T04:15:37.024839",
     "exception": false,
     "start_time": "2025-09-18T04:15:37.009018",
     "status": "completed"
    },
    "tags": []
   },
   "outputs": [
    {
     "name": "stdout",
     "output_type": "stream",
     "text": [
      "9  publications in the last day.\n"
     ]
    }
   ],
   "source": [
    "# redo for today\n",
    "days = 1\n",
    "res = list(get_last_n_days(dates, days))\n",
    "npub = len(res)\n",
    "print(len(res), f\" publications in the last day.\")\n",
    "\n",
    "carousel = create_carousel(npub)\n",
    "docs = ', '.join(['\"{0:s}\"'.format(k.split('/')[-1]) for k in res])\n",
    "slides = ', '.join([f'\"slide{k}\"' for k in range(1, npub + 1)])\n",
    "\n",
    "with open(\"daily_template.html\", \"r\") as tpl:\n",
    "    page = tpl.read()\n",
    "    page = page.replace(\"{%-- carousel:s --%}\", carousel)\\\n",
    "               .replace(\"{%-- suptitle:s --%}\",  \"Daily\" )\\\n",
    "               .replace(\"{%-- docs:s --%}\", docs)\\\n",
    "               .replace(\"{%-- slides:s --%}\", slides)\n",
    "    \n",
    "# print(carousel, docs, slides)\n",
    "# print(page)\n",
    "with open(\"_build/html/index_daily.html\", 'w') as fout:\n",
    "    fout.write(page)"
   ]
  },
  {
   "cell_type": "code",
   "execution_count": 15,
   "id": "00eece82",
   "metadata": {
    "execution": {
     "iopub.execute_input": "2025-09-18T04:15:37.041342Z",
     "iopub.status.busy": "2025-09-18T04:15:37.041093Z",
     "iopub.status.idle": "2025-09-18T04:15:37.047629Z",
     "shell.execute_reply": "2025-09-18T04:15:37.046969Z"
    },
    "papermill": {
     "duration": 0.015876,
     "end_time": "2025-09-18T04:15:37.048628",
     "exception": false,
     "start_time": "2025-09-18T04:15:37.032752",
     "status": "completed"
    },
    "scrolled": false,
    "tags": []
   },
   "outputs": [
    {
     "name": "stdout",
     "output_type": "stream",
     "text": [
      "6  6 publications selected.\n"
     ]
    }
   ],
   "source": [
    "# Create the flat grid of the last N papers (fixed number regardless of dates)\n",
    "from itertools import islice \n",
    "\n",
    "npub = 6\n",
    "res = [k[0] for k in (islice(reversed(sorted(dates, key=lambda x: x[1])), 6))]\n",
    "print(len(res), f\" {npub} publications selected.\")\n",
    "\n",
    "grid = create_grid(npub)\n",
    "docs = ', '.join(['\"{0:s}\"'.format(k.split('/')[-1]) for k in res])\n",
    "slides = ', '.join([f'\"slide{k}\"' for k in range(1, npub + 1)])\n",
    "\n",
    "with open(\"grid_template.html\", \"r\") as tpl:\n",
    "    page = tpl.read()\n",
    "    page = page.replace(\"{%-- grid-content:s --%}\", grid)\\\n",
    "               .replace(\"{%-- suptitle:s --%}\",  f\"Last {npub:,d} papers\" )\\\n",
    "               .replace(\"{%-- docs:s --%}\", docs)\\\n",
    "               .replace(\"{%-- slides:s --%}\", slides)\n",
    "    \n",
    "# print(grid, docs, slides)\n",
    "# print(page)\n",
    "with open(\"_build/html/index_npub_grid.html\", 'w') as fout:\n",
    "    fout.write(page)"
   ]
  }
 ],
 "metadata": {
  "kernelspec": {
   "display_name": "Python 3 (ipykernel)",
   "language": "python",
   "name": "python3"
  },
  "language_info": {
   "codemirror_mode": {
    "name": "ipython",
    "version": 3
   },
   "file_extension": ".py",
   "mimetype": "text/x-python",
   "name": "python",
   "nbconvert_exporter": "python",
   "pygments_lexer": "ipython3",
   "version": "3.9.23"
  },
  "papermill": {
   "default_parameters": {},
   "duration": 142.255813,
   "end_time": "2025-09-18T04:15:37.272374",
   "environment_variables": {},
   "exception": null,
   "input_path": "MPIA daily digest.ipynb",
   "output_path": "log.ipynb",
   "parameters": {},
   "start_time": "2025-09-18T04:13:15.016561",
   "version": "2.6.0"
  },
  "vscode": {
   "interpreter": {
    "hash": "aee8b7b246df8f9039afb4144a1f6fd8d2ca17a180786b69acc140d282b71a49"
   }
  },
  "widgets": {
   "application/vnd.jupyter.widget-state+json": {
    "state": {
     "0d0c89d032f54e05893d37352be3b244": {
      "model_module": "@jupyter-widgets/base",
      "model_module_version": "2.0.0",
      "model_name": "LayoutModel",
      "state": {
       "_model_module": "@jupyter-widgets/base",
       "_model_module_version": "2.0.0",
       "_model_name": "LayoutModel",
       "_view_count": null,
       "_view_module": "@jupyter-widgets/base",
       "_view_module_version": "2.0.0",
       "_view_name": "LayoutView",
       "align_content": null,
       "align_items": null,
       "align_self": null,
       "border_bottom": null,
       "border_left": null,
       "border_right": null,
       "border_top": null,
       "bottom": null,
       "display": null,
       "flex": null,
       "flex_flow": null,
       "grid_area": null,
       "grid_auto_columns": null,
       "grid_auto_flow": null,
       "grid_auto_rows": null,
       "grid_column": null,
       "grid_gap": null,
       "grid_row": null,
       "grid_template_areas": null,
       "grid_template_columns": null,
       "grid_template_rows": null,
       "height": null,
       "justify_content": null,
       "justify_items": null,
       "left": null,
       "margin": null,
       "max_height": null,
       "max_width": null,
       "min_height": null,
       "min_width": null,
       "object_fit": null,
       "object_position": null,
       "order": null,
       "overflow": null,
       "padding": null,
       "right": null,
       "top": null,
       "visibility": null,
       "width": null
      }
     },
     "1f026f1bd61d4c4fb041a55a1317fb0c": {
      "model_module": "@jupyter-widgets/controls",
      "model_module_version": "2.0.0",
      "model_name": "ProgressStyleModel",
      "state": {
       "_model_module": "@jupyter-widgets/controls",
       "_model_module_version": "2.0.0",
       "_model_name": "ProgressStyleModel",
       "_view_count": null,
       "_view_module": "@jupyter-widgets/base",
       "_view_module_version": "2.0.0",
       "_view_name": "StyleView",
       "bar_color": null,
       "description_width": ""
      }
     },
     "25d8ca303dcb41f0bd8e4e0ba61537a4": {
      "model_module": "@jupyter-widgets/controls",
      "model_module_version": "2.0.0",
      "model_name": "FloatProgressModel",
      "state": {
       "_dom_classes": [],
       "_model_module": "@jupyter-widgets/controls",
       "_model_module_version": "2.0.0",
       "_model_name": "FloatProgressModel",
       "_view_count": null,
       "_view_module": "@jupyter-widgets/controls",
       "_view_module_version": "2.0.0",
       "_view_name": "ProgressView",
       "bar_style": "success",
       "description": "",
       "description_allow_html": false,
       "layout": "IPY_MODEL_8db1d2ff955540a3a8ecb253c1eb81ac",
       "max": 10.0,
       "min": 0.0,
       "orientation": "horizontal",
       "style": "IPY_MODEL_1f026f1bd61d4c4fb041a55a1317fb0c",
       "tabbable": null,
       "tooltip": null,
       "value": 10.0
      }
     },
     "2d0e3a24f99849ac8c73dd1edc5da108": {
      "model_module": "@jupyter-widgets/controls",
      "model_module_version": "2.0.0",
      "model_name": "HTMLModel",
      "state": {
       "_dom_classes": [],
       "_model_module": "@jupyter-widgets/controls",
       "_model_module_version": "2.0.0",
       "_model_name": "HTMLModel",
       "_view_count": null,
       "_view_module": "@jupyter-widgets/controls",
       "_view_module_version": "2.0.0",
       "_view_name": "HTMLView",
       "description": "",
       "description_allow_html": false,
       "layout": "IPY_MODEL_0d0c89d032f54e05893d37352be3b244",
       "placeholder": "​",
       "style": "IPY_MODEL_addf6f3bb94c4e8ca27e2e52a3e4d18f",
       "tabbable": null,
       "tooltip": null,
       "value": "100%"
      }
     },
     "6e3e9bbe3f554bb2acecce1af70a1289": {
      "model_module": "@jupyter-widgets/controls",
      "model_module_version": "2.0.0",
      "model_name": "HTMLStyleModel",
      "state": {
       "_model_module": "@jupyter-widgets/controls",
       "_model_module_version": "2.0.0",
       "_model_name": "HTMLStyleModel",
       "_view_count": null,
       "_view_module": "@jupyter-widgets/base",
       "_view_module_version": "2.0.0",
       "_view_name": "StyleView",
       "background": null,
       "description_width": "",
       "font_size": null,
       "text_color": null
      }
     },
     "8db1d2ff955540a3a8ecb253c1eb81ac": {
      "model_module": "@jupyter-widgets/base",
      "model_module_version": "2.0.0",
      "model_name": "LayoutModel",
      "state": {
       "_model_module": "@jupyter-widgets/base",
       "_model_module_version": "2.0.0",
       "_model_name": "LayoutModel",
       "_view_count": null,
       "_view_module": "@jupyter-widgets/base",
       "_view_module_version": "2.0.0",
       "_view_name": "LayoutView",
       "align_content": null,
       "align_items": null,
       "align_self": null,
       "border_bottom": null,
       "border_left": null,
       "border_right": null,
       "border_top": null,
       "bottom": null,
       "display": null,
       "flex": null,
       "flex_flow": null,
       "grid_area": null,
       "grid_auto_columns": null,
       "grid_auto_flow": null,
       "grid_auto_rows": null,
       "grid_column": null,
       "grid_gap": null,
       "grid_row": null,
       "grid_template_areas": null,
       "grid_template_columns": null,
       "grid_template_rows": null,
       "height": null,
       "justify_content": null,
       "justify_items": null,
       "left": null,
       "margin": null,
       "max_height": null,
       "max_width": null,
       "min_height": null,
       "min_width": null,
       "object_fit": null,
       "object_position": null,
       "order": null,
       "overflow": null,
       "padding": null,
       "right": null,
       "top": null,
       "visibility": null,
       "width": null
      }
     },
     "8ec6137f75984a86aa63feafad74c6cb": {
      "model_module": "@jupyter-widgets/base",
      "model_module_version": "2.0.0",
      "model_name": "LayoutModel",
      "state": {
       "_model_module": "@jupyter-widgets/base",
       "_model_module_version": "2.0.0",
       "_model_name": "LayoutModel",
       "_view_count": null,
       "_view_module": "@jupyter-widgets/base",
       "_view_module_version": "2.0.0",
       "_view_name": "LayoutView",
       "align_content": null,
       "align_items": null,
       "align_self": null,
       "border_bottom": null,
       "border_left": null,
       "border_right": null,
       "border_top": null,
       "bottom": null,
       "display": null,
       "flex": null,
       "flex_flow": null,
       "grid_area": null,
       "grid_auto_columns": null,
       "grid_auto_flow": null,
       "grid_auto_rows": null,
       "grid_column": null,
       "grid_gap": null,
       "grid_row": null,
       "grid_template_areas": null,
       "grid_template_columns": null,
       "grid_template_rows": null,
       "height": null,
       "justify_content": null,
       "justify_items": null,
       "left": null,
       "margin": null,
       "max_height": null,
       "max_width": null,
       "min_height": null,
       "min_width": null,
       "object_fit": null,
       "object_position": null,
       "order": null,
       "overflow": null,
       "padding": null,
       "right": null,
       "top": null,
       "visibility": null,
       "width": null
      }
     },
     "addf6f3bb94c4e8ca27e2e52a3e4d18f": {
      "model_module": "@jupyter-widgets/controls",
      "model_module_version": "2.0.0",
      "model_name": "HTMLStyleModel",
      "state": {
       "_model_module": "@jupyter-widgets/controls",
       "_model_module_version": "2.0.0",
       "_model_name": "HTMLStyleModel",
       "_view_count": null,
       "_view_module": "@jupyter-widgets/base",
       "_view_module_version": "2.0.0",
       "_view_name": "StyleView",
       "background": null,
       "description_width": "",
       "font_size": null,
       "text_color": null
      }
     },
     "b224aaab33574ab98a5c4feb48646557": {
      "model_module": "@jupyter-widgets/controls",
      "model_module_version": "2.0.0",
      "model_name": "HTMLModel",
      "state": {
       "_dom_classes": [],
       "_model_module": "@jupyter-widgets/controls",
       "_model_module_version": "2.0.0",
       "_model_name": "HTMLModel",
       "_view_count": null,
       "_view_module": "@jupyter-widgets/controls",
       "_view_module_version": "2.0.0",
       "_view_name": "HTMLView",
       "description": "",
       "description_allow_html": false,
       "layout": "IPY_MODEL_d0b4ad76754a4fef82b10f4a565c4a55",
       "placeholder": "​",
       "style": "IPY_MODEL_6e3e9bbe3f554bb2acecce1af70a1289",
       "tabbable": null,
       "tooltip": null,
       "value": " 10/10 [01:55&lt;00:00, 12.74s/it]"
      }
     },
     "d0b4ad76754a4fef82b10f4a565c4a55": {
      "model_module": "@jupyter-widgets/base",
      "model_module_version": "2.0.0",
      "model_name": "LayoutModel",
      "state": {
       "_model_module": "@jupyter-widgets/base",
       "_model_module_version": "2.0.0",
       "_model_name": "LayoutModel",
       "_view_count": null,
       "_view_module": "@jupyter-widgets/base",
       "_view_module_version": "2.0.0",
       "_view_name": "LayoutView",
       "align_content": null,
       "align_items": null,
       "align_self": null,
       "border_bottom": null,
       "border_left": null,
       "border_right": null,
       "border_top": null,
       "bottom": null,
       "display": null,
       "flex": null,
       "flex_flow": null,
       "grid_area": null,
       "grid_auto_columns": null,
       "grid_auto_flow": null,
       "grid_auto_rows": null,
       "grid_column": null,
       "grid_gap": null,
       "grid_row": null,
       "grid_template_areas": null,
       "grid_template_columns": null,
       "grid_template_rows": null,
       "height": null,
       "justify_content": null,
       "justify_items": null,
       "left": null,
       "margin": null,
       "max_height": null,
       "max_width": null,
       "min_height": null,
       "min_width": null,
       "object_fit": null,
       "object_position": null,
       "order": null,
       "overflow": null,
       "padding": null,
       "right": null,
       "top": null,
       "visibility": null,
       "width": null
      }
     },
     "f55255d4d0c846e6864847cf7bdbbb0a": {
      "model_module": "@jupyter-widgets/controls",
      "model_module_version": "2.0.0",
      "model_name": "HBoxModel",
      "state": {
       "_dom_classes": [],
       "_model_module": "@jupyter-widgets/controls",
       "_model_module_version": "2.0.0",
       "_model_name": "HBoxModel",
       "_view_count": null,
       "_view_module": "@jupyter-widgets/controls",
       "_view_module_version": "2.0.0",
       "_view_name": "HBoxView",
       "box_style": "",
       "children": [
        "IPY_MODEL_2d0e3a24f99849ac8c73dd1edc5da108",
        "IPY_MODEL_25d8ca303dcb41f0bd8e4e0ba61537a4",
        "IPY_MODEL_b224aaab33574ab98a5c4feb48646557"
       ],
       "layout": "IPY_MODEL_8ec6137f75984a86aa63feafad74c6cb",
       "tabbable": null,
       "tooltip": null
      }
     }
    },
    "version_major": 2,
    "version_minor": 0
   }
  }
 },
 "nbformat": 4,
 "nbformat_minor": 5
}