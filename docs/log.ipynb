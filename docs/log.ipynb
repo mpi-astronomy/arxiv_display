{
 "cells": [
  {
   "cell_type": "markdown",
   "id": "92bcb855",
   "metadata": {
    "papermill": {
     "duration": 0.003936,
     "end_time": "2025-05-29T04:16:12.346389",
     "exception": false,
     "start_time": "2025-05-29T04:16:12.342453",
     "status": "completed"
    },
    "tags": []
   },
   "source": [
    "# MPIA Arxiv on Deck 2\n",
    "\n",
    "Contains the steps to produce the paper extractions."
   ]
  },
  {
   "cell_type": "code",
   "execution_count": 1,
   "id": "3a0d6e11",
   "metadata": {
    "execution": {
     "iopub.execute_input": "2025-05-29T04:16:12.353900Z",
     "iopub.status.busy": "2025-05-29T04:16:12.353623Z",
     "iopub.status.idle": "2025-05-29T04:16:12.909578Z",
     "shell.execute_reply": "2025-05-29T04:16:12.908932Z"
    },
    "papermill": {
     "duration": 0.561267,
     "end_time": "2025-05-29T04:16:12.910953",
     "exception": false,
     "start_time": "2025-05-29T04:16:12.349686",
     "status": "completed"
    },
    "tags": []
   },
   "outputs": [],
   "source": [
    "# Imports\n",
    "import os\n",
    "from IPython.display import Markdown, display\n",
    "from tqdm.notebook import tqdm\n",
    "import warnings\n",
    "from PIL import Image \n",
    "import re\n",
    "\n",
    "# requires arxiv_on_deck_2\n",
    "\n",
    "from arxiv_on_deck_2.arxiv2 import (get_new_papers, \n",
    "                                    get_paper_from_identifier,\n",
    "                                    retrieve_document_source, \n",
    "                                    get_markdown_badge)\n",
    "from arxiv_on_deck_2 import (latex,\n",
    "                             latex_bib,\n",
    "                             mpia,\n",
    "                             highlight_authors_in_list)\n",
    "\n",
    "# Sometimes images are really big\n",
    "Image.MAX_IMAGE_PIXELS = 1000000000 "
   ]
  },
  {
   "cell_type": "code",
   "execution_count": 2,
   "id": "22aa9d44",
   "metadata": {
    "execution": {
     "iopub.execute_input": "2025-05-29T04:16:12.918523Z",
     "iopub.status.busy": "2025-05-29T04:16:12.917989Z",
     "iopub.status.idle": "2025-05-29T04:16:12.926193Z",
     "shell.execute_reply": "2025-05-29T04:16:12.925639Z"
    },
    "papermill": {
     "duration": 0.012946,
     "end_time": "2025-05-29T04:16:12.927212",
     "exception": false,
     "start_time": "2025-05-29T04:16:12.914266",
     "status": "completed"
    },
    "tags": []
   },
   "outputs": [],
   "source": [
    "# Some useful definitions.\n",
    "\n",
    "class AffiliationWarning(UserWarning):\n",
    "    pass\n",
    "\n",
    "class AffiliationError(RuntimeError):\n",
    "    pass\n",
    "\n",
    "def validation(source: str):\n",
    "    \"\"\"Raises error paper during parsing of source file\n",
    "    \n",
    "    Allows checks before parsing TeX code.\n",
    "    \n",
    "    Raises AffiliationWarning\n",
    "    \"\"\"\n",
    "    check = mpia.affiliation_verifications(source, verbose=True)\n",
    "    if check is not True:\n",
    "        raise AffiliationError(\"mpia.affiliation_verifications: \" + check)\n",
    "\n",
    "        \n",
    "warnings.simplefilter('always', AffiliationWarning)\n",
    "\n",
    "\n",
    "def get_markdown_qrcode(paper_id: str):\n",
    "    \"\"\" Generate a qrcode to the arxiv page using qrserver.com\n",
    "    \n",
    "    :param paper: Arxiv paper\n",
    "    :returns: markdown text\n",
    "    \"\"\"\n",
    "    url = r\"https://api.qrserver.com/v1/create-qr-code/?size=100x100&data=\"\n",
    "    txt = f\"\"\"<img src={url}\"https://arxiv.org/abs/{paper_id}\">\"\"\"\n",
    "    txt = '<div id=\"qrcode\">' + txt + '</div>'\n",
    "    return txt\n",
    "\n",
    "\n",
    "def clean_non_western_encoded_characters_commands(text: str) -> str:\n",
    "    \"\"\" Remove non-western encoded characters from a string\n",
    "    List may need to grow.\n",
    "    \n",
    "    :param text: the text to clean\n",
    "    :return: the cleaned text\n",
    "    \"\"\"\n",
    "    text = re.sub(r\"(\\\\begin{CJK}{UTF8}{gbsn})(.*?)(\\\\end{CJK})\", r\"\\2\", text)\n",
    "    return text\n",
    "\n",
    "\n",
    "def get_initials(name: str) -> str:\n",
    "    \"\"\" Get the short name, e.g., A.-B. FamName\n",
    "    :param name: full name\n",
    "    :returns: initials\n",
    "    \"\"\"\n",
    "    initials = []\n",
    "    # account for non western names often in ()\n",
    "    if '(' in name:\n",
    "        name = clean_non_western_encoded_characters_commands(name)\n",
    "        suffix = re.findall(r\"\\((.*?)\\)\", name)[0]\n",
    "        name = name.replace(f\"({suffix})\", '')\n",
    "    else:\n",
    "        suffix = ''\n",
    "    split = name.split()\n",
    "    for token in split[:-1]:\n",
    "        if '-' in token:\n",
    "            current = '-'.join([k[0] + '.' for k in token.split('-')])\n",
    "        else:\n",
    "            current = token[0] + '.'\n",
    "        initials.append(current)\n",
    "    initials.append(split[-1].strip())\n",
    "    if suffix:\n",
    "        initials.append(f\"({suffix})\")\n",
    "    return ' '.join(initials)"
   ]
  },
  {
   "cell_type": "markdown",
   "id": "14bd6310",
   "metadata": {
    "papermill": {
     "duration": 0.002876,
     "end_time": "2025-05-29T04:16:12.933077",
     "exception": false,
     "start_time": "2025-05-29T04:16:12.930201",
     "status": "completed"
    },
    "tags": []
   },
   "source": [
    "## get list of arxiv paper candidates\n",
    "\n",
    "We use the MPIA mitarbeiter list webpage from mpia.de to get author names\n",
    "We then get all new papers from Arxiv and match authors"
   ]
  },
  {
   "cell_type": "code",
   "execution_count": 3,
   "id": "7ea813a8",
   "metadata": {
    "execution": {
     "iopub.execute_input": "2025-05-29T04:16:12.939999Z",
     "iopub.status.busy": "2025-05-29T04:16:12.939507Z",
     "iopub.status.idle": "2025-05-29T04:16:46.546144Z",
     "shell.execute_reply": "2025-05-29T04:16:46.545436Z"
    },
    "papermill": {
     "duration": 33.61155,
     "end_time": "2025-05-29T04:16:46.547561",
     "exception": false,
     "start_time": "2025-05-29T04:16:12.936011",
     "status": "completed"
    },
    "tags": []
   },
   "outputs": [],
   "source": [
    "# deal with the author list and edge cases of people that cannot be consistent on their name  \n",
    "\n",
    "def filter_non_scientists(name: str) -> bool:\n",
    "    \"\"\" Loose filter on expected authorships\n",
    "\n",
    "    removing IT, administration, technical staff\n",
    "    :param name: name\n",
    "    :returns: False if name is not a scientist\n",
    "    \"\"\"\n",
    "    remove_list = ['Licht', 'Binroth', 'Witzel', 'Jordan',\n",
    "                   'Zähringer', 'Scheerer', 'Hoffmann', 'Düe',\n",
    "                   'Hellmich', 'Enkler-Scharpegge', 'Witte-Nguy',\n",
    "                   'Dehen', 'Beckmann', 'Jager', 'Jäger'\n",
    "                  ]\n",
    "\n",
    "    for k in remove_list:\n",
    "        if k in name:\n",
    "            return False\n",
    "    return True\n",
    "\n",
    "def add_author_to_list(author_list: list) -> list:\n",
    "    \"\"\" Add author to list if not already in list\n",
    "    \n",
    "    :param author: author name\n",
    "    :param author_list: list of authors\n",
    "    :returns: updated list of authors\n",
    "    \"\"\"\n",
    "    add_list = ['T. Henning']\n",
    "\n",
    "    for author in add_list:\n",
    "        if author not in author_list:\n",
    "            author_list.append(author)\n",
    "    return author_list\n",
    "\n",
    "# get list from MPIA website\n",
    "# filter for non-scientists (mpia.get_mpia_mitarbeiter_list() does some filtering)\n",
    "mpia_authors = [k[1] for k in mpia.get_mpia_mitarbeiter_list() if filter_non_scientists(k[1])]\n",
    "# add some missing author because of inconsistencies in their MPIA name and author name on papers\n",
    "mpia_authors = add_author_to_list(mpia_authors)"
   ]
  },
  {
   "cell_type": "code",
   "execution_count": 4,
   "id": "2645e73a",
   "metadata": {
    "execution": {
     "iopub.execute_input": "2025-05-29T04:16:46.555339Z",
     "iopub.status.busy": "2025-05-29T04:16:46.554895Z",
     "iopub.status.idle": "2025-05-29T04:16:47.272685Z",
     "shell.execute_reply": "2025-05-29T04:16:47.272051Z"
    },
    "papermill": {
     "duration": 0.722745,
     "end_time": "2025-05-29T04:16:47.273737",
     "exception": false,
     "start_time": "2025-05-29T04:16:46.550992",
     "status": "completed"
    },
    "tags": []
   },
   "outputs": [
    {
     "name": "stdout",
     "output_type": "stream",
     "text": [
      "M. Sharma  ->  Y. M. Sharma  |  ['M. Sharma']\n",
      "A. Dimoff  ->  A. Dimoff  |  ['A. Dimoff']\n",
      "R. Seeburger  ->  L. R. Seeburger  |  ['R. Seeburger']\n",
      "X. Zhang  ->  X. Zhang  |  ['X. Zhang']\n"
     ]
    },
    {
     "name": "stdout",
     "output_type": "stream",
     "text": [
      "Arxiv has 66 new papers today\n",
      "          3 with possible author matches\n"
     ]
    }
   ],
   "source": [
    "new_papers = get_new_papers()\n",
    "# add manual references\n",
    "add_paper_refs = []\n",
    "new_papers.extend([get_paper_from_identifier(k) for k in add_paper_refs])\n",
    "\n",
    "def robust_call(fn, value, *args, **kwargs):\n",
    "    try:\n",
    "        return fn(value, *args, **kwargs)\n",
    "    except Exception:\n",
    "        return value\n",
    "\n",
    "candidates = []\n",
    "for paperk in new_papers:\n",
    "    # Check author list with their initials\n",
    "    normed_author_list = [robust_call(mpia.get_initials, k) for k in paperk['authors']]\n",
    "    hl_authors = highlight_authors_in_list(normed_author_list, mpia_authors, verbose=True)\n",
    "    matches = [(hl, orig) for hl, orig in zip(hl_authors, paperk['authors']) if 'mark' in hl]\n",
    "    paperk['authors'] = hl_authors\n",
    "    if matches:\n",
    "        # only select paper if an author matched our list\n",
    "        candidates.append(paperk)\n",
    "print(\"\"\"Arxiv has {0:,d} new papers today\"\"\".format(len(new_papers)))        \n",
    "print(\"\"\"          {0:,d} with possible author matches\"\"\".format(len(candidates)))"
   ]
  },
  {
   "cell_type": "markdown",
   "id": "3543b34a",
   "metadata": {
    "papermill": {
     "duration": 0.003136,
     "end_time": "2025-05-29T04:16:47.280398",
     "exception": false,
     "start_time": "2025-05-29T04:16:47.277262",
     "status": "completed"
    },
    "tags": []
   },
   "source": [
    "# Parse sources and generate relevant outputs\n",
    "\n",
    "From the candidates, we do the following steps:\n",
    "* get their tarball from ArXiv (and extract data)\n",
    "* find the main .tex file: find one with \\documentclass{...} (sometimes it's non trivial)\n",
    "* Check affiliations with :func:`validation`, which uses :func:`mpia.affiliation_verifications`\n",
    "* If passing the affiliations: we parse the .tex source\n",
    "   * inject sub-documents into the main (flatten the main document)\n",
    "   * parse structure, extract information (title, abstract, authors, figures...)\n",
    "   * handles `\\graphicspath` if provided\n",
    "* Generate the .md document."
   ]
  },
  {
   "cell_type": "code",
   "execution_count": 5,
   "id": "9576b79e",
   "metadata": {
    "execution": {
     "iopub.execute_input": "2025-05-29T04:16:47.288005Z",
     "iopub.status.busy": "2025-05-29T04:16:47.287470Z",
     "iopub.status.idle": "2025-05-29T04:16:52.292937Z",
     "shell.execute_reply": "2025-05-29T04:16:52.292252Z"
    },
    "papermill": {
     "duration": 5.010418,
     "end_time": "2025-05-29T04:16:52.293933",
     "exception": false,
     "start_time": "2025-05-29T04:16:47.283515",
     "status": "completed"
    },
    "scrolled": false,
    "tags": []
   },
   "outputs": [
    {
     "data": {
      "application/vnd.jupyter.widget-view+json": {
       "model_id": "1881ceabccae4406bbe3c5f8b4e22543",
       "version_major": 2,
       "version_minor": 0
      },
      "text/plain": [
       "  0%|          | 0/3 [00:00<?, ?it/s]"
      ]
     },
     "metadata": {},
     "output_type": "display_data"
    },
    {
     "name": "stdout",
     "output_type": "stream",
     "text": [
      "Retrieving document from  https://arxiv.org/e-print/2505.21630\n"
     ]
    },
    {
     "name": "stdout",
     "output_type": "stream",
     "text": [
      "extracting tarball to tmp_2505.21630... done.\n"
     ]
    },
    {
     "name": "stdout",
     "output_type": "stream",
     "text": [
      "Retrieving document from  https://arxiv.org/e-print/2505.22201\n"
     ]
    },
    {
     "name": "stdout",
     "output_type": "stream",
     "text": [
      "extracting tarball to tmp_2505.22201..."
     ]
    },
    {
     "name": "stdout",
     "output_type": "stream",
     "text": [
      " done.\n"
     ]
    },
    {
     "name": "stdout",
     "output_type": "stream",
     "text": [
      "A. Dimoff  ->  A. Dimoff  |  ['A. Dimoff']\n"
     ]
    },
    {
     "name": "stdout",
     "output_type": "stream",
     "text": [
      "Found 90 bibliographic references in tmp_2505.22201/Modeling_the_progenitors_of_low_mass_post_accretion_binaries.bbl.\n",
      "Issues with the citations\n",
      "syntax error in line 144: '=' expected\n",
      "Retrieving document from  https://arxiv.org/e-print/2505.22369\n"
     ]
    },
    {
     "name": "stdout",
     "output_type": "stream",
     "text": [
      "extracting tarball to tmp_2505.22369..."
     ]
    },
    {
     "name": "stdout",
     "output_type": "stream",
     "text": [
      " done.\n"
     ]
    }
   ],
   "source": [
    "documents = []\n",
    "failed = []\n",
    "for paper in tqdm(candidates):\n",
    "    # debug crap\n",
    "    paper['identifier'] = paper['identifier'].lower().replace('arxiv:', '').replace(r'\\n', '').strip()\n",
    "    paper_id = paper['identifier']\n",
    "    \n",
    "    folder = f'tmp_{paper_id}'\n",
    "\n",
    "    try:\n",
    "        if not os.path.isdir(folder):\n",
    "            folder = retrieve_document_source(f\"{paper_id}\", f'tmp_{paper_id}')\n",
    "        \n",
    "        try:\n",
    "            doc = latex.LatexDocument(folder, validation=validation)    \n",
    "        except AffiliationError as affilerror:\n",
    "            msg = f\"ArXiv:{paper_id:s} is not an MPIA paper... \" + str(affilerror)\n",
    "            failed.append((paper, \"affiliation error: \" + str(affilerror) ))\n",
    "            continue\n",
    "        \n",
    "        # Hack because sometimes author parsing does not work well\n",
    "        if (len(doc.authors) != len(paper['authors'])):\n",
    "            doc._authors = paper['authors']\n",
    "        else:\n",
    "            # highlight authors (FIXME: doc.highlight_authors)\n",
    "            # done on arxiv paper already\n",
    "            doc._authors = highlight_authors_in_list(\n",
    "                [get_initials(k) for k in doc.authors], \n",
    "                mpia_authors, verbose=True)\n",
    "        if (doc.abstract) in (None, ''):\n",
    "            doc._abstract = paper['abstract']\n",
    "            \n",
    "        doc.comment = (get_markdown_badge(paper_id) + \n",
    "                       \"<mark>Appeared on: \" + paper['date'] + \"</mark> - \")\n",
    "        if paper['comments']:\n",
    "            doc.comment += \" _\" + paper['comments'] + \"_\"\n",
    "        \n",
    "        full_md = doc.generate_markdown_text()\n",
    "        \n",
    "        full_md += get_markdown_qrcode(paper_id)\n",
    "        \n",
    "        # replace citations\n",
    "        try:\n",
    "            bibdata = latex_bib.LatexBib.from_doc(doc)\n",
    "            full_md = latex_bib.replace_citations(full_md, bibdata)\n",
    "        except Exception as e:\n",
    "            print(\"Issues with the citations\")\n",
    "            print(e)\n",
    "        \n",
    "        documents.append((paper_id, full_md))\n",
    "    except Exception as e:\n",
    "        warnings.warn(latex.LatexWarning(f\"{paper_id:s} did not run properly\\n\" +\n",
    "                                         str(e)\n",
    "                                        ))\n",
    "        failed.append((paper, \"latex error \" + str(e)))"
   ]
  },
  {
   "cell_type": "markdown",
   "id": "2505a25c",
   "metadata": {
    "papermill": {
     "duration": 0.003575,
     "end_time": "2025-05-29T04:16:52.301529",
     "exception": false,
     "start_time": "2025-05-29T04:16:52.297954",
     "status": "completed"
    },
    "tags": []
   },
   "source": [
    "### Export the logs\n",
    "\n",
    "Throughout, we also keep track of the logs per paper. see `logs-{today date}.md` "
   ]
  },
  {
   "cell_type": "code",
   "execution_count": 6,
   "id": "d733828a",
   "metadata": {
    "execution": {
     "iopub.execute_input": "2025-05-29T04:16:52.309725Z",
     "iopub.status.busy": "2025-05-29T04:16:52.309494Z",
     "iopub.status.idle": "2025-05-29T04:16:52.322979Z",
     "shell.execute_reply": "2025-05-29T04:16:52.322462Z"
    },
    "papermill": {
     "duration": 0.018796,
     "end_time": "2025-05-29T04:16:52.323972",
     "exception": false,
     "start_time": "2025-05-29T04:16:52.305176",
     "status": "completed"
    },
    "scrolled": false,
    "tags": []
   },
   "outputs": [
    {
     "data": {
      "text/markdown": [
       "## Successful papers"
      ],
      "text/plain": [
       "<IPython.core.display.Markdown object>"
      ]
     },
     "metadata": {},
     "output_type": "display_data"
    },
    {
     "data": {
      "text/markdown": [
       "\n",
       "|||\n",
       "|---:|:---|\n",
       "| [![arXiv](https://img.shields.io/badge/arXiv-2505.22201-b31b1b.svg)](https://arxiv.org/abs/2505.22201) | **Modeling the progenitors of low-mass post-accretion binaries**  |\n",
       "|| <mark>A. Dimoff</mark>, et al. -- incl., <mark>R. Seeburger</mark> |\n",
       "|*Appeared on*| *2025-05-29*|\n",
       "|*Comments*| **|\n",
       "|**Abstract**|            About half of the mass of all heavy elements with mass number A > 90 is formed through the slow neutron capture process (s-process), occurring in evolved asymptotic giant branch (AGB) stars with masses ~1-6 $\\rm{M_{\\odot}}$. The s-process can be studied by modeling the accretion of material from AGB stars onto binary barium (Ba), CH, and carbon-enhanced metal-poor (CEMP)-s stars. Comparing observationally derived surface parameters and 1D-LTE abundance patterns of s-process elements to theoretical binary accretion models, we aim to understand the formation of post-accretion systems. We explore the extent of dilution of the accreted material and describe the impact of convective mixing on the observed surface abundances. We compute a new grid of 2700 accretion models for low-mass post-accretion systems. A maximum-likelihood comparison determines the best fit models for observational samples of Ba, CH, and CEMP-s stars. We find consistent AGB donor masses in the mass range of 2-3 $\\rm{M_{\\odot}}$ across our sample of post-accretion binaries. We find the formation scenario for weak Ba stars is an AGB star transferring a moderate amount of mass ($\\leq$0.5 $\\rm{M_{\\odot}}$) resulting in a ~2.0-2.5 $\\rm{M_{\\odot}}$ star. The strong Ba stars are best fit with lower final masses ~1.0-2.0 $\\rm{M_{\\odot}}$, and significant accreted mass ($\\geq$0.5 $\\rm{M_{\\odot}}$). The CH and CEMP-s stars display lower final masses (~1.0 $\\rm{M_{\\odot}}$) and small amounts of transferred material (~0.1 $\\rm{M_{\\odot}}$). We find that Ba stars generally accrete more material than CEMP-s and CH stars. We also find that strong Ba stars must accrete more than 0.50 $\\rm{M_{\\odot}}$ to explain their abundance patterns, and in this limit we are unable to reproduce the observed mass distribution of strong Ba stars. The mass distributions of the weak Ba stars, CEMP-s, and CH stars are well reproduced in our modeling.         |"
      ],
      "text/plain": [
       "[2505.22201] Modeling the progenitors of low-mass post-accretion binaries\n",
       "\t<mark>A. Dimoff</mark>, et al. -- incl., <mark>R. Seeburger</mark>"
      ]
     },
     "metadata": {},
     "output_type": "display_data"
    },
    {
     "data": {
      "text/markdown": [
       "## Failed papers"
      ],
      "text/plain": [
       "<IPython.core.display.Markdown object>"
      ]
     },
     "metadata": {},
     "output_type": "display_data"
    },
    {
     "data": {
      "text/markdown": [
       "\n",
       "|||\n",
       "|---:|:---|\n",
       "| [![arXiv](https://img.shields.io/badge/arXiv-2505.21630-b31b1b.svg)](https://arxiv.org/abs/2505.21630) | **Quasar absorption outflows on galactic scales: Insights from DESI**  |\n",
       "|| M. Dehghanian, et al. -- incl., <mark>M. Sharma</mark> |\n",
       "|*Appeared on*| *2025-05-29*|\n",
       "|*Comments*| *8 pages, 5 figures-Accepted for publications in MNRAS*|\n",
       "|**Abstract**|            Absorption outflows in quasars play an important role in understanding active galactic nuclei (AGN) feedback and their influence on galaxy evolution. The unprecedented spectral data provided by the Dark Energy Spectroscopic Instrument (DESI) opens new avenues to explore these outflows. We analyze five low-ionization absorption outflow systems in four intermediate-redshift quasars (2 < z < 3) using the data obtained by DESI in order to characterize their physical properties and energetics, and also to assess their role in AGN feedback. We use the spectra from DESI's Early Data Release to determine the ionic column densities, total hydrogen column densities, electron number densities, and ionization parameters via photoionization modeling and absorption line analysis. We derive the outflows' distance from the AGN, and its kinematic properties: mass-flow rates, kinetic luminosity, and momentum flux. Our study identifies five distinct mini-broad absorption line outflow systems, hosted by four quasars. The identified outflows exhibit hydrogen column densities of \\log (N_H) = 20.0-20.7[cm^{-2}], ionization parameters of log (U_H) = -2.7 to -2.1, and electron number densities of log (n_e) =1.45-2.85[cm^{-2}]. The distances of the outflows from the central source are between 4.5 to 31 kpc, and the kinetic luminosities range from 2\\times10^{-6} to 5\\times10^{-3} of the Eddington luminosity. The outflows in J1407 and J1032 show the largest kinetic luminosities, with momentum flux ratios (\\dot{p} / \\dot{p}_{rad}) of about 2 and 0.2, respectively. Our findings highlight the vital role of DESI data in uncovering the diversity and significance of quasar outflows in galaxy evolution.         |\n",
       "|<p style=\"color:green\"> **ERROR** </p>| <p style=\"color:green\">affiliation error: mpia.affiliation_verifications: 'Heidelberg' keyword not found.</p> |"
      ],
      "text/plain": [
       "<IPython.core.display.Markdown object>"
      ]
     },
     "metadata": {},
     "output_type": "display_data"
    },
    {
     "data": {
      "text/markdown": [
       "\n",
       "|||\n",
       "|---:|:---|\n",
       "| [![arXiv](https://img.shields.io/badge/arXiv-2505.22369-b31b1b.svg)](https://arxiv.org/abs/2505.22369) | **Model-independent cosmological inference after the DESI DR2 data with improved inverse distance ladder**  |\n",
       "|| J.-L. Ling, et al. -- incl., <mark>X. Zhang</mark> |\n",
       "|*Appeared on*| *2025-05-29*|\n",
       "|*Comments*| *13 pages, 4 figures*|\n",
       "|**Abstract**|            Recently, the baryon acoustic oscillations (BAO) measurements from the DESI survey have suggested hints of dynamical dark energy, challenging the standard $\\Lambda $CDM model. In this work, we adopt an improved inverse distance ladder approach based on the latest cosmological data to provide a model-independent perspective, employing a global parametrization based on cosmic age (PAge). Our analysis incorporates DESI DR2 BAO measurements, cosmic chronometer (CC) data, and type Ia supernovae (SNe) observations from either the DESY5 or PantheonPlus datasets. For the DESY5+DESI DR2+CC datasets, we obtain $H_0 = 67.91 \\pm 2.33~\\mathrm{km~s^{-1}~Mpc^{-1}}$. This value is consistent with the Planck 2018 result, while shows $2.0 \\sigma$ tension with the SH0ES measurement. Furthermore, by mapping specific cosmological models into PAge approximation parameter space $(p_{\\mathrm{age}}, \\eta)$, our model-independent analysis reveals a notable deviation from the $\\Lambda \\mathrm{CDM}$ model, as indicated by the DESY5 and DESI DR2 datasets. Finally, DESY5+DESI DR2+CC datasets provide nearly decisive evidence favoring the PAge model over the standard $\\Lambda \\mathrm{CDM}$ model. These findings highlight the need for further investigation into the expansion history to better understand the deviations from the $\\Lambda \\mathrm{CDM}$ model.         |\n",
       "|<p style=\"color:green\"> **ERROR** </p>| <p style=\"color:green\">affiliation error: mpia.affiliation_verifications: 'Heidelberg' keyword not found.</p> |"
      ],
      "text/plain": [
       "<IPython.core.display.Markdown object>"
      ]
     },
     "metadata": {},
     "output_type": "display_data"
    }
   ],
   "source": [
    "import datetime\n",
    "today = str(datetime.date.today())\n",
    "logfile = f\"_build/html/logs/log-{today}.md\"\n",
    "\n",
    "\n",
    "with open(logfile, 'w') as logs:\n",
    "    # Success\n",
    "    logs.write(f'# Arxiv on Deck 2: Logs - {today}\\n\\n')\n",
    "    logs.write(\"\"\"* Arxiv had {0:,d} new papers\\n\"\"\".format(len(new_papers)))\n",
    "    logs.write(\"\"\"    * {0:,d} with possible author matches\\n\\n\"\"\".format(len(candidates)))\n",
    "    logs.write(\"## Sucessful papers\\n\\n\")\n",
    "    display(Markdown(\"## Successful papers\"))\n",
    "    success = [k[0] for k in documents]\n",
    "    for candid in candidates:\n",
    "        if candid['identifier'].split(':')[-1] in success:\n",
    "            display(candid)\n",
    "            logs.write(candid.generate_markdown_text() + '\\n\\n')\n",
    "\n",
    "    ## failed\n",
    "    logs.write(\"## Failed papers\\n\\n\")\n",
    "    display(Markdown(\"## Failed papers\"))\n",
    "    failed = sorted(failed, key=lambda x: x[1])\n",
    "    current_reason = \"\"\n",
    "    for paper, reason in failed:\n",
    "        if 'affiliation' in reason:\n",
    "            color = 'green'\n",
    "        else:\n",
    "            color = 'red'\n",
    "        data = Markdown(\n",
    "                paper.generate_markdown_text() + \n",
    "                f'\\n|<p style=\"color:{color:s}\"> **ERROR** </p>| <p style=\"color:{color:s}\">{reason:s}</p> |'\n",
    "               )\n",
    "        if reason != current_reason:\n",
    "            logs.write(f'### {reason:s} \\n\\n')\n",
    "            current_reason = reason\n",
    "        logs.write(data.data + '\\n\\n')\n",
    "        \n",
    "        # only display here the important errors (all in logs)\n",
    "        # if color in ('red',):\n",
    "        display(data)"
   ]
  },
  {
   "cell_type": "markdown",
   "id": "472d20ee",
   "metadata": {
    "papermill": {
     "duration": 0.004059,
     "end_time": "2025-05-29T04:16:52.332195",
     "exception": false,
     "start_time": "2025-05-29T04:16:52.328136",
     "status": "completed"
    },
    "tags": []
   },
   "source": [
    "## Export documents\n",
    "\n",
    "We now write the .md files and export relevant images"
   ]
  },
  {
   "cell_type": "code",
   "execution_count": 7,
   "id": "d426aed9",
   "metadata": {
    "execution": {
     "iopub.execute_input": "2025-05-29T04:16:52.341821Z",
     "iopub.status.busy": "2025-05-29T04:16:52.341196Z",
     "iopub.status.idle": "2025-05-29T04:16:52.348279Z",
     "shell.execute_reply": "2025-05-29T04:16:52.347678Z"
    },
    "papermill": {
     "duration": 0.013058,
     "end_time": "2025-05-29T04:16:52.349434",
     "exception": false,
     "start_time": "2025-05-29T04:16:52.336376",
     "status": "completed"
    },
    "tags": []
   },
   "outputs": [],
   "source": [
    "def export_markdown_summary(md: str, md_fname:str, directory: str):\n",
    "    \"\"\"Export MD document and associated relevant images\"\"\"\n",
    "    import os\n",
    "    import shutil\n",
    "    import re\n",
    "\n",
    "    if (os.path.exists(directory) and not os.path.isdir(directory)):\n",
    "        raise RuntimeError(f\"a non-directory file exists with name {directory:s}\")\n",
    "\n",
    "    if (not os.path.exists(directory)):\n",
    "        print(f\"creating directory {directory:s}\")\n",
    "        os.mkdir(directory)\n",
    "\n",
    "    fig_fnames = (re.compile(r'\\[Fig.*\\]\\((.*)\\)').findall(md) + \n",
    "                  re.compile(r'\\<img src=\"([^>\\s]*)\"[^>]*/>').findall(md))\n",
    "    print(\"found figures\", fig_fnames)\n",
    "    for fname in fig_fnames:\n",
    "        if 'http' in fname:\n",
    "            # No need to copy online figures\n",
    "            continue\n",
    "        if not os.path.exists(fname):\n",
    "            print(\"file not found\", fname)\n",
    "            continue\n",
    "        print(\"copying \", fname, \"to\", directory)\n",
    "        destdir = os.path.join(directory, os.path.dirname(fname))\n",
    "        destfname = os.path.join(destdir, os.path.basename(fname))\n",
    "        try:\n",
    "            os.makedirs(destdir)\n",
    "        except FileExistsError:\n",
    "            pass\n",
    "        shutil.copy(fname, destfname)\n",
    "    with open(os.path.join(directory, md_fname), 'w') as fout:\n",
    "        fout.write(md)\n",
    "    print(\"exported in \", os.path.join(directory, md_fname))\n",
    "    [print(\"    + \" + os.path.join(directory,fk)) for fk in fig_fnames]"
   ]
  },
  {
   "cell_type": "code",
   "execution_count": 8,
   "id": "014d04a4",
   "metadata": {
    "execution": {
     "iopub.execute_input": "2025-05-29T04:16:52.358986Z",
     "iopub.status.busy": "2025-05-29T04:16:52.358496Z",
     "iopub.status.idle": "2025-05-29T04:16:52.363280Z",
     "shell.execute_reply": "2025-05-29T04:16:52.362770Z"
    },
    "papermill": {
     "duration": 0.010507,
     "end_time": "2025-05-29T04:16:52.364248",
     "exception": false,
     "start_time": "2025-05-29T04:16:52.353741",
     "status": "completed"
    },
    "tags": []
   },
   "outputs": [
    {
     "name": "stdout",
     "output_type": "stream",
     "text": [
      "found figures ['tmp_2505.22201/./figures/Ba_star_accretion_phase_notitle.png', 'tmp_2505.22201/./figures/obs_samples_kiel.png', 'tmp_2505.22201/./figures/Kipp_2p0_2p5_2p5_z010.png']\n",
      "copying  tmp_2505.22201/./figures/Ba_star_accretion_phase_notitle.png to _build/html/\n",
      "copying  tmp_2505.22201/./figures/obs_samples_kiel.png to _build/html/\n",
      "copying  tmp_2505.22201/./figures/Kipp_2p0_2p5_2p5_z010.png to _build/html/\n",
      "exported in  _build/html/2505.22201.md\n",
      "    + _build/html/tmp_2505.22201/./figures/Ba_star_accretion_phase_notitle.png\n",
      "    + _build/html/tmp_2505.22201/./figures/obs_samples_kiel.png\n",
      "    + _build/html/tmp_2505.22201/./figures/Kipp_2p0_2p5_2p5_z010.png\n"
     ]
    }
   ],
   "source": [
    "for paper_id, md in documents:\n",
    "    export_markdown_summary(md, f\"{paper_id:s}.md\", '_build/html/')"
   ]
  },
  {
   "cell_type": "markdown",
   "id": "f087a0a7",
   "metadata": {
    "papermill": {
     "duration": 0.004727,
     "end_time": "2025-05-29T04:16:52.373257",
     "exception": false,
     "start_time": "2025-05-29T04:16:52.368530",
     "status": "completed"
    },
    "tags": []
   },
   "source": [
    "## Display the papers\n",
    "\n",
    "Not necessary but allows for a quick check."
   ]
  },
  {
   "cell_type": "code",
   "execution_count": 9,
   "id": "fd25f625",
   "metadata": {
    "execution": {
     "iopub.execute_input": "2025-05-29T04:16:52.382652Z",
     "iopub.status.busy": "2025-05-29T04:16:52.382228Z",
     "iopub.status.idle": "2025-05-29T04:16:52.386849Z",
     "shell.execute_reply": "2025-05-29T04:16:52.386310Z"
    },
    "papermill": {
     "duration": 0.010427,
     "end_time": "2025-05-29T04:16:52.387843",
     "exception": false,
     "start_time": "2025-05-29T04:16:52.377416",
     "status": "completed"
    },
    "scrolled": false,
    "tags": []
   },
   "outputs": [
    {
     "data": {
      "text/markdown": [
       "<div class=\"macros\" style=\"visibility:hidden;\">\n",
       "$\\newcommand{\\ensuremath}{}$\n",
       "$\\newcommand{\\xspace}{}$\n",
       "$\\newcommand{\\object}[1]{\\texttt{#1}}$\n",
       "$\\newcommand{\\farcs}{{.}''}$\n",
       "$\\newcommand{\\farcm}{{.}'}$\n",
       "$\\newcommand{\\arcsec}{''}$\n",
       "$\\newcommand{\\arcmin}{'}$\n",
       "$\\newcommand{\\ion}[2]{#1#2}$\n",
       "$\\newcommand{\\textsc}[1]{\\textrm{#1}}$\n",
       "$\\newcommand{\\hl}[1]{\\textrm{#1}}$\n",
       "$\\newcommand{\\footnote}[1]{}$\n",
       "$\\newcommand{\\CJH}[1]{\\textcolor{brightpink}{{\\bf} #1}}$\n",
       "$\\newcommand{\\AJD}[1]{\\textcolor{electricblue}{#1}}$\n",
       "$\\newcommand{\\isotope}[2]{^{#1}{#2}}$\n",
       "$\\newcommand{\\msun}{\\rm{M_{\\odot}}}$</div>\n",
       "\n",
       "\n",
       "\n",
       "<div id=\"title\">\n",
       "\n",
       "# Modeling the progenitors of low-mass post-accretion binaries\n",
       "\n",
       "</div>\n",
       "<div id=\"comments\">\n",
       "\n",
       "[![arXiv](https://img.shields.io/badge/arXiv-2505.22201-b31b1b.svg)](https://arxiv.org/abs/2505.22201)<mark>Appeared on: 2025-05-29</mark> - \n",
       "\n",
       "</div>\n",
       "<div id=\"authors\">\n",
       "\n",
       "<mark>A. Dimoff</mark>, et al.\n",
       "\n",
       "</div>\n",
       "<div id=\"abstract\">\n",
       "\n",
       "**Abstract:** About half of the mass of all heavy elements with mass number A $>$ 90 is formed through the slow neutron capture process (s-process), occurring in evolved asymptotic giant branch (AGB) stars with masses $\\sim1-6$ $\\msun$ . The s-process can be studied by modeling the accretion of material from AGB stars onto binary barium (Ba), CH, and carbon-enhanced metal-poor (CEMP)-s stars. Comparing observationally derived surface parameters and 1D-LTE abundance patterns of s-process elements to theoretical binary accretion models, we aim to understand the formation of post-accretion systems. We explore the extent of dilution of the accreted material and describe the impact of convective mixing on the observed surface abundances. We compute a new grid of 2700 accretion models for low-mass post-accretion systems. A maximum-likelihood comparison determines the best fit models for observational samples of Ba, CH, and CEMP-s stars. We find consistent AGB donor masses in the mass range of $2 - 3$ $\\msun$ $ $ across our sample of post-accretion binaries. We find the formation scenario for weak Ba stars is an AGB star transferring a moderate amount of mass ( $\\leq 0.5$ $\\msun$ ) resulting in a $\\sim 2.0-2.5$ $\\msun$ $ $ Ba star. The strong Ba stars are best fit with lower final masses $\\sim1.0-2.0$ $\\msun$ $ $ and significant accreted mass ( $\\geq 0.5$ $\\msun$ ). The CH and CEMP-s stars display lower final masses ( $\\sim1.0$ $\\msun$ ) and small amounts of transferred material ( $\\sim 0.1$ $\\msun$ ). We find that Ba stars generally accrete more material than CEMP-s and CH stars. We also find that strong Ba stars must accrete more than $0.50$ $\\msun$ $ $ to explain their abundance patterns, and in this limit we are unable to reproduce the observed mass distribution of strong Ba stars. The mass distributions of the weak Ba stars, CEMP-s, and CH stars are well reproduced in our modeling.\n",
       "\n",
       "</div>\n",
       "\n",
       "<div id=\"div_fig1\">\n",
       "\n",
       "<img src=\"tmp_2505.22201/./figures/Ba_star_accretion_phase_notitle.png\" alt=\"Fig5\" width=\"100%\"/>\n",
       "\n",
       "**Figure 5. -** Left: Evolutionary tracks for a sample of stars with $m_{final} = 2.50$\\msun$ $at [Fe/H] = -0.15 with different accretion masses and initial mass ratios, with accretion phases for each model highlighted in blue. Right: Relative surface abundance of the s-process element Ba. The abundance is elevated after the accretion phase, and only after the onset of first dredge-up and mixing is the surface abundance diluted. (*fig:acc_phase*)\n",
       "\n",
       "</div>\n",
       "<div id=\"div_fig2\">\n",
       "\n",
       "<img src=\"tmp_2505.22201/./figures/obs_samples_kiel.png\" alt=\"Fig1\" width=\"100%\"/>\n",
       "\n",
       "**Figure 1. -** Kiel diagram showing surface gravities and effective temperatures for the collected observational sample. Blue data points are strong Ba stars, cyan data points are weak Ba stars, orange data points are CH stars, and red data points are CEMP-s stars. Surface parameters and abundances are collected from \\citet{Dimoff+2024}, \\citet{DeCastro_etal2016}, \\citet{Roriz2021}, \\cite{Goswami_etal2006}, \\citet{Karinkuzi_Goswami2014}, \\citet{Karinkuzhi_Goswami2015}, \\citet{Goswami_Aoki_Karinkuzhi2016}, \\citet{Goswami+2021_CEMPs}. (*fig:obs_kiel*)\n",
       "\n",
       "</div>\n",
       "<div id=\"div_fig3\">\n",
       "\n",
       "<img src=\"tmp_2505.22201/./figures/Kipp_2p0_2p5_2p5_z010.png\" alt=\"Fig2\" width=\"100%\"/>\n",
       "\n",
       "**Figure 2. -** Example Kippenhahn diagram for a 2.00 $\\msun$$ $star accreting 0.50 $\\msun$$ $of material from a 2.50 $\\msun$$ $AGB star at a metallicity of [Fe/H] = -0.15. Green colors denote convective regions, and purple colors denote radiative regions, determined by the computed difference in the radiative and adiabatic transfer gradients. In the total mass on the y-axis, the accretion phase can be identified by the increase in mass. Note that the x-axis is model number, which is non-linear with respect to time. (*fig:Kippenhahn*)\n",
       "\n",
       "</div><div id=\"qrcode\"><img src=https://api.qrserver.com/v1/create-qr-code/?size=100x100&data=\"https://arxiv.org/abs/2505.22201\"></div>"
      ],
      "text/plain": [
       "<IPython.core.display.Markdown object>"
      ]
     },
     "metadata": {},
     "output_type": "display_data"
    }
   ],
   "source": [
    "[display(Markdown(k[1])) for k in documents];"
   ]
  },
  {
   "cell_type": "markdown",
   "id": "873873a4",
   "metadata": {
    "papermill": {
     "duration": 0.004355,
     "end_time": "2025-05-29T04:16:52.396648",
     "exception": false,
     "start_time": "2025-05-29T04:16:52.392293",
     "status": "completed"
    },
    "tags": []
   },
   "source": [
    "# Create HTML index"
   ]
  },
  {
   "cell_type": "code",
   "execution_count": 10,
   "id": "cf665672",
   "metadata": {
    "execution": {
     "iopub.execute_input": "2025-05-29T04:16:52.406489Z",
     "iopub.status.busy": "2025-05-29T04:16:52.406253Z",
     "iopub.status.idle": "2025-05-29T04:16:52.416938Z",
     "shell.execute_reply": "2025-05-29T04:16:52.416367Z"
    },
    "papermill": {
     "duration": 0.016769,
     "end_time": "2025-05-29T04:16:52.418003",
     "exception": false,
     "start_time": "2025-05-29T04:16:52.401234",
     "status": "completed"
    },
    "tags": []
   },
   "outputs": [
    {
     "name": "stdout",
     "output_type": "stream",
     "text": [
      "505  publications files modified in the last 7 days.\n"
     ]
    }
   ],
   "source": [
    "from datetime import datetime, timedelta, timezone\n",
    "from glob import glob\n",
    "import os\n",
    "\n",
    "files = glob('_build/html/*.md')\n",
    "days = 7\n",
    "now = datetime.today()\n",
    "res = []\n",
    "for fk in files:\n",
    "    stat_result = os.stat(fk).st_ctime\n",
    "    modified = datetime.fromtimestamp(stat_result, tz=timezone.utc).replace(tzinfo=None)\n",
    "    delta = now.today() - modified\n",
    "    if delta <= timedelta(days=days):\n",
    "        res.append((delta.seconds, fk))\n",
    "res = [k[1] for k in reversed(sorted(res, key=lambda x:x[1]))]\n",
    "npub = len(res)\n",
    "print(len(res), f\" publications files modified in the last {days:d} days.\")\n",
    "# [ print('\\t', k) for k in res ];"
   ]
  },
  {
   "cell_type": "code",
   "execution_count": 11,
   "id": "015de740",
   "metadata": {
    "execution": {
     "iopub.execute_input": "2025-05-29T04:16:52.428339Z",
     "iopub.status.busy": "2025-05-29T04:16:52.427861Z",
     "iopub.status.idle": "2025-05-29T04:16:52.452856Z",
     "shell.execute_reply": "2025-05-29T04:16:52.452285Z"
    },
    "papermill": {
     "duration": 0.031139,
     "end_time": "2025-05-29T04:16:52.453864",
     "exception": false,
     "start_time": "2025-05-29T04:16:52.422725",
     "status": "completed"
    },
    "tags": []
   },
   "outputs": [
    {
     "name": "stdout",
     "output_type": "stream",
     "text": [
      "12  publications in the last 7 days.\n"
     ]
    }
   ],
   "source": [
    "import datetime\n",
    "from glob import glob\n",
    "\n",
    "def get_last_n_days(lst, days=1):\n",
    "    \"\"\" Get the documents from the last n days \"\"\"\n",
    "    sorted_lst = sorted(lst, key=lambda x: x[1], reverse=True)\n",
    "    for fname, date in sorted_lst:\n",
    "        if date >= str(datetime.date.today() - datetime.timedelta(days=days)):\n",
    "            yield fname\n",
    "\n",
    "def extract_appearance_dates(lst_file):\n",
    "    dates = []\n",
    "\n",
    "    def get_date(line):\n",
    "        return line\\\n",
    "            .split('Appeared on:')[-1]\\\n",
    "            .split('</mark>')[0].strip()\n",
    "\n",
    "    for fname in lst:\n",
    "        with open(fname, 'r') as f:\n",
    "            found_date = False\n",
    "            for line in f:\n",
    "                if not found_date:\n",
    "                    if \"Appeared on\" in line:\n",
    "                        found_date = True\n",
    "                        dates.append((fname, get_date(line)))\n",
    "                else:\n",
    "                    break\n",
    "    return dates\n",
    "\n",
    "from glob import glob\n",
    "lst = glob('_build/html/*md')\n",
    "days = 7\n",
    "dates = extract_appearance_dates(lst)\n",
    "res = list(get_last_n_days(dates, days))\n",
    "npub = len(res)\n",
    "print(len(res), f\" publications in the last {days:d} days.\")"
   ]
  },
  {
   "cell_type": "code",
   "execution_count": 12,
   "id": "52ca0208",
   "metadata": {
    "execution": {
     "iopub.execute_input": "2025-05-29T04:16:52.464352Z",
     "iopub.status.busy": "2025-05-29T04:16:52.464129Z",
     "iopub.status.idle": "2025-05-29T04:16:52.469039Z",
     "shell.execute_reply": "2025-05-29T04:16:52.468506Z"
    },
    "papermill": {
     "duration": 0.011205,
     "end_time": "2025-05-29T04:16:52.470060",
     "exception": false,
     "start_time": "2025-05-29T04:16:52.458855",
     "status": "completed"
    },
    "scrolled": false,
    "tags": []
   },
   "outputs": [],
   "source": [
    "def create_carousel(npub=4):\n",
    "    \"\"\" Generate the HTML code for a carousel with `npub` slides \"\"\"\n",
    "    carousel = [\"\"\"  <div class=\"carousel\" \"\"\",\n",
    "                \"\"\"       data-flickity='{ \"autoPlay\": 10000, \"adaptiveHeight\": true, \"resize\": true, \"wrapAround\": true, \"pauseAutoPlayOnHover\": true, \"groupCells\": 1 }' id=\"asyncTypeset\">\"\"\"\n",
    "                ]\n",
    "    \n",
    "    item_str = \"\"\"    <div class=\"carousel-cell\"> <div id=\"slide{k}\" class=\"md_view\">Content {k}</div> </div>\"\"\"\n",
    "    for k in range(1, npub + 1):\n",
    "        carousel.append(item_str.format(k=k))\n",
    "    carousel.append(\"  </div>\")\n",
    "    return '\\n'.join(carousel)\n",
    "\n",
    "def create_grid(npub=4):\n",
    "    \"\"\" Generate the HTML code for a flat grid with `npub` slides \"\"\"\n",
    "    grid = [\"\"\"  <div class=\"grid\"> \"\"\",\n",
    "                ]\n",
    "    \n",
    "    item_str = \"\"\"    <div class=\"grid-item\"> <div id=\"slide{k}\" class=\"md_view\">Content {k}</div> </div>\"\"\"\n",
    "    for k in range(1, npub + 1):\n",
    "        grid.append(item_str.format(k=k))\n",
    "    grid.append(\"  </div>\")\n",
    "    return '\\n'.join(grid)"
   ]
  },
  {
   "cell_type": "code",
   "execution_count": 13,
   "id": "a6eac5b6",
   "metadata": {
    "execution": {
     "iopub.execute_input": "2025-05-29T04:16:52.480414Z",
     "iopub.status.busy": "2025-05-29T04:16:52.479960Z",
     "iopub.status.idle": "2025-05-29T04:16:52.485027Z",
     "shell.execute_reply": "2025-05-29T04:16:52.484409Z"
    },
    "papermill": {
     "duration": 0.011315,
     "end_time": "2025-05-29T04:16:52.486099",
     "exception": false,
     "start_time": "2025-05-29T04:16:52.474784",
     "status": "completed"
    },
    "scrolled": false,
    "tags": []
   },
   "outputs": [],
   "source": [
    "carousel = create_carousel(npub)\n",
    "docs = ', '.join(['\"{0:s}\"'.format(k.split('/')[-1]) for k in res])\n",
    "slides = ', '.join([f'\"slide{k}\"' for k in range(1, npub + 1)])\n",
    "\n",
    "with open(\"daily_template.html\", \"r\") as tpl:\n",
    "    page = tpl.read()\n",
    "    page = page.replace(\"{%-- carousel:s --%}\", carousel)\\\n",
    "               .replace(\"{%-- suptitle:s --%}\",  \"7-day archives\" )\\\n",
    "               .replace(\"{%-- docs:s --%}\", docs)\\\n",
    "               .replace(\"{%-- slides:s --%}\", slides)\n",
    "    \n",
    "with open(\"_build/html/index_7days.html\", 'w') as fout:\n",
    "    fout.write(page)"
   ]
  },
  {
   "cell_type": "code",
   "execution_count": 14,
   "id": "adc1a1ec",
   "metadata": {
    "execution": {
     "iopub.execute_input": "2025-05-29T04:16:52.496512Z",
     "iopub.status.busy": "2025-05-29T04:16:52.496076Z",
     "iopub.status.idle": "2025-05-29T04:16:52.502980Z",
     "shell.execute_reply": "2025-05-29T04:16:52.502433Z"
    },
    "papermill": {
     "duration": 0.013101,
     "end_time": "2025-05-29T04:16:52.504004",
     "exception": false,
     "start_time": "2025-05-29T04:16:52.490903",
     "status": "completed"
    },
    "tags": []
   },
   "outputs": [
    {
     "name": "stdout",
     "output_type": "stream",
     "text": [
      "4  publications in the last day.\n"
     ]
    }
   ],
   "source": [
    "# redo for today\n",
    "days = 1\n",
    "res = list(get_last_n_days(dates, days))\n",
    "npub = len(res)\n",
    "print(len(res), f\" publications in the last day.\")\n",
    "\n",
    "carousel = create_carousel(npub)\n",
    "docs = ', '.join(['\"{0:s}\"'.format(k.split('/')[-1]) for k in res])\n",
    "slides = ', '.join([f'\"slide{k}\"' for k in range(1, npub + 1)])\n",
    "\n",
    "with open(\"daily_template.html\", \"r\") as tpl:\n",
    "    page = tpl.read()\n",
    "    page = page.replace(\"{%-- carousel:s --%}\", carousel)\\\n",
    "               .replace(\"{%-- suptitle:s --%}\",  \"Daily\" )\\\n",
    "               .replace(\"{%-- docs:s --%}\", docs)\\\n",
    "               .replace(\"{%-- slides:s --%}\", slides)\n",
    "    \n",
    "# print(carousel, docs, slides)\n",
    "# print(page)\n",
    "with open(\"_build/html/index_daily.html\", 'w') as fout:\n",
    "    fout.write(page)"
   ]
  },
  {
   "cell_type": "code",
   "execution_count": 15,
   "id": "00eece82",
   "metadata": {
    "execution": {
     "iopub.execute_input": "2025-05-29T04:16:52.514468Z",
     "iopub.status.busy": "2025-05-29T04:16:52.514112Z",
     "iopub.status.idle": "2025-05-29T04:16:52.520630Z",
     "shell.execute_reply": "2025-05-29T04:16:52.520003Z"
    },
    "papermill": {
     "duration": 0.012678,
     "end_time": "2025-05-29T04:16:52.521551",
     "exception": false,
     "start_time": "2025-05-29T04:16:52.508873",
     "status": "completed"
    },
    "scrolled": false,
    "tags": []
   },
   "outputs": [
    {
     "name": "stdout",
     "output_type": "stream",
     "text": [
      "6  6 publications selected.\n"
     ]
    }
   ],
   "source": [
    "# Create the flat grid of the last N papers (fixed number regardless of dates)\n",
    "from itertools import islice \n",
    "\n",
    "npub = 6\n",
    "res = [k[0] for k in (islice(reversed(sorted(dates, key=lambda x: x[1])), 6))]\n",
    "print(len(res), f\" {npub} publications selected.\")\n",
    "\n",
    "grid = create_grid(npub)\n",
    "docs = ', '.join(['\"{0:s}\"'.format(k.split('/')[-1]) for k in res])\n",
    "slides = ', '.join([f'\"slide{k}\"' for k in range(1, npub + 1)])\n",
    "\n",
    "with open(\"grid_template.html\", \"r\") as tpl:\n",
    "    page = tpl.read()\n",
    "    page = page.replace(\"{%-- grid-content:s --%}\", grid)\\\n",
    "               .replace(\"{%-- suptitle:s --%}\",  f\"Last {npub:,d} papers\" )\\\n",
    "               .replace(\"{%-- docs:s --%}\", docs)\\\n",
    "               .replace(\"{%-- slides:s --%}\", slides)\n",
    "    \n",
    "# print(grid, docs, slides)\n",
    "# print(page)\n",
    "with open(\"_build/html/index_npub_grid.html\", 'w') as fout:\n",
    "    fout.write(page)"
   ]
  }
 ],
 "metadata": {
  "kernelspec": {
   "display_name": "Python 3 (ipykernel)",
   "language": "python",
   "name": "python3"
  },
  "language_info": {
   "codemirror_mode": {
    "name": "ipython",
    "version": 3
   },
   "file_extension": ".py",
   "mimetype": "text/x-python",
   "name": "python",
   "nbconvert_exporter": "python",
   "pygments_lexer": "ipython3",
   "version": "3.9.22"
  },
  "papermill": {
   "default_parameters": {},
   "duration": 41.277848,
   "end_time": "2025-05-29T04:16:52.743059",
   "environment_variables": {},
   "exception": null,
   "input_path": "MPIA daily digest.ipynb",
   "output_path": "log.ipynb",
   "parameters": {},
   "start_time": "2025-05-29T04:16:11.465211",
   "version": "2.6.0"
  },
  "vscode": {
   "interpreter": {
    "hash": "aee8b7b246df8f9039afb4144a1f6fd8d2ca17a180786b69acc140d282b71a49"
   }
  },
  "widgets": {
   "application/vnd.jupyter.widget-state+json": {
    "state": {
     "16df3edfc8284f2b8fba45cf6a7965f0": {
      "model_module": "@jupyter-widgets/base",
      "model_module_version": "2.0.0",
      "model_name": "LayoutModel",
      "state": {
       "_model_module": "@jupyter-widgets/base",
       "_model_module_version": "2.0.0",
       "_model_name": "LayoutModel",
       "_view_count": null,
       "_view_module": "@jupyter-widgets/base",
       "_view_module_version": "2.0.0",
       "_view_name": "LayoutView",
       "align_content": null,
       "align_items": null,
       "align_self": null,
       "border_bottom": null,
       "border_left": null,
       "border_right": null,
       "border_top": null,
       "bottom": null,
       "display": null,
       "flex": null,
       "flex_flow": null,
       "grid_area": null,
       "grid_auto_columns": null,
       "grid_auto_flow": null,
       "grid_auto_rows": null,
       "grid_column": null,
       "grid_gap": null,
       "grid_row": null,
       "grid_template_areas": null,
       "grid_template_columns": null,
       "grid_template_rows": null,
       "height": null,
       "justify_content": null,
       "justify_items": null,
       "left": null,
       "margin": null,
       "max_height": null,
       "max_width": null,
       "min_height": null,
       "min_width": null,
       "object_fit": null,
       "object_position": null,
       "order": null,
       "overflow": null,
       "padding": null,
       "right": null,
       "top": null,
       "visibility": null,
       "width": null
      }
     },
     "18484c0ecb404173b8e6ac66fb6bcfb0": {
      "model_module": "@jupyter-widgets/base",
      "model_module_version": "2.0.0",
      "model_name": "LayoutModel",
      "state": {
       "_model_module": "@jupyter-widgets/base",
       "_model_module_version": "2.0.0",
       "_model_name": "LayoutModel",
       "_view_count": null,
       "_view_module": "@jupyter-widgets/base",
       "_view_module_version": "2.0.0",
       "_view_name": "LayoutView",
       "align_content": null,
       "align_items": null,
       "align_self": null,
       "border_bottom": null,
       "border_left": null,
       "border_right": null,
       "border_top": null,
       "bottom": null,
       "display": null,
       "flex": null,
       "flex_flow": null,
       "grid_area": null,
       "grid_auto_columns": null,
       "grid_auto_flow": null,
       "grid_auto_rows": null,
       "grid_column": null,
       "grid_gap": null,
       "grid_row": null,
       "grid_template_areas": null,
       "grid_template_columns": null,
       "grid_template_rows": null,
       "height": null,
       "justify_content": null,
       "justify_items": null,
       "left": null,
       "margin": null,
       "max_height": null,
       "max_width": null,
       "min_height": null,
       "min_width": null,
       "object_fit": null,
       "object_position": null,
       "order": null,
       "overflow": null,
       "padding": null,
       "right": null,
       "top": null,
       "visibility": null,
       "width": null
      }
     },
     "1881ceabccae4406bbe3c5f8b4e22543": {
      "model_module": "@jupyter-widgets/controls",
      "model_module_version": "2.0.0",
      "model_name": "HBoxModel",
      "state": {
       "_dom_classes": [],
       "_model_module": "@jupyter-widgets/controls",
       "_model_module_version": "2.0.0",
       "_model_name": "HBoxModel",
       "_view_count": null,
       "_view_module": "@jupyter-widgets/controls",
       "_view_module_version": "2.0.0",
       "_view_name": "HBoxView",
       "box_style": "",
       "children": [
        "IPY_MODEL_496262e7f3034acea513e2fba81c785f",
        "IPY_MODEL_d74fd19da90a4153922530ce1b662906",
        "IPY_MODEL_666002fb29844a57b757c6d615388bde"
       ],
       "layout": "IPY_MODEL_224d36e3c1e940178371c13fee9f0875",
       "tabbable": null,
       "tooltip": null
      }
     },
     "224d36e3c1e940178371c13fee9f0875": {
      "model_module": "@jupyter-widgets/base",
      "model_module_version": "2.0.0",
      "model_name": "LayoutModel",
      "state": {
       "_model_module": "@jupyter-widgets/base",
       "_model_module_version": "2.0.0",
       "_model_name": "LayoutModel",
       "_view_count": null,
       "_view_module": "@jupyter-widgets/base",
       "_view_module_version": "2.0.0",
       "_view_name": "LayoutView",
       "align_content": null,
       "align_items": null,
       "align_self": null,
       "border_bottom": null,
       "border_left": null,
       "border_right": null,
       "border_top": null,
       "bottom": null,
       "display": null,
       "flex": null,
       "flex_flow": null,
       "grid_area": null,
       "grid_auto_columns": null,
       "grid_auto_flow": null,
       "grid_auto_rows": null,
       "grid_column": null,
       "grid_gap": null,
       "grid_row": null,
       "grid_template_areas": null,
       "grid_template_columns": null,
       "grid_template_rows": null,
       "height": null,
       "justify_content": null,
       "justify_items": null,
       "left": null,
       "margin": null,
       "max_height": null,
       "max_width": null,
       "min_height": null,
       "min_width": null,
       "object_fit": null,
       "object_position": null,
       "order": null,
       "overflow": null,
       "padding": null,
       "right": null,
       "top": null,
       "visibility": null,
       "width": null
      }
     },
     "496262e7f3034acea513e2fba81c785f": {
      "model_module": "@jupyter-widgets/controls",
      "model_module_version": "2.0.0",
      "model_name": "HTMLModel",
      "state": {
       "_dom_classes": [],
       "_model_module": "@jupyter-widgets/controls",
       "_model_module_version": "2.0.0",
       "_model_name": "HTMLModel",
       "_view_count": null,
       "_view_module": "@jupyter-widgets/controls",
       "_view_module_version": "2.0.0",
       "_view_name": "HTMLView",
       "description": "",
       "description_allow_html": false,
       "layout": "IPY_MODEL_18484c0ecb404173b8e6ac66fb6bcfb0",
       "placeholder": "​",
       "style": "IPY_MODEL_9536a8258e8e4985927e67b407aacaac",
       "tabbable": null,
       "tooltip": null,
       "value": "100%"
      }
     },
     "666002fb29844a57b757c6d615388bde": {
      "model_module": "@jupyter-widgets/controls",
      "model_module_version": "2.0.0",
      "model_name": "HTMLModel",
      "state": {
       "_dom_classes": [],
       "_model_module": "@jupyter-widgets/controls",
       "_model_module_version": "2.0.0",
       "_model_name": "HTMLModel",
       "_view_count": null,
       "_view_module": "@jupyter-widgets/controls",
       "_view_module_version": "2.0.0",
       "_view_name": "HTMLView",
       "description": "",
       "description_allow_html": false,
       "layout": "IPY_MODEL_16df3edfc8284f2b8fba45cf6a7965f0",
       "placeholder": "​",
       "style": "IPY_MODEL_e02f48cd295b4247b1bc1237d403b4c7",
       "tabbable": null,
       "tooltip": null,
       "value": " 3/3 [00:04&lt;00:00,  1.83s/it]"
      }
     },
     "8c028c75cc164a0183db241f0662f9fe": {
      "model_module": "@jupyter-widgets/base",
      "model_module_version": "2.0.0",
      "model_name": "LayoutModel",
      "state": {
       "_model_module": "@jupyter-widgets/base",
       "_model_module_version": "2.0.0",
       "_model_name": "LayoutModel",
       "_view_count": null,
       "_view_module": "@jupyter-widgets/base",
       "_view_module_version": "2.0.0",
       "_view_name": "LayoutView",
       "align_content": null,
       "align_items": null,
       "align_self": null,
       "border_bottom": null,
       "border_left": null,
       "border_right": null,
       "border_top": null,
       "bottom": null,
       "display": null,
       "flex": null,
       "flex_flow": null,
       "grid_area": null,
       "grid_auto_columns": null,
       "grid_auto_flow": null,
       "grid_auto_rows": null,
       "grid_column": null,
       "grid_gap": null,
       "grid_row": null,
       "grid_template_areas": null,
       "grid_template_columns": null,
       "grid_template_rows": null,
       "height": null,
       "justify_content": null,
       "justify_items": null,
       "left": null,
       "margin": null,
       "max_height": null,
       "max_width": null,
       "min_height": null,
       "min_width": null,
       "object_fit": null,
       "object_position": null,
       "order": null,
       "overflow": null,
       "padding": null,
       "right": null,
       "top": null,
       "visibility": null,
       "width": null
      }
     },
     "9536a8258e8e4985927e67b407aacaac": {
      "model_module": "@jupyter-widgets/controls",
      "model_module_version": "2.0.0",
      "model_name": "HTMLStyleModel",
      "state": {
       "_model_module": "@jupyter-widgets/controls",
       "_model_module_version": "2.0.0",
       "_model_name": "HTMLStyleModel",
       "_view_count": null,
       "_view_module": "@jupyter-widgets/base",
       "_view_module_version": "2.0.0",
       "_view_name": "StyleView",
       "background": null,
       "description_width": "",
       "font_size": null,
       "text_color": null
      }
     },
     "d65d2f272d5047d2a423e2fb91a35fd9": {
      "model_module": "@jupyter-widgets/controls",
      "model_module_version": "2.0.0",
      "model_name": "ProgressStyleModel",
      "state": {
       "_model_module": "@jupyter-widgets/controls",
       "_model_module_version": "2.0.0",
       "_model_name": "ProgressStyleModel",
       "_view_count": null,
       "_view_module": "@jupyter-widgets/base",
       "_view_module_version": "2.0.0",
       "_view_name": "StyleView",
       "bar_color": null,
       "description_width": ""
      }
     },
     "d74fd19da90a4153922530ce1b662906": {
      "model_module": "@jupyter-widgets/controls",
      "model_module_version": "2.0.0",
      "model_name": "FloatProgressModel",
      "state": {
       "_dom_classes": [],
       "_model_module": "@jupyter-widgets/controls",
       "_model_module_version": "2.0.0",
       "_model_name": "FloatProgressModel",
       "_view_count": null,
       "_view_module": "@jupyter-widgets/controls",
       "_view_module_version": "2.0.0",
       "_view_name": "ProgressView",
       "bar_style": "success",
       "description": "",
       "description_allow_html": false,
       "layout": "IPY_MODEL_8c028c75cc164a0183db241f0662f9fe",
       "max": 3.0,
       "min": 0.0,
       "orientation": "horizontal",
       "style": "IPY_MODEL_d65d2f272d5047d2a423e2fb91a35fd9",
       "tabbable": null,
       "tooltip": null,
       "value": 3.0
      }
     },
     "e02f48cd295b4247b1bc1237d403b4c7": {
      "model_module": "@jupyter-widgets/controls",
      "model_module_version": "2.0.0",
      "model_name": "HTMLStyleModel",
      "state": {
       "_model_module": "@jupyter-widgets/controls",
       "_model_module_version": "2.0.0",
       "_model_name": "HTMLStyleModel",
       "_view_count": null,
       "_view_module": "@jupyter-widgets/base",
       "_view_module_version": "2.0.0",
       "_view_name": "StyleView",
       "background": null,
       "description_width": "",
       "font_size": null,
       "text_color": null
      }
     }
    },
    "version_major": 2,
    "version_minor": 0
   }
  }
 },
 "nbformat": 4,
 "nbformat_minor": 5
}