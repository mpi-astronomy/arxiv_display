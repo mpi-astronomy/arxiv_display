{
 "cells": [
  {
   "cell_type": "markdown",
   "id": "92bcb855",
   "metadata": {
    "papermill": {
     "duration": 0.003582,
     "end_time": "2024-01-19T04:08:21.207843",
     "exception": false,
     "start_time": "2024-01-19T04:08:21.204261",
     "status": "completed"
    },
    "tags": []
   },
   "source": [
    "# MPIA Arxiv on Deck 2\n",
    "\n",
    "Contains the steps to produce the paper extractions."
   ]
  },
  {
   "cell_type": "code",
   "execution_count": 1,
   "id": "3a0d6e11",
   "metadata": {
    "execution": {
     "iopub.execute_input": "2024-01-19T04:08:21.215787Z",
     "iopub.status.busy": "2024-01-19T04:08:21.215397Z",
     "iopub.status.idle": "2024-01-19T04:08:21.644256Z",
     "shell.execute_reply": "2024-01-19T04:08:21.643581Z"
    },
    "papermill": {
     "duration": 0.434022,
     "end_time": "2024-01-19T04:08:21.645928",
     "exception": false,
     "start_time": "2024-01-19T04:08:21.211906",
     "status": "completed"
    },
    "tags": []
   },
   "outputs": [],
   "source": [
    "# Imports\n",
    "import os\n",
    "from IPython.display import Markdown, display\n",
    "from tqdm.notebook import tqdm\n",
    "import warnings\n",
    "from PIL import Image \n",
    "\n",
    "# requires arxiv_on_deck_2\n",
    "\n",
    "from arxiv_on_deck_2.arxiv2 import (get_new_papers, \n",
    "                                    get_paper_from_identifier,\n",
    "                                    retrieve_document_source, \n",
    "                                    get_markdown_badge)\n",
    "from arxiv_on_deck_2 import (latex,\n",
    "                             latex_bib,\n",
    "                             mpia,\n",
    "                             highlight_authors_in_list)\n",
    "\n",
    "# Sometimes images are really big\n",
    "Image.MAX_IMAGE_PIXELS = 1000000000 "
   ]
  },
  {
   "cell_type": "code",
   "execution_count": 2,
   "id": "22aa9d44",
   "metadata": {
    "execution": {
     "iopub.execute_input": "2024-01-19T04:08:21.652930Z",
     "iopub.status.busy": "2024-01-19T04:08:21.652493Z",
     "iopub.status.idle": "2024-01-19T04:08:21.657485Z",
     "shell.execute_reply": "2024-01-19T04:08:21.656874Z"
    },
    "papermill": {
     "duration": 0.009916,
     "end_time": "2024-01-19T04:08:21.658826",
     "exception": false,
     "start_time": "2024-01-19T04:08:21.648910",
     "status": "completed"
    },
    "tags": []
   },
   "outputs": [],
   "source": [
    "# Some useful definitions.\n",
    "\n",
    "class AffiliationWarning(UserWarning):\n",
    "    pass\n",
    "\n",
    "class AffiliationError(RuntimeError):\n",
    "    pass\n",
    "\n",
    "def validation(source: str):\n",
    "    \"\"\"Raises error paper during parsing of source file\n",
    "    \n",
    "    Allows checks before parsing TeX code.\n",
    "    \n",
    "    Raises AffiliationWarning\n",
    "    \"\"\"\n",
    "    check = mpia.affiliation_verifications(source, verbose=True)\n",
    "    if check is not True:\n",
    "        raise AffiliationError(\"mpia.affiliation_verifications: \" + check)\n",
    "\n",
    "        \n",
    "warnings.simplefilter('always', AffiliationWarning)\n",
    "\n",
    "\n",
    "def get_markdown_qrcode(paper_id: str):\n",
    "    \"\"\" Generate a qrcode to the arxiv page using qrserver.com\n",
    "    \n",
    "    :param paper: Arxiv paper\n",
    "    :returns: markdown text\n",
    "    \"\"\"\n",
    "    url = r\"https://api.qrserver.com/v1/create-qr-code/?size=100x100&data=\"\n",
    "    txt = f\"\"\"<img src={url}\"https://arxiv.org/abs/{paper_id}\">\"\"\"\n",
    "    txt = '<div id=\"qrcode\">' + txt + '</div>'\n",
    "    return txt"
   ]
  },
  {
   "cell_type": "markdown",
   "id": "14bd6310",
   "metadata": {
    "papermill": {
     "duration": 0.002731,
     "end_time": "2024-01-19T04:08:21.664363",
     "exception": false,
     "start_time": "2024-01-19T04:08:21.661632",
     "status": "completed"
    },
    "tags": []
   },
   "source": [
    "## get list of arxiv paper candidates\n",
    "\n",
    "We use the MPIA mitarbeiter list webpage from mpia.de to get author names\n",
    "We then get all new papers from Arxiv and match authors"
   ]
  },
  {
   "cell_type": "code",
   "execution_count": 3,
   "id": "2645e73a",
   "metadata": {
    "execution": {
     "iopub.execute_input": "2024-01-19T04:08:21.670939Z",
     "iopub.status.busy": "2024-01-19T04:08:21.670501Z",
     "iopub.status.idle": "2024-01-19T04:08:39.323881Z",
     "shell.execute_reply": "2024-01-19T04:08:39.323226Z"
    },
    "papermill": {
     "duration": 17.658208,
     "end_time": "2024-01-19T04:08:39.325318",
     "exception": false,
     "start_time": "2024-01-19T04:08:21.667110",
     "status": "completed"
    },
    "tags": []
   },
   "outputs": [
    {
     "name": "stdout",
     "output_type": "stream",
     "text": [
      "J. Eberhardt  ->  J. Eberhardt  |  ['J. Eberhardt']\n",
      "T. Trifonov  ->  T. Trifonov  |  ['T. Trifonov']\n",
      "Arxiv has 72 new papers today\n",
      "          1 with possible author matches\n"
     ]
    }
   ],
   "source": [
    "# get list from MPIA website\n",
    "# it automatically filters identified non-scientists :func:`mpia.filter_non_scientists`\n",
    "mpia_authors = mpia.get_mpia_mitarbeiter_list()\n",
    "normed_mpia_authors = [k[1] for k in mpia_authors]   # initials + fullname\n",
    "new_papers = get_new_papers()\n",
    "# add manual references\n",
    "add_paper_refs = []\n",
    "new_papers.extend([get_paper_from_identifier(k) for k in add_paper_refs])\n",
    "\n",
    "candidates = []\n",
    "for paperk in new_papers:\n",
    "    # Check author list with their initials\n",
    "    normed_author_list = [mpia.get_initials(k) for k in paperk['authors']]\n",
    "    hl_authors = highlight_authors_in_list(normed_author_list, normed_mpia_authors, verbose=True)\n",
    "    matches = [(hl, orig) for hl, orig in zip(hl_authors, paperk['authors']) if 'mark' in hl]\n",
    "    paperk['authors'] = hl_authors\n",
    "    if matches:\n",
    "        # only select paper if an author matched our list\n",
    "        candidates.append(paperk)\n",
    "print(\"\"\"Arxiv has {0:,d} new papers today\"\"\".format(len(new_papers)))        \n",
    "print(\"\"\"          {0:,d} with possible author matches\"\"\".format(len(candidates)))"
   ]
  },
  {
   "cell_type": "markdown",
   "id": "3543b34a",
   "metadata": {
    "papermill": {
     "duration": 0.002817,
     "end_time": "2024-01-19T04:08:39.331373",
     "exception": false,
     "start_time": "2024-01-19T04:08:39.328556",
     "status": "completed"
    },
    "tags": []
   },
   "source": [
    "# Parse sources and generate relevant outputs\n",
    "\n",
    "From the candidates, we do the following steps:\n",
    "* get their tarball from ArXiv (and extract data)\n",
    "* find the main .tex file: find one with \\documentclass{...} (sometimes it's non trivial)\n",
    "* Check affiliations with :func:`validation`, which uses :func:`mpia.affiliation_verifications`\n",
    "* If passing the affiliations: we parse the .tex source\n",
    "   * inject sub-documents into the main (flatten the main document)\n",
    "   * parse structure, extract information (title, abstract, authors, figures...)\n",
    "   * handles `\\graphicspath` if provided\n",
    "* Generate the .md document."
   ]
  },
  {
   "cell_type": "code",
   "execution_count": 4,
   "id": "9576b79e",
   "metadata": {
    "execution": {
     "iopub.execute_input": "2024-01-19T04:08:39.338401Z",
     "iopub.status.busy": "2024-01-19T04:08:39.337774Z",
     "iopub.status.idle": "2024-01-19T04:08:59.016842Z",
     "shell.execute_reply": "2024-01-19T04:08:59.016004Z"
    },
    "papermill": {
     "duration": 19.68429,
     "end_time": "2024-01-19T04:08:59.018458",
     "exception": false,
     "start_time": "2024-01-19T04:08:39.334168",
     "status": "completed"
    },
    "scrolled": false,
    "tags": []
   },
   "outputs": [
    {
     "data": {
      "application/vnd.jupyter.widget-view+json": {
       "model_id": "a26431fc9c4b40b895ea3fc398fc34d8",
       "version_major": 2,
       "version_minor": 0
      },
      "text/plain": [
       "  0%|          | 0/1 [00:00<?, ?it/s]"
      ]
     },
     "metadata": {},
     "output_type": "display_data"
    },
    {
     "name": "stdout",
     "output_type": "stream",
     "text": [
      "Retrieving document from  https://arxiv.org/e-print/2401.09657\n"
     ]
    },
    {
     "name": "stdout",
     "output_type": "stream",
     "text": [
      "extracting tarball to tmp_2401.09657..."
     ]
    },
    {
     "name": "stdout",
     "output_type": "stream",
     "text": [
      " done.\n"
     ]
    },
    {
     "name": "stdout",
     "output_type": "stream",
     "text": [
      "Found 102 bibliographic references in tmp_2401.09657/Two_massive_warm_Jupiters.bbl.\n",
      "syntax error in line 714: premature end of file\n"
     ]
    }
   ],
   "source": [
    "documents = []\n",
    "failed = []\n",
    "for paper in tqdm(candidates):\n",
    "    paper_id = paper['identifier'].lower().replace('arxiv:', '')\n",
    "    \n",
    "    folder = f'tmp_{paper_id}'\n",
    "\n",
    "    try:\n",
    "        if not os.path.isdir(folder):\n",
    "            folder = retrieve_document_source(f\"{paper_id}\", f'tmp_{paper_id}')\n",
    "        \n",
    "        try:\n",
    "            doc = latex.LatexDocument(folder, validation=validation)    \n",
    "        except AffiliationError as affilerror:\n",
    "            msg = f\"ArXiv:{paper_id:s} is not an MPIA paper... \" + str(affilerror)\n",
    "            failed.append((paper, \"affiliation error: \" + str(affilerror) ))\n",
    "            continue\n",
    "        \n",
    "        # Hack because sometimes author parsing does not work well\n",
    "        if (len(doc.authors) != len(paper['authors'])):\n",
    "            doc._authors = paper['authors']\n",
    "        else:\n",
    "            # highlight authors (FIXME: doc.highlight_authors)\n",
    "            # done on arxiv paper already\n",
    "            doc._authors = highlight_authors_in_list(\n",
    "                [mpia.get_initials(k) for k in doc.authors], \n",
    "                normed_mpia_authors, verbose=True)\n",
    "        if (doc.abstract) in (None, ''):\n",
    "            doc._abstract = paper['abstract']\n",
    "            \n",
    "        doc.comment = (get_markdown_badge(paper_id) + \n",
    "                       \"<mark>Appeared on: \" + paper['date'] + \"</mark> - \")\n",
    "        if paper['comments']:\n",
    "            doc.comment += \" _\" + paper['comments'] + \"_\"\n",
    "        \n",
    "        full_md = doc.generate_markdown_text()\n",
    "        \n",
    "        full_md += get_markdown_qrcode(paper_id)\n",
    "        \n",
    "        # replace citations\n",
    "        try:\n",
    "            bibdata = latex_bib.LatexBib.from_doc(doc)\n",
    "            full_md = latex_bib.replace_citations(full_md, bibdata)\n",
    "        except Exception as e:\n",
    "            print(e)\n",
    "        \n",
    "        documents.append((paper_id, full_md))\n",
    "    except Exception as e:\n",
    "        warnings.warn(latex.LatexWarning(f\"{paper_id:s} did not run properly\\n\" +\n",
    "                                         str(e)\n",
    "                                        ))\n",
    "        failed.append((paper, \"latex error \" + str(e)))"
   ]
  },
  {
   "cell_type": "markdown",
   "id": "2505a25c",
   "metadata": {
    "papermill": {
     "duration": 0.003252,
     "end_time": "2024-01-19T04:08:59.025249",
     "exception": false,
     "start_time": "2024-01-19T04:08:59.021997",
     "status": "completed"
    },
    "tags": []
   },
   "source": [
    "### Export the logs\n",
    "\n",
    "Throughout, we also keep track of the logs per paper. see `logs-{today date}.md` "
   ]
  },
  {
   "cell_type": "code",
   "execution_count": 5,
   "id": "d733828a",
   "metadata": {
    "execution": {
     "iopub.execute_input": "2024-01-19T04:08:59.033008Z",
     "iopub.status.busy": "2024-01-19T04:08:59.032460Z",
     "iopub.status.idle": "2024-01-19T04:08:59.044268Z",
     "shell.execute_reply": "2024-01-19T04:08:59.043645Z"
    },
    "papermill": {
     "duration": 0.017197,
     "end_time": "2024-01-19T04:08:59.045570",
     "exception": false,
     "start_time": "2024-01-19T04:08:59.028373",
     "status": "completed"
    },
    "scrolled": false,
    "tags": []
   },
   "outputs": [
    {
     "data": {
      "text/markdown": [
       "## Successful papers"
      ],
      "text/plain": [
       "<IPython.core.display.Markdown object>"
      ]
     },
     "metadata": {},
     "output_type": "display_data"
    },
    {
     "data": {
      "text/markdown": [
       "\n",
       "|||\n",
       "|---:|:---|\n",
       "| [![arXiv](https://img.shields.io/badge/arXiv-arXiv:2401.09657-b31b1b.svg)](https://arxiv.org/abs/arXiv:2401.09657) | **A long-period transiting substellar companion in the super-Jupiters to  brown dwarfs mass regime and a prototypical warm-Jupiter detected by TESS**  |\n",
       "|| M. I. Jones, et al. -- incl., <mark>J. Eberhardt</mark>, <mark>T. Trifonov</mark> |\n",
       "|*Appeared on*| *2024-01-19*|\n",
       "|*Comments*| *Accepted in A&A*|\n",
       "|**Abstract**| We report on the confirmation and follow-up characterization of two long-period transiting substellar companions on low-eccentricity orbits around TIC 4672985 and TOI-2529, whose transit events were detected by the TESS space mission. Ground-based photometric and spectroscopic follow-up from different facilities, confirmed the substellar nature of TIC 4672985 b, a massive gas giant, in the transition between the super Jupiters and brown dwarfs mass regime. From the joint analysis we derived the following orbital parameters: P = 69.0480 d, Mp = 12.74 Mjup, Rp = 1.026 Rjup and e = 0.018. In addition, the RV time series revealed a significant trend at the 350 m/s/yr level, which is indicative of the presence of a massive outer companion in the system. TIC 4672985 b is a unique example of a transiting substellar companion with a mass above the deuterium-burning limit, located beyond 0.1 AU and in a nearly circular orbit. These planetary properties are difficult to reproduce from canonical planet formation and evolution models. For TOI-2529 b, we obtained the following orbital parameters: P = 64.5949 d, Mp = 2.340 Mjup, Rp = 1.030 Rjup and e = 0.021, making this object a new example of a growing population of transiting warm giant planets. |"
      ],
      "text/plain": [
       "[arXiv:2401.09657] A long-period transiting substellar companion in the super-Jupiters to  brown dwarfs mass regime and a prototypical warm-Jupiter detected by TESS\n",
       "\tM. I. Jones, et al. -- incl., <mark>J. Eberhardt</mark>, <mark>T. Trifonov</mark>"
      ]
     },
     "metadata": {},
     "output_type": "display_data"
    },
    {
     "data": {
      "text/markdown": [
       "## Failed papers"
      ],
      "text/plain": [
       "<IPython.core.display.Markdown object>"
      ]
     },
     "metadata": {},
     "output_type": "display_data"
    }
   ],
   "source": [
    "import datetime\n",
    "today = str(datetime.date.today())\n",
    "logfile = f\"_build/html/logs/log-{today}.md\"\n",
    "\n",
    "\n",
    "with open(logfile, 'w') as logs:\n",
    "    # Success\n",
    "    logs.write(f'# Arxiv on Deck 2: Logs - {today}\\n\\n')\n",
    "    logs.write(\"\"\"* Arxiv had {0:,d} new papers\\n\"\"\".format(len(new_papers)))\n",
    "    logs.write(\"\"\"    * {0:,d} with possible author matches\\n\\n\"\"\".format(len(candidates)))\n",
    "    logs.write(\"## Sucessful papers\\n\\n\")\n",
    "    display(Markdown(\"## Successful papers\"))\n",
    "    success = [k[0] for k in documents]\n",
    "    for candid in candidates:\n",
    "        if candid['identifier'].split(':')[-1] in success:\n",
    "            display(candid)\n",
    "            logs.write(candid.generate_markdown_text() + '\\n\\n')\n",
    "\n",
    "    ## failed\n",
    "    logs.write(\"## Failed papers\\n\\n\")\n",
    "    display(Markdown(\"## Failed papers\"))\n",
    "    failed = sorted(failed, key=lambda x: x[1])\n",
    "    current_reason = \"\"\n",
    "    for paper, reason in failed:\n",
    "        if 'affiliation' in reason:\n",
    "            color = 'green'\n",
    "        else:\n",
    "            color = 'red'\n",
    "        data = Markdown(\n",
    "                paper.generate_markdown_text() + \n",
    "                f'\\n|<p style=\"color:{color:s}\"> **ERROR** </p>| <p style=\"color:{color:s}\">{reason:s}</p> |'\n",
    "               )\n",
    "        if reason != current_reason:\n",
    "            logs.write(f'### {reason:s} \\n\\n')\n",
    "            current_reason = reason\n",
    "        logs.write(data.data + '\\n\\n')\n",
    "        \n",
    "        # only display here the important errors (all in logs)\n",
    "        # if color in ('red',):\n",
    "        display(data)"
   ]
  },
  {
   "cell_type": "markdown",
   "id": "472d20ee",
   "metadata": {
    "papermill": {
     "duration": 0.003389,
     "end_time": "2024-01-19T04:08:59.052463",
     "exception": false,
     "start_time": "2024-01-19T04:08:59.049074",
     "status": "completed"
    },
    "tags": []
   },
   "source": [
    "## Export documents\n",
    "\n",
    "We now write the .md files and export relevant images"
   ]
  },
  {
   "cell_type": "code",
   "execution_count": 6,
   "id": "d426aed9",
   "metadata": {
    "execution": {
     "iopub.execute_input": "2024-01-19T04:08:59.060601Z",
     "iopub.status.busy": "2024-01-19T04:08:59.060083Z",
     "iopub.status.idle": "2024-01-19T04:08:59.066365Z",
     "shell.execute_reply": "2024-01-19T04:08:59.065763Z"
    },
    "papermill": {
     "duration": 0.011857,
     "end_time": "2024-01-19T04:08:59.067822",
     "exception": false,
     "start_time": "2024-01-19T04:08:59.055965",
     "status": "completed"
    },
    "tags": []
   },
   "outputs": [],
   "source": [
    "def export_markdown_summary(md: str, md_fname:str, directory: str):\n",
    "    \"\"\"Export MD document and associated relevant images\"\"\"\n",
    "    import os\n",
    "    import shutil\n",
    "    import re\n",
    "\n",
    "    if (os.path.exists(directory) and not os.path.isdir(directory)):\n",
    "        raise RuntimeError(f\"a non-directory file exists with name {directory:s}\")\n",
    "\n",
    "    if (not os.path.exists(directory)):\n",
    "        print(f\"creating directory {directory:s}\")\n",
    "        os.mkdir(directory)\n",
    "\n",
    "    fig_fnames = (re.compile(r'\\[Fig.*\\]\\((.*)\\)').findall(md) + \n",
    "                  re.compile(r'\\<img src=\"([^>\\s]*)\"[^>]*/>').findall(md))\n",
    "    for fname in fig_fnames:\n",
    "        if 'http' in fname:\n",
    "            # No need to copy online figures\n",
    "            continue\n",
    "        destdir = os.path.join(directory, os.path.dirname(fname))\n",
    "        destfname = os.path.join(destdir, os.path.basename(fname))\n",
    "        try:\n",
    "            os.makedirs(destdir)\n",
    "        except FileExistsError:\n",
    "            pass\n",
    "        shutil.copy(fname, destfname)\n",
    "    with open(os.path.join(directory, md_fname), 'w') as fout:\n",
    "        fout.write(md)\n",
    "    print(\"exported in \", os.path.join(directory, md_fname))\n",
    "    [print(\"    + \" + os.path.join(directory,fk)) for fk in fig_fnames]"
   ]
  },
  {
   "cell_type": "code",
   "execution_count": 7,
   "id": "014d04a4",
   "metadata": {
    "execution": {
     "iopub.execute_input": "2024-01-19T04:08:59.075994Z",
     "iopub.status.busy": "2024-01-19T04:08:59.075566Z",
     "iopub.status.idle": "2024-01-19T04:08:59.081984Z",
     "shell.execute_reply": "2024-01-19T04:08:59.081470Z"
    },
    "papermill": {
     "duration": 0.011952,
     "end_time": "2024-01-19T04:08:59.083291",
     "exception": false,
     "start_time": "2024-01-19T04:08:59.071339",
     "status": "completed"
    },
    "tags": []
   },
   "outputs": [
    {
     "name": "stdout",
     "output_type": "stream",
     "text": [
      "exported in  _build/html/2401.09657.md\n",
      "    + _build/html/tmp_2401.09657/./figures/mass_rad.png\n",
      "    + _build/html/tmp_2401.09657/./figures/TIC4672985/LC_model.jpg\n",
      "    + _build/html/tmp_2401.09657/./figures/TIC269333648/age_rad_TOI2529_v4.png\n"
     ]
    }
   ],
   "source": [
    "for paper_id, md in documents:\n",
    "    export_markdown_summary(md, f\"{paper_id:s}.md\", '_build/html/')"
   ]
  },
  {
   "cell_type": "markdown",
   "id": "f087a0a7",
   "metadata": {
    "papermill": {
     "duration": 0.003456,
     "end_time": "2024-01-19T04:08:59.090303",
     "exception": false,
     "start_time": "2024-01-19T04:08:59.086847",
     "status": "completed"
    },
    "tags": []
   },
   "source": [
    "## Display the papers\n",
    "\n",
    "Not necessary but allows for a quick check."
   ]
  },
  {
   "cell_type": "code",
   "execution_count": 8,
   "id": "fd25f625",
   "metadata": {
    "execution": {
     "iopub.execute_input": "2024-01-19T04:08:59.098541Z",
     "iopub.status.busy": "2024-01-19T04:08:59.098167Z",
     "iopub.status.idle": "2024-01-19T04:08:59.102733Z",
     "shell.execute_reply": "2024-01-19T04:08:59.102113Z"
    },
    "papermill": {
     "duration": 0.010126,
     "end_time": "2024-01-19T04:08:59.104019",
     "exception": false,
     "start_time": "2024-01-19T04:08:59.093893",
     "status": "completed"
    },
    "scrolled": false,
    "tags": []
   },
   "outputs": [
    {
     "data": {
      "text/markdown": [
       "<div class=\"macros\" style=\"visibility:hidden;\">\n",
       "$\\newcommand{\\ensuremath}{}$\n",
       "$\\newcommand{\\xspace}{}$\n",
       "$\\newcommand{\\object}[1]{\\texttt{#1}}$\n",
       "$\\newcommand{\\farcs}{{.}''}$\n",
       "$\\newcommand{\\farcm}{{.}'}$\n",
       "$\\newcommand{\\arcsec}{''}$\n",
       "$\\newcommand{\\arcmin}{'}$\n",
       "$\\newcommand{\\ion}[2]{#1#2}$\n",
       "$\\newcommand{\\textsc}[1]{\\textrm{#1}}$\n",
       "$\\newcommand{\\hl}[1]{\\textrm{#1}}$\n",
       "$\\newcommand{\\footnote}[1]{}$\n",
       "$\\newcommand{\\cir}{\\mathrm{C^{12}/C^{13}} }$\n",
       "$\\newcommand{\\FeI}{Fe {\\sc i} }$\n",
       "$\\newcommand{\\FeII}{Fe {\\sc ii} }$\n",
       "$\\newcommand{\\feh}{[Fe/H] }$\n",
       "$\\newcommand{\\vt}{\\xi_t }$\n",
       "$\\newcommand{\\teff}{\\ensuremath{T_{\\rm eff}}}$\n",
       "$\\newcommand{\\teq}{\\ensuremath{T_{\\rm eq}}}$\n",
       "$\\newcommand{\\logg}{\\ensuremath{\\log{g}}}$\n",
       "$\\newcommand{\\angstrom}{\\text{\\normalfontÅ}}$\n",
       "$\\newcommand{\\kms}{km s^{-1} }$\n",
       "$\\newcommand{\\msun}{M_\\odot }$\n",
       "$\\newcommand{\\mstar}{M_\\star }$\n",
       "$\\newcommand{\\rstar}{R_\\star }$\n",
       "$\\newcommand{\\lstar}{L_\\star }$\n",
       "$\\newcommand{\\rsun}{R_\\odot }$\n",
       "$\\newcommand{\\lsun}{L_\\odot }$\n",
       "$\\newcommand{\\loggiso}{\\logg_{\\text{iso}} }$\n",
       "$\\newcommand{\\loggtri}{\\logg_{\\text{tri}} }$\n",
       "$\\newcommand{\\ms}{m s^{-1} }$\n",
       "$\\newcommand{\\mjup}{M_{\\rm J} }$\n",
       "$\\newcommand{\\rjup}{R_{\\rm J} }$\n",
       "$\\newcommand{\\vsini}{\\varv sin i }$\n",
       "$\\newcommand{\\mearth}{M_\\oplus }$\n",
       "$\\newcommand{\\zaspe}{\\texttt{ZASPE} }$\n",
       "$\\newcommand{\\SPECIES}{\\texttt{SPECIES} }$\n",
       "$\\newcommand{\\ceres}{\\texttt{CERES} }$\n",
       "$\\newcommand{\\parsec}{\\texttt{PARSEC} }$\n",
       "$\\newcommand{\\tess}{TESS }$\n",
       "$\\newcommand{\\celerite}{\\texttt{celerite}}$\n",
       "$\\newcommand{\\mesa}{\\texttt{MESA} }$\n",
       "$\\newcommand{\\juliet}{\\texttt{juliet} }$\n",
       "$\\newcommand{\\radvel}{\\texttt{radvel} }$\n",
       "$\\newcommand{\\batman}{\\texttt{batman} }$\n",
       "$\\newcommand{\\dynesty}{\\texttt{dynesty} }$\n",
       "$\\newcommand{\\gaia}{\\texttt{GAIA} }$\n",
       "$\\newcommand{\\perone}{69.0480\\substack{+0.0004 \\-0.0005} }$\n",
       "$\\newcommand{\\massone}{12.74\\substack{+1.01 \\-1.01} }$\n",
       "$\\newcommand{\\radone}{1.026\\substack{+0.065 \\-0.067} }$\n",
       "$\\newcommand{\\eccone}{0.018\\substack{+0.004 \\-0.004} }$\n",
       "$\\newcommand{\\pertwo}{64.5949\\substack{+0.0003 \\-0.0003} }$\n",
       "$\\newcommand{\\masstwo}{2.340\\substack{+0.197 \\-0.195} }$\n",
       "$\\newcommand{\\radtwo}{1.030\\substack{+0.050 \\-0.050} }$\n",
       "$\\newcommand{\\ecctwo}{0.021\\substack{+0.024 \\-0.015} }$</div>\n",
       "\n",
       "\n",
       "\n",
       "<div id=\"title\">\n",
       "\n",
       "# A long-period transiting substellar companion in the super-Jupiters to brown dwarfs mass regime and a prototypical warm-Jupiter detected by $\\tess$.$\\thanks{ Based on observations collected at La Silla - Paranal Observatory under programs IDs 105.20GX.001, 106.212H.001, 106.21ER.001 and 108.22A8.001 and through the Chilean Telescope Time under programs IDs CN2020B-21, CN2021A-14, CN2021B-23, CN2022A-33 and CN2022B-33}$\n",
       "\n",
       "</div>\n",
       "<div id=\"comments\">\n",
       "\n",
       "[![arXiv](https://img.shields.io/badge/arXiv-2401.09657-b31b1b.svg)](https://arxiv.org/abs/2401.09657)<mark>Appeared on: 2024-01-19</mark> -  _Accepted in A&A_\n",
       "\n",
       "</div>\n",
       "<div id=\"authors\">\n",
       "\n",
       "M. I. Jones, et al. -- incl., <mark>J. Eberhardt</mark>, <mark>T. Trifonov</mark>\n",
       "\n",
       "</div>\n",
       "<div id=\"abstract\">\n",
       "\n",
       "**Abstract:** We report on the confirmation and follow-up characterization of two long-period transiting substellar companions on low-eccentricity orbits around TIC 4672985 and TOI-2529, whose transit events were detected by the $\\tess$ space mission.Ground-based photometric and spectroscopic follow-up from different facilities,confirmed the substellar nature of TIC 4672985 $b$ , a massive gas giant, in the transition between the super-Jupiters and brown-dwarfs mass regime.From the joint analysis we derived the following orbital parameters: $P$ = $\\perone$ d, $M_p$ = $\\massone$ $\\mjup$ , $R_p$ = $\\radone$ $\\rjup$ and $e$ = $\\eccone$ . In addition, the RV time series revealed a significant trend at the $\\sim$ 350 $\\ms$ yr $^{-1}$ level, which is indicative of the presence of a massive outer companion in the system.TIC 4672985 $b$ is a unique example of a transiting substellar companion with a mass above the deuterium-burning limit, located beyond 0.1 AU and in a nearly circular orbit. These planetary properties are difficult to reproduce from canonical planet formation and evolution models.For TOI-2529 $b$ , we obtained the following orbital parameters: $P$ = $\\pertwo$ d, $M_p$ = $\\masstwo$ $\\mjup$ , $R_p$ = $\\radtwo$ $\\rjup$ and $e$ = $\\ecctwo$ , making this object a new example of a growing population of transiting warm giant planets.\n",
       "\n",
       "</div>\n",
       "\n",
       "<div id=\"div_fig1\">\n",
       "\n",
       "<img src=\"tmp_2401.09657/./figures/mass_rad.png\" alt=\"Fig12\" width=\"100%\"/>\n",
       "\n",
       "**Figure 12. -** Mass-radius distribution of known transiting giant planets as of June 30, 2023. The open red circles and blue dots correspond to orbital periods shorter and longer than 10 $d$, respectively. The positions of TIC 4672985 $b$(black diamond) and TOI-2529 $b$(black square) are also shown. The shaded area represents the theoretical deuterium-burning limit. The solid line corresponds to a 1 Gyr old and solar metallicity ATMO2020 isochrone. Two isodensity curves for 1 and 10 [gr cm$^{-3}$] are also plotted (dashed left and right lines, respectively).   (*fig:mass_rad*)\n",
       "\n",
       "</div>\n",
       "<div id=\"div_fig2\">\n",
       "\n",
       "<img src=\"tmp_2401.09657/./figures/TIC4672985/LC_model.jpg\" alt=\"Fig4\" width=\"100%\"/>\n",
       "\n",
       "**Figure 4. -** Normalized photometric observations of TIC 4672985 during the transit. The data were obtained in $\\tess$ sector 4 (upper panel) and from ground-based telescopes (CALLISTO and OM-ES; middle and lower panels, respectively). The solid lines correspond to the transit models.  (*fig:LC_model_TIC4672985*)\n",
       "\n",
       "</div>\n",
       "<div id=\"div_fig3\">\n",
       "\n",
       "<img src=\"tmp_2401.09657/./figures/TIC269333648/age_rad_TOI2529_v4.png\" alt=\"Fig15\" width=\"100%\"/>\n",
       "\n",
       "**Figure 15. -** Position of TOI-2529 $b$ in the age-radius diagram (black dot). Planet evolutionary models with different envelope composition and insolation level over-plotted. For comparison, a simple model of Jupiter is also shown.\n",
       " (*fig:age_rad_TOI2529*)\n",
       "\n",
       "</div><div id=\"qrcode\"><img src=https://api.qrserver.com/v1/create-qr-code/?size=100x100&data=\"https://arxiv.org/abs/2401.09657\"></div>"
      ],
      "text/plain": [
       "<IPython.core.display.Markdown object>"
      ]
     },
     "metadata": {},
     "output_type": "display_data"
    }
   ],
   "source": [
    "[display(Markdown(k[1])) for k in documents];"
   ]
  },
  {
   "cell_type": "markdown",
   "id": "873873a4",
   "metadata": {
    "papermill": {
     "duration": 0.003743,
     "end_time": "2024-01-19T04:08:59.111601",
     "exception": false,
     "start_time": "2024-01-19T04:08:59.107858",
     "status": "completed"
    },
    "tags": []
   },
   "source": [
    "# Create HTML index"
   ]
  },
  {
   "cell_type": "code",
   "execution_count": 9,
   "id": "cf665672",
   "metadata": {
    "execution": {
     "iopub.execute_input": "2024-01-19T04:08:59.120550Z",
     "iopub.status.busy": "2024-01-19T04:08:59.120094Z",
     "iopub.status.idle": "2024-01-19T04:08:59.129481Z",
     "shell.execute_reply": "2024-01-19T04:08:59.128936Z"
    },
    "papermill": {
     "duration": 0.015469,
     "end_time": "2024-01-19T04:08:59.130830",
     "exception": false,
     "start_time": "2024-01-19T04:08:59.115361",
     "status": "completed"
    },
    "tags": []
   },
   "outputs": [
    {
     "name": "stdout",
     "output_type": "stream",
     "text": [
      "355  publications files modified in the last 7 days.\n"
     ]
    }
   ],
   "source": [
    "from datetime import datetime, timedelta, timezone\n",
    "from glob import glob\n",
    "import os\n",
    "\n",
    "files = glob('_build/html/*.md')\n",
    "days = 7\n",
    "now = datetime.today()\n",
    "res = []\n",
    "for fk in files:\n",
    "    stat_result = os.stat(fk).st_ctime\n",
    "    modified = datetime.fromtimestamp(stat_result, tz=timezone.utc).replace(tzinfo=None)\n",
    "    delta = now.today() - modified\n",
    "    if delta <= timedelta(days=days):\n",
    "        res.append((delta.seconds, fk))\n",
    "res = [k[1] for k in reversed(sorted(res, key=lambda x:x[1]))]\n",
    "npub = len(res)\n",
    "print(len(res), f\" publications files modified in the last {days:d} days.\")\n",
    "# [ print('\\t', k) for k in res ];"
   ]
  },
  {
   "cell_type": "code",
   "execution_count": 10,
   "id": "015de740",
   "metadata": {
    "execution": {
     "iopub.execute_input": "2024-01-19T04:08:59.140031Z",
     "iopub.status.busy": "2024-01-19T04:08:59.139601Z",
     "iopub.status.idle": "2024-01-19T04:08:59.160435Z",
     "shell.execute_reply": "2024-01-19T04:08:59.159930Z"
    },
    "papermill": {
     "duration": 0.026789,
     "end_time": "2024-01-19T04:08:59.161716",
     "exception": false,
     "start_time": "2024-01-19T04:08:59.134927",
     "status": "completed"
    },
    "tags": []
   },
   "outputs": [
    {
     "name": "stdout",
     "output_type": "stream",
     "text": [
      "1  publications in the last 7 days.\n"
     ]
    }
   ],
   "source": [
    "import datetime\n",
    "from glob import glob\n",
    "\n",
    "def get_last_n_days(lst, days=1):\n",
    "    \"\"\" Get the documents from the last n days \"\"\"\n",
    "    sorted_lst = sorted(lst, key=lambda x: x[1], reverse=True)\n",
    "    for fname, date in sorted_lst:\n",
    "        if date >= str(datetime.date.today() - datetime.timedelta(days=days)):\n",
    "            yield fname\n",
    "\n",
    "def extract_appearance_dates(lst_file):\n",
    "    dates = []\n",
    "\n",
    "    def get_date(line):\n",
    "        return line\\\n",
    "            .split('Appeared on:')[-1]\\\n",
    "            .split('</mark>')[0].strip()\n",
    "\n",
    "    for fname in lst:\n",
    "        with open(fname, 'r') as f:\n",
    "            found_date = False\n",
    "            for line in f:\n",
    "                if not found_date:\n",
    "                    if \"Appeared on\" in line:\n",
    "                        found_date = True\n",
    "                        dates.append((fname, get_date(line)))\n",
    "                else:\n",
    "                    break\n",
    "    return dates\n",
    "\n",
    "from glob import glob\n",
    "lst = glob('_build/html/*md')\n",
    "days = 7\n",
    "dates = extract_appearance_dates(lst)\n",
    "res = list(get_last_n_days(dates, days))\n",
    "npub = len(res)\n",
    "print(len(res), f\" publications in the last {days:d} days.\")"
   ]
  },
  {
   "cell_type": "code",
   "execution_count": 11,
   "id": "52ca0208",
   "metadata": {
    "execution": {
     "iopub.execute_input": "2024-01-19T04:08:59.170739Z",
     "iopub.status.busy": "2024-01-19T04:08:59.170312Z",
     "iopub.status.idle": "2024-01-19T04:08:59.175218Z",
     "shell.execute_reply": "2024-01-19T04:08:59.174669Z"
    },
    "papermill": {
     "duration": 0.010862,
     "end_time": "2024-01-19T04:08:59.176523",
     "exception": false,
     "start_time": "2024-01-19T04:08:59.165661",
     "status": "completed"
    },
    "scrolled": false,
    "tags": []
   },
   "outputs": [],
   "source": [
    "def create_carousel(npub=4):\n",
    "    \"\"\" Generate the HTML code for a carousel with `npub` slides \"\"\"\n",
    "    carousel = [\"\"\"  <div class=\"carousel\" \"\"\",\n",
    "                \"\"\"       data-flickity='{ \"autoPlay\": 10000, \"adaptiveHeight\": true, \"resize\": true, \"wrapAround\": true, \"pauseAutoPlayOnHover\": true, \"groupCells\": 1 }' id=\"asyncTypeset\">\"\"\"\n",
    "                ]\n",
    "    \n",
    "    item_str = \"\"\"    <div class=\"carousel-cell\"> <div id=\"slide{k}\" class=\"md_view\">Content {k}</div> </div>\"\"\"\n",
    "    for k in range(1, npub + 1):\n",
    "        carousel.append(item_str.format(k=k))\n",
    "    carousel.append(\"  </div>\")\n",
    "    return '\\n'.join(carousel)\n",
    "\n",
    "def create_grid(npub=4):\n",
    "    \"\"\" Generate the HTML code for a flat grid with `npub` slides \"\"\"\n",
    "    grid = [\"\"\"  <div class=\"grid\"> \"\"\",\n",
    "                ]\n",
    "    \n",
    "    item_str = \"\"\"    <div class=\"grid-item\"> <div id=\"slide{k}\" class=\"md_view\">Content {k}</div> </div>\"\"\"\n",
    "    for k in range(1, npub + 1):\n",
    "        grid.append(item_str.format(k=k))\n",
    "    grid.append(\"  </div>\")\n",
    "    return '\\n'.join(grid)"
   ]
  },
  {
   "cell_type": "code",
   "execution_count": 12,
   "id": "a6eac5b6",
   "metadata": {
    "execution": {
     "iopub.execute_input": "2024-01-19T04:08:59.185610Z",
     "iopub.status.busy": "2024-01-19T04:08:59.185241Z",
     "iopub.status.idle": "2024-01-19T04:08:59.190065Z",
     "shell.execute_reply": "2024-01-19T04:08:59.189449Z"
    },
    "papermill": {
     "duration": 0.010908,
     "end_time": "2024-01-19T04:08:59.191444",
     "exception": false,
     "start_time": "2024-01-19T04:08:59.180536",
     "status": "completed"
    },
    "scrolled": false,
    "tags": []
   },
   "outputs": [],
   "source": [
    "carousel = create_carousel(npub)\n",
    "docs = ', '.join(['\"{0:s}\"'.format(k.split('/')[-1]) for k in res])\n",
    "slides = ', '.join([f'\"slide{k}\"' for k in range(1, npub + 1)])\n",
    "\n",
    "with open(\"daily_template.html\", \"r\") as tpl:\n",
    "    page = tpl.read()\n",
    "    page = page.replace(\"{%-- carousel:s --%}\", carousel)\\\n",
    "               .replace(\"{%-- suptitle:s --%}\",  \"7-day archives\" )\\\n",
    "               .replace(\"{%-- docs:s --%}\", docs)\\\n",
    "               .replace(\"{%-- slides:s --%}\", slides)\n",
    "    \n",
    "with open(\"_build/html/index_7days.html\", 'w') as fout:\n",
    "    fout.write(page)"
   ]
  },
  {
   "cell_type": "code",
   "execution_count": 13,
   "id": "adc1a1ec",
   "metadata": {
    "execution": {
     "iopub.execute_input": "2024-01-19T04:08:59.200372Z",
     "iopub.status.busy": "2024-01-19T04:08:59.199992Z",
     "iopub.status.idle": "2024-01-19T04:08:59.206376Z",
     "shell.execute_reply": "2024-01-19T04:08:59.205782Z"
    },
    "papermill": {
     "duration": 0.012208,
     "end_time": "2024-01-19T04:08:59.207644",
     "exception": false,
     "start_time": "2024-01-19T04:08:59.195436",
     "status": "completed"
    },
    "tags": []
   },
   "outputs": [
    {
     "name": "stdout",
     "output_type": "stream",
     "text": [
      "1  publications in the last day.\n"
     ]
    }
   ],
   "source": [
    "# redo for today\n",
    "days = 1\n",
    "res = list(get_last_n_days(dates, days))\n",
    "npub = len(res)\n",
    "print(len(res), f\" publications in the last day.\")\n",
    "\n",
    "carousel = create_carousel(npub)\n",
    "docs = ', '.join(['\"{0:s}\"'.format(k.split('/')[-1]) for k in res])\n",
    "slides = ', '.join([f'\"slide{k}\"' for k in range(1, npub + 1)])\n",
    "\n",
    "with open(\"daily_template.html\", \"r\") as tpl:\n",
    "    page = tpl.read()\n",
    "    page = page.replace(\"{%-- carousel:s --%}\", carousel)\\\n",
    "               .replace(\"{%-- suptitle:s --%}\",  \"Daily\" )\\\n",
    "               .replace(\"{%-- docs:s --%}\", docs)\\\n",
    "               .replace(\"{%-- slides:s --%}\", slides)\n",
    "    \n",
    "# print(carousel, docs, slides)\n",
    "# print(page)\n",
    "with open(\"_build/html/index_daily.html\", 'w') as fout:\n",
    "    fout.write(page)"
   ]
  },
  {
   "cell_type": "code",
   "execution_count": 14,
   "id": "00eece82",
   "metadata": {
    "execution": {
     "iopub.execute_input": "2024-01-19T04:08:59.216746Z",
     "iopub.status.busy": "2024-01-19T04:08:59.216335Z",
     "iopub.status.idle": "2024-01-19T04:08:59.222748Z",
     "shell.execute_reply": "2024-01-19T04:08:59.222181Z"
    },
    "papermill": {
     "duration": 0.012315,
     "end_time": "2024-01-19T04:08:59.224043",
     "exception": false,
     "start_time": "2024-01-19T04:08:59.211728",
     "status": "completed"
    },
    "scrolled": false,
    "tags": []
   },
   "outputs": [
    {
     "name": "stdout",
     "output_type": "stream",
     "text": [
      "6  6 publications selected.\n"
     ]
    }
   ],
   "source": [
    "# Create the flat grid of the last N papers (fixed number regardless of dates)\n",
    "from itertools import islice \n",
    "\n",
    "npub = 6\n",
    "res = [k[0] for k in (islice(reversed(sorted(dates, key=lambda x: x[1])), 6))]\n",
    "print(len(res), f\" {npub} publications selected.\")\n",
    "\n",
    "grid = create_grid(npub)\n",
    "docs = ', '.join(['\"{0:s}\"'.format(k.split('/')[-1]) for k in res])\n",
    "slides = ', '.join([f'\"slide{k}\"' for k in range(1, npub + 1)])\n",
    "\n",
    "with open(\"grid_template.html\", \"r\") as tpl:\n",
    "    page = tpl.read()\n",
    "    page = page.replace(\"{%-- grid-content:s --%}\", grid)\\\n",
    "               .replace(\"{%-- suptitle:s --%}\",  f\"Last {npub:,d} papers\" )\\\n",
    "               .replace(\"{%-- docs:s --%}\", docs)\\\n",
    "               .replace(\"{%-- slides:s --%}\", slides)\n",
    "    \n",
    "# print(grid, docs, slides)\n",
    "# print(page)\n",
    "with open(\"_build/html/index_npub_grid.html\", 'w') as fout:\n",
    "    fout.write(page)"
   ]
  }
 ],
 "metadata": {
  "kernelspec": {
   "display_name": "Python 3 (ipykernel)",
   "language": "python",
   "name": "python3"
  },
  "language_info": {
   "codemirror_mode": {
    "name": "ipython",
    "version": 3
   },
   "file_extension": ".py",
   "mimetype": "text/x-python",
   "name": "python",
   "nbconvert_exporter": "python",
   "pygments_lexer": "ipython3",
   "version": "3.9.18"
  },
  "papermill": {
   "default_parameters": {},
   "duration": 39.123394,
   "end_time": "2024-01-19T04:08:59.444243",
   "environment_variables": {},
   "exception": null,
   "input_path": "MPIA daily digest.ipynb",
   "output_path": "log.ipynb",
   "parameters": {},
   "start_time": "2024-01-19T04:08:20.320849",
   "version": "2.5.0"
  },
  "vscode": {
   "interpreter": {
    "hash": "aee8b7b246df8f9039afb4144a1f6fd8d2ca17a180786b69acc140d282b71a49"
   }
  },
  "widgets": {
   "application/vnd.jupyter.widget-state+json": {
    "state": {
     "20a13f70d404459fae5ed8db4df484dd": {
      "model_module": "@jupyter-widgets/base",
      "model_module_version": "2.0.0",
      "model_name": "LayoutModel",
      "state": {
       "_model_module": "@jupyter-widgets/base",
       "_model_module_version": "2.0.0",
       "_model_name": "LayoutModel",
       "_view_count": null,
       "_view_module": "@jupyter-widgets/base",
       "_view_module_version": "2.0.0",
       "_view_name": "LayoutView",
       "align_content": null,
       "align_items": null,
       "align_self": null,
       "border_bottom": null,
       "border_left": null,
       "border_right": null,
       "border_top": null,
       "bottom": null,
       "display": null,
       "flex": null,
       "flex_flow": null,
       "grid_area": null,
       "grid_auto_columns": null,
       "grid_auto_flow": null,
       "grid_auto_rows": null,
       "grid_column": null,
       "grid_gap": null,
       "grid_row": null,
       "grid_template_areas": null,
       "grid_template_columns": null,
       "grid_template_rows": null,
       "height": null,
       "justify_content": null,
       "justify_items": null,
       "left": null,
       "margin": null,
       "max_height": null,
       "max_width": null,
       "min_height": null,
       "min_width": null,
       "object_fit": null,
       "object_position": null,
       "order": null,
       "overflow": null,
       "padding": null,
       "right": null,
       "top": null,
       "visibility": null,
       "width": null
      }
     },
     "2d7b7fd590ec4be6b1177ac7609cf4a9": {
      "model_module": "@jupyter-widgets/controls",
      "model_module_version": "2.0.0",
      "model_name": "ProgressStyleModel",
      "state": {
       "_model_module": "@jupyter-widgets/controls",
       "_model_module_version": "2.0.0",
       "_model_name": "ProgressStyleModel",
       "_view_count": null,
       "_view_module": "@jupyter-widgets/base",
       "_view_module_version": "2.0.0",
       "_view_name": "StyleView",
       "bar_color": null,
       "description_width": ""
      }
     },
     "47ce0fcdd53e4370bbea3fa4f3c39b67": {
      "model_module": "@jupyter-widgets/controls",
      "model_module_version": "2.0.0",
      "model_name": "HTMLModel",
      "state": {
       "_dom_classes": [],
       "_model_module": "@jupyter-widgets/controls",
       "_model_module_version": "2.0.0",
       "_model_name": "HTMLModel",
       "_view_count": null,
       "_view_module": "@jupyter-widgets/controls",
       "_view_module_version": "2.0.0",
       "_view_name": "HTMLView",
       "description": "",
       "description_allow_html": false,
       "layout": "IPY_MODEL_a65898728263499cb6d4abcb27700198",
       "placeholder": "​",
       "style": "IPY_MODEL_9f2cd4daadd34bccb2cd2bd36eedb312",
       "tabbable": null,
       "tooltip": null,
       "value": " 1/1 [00:19&lt;00:00, 19.66s/it]"
      }
     },
     "8d0f23ec792549ad9e54347a143ce612": {
      "model_module": "@jupyter-widgets/controls",
      "model_module_version": "2.0.0",
      "model_name": "HTMLStyleModel",
      "state": {
       "_model_module": "@jupyter-widgets/controls",
       "_model_module_version": "2.0.0",
       "_model_name": "HTMLStyleModel",
       "_view_count": null,
       "_view_module": "@jupyter-widgets/base",
       "_view_module_version": "2.0.0",
       "_view_name": "StyleView",
       "background": null,
       "description_width": "",
       "font_size": null,
       "text_color": null
      }
     },
     "9556ca512195464bbae7b6d1e6e4ee0c": {
      "model_module": "@jupyter-widgets/base",
      "model_module_version": "2.0.0",
      "model_name": "LayoutModel",
      "state": {
       "_model_module": "@jupyter-widgets/base",
       "_model_module_version": "2.0.0",
       "_model_name": "LayoutModel",
       "_view_count": null,
       "_view_module": "@jupyter-widgets/base",
       "_view_module_version": "2.0.0",
       "_view_name": "LayoutView",
       "align_content": null,
       "align_items": null,
       "align_self": null,
       "border_bottom": null,
       "border_left": null,
       "border_right": null,
       "border_top": null,
       "bottom": null,
       "display": null,
       "flex": null,
       "flex_flow": null,
       "grid_area": null,
       "grid_auto_columns": null,
       "grid_auto_flow": null,
       "grid_auto_rows": null,
       "grid_column": null,
       "grid_gap": null,
       "grid_row": null,
       "grid_template_areas": null,
       "grid_template_columns": null,
       "grid_template_rows": null,
       "height": null,
       "justify_content": null,
       "justify_items": null,
       "left": null,
       "margin": null,
       "max_height": null,
       "max_width": null,
       "min_height": null,
       "min_width": null,
       "object_fit": null,
       "object_position": null,
       "order": null,
       "overflow": null,
       "padding": null,
       "right": null,
       "top": null,
       "visibility": null,
       "width": null
      }
     },
     "9f2cd4daadd34bccb2cd2bd36eedb312": {
      "model_module": "@jupyter-widgets/controls",
      "model_module_version": "2.0.0",
      "model_name": "HTMLStyleModel",
      "state": {
       "_model_module": "@jupyter-widgets/controls",
       "_model_module_version": "2.0.0",
       "_model_name": "HTMLStyleModel",
       "_view_count": null,
       "_view_module": "@jupyter-widgets/base",
       "_view_module_version": "2.0.0",
       "_view_name": "StyleView",
       "background": null,
       "description_width": "",
       "font_size": null,
       "text_color": null
      }
     },
     "a26431fc9c4b40b895ea3fc398fc34d8": {
      "model_module": "@jupyter-widgets/controls",
      "model_module_version": "2.0.0",
      "model_name": "HBoxModel",
      "state": {
       "_dom_classes": [],
       "_model_module": "@jupyter-widgets/controls",
       "_model_module_version": "2.0.0",
       "_model_name": "HBoxModel",
       "_view_count": null,
       "_view_module": "@jupyter-widgets/controls",
       "_view_module_version": "2.0.0",
       "_view_name": "HBoxView",
       "box_style": "",
       "children": [
        "IPY_MODEL_adbf4e06f6b84f8a98f0aa22d6653db4",
        "IPY_MODEL_a73cd0dc68c74fd9a97fdf0553168ba1",
        "IPY_MODEL_47ce0fcdd53e4370bbea3fa4f3c39b67"
       ],
       "layout": "IPY_MODEL_20a13f70d404459fae5ed8db4df484dd",
       "tabbable": null,
       "tooltip": null
      }
     },
     "a65898728263499cb6d4abcb27700198": {
      "model_module": "@jupyter-widgets/base",
      "model_module_version": "2.0.0",
      "model_name": "LayoutModel",
      "state": {
       "_model_module": "@jupyter-widgets/base",
       "_model_module_version": "2.0.0",
       "_model_name": "LayoutModel",
       "_view_count": null,
       "_view_module": "@jupyter-widgets/base",
       "_view_module_version": "2.0.0",
       "_view_name": "LayoutView",
       "align_content": null,
       "align_items": null,
       "align_self": null,
       "border_bottom": null,
       "border_left": null,
       "border_right": null,
       "border_top": null,
       "bottom": null,
       "display": null,
       "flex": null,
       "flex_flow": null,
       "grid_area": null,
       "grid_auto_columns": null,
       "grid_auto_flow": null,
       "grid_auto_rows": null,
       "grid_column": null,
       "grid_gap": null,
       "grid_row": null,
       "grid_template_areas": null,
       "grid_template_columns": null,
       "grid_template_rows": null,
       "height": null,
       "justify_content": null,
       "justify_items": null,
       "left": null,
       "margin": null,
       "max_height": null,
       "max_width": null,
       "min_height": null,
       "min_width": null,
       "object_fit": null,
       "object_position": null,
       "order": null,
       "overflow": null,
       "padding": null,
       "right": null,
       "top": null,
       "visibility": null,
       "width": null
      }
     },
     "a73cd0dc68c74fd9a97fdf0553168ba1": {
      "model_module": "@jupyter-widgets/controls",
      "model_module_version": "2.0.0",
      "model_name": "FloatProgressModel",
      "state": {
       "_dom_classes": [],
       "_model_module": "@jupyter-widgets/controls",
       "_model_module_version": "2.0.0",
       "_model_name": "FloatProgressModel",
       "_view_count": null,
       "_view_module": "@jupyter-widgets/controls",
       "_view_module_version": "2.0.0",
       "_view_name": "ProgressView",
       "bar_style": "success",
       "description": "",
       "description_allow_html": false,
       "layout": "IPY_MODEL_fc20025841294c40bfda5c49296a4f55",
       "max": 1.0,
       "min": 0.0,
       "orientation": "horizontal",
       "style": "IPY_MODEL_2d7b7fd590ec4be6b1177ac7609cf4a9",
       "tabbable": null,
       "tooltip": null,
       "value": 1.0
      }
     },
     "adbf4e06f6b84f8a98f0aa22d6653db4": {
      "model_module": "@jupyter-widgets/controls",
      "model_module_version": "2.0.0",
      "model_name": "HTMLModel",
      "state": {
       "_dom_classes": [],
       "_model_module": "@jupyter-widgets/controls",
       "_model_module_version": "2.0.0",
       "_model_name": "HTMLModel",
       "_view_count": null,
       "_view_module": "@jupyter-widgets/controls",
       "_view_module_version": "2.0.0",
       "_view_name": "HTMLView",
       "description": "",
       "description_allow_html": false,
       "layout": "IPY_MODEL_9556ca512195464bbae7b6d1e6e4ee0c",
       "placeholder": "​",
       "style": "IPY_MODEL_8d0f23ec792549ad9e54347a143ce612",
       "tabbable": null,
       "tooltip": null,
       "value": "100%"
      }
     },
     "fc20025841294c40bfda5c49296a4f55": {
      "model_module": "@jupyter-widgets/base",
      "model_module_version": "2.0.0",
      "model_name": "LayoutModel",
      "state": {
       "_model_module": "@jupyter-widgets/base",
       "_model_module_version": "2.0.0",
       "_model_name": "LayoutModel",
       "_view_count": null,
       "_view_module": "@jupyter-widgets/base",
       "_view_module_version": "2.0.0",
       "_view_name": "LayoutView",
       "align_content": null,
       "align_items": null,
       "align_self": null,
       "border_bottom": null,
       "border_left": null,
       "border_right": null,
       "border_top": null,
       "bottom": null,
       "display": null,
       "flex": null,
       "flex_flow": null,
       "grid_area": null,
       "grid_auto_columns": null,
       "grid_auto_flow": null,
       "grid_auto_rows": null,
       "grid_column": null,
       "grid_gap": null,
       "grid_row": null,
       "grid_template_areas": null,
       "grid_template_columns": null,
       "grid_template_rows": null,
       "height": null,
       "justify_content": null,
       "justify_items": null,
       "left": null,
       "margin": null,
       "max_height": null,
       "max_width": null,
       "min_height": null,
       "min_width": null,
       "object_fit": null,
       "object_position": null,
       "order": null,
       "overflow": null,
       "padding": null,
       "right": null,
       "top": null,
       "visibility": null,
       "width": null
      }
     }
    },
    "version_major": 2,
    "version_minor": 0
   }
  }
 },
 "nbformat": 4,
 "nbformat_minor": 5
}