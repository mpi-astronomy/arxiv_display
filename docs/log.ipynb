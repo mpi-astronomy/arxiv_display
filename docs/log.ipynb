{
 "cells": [
  {
   "cell_type": "markdown",
   "id": "92bcb855",
   "metadata": {
    "papermill": {
     "duration": 0.006222,
     "end_time": "2023-01-17T04:06:31.665487",
     "exception": false,
     "start_time": "2023-01-17T04:06:31.659265",
     "status": "completed"
    },
    "tags": []
   },
   "source": [
    "# MPIA Arxiv on Deck 2\n",
    "\n",
    "Contains the steps to produce the paper extractions."
   ]
  },
  {
   "cell_type": "code",
   "execution_count": 1,
   "id": "3a0d6e11",
   "metadata": {
    "execution": {
     "iopub.execute_input": "2023-01-17T04:06:31.677134Z",
     "iopub.status.busy": "2023-01-17T04:06:31.676797Z",
     "iopub.status.idle": "2023-01-17T04:06:31.899918Z",
     "shell.execute_reply": "2023-01-17T04:06:31.899011Z"
    },
    "papermill": {
     "duration": 0.231741,
     "end_time": "2023-01-17T04:06:31.902484",
     "exception": false,
     "start_time": "2023-01-17T04:06:31.670743",
     "status": "completed"
    },
    "tags": []
   },
   "outputs": [],
   "source": [
    "# Imports\n",
    "import os\n",
    "from IPython.display import Markdown, display\n",
    "from tqdm.notebook import tqdm\n",
    "import warnings\n",
    "from PIL import Image \n",
    "\n",
    "# requires arxiv_on_deck_2\n",
    "\n",
    "from arxiv_on_deck_2.arxiv2 import (get_new_papers, \n",
    "                                    get_paper_from_identifier,\n",
    "                                    retrieve_document_source, \n",
    "                                    get_markdown_badge)\n",
    "from arxiv_on_deck_2 import (latex, \n",
    "                             mpia,\n",
    "                             highlight_authors_in_list)\n",
    "\n",
    "# Sometimes images are really big\n",
    "Image.MAX_IMAGE_PIXELS = 1000000000 "
   ]
  },
  {
   "cell_type": "code",
   "execution_count": 2,
   "id": "22aa9d44",
   "metadata": {
    "execution": {
     "iopub.execute_input": "2023-01-17T04:06:31.914475Z",
     "iopub.status.busy": "2023-01-17T04:06:31.914149Z",
     "iopub.status.idle": "2023-01-17T04:06:31.921770Z",
     "shell.execute_reply": "2023-01-17T04:06:31.920886Z"
    },
    "papermill": {
     "duration": 0.016204,
     "end_time": "2023-01-17T04:06:31.923792",
     "exception": false,
     "start_time": "2023-01-17T04:06:31.907588",
     "status": "completed"
    },
    "tags": []
   },
   "outputs": [],
   "source": [
    "# Some useful definitions.\n",
    "\n",
    "class AffiliationWarning(UserWarning):\n",
    "    pass\n",
    "\n",
    "class AffiliationError(RuntimeError):\n",
    "    pass\n",
    "\n",
    "def validation(source: str):\n",
    "    \"\"\"Raises error paper during parsing of source file\n",
    "    \n",
    "    Allows checks before parsing TeX code.\n",
    "    \n",
    "    Raises AffiliationWarning\n",
    "    \"\"\"\n",
    "    check = mpia.affiliation_verifications(source, verbose=True)\n",
    "    if check is not True:\n",
    "        raise AffiliationError(\"mpia.affiliation_verifications: \" + check)\n",
    "\n",
    "        \n",
    "warnings.simplefilter('always', AffiliationWarning)"
   ]
  },
  {
   "cell_type": "code",
   "execution_count": 3,
   "id": "14622700",
   "metadata": {
    "execution": {
     "iopub.execute_input": "2023-01-17T04:06:31.935957Z",
     "iopub.status.busy": "2023-01-17T04:06:31.935597Z",
     "iopub.status.idle": "2023-01-17T04:06:31.941000Z",
     "shell.execute_reply": "2023-01-17T04:06:31.939731Z"
    },
    "papermill": {
     "duration": 0.014219,
     "end_time": "2023-01-17T04:06:31.943194",
     "exception": false,
     "start_time": "2023-01-17T04:06:31.928975",
     "status": "completed"
    },
    "tags": []
   },
   "outputs": [],
   "source": [
    "# additional CSS to consider. \n",
    "# TODO: Current into each exported file. \n",
    "#       This should be set once into the webpages directly.\n",
    "#       With only the class/id definitions in the .md files.\n",
    "\n",
    "debug_html = \"\"\"\n",
    "<style>\n",
    "#wrap{ overflow:auto; }\n",
    "#fig1{ background:yellow; width:100%; float:left; padding:5px;  }\n",
    "#fig2{ background:red; width:50%; float:left; clear:left; padding:5px;  }\n",
    "#fig3{ background:green; width:50%; float:left; padding:5px;   }\n",
    ".macros{ background:yellow; visibility:visible;}\n",
    "h1 {margin: 0 0 0 0;}\n",
    "mark {background-color:#fff3b6;}\n",
    "img {object-fit:contain; max-height:250px; display:inline-block; text-align: center;}\n",
    "</style>\n",
    "\"\"\" \n",
    "html = \"\"\"\n",
    "<style>\n",
    "#wrap{ overflow:auto; }\n",
    "#fig1{ width:100%; float:left; padding: 5px;  }\n",
    "#fig2{ width:50%; float:left; clear:left; padding: 5px;  }\n",
    "#fig3{ width:50%; float:left; padding: 5px;  }\n",
    ".macros{ visibility:hidden; height:0px; }\n",
    "h1 {margin: 0em 0 0 0;}\n",
    "mark {background-color:#fff3b6;}\n",
    "img {object-fit:contain; max-height:250px; display:inline-block; text-align: center;}\n",
    "</style>\n",
    "\"\"\""
   ]
  },
  {
   "cell_type": "markdown",
   "id": "14bd6310",
   "metadata": {
    "papermill": {
     "duration": 0.00455,
     "end_time": "2023-01-17T04:06:31.952183",
     "exception": false,
     "start_time": "2023-01-17T04:06:31.947633",
     "status": "completed"
    },
    "tags": []
   },
   "source": [
    "## get list of arxiv paper candidates\n",
    "\n",
    "We use the MPIA mitarbeiter list webpage from mpia.de to get author names\n",
    "We then get all new papers from Arxiv and match authors"
   ]
  },
  {
   "cell_type": "code",
   "execution_count": 4,
   "id": "2645e73a",
   "metadata": {
    "execution": {
     "iopub.execute_input": "2023-01-17T04:06:31.962693Z",
     "iopub.status.busy": "2023-01-17T04:06:31.962157Z",
     "iopub.status.idle": "2023-01-17T04:06:59.903568Z",
     "shell.execute_reply": "2023-01-17T04:06:59.902532Z"
    },
    "papermill": {
     "duration": 27.948907,
     "end_time": "2023-01-17T04:06:59.905531",
     "exception": false,
     "start_time": "2023-01-17T04:06:31.956624",
     "status": "completed"
    },
    "tags": []
   },
   "outputs": [
    {
     "name": "stdout",
     "output_type": "stream",
     "text": [
      "Arxiv has 47 new papers today\n",
      "          19 with possible author matches\n"
     ]
    }
   ],
   "source": [
    "# get list from MPIA website\n",
    "# it automatically filters identified non-scientists :func:`mpia.filter_non_scientists`\n",
    "mpia_authors = mpia.get_mpia_mitarbeiter_list()\n",
    "new_papers = get_new_papers()\n",
    "# add manual references\n",
    "add_paper_refs = []\n",
    "new_papers.extend([get_paper_from_identifier(k) for k in add_paper_refs])\n",
    "\n",
    "# select only papers with matching author names and highlight authors\n",
    "hl_list = [k[0] for k in mpia_authors]\n",
    "\n",
    "candidates = []\n",
    "for paperk in new_papers:\n",
    "    hl_authors = highlight_authors_in_list(paperk['authors'], hl_list)\n",
    "    matches = [(hl, orig) for hl, orig in zip(hl_authors, paperk['authors']) if 'mark' in hl]\n",
    "    paperk['authors'] = hl_authors\n",
    "    if matches:\n",
    "        candidates.append(paperk)\n",
    "print(\"\"\"Arxiv has {0:,d} new papers today\"\"\".format(len(new_papers)))        \n",
    "print(\"\"\"          {0:,d} with possible author matches\"\"\".format(len(candidates)))"
   ]
  },
  {
   "cell_type": "markdown",
   "id": "3543b34a",
   "metadata": {
    "papermill": {
     "duration": 0.004755,
     "end_time": "2023-01-17T04:06:59.915892",
     "exception": false,
     "start_time": "2023-01-17T04:06:59.911137",
     "status": "completed"
    },
    "tags": []
   },
   "source": [
    "# Parse sources and generate relevant outputs\n",
    "\n",
    "From the candidates, we do the following steps:\n",
    "* get their tarball from ArXiv (and extract data)\n",
    "* find the main .tex file: find one with \\documentclass{...} (sometimes it's non trivial)\n",
    "* Check affiliations with :func:`validation`, which uses :func:`mpia.affiliation_verifications`\n",
    "* If passing the affiliations: we parse the .tex source\n",
    "   * inject sub-documents into the main (flatten the main document)\n",
    "   * parse structure, extract information (title, abstract, authors, figures...)\n",
    "   * handles `\\graphicspath` if provided\n",
    "* Generate the .md document."
   ]
  },
  {
   "cell_type": "code",
   "execution_count": 5,
   "id": "9576b79e",
   "metadata": {
    "execution": {
     "iopub.execute_input": "2023-01-17T04:06:59.927784Z",
     "iopub.status.busy": "2023-01-17T04:06:59.927234Z",
     "iopub.status.idle": "2023-01-17T04:09:12.189064Z",
     "shell.execute_reply": "2023-01-17T04:09:12.188206Z"
    },
    "papermill": {
     "duration": 132.277352,
     "end_time": "2023-01-17T04:09:12.198190",
     "exception": false,
     "start_time": "2023-01-17T04:06:59.920838",
     "status": "completed"
    },
    "scrolled": false,
    "tags": []
   },
   "outputs": [
    {
     "data": {
      "application/vnd.jupyter.widget-view+json": {
       "model_id": "c12ad5433f4f4baa8f0a5355458cd060",
       "version_major": 2,
       "version_minor": 0
      },
      "text/plain": [
       "  0%|          | 0/18 [00:00<?, ?it/s]"
      ]
     },
     "metadata": {},
     "output_type": "display_data"
    },
    {
     "name": "stdout",
     "output_type": "stream",
     "text": [
      "Retrieving document from  https://arxiv.org/e-print/2301.05236\n"
     ]
    },
    {
     "name": "stdout",
     "output_type": "stream",
     "text": [
      "extracting tarball to tmp_2301.05236..."
     ]
    },
    {
     "name": "stdout",
     "output_type": "stream",
     "text": [
      " done.\n",
      "Retrieving document from  https://arxiv.org/e-print/2301.05244\n"
     ]
    },
    {
     "name": "stderr",
     "output_type": "stream",
     "text": [
      "/opt/hostedtoolcache/Python/3.9.16/x64/lib/python3.9/site-packages/IPython/core/interactiveshell.py:3442: LatexWarning: Multiple tex files.\n",
      "\n",
      "  exec(code_obj, self.user_global_ns, self.user_ns)\n",
      "/opt/hostedtoolcache/Python/3.9.16/x64/lib/python3.9/site-packages/IPython/core/interactiveshell.py:3442: LatexWarning: Found documentclass in tmp_2301.05236/suppinfo.tex\n",
      "\n",
      "  exec(code_obj, self.user_global_ns, self.user_ns)\n"
     ]
    },
    {
     "name": "stdout",
     "output_type": "stream",
     "text": [
      "extracting tarball to tmp_2301.05244..."
     ]
    },
    {
     "name": "stdout",
     "output_type": "stream",
     "text": [
      " done.\n",
      "Retrieving document from  https://arxiv.org/e-print/2301.05251\n"
     ]
    },
    {
     "name": "stderr",
     "output_type": "stream",
     "text": [
      "/opt/hostedtoolcache/Python/3.9.16/x64/lib/python3.9/site-packages/IPython/core/interactiveshell.py:3442: LatexWarning: Multiple tex files.\n",
      "\n",
      "  exec(code_obj, self.user_global_ns, self.user_ns)\n",
      "/opt/hostedtoolcache/Python/3.9.16/x64/lib/python3.9/site-packages/IPython/core/interactiveshell.py:3442: LatexWarning: Found documentclass in tmp_2301.05244/main.tex\n",
      "\n",
      "  exec(code_obj, self.user_global_ns, self.user_ns)\n"
     ]
    },
    {
     "name": "stdout",
     "output_type": "stream",
     "text": [
      "extracting tarball to tmp_2301.05251..."
     ]
    },
    {
     "name": "stdout",
     "output_type": "stream",
     "text": [
      " done.\n",
      "Retrieving document from  https://arxiv.org/e-print/2301.05269\n"
     ]
    },
    {
     "name": "stderr",
     "output_type": "stream",
     "text": [
      "/opt/hostedtoolcache/Python/3.9.16/x64/lib/python3.9/site-packages/IPython/core/interactiveshell.py:3442: LatexWarning: Multiple tex files.\n",
      "\n",
      "  exec(code_obj, self.user_global_ns, self.user_ns)\n",
      "/opt/hostedtoolcache/Python/3.9.16/x64/lib/python3.9/site-packages/IPython/core/interactiveshell.py:3442: LatexWarning: Found documentclass in tmp_2301.05251/main.tex\n",
      "\n",
      "  exec(code_obj, self.user_global_ns, self.user_ns)\n",
      "/opt/hostedtoolcache/Python/3.9.16/x64/lib/python3.9/site-packages/arxiv_on_deck_2/latex.py:292: LatexWarning: Latex injecting: 'Tables/SOFIA' from 'tmp_2301.05251/Tables/SOFIA.tex'\n",
      "  warnings.warn(LatexWarning(f\"Latex injecting: '{ext}' from '{subsource}'\"))\n",
      "/opt/hostedtoolcache/Python/3.9.16/x64/lib/python3.9/site-packages/arxiv_on_deck_2/latex.py:292: LatexWarning: Latex injecting: 'Tables/CO10LineRatio' from 'tmp_2301.05251/Tables/CO10LineRatio.tex'\n",
      "  warnings.warn(LatexWarning(f\"Latex injecting: '{ext}' from '{subsource}'\"))\n",
      "/opt/hostedtoolcache/Python/3.9.16/x64/lib/python3.9/site-packages/arxiv_on_deck_2/latex.py:292: LatexWarning: Latex injecting: 'Tables/LineRatiosSummary' from 'tmp_2301.05251/Tables/LineRatiosSummary.tex'\n",
      "  warnings.warn(LatexWarning(f\"Latex injecting: '{ext}' from '{subsource}'\"))\n",
      "/opt/hostedtoolcache/Python/3.9.16/x64/lib/python3.9/site-packages/arxiv_on_deck_2/latex.py:292: LatexWarning: Latex injecting: 'Tables/ObsTable.tex' from 'tmp_2301.05251/Tables/ObsTable.tex'\n",
      "  warnings.warn(LatexWarning(f\"Latex injecting: '{ext}' from '{subsource}'\"))\n"
     ]
    },
    {
     "name": "stdout",
     "output_type": "stream",
     "text": [
      "extracting tarball to tmp_2301.05269..."
     ]
    },
    {
     "name": "stdout",
     "output_type": "stream",
     "text": [
      " done.\n",
      "Retrieving document from  https://arxiv.org/e-print/2301.05320\n"
     ]
    },
    {
     "name": "stdout",
     "output_type": "stream",
     "text": [
      "extracting tarball to tmp_2301.05320..."
     ]
    },
    {
     "name": "stdout",
     "output_type": "stream",
     "text": [
      " done.\n",
      "Retrieving document from  https://arxiv.org/e-print/2301.05382\n"
     ]
    },
    {
     "name": "stdout",
     "output_type": "stream",
     "text": [
      "extracting tarball to tmp_2301.05382..."
     ]
    },
    {
     "name": "stdout",
     "output_type": "stream",
     "text": [
      " done.\n",
      "Retrieving document from  https://arxiv.org/e-print/2301.05398\n"
     ]
    },
    {
     "name": "stdout",
     "output_type": "stream",
     "text": [
      "extracting tarball to tmp_2301.05398..."
     ]
    },
    {
     "name": "stdout",
     "output_type": "stream",
     "text": [
      " done.\n",
      "Retrieving document from  https://arxiv.org/e-print/2301.05401\n"
     ]
    },
    {
     "name": "stderr",
     "output_type": "stream",
     "text": [
      "/opt/hostedtoolcache/Python/3.9.16/x64/lib/python3.9/site-packages/IPython/core/interactiveshell.py:3442: LatexWarning: Multiple tex files.\n",
      "\n",
      "  exec(code_obj, self.user_global_ns, self.user_ns)\n",
      "/opt/hostedtoolcache/Python/3.9.16/x64/lib/python3.9/site-packages/IPython/core/interactiveshell.py:3442: LatexWarning: Found documentclass in tmp_2301.05398/NGC-449.tex\n",
      "\n",
      "  exec(code_obj, self.user_global_ns, self.user_ns)\n"
     ]
    },
    {
     "name": "stdout",
     "output_type": "stream",
     "text": [
      "extracting tarball to tmp_2301.05401..."
     ]
    },
    {
     "name": "stdout",
     "output_type": "stream",
     "text": [
      " done.\n",
      "Retrieving document from  https://arxiv.org/e-print/2301.05408\n"
     ]
    },
    {
     "name": "stdout",
     "output_type": "stream",
     "text": [
      "extracting tarball to tmp_2301.05408..."
     ]
    },
    {
     "name": "stdout",
     "output_type": "stream",
     "text": [
      " done.\n",
      "Retrieving document from  https://arxiv.org/e-print/2301.05410\n"
     ]
    },
    {
     "name": "stdout",
     "output_type": "stream",
     "text": [
      "extracting tarball to tmp_2301.05410..."
     ]
    },
    {
     "name": "stdout",
     "output_type": "stream",
     "text": [
      " done.\n",
      "Retrieving document from  https://arxiv.org/e-print/2301.05484\n"
     ]
    },
    {
     "name": "stdout",
     "output_type": "stream",
     "text": [
      "extracting tarball to tmp_2301.05484..."
     ]
    },
    {
     "name": "stdout",
     "output_type": "stream",
     "text": [
      " done.\n",
      "Retrieving document from  https://arxiv.org/e-print/2301.05501\n"
     ]
    },
    {
     "name": "stdout",
     "output_type": "stream",
     "text": [
      "extracting tarball to tmp_2301.05501..."
     ]
    },
    {
     "name": "stdout",
     "output_type": "stream",
     "text": [
      " done.\n",
      "Retrieving document from  https://arxiv.org/e-print/2301.05505\n"
     ]
    },
    {
     "name": "stdout",
     "output_type": "stream",
     "text": [
      "extracting tarball to tmp_2301.05505... done.\n",
      "Retrieving document from  https://arxiv.org/e-print/2301.05509\n"
     ]
    },
    {
     "name": "stdout",
     "output_type": "stream",
     "text": [
      "extracting tarball to tmp_2301.05509..."
     ]
    },
    {
     "name": "stdout",
     "output_type": "stream",
     "text": [
      " done.\n",
      "Retrieving document from  https://arxiv.org/e-print/2301.05520\n"
     ]
    },
    {
     "name": "stdout",
     "output_type": "stream",
     "text": [
      "extracting tarball to tmp_2301.05520..."
     ]
    },
    {
     "name": "stdout",
     "output_type": "stream",
     "text": [
      " done.\n",
      "Retrieving document from  https://arxiv.org/e-print/2301.05532\n"
     ]
    },
    {
     "name": "stderr",
     "output_type": "stream",
     "text": [
      "/opt/hostedtoolcache/Python/3.9.16/x64/lib/python3.9/site-packages/IPython/core/interactiveshell.py:3442: LatexWarning: Multiple tex files.\n",
      "\n",
      "  exec(code_obj, self.user_global_ns, self.user_ns)\n",
      "/opt/hostedtoolcache/Python/3.9.16/x64/lib/python3.9/site-packages/IPython/core/interactiveshell.py:3442: LatexWarning: Found documentclass in tmp_2301.05520/smoothvmax.tex\n",
      "\n",
      "  exec(code_obj, self.user_global_ns, self.user_ns)\n"
     ]
    },
    {
     "name": "stdout",
     "output_type": "stream",
     "text": [
      "extracting tarball to tmp_2301.05532..."
     ]
    },
    {
     "name": "stdout",
     "output_type": "stream",
     "text": [
      " done.\n"
     ]
    },
    {
     "name": "stderr",
     "output_type": "stream",
     "text": [
      "/opt/hostedtoolcache/Python/3.9.16/x64/lib/python3.9/site-packages/arxiv_on_deck_2/latex.py:118: LatexWarning: attempting recovering figure .png\n",
      "  warnings.warn(LatexWarning(f'attempting recovering figure {image}'))\n",
      "/tmp/ipykernel_2083/4030337529.py:34: LatexWarning: 2301.05532 did not run properly\n",
      "Could not find figure .png\n",
      "  warnings.warn(latex.LatexWarning(f\"{paper_id:s} did not run properly\\n\" +\n"
     ]
    },
    {
     "name": "stdout",
     "output_type": "stream",
     "text": [
      "Retrieving document from  https://arxiv.org/e-print/2301.05616\n"
     ]
    },
    {
     "name": "stdout",
     "output_type": "stream",
     "text": [
      "extracting tarball to tmp_2301.05616..."
     ]
    },
    {
     "name": "stdout",
     "output_type": "stream",
     "text": [
      " done.\n",
      "Retrieving document from  https://arxiv.org/e-print/2301.05699\n"
     ]
    },
    {
     "name": "stdout",
     "output_type": "stream",
     "text": [
      "extracting tarball to tmp_2301.05699..."
     ]
    },
    {
     "name": "stdout",
     "output_type": "stream",
     "text": [
      " done.\n"
     ]
    },
    {
     "name": "stderr",
     "output_type": "stream",
     "text": [
      "/opt/hostedtoolcache/Python/3.9.16/x64/lib/python3.9/site-packages/IPython/core/interactiveshell.py:3442: LatexWarning: Multiple tex files.\n",
      "\n",
      "  exec(code_obj, self.user_global_ns, self.user_ns)\n",
      "/opt/hostedtoolcache/Python/3.9.16/x64/lib/python3.9/site-packages/IPython/core/interactiveshell.py:3442: LatexWarning: Found documentclass in tmp_2301.05699/main.tex\n",
      "\n",
      "  exec(code_obj, self.user_global_ns, self.user_ns)\n"
     ]
    }
   ],
   "source": [
    "documents = []\n",
    "failed = []\n",
    "for paper in tqdm(candidates[:-1]):\n",
    "    paper_id = paper['identifier'].lower().replace('arxiv:', '')\n",
    "    \n",
    "    folder = f'tmp_{paper_id}'\n",
    "\n",
    "    try:\n",
    "        if not os.path.isdir(folder):\n",
    "            folder = retrieve_document_source(f\"{paper_id}\", f'tmp_{paper_id}')\n",
    "        \n",
    "        try:\n",
    "            doc = latex.LatexDocument(folder, validation=validation)    \n",
    "        except AffiliationError as affilerror:\n",
    "            msg = f\"ArXiv:{paper_id:s} is not an MPIA paper... \" + str(affilerror)\n",
    "            failed.append((paper, \"affiliation error: \" + str(affilerror) ))\n",
    "            continue\n",
    "        \n",
    "        # Hack because sometimes author parsing does not work well\n",
    "        if (len(doc.authors) != len(paper['authors'])):\n",
    "            doc._authors = paper['authors']\n",
    "        if (doc.abstract) in (None, ''):\n",
    "            doc._abstract = paper['abstract']\n",
    "            \n",
    "        doc.comment = (get_markdown_badge(paper_id) + \n",
    "                       \"<mark>Appeared on: \" + paper['date'] + \"</mark> - \" +\n",
    "                       \"_\" + paper['comments'] + \"_\")\n",
    "        doc.highlight_authors_in_list(hl_list)\n",
    "\n",
    "        full_md = doc.generate_markdown_text()\n",
    "        \n",
    "        documents.append((paper_id, full_md))\n",
    "    except Exception as e:\n",
    "        warnings.warn(latex.LatexWarning(f\"{paper_id:s} did not run properly\\n\" +\n",
    "                                         str(e)\n",
    "                                        ))\n",
    "        failed.append((paper, \"latex error \" + str(e)))"
   ]
  },
  {
   "cell_type": "markdown",
   "id": "2505a25c",
   "metadata": {
    "papermill": {
     "duration": 0.00837,
     "end_time": "2023-01-17T04:09:12.216319",
     "exception": false,
     "start_time": "2023-01-17T04:09:12.207949",
     "status": "completed"
    },
    "tags": []
   },
   "source": [
    "### Export the logs\n",
    "\n",
    "Throughout, we also keep track of the logs per paper. see `logs-{today date}.md` "
   ]
  },
  {
   "cell_type": "code",
   "execution_count": 6,
   "id": "d733828a",
   "metadata": {
    "execution": {
     "iopub.execute_input": "2023-01-17T04:09:12.235064Z",
     "iopub.status.busy": "2023-01-17T04:09:12.234631Z",
     "iopub.status.idle": "2023-01-17T04:09:12.273579Z",
     "shell.execute_reply": "2023-01-17T04:09:12.272825Z"
    },
    "papermill": {
     "duration": 0.05056,
     "end_time": "2023-01-17T04:09:12.275710",
     "exception": false,
     "start_time": "2023-01-17T04:09:12.225150",
     "status": "completed"
    },
    "scrolled": false,
    "tags": []
   },
   "outputs": [
    {
     "data": {
      "text/markdown": [
       "## Successful papers"
      ],
      "text/plain": [
       "<IPython.core.display.Markdown object>"
      ]
     },
     "metadata": {},
     "output_type": "display_data"
    },
    {
     "data": {
      "text/markdown": [
       "## Failed papers"
      ],
      "text/plain": [
       "<IPython.core.display.Markdown object>"
      ]
     },
     "metadata": {},
     "output_type": "display_data"
    },
    {
     "data": {
      "text/markdown": [
       "\n",
       "|||\n",
       "|---:|:---|\n",
       "| [![arXiv](https://img.shields.io/badge/arXiv-arXiv:2301.05236-b31b1b.svg)](https://arxiv.org/abs/arXiv:2301.05236) | **End-to-end study of the home and genealogy of the first binary neutron  star merger**  |\n",
       "|| <mark>Heloise F. Stevance</mark>, et al. |\n",
       "|*Appeared on*| *2023-01-16*|\n",
       "|*Comments*| *Main text (3 Figures, 10 pages) and Supplementary Information (23 pages, 14 Figures). Published in Nature Astronomy*|\n",
       "|**Abstract**| Binary neutron star mergers are one of the ultimate events of massive binary star evolution, and our understanding of their parent system is still in its infancy. Upcoming gravitational wave detections, coupled with multi-wavelength follow-up observations, will allow us to study an increasing number of these events by characterising their neighbouring stellar populations and searching for their progenitors. Stellar evolution simulations are essential to this work but they are also based on numerous assumptions. Additionally, the models used to study the host galaxies differ from those used to characterise the progenitors and are typically based on single star populations. Here we introduce a framework to perform an end-to-end analysis and deploy it to the first binary neutron star merger - GW170817. With the Binary Population And Spectral Synthesis (BPASS) codes we are able to retrieve the physical properties of the host galaxy NGC 4993 as well as infer progenitor candidates. In our simulations there is a >98% chance that GW170817 originated from a stellar population with Z=0.010 born between 5 and 12.5 Gyrs ago. By carefully weighing the stellar genealogies we find that GW170817 most likely came from a binary system born with a 13-24 Msol primary and 10-12 Msol secondary which underwent two or three common envelope events over their lifetime. |\n",
       "|<p style=\"color:green\"> **ERROR** </p>| <p style=\"color:green\">affiliation error: mpia.affiliation_verifications: 'Heidelberg' keyword not found.</p> |"
      ],
      "text/plain": [
       "<IPython.core.display.Markdown object>"
      ]
     },
     "metadata": {},
     "output_type": "display_data"
    },
    {
     "data": {
      "text/markdown": [
       "\n",
       "|||\n",
       "|---:|:---|\n",
       "| [![arXiv](https://img.shields.io/badge/arXiv-arXiv:2301.05244-b31b1b.svg)](https://arxiv.org/abs/arXiv:2301.05244) | **Strong gravitational lensing's `external shear' is not shear**  |\n",
       "|| Amy Etherington, et al. -- incl., <mark>Qiuhan He</mark>, <mark>Ran Li</mark>, <mark>Marceau Limousin</mark>, <mark>Guillaume Mahler</mark> |\n",
       "|*Appeared on*| *2023-01-16*|\n",
       "|*Comments*| *13 pages, 11 figures, submitted to MNRAS*|\n",
       "|**Abstract**| The distribution of mass in galaxy-scale strong gravitational lenses is often modelled as an elliptical power law plus `external shear', which notionally accounts for neighbouring galaxies and cosmic shear. We show that it does not. Except in a handful of rare systems, the best-fit values of external shear do not correlate with independent measurements of shear: from weak lensing in 45 Hubble Space Telescope images, or in 50 mock images of lenses with complex distributions of mass. Instead, the best-fit shear is aligned with the major or minor axis of 88% of lens galaxies; and the amplitude of the external shear increases if that galaxy is disky. We conclude that `external shear' attached to a power law model is not physically meaningful, but a fudge to compensate for lack of model complexity. Since it biases other model parameters that are interpreted as physically meaningful in several science analyses (e.g. measuring galaxy evolution, dark matter physics or cosmological parameters), we recommend that future studies of galaxy-scale strong lensing should employ more flexible mass models. |\n",
       "|<p style=\"color:green\"> **ERROR** </p>| <p style=\"color:green\">affiliation error: mpia.affiliation_verifications: 'Heidelberg' keyword not found.</p> |"
      ],
      "text/plain": [
       "<IPython.core.display.Markdown object>"
      ]
     },
     "metadata": {},
     "output_type": "display_data"
    },
    {
     "data": {
      "text/markdown": [
       "\n",
       "|||\n",
       "|---:|:---|\n",
       "| [![arXiv](https://img.shields.io/badge/arXiv-arXiv:2301.05251-b31b1b.svg)](https://arxiv.org/abs/arXiv:2301.05251) | **CO Excitation in High-z Main Sequence Analogues: Resolved  CO(4-3)/CO(3-2) Line Ratios in DYNAMO Galaxies**  |\n",
       "|| Laura Lenkić, et al. -- incl., <mark>Rodrigo Herrera-Camus</mark> |\n",
       "|*Appeared on*| *2023-01-16*|\n",
       "|*Comments*| *22 pages, 9 figures, 4 tables, ApJ accepted*|\n",
       "|**Abstract**| The spectral line energy distribution of carbon monoxide contains information about the physical conditions of the star forming molecular hydrogen gas; however, the relation to local radiation field properties is poorly constrained. Using ~ 1-2 kpc scale ALMA observations of CO(3-2) and CO(4-3), we characterize the CO(4-3)/CO(3-2) line ratios of local analogues of main sequence galaxies at z ~ 1-2, drawn from the DYNAMO sample. We measure CO(4-3)/CO(3-2) across the disk of each galaxy and find a median line ratio of $R_{43} = 0.54^{+0.16}_{-0.15}$ for the sample. This is higher than literature estimates of local star-forming galaxies and is consistent with multiple lines of evidence that indicate DYNAMO galaxies, despite residing in the local Universe, resemble main-sequence galaxies at z ~ 1-2. Comparing to existing lower resolution CO(1-0) observations, we find $R_{41}$ and $R_{31}$ values in the range $\\sim 0.2-0.3$ and $\\sim 0.4-0.8$ respectively. We combine our kpc-scale resolved line ratio measurements with HST observations of H$\\alpha$ to investigate the relation to star formation rate surface density and compare this relation to expectations from models. We find increasing CO(4-3)/CO(3-2) with increasing star formation rate surface density; however, models over-predict the line ratios across the range of star formation rate surface densities we probe, particularly at the lower range. Finally, SOFIA observations with HAWC+ and FIFI-LS reveal low dust temperatures and no deficit of [CII] emission with respect to the total infrared luminosity. |\n",
       "|<p style=\"color:green\"> **ERROR** </p>| <p style=\"color:green\">affiliation error: mpia.affiliation_verifications: 'Heidelberg' keyword not found.</p> |"
      ],
      "text/plain": [
       "<IPython.core.display.Markdown object>"
      ]
     },
     "metadata": {},
     "output_type": "display_data"
    },
    {
     "data": {
      "text/markdown": [
       "\n",
       "|||\n",
       "|---:|:---|\n",
       "| [![arXiv](https://img.shields.io/badge/arXiv-arXiv:2301.05269-b31b1b.svg)](https://arxiv.org/abs/arXiv:2301.05269) | **Globular Clusters in NGC 4839 Falling into Coma: Evidence for the Second  Infall?**  |\n",
       "|| Seong-A Oh, <mark>Myung Gyoon Lee</mark>, In Sung Jang |\n",
       "|*Appeared on*| *2023-01-16*|\n",
       "|*Comments*| *18 pages, 6 figures, 2 tables, accepted for publication in ApJ*|\n",
       "|**Abstract**| NGC 4839 is the brightest galaxy (cD) of the NGC 4839 group at $R\\approx 1$ Mpc in the south-west of the Coma cluster, which is known to be falling into Coma. However, it has been controversial whether it is in the first phase of infall or in the second phase of infall after passing the Coma center. We present a wide field study of globular clusters (GCs) in NGC 4839 and its environment based on Hyper Suprime-Cam $gr$ images in the Subaru archive. We compare the GC system of NGC 4839 with that of NGC 4816, which is the brightest member (S0) of the nearby group and lies at a similar distance in the west from the Coma center. Interestingly the spatial distribution of the GCs in NGC 4839 is significantly more compact than that of the GCs in NGC 4816. In addition, the radial number density profile of the GCs in NGC 4839 shows an abrupt drop at $R_{N4839}\\approx 80$ kpc, while that of the GCs in NGC 4816 shows a continuous slow decline even in the outer region at $80<R_{N4816}<500$ kpc. The effective radius of the NGC 4839 GC system is about three times smaller than that of the NGC 4816 GC system. This striking difference can be explained if NGC 4839 lost a significant fraction of the GCs in its outskirt when it passed through Coma. This supports strongly the second infall scenario where the NGC 4839 passed the Coma center about 1.6 Gyr ago, and began the second infall after reaching the apocenter in the south-west recently. |\n",
       "|<p style=\"color:green\"> **ERROR** </p>| <p style=\"color:green\">affiliation error: mpia.affiliation_verifications: 'Heidelberg' keyword not found.</p> |"
      ],
      "text/plain": [
       "<IPython.core.display.Markdown object>"
      ]
     },
     "metadata": {},
     "output_type": "display_data"
    },
    {
     "data": {
      "text/markdown": [
       "\n",
       "|||\n",
       "|---:|:---|\n",
       "| [![arXiv](https://img.shields.io/badge/arXiv-arXiv:2301.05320-b31b1b.svg)](https://arxiv.org/abs/arXiv:2301.05320) | **Modeling Strong Lenses from Wide-Field Ground-Based Observations in KiDS  and GAMA**  |\n",
       "|| Shawn Knabel, et al. -- incl., <mark>S. Hegde</mark>, <mark>J. Liske</mark> |\n",
       "|*Appeared on*| *2023-01-16*|\n",
       "|*Comments*| *25 pages, 19 figures, accepted for publication in MNRAS following peer review*|\n",
       "|**Abstract**| Despite the success of galaxy-scale strong gravitational lens studies with Hubble-quality imaging, the number of well-studied strong lenses remains small. As a result, robust comparisons of the lens models to theoretical predictions are difficult. This motivates our application of automated Bayesian lens modeling methods to observations from public data releases of overlapping large ground-based imaging and spectroscopic surveys: Kilo-Degree Survey (KiDS) and Galaxy and Mass Assembly (GAMA), respectively. We use the open-source lens modeling software PyAutoLens to perform our analysis. We demonstrate the feasibility of strong lens modeling with large-survey data at lower resolution as a complementary avenue to studies that utilize more time-consuming and expensive observations of individual lenses at higher resolution. We discuss advantages and challenges, with special consideration given to determining background source redshifts from single-aperture spectra and to disentangling foreground lens and background source light. High uncertainties in the best-fit parameters for the models due to the limits of optical resolution in ground-based observatories and the small sample size can be improved with future study. We give broadly applicable recommendations for future efforts, and with proper application this approach could yield measurements in the quantities needed for robust statistical inference. |\n",
       "|<p style=\"color:green\"> **ERROR** </p>| <p style=\"color:green\">affiliation error: mpia.affiliation_verifications: 'Heidelberg' keyword not found.</p> |"
      ],
      "text/plain": [
       "<IPython.core.display.Markdown object>"
      ]
     },
     "metadata": {},
     "output_type": "display_data"
    },
    {
     "data": {
      "text/markdown": [
       "\n",
       "|||\n",
       "|---:|:---|\n",
       "| [![arXiv](https://img.shields.io/badge/arXiv-arXiv:2301.05382-b31b1b.svg)](https://arxiv.org/abs/arXiv:2301.05382) | **Excitation of Multi-periodic Kink Motions in Solar Flare Loops: Possible  Application to Quasi-periodic Pulsations**  |\n",
       "|| Mijie Shi, et al. -- incl., <mark>Bo Li</mark>, <mark>Mingzhe Guo</mark> |\n",
       "|*Appeared on*| *2023-01-16*|\n",
       "|*Comments*| *Accepted for publication in ApJL*|\n",
       "|**Abstract**| Magnetohydrodynamic (MHD) waves are often invoked to interpret quasi-periodic pulsations (QPPs) in solar flares. We study the response of a straight flare loop to a kink-like velocity perturbation using three-dimensional MHD simulations and forward model the microwave emissions using the fast gyrosynchrotron code. Kink motions with two periodicities are simultaneously generated,with the long-period component P_L = 57s being attributed to the radial fundamental kink mode and the short-period component P_S=5.8s to the first leaky kink mode. Forward modeling results show that the two-periodic oscillations are detectable in the microwave intensities for some lines of sight. Increasing the beam size to (1\")^2 does not wipe out the microwave oscillations. We propose that the first leaky kink mode is a promising candidate mechanism to account for short-period QPPs. Radio telescopes with high spatial resolutions can help distinguish between this new mechanism with such customary interpretations as sausage modes. |\n",
       "|<p style=\"color:green\"> **ERROR** </p>| <p style=\"color:green\">affiliation error: mpia.affiliation_verifications: 'Heidelberg' keyword not found.</p> |"
      ],
      "text/plain": [
       "<IPython.core.display.Markdown object>"
      ]
     },
     "metadata": {},
     "output_type": "display_data"
    },
    {
     "data": {
      "text/markdown": [
       "\n",
       "|||\n",
       "|---:|:---|\n",
       "| [![arXiv](https://img.shields.io/badge/arXiv-arXiv:2301.05398-b31b1b.svg)](https://arxiv.org/abs/arXiv:2301.05398) | **Multiwavelength Analysis of a Nearby Heavily Obscured AGN in NGC 449**  |\n",
       "|| <mark>Xiaotong Guo</mark>, et al. |\n",
       "|*Appeared on*| *2023-01-16*|\n",
       "|*Comments*| *12 pages, 5 figures, 3 tables, Accepted to PASP*|\n",
       "|**Abstract**| We presented the multiwavelength analysis of a heavily obscured active galactic nucleus (AGN) in NGC 449. We first constructed a broadband X-ray spectrum using the latest NuSTAR and XMM-Newton data. Its column density ($\\simeq 10^{24} \\rm{cm}^{-2}$) and photon index ($\\Gamma\\simeq 2.4$) were reliably obtained by analyzing the broadband X-ray spectrum. However, the scattering fraction and the intrinsic X-ray luminosity could not be well constrained. Combined with the information obtained from the mid-infrared (mid-IR) spectrum and spectral energy distribution (SED) fitting, we derived its intrinsic X-ray luminosity ($\\simeq 8.54\\times 10^{42} \\ \\rm{erg\\ s}^{-1}$) and scattering fraction ($f_{\\rm{scat}}\\simeq 0.26\\%$). In addition, we also derived the following results: (1). The mass accretion rate of central AGN is about $2.54 \\times 10^{-2} \\rm{M}_\\odot\\ \\rm{yr}^{-1}$, and the Eddington ratio is $8.39\\times 10^{-2}$; (2). The torus of this AGN has a high gas-to-dust ratio ($N_{\\rm H}/A_{\\rm V}=8.40\\times 10^{22}\\ \\rm{cm}^{-2}\\ \\rm{mag}^{-1}$); (3). The host galaxy and the central AGN are both in the early stage of co-evolution. |\n",
       "|<p style=\"color:green\"> **ERROR** </p>| <p style=\"color:green\">affiliation error: mpia.affiliation_verifications: 'Heidelberg' keyword not found.</p> |"
      ],
      "text/plain": [
       "<IPython.core.display.Markdown object>"
      ]
     },
     "metadata": {},
     "output_type": "display_data"
    },
    {
     "data": {
      "text/markdown": [
       "\n",
       "|||\n",
       "|---:|:---|\n",
       "| [![arXiv](https://img.shields.io/badge/arXiv-arXiv:2301.05401-b31b1b.svg)](https://arxiv.org/abs/arXiv:2301.05401) | **Long-duration Gamma-ray Burst Progenitors and Magnetar Formation**  |\n",
       "|| Cui-Ying Song, <mark>Tong Liu</mark> |\n",
       "|*Appeared on*| *2023-01-16*|\n",
       "|*Comments*| *27 pages, 11 figures in main text, 1 table in appendix*|\n",
       "|**Abstract**| Millisecond magnetars produced in the center of dying massive stars are one prominent model to power gamma-ray bursts (GRBs). Their detailed nature, however, remains unsolved. To explore the effects of the initial mass, rotation, mass loss, and metallicity of the progenitor stars of $10-30~M_\\odot$ on the formation and properties of the protomagnetars, we evolve over 150 single star models from the pre-main-sequence to core collapse by using the stellar evolution code MESA. We find that all of the fast-rotating stars become Wolf-Rayet stars. The final stellar, helium and carbon-oxygen core masses roughly increase with increasing initial mass, and decrease moderately with increasing initial rotation rate. We illustrate the effects of these intrinsic signatures on the hydrogen and helium envelopes and the metallicity. We then discuss the progenitors of the different types of supernovae. Furthermore, we find that the compactness parameter remains a nonmonotonic function of the initial mass and initial velocity when the effects of different metallicity and wind mass loss are considered. More importantly, we present the estimated period, magnetic field strength, and masses of protomagnetars in all cases. The typical rotational energy of these millisecond magnetars is sufficient to power long-duration GRBs. |\n",
       "|<p style=\"color:green\"> **ERROR** </p>| <p style=\"color:green\">affiliation error: mpia.affiliation_verifications: 'Heidelberg' keyword not found.</p> |"
      ],
      "text/plain": [
       "<IPython.core.display.Markdown object>"
      ]
     },
     "metadata": {},
     "output_type": "display_data"
    },
    {
     "data": {
      "text/markdown": [
       "\n",
       "|||\n",
       "|---:|:---|\n",
       "| [![arXiv](https://img.shields.io/badge/arXiv-arXiv:2301.05408-b31b1b.svg)](https://arxiv.org/abs/arXiv:2301.05408) | **Quantitative determination of minimum spanning tree structures: Using  the pulsar tree for analyzing the appearance of new classes of pulsars**  |\n",
       "|| C.R. García, <mark>Diego F. Torres</mark> |\n",
       "|*Appeared on*| *2023-01-16*|\n",
       "|*Comments*| *An updated app of the web application we develop for visualizing the pulsar tree can be found at this http URL*|\n",
       "|**Abstract**| In this work, we introduce a quantitative methodology to define what is the main trunk and what are the significant branches of a minimum spanning tree (MST). We apply it to the pulsar tree, i.e. the MST of the pulsar population constructed upon a Euclidean distance over the pulsar's intrinsic properties. Our method makes use of the betweenness centrality estimator, as well as of non-parametric tests to establish the distinct character of the defined branches. Armed with these concepts, we study how the pulsar population has evolved throughout history, and analyze how to judge whether a new class of pulsars appears in new data, future surveys, or new incarnations of pulsar catalogs. |\n",
       "|<p style=\"color:green\"> **ERROR** </p>| <p style=\"color:green\">affiliation error: mpia.affiliation_verifications: 'Heidelberg' keyword not found.</p> |"
      ],
      "text/plain": [
       "<IPython.core.display.Markdown object>"
      ]
     },
     "metadata": {},
     "output_type": "display_data"
    },
    {
     "data": {
      "text/markdown": [
       "\n",
       "|||\n",
       "|---:|:---|\n",
       "| [![arXiv](https://img.shields.io/badge/arXiv-arXiv:2301.05410-b31b1b.svg)](https://arxiv.org/abs/arXiv:2301.05410) | **Multiple Populations in Low-mass Globular Clusters: Eridanus**  |\n",
       "|| Yue Wang, et al. -- incl., <mark>Chengyuan Li</mark> |\n",
       "|*Appeared on*| *2023-01-16*|\n",
       "|*Comments*| *24 pages, 8 figures, accepted by ApJ*|\n",
       "|**Abstract**| Multiple populations (MPs), characterized by variations in light elemental abundances, have been found in stellar clusters in the Milky Way, Magellanic Clouds, as well as several other dwarf galaxies. Based on a large amount of observations, mass has been suggested to be a key parameter affecting the presence and appearance of MPs in stellar clusters. To further investigate the existence of MPs in low-mass clusters and explore the mass threshold for MP formation, we carried out a project studying the stellar population composition in several low-mass Galactic globular clusters. Here we present our study on the cluster Eridanus. With blue-UV low-resolution spectra obtained with the OSIRIS/Multi-object spectrograph on the Gran Telescopio Canarias, we computed the spectral indices of CH and CN for the sample giant stars, and derived their carbon and nitrogen abundances using model spectra. A significant dispersion in the initial surface abundance of nitrogen was found in the sample, indicating the existence of MPs in Eridanus. Inspecting the age-initial mass distribution of in-situ clusters with MPs, we find a slight trend that initial mass increases with increasing age, and the lowest initial mass of log Minitial ~4.98 and 5.26 are found at the young and old end, respectively, which might provide a rough reference for the mass threshold for clusters to form MPs. However, more observations of clusters with low initial masses are still necessary before any firm conclusion can be drawn. |\n",
       "|<p style=\"color:green\"> **ERROR** </p>| <p style=\"color:green\">affiliation error: mpia.affiliation_verifications: 'Heidelberg' keyword not found.</p> |"
      ],
      "text/plain": [
       "<IPython.core.display.Markdown object>"
      ]
     },
     "metadata": {},
     "output_type": "display_data"
    },
    {
     "data": {
      "text/markdown": [
       "\n",
       "|||\n",
       "|---:|:---|\n",
       "| [![arXiv](https://img.shields.io/badge/arXiv-arXiv:2301.05484-b31b1b.svg)](https://arxiv.org/abs/arXiv:2301.05484) | **eRASSt J074426.3+291606: prompt accretion disc formation in a 'faint and  slow' tidal disruption event**  |\n",
       "|| A. Malyali, et al. -- incl., <mark>Z. Liu</mark> |\n",
       "|*Appeared on*| *2023-01-16*|\n",
       "|*Comments*| *17 pages, 14 figures. MNRAS accepted*|\n",
       "|**Abstract**| We report on multi-wavelength observations of the tidal disruption event (TDE) candidate eRASSt J074426.3+291606 (J0744), located in the nucleus of a previously quiescent galaxy at $z=0.0396$. J0744 was first detected as a new, ultra-soft X-ray source (photon index $\\sim 4$) during the second SRG/eROSITA All-Sky Survey (eRASS2), where it had brightened in the 0.3--2~keV band by a factor of more than $\\sim$160 relative to an archival 3$\\sigma$ upper limit inferred from a serendipitous Chandra pointing in 2011. The transient was also independently found in the optical by the Zwicky Transient Factory (ZTF), with the eRASS2 detection occurring only $\\sim$20 days after the peak optical brightness, suggesting that the accretion disc formed promptly in this TDE. Continued X-ray monitoring over the following $\\sim$400 days by eROSITA, NICER XTI and Swift XRT showed a net decline by a factor of $\\sim$100, albeit with large amplitude X-ray variability where the system fades, and then rebrightens, in the 0.3--2~keV band by a factor $\\sim$50 during an 80 day period. Contemporaneous Swift UVOT observations during this extreme X-ray variability reveal a relatively smooth decline, which persists over $\\sim$400 days post-optical peak. The peak observed optical luminosity (absolute $g$-band magnitude $\\sim -16.8$ mag) from this transient makes J0744 the faintest optically-detected TDE observed to date. However, contrasting the known set of `faint and fast' TDEs, the optical emission from J0744 decays slowly (exponential decay timescale $\\sim$120~days), making J0744 the first member of a potential new class of `faint and slow' TDEs. |\n",
       "|<p style=\"color:green\"> **ERROR** </p>| <p style=\"color:green\">affiliation error: mpia.affiliation_verifications: 'Heidelberg' keyword not found.</p> |"
      ],
      "text/plain": [
       "<IPython.core.display.Markdown object>"
      ]
     },
     "metadata": {},
     "output_type": "display_data"
    },
    {
     "data": {
      "text/markdown": [
       "\n",
       "|||\n",
       "|---:|:---|\n",
       "| [![arXiv](https://img.shields.io/badge/arXiv-arXiv:2301.05501-b31b1b.svg)](https://arxiv.org/abs/arXiv:2301.05501) | **The rebrightening of a ROSAT-selected tidal disruption event: repeated  weak partial disruption flares from a quiescent galaxy?**  |\n",
       "|| A. Malyali, et al. -- incl., <mark>Z. Liu</mark> |\n",
       "|*Appeared on*| *2023-01-16*|\n",
       "|*Comments*| *12 pages, 11 figures. MNRAS accepted*|\n",
       "|**Abstract**| The ROSAT-selected tidal disruption event (TDE) candidate RX J133157.6-324319.7 (J1331), was detected in 1993 as a bright (0.2-2 keV flux of $(1.0 \\pm 0.1) \\times 10^{-12}$ erg s$^{-1}$ cm$^{-2}$), ultra-soft ($kT=0.11 \\pm 0.03$ keV) X-ray flare from a quiescent galaxy ($z=0.05189$). During its fifth All-Sky survey (eRASS5) in 2022, SRG/eROSITA detected the repeated flaring of J1331, where it had rebrightened to an observed 0.2-2 keV flux of $(6.0 \\pm 0.7) \\times 10^{-13}$ erg s$^{-1}$ cm$^{-2}$, with spectral properties ($kT=0.115 \\pm 0.007$ keV) consistent with the ROSAT-observed flare $\\sim$30 years earlier. In this work, we report on X-ray, UV, optical, and radio observations of this system. During a pointed XMM observation $\\sim$17 days after the eRASS5 detection, J1331 was not detected in the 0.2-2 keV band, constraining the 0.2-2 keV flux to have decayed by a factor of $\\gtrsim$40 over this period. Given the extremely low probability ($\\sim5\\times 10^{-6}$) of observing two independent full TDEs from the same galaxy over a 30 year period, we consider the variability seen in J1331 to be likely caused by two partial TDEs involving a star on an elliptical orbit around a black hole. J1331-like flares show faster rise and decay timescales ($\\mathcal{O}(\\mathrm{days})$) compared to standard TDE candidates, with neglible ongoing accretion at late times post-disruption between outbursts. |\n",
       "|<p style=\"color:green\"> **ERROR** </p>| <p style=\"color:green\">affiliation error: mpia.affiliation_verifications: 'Heidelberg' keyword not found.</p> |"
      ],
      "text/plain": [
       "<IPython.core.display.Markdown object>"
      ]
     },
     "metadata": {},
     "output_type": "display_data"
    },
    {
     "data": {
      "text/markdown": [
       "\n",
       "|||\n",
       "|---:|:---|\n",
       "| [![arXiv](https://img.shields.io/badge/arXiv-arXiv:2301.05505-b31b1b.svg)](https://arxiv.org/abs/arXiv:2301.05505) | **Leaky Dust Traps: How Fragmentation impacts Dust Filtering by Planets**  |\n",
       "|| Sebastian Markus Stammler, <mark>Tim Lichtenberg</mark>, Joanna Drążkowska, Tilman Birnstiel |\n",
       "|*Appeared on*| *2023-01-16*|\n",
       "|*Comments*| *Accepted for publication in Astronomy & Astrophysics Letters*|\n",
       "|**Abstract**| The nucleosynthetic isotope dichotomy between carbonaceous and non-carbonaceous meteorites has been interpreted as evidence for spatial separation and coexistence of two distinct planet-forming reservoirs for several million years in the solar protoplanetary disk. Rapid formation of Jupiter's core within one million years after CAIs has been suggested as a potential mechanism for spatial and temporal separation. In this scenario, Jupiter's core would open a gap in the disk and trap inwards-drifting dust grains in the pressure bump at the outer edge of the gap, separating the inner and outer disk materials from each other. We performed simulations of dust particles in a protoplanetary disk with a gap opened by an early formed Jupiter core, including dust growth and fragmentation as well as dust transport using the dust evolution software DustPy. Our numerical experiments indicate that particles trapped in the outer edge of the gap rapidly fragment and are transported through the gap, contaminating the inner disk with outer disk materials on a timescale that is inconsistent with the meteoritic record. This suggests that other processes must have initiated or at least contributed to the isotopic separation between the inner and outer Solar System. |\n",
       "|<p style=\"color:green\"> **ERROR** </p>| <p style=\"color:green\">affiliation error: mpia.affiliation_verifications: 'Heidelberg' keyword not found.</p> |"
      ],
      "text/plain": [
       "<IPython.core.display.Markdown object>"
      ]
     },
     "metadata": {},
     "output_type": "display_data"
    },
    {
     "data": {
      "text/markdown": [
       "\n",
       "|||\n",
       "|---:|:---|\n",
       "| [![arXiv](https://img.shields.io/badge/arXiv-arXiv:2301.05509-b31b1b.svg)](https://arxiv.org/abs/arXiv:2301.05509) | **New upper limits on low-frequency radio emission from isolated neutron  stars with LOFAR**  |\n",
       "|| Inés Pastor-Marazuela, Samayra M. Straal, <mark>Joeri van Leeuwen</mark>, Vlad I. Kondratiev |\n",
       "|*Appeared on*| *2023-01-16*|\n",
       "|*Comments*| *7 pages, 2 figures, 1 table. Accepted for publication in Astronomy & Astrophysics*|\n",
       "|**Abstract**| Neutron stars that show X-ray and $\\gamma$-ray pulsed emission must, somewhere in the magnetosphere, generate electron-positron pairs. Such pairs are also required for radio emission, but then why do a number of these sources appear radio quiet? Here, we carried out a deep radio search towards four such neutron stars that are isolated X-ray/$\\gamma$-ray pulsars but for which no radio pulsations have been detected yet. These sources are 1RXS J141256.0+792204 (Calvera), PSR J1958+2846, PSR J1932+1916 and SGR J1907+0919. Searching at lower radio frequencies, where the radio beam is thought to be wider, increases the chances of detecting these sources, compared to the earlier higher-frequency searches. We thus carried a search for periodic and single-pulse radio emission with the LOFAR radio telescope at 150 MHz. We used the known periods, and searched a wide range of dispersion measures, as the distances are not well constrained. We did not detect pulsed emission from any of the four sources. However, we put very constraining upper limits on the radio flux density at 150 MHz, of $\\lesssim$1.4 mJy. |\n",
       "|<p style=\"color:green\"> **ERROR** </p>| <p style=\"color:green\">affiliation error: mpia.affiliation_verifications: 'Heidelberg' keyword not found.</p> |"
      ],
      "text/plain": [
       "<IPython.core.display.Markdown object>"
      ]
     },
     "metadata": {},
     "output_type": "display_data"
    },
    {
     "data": {
      "text/markdown": [
       "\n",
       "|||\n",
       "|---:|:---|\n",
       "| [![arXiv](https://img.shields.io/badge/arXiv-arXiv:2301.05520-b31b1b.svg)](https://arxiv.org/abs/arXiv:2301.05520) | **Toward accurate measurement of property-dependent galaxy clustering: II.  Tests of the smoothed density-corrected $V_{\\rm max}$ method**  |\n",
       "|| Lei Yang, <mark>Zhigang Li</mark> |\n",
       "|*Appeared on*| *2023-01-16*|\n",
       "|*Comments*| *19 pages, 12 figures. Accepted for publication in ApJ*|\n",
       "|**Abstract**| We present a smoothed density-corrected $V_{\\rm max}$ technique for building a random catalog for property-dependent galaxy clustering estimation. This approach is essentially based on the density-corrected $V_{\\rm max}$ method of Cole(2011), with three improvements to the original method. To validate the improved method, we generate two sets of flux-limited samples from two independent mock catalogs with different $k+e$ corrections. By comparing the two-point correlation functions, our results demonstrate that the random catalog created by the smoothed density-corrected $V_{\\rm max}$ approach provides a more accurate and precise measurement for both sets of mock samples than the commonly used $V_{\\rm max}$ method and redshift shuffled method. For flux-limited samples and color-dependent subsamples, the accuracy of the projected correlation function is well constrained within $1\\%$ on the scale $0.07 h^{-1}\\rm Mpc$ to $30 h^{-1}\\rm Mpc$. The accuracy of the redshift-space correlation function is less than $2\\%$ as well. Currently, it is the only approach that holds promise for achieving the high-accuracy goal of clustering measures for next-generation surveys. |\n",
       "|<p style=\"color:green\"> **ERROR** </p>| <p style=\"color:green\">affiliation error: mpia.affiliation_verifications: 'Heidelberg' keyword not found.</p> |"
      ],
      "text/plain": [
       "<IPython.core.display.Markdown object>"
      ]
     },
     "metadata": {},
     "output_type": "display_data"
    },
    {
     "data": {
      "text/markdown": [
       "\n",
       "|||\n",
       "|---:|:---|\n",
       "| [![arXiv](https://img.shields.io/badge/arXiv-arXiv:2301.05616-b31b1b.svg)](https://arxiv.org/abs/arXiv:2301.05616) | **First Perihelion of EUI on the Solar Orbiter mission**  |\n",
       "|| D. Berghmans, et al. -- incl., <mark>P. J. Smith</mark>, <mark>K. Heerlein</mark> |\n",
       "|*Appeared on*| *2023-01-16*|\n",
       "|*Comments*| **|\n",
       "|**Abstract**| Context. The Extreme Ultraviolet Imager (EUI), onboard Solar Orbiter consists of three telescopes: the two High Resolution Imagers in EUV (HRIEUV) and in Lyman-{\\alpha} (HRILya), and the Full Sun Imager (FSI). Solar Orbiter/EUI started its Nominal Mission Phase on 2021 November 27. Aims. EUI images from the largest scales in the extended corona off limb, down to the smallest features at the base of the corona and chromosphere. EUI is therefore a key instrument for the connection science that is at the heart of the Solar Orbiter mission science goals. Methods. The highest resolution on the Sun is achieved when Solar Orbiter passes through the perihelion part of its orbit. On 2022 March 26, Solar Orbiter reached for the first time a distance to the Sun close to 0.3 au. No other coronal EUV imager has been this close to the Sun. Results. We review the EUI data sets obtained during the period 2022 March-April, when Solar Orbiter quickly moved from alignment with the Earth (2022 March 6), to perihelion (2022 March 26), to quadrature with the Earth (2022 March 29). We highlight the first observational results in these unique data sets and we report on the in-flight instrument performance. Conclusions. EUI has obtained the highest resolution images ever of the solar corona in the quiet Sun and polar coronal holes. Several active regions were imaged at unprecedented cadences and sequence durations. We identify in this paper a broad range of features that require deeper studies. Both FSI and HRIEUV operate at design specifications but HRILya suffered from performance issues near perihelion. We conclude emphasising the EUI open data policy and encouraging further detailed analysis of the events highlighted in this paper. |\n",
       "|<p style=\"color:green\"> **ERROR** </p>| <p style=\"color:green\">affiliation error: mpia.affiliation_verifications: 'Heidelberg' keyword not found.</p> |"
      ],
      "text/plain": [
       "<IPython.core.display.Markdown object>"
      ]
     },
     "metadata": {},
     "output_type": "display_data"
    },
    {
     "data": {
      "text/markdown": [
       "\n",
       "|||\n",
       "|---:|:---|\n",
       "| [![arXiv](https://img.shields.io/badge/arXiv-arXiv:2301.05699-b31b1b.svg)](https://arxiv.org/abs/arXiv:2301.05699) | **Multi-Wavelength and Multi-Messenger Studies with the next-generation  Event Horizon Telescope**  |\n",
       "|| <mark>Rocco Lico</mark>, et al. -- incl., <mark>Ioannis Liodakis</mark> |\n",
       "|*Appeared on*| *2023-01-16*|\n",
       "|*Comments*| *10 pages, 3 figures*|\n",
       "|**Abstract**| The next-generation Event Horizon Telescope (ngEHT) will provide us with the best opportunity to investigate supermassive black holes (SMBHs) at the highest possible resolution and sensitivity. With respect to the existing Event Horizon Telescope (EHT) array, the ngEHT will provide increased sensitivity and uv-coverage with the addition of new stations, wider frequency coverage (from 86 GHz to 345 GHz and higher), finer resolution (<15 micro-arcseconds), and better monitoring capabilities. This will offer a unique opportunity to deeply investigate the physics around SMBHs, such as the disk-jet connection, the mechanisms responsible for high-energy photon and neutrino events, the role of magnetic fields in shaping relativistic jets, as well as the nature of binary SMBH systems. In this white paper we describe some ngEHT science cases in the context of multi-wavelength studies and synergies. |\n",
       "|<p style=\"color:green\"> **ERROR** </p>| <p style=\"color:green\">affiliation error: mpia.affiliation_verifications: 'Heidelberg' keyword not found.</p> |"
      ],
      "text/plain": [
       "<IPython.core.display.Markdown object>"
      ]
     },
     "metadata": {},
     "output_type": "display_data"
    },
    {
     "data": {
      "text/markdown": [
       "\n",
       "|||\n",
       "|---:|:---|\n",
       "| [![arXiv](https://img.shields.io/badge/arXiv-arXiv:2301.05532-b31b1b.svg)](https://arxiv.org/abs/arXiv:2301.05532) | **The Fornax3D project: Environmental effects on the assembly of  dynamically cold disks in Fornax cluster galaxies**  |\n",
       "|| Y. Ding, et al. -- incl., <mark>F. Pinna</mark> |\n",
       "|*Appeared on*| *2023-01-16*|\n",
       "|*Comments*| *31 pages, 32 figures, Accepted to A&A*|\n",
       "|**Abstract**| We apply a population-orbit superposition method to 16 galaxies in the Fornax cluster observed with MUSE/VLT in the context of the Fornax3D project. By fitting the luminosity distribution, stellar kinematics, and age and metallicity maps simultaneously, we obtained the internal stellar orbit distribution, as well as the age and metallicity distribution of stars on different orbits for each galaxy. Based on the model, we decompose each galaxy into a dynamically cold disk (orbital circularity $\\lambda_z\\ge0.8$) and a dynamically hot non-disk component (orbital circularity $\\lambda_z<0.8$), and obtain the surface-brightness, age, and metallicity radial profiles of each component. The galaxy infall time into the cluster is strongly correlated with galaxy cold-disk age with older cold disks in ancient infallers. We quantify the infall time $t_{\\rm infall}$ of each galaxy with its cold-disk age using a correlation calibrated with TNG50 cosmological simulations. For galaxies in the Fornax cluster, we found that the luminosity fraction of cold disk in galaxies with $t_{\\rm infall}>8$ Gyr are a factor of $\\sim 4$ lower than in more recent infallers while controlling for total stellar mass. Nine of the 16 galaxies have spatially extended cold disks, and most of them show positive or zero age gradients; stars in the inner disk are $\\sim 2-5$ Gyr younger than that in the outer disk, in contrast to the expectation of inside-out growth. Our results indicate that the assembly of cold disks in galaxies is strongly affected by their infall into clusters, by either removal of gas in outer regions or even tidally stripping or heating part of the pre-existing disks. Star formation in outer disks can stop quickly after the galaxy falls into the cluster, while star formation in the inner disks can last for a few Gyrs more, building the positive age gradient measured in cold disks. |\n",
       "|<p style=\"color:red\"> **ERROR** </p>| <p style=\"color:red\">latex error Could not find figure .png</p> |"
      ],
      "text/plain": [
       "<IPython.core.display.Markdown object>"
      ]
     },
     "metadata": {},
     "output_type": "display_data"
    }
   ],
   "source": [
    "import datetime\n",
    "today = str(datetime.date.today())\n",
    "logfile = f\"_build/html/logs/log-{today}.md\"\n",
    "\n",
    "\n",
    "with open(logfile, 'w') as logs:\n",
    "    # Success\n",
    "    logs.write(f'# Arxiv on Deck 2: Logs - {today}\\n\\n')\n",
    "    logs.write(\"\"\"* Arxiv had {0:,d} new papers\\n\"\"\".format(len(new_papers)))\n",
    "    logs.write(\"\"\"    * {0:,d} with possible author matches\\n\\n\"\"\".format(len(candidates)))\n",
    "    logs.write(\"## Sucessful papers\\n\\n\")\n",
    "    display(Markdown(\"## Successful papers\"))\n",
    "    success = [k[0] for k in documents]\n",
    "    for candid in candidates:\n",
    "        if candid['identifier'].split(':')[-1] in success:\n",
    "            display(candid)\n",
    "            logs.write(candid.generate_markdown_text() + '\\n\\n')\n",
    "\n",
    "    ## failed\n",
    "    logs.write(\"## Failed papers\\n\\n\")\n",
    "    display(Markdown(\"## Failed papers\"))\n",
    "    failed = sorted(failed, key=lambda x: x[1])\n",
    "    current_reason = \"\"\n",
    "    for paper, reason in failed:\n",
    "        if 'affiliation' in reason:\n",
    "            color = 'green'\n",
    "        else:\n",
    "            color = 'red'\n",
    "        data = Markdown(\n",
    "                paper.generate_markdown_text() + \n",
    "                f'\\n|<p style=\"color:{color:s}\"> **ERROR** </p>| <p style=\"color:{color:s}\">{reason:s}</p> |'\n",
    "               )\n",
    "        if reason != current_reason:\n",
    "            logs.write(f'### {reason:s} \\n\\n')\n",
    "            current_reason = reason\n",
    "        logs.write(data.data + '\\n\\n')\n",
    "        \n",
    "        # only display here the important errors (all in logs)\n",
    "        # if color in ('red',):\n",
    "        display(data)"
   ]
  },
  {
   "cell_type": "markdown",
   "id": "472d20ee",
   "metadata": {
    "papermill": {
     "duration": 0.010353,
     "end_time": "2023-01-17T04:09:12.297214",
     "exception": false,
     "start_time": "2023-01-17T04:09:12.286861",
     "status": "completed"
    },
    "tags": []
   },
   "source": [
    "## Export documents\n",
    "\n",
    "We now write the .md files and export relevant images"
   ]
  },
  {
   "cell_type": "code",
   "execution_count": 7,
   "id": "d426aed9",
   "metadata": {
    "execution": {
     "iopub.execute_input": "2023-01-17T04:09:12.321034Z",
     "iopub.status.busy": "2023-01-17T04:09:12.320558Z",
     "iopub.status.idle": "2023-01-17T04:09:12.329694Z",
     "shell.execute_reply": "2023-01-17T04:09:12.328880Z"
    },
    "papermill": {
     "duration": 0.02347,
     "end_time": "2023-01-17T04:09:12.331681",
     "exception": false,
     "start_time": "2023-01-17T04:09:12.308211",
     "status": "completed"
    },
    "tags": []
   },
   "outputs": [],
   "source": [
    "def export_markdown_summary(md: str, md_fname:str, directory: str):\n",
    "    \"\"\"Export MD document and associated relevant images\"\"\"\n",
    "    import os\n",
    "    import shutil\n",
    "    import re\n",
    "\n",
    "    if (os.path.exists(directory) and not os.path.isdir(directory)):\n",
    "        raise RuntimeError(f\"a non-directory file exists with name {directory:s}\")\n",
    "\n",
    "    if (not os.path.exists(directory)):\n",
    "        print(f\"creating directory {directory:s}\")\n",
    "        os.mkdir(directory)\n",
    "\n",
    "    fig_fnames = (re.compile(r'\\[Fig.*\\]\\((.*)\\)').findall(md) + \n",
    "                  re.compile(r'\\<img src=\"([^>\\s]*)\"[^>]*/>').findall(md))\n",
    "    for fname in fig_fnames:\n",
    "        if 'http' in fname:\n",
    "            # No need to copy online figures\n",
    "            continue\n",
    "        destdir = os.path.join(directory, os.path.dirname(fname))\n",
    "        destfname = os.path.join(destdir, os.path.basename(fname))\n",
    "        try:\n",
    "            os.makedirs(destdir)\n",
    "        except FileExistsError:\n",
    "            pass\n",
    "        shutil.copy(fname, destfname)\n",
    "    with open(os.path.join(directory, md_fname), 'w') as fout:\n",
    "        fout.write(md)\n",
    "    print(\"exported in \", os.path.join(directory, md_fname))\n",
    "    [print(\"    + \" + os.path.join(directory,fk)) for fk in fig_fnames]"
   ]
  },
  {
   "cell_type": "code",
   "execution_count": 8,
   "id": "014d04a4",
   "metadata": {
    "execution": {
     "iopub.execute_input": "2023-01-17T04:09:12.354827Z",
     "iopub.status.busy": "2023-01-17T04:09:12.354547Z",
     "iopub.status.idle": "2023-01-17T04:09:12.358477Z",
     "shell.execute_reply": "2023-01-17T04:09:12.357461Z"
    },
    "papermill": {
     "duration": 0.017222,
     "end_time": "2023-01-17T04:09:12.360376",
     "exception": false,
     "start_time": "2023-01-17T04:09:12.343154",
     "status": "completed"
    },
    "tags": []
   },
   "outputs": [],
   "source": [
    "for paper_id, md in documents:\n",
    "    export_markdown_summary(md, f\"{paper_id:s}.md\", '_build/html/')"
   ]
  },
  {
   "cell_type": "markdown",
   "id": "f087a0a7",
   "metadata": {
    "papermill": {
     "duration": 0.010375,
     "end_time": "2023-01-17T04:09:12.381728",
     "exception": false,
     "start_time": "2023-01-17T04:09:12.371353",
     "status": "completed"
    },
    "tags": []
   },
   "source": [
    "## Display the papers\n",
    "\n",
    "Not necessary but allows for a quick check."
   ]
  },
  {
   "cell_type": "code",
   "execution_count": 9,
   "id": "fd25f625",
   "metadata": {
    "execution": {
     "iopub.execute_input": "2023-01-17T04:09:12.404700Z",
     "iopub.status.busy": "2023-01-17T04:09:12.403942Z",
     "iopub.status.idle": "2023-01-17T04:09:12.408310Z",
     "shell.execute_reply": "2023-01-17T04:09:12.407471Z"
    },
    "papermill": {
     "duration": 0.018461,
     "end_time": "2023-01-17T04:09:12.410355",
     "exception": false,
     "start_time": "2023-01-17T04:09:12.391894",
     "status": "completed"
    },
    "scrolled": false,
    "tags": []
   },
   "outputs": [],
   "source": [
    "[display(Markdown(k[1])) for k in documents];"
   ]
  },
  {
   "cell_type": "markdown",
   "id": "873873a4",
   "metadata": {
    "papermill": {
     "duration": 0.012425,
     "end_time": "2023-01-17T04:09:12.433457",
     "exception": false,
     "start_time": "2023-01-17T04:09:12.421032",
     "status": "completed"
    },
    "tags": []
   },
   "source": [
    "# Create HTML index"
   ]
  },
  {
   "cell_type": "code",
   "execution_count": 10,
   "id": "cf665672",
   "metadata": {
    "execution": {
     "iopub.execute_input": "2023-01-17T04:09:12.456050Z",
     "iopub.status.busy": "2023-01-17T04:09:12.455307Z",
     "iopub.status.idle": "2023-01-17T04:09:12.468456Z",
     "shell.execute_reply": "2023-01-17T04:09:12.467506Z"
    },
    "papermill": {
     "duration": 0.026363,
     "end_time": "2023-01-17T04:09:12.470398",
     "exception": false,
     "start_time": "2023-01-17T04:09:12.444035",
     "status": "completed"
    },
    "tags": []
   },
   "outputs": [
    {
     "name": "stdout",
     "output_type": "stream",
     "text": [
      "167  publications in the last 7 days.\n",
      "\t _build/html/2301.05034.md\n",
      "\t _build/html/2301.04656.md\n",
      "\t _build/html/2301.04533.md\n",
      "\t _build/html/2301.04442.md\n",
      "\t _build/html/2301.03811.md\n",
      "\t _build/html/2301.03689.md\n",
      "\t _build/html/2301.03387.md\n",
      "\t _build/html/2301.03209.md\n",
      "\t _build/html/2301.02671.md\n",
      "\t _build/html/2301.02477.md\n",
      "\t _build/html/2301.02313.md\n",
      "\t _build/html/2301.02265.md\n",
      "\t _build/html/2301.01937.md\n",
      "\t _build/html/2301.01895.md\n",
      "\t _build/html/2301.01684.md\n",
      "\t _build/html/2301.01306.md\n",
      "\t _build/html/2301.00881.md\n",
      "\t _build/html/2301.00854.md\n",
      "\t _build/html/2301.00578.md\n",
      "\t _build/html/2212.12039.md\n",
      "\t _build/html/2212.11991.md\n",
      "\t _build/html/2212.11425.md\n",
      "\t _build/html/2212.11177.md\n",
      "\t _build/html/2212.10804.md\n",
      "\t _build/html/2212.10512.md\n",
      "\t _build/html/2212.09766.md\n",
      "\t _build/html/2212.09675.md\n",
      "\t _build/html/2212.09661.md\n",
      "\t _build/html/2212.09652.md\n",
      "\t _build/html/2212.09443.md\n",
      "\t _build/html/2212.09307.md\n",
      "\t _build/html/2212.09168.md\n",
      "\t _build/html/2212.09159.md\n",
      "\t _build/html/2212.08702.md\n",
      "\t _build/html/2212.07332.md\n",
      "\t _build/html/2212.06434.md\n",
      "\t _build/html/2212.04710.md\n",
      "\t _build/html/2212.04026.md\n",
      "\t _build/html/2212.03563.md\n",
      "\t _build/html/2212.03514.md\n",
      "\t _build/html/2212.02667.md\n",
      "\t _build/html/2212.02627.md\n",
      "\t _build/html/2212.02235.md\n",
      "\t _build/html/2212.01707.md\n",
      "\t _build/html/2212.01526.md\n",
      "\t _build/html/2212.01397.md\n",
      "\t _build/html/2212.01291.md\n",
      "\t _build/html/2212.01281.md\n",
      "\t _build/html/2212.00812.md\n",
      "\t _build/html/2212.00811.md\n",
      "\t _build/html/2212.00806.md\n",
      "\t _build/html/2212.00047.md\n",
      "\t _build/html/2212.00032.md\n",
      "\t _build/html/2211.16996.md\n",
      "\t _build/html/2211.16510.md\n",
      "\t _build/html/2211.16123.md\n",
      "\t _build/html/2211.15816.md\n",
      "\t _build/html/2211.15698.md\n",
      "\t _build/html/2211.15576.md\n",
      "\t _build/html/2211.15434.md\n",
      "\t _build/html/2211.15288.md\n",
      "\t _build/html/2211.15224.md\n",
      "\t _build/html/2211.14543.md\n",
      "\t _build/html/2211.14330.md\n",
      "\t _build/html/2211.14322.md\n",
      "\t _build/html/2211.14132.md\n",
      "\t _build/html/2211.13811.md\n",
      "\t _build/html/2211.13426.md\n",
      "\t _build/html/2211.13318.md\n",
      "\t _build/html/2211.13146.md\n",
      "\t _build/html/2211.12613.md\n",
      "\t _build/html/2211.11767.md\n",
      "\t _build/html/2211.09840.md\n",
      "\t _build/html/2211.09217.md\n",
      "\t _build/html/2211.08493.md\n",
      "\t _build/html/2211.08487.md\n",
      "\t _build/html/2211.08294.md\n",
      "\t _build/html/2211.07667.md\n",
      "\t _build/html/2211.07659.md\n",
      "\t _build/html/2211.06454.md\n",
      "\t _build/html/2211.06205.md\n",
      "\t _build/html/2211.06194.md\n",
      "\t _build/html/2211.05022.md\n",
      "\t _build/html/2211.04048.md\n",
      "\t _build/html/2211.03641.md\n",
      "\t _build/html/2211.02502.md\n",
      "\t _build/html/2211.01474.md\n",
      "\t _build/html/2211.00667.md\n",
      "\t _build/html/2211.00657.md\n",
      "\t _build/html/2211.00087.md\n",
      "\t _build/html/2211.00036.md\n",
      "\t _build/html/2211.00020.md\n",
      "\t _build/html/2211.00010.md\n",
      "\t _build/html/2210.17434.md\n",
      "\t _build/html/2210.12412.md\n",
      "\t _build/html/2210.11926.md\n",
      "\t _build/html/2210.11551.md\n",
      "\t _build/html/2210.11103.md\n",
      "\t _build/html/2210.10707.md\n",
      "\t _build/html/2210.09930.md\n",
      "\t _build/html/2210.08996.md\n",
      "\t _build/html/2210.08517.md\n",
      "\t _build/html/2210.08510.md\n",
      "\t _build/html/2210.08078.md\n",
      "\t _build/html/2210.06504.md\n",
      "\t _build/html/2210.05695.md\n",
      "\t _build/html/2210.05595.md\n",
      "\t _build/html/2210.05505.md\n",
      "\t _build/html/2210.04721.md\n",
      "\t _build/html/2210.03615.md\n",
      "\t _build/html/2210.01811.md\n",
      "\t _build/html/2210.01809.md\n",
      "\t _build/html/2210.01556.md\n",
      "\t _build/html/2210.00863.md\n",
      "\t _build/html/2210.00560.md\n",
      "\t _build/html/2209.15403.md\n",
      "\t _build/html/2209.15110.md\n",
      "\t _build/html/2209.14410.md\n",
      "\t _build/html/2209.14396.md\n",
      "\t _build/html/2209.13717.md\n",
      "\t _build/html/2209.13336.md\n",
      "\t _build/html/2209.12906.md\n",
      "\t _build/html/2209.11781.md\n",
      "\t _build/html/2209.11602.md\n",
      "\t _build/html/2209.11248.md\n",
      "\t _build/html/2209.11096.md\n",
      "\t _build/html/2209.10618.md\n",
      "\t _build/html/2209.09914.md\n",
      "\t _build/html/2209.09823.md\n",
      "\t _build/html/2209.08242.md\n",
      "\t _build/html/2209.08120.md\n",
      "\t _build/html/2209.08106.md\n",
      "\t _build/html/2209.07962.md\n",
      "\t _build/html/2209.07931.md\n",
      "\t _build/html/2209.06833.md\n",
      "\t _build/html/2209.05814.md\n",
      "\t _build/html/2209.05593.md\n",
      "\t _build/html/2209.04304.md\n",
      "\t _build/html/2209.03367.md\n",
      "\t _build/html/2209.02872.md\n",
      "\t _build/html/2209.02725.md\n",
      "\t _build/html/2209.02722.md\n",
      "\t _build/html/2209.02092.md\n",
      "\t _build/html/2209.01125.md\n",
      "\t _build/html/2209.00828.md\n",
      "\t _build/html/2209.00363.md\n",
      "\t _build/html/2208.14927.md\n",
      "\t _build/html/2208.09335.md\n",
      "\t _build/html/2208.08872.md\n",
      "\t _build/html/2204.06393.md\n",
      "\t _build/html/2204.03335.md\n",
      "\t _build/html/2204.03253.md\n",
      "\t _build/html/2204.02998.md\n",
      "\t _build/html/2204.02109.md\n",
      "\t _build/html/2204.02017.md\n",
      "\t _build/html/2204.01824.md\n",
      "\t _build/html/2204.01758.md\n",
      "\t _build/html/2204.01245.md\n",
      "\t _build/html/2204.00793.md\n",
      "\t _build/html/2204.00342.md\n",
      "\t _build/html/2203.16959.md\n",
      "\t _build/html/2203.16856.md\n",
      "\t _build/html/2203.16735.md\n",
      "\t _build/html/2203.16734.md\n",
      "\t _build/html/2203.16504.md\n",
      "\t _build/html/2203.15822.md\n",
      "\t _build/html/2203.15811.md\n"
     ]
    }
   ],
   "source": [
    "from datetime import datetime, timedelta, timezone\n",
    "from glob import glob\n",
    "\n",
    "files = glob('_build/html/*.md')\n",
    "days = 7\n",
    "now = datetime.today()\n",
    "res = []\n",
    "for fk in files:\n",
    "    stat_result = os.stat(fk).st_ctime\n",
    "    modified = datetime.fromtimestamp(stat_result, tz=timezone.utc).replace(tzinfo=None)\n",
    "    delta = now.today() - modified\n",
    "    if delta <= timedelta(days=days):\n",
    "        res.append((delta.seconds, fk))\n",
    "res = [k[1] for k in reversed(sorted(res, key=lambda x:x[1]))]\n",
    "npub = len(res)\n",
    "print(len(res), f\" publications in the last {days:d} days.\")\n",
    "[ print('\\t', k) for k in res ];"
   ]
  },
  {
   "cell_type": "code",
   "execution_count": 11,
   "id": "015de740",
   "metadata": {
    "execution": {
     "iopub.execute_input": "2023-01-17T04:09:12.493143Z",
     "iopub.status.busy": "2023-01-17T04:09:12.492503Z",
     "iopub.status.idle": "2023-01-17T04:09:12.515919Z",
     "shell.execute_reply": "2023-01-17T04:09:12.515036Z"
    },
    "papermill": {
     "duration": 0.037041,
     "end_time": "2023-01-17T04:09:12.517857",
     "exception": false,
     "start_time": "2023-01-17T04:09:12.480816",
     "status": "completed"
    },
    "tags": []
   },
   "outputs": [
    {
     "name": "stdout",
     "output_type": "stream",
     "text": [
      "9  publications in the last 7 days.\n"
     ]
    }
   ],
   "source": [
    "import datetime\n",
    "from glob import glob\n",
    "\n",
    "def get_last_n_days(lst, days=1):\n",
    "    \"\"\" Get the documents from the last n days \"\"\"\n",
    "    sorted_lst = sorted(lst, key=lambda x: x[1], reverse=True)\n",
    "    for fname, date in sorted_lst:\n",
    "        if date >= str(datetime.date.today() - datetime.timedelta(days=days)):\n",
    "            yield fname\n",
    "\n",
    "def extract_appearance_dates(lst_file):\n",
    "    dates = []\n",
    "\n",
    "    def get_date(line):\n",
    "        return line\\\n",
    "            .split('Appeared on:')[-1]\\\n",
    "            .split('</mark>')[0].strip()\n",
    "\n",
    "    for fname in lst:\n",
    "        with open(fname, 'r') as f:\n",
    "            found_date = False\n",
    "            for line in f:\n",
    "                if not found_date:\n",
    "                    if \"Appeared on\" in line:\n",
    "                        found_date = True\n",
    "                        dates.append((fname, get_date(line)))\n",
    "                else:\n",
    "                    break\n",
    "    return dates\n",
    "\n",
    "from glob import glob\n",
    "lst = glob('_build/html/*md')\n",
    "days = 7\n",
    "dates = extract_appearance_dates(lst)\n",
    "res = list(get_last_n_days(dates, days))\n",
    "npub = len(res)\n",
    "print(len(res), f\" publications in the last {days:d} days.\")"
   ]
  },
  {
   "cell_type": "code",
   "execution_count": 12,
   "id": "52ca0208",
   "metadata": {
    "execution": {
     "iopub.execute_input": "2023-01-17T04:09:12.540367Z",
     "iopub.status.busy": "2023-01-17T04:09:12.540072Z",
     "iopub.status.idle": "2023-01-17T04:09:12.547509Z",
     "shell.execute_reply": "2023-01-17T04:09:12.546658Z"
    },
    "papermill": {
     "duration": 0.021292,
     "end_time": "2023-01-17T04:09:12.549750",
     "exception": false,
     "start_time": "2023-01-17T04:09:12.528458",
     "status": "completed"
    },
    "scrolled": false,
    "tags": []
   },
   "outputs": [],
   "source": [
    "def create_carousel(npub=4):\n",
    "    \"\"\" Generate the HTML code for a carousel with `npub` slides \"\"\"\n",
    "    carousel = [\"\"\"<section class=\"carousel\" aria-label=\"Gallery\">\"\"\",\n",
    "                \"\"\"  <ol class=\"carousel__viewport\">\"\"\",\n",
    "    ]\n",
    "    for k in range(1, npub + 1):\n",
    "        prev_ = k - 1\n",
    "        next_ = k + 1\n",
    "        if prev_ <= 0:\n",
    "            prev_ = npub\n",
    "        if next_ > npub:\n",
    "            next_ = 1\n",
    "        text  = f\"\"\"    <li id=\"carousel__slide{k}\" tabindex=\"0\" class=\"carousel__slide\">\\n\"\"\"\n",
    "        text += f\"\"\"       <div class=\"carousel__snapper\">\\n\"\"\"\n",
    "        text += f\"\"\"         <a href=\"#carousel__slide{prev_}\" class=\"carousel__prev\">Go to previous slide</a>\\n\"\"\"\n",
    "        text += f\"\"\"         <a href=\"#carousel__slide{next_}\" class=\"carousel__next\">Go to next slide</a>\\n\"\"\"\n",
    "        text += f\"\"\"         <div id=\"slide{k}_content\" class=\"md_view\" >Content {k}</div>\\n\"\"\"\n",
    "        text += f\"\"\"       </div>\\n\"\"\"\n",
    "        text += f\"\"\"    </li>\"\"\"\n",
    "        carousel.append(text)\n",
    "\n",
    "    carousel.extend([\n",
    "        \"\"\"  </ol>\"\"\",\n",
    "        \"\"\"  <aside class=\"carousel__navigation\">\"\"\",\n",
    "        \"\"\"    <ol class=\"carousel__navigation-list\">\"\"\"])\n",
    "\n",
    "    for k in range(1, npub + 1):\n",
    "        text  = f\"\"\"      <li class=\"carousel__navigation-item\">\\n\"\"\"\n",
    "        text += f\"\"\"        <a href=\"#carousel__slide{k}\" class=\"carousel__navigation-button\">Go to {k}</a>\\n\"\"\"\n",
    "        text += f\"\"\"      </li>\"\"\"\n",
    "        carousel.append(text)\n",
    "    carousel.extend([\"\"\"    </ol>\"\"\", \"\"\"  </aside>\"\"\", \"\"\"</section>\"\"\"])\n",
    "\n",
    "    return '\\n'.join(carousel)"
   ]
  },
  {
   "cell_type": "code",
   "execution_count": 13,
   "id": "a6eac5b6",
   "metadata": {
    "execution": {
     "iopub.execute_input": "2023-01-17T04:09:12.603260Z",
     "iopub.status.busy": "2023-01-17T04:09:12.602460Z",
     "iopub.status.idle": "2023-01-17T04:09:12.610729Z",
     "shell.execute_reply": "2023-01-17T04:09:12.609856Z"
    },
    "papermill": {
     "duration": 0.022295,
     "end_time": "2023-01-17T04:09:12.612774",
     "exception": false,
     "start_time": "2023-01-17T04:09:12.590479",
     "status": "completed"
    },
    "scrolled": false,
    "tags": []
   },
   "outputs": [],
   "source": [
    "carousel = create_carousel(npub)\n",
    "docs = ', '.join(['\"{0:s}\"'.format(k.split('/')[-1]) for k in res])\n",
    "slides = ', '.join([f'\"slide{k}_content\"' for k in range(1, npub + 1)])\n",
    "\n",
    "script = f\"\"\"\n",
    "const docs = [{docs}]\n",
    "\n",
    "const slides = [{slides}]\n",
    "\"\"\" + \"\"\"\n",
    "async function run() {\n",
    "    for (let i = 0; i < docs.length; i++) {\n",
    "        let file = await fetch(docs[i]);\n",
    "        let text = await file.text()\n",
    "        document.getElementById(slides[i]).innerHTML =\n",
    "            marked.parse(text);\n",
    "    }\n",
    "    hljs.highlightAll();\n",
    "}\n",
    "run()\n",
    "\"\"\"\n",
    "\n",
    "page = f\"\"\"<!doctype html>\n",
    "<html lang=\"en\">\n",
    "\n",
    "<head>\n",
    "  <meta charset=\"utf-8\">\n",
    "  <meta name=\"viewport\" content=\"width=device-width, initial-scale=1\">\n",
    "  <!-- Bootstrap CSS -->\n",
    "  <link href=\"https://cdn.jsdelivr.net/npm/bootstrap@5.0.2/dist/css/bootstrap.min.css\" rel=\"stylesheet\"\n",
    "   integrity=\"sha384-EVSTQN3/azprG1Anm3QDgpJLIm9Nao0Yz1ztcQTwFspd3yD65VohhpuuCOmLASjC\" crossorigin=\"anonymous\">\n",
    "  <!-- highlight.js CSS -->\n",
    "  <link rel=\"stylesheet\" href=\"https://cdnjs.cloudflare.com/ajax/libs/highlight.js/11.1.0/styles/default.min.css\">\n",
    "  <!-- Mathjax 3 -->\n",
    "  <script type=\"text/javascript\" id=\"MathJax-config\" src=\"mathjax_config.js\"> </script>\n",
    "  <script type=\"text/javascript\" id=\"MathJax-script\" async \n",
    "    src=\"https://cdn.jsdelivr.net/npm/mathjax@3/es5/tex-mml-chtml.js\">\n",
    "  </script>\n",
    "  <link rel=\"stylesheet\" href=\"index_carousel.css\">\n",
    "  <link rel=\"icon\" type=\"image/x-icon\" href=\"https://www.mpia.de/assets/touch-icon-32x32-a66937bcebc4e8894ebff1f41a366c7c7220fd97a38869ee0f2db65a9f59b6c1.png\">\n",
    "  <title>MPIA Arxiv on deck!</title>\n",
    "</head>\n",
    "\n",
    "<body>\n",
    "  <div id=\"header\"> <img src=\"header_banner.png\" width=\"100%\"></div>\n",
    "  <div id=\"suptitle\"> 7-day archives </div>\n",
    "  <div id=\"info\">\n",
    "    <img src=\"https://pngimg.com/uploads/github/github_PNG58.png\" height=30rem></img>\n",
    "    <a href=https://github.com/mpi-astronomy/arxiv_display style=\"color:black;\">github/mpi-astronomy/arxiv_display</a> \n",
    "  </div>\n",
    "  {carousel:s}\n",
    "</body>\n",
    "\n",
    "<!-- Render Markdown -->\n",
    "\n",
    "<body>\n",
    "  <!-- highlight.js: https://highlightjs.org/download/ -->\n",
    "  <script src=\"https://cdnjs.cloudflare.com/ajax/libs/highlight.js/11.5.0/highlight.min.js\"></script>\n",
    "  <!-- marked.js -->\n",
    "  <script src=\"https://cdn.jsdelivr.net/npm/marked/marked.min.js\"></script>\n",
    "  <script>{script:s}</script>\n",
    "</body>\n",
    "</html>\n",
    "\"\"\"\n",
    "with open(\"_build/html/index_7days.html\", 'w') as fout:\n",
    "    fout.write(page)"
   ]
  },
  {
   "cell_type": "markdown",
   "id": "1cebacbc",
   "metadata": {
    "papermill": {
     "duration": 0.011565,
     "end_time": "2023-01-17T04:09:12.637248",
     "exception": false,
     "start_time": "2023-01-17T04:09:12.625683",
     "status": "completed"
    },
    "tags": []
   },
   "source": [
    "# Debugging papers"
   ]
  },
  {
   "cell_type": "raw",
   "id": "debe7cc6",
   "metadata": {
    "papermill": {
     "duration": 0.011902,
     "end_time": "2023-01-17T04:09:12.660186",
     "exception": false,
     "start_time": "2023-01-17T04:09:12.648284",
     "status": "completed"
    },
    "tags": []
   },
   "source": [
    "raise NotImplementedError(\"Manual Stop\")"
   ]
  },
  {
   "cell_type": "raw",
   "id": "eb169192",
   "metadata": {
    "papermill": {
     "duration": 0.010893,
     "end_time": "2023-01-17T04:09:12.681706",
     "exception": false,
     "start_time": "2023-01-17T04:09:12.670813",
     "status": "completed"
    },
    "scrolled": true,
    "tags": []
   },
   "source": [
    "from IPython.display import display, Markdown\n",
    "from TexSoup import TexSoup\n",
    "import re\n",
    "\n",
    "def bracket_error(source: str):\n",
    "    \"\"\" Find problematic portions of the document \"\"\"\n",
    "    \n",
    "    print(\"len(source)\", len(source))\n",
    "    \n",
    "    # Checking header\n",
    "    begin_doc = next(re.finditer(r'\\\\begin\\{document\\}', doc.source)).span()[1]\n",
    "    header = source[:begin_doc]\n",
    "    text = header + r\"\\n\\end{document}\"\n",
    "\n",
    "    try:\n",
    "        # print(\"Header check... \", end='')\n",
    "        TexSoup(text)\n",
    "        display(Markdown(f\"**[OK]** - Header\"))\n",
    "    except:\n",
    "        raise RuntimeError(\"Error in the header\")\n",
    "        \n",
    "    # Check the text per section until the end.\n",
    "    # Do not stop and try them all.\n",
    "    \n",
    "    problematic_text = []\n",
    "    \n",
    "    sections = ([(0, begin_doc, 'until first section')] + \n",
    "                [(g.span()[0], g.span()[1], g.group()) for g in re.finditer(r'\\\\section\\{.*\\}', source)] +\n",
    "                [(g.span()[0], g.span()[1], g.group()) for g in re.finditer(r'\\\\begin\\{appendix\\}', source)]\n",
    "               )\n",
    "    sections.append([len(source), len(source), 'end'])\n",
    "    \n",
    "    sections = sorted(sections, key=lambda x: x[0])\n",
    "    \n",
    "    prev_pos, prev_name = (0, 'header')\n",
    "    parsed = []\n",
    "    \n",
    "    for span, span_end, name in sections:\n",
    "\n",
    "        if span - prev_pos <= 0:\n",
    "            continue\n",
    "            \n",
    "\n",
    "        text = source[prev_pos:span]\n",
    "        if prev_pos > begin_doc:\n",
    "            text = r\"\\n\\begin{document}\" + text + r\"\\n\\end{document}\"\n",
    "        else:\n",
    "            text = text + r\"\\n\\end{document}\"\n",
    "        try:\n",
    "            #print(f\"{prev_pos}:{prev_name}-->{span}:{name} check... \", end='')\n",
    "            parsed.append(TexSoup(text, tolerance=1))  # allow not ending env\n",
    "            display(Markdown(f\"**[OK]** - *{prev_pos}*:{prev_name} &rarr; *{span}*:{name}\"))\n",
    "            # print(\"ok\")\n",
    "\n",
    "            prev_pos = span\n",
    "            prev_name = name\n",
    "        except:\n",
    "            # print(f\"error between {prev_pos} and {span}\")\n",
    "            display(Markdown(f\"**[ERR]** *{prev_pos}*:{prev_name} &rarr; *{span}*:{name}\"))\n",
    "            problematic_text.append((prev_pos, source[prev_pos:span]))\n",
    "            prev_pos = span\n",
    "            prev_name = name\n",
    "            # raise\n",
    "    return problematic_text, parsed\n",
    "\n",
    "\n",
    "def check_environment(text, offset=0):\n",
    "    \"\"\" Check environment \"\"\"\n",
    "    env = re.compile(r\"\\\\begin\\{(?P<env>.*)\\}(.*)\\\\end\\{(?P=env)\\}\", re.DOTALL)\n",
    "\n",
    "    for match in env.finditer(text):\n",
    "        beg, end = match.span()\n",
    "        beg += offset\n",
    "        end += offset\n",
    "        envname = match.groups()[0]\n",
    "        try:\n",
    "            latex.TexSoup(match.group())\n",
    "        except Exception as e:\n",
    "            display(e)\n",
    "            print(f\"Error in {envname:s} between {beg} and {end}\")\n",
    "            return match.groups()[1], beg, end"
   ]
  },
  {
   "cell_type": "raw",
   "id": "2315e835",
   "metadata": {
    "papermill": {
     "duration": 0.010583,
     "end_time": "2023-01-17T04:09:12.705307",
     "exception": false,
     "start_time": "2023-01-17T04:09:12.694724",
     "status": "completed"
    },
    "scrolled": false,
    "tags": []
   },
   "source": [
    "import importlib\n",
    "importlib.reload(latex)\n",
    "which = \"2204.03253\"\n",
    "paper_id = f'{which:s}'\n",
    "folder = f'tmp_{paper_id:s}'\n",
    "\n",
    "if not os.path.isdir(folder):\n",
    "    folder = retrieve_document_source(f\"{paper_id}\", f'tmp_{paper_id}')\n",
    "\n",
    "try:\n",
    "    doc = latex.LatexDocument(folder, validation=validation)    \n",
    "except AffiliationError as affilerror:\n",
    "    msg = f\"ArXiv:{paper_id:s} is not an MPIA paper... \" + str(affilerror)\n",
    "    print(msg)\n",
    "\n",
    "\n",
    "# Hack because sometimes author parsing does not work well\n",
    "if (len(doc.authors) != len(paper['authors'])):\n",
    "    doc._authors = paper['authors']\n",
    "if (doc.abstract) in (None, ''):\n",
    "    doc._abstract = paper['abstract']\n",
    "\n",
    "doc.comment = get_markdown_badge(paper_id) + \" _\" + paper['comments'] + \"_\"\n",
    "doc.highlight_authors_in_list(hl_list)\n",
    "\n",
    "full_md = doc.generate_markdown_text()"
   ]
  },
  {
   "cell_type": "raw",
   "id": "dd3781db",
   "metadata": {
    "papermill": {
     "duration": 0.012485,
     "end_time": "2023-01-17T04:09:12.729064",
     "exception": false,
     "start_time": "2023-01-17T04:09:12.716579",
     "status": "completed"
    },
    "scrolled": false,
    "tags": []
   },
   "source": [
    "doc"
   ]
  },
  {
   "cell_type": "raw",
   "id": "c6eed834",
   "metadata": {
    "papermill": {
     "duration": 0.012629,
     "end_time": "2023-01-17T04:09:12.752847",
     "exception": false,
     "start_time": "2023-01-17T04:09:12.740218",
     "status": "completed"
    },
    "tags": []
   },
   "source": [
    "# [check_environment(k) for k in bracket_error(doc.source)]\n",
    "_, _, a = latex.get_content_per_section(doc.source, verbose=True)\n",
    "if not a:\n",
    "    print(\"no issues per section\")\n",
    "for ak in a:\n",
    "    r = check_environment(ak[1], offset=ak[0])\n",
    "    print(r[1], r[2])\n",
    "    print(r[0])"
   ]
  },
  {
   "cell_type": "code",
   "execution_count": null,
   "id": "71ce768a",
   "metadata": {
    "papermill": {
     "duration": 0.010362,
     "end_time": "2023-01-17T04:09:12.774233",
     "exception": false,
     "start_time": "2023-01-17T04:09:12.763871",
     "status": "completed"
    },
    "tags": []
   },
   "outputs": [],
   "source": []
  }
 ],
 "metadata": {
  "kernelspec": {
   "display_name": "Python 3",
   "language": "python",
   "name": "python3"
  },
  "language_info": {
   "codemirror_mode": {
    "name": "ipython",
    "version": 3
   },
   "file_extension": ".py",
   "mimetype": "text/x-python",
   "name": "python",
   "nbconvert_exporter": "python",
   "pygments_lexer": "ipython3",
   "version": "3.9.16"
  },
  "papermill": {
   "default_parameters": {},
   "duration": 162.760129,
   "end_time": "2023-01-17T04:09:13.104248",
   "environment_variables": {},
   "exception": null,
   "input_path": "MPIA daily digest.ipynb",
   "output_path": "log.ipynb",
   "parameters": {},
   "start_time": "2023-01-17T04:06:30.344119",
   "version": "2.4.0"
  },
  "vscode": {
   "interpreter": {
    "hash": "aee8b7b246df8f9039afb4144a1f6fd8d2ca17a180786b69acc140d282b71a49"
   }
  },
  "widgets": {
   "application/vnd.jupyter.widget-state+json": {
    "state": {
     "059ccd6918c241999df2a392fcfb16cf": {
      "model_module": "@jupyter-widgets/base",
      "model_module_version": "2.0.0",
      "model_name": "LayoutModel",
      "state": {
       "_model_module": "@jupyter-widgets/base",
       "_model_module_version": "2.0.0",
       "_model_name": "LayoutModel",
       "_view_count": null,
       "_view_module": "@jupyter-widgets/base",
       "_view_module_version": "2.0.0",
       "_view_name": "LayoutView",
       "align_content": null,
       "align_items": null,
       "align_self": null,
       "border_bottom": null,
       "border_left": null,
       "border_right": null,
       "border_top": null,
       "bottom": null,
       "display": null,
       "flex": null,
       "flex_flow": null,
       "grid_area": null,
       "grid_auto_columns": null,
       "grid_auto_flow": null,
       "grid_auto_rows": null,
       "grid_column": null,
       "grid_gap": null,
       "grid_row": null,
       "grid_template_areas": null,
       "grid_template_columns": null,
       "grid_template_rows": null,
       "height": null,
       "justify_content": null,
       "justify_items": null,
       "left": null,
       "margin": null,
       "max_height": null,
       "max_width": null,
       "min_height": null,
       "min_width": null,
       "object_fit": null,
       "object_position": null,
       "order": null,
       "overflow": null,
       "padding": null,
       "right": null,
       "top": null,
       "visibility": null,
       "width": null
      }
     },
     "34ba043bb6c1468f8149f4d8ab7d5179": {
      "model_module": "@jupyter-widgets/controls",
      "model_module_version": "2.0.0",
      "model_name": "HTMLStyleModel",
      "state": {
       "_model_module": "@jupyter-widgets/controls",
       "_model_module_version": "2.0.0",
       "_model_name": "HTMLStyleModel",
       "_view_count": null,
       "_view_module": "@jupyter-widgets/base",
       "_view_module_version": "2.0.0",
       "_view_name": "StyleView",
       "background": null,
       "description_width": "",
       "font_size": null,
       "text_color": null
      }
     },
     "392e09b496e046a780e9343d403226a1": {
      "model_module": "@jupyter-widgets/controls",
      "model_module_version": "2.0.0",
      "model_name": "HTMLStyleModel",
      "state": {
       "_model_module": "@jupyter-widgets/controls",
       "_model_module_version": "2.0.0",
       "_model_name": "HTMLStyleModel",
       "_view_count": null,
       "_view_module": "@jupyter-widgets/base",
       "_view_module_version": "2.0.0",
       "_view_name": "StyleView",
       "background": null,
       "description_width": "",
       "font_size": null,
       "text_color": null
      }
     },
     "6c1beb56fd2847048b4d2ff268c82706": {
      "model_module": "@jupyter-widgets/controls",
      "model_module_version": "2.0.0",
      "model_name": "FloatProgressModel",
      "state": {
       "_dom_classes": [],
       "_model_module": "@jupyter-widgets/controls",
       "_model_module_version": "2.0.0",
       "_model_name": "FloatProgressModel",
       "_view_count": null,
       "_view_module": "@jupyter-widgets/controls",
       "_view_module_version": "2.0.0",
       "_view_name": "ProgressView",
       "bar_style": "success",
       "description": "",
       "description_allow_html": false,
       "layout": "IPY_MODEL_79352e18945844c2a375a2630a95e970",
       "max": 18.0,
       "min": 0.0,
       "orientation": "horizontal",
       "style": "IPY_MODEL_e0e364f8344942068c927027d9b8499f",
       "tabbable": null,
       "tooltip": null,
       "value": 18.0
      }
     },
     "79352e18945844c2a375a2630a95e970": {
      "model_module": "@jupyter-widgets/base",
      "model_module_version": "2.0.0",
      "model_name": "LayoutModel",
      "state": {
       "_model_module": "@jupyter-widgets/base",
       "_model_module_version": "2.0.0",
       "_model_name": "LayoutModel",
       "_view_count": null,
       "_view_module": "@jupyter-widgets/base",
       "_view_module_version": "2.0.0",
       "_view_name": "LayoutView",
       "align_content": null,
       "align_items": null,
       "align_self": null,
       "border_bottom": null,
       "border_left": null,
       "border_right": null,
       "border_top": null,
       "bottom": null,
       "display": null,
       "flex": null,
       "flex_flow": null,
       "grid_area": null,
       "grid_auto_columns": null,
       "grid_auto_flow": null,
       "grid_auto_rows": null,
       "grid_column": null,
       "grid_gap": null,
       "grid_row": null,
       "grid_template_areas": null,
       "grid_template_columns": null,
       "grid_template_rows": null,
       "height": null,
       "justify_content": null,
       "justify_items": null,
       "left": null,
       "margin": null,
       "max_height": null,
       "max_width": null,
       "min_height": null,
       "min_width": null,
       "object_fit": null,
       "object_position": null,
       "order": null,
       "overflow": null,
       "padding": null,
       "right": null,
       "top": null,
       "visibility": null,
       "width": null
      }
     },
     "929baa170fae4740b8c8330431f5265f": {
      "model_module": "@jupyter-widgets/base",
      "model_module_version": "2.0.0",
      "model_name": "LayoutModel",
      "state": {
       "_model_module": "@jupyter-widgets/base",
       "_model_module_version": "2.0.0",
       "_model_name": "LayoutModel",
       "_view_count": null,
       "_view_module": "@jupyter-widgets/base",
       "_view_module_version": "2.0.0",
       "_view_name": "LayoutView",
       "align_content": null,
       "align_items": null,
       "align_self": null,
       "border_bottom": null,
       "border_left": null,
       "border_right": null,
       "border_top": null,
       "bottom": null,
       "display": null,
       "flex": null,
       "flex_flow": null,
       "grid_area": null,
       "grid_auto_columns": null,
       "grid_auto_flow": null,
       "grid_auto_rows": null,
       "grid_column": null,
       "grid_gap": null,
       "grid_row": null,
       "grid_template_areas": null,
       "grid_template_columns": null,
       "grid_template_rows": null,
       "height": null,
       "justify_content": null,
       "justify_items": null,
       "left": null,
       "margin": null,
       "max_height": null,
       "max_width": null,
       "min_height": null,
       "min_width": null,
       "object_fit": null,
       "object_position": null,
       "order": null,
       "overflow": null,
       "padding": null,
       "right": null,
       "top": null,
       "visibility": null,
       "width": null
      }
     },
     "9646ef79a880450488fabc560e8890bd": {
      "model_module": "@jupyter-widgets/base",
      "model_module_version": "2.0.0",
      "model_name": "LayoutModel",
      "state": {
       "_model_module": "@jupyter-widgets/base",
       "_model_module_version": "2.0.0",
       "_model_name": "LayoutModel",
       "_view_count": null,
       "_view_module": "@jupyter-widgets/base",
       "_view_module_version": "2.0.0",
       "_view_name": "LayoutView",
       "align_content": null,
       "align_items": null,
       "align_self": null,
       "border_bottom": null,
       "border_left": null,
       "border_right": null,
       "border_top": null,
       "bottom": null,
       "display": null,
       "flex": null,
       "flex_flow": null,
       "grid_area": null,
       "grid_auto_columns": null,
       "grid_auto_flow": null,
       "grid_auto_rows": null,
       "grid_column": null,
       "grid_gap": null,
       "grid_row": null,
       "grid_template_areas": null,
       "grid_template_columns": null,
       "grid_template_rows": null,
       "height": null,
       "justify_content": null,
       "justify_items": null,
       "left": null,
       "margin": null,
       "max_height": null,
       "max_width": null,
       "min_height": null,
       "min_width": null,
       "object_fit": null,
       "object_position": null,
       "order": null,
       "overflow": null,
       "padding": null,
       "right": null,
       "top": null,
       "visibility": null,
       "width": null
      }
     },
     "ae46dcea5d8b41618f84030e7b28af4f": {
      "model_module": "@jupyter-widgets/controls",
      "model_module_version": "2.0.0",
      "model_name": "HTMLModel",
      "state": {
       "_dom_classes": [],
       "_model_module": "@jupyter-widgets/controls",
       "_model_module_version": "2.0.0",
       "_model_name": "HTMLModel",
       "_view_count": null,
       "_view_module": "@jupyter-widgets/controls",
       "_view_module_version": "2.0.0",
       "_view_name": "HTMLView",
       "description": "",
       "description_allow_html": false,
       "layout": "IPY_MODEL_929baa170fae4740b8c8330431f5265f",
       "placeholder": "​",
       "style": "IPY_MODEL_392e09b496e046a780e9343d403226a1",
       "tabbable": null,
       "tooltip": null,
       "value": "100%"
      }
     },
     "c12ad5433f4f4baa8f0a5355458cd060": {
      "model_module": "@jupyter-widgets/controls",
      "model_module_version": "2.0.0",
      "model_name": "HBoxModel",
      "state": {
       "_dom_classes": [],
       "_model_module": "@jupyter-widgets/controls",
       "_model_module_version": "2.0.0",
       "_model_name": "HBoxModel",
       "_view_count": null,
       "_view_module": "@jupyter-widgets/controls",
       "_view_module_version": "2.0.0",
       "_view_name": "HBoxView",
       "box_style": "",
       "children": [
        "IPY_MODEL_ae46dcea5d8b41618f84030e7b28af4f",
        "IPY_MODEL_6c1beb56fd2847048b4d2ff268c82706",
        "IPY_MODEL_edf58b0145a849139e93b1641abec9b8"
       ],
       "layout": "IPY_MODEL_059ccd6918c241999df2a392fcfb16cf",
       "tabbable": null,
       "tooltip": null
      }
     },
     "e0e364f8344942068c927027d9b8499f": {
      "model_module": "@jupyter-widgets/controls",
      "model_module_version": "2.0.0",
      "model_name": "ProgressStyleModel",
      "state": {
       "_model_module": "@jupyter-widgets/controls",
       "_model_module_version": "2.0.0",
       "_model_name": "ProgressStyleModel",
       "_view_count": null,
       "_view_module": "@jupyter-widgets/base",
       "_view_module_version": "2.0.0",
       "_view_name": "StyleView",
       "bar_color": null,
       "description_width": ""
      }
     },
     "edf58b0145a849139e93b1641abec9b8": {
      "model_module": "@jupyter-widgets/controls",
      "model_module_version": "2.0.0",
      "model_name": "HTMLModel",
      "state": {
       "_dom_classes": [],
       "_model_module": "@jupyter-widgets/controls",
       "_model_module_version": "2.0.0",
       "_model_name": "HTMLModel",
       "_view_count": null,
       "_view_module": "@jupyter-widgets/controls",
       "_view_module_version": "2.0.0",
       "_view_name": "HTMLView",
       "description": "",
       "description_allow_html": false,
       "layout": "IPY_MODEL_9646ef79a880450488fabc560e8890bd",
       "placeholder": "​",
       "style": "IPY_MODEL_34ba043bb6c1468f8149f4d8ab7d5179",
       "tabbable": null,
       "tooltip": null,
       "value": " 18/18 [02:12&lt;00:00, 13.69s/it]"
      }
     }
    },
    "version_major": 2,
    "version_minor": 0
   }
  }
 },
 "nbformat": 4,
 "nbformat_minor": 5
}