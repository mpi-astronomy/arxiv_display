{
 "cells": [
  {
   "cell_type": "markdown",
   "id": "92bcb855",
   "metadata": {
    "papermill": {
     "duration": 0.005724,
     "end_time": "2022-11-03T04:27:56.529228",
     "exception": false,
     "start_time": "2022-11-03T04:27:56.523504",
     "status": "completed"
    },
    "tags": []
   },
   "source": [
    "# MPIA Arxiv on Deck 2\n",
    "\n",
    "Contains the steps to produce the paper extractions."
   ]
  },
  {
   "cell_type": "code",
   "execution_count": 1,
   "id": "3a0d6e11",
   "metadata": {
    "execution": {
     "iopub.execute_input": "2022-11-03T04:27:56.539433Z",
     "iopub.status.busy": "2022-11-03T04:27:56.538794Z",
     "iopub.status.idle": "2022-11-03T04:27:56.711774Z",
     "shell.execute_reply": "2022-11-03T04:27:56.710946Z"
    },
    "papermill": {
     "duration": 0.18058,
     "end_time": "2022-11-03T04:27:56.714016",
     "exception": false,
     "start_time": "2022-11-03T04:27:56.533436",
     "status": "completed"
    },
    "tags": []
   },
   "outputs": [],
   "source": [
    "# Imports\n",
    "import os\n",
    "from IPython.display import Markdown, display\n",
    "from tqdm.notebook import tqdm\n",
    "import warnings\n",
    "from PIL import Image \n",
    "\n",
    "# requires arxiv_on_deck_2\n",
    "\n",
    "from arxiv_on_deck_2.arxiv2 import (get_new_papers, \n",
    "                                    get_paper_from_identifier,\n",
    "                                    retrieve_document_source, \n",
    "                                    get_markdown_badge)\n",
    "from arxiv_on_deck_2 import (latex, \n",
    "                             mpia,\n",
    "                             highlight_authors_in_list)\n",
    "\n",
    "# Sometimes images are really big\n",
    "Image.MAX_IMAGE_PIXELS = 1000000000 "
   ]
  },
  {
   "cell_type": "code",
   "execution_count": 2,
   "id": "22aa9d44",
   "metadata": {
    "execution": {
     "iopub.execute_input": "2022-11-03T04:27:56.724555Z",
     "iopub.status.busy": "2022-11-03T04:27:56.724308Z",
     "iopub.status.idle": "2022-11-03T04:27:56.729953Z",
     "shell.execute_reply": "2022-11-03T04:27:56.729341Z"
    },
    "papermill": {
     "duration": 0.012377,
     "end_time": "2022-11-03T04:27:56.731359",
     "exception": false,
     "start_time": "2022-11-03T04:27:56.718982",
     "status": "completed"
    },
    "tags": []
   },
   "outputs": [],
   "source": [
    "# Some useful definitions.\n",
    "\n",
    "class AffiliationWarning(UserWarning):\n",
    "    pass\n",
    "\n",
    "class AffiliationError(RuntimeError):\n",
    "    pass\n",
    "\n",
    "def validation(source: str):\n",
    "    \"\"\"Raises error paper during parsing of source file\n",
    "    \n",
    "    Allows checks before parsing TeX code.\n",
    "    \n",
    "    Raises AffiliationWarning\n",
    "    \"\"\"\n",
    "    check = mpia.affiliation_verifications(source, verbose=True)\n",
    "    if check is not True:\n",
    "        raise AffiliationError(\"mpia.affiliation_verifications: \" + check)\n",
    "\n",
    "        \n",
    "warnings.simplefilter('always', AffiliationWarning)"
   ]
  },
  {
   "cell_type": "code",
   "execution_count": 3,
   "id": "14622700",
   "metadata": {
    "execution": {
     "iopub.execute_input": "2022-11-03T04:27:56.742054Z",
     "iopub.status.busy": "2022-11-03T04:27:56.741625Z",
     "iopub.status.idle": "2022-11-03T04:27:56.745380Z",
     "shell.execute_reply": "2022-11-03T04:27:56.744680Z"
    },
    "papermill": {
     "duration": 0.011871,
     "end_time": "2022-11-03T04:27:56.747067",
     "exception": false,
     "start_time": "2022-11-03T04:27:56.735196",
     "status": "completed"
    },
    "tags": []
   },
   "outputs": [],
   "source": [
    "# additional CSS to consider. \n",
    "# TODO: Current into each exported file. \n",
    "#       This should be set once into the webpages directly.\n",
    "#       With only the class/id definitions in the .md files.\n",
    "\n",
    "debug_html = \"\"\"\n",
    "<style>\n",
    "#wrap{ overflow:auto; }\n",
    "#fig1{ background:yellow; width:100%; float:left; padding:5px;  }\n",
    "#fig2{ background:red; width:50%; float:left; clear:left; padding:5px;  }\n",
    "#fig3{ background:green; width:50%; float:left; padding:5px;   }\n",
    ".macros{ background:yellow; visibility:visible;}\n",
    "h1 {margin: 0 0 0 0;}\n",
    "mark {background-color:#fff3b6;}\n",
    "img {object-fit:contain; max-height:250px; display:inline-block; text-align: center;}\n",
    "</style>\n",
    "\"\"\" \n",
    "html = \"\"\"\n",
    "<style>\n",
    "#wrap{ overflow:auto; }\n",
    "#fig1{ width:100%; float:left; padding: 5px;  }\n",
    "#fig2{ width:50%; float:left; clear:left; padding: 5px;  }\n",
    "#fig3{ width:50%; float:left; padding: 5px;  }\n",
    ".macros{ visibility:hidden; height:0px; }\n",
    "h1 {margin: 0em 0 0 0;}\n",
    "mark {background-color:#fff3b6;}\n",
    "img {object-fit:contain; max-height:250px; display:inline-block; text-align: center;}\n",
    "</style>\n",
    "\"\"\""
   ]
  },
  {
   "cell_type": "markdown",
   "id": "14bd6310",
   "metadata": {
    "papermill": {
     "duration": 0.003904,
     "end_time": "2022-11-03T04:27:56.754783",
     "exception": false,
     "start_time": "2022-11-03T04:27:56.750879",
     "status": "completed"
    },
    "tags": []
   },
   "source": [
    "## get list of arxiv paper candidates\n",
    "\n",
    "We use the MPIA mitarbeiter list webpage from mpia.de to get author names\n",
    "We then get all new papers from Arxiv and match authors"
   ]
  },
  {
   "cell_type": "code",
   "execution_count": 4,
   "id": "2645e73a",
   "metadata": {
    "execution": {
     "iopub.execute_input": "2022-11-03T04:27:56.765676Z",
     "iopub.status.busy": "2022-11-03T04:27:56.763750Z",
     "iopub.status.idle": "2022-11-03T04:28:53.021891Z",
     "shell.execute_reply": "2022-11-03T04:28:53.019877Z"
    },
    "papermill": {
     "duration": 56.268749,
     "end_time": "2022-11-03T04:28:53.027449",
     "exception": false,
     "start_time": "2022-11-03T04:27:56.758700",
     "status": "completed"
    },
    "tags": []
   },
   "outputs": [
    {
     "name": "stdout",
     "output_type": "stream",
     "text": [
      "Arxiv has 51 new papers today\n",
      "          21 with possible author matches\n"
     ]
    }
   ],
   "source": [
    "# get list from MPIA website\n",
    "# it automatically filters identified non-scientists :func:`mpia.filter_non_scientists`\n",
    "mpia_authors = mpia.get_mpia_mitarbeiter_list()\n",
    "new_papers = get_new_papers()\n",
    "# add manual references\n",
    "add_paper_refs = []\n",
    "new_papers.extend([get_paper_from_identifier(k) for k in add_paper_refs])\n",
    "\n",
    "# select only papers with matching author names and highlight authors\n",
    "hl_list = [k[0] for k in mpia_authors]\n",
    "\n",
    "candidates = []\n",
    "for paperk in new_papers:\n",
    "    hl_authors = highlight_authors_in_list(paperk['authors'], hl_list)\n",
    "    matches = [(hl, orig) for hl, orig in zip(hl_authors, paperk['authors']) if 'mark' in hl]\n",
    "    paperk['authors'] = hl_authors\n",
    "    if matches:\n",
    "        candidates.append(paperk)\n",
    "print(\"\"\"Arxiv has {0:,d} new papers today\"\"\".format(len(new_papers)))        \n",
    "print(\"\"\"          {0:,d} with possible author matches\"\"\".format(len(candidates)))"
   ]
  },
  {
   "cell_type": "markdown",
   "id": "3543b34a",
   "metadata": {
    "papermill": {
     "duration": 0.004284,
     "end_time": "2022-11-03T04:28:53.035841",
     "exception": false,
     "start_time": "2022-11-03T04:28:53.031557",
     "status": "completed"
    },
    "tags": []
   },
   "source": [
    "# Parse sources and generate relevant outputs\n",
    "\n",
    "From the candidates, we do the following steps:\n",
    "* get their tarball from ArXiv (and extract data)\n",
    "* find the main .tex file: find one with \\documentclass{...} (sometimes it's non trivial)\n",
    "* Check affiliations with :func:`validation`, which uses :func:`mpia.affiliation_verifications`\n",
    "* If passing the affiliations: we parse the .tex source\n",
    "   * inject sub-documents into the main (flatten the main document)\n",
    "   * parse structure, extract information (title, abstract, authors, figures...)\n",
    "   * handles `\\graphicspath` if provided\n",
    "* Generate the .md document."
   ]
  },
  {
   "cell_type": "code",
   "execution_count": 5,
   "id": "9576b79e",
   "metadata": {
    "execution": {
     "iopub.execute_input": "2022-11-03T04:28:53.045293Z",
     "iopub.status.busy": "2022-11-03T04:28:53.044794Z",
     "iopub.status.idle": "2022-11-03T04:33:47.105302Z",
     "shell.execute_reply": "2022-11-03T04:33:47.104532Z"
    },
    "papermill": {
     "duration": 294.073949,
     "end_time": "2022-11-03T04:33:47.113756",
     "exception": false,
     "start_time": "2022-11-03T04:28:53.039807",
     "status": "completed"
    },
    "scrolled": false,
    "tags": []
   },
   "outputs": [
    {
     "data": {
      "application/vnd.jupyter.widget-view+json": {
       "model_id": "4d1eabed452c4b86b9e149c283e89019",
       "version_major": 2,
       "version_minor": 0
      },
      "text/plain": [
       "  0%|          | 0/20 [00:00<?, ?it/s]"
      ]
     },
     "metadata": {},
     "output_type": "display_data"
    },
    {
     "name": "stdout",
     "output_type": "stream",
     "text": [
      "Retrieving document from  https://arxiv.org/e-print/2211.00649\n"
     ]
    },
    {
     "name": "stdout",
     "output_type": "stream",
     "text": [
      "extracting tarball to tmp_2211.00649..."
     ]
    },
    {
     "name": "stdout",
     "output_type": "stream",
     "text": [
      " done.\n",
      "Retrieving document from  https://arxiv.org/e-print/2211.00650\n"
     ]
    },
    {
     "name": "stderr",
     "output_type": "stream",
     "text": [
      "/opt/hostedtoolcache/Python/3.9.15/x64/lib/python3.9/site-packages/IPython/core/interactiveshell.py:3433: LatexWarning: Multiple tex files.\n",
      "\n",
      "  exec(code_obj, self.user_global_ns, self.user_ns)\n",
      "/opt/hostedtoolcache/Python/3.9.15/x64/lib/python3.9/site-packages/IPython/core/interactiveshell.py:3433: LatexWarning: Found documentclass in tmp_2211.00649/aassymbols.tex\n",
      "\n",
      "  exec(code_obj, self.user_global_ns, self.user_ns)\n"
     ]
    },
    {
     "name": "stdout",
     "output_type": "stream",
     "text": [
      "extracting tarball to tmp_2211.00650..."
     ]
    },
    {
     "name": "stdout",
     "output_type": "stream",
     "text": [
      " done.\n",
      "Retrieving document from  https://arxiv.org/e-print/2211.00656\n"
     ]
    },
    {
     "name": "stdout",
     "output_type": "stream",
     "text": [
      "extracting tarball to tmp_2211.00656..."
     ]
    },
    {
     "name": "stdout",
     "output_type": "stream",
     "text": [
      " done.\n",
      "Retrieving document from  https://arxiv.org/e-print/2211.00657\n"
     ]
    },
    {
     "name": "stderr",
     "output_type": "stream",
     "text": [
      "/opt/hostedtoolcache/Python/3.9.15/x64/lib/python3.9/site-packages/IPython/core/interactiveshell.py:3433: LatexWarning: Multiple tex files.\n",
      "\n",
      "  exec(code_obj, self.user_global_ns, self.user_ns)\n",
      "/opt/hostedtoolcache/Python/3.9.15/x64/lib/python3.9/site-packages/IPython/core/interactiveshell.py:3433: LatexWarning: Found documentclass in tmp_2211.00656/Science_v1_combo.tex\n",
      "\n",
      "  exec(code_obj, self.user_global_ns, self.user_ns)\n",
      "/opt/hostedtoolcache/Python/3.9.15/x64/lib/python3.9/site-packages/arxiv_on_deck_2/latex.py:292: LatexWarning: Latex injecting: 'spec_log' from 'tmp_2211.00656/spec_log.tex'\n",
      "  warnings.warn(LatexWarning(f\"Latex injecting: '{ext}' from '{subsource}'\"))\n"
     ]
    },
    {
     "name": "stdout",
     "output_type": "stream",
     "text": [
      "extracting tarball to tmp_2211.00657..."
     ]
    },
    {
     "name": "stdout",
     "output_type": "stream",
     "text": [
      " done.\n"
     ]
    },
    {
     "name": "stdout",
     "output_type": "stream",
     "text": [
      "Retrieving document from  https://arxiv.org/e-print/2211.00666\n"
     ]
    },
    {
     "name": "stdout",
     "output_type": "stream",
     "text": [
      "extracting tarball to tmp_2211.00666..."
     ]
    },
    {
     "name": "stdout",
     "output_type": "stream",
     "text": [
      " done.\n",
      "Retrieving document from  https://arxiv.org/e-print/2211.00667\n"
     ]
    },
    {
     "name": "stdout",
     "output_type": "stream",
     "text": [
      "extracting tarball to tmp_2211.00667..."
     ]
    },
    {
     "name": "stdout",
     "output_type": "stream",
     "text": [
      " done.\n"
     ]
    },
    {
     "name": "stdout",
     "output_type": "stream",
     "text": [
      "Retrieving document from  https://arxiv.org/e-print/2211.00672\n"
     ]
    },
    {
     "name": "stdout",
     "output_type": "stream",
     "text": [
      "extracting tarball to tmp_2211.00672..."
     ]
    },
    {
     "name": "stdout",
     "output_type": "stream",
     "text": [
      " done.\n",
      "Retrieving document from  https://arxiv.org/e-print/2211.00674\n"
     ]
    },
    {
     "name": "stdout",
     "output_type": "stream",
     "text": [
      "extracting tarball to tmp_2211.00674... done.\n",
      "Retrieving document from  https://arxiv.org/e-print/2211.00677\n"
     ]
    },
    {
     "name": "stdout",
     "output_type": "stream",
     "text": [
      "extracting tarball to tmp_2211.00677..."
     ]
    },
    {
     "name": "stdout",
     "output_type": "stream",
     "text": [
      " done.\n",
      "Retrieving document from  https://arxiv.org/e-print/2211.00690\n"
     ]
    },
    {
     "name": "stdout",
     "output_type": "stream",
     "text": [
      "extracting tarball to tmp_2211.00690..."
     ]
    },
    {
     "name": "stdout",
     "output_type": "stream",
     "text": [
      " done.\n",
      "Retrieving document from  https://arxiv.org/e-print/2211.00702\n"
     ]
    },
    {
     "name": "stdout",
     "output_type": "stream",
     "text": [
      "extracting tarball to tmp_2211.00702..."
     ]
    },
    {
     "name": "stdout",
     "output_type": "stream",
     "text": [
      " done.\n",
      "Retrieving document from  https://arxiv.org/e-print/2211.00703\n"
     ]
    },
    {
     "name": "stderr",
     "output_type": "stream",
     "text": [
      "/opt/hostedtoolcache/Python/3.9.15/x64/lib/python3.9/site-packages/IPython/core/interactiveshell.py:3433: LatexWarning: Multiple tex files.\n",
      "\n",
      "  exec(code_obj, self.user_global_ns, self.user_ns)\n",
      "/opt/hostedtoolcache/Python/3.9.15/x64/lib/python3.9/site-packages/IPython/core/interactiveshell.py:3433: LatexWarning: Found documentclass in tmp_2211.00702/main_arxiv.tex\n",
      "\n",
      "  exec(code_obj, self.user_global_ns, self.user_ns)\n"
     ]
    },
    {
     "name": "stdout",
     "output_type": "stream",
     "text": [
      "extracting tarball to tmp_2211.00703..."
     ]
    },
    {
     "name": "stdout",
     "output_type": "stream",
     "text": [
      " done.\n",
      "Retrieving document from  https://arxiv.org/e-print/2211.00721\n"
     ]
    },
    {
     "name": "stderr",
     "output_type": "stream",
     "text": [
      "/opt/hostedtoolcache/Python/3.9.15/x64/lib/python3.9/site-packages/IPython/core/interactiveshell.py:3433: LatexWarning: Multiple tex files.\n",
      "\n",
      "  exec(code_obj, self.user_global_ns, self.user_ns)\n",
      "/opt/hostedtoolcache/Python/3.9.15/x64/lib/python3.9/site-packages/IPython/core/interactiveshell.py:3433: LatexWarning: Found documentclass in tmp_2211.00703/main.tex\n",
      "\n",
      "  exec(code_obj, self.user_global_ns, self.user_ns)\n",
      "/opt/hostedtoolcache/Python/3.9.15/x64/lib/python3.9/site-packages/arxiv_on_deck_2/latex.py:292: LatexWarning: Latex injecting: 'tables/pl_param' from 'tmp_2211.00703/tables/pl_param.tex'\n",
      "  warnings.warn(LatexWarning(f\"Latex injecting: '{ext}' from '{subsource}'\"))\n",
      "/opt/hostedtoolcache/Python/3.9.15/x64/lib/python3.9/site-packages/arxiv_on_deck_2/latex.py:292: LatexWarning: Latex injecting: 'tables/st_param' from 'tmp_2211.00703/tables/st_param.tex'\n",
      "  warnings.warn(LatexWarning(f\"Latex injecting: '{ext}' from '{subsource}'\"))\n"
     ]
    },
    {
     "name": "stdout",
     "output_type": "stream",
     "text": [
      "extracting tarball to tmp_2211.00721..."
     ]
    },
    {
     "name": "stdout",
     "output_type": "stream",
     "text": [
      " done.\n",
      "Retrieving document from  https://arxiv.org/e-print/2211.00770\n"
     ]
    },
    {
     "name": "stdout",
     "output_type": "stream",
     "text": [
      "extracting tarball to tmp_2211.00770..."
     ]
    },
    {
     "name": "stdout",
     "output_type": "stream",
     "text": [
      " done.\n",
      "Retrieving document from  https://arxiv.org/e-print/2211.00793\n"
     ]
    },
    {
     "name": "stdout",
     "output_type": "stream",
     "text": [
      "extracting tarball to tmp_2211.00793..."
     ]
    },
    {
     "name": "stdout",
     "output_type": "stream",
     "text": [
      " done.\n",
      "Retrieving document from  https://arxiv.org/e-print/2211.00810\n"
     ]
    },
    {
     "name": "stdout",
     "output_type": "stream",
     "text": [
      "extracting tarball to tmp_2211.00810..."
     ]
    },
    {
     "name": "stdout",
     "output_type": "stream",
     "text": [
      " done.\n",
      "Retrieving document from  https://arxiv.org/e-print/2211.01044\n"
     ]
    },
    {
     "name": "stdout",
     "output_type": "stream",
     "text": [
      "extracting tarball to tmp_2211.01044..."
     ]
    },
    {
     "name": "stdout",
     "output_type": "stream",
     "text": [
      " done.\n",
      "Retrieving document from  https://arxiv.org/e-print/2211.01067\n"
     ]
    },
    {
     "name": "stderr",
     "output_type": "stream",
     "text": [
      "/tmp/ipykernel_2267/4030337529.py:34: LatexWarning: 2211.01067 did not run properly\n",
      "not a gzip file\n",
      "  warnings.warn(latex.LatexWarning(f\"{paper_id:s} did not run properly\\n\" +\n"
     ]
    },
    {
     "name": "stdout",
     "output_type": "stream",
     "text": [
      "Retrieving document from  https://arxiv.org/e-print/2211.01172\n"
     ]
    },
    {
     "name": "stdout",
     "output_type": "stream",
     "text": [
      "extracting tarball to tmp_2211.01172... done.\n",
      "Retrieving document from  https://arxiv.org/e-print/2211.01232\n"
     ]
    },
    {
     "name": "stdout",
     "output_type": "stream",
     "text": [
      "extracting tarball to tmp_2211.01232..."
     ]
    },
    {
     "name": "stdout",
     "output_type": "stream",
     "text": [
      " done.\n"
     ]
    }
   ],
   "source": [
    "documents = []\n",
    "failed = []\n",
    "for paper in tqdm(candidates[:-1]):\n",
    "    paper_id = paper['identifier'].lower().replace('arxiv:', '')\n",
    "    \n",
    "    folder = f'tmp_{paper_id}'\n",
    "\n",
    "    try:\n",
    "        if not os.path.isdir(folder):\n",
    "            folder = retrieve_document_source(f\"{paper_id}\", f'tmp_{paper_id}')\n",
    "        \n",
    "        try:\n",
    "            doc = latex.LatexDocument(folder, validation=validation)    \n",
    "        except AffiliationError as affilerror:\n",
    "            msg = f\"ArXiv:{paper_id:s} is not an MPIA paper... \" + str(affilerror)\n",
    "            failed.append((paper, \"affiliation error: \" + str(affilerror) ))\n",
    "            continue\n",
    "        \n",
    "        # Hack because sometimes author parsing does not work well\n",
    "        if (len(doc.authors) != len(paper['authors'])):\n",
    "            doc._authors = paper['authors']\n",
    "        if (doc.abstract) in (None, ''):\n",
    "            doc._abstract = paper['abstract']\n",
    "            \n",
    "        doc.comment = (get_markdown_badge(paper_id) + \n",
    "                       \"<mark>Appeared on: \" + paper['date'] + \"</mark> - \" +\n",
    "                       \"_\" + paper['comments'] + \"_\")\n",
    "        doc.highlight_authors_in_list(hl_list)\n",
    "\n",
    "        full_md = doc.generate_markdown_text()\n",
    "        \n",
    "        documents.append((paper_id, full_md))\n",
    "    except Exception as e:\n",
    "        warnings.warn(latex.LatexWarning(f\"{paper_id:s} did not run properly\\n\" +\n",
    "                                         str(e)\n",
    "                                        ))\n",
    "        failed.append((paper, \"latex error \" + str(e)))"
   ]
  },
  {
   "cell_type": "markdown",
   "id": "2505a25c",
   "metadata": {
    "papermill": {
     "duration": 0.006303,
     "end_time": "2022-11-03T04:33:47.126360",
     "exception": false,
     "start_time": "2022-11-03T04:33:47.120057",
     "status": "completed"
    },
    "tags": []
   },
   "source": [
    "### Export the logs\n",
    "\n",
    "Throughout, we also keep track of the logs per paper. see `logs-{today date}.md` "
   ]
  },
  {
   "cell_type": "code",
   "execution_count": 6,
   "id": "d733828a",
   "metadata": {
    "execution": {
     "iopub.execute_input": "2022-11-03T04:33:47.140755Z",
     "iopub.status.busy": "2022-11-03T04:33:47.140085Z",
     "iopub.status.idle": "2022-11-03T04:33:47.174329Z",
     "shell.execute_reply": "2022-11-03T04:33:47.173674Z"
    },
    "papermill": {
     "duration": 0.043394,
     "end_time": "2022-11-03T04:33:47.175885",
     "exception": false,
     "start_time": "2022-11-03T04:33:47.132491",
     "status": "completed"
    },
    "scrolled": false,
    "tags": []
   },
   "outputs": [
    {
     "data": {
      "text/markdown": [
       "## Successful papers"
      ],
      "text/plain": [
       "<IPython.core.display.Markdown object>"
      ]
     },
     "metadata": {},
     "output_type": "display_data"
    },
    {
     "data": {
      "text/markdown": [
       "\n",
       "|||\n",
       "|---:|:---|\n",
       "| [![arXiv](https://img.shields.io/badge/arXiv-arXiv:2211.00657-b31b1b.svg)](https://arxiv.org/abs/arXiv:2211.00657) | **The Close AGN Reference Survey (CARS). A parsec scale multi-phase  outflow in the super-Eddington NLS1 Mrk 1044**  |\n",
       "|| <mark>Nico Winkel</mark>, et al. -- incl., <mark>Knud Jahnke</mark>, <mark>Miguel A. Pérez-Torres</mark> |\n",
       "|*Appeared on*| *2022-11-03*|\n",
       "|*Comments*| *17 pages. 12 figures. Re-submitted to A&A after minor revision. Comments welcome*|\n",
       "|**Abstract**| The interaction between Active Galactic Nuclei (AGN) and their host galaxies is scarcely resolved. Narrow-line Seyfert 1 (NLS1) galaxies are believed to represent AGN at early stages of their evolution and allow to observe AGN feeding and feedback processes at high accretion rates. We apply a spectroastrometric analysis to VLT MUSE NFM-AO observations of Mrk 1044, a nearby super-Eddington accreting NLS1. This allows us to map two ionised gas outflows traced by [O$\\,$III] which have velocities of $-560\\pm20\\,{\\rm km\\:s}^{-1}$ and $-144 \\pm 5 \\,{\\rm km\\:s}^{-1}$. Both outflows are spatially unresolved and located close to the galaxy nucleus ($<1\\,{\\rm pc}$). They have gas densities higher than $10^5\\,{\\rm cm}^{-3}$, which implies that the BPT diagnostic cannot be used to constrain the underlying ionisation mechanism. We explore whether an expanding shell model can describe the velocity structure of Mrk 1044's unresolved multi-phase outflow. A kinematic analysis suggests that significant turbulence may be present in the ISM around the nucleus, which may lead to a condensation rain, potentially explaining the efficient feeding of Mrk 1044's AGN. We identify an additional ionised gas outflowing component that is spatially resolved. It has a velocity of $-211 \\pm 22 \\,{\\rm km\\:s}^{-1}$ and a projected size of $4.6 \\pm 0.6 \\,{\\rm pc}$. Within the innermost 0.5\" (160$\\,{\\rm pc}$) around the nucleus we detect modest star formation hidden by the beam-smeared emission from the outflow, which suggests that Mrk 1044's AGN phase set on recently. We estimate that the multi-phase outflow has been launched $<10^4 \\,{\\rm yrs}$ ago. It carries enough mass and energy to impact the host galaxy star formation on different spatial scales, highlighting the complexity of the AGN feeding and feedback cycle in its early stages. |"
      ],
      "text/plain": [
       "[arXiv:2211.00657] The Close AGN Reference Survey (CARS). A parsec scale multi-phase  outflow in the super-Eddington NLS1 Mrk 1044\n",
       "\t<mark>Nico Winkel</mark>, et al. -- incl., <mark>Knud Jahnke</mark>, <mark>Miguel A. Pérez-Torres</mark>"
      ]
     },
     "metadata": {},
     "output_type": "display_data"
    },
    {
     "data": {
      "text/markdown": [
       "\n",
       "|||\n",
       "|---:|:---|\n",
       "| [![arXiv](https://img.shields.io/badge/arXiv-arXiv:2211.00667-b31b1b.svg)](https://arxiv.org/abs/arXiv:2211.00667) | **HD 191939 revisited: New and refined planet mass determinations, and a  new planet in the habitable zone**  |\n",
       "|| J. Orell-Miquel, et al. -- incl., <mark>J. Livingston</mark> |\n",
       "|*Appeared on*| *2022-11-03*|\n",
       "|*Comments*| *Accepted for publication in A&A. 20 pages, 8 figures*|\n",
       "|**Abstract**| HD 191939 (TOI-1339) is a nearby (d=54pc), bright (V=9mag), and inactive Sun-like star (G9 V) known to host a multi-planet transiting system. Ground-based spectroscopic observations confirmed the planetary nature of the three transiting sub-Neptunes (HD 191939 b, c, and d) originally detected by TESS and were used to measure the masses for planets b and c with 3$\\sigma$ precision. These previous observations also reported the discovery of an additional Saturn-mass planet (HD 191939 e) and evidence for a further, very long-period companion (HD 191939 f). Here, we report the discovery of a new non-transiting planet in the system and a refined mass determination of HD 191939 d. The new planet, HD 191939 g, has a minimum mass of 13.5$\\pm$2.0 M$_\\oplus$ and a period of about 280 d. This period places the planet within the conservative habitable zone of the host star, and near a 1:3 resonance with HD 191939 e. The compilation of 362 radial velocity measurements with a baseline of 677 days from four different high-resolution spectrographs also allowed us to refine the properties of the previously known planets, including a 4.6$\\sigma$ mass determination for planet d, for which only a 2$\\sigma$ upper limit had been set until now. We confirm the previously suspected low density of HD 191939 d, which makes it an attractive target for attempting atmospheric characterisation. Overall, the planetary system consists of three sub-Neptunes interior to a Saturn-mass and a Uranus-mass planet plus a high-mass long-period companion. This particular configuration has no counterpart in the literature and makes HD 191939 an exceptional multi-planet transiting system with an unusual planet demographic worthy of future observation. |"
      ],
      "text/plain": [
       "[arXiv:2211.00667] HD 191939 revisited: New and refined planet mass determinations, and a  new planet in the habitable zone\n",
       "\tJ. Orell-Miquel, et al. -- incl., <mark>J. Livingston</mark>"
      ]
     },
     "metadata": {},
     "output_type": "display_data"
    },
    {
     "data": {
      "text/markdown": [
       "## Failed papers"
      ],
      "text/plain": [
       "<IPython.core.display.Markdown object>"
      ]
     },
     "metadata": {},
     "output_type": "display_data"
    },
    {
     "data": {
      "text/markdown": [
       "\n",
       "|||\n",
       "|---:|:---|\n",
       "| [![arXiv](https://img.shields.io/badge/arXiv-arXiv:2211.00793-b31b1b.svg)](https://arxiv.org/abs/arXiv:2211.00793) | **ALMA Observations for CO Emission from Luminous Lyman-break Galaxies at  $z=6.0293$-$6.2037$**  |\n",
       "|| Yoshiaki Ono, et al. -- incl., <mark>Livia Vallini</mark>, <mark>Chien-Hsiu Lee</mark> |\n",
       "|*Appeared on*| *2022-11-03*|\n",
       "|*Comments*| *33 pages, 12 figures, accepted for publication in ApJ*|\n",
       "|**Abstract**| We present our new Atacama Large Millimeter/submillimeter Array (ALMA) observations targeting CO(6-5) emission from three luminous Lyman break galaxies (LBGs) at $z_{\\rm spec} = 6.0293$-$6.2037$ found in the Subaru/Hyper Suprime-Cam survey, whose [OIII]$88\\mu$m and [CII]$158\\mu$m emission have been detected with ALMA. We find a marginal detection of the CO(6-5) line from one of our LBGs, J0235-0532, at the $\\simeq 4 \\sigma$ significance level and obtain upper limits for the other two LBGs, J1211-0118 and J0217-0208. Our $z=6$ luminous LBGs are consistent with the previously found correlation between the CO luminosity and the infrared luminosity. The unique ensemble of the multiple far-infrared emission lines and underlying continuum fed to a photodissociation region model reveal that J0235-0532 has a relatively high hydrogen nucleus density that is comparable to those of low-$z$ (U)LIRGs, quasars, and Galactic star-forming regions with high $n_{\\rm H}$ values, while the other two LBGs have lower $n_{\\rm H}$ consistent with local star-forming galaxies. By carefully taking account of various uncertainties, we obtain total gas mass and gas surface density constraints from their CO luminosity measurements. We find that J0235-0532 locates below the Kennicutt-Schmidt (KS) relation, comparable to the previously CO(2-1) detected $z=5.7$ LBG, HZ10. Combined with previous results for dusty starbursts at similar redshifts, the KS relation at $z=5$-$6$ is on average consistent with the local one. |\n",
       "|<p style=\"color:green\"> **ERROR** </p>| <p style=\"color:green\">affiliation error: mpia.affiliation_verifications: '69117' keyword not found.</p> |"
      ],
      "text/plain": [
       "<IPython.core.display.Markdown object>"
      ]
     },
     "metadata": {},
     "output_type": "display_data"
    },
    {
     "data": {
      "text/markdown": [
       "\n",
       "|||\n",
       "|---:|:---|\n",
       "| [![arXiv](https://img.shields.io/badge/arXiv-arXiv:2211.00649-b31b1b.svg)](https://arxiv.org/abs/arXiv:2211.00649) | **Exploring the Ability of HST WFC3 G141 to Uncover Trends in Populations  of Exoplanet Atmospheres Through a Homogeneous Transmission Survey of 70  Gaseous Planets**  |\n",
       "|| Billy Edwards, et al. -- incl., <mark>Lara Anisman</mark>, <mark>Jeroen Bouwman</mark> |\n",
       "|*Appeared on*| *2022-11-03*|\n",
       "|*Comments*| *Accepted for publication in ApJS*|\n",
       "|**Abstract**| We present the analysis of the atmospheres of 70 gaseous extrasolar planets via transit spectroscopy with Hubble's Wide Field Camera 3 (WFC3). For over half of these, we statistically detect spectral modulation which our retrievals attribute to molecular species. Among these, we use Bayesian Hierarchical Modelling to search for chemical trends with bulk parameters. We use the extracted water abundance to infer the atmospheric metallicity and compare it to the planet's mass. We also run chemical equilibrium retrievals, fitting for the atmospheric metallicity directly. However, although previous studies have found evidence of a mass-metallicity trend, we find no such relation within our data. For the hotter planets within our sample, we find evidence for thermal dissociation of dihydrogen and water via the H$^-$ opacity. We suggest that the general lack of trends seen across this population study could be due to i) the insufficient spectral coverage offered by HST WFC3 G141, ii) the lack of a simple trend across the whole population, iii) the essentially random nature of the target selection for this study or iv) a combination of all the above. We set out how we can learn from this vast dataset going forward in an attempt to ensure comparative planetology can be undertaken in the future with facilities such as JWST, Twinkle and Ariel. We conclude that a wider simultaneous spectral coverage is required as well as a more structured approach to target selection. |\n",
       "|<p style=\"color:green\"> **ERROR** </p>| <p style=\"color:green\">affiliation error: mpia.affiliation_verifications: 'Heidelberg' keyword not found.</p> |"
      ],
      "text/plain": [
       "<IPython.core.display.Markdown object>"
      ]
     },
     "metadata": {},
     "output_type": "display_data"
    },
    {
     "data": {
      "text/markdown": [
       "\n",
       "|||\n",
       "|---:|:---|\n",
       "| [![arXiv](https://img.shields.io/badge/arXiv-arXiv:2211.00650-b31b1b.svg)](https://arxiv.org/abs/arXiv:2211.00650) | **Chromosome maps of Globular Clusters from wide-field ground-based  photometry**  |\n",
       "|| S. Jang, et al. -- incl., <mark>Y.-W. Lee</mark> |\n",
       "|*Appeared on*| *2022-11-03*|\n",
       "|*Comments*| *19 pages, 15 figures*|\n",
       "|**Abstract**| Hubble Space Telescope (HST) photometry is providing an extensive analysis of globular clusters (GCs). In particular, the pseudo two-colour diagram dubbed 'chromosome map (ChM)' allowed to detect and characterize their multiple populations with unprecedented detail. The main limitation of these studies is the small field of view of HST, which makes it challenging to investigate some important aspects of the multiple populations, such as their spatial distributions and the internal kinematics in the outermost cluster regions. To overcome this limitation, we analyse state-of-art wide-field photometry of 43 GCs obtained from ground-based facilities. We derived high-resolution reddening maps and corrected the photometry for differential reddening when needed. We use photometry in the U, B, and I bands to introduce the $\\Delta c_{\\rm U,B,I}$ vs. $\\Delta_{\\rm B,I}$ ChM of red-giant branch (RGB) and asymptotic-giant branch (AGB) stars. We demonstrate that this ChM, which is built with wide-band ground-based photometry, is an efficient tool to identify first- and second-generation stars (1G and 2G) over a wide field of view. To illustrate its potential, we derive the radial distribution of multiple populations in NGC 288 and infer their chemical composition. We present the ChMs of RGB stars in 29 GCs and detect a significant degree of variety. The fraction of 1G and 2G stars, the number of subpopulations, and the extension of the ChMs significantly change from one cluster to another. Moreover, the metal-poor and metal-rich stars of Type II GCs define distinct sequences in the ChM. We confirm the presence of extended 1G sequences. |\n",
       "|<p style=\"color:green\"> **ERROR** </p>| <p style=\"color:green\">affiliation error: mpia.affiliation_verifications: 'Heidelberg' keyword not found.</p> |"
      ],
      "text/plain": [
       "<IPython.core.display.Markdown object>"
      ]
     },
     "metadata": {},
     "output_type": "display_data"
    },
    {
     "data": {
      "text/markdown": [
       "\n",
       "|||\n",
       "|---:|:---|\n",
       "| [![arXiv](https://img.shields.io/badge/arXiv-arXiv:2211.00656-b31b1b.svg)](https://arxiv.org/abs/arXiv:2211.00656) | **SN Zwicky: uncovering a population of gravitational lens galaxies with  magnified \"standard candles\"**  |\n",
       "|| Ariel Goobar, et al. -- incl., <mark>Lin Yan</mark>, <mark>Remy Joseph</mark>, <mark>Yashvi Sharma</mark> |\n",
       "|*Appeared on*| *2022-11-03*|\n",
       "|*Comments*| **|\n",
       "|**Abstract**| We report the discovery of a very rare phenomenon, a multiply-imaged gravitationally lensed Type Ia supernova (SNe Ia), \"SN Zwicky\", a.k.a. SN 2022qmx, magnified nearly twenty-five times by a foreground galaxy. The system was identified as intrinsically bright thanks to the \"standard candle\" nature of SNe Ia. Observations with high-spatial resolution instruments resolved a system with four nearly simultaneous images, with an Einstein radius of only $\\theta_E =0.167\"$, corresponding to a lens mass of $8\\cdot 10^9$ solar masses within a physical size below $0.8$ kiloparsecs. A smooth lens model fails to reproduce the image flux ratios, suggesting significant additional magnification from compact objects. Given the small image splitting and a relatively faint deflecting galaxy, the lensing system would not have been found through the angular separation technique generally used in large imaging surveys. |\n",
       "|<p style=\"color:green\"> **ERROR** </p>| <p style=\"color:green\">affiliation error: mpia.affiliation_verifications: 'Heidelberg' keyword not found.</p> |"
      ],
      "text/plain": [
       "<IPython.core.display.Markdown object>"
      ]
     },
     "metadata": {},
     "output_type": "display_data"
    },
    {
     "data": {
      "text/markdown": [
       "\n",
       "|||\n",
       "|---:|:---|\n",
       "| [![arXiv](https://img.shields.io/badge/arXiv-arXiv:2211.00666-b31b1b.svg)](https://arxiv.org/abs/arXiv:2211.00666) | **A ~200 pc-sized core of Milky Way dark matter halo constrained from the  OGLE micro-lensing sky map**  |\n",
       "|| <mark>Shu-Rui Lin</mark>, et al. -- incl., <mark>Qi Guo</mark>, <mark>Qinxun Li</mark> |\n",
       "|*Appeared on*| *2022-11-03*|\n",
       "|*Comments*| *10 pages, 2 figures*|\n",
       "|**Abstract**| We report the detection of a 219 $^{+10}_{-28}$ pc-sized dark matter core structure in the center of Milky Way at one sigma level by using the micro-lensing event rate sky map data from the Optical Gravitational Lensing Experiment (OGLE) survey. For the first time, we apply the spacial information of the micro-lensing sky map and model it with the detailed Milky Way structure, the Mini Dark Matter Structure (MDMS) fraction ($f_{\\rm MDMS}=\\Omega_{\\rm MDMS}/\\Omega_{\\rm DM}$) and the core size.We find that this sky map can constrain both $f_{\\rm MDMS}$ and the core size simultaneously without strong degeneracy.This discovery provides not only guidance for dark matter particle models, such as self-interacting dark matter (SIDM), but also the baryonic physics of Milky Way. |\n",
       "|<p style=\"color:green\"> **ERROR** </p>| <p style=\"color:green\">affiliation error: mpia.affiliation_verifications: 'Heidelberg' keyword not found.</p> |"
      ],
      "text/plain": [
       "<IPython.core.display.Markdown object>"
      ]
     },
     "metadata": {},
     "output_type": "display_data"
    },
    {
     "data": {
      "text/markdown": [
       "\n",
       "|||\n",
       "|---:|:---|\n",
       "| [![arXiv](https://img.shields.io/badge/arXiv-arXiv:2211.00672-b31b1b.svg)](https://arxiv.org/abs/arXiv:2211.00672) | **A Systematic Comparison of Galaxy Cluster Temperatures Measured with  NuSTAR and Chandra**  |\n",
       "|| A. N. Wallbank, et al. -- incl., <mark>C. Potter</mark> |\n",
       "|*Appeared on*| *2022-11-03*|\n",
       "|*Comments*| *12 pages plus appendices. Accepted for publication in MNRAS*|\n",
       "|**Abstract**| Temperature measurements of galaxy clusters are used to determine their masses, which in turn are used to determine cosmological parameters. However, systematic differences between the temperatures measured by different telescopes imply a significant source of systematic uncertainty on such mass estimates. We perform the first systematic comparison between cluster temperatures measured with Chandra and NuSTAR. This provides a useful contribution to the effort of cross-calibrating cluster temperatures due to the harder response of NuSTAR compared with most other observatories. We measure average temperatures for 8 clusters observed with NuSTAR and Chandra. We fit the NuSTAR spectra in a hard (3-10 keV) energy band, and the Chandra spectra in both the hard and a broad (0.6-9 keV) band. We fit a power-law cross-calibration model to the resulting temperatures. At a Chandra temperature of 10 keV, the average NuSTAR temperature was $(10.5 \\pm 3.7)\\%$ and $(15.7 \\pm 4.6)\\%$ lower than Chandra for the broad and hard band fits respectively. We explored the impact of systematics from background modelling and multiphase temperature structure of the clusters, and found that these did not affect our results. Our sample are primarily merging clusters with complex thermal structures so are not ideal calibration targets. However, given the harder response of NuSTAR it would be expected to measure a higher average temperature than Chandra for a non-isothermal cluster, so we interpret our measurement as a lower limit on the difference in temperatures between NuSTAR and Chandra. |\n",
       "|<p style=\"color:green\"> **ERROR** </p>| <p style=\"color:green\">affiliation error: mpia.affiliation_verifications: 'Heidelberg' keyword not found.</p> |"
      ],
      "text/plain": [
       "<IPython.core.display.Markdown object>"
      ]
     },
     "metadata": {},
     "output_type": "display_data"
    },
    {
     "data": {
      "text/markdown": [
       "\n",
       "|||\n",
       "|---:|:---|\n",
       "| [![arXiv](https://img.shields.io/badge/arXiv-arXiv:2211.00677-b31b1b.svg)](https://arxiv.org/abs/arXiv:2211.00677) | **Semi-Supervised Domain Adaptation for Cross-Survey Galaxy Morphology  Classification and Anomaly Detection**  |\n",
       "|| Aleksandra Ćiprijanović, et al. -- incl., <mark>Ashia Lewis</mark> |\n",
       "|*Appeared on*| *2022-11-03*|\n",
       "|*Comments*| *3 figures, 1 table; accepted to Machine Learning and the Physical Sciences - Workshop at the 36th conference on Neural Information Processing Systems (NeurIPS)*|\n",
       "|**Abstract**| In the era of big astronomical surveys, our ability to leverage artificial intelligence algorithms simultaneously for multiple datasets will open new avenues for scientific discovery. Unfortunately, simply training a deep neural network on images from one data domain often leads to very poor performance on any other dataset. Here we develop a Universal Domain Adaptation method DeepAstroUDA, capable of performing semi-supervised domain alignment that can be applied to datasets with different types of class overlap. Extra classes can be present in any of the two datasets, and the method can even be used in the presence of unknown classes. For the first time, we demonstrate the successful use of domain adaptation on two very different observational datasets (from SDSS and DECaLS). We show that our method is capable of bridging the gap between two astronomical surveys, and also performs well for anomaly detection and clustering of unknown data in the unlabeled dataset. We apply our model to two examples of galaxy morphology classification tasks with anomaly detection: 1) classifying spiral and elliptical galaxies with detection of merging galaxies (three classes including one unknown anomaly class); 2) a more granular problem where the classes describe more detailed morphological properties of galaxies, with the detection of gravitational lenses (ten classes including one unknown anomaly class). |\n",
       "|<p style=\"color:green\"> **ERROR** </p>| <p style=\"color:green\">affiliation error: mpia.affiliation_verifications: 'Heidelberg' keyword not found.</p> |"
      ],
      "text/plain": [
       "<IPython.core.display.Markdown object>"
      ]
     },
     "metadata": {},
     "output_type": "display_data"
    },
    {
     "data": {
      "text/markdown": [
       "\n",
       "|||\n",
       "|---:|:---|\n",
       "| [![arXiv](https://img.shields.io/badge/arXiv-arXiv:2211.00690-b31b1b.svg)](https://arxiv.org/abs/arXiv:2211.00690) | **Proton and Helium Heating by Cascading Turbulence in a Low-beta Plasma**  |\n",
       "|| <mark>Zhaodong Shi</mark>, P. A. Muñoz, J. Büchner, <mark>Siming Liu</mark> |\n",
       "|*Appeared on*| *2022-11-03*|\n",
       "|*Comments*| *accepted by ApJ*|\n",
       "|**Abstract**| How ions are energized and heated is a fundamental problem in the study of energy dissipation in magnetized plasmas. In particular, the heating of heavy ions (including ${}^{4}\\mathrm{He}^{2+}$, ${}^{3}\\mathrm{He}^{2+}$ and others) has been a constant concern for understanding the microphysics of impulsive solar flares. In this article, via two-dimensional hybrid-kinetic Particle-in-Cell simulations, we study the heating of Helium ions (${}^{4}\\mathrm{He}^{2+}$) by turbulence driven by cascading waves launched at large scales from the left-handed polarized Helium ion cyclotron wave branch of a multi-ion plasma composed of electrons, protons, and Helium ions. We find significant parallel (to the background magnetic field) heating for both Helium ions and protons due to the formation of beams and plateaus in their velocity distribution functions along the background magnetic field. The heating of Helium ions in the direction perpendicular to the magnetic field starts with a lower rate than that in the parallel direction, but overtakes the parallel heating after a few hundreds of the proton gyro-periods due to cyclotron resonances with mainly obliquely propagating waves induced by the cascade of injected Helium ion cyclotron waves at large scales. There is however little evidence for proton heating in the perpendicular direction due to the absence of left-handed polarized cyclotron waves near the proton cyclotron frequency. Our results are useful for understanding the preferential heating of ${}^{3}\\mathrm{He}$ and other heavy ions in the ${}^{3}\\mathrm{He}$-rich solar energetic particle events, in which Helium ions play a crucial role as a species of background ions regulating the kinetic plasma behavior. |\n",
       "|<p style=\"color:green\"> **ERROR** </p>| <p style=\"color:green\">affiliation error: mpia.affiliation_verifications: 'Heidelberg' keyword not found.</p> |"
      ],
      "text/plain": [
       "<IPython.core.display.Markdown object>"
      ]
     },
     "metadata": {},
     "output_type": "display_data"
    },
    {
     "data": {
      "text/markdown": [
       "\n",
       "|||\n",
       "|---:|:---|\n",
       "| [![arXiv](https://img.shields.io/badge/arXiv-arXiv:2211.00702-b31b1b.svg)](https://arxiv.org/abs/arXiv:2211.00702) | **Importance of Sample Selection in Exoplanet Atmosphere Population  Studies**  |\n",
       "|| Natasha E. Batalha, et al. -- incl., <mark>Lili Alderson</mark> |\n",
       "|*Appeared on*| *2022-11-03*|\n",
       "|*Comments*| *16 pages, 7 figures, accepted ApJ*|\n",
       "|**Abstract**| Understanding planet formation requires robust population studies, which are designed to reveal trends in planet properties. In this work, we aim to determine if different methods for selecting populations of exoplanets for atmospheric characterization with JWST could influence population-level inferences. We generate three hypothetical surveys of super-Earths/sub-Neptunes, each spanning a similar radius-insolation flux space. The survey samples are constructed based on three different selection criteria (evenly-spaced-by-eye, binned, and a quantitative selection function). Using an injection-recovery technique, we test how robustly individual-planet atmospheric parameters and population-level parameters can be retrieved. We find that all three survey designs result in equally suitable targets for individual atmospheric characterization, but not equally suitable targets for constraining population parameters. Only samples constructed with a quantitative method or that are sufficiently evenly-spaced-by-eye result in robust population parameter constraints. Furthermore, we find that the sample with the best targets for individual atmospheric study does not necessarily result in the best constrained population parameters. The method of sample selection must be considered. We also find that there may be large variability in population-level results with a sample that is small enough to fit in a single JWST cycle ($\\sim$12 planets), suggesting that the most successful population-level analyses will be multi-cycle. Lastly, we infer that our exploration of sample selection is limited by the small number of transiting planets with measured masses around bright stars. Our results can guide future development of programs that aim to determine underlying trends in exoplanet atmospheric properties and, by extension, formation and evolution processes. |\n",
       "|<p style=\"color:green\"> **ERROR** </p>| <p style=\"color:green\">affiliation error: mpia.affiliation_verifications: 'Heidelberg' keyword not found.</p> |"
      ],
      "text/plain": [
       "<IPython.core.display.Markdown object>"
      ]
     },
     "metadata": {},
     "output_type": "display_data"
    },
    {
     "data": {
      "text/markdown": [
       "\n",
       "|||\n",
       "|---:|:---|\n",
       "| [![arXiv](https://img.shields.io/badge/arXiv-arXiv:2211.00703-b31b1b.svg)](https://arxiv.org/abs/arXiv:2211.00703) | **Refining the Masses and Radii of the Star Kepler-33 and its Five  Transiting Planets**  |\n",
       "|| James Sikora, Jason Rowe, Daniel Jontof-Hutter, <mark>Jack J. Lissauer</mark> |\n",
       "|*Appeared on*| *2022-11-03*|\n",
       "|*Comments*| *15 pages, 11 figures, accepted for publication in AJ*|\n",
       "|**Abstract**| Kepler-33 hosts five validated transiting planets ranging in period from 5 to 41 days. The planets are in nearly co-planar orbits and exhibit remarkably similar (appropriately scaled) transit durations indicative of similar impact parameters. The outer three planets have radii of $3.5\\lesssim R_{\\rm p}/R_\\oplus\\lesssim4.7$ and are closely-packed dynamically, and thus transit timing variations can be observed. Photodynamical analysis of transit timing variations provide $2\\sigma$ upper bounds on the eccentricity of the orbiting planets (ranging from $<0.02$ to $<0.2$) and the mean density of the host-star ($0.39_{-0.02}^{+0.01}\\,{\\rm g/cm^3}$). We combine \\emph{Gaia} Early Data Release 3 parallax observations, the previously reported host-star effective temperature and metallicity, and our photodynamical model to refine properties of the host-star and the transiting planets. Our analysis yields well-constrained masses for Kepler-33~e ($6.6_{-1.0}^{+1.1}\\,M_\\oplus$) and f ($8.2_{-1.2}^{+1.6}\\,M_\\oplus$) along with $2\\sigma$ upper limits for planets c ($<19\\,M_\\oplus$) and d ($<8.2\\,M_\\oplus$). We confirm the reported low bulk densities of planet d ($<0.4\\,{\\rm g/cm^3}$), e ($0.8\\pm0.1\\,{\\rm g/cm^3}$), and f ($0.7\\pm0.1\\,{\\rm g/cm^3}$). Based on comparisons with planetary evolution models, we find that Kepler-33~e and f exhibit relatively high envelope mass fractions of $f_{\\rm env}=7.0_{-0.5}^{+0.6}\\%$ and $f_{\\rm env}=10.3\\pm0.6\\%$, respectively. Assuming a mass for planet d $\\sim4\\,M_\\oplus$ suggests that it has $f_{\\rm env}\\gtrsim12\\%$. |\n",
       "|<p style=\"color:green\"> **ERROR** </p>| <p style=\"color:green\">affiliation error: mpia.affiliation_verifications: 'Heidelberg' keyword not found.</p> |"
      ],
      "text/plain": [
       "<IPython.core.display.Markdown object>"
      ]
     },
     "metadata": {},
     "output_type": "display_data"
    },
    {
     "data": {
      "text/markdown": [
       "\n",
       "|||\n",
       "|---:|:---|\n",
       "| [![arXiv](https://img.shields.io/badge/arXiv-arXiv:2211.00721-b31b1b.svg)](https://arxiv.org/abs/arXiv:2211.00721) | **Moonraker -- Enceladus Multiple Flyby Mission**  |\n",
       "|| O. Mousis, et al. -- incl., <mark>Y. Langevin</mark>, <mark>J. Helbert</mark> |\n",
       "|*Appeared on*| *2022-11-03*|\n",
       "|*Comments*| *Accepted for publication in The Planetary Science Journal*|\n",
       "|**Abstract**| Enceladus, an icy moon of Saturn, possesses an internal water ocean and jets expelling ocean material into space. Cassini investigations indicated that the subsurface ocean could be a habitable environment having a complex interaction with the rocky core. Further investigation of the composition of the plume formed by the jets is necessary to fully understand the ocean, its potential habitability, and what it tells us about Enceladus' origin. Moonraker has been proposed as an ESA M-class mission designed to orbit Saturn and perform multiple flybys of Enceladus, focusing on traversals of the plume. The proposed Moonraker mission consists of an ESA-provided platform, with strong heritage from JUICE and Mars Sample Return, and carrying a suite of instruments dedicated to plume and surface analysis. The nominal Moonraker mission has a duration of 13.5 years. It includes a 23-flyby segment with 189 days allocated for the science phase, and can be expanded with additional segments if resources allow. The mission concept consists in investigating: i) the habitability conditions of present-day Enceladus and its internal ocean, ii) the mechanisms at play for the communication between the internal ocean and the surface of the South Polar Terrain, and iii) the formation conditions of the moon. Moonraker, thanks to state-of-the-art instruments representing a significant improvement over Cassini's payload, would quantify the abundance of key species in the plume, isotopic ratios, and physical parameters of the plume and the surface. Such a mission would pave the way for a possible future landed mission. |\n",
       "|<p style=\"color:green\"> **ERROR** </p>| <p style=\"color:green\">affiliation error: mpia.affiliation_verifications: 'Heidelberg' keyword not found.</p> |"
      ],
      "text/plain": [
       "<IPython.core.display.Markdown object>"
      ]
     },
     "metadata": {},
     "output_type": "display_data"
    },
    {
     "data": {
      "text/markdown": [
       "\n",
       "|||\n",
       "|---:|:---|\n",
       "| [![arXiv](https://img.shields.io/badge/arXiv-arXiv:2211.00770-b31b1b.svg)](https://arxiv.org/abs/arXiv:2211.00770) | **The Type 1 and Type 2 AGN dichotomy according to their ZTF optical  variability**  |\n",
       "|| E. López-Navas, et al. -- incl., <mark>L. Hernández-García</mark>, <mark>P. Lira</mark> |\n",
       "|*Appeared on*| *2022-11-03*|\n",
       "|*Comments*| *Accepted for publication in MNRAS. 13 pages, 9 figures*|\n",
       "|**Abstract**| The scarce optical variability studies in spectrally classified Type 2 active galactic nuclei (AGNs) have led to the discovery of anomalous objects that are incompatible with the simplest unified models (UM). This paper focuses on the exploration of different variability features that allows to separate between obscured, Type 2 AGNs, and the variable, unobscured Type 1s. We analyse systematically the Zwicky Transient Facility, 2.5 years long light curves of ~ 15000 AGNs from the Sloan Digital Sky Survey Data Release 16, which are generally considered Type 2s due to the absence of strong broad emission lines (BELs). Consistently with the expectations from the UM, the variability features are distributed differently for distinct populations, with spectrally classified weak Type 1s showing 1 order of magnitude larger variances than the Type 2s. We find that the parameters given by the damped random walk model leads to broader H{\\alpha} equivalent width for objects with {\\tau}_g > 16 d and long term structure function SF{\\infty},g> 0.07 mag. By limiting the variability features, we find that ~ 11 per cent of Type 2 sources show evidence for optical variations. A detailed spectral analysis of the most variable sources (~1 per cent of the Type 2 sample) leads to the discovery of misclassified Type 1s with weak BELs and changing-state candidates. This work presents one of the largest systematic investigations of Type 2 AGN optical variability to date, in preparation for future large photometric surveys. |\n",
       "|<p style=\"color:green\"> **ERROR** </p>| <p style=\"color:green\">affiliation error: mpia.affiliation_verifications: 'Heidelberg' keyword not found.</p> |"
      ],
      "text/plain": [
       "<IPython.core.display.Markdown object>"
      ]
     },
     "metadata": {},
     "output_type": "display_data"
    },
    {
     "data": {
      "text/markdown": [
       "\n",
       "|||\n",
       "|---:|:---|\n",
       "| [![arXiv](https://img.shields.io/badge/arXiv-arXiv:2211.00810-b31b1b.svg)](https://arxiv.org/abs/arXiv:2211.00810) | **The Cassiopeia Filament: A Blown Spur of the Local Arm**  |\n",
       "|| Xuepeng Chen, et al. -- incl., <mark>Li Sun</mark>, <mark>Shiyu Zhang</mark>, <mark>Weihua Guo</mark>, <mark>Shaobo Zhang</mark>, <mark>Miaomiao Zhang</mark> |\n",
       "|*Appeared on*| *2022-11-03*|\n",
       "|*Comments*| *46 pages, 19 figures, to be published by the AJ*|\n",
       "|**Abstract**| We present wide-field and high-sensitivity CO(1-0) molecular line observations toward the Cassiopeia region, using the 13.7m millimeter telescope of the Purple Mountain Observatory (PMO). The CO observations reveal a large-scale highly filamentary molecular cloud within the Galactic region of 132\\fdg0\\,$\\geq$\\,$l$\\,$\\geq$\\,122\\fdg0 and -1\\fdg0\\,$\\leq$\\,$b$\\,$\\leq$\\,3\\fdg0 and the velocity range from approximately +1 to +4 km/s. The measured length of the large-scale filament, referred to as the Cassiopeia Filament, is about 390 pc. The observed properties of the Cassiopeia Filament, such as length, column density, and velocity gradient, are consistent with those synthetic large-scale filaments in the inter-arm regions. Based on its observed properties and location on the Galactic plane, we suggest that the Cassiopeia Filament is a spur of the Local arm, which is formed due to the galactic shear. The western end of the Cassiopeia Filament shows a giant arc-like molecular gas shell, which is extending in the velocity range from roughly -1 to +7 km/s. Finger-like structures, with systematic velocity gradients, are detected in the shell. The CO kinematics suggest that the large shell is expanding at a velocity of ~6.5 km/s. Both the shell and finger-like structures outline a giant bubble with a radius of ~16 pc, which is likely produced by stellar wind from the progenitor star of a supernova remnant. The observed spectral linewidths suggest that the whole Cassiopeia Filament was quiescent initially until its west part was blown by stellar wind and became supersonically turbulent. |\n",
       "|<p style=\"color:green\"> **ERROR** </p>| <p style=\"color:green\">affiliation error: mpia.affiliation_verifications: 'Heidelberg' keyword not found.</p> |"
      ],
      "text/plain": [
       "<IPython.core.display.Markdown object>"
      ]
     },
     "metadata": {},
     "output_type": "display_data"
    },
    {
     "data": {
      "text/markdown": [
       "\n",
       "|||\n",
       "|---:|:---|\n",
       "| [![arXiv](https://img.shields.io/badge/arXiv-arXiv:2211.01044-b31b1b.svg)](https://arxiv.org/abs/arXiv:2211.01044) | **The discovery of three hot Jupiters, NGTS-23b, 24b and 25b, and updated  parameters for HATS-54b from the Next Generation Transit Survey**  |\n",
       "|| David G. Jackson, et al. -- incl., <mark>Beth A. Henderson</mark>, <mark>James McCormac</mark>, <mark>Alexis M. S. Smith</mark> |\n",
       "|*Appeared on*| *2022-11-03*|\n",
       "|*Comments*| *17 pages, 8 figures. Accepted for publication in MNRAS. arXiv admin note: text overlap with arXiv:2103.10302*|\n",
       "|**Abstract**| We report the discovery of three new hot Jupiters with the Next Generation Transit Survey (NGTS) as well as updated parameters for HATS-54b, which was independently discovered by NGTS. NGTS-23b, NGTS-24b and NGTS-25b have orbital periods of 4.076, 3.468, and 2.823 days and orbit G-, F- and K-type stars, respectively. NGTS-24 and HATS-54 appear close to transitioning off the main-sequence (if they are not already doing so), and therefore are interesting targets given the observed lack of Hot Jupiters around sub-giant stars. By considering the host star luminosities and the planets' small orbital separations (0.037 - 0.050 au), we find that all four hot Jupiters are above the minimum irradiance threshold for inflation mechanisms to be effective. NGTS-23b has a mass of 0.61 $M_{J}$ and radius of 1.27 $R_{J}$ and is likely inflated. With a radius of 1.21 $R_{J}$ and mass of 0.52 $M_{J}$, NGTS-24b has a radius larger than expected from non-inflated models but its radius is smaller than the predicted radius from current Bayesian inflationary models. Finally, NGTS-25b is intermediate between the inflated and non-inflated cases, having a mass of 0.64 $M_{J}$ and a radius of 1.02 $R_{J}$. The physical processes driving radius inflation remain poorly understood, and by building the sample of hot Jupiters we can aim to identify the additional controlling parameters, such as metallicity and stellar age. |\n",
       "|<p style=\"color:green\"> **ERROR** </p>| <p style=\"color:green\">affiliation error: mpia.affiliation_verifications: 'Heidelberg' keyword not found.</p> |"
      ],
      "text/plain": [
       "<IPython.core.display.Markdown object>"
      ]
     },
     "metadata": {},
     "output_type": "display_data"
    },
    {
     "data": {
      "text/markdown": [
       "\n",
       "|||\n",
       "|---:|:---|\n",
       "| [![arXiv](https://img.shields.io/badge/arXiv-arXiv:2211.01172-b31b1b.svg)](https://arxiv.org/abs/arXiv:2211.01172) | **Calculation of rescaling factors and nuclear multiplication of muons in  extensive air showers**  |\n",
       "|| Kevin Almeida Cheminant, et al. -- incl., <mark>Markus Roth</mark>, <mark>Henryk Wilczyński</mark> |\n",
       "|*Appeared on*| *2022-11-03*|\n",
       "|*Comments*| *This work corresponds to the presentation at the ICNFP 2022 at Kolymbari, Crete, in September 2022. The proceedings will be published in Physica Scripta. arXiv admin note: text overlap with arXiv:2108.07527*|\n",
       "|**Abstract**| Recent results obtained from leading cosmic ray experiments indicate that simulations using LHC-tuned hadronic interaction models underestimate the number of muons in extensive air showers compared to experimental data. This is the so-called muon deficit problem. Determination of the muon component in the air shower is crucial for inferring the mass of the primary particle, which is a key ingredient in the efforts to pinpoint the sources of ultra-high energy cosmic rays.In this paper, we present a new method to derive the muon signal in detectors, which uses the difference between the total reconstructed (data) and simulated signals is roughly independent of the zenith angle, but depends on the mass of the primary cosmic ray. Such a method offers an opportunity not only to test/calibrate the hadronic interaction models, but also to derive the $\\beta$ exponent, which describes an increase of the number of muons in a shower as a function of the energy and mass of the primary cosmic ray. Detailed simulations show a dependence of the $\\beta$ exponent on hadronic interaction properties, thus the determination of this parameter is important for understanding the muon deficit problem. We validate the method by using Monte Carlo simulations for the EPOS-LHC and QGSJetII-04 hadronic interaction models, and showing that this method allows us to recover the ratio of the muon signal between EPOS-LHC and QGSJetII-04 and the average $\\beta$ exponent for the studied system, within less than a few percent. This is a consequence of the good recovery of the muon signal for each primary included in the analysis. |\n",
       "|<p style=\"color:green\"> **ERROR** </p>| <p style=\"color:green\">affiliation error: mpia.affiliation_verifications: 'Heidelberg' keyword not found.</p> |"
      ],
      "text/plain": [
       "<IPython.core.display.Markdown object>"
      ]
     },
     "metadata": {},
     "output_type": "display_data"
    },
    {
     "data": {
      "text/markdown": [
       "\n",
       "|||\n",
       "|---:|:---|\n",
       "| [![arXiv](https://img.shields.io/badge/arXiv-arXiv:2211.01232-b31b1b.svg)](https://arxiv.org/abs/arXiv:2211.01232) | **The Luminosity Phase Space of Galactic and Extragalactic X-ray  Transients Out to Intermediate Redshifts**  |\n",
       "|| Ava Polzin, et al. -- incl., <mark>Deanne Coppejans</mark> |\n",
       "|*Appeared on*| *2022-11-03*|\n",
       "|*Comments*| *11 figures, 12 tables; to be submitted to the AAS Journals in ~a week. Comments welcome!*|\n",
       "|**Abstract**| We present a detailed compilation and analysis of the X-ray phase space of low- to intermediate-redshift transients that consolidates observed light curves (and theory where necessary) for a large variety of classes of transient/variable phenomena in the 0.3--10 keV band including gamma-ray burst afterglows, supernovae, supernova shocks interacting with the environment, tidal disruption events and active galactic nuclei, fast blue optical transients, cataclysmic variables, magnetar flares/outbursts and fast radio bursts, cool stellar flares, X-ray binary outbursts, and ultraluminous X-ray sources. Our over-arching goal is to offer a comprehensive resource for the examination of these ephemeral events, extending the X-ray duration-luminosity phase space (DLPS) to show luminosity evolution. We use existing observations (both targeted and serendipitous) to characterize the behavior of various transient/variable populations. Contextualizing transient signals in the larger DLPS serves two primary purposes: to identify areas of interest (i.e., regions in the parameter space where one would expect detections, but in which observations have historically been lacking) and to provide initial qualitative guidance in classifying newly discovered transient signals. We find that while the most luminous (largely extragalactic) and least luminous (largely Galactic) part of the phase space is well-populated at $t > 0.1$ days, intermediate luminosity phenomena (L$_x = 10^{34} - 10^{42}$ erg s$^{-1}$) represent a gap in the phase space. We thus identify L$_x = 10^{34} - 10^{42}$ erg s$^{-1}$ and $t = 10^{-4} - 0.1$ days as a key discovery phase space in transient X-ray astronomy. |\n",
       "|<p style=\"color:green\"> **ERROR** </p>| <p style=\"color:green\">affiliation error: mpia.affiliation_verifications: 'Heidelberg' keyword not found.</p> |"
      ],
      "text/plain": [
       "<IPython.core.display.Markdown object>"
      ]
     },
     "metadata": {},
     "output_type": "display_data"
    },
    {
     "data": {
      "text/markdown": [
       "\n",
       "|||\n",
       "|---:|:---|\n",
       "| [![arXiv](https://img.shields.io/badge/arXiv-arXiv:2211.00674-b31b1b.svg)](https://arxiv.org/abs/arXiv:2211.00674) | **Measuring bar pattern speeds from single simulation snapshots**  |\n",
       "|| <mark>Walter Dehnen</mark>, Marcin Semczuk, Ralph Schoenrich |\n",
       "|*Appeared on*| *2022-11-03*|\n",
       "|*Comments*| *7 pages, accepted at MNRAS*|\n",
       "|**Abstract**| We describe methods to measure simultaneously the orientation angle $\\psi$ and pattern speed $\\Omega=\\mathrm{d}\\psi/\\mathrm{d}t$ from single snapshots of simulated barred galaxies. Unlike previous attempts, which suffer from systematic errors of 5-25%, our approach is unbiased. It can be extended to obtain the rate and axis of rotation, i.e. the vector $\\boldsymbol{\\Omega}$. We provide computer code implementing our method. |\n",
       "|<p style=\"color:green\"> **ERROR** </p>| <p style=\"color:green\">affiliation error: mpia.affiliation_verifications: 'Planck' keyword not found.</p> |"
      ],
      "text/plain": [
       "<IPython.core.display.Markdown object>"
      ]
     },
     "metadata": {},
     "output_type": "display_data"
    },
    {
     "data": {
      "text/markdown": [
       "\n",
       "|||\n",
       "|---:|:---|\n",
       "| [![arXiv](https://img.shields.io/badge/arXiv-arXiv:2211.01067-b31b1b.svg)](https://arxiv.org/abs/arXiv:2211.01067) | **The neutron star population in M28: a joint Chandra/GBT look at pulsar  paradise**  |\n",
       "|| Eda Vurgun, et al. -- incl., <mark>Manuel Linares</mark> |\n",
       "|*Appeared on*| *2022-11-03*|\n",
       "|*Comments*| *26 pages, Accepted for publication in The Astrophysical Journal*|\n",
       "|**Abstract**| We present the results of a deep study of the neutron star (NS) population in the globular cluster M28 (NGC 6626), using the full 330-ks 2002-2015 ACIS dataset from the Chandra X-ray Observatory and coordinated radio observations taken with the Green Bank Telescope (GBT) in 2015. We investigate the X-ray luminosity (Lx), spectrum, and orbital modulation of the 7 known compact binary millisecond pulsars (MSPs) in the cluster. We report two simultaneous detections of the redback PSR J1824-2452I (M28I) and its X-ray counterpart. We discover a double-peaked X-ray orbital flux modulation in M28I during its pulsar state, centered around pulsar inferior conjunction. We analyze the spectrum of the quiescent neutron star low-mass X-ray binary to constrain its mass and radius. Using both hydrogen and helium NS atmosphere models, we find a NS radius of R = 9.5-11.5 km and R = 13.5 - 16.7 km, respectively, for a neutron star mass of 1.4 Msun. We also search for long-term variability in the 46 brightest X-ray sources and report the discovery of six new variable low luminosity X-ray sources in M28. |\n",
       "|<p style=\"color:red\"> **ERROR** </p>| <p style=\"color:red\">latex error not a gzip file</p> |"
      ],
      "text/plain": [
       "<IPython.core.display.Markdown object>"
      ]
     },
     "metadata": {},
     "output_type": "display_data"
    }
   ],
   "source": [
    "import datetime\n",
    "today = str(datetime.date.today())\n",
    "logfile = f\"_build/html/logs/log-{today}.md\"\n",
    "\n",
    "\n",
    "with open(logfile, 'w') as logs:\n",
    "    # Success\n",
    "    logs.write(f'# Arxiv on Deck 2: Logs - {today}\\n\\n')\n",
    "    logs.write(\"\"\"* Arxiv had {0:,d} new papers\\n\"\"\".format(len(new_papers)))\n",
    "    logs.write(\"\"\"    * {0:,d} with possible author matches\\n\\n\"\"\".format(len(candidates)))\n",
    "    logs.write(\"## Sucessful papers\\n\\n\")\n",
    "    display(Markdown(\"## Successful papers\"))\n",
    "    success = [k[0] for k in documents]\n",
    "    for candid in candidates:\n",
    "        if candid['identifier'].split(':')[-1] in success:\n",
    "            display(candid)\n",
    "            logs.write(candid.generate_markdown_text() + '\\n\\n')\n",
    "\n",
    "    ## failed\n",
    "    logs.write(\"## Failed papers\\n\\n\")\n",
    "    display(Markdown(\"## Failed papers\"))\n",
    "    failed = sorted(failed, key=lambda x: x[1])\n",
    "    current_reason = \"\"\n",
    "    for paper, reason in failed:\n",
    "        if 'affiliation' in reason:\n",
    "            color = 'green'\n",
    "        else:\n",
    "            color = 'red'\n",
    "        data = Markdown(\n",
    "                paper.generate_markdown_text() + \n",
    "                f'\\n|<p style=\"color:{color:s}\"> **ERROR** </p>| <p style=\"color:{color:s}\">{reason:s}</p> |'\n",
    "               )\n",
    "        if reason != current_reason:\n",
    "            logs.write(f'### {reason:s} \\n\\n')\n",
    "            current_reason = reason\n",
    "        logs.write(data.data + '\\n\\n')\n",
    "        \n",
    "        # only display here the important errors (all in logs)\n",
    "        # if color in ('red',):\n",
    "        display(data)"
   ]
  },
  {
   "cell_type": "markdown",
   "id": "472d20ee",
   "metadata": {
    "papermill": {
     "duration": 0.008781,
     "end_time": "2022-11-03T04:33:47.193660",
     "exception": false,
     "start_time": "2022-11-03T04:33:47.184879",
     "status": "completed"
    },
    "tags": []
   },
   "source": [
    "## Export documents\n",
    "\n",
    "We now write the .md files and export relevant images"
   ]
  },
  {
   "cell_type": "code",
   "execution_count": 7,
   "id": "d426aed9",
   "metadata": {
    "execution": {
     "iopub.execute_input": "2022-11-03T04:33:47.212974Z",
     "iopub.status.busy": "2022-11-03T04:33:47.212499Z",
     "iopub.status.idle": "2022-11-03T04:33:47.219880Z",
     "shell.execute_reply": "2022-11-03T04:33:47.219227Z"
    },
    "papermill": {
     "duration": 0.018511,
     "end_time": "2022-11-03T04:33:47.221296",
     "exception": false,
     "start_time": "2022-11-03T04:33:47.202785",
     "status": "completed"
    },
    "tags": []
   },
   "outputs": [],
   "source": [
    "def export_markdown_summary(md: str, md_fname:str, directory: str):\n",
    "    \"\"\"Export MD document and associated relevant images\"\"\"\n",
    "    import os\n",
    "    import shutil\n",
    "    import re\n",
    "\n",
    "    if (os.path.exists(directory) and not os.path.isdir(directory)):\n",
    "        raise RuntimeError(f\"a non-directory file exists with name {directory:s}\")\n",
    "\n",
    "    if (not os.path.exists(directory)):\n",
    "        print(f\"creating directory {directory:s}\")\n",
    "        os.mkdir(directory)\n",
    "\n",
    "    fig_fnames = (re.compile(r'\\[Fig.*\\]\\((.*)\\)').findall(md) + \n",
    "                  re.compile(r'\\<img src=\"([^>\\s]*)\"[^>]*/>').findall(md))\n",
    "    for fname in fig_fnames:\n",
    "        if 'http' in fname:\n",
    "            # No need to copy online figures\n",
    "            continue\n",
    "        destdir = os.path.join(directory, os.path.dirname(fname))\n",
    "        destfname = os.path.join(destdir, os.path.basename(fname))\n",
    "        try:\n",
    "            os.makedirs(destdir)\n",
    "        except FileExistsError:\n",
    "            pass\n",
    "        shutil.copy(fname, destfname)\n",
    "    with open(os.path.join(directory, md_fname), 'w') as fout:\n",
    "        fout.write(md)\n",
    "    print(\"exported in \", os.path.join(directory, md_fname))\n",
    "    [print(\"    + \" + os.path.join(directory,fk)) for fk in fig_fnames]"
   ]
  },
  {
   "cell_type": "code",
   "execution_count": 8,
   "id": "014d04a4",
   "metadata": {
    "execution": {
     "iopub.execute_input": "2022-11-03T04:33:47.240145Z",
     "iopub.status.busy": "2022-11-03T04:33:47.239716Z",
     "iopub.status.idle": "2022-11-03T04:33:47.262179Z",
     "shell.execute_reply": "2022-11-03T04:33:47.261445Z"
    },
    "papermill": {
     "duration": 0.033468,
     "end_time": "2022-11-03T04:33:47.263616",
     "exception": false,
     "start_time": "2022-11-03T04:33:47.230148",
     "status": "completed"
    },
    "tags": []
   },
   "outputs": [
    {
     "name": "stdout",
     "output_type": "stream",
     "text": [
      "exported in  _build/html/2211.00657.md\n",
      "    + _build/html/tmp_2211.00657/./Figures/05_Appendix/shell_model_parameters.png\n",
      "    + _build/html/tmp_2211.00657/./Figures/03_Analysis/Mrk1044_QSO_spec_full.png\n",
      "    + _build/html/tmp_2211.00657/./Figures/03_Analysis/spectroastrometry.png\n",
      "exported in  _build/html/2211.00667.md\n",
      "    + _build/html/tmp_2211.00667/./Figs/R-M_DIAGRAM_referee.png\n",
      "    + _build/html/tmp_2211.00667/./Figs/RVS_ALL_DATASETS_no_grid.png\n",
      "    + _build/html/tmp_2211.00667/./Figs/TESS_PHOTOMETRY_jf_0_referee.png\n"
     ]
    }
   ],
   "source": [
    "for paper_id, md in documents:\n",
    "    export_markdown_summary(md, f\"{paper_id:s}.md\", '_build/html/')"
   ]
  },
  {
   "cell_type": "markdown",
   "id": "f087a0a7",
   "metadata": {
    "papermill": {
     "duration": 0.009573,
     "end_time": "2022-11-03T04:33:47.282800",
     "exception": false,
     "start_time": "2022-11-03T04:33:47.273227",
     "status": "completed"
    },
    "tags": []
   },
   "source": [
    "## Display the papers\n",
    "\n",
    "Not necessary but allows for a quick check."
   ]
  },
  {
   "cell_type": "code",
   "execution_count": 9,
   "id": "fd25f625",
   "metadata": {
    "execution": {
     "iopub.execute_input": "2022-11-03T04:33:47.302002Z",
     "iopub.status.busy": "2022-11-03T04:33:47.301359Z",
     "iopub.status.idle": "2022-11-03T04:33:47.307533Z",
     "shell.execute_reply": "2022-11-03T04:33:47.306981Z"
    },
    "papermill": {
     "duration": 0.019883,
     "end_time": "2022-11-03T04:33:47.311549",
     "exception": false,
     "start_time": "2022-11-03T04:33:47.291666",
     "status": "completed"
    },
    "scrolled": false,
    "tags": []
   },
   "outputs": [
    {
     "data": {
      "text/markdown": [
       "<div class=\"macros\" style=\"visibility:hidden;\">\n",
       "$\\newcommand{\\ensuremath}{}$\n",
       "$\\newcommand{\\xspace}{}$\n",
       "$\\newcommand{\\object}[1]{\\texttt{#1}}$\n",
       "$\\newcommand{\\farcs}{{.}''}$\n",
       "$\\newcommand{\\farcm}{{.}'}$\n",
       "$\\newcommand{\\arcsec}{''}$\n",
       "$\\newcommand{\\arcmin}{'}$\n",
       "$\\newcommand{\\ion}[2]{#1#2}$\n",
       "$\\newcommand{\\textsc}[1]{\\textrm{#1}}$\n",
       "$\\newcommand{\\hl}[1]{\\textrm{#1}}$</div>\n",
       "\n",
       "<div class=\"macros\" style=\"visibility:hidden;\">\n",
       "$\\newcommand{$\\ensuremath$}{}$\n",
       "$\\newcommand{$\\xspace$}{}$\n",
       "$\\newcommand{$\\object$}[1]{\\texttt{#1}}$\n",
       "$\\newcommand{$\\farcs$}{{.}''}$\n",
       "$\\newcommand{$\\farcm$}{{.}'}$\n",
       "$\\newcommand{$\\arcsec$}{''}$\n",
       "$\\newcommand{$\\arcmin$}{'}$\n",
       "$\\newcommand{$\\ion$}[2]{#1#2}$\n",
       "$\\newcommand{$\\textsc$}[1]{\\textrm{#1}}$\n",
       "$\\newcommand{$\\hl$}[1]{\\textrm{#1}}$</div>\n",
       "\n",
       "\n",
       "\n",
       "<div id=\"title\">\n",
       "\n",
       "# The Close AGN Reference Survey (CARS): A parsec scale multi-phase outflow in the super-Eddington NLS1 Mrk 1044\n",
       "\n",
       "</div>\n",
       "<div id=\"comments\">\n",
       "\n",
       "[![arXiv](https://img.shields.io/badge/arXiv-2211.00657-b31b1b.svg)](https://arxiv.org/abs/2211.00657)<mark>Appeared on: 2022-11-03</mark> - _17 pages. 12 figures. Re-submitted to A&A after minor revision. Comments welcome_\n",
       "\n",
       "</div>\n",
       "<div id=\"authors\">\n",
       "\n",
       "<mark><mark>Nico Winkel</mark></mark>, et al. -- incl., <mark><mark>Knud Jahnke</mark></mark>, <mark><mark>Miguel A. Pérez-Torres</mark></mark>\n",
       "\n",
       "</div>\n",
       "<div id=\"abstract\">\n",
       "\n",
       "**Abstract:** The interaction between Active Galactic Nuclei (AGN) and their host galaxies is scarcely resolved. Narrow-line Seyfert 1 (NLS1) galaxies are believed to represent AGN at early stages of their evolution and allow to observe AGN feeding and feedback processes at high accretion rates.We aim to constrain the properties of the ionised gas outflow in Mrk 1044, a nearby super-Eddington accreting NLS1. Based on the outflow energetics and the associated timescales, we estimate the outflow's future impact on the ongoing host galaxy star formation on different spatial scales.We apply a spectroastrometric analysis to VLT MUSE NFM-AO observations of Mrk 1044's nucleus. This allows us to map two ionised gas outflows traced by[$\\ion${O}{iii}]which have velocities of$-560 \\pm 20 {\\rm km\\:s}^{-1}$and$-144 \\pm 5  {\\rm km\\:s}^{-1}$.   Furthermore, we use an archival HST/STIS spectrum to identify two Ly-$\\alpha$absorbing components that escape from the centre with approximately twice the velocity of the ionised gas components.Both[$\\ion${O}{iii}]outflows are spatially unresolved and located close to the AGN ($< 1 {\\rm pc}$). They have gas densities higher than$10^5  {\\rm cm}^{-3}$, which implies that the BPT diagnostic cannot be used to constrain the underlying ionisation mechanism.   We explore whether an expanding shell model can describe the velocity structure of Mrk 1044's multi-phase outflow.   We find an additional ionised gas outflowing component that is spatially resolved. It has a velocity of$-211 \\pm 22  {\\rm km\\:s}^{-1}$and projected size of\\mbox{$4.6 \\pm 0.6  {\\rm pc}$}.   A kinematic analysis suggests that significant turbulence may be present in the ISM around the nucleus, which may lead to a condensation rain, potentially explaining the efficient feeding of Mrk 1044's AGN.   Within the innermost 0.5$\\arcsec$(160$ {\\rm pc}$) we detect modest star formation hidden by the beam-smeared emission from the outflow.We estimate that the multi-phase outflow has been launched$< 10^4  {\\rm yrs}$ago. Together with the star formation in the vicinity of the nucleus, this suggests that Mrk 1044's AGN phase set on recently.    The outflow carries enough mass and energy to impact the host galaxy star formation on different spatial scales, highlighting the complexity of the AGN feeding and feedback cycle in its early stages.\n",
       "\n",
       "</div>\n",
       "\n",
       "<div id=\"div_fig1\">\n",
       "\n",
       "<img src=\"tmp_2211.00657/./Figures/05_Appendix/shell_model_parameters.png\" alt=\"Fig7\" width=\"100%\"/>\n",
       "\n",
       "**Figure 7. -** Dependence of the emission line flux maximum corresponding velocity on inclination. Independent of how concentrated the light profile is ($\\alpha/\\theta_0$), the geometric model requires high inclinations of the [$\\ion${O}{iii}]-emitting shell to significantly reduce the peak velocity by a factor of approximately two.\n",
       "  (*fig:shell_model_parameters*)\n",
       "\n",
       "</div>\n",
       "<div id=\"div_fig2\">\n",
       "\n",
       "<img src=\"tmp_2211.00657/./Figures/03_Analysis/Mrk1044_QSO_spec_full.png\" alt=\"Fig8\" width=\"100%\"/>\n",
       "\n",
       "**Figure 8. -** Modelling Mrk 1044's AGN spectrum in the H$\\beta$-[$\\ion${O}{iii}] region (left) and H$\\alpha$-[$\\ion${N}{ii}] region (right). To reproduce the observed spectrum (black) we use a multi-Gaussian model for H$\\beta$(blue), [$\\ion${O}{iii}](green), $\\ion${Fe}{ii}(purple), H$\\alpha$(blue, right panel) and [$\\ion${N}{ii}](red). The best-fit spectrum is shown as a red line and well reproduces the prominent emission lines, including the blue shoulder of the [$\\ion${O}{iii}] narrow line. (*fig:MUSE_fit*)\n",
       "\n",
       "</div>\n",
       "<div id=\"div_fig3\">\n",
       "\n",
       "<img src=\"tmp_2211.00657/./Figures/03_Analysis/spectroastrometry.png\" alt=\"Fig9\" width=\"100%\"/>\n",
       "\n",
       "**Figure 9. -** Spectroastrometric analysis of Mrk 1044's central region using the original MUSE NFM-AO data cube.\n",
       "            The left panels show an arbitrary example spectrum that is picked from the small window around the nucleus shown in the panels on the right. To fit the spectrum, we keep the kinematics and line ratios of the kinematics fixed to that of the components found in the AGN spectrum.\n",
       "            The panels on the right show the surface brightness within the central 150$ {\\rm mas}$ for the kinematic components where the flux maps are normalised to their peak flux.\n",
       "            Here we only show the measure light distribution from the BLR H$\\beta$(left), [$\\ion${O}{iii}]-wing (middle), and narrow [$\\ion${O}{iii}]-core (right) component. From top to bottom the maps show the 2D light distributions, the best-fit model of the PSF and the residual maps. The red cross indicates the PSFAO19 centroid for the best-fit PSFAO19 fit to the BLR H$\\beta$. The green and white crosses indicate the centroids for the PSFAO19 models to the surface brightness maps of the [$\\ion${O}{iii}]-wing and core respectively, in which the amplitude and position of the Moffat model were varied only. The offset of both [$\\ion${O}{iii}] core and wing component from the AGN position are smaller than $0.1 {\\rm px}$. (*fig:spectroastrometry_maps*)\n",
       "\n",
       "</div>"
      ],
      "text/plain": [
       "<IPython.core.display.Markdown object>"
      ]
     },
     "metadata": {},
     "output_type": "display_data"
    },
    {
     "data": {
      "text/markdown": [
       "<div class=\"macros\" style=\"visibility:hidden;\">\n",
       "$\\newcommand{\\ensuremath}{}$\n",
       "$\\newcommand{\\xspace}{}$\n",
       "$\\newcommand{\\object}[1]{\\texttt{#1}}$\n",
       "$\\newcommand{\\farcs}{{.}''}$\n",
       "$\\newcommand{\\farcm}{{.}'}$\n",
       "$\\newcommand{\\arcsec}{''}$\n",
       "$\\newcommand{\\arcmin}{'}$\n",
       "$\\newcommand{\\ion}[2]{#1#2}$\n",
       "$\\newcommand{\\textsc}[1]{\\textrm{#1}}$\n",
       "$\\newcommand{\\hl}[1]{\\textrm{#1}}$</div>\n",
       "\n",
       "<div class=\"macros\" style=\"visibility:hidden;\">\n",
       "$\\newcommand{$\\ensuremath$}{}$\n",
       "$\\newcommand{$\\xspace$}{}$\n",
       "$\\newcommand{$\\object$}[1]{\\texttt{#1}}$\n",
       "$\\newcommand{$\\farcs$}{{.}''}$\n",
       "$\\newcommand{$\\farcm$}{{.}'}$\n",
       "$\\newcommand{$\\arcsec$}{''}$\n",
       "$\\newcommand{$\\arcmin$}{'}$\n",
       "$\\newcommand{$\\ion$}[2]{#1#2}$\n",
       "$\\newcommand{$\\textsc$}[1]{\\textrm{#1}}$\n",
       "$\\newcommand{$\\hl$}[1]{\\textrm{#1}}$</div>\n",
       "\n",
       "\n",
       "\n",
       "<div id=\"title\">\n",
       "\n",
       "# HD 191939 revisited: New and refined planet mass determinations, and a new planet in the habitable zone.\n",
       "\n",
       "</div>\n",
       "<div id=\"comments\">\n",
       "\n",
       "[![arXiv](https://img.shields.io/badge/arXiv-2211.00667-b31b1b.svg)](https://arxiv.org/abs/2211.00667)<mark>Appeared on: 2022-11-03</mark> - _Accepted for publication in A&A. 20 pages, 8 figures_\n",
       "\n",
       "</div>\n",
       "<div id=\"authors\">\n",
       "\n",
       "J. Orell-Miquel, et al. -- incl., <mark>J. Livingston</mark>\n",
       "\n",
       "</div>\n",
       "<div id=\"abstract\">\n",
       "\n",
       "**Abstract:** HD 191939 (TOI-1339) is a nearby (d$=$54 pc), bright (V$=$9 mag), and inactive Sun-like star (G9 V) known to host a multi-planet transiting system. Ground-based spectroscopic observations confirmed the planetary nature of the three transiting sub-Neptunes (HD 191939 b, c, and d) originally detected by\\textit{TESS}and were used to measure the masses for planets b and c with$3\\sigma$precision. These previous observations also reported the discovery of an additional Saturn-mass planet (HD 191939 e) and evidence for a further, very long-period companion (HD 191939 f). Here, we report the discovery of a new non-transiting planet in the system and a refined mass determination of HD 191939 d. The new planet, HD 191939 g, has a minimum mass of 13.5$\\pm$2.0$M_\\oplus$and a period of about 280 d. This period places the planet within the conservative habitable zone of the host star, and near a 1:3 resonance with HD 191939 e.  The compilation of 362 radial velocity measurements with a baseline of 677 days from four different high-resolution spectrographs also allowed us to refine the properties of the previously known planets, including a$4.6\\sigma$mass determination for planet d, for which only a$2\\sigma$upper limit had been set until now. We confirm the previously suspected low density of HD 191939 d, which makes it an attractive target for attempting atmospheric characterisation.  Overall, the planetary system consists of three sub-Neptunes interior to a Saturn-mass and a Uranus-mass planet plus a high-mass long-period companion. This particular configuration has no counterpart in the literature and makes HD 191939 an exceptional multi-planet transiting system with an unusual planet demographic worthy of future observation.\n",
       "\n",
       "</div>\n",
       "\n",
       "<div id=\"div_fig1\">\n",
       "\n",
       "<img src=\"tmp_2211.00667/./Figs/R-M_DIAGRAM_referee.png\" alt=\"Fig2\" width=\"100%\"/>\n",
       "\n",
       "**Figure 2. -** \\label{fig: SYSTEM DIAGRAM PLOT}\n",
       "    Mass--period (\\textit{top panel}) and mass--radius (\\textit{bottom panel}) diagrams for well-characterised planets with masses and radii measured with a precision better than 30\\%, from 1 ${M}_\\oplus$ up to 1.5 ${M}_{\\mathrm{J}}$ and 1 ${R}_\\oplus$ up to 1.5 ${R}_{\\mathrm{J}}$, from the TEPCat database (February 2022; \\citealp{Southworth_database}) and \\url{http://exoplanet.eu}. HD 191939 planets are colour coded and marked with a filled circle with error bars (the radii  of HD 191939 e and g are forecasted). Vertical colour bands indicate the $\\pm 1\\sigma$ mass regions of HD 191939 g and e. Temperate planets with $T_{\\mathrm{eq}}$ = 250--395 K are marked by blue squares. The mass--radius panel also shows theoretical composition models at 300 K from \\citet{Zeng_models}. (*fig: SYSTEM DIAGRAM PLOT*)\n",
       "\n",
       "</div>\n",
       "<div id=\"div_fig2\">\n",
       "\n",
       "<img src=\"tmp_2211.00667/./Figs/RVS_ALL_DATASETS_no_grid.png\" alt=\"Fig8\" width=\"100%\"/>\n",
       "\n",
       "**Figure 8. -** \\label{fig: RV DATA}\n",
       "Time series of RV measurements taken by APF (blue circles), HIRES (green up triangles), CARMENES (red squares), and HARPS-N (orange down triangles). (*fig: RV DATA*)\n",
       "\n",
       "</div>\n",
       "<div id=\"div_fig3\">\n",
       "\n",
       "<img src=\"tmp_2211.00667/./Figs/TESS_PHOTOMETRY_jf_0_referee.png\" alt=\"Fig14\" width=\"100%\"/>\n",
       "\n",
       "**Figure 14. -** \\label{fig: TESS SECTORS}\\textit{TESS} photometry from Sectors 15--19, 21, 22, 24, and 25 along with the best-fit model (see Fig. \\ref{fig: TESS SECTORS 41 48} for Sectors 41 and 48). Upward-pointing triangles mark the transits for HD 191939 b (red), c (cyan), and d (green). Downward-pointing triangles with error bars mark the expected $t_0$ and $\\pm   1\\sigma$ uncertainty for the non-transiting planets HD 191939 e (magenta) and g (orange). (*fig: TESS SECTORS*)\n",
       "\n",
       "</div>"
      ],
      "text/plain": [
       "<IPython.core.display.Markdown object>"
      ]
     },
     "metadata": {},
     "output_type": "display_data"
    }
   ],
   "source": [
    "[display(Markdown(k[1])) for k in documents];"
   ]
  },
  {
   "cell_type": "markdown",
   "id": "873873a4",
   "metadata": {
    "papermill": {
     "duration": 0.009226,
     "end_time": "2022-11-03T04:33:47.330139",
     "exception": false,
     "start_time": "2022-11-03T04:33:47.320913",
     "status": "completed"
    },
    "tags": []
   },
   "source": [
    "# Create HTML index"
   ]
  },
  {
   "cell_type": "code",
   "execution_count": 10,
   "id": "cf665672",
   "metadata": {
    "execution": {
     "iopub.execute_input": "2022-11-03T04:33:47.349866Z",
     "iopub.status.busy": "2022-11-03T04:33:47.349632Z",
     "iopub.status.idle": "2022-11-03T04:33:47.358585Z",
     "shell.execute_reply": "2022-11-03T04:33:47.357937Z"
    },
    "papermill": {
     "duration": 0.020627,
     "end_time": "2022-11-03T04:33:47.360123",
     "exception": false,
     "start_time": "2022-11-03T04:33:47.339496",
     "status": "completed"
    },
    "tags": []
   },
   "outputs": [
    {
     "name": "stdout",
     "output_type": "stream",
     "text": [
      "80  publications in the last 7 days.\n",
      "\t _build/html/2211.00667.md\n",
      "\t _build/html/2211.00657.md\n",
      "\t _build/html/2211.00087.md\n",
      "\t _build/html/2211.00036.md\n",
      "\t _build/html/2211.00020.md\n",
      "\t _build/html/2211.00010.md\n",
      "\t _build/html/2210.17434.md\n",
      "\t _build/html/2210.12412.md\n",
      "\t _build/html/2210.11926.md\n",
      "\t _build/html/2210.11551.md\n",
      "\t _build/html/2210.11103.md\n",
      "\t _build/html/2210.10707.md\n",
      "\t _build/html/2210.09930.md\n",
      "\t _build/html/2210.08996.md\n",
      "\t _build/html/2210.08517.md\n",
      "\t _build/html/2210.08510.md\n",
      "\t _build/html/2210.08078.md\n",
      "\t _build/html/2210.06504.md\n",
      "\t _build/html/2210.05695.md\n",
      "\t _build/html/2210.05595.md\n",
      "\t _build/html/2210.05505.md\n",
      "\t _build/html/2210.04721.md\n",
      "\t _build/html/2210.03615.md\n",
      "\t _build/html/2210.01811.md\n",
      "\t _build/html/2210.01809.md\n",
      "\t _build/html/2210.01556.md\n",
      "\t _build/html/2210.00863.md\n",
      "\t _build/html/2210.00560.md\n",
      "\t _build/html/2209.15403.md\n",
      "\t _build/html/2209.15110.md\n",
      "\t _build/html/2209.14410.md\n",
      "\t _build/html/2209.14396.md\n",
      "\t _build/html/2209.13717.md\n",
      "\t _build/html/2209.13336.md\n",
      "\t _build/html/2209.12906.md\n",
      "\t _build/html/2209.11781.md\n",
      "\t _build/html/2209.11602.md\n",
      "\t _build/html/2209.11248.md\n",
      "\t _build/html/2209.11096.md\n",
      "\t _build/html/2209.10618.md\n",
      "\t _build/html/2209.09914.md\n",
      "\t _build/html/2209.09823.md\n",
      "\t _build/html/2209.08242.md\n",
      "\t _build/html/2209.08120.md\n",
      "\t _build/html/2209.08106.md\n",
      "\t _build/html/2209.07962.md\n",
      "\t _build/html/2209.07931.md\n",
      "\t _build/html/2209.06833.md\n",
      "\t _build/html/2209.05814.md\n",
      "\t _build/html/2209.05593.md\n",
      "\t _build/html/2209.04304.md\n",
      "\t _build/html/2209.03367.md\n",
      "\t _build/html/2209.02872.md\n",
      "\t _build/html/2209.02725.md\n",
      "\t _build/html/2209.02722.md\n",
      "\t _build/html/2209.02092.md\n",
      "\t _build/html/2209.01125.md\n",
      "\t _build/html/2209.00828.md\n",
      "\t _build/html/2209.00363.md\n",
      "\t _build/html/2208.14927.md\n",
      "\t _build/html/2208.09335.md\n",
      "\t _build/html/2208.08872.md\n",
      "\t _build/html/2204.06393.md\n",
      "\t _build/html/2204.03335.md\n",
      "\t _build/html/2204.03253.md\n",
      "\t _build/html/2204.02998.md\n",
      "\t _build/html/2204.02109.md\n",
      "\t _build/html/2204.02017.md\n",
      "\t _build/html/2204.01824.md\n",
      "\t _build/html/2204.01758.md\n",
      "\t _build/html/2204.01245.md\n",
      "\t _build/html/2204.00793.md\n",
      "\t _build/html/2204.00342.md\n",
      "\t _build/html/2203.16959.md\n",
      "\t _build/html/2203.16856.md\n",
      "\t _build/html/2203.16735.md\n",
      "\t _build/html/2203.16734.md\n",
      "\t _build/html/2203.16504.md\n",
      "\t _build/html/2203.15822.md\n",
      "\t _build/html/2203.15811.md\n"
     ]
    }
   ],
   "source": [
    "from datetime import datetime, timedelta, timezone\n",
    "from glob import glob\n",
    "\n",
    "files = glob('_build/html/*.md')\n",
    "days = 7\n",
    "now = datetime.today()\n",
    "res = []\n",
    "for fk in files:\n",
    "    stat_result = os.stat(fk).st_ctime\n",
    "    modified = datetime.fromtimestamp(stat_result, tz=timezone.utc).replace(tzinfo=None)\n",
    "    delta = now.today() - modified\n",
    "    if delta <= timedelta(days=days):\n",
    "        res.append((delta.seconds, fk))\n",
    "res = [k[1] for k in reversed(sorted(res, key=lambda x:x[1]))]\n",
    "npub = len(res)\n",
    "print(len(res), f\" publications in the last {days:d} days.\")\n",
    "[ print('\\t', k) for k in res ];"
   ]
  },
  {
   "cell_type": "code",
   "execution_count": 11,
   "id": "52ca0208",
   "metadata": {
    "execution": {
     "iopub.execute_input": "2022-11-03T04:33:47.380499Z",
     "iopub.status.busy": "2022-11-03T04:33:47.379909Z",
     "iopub.status.idle": "2022-11-03T04:33:47.386441Z",
     "shell.execute_reply": "2022-11-03T04:33:47.385755Z"
    },
    "papermill": {
     "duration": 0.018403,
     "end_time": "2022-11-03T04:33:47.388009",
     "exception": false,
     "start_time": "2022-11-03T04:33:47.369606",
     "status": "completed"
    },
    "scrolled": false,
    "tags": []
   },
   "outputs": [],
   "source": [
    "def create_carousel(npub=4):\n",
    "    \"\"\" Generate the HTML code for a carousel with `npub` slides \"\"\"\n",
    "    carousel = [\"\"\"<section class=\"carousel\" aria-label=\"Gallery\">\"\"\",\n",
    "                \"\"\"  <ol class=\"carousel__viewport\">\"\"\",\n",
    "    ]\n",
    "    for k in range(1, npub + 1):\n",
    "        prev_ = k - 1\n",
    "        next_ = k + 1\n",
    "        if prev_ <= 0:\n",
    "            prev_ = npub\n",
    "        if next_ > npub:\n",
    "            next_ = 1\n",
    "        text  = f\"\"\"    <li id=\"carousel__slide{k}\" tabindex=\"0\" class=\"carousel__slide\">\\n\"\"\"\n",
    "        text += f\"\"\"       <div class=\"carousel__snapper\">\\n\"\"\"\n",
    "        text += f\"\"\"         <a href=\"#carousel__slide{prev_}\" class=\"carousel__prev\">Go to previous slide</a>\\n\"\"\"\n",
    "        text += f\"\"\"         <a href=\"#carousel__slide{next_}\" class=\"carousel__next\">Go to next slide</a>\\n\"\"\"\n",
    "        text += f\"\"\"         <div id=\"slide{k}_content\" class=\"md_view\" >Content {k}</div>\\n\"\"\"\n",
    "        text += f\"\"\"       </div>\\n\"\"\"\n",
    "        text += f\"\"\"    </li>\"\"\"\n",
    "        carousel.append(text)\n",
    "\n",
    "    carousel.extend([\n",
    "        \"\"\"  </ol>\"\"\",\n",
    "        \"\"\"  <aside class=\"carousel__navigation\">\"\"\",\n",
    "        \"\"\"    <ol class=\"carousel__navigation-list\">\"\"\"])\n",
    "\n",
    "    for k in range(1, npub + 1):\n",
    "        text  = f\"\"\"      <li class=\"carousel__navigation-item\">\\n\"\"\"\n",
    "        text += f\"\"\"        <a href=\"#carousel__slide{k}\" class=\"carousel__navigation-button\">Go to {k}</a>\\n\"\"\"\n",
    "        text += f\"\"\"      </li>\"\"\"\n",
    "        carousel.append(text)\n",
    "    carousel.extend([\"\"\"    </ol>\"\"\", \"\"\"  </aside>\"\"\", \"\"\"</section>\"\"\"])\n",
    "\n",
    "    return '\\n'.join(carousel)"
   ]
  },
  {
   "cell_type": "code",
   "execution_count": 12,
   "id": "a6eac5b6",
   "metadata": {
    "execution": {
     "iopub.execute_input": "2022-11-03T04:33:47.408435Z",
     "iopub.status.busy": "2022-11-03T04:33:47.407846Z",
     "iopub.status.idle": "2022-11-03T04:33:47.414982Z",
     "shell.execute_reply": "2022-11-03T04:33:47.414303Z"
    },
    "papermill": {
     "duration": 0.01919,
     "end_time": "2022-11-03T04:33:47.416554",
     "exception": false,
     "start_time": "2022-11-03T04:33:47.397364",
     "status": "completed"
    },
    "scrolled": false,
    "tags": []
   },
   "outputs": [],
   "source": [
    "carousel = create_carousel(npub)\n",
    "docs = ', '.join(['\"{0:s}\"'.format(k.split('/')[-1]) for k in res])\n",
    "slides = ', '.join([f'\"slide{k}_content\"' for k in range(1, npub + 1)])\n",
    "\n",
    "script = f\"\"\"\n",
    "const docs = [{docs}]\n",
    "\n",
    "const slides = [{slides}]\n",
    "\"\"\" + \"\"\"\n",
    "async function run() {\n",
    "    for (let i = 0; i < docs.length; i++) {\n",
    "        let file = await fetch(docs[i]);\n",
    "        let text = await file.text()\n",
    "        document.getElementById(slides[i]).innerHTML =\n",
    "            marked.parse(text);\n",
    "    }\n",
    "    hljs.highlightAll();\n",
    "}\n",
    "run()\n",
    "\"\"\"\n",
    "\n",
    "page = f\"\"\"<!doctype html>\n",
    "<html lang=\"en\">\n",
    "\n",
    "<head>\n",
    "  <meta charset=\"utf-8\">\n",
    "  <meta name=\"viewport\" content=\"width=device-width, initial-scale=1\">\n",
    "  <!-- Bootstrap CSS -->\n",
    "  <link href=\"https://cdn.jsdelivr.net/npm/bootstrap@5.0.2/dist/css/bootstrap.min.css\" rel=\"stylesheet\"\n",
    "   integrity=\"sha384-EVSTQN3/azprG1Anm3QDgpJLIm9Nao0Yz1ztcQTwFspd3yD65VohhpuuCOmLASjC\" crossorigin=\"anonymous\">\n",
    "  <!-- highlight.js CSS -->\n",
    "  <link rel=\"stylesheet\" href=\"https://cdnjs.cloudflare.com/ajax/libs/highlight.js/11.1.0/styles/default.min.css\">\n",
    "  <!-- Mathjax 3 -->\n",
    "  <script type=\"text/javascript\" id=\"MathJax-config\" src=\"mathjax_config.js\"> </script>\n",
    "  <script type=\"text/javascript\" id=\"MathJax-script\" async \n",
    "    src=\"https://cdn.jsdelivr.net/npm/mathjax@3/es5/tex-mml-chtml.js\">\n",
    "  </script>\n",
    "  <link rel=\"stylesheet\" href=\"index_carousel.css\">\n",
    "  <link rel=\"icon\" type=\"image/x-icon\" href=\"https://www.mpia.de/assets/touch-icon-32x32-a66937bcebc4e8894ebff1f41a366c7c7220fd97a38869ee0f2db65a9f59b6c1.png\">\n",
    "  <title>MPIA Arxiv on deck!</title>\n",
    "</head>\n",
    "\n",
    "<body>\n",
    "  <div id=\"header\"> <img src=\"header_banner.png\" width=\"100%\"></div>\n",
    "  <div id=\"suptitle\"> 7-day archives </div>\n",
    "  <div id=\"info\">\n",
    "    <img src=\"https://pngimg.com/uploads/github/github_PNG58.png\" height=30rem></img>\n",
    "    <a href=https://github.com/mpi-astronomy/arxiv_display style=\"color:black;\">github/mpi-astronomy/arxiv_display</a> \n",
    "  </div>\n",
    "  {carousel:s}\n",
    "</body>\n",
    "\n",
    "<!-- Render Markdown -->\n",
    "\n",
    "<body>\n",
    "  <!-- highlight.js: https://highlightjs.org/download/ -->\n",
    "  <script src=\"https://cdnjs.cloudflare.com/ajax/libs/highlight.js/11.5.0/highlight.min.js\"></script>\n",
    "  <!-- marked.js -->\n",
    "  <script src=\"https://cdn.jsdelivr.net/npm/marked/marked.min.js\"></script>\n",
    "  <script>{script:s}</script>\n",
    "</body>\n",
    "</html>\n",
    "\"\"\"\n",
    "with open(\"_build/html/index_7days.html\", 'w') as fout:\n",
    "    fout.write(page)"
   ]
  },
  {
   "cell_type": "markdown",
   "id": "1cebacbc",
   "metadata": {
    "papermill": {
     "duration": 0.039423,
     "end_time": "2022-11-03T04:33:47.465696",
     "exception": false,
     "start_time": "2022-11-03T04:33:47.426273",
     "status": "completed"
    },
    "tags": []
   },
   "source": [
    "# Debugging papers"
   ]
  },
  {
   "cell_type": "raw",
   "id": "debe7cc6",
   "metadata": {
    "papermill": {
     "duration": 0.00987,
     "end_time": "2022-11-03T04:33:47.485700",
     "exception": false,
     "start_time": "2022-11-03T04:33:47.475830",
     "status": "completed"
    },
    "tags": []
   },
   "source": [
    "raise NotImplementedError(\"Manual Stop\")"
   ]
  },
  {
   "cell_type": "raw",
   "id": "eb169192",
   "metadata": {
    "papermill": {
     "duration": 0.009593,
     "end_time": "2022-11-03T04:33:47.504744",
     "exception": false,
     "start_time": "2022-11-03T04:33:47.495151",
     "status": "completed"
    },
    "scrolled": true,
    "tags": []
   },
   "source": [
    "from IPython.display import display, Markdown\n",
    "from TexSoup import TexSoup\n",
    "import re\n",
    "\n",
    "def bracket_error(source: str):\n",
    "    \"\"\" Find problematic portions of the document \"\"\"\n",
    "    \n",
    "    print(\"len(source)\", len(source))\n",
    "    \n",
    "    # Checking header\n",
    "    begin_doc = next(re.finditer(r'\\\\begin\\{document\\}', doc.source)).span()[1]\n",
    "    header = source[:begin_doc]\n",
    "    text = header + r\"\\n\\end{document}\"\n",
    "\n",
    "    try:\n",
    "        # print(\"Header check... \", end='')\n",
    "        TexSoup(text)\n",
    "        display(Markdown(f\"**[OK]** - Header\"))\n",
    "    except:\n",
    "        raise RuntimeError(\"Error in the header\")\n",
    "        \n",
    "    # Check the text per section until the end.\n",
    "    # Do not stop and try them all.\n",
    "    \n",
    "    problematic_text = []\n",
    "    \n",
    "    sections = ([(0, begin_doc, 'until first section')] + \n",
    "                [(g.span()[0], g.span()[1], g.group()) for g in re.finditer(r'\\\\section\\{.*\\}', source)] +\n",
    "                [(g.span()[0], g.span()[1], g.group()) for g in re.finditer(r'\\\\begin\\{appendix\\}', source)]\n",
    "               )\n",
    "    sections.append([len(source), len(source), 'end'])\n",
    "    \n",
    "    sections = sorted(sections, key=lambda x: x[0])\n",
    "    \n",
    "    prev_pos, prev_name = (0, 'header')\n",
    "    parsed = []\n",
    "    \n",
    "    for span, span_end, name in sections:\n",
    "\n",
    "        if span - prev_pos <= 0:\n",
    "            continue\n",
    "            \n",
    "\n",
    "        text = source[prev_pos:span]\n",
    "        if prev_pos > begin_doc:\n",
    "            text = r\"\\n\\begin{document}\" + text + r\"\\n\\end{document}\"\n",
    "        else:\n",
    "            text = text + r\"\\n\\end{document}\"\n",
    "        try:\n",
    "            #print(f\"{prev_pos}:{prev_name}-->{span}:{name} check... \", end='')\n",
    "            parsed.append(TexSoup(text, tolerance=1))  # allow not ending env\n",
    "            display(Markdown(f\"**[OK]** - *{prev_pos}*:{prev_name} &rarr; *{span}*:{name}\"))\n",
    "            # print(\"ok\")\n",
    "\n",
    "            prev_pos = span\n",
    "            prev_name = name\n",
    "        except:\n",
    "            # print(f\"error between {prev_pos} and {span}\")\n",
    "            display(Markdown(f\"**[ERR]** *{prev_pos}*:{prev_name} &rarr; *{span}*:{name}\"))\n",
    "            problematic_text.append((prev_pos, source[prev_pos:span]))\n",
    "            prev_pos = span\n",
    "            prev_name = name\n",
    "            # raise\n",
    "    return problematic_text, parsed\n",
    "\n",
    "\n",
    "def check_environment(text, offset=0):\n",
    "    \"\"\" Check environment \"\"\"\n",
    "    env = re.compile(r\"\\\\begin\\{(?P<env>.*)\\}(.*)\\\\end\\{(?P=env)\\}\", re.DOTALL)\n",
    "\n",
    "    for match in env.finditer(text):\n",
    "        beg, end = match.span()\n",
    "        beg += offset\n",
    "        end += offset\n",
    "        envname = match.groups()[0]\n",
    "        try:\n",
    "            latex.TexSoup(match.group())\n",
    "        except Exception as e:\n",
    "            display(e)\n",
    "            print(f\"Error in {envname:s} between {beg} and {end}\")\n",
    "            return match.groups()[1], beg, end"
   ]
  },
  {
   "cell_type": "raw",
   "id": "2315e835",
   "metadata": {
    "papermill": {
     "duration": 0.009452,
     "end_time": "2022-11-03T04:33:47.523593",
     "exception": false,
     "start_time": "2022-11-03T04:33:47.514141",
     "status": "completed"
    },
    "scrolled": false,
    "tags": []
   },
   "source": [
    "import importlib\n",
    "importlib.reload(latex)\n",
    "which = \"2204.03253\"\n",
    "paper_id = f'{which:s}'\n",
    "folder = f'tmp_{paper_id:s}'\n",
    "\n",
    "if not os.path.isdir(folder):\n",
    "    folder = retrieve_document_source(f\"{paper_id}\", f'tmp_{paper_id}')\n",
    "\n",
    "try:\n",
    "    doc = latex.LatexDocument(folder, validation=validation)    \n",
    "except AffiliationError as affilerror:\n",
    "    msg = f\"ArXiv:{paper_id:s} is not an MPIA paper... \" + str(affilerror)\n",
    "    print(msg)\n",
    "\n",
    "\n",
    "# Hack because sometimes author parsing does not work well\n",
    "if (len(doc.authors) != len(paper['authors'])):\n",
    "    doc._authors = paper['authors']\n",
    "if (doc.abstract) in (None, ''):\n",
    "    doc._abstract = paper['abstract']\n",
    "\n",
    "doc.comment = get_markdown_badge(paper_id) + \" _\" + paper['comments'] + \"_\"\n",
    "doc.highlight_authors_in_list(hl_list)\n",
    "\n",
    "full_md = doc.generate_markdown_text()"
   ]
  },
  {
   "cell_type": "raw",
   "id": "dd3781db",
   "metadata": {
    "papermill": {
     "duration": 0.009459,
     "end_time": "2022-11-03T04:33:47.542500",
     "exception": false,
     "start_time": "2022-11-03T04:33:47.533041",
     "status": "completed"
    },
    "scrolled": false,
    "tags": []
   },
   "source": [
    "doc"
   ]
  },
  {
   "cell_type": "raw",
   "id": "c6eed834",
   "metadata": {
    "papermill": {
     "duration": 0.00944,
     "end_time": "2022-11-03T04:33:47.561366",
     "exception": false,
     "start_time": "2022-11-03T04:33:47.551926",
     "status": "completed"
    },
    "tags": []
   },
   "source": [
    "# [check_environment(k) for k in bracket_error(doc.source)]\n",
    "_, _, a = latex.get_content_per_section(doc.source, verbose=True)\n",
    "if not a:\n",
    "    print(\"no issues per section\")\n",
    "for ak in a:\n",
    "    r = check_environment(ak[1], offset=ak[0])\n",
    "    print(r[1], r[2])\n",
    "    print(r[0])"
   ]
  },
  {
   "cell_type": "code",
   "execution_count": null,
   "id": "71ce768a",
   "metadata": {
    "papermill": {
     "duration": 0.009688,
     "end_time": "2022-11-03T04:33:47.580510",
     "exception": false,
     "start_time": "2022-11-03T04:33:47.570822",
     "status": "completed"
    },
    "tags": []
   },
   "outputs": [],
   "source": []
  }
 ],
 "metadata": {
  "kernelspec": {
   "display_name": "Python 3.10.6 64-bit",
   "language": "python",
   "name": "python3"
  },
  "language_info": {
   "codemirror_mode": {
    "name": "ipython",
    "version": 3
   },
   "file_extension": ".py",
   "mimetype": "text/x-python",
   "name": "python",
   "nbconvert_exporter": "python",
   "pygments_lexer": "ipython3",
   "version": "3.9.15"
  },
  "papermill": {
   "default_parameters": {},
   "duration": 352.58927,
   "end_time": "2022-11-03T04:33:47.809878",
   "environment_variables": {},
   "exception": null,
   "input_path": "MPIA daily digest.ipynb",
   "output_path": "log.ipynb",
   "parameters": {},
   "start_time": "2022-11-03T04:27:55.220608",
   "version": "2.4.0"
  },
  "vscode": {
   "interpreter": {
    "hash": "e7370f93d1d0cde622a1f8e1c04877d8463912d04d973331ad4851f04de6915a"
   }
  },
  "widgets": {
   "application/vnd.jupyter.widget-state+json": {
    "state": {
     "0685b8adba4d4a938f59a7ddafd50cc5": {
      "model_module": "@jupyter-widgets/controls",
      "model_module_version": "2.0.0",
      "model_name": "FloatProgressModel",
      "state": {
       "_dom_classes": [],
       "_model_module": "@jupyter-widgets/controls",
       "_model_module_version": "2.0.0",
       "_model_name": "FloatProgressModel",
       "_view_count": null,
       "_view_module": "@jupyter-widgets/controls",
       "_view_module_version": "2.0.0",
       "_view_name": "ProgressView",
       "bar_style": "success",
       "description": "",
       "description_allow_html": false,
       "layout": "IPY_MODEL_a303f14b655c4dd994514bff98118742",
       "max": 20.0,
       "min": 0.0,
       "orientation": "horizontal",
       "style": "IPY_MODEL_3025d3bdb63447f58f25f727eba4c31e",
       "tabbable": null,
       "tooltip": null,
       "value": 20.0
      }
     },
     "3025d3bdb63447f58f25f727eba4c31e": {
      "model_module": "@jupyter-widgets/controls",
      "model_module_version": "2.0.0",
      "model_name": "ProgressStyleModel",
      "state": {
       "_model_module": "@jupyter-widgets/controls",
       "_model_module_version": "2.0.0",
       "_model_name": "ProgressStyleModel",
       "_view_count": null,
       "_view_module": "@jupyter-widgets/base",
       "_view_module_version": "2.0.0",
       "_view_name": "StyleView",
       "bar_color": null,
       "description_width": ""
      }
     },
     "33a14831f5c64ef79a241a91378ae30f": {
      "model_module": "@jupyter-widgets/controls",
      "model_module_version": "2.0.0",
      "model_name": "HTMLModel",
      "state": {
       "_dom_classes": [],
       "_model_module": "@jupyter-widgets/controls",
       "_model_module_version": "2.0.0",
       "_model_name": "HTMLModel",
       "_view_count": null,
       "_view_module": "@jupyter-widgets/controls",
       "_view_module_version": "2.0.0",
       "_view_name": "HTMLView",
       "description": "",
       "description_allow_html": false,
       "layout": "IPY_MODEL_787fddc068bc4981b935ceaef55790aa",
       "placeholder": "​",
       "style": "IPY_MODEL_f13d7f26625142a081c49ae20e5dbfda",
       "tabbable": null,
       "tooltip": null,
       "value": "100%"
      }
     },
     "4d1eabed452c4b86b9e149c283e89019": {
      "model_module": "@jupyter-widgets/controls",
      "model_module_version": "2.0.0",
      "model_name": "HBoxModel",
      "state": {
       "_dom_classes": [],
       "_model_module": "@jupyter-widgets/controls",
       "_model_module_version": "2.0.0",
       "_model_name": "HBoxModel",
       "_view_count": null,
       "_view_module": "@jupyter-widgets/controls",
       "_view_module_version": "2.0.0",
       "_view_name": "HBoxView",
       "box_style": "",
       "children": [
        "IPY_MODEL_33a14831f5c64ef79a241a91378ae30f",
        "IPY_MODEL_0685b8adba4d4a938f59a7ddafd50cc5",
        "IPY_MODEL_783a58764d1143b593fb71ca52592c51"
       ],
       "layout": "IPY_MODEL_f3fe80f0c90e46be97071bc01b7028a3",
       "tabbable": null,
       "tooltip": null
      }
     },
     "783a58764d1143b593fb71ca52592c51": {
      "model_module": "@jupyter-widgets/controls",
      "model_module_version": "2.0.0",
      "model_name": "HTMLModel",
      "state": {
       "_dom_classes": [],
       "_model_module": "@jupyter-widgets/controls",
       "_model_module_version": "2.0.0",
       "_model_name": "HTMLModel",
       "_view_count": null,
       "_view_module": "@jupyter-widgets/controls",
       "_view_module_version": "2.0.0",
       "_view_name": "HTMLView",
       "description": "",
       "description_allow_html": false,
       "layout": "IPY_MODEL_e8f69070e1ce474e82b4840339863f24",
       "placeholder": "​",
       "style": "IPY_MODEL_96ee99da5df84e23b8fe87a36af6bf9a",
       "tabbable": null,
       "tooltip": null,
       "value": " 20/20 [04:54&lt;00:00,  3.50s/it]"
      }
     },
     "787fddc068bc4981b935ceaef55790aa": {
      "model_module": "@jupyter-widgets/base",
      "model_module_version": "2.0.0",
      "model_name": "LayoutModel",
      "state": {
       "_model_module": "@jupyter-widgets/base",
       "_model_module_version": "2.0.0",
       "_model_name": "LayoutModel",
       "_view_count": null,
       "_view_module": "@jupyter-widgets/base",
       "_view_module_version": "2.0.0",
       "_view_name": "LayoutView",
       "align_content": null,
       "align_items": null,
       "align_self": null,
       "border_bottom": null,
       "border_left": null,
       "border_right": null,
       "border_top": null,
       "bottom": null,
       "display": null,
       "flex": null,
       "flex_flow": null,
       "grid_area": null,
       "grid_auto_columns": null,
       "grid_auto_flow": null,
       "grid_auto_rows": null,
       "grid_column": null,
       "grid_gap": null,
       "grid_row": null,
       "grid_template_areas": null,
       "grid_template_columns": null,
       "grid_template_rows": null,
       "height": null,
       "justify_content": null,
       "justify_items": null,
       "left": null,
       "margin": null,
       "max_height": null,
       "max_width": null,
       "min_height": null,
       "min_width": null,
       "object_fit": null,
       "object_position": null,
       "order": null,
       "overflow": null,
       "padding": null,
       "right": null,
       "top": null,
       "visibility": null,
       "width": null
      }
     },
     "96ee99da5df84e23b8fe87a36af6bf9a": {
      "model_module": "@jupyter-widgets/controls",
      "model_module_version": "2.0.0",
      "model_name": "HTMLStyleModel",
      "state": {
       "_model_module": "@jupyter-widgets/controls",
       "_model_module_version": "2.0.0",
       "_model_name": "HTMLStyleModel",
       "_view_count": null,
       "_view_module": "@jupyter-widgets/base",
       "_view_module_version": "2.0.0",
       "_view_name": "StyleView",
       "background": null,
       "description_width": "",
       "font_size": null,
       "text_color": null
      }
     },
     "a303f14b655c4dd994514bff98118742": {
      "model_module": "@jupyter-widgets/base",
      "model_module_version": "2.0.0",
      "model_name": "LayoutModel",
      "state": {
       "_model_module": "@jupyter-widgets/base",
       "_model_module_version": "2.0.0",
       "_model_name": "LayoutModel",
       "_view_count": null,
       "_view_module": "@jupyter-widgets/base",
       "_view_module_version": "2.0.0",
       "_view_name": "LayoutView",
       "align_content": null,
       "align_items": null,
       "align_self": null,
       "border_bottom": null,
       "border_left": null,
       "border_right": null,
       "border_top": null,
       "bottom": null,
       "display": null,
       "flex": null,
       "flex_flow": null,
       "grid_area": null,
       "grid_auto_columns": null,
       "grid_auto_flow": null,
       "grid_auto_rows": null,
       "grid_column": null,
       "grid_gap": null,
       "grid_row": null,
       "grid_template_areas": null,
       "grid_template_columns": null,
       "grid_template_rows": null,
       "height": null,
       "justify_content": null,
       "justify_items": null,
       "left": null,
       "margin": null,
       "max_height": null,
       "max_width": null,
       "min_height": null,
       "min_width": null,
       "object_fit": null,
       "object_position": null,
       "order": null,
       "overflow": null,
       "padding": null,
       "right": null,
       "top": null,
       "visibility": null,
       "width": null
      }
     },
     "e8f69070e1ce474e82b4840339863f24": {
      "model_module": "@jupyter-widgets/base",
      "model_module_version": "2.0.0",
      "model_name": "LayoutModel",
      "state": {
       "_model_module": "@jupyter-widgets/base",
       "_model_module_version": "2.0.0",
       "_model_name": "LayoutModel",
       "_view_count": null,
       "_view_module": "@jupyter-widgets/base",
       "_view_module_version": "2.0.0",
       "_view_name": "LayoutView",
       "align_content": null,
       "align_items": null,
       "align_self": null,
       "border_bottom": null,
       "border_left": null,
       "border_right": null,
       "border_top": null,
       "bottom": null,
       "display": null,
       "flex": null,
       "flex_flow": null,
       "grid_area": null,
       "grid_auto_columns": null,
       "grid_auto_flow": null,
       "grid_auto_rows": null,
       "grid_column": null,
       "grid_gap": null,
       "grid_row": null,
       "grid_template_areas": null,
       "grid_template_columns": null,
       "grid_template_rows": null,
       "height": null,
       "justify_content": null,
       "justify_items": null,
       "left": null,
       "margin": null,
       "max_height": null,
       "max_width": null,
       "min_height": null,
       "min_width": null,
       "object_fit": null,
       "object_position": null,
       "order": null,
       "overflow": null,
       "padding": null,
       "right": null,
       "top": null,
       "visibility": null,
       "width": null
      }
     },
     "f13d7f26625142a081c49ae20e5dbfda": {
      "model_module": "@jupyter-widgets/controls",
      "model_module_version": "2.0.0",
      "model_name": "HTMLStyleModel",
      "state": {
       "_model_module": "@jupyter-widgets/controls",
       "_model_module_version": "2.0.0",
       "_model_name": "HTMLStyleModel",
       "_view_count": null,
       "_view_module": "@jupyter-widgets/base",
       "_view_module_version": "2.0.0",
       "_view_name": "StyleView",
       "background": null,
       "description_width": "",
       "font_size": null,
       "text_color": null
      }
     },
     "f3fe80f0c90e46be97071bc01b7028a3": {
      "model_module": "@jupyter-widgets/base",
      "model_module_version": "2.0.0",
      "model_name": "LayoutModel",
      "state": {
       "_model_module": "@jupyter-widgets/base",
       "_model_module_version": "2.0.0",
       "_model_name": "LayoutModel",
       "_view_count": null,
       "_view_module": "@jupyter-widgets/base",
       "_view_module_version": "2.0.0",
       "_view_name": "LayoutView",
       "align_content": null,
       "align_items": null,
       "align_self": null,
       "border_bottom": null,
       "border_left": null,
       "border_right": null,
       "border_top": null,
       "bottom": null,
       "display": null,
       "flex": null,
       "flex_flow": null,
       "grid_area": null,
       "grid_auto_columns": null,
       "grid_auto_flow": null,
       "grid_auto_rows": null,
       "grid_column": null,
       "grid_gap": null,
       "grid_row": null,
       "grid_template_areas": null,
       "grid_template_columns": null,
       "grid_template_rows": null,
       "height": null,
       "justify_content": null,
       "justify_items": null,
       "left": null,
       "margin": null,
       "max_height": null,
       "max_width": null,
       "min_height": null,
       "min_width": null,
       "object_fit": null,
       "object_position": null,
       "order": null,
       "overflow": null,
       "padding": null,
       "right": null,
       "top": null,
       "visibility": null,
       "width": null
      }
     }
    },
    "version_major": 2,
    "version_minor": 0
   }
  }
 },
 "nbformat": 4,
 "nbformat_minor": 5
}