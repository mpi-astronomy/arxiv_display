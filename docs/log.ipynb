{
 "cells": [
  {
   "cell_type": "markdown",
   "id": "92bcb855",
   "metadata": {
    "papermill": {
     "duration": 0.004621,
     "end_time": "2023-08-24T04:04:06.521372",
     "exception": false,
     "start_time": "2023-08-24T04:04:06.516751",
     "status": "completed"
    },
    "tags": []
   },
   "source": [
    "# MPIA Arxiv on Deck 2\n",
    "\n",
    "Contains the steps to produce the paper extractions."
   ]
  },
  {
   "cell_type": "code",
   "execution_count": 1,
   "id": "3a0d6e11",
   "metadata": {
    "execution": {
     "iopub.execute_input": "2023-08-24T04:04:06.530106Z",
     "iopub.status.busy": "2023-08-24T04:04:06.529560Z",
     "iopub.status.idle": "2023-08-24T04:04:06.753520Z",
     "shell.execute_reply": "2023-08-24T04:04:06.752892Z"
    },
    "papermill": {
     "duration": 0.230155,
     "end_time": "2023-08-24T04:04:06.755351",
     "exception": false,
     "start_time": "2023-08-24T04:04:06.525196",
     "status": "completed"
    },
    "tags": []
   },
   "outputs": [],
   "source": [
    "# Imports\n",
    "import os\n",
    "from IPython.display import Markdown, display\n",
    "from tqdm.notebook import tqdm\n",
    "import warnings\n",
    "from PIL import Image \n",
    "\n",
    "# requires arxiv_on_deck_2\n",
    "\n",
    "from arxiv_on_deck_2.arxiv2 import (get_new_papers, \n",
    "                                    get_paper_from_identifier,\n",
    "                                    retrieve_document_source, \n",
    "                                    get_markdown_badge)\n",
    "from arxiv_on_deck_2 import (latex,\n",
    "                             latex_bib,\n",
    "                             mpia,\n",
    "                             highlight_authors_in_list)\n",
    "\n",
    "# Sometimes images are really big\n",
    "Image.MAX_IMAGE_PIXELS = 1000000000 "
   ]
  },
  {
   "cell_type": "code",
   "execution_count": 2,
   "id": "22aa9d44",
   "metadata": {
    "execution": {
     "iopub.execute_input": "2023-08-24T04:04:06.763848Z",
     "iopub.status.busy": "2023-08-24T04:04:06.763545Z",
     "iopub.status.idle": "2023-08-24T04:04:06.768978Z",
     "shell.execute_reply": "2023-08-24T04:04:06.768314Z"
    },
    "papermill": {
     "duration": 0.011654,
     "end_time": "2023-08-24T04:04:06.770723",
     "exception": false,
     "start_time": "2023-08-24T04:04:06.759069",
     "status": "completed"
    },
    "tags": []
   },
   "outputs": [],
   "source": [
    "# Some useful definitions.\n",
    "\n",
    "class AffiliationWarning(UserWarning):\n",
    "    pass\n",
    "\n",
    "class AffiliationError(RuntimeError):\n",
    "    pass\n",
    "\n",
    "def validation(source: str):\n",
    "    \"\"\"Raises error paper during parsing of source file\n",
    "    \n",
    "    Allows checks before parsing TeX code.\n",
    "    \n",
    "    Raises AffiliationWarning\n",
    "    \"\"\"\n",
    "    check = mpia.affiliation_verifications(source, verbose=True)\n",
    "    if check is not True:\n",
    "        raise AffiliationError(\"mpia.affiliation_verifications: \" + check)\n",
    "\n",
    "        \n",
    "warnings.simplefilter('always', AffiliationWarning)\n",
    "\n",
    "\n",
    "def get_markdown_qrcode(paper_id: str):\n",
    "    \"\"\" Generate a qrcode to the arxiv page using qrserver.com\n",
    "    \n",
    "    :param paper: Arxiv paper\n",
    "    :returns: markdown text\n",
    "    \"\"\"\n",
    "    url = r\"https://api.qrserver.com/v1/create-qr-code/?size=100x100&data=\"\n",
    "    txt = f\"\"\"<img src={url}\"https://arxiv.org/abs/{paper_id}\">\"\"\"\n",
    "    txt = '<div id=\"qrcode\">' + txt + '</div>'\n",
    "    return txt"
   ]
  },
  {
   "cell_type": "markdown",
   "id": "14bd6310",
   "metadata": {
    "papermill": {
     "duration": 0.003568,
     "end_time": "2023-08-24T04:04:06.777687",
     "exception": false,
     "start_time": "2023-08-24T04:04:06.774119",
     "status": "completed"
    },
    "tags": []
   },
   "source": [
    "## get list of arxiv paper candidates\n",
    "\n",
    "We use the MPIA mitarbeiter list webpage from mpia.de to get author names\n",
    "We then get all new papers from Arxiv and match authors"
   ]
  },
  {
   "cell_type": "code",
   "execution_count": 3,
   "id": "2645e73a",
   "metadata": {
    "execution": {
     "iopub.execute_input": "2023-08-24T04:04:06.788810Z",
     "iopub.status.busy": "2023-08-24T04:04:06.787285Z",
     "iopub.status.idle": "2023-08-24T04:04:28.357241Z",
     "shell.execute_reply": "2023-08-24T04:04:28.356260Z"
    },
    "papermill": {
     "duration": 21.576188,
     "end_time": "2023-08-24T04:04:28.358857",
     "exception": false,
     "start_time": "2023-08-24T04:04:06.782669",
     "status": "completed"
    },
    "tags": []
   },
   "outputs": [
    {
     "name": "stdout",
     "output_type": "stream",
     "text": [
      "A. Hughes  ->  A. Hughes  |  ['A. Hughes']\n",
      "E. Bañados  ->  E. Bañados  |  ['E. Bañados']\n",
      "N. Storm  ->  N. Storm  |  ['N. Storm']\n",
      "M. Bergemann  ->  M. Bergemann  |  ['M. Bergemann']\n",
      "Arxiv has 37 new papers today\n",
      "          3 with possible author matches\n"
     ]
    }
   ],
   "source": [
    "# get list from MPIA website\n",
    "# it automatically filters identified non-scientists :func:`mpia.filter_non_scientists`\n",
    "mpia_authors = mpia.get_mpia_mitarbeiter_list()\n",
    "normed_mpia_authors = [k[1] for k in mpia_authors]   # initials + fullname\n",
    "new_papers = get_new_papers()\n",
    "# add manual references\n",
    "add_paper_refs = []\n",
    "new_papers.extend([get_paper_from_identifier(k) for k in add_paper_refs])\n",
    "\n",
    "candidates = []\n",
    "for paperk in new_papers:\n",
    "    # Check author list with their initials\n",
    "    normed_author_list = [mpia.get_initials(k) for k in paperk['authors']]\n",
    "    hl_authors = highlight_authors_in_list(normed_author_list, normed_mpia_authors, verbose=True)\n",
    "    matches = [(hl, orig) for hl, orig in zip(hl_authors, paperk['authors']) if 'mark' in hl]\n",
    "    paperk['authors'] = hl_authors\n",
    "    if matches:\n",
    "        # only select paper if an author matched our list\n",
    "        candidates.append(paperk)\n",
    "print(\"\"\"Arxiv has {0:,d} new papers today\"\"\".format(len(new_papers)))        \n",
    "print(\"\"\"          {0:,d} with possible author matches\"\"\".format(len(candidates)))"
   ]
  },
  {
   "cell_type": "markdown",
   "id": "3543b34a",
   "metadata": {
    "papermill": {
     "duration": 0.003702,
     "end_time": "2023-08-24T04:04:28.366397",
     "exception": false,
     "start_time": "2023-08-24T04:04:28.362695",
     "status": "completed"
    },
    "tags": []
   },
   "source": [
    "# Parse sources and generate relevant outputs\n",
    "\n",
    "From the candidates, we do the following steps:\n",
    "* get their tarball from ArXiv (and extract data)\n",
    "* find the main .tex file: find one with \\documentclass{...} (sometimes it's non trivial)\n",
    "* Check affiliations with :func:`validation`, which uses :func:`mpia.affiliation_verifications`\n",
    "* If passing the affiliations: we parse the .tex source\n",
    "   * inject sub-documents into the main (flatten the main document)\n",
    "   * parse structure, extract information (title, abstract, authors, figures...)\n",
    "   * handles `\\graphicspath` if provided\n",
    "* Generate the .md document."
   ]
  },
  {
   "cell_type": "code",
   "execution_count": 4,
   "id": "9576b79e",
   "metadata": {
    "execution": {
     "iopub.execute_input": "2023-08-24T04:04:28.374803Z",
     "iopub.status.busy": "2023-08-24T04:04:28.374202Z",
     "iopub.status.idle": "2023-08-24T04:06:23.185991Z",
     "shell.execute_reply": "2023-08-24T04:06:23.185225Z"
    },
    "papermill": {
     "duration": 114.81783,
     "end_time": "2023-08-24T04:06:23.187670",
     "exception": false,
     "start_time": "2023-08-24T04:04:28.369840",
     "status": "completed"
    },
    "scrolled": false,
    "tags": []
   },
   "outputs": [
    {
     "data": {
      "application/vnd.jupyter.widget-view+json": {
       "model_id": "672e325ca7bc47a7bdd13dca73c9a50b",
       "version_major": 2,
       "version_minor": 0
      },
      "text/plain": [
       "  0%|          | 0/3 [00:00<?, ?it/s]"
      ]
     },
     "metadata": {},
     "output_type": "display_data"
    },
    {
     "name": "stdout",
     "output_type": "stream",
     "text": [
      "Retrieving document from  https://arxiv.org/e-print/2308.11690\n"
     ]
    },
    {
     "name": "stderr",
     "output_type": "stream",
     "text": [
      "/tmp/ipykernel_2153/3009462391.py:49: LatexWarning: 2308.11690 did not run properly\n",
      "not a gzip file\n",
      "  warnings.warn(latex.LatexWarning(f\"{paper_id:s} did not run properly\\n\" +\n"
     ]
    },
    {
     "name": "stdout",
     "output_type": "stream",
     "text": [
      "Retrieving document from  https://arxiv.org/e-print/2308.11888\n"
     ]
    },
    {
     "name": "stdout",
     "output_type": "stream",
     "text": [
      "extracting tarball to tmp_2308.11888..."
     ]
    },
    {
     "name": "stdout",
     "output_type": "stream",
     "text": [
      " done.\n"
     ]
    },
    {
     "name": "stdout",
     "output_type": "stream",
     "text": [
      "list index out of range\n",
      "Retrieving document from  https://arxiv.org/e-print/2308.12092\n"
     ]
    },
    {
     "name": "stdout",
     "output_type": "stream",
     "text": [
      "extracting tarball to tmp_2308.12092... done.\n"
     ]
    },
    {
     "name": "stderr",
     "output_type": "stream",
     "text": [
      "/opt/hostedtoolcache/Python/3.9.17/x64/lib/python3.9/site-packages/IPython/core/interactiveshell.py:3508: LatexWarning: Multiple tex files.\n",
      "\n",
      "  exec(code_obj, self.user_global_ns, self.user_ns)\n",
      "/opt/hostedtoolcache/Python/3.9.17/x64/lib/python3.9/site-packages/IPython/core/interactiveshell.py:3508: LatexWarning: Found documentclass in tmp_2308.12092/main.tex\n",
      "\n",
      "  exec(code_obj, self.user_global_ns, self.user_ns)\n"
     ]
    },
    {
     "name": "stdout",
     "output_type": "stream",
     "text": [
      "Found 107 bibliographic references in tmp_2308.12092/main.bbl.\n"
     ]
    }
   ],
   "source": [
    "documents = []\n",
    "failed = []\n",
    "for paper in tqdm(candidates):\n",
    "    paper_id = paper['identifier'].lower().replace('arxiv:', '')\n",
    "    \n",
    "    folder = f'tmp_{paper_id}'\n",
    "\n",
    "    try:\n",
    "        if not os.path.isdir(folder):\n",
    "            folder = retrieve_document_source(f\"{paper_id}\", f'tmp_{paper_id}')\n",
    "        \n",
    "        try:\n",
    "            doc = latex.LatexDocument(folder, validation=validation)    \n",
    "        except AffiliationError as affilerror:\n",
    "            msg = f\"ArXiv:{paper_id:s} is not an MPIA paper... \" + str(affilerror)\n",
    "            failed.append((paper, \"affiliation error: \" + str(affilerror) ))\n",
    "            continue\n",
    "        \n",
    "        # Hack because sometimes author parsing does not work well\n",
    "        if (len(doc.authors) != len(paper['authors'])):\n",
    "            doc._authors = paper['authors']\n",
    "        else:\n",
    "            # highlight authors (FIXME: doc.highlight_authors)\n",
    "            # done on arxiv paper already\n",
    "            doc._authors = highlight_authors_in_list(\n",
    "                [mpia.get_initials(k) for k in doc.authors], \n",
    "                normed_mpia_authors, verbose=True)\n",
    "        if (doc.abstract) in (None, ''):\n",
    "            doc._abstract = paper['abstract']\n",
    "            \n",
    "        doc.comment = (get_markdown_badge(paper_id) + \n",
    "                       \"<mark>Appeared on: \" + paper['date'] + \"</mark> - \")\n",
    "        if paper['comments']:\n",
    "            doc.comment += \" _\" + paper['comments'] + \"_\"\n",
    "        \n",
    "        full_md = doc.generate_markdown_text()\n",
    "        \n",
    "        full_md += get_markdown_qrcode(paper_id)\n",
    "        \n",
    "        # replace citations\n",
    "        try:\n",
    "            bibdata = latex_bib.LatexBib.from_doc(doc)\n",
    "            full_md = latex_bib.replace_citations(full_md, bibdata)\n",
    "        except Exception as e:\n",
    "            print(e)\n",
    "        \n",
    "        documents.append((paper_id, full_md))\n",
    "    except Exception as e:\n",
    "        warnings.warn(latex.LatexWarning(f\"{paper_id:s} did not run properly\\n\" +\n",
    "                                         str(e)\n",
    "                                        ))\n",
    "        failed.append((paper, \"latex error \" + str(e)))"
   ]
  },
  {
   "cell_type": "markdown",
   "id": "2505a25c",
   "metadata": {
    "papermill": {
     "duration": 0.004515,
     "end_time": "2023-08-24T04:06:23.196732",
     "exception": false,
     "start_time": "2023-08-24T04:06:23.192217",
     "status": "completed"
    },
    "tags": []
   },
   "source": [
    "### Export the logs\n",
    "\n",
    "Throughout, we also keep track of the logs per paper. see `logs-{today date}.md` "
   ]
  },
  {
   "cell_type": "code",
   "execution_count": 5,
   "id": "d733828a",
   "metadata": {
    "execution": {
     "iopub.execute_input": "2023-08-24T04:06:23.206857Z",
     "iopub.status.busy": "2023-08-24T04:06:23.206155Z",
     "iopub.status.idle": "2023-08-24T04:06:23.224216Z",
     "shell.execute_reply": "2023-08-24T04:06:23.223569Z"
    },
    "papermill": {
     "duration": 0.026583,
     "end_time": "2023-08-24T04:06:23.227465",
     "exception": false,
     "start_time": "2023-08-24T04:06:23.200882",
     "status": "completed"
    },
    "scrolled": false,
    "tags": []
   },
   "outputs": [
    {
     "data": {
      "text/markdown": [
       "## Successful papers"
      ],
      "text/plain": [
       "<IPython.core.display.Markdown object>"
      ]
     },
     "metadata": {},
     "output_type": "display_data"
    },
    {
     "data": {
      "text/markdown": [
       "\n",
       "|||\n",
       "|---:|:---|\n",
       "| [![arXiv](https://img.shields.io/badge/arXiv-arXiv:2308.11888-b31b1b.svg)](https://arxiv.org/abs/arXiv:2308.11888) | **First measurement of the Mg II forest correlation function in the Epoch  of Reionization**  |\n",
       "|| S. S. Tie, et al. -- incl., <mark>E. Bañados</mark> |\n",
       "|*Appeared on*| *2023-08-24*|\n",
       "|*Comments*| *Submitted to MNRAS; 23 pages, 21 figures, 1 table*|\n",
       "|**Abstract**| In the process of producing the roughly three ionizing photons per atom required to reionize the IGM, the same massive stars explode and eject metals into their surroundings. While the overly sensitive Lya transition makes Gunn-Peterson absorption of background quasar light an ineffective probe of reionization at z > 6, strong low-ionization transitions like the MgII doublet will give rise to a detectable \"metal-line forest\", if metals pollute the neutral IGM. We measure the auto-correlation of the MgII forest transmission using a sample of ten ground based z >= 6.80 quasar spectra probing the redshift range 5.96 < z_MgII < 7.42 (z_MgII,median = 6.47). The correlation function exhibits strong small-scale clustering and a pronounced peak at the doublet velocity (768 km/s) arising from strong absorbers in the CGM of galaxies. After these strong absorbers are identified and masked the signal is consistent with noise. Our measurements are compared to a suite of models generated by combining a large hydrodynamical simulation with a semi-numerical reionization topology, assuming a simple uniform enrichment model. We obtain a 95% credibility upper limit of [Mg/H] < -3.73 at z_MgII,median = 6.47, assuming uninformative priors on [Mg/H] and the IGM neutral fraction x_HI. Splitting the data into low-z (5.96 < z_MgII < 6.47; z_MgII,median = 6.235) and high-z (6.47 < z_MgII < 7.42; z_MgII,median = 6.72) subsamples again yields null-detections and 95% upper limits of [Mg/H] < -3.75 and [Mg/H] < -3.45, respectively. These first measurements set the stage for an approved JWST Cycle 2 program (GO 3526) targeting a similar number of quasars that will be an order of magnitude more sensitive, making the Mgii forest an emerging powerful tool to deliver precision constraints on the reionization and enrichment history of the Universe. |"
      ],
      "text/plain": [
       "[arXiv:2308.11888] First measurement of the Mg II forest correlation function in the Epoch  of Reionization\n",
       "\tS. S. Tie, et al. -- incl., <mark>E. Bañados</mark>"
      ]
     },
     "metadata": {},
     "output_type": "display_data"
    },
    {
     "data": {
      "text/markdown": [
       "\n",
       "|||\n",
       "|---:|:---|\n",
       "| [![arXiv](https://img.shields.io/badge/arXiv-arXiv:2308.12092-b31b1b.svg)](https://arxiv.org/abs/arXiv:2308.12092) | **Observational constraints on the origin of the elements. VII. NLTE  analysis of Y II lines in spectra of cool stars and implications for Y as a  Galactic chemical clock**  |\n",
       "|| <mark>N. Storm</mark>, <mark>M. Bergemann</mark> |\n",
       "|*Appeared on*| *2023-08-24*|\n",
       "|*Comments*| *12 pages, 10 figures, accepted by MNRAS*|\n",
       "|**Abstract**| Yttrium (Y), a key s-process element, is commonly used in nucleosynthesis studies and as a Galactic chemical clock when combined with magnesium (Mg). We study the applicability of the previously assumed LTE line formation assumption in Y abundance studies of main-sequence and red giant stars, and probe the impact of NLTE effects on the [Y/Mg] ratio, a proposed stellar age indicator. We derive stellar parameters, ages, and NLTE abundances of Fe, Mg, and Y for 48 solar analogue stars from high-resolution spectra acquired within the Gaia-ESO survey. For Y, we present a new NLTE atomic model. We determine a solar NLTE abundance of A(Y)$_{\\rm NLTE}=2.12\\pm0.04$ dex, $0.04$ dex higher than LTE. NLTE effects on Y abundance are modest for optical Y II lines, which are frequently used in Sun-like stars diagnostics. NLTE has a small impact on the [Y/Mg] ratio in such stars. For metal-poor red giants, NLTE effects on Y II lines are substantial, potentially exceeding $+0.5$ dex. For the Gaia/4MOST/WEAVE benchmark star, HD 122563, we find the NLTE abundance ratio of [Y/Fe]$_{\\rm NLTE}=-0.55\\pm0.04$ dex with consistent abundances obtained from different Y II lines. NLTE has a differential effect on Y abundance diagnostics in late-type stars. They notably affect Y II lines in red giants and very metal-poor stars, which are typical Galactic enrichment tracers of neutron-capture elements. For main-sequence stars, NLTE effects on optical diagnostic Y II lines remain minimal across metallicities. This affirms the [Y/Mg] ratio's reliability as a cosmochronometer for Sun-like stars. |"
      ],
      "text/plain": [
       "[arXiv:2308.12092] Observational constraints on the origin of the elements. VII. NLTE  analysis of Y II lines in spectra of cool stars and implications for Y as a  Galactic chemical clock\n",
       "\t<mark>N. Storm</mark>, <mark>M. Bergemann</mark>"
      ]
     },
     "metadata": {},
     "output_type": "display_data"
    },
    {
     "data": {
      "text/markdown": [
       "## Failed papers"
      ],
      "text/plain": [
       "<IPython.core.display.Markdown object>"
      ]
     },
     "metadata": {},
     "output_type": "display_data"
    },
    {
     "data": {
      "text/markdown": [
       "\n",
       "|||\n",
       "|---:|:---|\n",
       "| [![arXiv](https://img.shields.io/badge/arXiv-arXiv:2308.11690-b31b1b.svg)](https://arxiv.org/abs/arXiv:2308.11690) | **The case for studying other planetary magnetospheres and atmospheres in  Heliophysics**  |\n",
       "|| I. J. Cohen, et al. -- incl., <mark>A. Hughes</mark> |\n",
       "|*Appeared on*| *2023-08-24*|\n",
       "|*Comments*| **|\n",
       "|**Abstract**| Heliophysics is the field that ``studies the nature of the Sun, and how it influences the very nature of space - and, in turn, the atmospheres of planetary bodies and the technology that exists there.'' However, NASA's Heliophysics Division tends to limit study of planetary magnetospheres and atmospheres to only those of Earth. This leaves exploration and understanding of space plasma physics at other worlds to the purview of the Planetary Science and Astrophysics Divisions. This is detrimental to the study of space plasma physics in general since, although some cross-divisional funding opportunities do exist, vital elements of space plasma physics can be best addressed by extending the expertise of Heliophysics scientists to other stellar and planetary magnetospheres. However, the diverse worlds within the solar system provide crucial environmental conditions that are not replicated at Earth but can provide deep insight into fundamental space plasma physics processes. Studying planetary systems with Heliophysics objectives, comprehensive instrumentation, and new grant opportunities for analysis and modeling would enable a novel understanding of fundamental and universal processes of space plasma physics. As such, the Heliophysics community should be prepared to consider, prioritize, and fund dedicated Heliophysics efforts to planetary targets to specifically study space physics and aeronomy objectives. |\n",
       "|<p style=\"color:red\"> **ERROR** </p>| <p style=\"color:red\">latex error not a gzip file</p> |"
      ],
      "text/plain": [
       "<IPython.core.display.Markdown object>"
      ]
     },
     "metadata": {},
     "output_type": "display_data"
    }
   ],
   "source": [
    "import datetime\n",
    "today = str(datetime.date.today())\n",
    "logfile = f\"_build/html/logs/log-{today}.md\"\n",
    "\n",
    "\n",
    "with open(logfile, 'w') as logs:\n",
    "    # Success\n",
    "    logs.write(f'# Arxiv on Deck 2: Logs - {today}\\n\\n')\n",
    "    logs.write(\"\"\"* Arxiv had {0:,d} new papers\\n\"\"\".format(len(new_papers)))\n",
    "    logs.write(\"\"\"    * {0:,d} with possible author matches\\n\\n\"\"\".format(len(candidates)))\n",
    "    logs.write(\"## Sucessful papers\\n\\n\")\n",
    "    display(Markdown(\"## Successful papers\"))\n",
    "    success = [k[0] for k in documents]\n",
    "    for candid in candidates:\n",
    "        if candid['identifier'].split(':')[-1] in success:\n",
    "            display(candid)\n",
    "            logs.write(candid.generate_markdown_text() + '\\n\\n')\n",
    "\n",
    "    ## failed\n",
    "    logs.write(\"## Failed papers\\n\\n\")\n",
    "    display(Markdown(\"## Failed papers\"))\n",
    "    failed = sorted(failed, key=lambda x: x[1])\n",
    "    current_reason = \"\"\n",
    "    for paper, reason in failed:\n",
    "        if 'affiliation' in reason:\n",
    "            color = 'green'\n",
    "        else:\n",
    "            color = 'red'\n",
    "        data = Markdown(\n",
    "                paper.generate_markdown_text() + \n",
    "                f'\\n|<p style=\"color:{color:s}\"> **ERROR** </p>| <p style=\"color:{color:s}\">{reason:s}</p> |'\n",
    "               )\n",
    "        if reason != current_reason:\n",
    "            logs.write(f'### {reason:s} \\n\\n')\n",
    "            current_reason = reason\n",
    "        logs.write(data.data + '\\n\\n')\n",
    "        \n",
    "        # only display here the important errors (all in logs)\n",
    "        # if color in ('red',):\n",
    "        display(data)"
   ]
  },
  {
   "cell_type": "markdown",
   "id": "472d20ee",
   "metadata": {
    "papermill": {
     "duration": 0.004774,
     "end_time": "2023-08-24T04:06:23.237075",
     "exception": false,
     "start_time": "2023-08-24T04:06:23.232301",
     "status": "completed"
    },
    "tags": []
   },
   "source": [
    "## Export documents\n",
    "\n",
    "We now write the .md files and export relevant images"
   ]
  },
  {
   "cell_type": "code",
   "execution_count": 6,
   "id": "d426aed9",
   "metadata": {
    "execution": {
     "iopub.execute_input": "2023-08-24T04:06:23.247820Z",
     "iopub.status.busy": "2023-08-24T04:06:23.247600Z",
     "iopub.status.idle": "2023-08-24T04:06:23.254265Z",
     "shell.execute_reply": "2023-08-24T04:06:23.253742Z"
    },
    "papermill": {
     "duration": 0.013668,
     "end_time": "2023-08-24T04:06:23.255596",
     "exception": false,
     "start_time": "2023-08-24T04:06:23.241928",
     "status": "completed"
    },
    "tags": []
   },
   "outputs": [],
   "source": [
    "def export_markdown_summary(md: str, md_fname:str, directory: str):\n",
    "    \"\"\"Export MD document and associated relevant images\"\"\"\n",
    "    import os\n",
    "    import shutil\n",
    "    import re\n",
    "\n",
    "    if (os.path.exists(directory) and not os.path.isdir(directory)):\n",
    "        raise RuntimeError(f\"a non-directory file exists with name {directory:s}\")\n",
    "\n",
    "    if (not os.path.exists(directory)):\n",
    "        print(f\"creating directory {directory:s}\")\n",
    "        os.mkdir(directory)\n",
    "\n",
    "    fig_fnames = (re.compile(r'\\[Fig.*\\]\\((.*)\\)').findall(md) + \n",
    "                  re.compile(r'\\<img src=\"([^>\\s]*)\"[^>]*/>').findall(md))\n",
    "    for fname in fig_fnames:\n",
    "        if 'http' in fname:\n",
    "            # No need to copy online figures\n",
    "            continue\n",
    "        destdir = os.path.join(directory, os.path.dirname(fname))\n",
    "        destfname = os.path.join(destdir, os.path.basename(fname))\n",
    "        try:\n",
    "            os.makedirs(destdir)\n",
    "        except FileExistsError:\n",
    "            pass\n",
    "        shutil.copy(fname, destfname)\n",
    "    with open(os.path.join(directory, md_fname), 'w') as fout:\n",
    "        fout.write(md)\n",
    "    print(\"exported in \", os.path.join(directory, md_fname))\n",
    "    [print(\"    + \" + os.path.join(directory,fk)) for fk in fig_fnames]"
   ]
  },
  {
   "cell_type": "code",
   "execution_count": 7,
   "id": "014d04a4",
   "metadata": {
    "execution": {
     "iopub.execute_input": "2023-08-24T04:06:23.266600Z",
     "iopub.status.busy": "2023-08-24T04:06:23.266027Z",
     "iopub.status.idle": "2023-08-24T04:06:23.276925Z",
     "shell.execute_reply": "2023-08-24T04:06:23.276236Z"
    },
    "papermill": {
     "duration": 0.017985,
     "end_time": "2023-08-24T04:06:23.278390",
     "exception": false,
     "start_time": "2023-08-24T04:06:23.260405",
     "status": "completed"
    },
    "tags": []
   },
   "outputs": [
    {
     "name": "stdout",
     "output_type": "stream",
     "text": [
      "exported in  _build/html/2308.11888.md\n",
      "    + _build/html/tmp_2308.11888/./figures/spec_J0313-1806.png\n",
      "    + _build/html/tmp_2308.11888/./figures/spec_J1342+0928.png\n",
      "    + _build/html/tmp_2308.11888/./figures/spec_J1007+2115.png\n",
      "    + _build/html/tmp_2308.11888/./figures/allz_corr_func_data.png\n",
      "    + _build/html/tmp_2308.11888/./figures/allz_corner_plot.png\n",
      "    + _build/html/tmp_2308.11888/./figures/masked4_J0313-1806.png\n",
      "    + _build/html/tmp_2308.11888/./figures/masked7_J1342+0928.png\n",
      "    + _build/html/tmp_2308.11888/./figures/masked8_J1007+2115.png\n",
      "exported in  _build/html/2308.12092.md\n",
      "    + _build/html/tmp_2308.12092/./figures/y_loggteff_low_v2.png\n",
      "    + _build/html/tmp_2308.12092/./figures/y_loggteff_medium_v2.png\n",
      "    + _build/html/tmp_2308.12092/./figures/yh_elow_v3.png\n",
      "    + _build/html/tmp_2308.12092/./figures/yfe_ew_v3.png\n",
      "    + _build/html/tmp_2308.12092/./figures/s4500_m0_departure_coefficients.png\n",
      "    + _build/html/tmp_2308.12092/./figures/s4500_m3_departure_coefficients.png\n",
      "    + _build/html/tmp_2308.12092/./figures/p6000_m0_departure_coefficients.png\n",
      "    + _build/html/tmp_2308.12092/./figures/p6000_m3_departure_coefficients.png\n"
     ]
    }
   ],
   "source": [
    "for paper_id, md in documents:\n",
    "    export_markdown_summary(md, f\"{paper_id:s}.md\", '_build/html/')"
   ]
  },
  {
   "cell_type": "markdown",
   "id": "f087a0a7",
   "metadata": {
    "papermill": {
     "duration": 0.004907,
     "end_time": "2023-08-24T04:06:23.288250",
     "exception": false,
     "start_time": "2023-08-24T04:06:23.283343",
     "status": "completed"
    },
    "tags": []
   },
   "source": [
    "## Display the papers\n",
    "\n",
    "Not necessary but allows for a quick check."
   ]
  },
  {
   "cell_type": "code",
   "execution_count": 8,
   "id": "fd25f625",
   "metadata": {
    "execution": {
     "iopub.execute_input": "2023-08-24T04:06:23.299976Z",
     "iopub.status.busy": "2023-08-24T04:06:23.299317Z",
     "iopub.status.idle": "2023-08-24T04:06:23.305277Z",
     "shell.execute_reply": "2023-08-24T04:06:23.304670Z"
    },
    "papermill": {
     "duration": 0.013322,
     "end_time": "2023-08-24T04:06:23.306706",
     "exception": false,
     "start_time": "2023-08-24T04:06:23.293384",
     "status": "completed"
    },
    "scrolled": false,
    "tags": []
   },
   "outputs": [
    {
     "data": {
      "text/markdown": [
       "<div class=\"macros\" style=\"visibility:hidden;\">\n",
       "$\\newcommand{\\ensuremath}{}$\n",
       "$\\newcommand{\\xspace}{}$\n",
       "$\\newcommand{\\object}[1]{\\texttt{#1}}$\n",
       "$\\newcommand{\\farcs}{{.}''}$\n",
       "$\\newcommand{\\farcm}{{.}'}$\n",
       "$\\newcommand{\\arcsec}{''}$\n",
       "$\\newcommand{\\arcmin}{'}$\n",
       "$\\newcommand{\\ion}[2]{#1#2}$\n",
       "$\\newcommand{\\textsc}[1]{\\textrm{#1}}$\n",
       "$\\newcommand{\\hl}[1]{\\textrm{#1}}$\n",
       "$\\newcommand{\\footnote}[1]{}$\n",
       "$\\newcommand{\\actaa}{\\rm Acta. Astr.}$\n",
       "$\\newcommand{\\apj}{\\rm ApJ}$\n",
       "$\\newcommand{\\apjl}{\\rm ApJL}$\n",
       "$\\newcommand{\\apjs}{\\rm ApJS}$\n",
       "$\\newcommand{\\aj}{\\rm AJ}$\n",
       "$\\newcommand{\\jcap}{\\rm JCAP}$\n",
       "$\\newcommand{\\mnras}{\\rm MNRAS}$\n",
       "$\\newcommand{\\nat}{\\rm Nature}$\n",
       "$\\newcommand{\\pasj}{\\rm PASJ}$\n",
       "$\\newcommand{\\pasp}{\\rm PASP}$\n",
       "$\\newcommand{\\pasa}{\\rm PASA}$\n",
       "$\\newcommand{\\aap}{\\rm AAP}$\n",
       "$\\newcommand{\\araa}{\\rm ARA\\&A}$\n",
       "$\\newcommand{\\na}{\\rm New Astronomy}$\n",
       "$\\newcommand{\\nar}{\\rm New Astronomy Review}$\n",
       "$\\newcommand{\\prl}{\\rm PRL}$\n",
       "$\\newcommand{\\prd}{\\rm PRD}$\n",
       "$\\newcommand{\\apss}{\\rm Ap\\&SS}$\n",
       "$\\newcommand{\\physrep}{\\rm Physics Reports}$\n",
       "$\\newcommand{\\rmxaa}{\\rm RMXAA}$\n",
       "$\\newcommand{\\lya}{Ly\\alpha}$\n",
       "$\\newcommand{\\hcmpc}{h^{-1} \\mbox{ cMpc}}$\n",
       "$\\newcommand{\\mgii}{\\ion{Mg}{\\uppercase{II}}}$\n",
       "$\\newcommand{\\qsoa}{J0313-1806}$\n",
       "$\\newcommand{\\qsob}{J1342+0928}$\n",
       "$\\newcommand{\\qsoc}{J0252-0503}$\n",
       "$\\newcommand{\\qsod}{J0038-1527}$</div>\n",
       "\n",
       "\n",
       "\n",
       "<div id=\"title\">\n",
       "\n",
       "# First measurement of the $\\ion{Mg}{\\uppercase{II}}$ forest correlation function in the Epoch of Reionization\n",
       "\n",
       "</div>\n",
       "<div id=\"comments\">\n",
       "\n",
       "[![arXiv](https://img.shields.io/badge/arXiv-2308.11888-b31b1b.svg)](https://arxiv.org/abs/2308.11888)<mark>Appeared on: 2023-08-24</mark> -  _Submitted to MNRAS; 23 pages, 21 figures, 1 table_\n",
       "\n",
       "</div>\n",
       "<div id=\"authors\">\n",
       "\n",
       "S. S. Tie, et al. -- incl., <mark>E. Bañados</mark>\n",
       "\n",
       "</div>\n",
       "<div id=\"abstract\">\n",
       "\n",
       "**Abstract:** In the process of producing the roughly three ionizing photons per atom required to reionize the IGM, the same massive stars explode and eject metals into their surroundings, enriching the Universe to $Z\\sim 10^{-3} Z_{\\odot}$ . While the overly sensitive Ly $\\alpha$ transition makes Gunn-Peterson absorption of background quasar light an ineffective probe of reionization at $z > 6$ , strong low-ionization transitions like the $\\ion{Mg}{II}$ $\\lambda 2796,2804$ Å  doublet will give rise to a detectable `metal-line forest', if metals pollute the neutral IGM. We measure the auto-correlation of the $\\ion{Mg}{II}$ forest transmission using a sample of ten ground based $z \\geq 6.80$ quasar spectra probing the redshift range $5.96 < z_{\\rm \\ion{Mg}{II}} < 7.42$ ( $z_{\\rm \\ion{Mg}{II}, median} = 6.47$ ).  The correlation function exhibits strong small-scale clustering and a pronounced peak at the doublet velocity  ( $\\Delta v = 768 {\\rm km s^{-1}}$ ) arisingfrom strong absorbers in the CGM of galaxies. After these strong absorbers are identified and masked the signal is consistent with noise. Our measurements are compared to a suite of models generated by combining a large hydrodynamical simulation with a semi-numerical reionization topology, assuming a simple uniform enrichment model.  We obtain a 95 \\% credibility upper limit of $[{\\rm Mg/H}] <-3.73$ at $z_{\\rm \\ion{Mg}{II},median} = 6.47$ , assuming uninformative priors on [ Mg/H ] and the IGM neutral fraction $x_{\\rm{\\ion{H}{I}}}$ .Splitting the data into low- $z$ ( $5.96 < z_{\\rm \\ion{Mg}{II}} < 6.47$ ; $z_{\\rm \\ion{Mg}{II},median} = 6.235$ ) and high- $z$ ( $6.47 < z_{\\rm \\ion{Mg}{II}} < 7.42$ ; $z_{\\rm \\ion{Mg}{II},median} = 6.72$ ) subsamples again yields null-detections and  95 \\% upper limits of $[{\\rm Mg/H}] <-3.75$ and $[{\\rm Mg/H}] <-3.45$ , respectively.  These first measurements set the stage for an approved JWST Cycle 2 program (GO 3526) targeting a similar number of quasars that will be an order of magnitude more sensitive, making the $\\ion{Mg}{II}$ forest an emerging powerful tool to deliver precision constraints on the reionization and enrichment history of the Universe.\n",
       "\n",
       "</div>\n",
       "\n",
       "<div id=\"div_fig1\">\n",
       "\n",
       "<img src=\"tmp_2308.11888/./figures/spec_J0313-1806.png\" alt=\"Fig3.1\" width=\"33%\"/><img src=\"tmp_2308.11888/./figures/spec_J1342+0928.png\" alt=\"Fig3.2\" width=\"33%\"/><img src=\"tmp_2308.11888/./figures/spec_J1007+2115.png\" alt=\"Fig3.3\" width=\"33%\"/>\n",
       "\n",
       "**Figure 3. -** Three example spectra from our dataset, J0313$-$1806 (top), J1342$+$0928 (middle), and J1007$+$2115 (bottom). In the top panels of each quasar, the red line  is the fitted quasar continuum, the faint black line is the spectral noise, and the shaded regions indicate masks obtained from \\texttt{PypeIt} reduction and from visually-detected strong absorbers, which are applied before continuum fitting. The bottom panel of each quasar shows the continuum-normalized spectrum. Also shown is the telluric spectrum in blue. The multi-colored shaded regions indicate masks due to \\texttt{PypeIt} reduction (if available, in green), proximity to quasars and where $z > z_{\\rm{QSO}}$(gray), low SNR due to telluric absorption (blue), and detected CGM absorbers (red; see \\S 4), where we use the unshaded regions for the correlation function measurement and inference. The vertical dashed lines indicate the quasar redshift. (*specj0313*)\n",
       "\n",
       "</div>\n",
       "<div id=\"div_fig2\">\n",
       "\n",
       "<img src=\"tmp_2308.11888/./figures/allz_corr_func_data.png\" alt=\"Fig13.1\" width=\"50%\"/><img src=\"tmp_2308.11888/./figures/allz_corner_plot.png\" alt=\"Fig13.2\" width=\"50%\"/>\n",
       "\n",
       "**Figure 13. -** Results from our MCMC analyses in the all-$z$ redshift bin ($z_{\\rm{$\\ion${Mg}{II},med}} = 6.469$). _Left:_ Correlation function measured from our dataset compared with 200 random draws (blue lines) and the mean inferred model (red line) from the MCMC posterior distribution. The black points are measurements from our dataset, where we have masked the gray points before running the MCMC sampling (see Appendix A). The error bars are computed from the diagonal elements of the covariance matrix of the inferred model. _Right:_ Corner plot from MCMC sampling of the posterior distribution. The 95\\% C.L. upper limit on [Mg/H] is $-3.73$. (*allz-mcmc*)\n",
       "\n",
       "</div>\n",
       "<div id=\"div_fig3\">\n",
       "\n",
       "<img src=\"tmp_2308.11888/./figures/masked4_J0313-1806.png\" alt=\"Fig8.1\" width=\"33%\"/><img src=\"tmp_2308.11888/./figures/masked7_J1342+0928.png\" alt=\"Fig8.2\" width=\"33%\"/><img src=\"tmp_2308.11888/./figures/masked8_J1007+2115.png\" alt=\"Fig8.3\" width=\"33%\"/>\n",
       "\n",
       "**Figure 8. -** Identified and subsequently masked CGM absorbers from J0313$-$1806 (top), J1342$+$0928 (middle), and J1007$+$2115 (bottom), where we have cut off regions of the spectra within the quasar proximity zone and beyond the quasar redshift. For each quasar, the top panel shows the continuum-normalized spectrum and the bottom panel shows the $\\chi$ significance spectrum. The green and magenta horizontal lines indicate the thresholds for the $1 - \\rm{F}$ and $\\chi$ cuts, respectively (note that we additionally mask pixels $\\pm 300$ km/s around pixels with $\\chi > 3$). Pixels that are masked by the respective cuts are colored similarly. Gray shaded regions are regions of telluric absorptions. Our masking procedure results in a number of weak and strong absorber candidates, while recovering known strong absorbers. (*masked-all-qso*)\n",
       "\n",
       "</div><div id=\"qrcode\"><img src=https://api.qrserver.com/v1/create-qr-code/?size=100x100&data=\"https://arxiv.org/abs/2308.11888\"></div>"
      ],
      "text/plain": [
       "<IPython.core.display.Markdown object>"
      ]
     },
     "metadata": {},
     "output_type": "display_data"
    },
    {
     "data": {
      "text/markdown": [
       "<div class=\"macros\" style=\"visibility:hidden;\">\n",
       "$\\newcommand{\\ensuremath}{}$\n",
       "$\\newcommand{\\xspace}{}$\n",
       "$\\newcommand{\\object}[1]{\\texttt{#1}}$\n",
       "$\\newcommand{\\farcs}{{.}''}$\n",
       "$\\newcommand{\\farcm}{{.}'}$\n",
       "$\\newcommand{\\arcsec}{''}$\n",
       "$\\newcommand{\\arcmin}{'}$\n",
       "$\\newcommand{\\ion}[2]{#1#2}$\n",
       "$\\newcommand{\\textsc}[1]{\\textrm{#1}}$\n",
       "$\\newcommand{\\hl}[1]{\\textrm{#1}}$\n",
       "$\\newcommand{\\footnote}[1]{}$\n",
       "$\\newcommand{\\teff}{T_{\\rm eff}}$\n",
       "$\\newcommand{\\logg}{\\log g}$\n",
       "$\\newcommand{\\vmic}{\\xi_{\\rm t}}$\n",
       "$\\newcommand{\\vmac}{V_{\\rm mac}}$\n",
       "$\\newcommand{\\EW}{W_{\\lambda}}$\n",
       "$\\newcommand{\\mA}{{\\rm mÅ}}$\n",
       "$\\newcommand{\\Elow}{E_{\\rm low}}$\n",
       "$\\newcommand{\\Eup}{E_{\\rm up}}$\n",
       "$\\newcommand{\\SH}{S\\!_{\\rm H}}$\n",
       "$\\newcommand{\\footnoterule}$\n",
       "$\\newcommand{\\footnoterule}$</div>\n",
       "\n",
       "\n",
       "\n",
       "<div id=\"title\">\n",
       "\n",
       "# Observational constraints on the origin of the elements. VII. NLTE analysis of Y II lines in spectra of cool stars and implications for Y as a Galactic chemical clock\n",
       "\n",
       "</div>\n",
       "<div id=\"comments\">\n",
       "\n",
       "[![arXiv](https://img.shields.io/badge/arXiv-2308.12092-b31b1b.svg)](https://arxiv.org/abs/2308.12092)<mark>Appeared on: 2023-08-24</mark> -  _12 pages, 10 figures, accepted by MNRAS_\n",
       "\n",
       "</div>\n",
       "<div id=\"authors\">\n",
       "\n",
       "<mark>N. Storm</mark>, <mark>M. Bergemann</mark>\n",
       "\n",
       "</div>\n",
       "<div id=\"abstract\">\n",
       "\n",
       "**Abstract:** $\\noindent$ Yttrium (Y), a key s-process element, is commonly used in nucleosynthesis studies and as a Galactic chemical clock when combined with magnesium (Mg). We study the applicability of the previously assumed LTE line formation assumption in Y abundance studies of main-sequence and red giant stars, and probe the impact of NLTE effects on the [ Y/Mg ] ratio, a proposed stellar age indicator. We derive stellar parameters, ages, and NLTE abundances of Fe, Mg, and Y for 48 solar analogue stars from high-resolution  spectra acquired within the Gaia-ESO survey. For Y, we present a new NLTE atomic model. We determine a solar NLTE abundance of A(Y) $_{\\rm NLTE}=2.12\\pm0.04$ dex, $0.04$ dex higher than LTE. NLTE effects on Y abundance are modest for optical Y II lines, which are frequently used in Sun-like stars diagnostics. NLTE has a small impact on the [ Y/Mg ] ratio in such stars. For metal-poor red giants, NLTE effects on Y II lines are substantial, potentially exceeding $+0.5$ dex. For the Gaia/4MOST/WEAVE benchmark star, HD 122563, we find the NLTE abundance ratio of [ Y/Fe ] $_{\\rm NLTE}=-0.55\\pm0.04$ dex with consistent abundances obtained from different Y II lines. NLTE has a differential effect on Y abundance diagnostics in late-type stars. They notably affect Y II lines in red giants and very metal-poor stars, which are typical Galactic enrichment tracers of neutron-capture elements. For main-sequence stars, NLTE effects on optical diagnostic Y II lines remain minimal across metallicities. This affirms the [ Y/Mg ] ratio's reliability as a cosmochronometer for Sun-like stars.\n",
       "\n",
       "</div>\n",
       "\n",
       "<div id=\"div_fig1\">\n",
       "\n",
       "<img src=\"tmp_2308.12092/./figures/y_loggteff_low_v2.png\" alt=\"Fig9.1\" width=\"50%\"/><img src=\"tmp_2308.12092/./figures/y_loggteff_medium_v2.png\" alt=\"Fig9.2\" width=\"50%\"/>\n",
       "\n",
       "**Figure 9. -** Average NLTE corrections for the low-EP (multiplets 7,8,6) and medium-EP (multiplets 21, 23) Y II lines plotted against metallicity [Fe/H] of the model atmospheres. We adopt $\\vmic = 2$ km/s and $\\vmic = 1$ km/s for the models with log(g)$ \\leq 3.5$ dex and log(g)$ > 3.5$ dex respectively. (*fig:nltecor*)\n",
       "\n",
       "</div>\n",
       "<div id=\"div_fig2\">\n",
       "\n",
       "<img src=\"tmp_2308.12092/./figures/yh_elow_v3.png\" alt=\"Fig5.1\" width=\"50%\"/><img src=\"tmp_2308.12092/./figures/yfe_ew_v3.png\" alt=\"Fig5.2\" width=\"50%\"/>\n",
       "\n",
       "**Figure 5. -** Y abundances for HD 122563 ([Y/H] on the left and [Y/Fe] on the right) plotted as a function of lower energy state EP or EW. The red and black points represent respectively fitted LTE and NLTE abundances. Best-fit lines going through the low-EP line 3832.89 are also plotted in relevant colours. (*fig:yfe_yh_elow*)\n",
       "\n",
       "</div>\n",
       "<div id=\"div_fig3\">\n",
       "\n",
       "<img src=\"tmp_2308.12092/./figures/s4500_m0_departure_coefficients.png\" alt=\"Fig10.1\" width=\"25%\"/><img src=\"tmp_2308.12092/./figures/s4500_m3_departure_coefficients.png\" alt=\"Fig10.2\" width=\"25%\"/><img src=\"tmp_2308.12092/./figures/p6000_m0_departure_coefficients.png\" alt=\"Fig10.3\" width=\"25%\"/><img src=\"tmp_2308.12092/./figures/p6000_m3_departure_coefficients.png\" alt=\"Fig10.4\" width=\"25%\"/>\n",
       "\n",
       "**Figure 10. -** {Departure coefficients as a function of model atmosphere's optical depth for a red giant model on top ($\\teff = 4500$ K, $\\logg = 2.0$ dex for [Fe/H] = -3 and 0, respectively left and right plots) and a main-sequence on the bottom ($\\teff = 4500$ K, $\\logg = 2.0$ dex for [Fe/H] = -3 and 0, respectively left and right plots). Low-EP line (3832 Å) levels (a $^3$$D_3$ and z $^3$$F_3$*) are depicted in black and medium-EP line (4883 Å) levels (a $^3$$F_4$ and z $^3$$D_3$*) in red, with solid and dashed lines representing lower and upper levels, respectively. Vertical lines indicate line core at $\\log \\tau = 0$ for both low-EP (black) and medium-EP (red) lines.} (*fig:depcoef_rg*)\n",
       "\n",
       "</div><div id=\"qrcode\"><img src=https://api.qrserver.com/v1/create-qr-code/?size=100x100&data=\"https://arxiv.org/abs/2308.12092\"></div>"
      ],
      "text/plain": [
       "<IPython.core.display.Markdown object>"
      ]
     },
     "metadata": {},
     "output_type": "display_data"
    }
   ],
   "source": [
    "[display(Markdown(k[1])) for k in documents];"
   ]
  },
  {
   "cell_type": "markdown",
   "id": "873873a4",
   "metadata": {
    "papermill": {
     "duration": 0.005377,
     "end_time": "2023-08-24T04:06:23.317530",
     "exception": false,
     "start_time": "2023-08-24T04:06:23.312153",
     "status": "completed"
    },
    "tags": []
   },
   "source": [
    "# Create HTML index"
   ]
  },
  {
   "cell_type": "code",
   "execution_count": 9,
   "id": "cf665672",
   "metadata": {
    "execution": {
     "iopub.execute_input": "2023-08-24T04:06:23.329744Z",
     "iopub.status.busy": "2023-08-24T04:06:23.329189Z",
     "iopub.status.idle": "2023-08-24T04:06:23.339459Z",
     "shell.execute_reply": "2023-08-24T04:06:23.338834Z"
    },
    "papermill": {
     "duration": 0.017924,
     "end_time": "2023-08-24T04:06:23.340877",
     "exception": false,
     "start_time": "2023-08-24T04:06:23.322953",
     "status": "completed"
    },
    "tags": []
   },
   "outputs": [
    {
     "name": "stdout",
     "output_type": "stream",
     "text": [
      "251  publications files modified in the last 7 days.\n"
     ]
    }
   ],
   "source": [
    "from datetime import datetime, timedelta, timezone\n",
    "from glob import glob\n",
    "import os\n",
    "\n",
    "files = glob('_build/html/*.md')\n",
    "days = 7\n",
    "now = datetime.today()\n",
    "res = []\n",
    "for fk in files:\n",
    "    stat_result = os.stat(fk).st_ctime\n",
    "    modified = datetime.fromtimestamp(stat_result, tz=timezone.utc).replace(tzinfo=None)\n",
    "    delta = now.today() - modified\n",
    "    if delta <= timedelta(days=days):\n",
    "        res.append((delta.seconds, fk))\n",
    "res = [k[1] for k in reversed(sorted(res, key=lambda x:x[1]))]\n",
    "npub = len(res)\n",
    "print(len(res), f\" publications files modified in the last {days:d} days.\")\n",
    "# [ print('\\t', k) for k in res ];"
   ]
  },
  {
   "cell_type": "code",
   "execution_count": 10,
   "id": "015de740",
   "metadata": {
    "execution": {
     "iopub.execute_input": "2023-08-24T04:06:23.353079Z",
     "iopub.status.busy": "2023-08-24T04:06:23.352533Z",
     "iopub.status.idle": "2023-08-24T04:06:23.371913Z",
     "shell.execute_reply": "2023-08-24T04:06:23.371291Z"
    },
    "papermill": {
     "duration": 0.027062,
     "end_time": "2023-08-24T04:06:23.373371",
     "exception": false,
     "start_time": "2023-08-24T04:06:23.346309",
     "status": "completed"
    },
    "tags": []
   },
   "outputs": [
    {
     "name": "stdout",
     "output_type": "stream",
     "text": [
      "4  publications in the last 7 days.\n"
     ]
    }
   ],
   "source": [
    "import datetime\n",
    "from glob import glob\n",
    "\n",
    "def get_last_n_days(lst, days=1):\n",
    "    \"\"\" Get the documents from the last n days \"\"\"\n",
    "    sorted_lst = sorted(lst, key=lambda x: x[1], reverse=True)\n",
    "    for fname, date in sorted_lst:\n",
    "        if date >= str(datetime.date.today() - datetime.timedelta(days=days)):\n",
    "            yield fname\n",
    "\n",
    "def extract_appearance_dates(lst_file):\n",
    "    dates = []\n",
    "\n",
    "    def get_date(line):\n",
    "        return line\\\n",
    "            .split('Appeared on:')[-1]\\\n",
    "            .split('</mark>')[0].strip()\n",
    "\n",
    "    for fname in lst:\n",
    "        with open(fname, 'r') as f:\n",
    "            found_date = False\n",
    "            for line in f:\n",
    "                if not found_date:\n",
    "                    if \"Appeared on\" in line:\n",
    "                        found_date = True\n",
    "                        dates.append((fname, get_date(line)))\n",
    "                else:\n",
    "                    break\n",
    "    return dates\n",
    "\n",
    "from glob import glob\n",
    "lst = glob('_build/html/*md')\n",
    "days = 7\n",
    "dates = extract_appearance_dates(lst)\n",
    "res = list(get_last_n_days(dates, days))\n",
    "npub = len(res)\n",
    "print(len(res), f\" publications in the last {days:d} days.\")"
   ]
  },
  {
   "cell_type": "code",
   "execution_count": 11,
   "id": "52ca0208",
   "metadata": {
    "execution": {
     "iopub.execute_input": "2023-08-24T04:06:23.385997Z",
     "iopub.status.busy": "2023-08-24T04:06:23.385437Z",
     "iopub.status.idle": "2023-08-24T04:06:23.390848Z",
     "shell.execute_reply": "2023-08-24T04:06:23.390229Z"
    },
    "papermill": {
     "duration": 0.013151,
     "end_time": "2023-08-24T04:06:23.392197",
     "exception": false,
     "start_time": "2023-08-24T04:06:23.379046",
     "status": "completed"
    },
    "scrolled": false,
    "tags": []
   },
   "outputs": [],
   "source": [
    "def create_carousel(npub=4):\n",
    "    \"\"\" Generate the HTML code for a carousel with `npub` slides \"\"\"\n",
    "    carousel = [\"\"\"  <div class=\"carousel\" \"\"\",\n",
    "                \"\"\"       data-flickity='{ \"autoPlay\": 10000, \"adaptiveHeight\": true, \"resize\": true, \"wrapAround\": true, \"pauseAutoPlayOnHover\": true, \"groupCells\": 1 }' id=\"asyncTypeset\">\"\"\"\n",
    "                ]\n",
    "    \n",
    "    item_str = \"\"\"    <div class=\"carousel-cell\"> <div id=\"slide{k}\" class=\"md_view\">Content {k}</div> </div>\"\"\"\n",
    "    for k in range(1, npub + 1):\n",
    "        carousel.append(item_str.format(k=k))\n",
    "    carousel.append(\"  </div>\")\n",
    "    return '\\n'.join(carousel)\n",
    "\n",
    "def create_grid(npub=4):\n",
    "    \"\"\" Generate the HTML code for a flat grid with `npub` slides \"\"\"\n",
    "    grid = [\"\"\"  <div class=\"grid\"> \"\"\",\n",
    "                ]\n",
    "    \n",
    "    item_str = \"\"\"    <div class=\"grid-item\"> <div id=\"slide{k}\" class=\"md_view\">Content {k}</div> </div>\"\"\"\n",
    "    for k in range(1, npub + 1):\n",
    "        grid.append(item_str.format(k=k))\n",
    "    grid.append(\"  </div>\")\n",
    "    return '\\n'.join(grid)"
   ]
  },
  {
   "cell_type": "code",
   "execution_count": 12,
   "id": "a6eac5b6",
   "metadata": {
    "execution": {
     "iopub.execute_input": "2023-08-24T04:06:23.404932Z",
     "iopub.status.busy": "2023-08-24T04:06:23.404498Z",
     "iopub.status.idle": "2023-08-24T04:06:23.409729Z",
     "shell.execute_reply": "2023-08-24T04:06:23.409103Z"
    },
    "papermill": {
     "duration": 0.013127,
     "end_time": "2023-08-24T04:06:23.411169",
     "exception": false,
     "start_time": "2023-08-24T04:06:23.398042",
     "status": "completed"
    },
    "scrolled": false,
    "tags": []
   },
   "outputs": [],
   "source": [
    "carousel = create_carousel(npub)\n",
    "docs = ', '.join(['\"{0:s}\"'.format(k.split('/')[-1]) for k in res])\n",
    "slides = ', '.join([f'\"slide{k}\"' for k in range(1, npub + 1)])\n",
    "\n",
    "with open(\"daily_template.html\", \"r\") as tpl:\n",
    "    page = tpl.read()\n",
    "    page = page.replace(\"{%-- carousel:s --%}\", carousel)\\\n",
    "               .replace(\"{%-- suptitle:s --%}\",  \"7-day archives\" )\\\n",
    "               .replace(\"{%-- docs:s --%}\", docs)\\\n",
    "               .replace(\"{%-- slides:s --%}\", slides)\n",
    "    \n",
    "with open(\"_build/html/index_7days.html\", 'w') as fout:\n",
    "    fout.write(page)"
   ]
  },
  {
   "cell_type": "code",
   "execution_count": 13,
   "id": "adc1a1ec",
   "metadata": {
    "execution": {
     "iopub.execute_input": "2023-08-24T04:06:23.423694Z",
     "iopub.status.busy": "2023-08-24T04:06:23.423260Z",
     "iopub.status.idle": "2023-08-24T04:06:23.437475Z",
     "shell.execute_reply": "2023-08-24T04:06:23.436798Z"
    },
    "papermill": {
     "duration": 0.022257,
     "end_time": "2023-08-24T04:06:23.439069",
     "exception": false,
     "start_time": "2023-08-24T04:06:23.416812",
     "status": "completed"
    },
    "tags": []
   },
   "outputs": [
    {
     "name": "stdout",
     "output_type": "stream",
     "text": [
      "2  publications in the last day.\n"
     ]
    }
   ],
   "source": [
    "# redo for today\n",
    "days = 1\n",
    "res = list(get_last_n_days(dates, days))\n",
    "npub = len(res)\n",
    "print(len(res), f\" publications in the last day.\")\n",
    "\n",
    "carousel = create_carousel(npub)\n",
    "docs = ', '.join(['\"{0:s}\"'.format(k.split('/')[-1]) for k in res])\n",
    "slides = ', '.join([f'\"slide{k}\"' for k in range(1, npub + 1)])\n",
    "\n",
    "with open(\"daily_template.html\", \"r\") as tpl:\n",
    "    page = tpl.read()\n",
    "    page = page.replace(\"{%-- carousel:s --%}\", carousel)\\\n",
    "               .replace(\"{%-- suptitle:s --%}\",  \"Daily\" )\\\n",
    "               .replace(\"{%-- docs:s --%}\", docs)\\\n",
    "               .replace(\"{%-- slides:s --%}\", slides)\n",
    "    \n",
    "# print(carousel, docs, slides)\n",
    "# print(page)\n",
    "with open(\"_build/html/index_daily.html\", 'w') as fout:\n",
    "    fout.write(page)"
   ]
  },
  {
   "cell_type": "code",
   "execution_count": 14,
   "id": "00eece82",
   "metadata": {
    "execution": {
     "iopub.execute_input": "2023-08-24T04:06:23.452065Z",
     "iopub.status.busy": "2023-08-24T04:06:23.451608Z",
     "iopub.status.idle": "2023-08-24T04:06:23.460658Z",
     "shell.execute_reply": "2023-08-24T04:06:23.460144Z"
    },
    "papermill": {
     "duration": 0.017095,
     "end_time": "2023-08-24T04:06:23.461971",
     "exception": false,
     "start_time": "2023-08-24T04:06:23.444876",
     "status": "completed"
    },
    "scrolled": false,
    "tags": []
   },
   "outputs": [
    {
     "name": "stdout",
     "output_type": "stream",
     "text": [
      "6  6 publications selected.\n"
     ]
    }
   ],
   "source": [
    "# Create the flat grid of the last N papers (fixed number regardless of dates)\n",
    "from itertools import islice \n",
    "\n",
    "npub = 6\n",
    "res = [k[0] for k in (islice(reversed(sorted(dates, key=lambda x: x[1])), 6))]\n",
    "print(len(res), f\" {npub} publications selected.\")\n",
    "\n",
    "grid = create_grid(npub)\n",
    "docs = ', '.join(['\"{0:s}\"'.format(k.split('/')[-1]) for k in res])\n",
    "slides = ', '.join([f'\"slide{k}\"' for k in range(1, npub + 1)])\n",
    "\n",
    "with open(\"grid_template.html\", \"r\") as tpl:\n",
    "    page = tpl.read()\n",
    "    page = page.replace(\"{%-- grid-content:s --%}\", grid)\\\n",
    "               .replace(\"{%-- suptitle:s --%}\",  f\"Last {npub:,d} papers\" )\\\n",
    "               .replace(\"{%-- docs:s --%}\", docs)\\\n",
    "               .replace(\"{%-- slides:s --%}\", slides)\n",
    "    \n",
    "# print(grid, docs, slides)\n",
    "# print(page)\n",
    "with open(\"_build/html/index_npub_grid.html\", 'w') as fout:\n",
    "    fout.write(page)"
   ]
  }
 ],
 "metadata": {
  "kernelspec": {
   "display_name": "Python 3 (ipykernel)",
   "language": "python",
   "name": "python3"
  },
  "language_info": {
   "codemirror_mode": {
    "name": "ipython",
    "version": 3
   },
   "file_extension": ".py",
   "mimetype": "text/x-python",
   "name": "python",
   "nbconvert_exporter": "python",
   "pygments_lexer": "ipython3",
   "version": "3.9.17"
  },
  "papermill": {
   "default_parameters": {},
   "duration": 138.481467,
   "end_time": "2023-08-24T04:06:23.685223",
   "environment_variables": {},
   "exception": null,
   "input_path": "MPIA daily digest.ipynb",
   "output_path": "log.ipynb",
   "parameters": {},
   "start_time": "2023-08-24T04:04:05.203756",
   "version": "2.4.0"
  },
  "vscode": {
   "interpreter": {
    "hash": "aee8b7b246df8f9039afb4144a1f6fd8d2ca17a180786b69acc140d282b71a49"
   }
  },
  "widgets": {
   "application/vnd.jupyter.widget-state+json": {
    "state": {
     "09253b6fd87141b7a351fb40074d09c8": {
      "model_module": "@jupyter-widgets/controls",
      "model_module_version": "2.0.0",
      "model_name": "FloatProgressModel",
      "state": {
       "_dom_classes": [],
       "_model_module": "@jupyter-widgets/controls",
       "_model_module_version": "2.0.0",
       "_model_name": "FloatProgressModel",
       "_view_count": null,
       "_view_module": "@jupyter-widgets/controls",
       "_view_module_version": "2.0.0",
       "_view_name": "ProgressView",
       "bar_style": "success",
       "description": "",
       "description_allow_html": false,
       "layout": "IPY_MODEL_e93aadb6acd343b8be17062b146d7c9c",
       "max": 3.0,
       "min": 0.0,
       "orientation": "horizontal",
       "style": "IPY_MODEL_a76e984de93f4c5a9a2faa5e1f784398",
       "tabbable": null,
       "tooltip": null,
       "value": 3.0
      }
     },
     "225d755cd4df448d8fa2ec2e78dbb619": {
      "model_module": "@jupyter-widgets/base",
      "model_module_version": "2.0.0",
      "model_name": "LayoutModel",
      "state": {
       "_model_module": "@jupyter-widgets/base",
       "_model_module_version": "2.0.0",
       "_model_name": "LayoutModel",
       "_view_count": null,
       "_view_module": "@jupyter-widgets/base",
       "_view_module_version": "2.0.0",
       "_view_name": "LayoutView",
       "align_content": null,
       "align_items": null,
       "align_self": null,
       "border_bottom": null,
       "border_left": null,
       "border_right": null,
       "border_top": null,
       "bottom": null,
       "display": null,
       "flex": null,
       "flex_flow": null,
       "grid_area": null,
       "grid_auto_columns": null,
       "grid_auto_flow": null,
       "grid_auto_rows": null,
       "grid_column": null,
       "grid_gap": null,
       "grid_row": null,
       "grid_template_areas": null,
       "grid_template_columns": null,
       "grid_template_rows": null,
       "height": null,
       "justify_content": null,
       "justify_items": null,
       "left": null,
       "margin": null,
       "max_height": null,
       "max_width": null,
       "min_height": null,
       "min_width": null,
       "object_fit": null,
       "object_position": null,
       "order": null,
       "overflow": null,
       "padding": null,
       "right": null,
       "top": null,
       "visibility": null,
       "width": null
      }
     },
     "32347b73ccc6454da07549da2887b5bf": {
      "model_module": "@jupyter-widgets/controls",
      "model_module_version": "2.0.0",
      "model_name": "HTMLModel",
      "state": {
       "_dom_classes": [],
       "_model_module": "@jupyter-widgets/controls",
       "_model_module_version": "2.0.0",
       "_model_name": "HTMLModel",
       "_view_count": null,
       "_view_module": "@jupyter-widgets/controls",
       "_view_module_version": "2.0.0",
       "_view_name": "HTMLView",
       "description": "",
       "description_allow_html": false,
       "layout": "IPY_MODEL_225d755cd4df448d8fa2ec2e78dbb619",
       "placeholder": "​",
       "style": "IPY_MODEL_fdbf299bfd7742879a83a68c59816840",
       "tabbable": null,
       "tooltip": null,
       "value": "100%"
      }
     },
     "36640ffa1fa0401bbdfa2b2a5903ce3a": {
      "model_module": "@jupyter-widgets/base",
      "model_module_version": "2.0.0",
      "model_name": "LayoutModel",
      "state": {
       "_model_module": "@jupyter-widgets/base",
       "_model_module_version": "2.0.0",
       "_model_name": "LayoutModel",
       "_view_count": null,
       "_view_module": "@jupyter-widgets/base",
       "_view_module_version": "2.0.0",
       "_view_name": "LayoutView",
       "align_content": null,
       "align_items": null,
       "align_self": null,
       "border_bottom": null,
       "border_left": null,
       "border_right": null,
       "border_top": null,
       "bottom": null,
       "display": null,
       "flex": null,
       "flex_flow": null,
       "grid_area": null,
       "grid_auto_columns": null,
       "grid_auto_flow": null,
       "grid_auto_rows": null,
       "grid_column": null,
       "grid_gap": null,
       "grid_row": null,
       "grid_template_areas": null,
       "grid_template_columns": null,
       "grid_template_rows": null,
       "height": null,
       "justify_content": null,
       "justify_items": null,
       "left": null,
       "margin": null,
       "max_height": null,
       "max_width": null,
       "min_height": null,
       "min_width": null,
       "object_fit": null,
       "object_position": null,
       "order": null,
       "overflow": null,
       "padding": null,
       "right": null,
       "top": null,
       "visibility": null,
       "width": null
      }
     },
     "672e325ca7bc47a7bdd13dca73c9a50b": {
      "model_module": "@jupyter-widgets/controls",
      "model_module_version": "2.0.0",
      "model_name": "HBoxModel",
      "state": {
       "_dom_classes": [],
       "_model_module": "@jupyter-widgets/controls",
       "_model_module_version": "2.0.0",
       "_model_name": "HBoxModel",
       "_view_count": null,
       "_view_module": "@jupyter-widgets/controls",
       "_view_module_version": "2.0.0",
       "_view_name": "HBoxView",
       "box_style": "",
       "children": [
        "IPY_MODEL_32347b73ccc6454da07549da2887b5bf",
        "IPY_MODEL_09253b6fd87141b7a351fb40074d09c8",
        "IPY_MODEL_9e8b5378c0da4e4b82e1cdc2a275c77a"
       ],
       "layout": "IPY_MODEL_36640ffa1fa0401bbdfa2b2a5903ce3a",
       "tabbable": null,
       "tooltip": null
      }
     },
     "6f2df747dfd044d19c5b80887ba19275": {
      "model_module": "@jupyter-widgets/controls",
      "model_module_version": "2.0.0",
      "model_name": "HTMLStyleModel",
      "state": {
       "_model_module": "@jupyter-widgets/controls",
       "_model_module_version": "2.0.0",
       "_model_name": "HTMLStyleModel",
       "_view_count": null,
       "_view_module": "@jupyter-widgets/base",
       "_view_module_version": "2.0.0",
       "_view_name": "StyleView",
       "background": null,
       "description_width": "",
       "font_size": null,
       "text_color": null
      }
     },
     "72668725ee4040e0b391b648ecfbde78": {
      "model_module": "@jupyter-widgets/base",
      "model_module_version": "2.0.0",
      "model_name": "LayoutModel",
      "state": {
       "_model_module": "@jupyter-widgets/base",
       "_model_module_version": "2.0.0",
       "_model_name": "LayoutModel",
       "_view_count": null,
       "_view_module": "@jupyter-widgets/base",
       "_view_module_version": "2.0.0",
       "_view_name": "LayoutView",
       "align_content": null,
       "align_items": null,
       "align_self": null,
       "border_bottom": null,
       "border_left": null,
       "border_right": null,
       "border_top": null,
       "bottom": null,
       "display": null,
       "flex": null,
       "flex_flow": null,
       "grid_area": null,
       "grid_auto_columns": null,
       "grid_auto_flow": null,
       "grid_auto_rows": null,
       "grid_column": null,
       "grid_gap": null,
       "grid_row": null,
       "grid_template_areas": null,
       "grid_template_columns": null,
       "grid_template_rows": null,
       "height": null,
       "justify_content": null,
       "justify_items": null,
       "left": null,
       "margin": null,
       "max_height": null,
       "max_width": null,
       "min_height": null,
       "min_width": null,
       "object_fit": null,
       "object_position": null,
       "order": null,
       "overflow": null,
       "padding": null,
       "right": null,
       "top": null,
       "visibility": null,
       "width": null
      }
     },
     "9e8b5378c0da4e4b82e1cdc2a275c77a": {
      "model_module": "@jupyter-widgets/controls",
      "model_module_version": "2.0.0",
      "model_name": "HTMLModel",
      "state": {
       "_dom_classes": [],
       "_model_module": "@jupyter-widgets/controls",
       "_model_module_version": "2.0.0",
       "_model_name": "HTMLModel",
       "_view_count": null,
       "_view_module": "@jupyter-widgets/controls",
       "_view_module_version": "2.0.0",
       "_view_name": "HTMLView",
       "description": "",
       "description_allow_html": false,
       "layout": "IPY_MODEL_72668725ee4040e0b391b648ecfbde78",
       "placeholder": "​",
       "style": "IPY_MODEL_6f2df747dfd044d19c5b80887ba19275",
       "tabbable": null,
       "tooltip": null,
       "value": " 3/3 [01:54&lt;00:00, 39.71s/it]"
      }
     },
     "a76e984de93f4c5a9a2faa5e1f784398": {
      "model_module": "@jupyter-widgets/controls",
      "model_module_version": "2.0.0",
      "model_name": "ProgressStyleModel",
      "state": {
       "_model_module": "@jupyter-widgets/controls",
       "_model_module_version": "2.0.0",
       "_model_name": "ProgressStyleModel",
       "_view_count": null,
       "_view_module": "@jupyter-widgets/base",
       "_view_module_version": "2.0.0",
       "_view_name": "StyleView",
       "bar_color": null,
       "description_width": ""
      }
     },
     "e93aadb6acd343b8be17062b146d7c9c": {
      "model_module": "@jupyter-widgets/base",
      "model_module_version": "2.0.0",
      "model_name": "LayoutModel",
      "state": {
       "_model_module": "@jupyter-widgets/base",
       "_model_module_version": "2.0.0",
       "_model_name": "LayoutModel",
       "_view_count": null,
       "_view_module": "@jupyter-widgets/base",
       "_view_module_version": "2.0.0",
       "_view_name": "LayoutView",
       "align_content": null,
       "align_items": null,
       "align_self": null,
       "border_bottom": null,
       "border_left": null,
       "border_right": null,
       "border_top": null,
       "bottom": null,
       "display": null,
       "flex": null,
       "flex_flow": null,
       "grid_area": null,
       "grid_auto_columns": null,
       "grid_auto_flow": null,
       "grid_auto_rows": null,
       "grid_column": null,
       "grid_gap": null,
       "grid_row": null,
       "grid_template_areas": null,
       "grid_template_columns": null,
       "grid_template_rows": null,
       "height": null,
       "justify_content": null,
       "justify_items": null,
       "left": null,
       "margin": null,
       "max_height": null,
       "max_width": null,
       "min_height": null,
       "min_width": null,
       "object_fit": null,
       "object_position": null,
       "order": null,
       "overflow": null,
       "padding": null,
       "right": null,
       "top": null,
       "visibility": null,
       "width": null
      }
     },
     "fdbf299bfd7742879a83a68c59816840": {
      "model_module": "@jupyter-widgets/controls",
      "model_module_version": "2.0.0",
      "model_name": "HTMLStyleModel",
      "state": {
       "_model_module": "@jupyter-widgets/controls",
       "_model_module_version": "2.0.0",
       "_model_name": "HTMLStyleModel",
       "_view_count": null,
       "_view_module": "@jupyter-widgets/base",
       "_view_module_version": "2.0.0",
       "_view_name": "StyleView",
       "background": null,
       "description_width": "",
       "font_size": null,
       "text_color": null
      }
     }
    },
    "version_major": 2,
    "version_minor": 0
   }
  }
 },
 "nbformat": 4,
 "nbformat_minor": 5
}