{
 "cells": [
  {
   "cell_type": "markdown",
   "id": "92bcb855",
   "metadata": {
    "papermill": {
     "duration": 0.004052,
     "end_time": "2024-10-08T04:10:40.742650",
     "exception": false,
     "start_time": "2024-10-08T04:10:40.738598",
     "status": "completed"
    },
    "tags": []
   },
   "source": [
    "# MPIA Arxiv on Deck 2\n",
    "\n",
    "Contains the steps to produce the paper extractions."
   ]
  },
  {
   "cell_type": "code",
   "execution_count": 1,
   "id": "3a0d6e11",
   "metadata": {
    "execution": {
     "iopub.execute_input": "2024-10-08T04:10:40.750437Z",
     "iopub.status.busy": "2024-10-08T04:10:40.749945Z",
     "iopub.status.idle": "2024-10-08T04:10:41.365959Z",
     "shell.execute_reply": "2024-10-08T04:10:41.365203Z"
    },
    "papermill": {
     "duration": 0.621457,
     "end_time": "2024-10-08T04:10:41.367440",
     "exception": false,
     "start_time": "2024-10-08T04:10:40.745983",
     "status": "completed"
    },
    "tags": []
   },
   "outputs": [],
   "source": [
    "# Imports\n",
    "import os\n",
    "from IPython.display import Markdown, display\n",
    "from tqdm.notebook import tqdm\n",
    "import warnings\n",
    "from PIL import Image \n",
    "import re\n",
    "\n",
    "# requires arxiv_on_deck_2\n",
    "\n",
    "from arxiv_on_deck_2.arxiv2 import (get_new_papers, \n",
    "                                    get_paper_from_identifier,\n",
    "                                    retrieve_document_source, \n",
    "                                    get_markdown_badge)\n",
    "from arxiv_on_deck_2 import (latex,\n",
    "                             latex_bib,\n",
    "                             mpia,\n",
    "                             highlight_authors_in_list)\n",
    "\n",
    "# Sometimes images are really big\n",
    "Image.MAX_IMAGE_PIXELS = 1000000000 "
   ]
  },
  {
   "cell_type": "code",
   "execution_count": 2,
   "id": "22aa9d44",
   "metadata": {
    "execution": {
     "iopub.execute_input": "2024-10-08T04:10:41.375052Z",
     "iopub.status.busy": "2024-10-08T04:10:41.374580Z",
     "iopub.status.idle": "2024-10-08T04:10:41.382765Z",
     "shell.execute_reply": "2024-10-08T04:10:41.382223Z"
    },
    "papermill": {
     "duration": 0.012987,
     "end_time": "2024-10-08T04:10:41.383799",
     "exception": false,
     "start_time": "2024-10-08T04:10:41.370812",
     "status": "completed"
    },
    "tags": []
   },
   "outputs": [],
   "source": [
    "# Some useful definitions.\n",
    "\n",
    "class AffiliationWarning(UserWarning):\n",
    "    pass\n",
    "\n",
    "class AffiliationError(RuntimeError):\n",
    "    pass\n",
    "\n",
    "def validation(source: str):\n",
    "    \"\"\"Raises error paper during parsing of source file\n",
    "    \n",
    "    Allows checks before parsing TeX code.\n",
    "    \n",
    "    Raises AffiliationWarning\n",
    "    \"\"\"\n",
    "    check = mpia.affiliation_verifications(source, verbose=True)\n",
    "    if check is not True:\n",
    "        raise AffiliationError(\"mpia.affiliation_verifications: \" + check)\n",
    "\n",
    "        \n",
    "warnings.simplefilter('always', AffiliationWarning)\n",
    "\n",
    "\n",
    "def get_markdown_qrcode(paper_id: str):\n",
    "    \"\"\" Generate a qrcode to the arxiv page using qrserver.com\n",
    "    \n",
    "    :param paper: Arxiv paper\n",
    "    :returns: markdown text\n",
    "    \"\"\"\n",
    "    url = r\"https://api.qrserver.com/v1/create-qr-code/?size=100x100&data=\"\n",
    "    txt = f\"\"\"<img src={url}\"https://arxiv.org/abs/{paper_id}\">\"\"\"\n",
    "    txt = '<div id=\"qrcode\">' + txt + '</div>'\n",
    "    return txt\n",
    "\n",
    "\n",
    "def clean_non_western_encoded_characters_commands(text: str) -> str:\n",
    "    \"\"\" Remove non-western encoded characters from a string\n",
    "    List may need to grow.\n",
    "    \n",
    "    :param text: the text to clean\n",
    "    :return: the cleaned text\n",
    "    \"\"\"\n",
    "    text = re.sub(r\"(\\\\begin{CJK}{UTF8}{gbsn})(.*?)(\\\\end{CJK})\", r\"\\2\", text)\n",
    "    return text\n",
    "\n",
    "\n",
    "def get_initials(name: str) -> str:\n",
    "    \"\"\" Get the short name, e.g., A.-B. FamName\n",
    "    :param name: full name\n",
    "    :returns: initials\n",
    "    \"\"\"\n",
    "    initials = []\n",
    "    # account for non western names often in ()\n",
    "    if '(' in name:\n",
    "        name = clean_non_western_encoded_characters_commands(name)\n",
    "        suffix = re.findall(r\"\\((.*?)\\)\", name)[0]\n",
    "        name = name.replace(f\"({suffix})\", '')\n",
    "    else:\n",
    "        suffix = ''\n",
    "    split = name.split()\n",
    "    for token in split[:-1]:\n",
    "        if '-' in token:\n",
    "            current = '-'.join([k[0] + '.' for k in token.split('-')])\n",
    "        else:\n",
    "            current = token[0] + '.'\n",
    "        initials.append(current)\n",
    "    initials.append(split[-1].strip())\n",
    "    if suffix:\n",
    "        initials.append(f\"({suffix})\")\n",
    "    return ' '.join(initials)"
   ]
  },
  {
   "cell_type": "markdown",
   "id": "14bd6310",
   "metadata": {
    "papermill": {
     "duration": 0.002977,
     "end_time": "2024-10-08T04:10:41.389882",
     "exception": false,
     "start_time": "2024-10-08T04:10:41.386905",
     "status": "completed"
    },
    "tags": []
   },
   "source": [
    "## get list of arxiv paper candidates\n",
    "\n",
    "We use the MPIA mitarbeiter list webpage from mpia.de to get author names\n",
    "We then get all new papers from Arxiv and match authors"
   ]
  },
  {
   "cell_type": "code",
   "execution_count": 3,
   "id": "7ea813a8",
   "metadata": {
    "execution": {
     "iopub.execute_input": "2024-10-08T04:10:41.396647Z",
     "iopub.status.busy": "2024-10-08T04:10:41.396448Z",
     "iopub.status.idle": "2024-10-08T04:11:03.004248Z",
     "shell.execute_reply": "2024-10-08T04:11:03.003550Z"
    },
    "papermill": {
     "duration": 21.612789,
     "end_time": "2024-10-08T04:11:03.005620",
     "exception": false,
     "start_time": "2024-10-08T04:10:41.392831",
     "status": "completed"
    },
    "tags": []
   },
   "outputs": [],
   "source": [
    "# deal with the author list and edge cases of people that cannot be consistent on their name  \n",
    "\n",
    "def filter_non_scientists(name: str) -> bool:\n",
    "    \"\"\" Loose filter on expected authorships\n",
    "\n",
    "    removing IT, administration, technical staff\n",
    "    :param name: name\n",
    "    :returns: False if name is not a scientist\n",
    "    \"\"\"\n",
    "    remove_list = ['Licht', 'Binroth', 'Witzel', 'Jordan',\n",
    "                   'Zähringer', 'Scheerer', 'Hoffmann', 'Düe',\n",
    "                   'Hellmich', 'Enkler-Scharpegge', 'Witte-Nguy',\n",
    "                   'Dehen', 'Beckmann', 'Jager', 'Jäger'\n",
    "                  ]\n",
    "\n",
    "    for k in remove_list:\n",
    "        if k in name:\n",
    "            return False\n",
    "    return True\n",
    "\n",
    "def add_author_to_list(author_list: list) -> list:\n",
    "    \"\"\" Add author to list if not already in list\n",
    "    \n",
    "    :param author: author name\n",
    "    :param author_list: list of authors\n",
    "    :returns: updated list of authors\n",
    "    \"\"\"\n",
    "    add_list = ['T. Henning']\n",
    "\n",
    "    for author in add_list:\n",
    "        if author not in author_list:\n",
    "            author_list.append(author)\n",
    "    return author_list\n",
    "\n",
    "# get list from MPIA website\n",
    "# filter for non-scientists (mpia.get_mpia_mitarbeiter_list() does some filtering)\n",
    "mpia_authors = [k[1] for k in mpia.get_mpia_mitarbeiter_list() if filter_non_scientists(k[1])]\n",
    "# add some missing author because of inconsistencies in their MPIA name and author name on papers\n",
    "mpia_authors = add_author_to_list(mpia_authors)"
   ]
  },
  {
   "cell_type": "code",
   "execution_count": 4,
   "id": "2645e73a",
   "metadata": {
    "execution": {
     "iopub.execute_input": "2024-10-08T04:11:03.013516Z",
     "iopub.status.busy": "2024-10-08T04:11:03.013013Z",
     "iopub.status.idle": "2024-10-08T04:11:03.808783Z",
     "shell.execute_reply": "2024-10-08T04:11:03.808125Z"
    },
    "papermill": {
     "duration": 0.800708,
     "end_time": "2024-10-08T04:11:03.809817",
     "exception": false,
     "start_time": "2024-10-08T04:11:03.009109",
     "status": "completed"
    },
    "tags": []
   },
   "outputs": [
    {
     "name": "stdout",
     "output_type": "stream",
     "text": [
      "E. Bañados  ->  E. Bañados  |  ['E. Bañados']\n",
      "E. Bañados  ->  E. Bañados  |  ['E. Bañados']\n",
      "R. Zhang  ->  R. Zhang  |  ['R. Zhang']\n",
      "J. Li  ->  J. Li  |  ['J. Li']\n",
      "X. Zhang  ->  X. Zhang  |  ['X. Zhang']\n"
     ]
    },
    {
     "name": "stdout",
     "output_type": "stream",
     "text": [
      "Arxiv has 83 new papers today\n",
      "          4 with possible author matches\n"
     ]
    }
   ],
   "source": [
    "new_papers = get_new_papers()\n",
    "# add manual references\n",
    "add_paper_refs = []\n",
    "new_papers.extend([get_paper_from_identifier(k) for k in add_paper_refs])\n",
    "\n",
    "def robust_call(fn, value, *args, **kwargs):\n",
    "    try:\n",
    "        return fn(value, *args, **kwargs)\n",
    "    except Exception:\n",
    "        return value\n",
    "\n",
    "candidates = []\n",
    "for paperk in new_papers:\n",
    "    # Check author list with their initials\n",
    "    normed_author_list = [robust_call(mpia.get_initials, k) for k in paperk['authors']]\n",
    "    hl_authors = highlight_authors_in_list(normed_author_list, mpia_authors, verbose=True)\n",
    "    matches = [(hl, orig) for hl, orig in zip(hl_authors, paperk['authors']) if 'mark' in hl]\n",
    "    paperk['authors'] = hl_authors\n",
    "    if matches:\n",
    "        # only select paper if an author matched our list\n",
    "        candidates.append(paperk)\n",
    "print(\"\"\"Arxiv has {0:,d} new papers today\"\"\".format(len(new_papers)))        \n",
    "print(\"\"\"          {0:,d} with possible author matches\"\"\".format(len(candidates)))"
   ]
  },
  {
   "cell_type": "markdown",
   "id": "3543b34a",
   "metadata": {
    "papermill": {
     "duration": 0.0033,
     "end_time": "2024-10-08T04:11:03.816763",
     "exception": false,
     "start_time": "2024-10-08T04:11:03.813463",
     "status": "completed"
    },
    "tags": []
   },
   "source": [
    "# Parse sources and generate relevant outputs\n",
    "\n",
    "From the candidates, we do the following steps:\n",
    "* get their tarball from ArXiv (and extract data)\n",
    "* find the main .tex file: find one with \\documentclass{...} (sometimes it's non trivial)\n",
    "* Check affiliations with :func:`validation`, which uses :func:`mpia.affiliation_verifications`\n",
    "* If passing the affiliations: we parse the .tex source\n",
    "   * inject sub-documents into the main (flatten the main document)\n",
    "   * parse structure, extract information (title, abstract, authors, figures...)\n",
    "   * handles `\\graphicspath` if provided\n",
    "* Generate the .md document."
   ]
  },
  {
   "cell_type": "code",
   "execution_count": 5,
   "id": "9576b79e",
   "metadata": {
    "execution": {
     "iopub.execute_input": "2024-10-08T04:11:03.824408Z",
     "iopub.status.busy": "2024-10-08T04:11:03.823930Z",
     "iopub.status.idle": "2024-10-08T04:11:16.881849Z",
     "shell.execute_reply": "2024-10-08T04:11:16.881074Z"
    },
    "papermill": {
     "duration": 13.063052,
     "end_time": "2024-10-08T04:11:16.883049",
     "exception": false,
     "start_time": "2024-10-08T04:11:03.819997",
     "status": "completed"
    },
    "scrolled": false,
    "tags": []
   },
   "outputs": [
    {
     "data": {
      "application/vnd.jupyter.widget-view+json": {
       "model_id": "c864e9cf2c96462ea132d06707a0f51f",
       "version_major": 2,
       "version_minor": 0
      },
      "text/plain": [
       "  0%|          | 0/4 [00:00<?, ?it/s]"
      ]
     },
     "metadata": {},
     "output_type": "display_data"
    },
    {
     "name": "stdout",
     "output_type": "stream",
     "text": [
      "Retrieving document from  https://arxiv.org/e-print/2410.03826\n"
     ]
    },
    {
     "name": "stdout",
     "output_type": "stream",
     "text": [
      "extracting tarball to tmp_2410.03826..."
     ]
    },
    {
     "name": "stdout",
     "output_type": "stream",
     "text": [
      " done.\n"
     ]
    },
    {
     "name": "stdout",
     "output_type": "stream",
     "text": [
      "E. Bañados  ->  E. Bañados  |  ['E. Bañados']\n"
     ]
    },
    {
     "name": "stdout",
     "output_type": "stream",
     "text": [
      "Found 73 bibliographic references in tmp_2410.03826/main.bbl.\n",
      "Retrieving document from  https://arxiv.org/e-print/2410.03827\n",
      "extracting tarball to tmp_2410.03827..."
     ]
    },
    {
     "name": "stdout",
     "output_type": "stream",
     "text": [
      " done.\n"
     ]
    },
    {
     "name": "stdout",
     "output_type": "stream",
     "text": [
      "E. Bañados  ->  E. Bañados  |  ['E. Bañados']\n"
     ]
    },
    {
     "name": "stderr",
     "output_type": "stream",
     "text": [
      "/opt/hostedtoolcache/Python/3.9.20/x64/lib/python3.9/site-packages/arxiv_on_deck_2/latex.py:132: LatexWarning: attempting recovering figure  sed_hists_delayedtau_v5.png\n",
      "  warnings.warn(LatexWarning(f'attempting recovering figure {image}'))\n",
      "/opt/hostedtoolcache/Python/3.9.20/x64/lib/python3.9/site-packages/arxiv_on_deck_2/latex.py:707: LatexWarning: Could not find graphic \\includegraphics[width=0.8\\columnwidth]{ sed_hists_delayedtau_v5.png}\n",
      "  warnings.warn(LatexWarning(f\"Could not find graphic {k}\"))\n",
      "/opt/hostedtoolcache/Python/3.9.20/x64/lib/python3.9/site-packages/arxiv_on_deck_2/latex.py:132: LatexWarning: attempting recovering figure  ewage_avgs_aug29_delayedtau.png\n",
      "  warnings.warn(LatexWarning(f'attempting recovering figure {image}'))\n",
      "/opt/hostedtoolcache/Python/3.9.20/x64/lib/python3.9/site-packages/arxiv_on_deck_2/latex.py:707: LatexWarning: Could not find graphic \\includegraphics[width=1.0\\columnwidth]{ ewage_avgs_aug29_delayedtau.png}\n",
      "  warnings.warn(LatexWarning(f\"Could not find graphic {k}\"))\n",
      "/opt/hostedtoolcache/Python/3.9.20/x64/lib/python3.9/site-packages/arxiv_on_deck_2/latex.py:132: LatexWarning: attempting recovering figure  mex_mosaic_delayedtau_v3.png\n",
      "  warnings.warn(LatexWarning(f'attempting recovering figure {image}'))\n",
      "/opt/hostedtoolcache/Python/3.9.20/x64/lib/python3.9/site-packages/arxiv_on_deck_2/latex.py:707: LatexWarning: Could not find graphic \\includegraphics[width=1.0\\columnwidth]{ mex_mosaic_delayedtau_v3.png}\n",
      "  warnings.warn(LatexWarning(f\"Could not find graphic {k}\"))\n",
      "/opt/hostedtoolcache/Python/3.9.20/x64/lib/python3.9/site-packages/arxiv_on_deck_2/latex.py:132: LatexWarning: attempting recovering figure  cutout_7025_061924.png\n",
      "  warnings.warn(LatexWarning(f'attempting recovering figure {image}'))\n",
      "/opt/hostedtoolcache/Python/3.9.20/x64/lib/python3.9/site-packages/arxiv_on_deck_2/latex.py:707: LatexWarning: Could not find graphic \\includegraphics[width=1.0\\textwidth]{ cutout_7025_061924.png}\n",
      "  warnings.warn(LatexWarning(f\"Could not find graphic {k}\"))\n",
      "/opt/hostedtoolcache/Python/3.9.20/x64/lib/python3.9/site-packages/arxiv_on_deck_2/latex.py:132: LatexWarning: attempting recovering figure  examplespec_7025_062024.png\n",
      "  warnings.warn(LatexWarning(f'attempting recovering figure {image}'))\n",
      "/opt/hostedtoolcache/Python/3.9.20/x64/lib/python3.9/site-packages/arxiv_on_deck_2/latex.py:707: LatexWarning: Could not find graphic \\includegraphics[width=1.0\\textwidth]{ examplespec_7025_062024.png}\n",
      "  warnings.warn(LatexWarning(f\"Could not find graphic {k}\"))\n",
      "/opt/hostedtoolcache/Python/3.9.20/x64/lib/python3.9/site-packages/arxiv_on_deck_2/latex.py:132: LatexWarning: attempting recovering figure  SED_grid_082924.png\n",
      "  warnings.warn(LatexWarning(f'attempting recovering figure {image}'))\n",
      "/opt/hostedtoolcache/Python/3.9.20/x64/lib/python3.9/site-packages/arxiv_on_deck_2/latex.py:707: LatexWarning: Could not find graphic \\includegraphics[width=1.0\\textwidth]{ SED_grid_082924.png}\n",
      "  warnings.warn(LatexWarning(f\"Could not find graphic {k}\"))\n",
      "/opt/hostedtoolcache/Python/3.9.20/x64/lib/python3.9/site-packages/arxiv_on_deck_2/latex.py:132: LatexWarning: attempting recovering figure  SED_nh_grid_082924_fig1.png\n",
      "  warnings.warn(LatexWarning(f'attempting recovering figure {image}'))\n",
      "/opt/hostedtoolcache/Python/3.9.20/x64/lib/python3.9/site-packages/arxiv_on_deck_2/latex.py:707: LatexWarning: Could not find graphic \\includegraphics[width=1.0\\textwidth]{ SED_nh_grid_082924_fig1.png}\n",
      "  warnings.warn(LatexWarning(f\"Could not find graphic {k}\"))\n",
      "/opt/hostedtoolcache/Python/3.9.20/x64/lib/python3.9/site-packages/arxiv_on_deck_2/latex.py:132: LatexWarning: attempting recovering figure  SED_nh_grid_082924_fig2.png\n",
      "  warnings.warn(LatexWarning(f'attempting recovering figure {image}'))\n",
      "/opt/hostedtoolcache/Python/3.9.20/x64/lib/python3.9/site-packages/arxiv_on_deck_2/latex.py:707: LatexWarning: Could not find graphic \\includegraphics[width=1.0\\textwidth]{ SED_nh_grid_082924_fig2.png}\n",
      "  warnings.warn(LatexWarning(f\"Could not find graphic {k}\"))\n",
      "/opt/hostedtoolcache/Python/3.9.20/x64/lib/python3.9/site-packages/arxiv_on_deck_2/latex.py:132: LatexWarning: attempting recovering figure  agnstack_v2.pdf\n",
      "  warnings.warn(LatexWarning(f'attempting recovering figure {image}'))\n",
      "/opt/hostedtoolcache/Python/3.9.20/x64/lib/python3.9/site-packages/arxiv_on_deck_2/latex.py:707: LatexWarning: Could not find graphic \\includegraphics[width=2.0\\columnwidth]{ agnstack_v2.pdf}\n",
      "  warnings.warn(LatexWarning(f\"Could not find graphic {k}\"))\n",
      "/opt/hostedtoolcache/Python/3.9.20/x64/lib/python3.9/site-packages/arxiv_on_deck_2/latex.py:132: LatexWarning: attempting recovering figure  qsoenvironment_avgs_aug29_alldelayedtau.png\n",
      "  warnings.warn(LatexWarning(f'attempting recovering figure {image}'))\n",
      "/opt/hostedtoolcache/Python/3.9.20/x64/lib/python3.9/site-packages/arxiv_on_deck_2/latex.py:707: LatexWarning: Could not find graphic \\includegraphics[width=1.0\\textwidth]{ qsoenvironment_avgs_aug29_alldelayedtau.png}\n",
      "  warnings.warn(LatexWarning(f\"Could not find graphic {k}\"))\n",
      "/opt/hostedtoolcache/Python/3.9.20/x64/lib/python3.9/site-packages/arxiv_on_deck_2/latex.py:132: LatexWarning: attempting recovering figure  localdensity_mstar_082924_alldelayedtau_r2.png\n",
      "  warnings.warn(LatexWarning(f'attempting recovering figure {image}'))\n",
      "/opt/hostedtoolcache/Python/3.9.20/x64/lib/python3.9/site-packages/arxiv_on_deck_2/latex.py:707: LatexWarning: Could not find graphic \\includegraphics[width=1.0\\textwidth]{ localdensity_mstar_082924_alldelayedtau_r2.png}\n",
      "  warnings.warn(LatexWarning(f\"Could not find graphic {k}\"))\n",
      "/opt/hostedtoolcache/Python/3.9.20/x64/lib/python3.9/site-packages/arxiv_on_deck_2/latex.py:132: LatexWarning: attempting recovering figure  localdensity_bursty_082924_alldelayedtau_r2.png\n",
      "  warnings.warn(LatexWarning(f'attempting recovering figure {image}'))\n",
      "/opt/hostedtoolcache/Python/3.9.20/x64/lib/python3.9/site-packages/arxiv_on_deck_2/latex.py:707: LatexWarning: Could not find graphic \\includegraphics[width=1.0\\textwidth]{ localdensity_bursty_082924_alldelayedtau_r2.png}\n",
      "  warnings.warn(LatexWarning(f\"Could not find graphic {k}\"))\n",
      "/opt/hostedtoolcache/Python/3.9.20/x64/lib/python3.9/site-packages/arxiv_on_deck_2/latex.py:132: LatexWarning: attempting recovering figure  localdensity_age_082924_alldelayedtau_r2.png\n",
      "  warnings.warn(LatexWarning(f'attempting recovering figure {image}'))\n",
      "/opt/hostedtoolcache/Python/3.9.20/x64/lib/python3.9/site-packages/arxiv_on_deck_2/latex.py:707: LatexWarning: Could not find graphic \\includegraphics[width=1.0\\textwidth]{ localdensity_age_082924_alldelayedtau_r2.png}\n",
      "  warnings.warn(LatexWarning(f\"Could not find graphic {k}\"))\n",
      "/opt/hostedtoolcache/Python/3.9.20/x64/lib/python3.9/site-packages/arxiv_on_deck_2/latex.py:132: LatexWarning: attempting recovering figure  3dscatterplot_v5.pdf\n",
      "  warnings.warn(LatexWarning(f'attempting recovering figure {image}'))\n",
      "/opt/hostedtoolcache/Python/3.9.20/x64/lib/python3.9/site-packages/arxiv_on_deck_2/latex.py:707: LatexWarning: Could not find graphic \\includegraphics[width=2.0\\columnwidth]{ 3dscatterplot_v5.pdf}\n",
      "  warnings.warn(LatexWarning(f\"Could not find graphic {k}\"))\n"
     ]
    },
    {
     "name": "stdout",
     "output_type": "stream",
     "text": [
      "Found 92 bibliographic references in tmp_2410.03827/main.bbl.\n",
      "Issues with the citations\n",
      "syntax error in line 396: '=' expected\n",
      "Retrieving document from  https://arxiv.org/e-print/2410.04467\n",
      "Retrieving document from  https://arxiv.org/e-print/2410.04595\n"
     ]
    },
    {
     "name": "stderr",
     "output_type": "stream",
     "text": [
      "/tmp/ipykernel_2826/2822249172.py:52: LatexWarning: 2410.04467 did not run properly\n",
      "HTTP Error 429: Too Many Requests\n",
      "  warnings.warn(latex.LatexWarning(f\"{paper_id:s} did not run properly\\n\" +\n"
     ]
    },
    {
     "name": "stderr",
     "output_type": "stream",
     "text": [
      "/tmp/ipykernel_2826/2822249172.py:52: LatexWarning: 2410.04595 did not run properly\n",
      "not a gzip file\n",
      "  warnings.warn(latex.LatexWarning(f\"{paper_id:s} did not run properly\\n\" +\n"
     ]
    }
   ],
   "source": [
    "documents = []\n",
    "failed = []\n",
    "for paper in tqdm(candidates):\n",
    "    # debug crap\n",
    "    paper['identifier'] = paper['identifier'].lower().replace('arxiv:', '').replace(r'\\n', '').strip()\n",
    "    paper_id = paper['identifier']\n",
    "    \n",
    "    folder = f'tmp_{paper_id}'\n",
    "\n",
    "    try:\n",
    "        if not os.path.isdir(folder):\n",
    "            folder = retrieve_document_source(f\"{paper_id}\", f'tmp_{paper_id}')\n",
    "        \n",
    "        try:\n",
    "            doc = latex.LatexDocument(folder, validation=validation)    \n",
    "        except AffiliationError as affilerror:\n",
    "            msg = f\"ArXiv:{paper_id:s} is not an MPIA paper... \" + str(affilerror)\n",
    "            failed.append((paper, \"affiliation error: \" + str(affilerror) ))\n",
    "            continue\n",
    "        \n",
    "        # Hack because sometimes author parsing does not work well\n",
    "        if (len(doc.authors) != len(paper['authors'])):\n",
    "            doc._authors = paper['authors']\n",
    "        else:\n",
    "            # highlight authors (FIXME: doc.highlight_authors)\n",
    "            # done on arxiv paper already\n",
    "            doc._authors = highlight_authors_in_list(\n",
    "                [get_initials(k) for k in doc.authors], \n",
    "                mpia_authors, verbose=True)\n",
    "        if (doc.abstract) in (None, ''):\n",
    "            doc._abstract = paper['abstract']\n",
    "            \n",
    "        doc.comment = (get_markdown_badge(paper_id) + \n",
    "                       \"<mark>Appeared on: \" + paper['date'] + \"</mark> - \")\n",
    "        if paper['comments']:\n",
    "            doc.comment += \" _\" + paper['comments'] + \"_\"\n",
    "        \n",
    "        full_md = doc.generate_markdown_text()\n",
    "        \n",
    "        full_md += get_markdown_qrcode(paper_id)\n",
    "        \n",
    "        # replace citations\n",
    "        try:\n",
    "            bibdata = latex_bib.LatexBib.from_doc(doc)\n",
    "            full_md = latex_bib.replace_citations(full_md, bibdata)\n",
    "        except Exception as e:\n",
    "            print(\"Issues with the citations\")\n",
    "            print(e)\n",
    "        \n",
    "        documents.append((paper_id, full_md))\n",
    "    except Exception as e:\n",
    "        warnings.warn(latex.LatexWarning(f\"{paper_id:s} did not run properly\\n\" +\n",
    "                                         str(e)\n",
    "                                        ))\n",
    "        failed.append((paper, \"latex error \" + str(e)))"
   ]
  },
  {
   "cell_type": "markdown",
   "id": "2505a25c",
   "metadata": {
    "papermill": {
     "duration": 0.003936,
     "end_time": "2024-10-08T04:11:16.892003",
     "exception": false,
     "start_time": "2024-10-08T04:11:16.888067",
     "status": "completed"
    },
    "tags": []
   },
   "source": [
    "### Export the logs\n",
    "\n",
    "Throughout, we also keep track of the logs per paper. see `logs-{today date}.md` "
   ]
  },
  {
   "cell_type": "code",
   "execution_count": 6,
   "id": "d733828a",
   "metadata": {
    "execution": {
     "iopub.execute_input": "2024-10-08T04:11:16.901030Z",
     "iopub.status.busy": "2024-10-08T04:11:16.900490Z",
     "iopub.status.idle": "2024-10-08T04:11:16.916283Z",
     "shell.execute_reply": "2024-10-08T04:11:16.915618Z"
    },
    "papermill": {
     "duration": 0.021518,
     "end_time": "2024-10-08T04:11:16.917362",
     "exception": false,
     "start_time": "2024-10-08T04:11:16.895844",
     "status": "completed"
    },
    "scrolled": false,
    "tags": []
   },
   "outputs": [
    {
     "data": {
      "text/markdown": [
       "## Successful papers"
      ],
      "text/plain": [
       "<IPython.core.display.Markdown object>"
      ]
     },
     "metadata": {},
     "output_type": "display_data"
    },
    {
     "data": {
      "text/markdown": [
       "\n",
       "|||\n",
       "|---:|:---|\n",
       "| [![arXiv](https://img.shields.io/badge/arXiv-2410.03826-b31b1b.svg)](https://arxiv.org/abs/2410.03826) | **A Quasar-Anchored Protocluster at z=6.6 in the ASPIRE Survey: I. Properties of [OIII] Emitters in a 10 Mpc Overdensity Structure**  |\n",
       "|| J. B. Champagne, et al. -- incl., <mark>E. Bañados</mark> |\n",
       "|*Appeared on*| *2024-10-08*|\n",
       "|*Comments*| *submitted to ApJ june 2024. 18 pages, 7 figures. companion paper II by Champagne+24b is also available on arXiv today*|\n",
       "|**Abstract**|            ASPIRE (A SPectroscopic survey of bIased halos in the Reionization Era) is a quasar legacy survey primarily using JWST to target a sample of 25 $z>6$ quasars with NIRCam slitless spectroscopy and imaging. The first study in this series found evidence of a strong overdensity of galaxies around J0305-3150, a luminous quasar at $z=6.61$, within a single NIRCam pointing obtained in JWST Cycle 1. Here, we present the first results of a JWST Cycle 2 mosaic that covers 35 arcmin$^2$ with NIRCam imaging/WFSS of the same field to investigate the spatial extent of the putative protocluster. The F356W grism data targets [OIII]+H$\\beta$ at $5.3<z<7$ and reveals a population of 124 line emitters down to a flux limit of 1.2$\\times$10$^{-18}$ erg s$^{-1}$ cm$^{-2}$. Fifty-three of these galaxies lie at $6.5<z<6.8$ spanning 10 cMpc on the sky, corresponding to an overdensity within a 2500 cMpc$^3$ volume of 12.5 $\\pm$ 2.6, anchored by the quasar. Comparing to the [OIII] luminosity function from the Emission line galaxies and Intergalactic Gas in the Epoch of Reionization (EIGER) project, we find a dearth of faint [OIII] emitters at log(L/erg s$^{-1}$) $<$ 42.3, which we suggest is consistent with either bursty star formation causing galaxies to scatter around the grism detection limit or modest suppression from quasar feedback. While we find a strong filamentary overdensity of [OIII] emitters consistent with a protocluster, we suggest that we could be insensitive to a population of older, more massive Lyman-break galaxies with weak nebular emission on scales $>10$ cMpc.         |"
      ],
      "text/plain": [
       "[2410.03826] A Quasar-Anchored Protocluster at z=6.6 in the ASPIRE Survey: I. Properties of [OIII] Emitters in a 10 Mpc Overdensity Structure\n",
       "\tJ. B. Champagne, et al. -- incl., <mark>E. Bañados</mark>"
      ]
     },
     "metadata": {},
     "output_type": "display_data"
    },
    {
     "data": {
      "text/markdown": [
       "\n",
       "|||\n",
       "|---:|:---|\n",
       "| [![arXiv](https://img.shields.io/badge/arXiv-2410.03827-b31b1b.svg)](https://arxiv.org/abs/2410.03827) | **A Quasar-Anchored Protocluster at z=6.6 in the ASPIRE Survey: II. An Environmental Analysis of Galaxy Properties in an Overdense Structure**  |\n",
       "|| J. B. Champagne, et al. -- incl., <mark>E. Bañados</mark> |\n",
       "|*Appeared on*| *2024-10-08*|\n",
       "|*Comments*| *accepted to ApJ. 24 pages, 13 figures. Paper I by Champagne+24a is also available on arxiv today*|\n",
       "|**Abstract**|            We present paper II comprising a 35 arcmin$^2$ JWST/NIRCam imaging and wide-field slitless spectroscopy mosaic centered on J0305$-$3150, a luminous quasar at $z=6.61$. The F356W grism data reveals 124 [OIII]+H$\\beta$ emitters at $5.3<z<7$, 53 of which constitute a protocluster spanning (10 cMpc)$^2$ across $6.5<z<6.8$. We find no evidence of any broad-line AGN in individual galaxies or stacking, reporting a median H$\\beta$ FWHM of 585 $\\pm$ 152 km s$^{-1}$; however, the mass-excitation diagram and ``little red dot\" color and compactness criteria suggest that there are a few AGN candidates on the outskirts of the protocluster. We fit the spectral energy distributions (SEDs) of the [OIII] emitters with Prospector and Bagpipes, and find that none of the SED-derived properties (stellar mass, age, or star formation rate) correlates with proximity to the quasar. While there is no correlation between galaxy age and local galaxy density, we find modest correlations between local galaxy density with increasing stellar mass, decreasing 10-to-100 Myr star formation rate ratios and decreasing nebular line equivalent widths. We further find that the protocluster galaxies are consistent with being more massive, older, and hosting higher star formation rates than the field sample at the 3$\\sigma$ level, distributed in a filamentary structure which supports inside-out formation of the protocluster. There is modest evidence that galaxy evolution proceeds differently as a function of the density of local environment within protoclusters during the epoch of reionization, and the central quasar has little effect on the galaxy properties of the surrounding structure.         |"
      ],
      "text/plain": [
       "[2410.03827] A Quasar-Anchored Protocluster at z=6.6 in the ASPIRE Survey: II. An Environmental Analysis of Galaxy Properties in an Overdense Structure\n",
       "\tJ. B. Champagne, et al. -- incl., <mark>E. Bañados</mark>"
      ]
     },
     "metadata": {},
     "output_type": "display_data"
    },
    {
     "data": {
      "text/markdown": [
       "## Failed papers"
      ],
      "text/plain": [
       "<IPython.core.display.Markdown object>"
      ]
     },
     "metadata": {},
     "output_type": "display_data"
    },
    {
     "data": {
      "text/markdown": [
       "\n",
       "|||\n",
       "|---:|:---|\n",
       "| [![arXiv](https://img.shields.io/badge/arXiv-2410.04467-b31b1b.svg)](https://arxiv.org/abs/2410.04467) | **Formation of Giant Radio Sources in Galaxy Clusters**  |\n",
       "|| X. Duan, L. Wu, <mark>R. Zhang</mark>, <mark>J. Li</mark> |\n",
       "|*Appeared on*| *2024-10-08*|\n",
       "|*Comments*| *9 pages, 7 figures*|\n",
       "|**Abstract**|            The number of observed giant radio sources (GRSs) has increased significantly in recent years, yet their formation mechanisms remain elusive. The discovery of giant radio galaxies within galaxy clusters has further intensified the ongoing this http URL utilize magnetohydrodynamic simulations to investigate the formation of GRSs in cluster this http URL avoid confounding the effects of power and total energy injection, we hold the energy of jet outbursts fixed and study the effect of power by varying the active duration of the jets. Furthermore, we examine the roles of magnetic, thermal, and kinetic energy components by adjusting their fractions in the jets. Additionally, we calculate radio emission for comparison with observations in the radio power-linear size diagram (P-D diagram). We find the 'lower power-larger bubble' effect: lower-power jets tend to produce larger radio sources with fixed total jet energy. Regarding different energy components, jets dominated by toroidal magnetic field energy generate larger radio sources than kinetic and thermal energy-dominated jets. Conversely, strong poloidal magnetic fields hinder radio lobe growth. When injecting $2.06 \\times 10^{59}$ erg into a $10^{14}$ solar mass halo, only jets with powers of approximately $10^{-4}$ to $10^{-3}$ Eddington luminosity efficiently traverse the observational region in the P-D diagram. Our findings suggest that energetic, long-lasting (low-power), continuous jets endowed with significant toroidal magnetic fields facilitate the formation of GRSs in cluster environments. However, although the jets with significantly lower power can generate substantially larger radio sources, their faintness may render them unobservable.         |\n",
       "|<p style=\"color:red\"> **ERROR** </p>| <p style=\"color:red\">latex error HTTP Error 429: Too Many Requests</p> |"
      ],
      "text/plain": [
       "<IPython.core.display.Markdown object>"
      ]
     },
     "metadata": {},
     "output_type": "display_data"
    },
    {
     "data": {
      "text/markdown": [
       "\n",
       "|||\n",
       "|---:|:---|\n",
       "| [![arXiv](https://img.shields.io/badge/arXiv-2410.04595-b31b1b.svg)](https://arxiv.org/abs/2410.04595) | **Atmospheres of Solar System Moons and Pluto**  |\n",
       "|| <mark>X. Zhang</mark> |\n",
       "|*Appeared on*| *2024-10-08*|\n",
       "|*Comments*| *Chapter accepted for Encyclopedia of Atmospheric Sciences, Third Edition. 35 pages, 8 figures, and 2 tables*|\n",
       "|**Abstract**|            The atmospheres within our Solar System can be categorized into four distinct climate regimes: \"terrestrial\", \"Jovian\", \"condensable\", and \"exosphere\". Beyond the three terrestrial planets (excluding Mercury) and the four giant planets, collisional atmospheres are also found on smaller celestial bodies such as Jupiter's moon Io, Saturn's moon Titan, Neptune's moon Triton, and Pluto. This article reviews the key characteristics of these atmospheres and the underlying physical and chemical processes that govern them. I focus on their thermal structures, chemical constituents, wind patterns, and the origins and losses of the atmospheres, and highlight the critical roles of surface ices and liquids, atmospheric hazes, and the space environments of their host planets in shaping these atmospheres. I dedicated this article to Prof. Zuo Xiao (1936-2024) at Peking University.         |\n",
       "|<p style=\"color:red\"> **ERROR** </p>| <p style=\"color:red\">latex error not a gzip file</p> |"
      ],
      "text/plain": [
       "<IPython.core.display.Markdown object>"
      ]
     },
     "metadata": {},
     "output_type": "display_data"
    }
   ],
   "source": [
    "import datetime\n",
    "today = str(datetime.date.today())\n",
    "logfile = f\"_build/html/logs/log-{today}.md\"\n",
    "\n",
    "\n",
    "with open(logfile, 'w') as logs:\n",
    "    # Success\n",
    "    logs.write(f'# Arxiv on Deck 2: Logs - {today}\\n\\n')\n",
    "    logs.write(\"\"\"* Arxiv had {0:,d} new papers\\n\"\"\".format(len(new_papers)))\n",
    "    logs.write(\"\"\"    * {0:,d} with possible author matches\\n\\n\"\"\".format(len(candidates)))\n",
    "    logs.write(\"## Sucessful papers\\n\\n\")\n",
    "    display(Markdown(\"## Successful papers\"))\n",
    "    success = [k[0] for k in documents]\n",
    "    for candid in candidates:\n",
    "        if candid['identifier'].split(':')[-1] in success:\n",
    "            display(candid)\n",
    "            logs.write(candid.generate_markdown_text() + '\\n\\n')\n",
    "\n",
    "    ## failed\n",
    "    logs.write(\"## Failed papers\\n\\n\")\n",
    "    display(Markdown(\"## Failed papers\"))\n",
    "    failed = sorted(failed, key=lambda x: x[1])\n",
    "    current_reason = \"\"\n",
    "    for paper, reason in failed:\n",
    "        if 'affiliation' in reason:\n",
    "            color = 'green'\n",
    "        else:\n",
    "            color = 'red'\n",
    "        data = Markdown(\n",
    "                paper.generate_markdown_text() + \n",
    "                f'\\n|<p style=\"color:{color:s}\"> **ERROR** </p>| <p style=\"color:{color:s}\">{reason:s}</p> |'\n",
    "               )\n",
    "        if reason != current_reason:\n",
    "            logs.write(f'### {reason:s} \\n\\n')\n",
    "            current_reason = reason\n",
    "        logs.write(data.data + '\\n\\n')\n",
    "        \n",
    "        # only display here the important errors (all in logs)\n",
    "        # if color in ('red',):\n",
    "        display(data)"
   ]
  },
  {
   "cell_type": "markdown",
   "id": "472d20ee",
   "metadata": {
    "papermill": {
     "duration": 0.004388,
     "end_time": "2024-10-08T04:11:16.926473",
     "exception": false,
     "start_time": "2024-10-08T04:11:16.922085",
     "status": "completed"
    },
    "tags": []
   },
   "source": [
    "## Export documents\n",
    "\n",
    "We now write the .md files and export relevant images"
   ]
  },
  {
   "cell_type": "code",
   "execution_count": 7,
   "id": "d426aed9",
   "metadata": {
    "execution": {
     "iopub.execute_input": "2024-10-08T04:11:16.936610Z",
     "iopub.status.busy": "2024-10-08T04:11:16.936150Z",
     "iopub.status.idle": "2024-10-08T04:11:16.943382Z",
     "shell.execute_reply": "2024-10-08T04:11:16.942707Z"
    },
    "papermill": {
     "duration": 0.013552,
     "end_time": "2024-10-08T04:11:16.944498",
     "exception": false,
     "start_time": "2024-10-08T04:11:16.930946",
     "status": "completed"
    },
    "tags": []
   },
   "outputs": [],
   "source": [
    "def export_markdown_summary(md: str, md_fname:str, directory: str):\n",
    "    \"\"\"Export MD document and associated relevant images\"\"\"\n",
    "    import os\n",
    "    import shutil\n",
    "    import re\n",
    "\n",
    "    if (os.path.exists(directory) and not os.path.isdir(directory)):\n",
    "        raise RuntimeError(f\"a non-directory file exists with name {directory:s}\")\n",
    "\n",
    "    if (not os.path.exists(directory)):\n",
    "        print(f\"creating directory {directory:s}\")\n",
    "        os.mkdir(directory)\n",
    "\n",
    "    fig_fnames = (re.compile(r'\\[Fig.*\\]\\((.*)\\)').findall(md) + \n",
    "                  re.compile(r'\\<img src=\"([^>\\s]*)\"[^>]*/>').findall(md))\n",
    "    print(\"found figures\", fig_fnames)\n",
    "    for fname in fig_fnames:\n",
    "        if 'http' in fname:\n",
    "            # No need to copy online figures\n",
    "            continue\n",
    "        if not os.path.exists(fname):\n",
    "            print(\"file not found\", fname)\n",
    "            continue\n",
    "        print(\"copying \", fname, \"to\", directory)\n",
    "        destdir = os.path.join(directory, os.path.dirname(fname))\n",
    "        destfname = os.path.join(destdir, os.path.basename(fname))\n",
    "        try:\n",
    "            os.makedirs(destdir)\n",
    "        except FileExistsError:\n",
    "            pass\n",
    "        shutil.copy(fname, destfname)\n",
    "    with open(os.path.join(directory, md_fname), 'w') as fout:\n",
    "        fout.write(md)\n",
    "    print(\"exported in \", os.path.join(directory, md_fname))\n",
    "    [print(\"    + \" + os.path.join(directory,fk)) for fk in fig_fnames]"
   ]
  },
  {
   "cell_type": "code",
   "execution_count": 8,
   "id": "014d04a4",
   "metadata": {
    "execution": {
     "iopub.execute_input": "2024-10-08T04:11:16.954589Z",
     "iopub.status.busy": "2024-10-08T04:11:16.954169Z",
     "iopub.status.idle": "2024-10-08T04:11:16.963624Z",
     "shell.execute_reply": "2024-10-08T04:11:16.963070Z"
    },
    "papermill": {
     "duration": 0.015616,
     "end_time": "2024-10-08T04:11:16.964691",
     "exception": false,
     "start_time": "2024-10-08T04:11:16.949075",
     "status": "completed"
    },
    "tags": []
   },
   "outputs": [
    {
     "name": "stdout",
     "output_type": "stream",
     "text": [
      "found figures ['tmp_2410.03826/./hexbin_o3_mosaic_v5.png', 'tmp_2410.03826/./o3lf_mosaic_expmap_v1.png', 'tmp_2410.03826/./uvlf_v2.png', 'tmp_2410.03826/./full_f356w_map_v5.png']\n",
      "copying  tmp_2410.03826/./hexbin_o3_mosaic_v5.png to _build/html/\n",
      "copying  tmp_2410.03826/./o3lf_mosaic_expmap_v1.png to _build/html/\n",
      "copying  tmp_2410.03826/./uvlf_v2.png to _build/html/\n",
      "copying  tmp_2410.03826/./full_f356w_map_v5.png to _build/html/\n",
      "exported in  _build/html/2410.03826.md\n",
      "    + _build/html/tmp_2410.03826/./hexbin_o3_mosaic_v5.png\n",
      "    + _build/html/tmp_2410.03826/./o3lf_mosaic_expmap_v1.png\n",
      "    + _build/html/tmp_2410.03826/./uvlf_v2.png\n",
      "    + _build/html/tmp_2410.03826/./full_f356w_map_v5.png\n",
      "found figures ['', '']\n",
      "file not found \n",
      "file not found \n",
      "exported in  _build/html/2410.03827.md\n",
      "    + _build/html/\n",
      "    + _build/html/\n"
     ]
    }
   ],
   "source": [
    "for paper_id, md in documents:\n",
    "    export_markdown_summary(md, f\"{paper_id:s}.md\", '_build/html/')"
   ]
  },
  {
   "cell_type": "markdown",
   "id": "f087a0a7",
   "metadata": {
    "papermill": {
     "duration": 0.004629,
     "end_time": "2024-10-08T04:11:16.974122",
     "exception": false,
     "start_time": "2024-10-08T04:11:16.969493",
     "status": "completed"
    },
    "tags": []
   },
   "source": [
    "## Display the papers\n",
    "\n",
    "Not necessary but allows for a quick check."
   ]
  },
  {
   "cell_type": "code",
   "execution_count": 9,
   "id": "fd25f625",
   "metadata": {
    "execution": {
     "iopub.execute_input": "2024-10-08T04:11:16.984619Z",
     "iopub.status.busy": "2024-10-08T04:11:16.984138Z",
     "iopub.status.idle": "2024-10-08T04:11:16.990377Z",
     "shell.execute_reply": "2024-10-08T04:11:16.989818Z"
    },
    "papermill": {
     "duration": 0.012638,
     "end_time": "2024-10-08T04:11:16.991473",
     "exception": false,
     "start_time": "2024-10-08T04:11:16.978835",
     "status": "completed"
    },
    "scrolled": false,
    "tags": []
   },
   "outputs": [
    {
     "data": {
      "text/markdown": [
       "<div class=\"macros\" style=\"visibility:hidden;\">\n",
       "$\\newcommand{\\ensuremath}{}$\n",
       "$\\newcommand{\\xspace}{}$\n",
       "$\\newcommand{\\object}[1]{\\texttt{#1}}$\n",
       "$\\newcommand{\\farcs}{{.}''}$\n",
       "$\\newcommand{\\farcm}{{.}'}$\n",
       "$\\newcommand{\\arcsec}{''}$\n",
       "$\\newcommand{\\arcmin}{'}$\n",
       "$\\newcommand{\\ion}[2]{#1#2}$\n",
       "$\\newcommand{\\textsc}[1]{\\textrm{#1}}$\n",
       "$\\newcommand{\\hl}[1]{\\textrm{#1}}$\n",
       "$\\newcommand{\\footnote}[1]{}$\n",
       "$\\newcommand$\n",
       "$\\newcommand{\\vdag}{(v)^\\dagger}$\n",
       "$\\newcommand$\n",
       "$\\newcommand$\n",
       "$\\newcommand{\\sfr}{M_{\\odot} yr^{-1}}$\n",
       "$\\newcommand{\\etal}{et al.}$\n",
       "$\\newcommand{\\um}{\\mum}$\n",
       "$\\newcommand{\\lsun}{L_{\\odot}}$\n",
       "$\\newcommand{\\msun}{M_{\\odot}}$\n",
       "$\\newcommand{\\mstar}{M_{\\star}}$\n",
       "$\\newcommand{\\lt}{<}$\n",
       "$\\newcommand{\\gt}{>}$\n",
       "$\\newcommand{\\Cii}{[C\\textsc{ii}]}$\n",
       "$\\newcommand{\\Oiii}{[O\\textsc{iii}]}$\n",
       "$\\newcommand{\\herschel}{\\textit{Herschel}}$\n",
       "$\\newcommand{\\lya}{Ly\\alpha}$\n",
       "$\\newcommand{\\halpha}{H\\alpha}$\n",
       "$\\newcommand{\\magphys}{\\textsc{magphys}}$\n",
       "$\\newcommand{\\kms}{km s^{-1}}$\n",
       "$\\newcommand{\\pz}{P(z)}$\n",
       "$\\newcommand{\\hband}{H_{160}}$\n",
       "$\\newcommand{\\jband}{J_{125}}$\n",
       "$\\newcommand{\\yband}{Y_{105}}$\n",
       "$\\newcommand{\\iband}{i_{814}}$\n",
       "$\\newcommand{\\vband}{V_{606}}$\n",
       "$\\newcommand{\\jhband}{\\textit{JH}_{140}}$\n",
       "$\\newcommand{\\yjband}{\\textit{YJ}_{110}}$\n",
       "$\\newcommand{\\zband}{z_{850}}$\n",
       "$\\newcommand{\\amp}{~}$\n",
       "$\\newcommand{\\scubaii}{{\\sc Scuba-2}}$\n",
       "$\\newcommand{\\uJy}{\\muJy}$\n",
       "$\\newcommand{\\co}{\\rm CO}$\n",
       "$\\newcommand{\\alphaco}{\\alpha_{\\rm CO}}$\n",
       "$\\newcommand{\\acounits}{M_{\\odot}/(K km s^{-1} pc^{2})}$\n",
       "$\\newcommand{\\ltsima}{\\; \\buildrel < \\over \\sim \\;}$\n",
       "$\\newcommand{\\simlt}{\\lower.5ex\\hbox{\\ltsima}}$\n",
       "$\\newcommand{\\gtsima}{\\; \\buildrel > \\over \\sim \\;}$\n",
       "$\\newcommand{\\simgt}{\\lower.5ex\\hbox{\\gtsima}}$\n",
       "$\\newcommand{\\ltsima}{\\; \\buildrel < \\over \\sim \\;}$\n",
       "$\\newcommand{\\simlt}{\\lower.5ex\\hbox{\\ltsima}}$\n",
       "$\\newcommand{\\gtsima}{\\; \\buildrel > \\over \\sim \\;}$\n",
       "$\\newcommand{\\simgt}{\\lower.5ex\\hbox{\\gtsima}}$</div>\n",
       "\n",
       "\n",
       "\n",
       "<div id=\"title\">\n",
       "\n",
       "# A Quasar-Anchored Protocluster at $z=6.6$ in the ASPIRE Survey: I. Properties of [OIII] Emitters in a 10 Mpc Overdensity Structure\n",
       "\n",
       "</div>\n",
       "<div id=\"comments\">\n",
       "\n",
       "[![arXiv](https://img.shields.io/badge/arXiv-2410.03826-b31b1b.svg)](https://arxiv.org/abs/2410.03826)<mark>Appeared on: 2024-10-08</mark> -  _submitted to ApJ june 2024. 18 pages, 7 figures. companion paper II by Champagne+24b is also available on arXiv today_\n",
       "\n",
       "</div>\n",
       "<div id=\"authors\">\n",
       "\n",
       "Jaclyn~B.~Champagne, et al. -- incl., <mark>E. Bañados</mark>\n",
       "\n",
       "</div>\n",
       "<div id=\"abstract\">\n",
       "\n",
       "**Abstract:** ASPIRE (A SPectroscopic survey of bIased halos in the Reionization Era) is a quasar legacy survey primarily using _JWST_ to target a sample of 25 $z>6$ quasars with NIRCam slitless spectroscopy and imaging.The first study in this series found evidence of a strong overdensity of galaxies around J0305 $-$ 3150, a luminous quasar at $z=6.61$ , within a single NIRCam pointing obtained in JWST Cycle 1.Here, we present the first results of a JWST Cycle 2 mosaic that covers 35 arcmin $^2$ with NIRCam imaging/WFSS of the same field to investigate the spatial extent of the putative protocluster.The F356W grism data targets $\\Oiii$ +H $\\beta$ at $5.3<z<7$ and reveals a population of 124 line emitters down to a flux limit of 1.2 $\\times$ 10 $^{-18}$ erg s $^{-1}$ cm $^{-2}$ .Fifty-three of these galaxies lie at $6.5<z<6.8$ spanning 10 cMpc on the sky, corresponding to an overdensity within a 2500 cMpc $^3$ volume of 12.5 $\\pm$ 2.6, anchored by the quasar.Comparing to the $\\Oiii$ luminosity function from the Emission line galaxies and Intergalactic Gas in the Epoch of Reionization (EIGER) project, we find a dearth of faint $\\Oiii$ emitters at log(L/erg s $^{-1}$ ) $<$ 42.3, which we suggest is consistent with either bursty star formation causing galaxies to scatter around the grism detection limit or modest suppression from quasar feedback.While we find a strong filamentary overdensity of $\\Oiii$ emitters consistent with a protocluster, we suggest that we could be insensitive to a population of older, more massive Lyman-break galaxies with weak nebular emission on scales $>10$ cMpc.\n",
       "\n",
       "</div>\n",
       "\n",
       "<div id=\"div_fig1\">\n",
       "\n",
       "<img src=\"tmp_2410.03826/./hexbin_o3_mosaic_v5.png\" alt=\"Fig2\" width=\"100%\"/>\n",
       "\n",
       "**Figure 2. -**  2D representation of spectroscopically confirmed $\\Oiii$  emitters at the quasar redshift (circles). The quasar is marked as the large black $\\times$; galaxies identified via other tracers are marked in pink symbols. The hexbin histogram (bottom colorbar) denotes the 2D overdensity of $\\Oiii$  emitters with respect to the UV luminosity function at $z=6$ ([Finkelstein, Ryan and Papovich 2015]()) , showing that the overdensity is stronger in a filament pointing away from the quasar. The right colorbar denotes the redshift of individual galaxies, centered on the quasar redshift. The green outline depicts the footprint of the mosaic. (*fig:hexbin*)\n",
       "\n",
       "</div>\n",
       "<div id=\"div_fig2\">\n",
       "\n",
       "<img src=\"tmp_2410.03826/./o3lf_mosaic_expmap_v1.png\" alt=\"Fig6.1\" width=\"50%\"/><img src=\"tmp_2410.03826/./uvlf_v2.png\" alt=\"Fig6.2\" width=\"50%\"/>\n",
       "\n",
       "**Figure 6. -** _Left:_ Luminosity function of the $\\Oiii$  emitters in our sample. The black points indicate members of the protocluster (empty point indicates the upper limit when including LBGs not detected in $\\Oiii$); the blue and pink points indicate the overdensities at $z<6.5$. The green line is the blank field luminosity function from EIGER  ([Matthee, Mackenzie and Simcoe 2023]()) , and the filled gold points are the field galaxies in our sample that do not belong to the three overdensities. The grey shaded regions in both panels indicate where we are $<80$\\% complete. The quasar overdensity is an order of magnitude above the blank field expectations but the shape is dissimilar, with a preference for fainter galaxies and a slight dearth of the brightest galaxies. _Right:_ The UV luminosity function within the quasar protocluster of our $\\Oiii$  emitters and LBGs from [Champagne, Casey and Finkelstein (2023)](). M$_{UV}$ is calculated from the best-fit SEDs presented in Paper II. The redshift-parameterized UVLFs at $z=6.6$ and $z=4$ from [ and Finkelstein (2016)]() are shown: both the $\\Oiii$  emitters and the LBGs are consistent with having undergone more rapid evolution than the field by several hundred Myr. (*fig:o3lf*)\n",
       "\n",
       "</div>\n",
       "<div id=\"div_fig3\">\n",
       "\n",
       "<img src=\"tmp_2410.03826/./full_f356w_map_v5.png\" alt=\"Fig5\" width=\"100%\"/>\n",
       "\n",
       "**Figure 5. -** \n",
       "    Full F356W six-pointing mosaic surrounding\n",
       "    J0305$-$3150, with the full field of view outlined in black. The quasar is depicted at the center with a white circle. The quasar-anchored overdensity members are shown in pink, the overdensities at $z=5.4$ and $z=6.2$ are in blue and purple, and the field galaxies at $5.3<z<6.5$ are shown in yellow. The blue box shows the WFC3 footprint where galaxies have photometric coverage from _HST_. The configuration of the pointings is such that we have the greatest depth in the immediate surroundings of the quasar, so we are most sensitive to faint galaxies in the central regions. The filled points indicate sources already identified in the Cycle 1 data  ([Wang, Yang and Hennawi 2023]()) .\n",
       "  Inset: Zoom-in to the central 30$\\arcsec$  surrounding the quasar. Three companion $\\Cii$  emitters  ([Venemans, Walter and Neeleman 2020]()) , 1 dust continuum emitter  ([Champagne, Decarli and Casey 2018]()) , 1 LAE  ([Farina, Venemans and Decarli 2017]()) , and 2 $\\Oiii$  emitters (this work; one of them is the LAE) are visible within a few hundred ckpc from the quasar. (*fig:f356w*)\n",
       "\n",
       "</div><div id=\"qrcode\"><img src=https://api.qrserver.com/v1/create-qr-code/?size=100x100&data=\"https://arxiv.org/abs/2410.03826\"></div>"
      ],
      "text/plain": [
       "<IPython.core.display.Markdown object>"
      ]
     },
     "metadata": {},
     "output_type": "display_data"
    },
    {
     "data": {
      "text/markdown": [
       "<div class=\"macros\" style=\"visibility:hidden;\">\n",
       "$\\newcommand{\\ensuremath}{}$\n",
       "$\\newcommand{\\xspace}{}$\n",
       "$\\newcommand{\\object}[1]{\\texttt{#1}}$\n",
       "$\\newcommand{\\farcs}{{.}''}$\n",
       "$\\newcommand{\\farcm}{{.}'}$\n",
       "$\\newcommand{\\arcsec}{''}$\n",
       "$\\newcommand{\\arcmin}{'}$\n",
       "$\\newcommand{\\ion}[2]{#1#2}$\n",
       "$\\newcommand{\\textsc}[1]{\\textrm{#1}}$\n",
       "$\\newcommand{\\hl}[1]{\\textrm{#1}}$\n",
       "$\\newcommand{\\footnote}[1]{}$\n",
       "$\\newcommand$\n",
       "$\\newcommand{\\vdag}{(v)^\\dagger}$\n",
       "$\\newcommand$\n",
       "$\\newcommand$\n",
       "$\\newcommand{\\sfr}{M_{\\odot} yr^{-1}}$\n",
       "$\\newcommand{\\etal}{et al.}$\n",
       "$\\newcommand{\\um}{\\mum}$\n",
       "$\\newcommand{\\lsun}{L_{\\odot}}$\n",
       "$\\newcommand{\\msun}{M_{\\odot}}$\n",
       "$\\newcommand{\\mstar}{M_{\\star}}$\n",
       "$\\newcommand{\\lt}{<}$\n",
       "$\\newcommand{\\gt}{>}$\n",
       "$\\newcommand{\\Cii}{[C\\textsc{ii}]}$\n",
       "$\\newcommand{\\Oiii}{[O\\textsc{iii}]}$\n",
       "$\\newcommand{\\herschel}{\\textit{Herschel}}$\n",
       "$\\newcommand{\\lya}{Ly\\alpha}$\n",
       "$\\newcommand{\\halpha}{H\\alpha}$\n",
       "$\\newcommand{\\magphys}{\\textsc{magphys}}$\n",
       "$\\newcommand{\\kms}{km s^{-1}}$\n",
       "$\\newcommand{\\pz}{P(z)}$\n",
       "$\\newcommand{\\hband}{H_{160}}$\n",
       "$\\newcommand{\\jband}{J_{125}}$\n",
       "$\\newcommand{\\yband}{Y_{105}}$\n",
       "$\\newcommand{\\iband}{i_{814}}$\n",
       "$\\newcommand{\\vband}{V_{606}}$\n",
       "$\\newcommand{\\jhband}{\\textit{JH}_{140}}$\n",
       "$\\newcommand{\\yjband}{\\textit{YJ}_{110}}$\n",
       "$\\newcommand{\\zband}{z_{850}}$\n",
       "$\\newcommand{\\amp}{~}$\n",
       "$\\newcommand{\\scubaii}{{\\sc Scuba-2}}$\n",
       "$\\newcommand{\\uJy}{\\muJy}$\n",
       "$\\newcommand{\\co}{\\rm CO}$\n",
       "$\\newcommand{\\alphaco}{\\alpha_{\\rm CO}}$\n",
       "$\\newcommand{\\acounits}{M_{\\odot}/(K km s^{-1} pc^{2})}$\n",
       "$\\newcommand{\\ltsima}{\\; \\buildrel < \\over \\sim \\;}$\n",
       "$\\newcommand{\\simlt}{\\lower.5ex\\hbox{\\ltsima}}$\n",
       "$\\newcommand{\\gtsima}{\\; \\buildrel > \\over \\sim \\;}$\n",
       "$\\newcommand{\\simgt}{\\lower.5ex\\hbox{\\gtsima}}$\n",
       "$\\newcommand{\\ltsima}{\\; \\buildrel < \\over \\sim \\;}$\n",
       "$\\newcommand{\\simlt}{\\lower.5ex\\hbox{\\ltsima}}$\n",
       "$\\newcommand{\\gtsima}{\\; \\buildrel > \\over \\sim \\;}$\n",
       "$\\newcommand{\\simgt}{\\lower.5ex\\hbox{\\gtsima}}$</div>\n",
       "\n",
       "\n",
       "\n",
       "<div id=\"title\">\n",
       "\n",
       "# A Quasar-Anchored Protocluster at $z=6.6$ in the ASPIRE Survey: II. An Environmental Analysis of Galaxy Properties in an Overdense Structure\n",
       "\n",
       "</div>\n",
       "<div id=\"comments\">\n",
       "\n",
       "[![arXiv](https://img.shields.io/badge/arXiv-2410.03827-b31b1b.svg)](https://arxiv.org/abs/2410.03827)<mark>Appeared on: 2024-10-08</mark> -  _accepted to ApJ. 24 pages, 13 figures. Paper I by Champagne+24a is also available on arxiv today_\n",
       "\n",
       "</div>\n",
       "<div id=\"authors\">\n",
       "\n",
       "Jaclyn~B.~Champagne, et al. -- incl., <mark>E. Bañados</mark>\n",
       "\n",
       "</div>\n",
       "<div id=\"abstract\">\n",
       "\n",
       "**Abstract:** We present paper II comprising a 35 arcmin $^2$ _JWST_ /NIRCam imaging and wide-field slitless spectroscopy mosaic centered on J0305 $-$ 3150, a luminous quasar at $z=6.61$ .The F356W grism data reveals 124 $\\Oiii$ +H $\\beta$ emitters at $5.3<z<7$ , 53 of which constitute a protocluster spanning (10 cMpc) $^2$ across $6.5<z<6.8$ .We find no evidence of any broad-line AGN in individual galaxies or stacking, reporting a median H $\\beta$ FWHM of 585 $\\pm$ 152 km s $^{-1}$ ; however, the mass-excitation diagram and \"little red dot\" color and compactness criteria suggest that there are a few AGN candidates on the outskirts of the protocluster.We fit the spectral energy distributions (SEDs) of the $\\Oiii$ emitters with \\texttt{Prospector} and \\texttt{Bagpipes} , and find thatnone of the SED-derived properties (stellar mass, age, or star formation rate) correlates with proximity to the quasar.While there is no correlation between galaxy age and local galaxy density, we find modest correlations between local galaxy density with increasing stellar mass, decreasing 10-to-100 Myr star formation rate ratios and decreasing nebular line equivalent widths.We further find that the protocluster galaxies are consistent with being more massive, older, and hosting higher star formation rates than the field sample at the 3 $\\sigma$ level, distributed in a filamentary structure which supports inside-out formation of the protocluster.There is modest evidence that galaxy evolution proceeds differently as a function of the density of local environment within protoclusters during the epoch of reionization, and the central quasar has little effect on the galaxy properties of the surrounding structure.\n",
       "\n",
       "</div>\n",
       "\n",
       "<div id=\"div_fig1\">\n",
       "\n",
       "<img src=\"\" alt=\"Fig4.1\" width=\"50%\"/><img src=\"\" alt=\"Fig4.2\" width=\"50%\"/>\n",
       "\n",
       "**Figure 4. -**  Example cutouts and spectrum for ID7025, a member of the quasar protocluster. _Top:_ 2$\\arcsec$$\\times$2$\\arcsec$ cutouts in each filter from Subaru, _HST_ and _JWST_, where the red circle denotes the circular aperture used for photometry. _Middle:_ 2D co-added grism spectrum highlighting the detection of three emission lines. _Bottom:_ Optimally extracted 1D grism spectrum (green) and error (pink) with the locations of H$\\beta$, $\\Oiii$$\\lambda$4959 and $\\Oiii$$\\lambda$5007 labeled with thick blue lines. (*fig:example*)\n",
       "\n",
       "</div><div id=\"qrcode\"><img src=https://api.qrserver.com/v1/create-qr-code/?size=100x100&data=\"https://arxiv.org/abs/2410.03827\"></div>"
      ],
      "text/plain": [
       "<IPython.core.display.Markdown object>"
      ]
     },
     "metadata": {},
     "output_type": "display_data"
    }
   ],
   "source": [
    "[display(Markdown(k[1])) for k in documents];"
   ]
  },
  {
   "cell_type": "markdown",
   "id": "873873a4",
   "metadata": {
    "papermill": {
     "duration": 0.005054,
     "end_time": "2024-10-08T04:11:17.001779",
     "exception": false,
     "start_time": "2024-10-08T04:11:16.996725",
     "status": "completed"
    },
    "tags": []
   },
   "source": [
    "# Create HTML index"
   ]
  },
  {
   "cell_type": "code",
   "execution_count": 10,
   "id": "cf665672",
   "metadata": {
    "execution": {
     "iopub.execute_input": "2024-10-08T04:11:17.012853Z",
     "iopub.status.busy": "2024-10-08T04:11:17.012449Z",
     "iopub.status.idle": "2024-10-08T04:11:17.020466Z",
     "shell.execute_reply": "2024-10-08T04:11:17.019879Z"
    },
    "papermill": {
     "duration": 0.014684,
     "end_time": "2024-10-08T04:11:17.021514",
     "exception": false,
     "start_time": "2024-10-08T04:11:17.006830",
     "status": "completed"
    },
    "tags": []
   },
   "outputs": [
    {
     "name": "stdout",
     "output_type": "stream",
     "text": [
      "210  publications files modified in the last 7 days.\n"
     ]
    }
   ],
   "source": [
    "from datetime import datetime, timedelta, timezone\n",
    "from glob import glob\n",
    "import os\n",
    "\n",
    "files = glob('_build/html/*.md')\n",
    "days = 7\n",
    "now = datetime.today()\n",
    "res = []\n",
    "for fk in files:\n",
    "    stat_result = os.stat(fk).st_ctime\n",
    "    modified = datetime.fromtimestamp(stat_result, tz=timezone.utc).replace(tzinfo=None)\n",
    "    delta = now.today() - modified\n",
    "    if delta <= timedelta(days=days):\n",
    "        res.append((delta.seconds, fk))\n",
    "res = [k[1] for k in reversed(sorted(res, key=lambda x:x[1]))]\n",
    "npub = len(res)\n",
    "print(len(res), f\" publications files modified in the last {days:d} days.\")\n",
    "# [ print('\\t', k) for k in res ];"
   ]
  },
  {
   "cell_type": "code",
   "execution_count": 11,
   "id": "015de740",
   "metadata": {
    "execution": {
     "iopub.execute_input": "2024-10-08T04:11:17.032576Z",
     "iopub.status.busy": "2024-10-08T04:11:17.032337Z",
     "iopub.status.idle": "2024-10-08T04:11:17.047384Z",
     "shell.execute_reply": "2024-10-08T04:11:17.046783Z"
    },
    "papermill": {
     "duration": 0.021777,
     "end_time": "2024-10-08T04:11:17.048442",
     "exception": false,
     "start_time": "2024-10-08T04:11:17.026665",
     "status": "completed"
    },
    "tags": []
   },
   "outputs": [
    {
     "name": "stdout",
     "output_type": "stream",
     "text": [
      "11  publications in the last 7 days.\n"
     ]
    }
   ],
   "source": [
    "import datetime\n",
    "from glob import glob\n",
    "\n",
    "def get_last_n_days(lst, days=1):\n",
    "    \"\"\" Get the documents from the last n days \"\"\"\n",
    "    sorted_lst = sorted(lst, key=lambda x: x[1], reverse=True)\n",
    "    for fname, date in sorted_lst:\n",
    "        if date >= str(datetime.date.today() - datetime.timedelta(days=days)):\n",
    "            yield fname\n",
    "\n",
    "def extract_appearance_dates(lst_file):\n",
    "    dates = []\n",
    "\n",
    "    def get_date(line):\n",
    "        return line\\\n",
    "            .split('Appeared on:')[-1]\\\n",
    "            .split('</mark>')[0].strip()\n",
    "\n",
    "    for fname in lst:\n",
    "        with open(fname, 'r') as f:\n",
    "            found_date = False\n",
    "            for line in f:\n",
    "                if not found_date:\n",
    "                    if \"Appeared on\" in line:\n",
    "                        found_date = True\n",
    "                        dates.append((fname, get_date(line)))\n",
    "                else:\n",
    "                    break\n",
    "    return dates\n",
    "\n",
    "from glob import glob\n",
    "lst = glob('_build/html/*md')\n",
    "days = 7\n",
    "dates = extract_appearance_dates(lst)\n",
    "res = list(get_last_n_days(dates, days))\n",
    "npub = len(res)\n",
    "print(len(res), f\" publications in the last {days:d} days.\")"
   ]
  },
  {
   "cell_type": "code",
   "execution_count": 12,
   "id": "52ca0208",
   "metadata": {
    "execution": {
     "iopub.execute_input": "2024-10-08T04:11:17.060037Z",
     "iopub.status.busy": "2024-10-08T04:11:17.059816Z",
     "iopub.status.idle": "2024-10-08T04:11:17.064977Z",
     "shell.execute_reply": "2024-10-08T04:11:17.064418Z"
    },
    "papermill": {
     "duration": 0.011958,
     "end_time": "2024-10-08T04:11:17.065990",
     "exception": false,
     "start_time": "2024-10-08T04:11:17.054032",
     "status": "completed"
    },
    "scrolled": false,
    "tags": []
   },
   "outputs": [],
   "source": [
    "def create_carousel(npub=4):\n",
    "    \"\"\" Generate the HTML code for a carousel with `npub` slides \"\"\"\n",
    "    carousel = [\"\"\"  <div class=\"carousel\" \"\"\",\n",
    "                \"\"\"       data-flickity='{ \"autoPlay\": 10000, \"adaptiveHeight\": true, \"resize\": true, \"wrapAround\": true, \"pauseAutoPlayOnHover\": true, \"groupCells\": 1 }' id=\"asyncTypeset\">\"\"\"\n",
    "                ]\n",
    "    \n",
    "    item_str = \"\"\"    <div class=\"carousel-cell\"> <div id=\"slide{k}\" class=\"md_view\">Content {k}</div> </div>\"\"\"\n",
    "    for k in range(1, npub + 1):\n",
    "        carousel.append(item_str.format(k=k))\n",
    "    carousel.append(\"  </div>\")\n",
    "    return '\\n'.join(carousel)\n",
    "\n",
    "def create_grid(npub=4):\n",
    "    \"\"\" Generate the HTML code for a flat grid with `npub` slides \"\"\"\n",
    "    grid = [\"\"\"  <div class=\"grid\"> \"\"\",\n",
    "                ]\n",
    "    \n",
    "    item_str = \"\"\"    <div class=\"grid-item\"> <div id=\"slide{k}\" class=\"md_view\">Content {k}</div> </div>\"\"\"\n",
    "    for k in range(1, npub + 1):\n",
    "        grid.append(item_str.format(k=k))\n",
    "    grid.append(\"  </div>\")\n",
    "    return '\\n'.join(grid)"
   ]
  },
  {
   "cell_type": "code",
   "execution_count": 13,
   "id": "a6eac5b6",
   "metadata": {
    "execution": {
     "iopub.execute_input": "2024-10-08T04:11:17.077536Z",
     "iopub.status.busy": "2024-10-08T04:11:17.077016Z",
     "iopub.status.idle": "2024-10-08T04:11:17.082163Z",
     "shell.execute_reply": "2024-10-08T04:11:17.081554Z"
    },
    "papermill": {
     "duration": 0.012016,
     "end_time": "2024-10-08T04:11:17.083307",
     "exception": false,
     "start_time": "2024-10-08T04:11:17.071291",
     "status": "completed"
    },
    "scrolled": false,
    "tags": []
   },
   "outputs": [],
   "source": [
    "carousel = create_carousel(npub)\n",
    "docs = ', '.join(['\"{0:s}\"'.format(k.split('/')[-1]) for k in res])\n",
    "slides = ', '.join([f'\"slide{k}\"' for k in range(1, npub + 1)])\n",
    "\n",
    "with open(\"daily_template.html\", \"r\") as tpl:\n",
    "    page = tpl.read()\n",
    "    page = page.replace(\"{%-- carousel:s --%}\", carousel)\\\n",
    "               .replace(\"{%-- suptitle:s --%}\",  \"7-day archives\" )\\\n",
    "               .replace(\"{%-- docs:s --%}\", docs)\\\n",
    "               .replace(\"{%-- slides:s --%}\", slides)\n",
    "    \n",
    "with open(\"_build/html/index_7days.html\", 'w') as fout:\n",
    "    fout.write(page)"
   ]
  },
  {
   "cell_type": "code",
   "execution_count": 14,
   "id": "adc1a1ec",
   "metadata": {
    "execution": {
     "iopub.execute_input": "2024-10-08T04:11:17.095112Z",
     "iopub.status.busy": "2024-10-08T04:11:17.094649Z",
     "iopub.status.idle": "2024-10-08T04:11:17.101292Z",
     "shell.execute_reply": "2024-10-08T04:11:17.100722Z"
    },
    "papermill": {
     "duration": 0.013408,
     "end_time": "2024-10-08T04:11:17.102285",
     "exception": false,
     "start_time": "2024-10-08T04:11:17.088877",
     "status": "completed"
    },
    "tags": []
   },
   "outputs": [
    {
     "name": "stdout",
     "output_type": "stream",
     "text": [
      "4  publications in the last day.\n"
     ]
    }
   ],
   "source": [
    "# redo for today\n",
    "days = 1\n",
    "res = list(get_last_n_days(dates, days))\n",
    "npub = len(res)\n",
    "print(len(res), f\" publications in the last day.\")\n",
    "\n",
    "carousel = create_carousel(npub)\n",
    "docs = ', '.join(['\"{0:s}\"'.format(k.split('/')[-1]) for k in res])\n",
    "slides = ', '.join([f'\"slide{k}\"' for k in range(1, npub + 1)])\n",
    "\n",
    "with open(\"daily_template.html\", \"r\") as tpl:\n",
    "    page = tpl.read()\n",
    "    page = page.replace(\"{%-- carousel:s --%}\", carousel)\\\n",
    "               .replace(\"{%-- suptitle:s --%}\",  \"Daily\" )\\\n",
    "               .replace(\"{%-- docs:s --%}\", docs)\\\n",
    "               .replace(\"{%-- slides:s --%}\", slides)\n",
    "    \n",
    "# print(carousel, docs, slides)\n",
    "# print(page)\n",
    "with open(\"_build/html/index_daily.html\", 'w') as fout:\n",
    "    fout.write(page)"
   ]
  },
  {
   "cell_type": "code",
   "execution_count": 15,
   "id": "00eece82",
   "metadata": {
    "execution": {
     "iopub.execute_input": "2024-10-08T04:11:17.114279Z",
     "iopub.status.busy": "2024-10-08T04:11:17.113810Z",
     "iopub.status.idle": "2024-10-08T04:11:17.120655Z",
     "shell.execute_reply": "2024-10-08T04:11:17.120079Z"
    },
    "papermill": {
     "duration": 0.013929,
     "end_time": "2024-10-08T04:11:17.121630",
     "exception": false,
     "start_time": "2024-10-08T04:11:17.107701",
     "status": "completed"
    },
    "scrolled": false,
    "tags": []
   },
   "outputs": [
    {
     "name": "stdout",
     "output_type": "stream",
     "text": [
      "6  6 publications selected.\n"
     ]
    }
   ],
   "source": [
    "# Create the flat grid of the last N papers (fixed number regardless of dates)\n",
    "from itertools import islice \n",
    "\n",
    "npub = 6\n",
    "res = [k[0] for k in (islice(reversed(sorted(dates, key=lambda x: x[1])), 6))]\n",
    "print(len(res), f\" {npub} publications selected.\")\n",
    "\n",
    "grid = create_grid(npub)\n",
    "docs = ', '.join(['\"{0:s}\"'.format(k.split('/')[-1]) for k in res])\n",
    "slides = ', '.join([f'\"slide{k}\"' for k in range(1, npub + 1)])\n",
    "\n",
    "with open(\"grid_template.html\", \"r\") as tpl:\n",
    "    page = tpl.read()\n",
    "    page = page.replace(\"{%-- grid-content:s --%}\", grid)\\\n",
    "               .replace(\"{%-- suptitle:s --%}\",  f\"Last {npub:,d} papers\" )\\\n",
    "               .replace(\"{%-- docs:s --%}\", docs)\\\n",
    "               .replace(\"{%-- slides:s --%}\", slides)\n",
    "    \n",
    "# print(grid, docs, slides)\n",
    "# print(page)\n",
    "with open(\"_build/html/index_npub_grid.html\", 'w') as fout:\n",
    "    fout.write(page)"
   ]
  }
 ],
 "metadata": {
  "kernelspec": {
   "display_name": "Python 3 (ipykernel)",
   "language": "python",
   "name": "python3"
  },
  "language_info": {
   "codemirror_mode": {
    "name": "ipython",
    "version": 3
   },
   "file_extension": ".py",
   "mimetype": "text/x-python",
   "name": "python",
   "nbconvert_exporter": "python",
   "pygments_lexer": "ipython3",
   "version": "3.9.20"
  },
  "papermill": {
   "default_parameters": {},
   "duration": 37.62823,
   "end_time": "2024-10-08T04:11:17.443786",
   "environment_variables": {},
   "exception": null,
   "input_path": "MPIA daily digest.ipynb",
   "output_path": "log.ipynb",
   "parameters": {},
   "start_time": "2024-10-08T04:10:39.815556",
   "version": "2.6.0"
  },
  "vscode": {
   "interpreter": {
    "hash": "aee8b7b246df8f9039afb4144a1f6fd8d2ca17a180786b69acc140d282b71a49"
   }
  },
  "widgets": {
   "application/vnd.jupyter.widget-state+json": {
    "state": {
     "2fd7cc821964443ebe63ee0523102142": {
      "model_module": "@jupyter-widgets/controls",
      "model_module_version": "2.0.0",
      "model_name": "HTMLModel",
      "state": {
       "_dom_classes": [],
       "_model_module": "@jupyter-widgets/controls",
       "_model_module_version": "2.0.0",
       "_model_name": "HTMLModel",
       "_view_count": null,
       "_view_module": "@jupyter-widgets/controls",
       "_view_module_version": "2.0.0",
       "_view_name": "HTMLView",
       "description": "",
       "description_allow_html": false,
       "layout": "IPY_MODEL_ec8a1ebded9b49fe9e627fbea558ebe7",
       "placeholder": "​",
       "style": "IPY_MODEL_38ed76f4c26e41de8708b8b4f02927f0",
       "tabbable": null,
       "tooltip": null,
       "value": " 4/4 [00:13&lt;00:00,  2.46s/it]"
      }
     },
     "35b97a27c72a44f89a9150729fee3bcf": {
      "model_module": "@jupyter-widgets/controls",
      "model_module_version": "2.0.0",
      "model_name": "FloatProgressModel",
      "state": {
       "_dom_classes": [],
       "_model_module": "@jupyter-widgets/controls",
       "_model_module_version": "2.0.0",
       "_model_name": "FloatProgressModel",
       "_view_count": null,
       "_view_module": "@jupyter-widgets/controls",
       "_view_module_version": "2.0.0",
       "_view_name": "ProgressView",
       "bar_style": "success",
       "description": "",
       "description_allow_html": false,
       "layout": "IPY_MODEL_3eed609d91014ccea79be8bcbe579d7c",
       "max": 4.0,
       "min": 0.0,
       "orientation": "horizontal",
       "style": "IPY_MODEL_7aa4f6a13a1c43fd95929fe45b79aef3",
       "tabbable": null,
       "tooltip": null,
       "value": 4.0
      }
     },
     "38ed76f4c26e41de8708b8b4f02927f0": {
      "model_module": "@jupyter-widgets/controls",
      "model_module_version": "2.0.0",
      "model_name": "HTMLStyleModel",
      "state": {
       "_model_module": "@jupyter-widgets/controls",
       "_model_module_version": "2.0.0",
       "_model_name": "HTMLStyleModel",
       "_view_count": null,
       "_view_module": "@jupyter-widgets/base",
       "_view_module_version": "2.0.0",
       "_view_name": "StyleView",
       "background": null,
       "description_width": "",
       "font_size": null,
       "text_color": null
      }
     },
     "3eed609d91014ccea79be8bcbe579d7c": {
      "model_module": "@jupyter-widgets/base",
      "model_module_version": "2.0.0",
      "model_name": "LayoutModel",
      "state": {
       "_model_module": "@jupyter-widgets/base",
       "_model_module_version": "2.0.0",
       "_model_name": "LayoutModel",
       "_view_count": null,
       "_view_module": "@jupyter-widgets/base",
       "_view_module_version": "2.0.0",
       "_view_name": "LayoutView",
       "align_content": null,
       "align_items": null,
       "align_self": null,
       "border_bottom": null,
       "border_left": null,
       "border_right": null,
       "border_top": null,
       "bottom": null,
       "display": null,
       "flex": null,
       "flex_flow": null,
       "grid_area": null,
       "grid_auto_columns": null,
       "grid_auto_flow": null,
       "grid_auto_rows": null,
       "grid_column": null,
       "grid_gap": null,
       "grid_row": null,
       "grid_template_areas": null,
       "grid_template_columns": null,
       "grid_template_rows": null,
       "height": null,
       "justify_content": null,
       "justify_items": null,
       "left": null,
       "margin": null,
       "max_height": null,
       "max_width": null,
       "min_height": null,
       "min_width": null,
       "object_fit": null,
       "object_position": null,
       "order": null,
       "overflow": null,
       "padding": null,
       "right": null,
       "top": null,
       "visibility": null,
       "width": null
      }
     },
     "5319c9d5f45f41db9ff00714995bd5f2": {
      "model_module": "@jupyter-widgets/base",
      "model_module_version": "2.0.0",
      "model_name": "LayoutModel",
      "state": {
       "_model_module": "@jupyter-widgets/base",
       "_model_module_version": "2.0.0",
       "_model_name": "LayoutModel",
       "_view_count": null,
       "_view_module": "@jupyter-widgets/base",
       "_view_module_version": "2.0.0",
       "_view_name": "LayoutView",
       "align_content": null,
       "align_items": null,
       "align_self": null,
       "border_bottom": null,
       "border_left": null,
       "border_right": null,
       "border_top": null,
       "bottom": null,
       "display": null,
       "flex": null,
       "flex_flow": null,
       "grid_area": null,
       "grid_auto_columns": null,
       "grid_auto_flow": null,
       "grid_auto_rows": null,
       "grid_column": null,
       "grid_gap": null,
       "grid_row": null,
       "grid_template_areas": null,
       "grid_template_columns": null,
       "grid_template_rows": null,
       "height": null,
       "justify_content": null,
       "justify_items": null,
       "left": null,
       "margin": null,
       "max_height": null,
       "max_width": null,
       "min_height": null,
       "min_width": null,
       "object_fit": null,
       "object_position": null,
       "order": null,
       "overflow": null,
       "padding": null,
       "right": null,
       "top": null,
       "visibility": null,
       "width": null
      }
     },
     "7aa4f6a13a1c43fd95929fe45b79aef3": {
      "model_module": "@jupyter-widgets/controls",
      "model_module_version": "2.0.0",
      "model_name": "ProgressStyleModel",
      "state": {
       "_model_module": "@jupyter-widgets/controls",
       "_model_module_version": "2.0.0",
       "_model_name": "ProgressStyleModel",
       "_view_count": null,
       "_view_module": "@jupyter-widgets/base",
       "_view_module_version": "2.0.0",
       "_view_name": "StyleView",
       "bar_color": null,
       "description_width": ""
      }
     },
     "7cd1ef380b0343478b6dfa581eb07bf7": {
      "model_module": "@jupyter-widgets/base",
      "model_module_version": "2.0.0",
      "model_name": "LayoutModel",
      "state": {
       "_model_module": "@jupyter-widgets/base",
       "_model_module_version": "2.0.0",
       "_model_name": "LayoutModel",
       "_view_count": null,
       "_view_module": "@jupyter-widgets/base",
       "_view_module_version": "2.0.0",
       "_view_name": "LayoutView",
       "align_content": null,
       "align_items": null,
       "align_self": null,
       "border_bottom": null,
       "border_left": null,
       "border_right": null,
       "border_top": null,
       "bottom": null,
       "display": null,
       "flex": null,
       "flex_flow": null,
       "grid_area": null,
       "grid_auto_columns": null,
       "grid_auto_flow": null,
       "grid_auto_rows": null,
       "grid_column": null,
       "grid_gap": null,
       "grid_row": null,
       "grid_template_areas": null,
       "grid_template_columns": null,
       "grid_template_rows": null,
       "height": null,
       "justify_content": null,
       "justify_items": null,
       "left": null,
       "margin": null,
       "max_height": null,
       "max_width": null,
       "min_height": null,
       "min_width": null,
       "object_fit": null,
       "object_position": null,
       "order": null,
       "overflow": null,
       "padding": null,
       "right": null,
       "top": null,
       "visibility": null,
       "width": null
      }
     },
     "c864e9cf2c96462ea132d06707a0f51f": {
      "model_module": "@jupyter-widgets/controls",
      "model_module_version": "2.0.0",
      "model_name": "HBoxModel",
      "state": {
       "_dom_classes": [],
       "_model_module": "@jupyter-widgets/controls",
       "_model_module_version": "2.0.0",
       "_model_name": "HBoxModel",
       "_view_count": null,
       "_view_module": "@jupyter-widgets/controls",
       "_view_module_version": "2.0.0",
       "_view_name": "HBoxView",
       "box_style": "",
       "children": [
        "IPY_MODEL_ddf29d3e3ee74a888fdbd35b337eef2f",
        "IPY_MODEL_35b97a27c72a44f89a9150729fee3bcf",
        "IPY_MODEL_2fd7cc821964443ebe63ee0523102142"
       ],
       "layout": "IPY_MODEL_7cd1ef380b0343478b6dfa581eb07bf7",
       "tabbable": null,
       "tooltip": null
      }
     },
     "ddf29d3e3ee74a888fdbd35b337eef2f": {
      "model_module": "@jupyter-widgets/controls",
      "model_module_version": "2.0.0",
      "model_name": "HTMLModel",
      "state": {
       "_dom_classes": [],
       "_model_module": "@jupyter-widgets/controls",
       "_model_module_version": "2.0.0",
       "_model_name": "HTMLModel",
       "_view_count": null,
       "_view_module": "@jupyter-widgets/controls",
       "_view_module_version": "2.0.0",
       "_view_name": "HTMLView",
       "description": "",
       "description_allow_html": false,
       "layout": "IPY_MODEL_5319c9d5f45f41db9ff00714995bd5f2",
       "placeholder": "​",
       "style": "IPY_MODEL_fd86e92d14f1411fbdc41322e863354d",
       "tabbable": null,
       "tooltip": null,
       "value": "100%"
      }
     },
     "ec8a1ebded9b49fe9e627fbea558ebe7": {
      "model_module": "@jupyter-widgets/base",
      "model_module_version": "2.0.0",
      "model_name": "LayoutModel",
      "state": {
       "_model_module": "@jupyter-widgets/base",
       "_model_module_version": "2.0.0",
       "_model_name": "LayoutModel",
       "_view_count": null,
       "_view_module": "@jupyter-widgets/base",
       "_view_module_version": "2.0.0",
       "_view_name": "LayoutView",
       "align_content": null,
       "align_items": null,
       "align_self": null,
       "border_bottom": null,
       "border_left": null,
       "border_right": null,
       "border_top": null,
       "bottom": null,
       "display": null,
       "flex": null,
       "flex_flow": null,
       "grid_area": null,
       "grid_auto_columns": null,
       "grid_auto_flow": null,
       "grid_auto_rows": null,
       "grid_column": null,
       "grid_gap": null,
       "grid_row": null,
       "grid_template_areas": null,
       "grid_template_columns": null,
       "grid_template_rows": null,
       "height": null,
       "justify_content": null,
       "justify_items": null,
       "left": null,
       "margin": null,
       "max_height": null,
       "max_width": null,
       "min_height": null,
       "min_width": null,
       "object_fit": null,
       "object_position": null,
       "order": null,
       "overflow": null,
       "padding": null,
       "right": null,
       "top": null,
       "visibility": null,
       "width": null
      }
     },
     "fd86e92d14f1411fbdc41322e863354d": {
      "model_module": "@jupyter-widgets/controls",
      "model_module_version": "2.0.0",
      "model_name": "HTMLStyleModel",
      "state": {
       "_model_module": "@jupyter-widgets/controls",
       "_model_module_version": "2.0.0",
       "_model_name": "HTMLStyleModel",
       "_view_count": null,
       "_view_module": "@jupyter-widgets/base",
       "_view_module_version": "2.0.0",
       "_view_name": "StyleView",
       "background": null,
       "description_width": "",
       "font_size": null,
       "text_color": null
      }
     }
    },
    "version_major": 2,
    "version_minor": 0
   }
  }
 },
 "nbformat": 4,
 "nbformat_minor": 5
}