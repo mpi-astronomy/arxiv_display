{
 "cells": [
  {
   "cell_type": "markdown",
   "id": "92bcb855",
   "metadata": {
    "papermill": {
     "duration": 0.003802,
     "end_time": "2025-01-15T04:10:45.923369",
     "exception": false,
     "start_time": "2025-01-15T04:10:45.919567",
     "status": "completed"
    },
    "tags": []
   },
   "source": [
    "# MPIA Arxiv on Deck 2\n",
    "\n",
    "Contains the steps to produce the paper extractions."
   ]
  },
  {
   "cell_type": "code",
   "execution_count": 1,
   "id": "3a0d6e11",
   "metadata": {
    "execution": {
     "iopub.execute_input": "2025-01-15T04:10:45.931010Z",
     "iopub.status.busy": "2025-01-15T04:10:45.930460Z",
     "iopub.status.idle": "2025-01-15T04:10:46.387985Z",
     "shell.execute_reply": "2025-01-15T04:10:46.387347Z"
    },
    "papermill": {
     "duration": 0.462587,
     "end_time": "2025-01-15T04:10:46.389301",
     "exception": false,
     "start_time": "2025-01-15T04:10:45.926714",
     "status": "completed"
    },
    "tags": []
   },
   "outputs": [],
   "source": [
    "# Imports\n",
    "import os\n",
    "from IPython.display import Markdown, display\n",
    "from tqdm.notebook import tqdm\n",
    "import warnings\n",
    "from PIL import Image \n",
    "import re\n",
    "\n",
    "# requires arxiv_on_deck_2\n",
    "\n",
    "from arxiv_on_deck_2.arxiv2 import (get_new_papers, \n",
    "                                    get_paper_from_identifier,\n",
    "                                    retrieve_document_source, \n",
    "                                    get_markdown_badge)\n",
    "from arxiv_on_deck_2 import (latex,\n",
    "                             latex_bib,\n",
    "                             mpia,\n",
    "                             highlight_authors_in_list)\n",
    "\n",
    "# Sometimes images are really big\n",
    "Image.MAX_IMAGE_PIXELS = 1000000000 "
   ]
  },
  {
   "cell_type": "code",
   "execution_count": 2,
   "id": "22aa9d44",
   "metadata": {
    "execution": {
     "iopub.execute_input": "2025-01-15T04:10:46.396743Z",
     "iopub.status.busy": "2025-01-15T04:10:46.396245Z",
     "iopub.status.idle": "2025-01-15T04:10:46.404246Z",
     "shell.execute_reply": "2025-01-15T04:10:46.403706Z"
    },
    "papermill": {
     "duration": 0.012774,
     "end_time": "2025-01-15T04:10:46.405321",
     "exception": false,
     "start_time": "2025-01-15T04:10:46.392547",
     "status": "completed"
    },
    "tags": []
   },
   "outputs": [],
   "source": [
    "# Some useful definitions.\n",
    "\n",
    "class AffiliationWarning(UserWarning):\n",
    "    pass\n",
    "\n",
    "class AffiliationError(RuntimeError):\n",
    "    pass\n",
    "\n",
    "def validation(source: str):\n",
    "    \"\"\"Raises error paper during parsing of source file\n",
    "    \n",
    "    Allows checks before parsing TeX code.\n",
    "    \n",
    "    Raises AffiliationWarning\n",
    "    \"\"\"\n",
    "    check = mpia.affiliation_verifications(source, verbose=True)\n",
    "    if check is not True:\n",
    "        raise AffiliationError(\"mpia.affiliation_verifications: \" + check)\n",
    "\n",
    "        \n",
    "warnings.simplefilter('always', AffiliationWarning)\n",
    "\n",
    "\n",
    "def get_markdown_qrcode(paper_id: str):\n",
    "    \"\"\" Generate a qrcode to the arxiv page using qrserver.com\n",
    "    \n",
    "    :param paper: Arxiv paper\n",
    "    :returns: markdown text\n",
    "    \"\"\"\n",
    "    url = r\"https://api.qrserver.com/v1/create-qr-code/?size=100x100&data=\"\n",
    "    txt = f\"\"\"<img src={url}\"https://arxiv.org/abs/{paper_id}\">\"\"\"\n",
    "    txt = '<div id=\"qrcode\">' + txt + '</div>'\n",
    "    return txt\n",
    "\n",
    "\n",
    "def clean_non_western_encoded_characters_commands(text: str) -> str:\n",
    "    \"\"\" Remove non-western encoded characters from a string\n",
    "    List may need to grow.\n",
    "    \n",
    "    :param text: the text to clean\n",
    "    :return: the cleaned text\n",
    "    \"\"\"\n",
    "    text = re.sub(r\"(\\\\begin{CJK}{UTF8}{gbsn})(.*?)(\\\\end{CJK})\", r\"\\2\", text)\n",
    "    return text\n",
    "\n",
    "\n",
    "def get_initials(name: str) -> str:\n",
    "    \"\"\" Get the short name, e.g., A.-B. FamName\n",
    "    :param name: full name\n",
    "    :returns: initials\n",
    "    \"\"\"\n",
    "    initials = []\n",
    "    # account for non western names often in ()\n",
    "    if '(' in name:\n",
    "        name = clean_non_western_encoded_characters_commands(name)\n",
    "        suffix = re.findall(r\"\\((.*?)\\)\", name)[0]\n",
    "        name = name.replace(f\"({suffix})\", '')\n",
    "    else:\n",
    "        suffix = ''\n",
    "    split = name.split()\n",
    "    for token in split[:-1]:\n",
    "        if '-' in token:\n",
    "            current = '-'.join([k[0] + '.' for k in token.split('-')])\n",
    "        else:\n",
    "            current = token[0] + '.'\n",
    "        initials.append(current)\n",
    "    initials.append(split[-1].strip())\n",
    "    if suffix:\n",
    "        initials.append(f\"({suffix})\")\n",
    "    return ' '.join(initials)"
   ]
  },
  {
   "cell_type": "markdown",
   "id": "14bd6310",
   "metadata": {
    "papermill": {
     "duration": 0.002892,
     "end_time": "2025-01-15T04:10:46.411180",
     "exception": false,
     "start_time": "2025-01-15T04:10:46.408288",
     "status": "completed"
    },
    "tags": []
   },
   "source": [
    "## get list of arxiv paper candidates\n",
    "\n",
    "We use the MPIA mitarbeiter list webpage from mpia.de to get author names\n",
    "We then get all new papers from Arxiv and match authors"
   ]
  },
  {
   "cell_type": "code",
   "execution_count": 3,
   "id": "7ea813a8",
   "metadata": {
    "execution": {
     "iopub.execute_input": "2025-01-15T04:10:46.417978Z",
     "iopub.status.busy": "2025-01-15T04:10:46.417795Z",
     "iopub.status.idle": "2025-01-15T04:11:07.281253Z",
     "shell.execute_reply": "2025-01-15T04:11:07.280547Z"
    },
    "papermill": {
     "duration": 20.868468,
     "end_time": "2025-01-15T04:11:07.282627",
     "exception": false,
     "start_time": "2025-01-15T04:10:46.414159",
     "status": "completed"
    },
    "tags": []
   },
   "outputs": [],
   "source": [
    "# deal with the author list and edge cases of people that cannot be consistent on their name  \n",
    "\n",
    "def filter_non_scientists(name: str) -> bool:\n",
    "    \"\"\" Loose filter on expected authorships\n",
    "\n",
    "    removing IT, administration, technical staff\n",
    "    :param name: name\n",
    "    :returns: False if name is not a scientist\n",
    "    \"\"\"\n",
    "    remove_list = ['Licht', 'Binroth', 'Witzel', 'Jordan',\n",
    "                   'Zähringer', 'Scheerer', 'Hoffmann', 'Düe',\n",
    "                   'Hellmich', 'Enkler-Scharpegge', 'Witte-Nguy',\n",
    "                   'Dehen', 'Beckmann', 'Jager', 'Jäger'\n",
    "                  ]\n",
    "\n",
    "    for k in remove_list:\n",
    "        if k in name:\n",
    "            return False\n",
    "    return True\n",
    "\n",
    "def add_author_to_list(author_list: list) -> list:\n",
    "    \"\"\" Add author to list if not already in list\n",
    "    \n",
    "    :param author: author name\n",
    "    :param author_list: list of authors\n",
    "    :returns: updated list of authors\n",
    "    \"\"\"\n",
    "    add_list = ['T. Henning']\n",
    "\n",
    "    for author in add_list:\n",
    "        if author not in author_list:\n",
    "            author_list.append(author)\n",
    "    return author_list\n",
    "\n",
    "# get list from MPIA website\n",
    "# filter for non-scientists (mpia.get_mpia_mitarbeiter_list() does some filtering)\n",
    "mpia_authors = [k[1] for k in mpia.get_mpia_mitarbeiter_list() if filter_non_scientists(k[1])]\n",
    "# add some missing author because of inconsistencies in their MPIA name and author name on papers\n",
    "mpia_authors = add_author_to_list(mpia_authors)"
   ]
  },
  {
   "cell_type": "code",
   "execution_count": 4,
   "id": "2645e73a",
   "metadata": {
    "execution": {
     "iopub.execute_input": "2025-01-15T04:11:07.290158Z",
     "iopub.status.busy": "2025-01-15T04:11:07.289703Z",
     "iopub.status.idle": "2025-01-15T04:11:07.802304Z",
     "shell.execute_reply": "2025-01-15T04:11:07.801666Z"
    },
    "papermill": {
     "duration": 0.517621,
     "end_time": "2025-01-15T04:11:07.803612",
     "exception": false,
     "start_time": "2025-01-15T04:11:07.285991",
     "status": "completed"
    },
    "tags": []
   },
   "outputs": [
    {
     "name": "stdout",
     "output_type": "stream",
     "text": [
      "A. d. Graaff  ->  A. D. Graaff  |  ['A. D. Graaff']\n",
      "M. Flock  ->  M. Flock  |  ['M. Flock']\n",
      "E. Bañados  ->  E. Bañados  |  ['E. Bañados']\n",
      "S. Belladitta  ->  S. Belladitta  |  ['S. Belladitta']\n",
      "Y. Khusanova  ->  Y. Khusanova  |  ['Y. Khusanova']\n",
      "J. Li  ->  J. Li  |  ['J. Li']\n",
      "B. C. Estrada  ->  B. C. Estrada  |  ['B. C. Estrada']\n",
      "Arxiv has 53 new papers today\n",
      "          5 with possible author matches\n"
     ]
    }
   ],
   "source": [
    "new_papers = get_new_papers()\n",
    "# add manual references\n",
    "add_paper_refs = []\n",
    "new_papers.extend([get_paper_from_identifier(k) for k in add_paper_refs])\n",
    "\n",
    "def robust_call(fn, value, *args, **kwargs):\n",
    "    try:\n",
    "        return fn(value, *args, **kwargs)\n",
    "    except Exception:\n",
    "        return value\n",
    "\n",
    "candidates = []\n",
    "for paperk in new_papers:\n",
    "    # Check author list with their initials\n",
    "    normed_author_list = [robust_call(mpia.get_initials, k) for k in paperk['authors']]\n",
    "    hl_authors = highlight_authors_in_list(normed_author_list, mpia_authors, verbose=True)\n",
    "    matches = [(hl, orig) for hl, orig in zip(hl_authors, paperk['authors']) if 'mark' in hl]\n",
    "    paperk['authors'] = hl_authors\n",
    "    if matches:\n",
    "        # only select paper if an author matched our list\n",
    "        candidates.append(paperk)\n",
    "print(\"\"\"Arxiv has {0:,d} new papers today\"\"\".format(len(new_papers)))        \n",
    "print(\"\"\"          {0:,d} with possible author matches\"\"\".format(len(candidates)))"
   ]
  },
  {
   "cell_type": "markdown",
   "id": "3543b34a",
   "metadata": {
    "papermill": {
     "duration": 0.00308,
     "end_time": "2025-01-15T04:11:07.810902",
     "exception": false,
     "start_time": "2025-01-15T04:11:07.807822",
     "status": "completed"
    },
    "tags": []
   },
   "source": [
    "# Parse sources and generate relevant outputs\n",
    "\n",
    "From the candidates, we do the following steps:\n",
    "* get their tarball from ArXiv (and extract data)\n",
    "* find the main .tex file: find one with \\documentclass{...} (sometimes it's non trivial)\n",
    "* Check affiliations with :func:`validation`, which uses :func:`mpia.affiliation_verifications`\n",
    "* If passing the affiliations: we parse the .tex source\n",
    "   * inject sub-documents into the main (flatten the main document)\n",
    "   * parse structure, extract information (title, abstract, authors, figures...)\n",
    "   * handles `\\graphicspath` if provided\n",
    "* Generate the .md document."
   ]
  },
  {
   "cell_type": "code",
   "execution_count": 5,
   "id": "9576b79e",
   "metadata": {
    "execution": {
     "iopub.execute_input": "2025-01-15T04:11:07.818306Z",
     "iopub.status.busy": "2025-01-15T04:11:07.817774Z",
     "iopub.status.idle": "2025-01-15T04:12:22.015378Z",
     "shell.execute_reply": "2025-01-15T04:12:22.014560Z"
    },
    "papermill": {
     "duration": 74.205935,
     "end_time": "2025-01-15T04:12:22.019920",
     "exception": false,
     "start_time": "2025-01-15T04:11:07.813985",
     "status": "completed"
    },
    "scrolled": false,
    "tags": []
   },
   "outputs": [
    {
     "data": {
      "application/vnd.jupyter.widget-view+json": {
       "model_id": "49a7c694bb0e4f919a8f22a92cc4df41",
       "version_major": 2,
       "version_minor": 0
      },
      "text/plain": [
       "  0%|          | 0/5 [00:00<?, ?it/s]"
      ]
     },
     "metadata": {},
     "output_type": "display_data"
    },
    {
     "name": "stdout",
     "output_type": "stream",
     "text": [
      "Retrieving document from  https://arxiv.org/e-print/2501.07627\n"
     ]
    },
    {
     "name": "stdout",
     "output_type": "stream",
     "text": [
      "extracting tarball to tmp_2501.07627..."
     ]
    },
    {
     "name": "stdout",
     "output_type": "stream",
     "text": [
      " done.\n"
     ]
    },
    {
     "name": "stderr",
     "output_type": "stream",
     "text": [
      "/tmp/ipykernel_3195/2822249172.py:52: LatexWarning: 2501.07627 did not run properly\n",
      "bad escape \\i at position 38\n",
      "  warnings.warn(latex.LatexWarning(f\"{paper_id:s} did not run properly\\n\" +\n"
     ]
    },
    {
     "name": "stdout",
     "output_type": "stream",
     "text": [
      "Retrieving document from  https://arxiv.org/e-print/2501.07633\n"
     ]
    },
    {
     "name": "stdout",
     "output_type": "stream",
     "text": [
      "extracting tarball to tmp_2501.07633..."
     ]
    },
    {
     "name": "stdout",
     "output_type": "stream",
     "text": [
      " done.\n"
     ]
    },
    {
     "name": "stdout",
     "output_type": "stream",
     "text": [
      "Found 102 bibliographic references in tmp_2501.07633/main.bbl.\n",
      "Retrieving document from  https://arxiv.org/e-print/2501.07637\n"
     ]
    },
    {
     "name": "stdout",
     "output_type": "stream",
     "text": [
      "extracting tarball to tmp_2501.07637..."
     ]
    },
    {
     "name": "stdout",
     "output_type": "stream",
     "text": [
      " done.\n"
     ]
    },
    {
     "name": "stdout",
     "output_type": "stream",
     "text": [
      "E. Bañados  ->  E. Bañados  |  ['E. Bañados']\n",
      "S. Belladitta  ->  S. Belladitta  |  ['S. Belladitta']\n",
      "Y. Khusanova  ->  Y. Khusanova  |  ['Y. Khusanova']\n"
     ]
    },
    {
     "name": "stdout",
     "output_type": "stream",
     "text": [
      "Found 147 bibliographic references in tmp_2501.07637/main.bbl.\n",
      "Issues with the citations\n",
      "syntax error in line 5: unbalanced braces\n",
      "Retrieving document from  https://arxiv.org/e-print/2501.08015\n"
     ]
    },
    {
     "name": "stderr",
     "output_type": "stream",
     "text": [
      "/opt/hostedtoolcache/Python/3.9.21/x64/lib/python3.9/site-packages/arxiv_on_deck_2/latex_bib.py:132: UserWarning: Error processing bibitem\n",
      " item = \\bibitem[{{HI4PI Collaboration} {et~al.}(2016){HI4PI Collaboration}, {Ben Bekhti}, {Fl{ö}er}, {Keller}, {Kerp}, {Lenz}, {Winkel}, {Bailin}, {Calabretta}, {Dedes}, {Ford}, {Gibson}, {Haud}, {Janowiecki}, {Kalberla}, {Lockman}, {McClure-Griffiths}, {Murphy}, {Nakanishi}, {Pisano},  {Staveley-Smith}}]{2016A&A...594A.116H}{HI4PI Collaboration}, {Ben Bekhti}, N., {Fl{ö}er}, L., {et~al.} 2016, \\href{http://dx.doi.org/10.1051/0004-6361/201629178}{\\JournalTitle{\\aap}, 594, A116}\n",
      " regex = \n",
      "        \\\\bibitem(\\[[^\\[\\]]*?\\]){(?P<bibkey>[a-zA-Z0-9\\-\\+\\.\\S]+?)}(?P<authors>|([\\D]*?))(?P<year>[12][0-9]{3}).*?href(.*?{(?P<url>http[\\S]*)})(?P<rest>.*)\n",
      "        \n",
      "  warnings.warn(str(e))\n"
     ]
    },
    {
     "name": "stdout",
     "output_type": "stream",
     "text": [
      "extracting tarball to tmp_2501.08015..."
     ]
    },
    {
     "name": "stdout",
     "output_type": "stream",
     "text": [
      " done.\n",
      "Retrieving document from  https://arxiv.org/e-print/2501.08301\n"
     ]
    },
    {
     "name": "stderr",
     "output_type": "stream",
     "text": [
      "/opt/hostedtoolcache/Python/3.9.21/x64/lib/python3.9/site-packages/IPython/core/interactiveshell.py:3550: LatexWarning: Multiple tex files.\n",
      "\n",
      "  exec(code_obj, self.user_global_ns, self.user_ns)\n",
      "/opt/hostedtoolcache/Python/3.9.21/x64/lib/python3.9/site-packages/IPython/core/interactiveshell.py:3550: LatexWarning: Found documentclass in tmp_2501.08015/main_resubmitted_forastroph_nolinenumbers.tex\n",
      "\n",
      "  exec(code_obj, self.user_global_ns, self.user_ns)\n",
      "/opt/hostedtoolcache/Python/3.9.21/x64/lib/python3.9/site-packages/arxiv_on_deck_2/latex.py:414: LatexWarning: Latex injecting: 'authorsOKfinal_4july2024.tex' from 'tmp_2501.08015/authorsOKfinal_4july2024.tex'\n",
      "  warnings.warn(LatexWarning(f\"Latex injecting: '{ext}' from '{subsource}'\"))\n"
     ]
    },
    {
     "name": "stdout",
     "output_type": "stream",
     "text": [
      "extracting tarball to tmp_2501.08301..."
     ]
    },
    {
     "name": "stdout",
     "output_type": "stream",
     "text": [
      " done.\n"
     ]
    },
    {
     "name": "stdout",
     "output_type": "stream",
     "text": [
      "B. C. Estrada  ->  B. C. Estrada  |  ['B. C. Estrada']\n"
     ]
    },
    {
     "name": "stdout",
     "output_type": "stream",
     "text": [
      "Found 73 bibliographic references in tmp_2501.08301/main.bbl.\n",
      "Error retrieving bib data for bodman2018inferring: 'author'\n"
     ]
    }
   ],
   "source": [
    "documents = []\n",
    "failed = []\n",
    "for paper in tqdm(candidates):\n",
    "    # debug crap\n",
    "    paper['identifier'] = paper['identifier'].lower().replace('arxiv:', '').replace(r'\\n', '').strip()\n",
    "    paper_id = paper['identifier']\n",
    "    \n",
    "    folder = f'tmp_{paper_id}'\n",
    "\n",
    "    try:\n",
    "        if not os.path.isdir(folder):\n",
    "            folder = retrieve_document_source(f\"{paper_id}\", f'tmp_{paper_id}')\n",
    "        \n",
    "        try:\n",
    "            doc = latex.LatexDocument(folder, validation=validation)    \n",
    "        except AffiliationError as affilerror:\n",
    "            msg = f\"ArXiv:{paper_id:s} is not an MPIA paper... \" + str(affilerror)\n",
    "            failed.append((paper, \"affiliation error: \" + str(affilerror) ))\n",
    "            continue\n",
    "        \n",
    "        # Hack because sometimes author parsing does not work well\n",
    "        if (len(doc.authors) != len(paper['authors'])):\n",
    "            doc._authors = paper['authors']\n",
    "        else:\n",
    "            # highlight authors (FIXME: doc.highlight_authors)\n",
    "            # done on arxiv paper already\n",
    "            doc._authors = highlight_authors_in_list(\n",
    "                [get_initials(k) for k in doc.authors], \n",
    "                mpia_authors, verbose=True)\n",
    "        if (doc.abstract) in (None, ''):\n",
    "            doc._abstract = paper['abstract']\n",
    "            \n",
    "        doc.comment = (get_markdown_badge(paper_id) + \n",
    "                       \"<mark>Appeared on: \" + paper['date'] + \"</mark> - \")\n",
    "        if paper['comments']:\n",
    "            doc.comment += \" _\" + paper['comments'] + \"_\"\n",
    "        \n",
    "        full_md = doc.generate_markdown_text()\n",
    "        \n",
    "        full_md += get_markdown_qrcode(paper_id)\n",
    "        \n",
    "        # replace citations\n",
    "        try:\n",
    "            bibdata = latex_bib.LatexBib.from_doc(doc)\n",
    "            full_md = latex_bib.replace_citations(full_md, bibdata)\n",
    "        except Exception as e:\n",
    "            print(\"Issues with the citations\")\n",
    "            print(e)\n",
    "        \n",
    "        documents.append((paper_id, full_md))\n",
    "    except Exception as e:\n",
    "        warnings.warn(latex.LatexWarning(f\"{paper_id:s} did not run properly\\n\" +\n",
    "                                         str(e)\n",
    "                                        ))\n",
    "        failed.append((paper, \"latex error \" + str(e)))"
   ]
  },
  {
   "cell_type": "markdown",
   "id": "2505a25c",
   "metadata": {
    "papermill": {
     "duration": 0.004093,
     "end_time": "2025-01-15T04:12:22.028306",
     "exception": false,
     "start_time": "2025-01-15T04:12:22.024213",
     "status": "completed"
    },
    "tags": []
   },
   "source": [
    "### Export the logs\n",
    "\n",
    "Throughout, we also keep track of the logs per paper. see `logs-{today date}.md` "
   ]
  },
  {
   "cell_type": "code",
   "execution_count": 6,
   "id": "d733828a",
   "metadata": {
    "execution": {
     "iopub.execute_input": "2025-01-15T04:12:22.037784Z",
     "iopub.status.busy": "2025-01-15T04:12:22.037199Z",
     "iopub.status.idle": "2025-01-15T04:12:22.054182Z",
     "shell.execute_reply": "2025-01-15T04:12:22.053653Z"
    },
    "papermill": {
     "duration": 0.022789,
     "end_time": "2025-01-15T04:12:22.055188",
     "exception": false,
     "start_time": "2025-01-15T04:12:22.032399",
     "status": "completed"
    },
    "scrolled": false,
    "tags": []
   },
   "outputs": [
    {
     "data": {
      "text/markdown": [
       "## Successful papers"
      ],
      "text/plain": [
       "<IPython.core.display.Markdown object>"
      ]
     },
     "metadata": {},
     "output_type": "display_data"
    },
    {
     "data": {
      "text/markdown": [
       "\n",
       "|||\n",
       "|---:|:---|\n",
       "| [![arXiv](https://img.shields.io/badge/arXiv-2501.07633-b31b1b.svg)](https://arxiv.org/abs/2501.07633) | **The coexistence of the streaming instability and the vertical shear instability in protoplanetary disks: Scale-dependence of dust diffusion**  |\n",
       "|| U. Schäfer, A. Johansen, <mark>M. Flock</mark> |\n",
       "|*Appeared on*| *2025-01-15*|\n",
       "|*Comments*| *15 pages, 8 figures, 2 tables; accepted for publication in Astronomy & Astrophysics*|\n",
       "|**Abstract**|            The vertical shear instability and the streaming instability are two robust sources of turbulence in protoplanetary disks. The former has been found to induce anisotropic turbulence that is stronger in the vertical than in the radial dimension and to be overall stronger compared to the largely isotropic turbulence caused by the streaming instability. In this study, we shed light on the dust diffusion by the vertical shear instability and the streaming instability separately and together, and in particular on the direction- and scale-dependence of the diffusion. To this end, we employ two-dimensional global models of the two instabilities either in isolation or in combination. The vertical shear instability in isolation diffuses dust more strongly in the vertical direction than the streaming instability in isolation, resulting in a wave-shaped dust layer in our two-dimensional simulations. Compared with this large-scale diffusion, though, our study highlights that the vertical shear instability causes substantially weaker or even negligible small-scale diffusion. We validate this result using previously published three-dimensional simulations. In particular when simulating centimetre-sized dust, the undulating dust layer becomes internally razor-thin. In contrast, the diffusion owing to the streaming instability exhibits only a marginal scale-dependence, with the dust layer possessing a Gaussian shape. In models including both instabilities, the undulating mid-plane layer is broadened to a width set by the intrinsic diffusion level caused by the streaming instability.         |"
      ],
      "text/plain": [
       "[2501.07633] The coexistence of the streaming instability and the vertical shear instability in protoplanetary disks: Scale-dependence of dust diffusion\n",
       "\tU. Schäfer, A. Johansen, <mark>M. Flock</mark>"
      ]
     },
     "metadata": {},
     "output_type": "display_data"
    },
    {
     "data": {
      "text/markdown": [
       "\n",
       "|||\n",
       "|---:|:---|\n",
       "| [![arXiv](https://img.shields.io/badge/arXiv-2501.07637-b31b1b.svg)](https://arxiv.org/abs/2501.07637) | **NuSTAR observations of a varying-flux quasar in the Epoch of Reionization**  |\n",
       "|| L. Marcotulli, et al. -- incl., <mark>E. Bañados</mark>, <mark>S. Belladitta</mark>, <mark>Y. Khusanova</mark> |\n",
       "|*Appeared on*| *2025-01-15*|\n",
       "|*Comments*| *16 pages, 7 Figures, 3 Tables; accepted for publication in the Astrophysical Journal Letters (ApJL)*|\n",
       "|**Abstract**|            With enough X-ray flux to be detected in a 160s scan by SRG/eROSITA, the $z = 6.19$ quasar CFHQS J142952+544717 is, by far, the most luminous X-ray source known at $z > 6$. We present deep (245 ks) NuSTAR observations of this source; with $\\sim180$ net counts in the combined observations, CFHQS J142952+544717 is the most distant object ever observed by the observatory. Fortuitously, this source was independently observed by Chandra $\\sim110$ days earlier, enabling the identification of two nearby (30'' and 45'' away), fainter X-ray sources. We jointly fit both Chandra and NuSTAR observations--self-consistently including interloper sources--and find that, to greater than 90% confidence, the observed 3-7 keV flux varied by a factor of $\\sim2.6$ during that period, corresponding to approximately two weeks in the quasar rest-frame. This brightening is one the most extreme instances of statistically significant X-ray variability seen in the Epoch of Reionization. We discuss possible scenarios that could produce such rapid change, including X-ray emission from jets too faint at radio frequencies to be observed.         |"
      ],
      "text/plain": [
       "[2501.07637] NuSTAR observations of a varying-flux quasar in the Epoch of Reionization\n",
       "\tL. Marcotulli, et al. -- incl., <mark>E. Bañados</mark>, <mark>S. Belladitta</mark>, <mark>Y. Khusanova</mark>"
      ]
     },
     "metadata": {},
     "output_type": "display_data"
    },
    {
     "data": {
      "text/markdown": [
       "\n",
       "|||\n",
       "|---:|:---|\n",
       "| [![arXiv](https://img.shields.io/badge/arXiv-2501.08301-b31b1b.svg)](https://arxiv.org/abs/2501.08301) | **A Disintegrating Rocky World Shrouded in Dust and Gas: Mid-IR Observations of K2-22b using JWST**  |\n",
       "|| N. Tusay, et al. -- incl., <mark>B. C. Estrada</mark> |\n",
       "|*Appeared on*| *2025-01-15*|\n",
       "|*Comments*| **|\n",
       "|**Abstract**|            The disintegrating ultra-short period rocky exoplanet K2-22b periodically emits dusty clouds in a dynamically chaotic process resulting in a variable transit depth from 0-1.3%. The effluents that sublimate off the surface and condense out in space are probably representative of the formerly interior layers convectively transported to the molten surface. Transmission spectroscopy of these transiting clouds reveal spectral fingerprints of the interior composition of this rocky world. We used JWST's Mid-Infrared Instrument (MIRI) as a low-resolution slitless spectrograph to observe four predicted transit windows for K2-22b. For each observation, we extracted a transmission spectrum over the spectral range of 4.3-11.8 $\\mu$m. We detect one transit at high significance and two at low significance. We find that the data 1) disfavor featureless, iron-dominated core material, 2) are consistent with some form of magnesium silicate minerals, likely from mantle material, and 3) show a distinct and unexpected feature at $\\sim$5 $\\mu$m. The unexpected feature, also seen weakly in the low-significance transits, is consistent with some gas features, possibly NO and/or CO$_2$. These findings warrant further study to improve the constraints on the composition of this disintegrating rocky world.         |"
      ],
      "text/plain": [
       "[2501.08301] A Disintegrating Rocky World Shrouded in Dust and Gas: Mid-IR Observations of K2-22b using JWST\n",
       "\tN. Tusay, et al. -- incl., <mark>B. C. Estrada</mark>"
      ]
     },
     "metadata": {},
     "output_type": "display_data"
    },
    {
     "data": {
      "text/markdown": [
       "## Failed papers"
      ],
      "text/plain": [
       "<IPython.core.display.Markdown object>"
      ]
     },
     "metadata": {},
     "output_type": "display_data"
    },
    {
     "data": {
      "text/markdown": [
       "\n",
       "|||\n",
       "|---:|:---|\n",
       "| [![arXiv](https://img.shields.io/badge/arXiv-2501.08015-b31b1b.svg)](https://arxiv.org/abs/2501.08015) | **Periodic Gamma-ray Modulation of the blazar PG 1553+113 Confirmed by Fermi-LAT and Multi-wavelength Observations**  |\n",
       "|| S. Abdollahi, et al. -- incl., <mark>J. Li</mark> |\n",
       "|*Appeared on*| *2025-01-15*|\n",
       "|*Comments*| *23 pages, 14 figures, 20 plots, 1 table, accepted and published by The Astrophysical Journal. Article produced by the Fermi Large Area Telescope (LAT) Collaboration*|\n",
       "|**Abstract**|            A 2.1-year periodic oscillation of the gamma-ray flux from the blazar PG 1553+113 has previously been tentatively identified in almost 7 year of data from the Fermi Large Area Telescope. After 15 years of Fermi sky-survey observations, doubling the total time range, we report >7 cycle gamma-ray modulation with an estimated significance of 4 sigma against stochastic red noise. Independent determinations of oscillation period and phase in the earlier and the new data are in close agreement (chance probability <0.01). Pulse timing over the full light curve is also consistent with a coherent periodicity. Multiwavelength new data from Swift X-Ray Telescope, Burst Alert Telescope, and UVOT, and from KAIT, Catalina Sky Survey, All-Sky Automated Survey for Supernovae, and Owens Valley Radio Observatory ground-based observatories as well as archival Rossi X-Ray Timing Explorer satellite-All Sky Monitor data, published optical data of Tuorla, and optical historical Harvard plates data are included in our work. Optical and radio light curves show clear correlations with the gamma-ray modulation, possibly with a nonconstant time lag for the radio flux. We interpret the gamma-ray periodicity as possibly arising from a pulsational accretion flow in a sub-parsec binary supermassive black hole system of elevated mass ratio, with orbital modulation of the supplied material and energy in the jet. Other astrophysical scenarios introduced include instabilities, disk and jet precession, rotation or nutation, and perturbations by massive stars or intermediate-mass black holes in polar orbit.         |\n",
       "|<p style=\"color:green\"> **ERROR** </p>| <p style=\"color:green\">affiliation error: mpia.affiliation_verifications: 'Heidelberg' keyword not found.</p> |"
      ],
      "text/plain": [
       "<IPython.core.display.Markdown object>"
      ]
     },
     "metadata": {},
     "output_type": "display_data"
    },
    {
     "data": {
      "text/markdown": [
       "\n",
       "|||\n",
       "|---:|:---|\n",
       "| [![arXiv](https://img.shields.io/badge/arXiv-2501.07627-b31b1b.svg)](https://arxiv.org/abs/2501.07627) | **Discovery of Ancient Globular Cluster Candidates in The Relic, a Quiescent Galaxy at z=2.5**  |\n",
       "|| K. E. Whitaker, et al. -- incl., <mark>A. d. Graaff</mark> |\n",
       "|*Appeared on*| *2025-01-15*|\n",
       "|*Comments*| *19 pages, 7 figures, submitted to Astrophysical Journal on January 9, 2025 (comments welcome!)*|\n",
       "|**Abstract**|            Globular clusters (GCs) are some of the oldest bound structures in the Universe, holding clues to the earliest epochs of star formation and galaxy assembly. However, accurate age measurements of ancient clusters are challenging due to the age-metallicity degeneracy. Here, we report the discovery of 42 compact stellar systems within the 'Relic', a massive, quiescent galaxy at $z=2.53$. The Relic resides in an over-density behind the Abell 2744 cluster, with a prominent tidal tail extending towards two low-mass companions. Using deep data from the UNCOVER/MegaScience JWST Surveys, we find that clusters formed in age intervals ranging from 8 Myr up to $\\sim2$ Gyr, suggesting a rich formation history starting at $z\\sim10$. While the cluster-based star formation history is broadly consistent with the high past star formation rates derived from the diffuse host galaxy light, one potential discrepancy is a tentative $\\sim2-3\\times$ higher rate in the cluster population for the past Gyr. Taken together with the spatial distribution and low inferred metallicities of these young-to-intermediate age clusters, we may be seeing direct evidence for the accretion of star clusters in addition to their early in-situ formation. The cluster masses are high, $\\sim10^6-10^7~M_{\\odot}$, which may explain why we are able to detect them around this likely post-merger galaxy. Overall, the Relic clusters are consistent with being precursors of the most massive present-day GCs. This unique laboratory enables the first connection between long-lived, high-redshift clusters and local stellar populations, offering insights into the early stages of GC evolution and the broader processes of galaxy assembly.         |\n",
       "|<p style=\"color:red\"> **ERROR** </p>| <p style=\"color:red\">latex error bad escape \\i at position 38</p> |"
      ],
      "text/plain": [
       "<IPython.core.display.Markdown object>"
      ]
     },
     "metadata": {},
     "output_type": "display_data"
    }
   ],
   "source": [
    "import datetime\n",
    "today = str(datetime.date.today())\n",
    "logfile = f\"_build/html/logs/log-{today}.md\"\n",
    "\n",
    "\n",
    "with open(logfile, 'w') as logs:\n",
    "    # Success\n",
    "    logs.write(f'# Arxiv on Deck 2: Logs - {today}\\n\\n')\n",
    "    logs.write(\"\"\"* Arxiv had {0:,d} new papers\\n\"\"\".format(len(new_papers)))\n",
    "    logs.write(\"\"\"    * {0:,d} with possible author matches\\n\\n\"\"\".format(len(candidates)))\n",
    "    logs.write(\"## Sucessful papers\\n\\n\")\n",
    "    display(Markdown(\"## Successful papers\"))\n",
    "    success = [k[0] for k in documents]\n",
    "    for candid in candidates:\n",
    "        if candid['identifier'].split(':')[-1] in success:\n",
    "            display(candid)\n",
    "            logs.write(candid.generate_markdown_text() + '\\n\\n')\n",
    "\n",
    "    ## failed\n",
    "    logs.write(\"## Failed papers\\n\\n\")\n",
    "    display(Markdown(\"## Failed papers\"))\n",
    "    failed = sorted(failed, key=lambda x: x[1])\n",
    "    current_reason = \"\"\n",
    "    for paper, reason in failed:\n",
    "        if 'affiliation' in reason:\n",
    "            color = 'green'\n",
    "        else:\n",
    "            color = 'red'\n",
    "        data = Markdown(\n",
    "                paper.generate_markdown_text() + \n",
    "                f'\\n|<p style=\"color:{color:s}\"> **ERROR** </p>| <p style=\"color:{color:s}\">{reason:s}</p> |'\n",
    "               )\n",
    "        if reason != current_reason:\n",
    "            logs.write(f'### {reason:s} \\n\\n')\n",
    "            current_reason = reason\n",
    "        logs.write(data.data + '\\n\\n')\n",
    "        \n",
    "        # only display here the important errors (all in logs)\n",
    "        # if color in ('red',):\n",
    "        display(data)"
   ]
  },
  {
   "cell_type": "markdown",
   "id": "472d20ee",
   "metadata": {
    "papermill": {
     "duration": 0.004711,
     "end_time": "2025-01-15T04:12:22.064757",
     "exception": false,
     "start_time": "2025-01-15T04:12:22.060046",
     "status": "completed"
    },
    "tags": []
   },
   "source": [
    "## Export documents\n",
    "\n",
    "We now write the .md files and export relevant images"
   ]
  },
  {
   "cell_type": "code",
   "execution_count": 7,
   "id": "d426aed9",
   "metadata": {
    "execution": {
     "iopub.execute_input": "2025-01-15T04:12:22.075347Z",
     "iopub.status.busy": "2025-01-15T04:12:22.074897Z",
     "iopub.status.idle": "2025-01-15T04:12:22.081852Z",
     "shell.execute_reply": "2025-01-15T04:12:22.081196Z"
    },
    "papermill": {
     "duration": 0.013287,
     "end_time": "2025-01-15T04:12:22.082812",
     "exception": false,
     "start_time": "2025-01-15T04:12:22.069525",
     "status": "completed"
    },
    "tags": []
   },
   "outputs": [],
   "source": [
    "def export_markdown_summary(md: str, md_fname:str, directory: str):\n",
    "    \"\"\"Export MD document and associated relevant images\"\"\"\n",
    "    import os\n",
    "    import shutil\n",
    "    import re\n",
    "\n",
    "    if (os.path.exists(directory) and not os.path.isdir(directory)):\n",
    "        raise RuntimeError(f\"a non-directory file exists with name {directory:s}\")\n",
    "\n",
    "    if (not os.path.exists(directory)):\n",
    "        print(f\"creating directory {directory:s}\")\n",
    "        os.mkdir(directory)\n",
    "\n",
    "    fig_fnames = (re.compile(r'\\[Fig.*\\]\\((.*)\\)').findall(md) + \n",
    "                  re.compile(r'\\<img src=\"([^>\\s]*)\"[^>]*/>').findall(md))\n",
    "    print(\"found figures\", fig_fnames)\n",
    "    for fname in fig_fnames:\n",
    "        if 'http' in fname:\n",
    "            # No need to copy online figures\n",
    "            continue\n",
    "        if not os.path.exists(fname):\n",
    "            print(\"file not found\", fname)\n",
    "            continue\n",
    "        print(\"copying \", fname, \"to\", directory)\n",
    "        destdir = os.path.join(directory, os.path.dirname(fname))\n",
    "        destfname = os.path.join(destdir, os.path.basename(fname))\n",
    "        try:\n",
    "            os.makedirs(destdir)\n",
    "        except FileExistsError:\n",
    "            pass\n",
    "        shutil.copy(fname, destfname)\n",
    "    with open(os.path.join(directory, md_fname), 'w') as fout:\n",
    "        fout.write(md)\n",
    "    print(\"exported in \", os.path.join(directory, md_fname))\n",
    "    [print(\"    + \" + os.path.join(directory,fk)) for fk in fig_fnames]"
   ]
  },
  {
   "cell_type": "code",
   "execution_count": 8,
   "id": "014d04a4",
   "metadata": {
    "execution": {
     "iopub.execute_input": "2025-01-15T04:12:22.093521Z",
     "iopub.status.busy": "2025-01-15T04:12:22.093067Z",
     "iopub.status.idle": "2025-01-15T04:12:22.106499Z",
     "shell.execute_reply": "2025-01-15T04:12:22.105832Z"
    },
    "papermill": {
     "duration": 0.019867,
     "end_time": "2025-01-15T04:12:22.107600",
     "exception": false,
     "start_time": "2025-01-15T04:12:22.087733",
     "status": "completed"
    },
    "tags": []
   },
   "outputs": [
    {
     "name": "stdout",
     "output_type": "stream",
     "text": [
      "found figures ['tmp_2501.07633/./figures/density_ratio_VSI_SIafterVSI.png', 'tmp_2501.07633/./figures/density_ratio_refinement_VSI.png', 'tmp_2501.07633/./figures/density_ratio_refinement_SIafterVSI.png', 'tmp_2501.07633/./figures/dust_diffusion_comparison.png', 'tmp_2501.07633/./figures/distance_dispersion_VSI.png', 'tmp_2501.07633/./figures/distance_dispersion_SI.png']\n",
      "copying  tmp_2501.07633/./figures/density_ratio_VSI_SIafterVSI.png to _build/html/\n",
      "copying  tmp_2501.07633/./figures/density_ratio_refinement_VSI.png to _build/html/\n",
      "copying  tmp_2501.07633/./figures/density_ratio_refinement_SIafterVSI.png to _build/html/\n",
      "copying  tmp_2501.07633/./figures/dust_diffusion_comparison.png to _build/html/\n",
      "copying  tmp_2501.07633/./figures/distance_dispersion_VSI.png to _build/html/\n",
      "copying  tmp_2501.07633/./figures/distance_dispersion_SI.png to _build/html/\n",
      "exported in  _build/html/2501.07633.md\n",
      "    + _build/html/tmp_2501.07633/./figures/density_ratio_VSI_SIafterVSI.png\n",
      "    + _build/html/tmp_2501.07633/./figures/density_ratio_refinement_VSI.png\n",
      "    + _build/html/tmp_2501.07633/./figures/density_ratio_refinement_SIafterVSI.png\n",
      "    + _build/html/tmp_2501.07633/./figures/dust_diffusion_comparison.png\n",
      "    + _build/html/tmp_2501.07633/./figures/distance_dispersion_VSI.png\n",
      "    + _build/html/tmp_2501.07633/./figures/distance_dispersion_SI.png\n",
      "found figures ['tmp_2501.07637/./Figures/flux_vs_gamma_j1429_wo_xmm.png', 'tmp_2501.07637/./Figures/sky_image_plot.png', 'tmp_2501.07637/./Figures/flux_change_probability.png']\n",
      "copying  tmp_2501.07637/./Figures/flux_vs_gamma_j1429_wo_xmm.png to _build/html/\n",
      "copying  tmp_2501.07637/./Figures/sky_image_plot.png to _build/html/\n",
      "copying  tmp_2501.07637/./Figures/flux_change_probability.png to _build/html/\n",
      "exported in  _build/html/2501.07637.md\n",
      "    + _build/html/tmp_2501.07637/./Figures/flux_vs_gamma_j1429_wo_xmm.png\n",
      "    + _build/html/tmp_2501.07637/./Figures/sky_image_plot.png\n",
      "    + _build/html/tmp_2501.07637/./Figures/flux_change_probability.png\n",
      "found figures ['tmp_2501.08301/./lightcurves.png', 'tmp_2501.08301/./T4_spectrum_gasNdust.png', 'tmp_2501.08301/./4spectra.png', 'tmp_2501.08301/./stacked_all4.png']\n",
      "copying  tmp_2501.08301/./lightcurves.png to _build/html/\n",
      "copying  tmp_2501.08301/./T4_spectrum_gasNdust.png to _build/html/\n",
      "copying  tmp_2501.08301/./4spectra.png to _build/html/\n",
      "copying  tmp_2501.08301/./stacked_all4.png to _build/html/\n",
      "exported in  _build/html/2501.08301.md\n",
      "    + _build/html/tmp_2501.08301/./lightcurves.png\n",
      "    + _build/html/tmp_2501.08301/./T4_spectrum_gasNdust.png\n",
      "    + _build/html/tmp_2501.08301/./4spectra.png\n",
      "    + _build/html/tmp_2501.08301/./stacked_all4.png\n"
     ]
    }
   ],
   "source": [
    "for paper_id, md in documents:\n",
    "    export_markdown_summary(md, f\"{paper_id:s}.md\", '_build/html/')"
   ]
  },
  {
   "cell_type": "markdown",
   "id": "f087a0a7",
   "metadata": {
    "papermill": {
     "duration": 0.004837,
     "end_time": "2025-01-15T04:12:22.117360",
     "exception": false,
     "start_time": "2025-01-15T04:12:22.112523",
     "status": "completed"
    },
    "tags": []
   },
   "source": [
    "## Display the papers\n",
    "\n",
    "Not necessary but allows for a quick check."
   ]
  },
  {
   "cell_type": "code",
   "execution_count": 9,
   "id": "fd25f625",
   "metadata": {
    "execution": {
     "iopub.execute_input": "2025-01-15T04:12:22.128042Z",
     "iopub.status.busy": "2025-01-15T04:12:22.127675Z",
     "iopub.status.idle": "2025-01-15T04:12:22.134916Z",
     "shell.execute_reply": "2025-01-15T04:12:22.134361Z"
    },
    "papermill": {
     "duration": 0.013559,
     "end_time": "2025-01-15T04:12:22.135877",
     "exception": false,
     "start_time": "2025-01-15T04:12:22.122318",
     "status": "completed"
    },
    "scrolled": false,
    "tags": []
   },
   "outputs": [
    {
     "data": {
      "text/markdown": [
       "<div class=\"macros\" style=\"visibility:hidden;\">\n",
       "$\\newcommand{\\ensuremath}{}$\n",
       "$\\newcommand{\\xspace}{}$\n",
       "$\\newcommand{\\object}[1]{\\texttt{#1}}$\n",
       "$\\newcommand{\\farcs}{{.}''}$\n",
       "$\\newcommand{\\farcm}{{.}'}$\n",
       "$\\newcommand{\\arcsec}{''}$\n",
       "$\\newcommand{\\arcmin}{'}$\n",
       "$\\newcommand{\\ion}[2]{#1#2}$\n",
       "$\\newcommand{\\textsc}[1]{\\textrm{#1}}$\n",
       "$\\newcommand{\\hl}[1]{\\textrm{#1}}$\n",
       "$\\newcommand{\\footnote}[1]{}$\n",
       "$\\newcommand{\\dust}{\\textrm{d}}$\n",
       "$\\newcommand{\\gas}{\\textrm{g}}$\n",
       "$\\newcommand{\\mm}{\\textrm{mm}}$\n",
       "$\\newcommand{\\cm}{\\textrm{cm}}$\n",
       "$\\newcommand{\\mum}{\\text{\\textmu}\\textrm{m}}$\n",
       "$\\newcommand{\\au}{\\textrm{au}}$\n",
       "$\\newcommand{\\yr}{\\textrm{yr}}$\n",
       "$\\newcommand{\\kyr}{\\textrm{kyr}}$\n",
       "$\\newcommand{\\St}{\\textrm{St}}$\n",
       "$\\newcommand{\\K}{\\textrm{K}}$\n",
       "$\\newcommand{\\g}{\\textrm{g}}$</div>\n",
       "\n",
       "\n",
       "\n",
       "<div id=\"title\">\n",
       "\n",
       "# The coexistence of the streaming instability and the vertical shear instability in protoplanetary disks: Scale-dependence of dust diffusion\n",
       "\n",
       "</div>\n",
       "<div id=\"comments\">\n",
       "\n",
       "[![arXiv](https://img.shields.io/badge/arXiv-2501.07633-b31b1b.svg)](https://arxiv.org/abs/2501.07633)<mark>Appeared on: 2025-01-15</mark> -  _15 pages, 8 figures, 2 tables; accepted for publication in Astronomy & Astrophysics_\n",
       "\n",
       "</div>\n",
       "<div id=\"authors\">\n",
       "\n",
       "U. Schäfer, A. Johansen, <mark>M. Flock</mark>\n",
       "\n",
       "</div>\n",
       "<div id=\"abstract\">\n",
       "\n",
       "**Abstract:** The vertical shear instability and the streaming instability are two robust sources of turbulence in protoplanetary disks. The former has been found to induce anisotropic turbulence that is stronger in the vertical than in the radial dimension and to be overall stronger compared to the largely isotropic turbulence caused by the streaming instability. In this study, we shed light on the dust diffusion by the vertical shear instability and the streaming instability separately and together, and in particular on the direction- and scale-dependence of the diffusion. To this end, we employ two-dimensional global models of the two instabilities either in isolation or in combination. The vertical shear instability in isolation diffuses dust more strongly in the vertical direction than the streaming instability in isolation, resulting in a wave-shaped dust layer in our two-dimensional simulations. Compared with this large-scale diffusion, though, our study highlights that the vertical shear instability causes substantially weaker or even negligible small-scale diffusion. We validate this result using previously published three-dimensional simulations. In particular when simulating centimetre-sized dust, the undulating dust layer becomes internally razor-thin. In contrast, the diffusion owing to the streaming instability exhibits only a marginal scale-dependence, with the dust layer possessing a Gaussian shape. In models including both instabilities, the undulating mid-plane layer is broadened to a width set by the intrinsic diffusion level caused by the streaming instability.\n",
       "\n",
       "</div>\n",
       "\n",
       "<div id=\"div_fig1\">\n",
       "\n",
       "<img src=\"tmp_2501.07633/./figures/density_ratio_VSI_SIafterVSI.png\" alt=\"Fig2.1\" width=\"33%\"/><img src=\"tmp_2501.07633/./figures/density_ratio_refinement_VSI.png\" alt=\"Fig2.2\" width=\"33%\"/><img src=\"tmp_2501.07633/./figures/density_ratio_refinement_SIafterVSI.png\" alt=\"Fig2.3\" width=\"33%\"/>\n",
       "\n",
       "**Figure 2. -** Ratio of dust $\\rho_{$\\dust$}$ to gas (volume) density $\\rho_{$\\gas$}$ as a function of radius $r$ and height $z$, the latter in units of gas scale heights $H_{$\\gas$}$(upper panels). Zoom-in on dust-to-gas density ratio $\\rho_{$\\dust$}/\\rho_{$\\gas$}$ as a function of radius $r$ and height $z$, with grid structure and dust particles being plotted as black lines and grey dots, respectively (lower panels). Simulations of the vertical shear instability only and of the scenario *SIafterVSI* with a dust size of $3 $\\cm$$ are depicted in the upper and left panel as well as lower and right panel, respectively. While the dust is stirred up to a marginally greater scale height  with respect to the mid-plane in the former simulation, the dust layer is much thinner. Its width indeed amounts to less than a grid cell, while the layer in the latter simulation extends over multiple cells both in the radial and in the vertical dimension. (*fig:dust_concentration_VSI_SIafterVSI*)\n",
       "\n",
       "</div>\n",
       "<div id=\"div_fig2\">\n",
       "\n",
       "<img src=\"tmp_2501.07633/./figures/dust_diffusion_comparison.png\" alt=\"Fig4\" width=\"100%\"/>\n",
       "\n",
       "**Figure 4. -** Dimensionless coefficients of vertical dust diffusion $\\delta_z$ calculated from the time-averaged root mean square $z_{\\textrm{d,rms}}$(circles) and standard deviation $\\sigma_{z_{$\\dust$}}$(squares) of the vertical dust particle positions (left panel). Dimensionless radial dust diffusion coefficients $\\delta_r$ computed considering all dust particles that are initially located within $\\Delta r_{\\textrm{init}}=0.1 $\\au$$(circles) or $\\Delta r_{\\textrm{init}}=0.01 $\\au$$(squares). In both panels, open and filled symbols represent simulations with a dust size of $3 $\\mm$$ and $3 $\\cm$$, respectively. Simulations of only the vertical shear instability, only the streaming instability, the scenario *SIwhileVSI*, and the scenario *SIafterVSI* are depicted using blue, orange, green, and purple markers, respectively. We note that the vertical diffusion coefficients in the vertical shear instability simulation with the larger dust size fall outside of the ordinate range and are therefore plotted in an inset with a different ordinate. (*fig:dust_diffusion_comparison*)\n",
       "\n",
       "</div>\n",
       "<div id=\"div_fig3\">\n",
       "\n",
       "<img src=\"tmp_2501.07633/./figures/distance_dispersion_VSI.png\" alt=\"Fig5.1\" width=\"50%\"/><img src=\"tmp_2501.07633/./figures/distance_dispersion_SI.png\" alt=\"Fig5.2\" width=\"50%\"/>\n",
       "\n",
       "**Figure 5. -** Difference between average and initial radial separation $\\Delta r$ of dust particle pairs as a function of their initial separation in simulations of the vertical shear instability (left panel) and the streaming instability (right panel) with $3 $\\cm$$-sized dust.  We note that the scale of the abscissa is linear between $10^{-2}$ and $-10^{-2}$ and logarithmic otherwise. If their initial separation is less than \\mbox{${\\sim}0.1 $\\au$$}(equivalent to $0.08$ and $1.5$ gas scale heights at the inner and outer radial boundaries), the distance between two particles remains roughly constant if only the vertical shear instability is simulated, while the streaming instability causes the distance to gradually increase with time (differently coloured solid lines). The dashed grey lines mark initial separations of $0.004 $\\au$$ and $0.2 $\\au$$; we choose these scales to measure small-scale and large-scale radial diffusion induced by the two instabilities individually and jointly. If the initial separation exceeds \\mbox{${\\sim}0.1 $\\au$$}, on the other hand, two particles move closer together with time in both simulations. This is because the inwards drift speed of the particles increases with the radius, and the separation of particles at different radii thus decreases. (*fig:radial_distance_diffusion_VSI_SI*)\n",
       "\n",
       "</div><div id=\"qrcode\"><img src=https://api.qrserver.com/v1/create-qr-code/?size=100x100&data=\"https://arxiv.org/abs/2501.07633\"></div>"
      ],
      "text/plain": [
       "<IPython.core.display.Markdown object>"
      ]
     },
     "metadata": {},
     "output_type": "display_data"
    },
    {
     "data": {
      "text/markdown": [
       "<div class=\"macros\" style=\"visibility:hidden;\">\n",
       "$\\newcommand{\\ensuremath}{}$\n",
       "$\\newcommand{\\xspace}{}$\n",
       "$\\newcommand{\\object}[1]{\\texttt{#1}}$\n",
       "$\\newcommand{\\farcs}{{.}''}$\n",
       "$\\newcommand{\\farcm}{{.}'}$\n",
       "$\\newcommand{\\arcsec}{''}$\n",
       "$\\newcommand{\\arcmin}{'}$\n",
       "$\\newcommand{\\ion}[2]{#1#2}$\n",
       "$\\newcommand{\\textsc}[1]{\\textrm{#1}}$\n",
       "$\\newcommand{\\hl}[1]{\\textrm{#1}}$\n",
       "$\\newcommand{\\footnote}[1]{}$\n",
       "$\\newcommand{\\uat}[2]{\\href{http://astrothesaurus.org/uat/#2}{#1 (#2)}}$\n",
       "$\\newcommand{\\shortname}{J1429+5447}$\n",
       "$\\newcommand{\\longname}{\\objectname{CFHQS J142952+544717}}$\n",
       "$\\newcommand{\\cii}{[C\\ensuremath{ \\textsc{ii}}]}$\n",
       "$\\newcommand{\\mgii}{Mg\\ensuremath{ \\textsc{ii}}}$\n",
       "$\\newcommand{\\RNum}[1]{\\uppercase\\expandafter{\\romannumeral #1\\relax}}$</div>\n",
       "\n",
       "\n",
       "\n",
       "<div id=\"title\">\n",
       "\n",
       "# NuSTAR observations of a varying-flux quasar in the Epoch of Reionization\n",
       "\n",
       "</div>\n",
       "<div id=\"comments\">\n",
       "\n",
       "[![arXiv](https://img.shields.io/badge/arXiv-2501.07637-b31b1b.svg)](https://arxiv.org/abs/2501.07637)<mark>Appeared on: 2025-01-15</mark> -  _16 pages, 7 Figures, 3 Tables; accepted for publication in the Astrophysical Journal Letters (ApJL)_\n",
       "\n",
       "</div>\n",
       "<div id=\"authors\">\n",
       "\n",
       "L. Marcotulli, et al. -- incl., <mark>E. Bañados</mark>, <mark>S. Belladitta</mark>, <mark>Y. Khusanova</mark>\n",
       "\n",
       "</div>\n",
       "<div id=\"abstract\">\n",
       "\n",
       "**Abstract:** With enough X-ray flux to be detected in a 160 s scan by _SRG_ /eROSITA, the $z=6.19$ quasar $\\longname$ is, by far, the most luminous X-ray source known at $z>6$ . We present deep (245 ks) _NuSTAR_ observations of this source; with ${\\sim}180$ net counts in the combined observations, $\\longname$ is the most distant object ever observed by the observatory. Fortuitously, this source was independently observed by _Chandra_ ${\\sim}110$ days earlier, enabling the identification of two nearby ( $30\"$ and $45\"$ away), fainter X-ray sources. We jointly fit both _Chandra_ and _NuSTAR_ observations \\textemdash self-consistently including interloper sources \\textemdash and find that, to greater than 90 \\% confidence, the observed $3-7 \\rm keV$ flux varied by a factor of $\\sim2.6$ during that period, corresponding to approximately two weeks in the quasar rest-frame. This brightening is one the most extreme instances of statistically significant X-ray variability seen in the Epoch of Reionization. We discuss possible scenarios that could produce such rapid change, including X-ray emission from jets too faint at radio frequencies to be observed.\n",
       "\n",
       "</div>\n",
       "\n",
       "<div id=\"div_fig1\">\n",
       "\n",
       "<img src=\"tmp_2501.07637/./Figures/flux_vs_gamma_j1429_wo_xmm.png\" alt=\"Fig3\" width=\"100%\"/>\n",
       "\n",
       "**Figure 3. -** $3-7 \\rm keV$ posterior flux distribution versus the full-band photon index posterior distribution for $\\shortname$ obtained with the simultaneous fit of the three _Chandra_ sources and the co-added _ NuSTAR_ FPMAs (details in Section \\ref{sec:month-time}). The $1\\sigma$ and 90\\% contour levels are reported in the plot. There is no overlap between the two contours, which is a further indication that the flux of the source varied in the four months (observed frame) between observations. The photon index distributions span a similar range, indicating that more likely the source only varied in flux. Note that these photon indices are extracted by fitting datasets covering different energy ranges, and hence cannot be compared one-to-one. (*fig:dist_flux*)\n",
       "\n",
       "</div>\n",
       "<div id=\"div_fig2\">\n",
       "\n",
       "<img src=\"tmp_2501.07637/./Figures/sky_image_plot.png\" alt=\"Fig1\" width=\"100%\"/>\n",
       "\n",
       "**Figure 1. -** _Chandra_(left) and _NuSTAR_(right) X-ray observations of $\\shortname$. All panels show the same $2^\\prime \\times 2^\\prime$ region, and the sets of images are smoothed by Gaussian kernels of radius $2^{\\prime\\prime}$(_Chandra_) and $8^{\\prime\\prime}$(_NuSTAR_). **Top:**$3-10 \\rm keV$ images of the single _Chandra_ observation and the combined _NuSTAR_ observation. Reticles on the _Chandra_ image mark the positions of I-SW and I-NE. A circular aperture of radius $25^{\\prime\\prime}$ is drawn around the centroid of the _NuSTAR_ flux. **Bottom Left:**_Chandra_ observations in a soft 0.5\\textendash3.0 keV band (upper) and broad 0.5\\textendash10.0 keV band (lower). The two interloper sources are clearly seen in these two bands, despite not contributing significant flux to the $3-10 \\rm keV$ band. **Bottom Right**: _NuSTAR_ 3\\textendash10 keV images of $\\shortname$ from observation 60701063002 (N02, left) and 60701063004 (N04, right) with FPMA (top) and FPMB (bottom). $\\shortname$ is clearly detected in the combined image as well as the individual exposures, albeit less significantly in the FPMB images owing to the higher background.\n",
       "       (*fig:sky_images*)\n",
       "\n",
       "</div>\n",
       "<div id=\"div_fig3\">\n",
       "\n",
       "<img src=\"tmp_2501.07637/./Figures/flux_change_probability.png\" alt=\"Fig4\" width=\"100%\"/>\n",
       "\n",
       "**Figure 4. -** ** Left:** Histogram of the difference between the _Chandra_ and _NuSTAR_$3-7 \\rm keV$ posterior flux distribution obtained by simultaneously fitting all three _Chandra_ data sets and the _NuSTAR_ co-added FPMA. The mean (dashed vertical line) and 90\\% confidence limit (CL, solid vertical lines) of the distributions obtained by a Gaussian fit (solid line) are shown. This histogram highlights that $\\shortname$ varied in flux between the _Chandra_ and _NuSTAR_ epoch of observation at $>90\\%$ CL. The mean of the distribution indicates that the _NuSTAR_ flux is $\\sim2.6$ times higher than the _Chandra_ one. Moreover, only 0.26\\% of the distribution has a value $\\leq0$, in support of the fact that it is highly unlikely that the source did not vary between the two epochs. **Right:** 90\\% distribution of flux offsets observed for $\\shortname$(dark blue-green) relative to flux offsets observed for lower-redshift ($z=[1,2]$) AGN in a broadly similar regime of black hole masses ($M_{\\rm BH}>10^8$) and Eddington ratios ($\\lambda_{\\rm Edd} > 0.01$) by \\citet[from dark to light pink]{2024MNRAS.531.4524G}. Most of the probability distribution of observed brightening occupies the region where fewer than 5\\% of comparison flux variations reside. The rapidity of such a significant flux offset is thus unusual for an AGN. (*fig:flux_var*)\n",
       "\n",
       "</div><div id=\"qrcode\"><img src=https://api.qrserver.com/v1/create-qr-code/?size=100x100&data=\"https://arxiv.org/abs/2501.07637\"></div>"
      ],
      "text/plain": [
       "<IPython.core.display.Markdown object>"
      ]
     },
     "metadata": {},
     "output_type": "display_data"
    },
    {
     "data": {
      "text/markdown": [
       "<div class=\"macros\" style=\"visibility:hidden;\">\n",
       "$\\newcommand{\\ensuremath}{}$\n",
       "$\\newcommand{\\xspace}{}$\n",
       "$\\newcommand{\\object}[1]{\\texttt{#1}}$\n",
       "$\\newcommand{\\farcs}{{.}''}$\n",
       "$\\newcommand{\\farcm}{{.}'}$\n",
       "$\\newcommand{\\arcsec}{''}$\n",
       "$\\newcommand{\\arcmin}{'}$\n",
       "$\\newcommand{\\ion}[2]{#1#2}$\n",
       "$\\newcommand{\\textsc}[1]{\\textrm{#1}}$\n",
       "$\\newcommand{\\hl}[1]{\\textrm{#1}}$\n",
       "$\\newcommand{\\footnote}[1]{}$\n",
       "$\\newcommand{\\vdag}{(v)^\\dagger}$\n",
       "$\\newcommand$\n",
       "$\\newcommand$\n",
       "$\\newcommand{\\red}{\\textcolor{red}}$\n",
       "$\\newcommand{\\NTT}[1]{\\textcolor{NTT}{\\bf[NTT: #1]}}$\n",
       "$\\newcommand{\\PSUAA}{Department of Astronomy and Astrophysics, The Pennsylvania State University, University Park, PA, 16802, USA}$\n",
       "$\\newcommand{\\PSUGS}{Department of Geosciences, The Pennsylvania State University, University Park, PA, 16802, USA}$\n",
       "$\\newcommand{\\CEHW}{Center for Exoplanets and Habitable Worlds, The Pennsylvania State University, University Park, PA, 16802, USA}$\n",
       "$\\newcommand{\\Wisc}{Department of Astronomy, University of Wisconsin-Madison, Madison, WI, USA}$\n",
       "$\\newcommand{\\NASA}{NASA Goddard Space Flight Center, Greenbelt, MD, 20771, USA}$\n",
       "$\\newcommand{\\ASU}{School of Earth and Space Exploration, Arizona State University, PO Box 876004, Tempe, 85287-6004, Arizona, USA}$\n",
       "$\\newcommand{\\IMP}{Astrophysics Group, Imperial College London, Blackett Laboratory, Prince Consort Road, London SW7 2AZ, UK}$\n",
       "$\\newcommand{\\Ox}{University of Oxford, Oxford, UK}$\n",
       "$\\newcommand{\\MaxP}{Max-Planck-Institut für Astronomie, Königstuhl 17, D-69117 Heidelberg, Germany}$\n",
       "$\\newcommand{\\Bern}{University of Bern}$\n",
       "$\\newcommand{\\Dminn}{Department of Physics and Astronomy, University of Minnesota Duluth, Duluth, Minnesota 55812, USA}$\n",
       "$\\newcommand{\\NOIR}{U.S. National Science Foundation National Optical-Infrared Astronomy Research Laboratory, 950 N. Cherry Ave., Tucson, AZ 85719, USA}$\n",
       "$\\newcommand{\\columnsep}{5pt}$\n",
       "$\\newcommand{\\arraystretch}{1.2}$</div>\n",
       "\n",
       "\n",
       "\n",
       "<div id=\"title\">\n",
       "\n",
       "# A Disintegrating Rocky World Shrouded in Dust and Gas: Mid-IR Observations of K2-22b using JWST\n",
       "\n",
       "</div>\n",
       "<div id=\"comments\">\n",
       "\n",
       "[![arXiv](https://img.shields.io/badge/arXiv-2501.08301-b31b1b.svg)](https://arxiv.org/abs/2501.08301)<mark>Appeared on: 2025-01-15</mark> - \n",
       "\n",
       "</div>\n",
       "<div id=\"authors\">\n",
       "\n",
       "N. Tusay, et al. -- incl., <mark>B. C. Estrada</mark>\n",
       "\n",
       "</div>\n",
       "<div id=\"abstract\">\n",
       "\n",
       "**Abstract:** The disintegrating ultra-short period rocky exoplanet K2-22b periodically emits dusty clouds in a dynamically chaotic process resulting in a variable transit depth from 0--1.3 \\% . The effluents that sublimate off the surface and condense out in space are probably representative of the formerly interior layers convectively transported to the molten surface. Transmission spectroscopy of these transiting clouds reveal spectral fingerprints of the interior composition of this rocky world. We used JWST’s Mid-Infrared Instrument (MIRI) as a low-resolution slitless spectrograph to observe four predicted transit windows for K2-22b. For each observation, we extracted a transmission spectrum over the spectral range of 4.3--11.8 $\\mu$ m. We detect one transit at high significance and two at low significance. We find that the data 1) disfavor featureless, iron-dominated core material, 2) are consistent with some form of magnesium silicate minerals, likely from mantle material, and 3) show a distinct and unexpected feature at $\\sim$ 5 $\\mu$ m. The unexpected feature, also seen weakly in the low-significance transits, is consistent with some gas features, possibly NO and/or $CO_2$ . These findings warrant further study to improve the constraints on the composition of this disintegrating rocky world.\n",
       "\n",
       "</div>\n",
       "\n",
       "<div id=\"div_fig1\">\n",
       "\n",
       "<img src=\"tmp_2501.08301/./lightcurves.png\" alt=\"Fig4\" width=\"100%\"/>\n",
       "\n",
       "**Figure 4. -** MIRI LRS lightcurves for all 4 transit observations listed in Table \\ref{tab:obs}. The unbinned data are greyed out in the background. The blue points are binned to a time resolution of 8 minutes. The red line is a 2nd order polynomial fit to transit 4 and scaled to the best fit value in each window. Multiple transit models were fit, including the original _K2_ lightcurve and a boxcar, with no significant difference. The 46 min transit duration calculated by [ and è (2015)]() is included as vertical gray dashed lines for reference. The uncertainties in the data points as reported by \\texttt{Eureka!} were inflated to match the actual standard deviation in the baseline flux.\n",
       "             (*fig:all4LCs*)\n",
       "\n",
       "</div>\n",
       "<div id=\"div_fig2\">\n",
       "\n",
       "<img src=\"tmp_2501.08301/./T4_spectrum_gasNdust.png\" alt=\"Fig2\" width=\"100%\"/>\n",
       "\n",
       "**Figure 2. -** \\justifying Results from JWST Cycle 2 GO Program 3315.\n",
       "\\\\\\hspace{\\textwidth}***Top***: Lightcurve of the second half of the phase curve, collected on April 28, 2024, showing a clear transit at the predicted ephemeris. The unbinned time series data is plotted in grey in the background. The blue points are binned to a time resolution of 8 minutes. The average 46-minute duration drawn from [ and è (2015)]() is shown as vertical dashed grey lines for reference. Since the transit duration incorporating the cloud of material is not precisely known and potentially variable with wavelength, the baseline flux was calculated from data outside the baseline boundaries set at $1.5\\times$ the average 46-minute duration, centered at the ephemeris and shown as vertical dashed green lines. The red line is a 2nd order polynomial model fit to the data during transit and set to zero elsewhere. The residuals of the lightcurve model are shown in the bottom panel.\n",
       "\\\\\\hspace{\\textwidth}\\ ***Middle***: JWST MIRI spectrum showing a clear detection of a transit from 4.3-7 $\\mu$m *except* at 4.8$\\mu$m.\n",
       "The unbinned JWST data for each channel is plotted in grey in the background. The binned JWST spectrum in the foreground has a constant spectral resolution of R=17.\n",
       "The horizontal red dashed line shows the overall transit depth from the MIRI lightcurve in the top panel. The dotted curves show the spectra models of plausible gas species from the DACE database  ([Grimm, Malik and Kitzmann 2021]()) . The dashed curves show representative combinations of iron-magnesium-silicate species predicted by bodman2018inferring, [Owen, et. al (2024)](). The solid purple line shows a total opacity model representing a combination of these minerals and gases with features that plausibly correspond to features in the data.\n",
       "CHEOPS photometry is also shown over its 0.33-1.1 $\\mu$m bandpass. The measured CHEOPS transit depth is consistent with the overall transit depth from the MIRI lightcurve.\n",
       "\\\\\\hspace{\\textwidth}\\ ***Bottom Insets***: The lightcurve and transit models in two channels that illustrate an unexpected spectrum feature with the most significance at $\\sim$5 $\\mu$m. A flat spectrum is disfavored ($\\Delta \\chi_\\nu^2 = 2.98$, or $3.7\\sigma$). The unexpected feature at 5.1$\\mu$m, consistent with nitric oxide (NO) gas is clearly detected, in contrast to a clear non-detection at 4.8$\\mu$m (see Figure \\ref{fig:Ices}).\n",
       " (*spectrum*)\n",
       "\n",
       "</div>\n",
       "<div id=\"div_fig3\">\n",
       "\n",
       "<img src=\"tmp_2501.08301/./4spectra.png\" alt=\"Fig7.1\" width=\"50%\"/><img src=\"tmp_2501.08301/./stacked_all4.png\" alt=\"Fig7.2\" width=\"50%\"/>\n",
       "\n",
       "**Figure 7. -** MIRI spectra during all four expected transits using the 2-degree transit model from transit 4, scaled to the optimal depth in each channel for each transit.\n",
       "            \\\\\\hspace{\\textwidth}*Top:* Individual spectra during each transit window. The red dashed line marks the overall transit depth in T4. The purple dashed line indicates the overall transit depth in each observation as measured from the white-light lightcurves. The white-light time series of transit 4 shows a clear signal, while the others do not (see Figure \\ref{fig:all4LCs}).\n",
       "            However, the most or second most significant detections in T1, T2 and T3 are in the 4.5 and 5.1 $\\mu$m channels, supporting the reality of these narrow features observed at modest significance in T4.\n",
       "            \\\\\\hspace{\\textwidth}*Bottom:* Combined spectra of all four transits. The 4.5 and 5.1 $\\mu$m features are clearly evident.\n",
       "             (*fig:4spectra*)\n",
       "\n",
       "</div><div id=\"qrcode\"><img src=https://api.qrserver.com/v1/create-qr-code/?size=100x100&data=\"https://arxiv.org/abs/2501.08301\"></div>"
      ],
      "text/plain": [
       "<IPython.core.display.Markdown object>"
      ]
     },
     "metadata": {},
     "output_type": "display_data"
    }
   ],
   "source": [
    "[display(Markdown(k[1])) for k in documents];"
   ]
  },
  {
   "cell_type": "markdown",
   "id": "873873a4",
   "metadata": {
    "papermill": {
     "duration": 0.005421,
     "end_time": "2025-01-15T04:12:22.147038",
     "exception": false,
     "start_time": "2025-01-15T04:12:22.141617",
     "status": "completed"
    },
    "tags": []
   },
   "source": [
    "# Create HTML index"
   ]
  },
  {
   "cell_type": "code",
   "execution_count": 10,
   "id": "cf665672",
   "metadata": {
    "execution": {
     "iopub.execute_input": "2025-01-15T04:12:22.158946Z",
     "iopub.status.busy": "2025-01-15T04:12:22.158701Z",
     "iopub.status.idle": "2025-01-15T04:12:22.167488Z",
     "shell.execute_reply": "2025-01-15T04:12:22.166924Z"
    },
    "papermill": {
     "duration": 0.015882,
     "end_time": "2025-01-15T04:12:22.168483",
     "exception": false,
     "start_time": "2025-01-15T04:12:22.152601",
     "status": "completed"
    },
    "tags": []
   },
   "outputs": [
    {
     "name": "stdout",
     "output_type": "stream",
     "text": [
      "310  publications files modified in the last 7 days.\n"
     ]
    }
   ],
   "source": [
    "from datetime import datetime, timedelta, timezone\n",
    "from glob import glob\n",
    "import os\n",
    "\n",
    "files = glob('_build/html/*.md')\n",
    "days = 7\n",
    "now = datetime.today()\n",
    "res = []\n",
    "for fk in files:\n",
    "    stat_result = os.stat(fk).st_ctime\n",
    "    modified = datetime.fromtimestamp(stat_result, tz=timezone.utc).replace(tzinfo=None)\n",
    "    delta = now.today() - modified\n",
    "    if delta <= timedelta(days=days):\n",
    "        res.append((delta.seconds, fk))\n",
    "res = [k[1] for k in reversed(sorted(res, key=lambda x:x[1]))]\n",
    "npub = len(res)\n",
    "print(len(res), f\" publications files modified in the last {days:d} days.\")\n",
    "# [ print('\\t', k) for k in res ];"
   ]
  },
  {
   "cell_type": "code",
   "execution_count": 11,
   "id": "015de740",
   "metadata": {
    "execution": {
     "iopub.execute_input": "2025-01-15T04:12:22.180481Z",
     "iopub.status.busy": "2025-01-15T04:12:22.180214Z",
     "iopub.status.idle": "2025-01-15T04:12:22.197914Z",
     "shell.execute_reply": "2025-01-15T04:12:22.197425Z"
    },
    "papermill": {
     "duration": 0.024873,
     "end_time": "2025-01-15T04:12:22.198881",
     "exception": false,
     "start_time": "2025-01-15T04:12:22.174008",
     "status": "completed"
    },
    "tags": []
   },
   "outputs": [
    {
     "name": "stdout",
     "output_type": "stream",
     "text": [
      "15  publications in the last 7 days.\n"
     ]
    }
   ],
   "source": [
    "import datetime\n",
    "from glob import glob\n",
    "\n",
    "def get_last_n_days(lst, days=1):\n",
    "    \"\"\" Get the documents from the last n days \"\"\"\n",
    "    sorted_lst = sorted(lst, key=lambda x: x[1], reverse=True)\n",
    "    for fname, date in sorted_lst:\n",
    "        if date >= str(datetime.date.today() - datetime.timedelta(days=days)):\n",
    "            yield fname\n",
    "\n",
    "def extract_appearance_dates(lst_file):\n",
    "    dates = []\n",
    "\n",
    "    def get_date(line):\n",
    "        return line\\\n",
    "            .split('Appeared on:')[-1]\\\n",
    "            .split('</mark>')[0].strip()\n",
    "\n",
    "    for fname in lst:\n",
    "        with open(fname, 'r') as f:\n",
    "            found_date = False\n",
    "            for line in f:\n",
    "                if not found_date:\n",
    "                    if \"Appeared on\" in line:\n",
    "                        found_date = True\n",
    "                        dates.append((fname, get_date(line)))\n",
    "                else:\n",
    "                    break\n",
    "    return dates\n",
    "\n",
    "from glob import glob\n",
    "lst = glob('_build/html/*md')\n",
    "days = 7\n",
    "dates = extract_appearance_dates(lst)\n",
    "res = list(get_last_n_days(dates, days))\n",
    "npub = len(res)\n",
    "print(len(res), f\" publications in the last {days:d} days.\")"
   ]
  },
  {
   "cell_type": "code",
   "execution_count": 12,
   "id": "52ca0208",
   "metadata": {
    "execution": {
     "iopub.execute_input": "2025-01-15T04:12:22.211294Z",
     "iopub.status.busy": "2025-01-15T04:12:22.210877Z",
     "iopub.status.idle": "2025-01-15T04:12:22.215748Z",
     "shell.execute_reply": "2025-01-15T04:12:22.215200Z"
    },
    "papermill": {
     "duration": 0.011985,
     "end_time": "2025-01-15T04:12:22.216729",
     "exception": false,
     "start_time": "2025-01-15T04:12:22.204744",
     "status": "completed"
    },
    "scrolled": false,
    "tags": []
   },
   "outputs": [],
   "source": [
    "def create_carousel(npub=4):\n",
    "    \"\"\" Generate the HTML code for a carousel with `npub` slides \"\"\"\n",
    "    carousel = [\"\"\"  <div class=\"carousel\" \"\"\",\n",
    "                \"\"\"       data-flickity='{ \"autoPlay\": 10000, \"adaptiveHeight\": true, \"resize\": true, \"wrapAround\": true, \"pauseAutoPlayOnHover\": true, \"groupCells\": 1 }' id=\"asyncTypeset\">\"\"\"\n",
    "                ]\n",
    "    \n",
    "    item_str = \"\"\"    <div class=\"carousel-cell\"> <div id=\"slide{k}\" class=\"md_view\">Content {k}</div> </div>\"\"\"\n",
    "    for k in range(1, npub + 1):\n",
    "        carousel.append(item_str.format(k=k))\n",
    "    carousel.append(\"  </div>\")\n",
    "    return '\\n'.join(carousel)\n",
    "\n",
    "def create_grid(npub=4):\n",
    "    \"\"\" Generate the HTML code for a flat grid with `npub` slides \"\"\"\n",
    "    grid = [\"\"\"  <div class=\"grid\"> \"\"\",\n",
    "                ]\n",
    "    \n",
    "    item_str = \"\"\"    <div class=\"grid-item\"> <div id=\"slide{k}\" class=\"md_view\">Content {k}</div> </div>\"\"\"\n",
    "    for k in range(1, npub + 1):\n",
    "        grid.append(item_str.format(k=k))\n",
    "    grid.append(\"  </div>\")\n",
    "    return '\\n'.join(grid)"
   ]
  },
  {
   "cell_type": "code",
   "execution_count": 13,
   "id": "a6eac5b6",
   "metadata": {
    "execution": {
     "iopub.execute_input": "2025-01-15T04:12:22.229034Z",
     "iopub.status.busy": "2025-01-15T04:12:22.228652Z",
     "iopub.status.idle": "2025-01-15T04:12:22.233754Z",
     "shell.execute_reply": "2025-01-15T04:12:22.233228Z"
    },
    "papermill": {
     "duration": 0.012173,
     "end_time": "2025-01-15T04:12:22.234695",
     "exception": false,
     "start_time": "2025-01-15T04:12:22.222522",
     "status": "completed"
    },
    "scrolled": false,
    "tags": []
   },
   "outputs": [],
   "source": [
    "carousel = create_carousel(npub)\n",
    "docs = ', '.join(['\"{0:s}\"'.format(k.split('/')[-1]) for k in res])\n",
    "slides = ', '.join([f'\"slide{k}\"' for k in range(1, npub + 1)])\n",
    "\n",
    "with open(\"daily_template.html\", \"r\") as tpl:\n",
    "    page = tpl.read()\n",
    "    page = page.replace(\"{%-- carousel:s --%}\", carousel)\\\n",
    "               .replace(\"{%-- suptitle:s --%}\",  \"7-day archives\" )\\\n",
    "               .replace(\"{%-- docs:s --%}\", docs)\\\n",
    "               .replace(\"{%-- slides:s --%}\", slides)\n",
    "    \n",
    "with open(\"_build/html/index_7days.html\", 'w') as fout:\n",
    "    fout.write(page)"
   ]
  },
  {
   "cell_type": "code",
   "execution_count": 14,
   "id": "adc1a1ec",
   "metadata": {
    "execution": {
     "iopub.execute_input": "2025-01-15T04:12:22.247439Z",
     "iopub.status.busy": "2025-01-15T04:12:22.246996Z",
     "iopub.status.idle": "2025-01-15T04:12:22.253747Z",
     "shell.execute_reply": "2025-01-15T04:12:22.253078Z"
    },
    "papermill": {
     "duration": 0.014025,
     "end_time": "2025-01-15T04:12:22.254744",
     "exception": false,
     "start_time": "2025-01-15T04:12:22.240719",
     "status": "completed"
    },
    "tags": []
   },
   "outputs": [
    {
     "name": "stdout",
     "output_type": "stream",
     "text": [
      "5  publications in the last day.\n"
     ]
    }
   ],
   "source": [
    "# redo for today\n",
    "days = 1\n",
    "res = list(get_last_n_days(dates, days))\n",
    "npub = len(res)\n",
    "print(len(res), f\" publications in the last day.\")\n",
    "\n",
    "carousel = create_carousel(npub)\n",
    "docs = ', '.join(['\"{0:s}\"'.format(k.split('/')[-1]) for k in res])\n",
    "slides = ', '.join([f'\"slide{k}\"' for k in range(1, npub + 1)])\n",
    "\n",
    "with open(\"daily_template.html\", \"r\") as tpl:\n",
    "    page = tpl.read()\n",
    "    page = page.replace(\"{%-- carousel:s --%}\", carousel)\\\n",
    "               .replace(\"{%-- suptitle:s --%}\",  \"Daily\" )\\\n",
    "               .replace(\"{%-- docs:s --%}\", docs)\\\n",
    "               .replace(\"{%-- slides:s --%}\", slides)\n",
    "    \n",
    "# print(carousel, docs, slides)\n",
    "# print(page)\n",
    "with open(\"_build/html/index_daily.html\", 'w') as fout:\n",
    "    fout.write(page)"
   ]
  },
  {
   "cell_type": "code",
   "execution_count": 15,
   "id": "00eece82",
   "metadata": {
    "execution": {
     "iopub.execute_input": "2025-01-15T04:12:22.267693Z",
     "iopub.status.busy": "2025-01-15T04:12:22.267119Z",
     "iopub.status.idle": "2025-01-15T04:12:22.273650Z",
     "shell.execute_reply": "2025-01-15T04:12:22.272988Z"
    },
    "papermill": {
     "duration": 0.01398,
     "end_time": "2025-01-15T04:12:22.274626",
     "exception": false,
     "start_time": "2025-01-15T04:12:22.260646",
     "status": "completed"
    },
    "scrolled": false,
    "tags": []
   },
   "outputs": [
    {
     "name": "stdout",
     "output_type": "stream",
     "text": [
      "6  6 publications selected.\n"
     ]
    }
   ],
   "source": [
    "# Create the flat grid of the last N papers (fixed number regardless of dates)\n",
    "from itertools import islice \n",
    "\n",
    "npub = 6\n",
    "res = [k[0] for k in (islice(reversed(sorted(dates, key=lambda x: x[1])), 6))]\n",
    "print(len(res), f\" {npub} publications selected.\")\n",
    "\n",
    "grid = create_grid(npub)\n",
    "docs = ', '.join(['\"{0:s}\"'.format(k.split('/')[-1]) for k in res])\n",
    "slides = ', '.join([f'\"slide{k}\"' for k in range(1, npub + 1)])\n",
    "\n",
    "with open(\"grid_template.html\", \"r\") as tpl:\n",
    "    page = tpl.read()\n",
    "    page = page.replace(\"{%-- grid-content:s --%}\", grid)\\\n",
    "               .replace(\"{%-- suptitle:s --%}\",  f\"Last {npub:,d} papers\" )\\\n",
    "               .replace(\"{%-- docs:s --%}\", docs)\\\n",
    "               .replace(\"{%-- slides:s --%}\", slides)\n",
    "    \n",
    "# print(grid, docs, slides)\n",
    "# print(page)\n",
    "with open(\"_build/html/index_npub_grid.html\", 'w') as fout:\n",
    "    fout.write(page)"
   ]
  }
 ],
 "metadata": {
  "kernelspec": {
   "display_name": "Python 3 (ipykernel)",
   "language": "python",
   "name": "python3"
  },
  "language_info": {
   "codemirror_mode": {
    "name": "ipython",
    "version": 3
   },
   "file_extension": ".py",
   "mimetype": "text/x-python",
   "name": "python",
   "nbconvert_exporter": "python",
   "pygments_lexer": "ipython3",
   "version": "3.9.21"
  },
  "papermill": {
   "default_parameters": {},
   "duration": 97.503239,
   "end_time": "2025-01-15T04:12:22.496198",
   "environment_variables": {},
   "exception": null,
   "input_path": "MPIA daily digest.ipynb",
   "output_path": "log.ipynb",
   "parameters": {},
   "start_time": "2025-01-15T04:10:44.992959",
   "version": "2.6.0"
  },
  "vscode": {
   "interpreter": {
    "hash": "aee8b7b246df8f9039afb4144a1f6fd8d2ca17a180786b69acc140d282b71a49"
   }
  },
  "widgets": {
   "application/vnd.jupyter.widget-state+json": {
    "state": {
     "252e1942b22e4aa99733313218f19b8b": {
      "model_module": "@jupyter-widgets/controls",
      "model_module_version": "2.0.0",
      "model_name": "ProgressStyleModel",
      "state": {
       "_model_module": "@jupyter-widgets/controls",
       "_model_module_version": "2.0.0",
       "_model_name": "ProgressStyleModel",
       "_view_count": null,
       "_view_module": "@jupyter-widgets/base",
       "_view_module_version": "2.0.0",
       "_view_name": "StyleView",
       "bar_color": null,
       "description_width": ""
      }
     },
     "3bf82306d9eb49c3a20e76af135f5d58": {
      "model_module": "@jupyter-widgets/base",
      "model_module_version": "2.0.0",
      "model_name": "LayoutModel",
      "state": {
       "_model_module": "@jupyter-widgets/base",
       "_model_module_version": "2.0.0",
       "_model_name": "LayoutModel",
       "_view_count": null,
       "_view_module": "@jupyter-widgets/base",
       "_view_module_version": "2.0.0",
       "_view_name": "LayoutView",
       "align_content": null,
       "align_items": null,
       "align_self": null,
       "border_bottom": null,
       "border_left": null,
       "border_right": null,
       "border_top": null,
       "bottom": null,
       "display": null,
       "flex": null,
       "flex_flow": null,
       "grid_area": null,
       "grid_auto_columns": null,
       "grid_auto_flow": null,
       "grid_auto_rows": null,
       "grid_column": null,
       "grid_gap": null,
       "grid_row": null,
       "grid_template_areas": null,
       "grid_template_columns": null,
       "grid_template_rows": null,
       "height": null,
       "justify_content": null,
       "justify_items": null,
       "left": null,
       "margin": null,
       "max_height": null,
       "max_width": null,
       "min_height": null,
       "min_width": null,
       "object_fit": null,
       "object_position": null,
       "order": null,
       "overflow": null,
       "padding": null,
       "right": null,
       "top": null,
       "visibility": null,
       "width": null
      }
     },
     "41d7af39e0484bff958f43b517aa18fb": {
      "model_module": "@jupyter-widgets/controls",
      "model_module_version": "2.0.0",
      "model_name": "HTMLModel",
      "state": {
       "_dom_classes": [],
       "_model_module": "@jupyter-widgets/controls",
       "_model_module_version": "2.0.0",
       "_model_name": "HTMLModel",
       "_view_count": null,
       "_view_module": "@jupyter-widgets/controls",
       "_view_module_version": "2.0.0",
       "_view_name": "HTMLView",
       "description": "",
       "description_allow_html": false,
       "layout": "IPY_MODEL_4ceb3eca0b184f2c94a3eabebee2cfc6",
       "placeholder": "​",
       "style": "IPY_MODEL_d4a153b5eaf241769c982277319c9e62",
       "tabbable": null,
       "tooltip": null,
       "value": "100%"
      }
     },
     "49a7c694bb0e4f919a8f22a92cc4df41": {
      "model_module": "@jupyter-widgets/controls",
      "model_module_version": "2.0.0",
      "model_name": "HBoxModel",
      "state": {
       "_dom_classes": [],
       "_model_module": "@jupyter-widgets/controls",
       "_model_module_version": "2.0.0",
       "_model_name": "HBoxModel",
       "_view_count": null,
       "_view_module": "@jupyter-widgets/controls",
       "_view_module_version": "2.0.0",
       "_view_name": "HBoxView",
       "box_style": "",
       "children": [
        "IPY_MODEL_41d7af39e0484bff958f43b517aa18fb",
        "IPY_MODEL_5e69740b07fe443e97a70fb8699124ef",
        "IPY_MODEL_e71f8158e8a641a78b363a9428c5eb1f"
       ],
       "layout": "IPY_MODEL_aa31458259e44b5ba0a8bcffc278aae6",
       "tabbable": null,
       "tooltip": null
      }
     },
     "4ceb3eca0b184f2c94a3eabebee2cfc6": {
      "model_module": "@jupyter-widgets/base",
      "model_module_version": "2.0.0",
      "model_name": "LayoutModel",
      "state": {
       "_model_module": "@jupyter-widgets/base",
       "_model_module_version": "2.0.0",
       "_model_name": "LayoutModel",
       "_view_count": null,
       "_view_module": "@jupyter-widgets/base",
       "_view_module_version": "2.0.0",
       "_view_name": "LayoutView",
       "align_content": null,
       "align_items": null,
       "align_self": null,
       "border_bottom": null,
       "border_left": null,
       "border_right": null,
       "border_top": null,
       "bottom": null,
       "display": null,
       "flex": null,
       "flex_flow": null,
       "grid_area": null,
       "grid_auto_columns": null,
       "grid_auto_flow": null,
       "grid_auto_rows": null,
       "grid_column": null,
       "grid_gap": null,
       "grid_row": null,
       "grid_template_areas": null,
       "grid_template_columns": null,
       "grid_template_rows": null,
       "height": null,
       "justify_content": null,
       "justify_items": null,
       "left": null,
       "margin": null,
       "max_height": null,
       "max_width": null,
       "min_height": null,
       "min_width": null,
       "object_fit": null,
       "object_position": null,
       "order": null,
       "overflow": null,
       "padding": null,
       "right": null,
       "top": null,
       "visibility": null,
       "width": null
      }
     },
     "5e69740b07fe443e97a70fb8699124ef": {
      "model_module": "@jupyter-widgets/controls",
      "model_module_version": "2.0.0",
      "model_name": "FloatProgressModel",
      "state": {
       "_dom_classes": [],
       "_model_module": "@jupyter-widgets/controls",
       "_model_module_version": "2.0.0",
       "_model_name": "FloatProgressModel",
       "_view_count": null,
       "_view_module": "@jupyter-widgets/controls",
       "_view_module_version": "2.0.0",
       "_view_name": "ProgressView",
       "bar_style": "success",
       "description": "",
       "description_allow_html": false,
       "layout": "IPY_MODEL_d68a80760e6048e283e8574ab8696c29",
       "max": 5.0,
       "min": 0.0,
       "orientation": "horizontal",
       "style": "IPY_MODEL_252e1942b22e4aa99733313218f19b8b",
       "tabbable": null,
       "tooltip": null,
       "value": 5.0
      }
     },
     "aa31458259e44b5ba0a8bcffc278aae6": {
      "model_module": "@jupyter-widgets/base",
      "model_module_version": "2.0.0",
      "model_name": "LayoutModel",
      "state": {
       "_model_module": "@jupyter-widgets/base",
       "_model_module_version": "2.0.0",
       "_model_name": "LayoutModel",
       "_view_count": null,
       "_view_module": "@jupyter-widgets/base",
       "_view_module_version": "2.0.0",
       "_view_name": "LayoutView",
       "align_content": null,
       "align_items": null,
       "align_self": null,
       "border_bottom": null,
       "border_left": null,
       "border_right": null,
       "border_top": null,
       "bottom": null,
       "display": null,
       "flex": null,
       "flex_flow": null,
       "grid_area": null,
       "grid_auto_columns": null,
       "grid_auto_flow": null,
       "grid_auto_rows": null,
       "grid_column": null,
       "grid_gap": null,
       "grid_row": null,
       "grid_template_areas": null,
       "grid_template_columns": null,
       "grid_template_rows": null,
       "height": null,
       "justify_content": null,
       "justify_items": null,
       "left": null,
       "margin": null,
       "max_height": null,
       "max_width": null,
       "min_height": null,
       "min_width": null,
       "object_fit": null,
       "object_position": null,
       "order": null,
       "overflow": null,
       "padding": null,
       "right": null,
       "top": null,
       "visibility": null,
       "width": null
      }
     },
     "cd523580ca1341adbd48acebf88fa723": {
      "model_module": "@jupyter-widgets/controls",
      "model_module_version": "2.0.0",
      "model_name": "HTMLStyleModel",
      "state": {
       "_model_module": "@jupyter-widgets/controls",
       "_model_module_version": "2.0.0",
       "_model_name": "HTMLStyleModel",
       "_view_count": null,
       "_view_module": "@jupyter-widgets/base",
       "_view_module_version": "2.0.0",
       "_view_name": "StyleView",
       "background": null,
       "description_width": "",
       "font_size": null,
       "text_color": null
      }
     },
     "d4a153b5eaf241769c982277319c9e62": {
      "model_module": "@jupyter-widgets/controls",
      "model_module_version": "2.0.0",
      "model_name": "HTMLStyleModel",
      "state": {
       "_model_module": "@jupyter-widgets/controls",
       "_model_module_version": "2.0.0",
       "_model_name": "HTMLStyleModel",
       "_view_count": null,
       "_view_module": "@jupyter-widgets/base",
       "_view_module_version": "2.0.0",
       "_view_name": "StyleView",
       "background": null,
       "description_width": "",
       "font_size": null,
       "text_color": null
      }
     },
     "d68a80760e6048e283e8574ab8696c29": {
      "model_module": "@jupyter-widgets/base",
      "model_module_version": "2.0.0",
      "model_name": "LayoutModel",
      "state": {
       "_model_module": "@jupyter-widgets/base",
       "_model_module_version": "2.0.0",
       "_model_name": "LayoutModel",
       "_view_count": null,
       "_view_module": "@jupyter-widgets/base",
       "_view_module_version": "2.0.0",
       "_view_name": "LayoutView",
       "align_content": null,
       "align_items": null,
       "align_self": null,
       "border_bottom": null,
       "border_left": null,
       "border_right": null,
       "border_top": null,
       "bottom": null,
       "display": null,
       "flex": null,
       "flex_flow": null,
       "grid_area": null,
       "grid_auto_columns": null,
       "grid_auto_flow": null,
       "grid_auto_rows": null,
       "grid_column": null,
       "grid_gap": null,
       "grid_row": null,
       "grid_template_areas": null,
       "grid_template_columns": null,
       "grid_template_rows": null,
       "height": null,
       "justify_content": null,
       "justify_items": null,
       "left": null,
       "margin": null,
       "max_height": null,
       "max_width": null,
       "min_height": null,
       "min_width": null,
       "object_fit": null,
       "object_position": null,
       "order": null,
       "overflow": null,
       "padding": null,
       "right": null,
       "top": null,
       "visibility": null,
       "width": null
      }
     },
     "e71f8158e8a641a78b363a9428c5eb1f": {
      "model_module": "@jupyter-widgets/controls",
      "model_module_version": "2.0.0",
      "model_name": "HTMLModel",
      "state": {
       "_dom_classes": [],
       "_model_module": "@jupyter-widgets/controls",
       "_model_module_version": "2.0.0",
       "_model_name": "HTMLModel",
       "_view_count": null,
       "_view_module": "@jupyter-widgets/controls",
       "_view_module_version": "2.0.0",
       "_view_name": "HTMLView",
       "description": "",
       "description_allow_html": false,
       "layout": "IPY_MODEL_3bf82306d9eb49c3a20e76af135f5d58",
       "placeholder": "​",
       "style": "IPY_MODEL_cd523580ca1341adbd48acebf88fa723",
       "tabbable": null,
       "tooltip": null,
       "value": " 5/5 [01:14&lt;00:00, 13.40s/it]"
      }
     }
    },
    "version_major": 2,
    "version_minor": 0
   }
  }
 },
 "nbformat": 4,
 "nbformat_minor": 5
}