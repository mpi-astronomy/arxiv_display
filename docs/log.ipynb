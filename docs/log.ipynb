{
 "cells": [
  {
   "cell_type": "markdown",
   "id": "92bcb855",
   "metadata": {
    "papermill": {
     "duration": 0.0039,
     "end_time": "2025-09-16T04:13:38.203402",
     "exception": false,
     "start_time": "2025-09-16T04:13:38.199502",
     "status": "completed"
    },
    "tags": []
   },
   "source": [
    "# MPIA Arxiv on Deck 2\n",
    "\n",
    "Contains the steps to produce the paper extractions."
   ]
  },
  {
   "cell_type": "code",
   "execution_count": 1,
   "id": "3a0d6e11",
   "metadata": {
    "execution": {
     "iopub.execute_input": "2025-09-16T04:13:38.210808Z",
     "iopub.status.busy": "2025-09-16T04:13:38.210474Z",
     "iopub.status.idle": "2025-09-16T04:13:38.418740Z",
     "shell.execute_reply": "2025-09-16T04:13:38.417983Z"
    },
    "papermill": {
     "duration": 0.213573,
     "end_time": "2025-09-16T04:13:38.420207",
     "exception": false,
     "start_time": "2025-09-16T04:13:38.206634",
     "status": "completed"
    },
    "tags": []
   },
   "outputs": [],
   "source": [
    "# Imports\n",
    "import os\n",
    "from IPython.display import Markdown, display\n",
    "from tqdm.notebook import tqdm\n",
    "import warnings\n",
    "from PIL import Image \n",
    "import re\n",
    "\n",
    "# requires arxiv_on_deck_2\n",
    "\n",
    "from arxiv_on_deck_2.arxiv2 import (get_new_papers, \n",
    "                                    get_paper_from_identifier,\n",
    "                                    retrieve_document_source, \n",
    "                                    get_markdown_badge)\n",
    "from arxiv_on_deck_2 import (latex,\n",
    "                             latex_bib,\n",
    "                             mpia,\n",
    "                             highlight_authors_in_list)\n",
    "\n",
    "# Sometimes images are really big\n",
    "Image.MAX_IMAGE_PIXELS = 1000000000 "
   ]
  },
  {
   "cell_type": "code",
   "execution_count": 2,
   "id": "22aa9d44",
   "metadata": {
    "execution": {
     "iopub.execute_input": "2025-09-16T04:13:38.427411Z",
     "iopub.status.busy": "2025-09-16T04:13:38.427177Z",
     "iopub.status.idle": "2025-09-16T04:13:38.435180Z",
     "shell.execute_reply": "2025-09-16T04:13:38.434626Z"
    },
    "papermill": {
     "duration": 0.012626,
     "end_time": "2025-09-16T04:13:38.436199",
     "exception": false,
     "start_time": "2025-09-16T04:13:38.423573",
     "status": "completed"
    },
    "tags": []
   },
   "outputs": [],
   "source": [
    "# Some useful definitions.\n",
    "\n",
    "class AffiliationWarning(UserWarning):\n",
    "    pass\n",
    "\n",
    "class AffiliationError(RuntimeError):\n",
    "    pass\n",
    "\n",
    "def validation(source: str):\n",
    "    \"\"\"Raises error paper during parsing of source file\n",
    "    \n",
    "    Allows checks before parsing TeX code.\n",
    "    \n",
    "    Raises AffiliationWarning\n",
    "    \"\"\"\n",
    "    check = mpia.affiliation_verifications(source, verbose=True)\n",
    "    if check is not True:\n",
    "        raise AffiliationError(\"mpia.affiliation_verifications: \" + check)\n",
    "\n",
    "        \n",
    "warnings.simplefilter('always', AffiliationWarning)\n",
    "\n",
    "\n",
    "def get_markdown_qrcode(paper_id: str):\n",
    "    \"\"\" Generate a qrcode to the arxiv page using qrserver.com\n",
    "    \n",
    "    :param paper: Arxiv paper\n",
    "    :returns: markdown text\n",
    "    \"\"\"\n",
    "    url = r\"https://api.qrserver.com/v1/create-qr-code/?size=100x100&data=\"\n",
    "    txt = f\"\"\"<img src={url}\"https://arxiv.org/abs/{paper_id}\">\"\"\"\n",
    "    txt = '<div id=\"qrcode\">' + txt + '</div>'\n",
    "    return txt\n",
    "\n",
    "\n",
    "def clean_non_western_encoded_characters_commands(text: str) -> str:\n",
    "    \"\"\" Remove non-western encoded characters from a string\n",
    "    List may need to grow.\n",
    "    \n",
    "    :param text: the text to clean\n",
    "    :return: the cleaned text\n",
    "    \"\"\"\n",
    "    text = re.sub(r\"(\\\\begin{CJK}{UTF8}{gbsn})(.*?)(\\\\end{CJK})\", r\"\\2\", text)\n",
    "    return text\n",
    "\n",
    "\n",
    "def get_initials(name: str) -> str:\n",
    "    \"\"\" Get the short name, e.g., A.-B. FamName\n",
    "    :param name: full name\n",
    "    :returns: initials\n",
    "    \"\"\"\n",
    "    initials = []\n",
    "    # account for non western names often in ()\n",
    "    if '(' in name:\n",
    "        name = clean_non_western_encoded_characters_commands(name)\n",
    "        suffix = re.findall(r\"\\((.*?)\\)\", name)[0]\n",
    "        name = name.replace(f\"({suffix})\", '')\n",
    "    else:\n",
    "        suffix = ''\n",
    "    split = name.split()\n",
    "    for token in split[:-1]:\n",
    "        if '-' in token:\n",
    "            current = '-'.join([k[0] + '.' for k in token.split('-')])\n",
    "        else:\n",
    "            current = token[0] + '.'\n",
    "        initials.append(current)\n",
    "    initials.append(split[-1].strip())\n",
    "    if suffix:\n",
    "        initials.append(f\"({suffix})\")\n",
    "    return ' '.join(initials)"
   ]
  },
  {
   "cell_type": "markdown",
   "id": "14bd6310",
   "metadata": {
    "papermill": {
     "duration": 0.002891,
     "end_time": "2025-09-16T04:13:38.442100",
     "exception": false,
     "start_time": "2025-09-16T04:13:38.439209",
     "status": "completed"
    },
    "tags": []
   },
   "source": [
    "## get list of arxiv paper candidates\n",
    "\n",
    "We use the MPIA mitarbeiter list webpage from mpia.de to get author names\n",
    "We then get all new papers from Arxiv and match authors"
   ]
  },
  {
   "cell_type": "code",
   "execution_count": 3,
   "id": "7ea813a8",
   "metadata": {
    "execution": {
     "iopub.execute_input": "2025-09-16T04:13:38.448819Z",
     "iopub.status.busy": "2025-09-16T04:13:38.448586Z",
     "iopub.status.idle": "2025-09-16T04:14:03.307244Z",
     "shell.execute_reply": "2025-09-16T04:14:03.306603Z"
    },
    "papermill": {
     "duration": 24.863475,
     "end_time": "2025-09-16T04:14:03.308546",
     "exception": false,
     "start_time": "2025-09-16T04:13:38.445071",
     "status": "completed"
    },
    "tags": []
   },
   "outputs": [],
   "source": [
    "# deal with the author list and edge cases of people that cannot be consistent on their name  \n",
    "\n",
    "def filter_non_scientists(name: str) -> bool:\n",
    "    \"\"\" Loose filter on expected authorships\n",
    "\n",
    "    removing IT, administration, technical staff\n",
    "    :param name: name\n",
    "    :returns: False if name is not a scientist\n",
    "    \"\"\"\n",
    "    remove_list = ['Licht', 'Binroth', 'Witzel', 'Jordan',\n",
    "                   'Zähringer', 'Scheerer', 'Hoffmann', 'Düe',\n",
    "                   'Hellmich', 'Enkler-Scharpegge', 'Witte-Nguy',\n",
    "                   'Dehen', 'Beckmann', 'Jager', 'Jäger'\n",
    "                  ]\n",
    "\n",
    "    for k in remove_list:\n",
    "        if k in name:\n",
    "            return False\n",
    "    return True\n",
    "\n",
    "def add_author_to_list(author_list: list) -> list:\n",
    "    \"\"\" Add author to list if not already in list\n",
    "    \n",
    "    :param author: author name\n",
    "    :param author_list: list of authors\n",
    "    :returns: updated list of authors\n",
    "    \"\"\"\n",
    "    add_list = ['T. Henning']\n",
    "\n",
    "    for author in add_list:\n",
    "        if author not in author_list:\n",
    "            author_list.append(author)\n",
    "    return author_list\n",
    "\n",
    "# get list from MPIA website\n",
    "# filter for non-scientists (mpia.get_mpia_mitarbeiter_list() does some filtering)\n",
    "mpia_authors = [k[1] for k in mpia.get_mpia_mitarbeiter_list() if filter_non_scientists(k[1])]\n",
    "# add some missing author because of inconsistencies in their MPIA name and author name on papers\n",
    "mpia_authors = add_author_to_list(mpia_authors)"
   ]
  },
  {
   "cell_type": "code",
   "execution_count": 4,
   "id": "2645e73a",
   "metadata": {
    "execution": {
     "iopub.execute_input": "2025-09-16T04:14:03.315801Z",
     "iopub.status.busy": "2025-09-16T04:14:03.315601Z",
     "iopub.status.idle": "2025-09-16T04:14:04.198567Z",
     "shell.execute_reply": "2025-09-16T04:14:04.197844Z"
    },
    "papermill": {
     "duration": 0.887728,
     "end_time": "2025-09-16T04:14:04.199633",
     "exception": false,
     "start_time": "2025-09-16T04:14:03.311905",
     "status": "completed"
    },
    "tags": []
   },
   "outputs": [
    {
     "name": "stdout",
     "output_type": "stream",
     "text": [
      "K. El-Badry  ->  K. El-Badry  |  ['K. El-Badry']\n",
      "H.-W. Rix  ->  H.-W. Rix  |  ['H.-W. Rix']\n",
      "K. Kreckel  ->  K. Kreckel  |  ['K. Kreckel']\n",
      "X. Zhang  ->  X. Zhang  |  ['X. Zhang']\n",
      "J. Li  ->  J. Li  |  ['J. Li']\n",
      "X. Zhang  ->  X. Zhang  |  ['X. Zhang']\n",
      "F. Xu  ->  F. Xu  |  ['F. Xu']\n"
     ]
    },
    {
     "name": "stdout",
     "output_type": "stream",
     "text": [
      "E. Schinnerer  ->  E. Schinnerer  |  ['E. Schinnerer']\n",
      "J. Li  ->  J. Li  |  ['J. Li']\n",
      "Arxiv has 104 new papers today\n",
      "          8 with possible author matches\n"
     ]
    }
   ],
   "source": [
    "new_papers = get_new_papers()\n",
    "# add manual references\n",
    "add_paper_refs = []\n",
    "new_papers.extend([get_paper_from_identifier(k) for k in add_paper_refs])\n",
    "\n",
    "def robust_call(fn, value, *args, **kwargs):\n",
    "    try:\n",
    "        return fn(value, *args, **kwargs)\n",
    "    except Exception:\n",
    "        return value\n",
    "\n",
    "candidates = []\n",
    "for paperk in new_papers:\n",
    "    # Check author list with their initials\n",
    "    normed_author_list = [robust_call(mpia.get_initials, k) for k in paperk['authors']]\n",
    "    hl_authors = highlight_authors_in_list(normed_author_list, mpia_authors, verbose=True)\n",
    "    matches = [(hl, orig) for hl, orig in zip(hl_authors, paperk['authors']) if 'mark' in hl]\n",
    "    paperk['authors'] = hl_authors\n",
    "    if matches:\n",
    "        # only select paper if an author matched our list\n",
    "        candidates.append(paperk)\n",
    "print(\"\"\"Arxiv has {0:,d} new papers today\"\"\".format(len(new_papers)))        \n",
    "print(\"\"\"          {0:,d} with possible author matches\"\"\".format(len(candidates)))"
   ]
  },
  {
   "cell_type": "markdown",
   "id": "3543b34a",
   "metadata": {
    "papermill": {
     "duration": 0.00326,
     "end_time": "2025-09-16T04:14:04.206483",
     "exception": false,
     "start_time": "2025-09-16T04:14:04.203223",
     "status": "completed"
    },
    "tags": []
   },
   "source": [
    "# Parse sources and generate relevant outputs\n",
    "\n",
    "From the candidates, we do the following steps:\n",
    "* get their tarball from ArXiv (and extract data)\n",
    "* find the main .tex file: find one with \\documentclass{...} (sometimes it's non trivial)\n",
    "* Check affiliations with :func:`validation`, which uses :func:`mpia.affiliation_verifications`\n",
    "* If passing the affiliations: we parse the .tex source\n",
    "   * inject sub-documents into the main (flatten the main document)\n",
    "   * parse structure, extract information (title, abstract, authors, figures...)\n",
    "   * handles `\\graphicspath` if provided\n",
    "* Generate the .md document."
   ]
  },
  {
   "cell_type": "code",
   "execution_count": 5,
   "id": "9576b79e",
   "metadata": {
    "execution": {
     "iopub.execute_input": "2025-09-16T04:14:04.213512Z",
     "iopub.status.busy": "2025-09-16T04:14:04.213275Z",
     "iopub.status.idle": "2025-09-16T04:14:23.727813Z",
     "shell.execute_reply": "2025-09-16T04:14:23.727041Z"
    },
    "papermill": {
     "duration": 19.519267,
     "end_time": "2025-09-16T04:14:23.728850",
     "exception": false,
     "start_time": "2025-09-16T04:14:04.209583",
     "status": "completed"
    },
    "scrolled": false,
    "tags": []
   },
   "outputs": [
    {
     "data": {
      "application/vnd.jupyter.widget-view+json": {
       "model_id": "821ad22d997345c3bdbd24ef359b1872",
       "version_major": 2,
       "version_minor": 0
      },
      "text/plain": [
       "  0%|          | 0/8 [00:00<?, ?it/s]"
      ]
     },
     "metadata": {},
     "output_type": "display_data"
    },
    {
     "name": "stdout",
     "output_type": "stream",
     "text": [
      "Retrieving document from  https://arxiv.org/e-print/2509.10601\n"
     ]
    },
    {
     "name": "stdout",
     "output_type": "stream",
     "text": [
      "extracting tarball to tmp_2509.10601..."
     ]
    },
    {
     "name": "stdout",
     "output_type": "stream",
     "text": [
      " done.\n"
     ]
    },
    {
     "name": "stderr",
     "output_type": "stream",
     "text": [
      "/tmp/ipykernel_3389/2822249172.py:52: LatexWarning: 2509.10601 did not run properly\n",
      "expected string or bytes-like object\n",
      "  warnings.warn(latex.LatexWarning(f\"{paper_id:s} did not run properly\\n\" +\n"
     ]
    },
    {
     "name": "stdout",
     "output_type": "stream",
     "text": [
      "Retrieving document from  https://arxiv.org/e-print/2509.10665\n"
     ]
    },
    {
     "name": "stdout",
     "output_type": "stream",
     "text": [
      "extracting tarball to tmp_2509.10665..."
     ]
    },
    {
     "name": "stdout",
     "output_type": "stream",
     "text": [
      " done.\n",
      "Retrieving document from  https://arxiv.org/e-print/2509.10836\n",
      "extracting tarball to tmp_2509.10836..."
     ]
    },
    {
     "name": "stdout",
     "output_type": "stream",
     "text": [
      " done.\n",
      "Retrieving document from  https://arxiv.org/e-print/2509.11029\n"
     ]
    },
    {
     "name": "stdout",
     "output_type": "stream",
     "text": [
      "extracting tarball to tmp_2509.11029... done.\n",
      "Retrieving document from  https://arxiv.org/e-print/2509.11305\n"
     ]
    },
    {
     "name": "stdout",
     "output_type": "stream",
     "text": [
      "extracting tarball to tmp_2509.11305..."
     ]
    },
    {
     "name": "stdout",
     "output_type": "stream",
     "text": [
      " done.\n",
      "Retrieving document from  https://arxiv.org/e-print/2509.11475\n"
     ]
    },
    {
     "name": "stdout",
     "output_type": "stream",
     "text": [
      "extracting tarball to tmp_2509.11475..."
     ]
    },
    {
     "name": "stdout",
     "output_type": "stream",
     "text": [
      " done.\n",
      "Retrieving document from  https://arxiv.org/e-print/2509.12058\n"
     ]
    },
    {
     "name": "stderr",
     "output_type": "stream",
     "text": [
      "/opt/hostedtoolcache/Python/3.9.23/x64/lib/python3.9/site-packages/IPython/core/interactiveshell.py:3550: LatexWarning: Multiple tex files.\n",
      "\n",
      "  exec(code_obj, self.user_global_ns, self.user_ns)\n",
      "/opt/hostedtoolcache/Python/3.9.23/x64/lib/python3.9/site-packages/IPython/core/interactiveshell.py:3550: LatexWarning: Found documentclass in tmp_2509.11475/G34_ring.tex\n",
      "\n",
      "  exec(code_obj, self.user_global_ns, self.user_ns)\n",
      "/opt/hostedtoolcache/Python/3.9.23/x64/lib/python3.9/site-packages/arxiv_on_deck_2/latex.py:414: LatexWarning: Latex injecting: 'authors' from 'tmp_2509.11475/authors.tex'\n",
      "  warnings.warn(LatexWarning(f\"Latex injecting: '{ext}' from '{subsource}'\"))\n"
     ]
    },
    {
     "name": "stdout",
     "output_type": "stream",
     "text": [
      "extracting tarball to tmp_2509.12058..."
     ]
    },
    {
     "name": "stdout",
     "output_type": "stream",
     "text": [
      " done.\n"
     ]
    },
    {
     "name": "stderr",
     "output_type": "stream",
     "text": [
      "/opt/hostedtoolcache/Python/3.9.23/x64/lib/python3.9/site-packages/IPython/core/interactiveshell.py:3550: LatexWarning: Multiple tex files.\n",
      "\n",
      "  exec(code_obj, self.user_global_ns, self.user_ns)\n",
      "/opt/hostedtoolcache/Python/3.9.23/x64/lib/python3.9/site-packages/IPython/core/interactiveshell.py:3550: LatexWarning: Found documentclass in tmp_2509.12058/main.tex\n",
      "\n",
      "  exec(code_obj, self.user_global_ns, self.user_ns)\n",
      "/opt/hostedtoolcache/Python/3.9.23/x64/lib/python3.9/site-packages/arxiv_on_deck_2/latex.py:414: LatexWarning: Latex injecting: 'authors' from 'tmp_2509.12058/authors.tex'\n",
      "  warnings.warn(LatexWarning(f\"Latex injecting: '{ext}' from '{subsource}'\"))\n",
      "/opt/hostedtoolcache/Python/3.9.23/x64/lib/python3.9/site-packages/arxiv_on_deck_2/latex.py:414: LatexWarning: Latex injecting: 'affils' from 'tmp_2509.12058/affils.tex'\n",
      "  warnings.warn(LatexWarning(f\"Latex injecting: '{ext}' from '{subsource}'\"))\n"
     ]
    },
    {
     "name": "stderr",
     "output_type": "stream",
     "text": [
      "/opt/hostedtoolcache/Python/3.9.23/x64/lib/python3.9/site-packages/arxiv_on_deck_2/latex.py:132: LatexWarning: attempting recovering figure RGB_Outflows_v5.pdf\n",
      "  warnings.warn(LatexWarning(f'attempting recovering figure {image}'))\n",
      "/opt/hostedtoolcache/Python/3.9.23/x64/lib/python3.9/site-packages/arxiv_on_deck_2/latex.py:707: LatexWarning: Could not find graphic \\includegraphics[width=\\linewidth]{RGB_Outflows_v5.pdf}\n",
      "  warnings.warn(LatexWarning(f\"Could not find graphic {k}\"))\n",
      "/opt/hostedtoolcache/Python/3.9.23/x64/lib/python3.9/site-packages/arxiv_on_deck_2/latex.py:132: LatexWarning: attempting recovering figure ngc4424_MW_figures_v2.pdf\n",
      "  warnings.warn(LatexWarning(f'attempting recovering figure {image}'))\n",
      "/opt/hostedtoolcache/Python/3.9.23/x64/lib/python3.9/site-packages/arxiv_on_deck_2/latex.py:707: LatexWarning: Could not find graphic \\includegraphics[width=\\linewidth]{ngc4424_MW_figures_v2.pdf}\n",
      "  warnings.warn(LatexWarning(f\"Could not find graphic {k}\"))\n",
      "/opt/hostedtoolcache/Python/3.9.23/x64/lib/python3.9/site-packages/arxiv_on_deck_2/latex.py:132: LatexWarning: attempting recovering figure ngc4694_MW_figures_v2.pdf\n",
      "  warnings.warn(LatexWarning(f'attempting recovering figure {image}'))\n",
      "/opt/hostedtoolcache/Python/3.9.23/x64/lib/python3.9/site-packages/arxiv_on_deck_2/latex.py:707: LatexWarning: Could not find graphic \\includegraphics[width=\\linewidth]{ngc4694_MW_figures_v2.pdf}\n",
      "  warnings.warn(LatexWarning(f\"Could not find graphic {k}\"))\n",
      "/opt/hostedtoolcache/Python/3.9.23/x64/lib/python3.9/site-packages/arxiv_on_deck_2/latex.py:132: LatexWarning: attempting recovering figure Ratio_Profiles_allCy2_igt55_bR25.pdf\n",
      "  warnings.warn(LatexWarning(f'attempting recovering figure {image}'))\n",
      "/opt/hostedtoolcache/Python/3.9.23/x64/lib/python3.9/site-packages/arxiv_on_deck_2/latex.py:707: LatexWarning: Could not find graphic \\includegraphics[width=\\linewidth]{Ratio_Profiles_allCy2_igt55_bR25.pdf}\n",
      "  warnings.warn(LatexWarning(f\"Could not find graphic {k}\"))\n"
     ]
    },
    {
     "name": "stdout",
     "output_type": "stream",
     "text": [
      "Found 52 bibliographic references in tmp_2509.12058/main.bbl.\n",
      "Issues with the citations\n",
      "syntax error in line 256: '=' expected\n",
      "Retrieving document from  https://arxiv.org/e-print/2509.12067\n"
     ]
    },
    {
     "name": "stdout",
     "output_type": "stream",
     "text": [
      "extracting tarball to tmp_2509.12067... done.\n"
     ]
    }
   ],
   "source": [
    "documents = []\n",
    "failed = []\n",
    "for paper in tqdm(candidates):\n",
    "    # debug crap\n",
    "    paper['identifier'] = paper['identifier'].lower().replace('arxiv:', '').replace(r'\\n', '').strip()\n",
    "    paper_id = paper['identifier']\n",
    "    \n",
    "    folder = f'tmp_{paper_id}'\n",
    "\n",
    "    try:\n",
    "        if not os.path.isdir(folder):\n",
    "            folder = retrieve_document_source(f\"{paper_id}\", f'tmp_{paper_id}')\n",
    "        \n",
    "        try:\n",
    "            doc = latex.LatexDocument(folder, validation=validation)    \n",
    "        except AffiliationError as affilerror:\n",
    "            msg = f\"ArXiv:{paper_id:s} is not an MPIA paper... \" + str(affilerror)\n",
    "            failed.append((paper, \"affiliation error: \" + str(affilerror) ))\n",
    "            continue\n",
    "        \n",
    "        # Hack because sometimes author parsing does not work well\n",
    "        if (len(doc.authors) != len(paper['authors'])):\n",
    "            doc._authors = paper['authors']\n",
    "        else:\n",
    "            # highlight authors (FIXME: doc.highlight_authors)\n",
    "            # done on arxiv paper already\n",
    "            doc._authors = highlight_authors_in_list(\n",
    "                [get_initials(k) for k in doc.authors], \n",
    "                mpia_authors, verbose=True)\n",
    "        if (doc.abstract) in (None, ''):\n",
    "            doc._abstract = paper['abstract']\n",
    "            \n",
    "        doc.comment = (get_markdown_badge(paper_id) + \n",
    "                       \"<mark>Appeared on: \" + paper['date'] + \"</mark> - \")\n",
    "        if paper['comments']:\n",
    "            doc.comment += \" _\" + paper['comments'] + \"_\"\n",
    "        \n",
    "        full_md = doc.generate_markdown_text()\n",
    "        \n",
    "        full_md += get_markdown_qrcode(paper_id)\n",
    "        \n",
    "        # replace citations\n",
    "        try:\n",
    "            bibdata = latex_bib.LatexBib.from_doc(doc)\n",
    "            full_md = latex_bib.replace_citations(full_md, bibdata)\n",
    "        except Exception as e:\n",
    "            print(\"Issues with the citations\")\n",
    "            print(e)\n",
    "        \n",
    "        documents.append((paper_id, full_md))\n",
    "    except Exception as e:\n",
    "        warnings.warn(latex.LatexWarning(f\"{paper_id:s} did not run properly\\n\" +\n",
    "                                         str(e)\n",
    "                                        ))\n",
    "        failed.append((paper, \"latex error \" + str(e)))"
   ]
  },
  {
   "cell_type": "markdown",
   "id": "2505a25c",
   "metadata": {
    "papermill": {
     "duration": 0.004063,
     "end_time": "2025-09-16T04:14:23.737525",
     "exception": false,
     "start_time": "2025-09-16T04:14:23.733462",
     "status": "completed"
    },
    "tags": []
   },
   "source": [
    "### Export the logs\n",
    "\n",
    "Throughout, we also keep track of the logs per paper. see `logs-{today date}.md` "
   ]
  },
  {
   "cell_type": "code",
   "execution_count": 6,
   "id": "d733828a",
   "metadata": {
    "execution": {
     "iopub.execute_input": "2025-09-16T04:14:23.746661Z",
     "iopub.status.busy": "2025-09-16T04:14:23.746410Z",
     "iopub.status.idle": "2025-09-16T04:14:23.764920Z",
     "shell.execute_reply": "2025-09-16T04:14:23.764251Z"
    },
    "papermill": {
     "duration": 0.02427,
     "end_time": "2025-09-16T04:14:23.765880",
     "exception": false,
     "start_time": "2025-09-16T04:14:23.741610",
     "status": "completed"
    },
    "scrolled": false,
    "tags": []
   },
   "outputs": [
    {
     "data": {
      "text/markdown": [
       "## Successful papers"
      ],
      "text/plain": [
       "<IPython.core.display.Markdown object>"
      ]
     },
     "metadata": {},
     "output_type": "display_data"
    },
    {
     "data": {
      "text/markdown": [
       "\n",
       "|||\n",
       "|---:|:---|\n",
       "| [![arXiv](https://img.shields.io/badge/arXiv-2509.12058-b31b1b.svg)](https://arxiv.org/abs/2509.12058) | **Characterization of Two Cool Galaxy Outflow Candidates Using Mid-Infrared Emission from Polycyclic Aromatic Hydrocarbons**  |\n",
       "|| J. Sutter, et al. -- incl., <mark>E. Schinnerer</mark> |\n",
       "|*Appeared on*| *2025-09-16*|\n",
       "|*Comments*| *Accepted for publication in The Astrophysical Journal Letters, 12 pages, 4 figures and 1 table*|\n",
       "|**Abstract**|            We characterize two candidate cool galactic outflows in two relatively low mass, highly inclined Virgo cluster galaxies: NGC4424 and NGC4694. Previous analyses of observations using the Atacama Large Millimeter Array (ALMA) carbon monoxide (CO) line emission maps did not classify these sources as cool outflow hosts. Using new high sensitivity, high spatial resolution, JWST mid-infrared photometry in the polycyclic aromatic hydrocarbon (PAH)-tracing F770W band, we identify extended structures present off of the stellar disk. The identified structures are bright in the MIRI F770W and F2100W bands, suggesting they include PAHs as well as other dust grains. As PAHs have been shown to be destroyed in hot, ionized gas, these structures are likely to be outflows of cool (T$\\leq 10^4$K) gas. This work represents an exciting possibility for using mid infrared observations to identify and measure outflows in lower mass, lower star formation galaxies.         |"
      ],
      "text/plain": [
       "[2509.12058] Characterization of Two Cool Galaxy Outflow Candidates Using Mid-Infrared Emission from Polycyclic Aromatic Hydrocarbons\n",
       "\tJ. Sutter, et al. -- incl., <mark>E. Schinnerer</mark>"
      ]
     },
     "metadata": {},
     "output_type": "display_data"
    },
    {
     "data": {
      "text/markdown": [
       "## Failed papers"
      ],
      "text/plain": [
       "<IPython.core.display.Markdown object>"
      ]
     },
     "metadata": {},
     "output_type": "display_data"
    },
    {
     "data": {
      "text/markdown": [
       "\n",
       "|||\n",
       "|---:|:---|\n",
       "| [![arXiv](https://img.shields.io/badge/arXiv-2509.10665-b31b1b.svg)](https://arxiv.org/abs/2509.10665) | **SDSS-V Local Volume Mapper (LVM): Revealing the Structure of the Rosette Nebula**  |\n",
       "|| M. A. Villa-Durango, et al. -- incl., <mark>K. Kreckel</mark> |\n",
       "|*Appeared on*| *2025-09-16*|\n",
       "|*Comments*| *Accepted for publication in MNRAS*|\n",
       "|**Abstract**|            The Rosette Nebula is a well-known H II region shaped by the interaction of gas with the OB stars of the NGC 2244 stellar association. Located within the remnant of a giant molecular cloud, it exhibits a complex structure of ionized gas, molecular material, dust, and embedded clusters. In October 2023, the region was observed as part of the SDSS-V Local Volume Mapper (LVM) integral field spectroscopy survey. Covering a radius of approximately 1 degree, the dataset comprises 33,326 spectra with spatially resolved information spanning 390 - 980 nm. We present a structural analysis of the ionized, molecular, and dusty components using multi-wavelength observations: optical spectroscopy from SDSS-V LVM, 12CO emission from PMO/MWISP (sub-millimeter), and dust emission from WISE (12 micron) and Herschel (far-infrared). These datasets were complemented with the positions of ionizing stars to study emission structures traced by H alpha, H beta, [O III], [N II], and [S II], as well as the spatial distribution of line ratios (H alpha/H beta, [O III]/H beta, [N II]/H alpha, and [S II]/H alpha) relative to the surrounding molecular cloud. Our analysis reveals interaction zones between ionized and neutral gas, including filaments, globules, and dense regions with or without ongoing star formation. Radial and quadrant-based flux profiles further highlight morphological and ionization variations, supporting the scenario in which the Rosette Nebula evolved from a non-homogeneous molecular cloud with a thin, sheet-like structure.         |\n",
       "|<p style=\"color:green\"> **ERROR** </p>| <p style=\"color:green\">affiliation error: mpia.affiliation_verifications: '69117' keyword not found.</p> |"
      ],
      "text/plain": [
       "<IPython.core.display.Markdown object>"
      ]
     },
     "metadata": {},
     "output_type": "display_data"
    },
    {
     "data": {
      "text/markdown": [
       "\n",
       "|||\n",
       "|---:|:---|\n",
       "| [![arXiv](https://img.shields.io/badge/arXiv-2509.10836-b31b1b.svg)](https://arxiv.org/abs/2509.10836) | **Measuring neutrino masses with joint JWST and DESI DR2 data**  |\n",
       "|| S.-H. Zhou, et al. -- incl., <mark>X. Zhang</mark> |\n",
       "|*Appeared on*| *2025-09-16*|\n",
       "|*Comments*| *13 pages, 4 figures*|\n",
       "|**Abstract**|            Early JWST observations reveal an unexpectedly abundant population of high-redshift candidate massive galaxies at $z \\gtrsim 7$, and recent DESI measurements show a preference for dynamical dark energy, which together present a significant challenge to the standard $\\Lambda$CDM cosmology. In this work, we jointly analyze high-redshift galaxy data from JWST, baryon acoustic oscillations data from DESI DR2, and cosmic microwave background (CMB) data from Planck and ACT, measuring the total neutrino mass $\\sum m_{\\nu}$. We consider three dark energy models ($\\Lambda$CDM, $w$CDM, and $w_0w_a$CDM) and three mass hierarchies. Our results indicate that in the $w_0w_a$CDM model, adding JWST data to CMB+DESI tightens the upper limit of $\\sum m_{\\nu}$ by about $5.8\\%-10.2\\%$, and we obtain $\\sum m_{\\nu} < 0.167~\\mathrm{eV}$ ($2\\sigma$) in the normal hierarchy (NH) case. Furthermore, JWST also offers indicative lower limits on star formation efficiency parameter of $f_{*,10} \\gtrsim 0.146-0.161$. Bayesian evidence weakly favors the $w_0w_a$CDM+$\\sum m_{\\nu}$(NH) model relative to the $\\Lambda$CDM+$\\sum m_{\\nu}$(NH) model using CMB+DESI+JWST data. These results suggest that the joint analysis of high-redshift JWST data and low-redshift DESI data provides compelling constraints on neutrino mass and merits further investigation.         |\n",
       "|<p style=\"color:green\"> **ERROR** </p>| <p style=\"color:green\">affiliation error: mpia.affiliation_verifications: 'Heidelberg' keyword not found.</p> |"
      ],
      "text/plain": [
       "<IPython.core.display.Markdown object>"
      ]
     },
     "metadata": {},
     "output_type": "display_data"
    },
    {
     "data": {
      "text/markdown": [
       "\n",
       "|||\n",
       "|---:|:---|\n",
       "| [![arXiv](https://img.shields.io/badge/arXiv-2509.11029-b31b1b.svg)](https://arxiv.org/abs/2509.11029) | **The M- and X-class White-light Flares in Super Active Region NOAA 13664/13697 Observed by ASO-S/LST/WST**  |\n",
       "|| Z. Jing, Y. Li, <mark>J. Li</mark>, Q. Li |\n",
       "|*Appeared on*| *2025-09-16*|\n",
       "|*Comments*| *Accepted for publication in ApJ*|\n",
       "|**Abstract**|            Solar white-light flares (WLFs) have been observed since 1859, but their occurrence rate is not yet fully understood. The physical properties of WLFs in super active regions (SARs) are also well worth investigating. With full-disk images at 3600 Å (in the Balmer continuum) from the White-light Solar Telescope (WST) on board the Advanced Space-based Solar Observatory, we here study the M- and X-class WLFs occurring in SAR NOAA 13664/13697 (a same region in two solar Carrington rotations) during May/June 2024. 48 WLFs at 3600 Å are identified from 89 available samples with an occurrence rate of 53.9%, which is much higher than that (23.9%) of a longterm-continuous data set from October 2022 to May 2023 in our previous work (Jing et al. 2024). In particular, with an additional sample of over 730 M- and X-class flares from October 2022 to June 2024, we find that the occurrence rate of WLFs shows a good correlation with the solar cycle represented by sunspot counts. As regards the properties of the emission at 3600 Å, the WLFs in SAR NOAA 13664/13697 have some different characteristics, say, a longer duration but a weaker relative enhancement and a smaller brightening area compared with the previous long-term-continuous sample. We also find that for WLFs in NOAA 13664/13697 the relation between the duration and energy at 3600 Å is described by a power-law with index of 0.35, which is similar to the results found for superflares in Sun-like stars (Kowalski 2024). All these help us understand the solar WLFs in SARs and also provide important insights into the superflares on Sun-like stars.         |\n",
       "|<p style=\"color:green\"> **ERROR** </p>| <p style=\"color:green\">affiliation error: mpia.affiliation_verifications: 'Heidelberg' keyword not found.</p> |"
      ],
      "text/plain": [
       "<IPython.core.display.Markdown object>"
      ]
     },
     "metadata": {},
     "output_type": "display_data"
    },
    {
     "data": {
      "text/markdown": [
       "\n",
       "|||\n",
       "|---:|:---|\n",
       "| [![arXiv](https://img.shields.io/badge/arXiv-2509.11305-b31b1b.svg)](https://arxiv.org/abs/2509.11305) | **The SRG/eROSITA All-Sky Survey $J$-Band Follow-Up Observations for Selected High-Redshift Galaxy Cluster Candidates**  |\n",
       "|| N. Zimmermann, et al. -- incl., <mark>X. Zhang</mark> |\n",
       "|*Appeared on*| *2025-09-16*|\n",
       "|*Comments*| *24 pages, 13 figures, 8 tables, submitted to A&A*|\n",
       "|**Abstract**|            We select galaxy cluster candidates from the high-redshift (BEST_Z > 0.9) end of the first SRG/eROSITA All-Sky Survey (eRASS1) galaxy cluster catalogue, for which we obtain moderately deep J-band imaging data with the OMEGA2000 camera at the 3.5m telescope of the Calar Alto Observatory. We include J-band data of four additional targets obtained with the three-channel camera at the 2m Fraunhofer telescope at the Wendelstein Observatory. We complement the new J-band photometric catalogue with forced photometry in the i- and z-bands of the tenth data release of the Legacy Survey (LSDR10) to derive the radial colour distribution around the eRASS1 clusters. Without assuming a priori to find a cluster red sequence at a specific colour, we try to find a radially weighted colour over-density to confirm the presence of high-redshift optical counterparts for the X-ray emission. We compare our confirmation with optical properties derived in earlier works based on LSDR10 data to refine the existing high-redshift cluster confirmation of eROSITA-selected clusters. We attempt to calibrate the colour-redshift-relation including the new J-band data by comparing our obtained photometric redshift estimate with the spectroscopic redshift of a confirmed, optically selected, high-redshift galaxy cluster. We confirm 9 out of 18 of the selected galaxy cluster candidates with a radial over-density of similar coloured galaxies for which we provide a photometric redshift estimate. We can report an increase in the relative colour measurement precision from 8% to 4% when including J-band data. In conclusion, our findings indicate a not insignificant spurious contaminant fraction at the high-redshift end (BEST_Z > 0.9) of the eROSITA/eRASS1 galaxy cluster catalogue, as well as it underlines the necessity for wide and deep near infrared imaging data for confirmation and characterisation of high-$z$ galaxy clusters.         |\n",
       "|<p style=\"color:green\"> **ERROR** </p>| <p style=\"color:green\">affiliation error: mpia.affiliation_verifications: 'Heidelberg' keyword not found.</p> |"
      ],
      "text/plain": [
       "<IPython.core.display.Markdown object>"
      ]
     },
     "metadata": {},
     "output_type": "display_data"
    },
    {
     "data": {
      "text/markdown": [
       "\n",
       "|||\n",
       "|---:|:---|\n",
       "| [![arXiv](https://img.shields.io/badge/arXiv-2509.11475-b31b1b.svg)](https://arxiv.org/abs/2509.11475) | **Dense Molecular Ring-like structure in gaseous CO depletion region G34.74-0.12**  |\n",
       "|| S. Lin, et al. -- incl., <mark>F. Xu</mark> |\n",
       "|*Appeared on*| *2025-09-16*|\n",
       "|*Comments*| *16 pages, 8 figures, Accepted for publication in ApJL*|\n",
       "|**Abstract**|            We report the discovery of a dense molecular ring-like structure in a dense (10$^5$ cm$^{-3}$), cold (pc-scale CO depletion at a factor of 5), and young (10$^4$ year) star-forming region G34.74-0.12, revealed by C$^{18}$O (2-1), HNC (1-0), and N$_2$H$^+$ (1-0) observations with the Atacama Large Millimeter/submillimeter Array (ALMA). The ring-like structure is redshifted with respect to the clump, spanning from $V_{\\rm sys,lsr} + 0.9$ to $V_{\\rm sys,lsr} + 2.9$ km s$^{-1}$, with a total mass of 109 $M_{\\odot}$. It is spatially coincident with 1.3 mm and 3.0 mm dust continuum emission from cores, and several protostellar outflows. However, no free-free emission or H\\textsc{ii} region is detected in association with this structure. With a slow expansion speed indicated by the position-velocity diagram, this ring structure differs from rings previously identified in more evolved star-forming regions. Possible explanations for the ring-like structure include a relic wind-blown bubble produced by a deeply embedded young stellar object, a hollow cavity formed by cloud-cloud interactions, a gas ring resulting from a temperature gradient, or a line-of-sight superposition of multiple outflows or dense clouds. This discovery offers a rare observational glimpse into the earliest dynamical processes involved in massive star formation.         |\n",
       "|<p style=\"color:green\"> **ERROR** </p>| <p style=\"color:green\">affiliation error: mpia.affiliation_verifications: 'Heidelberg' keyword not found.</p> |"
      ],
      "text/plain": [
       "<IPython.core.display.Markdown object>"
      ]
     },
     "metadata": {},
     "output_type": "display_data"
    },
    {
     "data": {
      "text/markdown": [
       "\n",
       "|||\n",
       "|---:|:---|\n",
       "| [![arXiv](https://img.shields.io/badge/arXiv-2509.12067-b31b1b.svg)](https://arxiv.org/abs/2509.12067) | **Observational Evidence of Dust Evolution in Supernova Remnants: Size Redistribution Toward Larger Grains in Early Sedov Phase**  |\n",
       "|| H. Zhao, B. Chen, <mark>J. Li</mark> |\n",
       "|*Appeared on*| *2025-09-16*|\n",
       "|*Comments*| *12 pages, 1 table, 3 figures, accepted for publication in ApJL*|\n",
       "|**Abstract**|            Recent observations have revealed that dust is widespread and abundant in galaxies up to $z\\,{\\backsimeq}\\,8$, significantly influencing their appearance and spectral properties. In the early Universe, dust is thought to form primarily in supernova (SN) ejecta, but also undergoes destruction by the reverse shock. Studying dust in local supernova remnants (SNRs) of different sizes and ages thus provides key constraints on dust formation and evolution during cosmic dawn. Using the newly released 3D $R_{\\rm V}$ map, we derived local $R_{\\rm V} \\equiv A_{\\rm V}/E(B-V)$ values for dust in 14 Galactic SNRs in the early Sedov phase and their surrounding interstellar medium (ISM). For the first time, we detect a moderately strong positive correlation between the difference in SNR and ISM $R_{\\rm V}$ ($\\Delta R_{\\rm V}$) and SNR radius ($R_{\\rm SNR}$), with a Spearman coefficient of $r_{\\rm s}\\,{=}\\,0.62\\,{\\pm}\\,0.14$. This trend offers direct observational evidence for a redistribution of dust grain sizes toward larger grains during SN shock processing, consistent with theoretical models. Our findings provide essential observational constraints on dust size evolution in SNRs and important implications for understanding the rapid enrichment and survival of dust in the early Universe.         |\n",
       "|<p style=\"color:green\"> **ERROR** </p>| <p style=\"color:green\">affiliation error: mpia.affiliation_verifications: 'Heidelberg' keyword not found.</p> |"
      ],
      "text/plain": [
       "<IPython.core.display.Markdown object>"
      ]
     },
     "metadata": {},
     "output_type": "display_data"
    },
    {
     "data": {
      "text/markdown": [
       "\n",
       "|||\n",
       "|---:|:---|\n",
       "| [![arXiv](https://img.shields.io/badge/arXiv-2509.10601-b31b1b.svg)](https://arxiv.org/abs/2509.10601) | **Active galactic nuclei do not exhibit stably periodic brightness variations**  |\n",
       "|| <mark>K. El-Badry</mark>, D. W. Hogg, <mark>H.-W. Rix</mark> |\n",
       "|*Appeared on*| *2025-09-16*|\n",
       "|*Comments*| *16 pages, 3 figures, submitted to OJAp*|\n",
       "|**Abstract**|            Periodic variability in active galactic nuclei (AGN) light curves has been proposed as a signature of close supermassive black hole (SMBH) binaries. Recently, 181 candidate SMBH binaries were identified in Gaia DR3 based on periodicity in their $\\sim$1000-day light curves. By supplementing Gaia photometry with longer-baseline light curves from the Zwicky Transient Facility (ZTF) and the Catalina Real Time Transient Survey (CRTS), we test whether the reported periodic signals persist beyond the Gaia DR3 time window. We find that in all 116 cases with available ZTF data, the Gaia-inferred periodic model fails to predict subsequent variability, which appears stochastic rather than periodic. The periodic candidates thus overwhelmingly appear to be false positives; red noise contamination appears to be the primary source of false detections. We conclude that truly periodic AGN are exceedingly rare, with at most a few in $10^6$ AGN exhibiting stable periodicity on 100 to 1000 day timescales. Models predict that the Gaia AGN light curve sample should contain dozens of true SMBH binaries with periods within the observational baseline, so the lack of strictly periodic light curves in the sample suggests that most short-period binary AGN do not have light curves dominated by simple periodicity.         |\n",
       "|<p style=\"color:red\"> **ERROR** </p>| <p style=\"color:red\">latex error expected string or bytes-like object</p> |"
      ],
      "text/plain": [
       "<IPython.core.display.Markdown object>"
      ]
     },
     "metadata": {},
     "output_type": "display_data"
    }
   ],
   "source": [
    "import datetime\n",
    "today = str(datetime.date.today())\n",
    "logfile = f\"_build/html/logs/log-{today}.md\"\n",
    "\n",
    "\n",
    "with open(logfile, 'w') as logs:\n",
    "    # Success\n",
    "    logs.write(f'# Arxiv on Deck 2: Logs - {today}\\n\\n')\n",
    "    logs.write(\"\"\"* Arxiv had {0:,d} new papers\\n\"\"\".format(len(new_papers)))\n",
    "    logs.write(\"\"\"    * {0:,d} with possible author matches\\n\\n\"\"\".format(len(candidates)))\n",
    "    logs.write(\"## Sucessful papers\\n\\n\")\n",
    "    display(Markdown(\"## Successful papers\"))\n",
    "    success = [k[0] for k in documents]\n",
    "    for candid in candidates:\n",
    "        if candid['identifier'].split(':')[-1] in success:\n",
    "            display(candid)\n",
    "            logs.write(candid.generate_markdown_text() + '\\n\\n')\n",
    "\n",
    "    ## failed\n",
    "    logs.write(\"## Failed papers\\n\\n\")\n",
    "    display(Markdown(\"## Failed papers\"))\n",
    "    failed = sorted(failed, key=lambda x: x[1])\n",
    "    current_reason = \"\"\n",
    "    for paper, reason in failed:\n",
    "        if 'affiliation' in reason:\n",
    "            color = 'green'\n",
    "        else:\n",
    "            color = 'red'\n",
    "        data = Markdown(\n",
    "                paper.generate_markdown_text() + \n",
    "                f'\\n|<p style=\"color:{color:s}\"> **ERROR** </p>| <p style=\"color:{color:s}\">{reason:s}</p> |'\n",
    "               )\n",
    "        if reason != current_reason:\n",
    "            logs.write(f'### {reason:s} \\n\\n')\n",
    "            current_reason = reason\n",
    "        logs.write(data.data + '\\n\\n')\n",
    "        \n",
    "        # only display here the important errors (all in logs)\n",
    "        # if color in ('red',):\n",
    "        display(data)"
   ]
  },
  {
   "cell_type": "markdown",
   "id": "472d20ee",
   "metadata": {
    "papermill": {
     "duration": 0.005146,
     "end_time": "2025-09-16T04:14:23.776139",
     "exception": false,
     "start_time": "2025-09-16T04:14:23.770993",
     "status": "completed"
    },
    "tags": []
   },
   "source": [
    "## Export documents\n",
    "\n",
    "We now write the .md files and export relevant images"
   ]
  },
  {
   "cell_type": "code",
   "execution_count": 7,
   "id": "d426aed9",
   "metadata": {
    "execution": {
     "iopub.execute_input": "2025-09-16T04:14:23.787320Z",
     "iopub.status.busy": "2025-09-16T04:14:23.787071Z",
     "iopub.status.idle": "2025-09-16T04:14:23.793823Z",
     "shell.execute_reply": "2025-09-16T04:14:23.793161Z"
    },
    "papermill": {
     "duration": 0.013456,
     "end_time": "2025-09-16T04:14:23.794781",
     "exception": false,
     "start_time": "2025-09-16T04:14:23.781325",
     "status": "completed"
    },
    "tags": []
   },
   "outputs": [],
   "source": [
    "def export_markdown_summary(md: str, md_fname:str, directory: str):\n",
    "    \"\"\"Export MD document and associated relevant images\"\"\"\n",
    "    import os\n",
    "    import shutil\n",
    "    import re\n",
    "\n",
    "    if (os.path.exists(directory) and not os.path.isdir(directory)):\n",
    "        raise RuntimeError(f\"a non-directory file exists with name {directory:s}\")\n",
    "\n",
    "    if (not os.path.exists(directory)):\n",
    "        print(f\"creating directory {directory:s}\")\n",
    "        os.mkdir(directory)\n",
    "\n",
    "    fig_fnames = (re.compile(r'\\[Fig.*\\]\\((.*)\\)').findall(md) + \n",
    "                  re.compile(r'\\<img src=\"([^>\\s]*)\"[^>]*/>').findall(md))\n",
    "    print(\"found figures\", fig_fnames)\n",
    "    for fname in fig_fnames:\n",
    "        if 'http' in fname:\n",
    "            # No need to copy online figures\n",
    "            continue\n",
    "        if not os.path.exists(fname):\n",
    "            print(\"file not found\", fname)\n",
    "            continue\n",
    "        print(\"copying \", fname, \"to\", directory)\n",
    "        destdir = os.path.join(directory, os.path.dirname(fname))\n",
    "        destfname = os.path.join(destdir, os.path.basename(fname))\n",
    "        try:\n",
    "            os.makedirs(destdir)\n",
    "        except FileExistsError:\n",
    "            pass\n",
    "        shutil.copy(fname, destfname)\n",
    "    with open(os.path.join(directory, md_fname), 'w') as fout:\n",
    "        fout.write(md)\n",
    "    print(\"exported in \", os.path.join(directory, md_fname))\n",
    "    [print(\"    + \" + os.path.join(directory,fk)) for fk in fig_fnames]"
   ]
  },
  {
   "cell_type": "code",
   "execution_count": 8,
   "id": "014d04a4",
   "metadata": {
    "execution": {
     "iopub.execute_input": "2025-09-16T04:14:23.806452Z",
     "iopub.status.busy": "2025-09-16T04:14:23.806216Z",
     "iopub.status.idle": "2025-09-16T04:14:23.810114Z",
     "shell.execute_reply": "2025-09-16T04:14:23.809558Z"
    },
    "papermill": {
     "duration": 0.011113,
     "end_time": "2025-09-16T04:14:23.811072",
     "exception": false,
     "start_time": "2025-09-16T04:14:23.799959",
     "status": "completed"
    },
    "tags": []
   },
   "outputs": [
    {
     "name": "stdout",
     "output_type": "stream",
     "text": [
      "found figures []\n",
      "exported in  _build/html/2509.12058.md\n"
     ]
    }
   ],
   "source": [
    "for paper_id, md in documents:\n",
    "    export_markdown_summary(md, f\"{paper_id:s}.md\", '_build/html/')"
   ]
  },
  {
   "cell_type": "markdown",
   "id": "f087a0a7",
   "metadata": {
    "papermill": {
     "duration": 0.005128,
     "end_time": "2025-09-16T04:14:23.821472",
     "exception": false,
     "start_time": "2025-09-16T04:14:23.816344",
     "status": "completed"
    },
    "tags": []
   },
   "source": [
    "## Display the papers\n",
    "\n",
    "Not necessary but allows for a quick check."
   ]
  },
  {
   "cell_type": "code",
   "execution_count": 9,
   "id": "fd25f625",
   "metadata": {
    "execution": {
     "iopub.execute_input": "2025-09-16T04:14:23.832602Z",
     "iopub.status.busy": "2025-09-16T04:14:23.832401Z",
     "iopub.status.idle": "2025-09-16T04:14:23.836787Z",
     "shell.execute_reply": "2025-09-16T04:14:23.836243Z"
    },
    "papermill": {
     "duration": 0.011152,
     "end_time": "2025-09-16T04:14:23.837774",
     "exception": false,
     "start_time": "2025-09-16T04:14:23.826622",
     "status": "completed"
    },
    "scrolled": false,
    "tags": []
   },
   "outputs": [
    {
     "data": {
      "text/markdown": [
       "<div class=\"macros\" style=\"visibility:hidden;\">\n",
       "$\\newcommand{\\ensuremath}{}$\n",
       "$\\newcommand{\\xspace}{}$\n",
       "$\\newcommand{\\object}[1]{\\texttt{#1}}$\n",
       "$\\newcommand{\\farcs}{{.}''}$\n",
       "$\\newcommand{\\farcm}{{.}'}$\n",
       "$\\newcommand{\\arcsec}{''}$\n",
       "$\\newcommand{\\arcmin}{'}$\n",
       "$\\newcommand{\\ion}[2]{#1#2}$\n",
       "$\\newcommand{\\textsc}[1]{\\textrm{#1}}$\n",
       "$\\newcommand{\\hl}[1]{\\textrm{#1}}$\n",
       "$\\newcommand{\\footnote}[1]{}$\n",
       "$\\newcommand{\\vdag}{(v)^\\dagger}$\n",
       "$\\newcommand$\n",
       "$\\newcommand$\n",
       "$\\newcommand{\\Whitman}{Whitman College, 345 Boyer Avenue, Walla Walla, WA 99362, USA}$\n",
       "$\\newcommand{\\Ox}{Sub-department of Astrophysics, Department of Physics, University of Oxford, Keble Road, Oxford OX1 3RH, UK}$\n",
       "$\\newcommand{\\UGent}{Sterrenkundig Observatorium, Universiteit Gent, Krijgslaan 281 S9, B-9000 Gent, Belgium}$\n",
       "$\\newcommand{\\STScI}{Space Telescope Science Institute, 3700 San Martin Drive, Baltimore, MD 21218, USA}$\n",
       "$\\newcommand{\\MPIA}{Max-Planck-Institut für Astronomie, Königstuhl 17, D-69117, Heidelberg, Germany}$\n",
       "$\\newcommand{\\AURA}{AURA for the European Space Agency (ESA), Space Telescope Science Institute, 3700 San Martin Drive, Baltimore, MD 21218, USA}$\n",
       "$\\newcommand{\\STScIESA}{AURA for the European Space Agency (ESA), Space Telescope Science Institute, 3700 San Martin Drive, Baltimore, MD 21218, USA}$\n",
       "$\\newcommand{\\UCSD}{Department of Astronomy \\& Astrophysics, University of California, San Diego, 9500 Gilman Dr., La Jolla, CA 92093, USA}$\n",
       "$\\newcommand{\\JHU}{Department of Physics and Astronomy, The Johns Hopkins University, Baltimore, MD 21218, USA}$\n",
       "$\\newcommand{\\OSU}{Department of Astronomy, The Ohio State University, 140 West 18th Avenue, Columbus, OH 43210, USA}$\n",
       "$\\newcommand{ÇAPP}{Center for Cosmology and Astroparticle Physics (CCAPP), 191 West Woodruff Avenue, Columbus, OH 43210, USA}$\n",
       "$\\newcommand{\\ARI}{Astronomisches Rechen-Institut, Zentrum für Astronomie der Universität Heidelberg, Mönchhofstr. 12-14, D-69120 Heidelberg, Germany}$\n",
       "$\\newcommand{\\UCT}{Department of Astronomy, University of Cape Town, Rondebosch 7701, South Africa}$\n",
       "$\\newcommand{\\UConn}{Department of Physics, University of Connecticut, 196A Auditorium Road, Storrs, CT 06269, USA}$\n",
       "$\\newcommand{\\UHawaii}{Institute for Astronomy, University of Hawaii, 2680 Woodlawn Drive, Honolulu, HI 96822, USA}$\n",
       "$\\newcommand{\\UniCA}{Université Côte d'Azur, Observatoire de la Côte d'Azur, CNRS, Laboratoire Lagrange, 06000, Nice, France}$\n",
       "$\\newcommand{\\UAlberta}{Dept. of Physics, University of Alberta, 4-183 CCIS, Edmonton, Alberta, T6G 2E1, Canada}$\n",
       "$\\newcommand{\\Arcetri}{INAF — Osservatorio Astrofisico di Arcetri, Largo E. Fermi 5, I-50125, Florence, Italy}$\n",
       "$\\newcommand{\\UWyoming}{Department of Physics and Astronomy, University of Wyoming, Laramie, WY 82071, USA}$\n",
       "$\\newcommand{\\LJMU}{Astrophysics Research Institute, Liverpool John Moores University, 146 Brownlow Hill, Liverpool L3 5RF, UK}$\n",
       "$\\newcommand{\\ITA}{Universität Heidelberg, Zentrum für Astronomie, Institut für Theoretische Astrophysik, Albert-Ueberle-Str 2, D-69120 Heidelberg, Germany}$\n",
       "$\\newcommand{\\CfA}{Center for Astrophysics \\mid Harvard \\& Smithsonian, 60 Garden St., 02138 Cambridge, MA, USA}$\n",
       "$\\newcommand{\\MPE}{Max-Planck-Institut für Extraterrestrische Physik (MPE), Giessenbachstr. 1, D-85748 Garching, Germany}$\n",
       "$\\newcommand{\\Surrey}{Department of Physics, University of Surrey, Guildford GU2 7XH, UK}$\n",
       "$\\newcommand{\\ESO}{European Southern Observatory, Karl-Schwarzschild Stra{\\ss}e 2, D-85748 Garching bei München, Germany}$\n",
       "$\\newcommand{\\IWR}{Universität Heidelberg, Interdisziplinäres Zentrum für Wissenschaftliches Rechnen, Im Neuenheimer Feld 205, D-69120 Heidelberg, Germany}$\n",
       "$\\newcommand{\\ulyon}{Univ Lyon, Univ Lyon1, ENS de Lyon, CNRS, Centre de Recherche Astrophysique de Lyon UMR5574, F-69230 Saint-Genis-Laval France}$\n",
       "$\\newcommand{\\COOL}{Cosmic Origins Of Life (COOL) Research DAO, coolresearch.io}$\n",
       "$\\newcommand{\\OAN}{Observatorio Astron{ó}mico Nacional (IGN), C/ Alfonso XII 3, E-28014 Madrid, Spain}$\n",
       "$\\newcommand{\\UBonn}{Argelander-Institut für Astronomie, Universität Bonn, Auf dem Hügel 71, 53121 Bonn, Germany}$\n",
       "$\\newcommand{\\kipac}{Kavli Institute for Particle Astrophysics \\& Cosmology (KIPAC), Stanford University, CA 94305, USA}$\n",
       "$\\newcommand{\\Umanc}{Jodrell Bank Centre for Astrophysics, Department of Physics and Astronomy, University of Manchester, Oxford Road, Manchester M13 9PL, UK}$\n",
       "$\\newcommand{\\NRAO}{National Radio Astronomy Observatory, 520 Edgemont Road, Charlottesville, VA 22903, USA}$\n",
       "$\\newcommand{\\ANU}{Research School of Astronomy and Astrophysics, Australian National University, Canberra, ACT 2611, Australia}$\n",
       "$\\newcommand{\\AThreeD}{ARC Centre of Excellence for All Sky Astrophysics in 3 Dimensions (ASTRO 3D), Australia}$\n",
       "$\\newcommand{\\HD}{\\label{HD} Astronomisches Rechen-Institut, Zentrum für Astronomie der Universität Heidelberg, Mönchhofstra\\ss e 12-14, D-69120 Heidelberg, Germany}$\n",
       "$\\newcommand{\\IAC}{Instituto de Astrofísica de Canarias, C/ Vía Láctea s/n, E-38205, La Laguna, Spain}$\n",
       "$\\newcommand{\\ULL}{Departamento de Astrofísica, Universidad de La Laguna, Av. del Astrofísico Francisco Sánchez s/n, E-38206, La Laguna, Spain}$\n",
       "$\\newcommand{\\Princeton}{Department of Astrophysical Sciences, Princeton University, 4 Ivy Lane, Princeton, NJ 08544, USA}$\n",
       "$\\newcommand{\\IRAM}{IRAM, 300 rue de la Piscine, 38400 Saint Martin d'Héres, France}$\n",
       "$\\newcommand{\\LERMA}{LERMA, Observatoire de Paris, PSL Research University, CNRS, Sorbonne Universités, 75014 Paris}$\n",
       "$\\newcommand{\\YB}{Centro de Desarrollos Tecnológicos, Observatorio de Yebes (IGN), 19141 Yebes, Guadalajara, Spain}$\n",
       "$\\newcommand{\\uwa}{International Centre for Radio Astronomy Research, University of Western Australia, 7 Fairway, Crawley, 6009, WA, Australia}$\n",
       "$\\newcommand{\\UMD}{Department of Astronomy and Joint Space-Science Institute, University of Maryland, College Park, MD 20742, USA}$\n",
       "$\\newcommand{\\NOIRLab}{International Gemini Observatory/NSF NOIRLab, 950 N. Cherry Avenue, Tucson, AZ 85719, USA}$\n",
       "$\\newcommand\\CII{[C{\\small{II}}]}$\n",
       "$\\newcommand\\NII{[N{\\small{II}}]}$\n",
       "$\\newcommand\\OI{[O{\\small{I}}]}$\n",
       "$\\newcommand\\Rpah{R_{\\rm{PAH}}}$\n",
       "$\\newcommand\\micron{\\mum}$</div>\n",
       "\n",
       "\n",
       "\n",
       "<div id=\"title\">\n",
       "\n",
       "# Characterization of Two Cool Galaxy Outflow Candidates Using Mid-Infrared Emission from Polycyclic Aromatic Hydrocarbons\n",
       "\n",
       "</div>\n",
       "<div id=\"comments\">\n",
       "\n",
       "[![arXiv](https://img.shields.io/badge/arXiv-2509.12058-b31b1b.svg)](https://arxiv.org/abs/2509.12058)<mark>Appeared on: 2025-09-16</mark> -  _Accepted for publication in The Astrophysical Journal Letters, 12 pages, 4 figures and 1 table_\n",
       "\n",
       "</div>\n",
       "<div id=\"authors\">\n",
       "\n",
       "J. Sutter, et al.\n",
       "\n",
       "</div>\n",
       "<div id=\"abstract\">\n",
       "\n",
       "**Abstract:** We characterize two candidate cool galactic outflows in two relatively low mass, highly inclined Virgo cluster galaxies: NGC 4424 and NGC 4694. Previous analyses of observations using the Atacama Large Millimeter Array (ALMA) carbon monoxide (CO) line emission maps did not classify these sources as cool outflow hosts.  Using new high sensitivity, high spatial resolution, JWST mid-infrared photometry in the polycyclic aromatic hydrocarbon (PAH)-tracing F770W band, we identify extended structures present off of the stellar disk. The identified structures are bright in the MIRI F770W and F2100W bands, suggesting they include PAHs as well as other dust grains. As PAHs have been shown to be destroyed in hot, ionized gas, these structures are likely to be outflows of cool ( $T \\leq 10^4$ K) gas. This work represents an exciting possibility for using mid infrared observations to identify and measure outflows in lower mass, lower star formation galaxies.\n",
       "\n",
       "</div>\n",
       "\n",
       "<div id=\"qrcode\"><img src=https://api.qrserver.com/v1/create-qr-code/?size=100x100&data=\"https://arxiv.org/abs/2509.12058\"></div>"
      ],
      "text/plain": [
       "<IPython.core.display.Markdown object>"
      ]
     },
     "metadata": {},
     "output_type": "display_data"
    }
   ],
   "source": [
    "[display(Markdown(k[1])) for k in documents];"
   ]
  },
  {
   "cell_type": "markdown",
   "id": "873873a4",
   "metadata": {
    "papermill": {
     "duration": 0.005454,
     "end_time": "2025-09-16T04:14:23.848945",
     "exception": false,
     "start_time": "2025-09-16T04:14:23.843491",
     "status": "completed"
    },
    "tags": []
   },
   "source": [
    "# Create HTML index"
   ]
  },
  {
   "cell_type": "code",
   "execution_count": 10,
   "id": "cf665672",
   "metadata": {
    "execution": {
     "iopub.execute_input": "2025-09-16T04:14:23.860642Z",
     "iopub.status.busy": "2025-09-16T04:14:23.860453Z",
     "iopub.status.idle": "2025-09-16T04:14:23.867546Z",
     "shell.execute_reply": "2025-09-16T04:14:23.867002Z"
    },
    "papermill": {
     "duration": 0.014098,
     "end_time": "2025-09-16T04:14:23.868521",
     "exception": false,
     "start_time": "2025-09-16T04:14:23.854423",
     "status": "completed"
    },
    "tags": []
   },
   "outputs": [
    {
     "name": "stdout",
     "output_type": "stream",
     "text": [
      "128  publications files modified in the last 7 days.\n"
     ]
    }
   ],
   "source": [
    "from datetime import datetime, timedelta, timezone\n",
    "from glob import glob\n",
    "import os\n",
    "\n",
    "files = glob('_build/html/*.md')\n",
    "days = 7\n",
    "now = datetime.today()\n",
    "res = []\n",
    "for fk in files:\n",
    "    stat_result = os.stat(fk).st_ctime\n",
    "    modified = datetime.fromtimestamp(stat_result, tz=timezone.utc).replace(tzinfo=None)\n",
    "    delta = now.today() - modified\n",
    "    if delta <= timedelta(days=days):\n",
    "        res.append((delta.seconds, fk))\n",
    "res = [k[1] for k in reversed(sorted(res, key=lambda x:x[1]))]\n",
    "npub = len(res)\n",
    "print(len(res), f\" publications files modified in the last {days:d} days.\")\n",
    "# [ print('\\t', k) for k in res ];"
   ]
  },
  {
   "cell_type": "code",
   "execution_count": 11,
   "id": "015de740",
   "metadata": {
    "execution": {
     "iopub.execute_input": "2025-09-16T04:14:23.880401Z",
     "iopub.status.busy": "2025-09-16T04:14:23.880188Z",
     "iopub.status.idle": "2025-09-16T04:14:23.892385Z",
     "shell.execute_reply": "2025-09-16T04:14:23.891833Z"
    },
    "papermill": {
     "duration": 0.019182,
     "end_time": "2025-09-16T04:14:23.893358",
     "exception": false,
     "start_time": "2025-09-16T04:14:23.874176",
     "status": "completed"
    },
    "tags": []
   },
   "outputs": [
    {
     "name": "stdout",
     "output_type": "stream",
     "text": [
      "10  publications in the last 7 days.\n"
     ]
    }
   ],
   "source": [
    "import datetime\n",
    "from glob import glob\n",
    "\n",
    "def get_last_n_days(lst, days=1):\n",
    "    \"\"\" Get the documents from the last n days \"\"\"\n",
    "    sorted_lst = sorted(lst, key=lambda x: x[1], reverse=True)\n",
    "    for fname, date in sorted_lst:\n",
    "        if date >= str(datetime.date.today() - datetime.timedelta(days=days)):\n",
    "            yield fname\n",
    "\n",
    "def extract_appearance_dates(lst_file):\n",
    "    dates = []\n",
    "\n",
    "    def get_date(line):\n",
    "        return line\\\n",
    "            .split('Appeared on:')[-1]\\\n",
    "            .split('</mark>')[0].strip()\n",
    "\n",
    "    for fname in lst:\n",
    "        with open(fname, 'r') as f:\n",
    "            found_date = False\n",
    "            for line in f:\n",
    "                if not found_date:\n",
    "                    if \"Appeared on\" in line:\n",
    "                        found_date = True\n",
    "                        dates.append((fname, get_date(line)))\n",
    "                else:\n",
    "                    break\n",
    "    return dates\n",
    "\n",
    "from glob import glob\n",
    "lst = glob('_build/html/*md')\n",
    "days = 7\n",
    "dates = extract_appearance_dates(lst)\n",
    "res = list(get_last_n_days(dates, days))\n",
    "npub = len(res)\n",
    "print(len(res), f\" publications in the last {days:d} days.\")"
   ]
  },
  {
   "cell_type": "code",
   "execution_count": 12,
   "id": "52ca0208",
   "metadata": {
    "execution": {
     "iopub.execute_input": "2025-09-16T04:14:23.905673Z",
     "iopub.status.busy": "2025-09-16T04:14:23.905451Z",
     "iopub.status.idle": "2025-09-16T04:14:23.910835Z",
     "shell.execute_reply": "2025-09-16T04:14:23.910284Z"
    },
    "papermill": {
     "duration": 0.012803,
     "end_time": "2025-09-16T04:14:23.911846",
     "exception": false,
     "start_time": "2025-09-16T04:14:23.899043",
     "status": "completed"
    },
    "scrolled": false,
    "tags": []
   },
   "outputs": [],
   "source": [
    "def create_carousel(npub=4):\n",
    "    \"\"\" Generate the HTML code for a carousel with `npub` slides \"\"\"\n",
    "    carousel = [\"\"\"  <div class=\"carousel\" \"\"\",\n",
    "                \"\"\"       data-flickity='{ \"autoPlay\": 10000, \"adaptiveHeight\": true, \"resize\": true, \"wrapAround\": true, \"pauseAutoPlayOnHover\": true, \"groupCells\": 1 }' id=\"asyncTypeset\">\"\"\"\n",
    "                ]\n",
    "    \n",
    "    item_str = \"\"\"    <div class=\"carousel-cell\"> <div id=\"slide{k}\" class=\"md_view\">Content {k}</div> </div>\"\"\"\n",
    "    for k in range(1, npub + 1):\n",
    "        carousel.append(item_str.format(k=k))\n",
    "    carousel.append(\"  </div>\")\n",
    "    return '\\n'.join(carousel)\n",
    "\n",
    "def create_grid(npub=4):\n",
    "    \"\"\" Generate the HTML code for a flat grid with `npub` slides \"\"\"\n",
    "    grid = [\"\"\"  <div class=\"grid\"> \"\"\",\n",
    "                ]\n",
    "    \n",
    "    item_str = \"\"\"    <div class=\"grid-item\"> <div id=\"slide{k}\" class=\"md_view\">Content {k}</div> </div>\"\"\"\n",
    "    for k in range(1, npub + 1):\n",
    "        grid.append(item_str.format(k=k))\n",
    "    grid.append(\"  </div>\")\n",
    "    return '\\n'.join(grid)"
   ]
  },
  {
   "cell_type": "code",
   "execution_count": 13,
   "id": "a6eac5b6",
   "metadata": {
    "execution": {
     "iopub.execute_input": "2025-09-16T04:14:23.924122Z",
     "iopub.status.busy": "2025-09-16T04:14:23.923929Z",
     "iopub.status.idle": "2025-09-16T04:14:23.928875Z",
     "shell.execute_reply": "2025-09-16T04:14:23.928344Z"
    },
    "papermill": {
     "duration": 0.012123,
     "end_time": "2025-09-16T04:14:23.929809",
     "exception": false,
     "start_time": "2025-09-16T04:14:23.917686",
     "status": "completed"
    },
    "scrolled": false,
    "tags": []
   },
   "outputs": [],
   "source": [
    "carousel = create_carousel(npub)\n",
    "docs = ', '.join(['\"{0:s}\"'.format(k.split('/')[-1]) for k in res])\n",
    "slides = ', '.join([f'\"slide{k}\"' for k in range(1, npub + 1)])\n",
    "\n",
    "with open(\"daily_template.html\", \"r\") as tpl:\n",
    "    page = tpl.read()\n",
    "    page = page.replace(\"{%-- carousel:s --%}\", carousel)\\\n",
    "               .replace(\"{%-- suptitle:s --%}\",  \"7-day archives\" )\\\n",
    "               .replace(\"{%-- docs:s --%}\", docs)\\\n",
    "               .replace(\"{%-- slides:s --%}\", slides)\n",
    "    \n",
    "with open(\"_build/html/index_7days.html\", 'w') as fout:\n",
    "    fout.write(page)"
   ]
  },
  {
   "cell_type": "code",
   "execution_count": 14,
   "id": "adc1a1ec",
   "metadata": {
    "execution": {
     "iopub.execute_input": "2025-09-16T04:14:23.942105Z",
     "iopub.status.busy": "2025-09-16T04:14:23.941915Z",
     "iopub.status.idle": "2025-09-16T04:14:23.948200Z",
     "shell.execute_reply": "2025-09-16T04:14:23.947664Z"
    },
    "papermill": {
     "duration": 0.013561,
     "end_time": "2025-09-16T04:14:23.949146",
     "exception": false,
     "start_time": "2025-09-16T04:14:23.935585",
     "status": "completed"
    },
    "tags": []
   },
   "outputs": [
    {
     "name": "stdout",
     "output_type": "stream",
     "text": [
      "6  publications in the last day.\n"
     ]
    }
   ],
   "source": [
    "# redo for today\n",
    "days = 1\n",
    "res = list(get_last_n_days(dates, days))\n",
    "npub = len(res)\n",
    "print(len(res), f\" publications in the last day.\")\n",
    "\n",
    "carousel = create_carousel(npub)\n",
    "docs = ', '.join(['\"{0:s}\"'.format(k.split('/')[-1]) for k in res])\n",
    "slides = ', '.join([f'\"slide{k}\"' for k in range(1, npub + 1)])\n",
    "\n",
    "with open(\"daily_template.html\", \"r\") as tpl:\n",
    "    page = tpl.read()\n",
    "    page = page.replace(\"{%-- carousel:s --%}\", carousel)\\\n",
    "               .replace(\"{%-- suptitle:s --%}\",  \"Daily\" )\\\n",
    "               .replace(\"{%-- docs:s --%}\", docs)\\\n",
    "               .replace(\"{%-- slides:s --%}\", slides)\n",
    "    \n",
    "# print(carousel, docs, slides)\n",
    "# print(page)\n",
    "with open(\"_build/html/index_daily.html\", 'w') as fout:\n",
    "    fout.write(page)"
   ]
  },
  {
   "cell_type": "code",
   "execution_count": 15,
   "id": "00eece82",
   "metadata": {
    "execution": {
     "iopub.execute_input": "2025-09-16T04:14:23.961814Z",
     "iopub.status.busy": "2025-09-16T04:14:23.961629Z",
     "iopub.status.idle": "2025-09-16T04:14:23.967599Z",
     "shell.execute_reply": "2025-09-16T04:14:23.967052Z"
    },
    "papermill": {
     "duration": 0.013384,
     "end_time": "2025-09-16T04:14:23.968581",
     "exception": false,
     "start_time": "2025-09-16T04:14:23.955197",
     "status": "completed"
    },
    "scrolled": false,
    "tags": []
   },
   "outputs": [
    {
     "name": "stdout",
     "output_type": "stream",
     "text": [
      "6  6 publications selected.\n"
     ]
    }
   ],
   "source": [
    "# Create the flat grid of the last N papers (fixed number regardless of dates)\n",
    "from itertools import islice \n",
    "\n",
    "npub = 6\n",
    "res = [k[0] for k in (islice(reversed(sorted(dates, key=lambda x: x[1])), 6))]\n",
    "print(len(res), f\" {npub} publications selected.\")\n",
    "\n",
    "grid = create_grid(npub)\n",
    "docs = ', '.join(['\"{0:s}\"'.format(k.split('/')[-1]) for k in res])\n",
    "slides = ', '.join([f'\"slide{k}\"' for k in range(1, npub + 1)])\n",
    "\n",
    "with open(\"grid_template.html\", \"r\") as tpl:\n",
    "    page = tpl.read()\n",
    "    page = page.replace(\"{%-- grid-content:s --%}\", grid)\\\n",
    "               .replace(\"{%-- suptitle:s --%}\",  f\"Last {npub:,d} papers\" )\\\n",
    "               .replace(\"{%-- docs:s --%}\", docs)\\\n",
    "               .replace(\"{%-- slides:s --%}\", slides)\n",
    "    \n",
    "# print(grid, docs, slides)\n",
    "# print(page)\n",
    "with open(\"_build/html/index_npub_grid.html\", 'w') as fout:\n",
    "    fout.write(page)"
   ]
  }
 ],
 "metadata": {
  "kernelspec": {
   "display_name": "Python 3 (ipykernel)",
   "language": "python",
   "name": "python3"
  },
  "language_info": {
   "codemirror_mode": {
    "name": "ipython",
    "version": 3
   },
   "file_extension": ".py",
   "mimetype": "text/x-python",
   "name": "python",
   "nbconvert_exporter": "python",
   "pygments_lexer": "ipython3",
   "version": "3.9.23"
  },
  "papermill": {
   "default_parameters": {},
   "duration": 46.889228,
   "end_time": "2025-09-16T04:14:24.190591",
   "environment_variables": {},
   "exception": null,
   "input_path": "MPIA daily digest.ipynb",
   "output_path": "log.ipynb",
   "parameters": {},
   "start_time": "2025-09-16T04:13:37.301363",
   "version": "2.6.0"
  },
  "vscode": {
   "interpreter": {
    "hash": "aee8b7b246df8f9039afb4144a1f6fd8d2ca17a180786b69acc140d282b71a49"
   }
  },
  "widgets": {
   "application/vnd.jupyter.widget-state+json": {
    "state": {
     "1100fed9c8794526a2850b88d3e02e76": {
      "model_module": "@jupyter-widgets/controls",
      "model_module_version": "2.0.0",
      "model_name": "FloatProgressModel",
      "state": {
       "_dom_classes": [],
       "_model_module": "@jupyter-widgets/controls",
       "_model_module_version": "2.0.0",
       "_model_name": "FloatProgressModel",
       "_view_count": null,
       "_view_module": "@jupyter-widgets/controls",
       "_view_module_version": "2.0.0",
       "_view_name": "ProgressView",
       "bar_style": "success",
       "description": "",
       "description_allow_html": false,
       "layout": "IPY_MODEL_af90fa9aeb264d5a8f443b96fa5de114",
       "max": 8.0,
       "min": 0.0,
       "orientation": "horizontal",
       "style": "IPY_MODEL_71417d55a3164a48896d7b943bb389ff",
       "tabbable": null,
       "tooltip": null,
       "value": 8.0
      }
     },
     "2462c41aed4c423c9f7f926da2988078": {
      "model_module": "@jupyter-widgets/controls",
      "model_module_version": "2.0.0",
      "model_name": "HTMLModel",
      "state": {
       "_dom_classes": [],
       "_model_module": "@jupyter-widgets/controls",
       "_model_module_version": "2.0.0",
       "_model_name": "HTMLModel",
       "_view_count": null,
       "_view_module": "@jupyter-widgets/controls",
       "_view_module_version": "2.0.0",
       "_view_name": "HTMLView",
       "description": "",
       "description_allow_html": false,
       "layout": "IPY_MODEL_7e3f9c18460741c6a89fed1756f718d2",
       "placeholder": "​",
       "style": "IPY_MODEL_88cb3017f37c44f2b5e194e5a2bb552d",
       "tabbable": null,
       "tooltip": null,
       "value": "100%"
      }
     },
     "45e91cd75ada49cc924b4e5fb44a588b": {
      "model_module": "@jupyter-widgets/controls",
      "model_module_version": "2.0.0",
      "model_name": "HTMLModel",
      "state": {
       "_dom_classes": [],
       "_model_module": "@jupyter-widgets/controls",
       "_model_module_version": "2.0.0",
       "_model_name": "HTMLModel",
       "_view_count": null,
       "_view_module": "@jupyter-widgets/controls",
       "_view_module_version": "2.0.0",
       "_view_name": "HTMLView",
       "description": "",
       "description_allow_html": false,
       "layout": "IPY_MODEL_7021bcac3ff8480181ef3e54b99ec2aa",
       "placeholder": "​",
       "style": "IPY_MODEL_96f0d31c3efe453cb15a2dd875d853e8",
       "tabbable": null,
       "tooltip": null,
       "value": " 8/8 [00:19&lt;00:00,  2.29s/it]"
      }
     },
     "58a085f9dd9d412ebc8e243a3a4ef3a7": {
      "model_module": "@jupyter-widgets/base",
      "model_module_version": "2.0.0",
      "model_name": "LayoutModel",
      "state": {
       "_model_module": "@jupyter-widgets/base",
       "_model_module_version": "2.0.0",
       "_model_name": "LayoutModel",
       "_view_count": null,
       "_view_module": "@jupyter-widgets/base",
       "_view_module_version": "2.0.0",
       "_view_name": "LayoutView",
       "align_content": null,
       "align_items": null,
       "align_self": null,
       "border_bottom": null,
       "border_left": null,
       "border_right": null,
       "border_top": null,
       "bottom": null,
       "display": null,
       "flex": null,
       "flex_flow": null,
       "grid_area": null,
       "grid_auto_columns": null,
       "grid_auto_flow": null,
       "grid_auto_rows": null,
       "grid_column": null,
       "grid_gap": null,
       "grid_row": null,
       "grid_template_areas": null,
       "grid_template_columns": null,
       "grid_template_rows": null,
       "height": null,
       "justify_content": null,
       "justify_items": null,
       "left": null,
       "margin": null,
       "max_height": null,
       "max_width": null,
       "min_height": null,
       "min_width": null,
       "object_fit": null,
       "object_position": null,
       "order": null,
       "overflow": null,
       "padding": null,
       "right": null,
       "top": null,
       "visibility": null,
       "width": null
      }
     },
     "7021bcac3ff8480181ef3e54b99ec2aa": {
      "model_module": "@jupyter-widgets/base",
      "model_module_version": "2.0.0",
      "model_name": "LayoutModel",
      "state": {
       "_model_module": "@jupyter-widgets/base",
       "_model_module_version": "2.0.0",
       "_model_name": "LayoutModel",
       "_view_count": null,
       "_view_module": "@jupyter-widgets/base",
       "_view_module_version": "2.0.0",
       "_view_name": "LayoutView",
       "align_content": null,
       "align_items": null,
       "align_self": null,
       "border_bottom": null,
       "border_left": null,
       "border_right": null,
       "border_top": null,
       "bottom": null,
       "display": null,
       "flex": null,
       "flex_flow": null,
       "grid_area": null,
       "grid_auto_columns": null,
       "grid_auto_flow": null,
       "grid_auto_rows": null,
       "grid_column": null,
       "grid_gap": null,
       "grid_row": null,
       "grid_template_areas": null,
       "grid_template_columns": null,
       "grid_template_rows": null,
       "height": null,
       "justify_content": null,
       "justify_items": null,
       "left": null,
       "margin": null,
       "max_height": null,
       "max_width": null,
       "min_height": null,
       "min_width": null,
       "object_fit": null,
       "object_position": null,
       "order": null,
       "overflow": null,
       "padding": null,
       "right": null,
       "top": null,
       "visibility": null,
       "width": null
      }
     },
     "71417d55a3164a48896d7b943bb389ff": {
      "model_module": "@jupyter-widgets/controls",
      "model_module_version": "2.0.0",
      "model_name": "ProgressStyleModel",
      "state": {
       "_model_module": "@jupyter-widgets/controls",
       "_model_module_version": "2.0.0",
       "_model_name": "ProgressStyleModel",
       "_view_count": null,
       "_view_module": "@jupyter-widgets/base",
       "_view_module_version": "2.0.0",
       "_view_name": "StyleView",
       "bar_color": null,
       "description_width": ""
      }
     },
     "7e3f9c18460741c6a89fed1756f718d2": {
      "model_module": "@jupyter-widgets/base",
      "model_module_version": "2.0.0",
      "model_name": "LayoutModel",
      "state": {
       "_model_module": "@jupyter-widgets/base",
       "_model_module_version": "2.0.0",
       "_model_name": "LayoutModel",
       "_view_count": null,
       "_view_module": "@jupyter-widgets/base",
       "_view_module_version": "2.0.0",
       "_view_name": "LayoutView",
       "align_content": null,
       "align_items": null,
       "align_self": null,
       "border_bottom": null,
       "border_left": null,
       "border_right": null,
       "border_top": null,
       "bottom": null,
       "display": null,
       "flex": null,
       "flex_flow": null,
       "grid_area": null,
       "grid_auto_columns": null,
       "grid_auto_flow": null,
       "grid_auto_rows": null,
       "grid_column": null,
       "grid_gap": null,
       "grid_row": null,
       "grid_template_areas": null,
       "grid_template_columns": null,
       "grid_template_rows": null,
       "height": null,
       "justify_content": null,
       "justify_items": null,
       "left": null,
       "margin": null,
       "max_height": null,
       "max_width": null,
       "min_height": null,
       "min_width": null,
       "object_fit": null,
       "object_position": null,
       "order": null,
       "overflow": null,
       "padding": null,
       "right": null,
       "top": null,
       "visibility": null,
       "width": null
      }
     },
     "821ad22d997345c3bdbd24ef359b1872": {
      "model_module": "@jupyter-widgets/controls",
      "model_module_version": "2.0.0",
      "model_name": "HBoxModel",
      "state": {
       "_dom_classes": [],
       "_model_module": "@jupyter-widgets/controls",
       "_model_module_version": "2.0.0",
       "_model_name": "HBoxModel",
       "_view_count": null,
       "_view_module": "@jupyter-widgets/controls",
       "_view_module_version": "2.0.0",
       "_view_name": "HBoxView",
       "box_style": "",
       "children": [
        "IPY_MODEL_2462c41aed4c423c9f7f926da2988078",
        "IPY_MODEL_1100fed9c8794526a2850b88d3e02e76",
        "IPY_MODEL_45e91cd75ada49cc924b4e5fb44a588b"
       ],
       "layout": "IPY_MODEL_58a085f9dd9d412ebc8e243a3a4ef3a7",
       "tabbable": null,
       "tooltip": null
      }
     },
     "88cb3017f37c44f2b5e194e5a2bb552d": {
      "model_module": "@jupyter-widgets/controls",
      "model_module_version": "2.0.0",
      "model_name": "HTMLStyleModel",
      "state": {
       "_model_module": "@jupyter-widgets/controls",
       "_model_module_version": "2.0.0",
       "_model_name": "HTMLStyleModel",
       "_view_count": null,
       "_view_module": "@jupyter-widgets/base",
       "_view_module_version": "2.0.0",
       "_view_name": "StyleView",
       "background": null,
       "description_width": "",
       "font_size": null,
       "text_color": null
      }
     },
     "96f0d31c3efe453cb15a2dd875d853e8": {
      "model_module": "@jupyter-widgets/controls",
      "model_module_version": "2.0.0",
      "model_name": "HTMLStyleModel",
      "state": {
       "_model_module": "@jupyter-widgets/controls",
       "_model_module_version": "2.0.0",
       "_model_name": "HTMLStyleModel",
       "_view_count": null,
       "_view_module": "@jupyter-widgets/base",
       "_view_module_version": "2.0.0",
       "_view_name": "StyleView",
       "background": null,
       "description_width": "",
       "font_size": null,
       "text_color": null
      }
     },
     "af90fa9aeb264d5a8f443b96fa5de114": {
      "model_module": "@jupyter-widgets/base",
      "model_module_version": "2.0.0",
      "model_name": "LayoutModel",
      "state": {
       "_model_module": "@jupyter-widgets/base",
       "_model_module_version": "2.0.0",
       "_model_name": "LayoutModel",
       "_view_count": null,
       "_view_module": "@jupyter-widgets/base",
       "_view_module_version": "2.0.0",
       "_view_name": "LayoutView",
       "align_content": null,
       "align_items": null,
       "align_self": null,
       "border_bottom": null,
       "border_left": null,
       "border_right": null,
       "border_top": null,
       "bottom": null,
       "display": null,
       "flex": null,
       "flex_flow": null,
       "grid_area": null,
       "grid_auto_columns": null,
       "grid_auto_flow": null,
       "grid_auto_rows": null,
       "grid_column": null,
       "grid_gap": null,
       "grid_row": null,
       "grid_template_areas": null,
       "grid_template_columns": null,
       "grid_template_rows": null,
       "height": null,
       "justify_content": null,
       "justify_items": null,
       "left": null,
       "margin": null,
       "max_height": null,
       "max_width": null,
       "min_height": null,
       "min_width": null,
       "object_fit": null,
       "object_position": null,
       "order": null,
       "overflow": null,
       "padding": null,
       "right": null,
       "top": null,
       "visibility": null,
       "width": null
      }
     }
    },
    "version_major": 2,
    "version_minor": 0
   }
  }
 },
 "nbformat": 4,
 "nbformat_minor": 5
}