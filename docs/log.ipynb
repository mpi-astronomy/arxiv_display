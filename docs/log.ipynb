{
 "cells": [
  {
   "cell_type": "markdown",
   "id": "92bcb855",
   "metadata": {
    "papermill": {
     "duration": 0.004704,
     "end_time": "2023-03-20T04:08:19.232737",
     "exception": false,
     "start_time": "2023-03-20T04:08:19.228033",
     "status": "completed"
    },
    "tags": []
   },
   "source": [
    "# MPIA Arxiv on Deck 2\n",
    "\n",
    "Contains the steps to produce the paper extractions."
   ]
  },
  {
   "cell_type": "code",
   "execution_count": 1,
   "id": "3a0d6e11",
   "metadata": {
    "execution": {
     "iopub.execute_input": "2023-03-20T04:08:19.242095Z",
     "iopub.status.busy": "2023-03-20T04:08:19.241548Z",
     "iopub.status.idle": "2023-03-20T04:08:19.452706Z",
     "shell.execute_reply": "2023-03-20T04:08:19.452098Z"
    },
    "papermill": {
     "duration": 0.217692,
     "end_time": "2023-03-20T04:08:19.454570",
     "exception": false,
     "start_time": "2023-03-20T04:08:19.236878",
     "status": "completed"
    },
    "tags": []
   },
   "outputs": [],
   "source": [
    "# Imports\n",
    "import os\n",
    "from IPython.display import Markdown, display\n",
    "from tqdm.notebook import tqdm\n",
    "import warnings\n",
    "from PIL import Image \n",
    "\n",
    "# requires arxiv_on_deck_2\n",
    "\n",
    "from arxiv_on_deck_2.arxiv2 import (get_new_papers, \n",
    "                                    get_paper_from_identifier,\n",
    "                                    retrieve_document_source, \n",
    "                                    get_markdown_badge)\n",
    "from arxiv_on_deck_2 import (latex,\n",
    "                             latex_bib,\n",
    "                             mpia,\n",
    "                             highlight_authors_in_list)\n",
    "\n",
    "# Sometimes images are really big\n",
    "Image.MAX_IMAGE_PIXELS = 1000000000 "
   ]
  },
  {
   "cell_type": "code",
   "execution_count": 2,
   "id": "22aa9d44",
   "metadata": {
    "execution": {
     "iopub.execute_input": "2023-03-20T04:08:19.463685Z",
     "iopub.status.busy": "2023-03-20T04:08:19.463237Z",
     "iopub.status.idle": "2023-03-20T04:08:19.467848Z",
     "shell.execute_reply": "2023-03-20T04:08:19.467230Z"
    },
    "papermill": {
     "duration": 0.010917,
     "end_time": "2023-03-20T04:08:19.469431",
     "exception": false,
     "start_time": "2023-03-20T04:08:19.458514",
     "status": "completed"
    },
    "tags": []
   },
   "outputs": [],
   "source": [
    "# Some useful definitions.\n",
    "\n",
    "class AffiliationWarning(UserWarning):\n",
    "    pass\n",
    "\n",
    "class AffiliationError(RuntimeError):\n",
    "    pass\n",
    "\n",
    "def validation(source: str):\n",
    "    \"\"\"Raises error paper during parsing of source file\n",
    "    \n",
    "    Allows checks before parsing TeX code.\n",
    "    \n",
    "    Raises AffiliationWarning\n",
    "    \"\"\"\n",
    "    check = mpia.affiliation_verifications(source, verbose=True)\n",
    "    if check is not True:\n",
    "        raise AffiliationError(\"mpia.affiliation_verifications: \" + check)\n",
    "\n",
    "        \n",
    "warnings.simplefilter('always', AffiliationWarning)"
   ]
  },
  {
   "cell_type": "code",
   "execution_count": 3,
   "id": "14622700",
   "metadata": {
    "execution": {
     "iopub.execute_input": "2023-03-20T04:08:19.477669Z",
     "iopub.status.busy": "2023-03-20T04:08:19.477459Z",
     "iopub.status.idle": "2023-03-20T04:08:19.480898Z",
     "shell.execute_reply": "2023-03-20T04:08:19.480320Z"
    },
    "papermill": {
     "duration": 0.009279,
     "end_time": "2023-03-20T04:08:19.482446",
     "exception": false,
     "start_time": "2023-03-20T04:08:19.473167",
     "status": "completed"
    },
    "tags": []
   },
   "outputs": [],
   "source": [
    "# additional CSS to consider. \n",
    "# TODO: Current into each exported file. \n",
    "#       This should be set once into the webpages directly.\n",
    "#       With only the class/id definitions in the .md files.\n",
    "\n",
    "debug_html = \"\"\"\n",
    "<style>\n",
    "#wrap{ overflow:auto; }\n",
    "#fig1{ background:yellow; width:100%; float:left; padding:5px;  }\n",
    "#fig2{ background:red; width:50%; float:left; clear:left; padding:5px;  }\n",
    "#fig3{ background:green; width:50%; float:left; padding:5px;   }\n",
    ".macros{ background:yellow; visibility:visible;}\n",
    "h1 {margin: 0 0 0 0;}\n",
    "mark {background-color:#fff3b6;}\n",
    "img {object-fit:contain; max-height:250px; display:inline-block; text-align: center;}\n",
    "</style>\n",
    "\"\"\" \n",
    "html = \"\"\"\n",
    "<style>\n",
    "#wrap{ overflow:auto; }\n",
    "#fig1{ width:100%; float:left; padding: 5px;  }\n",
    "#fig2{ width:50%; float:left; clear:left; padding: 5px;  }\n",
    "#fig3{ width:50%; float:left; padding: 5px;  }\n",
    ".macros{ visibility:hidden; height:0px; }\n",
    "h1 {margin: 0em 0 0 0;}\n",
    "mark {background-color:#fff3b6;}\n",
    "img {object-fit:contain; max-height:250px; display:inline-block; text-align: center;}\n",
    "</style>\n",
    "\"\"\""
   ]
  },
  {
   "cell_type": "markdown",
   "id": "14bd6310",
   "metadata": {
    "papermill": {
     "duration": 0.003575,
     "end_time": "2023-03-20T04:08:19.489667",
     "exception": false,
     "start_time": "2023-03-20T04:08:19.486092",
     "status": "completed"
    },
    "tags": []
   },
   "source": [
    "## get list of arxiv paper candidates\n",
    "\n",
    "We use the MPIA mitarbeiter list webpage from mpia.de to get author names\n",
    "We then get all new papers from Arxiv and match authors"
   ]
  },
  {
   "cell_type": "code",
   "execution_count": 4,
   "id": "2645e73a",
   "metadata": {
    "execution": {
     "iopub.execute_input": "2023-03-20T04:08:19.497809Z",
     "iopub.status.busy": "2023-03-20T04:08:19.497611Z",
     "iopub.status.idle": "2023-03-20T04:08:43.217415Z",
     "shell.execute_reply": "2023-03-20T04:08:43.215926Z"
    },
    "papermill": {
     "duration": 23.725623,
     "end_time": "2023-03-20T04:08:43.218963",
     "exception": false,
     "start_time": "2023-03-20T04:08:19.493340",
     "status": "completed"
    },
    "tags": []
   },
   "outputs": [
    {
     "name": "stdout",
     "output_type": "stream",
     "text": [
      "Arxiv has 47 new papers today\n",
      "          9 with possible author matches\n"
     ]
    }
   ],
   "source": [
    "# get list from MPIA website\n",
    "# it automatically filters identified non-scientists :func:`mpia.filter_non_scientists`\n",
    "mpia_authors = mpia.get_mpia_mitarbeiter_list()\n",
    "new_papers = get_new_papers()\n",
    "# add manual references\n",
    "add_paper_refs = []\n",
    "new_papers.extend([get_paper_from_identifier(k) for k in add_paper_refs])\n",
    "\n",
    "# select only papers with matching author names and highlight authors\n",
    "hl_list = [k[0] for k in mpia_authors]\n",
    "\n",
    "candidates = []\n",
    "for paperk in new_papers:\n",
    "    hl_authors = highlight_authors_in_list(paperk['authors'], hl_list)\n",
    "    matches = [(hl, orig) for hl, orig in zip(hl_authors, paperk['authors']) if 'mark' in hl]\n",
    "    paperk['authors'] = hl_authors\n",
    "    if matches:\n",
    "        candidates.append(paperk)\n",
    "print(\"\"\"Arxiv has {0:,d} new papers today\"\"\".format(len(new_papers)))        \n",
    "print(\"\"\"          {0:,d} with possible author matches\"\"\".format(len(candidates)))"
   ]
  },
  {
   "cell_type": "markdown",
   "id": "3543b34a",
   "metadata": {
    "papermill": {
     "duration": 0.004175,
     "end_time": "2023-03-20T04:08:43.227296",
     "exception": false,
     "start_time": "2023-03-20T04:08:43.223121",
     "status": "completed"
    },
    "tags": []
   },
   "source": [
    "# Parse sources and generate relevant outputs\n",
    "\n",
    "From the candidates, we do the following steps:\n",
    "* get their tarball from ArXiv (and extract data)\n",
    "* find the main .tex file: find one with \\documentclass{...} (sometimes it's non trivial)\n",
    "* Check affiliations with :func:`validation`, which uses :func:`mpia.affiliation_verifications`\n",
    "* If passing the affiliations: we parse the .tex source\n",
    "   * inject sub-documents into the main (flatten the main document)\n",
    "   * parse structure, extract information (title, abstract, authors, figures...)\n",
    "   * handles `\\graphicspath` if provided\n",
    "* Generate the .md document."
   ]
  },
  {
   "cell_type": "code",
   "execution_count": 5,
   "id": "9576b79e",
   "metadata": {
    "execution": {
     "iopub.execute_input": "2023-03-20T04:08:43.236098Z",
     "iopub.status.busy": "2023-03-20T04:08:43.235673Z",
     "iopub.status.idle": "2023-03-20T04:09:09.336544Z",
     "shell.execute_reply": "2023-03-20T04:09:09.335917Z"
    },
    "papermill": {
     "duration": 26.107342,
     "end_time": "2023-03-20T04:09:09.338465",
     "exception": false,
     "start_time": "2023-03-20T04:08:43.231123",
     "status": "completed"
    },
    "scrolled": false,
    "tags": []
   },
   "outputs": [
    {
     "data": {
      "application/vnd.jupyter.widget-view+json": {
       "model_id": "400e948de7d545ba8cebb34a4fa486eb",
       "version_major": 2,
       "version_minor": 0
      },
      "text/plain": [
       "  0%|          | 0/8 [00:00<?, ?it/s]"
      ]
     },
     "metadata": {},
     "output_type": "display_data"
    },
    {
     "name": "stdout",
     "output_type": "stream",
     "text": [
      "Retrieving document from  https://arxiv.org/e-print/2303.09570\n"
     ]
    },
    {
     "name": "stdout",
     "output_type": "stream",
     "text": [
      "extracting tarball to tmp_2303.09570..."
     ]
    },
    {
     "name": "stdout",
     "output_type": "stream",
     "text": [
      " done.\n"
     ]
    },
    {
     "name": "stderr",
     "output_type": "stream",
     "text": [
      "/opt/hostedtoolcache/Python/3.9.16/x64/lib/python3.9/site-packages/IPython/core/interactiveshell.py:3460: LatexWarning: Multiple tex files.\n",
      "\n",
      "  exec(code_obj, self.user_global_ns, self.user_ns)\n",
      "/opt/hostedtoolcache/Python/3.9.16/x64/lib/python3.9/site-packages/IPython/core/interactiveshell.py:3460: LatexWarning: Found documentclass in tmp_2303.09570/clearsurvey.tex\n",
      "\n",
      "  exec(code_obj, self.user_global_ns, self.user_ns)\n",
      "/opt/hostedtoolcache/Python/3.9.16/x64/lib/python3.9/site-packages/arxiv_on_deck_2/latex.py:361: LatexWarning: Latex injecting: 'defs' from 'tmp_2303.09570/defs.tex'\n",
      "  warnings.warn(LatexWarning(f\"Latex injecting: '{ext}' from '{subsource}'\"))\n"
     ]
    },
    {
     "name": "stderr",
     "output_type": "stream",
     "text": [
      "/opt/hostedtoolcache/Python/3.9.16/x64/lib/python3.9/site-packages/arxiv_on_deck_2/latex.py:120: LatexWarning: attempting recovering figure GS1_49742_Ha_compare.pdf\n",
      "  warnings.warn(LatexWarning(f'attempting recovering figure {image}'))\n",
      "/tmp/ipykernel_2077/4289671964.py:41: LatexWarning: 2303.09570 did not run properly\n",
      "Could not find figure GS1_49742_Ha_compare.pdf\n",
      "  warnings.warn(latex.LatexWarning(f\"{paper_id:s} did not run properly\\n\" +\n"
     ]
    },
    {
     "name": "stdout",
     "output_type": "stream",
     "text": [
      "Retrieving document from  https://arxiv.org/e-print/2303.09637\n"
     ]
    },
    {
     "name": "stdout",
     "output_type": "stream",
     "text": [
      "extracting tarball to tmp_2303.09637..."
     ]
    },
    {
     "name": "stdout",
     "output_type": "stream",
     "text": [
      " done.\n",
      "Retrieving document from  https://arxiv.org/e-print/2303.09710\n"
     ]
    },
    {
     "name": "stdout",
     "output_type": "stream",
     "text": [
      "extracting tarball to tmp_2303.09710... done.\n",
      "Retrieving document from  https://arxiv.org/e-print/2303.09714\n"
     ]
    },
    {
     "name": "stdout",
     "output_type": "stream",
     "text": [
      "extracting tarball to tmp_2303.09714..."
     ]
    },
    {
     "name": "stdout",
     "output_type": "stream",
     "text": [
      " done.\n",
      "Retrieving document from  https://arxiv.org/e-print/2303.09762\n"
     ]
    },
    {
     "name": "stdout",
     "output_type": "stream",
     "text": [
      "extracting tarball to tmp_2303.09762..."
     ]
    },
    {
     "name": "stdout",
     "output_type": "stream",
     "text": [
      " done.\n",
      "Retrieving document from  https://arxiv.org/e-print/2303.09836\n"
     ]
    },
    {
     "name": "stdout",
     "output_type": "stream",
     "text": [
      "extracting tarball to tmp_2303.09836..."
     ]
    },
    {
     "name": "stdout",
     "output_type": "stream",
     "text": [
      " done.\n",
      "Retrieving document from  https://arxiv.org/e-print/2303.09845\n"
     ]
    },
    {
     "name": "stdout",
     "output_type": "stream",
     "text": [
      "extracting tarball to tmp_2303.09845... done.\n",
      "Retrieving document from  https://arxiv.org/e-print/2303.09876\n"
     ]
    },
    {
     "name": "stdout",
     "output_type": "stream",
     "text": [
      "extracting tarball to tmp_2303.09876..."
     ]
    },
    {
     "name": "stdout",
     "output_type": "stream",
     "text": [
      " done.\n"
     ]
    }
   ],
   "source": [
    "documents = []\n",
    "failed = []\n",
    "for paper in tqdm(candidates[:-1]):\n",
    "    paper_id = paper['identifier'].lower().replace('arxiv:', '')\n",
    "    \n",
    "    folder = f'tmp_{paper_id}'\n",
    "\n",
    "    try:\n",
    "        if not os.path.isdir(folder):\n",
    "            folder = retrieve_document_source(f\"{paper_id}\", f'tmp_{paper_id}')\n",
    "        \n",
    "        try:\n",
    "            doc = latex.LatexDocument(folder, validation=validation)    \n",
    "        except AffiliationError as affilerror:\n",
    "            msg = f\"ArXiv:{paper_id:s} is not an MPIA paper... \" + str(affilerror)\n",
    "            failed.append((paper, \"affiliation error: \" + str(affilerror) ))\n",
    "            continue\n",
    "        \n",
    "        # Hack because sometimes author parsing does not work well\n",
    "        if (len(doc.authors) != len(paper['authors'])):\n",
    "            doc._authors = paper['authors']\n",
    "        if (doc.abstract) in (None, ''):\n",
    "            doc._abstract = paper['abstract']\n",
    "            \n",
    "        doc.comment = (get_markdown_badge(paper_id) + \n",
    "                       \"<mark>Appeared on: \" + paper['date'] + \"</mark> - \" +\n",
    "                       \"_\" + paper['comments'] + \"_\")\n",
    "        doc.highlight_authors_in_list(hl_list)\n",
    "\n",
    "        full_md = doc.generate_markdown_text()\n",
    "        \n",
    "        # replace citations\n",
    "        try:\n",
    "            bibdata = latex_bib.LatexBib.from_doc(doc)\n",
    "            full_md = latex_bib.replace_citations(full_md, bibdata)\n",
    "        except Exception as e:\n",
    "            print(e)\n",
    "        \n",
    "        documents.append((paper_id, full_md))\n",
    "    except Exception as e:\n",
    "        warnings.warn(latex.LatexWarning(f\"{paper_id:s} did not run properly\\n\" +\n",
    "                                         str(e)\n",
    "                                        ))\n",
    "        failed.append((paper, \"latex error \" + str(e)))"
   ]
  },
  {
   "cell_type": "markdown",
   "id": "2505a25c",
   "metadata": {
    "papermill": {
     "duration": 0.005212,
     "end_time": "2023-03-20T04:09:09.348923",
     "exception": false,
     "start_time": "2023-03-20T04:09:09.343711",
     "status": "completed"
    },
    "tags": []
   },
   "source": [
    "### Export the logs\n",
    "\n",
    "Throughout, we also keep track of the logs per paper. see `logs-{today date}.md` "
   ]
  },
  {
   "cell_type": "code",
   "execution_count": 6,
   "id": "d733828a",
   "metadata": {
    "execution": {
     "iopub.execute_input": "2023-03-20T04:09:09.361003Z",
     "iopub.status.busy": "2023-03-20T04:09:09.360501Z",
     "iopub.status.idle": "2023-03-20T04:09:09.381587Z",
     "shell.execute_reply": "2023-03-20T04:09:09.380964Z"
    },
    "papermill": {
     "duration": 0.028386,
     "end_time": "2023-03-20T04:09:09.383016",
     "exception": false,
     "start_time": "2023-03-20T04:09:09.354630",
     "status": "completed"
    },
    "scrolled": false,
    "tags": []
   },
   "outputs": [
    {
     "data": {
      "text/markdown": [
       "## Successful papers"
      ],
      "text/plain": [
       "<IPython.core.display.Markdown object>"
      ]
     },
     "metadata": {},
     "output_type": "display_data"
    },
    {
     "data": {
      "text/markdown": [
       "## Failed papers"
      ],
      "text/plain": [
       "<IPython.core.display.Markdown object>"
      ]
     },
     "metadata": {},
     "output_type": "display_data"
    },
    {
     "data": {
      "text/markdown": [
       "\n",
       "|||\n",
       "|---:|:---|\n",
       "| [![arXiv](https://img.shields.io/badge/arXiv-arXiv:2303.09637-b31b1b.svg)](https://arxiv.org/abs/arXiv:2303.09637) | **Origin of the diffuse 4-8 keV emission in M82**  |\n",
       "|| K. Iwasawa, et al. -- incl., <mark>M. A. Perez-Torres</mark> |\n",
       "|*Appeared on*| *2023-03-20*|\n",
       "|*Comments*| *19 pages, accepted for publication in Astronomy & Astrophysics*|\n",
       "|**Abstract**| We present the first spatially resolved, X-ray spectroscopic study of the 4-8 keV diffuse emission found in the central part of the nearby starburst galaxy M82 on a few arcsecond scales. The new details that we see allow a number of important conclusions to be drawn on the nature of the hot gas and its origin as well as feedback on the ISM. We use archival data from Chandra with an exposure time of 570 ks. The Fexxv emission at 6.7 keV, expected from metal-enriched hot gas, is enhanced only in a limited area close to the starburst disc and is weak or almost absent over the rest of the diffuse emission, resulting in spatial variations in EW from <0.1 keV to 1.9 keV. This shows the presence of non-thermal emission due to inverse Compton scattering of the FIR photons by radio emitting cosmic ray electrons. The morphological resemblance between the diffuse X-ray, radio, and FIR emission maps supports this concept. Our decomposition of the diffuse emission spectrum indicates that ~70% of the 4-8 keV luminosity originates from the inverse Compton emission. The metal-rich hot gas with kT~5 keV makes a minor contribution to the 4-8 keV continuum, but it accounts for the majority of the observed Fexxv line. This hot gas appears to emerge from the circumnuclear starburst ring and fill the galactic chimneys identified as mid-infrared and radio emission voids. The energetics argument suggests that much of the supernova energy in the starburst site has gone into creating the chimneys and is transported to the halo. We argue that a hot, rarefied environment produced by strong supernova feedback results in displacing the brightest X-ray and radio supernova remnants which are instead found to reside in GMC. We find a faint X-ray source with a radio counterpart, close to the kinematic centre of the galaxy and we carefully examine the possibility that this source is a low-luminosity AGN in ADAF phase. |\n",
       "|<p style=\"color:green\"> **ERROR** </p>| <p style=\"color:green\">affiliation error: mpia.affiliation_verifications: 'Heidelberg' keyword not found.</p> |"
      ],
      "text/plain": [
       "<IPython.core.display.Markdown object>"
      ]
     },
     "metadata": {},
     "output_type": "display_data"
    },
    {
     "data": {
      "text/markdown": [
       "\n",
       "|||\n",
       "|---:|:---|\n",
       "| [![arXiv](https://img.shields.io/badge/arXiv-arXiv:2303.09710-b31b1b.svg)](https://arxiv.org/abs/arXiv:2303.09710) | **The Analyses of Globular Clusters Pulsars and Their Detection Efficiency**  |\n",
       "|| De-Jiang Yin, et al. -- incl., <mark>Li-Yun Zhang</mark>, <mark>Bao-Da Li</mark>, <mark>Ming-Hui Li</mark> |\n",
       "|*Appeared on*| *2023-03-20*|\n",
       "|*Comments*| *9 pages,5 figures, accepted by RAA, comments are always welcomed!*|\n",
       "|**Abstract**| Up to November 2022, 267 pulsars have been discovered in 36 globular clusters (GCs). In this paper, we present our studies on the distribution of GC pulsar parameters and the detection efficiency. The power law relation between the average of dispersion measure ($\\overline{\\rm DM}$) and dispersion measure difference ($\\Delta {\\rm DM}$) of known pulsars in GCs is $\\lg\\Delta {\\rm DM} \\propto 1.52 \\lg \\overline{\\rm DM}$. The sensitivity could be the key to find more pulsars. As a result, several years after the construction of a radio telescope, the GC pulsar number will be increased accordingly. We suggest that currently GCs in the southern hemisphere could have higher possibilities to find new pulsars. |\n",
       "|<p style=\"color:green\"> **ERROR** </p>| <p style=\"color:green\">affiliation error: mpia.affiliation_verifications: 'Heidelberg' keyword not found.</p> |"
      ],
      "text/plain": [
       "<IPython.core.display.Markdown object>"
      ]
     },
     "metadata": {},
     "output_type": "display_data"
    },
    {
     "data": {
      "text/markdown": [
       "\n",
       "|||\n",
       "|---:|:---|\n",
       "| [![arXiv](https://img.shields.io/badge/arXiv-arXiv:2303.09714-b31b1b.svg)](https://arxiv.org/abs/arXiv:2303.09714) | **Periodic X-ray sources in the Massive Globular Cluster 47 Tucanae:  Evidence for Dynamically Formed Cataclysmic Variables**  |\n",
       "|| Tong Bao, <mark>Zhiyuan Li</mark>, Zhongqun Cheng |\n",
       "|*Appeared on*| *2023-03-20*|\n",
       "|*Comments*| *20 pages, 10 figures, Accepted for publication in MNRAS*|\n",
       "|**Abstract**| We present a systematic study of periodic X-ray sources in the massive globular cluster 47 Tuc, utilizing deep archival Chandra observations that resolve the cluster core and recently available eROSITA observations that cover the cluster outskirt. By applying the Gregory-Loredo algorithm, we detect 20 periodic signals among 18 X-ray sources, ranging between 205-95731 second. Fourteen periods are newly discovered in the X-ray band. We classify these periodic sources into four quiescent low-mass X-ray binaries, one milli-second pulsar, two coronally-active binaries and eleven cataclysmic variables (CVs), based on their X-ray temporal and spectral properties, as well as multi-band information. Despite a small sample subject to potential selection bias against faint and non-magnetic CVs, the 11 CVs together define an orbital period distribution significantly different from that of the CVs previously found in the solar neighborhood and the Galactic bulge. In particular, there exists in 47 Tuc an apparent paucity of short-period CVs below the period gap, which might be attributed to a high occupation fraction of non-magnetic CVs. Also characteristic of the 47 Tuc CVs are an overabundance of long-period CVs with a subgiant donor, a substantial fraction of CVs within the period gap, and a steep radial surface density profile. These are best understood as a group of CVs having recently formed via dynamical interactions in the dense cluster core. Despite sufficient sensitivity of the X-ray data, only one periodic source is found between one-third of the half-light radius and the tidal radius, the nature of which is unclear. |\n",
       "|<p style=\"color:green\"> **ERROR** </p>| <p style=\"color:green\">affiliation error: mpia.affiliation_verifications: 'Heidelberg' keyword not found.</p> |"
      ],
      "text/plain": [
       "<IPython.core.display.Markdown object>"
      ]
     },
     "metadata": {},
     "output_type": "display_data"
    },
    {
     "data": {
      "text/markdown": [
       "\n",
       "|||\n",
       "|---:|:---|\n",
       "| [![arXiv](https://img.shields.io/badge/arXiv-arXiv:2303.09762-b31b1b.svg)](https://arxiv.org/abs/arXiv:2303.09762) | **Aemulus $ν$: Precise Predictions for Matter and Biased Tracer Power  Spectra in the Presence of Neutrinos**  |\n",
       "|| <mark>Joseph DeRose</mark>, et al. -- incl., <mark>Zhongxu Zhai</mark> |\n",
       "|*Appeared on*| *2023-03-20*|\n",
       "|*Comments*| *35 pages, 14 figures, to be submitted to JCAP*|\n",
       "|**Abstract**| We present the Aemulus $\\nu$ simulations: a suite of 150 $(1.05 h^{-1}\\rm Gpc)^3$ $N$-body simulations with a mass resolution of $3.51\\times 10^{10} \\frac{\\Omega_{cb}}{0.3} ~ h^{-1} M_{\\odot}$ in a $w\\nu$CDM cosmological parameter space. The simulations have been explicitly designed to span a broad range in $\\sigma_8$ to facilitate investigations of tension between large scale structure and cosmic microwave background cosmological probes. Neutrinos are treated as a second particle species to ensure accuracy to $0.5\\, \\rm eV$, the maximum neutrino mass that we have simulated. By employing Zel'dovich control variates, we increase the effective volume of our simulations by factors of $10-10^5$ depending on the statistic in question. As a first application of these simulations, we build new hybrid effective field theory and matter power spectrum surrogate models, demonstrating that they achieve $\\le 1\\%$ accuracy for $k\\le 1\\, h\\,\\rm Mpc^{-1}$ and $0\\le z \\le 3$, and $\\le 2\\%$ accuracy for $k\\le 4\\, h\\,\\rm Mpc^{-1}$ for the matter power spectrum. We publicly release the trained surrogate models, and estimates of the surrogate model errors in the hope that they will be broadly applicable to a range of cosmological analyses for many years to come. |\n",
       "|<p style=\"color:green\"> **ERROR** </p>| <p style=\"color:green\">affiliation error: mpia.affiliation_verifications: 'Heidelberg' keyword not found.</p> |"
      ],
      "text/plain": [
       "<IPython.core.display.Markdown object>"
      ]
     },
     "metadata": {},
     "output_type": "display_data"
    },
    {
     "data": {
      "text/markdown": [
       "\n",
       "|||\n",
       "|---:|:---|\n",
       "| [![arXiv](https://img.shields.io/badge/arXiv-arXiv:2303.09836-b31b1b.svg)](https://arxiv.org/abs/arXiv:2303.09836) | **An in-depth exploration of LAMOST Unknown spectra based on density  clustering**  |\n",
       "|| Haifeng Yang, et al. -- incl., <mark>Xujun Zhao</mark> |\n",
       "|*Appeared on*| *2023-03-20*|\n",
       "|*Comments*| *18 pages, 15 figures*|\n",
       "|**Abstract**| LAMOST (Large Sky Area Multi-Object Fiber Spectroscopic Telescope) has completed the observation of nearly 20 million celestial objects, including a class of spectra labeled `Unknown'. Besides low signal-to-noise ratio, these spectra often show some anomalous features that do not work well with current templates. In this paper, a total of 638,000 `Unknown' spectra from LAMOST DR5 are selected, and an unsupervised-based analytical framework of `Unknown' spectra named SA-Frame (Spectra Analysis-Frame) is provided to explore their origins from different perspectives. The SA-Frame is composed of three parts: NAPC-Spec clustering, characterization and origin analysis. First, NAPC-Spec(Nonparametric density clustering algorithm for spectra) characterizes different features in the \"unknown\" spectrum by adjusting the influence space and divergence distance to minimize the effects of noise and high dimensionality, resulting in 13 types. Second, characteristic extraction and representation of clustering results are carried out based on spectral lines and continuum, where these 13 types are characterized as regular spectra with low S/Ns, splicing problems, suspected galactic emission signals, contamination from city light and un-gregarious type respectively. Third, a preliminary analysis of their origins is made from the characteristics of the observational targets, contamination from the sky, and the working status of the instruments. These results would be valuable for improving the overall data quality of large-scale spectral surveys. |\n",
       "|<p style=\"color:green\"> **ERROR** </p>| <p style=\"color:green\">affiliation error: mpia.affiliation_verifications: 'Heidelberg' keyword not found.</p> |"
      ],
      "text/plain": [
       "<IPython.core.display.Markdown object>"
      ]
     },
     "metadata": {},
     "output_type": "display_data"
    },
    {
     "data": {
      "text/markdown": [
       "\n",
       "|||\n",
       "|---:|:---|\n",
       "| [![arXiv](https://img.shields.io/badge/arXiv-arXiv:2303.09845-b31b1b.svg)](https://arxiv.org/abs/arXiv:2303.09845) | **The `blazar sequence' in TeV band**  |\n",
       "|| Zhihao Ouyang, et al. -- incl., <mark>Zelin Li</mark> |\n",
       "|*Appeared on*| *2023-03-20*|\n",
       "|*Comments*| *19 pages, 4 figures and 4 tables. Accepted to APJ*|\n",
       "|**Abstract**| The `blazar sequence' has been proposed for more than 20 years, yet its nature is still unclear. In this work, for the first time, we expand this topic to the TeV band by using a sample of 58 TeV blazars including 48 blazars in the quiescent state and 21 blazars in the flaring state. We investigate the correlation between the TeV luminosity, which has been compensated for attenuation from extragalactic background light, and the synchrotron peak frequency. We note that there is no correlation between TeV luminosity and peak frequency in the quiescent state and a strong anti-correlation in the flaring state for the observed value. However, there is a strong positive correlation in both the quiescent state and the flaring state for the intrinsic value. This indicates that the blazar sequence is shown in the flaring state rather than in the quiescent state for the observed value and the blazar sequence is not present in both two states after removing the beaming effect. In addition, to confirm whether the beaming effect results in the blazar sequence, we compare the \\textit{Fermi} $\\gamma$-ray luminosity between the quiescent state and the flaring state. We find the \\textit{Fermi} $\\gamma$-ray luminosity in the flaring state is greater than that in the quiescent state and the Doppler factor in the flaring state is greater. We suggest the blazar sequence in the flaring state may be due to the stronger beaming effect. |\n",
       "|<p style=\"color:green\"> **ERROR** </p>| <p style=\"color:green\">affiliation error: mpia.affiliation_verifications: 'Heidelberg' keyword not found.</p> |"
      ],
      "text/plain": [
       "<IPython.core.display.Markdown object>"
      ]
     },
     "metadata": {},
     "output_type": "display_data"
    },
    {
     "data": {
      "text/markdown": [
       "\n",
       "|||\n",
       "|---:|:---|\n",
       "| [![arXiv](https://img.shields.io/badge/arXiv-arXiv:2303.09876-b31b1b.svg)](https://arxiv.org/abs/arXiv:2303.09876) | **Cosmology inference at the field level from biased tracers in  redshift-space**  |\n",
       "|| <mark>Julia Stadler</mark>, Fabian Schmidt, Martin Reinecke |\n",
       "|*Appeared on*| *2023-03-20*|\n",
       "|*Comments*| **|\n",
       "|**Abstract**| Cosmology inference of galaxy clustering at the field level with the EFT likelihood in principle allows for extracting all non-Gaussian information from quasi-linear scales, while robustly marginalizing over any astrophysical uncertainties. A pipeline in this spirit is implemented in the \\texttt{LEFTfield} code, which we extend in this work to describe the clustering of galaxies in redshift space. Our main additions are: the computation of the velocity field in the LPT gravity model, the fully nonlinear displacement of the evolved, biased density field to redshift space, and a systematic expansion of velocity bias. We test the resulting analysis pipeline by applying it to synthetic data sets with a known ground truth at increasing complexity: mock data generated from the perturbative forward model itself, sub-sampled matter particles, and dark matter halos in N-body simulations. By fixing the initial-time density contrast to the ground truth, while varying the growth rate $f$, bias coefficients and noise amplitudes, we perform a stringent set of checks. These show that indeed a systematic higher-order expansion of the velocity bias is required to infer a growth rate consistent with the ground truth within errors. Applied to dark matter halos, our analysis yields unbiased constraints on $f$ at the level of a few percent for a variety of halo masses at redshifts $z=0,\\,0.5,\\,1$ and for a broad range of cutoff scales $0.08\\,h/\\mathrm{Mpc} \\leq \\Lambda \\leq 0.20\\,h/\\mathrm{Mpc}$. Importantly, deviations between true and inferred growth rate exhibit the scaling with halo mass, redshift and cutoff that one expects based on the EFT of Large Scale Structure. Further, we obtain a robust detection of velocity bias through its effect on the redshift-space density field and are able to disentangle it from higher-derivative bias contributions. |\n",
       "|<p style=\"color:green\"> **ERROR** </p>| <p style=\"color:green\">affiliation error: mpia.affiliation_verifications: 'Heidelberg' keyword not found.</p> |"
      ],
      "text/plain": [
       "<IPython.core.display.Markdown object>"
      ]
     },
     "metadata": {},
     "output_type": "display_data"
    },
    {
     "data": {
      "text/markdown": [
       "\n",
       "|||\n",
       "|---:|:---|\n",
       "| [![arXiv](https://img.shields.io/badge/arXiv-arXiv:2303.09570-b31b1b.svg)](https://arxiv.org/abs/arXiv:2303.09570) | **CLEAR: Survey Overview, Data Analysis and Products**  |\n",
       "|| Raymond C. Simons, et al. -- incl., <mark>Ivelina G. Momcheva</mark> |\n",
       "|*Appeared on*| *2023-03-20*|\n",
       "|*Comments*| *Accepted in ApJS. 29 pages, 14 figures. The data products (1D + 2D spectra, emission line maps) and catalogs (photometric and spectroscopic catalogs of GOODS-N and GOODS-S) are available at this https URL*|\n",
       "|**Abstract**| We present an overview of the CANDELS Lyman-a Emission At Reionization (CLEAR) survey. CLEAR is a 130 orbit program of the Hubble Space Telescope using the Wide Field Camera 3 (WFC3) IR G102 grism. CLEAR targets 12 pointings divided between the GOODS-N and GOODS-S fields of the Cosmic Assembly Near-IR Deep Extragalactic Legacy Survey (CANDELS). Combined with existing spectroscopic data from other programs, the full CLEAR dataset includes spectroscopic imaging of these fields over 0.8-1.7 um. In this Paper, we describe the CLEAR survey, the survey strategy, the data acquisition, reduction, processing, and science products and catalogs released alongside this paper. The catalogs include emission line fluxes and redshifts derived from the combination of the photometry and grism spectroscopy for 6048 galaxies, primarily ranging from 0.2 < z < 3. We also provide an overview of CLEAR science goals and results. In conjunction with this Paper we provide links to electronic versions of the data products, including 1D + 2D extracted spectra and emission line maps. |\n",
       "|<p style=\"color:red\"> **ERROR** </p>| <p style=\"color:red\">latex error Could not find figure GS1_49742_Ha_compare.pdf</p> |"
      ],
      "text/plain": [
       "<IPython.core.display.Markdown object>"
      ]
     },
     "metadata": {},
     "output_type": "display_data"
    }
   ],
   "source": [
    "import datetime\n",
    "today = str(datetime.date.today())\n",
    "logfile = f\"_build/html/logs/log-{today}.md\"\n",
    "\n",
    "\n",
    "with open(logfile, 'w') as logs:\n",
    "    # Success\n",
    "    logs.write(f'# Arxiv on Deck 2: Logs - {today}\\n\\n')\n",
    "    logs.write(\"\"\"* Arxiv had {0:,d} new papers\\n\"\"\".format(len(new_papers)))\n",
    "    logs.write(\"\"\"    * {0:,d} with possible author matches\\n\\n\"\"\".format(len(candidates)))\n",
    "    logs.write(\"## Sucessful papers\\n\\n\")\n",
    "    display(Markdown(\"## Successful papers\"))\n",
    "    success = [k[0] for k in documents]\n",
    "    for candid in candidates:\n",
    "        if candid['identifier'].split(':')[-1] in success:\n",
    "            display(candid)\n",
    "            logs.write(candid.generate_markdown_text() + '\\n\\n')\n",
    "\n",
    "    ## failed\n",
    "    logs.write(\"## Failed papers\\n\\n\")\n",
    "    display(Markdown(\"## Failed papers\"))\n",
    "    failed = sorted(failed, key=lambda x: x[1])\n",
    "    current_reason = \"\"\n",
    "    for paper, reason in failed:\n",
    "        if 'affiliation' in reason:\n",
    "            color = 'green'\n",
    "        else:\n",
    "            color = 'red'\n",
    "        data = Markdown(\n",
    "                paper.generate_markdown_text() + \n",
    "                f'\\n|<p style=\"color:{color:s}\"> **ERROR** </p>| <p style=\"color:{color:s}\">{reason:s}</p> |'\n",
    "               )\n",
    "        if reason != current_reason:\n",
    "            logs.write(f'### {reason:s} \\n\\n')\n",
    "            current_reason = reason\n",
    "        logs.write(data.data + '\\n\\n')\n",
    "        \n",
    "        # only display here the important errors (all in logs)\n",
    "        # if color in ('red',):\n",
    "        display(data)"
   ]
  },
  {
   "cell_type": "markdown",
   "id": "472d20ee",
   "metadata": {
    "papermill": {
     "duration": 0.005953,
     "end_time": "2023-03-20T04:09:09.395122",
     "exception": false,
     "start_time": "2023-03-20T04:09:09.389169",
     "status": "completed"
    },
    "tags": []
   },
   "source": [
    "## Export documents\n",
    "\n",
    "We now write the .md files and export relevant images"
   ]
  },
  {
   "cell_type": "code",
   "execution_count": 7,
   "id": "d426aed9",
   "metadata": {
    "execution": {
     "iopub.execute_input": "2023-03-20T04:09:09.408442Z",
     "iopub.status.busy": "2023-03-20T04:09:09.407916Z",
     "iopub.status.idle": "2023-03-20T04:09:09.414742Z",
     "shell.execute_reply": "2023-03-20T04:09:09.414270Z"
    },
    "papermill": {
     "duration": 0.015097,
     "end_time": "2023-03-20T04:09:09.416286",
     "exception": false,
     "start_time": "2023-03-20T04:09:09.401189",
     "status": "completed"
    },
    "tags": []
   },
   "outputs": [],
   "source": [
    "def export_markdown_summary(md: str, md_fname:str, directory: str):\n",
    "    \"\"\"Export MD document and associated relevant images\"\"\"\n",
    "    import os\n",
    "    import shutil\n",
    "    import re\n",
    "\n",
    "    if (os.path.exists(directory) and not os.path.isdir(directory)):\n",
    "        raise RuntimeError(f\"a non-directory file exists with name {directory:s}\")\n",
    "\n",
    "    if (not os.path.exists(directory)):\n",
    "        print(f\"creating directory {directory:s}\")\n",
    "        os.mkdir(directory)\n",
    "\n",
    "    fig_fnames = (re.compile(r'\\[Fig.*\\]\\((.*)\\)').findall(md) + \n",
    "                  re.compile(r'\\<img src=\"([^>\\s]*)\"[^>]*/>').findall(md))\n",
    "    for fname in fig_fnames:\n",
    "        if 'http' in fname:\n",
    "            # No need to copy online figures\n",
    "            continue\n",
    "        destdir = os.path.join(directory, os.path.dirname(fname))\n",
    "        destfname = os.path.join(destdir, os.path.basename(fname))\n",
    "        try:\n",
    "            os.makedirs(destdir)\n",
    "        except FileExistsError:\n",
    "            pass\n",
    "        shutil.copy(fname, destfname)\n",
    "    with open(os.path.join(directory, md_fname), 'w') as fout:\n",
    "        fout.write(md)\n",
    "    print(\"exported in \", os.path.join(directory, md_fname))\n",
    "    [print(\"    + \" + os.path.join(directory,fk)) for fk in fig_fnames]"
   ]
  },
  {
   "cell_type": "code",
   "execution_count": 8,
   "id": "014d04a4",
   "metadata": {
    "execution": {
     "iopub.execute_input": "2023-03-20T04:09:09.429330Z",
     "iopub.status.busy": "2023-03-20T04:09:09.429126Z",
     "iopub.status.idle": "2023-03-20T04:09:09.432030Z",
     "shell.execute_reply": "2023-03-20T04:09:09.431428Z"
    },
    "papermill": {
     "duration": 0.011213,
     "end_time": "2023-03-20T04:09:09.433523",
     "exception": false,
     "start_time": "2023-03-20T04:09:09.422310",
     "status": "completed"
    },
    "tags": []
   },
   "outputs": [],
   "source": [
    "for paper_id, md in documents:\n",
    "    export_markdown_summary(md, f\"{paper_id:s}.md\", '_build/html/')"
   ]
  },
  {
   "cell_type": "markdown",
   "id": "f087a0a7",
   "metadata": {
    "papermill": {
     "duration": 0.006026,
     "end_time": "2023-03-20T04:09:09.445699",
     "exception": false,
     "start_time": "2023-03-20T04:09:09.439673",
     "status": "completed"
    },
    "tags": []
   },
   "source": [
    "## Display the papers\n",
    "\n",
    "Not necessary but allows for a quick check."
   ]
  },
  {
   "cell_type": "code",
   "execution_count": 9,
   "id": "fd25f625",
   "metadata": {
    "execution": {
     "iopub.execute_input": "2023-03-20T04:09:09.459209Z",
     "iopub.status.busy": "2023-03-20T04:09:09.458677Z",
     "iopub.status.idle": "2023-03-20T04:09:09.462027Z",
     "shell.execute_reply": "2023-03-20T04:09:09.461560Z"
    },
    "papermill": {
     "duration": 0.011629,
     "end_time": "2023-03-20T04:09:09.463513",
     "exception": false,
     "start_time": "2023-03-20T04:09:09.451884",
     "status": "completed"
    },
    "scrolled": false,
    "tags": []
   },
   "outputs": [],
   "source": [
    "[display(Markdown(k[1])) for k in documents];"
   ]
  },
  {
   "cell_type": "markdown",
   "id": "873873a4",
   "metadata": {
    "papermill": {
     "duration": 0.006055,
     "end_time": "2023-03-20T04:09:09.475706",
     "exception": false,
     "start_time": "2023-03-20T04:09:09.469651",
     "status": "completed"
    },
    "tags": []
   },
   "source": [
    "# Create HTML index"
   ]
  },
  {
   "cell_type": "code",
   "execution_count": 10,
   "id": "cf665672",
   "metadata": {
    "execution": {
     "iopub.execute_input": "2023-03-20T04:09:09.489138Z",
     "iopub.status.busy": "2023-03-20T04:09:09.488579Z",
     "iopub.status.idle": "2023-03-20T04:09:09.497052Z",
     "shell.execute_reply": "2023-03-20T04:09:09.496394Z"
    },
    "papermill": {
     "duration": 0.016702,
     "end_time": "2023-03-20T04:09:09.498485",
     "exception": false,
     "start_time": "2023-03-20T04:09:09.481783",
     "status": "completed"
    },
    "tags": []
   },
   "outputs": [
    {
     "name": "stdout",
     "output_type": "stream",
     "text": [
      "200  publications files modified in the last 7 days.\n"
     ]
    }
   ],
   "source": [
    "from datetime import datetime, timedelta, timezone\n",
    "from glob import glob\n",
    "import os\n",
    "\n",
    "files = glob('_build/html/*.md')\n",
    "days = 7\n",
    "now = datetime.today()\n",
    "res = []\n",
    "for fk in files:\n",
    "    stat_result = os.stat(fk).st_ctime\n",
    "    modified = datetime.fromtimestamp(stat_result, tz=timezone.utc).replace(tzinfo=None)\n",
    "    delta = now.today() - modified\n",
    "    if delta <= timedelta(days=days):\n",
    "        res.append((delta.seconds, fk))\n",
    "res = [k[1] for k in reversed(sorted(res, key=lambda x:x[1]))]\n",
    "npub = len(res)\n",
    "print(len(res), f\" publications files modified in the last {days:d} days.\")\n",
    "# [ print('\\t', k) for k in res ];"
   ]
  },
  {
   "cell_type": "code",
   "execution_count": 11,
   "id": "015de740",
   "metadata": {
    "execution": {
     "iopub.execute_input": "2023-03-20T04:09:09.512230Z",
     "iopub.status.busy": "2023-03-20T04:09:09.511668Z",
     "iopub.status.idle": "2023-03-20T04:09:09.531819Z",
     "shell.execute_reply": "2023-03-20T04:09:09.531017Z"
    },
    "papermill": {
     "duration": 0.028508,
     "end_time": "2023-03-20T04:09:09.533267",
     "exception": false,
     "start_time": "2023-03-20T04:09:09.504759",
     "status": "completed"
    },
    "tags": []
   },
   "outputs": [
    {
     "name": "stdout",
     "output_type": "stream",
     "text": [
      "6"
     ]
    },
    {
     "name": "stdout",
     "output_type": "stream",
     "text": [
      "  publications in the last 7 days.\n"
     ]
    }
   ],
   "source": [
    "import datetime\n",
    "from glob import glob\n",
    "\n",
    "def get_last_n_days(lst, days=1):\n",
    "    \"\"\" Get the documents from the last n days \"\"\"\n",
    "    sorted_lst = sorted(lst, key=lambda x: x[1], reverse=True)\n",
    "    for fname, date in sorted_lst:\n",
    "        if date >= str(datetime.date.today() - datetime.timedelta(days=days)):\n",
    "            yield fname\n",
    "\n",
    "def extract_appearance_dates(lst_file):\n",
    "    dates = []\n",
    "\n",
    "    def get_date(line):\n",
    "        return line\\\n",
    "            .split('Appeared on:')[-1]\\\n",
    "            .split('</mark>')[0].strip()\n",
    "\n",
    "    for fname in lst:\n",
    "        with open(fname, 'r') as f:\n",
    "            found_date = False\n",
    "            for line in f:\n",
    "                if not found_date:\n",
    "                    if \"Appeared on\" in line:\n",
    "                        found_date = True\n",
    "                        dates.append((fname, get_date(line)))\n",
    "                else:\n",
    "                    break\n",
    "    return dates\n",
    "\n",
    "from glob import glob\n",
    "lst = glob('_build/html/*md')\n",
    "days = 7\n",
    "dates = extract_appearance_dates(lst)\n",
    "res = list(get_last_n_days(dates, days))\n",
    "npub = len(res)\n",
    "print(len(res), f\" publications in the last {days:d} days.\")"
   ]
  },
  {
   "cell_type": "code",
   "execution_count": 12,
   "id": "52ca0208",
   "metadata": {
    "execution": {
     "iopub.execute_input": "2023-03-20T04:09:09.546854Z",
     "iopub.status.busy": "2023-03-20T04:09:09.546654Z",
     "iopub.status.idle": "2023-03-20T04:09:09.551519Z",
     "shell.execute_reply": "2023-03-20T04:09:09.550893Z"
    },
    "papermill": {
     "duration": 0.013319,
     "end_time": "2023-03-20T04:09:09.552912",
     "exception": false,
     "start_time": "2023-03-20T04:09:09.539593",
     "status": "completed"
    },
    "scrolled": false,
    "tags": []
   },
   "outputs": [],
   "source": [
    "def create_carousel(npub=4):\n",
    "    \"\"\" Generate the HTML code for a carousel with `npub` slides \"\"\"\n",
    "    carousel = [\"\"\"  <div class=\"carousel\" \"\"\",\n",
    "                \"\"\"       data-flickity='{ \"autoPlay\": 10000, \"adaptiveHeight\": true, \"resize\": true, \"wrapAround\": true, \"pauseAutoPlayOnHover\": true, \"groupCells\": 1 }' id=\"asyncTypeset\">\"\"\"\n",
    "                ]\n",
    "    \n",
    "    item_str = \"\"\"    <div class=\"carousel-cell\"> <div id=\"slide{k}\" class=\"md_view\">Content {k}</div> </div>\"\"\"\n",
    "    for k in range(1, npub + 1):\n",
    "        carousel.append(item_str.format(k=k))\n",
    "    carousel.append(\"  </div>\")\n",
    "    return '\\n'.join(carousel)\n",
    "\n",
    "def create_grid(npub=4):\n",
    "    \"\"\" Generate the HTML code for a flat grid with `npub` slides \"\"\"\n",
    "    grid = [\"\"\"  <div class=\"grid\"> \"\"\",\n",
    "                ]\n",
    "    \n",
    "    item_str = \"\"\"    <div class=\"grid-item\"> <div id=\"slide{k}\" class=\"md_view\">Content {k}</div> </div>\"\"\"\n",
    "    for k in range(1, npub + 1):\n",
    "        grid.append(item_str.format(k=k))\n",
    "    grid.append(\"  </div>\")\n",
    "    return '\\n'.join(grid)"
   ]
  },
  {
   "cell_type": "code",
   "execution_count": 13,
   "id": "a6eac5b6",
   "metadata": {
    "execution": {
     "iopub.execute_input": "2023-03-20T04:09:09.567445Z",
     "iopub.status.busy": "2023-03-20T04:09:09.566889Z",
     "iopub.status.idle": "2023-03-20T04:09:09.573594Z",
     "shell.execute_reply": "2023-03-20T04:09:09.573039Z"
    },
    "papermill": {
     "duration": 0.015884,
     "end_time": "2023-03-20T04:09:09.575353",
     "exception": false,
     "start_time": "2023-03-20T04:09:09.559469",
     "status": "completed"
    },
    "scrolled": false,
    "tags": []
   },
   "outputs": [],
   "source": [
    "carousel = create_carousel(npub)\n",
    "docs = ', '.join(['\"{0:s}\"'.format(k.split('/')[-1]) for k in res])\n",
    "slides = ', '.join([f'\"slide{k}\"' for k in range(1, npub + 1)])\n",
    "\n",
    "with open(\"daily_template.html\", \"r\") as tpl:\n",
    "    page = tpl.read()\n",
    "    page = page.replace(\"{%-- carousel:s --%}\", carousel)\\\n",
    "               .replace(\"{%-- suptitle:s --%}\",  \"7-day archives\" )\\\n",
    "               .replace(\"{%-- docs:s --%}\", docs)\\\n",
    "               .replace(\"{%-- slides:s --%}\", slides)\n",
    "    \n",
    "with open(\"_build/html/index_7days.html\", 'w') as fout:\n",
    "    fout.write(page)"
   ]
  },
  {
   "cell_type": "code",
   "execution_count": 14,
   "id": "adc1a1ec",
   "metadata": {
    "execution": {
     "iopub.execute_input": "2023-03-20T04:09:09.589272Z",
     "iopub.status.busy": "2023-03-20T04:09:09.588851Z",
     "iopub.status.idle": "2023-03-20T04:09:09.595491Z",
     "shell.execute_reply": "2023-03-20T04:09:09.594895Z"
    },
    "papermill": {
     "duration": 0.015144,
     "end_time": "2023-03-20T04:09:09.596858",
     "exception": false,
     "start_time": "2023-03-20T04:09:09.581714",
     "status": "completed"
    },
    "tags": []
   },
   "outputs": [
    {
     "name": "stdout",
     "output_type": "stream",
     "text": [
      "0  publications in the last day.\n"
     ]
    }
   ],
   "source": [
    "# redo for today\n",
    "days = 1\n",
    "res = list(get_last_n_days(dates, days))\n",
    "npub = len(res)\n",
    "print(len(res), f\" publications in the last day.\")\n",
    "\n",
    "carousel = create_carousel(npub)\n",
    "docs = ', '.join(['\"{0:s}\"'.format(k.split('/')[-1]) for k in res])\n",
    "slides = ', '.join([f'\"slide{k}\"' for k in range(1, npub + 1)])\n",
    "\n",
    "with open(\"daily_template.html\", \"r\") as tpl:\n",
    "    page = tpl.read()\n",
    "    page = page.replace(\"{%-- carousel:s --%}\", carousel)\\\n",
    "               .replace(\"{%-- suptitle:s --%}\",  \"Daily\" )\\\n",
    "               .replace(\"{%-- docs:s --%}\", docs)\\\n",
    "               .replace(\"{%-- slides:s --%}\", slides)\n",
    "    \n",
    "# print(carousel, docs, slides)\n",
    "# print(page)\n",
    "with open(\"_build/html/index_daily.html\", 'w') as fout:\n",
    "    fout.write(page)"
   ]
  },
  {
   "cell_type": "code",
   "execution_count": 15,
   "id": "00eece82",
   "metadata": {
    "execution": {
     "iopub.execute_input": "2023-03-20T04:09:09.611054Z",
     "iopub.status.busy": "2023-03-20T04:09:09.610540Z",
     "iopub.status.idle": "2023-03-20T04:09:09.618466Z",
     "shell.execute_reply": "2023-03-20T04:09:09.617868Z"
    },
    "papermill": {
     "duration": 0.016484,
     "end_time": "2023-03-20T04:09:09.619860",
     "exception": false,
     "start_time": "2023-03-20T04:09:09.603376",
     "status": "completed"
    },
    "scrolled": false,
    "tags": []
   },
   "outputs": [
    {
     "name": "stdout",
     "output_type": "stream",
     "text": [
      "6  6 publications selected.\n"
     ]
    }
   ],
   "source": [
    "# Create the flat grid of the last N papers (fixed number regardless of dates)\n",
    "from itertools import islice \n",
    "\n",
    "npub = 6\n",
    "res = [k[0] for k in (islice(reversed(sorted(dates, key=lambda x: x[1])), 6))]\n",
    "print(len(res), f\" {npub} publications selected.\")\n",
    "\n",
    "grid = create_grid(npub)\n",
    "docs = ', '.join(['\"{0:s}\"'.format(k.split('/')[-1]) for k in res])\n",
    "slides = ', '.join([f'\"slide{k}\"' for k in range(1, npub + 1)])\n",
    "\n",
    "with open(\"grid_template.html\", \"r\") as tpl:\n",
    "    page = tpl.read()\n",
    "    page = page.replace(\"{%-- grid-content:s --%}\", grid)\\\n",
    "               .replace(\"{%-- suptitle:s --%}\",  f\"Last {npub:,d} papers\" )\\\n",
    "               .replace(\"{%-- docs:s --%}\", docs)\\\n",
    "               .replace(\"{%-- slides:s --%}\", slides)\n",
    "    \n",
    "# print(grid, docs, slides)\n",
    "# print(page)\n",
    "with open(\"_build/html/index_npub_grid.html\", 'w') as fout:\n",
    "    fout.write(page)"
   ]
  },
  {
   "cell_type": "code",
   "execution_count": null,
   "id": "cab45692",
   "metadata": {
    "papermill": {
     "duration": 0.006571,
     "end_time": "2023-03-20T04:09:09.632918",
     "exception": false,
     "start_time": "2023-03-20T04:09:09.626347",
     "status": "completed"
    },
    "tags": []
   },
   "outputs": [],
   "source": []
  },
  {
   "cell_type": "code",
   "execution_count": null,
   "id": "aec9821f",
   "metadata": {
    "papermill": {
     "duration": 0.006463,
     "end_time": "2023-03-20T04:09:09.645935",
     "exception": false,
     "start_time": "2023-03-20T04:09:09.639472",
     "status": "completed"
    },
    "tags": []
   },
   "outputs": [],
   "source": []
  }
 ],
 "metadata": {
  "kernelspec": {
   "display_name": "Python 3 (ipykernel)",
   "language": "python",
   "name": "python3"
  },
  "language_info": {
   "codemirror_mode": {
    "name": "ipython",
    "version": 3
   },
   "file_extension": ".py",
   "mimetype": "text/x-python",
   "name": "python",
   "nbconvert_exporter": "python",
   "pygments_lexer": "ipython3",
   "version": "3.9.16"
  },
  "papermill": {
   "default_parameters": {},
   "duration": 51.949041,
   "end_time": "2023-03-20T04:09:09.870577",
   "environment_variables": {},
   "exception": null,
   "input_path": "MPIA daily digest.ipynb",
   "output_path": "log.ipynb",
   "parameters": {},
   "start_time": "2023-03-20T04:08:17.921536",
   "version": "2.4.0"
  },
  "vscode": {
   "interpreter": {
    "hash": "aee8b7b246df8f9039afb4144a1f6fd8d2ca17a180786b69acc140d282b71a49"
   }
  },
  "widgets": {
   "application/vnd.jupyter.widget-state+json": {
    "state": {
     "06e1fc342158417a89820f2bf7fc1a77": {
      "model_module": "@jupyter-widgets/controls",
      "model_module_version": "2.0.0",
      "model_name": "HTMLStyleModel",
      "state": {
       "_model_module": "@jupyter-widgets/controls",
       "_model_module_version": "2.0.0",
       "_model_name": "HTMLStyleModel",
       "_view_count": null,
       "_view_module": "@jupyter-widgets/base",
       "_view_module_version": "2.0.0",
       "_view_name": "StyleView",
       "background": null,
       "description_width": "",
       "font_size": null,
       "text_color": null
      }
     },
     "23154d51658349e6bb7475a772764ee6": {
      "model_module": "@jupyter-widgets/controls",
      "model_module_version": "2.0.0",
      "model_name": "FloatProgressModel",
      "state": {
       "_dom_classes": [],
       "_model_module": "@jupyter-widgets/controls",
       "_model_module_version": "2.0.0",
       "_model_name": "FloatProgressModel",
       "_view_count": null,
       "_view_module": "@jupyter-widgets/controls",
       "_view_module_version": "2.0.0",
       "_view_name": "ProgressView",
       "bar_style": "success",
       "description": "",
       "description_allow_html": false,
       "layout": "IPY_MODEL_31207912488441e38ef9c0770e4a3bb9",
       "max": 8.0,
       "min": 0.0,
       "orientation": "horizontal",
       "style": "IPY_MODEL_c088db033e544a249009eb80d02b492d",
       "tabbable": null,
       "tooltip": null,
       "value": 8.0
      }
     },
     "2dfc4e92701742f9ac000b8c40ae5113": {
      "model_module": "@jupyter-widgets/controls",
      "model_module_version": "2.0.0",
      "model_name": "HTMLModel",
      "state": {
       "_dom_classes": [],
       "_model_module": "@jupyter-widgets/controls",
       "_model_module_version": "2.0.0",
       "_model_name": "HTMLModel",
       "_view_count": null,
       "_view_module": "@jupyter-widgets/controls",
       "_view_module_version": "2.0.0",
       "_view_name": "HTMLView",
       "description": "",
       "description_allow_html": false,
       "layout": "IPY_MODEL_d52b4ddb9d954efd8dccd1a385f16171",
       "placeholder": "​",
       "style": "IPY_MODEL_8012f9a268304024acb6bdd8f9207a93",
       "tabbable": null,
       "tooltip": null,
       "value": " 8/8 [00:26&lt;00:00,  1.42s/it]"
      }
     },
     "31207912488441e38ef9c0770e4a3bb9": {
      "model_module": "@jupyter-widgets/base",
      "model_module_version": "2.0.0",
      "model_name": "LayoutModel",
      "state": {
       "_model_module": "@jupyter-widgets/base",
       "_model_module_version": "2.0.0",
       "_model_name": "LayoutModel",
       "_view_count": null,
       "_view_module": "@jupyter-widgets/base",
       "_view_module_version": "2.0.0",
       "_view_name": "LayoutView",
       "align_content": null,
       "align_items": null,
       "align_self": null,
       "border_bottom": null,
       "border_left": null,
       "border_right": null,
       "border_top": null,
       "bottom": null,
       "display": null,
       "flex": null,
       "flex_flow": null,
       "grid_area": null,
       "grid_auto_columns": null,
       "grid_auto_flow": null,
       "grid_auto_rows": null,
       "grid_column": null,
       "grid_gap": null,
       "grid_row": null,
       "grid_template_areas": null,
       "grid_template_columns": null,
       "grid_template_rows": null,
       "height": null,
       "justify_content": null,
       "justify_items": null,
       "left": null,
       "margin": null,
       "max_height": null,
       "max_width": null,
       "min_height": null,
       "min_width": null,
       "object_fit": null,
       "object_position": null,
       "order": null,
       "overflow": null,
       "padding": null,
       "right": null,
       "top": null,
       "visibility": null,
       "width": null
      }
     },
     "400e948de7d545ba8cebb34a4fa486eb": {
      "model_module": "@jupyter-widgets/controls",
      "model_module_version": "2.0.0",
      "model_name": "HBoxModel",
      "state": {
       "_dom_classes": [],
       "_model_module": "@jupyter-widgets/controls",
       "_model_module_version": "2.0.0",
       "_model_name": "HBoxModel",
       "_view_count": null,
       "_view_module": "@jupyter-widgets/controls",
       "_view_module_version": "2.0.0",
       "_view_name": "HBoxView",
       "box_style": "",
       "children": [
        "IPY_MODEL_955c0e672ab24d05b36fdcbef67f10f8",
        "IPY_MODEL_23154d51658349e6bb7475a772764ee6",
        "IPY_MODEL_2dfc4e92701742f9ac000b8c40ae5113"
       ],
       "layout": "IPY_MODEL_fb9c714e23f14509afdd938ccaf73d16",
       "tabbable": null,
       "tooltip": null
      }
     },
     "8012f9a268304024acb6bdd8f9207a93": {
      "model_module": "@jupyter-widgets/controls",
      "model_module_version": "2.0.0",
      "model_name": "HTMLStyleModel",
      "state": {
       "_model_module": "@jupyter-widgets/controls",
       "_model_module_version": "2.0.0",
       "_model_name": "HTMLStyleModel",
       "_view_count": null,
       "_view_module": "@jupyter-widgets/base",
       "_view_module_version": "2.0.0",
       "_view_name": "StyleView",
       "background": null,
       "description_width": "",
       "font_size": null,
       "text_color": null
      }
     },
     "955c0e672ab24d05b36fdcbef67f10f8": {
      "model_module": "@jupyter-widgets/controls",
      "model_module_version": "2.0.0",
      "model_name": "HTMLModel",
      "state": {
       "_dom_classes": [],
       "_model_module": "@jupyter-widgets/controls",
       "_model_module_version": "2.0.0",
       "_model_name": "HTMLModel",
       "_view_count": null,
       "_view_module": "@jupyter-widgets/controls",
       "_view_module_version": "2.0.0",
       "_view_name": "HTMLView",
       "description": "",
       "description_allow_html": false,
       "layout": "IPY_MODEL_c58fec4f7e8d4f41ae57886825455ce8",
       "placeholder": "​",
       "style": "IPY_MODEL_06e1fc342158417a89820f2bf7fc1a77",
       "tabbable": null,
       "tooltip": null,
       "value": "100%"
      }
     },
     "c088db033e544a249009eb80d02b492d": {
      "model_module": "@jupyter-widgets/controls",
      "model_module_version": "2.0.0",
      "model_name": "ProgressStyleModel",
      "state": {
       "_model_module": "@jupyter-widgets/controls",
       "_model_module_version": "2.0.0",
       "_model_name": "ProgressStyleModel",
       "_view_count": null,
       "_view_module": "@jupyter-widgets/base",
       "_view_module_version": "2.0.0",
       "_view_name": "StyleView",
       "bar_color": null,
       "description_width": ""
      }
     },
     "c58fec4f7e8d4f41ae57886825455ce8": {
      "model_module": "@jupyter-widgets/base",
      "model_module_version": "2.0.0",
      "model_name": "LayoutModel",
      "state": {
       "_model_module": "@jupyter-widgets/base",
       "_model_module_version": "2.0.0",
       "_model_name": "LayoutModel",
       "_view_count": null,
       "_view_module": "@jupyter-widgets/base",
       "_view_module_version": "2.0.0",
       "_view_name": "LayoutView",
       "align_content": null,
       "align_items": null,
       "align_self": null,
       "border_bottom": null,
       "border_left": null,
       "border_right": null,
       "border_top": null,
       "bottom": null,
       "display": null,
       "flex": null,
       "flex_flow": null,
       "grid_area": null,
       "grid_auto_columns": null,
       "grid_auto_flow": null,
       "grid_auto_rows": null,
       "grid_column": null,
       "grid_gap": null,
       "grid_row": null,
       "grid_template_areas": null,
       "grid_template_columns": null,
       "grid_template_rows": null,
       "height": null,
       "justify_content": null,
       "justify_items": null,
       "left": null,
       "margin": null,
       "max_height": null,
       "max_width": null,
       "min_height": null,
       "min_width": null,
       "object_fit": null,
       "object_position": null,
       "order": null,
       "overflow": null,
       "padding": null,
       "right": null,
       "top": null,
       "visibility": null,
       "width": null
      }
     },
     "d52b4ddb9d954efd8dccd1a385f16171": {
      "model_module": "@jupyter-widgets/base",
      "model_module_version": "2.0.0",
      "model_name": "LayoutModel",
      "state": {
       "_model_module": "@jupyter-widgets/base",
       "_model_module_version": "2.0.0",
       "_model_name": "LayoutModel",
       "_view_count": null,
       "_view_module": "@jupyter-widgets/base",
       "_view_module_version": "2.0.0",
       "_view_name": "LayoutView",
       "align_content": null,
       "align_items": null,
       "align_self": null,
       "border_bottom": null,
       "border_left": null,
       "border_right": null,
       "border_top": null,
       "bottom": null,
       "display": null,
       "flex": null,
       "flex_flow": null,
       "grid_area": null,
       "grid_auto_columns": null,
       "grid_auto_flow": null,
       "grid_auto_rows": null,
       "grid_column": null,
       "grid_gap": null,
       "grid_row": null,
       "grid_template_areas": null,
       "grid_template_columns": null,
       "grid_template_rows": null,
       "height": null,
       "justify_content": null,
       "justify_items": null,
       "left": null,
       "margin": null,
       "max_height": null,
       "max_width": null,
       "min_height": null,
       "min_width": null,
       "object_fit": null,
       "object_position": null,
       "order": null,
       "overflow": null,
       "padding": null,
       "right": null,
       "top": null,
       "visibility": null,
       "width": null
      }
     },
     "fb9c714e23f14509afdd938ccaf73d16": {
      "model_module": "@jupyter-widgets/base",
      "model_module_version": "2.0.0",
      "model_name": "LayoutModel",
      "state": {
       "_model_module": "@jupyter-widgets/base",
       "_model_module_version": "2.0.0",
       "_model_name": "LayoutModel",
       "_view_count": null,
       "_view_module": "@jupyter-widgets/base",
       "_view_module_version": "2.0.0",
       "_view_name": "LayoutView",
       "align_content": null,
       "align_items": null,
       "align_self": null,
       "border_bottom": null,
       "border_left": null,
       "border_right": null,
       "border_top": null,
       "bottom": null,
       "display": null,
       "flex": null,
       "flex_flow": null,
       "grid_area": null,
       "grid_auto_columns": null,
       "grid_auto_flow": null,
       "grid_auto_rows": null,
       "grid_column": null,
       "grid_gap": null,
       "grid_row": null,
       "grid_template_areas": null,
       "grid_template_columns": null,
       "grid_template_rows": null,
       "height": null,
       "justify_content": null,
       "justify_items": null,
       "left": null,
       "margin": null,
       "max_height": null,
       "max_width": null,
       "min_height": null,
       "min_width": null,
       "object_fit": null,
       "object_position": null,
       "order": null,
       "overflow": null,
       "padding": null,
       "right": null,
       "top": null,
       "visibility": null,
       "width": null
      }
     }
    },
    "version_major": 2,
    "version_minor": 0
   }
  }
 },
 "nbformat": 4,
 "nbformat_minor": 5
}