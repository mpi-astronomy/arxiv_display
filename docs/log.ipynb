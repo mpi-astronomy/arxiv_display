{
 "cells": [
  {
   "cell_type": "markdown",
   "id": "92bcb855",
   "metadata": {
    "papermill": {
     "duration": 0.004661,
     "end_time": "2023-04-17T04:06:03.659669",
     "exception": false,
     "start_time": "2023-04-17T04:06:03.655008",
     "status": "completed"
    },
    "tags": []
   },
   "source": [
    "# MPIA Arxiv on Deck 2\n",
    "\n",
    "Contains the steps to produce the paper extractions."
   ]
  },
  {
   "cell_type": "code",
   "execution_count": 1,
   "id": "3a0d6e11",
   "metadata": {
    "execution": {
     "iopub.execute_input": "2023-04-17T04:06:03.668405Z",
     "iopub.status.busy": "2023-04-17T04:06:03.667709Z",
     "iopub.status.idle": "2023-04-17T04:06:03.878693Z",
     "shell.execute_reply": "2023-04-17T04:06:03.878081Z"
    },
    "papermill": {
     "duration": 0.217172,
     "end_time": "2023-04-17T04:06:03.880575",
     "exception": false,
     "start_time": "2023-04-17T04:06:03.663403",
     "status": "completed"
    },
    "tags": []
   },
   "outputs": [],
   "source": [
    "# Imports\n",
    "import os\n",
    "from IPython.display import Markdown, display\n",
    "from tqdm.notebook import tqdm\n",
    "import warnings\n",
    "from PIL import Image \n",
    "\n",
    "# requires arxiv_on_deck_2\n",
    "\n",
    "from arxiv_on_deck_2.arxiv2 import (get_new_papers, \n",
    "                                    get_paper_from_identifier,\n",
    "                                    retrieve_document_source, \n",
    "                                    get_markdown_badge)\n",
    "from arxiv_on_deck_2 import (latex,\n",
    "                             latex_bib,\n",
    "                             mpia,\n",
    "                             highlight_authors_in_list)\n",
    "\n",
    "# Sometimes images are really big\n",
    "Image.MAX_IMAGE_PIXELS = 1000000000 "
   ]
  },
  {
   "cell_type": "code",
   "execution_count": 2,
   "id": "22aa9d44",
   "metadata": {
    "execution": {
     "iopub.execute_input": "2023-04-17T04:06:03.889366Z",
     "iopub.status.busy": "2023-04-17T04:06:03.888706Z",
     "iopub.status.idle": "2023-04-17T04:06:03.894281Z",
     "shell.execute_reply": "2023-04-17T04:06:03.893670Z"
    },
    "papermill": {
     "duration": 0.011484,
     "end_time": "2023-04-17T04:06:03.895696",
     "exception": false,
     "start_time": "2023-04-17T04:06:03.884212",
     "status": "completed"
    },
    "tags": []
   },
   "outputs": [],
   "source": [
    "# Some useful definitions.\n",
    "\n",
    "class AffiliationWarning(UserWarning):\n",
    "    pass\n",
    "\n",
    "class AffiliationError(RuntimeError):\n",
    "    pass\n",
    "\n",
    "def validation(source: str):\n",
    "    \"\"\"Raises error paper during parsing of source file\n",
    "    \n",
    "    Allows checks before parsing TeX code.\n",
    "    \n",
    "    Raises AffiliationWarning\n",
    "    \"\"\"\n",
    "    check = mpia.affiliation_verifications(source, verbose=True)\n",
    "    if check is not True:\n",
    "        raise AffiliationError(\"mpia.affiliation_verifications: \" + check)\n",
    "\n",
    "        \n",
    "warnings.simplefilter('always', AffiliationWarning)\n",
    "\n",
    "\n",
    "def get_markdown_qrcode(paper_id: str):\n",
    "    \"\"\" Generate a qrcode to the arxiv page using qrserver.com\n",
    "    \n",
    "    :param paper: Arxiv paper\n",
    "    :returns: markdown text\n",
    "    \"\"\"\n",
    "    url = r\"https://api.qrserver.com/v1/create-qr-code/?size=100x100&data=\"\n",
    "    txt = f\"\"\"<img src={url}\"https://arxiv.org/abs/{paper_id}\">\"\"\"\n",
    "    txt = '<div id=\"qrcode\">' + txt + '</div>'\n",
    "    return txt"
   ]
  },
  {
   "cell_type": "markdown",
   "id": "14bd6310",
   "metadata": {
    "papermill": {
     "duration": 0.003236,
     "end_time": "2023-04-17T04:06:03.902275",
     "exception": false,
     "start_time": "2023-04-17T04:06:03.899039",
     "status": "completed"
    },
    "tags": []
   },
   "source": [
    "## get list of arxiv paper candidates\n",
    "\n",
    "We use the MPIA mitarbeiter list webpage from mpia.de to get author names\n",
    "We then get all new papers from Arxiv and match authors"
   ]
  },
  {
   "cell_type": "code",
   "execution_count": 3,
   "id": "2645e73a",
   "metadata": {
    "execution": {
     "iopub.execute_input": "2023-04-17T04:06:03.910085Z",
     "iopub.status.busy": "2023-04-17T04:06:03.909625Z",
     "iopub.status.idle": "2023-04-17T04:06:29.751499Z",
     "shell.execute_reply": "2023-04-17T04:06:29.749995Z"
    },
    "papermill": {
     "duration": 25.847876,
     "end_time": "2023-04-17T04:06:29.753459",
     "exception": false,
     "start_time": "2023-04-17T04:06:03.905583",
     "status": "completed"
    },
    "tags": []
   },
   "outputs": [
    {
     "name": "stdout",
     "output_type": "stream",
     "text": [
      "Arxiv has 46 new papers today\n",
      "          4 with possible author matches\n"
     ]
    }
   ],
   "source": [
    "# get list from MPIA website\n",
    "# it automatically filters identified non-scientists :func:`mpia.filter_non_scientists`\n",
    "mpia_authors = mpia.get_mpia_mitarbeiter_list()\n",
    "normed_mpia_authors = [k[1] for k in mpia_authors]   # initials + fullname\n",
    "new_papers = get_new_papers()\n",
    "# add manual references\n",
    "add_paper_refs = []\n",
    "new_papers.extend([get_paper_from_identifier(k) for k in add_paper_refs])\n",
    "\n",
    "candidates = []\n",
    "for paperk in new_papers:\n",
    "    # Check author list with their initials\n",
    "    normed_author_list = [mpia.get_initials(k) for k in paperk['authors']]\n",
    "    hl_authors = highlight_authors_in_list(normed_author_list, normed_mpia_authors, verbose=True)\n",
    "    matches = [(hl, orig) for hl, orig in zip(hl_authors, paperk['authors']) if 'mark' in hl]\n",
    "    paperk['authors'] = hl_authors\n",
    "    if matches:\n",
    "        # only select paper if an author matched our list\n",
    "        candidates.append(paperk)\n",
    "print(\"\"\"Arxiv has {0:,d} new papers today\"\"\".format(len(new_papers)))        \n",
    "print(\"\"\"          {0:,d} with possible author matches\"\"\".format(len(candidates)))"
   ]
  },
  {
   "cell_type": "markdown",
   "id": "3543b34a",
   "metadata": {
    "papermill": {
     "duration": 0.003514,
     "end_time": "2023-04-17T04:06:29.760721",
     "exception": false,
     "start_time": "2023-04-17T04:06:29.757207",
     "status": "completed"
    },
    "tags": []
   },
   "source": [
    "# Parse sources and generate relevant outputs\n",
    "\n",
    "From the candidates, we do the following steps:\n",
    "* get their tarball from ArXiv (and extract data)\n",
    "* find the main .tex file: find one with \\documentclass{...} (sometimes it's non trivial)\n",
    "* Check affiliations with :func:`validation`, which uses :func:`mpia.affiliation_verifications`\n",
    "* If passing the affiliations: we parse the .tex source\n",
    "   * inject sub-documents into the main (flatten the main document)\n",
    "   * parse structure, extract information (title, abstract, authors, figures...)\n",
    "   * handles `\\graphicspath` if provided\n",
    "* Generate the .md document."
   ]
  },
  {
   "cell_type": "code",
   "execution_count": 4,
   "id": "9576b79e",
   "metadata": {
    "execution": {
     "iopub.execute_input": "2023-04-17T04:06:29.769053Z",
     "iopub.status.busy": "2023-04-17T04:06:29.768715Z",
     "iopub.status.idle": "2023-04-17T04:08:11.302679Z",
     "shell.execute_reply": "2023-04-17T04:08:11.302054Z"
    },
    "papermill": {
     "duration": 101.540408,
     "end_time": "2023-04-17T04:08:11.304697",
     "exception": false,
     "start_time": "2023-04-17T04:06:29.764289",
     "status": "completed"
    },
    "scrolled": false,
    "tags": []
   },
   "outputs": [
    {
     "data": {
      "application/vnd.jupyter.widget-view+json": {
       "model_id": "1003b9b6875a404bbf892c9b8fa8156e",
       "version_major": 2,
       "version_minor": 0
      },
      "text/plain": [
       "  0%|          | 0/3 [00:00<?, ?it/s]"
      ]
     },
     "metadata": {},
     "output_type": "display_data"
    },
    {
     "name": "stdout",
     "output_type": "stream",
     "text": [
      "Retrieving document from  https://arxiv.org/e-print/2304.06904\n"
     ]
    },
    {
     "name": "stdout",
     "output_type": "stream",
     "text": [
      "extracting tarball to tmp_2304.06904..."
     ]
    },
    {
     "name": "stdout",
     "output_type": "stream",
     "text": [
      " done.\n",
      "Retrieving document from  https://arxiv.org/e-print/2304.07158\n"
     ]
    },
    {
     "name": "stderr",
     "output_type": "stream",
     "text": [
      "/opt/hostedtoolcache/Python/3.9.16/x64/lib/python3.9/site-packages/IPython/core/interactiveshell.py:3505: LatexWarning: Multiple tex files.\n",
      "\n",
      "  exec(code_obj, self.user_global_ns, self.user_ns)\n",
      "/opt/hostedtoolcache/Python/3.9.16/x64/lib/python3.9/site-packages/IPython/core/interactiveshell.py:3505: LatexWarning: Found documentclass in tmp_2304.06904/main.tex\n",
      "\n",
      "  exec(code_obj, self.user_global_ns, self.user_ns)\n",
      "/opt/hostedtoolcache/Python/3.9.16/x64/lib/python3.9/site-packages/arxiv_on_deck_2/latex.py:399: LatexWarning: Latex injecting: 'table_summary.tex' from 'tmp_2304.06904/table_summary.tex'\n",
      "  warnings.warn(LatexWarning(f\"Latex injecting: '{ext}' from '{subsource}'\"))\n",
      "/opt/hostedtoolcache/Python/3.9.16/x64/lib/python3.9/site-packages/arxiv_on_deck_2/latex.py:399: LatexWarning: Latex injecting: 'commands.tex' from 'tmp_2304.06904/commands.tex'\n",
      "  warnings.warn(LatexWarning(f\"Latex injecting: '{ext}' from '{subsource}'\"))\n"
     ]
    },
    {
     "name": "stdout",
     "output_type": "stream",
     "text": [
      "extracting tarball to tmp_2304.07158..."
     ]
    },
    {
     "name": "stdout",
     "output_type": "stream",
     "text": [
      " done.\n"
     ]
    },
    {
     "name": "stdout",
     "output_type": "stream",
     "text": [
      "Found 35 bibliographic references in tmp_2304.07158/aa_2023_46196.bbl.\n",
      "Retrieving document from  https://arxiv.org/e-print/2304.07237\n"
     ]
    },
    {
     "name": "stdout",
     "output_type": "stream",
     "text": [
      "extracting tarball to tmp_2304.07237..."
     ]
    },
    {
     "name": "stdout",
     "output_type": "stream",
     "text": [
      " done.\n"
     ]
    },
    {
     "name": "stdout",
     "output_type": "stream",
     "text": [
      "Found 138 bibliographic references in tmp_2304.07237/ALMA_HMSF_paper1_draft_5.0.bbl.\n"
     ]
    }
   ],
   "source": [
    "documents = []\n",
    "failed = []\n",
    "for paper in tqdm(candidates[:-1]):\n",
    "    paper_id = paper['identifier'].lower().replace('arxiv:', '')\n",
    "    \n",
    "    folder = f'tmp_{paper_id}'\n",
    "\n",
    "    try:\n",
    "        if not os.path.isdir(folder):\n",
    "            folder = retrieve_document_source(f\"{paper_id}\", f'tmp_{paper_id}')\n",
    "        \n",
    "        try:\n",
    "            doc = latex.LatexDocument(folder, validation=validation)    \n",
    "        except AffiliationError as affilerror:\n",
    "            msg = f\"ArXiv:{paper_id:s} is not an MPIA paper... \" + str(affilerror)\n",
    "            failed.append((paper, \"affiliation error: \" + str(affilerror) ))\n",
    "            continue\n",
    "        \n",
    "        # Hack because sometimes author parsing does not work well\n",
    "        if (len(doc.authors) != len(paper['authors'])):\n",
    "            doc._authors = paper['authors']\n",
    "        else:\n",
    "            # highlight authors (FIXME: doc.highlight_authors)\n",
    "            # done on arxiv paper already\n",
    "            doc._authors = highlight_authors_in_list(\n",
    "                [mpia.get_initials(k) for k in doc.authors], \n",
    "                normed_mpia_authors, verbose=True)\n",
    "        if (doc.abstract) in (None, ''):\n",
    "            doc._abstract = paper['abstract']\n",
    "            \n",
    "        doc.comment = (get_markdown_badge(paper_id) + \n",
    "                       \"<mark>Appeared on: \" + paper['date'] + \"</mark> - \")\n",
    "        if paper['comments']:\n",
    "            doc.comment += \" _\" + paper['comments'] + \"_\"\n",
    "        \n",
    "        full_md = doc.generate_markdown_text()\n",
    "        \n",
    "        full_md += get_markdown_qrcode(paper_id)\n",
    "        \n",
    "        # replace citations\n",
    "        try:\n",
    "            bibdata = latex_bib.LatexBib.from_doc(doc)\n",
    "            full_md = latex_bib.replace_citations(full_md, bibdata)\n",
    "        except Exception as e:\n",
    "            print(e)\n",
    "        \n",
    "        documents.append((paper_id, full_md))\n",
    "    except Exception as e:\n",
    "        warnings.warn(latex.LatexWarning(f\"{paper_id:s} did not run properly\\n\" +\n",
    "                                         str(e)\n",
    "                                        ))\n",
    "        failed.append((paper, \"latex error \" + str(e)))"
   ]
  },
  {
   "cell_type": "markdown",
   "id": "2505a25c",
   "metadata": {
    "papermill": {
     "duration": 0.004266,
     "end_time": "2023-04-17T04:08:11.313253",
     "exception": false,
     "start_time": "2023-04-17T04:08:11.308987",
     "status": "completed"
    },
    "tags": []
   },
   "source": [
    "### Export the logs\n",
    "\n",
    "Throughout, we also keep track of the logs per paper. see `logs-{today date}.md` "
   ]
  },
  {
   "cell_type": "code",
   "execution_count": 5,
   "id": "d733828a",
   "metadata": {
    "execution": {
     "iopub.execute_input": "2023-04-17T04:08:11.323570Z",
     "iopub.status.busy": "2023-04-17T04:08:11.323092Z",
     "iopub.status.idle": "2023-04-17T04:08:11.339514Z",
     "shell.execute_reply": "2023-04-17T04:08:11.338911Z"
    },
    "papermill": {
     "duration": 0.025289,
     "end_time": "2023-04-17T04:08:11.342550",
     "exception": false,
     "start_time": "2023-04-17T04:08:11.317261",
     "status": "completed"
    },
    "scrolled": false,
    "tags": []
   },
   "outputs": [
    {
     "data": {
      "text/markdown": [
       "## Successful papers"
      ],
      "text/plain": [
       "<IPython.core.display.Markdown object>"
      ]
     },
     "metadata": {},
     "output_type": "display_data"
    },
    {
     "data": {
      "text/markdown": [
       "\n",
       "|||\n",
       "|---:|:---|\n",
       "| [![arXiv](https://img.shields.io/badge/arXiv-arXiv:2304.07158-b31b1b.svg)](https://arxiv.org/abs/arXiv:2304.07158) | **Investigating Gaia EDR3 parallax systematics using asteroseismology of  Cool Giant Stars observed by Kepler, K2, and TESS I. Asteroseismic distances  to 12,500 red-giant stars**  |\n",
       "|| S. Khan, et al. -- incl., <mark>T. Cantat-Gaudin</mark> |\n",
       "|*Appeared on*| *2023-04-17*|\n",
       "|*Comments*| *11 pages, 8 figures, Accepted for publication in A&A*|\n",
       "|**Abstract**| Gaia EDR3 has provided unprecedented data that generate a lot of interest in the astrophysical community, despite the fact that systematics affect the reported parallaxes at the level of ~ 10 muas. Independent distance measurements are available from asteroseismology of red-giant stars with measurable parallaxes, whose magnitude and colour ranges more closely reflect those of other stars of interest. In this paper, we determine distances to nearly 12,500 red-giant branch and red clump stars observed by Kepler, K2, and TESS. This is done via a grid-based modelling method, where global asteroseismic observables, constraints on the photospheric chemical composition, and on the unreddened photometry are used as observational inputs. This large catalogue of asteroseismic distances allows us to provide a first comparison with Gaia EDR3 parallaxes. Offset values estimated with asteroseismology show no clear trend with ecliptic latitude or magnitude, and the trend whereby they increase (in absolute terms) as we move towards redder colours is dominated by the brightest stars. The correction model proposed by Lindegren et al. (2021) is not suitable for all the fields considered in this study. We find a good agreement between asteroseismic results and model predictions of the red clump magnitude. We discuss possible trends with the Gaia scan law statistics, and show that two magnitude regimes exist where either asteroseismology or Gaia provides the best precision in parallax. |"
      ],
      "text/plain": [
       "[arXiv:2304.07158] Investigating Gaia EDR3 parallax systematics using asteroseismology of  Cool Giant Stars observed by Kepler, K2, and TESS I. Asteroseismic distances  to 12,500 red-giant stars\n",
       "\tS. Khan, et al. -- incl., <mark>T. Cantat-Gaudin</mark>"
      ]
     },
     "metadata": {},
     "output_type": "display_data"
    },
    {
     "data": {
      "text/markdown": [
       "\n",
       "|||\n",
       "|---:|:---|\n",
       "| [![arXiv](https://img.shields.io/badge/arXiv-arXiv:2304.07237-b31b1b.svg)](https://arxiv.org/abs/arXiv:2304.07237) | **Physical and chemical complexity in high-mass star-forming regions with  ALMA. I. Overview and evolutionary trends of physical properties**  |\n",
       "|| C. Gieser, et al. -- incl., <mark>H. Beuther</mark>, <mark>D. Semenov</mark>, <mark>M. Wells</mark> |\n",
       "|*Appeared on*| *2023-04-17*|\n",
       "|*Comments*| *21 pages, 10 figures, submitted to A&A*|\n",
       "|**Abstract**| In this study, we investigate how physical properties, such as the density and temperature profiles, evolve on core scales through the evolutionary sequence during high-mass star formation ranging from protostars in cold infrared dark clouds to evolved UCHII regions. We observed 11 high-mass star-forming regions with ALMA at 3 mm wavelengths. Based on the 3 mm continuum morphology and recombination line emission, tracing locations with free-free (ff) emission, the fragmented cores analyzed in this study are classified into either dust or dust+ff cores. In addition, we resolve three cometary UCHII regions with extended 3 mm emission that is dominated by free-free emission. The temperature structure and radial profiles (T~r^-q ) are determined by modeling molecular emission of CH3CN and CH313CN with XCLASS and by using the HCN-to- HNC intensity ratio as probes for the gas kinetic temperature. The density profiles (n~r^-p ) are estimated from the 3 mm continuum visibility profiles. The masses M and H2 column densities N(H2) are then calculated from the 3 mm dust continuum emission. Results. We find a large spread in mass and peak H2 column density in the detected sources ranging from 0.1-150 Msun and 10^23 - 10^26 cm-2 , respectively. Including the results of the CORE and CORE-extension studies (Gieser et al. 2021, 2022) to increase the sample size, we find evolutionary trends on core scales for the temperature power-~law index q increasing from 0.1 to 0.7 from infrared dark clouds to UCHII regions, while for the the density power-law index p on core scales, we do not find strong evidence for an evolutionary trend. However, we find that on the larger clump scales throughout these evolutionary phases the density profile flattens from p = 2.2 to p = 1.2. (abridged) |"
      ],
      "text/plain": [
       "[arXiv:2304.07237] Physical and chemical complexity in high-mass star-forming regions with  ALMA. I. Overview and evolutionary trends of physical properties\n",
       "\tC. Gieser, et al. -- incl., <mark>H. Beuther</mark>, <mark>D. Semenov</mark>, <mark>M. Wells</mark>"
      ]
     },
     "metadata": {},
     "output_type": "display_data"
    },
    {
     "data": {
      "text/markdown": [
       "## Failed papers"
      ],
      "text/plain": [
       "<IPython.core.display.Markdown object>"
      ]
     },
     "metadata": {},
     "output_type": "display_data"
    },
    {
     "data": {
      "text/markdown": [
       "\n",
       "|||\n",
       "|---:|:---|\n",
       "| [![arXiv](https://img.shields.io/badge/arXiv-arXiv:2304.06904-b31b1b.svg)](https://arxiv.org/abs/arXiv:2304.06904) | **The Kinematics, Metallicities, and Orbits of Six Recently Discovered  Galactic Star Clusters with Magellan/M2FS Spectroscopy**  |\n",
       "|| A. B. Pace, et al. -- incl., <mark>T. S. Li</mark> |\n",
       "|*Appeared on*| *2023-04-17*|\n",
       "|*Comments*| *19 pages, 15 figures, submitted to MNRAS, associated data products available at this https URL*|\n",
       "|**Abstract**| We present Magellan/M2FS spectroscopy of four recently discovered Milky Way star clusters (Gran 3, Gran 4, Garro 01, LP 866) and two newly discovered open clusters (Gaia 9, Gaia 10) at low Galactic latitudes. We measure line-of-sight velocities and stellar parameters ([Fe/H], $\\log{g}$, $T_{\\rm eff}$, [Mg/Fe]) from high resolution spectroscopy centered on the Mg triplet and identify 20-80 members per star cluster. We determine the kinematics and chemical properties of each cluster and measure the systemic proper motion and orbital properties by utilizing Gaia astrometry. We find Gran 3 to be an old, metal-poor (mean metallicity of [Fe/H]=-1.84) globular cluster located in the Galactic bulge on a retrograde orbit. Gran 4 is an old, metal-poor ([Fe/H]}=-1.84) globular cluster with a halo-like orbit that happens to be passing through the Galactic plane. The orbital properties of Gran 4 are consistent with the proposed LMS-1/Wukong and/or Helmi streams merger events. Garro 01 is an old, metal-rich ([Fe/H]=-0.30) globular cluster on a near circular orbit in the outer disk. Gaia 9 and Gaia 10 are among the most distant known open clusters at $R_{GC}\\sim 18, 21.2~kpc$ and most metal-poor with [Fe/H]~-0.50,-0.46 for Gaia 9 and Gaia 10, respectively. LP 866 is a nearby, metal-rich open cluster ([Fe/H]$=+0.1$). The discovery and confirmation of multiple star clusters in the Galactic plane shows the power of {\\it Gaia} astrometry and the star cluster census remains incomplete. |\n",
       "|<p style=\"color:green\"> **ERROR** </p>| <p style=\"color:green\">affiliation error: mpia.affiliation_verifications: '69117' keyword not found.</p> |"
      ],
      "text/plain": [
       "<IPython.core.display.Markdown object>"
      ]
     },
     "metadata": {},
     "output_type": "display_data"
    }
   ],
   "source": [
    "import datetime\n",
    "today = str(datetime.date.today())\n",
    "logfile = f\"_build/html/logs/log-{today}.md\"\n",
    "\n",
    "\n",
    "with open(logfile, 'w') as logs:\n",
    "    # Success\n",
    "    logs.write(f'# Arxiv on Deck 2: Logs - {today}\\n\\n')\n",
    "    logs.write(\"\"\"* Arxiv had {0:,d} new papers\\n\"\"\".format(len(new_papers)))\n",
    "    logs.write(\"\"\"    * {0:,d} with possible author matches\\n\\n\"\"\".format(len(candidates)))\n",
    "    logs.write(\"## Sucessful papers\\n\\n\")\n",
    "    display(Markdown(\"## Successful papers\"))\n",
    "    success = [k[0] for k in documents]\n",
    "    for candid in candidates:\n",
    "        if candid['identifier'].split(':')[-1] in success:\n",
    "            display(candid)\n",
    "            logs.write(candid.generate_markdown_text() + '\\n\\n')\n",
    "\n",
    "    ## failed\n",
    "    logs.write(\"## Failed papers\\n\\n\")\n",
    "    display(Markdown(\"## Failed papers\"))\n",
    "    failed = sorted(failed, key=lambda x: x[1])\n",
    "    current_reason = \"\"\n",
    "    for paper, reason in failed:\n",
    "        if 'affiliation' in reason:\n",
    "            color = 'green'\n",
    "        else:\n",
    "            color = 'red'\n",
    "        data = Markdown(\n",
    "                paper.generate_markdown_text() + \n",
    "                f'\\n|<p style=\"color:{color:s}\"> **ERROR** </p>| <p style=\"color:{color:s}\">{reason:s}</p> |'\n",
    "               )\n",
    "        if reason != current_reason:\n",
    "            logs.write(f'### {reason:s} \\n\\n')\n",
    "            current_reason = reason\n",
    "        logs.write(data.data + '\\n\\n')\n",
    "        \n",
    "        # only display here the important errors (all in logs)\n",
    "        # if color in ('red',):\n",
    "        display(data)"
   ]
  },
  {
   "cell_type": "markdown",
   "id": "472d20ee",
   "metadata": {
    "papermill": {
     "duration": 0.004599,
     "end_time": "2023-04-17T04:08:11.351820",
     "exception": false,
     "start_time": "2023-04-17T04:08:11.347221",
     "status": "completed"
    },
    "tags": []
   },
   "source": [
    "## Export documents\n",
    "\n",
    "We now write the .md files and export relevant images"
   ]
  },
  {
   "cell_type": "code",
   "execution_count": 6,
   "id": "d426aed9",
   "metadata": {
    "execution": {
     "iopub.execute_input": "2023-04-17T04:08:11.362363Z",
     "iopub.status.busy": "2023-04-17T04:08:11.361916Z",
     "iopub.status.idle": "2023-04-17T04:08:11.368878Z",
     "shell.execute_reply": "2023-04-17T04:08:11.368353Z"
    },
    "papermill": {
     "duration": 0.01376,
     "end_time": "2023-04-17T04:08:11.370246",
     "exception": false,
     "start_time": "2023-04-17T04:08:11.356486",
     "status": "completed"
    },
    "tags": []
   },
   "outputs": [],
   "source": [
    "def export_markdown_summary(md: str, md_fname:str, directory: str):\n",
    "    \"\"\"Export MD document and associated relevant images\"\"\"\n",
    "    import os\n",
    "    import shutil\n",
    "    import re\n",
    "\n",
    "    if (os.path.exists(directory) and not os.path.isdir(directory)):\n",
    "        raise RuntimeError(f\"a non-directory file exists with name {directory:s}\")\n",
    "\n",
    "    if (not os.path.exists(directory)):\n",
    "        print(f\"creating directory {directory:s}\")\n",
    "        os.mkdir(directory)\n",
    "\n",
    "    fig_fnames = (re.compile(r'\\[Fig.*\\]\\((.*)\\)').findall(md) + \n",
    "                  re.compile(r'\\<img src=\"([^>\\s]*)\"[^>]*/>').findall(md))\n",
    "    for fname in fig_fnames:\n",
    "        if 'http' in fname:\n",
    "            # No need to copy online figures\n",
    "            continue\n",
    "        destdir = os.path.join(directory, os.path.dirname(fname))\n",
    "        destfname = os.path.join(destdir, os.path.basename(fname))\n",
    "        try:\n",
    "            os.makedirs(destdir)\n",
    "        except FileExistsError:\n",
    "            pass\n",
    "        shutil.copy(fname, destfname)\n",
    "    with open(os.path.join(directory, md_fname), 'w') as fout:\n",
    "        fout.write(md)\n",
    "    print(\"exported in \", os.path.join(directory, md_fname))\n",
    "    [print(\"    + \" + os.path.join(directory,fk)) for fk in fig_fnames]"
   ]
  },
  {
   "cell_type": "code",
   "execution_count": 7,
   "id": "014d04a4",
   "metadata": {
    "execution": {
     "iopub.execute_input": "2023-04-17T04:08:11.380997Z",
     "iopub.status.busy": "2023-04-17T04:08:11.380417Z",
     "iopub.status.idle": "2023-04-17T04:08:11.395155Z",
     "shell.execute_reply": "2023-04-17T04:08:11.394445Z"
    },
    "papermill": {
     "duration": 0.021673,
     "end_time": "2023-04-17T04:08:11.396608",
     "exception": false,
     "start_time": "2023-04-17T04:08:11.374935",
     "status": "completed"
    },
    "tags": []
   },
   "outputs": [
    {
     "name": "stdout",
     "output_type": "stream",
     "text": [
      "exported in  _build/html/2304.07158.md\n",
      "    + _build/html/tmp_2304.07158/./images/2_Gmag_vs_plxdiff_E20_APODR17.png\n",
      "    + _build/html/tmp_2304.07158/./images/1_mw_skymap_details_APOGEEDR17_final.png\n",
      "    + _build/html/tmp_2304.07158/./images/3_plxdiff_beta_G_nueff_E20_min10.png\n",
      "exported in  _build/html/2304.07237.md\n",
      "    + _build/html/tmp_2304.07237/./Overview_CORNISH_IRDC_G1111.png\n",
      "    + _build/html/tmp_2304.07237/./Overview_AGAL_IRDC_G1111.png\n",
      "    + _build/html/tmp_2304.07237/./Overview_Herschel_SPIRE_IRDC_G1111.png\n",
      "    + _build/html/tmp_2304.07237/./Overview_Herschel_PACS_IRDC_G1111.png\n",
      "    + _build/html/tmp_2304.07237/./Overview_Spitzer_MIPS_IRDC_G1111.png\n",
      "    + _build/html/tmp_2304.07237/./Overview_Spitzer_IRAC_IRDC_G1111.png\n",
      "    + _build/html/tmp_2304.07237/./Continuum_all.png\n",
      "    + _build/html/tmp_2304.07237/./visibility_fit_HMC_G0962_2.png\n"
     ]
    }
   ],
   "source": [
    "for paper_id, md in documents:\n",
    "    export_markdown_summary(md, f\"{paper_id:s}.md\", '_build/html/')"
   ]
  },
  {
   "cell_type": "markdown",
   "id": "f087a0a7",
   "metadata": {
    "papermill": {
     "duration": 0.004762,
     "end_time": "2023-04-17T04:08:11.406204",
     "exception": false,
     "start_time": "2023-04-17T04:08:11.401442",
     "status": "completed"
    },
    "tags": []
   },
   "source": [
    "## Display the papers\n",
    "\n",
    "Not necessary but allows for a quick check."
   ]
  },
  {
   "cell_type": "code",
   "execution_count": 8,
   "id": "fd25f625",
   "metadata": {
    "execution": {
     "iopub.execute_input": "2023-04-17T04:08:11.417377Z",
     "iopub.status.busy": "2023-04-17T04:08:11.416793Z",
     "iopub.status.idle": "2023-04-17T04:08:11.422635Z",
     "shell.execute_reply": "2023-04-17T04:08:11.422016Z"
    },
    "papermill": {
     "duration": 0.012915,
     "end_time": "2023-04-17T04:08:11.424056",
     "exception": false,
     "start_time": "2023-04-17T04:08:11.411141",
     "status": "completed"
    },
    "scrolled": false,
    "tags": []
   },
   "outputs": [
    {
     "data": {
      "text/markdown": [
       "<div class=\"macros\" style=\"visibility:hidden;\">\n",
       "$\\newcommand{\\ensuremath}{}$\n",
       "$\\newcommand{\\xspace}{}$\n",
       "$\\newcommand{\\object}[1]{\\texttt{#1}}$\n",
       "$\\newcommand{\\farcs}{{.}''}$\n",
       "$\\newcommand{\\farcm}{{.}'}$\n",
       "$\\newcommand{\\arcsec}{''}$\n",
       "$\\newcommand{\\arcmin}{'}$\n",
       "$\\newcommand{\\ion}[2]{#1#2}$\n",
       "$\\newcommand{\\textsc}[1]{\\textrm{#1}}$\n",
       "$\\newcommand{\\hl}[1]{\\textrm{#1}}$\n",
       "$\\newcommand{\\footnote}[1]{}$\n",
       "$\\newcommand{\\diff}{{\\hbox{d}}}$\n",
       "$\\newcommand{\\numax}{\\mbox{\\nu_{\\rm max}}\\xspace}$\n",
       "$\\newcommand{\\deltanu}{\\mbox{\\langle \\Delta\\nu \\rangle}\\xspace}$\n",
       "$\\newcommand{\\teff}{\\mbox{T_{\\rm eff}}\\xspace}$\n",
       "$\\newcommand{\\logg}{\\mbox{\\log g}\\xspace}$\n",
       "$\\newcommand{\\feh}{\\mbox{\\rm{[Fe/H]}}\\xspace}$\n",
       "$\\newcommand{\\mh}{\\mbox{\\rm{[M/H]}}\\xspace}$\n",
       "$\\newcommand{\\afe}{\\mbox{\\rm{[\\alpha/Fe]}}\\xspace}$\n",
       "$\\newcommand{\\msun}{\\mbox{\\mathrm{M}_{\\odot}}\\xspace}$\n",
       "$\\newcommand{\\lsun}{\\mbox{\\mathrm{L}_{\\odot}}\\xspace}$\n",
       "$\\newcommand{\\mearth}{\\mbox{\\mathrm{M}_{\\oplus}}\\xspace}$\n",
       "$\\newcommand{\\rsun}{\\mbox{\\mathrm{R}_{\\odot}}\\xspace}$\n",
       "$\\newcommand{\\muas}{\\mbox{\\mu \\rm as}\\xspace}$\n",
       "$\\newcommand{\\kepler}{\\emph{Kepler}\\xspace}$\n",
       "$\\newcommand{\\gaia}{\\emph{Gaia}\\xspace}$\n",
       "$\\newcommand{\\ktwo}{K2\\xspace}$\n",
       "$\\newcommand{\\tess}{TESS\\xspace}$</div>\n",
       "\n",
       "\n",
       "\n",
       "<div id=\"title\">\n",
       "\n",
       "# Investigating $\\gaia$ EDR3 parallax systematics using asteroseismology of Cool Giant Stars observed by $\\$$\\kepler$, $\\ktwo$, and $\\tess$\n",
       "\n",
       "</div>\n",
       "<div id=\"comments\">\n",
       "\n",
       "[![arXiv](https://img.shields.io/badge/arXiv-2304.07158-b31b1b.svg)](https://arxiv.org/abs/2304.07158)<mark>Appeared on: 2023-04-17</mark> -  _11 pages, 8 figures, Accepted for publication in A&A_\n",
       "\n",
       "</div>\n",
       "<div id=\"authors\">\n",
       "\n",
       "S. Khan, et al. -- incl., <mark>T. Cantat-Gaudin</mark>\n",
       "\n",
       "</div>\n",
       "<div id=\"abstract\">\n",
       "\n",
       "**Abstract:** $\\gaia$ EDR3 has provided unprecedented data that generate a lot of interest in the astrophysical community, despite the fact that systematics affect the reported parallaxes at the level of $\\sim 10   \\rm \\mu as$ . Independent distance measurements are available from asteroseismology of red-giant stars with measurable parallaxes, whose magnitude and colour ranges more closely reflect those of other stars of interest. In this paper, we determine distances to nearly 12,500 red-giant branch and red clump stars observed by $\\kepler$ , $\\ktwo$ , and $\\tess$ . This is done via a grid-based modelling method, where global asteroseismic observables, constraints on the photospheric chemical composition, and on the unreddened photometry are used as observational inputs. This large catalogue of asteroseismic distances allows us to provide a first comparison with $\\gaia$ EDR3 parallaxes. Offset values estimated with asteroseismology show no clear trend with ecliptic latitude or magnitude, and the trend whereby they increase (in absolute terms) as we move towards redder colours is dominated by the brightest stars. The correction model proposed by [Lindegren, Bastian and Biermann (2021)]() is not suitable for all the fields considered in this study. We find a good agreement between asteroseismic results and model predictions of the red clump magnitude. We discuss possible trends with the $\\gaia$ scan law statistics, and show that two magnitude regimes exist where either asteroseismology or $\\gaia$ provides the best precision in parallax.\n",
       "\n",
       "</div>\n",
       "\n",
       "<div id=\"div_fig1\">\n",
       "\n",
       "<img src=\"tmp_2304.07158/./images/2_Gmag_vs_plxdiff_E20_APODR17.png\" alt=\"Fig6\" width=\"100%\"/>\n",
       "\n",
       "**Figure 6. -** Parallax difference $\\varpi_{\\rm EDR3}-\\varpi_{\\rm PARAM}$ as a function of the $G$ magnitude for the full sample (top), $\\kepler$(bottom left), $\\ktwo$(bottom middle), and $\\tess$(bottom right panel), using \\citetalias{Elsworth2020} and APOGEE DR17. The colour scale indicates the density of stars, increasing from black to white. The red, yellow, and blue-shaded areas show the median parallax difference binned by magnitude for $\\kepler$, $\\ktwo$, and $\\tess$, respectively. (*fig:trend_G*)\n",
       "\n",
       "</div>\n",
       "<div id=\"div_fig2\">\n",
       "\n",
       "<img src=\"tmp_2304.07158/./images/1_mw_skymap_details_APOGEEDR17_final.png\" alt=\"Fig5\" width=\"100%\"/>\n",
       "\n",
       "**Figure 5. -** Skymap in Galactic coordinates, showing the location and coverage resulting from the crossmatch between the various asteroseismic fields considered in this study and APOGEE DR17. This figure has been generated using the \\texttt{python} package \\texttt{mw-plot}(\\url{milkyway-plot.readthedocs.io}). The background image comes from ESA/Gaia/DPAC. (*fig:skymap*)\n",
       "\n",
       "</div>\n",
       "<div id=\"div_fig3\">\n",
       "\n",
       "<img src=\"tmp_2304.07158/./images/3_plxdiff_beta_G_nueff_E20_min10.png\" alt=\"Fig1\" width=\"100%\"/>\n",
       "\n",
       "**Figure 1. -** _Top_: Median parallax offsets as estimated from asteroseismology (\\citetalias{Elsworth2020}+APOGEE), as a function of the sine of ecliptic latitude. $\\kepler$ and $\\tess$ are plotted as white and black symbols, respectively. The coloured symbols correspond to the various $\\ktwo$ fields, and follow the colour scheme adopted in Fig. \\ref{fig:skymap}. _Middle and bottom_: Median parallax difference binned by $G$ magnitude (middle) and effective wavenumber (bottom panel). $\\kepler$ and $\\tess$ are plotted as black solid and dashed lines, respectively. The median uncertainty on the parallax difference is shown in the lower part of each panel. C15 does not appear in the two bottom panels as there are not enough stars to bin in $G$ and $\\nu_{\\rm eff}$. (*fig:offset_summary*)\n",
       "\n",
       "</div><div id=\"qrcode\"><img src=https://api.qrserver.com/v1/create-qr-code/?size=100x100&data=\"https://arxiv.org/abs/2304.07158\"></div>"
      ],
      "text/plain": [
       "<IPython.core.display.Markdown object>"
      ]
     },
     "metadata": {},
     "output_type": "display_data"
    },
    {
     "data": {
      "text/markdown": [
       "<div class=\"macros\" style=\"visibility:hidden;\">\n",
       "$\\newcommand{\\ensuremath}{}$\n",
       "$\\newcommand{\\xspace}{}$\n",
       "$\\newcommand{\\object}[1]{\\texttt{#1}}$\n",
       "$\\newcommand{\\farcs}{{.}''}$\n",
       "$\\newcommand{\\farcm}{{.}'}$\n",
       "$\\newcommand{\\arcsec}{''}$\n",
       "$\\newcommand{\\arcmin}{'}$\n",
       "$\\newcommand{\\ion}[2]{#1#2}$\n",
       "$\\newcommand{\\textsc}[1]{\\textrm{#1}}$\n",
       "$\\newcommand{\\hl}[1]{\\textrm{#1}}$\n",
       "$\\newcommand{\\footnote}[1]{}$\n",
       "$\\newcommand{\\arraystretch}{1.1}$\n",
       "$\\newcommand{\\arraystretch}{1.1}$\n",
       "$\\newcommand{\\arraystretch}{1.1}$\n",
       "$\\newcommand{\\arraystretch}{1.1}$\n",
       "$\\newcommand{\\}{as}$</div>\n",
       "\n",
       "\n",
       "\n",
       "<div id=\"title\">\n",
       "\n",
       "# Physical and chemical complexity in high-mass star-forming regions with ALMA.\n",
       "\n",
       "</div>\n",
       "<div id=\"comments\">\n",
       "\n",
       "[![arXiv](https://img.shields.io/badge/arXiv-2304.07237-b31b1b.svg)](https://arxiv.org/abs/2304.07237)<mark>Appeared on: 2023-04-17</mark> -  _21 pages, 10 figures, submitted to A&A_\n",
       "\n",
       "</div>\n",
       "<div id=\"authors\">\n",
       "\n",
       "C. Gieser, et al. -- incl., <mark>H. Beuther</mark>, <mark>D. Semenov</mark>\n",
       "\n",
       "</div>\n",
       "<div id=\"abstract\">\n",
       "\n",
       "**Abstract:** High-mass star formation is a hierarchical process from cloud ( $>$ 1 pc), to clump (0.1-1 pc) to core scales ( $<$ 0.1 pc). Modern interferometers achieving high angular resolutions at mm wavelengths allow us to probe the physical and chemical properties of the gas and dust of protostellar cores in the earliest evolutionary formation phases. In this study, we investigate how physical properties, such as the density and temperature profiles, evolve on core scales through the evolutionary sequence during high-mass star formation ranging from protostars in cold infrared dark clouds to evolved UCH ${\\sc ii}$ regions. We observed 11 high-mass star-forming regions with the Atacama Large Millimeter/submillimeter Array (ALMA) at 3 mm wavelengths. Based on the 3 mm continuum morphology and H(40) $\\alpha$ recombination line emission, tracing locations with free-free (ff) emission, the fragmented cores analyzed in this study are classified into either \"dust\" or \"dust+ff\" cores. In addition, we resolve three cometary UCH ${\\sc ii}$ regions with extended 3 mm emission that is dominated by free-free emission. The temperature structure and radial profiles ( $T \\sim r^{-q}$ ) are determined by modeling molecular emission of CH $_{3}$ CN and CH $_{3}^{13}$ CN with \\texttt{XCLASS} and by using the HCN-to-HNC intensity ratio as probes for the gas kinetic temperature. The density profiles ( $n \\sim r^{-p}$ ) are estimated from the 3 mm continuum visibility profiles. The masses $M$ and H $_{2}$ column densities $N$ (H $_{2}$ ) are then calculated from the 3 mm dust continuum emission. We find a large spread in mass and peak H $_{2}$ column density in the detected sources ranging from 0.1 - 150 $M_\\odot$ and 10 $^{23}$ - 10 $^{26}$ cm $^{-2}$ , respectively. Including the results of the CORE and CORE-extension studies  ([Gieser, Beuther and Semenov 2021](), [Gieser, Beuther and Semenov 2022]())  to increase the sample size, we find evolutionary trends on core scales for the temperature power-law index $q$ increasing from 0.1 to 0.7 from infrared dark clouds to UCH ${\\sc ii}$ regions, while for the the density power-law index $p$ on core scales, we do not find strong evidence for an evolutionary trend. However, we find that on the larger clump scales throughout these evolutionary phases the density profile flattens from $p \\approx 2.2$ to $p \\approx 1.2$ . By characterizing a large statistical sample of individual fragmented cores, we find that the physical properties, such as the temperature on core scales and density profile on clump scales, evolve even during the earliest evolutionary phases in high-mass star-forming regions. These findings provide observational constraint for theoretical models describing the formation of massive stars. In follow-up studies we aim to further characterize the chemical properties of the regions by analyzing the large amount of molecular lines detected with ALMA in order to investigate how the chemical properties of the molecular gas evolve during the formation of massive stars.\n",
       "\n",
       "</div>\n",
       "\n",
       "<div id=\"div_fig1\">\n",
       "\n",
       "<img src=\"tmp_2304.07237/./Overview_CORNISH_IRDC_G1111.png\" alt=\"Fig12.1\" width=\"16%\"/><img src=\"tmp_2304.07237/./Overview_AGAL_IRDC_G1111.png\" alt=\"Fig12.2\" width=\"16%\"/><img src=\"tmp_2304.07237/./Overview_Herschel_SPIRE_IRDC_G1111.png\" alt=\"Fig12.3\" width=\"16%\"/><img src=\"tmp_2304.07237/./Overview_Herschel_PACS_IRDC_G1111.png\" alt=\"Fig12.4\" width=\"16%\"/><img src=\"tmp_2304.07237/./Overview_Spitzer_MIPS_IRDC_G1111.png\" alt=\"Fig12.5\" width=\"16%\"/><img src=\"tmp_2304.07237/./Overview_Spitzer_IRAC_IRDC_G1111.png\" alt=\"Fig12.6\" width=\"16%\"/>\n",
       "\n",
       "**Figure 12. -** Overview of IRDC G11.11$-$4.Multi wavelength overview of IRDC G11.11$-$4. In color, CORNISH 6 cm, ATLASGAL 870$\\upmu$m, _Herschel_ SPIRE 250 $\\upmu$m, _Herschel_ PACS 70 $\\upmu$m, _Spitzer_ MIPS 24 $\\upmu$m, and _Spitzer_ IRAC 4.5 $\\upmu$m data are presented as labeled. In all panels, the ALMA primary beam size is indicated by a grey circle. In the top right and left and bottom right panel, the ALMA 3 mm continuum data are shown by red contours. The dotted red contour marks the $-5\\sigma_\\mathrm{cont}$ level. The solid red contours start at $5\\sigma_\\mathrm{cont}$ and contour steps increase by a factor of 2 (e.g., 5, 10, 20, $40\\sigma_\\mathrm{cont}$). The ALMA synthesized beam size is shown in the bottom left corner. (*fig:overview_IRDC_G1111*)\n",
       "\n",
       "</div>\n",
       "<div id=\"div_fig2\">\n",
       "\n",
       "<img src=\"tmp_2304.07237/./Continuum_all.png\" alt=\"Fig6\" width=\"100%\"/>\n",
       "\n",
       "**Figure 6. -** ALMA 3 mm continuum images of the sample.ALMA 3 mm continuum. In each panel, the continuum data of the region is shown in color and black contours. The dotted black contour marks the $-5\\sigma_\\mathrm{cont}$ level. The solid black contours start at $5\\sigma_\\mathrm{cont}$ and contour steps increase by a factor of 2 (e.g., 5, 10, 20, $40\\sigma_\\mathrm{cont}$). The synthesized beam size is shown in the bottom left corner. The bar in the top left corner indicates a linear spatial scale of 0.1 pc. The continuum noise and synthesized beam size are listed in Table \\ref{tab:ALMAcontinuumdataproducts}. The continuum fragments are classified into dust cores (red), dust+ff cores (orange), cometary UCH{\\sc ii} regions (cyan), further explained in Sect. \\ref{sec:ALMAfrag}. Fragments with $S$/$N < 15$ are not analyzed in this study and are labeled in grey. (*fig:ALMAcontinuum*)\n",
       "\n",
       "</div>\n",
       "<div id=\"div_fig3\">\n",
       "\n",
       "<img src=\"tmp_2304.07237/./visibility_fit_HMC_G0962_2.png\" alt=\"Fig2\" width=\"100%\"/>\n",
       "\n",
       "**Figure 2. -** Visibility profile of dust+ff core 2 in HMC G9.62$+$0.19. The profile of the non-core-subtracted and core-subtracted data is shown in grey and black, respectively (further explained in Sect. \\ref{sec:ALMAsourcesub}). Two power-law profiles, tracing roughly the clump and core scales, are fitted to the core-subtracted data shown in red and green, respectively. The bottom axis shows the $uv$ distance in k$\\lambda$ and the top axis is the corresponding spatial scale. The purple dashed line indicates the source diameter (Table \\ref{tab:ALMApositions}). The figures for the remaining sources are shown in Fig. \\ref{fig:ALMAvisibilityprofileapp}. (*fig:ALMAvisibilityprofile*)\n",
       "\n",
       "</div><div id=\"qrcode\"><img src=https://api.qrserver.com/v1/create-qr-code/?size=100x100&data=\"https://arxiv.org/abs/2304.07237\"></div>"
      ],
      "text/plain": [
       "<IPython.core.display.Markdown object>"
      ]
     },
     "metadata": {},
     "output_type": "display_data"
    }
   ],
   "source": [
    "[display(Markdown(k[1])) for k in documents];"
   ]
  },
  {
   "cell_type": "markdown",
   "id": "873873a4",
   "metadata": {
    "papermill": {
     "duration": 0.005184,
     "end_time": "2023-04-17T04:08:11.434523",
     "exception": false,
     "start_time": "2023-04-17T04:08:11.429339",
     "status": "completed"
    },
    "tags": []
   },
   "source": [
    "# Create HTML index"
   ]
  },
  {
   "cell_type": "code",
   "execution_count": 9,
   "id": "cf665672",
   "metadata": {
    "execution": {
     "iopub.execute_input": "2023-04-17T04:08:11.446396Z",
     "iopub.status.busy": "2023-04-17T04:08:11.445914Z",
     "iopub.status.idle": "2023-04-17T04:08:11.454554Z",
     "shell.execute_reply": "2023-04-17T04:08:11.453923Z"
    },
    "papermill": {
     "duration": 0.016242,
     "end_time": "2023-04-17T04:08:11.455998",
     "exception": false,
     "start_time": "2023-04-17T04:08:11.439756",
     "status": "completed"
    },
    "tags": []
   },
   "outputs": [
    {
     "name": "stdout",
     "output_type": "stream",
     "text": [
      "189  publications files modified in the last 7 days.\n"
     ]
    }
   ],
   "source": [
    "from datetime import datetime, timedelta, timezone\n",
    "from glob import glob\n",
    "import os\n",
    "\n",
    "files = glob('_build/html/*.md')\n",
    "days = 7\n",
    "now = datetime.today()\n",
    "res = []\n",
    "for fk in files:\n",
    "    stat_result = os.stat(fk).st_ctime\n",
    "    modified = datetime.fromtimestamp(stat_result, tz=timezone.utc).replace(tzinfo=None)\n",
    "    delta = now.today() - modified\n",
    "    if delta <= timedelta(days=days):\n",
    "        res.append((delta.seconds, fk))\n",
    "res = [k[1] for k in reversed(sorted(res, key=lambda x:x[1]))]\n",
    "npub = len(res)\n",
    "print(len(res), f\" publications files modified in the last {days:d} days.\")\n",
    "# [ print('\\t', k) for k in res ];"
   ]
  },
  {
   "cell_type": "code",
   "execution_count": 10,
   "id": "015de740",
   "metadata": {
    "execution": {
     "iopub.execute_input": "2023-04-17T04:08:11.467899Z",
     "iopub.status.busy": "2023-04-17T04:08:11.467481Z",
     "iopub.status.idle": "2023-04-17T04:08:11.482932Z",
     "shell.execute_reply": "2023-04-17T04:08:11.482305Z"
    },
    "papermill": {
     "duration": 0.022967,
     "end_time": "2023-04-17T04:08:11.484369",
     "exception": false,
     "start_time": "2023-04-17T04:08:11.461402",
     "status": "completed"
    },
    "tags": []
   },
   "outputs": [
    {
     "name": "stdout",
     "output_type": "stream",
     "text": [
      "4  publications in the last 7 days.\n"
     ]
    }
   ],
   "source": [
    "import datetime\n",
    "from glob import glob\n",
    "\n",
    "def get_last_n_days(lst, days=1):\n",
    "    \"\"\" Get the documents from the last n days \"\"\"\n",
    "    sorted_lst = sorted(lst, key=lambda x: x[1], reverse=True)\n",
    "    for fname, date in sorted_lst:\n",
    "        if date >= str(datetime.date.today() - datetime.timedelta(days=days)):\n",
    "            yield fname\n",
    "\n",
    "def extract_appearance_dates(lst_file):\n",
    "    dates = []\n",
    "\n",
    "    def get_date(line):\n",
    "        return line\\\n",
    "            .split('Appeared on:')[-1]\\\n",
    "            .split('</mark>')[0].strip()\n",
    "\n",
    "    for fname in lst:\n",
    "        with open(fname, 'r') as f:\n",
    "            found_date = False\n",
    "            for line in f:\n",
    "                if not found_date:\n",
    "                    if \"Appeared on\" in line:\n",
    "                        found_date = True\n",
    "                        dates.append((fname, get_date(line)))\n",
    "                else:\n",
    "                    break\n",
    "    return dates\n",
    "\n",
    "from glob import glob\n",
    "lst = glob('_build/html/*md')\n",
    "days = 7\n",
    "dates = extract_appearance_dates(lst)\n",
    "res = list(get_last_n_days(dates, days))\n",
    "npub = len(res)\n",
    "print(len(res), f\" publications in the last {days:d} days.\")"
   ]
  },
  {
   "cell_type": "code",
   "execution_count": 11,
   "id": "52ca0208",
   "metadata": {
    "execution": {
     "iopub.execute_input": "2023-04-17T04:08:11.496516Z",
     "iopub.status.busy": "2023-04-17T04:08:11.495949Z",
     "iopub.status.idle": "2023-04-17T04:08:11.501323Z",
     "shell.execute_reply": "2023-04-17T04:08:11.500672Z"
    },
    "papermill": {
     "duration": 0.012877,
     "end_time": "2023-04-17T04:08:11.502653",
     "exception": false,
     "start_time": "2023-04-17T04:08:11.489776",
     "status": "completed"
    },
    "scrolled": false,
    "tags": []
   },
   "outputs": [],
   "source": [
    "def create_carousel(npub=4):\n",
    "    \"\"\" Generate the HTML code for a carousel with `npub` slides \"\"\"\n",
    "    carousel = [\"\"\"  <div class=\"carousel\" \"\"\",\n",
    "                \"\"\"       data-flickity='{ \"autoPlay\": 10000, \"adaptiveHeight\": true, \"resize\": true, \"wrapAround\": true, \"pauseAutoPlayOnHover\": true, \"groupCells\": 1 }' id=\"asyncTypeset\">\"\"\"\n",
    "                ]\n",
    "    \n",
    "    item_str = \"\"\"    <div class=\"carousel-cell\"> <div id=\"slide{k}\" class=\"md_view\">Content {k}</div> </div>\"\"\"\n",
    "    for k in range(1, npub + 1):\n",
    "        carousel.append(item_str.format(k=k))\n",
    "    carousel.append(\"  </div>\")\n",
    "    return '\\n'.join(carousel)\n",
    "\n",
    "def create_grid(npub=4):\n",
    "    \"\"\" Generate the HTML code for a flat grid with `npub` slides \"\"\"\n",
    "    grid = [\"\"\"  <div class=\"grid\"> \"\"\",\n",
    "                ]\n",
    "    \n",
    "    item_str = \"\"\"    <div class=\"grid-item\"> <div id=\"slide{k}\" class=\"md_view\">Content {k}</div> </div>\"\"\"\n",
    "    for k in range(1, npub + 1):\n",
    "        grid.append(item_str.format(k=k))\n",
    "    grid.append(\"  </div>\")\n",
    "    return '\\n'.join(grid)"
   ]
  },
  {
   "cell_type": "code",
   "execution_count": 12,
   "id": "a6eac5b6",
   "metadata": {
    "execution": {
     "iopub.execute_input": "2023-04-17T04:08:11.514809Z",
     "iopub.status.busy": "2023-04-17T04:08:11.514295Z",
     "iopub.status.idle": "2023-04-17T04:08:11.520777Z",
     "shell.execute_reply": "2023-04-17T04:08:11.520205Z"
    },
    "papermill": {
     "duration": 0.014165,
     "end_time": "2023-04-17T04:08:11.522210",
     "exception": false,
     "start_time": "2023-04-17T04:08:11.508045",
     "status": "completed"
    },
    "scrolled": false,
    "tags": []
   },
   "outputs": [],
   "source": [
    "carousel = create_carousel(npub)\n",
    "docs = ', '.join(['\"{0:s}\"'.format(k.split('/')[-1]) for k in res])\n",
    "slides = ', '.join([f'\"slide{k}\"' for k in range(1, npub + 1)])\n",
    "\n",
    "with open(\"daily_template.html\", \"r\") as tpl:\n",
    "    page = tpl.read()\n",
    "    page = page.replace(\"{%-- carousel:s --%}\", carousel)\\\n",
    "               .replace(\"{%-- suptitle:s --%}\",  \"7-day archives\" )\\\n",
    "               .replace(\"{%-- docs:s --%}\", docs)\\\n",
    "               .replace(\"{%-- slides:s --%}\", slides)\n",
    "    \n",
    "with open(\"_build/html/index_7days.html\", 'w') as fout:\n",
    "    fout.write(page)"
   ]
  },
  {
   "cell_type": "code",
   "execution_count": 13,
   "id": "adc1a1ec",
   "metadata": {
    "execution": {
     "iopub.execute_input": "2023-04-17T04:08:11.540322Z",
     "iopub.status.busy": "2023-04-17T04:08:11.539200Z",
     "iopub.status.idle": "2023-04-17T04:08:11.547283Z",
     "shell.execute_reply": "2023-04-17T04:08:11.546702Z"
    },
    "papermill": {
     "duration": 0.020869,
     "end_time": "2023-04-17T04:08:11.548667",
     "exception": false,
     "start_time": "2023-04-17T04:08:11.527798",
     "status": "completed"
    },
    "tags": []
   },
   "outputs": [
    {
     "name": "stdout",
     "output_type": "stream",
     "text": [
      "2  publications in the last day.\n"
     ]
    }
   ],
   "source": [
    "# redo for today\n",
    "days = 1\n",
    "res = list(get_last_n_days(dates, days))\n",
    "npub = len(res)\n",
    "print(len(res), f\" publications in the last day.\")\n",
    "\n",
    "carousel = create_carousel(npub)\n",
    "docs = ', '.join(['\"{0:s}\"'.format(k.split('/')[-1]) for k in res])\n",
    "slides = ', '.join([f'\"slide{k}\"' for k in range(1, npub + 1)])\n",
    "\n",
    "with open(\"daily_template.html\", \"r\") as tpl:\n",
    "    page = tpl.read()\n",
    "    page = page.replace(\"{%-- carousel:s --%}\", carousel)\\\n",
    "               .replace(\"{%-- suptitle:s --%}\",  \"Daily\" )\\\n",
    "               .replace(\"{%-- docs:s --%}\", docs)\\\n",
    "               .replace(\"{%-- slides:s --%}\", slides)\n",
    "    \n",
    "# print(carousel, docs, slides)\n",
    "# print(page)\n",
    "with open(\"_build/html/index_daily.html\", 'w') as fout:\n",
    "    fout.write(page)"
   ]
  },
  {
   "cell_type": "code",
   "execution_count": 14,
   "id": "00eece82",
   "metadata": {
    "execution": {
     "iopub.execute_input": "2023-04-17T04:08:11.561256Z",
     "iopub.status.busy": "2023-04-17T04:08:11.560854Z",
     "iopub.status.idle": "2023-04-17T04:08:11.567458Z",
     "shell.execute_reply": "2023-04-17T04:08:11.566971Z"
    },
    "papermill": {
     "duration": 0.014643,
     "end_time": "2023-04-17T04:08:11.568868",
     "exception": false,
     "start_time": "2023-04-17T04:08:11.554225",
     "status": "completed"
    },
    "scrolled": false,
    "tags": []
   },
   "outputs": [
    {
     "name": "stdout",
     "output_type": "stream",
     "text": [
      "6  6 publications selected.\n"
     ]
    }
   ],
   "source": [
    "# Create the flat grid of the last N papers (fixed number regardless of dates)\n",
    "from itertools import islice \n",
    "\n",
    "npub = 6\n",
    "res = [k[0] for k in (islice(reversed(sorted(dates, key=lambda x: x[1])), 6))]\n",
    "print(len(res), f\" {npub} publications selected.\")\n",
    "\n",
    "grid = create_grid(npub)\n",
    "docs = ', '.join(['\"{0:s}\"'.format(k.split('/')[-1]) for k in res])\n",
    "slides = ', '.join([f'\"slide{k}\"' for k in range(1, npub + 1)])\n",
    "\n",
    "with open(\"grid_template.html\", \"r\") as tpl:\n",
    "    page = tpl.read()\n",
    "    page = page.replace(\"{%-- grid-content:s --%}\", grid)\\\n",
    "               .replace(\"{%-- suptitle:s --%}\",  f\"Last {npub:,d} papers\" )\\\n",
    "               .replace(\"{%-- docs:s --%}\", docs)\\\n",
    "               .replace(\"{%-- slides:s --%}\", slides)\n",
    "    \n",
    "# print(grid, docs, slides)\n",
    "# print(page)\n",
    "with open(\"_build/html/index_npub_grid.html\", 'w') as fout:\n",
    "    fout.write(page)"
   ]
  }
 ],
 "metadata": {
  "kernelspec": {
   "display_name": "Python 3 (ipykernel)",
   "language": "python",
   "name": "python3"
  },
  "language_info": {
   "codemirror_mode": {
    "name": "ipython",
    "version": 3
   },
   "file_extension": ".py",
   "mimetype": "text/x-python",
   "name": "python",
   "nbconvert_exporter": "python",
   "pygments_lexer": "ipython3",
   "version": "3.9.16"
  },
  "papermill": {
   "default_parameters": {},
   "duration": 129.54188,
   "end_time": "2023-04-17T04:08:11.891886",
   "environment_variables": {},
   "exception": null,
   "input_path": "MPIA daily digest.ipynb",
   "output_path": "log.ipynb",
   "parameters": {},
   "start_time": "2023-04-17T04:06:02.350006",
   "version": "2.4.0"
  },
  "vscode": {
   "interpreter": {
    "hash": "aee8b7b246df8f9039afb4144a1f6fd8d2ca17a180786b69acc140d282b71a49"
   }
  },
  "widgets": {
   "application/vnd.jupyter.widget-state+json": {
    "state": {
     "0d17c5d3a1044e23b35eb2a8495daabb": {
      "model_module": "@jupyter-widgets/controls",
      "model_module_version": "2.0.0",
      "model_name": "FloatProgressModel",
      "state": {
       "_dom_classes": [],
       "_model_module": "@jupyter-widgets/controls",
       "_model_module_version": "2.0.0",
       "_model_name": "FloatProgressModel",
       "_view_count": null,
       "_view_module": "@jupyter-widgets/controls",
       "_view_module_version": "2.0.0",
       "_view_name": "ProgressView",
       "bar_style": "success",
       "description": "",
       "description_allow_html": false,
       "layout": "IPY_MODEL_af5ce3610c4f44ab9a2343d52b35931c",
       "max": 3.0,
       "min": 0.0,
       "orientation": "horizontal",
       "style": "IPY_MODEL_11d2f86d9c534354b89f514ebdcc3aaf",
       "tabbable": null,
       "tooltip": null,
       "value": 3.0
      }
     },
     "1003b9b6875a404bbf892c9b8fa8156e": {
      "model_module": "@jupyter-widgets/controls",
      "model_module_version": "2.0.0",
      "model_name": "HBoxModel",
      "state": {
       "_dom_classes": [],
       "_model_module": "@jupyter-widgets/controls",
       "_model_module_version": "2.0.0",
       "_model_name": "HBoxModel",
       "_view_count": null,
       "_view_module": "@jupyter-widgets/controls",
       "_view_module_version": "2.0.0",
       "_view_name": "HBoxView",
       "box_style": "",
       "children": [
        "IPY_MODEL_cf49f340826e45aeac2490584eb04826",
        "IPY_MODEL_0d17c5d3a1044e23b35eb2a8495daabb",
        "IPY_MODEL_a2dcfb6d98c3489b9ebcdc207a0eb7ee"
       ],
       "layout": "IPY_MODEL_c1fbac7ccdfd4bbdb9b0a99d3f9785f1",
       "tabbable": null,
       "tooltip": null
      }
     },
     "11d2f86d9c534354b89f514ebdcc3aaf": {
      "model_module": "@jupyter-widgets/controls",
      "model_module_version": "2.0.0",
      "model_name": "ProgressStyleModel",
      "state": {
       "_model_module": "@jupyter-widgets/controls",
       "_model_module_version": "2.0.0",
       "_model_name": "ProgressStyleModel",
       "_view_count": null,
       "_view_module": "@jupyter-widgets/base",
       "_view_module_version": "2.0.0",
       "_view_name": "StyleView",
       "bar_color": null,
       "description_width": ""
      }
     },
     "16e400c34f664bf7b4cf2e1fb577841a": {
      "model_module": "@jupyter-widgets/controls",
      "model_module_version": "2.0.0",
      "model_name": "HTMLStyleModel",
      "state": {
       "_model_module": "@jupyter-widgets/controls",
       "_model_module_version": "2.0.0",
       "_model_name": "HTMLStyleModel",
       "_view_count": null,
       "_view_module": "@jupyter-widgets/base",
       "_view_module_version": "2.0.0",
       "_view_name": "StyleView",
       "background": null,
       "description_width": "",
       "font_size": null,
       "text_color": null
      }
     },
     "3f632b749ce54c9fb9c7c15a28251a8f": {
      "model_module": "@jupyter-widgets/controls",
      "model_module_version": "2.0.0",
      "model_name": "HTMLStyleModel",
      "state": {
       "_model_module": "@jupyter-widgets/controls",
       "_model_module_version": "2.0.0",
       "_model_name": "HTMLStyleModel",
       "_view_count": null,
       "_view_module": "@jupyter-widgets/base",
       "_view_module_version": "2.0.0",
       "_view_name": "StyleView",
       "background": null,
       "description_width": "",
       "font_size": null,
       "text_color": null
      }
     },
     "462bb28f7e7e476383429d07f88bd22e": {
      "model_module": "@jupyter-widgets/base",
      "model_module_version": "2.0.0",
      "model_name": "LayoutModel",
      "state": {
       "_model_module": "@jupyter-widgets/base",
       "_model_module_version": "2.0.0",
       "_model_name": "LayoutModel",
       "_view_count": null,
       "_view_module": "@jupyter-widgets/base",
       "_view_module_version": "2.0.0",
       "_view_name": "LayoutView",
       "align_content": null,
       "align_items": null,
       "align_self": null,
       "border_bottom": null,
       "border_left": null,
       "border_right": null,
       "border_top": null,
       "bottom": null,
       "display": null,
       "flex": null,
       "flex_flow": null,
       "grid_area": null,
       "grid_auto_columns": null,
       "grid_auto_flow": null,
       "grid_auto_rows": null,
       "grid_column": null,
       "grid_gap": null,
       "grid_row": null,
       "grid_template_areas": null,
       "grid_template_columns": null,
       "grid_template_rows": null,
       "height": null,
       "justify_content": null,
       "justify_items": null,
       "left": null,
       "margin": null,
       "max_height": null,
       "max_width": null,
       "min_height": null,
       "min_width": null,
       "object_fit": null,
       "object_position": null,
       "order": null,
       "overflow": null,
       "padding": null,
       "right": null,
       "top": null,
       "visibility": null,
       "width": null
      }
     },
     "a2dcfb6d98c3489b9ebcdc207a0eb7ee": {
      "model_module": "@jupyter-widgets/controls",
      "model_module_version": "2.0.0",
      "model_name": "HTMLModel",
      "state": {
       "_dom_classes": [],
       "_model_module": "@jupyter-widgets/controls",
       "_model_module_version": "2.0.0",
       "_model_name": "HTMLModel",
       "_view_count": null,
       "_view_module": "@jupyter-widgets/controls",
       "_view_module_version": "2.0.0",
       "_view_name": "HTMLView",
       "description": "",
       "description_allow_html": false,
       "layout": "IPY_MODEL_cf06356854884155bef61e56fc5c1b07",
       "placeholder": "​",
       "style": "IPY_MODEL_3f632b749ce54c9fb9c7c15a28251a8f",
       "tabbable": null,
       "tooltip": null,
       "value": " 3/3 [01:41&lt;00:00, 45.10s/it]"
      }
     },
     "af5ce3610c4f44ab9a2343d52b35931c": {
      "model_module": "@jupyter-widgets/base",
      "model_module_version": "2.0.0",
      "model_name": "LayoutModel",
      "state": {
       "_model_module": "@jupyter-widgets/base",
       "_model_module_version": "2.0.0",
       "_model_name": "LayoutModel",
       "_view_count": null,
       "_view_module": "@jupyter-widgets/base",
       "_view_module_version": "2.0.0",
       "_view_name": "LayoutView",
       "align_content": null,
       "align_items": null,
       "align_self": null,
       "border_bottom": null,
       "border_left": null,
       "border_right": null,
       "border_top": null,
       "bottom": null,
       "display": null,
       "flex": null,
       "flex_flow": null,
       "grid_area": null,
       "grid_auto_columns": null,
       "grid_auto_flow": null,
       "grid_auto_rows": null,
       "grid_column": null,
       "grid_gap": null,
       "grid_row": null,
       "grid_template_areas": null,
       "grid_template_columns": null,
       "grid_template_rows": null,
       "height": null,
       "justify_content": null,
       "justify_items": null,
       "left": null,
       "margin": null,
       "max_height": null,
       "max_width": null,
       "min_height": null,
       "min_width": null,
       "object_fit": null,
       "object_position": null,
       "order": null,
       "overflow": null,
       "padding": null,
       "right": null,
       "top": null,
       "visibility": null,
       "width": null
      }
     },
     "c1fbac7ccdfd4bbdb9b0a99d3f9785f1": {
      "model_module": "@jupyter-widgets/base",
      "model_module_version": "2.0.0",
      "model_name": "LayoutModel",
      "state": {
       "_model_module": "@jupyter-widgets/base",
       "_model_module_version": "2.0.0",
       "_model_name": "LayoutModel",
       "_view_count": null,
       "_view_module": "@jupyter-widgets/base",
       "_view_module_version": "2.0.0",
       "_view_name": "LayoutView",
       "align_content": null,
       "align_items": null,
       "align_self": null,
       "border_bottom": null,
       "border_left": null,
       "border_right": null,
       "border_top": null,
       "bottom": null,
       "display": null,
       "flex": null,
       "flex_flow": null,
       "grid_area": null,
       "grid_auto_columns": null,
       "grid_auto_flow": null,
       "grid_auto_rows": null,
       "grid_column": null,
       "grid_gap": null,
       "grid_row": null,
       "grid_template_areas": null,
       "grid_template_columns": null,
       "grid_template_rows": null,
       "height": null,
       "justify_content": null,
       "justify_items": null,
       "left": null,
       "margin": null,
       "max_height": null,
       "max_width": null,
       "min_height": null,
       "min_width": null,
       "object_fit": null,
       "object_position": null,
       "order": null,
       "overflow": null,
       "padding": null,
       "right": null,
       "top": null,
       "visibility": null,
       "width": null
      }
     },
     "cf06356854884155bef61e56fc5c1b07": {
      "model_module": "@jupyter-widgets/base",
      "model_module_version": "2.0.0",
      "model_name": "LayoutModel",
      "state": {
       "_model_module": "@jupyter-widgets/base",
       "_model_module_version": "2.0.0",
       "_model_name": "LayoutModel",
       "_view_count": null,
       "_view_module": "@jupyter-widgets/base",
       "_view_module_version": "2.0.0",
       "_view_name": "LayoutView",
       "align_content": null,
       "align_items": null,
       "align_self": null,
       "border_bottom": null,
       "border_left": null,
       "border_right": null,
       "border_top": null,
       "bottom": null,
       "display": null,
       "flex": null,
       "flex_flow": null,
       "grid_area": null,
       "grid_auto_columns": null,
       "grid_auto_flow": null,
       "grid_auto_rows": null,
       "grid_column": null,
       "grid_gap": null,
       "grid_row": null,
       "grid_template_areas": null,
       "grid_template_columns": null,
       "grid_template_rows": null,
       "height": null,
       "justify_content": null,
       "justify_items": null,
       "left": null,
       "margin": null,
       "max_height": null,
       "max_width": null,
       "min_height": null,
       "min_width": null,
       "object_fit": null,
       "object_position": null,
       "order": null,
       "overflow": null,
       "padding": null,
       "right": null,
       "top": null,
       "visibility": null,
       "width": null
      }
     },
     "cf49f340826e45aeac2490584eb04826": {
      "model_module": "@jupyter-widgets/controls",
      "model_module_version": "2.0.0",
      "model_name": "HTMLModel",
      "state": {
       "_dom_classes": [],
       "_model_module": "@jupyter-widgets/controls",
       "_model_module_version": "2.0.0",
       "_model_name": "HTMLModel",
       "_view_count": null,
       "_view_module": "@jupyter-widgets/controls",
       "_view_module_version": "2.0.0",
       "_view_name": "HTMLView",
       "description": "",
       "description_allow_html": false,
       "layout": "IPY_MODEL_462bb28f7e7e476383429d07f88bd22e",
       "placeholder": "​",
       "style": "IPY_MODEL_16e400c34f664bf7b4cf2e1fb577841a",
       "tabbable": null,
       "tooltip": null,
       "value": "100%"
      }
     }
    },
    "version_major": 2,
    "version_minor": 0
   }
  }
 },
 "nbformat": 4,
 "nbformat_minor": 5
}