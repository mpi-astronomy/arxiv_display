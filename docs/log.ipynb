{
 "cells": [
  {
   "cell_type": "markdown",
   "id": "92bcb855",
   "metadata": {
    "papermill": {
     "duration": 0.003912,
     "end_time": "2024-12-05T04:12:24.264556",
     "exception": false,
     "start_time": "2024-12-05T04:12:24.260644",
     "status": "completed"
    },
    "tags": []
   },
   "source": [
    "# MPIA Arxiv on Deck 2\n",
    "\n",
    "Contains the steps to produce the paper extractions."
   ]
  },
  {
   "cell_type": "code",
   "execution_count": 1,
   "id": "3a0d6e11",
   "metadata": {
    "execution": {
     "iopub.execute_input": "2024-12-05T04:12:24.272306Z",
     "iopub.status.busy": "2024-12-05T04:12:24.271759Z",
     "iopub.status.idle": "2024-12-05T04:12:24.759630Z",
     "shell.execute_reply": "2024-12-05T04:12:24.758933Z"
    },
    "papermill": {
     "duration": 0.49304,
     "end_time": "2024-12-05T04:12:24.760931",
     "exception": false,
     "start_time": "2024-12-05T04:12:24.267891",
     "status": "completed"
    },
    "tags": []
   },
   "outputs": [],
   "source": [
    "# Imports\n",
    "import os\n",
    "from IPython.display import Markdown, display\n",
    "from tqdm.notebook import tqdm\n",
    "import warnings\n",
    "from PIL import Image \n",
    "import re\n",
    "\n",
    "# requires arxiv_on_deck_2\n",
    "\n",
    "from arxiv_on_deck_2.arxiv2 import (get_new_papers, \n",
    "                                    get_paper_from_identifier,\n",
    "                                    retrieve_document_source, \n",
    "                                    get_markdown_badge)\n",
    "from arxiv_on_deck_2 import (latex,\n",
    "                             latex_bib,\n",
    "                             mpia,\n",
    "                             highlight_authors_in_list)\n",
    "\n",
    "# Sometimes images are really big\n",
    "Image.MAX_IMAGE_PIXELS = 1000000000 "
   ]
  },
  {
   "cell_type": "code",
   "execution_count": 2,
   "id": "22aa9d44",
   "metadata": {
    "execution": {
     "iopub.execute_input": "2024-12-05T04:12:24.768188Z",
     "iopub.status.busy": "2024-12-05T04:12:24.767908Z",
     "iopub.status.idle": "2024-12-05T04:12:24.775992Z",
     "shell.execute_reply": "2024-12-05T04:12:24.775470Z"
    },
    "papermill": {
     "duration": 0.012779,
     "end_time": "2024-12-05T04:12:24.776973",
     "exception": false,
     "start_time": "2024-12-05T04:12:24.764194",
     "status": "completed"
    },
    "tags": []
   },
   "outputs": [],
   "source": [
    "# Some useful definitions.\n",
    "\n",
    "class AffiliationWarning(UserWarning):\n",
    "    pass\n",
    "\n",
    "class AffiliationError(RuntimeError):\n",
    "    pass\n",
    "\n",
    "def validation(source: str):\n",
    "    \"\"\"Raises error paper during parsing of source file\n",
    "    \n",
    "    Allows checks before parsing TeX code.\n",
    "    \n",
    "    Raises AffiliationWarning\n",
    "    \"\"\"\n",
    "    check = mpia.affiliation_verifications(source, verbose=True)\n",
    "    if check is not True:\n",
    "        raise AffiliationError(\"mpia.affiliation_verifications: \" + check)\n",
    "\n",
    "        \n",
    "warnings.simplefilter('always', AffiliationWarning)\n",
    "\n",
    "\n",
    "def get_markdown_qrcode(paper_id: str):\n",
    "    \"\"\" Generate a qrcode to the arxiv page using qrserver.com\n",
    "    \n",
    "    :param paper: Arxiv paper\n",
    "    :returns: markdown text\n",
    "    \"\"\"\n",
    "    url = r\"https://api.qrserver.com/v1/create-qr-code/?size=100x100&data=\"\n",
    "    txt = f\"\"\"<img src={url}\"https://arxiv.org/abs/{paper_id}\">\"\"\"\n",
    "    txt = '<div id=\"qrcode\">' + txt + '</div>'\n",
    "    return txt\n",
    "\n",
    "\n",
    "def clean_non_western_encoded_characters_commands(text: str) -> str:\n",
    "    \"\"\" Remove non-western encoded characters from a string\n",
    "    List may need to grow.\n",
    "    \n",
    "    :param text: the text to clean\n",
    "    :return: the cleaned text\n",
    "    \"\"\"\n",
    "    text = re.sub(r\"(\\\\begin{CJK}{UTF8}{gbsn})(.*?)(\\\\end{CJK})\", r\"\\2\", text)\n",
    "    return text\n",
    "\n",
    "\n",
    "def get_initials(name: str) -> str:\n",
    "    \"\"\" Get the short name, e.g., A.-B. FamName\n",
    "    :param name: full name\n",
    "    :returns: initials\n",
    "    \"\"\"\n",
    "    initials = []\n",
    "    # account for non western names often in ()\n",
    "    if '(' in name:\n",
    "        name = clean_non_western_encoded_characters_commands(name)\n",
    "        suffix = re.findall(r\"\\((.*?)\\)\", name)[0]\n",
    "        name = name.replace(f\"({suffix})\", '')\n",
    "    else:\n",
    "        suffix = ''\n",
    "    split = name.split()\n",
    "    for token in split[:-1]:\n",
    "        if '-' in token:\n",
    "            current = '-'.join([k[0] + '.' for k in token.split('-')])\n",
    "        else:\n",
    "            current = token[0] + '.'\n",
    "        initials.append(current)\n",
    "    initials.append(split[-1].strip())\n",
    "    if suffix:\n",
    "        initials.append(f\"({suffix})\")\n",
    "    return ' '.join(initials)"
   ]
  },
  {
   "cell_type": "markdown",
   "id": "14bd6310",
   "metadata": {
    "papermill": {
     "duration": 0.002953,
     "end_time": "2024-12-05T04:12:24.783004",
     "exception": false,
     "start_time": "2024-12-05T04:12:24.780051",
     "status": "completed"
    },
    "tags": []
   },
   "source": [
    "## get list of arxiv paper candidates\n",
    "\n",
    "We use the MPIA mitarbeiter list webpage from mpia.de to get author names\n",
    "We then get all new papers from Arxiv and match authors"
   ]
  },
  {
   "cell_type": "code",
   "execution_count": 3,
   "id": "7ea813a8",
   "metadata": {
    "execution": {
     "iopub.execute_input": "2024-12-05T04:12:24.789907Z",
     "iopub.status.busy": "2024-12-05T04:12:24.789654Z",
     "iopub.status.idle": "2024-12-05T04:12:41.719199Z",
     "shell.execute_reply": "2024-12-05T04:12:41.718562Z"
    },
    "papermill": {
     "duration": 16.934462,
     "end_time": "2024-12-05T04:12:41.720457",
     "exception": false,
     "start_time": "2024-12-05T04:12:24.785995",
     "status": "completed"
    },
    "tags": []
   },
   "outputs": [],
   "source": [
    "# deal with the author list and edge cases of people that cannot be consistent on their name  \n",
    "\n",
    "def filter_non_scientists(name: str) -> bool:\n",
    "    \"\"\" Loose filter on expected authorships\n",
    "\n",
    "    removing IT, administration, technical staff\n",
    "    :param name: name\n",
    "    :returns: False if name is not a scientist\n",
    "    \"\"\"\n",
    "    remove_list = ['Licht', 'Binroth', 'Witzel', 'Jordan',\n",
    "                   'Zähringer', 'Scheerer', 'Hoffmann', 'Düe',\n",
    "                   'Hellmich', 'Enkler-Scharpegge', 'Witte-Nguy',\n",
    "                   'Dehen', 'Beckmann', 'Jager', 'Jäger'\n",
    "                  ]\n",
    "\n",
    "    for k in remove_list:\n",
    "        if k in name:\n",
    "            return False\n",
    "    return True\n",
    "\n",
    "def add_author_to_list(author_list: list) -> list:\n",
    "    \"\"\" Add author to list if not already in list\n",
    "    \n",
    "    :param author: author name\n",
    "    :param author_list: list of authors\n",
    "    :returns: updated list of authors\n",
    "    \"\"\"\n",
    "    add_list = ['T. Henning']\n",
    "\n",
    "    for author in add_list:\n",
    "        if author not in author_list:\n",
    "            author_list.append(author)\n",
    "    return author_list\n",
    "\n",
    "# get list from MPIA website\n",
    "# filter for non-scientists (mpia.get_mpia_mitarbeiter_list() does some filtering)\n",
    "mpia_authors = [k[1] for k in mpia.get_mpia_mitarbeiter_list() if filter_non_scientists(k[1])]\n",
    "# add some missing author because of inconsistencies in their MPIA name and author name on papers\n",
    "mpia_authors = add_author_to_list(mpia_authors)"
   ]
  },
  {
   "cell_type": "code",
   "execution_count": 4,
   "id": "2645e73a",
   "metadata": {
    "execution": {
     "iopub.execute_input": "2024-12-05T04:12:41.727977Z",
     "iopub.status.busy": "2024-12-05T04:12:41.727566Z",
     "iopub.status.idle": "2024-12-05T04:12:42.480199Z",
     "shell.execute_reply": "2024-12-05T04:12:42.479572Z"
    },
    "papermill": {
     "duration": 0.757306,
     "end_time": "2024-12-05T04:12:42.481178",
     "exception": false,
     "start_time": "2024-12-05T04:12:41.723872",
     "status": "completed"
    },
    "tags": []
   },
   "outputs": [
    {
     "name": "stdout",
     "output_type": "stream",
     "text": [
      "J. Eberhardt  ->  J. Eberhardt  |  ['J. Eberhardt']\n",
      "T. Henning  ->  T. Henning  |  ['T. Henning']\n",
      "A. d. Graaff  ->  A. D. Graaff  |  ['A. D. Graaff']\n",
      "L. Xie  ->  Z.-L. Xie  |  ['L. Xie']\n",
      "E.-M. Ahrer  ->  E.-M. Ahrer  |  ['E.-M. Ahrer']\n",
      "Arxiv has 68 new papers today\n",
      "          4 with possible author matches\n"
     ]
    }
   ],
   "source": [
    "new_papers = get_new_papers()\n",
    "# add manual references\n",
    "add_paper_refs = []\n",
    "new_papers.extend([get_paper_from_identifier(k) for k in add_paper_refs])\n",
    "\n",
    "def robust_call(fn, value, *args, **kwargs):\n",
    "    try:\n",
    "        return fn(value, *args, **kwargs)\n",
    "    except Exception:\n",
    "        return value\n",
    "\n",
    "candidates = []\n",
    "for paperk in new_papers:\n",
    "    # Check author list with their initials\n",
    "    normed_author_list = [robust_call(mpia.get_initials, k) for k in paperk['authors']]\n",
    "    hl_authors = highlight_authors_in_list(normed_author_list, mpia_authors, verbose=True)\n",
    "    matches = [(hl, orig) for hl, orig in zip(hl_authors, paperk['authors']) if 'mark' in hl]\n",
    "    paperk['authors'] = hl_authors\n",
    "    if matches:\n",
    "        # only select paper if an author matched our list\n",
    "        candidates.append(paperk)\n",
    "print(\"\"\"Arxiv has {0:,d} new papers today\"\"\".format(len(new_papers)))        \n",
    "print(\"\"\"          {0:,d} with possible author matches\"\"\".format(len(candidates)))"
   ]
  },
  {
   "cell_type": "markdown",
   "id": "3543b34a",
   "metadata": {
    "papermill": {
     "duration": 0.003168,
     "end_time": "2024-12-05T04:12:42.487846",
     "exception": false,
     "start_time": "2024-12-05T04:12:42.484678",
     "status": "completed"
    },
    "tags": []
   },
   "source": [
    "# Parse sources and generate relevant outputs\n",
    "\n",
    "From the candidates, we do the following steps:\n",
    "* get their tarball from ArXiv (and extract data)\n",
    "* find the main .tex file: find one with \\documentclass{...} (sometimes it's non trivial)\n",
    "* Check affiliations with :func:`validation`, which uses :func:`mpia.affiliation_verifications`\n",
    "* If passing the affiliations: we parse the .tex source\n",
    "   * inject sub-documents into the main (flatten the main document)\n",
    "   * parse structure, extract information (title, abstract, authors, figures...)\n",
    "   * handles `\\graphicspath` if provided\n",
    "* Generate the .md document."
   ]
  },
  {
   "cell_type": "code",
   "execution_count": 5,
   "id": "9576b79e",
   "metadata": {
    "execution": {
     "iopub.execute_input": "2024-12-05T04:12:42.495265Z",
     "iopub.status.busy": "2024-12-05T04:12:42.494733Z",
     "iopub.status.idle": "2024-12-05T04:14:01.130913Z",
     "shell.execute_reply": "2024-12-05T04:14:01.130188Z"
    },
    "papermill": {
     "duration": 78.641049,
     "end_time": "2024-12-05T04:14:01.131986",
     "exception": false,
     "start_time": "2024-12-05T04:12:42.490937",
     "status": "completed"
    },
    "scrolled": false,
    "tags": []
   },
   "outputs": [
    {
     "data": {
      "application/vnd.jupyter.widget-view+json": {
       "model_id": "851f0b9770334d67bf1eee1268fda486",
       "version_major": 2,
       "version_minor": 0
      },
      "text/plain": [
       "  0%|          | 0/4 [00:00<?, ?it/s]"
      ]
     },
     "metadata": {},
     "output_type": "display_data"
    },
    {
     "name": "stdout",
     "output_type": "stream",
     "text": [
      "Retrieving document from  https://arxiv.org/e-print/2412.02769\n"
     ]
    },
    {
     "name": "stdout",
     "output_type": "stream",
     "text": [
      "extracting tarball to tmp_2412.02769..."
     ]
    },
    {
     "name": "stdout",
     "output_type": "stream",
     "text": [
      " done.\n"
     ]
    },
    {
     "name": "stderr",
     "output_type": "stream",
     "text": [
      "/opt/hostedtoolcache/Python/3.9.20/x64/lib/python3.9/site-packages/IPython/core/interactiveshell.py:3550: LatexWarning: Multiple tex files.\n",
      "\n",
      "  exec(code_obj, self.user_global_ns, self.user_ns)\n",
      "/opt/hostedtoolcache/Python/3.9.20/x64/lib/python3.9/site-packages/IPython/core/interactiveshell.py:3550: LatexWarning: Found documentclass in tmp_2412.02769/main.tex\n",
      "\n",
      "  exec(code_obj, self.user_global_ns, self.user_ns)\n",
      "/opt/hostedtoolcache/Python/3.9.20/x64/lib/python3.9/site-packages/arxiv_on_deck_2/latex.py:414: LatexWarning: Latex injecting: 'system_parameters_planet_v2' from 'tmp_2412.02769/system_parameters_planet_v2.tex'\n",
      "  warnings.warn(LatexWarning(f\"Latex injecting: '{ext}' from '{subsource}'\"))\n",
      "/opt/hostedtoolcache/Python/3.9.20/x64/lib/python3.9/site-packages/arxiv_on_deck_2/latex.py:414: LatexWarning: Latex injecting: 'system_parameters_v2' from 'tmp_2412.02769/system_parameters_v2.tex'\n",
      "  warnings.warn(LatexWarning(f\"Latex injecting: '{ext}' from '{subsource}'\"))\n",
      "/opt/hostedtoolcache/Python/3.9.20/x64/lib/python3.9/site-packages/arxiv_on_deck_2/latex.py:414: LatexWarning: Latex injecting: 'Lit_table.tex' from 'tmp_2412.02769/Lit_table.tex'\n",
      "  warnings.warn(LatexWarning(f\"Latex injecting: '{ext}' from '{subsource}'\"))\n",
      "/opt/hostedtoolcache/Python/3.9.20/x64/lib/python3.9/site-packages/arxiv_on_deck_2/latex.py:414: LatexWarning: Latex injecting: 'authors.tex' from 'tmp_2412.02769/authors.tex'\n",
      "  warnings.warn(LatexWarning(f\"Latex injecting: '{ext}' from '{subsource}'\"))\n",
      "/opt/hostedtoolcache/Python/3.9.20/x64/lib/python3.9/site-packages/arxiv_on_deck_2/latex.py:414: LatexWarning: Latex injecting: 'affiliations.tex' from 'tmp_2412.02769/affiliations.tex'\n",
      "  warnings.warn(LatexWarning(f\"Latex injecting: '{ext}' from '{subsource}'\"))\n"
     ]
    },
    {
     "name": "stdout",
     "output_type": "stream",
     "text": [
      "J. Eberhardt  ->  J. Eberhardt  |  ['J. Eberhardt']\n",
      "T. Henning  ->  T. Henning  |  ['T. Henning']\n"
     ]
    },
    {
     "name": "stdout",
     "output_type": "stream",
     "text": [
      "Found 90 bibliographic references in tmp_2412.02769/main.bbl.\n",
      "Retrieving document from  https://arxiv.org/e-print/2412.02846\n"
     ]
    },
    {
     "name": "stdout",
     "output_type": "stream",
     "text": [
      "extracting tarball to tmp_2412.02846... done.\n"
     ]
    },
    {
     "name": "stdout",
     "output_type": "stream",
     "text": [
      "A. d. Graaff  ->  A. D. Graaff  |  ['A. D. Graaff']\n"
     ]
    },
    {
     "name": "stdout",
     "output_type": "stream",
     "text": [
      "Found 138 bibliographic references in tmp_2412.02846/ms.bbl.\n",
      "Retrieving document from  https://arxiv.org/e-print/2412.03063\n",
      "extracting tarball to tmp_2412.03063... done.\n",
      "Retrieving document from  https://arxiv.org/e-print/2412.03411\n"
     ]
    },
    {
     "name": "stdout",
     "output_type": "stream",
     "text": [
      "extracting tarball to tmp_2412.03411..."
     ]
    },
    {
     "name": "stdout",
     "output_type": "stream",
     "text": [
      " done.\n"
     ]
    },
    {
     "name": "stdout",
     "output_type": "stream",
     "text": [
      "E.-M. Ahrer  ->  E.-M. Ahrer  |  ['E.-M. Ahrer']\n"
     ]
    },
    {
     "name": "stdout",
     "output_type": "stream",
     "text": [
      "Found 75 bibliographic references in tmp_2412.03411/main.bbl.\n"
     ]
    }
   ],
   "source": [
    "documents = []\n",
    "failed = []\n",
    "for paper in tqdm(candidates):\n",
    "    # debug crap\n",
    "    paper['identifier'] = paper['identifier'].lower().replace('arxiv:', '').replace(r'\\n', '').strip()\n",
    "    paper_id = paper['identifier']\n",
    "    \n",
    "    folder = f'tmp_{paper_id}'\n",
    "\n",
    "    try:\n",
    "        if not os.path.isdir(folder):\n",
    "            folder = retrieve_document_source(f\"{paper_id}\", f'tmp_{paper_id}')\n",
    "        \n",
    "        try:\n",
    "            doc = latex.LatexDocument(folder, validation=validation)    \n",
    "        except AffiliationError as affilerror:\n",
    "            msg = f\"ArXiv:{paper_id:s} is not an MPIA paper... \" + str(affilerror)\n",
    "            failed.append((paper, \"affiliation error: \" + str(affilerror) ))\n",
    "            continue\n",
    "        \n",
    "        # Hack because sometimes author parsing does not work well\n",
    "        if (len(doc.authors) != len(paper['authors'])):\n",
    "            doc._authors = paper['authors']\n",
    "        else:\n",
    "            # highlight authors (FIXME: doc.highlight_authors)\n",
    "            # done on arxiv paper already\n",
    "            doc._authors = highlight_authors_in_list(\n",
    "                [get_initials(k) for k in doc.authors], \n",
    "                mpia_authors, verbose=True)\n",
    "        if (doc.abstract) in (None, ''):\n",
    "            doc._abstract = paper['abstract']\n",
    "            \n",
    "        doc.comment = (get_markdown_badge(paper_id) + \n",
    "                       \"<mark>Appeared on: \" + paper['date'] + \"</mark> - \")\n",
    "        if paper['comments']:\n",
    "            doc.comment += \" _\" + paper['comments'] + \"_\"\n",
    "        \n",
    "        full_md = doc.generate_markdown_text()\n",
    "        \n",
    "        full_md += get_markdown_qrcode(paper_id)\n",
    "        \n",
    "        # replace citations\n",
    "        try:\n",
    "            bibdata = latex_bib.LatexBib.from_doc(doc)\n",
    "            full_md = latex_bib.replace_citations(full_md, bibdata)\n",
    "        except Exception as e:\n",
    "            print(\"Issues with the citations\")\n",
    "            print(e)\n",
    "        \n",
    "        documents.append((paper_id, full_md))\n",
    "    except Exception as e:\n",
    "        warnings.warn(latex.LatexWarning(f\"{paper_id:s} did not run properly\\n\" +\n",
    "                                         str(e)\n",
    "                                        ))\n",
    "        failed.append((paper, \"latex error \" + str(e)))"
   ]
  },
  {
   "cell_type": "markdown",
   "id": "2505a25c",
   "metadata": {
    "papermill": {
     "duration": 0.003835,
     "end_time": "2024-12-05T04:14:01.140064",
     "exception": false,
     "start_time": "2024-12-05T04:14:01.136229",
     "status": "completed"
    },
    "tags": []
   },
   "source": [
    "### Export the logs\n",
    "\n",
    "Throughout, we also keep track of the logs per paper. see `logs-{today date}.md` "
   ]
  },
  {
   "cell_type": "code",
   "execution_count": 6,
   "id": "d733828a",
   "metadata": {
    "execution": {
     "iopub.execute_input": "2024-12-05T04:14:01.148968Z",
     "iopub.status.busy": "2024-12-05T04:14:01.148511Z",
     "iopub.status.idle": "2024-12-05T04:14:01.163417Z",
     "shell.execute_reply": "2024-12-05T04:14:01.162884Z"
    },
    "papermill": {
     "duration": 0.02055,
     "end_time": "2024-12-05T04:14:01.164414",
     "exception": false,
     "start_time": "2024-12-05T04:14:01.143864",
     "status": "completed"
    },
    "scrolled": false,
    "tags": []
   },
   "outputs": [
    {
     "data": {
      "text/markdown": [
       "## Successful papers"
      ],
      "text/plain": [
       "<IPython.core.display.Markdown object>"
      ]
     },
     "metadata": {},
     "output_type": "display_data"
    },
    {
     "data": {
      "text/markdown": [
       "\n",
       "|||\n",
       "|---:|:---|\n",
       "| [![arXiv](https://img.shields.io/badge/arXiv-2412.02769-b31b1b.svg)](https://arxiv.org/abs/2412.02769) | **Discovery and Characterization of an Eccentric, Warm Saturn Transiting the Solar Analog TOI-4994**  |\n",
       "|| R. R. Martinez, et al. -- incl., <mark>J. Eberhardt</mark>, <mark>T. Henning</mark> |\n",
       "|*Appeared on*| *2024-12-05*|\n",
       "|*Comments*| *17 pages, 10 figures. Accepted to AJ*|\n",
       "|**Abstract**|            We present the detection and characterization of TOI-4994b (TIC 277128619b), a warm Saturn-sized planet discovered by the NASA Transiting Exoplanet Survey Satellite (TESS). TOI-4994b transits a G-type star (V = 12.6 mag) with a mass, radius, and effective temperature of $M_{\\star} =1.005^{+0.064}_{-0.061} M_{\\odot}$, $R_{\\star} = 1.055^{+0.040}_{-0.037} R_{\\odot}$, and $T_{\\rm eff} = 5640 \\pm 110$ K. We obtained follow-up ground-based photometry from the Las Cumbres Observatory (LCO) and the Antarctic Search for Transiting ExoPlanets (ASTEP) telescopes, and we confirmed the planetary nature of TOI-4994b with multiple radial velocity observations from the PFS, CHIRON, HARPS, FEROS, and CORALIE instruments. From a global fit to the photometry and radial velocities, we determine that TOI-4994b is in a 21.5-day, eccentric orbit ($e = 0.32 \\pm 0.04$) and has a mass of $M_{P}= 0.280^{+0.037}_{-0.034} M_{J}$, a radius of $R_{P}= 0.762^{+0.030}_{-0.027}R_{J}$, and a Saturn-like bulk density of $\\rho_{p} = 0.78^{+0.16}_{-0.14}$ $\\rm g/cm^3$. We find that TOI-4994 is a potentially viable candidate for follow-up stellar obliquity measurements. TOI-4994b joins the small sample of warm Saturn analogs and thus sheds light on our understanding of these rare and unique worlds.         |"
      ],
      "text/plain": [
       "[2412.02769] Discovery and Characterization of an Eccentric, Warm Saturn Transiting the Solar Analog TOI-4994\n",
       "\tR. R. Martinez, et al. -- incl., <mark>J. Eberhardt</mark>, <mark>T. Henning</mark>"
      ]
     },
     "metadata": {},
     "output_type": "display_data"
    },
    {
     "data": {
      "text/markdown": [
       "\n",
       "|||\n",
       "|---:|:---|\n",
       "| [![arXiv](https://img.shields.io/badge/arXiv-2412.02846-b31b1b.svg)](https://arxiv.org/abs/2412.02846) | **Environmental Evidence for Overly Massive Black Holes in Low Mass Galaxies and a Black Hole - Halo Mass Relation at $z \\sim 5$**  |\n",
       "|| J. Matthee, et al. -- incl., <mark>A. d. Graaff</mark> |\n",
       "|*Appeared on*| *2024-12-05*|\n",
       "|*Comments*| *19 pages, 15 figures. Submitted to ApJ. Main results in Figures 12, 13, 14. Comments welcome*|\n",
       "|**Abstract**|            JWST observations have unveiled faint active galactic nuclei (AGN) at high-redshift that provide insights on the formation of supermassive black holes (SMBHs) and their coevolution with galaxies. However, disentangling stellar from AGN light in these sources is challenging. Here, we use an empirical approach to infer the average stellar mass of 6 faint broad line (BL) Halpha emitters at z = 4 - 5 with BH masses ~ 6 (4 - 15)x10^6 Msun, with a method independent of their spectral energy distribution (SED). We use the deep JWST/NIRcam grism survey ALT to measure the over-densities around BL-Halpha emitters and around a spectroscopic reference sample of ~300 galaxies. In our reference sample, we find that Mpc-scale over-density correlates with stellar mass, while pair counts are flat below ~50 kpc due to satellites. Their large-scale environments suggest that BL-Halpha emitters are hosted by galaxies with stellar masses ~5x10^7 Msun, ~40 times lower than those inferred from galaxy-only SED fits. Adding measurements around more luminous z~6 AGNs, we find tentative correlations between line width, BH mass and the over-density, suggestive of a steep BH to halo mass relation. The main implications are (1) when BH masses are taken at face value, we confirm extremely high BH to stellar mass ratios of ~10 %, (2) the low stellar mass galaxies hosting growing SMBHs are in tension with typical hydrodynamical simulations, except those without feedback, (3) a 1 % duty cycle implied by the host mass hints at super-Eddington accretion, which may imply over-estimated SMBH masses, (4) the masses are at odds with a high stellar density interpretation of the line broadening, (5) our results imply a diversity of galaxy masses, environments and SEDs among AGN samples, depending on their luminosity.         |"
      ],
      "text/plain": [
       "[2412.02846] Environmental Evidence for Overly Massive Black Holes in Low Mass Galaxies and a Black Hole - Halo Mass Relation at $z \\sim 5$\n",
       "\tJ. Matthee, et al. -- incl., <mark>A. d. Graaff</mark>"
      ]
     },
     "metadata": {},
     "output_type": "display_data"
    },
    {
     "data": {
      "text/markdown": [
       "\n",
       "|||\n",
       "|---:|:---|\n",
       "| [![arXiv](https://img.shields.io/badge/arXiv-2412.03411-b31b1b.svg)](https://arxiv.org/abs/2412.03411) | **A dark, bare rock for TOI-1685 b from a JWST NIRSpec G395H phase curve**  |\n",
       "|| R. Luque, et al. -- incl., <mark>E.-M. Ahrer</mark> |\n",
       "|*Appeared on*| *2024-12-05*|\n",
       "|*Comments*| *26 pages, 19 figures, 8 tables. Submitted to AAS Journals*|\n",
       "|**Abstract**|            We report JWST NIRSpec/G395H observations of TOI-1685 b, a hot rocky super-Earth orbiting an M2.5V star, during a full orbit. We obtain transmission and emission spectra of the planet and characterize the properties of the phase curve, including its amplitude and offset. The transmission spectrum rules out clear H$_2$-dominated atmospheres, while secondary atmospheres (made of water, methane, or carbon dioxide) cannot be statistically distinguished from a flat line. The emission spectrum is featureless and consistent with a blackbody-like brightness temperature, helping rule out thick atmospheres with high mean molecular weight. Collecting all evidence, the properties of TOI-1685 b are consistent with a blackbody with no heat redistribution and a low albedo, with a dayside brightness temperature 0.98$\\pm$0.07 times that of a perfect blackbody in the NIRSpec NRS2 wavelength range (3.823-5.172 um). Our results add to the growing number of seemingly airless M-star rocky planets, thus constraining the location of the \"Cosmic Shoreline\". Three independent data reductions have been carried out, all showing a high-amplitude correlated noise component in the white and spectroscopic light curves. The correlated noise properties are different between the NRS1 and NRS2 detectors - importantly the timescales of the strongest components (4.5 hours and 2.5 hours, respectively) - suggesting the noise is from instrumental rather than astrophysical origins. We encourage the community to look into the systematics of NIRSpec for long time-series observations.         |"
      ],
      "text/plain": [
       "[2412.03411] A dark, bare rock for TOI-1685 b from a JWST NIRSpec G395H phase curve\n",
       "\tR. Luque, et al. -- incl., <mark>E.-M. Ahrer</mark>"
      ]
     },
     "metadata": {},
     "output_type": "display_data"
    },
    {
     "data": {
      "text/markdown": [
       "## Failed papers"
      ],
      "text/plain": [
       "<IPython.core.display.Markdown object>"
      ]
     },
     "metadata": {},
     "output_type": "display_data"
    },
    {
     "data": {
      "text/markdown": [
       "\n",
       "|||\n",
       "|---:|:---|\n",
       "| [![arXiv](https://img.shields.io/badge/arXiv-2412.03063-b31b1b.svg)](https://arxiv.org/abs/2412.03063) | **The FAST Galactic Plane Pulsar Snapshot Survey: VII. Six millisecond pulsars in compact orbits with massive white dwarf companions**  |\n",
       "|| Z. L. Yang, et al. -- incl., <mark>L. Xie</mark> |\n",
       "|*Appeared on*| *2024-12-05*|\n",
       "|*Comments*| *12 pages, 6 figures, submitted to RAA*|\n",
       "|**Abstract**|            Binary millisecond pulsars with a massive white dwarf (WD) companion are intermediate-mass binary pulsars (IMBPs). They are formed via the Case BB Roche-lobe overflow (RLO) evolution channel if they are in compact orbits with an orbital period of less than 1 day. They are fairly rare in the known pulsar population, only five such IMBPs have been discovered before, and one of them is in a globular cluster. Here we report six IMBPs in a compact orbit, PSRs J0416+5201, J0520+3722, J1919+1341, J1943+2210, J1947+2304 and J2023+2853, discovered during the Galactic Plane Pulsar Snapshot (GPPS) survey by using the Five-hundred-meter Aperture Spherical radio Telescope (FAST), doubling the number of such IMBPs due to the high survey sensitivity in the short survey time of 5 minutes. Follow-up timing observations show that they all have either a CO WD or an ONeMg WD companion with a mass greater than about 0.8~M$_\\odot$ in a very circular orbit with an eccentricity in the order of $\\lesssim10^{-5}$. PSR J0416+5201 should be an ONeMg WD companion with a remarkable minimum mass of 1.28 M$_\\odot$. These massive white dwarf companions lead to a detectable Shapiro delay for PSRs J0416+5201, J0520+3722, J1943+2210, and J2023+2853, indicating that their orbits are highly inclined. From the measurement of the Shapiro delay, the pulsar mass of J1943+2210 was constrained to be 1.84$^{\\,+0.11}_{-0.09}$~M$_\\odot$, and that of PSR J2023+2853 to be 1.28$^{\\,+0.06}_{-0.05}$~M$_\\odot$.         |\n",
       "|<p style=\"color:green\"> **ERROR** </p>| <p style=\"color:green\">affiliation error: mpia.affiliation_verifications: 'Heidelberg' keyword not found.</p> |"
      ],
      "text/plain": [
       "<IPython.core.display.Markdown object>"
      ]
     },
     "metadata": {},
     "output_type": "display_data"
    }
   ],
   "source": [
    "import datetime\n",
    "today = str(datetime.date.today())\n",
    "logfile = f\"_build/html/logs/log-{today}.md\"\n",
    "\n",
    "\n",
    "with open(logfile, 'w') as logs:\n",
    "    # Success\n",
    "    logs.write(f'# Arxiv on Deck 2: Logs - {today}\\n\\n')\n",
    "    logs.write(\"\"\"* Arxiv had {0:,d} new papers\\n\"\"\".format(len(new_papers)))\n",
    "    logs.write(\"\"\"    * {0:,d} with possible author matches\\n\\n\"\"\".format(len(candidates)))\n",
    "    logs.write(\"## Sucessful papers\\n\\n\")\n",
    "    display(Markdown(\"## Successful papers\"))\n",
    "    success = [k[0] for k in documents]\n",
    "    for candid in candidates:\n",
    "        if candid['identifier'].split(':')[-1] in success:\n",
    "            display(candid)\n",
    "            logs.write(candid.generate_markdown_text() + '\\n\\n')\n",
    "\n",
    "    ## failed\n",
    "    logs.write(\"## Failed papers\\n\\n\")\n",
    "    display(Markdown(\"## Failed papers\"))\n",
    "    failed = sorted(failed, key=lambda x: x[1])\n",
    "    current_reason = \"\"\n",
    "    for paper, reason in failed:\n",
    "        if 'affiliation' in reason:\n",
    "            color = 'green'\n",
    "        else:\n",
    "            color = 'red'\n",
    "        data = Markdown(\n",
    "                paper.generate_markdown_text() + \n",
    "                f'\\n|<p style=\"color:{color:s}\"> **ERROR** </p>| <p style=\"color:{color:s}\">{reason:s}</p> |'\n",
    "               )\n",
    "        if reason != current_reason:\n",
    "            logs.write(f'### {reason:s} \\n\\n')\n",
    "            current_reason = reason\n",
    "        logs.write(data.data + '\\n\\n')\n",
    "        \n",
    "        # only display here the important errors (all in logs)\n",
    "        # if color in ('red',):\n",
    "        display(data)"
   ]
  },
  {
   "cell_type": "markdown",
   "id": "472d20ee",
   "metadata": {
    "papermill": {
     "duration": 0.004421,
     "end_time": "2024-12-05T04:14:01.173451",
     "exception": false,
     "start_time": "2024-12-05T04:14:01.169030",
     "status": "completed"
    },
    "tags": []
   },
   "source": [
    "## Export documents\n",
    "\n",
    "We now write the .md files and export relevant images"
   ]
  },
  {
   "cell_type": "code",
   "execution_count": 7,
   "id": "d426aed9",
   "metadata": {
    "execution": {
     "iopub.execute_input": "2024-12-05T04:14:01.183352Z",
     "iopub.status.busy": "2024-12-05T04:14:01.182923Z",
     "iopub.status.idle": "2024-12-05T04:14:01.189759Z",
     "shell.execute_reply": "2024-12-05T04:14:01.189224Z"
    },
    "papermill": {
     "duration": 0.012937,
     "end_time": "2024-12-05T04:14:01.190781",
     "exception": false,
     "start_time": "2024-12-05T04:14:01.177844",
     "status": "completed"
    },
    "tags": []
   },
   "outputs": [],
   "source": [
    "def export_markdown_summary(md: str, md_fname:str, directory: str):\n",
    "    \"\"\"Export MD document and associated relevant images\"\"\"\n",
    "    import os\n",
    "    import shutil\n",
    "    import re\n",
    "\n",
    "    if (os.path.exists(directory) and not os.path.isdir(directory)):\n",
    "        raise RuntimeError(f\"a non-directory file exists with name {directory:s}\")\n",
    "\n",
    "    if (not os.path.exists(directory)):\n",
    "        print(f\"creating directory {directory:s}\")\n",
    "        os.mkdir(directory)\n",
    "\n",
    "    fig_fnames = (re.compile(r'\\[Fig.*\\]\\((.*)\\)').findall(md) + \n",
    "                  re.compile(r'\\<img src=\"([^>\\s]*)\"[^>]*/>').findall(md))\n",
    "    print(\"found figures\", fig_fnames)\n",
    "    for fname in fig_fnames:\n",
    "        if 'http' in fname:\n",
    "            # No need to copy online figures\n",
    "            continue\n",
    "        if not os.path.exists(fname):\n",
    "            print(\"file not found\", fname)\n",
    "            continue\n",
    "        print(\"copying \", fname, \"to\", directory)\n",
    "        destdir = os.path.join(directory, os.path.dirname(fname))\n",
    "        destfname = os.path.join(destdir, os.path.basename(fname))\n",
    "        try:\n",
    "            os.makedirs(destdir)\n",
    "        except FileExistsError:\n",
    "            pass\n",
    "        shutil.copy(fname, destfname)\n",
    "    with open(os.path.join(directory, md_fname), 'w') as fout:\n",
    "        fout.write(md)\n",
    "    print(\"exported in \", os.path.join(directory, md_fname))\n",
    "    [print(\"    + \" + os.path.join(directory,fk)) for fk in fig_fnames]"
   ]
  },
  {
   "cell_type": "code",
   "execution_count": 8,
   "id": "014d04a4",
   "metadata": {
    "execution": {
     "iopub.execute_input": "2024-12-05T04:14:01.200690Z",
     "iopub.status.busy": "2024-12-05T04:14:01.200280Z",
     "iopub.status.idle": "2024-12-05T04:14:01.217900Z",
     "shell.execute_reply": "2024-12-05T04:14:01.217238Z"
    },
    "papermill": {
     "duration": 0.023678,
     "end_time": "2024-12-05T04:14:01.218961",
     "exception": false,
     "start_time": "2024-12-05T04:14:01.195283",
     "status": "completed"
    },
    "tags": []
   },
   "outputs": [
    {
     "name": "stdout",
     "output_type": "stream",
     "text": [
      "found figures ['tmp_2412.02769/./Fig2.png', 'tmp_2412.02769/./Fig4.png', 'tmp_2412.02769/./Fig1.png']\n",
      "copying  tmp_2412.02769/./Fig2.png to _build/html/\n",
      "copying  tmp_2412.02769/./Fig4.png to _build/html/\n",
      "copying  tmp_2412.02769/./Fig1.png to _build/html/\n",
      "exported in  _build/html/2412.02769.md\n",
      "    + _build/html/tmp_2412.02769/./Fig2.png\n",
      "    + _build/html/tmp_2412.02769/./Fig4.png\n",
      "    + _build/html/tmp_2412.02769/./Fig1.png\n",
      "found figures ['tmp_2412.02846/./figs/MSTAR_MBH.png', 'tmp_2412.02846/./figs/MSTAR_MBH_sims.png', 'tmp_2412.02846/./figs/LHA_VFWHM.png']\n",
      "copying  tmp_2412.02846/./figs/MSTAR_MBH.png to _build/html/\n",
      "copying  tmp_2412.02846/./figs/MSTAR_MBH_sims.png to _build/html/\n",
      "copying  tmp_2412.02846/./figs/LHA_VFWHM.png to _build/html/\n",
      "exported in  _build/html/2412.02846.md\n",
      "    + _build/html/tmp_2412.02846/./figs/MSTAR_MBH.png\n",
      "    + _build/html/tmp_2412.02846/./figs/MSTAR_MBH_sims.png\n",
      "    + _build/html/tmp_2412.02846/./figs/LHA_VFWHM.png\n",
      "found figures ['tmp_2412.03411/./figures/paper_whitepc.png', 'tmp_2412.03411/./figures/nrs1_ls.png', 'tmp_2412.03411/./figures/paper_emission.png']\n",
      "copying  tmp_2412.03411/./figures/paper_whitepc.png to _build/html/\n",
      "copying  tmp_2412.03411/./figures/nrs1_ls.png to _build/html/\n",
      "copying  tmp_2412.03411/./figures/paper_emission.png to _build/html/\n",
      "exported in  _build/html/2412.03411.md\n",
      "    + _build/html/tmp_2412.03411/./figures/paper_whitepc.png\n",
      "    + _build/html/tmp_2412.03411/./figures/nrs1_ls.png\n",
      "    + _build/html/tmp_2412.03411/./figures/paper_emission.png\n"
     ]
    }
   ],
   "source": [
    "for paper_id, md in documents:\n",
    "    export_markdown_summary(md, f\"{paper_id:s}.md\", '_build/html/')"
   ]
  },
  {
   "cell_type": "markdown",
   "id": "f087a0a7",
   "metadata": {
    "papermill": {
     "duration": 0.004469,
     "end_time": "2024-12-05T04:14:01.228326",
     "exception": false,
     "start_time": "2024-12-05T04:14:01.223857",
     "status": "completed"
    },
    "tags": []
   },
   "source": [
    "## Display the papers\n",
    "\n",
    "Not necessary but allows for a quick check."
   ]
  },
  {
   "cell_type": "code",
   "execution_count": 9,
   "id": "fd25f625",
   "metadata": {
    "execution": {
     "iopub.execute_input": "2024-12-05T04:14:01.238865Z",
     "iopub.status.busy": "2024-12-05T04:14:01.238257Z",
     "iopub.status.idle": "2024-12-05T04:14:01.245745Z",
     "shell.execute_reply": "2024-12-05T04:14:01.245085Z"
    },
    "papermill": {
     "duration": 0.013759,
     "end_time": "2024-12-05T04:14:01.246697",
     "exception": false,
     "start_time": "2024-12-05T04:14:01.232938",
     "status": "completed"
    },
    "scrolled": false,
    "tags": []
   },
   "outputs": [
    {
     "data": {
      "text/markdown": [
       "<div class=\"macros\" style=\"visibility:hidden;\">\n",
       "$\\newcommand{\\ensuremath}{}$\n",
       "$\\newcommand{\\xspace}{}$\n",
       "$\\newcommand{\\object}[1]{\\texttt{#1}}$\n",
       "$\\newcommand{\\farcs}{{.}''}$\n",
       "$\\newcommand{\\farcm}{{.}'}$\n",
       "$\\newcommand{\\arcsec}{''}$\n",
       "$\\newcommand{\\arcmin}{'}$\n",
       "$\\newcommand{\\ion}[2]{#1#2}$\n",
       "$\\newcommand{\\textsc}[1]{\\textrm{#1}}$\n",
       "$\\newcommand{\\hl}[1]{\\textrm{#1}}$\n",
       "$\\newcommand{\\footnote}[1]{}$\n",
       "$\\newcommand$\n",
       "$\\newcommand{\\bjdtdb}{\\ensuremath{\\rm{BJD_{TDB}}}}$\n",
       "$\\newcommand{\\feh}{\\ensuremath{\\left[{\\rm Fe}/{\\rm H}\\right]}}$\n",
       "$\\newcommand{\\mh}{\\ensuremath{\\left[{\\rm m}/{\\rm H}\\right]}}$\n",
       "$\\newcommand{\\teff}{\\ensuremath{T_{\\rm eff}}\\xspace}$\n",
       "$\\newcommand{\\logg}{\\ensuremath{\\log g}}$\n",
       "$\\newcommand{\\ecosw}{\\ensuremath{e\\cos{\\omega_*}}}$\n",
       "$\\newcommand{\\esinw}{\\ensuremath{e\\sin{\\omega_*}}}$\n",
       "$\\newcommand{\\msun}{\\ensuremath{ M_\\Sun}}$\n",
       "$\\newcommand{\\rsun}{\\ensuremath{ R_\\Sun}}$\n",
       "$\\newcommand{\\lsun}{\\ensuremath{ L_\\Sun}}$\n",
       "$\\newcommand{\\mj}{\\ensuremath{ M_{\\rm J}}}$\n",
       "$\\newcommand{\\rj}{\\ensuremath{ R_{\\rm J}}}$\n",
       "$\\newcommand{\\rearth}{\\ensuremath{ R_{\\rm \\Earth}}\\xspace}$\n",
       "$\\newcommand{\\mearth}{\\ensuremath{ M_{\\rm \\Earth}}\\xspace}$\n",
       "$\\newcommand{\\re}{\\ensuremath{ R_{\\rm \\Earth}}\\xspace}$\n",
       "$\\newcommand{\\me}{\\ensuremath{ M_{\\rm \\Earth}}\\xspace}$\n",
       "$\\newcommand{\\fave}{\\langle F \\rangle}$\n",
       "$\\newcommand{\\fluxcgs}{10^9 erg s^{-1} cm^{-2}}$\n",
       "$\\newcommand{\\newln}{\\\\&\\quad\\quad }$\n",
       "$\\newcommand{\\Kepler}{{\\it Kepler}}$\n",
       "$\\newcommand{\\Ktwo}{{\\it K2}}$\n",
       "$\\newcommand{\\loggstar}{\\ensuremath{\\log{g_\\star}}}$\n",
       "$\\newcommand{\\vsini}{\\ensuremath{v\\sin{i_*}}}$\n",
       "$\\newcommand{\\kms}{ km s^{-1}}$\n",
       "$\\newcommand{\\ms}{ m s^{-1}}$\n",
       "$\\newcommand{\\vdag}{(v)^\\dagger}$\n",
       "$\\newcommand$\n",
       "$\\newcommand$\n",
       "$\\newcommand{\\cfa}{Center for Astrophysics \\textbar  Harvard \\& Smithsonian, 60 Garden St, Cambridge, MA 02138, USA}$\n",
       "$\\newcommand{\\msu}{Center for Data Intensive and Time Domain Astronomy, Department of Physics and Astronomy, Michigan State University, East$\n",
       "$Lansing, MI 48824, USA}$\n",
       "$\\newcommand{\\umich}{Astronomy Department, University of Michigan, 1085 S University Avenue, Ann Arbor, MI 48109, USA}$\n",
       "$\\newcommand{\\utaustin}{Department of Astronomy, The University of Texas at Austin, Austin, TX 78712, USA}$\n",
       "$\\newcommand{\\MIT}{Department of Physics and Kavli Institute for Astrophysics and Space Research, Massachusetts Institute of Technology, Cambridge, MA 02139, USA}$\n",
       "$\\newcommand{\\MITEPS}{Department of Earth, Atmospheric and Planetary Sciences, Massachusetts Institute of Technology,  Cambridge,  MA 02139, USA}$\n",
       "$\\newcommand{\\uflorida}{Department of Astronomy, University of Florida, 211 Bryant Space Science Center, Gainesville, FL, 32611, USA}$\n",
       "$\\newcommand{\\riverside}{Department of Earth and Planetary Sciences, University of California, Riverside, CA 92521, USA}$\n",
       "$\\newcommand{\\usq}{Centre for Astrophysics, University of Southern Queensland, West Street, Toowoomba, QLD 4350, Australia}$\n",
       "$\\newcommand{\\ames}{NASA Ames Research Center, Moffett Field, CA, 94035, USA}$\n",
       "$\\newcommand{\\geneva}{Observatoire astronomique de l\\' Université de Genève, 51 Chemin Pegasi, 1290 Versoix, Switzerland}$\n",
       "$\\newcommand{\\uw}{Astronomy Department, University of Washington, Seattle, WA 98195 USA}$\n",
       "$\\newcommand{\\warwick}{Department of Physics, University of Warwick, Gibbet Hill Road, Coventry CV4 7AL, UK}$\n",
       "$\\newcommand{\\warwickceh}{Centre for Exoplanets and Habitability, University of Warwick, Gibbet Hill Road, Coventry CV4 7AL, UK}$\n",
       "$\\newcommand{\\princeton}{Department of Astrophysical Sciences, Princeton University, 4 Ivy Lane, Princeton, NJ, 08544, USA}$\n",
       "$\\newcommand{\\liege}{Space Sciences, Technologies and Astrophysics Research (STAR) Institute, Université de Liège, 19C Allée du 6 Ao\\^ut, 4000 Liège, Belgium}$\n",
       "$\\newcommand{\\vanderbilt}{Department of Physics and Astronomy, Vanderbilt University, Nashville, TN 37235, USA}$\n",
       "$\\newcommand{\\fisk}{Department of Physics, Fisk University, 1000 17th Avenue North, Nashville, TN 37208, USA}$\n",
       "$\\newcommand{\\columbia}{Department of Astronomy, Columbia University, 550 West 120th Street, New York, NY 10027, USA}$\n",
       "$\\newcommand{\\toronto}{Dunlap Institute for Astronomy and Astrophysics, University of Toronto, Ontario M5S 3H4, Canada}$\n",
       "$\\newcommand{\\unc}{Department of Physics and Astronomy, University of North Carolina at Chapel Hill, Chapel Hill, NC 27599, USA}$\n",
       "$\\newcommand{\\iac}{Instituto de Astrofísica de Canarias (IAC), E-38205 La Laguna, Tenerife, Spain}$\n",
       "$\\newcommand{\\lalaguna}{Departamento de Astrofísica, Universidad de La Laguna (ULL), E-38206 La Laguna, Tenerife, Spain}$\n",
       "$\\newcommand{\\louisville}{Department of Physics and Astronomy, University of Louisville, Louisville, KY 40292, USA}$\n",
       "$\\newcommand{\\aavso}{American Association of Variable Star Observers, 49 Bay State Road, Cambridge, MA 02138, USA}$\n",
       "$\\newcommand{\\utokyo}{The University of Tokyo, 7-3-1 Hongo, Bunky\\={o}, Tokyo 113-8654, Japan}$\n",
       "$\\newcommand{\\naoj}{National Astronomical Observatory of Japan, 2-21-1 Osawa, Mitaka, Tokyo 181-8588, Japan}$\n",
       "$\\newcommand{\\jstpresto}{JST, PRESTO, 7-3-1 Hongo, Bunkyo-ku, Tokyo 113-0033, Japan}$\n",
       "$\\newcommand{\\astrobiojapan}{Astrobiology Center, 2-21-1 Osawa, Mitaka, Tokyo 181-8588, Japan}$\n",
       "$\\newcommand{\\ctio}{Cerro Tololo Inter-American Observatory, Casilla 603, La Serena, Chile}$\n",
       "$\\newcommand{\\noirlab}{NOIRLab/Cerro Tololo Inter-American Observatory, Casilla 603, La Serena, Chile}$\n",
       "$\\newcommand{\\nexsci}{Caltech IPAC -- NASA Exoplanet Science Institute 1200 E. California Ave, Pasadena, CA 91125, USA}$\n",
       "$\\newcommand{\\ucsc}{Department of Astronomy and Astrophysics, University of$\n",
       "$California, Santa Cruz, CA 95064, USA}$\n",
       "$\\newcommand{\\gsfc}{Exoplanets and Stellar Astrophysics Laboratory, Code 667, NASA Goddard Space Flight Center, Greenbelt, MD 20771, USA}$\n",
       "$\\newcommand{\\sgtinc}{SGT, Inc./NASA AMES Research Center, Mailstop 269-3, Bldg T35C, P.O. Box 1, Moffett Field, CA 94035, USA}$\n",
       "$\\newcommand{\\chile}{Center of Astro-Engineering UC, Pontificia Universidad Católica de Chile, Av. Vicuña Mackenna 4860, 7820436 Macul, Santiago, Chile}$\n",
       "$\\newcommand{\\Pontificia}{Facultad de Ingeniería y Ciencias, Universidad Adolfo Ibáñez, Av. Diagonal las Torres 2640, Peñalolén, Santiago, Chile}$\n",
       "$\\newcommand{\\Millennium}{Millennium Institute for Astrophysics, Chile}$\n",
       "$\\newcommand{\\maxplank}{Max-Planck-Institut für Astronomie, Königstuhl 17, Heidelberg 69117, Germany}$\n",
       "$\\newcommand{\\utdallas}{Department of Physics, The University of Texas at Dallas, 800 West$\n",
       "$Campbell Road, Richardson, TX 75080-3021 USA}$\n",
       "$\\newcommand{\\MauryLewin}{Maury Lewin Astronomical Observatory, Glendora, CA 91741, USA}$\n",
       "$\\newcommand{\\umbc}{University of Maryland, Baltimore County, 1000 Hilltop Circle, Baltimore, MD 21250, USA}$\n",
       "$\\newcommand{\\osu}{Department of Astronomy, The Ohio State University, 140 West 18th Avenue, Columbus, OH 43210, USA}$\n",
       "$\\newcommand{\\MITAA}{Department of Aeronautics and Astronautics, MIT, 77 Massachusetts Avenue, Cambridge, MA 02139, USA}$\n",
       "$\\newcommand{\\openu}{School of Physical Sciences, The Open University, Milton Keynes MK7 6AA, UK}$\n",
       "$\\newcommand{\\swarthmore}{Department of Physics and Astronomy, Swarthmore College, Swarthmore, PA 19081, USA}$\n",
       "$\\newcommand{\\seti}{SETI Institute, Mountain View, CA 94043, USA}$\n",
       "$\\newcommand{\\lehigh}{Department of Physics, Lehigh University, 16 Memorial Drive East, Bethlehem, PA 18015, USA}$\n",
       "$\\newcommand{\\utah}{Department of Physics and Astronomy, University of Utah, 115 South 1400 East, Salt Lake City, UT 84112, USA}$\n",
       "$\\newcommand{\\USNA}{Department of Physics, United States Naval Academy, 572C Holloway Rd., Annapolis, MD 21402, USA}$\n",
       "$\\newcommand{\\DTM}{Department of Terrestrial Magnetism, Carnegie Institution for Science, 5241 Broad Branch Road, NW, Washington, DC 20015, USA}$\n",
       "$\\newcommand{\\UPenn}{The University of Pennsylvania, Department of Physics and Astronomy, Philadelphia, PA, 19104, USA}$\n",
       "$\\newcommand{\\montana}{Department of Physics and Astronomy, University of Montana, 32 Campus Drive, No. 1080, Missoula, MT 59812 USA}$\n",
       "$\\newcommand{\\psu}{Department of Astronomy \\& Astrophysics, The Pennsylvania State University, 525 Davey Lab, University Park, PA 16802, USA}$\n",
       "$\\newcommand{\\psust}{Center for Exoplanets and Habitable Worlds, The Pennsylvania State University, 525 Davey Lab, University Park, PA 16802, USA}$\n",
       "$\\newcommand{\\Kutztown}{Department of Physical Sciences, Kutztown University, Kutztown, PA 19530, USA}$\n",
       "$\\newcommand{\\udel}{Department of Physics \\& Astronomy, University of Delaware, Newark, DE 19716, USA}$\n",
       "$\\newcommand{\\Westminster}{Department of Physics, Westminster College, New Wilmington, PA 16172}$\n",
       "$\\newcommand{\\steward}{Department of Astronomy and Steward Observatory, University of Arizona, Tucson, AZ 85721, USA}$\n",
       "$\\newcommand{\\saao}{South African Astronomical Observatory, PO Box 9, Observatory, 7935, Cape Town, South Africa}$\n",
       "$\\newcommand{\\salt}{Southern African Large Telescope, PO Box 9, Observatory, 7935, Cape Town, South Africa}$\n",
       "$\\newcommand{\\ssl}{Società Astronomica Lunae, Italy}$\n",
       "$\\newcommand{\\spot}{Spot Observatory, Nashville, TN 37206, USA}$\n",
       "$\\newcommand{\\txamGP}{George P. and Cynthia Woods Mitchell Institute for Fundamental Physics and Astronomy, Texas A\\&M University, College Station, TX77843 USA}$\n",
       "$\\newcommand{\\txam}{Department of Physics and Astronomy, Texas A\\&M university, College Station, TX 77843 USA}$\n",
       "$\\newcommand{\\wellesley}{Department of Astronomy, Wellesley College, Wellesley, MA 02481, USA}$\n",
       "$\\newcommand{\\Wesleyan}{Astronomy Department and Van Vleck Observatory, Wesleyan University, Middletown, CT 06459, USA}$\n",
       "$\\newcommand{\\inaf}{INAF -- Osservatorio Astronomico di Padova, Vicolo dell'Osservatorio 5, I-35122, Padova, Italy}$\n",
       "$\\newcommand{\\byu}{Department of Physics and Astronomy, Brigham Young University, Provo, UT 84602, USA}$\n",
       "$\\newcommand{\\Hazelwood}{Hazelwood Observatory, Churchill, Victoria, Australia}$\n",
       "$\\newcommand{\\austinstate}{Department of Physics, Engineering and Astronomy, Stephen F. Austin State University, 1936 North St, Nacogdoches, TX 75962, USA}$\n",
       "$\\newcommand{\\pest}{Perth Exoplanet Survey Telescope}$\n",
       "$\\newcommand{\\Winer}{Winer Observatory, PO Box 797, Sonoita, AZ 85637, USA}$\n",
       "$\\newcommand{\\icpo}{Ivan Curtis Private Observatory}$\n",
       "$\\newcommand{\\elsauce}{El Sauce Observatory, Chile}$\n",
       "$\\newcommand{\\crow}{Atalaia Group \\& CROW Observatory, Portalegre, Portugal}$\n",
       "$\\newcommand{\\dfus}{Dipartimento di Fisica \"E.R.Caianiello\", Università di Salerno, Via Giovanni Paolo II 132, Fisciano 84084, Italy}$\n",
       "$\\newcommand{\\indfn}{Istituto Nazionale di Fisica Nucleare, Napoli, Italy}$\n",
       "$\\newcommand{\\sotes}{Gabriel Murawski Private Observatory (SOTES)}$\n",
       "$\\newcommand{\\lco}{Las Cumbres Observatory Global Telescope, 6740 Cortona Dr., Suite 102, Goleta, CA 93111, USA}$\n",
       "$\\newcommand{\\ucsb}{Department of Physics, University of California, Santa Barbara, CA 93106-9530, USA}$\n",
       "$\\newcommand{\\yale}{Department of Astronomy, Yale University, 52 Hillhouse Avenue, New Haven, CT 06511, USA}$\n",
       "$\\newcommand{\\eso}{European Southern Observatory, Alonso de Córdova 3107, Vitacura, Casilla 19001, Santiago, Chile}$\n",
       "$\\newcommand{\\stsci}{Space Telescope Science Institute, Baltimore, MD 21218, USA}$\n",
       "$\\newcommand{\\keele}{Astrophysics Group, Keele University, Staffordshire ST5 5BG, UK}$\n",
       "$\\newcommand{\\gsfcsellers}{GSFC Sellers Exoplanet Environments Collaboration, NASA Goddard Space Flight Center, Greenbelt, MD 20771 }$\n",
       "$\\newcommand{\\usno}{U.S. Naval Observatory, Washington, DC 20392, USA}$\n",
       "$\\newcommand{\\kansas}{Department of Physics and Astronomy, University of Kansas, 1251 Wescoe Hall Dr., Lawrence, KS 66045, USA}$\n",
       "$\\newcommand{\\gmu}{George Mason University, 4400 University Drive MS 3F3, Fairfax, VA 22030, USA}$\n",
       "$\\newcommand{\\unsw}{Exoplanetary Science at UNSW, School of Physics, UNSW Sydney, NSW 2052, Australia}$\n",
       "$\\newcommand{\\sifa}{School of Physics, Sydney Institute for Astronomy (SIfA), The University of Sydney, NSW 2006, Australia}$\n",
       "$\\newcommand{\\nanjing}{School of Astronomy and Space Science, Key Laboratory of Modern Astronomy and Astrophysics in Ministry of Education, Nanjing University, Nanjing 210046, Jiangsu, China}$\n",
       "$\\newcommand{\\berkely}{Department of Astronomy, University of California Berkeley, Berkeley, CA 94720-3411, USA}$\n",
       "$\\newcommand{\\bhicfa}{Black Hole Initiative at Harvard University, 20 Garden Street, Cambridge, MA 02138, USA}$\n",
       "$\\newcommand{\\Silesian}{Department of Electronics, Electronical Engineering and Microelectronics, Silesian University of Techhnology Akademicka 16, 44-100 Gliwice, Poland}$\n",
       "$\\newcommand{\\Patashnick}{Patashnick Voorheesville Observatory, Voorheesville, NY 12186, USA}$\n",
       "$\\newcommand{\\austincollege}{Physics Department, Austin College, 900 North Grand Avenue, Sherman TX 75090, USA}$\n",
       "$\\newcommand{\\Tsinghua}{Department of Astronomy, Tsinghua University, Beijing 100084, China}$\n",
       "$\\newcommand{\\Tsinghuaschool}{Tsinghua International School, Beijing 100084, China}$\n",
       "$\\newcommand{\\chinaNAO}{National Astronomical Observatories, Chinese Academy of Sciences, 20A Datun Road, Chaoyang District, Beijing 100012, China}$\n",
       "$\\newcommand{\\Tautenburg}{Th{ü}ringer Landessternwarte Tautenburg, Sternwarte 5, 07778 Tautenburg, Germany}$\n",
       "$\\newcommand{\\brierfield}{Brierfield Observatory, New South Wales, Australia}$\n",
       "$\\newcommand{\\Indiana}{Indiana University Department of Astronomy, SW319, 727 E 3rd Street, Bloomington, IN 47405 USA}$\n",
       "$\\newcommand{\\wisconsin}{Department of Astronomy, University of Wisconsin-Madison, Madison, WI 53706, USA}$\n",
       "$\\newcommand{\\protologic}{Proto-Logic Consulting LLC, Washington, DC 20009, USA}$\n",
       "$\\newcommand{\\ASTRAVEO}{ASTRAVEO LLC, PO Box 1668, MA 01931}$\n",
       "$\\newcommand{\\TJHS}{Thomas Jefferson High School, 6560 Braddock Rd, Alexandria, VA 22312 USA}$\n",
       "$\\newcommand{\\ucatchile}{Instituto de Astrofísica, Facultad de Física, Pontificia Universidad Católica de Chile}$\n",
       "$\\newcommand{\\lasa}{Liberal Arts and Science Academy, Austin, Texas 78724, USA}$\n",
       "$\\newcommand{\\gemini}{Gemini Observatory/NSF’s NOIRLab, 670 N. A’ohoku Place, Hilo, HI, 96720, USA}$\n",
       "$\\newcommand{\\umd}{Department of Astronomy, University of Maryland, College Park, College Park, MD}$\n",
       "$\\newcommand{\\Bern}{Physikalisches Institut, University of Bern, Gesellschaftsstrasse 6, 3012 Bern, Switzerland}$\n",
       "$\\newcommand{\\eberly}{\\altaffiliation{Eberly Research Fellow}}$\n",
       "$\\newcommand{\\torres}{\\altaffiliation{Juan Carlos Torres Fellow}}$\n",
       "$\\newcommand{\\sagan}{\\altaffiliation{NASA Sagan Fellow}}$\n",
       "$\\newcommand{\\bernoulli}{\\altaffiliation{Bernoulli fellow}}$\n",
       "$\\newcommand{\\gruber}{\\altaffiliation{Gruber fellow}}$\n",
       "$\\newcommand{\\kavli}{\\altaffiliation{Kavli Fellow}}$\n",
       "$\\newcommand{\\peg}{\\altaffiliation{51 Pegasi b Fellow}}$\n",
       "$\\newcommand{\\pappalardo}{\\altaffiliation{Pappalardo Fellow}}$\n",
       "$\\newcommand{\\hubble}{\\altaffiliation{NASA Hubble Fellow}}$\n",
       "$\\newcommand{\\nsf}{\\altaffiliation{National Science Foundation Graduate Research Fellow}}$\n",
       "$\\newcommand{\\maxplanck}{Max-Planck-Institut für Astronomie,Königstuhl 17, D-69117 Heidelberg, Germany}$\n",
       "$\\newcommand{\\Sofia}{Department of Astronomy, Sofia University \"St Kliment Ohridski\", 5 James Bourchier Blvd, BG-1164 Sofia, Bulgaria}$\n",
       "$\\newcommand{\\Heidelberg}{Landessternwarte, Zentrum für Astronomie der Universität Heidelberg, Königstuhl 12, D-69117 Heidelberg, Germany}$\n",
       "$\\newcommand{\\Adolfo}{Facultad de Ingeniera y Ciencias, Universidad Adolfo Ibáñez, Av. Diagonal las Torres 2640, Peñalolén, Santiago, Chile}$\n",
       "$\\newcommand{\\Millenium}{Millenium Institute of Astrophysics, Santiago, Chile}$</div>\n",
       "\n",
       "\n",
       "\n",
       "<div id=\"title\">\n",
       "\n",
       "# Discovery and Characterization of an Eccentric, Warm Saturn Transiting the Solar Analog TOI-4994$\\footnote{This paper includes data gathered with the 6.5 meter Magellan Telescopes located at Las Campanas Observatory, Chile.}$\n",
       "\n",
       "</div>\n",
       "<div id=\"comments\">\n",
       "\n",
       "[![arXiv](https://img.shields.io/badge/arXiv-2412.02769-b31b1b.svg)](https://arxiv.org/abs/2412.02769)<mark>Appeared on: 2024-12-05</mark> -  _17 pages, 10 figures. Accepted to AJ_\n",
       "\n",
       "</div>\n",
       "<div id=\"authors\">\n",
       "\n",
       "R. R. Martínez, et al. -- incl., <mark>J. Eberhardt</mark>, <mark>T. Henning</mark>\n",
       "\n",
       "</div>\n",
       "<div id=\"abstract\">\n",
       "\n",
       "**Abstract:** We present the detection and characterization of TOI-4994b (TIC 277128619b), a warm Saturn-sized planet discovered by the NASA Transiting Exoplanet Survey Satellite (TESS). TOI-4994b transits a G-type star (V = 12.6 mag) with a mass, radius, and effective temperature of $M_{\\star} =1.005^{+0.064}_{-0.061} M_{\\odot}$ , $R_{\\star} = 1.055^{+0.040}_{-0.037} R_{\\odot}$ , and $T_{\\rm eff} = 5640 \\pm 110$ K. We obtained follow-up ground-based photometry from the Las Cumbres Observatory (LCO) and the Antarctic Search for Transiting ExoPlanets (ASTEP) telescopes, and we confirmed the planetary nature of TOI-4994b with multiple radial velocity observations from the PFS, CHIRON, HARPS, FEROS, and CORALIE instruments. From a global fit to the photometry and radial velocities, we determine that TOI-4994b is in a 21.5-day, eccentric orbit ( $e = 0.32 \\pm 0.04$ ) and has a mass of $M_{P}= 0.280^{+0.037}_{-0.034} M_{J}$ , a radius of $R_{P}= 0.762^{+0.030}_{-0.027}R_{J}$ , and a Saturn-like bulk density of $\\rho_{p} = 0.78^{+0.16}_{-0.14}$ $\\rm g/cm^3$ . We find that TOI-4994 is a potentially viable candidate for follow-up stellar obliquity measurements. TOI-4994b joins the small sample of warm Saturn analogs and thus sheds light on our understanding of these rare and unique worlds.\n",
       "\n",
       "</div>\n",
       "\n",
       "<div id=\"div_fig1\">\n",
       "\n",
       "<img src=\"tmp_2412.02769/./Fig2.png\" alt=\"Fig2\" width=\"100%\"/>\n",
       "\n",
       "**Figure 2. -** Light curves of TOI-4994 from the LCO and ASTEP-Antarctica ground-based observatories.  (*fig:Ground_based*)\n",
       "\n",
       "</div>\n",
       "<div id=\"div_fig2\">\n",
       "\n",
       "<img src=\"tmp_2412.02769/./Fig4.png\" alt=\"Fig4\" width=\"100%\"/>\n",
       "\n",
       "**Figure 4. -** Phase-folded radial velocities from PFS (golden diamonds) and HARPS (purple stars and blue triangles) only, with residuals plotted below. (*fig:PFS_HARPS*)\n",
       "\n",
       "</div>\n",
       "<div id=\"div_fig3\">\n",
       "\n",
       "<img src=\"tmp_2412.02769/./Fig1.png\" alt=\"Fig1\" width=\"100%\"/>\n",
       "\n",
       "**Figure 1. -** TESS light curves of TOI-4994 at 30 (top), 10 (middle), and 2 (bottom) minute cadences, combining 6 different sectors. The red lines show the best-fit {\\tt EXOFASTv2} models, phase-folded on the orbital period. (*fig:TESS_lcs*)\n",
       "\n",
       "</div><div id=\"qrcode\"><img src=https://api.qrserver.com/v1/create-qr-code/?size=100x100&data=\"https://arxiv.org/abs/2412.02769\"></div>"
      ],
      "text/plain": [
       "<IPython.core.display.Markdown object>"
      ]
     },
     "metadata": {},
     "output_type": "display_data"
    },
    {
     "data": {
      "text/markdown": [
       "<div class=\"macros\" style=\"visibility:hidden;\">\n",
       "$\\newcommand{\\ensuremath}{}$\n",
       "$\\newcommand{\\xspace}{}$\n",
       "$\\newcommand{\\object}[1]{\\texttt{#1}}$\n",
       "$\\newcommand{\\farcs}{{.}''}$\n",
       "$\\newcommand{\\farcm}{{.}'}$\n",
       "$\\newcommand{\\arcsec}{''}$\n",
       "$\\newcommand{\\arcmin}{'}$\n",
       "$\\newcommand{\\ion}[2]{#1#2}$\n",
       "$\\newcommand{\\textsc}[1]{\\textrm{#1}}$\n",
       "$\\newcommand{\\hl}[1]{\\textrm{#1}}$\n",
       "$\\newcommand{\\footnote}[1]{}$</div>\n",
       "\n",
       "\n",
       "\n",
       "<div id=\"title\">\n",
       "\n",
       "# Environmental Evidence for Overly Massive Black Holes in Low Mass Galaxies and a Black Hole - Halo Mass Relation at $z\\sim5$\n",
       "\n",
       "</div>\n",
       "<div id=\"comments\">\n",
       "\n",
       "[![arXiv](https://img.shields.io/badge/arXiv-2412.02846-b31b1b.svg)](https://arxiv.org/abs/2412.02846)<mark>Appeared on: 2024-12-05</mark> -  _19 pages, 15 figures. Submitted to ApJ. Main results in Figures 12, 13, 14. Comments welcome_\n",
       "\n",
       "</div>\n",
       "<div id=\"authors\">\n",
       "\n",
       "J. Matthee, et al. -- incl., <mark>A. d. Graaff</mark>\n",
       "\n",
       "</div>\n",
       "<div id=\"abstract\">\n",
       "\n",
       "**Abstract:** $\\it$ JWST observations have unveiled faint active galactic nuclei (AGN) at high-redshift that provide insights on the formation of supermassive black holes (SMBHs) and their coevolution with galaxies. However, disentangling stellar from AGN light in these sources is challenging. Here, we use an empirical approach to infer the average stellar mass of 6 faint broad line (BL) H $\\alpha$ emitters at $z=4-5$ with BH masses $\\approx6  (4-15)\\times10^6$ M $_{\\odot}$ , with a method independent of their spectral energy distribution (SED). We use the deep $_ JWST_$ /NIRcam grism survey ALT to measure the over-densities around BL-H $\\alpha$ emitters and around a spectroscopic reference sample of $\\sim300$ galaxies. In our reference sample, we find that Mpc-scale over-density correlates with stellar mass, while pair counts are flat below $\\approx50$ kpc due to satellites. Their large-scale environments suggest that BL-H $\\alpha$ emitters are hosted by galaxies with stellar masses $\\approx5\\times10^7$ M $_{\\odot}$ , $\\approx40$ times lower than those inferred from galaxy-only SED fits. Adding measurements around more luminous $z\\approx6$ AGNs, we find tentative correlations between line width, BH mass and the over-density, suggestive of a steep BH to halo mass relation. The main implications are (1) when BH masses are taken at face value, we confirm extremely high BH to stellar mass ratios of $\\approx10$ \\% , (2) the low stellar mass galaxies hosting growing SMBHs are in tension with typical hydrodynamical simulations, except those without feedback, (3) a 1 \\% duty cycle implied by the host mass hints at super-Eddington accretion, which may imply over-estimated SMBH masses, (4) the masses are at odds with a high stellar density interpretation of the line broadening, (5) our results imply a diversity of galaxy masses, environments and SEDs among AGN samples, depending on their luminosity.\n",
       "\n",
       "</div>\n",
       "\n",
       "<div id=\"div_fig1\">\n",
       "\n",
       "<img src=\"tmp_2412.02846/./figs/MSTAR_MBH.png\" alt=\"Fig10\" width=\"100%\"/>\n",
       "\n",
       "**Figure 10. -** The relation between the stellar mass and SMBH mass for our BL-H$\\alpha$ emitter sample (dark red hexagon, where stellar mass is indirectly inferred from their environments), a _ JWST_ literature compilation at $z\\approx4-6$(blue points; where stellar mass is inferred from SED fitting, from  ([Carnall, McLure and Dunlop 2023](), [Maiolino, Scholtz and Curtis-Lake 2023](), [Harikane, Zhang and Nakajima 2023](), [Yue, Eilers and Simcoe 2024](), [Kokorev, Chisholm and Endsley 2024](), [Onoue, Ding and Silverman 2024]()) ). We highlight the luminous ALT-66543 (Labbe et al in prep) also with a red hexagon. For reference, we show the local relation measured by [Reines and Volonteri (2015)]() in black (showing the extrapolated range with a dashed line). The luminosity-bias corrected fit to _ JWST_ data from [Li, Silverman and Shen (2024)]() is shown in purple, purple contours show the expected observed distribution from this modeling work.  (*fig:Mstar_MBH*)\n",
       "\n",
       "</div>\n",
       "<div id=\"div_fig2\">\n",
       "\n",
       "<img src=\"tmp_2412.02846/./figs/MSTAR_MBH_sims.png\" alt=\"Fig12\" width=\"100%\"/>\n",
       "\n",
       "**Figure 12. -** The relation between the stellar mass and supermassive black hole mass at $z\\approx5$, comparing measurements at $z\\approx5$(dark red and blue points from data as in Fig. $\\ref{fig:Mstar_MBH}$) with the 100 cMpc box EAGLE ( ([Schaye, Crain and Bower 2015](), [Crain, Schaye and Bower 2015]()) ) and Illustris-TNG ( ([Weinberger, Springel and Hernquist 2017](), [Pillepich, Springel and Nelson 2018]()) ) hydrodynamical simulations (orange and green, respectively). Red shows an EAGLE model without stellar feedback (ONLYAGN; with a 50 cMpc box size). Data-points show individual galaxies. Solid lines show the running median. Dashed lines show the running 95th percentile (where we note the low and high mass ends are impacted by low number statistics). The seed SMBH masses are $\\approx10^5$ M$_{\\odot}$ and $\\approx10^6$ M$_{\\odot}$ in EAGLE and Illustris-TNG, respectively. (*fig:Mstar_MBH_sims*)\n",
       "\n",
       "</div>\n",
       "<div id=\"div_fig3\">\n",
       "\n",
       "<img src=\"tmp_2412.02846/./figs/LHA_VFWHM.png\" alt=\"Fig1\" width=\"100%\"/>\n",
       "\n",
       "**Figure 1. -** Compilation of H$\\alpha$ broad lines measured with _ JWST_ at $z=4-6$ from NIRCam Grism (red hexagons this paper; green squares EIGER \\& FRESCO and ASPIRE in pink) and NIRspec (points, purple JADES, RUBIES and CEERS in blue and UNCOVER in orange) spectroscopy. We highlight how the H$\\alpha$ luminosity and width change with SMBH mass and Eddington ratio under the commonly adopted calibrations used. Three of the ALT sources are also in the UNCOVER sample.  (*fig:lha_fwhm*)\n",
       "\n",
       "</div><div id=\"qrcode\"><img src=https://api.qrserver.com/v1/create-qr-code/?size=100x100&data=\"https://arxiv.org/abs/2412.02846\"></div>"
      ],
      "text/plain": [
       "<IPython.core.display.Markdown object>"
      ]
     },
     "metadata": {},
     "output_type": "display_data"
    },
    {
     "data": {
      "text/markdown": [
       "<div class=\"macros\" style=\"visibility:hidden;\">\n",
       "$\\newcommand{\\ensuremath}{}$\n",
       "$\\newcommand{\\xspace}{}$\n",
       "$\\newcommand{\\object}[1]{\\texttt{#1}}$\n",
       "$\\newcommand{\\farcs}{{.}''}$\n",
       "$\\newcommand{\\farcm}{{.}'}$\n",
       "$\\newcommand{\\arcsec}{''}$\n",
       "$\\newcommand{\\arcmin}{'}$\n",
       "$\\newcommand{\\ion}[2]{#1#2}$\n",
       "$\\newcommand{\\textsc}[1]{\\textrm{#1}}$\n",
       "$\\newcommand{\\hl}[1]{\\textrm{#1}}$\n",
       "$\\newcommand{\\footnote}[1]{}$\n",
       "$\\newcommand{\\prelim}[1]{\\colorbox{white!70!cyan}{\\parbox{0.85\\columnwidth}{\\texttt{PRELIM: #1}}}}$\n",
       "$\\newcommand{\\eureka}[1]{\\texttt{Eureka!}{#1}}$\n",
       "$\\newcommand{\\tiberius}[1]{\\texttt{Tiberius}{#1}}$\n",
       "$\\newcommand{\\exotic}[1]{\\texttt{ExoTIC-JEDI}{#1}}$</div>\n",
       "\n",
       "\n",
       "\n",
       "<div id=\"title\">\n",
       "\n",
       "# A dark, bare rock for TOI-1685 b from a JWST NIRSpec G395H phase curve\n",
       "\n",
       "</div>\n",
       "<div id=\"comments\">\n",
       "\n",
       "[![arXiv](https://img.shields.io/badge/arXiv-2412.03411-b31b1b.svg)](https://arxiv.org/abs/2412.03411)<mark>Appeared on: 2024-12-05</mark> -  _26 pages, 19 figures, 8 tables. Submitted to AAS Journals_\n",
       "\n",
       "</div>\n",
       "<div id=\"authors\">\n",
       "\n",
       "R. Luque, et al. -- incl., <mark>E.-M. Ahrer</mark>\n",
       "\n",
       "</div>\n",
       "<div id=\"abstract\">\n",
       "\n",
       "**Abstract:** $\\noindent$ We report JWST NIRSpec/G395H observations of TOI-1685 b, a hot rocky super-Earth orbiting an M2.5V star, during a full orbit. We obtain transmission and emission spectra of the planet and characterize the properties of the phase curve, including its amplitude and offset. The transmission spectrum rules out clear $H_2$ -dominated atmospheres, while secondary atmospheres (made of water, methane, or carbon dioxide) cannot be statistically distinguished from a flat line. The emission spectrum is featureless and consistent with a blackbody-like brightness temperature, helping rule out thick atmospheres with high mean molecular weight. Collecting all evidence, the properties of TOI-1685 b are consistent with a blackbody with no heat redistribution and a low albedo, with a dayside brightness temperature $0.98\\pm0.07$ times that of a perfect blackbody in the NIRSpec NRS2 wavelength range (3.823--5.172 µm). Our results add to the growing number of seemingly airless M-star rocky planets, thus constraining the location of the `Cosmic Shoreline'.Three independent data reductions have been carried out, all showing a high-amplitude correlated noise component in the white and spectroscopic light curves. The correlated noise properties are different between the NRS1 and NRS2 detectors -- importantly the timescales of the strongest components (4.5 hours and 2.5 hours, respectively) -- suggesting the noise is from instrumental rather than astrophysical origins. We encourage the community to look into the systematics of NIRSpec for long time-series observations.\n",
       "\n",
       "</div>\n",
       "\n",
       "<div id=\"div_fig1\">\n",
       "\n",
       "<img src=\"tmp_2412.03411/./figures/paper_whitepc.png\" alt=\"Fig9\" width=\"100%\"/>\n",
       "\n",
       "**Figure 9. -** The white-light phase curve of TOI-1685 b from 2.844-3.715 µm (NRS1, left column) and 3.823-5.172 µm (NRS2, right column) from JWST. Top: data from the $\\eureka$ reduction (purple) and planet flux model fit to the data (gold). Bottom: residuals of the fit. Circles show binned data every 25 integrations to improve visualization.  (*fig:phasecurve*)\n",
       "\n",
       "</div>\n",
       "<div id=\"div_fig2\">\n",
       "\n",
       "<img src=\"tmp_2412.03411/./figures/nrs1_ls.png\" alt=\"Fig7\" width=\"100%\"/>\n",
       "\n",
       "**Figure 7. -** Results of running the residuals of the white-light and spectroscopic light curves through a Lomb-Scargle periodogram. (a) A gallery of the residuals from the \\texttt{Eureka!} pipeline for each spectroscopic channel. (b) The periodogram results. The color of the lines between panels a and b are for the same white-light or spectroscopic channel. The residuals show uncorrelated noise at periods of $< 0.5$ hours. (*fig:nrs1_ls*)\n",
       "\n",
       "</div>\n",
       "<div id=\"div_fig3\">\n",
       "\n",
       "<img src=\"tmp_2412.03411/./figures/paper_emission.png\" alt=\"Fig12\" width=\"100%\"/>\n",
       "\n",
       "**Figure 12. -** Emission spectrum of TOI-1685 b using NIRSpec/G395H. Different data reductions follow the same color convention as Fig. \\ref{fig:transmission_all}. Different symbols show different parts of the time series used in the fit as described in Sect. \\ref{subsec:specchan}. Black circles represent the final emission spectrum from the prayer-bead analysis carried out in Sect. \\ref{subsubsec:prayerbead}. The different datasets are offset slightly in wavelength to improve visualization.  (*fig:emission_all*)\n",
       "\n",
       "</div><div id=\"qrcode\"><img src=https://api.qrserver.com/v1/create-qr-code/?size=100x100&data=\"https://arxiv.org/abs/2412.03411\"></div>"
      ],
      "text/plain": [
       "<IPython.core.display.Markdown object>"
      ]
     },
     "metadata": {},
     "output_type": "display_data"
    }
   ],
   "source": [
    "[display(Markdown(k[1])) for k in documents];"
   ]
  },
  {
   "cell_type": "markdown",
   "id": "873873a4",
   "metadata": {
    "papermill": {
     "duration": 0.005294,
     "end_time": "2024-12-05T04:14:01.257682",
     "exception": false,
     "start_time": "2024-12-05T04:14:01.252388",
     "status": "completed"
    },
    "tags": []
   },
   "source": [
    "# Create HTML index"
   ]
  },
  {
   "cell_type": "code",
   "execution_count": 10,
   "id": "cf665672",
   "metadata": {
    "execution": {
     "iopub.execute_input": "2024-12-05T04:14:01.269287Z",
     "iopub.status.busy": "2024-12-05T04:14:01.268842Z",
     "iopub.status.idle": "2024-12-05T04:14:01.277806Z",
     "shell.execute_reply": "2024-12-05T04:14:01.277115Z"
    },
    "papermill": {
     "duration": 0.015988,
     "end_time": "2024-12-05T04:14:01.278891",
     "exception": false,
     "start_time": "2024-12-05T04:14:01.262903",
     "status": "completed"
    },
    "tags": []
   },
   "outputs": [
    {
     "name": "stdout",
     "output_type": "stream",
     "text": [
      "268  publications files modified in the last 7 days.\n"
     ]
    }
   ],
   "source": [
    "from datetime import datetime, timedelta, timezone\n",
    "from glob import glob\n",
    "import os\n",
    "\n",
    "files = glob('_build/html/*.md')\n",
    "days = 7\n",
    "now = datetime.today()\n",
    "res = []\n",
    "for fk in files:\n",
    "    stat_result = os.stat(fk).st_ctime\n",
    "    modified = datetime.fromtimestamp(stat_result, tz=timezone.utc).replace(tzinfo=None)\n",
    "    delta = now.today() - modified\n",
    "    if delta <= timedelta(days=days):\n",
    "        res.append((delta.seconds, fk))\n",
    "res = [k[1] for k in reversed(sorted(res, key=lambda x:x[1]))]\n",
    "npub = len(res)\n",
    "print(len(res), f\" publications files modified in the last {days:d} days.\")\n",
    "# [ print('\\t', k) for k in res ];"
   ]
  },
  {
   "cell_type": "code",
   "execution_count": 11,
   "id": "015de740",
   "metadata": {
    "execution": {
     "iopub.execute_input": "2024-12-05T04:14:01.290673Z",
     "iopub.status.busy": "2024-12-05T04:14:01.290279Z",
     "iopub.status.idle": "2024-12-05T04:14:01.307585Z",
     "shell.execute_reply": "2024-12-05T04:14:01.307065Z"
    },
    "papermill": {
     "duration": 0.024168,
     "end_time": "2024-12-05T04:14:01.308530",
     "exception": false,
     "start_time": "2024-12-05T04:14:01.284362",
     "status": "completed"
    },
    "tags": []
   },
   "outputs": [
    {
     "name": "stdout",
     "output_type": "stream",
     "text": [
      "11  publications in the last 7 days.\n"
     ]
    }
   ],
   "source": [
    "import datetime\n",
    "from glob import glob\n",
    "\n",
    "def get_last_n_days(lst, days=1):\n",
    "    \"\"\" Get the documents from the last n days \"\"\"\n",
    "    sorted_lst = sorted(lst, key=lambda x: x[1], reverse=True)\n",
    "    for fname, date in sorted_lst:\n",
    "        if date >= str(datetime.date.today() - datetime.timedelta(days=days)):\n",
    "            yield fname\n",
    "\n",
    "def extract_appearance_dates(lst_file):\n",
    "    dates = []\n",
    "\n",
    "    def get_date(line):\n",
    "        return line\\\n",
    "            .split('Appeared on:')[-1]\\\n",
    "            .split('</mark>')[0].strip()\n",
    "\n",
    "    for fname in lst:\n",
    "        with open(fname, 'r') as f:\n",
    "            found_date = False\n",
    "            for line in f:\n",
    "                if not found_date:\n",
    "                    if \"Appeared on\" in line:\n",
    "                        found_date = True\n",
    "                        dates.append((fname, get_date(line)))\n",
    "                else:\n",
    "                    break\n",
    "    return dates\n",
    "\n",
    "from glob import glob\n",
    "lst = glob('_build/html/*md')\n",
    "days = 7\n",
    "dates = extract_appearance_dates(lst)\n",
    "res = list(get_last_n_days(dates, days))\n",
    "npub = len(res)\n",
    "print(len(res), f\" publications in the last {days:d} days.\")"
   ]
  },
  {
   "cell_type": "code",
   "execution_count": 12,
   "id": "52ca0208",
   "metadata": {
    "execution": {
     "iopub.execute_input": "2024-12-05T04:14:01.320840Z",
     "iopub.status.busy": "2024-12-05T04:14:01.320409Z",
     "iopub.status.idle": "2024-12-05T04:14:01.325209Z",
     "shell.execute_reply": "2024-12-05T04:14:01.324711Z"
    },
    "papermill": {
     "duration": 0.011884,
     "end_time": "2024-12-05T04:14:01.326191",
     "exception": false,
     "start_time": "2024-12-05T04:14:01.314307",
     "status": "completed"
    },
    "scrolled": false,
    "tags": []
   },
   "outputs": [],
   "source": [
    "def create_carousel(npub=4):\n",
    "    \"\"\" Generate the HTML code for a carousel with `npub` slides \"\"\"\n",
    "    carousel = [\"\"\"  <div class=\"carousel\" \"\"\",\n",
    "                \"\"\"       data-flickity='{ \"autoPlay\": 10000, \"adaptiveHeight\": true, \"resize\": true, \"wrapAround\": true, \"pauseAutoPlayOnHover\": true, \"groupCells\": 1 }' id=\"asyncTypeset\">\"\"\"\n",
    "                ]\n",
    "    \n",
    "    item_str = \"\"\"    <div class=\"carousel-cell\"> <div id=\"slide{k}\" class=\"md_view\">Content {k}</div> </div>\"\"\"\n",
    "    for k in range(1, npub + 1):\n",
    "        carousel.append(item_str.format(k=k))\n",
    "    carousel.append(\"  </div>\")\n",
    "    return '\\n'.join(carousel)\n",
    "\n",
    "def create_grid(npub=4):\n",
    "    \"\"\" Generate the HTML code for a flat grid with `npub` slides \"\"\"\n",
    "    grid = [\"\"\"  <div class=\"grid\"> \"\"\",\n",
    "                ]\n",
    "    \n",
    "    item_str = \"\"\"    <div class=\"grid-item\"> <div id=\"slide{k}\" class=\"md_view\">Content {k}</div> </div>\"\"\"\n",
    "    for k in range(1, npub + 1):\n",
    "        grid.append(item_str.format(k=k))\n",
    "    grid.append(\"  </div>\")\n",
    "    return '\\n'.join(grid)"
   ]
  },
  {
   "cell_type": "code",
   "execution_count": 13,
   "id": "a6eac5b6",
   "metadata": {
    "execution": {
     "iopub.execute_input": "2024-12-05T04:14:01.338420Z",
     "iopub.status.busy": "2024-12-05T04:14:01.337997Z",
     "iopub.status.idle": "2024-12-05T04:14:01.343263Z",
     "shell.execute_reply": "2024-12-05T04:14:01.342646Z"
    },
    "papermill": {
     "duration": 0.012425,
     "end_time": "2024-12-05T04:14:01.344405",
     "exception": false,
     "start_time": "2024-12-05T04:14:01.331980",
     "status": "completed"
    },
    "scrolled": false,
    "tags": []
   },
   "outputs": [],
   "source": [
    "carousel = create_carousel(npub)\n",
    "docs = ', '.join(['\"{0:s}\"'.format(k.split('/')[-1]) for k in res])\n",
    "slides = ', '.join([f'\"slide{k}\"' for k in range(1, npub + 1)])\n",
    "\n",
    "with open(\"daily_template.html\", \"r\") as tpl:\n",
    "    page = tpl.read()\n",
    "    page = page.replace(\"{%-- carousel:s --%}\", carousel)\\\n",
    "               .replace(\"{%-- suptitle:s --%}\",  \"7-day archives\" )\\\n",
    "               .replace(\"{%-- docs:s --%}\", docs)\\\n",
    "               .replace(\"{%-- slides:s --%}\", slides)\n",
    "    \n",
    "with open(\"_build/html/index_7days.html\", 'w') as fout:\n",
    "    fout.write(page)"
   ]
  },
  {
   "cell_type": "code",
   "execution_count": 14,
   "id": "adc1a1ec",
   "metadata": {
    "execution": {
     "iopub.execute_input": "2024-12-05T04:14:01.357035Z",
     "iopub.status.busy": "2024-12-05T04:14:01.356420Z",
     "iopub.status.idle": "2024-12-05T04:14:01.363279Z",
     "shell.execute_reply": "2024-12-05T04:14:01.362734Z"
    },
    "papermill": {
     "duration": 0.014146,
     "end_time": "2024-12-05T04:14:01.364244",
     "exception": false,
     "start_time": "2024-12-05T04:14:01.350098",
     "status": "completed"
    },
    "tags": []
   },
   "outputs": [
    {
     "name": "stdout",
     "output_type": "stream",
     "text": [
      "5  publications in the last day.\n"
     ]
    }
   ],
   "source": [
    "# redo for today\n",
    "days = 1\n",
    "res = list(get_last_n_days(dates, days))\n",
    "npub = len(res)\n",
    "print(len(res), f\" publications in the last day.\")\n",
    "\n",
    "carousel = create_carousel(npub)\n",
    "docs = ', '.join(['\"{0:s}\"'.format(k.split('/')[-1]) for k in res])\n",
    "slides = ', '.join([f'\"slide{k}\"' for k in range(1, npub + 1)])\n",
    "\n",
    "with open(\"daily_template.html\", \"r\") as tpl:\n",
    "    page = tpl.read()\n",
    "    page = page.replace(\"{%-- carousel:s --%}\", carousel)\\\n",
    "               .replace(\"{%-- suptitle:s --%}\",  \"Daily\" )\\\n",
    "               .replace(\"{%-- docs:s --%}\", docs)\\\n",
    "               .replace(\"{%-- slides:s --%}\", slides)\n",
    "    \n",
    "# print(carousel, docs, slides)\n",
    "# print(page)\n",
    "with open(\"_build/html/index_daily.html\", 'w') as fout:\n",
    "    fout.write(page)"
   ]
  },
  {
   "cell_type": "code",
   "execution_count": 15,
   "id": "00eece82",
   "metadata": {
    "execution": {
     "iopub.execute_input": "2024-12-05T04:14:01.376785Z",
     "iopub.status.busy": "2024-12-05T04:14:01.376401Z",
     "iopub.status.idle": "2024-12-05T04:14:01.382863Z",
     "shell.execute_reply": "2024-12-05T04:14:01.382259Z"
    },
    "papermill": {
     "duration": 0.013672,
     "end_time": "2024-12-05T04:14:01.383837",
     "exception": false,
     "start_time": "2024-12-05T04:14:01.370165",
     "status": "completed"
    },
    "scrolled": false,
    "tags": []
   },
   "outputs": [
    {
     "name": "stdout",
     "output_type": "stream",
     "text": [
      "6  6 publications selected.\n"
     ]
    }
   ],
   "source": [
    "# Create the flat grid of the last N papers (fixed number regardless of dates)\n",
    "from itertools import islice \n",
    "\n",
    "npub = 6\n",
    "res = [k[0] for k in (islice(reversed(sorted(dates, key=lambda x: x[1])), 6))]\n",
    "print(len(res), f\" {npub} publications selected.\")\n",
    "\n",
    "grid = create_grid(npub)\n",
    "docs = ', '.join(['\"{0:s}\"'.format(k.split('/')[-1]) for k in res])\n",
    "slides = ', '.join([f'\"slide{k}\"' for k in range(1, npub + 1)])\n",
    "\n",
    "with open(\"grid_template.html\", \"r\") as tpl:\n",
    "    page = tpl.read()\n",
    "    page = page.replace(\"{%-- grid-content:s --%}\", grid)\\\n",
    "               .replace(\"{%-- suptitle:s --%}\",  f\"Last {npub:,d} papers\" )\\\n",
    "               .replace(\"{%-- docs:s --%}\", docs)\\\n",
    "               .replace(\"{%-- slides:s --%}\", slides)\n",
    "    \n",
    "# print(grid, docs, slides)\n",
    "# print(page)\n",
    "with open(\"_build/html/index_npub_grid.html\", 'w') as fout:\n",
    "    fout.write(page)"
   ]
  }
 ],
 "metadata": {
  "kernelspec": {
   "display_name": "Python 3 (ipykernel)",
   "language": "python",
   "name": "python3"
  },
  "language_info": {
   "codemirror_mode": {
    "name": "ipython",
    "version": 3
   },
   "file_extension": ".py",
   "mimetype": "text/x-python",
   "name": "python",
   "nbconvert_exporter": "python",
   "pygments_lexer": "ipython3",
   "version": "3.9.20"
  },
  "papermill": {
   "default_parameters": {},
   "duration": 98.229057,
   "end_time": "2024-12-05T04:14:01.605644",
   "environment_variables": {},
   "exception": null,
   "input_path": "MPIA daily digest.ipynb",
   "output_path": "log.ipynb",
   "parameters": {},
   "start_time": "2024-12-05T04:12:23.376587",
   "version": "2.6.0"
  },
  "vscode": {
   "interpreter": {
    "hash": "aee8b7b246df8f9039afb4144a1f6fd8d2ca17a180786b69acc140d282b71a49"
   }
  },
  "widgets": {
   "application/vnd.jupyter.widget-state+json": {
    "state": {
     "1cf734a112f7472f9d3e842f1183ce15": {
      "model_module": "@jupyter-widgets/base",
      "model_module_version": "2.0.0",
      "model_name": "LayoutModel",
      "state": {
       "_model_module": "@jupyter-widgets/base",
       "_model_module_version": "2.0.0",
       "_model_name": "LayoutModel",
       "_view_count": null,
       "_view_module": "@jupyter-widgets/base",
       "_view_module_version": "2.0.0",
       "_view_name": "LayoutView",
       "align_content": null,
       "align_items": null,
       "align_self": null,
       "border_bottom": null,
       "border_left": null,
       "border_right": null,
       "border_top": null,
       "bottom": null,
       "display": null,
       "flex": null,
       "flex_flow": null,
       "grid_area": null,
       "grid_auto_columns": null,
       "grid_auto_flow": null,
       "grid_auto_rows": null,
       "grid_column": null,
       "grid_gap": null,
       "grid_row": null,
       "grid_template_areas": null,
       "grid_template_columns": null,
       "grid_template_rows": null,
       "height": null,
       "justify_content": null,
       "justify_items": null,
       "left": null,
       "margin": null,
       "max_height": null,
       "max_width": null,
       "min_height": null,
       "min_width": null,
       "object_fit": null,
       "object_position": null,
       "order": null,
       "overflow": null,
       "padding": null,
       "right": null,
       "top": null,
       "visibility": null,
       "width": null
      }
     },
     "523b9632f69145a88adb0c5b6dcbaffd": {
      "model_module": "@jupyter-widgets/controls",
      "model_module_version": "2.0.0",
      "model_name": "HTMLStyleModel",
      "state": {
       "_model_module": "@jupyter-widgets/controls",
       "_model_module_version": "2.0.0",
       "_model_name": "HTMLStyleModel",
       "_view_count": null,
       "_view_module": "@jupyter-widgets/base",
       "_view_module_version": "2.0.0",
       "_view_name": "StyleView",
       "background": null,
       "description_width": "",
       "font_size": null,
       "text_color": null
      }
     },
     "528144dbadbc482f8caeea68969c34d4": {
      "model_module": "@jupyter-widgets/base",
      "model_module_version": "2.0.0",
      "model_name": "LayoutModel",
      "state": {
       "_model_module": "@jupyter-widgets/base",
       "_model_module_version": "2.0.0",
       "_model_name": "LayoutModel",
       "_view_count": null,
       "_view_module": "@jupyter-widgets/base",
       "_view_module_version": "2.0.0",
       "_view_name": "LayoutView",
       "align_content": null,
       "align_items": null,
       "align_self": null,
       "border_bottom": null,
       "border_left": null,
       "border_right": null,
       "border_top": null,
       "bottom": null,
       "display": null,
       "flex": null,
       "flex_flow": null,
       "grid_area": null,
       "grid_auto_columns": null,
       "grid_auto_flow": null,
       "grid_auto_rows": null,
       "grid_column": null,
       "grid_gap": null,
       "grid_row": null,
       "grid_template_areas": null,
       "grid_template_columns": null,
       "grid_template_rows": null,
       "height": null,
       "justify_content": null,
       "justify_items": null,
       "left": null,
       "margin": null,
       "max_height": null,
       "max_width": null,
       "min_height": null,
       "min_width": null,
       "object_fit": null,
       "object_position": null,
       "order": null,
       "overflow": null,
       "padding": null,
       "right": null,
       "top": null,
       "visibility": null,
       "width": null
      }
     },
     "61d7205efba043b0a56ae39443e24ff0": {
      "model_module": "@jupyter-widgets/base",
      "model_module_version": "2.0.0",
      "model_name": "LayoutModel",
      "state": {
       "_model_module": "@jupyter-widgets/base",
       "_model_module_version": "2.0.0",
       "_model_name": "LayoutModel",
       "_view_count": null,
       "_view_module": "@jupyter-widgets/base",
       "_view_module_version": "2.0.0",
       "_view_name": "LayoutView",
       "align_content": null,
       "align_items": null,
       "align_self": null,
       "border_bottom": null,
       "border_left": null,
       "border_right": null,
       "border_top": null,
       "bottom": null,
       "display": null,
       "flex": null,
       "flex_flow": null,
       "grid_area": null,
       "grid_auto_columns": null,
       "grid_auto_flow": null,
       "grid_auto_rows": null,
       "grid_column": null,
       "grid_gap": null,
       "grid_row": null,
       "grid_template_areas": null,
       "grid_template_columns": null,
       "grid_template_rows": null,
       "height": null,
       "justify_content": null,
       "justify_items": null,
       "left": null,
       "margin": null,
       "max_height": null,
       "max_width": null,
       "min_height": null,
       "min_width": null,
       "object_fit": null,
       "object_position": null,
       "order": null,
       "overflow": null,
       "padding": null,
       "right": null,
       "top": null,
       "visibility": null,
       "width": null
      }
     },
     "851f0b9770334d67bf1eee1268fda486": {
      "model_module": "@jupyter-widgets/controls",
      "model_module_version": "2.0.0",
      "model_name": "HBoxModel",
      "state": {
       "_dom_classes": [],
       "_model_module": "@jupyter-widgets/controls",
       "_model_module_version": "2.0.0",
       "_model_name": "HBoxModel",
       "_view_count": null,
       "_view_module": "@jupyter-widgets/controls",
       "_view_module_version": "2.0.0",
       "_view_name": "HBoxView",
       "box_style": "",
       "children": [
        "IPY_MODEL_e39ba62d3cd0414ca5fc688a976e875b",
        "IPY_MODEL_c9dc3d2ed8a345588693c622ad0f3f65",
        "IPY_MODEL_ff3cee37d3184e4a9dd2b3b80d80fe72"
       ],
       "layout": "IPY_MODEL_1cf734a112f7472f9d3e842f1183ce15",
       "tabbable": null,
       "tooltip": null
      }
     },
     "99632b5ee46a433dbc35753b32efac87": {
      "model_module": "@jupyter-widgets/base",
      "model_module_version": "2.0.0",
      "model_name": "LayoutModel",
      "state": {
       "_model_module": "@jupyter-widgets/base",
       "_model_module_version": "2.0.0",
       "_model_name": "LayoutModel",
       "_view_count": null,
       "_view_module": "@jupyter-widgets/base",
       "_view_module_version": "2.0.0",
       "_view_name": "LayoutView",
       "align_content": null,
       "align_items": null,
       "align_self": null,
       "border_bottom": null,
       "border_left": null,
       "border_right": null,
       "border_top": null,
       "bottom": null,
       "display": null,
       "flex": null,
       "flex_flow": null,
       "grid_area": null,
       "grid_auto_columns": null,
       "grid_auto_flow": null,
       "grid_auto_rows": null,
       "grid_column": null,
       "grid_gap": null,
       "grid_row": null,
       "grid_template_areas": null,
       "grid_template_columns": null,
       "grid_template_rows": null,
       "height": null,
       "justify_content": null,
       "justify_items": null,
       "left": null,
       "margin": null,
       "max_height": null,
       "max_width": null,
       "min_height": null,
       "min_width": null,
       "object_fit": null,
       "object_position": null,
       "order": null,
       "overflow": null,
       "padding": null,
       "right": null,
       "top": null,
       "visibility": null,
       "width": null
      }
     },
     "bbb3e1ff2f8043bba72bf3479b093bae": {
      "model_module": "@jupyter-widgets/controls",
      "model_module_version": "2.0.0",
      "model_name": "HTMLStyleModel",
      "state": {
       "_model_module": "@jupyter-widgets/controls",
       "_model_module_version": "2.0.0",
       "_model_name": "HTMLStyleModel",
       "_view_count": null,
       "_view_module": "@jupyter-widgets/base",
       "_view_module_version": "2.0.0",
       "_view_name": "StyleView",
       "background": null,
       "description_width": "",
       "font_size": null,
       "text_color": null
      }
     },
     "c9dc3d2ed8a345588693c622ad0f3f65": {
      "model_module": "@jupyter-widgets/controls",
      "model_module_version": "2.0.0",
      "model_name": "FloatProgressModel",
      "state": {
       "_dom_classes": [],
       "_model_module": "@jupyter-widgets/controls",
       "_model_module_version": "2.0.0",
       "_model_name": "FloatProgressModel",
       "_view_count": null,
       "_view_module": "@jupyter-widgets/controls",
       "_view_module_version": "2.0.0",
       "_view_name": "ProgressView",
       "bar_style": "success",
       "description": "",
       "description_allow_html": false,
       "layout": "IPY_MODEL_61d7205efba043b0a56ae39443e24ff0",
       "max": 4.0,
       "min": 0.0,
       "orientation": "horizontal",
       "style": "IPY_MODEL_f292a12c2db34b11960c5c7925eae1e7",
       "tabbable": null,
       "tooltip": null,
       "value": 4.0
      }
     },
     "e39ba62d3cd0414ca5fc688a976e875b": {
      "model_module": "@jupyter-widgets/controls",
      "model_module_version": "2.0.0",
      "model_name": "HTMLModel",
      "state": {
       "_dom_classes": [],
       "_model_module": "@jupyter-widgets/controls",
       "_model_module_version": "2.0.0",
       "_model_name": "HTMLModel",
       "_view_count": null,
       "_view_module": "@jupyter-widgets/controls",
       "_view_module_version": "2.0.0",
       "_view_name": "HTMLView",
       "description": "",
       "description_allow_html": false,
       "layout": "IPY_MODEL_99632b5ee46a433dbc35753b32efac87",
       "placeholder": "​",
       "style": "IPY_MODEL_bbb3e1ff2f8043bba72bf3479b093bae",
       "tabbable": null,
       "tooltip": null,
       "value": "100%"
      }
     },
     "f292a12c2db34b11960c5c7925eae1e7": {
      "model_module": "@jupyter-widgets/controls",
      "model_module_version": "2.0.0",
      "model_name": "ProgressStyleModel",
      "state": {
       "_model_module": "@jupyter-widgets/controls",
       "_model_module_version": "2.0.0",
       "_model_name": "ProgressStyleModel",
       "_view_count": null,
       "_view_module": "@jupyter-widgets/base",
       "_view_module_version": "2.0.0",
       "_view_name": "StyleView",
       "bar_color": null,
       "description_width": ""
      }
     },
     "ff3cee37d3184e4a9dd2b3b80d80fe72": {
      "model_module": "@jupyter-widgets/controls",
      "model_module_version": "2.0.0",
      "model_name": "HTMLModel",
      "state": {
       "_dom_classes": [],
       "_model_module": "@jupyter-widgets/controls",
       "_model_module_version": "2.0.0",
       "_model_name": "HTMLModel",
       "_view_count": null,
       "_view_module": "@jupyter-widgets/controls",
       "_view_module_version": "2.0.0",
       "_view_name": "HTMLView",
       "description": "",
       "description_allow_html": false,
       "layout": "IPY_MODEL_528144dbadbc482f8caeea68969c34d4",
       "placeholder": "​",
       "style": "IPY_MODEL_523b9632f69145a88adb0c5b6dcbaffd",
       "tabbable": null,
       "tooltip": null,
       "value": " 4/4 [01:18&lt;00:00, 20.54s/it]"
      }
     }
    },
    "version_major": 2,
    "version_minor": 0
   }
  }
 },
 "nbformat": 4,
 "nbformat_minor": 5
}