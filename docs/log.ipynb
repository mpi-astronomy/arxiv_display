{
 "cells": [
  {
   "cell_type": "markdown",
   "id": "92bcb855",
   "metadata": {
    "papermill": {
     "duration": 0.003898,
     "end_time": "2025-09-25T04:13:12.407726",
     "exception": false,
     "start_time": "2025-09-25T04:13:12.403828",
     "status": "completed"
    },
    "tags": []
   },
   "source": [
    "# MPIA Arxiv on Deck 2\n",
    "\n",
    "Contains the steps to produce the paper extractions."
   ]
  },
  {
   "cell_type": "code",
   "execution_count": 1,
   "id": "3a0d6e11",
   "metadata": {
    "execution": {
     "iopub.execute_input": "2025-09-25T04:13:12.414753Z",
     "iopub.status.busy": "2025-09-25T04:13:12.414505Z",
     "iopub.status.idle": "2025-09-25T04:13:12.617631Z",
     "shell.execute_reply": "2025-09-25T04:13:12.616911Z"
    },
    "papermill": {
     "duration": 0.20806,
     "end_time": "2025-09-25T04:13:12.618944",
     "exception": false,
     "start_time": "2025-09-25T04:13:12.410884",
     "status": "completed"
    },
    "tags": []
   },
   "outputs": [],
   "source": [
    "# Imports\n",
    "import os\n",
    "from IPython.display import Markdown, display\n",
    "from tqdm.notebook import tqdm\n",
    "import warnings\n",
    "from PIL import Image \n",
    "import re\n",
    "\n",
    "# requires arxiv_on_deck_2\n",
    "\n",
    "from arxiv_on_deck_2.arxiv2 import (get_new_papers, \n",
    "                                    get_paper_from_identifier,\n",
    "                                    retrieve_document_source, \n",
    "                                    get_markdown_badge)\n",
    "from arxiv_on_deck_2 import (latex,\n",
    "                             latex_bib,\n",
    "                             mpia,\n",
    "                             highlight_authors_in_list)\n",
    "\n",
    "# Sometimes images are really big\n",
    "Image.MAX_IMAGE_PIXELS = 1000000000 "
   ]
  },
  {
   "cell_type": "code",
   "execution_count": 2,
   "id": "22aa9d44",
   "metadata": {
    "execution": {
     "iopub.execute_input": "2025-09-25T04:13:12.626037Z",
     "iopub.status.busy": "2025-09-25T04:13:12.625848Z",
     "iopub.status.idle": "2025-09-25T04:13:12.633841Z",
     "shell.execute_reply": "2025-09-25T04:13:12.633271Z"
    },
    "papermill": {
     "duration": 0.012663,
     "end_time": "2025-09-25T04:13:12.634881",
     "exception": false,
     "start_time": "2025-09-25T04:13:12.622218",
     "status": "completed"
    },
    "tags": []
   },
   "outputs": [],
   "source": [
    "# Some useful definitions.\n",
    "\n",
    "class AffiliationWarning(UserWarning):\n",
    "    pass\n",
    "\n",
    "class AffiliationError(RuntimeError):\n",
    "    pass\n",
    "\n",
    "def validation(source: str):\n",
    "    \"\"\"Raises error paper during parsing of source file\n",
    "    \n",
    "    Allows checks before parsing TeX code.\n",
    "    \n",
    "    Raises AffiliationWarning\n",
    "    \"\"\"\n",
    "    check = mpia.affiliation_verifications(source, verbose=True)\n",
    "    if check is not True:\n",
    "        raise AffiliationError(\"mpia.affiliation_verifications: \" + check)\n",
    "\n",
    "        \n",
    "warnings.simplefilter('always', AffiliationWarning)\n",
    "\n",
    "\n",
    "def get_markdown_qrcode(paper_id: str):\n",
    "    \"\"\" Generate a qrcode to the arxiv page using qrserver.com\n",
    "    \n",
    "    :param paper: Arxiv paper\n",
    "    :returns: markdown text\n",
    "    \"\"\"\n",
    "    url = r\"https://api.qrserver.com/v1/create-qr-code/?size=100x100&data=\"\n",
    "    txt = f\"\"\"<img src={url}\"https://arxiv.org/abs/{paper_id}\">\"\"\"\n",
    "    txt = '<div id=\"qrcode\">' + txt + '</div>'\n",
    "    return txt\n",
    "\n",
    "\n",
    "def clean_non_western_encoded_characters_commands(text: str) -> str:\n",
    "    \"\"\" Remove non-western encoded characters from a string\n",
    "    List may need to grow.\n",
    "    \n",
    "    :param text: the text to clean\n",
    "    :return: the cleaned text\n",
    "    \"\"\"\n",
    "    text = re.sub(r\"(\\\\begin{CJK}{UTF8}{gbsn})(.*?)(\\\\end{CJK})\", r\"\\2\", text)\n",
    "    return text\n",
    "\n",
    "\n",
    "def get_initials(name: str) -> str:\n",
    "    \"\"\" Get the short name, e.g., A.-B. FamName\n",
    "    :param name: full name\n",
    "    :returns: initials\n",
    "    \"\"\"\n",
    "    initials = []\n",
    "    # account for non western names often in ()\n",
    "    if '(' in name:\n",
    "        name = clean_non_western_encoded_characters_commands(name)\n",
    "        suffix = re.findall(r\"\\((.*?)\\)\", name)[0]\n",
    "        name = name.replace(f\"({suffix})\", '')\n",
    "    else:\n",
    "        suffix = ''\n",
    "    split = name.split()\n",
    "    for token in split[:-1]:\n",
    "        if '-' in token:\n",
    "            current = '-'.join([k[0] + '.' for k in token.split('-')])\n",
    "        else:\n",
    "            current = token[0] + '.'\n",
    "        initials.append(current)\n",
    "    initials.append(split[-1].strip())\n",
    "    if suffix:\n",
    "        initials.append(f\"({suffix})\")\n",
    "    return ' '.join(initials)"
   ]
  },
  {
   "cell_type": "markdown",
   "id": "14bd6310",
   "metadata": {
    "papermill": {
     "duration": 0.00288,
     "end_time": "2025-09-25T04:13:12.640722",
     "exception": false,
     "start_time": "2025-09-25T04:13:12.637842",
     "status": "completed"
    },
    "tags": []
   },
   "source": [
    "## get list of arxiv paper candidates\n",
    "\n",
    "We use the MPIA mitarbeiter list webpage from mpia.de to get author names\n",
    "We then get all new papers from Arxiv and match authors"
   ]
  },
  {
   "cell_type": "code",
   "execution_count": 3,
   "id": "7ea813a8",
   "metadata": {
    "execution": {
     "iopub.execute_input": "2025-09-25T04:13:12.647329Z",
     "iopub.status.busy": "2025-09-25T04:13:12.647092Z",
     "iopub.status.idle": "2025-09-25T04:13:37.483297Z",
     "shell.execute_reply": "2025-09-25T04:13:37.482625Z"
    },
    "papermill": {
     "duration": 24.840889,
     "end_time": "2025-09-25T04:13:37.484556",
     "exception": false,
     "start_time": "2025-09-25T04:13:12.643667",
     "status": "completed"
    },
    "tags": []
   },
   "outputs": [],
   "source": [
    "# deal with the author list and edge cases of people that cannot be consistent on their name  \n",
    "\n",
    "def filter_non_scientists(name: str) -> bool:\n",
    "    \"\"\" Loose filter on expected authorships\n",
    "\n",
    "    removing IT, administration, technical staff\n",
    "    :param name: name\n",
    "    :returns: False if name is not a scientist\n",
    "    \"\"\"\n",
    "    remove_list = ['Licht', 'Binroth', 'Witzel', 'Jordan',\n",
    "                   'Zähringer', 'Scheerer', 'Hoffmann', 'Düe',\n",
    "                   'Hellmich', 'Enkler-Scharpegge', 'Witte-Nguy',\n",
    "                   'Dehen', 'Beckmann', 'Jager', 'Jäger'\n",
    "                  ]\n",
    "\n",
    "    for k in remove_list:\n",
    "        if k in name:\n",
    "            return False\n",
    "    return True\n",
    "\n",
    "def add_author_to_list(author_list: list) -> list:\n",
    "    \"\"\" Add author to list if not already in list\n",
    "    \n",
    "    :param author: author name\n",
    "    :param author_list: list of authors\n",
    "    :returns: updated list of authors\n",
    "    \"\"\"\n",
    "    add_list = ['T. Henning']\n",
    "\n",
    "    for author in add_list:\n",
    "        if author not in author_list:\n",
    "            author_list.append(author)\n",
    "    return author_list\n",
    "\n",
    "# get list from MPIA website\n",
    "# filter for non-scientists (mpia.get_mpia_mitarbeiter_list() does some filtering)\n",
    "mpia_authors = [k[1] for k in mpia.get_mpia_mitarbeiter_list() if filter_non_scientists(k[1])]\n",
    "# add some missing author because of inconsistencies in their MPIA name and author name on papers\n",
    "mpia_authors = add_author_to_list(mpia_authors)"
   ]
  },
  {
   "cell_type": "code",
   "execution_count": 4,
   "id": "2645e73a",
   "metadata": {
    "execution": {
     "iopub.execute_input": "2025-09-25T04:13:37.491686Z",
     "iopub.status.busy": "2025-09-25T04:13:37.491496Z",
     "iopub.status.idle": "2025-09-25T04:13:38.147969Z",
     "shell.execute_reply": "2025-09-25T04:13:38.147270Z"
    },
    "papermill": {
     "duration": 0.661186,
     "end_time": "2025-09-25T04:13:38.149009",
     "exception": false,
     "start_time": "2025-09-25T04:13:37.487823",
     "status": "completed"
    },
    "tags": []
   },
   "outputs": [
    {
     "name": "stdout",
     "output_type": "stream",
     "text": [
      "J. Li  ->  J. Li  |  ['J. Li']\n",
      "K. Doi  ->  K. Doi  |  ['K. Doi']\n",
      "Y. Wang  ->  Y. Wang  |  ['Y. Wang']\n",
      "Y. Wang  ->  Y. Wang  |  ['Y. Wang']\n",
      "Arxiv has 73 new papers today\n",
      "          3 with possible author matches\n"
     ]
    }
   ],
   "source": [
    "new_papers = get_new_papers()\n",
    "# add manual references\n",
    "add_paper_refs = []\n",
    "new_papers.extend([get_paper_from_identifier(k) for k in add_paper_refs])\n",
    "\n",
    "def robust_call(fn, value, *args, **kwargs):\n",
    "    try:\n",
    "        return fn(value, *args, **kwargs)\n",
    "    except Exception:\n",
    "        return value\n",
    "\n",
    "candidates = []\n",
    "for paperk in new_papers:\n",
    "    # Check author list with their initials\n",
    "    normed_author_list = [robust_call(mpia.get_initials, k) for k in paperk['authors']]\n",
    "    hl_authors = highlight_authors_in_list(normed_author_list, mpia_authors, verbose=True)\n",
    "    matches = [(hl, orig) for hl, orig in zip(hl_authors, paperk['authors']) if 'mark' in hl]\n",
    "    paperk['authors'] = hl_authors\n",
    "    if matches:\n",
    "        # only select paper if an author matched our list\n",
    "        candidates.append(paperk)\n",
    "print(\"\"\"Arxiv has {0:,d} new papers today\"\"\".format(len(new_papers)))        \n",
    "print(\"\"\"          {0:,d} with possible author matches\"\"\".format(len(candidates)))"
   ]
  },
  {
   "cell_type": "markdown",
   "id": "3543b34a",
   "metadata": {
    "papermill": {
     "duration": 0.003038,
     "end_time": "2025-09-25T04:13:38.155430",
     "exception": false,
     "start_time": "2025-09-25T04:13:38.152392",
     "status": "completed"
    },
    "tags": []
   },
   "source": [
    "# Parse sources and generate relevant outputs\n",
    "\n",
    "From the candidates, we do the following steps:\n",
    "* get their tarball from ArXiv (and extract data)\n",
    "* find the main .tex file: find one with \\documentclass{...} (sometimes it's non trivial)\n",
    "* Check affiliations with :func:`validation`, which uses :func:`mpia.affiliation_verifications`\n",
    "* If passing the affiliations: we parse the .tex source\n",
    "   * inject sub-documents into the main (flatten the main document)\n",
    "   * parse structure, extract information (title, abstract, authors, figures...)\n",
    "   * handles `\\graphicspath` if provided\n",
    "* Generate the .md document."
   ]
  },
  {
   "cell_type": "code",
   "execution_count": 5,
   "id": "9576b79e",
   "metadata": {
    "execution": {
     "iopub.execute_input": "2025-09-25T04:13:38.162156Z",
     "iopub.status.busy": "2025-09-25T04:13:38.161955Z",
     "iopub.status.idle": "2025-09-25T04:14:02.880855Z",
     "shell.execute_reply": "2025-09-25T04:14:02.880161Z"
    },
    "papermill": {
     "duration": 24.723473,
     "end_time": "2025-09-25T04:14:02.881906",
     "exception": false,
     "start_time": "2025-09-25T04:13:38.158433",
     "status": "completed"
    },
    "scrolled": false,
    "tags": []
   },
   "outputs": [
    {
     "data": {
      "application/vnd.jupyter.widget-view+json": {
       "model_id": "f056a2088c5f4ba49963004a19ff08e2",
       "version_major": 2,
       "version_minor": 0
      },
      "text/plain": [
       "  0%|          | 0/3 [00:00<?, ?it/s]"
      ]
     },
     "metadata": {},
     "output_type": "display_data"
    },
    {
     "name": "stdout",
     "output_type": "stream",
     "text": [
      "Retrieving document from  https://arxiv.org/e-print/2509.19585\n"
     ]
    },
    {
     "name": "stdout",
     "output_type": "stream",
     "text": [
      "extracting tarball to tmp_2509.19585..."
     ]
    },
    {
     "name": "stdout",
     "output_type": "stream",
     "text": [
      " done.\n",
      "Retrieving document from  https://arxiv.org/e-print/2509.19761\n",
      "extracting tarball to tmp_2509.19761..."
     ]
    },
    {
     "name": "stdout",
     "output_type": "stream",
     "text": [
      " done.\n"
     ]
    },
    {
     "name": "stdout",
     "output_type": "stream",
     "text": [
      "Issues with the citations\n",
      "list index out of range\n",
      "Retrieving document from  https://arxiv.org/e-print/2509.20040\n",
      "extracting tarball to tmp_2509.20040..."
     ]
    },
    {
     "name": "stdout",
     "output_type": "stream",
     "text": [
      " done.\n"
     ]
    }
   ],
   "source": [
    "documents = []\n",
    "failed = []\n",
    "for paper in tqdm(candidates):\n",
    "    # debug crap\n",
    "    paper['identifier'] = paper['identifier'].lower().replace('arxiv:', '').replace(r'\\n', '').strip()\n",
    "    paper_id = paper['identifier']\n",
    "    \n",
    "    folder = f'tmp_{paper_id}'\n",
    "\n",
    "    try:\n",
    "        if not os.path.isdir(folder):\n",
    "            folder = retrieve_document_source(f\"{paper_id}\", f'tmp_{paper_id}')\n",
    "        \n",
    "        try:\n",
    "            doc = latex.LatexDocument(folder, validation=validation)    \n",
    "        except AffiliationError as affilerror:\n",
    "            msg = f\"ArXiv:{paper_id:s} is not an MPIA paper... \" + str(affilerror)\n",
    "            failed.append((paper, \"affiliation error: \" + str(affilerror) ))\n",
    "            continue\n",
    "        \n",
    "        # Hack because sometimes author parsing does not work well\n",
    "        if (len(doc.authors) != len(paper['authors'])):\n",
    "            doc._authors = paper['authors']\n",
    "        else:\n",
    "            # highlight authors (FIXME: doc.highlight_authors)\n",
    "            # done on arxiv paper already\n",
    "            doc._authors = highlight_authors_in_list(\n",
    "                [get_initials(k) for k in doc.authors], \n",
    "                mpia_authors, verbose=True)\n",
    "        if (doc.abstract) in (None, ''):\n",
    "            doc._abstract = paper['abstract']\n",
    "            \n",
    "        doc.comment = (get_markdown_badge(paper_id) + \n",
    "                       \"<mark>Appeared on: \" + paper['date'] + \"</mark> - \")\n",
    "        if paper['comments']:\n",
    "            doc.comment += \" _\" + paper['comments'] + \"_\"\n",
    "        \n",
    "        full_md = doc.generate_markdown_text()\n",
    "        \n",
    "        full_md += get_markdown_qrcode(paper_id)\n",
    "        \n",
    "        # replace citations\n",
    "        try:\n",
    "            bibdata = latex_bib.LatexBib.from_doc(doc)\n",
    "            full_md = latex_bib.replace_citations(full_md, bibdata)\n",
    "        except Exception as e:\n",
    "            print(\"Issues with the citations\")\n",
    "            print(e)\n",
    "        \n",
    "        documents.append((paper_id, full_md))\n",
    "    except Exception as e:\n",
    "        warnings.warn(latex.LatexWarning(f\"{paper_id:s} did not run properly\\n\" +\n",
    "                                         str(e)\n",
    "                                        ))\n",
    "        failed.append((paper, \"latex error \" + str(e)))"
   ]
  },
  {
   "cell_type": "markdown",
   "id": "2505a25c",
   "metadata": {
    "papermill": {
     "duration": 0.003407,
     "end_time": "2025-09-25T04:14:02.889125",
     "exception": false,
     "start_time": "2025-09-25T04:14:02.885718",
     "status": "completed"
    },
    "tags": []
   },
   "source": [
    "### Export the logs\n",
    "\n",
    "Throughout, we also keep track of the logs per paper. see `logs-{today date}.md` "
   ]
  },
  {
   "cell_type": "code",
   "execution_count": 6,
   "id": "d733828a",
   "metadata": {
    "execution": {
     "iopub.execute_input": "2025-09-25T04:14:02.896672Z",
     "iopub.status.busy": "2025-09-25T04:14:02.896460Z",
     "iopub.status.idle": "2025-09-25T04:14:02.909784Z",
     "shell.execute_reply": "2025-09-25T04:14:02.909253Z"
    },
    "papermill": {
     "duration": 0.018296,
     "end_time": "2025-09-25T04:14:02.910771",
     "exception": false,
     "start_time": "2025-09-25T04:14:02.892475",
     "status": "completed"
    },
    "scrolled": false,
    "tags": []
   },
   "outputs": [
    {
     "data": {
      "text/markdown": [
       "## Successful papers"
      ],
      "text/plain": [
       "<IPython.core.display.Markdown object>"
      ]
     },
     "metadata": {},
     "output_type": "display_data"
    },
    {
     "data": {
      "text/markdown": [
       "\n",
       "|||\n",
       "|---:|:---|\n",
       "| [![arXiv](https://img.shields.io/badge/arXiv-2509.19761-b31b1b.svg)](https://arxiv.org/abs/2509.19761) | **Winding Motion of Spirals in a Gravitationally Unstable Protoplanetary Disk**  |\n",
       "|| T. C. Yoshida, et al. -- incl., <mark>K. Doi</mark> |\n",
       "|*Appeared on*| *2025-09-25*|\n",
       "|*Comments*| *Published in Nature Astronomy on Sep 24, 2025, see this https URL. Supplementary Video is available at this https URL*|\n",
       "|**Abstract**|            The discovery of wide-orbit giant exoplanets has posed a challenge to our conventional understanding of planet formation by coagulation of dust grains and planetesimals, and subsequent accretion of protoplanetary disk gas. As an alternative mechanism, the direct in-situ formation of planets or planetary cores by gravitational instability (GI) in protoplanetary disks has been proposed. However, observational evidence for GI in regions where wide-orbit planets are formed is still lacking. Theoretical studies predict that GI induces spiral arms moving at the local Keplerian speed in a disk. Here, with multiple high angular resolution observations over a seven-year time baseline using the Atacama Large Millimeter/submillimeter Array (ALMA), we report the evidence for spiral arms following the Keplerian rotation in the dust continuum disk around the young star IM Lup. This demonstrates that GI can operate in wide-orbit planet-formation regions, establishing it as a plausible formation mechanism for such planets.         |"
      ],
      "text/plain": [
       "[2509.19761] Winding Motion of Spirals in a Gravitationally Unstable Protoplanetary Disk\n",
       "\tT. C. Yoshida, et al. -- incl., <mark>K. Doi</mark>"
      ]
     },
     "metadata": {},
     "output_type": "display_data"
    },
    {
     "data": {
      "text/markdown": [
       "## Failed papers"
      ],
      "text/plain": [
       "<IPython.core.display.Markdown object>"
      ]
     },
     "metadata": {},
     "output_type": "display_data"
    },
    {
     "data": {
      "text/markdown": [
       "\n",
       "|||\n",
       "|---:|:---|\n",
       "| [![arXiv](https://img.shields.io/badge/arXiv-2509.19585-b31b1b.svg)](https://arxiv.org/abs/2509.19585) | **NEXUS: A Search for Nuclear Variability with the First Two JWST NIRCam Epochs**  |\n",
       "|| Z. Stone, et al. -- incl., <mark>J. Li</mark> |\n",
       "|*Appeared on*| *2025-09-25*|\n",
       "|*Comments*| *16 pages, 10 figures, 1 table. Submitted to ApJ. The source catalog can be accessed here: this https URL*|\n",
       "|**Abstract**|            The multi-cycle JWST Treasury program NEXUS will obtain cadenced imaging and spectroscopic observations around the North Ecliptic Pole during 2024-2028. Here we report a systematic search for nuclear variability among $\\sim 25\\,$k sources covered by NIRCam (F200W+F444W) imaging using the first two NEXUS epochs separated by 9 months in the observed frame. Difference imaging techniques reach $1\\sigma$ variability sensitivity of 0.18~mag (F200W) and 0.15~mag (F444W) at 28th magnitude (within 0\".2 diameter aperture), improved to $0.01$~mag and $0.02$~mag at $<25$th magnitude, demonstrating the superb performance of NIRCam photometry. The difference imaging results represent significant improvement over aperture photometry on individual epochs (by $>30\\%$). We identify 465 high-confidence variable sources among the parent sample, with 2-epoch flux difference at $>3\\sigma$ from the fiducial variability sensitivity. Essentially all these variable sources are of extragalactic origin based on preliminary photometric classifications, and follow a similar photometric redshift distribution as the parent sample up to $z_{\\rm phot}>10$. While the majority of these variability candidates are likely normal unobscured AGNs, some of them may be rare nuclear stellar transients and tidal disruption events that await confirmation with spectroscopy and continued photometric monitoring. We also constrain the photometric variability of ten spectroscopically confirmed broad-line Little Red Dots (LRDs) at $3\\lesssim z \\lesssim 7$, and find none of them show detectable variability in either band. We derive stringent $3\\sigma$ upper limits on the F444W variability of $\\sim 3-10\\%$ for these LRDs, with a median value of $\\sim 5\\%$. These constraints imply weak variability in the rest-frame optical continuum of LRDs.         |\n",
       "|<p style=\"color:green\"> **ERROR** </p>| <p style=\"color:green\">affiliation error: mpia.affiliation_verifications: 'Heidelberg' keyword not found.</p> |"
      ],
      "text/plain": [
       "<IPython.core.display.Markdown object>"
      ]
     },
     "metadata": {},
     "output_type": "display_data"
    },
    {
     "data": {
      "text/markdown": [
       "\n",
       "|||\n",
       "|---:|:---|\n",
       "| [![arXiv](https://img.shields.io/badge/arXiv-2509.20040-b31b1b.svg)](https://arxiv.org/abs/2509.20040) | **The role of photospheric magnetic flux diffusion in initiation of solar eruptions**  |\n",
       "|| X. Bian, et al. -- incl., <mark>Y. Wang</mark>, <mark>Y. Wang</mark> |\n",
       "|*Appeared on*| *2025-09-25*|\n",
       "|*Comments*| *13 pages, 5 figures*|\n",
       "|**Abstract**|            Solar eruptions may occur at different evolutionary stages of active regions, during which the photospheric motions manifest in various forms, including flux emergence, sunspot rotation, shearing, converging, and magnetic flux diffusion. However, it remains unclear what are the specific roles played by these different motions in leading to eruptions. Here, we employ high resolution magnetohydrodynamic simulations to demonstrate how solar eruptions can be initiated in a single bipolar configuration, driven by first shearing and then flux diffusion at the bottom surface. Flux diffusion disperses the photospheric magnetic flux, driving portions of it toward the polarity inversion line (PIL). This process leads to the expansion of core field, enhancing the pinching effect to form the current sheet. When magnetic reconnection occurs within this current sheet, the eruption is initiated, characterized by a rapid release of magnetic energy and accompanied by the formation of a erupting flux rope. Additionally, flux diffusion contributes to magnetic cancellation near the PIL, leading to the formation of a weakly twisted magnetic flux rope prior to the eruption. However, this pre-exist flux rope plays a limited role in eruption initiation, as its spatial position remains largely unchanged throughout the eruption. These findings demonstrate that the primary role of flux diffusion is to facilitate current sheet formation, highlighting the critical role of current sheet formation in eruption initiation.         |\n",
       "|<p style=\"color:green\"> **ERROR** </p>| <p style=\"color:green\">affiliation error: mpia.affiliation_verifications: 'Heidelberg' keyword not found.</p> |"
      ],
      "text/plain": [
       "<IPython.core.display.Markdown object>"
      ]
     },
     "metadata": {},
     "output_type": "display_data"
    }
   ],
   "source": [
    "import datetime\n",
    "today = str(datetime.date.today())\n",
    "logfile = f\"_build/html/logs/log-{today}.md\"\n",
    "\n",
    "\n",
    "with open(logfile, 'w') as logs:\n",
    "    # Success\n",
    "    logs.write(f'# Arxiv on Deck 2: Logs - {today}\\n\\n')\n",
    "    logs.write(\"\"\"* Arxiv had {0:,d} new papers\\n\"\"\".format(len(new_papers)))\n",
    "    logs.write(\"\"\"    * {0:,d} with possible author matches\\n\\n\"\"\".format(len(candidates)))\n",
    "    logs.write(\"## Sucessful papers\\n\\n\")\n",
    "    display(Markdown(\"## Successful papers\"))\n",
    "    success = [k[0] for k in documents]\n",
    "    for candid in candidates:\n",
    "        if candid['identifier'].split(':')[-1] in success:\n",
    "            display(candid)\n",
    "            logs.write(candid.generate_markdown_text() + '\\n\\n')\n",
    "\n",
    "    ## failed\n",
    "    logs.write(\"## Failed papers\\n\\n\")\n",
    "    display(Markdown(\"## Failed papers\"))\n",
    "    failed = sorted(failed, key=lambda x: x[1])\n",
    "    current_reason = \"\"\n",
    "    for paper, reason in failed:\n",
    "        if 'affiliation' in reason:\n",
    "            color = 'green'\n",
    "        else:\n",
    "            color = 'red'\n",
    "        data = Markdown(\n",
    "                paper.generate_markdown_text() + \n",
    "                f'\\n|<p style=\"color:{color:s}\"> **ERROR** </p>| <p style=\"color:{color:s}\">{reason:s}</p> |'\n",
    "               )\n",
    "        if reason != current_reason:\n",
    "            logs.write(f'### {reason:s} \\n\\n')\n",
    "            current_reason = reason\n",
    "        logs.write(data.data + '\\n\\n')\n",
    "        \n",
    "        # only display here the important errors (all in logs)\n",
    "        # if color in ('red',):\n",
    "        display(data)"
   ]
  },
  {
   "cell_type": "markdown",
   "id": "472d20ee",
   "metadata": {
    "papermill": {
     "duration": 0.003856,
     "end_time": "2025-09-25T04:14:02.918531",
     "exception": false,
     "start_time": "2025-09-25T04:14:02.914675",
     "status": "completed"
    },
    "tags": []
   },
   "source": [
    "## Export documents\n",
    "\n",
    "We now write the .md files and export relevant images"
   ]
  },
  {
   "cell_type": "code",
   "execution_count": 7,
   "id": "d426aed9",
   "metadata": {
    "execution": {
     "iopub.execute_input": "2025-09-25T04:14:02.927120Z",
     "iopub.status.busy": "2025-09-25T04:14:02.926901Z",
     "iopub.status.idle": "2025-09-25T04:14:02.933638Z",
     "shell.execute_reply": "2025-09-25T04:14:02.933081Z"
    },
    "papermill": {
     "duration": 0.012103,
     "end_time": "2025-09-25T04:14:02.934584",
     "exception": false,
     "start_time": "2025-09-25T04:14:02.922481",
     "status": "completed"
    },
    "tags": []
   },
   "outputs": [],
   "source": [
    "def export_markdown_summary(md: str, md_fname:str, directory: str):\n",
    "    \"\"\"Export MD document and associated relevant images\"\"\"\n",
    "    import os\n",
    "    import shutil\n",
    "    import re\n",
    "\n",
    "    if (os.path.exists(directory) and not os.path.isdir(directory)):\n",
    "        raise RuntimeError(f\"a non-directory file exists with name {directory:s}\")\n",
    "\n",
    "    if (not os.path.exists(directory)):\n",
    "        print(f\"creating directory {directory:s}\")\n",
    "        os.mkdir(directory)\n",
    "\n",
    "    fig_fnames = (re.compile(r'\\[Fig.*\\]\\((.*)\\)').findall(md) + \n",
    "                  re.compile(r'\\<img src=\"([^>\\s]*)\"[^>]*/>').findall(md))\n",
    "    print(\"found figures\", fig_fnames)\n",
    "    for fname in fig_fnames:\n",
    "        if 'http' in fname:\n",
    "            # No need to copy online figures\n",
    "            continue\n",
    "        if not os.path.exists(fname):\n",
    "            print(\"file not found\", fname)\n",
    "            continue\n",
    "        print(\"copying \", fname, \"to\", directory)\n",
    "        destdir = os.path.join(directory, os.path.dirname(fname))\n",
    "        destfname = os.path.join(destdir, os.path.basename(fname))\n",
    "        try:\n",
    "            os.makedirs(destdir)\n",
    "        except FileExistsError:\n",
    "            pass\n",
    "        shutil.copy(fname, destfname)\n",
    "    with open(os.path.join(directory, md_fname), 'w') as fout:\n",
    "        fout.write(md)\n",
    "    print(\"exported in \", os.path.join(directory, md_fname))\n",
    "    [print(\"    + \" + os.path.join(directory,fk)) for fk in fig_fnames]"
   ]
  },
  {
   "cell_type": "code",
   "execution_count": 8,
   "id": "014d04a4",
   "metadata": {
    "execution": {
     "iopub.execute_input": "2025-09-25T04:14:02.943138Z",
     "iopub.status.busy": "2025-09-25T04:14:02.942948Z",
     "iopub.status.idle": "2025-09-25T04:14:02.948985Z",
     "shell.execute_reply": "2025-09-25T04:14:02.948472Z"
    },
    "papermill": {
     "duration": 0.011402,
     "end_time": "2025-09-25T04:14:02.949907",
     "exception": false,
     "start_time": "2025-09-25T04:14:02.938505",
     "status": "completed"
    },
    "tags": []
   },
   "outputs": [
    {
     "name": "stdout",
     "output_type": "stream",
     "text": [
      "found figures ['tmp_2509.19761/./deprojected.png', 'tmp_2509.19761/./deprojected_v3.png', 'tmp_2509.19761/./rot_curve.png']\n",
      "copying  tmp_2509.19761/./deprojected.png to _build/html/\n",
      "copying  tmp_2509.19761/./deprojected_v3.png to _build/html/\n",
      "copying  tmp_2509.19761/./rot_curve.png to _build/html/\n",
      "exported in  _build/html/2509.19761.md\n",
      "    + _build/html/tmp_2509.19761/./deprojected.png\n",
      "    + _build/html/tmp_2509.19761/./deprojected_v3.png\n",
      "    + _build/html/tmp_2509.19761/./rot_curve.png\n"
     ]
    }
   ],
   "source": [
    "for paper_id, md in documents:\n",
    "    export_markdown_summary(md, f\"{paper_id:s}.md\", '_build/html/')"
   ]
  },
  {
   "cell_type": "markdown",
   "id": "f087a0a7",
   "metadata": {
    "papermill": {
     "duration": 0.004667,
     "end_time": "2025-09-25T04:14:02.958666",
     "exception": false,
     "start_time": "2025-09-25T04:14:02.953999",
     "status": "completed"
    },
    "tags": []
   },
   "source": [
    "## Display the papers\n",
    "\n",
    "Not necessary but allows for a quick check."
   ]
  },
  {
   "cell_type": "code",
   "execution_count": 9,
   "id": "fd25f625",
   "metadata": {
    "execution": {
     "iopub.execute_input": "2025-09-25T04:14:02.967401Z",
     "iopub.status.busy": "2025-09-25T04:14:02.967204Z",
     "iopub.status.idle": "2025-09-25T04:14:02.971509Z",
     "shell.execute_reply": "2025-09-25T04:14:02.970897Z"
    },
    "papermill": {
     "duration": 0.009702,
     "end_time": "2025-09-25T04:14:02.972418",
     "exception": false,
     "start_time": "2025-09-25T04:14:02.962716",
     "status": "completed"
    },
    "scrolled": false,
    "tags": []
   },
   "outputs": [
    {
     "data": {
      "text/markdown": [
       "<div class=\"macros\" style=\"visibility:hidden;\">\n",
       "$\\newcommand{\\ensuremath}{}$\n",
       "$\\newcommand{\\xspace}{}$\n",
       "$\\newcommand{\\object}[1]{\\texttt{#1}}$\n",
       "$\\newcommand{\\farcs}{{.}''}$\n",
       "$\\newcommand{\\farcm}{{.}'}$\n",
       "$\\newcommand{\\arcsec}{''}$\n",
       "$\\newcommand{\\arcmin}{'}$\n",
       "$\\newcommand{\\ion}[2]{#1#2}$\n",
       "$\\newcommand{\\textsc}[1]{\\textrm{#1}}$\n",
       "$\\newcommand{\\hl}[1]{\\textrm{#1}}$\n",
       "$\\newcommand{\\footnote}[1]{}$\n",
       "$\\newcommand{\\bibinfo}[2]{#2}$\n",
       "$\\newcommand{\\eprint}[2][]{\\url{#2}}$\n",
       "$\\newcommand{\\doi}[1]{\\url{https://doi.org/#1}}$\n",
       "$\\newcommand{\\bibinfo}[2]{#2}$\n",
       "$\\newcommand{\\eprint}[2][]{\\url{#2}}$\n",
       "$\\newcommand{\\doi}[1]{\\url{https://doi.org/#1}}$\n",
       "$\\newcommand{\\actaa}{Acta Astron.}$\n",
       "$\\newcommand{\\araa}{Annu. Rev. Astron. Astrophys.}$\n",
       "$\\newcommand{\\areps}{Annu. Rev. Earth Planet. Sci.}$\n",
       "$\\newcommand{\\aar}{Astron. Astrophys. Rev.}$\n",
       "$\\newcommand{\\ab}{Astrobiology}$\n",
       "$\\newcommand{\\aj}{Astron. J.}$\n",
       "$\\newcommand{\\ac}{Astron. Comput.}$\n",
       "$\\newcommand{\\apart}{Astropart. Phys.}$\n",
       "$\\newcommand{\\apj}{Astrophys. J.}$\n",
       "$\\newcommand{\\apjl}{Astrophys. J. Lett.}$\n",
       "$\\newcommand{\\apjs}{Astrophys. J. Suppl. Ser.}$\n",
       "$\\newcommand{\\ao}{Appl. Opt.}$\n",
       "$\\newcommand{\\apss}{Astrophys. Space Sci.}$\n",
       "$\\newcommand{\\aap}{Astron. Astrophys.}$\n",
       "$\\newcommand{\\aapr}{Astron. Astrophys. Rev.}$\n",
       "$\\newcommand{\\aaps}{Astron. Astrophys. Suppl.}$\n",
       "$\\newcommand{\\baas}{Bull. Am. Astron. Soc.}$\n",
       "$\\newcommand{\\caa}{Chin. Astron. Astrophys.}$\n",
       "$\\newcommand{\\cjaa}{Chin. J. Astron. Astrophys.}$\n",
       "$\\newcommand{\\cqg}{Class. Quantum Gravity}$\n",
       "$\\newcommand{\\epsl}{Earth Planet. Sci. Lett.}$\n",
       "$\\newcommand{\\expa}{Exp. Astron.}$\n",
       "$\\newcommand{\\frass}{Front. Astron. Space Sci.}$\n",
       "$\\newcommand{\\gal}{Galaxies}$\n",
       "$\\newcommand{\\gca}{Geochim. Cosmochim. Acta}$\n",
       "$\\newcommand{\\grl}{Geophys. Res. Lett.}$\n",
       "$\\newcommand{\\icarus}{Icarus}$\n",
       "$\\newcommand{\\ija}{Int. J. Astrobiol.}$\n",
       "$\\newcommand{\\jatis}{J. Astron. Telesc. Instrum. Syst.}$\n",
       "$\\newcommand{\\jcap}{J. Cosmol. Astropart. Phys.}$\n",
       "$\\newcommand{\\jgr}{J. Geophys. Res.}$\n",
       "$\\newcommand{\\jgrp}{J. Geophys. Res.: Planets}$\n",
       "$\\newcommand{\\jqsrt}{J. Quant. Spectrosc. Radiat. Transf.}$\n",
       "$\\newcommand{\\lrca}{Living Rev. Comput. Astrophys.}$\n",
       "$\\newcommand{\\lrr}{Living Rev. Relativ.}$\n",
       "$\\newcommand{\\lrsp}{Living Rev. Sol. Phys.}$\n",
       "$\\newcommand{\\memsai}{Mem. Soc. Astron. Italiana}$\n",
       "$\\newcommand{\\maps}{Meteorit. Planet. Sci.}$\n",
       "$\\newcommand{\\mnras}{Mon. Not. R. Astron. Soc.}$\n",
       "$\\newcommand{\\nat}{Nature}$\n",
       "$\\newcommand{\\nastro}{Nat. Astron.}$\n",
       "$\\newcommand{\\ncomms}{Nat. Commun.}$\n",
       "$\\newcommand{\\ngeo}{Nat. Geosci.}$\n",
       "$\\newcommand{\\nphys}{Nat. Phys.}$\n",
       "$\\newcommand{\\na}{New Astron.}$\n",
       "$\\newcommand{\\nar}{New Astron. Rev.}$\n",
       "$\\newcommand{\\physrep}{Phys. Rep.}$\n",
       "$\\newcommand{\\pra}{Phys. Rev. A}$\n",
       "$\\newcommand{\\prb}{Phys. Rev. B}$\n",
       "$\\newcommand{\\prc}{Phys. Rev. C}$\n",
       "$\\newcommand{\\prd}{Phys. Rev. D}$\n",
       "$\\newcommand{\\pre}{Phys. Rev. E}$\n",
       "$\\newcommand{\\prl}{Phys. Rev. Lett.}$\n",
       "$\\newcommand{\\psj}{Planet. Sci. J.}$\n",
       "$\\newcommand{\\planss}{Planet. Space Sci.}$\n",
       "$\\newcommand{\\pnas}{Proc. Natl Acad. Sci. USA}$\n",
       "$\\newcommand{\\procspie}{Proc. SPIE}$\n",
       "$\\newcommand{\\pasa}{Publ. Astron. Soc. Aust.}$\n",
       "$\\newcommand{\\pasj}{Publ. Astron. Soc. Jpn}$\n",
       "$\\newcommand{\\pasp}{Publ. Astron. Soc. Pac.}$\n",
       "$\\newcommand{\\raa}{Res. Astron. Astrophys.}$\n",
       "$\\newcommand{\\rasti}{RAS Tech. Instrum.}$\n",
       "$\\newcommand{\\rmxaa}{Rev. Mexicana Astron. Astrofis.}$\n",
       "$\\newcommand{\\rnaas}{Res. Notes Am. Astron. Soc.}$\n",
       "$\\newcommand{\\sci}{Science}$\n",
       "$\\newcommand{\\sciadv}{Sci. Adv.}$\n",
       "$\\newcommand{\\solphys}{Sol. Phys.}$\n",
       "$\\newcommand{\\sovast}{Soviet Astron.}$\n",
       "$\\newcommand{\\ssr}{Space Sci. Rev.}$\n",
       "$\\newcommand{\\uni}{Universe}$\n",
       "$\\newcommand{\\rv}[1]{{\\color{orange}#1}}$\n",
       "$\\newcommand{\\gretwo}{{\\rm I\\hspace{-1.2pt}I}}$\n",
       "$\\newcommand{\\greone}{{\\rm I}}$\n",
       "$\\newcommand{\\farcs}{\\mbox{\\ensuremath{.\\!\\!^{\\prime\\prime}}}}$\n",
       "$\\newcommand{\\figurename}{Supplementary Figure}$\n",
       "$\\newcommand{\\tablename}{Supplementary Table}$\n",
       "$\\newcommand\\url{#1}$\n",
       "$\\newcommand{\\urlprefix}{URL }$\n",
       "$\\newcommand\\url{#1}$\n",
       "$\\newcommand{\\urlprefix}{URL }$</div>\n",
       "\n",
       "\n",
       "\n",
       "<div id=\"title\">\n",
       "\n",
       "# Winding Motion of Spirals in a Gravitationally Unstable Protoplanetary Disk \n",
       "\n",
       "</div>\n",
       "<div id=\"comments\">\n",
       "\n",
       "[![arXiv](https://img.shields.io/badge/arXiv-2509.19761-b31b1b.svg)](https://arxiv.org/abs/2509.19761)<mark>Appeared on: 2025-09-25</mark> -  _Published in Nature Astronomy on Sep 24, 2025, see this https URL. Supplementary Video is available at this https URL_\n",
       "\n",
       "</div>\n",
       "<div id=\"authors\">\n",
       "\n",
       "T. C. Yoshida, et al. -- incl., <mark>K. Doi</mark>\n",
       "\n",
       "</div>\n",
       "<div id=\"abstract\">\n",
       "\n",
       "**Abstract:** The discovery of wide-orbit giant exoplanets has posed a challenge to our conventional understanding of planet formation by coagulation of dust grains and planetesimals, and subsequent accretion of protoplanetary disk gas.As an alternative mechanism, the direct in-situ formation of planets or planetary cores by gravitational instability (GI) in protoplanetary disks has been proposed.However, observational evidence for GI in regions where wide-orbit planets are formed is still lacking.Theoretical studies predict that GI induces spiral arms moving at the local Keplerian speed in a disk.Here, with multiple high angular resolution observations over a seven-year time baseline using the Atacama Large Millimeter/submillimeter Array (ALMA), we report the evidence for spiral arms following the Keplerian rotation in the dust continuum disk around the young star IM Lup.This demonstrates that GI can operate in wide-orbit planet-formation regions, establishing it as a plausible formation mechanism for such planets.\n",
       "\n",
       "</div>\n",
       "\n",
       "<div id=\"div_fig1\">\n",
       "\n",
       "<img src=\"tmp_2509.19761/./deprojected.png\" alt=\"Fig2\" width=\"100%\"/>\n",
       "\n",
       "**Figure 2. -** Deprojected continuum images used in the quantitative analysis.\n",
       "These images are normalized based on the 2017 epoch and shown in the unit of the corresponding brightness temperature (see Methods).\n",
       "The blue solid curves indicate the spiral ridge \\citep{huan18} at each epoch, assuming that they follow the local Keplerian rotation (i.e. the case of GI).\n",
       "The blue dashed curves correspond to the spiral ridge in 2017.\n",
       "The circles on the bottom left indicate the synthetic beam after deprojection.\n",
       " (*deproj*)\n",
       "\n",
       "</div>\n",
       "<div id=\"div_fig2\">\n",
       "\n",
       "<img src=\"tmp_2509.19761/./deprojected_v3.png\" alt=\"Fig3\" width=\"100%\"/>\n",
       "\n",
       "**Figure 3. -** Deprojected continuum images after partially subtracting the axisymmetric component.\n",
       "The color scale is also stretched for visibility purposes (see Extended data for details).\n",
       "The original data is the same as Figure \\ref{deproj}.\n",
       "The white contours are drawn at values of 2 and 4 (in an arbitrary unit).\n",
       "The blue-filled scattered points follow the local Keplerian rotation, while the blue circles show the positions in 2017 for comparison. The rotation of the contour is consistent with the local Keplerian rotation.\n",
       " (*deproj2*)\n",
       "\n",
       "</div>\n",
       "<div id=\"div_fig3\">\n",
       "\n",
       "<img src=\"tmp_2509.19761/./rot_curve.png\" alt=\"Fig4\" width=\"100%\"/>\n",
       "\n",
       "**Figure 4. -** Rotation curve of the dust disk. $\\omega(r)$ extracted with the image-fitting analysis is plotted in the left panel (blue line) while the radius-by-radius analysis result is shown in the right panel (blue circles). In the left panel, the blue solid line and the blue-shaded regions indicate the median and 16-84th percentiles of the marginal probability distribution at each radius, respectively.\n",
       "The error bars in the right panel correspond to the $1\\sigma$ range of the normalized probability distribution at each radius. Note that each point is not perfectly independent as the beam size is ${\\sim}24$ au.\n",
       "The dashed and dotted lines, respectively, show predictions for spirals induced by GI and a planet located at 117 au from the central star \\citep{pint20}.\n",
       " (*rot_curve*)\n",
       "\n",
       "</div><div id=\"qrcode\"><img src=https://api.qrserver.com/v1/create-qr-code/?size=100x100&data=\"https://arxiv.org/abs/2509.19761\"></div>"
      ],
      "text/plain": [
       "<IPython.core.display.Markdown object>"
      ]
     },
     "metadata": {},
     "output_type": "display_data"
    }
   ],
   "source": [
    "[display(Markdown(k[1])) for k in documents];"
   ]
  },
  {
   "cell_type": "markdown",
   "id": "873873a4",
   "metadata": {
    "papermill": {
     "duration": 0.004237,
     "end_time": "2025-09-25T04:14:02.980956",
     "exception": false,
     "start_time": "2025-09-25T04:14:02.976719",
     "status": "completed"
    },
    "tags": []
   },
   "source": [
    "# Create HTML index"
   ]
  },
  {
   "cell_type": "code",
   "execution_count": 10,
   "id": "cf665672",
   "metadata": {
    "execution": {
     "iopub.execute_input": "2025-09-25T04:14:02.990259Z",
     "iopub.status.busy": "2025-09-25T04:14:02.990044Z",
     "iopub.status.idle": "2025-09-25T04:14:02.997058Z",
     "shell.execute_reply": "2025-09-25T04:14:02.996548Z"
    },
    "papermill": {
     "duration": 0.01274,
     "end_time": "2025-09-25T04:14:02.998028",
     "exception": false,
     "start_time": "2025-09-25T04:14:02.985288",
     "status": "completed"
    },
    "tags": []
   },
   "outputs": [
    {
     "name": "stdout",
     "output_type": "stream",
     "text": [
      "125  publications files modified in the last 7 days.\n"
     ]
    }
   ],
   "source": [
    "from datetime import datetime, timedelta, timezone\n",
    "from glob import glob\n",
    "import os\n",
    "\n",
    "files = glob('_build/html/*.md')\n",
    "days = 7\n",
    "now = datetime.today()\n",
    "res = []\n",
    "for fk in files:\n",
    "    stat_result = os.stat(fk).st_ctime\n",
    "    modified = datetime.fromtimestamp(stat_result, tz=timezone.utc).replace(tzinfo=None)\n",
    "    delta = now.today() - modified\n",
    "    if delta <= timedelta(days=days):\n",
    "        res.append((delta.seconds, fk))\n",
    "res = [k[1] for k in reversed(sorted(res, key=lambda x:x[1]))]\n",
    "npub = len(res)\n",
    "print(len(res), f\" publications files modified in the last {days:d} days.\")\n",
    "# [ print('\\t', k) for k in res ];"
   ]
  },
  {
   "cell_type": "code",
   "execution_count": 11,
   "id": "015de740",
   "metadata": {
    "execution": {
     "iopub.execute_input": "2025-09-25T04:14:03.007616Z",
     "iopub.status.busy": "2025-09-25T04:14:03.007402Z",
     "iopub.status.idle": "2025-09-25T04:14:03.019070Z",
     "shell.execute_reply": "2025-09-25T04:14:03.018425Z"
    },
    "papermill": {
     "duration": 0.017672,
     "end_time": "2025-09-25T04:14:03.020170",
     "exception": false,
     "start_time": "2025-09-25T04:14:03.002498",
     "status": "completed"
    },
    "tags": []
   },
   "outputs": [
    {
     "name": "stdout",
     "output_type": "stream",
     "text": [
      "9  publications in the last 7 days.\n"
     ]
    }
   ],
   "source": [
    "import datetime\n",
    "from glob import glob\n",
    "\n",
    "def get_last_n_days(lst, days=1):\n",
    "    \"\"\" Get the documents from the last n days \"\"\"\n",
    "    sorted_lst = sorted(lst, key=lambda x: x[1], reverse=True)\n",
    "    for fname, date in sorted_lst:\n",
    "        if date >= str(datetime.date.today() - datetime.timedelta(days=days)):\n",
    "            yield fname\n",
    "\n",
    "def extract_appearance_dates(lst_file):\n",
    "    dates = []\n",
    "\n",
    "    def get_date(line):\n",
    "        return line\\\n",
    "            .split('Appeared on:')[-1]\\\n",
    "            .split('</mark>')[0].strip()\n",
    "\n",
    "    for fname in lst:\n",
    "        with open(fname, 'r') as f:\n",
    "            found_date = False\n",
    "            for line in f:\n",
    "                if not found_date:\n",
    "                    if \"Appeared on\" in line:\n",
    "                        found_date = True\n",
    "                        dates.append((fname, get_date(line)))\n",
    "                else:\n",
    "                    break\n",
    "    return dates\n",
    "\n",
    "from glob import glob\n",
    "lst = glob('_build/html/*md')\n",
    "days = 7\n",
    "dates = extract_appearance_dates(lst)\n",
    "res = list(get_last_n_days(dates, days))\n",
    "npub = len(res)\n",
    "print(len(res), f\" publications in the last {days:d} days.\")"
   ]
  },
  {
   "cell_type": "code",
   "execution_count": 12,
   "id": "52ca0208",
   "metadata": {
    "execution": {
     "iopub.execute_input": "2025-09-25T04:14:03.029861Z",
     "iopub.status.busy": "2025-09-25T04:14:03.029671Z",
     "iopub.status.idle": "2025-09-25T04:14:03.034508Z",
     "shell.execute_reply": "2025-09-25T04:14:03.033847Z"
    },
    "papermill": {
     "duration": 0.010806,
     "end_time": "2025-09-25T04:14:03.035507",
     "exception": false,
     "start_time": "2025-09-25T04:14:03.024701",
     "status": "completed"
    },
    "scrolled": false,
    "tags": []
   },
   "outputs": [],
   "source": [
    "def create_carousel(npub=4):\n",
    "    \"\"\" Generate the HTML code for a carousel with `npub` slides \"\"\"\n",
    "    carousel = [\"\"\"  <div class=\"carousel\" \"\"\",\n",
    "                \"\"\"       data-flickity='{ \"autoPlay\": 10000, \"adaptiveHeight\": true, \"resize\": true, \"wrapAround\": true, \"pauseAutoPlayOnHover\": true, \"groupCells\": 1 }' id=\"asyncTypeset\">\"\"\"\n",
    "                ]\n",
    "    \n",
    "    item_str = \"\"\"    <div class=\"carousel-cell\"> <div id=\"slide{k}\" class=\"md_view\">Content {k}</div> </div>\"\"\"\n",
    "    for k in range(1, npub + 1):\n",
    "        carousel.append(item_str.format(k=k))\n",
    "    carousel.append(\"  </div>\")\n",
    "    return '\\n'.join(carousel)\n",
    "\n",
    "def create_grid(npub=4):\n",
    "    \"\"\" Generate the HTML code for a flat grid with `npub` slides \"\"\"\n",
    "    grid = [\"\"\"  <div class=\"grid\"> \"\"\",\n",
    "                ]\n",
    "    \n",
    "    item_str = \"\"\"    <div class=\"grid-item\"> <div id=\"slide{k}\" class=\"md_view\">Content {k}</div> </div>\"\"\"\n",
    "    for k in range(1, npub + 1):\n",
    "        grid.append(item_str.format(k=k))\n",
    "    grid.append(\"  </div>\")\n",
    "    return '\\n'.join(grid)"
   ]
  },
  {
   "cell_type": "code",
   "execution_count": 13,
   "id": "a6eac5b6",
   "metadata": {
    "execution": {
     "iopub.execute_input": "2025-09-25T04:14:03.045052Z",
     "iopub.status.busy": "2025-09-25T04:14:03.044836Z",
     "iopub.status.idle": "2025-09-25T04:14:03.049670Z",
     "shell.execute_reply": "2025-09-25T04:14:03.049141Z"
    },
    "papermill": {
     "duration": 0.010745,
     "end_time": "2025-09-25T04:14:03.050688",
     "exception": false,
     "start_time": "2025-09-25T04:14:03.039943",
     "status": "completed"
    },
    "scrolled": false,
    "tags": []
   },
   "outputs": [],
   "source": [
    "carousel = create_carousel(npub)\n",
    "docs = ', '.join(['\"{0:s}\"'.format(k.split('/')[-1]) for k in res])\n",
    "slides = ', '.join([f'\"slide{k}\"' for k in range(1, npub + 1)])\n",
    "\n",
    "with open(\"daily_template.html\", \"r\") as tpl:\n",
    "    page = tpl.read()\n",
    "    page = page.replace(\"{%-- carousel:s --%}\", carousel)\\\n",
    "               .replace(\"{%-- suptitle:s --%}\",  \"7-day archives\" )\\\n",
    "               .replace(\"{%-- docs:s --%}\", docs)\\\n",
    "               .replace(\"{%-- slides:s --%}\", slides)\n",
    "    \n",
    "with open(\"_build/html/index_7days.html\", 'w') as fout:\n",
    "    fout.write(page)"
   ]
  },
  {
   "cell_type": "code",
   "execution_count": 14,
   "id": "adc1a1ec",
   "metadata": {
    "execution": {
     "iopub.execute_input": "2025-09-25T04:14:03.060414Z",
     "iopub.status.busy": "2025-09-25T04:14:03.060228Z",
     "iopub.status.idle": "2025-09-25T04:14:03.066470Z",
     "shell.execute_reply": "2025-09-25T04:14:03.065812Z"
    },
    "papermill": {
     "duration": 0.012173,
     "end_time": "2025-09-25T04:14:03.067499",
     "exception": false,
     "start_time": "2025-09-25T04:14:03.055326",
     "status": "completed"
    },
    "tags": []
   },
   "outputs": [
    {
     "name": "stdout",
     "output_type": "stream",
     "text": [
      "2  publications in the last day.\n"
     ]
    }
   ],
   "source": [
    "# redo for today\n",
    "days = 1\n",
    "res = list(get_last_n_days(dates, days))\n",
    "npub = len(res)\n",
    "print(len(res), f\" publications in the last day.\")\n",
    "\n",
    "carousel = create_carousel(npub)\n",
    "docs = ', '.join(['\"{0:s}\"'.format(k.split('/')[-1]) for k in res])\n",
    "slides = ', '.join([f'\"slide{k}\"' for k in range(1, npub + 1)])\n",
    "\n",
    "with open(\"daily_template.html\", \"r\") as tpl:\n",
    "    page = tpl.read()\n",
    "    page = page.replace(\"{%-- carousel:s --%}\", carousel)\\\n",
    "               .replace(\"{%-- suptitle:s --%}\",  \"Daily\" )\\\n",
    "               .replace(\"{%-- docs:s --%}\", docs)\\\n",
    "               .replace(\"{%-- slides:s --%}\", slides)\n",
    "    \n",
    "# print(carousel, docs, slides)\n",
    "# print(page)\n",
    "with open(\"_build/html/index_daily.html\", 'w') as fout:\n",
    "    fout.write(page)"
   ]
  },
  {
   "cell_type": "code",
   "execution_count": 15,
   "id": "00eece82",
   "metadata": {
    "execution": {
     "iopub.execute_input": "2025-09-25T04:14:03.077343Z",
     "iopub.status.busy": "2025-09-25T04:14:03.077106Z",
     "iopub.status.idle": "2025-09-25T04:14:03.083648Z",
     "shell.execute_reply": "2025-09-25T04:14:03.083118Z"
    },
    "papermill": {
     "duration": 0.012491,
     "end_time": "2025-09-25T04:14:03.084594",
     "exception": false,
     "start_time": "2025-09-25T04:14:03.072103",
     "status": "completed"
    },
    "scrolled": false,
    "tags": []
   },
   "outputs": [
    {
     "name": "stdout",
     "output_type": "stream",
     "text": [
      "6  6 publications selected.\n"
     ]
    }
   ],
   "source": [
    "# Create the flat grid of the last N papers (fixed number regardless of dates)\n",
    "from itertools import islice \n",
    "\n",
    "npub = 6\n",
    "res = [k[0] for k in (islice(reversed(sorted(dates, key=lambda x: x[1])), 6))]\n",
    "print(len(res), f\" {npub} publications selected.\")\n",
    "\n",
    "grid = create_grid(npub)\n",
    "docs = ', '.join(['\"{0:s}\"'.format(k.split('/')[-1]) for k in res])\n",
    "slides = ', '.join([f'\"slide{k}\"' for k in range(1, npub + 1)])\n",
    "\n",
    "with open(\"grid_template.html\", \"r\") as tpl:\n",
    "    page = tpl.read()\n",
    "    page = page.replace(\"{%-- grid-content:s --%}\", grid)\\\n",
    "               .replace(\"{%-- suptitle:s --%}\",  f\"Last {npub:,d} papers\" )\\\n",
    "               .replace(\"{%-- docs:s --%}\", docs)\\\n",
    "               .replace(\"{%-- slides:s --%}\", slides)\n",
    "    \n",
    "# print(grid, docs, slides)\n",
    "# print(page)\n",
    "with open(\"_build/html/index_npub_grid.html\", 'w') as fout:\n",
    "    fout.write(page)"
   ]
  }
 ],
 "metadata": {
  "kernelspec": {
   "display_name": "Python 3 (ipykernel)",
   "language": "python",
   "name": "python3"
  },
  "language_info": {
   "codemirror_mode": {
    "name": "ipython",
    "version": 3
   },
   "file_extension": ".py",
   "mimetype": "text/x-python",
   "name": "python",
   "nbconvert_exporter": "python",
   "pygments_lexer": "ipython3",
   "version": "3.9.23"
  },
  "papermill": {
   "default_parameters": {},
   "duration": 51.748526,
   "end_time": "2025-09-25T04:14:03.304495",
   "environment_variables": {},
   "exception": null,
   "input_path": "MPIA daily digest.ipynb",
   "output_path": "log.ipynb",
   "parameters": {},
   "start_time": "2025-09-25T04:13:11.555969",
   "version": "2.6.0"
  },
  "vscode": {
   "interpreter": {
    "hash": "aee8b7b246df8f9039afb4144a1f6fd8d2ca17a180786b69acc140d282b71a49"
   }
  },
  "widgets": {
   "application/vnd.jupyter.widget-state+json": {
    "state": {
     "508ec218c29f4eeab70fec97c401def3": {
      "model_module": "@jupyter-widgets/base",
      "model_module_version": "2.0.0",
      "model_name": "LayoutModel",
      "state": {
       "_model_module": "@jupyter-widgets/base",
       "_model_module_version": "2.0.0",
       "_model_name": "LayoutModel",
       "_view_count": null,
       "_view_module": "@jupyter-widgets/base",
       "_view_module_version": "2.0.0",
       "_view_name": "LayoutView",
       "align_content": null,
       "align_items": null,
       "align_self": null,
       "border_bottom": null,
       "border_left": null,
       "border_right": null,
       "border_top": null,
       "bottom": null,
       "display": null,
       "flex": null,
       "flex_flow": null,
       "grid_area": null,
       "grid_auto_columns": null,
       "grid_auto_flow": null,
       "grid_auto_rows": null,
       "grid_column": null,
       "grid_gap": null,
       "grid_row": null,
       "grid_template_areas": null,
       "grid_template_columns": null,
       "grid_template_rows": null,
       "height": null,
       "justify_content": null,
       "justify_items": null,
       "left": null,
       "margin": null,
       "max_height": null,
       "max_width": null,
       "min_height": null,
       "min_width": null,
       "object_fit": null,
       "object_position": null,
       "order": null,
       "overflow": null,
       "padding": null,
       "right": null,
       "top": null,
       "visibility": null,
       "width": null
      }
     },
     "6313f3e30d4749cc94bf303c58614d8d": {
      "model_module": "@jupyter-widgets/controls",
      "model_module_version": "2.0.0",
      "model_name": "HTMLStyleModel",
      "state": {
       "_model_module": "@jupyter-widgets/controls",
       "_model_module_version": "2.0.0",
       "_model_name": "HTMLStyleModel",
       "_view_count": null,
       "_view_module": "@jupyter-widgets/base",
       "_view_module_version": "2.0.0",
       "_view_name": "StyleView",
       "background": null,
       "description_width": "",
       "font_size": null,
       "text_color": null
      }
     },
     "67eae21c524b44ff8c4d84698b950280": {
      "model_module": "@jupyter-widgets/controls",
      "model_module_version": "2.0.0",
      "model_name": "HTMLModel",
      "state": {
       "_dom_classes": [],
       "_model_module": "@jupyter-widgets/controls",
       "_model_module_version": "2.0.0",
       "_model_name": "HTMLModel",
       "_view_count": null,
       "_view_module": "@jupyter-widgets/controls",
       "_view_module_version": "2.0.0",
       "_view_name": "HTMLView",
       "description": "",
       "description_allow_html": false,
       "layout": "IPY_MODEL_dc46a8091c8b4b67ba5da4bab5e7e4a8",
       "placeholder": "​",
       "style": "IPY_MODEL_9638ae71eb494a45a03cb36304f948f7",
       "tabbable": null,
       "tooltip": null,
       "value": " 3/3 [00:24&lt;00:00,  7.81s/it]"
      }
     },
     "693ef2cacc634c8c8c53e10d222873ab": {
      "model_module": "@jupyter-widgets/base",
      "model_module_version": "2.0.0",
      "model_name": "LayoutModel",
      "state": {
       "_model_module": "@jupyter-widgets/base",
       "_model_module_version": "2.0.0",
       "_model_name": "LayoutModel",
       "_view_count": null,
       "_view_module": "@jupyter-widgets/base",
       "_view_module_version": "2.0.0",
       "_view_name": "LayoutView",
       "align_content": null,
       "align_items": null,
       "align_self": null,
       "border_bottom": null,
       "border_left": null,
       "border_right": null,
       "border_top": null,
       "bottom": null,
       "display": null,
       "flex": null,
       "flex_flow": null,
       "grid_area": null,
       "grid_auto_columns": null,
       "grid_auto_flow": null,
       "grid_auto_rows": null,
       "grid_column": null,
       "grid_gap": null,
       "grid_row": null,
       "grid_template_areas": null,
       "grid_template_columns": null,
       "grid_template_rows": null,
       "height": null,
       "justify_content": null,
       "justify_items": null,
       "left": null,
       "margin": null,
       "max_height": null,
       "max_width": null,
       "min_height": null,
       "min_width": null,
       "object_fit": null,
       "object_position": null,
       "order": null,
       "overflow": null,
       "padding": null,
       "right": null,
       "top": null,
       "visibility": null,
       "width": null
      }
     },
     "6b1bceb806b04fc8a093314041b93d15": {
      "model_module": "@jupyter-widgets/base",
      "model_module_version": "2.0.0",
      "model_name": "LayoutModel",
      "state": {
       "_model_module": "@jupyter-widgets/base",
       "_model_module_version": "2.0.0",
       "_model_name": "LayoutModel",
       "_view_count": null,
       "_view_module": "@jupyter-widgets/base",
       "_view_module_version": "2.0.0",
       "_view_name": "LayoutView",
       "align_content": null,
       "align_items": null,
       "align_self": null,
       "border_bottom": null,
       "border_left": null,
       "border_right": null,
       "border_top": null,
       "bottom": null,
       "display": null,
       "flex": null,
       "flex_flow": null,
       "grid_area": null,
       "grid_auto_columns": null,
       "grid_auto_flow": null,
       "grid_auto_rows": null,
       "grid_column": null,
       "grid_gap": null,
       "grid_row": null,
       "grid_template_areas": null,
       "grid_template_columns": null,
       "grid_template_rows": null,
       "height": null,
       "justify_content": null,
       "justify_items": null,
       "left": null,
       "margin": null,
       "max_height": null,
       "max_width": null,
       "min_height": null,
       "min_width": null,
       "object_fit": null,
       "object_position": null,
       "order": null,
       "overflow": null,
       "padding": null,
       "right": null,
       "top": null,
       "visibility": null,
       "width": null
      }
     },
     "9638ae71eb494a45a03cb36304f948f7": {
      "model_module": "@jupyter-widgets/controls",
      "model_module_version": "2.0.0",
      "model_name": "HTMLStyleModel",
      "state": {
       "_model_module": "@jupyter-widgets/controls",
       "_model_module_version": "2.0.0",
       "_model_name": "HTMLStyleModel",
       "_view_count": null,
       "_view_module": "@jupyter-widgets/base",
       "_view_module_version": "2.0.0",
       "_view_name": "StyleView",
       "background": null,
       "description_width": "",
       "font_size": null,
       "text_color": null
      }
     },
     "a1d0637b5dda4f05b65a0873e9f02b8e": {
      "model_module": "@jupyter-widgets/controls",
      "model_module_version": "2.0.0",
      "model_name": "ProgressStyleModel",
      "state": {
       "_model_module": "@jupyter-widgets/controls",
       "_model_module_version": "2.0.0",
       "_model_name": "ProgressStyleModel",
       "_view_count": null,
       "_view_module": "@jupyter-widgets/base",
       "_view_module_version": "2.0.0",
       "_view_name": "StyleView",
       "bar_color": null,
       "description_width": ""
      }
     },
     "b3cd17c17baa4b1ebf638b0a2472e01a": {
      "model_module": "@jupyter-widgets/controls",
      "model_module_version": "2.0.0",
      "model_name": "FloatProgressModel",
      "state": {
       "_dom_classes": [],
       "_model_module": "@jupyter-widgets/controls",
       "_model_module_version": "2.0.0",
       "_model_name": "FloatProgressModel",
       "_view_count": null,
       "_view_module": "@jupyter-widgets/controls",
       "_view_module_version": "2.0.0",
       "_view_name": "ProgressView",
       "bar_style": "success",
       "description": "",
       "description_allow_html": false,
       "layout": "IPY_MODEL_693ef2cacc634c8c8c53e10d222873ab",
       "max": 3.0,
       "min": 0.0,
       "orientation": "horizontal",
       "style": "IPY_MODEL_a1d0637b5dda4f05b65a0873e9f02b8e",
       "tabbable": null,
       "tooltip": null,
       "value": 3.0
      }
     },
     "ce83766d2ac84b2f87e2acc0e8467967": {
      "model_module": "@jupyter-widgets/controls",
      "model_module_version": "2.0.0",
      "model_name": "HTMLModel",
      "state": {
       "_dom_classes": [],
       "_model_module": "@jupyter-widgets/controls",
       "_model_module_version": "2.0.0",
       "_model_name": "HTMLModel",
       "_view_count": null,
       "_view_module": "@jupyter-widgets/controls",
       "_view_module_version": "2.0.0",
       "_view_name": "HTMLView",
       "description": "",
       "description_allow_html": false,
       "layout": "IPY_MODEL_508ec218c29f4eeab70fec97c401def3",
       "placeholder": "​",
       "style": "IPY_MODEL_6313f3e30d4749cc94bf303c58614d8d",
       "tabbable": null,
       "tooltip": null,
       "value": "100%"
      }
     },
     "dc46a8091c8b4b67ba5da4bab5e7e4a8": {
      "model_module": "@jupyter-widgets/base",
      "model_module_version": "2.0.0",
      "model_name": "LayoutModel",
      "state": {
       "_model_module": "@jupyter-widgets/base",
       "_model_module_version": "2.0.0",
       "_model_name": "LayoutModel",
       "_view_count": null,
       "_view_module": "@jupyter-widgets/base",
       "_view_module_version": "2.0.0",
       "_view_name": "LayoutView",
       "align_content": null,
       "align_items": null,
       "align_self": null,
       "border_bottom": null,
       "border_left": null,
       "border_right": null,
       "border_top": null,
       "bottom": null,
       "display": null,
       "flex": null,
       "flex_flow": null,
       "grid_area": null,
       "grid_auto_columns": null,
       "grid_auto_flow": null,
       "grid_auto_rows": null,
       "grid_column": null,
       "grid_gap": null,
       "grid_row": null,
       "grid_template_areas": null,
       "grid_template_columns": null,
       "grid_template_rows": null,
       "height": null,
       "justify_content": null,
       "justify_items": null,
       "left": null,
       "margin": null,
       "max_height": null,
       "max_width": null,
       "min_height": null,
       "min_width": null,
       "object_fit": null,
       "object_position": null,
       "order": null,
       "overflow": null,
       "padding": null,
       "right": null,
       "top": null,
       "visibility": null,
       "width": null
      }
     },
     "f056a2088c5f4ba49963004a19ff08e2": {
      "model_module": "@jupyter-widgets/controls",
      "model_module_version": "2.0.0",
      "model_name": "HBoxModel",
      "state": {
       "_dom_classes": [],
       "_model_module": "@jupyter-widgets/controls",
       "_model_module_version": "2.0.0",
       "_model_name": "HBoxModel",
       "_view_count": null,
       "_view_module": "@jupyter-widgets/controls",
       "_view_module_version": "2.0.0",
       "_view_name": "HBoxView",
       "box_style": "",
       "children": [
        "IPY_MODEL_ce83766d2ac84b2f87e2acc0e8467967",
        "IPY_MODEL_b3cd17c17baa4b1ebf638b0a2472e01a",
        "IPY_MODEL_67eae21c524b44ff8c4d84698b950280"
       ],
       "layout": "IPY_MODEL_6b1bceb806b04fc8a093314041b93d15",
       "tabbable": null,
       "tooltip": null
      }
     }
    },
    "version_major": 2,
    "version_minor": 0
   }
  }
 },
 "nbformat": 4,
 "nbformat_minor": 5
}