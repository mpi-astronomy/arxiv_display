{
 "cells": [
  {
   "cell_type": "markdown",
   "id": "92bcb855",
   "metadata": {
    "papermill": {
     "duration": 0.010192,
     "end_time": "2022-09-12T05:20:48.185801",
     "exception": false,
     "start_time": "2022-09-12T05:20:48.175609",
     "status": "completed"
    },
    "tags": []
   },
   "source": [
    "# MPIA Arxiv on Deck 2\n",
    "\n",
    "Contains the steps to produce the paper extractions."
   ]
  },
  {
   "cell_type": "code",
   "execution_count": 1,
   "id": "3a0d6e11",
   "metadata": {
    "execution": {
     "iopub.execute_input": "2022-09-12T05:20:48.195136Z",
     "iopub.status.busy": "2022-09-12T05:20:48.194563Z",
     "iopub.status.idle": "2022-09-12T05:20:48.368402Z",
     "shell.execute_reply": "2022-09-12T05:20:48.367646Z"
    },
    "papermill": {
     "duration": 0.18112,
     "end_time": "2022-09-12T05:20:48.370807",
     "exception": false,
     "start_time": "2022-09-12T05:20:48.189687",
     "status": "completed"
    },
    "tags": []
   },
   "outputs": [],
   "source": [
    "# Imports\n",
    "import os\n",
    "from IPython.display import Markdown, display\n",
    "from tqdm.notebook import tqdm\n",
    "import warnings\n",
    "from PIL import Image \n",
    "\n",
    "# requires arxiv_on_deck_2\n",
    "\n",
    "from arxiv_on_deck_2.arxiv2 import (get_new_papers, \n",
    "                                    get_paper_from_identifier,\n",
    "                                    retrieve_document_source, \n",
    "                                    get_markdown_badge)\n",
    "from arxiv_on_deck_2 import (latex, \n",
    "                             mpia,\n",
    "                             highlight_authors_in_list)\n",
    "\n",
    "# Sometimes images are really big\n",
    "Image.MAX_IMAGE_PIXELS = 1000000000 "
   ]
  },
  {
   "cell_type": "code",
   "execution_count": 2,
   "id": "22aa9d44",
   "metadata": {
    "execution": {
     "iopub.execute_input": "2022-09-12T05:20:48.380820Z",
     "iopub.status.busy": "2022-09-12T05:20:48.380374Z",
     "iopub.status.idle": "2022-09-12T05:20:48.386396Z",
     "shell.execute_reply": "2022-09-12T05:20:48.385724Z"
    },
    "papermill": {
     "duration": 0.01231,
     "end_time": "2022-09-12T05:20:48.387910",
     "exception": false,
     "start_time": "2022-09-12T05:20:48.375600",
     "status": "completed"
    },
    "tags": []
   },
   "outputs": [],
   "source": [
    "# Some useful definitions.\n",
    "\n",
    "class AffiliationWarning(UserWarning):\n",
    "    pass\n",
    "\n",
    "class AffiliationError(RuntimeError):\n",
    "    pass\n",
    "\n",
    "def validation(source: str):\n",
    "    \"\"\"Raises error paper during parsing of source file\n",
    "    \n",
    "    Allows checks before parsing TeX code.\n",
    "    \n",
    "    Raises AffiliationWarning\n",
    "    \"\"\"\n",
    "    check = mpia.affiliation_verifications(source, verbose=True)\n",
    "    if check is not True:\n",
    "        raise AffiliationError(\"mpia.affiliation_verifications: \" + check)\n",
    "\n",
    "        \n",
    "warnings.simplefilter('always', AffiliationWarning)"
   ]
  },
  {
   "cell_type": "code",
   "execution_count": 3,
   "id": "14622700",
   "metadata": {
    "execution": {
     "iopub.execute_input": "2022-09-12T05:20:48.396364Z",
     "iopub.status.busy": "2022-09-12T05:20:48.395764Z",
     "iopub.status.idle": "2022-09-12T05:20:48.399716Z",
     "shell.execute_reply": "2022-09-12T05:20:48.399112Z"
    },
    "papermill": {
     "duration": 0.009894,
     "end_time": "2022-09-12T05:20:48.401253",
     "exception": false,
     "start_time": "2022-09-12T05:20:48.391359",
     "status": "completed"
    },
    "tags": []
   },
   "outputs": [],
   "source": [
    "# additional CSS to consider. \n",
    "# TODO: Current into each exported file. \n",
    "#       This should be set once into the webpages directly.\n",
    "#       With only the class/id definitions in the .md files.\n",
    "\n",
    "debug_html = \"\"\"\n",
    "<style>\n",
    "#wrap{ overflow:auto; }\n",
    "#fig1{ background:yellow; width:100%; float:left; padding:5px;  }\n",
    "#fig2{ background:red; width:50%; float:left; clear:left; padding:5px;  }\n",
    "#fig3{ background:green; width:50%; float:left; padding:5px;   }\n",
    ".macros{ background:yellow; visibility:visible;}\n",
    "h1 {margin: 0 0 0 0;}\n",
    "mark {background-color:#fff3b6;}\n",
    "img {object-fit:contain; max-height:250px; display:inline-block; text-align: center;}\n",
    "</style>\n",
    "\"\"\" \n",
    "html = \"\"\"\n",
    "<style>\n",
    "#wrap{ overflow:auto; }\n",
    "#fig1{ width:100%; float:left; padding: 5px;  }\n",
    "#fig2{ width:50%; float:left; clear:left; padding: 5px;  }\n",
    "#fig3{ width:50%; float:left; padding: 5px;  }\n",
    ".macros{ visibility:hidden; height:0px; }\n",
    "h1 {margin: 0em 0 0 0;}\n",
    "mark {background-color:#fff3b6;}\n",
    "img {object-fit:contain; max-height:250px; display:inline-block; text-align: center;}\n",
    "</style>\n",
    "\"\"\""
   ]
  },
  {
   "cell_type": "markdown",
   "id": "14bd6310",
   "metadata": {
    "papermill": {
     "duration": 0.00352,
     "end_time": "2022-09-12T05:20:48.408190",
     "exception": false,
     "start_time": "2022-09-12T05:20:48.404670",
     "status": "completed"
    },
    "tags": []
   },
   "source": [
    "## get list of arxiv paper candidates\n",
    "\n",
    "We use the MPIA mitarbeiter list webpage from mpia.de to get author names\n",
    "We then get all new papers from Arxiv and match authors"
   ]
  },
  {
   "cell_type": "code",
   "execution_count": 4,
   "id": "2645e73a",
   "metadata": {
    "execution": {
     "iopub.execute_input": "2022-09-12T05:20:48.418294Z",
     "iopub.status.busy": "2022-09-12T05:20:48.417660Z",
     "iopub.status.idle": "2022-09-12T05:21:10.823903Z",
     "shell.execute_reply": "2022-09-12T05:21:10.821812Z"
    },
    "papermill": {
     "duration": 22.412643,
     "end_time": "2022-09-12T05:21:10.825738",
     "exception": false,
     "start_time": "2022-09-12T05:20:48.413095",
     "status": "completed"
    },
    "tags": []
   },
   "outputs": [
    {
     "name": "stdout",
     "output_type": "stream",
     "text": [
      "Arxiv has 48 new papers today\n",
      "          21 with possible author matches\n"
     ]
    }
   ],
   "source": [
    "# get list from MPIA website\n",
    "# it automatically filters identified non-scientists :func:`mpia.filter_non_scientists`\n",
    "mpia_authors = mpia.get_mpia_mitarbeiter_list()\n",
    "new_papers = get_new_papers()\n",
    "# add manual references\n",
    "add_paper_refs = []\n",
    "new_papers.extend([get_paper_from_identifier(k) for k in add_paper_refs])\n",
    "\n",
    "# select only papers with matching author names and highlight authors\n",
    "hl_list = [k[0] for k in mpia_authors]\n",
    "\n",
    "candidates = []\n",
    "for paperk in new_papers:\n",
    "    hl_authors = highlight_authors_in_list(paperk['authors'], hl_list)\n",
    "    matches = [(hl, orig) for hl, orig in zip(hl_authors, paperk['authors']) if 'mark' in hl]\n",
    "    paperk['authors'] = hl_authors\n",
    "    if matches:\n",
    "        candidates.append(paperk)\n",
    "print(\"\"\"Arxiv has {0:,d} new papers today\"\"\".format(len(new_papers)))        \n",
    "print(\"\"\"          {0:,d} with possible author matches\"\"\".format(len(candidates)))"
   ]
  },
  {
   "cell_type": "markdown",
   "id": "3543b34a",
   "metadata": {
    "papermill": {
     "duration": 0.004532,
     "end_time": "2022-09-12T05:21:10.834812",
     "exception": false,
     "start_time": "2022-09-12T05:21:10.830280",
     "status": "completed"
    },
    "tags": []
   },
   "source": [
    "# Parse sources and generate relevant outputs\n",
    "\n",
    "From the candidates, we do the following steps:\n",
    "* get their tarball from ArXiv (and extract data)\n",
    "* find the main .tex file: find one with \\documentclass{...} (sometimes it's non trivial)\n",
    "* Check affiliations with :func:`validation`, which uses :func:`mpia.affiliation_verifications`\n",
    "* If passing the affiliations: we parse the .tex source\n",
    "   * inject sub-documents into the main (flatten the main document)\n",
    "   * parse structure, extract information (title, abstract, authors, figures...)\n",
    "   * handles `\\graphicspath` if provided\n",
    "* Generate the .md document."
   ]
  },
  {
   "cell_type": "code",
   "execution_count": 5,
   "id": "9576b79e",
   "metadata": {
    "execution": {
     "iopub.execute_input": "2022-09-12T05:21:10.844998Z",
     "iopub.status.busy": "2022-09-12T05:21:10.844253Z",
     "iopub.status.idle": "2022-09-12T05:22:14.836808Z",
     "shell.execute_reply": "2022-09-12T05:22:14.836271Z"
    },
    "papermill": {
     "duration": 64.000496,
     "end_time": "2022-09-12T05:22:14.839356",
     "exception": false,
     "start_time": "2022-09-12T05:21:10.838860",
     "status": "completed"
    },
    "scrolled": false,
    "tags": []
   },
   "outputs": [
    {
     "data": {
      "application/vnd.jupyter.widget-view+json": {
       "model_id": "8e9e5e79379f47e4ba10e777521138d2",
       "version_major": 2,
       "version_minor": 0
      },
      "text/plain": [
       "  0%|          | 0/20 [00:00<?, ?it/s]"
      ]
     },
     "metadata": {},
     "output_type": "display_data"
    },
    {
     "name": "stdout",
     "output_type": "stream",
     "text": [
      "Retrieving document from  https://arxiv.org/e-print/2209.03963\n"
     ]
    },
    {
     "name": "stdout",
     "output_type": "stream",
     "text": [
      "extracting tarball to tmp_2209.03963..."
     ]
    },
    {
     "name": "stdout",
     "output_type": "stream",
     "text": [
      " done.\n",
      "Retrieving document from  https://arxiv.org/e-print/2209.03967\n"
     ]
    },
    {
     "name": "stdout",
     "output_type": "stream",
     "text": [
      "extracting tarball to tmp_2209.03967..."
     ]
    },
    {
     "name": "stdout",
     "output_type": "stream",
     "text": [
      " done.\n",
      "Retrieving document from  https://arxiv.org/e-print/2209.03972\n"
     ]
    },
    {
     "name": "stdout",
     "output_type": "stream",
     "text": [
      "extracting tarball to tmp_2209.03972..."
     ]
    },
    {
     "name": "stdout",
     "output_type": "stream",
     "text": [
      " done.\n",
      "Retrieving document from  https://arxiv.org/e-print/2209.03974\n"
     ]
    },
    {
     "name": "stdout",
     "output_type": "stream",
     "text": [
      "extracting tarball to tmp_2209.03974..."
     ]
    },
    {
     "name": "stdout",
     "output_type": "stream",
     "text": [
      " done.\n",
      "Retrieving document from  https://arxiv.org/e-print/2209.04065\n"
     ]
    },
    {
     "name": "stdout",
     "output_type": "stream",
     "text": [
      "extracting tarball to tmp_2209.04065..."
     ]
    },
    {
     "name": "stdout",
     "output_type": "stream",
     "text": [
      " done.\n",
      "Retrieving document from  https://arxiv.org/e-print/2209.04081\n"
     ]
    },
    {
     "name": "stdout",
     "output_type": "stream",
     "text": [
      "extracting tarball to tmp_2209.04081..."
     ]
    },
    {
     "name": "stdout",
     "output_type": "stream",
     "text": [
      " done.\n",
      "Retrieving document from  https://arxiv.org/e-print/2209.04092\n"
     ]
    },
    {
     "name": "stdout",
     "output_type": "stream",
     "text": [
      "extracting tarball to tmp_2209.04092..."
     ]
    },
    {
     "name": "stdout",
     "output_type": "stream",
     "text": [
      " done.\n",
      "Retrieving document from  https://arxiv.org/e-print/2209.04119\n"
     ]
    },
    {
     "name": "stdout",
     "output_type": "stream",
     "text": [
      "extracting tarball to tmp_2209.04119..."
     ]
    },
    {
     "name": "stdout",
     "output_type": "stream",
     "text": [
      " done.\n",
      "Retrieving document from  https://arxiv.org/e-print/2209.04151\n"
     ]
    },
    {
     "name": "stdout",
     "output_type": "stream",
     "text": [
      "extracting tarball to tmp_2209.04151..."
     ]
    },
    {
     "name": "stdout",
     "output_type": "stream",
     "text": [
      " done.\n",
      "Retrieving document from  https://arxiv.org/e-print/2209.04165\n"
     ]
    },
    {
     "name": "stderr",
     "output_type": "stream",
     "text": [
      "/tmp/ipykernel_2254/4030337529.py:34: LatexWarning: 2209.04165 did not run properly\n",
      "not a gzip file\n",
      "  warnings.warn(latex.LatexWarning(f\"{paper_id:s} did not run properly\\n\" +\n"
     ]
    },
    {
     "name": "stdout",
     "output_type": "stream",
     "text": [
      "Retrieving document from  https://arxiv.org/e-print/2209.04210\n"
     ]
    },
    {
     "name": "stdout",
     "output_type": "stream",
     "text": [
      "extracting tarball to tmp_2209.04210..."
     ]
    },
    {
     "name": "stdout",
     "output_type": "stream",
     "text": [
      " done.\n",
      "Retrieving document from  https://arxiv.org/e-print/2209.04214\n"
     ]
    },
    {
     "name": "stdout",
     "output_type": "stream",
     "text": [
      "extracting tarball to tmp_2209.04214... done.\n",
      "Retrieving document from  https://arxiv.org/e-print/2209.04251\n"
     ]
    },
    {
     "name": "stderr",
     "output_type": "stream",
     "text": [
      "/opt/hostedtoolcache/Python/3.9.13/x64/lib/python3.9/site-packages/IPython/core/interactiveshell.py:3378: LatexWarning: Multiple tex files.\n",
      "\n",
      "  exec(code_obj, self.user_global_ns, self.user_ns)\n",
      "/opt/hostedtoolcache/Python/3.9.13/x64/lib/python3.9/site-packages/IPython/core/interactiveshell.py:3378: LatexWarning: Found documentclass in tmp_2209.04214/lpatrick_IAUS361.tex\n",
      "\n",
      "  exec(code_obj, self.user_global_ns, self.user_ns)\n"
     ]
    },
    {
     "name": "stdout",
     "output_type": "stream",
     "text": [
      "extracting tarball to tmp_2209.04251..."
     ]
    },
    {
     "name": "stdout",
     "output_type": "stream",
     "text": [
      " done.\n",
      "Retrieving document from  https://arxiv.org/e-print/2209.04260\n"
     ]
    },
    {
     "name": "stdout",
     "output_type": "stream",
     "text": [
      "extracting tarball to tmp_2209.04260..."
     ]
    },
    {
     "name": "stdout",
     "output_type": "stream",
     "text": [
      " done.\n",
      "Retrieving document from  https://arxiv.org/e-print/2209.04282\n"
     ]
    },
    {
     "name": "stderr",
     "output_type": "stream",
     "text": [
      "/opt/hostedtoolcache/Python/3.9.13/x64/lib/python3.9/site-packages/IPython/core/interactiveshell.py:3378: LatexWarning: Multiple tex files.\n",
      "\n",
      "  exec(code_obj, self.user_global_ns, self.user_ns)\n",
      "/opt/hostedtoolcache/Python/3.9.13/x64/lib/python3.9/site-packages/IPython/core/interactiveshell.py:3378: LatexWarning: Found documentclass in tmp_2209.04260/apssamp.tex\n",
      "\n",
      "  exec(code_obj, self.user_global_ns, self.user_ns)\n"
     ]
    },
    {
     "name": "stdout",
     "output_type": "stream",
     "text": [
      "extracting tarball to tmp_2209.04282..."
     ]
    },
    {
     "name": "stdout",
     "output_type": "stream",
     "text": [
      " done.\n",
      "Retrieving document from  https://arxiv.org/e-print/2209.04304\n"
     ]
    },
    {
     "name": "stdout",
     "output_type": "stream",
     "text": [
      "extracting tarball to tmp_2209.04304..."
     ]
    },
    {
     "name": "stdout",
     "output_type": "stream",
     "text": [
      " done.\n"
     ]
    },
    {
     "name": "stdout",
     "output_type": "stream",
     "text": [
      "Retrieving document from  https://arxiv.org/e-print/2209.04310\n"
     ]
    },
    {
     "name": "stdout",
     "output_type": "stream",
     "text": [
      "extracting tarball to tmp_2209.04310..."
     ]
    },
    {
     "name": "stdout",
     "output_type": "stream",
     "text": [
      " done.\n",
      "Retrieving document from  https://arxiv.org/e-print/2209.04322\n"
     ]
    },
    {
     "name": "stderr",
     "output_type": "stream",
     "text": [
      "/opt/hostedtoolcache/Python/3.9.13/x64/lib/python3.9/site-packages/IPython/core/interactiveshell.py:3378: LatexWarning: Multiple tex files.\n",
      "\n",
      "  exec(code_obj, self.user_global_ns, self.user_ns)\n",
      "/opt/hostedtoolcache/Python/3.9.13/x64/lib/python3.9/site-packages/IPython/core/interactiveshell.py:3378: LatexWarning: Found documentclass in tmp_2209.04310/manuscript.tex\n",
      "\n",
      "  exec(code_obj, self.user_global_ns, self.user_ns)\n",
      "/opt/hostedtoolcache/Python/3.9.13/x64/lib/python3.9/site-packages/arxiv_on_deck_2/latex.py:292: LatexWarning: Latex injecting: 'authors' from 'tmp_2209.04310/authors.tex'\n",
      "  warnings.warn(LatexWarning(f\"Latex injecting: '{ext}' from '{subsource}'\"))\n"
     ]
    },
    {
     "name": "stdout",
     "output_type": "stream",
     "text": [
      "extracting tarball to tmp_2209.04322..."
     ]
    },
    {
     "name": "stdout",
     "output_type": "stream",
     "text": [
      " done.\n",
      "Retrieving document from  https://arxiv.org/e-print/2209.04343\n"
     ]
    },
    {
     "name": "stderr",
     "output_type": "stream",
     "text": [
      "/opt/hostedtoolcache/Python/3.9.13/x64/lib/python3.9/site-packages/IPython/core/interactiveshell.py:3378: LatexWarning: Multiple tex files.\n",
      "\n",
      "  exec(code_obj, self.user_global_ns, self.user_ns)\n",
      "/opt/hostedtoolcache/Python/3.9.13/x64/lib/python3.9/site-packages/IPython/core/interactiveshell.py:3378: LatexWarning: Found documentclass in tmp_2209.04322/main.tex\n",
      "\n",
      "  exec(code_obj, self.user_global_ns, self.user_ns)\n",
      "/opt/hostedtoolcache/Python/3.9.13/x64/lib/python3.9/site-packages/arxiv_on_deck_2/latex.py:292: LatexWarning: Latex injecting: 'authors' from 'tmp_2209.04322/authors.tex'\n",
      "  warnings.warn(LatexWarning(f\"Latex injecting: '{ext}' from '{subsource}'\"))\n"
     ]
    },
    {
     "name": "stdout",
     "output_type": "stream",
     "text": [
      "extracting tarball to tmp_2209.04343... done.\n"
     ]
    },
    {
     "name": "stderr",
     "output_type": "stream",
     "text": [
      "/opt/hostedtoolcache/Python/3.9.13/x64/lib/python3.9/site-packages/IPython/core/interactiveshell.py:3378: LatexWarning: Multiple tex files.\n",
      "\n",
      "  exec(code_obj, self.user_global_ns, self.user_ns)\n",
      "/opt/hostedtoolcache/Python/3.9.13/x64/lib/python3.9/site-packages/IPython/core/interactiveshell.py:3378: LatexWarning: Found documentclass in tmp_2209.04343/newWXCha.tex\n",
      "\n",
      "  exec(code_obj, self.user_global_ns, self.user_ns)\n"
     ]
    },
    {
     "name": "stderr",
     "output_type": "stream",
     "text": [
      "/opt/hostedtoolcache/Python/3.9.13/x64/lib/python3.9/site-packages/arxiv_on_deck_2/latex.py:118: LatexWarning: attempting recovering figure ColCol_diag_XW.png\n",
      "  warnings.warn(LatexWarning(f'attempting recovering figure {image}'))\n",
      "/tmp/ipykernel_2254/4030337529.py:34: LatexWarning: 2209.04343 did not run properly\n",
      "Could not find figure ColCol_diag_XW.png\n",
      "  warnings.warn(latex.LatexWarning(f\"{paper_id:s} did not run properly\\n\" +\n"
     ]
    },
    {
     "name": "stdout",
     "output_type": "stream",
     "text": [
      "Retrieving document from  https://arxiv.org/e-print/2209.04369\n"
     ]
    },
    {
     "name": "stdout",
     "output_type": "stream",
     "text": [
      "extracting tarball to tmp_2209.04369..."
     ]
    },
    {
     "name": "stdout",
     "output_type": "stream",
     "text": [
      " done.\n"
     ]
    }
   ],
   "source": [
    "documents = []\n",
    "failed = []\n",
    "for paper in tqdm(candidates[:-1]):\n",
    "    paper_id = paper['identifier'].lower().replace('arxiv:', '')\n",
    "    \n",
    "    folder = f'tmp_{paper_id}'\n",
    "\n",
    "    try:\n",
    "        if not os.path.isdir(folder):\n",
    "            folder = retrieve_document_source(f\"{paper_id}\", f'tmp_{paper_id}')\n",
    "        \n",
    "        try:\n",
    "            doc = latex.LatexDocument(folder, validation=validation)    \n",
    "        except AffiliationError as affilerror:\n",
    "            msg = f\"ArXiv:{paper_id:s} is not an MPIA paper... \" + str(affilerror)\n",
    "            failed.append((paper, \"affiliation error: \" + str(affilerror) ))\n",
    "            continue\n",
    "        \n",
    "        # Hack because sometimes author parsing does not work well\n",
    "        if (len(doc.authors) != len(paper['authors'])):\n",
    "            doc._authors = paper['authors']\n",
    "        if (doc.abstract) in (None, ''):\n",
    "            doc._abstract = paper['abstract']\n",
    "            \n",
    "        doc.comment = (get_markdown_badge(paper_id) + \n",
    "                       \"<mark>Appeared on: \" + paper['date'] + \"</mark> - \" +\n",
    "                       \"_\" + paper['comments'] + \"_\")\n",
    "        doc.highlight_authors_in_list(hl_list)\n",
    "\n",
    "        full_md = doc.generate_markdown_text()\n",
    "        \n",
    "        documents.append((paper_id, full_md))\n",
    "    except Exception as e:\n",
    "        warnings.warn(latex.LatexWarning(f\"{paper_id:s} did not run properly\\n\" +\n",
    "                                         str(e)\n",
    "                                        ))\n",
    "        failed.append((paper, \"latex error \" + str(e)))"
   ]
  },
  {
   "cell_type": "markdown",
   "id": "2505a25c",
   "metadata": {
    "papermill": {
     "duration": 0.006695,
     "end_time": "2022-09-12T05:22:14.852961",
     "exception": false,
     "start_time": "2022-09-12T05:22:14.846266",
     "status": "completed"
    },
    "tags": []
   },
   "source": [
    "### Export the logs\n",
    "\n",
    "Throughout, we also keep track of the logs per paper. see `logs-{today date}.md` "
   ]
  },
  {
   "cell_type": "code",
   "execution_count": 6,
   "id": "d733828a",
   "metadata": {
    "execution": {
     "iopub.execute_input": "2022-09-12T05:22:14.868091Z",
     "iopub.status.busy": "2022-09-12T05:22:14.867441Z",
     "iopub.status.idle": "2022-09-12T05:22:14.897527Z",
     "shell.execute_reply": "2022-09-12T05:22:14.896815Z"
    },
    "papermill": {
     "duration": 0.039687,
     "end_time": "2022-09-12T05:22:14.899124",
     "exception": false,
     "start_time": "2022-09-12T05:22:14.859437",
     "status": "completed"
    },
    "scrolled": false,
    "tags": []
   },
   "outputs": [
    {
     "data": {
      "text/markdown": [
       "## Successful papers"
      ],
      "text/plain": [
       "<IPython.core.display.Markdown object>"
      ]
     },
     "metadata": {},
     "output_type": "display_data"
    },
    {
     "data": {
      "text/markdown": [
       "\n",
       "|||\n",
       "|---:|:---|\n",
       "| [![arXiv](https://img.shields.io/badge/arXiv-arXiv:2209.04304-b31b1b.svg)](https://arxiv.org/abs/arXiv:2209.04304) | **Accretion and extinction variations in the low-mass pre-main sequence  binary system WX Cha**  |\n",
       "|| Eleonora Fiorellino, et al. -- incl., <mark>Agnes Kospal</mark> |\n",
       "|*Appeared on*| *2022-09-12*|\n",
       "|*Comments*| **|\n",
       "|**Abstract**| Light curves of young star systems show photometric variability due to different kinematic, and physical processes. One of the main contributors to the photometric variability is the changing mass accretion rate, which regulates the interplay between the forming young star and the protoplanetary disk. We collected high-resolution spectroscopy in eight different epochs, as well as ground-based and space-borne multi-epoch optical and infrared photometry of WX Cha, an M0 binary system, with an almost edge-on disk (i = 87degrees) in the Chamaeleon I star-forming region. Spectroscopic observations cover 72 days, the ground-based optical monitoring covers 42 days while space-borne TESS photometry extends for 56 days. The multi-wavelength light curves exhibit quasi-periodic variability of 0.35 - 0.53 mag in the near-infrared, and of 1.3 mag in g band. We studied the variability of selected emission lines that trace the accretion, computed the accretion luminosity and the mass accretion rate using empirical relations and obtained values of the accretion luminosity between 1.6 and 3.2 Lsun and mass accretion rate between 3.31x10{-7} Msun/yr and 7.76x10^{-7} Msun/yr. Our results show that WX Cha is accreting at a rate larger than what is typical for T Tauri stars in the same star-forming region with the same stellar parameters. We theorize that this is due to the higher disk mass of WX Cha than what is usual for stars with similar stellar mass, and to the binary nature of the system. Daily changes in the accretion luminosity and in the extinction can explain the photometric variability. |"
      ],
      "text/plain": [
       "[arXiv:2209.04304] Accretion and extinction variations in the low-mass pre-main sequence  binary system WX Cha\n",
       "\tEleonora Fiorellino, et al. -- incl., <mark>Agnes Kospal</mark>"
      ]
     },
     "metadata": {},
     "output_type": "display_data"
    },
    {
     "data": {
      "text/markdown": [
       "## Failed papers"
      ],
      "text/plain": [
       "<IPython.core.display.Markdown object>"
      ]
     },
     "metadata": {},
     "output_type": "display_data"
    },
    {
     "data": {
      "text/markdown": [
       "\n",
       "|||\n",
       "|---:|:---|\n",
       "| [![arXiv](https://img.shields.io/badge/arXiv-arXiv:2209.03972-b31b1b.svg)](https://arxiv.org/abs/arXiv:2209.03972) | **COOL-LAMPS III: Discovery of a 25\".9 Separation Quasar Lensed by a  Merging Galaxy Cluster**  |\n",
       "|| Michael N. Martinez, et al. -- incl., <mark>Guillaume Mahler</mark> |\n",
       "|*Appeared on*| *2022-09-12*|\n",
       "|*Comments*| *13 pages, 6 figures. Submitted to ApJ*|\n",
       "|**Abstract**| In the third paper from the COOL-LAMPS Collaboration, we report the discovery of COOL J0542-2125, a gravitationally lensed quasar at $z=1.84$, observed as three images due to an intervening massive galaxy cluster at $z=0.61$. The lensed quasar images were identified in a search for lens systems in recent public optical imaging data and have separations on the sky up to 25\".9, wider than any previously known lensed quasar. The galaxy cluster acting as a strong lens appears to be in the process of merging, with two sub-clusters separated by $\\sim 1$ Mpc in the plane of the sky, and their central galaxies showing a radial velocity difference of $\\sim 1000$ km/s. Both cluster cores show strongly lensed images of an assortment of background sources, as does the region between them. A preliminary strong lens model implies masses of $M(<250\\ \\rm{kpc}) = 1.79^{+0.16} _{-0.01} \\times 10^{14} M_{\\odot}$ and $M(<250\\ \\rm{kpc}) = 1.48^{+0.04}_{-0.10} \\times 10^{14} M_{\\odot}$ for the East and West sub-clusters, respectively. This line of sight is also coincident with a ROSAT ALL-sky Survey source, centered between the two confirmed cluster halos reminiscent of other major cluster-scale mergers. |\n",
       "|<p style=\"color:green\"> **ERROR** </p>| <p style=\"color:green\">affiliation error: mpia.affiliation_verifications: '69117' keyword not found.</p> |"
      ],
      "text/plain": [
       "<IPython.core.display.Markdown object>"
      ]
     },
     "metadata": {},
     "output_type": "display_data"
    },
    {
     "data": {
      "text/markdown": [
       "\n",
       "|||\n",
       "|---:|:---|\n",
       "| [![arXiv](https://img.shields.io/badge/arXiv-arXiv:2209.04322-b31b1b.svg)](https://arxiv.org/abs/arXiv:2209.04322) | **The MegaMapper: A Stage-5 Spectroscopic Instrument Concept for the Study  of Inflation and Dark Energy**  |\n",
       "|| David J. Schlegel, et al. -- incl., <mark>Joseph DeRose</mark>, <mark>Daniel Green</mark>, <mark>Henry Heetderks</mark>, <mark>Dustin Lang</mark> |\n",
       "|*Appeared on*| *2022-09-12*|\n",
       "|*Comments*| *Contributed White Paper to Snowmass 2021. arXiv admin note: substantial text overlap with arXiv:1907.11171. text overlap with arXiv:2209.03585*|\n",
       "|**Abstract**| In this white paper, we present the MegaMapper concept. The MegaMapper is a proposed ground-based experiment to measure Inflation parameters and Dark Energy from galaxy redshifts at $2<z<5$. In order to achieve path-breaking results with a mid-scale investment, the MegaMapper combines existing technologies for critical path elements and pushes innovative development in other design areas. To this aim, we envision a 6.5-m Magellan-like telescope, with a newly designed wide field, coupled with DESI spectrographs, and small-pitch robots to achieve multiplexing of at least 26,000. This will match the expected achievable target density in the redshift range of interest and provide a 10x capability over the existing state-of the art, without a 10x increase in project budget. |\n",
       "|<p style=\"color:green\"> **ERROR** </p>| <p style=\"color:green\">affiliation error: mpia.affiliation_verifications: '69117' keyword not found.</p> |"
      ],
      "text/plain": [
       "<IPython.core.display.Markdown object>"
      ]
     },
     "metadata": {},
     "output_type": "display_data"
    },
    {
     "data": {
      "text/markdown": [
       "\n",
       "|||\n",
       "|---:|:---|\n",
       "| [![arXiv](https://img.shields.io/badge/arXiv-arXiv:2209.03963-b31b1b.svg)](https://arxiv.org/abs/arXiv:2209.03963) | **Astrophysical Observations of a Dark Matter-Baryon Fifth Force**  |\n",
       "|| Moira I. Gresham, <mark>Vincent S. H. Lee</mark>, Kathryn M. Zurek |\n",
       "|*Appeared on*| *2022-09-12*|\n",
       "|*Comments*| *40 pages, 6 figures*|\n",
       "|**Abstract**| We consider the effects of an attractive, long-range Yukawa interaction between baryons and dark matter (DM), focusing in particular on temperature and pulsar timing observations of neutron stars (NSs). We show that such a fifth force, with strength modestly stronger than gravity at ranges greater than tens of kilometers (corresponding to mediator masses less than $10^{-11} \\text{eV}$), can dramatically enhance dark matter kinetic heating, capture, and pulsar timing Doppler shifts relative to gravity plus short range interactions alone. Using the coldest observed NS and pulsar timing array (PTA) data, we derive limits on fifth force strength over a DM mass range spanning light dark matter up to order solar mass composite DM objects. We also consider an indirect limit by combining bullet cluster limits on the DM self-interaction with weak equivalence principle test limits on baryonic self-interactions. We find the combined indirect limits are moderately stronger than kinetic heating and PTA limits, except when considering a DM subcomponent. |\n",
       "|<p style=\"color:green\"> **ERROR** </p>| <p style=\"color:green\">affiliation error: mpia.affiliation_verifications: 'Heidelberg' keyword not found.</p> |"
      ],
      "text/plain": [
       "<IPython.core.display.Markdown object>"
      ]
     },
     "metadata": {},
     "output_type": "display_data"
    },
    {
     "data": {
      "text/markdown": [
       "\n",
       "|||\n",
       "|---:|:---|\n",
       "| [![arXiv](https://img.shields.io/badge/arXiv-arXiv:2209.03967-b31b1b.svg)](https://arxiv.org/abs/arXiv:2209.03967) | **Using angular two-point correlations to self-calibrate the photometric  redshift distributions of DECaLS DR9**  |\n",
       "|| Haojie Xu, et al. -- incl., <mark>Pengjie Zhang</mark>, <mark>Le Zhang</mark>, <mark>Min He</mark> |\n",
       "|*Appeared on*| *2022-09-12*|\n",
       "|*Comments*| *20 pages, 19 figures, submitted to MNRAS. Comments are welcome*|\n",
       "|**Abstract**| Calibrating the redshift distributions of photometric galaxy samples is essential in weak lensing studies. The self-calibration method combines angular auto- and cross-correlations between galaxies in multiple photometric redshift (photo-$z$) bins to reconstruct the scattering rates matrix between redshift bins. In this paper, we test a recently proposed self-calibration algorithm using the DECaLS Data Release 9 and investigate to what extent the scattering rates are determined. We first mitigate the spurious angular correlations due to imaging systematics by a machine learning based method. We then improve the algorithm for $\\chi^2$ minimization and error estimation. Finally, we solve for the scattering matrices, carry out a series of consistency tests and find reasonable agreements: (1) finer photo-$z$ bins return a high-resolution scattering matrix, and it is broadly consistent with the low-resolution matrix from wider bins; (2) the scattering matrix from the Northern Galactic Cap is almost identical to that from Southern Galactic Cap; (3) the scattering matrices are in reasonable agreement with those constructed from the power spectrum and the weighted spectroscopic subsample. We also evaluate the impact of cosmic magnification. Although it changes little the diagonal elements of the scattering matrix, it affects the off-diagonals significantly. The scattering matrix also shows some dependence on scale cut of input correlations, which may be related to a known numerical degeneracy between certain scattering pairs. This work demonstrates the feasibility of the self-calibration method in real data and provides a practical alternative to calibrate the redshift distributions of photometric samples. |\n",
       "|<p style=\"color:green\"> **ERROR** </p>| <p style=\"color:green\">affiliation error: mpia.affiliation_verifications: 'Heidelberg' keyword not found.</p> |"
      ],
      "text/plain": [
       "<IPython.core.display.Markdown object>"
      ]
     },
     "metadata": {},
     "output_type": "display_data"
    },
    {
     "data": {
      "text/markdown": [
       "\n",
       "|||\n",
       "|---:|:---|\n",
       "| [![arXiv](https://img.shields.io/badge/arXiv-arXiv:2209.03974-b31b1b.svg)](https://arxiv.org/abs/arXiv:2209.03974) | **Full-shape BOSS constraints on dark matter interacting with dark  radiation and lifting the $S_8$ tension**  |\n",
       "|| <mark>Henrique Rubira</mark>, Asmaa Mazoun, Mathias Garny |\n",
       "|*Appeared on*| *2022-09-12*|\n",
       "|*Comments*| *38 pages, 8 figures, 1 ancillary figure*|\n",
       "|**Abstract**| In this work we derive constraints on interacting dark matter-dark radiation models from a full-shape analysis of BOSS-DR12 galaxy clustering data, combined with Planck legacy cosmic microwave background (CMB) and baryon acoustic oscillation (BAO) measurements. We consider a set of models parameterized within the effective theory of structure formation (ETHOS), quantifying the lifting of the $S_8$ tension in view of KiDS weak-lensing results. The most favorable scenarios point to a fraction $f\\sim 10-100\\%$ of interacting dark matter as well as a dark radiation temperature that is smaller by a factor $\\xi\\sim 0.1-0.15$ compared to the CMB, leading to a reduction of the tension to the $\\sim 1\\sigma$ level. The temperature dependence of the interaction rate favored by relaxing the $S_8$ tension is realized for a weakly coupled unbroken non-Abelian $SU(N)$ gauge interaction in the dark sector. To map our results onto this $SU(N)$ model, we compute higher-order corrections due to Debye screening. We find a lower bound $\\alpha_d\\equiv g_d^2/(4\\pi)\\gtrsim 10^{-8} (10^{-9})$ for dark matter mass $1000 (1)$ GeV for relaxing the $S_8$ tension, consistent with upper bounds from galaxy ellipticities and compatible with self-interactions relevant for small-scale structure formation. |\n",
       "|<p style=\"color:green\"> **ERROR** </p>| <p style=\"color:green\">affiliation error: mpia.affiliation_verifications: 'Heidelberg' keyword not found.</p> |"
      ],
      "text/plain": [
       "<IPython.core.display.Markdown object>"
      ]
     },
     "metadata": {},
     "output_type": "display_data"
    },
    {
     "data": {
      "text/markdown": [
       "\n",
       "|||\n",
       "|---:|:---|\n",
       "| [![arXiv](https://img.shields.io/badge/arXiv-arXiv:2209.04065-b31b1b.svg)](https://arxiv.org/abs/arXiv:2209.04065) | **Testing the third body hypothesis in the Cataclysmic Variables LU  Camelopardalis, QZSerpentis, V1007 Herculis and BK Lyncis**  |\n",
       "|| Carlos E. Chavez, et al. -- incl., <mark>Hector Aceves</mark> |\n",
       "|*Appeared on*| *2022-09-12*|\n",
       "|*Comments*| *11 pages, 6 figures*|\n",
       "|**Abstract**| Some Cataclysmic Variables (CVs) exhibits a very long photometric period (VLPP). We calculate the properties of a hypothetical third body, initially assumed on circular--planar orbit, by matching the modelled VLPP to the observed one of four CVs studied here: {\\sl LU Camelopardalis} (LU Cam), QZ Serpentis (QZ Ser), V1007 Herculis (V1007 Her) and BK Lyncis (BK Lyn). The eccentric and low inclination orbits for a third body are considered using analytical results. The chosen parameters of the binary components are based on the orbital period of each CV. The smallest corresponding semi-major axis permitted before the third body's orbit becomes unstable is also calculated. A first-order analytical post-Newtonian correction is applied, and the rate of precession of the pericentre is found, but it can not explain any of the observed VLPP. For the first time, we also estimate the effect of secular perturbations by this hypothetical third body on the mass transfer rate of such CVs. We made sure that the observed and calculated amplitude of variability was comparable too. The mass of the third body satisfying all constrains range from 0.63 to 97 Jupiter masses. Our results show further evidence supporting the hypothesis of a third body in three of these CVs, but only marginally in V1007 Her. |\n",
       "|<p style=\"color:green\"> **ERROR** </p>| <p style=\"color:green\">affiliation error: mpia.affiliation_verifications: 'Heidelberg' keyword not found.</p> |"
      ],
      "text/plain": [
       "<IPython.core.display.Markdown object>"
      ]
     },
     "metadata": {},
     "output_type": "display_data"
    },
    {
     "data": {
      "text/markdown": [
       "\n",
       "|||\n",
       "|---:|:---|\n",
       "| [![arXiv](https://img.shields.io/badge/arXiv-arXiv:2209.04081-b31b1b.svg)](https://arxiv.org/abs/arXiv:2209.04081) | **Galaxy-galaxy lensing in the VOICE deep survey**  |\n",
       "|| Ruibiao Luo, et al. -- incl., <mark>Linghua Xie</mark> |\n",
       "|*Appeared on*| *2022-09-12*|\n",
       "|*Comments*| *16 pages, 17 figures, submitted to A&A*|\n",
       "|**Abstract**| The multi-band photometry of the VOICE imaging data enables both shape measurement and photometric redshift estimation which are the two essential quantities for weak lensing analysis. We estimate the Excess Surface Density (ESD; $\\Delta\\Sigma$) based on galaxy-galaxy measurements around galaxies at lower redshift (0.10<$z_l$<0.35 ) while we select the background sources to be at higher redshift ranging from 0.3 to 1.5. The foreground galaxies are further divided into two major categories according to their color (blue/red), each of which has been further divided into high/low stellar mass bins. Then the halo masses of the samples are estimated by modeling the signals, and the posterior of the parameters are samples via Mote Carlo Markov Chain (MCMC) process. We compare our results with the existing Stellar-to-Halo Mass Relation (SHMR) and find that the blue low stellar mass bin deviates from the SHMR relation whereas all other three samples agrees well with empirical curves. We interpret this discrepancy as the effect of a low star formation efficiency of the low-mass blue dwarf galaxy population dominated in the VOICE-CDFS area. |\n",
       "|<p style=\"color:green\"> **ERROR** </p>| <p style=\"color:green\">affiliation error: mpia.affiliation_verifications: 'Heidelberg' keyword not found.</p> |"
      ],
      "text/plain": [
       "<IPython.core.display.Markdown object>"
      ]
     },
     "metadata": {},
     "output_type": "display_data"
    },
    {
     "data": {
      "text/markdown": [
       "\n",
       "|||\n",
       "|---:|:---|\n",
       "| [![arXiv](https://img.shields.io/badge/arXiv-arXiv:2209.04092-b31b1b.svg)](https://arxiv.org/abs/arXiv:2209.04092) | **Webb's PEARLS: Bright 1.5--2.0 micron Dropouts in the Spitzer/IRAC Dark  Field**  |\n",
       "|| Haojing Yan, et al. -- incl., <mark>Heidi B. Hammel</mark> |\n",
       "|*Appeared on*| *2022-09-12*|\n",
       "|*Comments*| *Submitted to ApJL*|\n",
       "|**Abstract**| Using the first epoch of four-band NIRCam observations obtained by the James Webb Space Telescope Prime Extragalactic Areas for Reionization and Lensing Science Program in the Spitzer IRAC Dark Field, we search for F150W and F200W dropouts following the conventional dropout method to select candidate objects at z>11. In 14.2 arcmin^2, we have found 13 F150W dropouts and 8 F200W dropouts, all brighter than 27.5 mag in the band to the red side of the break signature. Most notably, some of these objects are as bright as ~24 mag, which corresponds to M_{UV}<-23 mag at z>11. As they are detected in multiple bands, these must be real objects. If the observed color decrements are due to the expected Lyman break, these objects should be at z>11.7 and z>15.4, respectively. The color diagnostics show that at least 11 F150W dropouts are far away from the usual contaminators encountered in dropout searches (red galaxies at much lower redshifts or brown dwarf stars), and therefore they are legitimate candidates. While the diagnostics of the F200W dropouts are less certain due to the limited number of passbands, at least one of them is not likely a known type of contaminant and the rest are consistent with either z>11 galaxies with evolved stellar populations or old galaxies at z ~ 3 to 8. If a significant fraction of our dropouts are indeed at z>11, we have to face the severe problem of explaining their high luminosities and number densities. Spectroscopic identifications of such objects are urgently needed. |\n",
       "|<p style=\"color:green\"> **ERROR** </p>| <p style=\"color:green\">affiliation error: mpia.affiliation_verifications: 'Heidelberg' keyword not found.</p> |"
      ],
      "text/plain": [
       "<IPython.core.display.Markdown object>"
      ]
     },
     "metadata": {},
     "output_type": "display_data"
    },
    {
     "data": {
      "text/markdown": [
       "\n",
       "|||\n",
       "|---:|:---|\n",
       "| [![arXiv](https://img.shields.io/badge/arXiv-arXiv:2209.04119-b31b1b.svg)](https://arxiv.org/abs/arXiv:2209.04119) | **Webb's PEARLS: Prime Extragalactic Areas for Reionization and Lensing  Science: Project Overview and First Results**  |\n",
       "|| Rogier A. Windhorst, et al. -- incl., <mark>Liang Dai</mark>, <mark>Herve Dole</mark> |\n",
       "|*Appeared on*| *2022-09-12*|\n",
       "|*Comments*| *Submitted to AJ, comments welcome. We ask anyone who uses our public PEARLS (NEP TDF) data to refer to this overview paper*|\n",
       "|**Abstract**| We give an overview and describe the rationale, methods, and first results from NIRCam images of the JWST \"Prime Extragalactic Areas for Reionization and Lensing Science\" (\"PEARLS\") project. PEARLS uses up to eight NIRCam filters to survey several prime extragalactic survey areas: two fields at the North Ecliptic Pole (NEP); seven gravitationally lensing clusters; two high redshift proto-clusters; and the iconic backlit VV~191 galaxy system to map its dust attenuation. PEARLS also includes NIRISS spectra for one of the NEP fields and NIRSpec spectra of two high-redshift quasars. The main goal of PEARLS is to study the epoch of galaxy assembly, AGN growth, and First Light. Five fields, the JWST NEP Time-Domain Field (TDF), IRAC Dark Field (IDF), and three lensing clusters, will be observed in up to four epochs over a year. The cadence and sensitivity of the imaging data are ideally suited to find faint variable objects such as weak AGN, high-redshift supernovae, and cluster caustic transits. Both NEP fields have sightlines through our Galaxy, providing significant numbers of very faint brown dwarfs whose proper motions can be studied. Observations from the first spoke in the NEP TDF are public. This paper presents our first PEARLS observations, their NIRCam data reduction and analysis, our first object catalogs, the 0.9-4.5 $\\mu$m galaxy counts and Integrated Galaxy Light. We assess the JWST sky brightness in 13 NIRCam filters, yielding our first constraints to diffuse light at 0.9-4.5 $\\mu$m. PEARLS is designed to be of lasting benefit to the community. |\n",
       "|<p style=\"color:green\"> **ERROR** </p>| <p style=\"color:green\">affiliation error: mpia.affiliation_verifications: 'Heidelberg' keyword not found.</p> |"
      ],
      "text/plain": [
       "<IPython.core.display.Markdown object>"
      ]
     },
     "metadata": {},
     "output_type": "display_data"
    },
    {
     "data": {
      "text/markdown": [
       "\n",
       "|||\n",
       "|---:|:---|\n",
       "| [![arXiv](https://img.shields.io/badge/arXiv-arXiv:2209.04151-b31b1b.svg)](https://arxiv.org/abs/arXiv:2209.04151) | **A 50 mK test bench for demonstration of the readout chain of  Athena/X-IFU**  |\n",
       "|| Florent Castellani, et al. -- incl., <mark>Joseph Adams</mark>, <mark>Hervé Geoffray</mark> |\n",
       "|*Appeared on*| *2022-09-12*|\n",
       "|*Comments*| *Proceedings-of-the-SPIE-The-International-Society-for-Optical-Engineering SPIE-Int. Soc. Opt. Eng, In press*|\n",
       "|**Abstract**| The X-IFU (X-ray Integral Field Unit) onboard the large ESA mission Athena (Advanced Telescope for High ENergy Astrophysics), planned to be launched in the mid 2030s, will be a cryogenic X-ray imaging spectrometer operating at 55 mK. It will provide unprecedented spatially resolved high-resolution spectroscopy (2.5 eV FWHM up to 7 keV) in the 0.2-12 keV energy range thanks to its array of TES (Transition Edge Sensors) microcalorimeters of more than 2k pixel. The detection chain of the instrument is developed by an international collaboration: the detector array by NASA/GSFC, the cold electronics by NIST, the cold amplifier by VTT, the WFEE (Warm Front-End Electronics) by APC, the DRE (Digital Readout Electronics) by IRAP and a focal plane assembly by SRON. To assess the operation of the complete readout chain of the X-IFU, a 50 mK test bench based on a kilo-pixel array of microcalorimeters from NASA/GSFC has been developed at IRAP in collaboration with CNES. Validation of the test bench has been performed with an intermediate detection chain entirely from NIST and Goddard. Next planned activities include the integration of DRE and WFEE prototypes in order to perform an end-to-end demonstration of a complete X-IFU detection chain. |\n",
       "|<p style=\"color:green\"> **ERROR** </p>| <p style=\"color:green\">affiliation error: mpia.affiliation_verifications: 'Heidelberg' keyword not found.</p> |"
      ],
      "text/plain": [
       "<IPython.core.display.Markdown object>"
      ]
     },
     "metadata": {},
     "output_type": "display_data"
    },
    {
     "data": {
      "text/markdown": [
       "\n",
       "|||\n",
       "|---:|:---|\n",
       "| [![arXiv](https://img.shields.io/badge/arXiv-arXiv:2209.04210-b31b1b.svg)](https://arxiv.org/abs/arXiv:2209.04210) | **Combining Hipparcos and Gaia data for the study of binaries: the BINARYS  tool**  |\n",
       "|| A. Leclerc, et al. -- incl., <mark>F. van Leeuwen</mark> |\n",
       "|*Appeared on*| *2022-09-12*|\n",
       "|*Comments*| **|\n",
       "|**Abstract**| Orbital motion in binary and planetary systems is the main source of precise stellar and planetary mass measurements, and joint analysis of data from multiple observational methods can both lift degeneracies and improve precision. We set out to measure the masses of individual stars in binary systems using all the information brought by the Hipparcos and Gaia absolute astrometric missions. We present BINARYS, a tool which uses the Hipparcos and Gaia absolute astrometric data and combines it with relative astrometry and/or radial velocity measurements to determine the orbit of a binary system. It rigorously combines the Hipparcos and Gaia data (here EDR3), and it can use the Hipparcos Transit Data as needed for binaries where Hipparcos detect significant flux from the secondary component. It also support the case where Gaia resolved the system, giving an astrometric solution for both components. We determine model-independent individual masses for the first time for three systems: the two mature binaries Gl~494 ($M_1=0.584 \\pm 0.003 M_{\\odot}$ and $M_2=87 \\pm 1 M_{\\textrm{Jup}}$) and HIP~88745 ($M_1=0.96 \\pm 0.02 M_{\\odot}$ and $M_2= 0.60^{+ 0.02 }_{- 0.01 } M_{\\odot}$), and the younger AB Dor member GJ~2060 ($M_1=0.60 ^{+ 0.06}_{- 0.05} M_{\\odot}$ and $M_2=0.45 ^{+ 0.06}_{- 0.05}M_{\\odot}$). The latter provides a rare test of evolutionary model predictions at young ages in the low stellar-mass range and sets a lower age limit of 100~Myr for the moving group. |\n",
       "|<p style=\"color:green\"> **ERROR** </p>| <p style=\"color:green\">affiliation error: mpia.affiliation_verifications: 'Heidelberg' keyword not found.</p> |"
      ],
      "text/plain": [
       "<IPython.core.display.Markdown object>"
      ]
     },
     "metadata": {},
     "output_type": "display_data"
    },
    {
     "data": {
      "text/markdown": [
       "\n",
       "|||\n",
       "|---:|:---|\n",
       "| [![arXiv](https://img.shields.io/badge/arXiv-arXiv:2209.04214-b31b1b.svg)](https://arxiv.org/abs/arXiv:2209.04214) | **Hunting for red supergiant binaries: UVIT photometry of the SMC**  |\n",
       "|| L. R. Patrick, et al. -- incl., <mark>N. Langer</mark> |\n",
       "|*Appeared on*| *2022-09-12*|\n",
       "|*Comments*| *IAU Symposium 361 contribution*|\n",
       "|**Abstract**| We present UVIT/Astrosat UV photometry of the RSG population of the Small Cloud galaxy (SMC). As RSGs are extremely faint in the far-UV, these observations directly probe potential companion stars. From a sample of 861 SMC RSGs, we find 88 have detections at far-UV wavelengths: a clear signature of binarity. Stellar parameters are determined for both components, which allows us to study - for the first time - the mass-ratio (q) distribution of RSG binary systems. We find a flat mass-ratio distribution best describes the observations up to M{RSG}~15 Msun. We account for our main observing bias (i.e. the limiting magnitude of the UVIT survey) to determine the intrinsic RSG binary fraction of 18.8+/-1.5 %, for mass-ratios in the range 0.3 < q < 1.0 and orbital periods approximately in the range 3 < log P[ days] < 8. |\n",
       "|<p style=\"color:green\"> **ERROR** </p>| <p style=\"color:green\">affiliation error: mpia.affiliation_verifications: 'Heidelberg' keyword not found.</p> |"
      ],
      "text/plain": [
       "<IPython.core.display.Markdown object>"
      ]
     },
     "metadata": {},
     "output_type": "display_data"
    },
    {
     "data": {
      "text/markdown": [
       "\n",
       "|||\n",
       "|---:|:---|\n",
       "| [![arXiv](https://img.shields.io/badge/arXiv-arXiv:2209.04251-b31b1b.svg)](https://arxiv.org/abs/arXiv:2209.04251) | **What drives decayless kink oscillations in active region coronal loops  on the Sun?**  |\n",
       "|| Sudip Mandal, et al. -- incl., <mark>Phil J. Smith</mark> |\n",
       "|*Appeared on*| *2022-09-12*|\n",
       "|*Comments*| *Accepted for publication in A&A Letters. Event movies can be downloaded from this https URL*|\n",
       "|**Abstract**| We study here the phenomena of decayless kink oscillations in a system of active region (AR) coronal loops. Using high resolution observations from two different instruments, namely the Extreme Ultraviolet Imager (EUI) on board Solar Orbiter and the Atmospheric Imaging Assembly (AIA) on board the Solar Dynamics Observatory, we follow these AR loops for an hour each on three consecutive days. Our results show significantly more resolved decayless waves in the higher-resolution EUI data compared with the AIA data. Furthermore, the same system of loops exhibits many of these decayless oscillations on Day-2, while on Day-3, we detect very few oscillations and on Day-1, we find none at all. Analysis of photospheric magnetic field data reveals that at most times, these loops were rooted in sunspots, where supergranular flows are generally absent. This suggests that supergranular flows, which are often invoked as drivers of decayless waves, are not necessarily driving such oscillations in our observations. Similarly, our findings also cast doubt on other possible drivers of these waves, such as a transient driver or mode conversion of longitudinal waves near the loop footpoints. In conclusion, through our analysis we find that none of the commonly suspected sources proposed to drive decayless oscillations in active region loops seems to be operating in this event and hence, the search for that elusive wave driver needs to continue. |\n",
       "|<p style=\"color:green\"> **ERROR** </p>| <p style=\"color:green\">affiliation error: mpia.affiliation_verifications: 'Heidelberg' keyword not found.</p> |"
      ],
      "text/plain": [
       "<IPython.core.display.Markdown object>"
      ]
     },
     "metadata": {},
     "output_type": "display_data"
    },
    {
     "data": {
      "text/markdown": [
       "\n",
       "|||\n",
       "|---:|:---|\n",
       "| [![arXiv](https://img.shields.io/badge/arXiv-arXiv:2209.04260-b31b1b.svg)](https://arxiv.org/abs/arXiv:2209.04260) | **Search for relativistic fractionally charged particles in space**  |\n",
       "|| DAMPE Collaboration, et al. -- incl., <mark>Y. M. Liang</mark> |\n",
       "|*Appeared on*| *2022-09-12*|\n",
       "|*Comments*| *19 pages, 6 figures, accepted by PRD*|\n",
       "|**Abstract**| More than a century after the performance of the oil drop experiment, the possible existence of fractionally charged particles FCP still remains unsettled. The search for FCPs is crucial for some extensions of the Standard Model in particle physics. Most of the previously conducted searches for FCPs in cosmic rays were based on experiments underground or at high altitudes. However, there have been few searches for FCPs in cosmic rays carried out in orbit other than AMS-01 flown by a space shuttle and BESS by a balloon at the top of the atmosphere. In this study, we conduct an FCP search in space based on on-orbit data obtained using the DArk Matter Particle Explorer (DAMPE) satellite over a period of five years. Unlike underground experiments, which require an FCP energy of the order of hundreds of GeV, our FCP search starts at only a few GeV. An upper limit of $6.2\\times 10^{-10}~~\\mathrm{cm^{-2}sr^{-1} s^{-1}}$ is obtained for the flux. Our results demonstrate that DAMPE exhibits higher sensitivity than experiments of similar types by three orders of magnitude that more stringently restricts the conditions for the existence of FCP in primary cosmic rays. |\n",
       "|<p style=\"color:green\"> **ERROR** </p>| <p style=\"color:green\">affiliation error: mpia.affiliation_verifications: 'Heidelberg' keyword not found.</p> |"
      ],
      "text/plain": [
       "<IPython.core.display.Markdown object>"
      ]
     },
     "metadata": {},
     "output_type": "display_data"
    },
    {
     "data": {
      "text/markdown": [
       "\n",
       "|||\n",
       "|---:|:---|\n",
       "| [![arXiv](https://img.shields.io/badge/arXiv-arXiv:2209.04282-b31b1b.svg)](https://arxiv.org/abs/arXiv:2209.04282) | **Nano-grain depletion in photon-dominated regions**  |\n",
       "|| <mark>T. Schirmer</mark>, et al. |\n",
       "|*Appeared on*| *2022-09-12*|\n",
       "|*Comments*| **|\n",
       "|**Abstract**| Context. Carbonaceous nano-grains play a fundamental role in the physico-chemistry of the interstellar medium (ISM) and especially of photon-dominated regions (PDRs). Their properties vary with the local physical conditions and affect the local chemistry and dynamics. Aims. We aim to highlight the evolution of carbonaceous nano-grains in three different PDRs and propose a scenario of dust evolution as a response to the physical conditions. Methods. We used Spitzer/IRAC (3.6, 4.5, 5.8, and 8 $\\mu$m) and Spitzer/MIPS (24 $\\mu$m) together with Herschel/PACS (70 $\\mu$m) to map dust emission in IC63 and the Orion Bar. To assess the dust properties, we modelled the dust emission in these regions using the radiative transfer code SOC together with the THEMIS dust model. Results. Regardless of the PDR, we find that nano-grains are depleted and that their minimum size is larger than in the diffuse ISM (DISM), which suggests that the mechanisms that lead nano-grains to be photo-destroyed are very efficient below a given critical size limit. The evolution of the nano-grain dust-to-gas mass ratio with both G0 and the effective temperature of the illuminating star indicates a competition between the nano-grain formation through the fragmentation of larger grains and nano-grain photo-destruction. We modelled dust collisions driven by radiative pressure with a classical 1D approach to show that this is a viable scenario for explaining nano-grain formation through fragmentation and, thus, the variations observed in nano-grain dust-to-gas mass ratios from one PDR to another. Conclusions. We find a broad variation in the nano-grain dust properties from one PDR to another, along with a general trend of nano-grain depletion in these regions. We propose a viable scenario of nano-grain formation through fragmentation of large grains due to radiative pressure-induced collisions. |\n",
       "|<p style=\"color:green\"> **ERROR** </p>| <p style=\"color:green\">affiliation error: mpia.affiliation_verifications: 'Heidelberg' keyword not found.</p> |"
      ],
      "text/plain": [
       "<IPython.core.display.Markdown object>"
      ]
     },
     "metadata": {},
     "output_type": "display_data"
    },
    {
     "data": {
      "text/markdown": [
       "\n",
       "|||\n",
       "|---:|:---|\n",
       "| [![arXiv](https://img.shields.io/badge/arXiv-arXiv:2209.04310-b31b1b.svg)](https://arxiv.org/abs/arXiv:2209.04310) | **Constraining $νΛ$CDM with density-split clustering**  |\n",
       "|| Enrique Paillas, et al. -- incl., <mark>Arnaud de Mattia</mark> |\n",
       "|*Appeared on*| *2022-09-12*|\n",
       "|*Comments*| *Submitted to MNRAS. Source code for all figures in the paper is provided in the captions*|\n",
       "|**Abstract**| The dependence of galaxy clustering on local density provides an effective method for extracting non-Gaussian information from galaxy surveys. The two-point correlation function (2PCF) provides a complete statistical description of a Gaussian density field. However, the late-time density field becomes non-Gaussian due to non-linear gravitational evolution and higher-order summary statistics are required to capture all of its cosmological information. Using a Fisher formalism based on halo catalogues from the Quijote simulations, we explore the possibility of retrieving this information using the density-split clustering (DS) method, which combines clustering statistics from regions of different environmental density. We show that DS provides more precise constraints on the parameters of the $\\nu \\Lambda$CDM model compared to the 2PCF, and we provide suggestions for where the extra information may come from. DS improves the constraints on the sum of neutrino masses by a factor of $8$ and by factors of 5, 3, 4, 6, and 6 for $\\Omega_m$, $\\Omega_b$, $h$, $n_s$, and $\\sigma_8$, respectively. We compare DS statistics when the local density environment is estimated from the real or redshift-space positions of haloes. The inclusion of DS autocorrelation functions, in addition to the cross-correlation functions between DS environments and haloes, recovers most of the information that is lost when using the redshift-space halo positions to estimate the environment. We discuss the possibility of constructing simulation-based methods to model DS clustering statistics in different scenarios. |\n",
       "|<p style=\"color:green\"> **ERROR** </p>| <p style=\"color:green\">affiliation error: mpia.affiliation_verifications: 'Heidelberg' keyword not found.</p> |"
      ],
      "text/plain": [
       "<IPython.core.display.Markdown object>"
      ]
     },
     "metadata": {},
     "output_type": "display_data"
    },
    {
     "data": {
      "text/markdown": [
       "\n",
       "|||\n",
       "|---:|:---|\n",
       "| [![arXiv](https://img.shields.io/badge/arXiv-arXiv:2209.04369-b31b1b.svg)](https://arxiv.org/abs/arXiv:2209.04369) | **Higgsless simulations of cosmological phase transitions and  gravitational waves**  |\n",
       "|| Ryusuke Jinno, Thomas Konstandin, <mark>Henrique Rubira</mark>, Isak Stomberg |\n",
       "|*Appeared on*| *2022-09-12*|\n",
       "|*Comments*| *30 pages, 10 figures*|\n",
       "|**Abstract**| First-order cosmological phase transitions in the early Universe source sound waves and, subsequently, a background of stochastic gravitational waves. Currently, predictions of these gravitational waves rely heavily on simulations of a Higgs field coupled to the plasma of the early Universe, the former providing the latent heat of the phase transition. Numerically, this is a rather demanding task since several length scales enter the dynamics. From smallest to largest, these are the thickness of the Higgs interface separating the different phases, the shell thickness of the sound waves, and the average bubble size. In this work, we present an approach to perform Higgsless simulations in three dimensions, producing fully nonlinear results, while at the same time removing the hierarchically smallest scale from the lattice. This significantly reduces the complexity of the problem and contributes to making our approach highly efficient. We provide spectra for the produced gravitational waves for various choices of wall velocity and strength of the phase transition, as well as introduce a fitting function for the spectral shape. |\n",
       "|<p style=\"color:green\"> **ERROR** </p>| <p style=\"color:green\">affiliation error: mpia.affiliation_verifications: 'Heidelberg' keyword not found.</p> |"
      ],
      "text/plain": [
       "<IPython.core.display.Markdown object>"
      ]
     },
     "metadata": {},
     "output_type": "display_data"
    },
    {
     "data": {
      "text/markdown": [
       "\n",
       "|||\n",
       "|---:|:---|\n",
       "| [![arXiv](https://img.shields.io/badge/arXiv-arXiv:2209.04343-b31b1b.svg)](https://arxiv.org/abs/arXiv:2209.04343) | **The relation between the Mass Accretion Rate and the Disk Mass in Class  I Protostars**  |\n",
       "|| Eleonora Fiorellino, et al. -- incl., <mark>Agnes Kospal</mark> |\n",
       "|*Appeared on*| *2022-09-12*|\n",
       "|*Comments*| **|\n",
       "|**Abstract**| The evidence of a relation between the mass accretion rate and the disk mass is established for young, Class II pre-main sequence stars. This observational result opened an avenue to test theoretical models and constrain the initial conditions of the disk formation, fundamental in the understanding of the emergence of planetary systems. However, it is becoming clear that the planet formation starts even before the Class II stage, in disks around Class 0 and I protostars. We show for the first time evidence for a correlation between the mass accretion rate and the disk mass for a large sample of Class I young stars located in nearby (< 500 pc) star-forming regions. We fit our sample, finding that the Class I objects relation has a slope flatter than Class II stars, and have higher mass accretion rates and disk masses. The results are put in context of the disk evolution models. |\n",
       "|<p style=\"color:red\"> **ERROR** </p>| <p style=\"color:red\">latex error Could not find figure ColCol_diag_XW.png</p> |"
      ],
      "text/plain": [
       "<IPython.core.display.Markdown object>"
      ]
     },
     "metadata": {},
     "output_type": "display_data"
    },
    {
     "data": {
      "text/markdown": [
       "\n",
       "|||\n",
       "|---:|:---|\n",
       "| [![arXiv](https://img.shields.io/badge/arXiv-arXiv:2209.04165-b31b1b.svg)](https://arxiv.org/abs/arXiv:2209.04165) | **Open questions in massive star research**  |\n",
       "|| <mark>N. Langer</mark> |\n",
       "|*Appeared on*| *2022-09-12*|\n",
       "|*Comments*| *to appear in Proceedings for IAU Symposium 361: Massive Stars Near and Far, held in Ballyconnell, Ireland, 9-13 May 2022, N. St-Louis, J. S. Vink & J. Mackey, eds*|\n",
       "|**Abstract**| In discussing open question in the field of massive stars, I consider their evolution from birth to death. After touching upon massive star formation, which may be bi-modal and not lead to a zero-age main sequence at the highest masses, I consider the consequences of massive stars being close to their Eddington limit. Then, when discussing the effects of a binary companion, I highlight the importance of massive Algols and contact binaries for understanding the consequences of mass transfer, and the role of binaries in forming Wolf-Rayet stars. Finally, a discussion on pair instability supernovae and of superluminous supernovae is provided. |\n",
       "|<p style=\"color:red\"> **ERROR** </p>| <p style=\"color:red\">latex error not a gzip file</p> |"
      ],
      "text/plain": [
       "<IPython.core.display.Markdown object>"
      ]
     },
     "metadata": {},
     "output_type": "display_data"
    }
   ],
   "source": [
    "import datetime\n",
    "today = str(datetime.date.today())\n",
    "logfile = f\"_build/html/logs/log-{today}.md\"\n",
    "\n",
    "\n",
    "with open(logfile, 'w') as logs:\n",
    "    # Success\n",
    "    logs.write(f'# Arxiv on Deck 2: Logs - {today}\\n\\n')\n",
    "    logs.write(\"\"\"* Arxiv had {0:,d} new papers\\n\"\"\".format(len(new_papers)))\n",
    "    logs.write(\"\"\"    * {0:,d} with possible author matches\\n\\n\"\"\".format(len(candidates)))\n",
    "    logs.write(\"## Sucessful papers\\n\\n\")\n",
    "    display(Markdown(\"## Successful papers\"))\n",
    "    success = [k[0] for k in documents]\n",
    "    for candid in candidates:\n",
    "        if candid['identifier'].split(':')[-1] in success:\n",
    "            display(candid)\n",
    "            logs.write(candid.generate_markdown_text() + '\\n\\n')\n",
    "\n",
    "    ## failed\n",
    "    logs.write(\"## Failed papers\\n\\n\")\n",
    "    display(Markdown(\"## Failed papers\"))\n",
    "    failed = sorted(failed, key=lambda x: x[1])\n",
    "    current_reason = \"\"\n",
    "    for paper, reason in failed:\n",
    "        if 'affiliation' in reason:\n",
    "            color = 'green'\n",
    "        else:\n",
    "            color = 'red'\n",
    "        data = Markdown(\n",
    "                paper.generate_markdown_text() + \n",
    "                f'\\n|<p style=\"color:{color:s}\"> **ERROR** </p>| <p style=\"color:{color:s}\">{reason:s}</p> |'\n",
    "               )\n",
    "        if reason != current_reason:\n",
    "            logs.write(f'### {reason:s} \\n\\n')\n",
    "            current_reason = reason\n",
    "        logs.write(data.data + '\\n\\n')\n",
    "        \n",
    "        # only display here the important errors (all in logs)\n",
    "        # if color in ('red',):\n",
    "        display(data)"
   ]
  },
  {
   "cell_type": "markdown",
   "id": "472d20ee",
   "metadata": {
    "papermill": {
     "duration": 0.009036,
     "end_time": "2022-09-12T05:22:14.917485",
     "exception": false,
     "start_time": "2022-09-12T05:22:14.908449",
     "status": "completed"
    },
    "tags": []
   },
   "source": [
    "## Export documents\n",
    "\n",
    "We now write the .md files and export relevant images"
   ]
  },
  {
   "cell_type": "code",
   "execution_count": 7,
   "id": "d426aed9",
   "metadata": {
    "execution": {
     "iopub.execute_input": "2022-09-12T05:22:14.937025Z",
     "iopub.status.busy": "2022-09-12T05:22:14.936489Z",
     "iopub.status.idle": "2022-09-12T05:22:14.943817Z",
     "shell.execute_reply": "2022-09-12T05:22:14.943305Z"
    },
    "papermill": {
     "duration": 0.019028,
     "end_time": "2022-09-12T05:22:14.945334",
     "exception": false,
     "start_time": "2022-09-12T05:22:14.926306",
     "status": "completed"
    },
    "tags": []
   },
   "outputs": [],
   "source": [
    "def export_markdown_summary(md: str, md_fname:str, directory: str):\n",
    "    \"\"\"Export MD document and associated relevant images\"\"\"\n",
    "    import os\n",
    "    import shutil\n",
    "    import re\n",
    "\n",
    "    if (os.path.exists(directory) and not os.path.isdir(directory)):\n",
    "        raise RuntimeError(f\"a non-directory file exists with name {directory:s}\")\n",
    "\n",
    "    if (not os.path.exists(directory)):\n",
    "        print(f\"creating directory {directory:s}\")\n",
    "        os.mkdir(directory)\n",
    "\n",
    "    fig_fnames = (re.compile(r'\\[Fig.*\\]\\((.*)\\)').findall(md) + \n",
    "                  re.compile(r'\\<img src=\"([^>\\s]*)\"[^>]*/>').findall(md))\n",
    "    for fname in fig_fnames:\n",
    "        if 'http' in fname:\n",
    "            # No need to copy online figures\n",
    "            continue\n",
    "        destdir = os.path.join(directory, os.path.dirname(fname))\n",
    "        destfname = os.path.join(destdir, os.path.basename(fname))\n",
    "        try:\n",
    "            os.makedirs(destdir)\n",
    "        except FileExistsError:\n",
    "            pass\n",
    "        shutil.copy(fname, destfname)\n",
    "    with open(os.path.join(directory, md_fname), 'w') as fout:\n",
    "        fout.write(md)\n",
    "    print(\"exported in \", os.path.join(directory, md_fname))\n",
    "    [print(\"    + \" + os.path.join(directory,fk)) for fk in fig_fnames]"
   ]
  },
  {
   "cell_type": "code",
   "execution_count": 8,
   "id": "014d04a4",
   "metadata": {
    "execution": {
     "iopub.execute_input": "2022-09-12T05:22:14.965003Z",
     "iopub.status.busy": "2022-09-12T05:22:14.964554Z",
     "iopub.status.idle": "2022-09-12T05:22:14.971694Z",
     "shell.execute_reply": "2022-09-12T05:22:14.971046Z"
    },
    "papermill": {
     "duration": 0.018764,
     "end_time": "2022-09-12T05:22:14.973196",
     "exception": false,
     "start_time": "2022-09-12T05:22:14.954432",
     "status": "completed"
    },
    "tags": []
   },
   "outputs": [
    {
     "name": "stdout",
     "output_type": "stream",
     "text": [
      "exported in  _build/html/2209.04304.md\n",
      "    + _build/html/tmp_2209.04304/./veiling_time_mine_Av_mean_peter.png\n",
      "    + _build/html/tmp_2209.04304/./Lacc_time_Av_mean_peter.png\n",
      "    + _build/html/tmp_2209.04304/./Lacc_Lstar_comparison_Av_mean_peter.png\n",
      "    + _build/html/tmp_2209.04304/./wxcha_lc_period.png\n"
     ]
    }
   ],
   "source": [
    "for paper_id, md in documents:\n",
    "    export_markdown_summary(md, f\"{paper_id:s}.md\", '_build/html/')"
   ]
  },
  {
   "cell_type": "markdown",
   "id": "f087a0a7",
   "metadata": {
    "papermill": {
     "duration": 0.00906,
     "end_time": "2022-09-12T05:22:14.991252",
     "exception": false,
     "start_time": "2022-09-12T05:22:14.982192",
     "status": "completed"
    },
    "tags": []
   },
   "source": [
    "## Display the papers\n",
    "\n",
    "Not necessary but allows for a quick check."
   ]
  },
  {
   "cell_type": "code",
   "execution_count": 9,
   "id": "fd25f625",
   "metadata": {
    "execution": {
     "iopub.execute_input": "2022-09-12T05:22:15.011222Z",
     "iopub.status.busy": "2022-09-12T05:22:15.010917Z",
     "iopub.status.idle": "2022-09-12T05:22:15.022373Z",
     "shell.execute_reply": "2022-09-12T05:22:15.021772Z"
    },
    "papermill": {
     "duration": 0.023965,
     "end_time": "2022-09-12T05:22:15.024207",
     "exception": false,
     "start_time": "2022-09-12T05:22:15.000242",
     "status": "completed"
    },
    "scrolled": false,
    "tags": []
   },
   "outputs": [
    {
     "data": {
      "text/markdown": [
       "<div class=\"macros\" style=\"visibility:hidden;\">\n",
       "$\\newcommand{\\ensuremath}{}$\n",
       "$\\newcommand{\\xspace}{}$\n",
       "$\\newcommand{\\object}[1]{\\texttt{#1}}$\n",
       "$\\newcommand{\\farcs}{{.}''}$\n",
       "$\\newcommand{\\farcm}{{.}'}$\n",
       "$\\newcommand{\\arcsec}{''}$\n",
       "$\\newcommand{\\arcmin}{'}$\n",
       "$\\newcommand{\\ion}[2]{#1#2}$\n",
       "$\\newcommand{\\textsc}[1]{\\textrm{#1}}$\n",
       "$\\newcommand{\\hl}[1]{\\textrm{#1}}$\n",
       "$\\newcommand{\\vdag}{(v)^\\dagger}$\n",
       "$\\newcommand$\n",
       "$\\newcommand$\n",
       "$\\newcommand{\\avWX}{2.75\\pm0.75}$\n",
       "$\\newcommand{\\lsun}{\\mbox{L}_\\odot}$\n",
       "$\\newcommand{\\rsun}{\\mbox{R}_\\odot}$\n",
       "$\\newcommand{\\msun}{\\mbox{M}_\\odot}$\n",
       "$\\newcommand{\\lacc}{L_{\\rm acc}}$\n",
       "$\\newcommand{\\macc}{\\dot{M}_{\\rm acc}}$\n",
       "$\\newcommand{\\lstar}{L_\\star}$\n",
       "$\\newcommand{\\mstar}{M_\\star}$\n",
       "$\\newcommand{\\rstar}{R_\\star}$\n",
       "$\\newcommand{\\teff}{T_{\\rm eff}}$\n",
       "$\\newcommand{\\lbol}{L_{\\rm bol}}$\n",
       "$\\newcommand{\\zsg}[1]{\\textcolor{green}{[GZs: #1]}}$</div>\n",
       "\n",
       "<div class=\"macros\" style=\"visibility:hidden;\">\n",
       "$\\newcommand{$\\ensuremath$}{}$\n",
       "$\\newcommand{$\\xspace$}{}$\n",
       "$\\newcommand{$\\object$}[1]{\\texttt{#1}}$\n",
       "$\\newcommand{$\\farcs$}{{.}''}$\n",
       "$\\newcommand{$\\farcm$}{{.}'}$\n",
       "$\\newcommand{$\\arcsec$}{''}$\n",
       "$\\newcommand{$\\arcmin$}{'}$\n",
       "$\\newcommand{$\\ion$}[2]{#1#2}$\n",
       "$\\newcommand{$\\textsc$}[1]{\\textrm{#1}}$\n",
       "$\\newcommand{$\\hl$}[1]{\\textrm{#1}}$\n",
       "$\\newcommand{$\\vdag$}{(v)^\\dagger}$\n",
       "$\\newcommand$\n",
       "$\\newcommand$\n",
       "$\\newcommand{$\\avWX$}{2.75\\pm0.75}$\n",
       "$\\newcommand{$\\lsun$}{\\mbox{L}_\\odot}$\n",
       "$\\newcommand{$\\rsun$}{\\mbox{R}_\\odot}$\n",
       "$\\newcommand{$\\msun$}{\\mbox{M}_\\odot}$\n",
       "$\\newcommand{$\\lacc$}{L_{\\rm acc}}$\n",
       "$\\newcommand{$\\macc$}{\\dot{M}_{\\rm acc}}$\n",
       "$\\newcommand{$\\lstar$}{L_\\star}$\n",
       "$\\newcommand{$\\mstar$}{M_\\star}$\n",
       "$\\newcommand{$\\rstar$}{R_\\star}$\n",
       "$\\newcommand{$\\teff$}{T_{\\rm eff}}$\n",
       "$\\newcommand{$\\lbol$}{L_{\\rm bol}}$\n",
       "$\\newcommand{$\\zsg$}[1]{\\textcolor{green}{[GZs: #1]}}$</div>\n",
       "\n",
       "\n",
       "\n",
       "<div id=\"title\">\n",
       "\n",
       "# Based on observations collected at the European Southern Observatory under ESO programmes 2103.C-5025, 0103.A-9008, and 0100.C-0708(A).\n",
       "\n",
       "</div>\n",
       "<div id=\"comments\">\n",
       "\n",
       "[![arXiv](https://img.shields.io/badge/arXiv-2209.04304-b31b1b.svg)](https://arxiv.org/abs/2209.04304)<mark>Appeared on: 2022-09-12</mark> - __\n",
       "\n",
       "</div>\n",
       "<div id=\"authors\">\n",
       "\n",
       "Eleonora Fiorellino, et al.\n",
       "\n",
       "</div>\n",
       "<div id=\"abstract\">\n",
       "\n",
       "**Abstract:** Light curves of young star systems show photometric variability due to different kinematic, and physical processes.  One of the main contributors to the photometric variability is the changing mass accretion rate, which regulates the interplay between the forming young star and the protoplanetary disk.  We collected high-resolution spectroscopy in eight different epochs, as well as ground-based and space-borne multi-epoch optical and infrared photometry of WX Cha, an M0 binary system, with an almost edge-on disk ($i =87^\\circ$) in the Chamaeleon I star-forming region.  Spectroscopic observations cover 72 days, the ground-based optical monitoring covers 42 days while space-borne TESS photometry extends for 56 days.  The multi-wavelength light curves exhibit quasi-periodic variability of$0.35-0.53$mag in the near-infrared, and of 1.3 mag in$g$band. We studied the variability of selected emission lines that trace the accretion, computed the accretion luminosity and the mass accretion rate using empirical relations and obtained values between$\\lacc \\sim 1.6   $\\lsun$   -   3.2   $\\lsun$$and$\\macc \\sim 3.31 \\times 10^{-7}  $\\msun$/{\\rm yr}   -   7.76 \\times 10^{-7}$$\\msun/$yr.  Our results show that WX Cha is accreting at a rate larger than what is typical for T Tauri stars in the same star-forming region with the same stellar parameters. We theorize that this is due to the higher disk mass of WX Cha than what is usual for stars with similar stellar mass, and to the binary nature of the system.  Daily changes in the accretion luminosity and in the extinction can explain the photometric variability.\n",
       "\n",
       "</div>\n",
       "\n",
       "<div id=\"div_fig1\">\n",
       "\n",
       "<img src=\"tmp_2209.04304/./veiling_time_mine_Av_mean_peter.png\" alt=\"Fig3.1\" width=\"50%\"/><img src=\"tmp_2209.04304/./Lacc_time_Av_mean_peter.png\" alt=\"Fig3.2\" width=\"50%\"/>\n",
       "\n",
       "**Figure 3. -** {\\it Top}: Absolute veiling measurements for WX Cha.\n",
       "    {\\it Bottom}: The accretion luminosity and the mass accretion rate as a function of the time. The filled circles represent accretion rates computed by using the mean value ($A_V = 3.4 \\pm 0.2$). The filled squares represent the accretion rates computed by using the exact value of the extinction for that epoch (see Tab. \\ref{tab:Av}). (*fig:veiling*)\n",
       "\n",
       "</div>\n",
       "<div id=\"div_fig2\">\n",
       "\n",
       "<img src=\"tmp_2209.04304/./Lacc_Lstar_comparison_Av_mean_peter.png\" alt=\"Fig4\" width=\"100%\"/>\n",
       "\n",
       "**Figure 4. -** {\\it Top}: Accretion luminosity as a function of the stellar luminosity. {\\it Bottom}: Mass accretion rate as a function of the stellar mass. Black stars show Cha I CTTS sample \\citep[][]{manaraPPVII}. In particular, the star with error bar corresponds to WX Cha.\n",
       "    Yellow, purple, blue and dark green circles correspond to CR Cha, VW Cha, DR Tau, and RW Tau accretion rates \\citep[][respectively]{zsidi2022, zsidi2022vwcha, giannini2022, facchini2016}. WX Cha accretion rates computed in this work are shown in hexagons, each epoch is identified by the a different color as labelled in the legend. The black cross on the bottom-right of the plot represent the uncertainty for Cha I CTTS sources. The uncertainties smaller than the symbol size are not presented. Dashed-dotted lines and the grey regions represent the best fit of Cha I sources and the relative $1\\sigma$ dispersion. \\label{fig:acc_stellarpar} (*fig:acc_stellarpar*)\n",
       "\n",
       "</div>\n",
       "<div id=\"div_fig3\">\n",
       "\n",
       "<img src=\"tmp_2209.04304/./wxcha_lc_period.png\" alt=\"Fig6\" width=\"100%\"/>\n",
       "\n",
       "**Figure 6. -** The 2019 (top panel) TESS light curve is indicated with black dots, and the contemporaneous ASAS SN $g$ band light curve is shown with green points. SMARTS $I$-band (red), $J$(pink), $H$(bordeaux), and $K$(brown) light curves are also added.\n",
       "    Vertical dashed lines correspond to epochs when ESPRESSO (orange) and FEROS (magenta) spectra were taken. Since Epoch 2 (FEROS) and 3 (ESPRESSO) were taken during the same night, so these epochs are superimposed in the figure.\n",
       "    The blue line (bottom panel) shows the Lomb-Scargle periodogram obtained using the 2019 TESS data. Points of the same light curve are linked with dashed lines only to help the reader follow each light curve. Horizontal lines represent false alarm probabilities of 1\\%, and 0.01\\%, respectively. (*fig:lc_period*)\n",
       "\n",
       "</div>"
      ],
      "text/plain": [
       "<IPython.core.display.Markdown object>"
      ]
     },
     "metadata": {},
     "output_type": "display_data"
    }
   ],
   "source": [
    "[display(Markdown(k[1])) for k in documents];"
   ]
  },
  {
   "cell_type": "markdown",
   "id": "873873a4",
   "metadata": {
    "papermill": {
     "duration": 0.009603,
     "end_time": "2022-09-12T05:22:15.043574",
     "exception": false,
     "start_time": "2022-09-12T05:22:15.033971",
     "status": "completed"
    },
    "tags": []
   },
   "source": [
    "# Create HTML index"
   ]
  },
  {
   "cell_type": "code",
   "execution_count": 10,
   "id": "cf665672",
   "metadata": {
    "execution": {
     "iopub.execute_input": "2022-09-12T05:22:15.064875Z",
     "iopub.status.busy": "2022-09-12T05:22:15.064031Z",
     "iopub.status.idle": "2022-09-12T05:22:15.072114Z",
     "shell.execute_reply": "2022-09-12T05:22:15.071399Z"
    },
    "papermill": {
     "duration": 0.020171,
     "end_time": "2022-09-12T05:22:15.073612",
     "exception": false,
     "start_time": "2022-09-12T05:22:15.053441",
     "status": "completed"
    },
    "tags": []
   },
   "outputs": [
    {
     "name": "stdout",
     "output_type": "stream",
     "text": [
      "30  publications in the last 7 days.\n",
      "\t _build/html/2209.04304.md\n",
      "\t _build/html/2209.03367.md\n",
      "\t _build/html/2209.02872.md\n",
      "\t _build/html/2209.02725.md\n",
      "\t _build/html/2209.02722.md\n",
      "\t _build/html/2209.02092.md\n",
      "\t _build/html/2209.01125.md\n",
      "\t _build/html/2209.00828.md\n",
      "\t _build/html/2209.00363.md\n",
      "\t _build/html/2208.14927.md\n",
      "\t _build/html/2208.09335.md\n",
      "\t _build/html/2208.08872.md\n",
      "\t _build/html/2204.06393.md\n",
      "\t _build/html/2204.03335.md\n",
      "\t _build/html/2204.03253.md\n",
      "\t _build/html/2204.02998.md\n",
      "\t _build/html/2204.02109.md\n",
      "\t _build/html/2204.02017.md\n",
      "\t _build/html/2204.01824.md\n",
      "\t _build/html/2204.01758.md\n",
      "\t _build/html/2204.01245.md\n",
      "\t _build/html/2204.00793.md\n",
      "\t _build/html/2204.00342.md\n",
      "\t _build/html/2203.16959.md\n",
      "\t _build/html/2203.16856.md\n",
      "\t _build/html/2203.16735.md\n",
      "\t _build/html/2203.16734.md\n",
      "\t _build/html/2203.16504.md\n",
      "\t _build/html/2203.15822.md\n",
      "\t _build/html/2203.15811.md\n"
     ]
    }
   ],
   "source": [
    "from datetime import datetime, timedelta, timezone\n",
    "from glob import glob\n",
    "\n",
    "files = glob('_build/html/*.md')\n",
    "days = 7\n",
    "now = datetime.today()\n",
    "res = []\n",
    "for fk in files:\n",
    "    stat_result = os.stat(fk).st_ctime\n",
    "    modified = datetime.fromtimestamp(stat_result, tz=timezone.utc).replace(tzinfo=None)\n",
    "    delta = now.today() - modified\n",
    "    if delta <= timedelta(days=days):\n",
    "        res.append((delta.seconds, fk))\n",
    "res = [k[1] for k in reversed(sorted(res, key=lambda x:x[1]))]\n",
    "npub = len(res)\n",
    "print(len(res), f\" publications in the last {days:d} days.\")\n",
    "[ print('\\t', k) for k in res ];"
   ]
  },
  {
   "cell_type": "code",
   "execution_count": 11,
   "id": "52ca0208",
   "metadata": {
    "execution": {
     "iopub.execute_input": "2022-09-12T05:22:15.092234Z",
     "iopub.status.busy": "2022-09-12T05:22:15.091750Z",
     "iopub.status.idle": "2022-09-12T05:22:15.098809Z",
     "shell.execute_reply": "2022-09-12T05:22:15.098137Z"
    },
    "papermill": {
     "duration": 0.018149,
     "end_time": "2022-09-12T05:22:15.100327",
     "exception": false,
     "start_time": "2022-09-12T05:22:15.082178",
     "status": "completed"
    },
    "scrolled": false,
    "tags": []
   },
   "outputs": [],
   "source": [
    "def create_carousel(npub=4):\n",
    "    \"\"\" Generate the HTML code for a carousel with `npub` slides \"\"\"\n",
    "    carousel = [\"\"\"<section class=\"carousel\" aria-label=\"Gallery\">\"\"\",\n",
    "                \"\"\"  <ol class=\"carousel__viewport\">\"\"\",\n",
    "    ]\n",
    "    for k in range(1, npub + 1):\n",
    "        prev_ = k - 1\n",
    "        next_ = k + 1\n",
    "        if prev_ <= 0:\n",
    "            prev_ = npub\n",
    "        if next_ > npub:\n",
    "            next_ = 1\n",
    "        text  = f\"\"\"    <li id=\"carousel__slide{k}\" tabindex=\"0\" class=\"carousel__slide\">\\n\"\"\"\n",
    "        text += f\"\"\"       <div class=\"carousel__snapper\">\\n\"\"\"\n",
    "        text += f\"\"\"         <a href=\"#carousel__slide{prev_}\" class=\"carousel__prev\">Go to previous slide</a>\\n\"\"\"\n",
    "        text += f\"\"\"         <a href=\"#carousel__slide{next_}\" class=\"carousel__next\">Go to next slide</a>\\n\"\"\"\n",
    "        text += f\"\"\"         <div id=\"slide{k}_content\" class=\"md_view\" >Content {k}</div>\\n\"\"\"\n",
    "        text += f\"\"\"       </div>\\n\"\"\"\n",
    "        text += f\"\"\"    </li>\"\"\"\n",
    "        carousel.append(text)\n",
    "\n",
    "    carousel.extend([\n",
    "        \"\"\"  </ol>\"\"\",\n",
    "        \"\"\"  <aside class=\"carousel__navigation\">\"\"\",\n",
    "        \"\"\"    <ol class=\"carousel__navigation-list\">\"\"\"])\n",
    "\n",
    "    for k in range(1, npub + 1):\n",
    "        text  = f\"\"\"      <li class=\"carousel__navigation-item\">\\n\"\"\"\n",
    "        text += f\"\"\"        <a href=\"#carousel__slide{k}\" class=\"carousel__navigation-button\">Go to {k}</a>\\n\"\"\"\n",
    "        text += f\"\"\"      </li>\"\"\"\n",
    "        carousel.append(text)\n",
    "    carousel.extend([\"\"\"    </ol>\"\"\", \"\"\"  </aside>\"\"\", \"\"\"</section>\"\"\"])\n",
    "\n",
    "    return '\\n'.join(carousel)"
   ]
  },
  {
   "cell_type": "code",
   "execution_count": 12,
   "id": "a6eac5b6",
   "metadata": {
    "execution": {
     "iopub.execute_input": "2022-09-12T05:22:15.122122Z",
     "iopub.status.busy": "2022-09-12T05:22:15.121842Z",
     "iopub.status.idle": "2022-09-12T05:22:15.129165Z",
     "shell.execute_reply": "2022-09-12T05:22:15.128530Z"
    },
    "papermill": {
     "duration": 0.022064,
     "end_time": "2022-09-12T05:22:15.130853",
     "exception": false,
     "start_time": "2022-09-12T05:22:15.108789",
     "status": "completed"
    },
    "scrolled": false,
    "tags": []
   },
   "outputs": [],
   "source": [
    "carousel = create_carousel(npub)\n",
    "docs = ', '.join(['\"{0:s}\"'.format(k.split('/')[-1]) for k in res])\n",
    "slides = ', '.join([f'\"slide{k}_content\"' for k in range(1, npub + 1)])\n",
    "\n",
    "script = f\"\"\"\n",
    "const docs = [{docs}]\n",
    "\n",
    "const slides = [{slides}]\n",
    "\"\"\" + \"\"\"\n",
    "async function run() {\n",
    "    for (let i = 0; i < docs.length; i++) {\n",
    "        let file = await fetch(docs[i]);\n",
    "        let text = await file.text()\n",
    "        document.getElementById(slides[i]).innerHTML =\n",
    "            marked.parse(text);\n",
    "    }\n",
    "    hljs.highlightAll();\n",
    "}\n",
    "run()\n",
    "\"\"\"\n",
    "\n",
    "page = f\"\"\"<!doctype html>\n",
    "<html lang=\"en\">\n",
    "\n",
    "<head>\n",
    "  <meta charset=\"utf-8\">\n",
    "  <meta name=\"viewport\" content=\"width=device-width, initial-scale=1\">\n",
    "  <!-- Bootstrap CSS -->\n",
    "  <link href=\"https://cdn.jsdelivr.net/npm/bootstrap@5.0.2/dist/css/bootstrap.min.css\" rel=\"stylesheet\"\n",
    "   integrity=\"sha384-EVSTQN3/azprG1Anm3QDgpJLIm9Nao0Yz1ztcQTwFspd3yD65VohhpuuCOmLASjC\" crossorigin=\"anonymous\">\n",
    "  <!-- highlight.js CSS -->\n",
    "  <link rel=\"stylesheet\" href=\"https://cdnjs.cloudflare.com/ajax/libs/highlight.js/11.1.0/styles/default.min.css\">\n",
    "  <!-- Mathjax 3 -->\n",
    "  <script type=\"text/javascript\" id=\"MathJax-config\" src=\"mathjax_config.js\"> </script>\n",
    "  <script type=\"text/javascript\" id=\"MathJax-script\" async \n",
    "    src=\"https://cdn.jsdelivr.net/npm/mathjax@3/es5/tex-mml-chtml.js\">\n",
    "  </script>\n",
    "  <link rel=\"stylesheet\" href=\"index_carousel.css\">\n",
    "  <link rel=\"icon\" type=\"image/x-icon\" href=\"https://www.mpia.de/assets/touch-icon-32x32-a66937bcebc4e8894ebff1f41a366c7c7220fd97a38869ee0f2db65a9f59b6c1.png\">\n",
    "  <title>MPIA Arxiv on deck!</title>\n",
    "</head>\n",
    "\n",
    "<body>\n",
    "  <div id=\"header\"> <img src=\"header_banner.png\" width=\"100%\"></div>\n",
    "  <div id=\"suptitle\"> 7-day archives </div>\n",
    "  <div id=\"info\">\n",
    "    <img src=\"https://pngimg.com/uploads/github/github_PNG58.png\" height=30rem></img>\n",
    "    <a href=https://github.com/mpi-astronomy/arxiv_display style=\"color:black;\">github/mpi-astronomy/arxiv_display</a> \n",
    "  </div>\n",
    "  {carousel:s}\n",
    "</body>\n",
    "\n",
    "<!-- Render Markdown -->\n",
    "\n",
    "<body>\n",
    "  <!-- highlight.js: https://highlightjs.org/download/ -->\n",
    "  <script src=\"https://cdnjs.cloudflare.com/ajax/libs/highlight.js/11.5.0/highlight.min.js\"></script>\n",
    "  <!-- marked.js -->\n",
    "  <script src=\"https://cdn.jsdelivr.net/npm/marked/marked.min.js\"></script>\n",
    "  <script>{script:s}</script>\n",
    "</body>\n",
    "</html>\n",
    "\"\"\"\n",
    "with open(\"_build/html/index_7days.html\", 'w') as fout:\n",
    "    fout.write(page)"
   ]
  },
  {
   "cell_type": "markdown",
   "id": "1cebacbc",
   "metadata": {
    "papermill": {
     "duration": 0.008387,
     "end_time": "2022-09-12T05:22:15.147667",
     "exception": false,
     "start_time": "2022-09-12T05:22:15.139280",
     "status": "completed"
    },
    "tags": []
   },
   "source": [
    "# Debugging papers"
   ]
  },
  {
   "cell_type": "raw",
   "id": "debe7cc6",
   "metadata": {
    "papermill": {
     "duration": 0.008224,
     "end_time": "2022-09-12T05:22:15.164147",
     "exception": false,
     "start_time": "2022-09-12T05:22:15.155923",
     "status": "completed"
    },
    "tags": []
   },
   "source": [
    "raise NotImplementedError(\"Manual Stop\")"
   ]
  },
  {
   "cell_type": "raw",
   "id": "eb169192",
   "metadata": {
    "papermill": {
     "duration": 0.008305,
     "end_time": "2022-09-12T05:22:15.180614",
     "exception": false,
     "start_time": "2022-09-12T05:22:15.172309",
     "status": "completed"
    },
    "scrolled": true,
    "tags": []
   },
   "source": [
    "from IPython.display import display, Markdown\n",
    "from TexSoup import TexSoup\n",
    "import re\n",
    "\n",
    "def bracket_error(source: str):\n",
    "    \"\"\" Find problematic portions of the document \"\"\"\n",
    "    \n",
    "    print(\"len(source)\", len(source))\n",
    "    \n",
    "    # Checking header\n",
    "    begin_doc = next(re.finditer(r'\\\\begin\\{document\\}', doc.source)).span()[1]\n",
    "    header = source[:begin_doc]\n",
    "    text = header + r\"\\n\\end{document}\"\n",
    "\n",
    "    try:\n",
    "        # print(\"Header check... \", end='')\n",
    "        TexSoup(text)\n",
    "        display(Markdown(f\"**[OK]** - Header\"))\n",
    "    except:\n",
    "        raise RuntimeError(\"Error in the header\")\n",
    "        \n",
    "    # Check the text per section until the end.\n",
    "    # Do not stop and try them all.\n",
    "    \n",
    "    problematic_text = []\n",
    "    \n",
    "    sections = ([(0, begin_doc, 'until first section')] + \n",
    "                [(g.span()[0], g.span()[1], g.group()) for g in re.finditer(r'\\\\section\\{.*\\}', source)] +\n",
    "                [(g.span()[0], g.span()[1], g.group()) for g in re.finditer(r'\\\\begin\\{appendix\\}', source)]\n",
    "               )\n",
    "    sections.append([len(source), len(source), 'end'])\n",
    "    \n",
    "    sections = sorted(sections, key=lambda x: x[0])\n",
    "    \n",
    "    prev_pos, prev_name = (0, 'header')\n",
    "    parsed = []\n",
    "    \n",
    "    for span, span_end, name in sections:\n",
    "\n",
    "        if span - prev_pos <= 0:\n",
    "            continue\n",
    "            \n",
    "\n",
    "        text = source[prev_pos:span]\n",
    "        if prev_pos > begin_doc:\n",
    "            text = r\"\\n\\begin{document}\" + text + r\"\\n\\end{document}\"\n",
    "        else:\n",
    "            text = text + r\"\\n\\end{document}\"\n",
    "        try:\n",
    "            #print(f\"{prev_pos}:{prev_name}-->{span}:{name} check... \", end='')\n",
    "            parsed.append(TexSoup(text, tolerance=1))  # allow not ending env\n",
    "            display(Markdown(f\"**[OK]** - *{prev_pos}*:{prev_name} &rarr; *{span}*:{name}\"))\n",
    "            # print(\"ok\")\n",
    "\n",
    "            prev_pos = span\n",
    "            prev_name = name\n",
    "        except:\n",
    "            # print(f\"error between {prev_pos} and {span}\")\n",
    "            display(Markdown(f\"**[ERR]** *{prev_pos}*:{prev_name} &rarr; *{span}*:{name}\"))\n",
    "            problematic_text.append((prev_pos, source[prev_pos:span]))\n",
    "            prev_pos = span\n",
    "            prev_name = name\n",
    "            # raise\n",
    "    return problematic_text, parsed\n",
    "\n",
    "\n",
    "def check_environment(text, offset=0):\n",
    "    \"\"\" Check environment \"\"\"\n",
    "    env = re.compile(r\"\\\\begin\\{(?P<env>.*)\\}(.*)\\\\end\\{(?P=env)\\}\", re.DOTALL)\n",
    "\n",
    "    for match in env.finditer(text):\n",
    "        beg, end = match.span()\n",
    "        beg += offset\n",
    "        end += offset\n",
    "        envname = match.groups()[0]\n",
    "        try:\n",
    "            latex.TexSoup(match.group())\n",
    "        except Exception as e:\n",
    "            display(e)\n",
    "            print(f\"Error in {envname:s} between {beg} and {end}\")\n",
    "            return match.groups()[1], beg, end"
   ]
  },
  {
   "cell_type": "raw",
   "id": "2315e835",
   "metadata": {
    "papermill": {
     "duration": 0.008445,
     "end_time": "2022-09-12T05:22:15.197373",
     "exception": false,
     "start_time": "2022-09-12T05:22:15.188928",
     "status": "completed"
    },
    "scrolled": false,
    "tags": []
   },
   "source": [
    "import importlib\n",
    "importlib.reload(latex)\n",
    "which = \"2204.03253\"\n",
    "paper_id = f'{which:s}'\n",
    "folder = f'tmp_{paper_id:s}'\n",
    "\n",
    "if not os.path.isdir(folder):\n",
    "    folder = retrieve_document_source(f\"{paper_id}\", f'tmp_{paper_id}')\n",
    "\n",
    "try:\n",
    "    doc = latex.LatexDocument(folder, validation=validation)    \n",
    "except AffiliationError as affilerror:\n",
    "    msg = f\"ArXiv:{paper_id:s} is not an MPIA paper... \" + str(affilerror)\n",
    "    print(msg)\n",
    "\n",
    "\n",
    "# Hack because sometimes author parsing does not work well\n",
    "if (len(doc.authors) != len(paper['authors'])):\n",
    "    doc._authors = paper['authors']\n",
    "if (doc.abstract) in (None, ''):\n",
    "    doc._abstract = paper['abstract']\n",
    "\n",
    "doc.comment = get_markdown_badge(paper_id) + \" _\" + paper['comments'] + \"_\"\n",
    "doc.highlight_authors_in_list(hl_list)\n",
    "\n",
    "full_md = doc.generate_markdown_text()"
   ]
  },
  {
   "cell_type": "raw",
   "id": "dd3781db",
   "metadata": {
    "papermill": {
     "duration": 0.008543,
     "end_time": "2022-09-12T05:22:15.250455",
     "exception": false,
     "start_time": "2022-09-12T05:22:15.241912",
     "status": "completed"
    },
    "scrolled": false,
    "tags": []
   },
   "source": [
    "doc"
   ]
  },
  {
   "cell_type": "raw",
   "id": "c6eed834",
   "metadata": {
    "papermill": {
     "duration": 0.009176,
     "end_time": "2022-09-12T05:22:15.267914",
     "exception": false,
     "start_time": "2022-09-12T05:22:15.258738",
     "status": "completed"
    },
    "tags": []
   },
   "source": [
    "# [check_environment(k) for k in bracket_error(doc.source)]\n",
    "_, _, a = latex.get_content_per_section(doc.source, verbose=True)\n",
    "if not a:\n",
    "    print(\"no issues per section\")\n",
    "for ak in a:\n",
    "    r = check_environment(ak[1], offset=ak[0])\n",
    "    print(r[1], r[2])\n",
    "    print(r[0])"
   ]
  },
  {
   "cell_type": "code",
   "execution_count": null,
   "id": "71ce768a",
   "metadata": {
    "papermill": {
     "duration": 0.008359,
     "end_time": "2022-09-12T05:22:15.284583",
     "exception": false,
     "start_time": "2022-09-12T05:22:15.276224",
     "status": "completed"
    },
    "tags": []
   },
   "outputs": [],
   "source": []
  }
 ],
 "metadata": {
  "kernelspec": {
   "display_name": "Python 3.10.6 64-bit",
   "language": "python",
   "name": "python3"
  },
  "language_info": {
   "codemirror_mode": {
    "name": "ipython",
    "version": 3
   },
   "file_extension": ".py",
   "mimetype": "text/x-python",
   "name": "python",
   "nbconvert_exporter": "python",
   "pygments_lexer": "ipython3",
   "version": "3.9.13"
  },
  "papermill": {
   "default_parameters": {},
   "duration": 88.498221,
   "end_time": "2022-09-12T05:22:15.513052",
   "environment_variables": {},
   "exception": null,
   "input_path": "MPIA daily digest.ipynb",
   "output_path": "log.ipynb",
   "parameters": {},
   "start_time": "2022-09-12T05:20:47.014831",
   "version": "2.4.0"
  },
  "vscode": {
   "interpreter": {
    "hash": "e7370f93d1d0cde622a1f8e1c04877d8463912d04d973331ad4851f04de6915a"
   }
  },
  "widgets": {
   "application/vnd.jupyter.widget-state+json": {
    "state": {
     "178db780ddb248cb9c3d86354ba09c6d": {
      "model_module": "@jupyter-widgets/base",
      "model_module_version": "2.0.0",
      "model_name": "LayoutModel",
      "state": {
       "_model_module": "@jupyter-widgets/base",
       "_model_module_version": "2.0.0",
       "_model_name": "LayoutModel",
       "_view_count": null,
       "_view_module": "@jupyter-widgets/base",
       "_view_module_version": "2.0.0",
       "_view_name": "LayoutView",
       "align_content": null,
       "align_items": null,
       "align_self": null,
       "border_bottom": null,
       "border_left": null,
       "border_right": null,
       "border_top": null,
       "bottom": null,
       "display": null,
       "flex": null,
       "flex_flow": null,
       "grid_area": null,
       "grid_auto_columns": null,
       "grid_auto_flow": null,
       "grid_auto_rows": null,
       "grid_column": null,
       "grid_gap": null,
       "grid_row": null,
       "grid_template_areas": null,
       "grid_template_columns": null,
       "grid_template_rows": null,
       "height": null,
       "justify_content": null,
       "justify_items": null,
       "left": null,
       "margin": null,
       "max_height": null,
       "max_width": null,
       "min_height": null,
       "min_width": null,
       "object_fit": null,
       "object_position": null,
       "order": null,
       "overflow": null,
       "padding": null,
       "right": null,
       "top": null,
       "visibility": null,
       "width": null
      }
     },
     "2795abadf2c745238744119aac172768": {
      "model_module": "@jupyter-widgets/controls",
      "model_module_version": "2.0.0",
      "model_name": "HTMLModel",
      "state": {
       "_dom_classes": [],
       "_model_module": "@jupyter-widgets/controls",
       "_model_module_version": "2.0.0",
       "_model_name": "HTMLModel",
       "_view_count": null,
       "_view_module": "@jupyter-widgets/controls",
       "_view_module_version": "2.0.0",
       "_view_name": "HTMLView",
       "description": "",
       "description_allow_html": false,
       "layout": "IPY_MODEL_852234bbe0514073b7e1525f648830c1",
       "placeholder": "​",
       "style": "IPY_MODEL_929665350b2d4614895e09d958dccf1c",
       "tabbable": null,
       "tooltip": null,
       "value": " 20/20 [01:03&lt;00:00,  3.36s/it]"
      }
     },
     "852234bbe0514073b7e1525f648830c1": {
      "model_module": "@jupyter-widgets/base",
      "model_module_version": "2.0.0",
      "model_name": "LayoutModel",
      "state": {
       "_model_module": "@jupyter-widgets/base",
       "_model_module_version": "2.0.0",
       "_model_name": "LayoutModel",
       "_view_count": null,
       "_view_module": "@jupyter-widgets/base",
       "_view_module_version": "2.0.0",
       "_view_name": "LayoutView",
       "align_content": null,
       "align_items": null,
       "align_self": null,
       "border_bottom": null,
       "border_left": null,
       "border_right": null,
       "border_top": null,
       "bottom": null,
       "display": null,
       "flex": null,
       "flex_flow": null,
       "grid_area": null,
       "grid_auto_columns": null,
       "grid_auto_flow": null,
       "grid_auto_rows": null,
       "grid_column": null,
       "grid_gap": null,
       "grid_row": null,
       "grid_template_areas": null,
       "grid_template_columns": null,
       "grid_template_rows": null,
       "height": null,
       "justify_content": null,
       "justify_items": null,
       "left": null,
       "margin": null,
       "max_height": null,
       "max_width": null,
       "min_height": null,
       "min_width": null,
       "object_fit": null,
       "object_position": null,
       "order": null,
       "overflow": null,
       "padding": null,
       "right": null,
       "top": null,
       "visibility": null,
       "width": null
      }
     },
     "8808e96fb9734b49a14c5614904acd5f": {
      "model_module": "@jupyter-widgets/controls",
      "model_module_version": "2.0.0",
      "model_name": "ProgressStyleModel",
      "state": {
       "_model_module": "@jupyter-widgets/controls",
       "_model_module_version": "2.0.0",
       "_model_name": "ProgressStyleModel",
       "_view_count": null,
       "_view_module": "@jupyter-widgets/base",
       "_view_module_version": "2.0.0",
       "_view_name": "StyleView",
       "bar_color": null,
       "description_width": ""
      }
     },
     "8b4831a6667c40be8b820f77cbd4da1a": {
      "model_module": "@jupyter-widgets/controls",
      "model_module_version": "2.0.0",
      "model_name": "HTMLModel",
      "state": {
       "_dom_classes": [],
       "_model_module": "@jupyter-widgets/controls",
       "_model_module_version": "2.0.0",
       "_model_name": "HTMLModel",
       "_view_count": null,
       "_view_module": "@jupyter-widgets/controls",
       "_view_module_version": "2.0.0",
       "_view_name": "HTMLView",
       "description": "",
       "description_allow_html": false,
       "layout": "IPY_MODEL_be5d4c31402b44b29a38bd4af2eb2637",
       "placeholder": "​",
       "style": "IPY_MODEL_bce5243c8009427bbd03e69daf83ef33",
       "tabbable": null,
       "tooltip": null,
       "value": "100%"
      }
     },
     "8e9e5e79379f47e4ba10e777521138d2": {
      "model_module": "@jupyter-widgets/controls",
      "model_module_version": "2.0.0",
      "model_name": "HBoxModel",
      "state": {
       "_dom_classes": [],
       "_model_module": "@jupyter-widgets/controls",
       "_model_module_version": "2.0.0",
       "_model_name": "HBoxModel",
       "_view_count": null,
       "_view_module": "@jupyter-widgets/controls",
       "_view_module_version": "2.0.0",
       "_view_name": "HBoxView",
       "box_style": "",
       "children": [
        "IPY_MODEL_8b4831a6667c40be8b820f77cbd4da1a",
        "IPY_MODEL_f5d1b1ddf442444c9d20536f00903142",
        "IPY_MODEL_2795abadf2c745238744119aac172768"
       ],
       "layout": "IPY_MODEL_178db780ddb248cb9c3d86354ba09c6d",
       "tabbable": null,
       "tooltip": null
      }
     },
     "929665350b2d4614895e09d958dccf1c": {
      "model_module": "@jupyter-widgets/controls",
      "model_module_version": "2.0.0",
      "model_name": "HTMLStyleModel",
      "state": {
       "_model_module": "@jupyter-widgets/controls",
       "_model_module_version": "2.0.0",
       "_model_name": "HTMLStyleModel",
       "_view_count": null,
       "_view_module": "@jupyter-widgets/base",
       "_view_module_version": "2.0.0",
       "_view_name": "StyleView",
       "background": null,
       "description_width": "",
       "font_size": null,
       "text_color": null
      }
     },
     "bce5243c8009427bbd03e69daf83ef33": {
      "model_module": "@jupyter-widgets/controls",
      "model_module_version": "2.0.0",
      "model_name": "HTMLStyleModel",
      "state": {
       "_model_module": "@jupyter-widgets/controls",
       "_model_module_version": "2.0.0",
       "_model_name": "HTMLStyleModel",
       "_view_count": null,
       "_view_module": "@jupyter-widgets/base",
       "_view_module_version": "2.0.0",
       "_view_name": "StyleView",
       "background": null,
       "description_width": "",
       "font_size": null,
       "text_color": null
      }
     },
     "be5d4c31402b44b29a38bd4af2eb2637": {
      "model_module": "@jupyter-widgets/base",
      "model_module_version": "2.0.0",
      "model_name": "LayoutModel",
      "state": {
       "_model_module": "@jupyter-widgets/base",
       "_model_module_version": "2.0.0",
       "_model_name": "LayoutModel",
       "_view_count": null,
       "_view_module": "@jupyter-widgets/base",
       "_view_module_version": "2.0.0",
       "_view_name": "LayoutView",
       "align_content": null,
       "align_items": null,
       "align_self": null,
       "border_bottom": null,
       "border_left": null,
       "border_right": null,
       "border_top": null,
       "bottom": null,
       "display": null,
       "flex": null,
       "flex_flow": null,
       "grid_area": null,
       "grid_auto_columns": null,
       "grid_auto_flow": null,
       "grid_auto_rows": null,
       "grid_column": null,
       "grid_gap": null,
       "grid_row": null,
       "grid_template_areas": null,
       "grid_template_columns": null,
       "grid_template_rows": null,
       "height": null,
       "justify_content": null,
       "justify_items": null,
       "left": null,
       "margin": null,
       "max_height": null,
       "max_width": null,
       "min_height": null,
       "min_width": null,
       "object_fit": null,
       "object_position": null,
       "order": null,
       "overflow": null,
       "padding": null,
       "right": null,
       "top": null,
       "visibility": null,
       "width": null
      }
     },
     "f2d84f0efeb24004b1bea77a581185da": {
      "model_module": "@jupyter-widgets/base",
      "model_module_version": "2.0.0",
      "model_name": "LayoutModel",
      "state": {
       "_model_module": "@jupyter-widgets/base",
       "_model_module_version": "2.0.0",
       "_model_name": "LayoutModel",
       "_view_count": null,
       "_view_module": "@jupyter-widgets/base",
       "_view_module_version": "2.0.0",
       "_view_name": "LayoutView",
       "align_content": null,
       "align_items": null,
       "align_self": null,
       "border_bottom": null,
       "border_left": null,
       "border_right": null,
       "border_top": null,
       "bottom": null,
       "display": null,
       "flex": null,
       "flex_flow": null,
       "grid_area": null,
       "grid_auto_columns": null,
       "grid_auto_flow": null,
       "grid_auto_rows": null,
       "grid_column": null,
       "grid_gap": null,
       "grid_row": null,
       "grid_template_areas": null,
       "grid_template_columns": null,
       "grid_template_rows": null,
       "height": null,
       "justify_content": null,
       "justify_items": null,
       "left": null,
       "margin": null,
       "max_height": null,
       "max_width": null,
       "min_height": null,
       "min_width": null,
       "object_fit": null,
       "object_position": null,
       "order": null,
       "overflow": null,
       "padding": null,
       "right": null,
       "top": null,
       "visibility": null,
       "width": null
      }
     },
     "f5d1b1ddf442444c9d20536f00903142": {
      "model_module": "@jupyter-widgets/controls",
      "model_module_version": "2.0.0",
      "model_name": "FloatProgressModel",
      "state": {
       "_dom_classes": [],
       "_model_module": "@jupyter-widgets/controls",
       "_model_module_version": "2.0.0",
       "_model_name": "FloatProgressModel",
       "_view_count": null,
       "_view_module": "@jupyter-widgets/controls",
       "_view_module_version": "2.0.0",
       "_view_name": "ProgressView",
       "bar_style": "success",
       "description": "",
       "description_allow_html": false,
       "layout": "IPY_MODEL_f2d84f0efeb24004b1bea77a581185da",
       "max": 20.0,
       "min": 0.0,
       "orientation": "horizontal",
       "style": "IPY_MODEL_8808e96fb9734b49a14c5614904acd5f",
       "tabbable": null,
       "tooltip": null,
       "value": 20.0
      }
     }
    },
    "version_major": 2,
    "version_minor": 0
   }
  }
 },
 "nbformat": 4,
 "nbformat_minor": 5
}