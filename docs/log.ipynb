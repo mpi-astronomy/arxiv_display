{
 "cells": [
  {
   "cell_type": "markdown",
   "id": "92bcb855",
   "metadata": {
    "papermill": {
     "duration": 0.003997,
     "end_time": "2024-06-14T04:08:38.176837",
     "exception": false,
     "start_time": "2024-06-14T04:08:38.172840",
     "status": "completed"
    },
    "tags": []
   },
   "source": [
    "# MPIA Arxiv on Deck 2\n",
    "\n",
    "Contains the steps to produce the paper extractions."
   ]
  },
  {
   "cell_type": "code",
   "execution_count": 1,
   "id": "3a0d6e11",
   "metadata": {
    "execution": {
     "iopub.execute_input": "2024-06-14T04:08:38.184349Z",
     "iopub.status.busy": "2024-06-14T04:08:38.184084Z",
     "iopub.status.idle": "2024-06-14T04:08:38.809496Z",
     "shell.execute_reply": "2024-06-14T04:08:38.808821Z"
    },
    "papermill": {
     "duration": 0.631168,
     "end_time": "2024-06-14T04:08:38.811204",
     "exception": false,
     "start_time": "2024-06-14T04:08:38.180036",
     "status": "completed"
    },
    "tags": []
   },
   "outputs": [],
   "source": [
    "# Imports\n",
    "import os\n",
    "from IPython.display import Markdown, display\n",
    "from tqdm.notebook import tqdm\n",
    "import warnings\n",
    "from PIL import Image \n",
    "\n",
    "# requires arxiv_on_deck_2\n",
    "\n",
    "from arxiv_on_deck_2.arxiv2 import (get_new_papers, \n",
    "                                    get_paper_from_identifier,\n",
    "                                    retrieve_document_source, \n",
    "                                    get_markdown_badge)\n",
    "from arxiv_on_deck_2 import (latex,\n",
    "                             latex_bib,\n",
    "                             mpia,\n",
    "                             highlight_authors_in_list)\n",
    "\n",
    "# Sometimes images are really big\n",
    "Image.MAX_IMAGE_PIXELS = 1000000000 "
   ]
  },
  {
   "cell_type": "code",
   "execution_count": 2,
   "id": "22aa9d44",
   "metadata": {
    "execution": {
     "iopub.execute_input": "2024-06-14T04:08:38.818841Z",
     "iopub.status.busy": "2024-06-14T04:08:38.818358Z",
     "iopub.status.idle": "2024-06-14T04:08:38.823497Z",
     "shell.execute_reply": "2024-06-14T04:08:38.822923Z"
    },
    "papermill": {
     "duration": 0.01037,
     "end_time": "2024-06-14T04:08:38.824834",
     "exception": false,
     "start_time": "2024-06-14T04:08:38.814464",
     "status": "completed"
    },
    "tags": []
   },
   "outputs": [],
   "source": [
    "# Some useful definitions.\n",
    "\n",
    "class AffiliationWarning(UserWarning):\n",
    "    pass\n",
    "\n",
    "class AffiliationError(RuntimeError):\n",
    "    pass\n",
    "\n",
    "def validation(source: str):\n",
    "    \"\"\"Raises error paper during parsing of source file\n",
    "    \n",
    "    Allows checks before parsing TeX code.\n",
    "    \n",
    "    Raises AffiliationWarning\n",
    "    \"\"\"\n",
    "    check = mpia.affiliation_verifications(source, verbose=True)\n",
    "    if check is not True:\n",
    "        raise AffiliationError(\"mpia.affiliation_verifications: \" + check)\n",
    "\n",
    "        \n",
    "warnings.simplefilter('always', AffiliationWarning)\n",
    "\n",
    "\n",
    "def get_markdown_qrcode(paper_id: str):\n",
    "    \"\"\" Generate a qrcode to the arxiv page using qrserver.com\n",
    "    \n",
    "    :param paper: Arxiv paper\n",
    "    :returns: markdown text\n",
    "    \"\"\"\n",
    "    url = r\"https://api.qrserver.com/v1/create-qr-code/?size=100x100&data=\"\n",
    "    txt = f\"\"\"<img src={url}\"https://arxiv.org/abs/{paper_id}\">\"\"\"\n",
    "    txt = '<div id=\"qrcode\">' + txt + '</div>'\n",
    "    return txt"
   ]
  },
  {
   "cell_type": "markdown",
   "id": "14bd6310",
   "metadata": {
    "papermill": {
     "duration": 0.002977,
     "end_time": "2024-06-14T04:08:38.830783",
     "exception": false,
     "start_time": "2024-06-14T04:08:38.827806",
     "status": "completed"
    },
    "tags": []
   },
   "source": [
    "## get list of arxiv paper candidates\n",
    "\n",
    "We use the MPIA mitarbeiter list webpage from mpia.de to get author names\n",
    "We then get all new papers from Arxiv and match authors"
   ]
  },
  {
   "cell_type": "code",
   "execution_count": 3,
   "id": "7ea813a8",
   "metadata": {
    "execution": {
     "iopub.execute_input": "2024-06-14T04:08:38.837983Z",
     "iopub.status.busy": "2024-06-14T04:08:38.837519Z",
     "iopub.status.idle": "2024-06-14T04:09:00.249188Z",
     "shell.execute_reply": "2024-06-14T04:09:00.248366Z"
    },
    "papermill": {
     "duration": 21.417671,
     "end_time": "2024-06-14T04:09:00.251421",
     "exception": false,
     "start_time": "2024-06-14T04:08:38.833750",
     "status": "completed"
    },
    "tags": []
   },
   "outputs": [],
   "source": [
    "# deal with the author list and edge cases of people that cannot be consistent on their name  \n",
    "\n",
    "def filter_non_scientists(name: str) -> bool:\n",
    "    \"\"\" Loose filter on expected authorships\n",
    "\n",
    "    removing IT, administration, technical staff\n",
    "    :param name: name\n",
    "    :returns: False if name is not a scientist\n",
    "    \"\"\"\n",
    "    remove_list = ['Wolf', 'Licht', 'Binroth', 'Witzel', 'Jordan',\n",
    "                   'Zähringer', 'Scheerer', 'Hoffmann', 'Düe',\n",
    "                   'Hellmich', 'Enkler-Scharpegge', 'Witte-Nguy',\n",
    "                   'Dehen', 'Beckmann', 'Jager', 'Jäger'\n",
    "                  ]\n",
    "\n",
    "    for k in remove_list:\n",
    "        if k in name:\n",
    "            return False\n",
    "    return True\n",
    "\n",
    "def add_author_to_list(author_list: list) -> list:\n",
    "    \"\"\" Add author to list if not already in list\n",
    "    \n",
    "    :param author: author name\n",
    "    :param author_list: list of authors\n",
    "    :returns: updated list of authors\n",
    "    \"\"\"\n",
    "    add_list = ['T. Henning']\n",
    "\n",
    "    for author in add_list:\n",
    "        if author not in author_list:\n",
    "            author_list.append(author)\n",
    "    return author_list\n",
    "\n",
    "# get list from MPIA website\n",
    "# filter for non-scientists (mpia.get_mpia_mitarbeiter_list() does some filtering)\n",
    "mpia_authors = [k[1] for k in mpia.get_mpia_mitarbeiter_list() if filter_non_scientists(k[1])]\n",
    "# add some missing author because of inconsistencies in their MPIA name and author name on papers\n",
    "mpia_authors = add_author_to_list(mpia_authors)"
   ]
  },
  {
   "cell_type": "code",
   "execution_count": 4,
   "id": "2645e73a",
   "metadata": {
    "execution": {
     "iopub.execute_input": "2024-06-14T04:09:00.264324Z",
     "iopub.status.busy": "2024-06-14T04:09:00.263818Z",
     "iopub.status.idle": "2024-06-14T04:09:01.189944Z",
     "shell.execute_reply": "2024-06-14T04:09:01.189324Z"
    },
    "papermill": {
     "duration": 0.933752,
     "end_time": "2024-06-14T04:09:01.191281",
     "exception": false,
     "start_time": "2024-06-14T04:09:00.257529",
     "status": "completed"
    },
    "tags": []
   },
   "outputs": [
    {
     "name": "stdout",
     "output_type": "stream",
     "text": [
      "K. Lee  ->  K. Lee  |  ['K. Lee']\n",
      "J. Li  ->  J. Li  |  ['J. Li']\n",
      "J. Li  ->  J. Li  |  ['J. Li']\n",
      "H. Beuther  ->  H. Beuther  |  ['H. Beuther']\n",
      "D. Semenov  ->  D. Semenov  |  ['D. Semenov']\n",
      "S. Li  ->  S. Li  |  ['S. Li']\n",
      "J. Müller  ->  J. Müller-Horn  |  ['J. Müller']\n"
     ]
    },
    {
     "name": "stdout",
     "output_type": "stream",
     "text": [
      "Arxiv has 68 new papers today\n",
      "          5 with possible author matches\n"
     ]
    }
   ],
   "source": [
    "new_papers = get_new_papers()\n",
    "# add manual references\n",
    "add_paper_refs = []\n",
    "new_papers.extend([get_paper_from_identifier(k) for k in add_paper_refs])\n",
    "\n",
    "candidates = []\n",
    "for paperk in new_papers:\n",
    "    # Check author list with their initials\n",
    "    normed_author_list = [mpia.get_initials(k) for k in paperk['authors']]\n",
    "    hl_authors = highlight_authors_in_list(normed_author_list, mpia_authors, verbose=True)\n",
    "    matches = [(hl, orig) for hl, orig in zip(hl_authors, paperk['authors']) if 'mark' in hl]\n",
    "    paperk['authors'] = hl_authors\n",
    "    if matches:\n",
    "        # only select paper if an author matched our list\n",
    "        candidates.append(paperk)\n",
    "print(\"\"\"Arxiv has {0:,d} new papers today\"\"\".format(len(new_papers)))        \n",
    "print(\"\"\"          {0:,d} with possible author matches\"\"\".format(len(candidates)))"
   ]
  },
  {
   "cell_type": "markdown",
   "id": "3543b34a",
   "metadata": {
    "papermill": {
     "duration": 0.003368,
     "end_time": "2024-06-14T04:09:01.198113",
     "exception": false,
     "start_time": "2024-06-14T04:09:01.194745",
     "status": "completed"
    },
    "tags": []
   },
   "source": [
    "# Parse sources and generate relevant outputs\n",
    "\n",
    "From the candidates, we do the following steps:\n",
    "* get their tarball from ArXiv (and extract data)\n",
    "* find the main .tex file: find one with \\documentclass{...} (sometimes it's non trivial)\n",
    "* Check affiliations with :func:`validation`, which uses :func:`mpia.affiliation_verifications`\n",
    "* If passing the affiliations: we parse the .tex source\n",
    "   * inject sub-documents into the main (flatten the main document)\n",
    "   * parse structure, extract information (title, abstract, authors, figures...)\n",
    "   * handles `\\graphicspath` if provided\n",
    "* Generate the .md document."
   ]
  },
  {
   "cell_type": "code",
   "execution_count": 5,
   "id": "9576b79e",
   "metadata": {
    "execution": {
     "iopub.execute_input": "2024-06-14T04:09:01.205470Z",
     "iopub.status.busy": "2024-06-14T04:09:01.204988Z",
     "iopub.status.idle": "2024-06-14T04:10:20.432128Z",
     "shell.execute_reply": "2024-06-14T04:10:20.431342Z"
    },
    "papermill": {
     "duration": 79.232871,
     "end_time": "2024-06-14T04:10:20.434018",
     "exception": false,
     "start_time": "2024-06-14T04:09:01.201147",
     "status": "completed"
    },
    "scrolled": false,
    "tags": []
   },
   "outputs": [
    {
     "data": {
      "application/vnd.jupyter.widget-view+json": {
       "model_id": "ab3b0ce8b9694e81b5efafae4cca0c29",
       "version_major": 2,
       "version_minor": 0
      },
      "text/plain": [
       "  0%|          | 0/5 [00:00<?, ?it/s]"
      ]
     },
     "metadata": {},
     "output_type": "display_data"
    },
    {
     "name": "stdout",
     "output_type": "stream",
     "text": [
      "Retrieving document from  https://arxiv.org/e-print/2406.08612\n",
      "extracting tarball to tmp_2406.08612... done.\n",
      "Retrieving document from  https://arxiv.org/e-print/2406.08906\n"
     ]
    },
    {
     "name": "stderr",
     "output_type": "stream",
     "text": [
      "/opt/hostedtoolcache/Python/3.9.19/x64/lib/python3.9/site-packages/IPython/core/interactiveshell.py:3550: LatexWarning: Multiple tex files.\n",
      "\n",
      "  exec(code_obj, self.user_global_ns, self.user_ns)\n",
      "/tmp/ipykernel_2056/1211882699.py:51: LatexWarning: 2406.08612 did not run properly\n",
      "'PosixPath' object is not subscriptable\n",
      "  warnings.warn(latex.LatexWarning(f\"{paper_id:s} did not run properly\\n\" +\n"
     ]
    },
    {
     "name": "stdout",
     "output_type": "stream",
     "text": [
      "extracting tarball to tmp_2406.08906..."
     ]
    },
    {
     "name": "stdout",
     "output_type": "stream",
     "text": [
      " done.\n",
      "Retrieving document from  https://arxiv.org/e-print/2406.08935\n",
      "extracting tarball to tmp_2406.08935..."
     ]
    },
    {
     "name": "stdout",
     "output_type": "stream",
     "text": [
      " done.\n",
      "Retrieving document from  https://arxiv.org/e-print/2406.09145\n"
     ]
    },
    {
     "name": "stdout",
     "output_type": "stream",
     "text": [
      "extracting tarball to tmp_2406.09145..."
     ]
    },
    {
     "name": "stdout",
     "output_type": "stream",
     "text": [
      " done.\n"
     ]
    },
    {
     "name": "stdout",
     "output_type": "stream",
     "text": [
      "H. Beuther  ->  H. Beuther  |  ['H. Beuther']\n",
      "D. Semenov  ->  D. Semenov  |  ['D. Semenov']\n",
      "S. Li  ->  S. Li  |  ['S. Li']\n"
     ]
    },
    {
     "name": "stdout",
     "output_type": "stream",
     "text": [
      "Found 88 bibliographic references in tmp_2406.09145/aa.bbl.\n",
      "Retrieving document from  https://arxiv.org/e-print/2406.09186\n"
     ]
    },
    {
     "name": "stdout",
     "output_type": "stream",
     "text": [
      "extracting tarball to tmp_2406.09186... done.\n"
     ]
    },
    {
     "name": "stdout",
     "output_type": "stream",
     "text": [
      "J. Müller  ->  J. Müller-Horn  |  ['J. Müller']\n"
     ]
    },
    {
     "name": "stdout",
     "output_type": "stream",
     "text": [
      "Found 86 bibliographic references in tmp_2406.09186/main.bbl.\n"
     ]
    }
   ],
   "source": [
    "documents = []\n",
    "failed = []\n",
    "for paper in tqdm(candidates):\n",
    "    # debug crap\n",
    "    paper['identifier'] = paper['identifier'].lower().replace('arxiv:', '').replace(r'\\n', '').strip()\n",
    "    paper_id = paper['identifier']\n",
    "    \n",
    "    folder = f'tmp_{paper_id}'\n",
    "\n",
    "    try:\n",
    "        if not os.path.isdir(folder):\n",
    "            folder = retrieve_document_source(f\"{paper_id}\", f'tmp_{paper_id}')\n",
    "        \n",
    "        try:\n",
    "            doc = latex.LatexDocument(folder, validation=validation)    \n",
    "        except AffiliationError as affilerror:\n",
    "            msg = f\"ArXiv:{paper_id:s} is not an MPIA paper... \" + str(affilerror)\n",
    "            failed.append((paper, \"affiliation error: \" + str(affilerror) ))\n",
    "            continue\n",
    "        \n",
    "        # Hack because sometimes author parsing does not work well\n",
    "        if (len(doc.authors) != len(paper['authors'])):\n",
    "            doc._authors = paper['authors']\n",
    "        else:\n",
    "            # highlight authors (FIXME: doc.highlight_authors)\n",
    "            # done on arxiv paper already\n",
    "            doc._authors = highlight_authors_in_list(\n",
    "                [mpia.get_initials(k) for k in doc.authors], \n",
    "                mpia_authors, verbose=True)\n",
    "        if (doc.abstract) in (None, ''):\n",
    "            doc._abstract = paper['abstract']\n",
    "            \n",
    "        doc.comment = (get_markdown_badge(paper_id) + \n",
    "                       \"<mark>Appeared on: \" + paper['date'] + \"</mark> - \")\n",
    "        if paper['comments']:\n",
    "            doc.comment += \" _\" + paper['comments'] + \"_\"\n",
    "        \n",
    "        full_md = doc.generate_markdown_text()\n",
    "        \n",
    "        full_md += get_markdown_qrcode(paper_id)\n",
    "        \n",
    "        # replace citations\n",
    "        try:\n",
    "            bibdata = latex_bib.LatexBib.from_doc(doc)\n",
    "            full_md = latex_bib.replace_citations(full_md, bibdata)\n",
    "        except Exception as e:\n",
    "            print(e)\n",
    "        \n",
    "        documents.append((paper_id, full_md))\n",
    "    except Exception as e:\n",
    "        warnings.warn(latex.LatexWarning(f\"{paper_id:s} did not run properly\\n\" +\n",
    "                                         str(e)\n",
    "                                        ))\n",
    "        failed.append((paper, \"latex error \" + str(e)))"
   ]
  },
  {
   "cell_type": "markdown",
   "id": "2505a25c",
   "metadata": {
    "papermill": {
     "duration": 0.003733,
     "end_time": "2024-06-14T04:10:20.441813",
     "exception": false,
     "start_time": "2024-06-14T04:10:20.438080",
     "status": "completed"
    },
    "tags": []
   },
   "source": [
    "### Export the logs\n",
    "\n",
    "Throughout, we also keep track of the logs per paper. see `logs-{today date}.md` "
   ]
  },
  {
   "cell_type": "code",
   "execution_count": 6,
   "id": "d733828a",
   "metadata": {
    "execution": {
     "iopub.execute_input": "2024-06-14T04:10:20.450812Z",
     "iopub.status.busy": "2024-06-14T04:10:20.450283Z",
     "iopub.status.idle": "2024-06-14T04:10:20.466622Z",
     "shell.execute_reply": "2024-06-14T04:10:20.466080Z"
    },
    "papermill": {
     "duration": 0.022302,
     "end_time": "2024-06-14T04:10:20.467901",
     "exception": false,
     "start_time": "2024-06-14T04:10:20.445599",
     "status": "completed"
    },
    "scrolled": false,
    "tags": []
   },
   "outputs": [
    {
     "data": {
      "text/markdown": [
       "## Successful papers"
      ],
      "text/plain": [
       "<IPython.core.display.Markdown object>"
      ]
     },
     "metadata": {},
     "output_type": "display_data"
    },
    {
     "data": {
      "text/markdown": [
       "\n",
       "|||\n",
       "|---:|:---|\n",
       "| [![arXiv](https://img.shields.io/badge/arXiv-2406.09145-b31b1b.svg)](https://arxiv.org/abs/2406.09145) | **The Cygnus Allscale Survey of Chemistry and Dynamical Environments: CASCADE III. The large scale distribution of DCO+, DNC and DCN in the DR21 filament**  |\n",
       "|| I. B. Christensen, et al. -- incl., <mark>H. Beuther</mark>, <mark>D. Semenov</mark>, <mark>S. Li</mark> |\n",
       "|*Appeared on*| *2024-06-14*|\n",
       "|*Comments*| *24 pages, 21 figures, accepted to A&A*|\n",
       "|**Abstract**|            Deuterated molecules and their molecular D/H-ratios (RD(D)) are important diagnostic tools to study the physical conditions of star-forming regions. The degree of deuteration, RD(D), can be significantly enhanced over the elemental D/H-ratio depending on physical parameters. Within the Cygnus Allscale Survey of Chemistry and Dynamical Environments (CASCADE), we aim to explore the large-scale distribution of deuterated molecules in the nearby Cygnus-X region. We focus on the analysis of large-scale structures of deuterated molecules in the filamentary region hosting the prominent Hii region DR21 and DR21(OH). Here we discuss the HCO+, HNC and HCN molecules and their deuterated isotopologues DCO+, DNC and DCN. The spatial distributions of integrated line emissions from DCO+, DNC, and DCN reveal morphological differences. DCO+ displays the most extended emission, characterized by several prominent peaks. Likewise, DNC exhibits multiple peaks, although its emission appears less extended compared to DCO+. In contrast to the extended emission of DCO+ and DNC, DCN appears the least extended, with distinct peaks. Focusing only on the regions where all three molecules are observed, the mean deuteration ratios for each species are 0.01 for both DNC and DCN, and = 0.005 for DCO+. Anti-correlations are found with deuterated molecules and dust temperature or N(H2). The strongest anti-correlation is found with RD(DCO+) and N(H2). The anti-correlation of RD(DCO+) and N(H2) is suggested to be a result of a combination of an increased photodissociation degree and shocks. A strong positive correlation between the ratio of integrated intensities of DCN and DNC with their 13C-isotopologues, are found in high column density regions. The positive relationship between the ratios implies that the D-isotopologue of the isomers could potentially serve as a tracer for the kinetic gas temperature.         |"
      ],
      "text/plain": [
       "[2406.09145] The Cygnus Allscale Survey of Chemistry and Dynamical Environments: CASCADE III. The large scale distribution of DCO+, DNC and DCN in the DR21 filament\n",
       "\tI. B. Christensen, et al. -- incl., <mark>H. Beuther</mark>, <mark>D. Semenov</mark>, <mark>S. Li</mark>"
      ]
     },
     "metadata": {},
     "output_type": "display_data"
    },
    {
     "data": {
      "text/markdown": [
       "\n",
       "|||\n",
       "|---:|:---|\n",
       "| [![arXiv](https://img.shields.io/badge/arXiv-2406.09186-b31b1b.svg)](https://arxiv.org/abs/2406.09186) | **A formation pathway for terrestrial planets with moderate water content involving atmospheric-volatile recycling**  |\n",
       "|| <mark>J. Müller</mark>, B. Bitsch, A. D. Schneider |\n",
       "|*Appeared on*| *2024-06-14*|\n",
       "|*Comments*| *Accepted by A&A, 19 pages, 8 figures*|\n",
       "|**Abstract**|            Of the many recently discovered terrestrial exoplanets, some are expected to harbor moderate water mass fractions of a few percent. The formation pathways that can produce planets with these water mass fractions are not fully understood. Here, we use the code chemcomp, which consists of a semi-analytical 1D protoplanetary disk model harboring a migrating and accreting planet, to model the growth and composition of planets with moderate water mass fractions by pebble accretion in a protoplanetary disk around a TRAPPIST-1 analog star. This star is accompanied by seven terrestrial planets, of which the outer four planets likely contain water mass fractions of between 1\\% and 10\\%. We adopt a published model that considers the evaporation of pebbles in the planetary envelope, from where recycling flows can transport the volatile vapor back into the disk. We find that with this model, the planetary water content depends on the influx rate of pebbles onto the planet. A decreasing pebble influx with time reduces the envelope temperature and consequently allows the formation of planets with moderate water mass fractions as inferred for the outer TRAPPIST-1 planets for a number of different simulation configurations. This is further evidence that the recycling of vapor is an important component of planet formation needed to explain the vast and diverse population of exoplanets.         |"
      ],
      "text/plain": [
       "[2406.09186] A formation pathway for terrestrial planets with moderate water content involving atmospheric-volatile recycling\n",
       "\t<mark>J. Müller</mark>, B. Bitsch, A. D. Schneider"
      ]
     },
     "metadata": {},
     "output_type": "display_data"
    },
    {
     "data": {
      "text/markdown": [
       "## Failed papers"
      ],
      "text/plain": [
       "<IPython.core.display.Markdown object>"
      ]
     },
     "metadata": {},
     "output_type": "display_data"
    },
    {
     "data": {
      "text/markdown": [
       "\n",
       "|||\n",
       "|---:|:---|\n",
       "| [![arXiv](https://img.shields.io/badge/arXiv-2406.08906-b31b1b.svg)](https://arxiv.org/abs/2406.08906) | **Kinematics and star formation of hub-filament systems in W49A**  |\n",
       "|| W. Zhang, et al. -- incl., <mark>J. Li</mark> |\n",
       "|*Appeared on*| *2024-06-14*|\n",
       "|*Comments*| *19 pages, 22 figures. Accepted to A&A*|\n",
       "|**Abstract**|            W49A is a prominent giant molecular cloud (GMC) that exhibits strong star formation activities, yet its structural and kinematic properties remain uncertain. Our study aims to investigate the large-scale structure and kinematics of W49A, and elucidate the role of filaments and hub-filament systems (HFSs) in its star formation activity. We utilized continuum data from Herschel and the James Clerk Maxwell Telescope (JCMT) as well as the molecular lines 12CO (3-2), 13CO (3-2), and C18O (3-2) to identify filaments and HFS structures within W49A. Further analysis focused on the physical properties, kinematics, and mass transport within these structures. Additionally, recombination line emission from the H I/OH/Recombination (THOR) line survey was employed to trace the central H II region and ionized gas. Our findings reveal that W49A comprises one blue-shifted (B-S) HFS and one red-shifted (R-S) HFS, each with multiple filaments and dense hubs. Notably, significant velocity gradients were detected along these filaments, indicative of material transport toward the hubs. High mass accretion rates along the filaments facilitate the formation of massive stars in the HFSs. Furthermore, the presence of V-shaped structures around clumps in position-velocity diagrams suggests ongoing gravitational collapse and local star formation within the filaments. Our results indicate that W49A consists of one R-S HFS and one B-S HFS, and that the material transport from filaments to the hub promotes the formation of massive stars in the hub. These findings underscore the significance of HFSs in shaping the star formation history of W49A.         |\n",
       "|<p style=\"color:green\"> **ERROR** </p>| <p style=\"color:green\">affiliation error: mpia.affiliation_verifications: 'Heidelberg' keyword not found.</p> |"
      ],
      "text/plain": [
       "<IPython.core.display.Markdown object>"
      ]
     },
     "metadata": {},
     "output_type": "display_data"
    },
    {
     "data": {
      "text/markdown": [
       "\n",
       "|||\n",
       "|---:|:---|\n",
       "| [![arXiv](https://img.shields.io/badge/arXiv-2406.08935-b31b1b.svg)](https://arxiv.org/abs/2406.08935) | **Dense Outflowing Molecular Gas in Massive Star-forming Regions**  |\n",
       "|| Y. Xu, et al. -- incl., <mark>J. Li</mark> |\n",
       "|*Appeared on*| *2024-06-14*|\n",
       "|*Comments*| *22 pages, 5 figures, 4 tables, accepted in AJ*|\n",
       "|**Abstract**|            Dense outflowing gas, traced by transitions of molecules with large dipole moment, is important for understanding mass loss and feedback of massive star formation. HCN 3-2 and HCO$^+$ 3-2 are good tracers of dense outflowing molecular gas, which are closely related to active star formation. In this study, we present on-the-fly (OTF) mapping observations of HCN 3-2 and HCO$^+$ 3-2 toward a sample of 33 massive star-forming regions using the 10-m Submillimeter Telescope (SMT). With the spatial distribution of line wings of HCO$^+$ 3-2 and HCN 3-2, outflows are detected in 25 sources, resulting in a detection rate of 76$\\%$. The optically thin H$^{13}$CN and H$^{13}$CO$^+$ 3-2 lines are used to identify line wings as outflows and estimate core mass. The mass $M_{out}$, momentum $P_{out}$, kinetic energy $E_{K}$, force $F_{out}$ and mass loss rate $\\dot M_{out}$ of outflow and core mass, are obtained for each source. A sublinear tight correlation is found between the mass of dense molecular outflow and core mass, with an index of $\\sim$ 0.8 and a correlation coefficient of 0.88.         |\n",
       "|<p style=\"color:green\"> **ERROR** </p>| <p style=\"color:green\">affiliation error: mpia.affiliation_verifications: 'Heidelberg' keyword not found.</p> |"
      ],
      "text/plain": [
       "<IPython.core.display.Markdown object>"
      ]
     },
     "metadata": {},
     "output_type": "display_data"
    },
    {
     "data": {
      "text/markdown": [
       "\n",
       "|||\n",
       "|---:|:---|\n",
       "| [![arXiv](https://img.shields.io/badge/arXiv-2406.08612-b31b1b.svg)](https://arxiv.org/abs/2406.08612) | **Observation of Declination Dependence in the Cosmic Ray Energy Spectrum**  |\n",
       "|| T. A. Collaboration, et al. -- incl., <mark>K. Lee</mark> |\n",
       "|*Appeared on*| *2024-06-14*|\n",
       "|*Comments*| *8 pages, 6 figures*|\n",
       "|**Abstract**|            We report on an observation of the difference between northern and southern skies of the ultrahigh energy cosmic ray energy spectrum with a significance of ${\\sim}8\\sigma$. We use measurements from the two largest experiments$\\unicode{x2014}$the Telescope Array observing the northern hemisphere and the Pierre Auger Observatory viewing the southern hemisphere. Since the comparison of two measurements from different observatories introduces the issue of possible systematic differences between detectors and analyses, we validate the methodology of the comparison by examining the region of the sky where the apertures of the two observatories overlap. Although the spectra differ in this region, we find that there is only a $1.8\\sigma$ difference between the spectrum measurements when anisotropic regions are removed and a fiducial cut in the aperture is applied.         |\n",
       "|<p style=\"color:red\"> **ERROR** </p>| <p style=\"color:red\">latex error 'PosixPath' object is not subscriptable</p> |"
      ],
      "text/plain": [
       "<IPython.core.display.Markdown object>"
      ]
     },
     "metadata": {},
     "output_type": "display_data"
    }
   ],
   "source": [
    "import datetime\n",
    "today = str(datetime.date.today())\n",
    "logfile = f\"_build/html/logs/log-{today}.md\"\n",
    "\n",
    "\n",
    "with open(logfile, 'w') as logs:\n",
    "    # Success\n",
    "    logs.write(f'# Arxiv on Deck 2: Logs - {today}\\n\\n')\n",
    "    logs.write(\"\"\"* Arxiv had {0:,d} new papers\\n\"\"\".format(len(new_papers)))\n",
    "    logs.write(\"\"\"    * {0:,d} with possible author matches\\n\\n\"\"\".format(len(candidates)))\n",
    "    logs.write(\"## Sucessful papers\\n\\n\")\n",
    "    display(Markdown(\"## Successful papers\"))\n",
    "    success = [k[0] for k in documents]\n",
    "    for candid in candidates:\n",
    "        if candid['identifier'].split(':')[-1] in success:\n",
    "            display(candid)\n",
    "            logs.write(candid.generate_markdown_text() + '\\n\\n')\n",
    "\n",
    "    ## failed\n",
    "    logs.write(\"## Failed papers\\n\\n\")\n",
    "    display(Markdown(\"## Failed papers\"))\n",
    "    failed = sorted(failed, key=lambda x: x[1])\n",
    "    current_reason = \"\"\n",
    "    for paper, reason in failed:\n",
    "        if 'affiliation' in reason:\n",
    "            color = 'green'\n",
    "        else:\n",
    "            color = 'red'\n",
    "        data = Markdown(\n",
    "                paper.generate_markdown_text() + \n",
    "                f'\\n|<p style=\"color:{color:s}\"> **ERROR** </p>| <p style=\"color:{color:s}\">{reason:s}</p> |'\n",
    "               )\n",
    "        if reason != current_reason:\n",
    "            logs.write(f'### {reason:s} \\n\\n')\n",
    "            current_reason = reason\n",
    "        logs.write(data.data + '\\n\\n')\n",
    "        \n",
    "        # only display here the important errors (all in logs)\n",
    "        # if color in ('red',):\n",
    "        display(data)"
   ]
  },
  {
   "cell_type": "markdown",
   "id": "472d20ee",
   "metadata": {
    "papermill": {
     "duration": 0.004312,
     "end_time": "2024-06-14T04:10:20.476775",
     "exception": false,
     "start_time": "2024-06-14T04:10:20.472463",
     "status": "completed"
    },
    "tags": []
   },
   "source": [
    "## Export documents\n",
    "\n",
    "We now write the .md files and export relevant images"
   ]
  },
  {
   "cell_type": "code",
   "execution_count": 7,
   "id": "d426aed9",
   "metadata": {
    "execution": {
     "iopub.execute_input": "2024-06-14T04:10:20.486621Z",
     "iopub.status.busy": "2024-06-14T04:10:20.486303Z",
     "iopub.status.idle": "2024-06-14T04:10:20.492549Z",
     "shell.execute_reply": "2024-06-14T04:10:20.491965Z"
    },
    "papermill": {
     "duration": 0.012768,
     "end_time": "2024-06-14T04:10:20.493891",
     "exception": false,
     "start_time": "2024-06-14T04:10:20.481123",
     "status": "completed"
    },
    "tags": []
   },
   "outputs": [],
   "source": [
    "def export_markdown_summary(md: str, md_fname:str, directory: str):\n",
    "    \"\"\"Export MD document and associated relevant images\"\"\"\n",
    "    import os\n",
    "    import shutil\n",
    "    import re\n",
    "\n",
    "    if (os.path.exists(directory) and not os.path.isdir(directory)):\n",
    "        raise RuntimeError(f\"a non-directory file exists with name {directory:s}\")\n",
    "\n",
    "    if (not os.path.exists(directory)):\n",
    "        print(f\"creating directory {directory:s}\")\n",
    "        os.mkdir(directory)\n",
    "\n",
    "    fig_fnames = (re.compile(r'\\[Fig.*\\]\\((.*)\\)').findall(md) + \n",
    "                  re.compile(r'\\<img src=\"([^>\\s]*)\"[^>]*/>').findall(md))\n",
    "    for fname in fig_fnames:\n",
    "        if 'http' in fname:\n",
    "            # No need to copy online figures\n",
    "            continue\n",
    "        destdir = os.path.join(directory, os.path.dirname(fname))\n",
    "        destfname = os.path.join(destdir, os.path.basename(fname))\n",
    "        try:\n",
    "            os.makedirs(destdir)\n",
    "        except FileExistsError:\n",
    "            pass\n",
    "        shutil.copy(fname, destfname)\n",
    "    with open(os.path.join(directory, md_fname), 'w') as fout:\n",
    "        fout.write(md)\n",
    "    print(\"exported in \", os.path.join(directory, md_fname))\n",
    "    [print(\"    + \" + os.path.join(directory,fk)) for fk in fig_fnames]"
   ]
  },
  {
   "cell_type": "code",
   "execution_count": 8,
   "id": "014d04a4",
   "metadata": {
    "execution": {
     "iopub.execute_input": "2024-06-14T04:10:20.503847Z",
     "iopub.status.busy": "2024-06-14T04:10:20.503415Z",
     "iopub.status.idle": "2024-06-14T04:10:20.515783Z",
     "shell.execute_reply": "2024-06-14T04:10:20.515132Z"
    },
    "papermill": {
     "duration": 0.01882,
     "end_time": "2024-06-14T04:10:20.517151",
     "exception": false,
     "start_time": "2024-06-14T04:10:20.498331",
     "status": "completed"
    },
    "tags": []
   },
   "outputs": [
    {
     "name": "stdout",
     "output_type": "stream",
     "text": [
      "exported in  _build/html/2406.09145.md\n",
      "    + _build/html/tmp_2406.09145/./Illustrations/All_deuterated.png\n",
      "    + _build/html/tmp_2406.09145/./Illustrations/Ionization_HCO.png\n",
      "    + _build/html/tmp_2406.09145/./Illustrations/CumDistr_deut.png\n",
      "exported in  _build/html/2406.09186.md\n",
      "    + _build/html/tmp_2406.09186/./figs/new/Fig_3_NEW_with_R0.png\n",
      "    + _build/html/tmp_2406.09186/./figs/new/3x3_ENVTOT_evap_REFEREE.png\n",
      "    + _build/html/tmp_2406.09186/./figs/new/Fig_4_NEW_with_R0.png\n"
     ]
    }
   ],
   "source": [
    "for paper_id, md in documents:\n",
    "    export_markdown_summary(md, f\"{paper_id:s}.md\", '_build/html/')"
   ]
  },
  {
   "cell_type": "markdown",
   "id": "f087a0a7",
   "metadata": {
    "papermill": {
     "duration": 0.004509,
     "end_time": "2024-06-14T04:10:20.526401",
     "exception": false,
     "start_time": "2024-06-14T04:10:20.521892",
     "status": "completed"
    },
    "tags": []
   },
   "source": [
    "## Display the papers\n",
    "\n",
    "Not necessary but allows for a quick check."
   ]
  },
  {
   "cell_type": "code",
   "execution_count": 9,
   "id": "fd25f625",
   "metadata": {
    "execution": {
     "iopub.execute_input": "2024-06-14T04:10:20.537472Z",
     "iopub.status.busy": "2024-06-14T04:10:20.537007Z",
     "iopub.status.idle": "2024-06-14T04:10:20.542856Z",
     "shell.execute_reply": "2024-06-14T04:10:20.542307Z"
    },
    "papermill": {
     "duration": 0.013183,
     "end_time": "2024-06-14T04:10:20.544219",
     "exception": false,
     "start_time": "2024-06-14T04:10:20.531036",
     "status": "completed"
    },
    "scrolled": false,
    "tags": []
   },
   "outputs": [
    {
     "data": {
      "text/markdown": [
       "<div class=\"macros\" style=\"visibility:hidden;\">\n",
       "$\\newcommand{\\ensuremath}{}$\n",
       "$\\newcommand{\\xspace}{}$\n",
       "$\\newcommand{\\object}[1]{\\texttt{#1}}$\n",
       "$\\newcommand{\\farcs}{{.}''}$\n",
       "$\\newcommand{\\farcm}{{.}'}$\n",
       "$\\newcommand{\\arcsec}{''}$\n",
       "$\\newcommand{\\arcmin}{'}$\n",
       "$\\newcommand{\\ion}[2]{#1#2}$\n",
       "$\\newcommand{\\textsc}[1]{\\textrm{#1}}$\n",
       "$\\newcommand{\\hl}[1]{\\textrm{#1}}$\n",
       "$\\newcommand{\\footnote}[1]{}$\n",
       "$\\newcommand{\\hii}{H{\\sc ii}}$\n",
       "$\\newcommand{\\hi}{H{\\sc i}}$\n",
       "$\\newcommand{\\kms}{km s^{-1}}$</div>\n",
       "\n",
       "\n",
       "\n",
       "<div id=\"title\">\n",
       "\n",
       "# The Cygnus Allscale Survey of Chemistry and Dynamical Environments: CASCADE\n",
       "\n",
       "</div>\n",
       "<div id=\"comments\">\n",
       "\n",
       "[![arXiv](https://img.shields.io/badge/arXiv-2406.09145-b31b1b.svg)](https://arxiv.org/abs/2406.09145)<mark>Appeared on: 2024-06-14</mark> -  _24 pages, 21 figures, accepted to A&A_\n",
       "\n",
       "</div>\n",
       "<div id=\"authors\">\n",
       "\n",
       "I. B. Christensen, et al. -- incl., <mark>H. Beuther</mark>, <mark>D. Semenov</mark>, <mark>S. Li</mark>\n",
       "\n",
       "</div>\n",
       "<div id=\"abstract\">\n",
       "\n",
       "**Abstract:** Deuterated molecules and their molecular D/H-ratios ( $R_D$ (D)) are important diagnostic tools to study the physical conditions of star-forming regions. The degree of deuteration, $R_D$ (D), can be significantly enhanced over the elemental D/H-ratio depending on physical parameters such as temperature, density, and ionization fraction. Within the **C** ygnus **A** llscale **S** urvey of **C** hemistry **a** nd **D** ynamical **E** nvironments (CASCADE), we aim to explore the large-scale distribution of deuterated molecules in the nearby ( $d \\sim 1.5$ kpc) Cygnus-X region, a giant molecular cloud complex that hosts multiple sites of high mass star formation. We focus on the analysis of large-scale structures of deuterated molecules in the filamentary region hosting the prominent $\\hii$ region DR21 and DR21(OH), a molecular hot core that is at an earlier evolutionary state. The DR21 filament has been imaged using the IRAM 30-m telescope in a variety of deuterated molecules and transitions.    Here we discuss the $\\ce{HCO+}$ , HNC and HCN molecules and their deuterated isotopologues $\\ce{DCO+}$ , DNC and DCN, and their observed line emissions at 3.6, 2, and 1.3-mm. The spatial distributions of integrated line emissions from $\\ce{DCO+}$ , DNC, and DCN reveal morphological differences. Notably, $\\ce{DCO+}$ displays the most extended emission, characterized by several prominent peaks. Likewise, DNC exhibits multiple peaks, although its emission appears less extended compared to $\\ce{DCO+}$ . In contrast to the extended emission of $\\ce{DCO+}$ and DNC, DCN appears the least extended, with distinct peaks.    Focusing only on the regions where all three molecules are observed, the mean deuteration ratios for each species, $R_D$ , are 0.01 for both DNC and DCN, and $=0.005$ for $\\ce{DCO+}$ , respectively.    Anti-correlations are found with deuterated molecules and dust temperature or $N$ ( $\\ce{H2}$ ). The strongest anti-correlation is found with $R_D$ ( $\\ce{DCO+}$ ) and $N$ ( $\\ce{H2}$ ), with a Pearson correlation coefficient of $\\rho = -0.74$ .    We analyze the SiO emission as a tracer for shocks and the $N$ (HCO)/ $N$ ( $\\ce{H^13CO+}$ ) as a tracer for increased photodissociation by UV.    The anti-correlation of $R_D$ ( $\\ce{DCO+}$ ) and $N$ ( $\\ce{H2}$ ) is suggested to be a result of a combination of an increased photodissociation degree and shocks.    A strong positive correlation between the ratio of integrated intensities of DCN and DNC with their $^{13}$ C-isotopologues, are found in high column density regions.    The positive relationship between the ratios implies that the D-isotopologue of the isomers could potentially serve as a tracer for the kinetic gas temperature.\n",
       "\n",
       "</div>\n",
       "\n",
       "<div id=\"div_fig1\">\n",
       "\n",
       "<img src=\"tmp_2406.09145/./Illustrations/All_deuterated.png\" alt=\"Fig11\" width=\"100%\"/>\n",
       "\n",
       "**Figure 11. -** Top and middle rows: The ground-state emission of \\ce{DCO+}, DNC and DCN observed with the CASCADE-program and follow-up mapping with the IRAM-30m telescope. Bottom row: Maps for \\ce{^13C} isotopologs. The intensities in  the maps are integrated over the velocity range $-7$ $\\kms$ to $+0.5$\\kms. HPBWs are displayed by the filled white circles in the lower left corner of each panel.\n",
       "  For example,  the HPBW beam-size  is $34$\\arcsec$$ for the map showing DNC (2--1),  16$\\arcsec$ for DCO$^+$(3--2) and $11$\\arcsec for  DCN (3--2).\n",
       "  The white contours are showing levels of $4\\sigma$,  $8\\sigma$ and $12\\sigma$. The stars mark DR21 Main (red) and DR21(OH) (blue). The locations of the F1 and F3 sub-filament  ([Schneider, Csengeri and Bontemps 2010]())  are indicated by red and magenta dashed curves, respectively.  (*fig:deutmaps*)\n",
       "\n",
       "</div>\n",
       "<div id=\"div_fig2\">\n",
       "\n",
       "<img src=\"tmp_2406.09145/./Illustrations/Ionization_HCO.png\" alt=\"Fig5\" width=\"100%\"/>\n",
       "\n",
       "**Figure 5. -** $N$(HCO)/$N$(\\ce{H^13CO+}) vs. $N$($H_2$) (top panel) and dust temperature (middle panel). The bottom panel shows the correlation of $N$(HCO)/$N$(\\ce{H^13CO+}) with $R_D$(\\ce{DCO+}). The purple points represent pixels in the DR21 filament above $4\\sigma$ and the grey point shows the ATLASGAL sources from [Kim, Wyrowski and Urquhart (2020)](). The black vertical line represents the indicator of ongoing FUV chemistry $\\geq 1$ ([Gerin, et. al 2009](), [Kim, Wyrowski and Urquhart 2020]()) .\n",
       "  The blue star mark the surroundings of DR21(OH), where \\ce{HCO}, \\ce{H^13CO+} and \\ce{DCO+} are detected. (*fig:ionizationHCO*)\n",
       "\n",
       "</div>\n",
       "<div id=\"div_fig3\">\n",
       "\n",
       "<img src=\"tmp_2406.09145/./Illustrations/CumDistr_deut.png\" alt=\"Fig2\" width=\"100%\"/>\n",
       "\n",
       "**Figure 2. -** Cumulative distribution function (CDF) of dust temperature and \\ce{H2} column density where \\ce{DCO+}(purple), DNC (orange) or DCN (blue) is detected in the DR21 filament.\n",
       "  The dust temperatures and \\ce{H2} column density maps are taken from [Bonne, Bontemps and Schneider (2023)]().\n",
       "  The horizontal dashed lines marks the mean dust temperature or column density of the sampled distributions, colorized with the respective detected molecular ratio. (*fig:phys_distribution*)\n",
       "\n",
       "</div><div id=\"qrcode\"><img src=https://api.qrserver.com/v1/create-qr-code/?size=100x100&data=\"https://arxiv.org/abs/2406.09145\"></div>"
      ],
      "text/plain": [
       "<IPython.core.display.Markdown object>"
      ]
     },
     "metadata": {},
     "output_type": "display_data"
    },
    {
     "data": {
      "text/markdown": [
       "<div class=\"macros\" style=\"visibility:hidden;\">\n",
       "$\\newcommand{\\ensuremath}{}$\n",
       "$\\newcommand{\\xspace}{}$\n",
       "$\\newcommand{\\object}[1]{\\texttt{#1}}$\n",
       "$\\newcommand{\\farcs}{{.}''}$\n",
       "$\\newcommand{\\farcm}{{.}'}$\n",
       "$\\newcommand{\\arcsec}{''}$\n",
       "$\\newcommand{\\arcmin}{'}$\n",
       "$\\newcommand{\\ion}[2]{#1#2}$\n",
       "$\\newcommand{\\textsc}[1]{\\textrm{#1}}$\n",
       "$\\newcommand{\\hl}[1]{\\textrm{#1}}$\n",
       "$\\newcommand{\\footnote}[1]{}$</div>\n",
       "\n",
       "\n",
       "\n",
       "<div id=\"title\">\n",
       "\n",
       "# A formation pathway for terrestrial planets with moderate water content involving atmospheric-volatile recycling\n",
       "\n",
       "</div>\n",
       "<div id=\"comments\">\n",
       "\n",
       "[![arXiv](https://img.shields.io/badge/arXiv-2406.09186-b31b1b.svg)](https://arxiv.org/abs/2406.09186)<mark>Appeared on: 2024-06-14</mark> -  _Accepted by A&A, 19 pages, 8 figures_\n",
       "\n",
       "</div>\n",
       "<div id=\"authors\">\n",
       "\n",
       "<mark>J. Müller</mark>, B. Bitsch, A. D. Schneider\n",
       "\n",
       "</div>\n",
       "<div id=\"abstract\">\n",
       "\n",
       "**Abstract:** Of the many recently discovered terrestrial exoplanets, some are expected to harbor moderate water mass fractions of a few percent. The formation pathways that can produce planets with these water mass fractions are not fully understood.Here, we use the code \\texttt{chemcomp} , which consists of a semi-analytical 1D protoplanetary disk model harboring a migrating and accreting planet, to model the growth and composition of planets with moderate water mass fractions by pebble accretion in a protoplanetary disk around a TRAPPIST-1 analog star. This star is accompanied by seven terrestrial planets, of which the outer four planets likely contain water mass fractions of between 1 \\% and 10 \\% .We adopt a published model that considers the evaporation of pebbles in the planetary envelope, from where recycling flows can transport the volatile vapor back into the disk.We find that with this model, the planetary water content depends on the influx rate of pebbles onto the planet. A decreasing pebble influx with time reduces the envelope temperature and consequently allows the formation of planets with moderate water mass fractions as inferred for the outer TRAPPIST-1 planets for a number of different simulation configurations.This is further evidence that the recycling of vapor is an important component of planet formation needed to explain the vast and diverse population of exoplanets.\n",
       "\n",
       "</div>\n",
       "\n",
       "<div id=\"div_fig1\">\n",
       "\n",
       "<img src=\"tmp_2406.09186/./figs/new/Fig_3_NEW_with_R0.png\" alt=\"Fig2\" width=\"100%\"/>\n",
       "\n",
       "**Figure 2. -** Comparison of planets using the simple envelope opacity model of [Johansen, Ronnet and Bizzarro (2021)]() with $\\kappa_{\\rm env,0}= 0.1$ cm$^2$ g$^{-1}$(see Eq. \\ref{eq: envelope opacity johansen}; transparent lines) and the Brouwers opacity model by [Brouwers, et. al (2021)]() with $v_{\\rm lim} = 30.0$ m s$^{-1}$ and $F = 0.0$(see Eq. \\ref{eq: envelope opacity brouwers}; dotted lines) for different initial disk masses _ (left)_ and different initial disk radii _ (right)_. The pebbles in the disk follow the motion of the gas and behave similarly as in [Johansen, Ronnet and Bizzarro (2021)](). The planets start at a disk temperature of 100 K and migrate toward the inner edge of the disk within 1.5 Myr, causing the simulation to end. The growth of the planet initiates at $t_0 = 0.1$ Myr. The maximum disk lifetime is set to 5 Myr, but for the sake of clarity we only show the first 3 Myr in the bottom two rows.\n",
       "    The light-blue region corresponds to the estimated total water mass fraction of the Earth, consisting of contributions from the hydrosphere, the exosphere including the crust, and the mantle \\citep[e.g., ][]{marty2012, dangelo+2019}. _First row:_ Growth tracks. Due to the viscous heating of the protoplanetary disk, the initial position of the planet changes for different initial disk masses and radii, as we want to keep it in the same relative position exterior to the water-evaporation line. _Second row:_ Planetary water mass fraction as a function of planetary mass. For the sake of clarity, only the first 3 Myr are shown in this and the following row. _Third row:_ Planetary water mass fraction as a function of time. _Last row:_ Effective pebble accretion rates onto the planet as a function of time. (*fig: johopac*)\n",
       "\n",
       "</div>\n",
       "<div id=\"div_fig2\">\n",
       "\n",
       "<img src=\"tmp_2406.09186/./figs/new/3x3_ENVTOT_evap_REFEREE.png\" alt=\"Fig7\" width=\"100%\"/>\n",
       "\n",
       "**Figure 7. -** Final planetary water mass fraction versus initial local disk temperature at the position of the planet as a proxy for the distance from the star.\n",
       "    Planets that are not shown in the plot have lower water mass fractions than 10$^{-5}$.\n",
       "    _The columns_ correspond to different values of the $\\alpha$-viscosity, _the rows_ show different solid fragmentation velocity values. Each marker corresponds to one planet starting at a specific disk temperature. The color of the markers indicates the final mass of the planet (see color-bars on the right). The shape of the markers specifies the initial mass of the disk in which the planet grows (see legend).\n",
       "    The hatched regions in the background correspond to the 1$\\sigma$-regions of the water mass fractions of the TRAPPIST-1 planets estimated by [Raymond, Izidoro and Bolmont (2022)]() using their model ii and are color-coded according to the observed masses of the TRAPPIST-1 planets using the same color-bar.\n",
       "    The vertical lines indicate the location of the water-evaporation front. We use our full model, which consists of both the Brouwers opacity model ($v_{\\rm lim} = 30.0$ m s$^{-1}$, $F = 0.0$) and the Birnstiel pebble drift, while applying the planetary envelope model described above. In addition, we account for the planetary migration and the evaporation of pebbles in the disk as they drift inwards. (*fig: ENVTOT evap*)\n",
       "\n",
       "</div>\n",
       "<div id=\"div_fig3\">\n",
       "\n",
       "<img src=\"tmp_2406.09186/./figs/new/Fig_4_NEW_with_R0.png\" alt=\"Fig3\" width=\"100%\"/>\n",
       "\n",
       "**Figure 3. -** Comparison of planets growing in a disk with gas-sensitive pebbles (similar to [Johansen, Ronnet and Bizzarro (2021)](); transparent lines) and a disk in which the pebbles follow the Birnstiel pebble drift (dashed lines) for different initial disk masses. The transparent lines are the same as the transparent lines shown in Fig. \\ref{fig: johopac}. For these two sets of simulations (transparent and dashed lines), we use the simple envelope opacity model with $\\kappa_{\\rm env,0}= 0.1$ cm$^2$ g$^{-1}$(see Eq. \\ref{eq: envelope opacity johansen}).\n",
       "    In addition, we show simulations using our full model as solid lines.\n",
       "    In our full model, the planets grow in a disk with with pebbles drifting according to the Birnstiel pebble drift model while considering the Brouwers opacity model with $v_{\\rm lim} = 30.0$ m s$^{-1}$ and $F = 0.0$(see Eq. \\ref{eq: envelope opacity brouwers}). The layout of the plot and the other simulation parameters are similar to Fig. \\ref{fig: johopac}. (*fig: johdrift*)\n",
       "\n",
       "</div><div id=\"qrcode\"><img src=https://api.qrserver.com/v1/create-qr-code/?size=100x100&data=\"https://arxiv.org/abs/2406.09186\"></div>"
      ],
      "text/plain": [
       "<IPython.core.display.Markdown object>"
      ]
     },
     "metadata": {},
     "output_type": "display_data"
    }
   ],
   "source": [
    "[display(Markdown(k[1])) for k in documents];"
   ]
  },
  {
   "cell_type": "markdown",
   "id": "873873a4",
   "metadata": {
    "papermill": {
     "duration": 0.005079,
     "end_time": "2024-06-14T04:10:20.554530",
     "exception": false,
     "start_time": "2024-06-14T04:10:20.549451",
     "status": "completed"
    },
    "tags": []
   },
   "source": [
    "# Create HTML index"
   ]
  },
  {
   "cell_type": "code",
   "execution_count": 10,
   "id": "cf665672",
   "metadata": {
    "execution": {
     "iopub.execute_input": "2024-06-14T04:10:20.565746Z",
     "iopub.status.busy": "2024-06-14T04:10:20.565189Z",
     "iopub.status.idle": "2024-06-14T04:10:20.572149Z",
     "shell.execute_reply": "2024-06-14T04:10:20.571552Z"
    },
    "papermill": {
     "duration": 0.014042,
     "end_time": "2024-06-14T04:10:20.573581",
     "exception": false,
     "start_time": "2024-06-14T04:10:20.559539",
     "status": "completed"
    },
    "tags": []
   },
   "outputs": [
    {
     "name": "stdout",
     "output_type": "stream",
     "text": [
      "96  publications files modified in the last 7 days.\n"
     ]
    }
   ],
   "source": [
    "from datetime import datetime, timedelta, timezone\n",
    "from glob import glob\n",
    "import os\n",
    "\n",
    "files = glob('_build/html/*.md')\n",
    "days = 7\n",
    "now = datetime.today()\n",
    "res = []\n",
    "for fk in files:\n",
    "    stat_result = os.stat(fk).st_ctime\n",
    "    modified = datetime.fromtimestamp(stat_result, tz=timezone.utc).replace(tzinfo=None)\n",
    "    delta = now.today() - modified\n",
    "    if delta <= timedelta(days=days):\n",
    "        res.append((delta.seconds, fk))\n",
    "res = [k[1] for k in reversed(sorted(res, key=lambda x:x[1]))]\n",
    "npub = len(res)\n",
    "print(len(res), f\" publications files modified in the last {days:d} days.\")\n",
    "# [ print('\\t', k) for k in res ];"
   ]
  },
  {
   "cell_type": "code",
   "execution_count": 11,
   "id": "015de740",
   "metadata": {
    "execution": {
     "iopub.execute_input": "2024-06-14T04:10:20.584601Z",
     "iopub.status.busy": "2024-06-14T04:10:20.584215Z",
     "iopub.status.idle": "2024-06-14T04:10:20.595070Z",
     "shell.execute_reply": "2024-06-14T04:10:20.594545Z"
    },
    "papermill": {
     "duration": 0.017823,
     "end_time": "2024-06-14T04:10:20.596401",
     "exception": false,
     "start_time": "2024-06-14T04:10:20.578578",
     "status": "completed"
    },
    "tags": []
   },
   "outputs": [
    {
     "name": "stdout",
     "output_type": "stream",
     "text": [
      "9  publications in the last 7 days.\n"
     ]
    }
   ],
   "source": [
    "import datetime\n",
    "from glob import glob\n",
    "\n",
    "def get_last_n_days(lst, days=1):\n",
    "    \"\"\" Get the documents from the last n days \"\"\"\n",
    "    sorted_lst = sorted(lst, key=lambda x: x[1], reverse=True)\n",
    "    for fname, date in sorted_lst:\n",
    "        if date >= str(datetime.date.today() - datetime.timedelta(days=days)):\n",
    "            yield fname\n",
    "\n",
    "def extract_appearance_dates(lst_file):\n",
    "    dates = []\n",
    "\n",
    "    def get_date(line):\n",
    "        return line\\\n",
    "            .split('Appeared on:')[-1]\\\n",
    "            .split('</mark>')[0].strip()\n",
    "\n",
    "    for fname in lst:\n",
    "        with open(fname, 'r') as f:\n",
    "            found_date = False\n",
    "            for line in f:\n",
    "                if not found_date:\n",
    "                    if \"Appeared on\" in line:\n",
    "                        found_date = True\n",
    "                        dates.append((fname, get_date(line)))\n",
    "                else:\n",
    "                    break\n",
    "    return dates\n",
    "\n",
    "from glob import glob\n",
    "lst = glob('_build/html/*md')\n",
    "days = 7\n",
    "dates = extract_appearance_dates(lst)\n",
    "res = list(get_last_n_days(dates, days))\n",
    "npub = len(res)\n",
    "print(len(res), f\" publications in the last {days:d} days.\")"
   ]
  },
  {
   "cell_type": "code",
   "execution_count": 12,
   "id": "52ca0208",
   "metadata": {
    "execution": {
     "iopub.execute_input": "2024-06-14T04:10:20.607591Z",
     "iopub.status.busy": "2024-06-14T04:10:20.607221Z",
     "iopub.status.idle": "2024-06-14T04:10:20.611965Z",
     "shell.execute_reply": "2024-06-14T04:10:20.611407Z"
    },
    "papermill": {
     "duration": 0.011699,
     "end_time": "2024-06-14T04:10:20.613259",
     "exception": false,
     "start_time": "2024-06-14T04:10:20.601560",
     "status": "completed"
    },
    "scrolled": false,
    "tags": []
   },
   "outputs": [],
   "source": [
    "def create_carousel(npub=4):\n",
    "    \"\"\" Generate the HTML code for a carousel with `npub` slides \"\"\"\n",
    "    carousel = [\"\"\"  <div class=\"carousel\" \"\"\",\n",
    "                \"\"\"       data-flickity='{ \"autoPlay\": 10000, \"adaptiveHeight\": true, \"resize\": true, \"wrapAround\": true, \"pauseAutoPlayOnHover\": true, \"groupCells\": 1 }' id=\"asyncTypeset\">\"\"\"\n",
    "                ]\n",
    "    \n",
    "    item_str = \"\"\"    <div class=\"carousel-cell\"> <div id=\"slide{k}\" class=\"md_view\">Content {k}</div> </div>\"\"\"\n",
    "    for k in range(1, npub + 1):\n",
    "        carousel.append(item_str.format(k=k))\n",
    "    carousel.append(\"  </div>\")\n",
    "    return '\\n'.join(carousel)\n",
    "\n",
    "def create_grid(npub=4):\n",
    "    \"\"\" Generate the HTML code for a flat grid with `npub` slides \"\"\"\n",
    "    grid = [\"\"\"  <div class=\"grid\"> \"\"\",\n",
    "                ]\n",
    "    \n",
    "    item_str = \"\"\"    <div class=\"grid-item\"> <div id=\"slide{k}\" class=\"md_view\">Content {k}</div> </div>\"\"\"\n",
    "    for k in range(1, npub + 1):\n",
    "        grid.append(item_str.format(k=k))\n",
    "    grid.append(\"  </div>\")\n",
    "    return '\\n'.join(grid)"
   ]
  },
  {
   "cell_type": "code",
   "execution_count": 13,
   "id": "a6eac5b6",
   "metadata": {
    "execution": {
     "iopub.execute_input": "2024-06-14T04:10:20.624503Z",
     "iopub.status.busy": "2024-06-14T04:10:20.624248Z",
     "iopub.status.idle": "2024-06-14T04:10:20.629448Z",
     "shell.execute_reply": "2024-06-14T04:10:20.628888Z"
    },
    "papermill": {
     "duration": 0.012428,
     "end_time": "2024-06-14T04:10:20.630796",
     "exception": false,
     "start_time": "2024-06-14T04:10:20.618368",
     "status": "completed"
    },
    "scrolled": false,
    "tags": []
   },
   "outputs": [],
   "source": [
    "carousel = create_carousel(npub)\n",
    "docs = ', '.join(['\"{0:s}\"'.format(k.split('/')[-1]) for k in res])\n",
    "slides = ', '.join([f'\"slide{k}\"' for k in range(1, npub + 1)])\n",
    "\n",
    "with open(\"daily_template.html\", \"r\") as tpl:\n",
    "    page = tpl.read()\n",
    "    page = page.replace(\"{%-- carousel:s --%}\", carousel)\\\n",
    "               .replace(\"{%-- suptitle:s --%}\",  \"7-day archives\" )\\\n",
    "               .replace(\"{%-- docs:s --%}\", docs)\\\n",
    "               .replace(\"{%-- slides:s --%}\", slides)\n",
    "    \n",
    "with open(\"_build/html/index_7days.html\", 'w') as fout:\n",
    "    fout.write(page)"
   ]
  },
  {
   "cell_type": "code",
   "execution_count": 14,
   "id": "adc1a1ec",
   "metadata": {
    "execution": {
     "iopub.execute_input": "2024-06-14T04:10:20.642415Z",
     "iopub.status.busy": "2024-06-14T04:10:20.641954Z",
     "iopub.status.idle": "2024-06-14T04:10:20.648374Z",
     "shell.execute_reply": "2024-06-14T04:10:20.647816Z"
    },
    "papermill": {
     "duration": 0.01372,
     "end_time": "2024-06-14T04:10:20.649735",
     "exception": false,
     "start_time": "2024-06-14T04:10:20.636015",
     "status": "completed"
    },
    "tags": []
   },
   "outputs": [
    {
     "name": "stdout",
     "output_type": "stream",
     "text": [
      "4  publications in the last day.\n"
     ]
    }
   ],
   "source": [
    "# redo for today\n",
    "days = 1\n",
    "res = list(get_last_n_days(dates, days))\n",
    "npub = len(res)\n",
    "print(len(res), f\" publications in the last day.\")\n",
    "\n",
    "carousel = create_carousel(npub)\n",
    "docs = ', '.join(['\"{0:s}\"'.format(k.split('/')[-1]) for k in res])\n",
    "slides = ', '.join([f'\"slide{k}\"' for k in range(1, npub + 1)])\n",
    "\n",
    "with open(\"daily_template.html\", \"r\") as tpl:\n",
    "    page = tpl.read()\n",
    "    page = page.replace(\"{%-- carousel:s --%}\", carousel)\\\n",
    "               .replace(\"{%-- suptitle:s --%}\",  \"Daily\" )\\\n",
    "               .replace(\"{%-- docs:s --%}\", docs)\\\n",
    "               .replace(\"{%-- slides:s --%}\", slides)\n",
    "    \n",
    "# print(carousel, docs, slides)\n",
    "# print(page)\n",
    "with open(\"_build/html/index_daily.html\", 'w') as fout:\n",
    "    fout.write(page)"
   ]
  },
  {
   "cell_type": "code",
   "execution_count": 15,
   "id": "00eece82",
   "metadata": {
    "execution": {
     "iopub.execute_input": "2024-06-14T04:10:20.661257Z",
     "iopub.status.busy": "2024-06-14T04:10:20.661017Z",
     "iopub.status.idle": "2024-06-14T04:10:20.667654Z",
     "shell.execute_reply": "2024-06-14T04:10:20.667120Z"
    },
    "papermill": {
     "duration": 0.013856,
     "end_time": "2024-06-14T04:10:20.668937",
     "exception": false,
     "start_time": "2024-06-14T04:10:20.655081",
     "status": "completed"
    },
    "scrolled": false,
    "tags": []
   },
   "outputs": [
    {
     "name": "stdout",
     "output_type": "stream",
     "text": [
      "6  6 publications selected.\n"
     ]
    }
   ],
   "source": [
    "# Create the flat grid of the last N papers (fixed number regardless of dates)\n",
    "from itertools import islice \n",
    "\n",
    "npub = 6\n",
    "res = [k[0] for k in (islice(reversed(sorted(dates, key=lambda x: x[1])), 6))]\n",
    "print(len(res), f\" {npub} publications selected.\")\n",
    "\n",
    "grid = create_grid(npub)\n",
    "docs = ', '.join(['\"{0:s}\"'.format(k.split('/')[-1]) for k in res])\n",
    "slides = ', '.join([f'\"slide{k}\"' for k in range(1, npub + 1)])\n",
    "\n",
    "with open(\"grid_template.html\", \"r\") as tpl:\n",
    "    page = tpl.read()\n",
    "    page = page.replace(\"{%-- grid-content:s --%}\", grid)\\\n",
    "               .replace(\"{%-- suptitle:s --%}\",  f\"Last {npub:,d} papers\" )\\\n",
    "               .replace(\"{%-- docs:s --%}\", docs)\\\n",
    "               .replace(\"{%-- slides:s --%}\", slides)\n",
    "    \n",
    "# print(grid, docs, slides)\n",
    "# print(page)\n",
    "with open(\"_build/html/index_npub_grid.html\", 'w') as fout:\n",
    "    fout.write(page)"
   ]
  }
 ],
 "metadata": {
  "kernelspec": {
   "display_name": "Python 3 (ipykernel)",
   "language": "python",
   "name": "python3"
  },
  "language_info": {
   "codemirror_mode": {
    "name": "ipython",
    "version": 3
   },
   "file_extension": ".py",
   "mimetype": "text/x-python",
   "name": "python",
   "nbconvert_exporter": "python",
   "pygments_lexer": "ipython3",
   "version": "3.9.19"
  },
  "papermill": {
   "default_parameters": {},
   "duration": 103.58688,
   "end_time": "2024-06-14T04:10:20.891972",
   "environment_variables": {},
   "exception": null,
   "input_path": "MPIA daily digest.ipynb",
   "output_path": "log.ipynb",
   "parameters": {},
   "start_time": "2024-06-14T04:08:37.305092",
   "version": "2.6.0"
  },
  "vscode": {
   "interpreter": {
    "hash": "aee8b7b246df8f9039afb4144a1f6fd8d2ca17a180786b69acc140d282b71a49"
   }
  },
  "widgets": {
   "application/vnd.jupyter.widget-state+json": {
    "state": {
     "10fa5bc5193b4536b360ccf68b983745": {
      "model_module": "@jupyter-widgets/base",
      "model_module_version": "2.0.0",
      "model_name": "LayoutModel",
      "state": {
       "_model_module": "@jupyter-widgets/base",
       "_model_module_version": "2.0.0",
       "_model_name": "LayoutModel",
       "_view_count": null,
       "_view_module": "@jupyter-widgets/base",
       "_view_module_version": "2.0.0",
       "_view_name": "LayoutView",
       "align_content": null,
       "align_items": null,
       "align_self": null,
       "border_bottom": null,
       "border_left": null,
       "border_right": null,
       "border_top": null,
       "bottom": null,
       "display": null,
       "flex": null,
       "flex_flow": null,
       "grid_area": null,
       "grid_auto_columns": null,
       "grid_auto_flow": null,
       "grid_auto_rows": null,
       "grid_column": null,
       "grid_gap": null,
       "grid_row": null,
       "grid_template_areas": null,
       "grid_template_columns": null,
       "grid_template_rows": null,
       "height": null,
       "justify_content": null,
       "justify_items": null,
       "left": null,
       "margin": null,
       "max_height": null,
       "max_width": null,
       "min_height": null,
       "min_width": null,
       "object_fit": null,
       "object_position": null,
       "order": null,
       "overflow": null,
       "padding": null,
       "right": null,
       "top": null,
       "visibility": null,
       "width": null
      }
     },
     "20f391c4fa3e49c4bfcb0821264efaca": {
      "model_module": "@jupyter-widgets/base",
      "model_module_version": "2.0.0",
      "model_name": "LayoutModel",
      "state": {
       "_model_module": "@jupyter-widgets/base",
       "_model_module_version": "2.0.0",
       "_model_name": "LayoutModel",
       "_view_count": null,
       "_view_module": "@jupyter-widgets/base",
       "_view_module_version": "2.0.0",
       "_view_name": "LayoutView",
       "align_content": null,
       "align_items": null,
       "align_self": null,
       "border_bottom": null,
       "border_left": null,
       "border_right": null,
       "border_top": null,
       "bottom": null,
       "display": null,
       "flex": null,
       "flex_flow": null,
       "grid_area": null,
       "grid_auto_columns": null,
       "grid_auto_flow": null,
       "grid_auto_rows": null,
       "grid_column": null,
       "grid_gap": null,
       "grid_row": null,
       "grid_template_areas": null,
       "grid_template_columns": null,
       "grid_template_rows": null,
       "height": null,
       "justify_content": null,
       "justify_items": null,
       "left": null,
       "margin": null,
       "max_height": null,
       "max_width": null,
       "min_height": null,
       "min_width": null,
       "object_fit": null,
       "object_position": null,
       "order": null,
       "overflow": null,
       "padding": null,
       "right": null,
       "top": null,
       "visibility": null,
       "width": null
      }
     },
     "489d863090de46c0ad174a1352f0cb1d": {
      "model_module": "@jupyter-widgets/base",
      "model_module_version": "2.0.0",
      "model_name": "LayoutModel",
      "state": {
       "_model_module": "@jupyter-widgets/base",
       "_model_module_version": "2.0.0",
       "_model_name": "LayoutModel",
       "_view_count": null,
       "_view_module": "@jupyter-widgets/base",
       "_view_module_version": "2.0.0",
       "_view_name": "LayoutView",
       "align_content": null,
       "align_items": null,
       "align_self": null,
       "border_bottom": null,
       "border_left": null,
       "border_right": null,
       "border_top": null,
       "bottom": null,
       "display": null,
       "flex": null,
       "flex_flow": null,
       "grid_area": null,
       "grid_auto_columns": null,
       "grid_auto_flow": null,
       "grid_auto_rows": null,
       "grid_column": null,
       "grid_gap": null,
       "grid_row": null,
       "grid_template_areas": null,
       "grid_template_columns": null,
       "grid_template_rows": null,
       "height": null,
       "justify_content": null,
       "justify_items": null,
       "left": null,
       "margin": null,
       "max_height": null,
       "max_width": null,
       "min_height": null,
       "min_width": null,
       "object_fit": null,
       "object_position": null,
       "order": null,
       "overflow": null,
       "padding": null,
       "right": null,
       "top": null,
       "visibility": null,
       "width": null
      }
     },
     "94f92807d13446cda9c25e9dffacfa3c": {
      "model_module": "@jupyter-widgets/base",
      "model_module_version": "2.0.0",
      "model_name": "LayoutModel",
      "state": {
       "_model_module": "@jupyter-widgets/base",
       "_model_module_version": "2.0.0",
       "_model_name": "LayoutModel",
       "_view_count": null,
       "_view_module": "@jupyter-widgets/base",
       "_view_module_version": "2.0.0",
       "_view_name": "LayoutView",
       "align_content": null,
       "align_items": null,
       "align_self": null,
       "border_bottom": null,
       "border_left": null,
       "border_right": null,
       "border_top": null,
       "bottom": null,
       "display": null,
       "flex": null,
       "flex_flow": null,
       "grid_area": null,
       "grid_auto_columns": null,
       "grid_auto_flow": null,
       "grid_auto_rows": null,
       "grid_column": null,
       "grid_gap": null,
       "grid_row": null,
       "grid_template_areas": null,
       "grid_template_columns": null,
       "grid_template_rows": null,
       "height": null,
       "justify_content": null,
       "justify_items": null,
       "left": null,
       "margin": null,
       "max_height": null,
       "max_width": null,
       "min_height": null,
       "min_width": null,
       "object_fit": null,
       "object_position": null,
       "order": null,
       "overflow": null,
       "padding": null,
       "right": null,
       "top": null,
       "visibility": null,
       "width": null
      }
     },
     "ab3b0ce8b9694e81b5efafae4cca0c29": {
      "model_module": "@jupyter-widgets/controls",
      "model_module_version": "2.0.0",
      "model_name": "HBoxModel",
      "state": {
       "_dom_classes": [],
       "_model_module": "@jupyter-widgets/controls",
       "_model_module_version": "2.0.0",
       "_model_name": "HBoxModel",
       "_view_count": null,
       "_view_module": "@jupyter-widgets/controls",
       "_view_module_version": "2.0.0",
       "_view_name": "HBoxView",
       "box_style": "",
       "children": [
        "IPY_MODEL_de0250480ef44029a7c1ebb70ab655db",
        "IPY_MODEL_adc16ef91ffc4ae88ab5dfd2f7241e44",
        "IPY_MODEL_c43980406fb740e58ea185dff4dd22a6"
       ],
       "layout": "IPY_MODEL_20f391c4fa3e49c4bfcb0821264efaca",
       "tabbable": null,
       "tooltip": null
      }
     },
     "adc16ef91ffc4ae88ab5dfd2f7241e44": {
      "model_module": "@jupyter-widgets/controls",
      "model_module_version": "2.0.0",
      "model_name": "FloatProgressModel",
      "state": {
       "_dom_classes": [],
       "_model_module": "@jupyter-widgets/controls",
       "_model_module_version": "2.0.0",
       "_model_name": "FloatProgressModel",
       "_view_count": null,
       "_view_module": "@jupyter-widgets/controls",
       "_view_module_version": "2.0.0",
       "_view_name": "ProgressView",
       "bar_style": "success",
       "description": "",
       "description_allow_html": false,
       "layout": "IPY_MODEL_489d863090de46c0ad174a1352f0cb1d",
       "max": 5.0,
       "min": 0.0,
       "orientation": "horizontal",
       "style": "IPY_MODEL_fb37b5a074814dffa181da1a3d29f773",
       "tabbable": null,
       "tooltip": null,
       "value": 5.0
      }
     },
     "b1db156a1807440298f4b7ea0a306da9": {
      "model_module": "@jupyter-widgets/controls",
      "model_module_version": "2.0.0",
      "model_name": "HTMLStyleModel",
      "state": {
       "_model_module": "@jupyter-widgets/controls",
       "_model_module_version": "2.0.0",
       "_model_name": "HTMLStyleModel",
       "_view_count": null,
       "_view_module": "@jupyter-widgets/base",
       "_view_module_version": "2.0.0",
       "_view_name": "StyleView",
       "background": null,
       "description_width": "",
       "font_size": null,
       "text_color": null
      }
     },
     "c43980406fb740e58ea185dff4dd22a6": {
      "model_module": "@jupyter-widgets/controls",
      "model_module_version": "2.0.0",
      "model_name": "HTMLModel",
      "state": {
       "_dom_classes": [],
       "_model_module": "@jupyter-widgets/controls",
       "_model_module_version": "2.0.0",
       "_model_name": "HTMLModel",
       "_view_count": null,
       "_view_module": "@jupyter-widgets/controls",
       "_view_module_version": "2.0.0",
       "_view_name": "HTMLView",
       "description": "",
       "description_allow_html": false,
       "layout": "IPY_MODEL_94f92807d13446cda9c25e9dffacfa3c",
       "placeholder": "​",
       "style": "IPY_MODEL_b1db156a1807440298f4b7ea0a306da9",
       "tabbable": null,
       "tooltip": null,
       "value": " 5/5 [01:19&lt;00:00, 21.47s/it]"
      }
     },
     "de0250480ef44029a7c1ebb70ab655db": {
      "model_module": "@jupyter-widgets/controls",
      "model_module_version": "2.0.0",
      "model_name": "HTMLModel",
      "state": {
       "_dom_classes": [],
       "_model_module": "@jupyter-widgets/controls",
       "_model_module_version": "2.0.0",
       "_model_name": "HTMLModel",
       "_view_count": null,
       "_view_module": "@jupyter-widgets/controls",
       "_view_module_version": "2.0.0",
       "_view_name": "HTMLView",
       "description": "",
       "description_allow_html": false,
       "layout": "IPY_MODEL_10fa5bc5193b4536b360ccf68b983745",
       "placeholder": "​",
       "style": "IPY_MODEL_e01d237dc691441eb79cb97bcea65635",
       "tabbable": null,
       "tooltip": null,
       "value": "100%"
      }
     },
     "e01d237dc691441eb79cb97bcea65635": {
      "model_module": "@jupyter-widgets/controls",
      "model_module_version": "2.0.0",
      "model_name": "HTMLStyleModel",
      "state": {
       "_model_module": "@jupyter-widgets/controls",
       "_model_module_version": "2.0.0",
       "_model_name": "HTMLStyleModel",
       "_view_count": null,
       "_view_module": "@jupyter-widgets/base",
       "_view_module_version": "2.0.0",
       "_view_name": "StyleView",
       "background": null,
       "description_width": "",
       "font_size": null,
       "text_color": null
      }
     },
     "fb37b5a074814dffa181da1a3d29f773": {
      "model_module": "@jupyter-widgets/controls",
      "model_module_version": "2.0.0",
      "model_name": "ProgressStyleModel",
      "state": {
       "_model_module": "@jupyter-widgets/controls",
       "_model_module_version": "2.0.0",
       "_model_name": "ProgressStyleModel",
       "_view_count": null,
       "_view_module": "@jupyter-widgets/base",
       "_view_module_version": "2.0.0",
       "_view_name": "StyleView",
       "bar_color": null,
       "description_width": ""
      }
     }
    },
    "version_major": 2,
    "version_minor": 0
   }
  }
 },
 "nbformat": 4,
 "nbformat_minor": 5
}