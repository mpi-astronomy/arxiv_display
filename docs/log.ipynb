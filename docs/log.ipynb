{
 "cells": [
  {
   "cell_type": "markdown",
   "id": "92bcb855",
   "metadata": {
    "papermill": {
     "duration": 0.003907,
     "end_time": "2025-08-28T04:12:27.004613",
     "exception": false,
     "start_time": "2025-08-28T04:12:27.000706",
     "status": "completed"
    },
    "tags": []
   },
   "source": [
    "# MPIA Arxiv on Deck 2\n",
    "\n",
    "Contains the steps to produce the paper extractions."
   ]
  },
  {
   "cell_type": "code",
   "execution_count": 1,
   "id": "3a0d6e11",
   "metadata": {
    "execution": {
     "iopub.execute_input": "2025-08-28T04:12:27.012121Z",
     "iopub.status.busy": "2025-08-28T04:12:27.011768Z",
     "iopub.status.idle": "2025-08-28T04:12:27.217253Z",
     "shell.execute_reply": "2025-08-28T04:12:27.216496Z"
    },
    "papermill": {
     "duration": 0.210888,
     "end_time": "2025-08-28T04:12:27.218756",
     "exception": false,
     "start_time": "2025-08-28T04:12:27.007868",
     "status": "completed"
    },
    "tags": []
   },
   "outputs": [],
   "source": [
    "# Imports\n",
    "import os\n",
    "from IPython.display import Markdown, display\n",
    "from tqdm.notebook import tqdm\n",
    "import warnings\n",
    "from PIL import Image \n",
    "import re\n",
    "\n",
    "# requires arxiv_on_deck_2\n",
    "\n",
    "from arxiv_on_deck_2.arxiv2 import (get_new_papers, \n",
    "                                    get_paper_from_identifier,\n",
    "                                    retrieve_document_source, \n",
    "                                    get_markdown_badge)\n",
    "from arxiv_on_deck_2 import (latex,\n",
    "                             latex_bib,\n",
    "                             mpia,\n",
    "                             highlight_authors_in_list)\n",
    "\n",
    "# Sometimes images are really big\n",
    "Image.MAX_IMAGE_PIXELS = 1000000000 "
   ]
  },
  {
   "cell_type": "code",
   "execution_count": 2,
   "id": "22aa9d44",
   "metadata": {
    "execution": {
     "iopub.execute_input": "2025-08-28T04:12:27.226034Z",
     "iopub.status.busy": "2025-08-28T04:12:27.225807Z",
     "iopub.status.idle": "2025-08-28T04:12:27.233713Z",
     "shell.execute_reply": "2025-08-28T04:12:27.233028Z"
    },
    "papermill": {
     "duration": 0.012544,
     "end_time": "2025-08-28T04:12:27.234673",
     "exception": false,
     "start_time": "2025-08-28T04:12:27.222129",
     "status": "completed"
    },
    "tags": []
   },
   "outputs": [],
   "source": [
    "# Some useful definitions.\n",
    "\n",
    "class AffiliationWarning(UserWarning):\n",
    "    pass\n",
    "\n",
    "class AffiliationError(RuntimeError):\n",
    "    pass\n",
    "\n",
    "def validation(source: str):\n",
    "    \"\"\"Raises error paper during parsing of source file\n",
    "    \n",
    "    Allows checks before parsing TeX code.\n",
    "    \n",
    "    Raises AffiliationWarning\n",
    "    \"\"\"\n",
    "    check = mpia.affiliation_verifications(source, verbose=True)\n",
    "    if check is not True:\n",
    "        raise AffiliationError(\"mpia.affiliation_verifications: \" + check)\n",
    "\n",
    "        \n",
    "warnings.simplefilter('always', AffiliationWarning)\n",
    "\n",
    "\n",
    "def get_markdown_qrcode(paper_id: str):\n",
    "    \"\"\" Generate a qrcode to the arxiv page using qrserver.com\n",
    "    \n",
    "    :param paper: Arxiv paper\n",
    "    :returns: markdown text\n",
    "    \"\"\"\n",
    "    url = r\"https://api.qrserver.com/v1/create-qr-code/?size=100x100&data=\"\n",
    "    txt = f\"\"\"<img src={url}\"https://arxiv.org/abs/{paper_id}\">\"\"\"\n",
    "    txt = '<div id=\"qrcode\">' + txt + '</div>'\n",
    "    return txt\n",
    "\n",
    "\n",
    "def clean_non_western_encoded_characters_commands(text: str) -> str:\n",
    "    \"\"\" Remove non-western encoded characters from a string\n",
    "    List may need to grow.\n",
    "    \n",
    "    :param text: the text to clean\n",
    "    :return: the cleaned text\n",
    "    \"\"\"\n",
    "    text = re.sub(r\"(\\\\begin{CJK}{UTF8}{gbsn})(.*?)(\\\\end{CJK})\", r\"\\2\", text)\n",
    "    return text\n",
    "\n",
    "\n",
    "def get_initials(name: str) -> str:\n",
    "    \"\"\" Get the short name, e.g., A.-B. FamName\n",
    "    :param name: full name\n",
    "    :returns: initials\n",
    "    \"\"\"\n",
    "    initials = []\n",
    "    # account for non western names often in ()\n",
    "    if '(' in name:\n",
    "        name = clean_non_western_encoded_characters_commands(name)\n",
    "        suffix = re.findall(r\"\\((.*?)\\)\", name)[0]\n",
    "        name = name.replace(f\"({suffix})\", '')\n",
    "    else:\n",
    "        suffix = ''\n",
    "    split = name.split()\n",
    "    for token in split[:-1]:\n",
    "        if '-' in token:\n",
    "            current = '-'.join([k[0] + '.' for k in token.split('-')])\n",
    "        else:\n",
    "            current = token[0] + '.'\n",
    "        initials.append(current)\n",
    "    initials.append(split[-1].strip())\n",
    "    if suffix:\n",
    "        initials.append(f\"({suffix})\")\n",
    "    return ' '.join(initials)"
   ]
  },
  {
   "cell_type": "markdown",
   "id": "14bd6310",
   "metadata": {
    "papermill": {
     "duration": 0.002855,
     "end_time": "2025-08-28T04:12:27.240512",
     "exception": false,
     "start_time": "2025-08-28T04:12:27.237657",
     "status": "completed"
    },
    "tags": []
   },
   "source": [
    "## get list of arxiv paper candidates\n",
    "\n",
    "We use the MPIA mitarbeiter list webpage from mpia.de to get author names\n",
    "We then get all new papers from Arxiv and match authors"
   ]
  },
  {
   "cell_type": "code",
   "execution_count": 3,
   "id": "7ea813a8",
   "metadata": {
    "execution": {
     "iopub.execute_input": "2025-08-28T04:12:27.247124Z",
     "iopub.status.busy": "2025-08-28T04:12:27.246902Z",
     "iopub.status.idle": "2025-08-28T04:12:51.766238Z",
     "shell.execute_reply": "2025-08-28T04:12:51.765523Z"
    },
    "papermill": {
     "duration": 24.524068,
     "end_time": "2025-08-28T04:12:51.767542",
     "exception": false,
     "start_time": "2025-08-28T04:12:27.243474",
     "status": "completed"
    },
    "tags": []
   },
   "outputs": [],
   "source": [
    "# deal with the author list and edge cases of people that cannot be consistent on their name  \n",
    "\n",
    "def filter_non_scientists(name: str) -> bool:\n",
    "    \"\"\" Loose filter on expected authorships\n",
    "\n",
    "    removing IT, administration, technical staff\n",
    "    :param name: name\n",
    "    :returns: False if name is not a scientist\n",
    "    \"\"\"\n",
    "    remove_list = ['Licht', 'Binroth', 'Witzel', 'Jordan',\n",
    "                   'Zähringer', 'Scheerer', 'Hoffmann', 'Düe',\n",
    "                   'Hellmich', 'Enkler-Scharpegge', 'Witte-Nguy',\n",
    "                   'Dehen', 'Beckmann', 'Jager', 'Jäger'\n",
    "                  ]\n",
    "\n",
    "    for k in remove_list:\n",
    "        if k in name:\n",
    "            return False\n",
    "    return True\n",
    "\n",
    "def add_author_to_list(author_list: list) -> list:\n",
    "    \"\"\" Add author to list if not already in list\n",
    "    \n",
    "    :param author: author name\n",
    "    :param author_list: list of authors\n",
    "    :returns: updated list of authors\n",
    "    \"\"\"\n",
    "    add_list = ['T. Henning']\n",
    "\n",
    "    for author in add_list:\n",
    "        if author not in author_list:\n",
    "            author_list.append(author)\n",
    "    return author_list\n",
    "\n",
    "# get list from MPIA website\n",
    "# filter for non-scientists (mpia.get_mpia_mitarbeiter_list() does some filtering)\n",
    "mpia_authors = [k[1] for k in mpia.get_mpia_mitarbeiter_list() if filter_non_scientists(k[1])]\n",
    "# add some missing author because of inconsistencies in their MPIA name and author name on papers\n",
    "mpia_authors = add_author_to_list(mpia_authors)"
   ]
  },
  {
   "cell_type": "code",
   "execution_count": 4,
   "id": "2645e73a",
   "metadata": {
    "execution": {
     "iopub.execute_input": "2025-08-28T04:12:51.774851Z",
     "iopub.status.busy": "2025-08-28T04:12:51.774647Z",
     "iopub.status.idle": "2025-08-28T04:12:52.509846Z",
     "shell.execute_reply": "2025-08-28T04:12:52.509122Z"
    },
    "papermill": {
     "duration": 0.740005,
     "end_time": "2025-08-28T04:12:52.510943",
     "exception": false,
     "start_time": "2025-08-28T04:12:51.770938",
     "status": "completed"
    },
    "tags": []
   },
   "outputs": [
    {
     "name": "stdout",
     "output_type": "stream",
     "text": [
      "K. Jahnke  ->  K. Jahnke  |  ['K. Jahnke']\n",
      "Y. Wang  ->  Y. Wang  |  ['Y. Wang']\n",
      "D. Semenov  ->  D. Semenov  |  ['D. Semenov']\n",
      "J. Shi  ->  J. Shi  |  ['J. Shi']\n",
      "Arxiv has 63 new papers today\n",
      "          4 with possible author matches\n"
     ]
    }
   ],
   "source": [
    "new_papers = get_new_papers()\n",
    "# add manual references\n",
    "add_paper_refs = []\n",
    "new_papers.extend([get_paper_from_identifier(k) for k in add_paper_refs])\n",
    "\n",
    "def robust_call(fn, value, *args, **kwargs):\n",
    "    try:\n",
    "        return fn(value, *args, **kwargs)\n",
    "    except Exception:\n",
    "        return value\n",
    "\n",
    "candidates = []\n",
    "for paperk in new_papers:\n",
    "    # Check author list with their initials\n",
    "    normed_author_list = [robust_call(mpia.get_initials, k) for k in paperk['authors']]\n",
    "    hl_authors = highlight_authors_in_list(normed_author_list, mpia_authors, verbose=True)\n",
    "    matches = [(hl, orig) for hl, orig in zip(hl_authors, paperk['authors']) if 'mark' in hl]\n",
    "    paperk['authors'] = hl_authors\n",
    "    if matches:\n",
    "        # only select paper if an author matched our list\n",
    "        candidates.append(paperk)\n",
    "print(\"\"\"Arxiv has {0:,d} new papers today\"\"\".format(len(new_papers)))        \n",
    "print(\"\"\"          {0:,d} with possible author matches\"\"\".format(len(candidates)))"
   ]
  },
  {
   "cell_type": "markdown",
   "id": "3543b34a",
   "metadata": {
    "papermill": {
     "duration": 0.003076,
     "end_time": "2025-08-28T04:12:52.517483",
     "exception": false,
     "start_time": "2025-08-28T04:12:52.514407",
     "status": "completed"
    },
    "tags": []
   },
   "source": [
    "# Parse sources and generate relevant outputs\n",
    "\n",
    "From the candidates, we do the following steps:\n",
    "* get their tarball from ArXiv (and extract data)\n",
    "* find the main .tex file: find one with \\documentclass{...} (sometimes it's non trivial)\n",
    "* Check affiliations with :func:`validation`, which uses :func:`mpia.affiliation_verifications`\n",
    "* If passing the affiliations: we parse the .tex source\n",
    "   * inject sub-documents into the main (flatten the main document)\n",
    "   * parse structure, extract information (title, abstract, authors, figures...)\n",
    "   * handles `\\graphicspath` if provided\n",
    "* Generate the .md document."
   ]
  },
  {
   "cell_type": "code",
   "execution_count": 5,
   "id": "9576b79e",
   "metadata": {
    "execution": {
     "iopub.execute_input": "2025-08-28T04:12:52.524286Z",
     "iopub.status.busy": "2025-08-28T04:12:52.524090Z",
     "iopub.status.idle": "2025-08-28T04:13:50.629867Z",
     "shell.execute_reply": "2025-08-28T04:13:50.629120Z"
    },
    "papermill": {
     "duration": 58.110501,
     "end_time": "2025-08-28T04:13:50.630973",
     "exception": false,
     "start_time": "2025-08-28T04:12:52.520472",
     "status": "completed"
    },
    "scrolled": false,
    "tags": []
   },
   "outputs": [
    {
     "data": {
      "application/vnd.jupyter.widget-view+json": {
       "model_id": "e6f33b57a5eb488591a3e3ab6e0a5959",
       "version_major": 2,
       "version_minor": 0
      },
      "text/plain": [
       "  0%|          | 0/4 [00:00<?, ?it/s]"
      ]
     },
     "metadata": {},
     "output_type": "display_data"
    },
    {
     "name": "stdout",
     "output_type": "stream",
     "text": [
      "Retrieving document from  https://arxiv.org/e-print/2508.19494\n",
      "extracting tarball to tmp_2508.19494..."
     ]
    },
    {
     "name": "stdout",
     "output_type": "stream",
     "text": [
      " done.\n"
     ]
    },
    {
     "name": "stdout",
     "output_type": "stream",
     "text": [
      "Found 88 bibliographic references in tmp_2508.19494/Main.bbl.\n",
      "Retrieving document from  https://arxiv.org/e-print/2508.19520\n"
     ]
    },
    {
     "name": "stderr",
     "output_type": "stream",
     "text": [
      "/opt/hostedtoolcache/Python/3.9.23/x64/lib/python3.9/site-packages/arxiv_on_deck_2/latex_bib.py:132: UserWarning: Error processing bibitem\n",
      " item = \\bibitem[{{Euclid Quick Release Q1}(2025)}]{Q1cite}{Euclid Quick Release Q1}. 2025, \\url{https://doi.org/10.57780/esa-2853f3b}\n",
      " regex = \n",
      "        \\\\bibitem(\\[[^\\[\\]]*?\\]){(?P<bibkey>[a-zA-Z0-9\\-\\+\\.\\S]+?)}(?P<authors>|([\\D]*?))(?P<year>[12][0-9]{3})(?P<rest>.*)\n",
      "        \n",
      "  warnings.warn(str(e))\n"
     ]
    },
    {
     "name": "stdout",
     "output_type": "stream",
     "text": [
      "extracting tarball to tmp_2508.19520... done.\n",
      "Retrieving document from  https://arxiv.org/e-print/2508.19701\n"
     ]
    },
    {
     "name": "stderr",
     "output_type": "stream",
     "text": [
      "/opt/hostedtoolcache/Python/3.9.23/x64/lib/python3.9/site-packages/IPython/core/interactiveshell.py:3550: LatexWarning: Multiple tex files.\n",
      "\n",
      "  exec(code_obj, self.user_global_ns, self.user_ns)\n",
      "/opt/hostedtoolcache/Python/3.9.23/x64/lib/python3.9/site-packages/IPython/core/interactiveshell.py:3550: LatexWarning: Found documentclass in tmp_2508.19520/ms.tex\n",
      "\n",
      "  exec(code_obj, self.user_global_ns, self.user_ns)\n",
      "/opt/hostedtoolcache/Python/3.9.23/x64/lib/python3.9/site-packages/arxiv_on_deck_2/latex.py:414: LatexWarning: Latex injecting: 'Table2.tex' from 'tmp_2508.19520/Table2.tex'\n",
      "  warnings.warn(LatexWarning(f\"Latex injecting: '{ext}' from '{subsource}'\"))\n",
      "/opt/hostedtoolcache/Python/3.9.23/x64/lib/python3.9/site-packages/arxiv_on_deck_2/latex.py:414: LatexWarning: Latex injecting: 'Table1.tex' from 'tmp_2508.19520/Table1.tex'\n",
      "  warnings.warn(LatexWarning(f\"Latex injecting: '{ext}' from '{subsource}'\"))\n"
     ]
    },
    {
     "name": "stdout",
     "output_type": "stream",
     "text": [
      "extracting tarball to tmp_2508.19701..."
     ]
    },
    {
     "name": "stdout",
     "output_type": "stream",
     "text": [
      " done.\n"
     ]
    },
    {
     "name": "stdout",
     "output_type": "stream",
     "text": [
      "Issues with the citations\n",
      "list index out of range\n",
      "Retrieving document from  https://arxiv.org/e-print/2508.19715\n",
      "extracting tarball to tmp_2508.19715... done.\n"
     ]
    }
   ],
   "source": [
    "documents = []\n",
    "failed = []\n",
    "for paper in tqdm(candidates):\n",
    "    # debug crap\n",
    "    paper['identifier'] = paper['identifier'].lower().replace('arxiv:', '').replace(r'\\n', '').strip()\n",
    "    paper_id = paper['identifier']\n",
    "    \n",
    "    folder = f'tmp_{paper_id}'\n",
    "\n",
    "    try:\n",
    "        if not os.path.isdir(folder):\n",
    "            folder = retrieve_document_source(f\"{paper_id}\", f'tmp_{paper_id}')\n",
    "        \n",
    "        try:\n",
    "            doc = latex.LatexDocument(folder, validation=validation)    \n",
    "        except AffiliationError as affilerror:\n",
    "            msg = f\"ArXiv:{paper_id:s} is not an MPIA paper... \" + str(affilerror)\n",
    "            failed.append((paper, \"affiliation error: \" + str(affilerror) ))\n",
    "            continue\n",
    "        \n",
    "        # Hack because sometimes author parsing does not work well\n",
    "        if (len(doc.authors) != len(paper['authors'])):\n",
    "            doc._authors = paper['authors']\n",
    "        else:\n",
    "            # highlight authors (FIXME: doc.highlight_authors)\n",
    "            # done on arxiv paper already\n",
    "            doc._authors = highlight_authors_in_list(\n",
    "                [get_initials(k) for k in doc.authors], \n",
    "                mpia_authors, verbose=True)\n",
    "        if (doc.abstract) in (None, ''):\n",
    "            doc._abstract = paper['abstract']\n",
    "            \n",
    "        doc.comment = (get_markdown_badge(paper_id) + \n",
    "                       \"<mark>Appeared on: \" + paper['date'] + \"</mark> - \")\n",
    "        if paper['comments']:\n",
    "            doc.comment += \" _\" + paper['comments'] + \"_\"\n",
    "        \n",
    "        full_md = doc.generate_markdown_text()\n",
    "        \n",
    "        full_md += get_markdown_qrcode(paper_id)\n",
    "        \n",
    "        # replace citations\n",
    "        try:\n",
    "            bibdata = latex_bib.LatexBib.from_doc(doc)\n",
    "            full_md = latex_bib.replace_citations(full_md, bibdata)\n",
    "        except Exception as e:\n",
    "            print(\"Issues with the citations\")\n",
    "            print(e)\n",
    "        \n",
    "        documents.append((paper_id, full_md))\n",
    "    except Exception as e:\n",
    "        warnings.warn(latex.LatexWarning(f\"{paper_id:s} did not run properly\\n\" +\n",
    "                                         str(e)\n",
    "                                        ))\n",
    "        failed.append((paper, \"latex error \" + str(e)))"
   ]
  },
  {
   "cell_type": "markdown",
   "id": "2505a25c",
   "metadata": {
    "papermill": {
     "duration": 0.003658,
     "end_time": "2025-08-28T04:13:50.638523",
     "exception": false,
     "start_time": "2025-08-28T04:13:50.634865",
     "status": "completed"
    },
    "tags": []
   },
   "source": [
    "### Export the logs\n",
    "\n",
    "Throughout, we also keep track of the logs per paper. see `logs-{today date}.md` "
   ]
  },
  {
   "cell_type": "code",
   "execution_count": 6,
   "id": "d733828a",
   "metadata": {
    "execution": {
     "iopub.execute_input": "2025-08-28T04:13:50.646565Z",
     "iopub.status.busy": "2025-08-28T04:13:50.646356Z",
     "iopub.status.idle": "2025-08-28T04:13:50.661455Z",
     "shell.execute_reply": "2025-08-28T04:13:50.660917Z"
    },
    "papermill": {
     "duration": 0.020239,
     "end_time": "2025-08-28T04:13:50.662391",
     "exception": false,
     "start_time": "2025-08-28T04:13:50.642152",
     "status": "completed"
    },
    "scrolled": false,
    "tags": []
   },
   "outputs": [
    {
     "data": {
      "text/markdown": [
       "## Successful papers"
      ],
      "text/plain": [
       "<IPython.core.display.Markdown object>"
      ]
     },
     "metadata": {},
     "output_type": "display_data"
    },
    {
     "data": {
      "text/markdown": [
       "\n",
       "|||\n",
       "|---:|:---|\n",
       "| [![arXiv](https://img.shields.io/badge/arXiv-2508.19494-b31b1b.svg)](https://arxiv.org/abs/2508.19494) | **Euclid: A machine-learning search for dual and lensed AGN at sub-arcsec separations**  |\n",
       "|| L. Ulivi, et al. -- incl., <mark>K. Jahnke</mark> |\n",
       "|*Appeared on*| *2025-08-28*|\n",
       "|*Comments*| *18 figures*|\n",
       "|**Abstract**|            Cosmological models of hierarchical structure formation predict the existence of a widespread population of dual accreting supermassive black holes (SMBHs) on kpc-scale separations, corresponding to projected distances < 0\".8 at redshifts higher than 0.5. However, close companions to known active galactic nuclei (AGN) or quasars (QSOs) can also be multiple images of the object itself, strongly lensed by a foreground galaxy, as well as foreground stars in a chance superposition. Thanks to its large sky coverage, sensitivity, and high spatial resolution, Euclid offers a unique opportunity to obtain a large, homogeneous sample of dual/lensed AGN candidates with sub-arcsec projected separations. Here we present a machine learning approach, in particular a Convolutional Neural Network (CNN), to identify close companions to known QSOs down to separations of $\\sim\\,$0\".15 comparable to the Euclid VIS point spread function (PSF). We studied the effectiveness of the CNN in identifying dual AGN and demonstrated that it outperforms traditional techniques. Applying our CNN to a sample of $\\sim\\,$6000 QSOs from the Q1 Euclid data release, we find a fraction of about 0.25% dual AGN candidates with separation $\\sim\\,$0\".4 (corresponding to $\\sim$3 kpc at z=1). Estimating the foreground contamination from stellar objects, we find that most of the pair candidates with separation higher than 0\".5 are likely contaminants, while below this limit, contamination is expected to be less than 20%. For objects at higher separation (>0\".5, i.e. 4 kpc at z=1), we performed PSF subtraction and used colour-colour diagrams to constrain their nature. We present a first set of dual/lensed AGN candidates detected in the Q1 Euclid data, providing a starting point for the analysis of future data releases.         |"
      ],
      "text/plain": [
       "[2508.19494] Euclid: A machine-learning search for dual and lensed AGN at sub-arcsec separations\n",
       "\tL. Ulivi, et al. -- incl., <mark>K. Jahnke</mark>"
      ]
     },
     "metadata": {},
     "output_type": "display_data"
    },
    {
     "data": {
      "text/markdown": [
       "\n",
       "|||\n",
       "|---:|:---|\n",
       "| [![arXiv](https://img.shields.io/badge/arXiv-2508.19701-b31b1b.svg)](https://arxiv.org/abs/2508.19701) | **Time-resolved protoplanetary disk physics in DQ Tau with JWST**  |\n",
       "|| Á. Kóspál, et al. -- incl., <mark>D. Semenov</mark> |\n",
       "|*Appeared on*| *2025-08-28*|\n",
       "|*Comments*| *21 pages, 20 figures, accepted for publication in the A&A*|\n",
       "|**Abstract**|            Accretion variability is ubiquitous in YSOs. While large outbursts may strongly affect the disk, the effects of moderate bursts are less understood. We aim to study the physical response of the disk around the eccentric binary system DQ Tau to its periodic accretion changes. We organized a multi-wavelength campaign centered on four JWST/MIRI spectra. We targeted three periastrons (high accretion state) and one apastron (quiescence). We used optical and near-infrared spectroscopy and photometry to measure how the accretion luminosity varies. We decomposed the multi-epoch SEDs into stellar, accretion, and rim components. We fitted the solid-state features using various opacity curves and the molecular features using slab models. We find the inner disk of DQ Tau to be highly dynamic. The temperature, luminosity, and location of the inner dust rim vary in response to the movement of stars and the L_acc variations. This causes variable shadowing of the outer disk, leading to an anti-correlation between the rim temperature and the strength of the silicate feature. The dust mineralogy remains constant, dominated by large amorphous olivine and pyroxene grains, with smaller fractions of crystalline forsterite. The excitation of CO (1550-2260 K), HCN (880-980 K), and hot H2O (740-860 K) molecules as well as the luminosity of the [NeII] line correlate with the accretion rate, while the warm (650 K) and cold (170-200 K) H2O components are mostly constant. CO emission, originating from a hot (>1500 K) region likely within the dust sublimation radius, is most sensitive to L_acc changes. In comparison with other T Tauri disks, DQ Tau is highly C-poor and displays moderately inefficient pebble drift. We conclude that even moderate accretion rate changes affect the thermal structure in the planet-forming disk regions on short timescales, providing a crucial benchmark for understanding disk evolution.         |"
      ],
      "text/plain": [
       "[2508.19701] Time-resolved protoplanetary disk physics in DQ Tau with JWST\n",
       "\tÁ. Kóspál, et al. -- incl., <mark>D. Semenov</mark>"
      ]
     },
     "metadata": {},
     "output_type": "display_data"
    },
    {
     "data": {
      "text/markdown": [
       "## Failed papers"
      ],
      "text/plain": [
       "<IPython.core.display.Markdown object>"
      ]
     },
     "metadata": {},
     "output_type": "display_data"
    },
    {
     "data": {
      "text/markdown": [
       "\n",
       "|||\n",
       "|---:|:---|\n",
       "| [![arXiv](https://img.shields.io/badge/arXiv-2508.19520-b31b1b.svg)](https://arxiv.org/abs/2508.19520) | **Sensitive Constraints on Coherent Radio Emission from Five Isolated White Dwarfs**  |\n",
       "|| L. Zhang, et al. -- incl., <mark>Y. Wang</mark> |\n",
       "|*Appeared on*| *2025-08-28*|\n",
       "|*Comments*| **|\n",
       "|**Abstract**|            Coherent, periodic radio emission from pulsars has been widely interpreted as evidence of neutron stars as strongly magnetized compact objects. In recent years, radio pulses have also been detected from white dwarfs (WDs) in tight binary systems, raising the question of whether isolated WDs could similarly host pulsar-like emission. We conducted the most sensitive search to date for coherent radio signals from five isolated, rapidly rotating, and magnetized WDs, using the Five-hundred-meter Aperture Spherical radio Telescope (FAST), the Green Bank Telescope (GBT), and the Australia Telescope Compact Array (ATCA). No pulsed or continuum radio emission was detected down to $\\mu$Jy levels. These non-detections place the most stringent observational constraints yet on the existence of isolated WD pulsars. Our results suggest that either such emission is intrinsically weak, narrowly beamed, or requires binary-induced magnetospheric interactions absent in solitary systems. Comparison with the known radio-emitting WDs highlights the critical role of companion interaction in enabling detectable emission. This work expands on prior surveys by targeting sources with the most favorable physical conditions for WD pulsar-like activity and employing highly sensitive, targeted observations. Future observations with next-generation facilities such as the SKA will be essential to explore fainter or sporadic emission from massive, magnetic WDs and to investigate their potential as compact radio transients further.         |\n",
       "|<p style=\"color:green\"> **ERROR** </p>| <p style=\"color:green\">affiliation error: mpia.affiliation_verifications: 'Heidelberg' keyword not found.</p> |"
      ],
      "text/plain": [
       "<IPython.core.display.Markdown object>"
      ]
     },
     "metadata": {},
     "output_type": "display_data"
    },
    {
     "data": {
      "text/markdown": [
       "\n",
       "|||\n",
       "|---:|:---|\n",
       "| [![arXiv](https://img.shields.io/badge/arXiv-2508.19715-b31b1b.svg)](https://arxiv.org/abs/2508.19715) | **Meridional Circulation II: A Unified Mechanism for Lithium Depletion in Solar Analogs and the Lithium Dip in Mid-F Cluster Stars**  |\n",
       "|| X. Li, et al. -- incl., <mark>J. Shi</mark> |\n",
       "|*Appeared on*| *2025-08-28*|\n",
       "|*Comments*| *Accepted in Astrophysical Journal*|\n",
       "|**Abstract**|            The behavior of lithium (Li) in Population I main sequence stars challenges standard stellar theory. Two phenomena stand out: the solar Li problem which extends to Li depletion in solar analogs and the Li dip observed in mid-F stars within open clusters. Building on the meridional circulation-driven radial mixing framework previously developed to explain Li-enriched red clump stars, we explore its relevance to Li depletion on the main sequence. First, our models reproduce the observed $A(\\text{Li})$-Age correlation in solar analogs. Through detailed isochrone analysis, we find good agreement between the simulated and observed $A(\\text{Li})$-$T_{\\text{eff}}$ relationships within the solar analog parameter space. However, the predicted solar Li abundance ($\\sim 1.5\\,\\text{dex}$) is still higher than current solar measurements. Second, our models partially explain the Li dip phenomenon in mid-F cluster stars. The models accurately reproduce Li distributions on the cool side of the Li dip in most clusters and capture the Li behaviors on the hot side observed in systems like the Hyades. However, we identify limitations in the models' ability to fully reproduce the dip morphology, particularly due to the rotation velocity distribution of sample stars in this temperature zone.         |\n",
       "|<p style=\"color:green\"> **ERROR** </p>| <p style=\"color:green\">affiliation error: mpia.affiliation_verifications: 'Max' keyword not found.</p> |"
      ],
      "text/plain": [
       "<IPython.core.display.Markdown object>"
      ]
     },
     "metadata": {},
     "output_type": "display_data"
    }
   ],
   "source": [
    "import datetime\n",
    "today = str(datetime.date.today())\n",
    "logfile = f\"_build/html/logs/log-{today}.md\"\n",
    "\n",
    "\n",
    "with open(logfile, 'w') as logs:\n",
    "    # Success\n",
    "    logs.write(f'# Arxiv on Deck 2: Logs - {today}\\n\\n')\n",
    "    logs.write(\"\"\"* Arxiv had {0:,d} new papers\\n\"\"\".format(len(new_papers)))\n",
    "    logs.write(\"\"\"    * {0:,d} with possible author matches\\n\\n\"\"\".format(len(candidates)))\n",
    "    logs.write(\"## Sucessful papers\\n\\n\")\n",
    "    display(Markdown(\"## Successful papers\"))\n",
    "    success = [k[0] for k in documents]\n",
    "    for candid in candidates:\n",
    "        if candid['identifier'].split(':')[-1] in success:\n",
    "            display(candid)\n",
    "            logs.write(candid.generate_markdown_text() + '\\n\\n')\n",
    "\n",
    "    ## failed\n",
    "    logs.write(\"## Failed papers\\n\\n\")\n",
    "    display(Markdown(\"## Failed papers\"))\n",
    "    failed = sorted(failed, key=lambda x: x[1])\n",
    "    current_reason = \"\"\n",
    "    for paper, reason in failed:\n",
    "        if 'affiliation' in reason:\n",
    "            color = 'green'\n",
    "        else:\n",
    "            color = 'red'\n",
    "        data = Markdown(\n",
    "                paper.generate_markdown_text() + \n",
    "                f'\\n|<p style=\"color:{color:s}\"> **ERROR** </p>| <p style=\"color:{color:s}\">{reason:s}</p> |'\n",
    "               )\n",
    "        if reason != current_reason:\n",
    "            logs.write(f'### {reason:s} \\n\\n')\n",
    "            current_reason = reason\n",
    "        logs.write(data.data + '\\n\\n')\n",
    "        \n",
    "        # only display here the important errors (all in logs)\n",
    "        # if color in ('red',):\n",
    "        display(data)"
   ]
  },
  {
   "cell_type": "markdown",
   "id": "472d20ee",
   "metadata": {
    "papermill": {
     "duration": 0.004174,
     "end_time": "2025-08-28T04:13:50.670790",
     "exception": false,
     "start_time": "2025-08-28T04:13:50.666616",
     "status": "completed"
    },
    "tags": []
   },
   "source": [
    "## Export documents\n",
    "\n",
    "We now write the .md files and export relevant images"
   ]
  },
  {
   "cell_type": "code",
   "execution_count": 7,
   "id": "d426aed9",
   "metadata": {
    "execution": {
     "iopub.execute_input": "2025-08-28T04:13:50.679872Z",
     "iopub.status.busy": "2025-08-28T04:13:50.679633Z",
     "iopub.status.idle": "2025-08-28T04:13:50.686497Z",
     "shell.execute_reply": "2025-08-28T04:13:50.685840Z"
    },
    "papermill": {
     "duration": 0.012577,
     "end_time": "2025-08-28T04:13:50.687511",
     "exception": false,
     "start_time": "2025-08-28T04:13:50.674934",
     "status": "completed"
    },
    "tags": []
   },
   "outputs": [],
   "source": [
    "def export_markdown_summary(md: str, md_fname:str, directory: str):\n",
    "    \"\"\"Export MD document and associated relevant images\"\"\"\n",
    "    import os\n",
    "    import shutil\n",
    "    import re\n",
    "\n",
    "    if (os.path.exists(directory) and not os.path.isdir(directory)):\n",
    "        raise RuntimeError(f\"a non-directory file exists with name {directory:s}\")\n",
    "\n",
    "    if (not os.path.exists(directory)):\n",
    "        print(f\"creating directory {directory:s}\")\n",
    "        os.mkdir(directory)\n",
    "\n",
    "    fig_fnames = (re.compile(r'\\[Fig.*\\]\\((.*)\\)').findall(md) + \n",
    "                  re.compile(r'\\<img src=\"([^>\\s]*)\"[^>]*/>').findall(md))\n",
    "    print(\"found figures\", fig_fnames)\n",
    "    for fname in fig_fnames:\n",
    "        if 'http' in fname:\n",
    "            # No need to copy online figures\n",
    "            continue\n",
    "        if not os.path.exists(fname):\n",
    "            print(\"file not found\", fname)\n",
    "            continue\n",
    "        print(\"copying \", fname, \"to\", directory)\n",
    "        destdir = os.path.join(directory, os.path.dirname(fname))\n",
    "        destfname = os.path.join(destdir, os.path.basename(fname))\n",
    "        try:\n",
    "            os.makedirs(destdir)\n",
    "        except FileExistsError:\n",
    "            pass\n",
    "        shutil.copy(fname, destfname)\n",
    "    with open(os.path.join(directory, md_fname), 'w') as fout:\n",
    "        fout.write(md)\n",
    "    print(\"exported in \", os.path.join(directory, md_fname))\n",
    "    [print(\"    + \" + os.path.join(directory,fk)) for fk in fig_fnames]"
   ]
  },
  {
   "cell_type": "code",
   "execution_count": 8,
   "id": "014d04a4",
   "metadata": {
    "execution": {
     "iopub.execute_input": "2025-08-28T04:13:50.696692Z",
     "iopub.status.busy": "2025-08-28T04:13:50.696470Z",
     "iopub.status.idle": "2025-08-28T04:13:50.703717Z",
     "shell.execute_reply": "2025-08-28T04:13:50.703180Z"
    },
    "papermill": {
     "duration": 0.012924,
     "end_time": "2025-08-28T04:13:50.704677",
     "exception": false,
     "start_time": "2025-08-28T04:13:50.691753",
     "status": "completed"
    },
    "tags": []
   },
   "outputs": [
    {
     "name": "stdout",
     "output_type": "stream",
     "text": [
      "found figures ['tmp_2508.19494/./Images/phot_candidate2.png', 'tmp_2508.19494/./Images/hist_result1.png', 'tmp_2508.19494/./Images/close_sources2.png']\n",
      "copying  tmp_2508.19494/./Images/phot_candidate2.png to _build/html/\n",
      "copying  tmp_2508.19494/./Images/hist_result1.png to _build/html/\n",
      "copying  tmp_2508.19494/./Images/close_sources2.png to _build/html/\n",
      "exported in  _build/html/2508.19494.md\n",
      "    + _build/html/tmp_2508.19494/./Images/phot_candidate2.png\n",
      "    + _build/html/tmp_2508.19494/./Images/hist_result1.png\n",
      "    + _build/html/tmp_2508.19494/./Images/close_sources2.png\n",
      "found figures ['tmp_2508.19701/./light_dqtau.png', 'tmp_2508.19701/./temperature.png', 'tmp_2508.19701/./nicole2.png']\n",
      "copying  tmp_2508.19701/./light_dqtau.png to _build/html/\n",
      "copying  tmp_2508.19701/./temperature.png to _build/html/\n",
      "copying  tmp_2508.19701/./nicole2.png to _build/html/\n",
      "exported in  _build/html/2508.19701.md\n",
      "    + _build/html/tmp_2508.19701/./light_dqtau.png\n",
      "    + _build/html/tmp_2508.19701/./temperature.png\n",
      "    + _build/html/tmp_2508.19701/./nicole2.png\n"
     ]
    }
   ],
   "source": [
    "for paper_id, md in documents:\n",
    "    export_markdown_summary(md, f\"{paper_id:s}.md\", '_build/html/')"
   ]
  },
  {
   "cell_type": "markdown",
   "id": "f087a0a7",
   "metadata": {
    "papermill": {
     "duration": 0.004211,
     "end_time": "2025-08-28T04:13:50.713707",
     "exception": false,
     "start_time": "2025-08-28T04:13:50.709496",
     "status": "completed"
    },
    "tags": []
   },
   "source": [
    "## Display the papers\n",
    "\n",
    "Not necessary but allows for a quick check."
   ]
  },
  {
   "cell_type": "code",
   "execution_count": 9,
   "id": "fd25f625",
   "metadata": {
    "execution": {
     "iopub.execute_input": "2025-08-28T04:13:50.722996Z",
     "iopub.status.busy": "2025-08-28T04:13:50.722758Z",
     "iopub.status.idle": "2025-08-28T04:13:50.728313Z",
     "shell.execute_reply": "2025-08-28T04:13:50.727777Z"
    },
    "papermill": {
     "duration": 0.011258,
     "end_time": "2025-08-28T04:13:50.729246",
     "exception": false,
     "start_time": "2025-08-28T04:13:50.717988",
     "status": "completed"
    },
    "scrolled": false,
    "tags": []
   },
   "outputs": [
    {
     "data": {
      "text/markdown": [
       "<div class=\"macros\" style=\"visibility:hidden;\">\n",
       "$\\newcommand{\\ensuremath}{}$\n",
       "$\\newcommand{\\xspace}{}$\n",
       "$\\newcommand{\\object}[1]{\\texttt{#1}}$\n",
       "$\\newcommand{\\farcs}{{.}''}$\n",
       "$\\newcommand{\\farcm}{{.}'}$\n",
       "$\\newcommand{\\arcsec}{''}$\n",
       "$\\newcommand{\\arcmin}{'}$\n",
       "$\\newcommand{\\ion}[2]{#1#2}$\n",
       "$\\newcommand{\\textsc}[1]{\\textrm{#1}}$\n",
       "$\\newcommand{\\hl}[1]{\\textrm{#1}}$\n",
       "$\\newcommand{\\footnote}[1]{}$\n",
       "$\\newcommand{\\orcid}[1]$\n",
       "$\\newcommand\\aa{@@strip}$</div>\n",
       "\n",
       "\n",
       "\n",
       "<div id=\"title\">\n",
       "\n",
       "# $\\Euclid$: A machine-learning search for dual and lensed AGN at sub-arcsec separations$\\thanks{This paper is published on behalf of the Euclid Consortium.}$\n",
       "\n",
       "</div>\n",
       "<div id=\"comments\">\n",
       "\n",
       "[![arXiv](https://img.shields.io/badge/arXiv-2508.19494-b31b1b.svg)](https://arxiv.org/abs/2508.19494)<mark>Appeared on: 2025-08-28</mark> -  _18 figures_\n",
       "\n",
       "</div>\n",
       "<div id=\"authors\">\n",
       "\n",
       "L. Ulivi, et al. -- incl., <mark>K. Jahnke</mark>\n",
       "\n",
       "</div>\n",
       "<div id=\"abstract\">\n",
       "\n",
       "**Abstract:** Cosmological models of hierarchical structure formation predict the existence of a widespread population of dual accreting supermassive black holes (SMBHs) on kiloparsec-scale separations, corresponding to projected distances $<$ $\\ang{;;0.8}$ at redshifts higher than 0.5. However, close companions to known active galactic nuclei (AGN) or quasars (QSOs) can also be multiple images of the object itself, strongly lensed by a foreground galaxy, as well as foreground stars in a chance superposition. Thanks to its large sky coverage, sensitivity, and high spatial resolution, $\\Euclid$ offers a unique opportunity to obtain a large, homogeneous sample of dual/lensed AGN candidates with sub-arcsec projected separations.   Here we present a machine learning approach, in particular a Convolutional Neural Network (CNN), to identify close companions to known QSOs down to separations of $\\sim $ $\\ang{;;0.15}$ , comparable to the $\\Euclid$ VIS point spread function (PSF). We investigated the performance of the CNN trained on a large sample of simulated single and dual AGN.    We studied the effectiveness of the CNN in identifying dual AGN  and demonstrated that it outperforms traditional techniques such as \\texttt{IRAFStarFinder} . Applying our CNN to a sample of $\\sim $ 6000 QSOs from the Q1 $\\Euclid$ data release (covering $\\SI{63.1}{\\deg\\squared}$ ), we find a fraction of about 0.25 \\% dual AGN candidates with separation $\\sim $  $\\ang{;;0.4}$ (corresponding to $\\sim $ 3 kpc at $z $ =1). Estimating the foreground contamination from stellar objects, we find that most of the pair candidates with separation higher than $\\ang{;;0.5}$ are likely contaminants, while below this limit, contamination is expected to be less than 20 \\% .  For objects at higher separation (> $\\ang{;;0.5}$ , i.e. 4 kpc at $z $ =1), we performed PSF subtraction and used colour-colour diagrams to constrain their nature. We present a first set of dual/lensed AGN candidates detected in the Q1 $\\Euclid$ data, providing a starting point for the analysis of future data releases.\n",
       "\n",
       "</div>\n",
       "\n",
       "<div id=\"div_fig1\">\n",
       "\n",
       "<img src=\"tmp_2508.19494/./Images/phot_candidate2.png\" alt=\"Fig17\" width=\"100%\"/>\n",
       "\n",
       "**Figure 17. -** Three-colour composite images (\\IE, \\JE, \\HE) of dual AGN candidates derived from MER photometry or PSF subtraction. Systems enclosed in red boxes are those where both sources lie within the AGN region in both photometric methods. The black stars mark the positions of the input sources from the MER catalogue. The size of each cutout is $\\ang{;;3} \\times \\ang{;;3}$. (*fig:phot_cand*)\n",
       "\n",
       "</div>\n",
       "<div id=\"div_fig2\">\n",
       "\n",
       "<img src=\"tmp_2508.19494/./Images/hist_result1.png\" alt=\"Fig7\" width=\"100%\"/>\n",
       "\n",
       "**Figure 7. -** Comparison between the number of dual candidates found by CNN and the expected contaminants. The number is normalized by the total number of AGN considered after the cuts (5993). Dual AGN candidates found by CNN in bins of separation (in black), number of expected contaminants classified dual by the CNN once we added a primary source without (purple) and with (blue) host galaxy, and\n",
       "    false positives expected from simulations (in green). (*fig:contamination*)\n",
       "\n",
       "</div>\n",
       "<div id=\"div_fig3\">\n",
       "\n",
       "<img src=\"tmp_2508.19494/./Images/close_sources2.png\" alt=\"Fig16\" width=\"100%\"/>\n",
       "\n",
       "**Figure 16. -** Dual AGN candidates found by the network with separations between \\ang{;;0.15} and \\ang{;;0.45}. The number of objects in this separation range exceeds the number expected from foreground objects and false positives caused by clumpy galaxy structure, making these candidates more reliable than those at larger separations. The size of each cutout is $\\ang{;;3} \\times \\ang{;;3}$, and the flux is shown in logarithmic scale.    (*fig:Closesources*)\n",
       "\n",
       "</div><div id=\"qrcode\"><img src=https://api.qrserver.com/v1/create-qr-code/?size=100x100&data=\"https://arxiv.org/abs/2508.19494\"></div>"
      ],
      "text/plain": [
       "<IPython.core.display.Markdown object>"
      ]
     },
     "metadata": {},
     "output_type": "display_data"
    },
    {
     "data": {
      "text/markdown": [
       "<div class=\"macros\" style=\"visibility:hidden;\">\n",
       "$\\newcommand{\\ensuremath}{}$\n",
       "$\\newcommand{\\xspace}{}$\n",
       "$\\newcommand{\\object}[1]{\\texttt{#1}}$\n",
       "$\\newcommand{\\farcs}{{.}''}$\n",
       "$\\newcommand{\\farcm}{{.}'}$\n",
       "$\\newcommand{\\arcsec}{''}$\n",
       "$\\newcommand{\\arcmin}{'}$\n",
       "$\\newcommand{\\ion}[2]{#1#2}$\n",
       "$\\newcommand{\\textsc}[1]{\\textrm{#1}}$\n",
       "$\\newcommand{\\hl}[1]{\\textrm{#1}}$\n",
       "$\\newcommand{\\footnote}[1]{}$\n",
       "$\\newcommand{\\linenumbers}$\n",
       "$\\newcommand{\\nolinenumbers}$\n",
       "$\\newcommand\\natexlab{#1}$</div>\n",
       "\n",
       "\n",
       "\n",
       "<div id=\"title\">\n",
       "\n",
       "# Time-resolved protoplanetary disk physics in DQ Tau with JWST\n",
       "\n",
       "</div>\n",
       "<div id=\"comments\">\n",
       "\n",
       "[![arXiv](https://img.shields.io/badge/arXiv-2508.19701-b31b1b.svg)](https://arxiv.org/abs/2508.19701)<mark>Appeared on: 2025-08-28</mark> -  _21 pages, 20 figures, accepted for publication in the A&A_\n",
       "\n",
       "</div>\n",
       "<div id=\"authors\">\n",
       "\n",
       "Á. Kóspál, et al. -- incl., <mark>D. Semenov</mark>\n",
       "\n",
       "</div>\n",
       "<div id=\"abstract\">\n",
       "\n",
       "**Abstract:**            Accretion variability is ubiquitous in YSOs. While large outbursts may strongly affect the disk, the effects of moderate bursts are less understood. We aim to study the physical response of the disk around the eccentric binary system DQ Tau to its periodic accretion changes. We organized a multi-wavelength campaign centered on four JWST/MIRI spectra. We targeted three periastrons (high accretion state) and one apastron (quiescence). We used optical and near-infrared spectroscopy and photometry to measure how the accretion luminosity varies. We decomposed the multi-epoch SEDs into stellar, accretion, and rim components. We fitted the solid-state features using various opacity curves and the molecular features using slab models. We find the inner disk of DQ Tau to be highly dynamic. The temperature, luminosity, and location of the inner dust rim vary in response to the movement of stars and the L_acc variations. This causes variable shadowing of the outer disk, leading to an anti-correlation between the rim temperature and the strength of the silicate feature. The dust mineralogy remains constant, dominated by large amorphous olivine and pyroxene grains, with smaller fractions of crystalline forsterite. The excitation of CO (1550-2260 K), HCN (880-980 K), and hot H2O (740-860 K) molecules as well as the luminosity of the [NeII] line correlate with the accretion rate, while the warm (650 K) and cold (170-200 K) H2O components are mostly constant. CO emission, originating from a hot (>1500 K) region likely within the dust sublimation radius, is most sensitive to L_acc changes. In comparison with other T Tauri disks, DQ Tau is highly C-poor and displays moderately inefficient pebble drift. We conclude that even moderate accretion rate changes affect the thermal structure in the planet-forming disk regions on short timescales, providing a crucial benchmark for understanding disk evolution.         \n",
       "\n",
       "</div>\n",
       "\n",
       "<div id=\"div_fig1\">\n",
       "\n",
       "<img src=\"tmp_2508.19701/./light_dqtau.png\" alt=\"Fig12\" width=\"100%\"/>\n",
       "\n",
       "**Figure 12. -** Light curves (top) and accretion luminosity (bottom) of DQ Tau. Vertical dashed lines mark the epochs of periastrons. The solid vertical lines in color show the epochs of the JWST/MIRI observations. (*fig:light*)\n",
       "\n",
       "</div>\n",
       "<div id=\"div_fig2\">\n",
       "\n",
       "<img src=\"tmp_2508.19701/./temperature.png\" alt=\"Fig7\" width=\"100%\"/>\n",
       "\n",
       "**Figure 7. -** Temperature of the dust rim and of various gas components (top), accretion luminosity and the luminosity of the [Ne II] line at 12.81$ \\mu$m (middle), dust rim radius, peak flux of the continuum-subtracted 10$ \\mu$m silicate feature, and the distance of the primary (black) and secondary (gray) from the barycenter (bottom). Error bars smaller than the symbol size are not plotted. (*fig:temperature*)\n",
       "\n",
       "</div>\n",
       "<div id=\"div_fig3\">\n",
       "\n",
       "<img src=\"tmp_2508.19701/./nicole2.png\" alt=\"Fig6\" width=\"100%\"/>\n",
       "\n",
       "**Figure 6. -** Line luminosity ratios as a function of millimeter dust size for the JDISC sample (black dots, from \\citealt{arulanantham2025}) and for DQ Tau (red symbols). (*fig:nicole*)\n",
       "\n",
       "</div><div id=\"qrcode\"><img src=https://api.qrserver.com/v1/create-qr-code/?size=100x100&data=\"https://arxiv.org/abs/2508.19701\"></div>"
      ],
      "text/plain": [
       "<IPython.core.display.Markdown object>"
      ]
     },
     "metadata": {},
     "output_type": "display_data"
    }
   ],
   "source": [
    "[display(Markdown(k[1])) for k in documents];"
   ]
  },
  {
   "cell_type": "markdown",
   "id": "873873a4",
   "metadata": {
    "papermill": {
     "duration": 0.004514,
     "end_time": "2025-08-28T04:13:50.738487",
     "exception": false,
     "start_time": "2025-08-28T04:13:50.733973",
     "status": "completed"
    },
    "tags": []
   },
   "source": [
    "# Create HTML index"
   ]
  },
  {
   "cell_type": "code",
   "execution_count": 10,
   "id": "cf665672",
   "metadata": {
    "execution": {
     "iopub.execute_input": "2025-08-28T04:13:50.748460Z",
     "iopub.status.busy": "2025-08-28T04:13:50.748274Z",
     "iopub.status.idle": "2025-08-28T04:13:50.755298Z",
     "shell.execute_reply": "2025-08-28T04:13:50.754632Z"
    },
    "papermill": {
     "duration": 0.013164,
     "end_time": "2025-08-28T04:13:50.756361",
     "exception": false,
     "start_time": "2025-08-28T04:13:50.743197",
     "status": "completed"
    },
    "tags": []
   },
   "outputs": [
    {
     "name": "stdout",
     "output_type": "stream",
     "text": [
      "126  publications files modified in the last 7 days.\n"
     ]
    }
   ],
   "source": [
    "from datetime import datetime, timedelta, timezone\n",
    "from glob import glob\n",
    "import os\n",
    "\n",
    "files = glob('_build/html/*.md')\n",
    "days = 7\n",
    "now = datetime.today()\n",
    "res = []\n",
    "for fk in files:\n",
    "    stat_result = os.stat(fk).st_ctime\n",
    "    modified = datetime.fromtimestamp(stat_result, tz=timezone.utc).replace(tzinfo=None)\n",
    "    delta = now.today() - modified\n",
    "    if delta <= timedelta(days=days):\n",
    "        res.append((delta.seconds, fk))\n",
    "res = [k[1] for k in reversed(sorted(res, key=lambda x:x[1]))]\n",
    "npub = len(res)\n",
    "print(len(res), f\" publications files modified in the last {days:d} days.\")\n",
    "# [ print('\\t', k) for k in res ];"
   ]
  },
  {
   "cell_type": "code",
   "execution_count": 11,
   "id": "015de740",
   "metadata": {
    "execution": {
     "iopub.execute_input": "2025-08-28T04:13:50.766582Z",
     "iopub.status.busy": "2025-08-28T04:13:50.766384Z",
     "iopub.status.idle": "2025-08-28T04:13:50.778374Z",
     "shell.execute_reply": "2025-08-28T04:13:50.777821Z"
    },
    "papermill": {
     "duration": 0.018192,
     "end_time": "2025-08-28T04:13:50.779334",
     "exception": false,
     "start_time": "2025-08-28T04:13:50.761142",
     "status": "completed"
    },
    "tags": []
   },
   "outputs": [
    {
     "name": "stdout",
     "output_type": "stream",
     "text": [
      "8  publications in the last 7 days.\n"
     ]
    }
   ],
   "source": [
    "import datetime\n",
    "from glob import glob\n",
    "\n",
    "def get_last_n_days(lst, days=1):\n",
    "    \"\"\" Get the documents from the last n days \"\"\"\n",
    "    sorted_lst = sorted(lst, key=lambda x: x[1], reverse=True)\n",
    "    for fname, date in sorted_lst:\n",
    "        if date >= str(datetime.date.today() - datetime.timedelta(days=days)):\n",
    "            yield fname\n",
    "\n",
    "def extract_appearance_dates(lst_file):\n",
    "    dates = []\n",
    "\n",
    "    def get_date(line):\n",
    "        return line\\\n",
    "            .split('Appeared on:')[-1]\\\n",
    "            .split('</mark>')[0].strip()\n",
    "\n",
    "    for fname in lst:\n",
    "        with open(fname, 'r') as f:\n",
    "            found_date = False\n",
    "            for line in f:\n",
    "                if not found_date:\n",
    "                    if \"Appeared on\" in line:\n",
    "                        found_date = True\n",
    "                        dates.append((fname, get_date(line)))\n",
    "                else:\n",
    "                    break\n",
    "    return dates\n",
    "\n",
    "from glob import glob\n",
    "lst = glob('_build/html/*md')\n",
    "days = 7\n",
    "dates = extract_appearance_dates(lst)\n",
    "res = list(get_last_n_days(dates, days))\n",
    "npub = len(res)\n",
    "print(len(res), f\" publications in the last {days:d} days.\")"
   ]
  },
  {
   "cell_type": "code",
   "execution_count": 12,
   "id": "52ca0208",
   "metadata": {
    "execution": {
     "iopub.execute_input": "2025-08-28T04:13:50.789755Z",
     "iopub.status.busy": "2025-08-28T04:13:50.789515Z",
     "iopub.status.idle": "2025-08-28T04:13:50.794490Z",
     "shell.execute_reply": "2025-08-28T04:13:50.793821Z"
    },
    "papermill": {
     "duration": 0.011275,
     "end_time": "2025-08-28T04:13:50.795429",
     "exception": false,
     "start_time": "2025-08-28T04:13:50.784154",
     "status": "completed"
    },
    "scrolled": false,
    "tags": []
   },
   "outputs": [],
   "source": [
    "def create_carousel(npub=4):\n",
    "    \"\"\" Generate the HTML code for a carousel with `npub` slides \"\"\"\n",
    "    carousel = [\"\"\"  <div class=\"carousel\" \"\"\",\n",
    "                \"\"\"       data-flickity='{ \"autoPlay\": 10000, \"adaptiveHeight\": true, \"resize\": true, \"wrapAround\": true, \"pauseAutoPlayOnHover\": true, \"groupCells\": 1 }' id=\"asyncTypeset\">\"\"\"\n",
    "                ]\n",
    "    \n",
    "    item_str = \"\"\"    <div class=\"carousel-cell\"> <div id=\"slide{k}\" class=\"md_view\">Content {k}</div> </div>\"\"\"\n",
    "    for k in range(1, npub + 1):\n",
    "        carousel.append(item_str.format(k=k))\n",
    "    carousel.append(\"  </div>\")\n",
    "    return '\\n'.join(carousel)\n",
    "\n",
    "def create_grid(npub=4):\n",
    "    \"\"\" Generate the HTML code for a flat grid with `npub` slides \"\"\"\n",
    "    grid = [\"\"\"  <div class=\"grid\"> \"\"\",\n",
    "                ]\n",
    "    \n",
    "    item_str = \"\"\"    <div class=\"grid-item\"> <div id=\"slide{k}\" class=\"md_view\">Content {k}</div> </div>\"\"\"\n",
    "    for k in range(1, npub + 1):\n",
    "        grid.append(item_str.format(k=k))\n",
    "    grid.append(\"  </div>\")\n",
    "    return '\\n'.join(grid)"
   ]
  },
  {
   "cell_type": "code",
   "execution_count": 13,
   "id": "a6eac5b6",
   "metadata": {
    "execution": {
     "iopub.execute_input": "2025-08-28T04:13:50.805833Z",
     "iopub.status.busy": "2025-08-28T04:13:50.805611Z",
     "iopub.status.idle": "2025-08-28T04:13:50.810554Z",
     "shell.execute_reply": "2025-08-28T04:13:50.809915Z"
    },
    "papermill": {
     "duration": 0.011259,
     "end_time": "2025-08-28T04:13:50.811557",
     "exception": false,
     "start_time": "2025-08-28T04:13:50.800298",
     "status": "completed"
    },
    "scrolled": false,
    "tags": []
   },
   "outputs": [],
   "source": [
    "carousel = create_carousel(npub)\n",
    "docs = ', '.join(['\"{0:s}\"'.format(k.split('/')[-1]) for k in res])\n",
    "slides = ', '.join([f'\"slide{k}\"' for k in range(1, npub + 1)])\n",
    "\n",
    "with open(\"daily_template.html\", \"r\") as tpl:\n",
    "    page = tpl.read()\n",
    "    page = page.replace(\"{%-- carousel:s --%}\", carousel)\\\n",
    "               .replace(\"{%-- suptitle:s --%}\",  \"7-day archives\" )\\\n",
    "               .replace(\"{%-- docs:s --%}\", docs)\\\n",
    "               .replace(\"{%-- slides:s --%}\", slides)\n",
    "    \n",
    "with open(\"_build/html/index_7days.html\", 'w') as fout:\n",
    "    fout.write(page)"
   ]
  },
  {
   "cell_type": "code",
   "execution_count": 14,
   "id": "adc1a1ec",
   "metadata": {
    "execution": {
     "iopub.execute_input": "2025-08-28T04:13:50.821989Z",
     "iopub.status.busy": "2025-08-28T04:13:50.821762Z",
     "iopub.status.idle": "2025-08-28T04:13:50.827935Z",
     "shell.execute_reply": "2025-08-28T04:13:50.827370Z"
    },
    "papermill": {
     "duration": 0.012511,
     "end_time": "2025-08-28T04:13:50.828922",
     "exception": false,
     "start_time": "2025-08-28T04:13:50.816411",
     "status": "completed"
    },
    "tags": []
   },
   "outputs": [
    {
     "name": "stdout",
     "output_type": "stream",
     "text": [
      "4  publications in the last day.\n"
     ]
    }
   ],
   "source": [
    "# redo for today\n",
    "days = 1\n",
    "res = list(get_last_n_days(dates, days))\n",
    "npub = len(res)\n",
    "print(len(res), f\" publications in the last day.\")\n",
    "\n",
    "carousel = create_carousel(npub)\n",
    "docs = ', '.join(['\"{0:s}\"'.format(k.split('/')[-1]) for k in res])\n",
    "slides = ', '.join([f'\"slide{k}\"' for k in range(1, npub + 1)])\n",
    "\n",
    "with open(\"daily_template.html\", \"r\") as tpl:\n",
    "    page = tpl.read()\n",
    "    page = page.replace(\"{%-- carousel:s --%}\", carousel)\\\n",
    "               .replace(\"{%-- suptitle:s --%}\",  \"Daily\" )\\\n",
    "               .replace(\"{%-- docs:s --%}\", docs)\\\n",
    "               .replace(\"{%-- slides:s --%}\", slides)\n",
    "    \n",
    "# print(carousel, docs, slides)\n",
    "# print(page)\n",
    "with open(\"_build/html/index_daily.html\", 'w') as fout:\n",
    "    fout.write(page)"
   ]
  },
  {
   "cell_type": "code",
   "execution_count": 15,
   "id": "00eece82",
   "metadata": {
    "execution": {
     "iopub.execute_input": "2025-08-28T04:13:50.839504Z",
     "iopub.status.busy": "2025-08-28T04:13:50.839308Z",
     "iopub.status.idle": "2025-08-28T04:13:50.845612Z",
     "shell.execute_reply": "2025-08-28T04:13:50.845025Z"
    },
    "papermill": {
     "duration": 0.012657,
     "end_time": "2025-08-28T04:13:50.846571",
     "exception": false,
     "start_time": "2025-08-28T04:13:50.833914",
     "status": "completed"
    },
    "scrolled": false,
    "tags": []
   },
   "outputs": [
    {
     "name": "stdout",
     "output_type": "stream",
     "text": [
      "6  6 publications selected.\n"
     ]
    }
   ],
   "source": [
    "# Create the flat grid of the last N papers (fixed number regardless of dates)\n",
    "from itertools import islice \n",
    "\n",
    "npub = 6\n",
    "res = [k[0] for k in (islice(reversed(sorted(dates, key=lambda x: x[1])), 6))]\n",
    "print(len(res), f\" {npub} publications selected.\")\n",
    "\n",
    "grid = create_grid(npub)\n",
    "docs = ', '.join(['\"{0:s}\"'.format(k.split('/')[-1]) for k in res])\n",
    "slides = ', '.join([f'\"slide{k}\"' for k in range(1, npub + 1)])\n",
    "\n",
    "with open(\"grid_template.html\", \"r\") as tpl:\n",
    "    page = tpl.read()\n",
    "    page = page.replace(\"{%-- grid-content:s --%}\", grid)\\\n",
    "               .replace(\"{%-- suptitle:s --%}\",  f\"Last {npub:,d} papers\" )\\\n",
    "               .replace(\"{%-- docs:s --%}\", docs)\\\n",
    "               .replace(\"{%-- slides:s --%}\", slides)\n",
    "    \n",
    "# print(grid, docs, slides)\n",
    "# print(page)\n",
    "with open(\"_build/html/index_npub_grid.html\", 'w') as fout:\n",
    "    fout.write(page)"
   ]
  }
 ],
 "metadata": {
  "kernelspec": {
   "display_name": "Python 3 (ipykernel)",
   "language": "python",
   "name": "python3"
  },
  "language_info": {
   "codemirror_mode": {
    "name": "ipython",
    "version": 3
   },
   "file_extension": ".py",
   "mimetype": "text/x-python",
   "name": "python",
   "nbconvert_exporter": "python",
   "pygments_lexer": "ipython3",
   "version": "3.9.23"
  },
  "papermill": {
   "default_parameters": {},
   "duration": 85.02965,
   "end_time": "2025-08-28T04:13:51.168209",
   "environment_variables": {},
   "exception": null,
   "input_path": "MPIA daily digest.ipynb",
   "output_path": "log.ipynb",
   "parameters": {},
   "start_time": "2025-08-28T04:12:26.138559",
   "version": "2.6.0"
  },
  "vscode": {
   "interpreter": {
    "hash": "aee8b7b246df8f9039afb4144a1f6fd8d2ca17a180786b69acc140d282b71a49"
   }
  },
  "widgets": {
   "application/vnd.jupyter.widget-state+json": {
    "state": {
     "16a203b734b54d5e8c4f7bbd9f8b579f": {
      "model_module": "@jupyter-widgets/controls",
      "model_module_version": "2.0.0",
      "model_name": "HTMLModel",
      "state": {
       "_dom_classes": [],
       "_model_module": "@jupyter-widgets/controls",
       "_model_module_version": "2.0.0",
       "_model_name": "HTMLModel",
       "_view_count": null,
       "_view_module": "@jupyter-widgets/controls",
       "_view_module_version": "2.0.0",
       "_view_name": "HTMLView",
       "description": "",
       "description_allow_html": false,
       "layout": "IPY_MODEL_a0c67d1f90e2434497c4bd1f2379a658",
       "placeholder": "​",
       "style": "IPY_MODEL_642541b5259f41138988591c5d5b563b",
       "tabbable": null,
       "tooltip": null,
       "value": "100%"
      }
     },
     "642541b5259f41138988591c5d5b563b": {
      "model_module": "@jupyter-widgets/controls",
      "model_module_version": "2.0.0",
      "model_name": "HTMLStyleModel",
      "state": {
       "_model_module": "@jupyter-widgets/controls",
       "_model_module_version": "2.0.0",
       "_model_name": "HTMLStyleModel",
       "_view_count": null,
       "_view_module": "@jupyter-widgets/base",
       "_view_module_version": "2.0.0",
       "_view_name": "StyleView",
       "background": null,
       "description_width": "",
       "font_size": null,
       "text_color": null
      }
     },
     "a0c67d1f90e2434497c4bd1f2379a658": {
      "model_module": "@jupyter-widgets/base",
      "model_module_version": "2.0.0",
      "model_name": "LayoutModel",
      "state": {
       "_model_module": "@jupyter-widgets/base",
       "_model_module_version": "2.0.0",
       "_model_name": "LayoutModel",
       "_view_count": null,
       "_view_module": "@jupyter-widgets/base",
       "_view_module_version": "2.0.0",
       "_view_name": "LayoutView",
       "align_content": null,
       "align_items": null,
       "align_self": null,
       "border_bottom": null,
       "border_left": null,
       "border_right": null,
       "border_top": null,
       "bottom": null,
       "display": null,
       "flex": null,
       "flex_flow": null,
       "grid_area": null,
       "grid_auto_columns": null,
       "grid_auto_flow": null,
       "grid_auto_rows": null,
       "grid_column": null,
       "grid_gap": null,
       "grid_row": null,
       "grid_template_areas": null,
       "grid_template_columns": null,
       "grid_template_rows": null,
       "height": null,
       "justify_content": null,
       "justify_items": null,
       "left": null,
       "margin": null,
       "max_height": null,
       "max_width": null,
       "min_height": null,
       "min_width": null,
       "object_fit": null,
       "object_position": null,
       "order": null,
       "overflow": null,
       "padding": null,
       "right": null,
       "top": null,
       "visibility": null,
       "width": null
      }
     },
     "a108e4126760405da1f2bc4ddd74000a": {
      "model_module": "@jupyter-widgets/base",
      "model_module_version": "2.0.0",
      "model_name": "LayoutModel",
      "state": {
       "_model_module": "@jupyter-widgets/base",
       "_model_module_version": "2.0.0",
       "_model_name": "LayoutModel",
       "_view_count": null,
       "_view_module": "@jupyter-widgets/base",
       "_view_module_version": "2.0.0",
       "_view_name": "LayoutView",
       "align_content": null,
       "align_items": null,
       "align_self": null,
       "border_bottom": null,
       "border_left": null,
       "border_right": null,
       "border_top": null,
       "bottom": null,
       "display": null,
       "flex": null,
       "flex_flow": null,
       "grid_area": null,
       "grid_auto_columns": null,
       "grid_auto_flow": null,
       "grid_auto_rows": null,
       "grid_column": null,
       "grid_gap": null,
       "grid_row": null,
       "grid_template_areas": null,
       "grid_template_columns": null,
       "grid_template_rows": null,
       "height": null,
       "justify_content": null,
       "justify_items": null,
       "left": null,
       "margin": null,
       "max_height": null,
       "max_width": null,
       "min_height": null,
       "min_width": null,
       "object_fit": null,
       "object_position": null,
       "order": null,
       "overflow": null,
       "padding": null,
       "right": null,
       "top": null,
       "visibility": null,
       "width": null
      }
     },
     "a410e437937743959eb02987ab2f53c0": {
      "model_module": "@jupyter-widgets/base",
      "model_module_version": "2.0.0",
      "model_name": "LayoutModel",
      "state": {
       "_model_module": "@jupyter-widgets/base",
       "_model_module_version": "2.0.0",
       "_model_name": "LayoutModel",
       "_view_count": null,
       "_view_module": "@jupyter-widgets/base",
       "_view_module_version": "2.0.0",
       "_view_name": "LayoutView",
       "align_content": null,
       "align_items": null,
       "align_self": null,
       "border_bottom": null,
       "border_left": null,
       "border_right": null,
       "border_top": null,
       "bottom": null,
       "display": null,
       "flex": null,
       "flex_flow": null,
       "grid_area": null,
       "grid_auto_columns": null,
       "grid_auto_flow": null,
       "grid_auto_rows": null,
       "grid_column": null,
       "grid_gap": null,
       "grid_row": null,
       "grid_template_areas": null,
       "grid_template_columns": null,
       "grid_template_rows": null,
       "height": null,
       "justify_content": null,
       "justify_items": null,
       "left": null,
       "margin": null,
       "max_height": null,
       "max_width": null,
       "min_height": null,
       "min_width": null,
       "object_fit": null,
       "object_position": null,
       "order": null,
       "overflow": null,
       "padding": null,
       "right": null,
       "top": null,
       "visibility": null,
       "width": null
      }
     },
     "c37e327e69eb4616b5bd508093ffdb22": {
      "model_module": "@jupyter-widgets/controls",
      "model_module_version": "2.0.0",
      "model_name": "FloatProgressModel",
      "state": {
       "_dom_classes": [],
       "_model_module": "@jupyter-widgets/controls",
       "_model_module_version": "2.0.0",
       "_model_name": "FloatProgressModel",
       "_view_count": null,
       "_view_module": "@jupyter-widgets/controls",
       "_view_module_version": "2.0.0",
       "_view_name": "ProgressView",
       "bar_style": "success",
       "description": "",
       "description_allow_html": false,
       "layout": "IPY_MODEL_d317f02f3ede44bfa8ad088f2c204e1e",
       "max": 4.0,
       "min": 0.0,
       "orientation": "horizontal",
       "style": "IPY_MODEL_da0dc89f383b4b7a8a175287b4b9ece6",
       "tabbable": null,
       "tooltip": null,
       "value": 4.0
      }
     },
     "d317f02f3ede44bfa8ad088f2c204e1e": {
      "model_module": "@jupyter-widgets/base",
      "model_module_version": "2.0.0",
      "model_name": "LayoutModel",
      "state": {
       "_model_module": "@jupyter-widgets/base",
       "_model_module_version": "2.0.0",
       "_model_name": "LayoutModel",
       "_view_count": null,
       "_view_module": "@jupyter-widgets/base",
       "_view_module_version": "2.0.0",
       "_view_name": "LayoutView",
       "align_content": null,
       "align_items": null,
       "align_self": null,
       "border_bottom": null,
       "border_left": null,
       "border_right": null,
       "border_top": null,
       "bottom": null,
       "display": null,
       "flex": null,
       "flex_flow": null,
       "grid_area": null,
       "grid_auto_columns": null,
       "grid_auto_flow": null,
       "grid_auto_rows": null,
       "grid_column": null,
       "grid_gap": null,
       "grid_row": null,
       "grid_template_areas": null,
       "grid_template_columns": null,
       "grid_template_rows": null,
       "height": null,
       "justify_content": null,
       "justify_items": null,
       "left": null,
       "margin": null,
       "max_height": null,
       "max_width": null,
       "min_height": null,
       "min_width": null,
       "object_fit": null,
       "object_position": null,
       "order": null,
       "overflow": null,
       "padding": null,
       "right": null,
       "top": null,
       "visibility": null,
       "width": null
      }
     },
     "da0dc89f383b4b7a8a175287b4b9ece6": {
      "model_module": "@jupyter-widgets/controls",
      "model_module_version": "2.0.0",
      "model_name": "ProgressStyleModel",
      "state": {
       "_model_module": "@jupyter-widgets/controls",
       "_model_module_version": "2.0.0",
       "_model_name": "ProgressStyleModel",
       "_view_count": null,
       "_view_module": "@jupyter-widgets/base",
       "_view_module_version": "2.0.0",
       "_view_name": "StyleView",
       "bar_color": null,
       "description_width": ""
      }
     },
     "e6f33b57a5eb488591a3e3ab6e0a5959": {
      "model_module": "@jupyter-widgets/controls",
      "model_module_version": "2.0.0",
      "model_name": "HBoxModel",
      "state": {
       "_dom_classes": [],
       "_model_module": "@jupyter-widgets/controls",
       "_model_module_version": "2.0.0",
       "_model_name": "HBoxModel",
       "_view_count": null,
       "_view_module": "@jupyter-widgets/controls",
       "_view_module_version": "2.0.0",
       "_view_name": "HBoxView",
       "box_style": "",
       "children": [
        "IPY_MODEL_16a203b734b54d5e8c4f7bbd9f8b579f",
        "IPY_MODEL_c37e327e69eb4616b5bd508093ffdb22",
        "IPY_MODEL_fc7b62be477b42b38618621efc64fff6"
       ],
       "layout": "IPY_MODEL_a108e4126760405da1f2bc4ddd74000a",
       "tabbable": null,
       "tooltip": null
      }
     },
     "f04ca8f36cf14cb0af0f63e656da4f3d": {
      "model_module": "@jupyter-widgets/controls",
      "model_module_version": "2.0.0",
      "model_name": "HTMLStyleModel",
      "state": {
       "_model_module": "@jupyter-widgets/controls",
       "_model_module_version": "2.0.0",
       "_model_name": "HTMLStyleModel",
       "_view_count": null,
       "_view_module": "@jupyter-widgets/base",
       "_view_module_version": "2.0.0",
       "_view_name": "StyleView",
       "background": null,
       "description_width": "",
       "font_size": null,
       "text_color": null
      }
     },
     "fc7b62be477b42b38618621efc64fff6": {
      "model_module": "@jupyter-widgets/controls",
      "model_module_version": "2.0.0",
      "model_name": "HTMLModel",
      "state": {
       "_dom_classes": [],
       "_model_module": "@jupyter-widgets/controls",
       "_model_module_version": "2.0.0",
       "_model_name": "HTMLModel",
       "_view_count": null,
       "_view_module": "@jupyter-widgets/controls",
       "_view_module_version": "2.0.0",
       "_view_name": "HTMLView",
       "description": "",
       "description_allow_html": false,
       "layout": "IPY_MODEL_a410e437937743959eb02987ab2f53c0",
       "placeholder": "​",
       "style": "IPY_MODEL_f04ca8f36cf14cb0af0f63e656da4f3d",
       "tabbable": null,
       "tooltip": null,
       "value": " 4/4 [00:58&lt;00:00, 15.02s/it]"
      }
     }
    },
    "version_major": 2,
    "version_minor": 0
   }
  }
 },
 "nbformat": 4,
 "nbformat_minor": 5
}