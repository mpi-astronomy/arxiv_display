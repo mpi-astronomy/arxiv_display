{
 "cells": [
  {
   "cell_type": "markdown",
   "id": "92bcb855",
   "metadata": {
    "papermill": {
     "duration": 0.00639,
     "end_time": "2022-08-19T15:17:36.327212",
     "exception": false,
     "start_time": "2022-08-19T15:17:36.320822",
     "status": "completed"
    },
    "tags": []
   },
   "source": [
    "# MPIA Arxiv on Deck 2\n",
    "\n",
    "Contains the steps to produce the paper extractions."
   ]
  },
  {
   "cell_type": "code",
   "execution_count": 1,
   "id": "3a0d6e11",
   "metadata": {
    "execution": {
     "iopub.execute_input": "2022-08-19T15:17:36.339436Z",
     "iopub.status.busy": "2022-08-19T15:17:36.338994Z",
     "iopub.status.idle": "2022-08-19T15:17:36.564988Z",
     "shell.execute_reply": "2022-08-19T15:17:36.563957Z"
    },
    "papermill": {
     "duration": 0.23536,
     "end_time": "2022-08-19T15:17:36.567692",
     "exception": false,
     "start_time": "2022-08-19T15:17:36.332332",
     "status": "completed"
    },
    "tags": []
   },
   "outputs": [],
   "source": [
    "# Imports\n",
    "import os\n",
    "from IPython.display import Markdown, display\n",
    "from tqdm.notebook import tqdm\n",
    "import warnings\n",
    "from PIL import Image \n",
    "\n",
    "# requires arxiv_on_deck_2\n",
    "\n",
    "from arxiv_on_deck_2.arxiv2 import (get_new_papers, \n",
    "                                    get_paper_from_identifier,\n",
    "                                    retrieve_document_source, \n",
    "                                    get_markdown_badge)\n",
    "from arxiv_on_deck_2 import (latex, \n",
    "                             mpia,\n",
    "                             highlight_authors_in_list)\n",
    "\n",
    "# Sometimes images are really big\n",
    "Image.MAX_IMAGE_PIXELS = 1000000000 "
   ]
  },
  {
   "cell_type": "code",
   "execution_count": 2,
   "id": "22aa9d44",
   "metadata": {
    "execution": {
     "iopub.execute_input": "2022-08-19T15:17:36.580476Z",
     "iopub.status.busy": "2022-08-19T15:17:36.580118Z",
     "iopub.status.idle": "2022-08-19T15:17:36.586323Z",
     "shell.execute_reply": "2022-08-19T15:17:36.585411Z"
    },
    "papermill": {
     "duration": 0.015523,
     "end_time": "2022-08-19T15:17:36.588793",
     "exception": false,
     "start_time": "2022-08-19T15:17:36.573270",
     "status": "completed"
    },
    "tags": []
   },
   "outputs": [],
   "source": [
    "# Some useful definitions.\n",
    "\n",
    "class AffiliationWarning(UserWarning):\n",
    "    pass\n",
    "\n",
    "class AffiliationError(RuntimeError):\n",
    "    pass\n",
    "\n",
    "def validation(source: str):\n",
    "    \"\"\"Raises error paper during parsing of source file\n",
    "    \n",
    "    Allows checks before parsing TeX code.\n",
    "    \n",
    "    Raises AffiliationWarning\n",
    "    \"\"\"\n",
    "    check = mpia.affiliation_verifications(source, verbose=True)\n",
    "    if check is not True:\n",
    "        raise AffiliationError(\"mpia.affiliation_verifications: \" + check)\n",
    "\n",
    "        \n",
    "warnings.simplefilter('always', AffiliationWarning)"
   ]
  },
  {
   "cell_type": "code",
   "execution_count": 3,
   "id": "14622700",
   "metadata": {
    "execution": {
     "iopub.execute_input": "2022-08-19T15:17:36.599400Z",
     "iopub.status.busy": "2022-08-19T15:17:36.598767Z",
     "iopub.status.idle": "2022-08-19T15:17:36.604269Z",
     "shell.execute_reply": "2022-08-19T15:17:36.603378Z"
    },
    "papermill": {
     "duration": 0.014183,
     "end_time": "2022-08-19T15:17:36.607143",
     "exception": false,
     "start_time": "2022-08-19T15:17:36.592960",
     "status": "completed"
    },
    "tags": []
   },
   "outputs": [],
   "source": [
    "# additional CSS to consider. \n",
    "# TODO: Current into each exported file. \n",
    "#       This should be set once into the webpages directly.\n",
    "#       With only the class/id definitions in the .md files.\n",
    "\n",
    "debug_html = \"\"\"\n",
    "<style>\n",
    "#wrap{ overflow:auto; }\n",
    "#fig1{ background:yellow; width:100%; float:left; padding:5px;  }\n",
    "#fig2{ background:red; width:50%; float:left; clear:left; padding:5px;  }\n",
    "#fig3{ background:green; width:50%; float:left; padding:5px;   }\n",
    ".macros{ background:yellow; visibility:visible;}\n",
    "h1 {margin: 0 0 0 0;}\n",
    "mark {background-color:#fff3b6;}\n",
    "img {object-fit:contain; max-height:250px; display:inline-block; text-align: center;}\n",
    "</style>\n",
    "\"\"\" \n",
    "html = \"\"\"\n",
    "<style>\n",
    "#wrap{ overflow:auto; }\n",
    "#fig1{ width:100%; float:left; padding: 5px;  }\n",
    "#fig2{ width:50%; float:left; clear:left; padding: 5px;  }\n",
    "#fig3{ width:50%; float:left; padding: 5px;  }\n",
    ".macros{ visibility:hidden; height:0px; }\n",
    "h1 {margin: 0em 0 0 0;}\n",
    "mark {background-color:#fff3b6;}\n",
    "img {object-fit:contain; max-height:250px; display:inline-block; text-align: center;}\n",
    "</style>\n",
    "\"\"\""
   ]
  },
  {
   "cell_type": "markdown",
   "id": "14bd6310",
   "metadata": {
    "papermill": {
     "duration": 0.004923,
     "end_time": "2022-08-19T15:17:36.617209",
     "exception": false,
     "start_time": "2022-08-19T15:17:36.612286",
     "status": "completed"
    },
    "tags": []
   },
   "source": [
    "## get list of arxiv paper candidates\n",
    "\n",
    "We use the MPIA mitarbeiter list webpage from mpia.de to get author names\n",
    "We then get all new papers from Arxiv and match authors"
   ]
  },
  {
   "cell_type": "code",
   "execution_count": 4,
   "id": "2645e73a",
   "metadata": {
    "execution": {
     "iopub.execute_input": "2022-08-19T15:17:36.628390Z",
     "iopub.status.busy": "2022-08-19T15:17:36.627854Z",
     "iopub.status.idle": "2022-08-19T15:18:03.800557Z",
     "shell.execute_reply": "2022-08-19T15:18:03.799569Z"
    },
    "papermill": {
     "duration": 27.180884,
     "end_time": "2022-08-19T15:18:03.802752",
     "exception": false,
     "start_time": "2022-08-19T15:17:36.621868",
     "status": "completed"
    },
    "tags": []
   },
   "outputs": [
    {
     "name": "stdout",
     "output_type": "stream",
     "text": [
      "Arxiv has 50 new papers today\n",
      "          19 with possible author matches\n"
     ]
    }
   ],
   "source": [
    "# get list from MPIA website\n",
    "# it automatically filters identified non-scientists :func:`mpia.filter_non_scientists`\n",
    "mpia_authors = mpia.get_mpia_mitarbeiter_list()\n",
    "new_papers = get_new_papers()\n",
    "# add manual references\n",
    "add_paper_refs = []\n",
    "new_papers.extend([get_paper_from_identifier(k) for k in add_paper_refs])\n",
    "\n",
    "# select only papers with matching author names and highlight authors\n",
    "hl_list = [k[0] for k in mpia_authors]\n",
    "\n",
    "candidates = []\n",
    "for paperk in new_papers:\n",
    "    hl_authors = highlight_authors_in_list(paperk['authors'], hl_list)\n",
    "    matches = [(hl, orig) for hl, orig in zip(hl_authors, paperk['authors']) if 'mark' in hl]\n",
    "    paperk['authors'] = hl_authors\n",
    "    if matches:\n",
    "        candidates.append(paperk)\n",
    "print(\"\"\"Arxiv has {0:,d} new papers today\"\"\".format(len(new_papers)))        \n",
    "print(\"\"\"          {0:,d} with possible author matches\"\"\".format(len(candidates)))"
   ]
  },
  {
   "cell_type": "markdown",
   "id": "3543b34a",
   "metadata": {
    "papermill": {
     "duration": 0.006971,
     "end_time": "2022-08-19T15:18:03.815088",
     "exception": false,
     "start_time": "2022-08-19T15:18:03.808117",
     "status": "completed"
    },
    "tags": []
   },
   "source": [
    "# Parse sources and generate relevant outputs\n",
    "\n",
    "From the candidates, we do the following steps:\n",
    "* get their tarball from ArXiv (and extract data)\n",
    "* find the main .tex file: find one with \\documentclass{...} (sometimes it's non trivial)\n",
    "* Check affiliations with :func:`validation`, which uses :func:`mpia.affiliation_verifications`\n",
    "* If passing the affiliations: we parse the .tex source\n",
    "   * inject sub-documents into the main (flatten the main document)\n",
    "   * parse structure, extract information (title, abstract, authors, figures...)\n",
    "   * handles `\\graphicspath` if provided\n",
    "* Generate the .md document."
   ]
  },
  {
   "cell_type": "code",
   "execution_count": 5,
   "id": "9576b79e",
   "metadata": {
    "execution": {
     "iopub.execute_input": "2022-08-19T15:18:03.827028Z",
     "iopub.status.busy": "2022-08-19T15:18:03.826682Z",
     "iopub.status.idle": "2022-08-19T15:21:10.355314Z",
     "shell.execute_reply": "2022-08-19T15:21:10.354453Z"
    },
    "papermill": {
     "duration": 186.53887,
     "end_time": "2022-08-19T15:21:10.358882",
     "exception": false,
     "start_time": "2022-08-19T15:18:03.820012",
     "status": "completed"
    },
    "scrolled": false,
    "tags": []
   },
   "outputs": [
    {
     "data": {
      "application/json": {
       "ascii": false,
       "bar_format": null,
       "colour": null,
       "elapsed": 0.03014826774597168,
       "initial": 0,
       "n": 0,
       "ncols": null,
       "nrows": null,
       "postfix": null,
       "prefix": "",
       "rate": null,
       "total": 18,
       "unit": "it",
       "unit_divisor": 1000,
       "unit_scale": false
      },
      "application/vnd.jupyter.widget-view+json": {
       "model_id": "1cbabf2ecf9e42bfaf6a3ce7f074da60",
       "version_major": 2,
       "version_minor": 0
      },
      "text/plain": [
       "  0%|          | 0/18 [00:00<?, ?it/s]"
      ]
     },
     "metadata": {},
     "output_type": "display_data"
    },
    {
     "name": "stdout",
     "output_type": "stream",
     "text": [
      "Retrieving document from  https://arxiv.org/e-print/2208.08450\n"
     ]
    },
    {
     "name": "stdout",
     "output_type": "stream",
     "text": [
      "extracting tarball to tmp_2208.08450..."
     ]
    },
    {
     "name": "stdout",
     "output_type": "stream",
     "text": [
      " done.\n",
      "Retrieving document from  https://arxiv.org/e-print/2208.08473\n"
     ]
    },
    {
     "name": "stdout",
     "output_type": "stream",
     "text": [
      "extracting tarball to tmp_2208.08473..."
     ]
    },
    {
     "name": "stdout",
     "output_type": "stream",
     "text": [
      " done.\n",
      "Retrieving document from  https://arxiv.org/e-print/2208.08483\n"
     ]
    },
    {
     "name": "stdout",
     "output_type": "stream",
     "text": [
      "extracting tarball to tmp_2208.08483..."
     ]
    },
    {
     "name": "stdout",
     "output_type": "stream",
     "text": [
      " done.\n",
      "Retrieving document from  https://arxiv.org/e-print/2208.08511\n"
     ]
    },
    {
     "name": "stdout",
     "output_type": "stream",
     "text": [
      "extracting tarball to tmp_2208.08511..."
     ]
    },
    {
     "name": "stdout",
     "output_type": "stream",
     "text": [
      " done.\n",
      "Retrieving document from  https://arxiv.org/e-print/2208.08512\n"
     ]
    },
    {
     "name": "stderr",
     "output_type": "stream",
     "text": [
      "/opt/hostedtoolcache/Python/3.9.13/x64/lib/python3.9/site-packages/IPython/core/interactiveshell.py:3398: LatexWarning: Multiple tex files.\n",
      "\n",
      "  exec(code_obj, self.user_global_ns, self.user_ns)\n",
      "/opt/hostedtoolcache/Python/3.9.13/x64/lib/python3.9/site-packages/IPython/core/interactiveshell.py:3398: LatexWarning: Found documentclass in tmp_2208.08511/main.tex\n",
      "\n",
      "  exec(code_obj, self.user_global_ns, self.user_ns)\n",
      "/opt/hostedtoolcache/Python/3.9.13/x64/lib/python3.9/site-packages/arxiv_on_deck_2/latex.py:292: LatexWarning: Latex injecting: 'conclusions.tex' from 'tmp_2208.08511/conclusions.tex'\n",
      "  warnings.warn(LatexWarning(f\"Latex injecting: '{ext}' from '{subsource}'\"))\n",
      "/opt/hostedtoolcache/Python/3.9.13/x64/lib/python3.9/site-packages/arxiv_on_deck_2/latex.py:292: LatexWarning: Latex injecting: 'validation.tex' from 'tmp_2208.08511/validation.tex'\n",
      "  warnings.warn(LatexWarning(f\"Latex injecting: '{ext}' from '{subsource}'\"))\n",
      "/opt/hostedtoolcache/Python/3.9.13/x64/lib/python3.9/site-packages/arxiv_on_deck_2/latex.py:292: LatexWarning: Latex injecting: 'optimization.tex' from 'tmp_2208.08511/optimization.tex'\n",
      "  warnings.warn(LatexWarning(f\"Latex injecting: '{ext}' from '{subsource}'\"))\n",
      "/opt/hostedtoolcache/Python/3.9.13/x64/lib/python3.9/site-packages/arxiv_on_deck_2/latex.py:292: LatexWarning: Latex injecting: 'sv1_selection.tex' from 'tmp_2208.08511/sv1_selection.tex'\n",
      "  warnings.warn(LatexWarning(f\"Latex injecting: '{ext}' from '{subsource}'\"))\n",
      "/opt/hostedtoolcache/Python/3.9.13/x64/lib/python3.9/site-packages/arxiv_on_deck_2/latex.py:292: LatexWarning: Latex injecting: 'systematics.tex' from 'tmp_2208.08511/systematics.tex'\n",
      "  warnings.warn(LatexWarning(f\"Latex injecting: '{ext}' from '{subsource}'\"))\n",
      "/opt/hostedtoolcache/Python/3.9.13/x64/lib/python3.9/site-packages/arxiv_on_deck_2/latex.py:292: LatexWarning: Latex injecting: 'main_selection.tex' from 'tmp_2208.08511/main_selection.tex'\n",
      "  warnings.warn(LatexWarning(f\"Latex injecting: '{ext}' from '{subsource}'\"))\n",
      "/opt/hostedtoolcache/Python/3.9.13/x64/lib/python3.9/site-packages/arxiv_on_deck_2/latex.py:292: LatexWarning: Latex injecting: 'imaging.tex' from 'tmp_2208.08511/imaging.tex'\n",
      "  warnings.warn(LatexWarning(f\"Latex injecting: '{ext}' from '{subsource}'\"))\n",
      "/opt/hostedtoolcache/Python/3.9.13/x64/lib/python3.9/site-packages/arxiv_on_deck_2/latex.py:292: LatexWarning: Latex injecting: 'introduction.tex' from 'tmp_2208.08511/introduction.tex'\n",
      "  warnings.warn(LatexWarning(f\"Latex injecting: '{ext}' from '{subsource}'\"))\n"
     ]
    },
    {
     "name": "stdout",
     "output_type": "stream",
     "text": [
      "extracting tarball to tmp_2208.08512..."
     ]
    },
    {
     "name": "stdout",
     "output_type": "stream",
     "text": [
      " done.\n",
      "Retrieving document from  https://arxiv.org/e-print/2208.08513\n"
     ]
    },
    {
     "name": "stderr",
     "output_type": "stream",
     "text": [
      "/opt/hostedtoolcache/Python/3.9.13/x64/lib/python3.9/site-packages/IPython/core/interactiveshell.py:3398: LatexWarning: Multiple tex files.\n",
      "\n",
      "  exec(code_obj, self.user_global_ns, self.user_ns)\n",
      "/opt/hostedtoolcache/Python/3.9.13/x64/lib/python3.9/site-packages/IPython/core/interactiveshell.py:3398: LatexWarning: Found documentclass in tmp_2208.08512/main.tex\n",
      "\n",
      "  exec(code_obj, self.user_global_ns, self.user_ns)\n",
      "/opt/hostedtoolcache/Python/3.9.13/x64/lib/python3.9/site-packages/arxiv_on_deck_2/latex.py:292: LatexWarning: Latex injecting: 'sky' from 'tmp_2208.08512/sky.tex'\n",
      "  warnings.warn(LatexWarning(f\"Latex injecting: '{ext}' from '{subsource}'\"))\n",
      "/opt/hostedtoolcache/Python/3.9.13/x64/lib/python3.9/site-packages/arxiv_on_deck_2/latex.py:292: LatexWarning: Latex injecting: 'sv1' from 'tmp_2208.08512/sv1.tex'\n",
      "  warnings.warn(LatexWarning(f\"Latex injecting: '{ext}' from '{subsource}'\"))\n",
      "/opt/hostedtoolcache/Python/3.9.13/x64/lib/python3.9/site-packages/arxiv_on_deck_2/latex.py:292: LatexWarning: Latex injecting: 'acknowledgements' from 'tmp_2208.08512/acknowledgements.tex'\n",
      "  warnings.warn(LatexWarning(f\"Latex injecting: '{ext}' from '{subsource}'\"))\n",
      "/opt/hostedtoolcache/Python/3.9.13/x64/lib/python3.9/site-packages/arxiv_on_deck_2/latex.py:292: LatexWarning: Latex injecting: 'summary' from 'tmp_2208.08512/summary.tex'\n",
      "  warnings.warn(LatexWarning(f\"Latex injecting: '{ext}' from '{subsource}'\"))\n",
      "/opt/hostedtoolcache/Python/3.9.13/x64/lib/python3.9/site-packages/arxiv_on_deck_2/latex.py:292: LatexWarning: Latex injecting: 'svda' from 'tmp_2208.08512/svda.tex'\n",
      "  warnings.warn(LatexWarning(f\"Latex injecting: '{ext}' from '{subsource}'\"))\n",
      "/opt/hostedtoolcache/Python/3.9.13/x64/lib/python3.9/site-packages/arxiv_on_deck_2/latex.py:292: LatexWarning: Latex injecting: 'sv' from 'tmp_2208.08512/sv.tex'\n",
      "  warnings.warn(LatexWarning(f\"Latex injecting: '{ext}' from '{subsource}'\"))\n",
      "/opt/hostedtoolcache/Python/3.9.13/x64/lib/python3.9/site-packages/arxiv_on_deck_2/latex.py:292: LatexWarning: Latex injecting: 'design' from 'tmp_2208.08512/design.tex'\n",
      "  warnings.warn(LatexWarning(f\"Latex injecting: '{ext}' from '{subsource}'\"))\n",
      "/opt/hostedtoolcache/Python/3.9.13/x64/lib/python3.9/site-packages/arxiv_on_deck_2/latex.py:292: LatexWarning: Latex injecting: 'ts' from 'tmp_2208.08512/ts.tex'\n",
      "  warnings.warn(LatexWarning(f\"Latex injecting: '{ext}' from '{subsource}'\"))\n",
      "/opt/hostedtoolcache/Python/3.9.13/x64/lib/python3.9/site-packages/arxiv_on_deck_2/latex.py:292: LatexWarning: Latex injecting: 'data' from 'tmp_2208.08512/data.tex'\n",
      "  warnings.warn(LatexWarning(f\"Latex injecting: '{ext}' from '{subsource}'\"))\n",
      "/opt/hostedtoolcache/Python/3.9.13/x64/lib/python3.9/site-packages/arxiv_on_deck_2/latex.py:292: LatexWarning: Latex injecting: 'intro' from 'tmp_2208.08512/intro.tex'\n",
      "  warnings.warn(LatexWarning(f\"Latex injecting: '{ext}' from '{subsource}'\"))\n"
     ]
    },
    {
     "name": "stdout",
     "output_type": "stream",
     "text": [
      "extracting tarball to tmp_2208.08513..."
     ]
    },
    {
     "name": "stdout",
     "output_type": "stream",
     "text": [
      " done.\n",
      "Retrieving document from  https://arxiv.org/e-print/2208.08516\n"
     ]
    },
    {
     "name": "stderr",
     "output_type": "stream",
     "text": [
      "/opt/hostedtoolcache/Python/3.9.13/x64/lib/python3.9/site-packages/IPython/core/interactiveshell.py:3398: LatexWarning: Multiple tex files.\n",
      "\n",
      "  exec(code_obj, self.user_global_ns, self.user_ns)\n",
      "/opt/hostedtoolcache/Python/3.9.13/x64/lib/python3.9/site-packages/IPython/core/interactiveshell.py:3398: LatexWarning: Found documentclass in tmp_2208.08513/ms.tex\n",
      "\n",
      "  exec(code_obj, self.user_global_ns, self.user_ns)\n",
      "/opt/hostedtoolcache/Python/3.9.13/x64/lib/python3.9/site-packages/arxiv_on_deck_2/latex.py:292: LatexWarning: Latex injecting: 'DESI-2021-0104_author_list.tex' from 'tmp_2208.08513/DESI-2021-0104_author_list.tex'\n",
      "  warnings.warn(LatexWarning(f\"Latex injecting: '{ext}' from '{subsource}'\"))\n"
     ]
    },
    {
     "name": "stdout",
     "output_type": "stream",
     "text": [
      "extracting tarball to tmp_2208.08516..."
     ]
    },
    {
     "name": "stdout",
     "output_type": "stream",
     "text": [
      " done.\n",
      "Retrieving document from  https://arxiv.org/e-print/2208.08517\n"
     ]
    },
    {
     "name": "stdout",
     "output_type": "stream",
     "text": [
      "extracting tarball to tmp_2208.08517..."
     ]
    },
    {
     "name": "stdout",
     "output_type": "stream",
     "text": [
      " done.\n",
      "Retrieving document from  https://arxiv.org/e-print/2208.08518\n"
     ]
    },
    {
     "name": "stdout",
     "output_type": "stream",
     "text": [
      "extracting tarball to tmp_2208.08518..."
     ]
    },
    {
     "name": "stdout",
     "output_type": "stream",
     "text": [
      " done.\n",
      "Retrieving document from  https://arxiv.org/e-print/2208.08520\n"
     ]
    },
    {
     "name": "stderr",
     "output_type": "stream",
     "text": [
      "/opt/hostedtoolcache/Python/3.9.13/x64/lib/python3.9/site-packages/IPython/core/interactiveshell.py:3398: LatexWarning: Multiple tex files.\n",
      "\n",
      "  exec(code_obj, self.user_global_ns, self.user_ns)\n",
      "/opt/hostedtoolcache/Python/3.9.13/x64/lib/python3.9/site-packages/IPython/core/interactiveshell.py:3398: LatexWarning: Found documentclass in tmp_2208.08518/desiTS.tex\n",
      "\n",
      "  exec(code_obj, self.user_global_ns, self.user_ns)\n",
      "/opt/hostedtoolcache/Python/3.9.13/x64/lib/python3.9/site-packages/arxiv_on_deck_2/latex.py:292: LatexWarning: Latex injecting: 'tables/pixweight' from 'tmp_2208.08518/tables/pixweight.tex'\n",
      "  warnings.warn(LatexWarning(f\"Latex injecting: '{ext}' from '{subsource}'\"))\n",
      "/opt/hostedtoolcache/Python/3.9.13/x64/lib/python3.9/site-packages/arxiv_on_deck_2/latex.py:292: LatexWarning: Latex injecting: 'tables/gaiastdbright' from 'tmp_2208.08518/tables/gaiastdbright.tex'\n",
      "  warnings.warn(LatexWarning(f\"Latex injecting: '{ext}' from '{subsource}'\"))\n",
      "/opt/hostedtoolcache/Python/3.9.13/x64/lib/python3.9/site-packages/arxiv_on_deck_2/latex.py:292: LatexWarning: Latex injecting: 'tables/stdbright' from 'tmp_2208.08518/tables/stdbright.tex'\n",
      "  warnings.warn(LatexWarning(f\"Latex injecting: '{ext}' from '{subsource}'\"))\n",
      "/opt/hostedtoolcache/Python/3.9.13/x64/lib/python3.9/site-packages/arxiv_on_deck_2/latex.py:292: LatexWarning: Latex injecting: 'tables/edr3' from 'tmp_2208.08518/tables/edr3.tex'\n",
      "  warnings.warn(LatexWarning(f\"Latex injecting: '{ext}' from '{subsource}'\"))\n",
      "/opt/hostedtoolcache/Python/3.9.13/x64/lib/python3.9/site-packages/arxiv_on_deck_2/latex.py:292: LatexWarning: Latex injecting: 'tables/targdens' from 'tmp_2208.08518/tables/targdens.tex'\n",
      "  warnings.warn(LatexWarning(f\"Latex injecting: '{ext}' from '{subsource}'\"))\n",
      "/opt/hostedtoolcache/Python/3.9.13/x64/lib/python3.9/site-packages/arxiv_on_deck_2/latex.py:292: LatexWarning: Latex injecting: 'tables/TScolumns' from 'tmp_2208.08518/tables/TScolumns.tex'\n",
      "  warnings.warn(LatexWarning(f\"Latex injecting: '{ext}' from '{subsource}'\"))\n",
      "/opt/hostedtoolcache/Python/3.9.13/x64/lib/python3.9/site-packages/arxiv_on_deck_2/latex.py:292: LatexWarning: Latex injecting: 'tables/TSpapers' from 'tmp_2208.08518/tables/TSpapers.tex'\n",
      "  warnings.warn(LatexWarning(f\"Latex injecting: '{ext}' from '{subsource}'\"))\n",
      "/opt/hostedtoolcache/Python/3.9.13/x64/lib/python3.9/site-packages/arxiv_on_deck_2/latex.py:292: LatexWarning: Latex injecting: 'tables/bitoverview' from 'tmp_2208.08518/tables/bitoverview.tex'\n",
      "  warnings.warn(LatexWarning(f\"Latex injecting: '{ext}' from '{subsource}'\"))\n"
     ]
    },
    {
     "name": "stdout",
     "output_type": "stream",
     "text": [
      "extracting tarball to tmp_2208.08520..."
     ]
    },
    {
     "name": "stdout",
     "output_type": "stream",
     "text": [
      " done.\n",
      "Retrieving document from  https://arxiv.org/e-print/2208.08559\n"
     ]
    },
    {
     "name": "stdout",
     "output_type": "stream",
     "text": [
      "extracting tarball to tmp_2208.08559..."
     ]
    },
    {
     "name": "stdout",
     "output_type": "stream",
     "text": [
      " done.\n",
      "Retrieving document from  https://arxiv.org/e-print/2208.08637\n"
     ]
    },
    {
     "name": "stdout",
     "output_type": "stream",
     "text": [
      "extracting tarball to tmp_2208.08637..."
     ]
    },
    {
     "name": "stdout",
     "output_type": "stream",
     "text": [
      " done.\n",
      "Retrieving document from  https://arxiv.org/e-print/2208.08694\n"
     ]
    },
    {
     "name": "stderr",
     "output_type": "stream",
     "text": [
      "/opt/hostedtoolcache/Python/3.9.13/x64/lib/python3.9/site-packages/IPython/core/interactiveshell.py:3398: LatexWarning: Multiple tex files.\n",
      "\n",
      "  exec(code_obj, self.user_global_ns, self.user_ns)\n",
      "/opt/hostedtoolcache/Python/3.9.13/x64/lib/python3.9/site-packages/IPython/core/interactiveshell.py:3398: LatexWarning: Found documentclass in tmp_2208.08637/natbib.tex\n",
      "\n",
      "  exec(code_obj, self.user_global_ns, self.user_ns)\n"
     ]
    },
    {
     "name": "stdout",
     "output_type": "stream",
     "text": [
      "extracting tarball to tmp_2208.08694... done.\n",
      "Retrieving document from  https://arxiv.org/e-print/2208.08712\n"
     ]
    },
    {
     "name": "stdout",
     "output_type": "stream",
     "text": [
      "extracting tarball to tmp_2208.08712..."
     ]
    },
    {
     "name": "stdout",
     "output_type": "stream",
     "text": [
      " done.\n",
      "Retrieving document from  https://arxiv.org/e-print/2208.08849\n"
     ]
    },
    {
     "name": "stdout",
     "output_type": "stream",
     "text": [
      "extracting tarball to tmp_2208.08849..."
     ]
    },
    {
     "name": "stdout",
     "output_type": "stream",
     "text": [
      " done.\n",
      "Retrieving document from  https://arxiv.org/e-print/2208.08872\n"
     ]
    },
    {
     "name": "stdout",
     "output_type": "stream",
     "text": [
      "extracting tarball to tmp_2208.08872..."
     ]
    },
    {
     "name": "stdout",
     "output_type": "stream",
     "text": [
      " done.\n"
     ]
    },
    {
     "name": "stdout",
     "output_type": "stream",
     "text": [
      "Retrieving document from  https://arxiv.org/e-print/2208.08874\n"
     ]
    },
    {
     "name": "stdout",
     "output_type": "stream",
     "text": [
      "extracting tarball to tmp_2208.08874..."
     ]
    },
    {
     "name": "stdout",
     "output_type": "stream",
     "text": [
      " done.\n"
     ]
    },
    {
     "name": "stderr",
     "output_type": "stream",
     "text": [
      "/opt/hostedtoolcache/Python/3.9.13/x64/lib/python3.9/site-packages/arxiv_on_deck_2/latex.py:118: LatexWarning: attempting recovering figure pictures/no_lithium_line_Li_comparison_GIRAFFE.png\n",
      "  warnings.warn(LatexWarning(f'attempting recovering figure {image}'))\n",
      "/tmp/ipykernel_2208/1244451042.py:32: LatexWarning: 2208.08874 did not run properly\n",
      "Could not find figure pictures/no_lithium_line_Li_comparison_GIRAFFE.png\n",
      "  warnings.warn(latex.LatexWarning(f\"{paper_id:s} did not run properly\\n\" +\n"
     ]
    },
    {
     "name": "stdout",
     "output_type": "stream",
     "text": [
      "Retrieving document from  https://arxiv.org/e-print/2208.08908\n"
     ]
    },
    {
     "name": "stdout",
     "output_type": "stream",
     "text": [
      "extracting tarball to tmp_2208.08908..."
     ]
    },
    {
     "name": "stdout",
     "output_type": "stream",
     "text": [
      " done.\n"
     ]
    }
   ],
   "source": [
    "documents = []\n",
    "failed = []\n",
    "for paper in tqdm(candidates[:-1]):\n",
    "    paper_id = paper['identifier'].lower().replace('arxiv:', '')\n",
    "    \n",
    "    folder = f'tmp_{paper_id}'\n",
    "\n",
    "    try:\n",
    "        if not os.path.isdir(folder):\n",
    "            folder = retrieve_document_source(f\"{paper_id}\", f'tmp_{paper_id}')\n",
    "        \n",
    "        try:\n",
    "            doc = latex.LatexDocument(folder, validation=validation)    \n",
    "        except AffiliationError as affilerror:\n",
    "            msg = f\"ArXiv:{paper_id:s} is not an MPIA paper... \" + str(affilerror)\n",
    "            failed.append((paper, \"affiliation error: \" + str(affilerror) ))\n",
    "            continue\n",
    "        \n",
    "        # Hack because sometimes author parsing does not work well\n",
    "        if (len(doc.authors) != len(paper['authors'])):\n",
    "            doc._authors = paper['authors']\n",
    "        if (doc.abstract) in (None, ''):\n",
    "            doc._abstract = paper['abstract']\n",
    "            \n",
    "        doc.comment = get_markdown_badge(paper_id) + \" _\" + paper['comments'] + \"_\"\n",
    "        doc.highlight_authors_in_list(hl_list)\n",
    "\n",
    "        full_md = doc.generate_markdown_text()\n",
    "        \n",
    "        documents.append((paper_id, full_md))\n",
    "    except Exception as e:\n",
    "        warnings.warn(latex.LatexWarning(f\"{paper_id:s} did not run properly\\n\" +\n",
    "                                         str(e)\n",
    "                                        ))\n",
    "        failed.append((paper, \"latex error \" + str(e)))"
   ]
  },
  {
   "cell_type": "markdown",
   "id": "2505a25c",
   "metadata": {
    "papermill": {
     "duration": 0.007862,
     "end_time": "2022-08-19T15:21:10.374923",
     "exception": false,
     "start_time": "2022-08-19T15:21:10.367061",
     "status": "completed"
    },
    "tags": []
   },
   "source": [
    "### Export the logs\n",
    "\n",
    "Throughout, we also keep track of the logs per paper. see `logs-{today date}.md` "
   ]
  },
  {
   "cell_type": "code",
   "execution_count": 6,
   "id": "d733828a",
   "metadata": {
    "execution": {
     "iopub.execute_input": "2022-08-19T15:21:10.393024Z",
     "iopub.status.busy": "2022-08-19T15:21:10.392506Z",
     "iopub.status.idle": "2022-08-19T15:21:10.432716Z",
     "shell.execute_reply": "2022-08-19T15:21:10.431761Z"
    },
    "papermill": {
     "duration": 0.052213,
     "end_time": "2022-08-19T15:21:10.434921",
     "exception": false,
     "start_time": "2022-08-19T15:21:10.382708",
     "status": "completed"
    },
    "scrolled": false,
    "tags": []
   },
   "outputs": [
    {
     "data": {
      "text/markdown": [
       "## Successful papers"
      ],
      "text/plain": [
       "<IPython.core.display.Markdown object>"
      ]
     },
     "metadata": {},
     "output_type": "display_data"
    },
    {
     "data": {
      "text/markdown": [
       "\n",
       "|||\n",
       "|---:|:---|\n",
       "| [![arXiv](https://img.shields.io/badge/arXiv-arXiv:2208.08872-b31b1b.svg)](https://arxiv.org/abs/arXiv:2208.08872) | **The Gaia-ESO Survey: Chemical evolution of Mg and Al in the Milky Way  with Machine-Learning**  |\n",
       "|| M. Ambrosch, et al. -- incl., <mark>M. Bergemann</mark> |\n",
       "|*Appeared on*| *2022-08-19*|\n",
       "|*Comments*| *Submitted to A&A*|\n",
       "|**Abstract**| We aim to prepare the machine-learning ground for the next generation of spectroscopic surveys, such as 4MOST and WEAVE. Our goal is to show that convolutional neural networks can predict accurate stellar labels from relevant spectral features in a physically meaningful way. We built a neural network and trained it on GIRAFFE spectra with associated stellar labels from the sixth internal Gaia-ESO data release. Our neural network predicts the atmospheric parameters Teff and log(g) as well as the chemical abundances [Mg/Fe], [Al/Fe], and [Fe/H] for 30115 stellar spectra. The scatter of predictions from eight slightly different network models shows a high internal precision of the network results: 24 K for Teff, 0.03 for log(g), 0.02 dex for [Mg/Fe], 0.03 dex for [Al/Fe], and 0.02 dex for [Fe/H]. The network gradients reveal that the network is inferring the labels in a physically meaningful way from spectral features. Validation with benchmark stars and several scientific applications confirm that our network predictions are accurate for individual stars and recover the properties of different stellar populations in the Milky Way galaxy. Such a study provides very good insights into the application of machine-learning for the spectral analysis of large-scale spectroscopic surveys, such as WEAVE and 4MIDABLE-LR and -HR (4MOST Milky Way disk and bulge low- and high-resolution). The community will have to put a substantial effort into building proactive training sets for machine-learning methods to minimize the possible systematics. |"
      ],
      "text/plain": [
       "[arXiv:2208.08872] The Gaia-ESO Survey: Chemical evolution of Mg and Al in the Milky Way  with Machine-Learning\n",
       "\tM. Ambrosch, et al. -- incl., <mark>M. Bergemann</mark>"
      ]
     },
     "metadata": {},
     "output_type": "display_data"
    },
    {
     "data": {
      "text/markdown": [
       "## Failed papers"
      ],
      "text/plain": [
       "<IPython.core.display.Markdown object>"
      ]
     },
     "metadata": {},
     "output_type": "display_data"
    },
    {
     "data": {
      "text/markdown": [
       "\n",
       "|||\n",
       "|---:|:---|\n",
       "| [![arXiv](https://img.shields.io/badge/arXiv-arXiv:2208.08450-b31b1b.svg)](https://arxiv.org/abs/arXiv:2208.08450) | **Long-term photometric monitoring and spectroscopy of the white dwarf  pulsar AR Scorpii**  |\n",
       "|| Ingrid Pelisoli, et al. -- incl., <mark>A. J. Brown</mark>, <mark>M. J. Green</mark> |\n",
       "|*Appeared on*| *2022-08-19*|\n",
       "|*Comments*| *15 pages, 18 figures. Accepted for publication in MNRAS*|\n",
       "|**Abstract**| AR Scorpii (AR Sco) is the only radio-pulsing white dwarf known to date. It shows a broad-band spectrum extending from radio to X-rays whose luminosity cannot be explained by thermal emission from the system components alone, and is instead explained through synchrotron emission powered by the spin-down of the white dwarf. We analysed NTT/ULTRACAM, TNT/ULTRASPEC, and GTC/HiPERCAM high-speed photometric data for AR Sco spanning almost seven years and obtained a precise estimate of the spin frequency derivative, now confirmed with 50-sigma significance. Using archival photometry, we show that the spin down rate of P/Pdot = 5.6e6 years has remained constant since 2005. As well as employing the method of pulse-arrival time fitting used for previous estimates, we also found a consistent value via traditional Fourier analysis for the first time. In addition, we obtained optical time-resolved spectra with WHT/ISIS and VLT/X-shooter. We performed modulated Doppler tomography for the first time for the system, finding evidence of emission modulated on the orbital period. We have also estimated the projected rotational velocity of the M-dwarf as a function of orbital period and found that it must be close to Roche lobe filling. Our findings provide further constraints for modelling this unique system. |\n",
       "|<p style=\"color:green\"> **ERROR** </p>| <p style=\"color:green\">affiliation error: mpia.affiliation_verifications: 'Heidelberg' keyword not found.</p> |"
      ],
      "text/plain": [
       "<IPython.core.display.Markdown object>"
      ]
     },
     "metadata": {},
     "output_type": "display_data"
    },
    {
     "data": {
      "text/markdown": [
       "\n",
       "|||\n",
       "|---:|:---|\n",
       "| [![arXiv](https://img.shields.io/badge/arXiv-arXiv:2208.08473-b31b1b.svg)](https://arxiv.org/abs/arXiv:2208.08473) | **The Identification of a Dusty Grand Design Spiral Galaxy at $z=3.06$  with JWST and ALMA**  |\n",
       "|| Yunjing Wu, et al. -- incl., <mark>Shiwu Zhang</mark> |\n",
       "|*Appeared on*| *2022-08-19*|\n",
       "|*Comments*| *To be submitted to ApJL. 10 pages, four figures in the main text, and two figures in the appendix. Comments are very welcome*|\n",
       "|**Abstract**| Spiral arms serve crucial purposes in star formation and galaxy evolution. In this paper, we report the identification of \"A2744-DSG-$z3$\", a dusty, grand-design-like spiral galaxy at $z=3.059$ using the James Webb Space Telescope (JWST) NIRISS imaging and grism spectroscopy. A2744-DSG-$z3$ was discovered as a gravitationally lensed sub-millimeter galaxy with ALMA. This is the most distant grand-design stellar spiral structure seen thus far, consistent with cosmological simulations which suggest $z\\approx3$ as the epoch when grand-design spirals emerge. Thanks to the gravitational lensing and excellent spatial resolution of JWST, the spiral arms are resolved with a spatial resolution of $\\approx290$\\,pc. Based on SED fitting, after correcting for lensing, the spiral galaxy has a de-lensed star formation rate of $85\\pm30 \\ M_{\\odot}$ yr$^{-1}$, and a stellar mass of $\\approx10^{10.6}\\ M_{\\odot}$, indicating that A2744-DSG-$z3$ is a main-sequence galaxy. After fitting the spiral arms, we find a stellar effective radii ($R_{e, \\rm{star}}$) is $7.3 \\pm 0.8$ kpc. Comparing to ALMA, we find that the effective radii ratio between dust and stars is $\\approx0.2$, similar to that of massive SFGs at $z\\sim2$, indicating a compact dusty core in A2744-DSG-$z3$. Moreover, this galaxy appears to be living in a group environment: including A2744-DSG-$z3$, at least three galaxies at $z=3.05 - 3.06$ spectroscopically confirmed by JWST/NIRISS and ALMA, and residing within a lensing-corrected, projected scale of $\\approx 70$ kpc. This, along with the asymmetric brightness profile, further suggests that the spiral arms may be triggered by minor merger events at $z\\gtrsim3$. |\n",
       "|<p style=\"color:green\"> **ERROR** </p>| <p style=\"color:green\">affiliation error: mpia.affiliation_verifications: 'Heidelberg' keyword not found.</p> |"
      ],
      "text/plain": [
       "<IPython.core.display.Markdown object>"
      ]
     },
     "metadata": {},
     "output_type": "display_data"
    },
    {
     "data": {
      "text/markdown": [
       "\n",
       "|||\n",
       "|---:|:---|\n",
       "| [![arXiv](https://img.shields.io/badge/arXiv-arXiv:2208.08483-b31b1b.svg)](https://arxiv.org/abs/arXiv:2208.08483) | **RELICS: Strong Lens Model of SMACSJ0723.3-7327**  |\n",
       "|| Keren Sharon, et al. -- incl., <mark>Guillaume Mahler</mark> |\n",
       "|*Appeared on*| *2022-08-19*|\n",
       "|*Comments*| *4 pages, 1 figure, 1 table. Submitted to ApJS*|\n",
       "|**Abstract**| We present the details of a strong lens model of SMACS J0723.3-7327, which was made public as part of the data and high level science products (HLSP) release of the RELICS HST treasury program (Reionization Lensing Cluster Survey; GO-14096, PI: Coe). The model products were made available on the Mikulski Archive for Space Telescopes (MAST) via 10.17909/T9SP45 in 2017. Here, we provide the list of constraints that were used in the HST-based RELICS lens model, as well as other information related to our modeling choices, which were not published with the data and HLSP release. This model was computed with Lenstool, used multiple images of 8 sources, with no spectroscopic redshifts. The image plane RMS was 0\".58. |\n",
       "|<p style=\"color:green\"> **ERROR** </p>| <p style=\"color:green\">affiliation error: mpia.affiliation_verifications: 'Heidelberg' keyword not found.</p> |"
      ],
      "text/plain": [
       "<IPython.core.display.Markdown object>"
      ]
     },
     "metadata": {},
     "output_type": "display_data"
    },
    {
     "data": {
      "text/markdown": [
       "\n",
       "|||\n",
       "|---:|:---|\n",
       "| [![arXiv](https://img.shields.io/badge/arXiv-arXiv:2208.08511-b31b1b.svg)](https://arxiv.org/abs/arXiv:2208.08511) | **Target Selection and Validation of DESI Quasars**  |\n",
       "|| Edmond Chaussidon, et al. -- incl., <mark>Hiram K. Herrera-Alcantar</mark> |\n",
       "|*Appeared on*| *2022-08-19*|\n",
       "|*Comments*| *21 pages, 21 figures, submitted to AJ, one of a suite of 8 papers detailing targeting for DESI*|\n",
       "|**Abstract**| The Dark Energy Spectroscopic Instrument (DESI) survey will measure large-scale structures using quasars as direct tracers of dark matter in the redshift range 0.9<z<2.1 and using Ly-alpha forests in quasar spectra at z>2.1. We present several methods to select candidate quasars for DESI, using input photometric imaging in three optical bands (g, r, z) from the DESI Legacy Imaging Surveys and two infrared bands (W1, W2) from the Wide-field Infrared Explorer (WISE). These methods were extensively tested during the Survey Validation of DESI. In this paper, we report on the results obtained with the different methods and present the selection we optimized for the DESI main survey. The final quasar target selection is based on a Random Forest algorithm and selects quasars in the magnitude range 16.5<r<23. Visual selection of ultra-deep observations indicates that the main selection consists of 71% quasars, 16% galaxies, 6% stars and 7% inconclusive spectra. Using the spectra based on this selection, we build an automated quasar catalog that achieves a >99% purity for a nominal effective exposure time of ~1000s. With a 310 per sq. deg. target density, the main selection allows DESI to select more than 200 QSOs per sq. deg. (including 60 quasars with z>2.1), exceeding the project requirements by 20%. The redshift distribution of the selected quasars is in excellent agreement with quasar luminosity function predictions. |\n",
       "|<p style=\"color:green\"> **ERROR** </p>| <p style=\"color:green\">affiliation error: mpia.affiliation_verifications: 'Heidelberg' keyword not found.</p> |"
      ],
      "text/plain": [
       "<IPython.core.display.Markdown object>"
      ]
     },
     "metadata": {},
     "output_type": "display_data"
    },
    {
     "data": {
      "text/markdown": [
       "\n",
       "|||\n",
       "|---:|:---|\n",
       "| [![arXiv](https://img.shields.io/badge/arXiv-arXiv:2208.08512-b31b1b.svg)](https://arxiv.org/abs/arXiv:2208.08512) | **DESI Bright Galaxy Survey: Final Target Selection, Design, and  Validation**  |\n",
       "|| ChangHoon Hahn, et al. -- incl., <mark>Alex Smith</mark> |\n",
       "|*Appeared on*| *2022-08-19*|\n",
       "|*Comments*| *AJ, submitted, 34 pages, 22 figures, one of a suite of 8 papers detailing targeting for DESI*|\n",
       "|**Abstract**| Over the next five years, the Dark Energy Spectroscopic Instrument (DESI) will use 10 spectrographs with 5000 fibers on the 4m Mayall Telescope at Kitt Peak National Observatory to conduct the first Stage-IV dark energy galaxy survey. At $z < 0.6$, the DESI Bright Galaxy Survey (BGS) will produce the most detailed map of the Universe during the dark energy dominated epoch with redshifts of >10 million galaxies over 14,000 deg$^2$. In this work, we present and validate the final BGS target selection and survey design. From the Legacy Surveys, BGS will target a $r < 19.5$ magnitude-limited sample (BGS Bright); a fainter $19.5 < r < 20.175$ sample, color-selected to have high redshift efficiency (BGS Faint); and a smaller low-z quasar sample. BGS will observe these targets using exposure times, scaled to achieve uniform completeness, and visit each point on the footprint three times. We use observations from the Survey Validation programs conducted prior to the main survey along with realistic simulations to show that BGS can complete its strategy and make optimal use of `bright' time. We demonstrate that BGS targets have stellar contamination <1% and that their densities do not depend strongly on imaging properties. We also confirm that BGS Bright will achieve >80% fiber assignment efficiency. Finally, we show that BGS Bright and Faint will achieve >95% redshift success rates with no significant dependence on observing conditions. BGS meets the requirements for an extensive range of scientific applications. BGS will yield the most precise Baryon Acoustic Oscillations and Redshift-Space Distortions measurements at $z < 0.4$. It also presents opportunities to exploit new methods that require highly complete and dense galaxy samples (e.g. N-point statistics, multi-tracers). BGS further provides a powerful tool to study galaxy populations and the relations between galaxies and dark matter. |\n",
       "|<p style=\"color:green\"> **ERROR** </p>| <p style=\"color:green\">affiliation error: mpia.affiliation_verifications: 'Heidelberg' keyword not found.</p> |"
      ],
      "text/plain": [
       "<IPython.core.display.Markdown object>"
      ]
     },
     "metadata": {},
     "output_type": "display_data"
    },
    {
     "data": {
      "text/markdown": [
       "\n",
       "|||\n",
       "|---:|:---|\n",
       "| [![arXiv](https://img.shields.io/badge/arXiv-arXiv:2208.08513-b31b1b.svg)](https://arxiv.org/abs/arXiv:2208.08513) | **Target Selection and Validation of DESI Emission Line Galaxies**  |\n",
       "|| A. Raichoor, et al. -- incl., <mark>A. de Mattia</mark> |\n",
       "|*Appeared on*| *2022-08-19*|\n",
       "|*Comments*| *AJ, submitted, 30 pages, 20 figures, 5 tables, one of a suite of 8 papers detailing targeting for DESI*|\n",
       "|**Abstract**| The Dark Energy Spectroscopic Instrument (DESI) will precisely constrain cosmic expansion and the growth of structure by collecting $\\sim$40 million extra-galactic redshifts across $\\sim$80\\% of cosmic history and one third of the sky. The Emission Line Galaxy (ELG) sample, which will comprise about one-third of all DESI tracers, will be used to probe the Universe over the $0.6 < z < 1.6$ range, which includes the $1.1<z<1.6$ range, expected to provide the tightest constraints. We present the target selection of the DESI SV1 Survey Validation and Main Survey ELG samples, which relies on the Legacy Surveys imaging. The Main ELG selection consists of a $g$-band magnitude cut and a $(g-r)$ vs.\\ $(r-z)$ color box, while the SV1 selection explores extensions of the Main selection boundaries. The Main ELG sample is composed of two disjoint subsamples, which have target densities of about 1940 deg$^{-2}$ and 460 deg$^{-2}$, respectively. We first characterize their photometric properties and density variations across the footprint. Then we analyze the DESI spectroscopic data obtained since December 2020 during the Survey Validation and the Main Survey up to December 2021. We establish a preliminary criterion to select reliable redshifts, based on the \\oii~flux measurement, and assess its performance. Using that criterion, we are able to present the spectroscopic efficiency of the Main ELG selection, along with its redshift distribution. We thus demonstrate that the the main selection with higher target density sample should provide more than 400 deg$^{-2}$ reliable redshifts in both the $0.6<z<1.1$ and the $1.1<z<1.6$ ranges. |\n",
       "|<p style=\"color:green\"> **ERROR** </p>| <p style=\"color:green\">affiliation error: mpia.affiliation_verifications: 'Heidelberg' keyword not found.</p> |"
      ],
      "text/plain": [
       "<IPython.core.display.Markdown object>"
      ]
     },
     "metadata": {},
     "output_type": "display_data"
    },
    {
     "data": {
      "text/markdown": [
       "\n",
       "|||\n",
       "|---:|:---|\n",
       "| [![arXiv](https://img.shields.io/badge/arXiv-arXiv:2208.08516-b31b1b.svg)](https://arxiv.org/abs/arXiv:2208.08516) | **The DESI Survey Validation: Results from Visual Inspection of Bright  Galaxies, Luminous Red Galaxies, and Emission Line Galaxies**  |\n",
       "|| Ting-Wen Lan, et al. -- incl., <mark>Y. Zhang</mark> |\n",
       "|*Appeared on*| *2022-08-19*|\n",
       "|*Comments*| *AJ, submitted, 22 pages, 14 figures, 3 tables, one of a suite of 8 papers detailing visual inspection of DESI galaxies*|\n",
       "|**Abstract**| The Dark Energy Spectroscopic Instrument (DESI) Survey has obtained a set of spectroscopic measurements of galaxies for validating the final survey design and target selections. To assist these tasks, we visually inspect (VI) DESI spectra of approximately 2,500 bright galaxies, 3,500 luminous red galaxies, and 10,000 emission line galaxies, to obtain robust redshift identifications. We then utilize the VI redshift information to characterize the performance of the DESI operation. Based on the VI catalogs, our results show that the final survey design yields samples of bright galaxies, luminous red galaxies, and emission line galaxies with purity greater than $99\\%$. Moreover, we demonstrate that the precision of the redshift measurements is approximately 10 km/s for bright galaxies and emission line galaxies and approximately 40 km/s for luminous red galaxies. The average redshift accuracy is within 10 km/s for the three types of galaxies. The VI process also helps to improve the quality of the DESI data by identifying spurious spectral features introduced by the pipeline. Finally, we show examples of unexpected real astronomical objects, such as Lyman $\\alpha$ emitters and strong lensing candidates, identified by VI. These results demonstrate the importance and utility of visually inspecting data from incoming and upcoming surveys, especially during their early operation phases. |\n",
       "|<p style=\"color:green\"> **ERROR** </p>| <p style=\"color:green\">affiliation error: mpia.affiliation_verifications: 'Heidelberg' keyword not found.</p> |"
      ],
      "text/plain": [
       "<IPython.core.display.Markdown object>"
      ]
     },
     "metadata": {},
     "output_type": "display_data"
    },
    {
     "data": {
      "text/markdown": [
       "\n",
       "|||\n",
       "|---:|:---|\n",
       "| [![arXiv](https://img.shields.io/badge/arXiv-arXiv:2208.08517-b31b1b.svg)](https://arxiv.org/abs/arXiv:2208.08517) | **The DESI Survey Validation: Results from Visual Inspection of the Quasar  Survey Spectra**  |\n",
       "|| David M. Alexander, et al. -- incl., <mark>Hiram K. Herrera-Alcantar</mark>, <mark>P. Montero Camacho</mark> |\n",
       "|*Appeared on*| *2022-08-19*|\n",
       "|*Comments*| *AJ, submitted, 26 pages, 15 figures, 9 tables, one of a suite of 8 papers detailing targeting for DESI*|\n",
       "|**Abstract**| A key component of the Dark Energy Spectroscopic Instrument (DESI) survey validation (SV) is a detailed visual inspection (VI) of the optical spectroscopic data to quantify key survey metrics. In this paper we present results from VI of the quasar survey using deep coadded SV spectra. We show that the majority (~70%) of the main-survey targets are spectroscopically confirmed as quasars, with ~16% galaxies, ~6% stars, and ~8% low-quality spectra lacking reliable features. A non-negligible fraction of the quasars are misidentified by the standard DESI spectroscopic pipeline but we show that the majority can be recovered using post-pipeline \"afterburner\" quasar-identification approaches. We combine these \"afterburners\" with our standard pipeline to create a modified pipeline to improve the overall quasar completeness. At the depth of the main DESI survey both pipelines achieve a good-redshift purity (reliable redshifts measured within 3000 km/s) of ~99%; however, the modified pipeline recovers ~94% of the visually inspected quasars, as compared to just ~86% from the standard pipeline. We demonstrate that both pipelines achieve an overall redshift precision and accuracy of ~100 km/s and ~70 km/s, respectively. We constructed composite spectra to investigate why some quasars are missed by the standard spectroscopic pipeline and find that they are more host-galaxy dominated and/or dust reddened than the standard-pipeline quasars. We also show example spectra to demonstrate the overall diversity of the DESI quasar sample and provide strong-lensing candidates where two targets contribute to a single DESI spectrum. |\n",
       "|<p style=\"color:green\"> **ERROR** </p>| <p style=\"color:green\">affiliation error: mpia.affiliation_verifications: 'Heidelberg' keyword not found.</p> |"
      ],
      "text/plain": [
       "<IPython.core.display.Markdown object>"
      ]
     },
     "metadata": {},
     "output_type": "display_data"
    },
    {
     "data": {
      "text/markdown": [
       "\n",
       "|||\n",
       "|---:|:---|\n",
       "| [![arXiv](https://img.shields.io/badge/arXiv-arXiv:2208.08518-b31b1b.svg)](https://arxiv.org/abs/arXiv:2208.08518) | **The Target Selection Pipeline for the Dark Energy Spectroscopic  Instrument**  |\n",
       "|| Adam D. Myers, et al. -- incl., <mark>Hiram K. Herrera-Alcantar</mark> |\n",
       "|*Appeared on*| *2022-08-19*|\n",
       "|*Comments*| *AJ, submitted, 27 pages, 4 figures, 10 tables, one of a suite of 8 papers detailing targeting for DESI*|\n",
       "|**Abstract**| In May, 2021, the Dark Energy Spectroscopic Instrument (DESI) began a five-year survey of approximately 50 million total extragalactic and Galactic targets. The primary DESI dark-time targets are Emission Line Galaxies (ELGs), Luminous Red Galaxies (LRGs) and quasars (QSOs). In bright time, DESI will focus on two surveys known as the Bright Galaxy Survey (BGS) and the Milky Way Survey (MWS). DESI also observes a selection of \"secondary\" targets for bespoke science goals. This paper gives an overview of the publicly available pipeline (desitarget) used to process targets for DESI observations. Highlights include details of the different DESI survey targeting phases, the targeting ID (TARGETID) used to define unique targets, the bitmasks used to indicate a particular type of target, the data model and structure of DESI targeting files, and examples of how to access and use the desitarget codebase. This paper will also describe \"supporting\" DESI target classes, such as standard stars, sky locations, and random catalogs that mimic the angular selection function of DESI targets. The DESI target selection pipeline is complex and sizable -- this paper attempts to summarize the most salient information required to understand and work with DESI targeting data. |\n",
       "|<p style=\"color:green\"> **ERROR** </p>| <p style=\"color:green\">affiliation error: mpia.affiliation_verifications: 'Heidelberg' keyword not found.</p> |"
      ],
      "text/plain": [
       "<IPython.core.display.Markdown object>"
      ]
     },
     "metadata": {},
     "output_type": "display_data"
    },
    {
     "data": {
      "text/markdown": [
       "\n",
       "|||\n",
       "|---:|:---|\n",
       "| [![arXiv](https://img.shields.io/badge/arXiv-arXiv:2208.08520-b31b1b.svg)](https://arxiv.org/abs/arXiv:2208.08520) | **Experimental Trials With The Optical Differentiation Wavefront Sensor  For Extended Objects**  |\n",
       "|| Meghan Farris O'Brien, et al. -- incl., <mark>Joseph D. Long</mark> |\n",
       "|*Appeared on*| *2022-08-19*|\n",
       "|*Comments*| *SPIE Astronomical Telescopes and Instrumentation, 2022 Proceeding 12185-55*|\n",
       "|**Abstract**| Commonly used wavefront sensors, the Shack Hartmann wavefront sensor and the pyramid wavefront sensor, for example, have large dynamic range or high sensitivity, trading one regime for the other. A new type of wavefront sensor is being developed and is currently undergoing testing at the University of Arizona's Center for Astronomical Adaptive Optics. This sensor builds on linear optical differentiation theory by using linear, spatially varying halfwave plates in an intermediate focal plane. These filters, along with the polarizing beam splitters, divide the beam into four pupil images, similar to those produced by the pyramid wavefront sensor. The wavefront is then reconstructed from the local wavefront slope information contained in these images. The ODWFS is ideally suited for wavefront sensing on extended objects because of its large dynamic range and because it operates in a pupil plane which allows for on chip resampling even for arbitrarily shaped sources. We have assembled the ODWFS on a testbed using 32 by 32 square 1000 actuator deformable mirror to introduce aberration into a simulated telescope beam. We are currently testing the system's spatial frequency response and are comparing the resulting data to numerical simulations. This paper presents the results of these initial experiments. |\n",
       "|<p style=\"color:green\"> **ERROR** </p>| <p style=\"color:green\">affiliation error: mpia.affiliation_verifications: 'Heidelberg' keyword not found.</p> |"
      ],
      "text/plain": [
       "<IPython.core.display.Markdown object>"
      ]
     },
     "metadata": {},
     "output_type": "display_data"
    },
    {
     "data": {
      "text/markdown": [
       "\n",
       "|||\n",
       "|---:|:---|\n",
       "| [![arXiv](https://img.shields.io/badge/arXiv-arXiv:2208.08559-b31b1b.svg)](https://arxiv.org/abs/arXiv:2208.08559) | **SPT-3G+: Mapping the High-Frequency Cosmic Microwave Background Using  Kinetic Inductance Detectors**  |\n",
       "|| A. J. Anderson, et al. -- incl., <mark>J. McMahon</mark> |\n",
       "|*Appeared on*| *2022-08-19*|\n",
       "|*Comments*| *26 pages, 9 figures, to appear in the proceedings of SPIE Astronomical Telescopes and Instrumentation 2022*|\n",
       "|**Abstract**| We present the design and science goals of SPT-3G+, a new camera for the South Pole Telescope, which will consist of a dense array of 34100 kinetic inductance detectors measuring the cosmic microwave background (CMB) at 220 GHz, 285 GHz, and 345 GHz. The SPT-3G+ dataset will enable new constraints on the process of reionization, including measurements of the patchy kinematic Sunyaev-Zeldovich effect and improved constraints on the optical depth due to reionization. At the same time, it will serve as a pathfinder for the detection of Rayleigh scattering, which could allow future CMB surveys to constrain cosmological parameters better than from the primary CMB alone. In addition, the combined, multi-band SPT-3G and SPT-3G+ survey data will have several synergies that enhance the original SPT-3G survey, including: extending the redshift-reach of SZ cluster surveys to $z > 2$; understanding the relationship between magnetic fields and star formation in our Galaxy; improved characterization of the impact of dust on inflationary B-mode searches; and characterizing astrophysical transients at the boundary between mm and sub-mm wavelengths. Finally, the modular design of the SPT-3G+ camera allows it to serve as an on-sky demonstrator for new detector technologies employing microwave readout, such as the on-chip spectrometers that we expect to deploy during the SPT-3G+ survey. In this paper, we describe the science goals of the project and the key technology developments that enable its powerful yet compact design. |\n",
       "|<p style=\"color:green\"> **ERROR** </p>| <p style=\"color:green\">affiliation error: mpia.affiliation_verifications: 'Heidelberg' keyword not found.</p> |"
      ],
      "text/plain": [
       "<IPython.core.display.Markdown object>"
      ]
     },
     "metadata": {},
     "output_type": "display_data"
    },
    {
     "data": {
      "text/markdown": [
       "\n",
       "|||\n",
       "|---:|:---|\n",
       "| [![arXiv](https://img.shields.io/badge/arXiv-arXiv:2208.08637-b31b1b.svg)](https://arxiv.org/abs/arXiv:2208.08637) | **A Novel Survey for Young Substellar Objects with the W band Filter.V. IC  348 and Barnard 5 in the Perseus Cloud**  |\n",
       "|| Bhavana Lalchand, et al. -- incl., <mark>Zhoujian Zhang</mark>, <mark>Tanvi Sharma</mark> |\n",
       "|*Appeared on*| *2022-08-19*|\n",
       "|*Comments*| *Accepted for publication in the Astrophysical Journal. 24 pages, 14 figures, 5 tables*|\n",
       "|**Abstract**| We report the discovery of substellar objects in the young star cluster IC 348 and the neighboring Barnard 5 dark cloud, both at the eastern end of the Perseus star-forming complex. The substellar candidates are selected using narrowband imaging, i.e., on and off photometric technique with a filter centered around the water absorption feature at 1.45 microns, a technique proven to be efficient in detecting water-bearing substellar objects. Our spectroscopic observations confirm three brown dwarfs in IC 348. In addition, the source WBIS 03492858+3258064, reported in this work, is the first confirmed brown dwarf discovered toward Barnard 5. Together with the young stellar population selected via near- and mid-infrared colors using the Two Micron All Sky Survey and the Wide-field Infrared Survey Explorer, we diagnose the relation between stellar versus substellar objects with the associated molecular clouds. Analyzed by Gaia EDR3 parallaxes and kinematics of the cloud members across the Perseus region, we propose the star formation scenario of the complex under influence of the nearby OB association. |\n",
       "|<p style=\"color:green\"> **ERROR** </p>| <p style=\"color:green\">affiliation error: mpia.affiliation_verifications: 'Heidelberg' keyword not found.</p> |"
      ],
      "text/plain": [
       "<IPython.core.display.Markdown object>"
      ]
     },
     "metadata": {},
     "output_type": "display_data"
    },
    {
     "data": {
      "text/markdown": [
       "\n",
       "|||\n",
       "|---:|:---|\n",
       "| [![arXiv](https://img.shields.io/badge/arXiv-arXiv:2208.08694-b31b1b.svg)](https://arxiv.org/abs/arXiv:2208.08694) | **The integrated radio spectrum of G2.4$+$1.4**  |\n",
       "|| <mark>D. A. Green</mark> |\n",
       "|*Appeared on*| *2022-08-19*|\n",
       "|*Comments*| *5 pages*|\n",
       "|**Abstract**| The Galactic source G2.4$+$1.4 is an optical and radio nebula containing an extreme Wolf--Rayet star. At one time this source was regarded as a supernova remnant, because of its apparent non-thermal radio spectrum, although this was based on limited observations. Subsequent observations instead supported a flat, optically thin thermal radio spectrum for G2.4$+$1.4, and it was identified as a photoionized, mass-loss bubble, not a supernova remnant. Recently, however, it has been claimed that this source has a non-thermal integrated radio spectrum. I discuss the integrated radio flux densities available for G2.4$+$1.4 from a variety of surveys, and show that it has a flat spectrum at gigahertz frequencies (with a spectral index $\\alpha$ of $0.02 \\pm 0.08$, where flux density $S$ scales with frequency $\\nu$ as $S \\propto \\nu^{-\\alpha}$). |\n",
       "|<p style=\"color:green\"> **ERROR** </p>| <p style=\"color:green\">affiliation error: mpia.affiliation_verifications: 'Heidelberg' keyword not found.</p> |"
      ],
      "text/plain": [
       "<IPython.core.display.Markdown object>"
      ]
     },
     "metadata": {},
     "output_type": "display_data"
    },
    {
     "data": {
      "text/markdown": [
       "\n",
       "|||\n",
       "|---:|:---|\n",
       "| [![arXiv](https://img.shields.io/badge/arXiv-arXiv:2208.08712-b31b1b.svg)](https://arxiv.org/abs/arXiv:2208.08712) | **Faraday Rotation Measure Variations of Repeating Fast Radio Burst  Sources**  |\n",
       "|| Yuan-Pei Yang, Siyao Xu, <mark>Bing Zhang</mark> |\n",
       "|*Appeared on*| *2022-08-19*|\n",
       "|*Comments*| *15 pages, 6 figures. Submitted to MNRAS. Comments welcome!*|\n",
       "|**Abstract**| Recently, some fast radio burst (FRB) repeaters were reported to exhibit complex, diverse variations of Faraday rotation measures (RMs), which implies that they are surrounded by an inhomogeneous, dynamically evolving, magnetized environment. We systematically investigate some possible astrophysical processes that may cause RM variations of an FRB repeater. The processes include (1) a supernova remnant (SNR) with a fluctuating medium; (2) a binary system with stellar winds from a massive/giant star companion or stellar flares from a low-mass star companion; (3) a pair plasma medium from a neutron star (including pulsar winds, pulsar wind nebulae and magnetar flares); (4) outflows from a massive black hole. For the SNR scenario, a large relative RM variation during a few years requires that the SNR is young with a thin and local anisotropic shell, or the size of dens gas clouds in interstellar/circumstellar medium around the SNR is extremely small. If the RM variation is caused by the companion medium in a binary system, it is more likely from stellar winds of a massive/giant star companion. The RM variation contributed by stellar flares from a low-mass star is disfavored, because this scenario predicts an extremely large relative RM variation during a short period of time. The scenarios invoking a pair plasma from a neutron star can be ruled out due to their extremely low RM contributions. Outflows from a massive black hole could provide a large RM variation if the FRB source is in the vicinity of the black hole. |\n",
       "|<p style=\"color:green\"> **ERROR** </p>| <p style=\"color:green\">affiliation error: mpia.affiliation_verifications: 'Heidelberg' keyword not found.</p> |"
      ],
      "text/plain": [
       "<IPython.core.display.Markdown object>"
      ]
     },
     "metadata": {},
     "output_type": "display_data"
    },
    {
     "data": {
      "text/markdown": [
       "\n",
       "|||\n",
       "|---:|:---|\n",
       "| [![arXiv](https://img.shields.io/badge/arXiv-arXiv:2208.08849-b31b1b.svg)](https://arxiv.org/abs/arXiv:2208.08849) | **Bridging the gap between Monte Carlo simulations and measurements of the  LISA Pathfinder test-mass charging for LISA**  |\n",
       "|| Catia Grimani, et al. -- incl., <mark>Mattia Villani</mark> |\n",
       "|*Appeared on*| *2022-08-19*|\n",
       "|*Comments*| *11 pages, 9 figures*|\n",
       "|**Abstract**| Cubic gold-platinum free-falling test masses (TMs) constitute the mirrors of future LISA and LISA-like interferometers for low-frequency gravitational wave detection in space. High-energy particles of Galactic and solar origin charge the TMs and thus induce spurious electrostatic and magnetic forces that limit the sensitivity of these interferometers. Prelaunch Monte Carlo simulations of the TM charging were carried out for the LISA Pathfinder (LPF) mission, that was planned to test the LISA instrumentation. Measurements and simulations were compared during the mission operations. The measured net TM charging agreed with simulation estimates, while the charging noise was three to four times higher. We aim to bridge the gap between LPF TM charging noise simulations and observations. New Monte Carlo simulations of the LPF TM charging due to both Galactic and solar particles were carried out with the FLUKA/LEI toolkit. This allowed propagating low-energy electrons down to a few electronvolt. These improved FLUKA/LEI simulations agree with observations gathered during the mission operations within statistical and Monte Carlo errors. The charging noise induced by Galactic cosmic rays is about one thousand charges per second. This value increases to tens of thousands charges per second during solar energetic particle events. Similar results are expected for the LISA TM charging. |\n",
       "|<p style=\"color:green\"> **ERROR** </p>| <p style=\"color:green\">affiliation error: mpia.affiliation_verifications: 'Heidelberg' keyword not found.</p> |"
      ],
      "text/plain": [
       "<IPython.core.display.Markdown object>"
      ]
     },
     "metadata": {},
     "output_type": "display_data"
    },
    {
     "data": {
      "text/markdown": [
       "\n",
       "|||\n",
       "|---:|:---|\n",
       "| [![arXiv](https://img.shields.io/badge/arXiv-arXiv:2208.08908-b31b1b.svg)](https://arxiv.org/abs/arXiv:2208.08908) | **L-band nulling interferometry at the VLTI with Asgard/Hi-5: status and  plans**  |\n",
       "|| Denis Defrère, et al. -- incl., <mark>Simon Gross</mark>, <mark>Helene Rousseau</mark> |\n",
       "|*Appeared on*| *2022-08-19*|\n",
       "|*Comments*| *16 pages, 9 figures, SPIE 2022 \"Astronomical Telescopes and Instrumentation\" manuscript 12183-16*|\n",
       "|**Abstract**| Hi-5 is the L'-band (3.5-4.0 $\\mu$m) high-contrast imager of Asgard, an instrument suite in preparation for the visitor focus of the VLTI. The system is optimized for high-contrast and high-sensitivity imaging within the diffraction limit of a single UT/AT telescope. It is designed as a double-Bracewell nulling instrument producing spectrally-dispersed (R=20, 400, or 2000) complementary nulling outputs and simultaneous photometric outputs for self-calibration purposes. In this paper, we present an update of the project with a particular focus on the overall architecture, opto-mechanical design of the warm and cold optics, injection system, and development of the photonic beam combiner. The key science projects are to survey (i) nearby young planetary systems near the snow line, where most giant planets are expected to be formed, and (ii) nearby main sequence stars near the habitable zone where exozodiacal dust that may hinder the detection of Earth-like planets. We present an update of the expected instrumental performance based on full end-to-end simulations using the new GRAVITY+ specifications of the VLTI and the latest planet formation models. |\n",
       "|<p style=\"color:green\"> **ERROR** </p>| <p style=\"color:green\">affiliation error: mpia.affiliation_verifications: 'Heidelberg' keyword not found.</p> |"
      ],
      "text/plain": [
       "<IPython.core.display.Markdown object>"
      ]
     },
     "metadata": {},
     "output_type": "display_data"
    },
    {
     "data": {
      "text/markdown": [
       "\n",
       "|||\n",
       "|---:|:---|\n",
       "| [![arXiv](https://img.shields.io/badge/arXiv-arXiv:2208.08874-b31b1b.svg)](https://arxiv.org/abs/arXiv:2208.08874) | **The Gaia-ESO Survey: Preparing the ground for 4MOST & WEAVE galactic  surveys -- Chemical Evolution of Lithium with Machine-Learning**  |\n",
       "|| S. Nepal, et al. -- incl., <mark>M. Bergemann</mark> |\n",
       "|*Appeared on*| *2022-08-19*|\n",
       "|*Comments*| *Submitted to A&A*|\n",
       "|**Abstract**| Originating from several sources (Big Bang, stars, cosmic rays) and being strongly depleted during stellar lifetime, the lithium element (Li) is of great interest as its chemical evolution in the Milky Way is not yet well understood. To help constrain stellar and galactic chemical evolution models, numerous and precise Li abundances are necessary for a large range of evolutionary stages, metallicities, and Galactic volume. In the age of industrial parametrization, spectroscopic surveys such as APOGEE, GALAH, RAVE, and LAMOST have used data-driven methods to rapidly and precisely infer stellar labels (atmospheric parameters and abundances). To prepare grounds for future spectroscopic surveys like 4MOST and WEAVE, we aim to apply machine-learning techniques for Li study/measurement. We train a Convolution Neural-Network (CNN) coupling Gaia-ESO Survey iDR6 stellar labels ($\\mathrm{\\textit{T}_{\\text{eff}}}$, log(g), [Fe/H] and A(Li)) and GIRAFFE HR15N spectra, to infer the atmospheric parameters and Li abundances for $\\sim$40000 stars. We show that the CNN properly learns the physics of the stellar labels, from relevant spectral features, over a large range of evolutionary stages and stellar parameters. The Li feature at 6707.8 A is successfully singled out by our CNN, among the thousands of lines in the GIRAFFE HR15N setup. Rare objects like Li-rich giants are found in our sample. Such performances are achieved thanks to a meticulously built high-quality and homogeneous training sample. The CNN approach is very well adapted for the next generations of spectroscopic surveys aiming at studying (among other elements) Li, such as the 4MIDABLE-LR/HR (4MOST Milky Way disk and bulge low- and high-resolution) surveys. In this context, the caveats of the machine-learning applications should be properly investigated along with realistic label uncertainties and upper limits for abundances. |\n",
       "|<p style=\"color:red\"> **ERROR** </p>| <p style=\"color:red\">latex error Could not find figure pictures/no_lithium_line_Li_comparison_GIRAFFE.png</p> |"
      ],
      "text/plain": [
       "<IPython.core.display.Markdown object>"
      ]
     },
     "metadata": {},
     "output_type": "display_data"
    }
   ],
   "source": [
    "import datetime\n",
    "today = str(datetime.date.today())\n",
    "logfile = f\"_build/html/logs/log-{today}.md\"\n",
    "\n",
    "\n",
    "with open(logfile, 'w') as logs:\n",
    "    # Success\n",
    "    logs.write(f'# Arxiv on Deck 2: Logs - {today}\\n\\n')\n",
    "    logs.write(\"\"\"* Arxiv had {0:,d} new papers\\n\"\"\".format(len(new_papers)))\n",
    "    logs.write(\"\"\"    * {0:,d} with possible author matches\\n\\n\"\"\".format(len(candidates)))\n",
    "    logs.write(\"## Sucessful papers\\n\\n\")\n",
    "    display(Markdown(\"## Successful papers\"))\n",
    "    success = [k[0] for k in documents]\n",
    "    for candid in candidates:\n",
    "        if candid['identifier'].split(':')[-1] in success:\n",
    "            display(candid)\n",
    "            logs.write(candid.generate_markdown_text() + '\\n\\n')\n",
    "\n",
    "    ## failed\n",
    "    logs.write(\"## Failed papers\\n\\n\")\n",
    "    display(Markdown(\"## Failed papers\"))\n",
    "    failed = sorted(failed, key=lambda x: x[1])\n",
    "    current_reason = \"\"\n",
    "    for paper, reason in failed:\n",
    "        if 'affiliation' in reason:\n",
    "            color = 'green'\n",
    "        else:\n",
    "            color = 'red'\n",
    "        data = Markdown(\n",
    "                paper.generate_markdown_text() + \n",
    "                f'\\n|<p style=\"color:{color:s}\"> **ERROR** </p>| <p style=\"color:{color:s}\">{reason:s}</p> |'\n",
    "               )\n",
    "        if reason != current_reason:\n",
    "            logs.write(f'### {reason:s} \\n\\n')\n",
    "            current_reason = reason\n",
    "        logs.write(data.data + '\\n\\n')\n",
    "        \n",
    "        # only display here the important errors (all in logs)\n",
    "        # if color in ('red',):\n",
    "        display(data)"
   ]
  },
  {
   "cell_type": "markdown",
   "id": "472d20ee",
   "metadata": {
    "papermill": {
     "duration": 0.010903,
     "end_time": "2022-08-19T15:21:10.456775",
     "exception": false,
     "start_time": "2022-08-19T15:21:10.445872",
     "status": "completed"
    },
    "tags": []
   },
   "source": [
    "## Export documents\n",
    "\n",
    "We now write the .md files and export relevant images"
   ]
  },
  {
   "cell_type": "code",
   "execution_count": 7,
   "id": "d426aed9",
   "metadata": {
    "execution": {
     "iopub.execute_input": "2022-08-19T15:21:10.481540Z",
     "iopub.status.busy": "2022-08-19T15:21:10.480723Z",
     "iopub.status.idle": "2022-08-19T15:21:10.491137Z",
     "shell.execute_reply": "2022-08-19T15:21:10.490213Z"
    },
    "papermill": {
     "duration": 0.02526,
     "end_time": "2022-08-19T15:21:10.493198",
     "exception": false,
     "start_time": "2022-08-19T15:21:10.467938",
     "status": "completed"
    },
    "tags": []
   },
   "outputs": [],
   "source": [
    "def export_markdown_summary(md: str, md_fname:str, directory: str):\n",
    "    \"\"\"Export MD document and associated relevant images\"\"\"\n",
    "    import os\n",
    "    import shutil\n",
    "    import re\n",
    "\n",
    "    if (os.path.exists(directory) and not os.path.isdir(directory)):\n",
    "        raise RuntimeError(f\"a non-directory file exists with name {directory:s}\")\n",
    "\n",
    "    if (not os.path.exists(directory)):\n",
    "        print(f\"creating directory {directory:s}\")\n",
    "        os.mkdir(directory)\n",
    "\n",
    "    fig_fnames = (re.compile(r'\\[Fig.*\\]\\((.*)\\)').findall(md) + \n",
    "                  re.compile(r'\\<img src=\"([^>\\s]*)\"[^>]*/>').findall(md))\n",
    "    for fname in fig_fnames:\n",
    "        if 'http' in fname:\n",
    "            # No need to copy online figures\n",
    "            continue\n",
    "        destdir = os.path.join(directory, os.path.dirname(fname))\n",
    "        destfname = os.path.join(destdir, os.path.basename(fname))\n",
    "        try:\n",
    "            os.makedirs(destdir)\n",
    "        except FileExistsError:\n",
    "            pass\n",
    "        shutil.copy(fname, destfname)\n",
    "    with open(os.path.join(directory, md_fname), 'w') as fout:\n",
    "        fout.write(md)\n",
    "    print(\"exported in \", os.path.join(directory, md_fname))\n",
    "    [print(\"    + \" + os.path.join(directory,fk)) for fk in fig_fnames]"
   ]
  },
  {
   "cell_type": "code",
   "execution_count": 8,
   "id": "014d04a4",
   "metadata": {
    "execution": {
     "iopub.execute_input": "2022-08-19T15:21:10.517545Z",
     "iopub.status.busy": "2022-08-19T15:21:10.516973Z",
     "iopub.status.idle": "2022-08-19T15:21:10.524983Z",
     "shell.execute_reply": "2022-08-19T15:21:10.523985Z"
    },
    "papermill": {
     "duration": 0.022838,
     "end_time": "2022-08-19T15:21:10.527040",
     "exception": false,
     "start_time": "2022-08-19T15:21:10.504202",
     "status": "completed"
    },
    "tags": []
   },
   "outputs": [
    {
     "name": "stdout",
     "output_type": "stream",
     "text": [
      "exported in  _build/html/2208.08872.md\n",
      "    + _build/html/tmp_2208.08872/./kiel_GES.png\n",
      "    + _build/html/tmp_2208.08872/./density_MgAl_Fe.png\n",
      "    + _build/html/tmp_2208.08872/./disks.png\n",
      "    + _build/html/tmp_2208.08872/./disks_obs.png\n"
     ]
    }
   ],
   "source": [
    "for paper_id, md in documents:\n",
    "    export_markdown_summary(md, f\"{paper_id:s}.md\", '_build/html/')"
   ]
  },
  {
   "cell_type": "markdown",
   "id": "f087a0a7",
   "metadata": {
    "papermill": {
     "duration": 0.011467,
     "end_time": "2022-08-19T15:21:10.550325",
     "exception": false,
     "start_time": "2022-08-19T15:21:10.538858",
     "status": "completed"
    },
    "tags": []
   },
   "source": [
    "## Display the papers\n",
    "\n",
    "Not necessary but allows for a quick check."
   ]
  },
  {
   "cell_type": "code",
   "execution_count": 9,
   "id": "fd25f625",
   "metadata": {
    "execution": {
     "iopub.execute_input": "2022-08-19T15:21:10.574032Z",
     "iopub.status.busy": "2022-08-19T15:21:10.573246Z",
     "iopub.status.idle": "2022-08-19T15:21:10.580206Z",
     "shell.execute_reply": "2022-08-19T15:21:10.579320Z"
    },
    "papermill": {
     "duration": 0.021267,
     "end_time": "2022-08-19T15:21:10.582233",
     "exception": false,
     "start_time": "2022-08-19T15:21:10.560966",
     "status": "completed"
    },
    "scrolled": false,
    "tags": []
   },
   "outputs": [
    {
     "data": {
      "text/markdown": [
       "<div class=\"macros\" style=\"visibility:hidden;\">\n",
       "$\\newcommand{\\ensuremath}{}$\n",
       "$\\newcommand{\\xspace}{}$\n",
       "$\\newcommand{\\object}[1]{\\texttt{#1}}$\n",
       "$\\newcommand{\\farcs}{{.}''}$\n",
       "$\\newcommand{\\farcm}{{.}'}$\n",
       "$\\newcommand{\\arcsec}{''}$\n",
       "$\\newcommand{\\arcmin}{'}$\n",
       "$\\newcommand{\\ion}[2]{#1#2}$\n",
       "$\\newcommand{\\textsc}[1]{\\textrm{#1}}$\n",
       "$\\newcommand{\\hl}[1]{\\textrm{#1}}$</div>\n",
       "\n",
       "<div class=\"macros\" style=\"visibility:hidden;\">\n",
       "$\\newcommand{$\\ensuremath$}{}$\n",
       "$\\newcommand{$\\xspace$}{}$\n",
       "$\\newcommand{$\\object$}[1]{\\texttt{#1}}$\n",
       "$\\newcommand{$\\farcs$}{{.}''}$\n",
       "$\\newcommand{$\\farcm$}{{.}'}$\n",
       "$\\newcommand{$\\arcsec$}{''}$\n",
       "$\\newcommand{$\\arcmin$}{'}$\n",
       "$\\newcommand{$\\ion$}[2]{#1#2}$\n",
       "$\\newcommand{$\\textsc$}[1]{\\textrm{#1}}$\n",
       "$\\newcommand{$\\hl$}[1]{\\textrm{#1}}$</div>\n",
       "\n",
       "\n",
       "\n",
       "<div id=\"title\">\n",
       "\n",
       "# Based on observations made with the ESO/VLT, at Paranal Observatory, under program 188.B-3002 (The Gaia-ESO Public Spectroscopic Survey, PIs G. Gilmore and S. Randich). Also based on observations under programs 171.0237 and 073.0234\n",
       "\n",
       "</div>\n",
       "<div id=\"comments\">\n",
       "\n",
       "[![arXiv](https://img.shields.io/badge/arXiv-2208.08872-b31b1b.svg)](https://arxiv.org/abs/2208.08872) _Submitted to A&A_\n",
       "\n",
       "</div>\n",
       "<div id=\"authors\">\n",
       "\n",
       "M. Ambrosch, et al. -- incl., <mark><mark>M. Bergemann</mark></mark>\n",
       "\n",
       "</div>\n",
       "<div id=\"abstract\">\n",
       "\n",
       "**Abstract:** To take full advantage of upcoming large-scale spectroscopic surveys, it will be necessary to parameterize millions of stellar spectra in an efficient way. Machine--learning methods, and especially convolutional neural networks, will be one of the main tools for achieving this task.We aim to prepare the machine--learning ground for the next generation of spectroscopic surveys, such as 4MOST and WEAVE. Our goal is to show that convolutional neural networks can predict accurate stellar labels from relevant spectral features in a physically meaningful way. The predicted labels can be used to investigate properties of the Milky Way galaxy.We built a neural network and trained it on GIRAFFE spectra with associated stellar labels from the sixth internal Gaia-ESO data release. Our network architecture contains several convolutional layers that allow the network to identify absorption features in the input spectra. Internal uncertainty is estimated from multiple network models. We used\\textit{t-distributed Stochastic Neighbor Embedding}to remove bad spectra from our training sample.Our neural network predicts the atmospheric parameters\\textit{T}\\textsubscript{eff}and log(\\textit{g}) as well as the chemical abundances[Mg/Fe],[Al/Fe], and[Fe/H]for 30 115 stellar spectra. The internal uncertainty is 24 K for\\textit{T}\\textsubscript{eff}, 0.03 for log(\\textit{g}), 0.02 dex for[Mg/Fe], 0.03 dex for[Al/Fe], and 0.02 dex for[Fe/H]. The network gradients reveal that the network is inferring the labels in a physically meaningful way from spectral features. We validated our methodology using benchmark stars and  recovered the properties of different stellar populations in the Milky Way galaxy.Such a study provides very good insights into the application of machine--learning for the analysis of large-scale spectroscopic surveys, such as WEAVE and 4MIDABLE-LR and -HR (4MOST Milky Way disk and bulge low- and high-resolution). The community will have to put a substantial effort in building proactive training sets for machine--learning methods to minimize the possible systematics.\n",
       "\n",
       "</div>\n",
       "\n",
       "<div id=\"div_fig1\">\n",
       "\n",
       "<img src=\"tmp_2208.08872/./kiel_GES.png\" alt=\"Fig1\" width=\"100%\"/>\n",
       "\n",
       "**Figure 1. -** Kiel diagram containing the stars that will be used to train and test our neural network. The color-coding indicates the metallicity gradient in the giant branch stars. (*fig:kiel GES*)\n",
       "\n",
       "</div>\n",
       "<div id=\"div_fig2\">\n",
       "\n",
       "<img src=\"tmp_2208.08872/./density_MgAl_Fe.png\" alt=\"Fig2\" width=\"100%\"/>\n",
       "\n",
       "**Figure 2. -** Density plots of [Mg/Fe] vs. [Fe/H](top panel) and [Al/Fe] vs. [Fe/H](bottom panel) for the 14 696  stars in the training and test sets. Brighter colors indicate a higher density of data points. (*fig:MgAl_Fe_hist2d*)\n",
       "\n",
       "</div>\n",
       "<div id=\"div_fig3\">\n",
       "\n",
       "<img src=\"tmp_2208.08872/./disks.png\" alt=\"Fig10.1\" width=\"50%\"/><img src=\"tmp_2208.08872/./disks_obs.png\" alt=\"Fig10.2\" width=\"50%\"/>\n",
       "\n",
       "**Figure 10. -** Top panel: Density map of the [Mg/Fe] vs. [Fe/H] distribution of our CNN results for the training+test sample. Brighter colors indicate a higher density of data points. Thin and thick disk populations found by the HDBSCAN algorithm are shown on the right. The two populations correspond to the two separate dense regions on the left panel. Bottom: same plot but for the observed sample composed of 15 419 stars with 20 $\\le$ S/N $\\le$ 30. (*fig:disks*)\n",
       "\n",
       "</div>"
      ],
      "text/plain": [
       "<IPython.core.display.Markdown object>"
      ]
     },
     "metadata": {},
     "output_type": "display_data"
    }
   ],
   "source": [
    "[display(Markdown(k[1])) for k in documents];"
   ]
  },
  {
   "cell_type": "markdown",
   "id": "873873a4",
   "metadata": {
    "papermill": {
     "duration": 0.01101,
     "end_time": "2022-08-19T15:21:10.606347",
     "exception": false,
     "start_time": "2022-08-19T15:21:10.595337",
     "status": "completed"
    },
    "tags": []
   },
   "source": [
    "# Create HTML index"
   ]
  },
  {
   "cell_type": "code",
   "execution_count": 10,
   "id": "cf665672",
   "metadata": {
    "execution": {
     "iopub.execute_input": "2022-08-19T15:21:10.630326Z",
     "iopub.status.busy": "2022-08-19T15:21:10.629782Z",
     "iopub.status.idle": "2022-08-19T15:21:10.642233Z",
     "shell.execute_reply": "2022-08-19T15:21:10.641186Z"
    },
    "papermill": {
     "duration": 0.027364,
     "end_time": "2022-08-19T15:21:10.644670",
     "exception": false,
     "start_time": "2022-08-19T15:21:10.617306",
     "status": "completed"
    },
    "tags": []
   },
   "outputs": [
    {
     "name": "stdout",
     "output_type": "stream",
     "text": [
      "19  publications in the last 7 days.\n",
      "\t _build/html/2208.08872.md\n",
      "\t _build/html/2204.06393.md\n",
      "\t _build/html/2204.03335.md\n",
      "\t _build/html/2204.03253.md\n",
      "\t _build/html/2204.02998.md\n",
      "\t _build/html/2204.02109.md\n",
      "\t _build/html/2204.02017.md\n",
      "\t _build/html/2204.01824.md\n",
      "\t _build/html/2204.01758.md\n",
      "\t _build/html/2204.01245.md\n",
      "\t _build/html/2204.00793.md\n",
      "\t _build/html/2204.00342.md\n",
      "\t _build/html/2203.16959.md\n",
      "\t _build/html/2203.16856.md\n",
      "\t _build/html/2203.16735.md\n",
      "\t _build/html/2203.16734.md\n",
      "\t _build/html/2203.16504.md\n",
      "\t _build/html/2203.15822.md\n",
      "\t _build/html/2203.15811.md\n"
     ]
    }
   ],
   "source": [
    "from datetime import datetime, timedelta, timezone\n",
    "from glob import glob\n",
    "\n",
    "files = glob('_build/html/*.md')\n",
    "days = 7\n",
    "now = datetime.today()\n",
    "res = []\n",
    "for fk in files:\n",
    "    stat_result = os.stat(fk).st_ctime\n",
    "    modified = datetime.fromtimestamp(stat_result, tz=timezone.utc).replace(tzinfo=None)\n",
    "    delta = now.today() - modified\n",
    "    if delta <= timedelta(days=days):\n",
    "        res.append((delta.seconds, fk))\n",
    "res = [k[1] for k in reversed(sorted(res, key=lambda x:x[1]))]\n",
    "npub = len(res)\n",
    "print(len(res), f\" publications in the last {days:d} days.\")\n",
    "[ print('\\t', k) for k in res ];"
   ]
  },
  {
   "cell_type": "code",
   "execution_count": 11,
   "id": "52ca0208",
   "metadata": {
    "execution": {
     "iopub.execute_input": "2022-08-19T15:21:10.668825Z",
     "iopub.status.busy": "2022-08-19T15:21:10.668471Z",
     "iopub.status.idle": "2022-08-19T15:21:10.677004Z",
     "shell.execute_reply": "2022-08-19T15:21:10.675914Z"
    },
    "papermill": {
     "duration": 0.022922,
     "end_time": "2022-08-19T15:21:10.679030",
     "exception": false,
     "start_time": "2022-08-19T15:21:10.656108",
     "status": "completed"
    },
    "scrolled": false,
    "tags": []
   },
   "outputs": [],
   "source": [
    "def create_carousel(npub=4):\n",
    "    \"\"\" Generate the HTML code for a carousel with `npub` slides \"\"\"\n",
    "    carousel = [\"\"\"<section class=\"carousel\" aria-label=\"Gallery\">\"\"\",\n",
    "                \"\"\"  <ol class=\"carousel__viewport\">\"\"\",\n",
    "    ]\n",
    "    for k in range(1, npub + 1):\n",
    "        prev_ = k - 1\n",
    "        next_ = k + 1\n",
    "        if prev_ <= 0:\n",
    "            prev_ = npub\n",
    "        if next_ > npub:\n",
    "            next_ = 1\n",
    "        text  = f\"\"\"    <li id=\"carousel__slide{k}\" tabindex=\"0\" class=\"carousel__slide\">\\n\"\"\"\n",
    "        text += f\"\"\"       <div class=\"carousel__snapper\">\\n\"\"\"\n",
    "        text += f\"\"\"         <a href=\"#carousel__slide{prev_}\" class=\"carousel__prev\">Go to previous slide</a>\\n\"\"\"\n",
    "        text += f\"\"\"         <a href=\"#carousel__slide{next_}\" class=\"carousel__next\">Go to next slide</a>\\n\"\"\"\n",
    "        text += f\"\"\"         <div id=\"slide{k}_content\" class=\"md_view\" >Content {k}</div>\\n\"\"\"\n",
    "        text += f\"\"\"       </div>\\n\"\"\"\n",
    "        text += f\"\"\"    </li>\"\"\"\n",
    "        carousel.append(text)\n",
    "\n",
    "    carousel.extend([\n",
    "        \"\"\"  </ol>\"\"\",\n",
    "        \"\"\"  <aside class=\"carousel__navigation\">\"\"\",\n",
    "        \"\"\"    <ol class=\"carousel__navigation-list\">\"\"\"])\n",
    "\n",
    "    for k in range(1, npub + 1):\n",
    "        text  = f\"\"\"      <li class=\"carousel__navigation-item\">\\n\"\"\"\n",
    "        text += f\"\"\"        <a href=\"#carousel__slide{k}\" class=\"carousel__navigation-button\">Go to {k}</a>\\n\"\"\"\n",
    "        text += f\"\"\"      </li>\"\"\"\n",
    "        carousel.append(text)\n",
    "    carousel.extend([\"\"\"    </ol>\"\"\", \"\"\"  </aside>\"\"\", \"\"\"</section>\"\"\"])\n",
    "\n",
    "    return '\\n'.join(carousel)"
   ]
  },
  {
   "cell_type": "code",
   "execution_count": 12,
   "id": "a6eac5b6",
   "metadata": {
    "execution": {
     "iopub.execute_input": "2022-08-19T15:21:10.703730Z",
     "iopub.status.busy": "2022-08-19T15:21:10.702977Z",
     "iopub.status.idle": "2022-08-19T15:21:10.711811Z",
     "shell.execute_reply": "2022-08-19T15:21:10.710862Z"
    },
    "papermill": {
     "duration": 0.023759,
     "end_time": "2022-08-19T15:21:10.713909",
     "exception": false,
     "start_time": "2022-08-19T15:21:10.690150",
     "status": "completed"
    },
    "scrolled": false,
    "tags": []
   },
   "outputs": [],
   "source": [
    "carousel = create_carousel(npub)\n",
    "docs = ', '.join(['\"{0:s}\"'.format(k.split('/')[-1]) for k in res])\n",
    "slides = ', '.join([f'\"slide{k}_content\"' for k in range(1, npub + 1)])\n",
    "\n",
    "script = f\"\"\"\n",
    "const docs = [{docs}]\n",
    "\n",
    "const slides = [{slides}]\n",
    "\"\"\" + \"\"\"\n",
    "async function run() {\n",
    "    for (let i = 0; i < docs.length; i++) {\n",
    "        let file = await fetch(docs[i]);\n",
    "        let text = await file.text()\n",
    "        document.getElementById(slides[i]).innerHTML =\n",
    "            marked.parse(text);\n",
    "    }\n",
    "    hljs.highlightAll();\n",
    "}\n",
    "run()\n",
    "\"\"\"\n",
    "\n",
    "page = f\"\"\"<!doctype html>\n",
    "<html lang=\"en\">\n",
    "\n",
    "<head>\n",
    "  <meta charset=\"utf-8\">\n",
    "  <meta name=\"viewport\" content=\"width=device-width, initial-scale=1\">\n",
    "  <!-- Bootstrap CSS -->\n",
    "  <link href=\"https://cdn.jsdelivr.net/npm/bootstrap@5.0.2/dist/css/bootstrap.min.css\" rel=\"stylesheet\"\n",
    "   integrity=\"sha384-EVSTQN3/azprG1Anm3QDgpJLIm9Nao0Yz1ztcQTwFspd3yD65VohhpuuCOmLASjC\" crossorigin=\"anonymous\">\n",
    "  <!-- highlight.js CSS -->\n",
    "  <link rel=\"stylesheet\" href=\"https://cdnjs.cloudflare.com/ajax/libs/highlight.js/11.1.0/styles/default.min.css\">\n",
    "  <!-- Mathjax 3 -->\n",
    "  <script type=\"text/javascript\" id=\"MathJax-config\" src=\"mathjax_config.js\"> </script>\n",
    "  <script type=\"text/javascript\" id=\"MathJax-script\" async \n",
    "    src=\"https://cdn.jsdelivr.net/npm/mathjax@3/es5/tex-mml-chtml.js\">\n",
    "  </script>\n",
    "  <link rel=\"stylesheet\" href=\"index_carousel.css\">\n",
    "  <link rel=\"icon\" type=\"image/x-icon\" href=\"https://www.mpia.de/assets/touch-icon-32x32-a66937bcebc4e8894ebff1f41a366c7c7220fd97a38869ee0f2db65a9f59b6c1.png\">\n",
    "  <title>MPIA Arxiv on deck!</title>\n",
    "</head>\n",
    "\n",
    "<body>\n",
    "  <div id=\"header\"> <img src=\"header_banner.png\" width=\"100%\"></div>\n",
    "  <div id=\"suptitle\"> 7-day archives </div>\n",
    "  <div id=\"info\">\n",
    "    <img src=\"https://pngimg.com/uploads/github/github_PNG58.png\" height=30rem></img>\n",
    "    <a href=https://github.com/mpi-astronomy/arxiv_display style=\"color:black;\">github/mpi-astronomy/arxiv_display</a> \n",
    "  </div>\n",
    "  {carousel:s}\n",
    "</body>\n",
    "\n",
    "<!-- Render Markdown -->\n",
    "\n",
    "<body>\n",
    "  <!-- highlight.js: https://highlightjs.org/download/ -->\n",
    "  <script src=\"https://cdnjs.cloudflare.com/ajax/libs/highlight.js/11.5.0/highlight.min.js\"></script>\n",
    "  <!-- marked.js -->\n",
    "  <script src=\"https://cdn.jsdelivr.net/npm/marked/marked.min.js\"></script>\n",
    "  <script>{script:s}</script>\n",
    "</body>\n",
    "</html>\n",
    "\"\"\"\n",
    "with open(\"_build/html/index_7days.html\", 'w') as fout:\n",
    "    fout.write(page)"
   ]
  },
  {
   "cell_type": "markdown",
   "id": "1cebacbc",
   "metadata": {
    "papermill": {
     "duration": 0.011513,
     "end_time": "2022-08-19T15:21:10.736944",
     "exception": false,
     "start_time": "2022-08-19T15:21:10.725431",
     "status": "completed"
    },
    "tags": []
   },
   "source": [
    "# Debugging papers"
   ]
  },
  {
   "cell_type": "raw",
   "id": "debe7cc6",
   "metadata": {
    "papermill": {
     "duration": 0.011383,
     "end_time": "2022-08-19T15:21:10.759478",
     "exception": false,
     "start_time": "2022-08-19T15:21:10.748095",
     "status": "completed"
    },
    "tags": []
   },
   "source": [
    "raise NotImplementedError(\"Manual Stop\")"
   ]
  },
  {
   "cell_type": "raw",
   "id": "eb169192",
   "metadata": {
    "papermill": {
     "duration": 0.010911,
     "end_time": "2022-08-19T15:21:10.782045",
     "exception": false,
     "start_time": "2022-08-19T15:21:10.771134",
     "status": "completed"
    },
    "scrolled": true,
    "tags": []
   },
   "source": [
    "from IPython.display import display, Markdown\n",
    "from TexSoup import TexSoup\n",
    "import re\n",
    "\n",
    "def bracket_error(source: str):\n",
    "    \"\"\" Find problematic portions of the document \"\"\"\n",
    "    \n",
    "    print(\"len(source)\", len(source))\n",
    "    \n",
    "    # Checking header\n",
    "    begin_doc = next(re.finditer(r'\\\\begin\\{document\\}', doc.source)).span()[1]\n",
    "    header = source[:begin_doc]\n",
    "    text = header + r\"\\n\\end{document}\"\n",
    "\n",
    "    try:\n",
    "        # print(\"Header check... \", end='')\n",
    "        TexSoup(text)\n",
    "        display(Markdown(f\"**[OK]** - Header\"))\n",
    "    except:\n",
    "        raise RuntimeError(\"Error in the header\")\n",
    "        \n",
    "    # Check the text per section until the end.\n",
    "    # Do not stop and try them all.\n",
    "    \n",
    "    problematic_text = []\n",
    "    \n",
    "    sections = ([(0, begin_doc, 'until first section')] + \n",
    "                [(g.span()[0], g.span()[1], g.group()) for g in re.finditer(r'\\\\section\\{.*\\}', source)] +\n",
    "                [(g.span()[0], g.span()[1], g.group()) for g in re.finditer(r'\\\\begin\\{appendix\\}', source)]\n",
    "               )\n",
    "    sections.append([len(source), len(source), 'end'])\n",
    "    \n",
    "    sections = sorted(sections, key=lambda x: x[0])\n",
    "    \n",
    "    prev_pos, prev_name = (0, 'header')\n",
    "    parsed = []\n",
    "    \n",
    "    for span, span_end, name in sections:\n",
    "\n",
    "        if span - prev_pos <= 0:\n",
    "            continue\n",
    "            \n",
    "\n",
    "        text = source[prev_pos:span]\n",
    "        if prev_pos > begin_doc:\n",
    "            text = r\"\\n\\begin{document}\" + text + r\"\\n\\end{document}\"\n",
    "        else:\n",
    "            text = text + r\"\\n\\end{document}\"\n",
    "        try:\n",
    "            #print(f\"{prev_pos}:{prev_name}-->{span}:{name} check... \", end='')\n",
    "            parsed.append(TexSoup(text, tolerance=1))  # allow not ending env\n",
    "            display(Markdown(f\"**[OK]** - *{prev_pos}*:{prev_name} &rarr; *{span}*:{name}\"))\n",
    "            # print(\"ok\")\n",
    "\n",
    "            prev_pos = span\n",
    "            prev_name = name\n",
    "        except:\n",
    "            # print(f\"error between {prev_pos} and {span}\")\n",
    "            display(Markdown(f\"**[ERR]** *{prev_pos}*:{prev_name} &rarr; *{span}*:{name}\"))\n",
    "            problematic_text.append((prev_pos, source[prev_pos:span]))\n",
    "            prev_pos = span\n",
    "            prev_name = name\n",
    "            # raise\n",
    "    return problematic_text, parsed\n",
    "\n",
    "\n",
    "def check_environment(text, offset=0):\n",
    "    \"\"\" Check environment \"\"\"\n",
    "    env = re.compile(r\"\\\\begin\\{(?P<env>.*)\\}(.*)\\\\end\\{(?P=env)\\}\", re.DOTALL)\n",
    "\n",
    "    for match in env.finditer(text):\n",
    "        beg, end = match.span()\n",
    "        beg += offset\n",
    "        end += offset\n",
    "        envname = match.groups()[0]\n",
    "        try:\n",
    "            latex.TexSoup(match.group())\n",
    "        except Exception as e:\n",
    "            display(e)\n",
    "            print(f\"Error in {envname:s} between {beg} and {end}\")\n",
    "            return match.groups()[1], beg, end"
   ]
  },
  {
   "cell_type": "raw",
   "id": "2315e835",
   "metadata": {
    "papermill": {
     "duration": 0.011149,
     "end_time": "2022-08-19T15:21:10.804476",
     "exception": false,
     "start_time": "2022-08-19T15:21:10.793327",
     "status": "completed"
    },
    "scrolled": false,
    "tags": []
   },
   "source": [
    "import importlib\n",
    "importlib.reload(latex)\n",
    "which = \"2204.03253\"\n",
    "paper_id = f'{which:s}'\n",
    "folder = f'tmp_{paper_id:s}'\n",
    "\n",
    "if not os.path.isdir(folder):\n",
    "    folder = retrieve_document_source(f\"{paper_id}\", f'tmp_{paper_id}')\n",
    "\n",
    "try:\n",
    "    doc = latex.LatexDocument(folder, validation=validation)    \n",
    "except AffiliationError as affilerror:\n",
    "    msg = f\"ArXiv:{paper_id:s} is not an MPIA paper... \" + str(affilerror)\n",
    "    print(msg)\n",
    "\n",
    "\n",
    "# Hack because sometimes author parsing does not work well\n",
    "if (len(doc.authors) != len(paper['authors'])):\n",
    "    doc._authors = paper['authors']\n",
    "if (doc.abstract) in (None, ''):\n",
    "    doc._abstract = paper['abstract']\n",
    "\n",
    "doc.comment = get_markdown_badge(paper_id) + \" _\" + paper['comments'] + \"_\"\n",
    "doc.highlight_authors_in_list(hl_list)\n",
    "\n",
    "full_md = doc.generate_markdown_text()"
   ]
  },
  {
   "cell_type": "raw",
   "id": "dd3781db",
   "metadata": {
    "papermill": {
     "duration": 0.011406,
     "end_time": "2022-08-19T15:21:10.827392",
     "exception": false,
     "start_time": "2022-08-19T15:21:10.815986",
     "status": "completed"
    },
    "scrolled": false,
    "tags": []
   },
   "source": [
    "doc"
   ]
  },
  {
   "cell_type": "raw",
   "id": "c6eed834",
   "metadata": {
    "papermill": {
     "duration": 0.010943,
     "end_time": "2022-08-19T15:21:10.849911",
     "exception": false,
     "start_time": "2022-08-19T15:21:10.838968",
     "status": "completed"
    },
    "tags": []
   },
   "source": [
    "# [check_environment(k) for k in bracket_error(doc.source)]\n",
    "_, _, a = latex.get_content_per_section(doc.source, verbose=True)\n",
    "if not a:\n",
    "    print(\"no issues per section\")\n",
    "for ak in a:\n",
    "    r = check_environment(ak[1], offset=ak[0])\n",
    "    print(r[1], r[2])\n",
    "    print(r[0])"
   ]
  },
  {
   "cell_type": "code",
   "execution_count": null,
   "id": "71ce768a",
   "metadata": {
    "papermill": {
     "duration": 0.011222,
     "end_time": "2022-08-19T15:21:10.872519",
     "exception": false,
     "start_time": "2022-08-19T15:21:10.861297",
     "status": "completed"
    },
    "tags": []
   },
   "outputs": [],
   "source": []
  }
 ],
 "metadata": {
  "kernelspec": {
   "display_name": "Python 3 (ipykernel)",
   "language": "python",
   "name": "python3"
  },
  "language_info": {
   "codemirror_mode": {
    "name": "ipython",
    "version": 3
   },
   "file_extension": ".py",
   "mimetype": "text/x-python",
   "name": "python",
   "nbconvert_exporter": "python",
   "pygments_lexer": "ipython3",
   "version": "3.9.13"
  },
  "papermill": {
   "default_parameters": {},
   "duration": 216.132488,
   "end_time": "2022-08-19T15:21:11.102741",
   "environment_variables": {},
   "exception": null,
   "input_path": "MPIA daily digest.ipynb",
   "output_path": "log.ipynb",
   "parameters": {},
   "start_time": "2022-08-19T15:17:34.970253",
   "version": "2.4.0"
  },
  "widgets": {
   "application/vnd.jupyter.widget-state+json": {
    "state": {
     "0105fb318b2c4ab5a3a408c217010880": {
      "model_module": "@jupyter-widgets/controls",
      "model_module_version": "2.0.0",
      "model_name": "ProgressStyleModel",
      "state": {
       "_model_module": "@jupyter-widgets/controls",
       "_model_module_version": "2.0.0",
       "_model_name": "ProgressStyleModel",
       "_view_count": null,
       "_view_module": "@jupyter-widgets/base",
       "_view_module_version": "2.0.0",
       "_view_name": "StyleView",
       "bar_color": null,
       "description_width": ""
      }
     },
     "11bba92b49ce4dc5805d8d35cd3d47b0": {
      "model_module": "@jupyter-widgets/controls",
      "model_module_version": "2.0.0",
      "model_name": "HTMLModel",
      "state": {
       "_dom_classes": [],
       "_model_module": "@jupyter-widgets/controls",
       "_model_module_version": "2.0.0",
       "_model_name": "HTMLModel",
       "_view_count": null,
       "_view_module": "@jupyter-widgets/controls",
       "_view_module_version": "2.0.0",
       "_view_name": "HTMLView",
       "description": "",
       "description_allow_html": false,
       "layout": "IPY_MODEL_cafbb02e31d8466b8dfd3a18774a58af",
       "placeholder": "​",
       "style": "IPY_MODEL_f91d568bf1854d559fa96061fe764b75",
       "tabbable": null,
       "tooltip": null,
       "value": " 18/18 [03:06&lt;00:00,  9.98s/it]"
      }
     },
     "1cbabf2ecf9e42bfaf6a3ce7f074da60": {
      "model_module": "@jupyter-widgets/controls",
      "model_module_version": "2.0.0",
      "model_name": "HBoxModel",
      "state": {
       "_dom_classes": [],
       "_model_module": "@jupyter-widgets/controls",
       "_model_module_version": "2.0.0",
       "_model_name": "HBoxModel",
       "_view_count": null,
       "_view_module": "@jupyter-widgets/controls",
       "_view_module_version": "2.0.0",
       "_view_name": "HBoxView",
       "box_style": "",
       "children": [
        "IPY_MODEL_d2b5201802114007982422eaf5150115",
        "IPY_MODEL_9f7b41b272274b42bfa9428d56e9845e",
        "IPY_MODEL_11bba92b49ce4dc5805d8d35cd3d47b0"
       ],
       "layout": "IPY_MODEL_21fbc6ec357f405db5b8ed0c46380852",
       "tabbable": null,
       "tooltip": null
      }
     },
     "1dcc6b0406bd447c982e7869d62c844b": {
      "model_module": "@jupyter-widgets/controls",
      "model_module_version": "2.0.0",
      "model_name": "HTMLStyleModel",
      "state": {
       "_model_module": "@jupyter-widgets/controls",
       "_model_module_version": "2.0.0",
       "_model_name": "HTMLStyleModel",
       "_view_count": null,
       "_view_module": "@jupyter-widgets/base",
       "_view_module_version": "2.0.0",
       "_view_name": "StyleView",
       "background": null,
       "description_width": "",
       "font_size": null,
       "text_color": null
      }
     },
     "21fbc6ec357f405db5b8ed0c46380852": {
      "model_module": "@jupyter-widgets/base",
      "model_module_version": "2.0.0",
      "model_name": "LayoutModel",
      "state": {
       "_model_module": "@jupyter-widgets/base",
       "_model_module_version": "2.0.0",
       "_model_name": "LayoutModel",
       "_view_count": null,
       "_view_module": "@jupyter-widgets/base",
       "_view_module_version": "2.0.0",
       "_view_name": "LayoutView",
       "align_content": null,
       "align_items": null,
       "align_self": null,
       "border_bottom": null,
       "border_left": null,
       "border_right": null,
       "border_top": null,
       "bottom": null,
       "display": null,
       "flex": null,
       "flex_flow": null,
       "grid_area": null,
       "grid_auto_columns": null,
       "grid_auto_flow": null,
       "grid_auto_rows": null,
       "grid_column": null,
       "grid_gap": null,
       "grid_row": null,
       "grid_template_areas": null,
       "grid_template_columns": null,
       "grid_template_rows": null,
       "height": null,
       "justify_content": null,
       "justify_items": null,
       "left": null,
       "margin": null,
       "max_height": null,
       "max_width": null,
       "min_height": null,
       "min_width": null,
       "object_fit": null,
       "object_position": null,
       "order": null,
       "overflow": null,
       "padding": null,
       "right": null,
       "top": null,
       "visibility": null,
       "width": null
      }
     },
     "9f7b41b272274b42bfa9428d56e9845e": {
      "model_module": "@jupyter-widgets/controls",
      "model_module_version": "2.0.0",
      "model_name": "FloatProgressModel",
      "state": {
       "_dom_classes": [],
       "_model_module": "@jupyter-widgets/controls",
       "_model_module_version": "2.0.0",
       "_model_name": "FloatProgressModel",
       "_view_count": null,
       "_view_module": "@jupyter-widgets/controls",
       "_view_module_version": "2.0.0",
       "_view_name": "ProgressView",
       "bar_style": "success",
       "description": "",
       "description_allow_html": false,
       "layout": "IPY_MODEL_e3d3b77eb27642f181fe7a2280ce7764",
       "max": 18.0,
       "min": 0.0,
       "orientation": "horizontal",
       "style": "IPY_MODEL_0105fb318b2c4ab5a3a408c217010880",
       "tabbable": null,
       "tooltip": null,
       "value": 18.0
      }
     },
     "cafbb02e31d8466b8dfd3a18774a58af": {
      "model_module": "@jupyter-widgets/base",
      "model_module_version": "2.0.0",
      "model_name": "LayoutModel",
      "state": {
       "_model_module": "@jupyter-widgets/base",
       "_model_module_version": "2.0.0",
       "_model_name": "LayoutModel",
       "_view_count": null,
       "_view_module": "@jupyter-widgets/base",
       "_view_module_version": "2.0.0",
       "_view_name": "LayoutView",
       "align_content": null,
       "align_items": null,
       "align_self": null,
       "border_bottom": null,
       "border_left": null,
       "border_right": null,
       "border_top": null,
       "bottom": null,
       "display": null,
       "flex": null,
       "flex_flow": null,
       "grid_area": null,
       "grid_auto_columns": null,
       "grid_auto_flow": null,
       "grid_auto_rows": null,
       "grid_column": null,
       "grid_gap": null,
       "grid_row": null,
       "grid_template_areas": null,
       "grid_template_columns": null,
       "grid_template_rows": null,
       "height": null,
       "justify_content": null,
       "justify_items": null,
       "left": null,
       "margin": null,
       "max_height": null,
       "max_width": null,
       "min_height": null,
       "min_width": null,
       "object_fit": null,
       "object_position": null,
       "order": null,
       "overflow": null,
       "padding": null,
       "right": null,
       "top": null,
       "visibility": null,
       "width": null
      }
     },
     "d2b5201802114007982422eaf5150115": {
      "model_module": "@jupyter-widgets/controls",
      "model_module_version": "2.0.0",
      "model_name": "HTMLModel",
      "state": {
       "_dom_classes": [],
       "_model_module": "@jupyter-widgets/controls",
       "_model_module_version": "2.0.0",
       "_model_name": "HTMLModel",
       "_view_count": null,
       "_view_module": "@jupyter-widgets/controls",
       "_view_module_version": "2.0.0",
       "_view_name": "HTMLView",
       "description": "",
       "description_allow_html": false,
       "layout": "IPY_MODEL_f782ba35818743c8b9da8d032965af0a",
       "placeholder": "​",
       "style": "IPY_MODEL_1dcc6b0406bd447c982e7869d62c844b",
       "tabbable": null,
       "tooltip": null,
       "value": "100%"
      }
     },
     "e3d3b77eb27642f181fe7a2280ce7764": {
      "model_module": "@jupyter-widgets/base",
      "model_module_version": "2.0.0",
      "model_name": "LayoutModel",
      "state": {
       "_model_module": "@jupyter-widgets/base",
       "_model_module_version": "2.0.0",
       "_model_name": "LayoutModel",
       "_view_count": null,
       "_view_module": "@jupyter-widgets/base",
       "_view_module_version": "2.0.0",
       "_view_name": "LayoutView",
       "align_content": null,
       "align_items": null,
       "align_self": null,
       "border_bottom": null,
       "border_left": null,
       "border_right": null,
       "border_top": null,
       "bottom": null,
       "display": null,
       "flex": null,
       "flex_flow": null,
       "grid_area": null,
       "grid_auto_columns": null,
       "grid_auto_flow": null,
       "grid_auto_rows": null,
       "grid_column": null,
       "grid_gap": null,
       "grid_row": null,
       "grid_template_areas": null,
       "grid_template_columns": null,
       "grid_template_rows": null,
       "height": null,
       "justify_content": null,
       "justify_items": null,
       "left": null,
       "margin": null,
       "max_height": null,
       "max_width": null,
       "min_height": null,
       "min_width": null,
       "object_fit": null,
       "object_position": null,
       "order": null,
       "overflow": null,
       "padding": null,
       "right": null,
       "top": null,
       "visibility": null,
       "width": null
      }
     },
     "f782ba35818743c8b9da8d032965af0a": {
      "model_module": "@jupyter-widgets/base",
      "model_module_version": "2.0.0",
      "model_name": "LayoutModel",
      "state": {
       "_model_module": "@jupyter-widgets/base",
       "_model_module_version": "2.0.0",
       "_model_name": "LayoutModel",
       "_view_count": null,
       "_view_module": "@jupyter-widgets/base",
       "_view_module_version": "2.0.0",
       "_view_name": "LayoutView",
       "align_content": null,
       "align_items": null,
       "align_self": null,
       "border_bottom": null,
       "border_left": null,
       "border_right": null,
       "border_top": null,
       "bottom": null,
       "display": null,
       "flex": null,
       "flex_flow": null,
       "grid_area": null,
       "grid_auto_columns": null,
       "grid_auto_flow": null,
       "grid_auto_rows": null,
       "grid_column": null,
       "grid_gap": null,
       "grid_row": null,
       "grid_template_areas": null,
       "grid_template_columns": null,
       "grid_template_rows": null,
       "height": null,
       "justify_content": null,
       "justify_items": null,
       "left": null,
       "margin": null,
       "max_height": null,
       "max_width": null,
       "min_height": null,
       "min_width": null,
       "object_fit": null,
       "object_position": null,
       "order": null,
       "overflow": null,
       "padding": null,
       "right": null,
       "top": null,
       "visibility": null,
       "width": null
      }
     },
     "f91d568bf1854d559fa96061fe764b75": {
      "model_module": "@jupyter-widgets/controls",
      "model_module_version": "2.0.0",
      "model_name": "HTMLStyleModel",
      "state": {
       "_model_module": "@jupyter-widgets/controls",
       "_model_module_version": "2.0.0",
       "_model_name": "HTMLStyleModel",
       "_view_count": null,
       "_view_module": "@jupyter-widgets/base",
       "_view_module_version": "2.0.0",
       "_view_name": "StyleView",
       "background": null,
       "description_width": "",
       "font_size": null,
       "text_color": null
      }
     }
    },
    "version_major": 2,
    "version_minor": 0
   }
  }
 },
 "nbformat": 4,
 "nbformat_minor": 5
}