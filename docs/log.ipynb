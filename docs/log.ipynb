{
 "cells": [
  {
   "cell_type": "markdown",
   "id": "92bcb855",
   "metadata": {
    "papermill": {
     "duration": 0.005859,
     "end_time": "2022-08-23T07:10:36.465361",
     "exception": false,
     "start_time": "2022-08-23T07:10:36.459502",
     "status": "completed"
    },
    "tags": []
   },
   "source": [
    "# MPIA Arxiv on Deck 2\n",
    "\n",
    "Contains the steps to produce the paper extractions."
   ]
  },
  {
   "cell_type": "code",
   "execution_count": 1,
   "id": "3a0d6e11",
   "metadata": {
    "execution": {
     "iopub.execute_input": "2022-08-23T07:10:36.475374Z",
     "iopub.status.busy": "2022-08-23T07:10:36.474861Z",
     "iopub.status.idle": "2022-08-23T07:10:36.646022Z",
     "shell.execute_reply": "2022-08-23T07:10:36.645323Z"
    },
    "papermill": {
     "duration": 0.178794,
     "end_time": "2022-08-23T07:10:36.648397",
     "exception": false,
     "start_time": "2022-08-23T07:10:36.469603",
     "status": "completed"
    },
    "tags": []
   },
   "outputs": [],
   "source": [
    "# Imports\n",
    "import os\n",
    "from IPython.display import Markdown, display\n",
    "from tqdm.notebook import tqdm\n",
    "import warnings\n",
    "from PIL import Image \n",
    "\n",
    "# requires arxiv_on_deck_2\n",
    "\n",
    "from arxiv_on_deck_2.arxiv2 import (get_new_papers, \n",
    "                                    get_paper_from_identifier,\n",
    "                                    retrieve_document_source, \n",
    "                                    get_markdown_badge)\n",
    "from arxiv_on_deck_2 import (latex, \n",
    "                             mpia,\n",
    "                             highlight_authors_in_list)\n",
    "\n",
    "# Sometimes images are really big\n",
    "Image.MAX_IMAGE_PIXELS = 1000000000 "
   ]
  },
  {
   "cell_type": "code",
   "execution_count": 2,
   "id": "22aa9d44",
   "metadata": {
    "execution": {
     "iopub.execute_input": "2022-08-23T07:10:36.658396Z",
     "iopub.status.busy": "2022-08-23T07:10:36.657887Z",
     "iopub.status.idle": "2022-08-23T07:10:36.662812Z",
     "shell.execute_reply": "2022-08-23T07:10:36.662190Z"
    },
    "papermill": {
     "duration": 0.01185,
     "end_time": "2022-08-23T07:10:36.664421",
     "exception": false,
     "start_time": "2022-08-23T07:10:36.652571",
     "status": "completed"
    },
    "tags": []
   },
   "outputs": [],
   "source": [
    "# Some useful definitions.\n",
    "\n",
    "class AffiliationWarning(UserWarning):\n",
    "    pass\n",
    "\n",
    "class AffiliationError(RuntimeError):\n",
    "    pass\n",
    "\n",
    "def validation(source: str):\n",
    "    \"\"\"Raises error paper during parsing of source file\n",
    "    \n",
    "    Allows checks before parsing TeX code.\n",
    "    \n",
    "    Raises AffiliationWarning\n",
    "    \"\"\"\n",
    "    check = mpia.affiliation_verifications(source, verbose=True)\n",
    "    if check is not True:\n",
    "        raise AffiliationError(\"mpia.affiliation_verifications: \" + check)\n",
    "\n",
    "        \n",
    "warnings.simplefilter('always', AffiliationWarning)"
   ]
  },
  {
   "cell_type": "code",
   "execution_count": 3,
   "id": "14622700",
   "metadata": {
    "execution": {
     "iopub.execute_input": "2022-08-23T07:10:36.673638Z",
     "iopub.status.busy": "2022-08-23T07:10:36.673079Z",
     "iopub.status.idle": "2022-08-23T07:10:36.676932Z",
     "shell.execute_reply": "2022-08-23T07:10:36.676287Z"
    },
    "papermill": {
     "duration": 0.010416,
     "end_time": "2022-08-23T07:10:36.678679",
     "exception": false,
     "start_time": "2022-08-23T07:10:36.668263",
     "status": "completed"
    },
    "tags": []
   },
   "outputs": [],
   "source": [
    "# additional CSS to consider. \n",
    "# TODO: Current into each exported file. \n",
    "#       This should be set once into the webpages directly.\n",
    "#       With only the class/id definitions in the .md files.\n",
    "\n",
    "debug_html = \"\"\"\n",
    "<style>\n",
    "#wrap{ overflow:auto; }\n",
    "#fig1{ background:yellow; width:100%; float:left; padding:5px;  }\n",
    "#fig2{ background:red; width:50%; float:left; clear:left; padding:5px;  }\n",
    "#fig3{ background:green; width:50%; float:left; padding:5px;   }\n",
    ".macros{ background:yellow; visibility:visible;}\n",
    "h1 {margin: 0 0 0 0;}\n",
    "mark {background-color:#fff3b6;}\n",
    "img {object-fit:contain; max-height:250px; display:inline-block; text-align: center;}\n",
    "</style>\n",
    "\"\"\" \n",
    "html = \"\"\"\n",
    "<style>\n",
    "#wrap{ overflow:auto; }\n",
    "#fig1{ width:100%; float:left; padding: 5px;  }\n",
    "#fig2{ width:50%; float:left; clear:left; padding: 5px;  }\n",
    "#fig3{ width:50%; float:left; padding: 5px;  }\n",
    ".macros{ visibility:hidden; height:0px; }\n",
    "h1 {margin: 0em 0 0 0;}\n",
    "mark {background-color:#fff3b6;}\n",
    "img {object-fit:contain; max-height:250px; display:inline-block; text-align: center;}\n",
    "</style>\n",
    "\"\"\""
   ]
  },
  {
   "cell_type": "markdown",
   "id": "14bd6310",
   "metadata": {
    "papermill": {
     "duration": 0.003896,
     "end_time": "2022-08-23T07:10:36.686403",
     "exception": false,
     "start_time": "2022-08-23T07:10:36.682507",
     "status": "completed"
    },
    "tags": []
   },
   "source": [
    "## get list of arxiv paper candidates\n",
    "\n",
    "We use the MPIA mitarbeiter list webpage from mpia.de to get author names\n",
    "We then get all new papers from Arxiv and match authors"
   ]
  },
  {
   "cell_type": "code",
   "execution_count": 4,
   "id": "2645e73a",
   "metadata": {
    "execution": {
     "iopub.execute_input": "2022-08-23T07:10:36.697011Z",
     "iopub.status.busy": "2022-08-23T07:10:36.696613Z",
     "iopub.status.idle": "2022-08-23T07:11:01.097583Z",
     "shell.execute_reply": "2022-08-23T07:11:01.095727Z"
    },
    "papermill": {
     "duration": 24.407806,
     "end_time": "2022-08-23T07:11:01.099514",
     "exception": false,
     "start_time": "2022-08-23T07:10:36.691708",
     "status": "completed"
    },
    "tags": []
   },
   "outputs": [
    {
     "name": "stdout",
     "output_type": "stream",
     "text": [
      "Arxiv has 63 new papers today\n",
      "          23 with possible author matches\n"
     ]
    }
   ],
   "source": [
    "# get list from MPIA website\n",
    "# it automatically filters identified non-scientists :func:`mpia.filter_non_scientists`\n",
    "mpia_authors = mpia.get_mpia_mitarbeiter_list()\n",
    "new_papers = get_new_papers()\n",
    "# add manual references\n",
    "add_paper_refs = []\n",
    "new_papers.extend([get_paper_from_identifier(k) for k in add_paper_refs])\n",
    "\n",
    "# select only papers with matching author names and highlight authors\n",
    "hl_list = [k[0] for k in mpia_authors]\n",
    "\n",
    "candidates = []\n",
    "for paperk in new_papers:\n",
    "    hl_authors = highlight_authors_in_list(paperk['authors'], hl_list)\n",
    "    matches = [(hl, orig) for hl, orig in zip(hl_authors, paperk['authors']) if 'mark' in hl]\n",
    "    paperk['authors'] = hl_authors\n",
    "    if matches:\n",
    "        candidates.append(paperk)\n",
    "print(\"\"\"Arxiv has {0:,d} new papers today\"\"\".format(len(new_papers)))        \n",
    "print(\"\"\"          {0:,d} with possible author matches\"\"\".format(len(candidates)))"
   ]
  },
  {
   "cell_type": "markdown",
   "id": "3543b34a",
   "metadata": {
    "papermill": {
     "duration": 0.004552,
     "end_time": "2022-08-23T07:11:01.109212",
     "exception": false,
     "start_time": "2022-08-23T07:11:01.104660",
     "status": "completed"
    },
    "tags": []
   },
   "source": [
    "# Parse sources and generate relevant outputs\n",
    "\n",
    "From the candidates, we do the following steps:\n",
    "* get their tarball from ArXiv (and extract data)\n",
    "* find the main .tex file: find one with \\documentclass{...} (sometimes it's non trivial)\n",
    "* Check affiliations with :func:`validation`, which uses :func:`mpia.affiliation_verifications`\n",
    "* If passing the affiliations: we parse the .tex source\n",
    "   * inject sub-documents into the main (flatten the main document)\n",
    "   * parse structure, extract information (title, abstract, authors, figures...)\n",
    "   * handles `\\graphicspath` if provided\n",
    "* Generate the .md document."
   ]
  },
  {
   "cell_type": "code",
   "execution_count": 5,
   "id": "9576b79e",
   "metadata": {
    "execution": {
     "iopub.execute_input": "2022-08-23T07:11:01.119431Z",
     "iopub.status.busy": "2022-08-23T07:11:01.118940Z",
     "iopub.status.idle": "2022-08-23T07:16:48.538161Z",
     "shell.execute_reply": "2022-08-23T07:16:48.536128Z"
    },
    "papermill": {
     "duration": 347.426375,
     "end_time": "2022-08-23T07:16:48.539759",
     "exception": false,
     "start_time": "2022-08-23T07:11:01.113384",
     "status": "completed"
    },
    "scrolled": false,
    "tags": []
   },
   "outputs": [
    {
     "data": {
      "application/json": {
       "ascii": false,
       "bar_format": null,
       "colour": null,
       "elapsed": 0.02315378189086914,
       "initial": 0,
       "n": 0,
       "ncols": null,
       "nrows": null,
       "postfix": null,
       "prefix": "",
       "rate": null,
       "total": 22,
       "unit": "it",
       "unit_divisor": 1000,
       "unit_scale": false
      },
      "application/vnd.jupyter.widget-view+json": {
       "model_id": "29527c23cb7e4d9da5bf7777ace438c4",
       "version_major": 2,
       "version_minor": 0
      },
      "text/plain": [
       "  0%|          | 0/22 [00:00<?, ?it/s]"
      ]
     },
     "metadata": {},
     "output_type": "display_data"
    },
    {
     "name": "stdout",
     "output_type": "stream",
     "text": [
      "Retrieving document from  https://arxiv.org/e-print/2208.09503\n"
     ]
    },
    {
     "name": "stdout",
     "output_type": "stream",
     "text": [
      "extracting tarball to tmp_2208.09503..."
     ]
    },
    {
     "name": "stdout",
     "output_type": "stream",
     "text": [
      " done.\n"
     ]
    },
    {
     "name": "stderr",
     "output_type": "stream",
     "text": [
      "/opt/hostedtoolcache/Python/3.9.13/x64/lib/python3.9/site-packages/arxiv_on_deck_2/latex.py:118: LatexWarning: attempting recovering figure j1036_psf_res_mod_4panel_grey\n",
      "  warnings.warn(LatexWarning(f'attempting recovering figure {image}'))\n"
     ]
    },
    {
     "name": "stderr",
     "output_type": "stream",
     "text": [
      "/opt/hostedtoolcache/Python/3.9.13/x64/lib/python3.9/site-packages/arxiv_on_deck_2/latex.py:118: LatexWarning: attempting recovering figure J0437_RV\n",
      "  warnings.warn(LatexWarning(f'attempting recovering figure {image}'))\n",
      "/opt/hostedtoolcache/Python/3.9.13/x64/lib/python3.9/site-packages/arxiv_on_deck_2/latex.py:118: LatexWarning: attempting recovering figure J0459_RV\n",
      "  warnings.warn(LatexWarning(f'attempting recovering figure {image}'))\n",
      "/opt/hostedtoolcache/Python/3.9.13/x64/lib/python3.9/site-packages/arxiv_on_deck_2/latex.py:118: LatexWarning: attempting recovering figure J0532_RV\n",
      "  warnings.warn(LatexWarning(f'attempting recovering figure {image}'))\n",
      "/opt/hostedtoolcache/Python/3.9.13/x64/lib/python3.9/site-packages/arxiv_on_deck_2/latex.py:118: LatexWarning: attempting recovering figure J0613_RV\n",
      "  warnings.warn(LatexWarning(f'attempting recovering figure {image}'))\n",
      "/opt/hostedtoolcache/Python/3.9.13/x64/lib/python3.9/site-packages/arxiv_on_deck_2/latex.py:118: LatexWarning: attempting recovering figure J0728_RV\n",
      "  warnings.warn(LatexWarning(f'attempting recovering figure {image}'))\n",
      "/opt/hostedtoolcache/Python/3.9.13/x64/lib/python3.9/site-packages/arxiv_on_deck_2/latex.py:118: LatexWarning: attempting recovering figure J0916_RV\n",
      "  warnings.warn(LatexWarning(f'attempting recovering figure {image}'))\n",
      "/opt/hostedtoolcache/Python/3.9.13/x64/lib/python3.9/site-packages/arxiv_on_deck_2/latex.py:118: LatexWarning: attempting recovering figure J2317_RV\n",
      "  warnings.warn(LatexWarning(f'attempting recovering figure {image}'))\n"
     ]
    },
    {
     "name": "stderr",
     "output_type": "stream",
     "text": [
      "/opt/hostedtoolcache/Python/3.9.13/x64/lib/python3.9/site-packages/arxiv_on_deck_2/latex.py:118: LatexWarning: attempting recovering figure isochrone_analysis_all_filled\n",
      "  warnings.warn(LatexWarning(f'attempting recovering figure {image}'))\n"
     ]
    },
    {
     "name": "stderr",
     "output_type": "stream",
     "text": [
      "/opt/hostedtoolcache/Python/3.9.13/x64/lib/python3.9/site-packages/arxiv_on_deck_2/latex.py:118: LatexWarning: attempting recovering figure I0008_quickplot_orbit\n",
      "  warnings.warn(LatexWarning(f'attempting recovering figure {image}'))\n"
     ]
    },
    {
     "name": "stderr",
     "output_type": "stream",
     "text": [
      "/opt/hostedtoolcache/Python/3.9.13/x64/lib/python3.9/site-packages/arxiv_on_deck_2/latex.py:118: LatexWarning: attempting recovering figure J0111_quickplot_orbit\n",
      "  warnings.warn(LatexWarning(f'attempting recovering figure {image}'))\n"
     ]
    },
    {
     "name": "stderr",
     "output_type": "stream",
     "text": [
      "/opt/hostedtoolcache/Python/3.9.13/x64/lib/python3.9/site-packages/arxiv_on_deck_2/latex.py:118: LatexWarning: attempting recovering figure J0225_quickplot_orbit\n",
      "  warnings.warn(LatexWarning(f'attempting recovering figure {image}'))\n"
     ]
    },
    {
     "name": "stderr",
     "output_type": "stream",
     "text": [
      "/opt/hostedtoolcache/Python/3.9.13/x64/lib/python3.9/site-packages/arxiv_on_deck_2/latex.py:118: LatexWarning: attempting recovering figure J0245_quickplot_orbit\n",
      "  warnings.warn(LatexWarning(f'attempting recovering figure {image}'))\n"
     ]
    },
    {
     "name": "stderr",
     "output_type": "stream",
     "text": [
      "/opt/hostedtoolcache/Python/3.9.13/x64/lib/python3.9/site-packages/arxiv_on_deck_2/latex.py:118: LatexWarning: attempting recovering figure J0437_quickplot_orbit\n",
      "  warnings.warn(LatexWarning(f'attempting recovering figure {image}'))\n"
     ]
    },
    {
     "name": "stderr",
     "output_type": "stream",
     "text": [
      "/opt/hostedtoolcache/Python/3.9.13/x64/lib/python3.9/site-packages/arxiv_on_deck_2/latex.py:118: LatexWarning: attempting recovering figure J0459_quickplot_orbit\n",
      "  warnings.warn(LatexWarning(f'attempting recovering figure {image}'))\n"
     ]
    },
    {
     "name": "stderr",
     "output_type": "stream",
     "text": [
      "/opt/hostedtoolcache/Python/3.9.13/x64/lib/python3.9/site-packages/arxiv_on_deck_2/latex.py:118: LatexWarning: attempting recovering figure J0532_quickplot_orbit\n",
      "  warnings.warn(LatexWarning(f'attempting recovering figure {image}'))\n"
     ]
    },
    {
     "name": "stderr",
     "output_type": "stream",
     "text": [
      "/opt/hostedtoolcache/Python/3.9.13/x64/lib/python3.9/site-packages/arxiv_on_deck_2/latex.py:118: LatexWarning: attempting recovering figure J0611_quickplot_orbit\n",
      "  warnings.warn(LatexWarning(f'attempting recovering figure {image}'))\n"
     ]
    },
    {
     "name": "stderr",
     "output_type": "stream",
     "text": [
      "/opt/hostedtoolcache/Python/3.9.13/x64/lib/python3.9/site-packages/arxiv_on_deck_2/latex.py:118: LatexWarning: attempting recovering figure J0613_quickplot_orbit\n",
      "  warnings.warn(LatexWarning(f'attempting recovering figure {image}'))\n"
     ]
    },
    {
     "name": "stderr",
     "output_type": "stream",
     "text": [
      "/opt/hostedtoolcache/Python/3.9.13/x64/lib/python3.9/site-packages/arxiv_on_deck_2/latex.py:118: LatexWarning: attempting recovering figure J0728_quickplot_orbit\n",
      "  warnings.warn(LatexWarning(f'attempting recovering figure {image}'))\n"
     ]
    },
    {
     "name": "stderr",
     "output_type": "stream",
     "text": [
      "/opt/hostedtoolcache/Python/3.9.13/x64/lib/python3.9/site-packages/arxiv_on_deck_2/latex.py:118: LatexWarning: attempting recovering figure J0907_quickplot_orbit\n",
      "  warnings.warn(LatexWarning(f'attempting recovering figure {image}'))\n"
     ]
    },
    {
     "name": "stderr",
     "output_type": "stream",
     "text": [
      "/opt/hostedtoolcache/Python/3.9.13/x64/lib/python3.9/site-packages/arxiv_on_deck_2/latex.py:118: LatexWarning: attempting recovering figure J0916_quickplot_orbit\n",
      "  warnings.warn(LatexWarning(f'attempting recovering figure {image}'))\n"
     ]
    },
    {
     "name": "stderr",
     "output_type": "stream",
     "text": [
      "/opt/hostedtoolcache/Python/3.9.13/x64/lib/python3.9/site-packages/arxiv_on_deck_2/latex.py:118: LatexWarning: attempting recovering figure J1014_quickplot_orbit\n",
      "  warnings.warn(LatexWarning(f'attempting recovering figure {image}'))\n"
     ]
    },
    {
     "name": "stderr",
     "output_type": "stream",
     "text": [
      "/opt/hostedtoolcache/Python/3.9.13/x64/lib/python3.9/site-packages/arxiv_on_deck_2/latex.py:118: LatexWarning: attempting recovering figure J1036_quickplot_orbit\n",
      "  warnings.warn(LatexWarning(f'attempting recovering figure {image}'))\n"
     ]
    },
    {
     "name": "stderr",
     "output_type": "stream",
     "text": [
      "/opt/hostedtoolcache/Python/3.9.13/x64/lib/python3.9/site-packages/arxiv_on_deck_2/latex.py:118: LatexWarning: attempting recovering figure J2016_quickplot_orbit\n",
      "  warnings.warn(LatexWarning(f'attempting recovering figure {image}'))\n"
     ]
    },
    {
     "name": "stderr",
     "output_type": "stream",
     "text": [
      "/opt/hostedtoolcache/Python/3.9.13/x64/lib/python3.9/site-packages/arxiv_on_deck_2/latex.py:118: LatexWarning: attempting recovering figure J2137_quickplot_orbit\n",
      "  warnings.warn(LatexWarning(f'attempting recovering figure {image}'))\n"
     ]
    },
    {
     "name": "stderr",
     "output_type": "stream",
     "text": [
      "/opt/hostedtoolcache/Python/3.9.13/x64/lib/python3.9/site-packages/arxiv_on_deck_2/latex.py:118: LatexWarning: attempting recovering figure J2317_quickplot_orbit\n",
      "  warnings.warn(LatexWarning(f'attempting recovering figure {image}'))\n"
     ]
    },
    {
     "name": "stderr",
     "output_type": "stream",
     "text": [
      "/opt/hostedtoolcache/Python/3.9.13/x64/lib/python3.9/site-packages/arxiv_on_deck_2/latex.py:118: LatexWarning: attempting recovering figure J232611_quickplot_orbit\n",
      "  warnings.warn(LatexWarning(f'attempting recovering figure {image}'))\n"
     ]
    },
    {
     "name": "stderr",
     "output_type": "stream",
     "text": [
      "/opt/hostedtoolcache/Python/3.9.13/x64/lib/python3.9/site-packages/arxiv_on_deck_2/latex.py:118: LatexWarning: attempting recovering figure J232617_quickplot_orbit\n",
      "  warnings.warn(LatexWarning(f'attempting recovering figure {image}'))\n"
     ]
    },
    {
     "name": "stderr",
     "output_type": "stream",
     "text": [
      "/opt/hostedtoolcache/Python/3.9.13/x64/lib/python3.9/site-packages/arxiv_on_deck_2/latex.py:118: LatexWarning: attempting recovering figure J2349_quickplot_orbit\n",
      "  warnings.warn(LatexWarning(f'attempting recovering figure {image}'))\n"
     ]
    },
    {
     "name": "stderr",
     "output_type": "stream",
     "text": [
      "/opt/hostedtoolcache/Python/3.9.13/x64/lib/python3.9/site-packages/arxiv_on_deck_2/latex.py:118: LatexWarning: attempting recovering figure J0613_Fit\n",
      "  warnings.warn(LatexWarning(f'attempting recovering figure {image}'))\n",
      "/opt/hostedtoolcache/Python/3.9.13/x64/lib/python3.9/site-packages/arxiv_on_deck_2/latex.py:118: LatexWarning: attempting recovering figure J0613_Masses_with_e_par\n",
      "  warnings.warn(LatexWarning(f'attempting recovering figure {image}'))\n"
     ]
    },
    {
     "name": "stderr",
     "output_type": "stream",
     "text": [
      "/opt/hostedtoolcache/Python/3.9.13/x64/lib/python3.9/site-packages/arxiv_on_deck_2/latex.py:118: LatexWarning: attempting recovering figure J0916_CornerPlot\n",
      "  warnings.warn(LatexWarning(f'attempting recovering figure {image}'))\n"
     ]
    },
    {
     "name": "stderr",
     "output_type": "stream",
     "text": [
      "/opt/hostedtoolcache/Python/3.9.13/x64/lib/python3.9/site-packages/arxiv_on_deck_2/latex.py:118: LatexWarning: attempting recovering figure J0916_Fit\n",
      "  warnings.warn(LatexWarning(f'attempting recovering figure {image}'))\n",
      "/opt/hostedtoolcache/Python/3.9.13/x64/lib/python3.9/site-packages/arxiv_on_deck_2/latex.py:118: LatexWarning: attempting recovering figure J0916_Masses_with_e_par\n",
      "  warnings.warn(LatexWarning(f'attempting recovering figure {image}'))\n"
     ]
    },
    {
     "name": "stderr",
     "output_type": "stream",
     "text": [
      "/opt/hostedtoolcache/Python/3.9.13/x64/lib/python3.9/site-packages/arxiv_on_deck_2/latex.py:118: LatexWarning: attempting recovering figure J232617_CornerPlot\n",
      "  warnings.warn(LatexWarning(f'attempting recovering figure {image}'))\n"
     ]
    },
    {
     "name": "stderr",
     "output_type": "stream",
     "text": [
      "/opt/hostedtoolcache/Python/3.9.13/x64/lib/python3.9/site-packages/arxiv_on_deck_2/latex.py:118: LatexWarning: attempting recovering figure J232617_Fit\n",
      "  warnings.warn(LatexWarning(f'attempting recovering figure {image}'))\n",
      "/opt/hostedtoolcache/Python/3.9.13/x64/lib/python3.9/site-packages/arxiv_on_deck_2/latex.py:118: LatexWarning: attempting recovering figure J232617_Mass_with_e_par\n",
      "  warnings.warn(LatexWarning(f'attempting recovering figure {image}'))\n"
     ]
    },
    {
     "name": "stdout",
     "output_type": "stream",
     "text": [
      "Retrieving document from  https://arxiv.org/e-print/2208.09521\n"
     ]
    },
    {
     "name": "stdout",
     "output_type": "stream",
     "text": [
      "extracting tarball to tmp_2208.09521..."
     ]
    },
    {
     "name": "stdout",
     "output_type": "stream",
     "text": [
      " done.\n",
      "Retrieving document from  https://arxiv.org/e-print/2208.09560\n"
     ]
    },
    {
     "name": "stdout",
     "output_type": "stream",
     "text": [
      "extracting tarball to tmp_2208.09560..."
     ]
    },
    {
     "name": "stdout",
     "output_type": "stream",
     "text": [
      " done.\n",
      "Retrieving document from  https://arxiv.org/e-print/2208.09630\n"
     ]
    },
    {
     "name": "stdout",
     "output_type": "stream",
     "text": [
      "extracting tarball to tmp_2208.09630..."
     ]
    },
    {
     "name": "stdout",
     "output_type": "stream",
     "text": [
      " done.\n",
      "Retrieving document from  https://arxiv.org/e-print/2208.09712\n"
     ]
    },
    {
     "name": "stdout",
     "output_type": "stream",
     "text": [
      "extracting tarball to tmp_2208.09712..."
     ]
    },
    {
     "name": "stdout",
     "output_type": "stream",
     "text": [
      " done.\n",
      "Retrieving document from  https://arxiv.org/e-print/2208.09850\n"
     ]
    },
    {
     "name": "stderr",
     "output_type": "stream",
     "text": [
      "/opt/hostedtoolcache/Python/3.9.13/x64/lib/python3.9/site-packages/IPython/core/interactiveshell.py:3398: LatexWarning: Multiple tex files.\n",
      "\n",
      "  exec(code_obj, self.user_global_ns, self.user_ns)\n",
      "/opt/hostedtoolcache/Python/3.9.13/x64/lib/python3.9/site-packages/IPython/core/interactiveshell.py:3398: LatexWarning: Found documentclass in tmp_2208.09712/main.tex\n",
      "\n",
      "  exec(code_obj, self.user_global_ns, self.user_ns)\n",
      "/opt/hostedtoolcache/Python/3.9.13/x64/lib/python3.9/site-packages/arxiv_on_deck_2/latex.py:292: LatexWarning: Latex injecting: 'Tables/cluster_mean_rII_table' from 'tmp_2208.09712/Tables/cluster_mean_rII_table.tex'\n",
      "  warnings.warn(LatexWarning(f\"Latex injecting: '{ext}' from '{subsource}'\"))\n",
      "/opt/hostedtoolcache/Python/3.9.13/x64/lib/python3.9/site-packages/arxiv_on_deck_2/latex.py:292: LatexWarning: Latex injecting: 'Tables/cluster_stellar_results_rII_stub_table' from 'tmp_2208.09712/Tables/cluster_stellar_results_rII_stub_table.tex'\n",
      "  warnings.warn(LatexWarning(f\"Latex injecting: '{ext}' from '{subsource}'\"))\n",
      "/opt/hostedtoolcache/Python/3.9.13/x64/lib/python3.9/site-packages/arxiv_on_deck_2/latex.py:292: LatexWarning: Latex injecting: 'Tables/cluster_orbital_rII_table' from 'tmp_2208.09712/Tables/cluster_orbital_rII_table.tex'\n",
      "  warnings.warn(LatexWarning(f\"Latex injecting: '{ext}' from '{subsource}'\"))\n",
      "/opt/hostedtoolcache/Python/3.9.13/x64/lib/python3.9/site-packages/arxiv_on_deck_2/latex.py:292: LatexWarning: Latex injecting: 'Tables/cluster_mean_rI_table' from 'tmp_2208.09712/Tables/cluster_mean_rI_table.tex'\n",
      "  warnings.warn(LatexWarning(f\"Latex injecting: '{ext}' from '{subsource}'\"))\n",
      "/opt/hostedtoolcache/Python/3.9.13/x64/lib/python3.9/site-packages/arxiv_on_deck_2/latex.py:292: LatexWarning: Latex injecting: 'Tables/cluster_stellar_results_rI_stub_table' from 'tmp_2208.09712/Tables/cluster_stellar_results_rI_stub_table.tex'\n",
      "  warnings.warn(LatexWarning(f\"Latex injecting: '{ext}' from '{subsource}'\"))\n",
      "/opt/hostedtoolcache/Python/3.9.13/x64/lib/python3.9/site-packages/arxiv_on_deck_2/latex.py:292: LatexWarning: Latex injecting: 'Tables/cluster_orbital_rI_table' from 'tmp_2208.09712/Tables/cluster_orbital_rI_table.tex'\n",
      "  warnings.warn(LatexWarning(f\"Latex injecting: '{ext}' from '{subsource}'\"))\n",
      "/opt/hostedtoolcache/Python/3.9.13/x64/lib/python3.9/site-packages/arxiv_on_deck_2/latex.py:292: LatexWarning: Latex injecting: 'Tables/cemp_table' from 'tmp_2208.09712/Tables/cemp_table.tex'\n",
      "  warnings.warn(LatexWarning(f\"Latex injecting: '{ext}' from '{subsource}'\"))\n",
      "/opt/hostedtoolcache/Python/3.9.13/x64/lib/python3.9/site-packages/arxiv_on_deck_2/latex.py:292: LatexWarning: Latex injecting: 'Tables/final_data_description_table' from 'tmp_2208.09712/Tables/final_data_description_table.tex'\n",
      "  warnings.warn(LatexWarning(f\"Latex injecting: '{ext}' from '{subsource}'\"))\n",
      "/opt/hostedtoolcache/Python/3.9.13/x64/lib/python3.9/site-packages/arxiv_on_deck_2/latex.py:292: LatexWarning: Latex injecting: 'Tables/initial_data_description_table' from 'tmp_2208.09712/Tables/initial_data_description_table.tex'\n",
      "  warnings.warn(LatexWarning(f\"Latex injecting: '{ext}' from '{subsource}'\"))\n",
      "/opt/hostedtoolcache/Python/3.9.13/x64/lib/python3.9/site-packages/arxiv_on_deck_2/latex.py:292: LatexWarning: Latex injecting: 'Tables/binomial_probability_table' from 'tmp_2208.09712/Tables/binomial_probability_table.tex'\n",
      "  warnings.warn(LatexWarning(f\"Latex injecting: '{ext}' from '{subsource}'\"))\n",
      "/opt/hostedtoolcache/Python/3.9.13/x64/lib/python3.9/site-packages/arxiv_on_deck_2/latex.py:292: LatexWarning: Latex injecting: 'Tables/binomial_probability_rII_all_3_table' from 'tmp_2208.09712/Tables/binomial_probability_rII_all_3_table.tex'\n",
      "  warnings.warn(LatexWarning(f\"Latex injecting: '{ext}' from '{subsource}'\"))\n",
      "/opt/hostedtoolcache/Python/3.9.13/x64/lib/python3.9/site-packages/arxiv_on_deck_2/latex.py:292: LatexWarning: Latex injecting: 'Tables/binomial_probability_rI_all_table' from 'tmp_2208.09712/Tables/binomial_probability_rI_all_table.tex'\n",
      "  warnings.warn(LatexWarning(f\"Latex injecting: '{ext}' from '{subsource}'\"))\n",
      "/opt/hostedtoolcache/Python/3.9.13/x64/lib/python3.9/site-packages/arxiv_on_deck_2/latex.py:292: LatexWarning: Latex injecting: 'Tables/binomial_probability_rII_all_4_table' from 'tmp_2208.09712/Tables/binomial_probability_rII_all_4_table.tex'\n",
      "  warnings.warn(LatexWarning(f\"Latex injecting: '{ext}' from '{subsource}'\"))\n",
      "/opt/hostedtoolcache/Python/3.9.13/x64/lib/python3.9/site-packages/arxiv_on_deck_2/latex.py:292: LatexWarning: Latex injecting: 'Tables/binomial_probability_rII_combined_table' from 'tmp_2208.09712/Tables/binomial_probability_rII_combined_table.tex'\n",
      "  warnings.warn(LatexWarning(f\"Latex injecting: '{ext}' from '{subsource}'\"))\n",
      "/opt/hostedtoolcache/Python/3.9.13/x64/lib/python3.9/site-packages/arxiv_on_deck_2/latex.py:292: LatexWarning: Latex injecting: 'Tables/binomial_probability_rII_all_table' from 'tmp_2208.09712/Tables/binomial_probability_rII_all_table.tex'\n",
      "  warnings.warn(LatexWarning(f\"Latex injecting: '{ext}' from '{subsource}'\"))\n",
      "/opt/hostedtoolcache/Python/3.9.13/x64/lib/python3.9/site-packages/arxiv_on_deck_2/latex.py:292: LatexWarning: Latex injecting: 'Tables/binomial_probability_rI_combined_table' from 'tmp_2208.09712/Tables/binomial_probability_rI_combined_table.tex'\n",
      "  warnings.warn(LatexWarning(f\"Latex injecting: '{ext}' from '{subsource}'\"))\n",
      "/opt/hostedtoolcache/Python/3.9.13/x64/lib/python3.9/site-packages/arxiv_on_deck_2/latex.py:292: LatexWarning: Latex injecting: 'Tables/binomial_probability_table' from 'tmp_2208.09712/Tables/binomial_probability_table.tex'\n",
      "  warnings.warn(LatexWarning(f\"Latex injecting: '{ext}' from '{subsource}'\"))\n",
      "/opt/hostedtoolcache/Python/3.9.13/x64/lib/python3.9/site-packages/arxiv_on_deck_2/latex.py:292: LatexWarning: Latex injecting: 'Tables/binomial_probability_combined_table' from 'tmp_2208.09712/Tables/binomial_probability_combined_table.tex'\n",
      "  warnings.warn(LatexWarning(f\"Latex injecting: '{ext}' from '{subsource}'\"))\n",
      "/opt/hostedtoolcache/Python/3.9.13/x64/lib/python3.9/site-packages/arxiv_on_deck_2/latex.py:292: LatexWarning: Latex injecting: 'Tables/cluster_mean_table' from 'tmp_2208.09712/Tables/cluster_mean_table.tex'\n",
      "  warnings.warn(LatexWarning(f\"Latex injecting: '{ext}' from '{subsource}'\"))\n",
      "/opt/hostedtoolcache/Python/3.9.13/x64/lib/python3.9/site-packages/arxiv_on_deck_2/latex.py:292: LatexWarning: Latex injecting: 'Tables/interesting_substructure_groups_table' from 'tmp_2208.09712/Tables/interesting_substructure_groups_table.tex'\n",
      "  warnings.warn(LatexWarning(f\"Latex injecting: '{ext}' from '{subsource}'\"))\n",
      "/opt/hostedtoolcache/Python/3.9.13/x64/lib/python3.9/site-packages/arxiv_on_deck_2/latex.py:292: LatexWarning: Latex injecting: 'Tables/interesting_substructure_table' from 'tmp_2208.09712/Tables/interesting_substructure_table.tex'\n",
      "  warnings.warn(LatexWarning(f\"Latex injecting: '{ext}' from '{subsource}'\"))\n",
      "/opt/hostedtoolcache/Python/3.9.13/x64/lib/python3.9/site-packages/arxiv_on_deck_2/latex.py:292: LatexWarning: Latex injecting: 'Tables/substructure_table' from 'tmp_2208.09712/Tables/substructure_table.tex'\n",
      "  warnings.warn(LatexWarning(f\"Latex injecting: '{ext}' from '{subsource}'\"))\n",
      "/opt/hostedtoolcache/Python/3.9.13/x64/lib/python3.9/site-packages/arxiv_on_deck_2/latex.py:292: LatexWarning: Latex injecting: 'Tables/cluster_orbital_table' from 'tmp_2208.09712/Tables/cluster_orbital_table.tex'\n",
      "  warnings.warn(LatexWarning(f\"Latex injecting: '{ext}' from '{subsource}'\"))\n",
      "/opt/hostedtoolcache/Python/3.9.13/x64/lib/python3.9/site-packages/arxiv_on_deck_2/latex.py:292: LatexWarning: Latex injecting: 'Tables/cluster_stellar_results_stub_table' from 'tmp_2208.09712/Tables/cluster_stellar_results_stub_table.tex'\n",
      "  warnings.warn(LatexWarning(f\"Latex injecting: '{ext}' from '{subsource}'\"))\n",
      "/opt/hostedtoolcache/Python/3.9.13/x64/lib/python3.9/site-packages/arxiv_on_deck_2/latex.py:292: LatexWarning: Latex injecting: 'Tables/cluster_summary_table' from 'tmp_2208.09712/Tables/cluster_summary_table.tex'\n",
      "  warnings.warn(LatexWarning(f\"Latex injecting: '{ext}' from '{subsource}'\"))\n"
     ]
    },
    {
     "name": "stdout",
     "output_type": "stream",
     "text": [
      "extracting tarball to tmp_2208.09850..."
     ]
    },
    {
     "name": "stdout",
     "output_type": "stream",
     "text": [
      " done.\n",
      "Retrieving document from  https://arxiv.org/e-print/2208.09877\n"
     ]
    },
    {
     "name": "stdout",
     "output_type": "stream",
     "text": [
      "extracting tarball to tmp_2208.09877..."
     ]
    },
    {
     "name": "stdout",
     "output_type": "stream",
     "text": [
      " done.\n"
     ]
    },
    {
     "name": "stderr",
     "output_type": "stream",
     "text": [
      "/opt/hostedtoolcache/Python/3.9.13/x64/lib/python3.9/site-packages/IPython/core/interactiveshell.py:3398: LatexWarning: Multiple tex files.\n",
      "\n",
      "  exec(code_obj, self.user_global_ns, self.user_ns)\n",
      "/opt/hostedtoolcache/Python/3.9.13/x64/lib/python3.9/site-packages/IPython/core/interactiveshell.py:3398: LatexWarning: Found documentclass in tmp_2208.09877/Revision3-Protoclusters_G12.42_G19.88.tex\n",
      "\n",
      "  exec(code_obj, self.user_global_ns, self.user_ns)\n",
      "/opt/hostedtoolcache/Python/3.9.13/x64/lib/python3.9/site-packages/arxiv_on_deck_2/latex.py:292: LatexWarning: Latex injecting: 'Affiliations' from 'tmp_2208.09877/Affiliations.tex'\n",
      "  warnings.warn(LatexWarning(f\"Latex injecting: '{ext}' from '{subsource}'\"))\n",
      "/opt/hostedtoolcache/Python/3.9.13/x64/lib/python3.9/site-packages/arxiv_on_deck_2/latex.py:292: LatexWarning: Latex injecting: 'authors' from 'tmp_2208.09877/authors.tex'\n",
      "  warnings.warn(LatexWarning(f\"Latex injecting: '{ext}' from '{subsource}'\"))\n"
     ]
    },
    {
     "name": "stdout",
     "output_type": "stream",
     "text": [
      "Retrieving document from  https://arxiv.org/e-print/2208.10029\n"
     ]
    },
    {
     "name": "stdout",
     "output_type": "stream",
     "text": [
      "extracting tarball to tmp_2208.10029..."
     ]
    },
    {
     "name": "stdout",
     "output_type": "stream",
     "text": [
      " done.\n",
      "Retrieving document from  https://arxiv.org/e-print/2208.10084\n"
     ]
    },
    {
     "name": "stderr",
     "output_type": "stream",
     "text": [
      "/opt/hostedtoolcache/Python/3.9.13/x64/lib/python3.9/site-packages/IPython/core/interactiveshell.py:3398: LatexWarning: Multiple tex files.\n",
      "\n",
      "  exec(code_obj, self.user_global_ns, self.user_ns)\n",
      "/opt/hostedtoolcache/Python/3.9.13/x64/lib/python3.9/site-packages/IPython/core/interactiveshell.py:3398: LatexWarning: Found documentclass in tmp_2208.10029/Sloshing.tex\n",
      "\n",
      "  exec(code_obj, self.user_global_ns, self.user_ns)\n"
     ]
    },
    {
     "name": "stdout",
     "output_type": "stream",
     "text": [
      "extracting tarball to tmp_2208.10084..."
     ]
    },
    {
     "name": "stdout",
     "output_type": "stream",
     "text": [
      " done.\n",
      "Retrieving document from  https://arxiv.org/e-print/2208.10104\n"
     ]
    },
    {
     "name": "stdout",
     "output_type": "stream",
     "text": [
      "extracting tarball to tmp_2208.10104..."
     ]
    },
    {
     "name": "stdout",
     "output_type": "stream",
     "text": [
      " done.\n",
      "Retrieving document from  https://arxiv.org/e-print/2208.10175\n"
     ]
    },
    {
     "name": "stdout",
     "output_type": "stream",
     "text": [
      "extracting tarball to tmp_2208.10175..."
     ]
    },
    {
     "name": "stdout",
     "output_type": "stream",
     "text": [
      " done.\n",
      "Retrieving document from  https://arxiv.org/e-print/2208.10194\n"
     ]
    },
    {
     "name": "stderr",
     "output_type": "stream",
     "text": [
      "/opt/hostedtoolcache/Python/3.9.13/x64/lib/python3.9/site-packages/IPython/core/interactiveshell.py:3398: LatexWarning: Multiple tex files.\n",
      "\n",
      "  exec(code_obj, self.user_global_ns, self.user_ns)\n",
      "/opt/hostedtoolcache/Python/3.9.13/x64/lib/python3.9/site-packages/IPython/core/interactiveshell.py:3398: LatexWarning: Found documentclass in tmp_2208.10175/natbib.tex\n",
      "\n",
      "  exec(code_obj, self.user_global_ns, self.user_ns)\n"
     ]
    },
    {
     "name": "stdout",
     "output_type": "stream",
     "text": [
      "extracting tarball to tmp_2208.10194..."
     ]
    },
    {
     "name": "stdout",
     "output_type": "stream",
     "text": [
      " done.\n",
      "Retrieving document from  https://arxiv.org/e-print/2208.10207\n"
     ]
    },
    {
     "name": "stdout",
     "output_type": "stream",
     "text": [
      "extracting tarball to tmp_2208.10207..."
     ]
    },
    {
     "name": "stdout",
     "output_type": "stream",
     "text": [
      " done.\n",
      "Retrieving document from  https://arxiv.org/e-print/2208.10209\n"
     ]
    },
    {
     "name": "stdout",
     "output_type": "stream",
     "text": [
      "extracting tarball to tmp_2208.10209..."
     ]
    },
    {
     "name": "stdout",
     "output_type": "stream",
     "text": [
      " done.\n",
      "Retrieving document from  https://arxiv.org/e-print/2208.10229\n"
     ]
    },
    {
     "name": "stderr",
     "output_type": "stream",
     "text": [
      "/opt/hostedtoolcache/Python/3.9.13/x64/lib/python3.9/site-packages/IPython/core/interactiveshell.py:3398: LatexWarning: Multiple tex files.\n",
      "\n",
      "  exec(code_obj, self.user_global_ns, self.user_ns)\n",
      "/opt/hostedtoolcache/Python/3.9.13/x64/lib/python3.9/site-packages/IPython/core/interactiveshell.py:3398: LatexWarning: Found documentclass in tmp_2208.10209/UVIT_view_CenA.tex\n",
      "\n",
      "  exec(code_obj, self.user_global_ns, self.user_ns)\n"
     ]
    },
    {
     "name": "stdout",
     "output_type": "stream",
     "text": [
      "extracting tarball to tmp_2208.10229..."
     ]
    },
    {
     "name": "stdout",
     "output_type": "stream",
     "text": [
      " done.\n",
      "Retrieving document from  https://arxiv.org/e-print/2208.10232\n"
     ]
    },
    {
     "name": "stdout",
     "output_type": "stream",
     "text": [
      "extracting tarball to tmp_2208.10232..."
     ]
    },
    {
     "name": "stdout",
     "output_type": "stream",
     "text": [
      " done.\n"
     ]
    },
    {
     "name": "stderr",
     "output_type": "stream",
     "text": [
      "/opt/hostedtoolcache/Python/3.9.13/x64/lib/python3.9/site-packages/arxiv_on_deck_2/latex.py:366: LatexWarning: Error parsing the document directly. Trying to recover.\n",
      "  warnings.warn(LatexWarning(f\"Error parsing the document directly. Trying to recover.\"))\n"
     ]
    },
    {
     "name": "stdout",
     "output_type": "stream",
     "text": [
      "✔ → 0:header\n",
      "  ↳ 5172:\\section{Introduction}\n"
     ]
    },
    {
     "name": "stdout",
     "output_type": "stream",
     "text": [
      "✔ → 5172:\\section{Introduction}\n",
      "  ↳ 14096:\\section{The high-$z$ SPT cluster sample and previous studies}\n"
     ]
    },
    {
     "name": "stdout",
     "output_type": "stream",
     "text": [
      "✔ → 14096:\\section{The high-$z$ SPT cluster sample and previous studies}\n",
      "  ↳ 21022:\\section{Data and data reduction}\n"
     ]
    },
    {
     "name": "stdout",
     "output_type": "stream",
     "text": [
      "✔ → 21022:\\section{Data and data reduction}\n",
      "  ↳ 47709:\\section{Photometric selection of source galaxies and estimation of the source redshift distribution}\n"
     ]
    },
    {
     "name": "stdout",
     "output_type": "stream",
     "text": [
      "✔ → 47709:\\section{Photometric selection of source galaxies and estimation of the source redshift distribution}\n",
      "  ↳ 90731:\\section{Shape measurements}\n"
     ]
    },
    {
     "name": "stdout",
     "output_type": "stream",
     "text": [
      "✔ → 90731:\\section{Shape measurements}\n",
      "  ↳ 99820:\\section{Weak lensing results}\n"
     ]
    },
    {
     "name": "stdout",
     "output_type": "stream",
     "text": [
      "✘ → 99820:\\section{Weak lensing results}\n",
      "  ↳ 119289:\\section{Constraints on the SPT observable-mass scaling relation}\n"
     ]
    },
    {
     "name": "stdout",
     "output_type": "stream",
     "text": [
      "✔ → 119289:\\section{Constraints on the SPT observable-mass scaling relation}\n",
      "  ↳ 134917:\\section{Discussion}\n"
     ]
    },
    {
     "name": "stdout",
     "output_type": "stream",
     "text": [
      "✔ → 134917:\\section{Discussion}\n",
      "  ↳ 150002:\\section{Summary and conclusions}\n"
     ]
    },
    {
     "name": "stdout",
     "output_type": "stream",
     "text": [
      "✔ → 150002:\\section{Summary and conclusions}\n",
      "  ↳ 160465:\\begin{appendix}\n",
      "✔ → 160465:\\begin{appendix}\n",
      "  ↳ 160482:\\section{Comparison of S14 and LAMBDAR photometry}\n"
     ]
    },
    {
     "name": "stdout",
     "output_type": "stream",
     "text": [
      "✔ → 160482:\\section{Comparison of S14 and LAMBDAR photometry}\n",
      "  ↳ 168897:\\section{Robustness of the photometric zeropoint estimation via the galaxy locus method}\n",
      "✔ → 168897:\\section{Robustness of the photometric zeropoint estimation via the galaxy locus method}\n",
      "  ↳ 172297:\\section{Effect of systematic offsets in the photometry on $\\langle \\beta \\rangle$}\n"
     ]
    },
    {
     "name": "stdout",
     "output_type": "stream",
     "text": [
      "✔ → 172297:\\section{Effect of systematic offsets in the photometry on $\\langle \\beta \\rangle$}\n",
      "  ↳ 175056:\\section{Alternative colour selection strategies for clusters at $z \\sim 1.2$}\n"
     ]
    },
    {
     "name": "stdout",
     "output_type": "stream",
     "text": [
      "✔ → 175056:\\section{Alternative colour selection strategies for clusters at $z \\sim 1.2$}\n",
      "  ↳ 181912:\\section{Colour selection strategy for the cluster SPT-CL{\\thinspace}$J$0646$-$6236 at $z=0.995$}\n",
      "✔ → 181912:\\section{Colour selection strategy for the cluster SPT-CL{\\thinspace}$J$0646$-$6236 at $z=0.995$}\n",
      "  ↳ 184985:\\section{Consistency of weak lensing mass results with SZ or X-ray masses}\n"
     ]
    },
    {
     "name": "stdout",
     "output_type": "stream",
     "text": [
      "✔ → 184985:\\section{Consistency of weak lensing mass results with SZ or X-ray masses}\n",
      "  ↳ 187965:\\section{Weak lensing results: mass maps and tangential reduced shear profiles}\n"
     ]
    },
    {
     "name": "stdout",
     "output_type": "stream",
     "text": [
      "✔ → 187965:\\section{Weak lensing results: mass maps and tangential reduced shear profiles}\n",
      "  ↳ 193420:end\n"
     ]
    },
    {
     "name": "stderr",
     "output_type": "stream",
     "text": [
      "/tmp/ipykernel_2200/4030337529.py:34: LatexWarning: 2208.10232 did not run properly\n",
      "sequence item 1: expected str instance, TexNode found\n",
      "  warnings.warn(latex.LatexWarning(f\"{paper_id:s} did not run properly\\n\" +\n"
     ]
    },
    {
     "name": "stdout",
     "output_type": "stream",
     "text": [
      "Retrieving document from  https://arxiv.org/e-print/2208.10257\n"
     ]
    },
    {
     "name": "stdout",
     "output_type": "stream",
     "text": [
      "extracting tarball to tmp_2208.10257..."
     ]
    },
    {
     "name": "stdout",
     "output_type": "stream",
     "text": [
      " done.\n"
     ]
    },
    {
     "name": "stdout",
     "output_type": "stream",
     "text": [
      "Retrieving document from  https://arxiv.org/e-print/2208.10345\n"
     ]
    },
    {
     "name": "stderr",
     "output_type": "stream",
     "text": [
      "/tmp/ipykernel_2200/4030337529.py:34: LatexWarning: 2208.10345 did not run properly\n",
      "not a gzip file\n",
      "  warnings.warn(latex.LatexWarning(f\"{paper_id:s} did not run properly\\n\" +\n"
     ]
    },
    {
     "name": "stdout",
     "output_type": "stream",
     "text": [
      "Retrieving document from  https://arxiv.org/e-print/2208.10351\n"
     ]
    },
    {
     "name": "stdout",
     "output_type": "stream",
     "text": [
      "extracting tarball to tmp_2208.10351..."
     ]
    },
    {
     "name": "stdout",
     "output_type": "stream",
     "text": [
      " done.\n"
     ]
    },
    {
     "name": "stderr",
     "output_type": "stream",
     "text": [
      "/opt/hostedtoolcache/Python/3.9.13/x64/lib/python3.9/site-packages/arxiv_on_deck_2/latex.py:118: LatexWarning: attempting recovering figure fig/gemini-sensitivity-832.pdf\n",
      "  warnings.warn(LatexWarning(f'attempting recovering figure {image}'))\n",
      "/tmp/ipykernel_2200/4030337529.py:34: LatexWarning: 2208.10351 did not run properly\n",
      "Could not find figure fig/gemini-sensitivity-832.pdf\n",
      "  warnings.warn(latex.LatexWarning(f\"{paper_id:s} did not run properly\\n\" +\n"
     ]
    },
    {
     "name": "stdout",
     "output_type": "stream",
     "text": [
      "Retrieving document from  https://arxiv.org/e-print/2208.10388\n"
     ]
    },
    {
     "name": "stdout",
     "output_type": "stream",
     "text": [
      "extracting tarball to tmp_2208.10388..."
     ]
    },
    {
     "name": "stdout",
     "output_type": "stream",
     "text": [
      " done.\n",
      "Retrieving document from  https://arxiv.org/e-print/2208.10426\n"
     ]
    },
    {
     "name": "stdout",
     "output_type": "stream",
     "text": [
      "extracting tarball to tmp_2208.10426... done.\n",
      "Retrieving document from  https://arxiv.org/e-print/2208.10450\n"
     ]
    },
    {
     "name": "stdout",
     "output_type": "stream",
     "text": [
      "extracting tarball to tmp_2208.10450..."
     ]
    },
    {
     "name": "stdout",
     "output_type": "stream",
     "text": [
      " done.\n"
     ]
    },
    {
     "name": "stderr",
     "output_type": "stream",
     "text": [
      "/opt/hostedtoolcache/Python/3.9.13/x64/lib/python3.9/site-packages/IPython/core/interactiveshell.py:3398: LatexWarning: Multiple tex files.\n",
      "\n",
      "  exec(code_obj, self.user_global_ns, self.user_ns)\n",
      "/opt/hostedtoolcache/Python/3.9.13/x64/lib/python3.9/site-packages/IPython/core/interactiveshell.py:3398: LatexWarning: Found documentclass in tmp_2208.10450/draft1_AC.tex\n",
      "\n",
      "  exec(code_obj, self.user_global_ns, self.user_ns)\n",
      "/opt/hostedtoolcache/Python/3.9.13/x64/lib/python3.9/site-packages/arxiv_on_deck_2/latex.py:292: LatexWarning: Latex injecting: 'table_clumps4' from 'tmp_2208.10450/table_clumps4.tex'\n",
      "  warnings.warn(LatexWarning(f\"Latex injecting: '{ext}' from '{subsource}'\"))\n",
      "/opt/hostedtoolcache/Python/3.9.13/x64/lib/python3.9/site-packages/arxiv_on_deck_2/latex.py:292: LatexWarning: Latex injecting: 'table_clumps3' from 'tmp_2208.10450/table_clumps3.tex'\n",
      "  warnings.warn(LatexWarning(f\"Latex injecting: '{ext}' from '{subsource}'\"))\n",
      "/opt/hostedtoolcache/Python/3.9.13/x64/lib/python3.9/site-packages/arxiv_on_deck_2/latex.py:292: LatexWarning: Latex injecting: 'table_clumps2' from 'tmp_2208.10450/table_clumps2.tex'\n",
      "  warnings.warn(LatexWarning(f\"Latex injecting: '{ext}' from '{subsource}'\"))\n",
      "/opt/hostedtoolcache/Python/3.9.13/x64/lib/python3.9/site-packages/arxiv_on_deck_2/latex.py:292: LatexWarning: Latex injecting: 'table_clumps' from 'tmp_2208.10450/table_clumps.tex'\n",
      "  warnings.warn(LatexWarning(f\"Latex injecting: '{ext}' from '{subsource}'\"))\n",
      "/opt/hostedtoolcache/Python/3.9.13/x64/lib/python3.9/site-packages/arxiv_on_deck_2/latex.py:292: LatexWarning: Latex injecting: 'Clumps_JWST' from 'tmp_2208.10450/Clumps_JWST.tex'\n",
      "  warnings.warn(LatexWarning(f\"Latex injecting: '{ext}' from '{subsource}'\"))\n",
      "/opt/hostedtoolcache/Python/3.9.13/x64/lib/python3.9/site-packages/arxiv_on_deck_2/latex.py:292: LatexWarning: Latex injecting: 'observations.tex' from 'tmp_2208.10450/observations.tex'\n",
      "  warnings.warn(LatexWarning(f\"Latex injecting: '{ext}' from '{subsource}'\"))\n"
     ]
    }
   ],
   "source": [
    "documents = []\n",
    "failed = []\n",
    "for paper in tqdm(candidates[:-1]):\n",
    "    paper_id = paper['identifier'].lower().replace('arxiv:', '')\n",
    "    \n",
    "    folder = f'tmp_{paper_id}'\n",
    "\n",
    "    try:\n",
    "        if not os.path.isdir(folder):\n",
    "            folder = retrieve_document_source(f\"{paper_id}\", f'tmp_{paper_id}')\n",
    "        \n",
    "        try:\n",
    "            doc = latex.LatexDocument(folder, validation=validation)    \n",
    "        except AffiliationError as affilerror:\n",
    "            msg = f\"ArXiv:{paper_id:s} is not an MPIA paper... \" + str(affilerror)\n",
    "            failed.append((paper, \"affiliation error: \" + str(affilerror) ))\n",
    "            continue\n",
    "        \n",
    "        # Hack because sometimes author parsing does not work well\n",
    "        if (len(doc.authors) != len(paper['authors'])):\n",
    "            doc._authors = paper['authors']\n",
    "        if (doc.abstract) in (None, ''):\n",
    "            doc._abstract = paper['abstract']\n",
    "            \n",
    "        doc.comment = (get_markdown_badge(paper_id) + \n",
    "                       \"<mark>Appeared on: \" + paper['date'] + \"</mark> - \" +\n",
    "                       \"_\" + paper['comments'] + \"_\")\n",
    "        doc.highlight_authors_in_list(hl_list)\n",
    "\n",
    "        full_md = doc.generate_markdown_text()\n",
    "        \n",
    "        documents.append((paper_id, full_md))\n",
    "    except Exception as e:\n",
    "        warnings.warn(latex.LatexWarning(f\"{paper_id:s} did not run properly\\n\" +\n",
    "                                         str(e)\n",
    "                                        ))\n",
    "        failed.append((paper, \"latex error \" + str(e)))"
   ]
  },
  {
   "cell_type": "markdown",
   "id": "2505a25c",
   "metadata": {
    "papermill": {
     "duration": 0.009189,
     "end_time": "2022-08-23T07:16:48.558395",
     "exception": false,
     "start_time": "2022-08-23T07:16:48.549206",
     "status": "completed"
    },
    "tags": []
   },
   "source": [
    "### Export the logs\n",
    "\n",
    "Throughout, we also keep track of the logs per paper. see `logs-{today date}.md` "
   ]
  },
  {
   "cell_type": "code",
   "execution_count": 6,
   "id": "d733828a",
   "metadata": {
    "execution": {
     "iopub.execute_input": "2022-08-23T07:16:48.579641Z",
     "iopub.status.busy": "2022-08-23T07:16:48.579227Z",
     "iopub.status.idle": "2022-08-23T07:16:48.611329Z",
     "shell.execute_reply": "2022-08-23T07:16:48.610646Z"
    },
    "papermill": {
     "duration": 0.04551,
     "end_time": "2022-08-23T07:16:48.612910",
     "exception": false,
     "start_time": "2022-08-23T07:16:48.567400",
     "status": "completed"
    },
    "scrolled": false,
    "tags": []
   },
   "outputs": [
    {
     "data": {
      "text/markdown": [
       "## Successful papers"
      ],
      "text/plain": [
       "<IPython.core.display.Markdown object>"
      ]
     },
     "metadata": {},
     "output_type": "display_data"
    },
    {
     "data": {
      "text/markdown": [
       "\n",
       "|||\n",
       "|---:|:---|\n",
       "| [![arXiv](https://img.shields.io/badge/arXiv-arXiv:2208.09503-b31b1b.svg)](https://arxiv.org/abs/arXiv:2208.09503) | **Updated orbital monitoring and dynamical masses for nearby M-dwarf  binaries**  |\n",
       "|| Per Calissendorff, et al. -- incl., <mark>Samantha Brown-Sevilla</mark>, <mark>Thomas Henning</mark>, <mark>Maud Langlois</mark>, <mark>Michael Meyer</mark> |\n",
       "|*Appeared on*| *2022-08-23*|\n",
       "|*Comments*| *Accepted for publication in A&A. 38 pages, 29 figures, 11 tables*|\n",
       "|**Abstract**| Young M-type binaries are particularly useful for precise isochronal dating by taking advantage of their extended pre-main sequence evolution. Orbital monitoring of these low-mass objects becomes essential in constraining their fundamental properties, as dynamical masses can be extracted from their Keplerian motion. Here, we present the combined efforts of the AstraLux Large Multiplicity Survey, together with a filler sub-programme from the SpHere INfrared Exoplanet (SHINE) project and previously unpublished data from the FastCam lucky imaging camera at the Nordical Optical Telescope (NOT) and the NaCo instrument at the Very Large Telescope (VLT). Building on previous work, we use archival and new astrometric data to constrain orbital parameters for 20 M-type binaries. We identify that eight of the binaries have strong Bayesian probabilities and belong to known young moving groups (YMGs). We provide a first attempt at constraining orbital parameters for 14 of the binaries in our sample, with the remaining six having previously fitted orbits for which we provide additional astrometric data and updated Gaia parallaxes. The substantial orbital information built up here for four of the binaries allows for direct comparison between individual dynamical masses and theoretical masses from stellar evolutionary model isochrones, with an additional three binary systems with tentative individual dynamical mass estimates likely to be improved in the near future. We attained an overall agreement between the dynamical masses and the theoretical masses from the isochrones based on the assumed YMG age of the respective binary pair. The two systems with the best orbital constrains for which we obtained individual dynamical masses, J0728 and J2317, display higher dynamical masses than predicted by evolutionary models. |"
      ],
      "text/plain": [
       "[arXiv:2208.09503] Updated orbital monitoring and dynamical masses for nearby M-dwarf  binaries\n",
       "\tPer Calissendorff, et al. -- incl., <mark>Samantha Brown-Sevilla</mark>, <mark>Thomas Henning</mark>, <mark>Maud Langlois</mark>, <mark>Michael Meyer</mark>"
      ]
     },
     "metadata": {},
     "output_type": "display_data"
    },
    {
     "data": {
      "text/markdown": [
       "\n",
       "|||\n",
       "|---:|:---|\n",
       "| [![arXiv](https://img.shields.io/badge/arXiv-arXiv:2208.09877-b31b1b.svg)](https://arxiv.org/abs/arXiv:2208.09877) | **ATOMS: ALMA Three-millimeter Observations of Massive Star-forming  regions -- XII: Fragmentation and multi-scale gas kinematics in protoclusters  G12.42+0.50 and G19.88-0.53**  |\n",
       "|| Anindya Saha, et al. -- incl., <mark>Chang Won Lee</mark>, <mark>Yong Zhang</mark> |\n",
       "|*Appeared on*| *2022-08-23*|\n",
       "|*Comments*| *23 pages, 17 figures, accepted for publication in MNRAS*|\n",
       "|**Abstract**| We present new continuum and molecular line data from the ALMA Three-millimeter Observations of Massive Star-forming regions (ATOMS) survey for the two protoclusters, G12.42+0.50 and G19.88-0.53. The 3 mm continuum maps reveal seven cores in each of the two globally contracting protoclusters. These cores satisfy the radius-mass relation and the surface mass density criteria for high-mass star formation. Similar to their natal clumps, the virial analysis of the cores suggests that they are undergoing gravitational collapse ($\\rm \\alpha_{vir} << 2$). The clump to core scale fragmentation is investigated and the derived core masses and separations are found to be consistent with thermal Jeans fragmentation. We detect large-scale filamentary structures with velocity gradients and multiple outflows in both regions. Dendrogram analysis of the H$^{13}$CO$^{+}$ map identifies several branch and leaf structures with sizes $\\sim$ 0.1 and 0.03 pc, respectively. The supersonic gas motion displayed by the branch structures is in agreement with the Larson power-law indicating that the gas kinematics at this spatial scale is driven by turbulence. The transition to transonic/subsonic gas motion is seen to occur at spatial scales of $\\sim$0.1 pc indicating the dissipation of turbulence. In agreement with this, the leaf structures reveal gas motions that deviate from the slope of Larson's law. From the large-scale converging filaments to the collapsing cores, the gas dynamics in G12.42+0.50 and G19.88-0.53 show scale-dependent dominance of turbulence and gravity and the combination of these two driving mechanisms needs to be invoked to explain massive star formation in the protoclusters. |"
      ],
      "text/plain": [
       "[arXiv:2208.09877] ATOMS: ALMA Three-millimeter Observations of Massive Star-forming  regions -- XII: Fragmentation and multi-scale gas kinematics in protoclusters  G12.42+0.50 and G19.88-0.53\n",
       "\tAnindya Saha, et al. -- incl., <mark>Chang Won Lee</mark>, <mark>Yong Zhang</mark>"
      ]
     },
     "metadata": {},
     "output_type": "display_data"
    },
    {
     "data": {
      "text/markdown": [
       "\n",
       "|||\n",
       "|---:|:---|\n",
       "| [![arXiv](https://img.shields.io/badge/arXiv-arXiv:2208.10257-b31b1b.svg)](https://arxiv.org/abs/arXiv:2208.10257) | **Trapping (sub-)Neptunes similar to TOI-216b at the inner disk rim:  Implications for the disk viscosity and the Neptunian desert**  |\n",
       "|| Ondřej Chrenko, Raúl Ortega Chametla, David Nesvorný, <mark>Mario Flock</mark> |\n",
       "|*Appeared on*| *2022-08-23*|\n",
       "|*Comments*| *Accepted for publication in A&A, 21 pages, 16 figures*|\n",
       "|**Abstract**| [Abridged] The occurrence rate of observed sub-Neptunes has a break at 0.1 au, which is often attributed to a migration trap at the inner rim of protoplanetary disks where a positive corotation torque prevents inward migration. We argue that conditions in inner disk regions are such that sub-Neptunes are likely to open gaps, deplete their corotation regions, loose the support of the corotation torque and the trapping efficiency then becomes uncertain. We study what it takes to trap such gap-opening planets at the inner disk rim. We perform 2D locally isothermal and non-isothermal hydrodynamic simulations of planet migration. A viscosity transition is introduced in the disk to (i) create a density drop and (ii) mimic the viscosity increase as the planet migrates from a dead zone towards a region with active magneto-rotational instability (MRI). We choose TOI-216b as a Neptune-like upper-limit test case but we also explore different planetary masses, both on fixed and evolving orbits. For planet-to-star mass ratios $q\\simeq(4$-$8)\\times10^{-5}$, the density drop at the disk rim becomes reshaped due to gap opening and is often replaced with a small density bump centered on the planet's corotation. Trapping is possible only if the bump retains enough gas mass and if the corotation region becomes azimuthally asymmetric, with an island of librating streamlines that accumulate a gas overdensity ahead of the planet. The overdensity exerts a positive torque that can counteract the negative torque of spiral arms. In our model, efficient trapping depends on the $\\alpha$-viscosity and its contrast across the viscosity transition. In order to trap TOI-216b, $\\alpha_{\\mathrm{DZ}}=10^{-3}$ in the dead zone requires $\\alpha_{\\mathrm{MRI}}\\gtrsim5\\times10^{-2}$ in the MRI-active zone. If $\\alpha_{\\mathrm{DZ}}=5\\times10^{-4}$, $\\alpha_{\\mathrm{MRI}}\\gtrsim7.5\\times10^{-2}$ is needed. |"
      ],
      "text/plain": [
       "[arXiv:2208.10257] Trapping (sub-)Neptunes similar to TOI-216b at the inner disk rim:  Implications for the disk viscosity and the Neptunian desert\n",
       "\tOndřej Chrenko, Raúl Ortega Chametla, David Nesvorný, <mark>Mario Flock</mark>"
      ]
     },
     "metadata": {},
     "output_type": "display_data"
    },
    {
     "data": {
      "text/markdown": [
       "## Failed papers"
      ],
      "text/plain": [
       "<IPython.core.display.Markdown object>"
      ]
     },
     "metadata": {},
     "output_type": "display_data"
    },
    {
     "data": {
      "text/markdown": [
       "\n",
       "|||\n",
       "|---:|:---|\n",
       "| [![arXiv](https://img.shields.io/badge/arXiv-arXiv:2208.09521-b31b1b.svg)](https://arxiv.org/abs/arXiv:2208.09521) | **CCAT-prime: The Optical Design for the Epoch of Reionization  Spectrometer**  |\n",
       "|| <mark>Zachary B. Huber</mark>, et al. |\n",
       "|*Appeared on*| *2022-08-23*|\n",
       "|*Comments*| *9 pages, 7 figures, Presented at SPIE Millimeter, Submillimeter, and Far-Infrared Detectors and Instrumentation for Astronomy XI*|\n",
       "|**Abstract**| The Epoch of Reionization Spectrometer (EoR-Spec) will be an instrument module for the Prime-Cam receiver on the CCAT-prime Collaboration's Fred Young Submillimeter Telescope (FYST), a 6-m primary mirror Crossed Dragone telescope. With its Fabry-Perot interferometer (FPI), EoR-Spec will step through frequencies between 210 and 420 GHz to perform line intensity mapping of the 158 $\\mu$m [CII] line in aggregates of star-forming galaxies between redshifts of 3.5 and 8 to trace the evolution of structure in the universe during the epoch of reionization. Here we present the optical design of the module including studies of the optical quality and other key parameters at the image surface. In order to achieve the required resolving power (R$\\sim$100) with the FPI, it is important to have a highly collimated beam at the Lyot stop of the system; the optimization process to achieve this goal with four lenses instead of three as used in other Prime-Cam modules is outlined. As part of the optimization, we test the effect of replacing some of the aspheric lenses with biconic lenses in this Crossed Dragone design and find that the biconic lenses tend to improve the image quality across the focal plane of the module. |\n",
       "|<p style=\"color:green\"> **ERROR** </p>| <p style=\"color:green\">affiliation error: mpia.affiliation_verifications: 'Heidelberg' keyword not found.</p> |"
      ],
      "text/plain": [
       "<IPython.core.display.Markdown object>"
      ]
     },
     "metadata": {},
     "output_type": "display_data"
    },
    {
     "data": {
      "text/markdown": [
       "\n",
       "|||\n",
       "|---:|:---|\n",
       "| [![arXiv](https://img.shields.io/badge/arXiv-arXiv:2208.09560-b31b1b.svg)](https://arxiv.org/abs/arXiv:2208.09560) | **CCAT-prime: Optical and cryogenic design of the 850 GHz module for  Prime-Cam**  |\n",
       "|| <mark>Anthony I. Huber</mark>, et al. -- incl., <mark>Doug Henke</mark>, <mark>Zachary B. Huber</mark> |\n",
       "|*Appeared on*| *2022-08-23*|\n",
       "|*Comments*| *12 pages, 7 figures*|\n",
       "|**Abstract**| Prime-Cam is a first-generation instrument for the Cerro Chajnantor Atacama Telescope-prime (CCAT-prime) Facility. The 850$~$GHz module for Prime-Cam will probe the highest frequency of all the instrument modules. We describe the parameter space of the 850$~$GHz optical system between the F$\\lambda$ spacing, beam size, pixel sensitivity, and detector count. We present the optimization of an optical design for the 850$~$GHz instrument module for CCAT-prime. We further describe the development of the cryogenic RF chain design to accommodate $>$30 readout lines to read 41,400 kinetic inductance detectors (KIDs) within the cryogenic testbed. |\n",
       "|<p style=\"color:green\"> **ERROR** </p>| <p style=\"color:green\">affiliation error: mpia.affiliation_verifications: 'Heidelberg' keyword not found.</p> |"
      ],
      "text/plain": [
       "<IPython.core.display.Markdown object>"
      ]
     },
     "metadata": {},
     "output_type": "display_data"
    },
    {
     "data": {
      "text/markdown": [
       "\n",
       "|||\n",
       "|---:|:---|\n",
       "| [![arXiv](https://img.shields.io/badge/arXiv-arXiv:2208.09630-b31b1b.svg)](https://arxiv.org/abs/arXiv:2208.09630) | **Persistent nuclear burning in Nova Sgr 2016 N.4 (= V5856 Sgr =  ASASSN-16ma) six years past its outburst**  |\n",
       "|| U. Munari, et al. -- incl., <mark>F. M. Walter</mark>, <mark>R. E. Williams</mark> |\n",
       "|*Appeared on*| *2022-08-23*|\n",
       "|*Comments*| *Accepted for publication in A&A*|\n",
       "|**Abstract**| We report on the fast Nova Sgr 2016 N.4 being surprisingly trapped in a long-lasting and bright plateau (Delta I >= 10 mag above quiescence) six years past the nova eruption. Very few other novae experience a similar occurrence. We carried out an intensive observing campaign collecting daily BVRI photometry and monthly high-resolution optical spectroscopy, and observed the nova in ultraviolet and X-rays with Swift satellite at five distinct epochs. The bolometric luminosity radiated during the plateau is ~4200 Lsun (scaled to the distance of the Galactic Bulge), corresponding to stable nuclear burning on a 0.6 Msun white dwarf. A stable wind is blown off at FWZI~1600 km/s, with episodic reinforcement of a faster FWZI~3400 km/s mass loss, probably oriented along the polar directions. The collision of these winds could power the emission detected in X-rays. The burning shell has an outer radius of ~25 Rsun at which the effective temperature is ~7600 K, values similar to those of a F0 II/Ib bright giant. The Delta m < 1 mag variability displayed during the plateau is best described as chaotic, with the irregular appearance of quasi-periodic oscillations with a periodicity of 15-17 days. A limited amount of dust (~3x10^(-11) Msun) continuously condenses at T(dust)~1200 K in the outflowing wind, radiating L(dust)~52 Lsun. |\n",
       "|<p style=\"color:green\"> **ERROR** </p>| <p style=\"color:green\">affiliation error: mpia.affiliation_verifications: 'Heidelberg' keyword not found.</p> |"
      ],
      "text/plain": [
       "<IPython.core.display.Markdown object>"
      ]
     },
     "metadata": {},
     "output_type": "display_data"
    },
    {
     "data": {
      "text/markdown": [
       "\n",
       "|||\n",
       "|---:|:---|\n",
       "| [![arXiv](https://img.shields.io/badge/arXiv-arXiv:2208.09712-b31b1b.svg)](https://arxiv.org/abs/arXiv:2208.09712) | **The \\emph{R}-Process Alliance: Chemo-Dynamically Tagged Groups II. An  Extended Sample of Halo $r$-Process-Enhanced Stars**  |\n",
       "|| Derek Shank, et al. -- incl., <mark>Terese T. Hansen</mark> |\n",
       "|*Appeared on*| *2022-08-23*|\n",
       "|*Comments*| **|\n",
       "|**Abstract**| Orbital characteristics based on Gaia Early Data Release 3 astrometric parameters are analyzed for ${\\sim} 1700$ $r$-process-enhanced (RPE; [Eu/Fe] $> +0.3$) metal-poor stars ([Fe/H] $\\leq -0.8$) compiled from the $R$-Process Alliance, the GALactic Archaeology with HERMES (GALAH) DR3 survey, and additional literature sources. We find dynamical clusters of these stars based on their orbital energies and cylindrical actions using the \\HDBSCAN ~unsupervised learning algorithm. We identify $36$ Chemo-Dynamically Tagged Groups (CDTGs) containing between $5$ and $22$ members; $17$ CDTGs have at least $10$ member stars. Previously known Milky Way (MW) substructures such as Gaia-Sausage-Enceladus, the Splashed Disk, the Metal-Weak Thick Disk, the Helmi Stream, LMS-1 (Wukong), and Thamnos are re-identified. Associations with MW globular clusters are determined for $7$ CDTGs; no recognized MW dwarf galaxy satellites were associated with any of our CDTGs. Previously identified dynamical groups are also associated with our CDTGs, adding structural determination information and possible new identifications. Carbon-Enhanced Metal-Poor RPE (CEMP-$r$) stars are identified among the targets; we assign these to morphological groups in the Yoon-Beers $A$(C)$_{c}$ vs. [Fe/H] Diagram. Our results confirm previous dynamical analyses that showed RPE stars in CDTGs share common chemical histories, influenced by their birth environments. |\n",
       "|<p style=\"color:green\"> **ERROR** </p>| <p style=\"color:green\">affiliation error: mpia.affiliation_verifications: 'Heidelberg' keyword not found.</p> |"
      ],
      "text/plain": [
       "<IPython.core.display.Markdown object>"
      ]
     },
     "metadata": {},
     "output_type": "display_data"
    },
    {
     "data": {
      "text/markdown": [
       "\n",
       "|||\n",
       "|---:|:---|\n",
       "| [![arXiv](https://img.shields.io/badge/arXiv-arXiv:2208.09850-b31b1b.svg)](https://arxiv.org/abs/arXiv:2208.09850) | **Hyperfine resolved rate coefficients of HC17O+ with H2 (j = 0)**  |\n",
       "|| Francesca Tonolo, et al. -- incl., <mark>Mattia Melosso</mark> |\n",
       "|*Appeared on*| *2022-08-23*|\n",
       "|*Comments*| *9 pages, 6 figures*|\n",
       "|**Abstract**| The formyl cation (HCO+) is one of the most abundant ions in molecular clouds and plays a major role in the interstellar chemistry. For this reason, accurate collisional rate coefficients for the rotational excitation of HCO+ and its isotopes due to the most abundant perturbing species in interstellar environments are crucial for non-local thermal equilibrium models and deserve special attention. In this work, we determined the first hyperfine resolved rate coefficients of HC17O+ in collision with H2 (j=0). Indeed, despite no scattering calculations on its collisional parameters have been performed so far, the HC17O+ isotope assumes a prominent role for astrophysical modelling applications. Computations are based on a new four dimensional (4D) potential energy surface, obtained at the CCSD(T)-F12a/aug-cc-pVQZ level of theory. A test on the corresponding cross section values pointed out that, to a good approximation, the influence of the coupling between rotational levels of H2 can be ignored. For this reason, the H2 collider has been treated as a spherical body and an average of the potential based on five orientations of H2 has been employed for scattering calculations. State-to-state rate coefficients resolved for the HC17O+ hyperfine structure for temperature ranging from 5 to 100 K have been computed using recoupling techniques. This study provides the first determination of HC17O+/H2 inelastic rate coefficients directly computed from full quantum close-coupling equations, thus supporting the reliability of future radiative transfer modellings of HC17O+ in interstellar environments. |\n",
       "|<p style=\"color:green\"> **ERROR** </p>| <p style=\"color:green\">affiliation error: mpia.affiliation_verifications: 'Heidelberg' keyword not found.</p> |"
      ],
      "text/plain": [
       "<IPython.core.display.Markdown object>"
      ]
     },
     "metadata": {},
     "output_type": "display_data"
    },
    {
     "data": {
      "text/markdown": [
       "\n",
       "|||\n",
       "|---:|:---|\n",
       "| [![arXiv](https://img.shields.io/badge/arXiv-arXiv:2208.10029-b31b1b.svg)](https://arxiv.org/abs/arXiv:2208.10029) | **Plasma heating and nanoflare caused by slow-mode wave in a coronal loop**  |\n",
       "|| Fanxiaoyu Xia, et al. -- incl., <mark>Qingmin Zhang</mark> |\n",
       "|*Appeared on*| *2022-08-23*|\n",
       "|*Comments*| *13pages, 5 figures; Accepted by ApJL*|\n",
       "|**Abstract**| We present a detailed analysis of a reflecting intensity perturbation in a large coronal loop that appeared as sloshing oscillation and lasted for at least one and a half periods. The perturbation is initiated by a microflare at one footpoint of the loop, propagates along the loop and is eventually reflected at the remote footpoint where significant brightenings are observed in all the AIA extreme-ultraviolet (EUV) channels. This unique observation provides us with the opportunity to better understand not only the thermal properties and damping mechanisms of the sloshing oscillation, but also the energy transfer at the remote footpoint. Based on differential emission measures (DEM) analysis and the technique of coronal seismology, we find that 1) the calculated local sound speed is consistent with the observed propagation speed of the perturbation during the oscillation, which is suggestive of a slow magnetoacoustic wave; 2) thermal conduction is the major damping mechanism of the wave but additional damping mechanism such as anomalous enhancement of compressive viscosity or wave leakage is also required to account for the rapid decay of the observed waves; 3) the wave produced a nanoflare at the remote footpoint, with a peak thermal energy of $\\thicksim10^{24}-10^{25}$ erg. This work provides a consistent picture of the magnetoacoustic wave propagation and reflection in a coronal loop, and reports the first solid evidence of a wave-induced nanoflare. The results reveal new clues for further simulation studies and may help solving the coronal heating problem. |\n",
       "|<p style=\"color:green\"> **ERROR** </p>| <p style=\"color:green\">affiliation error: mpia.affiliation_verifications: 'Heidelberg' keyword not found.</p> |"
      ],
      "text/plain": [
       "<IPython.core.display.Markdown object>"
      ]
     },
     "metadata": {},
     "output_type": "display_data"
    },
    {
     "data": {
      "text/markdown": [
       "\n",
       "|||\n",
       "|---:|:---|\n",
       "| [![arXiv](https://img.shields.io/badge/arXiv-arXiv:2208.10084-b31b1b.svg)](https://arxiv.org/abs/arXiv:2208.10084) | **HI content of massive red spiral galaxies observed by FAST**  |\n",
       "|| Lan Wang, et al. -- incl., <mark>Lizhi Xie</mark> |\n",
       "|*Appeared on*| *2022-08-23*|\n",
       "|*Comments*| *11 pages, 9 figures, accepted by MNRAS; Table 1 is available in the source files*|\n",
       "|**Abstract**| A sample of 279 massive red spirals was selected optically by Guo et al. (2020), among which 166 galaxies have been observed by the ALFALFA survey. In this work, we observe HI content of the rest 113 massive red spiral galaxies using the Five-hundred-meter Aperture Spherical radio Telescope (FAST). 75 of the 113 galaxies have HI detection with a signal-to-noise ratio (S/N) greater than 4.7. Compared with the red spirals in the same sample that have been observed by the ALFALFA survey, galaxies observed by FAST have on average a higher S/N, and reach to a lower HI mass. To investigate why many red spirals contain a significant amount of HI mass, we check color profiles of the massive red spirals using images observed by the DESI Legacy Imaging Surveys. We find that galaxies with HI detection have bluer outer disks than the galaxies without HI detection, for both ALFALFA and FAST samples. For galaxies with HI detection, there exists a clear correlation between galaxy HI mass and g-r color at outer radius: galaxies with higher HI masses have bluer outer disks. The results indicate that optically selected massive red spirals are not fully quenched, and the HI gas observed in many of the galaxies may exist in their outer blue disks. |\n",
       "|<p style=\"color:green\"> **ERROR** </p>| <p style=\"color:green\">affiliation error: mpia.affiliation_verifications: 'Heidelberg' keyword not found.</p> |"
      ],
      "text/plain": [
       "<IPython.core.display.Markdown object>"
      ]
     },
     "metadata": {},
     "output_type": "display_data"
    },
    {
     "data": {
      "text/markdown": [
       "\n",
       "|||\n",
       "|---:|:---|\n",
       "| [![arXiv](https://img.shields.io/badge/arXiv-arXiv:2208.10104-b31b1b.svg)](https://arxiv.org/abs/arXiv:2208.10104) | **An extensive study of blazar broad emission line: Changing-look blazars  and Baldwin effect**  |\n",
       "|| Hubing Xiao, et al. -- incl., <mark>Liangjun Hu</mark>, <mark>Shaohua Zhang</mark> |\n",
       "|*Appeared on*| *2022-08-23*|\n",
       "|*Comments*| *Accepted to ApJ*|\n",
       "|**Abstract**| It is known that the blazar jet emissions are dominated by non-thermal radiation while the accretion disk jets are normally dominated by thermal emission. In this work, our aim is to study the connection between the two types of emission by investigating the correlation between the blazar emission line intensity property, which embodies the nature of accretion disk, and the $\\gamma$-ray flux property, which is the representative of jet emission. We compiled a sample of 656 blazars with available emission line equivalent widths ($EW$), the GeV $\\gamma$-ray flux, and the SED information from the literature. In this work, we found 55 previous BCUs are now identified as FSRQs, and found 52 Changing-look blazars based on their $EW$ and 45 of them are newly confirmed. These Changing-look blazars have a larger accretion ratio (${\\dot M}/{\\dot M}_{\\rm Edd}$) than BL Lac objects. In addition, we suggest that the lower synchrotron peak blazars (LSPs) could be the source of Changing-look blazars because 90.7\\% of the Changing-look blazars in this work are confirmed as LSPs. An anti-correlation between $EW$ and continuum intensity, the so-called global Baldwin effect (BEff) has been confirmed. We suggest the steeper global BEff observed for blazar than for radio-quiet active galactic nuclei (RQ-AGNs) is caused by the inverse Compton scattering of broad-emission-line photons. This interpretation is further supported by the positive correlation between the emission line $EW$ and intrinsic inverse Compton luminosity. |\n",
       "|<p style=\"color:green\"> **ERROR** </p>| <p style=\"color:green\">affiliation error: mpia.affiliation_verifications: 'Heidelberg' keyword not found.</p> |"
      ],
      "text/plain": [
       "<IPython.core.display.Markdown object>"
      ]
     },
     "metadata": {},
     "output_type": "display_data"
    },
    {
     "data": {
      "text/markdown": [
       "\n",
       "|||\n",
       "|---:|:---|\n",
       "| [![arXiv](https://img.shields.io/badge/arXiv-arXiv:2208.10175-b31b1b.svg)](https://arxiv.org/abs/arXiv:2208.10175) | **Prospects of strongly lensed fast radio bursts: Simultaneous measurement  of post-Newtonian parameter and Hubble constant**  |\n",
       "|| Ran Gao, Zhengxiang Li, <mark>He Gao</mark> |\n",
       "|*Appeared on*| *2022-08-23*|\n",
       "|*Comments*| *6 pages, 2 figures*|\n",
       "|**Abstract**| Strong gravitational lensing effect is a powerful tool to probe cosmological models and gravity theories. Recently, the time-delay cosmography from strong lensing and the stellar kinematics of the deflector, which encode the Hubble constant and the post-Newtonian parameter via two distance ratios reflecting the lensing mass and dynamical mass respectively, have been proposed to investigate these two parameters simultaneously. Among strong lensing systems with different sources, strongly lensed fast radio bursts (FRBs) have been proposed as precision probes of the universe since the time delay $\\sim$ 10 days between images could be measured extremely precisely because of their short duration of a few milliseconds. In this work, we investigate the ability of strongly lensed FRBs on simultaneously estimating these two parameters via simulations. Take the expected FRB detection rate of upcoming facilities and lensing probability into consideration, it is likely to accumulate 10 lensed FRBs in several years and we find that $H_0$ could be determined to a $\\sim1.5\\%$ precision and $\\gamma_{\\rm PPN}$ could be constrained to a $\\sim8.7\\%$ precision simultaneously from them. These simultaneous estimations will be helpful for properly reflecting the possible correlation between these two fundamental parameters. |\n",
       "|<p style=\"color:green\"> **ERROR** </p>| <p style=\"color:green\">affiliation error: mpia.affiliation_verifications: 'Heidelberg' keyword not found.</p> |"
      ],
      "text/plain": [
       "<IPython.core.display.Markdown object>"
      ]
     },
     "metadata": {},
     "output_type": "display_data"
    },
    {
     "data": {
      "text/markdown": [
       "\n",
       "|||\n",
       "|---:|:---|\n",
       "| [![arXiv](https://img.shields.io/badge/arXiv-arXiv:2208.10194-b31b1b.svg)](https://arxiv.org/abs/arXiv:2208.10194) | **A synthetic population of Wolf-Rayet stars in the LMC based on detailed  single and binary star evolution models**  |\n",
       "|| D. Pauli, et al. -- incl., <mark>N. Langer</mark> |\n",
       "|*Appeared on*| *2022-08-23*|\n",
       "|*Comments*| *15 pages + 13 pages appendix, 14 figures, 2 tables*|\n",
       "|**Abstract**| Without doubt, mass transfer in close binary systems contributes to the populations of Wolf-Rayet (WR) stars in the Milky Way and the Magellanic Clouds. However, the binary formation channel is so far not well explored. We want to remedy this by exploring large grids of detailed binary and single star evolution models computed with the publicly available MESA code, for a metallicity appropriate for the Large Magellanic Cloud (LMC). The binary models are calculated through Roche-lobe overflow and mass transfer, until the initially more massive star exhausts helium in its core. We distinguish models of WR and helium stars based on the estimated stellar wind optical depth. We use these models to build a synthetic WR population, assuming constant star formation. Our models can reproduce the WR population of the LMC to significant detail, including the number and luminosity functions of the main WR subtypes. We find that for binary fractions of 100% (50%), all LMC WR stars below $10^6\\,L_{\\odot}$ ($10^{5.7}\\,L_{\\odot}$) are stripped binary mass donors. We also identify several insightful mismatches. With a single star fraction of 50\\%, our models produce too many yellow supergiants, calling either for a larger initial binary fraction, or for enhanced mass-loss near the Humphreys-Davidson limit. Our models predict more long-period WR binaries than observed, arguably due to an observational bias towards short periods. Our models also underpredict the shortest-period WR binaries, which may have implications for understanding the progenitors of double black hole mergers. The fraction of binary produced WR stars may be larger than often assumed, and outline the risk to mis-calibrate stellar physics when only single star models are used to reproduce the observed WR stars. |\n",
       "|<p style=\"color:green\"> **ERROR** </p>| <p style=\"color:green\">affiliation error: mpia.affiliation_verifications: 'Heidelberg' keyword not found.</p> |"
      ],
      "text/plain": [
       "<IPython.core.display.Markdown object>"
      ]
     },
     "metadata": {},
     "output_type": "display_data"
    },
    {
     "data": {
      "text/markdown": [
       "\n",
       "|||\n",
       "|---:|:---|\n",
       "| [![arXiv](https://img.shields.io/badge/arXiv-arXiv:2208.10207-b31b1b.svg)](https://arxiv.org/abs/arXiv:2208.10207) | **Can We Fly to Planet 9?**  |\n",
       "|| Adam Hibberd, Manasvi Lingam, <mark>Andreas M. Hein</mark> |\n",
       "|*Appeared on*| *2022-08-23*|\n",
       "|*Comments*| **|\n",
       "|**Abstract**| Planet 9 is an hypothetical object in the outer Solar system, which is as yet undiscovered. It has been speculated that it may be a terrestrial planet or gas/ice giant, or perhaps even a primordial black hole (or dark matter condensate). State-of-the-art models indicate that the semimajor axis of Planet 9 is $\\sim 400$ AU. If the location of Planet 9 were to be confirmed and pinpointed in the future, this object constitutes an interesting target for a future space mission to characterize it further. In this paper, we describe various mission architectures for reaching Planet 9 based on a combination of chemical propulsion and flyby maneuvers, as well as more advanced options (with a $\\sim 100$ kg spacecraft payload) such as nuclear thermal propulsion (NTP) and laser sails. The ensuing mission duration for solid chemical propellant ranges from 45 years to 75 years, depending on the distance from the Sun for the Solar Oberth maneuver. NTP can achieve flight times of about 40 years with only a Jupiter Oberth maneuver whereas, in contrast, laser sails might engender timescales as little as 7 years. We conclude that Planet 9 is close to the transition point where chemical propulsion approaches its performance limits, and alternative advanced propulsion systems (e.g., NTP and laser sails) apparently become more attractive. |\n",
       "|<p style=\"color:green\"> **ERROR** </p>| <p style=\"color:green\">affiliation error: mpia.affiliation_verifications: 'Heidelberg' keyword not found.</p> |"
      ],
      "text/plain": [
       "<IPython.core.display.Markdown object>"
      ]
     },
     "metadata": {},
     "output_type": "display_data"
    },
    {
     "data": {
      "text/markdown": [
       "\n",
       "|||\n",
       "|---:|:---|\n",
       "| [![arXiv](https://img.shields.io/badge/arXiv-arXiv:2208.10209-b31b1b.svg)](https://arxiv.org/abs/arXiv:2208.10209) | **UVIT view of Centaurus A; a detailed study on positive AGN feedback**  |\n",
       "|| <mark>Prajwel Joseph</mark>, et al. |\n",
       "|*Appeared on*| *2022-08-23*|\n",
       "|*Comments*| *Accepted for publication by MNRAS. Data and Jupyter notebooks are available at this https URL . 15 pages, 19 figures, 6 tables*|\n",
       "|**Abstract**| $\\require{mediawiki-texvc}$ Supermassive black holes at the centre of active galactic nuclei (AGN) produce relativistic jets that can affect the star formation characteristics of the AGN hosts. Observations in the ultraviolet (UV) band can provide an excellent view of the effect of AGN jets on star formation. Here, we present a census of star formation properties in the Northern Star-forming Region (NSR) that spans about 20 kpc of the large radio source Centaurus A hosted by the giant elliptical galaxy NGC 5128. In this region, we identified 352 UV sources associated with Cen A using new observations at an angular resolution of $<$1.5 arcseconds observed with the Ultra-Violet Imaging Telescope (UVIT) onboard AstroSat. These observations were carried out in one far-ultraviolet (FUV; $\\lambda_{\\text{mean}}$ = 1481 $\\AA$) and three near-ultraviolet (NUV; with $\\lambda_{\\text{mean}}$ of 2196 $\\AA$, 2447 $\\AA$, and 2792 $\\AA$, respectively) bands. The star-forming sources identified in UV tend to lie in the direction of the jet of Cen A, thereby suggesting jet triggering of star formation. Separating the NSR into Outer and Inner regions, we found the stars in the Inner region to have a relatively younger age than the Outer region, suggesting that the two regions may have different star formation histories. We also provide the UVIT source catalogue in the NSR. |\n",
       "|<p style=\"color:green\"> **ERROR** </p>| <p style=\"color:green\">affiliation error: mpia.affiliation_verifications: 'Heidelberg' keyword not found.</p> |"
      ],
      "text/plain": [
       "<IPython.core.display.Markdown object>"
      ]
     },
     "metadata": {},
     "output_type": "display_data"
    },
    {
     "data": {
      "text/markdown": [
       "\n",
       "|||\n",
       "|---:|:---|\n",
       "| [![arXiv](https://img.shields.io/badge/arXiv-arXiv:2208.10229-b31b1b.svg)](https://arxiv.org/abs/arXiv:2208.10229) | **Results from recent analysis of KASCADE-Grande data**  |\n",
       "|| D. Kang, et al. -- incl., <mark>M. Roth</mark> |\n",
       "|*Appeared on*| *2022-08-23*|\n",
       "|*Comments*| *Submission to SciPost Phys. Proc*|\n",
       "|**Abstract**| KASCADE and its extension array of KASCADE-Grande were devoted to measure individual air showers of cosmic rays in the primary energy range of 100 TeV to 1 EeV. The experiment has substantially contributed to investigate the energy spectrum and mass composition of cosmic rays in the transition region from galactic to extragalactic origin of cosmic rays as well as to quantify the characteristics of hadronic interaction models in the air shower development through validity tests using the multi-detector information from KASCADE-Grande. Although the data accumulation was completed in 2013, data analysis is still continuing. Recently, we investigated the reliability of the new hadronic interactions models of the SIBYLL version 2.3d with the data from KASCADE-Grande. The evolution of the muon content of high energy air showers in the atmosphere is studied as well. In this talk, recent results from KASCADE-Grande and the update of the KASCADE Cosmic Ray Data Centre (KCDC) will be discussed. |\n",
       "|<p style=\"color:green\"> **ERROR** </p>| <p style=\"color:green\">affiliation error: mpia.affiliation_verifications: 'Heidelberg' keyword not found.</p> |"
      ],
      "text/plain": [
       "<IPython.core.display.Markdown object>"
      ]
     },
     "metadata": {},
     "output_type": "display_data"
    },
    {
     "data": {
      "text/markdown": [
       "\n",
       "|||\n",
       "|---:|:---|\n",
       "| [![arXiv](https://img.shields.io/badge/arXiv-arXiv:2208.10388-b31b1b.svg)](https://arxiv.org/abs/arXiv:2208.10388) | **Morpho-kinematics of MACS J0416.1-2403 low mass galaxies**  |\n",
       "|| B. I. Ciocan, et al. -- incl., <mark>B. L. Ziegler</mark>, <mark>A. Böhm</mark> |\n",
       "|*Appeared on*| *2022-08-23*|\n",
       "|*Comments*| *Accepted for publication in A&A on 22.08.2022; Abstract abridged for arXiv; 27 pages, 34 figures*|\n",
       "|**Abstract**| We use optical spectroscopy from VLT/MUSE, as well as photometric observations from HST and VLT/HAWK-I, to study the morpho-kinematics of 17 low mass MACS J0416.1-2403 cluster galaxies at R200 and 5 field galaxies with a redshift of z~0.4. By measuring fluxes of emission lines, we have recovered the star formation rates, gas-phase metallicities and the spatially resolved gas kinematics. We have analysed the structure and morphology of the galaxies from the photometric data, performing a multi-component decomposition into a bulge and a disk. The spatially resolved gas velocity fields were modelled using a 3D approach, which allowed us to retrieve their intrinsic gas kinematics, including the maximum rotation velocity and velocity dispersion. The cluster and field population can be classified as star forming main-sequence galaxies, with only a sub-sample of 4 quenched systems. The lowest mass systems deviate from the predictions of the fundamental metallicity relation, showing higher metallicities, whereas the higher mass ones are in accordance with the model predictions. This might hint at the cut-off of pristine gas inflow and/or the removal of the hot halo gas as the mechanisms driving these offsets. Our morpho-kinematic analysis reveals a sub-sample of dwarfs with maximum velocities vmax <50 km/s, which depart from the Tully-Fisher relation. This might indicate that their interstellar medium is affected by ram pressure stripping. However, ~30% of the cluster galaxies have rotation-dominated gas disks and follow the Tully-Fisher relation. In the stellar mass-S0.5 plane, the systems follow a tight sequence, with only a sub-population of 5 galaxies strongly departing from this relation. Both the morphology and kinematics of the outlier galaxies hint at a combination of pre-processing and cluster-specific interactions affecting their stellar and gas disks. |\n",
       "|<p style=\"color:green\"> **ERROR** </p>| <p style=\"color:green\">affiliation error: mpia.affiliation_verifications: 'Heidelberg' keyword not found.</p> |"
      ],
      "text/plain": [
       "<IPython.core.display.Markdown object>"
      ]
     },
     "metadata": {},
     "output_type": "display_data"
    },
    {
     "data": {
      "text/markdown": [
       "\n",
       "|||\n",
       "|---:|:---|\n",
       "| [![arXiv](https://img.shields.io/badge/arXiv-arXiv:2208.10426-b31b1b.svg)](https://arxiv.org/abs/arXiv:2208.10426) | **LAEs at Cosmic Dawn: Implications and Predictions**  |\n",
       "|| Eduard Salvador-Solé, et al. -- incl., <mark>J. Miguel Mas-Hesse</mark> |\n",
       "|*Appeared on*| *2022-08-23*|\n",
       "|*Comments*| *16 pages, 10 figures, accepted for publication in The Astrophysical Journal*|\n",
       "|**Abstract**| The detection of Lyman-$\\alpha$ emitting galaxies (LAEs) puts severe constraints on the reionization history. In this Paper we derive the properties of very high-$z$ LAEs predicted in the only two reionization scenarios shown in a previous Paper to be consistent with current data on 15 independent evolving global (or averaged) cosmic properties regarding luminous objects and the intergalactic medium and the optical depth to electron scattering of ionized hydrogen to CMB photons: one with a monotonic behavior, which is completed by $z=6$, as commonly considered, and another one with a non-monotonic behavior with two full ionization events at $z=6$ and $z=10$. We find that the \\Lya luminosity functions of very high-$z$ LAEs are very distinct in those two scenarios. Thus, comparing these predictions to the observations that will soon be available thanks to new instruments such as the James Webb Space Telescope, it should be possible to unveil the right reionization scenario. In the meantime, we can compare the predicted redshift distribution and UV (or Lyman-$\\alpha$) luminosities of very high-$z$ LAEs to those of the few objects already observed at $z>7.5$. By doing that we find that such data are in tension with the single reionization scenario, while they are fully compatible with the double reionization scenario. |\n",
       "|<p style=\"color:green\"> **ERROR** </p>| <p style=\"color:green\">affiliation error: mpia.affiliation_verifications: 'Heidelberg' keyword not found.</p> |"
      ],
      "text/plain": [
       "<IPython.core.display.Markdown object>"
      ]
     },
     "metadata": {},
     "output_type": "display_data"
    },
    {
     "data": {
      "text/markdown": [
       "\n",
       "|||\n",
       "|---:|:---|\n",
       "| [![arXiv](https://img.shields.io/badge/arXiv-arXiv:2208.10450-b31b1b.svg)](https://arxiv.org/abs/arXiv:2208.10450) | **Star formation at the smallest scales; A JWST study of the clump  populations in SMACS0723**  |\n",
       "|| Adélaïde Claeyssens, et al. -- incl., <mark>Guillaume Mahler</mark> |\n",
       "|*Appeared on*| *2022-08-23*|\n",
       "|*Comments*| *Submitted to MNRAS, comments and feedback are welcome*|\n",
       "|**Abstract**| We present the clump populations detected in 18 lensed galaxies at redshifts 1 to 8 within the lensing cluster field SMACS0723. The recent JWST Early Release Observations of this poorly known region of the sky, have revealed numerous point-like sources within and surrounding their host galaxies, undetected in the shallower HST images. We use JWST multiband photometry and the lensing model of this galaxy cluster to estimate the intrinsic sizes and magnitudes of these stellar clumps. We derive optical restframe effective radii from $<$10 to 100s pc and masses ranging from $\\sim10^5$ to $10^8$ M$_{\\odot}$, overlapping with massive star clusters in the local universe. The ages range from 1 to 100s Myr. We compare the crossing time to the age of the clumps and determine that between 30 and 50 \\% of the detected clumps are consistent with being gravitationally bound. The lack of Gyr old clumps suggest that the dissolution time scales are shorter than 1 Gyr. We see a significant increase in the luminosity (mass) surface density of the clumps with redshift. Clumps in galaxies at the reionisation era have stellar densities higher than massive clusters in the local universe. We zoom-in into single galaxies at redshift $<6$ and find for two galaxies, the Sparkler and the Firework, that their star clusters/clumps show distinctive color distributions and location within and surrounding their host galaxy that are compatible with recent (100-500 Myr) merger events. Our study, conducted on a small sample of galaxies, shows the potential of JWST observations for understanding the conditions under which star clusters form in rapidly evolving galaxies. |\n",
       "|<p style=\"color:green\"> **ERROR** </p>| <p style=\"color:green\">affiliation error: mpia.affiliation_verifications: 'Heidelberg' keyword not found.</p> |"
      ],
      "text/plain": [
       "<IPython.core.display.Markdown object>"
      ]
     },
     "metadata": {},
     "output_type": "display_data"
    },
    {
     "data": {
      "text/markdown": [
       "\n",
       "|||\n",
       "|---:|:---|\n",
       "| [![arXiv](https://img.shields.io/badge/arXiv-arXiv:2208.10351-b31b1b.svg)](https://arxiv.org/abs/arXiv:2208.10351) | **TOI-1468: A system of two transiting planets, a super-Earth and a  mini-Neptune, on opposite sides of the radius valley**  |\n",
       "|| P. Chaturvedi, et al. -- incl., <mark>Th. Henning</mark>, <mark>E. Herrero</mark> |\n",
       "|*Appeared on*| *2022-08-23*|\n",
       "|*Comments*| *26 pages, 15 figures*|\n",
       "|**Abstract**| We report the discovery and characterization of two small transiting planets orbiting the bright M3.0V star TOI-1468 (LSPM J0106+1913), whose transit signals were detected in the photometric time series in three sectors of the TESS mission. We confirm the e planetary nature of both of them using precise radial velocity measurements from the CARMENES and MAROON-X spectrographs, and supplement them with ground-based transit photometry. A joint analysis of all these data reveals that the shorter-period planet, TOI-1468 b ($P_{\\rm b}$ = 1.88 d), has a planetary mass of $M_{\\rm b} = 3.21\\pm0.24$ $M_{\\oplus}$ and a radius of $R_{\\rm b} =1.280^{+0.038}_{-0.039} R_{\\oplus}$, resulting in a density of $\\rho_{\\rm b} = 8.39^{+ 1.05}_{- 0.92}$ g cm$^{-3}$, which is consistent with a mostly rocky composition. For the outer planet, TOI-1468 c ($P_{\\rm c} = 15.53$ d), we derive a mass of $M_{\\rm c} = 6.64^{+ 0.67}_{- 0.68}$ $M_{\\oplus}$, a radius of $R_{\\rm c} = 2.06\\pm0.04\\,R_{\\oplus}$, and a bulk density of $\\rho_{c} = 2.00^{+ 0.21}_{- 0.19}$ g cm$^{-3}$, which corresponds to a rocky core composition with a H/He gas envelope. These planets are located on opposite sides of the radius valley, making our system an interesting discovery as there are only a handful of other systems with the same properties. This discovery can further help determine a more precise location of the radius valley for small planets around M dwarfs and, therefore, shed more light on planet formation and evolution scenarios. |\n",
       "|<p style=\"color:red\"> **ERROR** </p>| <p style=\"color:red\">latex error Could not find figure fig/gemini-sensitivity-832.pdf</p> |"
      ],
      "text/plain": [
       "<IPython.core.display.Markdown object>"
      ]
     },
     "metadata": {},
     "output_type": "display_data"
    },
    {
     "data": {
      "text/markdown": [
       "\n",
       "|||\n",
       "|---:|:---|\n",
       "| [![arXiv](https://img.shields.io/badge/arXiv-arXiv:2208.10345-b31b1b.svg)](https://arxiv.org/abs/arXiv:2208.10345) | **Complementary astrometry of Cassini Imaging Science Subsystem Images of  Phoebe**  |\n",
       "|| <mark>Q.F. Zhang</mark>, et al. |\n",
       "|*Appeared on*| *2022-08-23*|\n",
       "|*Comments*| *8 Pages, 5 figures, Journal article*|\n",
       "|**Abstract**| Phoebe is the only major satellite of Saturn with a retrograde orbit. The Cassini Imaging Science Subsystem (ISS) took a lot of Phoebe images between 2004 and 2017, but only a selection of them has been reduced. In this paper, we reduced the remaining ISS images of Phoebe. In the reduction, the Gaia EDR3 catalogue was used to provide the reference stars' positions, and the modified moment was used to measure the centre of image stars and Phoebe. Finally, a total of 834 ISS images of Phoebe have been reduced successfully. Compared with the JPL ephemeris SAT375, Phoebe's positions are consistent. The average residuals in the right ascension and declination are 0.08\" and $-0.05$\", and the standard deviations of the residuals are about 0.2\". In terms of residuals in linear units, the means in the right ascension and declination are about 5 km and $-2$ km, respectively; The standard deviations are about 11 km. Compared with the JPL ephemeris SAT427 and IMCCE ephemeris PH20, our measurements show a strong bias and a large dispersion. |\n",
       "|<p style=\"color:red\"> **ERROR** </p>| <p style=\"color:red\">latex error not a gzip file</p> |"
      ],
      "text/plain": [
       "<IPython.core.display.Markdown object>"
      ]
     },
     "metadata": {},
     "output_type": "display_data"
    },
    {
     "data": {
      "text/markdown": [
       "\n",
       "|||\n",
       "|---:|:---|\n",
       "| [![arXiv](https://img.shields.io/badge/arXiv-arXiv:2208.10232-b31b1b.svg)](https://arxiv.org/abs/arXiv:2208.10232) | **Extending empirical constraints on the SZ-mass scaling relation to  higher redshifts via HST weak lensing measurements of nine clusters from the  SPT-SZ survey at $z\\gtrsim1$**  |\n",
       "|| Hannah Zohren, et al. -- incl., <mark>Beatriz Hernández-Martín</mark>, <mark>Henk Hoekstra</mark>, <mark>Florian Kleinebreil</mark>, <mark>Mischa Schirmer</mark> |\n",
       "|*Appeared on*| *2022-08-23*|\n",
       "|*Comments*| *23 pages, 10 figures + appendix (9 pages, 9 figures); accepted for publication in A&A*|\n",
       "|**Abstract**| We present a Hubble Space Telescope (HST) weak gravitational lensing study of nine distant and massive galaxy clusters with redshifts $1.0 \\lesssim z \\lesssim 1.7$ ($z_\\mathrm{median} = 1.4$) and Sunyaev Zel'dovich (SZ) detection significance $\\xi > 6.0$ from the South Pole Telescope Sunyaev Zel'dovich (SPT-SZ) survey. We measured weak lensing galaxy shapes in HST/ACS F606W and F814W images and used additional observations from HST/WFC3 in F110W and VLT/FORS2 in $U_\\mathrm{HIGH}$ to preferentially select background galaxies at $z\\gtrsim 1.8$, achieving a high purity. We combined recent redshift estimates from the CANDELS/3D-HST and HUDF fields to infer an improved estimate of the source redshift distribution. We measured weak lensing masses by fitting the tangential reduced shear profiles with spherical Navarro-Frenk-White (NFW) models. We obtained the largest lensing mass in our sample for the cluster SPT-CLJ2040$-$4451, thereby confirming earlier results that suggest a high lensing mass of this cluster compared to X-ray and SZ mass measurements. Combining our weak lensing mass constraints with results obtained by previous studies for lower redshift clusters, we extended the calibration of the scaling relation between the unbiased SZ detection significance $\\zeta$ and the cluster mass for the SPT-SZ survey out to higher redshifts. We found that the mass scale inferred from our highest redshift bin ($1.2 < z < 1.7$) is consistent with an extrapolation of constraints derived from lower redshifts, albeit with large statistical uncertainties. Thus, our results show a similar tendency as found in previous studies, where the cluster mass scale derived from the weak lensing data is lower than the mass scale expected in a Planck $\\nu\\Lambda$CDM (i.e. $\\nu$ $\\Lambda$ Cold Dark Matter) cosmology given the SPT-SZ cluster number counts. |\n",
       "|<p style=\"color:red\"> **ERROR** </p>| <p style=\"color:red\">latex error sequence item 1: expected str instance, TexNode found</p> |"
      ],
      "text/plain": [
       "<IPython.core.display.Markdown object>"
      ]
     },
     "metadata": {},
     "output_type": "display_data"
    }
   ],
   "source": [
    "import datetime\n",
    "today = str(datetime.date.today())\n",
    "logfile = f\"_build/html/logs/log-{today}.md\"\n",
    "\n",
    "\n",
    "with open(logfile, 'w') as logs:\n",
    "    # Success\n",
    "    logs.write(f'# Arxiv on Deck 2: Logs - {today}\\n\\n')\n",
    "    logs.write(\"\"\"* Arxiv had {0:,d} new papers\\n\"\"\".format(len(new_papers)))\n",
    "    logs.write(\"\"\"    * {0:,d} with possible author matches\\n\\n\"\"\".format(len(candidates)))\n",
    "    logs.write(\"## Sucessful papers\\n\\n\")\n",
    "    display(Markdown(\"## Successful papers\"))\n",
    "    success = [k[0] for k in documents]\n",
    "    for candid in candidates:\n",
    "        if candid['identifier'].split(':')[-1] in success:\n",
    "            display(candid)\n",
    "            logs.write(candid.generate_markdown_text() + '\\n\\n')\n",
    "\n",
    "    ## failed\n",
    "    logs.write(\"## Failed papers\\n\\n\")\n",
    "    display(Markdown(\"## Failed papers\"))\n",
    "    failed = sorted(failed, key=lambda x: x[1])\n",
    "    current_reason = \"\"\n",
    "    for paper, reason in failed:\n",
    "        if 'affiliation' in reason:\n",
    "            color = 'green'\n",
    "        else:\n",
    "            color = 'red'\n",
    "        data = Markdown(\n",
    "                paper.generate_markdown_text() + \n",
    "                f'\\n|<p style=\"color:{color:s}\"> **ERROR** </p>| <p style=\"color:{color:s}\">{reason:s}</p> |'\n",
    "               )\n",
    "        if reason != current_reason:\n",
    "            logs.write(f'### {reason:s} \\n\\n')\n",
    "            current_reason = reason\n",
    "        logs.write(data.data + '\\n\\n')\n",
    "        \n",
    "        # only display here the important errors (all in logs)\n",
    "        # if color in ('red',):\n",
    "        display(data)"
   ]
  },
  {
   "cell_type": "markdown",
   "id": "472d20ee",
   "metadata": {
    "papermill": {
     "duration": 0.01175,
     "end_time": "2022-08-23T07:16:48.637969",
     "exception": false,
     "start_time": "2022-08-23T07:16:48.626219",
     "status": "completed"
    },
    "tags": []
   },
   "source": [
    "## Export documents\n",
    "\n",
    "We now write the .md files and export relevant images"
   ]
  },
  {
   "cell_type": "code",
   "execution_count": 7,
   "id": "d426aed9",
   "metadata": {
    "execution": {
     "iopub.execute_input": "2022-08-23T07:16:48.663365Z",
     "iopub.status.busy": "2022-08-23T07:16:48.662821Z",
     "iopub.status.idle": "2022-08-23T07:16:48.670950Z",
     "shell.execute_reply": "2022-08-23T07:16:48.670279Z"
    },
    "papermill": {
     "duration": 0.022868,
     "end_time": "2022-08-23T07:16:48.672527",
     "exception": false,
     "start_time": "2022-08-23T07:16:48.649659",
     "status": "completed"
    },
    "tags": []
   },
   "outputs": [],
   "source": [
    "def export_markdown_summary(md: str, md_fname:str, directory: str):\n",
    "    \"\"\"Export MD document and associated relevant images\"\"\"\n",
    "    import os\n",
    "    import shutil\n",
    "    import re\n",
    "\n",
    "    if (os.path.exists(directory) and not os.path.isdir(directory)):\n",
    "        raise RuntimeError(f\"a non-directory file exists with name {directory:s}\")\n",
    "\n",
    "    if (not os.path.exists(directory)):\n",
    "        print(f\"creating directory {directory:s}\")\n",
    "        os.mkdir(directory)\n",
    "\n",
    "    fig_fnames = (re.compile(r'\\[Fig.*\\]\\((.*)\\)').findall(md) + \n",
    "                  re.compile(r'\\<img src=\"([^>\\s]*)\"[^>]*/>').findall(md))\n",
    "    for fname in fig_fnames:\n",
    "        if 'http' in fname:\n",
    "            # No need to copy online figures\n",
    "            continue\n",
    "        destdir = os.path.join(directory, os.path.dirname(fname))\n",
    "        destfname = os.path.join(destdir, os.path.basename(fname))\n",
    "        try:\n",
    "            os.makedirs(destdir)\n",
    "        except FileExistsError:\n",
    "            pass\n",
    "        shutil.copy(fname, destfname)\n",
    "    with open(os.path.join(directory, md_fname), 'w') as fout:\n",
    "        fout.write(md)\n",
    "    print(\"exported in \", os.path.join(directory, md_fname))\n",
    "    [print(\"    + \" + os.path.join(directory,fk)) for fk in fig_fnames]"
   ]
  },
  {
   "cell_type": "code",
   "execution_count": 8,
   "id": "014d04a4",
   "metadata": {
    "execution": {
     "iopub.execute_input": "2022-08-23T07:16:48.697839Z",
     "iopub.status.busy": "2022-08-23T07:16:48.697020Z",
     "iopub.status.idle": "2022-08-23T07:16:48.707735Z",
     "shell.execute_reply": "2022-08-23T07:16:48.707006Z"
    },
    "papermill": {
     "duration": 0.025167,
     "end_time": "2022-08-23T07:16:48.709331",
     "exception": false,
     "start_time": "2022-08-23T07:16:48.684164",
     "status": "completed"
    },
    "tags": []
   },
   "outputs": [
    {
     "name": "stdout",
     "output_type": "stream",
     "text": [
      "exported in  _build/html/2208.09503.md\n",
      "    + _build/html/tmp_2208.09503/./isochrone_analysis_all_filled.png\n",
      "    + _build/html/tmp_2208.09503/./j1036_psf_res_mod_4panel_grey.png\n",
      "    + _build/html/tmp_2208.09503/./J0437_RV.png\n",
      "    + _build/html/tmp_2208.09503/./J0459_RV.png\n",
      "    + _build/html/tmp_2208.09503/./J0532_RV.png\n",
      "    + _build/html/tmp_2208.09503/./J0613_RV.png\n",
      "    + _build/html/tmp_2208.09503/./J0728_RV.png\n",
      "    + _build/html/tmp_2208.09503/./J0916_RV.png\n",
      "    + _build/html/tmp_2208.09503/./J2317_RV.png\n",
      "exported in  _build/html/2208.09877.md\n",
      "    + _build/html/tmp_2208.09877/./R1_fig14_1242outflow_composite_v2.png\n",
      "    + _build/html/tmp_2208.09877/./R1_fig4_1242+1988_hco+h13co_3sigmacont_v1shift.png\n",
      "    + _build/html/tmp_2208.09877/./R1_fig3_1242+1988_continuum_map_v1.png\n",
      "exported in  _build/html/2208.10257.md\n",
      "    + _build/html/tmp_2208.10257/./figs/at_41_42.png\n",
      "    + _build/html/tmp_2208.10257/./figs/verification.png\n",
      "    + _build/html/tmp_2208.10257/./figs/torq_static_noniso_q5e-5.png\n",
      "    + _build/html/tmp_2208.10257/./figs/torq_static_noniso_qTOI.png\n",
      "    + _build/html/tmp_2208.10257/./figs/torq_static_noniso_q9e-5.png\n"
     ]
    }
   ],
   "source": [
    "for paper_id, md in documents:\n",
    "    export_markdown_summary(md, f\"{paper_id:s}.md\", '_build/html/')"
   ]
  },
  {
   "cell_type": "markdown",
   "id": "f087a0a7",
   "metadata": {
    "papermill": {
     "duration": 0.01179,
     "end_time": "2022-08-23T07:16:48.732999",
     "exception": false,
     "start_time": "2022-08-23T07:16:48.721209",
     "status": "completed"
    },
    "tags": []
   },
   "source": [
    "## Display the papers\n",
    "\n",
    "Not necessary but allows for a quick check."
   ]
  },
  {
   "cell_type": "code",
   "execution_count": 9,
   "id": "fd25f625",
   "metadata": {
    "execution": {
     "iopub.execute_input": "2022-08-23T07:16:48.758178Z",
     "iopub.status.busy": "2022-08-23T07:16:48.757423Z",
     "iopub.status.idle": "2022-08-23T07:16:48.765182Z",
     "shell.execute_reply": "2022-08-23T07:16:48.764546Z"
    },
    "papermill": {
     "duration": 0.022041,
     "end_time": "2022-08-23T07:16:48.766707",
     "exception": false,
     "start_time": "2022-08-23T07:16:48.744666",
     "status": "completed"
    },
    "scrolled": false,
    "tags": []
   },
   "outputs": [
    {
     "data": {
      "text/markdown": [
       "<div class=\"macros\" style=\"visibility:hidden;\">\n",
       "$\\newcommand{\\ensuremath}{}$\n",
       "$\\newcommand{\\xspace}{}$\n",
       "$\\newcommand{\\object}[1]{\\texttt{#1}}$\n",
       "$\\newcommand{\\farcs}{{.}''}$\n",
       "$\\newcommand{\\farcm}{{.}'}$\n",
       "$\\newcommand{\\arcsec}{''}$\n",
       "$\\newcommand{\\arcmin}{'}$\n",
       "$\\newcommand{\\ion}[2]{#1#2}$\n",
       "$\\newcommand{\\textsc}[1]{\\textrm{#1}}$\n",
       "$\\newcommand{\\hl}[1]{\\textrm{#1}}$\n",
       "$\\newcommand{\\emptynote}[1]{{$\n",
       "$  \\let\\thempfn\\relax$\n",
       "$  \\footnotetext[0]{#1}$\n",
       "$}}$\n",
       "$\\newcommand{\\noopsort}[2]{#2}$\n",
       "$\\newcommand{\\arraystretch}{1.3}$\n",
       "$\\newcommand{\\arraystretch}{1.3}$\n",
       "$\\newcommand{\\arraystretch}{1.3}$\n",
       "$\\newcommand{\\arraystretch}{1.3}$\n",
       "$\\newcommand{\\arraystretch}{1.3}$\n",
       "$\\newcommand{\\arraystretch}{1.3}$\n",
       "$\\newcommand{\\arraystretch}{1.3}$\n",
       "$\\newcommand{\\arraystretch}{1.3}$\n",
       "$\\newcommand{\\arraystretch}{1.3}$\n",
       "$\\newcommand{\\arraystretch}{1.3}$\n",
       "$\\newcommand{\\arraystretch}{1.3}$\n",
       "$\\newcommand{\\arraystretch}{1.3}$\n",
       "$\\newcommand{\\arraystretch}{1.3}$\n",
       "$\\newcommand{\\arraystretch}{1.3}$\n",
       "$\\newcommand{\\arraystretch}{1.3}$\n",
       "$\\newcommand{\\arraystretch}{1.3}$\n",
       "$\\newcommand{\\arraystretch}{1.3}$\n",
       "$\\newcommand{\\arraystretch}{1.3}$\n",
       "$\\newcommand{\\arraystretch}{1.3}$\n",
       "$\\newcommand{\\arraystretch}{1.3}$\n",
       "$\\newcommand{\\arraystretch}{1.3}$\n",
       "$\\newcommand{\\arraystretch}{1.3}$\n",
       "$\\newcommand{\\arraystretch}{1.3}$\n",
       "$\\newcommand{\\arraystretch}{1.3}$</div>\n",
       "\n",
       "<div class=\"macros\" style=\"visibility:hidden;\">\n",
       "$\\newcommand{$\\ensuremath$}{}$\n",
       "$\\newcommand{$\\xspace$}{}$\n",
       "$\\newcommand{$\\object$}[1]{\\texttt{#1}}$\n",
       "$\\newcommand{$\\farcs$}{{.}''}$\n",
       "$\\newcommand{$\\farcm$}{{.}'}$\n",
       "$\\newcommand{$\\arcsec$}{''}$\n",
       "$\\newcommand{$\\arcmin$}{'}$\n",
       "$\\newcommand{$\\ion$}[2]{#1#2}$\n",
       "$\\newcommand{$\\textsc$}[1]{\\textrm{#1}}$\n",
       "$\\newcommand{$\\hl$}[1]{\\textrm{#1}}$\n",
       "$\\newcommand{\\emptynote}[1]{{$\n",
       "$  \\let\\thempfn\\relax$\n",
       "$  \\footnotetext[0]{#1}$\n",
       "$}}$\n",
       "$\\newcommand{$\\noopsort$}[2]{#2}$\n",
       "$\\newcommand{$\\arraystretch$}{1.3}$\n",
       "$\\newcommand{$\\arraystretch$}{1.3}$\n",
       "$\\newcommand{$\\arraystretch$}{1.3}$\n",
       "$\\newcommand{$\\arraystretch$}{1.3}$\n",
       "$\\newcommand{$\\arraystretch$}{1.3}$\n",
       "$\\newcommand{$\\arraystretch$}{1.3}$\n",
       "$\\newcommand{$\\arraystretch$}{1.3}$\n",
       "$\\newcommand{$\\arraystretch$}{1.3}$\n",
       "$\\newcommand{$\\arraystretch$}{1.3}$\n",
       "$\\newcommand{$\\arraystretch$}{1.3}$\n",
       "$\\newcommand{$\\arraystretch$}{1.3}$\n",
       "$\\newcommand{$\\arraystretch$}{1.3}$\n",
       "$\\newcommand{$\\arraystretch$}{1.3}$\n",
       "$\\newcommand{$\\arraystretch$}{1.3}$\n",
       "$\\newcommand{$\\arraystretch$}{1.3}$\n",
       "$\\newcommand{$\\arraystretch$}{1.3}$\n",
       "$\\newcommand{$\\arraystretch$}{1.3}$\n",
       "$\\newcommand{$\\arraystretch$}{1.3}$\n",
       "$\\newcommand{$\\arraystretch$}{1.3}$\n",
       "$\\newcommand{$\\arraystretch$}{1.3}$\n",
       "$\\newcommand{$\\arraystretch$}{1.3}$\n",
       "$\\newcommand{$\\arraystretch$}{1.3}$\n",
       "$\\newcommand{$\\arraystretch$}{1.3}$\n",
       "$\\newcommand{$\\arraystretch$}{1.3}$</div>\n",
       "\n",
       "\n",
       "\n",
       "<div id=\"title\">\n",
       "\n",
       "# Updated orbital monitoring and dynamical masses for nearby M-dwarf binaries\n",
       "\n",
       "</div>\n",
       "<div id=\"comments\">\n",
       "\n",
       "[![arXiv](https://img.shields.io/badge/arXiv-2208.09503-b31b1b.svg)](https://arxiv.org/abs/2208.09503)<mark>Appeared on: 2022-08-23</mark> - _Accepted for publication in A&A. 38 pages, 29 figures, 11 tables_\n",
       "\n",
       "</div>\n",
       "<div id=\"authors\">\n",
       "\n",
       "Per Calissendorff, et al. -- incl., <mark><mark>Samantha Brown-Sevilla</mark></mark>, <mark><mark>Thomas Henning</mark></mark>, <mark><mark>Maud Langlois</mark></mark>, <mark><mark>Michael Meyer</mark></mark>\n",
       "\n",
       "</div>\n",
       "<div id=\"abstract\">\n",
       "\n",
       "**Abstract:** Young M-type binaries are particularly useful for precise isochronal dating by taking advantage of their extended pre-main sequence evolution. Orbital monitoring of these low-mass objects becomes essential in constraining their fundamental properties, as dynamical masses can be extracted from their Keplerian motion. Here, we present the combined efforts of the AstraLux Large Multiplicity Survey, together with a filler sub-programme from the SpHere INfrared Exoplanet (SHINE) project and previously unpublished data from the FastCam lucky imaging camera at the Nordical Optical Telescope (NOT) and the NaCo instrument at the Very Large Telescope (VLT). Building on previous work, we use archival and new astrometric data to constrain orbital parameters for 20 M-type binaries. We identify that eight of the binaries have strong Bayesian probabilities and belong to known young moving groups (YMGs). We provide a first attempt at constraining orbital parameters for 14 of the binaries in our sample, with the remaining six having previously fitted orbits for which we provide additional astrometric data and updated Gaia parallaxes. The substantial orbital information built up here for four of the binaries allows for direct comparison between individual dynamical masses and theoretical masses from stellar evolutionary model isochrones, with an additional three binary systems with tentative individual dynamical mass estimates likely to be improved in the near future. We attained an overall agreement between the dynamical masses and the theoretical masses from the isochrones based on the assumed YMG age of the respective binary pair. The two systems with the best orbital constrains for which we obtained individual dynamical masses, J0728 and J2317, display higher dynamical masses than predicted by evolutionary models.\n",
       "\n",
       "</div>\n",
       "\n",
       "<div id=\"div_fig1\">\n",
       "\n",
       "<img src=\"tmp_2208.09503/./isochrone_analysis_all_filled.png\" alt=\"Fig3\" width=\"100%\"/>\n",
       "\n",
       "**Figure 3. -** Mass-magnitude diagram of the individual components for the targets we were able to resolve and derive dynamical masses for. The filled areas display isochrones with ages ranging from 10, 20, 30, 50, 120 to 400 Myrs from the BHAC15 models. Each binary pair is represented by a different set of symbols, with the secondary component being slightly faded out and having dashed lines for the uncertainty. For J1036 the masses and brightnesses are equal and the two components are overplotted on top of eachother. Magnitudes here are shown as absolute magnitudes, which are also listed in Table \\ref{tab:mass} together the distances and corresponding theoretical masses for the approximate age-range of the associated YMG. (*fig:isochrones*)\n",
       "\n",
       "</div>\n",
       "<div id=\"div_fig2\">\n",
       "\n",
       "<img src=\"tmp_2208.09503/./j1036_psf_res_mod_4panel_grey.png\" alt=\"Fig1\" width=\"100%\"/>\n",
       "\n",
       "**Figure 1. -** Astrometric extraction example for the J1036BC binary. The upper plots display the observed AstraLux data for the binary pair and a PSF reference. The lower plots show the constructed model using two brightness-scaled and position-shifted PSF models, and the residual after subtracting the model from the observed data. The plots here have been normalised to the peak value of the observed data, are scaled linearly in the plots. The colour-bar markers indicate the peak and bottom values for the observed data. The residual for the AstraLux is typically of the order of $\\pm 15 \\%$, whereas with SPHERE the residual is more commonly around $\\pm 1 \\%$. (*fig:astrometry*)\n",
       "\n",
       "</div>\n",
       "<div id=\"div_fig3\">\n",
       "\n",
       "<img src=\"tmp_2208.09503/./J0437_RV.png\" alt=\"Fig2.1\" width=\"14%\"/><img src=\"tmp_2208.09503/./J0459_RV.png\" alt=\"Fig2.2\" width=\"14%\"/><img src=\"tmp_2208.09503/./J0532_RV.png\" alt=\"Fig2.3\" width=\"14%\"/><img src=\"tmp_2208.09503/./J0613_RV.png\" alt=\"Fig2.4\" width=\"14%\"/><img src=\"tmp_2208.09503/./J0728_RV.png\" alt=\"Fig2.5\" width=\"14%\"/><img src=\"tmp_2208.09503/./J0916_RV.png\" alt=\"Fig2.6\" width=\"14%\"/><img src=\"tmp_2208.09503/./J2317_RV.png\" alt=\"Fig2.7\" width=\"14%\"/>\n",
       "\n",
       "**Figure 2. -** Radial velocity fits from the data gathered in Table \\ref{tab:RV} used to constrain dynamical masses for the binaries.\n",
       "\tThe binaries are listed from left to right in the figure as J0437 and J0459 on the first top row; J0532 and J0613 on the second row from the top; J0728 and J0916 on the third row from the top; and J2317 on the bottom row. The shades of grey represent the first, second and third sigma intervals of the values predicted by the fit for each epoch, where sigma is the standard deviation.\n",
       "\t (*fig:RV*)\n",
       "\n",
       "</div>"
      ],
      "text/plain": [
       "<IPython.core.display.Markdown object>"
      ]
     },
     "metadata": {},
     "output_type": "display_data"
    },
    {
     "data": {
      "text/markdown": [
       "<div class=\"macros\" style=\"visibility:hidden;\">\n",
       "$\\newcommand{\\ensuremath}{}$\n",
       "$\\newcommand{\\xspace}{}$\n",
       "$\\newcommand{\\object}[1]{\\texttt{#1}}$\n",
       "$\\newcommand{\\farcs}{{.}''}$\n",
       "$\\newcommand{\\farcm}{{.}'}$\n",
       "$\\newcommand{\\arcsec}{''}$\n",
       "$\\newcommand{\\arcmin}{'}$\n",
       "$\\newcommand{\\ion}[2]{#1#2}$\n",
       "$\\newcommand{\\textsc}[1]{\\textrm{#1}}$\n",
       "$\\newcommand{\\hl}[1]{\\textrm{#1}}$\n",
       "$\\newcommand{\\thebibliography}{\\DeclareRobustCommand{\\VAN}[3]{##3}\\VANthebibliography}$\n",
       "$\\newcommand{\\tab}{Table~}$\n",
       "$\\newcommand{\\fig}{Fig.~}$\n",
       "$\\newcommand{\\sect}{Section.~}$\n",
       "$\\newcommand{\\tcr}{\\textcolor{red}}$\n",
       "$\\newcommand{\\sun}{_\\odot}$\n",
       "$\\newcommand{\\um}{\\rm \\mu m}$\n",
       "$\\newcommand{\\h2}{H_2}$</div>\n",
       "\n",
       "<div class=\"macros\" style=\"visibility:hidden;\">\n",
       "$\\newcommand{$\\ensuremath$}{}$\n",
       "$\\newcommand{$\\xspace$}{}$\n",
       "$\\newcommand{$\\object$}[1]{\\texttt{#1}}$\n",
       "$\\newcommand{$\\farcs$}{{.}''}$\n",
       "$\\newcommand{$\\farcm$}{{.}'}$\n",
       "$\\newcommand{$\\arcsec$}{''}$\n",
       "$\\newcommand{$\\arcmin$}{'}$\n",
       "$\\newcommand{$\\ion$}[2]{#1#2}$\n",
       "$\\newcommand{$\\textsc$}[1]{\\textrm{#1}}$\n",
       "$\\newcommand{$\\hl$}[1]{\\textrm{#1}}$\n",
       "$\\newcommand{$\\thebibliography$}{\\DeclareRobustCommand{\\VAN}[3]{##3}\\VANthebibliography}$\n",
       "$\\newcommand{$\\tab$}{Table~}$\n",
       "$\\newcommand{$\\fig$}{Fig.~}$\n",
       "$\\newcommand{$\\sect$}{Section.~}$\n",
       "$\\newcommand{$\\tcr$}{\\textcolor{red}}$\n",
       "$\\newcommand{$\\sun$}{_\\odot}$\n",
       "$\\newcommand{$\\um$}{\\rm \\mu m}$\n",
       "$\\newcommand{$\\h$2}{H_2}$</div>\n",
       "\n",
       "\n",
       "\n",
       "<div id=\"title\">\n",
       "\n",
       "# ATOMS: ALMA Three-millimeter Observations of Massive Star-forming regions - XII: Fragmentation and multi-scale gas kinematics in protoclusters G12.42+0.50 and G19.88-0.53\n",
       "\n",
       "</div>\n",
       "<div id=\"comments\">\n",
       "\n",
       "[![arXiv](https://img.shields.io/badge/arXiv-2208.09877-b31b1b.svg)](https://arxiv.org/abs/2208.09877)<mark>Appeared on: 2022-08-23</mark> - _23 pages, 17 figures, accepted for publication in MNRAS_\n",
       "\n",
       "</div>\n",
       "<div id=\"authors\">\n",
       "\n",
       "Anindya Saha, et al. -- incl., <mark><mark>Chang Won Lee</mark></mark>, <mark><mark>Yong Zhang</mark></mark>\n",
       "\n",
       "</div>\n",
       "<div id=\"abstract\">\n",
       "\n",
       "**Abstract:** We present new continuum and molecular line data from the ALMA Three-millimeter Observations of Massive Star-forming regions (ATOMS) survey for the two protoclusters, G12.42+0.50 and G19.88-0.53. The 3 mm continuum maps reveal seven cores in each of the two globally contracting protoclusters. These cores satisfy the radius-mass relation and the surface mass density criteria for high-mass star formation. Similar to their natal clumps, the virial analysis of the cores suggests that they are undergoing gravitational collapse ($\\rm \\alpha_{vir} << 2$). The clump to core scale fragmentation is investigated and the derived core masses and separations are found to be consistent with thermal Jeans fragmentation.  We detect large-scale filamentary structures with velocity gradients and multiple outflows in both regions.{\\it Dendrogram}analysis of the H$^{13}$CO$^{+}$map identifies several branch and leaf structures with sizes$\\sim$0.1 and 0.03 pc, respectively. The supersonic gas motion displayed by the branch structures is in agreement with the Larson power-law indicating that the gas kinematics at this spatial scale is driven by turbulence. The transition to transonic/subsonic gas motion is seen to occur at spatial scales of$\\sim$0.1 pc indicating the dissipation of turbulence. In agreement with this, the leaf structures reveal gas motions that deviate from the slope of Larson's law. From the large-scale converging filaments to the collapsing cores, the gas dynamics in G12.42+0.50 and G19.88-0.53 show scale-dependent dominance of turbulence and gravity and the combination of these two driving mechanisms needs to be invoked to explain massive star formation in the protoclusters.\n",
       "\n",
       "</div>\n",
       "\n",
       "<div id=\"div_fig1\">\n",
       "\n",
       "<img src=\"tmp_2208.09877/./R1_fig14_1242outflow_composite_v2.png\" alt=\"Fig8\" width=\"100%\"/>\n",
       "\n",
       "**Figure 8. -** Outflow emission traced by different tracers overlaid on the moment zero map of SiO (2 - 1) for the region associated with G12.42+0.50. Moment zero map for SiO transition obtained by integrating over the full velocity range is shown as colour scale. (a) SiO contours integrated in velocity ranges [0-16.0]$ \\rm km s^{-1}$ and [19.8-26.9]$ \\rm km s^{-1}$ for blue and red lobes, respectively, are overlaid on the moment zero map of SiO (2 - 1). The contour levels are 3, 5, 7, 11, 16, 22 times $\\sigma$($\\sigma$ = 0.03 $\\rm Jy beam^{-1} km s^{-1}$), and 3, 4, 5, 9, 13, 18 times $\\sigma$($\\sigma$ = 0.02 $\\rm Jy beam^{-1} km s^{-1}$) for blue and red, respectively. SiO emission only concentrates on several positions labelled as 1 - 6. Black circles represent the area over which the spectra is extracted. (b) Outflow emission traced by HCO$^{+}$ are shown as contours. The contours are integrated in velocity ranges [12-15.0]$ \\rm km s^{-1}$ and [21.0-29]$ \\rm km s^{-1}$ for blue and red lobes, respectively. The contour levels are 3, 4, 5, 7, 11, 14, 17, 20 times $\\sigma$($\\sigma$ = 0.05 $\\rm Jy beam^{-1} km s^{-1}$), and 3, 4, 5, 6, 7, 8 times $\\sigma$($\\sigma$ = 0.04 $\\rm Jy beam^{-1} km s^{-1}$) for blue and red, respectively. In both the panels, the dashed lines indicate the possible outflow directions. The identified cores are shown as filled ellipses. The beam sizes are shown at the lower left in each figure. (*1242_outflow*)\n",
       "\n",
       "</div>\n",
       "<div id=\"div_fig2\">\n",
       "\n",
       "<img src=\"tmp_2208.09877/./R1_fig4_1242+1988_hco+h13co_3sigmacont_v1shift.png\" alt=\"Fig2\" width=\"100%\"/>\n",
       "\n",
       "**Figure 2. -**  Clump-averaged spectra of the molecular lines (H$^{13}$CO$^{+}$, HCO$^{+}$) detected towards G12.42+0.50 and G19.88-0.53 using combined 12-m + 7-m data are shown in panel (a) and (b), respectively. The spectra are averaged over a region enclosed by the 3 $\\sigma$ contour continuum emission for G12.42 and G19.88, respectively. HCO$^+$ spectra shown in blue (solid) are vertically offset by 0.3 $\\rm Jy beam^{-1}$ and H$^{13}$CO$^{+}$ spectra shown in red (dashed) are scaled-up by a factor of 3 in both the panels. The vertical dashed line in each panel marks the LSR velocity of 18.3 and 44.0 $ \\rm km s^{-1}$ for G12.42 and G19.88, respectively. (*1242+1988_hco+h13co_3sigma*)\n",
       "\n",
       "</div>\n",
       "<div id=\"div_fig3\">\n",
       "\n",
       "<img src=\"tmp_2208.09877/./R1_fig3_1242+1988_continuum_map_v1.png\" alt=\"Fig1\" width=\"100%\"/>\n",
       "\n",
       "**Figure 1. -** (a) 3 mm continuum map of the region associated with G12.42+0.50 obtained using 12-m array data from ATOMS is shown in colour scale. Core apertures acquired using CASA-\\textit{imfit} are shown in black ellipses. The overlaid contours showing the radio emission at 1390 MHz (beam size is 3.0 arcsec $\\times$ 2.4 arcsec ) with contour levels at 3, 6, 9, 18, 63, 150 and 172 times $\\sigma$($\\sigma$$\\sim$ 29.7 $\\rm \\mu Jy beam^{-1}$) are from Issac19. (b) Same as figure (a) but for G19.88-0.53. The overlaid contours showing the radio emission at 1390 MHz (beam size is 4.3 arcsec $\\times$ 2.7 arcsec ) with contour levels at 3, 4, 5 and 6 times $\\sigma$($\\sigma$$\\sim$ 45 $\\rm \\mu Jy beam^{-1}$) are from Issac20. (c) The colour scale shows the 2.7 mm continuum emission of the region associated with G19.88-0.53 obtained using 12-m array data from the ALMA archive. The black ellipses represent the core apertures acquired using CASA-\\textit{imfit}. The beam of the continuum maps are indicated at the bottom left in each figure. (*continuum_maps*)\n",
       "\n",
       "</div>"
      ],
      "text/plain": [
       "<IPython.core.display.Markdown object>"
      ]
     },
     "metadata": {},
     "output_type": "display_data"
    },
    {
     "data": {
      "text/markdown": [
       "<div class=\"macros\" style=\"visibility:hidden;\">\n",
       "$\\newcommand{\\ensuremath}{}$\n",
       "$\\newcommand{\\xspace}{}$\n",
       "$\\newcommand{\\object}[1]{\\texttt{#1}}$\n",
       "$\\newcommand{\\farcs}{{.}''}$\n",
       "$\\newcommand{\\farcm}{{.}'}$\n",
       "$\\newcommand{\\arcsec}{''}$\n",
       "$\\newcommand{\\arcmin}{'}$\n",
       "$\\newcommand{\\ion}[2]{#1#2}$\n",
       "$\\newcommand{\\textsc}[1]{\\textrm{#1}}$\n",
       "$\\newcommand{\\hl}[1]{\\textrm{#1}}$</div>\n",
       "\n",
       "<div class=\"macros\" style=\"visibility:hidden;\">\n",
       "$\\newcommand{$\\ensuremath$}{}$\n",
       "$\\newcommand{$\\xspace$}{}$\n",
       "$\\newcommand{$\\object$}[1]{\\texttt{#1}}$\n",
       "$\\newcommand{$\\farcs$}{{.}''}$\n",
       "$\\newcommand{$\\farcm$}{{.}'}$\n",
       "$\\newcommand{$\\arcsec$}{''}$\n",
       "$\\newcommand{$\\arcmin$}{'}$\n",
       "$\\newcommand{$\\ion$}[2]{#1#2}$\n",
       "$\\newcommand{$\\textsc$}[1]{\\textrm{#1}}$\n",
       "$\\newcommand{$\\hl$}[1]{\\textrm{#1}}$</div>\n",
       "\n",
       "\n",
       "\n",
       "<div id=\"title\">\n",
       "\n",
       "# Trapping (sub-)Neptunes similar to TOI-216b at the inner disk rim: Implications for the disk viscosity and the Neptunian desert\n",
       "\n",
       "</div>\n",
       "<div id=\"comments\">\n",
       "\n",
       "[![arXiv](https://img.shields.io/badge/arXiv-2208.10257-b31b1b.svg)](https://arxiv.org/abs/2208.10257)<mark>Appeared on: 2022-08-23</mark> - _Accepted for publication in A&A, 21 pages, 16 figures_\n",
       "\n",
       "</div>\n",
       "<div id=\"authors\">\n",
       "\n",
       "Ondřej Chrenko, Raúl Ortega Chametla, David Nesvorný, <mark><mark>Mario Flock</mark></mark>\n",
       "\n",
       "</div>\n",
       "<div id=\"abstract\">\n",
       "\n",
       "**Abstract:** The occurrence rate of observed sub-Neptunes has a break at 0.1 au,   which is often attributed to a migration trap at the inner rim   of protoplanetary disks where a positive corotation torque prevents inward migration.We argue that conditions in inner disk regions are such that sub-Neptunes   are likely to open gaps, deplete their corotation regions, loose the   support of the corotation torque and the trapping efficiency then becomes uncertain.   We study what it takes to trap such gap-opening planets at the inner disk rim.We perform 2D locally isothermal and non-isothermal hydrodynamic simulations of planet migration.   A viscosity transition is introduced in the disk to   (i) create a density drop and (ii) mimic the viscosity increase as the planet migrates   from a dead zone towards a region with active magneto-rotational instability (MRI).   We choose TOI-216b as a Neptune-like upper-limit test case but we also explore different planetary   masses, both on fixed and evolving orbits.For planet-to-star mass ratios$q\\simeq(4$--$8)\\times10^{-5}$, the density drop   at the disk rim becomes reshaped due to gap opening and is often   replaced with a small density bump centered on the planet's corotation.   Trapping is possible only if the bump retains enough gas mass and if the corotation region becomes azimuthally asymmetric, with an island of librating streamlines that accumulate a gas overdensity ahead of the planet.   The overdensity exerts a positive torque that can counteract the negative torque of spiral arms. Under suitable conditions, the overdensity turns into a Rossby vortex. In our model, efficient trapping   depends on the$\\alpha$-viscosity and its contrast across the viscosity transition.   In order to trap TOI-216b,$\\alpha_{\\mathrm{DZ}}=10^{-3}$in the dead zone requires$\\alpha_{\\mathrm{MRI}}\\gtrsim5\\times10^{-2}$in the MRI-active zone. If$\\alpha_{\\mathrm{DZ}}=5\\times10^{-4}$,$\\alpha_{\\mathrm{MRI}}\\gtrsim7.5\\times10^{-2}$is needed.We described a new regime of a migration trap relevant for massive (sub-)Neptunes that puts valuable constraints on the levels of turbulent   stress in the inner part of their natal disks.\n",
       "\n",
       "</div>\n",
       "\n",
       "<div id=\"div_fig1\">\n",
       "\n",
       "<img src=\"tmp_2208.10257/./figs/at_41_42.png\" alt=\"Fig2\" width=\"100%\"/>\n",
       "\n",
       "**Figure 2. -** As in Fig. \\ref{fig:at} but for fixed $\\alpha_{\\mathrm{DZ}}=10^{-3}$\n",
       "    and different values of the planet-to-star mass ratio $q$(see the plot legend).\n",
       "    Two cases of the MRI-active viscosity are considered, namely $\\alpha_{\\mathrm{MRI}}=5\\times10^{-2}$(top)\n",
       "    and $2.5\\times10^{-2}$(bottom). Dashed lines correspond to simulations in which the torque is evaluated\n",
       "    from the whole disk, without any exclusion of the Hill sphere material. Solid lines are affected by the Hill\n",
       "    cut (see Eq. \\ref{eq:hillcut}). For comparison purposes, the case of TOI-216b is labeled and marked with an arrow.\n",
       "     (*fig:at_q*)\n",
       "\n",
       "</div>\n",
       "<div id=\"div_fig2\">\n",
       "\n",
       "<img src=\"tmp_2208.10257/./figs/verification.png\" alt=\"Fig7\" width=\"100%\"/>\n",
       "\n",
       "**Figure 7. -** \n",
       "    Radial profiles of the surface density $\\Sigma$(top, left vertical axis, solid curves),\n",
       "    $\\alpha$ viscosity (top, right vertical axis, dashed curves), temperature $T$(bottom, left vertical axis, solid curves)\n",
       "    and aspect ratio $h$(bottom, right vertical axis, dashed curves). A comparison is shown between our 2D non-isothermal\n",
       "    model (black curves) and a 3D vertically resolved radiative hydrostatic model (red curves).\n",
       "    The bottom panel is split into three regions discussed in Sect. \\ref{sec:model_noniso}, namely\n",
       "    the dust halo (B), the condensation front (C) and the flared disk (D) \\citep[e.g.][]{Ueda_etal_2017ApJ...843...49U}.\n",
       " (*fig:noniso_disk*)\n",
       "\n",
       "</div>\n",
       "<div id=\"div_fig3\">\n",
       "\n",
       "<img src=\"tmp_2208.10257/./figs/torq_static_noniso_q5e-5.png\" alt=\"Fig16.1\" width=\"33%\"/><img src=\"tmp_2208.10257/./figs/torq_static_noniso_qTOI.png\" alt=\"Fig16.2\" width=\"33%\"/><img src=\"tmp_2208.10257/./figs/torq_static_noniso_q9e-5.png\" alt=\"Fig16.3\" width=\"33%\"/>\n",
       "\n",
       "**Figure 16. -** Normalized static torque $\\gamma\\Gamma/\\Gamma_{0}$\n",
       "    measured in our non-isothermal simulations as a function of the planetary\n",
       "    orbital distance $a_{\\mathrm{p}}$. We show measurements for $q=5\\times10^{-5}$(left column), $7.3\\times10^{-5}$(TOI-216b; middle column)\n",
       "    and $9\\times10^{-5}$(right column). Individual rows correspond to different viscosities $\\alpha_{\\mathrm{DZ}}$\n",
       "    in the dead zone (see the boxed labels) and color-coded points with line segments correspond\n",
       "    to different viscosities $\\alpha_{\\mathrm{MRI}}$ in the MRI-active zone (see the plot legend).\n",
       "    The horizontal dashed line is where the total torque is zero.\n",
       "    We point out that the extent of the vertical axis in the left column differs from the middle\n",
       "    and right columns.\n",
       "     (*fig:noniso_statictq*)\n",
       "\n",
       "</div>"
      ],
      "text/plain": [
       "<IPython.core.display.Markdown object>"
      ]
     },
     "metadata": {},
     "output_type": "display_data"
    }
   ],
   "source": [
    "[display(Markdown(k[1])) for k in documents];"
   ]
  },
  {
   "cell_type": "markdown",
   "id": "873873a4",
   "metadata": {
    "papermill": {
     "duration": 0.012703,
     "end_time": "2022-08-23T07:16:48.792026",
     "exception": false,
     "start_time": "2022-08-23T07:16:48.779323",
     "status": "completed"
    },
    "tags": []
   },
   "source": [
    "# Create HTML index"
   ]
  },
  {
   "cell_type": "code",
   "execution_count": 10,
   "id": "cf665672",
   "metadata": {
    "execution": {
     "iopub.execute_input": "2022-08-23T07:16:48.854066Z",
     "iopub.status.busy": "2022-08-23T07:16:48.853540Z",
     "iopub.status.idle": "2022-08-23T07:16:48.863343Z",
     "shell.execute_reply": "2022-08-23T07:16:48.862667Z"
    },
    "papermill": {
     "duration": 0.060292,
     "end_time": "2022-08-23T07:16:48.864922",
     "exception": false,
     "start_time": "2022-08-23T07:16:48.804630",
     "status": "completed"
    },
    "tags": []
   },
   "outputs": [
    {
     "name": "stdout",
     "output_type": "stream",
     "text": [
      "23  publications in the last 7 days.\n",
      "\t _build/html/2208.10257.md\n",
      "\t _build/html/2208.09877.md\n",
      "\t _build/html/2208.09503.md\n",
      "\t _build/html/2208.09335.md\n",
      "\t _build/html/2208.08872.md\n",
      "\t _build/html/2204.06393.md\n",
      "\t _build/html/2204.03335.md\n",
      "\t _build/html/2204.03253.md\n",
      "\t _build/html/2204.02998.md\n",
      "\t _build/html/2204.02109.md\n",
      "\t _build/html/2204.02017.md\n",
      "\t _build/html/2204.01824.md\n",
      "\t _build/html/2204.01758.md\n",
      "\t _build/html/2204.01245.md\n",
      "\t _build/html/2204.00793.md\n",
      "\t _build/html/2204.00342.md\n",
      "\t _build/html/2203.16959.md\n",
      "\t _build/html/2203.16856.md\n",
      "\t _build/html/2203.16735.md\n",
      "\t _build/html/2203.16734.md\n",
      "\t _build/html/2203.16504.md\n",
      "\t _build/html/2203.15822.md\n",
      "\t _build/html/2203.15811.md\n"
     ]
    }
   ],
   "source": [
    "from datetime import datetime, timedelta, timezone\n",
    "from glob import glob\n",
    "\n",
    "files = glob('_build/html/*.md')\n",
    "days = 7\n",
    "now = datetime.today()\n",
    "res = []\n",
    "for fk in files:\n",
    "    stat_result = os.stat(fk).st_ctime\n",
    "    modified = datetime.fromtimestamp(stat_result, tz=timezone.utc).replace(tzinfo=None)\n",
    "    delta = now.today() - modified\n",
    "    if delta <= timedelta(days=days):\n",
    "        res.append((delta.seconds, fk))\n",
    "res = [k[1] for k in reversed(sorted(res, key=lambda x:x[1]))]\n",
    "npub = len(res)\n",
    "print(len(res), f\" publications in the last {days:d} days.\")\n",
    "[ print('\\t', k) for k in res ];"
   ]
  },
  {
   "cell_type": "code",
   "execution_count": 11,
   "id": "52ca0208",
   "metadata": {
    "execution": {
     "iopub.execute_input": "2022-08-23T07:16:48.891989Z",
     "iopub.status.busy": "2022-08-23T07:16:48.891315Z",
     "iopub.status.idle": "2022-08-23T07:16:48.898207Z",
     "shell.execute_reply": "2022-08-23T07:16:48.897481Z"
    },
    "papermill": {
     "duration": 0.022187,
     "end_time": "2022-08-23T07:16:48.899815",
     "exception": false,
     "start_time": "2022-08-23T07:16:48.877628",
     "status": "completed"
    },
    "scrolled": false,
    "tags": []
   },
   "outputs": [],
   "source": [
    "def create_carousel(npub=4):\n",
    "    \"\"\" Generate the HTML code for a carousel with `npub` slides \"\"\"\n",
    "    carousel = [\"\"\"<section class=\"carousel\" aria-label=\"Gallery\">\"\"\",\n",
    "                \"\"\"  <ol class=\"carousel__viewport\">\"\"\",\n",
    "    ]\n",
    "    for k in range(1, npub + 1):\n",
    "        prev_ = k - 1\n",
    "        next_ = k + 1\n",
    "        if prev_ <= 0:\n",
    "            prev_ = npub\n",
    "        if next_ > npub:\n",
    "            next_ = 1\n",
    "        text  = f\"\"\"    <li id=\"carousel__slide{k}\" tabindex=\"0\" class=\"carousel__slide\">\\n\"\"\"\n",
    "        text += f\"\"\"       <div class=\"carousel__snapper\">\\n\"\"\"\n",
    "        text += f\"\"\"         <a href=\"#carousel__slide{prev_}\" class=\"carousel__prev\">Go to previous slide</a>\\n\"\"\"\n",
    "        text += f\"\"\"         <a href=\"#carousel__slide{next_}\" class=\"carousel__next\">Go to next slide</a>\\n\"\"\"\n",
    "        text += f\"\"\"         <div id=\"slide{k}_content\" class=\"md_view\" >Content {k}</div>\\n\"\"\"\n",
    "        text += f\"\"\"       </div>\\n\"\"\"\n",
    "        text += f\"\"\"    </li>\"\"\"\n",
    "        carousel.append(text)\n",
    "\n",
    "    carousel.extend([\n",
    "        \"\"\"  </ol>\"\"\",\n",
    "        \"\"\"  <aside class=\"carousel__navigation\">\"\"\",\n",
    "        \"\"\"    <ol class=\"carousel__navigation-list\">\"\"\"])\n",
    "\n",
    "    for k in range(1, npub + 1):\n",
    "        text  = f\"\"\"      <li class=\"carousel__navigation-item\">\\n\"\"\"\n",
    "        text += f\"\"\"        <a href=\"#carousel__slide{k}\" class=\"carousel__navigation-button\">Go to {k}</a>\\n\"\"\"\n",
    "        text += f\"\"\"      </li>\"\"\"\n",
    "        carousel.append(text)\n",
    "    carousel.extend([\"\"\"    </ol>\"\"\", \"\"\"  </aside>\"\"\", \"\"\"</section>\"\"\"])\n",
    "\n",
    "    return '\\n'.join(carousel)"
   ]
  },
  {
   "cell_type": "code",
   "execution_count": 12,
   "id": "a6eac5b6",
   "metadata": {
    "execution": {
     "iopub.execute_input": "2022-08-23T07:16:48.926509Z",
     "iopub.status.busy": "2022-08-23T07:16:48.926248Z",
     "iopub.status.idle": "2022-08-23T07:16:48.933401Z",
     "shell.execute_reply": "2022-08-23T07:16:48.932402Z"
    },
    "papermill": {
     "duration": 0.022435,
     "end_time": "2022-08-23T07:16:48.934892",
     "exception": false,
     "start_time": "2022-08-23T07:16:48.912457",
     "status": "completed"
    },
    "scrolled": false,
    "tags": []
   },
   "outputs": [],
   "source": [
    "carousel = create_carousel(npub)\n",
    "docs = ', '.join(['\"{0:s}\"'.format(k.split('/')[-1]) for k in res])\n",
    "slides = ', '.join([f'\"slide{k}_content\"' for k in range(1, npub + 1)])\n",
    "\n",
    "script = f\"\"\"\n",
    "const docs = [{docs}]\n",
    "\n",
    "const slides = [{slides}]\n",
    "\"\"\" + \"\"\"\n",
    "async function run() {\n",
    "    for (let i = 0; i < docs.length; i++) {\n",
    "        let file = await fetch(docs[i]);\n",
    "        let text = await file.text()\n",
    "        document.getElementById(slides[i]).innerHTML =\n",
    "            marked.parse(text);\n",
    "    }\n",
    "    hljs.highlightAll();\n",
    "}\n",
    "run()\n",
    "\"\"\"\n",
    "\n",
    "page = f\"\"\"<!doctype html>\n",
    "<html lang=\"en\">\n",
    "\n",
    "<head>\n",
    "  <meta charset=\"utf-8\">\n",
    "  <meta name=\"viewport\" content=\"width=device-width, initial-scale=1\">\n",
    "  <!-- Bootstrap CSS -->\n",
    "  <link href=\"https://cdn.jsdelivr.net/npm/bootstrap@5.0.2/dist/css/bootstrap.min.css\" rel=\"stylesheet\"\n",
    "   integrity=\"sha384-EVSTQN3/azprG1Anm3QDgpJLIm9Nao0Yz1ztcQTwFspd3yD65VohhpuuCOmLASjC\" crossorigin=\"anonymous\">\n",
    "  <!-- highlight.js CSS -->\n",
    "  <link rel=\"stylesheet\" href=\"https://cdnjs.cloudflare.com/ajax/libs/highlight.js/11.1.0/styles/default.min.css\">\n",
    "  <!-- Mathjax 3 -->\n",
    "  <script type=\"text/javascript\" id=\"MathJax-config\" src=\"mathjax_config.js\"> </script>\n",
    "  <script type=\"text/javascript\" id=\"MathJax-script\" async \n",
    "    src=\"https://cdn.jsdelivr.net/npm/mathjax@3/es5/tex-mml-chtml.js\">\n",
    "  </script>\n",
    "  <link rel=\"stylesheet\" href=\"index_carousel.css\">\n",
    "  <link rel=\"icon\" type=\"image/x-icon\" href=\"https://www.mpia.de/assets/touch-icon-32x32-a66937bcebc4e8894ebff1f41a366c7c7220fd97a38869ee0f2db65a9f59b6c1.png\">\n",
    "  <title>MPIA Arxiv on deck!</title>\n",
    "</head>\n",
    "\n",
    "<body>\n",
    "  <div id=\"header\"> <img src=\"header_banner.png\" width=\"100%\"></div>\n",
    "  <div id=\"suptitle\"> 7-day archives </div>\n",
    "  <div id=\"info\">\n",
    "    <img src=\"https://pngimg.com/uploads/github/github_PNG58.png\" height=30rem></img>\n",
    "    <a href=https://github.com/mpi-astronomy/arxiv_display style=\"color:black;\">github/mpi-astronomy/arxiv_display</a> \n",
    "  </div>\n",
    "  {carousel:s}\n",
    "</body>\n",
    "\n",
    "<!-- Render Markdown -->\n",
    "\n",
    "<body>\n",
    "  <!-- highlight.js: https://highlightjs.org/download/ -->\n",
    "  <script src=\"https://cdnjs.cloudflare.com/ajax/libs/highlight.js/11.5.0/highlight.min.js\"></script>\n",
    "  <!-- marked.js -->\n",
    "  <script src=\"https://cdn.jsdelivr.net/npm/marked/marked.min.js\"></script>\n",
    "  <script>{script:s}</script>\n",
    "</body>\n",
    "</html>\n",
    "\"\"\"\n",
    "with open(\"_build/html/index_7days.html\", 'w') as fout:\n",
    "    fout.write(page)"
   ]
  },
  {
   "cell_type": "markdown",
   "id": "1cebacbc",
   "metadata": {
    "papermill": {
     "duration": 0.012582,
     "end_time": "2022-08-23T07:16:48.959957",
     "exception": false,
     "start_time": "2022-08-23T07:16:48.947375",
     "status": "completed"
    },
    "tags": []
   },
   "source": [
    "# Debugging papers"
   ]
  },
  {
   "cell_type": "raw",
   "id": "debe7cc6",
   "metadata": {
    "papermill": {
     "duration": 0.012576,
     "end_time": "2022-08-23T07:16:48.985101",
     "exception": false,
     "start_time": "2022-08-23T07:16:48.972525",
     "status": "completed"
    },
    "tags": []
   },
   "source": [
    "raise NotImplementedError(\"Manual Stop\")"
   ]
  },
  {
   "cell_type": "raw",
   "id": "eb169192",
   "metadata": {
    "papermill": {
     "duration": 0.012564,
     "end_time": "2022-08-23T07:16:49.010211",
     "exception": false,
     "start_time": "2022-08-23T07:16:48.997647",
     "status": "completed"
    },
    "scrolled": true,
    "tags": []
   },
   "source": [
    "from IPython.display import display, Markdown\n",
    "from TexSoup import TexSoup\n",
    "import re\n",
    "\n",
    "def bracket_error(source: str):\n",
    "    \"\"\" Find problematic portions of the document \"\"\"\n",
    "    \n",
    "    print(\"len(source)\", len(source))\n",
    "    \n",
    "    # Checking header\n",
    "    begin_doc = next(re.finditer(r'\\\\begin\\{document\\}', doc.source)).span()[1]\n",
    "    header = source[:begin_doc]\n",
    "    text = header + r\"\\n\\end{document}\"\n",
    "\n",
    "    try:\n",
    "        # print(\"Header check... \", end='')\n",
    "        TexSoup(text)\n",
    "        display(Markdown(f\"**[OK]** - Header\"))\n",
    "    except:\n",
    "        raise RuntimeError(\"Error in the header\")\n",
    "        \n",
    "    # Check the text per section until the end.\n",
    "    # Do not stop and try them all.\n",
    "    \n",
    "    problematic_text = []\n",
    "    \n",
    "    sections = ([(0, begin_doc, 'until first section')] + \n",
    "                [(g.span()[0], g.span()[1], g.group()) for g in re.finditer(r'\\\\section\\{.*\\}', source)] +\n",
    "                [(g.span()[0], g.span()[1], g.group()) for g in re.finditer(r'\\\\begin\\{appendix\\}', source)]\n",
    "               )\n",
    "    sections.append([len(source), len(source), 'end'])\n",
    "    \n",
    "    sections = sorted(sections, key=lambda x: x[0])\n",
    "    \n",
    "    prev_pos, prev_name = (0, 'header')\n",
    "    parsed = []\n",
    "    \n",
    "    for span, span_end, name in sections:\n",
    "\n",
    "        if span - prev_pos <= 0:\n",
    "            continue\n",
    "            \n",
    "\n",
    "        text = source[prev_pos:span]\n",
    "        if prev_pos > begin_doc:\n",
    "            text = r\"\\n\\begin{document}\" + text + r\"\\n\\end{document}\"\n",
    "        else:\n",
    "            text = text + r\"\\n\\end{document}\"\n",
    "        try:\n",
    "            #print(f\"{prev_pos}:{prev_name}-->{span}:{name} check... \", end='')\n",
    "            parsed.append(TexSoup(text, tolerance=1))  # allow not ending env\n",
    "            display(Markdown(f\"**[OK]** - *{prev_pos}*:{prev_name} &rarr; *{span}*:{name}\"))\n",
    "            # print(\"ok\")\n",
    "\n",
    "            prev_pos = span\n",
    "            prev_name = name\n",
    "        except:\n",
    "            # print(f\"error between {prev_pos} and {span}\")\n",
    "            display(Markdown(f\"**[ERR]** *{prev_pos}*:{prev_name} &rarr; *{span}*:{name}\"))\n",
    "            problematic_text.append((prev_pos, source[prev_pos:span]))\n",
    "            prev_pos = span\n",
    "            prev_name = name\n",
    "            # raise\n",
    "    return problematic_text, parsed\n",
    "\n",
    "\n",
    "def check_environment(text, offset=0):\n",
    "    \"\"\" Check environment \"\"\"\n",
    "    env = re.compile(r\"\\\\begin\\{(?P<env>.*)\\}(.*)\\\\end\\{(?P=env)\\}\", re.DOTALL)\n",
    "\n",
    "    for match in env.finditer(text):\n",
    "        beg, end = match.span()\n",
    "        beg += offset\n",
    "        end += offset\n",
    "        envname = match.groups()[0]\n",
    "        try:\n",
    "            latex.TexSoup(match.group())\n",
    "        except Exception as e:\n",
    "            display(e)\n",
    "            print(f\"Error in {envname:s} between {beg} and {end}\")\n",
    "            return match.groups()[1], beg, end"
   ]
  },
  {
   "cell_type": "raw",
   "id": "2315e835",
   "metadata": {
    "papermill": {
     "duration": 0.014533,
     "end_time": "2022-08-23T07:16:49.037414",
     "exception": false,
     "start_time": "2022-08-23T07:16:49.022881",
     "status": "completed"
    },
    "scrolled": false,
    "tags": []
   },
   "source": [
    "import importlib\n",
    "importlib.reload(latex)\n",
    "which = \"2204.03253\"\n",
    "paper_id = f'{which:s}'\n",
    "folder = f'tmp_{paper_id:s}'\n",
    "\n",
    "if not os.path.isdir(folder):\n",
    "    folder = retrieve_document_source(f\"{paper_id}\", f'tmp_{paper_id}')\n",
    "\n",
    "try:\n",
    "    doc = latex.LatexDocument(folder, validation=validation)    \n",
    "except AffiliationError as affilerror:\n",
    "    msg = f\"ArXiv:{paper_id:s} is not an MPIA paper... \" + str(affilerror)\n",
    "    print(msg)\n",
    "\n",
    "\n",
    "# Hack because sometimes author parsing does not work well\n",
    "if (len(doc.authors) != len(paper['authors'])):\n",
    "    doc._authors = paper['authors']\n",
    "if (doc.abstract) in (None, ''):\n",
    "    doc._abstract = paper['abstract']\n",
    "\n",
    "doc.comment = get_markdown_badge(paper_id) + \" _\" + paper['comments'] + \"_\"\n",
    "doc.highlight_authors_in_list(hl_list)\n",
    "\n",
    "full_md = doc.generate_markdown_text()"
   ]
  },
  {
   "cell_type": "raw",
   "id": "dd3781db",
   "metadata": {
    "papermill": {
     "duration": 0.014291,
     "end_time": "2022-08-23T07:16:49.066020",
     "exception": false,
     "start_time": "2022-08-23T07:16:49.051729",
     "status": "completed"
    },
    "scrolled": false,
    "tags": []
   },
   "source": [
    "doc"
   ]
  },
  {
   "cell_type": "raw",
   "id": "c6eed834",
   "metadata": {
    "papermill": {
     "duration": 0.012566,
     "end_time": "2022-08-23T07:16:49.091233",
     "exception": false,
     "start_time": "2022-08-23T07:16:49.078667",
     "status": "completed"
    },
    "tags": []
   },
   "source": [
    "# [check_environment(k) for k in bracket_error(doc.source)]\n",
    "_, _, a = latex.get_content_per_section(doc.source, verbose=True)\n",
    "if not a:\n",
    "    print(\"no issues per section\")\n",
    "for ak in a:\n",
    "    r = check_environment(ak[1], offset=ak[0])\n",
    "    print(r[1], r[2])\n",
    "    print(r[0])"
   ]
  },
  {
   "cell_type": "code",
   "execution_count": null,
   "id": "71ce768a",
   "metadata": {
    "papermill": {
     "duration": 0.012563,
     "end_time": "2022-08-23T07:16:49.116319",
     "exception": false,
     "start_time": "2022-08-23T07:16:49.103756",
     "status": "completed"
    },
    "tags": []
   },
   "outputs": [],
   "source": []
  }
 ],
 "metadata": {
  "kernelspec": {
   "display_name": "Python 3.10.6 64-bit",
   "language": "python",
   "name": "python3"
  },
  "language_info": {
   "codemirror_mode": {
    "name": "ipython",
    "version": 3
   },
   "file_extension": ".py",
   "mimetype": "text/x-python",
   "name": "python",
   "nbconvert_exporter": "python",
   "pygments_lexer": "ipython3",
   "version": "3.9.13"
  },
  "papermill": {
   "default_parameters": {},
   "duration": 374.305289,
   "end_time": "2022-08-23T07:16:49.449019",
   "environment_variables": {},
   "exception": null,
   "input_path": "MPIA daily digest.ipynb",
   "output_path": "log.ipynb",
   "parameters": {},
   "start_time": "2022-08-23T07:10:35.143730",
   "version": "2.4.0"
  },
  "vscode": {
   "interpreter": {
    "hash": "e7370f93d1d0cde622a1f8e1c04877d8463912d04d973331ad4851f04de6915a"
   }
  },
  "widgets": {
   "application/vnd.jupyter.widget-state+json": {
    "state": {
     "0d32c37f91dc48aaa764b6a592fd3195": {
      "model_module": "@jupyter-widgets/controls",
      "model_module_version": "2.0.0",
      "model_name": "HTMLModel",
      "state": {
       "_dom_classes": [],
       "_model_module": "@jupyter-widgets/controls",
       "_model_module_version": "2.0.0",
       "_model_name": "HTMLModel",
       "_view_count": null,
       "_view_module": "@jupyter-widgets/controls",
       "_view_module_version": "2.0.0",
       "_view_name": "HTMLView",
       "description": "",
       "description_allow_html": false,
       "layout": "IPY_MODEL_d8b60852f05d4e57a205f321533a934d",
       "placeholder": "​",
       "style": "IPY_MODEL_7adedb430e7b4561a9cf348cfe1424d7",
       "tabbable": null,
       "tooltip": null,
       "value": " 22/22 [05:47&lt;00:00, 13.31s/it]"
      }
     },
     "29527c23cb7e4d9da5bf7777ace438c4": {
      "model_module": "@jupyter-widgets/controls",
      "model_module_version": "2.0.0",
      "model_name": "HBoxModel",
      "state": {
       "_dom_classes": [],
       "_model_module": "@jupyter-widgets/controls",
       "_model_module_version": "2.0.0",
       "_model_name": "HBoxModel",
       "_view_count": null,
       "_view_module": "@jupyter-widgets/controls",
       "_view_module_version": "2.0.0",
       "_view_name": "HBoxView",
       "box_style": "",
       "children": [
        "IPY_MODEL_99a50d4f21cd492f980ce250a3f765db",
        "IPY_MODEL_a7f00f0cd02e414eb77b416b3f908c22",
        "IPY_MODEL_0d32c37f91dc48aaa764b6a592fd3195"
       ],
       "layout": "IPY_MODEL_e26b17a4556542ed86e250c026edd0dd",
       "tabbable": null,
       "tooltip": null
      }
     },
     "326c430c1b264b3da7a87a4bdf7811e4": {
      "model_module": "@jupyter-widgets/base",
      "model_module_version": "2.0.0",
      "model_name": "LayoutModel",
      "state": {
       "_model_module": "@jupyter-widgets/base",
       "_model_module_version": "2.0.0",
       "_model_name": "LayoutModel",
       "_view_count": null,
       "_view_module": "@jupyter-widgets/base",
       "_view_module_version": "2.0.0",
       "_view_name": "LayoutView",
       "align_content": null,
       "align_items": null,
       "align_self": null,
       "border_bottom": null,
       "border_left": null,
       "border_right": null,
       "border_top": null,
       "bottom": null,
       "display": null,
       "flex": null,
       "flex_flow": null,
       "grid_area": null,
       "grid_auto_columns": null,
       "grid_auto_flow": null,
       "grid_auto_rows": null,
       "grid_column": null,
       "grid_gap": null,
       "grid_row": null,
       "grid_template_areas": null,
       "grid_template_columns": null,
       "grid_template_rows": null,
       "height": null,
       "justify_content": null,
       "justify_items": null,
       "left": null,
       "margin": null,
       "max_height": null,
       "max_width": null,
       "min_height": null,
       "min_width": null,
       "object_fit": null,
       "object_position": null,
       "order": null,
       "overflow": null,
       "padding": null,
       "right": null,
       "top": null,
       "visibility": null,
       "width": null
      }
     },
     "6505a3aa7edf434b84bd53378306c4da": {
      "model_module": "@jupyter-widgets/base",
      "model_module_version": "2.0.0",
      "model_name": "LayoutModel",
      "state": {
       "_model_module": "@jupyter-widgets/base",
       "_model_module_version": "2.0.0",
       "_model_name": "LayoutModel",
       "_view_count": null,
       "_view_module": "@jupyter-widgets/base",
       "_view_module_version": "2.0.0",
       "_view_name": "LayoutView",
       "align_content": null,
       "align_items": null,
       "align_self": null,
       "border_bottom": null,
       "border_left": null,
       "border_right": null,
       "border_top": null,
       "bottom": null,
       "display": null,
       "flex": null,
       "flex_flow": null,
       "grid_area": null,
       "grid_auto_columns": null,
       "grid_auto_flow": null,
       "grid_auto_rows": null,
       "grid_column": null,
       "grid_gap": null,
       "grid_row": null,
       "grid_template_areas": null,
       "grid_template_columns": null,
       "grid_template_rows": null,
       "height": null,
       "justify_content": null,
       "justify_items": null,
       "left": null,
       "margin": null,
       "max_height": null,
       "max_width": null,
       "min_height": null,
       "min_width": null,
       "object_fit": null,
       "object_position": null,
       "order": null,
       "overflow": null,
       "padding": null,
       "right": null,
       "top": null,
       "visibility": null,
       "width": null
      }
     },
     "7adedb430e7b4561a9cf348cfe1424d7": {
      "model_module": "@jupyter-widgets/controls",
      "model_module_version": "2.0.0",
      "model_name": "HTMLStyleModel",
      "state": {
       "_model_module": "@jupyter-widgets/controls",
       "_model_module_version": "2.0.0",
       "_model_name": "HTMLStyleModel",
       "_view_count": null,
       "_view_module": "@jupyter-widgets/base",
       "_view_module_version": "2.0.0",
       "_view_name": "StyleView",
       "background": null,
       "description_width": "",
       "font_size": null,
       "text_color": null
      }
     },
     "99a50d4f21cd492f980ce250a3f765db": {
      "model_module": "@jupyter-widgets/controls",
      "model_module_version": "2.0.0",
      "model_name": "HTMLModel",
      "state": {
       "_dom_classes": [],
       "_model_module": "@jupyter-widgets/controls",
       "_model_module_version": "2.0.0",
       "_model_name": "HTMLModel",
       "_view_count": null,
       "_view_module": "@jupyter-widgets/controls",
       "_view_module_version": "2.0.0",
       "_view_name": "HTMLView",
       "description": "",
       "description_allow_html": false,
       "layout": "IPY_MODEL_326c430c1b264b3da7a87a4bdf7811e4",
       "placeholder": "​",
       "style": "IPY_MODEL_b1cb418ebe2e4c3e892467891eea4da0",
       "tabbable": null,
       "tooltip": null,
       "value": "100%"
      }
     },
     "a7f00f0cd02e414eb77b416b3f908c22": {
      "model_module": "@jupyter-widgets/controls",
      "model_module_version": "2.0.0",
      "model_name": "FloatProgressModel",
      "state": {
       "_dom_classes": [],
       "_model_module": "@jupyter-widgets/controls",
       "_model_module_version": "2.0.0",
       "_model_name": "FloatProgressModel",
       "_view_count": null,
       "_view_module": "@jupyter-widgets/controls",
       "_view_module_version": "2.0.0",
       "_view_name": "ProgressView",
       "bar_style": "success",
       "description": "",
       "description_allow_html": false,
       "layout": "IPY_MODEL_6505a3aa7edf434b84bd53378306c4da",
       "max": 22.0,
       "min": 0.0,
       "orientation": "horizontal",
       "style": "IPY_MODEL_c423a925b1d9445da90b73a12e064450",
       "tabbable": null,
       "tooltip": null,
       "value": 22.0
      }
     },
     "b1cb418ebe2e4c3e892467891eea4da0": {
      "model_module": "@jupyter-widgets/controls",
      "model_module_version": "2.0.0",
      "model_name": "HTMLStyleModel",
      "state": {
       "_model_module": "@jupyter-widgets/controls",
       "_model_module_version": "2.0.0",
       "_model_name": "HTMLStyleModel",
       "_view_count": null,
       "_view_module": "@jupyter-widgets/base",
       "_view_module_version": "2.0.0",
       "_view_name": "StyleView",
       "background": null,
       "description_width": "",
       "font_size": null,
       "text_color": null
      }
     },
     "c423a925b1d9445da90b73a12e064450": {
      "model_module": "@jupyter-widgets/controls",
      "model_module_version": "2.0.0",
      "model_name": "ProgressStyleModel",
      "state": {
       "_model_module": "@jupyter-widgets/controls",
       "_model_module_version": "2.0.0",
       "_model_name": "ProgressStyleModel",
       "_view_count": null,
       "_view_module": "@jupyter-widgets/base",
       "_view_module_version": "2.0.0",
       "_view_name": "StyleView",
       "bar_color": null,
       "description_width": ""
      }
     },
     "d8b60852f05d4e57a205f321533a934d": {
      "model_module": "@jupyter-widgets/base",
      "model_module_version": "2.0.0",
      "model_name": "LayoutModel",
      "state": {
       "_model_module": "@jupyter-widgets/base",
       "_model_module_version": "2.0.0",
       "_model_name": "LayoutModel",
       "_view_count": null,
       "_view_module": "@jupyter-widgets/base",
       "_view_module_version": "2.0.0",
       "_view_name": "LayoutView",
       "align_content": null,
       "align_items": null,
       "align_self": null,
       "border_bottom": null,
       "border_left": null,
       "border_right": null,
       "border_top": null,
       "bottom": null,
       "display": null,
       "flex": null,
       "flex_flow": null,
       "grid_area": null,
       "grid_auto_columns": null,
       "grid_auto_flow": null,
       "grid_auto_rows": null,
       "grid_column": null,
       "grid_gap": null,
       "grid_row": null,
       "grid_template_areas": null,
       "grid_template_columns": null,
       "grid_template_rows": null,
       "height": null,
       "justify_content": null,
       "justify_items": null,
       "left": null,
       "margin": null,
       "max_height": null,
       "max_width": null,
       "min_height": null,
       "min_width": null,
       "object_fit": null,
       "object_position": null,
       "order": null,
       "overflow": null,
       "padding": null,
       "right": null,
       "top": null,
       "visibility": null,
       "width": null
      }
     },
     "e26b17a4556542ed86e250c026edd0dd": {
      "model_module": "@jupyter-widgets/base",
      "model_module_version": "2.0.0",
      "model_name": "LayoutModel",
      "state": {
       "_model_module": "@jupyter-widgets/base",
       "_model_module_version": "2.0.0",
       "_model_name": "LayoutModel",
       "_view_count": null,
       "_view_module": "@jupyter-widgets/base",
       "_view_module_version": "2.0.0",
       "_view_name": "LayoutView",
       "align_content": null,
       "align_items": null,
       "align_self": null,
       "border_bottom": null,
       "border_left": null,
       "border_right": null,
       "border_top": null,
       "bottom": null,
       "display": null,
       "flex": null,
       "flex_flow": null,
       "grid_area": null,
       "grid_auto_columns": null,
       "grid_auto_flow": null,
       "grid_auto_rows": null,
       "grid_column": null,
       "grid_gap": null,
       "grid_row": null,
       "grid_template_areas": null,
       "grid_template_columns": null,
       "grid_template_rows": null,
       "height": null,
       "justify_content": null,
       "justify_items": null,
       "left": null,
       "margin": null,
       "max_height": null,
       "max_width": null,
       "min_height": null,
       "min_width": null,
       "object_fit": null,
       "object_position": null,
       "order": null,
       "overflow": null,
       "padding": null,
       "right": null,
       "top": null,
       "visibility": null,
       "width": null
      }
     }
    },
    "version_major": 2,
    "version_minor": 0
   }
  }
 },
 "nbformat": 4,
 "nbformat_minor": 5
}