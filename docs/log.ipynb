{
 "cells": [
  {
   "cell_type": "markdown",
   "id": "92bcb855",
   "metadata": {
    "papermill": {
     "duration": 0.005743,
     "end_time": "2022-11-23T04:07:17.954802",
     "exception": false,
     "start_time": "2022-11-23T04:07:17.949059",
     "status": "completed"
    },
    "tags": []
   },
   "source": [
    "# MPIA Arxiv on Deck 2\n",
    "\n",
    "Contains the steps to produce the paper extractions."
   ]
  },
  {
   "cell_type": "code",
   "execution_count": 1,
   "id": "3a0d6e11",
   "metadata": {
    "execution": {
     "iopub.execute_input": "2022-11-23T04:07:17.965396Z",
     "iopub.status.busy": "2022-11-23T04:07:17.964849Z",
     "iopub.status.idle": "2022-11-23T04:07:18.138164Z",
     "shell.execute_reply": "2022-11-23T04:07:18.137415Z"
    },
    "papermill": {
     "duration": 0.180939,
     "end_time": "2022-11-23T04:07:18.140502",
     "exception": false,
     "start_time": "2022-11-23T04:07:17.959563",
     "status": "completed"
    },
    "tags": []
   },
   "outputs": [],
   "source": [
    "# Imports\n",
    "import os\n",
    "from IPython.display import Markdown, display\n",
    "from tqdm.notebook import tqdm\n",
    "import warnings\n",
    "from PIL import Image \n",
    "\n",
    "# requires arxiv_on_deck_2\n",
    "\n",
    "from arxiv_on_deck_2.arxiv2 import (get_new_papers, \n",
    "                                    get_paper_from_identifier,\n",
    "                                    retrieve_document_source, \n",
    "                                    get_markdown_badge)\n",
    "from arxiv_on_deck_2 import (latex, \n",
    "                             mpia,\n",
    "                             highlight_authors_in_list)\n",
    "\n",
    "# Sometimes images are really big\n",
    "Image.MAX_IMAGE_PIXELS = 1000000000 "
   ]
  },
  {
   "cell_type": "code",
   "execution_count": 2,
   "id": "22aa9d44",
   "metadata": {
    "execution": {
     "iopub.execute_input": "2022-11-23T04:07:18.152768Z",
     "iopub.status.busy": "2022-11-23T04:07:18.152040Z",
     "iopub.status.idle": "2022-11-23T04:07:18.157416Z",
     "shell.execute_reply": "2022-11-23T04:07:18.156707Z"
    },
    "papermill": {
     "duration": 0.012375,
     "end_time": "2022-11-23T04:07:18.159146",
     "exception": false,
     "start_time": "2022-11-23T04:07:18.146771",
     "status": "completed"
    },
    "tags": []
   },
   "outputs": [],
   "source": [
    "# Some useful definitions.\n",
    "\n",
    "class AffiliationWarning(UserWarning):\n",
    "    pass\n",
    "\n",
    "class AffiliationError(RuntimeError):\n",
    "    pass\n",
    "\n",
    "def validation(source: str):\n",
    "    \"\"\"Raises error paper during parsing of source file\n",
    "    \n",
    "    Allows checks before parsing TeX code.\n",
    "    \n",
    "    Raises AffiliationWarning\n",
    "    \"\"\"\n",
    "    check = mpia.affiliation_verifications(source, verbose=True)\n",
    "    if check is not True:\n",
    "        raise AffiliationError(\"mpia.affiliation_verifications: \" + check)\n",
    "\n",
    "        \n",
    "warnings.simplefilter('always', AffiliationWarning)"
   ]
  },
  {
   "cell_type": "code",
   "execution_count": 3,
   "id": "14622700",
   "metadata": {
    "execution": {
     "iopub.execute_input": "2022-11-23T04:07:18.169031Z",
     "iopub.status.busy": "2022-11-23T04:07:18.168253Z",
     "iopub.status.idle": "2022-11-23T04:07:18.172495Z",
     "shell.execute_reply": "2022-11-23T04:07:18.171833Z"
    },
    "papermill": {
     "duration": 0.010878,
     "end_time": "2022-11-23T04:07:18.174007",
     "exception": false,
     "start_time": "2022-11-23T04:07:18.163129",
     "status": "completed"
    },
    "tags": []
   },
   "outputs": [],
   "source": [
    "# additional CSS to consider. \n",
    "# TODO: Current into each exported file. \n",
    "#       This should be set once into the webpages directly.\n",
    "#       With only the class/id definitions in the .md files.\n",
    "\n",
    "debug_html = \"\"\"\n",
    "<style>\n",
    "#wrap{ overflow:auto; }\n",
    "#fig1{ background:yellow; width:100%; float:left; padding:5px;  }\n",
    "#fig2{ background:red; width:50%; float:left; clear:left; padding:5px;  }\n",
    "#fig3{ background:green; width:50%; float:left; padding:5px;   }\n",
    ".macros{ background:yellow; visibility:visible;}\n",
    "h1 {margin: 0 0 0 0;}\n",
    "mark {background-color:#fff3b6;}\n",
    "img {object-fit:contain; max-height:250px; display:inline-block; text-align: center;}\n",
    "</style>\n",
    "\"\"\" \n",
    "html = \"\"\"\n",
    "<style>\n",
    "#wrap{ overflow:auto; }\n",
    "#fig1{ width:100%; float:left; padding: 5px;  }\n",
    "#fig2{ width:50%; float:left; clear:left; padding: 5px;  }\n",
    "#fig3{ width:50%; float:left; padding: 5px;  }\n",
    ".macros{ visibility:hidden; height:0px; }\n",
    "h1 {margin: 0em 0 0 0;}\n",
    "mark {background-color:#fff3b6;}\n",
    "img {object-fit:contain; max-height:250px; display:inline-block; text-align: center;}\n",
    "</style>\n",
    "\"\"\""
   ]
  },
  {
   "cell_type": "markdown",
   "id": "14bd6310",
   "metadata": {
    "papermill": {
     "duration": 0.003992,
     "end_time": "2022-11-23T04:07:18.181971",
     "exception": false,
     "start_time": "2022-11-23T04:07:18.177979",
     "status": "completed"
    },
    "tags": []
   },
   "source": [
    "## get list of arxiv paper candidates\n",
    "\n",
    "We use the MPIA mitarbeiter list webpage from mpia.de to get author names\n",
    "We then get all new papers from Arxiv and match authors"
   ]
  },
  {
   "cell_type": "code",
   "execution_count": 4,
   "id": "2645e73a",
   "metadata": {
    "execution": {
     "iopub.execute_input": "2022-11-23T04:07:18.191494Z",
     "iopub.status.busy": "2022-11-23T04:07:18.191036Z",
     "iopub.status.idle": "2022-11-23T04:07:35.953303Z",
     "shell.execute_reply": "2022-11-23T04:07:35.951627Z"
    },
    "papermill": {
     "duration": 17.769453,
     "end_time": "2022-11-23T04:07:35.955368",
     "exception": false,
     "start_time": "2022-11-23T04:07:18.185915",
     "status": "completed"
    },
    "tags": []
   },
   "outputs": [
    {
     "name": "stdout",
     "output_type": "stream",
     "text": [
      "Arxiv has 61 new papers today\n",
      "          29 with possible author matches\n"
     ]
    }
   ],
   "source": [
    "# get list from MPIA website\n",
    "# it automatically filters identified non-scientists :func:`mpia.filter_non_scientists`\n",
    "mpia_authors = mpia.get_mpia_mitarbeiter_list()\n",
    "new_papers = get_new_papers()\n",
    "# add manual references\n",
    "add_paper_refs = []\n",
    "new_papers.extend([get_paper_from_identifier(k) for k in add_paper_refs])\n",
    "\n",
    "# select only papers with matching author names and highlight authors\n",
    "hl_list = [k[0] for k in mpia_authors]\n",
    "\n",
    "candidates = []\n",
    "for paperk in new_papers:\n",
    "    hl_authors = highlight_authors_in_list(paperk['authors'], hl_list)\n",
    "    matches = [(hl, orig) for hl, orig in zip(hl_authors, paperk['authors']) if 'mark' in hl]\n",
    "    paperk['authors'] = hl_authors\n",
    "    if matches:\n",
    "        candidates.append(paperk)\n",
    "print(\"\"\"Arxiv has {0:,d} new papers today\"\"\".format(len(new_papers)))        \n",
    "print(\"\"\"          {0:,d} with possible author matches\"\"\".format(len(candidates)))"
   ]
  },
  {
   "cell_type": "markdown",
   "id": "3543b34a",
   "metadata": {
    "papermill": {
     "duration": 0.004307,
     "end_time": "2022-11-23T04:07:35.964231",
     "exception": false,
     "start_time": "2022-11-23T04:07:35.959924",
     "status": "completed"
    },
    "tags": []
   },
   "source": [
    "# Parse sources and generate relevant outputs\n",
    "\n",
    "From the candidates, we do the following steps:\n",
    "* get their tarball from ArXiv (and extract data)\n",
    "* find the main .tex file: find one with \\documentclass{...} (sometimes it's non trivial)\n",
    "* Check affiliations with :func:`validation`, which uses :func:`mpia.affiliation_verifications`\n",
    "* If passing the affiliations: we parse the .tex source\n",
    "   * inject sub-documents into the main (flatten the main document)\n",
    "   * parse structure, extract information (title, abstract, authors, figures...)\n",
    "   * handles `\\graphicspath` if provided\n",
    "* Generate the .md document."
   ]
  },
  {
   "cell_type": "code",
   "execution_count": 5,
   "id": "9576b79e",
   "metadata": {
    "execution": {
     "iopub.execute_input": "2022-11-23T04:07:35.974517Z",
     "iopub.status.busy": "2022-11-23T04:07:35.973814Z",
     "iopub.status.idle": "2022-11-23T04:08:54.966297Z",
     "shell.execute_reply": "2022-11-23T04:08:54.965565Z"
    },
    "papermill": {
     "duration": 79.000037,
     "end_time": "2022-11-23T04:08:54.968353",
     "exception": false,
     "start_time": "2022-11-23T04:07:35.968316",
     "status": "completed"
    },
    "scrolled": false,
    "tags": []
   },
   "outputs": [
    {
     "data": {
      "application/vnd.jupyter.widget-view+json": {
       "model_id": "32e4abbc66464eb7b6d9525e7e5fdca6",
       "version_major": 2,
       "version_minor": 0
      },
      "text/plain": [
       "  0%|          | 0/28 [00:00<?, ?it/s]"
      ]
     },
     "metadata": {},
     "output_type": "display_data"
    },
    {
     "name": "stdout",
     "output_type": "stream",
     "text": [
      "Retrieving document from  https://arxiv.org/e-print/2211.11765\n"
     ]
    },
    {
     "name": "stdout",
     "output_type": "stream",
     "text": [
      "extracting tarball to tmp_2211.11765..."
     ]
    },
    {
     "name": "stdout",
     "output_type": "stream",
     "text": [
      " done.\n",
      "Retrieving document from  https://arxiv.org/e-print/2211.11767\n"
     ]
    },
    {
     "name": "stdout",
     "output_type": "stream",
     "text": [
      "extracting tarball to tmp_2211.11767..."
     ]
    },
    {
     "name": "stdout",
     "output_type": "stream",
     "text": [
      " done.\n"
     ]
    },
    {
     "name": "stdout",
     "output_type": "stream",
     "text": [
      "Retrieving document from  https://arxiv.org/e-print/2211.11770\n"
     ]
    },
    {
     "name": "stdout",
     "output_type": "stream",
     "text": [
      "extracting tarball to tmp_2211.11770..."
     ]
    },
    {
     "name": "stdout",
     "output_type": "stream",
     "text": [
      " done.\n",
      "Retrieving document from  https://arxiv.org/e-print/2211.11771\n"
     ]
    },
    {
     "name": "stdout",
     "output_type": "stream",
     "text": [
      "extracting tarball to tmp_2211.11771..."
     ]
    },
    {
     "name": "stdout",
     "output_type": "stream",
     "text": [
      " done.\n",
      "Retrieving document from  https://arxiv.org/e-print/2211.11783\n"
     ]
    },
    {
     "name": "stdout",
     "output_type": "stream",
     "text": [
      "extracting tarball to tmp_2211.11783..."
     ]
    },
    {
     "name": "stdout",
     "output_type": "stream",
     "text": [
      " done.\n",
      "Retrieving document from  https://arxiv.org/e-print/2211.11788\n"
     ]
    },
    {
     "name": "stdout",
     "output_type": "stream",
     "text": [
      "extracting tarball to tmp_2211.11788..."
     ]
    },
    {
     "name": "stdout",
     "output_type": "stream",
     "text": [
      " done.\n",
      "Retrieving document from  https://arxiv.org/e-print/2211.11790\n"
     ]
    },
    {
     "name": "stdout",
     "output_type": "stream",
     "text": [
      "extracting tarball to tmp_2211.11790..."
     ]
    },
    {
     "name": "stdout",
     "output_type": "stream",
     "text": [
      " done.\n"
     ]
    },
    {
     "name": "stderr",
     "output_type": "stream",
     "text": [
      "/opt/hostedtoolcache/Python/3.9.15/x64/lib/python3.9/site-packages/arxiv_on_deck_2/latex.py:118: LatexWarning: attempting recovering figure empty.eps\n",
      "  warnings.warn(LatexWarning(f'attempting recovering figure {image}'))\n",
      "/tmp/ipykernel_2183/4030337529.py:34: LatexWarning: 2211.11790 did not run properly\n",
      "Could not find figure empty.eps\n",
      "  warnings.warn(latex.LatexWarning(f\"{paper_id:s} did not run properly\\n\" +\n"
     ]
    },
    {
     "name": "stdout",
     "output_type": "stream",
     "text": [
      "Retrieving document from  https://arxiv.org/e-print/2211.11792\n"
     ]
    },
    {
     "name": "stdout",
     "output_type": "stream",
     "text": [
      "extracting tarball to tmp_2211.11792... done.\n",
      "Retrieving document from  https://arxiv.org/e-print/2211.11793\n"
     ]
    },
    {
     "name": "stderr",
     "output_type": "stream",
     "text": [
      "/opt/hostedtoolcache/Python/3.9.15/x64/lib/python3.9/site-packages/IPython/core/interactiveshell.py:3433: LatexWarning: Multiple tex files.\n",
      "\n",
      "  exec(code_obj, self.user_global_ns, self.user_ns)\n",
      "/opt/hostedtoolcache/Python/3.9.15/x64/lib/python3.9/site-packages/IPython/core/interactiveshell.py:3433: LatexWarning: Found documentclass in tmp_2211.11792/msiudek.tex\n",
      "\n",
      "  exec(code_obj, self.user_global_ns, self.user_ns)\n",
      "/opt/hostedtoolcache/Python/3.9.15/x64/lib/python3.9/site-packages/arxiv_on_deck_2/latex.py:292: LatexWarning: Latex injecting: 'references' from 'tmp_2211.11792/references.tex'\n",
      "  warnings.warn(LatexWarning(f\"Latex injecting: '{ext}' from '{subsource}'\"))\n"
     ]
    },
    {
     "name": "stdout",
     "output_type": "stream",
     "text": [
      "extracting tarball to tmp_2211.11793..."
     ]
    },
    {
     "name": "stdout",
     "output_type": "stream",
     "text": [
      " done.\n"
     ]
    },
    {
     "name": "stderr",
     "output_type": "stream",
     "text": [
      "/tmp/ipykernel_2183/4030337529.py:34: LatexWarning: 2211.11793 did not run properly\n",
      "sequence item 1: expected str instance, TexNode found\n",
      "  warnings.warn(latex.LatexWarning(f\"{paper_id:s} did not run properly\\n\" +\n"
     ]
    },
    {
     "name": "stdout",
     "output_type": "stream",
     "text": [
      "Retrieving document from  https://arxiv.org/e-print/2211.11849\n"
     ]
    },
    {
     "name": "stdout",
     "output_type": "stream",
     "text": [
      "extracting tarball to tmp_2211.11849..."
     ]
    },
    {
     "name": "stdout",
     "output_type": "stream",
     "text": [
      " done.\n",
      "Retrieving document from  https://arxiv.org/e-print/2211.11945\n"
     ]
    },
    {
     "name": "stdout",
     "output_type": "stream",
     "text": [
      "extracting tarball to tmp_2211.11945... done.\n",
      "Retrieving document from  https://arxiv.org/e-print/2211.11948\n"
     ]
    },
    {
     "name": "stdout",
     "output_type": "stream",
     "text": [
      "extracting tarball to tmp_2211.11948... done.\n",
      "Retrieving document from  https://arxiv.org/e-print/2211.11966\n"
     ]
    },
    {
     "name": "stdout",
     "output_type": "stream",
     "text": [
      "extracting tarball to tmp_2211.11966..."
     ]
    },
    {
     "name": "stdout",
     "output_type": "stream",
     "text": [
      " done.\n",
      "Retrieving document from  https://arxiv.org/e-print/2211.11984\n"
     ]
    },
    {
     "name": "stdout",
     "output_type": "stream",
     "text": [
      "extracting tarball to tmp_2211.11984..."
     ]
    },
    {
     "name": "stdout",
     "output_type": "stream",
     "text": [
      " done.\n",
      "Retrieving document from  https://arxiv.org/e-print/2211.11991\n"
     ]
    },
    {
     "name": "stdout",
     "output_type": "stream",
     "text": [
      "extracting tarball to tmp_2211.11991..."
     ]
    },
    {
     "name": "stdout",
     "output_type": "stream",
     "text": [
      " done.\n",
      "Retrieving document from  https://arxiv.org/e-print/2211.12011\n"
     ]
    },
    {
     "name": "stdout",
     "output_type": "stream",
     "text": [
      "extracting tarball to tmp_2211.12011... done.\n",
      "Retrieving document from  https://arxiv.org/e-print/2211.12026\n"
     ]
    },
    {
     "name": "stdout",
     "output_type": "stream",
     "text": [
      "extracting tarball to tmp_2211.12026... done.\n",
      "Retrieving document from  https://arxiv.org/e-print/2211.12052\n"
     ]
    },
    {
     "name": "stdout",
     "output_type": "stream",
     "text": [
      "extracting tarball to tmp_2211.12052... done.\n",
      "Retrieving document from  https://arxiv.org/e-print/2211.12055\n"
     ]
    },
    {
     "name": "stdout",
     "output_type": "stream",
     "text": [
      "extracting tarball to tmp_2211.12055..."
     ]
    },
    {
     "name": "stdout",
     "output_type": "stream",
     "text": [
      " done.\n",
      "Retrieving document from  https://arxiv.org/e-print/2211.12146\n"
     ]
    },
    {
     "name": "stdout",
     "output_type": "stream",
     "text": [
      "extracting tarball to tmp_2211.12146... done.\n",
      "Retrieving document from  https://arxiv.org/e-print/2211.12187\n"
     ]
    },
    {
     "name": "stdout",
     "output_type": "stream",
     "text": [
      "extracting tarball to tmp_2211.12187..."
     ]
    },
    {
     "name": "stdout",
     "output_type": "stream",
     "text": [
      " done.\n",
      "Retrieving document from  https://arxiv.org/e-print/2211.12202\n"
     ]
    },
    {
     "name": "stdout",
     "output_type": "stream",
     "text": [
      "extracting tarball to tmp_2211.12202..."
     ]
    },
    {
     "name": "stdout",
     "output_type": "stream",
     "text": [
      " done.\n",
      "Retrieving document from  https://arxiv.org/e-print/2211.12242\n"
     ]
    },
    {
     "name": "stderr",
     "output_type": "stream",
     "text": [
      "/opt/hostedtoolcache/Python/3.9.15/x64/lib/python3.9/site-packages/IPython/core/interactiveshell.py:3433: LatexWarning: Multiple tex files.\n",
      "\n",
      "  exec(code_obj, self.user_global_ns, self.user_ns)\n",
      "/opt/hostedtoolcache/Python/3.9.15/x64/lib/python3.9/site-packages/IPython/core/interactiveshell.py:3433: LatexWarning: Found documentclass in tmp_2211.12202/review_v1.tex\n",
      "\n",
      "  exec(code_obj, self.user_global_ns, self.user_ns)\n"
     ]
    },
    {
     "name": "stdout",
     "output_type": "stream",
     "text": [
      "extracting tarball to tmp_2211.12242..."
     ]
    },
    {
     "name": "stdout",
     "output_type": "stream",
     "text": [
      " done.\n",
      "Retrieving document from  https://arxiv.org/e-print/2211.12243\n"
     ]
    },
    {
     "name": "stdout",
     "output_type": "stream",
     "text": [
      "extracting tarball to tmp_2211.12243..."
     ]
    },
    {
     "name": "stdout",
     "output_type": "stream",
     "text": [
      " done.\n",
      "Retrieving document from  https://arxiv.org/e-print/2211.12257\n"
     ]
    },
    {
     "name": "stderr",
     "output_type": "stream",
     "text": [
      "/opt/hostedtoolcache/Python/3.9.15/x64/lib/python3.9/site-packages/IPython/core/interactiveshell.py:3433: LatexWarning: Multiple tex files.\n",
      "\n",
      "  exec(code_obj, self.user_global_ns, self.user_ns)\n",
      "/opt/hostedtoolcache/Python/3.9.15/x64/lib/python3.9/site-packages/IPython/core/interactiveshell.py:3433: LatexWarning: Found documentclass in tmp_2211.12243/main.tex\n",
      "\n",
      "  exec(code_obj, self.user_global_ns, self.user_ns)\n",
      "/opt/hostedtoolcache/Python/3.9.15/x64/lib/python3.9/site-packages/arxiv_on_deck_2/latex.py:292: LatexWarning: Latex injecting: 'conclusions.tex' from 'tmp_2211.12243/conclusions.tex'\n",
      "  warnings.warn(LatexWarning(f\"Latex injecting: '{ext}' from '{subsource}'\"))\n",
      "/opt/hostedtoolcache/Python/3.9.15/x64/lib/python3.9/site-packages/arxiv_on_deck_2/latex.py:292: LatexWarning: Latex injecting: 'results.tex' from 'tmp_2211.12243/results.tex'\n",
      "  warnings.warn(LatexWarning(f\"Latex injecting: '{ext}' from '{subsource}'\"))\n",
      "/opt/hostedtoolcache/Python/3.9.15/x64/lib/python3.9/site-packages/arxiv_on_deck_2/latex.py:292: LatexWarning: Latex injecting: 'methods.tex' from 'tmp_2211.12243/methods.tex'\n",
      "  warnings.warn(LatexWarning(f\"Latex injecting: '{ext}' from '{subsource}'\"))\n",
      "/opt/hostedtoolcache/Python/3.9.15/x64/lib/python3.9/site-packages/arxiv_on_deck_2/latex.py:292: LatexWarning: Latex injecting: 'introduction.tex' from 'tmp_2211.12243/introduction.tex'\n",
      "  warnings.warn(LatexWarning(f\"Latex injecting: '{ext}' from '{subsource}'\"))\n"
     ]
    },
    {
     "name": "stdout",
     "output_type": "stream",
     "text": [
      "extracting tarball to tmp_2211.12257..."
     ]
    },
    {
     "name": "stdout",
     "output_type": "stream",
     "text": [
      " done.\n",
      "Retrieving document from  https://arxiv.org/e-print/2211.12323\n"
     ]
    },
    {
     "name": "stdout",
     "output_type": "stream",
     "text": [
      "extracting tarball to tmp_2211.12323..."
     ]
    },
    {
     "name": "stdout",
     "output_type": "stream",
     "text": [
      " done.\n",
      "Retrieving document from  https://arxiv.org/e-print/2211.12426\n"
     ]
    },
    {
     "name": "stderr",
     "output_type": "stream",
     "text": [
      "/opt/hostedtoolcache/Python/3.9.15/x64/lib/python3.9/site-packages/IPython/core/interactiveshell.py:3433: LatexWarning: Multiple tex files.\n",
      "\n",
      "  exec(code_obj, self.user_global_ns, self.user_ns)\n",
      "/opt/hostedtoolcache/Python/3.9.15/x64/lib/python3.9/site-packages/IPython/core/interactiveshell.py:3433: LatexWarning: Found documentclass in tmp_2211.12323/aassymbols.tex\n",
      "\n",
      "  exec(code_obj, self.user_global_ns, self.user_ns)\n"
     ]
    },
    {
     "name": "stdout",
     "output_type": "stream",
     "text": [
      "extracting tarball to tmp_2211.12426... done.\n",
      "Retrieving document from  https://arxiv.org/e-print/2211.12438\n"
     ]
    },
    {
     "name": "stdout",
     "output_type": "stream",
     "text": [
      "extracting tarball to tmp_2211.12438..."
     ]
    },
    {
     "name": "stdout",
     "output_type": "stream",
     "text": [
      " done.\n"
     ]
    }
   ],
   "source": [
    "documents = []\n",
    "failed = []\n",
    "for paper in tqdm(candidates[:-1]):\n",
    "    paper_id = paper['identifier'].lower().replace('arxiv:', '')\n",
    "    \n",
    "    folder = f'tmp_{paper_id}'\n",
    "\n",
    "    try:\n",
    "        if not os.path.isdir(folder):\n",
    "            folder = retrieve_document_source(f\"{paper_id}\", f'tmp_{paper_id}')\n",
    "        \n",
    "        try:\n",
    "            doc = latex.LatexDocument(folder, validation=validation)    \n",
    "        except AffiliationError as affilerror:\n",
    "            msg = f\"ArXiv:{paper_id:s} is not an MPIA paper... \" + str(affilerror)\n",
    "            failed.append((paper, \"affiliation error: \" + str(affilerror) ))\n",
    "            continue\n",
    "        \n",
    "        # Hack because sometimes author parsing does not work well\n",
    "        if (len(doc.authors) != len(paper['authors'])):\n",
    "            doc._authors = paper['authors']\n",
    "        if (doc.abstract) in (None, ''):\n",
    "            doc._abstract = paper['abstract']\n",
    "            \n",
    "        doc.comment = (get_markdown_badge(paper_id) + \n",
    "                       \"<mark>Appeared on: \" + paper['date'] + \"</mark> - \" +\n",
    "                       \"_\" + paper['comments'] + \"_\")\n",
    "        doc.highlight_authors_in_list(hl_list)\n",
    "\n",
    "        full_md = doc.generate_markdown_text()\n",
    "        \n",
    "        documents.append((paper_id, full_md))\n",
    "    except Exception as e:\n",
    "        warnings.warn(latex.LatexWarning(f\"{paper_id:s} did not run properly\\n\" +\n",
    "                                         str(e)\n",
    "                                        ))\n",
    "        failed.append((paper, \"latex error \" + str(e)))"
   ]
  },
  {
   "cell_type": "markdown",
   "id": "2505a25c",
   "metadata": {
    "papermill": {
     "duration": 0.007149,
     "end_time": "2022-11-23T04:08:54.982964",
     "exception": false,
     "start_time": "2022-11-23T04:08:54.975815",
     "status": "completed"
    },
    "tags": []
   },
   "source": [
    "### Export the logs\n",
    "\n",
    "Throughout, we also keep track of the logs per paper. see `logs-{today date}.md` "
   ]
  },
  {
   "cell_type": "code",
   "execution_count": 6,
   "id": "d733828a",
   "metadata": {
    "execution": {
     "iopub.execute_input": "2022-11-23T04:08:54.998869Z",
     "iopub.status.busy": "2022-11-23T04:08:54.998105Z",
     "iopub.status.idle": "2022-11-23T04:08:55.038825Z",
     "shell.execute_reply": "2022-11-23T04:08:55.038234Z"
    },
    "papermill": {
     "duration": 0.050516,
     "end_time": "2022-11-23T04:08:55.040298",
     "exception": false,
     "start_time": "2022-11-23T04:08:54.989782",
     "status": "completed"
    },
    "scrolled": false,
    "tags": []
   },
   "outputs": [
    {
     "data": {
      "text/markdown": [
       "## Successful papers"
      ],
      "text/plain": [
       "<IPython.core.display.Markdown object>"
      ]
     },
     "metadata": {},
     "output_type": "display_data"
    },
    {
     "data": {
      "text/markdown": [
       "\n",
       "|||\n",
       "|---:|:---|\n",
       "| [![arXiv](https://img.shields.io/badge/arXiv-arXiv:2211.11767-b31b1b.svg)](https://arxiv.org/abs/arXiv:2211.11767) | **The high-albedo, low polarization disk around HD 114082 harbouring a  Jupiter-sized transiting planet**  |\n",
       "|| N. Engler, et al. -- incl., <mark>J. Olofsson</mark>, <mark>M. Feldt</mark>, <mark>M. Langlois</mark>, <mark>M.R. Meyer</mark> |\n",
       "|*Appeared on*| *2022-11-23*|\n",
       "|*Comments*| *27 pages*|\n",
       "|**Abstract**| We present new optical and near-IR images of debris disk around the F-type star HD 114082. We obtained direct imaging observations and analysed the TESS photometric time series data of this target with a goal to search for planetary companions and to characterise the morphology of the debris disk and the scattering properties of dust particles. HD 114082 was observed with the VLT/SPHERE instrument: the IRDIS camera in the K band together with the IFS in the Y, J and H band using the ADI technique as well as IRDIS in the H band and ZIMPOL in the I_PRIME band using the PDI technique. The scattered light images were fitted with a 3D model for single scattering in an optically thin dust disk. We performed aperture photometry in order to derive the scattering and polarized phase functions, polarization fraction and spectral scattering albedo for the dust particles in the disk. This method was also used to obtain the reflectance spectrum of the disk to retrieve the disk color and study the dust reflectivity in comparison to the debris disk HD 117214. We also performed the modeling of the HD 114082 light curve measured by TESS using the models for planet transit and stellar activity to put constraints on radius of the detected planet and its orbit. The debris disk appears as an axisymmetric debris belt with a radius of ~0.37$''$ (35 au), inclination of ~83$^\\circ$ and a wide inner cavity. Dust particles in HD 114082 have a maximum polarization fraction of ~17% and a high reflectivity which results in a spectral scattering albedo of 0.65. The analysis of TESS photometric data reveals a transiting planetary companion to HD 114082 with a radius of $\\sim$1~$\\rm R_{J}$ on an orbit with a semi-major axis of $0.7 \\pm 0.4$ au. In the IRDIS K band images, we reach deep sensitivity limits in terms of companion masses, down to ~5$M_{\\rm Jup}$ at 50 au, and ~11 $M_{\\rm Jup}$ at 20 au from the central star. |"
      ],
      "text/plain": [
       "[arXiv:2211.11767] The high-albedo, low polarization disk around HD 114082 harbouring a  Jupiter-sized transiting planet\n",
       "\tN. Engler, et al. -- incl., <mark>J. Olofsson</mark>, <mark>M. Feldt</mark>, <mark>M. Langlois</mark>, <mark>M.R. Meyer</mark>"
      ]
     },
     "metadata": {},
     "output_type": "display_data"
    },
    {
     "data": {
      "text/markdown": [
       "## Failed papers"
      ],
      "text/plain": [
       "<IPython.core.display.Markdown object>"
      ]
     },
     "metadata": {},
     "output_type": "display_data"
    },
    {
     "data": {
      "text/markdown": [
       "\n",
       "|||\n",
       "|---:|:---|\n",
       "| [![arXiv](https://img.shields.io/badge/arXiv-arXiv:2211.11783-b31b1b.svg)](https://arxiv.org/abs/arXiv:2211.11783) | **Reconstructing and Classifying SDSS DR16 Galaxy Spectra with  Machine-Learning and Dimensionality Reduction Algorithms**  |\n",
       "|| Felix Pat, et al. -- incl., <mark>Vanessa Böhm</mark>, <mark>Dylan Green</mark> |\n",
       "|*Appeared on*| *2022-11-23*|\n",
       "|*Comments*| *ASP Conference Series, Compendium of Undergraduate Research in Astronomy and Space Science (accepted), 24 pages, 14 figures*|\n",
       "|**Abstract**| Optical spectra of galaxies and quasars from large cosmological surveys are used to measure redshifts and infer distances. They are also rich with information on the intrinsic properties of these astronomical objects. However, their physical interpretation can be challenging due to the substantial number of degrees of freedom, various sources of noise, and degeneracies between physical parameters that cause similar spectral characteristics. To gain deeper insights into these degeneracies, we apply two unsupervised machine learning frameworks to a sample from the Sloan Digital Sky Survey data release 16 (SDSS DR16). The first framework is a Probabilistic Auto-Encoder (PAE), a two-stage deep learning framework consisting of a data compression stage from 1000 elements to 10 parameters and a density estimation stage. The second framework is a Uniform Manifold Approximation and Projection (UMAP), which we apply to both the uncompressed and compressed data. Exploring across regions on the compressed data UMAP, we construct sequences of stacked spectra which show a gradual transition from star-forming galaxies with narrow emission lines and blue spectra to passive galaxies with absorption lines and red spectra. Focusing on galaxies with broad emission lines produced by quasars, we find a sequence with varying levels of obscuration caused by cosmic dust. The experiments we present here inform future applications of neural networks and dimensionality reduction algorithms for large astronomical spectroscopic surveys. |\n",
       "|<p style=\"color:green\"> **ERROR** </p>| <p style=\"color:green\">affiliation error: mpia.affiliation_verifications: '69117' keyword not found.</p> |"
      ],
      "text/plain": [
       "<IPython.core.display.Markdown object>"
      ]
     },
     "metadata": {},
     "output_type": "display_data"
    },
    {
     "data": {
      "text/markdown": [
       "\n",
       "|||\n",
       "|---:|:---|\n",
       "| [![arXiv](https://img.shields.io/badge/arXiv-arXiv:2211.12202-b31b1b.svg)](https://arxiv.org/abs/arXiv:2211.12202) | **Active Galactic Nuclei as potential Sources of Ultra-High Energy Cosmic  Rays**  |\n",
       "|| <mark>Frank M. Rieger</mark> |\n",
       "|*Appeared on*| *2022-11-23*|\n",
       "|*Comments*| *Compact invited review paper; Universe, Special Issue Black Holes and Relativistic Jets; 30 pages, 18 figures*|\n",
       "|**Abstract**| Active Galactic Nuclei (AGNs) and their relativistic jets belong to the most promising class of ultra-high-energy cosmic ray (UHECR) accelerators. This compact review summarises basic experimental findings by recent instruments, and discusses possible interpretations and astrophysical constraints on source energetics. Particular attention is given to potential sites and mechanisms of UHECR acceleration in AGNs, including gap-type particle acceleration close to the black hole, as well as first-order Fermi acceleration at trans-relativistic shocks and stochastic shear particle acceleration in large-scale jets. It is argued that the last two represent the most promising mechanisms given our current understanding, and that nearby FR~I type radio galaxies provide a suitable environment for UHECR acceleration. |\n",
       "|<p style=\"color:green\"> **ERROR** </p>| <p style=\"color:green\">affiliation error: mpia.affiliation_verifications: '69117' keyword not found.</p> |"
      ],
      "text/plain": [
       "<IPython.core.display.Markdown object>"
      ]
     },
     "metadata": {},
     "output_type": "display_data"
    },
    {
     "data": {
      "text/markdown": [
       "\n",
       "|||\n",
       "|---:|:---|\n",
       "| [![arXiv](https://img.shields.io/badge/arXiv-arXiv:2211.11765-b31b1b.svg)](https://arxiv.org/abs/arXiv:2211.11765) | **GalaxyFlow: Upsampling Hydrodynamical Simulations for Realistic Gaia  Mock Catalogs**  |\n",
       "|| <mark>Sung Hak Lim</mark>, Kailash A. Raman, Matthew R. Buckley, David Shih |\n",
       "|*Appeared on*| *2022-11-23*|\n",
       "|*Comments*| *17 pages, 11 figures*|\n",
       "|**Abstract**| Cosmological N-body simulations of galaxies operate at the level of \"star particles\" with a mass resolution on the scale of thousands of solar masses. Turning these simulations into stellar mock catalogs requires \"upsampling\" the star particles into individual stars following the same phase-space density. In this paper, we demonstrate that normalizing flows provide a viable upsampling method that greatly improves on conventionally-used kernel smoothing algorithms such as EnBiD. We demonstrate our flow-based upsampling technique, dubbed GalaxyFlow, on a neighborhood of the Solar location in two simulated galaxies: Auriga 6 and h277. By eye, GalaxyFlow produces stellar distributions that are smoother than EnBiD-based methods and more closely match the Gaia DR3 catalog. For a quantitative comparison of generative model performance, we introduce a novel multi-model classifier test. Using this classifier test, we show that GalaxyFlow more accurately estimates the density of the underlying star particles than previous methods. |\n",
       "|<p style=\"color:green\"> **ERROR** </p>| <p style=\"color:green\">affiliation error: mpia.affiliation_verifications: 'Heidelberg' keyword not found.</p> |"
      ],
      "text/plain": [
       "<IPython.core.display.Markdown object>"
      ]
     },
     "metadata": {},
     "output_type": "display_data"
    },
    {
     "data": {
      "text/markdown": [
       "\n",
       "|||\n",
       "|---:|:---|\n",
       "| [![arXiv](https://img.shields.io/badge/arXiv-arXiv:2211.11770-b31b1b.svg)](https://arxiv.org/abs/arXiv:2211.11770) | **Removal of Hot Saturns in Mass-Radius Plane by Runaway Mass Loss**  |\n",
       "|| Daniel P. Thorngren, <mark>Eve J. Lee</mark>, Eric D. Lopez |\n",
       "|*Appeared on*| *2022-11-23*|\n",
       "|*Comments*| *10 pages, 5 figures, submitted to ApJ Letters*|\n",
       "|**Abstract**| The hot Saturn population exhibits a boundary in mass-radius space, such that no planets are observed at a density less than $\\sim$0.1 g cm$^{-3}$. Yet, planet interior structure models can readily construct such objects as the natural result of radius inflation. Here, we investigate the role XUV-driven mass-loss plays in sculpting the density boundary by constructing interior structure models that include radius inflation, photoevaporative mass loss and a simple prescription of Roche lobe overflow. We demonstrate that planets puffier than $\\sim$0.1 g cm$^{-3}$ experience a runaway mass loss caused by adiabatic radius expansion as the gas layer is stripped away, providing a good explanation of the observed edge in mass-radius space. The process is also visible in the radius-period and mass-period spaces, though smaller, high-bulk-metallicity planets can still survive at short periods, preserving a partial record of the population distribution at formation. |\n",
       "|<p style=\"color:green\"> **ERROR** </p>| <p style=\"color:green\">affiliation error: mpia.affiliation_verifications: 'Heidelberg' keyword not found.</p> |"
      ],
      "text/plain": [
       "<IPython.core.display.Markdown object>"
      ]
     },
     "metadata": {},
     "output_type": "display_data"
    },
    {
     "data": {
      "text/markdown": [
       "\n",
       "|||\n",
       "|---:|:---|\n",
       "| [![arXiv](https://img.shields.io/badge/arXiv-arXiv:2211.11771-b31b1b.svg)](https://arxiv.org/abs/arXiv:2211.11771) | **Active galactic nucleus jet feedback in hydrostatic halos**  |\n",
       "|| Rainer Weinberger, et al. -- incl., <mark>Lars Hernquist</mark>, <mark>Yuan Li</mark> |\n",
       "|*Appeared on*| *2022-11-23*|\n",
       "|*Comments*| *21 pages, 20 figures, submitted to MNRAS, comments welcome*|\n",
       "|**Abstract**| Feedback driven by jets from active galactic nuclei is believed to be responsible for reducing cooling flows in cool-core galaxy clusters. We use simulations to model feedback from hydrodynamic jets in isolated halos. While the jet propagation converges only after the diameter of the jet is well resolved, reliable predictions about the effects these jets have on the cooling time distribution function only require resolutions sufficient to keep the jet-inflated cavities stable. Comparing different model variations, as well as an independent jet model using a different hydrodynamics code, we show that the dominant uncertainties are the choices of jet properties within a given model. Independent of implementation, we find that light, thermal jets with low momentum flux tend to delay the onset of a cooling flow more efficiently on a $50$ Myr timescale than heavy, kinetic jets. The delay of the cooling flow originates from a displacement and boost in entropy of the central gas. If the jet luminosity depends on accretion rate, collimated, light, hydrodynamic jets are able to reduce cooling flows in halos, without a need for jet precession or wide opening angles. Comparing the jet feedback with a `kinetic wind' implementation shows that equal amounts of star formation rate reduction can be achieved by different interactions with the halo gas: the jet has a larger effect on the hot halo gas while leaving the denser, star forming phase in place, while the wind acts more locally on the star forming phase, which manifests itself in different time-variability properties. |\n",
       "|<p style=\"color:green\"> **ERROR** </p>| <p style=\"color:green\">affiliation error: mpia.affiliation_verifications: 'Heidelberg' keyword not found.</p> |"
      ],
      "text/plain": [
       "<IPython.core.display.Markdown object>"
      ]
     },
     "metadata": {},
     "output_type": "display_data"
    },
    {
     "data": {
      "text/markdown": [
       "\n",
       "|||\n",
       "|---:|:---|\n",
       "| [![arXiv](https://img.shields.io/badge/arXiv-arXiv:2211.11788-b31b1b.svg)](https://arxiv.org/abs/arXiv:2211.11788) | **Modelling the accretion and feedback of supermassive black hole binaries  in gas-rich galaxy mergers**  |\n",
       "|| <mark>Shihong Liao</mark>, et al. |\n",
       "|*Appeared on*| *2022-11-23*|\n",
       "|*Comments*| *28 pages, 13 main + 6 appendix figures, submitted to MNRAS*|\n",
       "|**Abstract**| We introduce a new model for the accretion and feedback of supermassive black hole (SMBH) binaries to the KETJU code, which enables us to resolve the evolution of SMBH binaries down to separations of tens of Schwarzschild radii in gas-rich galaxy mergers. Our subgrid binary accretion model extends the widely used Bondi--Hoyle--Lyttleton accretion into the binary phase and incorporates preferential mass accretion onto the secondary SMBH, which is motivated by results from small-scale hydrodynamical circumbinary disc simulations. We perform idealised gas-rich disc galaxy merger simulations using pure thermal or pure kinetic active galactic nuclei (AGN) feedback. Our binary accretion model provides more physically motivated SMBH mass ratios, which are one of the key parameters for computing gravitational wave (GW) induced recoil velocities. The merger time-scales of our simulated SMBH binaries are in the range $t_{\\rm merge}{\\sim} 10$--$400$ Myr. Prograde in-plane equal-mass galaxy mergers lead to the shortest merger time-scales, as they experience the strongest starbursts, with the ensuing high stellar density resulting in a rapid SMBH coalescence. Compared to the thermal AGN feedback, the kinetic AGN feedback predicts longer merger time-scales and results in more core-like stellar profiles, as it is more effective in removing gas from the galaxy centre and quenching star formation. This suggests that the AGN feedback implementation plays a critical role in modelling SMBH coalescences. Our model will be useful for improving the modelling of SMBH mergers in gas-rich galaxies, the prime targets for the upcoming LISA GW observatory. |\n",
       "|<p style=\"color:green\"> **ERROR** </p>| <p style=\"color:green\">affiliation error: mpia.affiliation_verifications: 'Heidelberg' keyword not found.</p> |"
      ],
      "text/plain": [
       "<IPython.core.display.Markdown object>"
      ]
     },
     "metadata": {},
     "output_type": "display_data"
    },
    {
     "data": {
      "text/markdown": [
       "\n",
       "|||\n",
       "|---:|:---|\n",
       "| [![arXiv](https://img.shields.io/badge/arXiv-arXiv:2211.11792-b31b1b.svg)](https://arxiv.org/abs/arXiv:2211.11792) | **Unsupervised classification reveals new evolutionary pathways**  |\n",
       "|| M. Siudek, et al. -- incl., <mark>K. Lisiecki</mark> |\n",
       "|*Appeared on*| *2022-11-23*|\n",
       "|*Comments*| *Accepted for publication in the ML4ASTRO (ICML 2022) proceeding book*|\n",
       "|**Abstract**| While we already seem to have a general scenario of the evolution of different types of galaxies, a complete and satisfactory understanding of the processes that led to the formation of all the variety of today's galaxy types is still beyond our reach. To solve this problem, we need both large datasets reaching high redshifts and novel methodologies for dealing with them. The VIPERS survey statistical power, which observed $\\sim90,000$ galaxies at $z > 0.5$, and the application of an unsupervised clustering algorithm allowed us to distinguish 12 galaxy classes. Studies of their environmental dependence indicate that this classification may actually reflect different galaxy evolutionary paths. For instance, a class of the most passive red galaxies gathers galaxies $\\sim20\\%$ smaller than other red galaxies of a similar stellar mass, revealing the first sample of red nuggets at intermediate redshift. On the other end, a class of blue dwarf galaxies is composed mainly of AGN, challenging commonly used mid-infrared AGN selections. |\n",
       "|<p style=\"color:green\"> **ERROR** </p>| <p style=\"color:green\">affiliation error: mpia.affiliation_verifications: 'Heidelberg' keyword not found.</p> |"
      ],
      "text/plain": [
       "<IPython.core.display.Markdown object>"
      ]
     },
     "metadata": {},
     "output_type": "display_data"
    },
    {
     "data": {
      "text/markdown": [
       "\n",
       "|||\n",
       "|---:|:---|\n",
       "| [![arXiv](https://img.shields.io/badge/arXiv-arXiv:2211.11849-b31b1b.svg)](https://arxiv.org/abs/arXiv:2211.11849) | **The Thousand-Pulsar-Array program on MeerKAT -- IX. The time-averaged  properties of the observed pulsar population**  |\n",
       "|| B. Posselt, et al. -- incl., <mark>M. Kramer</mark> |\n",
       "|*Appeared on*| *2022-11-23*|\n",
       "|*Comments*| *Accepted for publication in MNRAS. 21 pages, 25 figures, 6 Tables*|\n",
       "|**Abstract**| We present the largest single survey to date of average profiles of radio pulsars, observed and processed using the same telescope and data reduction software. Specifically, we present measurements for 1170 pulsars, observed by the Thousand Pulsar Array (TPA) programme at the 64-dish SARAO MeerKAT radio telescope, in a frequency band from 856 to 1712 MHz. We provide rotation measures (RM), dispersion measures, flux densities and polarization properties. The catalogue includes 254 new RMs that substantially increase the total number of known pulsar RMs. Our integration times typically span over 1000 individual rotations per source. We show that the radio (pseudo)luminosity has a strong, shallow dependence on the spin-down energy, proportional to $\\dot{E}^{0.15\\pm0.04}$, that contradicts some previous proposals of population synthesis studies. In addition, we find a significant correlation between the steepness of the observed flux density spectra and $\\dot{E}$, and correlations of the fractional linear polarization with $\\dot{E}$, the spectral index, and the pulse width, which we discuss in the context of what is known about pulsar radio emission and how pulsars evolve with time. On the whole, we do not see significant correlations with the estimated surface magnetic field strength, and the correlations with $\\dot{E}$ are much stronger than those with the characteristic age. This finding lends support to the suggestion that magnetic dipole braking may not be the dominant factor for the evolution of pulsar rotation over the lifetimes of pulsars. A public data release of the high-fidelity time-averaged pulse profiles in full polarization accompanies our catalogue. |\n",
       "|<p style=\"color:green\"> **ERROR** </p>| <p style=\"color:green\">affiliation error: mpia.affiliation_verifications: 'Heidelberg' keyword not found.</p> |"
      ],
      "text/plain": [
       "<IPython.core.display.Markdown object>"
      ]
     },
     "metadata": {},
     "output_type": "display_data"
    },
    {
     "data": {
      "text/markdown": [
       "\n",
       "|||\n",
       "|---:|:---|\n",
       "| [![arXiv](https://img.shields.io/badge/arXiv-arXiv:2211.11945-b31b1b.svg)](https://arxiv.org/abs/arXiv:2211.11945) | **A targeted search for repeating fast radio bursts with the MWA**  |\n",
       "|| J. Tian, et al. -- incl., <mark>B. W. Meyers</mark> |\n",
       "|*Appeared on*| *2022-11-23*|\n",
       "|*Comments*| *Accepted for publication in MNRAS*|\n",
       "|**Abstract**| We present a targeted search for low-frequency (144--215\\,MHz) FRB emission from five repeating FRBs using 23.3\\,hr of archival data taken with the Murchison Widefield Array (MWA) Voltage Capture System (VCS) between 2014 September and 2020 May. This is the first time that the MWA VCS has been used to search for FRB signals from known repeaters, which enables much more sensitive FRB searches than previously performed with the standard MWA correlator mode. We performed a standard single pulse search with a temporal and spectral resolution of $400\\,\\mu$s and 10\\,kHz, respectively, over a $100\\,\\text{pc}\\,\\text{cm}^{-3}$ dispersion measure (DM) range centred at the known DM of each studied repeating FRB. No FRBs exceeding a $6\\sigma$ threshold were detected. The fluence upper limits in the range of 32--1175\\,Jy\\,ms and 36--488\\,Jy\\,ms derived from 10 observations of FRB 20190711A and four observations of FRB 20201124A respectively, allow us to constrain the spectral indices of their bursts to $\\gtrsim-1$ if these two repeaters were active during the MWA observations. If free-free absorption is responsible for our non-detection, we can constrain the size of the absorbing medium in terms of the electron temperature $T$ to $<1.00\\times(T/10^4\\text{K})^{-1.35}\\,\\text{pc}$, $<0.92\\times(T/10^4\\text{K})^{-1.35}\\,\\text{pc}$ and $<[0.22\\text{--}2.50]\\times(T/10^4\\text{K})^{-1.35}\\,\\text{pc}$ for FRB 20190117A, 20190711A, and 20201124A, respectively. However, given that the activities of these repeaters are not well characterised, our non-detections could also suggest they were inactive during the MWA observations. |\n",
       "|<p style=\"color:green\"> **ERROR** </p>| <p style=\"color:green\">affiliation error: mpia.affiliation_verifications: 'Heidelberg' keyword not found.</p> |"
      ],
      "text/plain": [
       "<IPython.core.display.Markdown object>"
      ]
     },
     "metadata": {},
     "output_type": "display_data"
    },
    {
     "data": {
      "text/markdown": [
       "\n",
       "|||\n",
       "|---:|:---|\n",
       "| [![arXiv](https://img.shields.io/badge/arXiv-arXiv:2211.11948-b31b1b.svg)](https://arxiv.org/abs/arXiv:2211.11948) | **Second order scalar perturbations induced by primordial curvature and  tensor perturbations**  |\n",
       "|| Zhe Changa, Kung-Yu Tinga, <mark>Xukun Zhang</mark>, Jing-Zhi Zhou |\n",
       "|*Appeared on*| *2022-11-23*|\n",
       "|*Comments*| **|\n",
       "|**Abstract**| The primordial perturbations will inevitably generate higher order perturbations. We study the second order scalar perturbations generated by the primordial curvature and tensor perturbations in the radiation-dominated era. After presenting all the possible second-order source terms, we obtain the explicit expressions of the kernel functions and the power spectra of the second order scalar perturbations. The contributions from the initial second-order perturbations are considered. We calculate the power spectra of second order scalar perturbations for different tensor-to-scalar ratio $r$. |\n",
       "|<p style=\"color:green\"> **ERROR** </p>| <p style=\"color:green\">affiliation error: mpia.affiliation_verifications: 'Heidelberg' keyword not found.</p> |"
      ],
      "text/plain": [
       "<IPython.core.display.Markdown object>"
      ]
     },
     "metadata": {},
     "output_type": "display_data"
    },
    {
     "data": {
      "text/markdown": [
       "\n",
       "|||\n",
       "|---:|:---|\n",
       "| [![arXiv](https://img.shields.io/badge/arXiv-arXiv:2211.11966-b31b1b.svg)](https://arxiv.org/abs/arXiv:2211.11966) | **Rarefied Broad-Line Regions in Active Galactic Nuclei: Anomalous  Responses in Reverberation Mapping and Implications for Weak-Emission Line  Quasars**  |\n",
       "|| Pu Du, <mark>Shuo Zhai</mark>, Jian-Min Wang |\n",
       "|*Appeared on*| *2022-11-23*|\n",
       "|*Comments*| *28 pages, 12 figures, accepted for publication in The Astrophysical Journal*|\n",
       "|**Abstract**| Reverberation mapping (RM) is a widely-used method for probing the physics of broad-line regions (BLRs) in active galactic nuclei (AGNs). There are increasing preliminary evidences that the RM behaviors of broad emission lines are influenced by BLR densities, however, the influences have not been investigated systematically from theoretical perspective. In the present paper, we adopt locally optimally emitting cloud model and use CLOUDY to obtain the one-dimensional transfer functions of the prominent UV and optical emission lines for different BLR densities. We find that the influences of BLR densities to RM behaviors have mainly three aspects. First, rarefied BLRs (with low gas densities) may show anomalous responses in RM observations. Their emission-line light curves inversely response the variations of continuum light curves, which may have been observed in some UV RM campaigns. Second, the different BLR densities in AGNs may result in correlations between the time lags and equivalent widths of emission lines, and may contribute to the scatters of the radius-luminosity relationships. Third, the variations of BLR densities may explain the changes of time lags in individual objects in different years. Some weak emission-line quasars (WLQs) are probably extreme cases of rarefied BLRs. We predict that their RM observations may show the anomalous responses. |\n",
       "|<p style=\"color:green\"> **ERROR** </p>| <p style=\"color:green\">affiliation error: mpia.affiliation_verifications: 'Heidelberg' keyword not found.</p> |"
      ],
      "text/plain": [
       "<IPython.core.display.Markdown object>"
      ]
     },
     "metadata": {},
     "output_type": "display_data"
    },
    {
     "data": {
      "text/markdown": [
       "\n",
       "|||\n",
       "|---:|:---|\n",
       "| [![arXiv](https://img.shields.io/badge/arXiv-arXiv:2211.11984-b31b1b.svg)](https://arxiv.org/abs/arXiv:2211.11984) | **Impact of the nonthermal electron radiation effects on the horizon scale  image structure of Sagittarius A***  |\n",
       "|| <mark>Shan-Shan Zhao</mark>, Lei Huang, Rusen Lu, Zhiqiang Shen |\n",
       "|*Appeared on*| *2022-11-23*|\n",
       "|*Comments*| **|\n",
       "|**Abstract**| The Event Horizon Telescope (EHT), with $\\sim$20 $\\mu$as high angular resolution, recently resolved the millimeter image of the suppermassive black hole in the Galaxy, Sagittarius A*. This opens a new window to study the plasma on horizon scales. The accreting disk probably contains a small fraction of nonthermal electrons and their emissions should contribute to the observed image. We study if such contributions are sufficient to cause structural differences detectable by current and future observational capabilities. We introduce nonthermal electrons in a semi-analytical accretion disk, which considers viscosity-leading heating processes, and adopt a continued hybrid electron energy distribution of thermal distribution and power-law tail. We generate the black hole images and extract the structural features as crescent parameters. We find the existence of nonthermal electron radiation makes the crescent much brighter, slightly larger, moderately thicker, and much more symmetric. When the nonthermal connecting Lorentz factor $\\gamma_c=65$, which is equivalent to the nonthermal electrons accounting for $\\sim1.5$% of the totals, nonthermal effects cause $\\sim2$% size difference at 230 GHz. Comparing with the structural changes caused by other physical factors, including inclination between the system and the observer, black hole spin, and interstellar medium scattering effects, we find that although nonthermal electron radiation takes the most unimportant role at 230 GHz, it becomes more significant at 345 GHz. |\n",
       "|<p style=\"color:green\"> **ERROR** </p>| <p style=\"color:green\">affiliation error: mpia.affiliation_verifications: 'Heidelberg' keyword not found.</p> |"
      ],
      "text/plain": [
       "<IPython.core.display.Markdown object>"
      ]
     },
     "metadata": {},
     "output_type": "display_data"
    },
    {
     "data": {
      "text/markdown": [
       "\n",
       "|||\n",
       "|---:|:---|\n",
       "| [![arXiv](https://img.shields.io/badge/arXiv-arXiv:2211.11991-b31b1b.svg)](https://arxiv.org/abs/arXiv:2211.11991) | **Witnessing a Galaxy Cluster Merger with JWST and a Chandra X-ray  Temperature Map**  |\n",
       "|| Brian C. Alden, <mark>Jack O. Burns</mark> |\n",
       "|*Appeared on*| *2022-11-23*|\n",
       "|*Comments*| *4 Pages, 1 Figure, Submitted to Research Notes o*|\n",
       "|**Abstract**| The first James Webb Space Telescope (JWST) image released was of galaxy cluster SMACSJ0723.3- 7327, a lensing cluster at z=0.39 showing detail only JWST can provide. While the majority of the focus has been on the brilliantly lensed galaxies at redshifts far beyond it, there is more to the story than it being just a lensing cluster. The Chandra X-ray temperature map tells a tale of a merging cluster with a significant subcluster leaving a wake in the intracluster medium (ICM). This paper presents a high fidelity temperature map of SMACSJ0723.3-7327 using adaptive circular binning, overlaid with the JWST image, showing clear signs of merger activity. As the ICM extends well past the boundaries of the JWST imagery, and no low-frequency radio observations are yet published, a fuller story of this cluster remains to be told. This new X-ray temperature map reveals new details of a moderately distant actively merging cluster. |\n",
       "|<p style=\"color:green\"> **ERROR** </p>| <p style=\"color:green\">affiliation error: mpia.affiliation_verifications: 'Heidelberg' keyword not found.</p> |"
      ],
      "text/plain": [
       "<IPython.core.display.Markdown object>"
      ]
     },
     "metadata": {},
     "output_type": "display_data"
    },
    {
     "data": {
      "text/markdown": [
       "\n",
       "|||\n",
       "|---:|:---|\n",
       "| [![arXiv](https://img.shields.io/badge/arXiv-arXiv:2211.12011-b31b1b.svg)](https://arxiv.org/abs/arXiv:2211.12011) | **Asteroseismology of the pulsating extremely low-mass white dwarf SDSS  J111215.82+111745.0: a model with $p$-mode pulsations consistent with the  observations**  |\n",
       "|| Jie Su, <mark>Yan Li</mark> |\n",
       "|*Appeared on*| *2022-11-23*|\n",
       "|*Comments*| *25 pages, 6 figures, 3 tables, accepted for publication in ApJ*|\n",
       "|**Abstract**| SDSS J111215.82+111745.0 is the second pulsating extremely low-mass white dwarf discovered. Two short-period pulsations, 107.56 and 134.275 s, were detected on this star, which would be the first observed pressure mode ($p$-mode) pulsations observed on a white dwarf. While the two potential $p$-modes have yet to be confirmed, they make SDSS J111215.82+111745.0 an interesting object. In this work, we analyzed the whole set of seven periods observed on SDSS J111215.82+111745.0. We adopt three independent period-spacing tests to reveal a roughly 93.4 s mean period spacing of $\\ell=1$ $g$-modes, which gives added credence to the $\\ell=1$ identifications. Then we perform asteroseismic modeling for this star, in which the H chemical profile is taken as a variable. The stellar parameters $M=0.1650\\pm0.0137$ $M_\\odot$ and $T_\\mathrm{eff}=9750\\pm560$ K are determined from the best-fit model and the H/He chemical profiles are also defined. The two suspected $p$-modes are also well represented in the best-fit model, and both the stellar parameters and the pulsation frequencies are in good agreement with the values derived from spectroscopy. |\n",
       "|<p style=\"color:green\"> **ERROR** </p>| <p style=\"color:green\">affiliation error: mpia.affiliation_verifications: 'Heidelberg' keyword not found.</p> |"
      ],
      "text/plain": [
       "<IPython.core.display.Markdown object>"
      ]
     },
     "metadata": {},
     "output_type": "display_data"
    },
    {
     "data": {
      "text/markdown": [
       "\n",
       "|||\n",
       "|---:|:---|\n",
       "| [![arXiv](https://img.shields.io/badge/arXiv-arXiv:2211.12026-b31b1b.svg)](https://arxiv.org/abs/arXiv:2211.12026) | **Repeating fast radio bursts produced by a strange star interacting with  its planet in an eccentric orbit**  |\n",
       "|| Nurimangul Nurmamat, et al. -- incl., <mark>Bing Li</mark> |\n",
       "|*Appeared on*| *2022-11-23*|\n",
       "|*Comments*| *5 pages, 1 figure, submitted for publication*|\n",
       "|**Abstract**| FRB 180916 is an important repeating fast radio burst (FRB) source. Interestingly, the activity of FRB 180916 shows a well-regulated behavior, with a period of 16.35 days. The bursts are found to occur in a duty circle of about 5 days in each period. In this study, we suggest that the bursts of FRB 180916 are produced by a strange star interacting with its planet. The planet moves in a highly eccentric orbit around its compact host, with the periastron only slightly beyond the tidal disruption radius. As a result, the planet will be partially disrupted every time it passes through the periastron. The stripped material from the planet will be accreted by the strange star, falling to the polar cap region along the magnetic field lines and accumulated there. It will finally lead to a local collapse when the crust at the polar region is overloaded, triggering an FRB. The observed 16.35 day period corresponds to the orbital motion of the planet, and the 5 day duty circle is explained as the duration of the partial disruption near the periastron. The energy released in each local collapse event can be as high as $\\sim 10^{42}~\\rm {erg}$, which is large enough to account for typical FRBs even if the radiation efficiency is extremely low. |\n",
       "|<p style=\"color:green\"> **ERROR** </p>| <p style=\"color:green\">affiliation error: mpia.affiliation_verifications: 'Heidelberg' keyword not found.</p> |"
      ],
      "text/plain": [
       "<IPython.core.display.Markdown object>"
      ]
     },
     "metadata": {},
     "output_type": "display_data"
    },
    {
     "data": {
      "text/markdown": [
       "\n",
       "|||\n",
       "|---:|:---|\n",
       "| [![arXiv](https://img.shields.io/badge/arXiv-arXiv:2211.12052-b31b1b.svg)](https://arxiv.org/abs/arXiv:2211.12052) | **Science with the Daksha High Energy Transients Mission**  |\n",
       "|| Varun Bhalerao, et al. -- incl., <mark>Mahesh Bhaganagare</mark>, <mark>Shiv Kumar Goyal</mark>, <mark>Manikantan Hemanth</mark> |\n",
       "|*Appeared on*| *2022-11-23*|\n",
       "|*Comments*| *19 pages, 7 figures. Submitted to ApJ. More details about the mission at this https URL*|\n",
       "|**Abstract**| We present the science case for the proposed Daksha high energy transients mission. Daksha will comprise of two satellites covering the entire sky from 1~keV to $>1$~MeV. The primary objectives of the mission are to discover and characterize electromagnetic counterparts to gravitational wave source; and to study Gamma Ray Bursts (GRBs). Daksha is a versatile all-sky monitor that can address a wide variety of science cases. With its broadband spectral response, high sensitivity, and continuous all-sky coverage, it will discover fainter and rarer sources than any other existing or proposed mission. Daksha can make key strides in GRB research with polarization studies, prompt soft spectroscopy, and fine time-resolved spectral studies. Daksha will provide continuous monitoring of X-ray pulsars. It will detect magnetar outbursts and high energy counterparts to Fast Radio Bursts. Using Earth occultation to measure source fluxes, the two satellites together will obtain daily flux measurements of bright hard X-ray sources including active galactic nuclei, X-ray binaries, and slow transients like Novae. Correlation studies between the two satellites can be used to probe primordial black holes through lensing. Daksha will have a set of detectors continuously pointing towards the Sun, providing excellent hard X-ray monitoring data. Closer to home, the high sensitivity and time resolution of Daksha can be leveraged for the characterization of Terrestrial Gamma-ray Flashes. |\n",
       "|<p style=\"color:green\"> **ERROR** </p>| <p style=\"color:green\">affiliation error: mpia.affiliation_verifications: 'Heidelberg' keyword not found.</p> |"
      ],
      "text/plain": [
       "<IPython.core.display.Markdown object>"
      ]
     },
     "metadata": {},
     "output_type": "display_data"
    },
    {
     "data": {
      "text/markdown": [
       "\n",
       "|||\n",
       "|---:|:---|\n",
       "| [![arXiv](https://img.shields.io/badge/arXiv-arXiv:2211.12055-b31b1b.svg)](https://arxiv.org/abs/arXiv:2211.12055) | **Daksha: On Alert for High Energy Transients**  |\n",
       "|| Varun Bhalerao, et al. -- incl., <mark>Mahesh Bhaganagare</mark>, <mark>Shiv Kumar Goyal</mark>, <mark>Piyush Sharma</mark> |\n",
       "|*Appeared on*| *2022-11-23*|\n",
       "|*Comments*| *9 pages, 3 figures, 1 table. Additional information about the mission is available at this https URL*|\n",
       "|**Abstract**| We present Daksha, a proposed high energy transients mission for the study of electromagnetic counterparts of gravitational wave sources, and gamma ray bursts. Daksha will comprise of two satellites in low earth equatorial orbits, on opposite sides of earth. Each satellite will carry three types of detectors to cover the entire sky in an energy range from 1 keV to >1 MeV. Any transients detected on-board will be announced publicly within minutes of discovery. All photon data will be downloaded in ground station passes to obtain source positions, spectra, and light curves. In addition, Daksha will address a wide range of science cases including monitoring X-ray pulsars, studies of magnetars, solar flares, searches for fast radio burst counterparts, routine monitoring of bright persistent high energy sources, terrestrial gamma-ray flashes, and probing primordial black hole abundances through lensing. In this paper, we discuss the technical capabilities of Daksha, while the detailed science case is discussed in a separate paper. |\n",
       "|<p style=\"color:green\"> **ERROR** </p>| <p style=\"color:green\">affiliation error: mpia.affiliation_verifications: 'Heidelberg' keyword not found.</p> |"
      ],
      "text/plain": [
       "<IPython.core.display.Markdown object>"
      ]
     },
     "metadata": {},
     "output_type": "display_data"
    },
    {
     "data": {
      "text/markdown": [
       "\n",
       "|||\n",
       "|---:|:---|\n",
       "| [![arXiv](https://img.shields.io/badge/arXiv-arXiv:2211.12146-b31b1b.svg)](https://arxiv.org/abs/arXiv:2211.12146) | **Hydrostatic Mass Profiles of Galaxy Clusters in the eROSITA Survey**  |\n",
       "|| Dominik Scheck, et al. -- incl., <mark>Ang Liu</mark> |\n",
       "|*Appeared on*| *2022-11-23*|\n",
       "|*Comments*| **|\n",
       "|**Abstract**| To assume hydrostatic equilibrium between the intracluster medium and the gravitational potential of galaxy clusters is an extensively used method to investigate their total masses. We want to test hydrostatic masses obtained with an observational code in the context of the SRG/eROSITA survey. We use the hydrostatic modeling code MBProj2 to fit surface-brightness profiles to simulated clusters with idealized properties as well as to a sample of 93 clusters taken from the Magneticum Pathfinder simulations. We investigate the latter under the assumption of idealized observational conditions and also for realistic eROSITA data quality. The comparison of the fitted cumulative total mass profiles and the true mass profiles provided by the simulations allows to gain knowledge about the reliability of our approach. Furthermore, we use the true profiles for gas density and pressure to compute hydrostatic mass profiles based on theory for every cluster. For an idealized cluster that was simulated to fulfill perfect hydrostatic equilibrium, we find that the cumulative total mass at the true $r_{500}$ and $r_{200}$ can be reproduced with deviations of less than 7%. For the clusters from the Magneticum Pathfinder simulations under idealized observational conditions, the median values of the fitted cumulative total masses at the true $r_{500}$ and $r_{200}$ are in agreement with our expectations, taking into account the hydrostatic mass bias. Nevertheless, we find a tendency towards a too high steepness of the cumulative total mass profiles in the outskirts. For realistic eROSITA data quality, this steepness problem intensifies for clusters with high redshifts and thus leads to too high cumulative total masses at $r_{200}$. For the hydrostatic masses based on the true profiles known from the simulations, we find a good agreement with our expectations concerning the hydrostatic mass. |\n",
       "|<p style=\"color:green\"> **ERROR** </p>| <p style=\"color:green\">affiliation error: mpia.affiliation_verifications: 'Heidelberg' keyword not found.</p> |"
      ],
      "text/plain": [
       "<IPython.core.display.Markdown object>"
      ]
     },
     "metadata": {},
     "output_type": "display_data"
    },
    {
     "data": {
      "text/markdown": [
       "\n",
       "|||\n",
       "|---:|:---|\n",
       "| [![arXiv](https://img.shields.io/badge/arXiv-arXiv:2211.12187-b31b1b.svg)](https://arxiv.org/abs/arXiv:2211.12187) | **Revisiting the Spectral-Energy Correlations of GRBs with {\\it Fermi}  Data I: Model-wise Properties**  |\n",
       "|| <mark>Liang Li</mark> |\n",
       "|*Appeared on*| *2022-11-23*|\n",
       "|*Comments*| *39 pages, 9 figures, 12 tables. Submitted to ApJ Supplement. Comments are welcome*|\n",
       "|**Abstract**| Gamma-ray bursts (GRBs) exhibit a diversity of spectra. Several spectral models (e.g., Band, cutoff power-law, and blackbody) and their hybrid versions (e.g., Band+blackbody) have been widely used to fit the observed GRB spectra. Here, we collect all the bursts detected by {\\it Fermi}-GBM with known redshifts from July 2008 to May 2022, motivated to achieve a ``clean\" model-based GRB spectral-energy correlation analysis. A nearly complete GRB sample was created, containing 153 such bursts. Using the sample and by performing detailed spectral analysis and model comparisons, we investigate the cosmological rest-frame peak energy ($E_{\\rm p,z}$) of the $\\nu F_\\nu$ prompt emission spectrum correlated with (i) the isotropic-bolometric-equivalent emission energy $E_{\\gamma, \\rm iso}$ (the Amati relation), and (ii) the isotropic-bolometric-equivalent peak luminosity $L_{\\rm p, iso}$ (the Yonetoku relation). From a linear regression analysis, a tight correlation between $E_{\\rm p,z}$ and $E_{\\gamma, \\rm iso}$ (and $L_{\\gamma,\\rm iso}$) is found for both the Band-like and CPL-like bursts. The correlations take the form of $E_{\\rm p,z} \\propto E^{0.41\\pm0.06}_{\\gamma, \\rm iso}$ for our Band-like bursts (sGRBs+lGRBs) and of $E_{\\rm p,z} \\propto E^{0.00\\pm0.13}_{\\gamma, \\rm iso}$ for the CPL-like bursts (sGRBs+lGRBs) in the $E_{\\rm p,z}$-$E_{\\gamma,\\rm iso}$ plane. Similar results are also found in the $E_{\\rm p,z}$-$L_{\\gamma,\\rm iso}$ plane, which take the form of $E_{\\rm p,z} \\propto L^{0.41\\pm0.09}_{\\rm p, iso}$ for the whole Band-like bursts and $E_{\\rm p,z} \\propto L^{0.29\\pm0.05}_{\\rm p, iso}$ for the full CPL-like bursts. More interestingly, the CPL-like bursts do not fall on the Band-like burst Amati and Yonetoku correlations, suggesting distinct radiation processes, and pointing towards the fact that these spectral-energy correlations are tightly reliant on the model-wise properties. |\n",
       "|<p style=\"color:green\"> **ERROR** </p>| <p style=\"color:green\">affiliation error: mpia.affiliation_verifications: 'Heidelberg' keyword not found.</p> |"
      ],
      "text/plain": [
       "<IPython.core.display.Markdown object>"
      ]
     },
     "metadata": {},
     "output_type": "display_data"
    },
    {
     "data": {
      "text/markdown": [
       "\n",
       "|||\n",
       "|---:|:---|\n",
       "| [![arXiv](https://img.shields.io/badge/arXiv-arXiv:2211.12242-b31b1b.svg)](https://arxiv.org/abs/arXiv:2211.12242) | **MeerKAT follow-up of enigmatic GLEAM 4-Jy (G4Jy) sources**  |\n",
       "|| Precious K. Sejake, et al. -- incl., <mark>Ian Heywood</mark>, <mark>Hertzog L. Bester</mark> |\n",
       "|*Appeared on*| *2022-11-23*|\n",
       "|*Comments*| *20 pages, 16 figures, 4 tables. Accepted in MNRAS*|\n",
       "|**Abstract**| We present the results from studying 140 radio sources in the GLEAM (GaLactic and Extragalactic All-sky MWA [Murchison Widefield Array]) 4-Jy (G4Jy) Sample. These sources were followed-up with MeerKAT to assess their radio morphology and enable host-galaxy identification, as existing radio images of 25 to 45-arcsec resolution do not provide sufficient information. We refer to these sources as the MeerKAT-2019 subset. The aim is to identify the host galaxy of these sources by visually inspecting the overlays comprising radio data from four surveys (at 150, 200, 843/1400, and 1300 MHz). Our morphological classification and host-galaxy identification relies upon the ~7-arcsec resolution images from MeerKAT (1300 MHz). Through the visual inspection of the overlays, 14 radio sources in the MeerKAT-2019 subset have wide-angle tail (WAT) morphology, 10 are head-tail, and 5 have X-, S-/Z-shaped morphology. Most of the remaining sources have the radio morphology of typical symmetric lobes. Of 140 sources, we find host galaxies for 98 sources, leaving 42 with no identified host galaxy. These 42 sources still have ambiguous identification even with higher resolution images from MeerKAT. |\n",
       "|<p style=\"color:green\"> **ERROR** </p>| <p style=\"color:green\">affiliation error: mpia.affiliation_verifications: 'Heidelberg' keyword not found.</p> |"
      ],
      "text/plain": [
       "<IPython.core.display.Markdown object>"
      ]
     },
     "metadata": {},
     "output_type": "display_data"
    },
    {
     "data": {
      "text/markdown": [
       "\n",
       "|||\n",
       "|---:|:---|\n",
       "| [![arXiv](https://img.shields.io/badge/arXiv-arXiv:2211.12243-b31b1b.svg)](https://arxiv.org/abs/arXiv:2211.12243) | **Mesh-free hydrodynamics in PKDGRAV3 for galaxy formation simulations**  |\n",
       "|| Isaac Alonso Asensio, Claudio Dalla Vecchia, <mark>Douglas Potter</mark>, Joachim Stadel |\n",
       "|*Appeared on*| *2022-11-23*|\n",
       "|*Comments*| *18 pages, 14 figures; accepted for publication in MNRAS*|\n",
       "|**Abstract**| We extend the state-of-the-art N-body code PKDGRAV3 with the inclusion of mesh-free gas hydrodynamics for cosmological simulations. Two new hydrodynamic solvers have been implemented, the mesh-less finite volume and mesh-less finite mass methods. The solvers manifestly conserve mass, momentum and energy, and have been validated with a wide range of standard test simulations, including cosmological simulations. We also describe improvements to PKDGRAV3 that have been implemented for performing hydrodynamic simulations. These changes have been made with efficiency and modularity in mind, and provide a solid base for the implementation of the required modules for galaxy formation and evolution physics and future porting to GPUs. The code is released in a public repository, together with the documentation and all the test simulations presented in this work. |\n",
       "|<p style=\"color:green\"> **ERROR** </p>| <p style=\"color:green\">affiliation error: mpia.affiliation_verifications: 'Heidelberg' keyword not found.</p> |"
      ],
      "text/plain": [
       "<IPython.core.display.Markdown object>"
      ]
     },
     "metadata": {},
     "output_type": "display_data"
    },
    {
     "data": {
      "text/markdown": [
       "\n",
       "|||\n",
       "|---:|:---|\n",
       "| [![arXiv](https://img.shields.io/badge/arXiv-arXiv:2211.12257-b31b1b.svg)](https://arxiv.org/abs/arXiv:2211.12257) | **Image plane detection of FRB121102 with the MeerKAT radio telescope**  |\n",
       "|| J. C. Andrianjafy, et al. -- incl., <mark>N. Heeralall-Issur</mark>, <mark>M. Kramer</mark> |\n",
       "|*Appeared on*| *2022-11-23*|\n",
       "|*Comments*| *The paper has already been accepted to MNRAS and we wait for proof of review from the publisher for final publication*|\n",
       "|**Abstract**| We present the analysis of radio interferometric 2-s images from a MeerKAT observation of the repeating fast radio burst FRB121102 on September 2019, during which 11 distinct pulses have been previously detected using high time and frequency resolution data cubes. In this work, we detected 6 out of the 11 bursts in the image plane at 1.48 GHz with a minimum peak signal-to-noise ratio (S/N) of 5 {\\sigma} and a fluence detection limit of 0.512 Jy ms. These constitute the first detections of a fast radio burst (FRB) or a radio transient using 2-s timescale images with MeerKAT data. Analysis of the fitted burst properties revealed a weighted average precision of 1 arcsec in the localization of the bursts. The accurate knowledge of FRB positions is essential for identifying their host galaxy and understanding their mysterious nature which is still unresolved to this day. We also produced 2-s images at 1.09 GHz but yielded no detection which we attributed to the spectral structure of the pulses that are mostly higher in strength in the upper frequencies. We also explore a new approach to difference imaging analysis (DIA) to search for transients and find that our technique has the potential to reduce the number of candidates and could be used to automate the detection of FRBs in the image plane for future MeerKAT observations. |\n",
       "|<p style=\"color:green\"> **ERROR** </p>| <p style=\"color:green\">affiliation error: mpia.affiliation_verifications: 'Heidelberg' keyword not found.</p> |"
      ],
      "text/plain": [
       "<IPython.core.display.Markdown object>"
      ]
     },
     "metadata": {},
     "output_type": "display_data"
    },
    {
     "data": {
      "text/markdown": [
       "\n",
       "|||\n",
       "|---:|:---|\n",
       "| [![arXiv](https://img.shields.io/badge/arXiv-arXiv:2211.12323-b31b1b.svg)](https://arxiv.org/abs/arXiv:2211.12323) | **Hot subdwarf stars identified in LAMOST DR8 with single-lined and  composite spectra**  |\n",
       "|| Zhenxin Lei, et al. -- incl., <mark>Ruijie He</mark>, <mark>Jingkun Zhao</mark> |\n",
       "|*Appeared on*| *2022-11-23*|\n",
       "|*Comments*| *21 pages, 11 figures, 3 tables, Accepted for publication in ApJ*|\n",
       "|**Abstract**| 222 hot subdwarf stars were identified with LAMOST DR8 spectra, among which 131 stars show composite spectra and have been decomposed, while 91 stars present single-lined spectra. Atmospheric parameters of all sample stars were obtained by fitting Hydrogen (H) and Helium (He) line profiles with synthetic spectra. Two long-period composite sdB binaries were newly discovered by combining our sample with the non-single star data from Gaia DR3. One of the new systems presents the highest eccentricity (i.e., 0.5 +/- 0.09) among known wide sdB binaries, which is beyond model predictions. 15 composite sdB stars fall in the high probability binary region of RUWE-AEN plane, and deserve priority follow-up observations to further study their binary nature. A distinct gap is clearly presented among temperatures of cool companions for our composite-spectra sample. But we could not come to a conclusion whether this feature is connected to the formation history of hot subdwarf stars before their binary natures are confirmed. |\n",
       "|<p style=\"color:green\"> **ERROR** </p>| <p style=\"color:green\">affiliation error: mpia.affiliation_verifications: 'Heidelberg' keyword not found.</p> |"
      ],
      "text/plain": [
       "<IPython.core.display.Markdown object>"
      ]
     },
     "metadata": {},
     "output_type": "display_data"
    },
    {
     "data": {
      "text/markdown": [
       "\n",
       "|||\n",
       "|---:|:---|\n",
       "| [![arXiv](https://img.shields.io/badge/arXiv-arXiv:2211.12426-b31b1b.svg)](https://arxiv.org/abs/arXiv:2211.12426) | **Magneto hydrodynamic simulations of the supernova remnant G1.9+0.3**  |\n",
       "|| <mark>Shaobo Zhang</mark>, et al. -- incl., <mark>Mengfei Zhang</mark> |\n",
       "|*Appeared on*| *2022-11-23*|\n",
       "|*Comments*| **|\n",
       "|**Abstract**| The youngest Galactic supernova remnant G1.9+0.3 shows a discrete feature between its radio and X-ray morphologies. The observed radio morphology features a single maximum in the north, while the X-ray observation shows two opposite 'ears' on the east and west sides. Using 3D magneto hydrodynamical simulations, we investigate the formation of the discrete feature of the remnant. We have tested different parameters for better simulation and reproduced similar discrete features under an environment with density gradient and an environment with clump, which provides a possible explanation of the observation. |\n",
       "|<p style=\"color:green\"> **ERROR** </p>| <p style=\"color:green\">affiliation error: mpia.affiliation_verifications: 'Heidelberg' keyword not found.</p> |"
      ],
      "text/plain": [
       "<IPython.core.display.Markdown object>"
      ]
     },
     "metadata": {},
     "output_type": "display_data"
    },
    {
     "data": {
      "text/markdown": [
       "\n",
       "|||\n",
       "|---:|:---|\n",
       "| [![arXiv](https://img.shields.io/badge/arXiv-arXiv:2211.12438-b31b1b.svg)](https://arxiv.org/abs/arXiv:2211.12438) | **Cool, Luminous, and Highly Variable Stars in the Magellanic Clouds. II:  Spectroscopic and Environmental Analysis of Thorne-Żytkow Object and  Super-AGB Star Candidates**  |\n",
       "|| Anna J. G. O'Grady, et al. -- incl., <mark>Bethany Ludwig</mark> |\n",
       "|*Appeared on*| *2022-11-23*|\n",
       "|*Comments*| *32 pages, 10 figures, 7 tables, spectroscopic data available at this https URL, accepted to The Astrophysical Journal*|\n",
       "|**Abstract**| In previous work we identified a population of 38 cool and luminous variable stars in the Magellanic Clouds and examined 11 in detail in order to classify them as either Thorne-\\.Zytkow Objects (T\\.ZOs, red supergiants with a neutron star cores) or super-AGB stars (the most massive stars that will not undergo core collapse). This population includes HV\\,2112, a peculiar star previously considered in other works to be either a T\\.ZO or high-mass AGB star. Here we continue this investigation, using the kinematic and radio environments and local star formation history of these stars to place constraints on the age of the progenitor systems and the presence of past supernovae. These stars are not associated with regions of recent star formation, and we find no evidence of past supernovae at their locations. Finally, we also assess the presence of heavy elements and lithium in their spectra compared to red supergiants. We find strong absorption in Li and s-process elements compared to RSGs in most of the sample, consistent with super-AGB nucleosynthesis, while HV\\,2112 shows additional strong lines associated with T\\.ZO nucleosynthesis. Coupled with our previous mass estimates, the results are consistent with the stars being massive (~4-6.5M$_{\\odot}$) or super-AGB (~6.5-12M$_{\\odot}$) stars in the thermally pulsing phase, providing crucial observations of the transition between low- and high-mass stellar populations. HV\\,2112 is more ambiguous; it could either be a maximally massive sAGB star, or a T\\.ZO if the minimum mass for stability extends down to <13 M$_\\odot$. |\n",
       "|<p style=\"color:green\"> **ERROR** </p>| <p style=\"color:green\">affiliation error: mpia.affiliation_verifications: 'Heidelberg' keyword not found.</p> |"
      ],
      "text/plain": [
       "<IPython.core.display.Markdown object>"
      ]
     },
     "metadata": {},
     "output_type": "display_data"
    },
    {
     "data": {
      "text/markdown": [
       "\n",
       "|||\n",
       "|---:|:---|\n",
       "| [![arXiv](https://img.shields.io/badge/arXiv-arXiv:2211.11790-b31b1b.svg)](https://arxiv.org/abs/arXiv:2211.11790) | **MaNGIA: 10,000 mock galaxies for stellar population analysis**  |\n",
       "|| Regina Sarmiento, et al. -- incl., <mark>Annalisa Pillepich</mark> |\n",
       "|*Appeared on*| *2022-11-23*|\n",
       "|*Comments*| *Submitted to A&A, 21 pages, 17 figures, 1 table*|\n",
       "|**Abstract**| Modern astronomical observations give unprecedented access to the physical properties of nearby galaxies, including spatially resolved stellar populations. However, observations can only give a present-day view of the Universe, whereas cosmological simulations give access to the past record of the processes that galaxies have experienced in their evolution. To connect the events that happened in the past with galactic properties as seen today, simulations must be taken to a common ground before being compared to observations. We emulate data from the MaNGA survey, which is the largest integral field spectroscopic galaxy survey to date with its 10,000 nearby galaxies of all types. For this, we use the cosmological simulations TNG50 to generate MaNGIA (Mapping Nearby Galaxies with IllustrisTNG Astrophysics), a mock MaNGA sample of similar size that emulates observations of galaxies for stellar population analysis. We choose TNG galaxies to match the MaNGA sample selection to limit the impact of selection effects. We produce MaNGA-like datacubes from all simulated galaxies, and process these with the pyPipe3D analysis code. This allows us to extract spatially resolved stellar maps. This first paper presents the approach to generate the mock sample and provides an initial exploration of its properties. We show that the stellar populations and kinematics of the simulated MaNGIA galaxies are overall in good agreement with observations. Specific discrepancies, especially in the age and metallicity gradients in low- to intermediate-mass regimes and in massive galaxies' kinematics, require further investigation. We compare our results to other attempts to mock similar observations, all of smaller data sets. Our final dataset will be released with the publication, consisting of >10,000 post-processed data-cubes analysed with pyPipe3D, along with the codes developed to create it. |\n",
       "|<p style=\"color:red\"> **ERROR** </p>| <p style=\"color:red\">latex error Could not find figure empty.eps</p> |"
      ],
      "text/plain": [
       "<IPython.core.display.Markdown object>"
      ]
     },
     "metadata": {},
     "output_type": "display_data"
    },
    {
     "data": {
      "text/markdown": [
       "\n",
       "|||\n",
       "|---:|:---|\n",
       "| [![arXiv](https://img.shields.io/badge/arXiv-arXiv:2211.11793-b31b1b.svg)](https://arxiv.org/abs/arXiv:2211.11793) | **Is the hot, dense sub-Neptune TOI-824b an exposed Neptune mantle?  Spitzer detection of the hot day side and reanalysis of the interior  composition**  |\n",
       "|| Pierre-Alexis Roy, et al. -- incl., <mark>Laura Kreidberg</mark> |\n",
       "|*Appeared on*| *2022-11-23*|\n",
       "|*Comments*| *Accepted for publication in The Astrophysical Journal, 14 pages, 5 figures*|\n",
       "|**Abstract**| The Kepler and TESS missions revealed a remarkable abundance of sub-Neptune exoplanets. Despite this abundance, our understanding of the nature and compositional diversity of sub-Neptunes remains limited, to a large part because atmospheric studies via transmission spectroscopy almost exclusively aimed for low-density sub-Neptunes and even those were often affected by high-altitude clouds. The recent TESS discovery of the hot, dense TOI-824b ($2.93\\,R_\\oplus$ and $18.47\\,M_\\oplus$) opens a new window into sub-Neptune science by enabling the study of a dense sub-Neptune via secondary eclipses. Here, we present the detection of TOI-824b's hot day side via Spitzer secondary eclipse observations in the $3.6$ and $4.5\\,\\mathrm{\\mu m}$ channels, combined with a reanalysis of its interior composition. The measured eclipse depths (142$^{+57}_{-52}$ and 245$^{+75}_{-77}$ ppm) and brightness temperatures (1463$^{+183}_{-196}$ and 1484$^{+180}_{-202}$ K) indicate a poor heat redistribution ($f>$ 0.49) and a low Bond albedo (A$_{B}<$ 0.26). We conclude that TOI-824b could be an \"exposed Neptune mantle\": a planet with a Neptune-like water-rich interior that never accreted a hydrogen envelope or that subsequently lost it. The hot day-side temperature is then naturally explained by a high-metallicity envelope re-emitting the bulk of the incoming radiation from the day side. TOI-824b's density is also consistent with a massive rocky core that accreted up to 1% of hydrogen, but the observed eclipse depths favor our high-metallicity GCM simulation to a solar-metallicity GCM simulation with a likelihood ratio of 7:1. The new insights into TOI-824b's nature suggest that the sub-Neptune population may be more diverse than previously thought, with some of the dense hot sub-Neptunes potentially not hosting a hydrogen-rich envelope as generally assumed for sub-Neptunes. |\n",
       "|<p style=\"color:red\"> **ERROR** </p>| <p style=\"color:red\">latex error sequence item 1: expected str instance, TexNode found</p> |"
      ],
      "text/plain": [
       "<IPython.core.display.Markdown object>"
      ]
     },
     "metadata": {},
     "output_type": "display_data"
    }
   ],
   "source": [
    "import datetime\n",
    "today = str(datetime.date.today())\n",
    "logfile = f\"_build/html/logs/log-{today}.md\"\n",
    "\n",
    "\n",
    "with open(logfile, 'w') as logs:\n",
    "    # Success\n",
    "    logs.write(f'# Arxiv on Deck 2: Logs - {today}\\n\\n')\n",
    "    logs.write(\"\"\"* Arxiv had {0:,d} new papers\\n\"\"\".format(len(new_papers)))\n",
    "    logs.write(\"\"\"    * {0:,d} with possible author matches\\n\\n\"\"\".format(len(candidates)))\n",
    "    logs.write(\"## Sucessful papers\\n\\n\")\n",
    "    display(Markdown(\"## Successful papers\"))\n",
    "    success = [k[0] for k in documents]\n",
    "    for candid in candidates:\n",
    "        if candid['identifier'].split(':')[-1] in success:\n",
    "            display(candid)\n",
    "            logs.write(candid.generate_markdown_text() + '\\n\\n')\n",
    "\n",
    "    ## failed\n",
    "    logs.write(\"## Failed papers\\n\\n\")\n",
    "    display(Markdown(\"## Failed papers\"))\n",
    "    failed = sorted(failed, key=lambda x: x[1])\n",
    "    current_reason = \"\"\n",
    "    for paper, reason in failed:\n",
    "        if 'affiliation' in reason:\n",
    "            color = 'green'\n",
    "        else:\n",
    "            color = 'red'\n",
    "        data = Markdown(\n",
    "                paper.generate_markdown_text() + \n",
    "                f'\\n|<p style=\"color:{color:s}\"> **ERROR** </p>| <p style=\"color:{color:s}\">{reason:s}</p> |'\n",
    "               )\n",
    "        if reason != current_reason:\n",
    "            logs.write(f'### {reason:s} \\n\\n')\n",
    "            current_reason = reason\n",
    "        logs.write(data.data + '\\n\\n')\n",
    "        \n",
    "        # only display here the important errors (all in logs)\n",
    "        # if color in ('red',):\n",
    "        display(data)"
   ]
  },
  {
   "cell_type": "markdown",
   "id": "472d20ee",
   "metadata": {
    "papermill": {
     "duration": 0.010441,
     "end_time": "2022-11-23T04:08:55.061565",
     "exception": false,
     "start_time": "2022-11-23T04:08:55.051124",
     "status": "completed"
    },
    "tags": []
   },
   "source": [
    "## Export documents\n",
    "\n",
    "We now write the .md files and export relevant images"
   ]
  },
  {
   "cell_type": "code",
   "execution_count": 7,
   "id": "d426aed9",
   "metadata": {
    "execution": {
     "iopub.execute_input": "2022-11-23T04:08:55.084757Z",
     "iopub.status.busy": "2022-11-23T04:08:55.084104Z",
     "iopub.status.idle": "2022-11-23T04:08:55.092548Z",
     "shell.execute_reply": "2022-11-23T04:08:55.091830Z"
    },
    "papermill": {
     "duration": 0.02235,
     "end_time": "2022-11-23T04:08:55.094209",
     "exception": false,
     "start_time": "2022-11-23T04:08:55.071859",
     "status": "completed"
    },
    "tags": []
   },
   "outputs": [],
   "source": [
    "def export_markdown_summary(md: str, md_fname:str, directory: str):\n",
    "    \"\"\"Export MD document and associated relevant images\"\"\"\n",
    "    import os\n",
    "    import shutil\n",
    "    import re\n",
    "\n",
    "    if (os.path.exists(directory) and not os.path.isdir(directory)):\n",
    "        raise RuntimeError(f\"a non-directory file exists with name {directory:s}\")\n",
    "\n",
    "    if (not os.path.exists(directory)):\n",
    "        print(f\"creating directory {directory:s}\")\n",
    "        os.mkdir(directory)\n",
    "\n",
    "    fig_fnames = (re.compile(r'\\[Fig.*\\]\\((.*)\\)').findall(md) + \n",
    "                  re.compile(r'\\<img src=\"([^>\\s]*)\"[^>]*/>').findall(md))\n",
    "    for fname in fig_fnames:\n",
    "        if 'http' in fname:\n",
    "            # No need to copy online figures\n",
    "            continue\n",
    "        destdir = os.path.join(directory, os.path.dirname(fname))\n",
    "        destfname = os.path.join(destdir, os.path.basename(fname))\n",
    "        try:\n",
    "            os.makedirs(destdir)\n",
    "        except FileExistsError:\n",
    "            pass\n",
    "        shutil.copy(fname, destfname)\n",
    "    with open(os.path.join(directory, md_fname), 'w') as fout:\n",
    "        fout.write(md)\n",
    "    print(\"exported in \", os.path.join(directory, md_fname))\n",
    "    [print(\"    + \" + os.path.join(directory,fk)) for fk in fig_fnames]"
   ]
  },
  {
   "cell_type": "code",
   "execution_count": 8,
   "id": "014d04a4",
   "metadata": {
    "execution": {
     "iopub.execute_input": "2022-11-23T04:08:55.116903Z",
     "iopub.status.busy": "2022-11-23T04:08:55.116406Z",
     "iopub.status.idle": "2022-11-23T04:08:55.128105Z",
     "shell.execute_reply": "2022-11-23T04:08:55.127336Z"
    },
    "papermill": {
     "duration": 0.024905,
     "end_time": "2022-11-23T04:08:55.129667",
     "exception": false,
     "start_time": "2022-11-23T04:08:55.104762",
     "status": "completed"
    },
    "tags": []
   },
   "outputs": [
    {
     "name": "stdout",
     "output_type": "stream",
     "text": [
      "exported in  _build/html/2211.11767.md\n",
      "    + _build/html/tmp_2211.11767/././Figures/QphiUphi_all_cbar1.png\n",
      "    + _build/html/tmp_2211.11767/././Figures/Pol_fract_model2_v2.png\n",
      "    + _build/html/tmp_2211.11767/././Figures/Modeling.png\n"
     ]
    }
   ],
   "source": [
    "for paper_id, md in documents:\n",
    "    export_markdown_summary(md, f\"{paper_id:s}.md\", '_build/html/')"
   ]
  },
  {
   "cell_type": "markdown",
   "id": "f087a0a7",
   "metadata": {
    "papermill": {
     "duration": 0.010573,
     "end_time": "2022-11-23T04:08:55.150889",
     "exception": false,
     "start_time": "2022-11-23T04:08:55.140316",
     "status": "completed"
    },
    "tags": []
   },
   "source": [
    "## Display the papers\n",
    "\n",
    "Not necessary but allows for a quick check."
   ]
  },
  {
   "cell_type": "code",
   "execution_count": 9,
   "id": "fd25f625",
   "metadata": {
    "execution": {
     "iopub.execute_input": "2022-11-23T04:08:55.173716Z",
     "iopub.status.busy": "2022-11-23T04:08:55.173104Z",
     "iopub.status.idle": "2022-11-23T04:08:55.178975Z",
     "shell.execute_reply": "2022-11-23T04:08:55.178257Z"
    },
    "papermill": {
     "duration": 0.019295,
     "end_time": "2022-11-23T04:08:55.180554",
     "exception": false,
     "start_time": "2022-11-23T04:08:55.161259",
     "status": "completed"
    },
    "scrolled": false,
    "tags": []
   },
   "outputs": [
    {
     "data": {
      "text/markdown": [
       "<div class=\"macros\" style=\"visibility:hidden;\">\n",
       "$\\newcommand{\\ensuremath}{}$\n",
       "$\\newcommand{\\xspace}{}$\n",
       "$\\newcommand{\\object}[1]{\\texttt{#1}}$\n",
       "$\\newcommand{\\farcs}{{.}''}$\n",
       "$\\newcommand{\\farcm}{{.}'}$\n",
       "$\\newcommand{\\arcsec}{''}$\n",
       "$\\newcommand{\\arcmin}{'}$\n",
       "$\\newcommand{\\ion}[2]{#1#2}$\n",
       "$\\newcommand{\\textsc}[1]{\\textrm{#1}}$\n",
       "$\\newcommand{\\hl}[1]{\\textrm{#1}}$\n",
       "$\\newcommand{\\tabularnewline}{\\\\}$\n",
       "$\\newcommand{\\Mearth}{M_{\\oplus}}$\n",
       "$\\newcommand{\\Mjup}{M_{\\text{Jup}}}$\n",
       "$\\newcommand{\\Msun}{M_{\\odot}}$\n",
       "$\\newcommand$\n",
       "$\\newcommand$\n",
       "$\\newcommand{\\micron}{\\unit{\\micro\\meter}}$\n",
       "$\\newcommand{\\JM}[1]{\\textcolor{blue}{ #1}}$\n",
       "$\\newcommand{\\arraystretch}{1.3}$\n",
       "$\\newcommand{\\thefigure}{E.\\arabic{figure} (Cont.)}$</div>\n",
       "\n",
       "<div class=\"macros\" style=\"visibility:hidden;\">\n",
       "$\\newcommand{$\\ensuremath$}{}$\n",
       "$\\newcommand{$\\xspace$}{}$\n",
       "$\\newcommand{$\\object$}[1]{\\texttt{#1}}$\n",
       "$\\newcommand{$\\farcs$}{{.}''}$\n",
       "$\\newcommand{$\\farcm$}{{.}'}$\n",
       "$\\newcommand{$\\arcsec$}{''}$\n",
       "$\\newcommand{$\\arcmin$}{'}$\n",
       "$\\newcommand{$\\ion$}[2]{#1#2}$\n",
       "$\\newcommand{$\\textsc$}[1]{\\textrm{#1}}$\n",
       "$\\newcommand{$\\hl$}[1]{\\textrm{#1}}$\n",
       "$\\newcommand{$\\tabularnewline$}{\\\\}$\n",
       "$\\newcommand{$\\Mearth$}{M_{\\oplus}}$\n",
       "$\\newcommand{$\\Mjup$}{M_{\\text{Jup}}}$\n",
       "$\\newcommand{$\\Msun$}{M_{\\odot}}$\n",
       "$\\newcommand$\n",
       "$\\newcommand$\n",
       "$\\newcommand{$\\micron$}{\\unit{\\micro\\meter}}$\n",
       "$\\newcommand{$\\JM$}[1]{\\textcolor{blue}{ #1}}$\n",
       "$\\newcommand{$\\arraystretch$}{1.3}$\n",
       "$\\newcommand{$\\thefigure$}{E.\\arabic{figure} (Cont.)}$</div>\n",
       "\n",
       "\n",
       "\n",
       "<div id=\"title\">\n",
       "\n",
       "# Based on data collected at the European Southern Observatory (ESO), Chile under programs 096.C-0388, 098.C-0505 and 198.C-0209.: Constraints from VLT/SPHERE and TESS\n",
       "\n",
       "</div>\n",
       "<div id=\"comments\">\n",
       "\n",
       "[![arXiv](https://img.shields.io/badge/arXiv-2211.11767-b31b1b.svg)](https://arxiv.org/abs/2211.11767)<mark>Appeared on: 2022-11-23</mark> - _27 pages_\n",
       "\n",
       "</div>\n",
       "<div id=\"authors\">\n",
       "\n",
       "N. Engler, et al. -- incl., <mark>J. Olofsson</mark>, <mark>M. Feldt</mark>, <mark>M. Langlois</mark>, <mark>M.R. Meyer</mark>\n",
       "\n",
       "</div>\n",
       "<div id=\"abstract\">\n",
       "\n",
       "**Abstract:** We present new optical and near-IR images of debris disk around the F-type star HD 114082. We obtained direct imaging observations and analysed the TESS photometric time series data of this target with a goal to search for planetary companions and to characterise the morphology of the debris disk and the scattering properties of dust particles. HD 114082 was observed with the VLT/SPHERE instrument: the IRDIS camera in the K band together with the IFS in the Y, J and H band using the ADI technique as well as IRDIS in the H band and ZIMPOL in the I_PRIME band using the PDI technique. The scattered light images were fitted with a 3D model for single scattering in an optically thin dust disk. We performed aperture photometry in order to derive the scattering and polarized phase functions, polarization fraction and spectral scattering albedo for the dust particles in the disk. This method was also used to obtain the reflectance spectrum of the disk to retrieve the disk color and study the dust reflectivity in comparison to the debris disk HD 117214. We also performed the modeling of the HD 114082 light curve measured by TESS using the models for planet transit and stellar activity to put constraints on radius of the detected planet and its orbit. The debris disk appears as an axisymmetric debris belt with a radius of ~0.37$''$ (35 au), inclination of ~83$^\\circ$ and a wide inner cavity. Dust particles in HD 114082 have a maximum polarization fraction of ~17% and a high reflectivity which results in a spectral scattering albedo of 0.65. The analysis of TESS photometric data reveals a transiting planetary companion to HD 114082 with a radius of $\\sim$1~$\\rm R_{J}$ on an orbit with a semi-major axis of $0.7 \\pm 0.4$ au. In the IRDIS K band images, we reach deep sensitivity limits in terms of companion masses, down to ~5$M_{\\rm Jup}$ at 50 au, and ~11 $M_{\\rm Jup}$ at 20 au from the central star. \n",
       "\n",
       "</div>\n",
       "\n",
       "<div id=\"div_fig1\">\n",
       "\n",
       "<img src=\"tmp_2211.11767/././Figures/QphiUphi_all_cbar1.png\" alt=\"Fig20\" width=\"100%\"/>\n",
       "\n",
       "**Figure 20. -** Polarized intensity images of the $\\object${HD 114082} debris disk. The $Q_\\varphi$ images are shown on the left panels and $U_\\varphi$ images on the right panels. IRDIS data taken in the H band are displayed in the top row. ZIMPOL data recorded with the I\\_PRIME filter are shown in the bottom row. In the IRDIS $Q_\\varphi$ image, a strong residual signal at the coronagraph edge is masked out for clarity of the picture. The positions of the star are marked by yellow crosses. All images are smoothed via a Gaussian kernel with $\\sigma_{\\rm kernel}=1$ pixel and shown in the same spatial scale indicated in the top left image. The color bar shows the flux values in cts/s. (*f_QphiUphi_IRDIS*)\n",
       "\n",
       "</div>\n",
       "<div id=\"div_fig2\">\n",
       "\n",
       "<img src=\"tmp_2211.11767/././Figures/Pol_fract_model2_v2.png\" alt=\"Fig4\" width=\"100%\"/>\n",
       "\n",
       "**Figure 4. -** Polarization fraction of scattered light in debris disk HD 114082. The black dotted line shows a mean value of PF derived for the west and east disk sides. The green line shows a polynomial fit to it.  \\label{f_pol_frac} (*f_pol_frac*)\n",
       "\n",
       "</div>\n",
       "<div id=\"div_fig3\">\n",
       "\n",
       "<img src=\"tmp_2211.11767/././Figures/Modeling.png\" alt=\"Fig21\" width=\"100%\"/>\n",
       "\n",
       "**Figure 21. -** Comparison of the total intensity image ({\\it panel a}) with the forward models of scattered light with a single HG function ({\\it panel b}) and a  two-component HG function ({\\it panel d}). {\\it Panels c} and {\\it e}: Residual images obtained after subtracting the forward model images from the total intensity image. The color bar shows the flux values in cts/s.  \\label{f_model} (*f_model*)\n",
       "\n",
       "</div>"
      ],
      "text/plain": [
       "<IPython.core.display.Markdown object>"
      ]
     },
     "metadata": {},
     "output_type": "display_data"
    }
   ],
   "source": [
    "[display(Markdown(k[1])) for k in documents];"
   ]
  },
  {
   "cell_type": "markdown",
   "id": "873873a4",
   "metadata": {
    "papermill": {
     "duration": 0.010674,
     "end_time": "2022-11-23T04:08:55.201899",
     "exception": false,
     "start_time": "2022-11-23T04:08:55.191225",
     "status": "completed"
    },
    "tags": []
   },
   "source": [
    "# Create HTML index"
   ]
  },
  {
   "cell_type": "code",
   "execution_count": 10,
   "id": "cf665672",
   "metadata": {
    "execution": {
     "iopub.execute_input": "2022-11-23T04:08:55.225348Z",
     "iopub.status.busy": "2022-11-23T04:08:55.224722Z",
     "iopub.status.idle": "2022-11-23T04:08:55.235241Z",
     "shell.execute_reply": "2022-11-23T04:08:55.234550Z"
    },
    "papermill": {
     "duration": 0.024108,
     "end_time": "2022-11-23T04:08:55.236722",
     "exception": false,
     "start_time": "2022-11-23T04:08:55.212614",
     "status": "completed"
    },
    "tags": []
   },
   "outputs": [
    {
     "name": "stdout",
     "output_type": "stream",
     "text": [
      "96  publications in the last 7 days.\n",
      "\t _build/html/2211.11767.md\n",
      "\t _build/html/2211.09840.md\n",
      "\t _build/html/2211.09217.md\n",
      "\t _build/html/2211.08493.md\n",
      "\t _build/html/2211.08487.md\n",
      "\t _build/html/2211.08294.md\n",
      "\t _build/html/2211.07667.md\n",
      "\t _build/html/2211.07659.md\n",
      "\t _build/html/2211.06454.md\n",
      "\t _build/html/2211.06205.md\n",
      "\t _build/html/2211.06194.md\n",
      "\t _build/html/2211.05022.md\n",
      "\t _build/html/2211.04048.md\n",
      "\t _build/html/2211.03641.md\n",
      "\t _build/html/2211.02502.md\n",
      "\t _build/html/2211.01474.md\n",
      "\t _build/html/2211.00667.md\n",
      "\t _build/html/2211.00657.md\n",
      "\t _build/html/2211.00087.md\n",
      "\t _build/html/2211.00036.md\n",
      "\t _build/html/2211.00020.md\n",
      "\t _build/html/2211.00010.md\n",
      "\t _build/html/2210.17434.md\n",
      "\t _build/html/2210.12412.md\n",
      "\t _build/html/2210.11926.md\n",
      "\t _build/html/2210.11551.md\n",
      "\t _build/html/2210.11103.md\n",
      "\t _build/html/2210.10707.md\n",
      "\t _build/html/2210.09930.md\n",
      "\t _build/html/2210.08996.md\n",
      "\t _build/html/2210.08517.md\n",
      "\t _build/html/2210.08510.md\n",
      "\t _build/html/2210.08078.md\n",
      "\t _build/html/2210.06504.md\n",
      "\t _build/html/2210.05695.md\n",
      "\t _build/html/2210.05595.md\n",
      "\t _build/html/2210.05505.md\n",
      "\t _build/html/2210.04721.md\n",
      "\t _build/html/2210.03615.md\n",
      "\t _build/html/2210.01811.md\n",
      "\t _build/html/2210.01809.md\n",
      "\t _build/html/2210.01556.md\n",
      "\t _build/html/2210.00863.md\n",
      "\t _build/html/2210.00560.md\n",
      "\t _build/html/2209.15403.md\n",
      "\t _build/html/2209.15110.md\n",
      "\t _build/html/2209.14410.md\n",
      "\t _build/html/2209.14396.md\n",
      "\t _build/html/2209.13717.md\n",
      "\t _build/html/2209.13336.md\n",
      "\t _build/html/2209.12906.md\n",
      "\t _build/html/2209.11781.md\n",
      "\t _build/html/2209.11602.md\n",
      "\t _build/html/2209.11248.md\n",
      "\t _build/html/2209.11096.md\n",
      "\t _build/html/2209.10618.md\n",
      "\t _build/html/2209.09914.md\n",
      "\t _build/html/2209.09823.md\n",
      "\t _build/html/2209.08242.md\n",
      "\t _build/html/2209.08120.md\n",
      "\t _build/html/2209.08106.md\n",
      "\t _build/html/2209.07962.md\n",
      "\t _build/html/2209.07931.md\n",
      "\t _build/html/2209.06833.md\n",
      "\t _build/html/2209.05814.md\n",
      "\t _build/html/2209.05593.md\n",
      "\t _build/html/2209.04304.md\n",
      "\t _build/html/2209.03367.md\n",
      "\t _build/html/2209.02872.md\n",
      "\t _build/html/2209.02725.md\n",
      "\t _build/html/2209.02722.md\n",
      "\t _build/html/2209.02092.md\n",
      "\t _build/html/2209.01125.md\n",
      "\t _build/html/2209.00828.md\n",
      "\t _build/html/2209.00363.md\n",
      "\t _build/html/2208.14927.md\n",
      "\t _build/html/2208.09335.md\n",
      "\t _build/html/2208.08872.md\n",
      "\t _build/html/2204.06393.md\n",
      "\t _build/html/2204.03335.md\n",
      "\t _build/html/2204.03253.md\n",
      "\t _build/html/2204.02998.md\n",
      "\t _build/html/2204.02109.md\n",
      "\t _build/html/2204.02017.md\n",
      "\t _build/html/2204.01824.md\n",
      "\t _build/html/2204.01758.md\n",
      "\t _build/html/2204.01245.md\n",
      "\t _build/html/2204.00793.md\n",
      "\t _build/html/2204.00342.md\n",
      "\t _build/html/2203.16959.md\n",
      "\t _build/html/2203.16856.md\n",
      "\t _build/html/2203.16735.md\n",
      "\t _build/html/2203.16734.md\n",
      "\t _build/html/2203.16504.md\n",
      "\t _build/html/2203.15822.md\n",
      "\t _build/html/2203.15811.md\n"
     ]
    }
   ],
   "source": [
    "from datetime import datetime, timedelta, timezone\n",
    "from glob import glob\n",
    "\n",
    "files = glob('_build/html/*.md')\n",
    "days = 7\n",
    "now = datetime.today()\n",
    "res = []\n",
    "for fk in files:\n",
    "    stat_result = os.stat(fk).st_ctime\n",
    "    modified = datetime.fromtimestamp(stat_result, tz=timezone.utc).replace(tzinfo=None)\n",
    "    delta = now.today() - modified\n",
    "    if delta <= timedelta(days=days):\n",
    "        res.append((delta.seconds, fk))\n",
    "res = [k[1] for k in reversed(sorted(res, key=lambda x:x[1]))]\n",
    "npub = len(res)\n",
    "print(len(res), f\" publications in the last {days:d} days.\")\n",
    "[ print('\\t', k) for k in res ];"
   ]
  },
  {
   "cell_type": "code",
   "execution_count": 11,
   "id": "52ca0208",
   "metadata": {
    "execution": {
     "iopub.execute_input": "2022-11-23T04:08:55.260634Z",
     "iopub.status.busy": "2022-11-23T04:08:55.260146Z",
     "iopub.status.idle": "2022-11-23T04:08:55.267129Z",
     "shell.execute_reply": "2022-11-23T04:08:55.266425Z"
    },
    "papermill": {
     "duration": 0.021074,
     "end_time": "2022-11-23T04:08:55.268690",
     "exception": false,
     "start_time": "2022-11-23T04:08:55.247616",
     "status": "completed"
    },
    "scrolled": false,
    "tags": []
   },
   "outputs": [],
   "source": [
    "def create_carousel(npub=4):\n",
    "    \"\"\" Generate the HTML code for a carousel with `npub` slides \"\"\"\n",
    "    carousel = [\"\"\"<section class=\"carousel\" aria-label=\"Gallery\">\"\"\",\n",
    "                \"\"\"  <ol class=\"carousel__viewport\">\"\"\",\n",
    "    ]\n",
    "    for k in range(1, npub + 1):\n",
    "        prev_ = k - 1\n",
    "        next_ = k + 1\n",
    "        if prev_ <= 0:\n",
    "            prev_ = npub\n",
    "        if next_ > npub:\n",
    "            next_ = 1\n",
    "        text  = f\"\"\"    <li id=\"carousel__slide{k}\" tabindex=\"0\" class=\"carousel__slide\">\\n\"\"\"\n",
    "        text += f\"\"\"       <div class=\"carousel__snapper\">\\n\"\"\"\n",
    "        text += f\"\"\"         <a href=\"#carousel__slide{prev_}\" class=\"carousel__prev\">Go to previous slide</a>\\n\"\"\"\n",
    "        text += f\"\"\"         <a href=\"#carousel__slide{next_}\" class=\"carousel__next\">Go to next slide</a>\\n\"\"\"\n",
    "        text += f\"\"\"         <div id=\"slide{k}_content\" class=\"md_view\" >Content {k}</div>\\n\"\"\"\n",
    "        text += f\"\"\"       </div>\\n\"\"\"\n",
    "        text += f\"\"\"    </li>\"\"\"\n",
    "        carousel.append(text)\n",
    "\n",
    "    carousel.extend([\n",
    "        \"\"\"  </ol>\"\"\",\n",
    "        \"\"\"  <aside class=\"carousel__navigation\">\"\"\",\n",
    "        \"\"\"    <ol class=\"carousel__navigation-list\">\"\"\"])\n",
    "\n",
    "    for k in range(1, npub + 1):\n",
    "        text  = f\"\"\"      <li class=\"carousel__navigation-item\">\\n\"\"\"\n",
    "        text += f\"\"\"        <a href=\"#carousel__slide{k}\" class=\"carousel__navigation-button\">Go to {k}</a>\\n\"\"\"\n",
    "        text += f\"\"\"      </li>\"\"\"\n",
    "        carousel.append(text)\n",
    "    carousel.extend([\"\"\"    </ol>\"\"\", \"\"\"  </aside>\"\"\", \"\"\"</section>\"\"\"])\n",
    "\n",
    "    return '\\n'.join(carousel)"
   ]
  },
  {
   "cell_type": "code",
   "execution_count": 12,
   "id": "a6eac5b6",
   "metadata": {
    "execution": {
     "iopub.execute_input": "2022-11-23T04:08:55.329678Z",
     "iopub.status.busy": "2022-11-23T04:08:55.328971Z",
     "iopub.status.idle": "2022-11-23T04:08:55.335909Z",
     "shell.execute_reply": "2022-11-23T04:08:55.335321Z"
    },
    "papermill": {
     "duration": 0.021103,
     "end_time": "2022-11-23T04:08:55.337316",
     "exception": false,
     "start_time": "2022-11-23T04:08:55.316213",
     "status": "completed"
    },
    "scrolled": false,
    "tags": []
   },
   "outputs": [],
   "source": [
    "carousel = create_carousel(npub)\n",
    "docs = ', '.join(['\"{0:s}\"'.format(k.split('/')[-1]) for k in res])\n",
    "slides = ', '.join([f'\"slide{k}_content\"' for k in range(1, npub + 1)])\n",
    "\n",
    "script = f\"\"\"\n",
    "const docs = [{docs}]\n",
    "\n",
    "const slides = [{slides}]\n",
    "\"\"\" + \"\"\"\n",
    "async function run() {\n",
    "    for (let i = 0; i < docs.length; i++) {\n",
    "        let file = await fetch(docs[i]);\n",
    "        let text = await file.text()\n",
    "        document.getElementById(slides[i]).innerHTML =\n",
    "            marked.parse(text);\n",
    "    }\n",
    "    hljs.highlightAll();\n",
    "}\n",
    "run()\n",
    "\"\"\"\n",
    "\n",
    "page = f\"\"\"<!doctype html>\n",
    "<html lang=\"en\">\n",
    "\n",
    "<head>\n",
    "  <meta charset=\"utf-8\">\n",
    "  <meta name=\"viewport\" content=\"width=device-width, initial-scale=1\">\n",
    "  <!-- Bootstrap CSS -->\n",
    "  <link href=\"https://cdn.jsdelivr.net/npm/bootstrap@5.0.2/dist/css/bootstrap.min.css\" rel=\"stylesheet\"\n",
    "   integrity=\"sha384-EVSTQN3/azprG1Anm3QDgpJLIm9Nao0Yz1ztcQTwFspd3yD65VohhpuuCOmLASjC\" crossorigin=\"anonymous\">\n",
    "  <!-- highlight.js CSS -->\n",
    "  <link rel=\"stylesheet\" href=\"https://cdnjs.cloudflare.com/ajax/libs/highlight.js/11.1.0/styles/default.min.css\">\n",
    "  <!-- Mathjax 3 -->\n",
    "  <script type=\"text/javascript\" id=\"MathJax-config\" src=\"mathjax_config.js\"> </script>\n",
    "  <script type=\"text/javascript\" id=\"MathJax-script\" async \n",
    "    src=\"https://cdn.jsdelivr.net/npm/mathjax@3/es5/tex-mml-chtml.js\">\n",
    "  </script>\n",
    "  <link rel=\"stylesheet\" href=\"index_carousel.css\">\n",
    "  <link rel=\"icon\" type=\"image/x-icon\" href=\"https://www.mpia.de/assets/touch-icon-32x32-a66937bcebc4e8894ebff1f41a366c7c7220fd97a38869ee0f2db65a9f59b6c1.png\">\n",
    "  <title>MPIA Arxiv on deck!</title>\n",
    "</head>\n",
    "\n",
    "<body>\n",
    "  <div id=\"header\"> <img src=\"header_banner.png\" width=\"100%\"></div>\n",
    "  <div id=\"suptitle\"> 7-day archives </div>\n",
    "  <div id=\"info\">\n",
    "    <img src=\"https://pngimg.com/uploads/github/github_PNG58.png\" height=30rem></img>\n",
    "    <a href=https://github.com/mpi-astronomy/arxiv_display style=\"color:black;\">github/mpi-astronomy/arxiv_display</a> \n",
    "  </div>\n",
    "  {carousel:s}\n",
    "</body>\n",
    "\n",
    "<!-- Render Markdown -->\n",
    "\n",
    "<body>\n",
    "  <!-- highlight.js: https://highlightjs.org/download/ -->\n",
    "  <script src=\"https://cdnjs.cloudflare.com/ajax/libs/highlight.js/11.5.0/highlight.min.js\"></script>\n",
    "  <!-- marked.js -->\n",
    "  <script src=\"https://cdn.jsdelivr.net/npm/marked/marked.min.js\"></script>\n",
    "  <script>{script:s}</script>\n",
    "</body>\n",
    "</html>\n",
    "\"\"\"\n",
    "with open(\"_build/html/index_7days.html\", 'w') as fout:\n",
    "    fout.write(page)"
   ]
  },
  {
   "cell_type": "markdown",
   "id": "1cebacbc",
   "metadata": {
    "papermill": {
     "duration": 0.010963,
     "end_time": "2022-11-23T04:08:55.359301",
     "exception": false,
     "start_time": "2022-11-23T04:08:55.348338",
     "status": "completed"
    },
    "tags": []
   },
   "source": [
    "# Debugging papers"
   ]
  },
  {
   "cell_type": "raw",
   "id": "debe7cc6",
   "metadata": {
    "papermill": {
     "duration": 0.010799,
     "end_time": "2022-11-23T04:08:55.380813",
     "exception": false,
     "start_time": "2022-11-23T04:08:55.370014",
     "status": "completed"
    },
    "tags": []
   },
   "source": [
    "raise NotImplementedError(\"Manual Stop\")"
   ]
  },
  {
   "cell_type": "raw",
   "id": "eb169192",
   "metadata": {
    "papermill": {
     "duration": 0.010778,
     "end_time": "2022-11-23T04:08:55.402304",
     "exception": false,
     "start_time": "2022-11-23T04:08:55.391526",
     "status": "completed"
    },
    "scrolled": true,
    "tags": []
   },
   "source": [
    "from IPython.display import display, Markdown\n",
    "from TexSoup import TexSoup\n",
    "import re\n",
    "\n",
    "def bracket_error(source: str):\n",
    "    \"\"\" Find problematic portions of the document \"\"\"\n",
    "    \n",
    "    print(\"len(source)\", len(source))\n",
    "    \n",
    "    # Checking header\n",
    "    begin_doc = next(re.finditer(r'\\\\begin\\{document\\}', doc.source)).span()[1]\n",
    "    header = source[:begin_doc]\n",
    "    text = header + r\"\\n\\end{document}\"\n",
    "\n",
    "    try:\n",
    "        # print(\"Header check... \", end='')\n",
    "        TexSoup(text)\n",
    "        display(Markdown(f\"**[OK]** - Header\"))\n",
    "    except:\n",
    "        raise RuntimeError(\"Error in the header\")\n",
    "        \n",
    "    # Check the text per section until the end.\n",
    "    # Do not stop and try them all.\n",
    "    \n",
    "    problematic_text = []\n",
    "    \n",
    "    sections = ([(0, begin_doc, 'until first section')] + \n",
    "                [(g.span()[0], g.span()[1], g.group()) for g in re.finditer(r'\\\\section\\{.*\\}', source)] +\n",
    "                [(g.span()[0], g.span()[1], g.group()) for g in re.finditer(r'\\\\begin\\{appendix\\}', source)]\n",
    "               )\n",
    "    sections.append([len(source), len(source), 'end'])\n",
    "    \n",
    "    sections = sorted(sections, key=lambda x: x[0])\n",
    "    \n",
    "    prev_pos, prev_name = (0, 'header')\n",
    "    parsed = []\n",
    "    \n",
    "    for span, span_end, name in sections:\n",
    "\n",
    "        if span - prev_pos <= 0:\n",
    "            continue\n",
    "            \n",
    "\n",
    "        text = source[prev_pos:span]\n",
    "        if prev_pos > begin_doc:\n",
    "            text = r\"\\n\\begin{document}\" + text + r\"\\n\\end{document}\"\n",
    "        else:\n",
    "            text = text + r\"\\n\\end{document}\"\n",
    "        try:\n",
    "            #print(f\"{prev_pos}:{prev_name}-->{span}:{name} check... \", end='')\n",
    "            parsed.append(TexSoup(text, tolerance=1))  # allow not ending env\n",
    "            display(Markdown(f\"**[OK]** - *{prev_pos}*:{prev_name} &rarr; *{span}*:{name}\"))\n",
    "            # print(\"ok\")\n",
    "\n",
    "            prev_pos = span\n",
    "            prev_name = name\n",
    "        except:\n",
    "            # print(f\"error between {prev_pos} and {span}\")\n",
    "            display(Markdown(f\"**[ERR]** *{prev_pos}*:{prev_name} &rarr; *{span}*:{name}\"))\n",
    "            problematic_text.append((prev_pos, source[prev_pos:span]))\n",
    "            prev_pos = span\n",
    "            prev_name = name\n",
    "            # raise\n",
    "    return problematic_text, parsed\n",
    "\n",
    "\n",
    "def check_environment(text, offset=0):\n",
    "    \"\"\" Check environment \"\"\"\n",
    "    env = re.compile(r\"\\\\begin\\{(?P<env>.*)\\}(.*)\\\\end\\{(?P=env)\\}\", re.DOTALL)\n",
    "\n",
    "    for match in env.finditer(text):\n",
    "        beg, end = match.span()\n",
    "        beg += offset\n",
    "        end += offset\n",
    "        envname = match.groups()[0]\n",
    "        try:\n",
    "            latex.TexSoup(match.group())\n",
    "        except Exception as e:\n",
    "            display(e)\n",
    "            print(f\"Error in {envname:s} between {beg} and {end}\")\n",
    "            return match.groups()[1], beg, end"
   ]
  },
  {
   "cell_type": "raw",
   "id": "2315e835",
   "metadata": {
    "papermill": {
     "duration": 0.010823,
     "end_time": "2022-11-23T04:08:55.423843",
     "exception": false,
     "start_time": "2022-11-23T04:08:55.413020",
     "status": "completed"
    },
    "scrolled": false,
    "tags": []
   },
   "source": [
    "import importlib\n",
    "importlib.reload(latex)\n",
    "which = \"2204.03253\"\n",
    "paper_id = f'{which:s}'\n",
    "folder = f'tmp_{paper_id:s}'\n",
    "\n",
    "if not os.path.isdir(folder):\n",
    "    folder = retrieve_document_source(f\"{paper_id}\", f'tmp_{paper_id}')\n",
    "\n",
    "try:\n",
    "    doc = latex.LatexDocument(folder, validation=validation)    \n",
    "except AffiliationError as affilerror:\n",
    "    msg = f\"ArXiv:{paper_id:s} is not an MPIA paper... \" + str(affilerror)\n",
    "    print(msg)\n",
    "\n",
    "\n",
    "# Hack because sometimes author parsing does not work well\n",
    "if (len(doc.authors) != len(paper['authors'])):\n",
    "    doc._authors = paper['authors']\n",
    "if (doc.abstract) in (None, ''):\n",
    "    doc._abstract = paper['abstract']\n",
    "\n",
    "doc.comment = get_markdown_badge(paper_id) + \" _\" + paper['comments'] + \"_\"\n",
    "doc.highlight_authors_in_list(hl_list)\n",
    "\n",
    "full_md = doc.generate_markdown_text()"
   ]
  },
  {
   "cell_type": "raw",
   "id": "dd3781db",
   "metadata": {
    "papermill": {
     "duration": 0.010866,
     "end_time": "2022-11-23T04:08:55.445506",
     "exception": false,
     "start_time": "2022-11-23T04:08:55.434640",
     "status": "completed"
    },
    "scrolled": false,
    "tags": []
   },
   "source": [
    "doc"
   ]
  },
  {
   "cell_type": "raw",
   "id": "c6eed834",
   "metadata": {
    "papermill": {
     "duration": 0.010841,
     "end_time": "2022-11-23T04:08:55.467475",
     "exception": false,
     "start_time": "2022-11-23T04:08:55.456634",
     "status": "completed"
    },
    "tags": []
   },
   "source": [
    "# [check_environment(k) for k in bracket_error(doc.source)]\n",
    "_, _, a = latex.get_content_per_section(doc.source, verbose=True)\n",
    "if not a:\n",
    "    print(\"no issues per section\")\n",
    "for ak in a:\n",
    "    r = check_environment(ak[1], offset=ak[0])\n",
    "    print(r[1], r[2])\n",
    "    print(r[0])"
   ]
  },
  {
   "cell_type": "code",
   "execution_count": null,
   "id": "71ce768a",
   "metadata": {
    "papermill": {
     "duration": 0.010829,
     "end_time": "2022-11-23T04:08:55.489234",
     "exception": false,
     "start_time": "2022-11-23T04:08:55.478405",
     "status": "completed"
    },
    "tags": []
   },
   "outputs": [],
   "source": []
  }
 ],
 "metadata": {
  "kernelspec": {
   "display_name": "Python 3.10.6 64-bit",
   "language": "python",
   "name": "python3"
  },
  "language_info": {
   "codemirror_mode": {
    "name": "ipython",
    "version": 3
   },
   "file_extension": ".py",
   "mimetype": "text/x-python",
   "name": "python",
   "nbconvert_exporter": "python",
   "pygments_lexer": "ipython3",
   "version": "3.9.15"
  },
  "papermill": {
   "default_parameters": {},
   "duration": 99.100484,
   "end_time": "2022-11-23T04:08:55.723808",
   "environment_variables": {},
   "exception": null,
   "input_path": "MPIA daily digest.ipynb",
   "output_path": "log.ipynb",
   "parameters": {},
   "start_time": "2022-11-23T04:07:16.623324",
   "version": "2.4.0"
  },
  "vscode": {
   "interpreter": {
    "hash": "e7370f93d1d0cde622a1f8e1c04877d8463912d04d973331ad4851f04de6915a"
   }
  },
  "widgets": {
   "application/vnd.jupyter.widget-state+json": {
    "state": {
     "240255cb61e94af9851874336cd5609c": {
      "model_module": "@jupyter-widgets/base",
      "model_module_version": "2.0.0",
      "model_name": "LayoutModel",
      "state": {
       "_model_module": "@jupyter-widgets/base",
       "_model_module_version": "2.0.0",
       "_model_name": "LayoutModel",
       "_view_count": null,
       "_view_module": "@jupyter-widgets/base",
       "_view_module_version": "2.0.0",
       "_view_name": "LayoutView",
       "align_content": null,
       "align_items": null,
       "align_self": null,
       "border_bottom": null,
       "border_left": null,
       "border_right": null,
       "border_top": null,
       "bottom": null,
       "display": null,
       "flex": null,
       "flex_flow": null,
       "grid_area": null,
       "grid_auto_columns": null,
       "grid_auto_flow": null,
       "grid_auto_rows": null,
       "grid_column": null,
       "grid_gap": null,
       "grid_row": null,
       "grid_template_areas": null,
       "grid_template_columns": null,
       "grid_template_rows": null,
       "height": null,
       "justify_content": null,
       "justify_items": null,
       "left": null,
       "margin": null,
       "max_height": null,
       "max_width": null,
       "min_height": null,
       "min_width": null,
       "object_fit": null,
       "object_position": null,
       "order": null,
       "overflow": null,
       "padding": null,
       "right": null,
       "top": null,
       "visibility": null,
       "width": null
      }
     },
     "2bc125218ec04db6b3d7c9c227058db7": {
      "model_module": "@jupyter-widgets/controls",
      "model_module_version": "2.0.0",
      "model_name": "ProgressStyleModel",
      "state": {
       "_model_module": "@jupyter-widgets/controls",
       "_model_module_version": "2.0.0",
       "_model_name": "ProgressStyleModel",
       "_view_count": null,
       "_view_module": "@jupyter-widgets/base",
       "_view_module_version": "2.0.0",
       "_view_name": "StyleView",
       "bar_color": null,
       "description_width": ""
      }
     },
     "32e4abbc66464eb7b6d9525e7e5fdca6": {
      "model_module": "@jupyter-widgets/controls",
      "model_module_version": "2.0.0",
      "model_name": "HBoxModel",
      "state": {
       "_dom_classes": [],
       "_model_module": "@jupyter-widgets/controls",
       "_model_module_version": "2.0.0",
       "_model_name": "HBoxModel",
       "_view_count": null,
       "_view_module": "@jupyter-widgets/controls",
       "_view_module_version": "2.0.0",
       "_view_name": "HBoxView",
       "box_style": "",
       "children": [
        "IPY_MODEL_e56aa1349dbe42898b284890220f4756",
        "IPY_MODEL_c05012eddcd94493b72edb52a615b3a6",
        "IPY_MODEL_ba038c2c3dc242fe9538ef63a5596c56"
       ],
       "layout": "IPY_MODEL_4b6123128da94239bd06db88171433f2",
       "tabbable": null,
       "tooltip": null
      }
     },
     "379623f7cb5d4758ba24aa090688b603": {
      "model_module": "@jupyter-widgets/controls",
      "model_module_version": "2.0.0",
      "model_name": "HTMLStyleModel",
      "state": {
       "_model_module": "@jupyter-widgets/controls",
       "_model_module_version": "2.0.0",
       "_model_name": "HTMLStyleModel",
       "_view_count": null,
       "_view_module": "@jupyter-widgets/base",
       "_view_module_version": "2.0.0",
       "_view_name": "StyleView",
       "background": null,
       "description_width": "",
       "font_size": null,
       "text_color": null
      }
     },
     "3d3d2823c8db4d7b809fd56ed08ab509": {
      "model_module": "@jupyter-widgets/base",
      "model_module_version": "2.0.0",
      "model_name": "LayoutModel",
      "state": {
       "_model_module": "@jupyter-widgets/base",
       "_model_module_version": "2.0.0",
       "_model_name": "LayoutModel",
       "_view_count": null,
       "_view_module": "@jupyter-widgets/base",
       "_view_module_version": "2.0.0",
       "_view_name": "LayoutView",
       "align_content": null,
       "align_items": null,
       "align_self": null,
       "border_bottom": null,
       "border_left": null,
       "border_right": null,
       "border_top": null,
       "bottom": null,
       "display": null,
       "flex": null,
       "flex_flow": null,
       "grid_area": null,
       "grid_auto_columns": null,
       "grid_auto_flow": null,
       "grid_auto_rows": null,
       "grid_column": null,
       "grid_gap": null,
       "grid_row": null,
       "grid_template_areas": null,
       "grid_template_columns": null,
       "grid_template_rows": null,
       "height": null,
       "justify_content": null,
       "justify_items": null,
       "left": null,
       "margin": null,
       "max_height": null,
       "max_width": null,
       "min_height": null,
       "min_width": null,
       "object_fit": null,
       "object_position": null,
       "order": null,
       "overflow": null,
       "padding": null,
       "right": null,
       "top": null,
       "visibility": null,
       "width": null
      }
     },
     "4b6123128da94239bd06db88171433f2": {
      "model_module": "@jupyter-widgets/base",
      "model_module_version": "2.0.0",
      "model_name": "LayoutModel",
      "state": {
       "_model_module": "@jupyter-widgets/base",
       "_model_module_version": "2.0.0",
       "_model_name": "LayoutModel",
       "_view_count": null,
       "_view_module": "@jupyter-widgets/base",
       "_view_module_version": "2.0.0",
       "_view_name": "LayoutView",
       "align_content": null,
       "align_items": null,
       "align_self": null,
       "border_bottom": null,
       "border_left": null,
       "border_right": null,
       "border_top": null,
       "bottom": null,
       "display": null,
       "flex": null,
       "flex_flow": null,
       "grid_area": null,
       "grid_auto_columns": null,
       "grid_auto_flow": null,
       "grid_auto_rows": null,
       "grid_column": null,
       "grid_gap": null,
       "grid_row": null,
       "grid_template_areas": null,
       "grid_template_columns": null,
       "grid_template_rows": null,
       "height": null,
       "justify_content": null,
       "justify_items": null,
       "left": null,
       "margin": null,
       "max_height": null,
       "max_width": null,
       "min_height": null,
       "min_width": null,
       "object_fit": null,
       "object_position": null,
       "order": null,
       "overflow": null,
       "padding": null,
       "right": null,
       "top": null,
       "visibility": null,
       "width": null
      }
     },
     "6fa9638804ac43cf801019571ad07dcb": {
      "model_module": "@jupyter-widgets/base",
      "model_module_version": "2.0.0",
      "model_name": "LayoutModel",
      "state": {
       "_model_module": "@jupyter-widgets/base",
       "_model_module_version": "2.0.0",
       "_model_name": "LayoutModel",
       "_view_count": null,
       "_view_module": "@jupyter-widgets/base",
       "_view_module_version": "2.0.0",
       "_view_name": "LayoutView",
       "align_content": null,
       "align_items": null,
       "align_self": null,
       "border_bottom": null,
       "border_left": null,
       "border_right": null,
       "border_top": null,
       "bottom": null,
       "display": null,
       "flex": null,
       "flex_flow": null,
       "grid_area": null,
       "grid_auto_columns": null,
       "grid_auto_flow": null,
       "grid_auto_rows": null,
       "grid_column": null,
       "grid_gap": null,
       "grid_row": null,
       "grid_template_areas": null,
       "grid_template_columns": null,
       "grid_template_rows": null,
       "height": null,
       "justify_content": null,
       "justify_items": null,
       "left": null,
       "margin": null,
       "max_height": null,
       "max_width": null,
       "min_height": null,
       "min_width": null,
       "object_fit": null,
       "object_position": null,
       "order": null,
       "overflow": null,
       "padding": null,
       "right": null,
       "top": null,
       "visibility": null,
       "width": null
      }
     },
     "8644c98bb3324f40aa8df0e59b36cffa": {
      "model_module": "@jupyter-widgets/controls",
      "model_module_version": "2.0.0",
      "model_name": "HTMLStyleModel",
      "state": {
       "_model_module": "@jupyter-widgets/controls",
       "_model_module_version": "2.0.0",
       "_model_name": "HTMLStyleModel",
       "_view_count": null,
       "_view_module": "@jupyter-widgets/base",
       "_view_module_version": "2.0.0",
       "_view_name": "StyleView",
       "background": null,
       "description_width": "",
       "font_size": null,
       "text_color": null
      }
     },
     "ba038c2c3dc242fe9538ef63a5596c56": {
      "model_module": "@jupyter-widgets/controls",
      "model_module_version": "2.0.0",
      "model_name": "HTMLModel",
      "state": {
       "_dom_classes": [],
       "_model_module": "@jupyter-widgets/controls",
       "_model_module_version": "2.0.0",
       "_model_name": "HTMLModel",
       "_view_count": null,
       "_view_module": "@jupyter-widgets/controls",
       "_view_module_version": "2.0.0",
       "_view_name": "HTMLView",
       "description": "",
       "description_allow_html": false,
       "layout": "IPY_MODEL_240255cb61e94af9851874336cd5609c",
       "placeholder": "​",
       "style": "IPY_MODEL_379623f7cb5d4758ba24aa090688b603",
       "tabbable": null,
       "tooltip": null,
       "value": " 28/28 [01:18&lt;00:00,  1.10it/s]"
      }
     },
     "c05012eddcd94493b72edb52a615b3a6": {
      "model_module": "@jupyter-widgets/controls",
      "model_module_version": "2.0.0",
      "model_name": "FloatProgressModel",
      "state": {
       "_dom_classes": [],
       "_model_module": "@jupyter-widgets/controls",
       "_model_module_version": "2.0.0",
       "_model_name": "FloatProgressModel",
       "_view_count": null,
       "_view_module": "@jupyter-widgets/controls",
       "_view_module_version": "2.0.0",
       "_view_name": "ProgressView",
       "bar_style": "success",
       "description": "",
       "description_allow_html": false,
       "layout": "IPY_MODEL_6fa9638804ac43cf801019571ad07dcb",
       "max": 28.0,
       "min": 0.0,
       "orientation": "horizontal",
       "style": "IPY_MODEL_2bc125218ec04db6b3d7c9c227058db7",
       "tabbable": null,
       "tooltip": null,
       "value": 28.0
      }
     },
     "e56aa1349dbe42898b284890220f4756": {
      "model_module": "@jupyter-widgets/controls",
      "model_module_version": "2.0.0",
      "model_name": "HTMLModel",
      "state": {
       "_dom_classes": [],
       "_model_module": "@jupyter-widgets/controls",
       "_model_module_version": "2.0.0",
       "_model_name": "HTMLModel",
       "_view_count": null,
       "_view_module": "@jupyter-widgets/controls",
       "_view_module_version": "2.0.0",
       "_view_name": "HTMLView",
       "description": "",
       "description_allow_html": false,
       "layout": "IPY_MODEL_3d3d2823c8db4d7b809fd56ed08ab509",
       "placeholder": "​",
       "style": "IPY_MODEL_8644c98bb3324f40aa8df0e59b36cffa",
       "tabbable": null,
       "tooltip": null,
       "value": "100%"
      }
     }
    },
    "version_major": 2,
    "version_minor": 0
   }
  }
 },
 "nbformat": 4,
 "nbformat_minor": 5
}