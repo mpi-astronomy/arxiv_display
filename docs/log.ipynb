{
 "cells": [
  {
   "cell_type": "markdown",
   "id": "92bcb855",
   "metadata": {
    "papermill": {
     "duration": 0.004793,
     "end_time": "2022-10-18T05:20:02.098136",
     "exception": false,
     "start_time": "2022-10-18T05:20:02.093343",
     "status": "completed"
    },
    "tags": []
   },
   "source": [
    "# MPIA Arxiv on Deck 2\n",
    "\n",
    "Contains the steps to produce the paper extractions."
   ]
  },
  {
   "cell_type": "code",
   "execution_count": 1,
   "id": "3a0d6e11",
   "metadata": {
    "execution": {
     "iopub.execute_input": "2022-10-18T05:20:02.107275Z",
     "iopub.status.busy": "2022-10-18T05:20:02.106718Z",
     "iopub.status.idle": "2022-10-18T05:20:02.259886Z",
     "shell.execute_reply": "2022-10-18T05:20:02.259166Z"
    },
    "papermill": {
     "duration": 0.160416,
     "end_time": "2022-10-18T05:20:02.262367",
     "exception": false,
     "start_time": "2022-10-18T05:20:02.101951",
     "status": "completed"
    },
    "tags": []
   },
   "outputs": [],
   "source": [
    "# Imports\n",
    "import os\n",
    "from IPython.display import Markdown, display\n",
    "from tqdm.notebook import tqdm\n",
    "import warnings\n",
    "from PIL import Image \n",
    "\n",
    "# requires arxiv_on_deck_2\n",
    "\n",
    "from arxiv_on_deck_2.arxiv2 import (get_new_papers, \n",
    "                                    get_paper_from_identifier,\n",
    "                                    retrieve_document_source, \n",
    "                                    get_markdown_badge)\n",
    "from arxiv_on_deck_2 import (latex, \n",
    "                             mpia,\n",
    "                             highlight_authors_in_list)\n",
    "\n",
    "# Sometimes images are really big\n",
    "Image.MAX_IMAGE_PIXELS = 1000000000 "
   ]
  },
  {
   "cell_type": "code",
   "execution_count": 2,
   "id": "22aa9d44",
   "metadata": {
    "execution": {
     "iopub.execute_input": "2022-10-18T05:20:02.273008Z",
     "iopub.status.busy": "2022-10-18T05:20:02.272677Z",
     "iopub.status.idle": "2022-10-18T05:20:02.277011Z",
     "shell.execute_reply": "2022-10-18T05:20:02.276420Z"
    },
    "papermill": {
     "duration": 0.011442,
     "end_time": "2022-10-18T05:20:02.278701",
     "exception": false,
     "start_time": "2022-10-18T05:20:02.267259",
     "status": "completed"
    },
    "tags": []
   },
   "outputs": [],
   "source": [
    "# Some useful definitions.\n",
    "\n",
    "class AffiliationWarning(UserWarning):\n",
    "    pass\n",
    "\n",
    "class AffiliationError(RuntimeError):\n",
    "    pass\n",
    "\n",
    "def validation(source: str):\n",
    "    \"\"\"Raises error paper during parsing of source file\n",
    "    \n",
    "    Allows checks before parsing TeX code.\n",
    "    \n",
    "    Raises AffiliationWarning\n",
    "    \"\"\"\n",
    "    check = mpia.affiliation_verifications(source, verbose=True)\n",
    "    if check is not True:\n",
    "        raise AffiliationError(\"mpia.affiliation_verifications: \" + check)\n",
    "\n",
    "        \n",
    "warnings.simplefilter('always', AffiliationWarning)"
   ]
  },
  {
   "cell_type": "code",
   "execution_count": 3,
   "id": "14622700",
   "metadata": {
    "execution": {
     "iopub.execute_input": "2022-10-18T05:20:02.289220Z",
     "iopub.status.busy": "2022-10-18T05:20:02.288920Z",
     "iopub.status.idle": "2022-10-18T05:20:02.293934Z",
     "shell.execute_reply": "2022-10-18T05:20:02.292747Z"
    },
    "papermill": {
     "duration": 0.012718,
     "end_time": "2022-10-18T05:20:02.295250",
     "exception": false,
     "start_time": "2022-10-18T05:20:02.282532",
     "status": "completed"
    },
    "tags": []
   },
   "outputs": [],
   "source": [
    "# additional CSS to consider. \n",
    "# TODO: Current into each exported file. \n",
    "#       This should be set once into the webpages directly.\n",
    "#       With only the class/id definitions in the .md files.\n",
    "\n",
    "debug_html = \"\"\"\n",
    "<style>\n",
    "#wrap{ overflow:auto; }\n",
    "#fig1{ background:yellow; width:100%; float:left; padding:5px;  }\n",
    "#fig2{ background:red; width:50%; float:left; clear:left; padding:5px;  }\n",
    "#fig3{ background:green; width:50%; float:left; padding:5px;   }\n",
    ".macros{ background:yellow; visibility:visible;}\n",
    "h1 {margin: 0 0 0 0;}\n",
    "mark {background-color:#fff3b6;}\n",
    "img {object-fit:contain; max-height:250px; display:inline-block; text-align: center;}\n",
    "</style>\n",
    "\"\"\" \n",
    "html = \"\"\"\n",
    "<style>\n",
    "#wrap{ overflow:auto; }\n",
    "#fig1{ width:100%; float:left; padding: 5px;  }\n",
    "#fig2{ width:50%; float:left; clear:left; padding: 5px;  }\n",
    "#fig3{ width:50%; float:left; padding: 5px;  }\n",
    ".macros{ visibility:hidden; height:0px; }\n",
    "h1 {margin: 0em 0 0 0;}\n",
    "mark {background-color:#fff3b6;}\n",
    "img {object-fit:contain; max-height:250px; display:inline-block; text-align: center;}\n",
    "</style>\n",
    "\"\"\""
   ]
  },
  {
   "cell_type": "markdown",
   "id": "14bd6310",
   "metadata": {
    "papermill": {
     "duration": 0.003464,
     "end_time": "2022-10-18T05:20:02.302264",
     "exception": false,
     "start_time": "2022-10-18T05:20:02.298800",
     "status": "completed"
    },
    "tags": []
   },
   "source": [
    "## get list of arxiv paper candidates\n",
    "\n",
    "We use the MPIA mitarbeiter list webpage from mpia.de to get author names\n",
    "We then get all new papers from Arxiv and match authors"
   ]
  },
  {
   "cell_type": "code",
   "execution_count": 4,
   "id": "2645e73a",
   "metadata": {
    "execution": {
     "iopub.execute_input": "2022-10-18T05:20:02.310498Z",
     "iopub.status.busy": "2022-10-18T05:20:02.310067Z",
     "iopub.status.idle": "2022-10-18T05:20:27.417923Z",
     "shell.execute_reply": "2022-10-18T05:20:27.417152Z"
    },
    "papermill": {
     "duration": 25.113904,
     "end_time": "2022-10-18T05:20:27.419625",
     "exception": false,
     "start_time": "2022-10-18T05:20:02.305721",
     "status": "completed"
    },
    "tags": []
   },
   "outputs": [
    {
     "name": "stdout",
     "output_type": "stream",
     "text": [
      "Arxiv has 87 new papers today\n",
      "          37 with possible author matches\n"
     ]
    }
   ],
   "source": [
    "# get list from MPIA website\n",
    "# it automatically filters identified non-scientists :func:`mpia.filter_non_scientists`\n",
    "mpia_authors = mpia.get_mpia_mitarbeiter_list()\n",
    "new_papers = get_new_papers()\n",
    "# add manual references\n",
    "add_paper_refs = []\n",
    "new_papers.extend([get_paper_from_identifier(k) for k in add_paper_refs])\n",
    "\n",
    "# select only papers with matching author names and highlight authors\n",
    "hl_list = [k[0] for k in mpia_authors]\n",
    "\n",
    "candidates = []\n",
    "for paperk in new_papers:\n",
    "    hl_authors = highlight_authors_in_list(paperk['authors'], hl_list)\n",
    "    matches = [(hl, orig) for hl, orig in zip(hl_authors, paperk['authors']) if 'mark' in hl]\n",
    "    paperk['authors'] = hl_authors\n",
    "    if matches:\n",
    "        candidates.append(paperk)\n",
    "print(\"\"\"Arxiv has {0:,d} new papers today\"\"\".format(len(new_papers)))        \n",
    "print(\"\"\"          {0:,d} with possible author matches\"\"\".format(len(candidates)))"
   ]
  },
  {
   "cell_type": "markdown",
   "id": "3543b34a",
   "metadata": {
    "papermill": {
     "duration": 0.004442,
     "end_time": "2022-10-18T05:20:27.428523",
     "exception": false,
     "start_time": "2022-10-18T05:20:27.424081",
     "status": "completed"
    },
    "tags": []
   },
   "source": [
    "# Parse sources and generate relevant outputs\n",
    "\n",
    "From the candidates, we do the following steps:\n",
    "* get their tarball from ArXiv (and extract data)\n",
    "* find the main .tex file: find one with \\documentclass{...} (sometimes it's non trivial)\n",
    "* Check affiliations with :func:`validation`, which uses :func:`mpia.affiliation_verifications`\n",
    "* If passing the affiliations: we parse the .tex source\n",
    "   * inject sub-documents into the main (flatten the main document)\n",
    "   * parse structure, extract information (title, abstract, authors, figures...)\n",
    "   * handles `\\graphicspath` if provided\n",
    "* Generate the .md document."
   ]
  },
  {
   "cell_type": "code",
   "execution_count": 5,
   "id": "9576b79e",
   "metadata": {
    "execution": {
     "iopub.execute_input": "2022-10-18T05:20:27.438171Z",
     "iopub.status.busy": "2022-10-18T05:20:27.437643Z",
     "iopub.status.idle": "2022-10-18T05:26:15.261002Z",
     "shell.execute_reply": "2022-10-18T05:26:15.260279Z"
    },
    "papermill": {
     "duration": 347.830615,
     "end_time": "2022-10-18T05:26:15.263142",
     "exception": false,
     "start_time": "2022-10-18T05:20:27.432527",
     "status": "completed"
    },
    "scrolled": false,
    "tags": []
   },
   "outputs": [
    {
     "data": {
      "application/vnd.jupyter.widget-view+json": {
       "model_id": "00c49a7338694e468270493015b00b5e",
       "version_major": 2,
       "version_minor": 0
      },
      "text/plain": [
       "  0%|          | 0/36 [00:00<?, ?it/s]"
      ]
     },
     "metadata": {},
     "output_type": "display_data"
    },
    {
     "name": "stdout",
     "output_type": "stream",
     "text": [
      "Retrieving document from  https://arxiv.org/e-print/2210.08010\n"
     ]
    },
    {
     "name": "stdout",
     "output_type": "stream",
     "text": [
      "extracting tarball to tmp_2210.08010..."
     ]
    },
    {
     "name": "stdout",
     "output_type": "stream",
     "text": [
      " done.\n",
      "Retrieving document from  https://arxiv.org/e-print/2210.08038\n"
     ]
    },
    {
     "name": "stdout",
     "output_type": "stream",
     "text": [
      "extracting tarball to tmp_2210.08038..."
     ]
    },
    {
     "name": "stdout",
     "output_type": "stream",
     "text": [
      " done.\n",
      "Retrieving document from  https://arxiv.org/e-print/2210.08043\n"
     ]
    },
    {
     "name": "stderr",
     "output_type": "stream",
     "text": [
      "/opt/hostedtoolcache/Python/3.9.14/x64/lib/python3.9/site-packages/IPython/core/interactiveshell.py:3378: LatexWarning: Multiple tex files.\n",
      "\n",
      "  exec(code_obj, self.user_global_ns, self.user_ns)\n",
      "/opt/hostedtoolcache/Python/3.9.14/x64/lib/python3.9/site-packages/IPython/core/interactiveshell.py:3378: LatexWarning: Found documentclass in tmp_2210.08038/ms.tex\n",
      "\n",
      "  exec(code_obj, self.user_global_ns, self.user_ns)\n",
      "/opt/hostedtoolcache/Python/3.9.14/x64/lib/python3.9/site-packages/arxiv_on_deck_2/latex.py:292: LatexWarning: Latex injecting: 'authors' from 'tmp_2210.08038/authors.tex'\n",
      "  warnings.warn(LatexWarning(f\"Latex injecting: '{ext}' from '{subsource}'\"))\n",
      "/opt/hostedtoolcache/Python/3.9.14/x64/lib/python3.9/site-packages/arxiv_on_deck_2/latex.py:292: LatexWarning: Latex injecting: 'defs' from 'tmp_2210.08038/defs.tex'\n",
      "  warnings.warn(LatexWarning(f\"Latex injecting: '{ext}' from '{subsource}'\"))\n"
     ]
    },
    {
     "name": "stdout",
     "output_type": "stream",
     "text": [
      "extracting tarball to tmp_2210.08043..."
     ]
    },
    {
     "name": "stdout",
     "output_type": "stream",
     "text": [
      " done.\n",
      "Retrieving document from  https://arxiv.org/e-print/2210.08078\n"
     ]
    },
    {
     "name": "stderr",
     "output_type": "stream",
     "text": [
      "/opt/hostedtoolcache/Python/3.9.14/x64/lib/python3.9/site-packages/IPython/core/interactiveshell.py:3378: LatexWarning: Multiple tex files.\n",
      "\n",
      "  exec(code_obj, self.user_global_ns, self.user_ns)\n",
      "/opt/hostedtoolcache/Python/3.9.14/x64/lib/python3.9/site-packages/IPython/core/interactiveshell.py:3378: LatexWarning: Found documentclass in tmp_2210.08043/massive_cfht.tex\n",
      "\n",
      "  exec(code_obj, self.user_global_ns, self.user_ns)\n"
     ]
    },
    {
     "name": "stdout",
     "output_type": "stream",
     "text": [
      "extracting tarball to tmp_2210.08078..."
     ]
    },
    {
     "name": "stdout",
     "output_type": "stream",
     "text": [
      " done.\n"
     ]
    },
    {
     "name": "stderr",
     "output_type": "stream",
     "text": [
      "/opt/hostedtoolcache/Python/3.9.14/x64/lib/python3.9/site-packages/IPython/core/interactiveshell.py:3378: LatexWarning: Multiple tex files.\n",
      "\n",
      "  exec(code_obj, self.user_global_ns, self.user_ns)\n",
      "/opt/hostedtoolcache/Python/3.9.14/x64/lib/python3.9/site-packages/IPython/core/interactiveshell.py:3378: LatexWarning: Found documentclass in tmp_2210.08078/K218.tex\n",
      "\n",
      "  exec(code_obj, self.user_global_ns, self.user_ns)\n"
     ]
    },
    {
     "name": "stdout",
     "output_type": "stream",
     "text": [
      "Retrieving document from  https://arxiv.org/e-print/2210.08134\n"
     ]
    },
    {
     "name": "stdout",
     "output_type": "stream",
     "text": [
      "extracting tarball to tmp_2210.08134..."
     ]
    },
    {
     "name": "stdout",
     "output_type": "stream",
     "text": [
      " done.\n",
      "Retrieving document from  https://arxiv.org/e-print/2210.08179\n"
     ]
    },
    {
     "name": "stdout",
     "output_type": "stream",
     "text": [
      "extracting tarball to tmp_2210.08179..."
     ]
    },
    {
     "name": "stdout",
     "output_type": "stream",
     "text": [
      " done.\n",
      "Retrieving document from  https://arxiv.org/e-print/2210.08254\n"
     ]
    },
    {
     "name": "stderr",
     "output_type": "stream",
     "text": [
      "/opt/hostedtoolcache/Python/3.9.14/x64/lib/python3.9/site-packages/IPython/core/interactiveshell.py:3378: LatexWarning: Multiple tex files.\n",
      "\n",
      "  exec(code_obj, self.user_global_ns, self.user_ns)\n",
      "/opt/hostedtoolcache/Python/3.9.14/x64/lib/python3.9/site-packages/IPython/core/interactiveshell.py:3378: LatexWarning: Found documentclass in tmp_2210.08179/main.tex\n",
      "\n",
      "  exec(code_obj, self.user_global_ns, self.user_ns)\n",
      "/opt/hostedtoolcache/Python/3.9.14/x64/lib/python3.9/site-packages/arxiv_on_deck_2/latex.py:292: LatexWarning: Latex injecting: 'tables/tab_planet' from 'tmp_2210.08179/tables/tab_planet.tex'\n",
      "  warnings.warn(LatexWarning(f\"Latex injecting: '{ext}' from '{subsource}'\"))\n",
      "/opt/hostedtoolcache/Python/3.9.14/x64/lib/python3.9/site-packages/arxiv_on_deck_2/latex.py:292: LatexWarning: Latex injecting: 'tables/tab_star' from 'tmp_2210.08179/tables/tab_star.tex'\n",
      "  warnings.warn(LatexWarning(f\"Latex injecting: '{ext}' from '{subsource}'\"))\n",
      "/opt/hostedtoolcache/Python/3.9.14/x64/lib/python3.9/site-packages/arxiv_on_deck_2/latex.py:292: LatexWarning: Latex injecting: 'tables/tab_rv' from 'tmp_2210.08179/tables/tab_rv.tex'\n",
      "  warnings.warn(LatexWarning(f\"Latex injecting: '{ext}' from '{subsource}'\"))\n",
      "/opt/hostedtoolcache/Python/3.9.14/x64/lib/python3.9/site-packages/arxiv_on_deck_2/latex.py:292: LatexWarning: Latex injecting: 'tables/tab_phot' from 'tmp_2210.08179/tables/tab_phot.tex'\n",
      "  warnings.warn(LatexWarning(f\"Latex injecting: '{ext}' from '{subsource}'\"))\n",
      "/opt/hostedtoolcache/Python/3.9.14/x64/lib/python3.9/site-packages/arxiv_on_deck_2/latex.py:292: LatexWarning: Latex injecting: 'tables/tab_obs' from 'tmp_2210.08179/tables/tab_obs.tex'\n",
      "  warnings.warn(LatexWarning(f\"Latex injecting: '{ext}' from '{subsource}'\"))\n",
      "/opt/hostedtoolcache/Python/3.9.14/x64/lib/python3.9/site-packages/arxiv_on_deck_2/latex.py:292: LatexWarning: Latex injecting: 'authors.tex' from 'tmp_2210.08179/authors.tex'\n",
      "  warnings.warn(LatexWarning(f\"Latex injecting: '{ext}' from '{subsource}'\"))\n",
      "/opt/hostedtoolcache/Python/3.9.14/x64/lib/python3.9/site-packages/arxiv_on_deck_2/latex.py:292: LatexWarning: Latex injecting: 'newcommands.tex' from 'tmp_2210.08179/newcommands.tex'\n",
      "  warnings.warn(LatexWarning(f\"Latex injecting: '{ext}' from '{subsource}'\"))\n"
     ]
    },
    {
     "name": "stdout",
     "output_type": "stream",
     "text": [
      "extracting tarball to tmp_2210.08254... done.\n",
      "Retrieving document from  https://arxiv.org/e-print/2210.08275\n"
     ]
    },
    {
     "name": "stdout",
     "output_type": "stream",
     "text": [
      "extracting tarball to tmp_2210.08275..."
     ]
    },
    {
     "name": "stdout",
     "output_type": "stream",
     "text": [
      " done.\n",
      "Retrieving document from  https://arxiv.org/e-print/2210.08276\n"
     ]
    },
    {
     "name": "stdout",
     "output_type": "stream",
     "text": [
      "extracting tarball to tmp_2210.08276..."
     ]
    },
    {
     "name": "stdout",
     "output_type": "stream",
     "text": [
      " done.\n",
      "Retrieving document from  https://arxiv.org/e-print/2210.08313\n"
     ]
    },
    {
     "name": "stdout",
     "output_type": "stream",
     "text": [
      "extracting tarball to tmp_2210.08313..."
     ]
    },
    {
     "name": "stdout",
     "output_type": "stream",
     "text": [
      " done.\n",
      "Retrieving document from  https://arxiv.org/e-print/2210.08358\n"
     ]
    },
    {
     "name": "stdout",
     "output_type": "stream",
     "text": [
      "extracting tarball to tmp_2210.08358..."
     ]
    },
    {
     "name": "stdout",
     "output_type": "stream",
     "text": [
      " done.\n",
      "Retrieving document from  https://arxiv.org/e-print/2210.08401\n"
     ]
    },
    {
     "name": "stderr",
     "output_type": "stream",
     "text": [
      "/opt/hostedtoolcache/Python/3.9.14/x64/lib/python3.9/site-packages/IPython/core/interactiveshell.py:3378: LatexWarning: Multiple tex files.\n",
      "\n",
      "  exec(code_obj, self.user_global_ns, self.user_ns)\n",
      "/opt/hostedtoolcache/Python/3.9.14/x64/lib/python3.9/site-packages/IPython/core/interactiveshell.py:3378: LatexWarning: Found documentclass in tmp_2210.08358/main.tex\n",
      "\n",
      "  exec(code_obj, self.user_global_ns, self.user_ns)\n"
     ]
    },
    {
     "name": "stdout",
     "output_type": "stream",
     "text": [
      "extracting tarball to tmp_2210.08401..."
     ]
    },
    {
     "name": "stdout",
     "output_type": "stream",
     "text": [
      " done.\n",
      "Retrieving document from  https://arxiv.org/e-print/2210.08434\n"
     ]
    },
    {
     "name": "stderr",
     "output_type": "stream",
     "text": [
      "/opt/hostedtoolcache/Python/3.9.14/x64/lib/python3.9/site-packages/IPython/core/interactiveshell.py:3378: LatexWarning: Multiple tex files.\n",
      "\n",
      "  exec(code_obj, self.user_global_ns, self.user_ns)\n",
      "/opt/hostedtoolcache/Python/3.9.14/x64/lib/python3.9/site-packages/IPython/core/interactiveshell.py:3378: LatexWarning: Found documentclass in tmp_2210.08401/sample631.tex\n",
      "\n",
      "  exec(code_obj, self.user_global_ns, self.user_ns)\n",
      "/opt/hostedtoolcache/Python/3.9.14/x64/lib/python3.9/site-packages/arxiv_on_deck_2/latex.py:292: LatexWarning: Latex injecting: 'param_shortcuts' from 'tmp_2210.08401/param_shortcuts.tex'\n",
      "  warnings.warn(LatexWarning(f\"Latex injecting: '{ext}' from '{subsource}'\"))\n"
     ]
    },
    {
     "name": "stdout",
     "output_type": "stream",
     "text": [
      "extracting tarball to tmp_2210.08434... done.\n",
      "Retrieving document from  https://arxiv.org/e-print/2210.08491\n"
     ]
    },
    {
     "name": "stdout",
     "output_type": "stream",
     "text": [
      "extracting tarball to tmp_2210.08491..."
     ]
    },
    {
     "name": "stdout",
     "output_type": "stream",
     "text": [
      " done.\n",
      "Retrieving document from  https://arxiv.org/e-print/2210.08510\n"
     ]
    },
    {
     "name": "stdout",
     "output_type": "stream",
     "text": [
      "extracting tarball to tmp_2210.08510..."
     ]
    },
    {
     "name": "stdout",
     "output_type": "stream",
     "text": [
      " done.\n"
     ]
    },
    {
     "name": "stderr",
     "output_type": "stream",
     "text": [
      "/opt/hostedtoolcache/Python/3.9.14/x64/lib/python3.9/site-packages/IPython/core/interactiveshell.py:3378: LatexWarning: Multiple tex files.\n",
      "\n",
      "  exec(code_obj, self.user_global_ns, self.user_ns)\n",
      "/opt/hostedtoolcache/Python/3.9.14/x64/lib/python3.9/site-packages/IPython/core/interactiveshell.py:3378: LatexWarning: Found documentclass in tmp_2210.08510/paper.tex\n",
      "\n",
      "  exec(code_obj, self.user_global_ns, self.user_ns)\n",
      "/opt/hostedtoolcache/Python/3.9.14/x64/lib/python3.9/site-packages/arxiv_on_deck_2/latex.py:292: LatexWarning: Latex injecting: 'aux_tex/table3' from 'tmp_2210.08510/aux_tex/table3.tex'\n",
      "  warnings.warn(LatexWarning(f\"Latex injecting: '{ext}' from '{subsource}'\"))\n",
      "/opt/hostedtoolcache/Python/3.9.14/x64/lib/python3.9/site-packages/arxiv_on_deck_2/latex.py:292: LatexWarning: Latex injecting: 'aux_tex/table2' from 'tmp_2210.08510/aux_tex/table2.tex'\n",
      "  warnings.warn(LatexWarning(f\"Latex injecting: '{ext}' from '{subsource}'\"))\n",
      "/opt/hostedtoolcache/Python/3.9.14/x64/lib/python3.9/site-packages/arxiv_on_deck_2/latex.py:292: LatexWarning: Latex injecting: 'aux_tex/table_ages' from 'tmp_2210.08510/aux_tex/table_ages.tex'\n",
      "  warnings.warn(LatexWarning(f\"Latex injecting: '{ext}' from '{subsource}'\"))\n",
      "/opt/hostedtoolcache/Python/3.9.14/x64/lib/python3.9/site-packages/arxiv_on_deck_2/latex.py:292: LatexWarning: Latex injecting: 'aux_tex/table_hc_groups' from 'tmp_2210.08510/aux_tex/table_hc_groups.tex'\n",
      "  warnings.warn(LatexWarning(f\"Latex injecting: '{ext}' from '{subsource}'\"))\n",
      "/opt/hostedtoolcache/Python/3.9.14/x64/lib/python3.9/site-packages/arxiv_on_deck_2/latex.py:292: LatexWarning: Latex injecting: 'aux_tex/table_metallicities' from 'tmp_2210.08510/aux_tex/table_metallicities.tex'\n",
      "  warnings.warn(LatexWarning(f\"Latex injecting: '{ext}' from '{subsource}'\"))\n"
     ]
    },
    {
     "name": "stdout",
     "output_type": "stream",
     "text": [
      "Retrieving document from  https://arxiv.org/e-print/2210.08517\n"
     ]
    },
    {
     "name": "stdout",
     "output_type": "stream",
     "text": [
      "extracting tarball to tmp_2210.08517..."
     ]
    },
    {
     "name": "stdout",
     "output_type": "stream",
     "text": [
      " done.\n"
     ]
    },
    {
     "name": "stdout",
     "output_type": "stream",
     "text": [
      "Retrieving document from  https://arxiv.org/e-print/2210.08618\n"
     ]
    },
    {
     "name": "stdout",
     "output_type": "stream",
     "text": [
      "extracting tarball to tmp_2210.08618... done.\n",
      "Retrieving document from  https://arxiv.org/e-print/2210.08658\n"
     ]
    },
    {
     "name": "stdout",
     "output_type": "stream",
     "text": [
      "extracting tarball to tmp_2210.08658..."
     ]
    },
    {
     "name": "stdout",
     "output_type": "stream",
     "text": [
      " done.\n",
      "Retrieving document from  https://arxiv.org/e-print/2210.08699\n"
     ]
    },
    {
     "name": "stdout",
     "output_type": "stream",
     "text": [
      "extracting tarball to tmp_2210.08699..."
     ]
    },
    {
     "name": "stdout",
     "output_type": "stream",
     "text": [
      " done.\n",
      "Retrieving document from  https://arxiv.org/e-print/2210.08791\n"
     ]
    },
    {
     "name": "stderr",
     "output_type": "stream",
     "text": [
      "/opt/hostedtoolcache/Python/3.9.14/x64/lib/python3.9/site-packages/IPython/core/interactiveshell.py:3378: LatexWarning: Multiple tex files.\n",
      "\n",
      "  exec(code_obj, self.user_global_ns, self.user_ns)\n",
      "/opt/hostedtoolcache/Python/3.9.14/x64/lib/python3.9/site-packages/IPython/core/interactiveshell.py:3378: LatexWarning: Found documentclass in tmp_2210.08699/fornax_kmm_arxiv20221017.tex\n",
      "\n",
      "  exec(code_obj, self.user_global_ns, self.user_ns)\n",
      "/opt/hostedtoolcache/Python/3.9.14/x64/lib/python3.9/site-packages/arxiv_on_deck_2/latex.py:292: LatexWarning: Latex injecting: 'table1_basic.tex' from 'tmp_2210.08699/table1_basic.tex'\n",
      "  warnings.warn(LatexWarning(f\"Latex injecting: '{ext}' from '{subsource}'\"))\n",
      "/opt/hostedtoolcache/Python/3.9.14/x64/lib/python3.9/site-packages/arxiv_on_deck_2/latex.py:292: LatexWarning: Latex injecting: 'table4_masses.tex' from 'tmp_2210.08699/table4_masses.tex'\n",
      "  warnings.warn(LatexWarning(f\"Latex injecting: '{ext}' from '{subsource}'\"))\n",
      "/opt/hostedtoolcache/Python/3.9.14/x64/lib/python3.9/site-packages/arxiv_on_deck_2/latex.py:292: LatexWarning: Latex injecting: 'table2_caapr.tex' from 'tmp_2210.08699/table2_caapr.tex'\n",
      "  warnings.warn(LatexWarning(f\"Latex injecting: '{ext}' from '{subsource}'\"))\n",
      "/opt/hostedtoolcache/Python/3.9.14/x64/lib/python3.9/site-packages/arxiv_on_deck_2/latex.py:292: LatexWarning: Latex injecting: 'table3_almaco.tex' from 'tmp_2210.08699/table3_almaco.tex'\n",
      "  warnings.warn(LatexWarning(f\"Latex injecting: '{ext}' from '{subsource}'\"))\n",
      "/opt/hostedtoolcache/Python/3.9.14/x64/lib/python3.9/site-packages/arxiv_on_deck_2/latex.py:292: LatexWarning: Latex injecting: 'figures_mommaps_det.tex' from 'tmp_2210.08699/figures_mommaps_det.tex'\n",
      "  warnings.warn(LatexWarning(f\"Latex injecting: '{ext}' from '{subsource}'\"))\n"
     ]
    },
    {
     "name": "stdout",
     "output_type": "stream",
     "text": [
      "extracting tarball to tmp_2210.08791... done.\n",
      "Retrieving document from  https://arxiv.org/e-print/2210.08880\n"
     ]
    },
    {
     "name": "stderr",
     "output_type": "stream",
     "text": [
      "/opt/hostedtoolcache/Python/3.9.14/x64/lib/python3.9/site-packages/IPython/core/interactiveshell.py:3378: LatexWarning: Multiple tex files.\n",
      "\n",
      "  exec(code_obj, self.user_global_ns, self.user_ns)\n",
      "/opt/hostedtoolcache/Python/3.9.14/x64/lib/python3.9/site-packages/IPython/core/interactiveshell.py:3378: LatexWarning: Found documentclass in tmp_2210.08791/natnotes.tex\n",
      "\n",
      "  exec(code_obj, self.user_global_ns, self.user_ns)\n"
     ]
    },
    {
     "name": "stdout",
     "output_type": "stream",
     "text": [
      "extracting tarball to tmp_2210.08880..."
     ]
    },
    {
     "name": "stdout",
     "output_type": "stream",
     "text": [
      " done.\n",
      "Retrieving document from  https://arxiv.org/e-print/2210.08899\n"
     ]
    },
    {
     "name": "stdout",
     "output_type": "stream",
     "text": [
      "extracting tarball to tmp_2210.08899..."
     ]
    },
    {
     "name": "stdout",
     "output_type": "stream",
     "text": [
      " done.\n",
      "Retrieving document from  https://arxiv.org/e-print/2210.08912\n"
     ]
    },
    {
     "name": "stdout",
     "output_type": "stream",
     "text": [
      "extracting tarball to tmp_2210.08912..."
     ]
    },
    {
     "name": "stdout",
     "output_type": "stream",
     "text": [
      " done.\n",
      "Retrieving document from  https://arxiv.org/e-print/2210.08915\n"
     ]
    },
    {
     "name": "stdout",
     "output_type": "stream",
     "text": [
      "extracting tarball to tmp_2210.08915..."
     ]
    },
    {
     "name": "stdout",
     "output_type": "stream",
     "text": [
      " done.\n",
      "Retrieving document from  https://arxiv.org/e-print/2210.08996\n"
     ]
    },
    {
     "name": "stdout",
     "output_type": "stream",
     "text": [
      "extracting tarball to tmp_2210.08996..."
     ]
    },
    {
     "name": "stdout",
     "output_type": "stream",
     "text": [
      " done.\n"
     ]
    },
    {
     "name": "stdout",
     "output_type": "stream",
     "text": [
      "Retrieving document from  https://arxiv.org/e-print/2210.09077\n"
     ]
    },
    {
     "name": "stdout",
     "output_type": "stream",
     "text": [
      "extracting tarball to tmp_2210.09077..."
     ]
    },
    {
     "name": "stdout",
     "output_type": "stream",
     "text": [
      " done.\n",
      "Retrieving document from  https://arxiv.org/e-print/2210.09096\n"
     ]
    },
    {
     "name": "stdout",
     "output_type": "stream",
     "text": [
      "extracting tarball to tmp_2210.09096..."
     ]
    },
    {
     "name": "stdout",
     "output_type": "stream",
     "text": [
      " done.\n",
      "Retrieving document from  https://arxiv.org/e-print/2210.09109\n"
     ]
    },
    {
     "name": "stdout",
     "output_type": "stream",
     "text": [
      "extracting tarball to tmp_2210.09109..."
     ]
    },
    {
     "name": "stdout",
     "output_type": "stream",
     "text": [
      " done.\n",
      "Retrieving document from  https://arxiv.org/e-print/2210.09116\n"
     ]
    },
    {
     "name": "stdout",
     "output_type": "stream",
     "text": [
      "extracting tarball to tmp_2210.09116..."
     ]
    },
    {
     "name": "stdout",
     "output_type": "stream",
     "text": [
      " done.\n",
      "Retrieving document from  https://arxiv.org/e-print/2210.09124\n"
     ]
    },
    {
     "name": "stderr",
     "output_type": "stream",
     "text": [
      "/opt/hostedtoolcache/Python/3.9.14/x64/lib/python3.9/site-packages/IPython/core/interactiveshell.py:3378: LatexWarning: Multiple tex files.\n",
      "\n",
      "  exec(code_obj, self.user_global_ns, self.user_ns)\n",
      "/opt/hostedtoolcache/Python/3.9.14/x64/lib/python3.9/site-packages/IPython/core/interactiveshell.py:3378: LatexWarning: Found documentclass in tmp_2210.09116/ms.tex\n",
      "\n",
      "  exec(code_obj, self.user_global_ns, self.user_ns)\n"
     ]
    },
    {
     "name": "stderr",
     "output_type": "stream",
     "text": [
      "/tmp/ipykernel_2216/4030337529.py:34: LatexWarning: 2210.09124 did not run properly\n",
      "not a gzip file\n",
      "  warnings.warn(latex.LatexWarning(f\"{paper_id:s} did not run properly\\n\" +\n"
     ]
    },
    {
     "name": "stdout",
     "output_type": "stream",
     "text": [
      "Retrieving document from  https://arxiv.org/e-print/2210.09129\n"
     ]
    },
    {
     "name": "stdout",
     "output_type": "stream",
     "text": [
      "extracting tarball to tmp_2210.09129..."
     ]
    },
    {
     "name": "stdout",
     "output_type": "stream",
     "text": [
      " done.\n",
      "Retrieving document from  https://arxiv.org/e-print/2210.09172\n"
     ]
    },
    {
     "name": "stdout",
     "output_type": "stream",
     "text": [
      "extracting tarball to tmp_2210.09172..."
     ]
    },
    {
     "name": "stdout",
     "output_type": "stream",
     "text": [
      " done.\n",
      "Retrieving document from  https://arxiv.org/e-print/2210.09182\n"
     ]
    },
    {
     "name": "stdout",
     "output_type": "stream",
     "text": [
      "extracting tarball to tmp_2210.09182..."
     ]
    },
    {
     "name": "stdout",
     "output_type": "stream",
     "text": [
      " done.\n",
      "Retrieving document from  https://arxiv.org/e-print/2210.09242\n"
     ]
    },
    {
     "name": "stderr",
     "output_type": "stream",
     "text": [
      "/opt/hostedtoolcache/Python/3.9.14/x64/lib/python3.9/site-packages/IPython/core/interactiveshell.py:3378: LatexWarning: Multiple tex files.\n",
      "\n",
      "  exec(code_obj, self.user_global_ns, self.user_ns)\n",
      "/opt/hostedtoolcache/Python/3.9.14/x64/lib/python3.9/site-packages/IPython/core/interactiveshell.py:3378: LatexWarning: Found documentclass in tmp_2210.09182/sample631.tex\n",
      "\n",
      "  exec(code_obj, self.user_global_ns, self.user_ns)\n"
     ]
    },
    {
     "name": "stdout",
     "output_type": "stream",
     "text": [
      "extracting tarball to tmp_2210.09242... done.\n"
     ]
    },
    {
     "name": "stdout",
     "output_type": "stream",
     "text": [
      "Retrieving document from  https://arxiv.org/e-print/2210.09283\n"
     ]
    },
    {
     "name": "stdout",
     "output_type": "stream",
     "text": [
      "extracting tarball to tmp_2210.09283..."
     ]
    },
    {
     "name": "stdout",
     "output_type": "stream",
     "text": [
      " done.\n",
      "Retrieving document from  https://arxiv.org/e-print/2210.09300\n"
     ]
    },
    {
     "name": "stdout",
     "output_type": "stream",
     "text": [
      "extracting tarball to tmp_2210.09300..."
     ]
    },
    {
     "name": "stdout",
     "output_type": "stream",
     "text": [
      " done.\n"
     ]
    }
   ],
   "source": [
    "documents = []\n",
    "failed = []\n",
    "for paper in tqdm(candidates[:-1]):\n",
    "    paper_id = paper['identifier'].lower().replace('arxiv:', '')\n",
    "    \n",
    "    folder = f'tmp_{paper_id}'\n",
    "\n",
    "    try:\n",
    "        if not os.path.isdir(folder):\n",
    "            folder = retrieve_document_source(f\"{paper_id}\", f'tmp_{paper_id}')\n",
    "        \n",
    "        try:\n",
    "            doc = latex.LatexDocument(folder, validation=validation)    \n",
    "        except AffiliationError as affilerror:\n",
    "            msg = f\"ArXiv:{paper_id:s} is not an MPIA paper... \" + str(affilerror)\n",
    "            failed.append((paper, \"affiliation error: \" + str(affilerror) ))\n",
    "            continue\n",
    "        \n",
    "        # Hack because sometimes author parsing does not work well\n",
    "        if (len(doc.authors) != len(paper['authors'])):\n",
    "            doc._authors = paper['authors']\n",
    "        if (doc.abstract) in (None, ''):\n",
    "            doc._abstract = paper['abstract']\n",
    "            \n",
    "        doc.comment = (get_markdown_badge(paper_id) + \n",
    "                       \"<mark>Appeared on: \" + paper['date'] + \"</mark> - \" +\n",
    "                       \"_\" + paper['comments'] + \"_\")\n",
    "        doc.highlight_authors_in_list(hl_list)\n",
    "\n",
    "        full_md = doc.generate_markdown_text()\n",
    "        \n",
    "        documents.append((paper_id, full_md))\n",
    "    except Exception as e:\n",
    "        warnings.warn(latex.LatexWarning(f\"{paper_id:s} did not run properly\\n\" +\n",
    "                                         str(e)\n",
    "                                        ))\n",
    "        failed.append((paper, \"latex error \" + str(e)))"
   ]
  },
  {
   "cell_type": "markdown",
   "id": "2505a25c",
   "metadata": {
    "papermill": {
     "duration": 0.008243,
     "end_time": "2022-10-18T05:26:15.279933",
     "exception": false,
     "start_time": "2022-10-18T05:26:15.271690",
     "status": "completed"
    },
    "tags": []
   },
   "source": [
    "### Export the logs\n",
    "\n",
    "Throughout, we also keep track of the logs per paper. see `logs-{today date}.md` "
   ]
  },
  {
   "cell_type": "code",
   "execution_count": 6,
   "id": "d733828a",
   "metadata": {
    "execution": {
     "iopub.execute_input": "2022-10-18T05:26:15.298022Z",
     "iopub.status.busy": "2022-10-18T05:26:15.297327Z",
     "iopub.status.idle": "2022-10-18T05:26:15.341538Z",
     "shell.execute_reply": "2022-10-18T05:26:15.340867Z"
    },
    "papermill": {
     "duration": 0.055133,
     "end_time": "2022-10-18T05:26:15.343084",
     "exception": false,
     "start_time": "2022-10-18T05:26:15.287951",
     "status": "completed"
    },
    "scrolled": false,
    "tags": []
   },
   "outputs": [
    {
     "data": {
      "text/markdown": [
       "## Successful papers"
      ],
      "text/plain": [
       "<IPython.core.display.Markdown object>"
      ]
     },
     "metadata": {},
     "output_type": "display_data"
    },
    {
     "data": {
      "text/markdown": [
       "\n",
       "|||\n",
       "|---:|:---|\n",
       "| [![arXiv](https://img.shields.io/badge/arXiv-arXiv:2210.08078-b31b1b.svg)](https://arxiv.org/abs/arXiv:2210.08078) | **Revisiting Radial Velocity Measurements of the K2-18 System with the  Line-by-Line Framework**  |\n",
       "|| Michael Radica, et al. -- incl., <mark>Thomas Henning</mark> |\n",
       "|*Appeared on*| *2022-10-18*|\n",
       "|*Comments*| *16 pages, 11 figures. Accepted in MNRAS*|\n",
       "|**Abstract**| The cross-correlation function and template matching techniques have dominated the world of precision radial velocities for many years. Recently, a new technique, named line-by-line, has been developed as an outlier resistant way to efficiently extract radial velocity content from high resolution spectra. We apply this new method to archival HARPS and CARMENES datasets of the K2-18 system. After reprocessing the HARPS dataset with the line-by-line framework, we are able to replicate the findings of previous studies. Furthermore, by splitting the full wavelength range into sub-domains, we were able to identify a systematic chromatic correlation of the radial velocities in the reprocessed CARMENES dataset. After post-processing the radial velocities to remove this correlation, as well as rejecting some outlier nights, we robustly uncover the signal of both K2-18b and K2-18c, with masses that agree with those found from our analysis of the HARPS dataset. We then combine both the HARPS and CARMENES velocities to refine the parameters of both planets, notably resulting in a revised mass and period for K2-18c of $6.99^{+0.96}_{-0.99}$M$_{Earth}$ and $9.2072\\pm0.0065$d, respectively. Our work thoroughly demonstrates the power of the line-by-line technique for the extraction of precision radial velocity information. |"
      ],
      "text/plain": [
       "[arXiv:2210.08078] Revisiting Radial Velocity Measurements of the K2-18 System with the  Line-by-Line Framework\n",
       "\tMichael Radica, et al. -- incl., <mark>Thomas Henning</mark>"
      ]
     },
     "metadata": {},
     "output_type": "display_data"
    },
    {
     "data": {
      "text/markdown": [
       "\n",
       "|||\n",
       "|---:|:---|\n",
       "| [![arXiv](https://img.shields.io/badge/arXiv-arXiv:2210.08510-b31b1b.svg)](https://arxiv.org/abs/arXiv:2210.08510) | **The Gaia-ESO Survey: old super metal-rich visitors from the inner Galaxy**  |\n",
       "|| M. L. L. Dantas, et al. -- incl., <mark>G. Guiglion</mark>, <mark>M. Bergemann</mark> |\n",
       "|*Appeared on*| *2022-10-18*|\n",
       "|*Comments*| *18 pages, 13 figures. A&A in review; version after second interaction with the referee. The catalogue remains to be released. Abridged abstract to fit arxiv's requirements*|\n",
       "|**Abstract**| We report the identification of a set of old super metal-rich dwarf stars with orbits of low eccentricity that reach a maximum height from the Galactic plane between ~0.5-1.5 kpc. We discuss their properties to understand their origins. We use data from the internal data release 6 of the Gaia-ESO Survey. We selected stars observed at high resolution with abundances of 21 species of 18 individual elements. We apply hierarchical clustering to group the stars with similar chemical abundances within the complete chemical abundance space. According to their chemical properties, this set of super metal-rich stars can be arranged into five subgroups. Four seem to follow a chemical enrichment flow, where nearly all abundances increase in lockstep with Fe. The fifth subgroup shows different chemical characteristics. All subgroups have the following features: median ages of the order of 7-9 Gyr, Solar or sub-Solar [Mg/Fe] ratios, maximum height between 0.5-1.5 kpc, low eccentricities, and a detachment from the expected metallicity gradient with guiding radius. The high metallicity of our stars is incompatible with a formation in the Solar neighbourhood. Their dynamic properties agree with theoretical expectations that these stars travelled from the inner Galaxy due to blurring and, most importantly, to churning. We suggest that most of this population's stars originated in the Milky Way's inner regions (inner disc and/or the bulge) and later migrated to the Solar neighbourhood. The region from where the stars originated had a complex chemical enrichment history, with contributions from supernovae types Ia and II and possibly asymptotic giant branch stars. |"
      ],
      "text/plain": [
       "[arXiv:2210.08510] The Gaia-ESO Survey: old super metal-rich visitors from the inner Galaxy\n",
       "\tM. L. L. Dantas, et al. -- incl., <mark>G. Guiglion</mark>, <mark>M. Bergemann</mark>"
      ]
     },
     "metadata": {},
     "output_type": "display_data"
    },
    {
     "data": {
      "text/markdown": [
       "\n",
       "|||\n",
       "|---:|:---|\n",
       "| [![arXiv](https://img.shields.io/badge/arXiv-arXiv:2210.08517-b31b1b.svg)](https://arxiv.org/abs/arXiv:2210.08517) | **Transmission spectroscopy of WASP-7 b with UVES -- Detection of Na I  D$_2$ and tentative D$_1$ line absorption**  |\n",
       "|| Hossein Rahmati, Stefan Czesla, Sara Khalafinejad, <mark>Paul Mollière</mark> |\n",
       "|*Appeared on*| *2022-10-18*|\n",
       "|*Comments*| *Accepted for publication in A&A*|\n",
       "|**Abstract**| Transmission spectroscopy is a prime technique to study the chemical composition and structure of exoplanetary atmospheres. Strong excess absorption signals have been detected in the optical Na I D1, 2 Fraunhofer lines during transits of hot Jupiters, which are attributed to the planetary atmospheres and allow us to constrain its structure. We study the atmosphere of WASP-7 b by means of high-resolution transit spectroscopy in the sodium lines. We analyze a spectral transit time-series of 89 high-resolution spectra of the hot Jupiter WASP-7 b that was observed using the Ultraviolet and Visual Echelle Spectrograph (UVES). We use the telluric lines for an accurate alignment of the spectra and carry out a telluric correction with molecfit. Stellar magnetic activity is monitored by investigating chromospheric lines such as the Ca II H and K and hydrogen H$\\alpha$ lines. Finally, we obtain transmission spectra and light curves for various lines. The star shows no identifiable flares and, if any, marginal changes in activity during our observing run. The sodium transmission spectra and corresponding light curves clearly show signs of the Rossiter-McLaughlin effect (RM) and the stellar center-to-limb variation (CLV) that we model using synthetic spectra. A statistically significant, narrow absorption feature with a line contrast of 0.50$\\pm$0.06% (at $\\sim 8.3\\sigma$ level) and a full width at half maximum (FWHM) of 0.13$\\pm$0.02 A is detected at the location of the Na I D$_2$ line. For the Na I D$_1$ line signal, we derive a line contrast of 0.13$\\pm$0.04% (at $\\sim 3.2\\sigma$ level), which we consider a tentative detection. In addition, we provide upper limits for absorption by the hydrogen Balmer lines (H$\\alpha$, H$\\beta$, and H$\\gamma$), K I $\\lambda$7699 A, Ca II H and K, and infra-red triplet (IRT) lines. |"
      ],
      "text/plain": [
       "[arXiv:2210.08517] Transmission spectroscopy of WASP-7 b with UVES -- Detection of Na I  D$_2$ and tentative D$_1$ line absorption\n",
       "\tHossein Rahmati, Stefan Czesla, Sara Khalafinejad, <mark>Paul Mollière</mark>"
      ]
     },
     "metadata": {},
     "output_type": "display_data"
    },
    {
     "data": {
      "text/markdown": [
       "\n",
       "|||\n",
       "|---:|:---|\n",
       "| [![arXiv](https://img.shields.io/badge/arXiv-arXiv:2210.08996-b31b1b.svg)](https://arxiv.org/abs/arXiv:2210.08996) | **TOI-969: a late-K dwarf with a hot mini-Neptune in the desert and an  eccentric cold Jupiter**  |\n",
       "|| <mark>J. Lillo-Box</mark>, et al. -- incl., <mark>C. Hellier</mark>, <mark>S. Hoyer</mark>, <mark>L. Kreidberg</mark>, <mark>R. P. Schwarz</mark> |\n",
       "|*Appeared on*| *2022-10-18*|\n",
       "|*Comments*| *Accepted for publication in A&A. 25 pages, 15 figures, 12 tables*|\n",
       "|**Abstract**| The current architecture of a given multi-planetary system is a key fingerprint of its past formation and dynamical evolution history. Long-term follow-up observations are key to complete their picture. In this paper we focus on the confirmation and characterization of the components of the TOI-969 planetary system, where TESS detected a Neptune-size planet candidate in a very close-in orbit around a late K-dwarf star. We use a set of precise radial velocity observations from HARPS, PFS and CORALIE instruments covering more than two years in combination with the TESS photometric light curve and other ground-based follow-up observations to confirm and characterize the components of this planetary system. We find that TOI-969 b is a transiting close-in ($P_b\\sim 1.82$ days) mini-Neptune planet ($m_b=9.1^{+1.1}_{-1.0}$ M$_{\\oplus}$, $R_b=2.765^{+0.088}_{-0.097}$ R$_{\\oplus}$), thus placing it on the {lower boundary} of the hot-Neptune desert ($T_{\\rm eq,b}=941\\pm31$ K). The analysis of its internal structure shows that TOI-969 b is a volatile-rich planet, suggesting it underwent an inward migration. The radial velocity model also favors the presence of a second massive body in the system, TOI-969 c, with a long period of $P_c=1700^{+290}_{-280}$ days and a minimum mass of $m_{c}\\sin{i_c}=11.3^{+1.1}_{-0.9}$ M$_{\\rm Jup}$, and with a highly-eccentric orbit of $e_c=0.628^{+0.043}_{-0.036}$. The TOI-969 planetary system is one of the few around K-dwarfs known to have this extended configuration going from a very close-in planet to a wide-separation gaseous giant. TOI-969 b has a transmission spectroscopy metric of 93, and it orbits a moderately bright ($G=11.3$ mag) star, thus becoming an excellent target for atmospheric studies. The architecture of this planetary system can also provide valuable information about migration and formation of planetary systems. |"
      ],
      "text/plain": [
       "[arXiv:2210.08996] TOI-969: a late-K dwarf with a hot mini-Neptune in the desert and an  eccentric cold Jupiter\n",
       "\t<mark>J. Lillo-Box</mark>, et al. -- incl., <mark>C. Hellier</mark>, <mark>S. Hoyer</mark>, <mark>L. Kreidberg</mark>, <mark>R. P. Schwarz</mark>"
      ]
     },
     "metadata": {},
     "output_type": "display_data"
    },
    {
     "data": {
      "text/markdown": [
       "## Failed papers"
      ],
      "text/plain": [
       "<IPython.core.display.Markdown object>"
      ]
     },
     "metadata": {},
     "output_type": "display_data"
    },
    {
     "data": {
      "text/markdown": [
       "\n",
       "|||\n",
       "|---:|:---|\n",
       "| [![arXiv](https://img.shields.io/badge/arXiv-arXiv:2210.08010-b31b1b.svg)](https://arxiv.org/abs/arXiv:2210.08010) | **SKYSURF-4: Panchromatic Full Sky Surface Brightness Measurement Methods  and Results**  |\n",
       "|| Rosalia O'Brien, et al. -- incl., <mark>Daniel Henningsen</mark>, <mark>Darby Kramer</mark> |\n",
       "|*Appeared on*| *2022-10-18*|\n",
       "|*Comments*| *Submitted to AJ. Main results shown in Figure 9 and Table 4. Comments welcome!*|\n",
       "|**Abstract**| The diffuse, unresolved sky provides most of the photons that the Hubble Space Telescope (HST) receives, yet remains poorly understood. HST Archival Legacy program SKYSURF aims to measure the 0.2-1.7 $\\mu$m sky surface brightness (sky-SB) from over 200,000 HST images. We describe two sky-SB measurement algorithms designed for SKYSURF (the Percentile-clip and ProFound Median methods), that are able to recover the input sky-SB from simulated images to within 1% uncertainty, and present measurements estimated using each algorithm on the entire SKYSURF database. Comparing our sky-SB spectral energy distribution to measurements from the literature shows general agreements, but highlights that models of Zodiacal Light at HST wavelengths are likely incomplete. Our SKYSURF spectral energy distribution also reveals a dependence on Sun Angle, indicating non-isotropic scattering of Solar photons. Finally, we update Diffuse Light limits for F125W, F140W, and F160W based on the methods from Carleton et al. (2022). The Diffuse Light limits for both sky-SB measurements algorithms are in good agreement, ranging from 0.006 MJy sr$^{-1}$ (14 nW m$^{-2}$ sr$^{-1}$) to 0.015 MJy sr$^{-1}$ (32 nW m$^{-2}$ sr$^{-1}$). These estimates provide the most stringent all-sky constraints to date in this wavelength range. SKYSURF sky-SB measurements are made public on the official SKYSURF website and will be used to constrain Extragalactic Background Light in future papers. |\n",
       "|<p style=\"color:green\"> **ERROR** </p>| <p style=\"color:green\">affiliation error: mpia.affiliation_verifications: 'Heidelberg' keyword not found.</p> |"
      ],
      "text/plain": [
       "<IPython.core.display.Markdown object>"
      ]
     },
     "metadata": {},
     "output_type": "display_data"
    },
    {
     "data": {
      "text/markdown": [
       "\n",
       "|||\n",
       "|---:|:---|\n",
       "| [![arXiv](https://img.shields.io/badge/arXiv-arXiv:2210.08038-b31b1b.svg)](https://arxiv.org/abs/arXiv:2210.08038) | **BICEP / Keck XVII: Line of Sight Distortion Analysis: Estimates of  Gravitational Lensing, Anisotropic Cosmic Birefringence, Patchy Reionization,  and Systematic Errors**  |\n",
       "|| BICEP/Keck Collaboration, et al. -- incl., <mark>S. Harrison</mark>, <mark>S. Henderson</mark> |\n",
       "|*Appeared on*| *2022-10-18*|\n",
       "|*Comments*| *33 pages, 18 figures, comments welcome*|\n",
       "|**Abstract**| We present estimates of line-of-sight distortion fields derived from the 95 GHz and 150 GHz data taken by BICEP2, BICEP3, and Keck Array up to the 2018 observing season, leading to cosmological constraints and a study of instrumental and astrophysical systematics. Cosmological constraints are derived from three of the distortion fields concerning gravitational lensing from large-scale structure, polarization rotation from magnetic fields or an axion-like field, and the screening effect of patchy reionization. We measure an amplitude of the lensing power spectrum $A_L^{\\phi\\phi}=0.95 \\pm 0.20$. We constrain polarization rotation, expressed as the coupling constant of a Chern-Simons electromagnetic term $g_{a\\gamma} \\leq 2.6 \\times 10^{-2}/H_I$, where $H_I$ is the inflationary Hubble parameter, and an amplitude of primordial magnetic fields smoothed over 1 Mpc $B_{1\\text{Mpc}} \\leq 6.6 \\;\\text{nG}$ at 95 GHz. We constrain the root mean square of optical-depth fluctuations in a simple \"crinkly surface\" model of patchy reionization, finding $A^\\tau<0.19$ ($2\\sigma$) for the coherence scale of $L_c=100$. We show that all of the distortion fields of the 95 GHz and 150 GHz polarization maps are consistent with simulations including lensed-$\\Lambda$CDM, dust, and noise, with no evidence for instrumental systematics. In some cases, the EB and TB quadratic estimators presented here are more sensitive than our previous map-based null tests at identifying and rejecting spurious B-modes that might arise from instrumental effects. Finally, we verify that the standard deprojection filtering in the BICEP/Keck data processing is effective at removing temperature to polarization leakage. |\n",
       "|<p style=\"color:green\"> **ERROR** </p>| <p style=\"color:green\">affiliation error: mpia.affiliation_verifications: 'Heidelberg' keyword not found.</p> |"
      ],
      "text/plain": [
       "<IPython.core.display.Markdown object>"
      ]
     },
     "metadata": {},
     "output_type": "display_data"
    },
    {
     "data": {
      "text/markdown": [
       "\n",
       "|||\n",
       "|---:|:---|\n",
       "| [![arXiv](https://img.shields.io/badge/arXiv-arXiv:2210.08043-b31b1b.svg)](https://arxiv.org/abs/arXiv:2210.08043) | **The MASSIVE Survey. XVIII. Deep Wide-Field $K$-band Photometry and Local  Scaling Relations for Massive Early-Type Galaxies**  |\n",
       "|| Matthew E. Quenneville, et al. -- incl., <mark>Jenny E. Greene</mark> |\n",
       "|*Appeared on*| *2022-10-18*|\n",
       "|*Comments*| *17 pages, 7 figures, submitted to MNRAS*|\n",
       "|**Abstract**| We present wide-field, deep $K$-band photometry of 98 luminous early-type galaxies (ETGs) from the MASSIVE survey based on observations taken with the WIRCam instrument on the Canada-France-Hawaii Telescope. Using these images, we extract accurate total $K$-band luminosities ($L_K$) and half-light radii ($R_e$) for this sample of galaxies. We use these new values to explore the size-luminosity and Faber-Jackson relations for massive ETGs. Within this volume-limited sample, we find clear evidence for curvature in both relations, indicating that the most luminous galaxies tend to have larger sizes and smaller velocity dispersions than expected from a simple power-law fit to less luminous galaxies. Our measured relations are qualitatively consistent with the most massive elliptical galaxies forming largely through dissipationless mergers. When the sample is separated into fast and slow rotators, we find the slow rotators to exhibit similar changes in slope with increasing $L_K$, suggesting that low-mass and high-mass slow rotators have different formation histories. The curvatures in the $R_e-L_K$ and $\\sigma-L_K$ relations cancel, leading to a relation between dynamical mass and luminosity that is well described by a single power-law: $R_e\\sigma^2 \\propto {L_K}^b$ with $b\\approx 1.2$. This is consistent with the tilt of the fundamental plane observed in lower mass elliptical galaxies. |\n",
       "|<p style=\"color:green\"> **ERROR** </p>| <p style=\"color:green\">affiliation error: mpia.affiliation_verifications: 'Heidelberg' keyword not found.</p> |"
      ],
      "text/plain": [
       "<IPython.core.display.Markdown object>"
      ]
     },
     "metadata": {},
     "output_type": "display_data"
    },
    {
     "data": {
      "text/markdown": [
       "\n",
       "|||\n",
       "|---:|:---|\n",
       "| [![arXiv](https://img.shields.io/badge/arXiv-arXiv:2210.08134-b31b1b.svg)](https://arxiv.org/abs/arXiv:2210.08134) | **CO2-driven surface changes in the Hapi region on Comet  67P/Churyumov-Gerasimenko**  |\n",
       "|| Björn J. R. Davidsson, et al. -- incl., <mark>Seungwon Lee</mark> |\n",
       "|*Appeared on*| *2022-10-18*|\n",
       "|*Comments*| *32 pages, 41 figures. This is a pre-copyedited, author-produced PDF of an article accepted for publication in MNRAS following peer review*|\n",
       "|**Abstract**| Between 2014 December 31 and 2015 March 17, the OSIRIS cameras on Rosetta documented the growth of a 140m wide and 0.5m deep depression in the Hapi region on Comet 67P/Churyumov-Gerasimenko. This shallow pit is one of several that later formed elsewhere on the comet, all in smooth terrain that primarily is the result of airfall of coma particles. We have compiled observations of this region in Hapi by the microwave instrument MIRO on Rosetta, acquired during October and November 2014. We use thermophysical and radiative transfer models in order to reproduce the MIRO observations. This allows us to place constraints on the thermal inertia, diffusivity, chemical composition, stratification, extinction coefficients, and scattering properties of the surface material, and how they evolved during the months prior to pit formation. The results are placed in context through long-term comet nucleus evolution modelling. We propose that: 1) MIRO observes signatures that are consistent with a solid-state greenhouse effect in airfall material; 2) CO2 ice is sufficiently close to the surface to have a measurable effect on MIRO antenna temperatures, and likely is responsible for the pit formation in Hapi observed by OSIRIS; 3) the pressure at the CO2 sublimation front is sufficiently strong to expel dust and water ice outwards, and to compress comet material inwards, thereby causing the near-surface compaction observed by CONSERT, SESAME, and groundbased radar, manifested as the \"consolidated terrain\" texture observed by OSIRIS. |\n",
       "|<p style=\"color:green\"> **ERROR** </p>| <p style=\"color:green\">affiliation error: mpia.affiliation_verifications: 'Heidelberg' keyword not found.</p> |"
      ],
      "text/plain": [
       "<IPython.core.display.Markdown object>"
      ]
     },
     "metadata": {},
     "output_type": "display_data"
    },
    {
     "data": {
      "text/markdown": [
       "\n",
       "|||\n",
       "|---:|:---|\n",
       "| [![arXiv](https://img.shields.io/badge/arXiv-arXiv:2210.08179-b31b1b.svg)](https://arxiv.org/abs/arXiv:2210.08179) | **A sub-Neptune transiting the young field star HD 18599 at 40 pc**  |\n",
       "|| Jerome P. de Leon, et al. -- incl., <mark>John H. Livingston</mark>, <mark>Tim Brown</mark>, <mark>Katharine Hesse</mark>, <mark>Laura Kreidberg</mark>, <mark>Huigen Liu</mark> |\n",
       "|*Appeared on*| *2022-10-18*|\n",
       "|*Comments*| *submitted to MNRAS*|\n",
       "|**Abstract**| Transiting exoplanets orbiting young nearby stars are ideal laboratories for testing theories of planet formation and evolution. However, to date only a handful of stars with age <1 Gyr have been found to host transiting exoplanets. Here we present the discovery and validation of a sub-Neptune around HD 18599, a young (300 Myr), nearby (d=40 pc) K star. We validate the transiting planet candidate as a bona fide planet using data from the TESS, Spitzer, and Gaia missions, ground-based photometry from IRSF, LCO, PEST, and NGTS, speckle imaging from Gemini, and spectroscopy from CHIRON, NRES, FEROS, and Minerva-Australis. The planet has an orbital period of 4.13 d, and a radius of 2.7Rearth. The RV data yields a 3-sigma mass upper limit of 30.5Mearth which is explained by either a massive companion or the large observed jitter typical for a young star. The brightness of the host star (V~9 mag) makes it conducive to detailed characterization via Doppler mass measurement which will provide a rare view into the interior structure of young planets. |\n",
       "|<p style=\"color:green\"> **ERROR** </p>| <p style=\"color:green\">affiliation error: mpia.affiliation_verifications: 'Heidelberg' keyword not found.</p> |"
      ],
      "text/plain": [
       "<IPython.core.display.Markdown object>"
      ]
     },
     "metadata": {},
     "output_type": "display_data"
    },
    {
     "data": {
      "text/markdown": [
       "\n",
       "|||\n",
       "|---:|:---|\n",
       "| [![arXiv](https://img.shields.io/badge/arXiv-arXiv:2210.08254-b31b1b.svg)](https://arxiv.org/abs/arXiv:2210.08254) | **Evolution of collisional neutrino flavor instabilities in spherically  symmetric supernova models**  |\n",
       "|| Zewei Xiong, et al. -- incl., <mark>Tobias Fischer</mark>, <mark>Chun-Yu Lin</mark> |\n",
       "|*Appeared on*| *2022-10-18*|\n",
       "|*Comments*| *20 pages, 12 figures*|\n",
       "|**Abstract**| We implement a multi-group and discrete-ordinate neutrino transport model in spherical symmetry which allows to simulate collective neutrino oscillations by including realistic collisional rates in a self-consistent way. We utilize this innovative model, based on strategic parameter rescaling, to study a recently proposed collisional flavor instability caused by the asymmetry of emission and absorption rates between $\\nu_e$ and $\\bar\\nu_e$ for four different static backgrounds taken from different stages in a core-collapse supernova simulation. Our results confirm that collisional instabilities generally exist around the neutrinosphere during the SN accretion and post-accretion phase, as suggested by [arXiv:2104.11369]. However, the growth and transport of flavor instabilities can only be fully captured by models with global simulations as done in this work. With minimal ingredient to trigger collisional instabilities, we find that the flavor oscillations and transport mainly affect (anti)neutrinos of heavy lepton flavors around their decoupling sphere, which then leave imprints on their energy spectra in the free-streaming regime. For electron (anti)neutrinos, their properties remain nearly intact. We also explore various effects due to the decoherence from neutrino-nucleon scattering, artificially enhanced decoherence from emission and absorption, neutrino vacuum mixing, and inhomogeneous matter profile, and discuss the implication of our work. |\n",
       "|<p style=\"color:green\"> **ERROR** </p>| <p style=\"color:green\">affiliation error: mpia.affiliation_verifications: 'Heidelberg' keyword not found.</p> |"
      ],
      "text/plain": [
       "<IPython.core.display.Markdown object>"
      ]
     },
     "metadata": {},
     "output_type": "display_data"
    },
    {
     "data": {
      "text/markdown": [
       "\n",
       "|||\n",
       "|---:|:---|\n",
       "| [![arXiv](https://img.shields.io/badge/arXiv-arXiv:2210.08275-b31b1b.svg)](https://arxiv.org/abs/arXiv:2210.08275) | **Probing Galactic variations in the fine-structure constant using solar  twin stars: methodology and results**  |\n",
       "|| Daniel A. Berke, Michael T. Murphy, Chris Flynn, <mark>Fan Liu</mark> |\n",
       "|*Appeared on*| *2022-10-18*|\n",
       "|*Comments*| *15 pages, 5 figures. Accepted by MNRAS. The VarConLib (Varying Constants Library) software used in this work is available at this https URL The measurements and results in this work are available at this https URL*|\n",
       "|**Abstract**| The rich absorption spectra of Sun-like stars are enticing probes for variations in the fine-structure constant, $\\alpha$, which gauges the strength of electromagnetism. While individual line wavelengths are sensitive to $\\alpha$, they are also sensitive to physical processes in the stellar atmospheres, which has precluded their use so far. Here we demonstrate a new, differential approach using solar twins: velocity separations between close pairs of transitions are compared across stars with very similar physical properties, strongly suppressing astrophysical and instrumental systematic errors. We utilise 423 archival exposures of 18 solar twins from the High-Accuracy Radial velocity Planetary Searcher (HARPS), in which calibration errors can be reduced to $\\lesssim$3 m/s. For stars with $\\approx$10 high signal-to-noise ratio spectra ($\\ge$200 per pixel), velocity separations between pairs are measured with $\\approx$10 m/s statistical precision. A companion paper assesses a range of systematic error sources using 130 stars, with a greater range of stellar parameters, providing accurate corrections for astrophysical effects and a residual, intrinsic star-to-star scatter of 0-13 m/s. Within these uncertainties, we find no evidence for velocity separation differences in 17 transition pairs between solar twins. In a second companion paper, this is found to limit local ($\\lesssim$50 pc) variations in $\\alpha$ to $\\approx$50 parts per billion, $\\sim$2 orders of magnitude less than other Galactic constraints. |\n",
       "|<p style=\"color:green\"> **ERROR** </p>| <p style=\"color:green\">affiliation error: mpia.affiliation_verifications: 'Heidelberg' keyword not found.</p> |"
      ],
      "text/plain": [
       "<IPython.core.display.Markdown object>"
      ]
     },
     "metadata": {},
     "output_type": "display_data"
    },
    {
     "data": {
      "text/markdown": [
       "\n",
       "|||\n",
       "|---:|:---|\n",
       "| [![arXiv](https://img.shields.io/badge/arXiv-arXiv:2210.08313-b31b1b.svg)](https://arxiv.org/abs/arXiv:2210.08313) | **Occurrence rate of hot Jupiters around early-type M dwarfs based on TESS  data**  |\n",
       "|| Tianjun Gan, et al. -- incl., <mark>Richard P. Schwarz</mark>, <mark>Joseph D. Twicken</mark> |\n",
       "|*Appeared on*| *2022-10-18*|\n",
       "|*Comments*| *34 pages, 18 figures, accepted for publication in AJ*|\n",
       "|**Abstract**| We present an estimate of the occurrence rate of hot Jupiters ($7\\ R_{\\oplus}\\leq R_{p}\\leq 2\\ R_{J}$, $0.8 \\leq P_{b}\\leq 10$ days) around early-type M dwarfs based on stars observed by TESS during its Primary Mission. We adopt stellar parameters from the TESS Input Catalog, and construct a sample of 60,819 M dwarfs with $10.5 \\leq T_{\\rm mag}\\leq 13.5$, effective temperature $2900 \\leq T_{\\rm eff}\\leq 4000\\ K$ and stellar mass $0.45\\leq M_{\\ast}\\leq 0.65\\ M_{\\odot}$. We conduct a uninformed transit search using a detection pipeline based on the box least square search and characterize the searching completeness through an injection and recovery experiment. We combine a series of vetting steps including light centroid measurement, odd/even and secondary eclipse analysis, rotation and transit period synchronization tests as well as inspecting the ground-based photometric, spectroscopic and imaging observations. Finally, we find a total of nine planet candidates, all of which are known TESS objects of interest. We obtain an occurrence rate of $0.27\\pm0.09\\%$ for hot Jupiters around early-type M dwarfs that satisfy our selection criteria. Compared with previous studies, the occurrence rate of hot Jupiters around early-type M dwarfs is smaller than all measurements for FGK stars, although they are consistent within 1--2$\\sigma$. Combining results from transit, radial velocity and microlensing surveys, we find that hot Jupiters around early-type M dwarfs possibly show a steeper decrease in occurrence rate per logarithmic semi-major axis bin (${{\\rm d}N}/{\\rm d}\\log_{10} a$) when compared with FGK stars. |\n",
       "|<p style=\"color:green\"> **ERROR** </p>| <p style=\"color:green\">affiliation error: mpia.affiliation_verifications: 'Heidelberg' keyword not found.</p> |"
      ],
      "text/plain": [
       "<IPython.core.display.Markdown object>"
      ]
     },
     "metadata": {},
     "output_type": "display_data"
    },
    {
     "data": {
      "text/markdown": [
       "\n",
       "|||\n",
       "|---:|:---|\n",
       "| [![arXiv](https://img.shields.io/badge/arXiv-arXiv:2210.08358-b31b1b.svg)](https://arxiv.org/abs/arXiv:2210.08358) | **Particle Injection and Nonthermal Particle Acceleration in Relativistic  Magnetic Reconnection**  |\n",
       "|| Omar French, <mark>Fan Guo</mark>, <mark>Qile Zhang</mark>, Dmitri Uzdensky |\n",
       "|*Appeared on*| *2022-10-18*|\n",
       "|*Comments*| *26 pages, 15 figures, submitted to The Astrophysical Journal*|\n",
       "|**Abstract**| Magnetic reconnection in the relativistic regime has been proposed as an important process for the efficient production of nonthermal particles and high-energy emissions. Using fully kinetic particle-in-cell simulations, we investigate how guide-field strength and domain size affect characteristic spectral features and acceleration processes. We study two stages of acceleration: energization up until the injection energy $\\gamma_{\\rm inj}$ and further acceleration that generates a power-law spectrum. Stronger guide fields increase the power-law index and $\\gamma_{\\rm inj}$, which suppresses acceleration efficiency. These quantities seemingly converge with increasing domain size, suggesting that our findings can be extended to large-scale systems. We find that three distinct mechanisms contribute to acceleration during injection: particle streaming along the parallel electric field, Fermi reflection, and the pickup process. Fermi and pickup processes, related to the electric field perpendicular to the magnetic field, govern the injection for weak guide fields and larger domains. Meanwhile, parallel electric fields are important for injection in the strong guide field regime. In the post-injection stage, we find that perpendicular electric fields dominate particle acceleration in the weak guide field regime, whereas parallel electric fields control acceleration for strong guide fields. These findings will help explain the nonthermal acceleration and emissions in high-energy astrophysics, including black hole jets and pulsar wind nebulae. |\n",
       "|<p style=\"color:green\"> **ERROR** </p>| <p style=\"color:green\">affiliation error: mpia.affiliation_verifications: 'Heidelberg' keyword not found.</p> |"
      ],
      "text/plain": [
       "<IPython.core.display.Markdown object>"
      ]
     },
     "metadata": {},
     "output_type": "display_data"
    },
    {
     "data": {
      "text/markdown": [
       "\n",
       "|||\n",
       "|---:|:---|\n",
       "| [![arXiv](https://img.shields.io/badge/arXiv-arXiv:2210.08401-b31b1b.svg)](https://arxiv.org/abs/arXiv:2210.08401) | **Probing the Structure and Evolution of BASS AGN through Eddington Ratios**  |\n",
       "|| Tonima Tasnim Ananna, et al. -- incl., <mark>Yoshihiro Ueda</mark>, <mark>Lia F. Sartori</mark>, <mark>Fiona Harrison</mark> |\n",
       "|*Appeared on*| *2022-10-18*|\n",
       "|*Comments*| *Accepted by ApJL*|\n",
       "|**Abstract**| We constrain the intrinsic Eddington ratio (\\lamEdd ) distribution function for local AGN in bins of low and high obscuration (log NH <= 22 and 22 < log NH < 25), using the Swift-BAT 70-month/BASS DR2 survey. We interpret the fraction of obscured AGN in terms of circum-nuclear geometry and temporal evolution. Specifically, at low Eddington ratios (log lamEdd < -2), obscured AGN outnumber unobscured ones by a factor of ~4, reflecting the covering factor of the circum-nuclear material (0.8, or a torus opening angle of ~ 34 degrees). At high Eddington ratios (\\log lamEdd > -1), the trend is reversed, with < 30% of AGN having log NH > 22, which we suggest is mainly due to the small fraction of time spent in a highly obscured state. Considering the Eddington ratio distribution function of narrow-line and broad-line AGN from our prior work, we see a qualitatively similar picture. To disentangle temporal and geometric effects at high lamEdd, we explore plausible clearing scenarios such that the time-weighted covering factors agree with the observed population ratio. We find that the low fraction of obscured AGN at high lamEdd is primarily due to the fact that the covering factor drops very rapidly, with more than half the time is spent with < 10% covering factor. We also find that nearly all obscured AGN at high-lamEdd exhibit some broad-lines. We suggest that this is because the height of the depleted torus falls below the height of the broad-line region, making the latter visible from all lines of sight. |\n",
       "|<p style=\"color:green\"> **ERROR** </p>| <p style=\"color:green\">affiliation error: mpia.affiliation_verifications: 'Heidelberg' keyword not found.</p> |"
      ],
      "text/plain": [
       "<IPython.core.display.Markdown object>"
      ]
     },
     "metadata": {},
     "output_type": "display_data"
    },
    {
     "data": {
      "text/markdown": [
       "\n",
       "|||\n",
       "|---:|:---|\n",
       "| [![arXiv](https://img.shields.io/badge/arXiv-arXiv:2210.08434-b31b1b.svg)](https://arxiv.org/abs/arXiv:2210.08434) | **He-star donor AM CVn stars and their progenitors as LISA sources**  |\n",
       "|| <mark>Wei-Min Liu</mark>, Lev Yungelson, Alexandre Kuranov |\n",
       "|*Appeared on*| *2022-10-18*|\n",
       "|*Comments*| *9 pages, 4 figures, accepted by Astronomy and Astrophysics*|\n",
       "|**Abstract**| Ultracompact cataclysmic variables (CVs) of the AM CVn type are deemed to be important verification sources for the future space gravitational wave detectors such as the Laser Interferometer Space Antenna (LISA). We model the present-day Galactic population of AM CVn stars with He-star donors. Such a population has long expected to exist, though only a couple of candidates are known. We applied the hybrid method of binary population synthesis (BPS) which combines a simulation of the population of immediate precursors of AM CVn stars by a fast BPS code with subsequent tracking of their evolution by a full evolutionary code. The model predicts that the present birthrate of He-donor AM CVn stars in the Galaxy is $4.6\\times 10^{-4}$ per yr and the Galaxy may harbour about 112000 objects of this class which have orbital periods less than 42-43 min. The foreground confusion limit and instrumental noise of LISA prevent the discovery of longer periods systems in gravitational waves. We find that about 500 He-star AM CVns may be detected by LISA with signal-to-noise ratio (S/N)>5 during a 4 yr mission. Within 1 Kpc from the Sun, there may exist up to 130 He-star AM CVns with the periods in the same range, which may serve as verification binaries, if detected in the electromagnetic spectrum. In the Milky Way, there are also about 14800 immediate precursors of AM CVn stars. They are detached systems with a stripped low-mass He-star and a white dwarf companion, out of which about 75 may potentially be observed by LISA during its mission. |\n",
       "|<p style=\"color:green\"> **ERROR** </p>| <p style=\"color:green\">affiliation error: mpia.affiliation_verifications: 'Heidelberg' keyword not found.</p> |"
      ],
      "text/plain": [
       "<IPython.core.display.Markdown object>"
      ]
     },
     "metadata": {},
     "output_type": "display_data"
    },
    {
     "data": {
      "text/markdown": [
       "\n",
       "|||\n",
       "|---:|:---|\n",
       "| [![arXiv](https://img.shields.io/badge/arXiv-arXiv:2210.08491-b31b1b.svg)](https://arxiv.org/abs/arXiv:2210.08491) | **Search for Quasi-Periodical Oscillations in Precursors of Short and Long  Gamma Ray Bursts**  |\n",
       "|| Shuo Xiao, et al. -- incl., <mark>Shuang-Nan Zhang</mark>, <mark>Shao-Lin Xiong</mark>, <mark>Xiao-Bo Li</mark>, <mark>You-Li Tuo</mark>, <mark>He Gao</mark>, <mark>Yan-Qiu Zhang</mark>, <mark>Jia-Cong Liu</mark>, <mark>Cheng-Kui Li</mark>, <mark>Zhen Zhang</mark>, <mark>Wei Xie</mark>, <mark>Li-Ming Song</mark>, <mark>Ti-Pei Li</mark> |\n",
       "|*Appeared on*| *2022-10-18*|\n",
       "|*Comments*| *submitted*|\n",
       "|**Abstract**| The precursors of short and long Gamma Ray Bursts (SGRBs and LGRBs) can serve as probes of their progenitors, as well as shedding light on the physical processes of mergers or core-collapse supernovae. Some models predict the possible existence of Quasi-Periodically Oscillations (QPO) in the precursors of SGRBs. Although many previous studies have performed QPO search in the main emission of SGRBs and LGRBs, so far there was no systematic QPO search in their precursors. In this work, we perform a detailed QPO search in the precursors of SGRBs and LGRBs detected by Fermi/GBM from 2008 to 2019 using the power density spectrum (PDS) in frequency domain and Gaussian processes (GP) in time domain. We do not find any convinced QPO signal with significance above 3 $\\sigma$, possibly due to the low fluxes of precursors. Finally, the PDS continuum properties of both the precursors and main emissions are also studied for the first time, and no significant difference is found in the distributions of the PDS slope for precursors and main emissions in both SGRBs and LGRBs. |\n",
       "|<p style=\"color:green\"> **ERROR** </p>| <p style=\"color:green\">affiliation error: mpia.affiliation_verifications: 'Heidelberg' keyword not found.</p> |"
      ],
      "text/plain": [
       "<IPython.core.display.Markdown object>"
      ]
     },
     "metadata": {},
     "output_type": "display_data"
    },
    {
     "data": {
      "text/markdown": [
       "\n",
       "|||\n",
       "|---:|:---|\n",
       "| [![arXiv](https://img.shields.io/badge/arXiv-arXiv:2210.08618-b31b1b.svg)](https://arxiv.org/abs/arXiv:2210.08618) | **M31N 1926-07c: A Recurrent Nova in M31 with a 2.8 Year Recurrence Time**  |\n",
       "|| Allen W. Shafter, et al. -- incl., <mark>Jingyuan Zhao</mark>, <mark>Mi Zhang</mark> |\n",
       "|*Appeared on*| *2022-10-18*|\n",
       "|*Comments*| *5 pages; 1 figure; 1 table; accepted for publication in Research Notes of the AAS*|\n",
       "|**Abstract**| The M31 recurrent nova M31N 1926-07c has had five recorded eruptions. Well-sampled light curves of the two most recent outbursts, in January of 2020 (M31N 2020-01b) and September 2022 (M31N 2022-09a), are presented showing that the photometric evolution of the two events were quite similar, with peak magnitudes of $R=17.2\\pm0.1$ and $R=17.1\\pm0.1$, and $t_2$ times of $9.7\\pm0.9$ and $8.1\\pm0.5$ days for the 2020 and 2022 eruptions, respectively. After considering the dates of the four most recent eruptions (where the cycle count is believed to be known), a mean recurrence interval of $\\langle P_\\mathrm{rec}\\rangle=2.78\\pm0.03$ years is found, establishing that M31N 1926-07c has one of the shortest recurrence times known. |\n",
       "|<p style=\"color:green\"> **ERROR** </p>| <p style=\"color:green\">affiliation error: mpia.affiliation_verifications: 'Heidelberg' keyword not found.</p> |"
      ],
      "text/plain": [
       "<IPython.core.display.Markdown object>"
      ]
     },
     "metadata": {},
     "output_type": "display_data"
    },
    {
     "data": {
      "text/markdown": [
       "\n",
       "|||\n",
       "|---:|:---|\n",
       "| [![arXiv](https://img.shields.io/badge/arXiv-arXiv:2210.08658-b31b1b.svg)](https://arxiv.org/abs/arXiv:2210.08658) | **First Look at z > 1 Bars in the Rest-Frame Near-Infrared with JWST Early  CEERS Imaging**  |\n",
       "|| <mark>Yuchen Guo</mark>, et al. -- incl., <mark>Henry C. Ferguson</mark> |\n",
       "|*Appeared on*| *2022-10-18*|\n",
       "|*Comments*| *17 pages, 5 figures, submitted to ApJL. Comments welcome*|\n",
       "|**Abstract**| Stellar bars are key drivers of secular evolution in galaxies and can be effectively studied using rest-frame near-infrared (NIR) images, which trace the underlying stellar mass and are less impacted by dust and star formation than rest-frame UV or optical images. We leverage the power of James Webb Space Telescope (JWST) CEERS NIRCam images to present the first quantitative identification and characterization of stellar bars at $z>1$ based on rest-frame NIR F444W images of high resolution ($\\sim$1.3 kpc at $z\\sim$1-3). We identify stellar bars in these images using quantitative criteria based on ellipse fits. For this pilot study, we present six examples of robustly identified bars at $z>1$ with spectroscopic redshifts, including the two highest redshift bars at $z\\sim$2.136 and 2.312 quantitatively identified and characterized to date. The stellar bars at $z\\sim$1.1-2.3 presented in our study have projected semi-major axes of 2.9-4.3 kpc and projected ellipticities of 0.41-0.53 in the rest-frame NIR. The barred host galaxies have stellar masses $\\sim 1 \\times 10^{10}$ to $2 \\times 10^{11}$ $M_{\\odot}$, star formation rates of $\\sim$ 21-295 $M_{\\odot}$ yr$^{-1}$, and several have potential nearby companions. Our finding of bars at $z\\sim$1.1-2.3 demonstrates the early onset of such instabilities and supports simulations where bars form early in massive dynamically cold disks. It also suggests that if these bars at lookback times of 8-10 Gyr survive out to present epochs, bar-driven secular processes may operate over a long time and have a significant impact on some galaxies by $z \\sim$0. |\n",
       "|<p style=\"color:green\"> **ERROR** </p>| <p style=\"color:green\">affiliation error: mpia.affiliation_verifications: 'Heidelberg' keyword not found.</p> |"
      ],
      "text/plain": [
       "<IPython.core.display.Markdown object>"
      ]
     },
     "metadata": {},
     "output_type": "display_data"
    },
    {
     "data": {
      "text/markdown": [
       "\n",
       "|||\n",
       "|---:|:---|\n",
       "| [![arXiv](https://img.shields.io/badge/arXiv-arXiv:2210.08699-b31b1b.svg)](https://arxiv.org/abs/arXiv:2210.08699) | **CO($J$=1-0) mapping survey of 64 galaxies in the Fornax cluster with the  ALMA Morita array**  |\n",
       "|| Kana Morokuma-Matsui, et al. -- incl., <mark>Bumhyun Lee</mark>, <mark>Minju M. Lee</mark>, <mark>Masaki Ueda</mark> |\n",
       "|*Appeared on*| *2022-10-18*|\n",
       "|*Comments*| *53 pages, 41 figures, accepted for publication in ApJS*|\n",
       "|**Abstract**| We conduct a $^{12}$C$^{16}$O($J$=1-0) (hereafter CO) mapping survey of 64 galaxies in the Fornax cluster using the ALMA Morita array in cycle 5. CO emission is detected from 23 out of the 64 galaxies. Our sample includes dwarf, spiral and elliptical galaxies with stellar masses of $M_{\\rm star}\\sim10^{6.3-11.6}$~M$_\\odot$. The achieved beam size and sensitivity are $15''\\times8''$ and $\\sim12$~mJy~beam$^{-1}$ at the velocity resolution of $\\sim10$~km~s$^{-1}$, respectively. We study the cold-gas (molecular- and atomic-gas) properties of 38 subsamples with $M_{\\rm star}>10^9$~M$_\\odot$ combined with literature HI data. We find that: (1) the low star-formation (SF) activity in the Fornax galaxies is caused by the decrease in the cold-gas mass fraction with respect to stellar mass (hereafter, gas fraction) rather than the decrease of the SF efficiency from the cold gas; (2) the atomic-gas fraction is more heavily reduced than the molecular-gas fraction of such galaxies with low SF activity. A comparison between the cold-gas properties of the Fornax galaxies and their environmental properties suggests that the atomic gas is stripped tidally and by the ram pressure, which leads to the molecular gas depletion with an aid of the strangulation and consequently SF quenching. Pre-processes in the group environment would also play a role in reducing cold-gas reservoirs in some Fornax galaxies. |\n",
       "|<p style=\"color:green\"> **ERROR** </p>| <p style=\"color:green\">affiliation error: mpia.affiliation_verifications: 'Heidelberg' keyword not found.</p> |"
      ],
      "text/plain": [
       "<IPython.core.display.Markdown object>"
      ]
     },
     "metadata": {},
     "output_type": "display_data"
    },
    {
     "data": {
      "text/markdown": [
       "\n",
       "|||\n",
       "|---:|:---|\n",
       "| [![arXiv](https://img.shields.io/badge/arXiv-arXiv:2210.08791-b31b1b.svg)](https://arxiv.org/abs/arXiv:2210.08791) | **Broadband X-ray Spectral Analysis of the Dual AGN System Mrk 739**  |\n",
       "|| Koki Inaba, et al. -- incl., <mark>Yoshihiro Ueda</mark> |\n",
       "|*Appeared on*| *2022-10-18*|\n",
       "|*Comments*| *14 pages, 4 figures, 3 tables, accepted for publication in ApJ*|\n",
       "|**Abstract**| We present the result of a broadband (0.5-70 keV) X-ray spectral analysis of the late-merger galaxy Mrk 739, which contains a dual active galactic nucleus (AGN), Mrk 739E and Mrk 739W, with a separation of $\\sim$3.4 kpc. The spectra obtained with NuSTAR, Chandra, XMM-Newton and Swift/BAT are simultaneously analyzed by separating the contributions from the two AGNs and extended emission with the Chandra data. To evaluate the reflection components from the AGN tori, we consider two models, a phenomenological one (pexrav and zgauss) and a more physically motivated one (XCLUMPY; Tanimoto et al. 2019). On the basis of the results with XCLUMPY, we find that the AGNs in Mrk 739E and Mrk 739W have intrinsic 2-10 keV luminosities of $1.0 \\times 10^{43}$ and $7.5 \\times 10^{41}\\ \\rm{erg}\\ \\rm{s}^{-1}$ absorbed by hydrogen column densities of $N_{\\rm{H}} < 6.5 \\times 10^{19}\\ \\rm{cm}^{-2}$ and $N_{\\rm{H}} = 6.9^{+3.2}_{-1.7} \\times 10^{21}\\ \\rm{cm}^{-2}$, respectively. The torus covering fraction of the material with $N_{\\rm{H}} > 10^{22} \\rm{cm}^{-2}$ in Mrk 739E, $C_{\\rm{T}}^{(22)} < 0.50$ at a 90% confidence limit, is found to be smaller than those found for late-merger ultra/luminous infrared galaxies, $C_{\\rm{T}}^{(22)} = 0.71\\pm0.16$ (mean and standard deviation; Yamada et al. 2021). Considering the small star formation rate of Mrk 739E, we suggest that the gas-to-mass ratio of the host galaxy is an important parameter to determine the circumnuclear environment of an AGN in late merger. |\n",
       "|<p style=\"color:green\"> **ERROR** </p>| <p style=\"color:green\">affiliation error: mpia.affiliation_verifications: 'Heidelberg' keyword not found.</p> |"
      ],
      "text/plain": [
       "<IPython.core.display.Markdown object>"
      ]
     },
     "metadata": {},
     "output_type": "display_data"
    },
    {
     "data": {
      "text/markdown": [
       "\n",
       "|||\n",
       "|---:|:---|\n",
       "| [![arXiv](https://img.shields.io/badge/arXiv-arXiv:2210.08880-b31b1b.svg)](https://arxiv.org/abs/arXiv:2210.08880) | **Titanium abundances in late-type stars I. 1D non-LTE modelling in  benchmark dwarfs and giants**  |\n",
       "|| <mark>J. W. E. Mallinson</mark>, et al. -- incl., <mark>K. Lind</mark> |\n",
       "|*Appeared on*| *2022-10-18*|\n",
       "|*Comments*| *9 pages plus appendix, 6 figures; accepted for publication in Astronomy & Astrophysics*|\n",
       "|**Abstract**| The titanium abundances of late-type stars are important tracers of Galactic formation history. However, abundances inferred from Ti I and Ti II lines can be in stark disagreement in very metal-poor giants. Departures from local thermodynamic equilibrium (LTE) have a large impact on the minority neutral species and thus influences the ionisation imbalance, but satisfactory non-LTE modelling for both dwarfs and giants has not been achieved in previous literature. The reliability of titanium abundances is reassessed in benchmark dwarfs and giants using a new non-LTE model and one-dimensional (1D) model atmospheres. A comprehensive model atom was compiled with a more extended level structure and newly published data for inelastic collisions between Ti I and neutral hydrogen. In 1D LTE, the Ti I and Ti II lines agree to within $0.06$ dex for the Sun, Arcturus, and the very metal-poor stars HD84937 and HD140283. For the very metal-poor giant HD122563, the Ti I lines give an abundance that is $0.47$ dex lower than that from Ti II. The 1D non-LTE corrections can reach $+0.4$ dex for individual Ti I lines and $+0.1$ dex for individual Ti II lines, and reduce the overall ionisation imbalance to $-0.17$ dex for HD122563. However, it also increases the imbalance for the very metal-poor dwarf and sub-giant to around $0.2$ dex. Using 1D non-LTE reduces the ionisation imbalance in very metal-poor giants but breaks the balance of other very metal-poor stars, consistent with the conclusions in earlier literature. To make further progress, consistent 3D non-LTE models are needed. |\n",
       "|<p style=\"color:green\"> **ERROR** </p>| <p style=\"color:green\">affiliation error: mpia.affiliation_verifications: 'Heidelberg' keyword not found.</p> |"
      ],
      "text/plain": [
       "<IPython.core.display.Markdown object>"
      ]
     },
     "metadata": {},
     "output_type": "display_data"
    },
    {
     "data": {
      "text/markdown": [
       "\n",
       "|||\n",
       "|---:|:---|\n",
       "| [![arXiv](https://img.shields.io/badge/arXiv-arXiv:2210.08899-b31b1b.svg)](https://arxiv.org/abs/arXiv:2210.08899) | **Plasma composition measurements in an active region from Solar  Orbiter/SPICE and Hinode/EIS**  |\n",
       "|| David H. Brooks, et al. -- incl., <mark>Daniel Müller</mark>, <mark>Sarah Leeks</mark>, <mark>Joseph Plowman</mark> |\n",
       "|*Appeared on*| *2022-10-18*|\n",
       "|*Comments*| *To be published in The Astrophysical Journal*|\n",
       "|**Abstract**| A key goal of the Solar Orbiter mission is to connect elemental abundance measurements of the solar wind enveloping the spacecraft with EUV spectroscopic observations of their solar sources, but this is not an easy exercise. Observations from previous missions have revealed a highly complex picture of spatial and temporal variations of elemental abundances in the solar corona. We have used coordinated observations from Hinode and Solar Orbiter to attempt new abundance measurements with the SPICE (Spectral Imaging of the Coronal Environment) instrument, and benchmark them against standard analyses from EIS (EUV Imaging Spectrometer). We use observations of several solar features in AR 12781 taken from an Earth-facing view by EIS on 2020 November 10, and SPICE data obtained one week later on 2020 November 17; when the AR had rotated into the Solar Orbiter field-of-view. We identify a range of spectral lines that are useful for determining the transition region and low coronal temperature structure with SPICE, and demonstrate that SPICE measurements are able to differentiate between photospheric and coronal Mg/Ne abundances. The combination of SPICE and EIS is able to establish the atmospheric composition structure of a fan loop/outflow area at the active region edge. We also discuss the problem of resolving the degree of elemental fractionation with SPICE, which is more challenging without further constraints on the temperature structure, and comment on what that can tell us about the sources of the solar wind and solar energetic particles. |\n",
       "|<p style=\"color:green\"> **ERROR** </p>| <p style=\"color:green\">affiliation error: mpia.affiliation_verifications: 'Heidelberg' keyword not found.</p> |"
      ],
      "text/plain": [
       "<IPython.core.display.Markdown object>"
      ]
     },
     "metadata": {},
     "output_type": "display_data"
    },
    {
     "data": {
      "text/markdown": [
       "\n",
       "|||\n",
       "|---:|:---|\n",
       "| [![arXiv](https://img.shields.io/badge/arXiv-arXiv:2210.08912-b31b1b.svg)](https://arxiv.org/abs/arXiv:2210.08912) | **Characterization of the HD 108236 system with CHEOPS and TESS.  Confirmation of a fifth transiting planet**  |\n",
       "|| <mark>S. Hoyer</mark>, et al. -- incl., <mark>M. B. Davies</mark>, <mark>M. Güdel</mark>, <mark>K. Heng</mark>, <mark>G. Olofsson</mark> |\n",
       "|*Appeared on*| *2022-10-18*|\n",
       "|*Comments*| *18 Figures and 25 pages. Accepted for publication in A&A*|\n",
       "|**Abstract**| The HD108236 system was first announced with the detection of four small planets based on TESS data. Shortly after, the transit of an additional planet with a period of 29.54d was serendipitously detected by CHEOPS. In this way, HD108236 (V=9.2) became one of the brightest stars known to host five small transiting planets (R$_p$<3R$_{\\oplus}$). We characterize the planetary system by using all the data available from CHEOPS and TESS space missions. We use the flexible pointing capabilities of CHEOPS to follow up the transits of all the planets in the system, including the fifth transiting body. After updating the host star parameters by using the results from Gaia eDR3, we analyzed 16 and 43 transits observed by CHEOPS and TESS, respectively, to derive the planets physical and orbital parameters. We carried out a timing analysis of the transits of each of the planets of HD108236 to search for the presence of transit timing variations. We derived improved values for the radius and mass of the host star (R$_{\\star}$=0.876$\\pm$0.007 R$_{\\odot}$ and M$_{\\star}$=0.867$_{-0.046}^{+0.047}$ M$_{\\odot}$). We confirm the presence of the fifth transiting planet f in a 29.54d orbit. Thus, the system consists of five planets of R$_b$=1.587$\\pm$0.028, R$_c$=2.122$\\pm$0.025, R$_d$=2.629$\\pm$0.031, R$_e$=3.008$\\pm$0.032, and R$_f$=1.89$\\pm$0.04 [R$_{\\oplus}$]. We refine the transit ephemeris for each planet and find no significant transit timing variations for planets c, d, and e. For planets b and f, instead, we measure significant deviations on their transit times (up to 22 and 28 min, respectively) with a non-negligible dispersion of 9.6 and 12.6 min in their time residuals. We confirm the presence of planet f and find no significant evidence for a potential transiting planet in a 10.9d orbital period, as previously suggested. Full abstract in the PDF file. |\n",
       "|<p style=\"color:green\"> **ERROR** </p>| <p style=\"color:green\">affiliation error: mpia.affiliation_verifications: 'Heidelberg' keyword not found.</p> |"
      ],
      "text/plain": [
       "<IPython.core.display.Markdown object>"
      ]
     },
     "metadata": {},
     "output_type": "display_data"
    },
    {
     "data": {
      "text/markdown": [
       "\n",
       "|||\n",
       "|---:|:---|\n",
       "| [![arXiv](https://img.shields.io/badge/arXiv-arXiv:2210.08915-b31b1b.svg)](https://arxiv.org/abs/arXiv:2210.08915) | **Searching for Outbursts in the Ground-Based Photometry of  67P/Churyumov-Gerasimenko**  |\n",
       "|| Daniel Gardener, Colin Snodgrass, <mark>Nicolas Ligier</mark> |\n",
       "|*Appeared on*| *2022-10-18*|\n",
       "|*Comments*| *13 pages, 8 figures, accepted for publication in MNRAS*|\n",
       "|**Abstract**| 67P/Churyumov-Gerasimenko is a Jupiter-family comet that was the target of the Rosetta mission, the first mission to successfully orbit and land a probe on a comet. This mission was accompanied by a large ground-based observing campaign. We have developed a pipeline to calibrate and measure photometry of comet 67P during its 2016 perihelion passage, making use of all visible wavelength broadband imaging collected across a wide range of facilities. The pipeline calibrates the brightness of the comet to a common photometric system (Pan-STARRS 1) using background stars within the field allowing for compilation and comparison of multiple data sets. Results follow the predictions based on previous apparitions: 67P shows no obvious change in activity levels from orbit-to-orbit and coma colours remain constant throughout the apparition. We detected an outburst on 2015 August 22 of $\\sim$0.14 mag. The brightness and estimated mass of this outburst puts it in line with the outbursts directly observed on the nucleus by Rosetta. An in situ outburst was observed at the same time as the one seen from the ground, however linking these two events directly remains challenging. |\n",
       "|<p style=\"color:green\"> **ERROR** </p>| <p style=\"color:green\">affiliation error: mpia.affiliation_verifications: 'Heidelberg' keyword not found.</p> |"
      ],
      "text/plain": [
       "<IPython.core.display.Markdown object>"
      ]
     },
     "metadata": {},
     "output_type": "display_data"
    },
    {
     "data": {
      "text/markdown": [
       "\n",
       "|||\n",
       "|---:|:---|\n",
       "| [![arXiv](https://img.shields.io/badge/arXiv-arXiv:2210.09077-b31b1b.svg)](https://arxiv.org/abs/arXiv:2210.09077) | **Constraining the equation of state of hybrid stars using recent  information from multidisciplinary physics**  |\n",
       "|| Swarnim Shirke, <mark>Suprovo Ghosh</mark>, Debarati Chatterjee |\n",
       "|*Appeared on*| *2022-10-18*|\n",
       "|*Comments*| *16 pages, 11 figures, 2 tables*|\n",
       "|**Abstract**| At the ultra-high densities existing in the core of neutron stars, it is expected that a phase transition from baryonic to deconfined quark matter may occur. Such a phase transition would affect the underlying equation of state (EoS) as well as the observable astrophysical properties of neutron stars. Comparison of EoS model predictions with astronomical data from multi-messenger signals then provides us an opportunity to probe the behaviour of dense matter. In this work, we restrict the allowed parameter space of EoS models in neutron stars for both nucleonic (relativistic mean field model) and quark matter (bag model) sectors by imposing state-of-the-art constraints from nuclear calculations, multi-messenger astrophysical data and perturbative QCD (pQCD). We systematically investigate the effect of each constraint on the parameter space of uncertainties using a cut-off filter scheme, as well as the correlations among the parameters and with neutron star astrophysical observables. Using the constraints, we obtain limits for maximum NS mass, maximum central density, as well as for NS radii and tidal deformability. Although pQCD constraints are only effective at very high densities, they significantly reduce the parameter space of the quark model. We also conclude that astrophysical data supports high values of the bag parameter B and disfavors the existence of a pure quark matter core in hybrid stars. |\n",
       "|<p style=\"color:green\"> **ERROR** </p>| <p style=\"color:green\">affiliation error: mpia.affiliation_verifications: 'Heidelberg' keyword not found.</p> |"
      ],
      "text/plain": [
       "<IPython.core.display.Markdown object>"
      ]
     },
     "metadata": {},
     "output_type": "display_data"
    },
    {
     "data": {
      "text/markdown": [
       "\n",
       "|||\n",
       "|---:|:---|\n",
       "| [![arXiv](https://img.shields.io/badge/arXiv-arXiv:2210.09096-b31b1b.svg)](https://arxiv.org/abs/arXiv:2210.09096) | **CHARA/SPICA: a 6-telescope visible instrument for the CHARA Array**  |\n",
       "|| Denis Mourard, et al. -- incl., <mark>Roxanne Ligi</mark> |\n",
       "|*Appeared on*| *2022-10-18*|\n",
       "|*Comments*| **|\n",
       "|**Abstract**| With a possible angular resolution down to 0.1-0.2 millisecond of arc using the 330 m baselines and the access to the 600-900 nm spectral domain, the CHARA Array is ideally configured for focusing on precise and accurate fundamental parameters of stars. CHARA/SPICA (Stellar Parameters and Images with a Cophased Array) aims at performing a large survey of stars all over the Hertzsprung-Russell diagram. This survey will also study the effects of the different kinds of variability and surface structure on the reliability of the extracted fundamental parameters. New surface-brightness-colour relations will be extracted from this survey, for general purposes on distance determination and the characterization of faint stars. SPICA is made of a visible 6T fibered instrument and of a near-infrared fringe sensor. In this paper, we detail the science program and the main characteristics of SPICA-VIS. We present finally the initial performance obtained during the commissioning. |\n",
       "|<p style=\"color:green\"> **ERROR** </p>| <p style=\"color:green\">affiliation error: mpia.affiliation_verifications: 'Heidelberg' keyword not found.</p> |"
      ],
      "text/plain": [
       "<IPython.core.display.Markdown object>"
      ]
     },
     "metadata": {},
     "output_type": "display_data"
    },
    {
     "data": {
      "text/markdown": [
       "\n",
       "|||\n",
       "|---:|:---|\n",
       "| [![arXiv](https://img.shields.io/badge/arXiv-arXiv:2210.09109-b31b1b.svg)](https://arxiv.org/abs/arXiv:2210.09109) | **A Catalogue of Solar-Like Oscillators Observed by TESS in 120-second and  20-second Cadence**  |\n",
       "|| Emily Hatt, et al. -- incl., <mark>Guy R. Davies</mark>, <mark>Daniel Huber</mark>, <mark>Yaguang Li</mark> |\n",
       "|*Appeared on*| *2022-10-18*|\n",
       "|*Comments*| *Accepted at Astronomy & Astrophysics, 11 pages, 11 figures, online material to be made available*|\n",
       "|**Abstract**| The Transiting Exoplanet Survey Satellite (TESS) mission has provided photometric light curves for stars across nearly the entire sky. This allows for the application of asteroseismology to a pool of potential solar-like oscillators that is unprecedented in size. We aim to produce a catalogue of solar-like oscillators observed by TESS in the 120-second and 20-second cadence modes. The catalogue is intended to highlight stars oscillating at frequencies above the TESS 30-minute cadence Nyquist frequency with the purpose of encompassing the main sequence and subgiant evolutionary phases. We aim to provide estimates for the global asteroseismic parameters $\\nu_{\\mathrm{max}}$ and $\\Delta\\nu$. We apply a new probabilistic detection algorithm to the 120-second and 20-second light curves of over 250,000 stars. This algorithm flags targets that show characteristic signatures of solar-like oscillations. We manually vet the resulting list of targets to confirm the presence of solar-like oscillations. Using the probability densities computed by the algorithm, we measure the global asteroseismic parameters $\\nu_{\\mathrm{max}}$ and $\\Delta\\nu$. We produce a catalogue of 4,177 solar-like oscillators, reporting $\\Delta\\nu$ and $\\nu_{\\mathrm{max}}$ for $98\\%$ of the total star count. The asteroseismic data reveals vast coverage of the HR diagram, populating the red giant branch, the subgiant regime and extending toward the main sequence. A crossmatch with external catalogs shows that 25 of the detected solar-like oscillators are a component of a spectroscopic binary, and 28 are confirmed planet host stars. These results provide the potential for precise, independent asteroseismic constraints on these and any additional TESS targets of interest. |\n",
       "|<p style=\"color:green\"> **ERROR** </p>| <p style=\"color:green\">affiliation error: mpia.affiliation_verifications: 'Heidelberg' keyword not found.</p> |"
      ],
      "text/plain": [
       "<IPython.core.display.Markdown object>"
      ]
     },
     "metadata": {},
     "output_type": "display_data"
    },
    {
     "data": {
      "text/markdown": [
       "\n",
       "|||\n",
       "|---:|:---|\n",
       "| [![arXiv](https://img.shields.io/badge/arXiv-arXiv:2210.09116-b31b1b.svg)](https://arxiv.org/abs/arXiv:2210.09116) | **Planetary nebulae with Wolf-Rayet-type central stars -- IV. NGC 1501 and  its mixing layer**  |\n",
       "|| G. Rubio, et al. -- incl., <mark>G. Ramos-Larios</mark> |\n",
       "|*Appeared on*| *2022-10-18*|\n",
       "|*Comments*| *To appear in MNRAS; 14 pages, 10 figures, 6 tables*|\n",
       "|**Abstract**| Theory predicts that the temperature of the X-ray-emitting gas ($\\sim$10$^{6}$ K) detected from planetary nebulae (PNe) is a consequence of mixing or thermal conduction when in contact with the ionized outer rim ($\\sim$10$^{4}$ K). Gas at intermediate temperatures ($\\sim$10$^{5}$ K) can be used to study the physics of the production of X-ray-emitting gas, via C IV, N V and O VI ions. Here we model the stellar atmosphere of the CSPN of NGC 1501 to demonstrate that even this hot H-deficient [WO4]-type star cannot produce these emission lines by photoionization. We use the detection of the C IV lines to assess the physical properties of the mixing region in this PNe in comparison with its X-ray-emitting gas, rendering NGC 1501 only the second PNe with such characterization. We extend our predictions to the hottest [WO1] and cooler [WC5] spectral types and demonstrate that most energetic photons are absorbed in the dense winds of [WR] CSPN and highly ionized species can be used to study the physics behind the production of hot bubbles in PNe. We found that the UV observations of NGC 2452, NGC 6751 and NGC 6905 are consistent with the presence mixing layers and hot bubbles, providing excellent candidates for future X-ray observations. |\n",
       "|<p style=\"color:green\"> **ERROR** </p>| <p style=\"color:green\">affiliation error: mpia.affiliation_verifications: 'Heidelberg' keyword not found.</p> |"
      ],
      "text/plain": [
       "<IPython.core.display.Markdown object>"
      ]
     },
     "metadata": {},
     "output_type": "display_data"
    },
    {
     "data": {
      "text/markdown": [
       "\n",
       "|||\n",
       "|---:|:---|\n",
       "| [![arXiv](https://img.shields.io/badge/arXiv-arXiv:2210.09129-b31b1b.svg)](https://arxiv.org/abs/arXiv:2210.09129) | **A Statistical Comparison of EUV Brightenings Observed by SO/EUI with  Simulated Brightenings in Non-potential Simulations**  |\n",
       "|| Krzysztof Barczynski, et al. -- incl., <mark>Karen A. Meyer</mark> |\n",
       "|*Appeared on*| *2022-10-18*|\n",
       "|*Comments*| *23 pages, 8 figures; Paper accepted to publication in Solar Physics*|\n",
       "|**Abstract**| The High Resolution Imager (HRI_EUV) telescope of the Extreme Ultraviolet Imager (EUI) instrument onboard Solar Orbiter has observed EUV brightenings, so-called campfires, as fine-scale structures at coronal temperatures. The goal of this paper is to compare the basic geometrical (size, orientation) and physical (intensity, lifetime) properties of the EUV brightenings with regions of energy dissipation in a non-potential coronal magnetic field simulation. In the simulation, HMI line-of-sight magnetograms are used as input to drive the evolution of solar coronal magnetic fields and energy dissipation. We applied an automatic EUV brightening detection method to EUV images obtained on 30 May 2020 by the HRI_EUV telescope. We applied the same detection method to the simulated energy dissipation maps from the non-potential simulation to detect simulated brightenings. We detected EUV brightenings with density of 1.41x10^{-3} brightenings/Mm^2 in the EUI observations and simulated brightenings between 2.76x10^{-2} - 4.14x10^{-2} brightenings/Mm^2 in the simulation, for the same time range. Although significantly more brightenings were produced in the simulations, the results show similar distributions of the key geometrical and physical properties of the observed and simulated brightenings. We conclude that the non-potential simulation can successfully reproduce statistically the characteristic properties of the EUV brightenings (typically with more than 85% similarity); only the duration of the events is significantly different between observations and simulation. Further investigations based on high-cadence and high-resolution magnetograms from Solar Orbiter are under consideration to improve the agreement between observation and simulation. |\n",
       "|<p style=\"color:green\"> **ERROR** </p>| <p style=\"color:green\">affiliation error: mpia.affiliation_verifications: 'Heidelberg' keyword not found.</p> |"
      ],
      "text/plain": [
       "<IPython.core.display.Markdown object>"
      ]
     },
     "metadata": {},
     "output_type": "display_data"
    },
    {
     "data": {
      "text/markdown": [
       "\n",
       "|||\n",
       "|---:|:---|\n",
       "| [![arXiv](https://img.shields.io/badge/arXiv-arXiv:2210.09172-b31b1b.svg)](https://arxiv.org/abs/arXiv:2210.09172) | **The second set of pulsar discoveries by CHIME/FRB/Pulsar: 14 Rotating  Radio Transients and 7 pulsars**  |\n",
       "|| Fengqiu Adam Dong, et al. -- incl., <mark>Bradley W. Meyers</mark> |\n",
       "|*Appeared on*| *2022-10-18*|\n",
       "|*Comments*| **|\n",
       "|**Abstract**| The Canadian Hydrogen Mapping Experiment (CHIME) is a radio telescope located in British Columbia, Canada. The large field of view (FOV) of $\\sim$ 200 square degrees has enabled the CHIME/FRB instrument to produce the largest FRB catalog to date. The large FOV also allows CHIME/FRB to be an exceptional pulsar and Rotating Radio Transient (RRAT) finding machine, despite saving only the metadata information of incoming Galactic events. We have developed a pipeline to search for pulsars/RRATs using DBSCAN, a clustering algorithm. Output clusters are then inspected by a human for pulsar/RRAT candidates and follow-up observations are scheduled with the more sensitive CHIME/Pulsar instrument. The CHIME/Pulsar instrument is capable of a near-daily search mode observation cadence. We have thus developed the CHIME/Pulsar Single Pulse Pipeline to automate the processing of CHIME/Pulsar search mode data. We report the discovery of 21 new Galactic sources, with 14 RRATs, 6 regular slow pulsars and 1 binary system. Owing to CHIME/Pulsar's daily observations we have obtained timing solutions for 8 of the 14 RRATs along with all the regular pulsars. This demonstrates CHIME/Pulsar's ability at finding timing solutions for transient sources. |\n",
       "|<p style=\"color:green\"> **ERROR** </p>| <p style=\"color:green\">affiliation error: mpia.affiliation_verifications: 'Heidelberg' keyword not found.</p> |"
      ],
      "text/plain": [
       "<IPython.core.display.Markdown object>"
      ]
     },
     "metadata": {},
     "output_type": "display_data"
    },
    {
     "data": {
      "text/markdown": [
       "\n",
       "|||\n",
       "|---:|:---|\n",
       "| [![arXiv](https://img.shields.io/badge/arXiv-arXiv:2210.09182-b31b1b.svg)](https://arxiv.org/abs/arXiv:2210.09182) | **Weak lensing in the blue: a counter-intuitive strategy for stratospheric  observations**  |\n",
       "|| Mohamed M. Shaaban, et al. -- incl., <mark>Anthony M. Brown</mark>, <mark>Michael Henderson</mark>, <mark>Lun Li</mark> |\n",
       "|*Appeared on*| *2022-10-18*|\n",
       "|*Comments*| **|\n",
       "|**Abstract**| The statistical power of weak lensing measurements is principally driven by the number of high redshift galaxies whose shapes are resolved. Conventional wisdom and physical intuition suggest this is optimised by deep imaging at long (red or near IR) wavelengths, to avoid losing redshifted Balmer break and Lyman break galaxies. We use the synthetic Emission Line EL-COSMOS catalogue to simulate lensing observations using different filters, from various altitudes. Here were predict the number of exposures to achieve a target z > 0.3 source density, using off-the-shelf and custom filters. Ground-based observations are easily better at red wavelengths, as (more narrowly) are space-based observations. However, we find that SuperBIT, a diffraction-limited observatory operating in the stratosphere, should instead perform its lensing-quality observations at blue wavelengths. |\n",
       "|<p style=\"color:green\"> **ERROR** </p>| <p style=\"color:green\">affiliation error: mpia.affiliation_verifications: 'Heidelberg' keyword not found.</p> |"
      ],
      "text/plain": [
       "<IPython.core.display.Markdown object>"
      ]
     },
     "metadata": {},
     "output_type": "display_data"
    },
    {
     "data": {
      "text/markdown": [
       "\n",
       "|||\n",
       "|---:|:---|\n",
       "| [![arXiv](https://img.shields.io/badge/arXiv-arXiv:2210.09242-b31b1b.svg)](https://arxiv.org/abs/arXiv:2210.09242) | **Infrared variability of young solar analogs in the Lagoon Nebula**  |\n",
       "|| C. Ordenes-Huanca, et al. -- incl., <mark>R. Contreras Ramos</mark>, <mark>G. Lara</mark> |\n",
       "|*Appeared on*| *2022-10-18*|\n",
       "|*Comments*| *15 pages, 18 figures, accepted for publication in MNRAS*|\n",
       "|**Abstract**| T Tauri stars are low-mass pre-main sequence stars that are intrinsically variable. Due to the intense magnetic fields they possess, they develop dark spots on their surface that, because of rotation, introduce a periodic variation of brightness.In addition, the presence of surrounding disks could generate flux variations by variable extinction or accretion. Both can lead to a brightness decrease or increase, respectively. Here, we have compiled a catalog of light curves for 379 T Tauri stars in the Lagoon Nebula (M8) region, using VVVX survey data in the Ks-band. All these stars were already classified as pre-MS stars based on other indicators. The data presented here are spread over a period of about eight years, which gives us a unique follow-up time for these sources at this wavelength. The light curves were classified according to their degree of periodicity and asymmetry, to constrain the physical processes responsible for their variation. Periods were compared with the ones found in literature, on a much shorter baseline. This allowed us to prove that for 126 stars, the magnetically active regions remain stable for several years. Besides, our near-IR data were compared with the optical Kepler/K2 light curves, when available, giving us a better understanding of the mechanisms responsible for the brightness variations observed and how they manifest at different bands. We found that the periodicity in both bands is in fairly good agreement, but the asymmetry will depend on the amplitude of the bursts or dips events and the observation cadence. |\n",
       "|<p style=\"color:green\"> **ERROR** </p>| <p style=\"color:green\">affiliation error: mpia.affiliation_verifications: 'Heidelberg' keyword not found.</p> |"
      ],
      "text/plain": [
       "<IPython.core.display.Markdown object>"
      ]
     },
     "metadata": {},
     "output_type": "display_data"
    },
    {
     "data": {
      "text/markdown": [
       "\n",
       "|||\n",
       "|---:|:---|\n",
       "| [![arXiv](https://img.shields.io/badge/arXiv-arXiv:2210.09283-b31b1b.svg)](https://arxiv.org/abs/arXiv:2210.09283) | **TOI-1136 is a Young, Coplanar, Aligned Planetary System in a Pristine  Resonant Chain**  |\n",
       "|| Fei Dai, et al. -- incl., <mark>Jack J. Lissauer</mark>, <mark>Heather A. Knutson</mark>, <mark>Daniel Huber</mark>, <mark>Joseph M. Akana Murphy</mark> |\n",
       "|*Appeared on*| *2022-10-18*|\n",
       "|*Comments*| *48 pages, 23 figures, 8 tables. Submitted to AAS journals. Comments welcome!*|\n",
       "|**Abstract**| Convergent disk migration has long been suspected to be responsible for forming planetary systems with a chain of mean-motion resonances (MMR). Dynamical evolution over time could disrupt the delicate resonant configuration. We present TOI-1136, a 700-Myr-old G star hosting at least 6 transiting planets between $\\sim$2 and 5 $R_\\oplus$. The orbital period ratios deviate from exact commensurability by only $10^{-4}$, smaller than the $\\sim$\\,$10^{-2}$ deviations seen in typical Kepler near-resonant systems. A transit-timing analysis measured the masses of the planets (3-8$M_\\oplus$) and demonstrated that the planets in TOI-1136 are in true resonances with librating resonant angles. Based on a Rossiter-McLaughlin measurement of planet d, the star's rotation appears to be aligned with the planetary orbital planes. The well-aligned planetary system and the lack of detected binary companion together suggest that TOI-1136's resonant chain formed in an isolated, quiescent disk with no stellar fly-by, disk warp, or significant axial asymmetry. With period ratios near 3:2, 2:1, 3:2, 7:5, and 3:2, TOI-1136 is the first known resonant chain involving a second-order MMR (7:5) between two first-order MMR. The formation of the delicate 7:5 resonance places strong constraints on the system's migration history. Short-scale (starting from $\\sim$0.1 AU) Type-I migration with an inner disk edge is most consistent with the formation of TOI-1136. A low disk surface density ($\\Sigma_{\\rm 1AU}\\lesssim10^3$g~cm$^{-2}$; lower than the minimum-mass solar nebula) and the resultant slower migration rate likely facilitated the formation of the 7:5 second-order MMR. TOI-1136's deep resonance suggests that it has not undergone much resonant repulsion during its 700-Myr lifetime. One can rule out rapid tidal dissipation within a rocky planet b or obliquity tides within the largest planets d and f. |\n",
       "|<p style=\"color:green\"> **ERROR** </p>| <p style=\"color:green\">affiliation error: mpia.affiliation_verifications: 'Heidelberg' keyword not found.</p> |"
      ],
      "text/plain": [
       "<IPython.core.display.Markdown object>"
      ]
     },
     "metadata": {},
     "output_type": "display_data"
    },
    {
     "data": {
      "text/markdown": [
       "\n",
       "|||\n",
       "|---:|:---|\n",
       "| [![arXiv](https://img.shields.io/badge/arXiv-arXiv:2210.09300-b31b1b.svg)](https://arxiv.org/abs/arXiv:2210.09300) | **Anisotropic infall in the outskirst of clusters**  |\n",
       "|| Juan Manuel Salerno, et al. -- incl., <mark>Hernán Muriel</mark> |\n",
       "|*Appeared on*| *2022-10-18*|\n",
       "|*Comments*| *15 pages, 15 figures*|\n",
       "|**Abstract**| We analyse the connection between the star formation quenching of galaxies and their location in theoutskirts of clusters in the redshift range $z=[0,2]$ by estimating the fraction of red galaxies. More specifically, we focus on galaxies that infall isotropically from those that are infalling alongside filaments. We use a sample of galaxies obtained from the semi-analytic model of galaxy formation SAG applied to the MultiDark simulation. {\\textsc{mdpl2}}. In agreement with observational results, we find that the infall regions show levels of star formation that are intermediate between those of galaxies in clusters and in the field. Moreover, we show that, in the redshift range [0-0.85], the quenching of the star formation is stronger in the filamentary region than in the isotropic infall region. We also study the fraction of red galaxies as a function of the normalised distance to the cluster centre and find that, for radii $R/R_{200}> 3 $, the fraction of red galaxies in the filamentary region is considerably larger than in the isotropic infall region. From the analysis of properties of the main progenitors of galaxies identified at $z = 0$, we find that they have different evolutionary behaviours depending on the stellar mass and environment. Our results confirm the observational findings that suggest that the infall regions of clusters play an important role in the pre-processing of galaxies along most of the evolutionary history of galaxies. |\n",
       "|<p style=\"color:green\"> **ERROR** </p>| <p style=\"color:green\">affiliation error: mpia.affiliation_verifications: 'Heidelberg' keyword not found.</p> |"
      ],
      "text/plain": [
       "<IPython.core.display.Markdown object>"
      ]
     },
     "metadata": {},
     "output_type": "display_data"
    },
    {
     "data": {
      "text/markdown": [
       "\n",
       "|||\n",
       "|---:|:---|\n",
       "| [![arXiv](https://img.shields.io/badge/arXiv-arXiv:2210.08276-b31b1b.svg)](https://arxiv.org/abs/arXiv:2210.08276) | **Probing Galactic variations in the fine-structure constant using solar  twin stars: systematic errors**  |\n",
       "|| Daniel A. Berke, Michael T. Murphy, Chris Flynn, <mark>Fan Liu</mark> |\n",
       "|*Appeared on*| *2022-10-18*|\n",
       "|*Comments*| *18 pages, 12 figures. Accepted by MNRAS. The VarConLib (Varying Constants Library) software used in this work is available at this https URL The measurements and results in this work are available at this https URL*|\n",
       "|**Abstract**| Sun-like stars are a new probe of variations in the fine-structure constant, $\\alpha$, via the solar twins approach: velocity separations of close pairs of absorption lines are compared between stars with very similar stellar parameters, i.e. effective temperature, metallicity and surface gravity within 100K, 0.1 dex and 0.2 dex of the Sun's values. Here we assess possible systematic errors in this approach by analysing $\\gtrsim$10,000 archival exposures from the High-Accuracy Radial velocity Planetary Searcher (HARPS) of 130 stars covering a much broader range of stellar parameters. We find that each transition pair's separation shows broad, low-order variations with stellar parameters which can be accurately modelled, leaving only a small residual, intrinsic star-to-star scatter of 0-33 m/s (average $\\approx$7 m/s, $\\approx$10$^{-4}$\\r{A} at 5000\\r{A}). This limits the precision available from a single pair in one star. We consider potential systematic errors from a range of instrumental and astrophysical sources (e.g. wavelength calibration, charge transfer inefficiency, stellar magnetic activity, line blending) and conclude that variations in elemental abundances, isotope ratios and stellar rotational velocities may explain this star-to-star scatter. Finally, we find that the solar twins approach can be extended to solar analogues - within 300K, 0.3 dex and 0.4 dex of the Sun's parameters - without significant additional systematic errors, allowing a much larger number of stars to be used as probes of variation in $\\alpha$, including at much larger distances. |\n",
       "|<p style=\"color:green\"> **ERROR** </p>| <p style=\"color:green\">affiliation error: mpia.affiliation_verifications: 'Planck' keyword not found.</p> |"
      ],
      "text/plain": [
       "<IPython.core.display.Markdown object>"
      ]
     },
     "metadata": {},
     "output_type": "display_data"
    },
    {
     "data": {
      "text/markdown": [
       "\n",
       "|||\n",
       "|---:|:---|\n",
       "| [![arXiv](https://img.shields.io/badge/arXiv-arXiv:2210.09124-b31b1b.svg)](https://arxiv.org/abs/arXiv:2210.09124) | **A billion or more years of possible periglacial/glacial cycling in  Protonilus Mensae, Mars**  |\n",
       "|| Richard J. Soare, Jean-Pierre Williams, <mark>Adam J. Hepburn</mark>, Frances E. G. Butcher |\n",
       "|*Appeared on*| *2022-10-18*|\n",
       "|*Comments*| *71 pages, 15 figures, published in Icarus*|\n",
       "|**Abstract**| The long-term cyclicity and temporal succession of glacial-periglacial (or deglacial) periods or epochs are keynotes of Quaternary geology on Earth. Relatively recent work has begun to explore the histories of the mid- to higher-latitudinal terrain of Mars, especially in the northern hemisphere, for evidence of similar cyclicity and succession in the Mid to Late Amazonian Epoch. Here, we carry on with this work by focusing on Protonilus Mensae [PM] (43-490 N, 37-590 E). More specifically, we discuss, describe and evaluate an area within PM that straddles a geological contact between two ancient units: [HNt], a Noachian-Hesperian Epoch transition unit; and [eHT] an early Hesperian Epoch transition unit. Dark-toned terrain within the eHt unit (HiRISE image ESP_028457_2255) shows continuous coverage by structures akin to clastically-sorted circles [CSCs]. The latter are observed in permafrost regions on Earth where the freeze-thaw cycling of surface and/or near-surface water is commonplace and cryoturbation is not exceptional. The crater-size frequency distribution of the dark-toned terrain suggests a minimum age of ~100 Ma and a maximum age of ~1 Ga. The age estimates of the candidate CSCs fall within this dispersion. Geochronologically, this places the candidate CSCs amongst the oldest periglacial landforms identified on Mars so far. |\n",
       "|<p style=\"color:red\"> **ERROR** </p>| <p style=\"color:red\">latex error not a gzip file</p> |"
      ],
      "text/plain": [
       "<IPython.core.display.Markdown object>"
      ]
     },
     "metadata": {},
     "output_type": "display_data"
    }
   ],
   "source": [
    "import datetime\n",
    "today = str(datetime.date.today())\n",
    "logfile = f\"_build/html/logs/log-{today}.md\"\n",
    "\n",
    "\n",
    "with open(logfile, 'w') as logs:\n",
    "    # Success\n",
    "    logs.write(f'# Arxiv on Deck 2: Logs - {today}\\n\\n')\n",
    "    logs.write(\"\"\"* Arxiv had {0:,d} new papers\\n\"\"\".format(len(new_papers)))\n",
    "    logs.write(\"\"\"    * {0:,d} with possible author matches\\n\\n\"\"\".format(len(candidates)))\n",
    "    logs.write(\"## Sucessful papers\\n\\n\")\n",
    "    display(Markdown(\"## Successful papers\"))\n",
    "    success = [k[0] for k in documents]\n",
    "    for candid in candidates:\n",
    "        if candid['identifier'].split(':')[-1] in success:\n",
    "            display(candid)\n",
    "            logs.write(candid.generate_markdown_text() + '\\n\\n')\n",
    "\n",
    "    ## failed\n",
    "    logs.write(\"## Failed papers\\n\\n\")\n",
    "    display(Markdown(\"## Failed papers\"))\n",
    "    failed = sorted(failed, key=lambda x: x[1])\n",
    "    current_reason = \"\"\n",
    "    for paper, reason in failed:\n",
    "        if 'affiliation' in reason:\n",
    "            color = 'green'\n",
    "        else:\n",
    "            color = 'red'\n",
    "        data = Markdown(\n",
    "                paper.generate_markdown_text() + \n",
    "                f'\\n|<p style=\"color:{color:s}\"> **ERROR** </p>| <p style=\"color:{color:s}\">{reason:s}</p> |'\n",
    "               )\n",
    "        if reason != current_reason:\n",
    "            logs.write(f'### {reason:s} \\n\\n')\n",
    "            current_reason = reason\n",
    "        logs.write(data.data + '\\n\\n')\n",
    "        \n",
    "        # only display here the important errors (all in logs)\n",
    "        # if color in ('red',):\n",
    "        display(data)"
   ]
  },
  {
   "cell_type": "markdown",
   "id": "472d20ee",
   "metadata": {
    "papermill": {
     "duration": 0.012474,
     "end_time": "2022-10-18T05:26:15.368849",
     "exception": false,
     "start_time": "2022-10-18T05:26:15.356375",
     "status": "completed"
    },
    "tags": []
   },
   "source": [
    "## Export documents\n",
    "\n",
    "We now write the .md files and export relevant images"
   ]
  },
  {
   "cell_type": "code",
   "execution_count": 7,
   "id": "d426aed9",
   "metadata": {
    "execution": {
     "iopub.execute_input": "2022-10-18T05:26:15.395441Z",
     "iopub.status.busy": "2022-10-18T05:26:15.395109Z",
     "iopub.status.idle": "2022-10-18T05:26:15.402986Z",
     "shell.execute_reply": "2022-10-18T05:26:15.402488Z"
    },
    "papermill": {
     "duration": 0.023126,
     "end_time": "2022-10-18T05:26:15.404412",
     "exception": false,
     "start_time": "2022-10-18T05:26:15.381286",
     "status": "completed"
    },
    "tags": []
   },
   "outputs": [],
   "source": [
    "def export_markdown_summary(md: str, md_fname:str, directory: str):\n",
    "    \"\"\"Export MD document and associated relevant images\"\"\"\n",
    "    import os\n",
    "    import shutil\n",
    "    import re\n",
    "\n",
    "    if (os.path.exists(directory) and not os.path.isdir(directory)):\n",
    "        raise RuntimeError(f\"a non-directory file exists with name {directory:s}\")\n",
    "\n",
    "    if (not os.path.exists(directory)):\n",
    "        print(f\"creating directory {directory:s}\")\n",
    "        os.mkdir(directory)\n",
    "\n",
    "    fig_fnames = (re.compile(r'\\[Fig.*\\]\\((.*)\\)').findall(md) + \n",
    "                  re.compile(r'\\<img src=\"([^>\\s]*)\"[^>]*/>').findall(md))\n",
    "    for fname in fig_fnames:\n",
    "        if 'http' in fname:\n",
    "            # No need to copy online figures\n",
    "            continue\n",
    "        destdir = os.path.join(directory, os.path.dirname(fname))\n",
    "        destfname = os.path.join(destdir, os.path.basename(fname))\n",
    "        try:\n",
    "            os.makedirs(destdir)\n",
    "        except FileExistsError:\n",
    "            pass\n",
    "        shutil.copy(fname, destfname)\n",
    "    with open(os.path.join(directory, md_fname), 'w') as fout:\n",
    "        fout.write(md)\n",
    "    print(\"exported in \", os.path.join(directory, md_fname))\n",
    "    [print(\"    + \" + os.path.join(directory,fk)) for fk in fig_fnames]"
   ]
  },
  {
   "cell_type": "code",
   "execution_count": 8,
   "id": "014d04a4",
   "metadata": {
    "execution": {
     "iopub.execute_input": "2022-10-18T05:26:15.430458Z",
     "iopub.status.busy": "2022-10-18T05:26:15.429928Z",
     "iopub.status.idle": "2022-10-18T05:26:15.471008Z",
     "shell.execute_reply": "2022-10-18T05:26:15.470221Z"
    },
    "papermill": {
     "duration": 0.05613,
     "end_time": "2022-10-18T05:26:15.472749",
     "exception": false,
     "start_time": "2022-10-18T05:26:15.416619",
     "status": "completed"
    },
    "tags": []
   },
   "outputs": [
    {
     "name": "stdout",
     "output_type": "stream",
     "text": [
      "exported in  _build/html/2210.08078.md\n",
      "    + _build/html/tmp_2210.08078/./JOINT_Corner.png\n",
      "    + _build/html/tmp_2210.08078/./HARPS_Histogram+RV.png\n",
      "    + _build/html/tmp_2210.08078/./HARPS_Periodogram_dLW.png\n",
      "exported in  _build/html/2210.08510.md\n",
      "    + _build/html/tmp_2210.08510/./figs/group_mmr_v2.png\n",
      "    + _build/html/tmp_2210.08510/./figs/mmr_subgroups_lvplots.png\n",
      "    + _build/html/tmp_2210.08510/./figs/MMR_solar_logg_teff_track_kde_ages.png\n",
      "    + _build/html/tmp_2210.08510/./figs/MMR_solar_k_jk_track_kde_ages.png\n",
      "    + _build/html/tmp_2210.08510/./figs/eccentricities.png\n",
      "exported in  _build/html/2210.08517.md\n",
      "    + _build/html/tmp_2210.08517/./figures/WASP-7b_TS.png\n",
      "    + _build/html/tmp_2210.08517/./figures/airmass-seeing.png\n",
      "    + _build/html/tmp_2210.08517/./figures/WASP-7b-LC.png\n",
      "exported in  _build/html/2210.08996.md\n",
      "    + _build/html/tmp_2210.08996/./TOI969_activity_periodogram_freq.png\n",
      "    + _build/html/tmp_2210.08996/./TPF_Gaia_TIC280437559_S7.png\n",
      "    + _build/html/tmp_2210.08996/./TPF_Gaia_TIC280437559_S34.png\n",
      "    + _build/html/tmp_2210.08996/./TOI-969b_TTVs.png\n"
     ]
    }
   ],
   "source": [
    "for paper_id, md in documents:\n",
    "    export_markdown_summary(md, f\"{paper_id:s}.md\", '_build/html/')"
   ]
  },
  {
   "cell_type": "markdown",
   "id": "f087a0a7",
   "metadata": {
    "papermill": {
     "duration": 0.012613,
     "end_time": "2022-10-18T05:26:15.498203",
     "exception": false,
     "start_time": "2022-10-18T05:26:15.485590",
     "status": "completed"
    },
    "tags": []
   },
   "source": [
    "## Display the papers\n",
    "\n",
    "Not necessary but allows for a quick check."
   ]
  },
  {
   "cell_type": "code",
   "execution_count": 9,
   "id": "fd25f625",
   "metadata": {
    "execution": {
     "iopub.execute_input": "2022-10-18T05:26:15.525415Z",
     "iopub.status.busy": "2022-10-18T05:26:15.524648Z",
     "iopub.status.idle": "2022-10-18T05:26:15.538387Z",
     "shell.execute_reply": "2022-10-18T05:26:15.537851Z"
    },
    "papermill": {
     "duration": 0.031373,
     "end_time": "2022-10-18T05:26:15.542050",
     "exception": false,
     "start_time": "2022-10-18T05:26:15.510677",
     "status": "completed"
    },
    "scrolled": false,
    "tags": []
   },
   "outputs": [
    {
     "data": {
      "text/markdown": [
       "<div class=\"macros\" style=\"visibility:hidden;\">\n",
       "$\\newcommand{\\ensuremath}{}$\n",
       "$\\newcommand{\\xspace}{}$\n",
       "$\\newcommand{\\object}[1]{\\texttt{#1}}$\n",
       "$\\newcommand{\\farcs}{{.}''}$\n",
       "$\\newcommand{\\farcm}{{.}'}$\n",
       "$\\newcommand{\\arcsec}{''}$\n",
       "$\\newcommand{\\arcmin}{'}$\n",
       "$\\newcommand{\\ion}[2]{#1#2}$\n",
       "$\\newcommand{\\textsc}[1]{\\textrm{#1}}$\n",
       "$\\newcommand{\\hl}[1]{\\textrm{#1}}$\n",
       "$\\newcommand{\\me}{~\\rm M_{\\oplus}}$\n",
       "$\\newcommand{\\re}{~\\rm R_{\\oplus}}$\n",
       "$\\newcommand{\\ms}{~\\rm M_{\\odot}}$\n",
       "$\\newcommand$</div>\n",
       "\n",
       "<div class=\"macros\" style=\"visibility:hidden;\">\n",
       "$\\newcommand{$\\ensuremath$}{}$\n",
       "$\\newcommand{$\\xspace$}{}$\n",
       "$\\newcommand{$\\object$}[1]{\\texttt{#1}}$\n",
       "$\\newcommand{$\\farcs$}{{.}''}$\n",
       "$\\newcommand{$\\farcm$}{{.}'}$\n",
       "$\\newcommand{$\\arcsec$}{''}$\n",
       "$\\newcommand{$\\arcmin$}{'}$\n",
       "$\\newcommand{$\\ion$}[2]{#1#2}$\n",
       "$\\newcommand{$\\textsc$}[1]{\\textrm{#1}}$\n",
       "$\\newcommand{$\\hl$}[1]{\\textrm{#1}}$\n",
       "$\\newcommand{$\\me$}{~\\rm M_{\\oplus}}$\n",
       "$\\newcommand{$\\re$}{~\\rm R_{\\oplus}}$\n",
       "$\\newcommand{$\\ms$}{~\\rm M_{\\odot}}$\n",
       "$\\newcommand$</div>\n",
       "\n",
       "\n",
       "\n",
       "<div id=\"title\">\n",
       "\n",
       "# Revisiting Radial Velocity Measurements of the K2-18 System with the Line-by-Line Framework\n",
       "\n",
       "</div>\n",
       "<div id=\"comments\">\n",
       "\n",
       "[![arXiv](https://img.shields.io/badge/arXiv-2210.08078-b31b1b.svg)](https://arxiv.org/abs/2210.08078)<mark>Appeared on: 2022-10-18</mark> - _16 pages, 11 figures. Accepted in MNRAS_\n",
       "\n",
       "</div>\n",
       "<div id=\"authors\">\n",
       "\n",
       "Michael Radica, et al. -- incl., <mark><mark>Thomas Henning</mark></mark>\n",
       "\n",
       "</div>\n",
       "<div id=\"abstract\">\n",
       "\n",
       "**Abstract:** The cross-correlation function and template matching techniques have dominated the world of precision radial velocities for many years. Recently, a new technique, named line-by-line, has been developed as an outlier resistant way to efficiently extract radial velocity content from high resolution spectra. We apply this new method to archival HARPS and CARMENES datasets of the K2-18 system. After reprocessing the HARPS dataset with the line-by-line framework, we are able to replicate the findings of previous studies. Furthermore, by splitting the full wavelength range into sub-domains, we were able to identify a systematic chromatic correlation of the radial velocities in the reprocessed CARMENES dataset. After post-processing the radial velocities to remove this correlation, as well as rejecting some outlier nights, we robustly uncover the signal of both K2-18 b and K2-18 c, with masses that agree with those found from our analysis of the HARPS dataset. We then combine both the HARPS and CARMENES velocities to refine the parameters of both planets, notably resulting in a revised mass and period for K2-18 c of$6.99^{+0.96}_{-0.99}$\\meand$9.2072\\pm0.0065$d, respectively. Our work thoroughly demonstrates the power of the line-by-line technique for the extraction of precision radial velocity information.\n",
       "\n",
       "</div>\n",
       "\n",
       "<div id=\"div_fig1\">\n",
       "\n",
       "<img src=\"tmp_2210.08078/./JOINT_Corner.png\" alt=\"Fig11\" width=\"100%\"/>\n",
       "\n",
       "**Figure 11. -** Posterior distributions for all fitted parameters for the joint HARPS + CARMENES + K2 (green) fit, as well as for the individual HARPS + K2 (blue) and CARMENES + K2 (red) fits. Labels capping each column are the median, and 1$\\sigma$ errors for the joint fit. In general, the HARPS and CARMENES posteriors are nearly identical, with CARMENES proving to be 1$\\sigma$ consistent, although marginally less constraining for the RV semi-amplitudes of both planets, as well as the orbital parameters of K2-18 c.\n",
       "    \\label{fig:JOINT Corner} (*fig:JOINT Corner*)\n",
       "\n",
       "</div>\n",
       "<div id=\"div_fig2\">\n",
       "\n",
       "<img src=\"tmp_2210.08078/./HARPS_Histogram+RV.png\" alt=\"Fig1\" width=\"100%\"/>\n",
       "\n",
       "**Figure 1. -** \\emph{Top}: Median subtracted RV values for each of our three chosen HARPS bands.\n",
       "    \\emph{Middle}: Same as the top, but with the $u^\\prime$ band removed to better visualize the other two bands.\n",
       "    \\emph{Bottom}: Histogram showing the velocity difference from the mean, divided by the RV error for each band. The distribution for each band traces a normal distribution (dashed black curve), and no $>$5$\\sigma$ outliers are present.\n",
       "    \\label{fig:HARPS_hist} (*fig:HARPS_hist*)\n",
       "\n",
       "</div>\n",
       "<div id=\"div_fig3\">\n",
       "\n",
       "<img src=\"tmp_2210.08078/./HARPS_Periodogram_dLW.png\" alt=\"Fig2\" width=\"100%\"/>\n",
       "\n",
       "**Figure 2. -** Lomb-Scargle periodograms for each of our three HARPS bands, as well as the total RV and dLW parameter. The derived orbital periods of K2-18 b, and c, as well as the stellar rotation period (from Section $\\re$f{sec: HARPS Revisited}) are denoted with blue, green, and red dotted vertical lines respectively. The 1\\%, and 0.1\\% false alarm probabilities are denoted via the grey horizontal dotted lines. The next to last panel also displays the periodogram of the window function in red.\n",
       "    \\label{fig:HARPS_periodogram} (*fig:HARPS_periodogram*)\n",
       "\n",
       "</div>"
      ],
      "text/plain": [
       "<IPython.core.display.Markdown object>"
      ]
     },
     "metadata": {},
     "output_type": "display_data"
    },
    {
     "data": {
      "text/markdown": [
       "<div class=\"macros\" style=\"visibility:hidden;\">\n",
       "$\\newcommand{\\ensuremath}{}$\n",
       "$\\newcommand{\\xspace}{}$\n",
       "$\\newcommand{\\object}[1]{\\texttt{#1}}$\n",
       "$\\newcommand{\\farcs}{{.}''}$\n",
       "$\\newcommand{\\farcm}{{.}'}$\n",
       "$\\newcommand{\\arcsec}{''}$\n",
       "$\\newcommand{\\arcmin}{'}$\n",
       "$\\newcommand{\\ion}[2]{#1#2}$\n",
       "$\\newcommand{\\textsc}[1]{\\textrm{#1}}$\n",
       "$\\newcommand{\\hl}[1]{\\textrm{#1}}$\n",
       "$\\newcommand$</div>\n",
       "\n",
       "<div class=\"macros\" style=\"visibility:hidden;\">\n",
       "$\\newcommand{$\\ensuremath$}{}$\n",
       "$\\newcommand{$\\xspace$}{}$\n",
       "$\\newcommand{$\\object$}[1]{\\texttt{#1}}$\n",
       "$\\newcommand{$\\farcs$}{{.}''}$\n",
       "$\\newcommand{$\\farcm$}{{.}'}$\n",
       "$\\newcommand{$\\arcsec$}{''}$\n",
       "$\\newcommand{$\\arcmin$}{'}$\n",
       "$\\newcommand{$\\ion$}[2]{#1#2}$\n",
       "$\\newcommand{$\\textsc$}[1]{\\textrm{#1}}$\n",
       "$\\newcommand{$\\hl$}[1]{\\textrm{#1}}$\n",
       "$\\newcommand$</div>\n",
       "\n",
       "\n",
       "\n",
       "<div id=\"title\">\n",
       "\n",
       "# Table XX is only available in electronic form at the CDS via anonymous ftp to cdsarc.u-strasbg.fr (130.79.128.5) or via http://cdsweb.u-strasbg.fr/cgi-bin/qcat?J/A+A/.\n",
       "\n",
       "</div>\n",
       "<div id=\"comments\">\n",
       "\n",
       "[![arXiv](https://img.shields.io/badge/arXiv-2210.08510-b31b1b.svg)](https://arxiv.org/abs/2210.08510)<mark>Appeared on: 2022-10-18</mark> - _18 pages, 13 figures. A&A in review; version after second interaction with the referee. The catalogue remains to be released. Abridged abstract to fit arxiv's requirements_\n",
       "\n",
       "</div>\n",
       "<div id=\"authors\">\n",
       "\n",
       "M. L. L. Dantas, et al. -- incl., <mark><mark>G. Guiglion</mark></mark>, <mark><mark>M. Bergemann</mark></mark>\n",
       "\n",
       "</div>\n",
       "<div id=\"abstract\">\n",
       "\n",
       "**Abstract:** The Solar vicinity is currently populated by a mix of stars with various chemo-dynamical properties, including stars with a high metallicity when compared to the Sun. Dynamical processes such as churning and blurring are expected to relocate such metal-rich stars from the inner Galaxy to the Solar region.We report the identification of a set of old super metal-rich (+0.15$\\leq$[Fe/H]$\\leq$+0.50) dwarf stars with orbits of low eccentricity ($e \\lesssim 0.2$) that reach a maximum height from the Galactic plane between$\\sim$0.5-1.5 kpc. We discuss their chemo-dynamical properties with the goal of understanding their potential origins.We use data from the internal data release 6 of the\\textit{Gaia}-ESO Survey. We selected stars observed at high resolution with abundances of 21 species of 18 individual elements (i.e. 21 dimensions). We apply a hierarchical clustering algorithm to group the stars with similar chemical abundances within the complete chemical abundance space. Orbits were integrated using astrometric data from\\textit{Gaia}and radial velocities from\\textit{Gaia}-ESO. Stellar ages were estimated using isochrones and a Bayesian method.According to their chemical properties, this set of super metal-rich stars can be arranged into five subgroups. Four of them seem to follow a chemical enrichment flow, where nearly all abundances increase in lockstep with Fe. The fifth subgroup shows different chemical characteristics. All subgroups have the following features: median ages of the order of 7--9 Gyr (with five outlier stars of estimated younger age), Solar or sub-Solar[Mg/Fe]ratios, maximum height from the Galactic plane between 0.5--1.5 kpc, low eccentricities ($e\\lesssim$0.2), and a detachment from the expected metallicity gradient with guiding radius (which varies between$\\sim$6 to 9 kpc for the majority of the stars).The high metallicity of our stars is incompatible with a formation in the Solar neighbourhood. Their dynamic properties agree with theoretical expectations that these stars travelled from the inner Galaxy due to blurring and, most importantly, to churning. We, therefore, suggest that most of the stars in this population originated in the inner regions of the Milky Way (inner disc and/or the bulge) and later migrated to the Solar neighbourhood. The region from where the stars originated had a complex chemical enrichment history, with contribution from supernovae types Ia and II, and possibly asymptotic giant branch stars as well.\n",
       "\n",
       "</div>\n",
       "\n",
       "<div id=\"div_fig1\">\n",
       "\n",
       "<img src=\"tmp_2210.08510/./figs/group_mmr_v2.png\" alt=\"Fig5.1\" width=\"50%\"/><img src=\"tmp_2210.08510/./figs/mmr_subgroups_lvplots.png\" alt=\"Fig5.2\" width=\"50%\"/>\n",
       "\n",
       "**Figure 5. -** \\textit{Top panel:} median abundances $\\langle \\rm{[X/H]} \\rangle$($y$-axis) of each element X ($x$-axis) for the most metal-rich (MMR) group. The grey and cyan thick dashed lines are the median abundances of each element of the MMR and `solar' groups respectively, whereas the grey area represents 1$\\sigma$(16-84\\%) confidence interval for each one. The purple, light green, pink, dark green, and orange lines represent respectively the MMR subgroups 6 to 10 given by the hierarchical clustering in Fig. \\ref{fig:dendrogram}. Disclaimer: this image does not represent a regression; the lines connecting the abundances act as a visual guide to depict whether the abundances of each element increase or decrease in comparison with the previous one. \\textit{Bottom panel:} an analogue image of top panel but with the distributions of the same abundances ([X/H]) in the shape of letter-value plots \\citep[which is a more general version of the box-plot,][]{Hofmann2017} with \\texttt{k\\_depth} set as \\texttt{`trustworthy'}. The colours are the same as the top panel, but with the `solar' group omitted. The vertical lines divide the distributions by element. The outliers are the diamond-shaped fliers. The bottom panel has been made with $\\textsc${seaborn}, a $\\textsc${python} package for data visualisation \\citep{Waskom2021}. In both panels the abundances are shown in increasing order of atomic number. (*fig:abund_lvplot*)\n",
       "\n",
       "</div>\n",
       "<div id=\"div_fig2\">\n",
       "\n",
       "<img src=\"tmp_2210.08510/./figs/MMR_solar_logg_teff_track_kde_ages.png\" alt=\"Fig7.1\" width=\"50%\"/><img src=\"tmp_2210.08510/./figs/MMR_solar_k_jk_track_kde_ages.png\" alt=\"Fig7.2\" width=\"50%\"/>\n",
       "\n",
       "**Figure 7. -** \\emph{Top panel:} surface gravity \\emph{vs.} effective temperature [$\\log(g)$\\emph{vs.}$T_{\\rm{eff}}$] for the five MMR subgroups in the same colours as Fig. \\ref{fig:abund_lvplot} in the shape of 2D kernel density plots with their respective scatter markers. In grey we display the `solar' group parameters for comparison. Isochrones for the maximum, median, and minimum ages (according to Table \\ref{tab:mmr_subgs_ages}) are also displayed in dashed, straight, and dotted lines respectively.  All isochrones shown are in terms of the median values of [Fe/H] shown in Table \\ref{tab:mmr_subgs}. It is worth mentioning that the stars herein shown also have a distribution of metallicities that are not shown in the isochrones. \\emph{Bottom panel}: equivalent colour-magnitude diagram (CMD) of the top panel. The CMD uses \\emph{JHK$_s$} absolute magnitudes from 2MASS, which were used by $\\textsc${unidam} to estimate the ages. (*fig:logg_teff_kde*)\n",
       "\n",
       "</div>\n",
       "<div id=\"div_fig3\">\n",
       "\n",
       "<img src=\"tmp_2210.08510/./figs/eccentricities.png\" alt=\"Fig1\" width=\"100%\"/>\n",
       "\n",
       "**Figure 1. -** Median eccentricities ($\\langle e \\rangle$) shown as a 1D-Gaussian kernel densities for all the MMR subgroups (6 to 10). Medians for each distribution displayed in dashed lines with the same colours as the corresponding distributions. It is noticeable that most of the stars peak at $\\langle e \\rangle < 0.2$, except for groups 9 and 10 that have $\\langle e \\rangle$ slightly higher than 2. This is in agreement with \\citet[][see Fig. 3 therein]{Sales2009} and \\citet[][see Fig. 9 therein]{Kordopatis2015}. (*fig:appendix_eccentricities*)\n",
       "\n",
       "</div>"
      ],
      "text/plain": [
       "<IPython.core.display.Markdown object>"
      ]
     },
     "metadata": {},
     "output_type": "display_data"
    },
    {
     "data": {
      "text/markdown": [
       "<div class=\"macros\" style=\"visibility:hidden;\">\n",
       "$\\newcommand{\\ensuremath}{}$\n",
       "$\\newcommand{\\xspace}{}$\n",
       "$\\newcommand{\\object}[1]{\\texttt{#1}}$\n",
       "$\\newcommand{\\farcs}{{.}''}$\n",
       "$\\newcommand{\\farcm}{{.}'}$\n",
       "$\\newcommand{\\arcsec}{''}$\n",
       "$\\newcommand{\\arcmin}{'}$\n",
       "$\\newcommand{\\ion}[2]{#1#2}$\n",
       "$\\newcommand{\\textsc}[1]{\\textrm{#1}}$\n",
       "$\\newcommand{\\hl}[1]{\\textrm{#1}}$\n",
       "$\\newcommand{\\wb}[0]{\\mbox{WASP-7} b}$\n",
       "$\\newcommand{\\tbd}[1]{{\\color{blue}TBD: #1}}$\n",
       "$\\newcommand{\\ms}[0]{m s^{-1}}$\n",
       "$\\newcommand{\\kms}[0]{km s^{-1}}$\n",
       "$\\newcommand{\\cahk}[0]{\\ion{Ca}{ii} H and K}$\n",
       "$\\newcommand{\\ha}[0]{\\mbox{H\\alpha}}$\n",
       "$\\newcommand{\\mf}[0]{\\texttt{molecfit}}$\n",
       "$\\newcommand{\\Mf}[0]{\\texttt{Molecfit}}$\n",
       "$\\newcommand{\\hb}[0]{\\mbox{H\\beta}}$\n",
       "$\\newcommand{\\hg}[0]{\\mbox{H\\gamma}}$</div>\n",
       "\n",
       "<div class=\"macros\" style=\"visibility:hidden;\">\n",
       "$\\newcommand{$\\ensuremath$}{}$\n",
       "$\\newcommand{$\\xspace$}{}$\n",
       "$\\newcommand{$\\object$}[1]{\\texttt{#1}}$\n",
       "$\\newcommand{$\\farcs$}{{.}''}$\n",
       "$\\newcommand{$\\farcm$}{{.}'}$\n",
       "$\\newcommand{$\\arcsec$}{''}$\n",
       "$\\newcommand{$\\arcmin$}{'}$\n",
       "$\\newcommand{$\\ion$}[2]{#1#2}$\n",
       "$\\newcommand{$\\textsc$}[1]{\\textrm{#1}}$\n",
       "$\\newcommand{$\\hl$}[1]{\\textrm{#1}}$\n",
       "$\\newcommand{$\\wb$}[0]{\\mbox{WASP-7} b}$\n",
       "$\\newcommand{$\\tbd$}[1]{{\\color{blue}TBD: #1}}$\n",
       "$\\newcommand{$\\ms$}[0]{m s^{-1}}$\n",
       "$\\newcommand{$\\kms$}[0]{km s^{-1}}$\n",
       "$\\newcommand{$\\cahk$}[0]{$\\ion${Ca}{ii} H and K}$\n",
       "$\\newcommand{$\\ha$}[0]{\\mbox{H\\alpha}}$\n",
       "$\\newcommand{$\\mf$}[0]{\\texttt{molecfit}}$\n",
       "$\\newcommand{$\\Mf$}[0]{\\texttt{Molecfit}}$\n",
       "$\\newcommand{$\\hb$}[0]{\\mbox{H\\beta}}$\n",
       "$\\newcommand{$\\hg$}[0]{\\mbox{H\\gamma}}$</div>\n",
       "\n",
       "\n",
       "\n",
       "<div id=\"title\">\n",
       "\n",
       "# Based on observations collected at the European Southern Observatory under ESO programme ID 091.C-0632(A) (PI: F. Pfeifer).:  line absorption\n",
       "\n",
       "</div>\n",
       "<div id=\"comments\">\n",
       "\n",
       "[![arXiv](https://img.shields.io/badge/arXiv-2210.08517-b31b1b.svg)](https://arxiv.org/abs/2210.08517)<mark>Appeared on: 2022-10-18</mark> - _Accepted for publication in A&A_\n",
       "\n",
       "</div>\n",
       "<div id=\"authors\">\n",
       "\n",
       "Hossein Rahmati, Stefan Czesla, Sara Khalafinejad, <mark>Paul Mollière</mark>\n",
       "\n",
       "</div>\n",
       "<div id=\"abstract\">\n",
       "\n",
       "**Abstract:** Transmission spectroscopy is a prime technique to study the chemical composition and structure of exoplanetary atmospheres. Strong excess absorption signals have been detected in the optical$\\ion${Na}{I}D$1,2$Fraunhofer lines during transits of hot Jupiters, which are attributed to the planetary atmospheres and allow us to constrain its structure.We study the atmosphere of$\\wb$by means of high-resolution transit spectroscopy in the sodium lines.We analyze a spectral transit time-series of 89 high-resolution spectra of the hot Jupiter WASP-7 b that was observed using the Ultraviolet and Visual Echelle Spectrograph (UVES). We use the telluric lines for an accurate alignment of the spectra and carry out a telluric correction with$\\mf$. Stellar magnetic activity is monitored by investigating chromospheric lines such as the$\\cahk$and hydrogen$\\ha$lines. Finally, we obtain transmission spectra and light curves for various lines.The star shows no identifiable flares and, if any, marginal changes in activity during our observing run. The sodium transmission spectra and corresponding light curves clearly show signs of the Rossiter-McLaughlin effect (RM) and the stellar center-to-limb variation (CLV) that we model using synthetic spectra. A statistically significant, narrow absorption feature with a line contrast of 0.50$\\pm$0.06\\%(at$\\sim 8.3\\sigma$level) and a full width at half maximum (FWHM) of 0.13$\\pm$0.02{\\AA}is detected at the location of the$\\ion${Na}{I}D$_2$line. For the$\\ion${Na}{I}D$_1$line signal, we derive a line contrast of 0.13$\\pm$0.04\\%(at$\\sim 3.2\\sigma$level), which we consider a tentative detection.In addition, we provide upper limits for absorption by the hydrogen Balmer lines ($\\ha$,$\\hb$, and$\\hg$), K{\\sc i}$\\lambda$7699{\\AA}, Ca{\\sc ii}H and K, and infra-red triplet (IRT) lines.\n",
       "\n",
       "</div>\n",
       "\n",
       "<div id=\"div_fig1\">\n",
       "\n",
       "<img src=\"tmp_2210.08517/./figures/WASP-7b_TS.png\" alt=\"Fig10\" width=\"100%\"/>\n",
       "\n",
       "**Figure 10. -** Transmission spectrum of WASP-7 b around the $\\ion${Na}{i} D$_2$(left column) and $\\ion${Na}{i} D$_1$ line (right column). Top panels: Observed transmission spectrum (gray) along with best-fit model components, representing the CLV and RM effects (solid red). Middle panels: Observed transmission spectrum along with best-fit Gaussian absorption components (red) and model shown in upper panels subtracted (gray). The gray shades indicate 1$\\sigma$ uncertainty of the best-fit model (red). Bottom panel: Residuals with respect to the best-fit model. Black data points correspond to binning by a factor of 15.\n",
       "\t (*fig:transmission-spectrum*)\n",
       "\n",
       "</div>\n",
       "<div id=\"div_fig2\">\n",
       "\n",
       "<img src=\"tmp_2210.08517/./figures/airmass-seeing.png\" alt=\"Fig1\" width=\"100%\"/>\n",
       "\n",
       "**Figure 1. -** Time evolution of seeing in arcsec (brown crosses, top panel) and airmass (green dashed lines, top panel)\n",
       "  and S/N in the regions of Na doublet lines (bottom panel). Dark gray shades indicate the ranges of ingress and egress and light shades show the range between second and third contact.\n",
       "  \\label{fig:airmass} (*fig:airmass*)\n",
       "\n",
       "</div>\n",
       "<div id=\"div_fig3\">\n",
       "\n",
       "<img src=\"tmp_2210.08517/./figures/WASP-7b-LC.png\" alt=\"Fig8\" width=\"100%\"/>\n",
       "\n",
       "**Figure 8. -** Top panel: Observation transmission light curves (gray) and modeled transmission light curves of the RM and the CLV (dotted blue line) for the 0.45 \\AA integration band centered on the $\\ion${Na}{I} D$_2$ line. The dashed red line is the absorption component using a box model, and the gray shades denote its 1$\\sigma$ uncertainty. The solid black line is the best-fit combined model and red points show binning by a factor of 10. Bottom panel: Residuals for binned and unbinned data. Green shades indicate out-of-transit time throughout. (*fig:transmission-light-curve*)\n",
       "\n",
       "</div>"
      ],
      "text/plain": [
       "<IPython.core.display.Markdown object>"
      ]
     },
     "metadata": {},
     "output_type": "display_data"
    },
    {
     "data": {
      "text/markdown": [
       "<div class=\"macros\" style=\"visibility:hidden;\">\n",
       "$\\newcommand{\\ensuremath}{}$\n",
       "$\\newcommand{\\xspace}{}$\n",
       "$\\newcommand{\\object}[1]{\\texttt{#1}}$\n",
       "$\\newcommand{\\farcs}{{.}''}$\n",
       "$\\newcommand{\\farcm}{{.}'}$\n",
       "$\\newcommand{\\arcsec}{''}$\n",
       "$\\newcommand{\\arcmin}{'}$\n",
       "$\\newcommand{\\ion}[2]{#1#2}$\n",
       "$\\newcommand{\\textsc}[1]{\\textrm{#1}}$\n",
       "$\\newcommand{\\hl}[1]{\\textrm{#1}}$\n",
       "$\\newcommand$\n",
       "$\\newcommand$\n",
       "$\\newcommand$\n",
       "$\\newcommand{\\comm}[1]{\\textcolor{blue}{#1}}$\n",
       "$\\newcommand{\\be}{\\begin{equation}}$\n",
       "$\\newcommand{\\ee}{\\end{equation}}$\n",
       "$\\newcommand\\Dv{{\\Delta \\varpi} }$\n",
       "$\\newcommand\\mearth{{M_{\\oplus}}}$\n",
       "$\\newcommand\\rearth{{R_{\\oplus}}}$\n",
       "$\\newcommand\\boldblue[1]{\\textcolor{blue}{\\textbf{#1}}}$\n",
       "$\\newcommand{\\toi}{TOI-969}$\n",
       "$\\newcommand{\\toib}{TOI-969 b}$\n",
       "$\\newcommand{\\toic}{TOI-969 c}$\n",
       "$\\newcommand{\\jlillo}[1]{\\textcolor{brown}{#1}}$\n",
       "$\\newcommand{\\request}[1]{\\textcolor{red}{#1}}$\n",
       "$\\usepackage{romannum}$\n",
       "$\\begin{document}$\n",
       "$   \\title{TOI-969: a late-K dwarf with a hot mini-Neptune in the desert \\and an eccentric cold Jupiter\\thanks{Based on Guaranteed Time Observations collected at the European Southern Observatory (ESO) under ESO programs 1102.C-0249 (PI: Armstrong), 106.21TJ.001 (PI: Gandolfi). This paper includes data gathered with the 6.5 meter Magellan Telescopes located at Las Campanas Observatory, Chile. The full dataset is accessible from CDS through the following link XXX.}}$\n",
       "$   \\author{$\n",
       "$J.~Lillo-Box\\inst{\\ref{cab}},$\n",
       "$D.~Gandolfi\\inst{\\ref{torino}},$\n",
       "$D.J.~Armstrong\\inst{\\ref{warwick},\\ref{ceh}},$\n",
       "$K.~A.~Collins\\inst{\\ref{cfa}},$\n",
       "$L.~D.~Nielsen\\inst{\\ref{eso-garching},\\ref{geneva}},$\n",
       "$R.~Luque\\inst{\\ref{iaa}},$\n",
       "$J.~Korth\\inst{\\ref{chalmers}},$\n",
       "$S.~G.~Sousa\\inst{\\ref{ia-porto}},$\n",
       "$S.~N.~Quinn\\inst{\\ref{cfa}},$\n",
       "$L.~Acu\\~na\\inst{\\ref{marseille}},$\n",
       "$S.~B.~Howell\\inst{\\ref{ames}},$\n",
       "$G.~Morello\\inst{\\ref{iac},\\ref{ull}},$\n",
       "$C.~Hellier\\inst{\\ref{keele}},$\n",
       "$S.~Giacalone\\inst{\\ref{berkeley}},$\n",
       "$S.~Hoyer\\inst{\\ref{marseille}},$\n",
       "$K.~Stassun\\inst{\\ref{nashville}},$\n",
       "$E.~Palle\\inst{\\ref{iac},\\ref{ull}},$\n",
       "$A.~Aguichine\\inst{\\ref{marseille}},$\n",
       "$O.~Mousis\\inst{\\ref{marseille}},$\n",
       "$V.~Adibekyan\\inst{\\ref{ia-porto},\\ref{uporto}},$\n",
       "$T.~Azevedo~Silva\\inst{\\ref{ia-porto},\\ref{uporto}},$\n",
       "$D.~Barrado\\inst{\\ref{cab}},$\n",
       "$M.~Deleuil\\inst{\\ref{marseille}},$\n",
       "$J.~D.~Eastman\\inst{\\ref{cfa}},$\n",
       "$F.~Hawthorn\\inst{\\ref{warwick},\\ref{ceh}},$\n",
       "$J.~M.~Irwin\\inst{\\ref{ioa}},$\n",
       "$J.~M.~Jenkins\\inst{\\ref{ames}},$\n",
       "$D.~W.~Latham\\inst{\\ref{cfa}},$\n",
       "$A.~Muresan\\inst{\\ref{chalmers2}},$\n",
       "$C.M.~Persson\\inst{\\ref{chalmers2}},$\n",
       "$A.~Santerne\\inst{\\ref{marseille}},$\n",
       "$N.~C.~Santos\\inst{\\ref{ia-porto},\\ref{uporto}},$\n",
       "$A.~B.~Savel\\inst{\\ref{maryland}},$\n",
       "$H.~P.~Osborn\\inst{\\ref{csh}},$\n",
       "$J.~Teske\\inst{\\ref{carnegie}},$\n",
       "$P.~J.~Wheatley\\inst{\\ref{warwick},\\ref{ceh}},$\n",
       "$J.~N.~Winn\\inst{\\ref{princeton}},$\n",
       "$S.~C.~C.~Barros\\inst{\\ref{ia-porto},\\ref{uporto}},$\n",
       "$R.~P.~Butler\\inst{\\ref{carnegie}},$\n",
       "$D.~A.~Caldwell\\inst{\\ref{seti}},$\n",
       "$D.~Charbonneau\\inst{\\ref{cfa}},$\n",
       "$R.~Cloutier\\inst{\\ref{cfa}},$\n",
       "$J.~D.~Crane\\inst{\\ref{carnegie-ca}},$\n",
       "$O.~D.~S.~Demangeon\\inst{\\ref{ia-porto},\\ref{uporto}},$\n",
       "$R.~F.~D\\'iaz\\inst{\\ref{icas}},$\n",
       "$X.~Dumusque\\inst{\\ref{geneva-inst}},$\n",
       "$M.~Esposito\\inst{\\ref{tautenburg}},$\n",
       "$B.~Falk\\inst{\\ref{stsci}},$\n",
       "$H.~Gill\\inst{\\ref{berkeley}},$\n",
       "$S.~Hojjatpanah\\inst{\\ref{marseille}},$\n",
       "$L.~Kreidberg\\inst{\\ref{mpia}},$\n",
       "$I.~Mireles\\inst{\\ref{newmex}},$\n",
       "$A.~Osborn\\inst{\\ref{warwick},\\ref{ceh}},$\n",
       "$G.~R.Ricker\\inst{\\ref{mit}},$\n",
       "$J.~E.~Rodriguez\\inst{\\ref{michigan}},$\n",
       "$R.~P.~Schwarz\\inst{\\ref{cfa}},$\n",
       "$S.~Seager\\inst{\\ref{mit},\\ref{mit-earth},\\ref{mit-aero}},$\n",
       "$J.~Serrano Bell\\inst{\\ref{laplata}},$\n",
       "$S.~A.~Shectman\\inst{\\ref{carnegie-ca}},$\n",
       "$A.~Shporer\\inst{\\ref{mit}},$\n",
       "$M.~Vezie\\inst{\\ref{mit}},$\n",
       "$S.~X.~Wang\\inst{\\ref{tsinghua}},$\n",
       "$G.~Zhou\\inst{\\ref{queensland}}$\n",
       "$}$\n",
       "$\\institute{$\n",
       "$Centro de Astrobiolog\\'ia (CAB, CSIC-INTA), Depto. de Astrof\\'isica, ESAC campus, 28692, Villanueva de la Ca\\~nada (Madrid), Spain \\email{Jorge.Lillo@cab.inta-csic.es}$\n",
       "$\\label{cab}$\n",
       "$\\and$\n",
       "$Dipartimento di Fisica, Universit\\'a degli Studi di Torino, via Pietro Giuria 1, 10125, Torino, Italy$\n",
       "$\\label{torino}$\n",
       "$\\and$\n",
       "$Department of Physics, University of Warwick, Gibbet Hill Road, Coventry CV4 7AL, UK$\n",
       "$\\label{warwick}$\n",
       "$\\and$\n",
       "$Centre for Exoplanets and Habitability, University of Warwick, Gibbet Hill Road, Coventry CV4 7AL, UK$\n",
       "$\\label{ceh}$\n",
       "$\\and$\n",
       "$Center for Astrophysics \\textbar  Harvard \\& Smithsonian, 60 Garden Street, Cambridge, MA 02138, USA$\n",
       "$\\label{cfa}$\n",
       "$\\and$\n",
       "$European Southern Observatory, Karl-Schwarzschildstr. 2, D-85748 Garching bei M{\\\"u}nchen, Germany$\n",
       "$\\label{eso-garching}$\n",
       "$\\and$\n",
       "$Observatoire astronomique de l'Universit{\\'e} de Gen{\\`e}ve, Chemin Pegasi 51, 1290 Versoix, Switzerland$\n",
       "$\\label{geneva}$\n",
       "$\\and Instituto de Astrof\\'isica de Andaluc\\'ia (IAA-CSIC), Glorieta de la Astronom\\'ia s/n, 18008 Granada, Spain$\n",
       "$\\label{iaa}$\n",
       "$\\and$\n",
       "$Department of Space, Earth and Environment, Astronomy and Plasma Physics, Chalmers University of Technology, 412 96 Gothenburg, Sweden$\n",
       "$\\label{chalmers}$\n",
       "$\\and$\n",
       "$Instituto de Astrof\\'isica e Ci\\^encias do Espa\\c{c}o, Universidade do Porto, CAUP, Rua das Estrelas, 4150-762 Porto, Portugal$\n",
       "$\\label{ia-porto}$\n",
       "$\\and$\n",
       "$Aix-Marseille Univ., CNRS, CNES, LAM, Marseille, France$\n",
       "$\\label{marseille}$\n",
       "$\\and$\n",
       "$NASA Ames Research Center, Moffett Field, CA 94035, USA$\n",
       "$\\label{ames}$\n",
       "$\\and$\n",
       "$Instituto de Astrof\\'isica de Canarias (IAC), 38205 La Laguna, Tenerife, Spain$\n",
       "$\\label{iac}$\n",
       "$\\and$\n",
       "$Departamento de Astrof\\'isica, Universidad de La Laguna (ULL), 38206, La Laguna, Tenerife, Spain$\n",
       "$\\label{ull}$\n",
       "$\\and$\n",
       "$Astrophysics Group, Keele University, Staffordshire ST5 5BG, U.K.$\n",
       "$\\label{keele}$\n",
       "$\\and$\n",
       "$Department of Astronomy, University of California Berkeley, Berkeley, CA 94720, USA$\n",
       "$\\label{berkeley}$\n",
       "$\\and$\n",
       "$Department of Physics and Astronomy, Vanderbilt University, Nashville, TN 37235, USA$\n",
       "$\\label{nashville}$\n",
       "$\\and$\n",
       "$Departamento de F\\'isica e Astronomia, Faculdade de Ci\\^encias, Universidade do Porto, Rua do Campo Alegre, 4169-007 Porto, Portugal$\n",
       "$\\label{uporto}$\n",
       "$\\and$\n",
       "$Institute of Astronomy, University of Cambridge, Madingley Road, Cambridge, CB3 0HA, UK$\n",
       "$\\label{ioa}$\n",
       "$\\and$\n",
       "$Chalmers University of Technology, Department of Space, Earth and Environment, Onsala Space Observatory, SE-439 92 Onsala, Sweden$\n",
       "$\\label{chalmers2}$\n",
       "$\\and$\n",
       "$Department of Astronomy, University of Maryland, College Park, MD 20742, USA$\n",
       "$\\label{maryland}$\n",
       "$\\and$\n",
       "$Center for Space and Habitability, University of Bern, Gesellschaftsstrasse 6, 3012, Bern, Switzerland$\n",
       "$\\label{csh}$\n",
       "$\\and$\n",
       "$Carnegie Earth \\& Planets Laboratory, 5241 Broach Branch Road NW, Washington, DC 20015, USA$\n",
       "$\\label{carnegie}$\n",
       "$\\and$\n",
       "$Department of Astrophysical Sciences, Princeton University, Princeton, NJ 08544, USA$\n",
       "$\\label{princeton}$\n",
       "$\\and$\n",
       "$SETI Institute/NASA Ames Research Center, Moffett Field, CA 94035, USA$\n",
       "$\\label{seti}$\n",
       "$\\and$\n",
       "$The Observatories of the Carnegie Institution for Science, 813 Santa Barbara St, Pasadena, CA 91101, USA$\n",
       "$\\label{carnegie-ca}$\n",
       "$\\and$\n",
       "$International Center for Advanced Studies (ICAS) and ICIFI (CONICET), ECyT-UNSAM, Campus Miguelete, 25 de Mayo y Francia, (1650) Buenos Aires, Argentina.$\n",
       "$\\label{icas}$\n",
       "$\\and$\n",
       "$Department of Astronomy of the University of Geneva, 51 Chemin de Pegasi, 1290 Versoix, Switzerland$\n",
       "$\\label{geneva-inst}$\n",
       "$\\and$\n",
       "$Th\\\"uringer Landessternwarte Tautenburg, Sternwarte 5, 07778, Tautenburg, Germany$\n",
       "$\\label{tautenburg}$\n",
       "$\\and$\n",
       "$Space Telescope Science Institute, 3700 San Martin Drive, Baltimore, MD, 21218, USA$\n",
       "$\\label{stsci}$\n",
       "$\\and$\n",
       "$Max Planck Institute for Astronomy, K\\\"onigstuhl 17, 69117 Heidelberg, Germany$\n",
       "$\\label{mpia}$\n",
       "$\\and$\n",
       "$Department of Physics and Astronomy, University of New Mexico, 210 Yale Blvd NE, Albuquerque, NM 87106, USA$\n",
       "$\\label{newmex}$\n",
       "$\\and$\n",
       "$Department of Physics and Kavli Institute for Astrophysics and Space Research, Massachusetts Institute of Technology, Cambridge, MA 02139, USA$\n",
       "$\\label{mit}\\\\and$\n",
       "$Center for Data Intensive and Time Domain Astronomy, Department of Physics and Astronomy, Michigan State University, East Lansing, MI 48824, USA$\n",
       "$\\label{michigan}$\n",
       "$\\and$\n",
       "$Department of Earth, Atmospheric and Planetary Sciences, Massachusetts Institute of Technology, Cambridge, MA 02139, USA$\n",
       "$\\label{mit-earth}$\n",
       "$\\and$\n",
       "$Department of Aeronautics and Astronautics, MIT, 77 Massachusetts Avenue, Cambridge, MA 02139, USA$\n",
       "$\\label{mit-aero}$\n",
       "$\\and$\n",
       "$Facultad de Ciencias Astron\\'omicas y Geof\\'isicas, Universidad Nacional de La Plata, Paseo del Bosque s/n, (B1900) Buenos Aires, Argentina.$\n",
       "$\\label{laplata}$\n",
       "$\\and$\n",
       "$Department of Astronomy, Tsinghua University, Beijing 100084, People's Republic of China$\n",
       "$\\label{tsinghua}$\n",
       "$\\and$\n",
       "$University of Southern Queensland, Centre for Astrophysics, West Street, Toowoomba, QLD 4350 Australia$\n",
       "$\\label{queensland}$\n",
       "$}$\n",
       "$   \\date{Received XXX; accepted YYY}$\n",
       "$  \\abstract{The current architecture of a given multi-planetary system is a key fingerprint of its past formation and dynamical evolution history. Long-term follow-up observations are key to complete their picture.}{In this paper we focus on the confirmation and characterization of the components of the \\toi  planetary system, where TESS detected a Neptune-size planet candidate in a very close-in orbit around a late K-dwarf star.}{We use a set of precise radial velocity observations from HARPS, PFS and CORALIE instruments covering more than two years in combination with the TESS photometric light curve and other ground-based follow-up observations to confirm and characterize the components of this planetary system.}{We find that \\toib  is a transiting close-in (P_b\\sim 1.82~days) mini-Neptune planet (m_b=9.1^{+1.1}_{-1.0}~\\Mearth , R_b=2.765^{+0.088}_{-0.097}~\\Rearth ), thus placing it on the {lower boundary} of the hot-Neptune desert (T_{\\rm eq,b}=941\\pm31~K). The analysis of its internal structure shows that \\toib  is a volatile-rich planet, suggesting it underwent an inward migration. The radial velocity model also favors the presence of a second massive body in the system, \\toic , with a long period of P_c=1700^{+290}_{-280}~days and a minimum mass of m_{c}\\sin{i_c}=11.3^{+1.1}_{-0.9}~\\Mjup , and with a highly-eccentric orbit of e_c=0.628^{+0.043}_{-0.036}.}{The \\toi  planetary system is one of the few around K-dwarfs known to have this extended configuration going from a very close-in planet to a wide-separation gaseous giant. \\toib  has a transmission spectroscopy metric of 93, and it orbits a moderately bright (G=11.3 mag) star, thus becoming an excellent target for atmospheric studies. The architecture of this planetary system can also new valuable information about migration and formation of planetary systems.}$\n",
       "$   \\keywords{Planets and Satellites: detection, fundamental parameters -- Techniques: radial velocities -- Stars: individual: TOI-969}$\n",
       "$\t\\titlerunning{TOI-969}$\n",
       "$\t\\authorrunning{Lillo-Box et al.}$\n",
       "$   \\maketitle$\n",
       "$\\section{Introduction}$\n",
       "$So far, 860 multi-planetary systems (with two or more planets) around stars other than the Sun have been found hosting a total of 2050 planets according to the NASA Exoplanet archive \\citep{akeson13} to date. In contrast to our Solar System, the components of most of these known multi-planet systems reside in close-in compact configurations \\citep[e.g.,][]{gillon16}, mainly biased by the observational techniques. This is especially relevant in the case of late-type stars, with effective temperatures below 4600 K, for which 90\\% of multi-planetary systems have all their detected planets interior to the snow line (the distance from the parent star within which volatiles can condense into ice grains), and 91\\% of the known long-period planets are massive and isolated \\citep{lillo-box22}. Only a small number of systems in this stellar regime show components on both sides of the snow line (e.g., WASP-107 by \\citealt{anderson17,piaulet20}, or GJ 1148 by \\citealt{trifonov18}). This is a clear fingerprint of the planet migration and formation history. Thus finding new systems covering these regimes is an important step towards comprehending planetary histories.$\n",
       "$Exoplanet exploration has also revealed different exoplanet populations, including zones in the parameter space where there is a clear dearth of extrasolar planets. One of the most intriguing is the hot-Neptune desert \\citep{szabo11,owen18}, a newcommandicit of icy to sub-Jovian planets (R_p \\sim 2-10\\Rearth) at close-in orbits (P<5 days). Several theories have been proposed to explain the emptiness of this region, such as atmospheric mass loss of low-mass gaseous giants unable to retain their atmospheres due to the strong stellar irradiation suffered along their inward migration \\citep{lopez14,owen13}; a consequence of the core accretion scenario in forming gas giants more preferentially than Neptune-like planets \\citep[e.g.,][]{ida08}; or a faster migration of the lowest-mass end of gas giants preventing them to accrete large amounts of gas \\citep{flock19}.$\n",
       "$Interestingly, both the Kepler \\citep{borucki10} and TESS (Transiting Exoplanet Survey Satellite, \\citealt{ricker14}) missions, assisted by ground-based follow-up observations, have sparsely populated this desert with planets displaying unusual properties. Two clear examples of this are TOI-849 b \\citep{armstrong20} and LTT 9779 b \\citep{jenkins20}, two ultra-short period planets in the middle of the hot-Neptune desert. The advantage of the planets detected by TESS in this regime is that they usually orbit stars much brighter than those detected by Kepler. This, combined with the transiting nature of these detections and the precise masses achievable due to their proximity to their host star, opens the possibility to study their interior properties (through internal structure analysis, e.g., \\citealt{delrez21}) and composition with the James Webb Space Telescope (JWST, \\citealt{gardner06}).$\n",
       "$In this paper, we present the confirmation and characterization of the planetary system \\toi  (also known as TIC 280437559, TYC 183-755-1, Gaia DR3 3087206553745290624), composed of at least two very distinct companions and whose architecture and properties of the individual components may be a test bench to study theories of planet formation and migration in the cool regime of solar-like stars. The inner component, a short-period mini-Neptune, was detected by the TESS mission. The outer component is an eccentric massive body in the boundary between planet and brown dwarf domain orbiting with a long orbital period beyond the snow line that we report here for the first time. In Sect.~\\ref{sec:observations}, we describe the observations from different instruments and the techniques that have been used to characterize the system. In Sect.~\\ref{sec:StePar}, we use these observations to constrain the stellar parameters and in Sect.~\\ref{sec:Analysis} to unveil the properties of the planetary system. We discuss the results of this analysis in Sect.~\\ref{sec:Discussion}, and we finish in Sect.~\\ref{sec:Conclusions} by providing our final conclusions.$\n",
       "$\\section{Observations}$\n",
       "$\\label{sec:observations}$\n",
       "$\\subsection{High-precision photometry}$\n",
       "$\\label{sec:Obs.Phot}$\n",
       "$\\subsubsection{TESS}$\n",
       "$\\label{sec:tess}$\n",
       "$Observations of \\toi  are available in sectors 7 (from Cycle 1) and 34 (Cycle 3), in both cases with camera \\#1. In the case of Sector 7 the cadence of the time series correspond to 1800 s while in the case of {Sector 34} a cadence of 600 s is available. We downloaded the light curve files from the MAST archive\\footnote{\\url{https://archive.stsci.edu}} corresponding to the data extraction by the TESS-SPOC pipeline (Caldwell et al 2020), which uses the same codebase as the Science Processing Operations Center (SPOC; \\citealt{jenkins16}). We use the Presearch Data Conditioned Simple Aperture Photometry (PDCSAP; \\citealt{stumpe12,stumpe14,smith12}) flux and remove any data points marked as outliers or having non-numeric values.$\n",
       "$We first inspect the target pixel files (TPF) for each sector by using the \\texttt{tpfplotter} algorithm\\footnote{This code is publicly available in Github through the following URL:  \\url{https://github.com/jlillo/tpfplotter}.} \\citep{aller20} to check for possible contaminant sources within the pipeline aperture. In Fig.~\\ref{fig:TPF} we show the average TPF for each sector. As shown, both sectors include three additional sources in the aperture. However, their magnitude contrast in the Gaia passband are 6.6 mag (source labelled as \\#2 in Fig.~\\ref{fig:TPF}), 6.1 mag (source \\#3) and 7.6 mag (source \\#4). Overall, the contamination coming from these three sources is well below 0.1\\%. Consequently, we assume the flux as originating only from \\toi .$\n",
       "$The photometric time series for both sectors are presented in Fig.~\\ref{fig:TESS} and Table~\\ref{tab:TESSdata}, together with their corresponding Lomb-Scargle periodograms. They show clear large photometric variations that can be attributed to the stellar activity, with the main periodicities around 8 and 12 days. These might be the harmonics of the possible rotation period at 24 days, as we see in the spectroscopic activity indicators (see Sect.~\\ref{sec:Obs.Spec}). Besides, the light curve clearly shows the dips corresponding to the transits of the 1.8-day period planet candidate alerted by the TESS Science Office (see vertical {line marks} in Fig.~\\ref{fig:TESS}).$\n",
       "$\\begin{figure}$\n",
       "$\\centering$\n",
       "$\\includegraphics[width=0.5\\textwidth]{TPF_Gaia_TIC280437559_S7.pdf}$\n",
       "$\\includegraphics[width=0.5\\textwidth]{TPF_Gaia_TIC280437559_S34.pdf}$\n",
       "$\\caption{Target Pixel File (TPF) corresponding to \\toi  observations by the TESS mission in sectors 7 (upper panel) and 34 (lower panel). In both panels, the sources from the Gaia catalog DR3 are shown as red circles, with their size corresponding to the magnitude contrast against \\toi  (marked with the label \"1\" and a white cross). The aperture used by the TESS-SPOC pipeline is shown as a shaded red region on each panel. The figures are computed using the \\texttt{tpfplotter} algorithm by \\cite{aller20}. }$\n",
       "$\\label{fig:TPF}$\n",
       "$\\end{figure}$\n",
       "$\\begin{figure*}$\n",
       "$\\centering$\n",
       "$\\includegraphics[width=1\\textwidth]{TOI969_TESS_timeseries_paper.pdf}$\n",
       "$\\caption{TESS photometric timeseries from sectors \\#7 (left panels) and \\#34 (right panels). Upper panels display the PDCSAP flux and a simple median filter compted trend (blue solid line). The detrended light curves are shown in the lower panels and the transits from \\toib  are marked by {vertical red lines at the bottom of each panel.} }$\n",
       "$\\label{fig:TESS}$\n",
       "$\\end{figure*}$\n",
       "$Based on this alert, we observed the transit of the planet candidate from different ground-based facilities.\\\\subsubsection{LCOGT-MuSCAT3}$\n",
       "$\\label{sec:lco}$\n",
       "$A full transit of \\toib  was observed simultaneously in Sloan g', r', i', and Pan-STARRS z-short bands on UTC 2021 January 08 using the Las Cumbres Observatory Global Telescope \\citep[LCOGT;][]{Brown:2013} 2 m Faulkes Telescope North at Haleakala Observatory on Maui, Hawai'i. The telescope is equipped with the MuSCAT3 multi-band imager \\citep{Narita:2020}. We used the {\\tt TESS Transit Finder}, which is a customized version of the {\\tt Tapir} software package \\citep{Jensen:2013}, to schedule our transit observations. The images were calibrated using the standard LCOGT BANZAI pipeline, and photometric data were extracted using {\\tt AstroImageJ}. The images were mildly newcommandocused and have typical stellar point-spread-functions with FWHM of \\sim 1\\farcs6, and circular apertures with radius 4\\arcsec were used to extract the differential photometry. The apertures exclude essentially all of the flux from the nearest Gaia DR3 neighbor (TIC 280437561) 9\\arcsec northwest of the target (labelled as \\#2 in Fig.~\\ref{fig:TPF}). The transit was detected on target in all four filter bands. The final light curves are presented in Table~\\ref{tab:GBdata}.$\n",
       "$\\subsubsection{MEarth}$\n",
       "$\\label{sec:MEarth}$\n",
       "$One transit of \\toib  was observed using the MEarth-South telescope array \\citep{irwin15} at Cerro Tololo Inter-American Observatory (CTIO), Chile on UT 2020 February 4. Six telescopes were used to obtain photometry of the target star, newcommandocused to half flux diameter (HFD) of 6 pixels, equivalent to 5 arcsec given the pixel scale of 0.84 arcsec/pix.  Exposure times were 60 seconds.  One telescope was used to obtain photometry of any contaminating fainter sources at higher angular resolution, with the target saturated, using the same exposure time.  Observations were gathered starting at evening twilight and continuing until the target set below an airmass of 2.$\n",
       "$Data were reduced using the standard MEarth processing pipeline (e.g. \\citealt{irwin07,berta12}) with a photometric extraction aperture of r = 10 pixels (8.4 arcsec). The light curves contain meridian flips during transit.  These were taken into account in the data reduction by using separate magnitude zero points for each combination of telescope and meridian side to remove residual flat fielding error. The final extracted photometric time series is presented in Table~\\ref{tab:GBdata}.$\n",
       "$\\subsubsection{WASP}$\n",
       "$\\label{sec:wasp}$\n",
       "$The field of \\toi  was observed between 2009 and 2012 by the WASP (Wide Angle Search for Planets) transit-search survey \\citep{wasp}. A total of 14 600 photometric data points were obtained, observing on clear nights when the field was visible with a typical cadence of 15 mins. The 200-mm, f/1.8 Canon lenses were backed by 2kx2k CCDs. \\toi  is five magnitudes brighter than any other star in the 48-arcsec extraction aperture. Table~\\ref{tab:WASPdata} presents the photometric time series. Following the methods described in \\citet{maxted11}, the Lomb-Scargle periodogram of this long-term dataset reveals a signal at a period of 24.6 \\pm 0.6 d, together with power at the 12.3-d first harmonic. The modulation has an amplitude of 8 mmag and has a false-alarm likelihood below 10^{-3}. This signal is similar to that described above in the TESS data, and its origin clearly points to the rotational periodicity of the star {(see Sect.~\\ref{sec:StePar} for a detailed discussion about the stellar rotation period)}.$\n",
       "$\\subsection{High-spatial resolution imaging}$\n",
       "$\\label{sec:Obs.HRim}$\n",
       "$The presence of close stellar companions to a star hosting a planet candidate (either physically bound of chance aligned) can create false-positive exoplanet detections under specific configurations (e.g., eclipsing binaries) or new additional flux leading to an underestimated planetary radius and incorrect exoplanet parameters (see, e.g., \\citealt{lillo-box12,lillo-box14b,ciardi15,furlan17}). Besides the large-separation sources described in the previous section through the analysis of the Gaia EDR3 catalog (\\citealt{gaia21}), we explored the close-in region (<3 arcsec) around the candidate host star to unveil previously unresolved companions through high-spatial resolution images at different wavelengths.$\n",
       "$\\toi  was observed on 2020 January 14 UT using the Zorro speckle instrument on Gemini South \\citep{scott21}. Zorro news simultaneous speckle imaging in two bands (562 nm and 832 nm) with output data products including a reconstructed image and robust contrast limits on companion detections \\citep{howell11,howell16}. The night was clear, had a slight breeze, and good seeing (0.6 to 1.0 arcsec) during the observations. Figure~\\ref{fig:HRimaging} (left panel) shows our limiting magnitude contrast curves and our 832 nm reconstructed speckle image. We find that \\toi  is a single star with no companion brighter than 5 to 8 magnitudes from the diffraction limit out to 1.2 arcsec. At the distance to \\toi  (77~pc, see Sect.~\\ref{sec:StePar}) these angular limits correspond to spatial limits of 1.5 to 92 AU.$\n",
       "$We also observed \\toi  on UT 2019 October 15 using the ShARCS camera on the Shane 3-meter telescope at Lick Observatory \\citep{2012SPIE.8447E..3GK, 2014SPIE.9148E..05G, 2014SPIE.9148E..3AM}. Observations were taken with the Shane adaptive optics system in natural guide star mode in order to search for nearby, unresolved stellar companions. We collected two sequences of observations, one with a K_{\\rm S} filter (\\lambda_0 = 2.150 \\mum, \\Delta \\lambda = 0.320 \\mum) and one with a J filter (\\lambda_0 = 1.238 \\mum, \\Delta \\lambda = 0.271 \\mum), and reduced the data using the publicly available \\texttt{SImMER} pipeline \\citep{2020AJ....160..287S}\\footnote{\\url{https://github.com/arjunsavel/SImMER}}. Our reduced images and corresponding contrast curves are shown in Fig.~\\ref{fig:HRimaging} (central and right panels). We find no nearby stellar companions within our detection limits.$\n",
       "$\\begin{figure}$\n",
       "$\\centering$\n",
       "$\\includegraphics[width=0.5\\textwidth]{HighResImaging_TOI1685_Sensitivity.pdf}$\n",
       "$\\caption{{High-spatial resolution contrast curves for \\toi  from the Zorro speckle instrument on Gemini South (blue curve for the 562 nm band and green curve for the 832 nm band), and the 3m Shane telescope in the J-band (orange) and Ks-band (red). The two dotted lines correspond to 10\\% (upper) and 5\\% (lower) contamination levels in the lightcurve. The dashed line corresponds to the maximum contrast that a blended binary could have to mimic the transit depth of \\toib .}}$\n",
       "$\\label{fig:HRimaging}$\n",
       "$\\end{figure}$\n",
       "$\\subsection{High-resolution spectroscopy}$\n",
       "$\\label{sec:Obs.Spec}$\n",
       "$\\subsubsection{HARPS}$\n",
       "$\\toi  was observed intensively with the HARPS spectrograph (\\citealt{mayor03}) on the ESO 3.6 m telescope at La Silla Observatory, Chile, from 2020 November 10 to 2021 March 24. In total, 66 spectra were obtained under the programmes 1102.C-0249 (PI: Armstrong), and 106.21TJ.001 (PI: Gandolfi). HARPS is a stabilized high-resolution spectrograph with a resolving power of R\\sim115 000, capable of sub-\\ms  RV precision. We used the instrument in high-accuracy mode with a 1 arcsec science fibre on the star and a second fibre on sky to monitor the sky-background during exposure$\n",
       "$RVs were determined with the standard (online) HARPS data reduction pipeline using a K5 binary mask for the cross-correlation (\\citealt{pepe02}), and a K5 template for flux correction to match the slope of the spectra across Echelle orders. With a typical signal-to-noise ratio (SNR) per pixel of 30, we achieved an RV precision of 2.5~\\ms . For each epoch the bisector span (BIS), contrast, and full width at half-maximum (FWHM) of the CCF were calculated, as well as the chromospheric activity indicators CaII H\\&K, H\\alpha, and Na. These RVs and the activity indicators are presented in Table~\\ref{tab:RVdata}. We clearly detect an RV signal for \\toib , as well as an additional long term trend (see Fig.~\\ref{fig:RVresult}). When removing the latter signal from a simple Keplerian fit (a linear or quadratic fit is not enough to remove the long-term variability), the Lomb-Scargle periodogram of the HARPS measurements (see Fig.~\\ref{fig:RVperiodogram}) shows three peaks at around 8, 12, and 24 days, compatible to those seen in the WASP photometric data (see Sect.~\\ref{sec:wasp}{and the the periodogram in the WASP panel of Fig.~\\ref{fig:RVperiodogram}}). Indeed, these periodicities appear as well in the activity indicators corresponding to the full-width at half-maximum of the CCF and the bisector span (third and fourth panels in Fig.~\\ref{fig:RVperiodogram}, respectively). The signal of \\toib  is not statistically significant in the periodogram of this dataset (False Alarm Probability of FAP>10\\%) alone but a clear peak at the 1.8 days periodicity clearly stands above other signals.$\n",
       "$\\begin{figure*}$\n",
       "$\\centering$\n",
       "$\\includegraphics[width=1\\textwidth]{99_TOI969_2p1cFROT__RV_RV+GP_jd.pdf}$\n",
       "$\\caption{Radial velocity time series and model inference from the joint radial velocity and light curve analysis in Sect.~\\ref{sec:joint}, including the GP noise (blue dashed line) and full RV model (black solid line for the median posterior model and gray shaded regions for 68.7\\% - in dark gray- and 99.7\\% - in light gray- confidence intervals). }$\n",
       "$\\label{fig:RVresult}$\n",
       "$\\end{figure*}$\n",
       "$\\begin{figure}$\n",
       "$\\centering$\n",
       "$\\includegraphics[width=0.5\\textwidth]{TOI969_activity_periodogram_freq.pdf}$\n",
       "$\\caption{Periodogram of the radial velocity and activity indicators time series of the HARPS dataset. Panel (a) corresponds to the original RV time series, while panel (b) corresponds to the time series after a simple linear detrending. In panel (c) we include an additional linear detrending corresponding to the activity indicator most correlated with the RVs (in this case the BIS-span). Panels (d)-(e) include the periodogram of the full-width at half maximum (FWHM) of the cross-correlation function and the bisector span, respectively. Finally, in the bottom panel, we show the window function corresponding to the HARPS sampling. The periodicity corresponding to \\toib  and \\toic  are shown as vertical dotted lines in all panels. The stellar rotation period and its first two harmonics are shown as dashed vertical lines. }$\n",
       "$\\label{fig:RVperiodogram}$\n",
       "$\\end{figure}$\n",
       "$\\subsubsection{PFS}$\n",
       "$We observed \\toi  with the Planet Finder Spectrograph \\citep[PFS;][]{Crane:2006,Crane:2008,Crane:2010}, which is mounted on the 6.5 m Magellan II (Clay) Telescope at Las Campanas Observatory in Chile. PFS is a slit-fed echelle spectrograph with a wavelength coverage of 3910-7340 \\AA. We used a 0.3\\arcsec slit and 3 \\times 3 binning, which yields a resolving power of R \\approx 110,000. Wavelength calibration is achieved via an iodine gas cell, which also allows characterization of the instrumental profile. We obtained 10 spectra, observed through iodine, between UT 2020-Oct-27 and 2021-Jan-02. Exposure times ranged from 20 to 30 minutes. We also obtained an iodine-free template observation with a 90-minute exposure time. The radial velocities were extracted using a custom IDL pipeline following the prescriptions of \\citet{Marcy:1992} and \\citet{Butler:1996}, and achieved a mean internal precision of 1.2 {\\rm m s}^{-1}. The velocities are presented in Table~\\ref{tab:RVdata} and Fig.~\\ref{fig:RVresult}.$\n",
       "$\\subsubsection{CORALIE}$\n",
       "$TOI-969 was monitored by the CORALIE high-resolution echelle spectrograph mounted on the 1.2 m Euler telescope at La Silla Observatory~\\citep{coralie}. 22 spectra were obtained between UT 2021-02-13 and 2022-04-15 each with SNR of 10-20, depending on sky-conditions and exposure time which was set between 1800 and 2700 seconds. The spectrum corresponding to the night of 2022-01-16 was discarded due to high contamination from the Moon. Radial velocity measurements were extracted by cross-correlating each spectra with a binary G2 mask \\citep{baranne96}, using the standard CORALIE data-reduction pipeline. Given the relatively low SNR, a modest RV precision of 30-50~\\ms  was achieved. Line-shape diagnostics such as bisector-span and FWHM were derived for the cross-correlation function (CCF).$\n",
       "$The extracted radial velocities and associated uncertainties as well as the corresponding activity indicators obtained from the CCF analysis are presented in Table~\\ref{tab:RVdata}.$\n",
       "$\\section{Stellar parameters}$\n",
       "$\\label{sec:StePar}$\n",
       "$\\toi  is a moderately bright (V=11.6, \\citealt{hog00}) star in the late-K dwarf regime. Table~\\ref{tab:basic} summarises the main properties of this star. According to the Gaia (\\citealt{gaia}) EDR3 data release \\citep{gaiaDR3}, this star is located at a distance of 77.82\\pm0.14 pc (corresponding to a parallax of 12.849\\pm0.023 mas, \\citealt{lindegren20}). Based on the \\textit{Gaia} proper motions, we determine the projected galactic velocities of \\toi  (see Table~\\ref{tab:basic}) and we conclude by using the relations from \\cite{bensby03} that this star likely belongs to the galactic thin disk (with a probability 10^3 times higher than belonging to the thick disk and more than 10^4 times higher than belonging to the halo).$\n",
       "$We derived the spectroscopic stellar parameters (T_{\\mathrm{eff}}, \\log g, microturbulence, [Fe/H]) by using the HARPS spectra and ARES+MOOG code, following the same methodology described in \\cite{sousa14} and \\cite{santos13}. The equivalent widths (EW) of iron lines were measured on the combined HARPS spectrum of \\toi  using the ARES code\\footnote{The last version of ARES code (ARES v2) can be downloaded at \\url{https://github.com/sousasag/ARES}} \\citep{sousa07,sousa15}. The best set of spectroscopic parameters was found when we reach the ionization and excitation equilibrium. This process makes use of a grid of Kurucz model atmospheres \\citep{Kurucz-93} and the radiative transfer code MOOG \\citep{Sneden-73}. Since the star is cooler than 5200~K we used the appropriate iron linelist for our method presented in \\citet[][]{Tsantaki-2013}. Following the same methodology as described in \\citet[][]{sousa21}, we used the \\textit{Gaia} EDR3 parallax and estimated the trigonometric surface gravity to be \\log{g}= 4.55 \\pm 0.06~dex. Stellar abundances of the elements were derived using the classical curve-of-growth analysis method assuming local thermodynamic equilibrium \\citep[e.g.][]{adibekyan12,adibekyan15}. The same codes and models were used for the abundance determinations. {Finally, the mass, radius, and age of the star were derived using the \\texttt{PARAM 1.3} web-interface\\footnote{\\url{http://stev.oapd.inaf.it/cgi-bin/param\\_1.3}} \\citep[][]{daSilva06} using our spectroscopic parameters as input values}. The results from this analysis are shown in Table~\\ref{tab:StePar} (second column).$\n",
       "${We use the S-index newd by the HARPS DRS and calibrated to the Mount Wilson scale \\citep{vaughan78} to determine the \\log{R^{\\prime}_{HK}} for each of the individual spectra. We obtain an average value of -4.381 \\pm 0.002 dex with a dispersion of 0.026 dex. This dispersion is significantly larger than the uncertainty of the individual measurements which points to certain level of activity. Indeed, in the periodogram of the \\log{R^{\\prime}_{HK}} time series (see corresponding panel of Fig.~\\ref{fig:RVperiodogram}), a clear peak at 24.6 days stands out, again pointing to this periodicity as the rotaton period of the star. We can use the average value of the \\log{R^{\\prime}_{HK}} to estimate the rotation period of the star. Given the B-V color of this star being 1.09\\pm0.33 mag, we can apply the \\cite{noyes84} activity-rotation relationships through the \\texttt{pyrhk} code \\citep{daSilva06} and using the \\cite{middelkoop82} bolometric corrections. Following this, we obtain a rotation period of 9.9 \\pm 3.2 days. If we instead use the empirical relations from \\cite{suarez-mascareno16} for K-dwarfs, we obtain a rotation period of 9.5 \\pm 1.0 days, compatible with the previous value. Hence, the activity-rotation empirical relations point to a period shorter than the one measured from the {periodogram of the} activity indicators {(see Sect.~\\ref{sec:Obs.Spec} and panels 3-5 in Fig.~\\ref{fig:RVperiodogram})} and the photometric time series from WASP {(see Sect.~\\ref{sec:wasp} and panel 6 in Fig.~\\ref{fig:RVperiodogram})}. As an additional test, we computed the \\vsini  of from the HARPS spectrum and obtained a value of 2.87 +/- 0.37 \\kms . Assuming an inclination of 90^{\\circ}, this corresponds to a rotation period for this star of 12.1 \\pm 1.7 days, again compatible within the uncertainties with the previous results from empirical relations. {For a rotation period of around 24 days, and assuming the same spin axis inclination of 90^{\\circ}, we obtain a projected rotation velocity of around 1.3 \\kms .}$\n",
       "$We then warn that for very slow rotating stars (\\vsini < 3 ~\\kms ), measuring accurate \\vsini  values is a difficult task and our determination should be taken with care. Consequently, the rotation period of the star is unclear from the present data. In our analysis, we will assume the rotation period is P_{\\rm rot}=24.6 \\pm 0.6 days but we will account for the power at 12.3 days in the different indicators and empirical relations by using a rotation kernel which also accounts for P_{\\rm rot}/2. }$\n",
       "${We can now use gyrochronology to estimate the age of the system. By applying the \\cite{angus19} relations through the \\texttt{stardate}\\footnote{\\url{https://github.com/RuthAngus/stardate}} code, we obtain an age of 2.03 \\pm 0.17~Gyr when assuming P_{\\rm rot}=24.6 \\pm 0.6 and the Gaia B_p-R_p color of 1.42 mag \\cite{gaia21}. If we use the 12.3 days rotation period obtained from the \\vsini , we then obtain an age of 670~\\pm~150~Myr. Given this young age estimation in the second case, we checked for the presence of lithium in the HARPS spectra and found none within the sensitivity limits. However, for this effective temperature it is expected that the Li has already been depleted at such age, so we cannot discard this young estimation based on the absence of lithium.}$\n",
       "$As an independent determination of the basic stellar parameters, we performed an analysis of the broadband spectral energy distribution (SED) of the star together with the {\\it Gaia\\/} EDR3 parallax \\citep[with no systematic offset applied; see, e.g.,][]{stassun21}, in order to determine an empirical measurement of the stellar radius, following the procedures described in \\cite{stassun16,stassun17,stassun18}. We pulled the B_T V_T magnitudes from {\\it Tycho-2}, the JHK_S magnitudes from {\\it 2MASS}, the W1--W4 magnitudes from {\\it WISE}, the G_{\\rm BP} G_{\\rm RP} magnitudes from {\\it Gaia}, and the NUV magnitude from GALEX. Together, the available photometry spans the full stellar SED over the wavelength range 0.2--22~\\mum (see Figure~\\ref{fig:sed}).$\n",
       "$We performed a fit using NExtGen stellar atmosphere models, with the free parameters being the effective temperature (T_{\\rm eff}) and metallicity ([Fe/H]). The remaining free parameter is the extinction A_V, which we fixed at zero due to the star's proximity. The resulting fit (Figure~\\ref{fig:sed}) has a reduced \\chi^2 of 1.1, excluding the GALEX NUV flux which indicates a moderate level of activity (see below). Integrating the (unreddened) model SED gives the bolometric flux at Earth, F_{\\rm bol} = 9.45 \\pm 0.11 \\times 10^{-10} erg~s^{-1}~cm^{-2}. Taking the F_{\\rm bol} and T_{\\rm eff} together with the {\\it Gaia\\/} parallax, we estimate the stellar radius; and using the empirical relations of \\citet{torres10} and of \\citet{Mann:2020} we estimate the stellar mass. All these values agree with spectroscopically derived parameters within the uncertainties and are reported in Table~\\ref{tab:StePar} (third column).$\n",
       "$\\begin{figure}$\n",
       "$\\centering$\n",
       "$\\includegraphics[width=0.50\\textwidth]{toi_969_sed.pdf}$\n",
       "$\\caption{Spectral energy distribution of TOI-969. Red symbols represent the observed photometric measurements, where the horizontal bars represent the effective width of the passband. Blue symbols are the model fluxes from the best-fit NextGen atmosphere model (black).}$\n",
       "$\\label{fig:sed}$\n",
       "$\\end{figure}$\n",
       "$\\begin{table}[]$\n",
       "$\\setlength{\\extrarowheight}{3pt}$\n",
       "$\\caption{\\label{tab:basic} General and dynamical properties of  \\toi  obtained in this work.}$\n",
       "$\\begin{tabular}{lll}$\n",
       "$ \\hline$\n",
       "$Parameter & Value & Ref.^{\\dagger} \\\\hline$\n",
       "$IDs & \\toi , TIC 280437559, \\&  TYC 0183-00755-1 \\Gaia EDR3 ID & 3087206553745290624  &[1] \\RA, DEC & 07:40:32.8, 02:05:54.92 &[1]\\Parallax (mas) &12.849\\pm0.023    & [1]\\Distance (pc) &77.82\\pm0.14 & [1, 3] \\\\mu_{\\alpha} (mas/yr) & -34.040\\pm 0.025  & [1]\\\\mu_{\\delta} (mas/yr) & -77.949\\pm 0.018  & [1]\\RV (km/s) &-5.789 \\pm 0.040  &  [3] \\G (mag) & 11.27  &[1]\\B_p-R_p (mag) & 1.46  &  [1]\\J (mag) &9.596\\pm0.026 & [2] \\Ks (mag) &8.879\\pm0.023 & [2] \\U (km/s) & 20.855 &[3], Sect.~\\ref{sec:StePar}\\V (km/s) & -2.101 &[3], Sect.~\\ref{sec:StePar} \\W (km/s) & -18.526 &[3], Sect.~\\ref{sec:StePar}\\Gal. population & Thin disk &[3], Sect.~\\ref{sec:StePar} \\\\hline$\n",
       "$\\end{tabular}$\n",
       "$\\tablebib{$\n",
       "$[1] \\cite{gaia};$\n",
       "$[2] \\cite{cohen03};$\n",
       "$[3] This work;$\n",
       "$[4] \\cite{mann15}.$\n",
       "$}$\n",
       "$\\end{table}$\n",
       "$\\begin{table}[]$\n",
       "$\\setlength{\\extrarowheight}{3pt}$\n",
       "$\\caption{\\label{tab:StePar} Stellar physical properties of \\toi .}$\n",
       "$\\begin{tabular}{lll}$\n",
       "$\\hline$\n",
       "$Parameter & Spec.\\tablefootmark{a} & SED\\tablefootmark{b}  \\\\hline$\n",
       "$T_{\\rm eff} (K) & 4435\\pm80 & 4550\\pm 75 \\\\log{\\rm g} (dex)& 4.55\\pm0.06 & - \\{\\rm[Fe/H]} (dex) & 0.175\\pm 0.019 & - \\M_{\\star} (\\Msun ) & 0.734 \\pm 0.014 & 0.730 \\pm 0.037 \\R_{\\star} (\\Rsun ) & 0.671 \\pm 0.015& 0.681 \\pm 0.023 \\\\log{R^{\\prime}_{HK}} & -4.381 \\pm 0.026 & - \\Age (Gyr),\\texttt{PARAM1.3} & 4.761 \\pm 4.187 & - \\Age (Gyr), gyro  &2.03 \\pm 0.17 & - \\\\rm[Mg/H] (dex) & 0.17 \\pm 0.15 & - \\\\rm[Si/H] (dex) & 0.17 \\pm 0.13 & - \\\\hline$\n",
       "$\\end{tabular}$\n",
       "$\\tablefoottext{a}{Parameters obtained from spectroscopic analysis.}$\n",
       "$\\tablefoottext{b}{Parameters obtained from analysis of the spectral energy distribution.}$\n",
       "$\\end{table}$\n",
       "$\\section{Analysis and results}$\n",
       "$\\label{sec:Analysis}$\n",
       "$Due to the complexity of the system and the large amount of data in hand, we first perform an analysis to the individual datasets, namely the TESS light curve (Sect.~\\ref{sec:TESSanalysis}) and to the radial velocity (Sect.~\\ref{sec:RVanalysis}). From those independent analyses we obtain the relevant information about the models to be tested in the final joint (light curves and radial velocity) analysis in Sect.~\\ref{sec:joint} as well as parameter ranges to appropriately set up the priors in this more complex and computationally expensive joint model.$\n",
       "$\\subsection{Light curve analysis}$\n",
       "$\\label{sec:TESSanalysis}$\n",
       "$We first inspect the photometric data through an independent analysis of the TESS and LCOGT light curves. Our model is composed of a transit model assuming a single planet in the system (the one with the detected transits), newcommandined by the period (P_b), a time of inferior conjunction (T_{0,b}), the orbital inclination (i_b), the planet radius (R_{\\rm b}), and the stellar mass (M_{\\star}) and radius (R_{\\star}). The latter are used to check for possible phase curve variation effects like the ellipsoidal, Doppler beaming and reflection effects (which in turn are all negligible in this case). We use the limb-darkening parametrization described in \\cite{kipping13} and apply the quadratic law with a pair of parameters per instrument and bandpass (u_{\\rm 1,j}, u_{\\rm 2,j}). Besides, we assume a photometric jitter and offset for each instrument (\\sigma_j and F_{\\rm 0,j}, respectively). Finally, in the case of the ground-based observations, we use the pre-detrended time series and use a linear detrending with the airmass within our model by including a slope per bandpass for the LCOGT observations (m_{\\rm X,j}).$\n",
       "$In order to account for the stellar variability seen in the TESS sectors, we also include a Gaussian Process (GP) with a {kernel composed of a mixture of harmonic oscillators designed to model stellar rotation and implemented in the \\texttt{celerite2} \\citep{celerite1,celerite2} package as the term named \\texttt{RotationTerm}. One of the harmonic oscillators is devoted to the rotation period and the other one to half of the rotation period. This kernel includes five hyperparameters, namely an amplitude (\\eta_{\\sigma,LC}), a periodicity (\\eta_{\\rho}), a quality factor for the second oscillator (\\eta_{{\\rm Q}_0}), a difference between the two quality factors of both oscillators (\\eta_{\\delta{\\rm Q}}), and a factor representing the relevance of one oscillator against the other (\\eta_{f}).}$\n",
       "$Based on this model including {35} parameters, we explore the parameter space informed by the observed time series by using the Monte-Carlo Markov Chain (MCMC) affine-invariant ensamble sampler \\texttt{emcee} \\citep{emcee}. We launch our MCMC with {140} walkers (four times the number of parameters) and a total 100 000 steps per walker. {The priors for all parameters are detailed in Table~\\ref{tab:LCalone}}. We use Gaussian priors for the orbital period and time of mid-transit as published by the TESS alert and using a broad standard deviation corresponding to five times the published uncertainty on these values. Gaussian priors are also used for the limb-darkening coefficients, with the mean value corresponding to the derived value using the \\texttt{limb-darkening} code by \\cite{espinoza15} using the ATLAS models and the stellar properties derived in Sect.~\\ref{sec:StePar}; and a standard deviation of 0.1. The stellar mass and radius priors are also included as Gaussian distributions with the parameters described in Sect.~\\ref{sec:StePar}. The priors for the rest of the parameters are set to uniform distributions within the ranges stated in Table~\\ref{tab:LCalone}.$\n",
       "$We perform a first burn-in phase with the previously mentioned setup. Subsequently, we use the maximum a posteriori set of parameters from this first phase to start a second chain initialised at those values and running for half the number of steps than in the first phase (i.e., 50 000 steps per walker). The posterior distributions are computed by using the full chains from the second phase. The median and 68.7\\% credible interval for each parameter are shown in Table~\\ref{tab:LCalone}.$\n",
       "$The phase-folded light curves showing the median transit models from this analysis are shown in Fig.~\\ref{fig:LCanalysis}.$\n",
       "$\\begin{figure*}$\n",
       "$\\centering$\n",
       "$\\includegraphics[width=1\\textwidth]{TOI969_LCsummary_fit.pdf}$\n",
       "$\\caption{Phase-folded light curves from \\toi  after removing the GP for the TESS data and the linear dependency for the LCOGT dataset. Left panels show the individual phase-folded light curves per instrument and the corresponding joint model. Black symbols correspond to 9-minute bins. Right panels show the residuals from the joint model.}$\n",
       "$\\label{fig:LCanalysis}$\n",
       "$\\end{figure*}$\n",
       "$\\subsection{Radial velocity}$\n",
       "$\\label{sec:RVanalysis}$\n",
       "$We now use the radial velocity dataset described in Sect.~\\ref{sec:Obs.Spec} as well as the input information from the previous TESS analysis to scrutinize the Doppler information.$\n",
       "$To that end, we first build our model, which is composed of N Keplerians, each of them potentially including an orbital period (P_i), a time of inferior conjunction (T_{0,i}), a radial velocity semi-amplitude (K_i), and in the case of non-circular orbit models we also add eccentricity (e_i) and the corresponding argument of the periastron (\\omega_i). Additionally, our models can include a slope (m) to account for possible linear trends (when this slope is assumed zero we include an \"F\" - for flat- in the model labels) and a quadratic trend (when this is added a \"Q\" is added to the model label). We also include a radial velocity offset per instrument (\\gamma_j) and a jitter per instrument to account for all systematics not taken into account in the model (\\sigma_j). In our analysis we test models that aim to account for the radial velocity variations caused by the stellar activity (potentially relevant as seen in the previous section in the TESS light curve) through Gaussian Process (GP) informed by an activity indicator. Based on the radial velocity periodogram presented in Sect.~\\ref{sec:Obs.Spec}, the bisector span seems to match the radial velocity variations in a similar manner, showing strong periodicities at similar frequencies. This does not happen with the FWHM, which does not show significant variations other than a long-term periodicity. Hence, we use the BIS-span indicator to inform the GP about the activity-induced component of the radial velocity. Correspondingly, for each instrument, we add an offset (\\gamma_{\\rm BIS,j}) and a jitter (\\sigma_{\\rm BIS,j}).$\n",
       "$We include a GP for the RVs and a GP for the BIS-span, both sharing all parameters except the amplitude of the kernel. We use the \\texttt{celerite2} \\citep{celerite1,celerite2} implementation to build the GPs and we choose the \\texttt{RotationTerm} kernel (see Sect.~\\ref{sec:TESSanalysis}) to account for the stellar activity. All hyper-parameters but the amplitude one (\\eta_{\\sigma}) are shared between the RV and BIS-span GPs.$\n",
       "${The prior distributions used in this analysis are summarised in Table~\\ref{tab:RValone}.} Uninformative priors were generally used in most of the parameters involved in our model, except in some cases. We used Gaussian priors for the orbital period and mid-transit time for \\toib  centered at the values coming from the transit analysis from the previous section. This is because the precision in those parameters achievable with the transit method is higher than with RVs. We used log-uniform priors for the orbital period of the long-period candidate and the RV and BIS jitter, as well as for the amplitude hyper-parameters of the GP (\\eta_{\\sigma ,FWHM} and \\eta_{\\sigma}). Finally, given the discussion presented in Sect.~\\ref{sec:StePar}, we opted for a Gaussian prior on the hyper-parameter related to the rotation period of the star.$\n",
       "$The parameter space is explored by using \\texttt{emcee}. We use a number of walker equal to four times the amount of free parameters and 100 000 steps per walkers in a first burnout phase. The maximum a posteriori model from this first phase is selected as the initial guess for the final production, which now contains 100 000 steps and the same number of walkers as the initial phase. The convergence of the chains is checked by estimating the autocorrelation time and the corresponding chain length, with the latest being at least 20 times longer than the autocorrelation time to consider convergence. We then use 15\\% of the final flattened chain (typically composed of 10^5-10^6 elements) to estimate the Bayesian evidence of each model (\\ln{\\mathcal{Z}_i}) and its corresponding uncertainty through the \\texttt{perrakis} implementation\\footnote{\\url{https://github.com/exord/bayev}. A python implementation by R. D\\'iaz of the formalism explained in \\cite{perrakis14}.} \\citep{diaz16}.$\n",
       "$\\begin{figure*}$\n",
       "$\\centering$\n",
       "$\\includegraphics[width=1\\textwidth]{evidence_comparison_TOI969.pdf}$\n",
       "$\\caption{Comparison of the logarithm of the Bayesian evidence (\\mathcal{B} \\equiv \\ln{\\mathcal{Z}}) for the different tested models (labelled in the X axis) in the case of the RV-only analysis (Sect.~\\ref{sec:RVanalysis}). The label for the models correspond to Xp[P_ic][Z], where X is the number of planets assumed in the system, P_ic are the identifiers of the planets with assumed circular orbits, and Z indicates whether we are using a flat (F) slope (i.e., assuming slope = 0) or a quadratic (Q) trend. The gray shaded region displays the region of \\Delta \\mathcal{Z} = -6 from the larger evidence model showing its strength against simpler models. }$\n",
       "$\\label{fig:RVmodelcomp}$\n",
       "$\\end{figure*}$\n",
       "$ The preliminary analysis of the data already revealed the presence of different signals (see Sect.~\\ref{sec:Obs.Spec}). Consequently, we test models with different number of planets, each potentially having either circular (fixed values for e_i=0 and \\omega_i=90^{\\circ}) or eccentric orbits. We also tested different types of trends, from the simplest linear trend (including a slope parameter) to a quadratic one (including a quadratic term) for the case of no planets (labelled as \"0p*\") and one-planet (\"1p*\") models. In total, 21 models with different levels of complexity are tested (from 0 to 3 planets). The labelling for the models follows the nomenclature Xp[P_ic][Z], where X is the total number of planets assumed in the system, P_ic are the identifiers of the planets with assumed circular orbits (e.g. \"2p1c2c\" if both planets \"1\" and \"2\" are assumed in circular orbits; or \"2p1c\" if only planet \"1\" is assumed in circular orbit), and the latter letter (\"[Z]\") indicates whether we are using a flat (\"F\") slope (i.e., assuming slope = 0) or a quadratic (\"Q\") trend.$\n",
       "$ The Bayesian evidence is then used to select the simplest model that best represents our data. This is done by sorting the models by complexity and selecting the one with the highest evidence, assuming that a difference of 6 in logarithmic space (i.e., \\mathcal{B} = \\Delta \\ln{\\mathcal{Z}}> 6, \\citealt{trotta08}) corresponds to a strong evidence in favor of the more complex model. Figure~\\ref{fig:RVmodelcomp} shows this log-evidence for each of the 21 models. From this, we see that the model with a flat slope and two components in eccentric orbits (\"2pF\") has the largest evidence. However, the odds against the simpler model with the inner component in a circular orbit \"2p1cF\" is still not significant and we choose the latter as the preferred model informed by the current dataset. The evidence of this model against the no-planet model and the one-planet model is significantly larger (\\mathcal{Z}_{\\rm 2p1cF}- \\mathcal{Z}_{\\rm 0p*} > +46 and \\mathcal{Z}_{\\rm 2p1cF}- \\mathcal{Z}_{\\rm 1p*} > +33) thus supporting the existence of another Keplerian signal in the system other than the transiting planet. On the other side, the \"2p1cF\" model also has significantly larger evidence than the more complex three-planet models (\\mathcal{Z}_{\\rm 2p1cF}- \\mathcal{Z}_{\\rm 3p*} > +31). The phase-folded radial velocity curves of both components for the preferred model \"2p1cF\" are shown in Fig.~\\ref{fig:RVphase_b}$\n",
       "$ The posterior distributions of all parameters involved in this analysis are presented in Table~\\ref{tab:RValone}.$\n",
       "$\\begin{figure*}$\n",
       "$\\centering$\n",
       "$\\includegraphics[width=0.48\\textwidth]{99_TOI969test_2p1cF__PaperPlotPhase_pl1.pdf}$\n",
       "$\\includegraphics[width=0.48\\textwidth]{99_TOI969test_2p1cF__PaperPlotPhase_pl2.pdf}$\n",
       "$\\caption{Phase-folded radial velocity data from \\toib  (left) and \\toic  (right) after removing the signal from the other component in the system and the GP noise for the selected model (labelled \"2p1cF\") from the radial velocity analysis (see Sect.~\\ref{sec:RVanalysis}). For \\toib  we just include HARPS and PFS data while removing CORALIE for clarity reasons given the larger uncertainties for that dataset. The gray shaded regions correspond to the region covered by models within 68.7\\% (dark gray) and 95\\% (light gray) of the confidence interval.}$\n",
       "$\\label{fig:RVphase_b}$\n",
       "$\\end{figure*}$\n",
       "$\\subsection{Joint analysis}$\n",
       "$\\label{sec:joint}$\n",
       "$We use the previous individual analysis of the light curve and radial velocity datasets as exploratory studies of the parameter space and for model comparison purposes. Based on the results obtained in these preliminary analysis, we now run a joint model including both the radial velocity and photometric light curves, from which we will obtain the final parameters of the system. In this case, the planetary and orbital parameters are parameterized to include the shared information between both techniques. That is, the Keplerians are modeled by a planet period, time of mid-transit, planet mass (m_i) and radius (R_i), orbital inclination (i_i), eccentricity and argument of the periastron. Besides this, as detailed in Sect.~\\ref{sec:TESSanalysis} and Sect.~\\ref{sec:RVanalysis}, we use the \\texttt{RotationTerm} kernel with shared hyper-parameters (except for the amplitude) for the TESS light curves, radial velocity and BIS-span time series.$\n",
       "$We proceed in a similar fashion as explained in Sect.~\\ref{sec:RVanalysis} to explore the parameter space of this joint analysis. We reach convergence of the chains under this strategy and {confirm the planetary nature of the inner component and place the second component in the planet-to-brown-dwarf transition}. Unfortunately, the TESS observations do not cover the conjunction time of \\toic  and consequently we cannot conclude on its transiting nature. The final set of parameters (including the absolute mass for \\toib ) are presented in Table~\\ref{tab:joint} and a summary of the main properties of the two  components is presented in Table~\\ref{tab:JointSummary}.$\n",
       "$\\begin{table}$\n",
       "$\\setlength{\\extrarowheight}{3pt}$\n",
       "$\\centering$\n",
       "$\\caption{Summary of the posterior distributions of the main physical and orbital properties of \\toib  and \\toic  from the joint analysis (Sect.~\\ref{sec:joint}).}$\n",
       "$\\label{tab:JointSummary}$\n",
       "$\\begin{tabular}{ll}$\n",
       "$\\hline\\hline$\n",
       "$\\multicolumn{2}{l}{\\it \\toib }  \\\\hline$\n",
       "$Orbital period, P_b [days]  & 1.8237305^{+0.0000020}_{-0.0000021} \\Time of mid-transit,T_{\\rm 0,b} [days]  & 2459248.37709^{+0.00036}_{-0.00039} \\Planet mass,M_b [\\Mearth ]  & 9.1^{+1.0}_{-1.0} \\Orbital inclination,i_{\\rm b} [deg.]  & 86.75^{+0.38}_{-0.41} \\Planet radius,R_b [\\Rearth ] & 2.765^{+0.088}_{-0.097} \\Planet density,\\rho_{b} [g\\cdot cm^{-3}]  & 2.34^{+0.39}_{-0.34} \\Transit depth,\\Delta_{b} [ppt]  & 1.435^{+0.043}_{-0.043} \\Orbit semi-major axis,a_{b} [AU]  & 0.02636^{+0.00017}_{-0.00017} \\Relative orbital separation,a_{b}/R_{\\star}  & 8.47^{+0.21}_{-0.21} \\Transit duration,T_{\\rm 14,b} [hours] & 1.519^{+0.018}_{-0.018} \\Planet surface gravity,g_{\\rm b} [m \\cdot s^{-2}] & 11.6^{+1.6}_{-1.5} \\Impact parameter,b_{b}/R_{\\star} & 0.480^{+0.044}_{-0.051} \\Incident Flux,F_{\\rm inc,b} [F_{{\\rm inc},\\oplus}]& 188^{+26}_{-24} \\Equilibrium temperature,T_{\\rm eq,b} [K]  & 941^{+31}_{-31} \\\\hline$\n",
       "$\\multicolumn{2}{l}{\\it \\toic }  \\\\hline$\n",
       "$Orbital period, P_c [days]  & 1700^{+290}_{-280} \\Time of mid-transit,T_{\\rm 0,c} [days] & 2460640^{+260}_{-260} \\Minimum mass,m_c\\sin{i_c} [\\Mjup ]  & 11.3^{+1.1}_{-0.9} \\Orbital eccentricity,e_{\\rm c}  & 0.628^{+0.043}_{-0.036} \\Arg. periastron,\\omega_{\\rm c} [deg.] & 208.5^{+7.8}_{-7.3} \\Orbit semi-major axis,a_{c} [AU] & 2.52^{+0.27}_{-0.29} \\Relative orbital separation,a_{c}/R_{\\star}  & 806^{+91}_{-93} \\Incident Flux,F_{\\rm inc,c} [F_{{\\rm inc},\\oplus}]  & 0.0208^{+0.0065}_{-0.0046} \\Equilibrium temperature,T_{\\rm eq,c} [K] & 96.4^{+6.8}_{-5.8} \\\\hline\\hline$\n",
       "$\\end{tabular}$\n",
       "$\\tablefoot{For a full description of all parameters involved and their priors, see Table~\\ref{tab:joint}.}$\n",
       "$\\end{table}$\n",
       "$\\subsection{Transit timing variations for \\toib }$\n",
       "$\\label{sec:TTVs}$\n",
       "$Given the relatively large number of transits of \\toib  in our photometric dataset, we can study the presence of additional planets in the system based on the gravitational pull on this planet. We estimate the central times of individual transit events of \\toib  based on deviations from a single-planet model. To that end, we use the results of the joint modeling of Sect.~\\ref{sec:joint} (Table~\\ref{tab:joint}) as priors in this analysis. As in the global analysis, we also used GPs to detrend the TESS light curves. On the contrary, we used the already-detrended LCOGT/MusCat light curves to estimate a single transit mid-time out of the simultaneous modeling of the four-filter light curves. We use the \\texttt{juliet} package\\footnote{\\texttt{juliet} core tools used in this analysis are: \\texttt{batman} \\citep{batman}, \\texttt{starry} \\citep{starry}, \\texttt{dynesty} \\citep{dynesty}, and Gaussian Processes with \\texttt{george} \\citep{george} and \\texttt{celerite} \\citep{celerite}.} \\citep{juliet} to perform this analysis. By doing this, we estimate the central times of the 25 TESS transits and 1 of the LCOGT light curves (Table~\\ref{tab:transit_times}). We compare these observed times with the ephemeris reported in Table~\\ref{tab:joint}. The resulting observed {\\it minus} calculated (O-C) diagram of the transit times of TOI-969 b are shown in Fig.~\\ref{fig:TTVs}. The RMS of the O-C points is 7.1 min with a maximum deviation of 14.13 min.  We noticed that the amplitude of the timing deviations are larger in the transits observed in the last TESS Sector (bottom panel in Fig.~\\ref{fig:TTVs}). It is however unlikely that these deviations are related to the stellar activity as it can be seen in Fig.~\\ref{fig:TESS}, the stellar activity is lower in this TESS Sector.$\n",
       "$\\begin{table}[]$\n",
       "$    \\centering$\n",
       "$    \\setlength{\\extrarowheight}{3pt}$\n",
       "$    \\small$\n",
       "$    \\caption{Transit times of \\toib  estimated from the TESS and LCOGT light curves. }$\n",
       "$    \\label{tab:transit_times}$\n",
       "$    \\begin{tabular}{cccc}$\n",
       "$    \\hline$\n",
       "$    Transit  & T_c & O-C & Instrument\\number      & BJD-2 450 000 &[min] & \\\\hline\\hline$\n",
       "$ 0  & 8493.34879 ^{+0.0037}_{-0.0037} & -5.28  & TESS_S07 \\1 & 8495.17679^{+0.0046}_{-0.0040}   & 0.87 & TESS_S07  \\2 & 8496.99771^{+0.0034}_{-0.0038}   & -3.18 & TESS_S07  \\3 & 8498.82093^{+0.0031}_{-0.0021}   & -3.92 & TESS_S07  \\4 & 8500.64652^{+0.0029}_{-0.0039} & -1.23  & TESS_S07 \\5 & 8502.46819^{+0.0033}_{-0.0027}  & -4.20 & TESS_S07  \\6 & 8506.12828^{+0.0025}_{-0.0034} & 13.98  & TESS_S07 \\7 & 8507.94152^{+0.0017}_{-0.0028}  & -1.12 & TESS_S07 \\8 & 8509.76667^{+0.0036}_{-0.0034} & 0.91  & TESS_S07 \\9 & 8511.58719^{+0.0020}_{-0.0034}  & -3.70 & TESS_S07  \\10 & 8513.41908^{+0.0019}_{-0.0025} & 8.04  & TESS_S07 \\11 & 8515.23953^{+0.0038}_{-0.0030}  & 3.32 & TESS_S07  \\12 & 9230.13869^{+0.0023}_{-0.0026} & -1.62 & TESS_S07  \\400 & 9222.84466^{+0.00042}_{-0.00040} & -0.34 & LCOGT \\404 & 9231.96062^{+0.0022}_{-0.0023}  & -4.22 & TESS_S34  \\405 & 9233.77852^{+0.0048}_{-0.0040} & -12.62  & TESS_S34 \\406 & 9235.60299^{+0.0049}_{-0.0043}  & -11.55  & TESS_S34 \\407 & 9237.44362^{+0.0039}_{-0.0056} & 12.79  & TESS_S34 \\408 & 9239.26829^{+0.0028}_{-0.0039}  & 14.13 & TESS_S34  \\409 & 9242.90031^{+0.0035}_{-0.0030} & -8.10  & TESS_S34 \\411 & 9244.73353^{+0.0030}_{-0.0027} & 5.56  & TESS_S34 \\413 & 9246.56198^{+0.0046}_{-0.0053} & 12.35  & TESS_S34 \\414 & 9248.37592^{+0.0029}_{-0.0026} & -1.74 & TESS_S34  \\415 & 9250.20452^{+0.0025}_{-0.0026} & 5.27  & TESS_S34 \\416 & 9252.02489^{+0.0020}_{-0.0024} & 0.43  & TESS_S34 \\417 & 9253.84740^{+0.0028}_{-0.0022} & -1.33 & TESS_S34  \\\\hline\\hline$\n",
       "$\\end{tabular}$\n",
       "$\\tablefoot{The values of the O-C column correspond to the points shown in Fig.~\\ref{fig:TTVs}, which were obtained using the ephemeris reported in Table~\\ref{tab:joint} and described in Sect.~\\ref{sec:TTVs}.}$\n",
       "$\\end{table}$\n",
       "$Based on the constraints of these transit timing results, we explore the limits that can be placed on the mass of a potential unseen companions to \\toib . For this purpose, we used the \\texttt{TTV2Fast2Furious} code\\footnote{https://github.com/shadden/TTV2Fast2Furious} \\citep{Hadden2019}. The resulting upper limits on the companion are not very constraining, ruling out planets with masses above >100~\\Mearth  for periods larger than twice the orbital period of \\toib . Better constraints can be placed with an extended timing monitoring of additional \\toib  transits.$\n",
       "$\\begin{figure}$\n",
       "$\\centering$\n",
       "$\\includegraphics[width=0.48\\textwidth]{TOI-969b_TTVs.pdf}$\n",
       "$\\caption{Observed-Calculated diagram of the transit times of \\toib . LCOGT transit corresponds to transit number \\#400. The gray regions represent the 1\\sigma uncertainties of the ephemeris reported in Table~\\ref{tab:joint}.}$\n",
       "$\\label{fig:TTVs}$\n",
       "$\\end{figure}$\n",
       "$\\section{Discussion}$\n",
       "$\\label{sec:Discussion}$\n",
       "$\\subsection{\\toib : a new hot-Neptune in the desert}$\n",
       "$\\label{sec:hot-neptune}$\n",
       "$The derived properties of planet \\toib  showed in the previous sections place this world in the so-called mini-Neptune regime in terms of mass (m_b=9.1^{+1.1}_{-1.0}~\\Mearth ) and radius (R_b=2.765^{+0.088}_{-0.097}~\\Rearth ), see Fig.~\\ref{fig:MR}. Its relatively short period also places this planet in the boundary of the hot-Neptune desert \\citep{mazeh16} and possesses similar properties to the iconic GJ 1214 b \\citep{charbonneau09}.$\n",
       "${As for most Neptune-like planets, for a planet of the mass and radius of \\toib  and a H/He dominated atmosphere, the atmospheric loss by blowoff is energy limited \\citep{owen16}. In this case, the atmospheric mass-loss rate is \\citep{erkaev07,owen13}:}$\n",
       "$~$\n",
       "$\\begin{equation}$\n",
       "$\\dot{M}=\\epsilon \\frac{\\pi F_{\\mathrm{XUV}} R_{\\mathrm{p}}^3}{G M_{\\mathrm{p}}},$\n",
       "$\\end{equation}$\n",
       "$~$\n",
       "$\\noindent{where F_{\\mathrm{XUV}} is the XUV flux received by the planet, G the gravitational constant, and \\epsilon is an efficiency parameter. We approximate the XUV luminosity by the analytical fit obtained by \\cite{sanz-forcada11}, and we estimate \\epsilon\\simeq0.07 from \\cite{owen12}. This yields a present-day mass-loss rate of 0.03 \\Mearth/Gyr, assuming the age of the star is 2.03 Gyr. Following the approach of \\cite{aguichine21}, the total mass lost by the planet can be estimated by integrating \\dot{m} over time assuming that only the XUV luminosity changes, and that the planet properties remained roughly constant during its evolution. In this case, we find that TOI-969 b would have lost \\sim 0.42\\Mearth of H/He during its evolution. The possibility that TOI-969 b formed with a H/He envelope of mass greater than \\sim 0.42\\Mearth (\\sim 4\\% by mass) cannot be excluded. It is thus possible that TOI-969 b is still subject to atmospheric escape, and could be entirely stripped of its H/He envelope. However, the presence of an atmosphere made of heavier volatiles, such as He, O_2, H_2O and other (see \\citealt{hu15,bolmont17,aguichine21,ito21}, respectively), news a more natural explanation to how TOI-969 b retained its volatile envelope, since these molecules have smaller escape rates \\citep{owen12,ito21}.}$\n",
       "$\\toib  is hence another excellent target for testing theories of atmospheric evaporation \\citep{lecavelier07,owen19}. Interestingly, its transmission spectroscopy metric (TSM, \\citealt{kempton18}) corresponds to {\\rm TSM} = 93\\pm18, hence being one of the best targets in this regime for atmospheric purposes, especially with the James Webb Space Telescope (JWST).$\n",
       "$\\begin{figure*}$\n",
       "$\\centering$\n",
       "$\\includegraphics[width=1\\textwidth]{mass_radius.pdf}$\n",
       "$\\caption{Comparative properties of \\toib . \\textbf{Left}: Mass-radius diagram of known exoplanets with measured mass precisions better than 30\\% (gray symbols) and the location of \\toib . The bulk density lines corresponding to different compositions from \\cite{zeng19} are shown as solid traces, and the dashed lines correspond to iso-densities of 0.3, 1, and 3 g\\cdotcm^{-3}. \\textbf{Right:} Period-radius diagram of known exoplanets (gray crosses) highlighting those with measured masses (open black circles). The light grey shaded region represents the mean boundaries of the hot-Neptune desert derived by \\cite{mazeh16} and the dark grey shaded region corresponds to the interior envelope of the 1\\sigma boundaries. The location of \\toib  is marked in red, as well as the location of other two planets in the hot-Neptune desert, namely TOI-849 b \\citep{armstrong20} and LTT 9779 b \\citep{jenkins20}.}$\n",
       "$\\label{fig:MR}$\n",
       "$\\end{figure*}$\n",
       "$\\subsection{Internal structure of \\toib }$\n",
       "$\\label{sec:internal}{By using the precise mass and radius determinations of \\toib, we can study its internal structure}. We performed a Markov chain Monte Carlo (MCMC) Bayesian analysis \\citep{Dorn15} of its internal composition by using the interior structure model introduced in \\cite{mousis20} and \\cite{brugger17}, which comprises three layers: a Fe-rich core, a silicate rich mantle and a water layer.  With an irradiance temperature\\footnote{{Irradiance temperature is the term used in atmospheric physics to name the equilibrium temperature at zero albedo}.}{of the order of 10^{3}~K}, \\toib  can present vapor and supercritical\\footnote{{Planets that are highly irradiated and present a volatile envelope reach high temperatures at the bottom of this layer, which corresponds to high pressures. Water is the second most abundant volatile after H/He. Its phase diagram (see, for example, Fig. 1 in \\citealt{mousis20}) shows that for temperatures around 10^3~K, water will reach the supercritical phase (decreasing its density compared to liquid or ice phases) when the pressure is approximately 300 bar.}} phases if water is found at its surface. Therefore we couple an atmosphere-interior model that calculates the surface conditions and the contribution of the atmosphere to the total radius, which in the case of low-density, warm planets is significant, as shown by \\cite{acuna21}. We consider two scenarios to obtain the interior structure of \\toib : scenario 1, where only the mass and radius of the planet (from Table~\\ref{tab:joint}) are considered as inputs to the MCMC analysis; and scenario 2, where the planetary mass and radius, and the stellar Fe/Si mole ratios (see Table~\\ref{tab:StePar}) are the input data\\footnote{{\\cite{adibekyan21} recently found a relation between the composition of low-mass planets and their host stars, but the relation was not one-to-one.}}. To compute the Fe/Si and Mg/Si mole ratios with the stellar abundances, we follow the approach described in \\cite{brugger17} and \\cite{sotin07}, and obtain Fe/Si = 0.77\\pm0.23 and Mg/Si = 1.01\\pm0.44. The output of the MCMC analysis are the posterior distributions functions (PDF) of the core mass fraction (CMF), the water mass fraction (WMF) and the atmospheric parameters, which are the temperature at 300 bar, the planetary albedo and the atmospheric thickness from transit pressure (20 mbar, see \\citealt{mousis20,grimm18}) to 300 bar\\footnote{{The critical point of water is located at 220 bar, this is the pressure at which water transitions from vapour to supercritical. 300 bar is close enough to the pressure of the critical point to prevent the atmospheric model from taking over pressures where the opacity is very high.}}. We assume a water-rich atmosphere. Table  \\ref{tab:comp_output} (upper part) shows the 1D, 1\\sigma confidence intervals of the MCMC output parameters and Fig.~\\ref{fig:ternary_comp} presents the ternary diagram and the 1\\sigma confidence region for the internal structure of \\toib . Under the assumption of absence of an H/He layer, \\toib  is a volatile-rich planet that could have up to 60\\% of its mass in a water-rich volatile layer in both scenarios. The CMF is compatible with an Earth-like value in scenario 1, whereas in scenario 2 the CMF is lower due to a lower Fe/Si mole ratio of the host star compared to the solar value (Fe/Si_{\\odot} = 0.96).$\n",
       "${H/He and water are the most abundant volatiles. In interior modelling, when including a volatile layer, it is widely acknowledged to assume that the main component of the envelope is either hydrogen, which is representative of a primordial atmosphere, or water, whose density represents better that of a secondary atmosphere. The interior structure model described above presents the implementation of a water layer. However, as we have described in Sect.~\\ref{sec:hot-neptune} the presence of H/He in the current atmosphere of \\toib  cannot be discarded based on atmospheric loss. Moreover, the water layer model described above yields a maximum WMF of almost 60\\% within 1\\sigma (WMF~=50\\%~\\pm~9\\%). This is less than the maximum WMF found in Solar System bodies (i.e comets), which is 70-80\\% \\citep{mckay19}. However, it is still a high WMF compared to other low-mass exoplanets. Hence, we also explore the possibility of a H/He atmosphere instead of a water-dominated volatile layer.}$\n",
       "$\\begin{table}[h]$\n",
       "$\\setlength{\\extrarowheight}{4pt}$\n",
       "$\\centering$\n",
       "$\\caption{Median and 1\\sigma confidence intervals of the interior and atmosphere modeling. MCMC output parameters (see Sect.~\\ref{sec:internal}).}$\n",
       "$\\begin{tabular}{lcc}$\n",
       "$\\hline\\hline$\n",
       "$Parameter & Scenario 1\\tablefootmark{a} & Scenario 2\\tablefootmark{b} \\\\hline$\n",
       "$\\textit{Water as volatile only} & & \\\\hline$\n",
       "$Core mass fraction, CMF & 0.19\\pm0.16 & 0.12\\pm0.04 \\Water mass fraction, WMF & 0.50\\pm0.09 & 0.47\\pm0.09 \\Fe-to-Si mole ratio, Fe/Si & 0.55^{+1.07}_{-0.55} & 0.71\\pm0.26 \\Temp. at 300 bar, T_{300} [K] & \\multicolumn{2}{c}{4500} \\Thickness at 300 bar[km] & 1179 \\pm 109 & 972 \\pm 95 \\Albedo, a_{p}& \\multicolumn{2}{c}{0.20\\pm0.01} \\Core+Mantle radius,[R_{p}] & 0.48\\pm0.07 & 0.52\\pm0.05 \\\\hline$\n",
       "$\\textit{H/He atmosphere} & & \\\\hline$\n",
       "$Core mass fraction, CMF & 0.70\\pm0.30 & 0.28^{+0.05}_{-0.09} \\H/He mass fraction,x_{H/He} [\\times 10^{-3}] & 3.8\\pm2.0 & 1.4^{+0.2}_{-0.3} \\Fe-to-Si mole ratio, Fe/Si & 17.0^{+25.8}_{-17.0}  & 0.76^{+0.21}_{-0.26} \\Thickness, z_{atm} [km] & 8185 ^{+574}_{-1480}  & 5844 ^{+908}_{-799} \\\\hline$\n",
       "$\\hline$\n",
       "$\\end{tabular}$\n",
       "$\\label{tab:comp_output}$\n",
       "$\\tablefoot{The results are shown for the two different compositional scenarios and for the two models considered (water as the only volatile - upper part- and a H/He atmosphere -bottom part).\\\\tablefoottext{a}{Only the mass and radius of the planet are considered as inputs.}\\\\tablefoottext{b}{Besides the planetary mass and radius, alse the stellar Fe/Si mole ratios (see Table~\\ref{tab:StePar}) are included as input data.}}$\n",
       "$\\end{table}$\n",
       "$\\begin{figure}$\n",
       "$\\centering$\n",
       "$\\includegraphics[width=0.5\\textwidth ]{conf_interval_ternary_TOI969.pdf}$\n",
       "$\\caption{Ternary diagram with the 1\\sigma confidence region of \\toib  in scenario 1 (black), where only the mass and the radius are considered as input data, and in scenario 2 (red), where the stellar abundances are also included as input data in the MCMC interior structure analysis. The mantle mass fraction (MMF) is newcommandined as MMF = 1 - CMF - WMF. The green dot and red square indicate the position of Earth and Mercury in the ternary diagram, respectively.}$\n",
       "$\\label{fig:ternary_comp}$\n",
       "$\\end{figure}$\n",
       "$To do this, we combine our interior structure model (only the Fe-rich core and the mantle) with the mass-radius relations of \\cite{zeng19}. We obtain the atmospheric thickness by subtracting the mass-radius relationship of an Earth-like bulk with a H/He envelope minus that of a bare Earth-like core, both as newd by \\cite{zeng19}\\footnote{\\url{https://lweb.cfa.harvard.edu/~lzeng/planetmodels.html}}. This allows us to express the atmospheric thickness as a function of the surface gravity, g_{0} = M/R^{2}, and the H/He mass fraction, z_{\\rm atm} = z_{\\rm atm}(g_{0},x_{H/He}). The boundary surface condition for our interior model are T_{\\rm surf} = 2000 K and P_{\\rm surf} = 1 bar, because \\cite{zeng19} consider a maximum irradiation temperature of 2000 K and an isothermal profile in the atmosphere. Table \\ref{tab:comp_output} (bottom part) shows the observables and the compositional parameters retrieved from this second analysis assuming a H/He atmosphere. We observe that the H/He volatile mass fraction is four orders of magnitude lower that the water mass fraction obtained in the previous analysis, which is expected since water at high pressures is significantly more dense than H and He. The 1\\sigma confidence intervals of the H/He volatile mass fractions are situated between 0.1\\% and 0.3\\%, as expected from the position of \\toib  in the mass-radius diagram in Fig. \\ref{fig:mrrel}. To reproduce the density of \\toib , the H/He case does not need a volatile layer as massive as that of the water case since a H/He atmosphere is more expanded than a secondary atmosphere for a similar atmospheric mass. This results in a larger portion of the total mass constituted by the Fe-rich core when we consider a H/He atmosphere, yielding higher CMFs in both scenarios. In scenario 2, we can observe that the CMF is compatible within uncertainties with the Earth value (CMF_{\\oplus} = 0.32).$\n",
       "$Finally, we applied the stoichiometric model of \\cite{santos17} to determine the iron-mass fraction (which can be translated into core-mass fraction) of the planet building blocks in the protoplanetary disks of \\toi . This model is based on the chemical abundances of this star listed in Table~\\ref{tab:StePar}, and assuming that C and O abundances for the two stars scale with metallicity. We find an iron mass fraction of the planet building blocks of 33.1 \\pm 5.2~\\%. This value is compatible with that predicted by this model for the solar system planet building blocks (33.2\\%, \\citealt{santos15}).$\n",
       "$\\begin{figure}[]$\n",
       "$\\centering$\n",
       "$\\includegraphics[width=0.5\\textwidth ]{MR_TOI969.pdf}$\n",
       "$\\caption{Mass-radius relationships for supercritical water (SW) planets \\citep{acuna2021,mousis20}, planets with Earth-like cores and H/He atmospheres \\citep{zeng19} and dry planets with different Fe contents \\citep{brugger17}. We assume high {chemical} equilibrium temperatures for supercritical and H/He volatile layers of 1200 K and 2000 K, respectively. The position of TOI-969 b is indicated as a magenta star.}$\n",
       "$\\label{fig:mrrel}$\n",
       "$\\end{figure}$\n",
       "$\\subsection{Prospects for atmospheric studies with JWST}$\n",
       "$\\label{sec_JWST}$\n",
       "$We simulated synthetic spectra for a range of atmospheric scenarios and instrumental setups. We adopted Tau-REx~III \\citep{al-refaie2021} to compute the model-atmosphere spectra, using the stellar parameters from Table~\\ref{tab:StePar} (arithmetic average) and the planetary parameters from Table~\\ref{tab:joint}. Our test bench models assume atmospheric chemical equilibrium (ACE, \\citealp{agundez2012}) with isothermal profile at the equilibrium temperature, scaled (1\\times and 100\\times) solar abundances, collisionally induced absorption (CIA) by H_2-H_2 and H_2-He \\citep{abel2011,abel2012,fletcher2018}, and Rayleigh scattering. We show two cloud-free models with different metallicities, and a third model with solar metallicity and an optically thick cloud deck with top pressure of 100 Pa. The cloud-free spectra present molecular absorption features of 100-300 ppm, which are slightly smaller by a factor of \\sim2 in the case with enhanced metallicity. The cloudy model also presents smaller absorption features due to the suppression of contributions from deeper atmospheric layers. A flat spectrum due to higher altitude (lower top pressure) clouds cannot be excluded for \\toib .$\n",
       "$We used \\texttt{ExoTETHyS}\\footnote{\\url{https://github.com/ucl-exoplanets/ExoTETHyS}} \\citep{morello2021} to compute bin-averaged spectra, taking into account the spectral response of the JWST instruments, noise scatter and error bars. We simulated JWST spectra for the NIRISS-SOSS (0.6--2.8 \\mum), NIRSpec-G395M (2.88--5.20 \\mum) and MIRI-LRS (5--12 \\mum) instrumental modes. The wavelength bins were specifically determined to have similar counts, leading to nearly uniform error bars per spectral point. In particular, we set a median resolving power of R\\sim 50 for the NIRISS-SOSS and NIRSpec-G395M modes, and bin sizes of \\sim0.1--0.2\\mum for the MIRI-LRS. The error bars have been calculated for a single visit of twice the transit duration in each instrumental mode, scaled by the inverse of the observing efficiency estimated with the Exoplanet Characterization Toolkit  (ExoCTK\\footnote{\\url{https://exoctk.stsci.edu}}, \\citealp{bourque2021_exoctk}), and a factor 1.2 to account for correlated noise. We obtained error bars of 35--50 ppm per spectral point for the  NIRISS-SOSS and NIRSpec-G395M modes, and 110--114 for the MIRI-LRS bins. These numbers suggest that a single transit observation is sufficient to sample the molecular absorption features in case of a clear atmosphere, even with 100\\times solar metallicity. A single NIRSpec-G395M observation could also be sufficient to detect the absorption features in a cloudy scenario, if the top pressure is higher than 100 Pa (see Fig.~\\ref{Fig:TOI969b_JWSTspectra}).$\n",
       "$\\begin{figure*}$\n",
       "$\\centering$\n",
       "$\\includegraphics[width=\\hsize]{TOI969b_solar_mh100_clouds1e2.pdf}$\n",
       "$\\caption{Synthetic transmission spectra of \\toib . Fiducial models assuming a cloud-free atmosphere with solar abundances (bottom), cloud-free atmosphere with enhanced metallicity by a factor of 100 (middle), and atmosphere with solar abundances and optically-thick cloud deck with top pressure of 100 Pa (top). Estimated uncertainties are shown for the observation of one transit with JWST NIRISS-SOSS, NIRSpec-G395M, and MIRI-LRS configurations. {Simulated data is color coded with wavelength.}}$\n",
       "$\\label{Fig:TOI969b_JWSTspectra}$\n",
       "$\\end{figure*}$\n",
       "$\\subsection{\\toic : A massive eccentric cold component in the planetary-to-brown-dwarf transition}$\n",
       "$ Our RV analysis strongly favors the presence of an outer companion at 2.4 AU in a high eccentric orbit that we call \\toic . With a minimum mass of 11.3^{+1.1}_{-0.9}~\\Mjup  and a derived eccentricity of e_c=0.628^{+0.043}_{-0.036}, our analysis places this planetary system as an ideal case for dynamical studies of planet migration and formation. Figure~\\ref{fig:orbit} displays the orbital shape of the system. These high eccentricities are expected for massive planets as demonstrated in \\cite{adibekyan13} and previously predicted by numerical simulations (e.g., \\citealt{papaloizou01,bitsch13}). In particular, one of the main scenarios to explain the current population of eccentric cold giant planets is that of planet-disk interactions during the planet formation phase \\citep{papaloizou01,kley06,bitsch13}. As discussed in \\cite{bitsch20}, in the case of very massive gas giants with more than 5~\\Mjup , the gaps opened by these massive bodies are so deep that they prevent the Lindblad resonances that allow the damping of high eccentricities. This is one possibility to explain the large eccentricity of \\toic  in the absence of additional massive bodies in the system. The alternative scenario consists of planet-planet scattering. This has been tested by different authors using different approaches and configurations of the forming planetary system (e.g., \\citealt{juric08,raymond09a,bitsch20}) reaching to the conclusion that planetary systems including a massive eccentric giant should not harbor any inner super-Earths. By contrast, \\cite{zhu18} and \\cite{bryan19} found that there is a positive correlation between the presence of hot super-Earths and cold Jupiters in the same system. This is then still an open question.$\n",
       "$The presence of the hot mini-Neptune \\toib  at such close-in orbit is thus intriguing in this regard, as it seems to be an exception to the planet-planet scattering scenario, which should have destabilised the inner planet and removed it from the system. The alternative would then be that \\toib  formed inner to the cold giant and subsequently migrated towards its current location through type-I migration. However, the expected location of the snow line for the proto-planetary disk of this late-K dwarf star is at around 1 AU, too close to the current location of \\toic  to have had enough dynamical room to form a Neptune-like planet as \\toib . Consequently, the formation of this system and its evolution until reaching its present configuration remains open. Thus, a complete re-arrangement of the initial planetary configuration cannot be discarded.$\n",
       "$\\begin{figure}$\n",
       "$\\centering$\n",
       "$\\includegraphics[width=0.5\\textwidth ]{TOI969_planetary_system.pdf}$\n",
       "$\\caption{Schematic view of the planetary system \\toi , with the Earth direction towards the bottom of the panel. A total of 500 randomly selected orbits from the posterior distribution of the joint model (see Sect.~\\ref{sec:joint}) are drawn for \\toib  (orange) and \\toic  (blue). The orbit corresponding to the median solution for each parameter is displayed as a solid thicker line of the corresponding color for each planet.}$\n",
       "$\\label{fig:orbit}$\n",
       "$\\end{figure}$\n",
       "$\\section{Conclusions}$\n",
       "$\\label{sec:Conclusions}$\n",
       "$In this paper we have confirmed the planetary nature of \\toib , a planet candidate detected by the TESS mission through the transit technique. Additional transits of \\toib  were also observed from the ground using LCOGT and MEarth telescopes. We used high-spatial resolution images to discard possible contaminant sources within the TESS aperture as well as an intense RV monitoring with different instruments (namely HARPS, PFS and CORALIE). These RV time series revealed the presence of a long-term signal compatible with a new planet in the system.$\n",
       "$We analyse this large dataset and conclude that \\toib  is a hot (P_b\\sim 1.82~days) mini-Neptune with a radius of 2.765^{+0.088}_{-0.097}~\\Rearth  and a mass of 9.1^{+1.1}_{-1.0}~\\Mearth . These properties place this planet within the lower boundary of the hot-Neptune desert. The internal structure analysis also suggests a core mass fraction of 12\\pm 4~\\% and a large fraction of its mass contained in a potential atmospheric layer. The simulations we performed suggest this atmosphere could be characterized with JWST in a single visit, thus putting this target in the priority list for sub-Neptune planets. The transit times of this planet also display some deviations from a strictly periodic signal at the 10-min level. However, the precision from the TESS data is not sufficient to properly assess a TTV analysis and so infer the possible presence of additional planets, at least not better than with the RV data.$\n",
       "$The long timespan radial velocity time series indicate the presence of a second component in the system (\\toic ) in a long-period orbit with P_c=1700^{+290}_{-280}~days. Our two-planet model is here favored against a simpler one-planet model plus a quadratic trend. This second body has a minimum mass of 11.3^{+1.1}_{-0.9}~\\Mjup  (in the transition between the planetary and brown dwarf domain) and a large eccentricity of e_c=0.628^{+0.043}_{-0.036}, constituting a relevant piece of the system in terms of dynamical stability and placing it as a key actor of \\toi  in moulding the current architecture of the planetary system. \\toi  thus becomes a test bench for planet migration theories and, in particular, for planet-planet scattering studies.$\n",
       "$\\begin{acknowledgements}$\n",
       "$We thank the anonymous referee for their though revision of this manuscript that has improved its final quality.$\n",
       "$J.L-B. acknowledges financial support received from \"la Caixa\" Foundation (ID 100010434) and from the European Unions Horizon 2020 research and innovation programme under the Marie Slodowska-Curie grant agreement No 847648, with fellowship code LCF/BQ/PI20/11760023. This research has also been partly funded by the Spanish State Research Agency (AEI) Projects No.PID2019-107061GB-C61 and No. MDM-2017-0737 Unidad de Excelencia \"Mar\\'ia de Maeztu\"- Centro de Astrobiolog\\'ia (INTA-CSIC).$\n",
       "$R.L. acknowledges financial support from the Spanish Ministerio de Ciencia e Innovaci\\'on, through project PID2019-109522GB-C52, and the Centre of Excellence \"Severo Ochoa\" award to the Instituto de Astrof\\'isica de Andaluc\\'ia (SEV-2017-0709).$\n",
       "$D.J.A. acknowledges support from the STFC via an Ernest Rutherford Fellowship (ST/R00384X/1).$\n",
       "$S.G.S acknowledges the support from FCT through Estimulo FCT contract nr.CEECIND/00826/2018 and POPH/FSE (EC).$\n",
       "$G.M. has received funding from the European Union's Horizon 2020 research and innovation programme under the Marie Sk\\l odowska-Curie grant agreement No. 895525.$\n",
       "$S.H. acknowledges CNES funding through the grant 837319.$\n",
       "$The French group acknowledges financial support from the French Programme National de Plan\\'etologie (PNP, INSU).$\n",
       "$This work is partly financed by the Spanish Ministry of Economics and Competitiveness through grants PGC2018-098153-B-C31.$\n",
       "$We acknowledge the support by FCT - Funda\\c{c}\\~ao para a Ci\\^encia e a Tecnologia through national funds and by FEDER through COMPETE2020 - Programa Operacional Competitividade e Internacionaliza\\c{c}\\~ao by these grants: UID/FIS/04434/2019; UIDB/04434/2020; UIDP/04434/2020; PTDC/FIS-AST/32113/2017 \\& POCI-01-0145-FEDER-032113; PTDC/FISAST/28953/2017 \\& POCI-01-0145-FEDER-028953.$\n",
       "$P.J.W. is supported by an STFC consolidated grant (ST/T000406/1).$\n",
       "$F.H. is funded by an STFC studentship.$\n",
       "$T.A.S acknowledges support from the Funda\\c{c}\\~ao para a Ci\\^encia e a Tecnologia (FCT) through the Fellowship PD/BD/150416/2019 and POCH/FSE (EC).$\n",
       "$C.M.P. acknowledges support from the SNSA (dnr 65/19P).$\n",
       "$This work has been carried out within the framework of the National Centre of Competence in Research (NCCR) PlanetS supported by the Swiss National Science Foundation. This project has received funding from the European Research Council (ERC) under the European Union's Horizon 2020 research and innovation programme (grant agreement SCORE No 851555).$\n",
       "$O.D.S.D. is supported in the form of work contract (DL 57/2016/CP1364/CT0004) funded by national funds through Funda\\c{c}\\~ao para a Ci\\^encia e a Tecnologia (FCT).$\n",
       "$M.E. acknowledges the support of the DFG priority programSPP 1992 \"Exploring the Diversity of Extrasolar Planets\" (HA 3279/12-1).$\n",
       "$A.O. is funded by an STFC studentship.$\n",
       "$J.K. gratefully acknowledge the support of the Swedish National Space Agency (SNSA; DNR 2020-00104).$\n",
       "$This work makes use of observations from the LCOGT network. This paper is based on observations made with the MuSCAT3 instrument, developed by the Astrobiology Center and under financial supports by JSPS KAKENHI (JP18H05439) and JST PRESTO (JPMJPR1775), at Faulkes Telescope North on Maui, HI, operated by the Las Cumbres Observatory.$\n",
       "$Some of the observations in the paper made use of the High-Resolution Imaging instrument Zorro obtained under Gemini LLP Proposal Number: GN/S-2021A-LP-105. Zorro was funded by the NASA Exoplanet Exploration Program and built at the NASA Ames Research Center by Steve B. Howell, Nic Scott, Elliott P. Horch, and Emmett Quigley. Zorro was mounted on the Gemini North (and/or South) telescope of the international Gemini Observatory, a program of NSF's OIR Lab, which is managed by the Association of Universities for Research in Astronomy (AURA) under a cooperative agreement with the National Science Foundation. on behalf of the Gemini partnership: the National Science Foundation (United States), National Research Council (Canada), Agencia Nacional de Investigaci\\'on y Desarrollo (Chile), Ministerio de Ciencia, Tecnolog\\'ia e Innovaci\\'on (Argentina),  Minist\\'erio da Ci\\^{e}ncia, Tecnologia, Inova\\c{c}\\~oes e Comunica\\c{c}\\~oes (Brazil), and Korea Astronomy and Space Science Institute (Republic of Korea).$\n",
       "$We acknowledge the use of public TESS data from pipelines at the TESS Science Office and at the TESS Science Processing Operations Center.$\n",
       "$Resources supporting this work were newd by the NASA High-End Computing (HEC) Program through the NASA Advanced Supercomputing (NAS) Division at Ames Research Center for the production of the SPOC data products.$\n",
       "$The MEarth Team gratefully acknowledges funding from the David and Lucile Packard Fellowship for Science and Engineering (awarded to D.C.). This material is based upon work supported by the National Science Foundation under grants AST-0807690, AST-1109468, AST-1004488 (Alan T. Waterman Award), and AST-1616624, and upon work supported by the National Aeronautics and Space Administration under Grant No. 80NSSC18K0476 issued through the XRP Program. This work is made possible by a grant from the John Templeton Foundation. The opinions expressed in this publication are those of the authors and do not necessarily reflect the views of the John Templeton Foundation.$\n",
       "$This research made use of Astropy, (a community-developed core Python package for Astronomy, \\citealt{astropy:2013,astropy:2018}), SciPy \\citep{scipy}, matplotlib (a Python library for publication quality graphics \\citealt{matplotlib}), and numpy \\citep{numpy}.$\n",
       "$This research has made use of NASA's Astrophysics Data System Bibliographic Services.$\n",
       "$This research has made use of the SIMBAD database, operated at CDS, Strasbourg, France.$\n",
       "$The authors wish to recognize and acknowledge the very significant cultural role and reverence that the summit of Mauna Kea has always had within the indigenous Hawaiian community.  We are most fortunate to have the opportunity to conduct observations from this mountain.$\n",
       "$\\end{acknowledgements}$\n",
       "$\\bibliographystyle{aa}$\n",
       "$\\bibliography{../../../biblio2}$\n",
       "$\\appendix$\n",
       "$\\section{ Additional tables}$\n",
       "$\\begin{table*}$\n",
       "$\\setlength{\\extrarowheight}{3pt}$\n",
       "$\\centering$\n",
       "$\\caption{TESS light curves of TOI-969 (see Sect.~\\ref{sec:tess}).}$\n",
       "$\\label{tab:TESSdata}$\n",
       "$\\begin{tabular}{cccccc}$\n",
       "$\\hline\\hline$\n",
       "$BJD & Flux (PDCSAP) & \\sigma_{\\rm flux} & Flux det. (norm) & \\sigma_{\\rm flux det.} & Sector \\\\hline$\n",
       "$2458491.6829294283 & 1.001832 & 0.000371 & 0.999953 & 0.000371 & TESS07 \\2458491.7037631846 & 1.002146 & 0.000369 & 1.000287 & 0.000369 & TESS07\\2458491.72459694 & 1.00138 & 0.000367 & 0.999544 & 0.000367 & TESS07\\2458491.745430695 & 1.002189 & 0.000365 & 1.000375 & 0.000365 & TESS07\\2458491.766264449 & 1.001059 & 0.000364 & 0.99927 & 0.000364 & TESS07\\2458491.7870982024 & 1.001779 & 0.000363 & 1.000014 & 0.000363 & TESS07\\2458491.8079319545 & 1.001815 & 0.000361 & 1.000076 & 0.000361 & TESS07\\2458491.828765706 & 1.001416 & 0.00036 & 0.999704 & 0.00036 & TESS07\\2458491.849599457 & 1.002108 & 0.000358 & 1.000425 & 0.000358 & TESS07\\2458491.870433206 & 1.001584 & 0.000357 & 0.999932 & 0.000357 & TESS07\\... & & & & &\\\\hline\\hline$\n",
       "$\\end{tabular}$\n",
       "$\\tablefoot{The detrended light curve in the fourth column corresponds to the detrending applied by using the parameters from the joint analysis in Sect.~\\ref{sec:joint}. Only the first 10 values are shown. The complete table is available through CDS (see link in the main title caption).}$\n",
       "$\\end{table*}$\n",
       "$\\begin{table*}$\n",
       "$\\setlength{\\extrarowheight}{3pt}$\n",
       "$\\centering$\n",
       "$\\caption{Ground based photometric time series of TOI-969 from the LCOGT and MEarth facilities (see Sects.~\\ref{sec:lco} and \\ref{sec:MEarth}).}$\n",
       "$\\label{tab:GBdata}$\n",
       "$\\begin{tabular}{ccccccc}$\n",
       "$\\hline\\hline$\n",
       "$BJD & Flux (PDCSAP) & \\sigma_{\\rm flux} & Flux det. (norm) & \\sigma_{\\rm flux det.} & Airmass & Instrument \\\\hline$\n",
       "$2459222.785142 & 1.005212 & 0.000751 & 1.000958 & 0.000751 & 2.293 & LCOHAL_gp \\2459222.785448 & 1.002452 & 0.000748 & 0.99822 & 0.000748 & 2.285 & LCOHAL_gp\\2459222.785755 & 1.003435 & 0.000751 & 0.999246 & 0.000751 & 2.277 & LCOHAL_gp\\2459222.7861 & 1.00383 & 0.000745 & 0.999685 & 0.000745 & 2.267 & LCOHAL_gp\\2459222.786406 & 1.002546 & 0.000739 & 0.99843 & 0.000739 & 2.259 & LCOHAL_gp\\2459222.786714 & 1.004676 & 0.000736 & 1.000609 & 0.000736 & 2.251 & LCOHAL_gp\\2459222.787021 & 1.002964 & 0.000733 & 0.998924 & 0.000733 & 2.243 & LCOHAL_gp\\2459222.787373 & 1.002637 & 0.000736 & 0.998636 & 0.000736 & 2.234 & LCOHAL_gp\\2459222.787683 & 1.004611 & 0.000736 & 1.000657 & 0.000736 & 2.226 & LCOHAL_gp\\2459222.78799 & 1.004979 & 0.000748 & 1.001062 & 0.000748 & 2.218 & LCOHAL_gp\\... & & & & &\\\\hline\\hline$\n",
       "$\\end{tabular}$\n",
       "$\\tablefoot{The detrended light curve in the fourth column corresponds to the linear detrending with airmass applied by using the parameters from the joint analysis in Sect.~\\ref{sec:joint}. Only the first 10 values are shown. The complete table is available through CDS (see link in the main title caption).}$\n",
       "$\\end{table*}$\n",
       "$\\begin{table*}$\n",
       "$\\setlength{\\extrarowheight}{3pt}$\n",
       "$\\centering$\n",
       "$\\caption{Photometric time series from WASP (see Sect.~\\ref{sec:wasp}).}$\n",
       "$\\label{tab:WASPdata}$\n",
       "$\\begin{tabular}{cccccc}$\n",
       "$\\hline\\hline$\n",
       "$BJD & Flux & \\sigma_{\\rm flux} \\\\hline$\n",
       "$2455155.610718 & 0.97743 & 0.00976 \\2455155.611157 & 0.98893 & 0.00993\\2455155.617477 & 0.98432 & 0.01116\\2455155.617905 & 0.9859 & 0.01024\\2455155.624259 & 0.98289 & 0.00923\\2455155.624699 & 0.98068 & 0.00956\\2455155.630949 & 0.98545 & 0.01378\\2455155.631389 & 0.98309 & 0.01471\\2455155.63662 & 0.9821 & 0.01492\\2455155.637083 & 0.96412 & 0.01586\\... & &\\\\hline\\hline$\n",
       "$\\end{tabular}$\n",
       "$\\tablefoot{Only the first 10 values are shown. The complete table is available through CDS (see link in the main title caption).}$\n",
       "$\\end{table*}$\n",
       "$\\begin{table*}$\n",
       "$\\small$\n",
       "$\\setlength{\\extrarowheight}{3pt}$\n",
       "$\\centering$\n",
       "$\\caption{Radial velocity and activity indicators for all instruments.}$\n",
       "$\\label{tab:RVdata}$\n",
       "$\\begin{tabular}{lccccccc}$\n",
       "$\\hline\\hline$\n",
       "$JD & RV & BIS-SPAN & FWHM & Contrast & S-index & \\log{R^{\\prime}_HK} & Inst.\\(days) & (\\kms) & (\\kms) & (\\kms) & (\\%) & - & dex & \\\\hline$\n",
       "$2459163.79166882 & -5.8432 \\pm 0.0018 & 0.0480 \\pm 0.0037 & 6.6641 \\pm 0.0037 & 47.5 \\pm 2.4 & 1.153 \\pm 0.021 & -4.3718 \\pm 0.0081 & HARPS \\2459182.75297637 &-5.7772 \\pm 0.0022 & 0.0644 \\pm 0.0045 & 6.6225 \\pm 0.0045 & 47.4 \\pm 2.4 & 1.021 \\pm 0.027 & -4.426 \\pm 0.012 & HARPS \\2459183.71415593 &-5.7739 \\pm 0.0025 & 0.0683 \\pm 0.0050 & 6.6264 \\pm 0.0050 & 47.0 \\pm 2.3 & 1.032 \\pm 0.028 & -4.421 \\pm 0.012 & HARPS \\2459183.80873437 &-5.7727 \\pm 0.0030 & 0.0640 \\pm 0.0061 & 6.6133 \\pm 0.0061 & 47.1 \\pm 2.4 & 0.993 \\pm 0.037 & -4.437 \\pm 0.017 & HARPS \\2459184.71221205 &-5.7813 \\pm 0.0027 & 0.0510 \\pm 0.0046 & 6.6229 \\pm 0.0054 & 47.0 \\pm 2.4 & 1.048 \\pm 0.031 & -4.414 \\pm 0.013 & HARPS \\2459185.77198425 &-5.7578 \\pm 0.0023 & 0.0531 \\pm 0.0040 & 6.6249 \\pm 0.0046 & 47.3 \\pm 2.4 & 1.077 \\pm 0.027 & -4.402 \\pm 0.011 & HARPS \\2459191.754039 &-5.7141 \\pm 0.0020 & 0.0592 \\pm 0.0046 & 6.6709 \\pm 0.0040 & 47.5 \\pm 2.4 & 1.214 \\pm 0.026 & -4.3494 \\pm 0.0094 & HARPS \\2459192.67584257 &-5.7268 \\pm 0.0023 & 0.0592 \\pm 0.0050 & 6.6572 \\pm 0.0046 & 47.6 \\pm 2.4 & 1.240 \\pm 0.029 & -4.340 \\pm 0.010 & HARPS \\2459193.75970319 &-5.7209 \\pm 0.0025 & 0.0664 \\pm 0.0037 & 6.6772 \\pm 0.0050 & 47.6 \\pm 2.4 & 1.287 \\pm 0.034 & -4.324 \\pm 0.011 & HARPS \\2459195.70681719 &-5.7156 \\pm 0.0019 & 0.0669 \\pm 0.0040 & 6.6480 \\pm 0.0037 & 47.7 \\pm 2.4 & 1.207 \\pm 0.022 & -4.3517 \\pm 0.0081 & HARPS \\... &... &... &... &... &... &... &...\\\\hline\\hline$\n",
       "$\\end{tabular}$\n",
       "$\\tablefoot{Only the first 10 values are shown. The complete table is available through CDS (see link in the main title caption).}$\n",
       "$\\end{table*}$\n",
       "$\\begin{table*}$\n",
       "$\\setlength{\\extrarowheight}{2.5pt}$\n",
       "$\\centering$\n",
       "$\\caption{Inferred and derived parameters from the light curve analysis (Sect.~\\ref{sec:TESSanalysis}) for the one-planet model.}$\n",
       "$\\label{tab:LCalone}$\n",
       "$\\begin{tabular}{lll}$\n",
       "$\\hline\\hline$\n",
       "$Parameter & Priors & Posteriors \\\\hline$\n",
       "$\\textit{Planet modeled parameters} & &  \\\\hline$\n",
       "$Orbital period, P_b [days] & \\mathcal{G}(1.8237371,0.0001) & 1.8237306\\pm 0.0000021 \\Time of mid-transit,T_{\\rm 0,b}-2400000 [days] & \\mathcal{G}(59248.377773,0.1) & 59248.37713^{+0.00042}_{-0.00038} \\Orbital inclination,i_{\\rm b} [deg.] & \\mathcal{U}(40.0,90.0) & 86.71^{+0.37}_{-0.36} \\Planet radius,R_b [R_{\\oplus}] & \\mathcal{U}(0.0,20.0) & 2.773^{+0.089}_{-0.086} \\Transit depth,\\Delta_{b} [ppt] & (derived) & 1.443^{+0.042}_{-0.042} \\Orbit semi-major axis,a_{b} [AU] & (derived) & 0.02636^{+0.00017}_{-0.00017} \\Relative orbital separation,a_{b}/R_{\\star} & (derived) & 8.47^{+0.20}_{-0.20} \\Transit duration,T_{\\rm 14,b} [hours] & (derived) & 1.515^{+0.018}_{-0.018} \\Impact parameter,b_{b}/R_{\\star} & (derived) & 0.486^{+0.041}_{-0.046} \\Incident Flux,F_{\\rm inc,b} [F_{{\\rm inc},\\oplus}] & (derived) & 529^{+26}_{-24} \\\\hline$\n",
       "$\\textit{Stellar parameters} & &  \\\\hline$\n",
       "$Stellar radius, R_{\\star} [R_{\\odot}] & \\mathcal{T}(0.671,0.015,0.1,1.2) & 0.669^{+0.016}_{-0.015} \\Stellar mass,M_{\\star} [M_{\\odot}] & \\mathcal{T}(0.734,0.014,0.1,1.2) & 0.734^{+0.014}_{-0.014} \\Stellar luminosity,L_{\\star} [L_{\\odot}] & (derived) & 0.367^{+0.017}_{-0.016} \\Limb-darkeningu_1, LCOHAL_gp & \\mathcal{T}(0.592,0.05,0,1) & 0.595^{+0.026}_{-0.026} \\Limb-darkeningu_2, LCOHAL_gp & \\mathcal{T}(0.141,0.05,0,1) & 0.141^{+0.025}_{-0.025} \\Limb-darkeningu_1, LCOHAL_ip & \\mathcal{T}(0.539,0.05,0,1) & 0.538^{+0.025}_{-0.026} \\Limb-darkeningu_2, LCOHAL_ip & \\mathcal{T}(0.155,0.05,0,1) & 0.154^{+0.025}_{-0.025} \\Limb-darkeningu_1, LCOHAL_rp & \\mathcal{T}(0.7,0.05,0,1) & 0.706^{+0.025}_{-0.025} \\Limb-darkeningu_2, LCOHAL_rp & \\mathcal{T}(0.078,0.05,0,1) & 0.083^{+0.026}_{-0.026} \\Limb-darkeningu_1, LCOHAL_zs & \\mathcal{T}(0.416,0.05,0,1) & 0.414^{+0.026}_{-0.026} \\Limb-darkeningu_2, LCOHAL_zs & \\mathcal{T}(0.195,0.05,0,1) & 0.193^{+0.026}_{-0.026} \\Limb-darkeningu_1, MEarth & \\mathcal{T}(0.416,0.1,0,1) & 0.465^{+0.094}_{-0.095} \\\\hline$\n",
       "$\\textit{Instrument-dependent parameters} & &  \\\\hline$\n",
       "$LC level TESS07 & \\mathcal{U}(-20,20) & -0.54^{+0.64}_{-0.76} \\LC level TESS34 &\\mathcal{U}(-20,20) & -0.1^{+0.62}_{-0.70} \\LC level LCOHAL_gp &\\mathcal{U}(-20,20) & 5.69^{+0.18}_{-0.17} \\LC level LCOHAL_ip &\\mathcal{U}(-20,20) & -0.48^{+0.19}_{-0.20} \\LC level LCOHAL_rp &\\mathcal{U}(-20,20) & 0.62^{+0.19}_{-0.19} \\LC level LCOHAL_zs &\\mathcal{U}(-20,20) & -1.27^{+0.21}_{-0.20} \\LC level MEarth &\\mathcal{U}(-200,200) & 5.41^{+0.18}_{-0.17} \\LC jitter TESS07[ppm] & \\mathcal{U}(0,4000) & 90^{+33}_{-28} \\LC jitter TESS34[ppm] & \\mathcal{U}(0,4000) & 93^{+28}_{-56} \\LC jitter LCOHAL_gp[ppm] & \\mathcal{U}(0,4000) & 882^{+61}_{-44} \\LC jitter LCOHAL_ip[ppm] & \\mathcal{U}(0,4000) & 1588^{+36}_{-48} \\LC jitter LCOHAL_rp[ppm] & \\mathcal{U}(0,4000) & 1638^{+40}_{-28} \\LC jitter LCOHAL_zs[ppm] & \\mathcal{U}(0,4000) & 1164^{+60}_{-38} \\LC jitter MEarth[ppm] & \\mathcal{U}(0,4000) & 881^{+28}_{-41} \\\\hline$\n",
       "$\\textit{GP parameters} & &  \\\\hline$\n",
       "$\\eta_{\\sigma,LC} [ppm] & \\mathcal{LU}(0.01,10000) & 2620^{+600}_{-410} \\\\eta_{{\\rm Q}_0} & \\mathcal{U}(-8.0,10) & -0.82^{+0.17}_{-0.17} \\\\eta_{\\rho} [days] & \\mathcal{G}(24.0,1) & 23.97^{+1.04}_{-0.92} \\\\eta_{\\delta{\\rm Q}} & \\mathcal{U}(0.13,7.38) & 3.5^{+3.1}_{-2.8} \\\\eta_{f} & \\mathcal{U}(0,1) & 0.71^{+0.26}_{-0.20} \\\\hline$\n",
       "$\\hline$\n",
       "$\\multicolumn{3}{l}{Notes: \\mathcal{G}(\\mu,\\sigma): Normal distribution with mean \\mu and width \\sigma. \\mathcal{U}(a,b): Uniform distribution between a and b.}\\\\multicolumn{3}{l}{\\mathcal{LU}(a,b): Log-uniform distribution between a and b. \\mathcal{T}(\\mu,\\sigma,a,b): Truncated normal distribution with mean \\mu and width \\sigma,}\\\\multicolumn{3}{l}{between a and b. }\\\\end{tabular}$\n",
       "$\\end{table*}$\n",
       "$\\begin{table*}$\n",
       "$\\setlength{\\extrarowheight}{3pt}$\n",
       "$\\centering$\n",
       "$\\caption{Inferred and derived parameters from the radial velocity only analysis (Sect.~\\ref{sec:RVanalysis}) for the preferred model (labelled as \"2p1cF\") with the inner planet in a circular orbit and the external component in an eccentric orbit.}$\n",
       "$\\label{tab:RValone}$\n",
       "$\\begin{tabular}{lll}$\n",
       "$\\hline\\hline$\n",
       "$Parameter & Priors & Posteriors \\\\hline$\n",
       "$\\textit{Planet b} & &  \\\\hline$\n",
       "$Orbital period, P_b [days] & \\mathcal{G}(1.8237371,0.000012) & 1.823737^{+0.000013}_{-0.000012} \\Time of mid-transit,T_{\\rm 0,b}-2400000 [days] & \\mathcal{G}(59248.377773,0.003) & 59248.3784^{+0.0031}_{-0.0031} \\RV semi-amplitude,K_{\\rm b} [m/s] & \\mathcal{U}(0.0,100.0) & 5.75^{+0.67}_{-0.62} \\Planet mass,m_{b}\\sin{i_b} [\\Mearth ] & (derived) & 8.89^{+1.0}_{-0.95} \\Orbit semi-major axis,a_{b} [AU] & (derived) & 0.02635^{+0.00017}_{-0.00017} \\Relative orbital separation,a_{b}/R_{\\star} & (derived) & 8.44^{+0.20}_{-0.19} \\Incident Flux,F_{\\rm inc,b} [F_{{\\rm inc},\\oplus}] & (derived) & 225^{+20}_{-19} \\\\hline$\n",
       "$\\textit{Planet c} & &  \\\\hline$\n",
       "$Orbital period, P_c [days] & \\mathcal{LU}(100.0,5000.0) & 1730^{+240}_{-270} \\Time of mid-transit,T_{\\rm 0,c}-2400000 [days] & \\mathcal{U}(57200.0,62900.0) & (60670^{+220}_{-250} \\RV semi-amplitude,K_{\\rm c} [m/s] & \\mathcal{U}(0.0,1500.0) & 319^{+23}_{-20} \\Orbital eccentricity,e_{\\rm c} & \\mathcal{U}(0.0,1.0) & 0.622^{+0.035}_{-0.040} \\Arg. periastron,\\omega_{\\rm c} [deg.] & \\mathcal{U}(0.0,360.0) & 208.4^{+6.6}_{-6.4} \\Planet mass,m_{c}\\sin{i_c} [\\Mjup ] & (derived) & 11.8^{+1.6}_{-1.1} \\Orbit semi-major axis,a_{c} [AU] & (derived) & 2.54^{+0.38}_{-0.36} \\Relative orbital separation,a_{c}/R_{\\star} & (derived) & 810 \\pm 120 \\Incident Flux,F_{\\rm inc,c} [F_{{\\rm inc},\\oplus}] & (derived) & 0.0243^{+0.0089}_{-0.0062} \\\\hline$\n",
       "$\\textit{Instrument-dependent parameters} & &  \\\\hline$\n",
       "$\\delta_{\\rm HARPS} [km/s] & \\mathcal{U}(-10,10) & -5.479^{+0.021}_{-0.025} \\\\delta_{\\rm CORALIE} [km/s] & \\mathcal{U}(-10,10) & -5.541^{+0.018}_{-0.023} \\\\delta_{\\rm PFS} [km/s] & \\mathcal{U}(-10,10) & 0.178^{+0.021}_{-0.025} \\\\sigma_{\\rm HARPS} [m/s] & \\mathcal{LU}(0.1,2) & 1.72^{+0.21}_{-0.43} \\\\sigma_{\\rm CORALIE} [m/s] & \\mathcal{LU}(0.1,30) & 1.20^{+7.7}_{-0.99} \\\\sigma_{\\rm PFS} [m/s] & \\mathcal{LU}(0.1,5) & 3.74^{+0.88}_{-1.1} \\\\delta_{\\rm FWHM,HARPS} [km/s] & \\mathcal{U}(-0.5,0.5) & 0.0575^{+0.0017}_{-0.0016} \\\\delta_{\\rm FWHM,CORALIE} [km/s] & \\mathcal{U}(-0.5,0.5) & -0.077^{+0.013}_{-0.014} \\\\sigma_{\\rm FWHM,HARPS} [m/s] & \\mathcal{LU}(0.1,300) & 6.4^{+1.7}_{-1.3} \\\\sigma_{\\rm FWHM,CORALIE} [m/s] & \\mathcal{LU}(0.1,300) & 61.7^{+11}_{-7.4} \\\\hline$\n",
       "$\\textit{GP parameters} & &  \\\\hline$\n",
       "$\\eta_{\\rm 1,FWHM} [m/s] & \\mathcal{LU}(0.01,400) & 6.2^{+2.4}_{-4.4} \\\\eta_1 [m/s] & \\mathcal{LU}(0.01,50) & 9.3^{+1.8}_{-1.4} \\\\eta_2 [days] & \\mathcal{U}(-8.0,10) & -2.20^{+0.35}_{-0.37} \\\\eta_3 [days] & \\mathcal{G}(24.0,1) & 24.06^{+0.95}_{-1.0} \\\\eta_4 & \\mathcal{U}(0.13,7.38) & 3.9^{+2.4}_{-2.6} \\\\hline$\n",
       "$\\hline$\n",
       "$\\multicolumn{3}{l}{Notes:}\\\\multicolumn{3}{l}{\\bullet \\mathcal{G}(\\mu,\\sigma): Normal distribution with mean \\mu and width \\sigma}\\\\multicolumn{3}{l}{\\bullet \\mathcal{U}(a,b): Uniform distribution between a and b}\\\\multicolumn{3}{l}{\\bullet \\mathcal{LU}(a,b): Log-uniform distribution between a and b}\\\\end{tabular}$\n",
       "$\\end{table*}$\n",
       "$\\onecolumn$\n",
       "$\\setlength{\\extrarowheight}{3pt}$\n",
       "$\\begin{longtable}{lcc}$\n",
       "$\\caption{\\label{tab:joint} Inferred and derived parameters from the joint radial velocity and light curves analysis (Sect.~\\ref{sec:joint}) for the preferred model.}\\\\hline$\n",
       "$Parameter & Priors & Posteriors \\\\hline$\n",
       "$\\endfirsthead$\n",
       "$\\multicolumn{3}{l}{{\\bfseries \\tablename \\thetable  -- continued from previous page}} \\\\hline$\n",
       "$Parameter & Priors & Posteriors \\\\hline$\n",
       "$\\endhead$\n",
       "$\\multicolumn{3}{l}{{Continued on next page}} \\\\hline$\n",
       "$\\endfoot$\n",
       "$\\hline$\n",
       "$\\multicolumn{3}{l}{Notes:}\\\\multicolumn{3}{l}{\\bullet \\mathcal{G}(\\mu,\\sigma): Normal distribution with mean \\mu and width \\sigma}\\\\multicolumn{3}{l}{\\bullet \\mathcal{U}(a,b): Uniform distribution between a and b}\\\\multicolumn{3}{l}{\\bullet \\mathcal{LU}(a,b): Log-uniform distribution between a and b}\\\\multicolumn{3}{l}{\\bullet \\mathcal{T}(\\mu,\\sigma,a,b): Truncated normal distribution with mean \\mu and width \\sigma, between a and b}\\\\endlastfoot$\n",
       "$\\multicolumn{3}{l}{\\it Planet b}  \\\\hline$\n",
       "$Orbital period, P_b [days] & \\mathcal{G}(1.8237371,0.0001) & 1.8237305^{+0.0000020}_{-0.0000021} \\Time of mid-transit,T_{\\rm 0,b}-2400000 [days] & \\mathcal{G}(59248.377773,0.1) & 59248.37709^{+0.00036}_{-0.00039} \\Planet mass,M_b [\\Mearth ] & \\mathcal{U}(0,5000) & 9.1^{+1.0}_{-1.0} \\Orbital inclination,i_{\\rm b} [deg.] & \\mathcal{U}(40,90) & 86.75^{+0.38}_{-0.41} \\Planet radius,R_b [\\Rearth ] & \\mathcal{U}(0,20) & 2.765^{+0.088}_{-0.097} \\Planet density,\\rho_{b} [g\\cdot cm^{-3}] & (derived) & 2.34^{+0.39}_{-0.34} \\Transit depth,\\Delta_{b} [ppt] & (derived) & 1.435^{+0.043}_{-0.043} \\Orbit semi-major axis,a_{b} [AU] & (derived) & 0.02636^{+0.00017}_{-0.00017} \\Relative orbital separation,a_{b}/R_{\\star} & (derived) & 8.47^{+0.21}_{-0.21} \\Transit duration,T_{\\rm 14,b} [hours] & (derived) & 1.519^{+0.018}_{-0.018} \\Planet surface gravity,g_{\\rm b} [m \\cdot s^{-2}] & (derived) & 11.6^{+1.6}_{-1.5} \\Impact parameter,b_{b}/R_{\\star} & (derived) & 0.480^{+0.044}_{-0.051} \\Incident Flux,F_{\\rm inc,b} [F_{{\\rm inc},\\oplus}] & (derived) & 188^{+26}_{-24} \\Equilibrium temperature,T_{\\rm eq,b} [K] & (derived) & 941^{+31}_{-31} \\\\hline$\n",
       "$\\multicolumn{3}{l}{\\it Planet c}  \\\\hline$\n",
       "$Orbital period, P_c [days] & \\mathcal{LU}(100,5000) & 1700^{+290}_{-280} \\Time of mid-transit,T_{\\rm 0,c}-2400000 [days] & \\mathcal{U}(57200,62900) & 60640^{+260}_{-260} \\Minimum mass,m_c\\sin{i_c} [\\Mjup ] & \\mathcal{U}(0,30) & 11.3^{+1.1}_{-0.9} \\Orbital eccentricity,e_{\\rm c} & \\mathcal{U}(0,1) & 0.628^{+0.043}_{-0.036} \\Arg. periastron,\\omega_{\\rm c} [deg.] & \\mathcal{U}(0,360) & 208.5^{+7.8}_{-7.3} \\Orbit semi-major axis,a_{c} [AU] & (derived) & 2.52^{+0.27}_{-0.29} \\Relative orbital separation,a_{c}/R_{\\star} & (derived) & 806^{+91}_{-93} \\Incident Flux,F_{\\rm inc,c} [F_{{\\rm inc},\\oplus}] & (derived) & 0.0208^{+0.0065}_{-0.0046} \\Equilibrium temperature,T_{\\rm eq,c} [K] & (derived) & 96.4^{+6.8}_{-5.8} \\\\hline$\n",
       "$\\multicolumn{3}{l}{\\it Stellar parameters}  \\\\hline$\n",
       "$Stellar radius, R_{\\star} [R_{\\odot}] & \\mathcal{T}(0.671,0.015,0.1,1.2) & 0.669^{+0.015}_{-0.016} \\Stellar mass,M_{\\star} [M_{\\odot}] & \\mathcal{T}(0.734,0.014,0.1,1.2) & 0.735^{+0.014}_{-0.015} \\Stellar luminosity,L_{\\star} [L_{\\odot}] & (derived) & 0.368^{+0.018}_{-0.018} \\Limb-darkeningu_1, LCOHAL_gp & \\mathcal{T}(0.592,0.05,0,1) & 0.602^{+0.050}_{-0.048} \\Limb-darkeningu_2, LCOHAL_gp & \\mathcal{T}(0.141,0.05,0,1) & 0.142^{+0.049}_{-0.048} \\Limb-darkeningu_1, LCOHAL_ip & \\mathcal{T}(0.539,0.05,0,1) & 0.534^{+0.050}_{-0.049} \\Limb-darkeningu_2, LCOHAL_ip & \\mathcal{T}(0.155,0.05,0,1) & 0.150^{+0.051}_{-0.050} \\Limb-darkeningu_1, LCOHAL_rp & \\mathcal{T}(0.7,0.05,0,1) & 0.728^{+0.051}_{-0.049} \\Limb-darkeningu_2, LCOHAL_rp & \\mathcal{T}(0.078,0.05,0,1) & 0.102^{+0.047}_{-0.048} \\Limb-darkeningu_1, LCOHAL_zs & \\mathcal{T}(0.416,0.05,0,1) & 0.411^{+0.051}_{-0.050} \\Limb-darkeningu_2, LCOHAL_zs & \\mathcal{T}(0.195,0.05,0,1) & 0.189^{+0.048}_{-0.051} \\Limb-darkeningu_1, MEarth & \\mathcal{T}(0.416,0.1,0,1) & 0.465^{+0.094}_{-0.094} \\Limb-darkeningu_2, MEarth & \\mathcal{T}(0.195,0.1,0,1) & 0.217^{+0.095}_{-0.095} \\\\hline$\n",
       "$\\multicolumn{3}{l}{\\it Instrument-dependent parameters}  \\\\hline$\n",
       "$LC level TESS07 & \\mathcal{U}(-20,20) & -0.71^{+0.79}_{-0.74} \\LC level TESS34 &\\mathcal{U}(-20,20) & -0.12^{+0.77}_{-0.77} \\LC level LCOHAL_gp &\\mathcal{U}(-200,200) & 5.7^{+0.17}_{-0.18} \\LC level LCOHAL_ip &\\mathcal{U}(-200,200) & -0.47^{+0.21}_{-0.21} \\LC level LCOHAL_rp &\\mathcal{U}(-200,200) & 0.64^{+0.19}_{-0.20} \\LC level LCOHAL_zs &\\mathcal{U}(-200,200) & -1.25^{+0.20}_{-0.20} \\LC level MEarth &\\mathcal{U}(-200,200) & 5.42^{+0.18}_{-0.19} \\LC jitter TESS07[ppm] & \\mathcal{U}(0,4000) & 98^{+42}_{-29} \\LC jitter TESS34[ppm] & \\mathcal{U}(0,4000) & 81^{+51}_{-45} \\LC jitter LCOHAL_gp[ppm] & \\mathcal{U}(0,4000) & 871^{+40}_{-40} \\LC jitter LCOHAL_ip[ppm] & \\mathcal{U}(0,4000) & 1575^{+42}_{-42} \\LC jitter LCOHAL_rp[ppm] & \\mathcal{U}(0,4000) & 1643^{+38}_{-37} \\LC jitter LCOHAL_zs[ppm] & \\mathcal{U}(0,4000) & 1177^{+52}_{-52} \\LC jitter MEarth[ppm] & \\mathcal{U}(0,4000) & 877^{+38}_{-39} \\\\delta_{\\rm HARPS} [km/s] & \\mathcal{U}(-10,10) & -5.478^{+0.025}_{-0.025} \\\\delta_{\\rm CORALIE} [km/s] & \\mathcal{U}(-10,10) & -5.537^{+0.021}_{-0.020} \\\\delta_{\\rm PFS} [km/s] & \\mathcal{U}(-10,10) & 0.178^{+0.025}_{-0.025} \\\\sigma_{\\rm HARPS} [m/s] & \\mathcal{LU}(0.1,2) & 1.51^{+0.74}_{-0.37} \\\\sigma_{\\rm CORALIE} [m/s] & \\mathcal{LU}(0.1,30) & 9.9^{+6.4}_{-7.8} \\\\sigma_{\\rm PFS} [m/s] & \\mathcal{LU}(0.1,5) & 4.0^{+1.2}_{-0.7} \\\\hline$\n",
       "$\\multicolumn{3}{l}{\\it RV and LC Gaussian process hyper-parameters}  \\\\hline$\n",
       "$\\eta_{\\rm 1,LC} [ppm] & \\mathcal{LU}(10000) & 2440^{+780}_{-220} \\\\eta_{\\rm 1,FWHM} [m/s] & \\mathcal{LU}(0.01,400) & 23.2^{+4.2}_{-5.2} \\\\eta_1 [m/s] & \\mathcal{LU}(0.01,50) & 11.6^{+1.6}_{-2.0} \\\\eta_2 [days] & \\mathcal{U}(-8.0,10) & -0.71^{+0.19}_{-0.22} \\\\eta_3 [days] & \\mathcal{G}(24,1) & 24.6^{+1.35}_{-0.87} \\\\eta_4 & \\mathcal{U}(0.13,7.38) & 1.59^{+0.87}_{-1.22} \\\\end{longtable}$\n",
       "$\\end{document}\\end{equation}}$\n",
       "$\\newcommand{\\ee}{\\end{equation}}$\n",
       "$\\newcommand$\n",
       "$\\newcommand$\n",
       "$\\newcommand$\n",
       "$\\newcommand$\n",
       "$\\newcommand{\\toi}{TOI-969}$\n",
       "$\\newcommand{\\toib}{TOI-969 b}$\n",
       "$\\newcommand{\\toic}{TOI-969 c}$\n",
       "$\\newcommand{\\jlillo}[1]{\\textcolor{brown}{#1}}$\n",
       "$\\newcommand{\\request}[1]{\\textcolor{red}{#1}}$\n",
       "$\\newcommand{\\kms}{km s^{-1}}$\n",
       "$\\newcommand{\\ms}{\\hbox{m s^{-1}}}$\n",
       "$\\newcommand{\\msd}{\\hbox{m s^{-1}.d^{-1}}}$\n",
       "$\\newcommand{\\cms}{\\hbox{cm\\;s^{-1}}}$\n",
       "$\\newcommand{\\cmss}{\\hbox{cm s^{-2}}}$\n",
       "$\\newcommand{\\gcm3}{\\hbox{g cm^{-3}}}$\n",
       "$\\newcommand{\\vsini}{\\hbox{\\upsilon \\sin i_{\\star}}}$\n",
       "$\\newcommand{\\sini}{\\hbox{sin i}}$\n",
       "$\\newcommand{\\Msun}{\\hbox{\\mathrm{M}_{\\astrosun}}}$\n",
       "$\\newcommand{\\Rsun}{\\hbox{\\mathrm{R}_{\\astrosun}}}$\n",
       "$\\newcommand{\\Mjup}{\\hbox{\\mathrm{M}_{\\rm Jup}}}$\n",
       "$\\newcommand{\\Rjup}{\\hbox{\\mathrm{R}_{\\rm Jup}}}$\n",
       "$\\newcommand{\\Mearth}{\\hbox{\\mathrm{M}_{\\oplus}}}$\n",
       "$\\newcommand{\\Rearth}{\\hbox{\\mathrm{R}_{\\oplus}}}$\n",
       "$\\newcommand{\\degr}{\\hbox{^\\circ}}$\n",
       "$\\newcommand{\\teff}{T_{\\rm eff}}$\n",
       "$\\newcommand{\\logg}{log~{\\it g}}$\n",
       "$\\newcommand{\\met}{[Fe/H]}$\n",
       "$\\newcommand{\\vmicro}{\\upsilon_\\mathrm{micro}}$\n",
       "$\\newcommand{\\vmacro}{\\upsilon_\\mathrm{macro}}$\n",
       "$\\newcommand{\\figw}{\\columnwidth}$</div>\n",
       "\n",
       "<div class=\"macros\" style=\"visibility:hidden;\">\n",
       "$\\newcommand{$\\ensuremath$}{}$\n",
       "$\\newcommand{$\\xspace$}{}$\n",
       "$\\newcommand{$\\object$}[1]{\\texttt{#1}}$\n",
       "$\\newcommand{$\\farcs$}{{.}''}$\n",
       "$\\newcommand{$\\farcm$}{{.}'}$\n",
       "$\\newcommand{$\\arcsec$}{''}$\n",
       "$\\newcommand{$\\arcmin$}{'}$\n",
       "$\\newcommand{$\\ion$}[2]{#1#2}$\n",
       "$\\newcommand{$\\textsc$}[1]{\\textrm{#1}}$\n",
       "$\\newcommand{$\\hl$}[1]{\\textrm{#1}}$\n",
       "$\\newcommand$\n",
       "$\\newcommand$\n",
       "$\\newcommand$\n",
       "$\\newcommand{$\\comm$}[1]{\\textcolor{blue}{#1}}$\n",
       "$\\newcommand{\\be}{\\begin{equation}}$\n",
       "$\\newcommand{$\\ee$}{\\end{equation}}$\n",
       "$\\newcommand\\Dv{{\\Delta \\varpi} }$\n",
       "$\\newcommand\\mearth{{M_{\\oplus}}}$\n",
       "$\\newcommand\\rearth{{R_{\\oplus}}}$\n",
       "$\\newcommand\\boldblue[1]{\\textcolor{blue}{\\textbf{#1}}}$\n",
       "$\\newcommand{$\\toi$}{TOI-969}$\n",
       "$\\newcommand{$\\toi$b}{TOI-969 b}$\n",
       "$\\newcommand{$\\toi$c}{TOI-969 c}$\n",
       "$\\newcommand{$\\jlillo$}[1]{\\textcolor{brown}{#1}}$\n",
       "$\\newcommand{$\\request$}[1]{\\textcolor{red}{#1}}$\n",
       "$\\usepackage{romannum}$\n",
       "$\\begin{document}$\n",
       "$   \\title{TOI-969: a late-K dwarf with a hot mini-Neptune in the desert \\and an eccentric cold Jupiter\\thanks{Based on Guaranteed Time Observations collected at the European Southern Observatory (ESO) under ESO programs 1102.C-0249 (PI: Armstrong), 106.21TJ.001 (PI: Gandolfi). This paper includes data gathered with the 6.5 meter Magellan Telescopes located at Las Campanas Observatory, Chile. The full dataset is accessible from CDS through the following link XXX.}}$\n",
       "$   \\author{$\n",
       "$J.~Lillo-Box\\inst{\\ref{cab}},$\n",
       "$D.~Gandolfi\\inst{\\ref{torino}},$\n",
       "$D.J.~Armstrong\\inst{\\ref{warwick},\\ref{ceh}},$\n",
       "$K.~A.~Collins\\inst{\\ref{cfa}},$\n",
       "$L.~D.~Nielsen\\inst{\\ref{eso-garching},\\ref{geneva}},$\n",
       "$R.~Luque\\inst{\\ref{iaa}},$\n",
       "$J.~Korth\\inst{\\ref{chalmers}},$\n",
       "$S.~G.~Sousa\\inst{\\ref{ia-porto}},$\n",
       "$S.~N.~Quinn\\inst{\\ref{cfa}},$\n",
       "$L.~Acu\\~na\\inst{\\ref{marseille}},$\n",
       "$S.~B.~Howell\\inst{\\ref{ames}},$\n",
       "$G.~Morello\\inst{\\ref{iac},\\ref{ull}},$\n",
       "$C.~Hellier\\inst{\\ref{keele}},$\n",
       "$S.~Giacalone\\inst{\\ref{berkeley}},$\n",
       "$S.~Hoyer\\inst{\\ref{marseille}},$\n",
       "$K.~Stassun\\inst{\\ref{nashville}},$\n",
       "$E.~Palle\\inst{\\ref{iac},\\ref{ull}},$\n",
       "$A.~Aguichine\\inst{\\ref{marseille}},$\n",
       "$O.~Mousis\\inst{\\ref{marseille}},$\n",
       "$V.~Adibekyan\\inst{\\ref{ia-porto},\\ref{uporto}},$\n",
       "$T.~Azevedo~Silva\\inst{\\ref{ia-porto},\\ref{uporto}},$\n",
       "$D.~Barrado\\inst{\\ref{cab}},$\n",
       "$M.~Deleuil\\inst{\\ref{marseille}},$\n",
       "$J.~D.~Eastman\\inst{\\ref{cfa}},$\n",
       "$F.~Hawthorn\\inst{\\ref{warwick},\\ref{ceh}},$\n",
       "$J.~M.~Irwin\\inst{\\ref{ioa}},$\n",
       "$J.~M.~Jenkins\\inst{\\ref{ames}},$\n",
       "$D.~W.~Latham\\inst{\\ref{cfa}},$\n",
       "$A.~Muresan\\inst{\\ref{chalmers2}},$\n",
       "$C.M.~Persson\\inst{\\ref{chalmers2}},$\n",
       "$A.~Santerne\\inst{\\ref{marseille}},$\n",
       "$N.~C.~Santos\\inst{\\ref{ia-porto},\\ref{uporto}},$\n",
       "$A.~B.~Savel\\inst{\\ref{maryland}},$\n",
       "$H.~P.~Osborn\\inst{\\ref{csh}},$\n",
       "$J.~Teske\\inst{\\ref{carnegie}},$\n",
       "$P.~J.~Wheatley\\inst{\\ref{warwick},\\ref{ceh}},$\n",
       "$J.~N.~Winn\\inst{\\ref{princeton}},$\n",
       "$S.~C.~C.~Barros\\inst{\\ref{ia-porto},\\ref{uporto}},$\n",
       "$R.~P.~Butler\\inst{\\ref{carnegie}},$\n",
       "$D.~A.~Caldwell\\inst{\\ref{seti}},$\n",
       "$D.~Charbonneau\\inst{\\ref{cfa}},$\n",
       "$R.~Cloutier\\inst{\\ref{cfa}},$\n",
       "$J.~D.~Crane\\inst{\\ref{carnegie-ca}},$\n",
       "$O.~D.~S.~Demangeon\\inst{\\ref{ia-porto},\\ref{uporto}},$\n",
       "$R.~F.~D\\'iaz\\inst{\\ref{icas}},$\n",
       "$X.~Dumusque\\inst{\\ref{geneva-inst}},$\n",
       "$M.~Esposito\\inst{\\ref{tautenburg}},$\n",
       "$B.~Falk\\inst{\\ref{stsci}},$\n",
       "$H.~Gill\\inst{\\ref{berkeley}},$\n",
       "$S.~Hojjatpanah\\inst{\\ref{marseille}},$\n",
       "$L.~Kreidberg\\inst{\\ref{mpia}},$\n",
       "$I.~Mireles\\inst{\\ref{newmex}},$\n",
       "$A.~Osborn\\inst{\\ref{warwick},\\ref{ceh}},$\n",
       "$G.~R.Ricker\\inst{\\ref{mit}},$\n",
       "$J.~E.~Rodriguez\\inst{\\ref{michigan}},$\n",
       "$R.~P.~Schwarz\\inst{\\ref{cfa}},$\n",
       "$S.~Seager\\inst{\\ref{mit},\\ref{mit-earth},\\ref{mit-aero}},$\n",
       "$J.~Serrano Bell\\inst{\\ref{laplata}},$\n",
       "$S.~A.~Shectman\\inst{\\ref{carnegie-ca}},$\n",
       "$A.~Shporer\\inst{\\ref{mit}},$\n",
       "$M.~Vezie\\inst{\\ref{mit}},$\n",
       "$S.~X.~Wang\\inst{\\ref{tsinghua}},$\n",
       "$G.~Zhou\\inst{\\ref{queensland}}$\n",
       "$}$\n",
       "$\\institute{$\n",
       "$Centro de Astrobiolog\\'ia (CAB, CSIC-INTA), Depto. de Astrof\\'isica, ESAC campus, 28692, Villanueva de la Ca\\~nada (Madrid), Spain \\email{Jorge.Lillo@cab.inta-csic.es}$\n",
       "$\\label{cab}$\n",
       "$\\and$\n",
       "$Dipartimento di Fisica, Universit\\'a degli Studi di Torino, via Pietro Giuria 1, 10125, Torino, Italy$\n",
       "$\\label{torino}$\n",
       "$\\and$\n",
       "$Department of Physics, University of Warwick, Gibbet Hill Road, Coventry CV4 7AL, UK$\n",
       "$\\label{warwick}$\n",
       "$\\and$\n",
       "$Centre for Exoplanets and Habitability, University of Warwick, Gibbet Hill Road, Coventry CV4 7AL, UK$\n",
       "$\\label{ceh}$\n",
       "$\\and$\n",
       "$Center for Astrophysics \\textbar  Harvard \\& Smithsonian, 60 Garden Street, Cambridge, MA 02138, USA$\n",
       "$\\label{cfa}$\n",
       "$\\and$\n",
       "$European Southern Observatory, Karl-Schwarzschildstr. 2, D-85748 Garching bei M{\\\"u}nchen, Germany$\n",
       "$\\label{eso-garching}$\n",
       "$\\and$\n",
       "$Observatoire astronomique de l'Universit{\\'e} de Gen{\\`e}ve, Chemin Pegasi 51, 1290 Versoix, Switzerland$\n",
       "$\\label{geneva}$\n",
       "$\\and Instituto de Astrof\\'isica de Andaluc\\'ia (IAA-CSIC), Glorieta de la Astronom\\'ia s/n, 18008 Granada, Spain$\n",
       "$\\label{iaa}$\n",
       "$\\and$\n",
       "$Department of Space, Earth and Environment, Astronomy and Plasma Physics, Chalmers University of Technology, 412 96 Gothenburg, Sweden$\n",
       "$\\label{chalmers}$\n",
       "$\\and$\n",
       "$Instituto de Astrof\\'isica e Ci\\^encias do Espa\\c{c}o, Universidade do Porto, CAUP, Rua das Estrelas, 4150-762 Porto, Portugal$\n",
       "$\\label{ia-porto}$\n",
       "$\\and$\n",
       "$Aix-Marseille Univ., CNRS, CNES, LAM, Marseille, France$\n",
       "$\\label{marseille}$\n",
       "$\\and$\n",
       "$NASA Ames Research Center, Moffett Field, CA 94035, USA$\n",
       "$\\label{ames}$\n",
       "$\\and$\n",
       "$Instituto de Astrof\\'isica de Canarias (IAC), 38205 La Laguna, Tenerife, Spain$\n",
       "$\\label{iac}$\n",
       "$\\and$\n",
       "$Departamento de Astrof\\'isica, Universidad de La Laguna (ULL), 38206, La Laguna, Tenerife, Spain$\n",
       "$\\label{ull}$\n",
       "$\\and$\n",
       "$Astrophysics Group, Keele University, Staffordshire ST5 5BG, U.K.$\n",
       "$\\label{keele}$\n",
       "$\\and$\n",
       "$Department of Astronomy, University of California Berkeley, Berkeley, CA 94720, USA$\n",
       "$\\label{berkeley}$\n",
       "$\\and$\n",
       "$Department of Physics and Astronomy, Vanderbilt University, Nashville, TN 37235, USA$\n",
       "$\\label{nashville}$\n",
       "$\\and$\n",
       "$Departamento de F\\'isica e Astronomia, Faculdade de Ci\\^encias, Universidade do Porto, Rua do Campo Alegre, 4169-007 Porto, Portugal$\n",
       "$\\label{uporto}$\n",
       "$\\and$\n",
       "$Institute of Astronomy, University of Cambridge, Madingley Road, Cambridge, CB3 0HA, UK$\n",
       "$\\label{ioa}$\n",
       "$\\and$\n",
       "$Chalmers University of Technology, Department of Space, Earth and Environment, Onsala Space Observatory, SE-439 92 Onsala, Sweden$\n",
       "$\\label{chalmers2}$\n",
       "$\\and$\n",
       "$Department of Astronomy, University of Maryland, College Park, MD 20742, USA$\n",
       "$\\label{maryland}$\n",
       "$\\and$\n",
       "$Center for Space and Habitability, University of Bern, Gesellschaftsstrasse 6, 3012, Bern, Switzerland$\n",
       "$\\label{csh}$\n",
       "$\\and$\n",
       "$Carnegie Earth \\& Planets Laboratory, 5241 Broach Branch Road NW, Washington, DC 20015, USA$\n",
       "$\\label{carnegie}$\n",
       "$\\and$\n",
       "$Department of Astrophysical Sciences, Princeton University, Princeton, NJ 08544, USA$\n",
       "$\\label{princeton}$\n",
       "$\\and$\n",
       "$SETI Institute/NASA Ames Research Center, Moffett Field, CA 94035, USA$\n",
       "$\\label{seti}$\n",
       "$\\and$\n",
       "$The Observatories of the Carnegie Institution for Science, 813 Santa Barbara St, Pasadena, CA 91101, USA$\n",
       "$\\label{carnegie-ca}$\n",
       "$\\and$\n",
       "$International Center for Advanced Studies (ICAS) and ICIFI (CONICET), ECyT-UNSAM, Campus Miguelete, 25 de Mayo y Francia, (1650) Buenos Aires, Argentina.$\n",
       "$\\label{icas}$\n",
       "$\\and$\n",
       "$Department of Astronomy of the University of Geneva, 51 Chemin de Pegasi, 1290 Versoix, Switzerland$\n",
       "$\\label{geneva-inst}$\n",
       "$\\and$\n",
       "$Th\\\"uringer Landessternwarte Tautenburg, Sternwarte 5, 07778, Tautenburg, Germany$\n",
       "$\\label{tautenburg}$\n",
       "$\\and$\n",
       "$Space Telescope Science Institute, 3700 San Martin Drive, Baltimore, MD, 21218, USA$\n",
       "$\\label{stsci}$\n",
       "$\\and$\n",
       "$Max Planck Institute for Astronomy, K\\\"onigstuhl 17, 69117 Heidelberg, Germany$\n",
       "$\\label{mpia}$\n",
       "$\\and$\n",
       "$Department of Physics and Astronomy, University of New Mexico, 210 Yale Blvd NE, Albuquerque, NM 87106, USA$\n",
       "$\\label{newmex}$\n",
       "$\\and$\n",
       "$Department of Physics and Kavli Institute for Astrophysics and Space Research, Massachusetts Institute of Technology, Cambridge, MA 02139, USA$\n",
       "$\\label{mit}\\\\and$\n",
       "$Center for Data Intensive and Time Domain Astronomy, Department of Physics and Astronomy, Michigan State University, East Lansing, MI 48824, USA$\n",
       "$\\label{michigan}$\n",
       "$\\and$\n",
       "$Department of Earth, Atmospheric and Planetary Sciences, Massachusetts Institute of Technology, Cambridge, MA 02139, USA$\n",
       "$\\label{mit-earth}$\n",
       "$\\and$\n",
       "$Department of Aeronautics and Astronautics, MIT, 77 Massachusetts Avenue, Cambridge, MA 02139, USA$\n",
       "$\\label{mit-aero}$\n",
       "$\\and$\n",
       "$Facultad de Ciencias Astron\\'omicas y Geof\\'isicas, Universidad Nacional de La Plata, Paseo del Bosque s/n, (B1900) Buenos Aires, Argentina.$\n",
       "$\\label{laplata}$\n",
       "$\\and$\n",
       "$Department of Astronomy, Tsinghua University, Beijing 100084, People's Republic of China$\n",
       "$\\label{tsinghua}$\n",
       "$\\and$\n",
       "$University of Southern Queensland, Centre for Astrophysics, West Street, Toowoomba, QLD 4350 Australia$\n",
       "$\\label{queensland}$\n",
       "$}$\n",
       "$   \\date{Received XXX; accepted YYY}$\n",
       "$  \\abstract{The current architecture of a given multi-planetary system is a key fingerprint of its past formation and dynamical evolution history. Long-term follow-up observations are key to complete their picture.}{In this paper we focus on the confirmation and characterization of the components of the $\\toi$  planetary system, where TESS detected a Neptune-size planet candidate in a very close-in orbit around a late K-dwarf star.}{We use a set of precise radial velocity observations from HARPS, PFS and CORALIE instruments covering more than two years in combination with the TESS photometric light curve and other ground-based follow-up observations to confirm and characterize the components of this planetary system.}{We find that $\\toi$b  is a transiting close-in (P_b\\sim 1.82~days) mini-Neptune planet (m_b=9.1^{+1.1}_{-1.0}~$\\Mearth$ , R_b=2.765^{+0.088}_{-0.097}~$\\Rearth$ ), thus placing it on the {lower boundary} of the hot-Neptune desert (T_{\\rm eq,b}=941\\pm31~K). The analysis of its internal structure shows that $\\toi$b  is a volatile-rich planet, suggesting it underwent an inward migration. The radial velocity model also favors the presence of a second massive body in the system, $\\toi$c , with a long period of P_c=1700^{+290}_{-280}~days and a minimum mass of m_{c}\\sin{i_c}=11.3^{+1.1}_{-0.9}~$\\Mjup$ , and with a highly-eccentric orbit of e_c=0.628^{+0.043}_{-0.036}.}{The $\\toi$  planetary system is one of the few around K-dwarfs known to have this extended configuration going from a very close-in planet to a wide-separation gaseous giant. $\\toi$b  has a transmission spectroscopy metric of 93, and it orbits a moderately bright (G=11.3 mag) star, thus becoming an excellent target for atmospheric studies. The architecture of this planetary system can also new valuable information about migration and formation of planetary systems.}$\n",
       "$   \\keywords{Planets and Satellites: detection, fundamental parameters -- Techniques: radial velocities -- Stars: individual: TOI-969}$\n",
       "$\t\\titlerunning{TOI-969}$\n",
       "$\t\\authorrunning{Lillo-Box et al.}$\n",
       "$   \\maketitle$\n",
       "$\\section{Introduction}$\n",
       "$So far, 860 multi-planetary systems (with two or more planets) around stars other than the Sun have been found hosting a total of 2050 planets according to the NASA Exoplanet archive \\citep{akeson13} to date. In contrast to our Solar System, the components of most of these known multi-planet systems reside in close-in compact configurations \\citep[e.g.,][]{gillon16}, mainly biased by the observational techniques. This is especially relevant in the case of late-type stars, with effective temperatures below 4600 K, for which 90\\% of multi-planetary systems have all their detected planets interior to the snow line (the distance from the parent star within which volatiles can condense into ice grains), and 91\\% of the known long-period planets are massive and isolated \\citep{lillo-box22}. Only a small number of systems in this stellar regime show components on both sides of the snow line (e.g., WASP-107 by \\citealt{anderson17,piaulet20}, or GJ 1148 by \\citealt{trifonov18}). This is a clear fingerprint of the planet migration and formation history. Thus finding new systems covering these regimes is an important step towards comprehending planetary histories.$\n",
       "$Exoplanet exploration has also revealed different exoplanet populations, including zones in the parameter space where there is a clear dearth of extrasolar planets. One of the most intriguing is the hot-Neptune desert \\citep{szabo11,owen18}, a newcommandicit of icy to sub-Jovian planets (R_p \\sim 2-10$\\Rearth$) at close-in orbits (P<5 days). Several theories have been proposed to explain the emptiness of this region, such as atmospheric mass loss of low-mass gaseous giants unable to retain their atmospheres due to the strong stellar irradiation suffered along their inward migration \\citep{lopez14,owen13}; a consequence of the core accretion scenario in forming gas giants more preferentially than Neptune-like planets \\citep[e.g.,][]{ida08}; or a faster migration of the lowest-mass end of gas giants preventing them to accrete large amounts of gas \\citep{flock19}.$\n",
       "$Interestingly, both the Kepler \\citep{borucki10} and TESS (Transiting Exoplanet Survey Satellite, \\citealt{ricker14}) missions, assisted by ground-based follow-up observations, have sparsely populated this desert with planets displaying unusual properties. Two clear examples of this are TOI-849 b \\citep{armstrong20} and LTT 9779 b \\citep{jenkins20}, two ultra-short period planets in the middle of the hot-Neptune desert. The advantage of the planets detected by TESS in this regime is that they usually orbit stars much brighter than those detected by Kepler. This, combined with the transiting nature of these detections and the precise masses achievable due to their proximity to their host star, opens the possibility to study their interior properties (through internal structure analysis, e.g., \\citealt{delrez21}) and composition with the James Webb Space Telescope (JWST, \\citealt{gardner06}).$\n",
       "$In this paper, we present the confirmation and characterization of the planetary system $\\toi$  (also known as TIC 280437559, TYC 183-755-1, Gaia DR3 3087206553745290624), composed of at least two very distinct companions and whose architecture and properties of the individual components may be a test bench to study theories of planet formation and migration in the cool regime of solar-like stars. The inner component, a short-period mini-Neptune, was detected by the TESS mission. The outer component is an eccentric massive body in the boundary between planet and brown dwarf domain orbiting with a long orbital period beyond the snow line that we report here for the first time. In Sect.~\\ref{sec:observations}, we describe the observations from different instruments and the techniques that have been used to characterize the system. In Sect.~\\ref{sec:StePar}, we use these observations to constrain the stellar parameters and in Sect.~\\ref{sec:Analysis} to unveil the properties of the planetary system. We discuss the results of this analysis in Sect.~\\ref{sec:Discussion}, and we finish in Sect.~\\ref{sec:Conclusions} by providing our final conclusions.$\n",
       "$\\section{Observations}$\n",
       "$\\label{sec:observations}$\n",
       "$\\subsection{High-precision photometry}$\n",
       "$\\label{sec:Obs.Phot}$\n",
       "$\\subsubsection{TESS}$\n",
       "$\\label{sec:tess}$\n",
       "$Observations of $\\toi$  are available in sectors 7 (from Cycle 1) and 34 (Cycle 3), in both cases with camera \\#1. In the case of Sector 7 the cadence of the time series correspond to 1800 s while in the case of {Sector 34} a cadence of 600 s is available. We downloaded the light curve files from the MAST archive\\footnote{\\url{https://archive.stsci.edu}} corresponding to the data extraction by the TESS-SPOC pipeline (Caldwell et al 2020), which uses the same codebase as the Science Processing Operations Center (SPOC; \\citealt{jenkins16}). We use the Presearch Data Conditioned Simple Aperture Photometry (PDCSAP; \\citealt{stumpe12,stumpe14,smith12}) flux and remove any data points marked as outliers or having non-numeric values.$\n",
       "$We first inspect the target pixel files (TPF) for each sector by using the \\texttt{tpfplotter} algorithm\\footnote{This code is publicly available in Github through the following URL:  \\url{https://github.com/jlillo/tpfplotter}.} \\citep{aller20} to check for possible contaminant sources within the pipeline aperture. In Fig.~\\ref{fig:TPF} we show the average TPF for each sector. As shown, both sectors include three additional sources in the aperture. However, their magnitude contrast in the Gaia passband are 6.6 mag (source labelled as \\#2 in Fig.~\\ref{fig:TPF}), 6.1 mag (source \\#3) and 7.6 mag (source \\#4). Overall, the contamination coming from these three sources is well below 0.1\\%. Consequently, we assume the flux as originating only from $\\toi$ .$\n",
       "$The photometric time series for both sectors are presented in Fig.~\\ref{fig:TESS} and Table~\\ref{tab:TESSdata}, together with their corresponding Lomb-Scargle periodograms. They show clear large photometric variations that can be attributed to the stellar activity, with the main periodicities around 8 and 12 days. These might be the harmonics of the possible rotation period at 24 days, as we see in the spectroscopic activity indicators (see Sect.~\\ref{sec:Obs.Spec}). Besides, the light curve clearly shows the dips corresponding to the transits of the 1.8-day period planet candidate alerted by the TESS Science Office (see vertical {line marks} in Fig.~\\ref{fig:TESS}).$\n",
       "$\\begin{figure}$\n",
       "$\\centering$\n",
       "$\\includegraphics[width=0.5\\textwidth]{TPF_Gaia_TIC280437559_S7.pdf}$\n",
       "$\\includegraphics[width=0.5\\textwidth]{TPF_Gaia_TIC280437559_S34.pdf}$\n",
       "$\\caption{Target Pixel File (TPF) corresponding to $\\toi$  observations by the TESS mission in sectors 7 (upper panel) and 34 (lower panel). In both panels, the sources from the Gaia catalog DR3 are shown as red circles, with their size corresponding to the magnitude contrast against $\\toi$  (marked with the label \"1\" and a white cross). The aperture used by the TESS-SPOC pipeline is shown as a shaded red region on each panel. The figures are computed using the \\texttt{tpfplotter} algorithm by \\cite{aller20}. }$\n",
       "$\\label{fig:TPF}$\n",
       "$\\end{figure}$\n",
       "$\\begin{figure*}$\n",
       "$\\centering$\n",
       "$\\includegraphics[width=1\\textwidth]{TOI969_TESS_timeseries_paper.pdf}$\n",
       "$\\caption{TESS photometric timeseries from sectors \\#7 (left panels) and \\#34 (right panels). Upper panels display the PDCSAP flux and a simple median filter compted trend (blue solid line). The detrended light curves are shown in the lower panels and the transits from $\\toi$b  are marked by {vertical red lines at the bottom of each panel.} }$\n",
       "$\\label{fig:TESS}$\n",
       "$\\end{figure*}$\n",
       "$Based on this alert, we observed the transit of the planet candidate from different ground-based facilities.\\\\subsubsection{LCOGT-MuSCAT3}$\n",
       "$\\label{sec:lco}$\n",
       "$A full transit of $\\toi$b  was observed simultaneously in Sloan g', r', i', and Pan-STARRS z-short bands on UTC 2021 January 08 using the Las Cumbres Observatory Global Telescope \\citep[LCOGT;][]{Brown:2013} 2 m Faulkes Telescope North at Haleakala Observatory on Maui, Hawai'i. The telescope is equipped with the MuSCAT3 multi-band imager \\citep{Narita:2020}. We used the {\\tt TESS Transit Finder}, which is a customized version of the {\\tt Tapir} software package \\citep{Jensen:2013}, to schedule our transit observations. The images were calibrated using the standard LCOGT BANZAI pipeline, and photometric data were extracted using {\\tt AstroImageJ}. The images were mildly newcommandocused and have typical stellar point-spread-functions with FWHM of \\sim 1$\\farcs$6, and circular apertures with radius 4$\\arcsec$ were used to extract the differential photometry. The apertures exclude essentially all of the flux from the nearest Gaia DR3 neighbor (TIC 280437561) 9$\\arcsec$ northwest of the target (labelled as \\#2 in Fig.~\\ref{fig:TPF}). The transit was detected on target in all four filter bands. The final light curves are presented in Table~\\ref{tab:GBdata}.$\n",
       "$\\subsubsection{MEarth}$\n",
       "$\\label{sec:MEarth}$\n",
       "$One transit of $\\toi$b  was observed using the MEarth-South telescope array \\citep{irwin15} at Cerro Tololo Inter-American Observatory (CTIO), Chile on UT 2020 February 4. Six telescopes were used to obtain photometry of the target star, newcommandocused to half flux diameter (HFD) of 6 pixels, equivalent to 5 arcsec given the pixel scale of 0.84 arcsec/pix.  Exposure times were 60 seconds.  One telescope was used to obtain photometry of any contaminating fainter sources at higher angular resolution, with the target saturated, using the same exposure time.  Observations were gathered starting at evening twilight and continuing until the target set below an airmass of 2.$\n",
       "$Data were reduced using the standard MEarth processing pipeline (e.g. \\citealt{irwin07,berta12}) with a photometric extraction aperture of r = 10 pixels (8.4 arcsec). The light curves contain meridian flips during transit.  These were taken into account in the data reduction by using separate magnitude zero points for each combination of telescope and meridian side to remove residual flat fielding error. The final extracted photometric time series is presented in Table~\\ref{tab:GBdata}.$\n",
       "$\\subsubsection{WASP}$\n",
       "$\\label{sec:wasp}$\n",
       "$The field of $\\toi$  was observed between 2009 and 2012 by the WASP (Wide Angle Search for Planets) transit-search survey \\citep{wasp}. A total of 14 600 photometric data points were obtained, observing on clear nights when the field was visible with a typical cadence of 15 mins. The 200-mm, f/1.8 Canon lenses were backed by 2kx2k CCDs. $\\toi$  is five magnitudes brighter than any other star in the 48-arcsec extraction aperture. Table~\\ref{tab:WASPdata} presents the photometric time series. Following the methods described in \\citet{maxted11}, the Lomb-Scargle periodogram of this long-term dataset reveals a signal at a period of 24.6 \\pm 0.6 d, together with power at the 12.3-d first harmonic. The modulation has an amplitude of 8 mmag and has a false-alarm likelihood below 10^{-3}. This signal is similar to that described above in the TESS data, and its origin clearly points to the rotational periodicity of the star {(see Sect.~\\ref{sec:StePar} for a detailed discussion about the stellar rotation period)}.$\n",
       "$\\subsection{High-spatial resolution imaging}$\n",
       "$\\label{sec:Obs.HRim}$\n",
       "$The presence of close stellar companions to a star hosting a planet candidate (either physically bound of chance aligned) can create false-positive exoplanet detections under specific configurations (e.g., eclipsing binaries) or new additional flux leading to an underestimated planetary radius and incorrect exoplanet parameters (see, e.g., \\citealt{lillo-box12,lillo-box14b,ciardi15,furlan17}). Besides the large-separation sources described in the previous section through the analysis of the Gaia EDR3 catalog (\\citealt{gaia21}), we explored the close-in region (<3 arcsec) around the candidate host star to unveil previously unresolved companions through high-spatial resolution images at different wavelengths.$\n",
       "$\\toi  was observed on 2020 January 14 UT using the Zorro speckle instrument on Gemini South \\citep{scott21}. Zorro news simultaneous speckle imaging in two bands (562 nm and 832 nm) with output data products including a reconstructed image and robust contrast limits on companion detections \\citep{howell11,howell16}. The night was clear, had a slight breeze, and good seeing (0.6 to 1.0 arcsec) during the observations. Figure~\\ref{fig:HRimaging} (left panel) shows our limiting magnitude contrast curves and our 832 nm reconstructed speckle image. We find that $\\toi$  is a single star with no companion brighter than 5 to 8 magnitudes from the diffraction limit out to 1.2 arcsec. At the distance to $\\toi$  (77~pc, see Sect.~\\ref{sec:StePar}) these angular limits correspond to spatial limits of 1.5 to 92 AU.$\n",
       "$We also observed $\\toi$  on UT 2019 October 15 using the ShARCS camera on the Shane 3-meter telescope at Lick Observatory \\citep{2012SPIE.8447E..3GK, 2014SPIE.9148E..05G, 2014SPIE.9148E..3AM}. Observations were taken with the Shane adaptive optics system in natural guide star mode in order to search for nearby, unresolved stellar companions. We collected two sequences of observations, one with a K_{\\rm S} filter (\\lambda_0 = 2.150 \\mum, \\Delta \\lambda = 0.320 \\mum) and one with a J filter (\\lambda_0 = 1.238 \\mum, \\Delta \\lambda = 0.271 \\mum), and reduced the data using the publicly available \\texttt{SImMER} pipeline \\citep{2020AJ....160..287S}\\footnote{\\url{https://github.com/arjunsavel/SImMER}}. Our reduced images and corresponding contrast curves are shown in Fig.~\\ref{fig:HRimaging} (central and right panels). We find no nearby stellar companions within our detection limits.$\n",
       "$\\begin{figure}$\n",
       "$\\centering$\n",
       "$\\includegraphics[width=0.5\\textwidth]{HighResImaging_TOI1685_Sensitivity.pdf}$\n",
       "$\\caption{{High-spatial resolution contrast curves for $\\toi$  from the Zorro speckle instrument on Gemini South (blue curve for the 562 nm band and green curve for the 832 nm band), and the 3m Shane telescope in the J-band (orange) and Ks-band (red). The two dotted lines correspond to 10\\% (upper) and 5\\% (lower) contamination levels in the lightcurve. The dashed line corresponds to the maximum contrast that a blended binary could have to mimic the transit depth of $\\toi$b .}}$\n",
       "$\\label{fig:HRimaging}$\n",
       "$\\end{figure}$\n",
       "$\\subsection{High-resolution spectroscopy}$\n",
       "$\\label{sec:Obs.Spec}$\n",
       "$\\subsubsection{HARPS}$\n",
       "$\\toi  was observed intensively with the HARPS spectrograph (\\citealt{mayor03}) on the ESO 3.6 m telescope at La Silla Observatory, Chile, from 2020 November 10 to 2021 March 24. In total, 66 spectra were obtained under the programmes 1102.C-0249 (PI: Armstrong), and 106.21TJ.001 (PI: Gandolfi). HARPS is a stabilized high-resolution spectrograph with a resolving power of R\\sim115 000, capable of sub-$\\ms$  RV precision. We used the instrument in high-accuracy mode with a 1 arcsec science fibre on the star and a second fibre on sky to monitor the sky-background during exposure$\n",
       "$RVs were determined with the standard (online) HARPS data reduction pipeline using a K5 binary mask for the cross-correlation (\\citealt{pepe02}), and a K5 template for flux correction to match the slope of the spectra across Echelle orders. With a typical signal-to-noise ratio (SNR) per pixel of 30, we achieved an RV precision of 2.5~$\\ms$ . For each epoch the bisector span (BIS), contrast, and full width at half-maximum (FWHM) of the CCF were calculated, as well as the chromospheric activity indicators CaII H\\&K, H\\alpha, and Na. These RVs and the activity indicators are presented in Table~\\ref{tab:RVdata}. We clearly detect an RV signal for $\\toi$b , as well as an additional long term trend (see Fig.~\\ref{fig:RVresult}). When removing the latter signal from a simple Keplerian fit (a linear or quadratic fit is not enough to remove the long-term variability), the Lomb-Scargle periodogram of the HARPS measurements (see Fig.~\\ref{fig:RVperiodogram}) shows three peaks at around 8, 12, and 24 days, compatible to those seen in the WASP photometric data (see Sect.~\\ref{sec:wasp}{and the the periodogram in the WASP panel of Fig.~\\ref{fig:RVperiodogram}}). Indeed, these periodicities appear as well in the activity indicators corresponding to the full-width at half-maximum of the CCF and the bisector span (third and fourth panels in Fig.~\\ref{fig:RVperiodogram}, respectively). The signal of $\\toi$b  is not statistically significant in the periodogram of this dataset (False Alarm Probability of FAP>10\\%) alone but a clear peak at the 1.8 days periodicity clearly stands above other signals.$\n",
       "$\\begin{figure*}$\n",
       "$\\centering$\n",
       "$\\includegraphics[width=1\\textwidth]{99_TOI969_2p1cFROT__RV_RV+GP_jd.pdf}$\n",
       "$\\caption{Radial velocity time series and model inference from the joint radial velocity and light curve analysis in Sect.~\\ref{sec:joint}, including the GP noise (blue dashed line) and full RV model (black solid line for the median posterior model and gray shaded regions for 68.7\\% - in dark gray- and 99.7\\% - in light gray- confidence intervals). }$\n",
       "$\\label{fig:RVresult}$\n",
       "$\\end{figure*}$\n",
       "$\\begin{figure}$\n",
       "$\\centering$\n",
       "$\\includegraphics[width=0.5\\textwidth]{TOI969_activity_periodogram_freq.pdf}$\n",
       "$\\caption{Periodogram of the radial velocity and activity indicators time series of the HARPS dataset. Panel (a) corresponds to the original RV time series, while panel (b) corresponds to the time series after a simple linear detrending. In panel (c) we include an additional linear detrending corresponding to the activity indicator most correlated with the RVs (in this case the BIS-span). Panels (d)-(e) include the periodogram of the full-width at half maximum (FWHM) of the cross-correlation function and the bisector span, respectively. Finally, in the bottom panel, we show the window function corresponding to the HARPS sampling. The periodicity corresponding to $\\toi$b  and $\\toi$c  are shown as vertical dotted lines in all panels. The stellar rotation period and its first two harmonics are shown as dashed vertical lines. }$\n",
       "$\\label{fig:RVperiodogram}$\n",
       "$\\end{figure}$\n",
       "$\\subsubsection{PFS}$\n",
       "$We observed $\\toi$  with the Planet Finder Spectrograph \\citep[PFS;][]{Crane:2006,Crane:2008,Crane:2010}, which is mounted on the 6.5 m Magellan II (Clay) Telescope at Las Campanas Observatory in Chile. PFS is a slit-fed echelle spectrograph with a wavelength coverage of 3910-7340 \\AA. We used a 0.3$\\arcsec$ slit and 3 \\times 3 binning, which yields a resolving power of R \\approx 110,000. Wavelength calibration is achieved via an iodine gas cell, which also allows characterization of the instrumental profile. We obtained 10 spectra, observed through iodine, between UT 2020-Oct-27 and 2021-Jan-02. Exposure times ranged from 20 to 30 minutes. We also obtained an iodine-free template observation with a 90-minute exposure time. The radial velocities were extracted using a custom IDL pipeline following the prescriptions of \\citet{Marcy:1992} and \\citet{Butler:1996}, and achieved a mean internal precision of 1.2 {\\rm m s}^{-1}. The velocities are presented in Table~\\ref{tab:RVdata} and Fig.~\\ref{fig:RVresult}.$\n",
       "$\\subsubsection{CORALIE}$\n",
       "$TOI-969 was monitored by the CORALIE high-resolution echelle spectrograph mounted on the 1.2 m Euler telescope at La Silla Observatory~\\citep{coralie}. 22 spectra were obtained between UT 2021-02-13 and 2022-04-15 each with SNR of 10-20, depending on sky-conditions and exposure time which was set between 1800 and 2700 seconds. The spectrum corresponding to the night of 2022-01-16 was discarded due to high contamination from the Moon. Radial velocity measurements were extracted by cross-correlating each spectra with a binary G2 mask \\citep{baranne96}, using the standard CORALIE data-reduction pipeline. Given the relatively low SNR, a modest RV precision of 30-50~$\\ms$  was achieved. Line-shape diagnostics such as bisector-span and FWHM were derived for the cross-correlation function (CCF).$\n",
       "$The extracted radial velocities and associated uncertainties as well as the corresponding activity indicators obtained from the CCF analysis are presented in Table~\\ref{tab:RVdata}.$\n",
       "$\\section{Stellar parameters}$\n",
       "$\\label{sec:StePar}$\n",
       "$\\toi  is a moderately bright (V=11.6, \\citealt{hog00}) star in the late-K dwarf regime. Table~\\ref{tab:basic} summarises the main properties of this star. According to the Gaia (\\citealt{gaia}) EDR3 data release \\citep{gaiaDR3}, this star is located at a distance of 77.82\\pm0.14 pc (corresponding to a parallax of 12.849\\pm0.023 mas, \\citealt{lindegren20}). Based on the \\textit{Gaia} proper motions, we determine the projected galactic velocities of $\\toi$  (see Table~\\ref{tab:basic}) and we conclude by using the relations from \\cite{bensby03} that this star likely belongs to the galactic thin disk (with a probability 10^3 times higher than belonging to the thick disk and more than 10^4 times higher than belonging to the halo).$\n",
       "$We derived the spectroscopic stellar parameters (T_{\\mathrm{eff}}, \\log g, microturbulence, [Fe/H]) by using the HARPS spectra and ARES+MOOG code, following the same methodology described in \\cite{sousa14} and \\cite{santos13}. The equivalent widths (EW) of iron lines were measured on the combined HARPS spectrum of $\\toi$  using the ARES code\\footnote{The last version of ARES code (ARES v2) can be downloaded at \\url{https://github.com/sousasag/ARES}} \\citep{sousa07,sousa15}. The best set of spectroscopic parameters was found when we reach the ionization and excitation equilibrium. This process makes use of a grid of Kurucz model atmospheres \\citep{Kurucz-93} and the radiative transfer code MOOG \\citep{Sneden-73}. Since the star is cooler than 5200~K we used the appropriate iron linelist for our method presented in \\citet[][]{Tsantaki-2013}. Following the same methodology as described in \\citet[][]{sousa21}, we used the \\textit{Gaia} EDR3 parallax and estimated the trigonometric surface gravity to be \\log{g}= 4.55 \\pm 0.06~dex. Stellar abundances of the elements were derived using the classical curve-of-growth analysis method assuming local thermodynamic equilibrium \\citep[e.g.][]{adibekyan12,adibekyan15}. The same codes and models were used for the abundance determinations. {Finally, the mass, radius, and age of the star were derived using the \\texttt{PARAM 1.3} web-interface\\footnote{\\url{http://stev.oapd.inaf.it/cgi-bin/param\\_1.3}} \\citep[][]{daSilva06} using our spectroscopic parameters as input values}. The results from this analysis are shown in Table~\\ref{tab:StePar} (second column).$\n",
       "${We use the S-index newd by the HARPS DRS and calibrated to the Mount Wilson scale \\citep{vaughan78} to determine the \\log{R^{\\prime}_{HK}} for each of the individual spectra. We obtain an average value of -4.381 \\pm 0.002 dex with a dispersion of 0.026 dex. This dispersion is significantly larger than the uncertainty of the individual measurements which points to certain level of activity. Indeed, in the periodogram of the \\log{R^{\\prime}_{HK}} time series (see corresponding panel of Fig.~\\ref{fig:RVperiodogram}), a clear peak at 24.6 days stands out, again pointing to this periodicity as the rotaton period of the star. We can use the average value of the \\log{R^{\\prime}_{HK}} to estimate the rotation period of the star. Given the B-V color of this star being 1.09\\pm0.33 mag, we can apply the \\cite{noyes84} activity-rotation relationships through the \\texttt{pyrhk} code \\citep{daSilva06} and using the \\cite{middelkoop82} bolometric corrections. Following this, we obtain a rotation period of 9.9 \\pm 3.2 days. If we instead use the empirical relations from \\cite{suarez-mascareno16} for K-dwarfs, we obtain a rotation period of 9.5 \\pm 1.0 days, compatible with the previous value. Hence, the activity-rotation empirical relations point to a period shorter than the one measured from the {periodogram of the} activity indicators {(see Sect.~\\ref{sec:Obs.Spec} and panels 3-5 in Fig.~\\ref{fig:RVperiodogram})} and the photometric time series from WASP {(see Sect.~\\ref{sec:wasp} and panel 6 in Fig.~\\ref{fig:RVperiodogram})}. As an additional test, we computed the $\\vsini$  of from the HARPS spectrum and obtained a value of 2.87 +/- 0.37 $\\kms$ . Assuming an inclination of 90^{\\circ}, this corresponds to a rotation period for this star of 12.1 \\pm 1.7 days, again compatible within the uncertainties with the previous results from empirical relations. {For a rotation period of around 24 days, and assuming the same spin axis inclination of 90^{\\circ}, we obtain a projected rotation velocity of around 1.3 $\\kms$ .}$\n",
       "$We then warn that for very slow rotating stars ($\\vsini$ < 3 ~$\\kms$ ), measuring accurate $\\vsini$  values is a difficult task and our determination should be taken with care. Consequently, the rotation period of the star is unclear from the present data. In our analysis, we will assume the rotation period is P_{\\rm rot}=24.6 \\pm 0.6 days but we will account for the power at 12.3 days in the different indicators and empirical relations by using a rotation kernel which also accounts for P_{\\rm rot}/2. }$\n",
       "${We can now use gyrochronology to estimate the age of the system. By applying the \\cite{angus19} relations through the \\texttt{stardate}\\footnote{\\url{https://github.com/RuthAngus/stardate}} code, we obtain an age of 2.03 \\pm 0.17~Gyr when assuming P_{\\rm rot}=24.6 \\pm 0.6 and the Gaia B_p-R_p color of 1.42 mag \\cite{gaia21}. If we use the 12.3 days rotation period obtained from the $\\vsini$ , we then obtain an age of 670~\\pm~150~Myr. Given this young age estimation in the second case, we checked for the presence of lithium in the HARPS spectra and found none within the sensitivity limits. However, for this effective temperature it is expected that the Li has already been depleted at such age, so we cannot discard this young estimation based on the absence of lithium.}$\n",
       "$As an independent determination of the basic stellar parameters, we performed an analysis of the broadband spectral energy distribution (SED) of the star together with the {\\it Gaia\\/} EDR3 parallax \\citep[with no systematic offset applied; see, e.g.,][]{stassun21}, in order to determine an empirical measurement of the stellar radius, following the procedures described in \\cite{stassun16,stassun17,stassun18}. We pulled the B_T V_T magnitudes from {\\it Tycho-2}, the JHK_S magnitudes from {\\it 2MASS}, the W1--W4 magnitudes from {\\it WISE}, the G_{\\rm BP} G_{\\rm RP} magnitudes from {\\it Gaia}, and the NUV magnitude from GALEX. Together, the available photometry spans the full stellar SED over the wavelength range 0.2--22~\\mum (see Figure~\\ref{fig:sed}).$\n",
       "$We performed a fit using NExtGen stellar atmosphere models, with the free parameters being the effective temperature (T_{\\rm eff}) and metallicity ([Fe/H]). The remaining free parameter is the extinction A_V, which we fixed at zero due to the star's proximity. The resulting fit (Figure~\\ref{fig:sed}) has a reduced \\chi^2 of 1.1, excluding the GALEX NUV flux which indicates a moderate level of activity (see below). Integrating the (unreddened) model SED gives the bolometric flux at Earth, F_{\\rm bol} = 9.45 \\pm 0.11 \\times 10^{-10} erg~s^{-1}~cm^{-2}. Taking the F_{\\rm bol} and T_{\\rm eff} together with the {\\it Gaia\\/} parallax, we estimate the stellar radius; and using the empirical relations of \\citet{torres10} and of \\citet{Mann:2020} we estimate the stellar mass. All these values agree with spectroscopically derived parameters within the uncertainties and are reported in Table~\\ref{tab:StePar} (third column).$\n",
       "$\\begin{figure}$\n",
       "$\\centering$\n",
       "$\\includegraphics[width=0.50\\textwidth]{toi_969_sed.pdf}$\n",
       "$\\caption{Spectral energy distribution of TOI-969. Red symbols represent the observed photometric measurements, where the horizontal bars represent the effective width of the passband. Blue symbols are the model fluxes from the best-fit NextGen atmosphere model (black).}$\n",
       "$\\label{fig:sed}$\n",
       "$\\end{figure}$\n",
       "$\\begin{table}[]$\n",
       "$\\setlength{\\extrarowheight}{3pt}$\n",
       "$\\caption{\\label{tab:basic} General and dynamical properties of  $\\toi$  obtained in this work.}$\n",
       "$\\begin{tabular}{lll}$\n",
       "$ $\\hl$ine$\n",
       "$Parameter & Value & Ref.^{\\dagger} \\$\\hl$ine$\n",
       "$IDs & $\\toi$ , TIC 280437559, \\&  TYC 0183-00755-1 \\Gaia EDR3 ID & 3087206553745290624  &[1] \\RA, DEC & 07:40:32.8, 02:05:54.92 &[1]\\Parallax (mas) &12.849\\pm0.023    & [1]\\Distance (pc) &77.82\\pm0.14 & [1, 3] \\\\mu_{\\alpha} (mas/yr) & -34.040\\pm 0.025  & [1]\\\\mu_{\\delta} (mas/yr) & -77.949\\pm 0.018  & [1]\\RV (km/s) &-5.789 \\pm 0.040  &  [3] \\G (mag) & 11.27  &[1]\\B_p-R_p (mag) & 1.46  &  [1]\\J (mag) &9.596\\pm0.026 & [2] \\Ks (mag) &8.879\\pm0.023 & [2] \\U (km/s) & 20.855 &[3], Sect.~\\ref{sec:StePar}\\V (km/s) & -2.101 &[3], Sect.~\\ref{sec:StePar} \\W (km/s) & -18.526 &[3], Sect.~\\ref{sec:StePar}\\Gal. population & Thin disk &[3], Sect.~\\ref{sec:StePar} \\$\\hl$ine$\n",
       "$\\end{tabular}$\n",
       "$\\tablebib{$\n",
       "$[1] \\cite{gaia};$\n",
       "$[2] \\cite{cohen03};$\n",
       "$[3] This work;$\n",
       "$[4] \\cite{mann15}.$\n",
       "$}$\n",
       "$\\end{table}$\n",
       "$\\begin{table}[]$\n",
       "$\\setlength{\\extrarowheight}{3pt}$\n",
       "$\\caption{\\label{tab:StePar} Stellar physical properties of $\\toi$ .}$\n",
       "$\\begin{tabular}{lll}$\n",
       "$\\hline$\n",
       "$Parameter & Spec.\\tablefootmark{a} & SED\\tablefootmark{b}  \\$\\hl$ine$\n",
       "$T_{\\rm eff} (K) & 4435\\pm80 & 4550\\pm 75 \\\\log{\\rm g} (dex)& 4.55\\pm0.06 & - \\{\\rm[Fe/H]} (dex) & 0.175\\pm 0.019 & - \\M_{\\star} ($\\Msun$ ) & 0.734 \\pm 0.014 & 0.730 \\pm 0.037 \\R_{\\star} ($\\Rsun$ ) & 0.671 \\pm 0.015& 0.681 \\pm 0.023 \\\\log{R^{\\prime}_{HK}} & -4.381 \\pm 0.026 & - \\Age (Gyr),\\texttt{PARAM1.3} & 4.761 \\pm 4.187 & - \\Age (Gyr), gyro  &2.03 \\pm 0.17 & - \\\\rm[Mg/H] (dex) & 0.17 \\pm 0.15 & - \\\\rm[Si/H] (dex) & 0.17 \\pm 0.13 & - \\$\\hl$ine$\n",
       "$\\end{tabular}$\n",
       "$\\tablefoottext{a}{Parameters obtained from spectroscopic analysis.}$\n",
       "$\\tablefoottext{b}{Parameters obtained from analysis of the spectral energy distribution.}$\n",
       "$\\end{table}$\n",
       "$\\section{Analysis and results}$\n",
       "$\\label{sec:Analysis}$\n",
       "$Due to the complexity of the system and the large amount of data in hand, we first perform an analysis to the individual datasets, namely the TESS light curve (Sect.~\\ref{sec:TESSanalysis}) and to the radial velocity (Sect.~\\ref{sec:RVanalysis}). From those independent analyses we obtain the relevant information about the models to be tested in the final joint (light curves and radial velocity) analysis in Sect.~\\ref{sec:joint} as well as parameter ranges to appropriately set up the priors in this more complex and computationally expensive joint model.$\n",
       "$\\subsection{Light curve analysis}$\n",
       "$\\label{sec:TESSanalysis}$\n",
       "$We first inspect the photometric data through an independent analysis of the TESS and LCOGT light curves. Our model is composed of a transit model assuming a single planet in the system (the one with the detected transits), newcommandined by the period (P_b), a time of inferior conjunction (T_{0,b}), the orbital inclination (i_b), the planet radius (R_{\\rm b}), and the stellar mass (M_{\\star}) and radius (R_{\\star}). The latter are used to check for possible phase curve variation effects like the ellipsoidal, Doppler beaming and reflection effects (which in turn are all negligible in this case). We use the limb-darkening parametrization described in \\cite{kipping13} and apply the quadratic law with a pair of parameters per instrument and bandpass (u_{\\rm 1,j}, u_{\\rm 2,j}). Besides, we assume a photometric jitter and offset for each instrument (\\sigma_j and F_{\\rm 0,j}, respectively). Finally, in the case of the ground-based observations, we use the pre-detrended time series and use a linear detrending with the airmass within our model by including a slope per bandpass for the LCOGT observations (m_{\\rm X,j}).$\n",
       "$In order to account for the stellar variability seen in the TESS sectors, we also include a Gaussian Process (GP) with a {kernel composed of a mixture of harmonic oscillators designed to model stellar rotation and implemented in the \\texttt{celerite2} \\citep{celerite1,celerite2} package as the term named \\texttt{RotationTerm}. One of the harmonic oscillators is devoted to the rotation period and the other one to half of the rotation period. This kernel includes five hyperparameters, namely an amplitude (\\eta_{\\sigma,LC}), a periodicity (\\eta_{\\rho}), a quality factor for the second oscillator (\\eta_{{\\rm Q}_0}), a difference between the two quality factors of both oscillators (\\eta_{\\delta{\\rm Q}}), and a factor representing the relevance of one oscillator against the other (\\eta_{f}).}$\n",
       "$Based on this model including {35} parameters, we explore the parameter space informed by the observed time series by using the Monte-Carlo Markov Chain (MCMC) affine-invariant ensamble sampler \\texttt{emcee} \\citep{emcee}. We launch our MCMC with {140} walkers (four times the number of parameters) and a total 100 000 steps per walker. {The priors for all parameters are detailed in Table~\\ref{tab:LCalone}}. We use Gaussian priors for the orbital period and time of mid-transit as published by the TESS alert and using a broad standard deviation corresponding to five times the published uncertainty on these values. Gaussian priors are also used for the limb-darkening coefficients, with the mean value corresponding to the derived value using the \\texttt{limb-darkening} code by \\cite{espinoza15} using the ATLAS models and the stellar properties derived in Sect.~\\ref{sec:StePar}; and a standard deviation of 0.1. The stellar mass and radius priors are also included as Gaussian distributions with the parameters described in Sect.~\\ref{sec:StePar}. The priors for the rest of the parameters are set to uniform distributions within the ranges stated in Table~\\ref{tab:LCalone}.$\n",
       "$We perform a first burn-in phase with the previously mentioned setup. Subsequently, we use the maximum a posteriori set of parameters from this first phase to start a second chain initialised at those values and running for half the number of steps than in the first phase (i.e., 50 000 steps per walker). The posterior distributions are computed by using the full chains from the second phase. The median and 68.7\\% credible interval for each parameter are shown in Table~\\ref{tab:LCalone}.$\n",
       "$The phase-folded light curves showing the median transit models from this analysis are shown in Fig.~\\ref{fig:LCanalysis}.$\n",
       "$\\begin{figure*}$\n",
       "$\\centering$\n",
       "$\\includegraphics[width=1\\textwidth]{TOI969_LCsummary_fit.pdf}$\n",
       "$\\caption{Phase-folded light curves from $\\toi$  after removing the GP for the TESS data and the linear dependency for the LCOGT dataset. Left panels show the individual phase-folded light curves per instrument and the corresponding joint model. Black symbols correspond to 9-minute bins. Right panels show the residuals from the joint model.}$\n",
       "$\\label{fig:LCanalysis}$\n",
       "$\\end{figure*}$\n",
       "$\\subsection{Radial velocity}$\n",
       "$\\label{sec:RVanalysis}$\n",
       "$We now use the radial velocity dataset described in Sect.~\\ref{sec:Obs.Spec} as well as the input information from the previous TESS analysis to scrutinize the Doppler information.$\n",
       "$To that end, we first build our model, which is composed of N Keplerians, each of them potentially including an orbital period (P_i), a time of inferior conjunction (T_{0,i}), a radial velocity semi-amplitude (K_i), and in the case of non-circular orbit models we also add eccentricity (e_i) and the corresponding argument of the periastron (\\omega_i). Additionally, our models can include a slope (m) to account for possible linear trends (when this slope is assumed zero we include an \"F\" - for flat- in the model labels) and a quadratic trend (when this is added a \"Q\" is added to the model label). We also include a radial velocity offset per instrument (\\gamma_j) and a jitter per instrument to account for all systematics not taken into account in the model (\\sigma_j). In our analysis we test models that aim to account for the radial velocity variations caused by the stellar activity (potentially relevant as seen in the previous section in the TESS light curve) through Gaussian Process (GP) informed by an activity indicator. Based on the radial velocity periodogram presented in Sect.~\\ref{sec:Obs.Spec}, the bisector span seems to match the radial velocity variations in a similar manner, showing strong periodicities at similar frequencies. This does not happen with the FWHM, which does not show significant variations other than a long-term periodicity. Hence, we use the BIS-span indicator to inform the GP about the activity-induced component of the radial velocity. Correspondingly, for each instrument, we add an offset (\\gamma_{\\rm BIS,j}) and a jitter (\\sigma_{\\rm BIS,j}).$\n",
       "$We include a GP for the RVs and a GP for the BIS-span, both sharing all parameters except the amplitude of the kernel. We use the \\texttt{celerite2} \\citep{celerite1,celerite2} implementation to build the GPs and we choose the \\texttt{RotationTerm} kernel (see Sect.~\\ref{sec:TESSanalysis}) to account for the stellar activity. All hyper-parameters but the amplitude one (\\eta_{\\sigma}) are shared between the RV and BIS-span GPs.$\n",
       "${The prior distributions used in this analysis are summarised in Table~\\ref{tab:RValone}.} Uninformative priors were generally used in most of the parameters involved in our model, except in some cases. We used Gaussian priors for the orbital period and mid-transit time for $\\toi$b  centered at the values coming from the transit analysis from the previous section. This is because the precision in those parameters achievable with the transit method is higher than with RVs. We used log-uniform priors for the orbital period of the long-period candidate and the RV and BIS jitter, as well as for the amplitude hyper-parameters of the GP (\\eta_{\\sigma ,FWHM} and \\eta_{\\sigma}). Finally, given the discussion presented in Sect.~\\ref{sec:StePar}, we opted for a Gaussian prior on the hyper-parameter related to the rotation period of the star.$\n",
       "$The parameter space is explored by using \\texttt{emcee}. We use a number of walker equal to four times the amount of free parameters and 100 000 steps per walkers in a first burnout phase. The maximum a posteriori model from this first phase is selected as the initial guess for the final production, which now contains 100 000 steps and the same number of walkers as the initial phase. The convergence of the chains is checked by estimating the autocorrelation time and the corresponding chain length, with the latest being at least 20 times longer than the autocorrelation time to consider convergence. We then use 15\\% of the final flattened chain (typically composed of 10^5-10^6 elements) to estimate the Bayesian evidence of each model (\\ln{\\mathcal{Z}_i}) and its corresponding uncertainty through the \\texttt{perrakis} implementation\\footnote{\\url{https://github.com/exord/bayev}. A python implementation by R. D\\'iaz of the formalism explained in \\cite{perrakis14}.} \\citep{diaz16}.$\n",
       "$\\begin{figure*}$\n",
       "$\\centering$\n",
       "$\\includegraphics[width=1\\textwidth]{evidence_comparison_TOI969.pdf}$\n",
       "$\\caption{Comparison of the logarithm of the Bayesian evidence (\\mathcal{B} \\equiv \\ln{\\mathcal{Z}}) for the different tested models (labelled in the X axis) in the case of the RV-only analysis (Sect.~\\ref{sec:RVanalysis}). The label for the models correspond to Xp[P_ic][Z], where X is the number of planets assumed in the system, P_ic are the identifiers of the planets with assumed circular orbits, and Z indicates whether we are using a flat (F) slope (i.e., assuming slope = 0) or a quadratic (Q) trend. The gray shaded region displays the region of \\Delta \\mathcal{Z} = -6 from the larger evidence model showing its strength against simpler models. }$\n",
       "$\\label{fig:RVmodelcomp}$\n",
       "$\\end{figure*}$\n",
       "$ The preliminary analysis of the data already revealed the presence of different signals (see Sect.~\\ref{sec:Obs.Spec}). Consequently, we test models with different number of planets, each potentially having either circular (fixed values for e_i=0 and \\omega_i=90^{\\circ}) or eccentric orbits. We also tested different types of trends, from the simplest linear trend (including a slope parameter) to a quadratic one (including a quadratic term) for the case of no planets (labelled as \"0p*\") and one-planet (\"1p*\") models. In total, 21 models with different levels of complexity are tested (from 0 to 3 planets). The labelling for the models follows the nomenclature Xp[P_ic][Z], where X is the total number of planets assumed in the system, P_ic are the identifiers of the planets with assumed circular orbits (e.g. \"2p1c2c\" if both planets \"1\" and \"2\" are assumed in circular orbits; or \"2p1c\" if only planet \"1\" is assumed in circular orbit), and the latter letter (\"[Z]\") indicates whether we are using a flat (\"F\") slope (i.e., assuming slope = 0) or a quadratic (\"Q\") trend.$\n",
       "$ The Bayesian evidence is then used to select the simplest model that best represents our data. This is done by sorting the models by complexity and selecting the one with the highest evidence, assuming that a difference of 6 in logarithmic space (i.e., \\mathcal{B} = \\Delta \\ln{\\mathcal{Z}}> 6, \\citealt{trotta08}) corresponds to a strong evidence in favor of the more complex model. Figure~\\ref{fig:RVmodelcomp} shows this log-evidence for each of the 21 models. From this, we see that the model with a flat slope and two components in eccentric orbits (\"2pF\") has the largest evidence. However, the odds against the simpler model with the inner component in a circular orbit \"2p1cF\" is still not significant and we choose the latter as the preferred model informed by the current dataset. The evidence of this model against the no-planet model and the one-planet model is significantly larger (\\mathcal{Z}_{\\rm 2p1cF}- \\mathcal{Z}_{\\rm 0p*} > +46 and \\mathcal{Z}_{\\rm 2p1cF}- \\mathcal{Z}_{\\rm 1p*} > +33) thus supporting the existence of another Keplerian signal in the system other than the transiting planet. On the other side, the \"2p1cF\" model also has significantly larger evidence than the more complex three-planet models (\\mathcal{Z}_{\\rm 2p1cF}- \\mathcal{Z}_{\\rm 3p*} > +31). The phase-folded radial velocity curves of both components for the preferred model \"2p1cF\" are shown in Fig.~\\ref{fig:RVphase_b}$\n",
       "$ The posterior distributions of all parameters involved in this analysis are presented in Table~\\ref{tab:RValone}.$\n",
       "$\\begin{figure*}$\n",
       "$\\centering$\n",
       "$\\includegraphics[width=0.48\\textwidth]{99_TOI969test_2p1cF__PaperPlotPhase_pl1.pdf}$\n",
       "$\\includegraphics[width=0.48\\textwidth]{99_TOI969test_2p1cF__PaperPlotPhase_pl2.pdf}$\n",
       "$\\caption{Phase-folded radial velocity data from $\\toi$b  (left) and $\\toi$c  (right) after removing the signal from the other component in the system and the GP noise for the selected model (labelled \"2p1cF\") from the radial velocity analysis (see Sect.~\\ref{sec:RVanalysis}). For $\\toi$b  we just include HARPS and PFS data while removing CORALIE for clarity reasons given the larger uncertainties for that dataset. The gray shaded regions correspond to the region covered by models within 68.7\\% (dark gray) and 95\\% (light gray) of the confidence interval.}$\n",
       "$\\label{fig:RVphase_b}$\n",
       "$\\end{figure*}$\n",
       "$\\subsection{Joint analysis}$\n",
       "$\\label{sec:joint}$\n",
       "$We use the previous individual analysis of the light curve and radial velocity datasets as exploratory studies of the parameter space and for model comparison purposes. Based on the results obtained in these preliminary analysis, we now run a joint model including both the radial velocity and photometric light curves, from which we will obtain the final parameters of the system. In this case, the planetary and orbital parameters are parameterized to include the shared information between both techniques. That is, the Keplerians are modeled by a planet period, time of mid-transit, planet mass (m_i) and radius (R_i), orbital inclination (i_i), eccentricity and argument of the periastron. Besides this, as detailed in Sect.~\\ref{sec:TESSanalysis} and Sect.~\\ref{sec:RVanalysis}, we use the \\texttt{RotationTerm} kernel with shared hyper-parameters (except for the amplitude) for the TESS light curves, radial velocity and BIS-span time series.$\n",
       "$We proceed in a similar fashion as explained in Sect.~\\ref{sec:RVanalysis} to explore the parameter space of this joint analysis. We reach convergence of the chains under this strategy and {confirm the planetary nature of the inner component and place the second component in the planet-to-brown-dwarf transition}. Unfortunately, the TESS observations do not cover the conjunction time of $\\toi$c  and consequently we cannot conclude on its transiting nature. The final set of parameters (including the absolute mass for $\\toi$b ) are presented in Table~\\ref{tab:joint} and a summary of the main properties of the two  components is presented in Table~\\ref{tab:JointSummary}.$\n",
       "$\\begin{table}$\n",
       "$\\setlength{\\extrarowheight}{3pt}$\n",
       "$\\centering$\n",
       "$\\caption{Summary of the posterior distributions of the main physical and orbital properties of $\\toi$b  and $\\toi$c  from the joint analysis (Sect.~\\ref{sec:joint}).}$\n",
       "$\\label{tab:JointSummary}$\n",
       "$\\begin{tabular}{ll}$\n",
       "$\\hline$\\hl$ine$\n",
       "$\\multicolumn{2}{l}{\\it $\\toi$b }  \\$\\hl$ine$\n",
       "$Orbital period, P_b [days]  & 1.8237305^{+0.0000020}_{-0.0000021} \\Time of mid-transit,T_{\\rm 0,b} [days]  & 2459248.37709^{+0.00036}_{-0.00039} \\Planet mass,M_b [$\\Mearth$ ]  & 9.1^{+1.0}_{-1.0} \\Orbital inclination,i_{\\rm b} [deg.]  & 86.75^{+0.38}_{-0.41} \\Planet radius,R_b [$\\Rearth$ ] & 2.765^{+0.088}_{-0.097} \\Planet density,\\rho_{b} [g\\cdot cm^{-3}]  & 2.34^{+0.39}_{-0.34} \\Transit depth,\\Delta_{b} [ppt]  & 1.435^{+0.043}_{-0.043} \\Orbit semi-major axis,a_{b} [AU]  & 0.02636^{+0.00017}_{-0.00017} \\Relative orbital separation,a_{b}/R_{\\star}  & 8.47^{+0.21}_{-0.21} \\Transit duration,T_{\\rm 14,b} [hours] & 1.519^{+0.018}_{-0.018} \\Planet surface gravity,g_{\\rm b} [m \\cdot s^{-2}] & 11.6^{+1.6}_{-1.5} \\Impact parameter,b_{b}/R_{\\star} & 0.480^{+0.044}_{-0.051} \\Incident Flux,F_{\\rm inc,b} [F_{{\\rm inc},\\oplus}]& 188^{+26}_{-24} \\Equilibrium temperature,T_{\\rm eq,b} [K]  & 941^{+31}_{-31} \\$\\hl$ine$\n",
       "$\\multicolumn{2}{l}{\\it $\\toi$c }  \\$\\hl$ine$\n",
       "$Orbital period, P_c [days]  & 1700^{+290}_{-280} \\Time of mid-transit,T_{\\rm 0,c} [days] & 2460640^{+260}_{-260} \\Minimum mass,m_c\\sin{i_c} [$\\Mjup$ ]  & 11.3^{+1.1}_{-0.9} \\Orbital eccentricity,e_{\\rm c}  & 0.628^{+0.043}_{-0.036} \\Arg. periastron,\\omega_{\\rm c} [deg.] & 208.5^{+7.8}_{-7.3} \\Orbit semi-major axis,a_{c} [AU] & 2.52^{+0.27}_{-0.29} \\Relative orbital separation,a_{c}/R_{\\star}  & 806^{+91}_{-93} \\Incident Flux,F_{\\rm inc,c} [F_{{\\rm inc},\\oplus}]  & 0.0208^{+0.0065}_{-0.0046} \\Equilibrium temperature,T_{\\rm eq,c} [K] & 96.4^{+6.8}_{-5.8} \\$\\hl$ine$\\hl$ine$\n",
       "$\\end{tabular}$\n",
       "$\\tablefoot{For a full description of all parameters involved and their priors, see Table~\\ref{tab:joint}.}$\n",
       "$\\end{table}$\n",
       "$\\subsection{Transit timing variations for $\\toi$b }$\n",
       "$\\label{sec:TTVs}$\n",
       "$Given the relatively large number of transits of $\\toi$b  in our photometric dataset, we can study the presence of additional planets in the system based on the gravitational pull on this planet. We estimate the central times of individual transit events of $\\toi$b  based on deviations from a single-planet model. To that end, we use the results of the joint modeling of Sect.~\\ref{sec:joint} (Table~\\ref{tab:joint}) as priors in this analysis. As in the global analysis, we also used GPs to detrend the TESS light curves. On the contrary, we used the already-detrended LCOGT/MusCat light curves to estimate a single transit mid-time out of the simultaneous modeling of the four-filter light curves. We use the \\texttt{juliet} package\\footnote{\\texttt{juliet} core tools used in this analysis are: \\texttt{batman} \\citep{batman}, \\texttt{starry} \\citep{starry}, \\texttt{dynesty} \\citep{dynesty}, and Gaussian Processes with \\texttt{george} \\citep{george} and \\texttt{celerite} \\citep{celerite}.} \\citep{juliet} to perform this analysis. By doing this, we estimate the central times of the 25 TESS transits and 1 of the LCOGT light curves (Table~\\ref{tab:transit_times}). We compare these observed times with the ephemeris reported in Table~\\ref{tab:joint}. The resulting observed {\\it minus} calculated (O-C) diagram of the transit times of TOI-969 b are shown in Fig.~\\ref{fig:TTVs}. The RMS of the O-C points is 7.1 min with a maximum deviation of 14.13 min.  We noticed that the amplitude of the timing deviations are larger in the transits observed in the last TESS Sector (bottom panel in Fig.~\\ref{fig:TTVs}). It is however unlikely that these deviations are related to the stellar activity as it can be seen in Fig.~\\ref{fig:TESS}, the stellar activity is lower in this TESS Sector.$\n",
       "$\\begin{table}[]$\n",
       "$    \\centering$\n",
       "$    \\setlength{\\extrarowheight}{3pt}$\n",
       "$    \\small$\n",
       "$    \\caption{Transit times of $\\toi$b  estimated from the TESS and LCOGT light curves. }$\n",
       "$    \\label{tab:transit_times}$\n",
       "$    \\begin{tabular}{cccc}$\n",
       "$    $\\hl$ine$\n",
       "$    Transit  & T_c & O-C & Instrument\\number      & BJD-2 450 000 &[min] & \\$\\hl$ine$\\hl$ine$\n",
       "$ 0  & 8493.34879 ^{+0.0037}_{-0.0037} & -5.28  & TESS_S07 \\1 & 8495.17679^{+0.0046}_{-0.0040}   & 0.87 & TESS_S07  \\2 & 8496.99771^{+0.0034}_{-0.0038}   & -3.18 & TESS_S07  \\3 & 8498.82093^{+0.0031}_{-0.0021}   & -3.92 & TESS_S07  \\4 & 8500.64652^{+0.0029}_{-0.0039} & -1.23  & TESS_S07 \\5 & 8502.46819^{+0.0033}_{-0.0027}  & -4.20 & TESS_S07  \\6 & 8506.12828^{+0.0025}_{-0.0034} & 13.98  & TESS_S07 \\7 & 8507.94152^{+0.0017}_{-0.0028}  & -1.12 & TESS_S07 \\8 & 8509.76667^{+0.0036}_{-0.0034} & 0.91  & TESS_S07 \\9 & 8511.58719^{+0.0020}_{-0.0034}  & -3.70 & TESS_S07  \\10 & 8513.41908^{+0.0019}_{-0.0025} & 8.04  & TESS_S07 \\11 & 8515.23953^{+0.0038}_{-0.0030}  & 3.32 & TESS_S07  \\12 & 9230.13869^{+0.0023}_{-0.0026} & -1.62 & TESS_S07  \\400 & 9222.84466^{+0.00042}_{-0.00040} & -0.34 & LCOGT \\404 & 9231.96062^{+0.0022}_{-0.0023}  & -4.22 & TESS_S34  \\405 & 9233.77852^{+0.0048}_{-0.0040} & -12.62  & TESS_S34 \\406 & 9235.60299^{+0.0049}_{-0.0043}  & -11.55  & TESS_S34 \\407 & 9237.44362^{+0.0039}_{-0.0056} & 12.79  & TESS_S34 \\408 & 9239.26829^{+0.0028}_{-0.0039}  & 14.13 & TESS_S34  \\409 & 9242.90031^{+0.0035}_{-0.0030} & -8.10  & TESS_S34 \\411 & 9244.73353^{+0.0030}_{-0.0027} & 5.56  & TESS_S34 \\413 & 9246.56198^{+0.0046}_{-0.0053} & 12.35  & TESS_S34 \\414 & 9248.37592^{+0.0029}_{-0.0026} & -1.74 & TESS_S34  \\415 & 9250.20452^{+0.0025}_{-0.0026} & 5.27  & TESS_S34 \\416 & 9252.02489^{+0.0020}_{-0.0024} & 0.43  & TESS_S34 \\417 & 9253.84740^{+0.0028}_{-0.0022} & -1.33 & TESS_S34  \\$\\hl$ine$\\hl$ine$\n",
       "$\\end{tabular}$\n",
       "$\\tablefoot{The values of the O-C column correspond to the points shown in Fig.~\\ref{fig:TTVs}, which were obtained using the ephemeris reported in Table~\\ref{tab:joint} and described in Sect.~\\ref{sec:TTVs}.}$\n",
       "$\\end{table}$\n",
       "$Based on the constraints of these transit timing results, we explore the limits that can be placed on the mass of a potential unseen companions to $\\toi$b . For this purpose, we used the \\texttt{TTV2Fast2Furious} code\\footnote{https://github.com/shadden/TTV2Fast2Furious} \\citep{Hadden2019}. The resulting upper limits on the companion are not very constraining, ruling out planets with masses above >100~$\\Mearth$  for periods larger than twice the orbital period of $\\toi$b . Better constraints can be placed with an extended timing monitoring of additional $\\toi$b  transits.$\n",
       "$\\begin{figure}$\n",
       "$\\centering$\n",
       "$\\includegraphics[width=0.48\\textwidth]{TOI-969b_TTVs.pdf}$\n",
       "$\\caption{Observed-Calculated diagram of the transit times of $\\toi$b . LCOGT transit corresponds to transit number \\#400. The gray regions represent the 1\\sigma uncertainties of the ephemeris reported in Table~\\ref{tab:joint}.}$\n",
       "$\\label{fig:TTVs}$\n",
       "$\\end{figure}$\n",
       "$\\section{Discussion}$\n",
       "$\\label{sec:Discussion}$\n",
       "$\\subsection{$\\toi$b : a new hot-Neptune in the desert}$\n",
       "$\\label{sec:hot-neptune}$\n",
       "$The derived properties of planet $\\toi$b  showed in the previous sections place this world in the so-called mini-Neptune regime in terms of mass (m_b=9.1^{+1.1}_{-1.0}~$\\Mearth$ ) and radius (R_b=2.765^{+0.088}_{-0.097}~$\\Rearth$ ), see Fig.~\\ref{fig:MR}. Its relatively short period also places this planet in the boundary of the hot-Neptune desert \\citep{mazeh16} and possesses similar properties to the iconic GJ 1214 b \\citep{charbonneau09}.$\n",
       "${As for most Neptune-like planets, for a planet of the mass and radius of $\\toi$b  and a H/He dominated atmosphere, the atmospheric loss by blowoff is energy limited \\citep{owen16}. In this case, the atmospheric mass-loss rate is \\citep{erkaev07,owen13}:}$\n",
       "$~$\n",
       "$\\begin{equation}$\n",
       "$\\dot{M}=\\epsilon \\frac{\\pi F_{\\mathrm{XUV}} R_{\\mathrm{p}}^3}{G M_{\\mathrm{p}}},$\n",
       "$\\end{equation}$\n",
       "$~$\n",
       "$\\noindent{where F_{\\mathrm{XUV}} is the XUV flux received by the planet, G the gravitational constant, and \\epsilon is an efficiency parameter. We approximate the XUV luminosity by the analytical fit obtained by \\cite{sanz-forcada11}, and we estimate \\epsilon\\simeq0.07 from \\cite{owen12}. This yields a present-day mass-loss rate of 0.03 $\\Mearth$/Gyr, assuming the age of the star is 2.03 Gyr. Following the approach of \\cite{aguichine21}, the total mass lost by the planet can be estimated by integrating \\dot{m} over time assuming that only the XUV luminosity changes, and that the planet properties remained roughly constant during its evolution. In this case, we find that TOI-969 b would have lost \\sim 0.42$\\Mearth$ of H/He during its evolution. The possibility that TOI-969 b formed with a H/He envelope of mass greater than \\sim 0.42$\\Mearth$ (\\sim 4\\% by mass) cannot be excluded. It is thus possible that TOI-969 b is still subject to atmospheric escape, and could be entirely stripped of its H/He envelope. However, the presence of an atmosphere made of heavier volatiles, such as He, O_2, H_2O and other (see \\citealt{hu15,bolmont17,aguichine21,ito21}, respectively), news a more natural explanation to how TOI-969 b retained its volatile envelope, since these molecules have smaller escape rates \\citep{owen12,ito21}.}$\n",
       "$\\toib  is hence another excellent target for testing theories of atmospheric evaporation \\citep{lecavelier07,owen19}. Interestingly, its transmission spectroscopy metric (TSM, \\citealt{kempton18}) corresponds to {\\rm TSM} = 93\\pm18, hence being one of the best targets in this regime for atmospheric purposes, especially with the James Webb Space Telescope (JWST).$\n",
       "$\\begin{figure*}$\n",
       "$\\centering$\n",
       "$\\includegraphics[width=1\\textwidth]{mass_radius.pdf}$\n",
       "$\\caption{Comparative properties of $\\toi$b . \\textbf{Left}: Mass-radius diagram of known exoplanets with measured mass precisions better than 30\\% (gray symbols) and the location of $\\toi$b . The bulk density lines corresponding to different compositions from \\cite{zeng19} are shown as solid traces, and the dashed lines correspond to iso-densities of 0.3, 1, and 3 g\\cdotcm^{-3}. \\textbf{Right:} Period-radius diagram of known exoplanets (gray crosses) highlighting those with measured masses (open black circles). The light grey shaded region represents the mean boundaries of the hot-Neptune desert derived by \\cite{mazeh16} and the dark grey shaded region corresponds to the interior envelope of the 1\\sigma boundaries. The location of $\\toi$b  is marked in red, as well as the location of other two planets in the hot-Neptune desert, namely TOI-849 b \\citep{armstrong20} and LTT 9779 b \\citep{jenkins20}.}$\n",
       "$\\label{fig:MR}$\n",
       "$\\end{figure*}$\n",
       "$\\subsection{Internal structure of $\\toi$b }$\n",
       "$\\label{sec:internal}{By using the precise mass and radius determinations of $\\toi$b, we can study its internal structure}. We performed a Markov chain Monte Carlo (MCMC) Bayesian analysis \\citep{Dorn15} of its internal composition by using the interior structure model introduced in \\cite{mousis20} and \\cite{brugger17}, which comprises three layers: a Fe-rich core, a silicate rich mantle and a water layer.  With an irradiance temperature\\footnote{{Irradiance temperature is the term used in atmospheric physics to name the equilibrium temperature at zero albedo}.}{of the order of 10^{3}~K}, $\\toi$b  can present vapor and supercritical\\footnote{{Planets that are highly irradiated and present a volatile envelope reach high temperatures at the bottom of this layer, which corresponds to high pressures. Water is the second most abundant volatile after H/He. Its phase diagram (see, for example, Fig. 1 in \\citealt{mousis20}) shows that for temperatures around 10^3~K, water will reach the supercritical phase (decreasing its density compared to liquid or ice phases) when the pressure is approximately 300 bar.}} phases if water is found at its surface. Therefore we couple an atmosphere-interior model that calculates the surface conditions and the contribution of the atmosphere to the total radius, which in the case of low-density, warm planets is significant, as shown by \\cite{acuna21}. We consider two scenarios to obtain the interior structure of $\\toi$b : scenario 1, where only the mass and radius of the planet (from Table~\\ref{tab:joint}) are considered as inputs to the MCMC analysis; and scenario 2, where the planetary mass and radius, and the stellar Fe/Si mole ratios (see Table~\\ref{tab:StePar}) are the input data\\footnote{{\\cite{adibekyan21} recently found a relation between the composition of low-mass planets and their host stars, but the relation was not one-to-one.}}. To compute the Fe/Si and Mg/Si mole ratios with the stellar abundances, we follow the approach described in \\cite{brugger17} and \\cite{sotin07}, and obtain Fe/Si = 0.77\\pm0.23 and Mg/Si = 1.01\\pm0.44. The output of the MCMC analysis are the posterior distributions functions (PDF) of the core mass fraction (CMF), the water mass fraction (WMF) and the atmospheric parameters, which are the temperature at 300 bar, the planetary albedo and the atmospheric thickness from transit pressure (20 mbar, see \\citealt{mousis20,grimm18}) to 300 bar\\footnote{{The critical point of water is located at 220 bar, this is the pressure at which water transitions from vapour to supercritical. 300 bar is close enough to the pressure of the critical point to prevent the atmospheric model from taking over pressures where the opacity is very high.}}. We assume a water-rich atmosphere. Table  \\ref{tab:comp_output} (upper part) shows the 1D, 1\\sigma confidence intervals of the MCMC output parameters and Fig.~\\ref{fig:ternary_comp} presents the ternary diagram and the 1\\sigma confidence region for the internal structure of $\\toi$b . Under the assumption of absence of an H/He layer, $\\toi$b  is a volatile-rich planet that could have up to 60\\% of its mass in a water-rich volatile layer in both scenarios. The CMF is compatible with an Earth-like value in scenario 1, whereas in scenario 2 the CMF is lower due to a lower Fe/Si mole ratio of the host star compared to the solar value (Fe/Si_{\\odot} = 0.96).$\n",
       "${H/He and water are the most abundant volatiles. In interior modelling, when including a volatile layer, it is widely acknowledged to assume that the main component of the envelope is either hydrogen, which is representative of a primordial atmosphere, or water, whose density represents better that of a secondary atmosphere. The interior structure model described above presents the implementation of a water layer. However, as we have described in Sect.~\\ref{sec:hot-neptune} the presence of H/He in the current atmosphere of $\\toi$b  cannot be discarded based on atmospheric loss. Moreover, the water layer model described above yields a maximum WMF of almost 60\\% within 1\\sigma (WMF~=50\\%~\\pm~9\\%). This is less than the maximum WMF found in Solar System bodies (i.e comets), which is 70-80\\% \\citep{mckay19}. However, it is still a high WMF compared to other low-mass exoplanets. Hence, we also explore the possibility of a H/He atmosphere instead of a water-dominated volatile layer.}$\n",
       "$\\begin{table}[h]$\n",
       "$\\setlength{\\extrarowheight}{4pt}$\n",
       "$\\centering$\n",
       "$\\caption{Median and 1\\sigma confidence intervals of the interior and atmosphere modeling. MCMC output parameters (see Sect.~\\ref{sec:internal}).}$\n",
       "$\\begin{tabular}{lcc}$\n",
       "$\\hline$\\hl$ine$\n",
       "$Parameter & Scenario 1\\tablefootmark{a} & Scenario 2\\tablefootmark{b} \\$\\hl$ine$\n",
       "$\\textit{Water as volatile only} & & \\$\\hl$ine$\n",
       "$Core mass fraction, CMF & 0.19\\pm0.16 & 0.12\\pm0.04 \\Water mass fraction, WMF & 0.50\\pm0.09 & 0.47\\pm0.09 \\Fe-to-Si mole ratio, Fe/Si & 0.55^{+1.07}_{-0.55} & 0.71\\pm0.26 \\Temp. at 300 bar, T_{300} [K] & \\multicolumn{2}{c}{4500} \\Thickness at 300 bar[km] & 1179 \\pm 109 & 972 \\pm 95 \\Albedo, a_{p}& \\multicolumn{2}{c}{0.20\\pm0.01} \\Core+Mantle radius,[R_{p}] & 0.48\\pm0.07 & 0.52\\pm0.05 \\$\\hl$ine$\n",
       "$\\textit{H/He atmosphere} & & \\$\\hl$ine$\n",
       "$Core mass fraction, CMF & 0.70\\pm0.30 & 0.28^{+0.05}_{-0.09} \\H/He mass fraction,x_{H/He} [\\times 10^{-3}] & 3.8\\pm2.0 & 1.4^{+0.2}_{-0.3} \\Fe-to-Si mole ratio, Fe/Si & 17.0^{+25.8}_{-17.0}  & 0.76^{+0.21}_{-0.26} \\Thickness, z_{atm} [km] & 8185 ^{+574}_{-1480}  & 5844 ^{+908}_{-799} \\$\\hl$ine$\n",
       "$\\hline$\n",
       "$\\end{tabular}$\n",
       "$\\label{tab:comp_output}$\n",
       "$\\tablefoot{The results are shown for the two different compositional scenarios and for the two models considered (water as the only volatile - upper part- and a H/He atmosphere -bottom part).\\\\tablefoottext{a}{Only the mass and radius of the planet are considered as inputs.}\\\\tablefoottext{b}{Besides the planetary mass and radius, alse the stellar Fe/Si mole ratios (see Table~\\ref{tab:StePar}) are included as input data.}}$\n",
       "$\\end{table}$\n",
       "$\\begin{figure}$\n",
       "$\\centering$\n",
       "$\\includegraphics[width=0.5\\textwidth ]{conf_interval_ternary_TOI969.pdf}$\n",
       "$\\caption{Ternary diagram with the 1\\sigma confidence region of $\\toi$b  in scenario 1 (black), where only the mass and the radius are considered as input data, and in scenario 2 (red), where the stellar abundances are also included as input data in the MCMC interior structure analysis. The mantle mass fraction (MMF) is newcommandined as MMF = 1 - CMF - WMF. The green dot and red square indicate the position of Earth and Mercury in the ternary diagram, respectively.}$\n",
       "$\\label{fig:ternary_comp}$\n",
       "$\\end{figure}$\n",
       "$To do this, we combine our interior structure model (only the Fe-rich core and the mantle) with the mass-radius relations of \\cite{zeng19}. We obtain the atmospheric thickness by subtracting the mass-radius relationship of an Earth-like bulk with a H/He envelope minus that of a bare Earth-like core, both as newd by \\cite{zeng19}\\footnote{\\url{https://lweb.cfa.harvard.edu/~lzeng/planetmodels.html}}. This allows us to express the atmospheric thickness as a function of the surface gravity, g_{0} = M/R^{2}, and the H/He mass fraction, z_{\\rm atm} = z_{\\rm atm}(g_{0},x_{H/He}). The boundary surface condition for our interior model are T_{\\rm surf} = 2000 K and P_{\\rm surf} = 1 bar, because \\cite{zeng19} consider a maximum irradiation temperature of 2000 K and an isothermal profile in the atmosphere. Table \\ref{tab:comp_output} (bottom part) shows the observables and the compositional parameters retrieved from this second analysis assuming a H/He atmosphere. We observe that the H/He volatile mass fraction is four orders of magnitude lower that the water mass fraction obtained in the previous analysis, which is expected since water at high pressures is significantly more dense than H and He. The 1\\sigma confidence intervals of the H/He volatile mass fractions are situated between 0.1\\% and 0.3\\%, as expected from the position of $\\toi$b  in the mass-radius diagram in Fig. \\ref{fig:mrrel}. To reproduce the density of $\\toi$b , the H/He case does not need a volatile layer as massive as that of the water case since a H/He atmosphere is more expanded than a secondary atmosphere for a similar atmospheric mass. This results in a larger portion of the total mass constituted by the Fe-rich core when we consider a H/He atmosphere, yielding higher CMFs in both scenarios. In scenario 2, we can observe that the CMF is compatible within uncertainties with the Earth value (CMF_{\\oplus} = 0.32).$\n",
       "$Finally, we applied the stoichiometric model of \\cite{santos17} to determine the iron-mass fraction (which can be translated into core-mass fraction) of the planet building blocks in the protoplanetary disks of $\\toi$ . This model is based on the chemical abundances of this star listed in Table~\\ref{tab:StePar}, and assuming that C and O abundances for the two stars scale with metallicity. We find an iron mass fraction of the planet building blocks of 33.1 \\pm 5.2~\\%. This value is compatible with that predicted by this model for the solar system planet building blocks (33.2\\%, \\citealt{santos15}).$\n",
       "$\\begin{figure}[]$\n",
       "$\\centering$\n",
       "$\\includegraphics[width=0.5\\textwidth ]{MR_TOI969.pdf}$\n",
       "$\\caption{Mass-radius relationships for supercritical water (SW) planets \\citep{acuna2021,mousis20}, planets with Earth-like cores and H/He atmospheres \\citep{zeng19} and dry planets with different Fe contents \\citep{brugger17}. We assume high {chemical} equilibrium temperatures for supercritical and H/He volatile layers of 1200 K and 2000 K, respectively. The position of TOI-969 b is indicated as a magenta star.}$\n",
       "$\\label{fig:mrrel}$\n",
       "$\\end{figure}$\n",
       "$\\subsection{Prospects for atmospheric studies with JWST}$\n",
       "$\\label{sec_JWST}$\n",
       "$We simulated synthetic spectra for a range of atmospheric scenarios and instrumental setups. We adopted Tau-REx~III \\citep{al-refaie2021} to compute the model-atmosphere spectra, using the stellar parameters from Table~\\ref{tab:StePar} (arithmetic average) and the planetary parameters from Table~\\ref{tab:joint}. Our test bench models assume atmospheric chemical equilibrium (ACE, \\citealp{agundez2012}) with isothermal profile at the equilibrium temperature, scaled (1\\times and 100\\times) solar abundances, collisionally induced absorption (CIA) by H_2-H_2 and H_2-He \\citep{abel2011,abel2012,fletcher2018}, and Rayleigh scattering. We show two cloud-free models with different metallicities, and a third model with solar metallicity and an optically thick cloud deck with top pressure of 100 Pa. The cloud-free spectra present molecular absorption features of 100-300 ppm, which are slightly smaller by a factor of \\sim2 in the case with enhanced metallicity. The cloudy model also presents smaller absorption features due to the suppression of contributions from deeper atmospheric layers. A flat spectrum due to higher altitude (lower top pressure) clouds cannot be excluded for $\\toi$b .$\n",
       "$We used \\texttt{ExoTETHyS}\\footnote{\\url{https://github.com/ucl-exoplanets/ExoTETHyS}} \\citep{morello2021} to compute bin-averaged spectra, taking into account the spectral response of the JWST instruments, noise scatter and error bars. We simulated JWST spectra for the NIRISS-SOSS (0.6--2.8 \\mum), NIRSpec-G395M (2.88--5.20 \\mum) and MIRI-LRS (5--12 \\mum) instrumental modes. The wavelength bins were specifically determined to have similar counts, leading to nearly uniform error bars per spectral point. In particular, we set a median resolving power of R\\sim 50 for the NIRISS-SOSS and NIRSpec-G395M modes, and bin sizes of \\sim0.1--0.2\\mum for the MIRI-LRS. The error bars have been calculated for a single visit of twice the transit duration in each instrumental mode, scaled by the inverse of the observing efficiency estimated with the Exoplanet Characterization Toolkit  (ExoCTK\\footnote{\\url{https://exoctk.stsci.edu}}, \\citealp{bourque2021_exoctk}), and a factor 1.2 to account for correlated noise. We obtained error bars of 35--50 ppm per spectral point for the  NIRISS-SOSS and NIRSpec-G395M modes, and 110--114 for the MIRI-LRS bins. These numbers suggest that a single transit observation is sufficient to sample the molecular absorption features in case of a clear atmosphere, even with 100\\times solar metallicity. A single NIRSpec-G395M observation could also be sufficient to detect the absorption features in a cloudy scenario, if the top pressure is higher than 100 Pa (see Fig.~\\ref{Fig:TOI969b_JWSTspectra}).$\n",
       "$\\begin{figure*}$\n",
       "$\\centering$\n",
       "$\\includegraphics[width=\\hsize]{TOI969b_solar_mh100_clouds1e2.pdf}$\n",
       "$\\caption{Synthetic transmission spectra of $\\toi$b . Fiducial models assuming a cloud-free atmosphere with solar abundances (bottom), cloud-free atmosphere with enhanced metallicity by a factor of 100 (middle), and atmosphere with solar abundances and optically-thick cloud deck with top pressure of 100 Pa (top). Estimated uncertainties are shown for the observation of one transit with JWST NIRISS-SOSS, NIRSpec-G395M, and MIRI-LRS configurations. {Simulated data is color coded with wavelength.}}$\n",
       "$\\label{Fig:TOI969b_JWSTspectra}$\n",
       "$\\end{figure*}$\n",
       "$\\subsection{$\\toi$c : A massive eccentric cold component in the planetary-to-brown-dwarf transition}$\n",
       "$ Our RV analysis strongly favors the presence of an outer companion at 2.4 AU in a high eccentric orbit that we call $\\toi$c . With a minimum mass of 11.3^{+1.1}_{-0.9}~$\\Mjup$  and a derived eccentricity of e_c=0.628^{+0.043}_{-0.036}, our analysis places this planetary system as an ideal case for dynamical studies of planet migration and formation. Figure~\\ref{fig:orbit} displays the orbital shape of the system. These high eccentricities are expected for massive planets as demonstrated in \\cite{adibekyan13} and previously predicted by numerical simulations (e.g., \\citealt{papaloizou01,bitsch13}). In particular, one of the main scenarios to explain the current population of eccentric cold giant planets is that of planet-disk interactions during the planet formation phase \\citep{papaloizou01,kley06,bitsch13}. As discussed in \\cite{bitsch20}, in the case of very massive gas giants with more than 5~$\\Mjup$ , the gaps opened by these massive bodies are so deep that they prevent the Lindblad resonances that allow the damping of high eccentricities. This is one possibility to explain the large eccentricity of $\\toi$c  in the absence of additional massive bodies in the system. The alternative scenario consists of planet-planet scattering. This has been tested by different authors using different approaches and configurations of the forming planetary system (e.g., \\citealt{juric08,raymond09a,bitsch20}) reaching to the conclusion that planetary systems including a massive eccentric giant should not harbor any inner super-Earths. By contrast, \\cite{zhu18} and \\cite{bryan19} found that there is a positive correlation between the presence of hot super-Earths and cold Jupiters in the same system. This is then still an open question.$\n",
       "$The presence of the hot mini-Neptune $\\toi$b  at such close-in orbit is thus intriguing in this regard, as it seems to be an exception to the planet-planet scattering scenario, which should have destabilised the inner planet and removed it from the system. The alternative would then be that $\\toi$b  formed inner to the cold giant and subsequently migrated towards its current location through type-I migration. However, the expected location of the snow line for the proto-planetary disk of this late-K dwarf star is at around 1 AU, too close to the current location of $\\toi$c  to have had enough dynamical room to form a Neptune-like planet as $\\toi$b . Consequently, the formation of this system and its evolution until reaching its present configuration remains open. Thus, a complete re-arrangement of the initial planetary configuration cannot be discarded.$\n",
       "$\\begin{figure}$\n",
       "$\\centering$\n",
       "$\\includegraphics[width=0.5\\textwidth ]{TOI969_planetary_system.pdf}$\n",
       "$\\caption{Schematic view of the planetary system $\\toi$ , with the Earth direction towards the bottom of the panel. A total of 500 randomly selected orbits from the posterior distribution of the joint model (see Sect.~\\ref{sec:joint}) are drawn for $\\toi$b  (orange) and $\\toi$c  (blue). The orbit corresponding to the median solution for each parameter is displayed as a solid thicker line of the corresponding color for each planet.}$\n",
       "$\\label{fig:orbit}$\n",
       "$\\end{figure}$\n",
       "$\\section{Conclusions}$\n",
       "$\\label{sec:Conclusions}$\n",
       "$In this paper we have confirmed the planetary nature of $\\toi$b , a planet candidate detected by the TESS mission through the transit technique. Additional transits of $\\toi$b  were also observed from the ground using LCOGT and MEarth telescopes. We used high-spatial resolution images to discard possible contaminant sources within the TESS aperture as well as an intense RV monitoring with different instruments (namely HARPS, PFS and CORALIE). These RV time series revealed the presence of a long-term signal compatible with a new planet in the system.$\n",
       "$We analyse this large dataset and conclude that $\\toi$b  is a hot (P_b\\sim 1.82~days) mini-Neptune with a radius of 2.765^{+0.088}_{-0.097}~$\\Rearth$  and a mass of 9.1^{+1.1}_{-1.0}~$\\Mearth$ . These properties place this planet within the lower boundary of the hot-Neptune desert. The internal structure analysis also suggests a core mass fraction of 12\\pm 4~\\% and a large fraction of its mass contained in a potential atmospheric layer. The simulations we performed suggest this atmosphere could be characterized with JWST in a single visit, thus putting this target in the priority list for sub-Neptune planets. The transit times of this planet also display some deviations from a strictly periodic signal at the 10-min level. However, the precision from the TESS data is not sufficient to properly assess a TTV analysis and so infer the possible presence of additional planets, at least not better than with the RV data.$\n",
       "$The long timespan radial velocity time series indicate the presence of a second component in the system ($\\toi$c ) in a long-period orbit with P_c=1700^{+290}_{-280}~days. Our two-planet model is here favored against a simpler one-planet model plus a quadratic trend. This second body has a minimum mass of 11.3^{+1.1}_{-0.9}~$\\Mjup$  (in the transition between the planetary and brown dwarf domain) and a large eccentricity of e_c=0.628^{+0.043}_{-0.036}, constituting a relevant piece of the system in terms of dynamical stability and placing it as a key actor of $\\toi$  in moulding the current architecture of the planetary system. $\\toi$  thus becomes a test bench for planet migration theories and, in particular, for planet-planet scattering studies.$\n",
       "$\\begin{acknowledgements}$\n",
       "$We thank the anonymous referee for their though revision of this manuscript that has improved its final quality.$\n",
       "$J.L-B. acknowledges financial support received from \"la Caixa\" Foundation (ID 100010434) and from the European Unions Horizon 2020 research and innovation programme under the Marie Slodowska-Curie grant agreement No 847648, with fellowship code LCF/BQ/PI20/11760023. This research has also been partly funded by the Spanish State Research Agency (AEI) Projects No.PID2019-107061GB-C61 and No. MDM-2017-0737 Unidad de Excelencia \"Mar\\'ia de Maeztu\"- Centro de Astrobiolog\\'ia (INTA-CSIC).$\n",
       "$R.L. acknowledges financial support from the Spanish Ministerio de Ciencia e Innovaci\\'on, through project PID2019-109522GB-C52, and the Centre of Excellence \"Severo Ochoa\" award to the Instituto de Astrof\\'isica de Andaluc\\'ia (SEV-2017-0709).$\n",
       "$D.J.A. acknowledges support from the STFC via an Ernest Rutherford Fellowship (ST/R00384X/1).$\n",
       "$S.G.S acknowledges the support from FCT through Estimulo FCT contract nr.CEECIND/00826/2018 and POPH/FSE (EC).$\n",
       "$G.M. has received funding from the European Union's Horizon 2020 research and innovation programme under the Marie Sk\\l odowska-Curie grant agreement No. 895525.$\n",
       "$S.H. acknowledges CNES funding through the grant 837319.$\n",
       "$The French group acknowledges financial support from the French Programme National de Plan\\'etologie (PNP, INSU).$\n",
       "$This work is partly financed by the Spanish Ministry of Economics and Competitiveness through grants PGC2018-098153-B-C31.$\n",
       "$We acknowledge the support by FCT - Funda\\c{c}\\~ao para a Ci\\^encia e a Tecnologia through national funds and by FEDER through COMPETE2020 - Programa Operacional Competitividade e Internacionaliza\\c{c}\\~ao by these grants: UID/FIS/04434/2019; UIDB/04434/2020; UIDP/04434/2020; PTDC/FIS-AST/32113/2017 \\& POCI-01-0145-FEDER-032113; PTDC/FISAST/28953/2017 \\& POCI-01-0145-FEDER-028953.$\n",
       "$P.J.W. is supported by an STFC consolidated grant (ST/T000406/1).$\n",
       "$F.H. is funded by an STFC studentship.$\n",
       "$T.A.S acknowledges support from the Funda\\c{c}\\~ao para a Ci\\^encia e a Tecnologia (FCT) through the Fellowship PD/BD/150416/2019 and POCH/FSE (EC).$\n",
       "$C.M.P. acknowledges support from the SNSA (dnr 65/19P).$\n",
       "$This work has been carried out within the framework of the National Centre of Competence in Research (NCCR) PlanetS supported by the Swiss National Science Foundation. This project has received funding from the European Research Council (ERC) under the European Union's Horizon 2020 research and innovation programme (grant agreement SCORE No 851555).$\n",
       "$O.D.S.D. is supported in the form of work contract (DL 57/2016/CP1364/CT0004) funded by national funds through Funda\\c{c}\\~ao para a Ci\\^encia e a Tecnologia (FCT).$\n",
       "$M.E. acknowledges the support of the DFG priority programSPP 1992 \"Exploring the Diversity of Extrasolar Planets\" (HA 3279/12-1).$\n",
       "$A.O. is funded by an STFC studentship.$\n",
       "$J.K. gratefully acknowledge the support of the Swedish National Space Agency (SNSA; DNR 2020-00104).$\n",
       "$This work makes use of observations from the LCOGT network. This paper is based on observations made with the MuSCAT3 instrument, developed by the Astrobiology Center and under financial supports by JSPS KAKENHI (JP18H05439) and JST PRESTO (JPMJPR1775), at Faulkes Telescope North on Maui, HI, operated by the Las Cumbres Observatory.$\n",
       "$Some of the observations in the paper made use of the High-Resolution Imaging instrument Zorro obtained under Gemini LLP Proposal Number: GN/S-2021A-LP-105. Zorro was funded by the NASA Exoplanet Exploration Program and built at the NASA Ames Research Center by Steve B. Howell, Nic Scott, Elliott P. Horch, and Emmett Quigley. Zorro was mounted on the Gemini North (and/or South) telescope of the international Gemini Observatory, a program of NSF's OIR Lab, which is managed by the Association of Universities for Research in Astronomy (AURA) under a cooperative agreement with the National Science Foundation. on behalf of the Gemini partnership: the National Science Foundation (United States), National Research Council (Canada), Agencia Nacional de Investigaci\\'on y Desarrollo (Chile), Ministerio de Ciencia, Tecnolog\\'ia e Innovaci\\'on (Argentina),  Minist\\'erio da Ci\\^{e}ncia, Tecnologia, Inova\\c{c}\\~oes e Comunica\\c{c}\\~oes (Brazil), and Korea Astronomy and Space Science Institute (Republic of Korea).$\n",
       "$We acknowledge the use of public TESS data from pipelines at the TESS Science Office and at the TESS Science Processing Operations Center.$\n",
       "$Resources supporting this work were newd by the NASA High-End Computing (HEC) Program through the NASA Advanced Supercomputing (NAS) Division at Ames Research Center for the production of the SPOC data products.$\n",
       "$The MEarth Team gratefully acknowledges funding from the David and Lucile Packard Fellowship for Science and Engineering (awarded to D.C.). This material is based upon work supported by the National Science Foundation under grants AST-0807690, AST-1109468, AST-1004488 (Alan T. Waterman Award), and AST-1616624, and upon work supported by the National Aeronautics and Space Administration under Grant No. 80NSSC18K0476 issued through the XRP Program. This work is made possible by a grant from the John Templeton Foundation. The opinions expressed in this publication are those of the authors and do not necessarily reflect the views of the John Templeton Foundation.$\n",
       "$This research made use of Astropy, (a community-developed core Python package for Astronomy, \\citealt{astropy:2013,astropy:2018}), SciPy \\citep{scipy}, matplotlib (a Python library for publication quality graphics \\citealt{matplotlib}), and numpy \\citep{numpy}.$\n",
       "$This research has made use of NASA's Astrophysics Data System Bibliographic Services.$\n",
       "$This research has made use of the SIMBAD database, operated at CDS, Strasbourg, France.$\n",
       "$The authors wish to recognize and acknowledge the very significant cultural role and reverence that the summit of Mauna Kea has always had within the indigenous Hawaiian community.  We are most fortunate to have the opportunity to conduct observations from this mountain.$\n",
       "$\\end{acknowledgements}$\n",
       "$\\bibliographystyle{aa}$\n",
       "$\\bibliography{../../../biblio2}$\n",
       "$\\appendix$\n",
       "$\\section{ Additional tables}$\n",
       "$\\begin{table*}$\n",
       "$\\setlength{\\extrarowheight}{3pt}$\n",
       "$\\centering$\n",
       "$\\caption{TESS light curves of TOI-969 (see Sect.~\\ref{sec:tess}).}$\n",
       "$\\label{tab:TESSdata}$\n",
       "$\\begin{tabular}{cccccc}$\n",
       "$\\hline$\\hl$ine$\n",
       "$BJD & Flux (PDCSAP) & \\sigma_{\\rm flux} & Flux det. (norm) & \\sigma_{\\rm flux det.} & Sector \\$\\hl$ine$\n",
       "$2458491.6829294283 & 1.001832 & 0.000371 & 0.999953 & 0.000371 & TESS07 \\2458491.7037631846 & 1.002146 & 0.000369 & 1.000287 & 0.000369 & TESS07\\2458491.72459694 & 1.00138 & 0.000367 & 0.999544 & 0.000367 & TESS07\\2458491.745430695 & 1.002189 & 0.000365 & 1.000375 & 0.000365 & TESS07\\2458491.766264449 & 1.001059 & 0.000364 & 0.99927 & 0.000364 & TESS07\\2458491.7870982024 & 1.001779 & 0.000363 & 1.000014 & 0.000363 & TESS07\\2458491.8079319545 & 1.001815 & 0.000361 & 1.000076 & 0.000361 & TESS07\\2458491.828765706 & 1.001416 & 0.00036 & 0.999704 & 0.00036 & TESS07\\2458491.849599457 & 1.002108 & 0.000358 & 1.000425 & 0.000358 & TESS07\\2458491.870433206 & 1.001584 & 0.000357 & 0.999932 & 0.000357 & TESS07\\... & & & & &\\$\\hl$ine$\\hl$ine$\n",
       "$\\end{tabular}$\n",
       "$\\tablefoot{The detrended light curve in the fourth column corresponds to the detrending applied by using the parameters from the joint analysis in Sect.~\\ref{sec:joint}. Only the first 10 values are shown. The complete table is available through CDS (see link in the main title caption).}$\n",
       "$\\end{table*}$\n",
       "$\\begin{table*}$\n",
       "$\\setlength{\\extrarowheight}{3pt}$\n",
       "$\\centering$\n",
       "$\\caption{Ground based photometric time series of TOI-969 from the LCOGT and MEarth facilities (see Sects.~\\ref{sec:lco} and \\ref{sec:MEarth}).}$\n",
       "$\\label{tab:GBdata}$\n",
       "$\\begin{tabular}{ccccccc}$\n",
       "$\\hline$\\hl$ine$\n",
       "$BJD & Flux (PDCSAP) & \\sigma_{\\rm flux} & Flux det. (norm) & \\sigma_{\\rm flux det.} & Airmass & Instrument \\$\\hl$ine$\n",
       "$2459222.785142 & 1.005212 & 0.000751 & 1.000958 & 0.000751 & 2.293 & LCOHAL_gp \\2459222.785448 & 1.002452 & 0.000748 & 0.99822 & 0.000748 & 2.285 & LCOHAL_gp\\2459222.785755 & 1.003435 & 0.000751 & 0.999246 & 0.000751 & 2.277 & LCOHAL_gp\\2459222.7861 & 1.00383 & 0.000745 & 0.999685 & 0.000745 & 2.267 & LCOHAL_gp\\2459222.786406 & 1.002546 & 0.000739 & 0.99843 & 0.000739 & 2.259 & LCOHAL_gp\\2459222.786714 & 1.004676 & 0.000736 & 1.000609 & 0.000736 & 2.251 & LCOHAL_gp\\2459222.787021 & 1.002964 & 0.000733 & 0.998924 & 0.000733 & 2.243 & LCOHAL_gp\\2459222.787373 & 1.002637 & 0.000736 & 0.998636 & 0.000736 & 2.234 & LCOHAL_gp\\2459222.787683 & 1.004611 & 0.000736 & 1.000657 & 0.000736 & 2.226 & LCOHAL_gp\\2459222.78799 & 1.004979 & 0.000748 & 1.001062 & 0.000748 & 2.218 & LCOHAL_gp\\... & & & & &\\$\\hl$ine$\\hl$ine$\n",
       "$\\end{tabular}$\n",
       "$\\tablefoot{The detrended light curve in the fourth column corresponds to the linear detrending with airmass applied by using the parameters from the joint analysis in Sect.~\\ref{sec:joint}. Only the first 10 values are shown. The complete table is available through CDS (see link in the main title caption).}$\n",
       "$\\end{table*}$\n",
       "$\\begin{table*}$\n",
       "$\\setlength{\\extrarowheight}{3pt}$\n",
       "$\\centering$\n",
       "$\\caption{Photometric time series from WASP (see Sect.~\\ref{sec:wasp}).}$\n",
       "$\\label{tab:WASPdata}$\n",
       "$\\begin{tabular}{cccccc}$\n",
       "$\\hline$\\hl$ine$\n",
       "$BJD & Flux & \\sigma_{\\rm flux} \\$\\hl$ine$\n",
       "$2455155.610718 & 0.97743 & 0.00976 \\2455155.611157 & 0.98893 & 0.00993\\2455155.617477 & 0.98432 & 0.01116\\2455155.617905 & 0.9859 & 0.01024\\2455155.624259 & 0.98289 & 0.00923\\2455155.624699 & 0.98068 & 0.00956\\2455155.630949 & 0.98545 & 0.01378\\2455155.631389 & 0.98309 & 0.01471\\2455155.63662 & 0.9821 & 0.01492\\2455155.637083 & 0.96412 & 0.01586\\... & &\\$\\hl$ine$\\hl$ine$\n",
       "$\\end{tabular}$\n",
       "$\\tablefoot{Only the first 10 values are shown. The complete table is available through CDS (see link in the main title caption).}$\n",
       "$\\end{table*}$\n",
       "$\\begin{table*}$\n",
       "$\\small$\n",
       "$\\setlength{\\extrarowheight}{3pt}$\n",
       "$\\centering$\n",
       "$\\caption{Radial velocity and activity indicators for all instruments.}$\n",
       "$\\label{tab:RVdata}$\n",
       "$\\begin{tabular}{lccccccc}$\n",
       "$\\hline$\\hl$ine$\n",
       "$JD & RV & BIS-SPAN & FWHM & Contrast & S-index & \\log{R^{\\prime}_HK} & Inst.\\(days) & ($\\kms$) & ($\\kms$) & ($\\kms$) & (\\%) & - & dex & \\$\\hl$ine$\n",
       "$2459163.79166882 & -5.8432 \\pm 0.0018 & 0.0480 \\pm 0.0037 & 6.6641 \\pm 0.0037 & 47.5 \\pm 2.4 & 1.153 \\pm 0.021 & -4.3718 \\pm 0.0081 & HARPS \\2459182.75297637 &-5.7772 \\pm 0.0022 & 0.0644 \\pm 0.0045 & 6.6225 \\pm 0.0045 & 47.4 \\pm 2.4 & 1.021 \\pm 0.027 & -4.426 \\pm 0.012 & HARPS \\2459183.71415593 &-5.7739 \\pm 0.0025 & 0.0683 \\pm 0.0050 & 6.6264 \\pm 0.0050 & 47.0 \\pm 2.3 & 1.032 \\pm 0.028 & -4.421 \\pm 0.012 & HARPS \\2459183.80873437 &-5.7727 \\pm 0.0030 & 0.0640 \\pm 0.0061 & 6.6133 \\pm 0.0061 & 47.1 \\pm 2.4 & 0.993 \\pm 0.037 & -4.437 \\pm 0.017 & HARPS \\2459184.71221205 &-5.7813 \\pm 0.0027 & 0.0510 \\pm 0.0046 & 6.6229 \\pm 0.0054 & 47.0 \\pm 2.4 & 1.048 \\pm 0.031 & -4.414 \\pm 0.013 & HARPS \\2459185.77198425 &-5.7578 \\pm 0.0023 & 0.0531 \\pm 0.0040 & 6.6249 \\pm 0.0046 & 47.3 \\pm 2.4 & 1.077 \\pm 0.027 & -4.402 \\pm 0.011 & HARPS \\2459191.754039 &-5.7141 \\pm 0.0020 & 0.0592 \\pm 0.0046 & 6.6709 \\pm 0.0040 & 47.5 \\pm 2.4 & 1.214 \\pm 0.026 & -4.3494 \\pm 0.0094 & HARPS \\2459192.67584257 &-5.7268 \\pm 0.0023 & 0.0592 \\pm 0.0050 & 6.6572 \\pm 0.0046 & 47.6 \\pm 2.4 & 1.240 \\pm 0.029 & -4.340 \\pm 0.010 & HARPS \\2459193.75970319 &-5.7209 \\pm 0.0025 & 0.0664 \\pm 0.0037 & 6.6772 \\pm 0.0050 & 47.6 \\pm 2.4 & 1.287 \\pm 0.034 & -4.324 \\pm 0.011 & HARPS \\2459195.70681719 &-5.7156 \\pm 0.0019 & 0.0669 \\pm 0.0040 & 6.6480 \\pm 0.0037 & 47.7 \\pm 2.4 & 1.207 \\pm 0.022 & -4.3517 \\pm 0.0081 & HARPS \\... &... &... &... &... &... &... &...\\$\\hl$ine$\\hl$ine$\n",
       "$\\end{tabular}$\n",
       "$\\tablefoot{Only the first 10 values are shown. The complete table is available through CDS (see link in the main title caption).}$\n",
       "$\\end{table*}$\n",
       "$\\begin{table*}$\n",
       "$\\setlength{\\extrarowheight}{2.5pt}$\n",
       "$\\centering$\n",
       "$\\caption{Inferred and derived parameters from the light curve analysis (Sect.~\\ref{sec:TESSanalysis}) for the one-planet model.}$\n",
       "$\\label{tab:LCalone}$\n",
       "$\\begin{tabular}{lll}$\n",
       "$\\hline$\\hl$ine$\n",
       "$Parameter & Priors & Posteriors \\$\\hl$ine$\n",
       "$\\textit{Planet modeled parameters} & &  \\$\\hl$ine$\n",
       "$Orbital period, P_b [days] & \\mathcal{G}(1.8237371,0.0001) & 1.8237306\\pm 0.0000021 \\Time of mid-transit,T_{\\rm 0,b}-2400000 [days] & \\mathcal{G}(59248.377773,0.1) & 59248.37713^{+0.00042}_{-0.00038} \\Orbital inclination,i_{\\rm b} [deg.] & \\mathcal{U}(40.0,90.0) & 86.71^{+0.37}_{-0.36} \\Planet radius,R_b [R_{\\oplus}] & \\mathcal{U}(0.0,20.0) & 2.773^{+0.089}_{-0.086} \\Transit depth,\\Delta_{b} [ppt] & (derived) & 1.443^{+0.042}_{-0.042} \\Orbit semi-major axis,a_{b} [AU] & (derived) & 0.02636^{+0.00017}_{-0.00017} \\Relative orbital separation,a_{b}/R_{\\star} & (derived) & 8.47^{+0.20}_{-0.20} \\Transit duration,T_{\\rm 14,b} [hours] & (derived) & 1.515^{+0.018}_{-0.018} \\Impact parameter,b_{b}/R_{\\star} & (derived) & 0.486^{+0.041}_{-0.046} \\Incident Flux,F_{\\rm inc,b} [F_{{\\rm inc},\\oplus}] & (derived) & 529^{+26}_{-24} \\$\\hl$ine$\n",
       "$\\textit{Stellar parameters} & &  \\$\\hl$ine$\n",
       "$Stellar radius, R_{\\star} [R_{\\odot}] & \\mathcal{T}(0.671,0.015,0.1,1.2) & 0.669^{+0.016}_{-0.015} \\Stellar mass,M_{\\star} [M_{\\odot}] & \\mathcal{T}(0.734,0.014,0.1,1.2) & 0.734^{+0.014}_{-0.014} \\Stellar luminosity,L_{\\star} [L_{\\odot}] & (derived) & 0.367^{+0.017}_{-0.016} \\Limb-darkeningu_1, LCOHAL_gp & \\mathcal{T}(0.592,0.05,0,1) & 0.595^{+0.026}_{-0.026} \\Limb-darkeningu_2, LCOHAL_gp & \\mathcal{T}(0.141,0.05,0,1) & 0.141^{+0.025}_{-0.025} \\Limb-darkeningu_1, LCOHAL_ip & \\mathcal{T}(0.539,0.05,0,1) & 0.538^{+0.025}_{-0.026} \\Limb-darkeningu_2, LCOHAL_ip & \\mathcal{T}(0.155,0.05,0,1) & 0.154^{+0.025}_{-0.025} \\Limb-darkeningu_1, LCOHAL_rp & \\mathcal{T}(0.7,0.05,0,1) & 0.706^{+0.025}_{-0.025} \\Limb-darkeningu_2, LCOHAL_rp & \\mathcal{T}(0.078,0.05,0,1) & 0.083^{+0.026}_{-0.026} \\Limb-darkeningu_1, LCOHAL_zs & \\mathcal{T}(0.416,0.05,0,1) & 0.414^{+0.026}_{-0.026} \\Limb-darkeningu_2, LCOHAL_zs & \\mathcal{T}(0.195,0.05,0,1) & 0.193^{+0.026}_{-0.026} \\Limb-darkeningu_1, MEarth & \\mathcal{T}(0.416,0.1,0,1) & 0.465^{+0.094}_{-0.095} \\$\\hl$ine$\n",
       "$\\textit{Instrument-dependent parameters} & &  \\$\\hl$ine$\n",
       "$LC level TESS07 & \\mathcal{U}(-20,20) & -0.54^{+0.64}_{-0.76} \\LC level TESS34 &\\mathcal{U}(-20,20) & -0.1^{+0.62}_{-0.70} \\LC level LCOHAL_gp &\\mathcal{U}(-20,20) & 5.69^{+0.18}_{-0.17} \\LC level LCOHAL_ip &\\mathcal{U}(-20,20) & -0.48^{+0.19}_{-0.20} \\LC level LCOHAL_rp &\\mathcal{U}(-20,20) & 0.62^{+0.19}_{-0.19} \\LC level LCOHAL_zs &\\mathcal{U}(-20,20) & -1.27^{+0.21}_{-0.20} \\LC level MEarth &\\mathcal{U}(-200,200) & 5.41^{+0.18}_{-0.17} \\LC jitter TESS07[ppm] & \\mathcal{U}(0,4000) & 90^{+33}_{-28} \\LC jitter TESS34[ppm] & \\mathcal{U}(0,4000) & 93^{+28}_{-56} \\LC jitter LCOHAL_gp[ppm] & \\mathcal{U}(0,4000) & 882^{+61}_{-44} \\LC jitter LCOHAL_ip[ppm] & \\mathcal{U}(0,4000) & 1588^{+36}_{-48} \\LC jitter LCOHAL_rp[ppm] & \\mathcal{U}(0,4000) & 1638^{+40}_{-28} \\LC jitter LCOHAL_zs[ppm] & \\mathcal{U}(0,4000) & 1164^{+60}_{-38} \\LC jitter MEarth[ppm] & \\mathcal{U}(0,4000) & 881^{+28}_{-41} \\$\\hl$ine$\n",
       "$\\textit{GP parameters} & &  \\$\\hl$ine$\n",
       "$\\eta_{\\sigma,LC} [ppm] & \\mathcal{LU}(0.01,10000) & 2620^{+600}_{-410} \\\\eta_{{\\rm Q}_0} & \\mathcal{U}(-8.0,10) & -0.82^{+0.17}_{-0.17} \\\\eta_{\\rho} [days] & \\mathcal{G}(24.0,1) & 23.97^{+1.04}_{-0.92} \\\\eta_{\\delta{\\rm Q}} & \\mathcal{U}(0.13,7.38) & 3.5^{+3.1}_{-2.8} \\\\eta_{f} & \\mathcal{U}(0,1) & 0.71^{+0.26}_{-0.20} \\$\\hl$ine$\n",
       "$\\hline$\n",
       "$\\multicolumn{3}{l}{Notes: \\mathcal{G}(\\mu,\\sigma): Normal distribution with mean \\mu and width \\sigma. \\mathcal{U}(a,b): Uniform distribution between a and b.}\\\\multicolumn{3}{l}{\\mathcal{LU}(a,b): Log-uniform distribution between a and b. \\mathcal{T}(\\mu,\\sigma,a,b): Truncated normal distribution with mean \\mu and width \\sigma,}\\\\multicolumn{3}{l}{between a and b. }\\\\end{tabular}$\n",
       "$\\end{table*}$\n",
       "$\\begin{table*}$\n",
       "$\\setlength{\\extrarowheight}{3pt}$\n",
       "$\\centering$\n",
       "$\\caption{Inferred and derived parameters from the radial velocity only analysis (Sect.~\\ref{sec:RVanalysis}) for the preferred model (labelled as \"2p1cF\") with the inner planet in a circular orbit and the external component in an eccentric orbit.}$\n",
       "$\\label{tab:RValone}$\n",
       "$\\begin{tabular}{lll}$\n",
       "$\\hline$\\hl$ine$\n",
       "$Parameter & Priors & Posteriors \\$\\hl$ine$\n",
       "$\\textit{Planet b} & &  \\$\\hl$ine$\n",
       "$Orbital period, P_b [days] & \\mathcal{G}(1.8237371,0.000012) & 1.823737^{+0.000013}_{-0.000012} \\Time of mid-transit,T_{\\rm 0,b}-2400000 [days] & \\mathcal{G}(59248.377773,0.003) & 59248.3784^{+0.0031}_{-0.0031} \\RV semi-amplitude,K_{\\rm b} [m/s] & \\mathcal{U}(0.0,100.0) & 5.75^{+0.67}_{-0.62} \\Planet mass,m_{b}\\sin{i_b} [$\\Mearth$ ] & (derived) & 8.89^{+1.0}_{-0.95} \\Orbit semi-major axis,a_{b} [AU] & (derived) & 0.02635^{+0.00017}_{-0.00017} \\Relative orbital separation,a_{b}/R_{\\star} & (derived) & 8.44^{+0.20}_{-0.19} \\Incident Flux,F_{\\rm inc,b} [F_{{\\rm inc},\\oplus}] & (derived) & 225^{+20}_{-19} \\$\\hl$ine$\n",
       "$\\textit{Planet c} & &  \\$\\hl$ine$\n",
       "$Orbital period, P_c [days] & \\mathcal{LU}(100.0,5000.0) & 1730^{+240}_{-270} \\Time of mid-transit,T_{\\rm 0,c}-2400000 [days] & \\mathcal{U}(57200.0,62900.0) & (60670^{+220}_{-250} \\RV semi-amplitude,K_{\\rm c} [m/s] & \\mathcal{U}(0.0,1500.0) & 319^{+23}_{-20} \\Orbital eccentricity,e_{\\rm c} & \\mathcal{U}(0.0,1.0) & 0.622^{+0.035}_{-0.040} \\Arg. periastron,\\omega_{\\rm c} [deg.] & \\mathcal{U}(0.0,360.0) & 208.4^{+6.6}_{-6.4} \\Planet mass,m_{c}\\sin{i_c} [$\\Mjup$ ] & (derived) & 11.8^{+1.6}_{-1.1} \\Orbit semi-major axis,a_{c} [AU] & (derived) & 2.54^{+0.38}_{-0.36} \\Relative orbital separation,a_{c}/R_{\\star} & (derived) & 810 \\pm 120 \\Incident Flux,F_{\\rm inc,c} [F_{{\\rm inc},\\oplus}] & (derived) & 0.0243^{+0.0089}_{-0.0062} \\$\\hl$ine$\n",
       "$\\textit{Instrument-dependent parameters} & &  \\$\\hl$ine$\n",
       "$\\delta_{\\rm HARPS} [km/s] & \\mathcal{U}(-10,10) & -5.479^{+0.021}_{-0.025} \\\\delta_{\\rm CORALIE} [km/s] & \\mathcal{U}(-10,10) & -5.541^{+0.018}_{-0.023} \\\\delta_{\\rm PFS} [km/s] & \\mathcal{U}(-10,10) & 0.178^{+0.021}_{-0.025} \\\\sigma_{\\rm HARPS} [m/s] & \\mathcal{LU}(0.1,2) & 1.72^{+0.21}_{-0.43} \\\\sigma_{\\rm CORALIE} [m/s] & \\mathcal{LU}(0.1,30) & 1.20^{+7.7}_{-0.99} \\\\sigma_{\\rm PFS} [m/s] & \\mathcal{LU}(0.1,5) & 3.74^{+0.88}_{-1.1} \\\\delta_{\\rm FWHM,HARPS} [km/s] & \\mathcal{U}(-0.5,0.5) & 0.0575^{+0.0017}_{-0.0016} \\\\delta_{\\rm FWHM,CORALIE} [km/s] & \\mathcal{U}(-0.5,0.5) & -0.077^{+0.013}_{-0.014} \\\\sigma_{\\rm FWHM,HARPS} [m/s] & \\mathcal{LU}(0.1,300) & 6.4^{+1.7}_{-1.3} \\\\sigma_{\\rm FWHM,CORALIE} [m/s] & \\mathcal{LU}(0.1,300) & 61.7^{+11}_{-7.4} \\$\\hl$ine$\n",
       "$\\textit{GP parameters} & &  \\$\\hl$ine$\n",
       "$\\eta_{\\rm 1,FWHM} [m/s] & \\mathcal{LU}(0.01,400) & 6.2^{+2.4}_{-4.4} \\\\eta_1 [m/s] & \\mathcal{LU}(0.01,50) & 9.3^{+1.8}_{-1.4} \\\\eta_2 [days] & \\mathcal{U}(-8.0,10) & -2.20^{+0.35}_{-0.37} \\\\eta_3 [days] & \\mathcal{G}(24.0,1) & 24.06^{+0.95}_{-1.0} \\\\eta_4 & \\mathcal{U}(0.13,7.38) & 3.9^{+2.4}_{-2.6} \\$\\hl$ine$\n",
       "$\\hline$\n",
       "$\\multicolumn{3}{l}{Notes:}\\\\multicolumn{3}{l}{\\bullet \\mathcal{G}(\\mu,\\sigma): Normal distribution with mean \\mu and width \\sigma}\\\\multicolumn{3}{l}{\\bullet \\mathcal{U}(a,b): Uniform distribution between a and b}\\\\multicolumn{3}{l}{\\bullet \\mathcal{LU}(a,b): Log-uniform distribution between a and b}\\\\end{tabular}$\n",
       "$\\end{table*}$\n",
       "$\\onecolumn$\n",
       "$\\setlength{\\extrarowheight}{3pt}$\n",
       "$\\begin{longtable}{lcc}$\n",
       "$\\caption{\\label{tab:joint} Inferred and derived parameters from the joint radial velocity and light curves analysis (Sect.~\\ref{sec:joint}) for the preferred model.}\\$\\hl$ine$\n",
       "$Parameter & Priors & Posteriors \\$\\hl$ine$\n",
       "$\\endfirsthead$\n",
       "$\\multicolumn{3}{l}{{\\bfseries \\tablename \\thetable  -- continued from previous page}} \\$\\hl$ine$\n",
       "$Parameter & Priors & Posteriors \\$\\hl$ine$\n",
       "$\\endhead$\n",
       "$\\multicolumn{3}{l}{{Continued on next page}} \\$\\hl$ine$\n",
       "$\\endfoot$\n",
       "$\\hline$\n",
       "$\\multicolumn{3}{l}{Notes:}\\\\multicolumn{3}{l}{\\bullet \\mathcal{G}(\\mu,\\sigma): Normal distribution with mean \\mu and width \\sigma}\\\\multicolumn{3}{l}{\\bullet \\mathcal{U}(a,b): Uniform distribution between a and b}\\\\multicolumn{3}{l}{\\bullet \\mathcal{LU}(a,b): Log-uniform distribution between a and b}\\\\multicolumn{3}{l}{\\bullet \\mathcal{T}(\\mu,\\sigma,a,b): Truncated normal distribution with mean \\mu and width \\sigma, between a and b}\\\\endlastfoot$\n",
       "$\\multicolumn{3}{l}{\\it Planet b}  \\$\\hl$ine$\n",
       "$Orbital period, P_b [days] & \\mathcal{G}(1.8237371,0.0001) & 1.8237305^{+0.0000020}_{-0.0000021} \\Time of mid-transit,T_{\\rm 0,b}-2400000 [days] & \\mathcal{G}(59248.377773,0.1) & 59248.37709^{+0.00036}_{-0.00039} \\Planet mass,M_b [$\\Mearth$ ] & \\mathcal{U}(0,5000) & 9.1^{+1.0}_{-1.0} \\Orbital inclination,i_{\\rm b} [deg.] & \\mathcal{U}(40,90) & 86.75^{+0.38}_{-0.41} \\Planet radius,R_b [$\\Rearth$ ] & \\mathcal{U}(0,20) & 2.765^{+0.088}_{-0.097} \\Planet density,\\rho_{b} [g\\cdot cm^{-3}] & (derived) & 2.34^{+0.39}_{-0.34} \\Transit depth,\\Delta_{b} [ppt] & (derived) & 1.435^{+0.043}_{-0.043} \\Orbit semi-major axis,a_{b} [AU] & (derived) & 0.02636^{+0.00017}_{-0.00017} \\Relative orbital separation,a_{b}/R_{\\star} & (derived) & 8.47^{+0.21}_{-0.21} \\Transit duration,T_{\\rm 14,b} [hours] & (derived) & 1.519^{+0.018}_{-0.018} \\Planet surface gravity,g_{\\rm b} [m \\cdot s^{-2}] & (derived) & 11.6^{+1.6}_{-1.5} \\Impact parameter,b_{b}/R_{\\star} & (derived) & 0.480^{+0.044}_{-0.051} \\Incident Flux,F_{\\rm inc,b} [F_{{\\rm inc},\\oplus}] & (derived) & 188^{+26}_{-24} \\Equilibrium temperature,T_{\\rm eq,b} [K] & (derived) & 941^{+31}_{-31} \\$\\hl$ine$\n",
       "$\\multicolumn{3}{l}{\\it Planet c}  \\$\\hl$ine$\n",
       "$Orbital period, P_c [days] & \\mathcal{LU}(100,5000) & 1700^{+290}_{-280} \\Time of mid-transit,T_{\\rm 0,c}-2400000 [days] & \\mathcal{U}(57200,62900) & 60640^{+260}_{-260} \\Minimum mass,m_c\\sin{i_c} [$\\Mjup$ ] & \\mathcal{U}(0,30) & 11.3^{+1.1}_{-0.9} \\Orbital eccentricity,e_{\\rm c} & \\mathcal{U}(0,1) & 0.628^{+0.043}_{-0.036} \\Arg. periastron,\\omega_{\\rm c} [deg.] & \\mathcal{U}(0,360) & 208.5^{+7.8}_{-7.3} \\Orbit semi-major axis,a_{c} [AU] & (derived) & 2.52^{+0.27}_{-0.29} \\Relative orbital separation,a_{c}/R_{\\star} & (derived) & 806^{+91}_{-93} \\Incident Flux,F_{\\rm inc,c} [F_{{\\rm inc},\\oplus}] & (derived) & 0.0208^{+0.0065}_{-0.0046} \\Equilibrium temperature,T_{\\rm eq,c} [K] & (derived) & 96.4^{+6.8}_{-5.8} \\$\\hl$ine$\n",
       "$\\multicolumn{3}{l}{\\it Stellar parameters}  \\$\\hl$ine$\n",
       "$Stellar radius, R_{\\star} [R_{\\odot}] & \\mathcal{T}(0.671,0.015,0.1,1.2) & 0.669^{+0.015}_{-0.016} \\Stellar mass,M_{\\star} [M_{\\odot}] & \\mathcal{T}(0.734,0.014,0.1,1.2) & 0.735^{+0.014}_{-0.015} \\Stellar luminosity,L_{\\star} [L_{\\odot}] & (derived) & 0.368^{+0.018}_{-0.018} \\Limb-darkeningu_1, LCOHAL_gp & \\mathcal{T}(0.592,0.05,0,1) & 0.602^{+0.050}_{-0.048} \\Limb-darkeningu_2, LCOHAL_gp & \\mathcal{T}(0.141,0.05,0,1) & 0.142^{+0.049}_{-0.048} \\Limb-darkeningu_1, LCOHAL_ip & \\mathcal{T}(0.539,0.05,0,1) & 0.534^{+0.050}_{-0.049} \\Limb-darkeningu_2, LCOHAL_ip & \\mathcal{T}(0.155,0.05,0,1) & 0.150^{+0.051}_{-0.050} \\Limb-darkeningu_1, LCOHAL_rp & \\mathcal{T}(0.7,0.05,0,1) & 0.728^{+0.051}_{-0.049} \\Limb-darkeningu_2, LCOHAL_rp & \\mathcal{T}(0.078,0.05,0,1) & 0.102^{+0.047}_{-0.048} \\Limb-darkeningu_1, LCOHAL_zs & \\mathcal{T}(0.416,0.05,0,1) & 0.411^{+0.051}_{-0.050} \\Limb-darkeningu_2, LCOHAL_zs & \\mathcal{T}(0.195,0.05,0,1) & 0.189^{+0.048}_{-0.051} \\Limb-darkeningu_1, MEarth & \\mathcal{T}(0.416,0.1,0,1) & 0.465^{+0.094}_{-0.094} \\Limb-darkeningu_2, MEarth & \\mathcal{T}(0.195,0.1,0,1) & 0.217^{+0.095}_{-0.095} \\$\\hl$ine$\n",
       "$\\multicolumn{3}{l}{\\it Instrument-dependent parameters}  \\$\\hl$ine$\n",
       "$LC level TESS07 & \\mathcal{U}(-20,20) & -0.71^{+0.79}_{-0.74} \\LC level TESS34 &\\mathcal{U}(-20,20) & -0.12^{+0.77}_{-0.77} \\LC level LCOHAL_gp &\\mathcal{U}(-200,200) & 5.7^{+0.17}_{-0.18} \\LC level LCOHAL_ip &\\mathcal{U}(-200,200) & -0.47^{+0.21}_{-0.21} \\LC level LCOHAL_rp &\\mathcal{U}(-200,200) & 0.64^{+0.19}_{-0.20} \\LC level LCOHAL_zs &\\mathcal{U}(-200,200) & -1.25^{+0.20}_{-0.20} \\LC level MEarth &\\mathcal{U}(-200,200) & 5.42^{+0.18}_{-0.19} \\LC jitter TESS07[ppm] & \\mathcal{U}(0,4000) & 98^{+42}_{-29} \\LC jitter TESS34[ppm] & \\mathcal{U}(0,4000) & 81^{+51}_{-45} \\LC jitter LCOHAL_gp[ppm] & \\mathcal{U}(0,4000) & 871^{+40}_{-40} \\LC jitter LCOHAL_ip[ppm] & \\mathcal{U}(0,4000) & 1575^{+42}_{-42} \\LC jitter LCOHAL_rp[ppm] & \\mathcal{U}(0,4000) & 1643^{+38}_{-37} \\LC jitter LCOHAL_zs[ppm] & \\mathcal{U}(0,4000) & 1177^{+52}_{-52} \\LC jitter MEarth[ppm] & \\mathcal{U}(0,4000) & 877^{+38}_{-39} \\\\delta_{\\rm HARPS} [km/s] & \\mathcal{U}(-10,10) & -5.478^{+0.025}_{-0.025} \\\\delta_{\\rm CORALIE} [km/s] & \\mathcal{U}(-10,10) & -5.537^{+0.021}_{-0.020} \\\\delta_{\\rm PFS} [km/s] & \\mathcal{U}(-10,10) & 0.178^{+0.025}_{-0.025} \\\\sigma_{\\rm HARPS} [m/s] & \\mathcal{LU}(0.1,2) & 1.51^{+0.74}_{-0.37} \\\\sigma_{\\rm CORALIE} [m/s] & \\mathcal{LU}(0.1,30) & 9.9^{+6.4}_{-7.8} \\\\sigma_{\\rm PFS} [m/s] & \\mathcal{LU}(0.1,5) & 4.0^{+1.2}_{-0.7} \\$\\hl$ine$\n",
       "$\\multicolumn{3}{l}{\\it RV and LC Gaussian process hyper-parameters}  \\$\\hl$ine$\n",
       "$\\eta_{\\rm 1,LC} [ppm] & \\mathcal{LU}(10000) & 2440^{+780}_{-220} \\\\eta_{\\rm 1,FWHM} [m/s] & \\mathcal{LU}(0.01,400) & 23.2^{+4.2}_{-5.2} \\\\eta_1 [m/s] & \\mathcal{LU}(0.01,50) & 11.6^{+1.6}_{-2.0} \\\\eta_2 [days] & \\mathcal{U}(-8.0,10) & -0.71^{+0.19}_{-0.22} \\\\eta_3 [days] & \\mathcal{G}(24,1) & 24.6^{+1.35}_{-0.87} \\\\eta_4 & \\mathcal{U}(0.13,7.38) & 1.59^{+0.87}_{-1.22} \\\\end{longtable}$\n",
       "$\\end{document}\\end{equation}}$\n",
       "$\\newcommand{$\\ee$}{\\end{equation}}$\n",
       "$\\newcommand$\n",
       "$\\newcommand$\n",
       "$\\newcommand$\n",
       "$\\newcommand$\n",
       "$\\newcommand{$\\toi$}{TOI-969}$\n",
       "$\\newcommand{$\\toi$b}{TOI-969 b}$\n",
       "$\\newcommand{$\\toi$c}{TOI-969 c}$\n",
       "$\\newcommand{$\\jlillo$}[1]{\\textcolor{brown}{#1}}$\n",
       "$\\newcommand{$\\request$}[1]{\\textcolor{red}{#1}}$\n",
       "$\\newcommand{$\\kms$}{km s^{-1}}$\n",
       "$\\newcommand{$\\ms$}{\\hbox{m s^{-1}}}$\n",
       "$\\newcommand{$\\ms$d}{\\hbox{m s^{-1}.d^{-1}}}$\n",
       "$\\newcommand{$\\cms$}{\\hbox{cm\\;s^{-1}}}$\n",
       "$\\newcommand{$\\cms$s}{\\hbox{cm s^{-2}}}$\n",
       "$\\newcommand{$\\gcm$3}{\\hbox{g cm^{-3}}}$\n",
       "$\\newcommand{$\\vsini$}{\\hbox{\\upsilon \\sin i_{\\star}}}$\n",
       "$\\newcommand{$\\sini$}{\\hbox{sin i}}$\n",
       "$\\newcommand{$\\Msun$}{\\hbox{\\mathrm{M}_{\\astrosun}}}$\n",
       "$\\newcommand{$\\Rsun$}{\\hbox{\\mathrm{R}_{\\astrosun}}}$\n",
       "$\\newcommand{$\\Mjup$}{\\hbox{\\mathrm{M}_{\\rm Jup}}}$\n",
       "$\\newcommand{$\\Rjup$}{\\hbox{\\mathrm{R}_{\\rm Jup}}}$\n",
       "$\\newcommand{$\\Mearth$}{\\hbox{\\mathrm{M}_{\\oplus}}}$\n",
       "$\\newcommand{$\\Rearth$}{\\hbox{\\mathrm{R}_{\\oplus}}}$\n",
       "$\\newcommand{$\\degr$}{\\hbox{^\\circ}}$\n",
       "$\\newcommand{$\\teff$}{T_{\\rm eff}}$\n",
       "$\\newcommand{$\\logg$}{log~{\\it g}}$\n",
       "$\\newcommand{$\\met$}{[Fe/H]}$\n",
       "$\\newcommand{$\\vmicro$}{\\upsilon_\\mathrm{micro}}$\n",
       "$\\newcommand{$\\vmacro$}{\\upsilon_\\mathrm{macro}}$\n",
       "$\\newcommand{$\\figw$}{\\columnwidth}$</div>\n",
       "\n",
       "\n",
       "\n",
       "<div id=\"title\">\n",
       "\n",
       "# Based on Guaranteed Time Observations collected at the European Southern Observatory (ESO) under ESO programs 1102.C-0249 (PI: Armstrong), 106.21TJ.001 (PI: Gandolfi). This paper includes data gathered with the 6.5 meter Magellan Telescopes located at Las Campanas Observatory, Chile. The full dataset is accessible from CDS through the following link XXX.\n",
       "\n",
       "</div>\n",
       "<div id=\"comments\">\n",
       "\n",
       "[![arXiv](https://img.shields.io/badge/arXiv-2210.08996-b31b1b.svg)](https://arxiv.org/abs/2210.08996)<mark>Appeared on: 2022-10-18</mark> - _Accepted for publication in A&A. 25 pages, 15 figures, 12 tables_\n",
       "\n",
       "</div>\n",
       "<div id=\"authors\">\n",
       "\n",
       "<mark><mark>J. Lillo-Box</mark></mark>, et al. -- incl., <mark><mark>C. Hellier</mark></mark>, <mark><mark>S. Hoyer</mark></mark>, <mark><mark>L. Kreidberg</mark></mark>, <mark><mark>R. P. Schwarz</mark></mark>\n",
       "\n",
       "</div>\n",
       "<div id=\"abstract\">\n",
       "\n",
       "**Abstract:** The current architecture of a given multi-planetary system is a key fingerprint of its past formation and dynamical evolution history. Long-term follow-up observations are key to complete their picture.In this paper we focus on the confirmation and characterization of the components of the$\\toi$planetary system, where TESS detected a Neptune-size planet candidate in a very close-in orbit around a late K-dwarf star.We use a set of precise radial velocity observations from HARPS, PFS and CORALIE instruments covering more than two years in combination with the TESS photometric light curve and other ground-based follow-up observations to confirm and characterize the components of this planetary system.We find that$\\toi$bis a transiting close-in ($P_b\\sim 1.82$days) mini-Neptune planet ($m_b=9.1^{+1.1}_{-1.0}$\\Mearth,$R_b=2.765^{+0.088}_{-0.097}$\\Rearth), thus placing it on the{lower boundary}of the hot-Neptune desert ($T_{\\rm eq,b}=941\\pm31$K). The analysis of its internal structure shows that$\\toi$bis a volatile-rich planet, suggesting it underwent an inward migration. The radial velocity model also favors the presence of a second massive body in the system,$\\toi$c, with a long period of$P_c=1700^{+290}_{-280}$days and a minimum mass of$m_{c}\\sin{i_c}=11.3^{+1.1}_{-0.9}$\\Mjup, and with a highly-eccentric orbit of$e_c=0.628^{+0.043}_{-0.036}$.The$\\toi$planetary system is one of the few around K-dwarfs known to have this extended configuration going from a very close-in planet to a wide-separation gaseous giant.$\\toi$bhas a transmission spectroscopy metric of 93, and it orbits a moderately bright ($G=11.3$mag) star, thus becoming an excellent target for atmospheric studies. The architecture of this planetary system can also provide valuable information about migration and formation of planetary systems.\n",
       "\n",
       "</div>\n",
       "\n",
       "<div id=\"div_fig1\">\n",
       "\n",
       "<img src=\"tmp_2210.08996/./TOI969_activity_periodogram_freq.png\" alt=\"Fig3\" width=\"100%\"/>\n",
       "\n",
       "**Figure 3. -** Periodogram of the radial velocity and activity indicators time series of the HARPS dataset. Panel (a) corresponds to the original RV time series, while panel (b) corresponds to the time series after a simple linear detrending. In panel (c) we include an additional linear detrending corresponding to the activity indicator most correlated with the RVs (in this case the BIS-span). Panels (d)-(e) include the periodogram of the full-width at half maximum (FWHM) of the cross-correlation function and the bisector span, respectively. Finally, in the bottom panel, we show the window function corresponding to the HARPS sampling. The periodicity corresponding to $\\toi$b  and $\\toi$c  are shown as vertical dotted lines in all panels. The stellar rotation period and its first two harmonics are shown as dashed vertical lines.  (*fig:RVperiodogram*)\n",
       "\n",
       "</div>\n",
       "<div id=\"div_fig2\">\n",
       "\n",
       "<img src=\"tmp_2210.08996/./TPF_Gaia_TIC280437559_S7.png\" alt=\"Fig1.1\" width=\"50%\"/><img src=\"tmp_2210.08996/./TPF_Gaia_TIC280437559_S34.png\" alt=\"Fig1.2\" width=\"50%\"/>\n",
       "\n",
       "**Figure 1. -** Target Pixel File (TPF) corresponding to $\\toi$  observations by the TESS mission in sectors 7 (upper panel) and 34 (lower panel). In both panels, the sources from the Gaia catalog DR3 are shown as red circles, with their size corresponding to the magnitude contrast against $\\toi$(marked with the label \"1\" and a white cross). The aperture used by the TESS-SPOC pipeline is shown as a shaded red region on each panel. The figures are computed using the \\texttt{tpfplotter} algorithm by \\cite{aller20}.  (*fig:TPF*)\n",
       "\n",
       "</div>\n",
       "<div id=\"div_fig3\">\n",
       "\n",
       "<img src=\"tmp_2210.08996/./TOI-969b_TTVs.png\" alt=\"Fig5\" width=\"100%\"/>\n",
       "\n",
       "**Figure 5. -** Observed$-$Calculated diagram of the transit times of $\\toi$b . LCOGT transit corresponds to transit number \\#400. The gray regions represent the 1$\\sigma$ uncertainties of the ephemeris reported in Table \\ref{tab:joint}. (*fig:TTVs*)\n",
       "\n",
       "</div>"
      ],
      "text/plain": [
       "<IPython.core.display.Markdown object>"
      ]
     },
     "metadata": {},
     "output_type": "display_data"
    }
   ],
   "source": [
    "[display(Markdown(k[1])) for k in documents];"
   ]
  },
  {
   "cell_type": "markdown",
   "id": "873873a4",
   "metadata": {
    "papermill": {
     "duration": 0.016807,
     "end_time": "2022-10-18T05:26:15.576020",
     "exception": false,
     "start_time": "2022-10-18T05:26:15.559213",
     "status": "completed"
    },
    "tags": []
   },
   "source": [
    "# Create HTML index"
   ]
  },
  {
   "cell_type": "code",
   "execution_count": 10,
   "id": "cf665672",
   "metadata": {
    "execution": {
     "iopub.execute_input": "2022-10-18T05:26:15.647071Z",
     "iopub.status.busy": "2022-10-18T05:26:15.646298Z",
     "iopub.status.idle": "2022-10-18T05:26:15.656072Z",
     "shell.execute_reply": "2022-10-18T05:26:15.655334Z"
    },
    "papermill": {
     "duration": 0.064411,
     "end_time": "2022-10-18T05:26:15.657510",
     "exception": false,
     "start_time": "2022-10-18T05:26:15.593099",
     "status": "completed"
    },
    "tags": []
   },
   "outputs": [
    {
     "name": "stdout",
     "output_type": "stream",
     "text": [
      "67  publications in the last 7 days.\n",
      "\t _build/html/2210.08996.md\n",
      "\t _build/html/2210.08517.md\n",
      "\t _build/html/2210.08510.md\n",
      "\t _build/html/2210.08078.md\n",
      "\t _build/html/2210.06504.md\n",
      "\t _build/html/2210.05695.md\n",
      "\t _build/html/2210.05595.md\n",
      "\t _build/html/2210.05505.md\n",
      "\t _build/html/2210.04721.md\n",
      "\t _build/html/2210.03615.md\n",
      "\t _build/html/2210.01811.md\n",
      "\t _build/html/2210.01809.md\n",
      "\t _build/html/2210.01556.md\n",
      "\t _build/html/2210.00863.md\n",
      "\t _build/html/2210.00560.md\n",
      "\t _build/html/2209.15403.md\n",
      "\t _build/html/2209.15110.md\n",
      "\t _build/html/2209.14410.md\n",
      "\t _build/html/2209.14396.md\n",
      "\t _build/html/2209.13717.md\n",
      "\t _build/html/2209.13336.md\n",
      "\t _build/html/2209.12906.md\n",
      "\t _build/html/2209.11781.md\n",
      "\t _build/html/2209.11602.md\n",
      "\t _build/html/2209.11248.md\n",
      "\t _build/html/2209.11096.md\n",
      "\t _build/html/2209.10618.md\n",
      "\t _build/html/2209.09914.md\n",
      "\t _build/html/2209.09823.md\n",
      "\t _build/html/2209.08242.md\n",
      "\t _build/html/2209.08120.md\n",
      "\t _build/html/2209.08106.md\n",
      "\t _build/html/2209.07962.md\n",
      "\t _build/html/2209.07931.md\n",
      "\t _build/html/2209.06833.md\n",
      "\t _build/html/2209.05814.md\n",
      "\t _build/html/2209.05593.md\n",
      "\t _build/html/2209.04304.md\n",
      "\t _build/html/2209.03367.md\n",
      "\t _build/html/2209.02872.md\n",
      "\t _build/html/2209.02725.md\n",
      "\t _build/html/2209.02722.md\n",
      "\t _build/html/2209.02092.md\n",
      "\t _build/html/2209.01125.md\n",
      "\t _build/html/2209.00828.md\n",
      "\t _build/html/2209.00363.md\n",
      "\t _build/html/2208.14927.md\n",
      "\t _build/html/2208.09335.md\n",
      "\t _build/html/2208.08872.md\n",
      "\t _build/html/2204.06393.md\n",
      "\t _build/html/2204.03335.md\n",
      "\t _build/html/2204.03253.md\n",
      "\t _build/html/2204.02998.md\n",
      "\t _build/html/2204.02109.md\n",
      "\t _build/html/2204.02017.md\n",
      "\t _build/html/2204.01824.md\n",
      "\t _build/html/2204.01758.md\n",
      "\t _build/html/2204.01245.md\n",
      "\t _build/html/2204.00793.md\n",
      "\t _build/html/2204.00342.md\n",
      "\t _build/html/2203.16959.md\n",
      "\t _build/html/2203.16856.md\n",
      "\t _build/html/2203.16735.md\n",
      "\t _build/html/2203.16734.md\n",
      "\t _build/html/2203.16504.md\n",
      "\t _build/html/2203.15822.md\n",
      "\t _build/html/2203.15811.md\n"
     ]
    }
   ],
   "source": [
    "from datetime import datetime, timedelta, timezone\n",
    "from glob import glob\n",
    "\n",
    "files = glob('_build/html/*.md')\n",
    "days = 7\n",
    "now = datetime.today()\n",
    "res = []\n",
    "for fk in files:\n",
    "    stat_result = os.stat(fk).st_ctime\n",
    "    modified = datetime.fromtimestamp(stat_result, tz=timezone.utc).replace(tzinfo=None)\n",
    "    delta = now.today() - modified\n",
    "    if delta <= timedelta(days=days):\n",
    "        res.append((delta.seconds, fk))\n",
    "res = [k[1] for k in reversed(sorted(res, key=lambda x:x[1]))]\n",
    "npub = len(res)\n",
    "print(len(res), f\" publications in the last {days:d} days.\")\n",
    "[ print('\\t', k) for k in res ];"
   ]
  },
  {
   "cell_type": "code",
   "execution_count": 11,
   "id": "52ca0208",
   "metadata": {
    "execution": {
     "iopub.execute_input": "2022-10-18T05:26:15.689580Z",
     "iopub.status.busy": "2022-10-18T05:26:15.689055Z",
     "iopub.status.idle": "2022-10-18T05:26:15.698716Z",
     "shell.execute_reply": "2022-10-18T05:26:15.697411Z"
    },
    "papermill": {
     "duration": 0.027423,
     "end_time": "2022-10-18T05:26:15.700180",
     "exception": false,
     "start_time": "2022-10-18T05:26:15.672757",
     "status": "completed"
    },
    "scrolled": false,
    "tags": []
   },
   "outputs": [],
   "source": [
    "def create_carousel(npub=4):\n",
    "    \"\"\" Generate the HTML code for a carousel with `npub` slides \"\"\"\n",
    "    carousel = [\"\"\"<section class=\"carousel\" aria-label=\"Gallery\">\"\"\",\n",
    "                \"\"\"  <ol class=\"carousel__viewport\">\"\"\",\n",
    "    ]\n",
    "    for k in range(1, npub + 1):\n",
    "        prev_ = k - 1\n",
    "        next_ = k + 1\n",
    "        if prev_ <= 0:\n",
    "            prev_ = npub\n",
    "        if next_ > npub:\n",
    "            next_ = 1\n",
    "        text  = f\"\"\"    <li id=\"carousel__slide{k}\" tabindex=\"0\" class=\"carousel__slide\">\\n\"\"\"\n",
    "        text += f\"\"\"       <div class=\"carousel__snapper\">\\n\"\"\"\n",
    "        text += f\"\"\"         <a href=\"#carousel__slide{prev_}\" class=\"carousel__prev\">Go to previous slide</a>\\n\"\"\"\n",
    "        text += f\"\"\"         <a href=\"#carousel__slide{next_}\" class=\"carousel__next\">Go to next slide</a>\\n\"\"\"\n",
    "        text += f\"\"\"         <div id=\"slide{k}_content\" class=\"md_view\" >Content {k}</div>\\n\"\"\"\n",
    "        text += f\"\"\"       </div>\\n\"\"\"\n",
    "        text += f\"\"\"    </li>\"\"\"\n",
    "        carousel.append(text)\n",
    "\n",
    "    carousel.extend([\n",
    "        \"\"\"  </ol>\"\"\",\n",
    "        \"\"\"  <aside class=\"carousel__navigation\">\"\"\",\n",
    "        \"\"\"    <ol class=\"carousel__navigation-list\">\"\"\"])\n",
    "\n",
    "    for k in range(1, npub + 1):\n",
    "        text  = f\"\"\"      <li class=\"carousel__navigation-item\">\\n\"\"\"\n",
    "        text += f\"\"\"        <a href=\"#carousel__slide{k}\" class=\"carousel__navigation-button\">Go to {k}</a>\\n\"\"\"\n",
    "        text += f\"\"\"      </li>\"\"\"\n",
    "        carousel.append(text)\n",
    "    carousel.extend([\"\"\"    </ol>\"\"\", \"\"\"  </aside>\"\"\", \"\"\"</section>\"\"\"])\n",
    "\n",
    "    return '\\n'.join(carousel)"
   ]
  },
  {
   "cell_type": "code",
   "execution_count": 12,
   "id": "a6eac5b6",
   "metadata": {
    "execution": {
     "iopub.execute_input": "2022-10-18T05:26:15.732219Z",
     "iopub.status.busy": "2022-10-18T05:26:15.731912Z",
     "iopub.status.idle": "2022-10-18T05:26:15.738272Z",
     "shell.execute_reply": "2022-10-18T05:26:15.737687Z"
    },
    "papermill": {
     "duration": 0.027747,
     "end_time": "2022-10-18T05:26:15.743201",
     "exception": false,
     "start_time": "2022-10-18T05:26:15.715454",
     "status": "completed"
    },
    "scrolled": false,
    "tags": []
   },
   "outputs": [],
   "source": [
    "carousel = create_carousel(npub)\n",
    "docs = ', '.join(['\"{0:s}\"'.format(k.split('/')[-1]) for k in res])\n",
    "slides = ', '.join([f'\"slide{k}_content\"' for k in range(1, npub + 1)])\n",
    "\n",
    "script = f\"\"\"\n",
    "const docs = [{docs}]\n",
    "\n",
    "const slides = [{slides}]\n",
    "\"\"\" + \"\"\"\n",
    "async function run() {\n",
    "    for (let i = 0; i < docs.length; i++) {\n",
    "        let file = await fetch(docs[i]);\n",
    "        let text = await file.text()\n",
    "        document.getElementById(slides[i]).innerHTML =\n",
    "            marked.parse(text);\n",
    "    }\n",
    "    hljs.highlightAll();\n",
    "}\n",
    "run()\n",
    "\"\"\"\n",
    "\n",
    "page = f\"\"\"<!doctype html>\n",
    "<html lang=\"en\">\n",
    "\n",
    "<head>\n",
    "  <meta charset=\"utf-8\">\n",
    "  <meta name=\"viewport\" content=\"width=device-width, initial-scale=1\">\n",
    "  <!-- Bootstrap CSS -->\n",
    "  <link href=\"https://cdn.jsdelivr.net/npm/bootstrap@5.0.2/dist/css/bootstrap.min.css\" rel=\"stylesheet\"\n",
    "   integrity=\"sha384-EVSTQN3/azprG1Anm3QDgpJLIm9Nao0Yz1ztcQTwFspd3yD65VohhpuuCOmLASjC\" crossorigin=\"anonymous\">\n",
    "  <!-- highlight.js CSS -->\n",
    "  <link rel=\"stylesheet\" href=\"https://cdnjs.cloudflare.com/ajax/libs/highlight.js/11.1.0/styles/default.min.css\">\n",
    "  <!-- Mathjax 3 -->\n",
    "  <script type=\"text/javascript\" id=\"MathJax-config\" src=\"mathjax_config.js\"> </script>\n",
    "  <script type=\"text/javascript\" id=\"MathJax-script\" async \n",
    "    src=\"https://cdn.jsdelivr.net/npm/mathjax@3/es5/tex-mml-chtml.js\">\n",
    "  </script>\n",
    "  <link rel=\"stylesheet\" href=\"index_carousel.css\">\n",
    "  <link rel=\"icon\" type=\"image/x-icon\" href=\"https://www.mpia.de/assets/touch-icon-32x32-a66937bcebc4e8894ebff1f41a366c7c7220fd97a38869ee0f2db65a9f59b6c1.png\">\n",
    "  <title>MPIA Arxiv on deck!</title>\n",
    "</head>\n",
    "\n",
    "<body>\n",
    "  <div id=\"header\"> <img src=\"header_banner.png\" width=\"100%\"></div>\n",
    "  <div id=\"suptitle\"> 7-day archives </div>\n",
    "  <div id=\"info\">\n",
    "    <img src=\"https://pngimg.com/uploads/github/github_PNG58.png\" height=30rem></img>\n",
    "    <a href=https://github.com/mpi-astronomy/arxiv_display style=\"color:black;\">github/mpi-astronomy/arxiv_display</a> \n",
    "  </div>\n",
    "  {carousel:s}\n",
    "</body>\n",
    "\n",
    "<!-- Render Markdown -->\n",
    "\n",
    "<body>\n",
    "  <!-- highlight.js: https://highlightjs.org/download/ -->\n",
    "  <script src=\"https://cdnjs.cloudflare.com/ajax/libs/highlight.js/11.5.0/highlight.min.js\"></script>\n",
    "  <!-- marked.js -->\n",
    "  <script src=\"https://cdn.jsdelivr.net/npm/marked/marked.min.js\"></script>\n",
    "  <script>{script:s}</script>\n",
    "</body>\n",
    "</html>\n",
    "\"\"\"\n",
    "with open(\"_build/html/index_7days.html\", 'w') as fout:\n",
    "    fout.write(page)"
   ]
  },
  {
   "cell_type": "markdown",
   "id": "1cebacbc",
   "metadata": {
    "papermill": {
     "duration": 0.01505,
     "end_time": "2022-10-18T05:26:15.773582",
     "exception": false,
     "start_time": "2022-10-18T05:26:15.758532",
     "status": "completed"
    },
    "tags": []
   },
   "source": [
    "# Debugging papers"
   ]
  },
  {
   "cell_type": "raw",
   "id": "debe7cc6",
   "metadata": {
    "papermill": {
     "duration": 0.014961,
     "end_time": "2022-10-18T05:26:15.803522",
     "exception": false,
     "start_time": "2022-10-18T05:26:15.788561",
     "status": "completed"
    },
    "tags": []
   },
   "source": [
    "raise NotImplementedError(\"Manual Stop\")"
   ]
  },
  {
   "cell_type": "raw",
   "id": "eb169192",
   "metadata": {
    "papermill": {
     "duration": 0.015261,
     "end_time": "2022-10-18T05:26:15.833726",
     "exception": false,
     "start_time": "2022-10-18T05:26:15.818465",
     "status": "completed"
    },
    "scrolled": true,
    "tags": []
   },
   "source": [
    "from IPython.display import display, Markdown\n",
    "from TexSoup import TexSoup\n",
    "import re\n",
    "\n",
    "def bracket_error(source: str):\n",
    "    \"\"\" Find problematic portions of the document \"\"\"\n",
    "    \n",
    "    print(\"len(source)\", len(source))\n",
    "    \n",
    "    # Checking header\n",
    "    begin_doc = next(re.finditer(r'\\\\begin\\{document\\}', doc.source)).span()[1]\n",
    "    header = source[:begin_doc]\n",
    "    text = header + r\"\\n\\end{document}\"\n",
    "\n",
    "    try:\n",
    "        # print(\"Header check... \", end='')\n",
    "        TexSoup(text)\n",
    "        display(Markdown(f\"**[OK]** - Header\"))\n",
    "    except:\n",
    "        raise RuntimeError(\"Error in the header\")\n",
    "        \n",
    "    # Check the text per section until the end.\n",
    "    # Do not stop and try them all.\n",
    "    \n",
    "    problematic_text = []\n",
    "    \n",
    "    sections = ([(0, begin_doc, 'until first section')] + \n",
    "                [(g.span()[0], g.span()[1], g.group()) for g in re.finditer(r'\\\\section\\{.*\\}', source)] +\n",
    "                [(g.span()[0], g.span()[1], g.group()) for g in re.finditer(r'\\\\begin\\{appendix\\}', source)]\n",
    "               )\n",
    "    sections.append([len(source), len(source), 'end'])\n",
    "    \n",
    "    sections = sorted(sections, key=lambda x: x[0])\n",
    "    \n",
    "    prev_pos, prev_name = (0, 'header')\n",
    "    parsed = []\n",
    "    \n",
    "    for span, span_end, name in sections:\n",
    "\n",
    "        if span - prev_pos <= 0:\n",
    "            continue\n",
    "            \n",
    "\n",
    "        text = source[prev_pos:span]\n",
    "        if prev_pos > begin_doc:\n",
    "            text = r\"\\n\\begin{document}\" + text + r\"\\n\\end{document}\"\n",
    "        else:\n",
    "            text = text + r\"\\n\\end{document}\"\n",
    "        try:\n",
    "            #print(f\"{prev_pos}:{prev_name}-->{span}:{name} check... \", end='')\n",
    "            parsed.append(TexSoup(text, tolerance=1))  # allow not ending env\n",
    "            display(Markdown(f\"**[OK]** - *{prev_pos}*:{prev_name} &rarr; *{span}*:{name}\"))\n",
    "            # print(\"ok\")\n",
    "\n",
    "            prev_pos = span\n",
    "            prev_name = name\n",
    "        except:\n",
    "            # print(f\"error between {prev_pos} and {span}\")\n",
    "            display(Markdown(f\"**[ERR]** *{prev_pos}*:{prev_name} &rarr; *{span}*:{name}\"))\n",
    "            problematic_text.append((prev_pos, source[prev_pos:span]))\n",
    "            prev_pos = span\n",
    "            prev_name = name\n",
    "            # raise\n",
    "    return problematic_text, parsed\n",
    "\n",
    "\n",
    "def check_environment(text, offset=0):\n",
    "    \"\"\" Check environment \"\"\"\n",
    "    env = re.compile(r\"\\\\begin\\{(?P<env>.*)\\}(.*)\\\\end\\{(?P=env)\\}\", re.DOTALL)\n",
    "\n",
    "    for match in env.finditer(text):\n",
    "        beg, end = match.span()\n",
    "        beg += offset\n",
    "        end += offset\n",
    "        envname = match.groups()[0]\n",
    "        try:\n",
    "            latex.TexSoup(match.group())\n",
    "        except Exception as e:\n",
    "            display(e)\n",
    "            print(f\"Error in {envname:s} between {beg} and {end}\")\n",
    "            return match.groups()[1], beg, end"
   ]
  },
  {
   "cell_type": "raw",
   "id": "2315e835",
   "metadata": {
    "papermill": {
     "duration": 0.015525,
     "end_time": "2022-10-18T05:26:15.864347",
     "exception": false,
     "start_time": "2022-10-18T05:26:15.848822",
     "status": "completed"
    },
    "scrolled": false,
    "tags": []
   },
   "source": [
    "import importlib\n",
    "importlib.reload(latex)\n",
    "which = \"2204.03253\"\n",
    "paper_id = f'{which:s}'\n",
    "folder = f'tmp_{paper_id:s}'\n",
    "\n",
    "if not os.path.isdir(folder):\n",
    "    folder = retrieve_document_source(f\"{paper_id}\", f'tmp_{paper_id}')\n",
    "\n",
    "try:\n",
    "    doc = latex.LatexDocument(folder, validation=validation)    \n",
    "except AffiliationError as affilerror:\n",
    "    msg = f\"ArXiv:{paper_id:s} is not an MPIA paper... \" + str(affilerror)\n",
    "    print(msg)\n",
    "\n",
    "\n",
    "# Hack because sometimes author parsing does not work well\n",
    "if (len(doc.authors) != len(paper['authors'])):\n",
    "    doc._authors = paper['authors']\n",
    "if (doc.abstract) in (None, ''):\n",
    "    doc._abstract = paper['abstract']\n",
    "\n",
    "doc.comment = get_markdown_badge(paper_id) + \" _\" + paper['comments'] + \"_\"\n",
    "doc.highlight_authors_in_list(hl_list)\n",
    "\n",
    "full_md = doc.generate_markdown_text()"
   ]
  },
  {
   "cell_type": "raw",
   "id": "dd3781db",
   "metadata": {
    "papermill": {
     "duration": 0.015261,
     "end_time": "2022-10-18T05:26:15.894799",
     "exception": false,
     "start_time": "2022-10-18T05:26:15.879538",
     "status": "completed"
    },
    "scrolled": false,
    "tags": []
   },
   "source": [
    "doc"
   ]
  },
  {
   "cell_type": "raw",
   "id": "c6eed834",
   "metadata": {
    "papermill": {
     "duration": 0.015124,
     "end_time": "2022-10-18T05:26:15.924956",
     "exception": false,
     "start_time": "2022-10-18T05:26:15.909832",
     "status": "completed"
    },
    "tags": []
   },
   "source": [
    "# [check_environment(k) for k in bracket_error(doc.source)]\n",
    "_, _, a = latex.get_content_per_section(doc.source, verbose=True)\n",
    "if not a:\n",
    "    print(\"no issues per section\")\n",
    "for ak in a:\n",
    "    r = check_environment(ak[1], offset=ak[0])\n",
    "    print(r[1], r[2])\n",
    "    print(r[0])"
   ]
  },
  {
   "cell_type": "code",
   "execution_count": null,
   "id": "71ce768a",
   "metadata": {
    "papermill": {
     "duration": 0.015166,
     "end_time": "2022-10-18T05:26:15.955358",
     "exception": false,
     "start_time": "2022-10-18T05:26:15.940192",
     "status": "completed"
    },
    "tags": []
   },
   "outputs": [],
   "source": []
  }
 ],
 "metadata": {
  "kernelspec": {
   "display_name": "Python 3.10.6 64-bit",
   "language": "python",
   "name": "python3"
  },
  "language_info": {
   "codemirror_mode": {
    "name": "ipython",
    "version": 3
   },
   "file_extension": ".py",
   "mimetype": "text/x-python",
   "name": "python",
   "nbconvert_exporter": "python",
   "pygments_lexer": "ipython3",
   "version": "3.9.14"
  },
  "papermill": {
   "default_parameters": {},
   "duration": 375.518566,
   "end_time": "2022-10-18T05:26:16.289360",
   "environment_variables": {},
   "exception": null,
   "input_path": "MPIA daily digest.ipynb",
   "output_path": "log.ipynb",
   "parameters": {},
   "start_time": "2022-10-18T05:20:00.770794",
   "version": "2.4.0"
  },
  "vscode": {
   "interpreter": {
    "hash": "e7370f93d1d0cde622a1f8e1c04877d8463912d04d973331ad4851f04de6915a"
   }
  },
  "widgets": {
   "application/vnd.jupyter.widget-state+json": {
    "state": {
     "00c49a7338694e468270493015b00b5e": {
      "model_module": "@jupyter-widgets/controls",
      "model_module_version": "2.0.0",
      "model_name": "HBoxModel",
      "state": {
       "_dom_classes": [],
       "_model_module": "@jupyter-widgets/controls",
       "_model_module_version": "2.0.0",
       "_model_name": "HBoxModel",
       "_view_count": null,
       "_view_module": "@jupyter-widgets/controls",
       "_view_module_version": "2.0.0",
       "_view_name": "HBoxView",
       "box_style": "",
       "children": [
        "IPY_MODEL_b15225379af1498c837edc248b11871c",
        "IPY_MODEL_9d28ec9097f945919bafe3948973cf62",
        "IPY_MODEL_82da15eb2b4646fca33e0943f05a7a93"
       ],
       "layout": "IPY_MODEL_96fc4410522e4442a8c43fb95a18590e",
       "tabbable": null,
       "tooltip": null
      }
     },
     "47c9e40e12e641489115dcc547f0c702": {
      "model_module": "@jupyter-widgets/controls",
      "model_module_version": "2.0.0",
      "model_name": "HTMLStyleModel",
      "state": {
       "_model_module": "@jupyter-widgets/controls",
       "_model_module_version": "2.0.0",
       "_model_name": "HTMLStyleModel",
       "_view_count": null,
       "_view_module": "@jupyter-widgets/base",
       "_view_module_version": "2.0.0",
       "_view_name": "StyleView",
       "background": null,
       "description_width": "",
       "font_size": null,
       "text_color": null
      }
     },
     "5a5c42388d044c63b87698ebb46f682f": {
      "model_module": "@jupyter-widgets/base",
      "model_module_version": "2.0.0",
      "model_name": "LayoutModel",
      "state": {
       "_model_module": "@jupyter-widgets/base",
       "_model_module_version": "2.0.0",
       "_model_name": "LayoutModel",
       "_view_count": null,
       "_view_module": "@jupyter-widgets/base",
       "_view_module_version": "2.0.0",
       "_view_name": "LayoutView",
       "align_content": null,
       "align_items": null,
       "align_self": null,
       "border_bottom": null,
       "border_left": null,
       "border_right": null,
       "border_top": null,
       "bottom": null,
       "display": null,
       "flex": null,
       "flex_flow": null,
       "grid_area": null,
       "grid_auto_columns": null,
       "grid_auto_flow": null,
       "grid_auto_rows": null,
       "grid_column": null,
       "grid_gap": null,
       "grid_row": null,
       "grid_template_areas": null,
       "grid_template_columns": null,
       "grid_template_rows": null,
       "height": null,
       "justify_content": null,
       "justify_items": null,
       "left": null,
       "margin": null,
       "max_height": null,
       "max_width": null,
       "min_height": null,
       "min_width": null,
       "object_fit": null,
       "object_position": null,
       "order": null,
       "overflow": null,
       "padding": null,
       "right": null,
       "top": null,
       "visibility": null,
       "width": null
      }
     },
     "68346e4cb98241e2a733107ddcc10567": {
      "model_module": "@jupyter-widgets/controls",
      "model_module_version": "2.0.0",
      "model_name": "ProgressStyleModel",
      "state": {
       "_model_module": "@jupyter-widgets/controls",
       "_model_module_version": "2.0.0",
       "_model_name": "ProgressStyleModel",
       "_view_count": null,
       "_view_module": "@jupyter-widgets/base",
       "_view_module_version": "2.0.0",
       "_view_name": "StyleView",
       "bar_color": null,
       "description_width": ""
      }
     },
     "6fa698f838524eb79b877912221334d0": {
      "model_module": "@jupyter-widgets/controls",
      "model_module_version": "2.0.0",
      "model_name": "HTMLStyleModel",
      "state": {
       "_model_module": "@jupyter-widgets/controls",
       "_model_module_version": "2.0.0",
       "_model_name": "HTMLStyleModel",
       "_view_count": null,
       "_view_module": "@jupyter-widgets/base",
       "_view_module_version": "2.0.0",
       "_view_name": "StyleView",
       "background": null,
       "description_width": "",
       "font_size": null,
       "text_color": null
      }
     },
     "82da15eb2b4646fca33e0943f05a7a93": {
      "model_module": "@jupyter-widgets/controls",
      "model_module_version": "2.0.0",
      "model_name": "HTMLModel",
      "state": {
       "_dom_classes": [],
       "_model_module": "@jupyter-widgets/controls",
       "_model_module_version": "2.0.0",
       "_model_name": "HTMLModel",
       "_view_count": null,
       "_view_module": "@jupyter-widgets/controls",
       "_view_module_version": "2.0.0",
       "_view_name": "HTMLView",
       "description": "",
       "description_allow_html": false,
       "layout": "IPY_MODEL_5a5c42388d044c63b87698ebb46f682f",
       "placeholder": "​",
       "style": "IPY_MODEL_6fa698f838524eb79b877912221334d0",
       "tabbable": null,
       "tooltip": null,
       "value": " 36/36 [05:47&lt;00:00,  1.69s/it]"
      }
     },
     "96fc4410522e4442a8c43fb95a18590e": {
      "model_module": "@jupyter-widgets/base",
      "model_module_version": "2.0.0",
      "model_name": "LayoutModel",
      "state": {
       "_model_module": "@jupyter-widgets/base",
       "_model_module_version": "2.0.0",
       "_model_name": "LayoutModel",
       "_view_count": null,
       "_view_module": "@jupyter-widgets/base",
       "_view_module_version": "2.0.0",
       "_view_name": "LayoutView",
       "align_content": null,
       "align_items": null,
       "align_self": null,
       "border_bottom": null,
       "border_left": null,
       "border_right": null,
       "border_top": null,
       "bottom": null,
       "display": null,
       "flex": null,
       "flex_flow": null,
       "grid_area": null,
       "grid_auto_columns": null,
       "grid_auto_flow": null,
       "grid_auto_rows": null,
       "grid_column": null,
       "grid_gap": null,
       "grid_row": null,
       "grid_template_areas": null,
       "grid_template_columns": null,
       "grid_template_rows": null,
       "height": null,
       "justify_content": null,
       "justify_items": null,
       "left": null,
       "margin": null,
       "max_height": null,
       "max_width": null,
       "min_height": null,
       "min_width": null,
       "object_fit": null,
       "object_position": null,
       "order": null,
       "overflow": null,
       "padding": null,
       "right": null,
       "top": null,
       "visibility": null,
       "width": null
      }
     },
     "9d28ec9097f945919bafe3948973cf62": {
      "model_module": "@jupyter-widgets/controls",
      "model_module_version": "2.0.0",
      "model_name": "FloatProgressModel",
      "state": {
       "_dom_classes": [],
       "_model_module": "@jupyter-widgets/controls",
       "_model_module_version": "2.0.0",
       "_model_name": "FloatProgressModel",
       "_view_count": null,
       "_view_module": "@jupyter-widgets/controls",
       "_view_module_version": "2.0.0",
       "_view_name": "ProgressView",
       "bar_style": "success",
       "description": "",
       "description_allow_html": false,
       "layout": "IPY_MODEL_dd8bd14f19ba45f8964bbe260e9d3515",
       "max": 36.0,
       "min": 0.0,
       "orientation": "horizontal",
       "style": "IPY_MODEL_68346e4cb98241e2a733107ddcc10567",
       "tabbable": null,
       "tooltip": null,
       "value": 36.0
      }
     },
     "b15225379af1498c837edc248b11871c": {
      "model_module": "@jupyter-widgets/controls",
      "model_module_version": "2.0.0",
      "model_name": "HTMLModel",
      "state": {
       "_dom_classes": [],
       "_model_module": "@jupyter-widgets/controls",
       "_model_module_version": "2.0.0",
       "_model_name": "HTMLModel",
       "_view_count": null,
       "_view_module": "@jupyter-widgets/controls",
       "_view_module_version": "2.0.0",
       "_view_name": "HTMLView",
       "description": "",
       "description_allow_html": false,
       "layout": "IPY_MODEL_d98447d59481465380884e323ec5219e",
       "placeholder": "​",
       "style": "IPY_MODEL_47c9e40e12e641489115dcc547f0c702",
       "tabbable": null,
       "tooltip": null,
       "value": "100%"
      }
     },
     "d98447d59481465380884e323ec5219e": {
      "model_module": "@jupyter-widgets/base",
      "model_module_version": "2.0.0",
      "model_name": "LayoutModel",
      "state": {
       "_model_module": "@jupyter-widgets/base",
       "_model_module_version": "2.0.0",
       "_model_name": "LayoutModel",
       "_view_count": null,
       "_view_module": "@jupyter-widgets/base",
       "_view_module_version": "2.0.0",
       "_view_name": "LayoutView",
       "align_content": null,
       "align_items": null,
       "align_self": null,
       "border_bottom": null,
       "border_left": null,
       "border_right": null,
       "border_top": null,
       "bottom": null,
       "display": null,
       "flex": null,
       "flex_flow": null,
       "grid_area": null,
       "grid_auto_columns": null,
       "grid_auto_flow": null,
       "grid_auto_rows": null,
       "grid_column": null,
       "grid_gap": null,
       "grid_row": null,
       "grid_template_areas": null,
       "grid_template_columns": null,
       "grid_template_rows": null,
       "height": null,
       "justify_content": null,
       "justify_items": null,
       "left": null,
       "margin": null,
       "max_height": null,
       "max_width": null,
       "min_height": null,
       "min_width": null,
       "object_fit": null,
       "object_position": null,
       "order": null,
       "overflow": null,
       "padding": null,
       "right": null,
       "top": null,
       "visibility": null,
       "width": null
      }
     },
     "dd8bd14f19ba45f8964bbe260e9d3515": {
      "model_module": "@jupyter-widgets/base",
      "model_module_version": "2.0.0",
      "model_name": "LayoutModel",
      "state": {
       "_model_module": "@jupyter-widgets/base",
       "_model_module_version": "2.0.0",
       "_model_name": "LayoutModel",
       "_view_count": null,
       "_view_module": "@jupyter-widgets/base",
       "_view_module_version": "2.0.0",
       "_view_name": "LayoutView",
       "align_content": null,
       "align_items": null,
       "align_self": null,
       "border_bottom": null,
       "border_left": null,
       "border_right": null,
       "border_top": null,
       "bottom": null,
       "display": null,
       "flex": null,
       "flex_flow": null,
       "grid_area": null,
       "grid_auto_columns": null,
       "grid_auto_flow": null,
       "grid_auto_rows": null,
       "grid_column": null,
       "grid_gap": null,
       "grid_row": null,
       "grid_template_areas": null,
       "grid_template_columns": null,
       "grid_template_rows": null,
       "height": null,
       "justify_content": null,
       "justify_items": null,
       "left": null,
       "margin": null,
       "max_height": null,
       "max_width": null,
       "min_height": null,
       "min_width": null,
       "object_fit": null,
       "object_position": null,
       "order": null,
       "overflow": null,
       "padding": null,
       "right": null,
       "top": null,
       "visibility": null,
       "width": null
      }
     }
    },
    "version_major": 2,
    "version_minor": 0
   }
  }
 },
 "nbformat": 4,
 "nbformat_minor": 5
}