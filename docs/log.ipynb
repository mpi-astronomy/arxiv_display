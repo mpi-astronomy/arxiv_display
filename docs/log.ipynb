{
 "cells": [
  {
   "cell_type": "markdown",
   "id": "92bcb855",
   "metadata": {
    "papermill": {
     "duration": 0.005611,
     "end_time": "2022-04-08T09:59:26.054704",
     "exception": false,
     "start_time": "2022-04-08T09:59:26.049093",
     "status": "completed"
    },
    "tags": []
   },
   "source": [
    "# MPIA Arxiv on Deck 2\n",
    "\n",
    "Contains the steps to produce the paper extractions."
   ]
  },
  {
   "cell_type": "code",
   "execution_count": 1,
   "id": "3a0d6e11",
   "metadata": {
    "execution": {
     "iopub.execute_input": "2022-04-08T09:59:26.064449Z",
     "iopub.status.busy": "2022-04-08T09:59:26.064008Z",
     "iopub.status.idle": "2022-04-08T09:59:26.234333Z",
     "shell.execute_reply": "2022-04-08T09:59:26.233318Z"
    },
    "papermill": {
     "duration": 0.177458,
     "end_time": "2022-04-08T09:59:26.236306",
     "exception": false,
     "start_time": "2022-04-08T09:59:26.058848",
     "status": "completed"
    },
    "tags": []
   },
   "outputs": [],
   "source": [
    "# Imports\n",
    "import os\n",
    "from IPython.display import Markdown, display\n",
    "from tqdm.notebook import tqdm\n",
    "import warnings\n",
    "from PIL import Image \n",
    "\n",
    "# requires arxiv_on_deck_2\n",
    "\n",
    "from arxiv_on_deck_2.arxiv2 import (get_new_papers, \n",
    "                                    get_paper_from_identifier,\n",
    "                                    retrieve_document_source, \n",
    "                                    get_markdown_badge)\n",
    "from arxiv_on_deck_2 import (latex, \n",
    "                             mpia,\n",
    "                             highlight_authors_in_list)\n",
    "\n",
    "# Sometimes images are really big\n",
    "Image.MAX_IMAGE_PIXELS = 1000000000 "
   ]
  },
  {
   "cell_type": "code",
   "execution_count": 2,
   "id": "22aa9d44",
   "metadata": {
    "execution": {
     "iopub.execute_input": "2022-04-08T09:59:26.246385Z",
     "iopub.status.busy": "2022-04-08T09:59:26.245897Z",
     "iopub.status.idle": "2022-04-08T09:59:26.250397Z",
     "shell.execute_reply": "2022-04-08T09:59:26.249996Z"
    },
    "papermill": {
     "duration": 0.011186,
     "end_time": "2022-04-08T09:59:26.251941",
     "exception": false,
     "start_time": "2022-04-08T09:59:26.240755",
     "status": "completed"
    },
    "tags": []
   },
   "outputs": [],
   "source": [
    "# Some useful definitions.\n",
    "\n",
    "class AffiliationWarning(UserWarning):\n",
    "    pass\n",
    "\n",
    "class AffiliationError(RuntimeError):\n",
    "    pass\n",
    "\n",
    "def validation(source: str):\n",
    "    \"\"\"Raises error paper during parsing of source file\n",
    "    \n",
    "    Allows checks before parsing TeX code.\n",
    "    \n",
    "    Raises AffiliationWarning\n",
    "    \"\"\"\n",
    "    check = mpia.affiliation_verifications(source, verbose=True)\n",
    "    if check is not True:\n",
    "        raise AffiliationError(\"mpia.affiliation_verifications: \" + check)\n",
    "\n",
    "        \n",
    "warnings.simplefilter('always', AffiliationWarning)"
   ]
  },
  {
   "cell_type": "code",
   "execution_count": 3,
   "id": "14622700",
   "metadata": {
    "execution": {
     "iopub.execute_input": "2022-04-08T09:59:26.260413Z",
     "iopub.status.busy": "2022-04-08T09:59:26.260179Z",
     "iopub.status.idle": "2022-04-08T09:59:26.263512Z",
     "shell.execute_reply": "2022-04-08T09:59:26.263014Z"
    },
    "papermill": {
     "duration": 0.009316,
     "end_time": "2022-04-08T09:59:26.265000",
     "exception": false,
     "start_time": "2022-04-08T09:59:26.255684",
     "status": "completed"
    },
    "tags": []
   },
   "outputs": [],
   "source": [
    "# additional CSS to consider. \n",
    "# TODO: Current into each exported file. \n",
    "#       This should be set once into the webpages directly.\n",
    "#       With only the class/id definitions in the .md files.\n",
    "\n",
    "debug_html = \"\"\"\n",
    "<style>\n",
    "#wrap{ overflow:auto; }\n",
    "#fig1{ background:yellow; width:100%; float:left; padding:5px;  }\n",
    "#fig2{ background:red; width:50%; float:left; clear:left; padding:5px;  }\n",
    "#fig3{ background:green; width:50%; float:left; padding:5px;   }\n",
    ".macros{ background:yellow; visibility:visible;}\n",
    "h1 {margin: 0 0 0 0;}\n",
    "mark {background-color:#fff3b6;}\n",
    "img {object-fit:contain; max-height:250px; display:inline-block; text-align: center;}\n",
    "</style>\n",
    "\"\"\" \n",
    "html = \"\"\"\n",
    "<style>\n",
    "#wrap{ overflow:auto; }\n",
    "#fig1{ width:100%; float:left; padding: 5px;  }\n",
    "#fig2{ width:50%; float:left; clear:left; padding: 5px;  }\n",
    "#fig3{ width:50%; float:left; padding: 5px;  }\n",
    ".macros{ visibility:hidden; height:0px; }\n",
    "h1 {margin: 0em 0 0 0;}\n",
    "mark {background-color:#fff3b6;}\n",
    "img {object-fit:contain; max-height:250px; display:inline-block; text-align: center;}\n",
    "</style>\n",
    "\"\"\""
   ]
  },
  {
   "cell_type": "markdown",
   "id": "14bd6310",
   "metadata": {
    "papermill": {
     "duration": 0.003708,
     "end_time": "2022-04-08T09:59:26.272404",
     "exception": false,
     "start_time": "2022-04-08T09:59:26.268696",
     "status": "completed"
    },
    "tags": []
   },
   "source": [
    "## get list of arxiv paper candidates\n",
    "\n",
    "We use the MPIA mitarbeiter list webpage from mpia.de to get author names\n",
    "We then get all new papers from Arxiv and match authors"
   ]
  },
  {
   "cell_type": "code",
   "execution_count": 4,
   "id": "2645e73a",
   "metadata": {
    "execution": {
     "iopub.execute_input": "2022-04-08T09:59:26.281270Z",
     "iopub.status.busy": "2022-04-08T09:59:26.280762Z",
     "iopub.status.idle": "2022-04-08T09:59:43.860131Z",
     "shell.execute_reply": "2022-04-08T09:59:43.859426Z"
    },
    "papermill": {
     "duration": 17.585513,
     "end_time": "2022-04-08T09:59:43.861743",
     "exception": false,
     "start_time": "2022-04-08T09:59:26.276230",
     "status": "completed"
    },
    "tags": []
   },
   "outputs": [
    {
     "name": "stdout",
     "output_type": "stream",
     "text": [
      "Arxiv has 56 new papers today\n",
      "          21 with possible author matches\n"
     ]
    }
   ],
   "source": [
    "# get list from MPIA website\n",
    "# it automatically filters identified non-scientists :func:`mpia.filter_non_scientists`\n",
    "mpia_authors = mpia.get_mpia_mitarbeiter_list()\n",
    "new_papers = get_new_papers()\n",
    "# add manual references\n",
    "add_paper_refs = []\n",
    "new_papers.extend([get_paper_from_identifier(k) for k in add_paper_refs])\n",
    "\n",
    "# select only papers with matching author names and highlight authors\n",
    "hl_list = [k[0] for k in mpia_authors]\n",
    "\n",
    "candidates = []\n",
    "for paperk in new_papers:\n",
    "    hl_authors = highlight_authors_in_list(paperk['authors'], hl_list)\n",
    "    matches = [(hl, orig) for hl, orig in zip(hl_authors, paperk['authors']) if 'mark' in hl]\n",
    "    paperk['authors'] = hl_authors\n",
    "    if matches:\n",
    "        candidates.append(paperk)\n",
    "print(\"\"\"Arxiv has {0:,d} new papers today\"\"\".format(len(new_papers)))        \n",
    "print(\"\"\"          {0:,d} with possible author matches\"\"\".format(len(candidates)))"
   ]
  },
  {
   "cell_type": "markdown",
   "id": "3543b34a",
   "metadata": {
    "papermill": {
     "duration": 0.004387,
     "end_time": "2022-04-08T09:59:43.870488",
     "exception": false,
     "start_time": "2022-04-08T09:59:43.866101",
     "status": "completed"
    },
    "tags": []
   },
   "source": [
    "# Parse sources and generate relevant outputs\n",
    "\n",
    "From the candidates, we do the following steps:\n",
    "* get their tarball from ArXiv (and extract data)\n",
    "* find the main .tex file: find one with \\documentclass{...} (sometimes it's non trivial)\n",
    "* Check affiliations with :func:`validation`, which uses :func:`mpia.affiliation_verifications`\n",
    "* If passing the affiliations: we parse the .tex source\n",
    "   * inject sub-documents into the main (flatten the main document)\n",
    "   * parse structure, extract information (title, abstract, authors, figures...)\n",
    "   * handles `\\graphicspath` if provided\n",
    "* Generate the .md document."
   ]
  },
  {
   "cell_type": "code",
   "execution_count": 5,
   "id": "9576b79e",
   "metadata": {
    "execution": {
     "iopub.execute_input": "2022-04-08T09:59:43.879908Z",
     "iopub.status.busy": "2022-04-08T09:59:43.879360Z",
     "iopub.status.idle": "2022-04-08T10:00:58.866447Z",
     "shell.execute_reply": "2022-04-08T10:00:58.865883Z"
    },
    "papermill": {
     "duration": 74.993538,
     "end_time": "2022-04-08T10:00:58.867918",
     "exception": false,
     "start_time": "2022-04-08T09:59:43.874380",
     "status": "completed"
    },
    "scrolled": false,
    "tags": []
   },
   "outputs": [
    {
     "data": {
      "application/vnd.jupyter.widget-view+json": {
       "model_id": "a99ac53af58d49deab8bae80fb94f388",
       "version_major": 2,
       "version_minor": 0
      },
      "text/plain": [
       "  0%|          | 0/20 [00:00<?, ?it/s]"
      ]
     },
     "metadata": {},
     "output_type": "display_data"
    },
    {
     "name": "stdout",
     "output_type": "stream",
     "text": [
      "Retrieving document from  https://arxiv.org/e-print/2204.02985\n"
     ]
    },
    {
     "name": "stdout",
     "output_type": "stream",
     "text": [
      "extracting tarball to tmp_2204.02985... done.\n",
      "Retrieving document from  https://arxiv.org/e-print/2204.02989\n"
     ]
    },
    {
     "name": "stdout",
     "output_type": "stream",
     "text": [
      "extracting tarball to tmp_2204.02989..."
     ]
    },
    {
     "name": "stdout",
     "output_type": "stream",
     "text": [
      " done.\n",
      "Retrieving document from  https://arxiv.org/e-print/2204.02998\n"
     ]
    },
    {
     "name": "stdout",
     "output_type": "stream",
     "text": [
      "extracting tarball to tmp_2204.02998..."
     ]
    },
    {
     "name": "stdout",
     "output_type": "stream",
     "text": [
      " done.\n"
     ]
    },
    {
     "name": "stdout",
     "output_type": "stream",
     "text": [
      "Retrieving document from  https://arxiv.org/e-print/2204.03008\n"
     ]
    },
    {
     "name": "stdout",
     "output_type": "stream",
     "text": [
      "extracting tarball to tmp_2204.03008..."
     ]
    },
    {
     "name": "stdout",
     "output_type": "stream",
     "text": [
      " done.\n",
      "Retrieving document from  https://arxiv.org/e-print/2204.03020\n"
     ]
    },
    {
     "name": "stdout",
     "output_type": "stream",
     "text": [
      "extracting tarball to tmp_2204.03020... done.\n",
      "Retrieving document from  https://arxiv.org/e-print/2204.03041\n"
     ]
    },
    {
     "name": "stdout",
     "output_type": "stream",
     "text": [
      "extracting tarball to tmp_2204.03041..."
     ]
    },
    {
     "name": "stdout",
     "output_type": "stream",
     "text": [
      " done.\n",
      "Retrieving document from  https://arxiv.org/e-print/2204.03108\n"
     ]
    },
    {
     "name": "stderr",
     "output_type": "stream",
     "text": [
      "/opt/hostedtoolcache/Python/3.9.12/x64/lib/python3.9/site-packages/IPython/core/interactiveshell.py:3369: LatexWarning: Multiple tex files.\n",
      "\n",
      "  exec(code_obj, self.user_global_ns, self.user_ns)\n",
      "/opt/hostedtoolcache/Python/3.9.12/x64/lib/python3.9/site-packages/IPython/core/interactiveshell.py:3369: LatexWarning: Found documentclass in tmp_2204.03041/final_version.tex\n",
      "\n",
      "  exec(code_obj, self.user_global_ns, self.user_ns)\n"
     ]
    },
    {
     "name": "stdout",
     "output_type": "stream",
     "text": [
      "extracting tarball to tmp_2204.03108..."
     ]
    },
    {
     "name": "stdout",
     "output_type": "stream",
     "text": [
      " done.\n",
      "Retrieving document from  https://arxiv.org/e-print/2204.03126\n"
     ]
    },
    {
     "name": "stderr",
     "output_type": "stream",
     "text": [
      "/opt/hostedtoolcache/Python/3.9.12/x64/lib/python3.9/site-packages/IPython/core/interactiveshell.py:3369: LatexWarning: Multiple tex files.\n",
      "\n",
      "  exec(code_obj, self.user_global_ns, self.user_ns)\n",
      "/opt/hostedtoolcache/Python/3.9.12/x64/lib/python3.9/site-packages/IPython/core/interactiveshell.py:3369: LatexWarning: Found documentclass in tmp_2204.03108/main.tex\n",
      "\n",
      "  exec(code_obj, self.user_global_ns, self.user_ns)\n",
      "/opt/hostedtoolcache/Python/3.9.12/x64/lib/python3.9/site-packages/arxiv_on_deck_2/latex.py:292: LatexWarning: Latex injecting: 'rv_table' from 'tmp_2204.03108/rv_table.tex'\n",
      "  warnings.warn(LatexWarning(f\"Latex injecting: '{ext}' from '{subsource}'\"))\n",
      "/opt/hostedtoolcache/Python/3.9.12/x64/lib/python3.9/site-packages/arxiv_on_deck_2/latex.py:292: LatexWarning: Latex injecting: 'heb_params' from 'tmp_2204.03108/heb_params.tex'\n",
      "  warnings.warn(LatexWarning(f\"Latex injecting: '{ext}' from '{subsource}'\"))\n",
      "/opt/hostedtoolcache/Python/3.9.12/x64/lib/python3.9/site-packages/arxiv_on_deck_2/latex.py:292: LatexWarning: Latex injecting: 'heb_transittimes' from 'tmp_2204.03108/heb_transittimes.tex'\n",
      "  warnings.warn(LatexWarning(f\"Latex injecting: '{ext}' from '{subsource}'\"))\n",
      "/opt/hostedtoolcache/Python/3.9.12/x64/lib/python3.9/site-packages/arxiv_on_deck_2/latex.py:292: LatexWarning: Latex injecting: 'csec_params' from 'tmp_2204.03108/csec_params.tex'\n",
      "  warnings.warn(LatexWarning(f\"Latex injecting: '{ext}' from '{subsource}'\"))\n",
      "/opt/hostedtoolcache/Python/3.9.12/x64/lib/python3.9/site-packages/arxiv_on_deck_2/latex.py:292: LatexWarning: Latex injecting: 'csec_transittimes' from 'tmp_2204.03108/csec_transittimes.tex'\n",
      "  warnings.warn(LatexWarning(f\"Latex injecting: '{ext}' from '{subsource}'\"))\n",
      "/opt/hostedtoolcache/Python/3.9.12/x64/lib/python3.9/site-packages/arxiv_on_deck_2/latex.py:292: LatexWarning: Latex injecting: 'rv_gp_priors' from 'tmp_2204.03108/rv_gp_priors.tex'\n",
      "  warnings.warn(LatexWarning(f\"Latex injecting: '{ext}' from '{subsource}'\"))\n",
      "/opt/hostedtoolcache/Python/3.9.12/x64/lib/python3.9/site-packages/arxiv_on_deck_2/latex.py:292: LatexWarning: Latex injecting: 'transittimes' from 'tmp_2204.03108/transittimes.tex'\n",
      "  warnings.warn(LatexWarning(f\"Latex injecting: '{ext}' from '{subsource}'\"))\n",
      "/opt/hostedtoolcache/Python/3.9.12/x64/lib/python3.9/site-packages/arxiv_on_deck_2/latex.py:292: LatexWarning: Latex injecting: 'rv_2p_priors' from 'tmp_2204.03108/rv_2p_priors.tex'\n",
      "  warnings.warn(LatexWarning(f\"Latex injecting: '{ext}' from '{subsource}'\"))\n",
      "/opt/hostedtoolcache/Python/3.9.12/x64/lib/python3.9/site-packages/arxiv_on_deck_2/latex.py:292: LatexWarning: Latex injecting: 'rv_b_trend_priors' from 'tmp_2204.03108/rv_b_trend_priors.tex'\n",
      "  warnings.warn(LatexWarning(f\"Latex injecting: '{ext}' from '{subsource}'\"))\n",
      "/opt/hostedtoolcache/Python/3.9.12/x64/lib/python3.9/site-packages/arxiv_on_deck_2/latex.py:292: LatexWarning: Latex injecting: 'planetparams' from 'tmp_2204.03108/planetparams.tex'\n",
      "  warnings.warn(LatexWarning(f\"Latex injecting: '{ext}' from '{subsource}'\"))\n",
      "/opt/hostedtoolcache/Python/3.9.12/x64/lib/python3.9/site-packages/arxiv_on_deck_2/latex.py:292: LatexWarning: Latex injecting: 'stellarparams' from 'tmp_2204.03108/stellarparams.tex'\n",
      "  warnings.warn(LatexWarning(f\"Latex injecting: '{ext}' from '{subsource}'\"))\n",
      "/opt/hostedtoolcache/Python/3.9.12/x64/lib/python3.9/site-packages/arxiv_on_deck_2/latex.py:292: LatexWarning: Latex injecting: 'measurements' from 'tmp_2204.03108/measurements.tex'\n",
      "  warnings.warn(LatexWarning(f\"Latex injecting: '{ext}' from '{subsource}'\"))\n",
      "/opt/hostedtoolcache/Python/3.9.12/x64/lib/python3.9/site-packages/arxiv_on_deck_2/latex.py:292: LatexWarning: Latex injecting: 'stellarinfo' from 'tmp_2204.03108/stellarinfo.tex'\n",
      "  warnings.warn(LatexWarning(f\"Latex injecting: '{ext}' from '{subsource}'\"))\n",
      "/opt/hostedtoolcache/Python/3.9.12/x64/lib/python3.9/site-packages/arxiv_on_deck_2/latex.py:292: LatexWarning: Latex injecting: 'newcommand_gen' from 'tmp_2204.03108/newcommand_gen.tex'\n",
      "  warnings.warn(LatexWarning(f\"Latex injecting: '{ext}' from '{subsource}'\"))\n"
     ]
    },
    {
     "name": "stdout",
     "output_type": "stream",
     "text": [
      "extracting tarball to tmp_2204.03126..."
     ]
    },
    {
     "name": "stdout",
     "output_type": "stream",
     "text": [
      " done.\n",
      "Retrieving document from  https://arxiv.org/e-print/2204.03152\n"
     ]
    },
    {
     "name": "stdout",
     "output_type": "stream",
     "text": [
      "extracting tarball to tmp_2204.03152..."
     ]
    },
    {
     "name": "stdout",
     "output_type": "stream",
     "text": [
      " done.\n",
      "Retrieving document from  https://arxiv.org/e-print/2204.03180\n"
     ]
    },
    {
     "name": "stderr",
     "output_type": "stream",
     "text": [
      "/opt/hostedtoolcache/Python/3.9.12/x64/lib/python3.9/site-packages/IPython/core/interactiveshell.py:3369: LatexWarning: Multiple tex files.\n",
      "\n",
      "  exec(code_obj, self.user_global_ns, self.user_ns)\n",
      "/opt/hostedtoolcache/Python/3.9.12/x64/lib/python3.9/site-packages/IPython/core/interactiveshell.py:3369: LatexWarning: Found documentclass in tmp_2204.03152/Main.tex\n",
      "\n",
      "  exec(code_obj, self.user_global_ns, self.user_ns)\n",
      "/opt/hostedtoolcache/Python/3.9.12/x64/lib/python3.9/site-packages/arxiv_on_deck_2/latex.py:292: LatexWarning: Latex injecting: 'Appendice' from 'tmp_2204.03152/Appendice.tex'\n",
      "  warnings.warn(LatexWarning(f\"Latex injecting: '{ext}' from '{subsource}'\"))\n",
      "/opt/hostedtoolcache/Python/3.9.12/x64/lib/python3.9/site-packages/arxiv_on_deck_2/latex.py:292: LatexWarning: Latex injecting: 'Contents' from 'tmp_2204.03152/Contents.tex'\n",
      "  warnings.warn(LatexWarning(f\"Latex injecting: '{ext}' from '{subsource}'\"))\n"
     ]
    },
    {
     "name": "stdout",
     "output_type": "stream",
     "text": [
      "extracting tarball to tmp_2204.03180... done.\n",
      "Retrieving document from  https://arxiv.org/e-print/2204.03185\n"
     ]
    },
    {
     "name": "stdout",
     "output_type": "stream",
     "text": [
      "extracting tarball to tmp_2204.03185..."
     ]
    },
    {
     "name": "stdout",
     "output_type": "stream",
     "text": [
      " done.\n",
      "Retrieving document from  https://arxiv.org/e-print/2204.03210\n"
     ]
    },
    {
     "name": "stdout",
     "output_type": "stream",
     "text": [
      "extracting tarball to tmp_2204.03210..."
     ]
    },
    {
     "name": "stdout",
     "output_type": "stream",
     "text": [
      " done.\n",
      "Retrieving document from  https://arxiv.org/e-print/2204.03253\n"
     ]
    },
    {
     "name": "stdout",
     "output_type": "stream",
     "text": [
      "extracting tarball to tmp_2204.03253..."
     ]
    },
    {
     "name": "stdout",
     "output_type": "stream",
     "text": [
      " done.\n"
     ]
    },
    {
     "name": "stderr",
     "output_type": "stream",
     "text": [
      "/opt/hostedtoolcache/Python/3.9.12/x64/lib/python3.9/site-packages/arxiv_on_deck_2/latex.py:366: LatexWarning: Error parsing the document directly. Trying to recover.\n",
      "  warnings.warn(LatexWarning(f\"Error parsing the document directly. Trying to recover.\"))\n"
     ]
    },
    {
     "name": "stdout",
     "output_type": "stream",
     "text": [
      "✔ → 0:header\n",
      "  ↳ 21423:\\section{Introduction}\n",
      "✔ → 21423:\\section{Introduction}\n",
      "  ↳ 27679:\\section{The instrument and data reduction}\n"
     ]
    },
    {
     "name": "stdout",
     "output_type": "stream",
     "text": [
      "✔ → 27679:\\section{The instrument and data reduction}\n",
      "  ↳ 39829:\\section{Results}\n"
     ]
    },
    {
     "name": "stdout",
     "output_type": "stream",
     "text": [
      "✔ → 39829:\\section{Results}\n",
      "  ↳ 68451:\\section{Physical interpretation }\n",
      "✔ → 68451:\\section{Physical interpretation }\n",
      "  ↳ 71010:\\section{Discussion and Summary}\n",
      "✔ → 71010:\\section{Discussion and Summary}\n",
      "  ↳ 73313:\\section{Acknowledgments}\n",
      "✔ → 73313:\\section{Acknowledgments}\n",
      "  ↳ 74183:end\n"
     ]
    },
    {
     "name": "stderr",
     "output_type": "stream",
     "text": [
      "/opt/hostedtoolcache/Python/3.9.12/x64/lib/python3.9/site-packages/arxiv_on_deck_2/latex.py:118: LatexWarning: attempting recovering figure FigMELCdeadtime\n",
      "  warnings.warn(LatexWarning(f'attempting recovering figure {image}'))\n"
     ]
    },
    {
     "name": "stderr",
     "output_type": "stream",
     "text": [
      "/opt/hostedtoolcache/Python/3.9.12/x64/lib/python3.9/site-packages/arxiv_on_deck_2/latex.py:118: LatexWarning: attempting recovering figure FigHXMT_ME_lcfit4\n",
      "  warnings.warn(LatexWarning(f'attempting recovering figure {image}'))\n"
     ]
    },
    {
     "name": "stderr",
     "output_type": "stream",
     "text": [
      "/opt/hostedtoolcache/Python/3.9.12/x64/lib/python3.9/site-packages/arxiv_on_deck_2/latex.py:118: LatexWarning: attempting recovering figure FigMELeahyPower\n",
      "  warnings.warn(LatexWarning(f'attempting recovering figure {image}'))\n"
     ]
    },
    {
     "name": "stderr",
     "output_type": "stream",
     "text": [
      "/opt/hostedtoolcache/Python/3.9.12/x64/lib/python3.9/site-packages/arxiv_on_deck_2/latex.py:118: LatexWarning: attempting recovering figure FigBPLandPLandBLorentzfit\n",
      "  warnings.warn(LatexWarning(f'attempting recovering figure {image}'))\n"
     ]
    },
    {
     "name": "stderr",
     "output_type": "stream",
     "text": [
      "/opt/hostedtoolcache/Python/3.9.12/x64/lib/python3.9/site-packages/arxiv_on_deck_2/latex.py:118: LatexWarning: attempting recovering figure FigPLposteriorDis\n",
      "  warnings.warn(LatexWarning(f'attempting recovering figure {image}'))\n"
     ]
    },
    {
     "name": "stderr",
     "output_type": "stream",
     "text": [
      "/opt/hostedtoolcache/Python/3.9.12/x64/lib/python3.9/site-packages/arxiv_on_deck_2/latex.py:118: LatexWarning: attempting recovering figure FigPL_LRT\n",
      "  warnings.warn(LatexWarning(f'attempting recovering figure {image}'))\n"
     ]
    },
    {
     "name": "stderr",
     "output_type": "stream",
     "text": [
      "/opt/hostedtoolcache/Python/3.9.12/x64/lib/python3.9/site-packages/arxiv_on_deck_2/latex.py:118: LatexWarning: attempting recovering figure Figwavelet\n",
      "  warnings.warn(LatexWarning(f'attempting recovering figure {image}'))\n"
     ]
    },
    {
     "name": "stderr",
     "output_type": "stream",
     "text": [
      "/opt/hostedtoolcache/Python/3.9.12/x64/lib/python3.9/site-packages/arxiv_on_deck_2/latex.py:118: LatexWarning: attempting recovering figure Figall_LRT\n",
      "  warnings.warn(LatexWarning(f'attempting recovering figure {image}'))\n"
     ]
    },
    {
     "name": "stderr",
     "output_type": "stream",
     "text": [
      "/opt/hostedtoolcache/Python/3.9.12/x64/lib/python3.9/site-packages/arxiv_on_deck_2/latex.py:118: LatexWarning: attempting recovering figure FigME1p28srebin\n",
      "  warnings.warn(LatexWarning(f'attempting recovering figure {image}'))\n"
     ]
    },
    {
     "name": "stderr",
     "output_type": "stream",
     "text": [
      "/opt/hostedtoolcache/Python/3.9.12/x64/lib/python3.9/site-packages/arxiv_on_deck_2/latex.py:118: LatexWarning: attempting recovering figure KW_ME_nois_corr2\n",
      "  warnings.warn(LatexWarning(f'attempting recovering figure {image}'))\n"
     ]
    },
    {
     "name": "stderr",
     "output_type": "stream",
     "text": [
      "/opt/hostedtoolcache/Python/3.9.12/x64/lib/python3.9/site-packages/arxiv_on_deck_2/latex.py:118: LatexWarning: attempting recovering figure sin_nois_lc\n",
      "  warnings.warn(LatexWarning(f'attempting recovering figure {image}'))\n"
     ]
    },
    {
     "name": "stderr",
     "output_type": "stream",
     "text": [
      "/opt/hostedtoolcache/Python/3.9.12/x64/lib/python3.9/site-packages/arxiv_on_deck_2/latex.py:118: LatexWarning: attempting recovering figure sin_sin_xcorr\n",
      "  warnings.warn(LatexWarning(f'attempting recovering figure {image}'))\n"
     ]
    },
    {
     "name": "stderr",
     "output_type": "stream",
     "text": [
      "/opt/hostedtoolcache/Python/3.9.12/x64/lib/python3.9/site-packages/arxiv_on_deck_2/latex.py:118: LatexWarning: attempting recovering figure sin_nois_xcorr\n",
      "  warnings.warn(LatexWarning(f'attempting recovering figure {image}'))\n"
     ]
    },
    {
     "name": "stdout",
     "output_type": "stream",
     "text": [
      "Retrieving document from  https://arxiv.org/e-print/2204.03265\n"
     ]
    },
    {
     "name": "stdout",
     "output_type": "stream",
     "text": [
      "extracting tarball to tmp_2204.03265..."
     ]
    },
    {
     "name": "stdout",
     "output_type": "stream",
     "text": [
      " done.\n",
      "Retrieving document from  https://arxiv.org/e-print/2204.03269\n"
     ]
    },
    {
     "name": "stdout",
     "output_type": "stream",
     "text": [
      "extracting tarball to tmp_2204.03269... done.\n"
     ]
    },
    {
     "name": "stderr",
     "output_type": "stream",
     "text": [
      "/opt/hostedtoolcache/Python/3.9.12/x64/lib/python3.9/site-packages/IPython/core/interactiveshell.py:3369: LatexWarning: Multiple tex files.\n",
      "\n",
      "  exec(code_obj, self.user_global_ns, self.user_ns)\n",
      "/opt/hostedtoolcache/Python/3.9.12/x64/lib/python3.9/site-packages/IPython/core/interactiveshell.py:3369: LatexWarning: Found documentclass in tmp_2204.03269/msj2.tex\n",
      "\n",
      "  exec(code_obj, self.user_global_ns, self.user_ns)\n"
     ]
    },
    {
     "name": "stderr",
     "output_type": "stream",
     "text": [
      "/opt/hostedtoolcache/Python/3.9.12/x64/lib/python3.9/site-packages/arxiv_on_deck_2/latex.py:594: LatexWarning: Could not extract abstract from tmp_2204.03269/msj2.tex\n",
      "  warnings.warn(LatexWarning(f\"Could not extract abstract from {self.main_file}\"))\n",
      "/tmp/ipykernel_2225/1244451042.py:32: LatexWarning: 2204.03269 did not run properly\n",
      "[Errno 2] No such file or directory: 'gs'\n",
      "  warnings.warn(latex.LatexWarning(f\"{paper_id:s} did not run properly\\n\" +\n"
     ]
    },
    {
     "name": "stdout",
     "output_type": "stream",
     "text": [
      "Retrieving document from  https://arxiv.org/e-print/2204.03327\n"
     ]
    },
    {
     "name": "stdout",
     "output_type": "stream",
     "text": [
      "extracting tarball to tmp_2204.03327..."
     ]
    },
    {
     "name": "stdout",
     "output_type": "stream",
     "text": [
      " done.\n",
      "Retrieving document from  https://arxiv.org/e-print/2204.03335\n"
     ]
    },
    {
     "name": "stdout",
     "output_type": "stream",
     "text": [
      "extracting tarball to tmp_2204.03335..."
     ]
    },
    {
     "name": "stdout",
     "output_type": "stream",
     "text": [
      " done.\n"
     ]
    },
    {
     "name": "stderr",
     "output_type": "stream",
     "text": [
      "/opt/hostedtoolcache/Python/3.9.12/x64/lib/python3.9/site-packages/arxiv_on_deck_2/latex.py:366: LatexWarning: Error parsing the document directly. Trying to recover.\n",
      "  warnings.warn(LatexWarning(f\"Error parsing the document directly. Trying to recover.\"))\n"
     ]
    },
    {
     "name": "stdout",
     "output_type": "stream",
     "text": [
      "✔ → 0:header\n",
      "  ↳ 8441:\\section{Introduction}\n"
     ]
    },
    {
     "name": "stdout",
     "output_type": "stream",
     "text": [
      "✘ → 8441:\\section{Introduction}\n",
      "  ↳ 16096:\\section{Quasar Sample and Composites} \\label{sec:sample-composites}\n"
     ]
    },
    {
     "name": "stdout",
     "output_type": "stream",
     "text": [
      "✔ → 16096:\\section{Quasar Sample and Composites} \\label{sec:sample-composites}\n",
      "  ↳ 37058:\\section{Line Fitting and Metallicity Measurement} \\label{sec:metallicity}\n"
     ]
    },
    {
     "name": "stdout",
     "output_type": "stream",
     "text": [
      "✔ → 37058:\\section{Line Fitting and Metallicity Measurement} \\label{sec:metallicity}\n",
      "  ↳ 56601:\\section{Results} \\label{sec:results}\n"
     ]
    },
    {
     "name": "stdout",
     "output_type": "stream",
     "text": [
      "✔ → 56601:\\section{Results} \\label{sec:results}\n",
      "  ↳ 77694:\\section{Discussion} \\label{sec:discussion}\n"
     ]
    },
    {
     "name": "stdout",
     "output_type": "stream",
     "text": [
      "✔ → 77694:\\section{Discussion} \\label{sec:discussion}\n",
      "  ↳ 89134:\\section{Conclusions} \\label{sec:conclusion}\n",
      "✔ → 89134:\\section{Conclusions} \\label{sec:conclusion}\n",
      "  ↳ 95750:\\section{Comparison of emission-line fitting methods} \\label{appendix:line-fitting-compare}\n"
     ]
    },
    {
     "name": "stdout",
     "output_type": "stream",
     "text": [
      "✔ → 95750:\\section{Comparison of emission-line fitting methods} \\label{appendix:line-fitting-compare}\n",
      "  ↳ 100507:\\section{Additional Tables and Figures}\n"
     ]
    },
    {
     "name": "stdout",
     "output_type": "stream",
     "text": [
      "✘ → 100507:\\section{Additional Tables and Figures}\n",
      "  ↳ 115120:end\n"
     ]
    },
    {
     "name": "stdout",
     "output_type": "stream",
     "text": [
      "Retrieving document from  https://arxiv.org/e-print/2204.03358\n"
     ]
    },
    {
     "name": "stdout",
     "output_type": "stream",
     "text": [
      "extracting tarball to tmp_2204.03358..."
     ]
    },
    {
     "name": "stdout",
     "output_type": "stream",
     "text": [
      " done.\n",
      "Retrieving document from  https://arxiv.org/e-print/2204.03423\n"
     ]
    },
    {
     "name": "stdout",
     "output_type": "stream",
     "text": [
      "extracting tarball to tmp_2204.03423..."
     ]
    },
    {
     "name": "stdout",
     "output_type": "stream",
     "text": [
      " done.\n",
      "Retrieving document from  https://arxiv.org/e-print/2204.03457\n"
     ]
    },
    {
     "name": "stderr",
     "output_type": "stream",
     "text": [
      "/opt/hostedtoolcache/Python/3.9.12/x64/lib/python3.9/site-packages/IPython/core/interactiveshell.py:3369: LatexWarning: Multiple tex files.\n",
      "\n",
      "  exec(code_obj, self.user_global_ns, self.user_ns)\n",
      "/opt/hostedtoolcache/Python/3.9.12/x64/lib/python3.9/site-packages/IPython/core/interactiveshell.py:3369: LatexWarning: Found documentclass in tmp_2204.03423/paper.tex\n",
      "\n",
      "  exec(code_obj, self.user_global_ns, self.user_ns)\n",
      "/opt/hostedtoolcache/Python/3.9.12/x64/lib/python3.9/site-packages/arxiv_on_deck_2/latex.py:292: LatexWarning: Latex injecting: 'lisa_numbers' from 'tmp_2204.03423/lisa_numbers.tex'\n",
      "  warnings.warn(LatexWarning(f\"Latex injecting: '{ext}' from '{subsource}'\"))\n",
      "/opt/hostedtoolcache/Python/3.9.12/x64/lib/python3.9/site-packages/arxiv_on_deck_2/latex.py:292: LatexWarning: Latex injecting: '3g_numbers' from 'tmp_2204.03423/3g_numbers.tex'\n",
      "  warnings.warn(LatexWarning(f\"Latex injecting: '{ext}' from '{subsource}'\"))\n",
      "/opt/hostedtoolcache/Python/3.9.12/x64/lib/python3.9/site-packages/arxiv_on_deck_2/latex.py:292: LatexWarning: Latex injecting: 'numbers' from 'tmp_2204.03423/numbers.tex'\n",
      "  warnings.warn(LatexWarning(f\"Latex injecting: '{ext}' from '{subsource}'\"))\n"
     ]
    },
    {
     "name": "stdout",
     "output_type": "stream",
     "text": [
      "extracting tarball to tmp_2204.03457..."
     ]
    },
    {
     "name": "stdout",
     "output_type": "stream",
     "text": [
      " done.\n"
     ]
    },
    {
     "name": "stderr",
     "output_type": "stream",
     "text": [
      "/opt/hostedtoolcache/Python/3.9.12/x64/lib/python3.9/site-packages/IPython/core/interactiveshell.py:3369: LatexWarning: Multiple tex files.\n",
      "\n",
      "  exec(code_obj, self.user_global_ns, self.user_ns)\n",
      "/opt/hostedtoolcache/Python/3.9.12/x64/lib/python3.9/site-packages/IPython/core/interactiveshell.py:3369: LatexWarning: Found documentclass in tmp_2204.03457/aassymbols.tex\n",
      "\n",
      "  exec(code_obj, self.user_global_ns, self.user_ns)\n"
     ]
    }
   ],
   "source": [
    "documents = []\n",
    "failed = []\n",
    "for paper in tqdm(candidates[:-1]):\n",
    "    paper_id = paper['identifier'].lower().replace('arxiv:', '')\n",
    "    \n",
    "    folder = f'tmp_{paper_id}'\n",
    "\n",
    "    try:\n",
    "        if not os.path.isdir(folder):\n",
    "            folder = retrieve_document_source(f\"{paper_id}\", f'tmp_{paper_id}')\n",
    "        \n",
    "        try:\n",
    "            doc = latex.LatexDocument(folder, validation=validation)    \n",
    "        except AffiliationError as affilerror:\n",
    "            msg = f\"ArXiv:{paper_id:s} is not an MPIA paper... \" + str(affilerror)\n",
    "            failed.append((paper, \"affiliation error: \" + str(affilerror) ))\n",
    "            continue\n",
    "        \n",
    "        # Hack because sometimes author parsing does not work well\n",
    "        if (len(doc.authors) != len(paper['authors'])):\n",
    "            doc._authors = paper['authors']\n",
    "        if (doc.abstract) in (None, ''):\n",
    "            doc._abstract = paper['abstract']\n",
    "            \n",
    "        doc.comment = get_markdown_badge(paper_id) + \" _\" + paper['comments'] + \"_\"\n",
    "        doc.highlight_authors_in_list(hl_list)\n",
    "\n",
    "        full_md = doc.generate_markdown_text()\n",
    "        \n",
    "        documents.append((paper_id, full_md))\n",
    "    except Exception as e:\n",
    "        warnings.warn(latex.LatexWarning(f\"{paper_id:s} did not run properly\\n\" +\n",
    "                                         str(e)\n",
    "                                        ))\n",
    "        failed.append((paper, \"latex error \" + str(e)))"
   ]
  },
  {
   "cell_type": "markdown",
   "id": "2505a25c",
   "metadata": {
    "papermill": {
     "duration": 0.007436,
     "end_time": "2022-04-08T10:00:58.883199",
     "exception": false,
     "start_time": "2022-04-08T10:00:58.875763",
     "status": "completed"
    },
    "tags": []
   },
   "source": [
    "### Export the logs\n",
    "\n",
    "Throughout, we also keep track of the logs per paper. see `logs-{today date}.md` "
   ]
  },
  {
   "cell_type": "code",
   "execution_count": 6,
   "id": "d733828a",
   "metadata": {
    "execution": {
     "iopub.execute_input": "2022-04-08T10:00:58.899579Z",
     "iopub.status.busy": "2022-04-08T10:00:58.899206Z",
     "iopub.status.idle": "2022-04-08T10:00:58.933062Z",
     "shell.execute_reply": "2022-04-08T10:00:58.932493Z"
    },
    "papermill": {
     "duration": 0.043845,
     "end_time": "2022-04-08T10:00:58.934472",
     "exception": false,
     "start_time": "2022-04-08T10:00:58.890627",
     "status": "completed"
    },
    "scrolled": false,
    "tags": []
   },
   "outputs": [
    {
     "data": {
      "text/markdown": [
       "## Successful papers"
      ],
      "text/plain": [
       "<IPython.core.display.Markdown object>"
      ]
     },
     "metadata": {},
     "output_type": "display_data"
    },
    {
     "data": {
      "text/markdown": [
       "\n",
       "|||\n",
       "|---:|:---|\n",
       "| [![arXiv](https://img.shields.io/badge/arXiv-arXiv:2204.02998-b31b1b.svg)](https://arxiv.org/abs/arXiv:2204.02998) | **High-contrast, high-angular resolution view of the GJ 367 exoplanet  system**  |\n",
       "|| Wolfgang Brandner, Per Calissendorff, <mark>Neige Frankel</mark>, Faustine Cantalloube |\n",
       "|*Comments*| *9 pages, 8 figures, accepted by MNRAS*|\n",
       "|**Abstract**| We search for additional companions in the GJ 367 exoplanet system, and aim at better constraining its age and evolutionary status. We analyse high contrast direct imaging observations obtained with HST/NICMOS, VLT/NACO, and VLT/SPHERE. We investigate and critically discuss conflicting age indicators based on theoretical isochrones and models for Galactic dynamics. A comparison of GAIA EDR3 parallax and photometric measurements with theoretical isochrones suggest a young age $\\le$60 Myr for GJ 367. The star's Galactic kinematics exclude membership to any nearby young moving group or stellar stream. Its highly eccentric Galactic orbit, however, is atypical for a young star. Age estimates considering Galactic dynamical evolution are most consistent with an age of 1 to 8 Gyr. We find no evidence for a significant mid-infrared excess in the WISE bands, suggesting the absence of warm dust in the GJ 367 system. The direct imaging data provide significantly improved detection limits compared to previous studies. At 530 mas (5 au) separation, the SPHERE data achieve a 5 sigma contrast of $2.6 \\times 10^{-6}$. The data exclude the presence of a stellar companion at projected separations $\\ge$0.4 au. At projected separations $\\ge$5 au we can exclude substellar companions with a mass $\\ge$ 1.5 M$_{\\rm Jup}$ for an age of 50 Myr, and $\\ge$ 20 M$_{\\rm Jup}$ for an age of 5 Gyr. By applying the stellar parameters corresponding to the 50 Myr isochrone, we derive a bulk density of $\\rho_{\\rm planet} = 6.2$ g/cm$^3$ for GJ 367b, which is 25% smaller than a previous estimate. |"
      ],
      "text/plain": [
       "[arXiv:2204.02998] High-contrast, high-angular resolution view of the GJ 367 exoplanet  system\n",
       "\tWolfgang Brandner, Per Calissendorff, <mark>Neige Frankel</mark>, Faustine Cantalloube"
      ]
     },
     "metadata": {},
     "output_type": "display_data"
    },
    {
     "data": {
      "text/markdown": [
       "\n",
       "|||\n",
       "|---:|:---|\n",
       "| [![arXiv](https://img.shields.io/badge/arXiv-arXiv:2204.03253-b31b1b.svg)](https://arxiv.org/abs/arXiv:2204.03253) | **Quasi-periodic oscillations of the X-ray burst from the magnetar SGR  J1935+2154 and associated with the fast radio burst FRB 200428**  |\n",
       "|| Xiaobo Li, et al. -- incl., <mark>Shuang-Nan Zhang</mark>, <mark>Bing Zhang</mark>, <mark>Shu Zhang</mark>, <mark>Binbin Zhang</mark>, <mark>Peng Zhang</mark>, <mark>He Gao</mark>, <mark>Xiaohua Liang</mark>, <mark>Hexin Liu</mark>, <mark>Xiang Ma</mark>, <mark>Liang Sun</mark>, <mark>Lian Tao</mark> |\n",
       "|*Comments*| *17 pages, 13 figures, accepted for publication by ApJ. arXiv admin note: text overlap with arXiv:1212.1011 by other authors. text overlap with arXiv:1212.1011 by other authors*|\n",
       "|**Abstract**| The origin(s) and mechanism(s) of fast radio bursts (FRBs), which are short radio pulses from cosmological distances, have remained a major puzzle since their discovery. We report a strong Quasi-Periodic Oscillation(QPO) of 40 Hz in the X-ray burst from the magnetar SGR J1935+2154 and associated with FRB 200428, significantly detected with the Hard X-ray Modulation Telescope (Insight-HXMT) and also hinted by the Konus-Wind data. QPOs from magnetar bursts have only been rarely detected; our 3.4 sigma (p-value is 2.9e-4) detection of the QPO reported here reveals the strongest QPO signal observed from magnetars (except in some very rare giant flares), making this X-ray burst unique among magnetar bursts. The two X-ray spikes coinciding with the two FRB pulses are also among the peaks of the QPO. Our results suggest that at least some FRBs are related to strong oscillation processes of neutron stars. We also show that we may overestimate the significance of the QPO signal and underestimate the errors of QPO parameters if QPO exists only in a fraction of the time series of a X-ray burst which we use to calculate the Leahy-normalized periodogram. |"
      ],
      "text/plain": [
       "[arXiv:2204.03253] Quasi-periodic oscillations of the X-ray burst from the magnetar SGR  J1935+2154 and associated with the fast radio burst FRB 200428\n",
       "\tXiaobo Li, et al. -- incl., <mark>Shuang-Nan Zhang</mark>, <mark>Bing Zhang</mark>, <mark>Shu Zhang</mark>, <mark>Binbin Zhang</mark>, <mark>Peng Zhang</mark>, <mark>He Gao</mark>, <mark>Xiaohua Liang</mark>, <mark>Hexin Liu</mark>, <mark>Xiang Ma</mark>, <mark>Liang Sun</mark>, <mark>Lian Tao</mark>"
      ]
     },
     "metadata": {},
     "output_type": "display_data"
    },
    {
     "data": {
      "text/markdown": [
       "\n",
       "|||\n",
       "|---:|:---|\n",
       "| [![arXiv](https://img.shields.io/badge/arXiv-arXiv:2204.03335-b31b1b.svg)](https://arxiv.org/abs/arXiv:2204.03335) | **Chemical Abundance of z~6 Quasar Broad-Line Regions in the XQR-30 Sample**  |\n",
       "|| Samuel Lai, et al. -- incl., <mark>Sarah E.I. Bosman</mark>, <mark>Jan-Torge Schindler</mark>, <mark>Fabian Walter</mark> |\n",
       "|*Comments*| *MNRAS accepted, 24 pages, 17 figures, 4 tables*|\n",
       "|**Abstract**| The elemental abundances in the broad-line regions of high-redshift quasars trace the chemical evolution in the nuclear regions of massive galaxies in the early universe. In this work, we study metallicity-sensitive broad emission-line flux ratios in rest-frame UV spectra of 25 high-redshift (5.8 < z < 7.5) quasars observed with the VLT/X-shooter and Gemini/GNIRS instruments, ranging over $\\log(M_{\\rm{BH}}/M_{\\odot})= 8.4-9.8$ in black hole mass and $\\log(L_{\\rm{bol}}/\\rm{erg\\, s}^{-1})= 46.7-47.7$ in bolometric luminosity. We fit individual spectra and composites generated by binning across quasar properties: bolometric luminosity, black hole mass, and blueshift of the \\civ\\, line, finding no redshift evolution in the emission-line ratios by comparing our high-redshift quasars to lower-redshift (2.0 < z < 5.0) results presented in the literature. Using Cloudy-based locally optimally-emitting cloud photoionisation model relations between metallicity and emission-line flux ratios, we find the observable properties of the broad emission lines to be consistent with emission from gas clouds with metallicity that are at least 2-4 times solar. Our high-redshift measurements also confirm that the blueshift of the CIV emission line is correlated with its equivalent width, which influences line ratios normalised against CIV. When accounting for the CIV blueshift, we find that the rest-frame UV emission-line flux ratios do not correlate appreciably with the black hole mass or bolometric luminosity. |"
      ],
      "text/plain": [
       "[arXiv:2204.03335] Chemical Abundance of z~6 Quasar Broad-Line Regions in the XQR-30 Sample\n",
       "\tSamuel Lai, et al. -- incl., <mark>Sarah E.I. Bosman</mark>, <mark>Jan-Torge Schindler</mark>, <mark>Fabian Walter</mark>"
      ]
     },
     "metadata": {},
     "output_type": "display_data"
    },
    {
     "data": {
      "text/markdown": [
       "## Failed papers"
      ],
      "text/plain": [
       "<IPython.core.display.Markdown object>"
      ]
     },
     "metadata": {},
     "output_type": "display_data"
    },
    {
     "data": {
      "text/markdown": [
       "\n",
       "|||\n",
       "|---:|:---|\n",
       "| [![arXiv](https://img.shields.io/badge/arXiv-arXiv:2204.02985-b31b1b.svg)](https://arxiv.org/abs/arXiv:2204.02985) | **More Evidence for Variable Helium Absorption from HD 189733b**  |\n",
       "|| <mark>Michael Zhang</mark>, et al. -- incl., <mark>Heather A. Knutson</mark>, <mark>Laura Kreidberg</mark> |\n",
       "|*Comments*| *submitted to AJ*|\n",
       "|**Abstract**| We present a new Keck/NIRSPEC observation of metastable helium absorption from the upper atmosphere of HD 189733b, a hot Jupiter orbiting a nearby moderately active star. We measure an average helium transit depth of $0.420 \\pm 0.013$% integrated over the [-20, 20] km/s velocity range. Comparing this measurement to eight previously published transit observations with different instruments, we find that our depth is 32% (9$\\sigma$) lower than the average of the three CARMENES transits, but only 16% (4.4$\\sigma$) lower than the average of the five GIANO transits. We perform 1D hydrodynamical simulations of the outflow, and find that XUV variability on the order of 33%--common for this star--can change the helium absorption depth by 60%. We conclude that changes in stellar XUV flux can explain the observational variability in helium absorption. 3D models are necessary to explore other sources of variability, such as shear instability and changing stellar wind conditions. |\n",
       "|<p style=\"color:green\"> **ERROR** </p>| <p style=\"color:green\">affiliation error: mpia.affiliation_verifications: '69117' keyword not found.</p> |"
      ],
      "text/plain": [
       "<IPython.core.display.Markdown object>"
      ]
     },
     "metadata": {},
     "output_type": "display_data"
    },
    {
     "data": {
      "text/markdown": [
       "\n",
       "|||\n",
       "|---:|:---|\n",
       "| [![arXiv](https://img.shields.io/badge/arXiv-arXiv:2204.02989-b31b1b.svg)](https://arxiv.org/abs/arXiv:2204.02989) | **Birth of the Galactic Disk Revealed by the H3 Survey**  |\n",
       "|| Charlie Conroy, et al. -- incl., <mark>Dennis Zaritsky</mark> |\n",
       "|*Comments*| *13 pages, 10 figures, submitted to ApJ*|\n",
       "|**Abstract**| We use chemistry ([alpha/Fe] and [Fe/H]), main sequence turnoff ages, and kinematics determined from H3 Survey spectroscopy and Gaia astrometry to identify the birth of the Galactic disk. We separate in-situ and accreted stars on the basis of angular momenta and eccentricities. The sequence of high-alpha in-situ stars persists down to at least [Fe/H]=-2.5 and shows unexpected non-monotonic behavior: with increasing metallicity the population first declines in [alpha/Fe], then increases over the range -1.3<[Fe/H]<-0.7, and then declines again at higher metallicities. The number of stars in the in-situ population rapidly increases above [Fe/H]=-1. The average kinematics of these stars are hot and independent of metallicity at [Fe/H]<-1 and then become increasingly cold and disk-like at higher metallicities. The ages of the in-situ, high-alpha stars are uniformly very old (13 Gyr) at [Fe/H]<-1.3, and span a wider range (8-12 Gyr) at higher metallicities. Interpreting the chemistry with a simple chemical evolution model suggests that the non-monotonic behavior is due to a significant increase in star formation efficiency, which began 13 Gyr ago. These results support a picture in which the first 1 Gyr of the Galaxy was characterized by a \"simmering phase\" in which the star formation efficiency was low and the kinematics had substantial disorder with some net rotation. The disk then underwent a dramatic transformation to a \"boiling phase\", in which the star formation efficiency increased substantially, the kinematics became disk-like, and the number of stars formed increased tenfold. We interpret this transformation as the birth of the Galactic disk at z~4. The physical origin of this transformation is unclear and does not seem to be reproduced in current galaxy formation models. |\n",
       "|<p style=\"color:green\"> **ERROR** </p>| <p style=\"color:green\">affiliation error: mpia.affiliation_verifications: 'Heidelberg' keyword not found.</p> |"
      ],
      "text/plain": [
       "<IPython.core.display.Markdown object>"
      ]
     },
     "metadata": {},
     "output_type": "display_data"
    },
    {
     "data": {
      "text/markdown": [
       "\n",
       "|||\n",
       "|---:|:---|\n",
       "| [![arXiv](https://img.shields.io/badge/arXiv-arXiv:2204.03008-b31b1b.svg)](https://arxiv.org/abs/arXiv:2204.03008) | **First Census of Gas-phase Metallicity Gradients of Star-forming Galaxies  in Overdense Environments at Cosmic Noon**  |\n",
       "|| Zihao Li, et al. -- incl., <mark>Xian Zhong Zheng</mark>, <mark>Alaina L. Henry</mark> |\n",
       "|*Comments*| *13 pages, 6 figures, 1 table. Accepted for publication in ApJL*|\n",
       "|**Abstract**| We report the first spatially resolved measurements of gas-phase metallicity radial gradients in star-forming galaxies in overdense environments at $z\\gtrsim2$. The spectroscopic data are acquired by the \\mg\\ survey, a Hubble Space Telescope (HST) cycle-28 medium program. This program is obtaining 45 orbits of WFC3/IR grism spectroscopy in the density peak regions of three massive galaxy protoclusters (BOSS 1244, BOSS 1542 and BOSS 1441) at $z=2-3$. Our sample in the BOSS 1244 field consists of 20 galaxies with stellar-mass ranging from $10^{9.0}$ to $10^{10.3}$ \\Msun\\ , star formation rate (SFR) from 10 to 240 \\Msun\\,yr$^{-1}$, and global gas-phase metallicity (\\oh) from 8.2 to 8.6. At $1\\sigma$ confidence level, 2/20 galaxies in our sample show positive (inverted) gradients -- the relative abundance of oxygen increasing with galactocentric radius, opposite the usual trend. Furthermore, 1/20 shows negative gradients and 17/20 are consistent with flat gradients. This high fraction of flat/inverted gradients is uncommon in simulations and previous observations conducted in blank fields at similar redshifts. To understand this, we investigate the correlations among various observed properties of our sample galaxies. We find an anticorrelation between metallicity gradient and global metallicity of our galaxies residing in extreme overdensities, and a marked deficiency of metallicity in our massive galaxies as compared to their coeval field counterparts. We conclude that the cold-mode gas accretion plays an active role in shaping the chemical evolution of galaxies in the protocluster environments, diluting their central chemical abundance, and flattening/inverting their metallicity gradients. |\n",
       "|<p style=\"color:green\"> **ERROR** </p>| <p style=\"color:green\">affiliation error: mpia.affiliation_verifications: 'Heidelberg' keyword not found.</p> |"
      ],
      "text/plain": [
       "<IPython.core.display.Markdown object>"
      ]
     },
     "metadata": {},
     "output_type": "display_data"
    },
    {
     "data": {
      "text/markdown": [
       "\n",
       "|||\n",
       "|---:|:---|\n",
       "| [![arXiv](https://img.shields.io/badge/arXiv-arXiv:2204.03020-b31b1b.svg)](https://arxiv.org/abs/arXiv:2204.03020) | **Double Source Lensing Probing High Redshift Cosmology**  |\n",
       "|| <mark>Divij Sharma</mark>, Eric V. Linder |\n",
       "|*Comments*| *7 pages, 9 figures*|\n",
       "|**Abstract**| Double source lensing, with two sources lensed by the same foreground galaxy, involves the distance between each source and the lens and hence is a probe of the universe away from the observer. The double source distance ratio also reduces sensitivity to the lens model and has good complementarity with standard distance probes. We show that using this technique at high redshifts $z>1$, to be enabled by data from the Euclid satellite and other surveys, can give insights on dark energy, both in terms of $w_0$-$w_a$ and redshift binned density. We find a dark energy figure of merit of 245 from combination of 256 double source systems with moderate quality cosmic microwave background and supernova data. Using instead five redshift bins between $z=1.1$-5, we could detect the dark energy density out to $z\\approx5$, or make measurements ranging between 31$\\sigma$ and 2.5$\\sigma$ of its values in the bins. |\n",
       "|<p style=\"color:green\"> **ERROR** </p>| <p style=\"color:green\">affiliation error: mpia.affiliation_verifications: 'Heidelberg' keyword not found.</p> |"
      ],
      "text/plain": [
       "<IPython.core.display.Markdown object>"
      ]
     },
     "metadata": {},
     "output_type": "display_data"
    },
    {
     "data": {
      "text/markdown": [
       "\n",
       "|||\n",
       "|---:|:---|\n",
       "| [![arXiv](https://img.shields.io/badge/arXiv-arXiv:2204.03041-b31b1b.svg)](https://arxiv.org/abs/arXiv:2204.03041) | **MIGHTEE-HI: The relation between the HI gas in galaxies and the cosmic  web**  |\n",
       "|| Madalina N. Tudorache, et al. -- incl., <mark>I. Heywood</mark>, <mark>B. S. Frank</mark> |\n",
       "|*Comments*| *11 pages, 9 figures, 5 tables, accepted for publication in MNRAS*|\n",
       "|**Abstract**| We study the 3D axis of rotation (3D spin) of 77 HI galaxies from the MIGHTEE-HI Early Science observations, and its relation to the filaments of the cosmic web. For this HI-selected sample, the alignment between the spin axis and the closest filament ($\\lvert \\cos \\psi \\rvert$) is higher for galaxies closer to the filaments, with $\\langle\\lvert \\cos \\psi \\rvert\\rangle= 0.66 \\pm 0.04$ for galaxies $<5$ Mpc from their closest filament compared to $\\langle\\lvert \\cos \\psi \\rvert\\rangle= 0.37 \\pm 0.08$ for galaxies at $5 < d <10$ Mpc. We find that galaxies with a low HI-to-stellar mass ratio ($\\log_{10}(M_{\\rm HI}/M_{\\star}) < 0.11$) are more aligned with their closest filaments, with $\\langle\\lvert \\cos \\psi \\rvert\\rangle= 0.58 \\pm 0.04$; whilst galaxies with ($\\log_{10}(M_{\\rm HI}/M_{\\star}) > 0.11$) tend to be mis-aligned, with $\\langle\\lvert \\cos \\psi \\rvert\\rangle= 0.44 \\pm 0.04$. We find tentative evidence that the spin axis of HI-selected galaxies tend to be aligned with associated filaments ($d<10$ Mpc), but this depends on the gas fractions. Galaxies that have accumulated more stellar mass compared to their gas mass tend towards stronger alignment. Our results suggest that those galaxies that have accrued high gas fraction with respect to their stellar mass may have had their spin axis alignment with the filament disrupted by a recent gas-rich merger, whereas the spin vector for those galaxies in which the neutral gas has not been strongly replenished through a recent merger tend to orientate towards alignment with the filament. We also investigate the spin transition between galaxies with a high HI content and a low HI content at a threshold of $M_{\\mathrm{HI}}\\approx 10^{9.5} M_{\\odot}$ found in simulations, however we find no evidence for such a transition with the current data. |\n",
       "|<p style=\"color:green\"> **ERROR** </p>| <p style=\"color:green\">affiliation error: mpia.affiliation_verifications: 'Heidelberg' keyword not found.</p> |"
      ],
      "text/plain": [
       "<IPython.core.display.Markdown object>"
      ]
     },
     "metadata": {},
     "output_type": "display_data"
    },
    {
     "data": {
      "text/markdown": [
       "\n",
       "|||\n",
       "|---:|:---|\n",
       "| [![arXiv](https://img.shields.io/badge/arXiv-arXiv:2204.03126-b31b1b.svg)](https://arxiv.org/abs/arXiv:2204.03126) | **Chromospheric Extension of the MURaM Code**  |\n",
       "|| D. Przybylski, et al. -- incl., <mark>J. Leenaarts</mark> |\n",
       "|*Comments*| *24 pages, 12 figures, to be published in A&A*|\n",
       "|**Abstract**| Detailed numerical models of chromosphere and corona are required to understand the heating of the solar atmosphere. An accurate treatment of the solar chromosphere is complicated by the effects arising from Non Local Thermodynamic Equilibrium (NLTE) radiative transfer. A small number of strong, highly scattering lines dominate the cooling and heating in the chromosphere. Additionally, the recombination times of ionised hydrogen are longer than the dynamical timescales, requiring a non-equilibrium (NE) treatment of hydrogen ionisation. The MURaM code is extended to include the physical process required for accurate simulation of the solar chromosphere, as implemented in the Bifrost code. This includes a time-dependent treatment of hydrogen ionisation, a scattering multi-group radiation transfer scheme and approximations for NLTE radiative cooling. The inclusion of NE and NLTE physics has a large impact on the structure of the chromosphere; the NE treatment of hydrogen ionisation leads to a higher ionisation fraction and enhanced populations in the first excited state throughout cold inter-shock regions of the chromosphere. Additionally this prevents hydrogen ioniation from buffering energy fluctuations, leading to hotter shocks and cooler inter-shock regions. The hydrogen populations in the ground and first excited state are enhanced by $10^2-10^3$ in the upper chromosphere and up to $10^9$ near the transition region. Including the necessary NLTE physics leads to significant differences in chromospheric structure and dynamics. The thermodynamics and hydrogen populations calculated using the extended version of the MURaM code are consistent with previous non-equilibrium simulations. The electron number and temperature calculated using the non-equilibrium treatment of the chromosphere are required to accurately synthesise chromospheric spectral lines. |\n",
       "|<p style=\"color:green\"> **ERROR** </p>| <p style=\"color:green\">affiliation error: mpia.affiliation_verifications: 'Heidelberg' keyword not found.</p> |"
      ],
      "text/plain": [
       "<IPython.core.display.Markdown object>"
      ]
     },
     "metadata": {},
     "output_type": "display_data"
    },
    {
     "data": {
      "text/markdown": [
       "\n",
       "|||\n",
       "|---:|:---|\n",
       "| [![arXiv](https://img.shields.io/badge/arXiv-arXiv:2204.03152-b31b1b.svg)](https://arxiv.org/abs/arXiv:2204.03152) | **The FAST Ultra-Deep Survey (FUDS): observational strategy, calibration  and data reduction**  |\n",
       "|| Hongwei Xi, et al. -- incl., <mark>Lister Staveley-Smith</mark> |\n",
       "|*Comments*| *17 pages, 19 figures, 6 tables, accepted for publication in PASA*|\n",
       "|**Abstract**| The FAST Ultra-Deep Survey (FUDS) is a blind survey that aims for the direct detection of HI in galaxies at redshifts $z<0.42$. The survey uses the multibeam receiver on the Five Hundred Meter Aperture Spherical Telescope (FAST) to map six regions, each of size 0.72 deg$^2$ at high sensitivity ($\\sim 50 \\mu$Jy) and high frequency resolution (23 kHz). The survey will enable studies of the evolution of galaxies and their HI content with an eventual sample size of $\\sim 1000$. We present the science goals, observing strategy, the effects of radio frequency interference (RFI) at the FAST site, our mitigation strategies and the methods for calibration, data reduction and imaging as applied to initial data. The observations and reductions for the first field, FUDS0, are completed, with around 128 HI galaxies detected in a preliminary analysis. Example spectra are given in this paper, including a comparison with data from the overlapping GAL2577 field of Arecibo Ultra-Deep Survey (AUDS). |\n",
       "|<p style=\"color:green\"> **ERROR** </p>| <p style=\"color:green\">affiliation error: mpia.affiliation_verifications: 'Heidelberg' keyword not found.</p> |"
      ],
      "text/plain": [
       "<IPython.core.display.Markdown object>"
      ]
     },
     "metadata": {},
     "output_type": "display_data"
    },
    {
     "data": {
      "text/markdown": [
       "\n",
       "|||\n",
       "|---:|:---|\n",
       "| [![arXiv](https://img.shields.io/badge/arXiv-arXiv:2204.03180-b31b1b.svg)](https://arxiv.org/abs/arXiv:2204.03180) | **Discovery of Nine Super Li-rich Unevolved Stars from the LAMOST Survey**  |\n",
       "|| T.-S. Yan, et al. -- incl., <mark>X.-J. Xie</mark> |\n",
       "|*Comments*| *10 pages, 3 figures*|\n",
       "|**Abstract**| Based on the Large Sky Area Multi-Object Fiber Spectroscopic Telescope (LAMOST) medium-resolution spectroscopic survey (MRS), we report the discovery of nine super Li-rich unevolved stars with A(Li) $>$ 3.8 dex. These objects show unusually high levels of lithium abundances up to three times higher than the meteoritic value of 3.3 dex, which indicates that they must have experienced a history of lithium enrichment. It is found that seven of our program stars are fast rotators with $vsini>9$ km\\,s$^{-1}$, which suggests that the accretion of circumstellar matter may be the main contributor to the lithium enhancement of these unevolved stars, however, other sources cannot be excluded. |\n",
       "|<p style=\"color:green\"> **ERROR** </p>| <p style=\"color:green\">affiliation error: mpia.affiliation_verifications: 'Heidelberg' keyword not found.</p> |"
      ],
      "text/plain": [
       "<IPython.core.display.Markdown object>"
      ]
     },
     "metadata": {},
     "output_type": "display_data"
    },
    {
     "data": {
      "text/markdown": [
       "\n",
       "|||\n",
       "|---:|:---|\n",
       "| [![arXiv](https://img.shields.io/badge/arXiv-arXiv:2204.03185-b31b1b.svg)](https://arxiv.org/abs/arXiv:2204.03185) | **The Eel Pulsar Wind Nebula: a PeVatron-Candidate Origin for HAWC  J1826-128 and HESS J1826-130**  |\n",
       "|| Daniel A. Burgess, et al. -- incl., <mark>Joseph D. Gelfand</mark> |\n",
       "|*Comments*| *19 pages, 12 figures*|\n",
       "|**Abstract**| HAWC J1826-128 is one of the brightest Galactic TeV gamma-ray sources detected by the High Altitude Water Cherenkov (HAWC) Observatory, with photon energies extending up to nearly $\\sim$100 TeV. This HAWC source spatially coincides with the H.E.S.S. TeV source HESS J1826-130 and the \"Eel\" pulsar wind nebula (PWN), which is associated with the GeV pulsar PSR J1826-1256. In the X-ray band, Chandra and XMM-Newton revealed that the Eel PWN is composed of both a compact nebula ($\\sim$15\") and diffuse X-ray emission ($\\sim$6'$\\times$2') extending away from the pulsar. Our NuSTAR observation detected hard X-ray emission from the compact PWN up to $\\sim$20 keV and evidence of the synchrotron burn-off effect. In addition to the spatial coincidence between HESS J1826-130 and the diffuse X-ray PWN, our multi-wavelength spectral energy distribution (SED) analysis using X-ray and gamma-ray data establishes a leptonic origin of the TeV emission associated with the Eel PWN. Furthermore, our evolutionary PWN SED model suggests (1) a low PWN B-field of $\\sim$1 $\\mu$G, (2) a significantly younger pulsar age ($t \\sim5.7$ kyr) than the characteristic age ($\\tau= 14.4$ kyr) and (3) a maximum electron energy of $E_{max} = 2$ PeV. The low B-field as well as the putative supersonic motion of the pulsar may account for the asymmetric morphology of the diffuse X-ray emission. Our results suggest that the Eel PWN may be a leptonic PeVatron particle accelerator powered by the $\\sim$6-kyr-old pulsar PSR J1826-1256 with a spin-down power of $3.6 \\times 10^{36}$ erg s$^{-1}$. |\n",
       "|<p style=\"color:green\"> **ERROR** </p>| <p style=\"color:green\">affiliation error: mpia.affiliation_verifications: 'Heidelberg' keyword not found.</p> |"
      ],
      "text/plain": [
       "<IPython.core.display.Markdown object>"
      ]
     },
     "metadata": {},
     "output_type": "display_data"
    },
    {
     "data": {
      "text/markdown": [
       "\n",
       "|||\n",
       "|---:|:---|\n",
       "| [![arXiv](https://img.shields.io/badge/arXiv-arXiv:2204.03210-b31b1b.svg)](https://arxiv.org/abs/arXiv:2204.03210) | **Early Evolution of a Newborn Magnetar with Strong Precession Motion in  GRB 180620A**  |\n",
       "|| Le Zou, <mark>En-Wei Liang</mark> |\n",
       "|*Comments*| *5 pages, 3 figures, accepted for publication in MNRAS Letters*|\n",
       "|**Abstract**| The observed early X-ray plateau in the afterglow lightcurves of some gamma-ray bursts (GRBs) is attributed to the dipole radiations (DRs) of a newborn magnetar. A quasi-periodic oscillation (QPO) signal in the plateau would be strong evidence of the magnetar precession motion. By making a time-frequency domain analysis for the X-ray afterglow lightcurve of GRB 180620A, we find a QPO signal of $\\sim650$ seconds in its early X-ray plateau. We fit the lightcurve with a magnetar precession model by adopting the Markov chain Monte Carlo algorithm. The observed lightcurve and the QPO signal are well represented with our model. The derived magnetic field strength of the magnetar is $B_{\\rm p}= (1.02^{+0.59}_{-0.61})\\times10^{15}$~G. It rapidly spins down with angular velocity evolving as $\\Omega_{s} \\propto(1+t/\\tau_{\\rm sd})^{-0.96}$, where $\\tau_{\\rm sd}=9430$~s. Its precession velocity evolution is even faster than $\\Omega_s$, i.e. $\\Omega_{ p}\\propto (1+t/\\tau_{p})^{-2.18\\pm0.11}$, where $\\tau_{p}=2239\\pm206$~s. The inferred braking index is $n=2.04$. We argue that the extra energy loss via the magnetospheric processes results in its rapid spin-down, a low braking index of the magnetar, and the strong precession motion. |\n",
       "|<p style=\"color:green\"> **ERROR** </p>| <p style=\"color:green\">affiliation error: mpia.affiliation_verifications: 'Heidelberg' keyword not found.</p> |"
      ],
      "text/plain": [
       "<IPython.core.display.Markdown object>"
      ]
     },
     "metadata": {},
     "output_type": "display_data"
    },
    {
     "data": {
      "text/markdown": [
       "\n",
       "|||\n",
       "|---:|:---|\n",
       "| [![arXiv](https://img.shields.io/badge/arXiv-arXiv:2204.03265-b31b1b.svg)](https://arxiv.org/abs/arXiv:2204.03265) | **The OmegaWhite Survey for Short-Period Variable Stars VII: High  amplitude, short period blue variables**  |\n",
       "|| G. Ramsay, et al. -- incl., <mark>U. Heber</mark> |\n",
       "|*Comments*| *Accepted by MNRAS*|\n",
       "|**Abstract**| Blue Large Amplitude Pulsators (BLAPs) are a relatively new class of blue variable stars showing periodic variations in their light curves with periods shorter than a few tens of mins and amplitudes of more than ten percent. We report nine blue variable stars identified in the OmegaWhite survey conducted using ESO's VST, which show a periodic modulation in the range 7-37 min and an amplitude in the range 0.11-0.28 mag. We have obtained a series of followup photometric and spectroscopic observations made primarily using SALT and telescopes at SAAO. We find four stars which we identify as BLAPs, one of which was previously known. One star, OW J0820--3301, appears to be a member of the V361 Hya class of pulsating stars and is spatially close to an extended nebula. One further star, OW J1819--2729, has characteristics similar to the sdAV pulsators. In contrast, OW J0815--3421 is a binary star containing an sdB and a white dwarf with an orbital period of 73.7 min, making it only one of six white dwarf-sdB binaries with an orbital period shorter than 80 min. Finally, high cadence photometry of four of the candidate BLAPs show features which we compare with notch-like features seen in the much longer period Cepheid pulsators. |\n",
       "|<p style=\"color:green\"> **ERROR** </p>| <p style=\"color:green\">affiliation error: mpia.affiliation_verifications: 'Heidelberg' keyword not found.</p> |"
      ],
      "text/plain": [
       "<IPython.core.display.Markdown object>"
      ]
     },
     "metadata": {},
     "output_type": "display_data"
    },
    {
     "data": {
      "text/markdown": [
       "\n",
       "|||\n",
       "|---:|:---|\n",
       "| [![arXiv](https://img.shields.io/badge/arXiv-arXiv:2204.03327-b31b1b.svg)](https://arxiv.org/abs/arXiv:2204.03327) | **Constraints on TESS albedos for five hot Jupiters**  |\n",
       "|| Martin Blažek, et al. -- incl., <mark>Henri M. J. Boffin</mark>, <mark>Sergio Hoyer</mark> |\n",
       "|*Comments*| *21 pages, 7 figures*|\n",
       "|**Abstract**| Photometric observations of occultations of transiting exoplanets can place important constraints on the thermal emission and albedos of their atmospheres. We analyse photometric measurements and derive geometric albedo ($A_\\mathrm{g}$) constraints for five hot Jupiters observed with TESS in the optical: WASP-18 b, WASP-36 b, WASP-43 b, WASP-50 b and WASP-51 b. For WASP-43 b, our results are complemented by a VLT/HAWK-I observation in the near-infrared at $2.09~\\mu$m. We derive the first geometric albedo constraints for WASP-50 b and WASP-51 b: $A_\\mathrm{g}<0.445$ and $A_\\mathrm{g}<0.368$, respectively. We find that WASP-43 b and WASP-18 b are both consistent with low geometric albedos ($A_\\mathrm{g}<0.16$) even though they lie at opposite ends of the hot Jupiter temperature range with equilibrium temperatures of $\\sim1400$ K and $\\sim2500$ K, respectively. We report self-consistent atmospheric models which explain broadband observations for both planets from TESS, \\HST, \\Spitzer and VLT/HAWK-I. We find that the data of both hot Jupiters can be explained by thermal emission alone and inefficient day-night energy redistribution. The data do not require optical scattering from clouds/hazes, consistent with the low geometric albedos observed. |\n",
       "|<p style=\"color:green\"> **ERROR** </p>| <p style=\"color:green\">affiliation error: mpia.affiliation_verifications: 'Heidelberg' keyword not found.</p> |"
      ],
      "text/plain": [
       "<IPython.core.display.Markdown object>"
      ]
     },
     "metadata": {},
     "output_type": "display_data"
    },
    {
     "data": {
      "text/markdown": [
       "\n",
       "|||\n",
       "|---:|:---|\n",
       "| [![arXiv](https://img.shields.io/badge/arXiv-arXiv:2204.03358-b31b1b.svg)](https://arxiv.org/abs/arXiv:2204.03358) | **Ultracool dwarfs identified using spectra in LAMOST DR7**  |\n",
       "|| You-Fen Wang, et al. -- incl., <mark>Shuo Zhang</mark>, <mark>Zhong-Rui Bai</mark> |\n",
       "|*Comments*| *13 pages, 11 figures, published in A&A, Volume 660. A38 (2022)*|\n",
       "|**Abstract**| In this work, we identify 734 ultracool dwarfs with a spectral type of M6 or later, including one L0. Of this sample, 625 were studied spectroscopically for the first time. All of these ultracool dwarfs are within 360~pc, with a \\textit{Gaia} G magnitude brighter than ~19.2 mag. By studying the spectra and checking their stellar parameters (Teff, logg, and [FeH] derived with the LAMOST pipeline, we found their cool red nature and their metallicity to be consistent with the nature of Galactic thin-disk objects. Furthermore, 77 of them show lithium absorption lines at 6708A, further indicating their young ages and substellar nature. Kinematics obtained through LAMOST radial velocities, along with the proper motion and parallax data from Gaia EDR3, also suggest that the majority of our targets are thin-disk objects. Kinematic ages were estimated through the relationship between the velocity dispersion and the average age for a certain population. Moreover, we identified 35 binaries, with 6 of them reported as binaries for the first time. |\n",
       "|<p style=\"color:green\"> **ERROR** </p>| <p style=\"color:green\">affiliation error: mpia.affiliation_verifications: 'Heidelberg' keyword not found.</p> |"
      ],
      "text/plain": [
       "<IPython.core.display.Markdown object>"
      ]
     },
     "metadata": {},
     "output_type": "display_data"
    },
    {
     "data": {
      "text/markdown": [
       "\n",
       "|||\n",
       "|---:|:---|\n",
       "| [![arXiv](https://img.shields.io/badge/arXiv-arXiv:2204.03423-b31b1b.svg)](https://arxiv.org/abs/arXiv:2204.03423) | **The last three years: multiband gravitational-wave observations of  stellar-mass binary black holes**  |\n",
       "|| <mark>Antoine Klein</mark>, et al. -- incl., <mark>Natalie Williams</mark> |\n",
       "|*Comments*| *21 pages, 13 figures (including supplementary material)*|\n",
       "|**Abstract**| Understanding the formation and evolution of the stellar-mass binary black holes discovered by LIGO and Virgo is a challenge that spans many areas of astrophysics, from stellar evolution, dynamics and accretion disks, to possible exotic early universe processes. Over the final years of their lives, stellar-mass binaries radiate gravitational waves that are first observable by space-based detectors (such as LISA) and then ground-based instruments (such as LIGO, Virgo and the next generation observatories Cosmic Explorer and the Einstein Telescope). Using state-of-the-art waveform models and parameter-estimation pipelines for both ground- and space-based observations, we show that (the expected handful of) these multiband observations will allow at least percent-level measurements of all 17 parameters that describe the binary, the possible identification of a likely host galaxy, and the forewarning of the merger days in advance allowing telescopes at multiple wavelengths to search for any electromagnetic signature associated to it. Multiband sources will therefore be a gold mine for astrophysics, but we also show that they are less useful as laboratories for fundamental tests of general relativity than has been previously suggested. |\n",
       "|<p style=\"color:green\"> **ERROR** </p>| <p style=\"color:green\">affiliation error: mpia.affiliation_verifications: 'Heidelberg' keyword not found.</p> |"
      ],
      "text/plain": [
       "<IPython.core.display.Markdown object>"
      ]
     },
     "metadata": {},
     "output_type": "display_data"
    },
    {
     "data": {
      "text/markdown": [
       "\n",
       "|||\n",
       "|---:|:---|\n",
       "| [![arXiv](https://img.shields.io/badge/arXiv-arXiv:2204.03457-b31b1b.svg)](https://arxiv.org/abs/arXiv:2204.03457) | **Validation and interpretation of three-dimensional configuration of a  magnetic cloud flux rope**  |\n",
       "|| Qiang Hu, et al. -- incl., <mark>Wen He</mark> |\n",
       "|*Comments*| *Submitted to ApJ*|\n",
       "|**Abstract**| One \"strong\" magnetic cloud (MC) with the magnetic field magnitude reaching $\\sim$ 40 nT at 1 au during 2012 June 16-17 is examined in association with a pre-existing magnetic flux rope (MFR) identified on the Sun. The MC is characterized by a quasi-three dimensional (3D) flux rope model based on in situ measurements from the Wind spacecraft. The magnetic flux contents and other parameters are quantified. In addition, a correlative study with the corresponding measurements of the same structure crossed by the Venus Express (VEX) spacecraft at a heliocentric distance 0.7 au and with an angular separation $\\sim 6^\\circ$ in longitude is performed to validate the MC modeling results. The spatial variation between the Wind and VEX magnetic field measurements is attributed to the 3D configuration of the structure as featured by a knotted bundle of flux. The comparison of the magnetic flux contents between the MC and the source region on the Sun indicates that the 3D reconnection process accompanying an M1.9 flare may correspond to the magnetic reconnection between the field lines of the pre-existing MFR rooted in the opposite polarity footpoints. Such a process reduces the amount of the axial magnetic flux in the erupted flux rope, by approximately 50\\%, in this case. |\n",
       "|<p style=\"color:green\"> **ERROR** </p>| <p style=\"color:green\">affiliation error: mpia.affiliation_verifications: 'Heidelberg' keyword not found.</p> |"
      ],
      "text/plain": [
       "<IPython.core.display.Markdown object>"
      ]
     },
     "metadata": {},
     "output_type": "display_data"
    },
    {
     "data": {
      "text/markdown": [
       "\n",
       "|||\n",
       "|---:|:---|\n",
       "| [![arXiv](https://img.shields.io/badge/arXiv-arXiv:2204.03108-b31b1b.svg)](https://arxiv.org/abs/arXiv:2204.03108) | **A close-in puffy Neptune with hidden friends: The enigma of TOI 620**  |\n",
       "|| Michael A. Reefe, et al. -- incl., <mark>Fred Hearty</mark> |\n",
       "|*Comments*| *64 pages, 34 figures, 22 tables. Accepted for publication in the Astronomical Journal*|\n",
       "|**Abstract**| We present the validation of a transiting low-density exoplanet orbiting the M2.5 dwarf TOI 620 discovered by the NASA TESS mission. We utilize photometric data from both TESS and ground-based follow-up observations to validate the ephemerides of the 5.09-day transiting signal and vet false positive scenarios. High-contrast imaging data are used to resolve the stellar host and exclude stellar companions at separations $\\gtrsim 0.2''$. We obtain follow-up spectroscopy and corresponding precise radial velocities (RVs) with multiple PRV spectrographs to confirm the planetary nature of the transiting exoplanet. We calculate a 5$\\sigma$ upper limit of $M_P < 7.1$ M$_\\oplus$ and $\\rho_P < 0.74$ g cm$^{-3}$, and we identify a non-transiting 17.7-day candidate. We also find evidence for a substellar (1-20 M$_{\\rm J}$) companion with a projected separation $\\lesssim 20$ au from a combined analysis of Gaia, AO imaging, and RVs. With the discovery of this outer companion, we carry out a detailed exploration of the possibilities that TOI 620 b might instead be a circum-secondary planet or a pair of eclipsing binary stars orbiting the host in a hierarchical triple system. We find, under scrutiny, that we can exclude both of these scenarios from the multi-wavelength transit photometry, thus validating TOI 620 b as a low-density exoplanet transiting the central star in this system. The low density of TOI 620 b makes it one of the most amenable exoplanets for atmospheric characterization, such as with JWST and Ariel, validated or confirmed by the TESS mission to date. |\n",
       "|<p style=\"color:green\"> **ERROR** </p>| <p style=\"color:green\">affiliation error: mpia.affiliation_verifications: 'Planck' keyword not found.</p> |"
      ],
      "text/plain": [
       "<IPython.core.display.Markdown object>"
      ]
     },
     "metadata": {},
     "output_type": "display_data"
    },
    {
     "data": {
      "text/markdown": [
       "\n",
       "|||\n",
       "|---:|:---|\n",
       "| [![arXiv](https://img.shields.io/badge/arXiv-arXiv:2204.03269-b31b1b.svg)](https://arxiv.org/abs/arXiv:2204.03269) | **Free-Floating Planets, the Einstein Desert, and 'Oumuamua**  |\n",
       "|| <mark>Andrew Gould</mark>, et al. -- incl., <mark>Seung-Lee Kim</mark>, <mark>Chung-Uk Lee</mark>, <mark>Dong-Joo Lee</mark>, <mark>Yongseok Lee</mark> |\n",
       "|*Comments*| *20 pages, 9 Figures, submitted to JKAS*|\n",
       "|**Abstract**| We complete the survey for finite-source/point-lens (FSPL) giant-source events in 2016-2019 KMTNet microlensing data. The 30 FSPL events show a clear gap in Einstein radius, $9\\,\\mu{\\rm as}<\\theta_{\\rm E} <26\\,\\mu{\\rm as}$, which is consistent with the gap in Einstein timescales near $t_{\\rm E}\\sim 0.5\\,$days found by Mroz et al. (2017) in an independent sample of point-source/point-lens (PSPL) events. We demonstrate that the two surveys are consistent. We estimate that the 4 events below this gap are due to a power-law distribution of free-floating planet candidates (FFPs) $dN_{\\rm FFP}/d\\log M = (0.4\\pm 0.2)\\,(M/38 M_\\oplus)^{-p}$/star, with $0.9\\lesssim p \\lesssim 1.2$. There are substantially more FFPs than known bound planets, implying that the bound planet power-law index $\\gamma=0.6$ is likely shaped by the ejection process at least as much as by formation. The mass density per decade of FFPs in the Solar neighborhood is of the same order as that of 'Oumuamua-like objects. In particular, if we assume that 'Oumuamua is part of the same process that ejected the FFPs to very wide or unbound orbits, the power-law index is $p=0.92\\pm 0.06$. If the Solar System's endowment of Neptune-mass objects in Neptune-like orbits is typical, which is consistent with the results of Poleski et al. (2021), then these could account for a substantial fraction of the FFPs in the Neptune-mass range. |\n",
       "|<p style=\"color:red\"> **ERROR** </p>| <p style=\"color:red\">latex error [Errno 2] No such file or directory: 'gs'</p> |"
      ],
      "text/plain": [
       "<IPython.core.display.Markdown object>"
      ]
     },
     "metadata": {},
     "output_type": "display_data"
    }
   ],
   "source": [
    "import datetime\n",
    "today = str(datetime.date.today())\n",
    "logfile = f\"_build/html/logs/log-{today}.md\"\n",
    "\n",
    "\n",
    "with open(logfile, 'w') as logs:\n",
    "    # Success\n",
    "    logs.write(f'# Arxiv on Deck 2: Logs - {today}\\n\\n')\n",
    "    logs.write(\"\"\"* Arxiv had {0:,d} new papers\\n\"\"\".format(len(new_papers)))\n",
    "    logs.write(\"\"\"    * {0:,d} with possible author matches\\n\\n\"\"\".format(len(candidates)))\n",
    "    logs.write(\"## Sucessful papers\\n\\n\")\n",
    "    display(Markdown(\"## Successful papers\"))\n",
    "    success = [k[0] for k in documents]\n",
    "    for candid in candidates:\n",
    "        if candid['identifier'].split(':')[-1] in success:\n",
    "            display(candid)\n",
    "            logs.write(candid.generate_markdown_text() + '\\n\\n')\n",
    "\n",
    "    ## failed\n",
    "    logs.write(\"## Failed papers\\n\\n\")\n",
    "    display(Markdown(\"## Failed papers\"))\n",
    "    failed = sorted(failed, key=lambda x: x[1])\n",
    "    current_reason = \"\"\n",
    "    for paper, reason in failed:\n",
    "        if 'affiliation' in reason:\n",
    "            color = 'green'\n",
    "        else:\n",
    "            color = 'red'\n",
    "        data = Markdown(\n",
    "                paper.generate_markdown_text() + \n",
    "                f'\\n|<p style=\"color:{color:s}\"> **ERROR** </p>| <p style=\"color:{color:s}\">{reason:s}</p> |'\n",
    "               )\n",
    "        if reason != current_reason:\n",
    "            logs.write(f'### {reason:s} \\n\\n')\n",
    "            current_reason = reason\n",
    "        logs.write(data.data + '\\n\\n')\n",
    "        \n",
    "        # only display here the important errors (all in logs)\n",
    "        # if color in ('red',):\n",
    "        display(data)"
   ]
  },
  {
   "cell_type": "markdown",
   "id": "472d20ee",
   "metadata": {
    "papermill": {
     "duration": 0.009713,
     "end_time": "2022-04-08T10:00:58.954262",
     "exception": false,
     "start_time": "2022-04-08T10:00:58.944549",
     "status": "completed"
    },
    "tags": []
   },
   "source": [
    "## Export documents\n",
    "\n",
    "We now write the .md files and export relevant images"
   ]
  },
  {
   "cell_type": "code",
   "execution_count": 7,
   "id": "d426aed9",
   "metadata": {
    "execution": {
     "iopub.execute_input": "2022-04-08T10:00:58.975134Z",
     "iopub.status.busy": "2022-04-08T10:00:58.974699Z",
     "iopub.status.idle": "2022-04-08T10:00:58.982537Z",
     "shell.execute_reply": "2022-04-08T10:00:58.981953Z"
    },
    "papermill": {
     "duration": 0.019931,
     "end_time": "2022-04-08T10:00:58.983947",
     "exception": false,
     "start_time": "2022-04-08T10:00:58.964016",
     "status": "completed"
    },
    "tags": []
   },
   "outputs": [],
   "source": [
    "def export_markdown_summary(md: str, md_fname:str, directory: str):\n",
    "    \"\"\"Export MD document and associated relevant images\"\"\"\n",
    "    import os\n",
    "    import shutil\n",
    "    import re\n",
    "\n",
    "    if (os.path.exists(directory) and not os.path.isdir(directory)):\n",
    "        raise RuntimeError(f\"a non-directory file exists with name {directory:s}\")\n",
    "\n",
    "    if (not os.path.exists(directory)):\n",
    "        print(f\"creating directory {directory:s}\")\n",
    "        os.mkdir(directory)\n",
    "\n",
    "    fig_fnames = (re.compile(r'\\[Fig.*\\]\\((.*)\\)').findall(md) + \n",
    "                  re.compile(r'\\<img src=\"([^>\\s]*)\"[^>]*/>').findall(md))\n",
    "    for fname in fig_fnames:\n",
    "        if 'http' in fname:\n",
    "            # No need to copy online figures\n",
    "            continue\n",
    "        destdir = os.path.join(directory, os.path.dirname(fname))\n",
    "        destfname = os.path.join(destdir, os.path.basename(fname))\n",
    "        try:\n",
    "            os.makedirs(destdir)\n",
    "        except FileExistsError:\n",
    "            pass\n",
    "        shutil.copy(fname, destfname)\n",
    "    with open(os.path.join(directory, md_fname), 'w') as fout:\n",
    "        fout.write(md)\n",
    "    print(\"exported in \", os.path.join(directory, md_fname))\n",
    "    [print(\"    + \" + os.path.join(directory,fk)) for fk in fig_fnames]"
   ]
  },
  {
   "cell_type": "code",
   "execution_count": 8,
   "id": "014d04a4",
   "metadata": {
    "execution": {
     "iopub.execute_input": "2022-04-08T10:00:59.004975Z",
     "iopub.status.busy": "2022-04-08T10:00:59.004403Z",
     "iopub.status.idle": "2022-04-08T10:00:59.013220Z",
     "shell.execute_reply": "2022-04-08T10:00:59.012557Z"
    },
    "papermill": {
     "duration": 0.020674,
     "end_time": "2022-04-08T10:00:59.014503",
     "exception": false,
     "start_time": "2022-04-08T10:00:58.993829",
     "status": "completed"
    },
    "tags": []
   },
   "outputs": [
    {
     "name": "stdout",
     "output_type": "stream",
     "text": [
      "exported in  _build/html/2204.02998.md\n",
      "    + _build/html/tmp_2204.02998/./figures/gj367_nic2_naco.png\n",
      "    + _build/html/tmp_2204.02998/./figures/Mdwarfs_iso_GAIA.png\n",
      "    + _build/html/tmp_2204.02998/./figures/gj367_2mass_iso.png\n",
      "    + _build/html/tmp_2204.02998/./figures/gj367_radial_contrast.png\n",
      "exported in  _build/html/2204.03253.md\n",
      "    + _build/html/tmp_2204.03253/./FigHXMT_ME_lcfit4.png\n",
      "    + _build/html/tmp_2204.03253/./sin_nois_lc.png\n",
      "    + _build/html/tmp_2204.03253/./Figall_LRT.png\n",
      "exported in  _build/html/2204.03335.md\n",
      "    + _build/html/tmp_2204.03335/./figs/line_ratio_blueshift.png\n",
      "    + _build/html/tmp_2204.03335/./figs/CIV_Blueshift_EW.png\n",
      "    + _build/html/tmp_2204.03335/./figs/line_ratio_Lbol.png\n",
      "    + _build/html/tmp_2204.03335/./figs/line_ratio_Mbh.png\n"
     ]
    }
   ],
   "source": [
    "for paper_id, md in documents:\n",
    "    export_markdown_summary(md, f\"{paper_id:s}.md\", '_build/html/')"
   ]
  },
  {
   "cell_type": "markdown",
   "id": "f087a0a7",
   "metadata": {
    "papermill": {
     "duration": 0.009826,
     "end_time": "2022-04-08T10:00:59.034163",
     "exception": false,
     "start_time": "2022-04-08T10:00:59.024337",
     "status": "completed"
    },
    "tags": []
   },
   "source": [
    "## Display the papers\n",
    "\n",
    "Not necessary but allows for a quick check."
   ]
  },
  {
   "cell_type": "code",
   "execution_count": 9,
   "id": "fd25f625",
   "metadata": {
    "execution": {
     "iopub.execute_input": "2022-04-08T10:00:59.055276Z",
     "iopub.status.busy": "2022-04-08T10:00:59.054915Z",
     "iopub.status.idle": "2022-04-08T10:00:59.062056Z",
     "shell.execute_reply": "2022-04-08T10:00:59.061503Z"
    },
    "papermill": {
     "duration": 0.019354,
     "end_time": "2022-04-08T10:00:59.063367",
     "exception": false,
     "start_time": "2022-04-08T10:00:59.044013",
     "status": "completed"
    },
    "scrolled": false,
    "tags": []
   },
   "outputs": [
    {
     "data": {
      "text/markdown": [
       "<div class=\"macros\" style=\"visibility:hidden;\">\n",
       "$\\newcommand{\\ensuremath}{}$\n",
       "$\\newcommand{\\xspace}{}$\n",
       "$\\newcommand{\\object}[1]{\\texttt{#1}}$\n",
       "$\\newcommand{\\farcs}{{.}''}$\n",
       "$\\newcommand{\\farcm}{{.}'}$\n",
       "$\\newcommand{\\arcsec}{''}$\n",
       "$\\newcommand{\\arcmin}{'}$\n",
       "$\\newcommand{\\ion}[2]{#1#2}$\n",
       "$\\newcommand{\\textsc}[1]{\\textrm{#1}}$\n",
       "$\\newcommand{\\hl}[1]{\\textrm{#1}}$\n",
       "$\\newcommand{\\thebibliography}{\\DeclareRobustCommand{\\VAN}[3]{##3}\\VANthebibliography}$</div>\n",
       "\n",
       "<div class=\"macros\" style=\"visibility:hidden;\">\n",
       "$\\newcommand{$\\ensuremath$}{}$\n",
       "$\\newcommand{$\\xspace$}{}$\n",
       "$\\newcommand{$\\object$}[1]{\\texttt{#1}}$\n",
       "$\\newcommand{$\\farcs$}{{.}''}$\n",
       "$\\newcommand{$\\farcm$}{{.}'}$\n",
       "$\\newcommand{$\\arcsec$}{''}$\n",
       "$\\newcommand{$\\arcmin$}{'}$\n",
       "$\\newcommand{$\\ion$}[2]{#1#2}$\n",
       "$\\newcommand{$\\textsc$}[1]{\\textrm{#1}}$\n",
       "$\\newcommand{$\\hl$}[1]{\\textrm{#1}}$\n",
       "$\\newcommand{$\\thebibliography$}{\\DeclareRobustCommand{\\VAN}[3]{##3}\\VANthebibliography}$</div>\n",
       "\n",
       "\n",
       "\n",
       "<div id=\"title\">\n",
       "\n",
       "# High-contrast, high-angular resolution view of the GJ 367 exoplanet system\n",
       "\n",
       "</div>\n",
       "<div id=\"comments\">\n",
       "\n",
       "[![arXiv](https://img.shields.io/badge/arXiv-2204.02998-b31b1b.svg)](https://arxiv.org/abs/2204.02998) _9 pages, 8 figures, accepted by MNRAS_\n",
       "\n",
       "</div>\n",
       "<div id=\"authors\">\n",
       "\n",
       "Wolfgang Brandner, Per Calissendorff, <mark><mark>Neige Frankel</mark></mark>, Faustine Cantalloube\n",
       "\n",
       "</div>\n",
       "<div id=\"abstract\">\n",
       "\n",
       "**Abstract:** We search for additional companions in the GJ 367 exoplanet system, and aim at better constraining its age and evolutionary status.We analyse high contrast direct imaging observations obtained with HST/NICMOS, VLT/NACO, and VLT/SPHERE. We investigate and critically discuss conflicting age indicators based on theoretical isochrones and models for Galactic dynamics.A comparison of GAIA EDR3 parallax and photometric measurements with theoretical isochrones suggest a young age$\\le$60 Myr for GJ 367. The star's Galactic kinematics exclude membership to any nearby young moving group or stellar stream. Its highly eccentric Galactic orbit, however, is atypical for a young star. Age estimates considering Galactic dynamical evolution are most consistent with an age of 1 to 8 Gyr. We find no evidence for a significant mid-infrared excess in the WISE bands, suggesting the absence of warm dust in the GJ 367 system.The direct imaging data provide significantly improved detection limits compared to previous studies. At 530 mas (5 au) separation, the SPHERE data achieve a 5 sigma contrast of$2.6 \\times 10^{-6}$. The data exclude the presence of a stellar companion at projected separations$\\ge$0.4 au. At projected separations$\\ge$5 au we can exclude substellar companions with a mass$\\ge$1.5 M$_{\\rm Jup}$for an age of 50 Myr, and$\\ge$20 M$_{\\rm Jup}$for an age of 5 Gyr.By applying the stellar parameters corresponding to the 50 Myr isochrone, we derive a bulk density of$\\rho_{\\rm planet} = 6.2$g/cm$^3$for GJ 367 b, which is 25\\%smaller than a previous estimate.\n",
       "\n",
       "</div>\n",
       "\n",
       "<div id=\"div_fig1\">\n",
       "\n",
       "<img src=\"tmp_2204.02998/./figures/gj367_nic2_naco.png\" alt=\"Fig5\" width=\"100%\"/>\n",
       "\n",
       "**Figure 5. -** Left: HST NIC2 image in F110W centered on GJ 367, with five companion candidates (cc) visible (black circles). The location of residuals originating in NIC2's coronagraphic mask is indicated (white circle). Right: VLT/NACO image in NB175 centered on GJ 367. The lower left insert shows a $4\\times$ zoom-in on an individual 10s frame depicting a side-lope resulting from the low wind effect. The insert on the lower right shows a $4\\times$ zoom-in of the coadded PSF. (*GJ367_NIC2_NACO*)\n",
       "\n",
       "</div>\n",
       "<div id=\"div_fig2\">\n",
       "\n",
       "<img src=\"tmp_2204.02998/./figures/Mdwarfs_iso_GAIA.png\" alt=\"Fig7.1\" width=\"50%\"/><img src=\"tmp_2204.02998/./figures/gj367_2mass_iso.png\" alt=\"Fig7.2\" width=\"50%\"/>\n",
       "\n",
       "**Figure 7. -** Colour-magnitude diagrams for GJ 367 compared of theoretical models by \\cite{Baraffe2015}. The plot on the left shows isochrones in the GAIA photometric systems, with GJ 367 (red symbol) being located below the 50 Myr and above the 80 Myr isochrone. The plot on the right illustrates that isochrones transformed to 2MASS bands do not provide any meaningful constraint on GJ 367's age. The 1 $\\sigma$ error bars in both plots are based on the uncertainties in photometry and parallax. (*GJ367_age_mag*)\n",
       "\n",
       "</div>\n",
       "<div id=\"div_fig3\">\n",
       "\n",
       "<img src=\"tmp_2204.02998/./figures/gj367_radial_contrast.png\" alt=\"Fig1\" width=\"100%\"/>\n",
       "\n",
       "**Figure 1. -** Radial 5 $\\sigma$ contrast achieved with NIC2 in the F180M filter (dash-dotted line, \\cite{Dieterich2012}), and SADI processed SPHERE/IRDIS in the H2/H3-filters (red dashed line) plotted over the projected separation. (*contrast_h2*)\n",
       "\n",
       "</div>"
      ],
      "text/plain": [
       "<IPython.core.display.Markdown object>"
      ]
     },
     "metadata": {},
     "output_type": "display_data"
    },
    {
     "data": {
      "text/markdown": [
       "<div class=\"macros\" style=\"visibility:hidden;\">\n",
       "$\\newcommand{\\ensuremath}{}$\n",
       "$\\newcommand{\\xspace}{}$\n",
       "$\\newcommand{\\object}[1]{\\texttt{#1}}$\n",
       "$\\newcommand{\\farcs}{{.}''}$\n",
       "$\\newcommand{\\farcm}{{.}'}$\n",
       "$\\newcommand{\\arcsec}{''}$\n",
       "$\\newcommand{\\arcmin}{'}$\n",
       "$\\newcommand{\\ion}[2]{#1#2}$\n",
       "$\\newcommand{\\textsc}[1]{\\textrm{#1}}$\n",
       "$\\newcommand{\\hl}[1]{\\textrm{#1}}$\n",
       "$\\newcommand{\\vdag}{(v)^\\dagger}$\n",
       "$\\newcommand$\n",
       "$\\newcommand$\n",
       "$\\newcommand{\\insight}{\\textit{Insight}-HXMT}$\n",
       "$\\newcommand{\\sgr}{\\mbox{SGR~J1935+2154~}}$\n",
       "$\\newcommand{\\sgrnos}{\\mbox{SGR~J1935+2154}}$\n",
       "$\\newcommand{\\modify}[1]{\\textcolor{blue}{\\textbf{#1}}}$</div>\n",
       "\n",
       "<div class=\"macros\" style=\"visibility:hidden;\">\n",
       "$\\newcommand{$\\ensuremath$}{}$\n",
       "$\\newcommand{$\\xspace$}{}$\n",
       "$\\newcommand{$\\object$}[1]{\\texttt{#1}}$\n",
       "$\\newcommand{$\\farcs$}{{.}''}$\n",
       "$\\newcommand{$\\farcm$}{{.}'}$\n",
       "$\\newcommand{$\\arcsec$}{''}$\n",
       "$\\newcommand{$\\arcmin$}{'}$\n",
       "$\\newcommand{$\\ion$}[2]{#1#2}$\n",
       "$\\newcommand{$\\textsc$}[1]{\\textrm{#1}}$\n",
       "$\\newcommand{$\\hl$}[1]{\\textrm{#1}}$\n",
       "$\\newcommand{$\\vdag$}{(v)^\\dagger}$\n",
       "$\\newcommand$\n",
       "$\\newcommand$\n",
       "$\\newcommand{$\\insight$}{\\textit{Insight}-HXMT}$\n",
       "$\\newcommand{$\\sgr$}{\\mbox{SGR~J1935+2154~}}$\n",
       "$\\newcommand{$\\sgr$nos}{\\mbox{SGR~J1935+2154}}$\n",
       "$\\newcommand{$\\modify$}[1]{\\textcolor{blue}{\\textbf{#1}}}$</div>\n",
       "\n",
       "\n",
       "\n",
       "<div id=\"title\">\n",
       "\n",
       "# Quasi-periodic oscillations of the X-ray burst from the magnetar SGR J1935+2154 and associated with the fast radio burst FRB 200428\n",
       "\n",
       "</div>\n",
       "<div id=\"comments\">\n",
       "\n",
       "[![arXiv](https://img.shields.io/badge/arXiv-2204.03253-b31b1b.svg)](https://arxiv.org/abs/2204.03253) _17 pages, 13 figures, accepted for publication by ApJ. arXiv admin note: text overlap with arXiv:1212.1011 by other authors. text overlap with arXiv:1212.1011 by other authors_\n",
       "\n",
       "</div>\n",
       "<div id=\"authors\">\n",
       "\n",
       "Xiaobo Li, et al. -- incl., <mark><mark>Shuang-Nan Zhang</mark></mark>, <mark><mark>Bing Zhang</mark></mark>, <mark><mark>Shu Zhang</mark></mark>, <mark><mark>Binbin Zhang</mark></mark>, <mark><mark>Peng Zhang</mark></mark>, <mark><mark>He Gao</mark></mark>, <mark><mark>Xiaohua Liang</mark></mark>, <mark><mark>Hexin Liu</mark></mark>, <mark><mark>Xiang Ma</mark></mark>, <mark><mark>Liang Sun</mark></mark>, <mark><mark>Lian Tao</mark></mark>\n",
       "\n",
       "</div>\n",
       "<div id=\"abstract\">\n",
       "\n",
       "**Abstract:** The origin(s) and mechanism(s) of fast radio bursts (FRBs), which are short radio pulses from cosmological distances, have remained a major puzzle since their discovery. We report a strong Quasi-Periodic Oscillation (QPO) of$\\sim$40 Hz in the X-ray burst from the magnetar$\\sgr$and associated with FRB 200428, significantly detected with the Hard X-ray Modulation Telescope (\\textit{Insight}-HXMT) and also hinted by the Konus-Wind data. QPOs from magnetar bursts have only been rarely detected; our 3.4$\\sigma$(p-value is 2.9e-4) detection of the QPO reported here reveals the strongest QPO signal observed from magnetars (except in some very rare giant flares), making this X-ray burst unique among magnetar bursts. The two X-ray spikes coinciding with the two FRB pulses are also among the peaks of the QPO. Our results suggest that at least some FRBs are related to strong oscillation processes of neutron stars.We also show that we may overestimate the significance of the QPO signal and underestimate the errors of QPO parameters if QPO exists only in a fraction of the time series of a X-ray burst which we use to calculate the Leahy-normalized periodogram.\n",
       "\n",
       "</div>\n",
       "\n",
       "<div id=\"div_fig1\">\n",
       "\n",
       "<img src=\"tmp_2204.03253/./FigHXMT_ME_lcfit4.png\" alt=\"Fig2\" width=\"100%\"/>\n",
       "\n",
       "**Figure 2. -** \n",
       "Light curve of the X-ray burst in 18--50 keV obtained by $\\insight$  /ME with time resolution of 5 ms. The blue line is the light curve after dead time correction. The green line represents the fit result of the burst profile with three Gaussian functions as given in eq. (\\ref{eq0}). The red line is the fitted oscillation curve with eq. (\\ref{eq2}). The two dashed green lines show the lower and upper envelopes of the amplitude variation of the QPOs described by eq. (\\ref{eq_en}). The two vertical dashed lines denote the times of the two radio pulses of FRB 200428. The inset is the light curve around the burst peak with the solid green line subtracted.\n",
       "\\label{fig_MElconly} (*fig_MElconly*)\n",
       "\n",
       "</div>\n",
       "<div id=\"div_fig2\">\n",
       "\n",
       "<img src=\"tmp_2204.03253/./sin_nois_lc.png\" alt=\"Fig11\" width=\"100%\"/>\n",
       "\n",
       "**Figure 11. -** \n",
       "Simulated light curves with sinusoidal signals and only white noise. {\\bf Upper panel (a):} simulated light curves with 3 seconds of sinusoidal signals of amplitudes 8 and 24, respectively. {\\bf Lower panel (b):} simulated light curves with only white noise with Poisson expectation value of 24 in each time bin.\n",
       "\\label{fig_sin_lc} (*fig_sin_lc*)\n",
       "\n",
       "</div>\n",
       "<div id=\"div_fig3\">\n",
       "\n",
       "<img src=\"tmp_2204.03253/./Figall_LRT.png\" alt=\"Fig8\" width=\"100%\"/>\n",
       "\n",
       "**Figure 8. -** \n",
       "Distributions of likelihood ratio test for 150000, 2000000 and 2000000 simulations of the null hypothesis for 0.32 s (black), 0.64 s (red) and 1.28 s (blue), respectively. The corresponding $H_0$ model is power law, broken power law and broken power law, respectively. The observed values of LRT are indicated as vertical lines. The ratios of the tail area for 0.32 s and 0.64 s are 2.9e-4 and 1e-6, both are indicating that a more complex model including additional Lorentz model may be more appropriate in modeling the periodogram. As for the 1.28 s duration, the tail area is zero and the p-value is an upper limit.\n",
       "\\label{fig_allLRT} (*fig_allLRT*)\n",
       "\n",
       "</div>"
      ],
      "text/plain": [
       "<IPython.core.display.Markdown object>"
      ]
     },
     "metadata": {},
     "output_type": "display_data"
    },
    {
     "data": {
      "text/markdown": [
       "<div class=\"macros\" style=\"visibility:hidden;\">\n",
       "$\\newcommand{\\ensuremath}{}$\n",
       "$\\newcommand{\\xspace}{}$\n",
       "$\\newcommand{\\object}[1]{\\texttt{#1}}$\n",
       "$\\newcommand{\\farcs}{{.}''}$\n",
       "$\\newcommand{\\farcm}{{.}'}$\n",
       "$\\newcommand{\\arcsec}{''}$\n",
       "$\\newcommand{\\arcmin}{'}$\n",
       "$\\newcommand{\\ion}[2]{#1#2}$\n",
       "$\\newcommand{\\textsc}[1]{\\textrm{#1}}$\n",
       "$\\newcommand{\\hl}[1]{\\textrm{#1}}$\n",
       "$\\newcommand{\\hl}$\n",
       "$\\newcommand{\\cii}{C \\textsc{ii}]}$\n",
       "$\\newcommand{\\ciii}{C \\textsc{iii}]}$\n",
       "$\\newcommand{\\mgii}{Mg \\textsc{ii}}$\n",
       "$\\newcommand{\\civ}{C \\textsc{iv}}$\n",
       "$\\newcommand{\\feii}{Fe \\textsc{ii}}$\n",
       "$\\newcommand{\\nv}{N \\textsc{v}}$\n",
       "$\\newcommand{\\niv}{N \\textsc{iv}]}$\n",
       "$\\newcommand{\\siii}{Si \\textsc{ii}}$\n",
       "$\\newcommand{\\siiii}{Si \\textsc{iii}}$\n",
       "$\\newcommand{\\siiv}{Si \\textsc{iv}}$\n",
       "$\\newcommand{\\oiv}{O \\textsc{iv}}$\n",
       "$\\newcommand{\\heii}{He \\textsc{ii}}$\n",
       "$\\newcommand{\\oi}{O \\textsc{i}]}$\n",
       "$\\newcommand{\\oii}{O \\textsc{ii}]}$\n",
       "$\\newcommand{\\oiii}{O \\textsc{iii}]}$\n",
       "$\\newcommand{\\alii}{Al \\textsc{ii}}$\n",
       "$\\newcommand{\\aliii}{Al \\textsc{iii}}$\n",
       "$\\newcommand{\\lya}{Ly \\textsc{\\alpha}}$\n",
       "$\\newcommand{\\ciiil}{C \\textsc{iii}] \\lambda1909}$\n",
       "$\\newcommand{\\mgiil}{Mg \\textsc{ii} \\lambda2799}$\n",
       "$\\newcommand{\\civl}{C \\textsc{iv} \\lambda1549}$\n",
       "$\\newcommand{\\nvl}{N \\textsc{v} \\lambda1240}$\n",
       "$\\newcommand{\\nivl}{N \\textsc{iv}] \\lambda1486}$\n",
       "$\\newcommand{\\siiil}{Si \\textsc{ii} \\lambda1263}$\n",
       "$\\newcommand{\\siiiil}{Si \\textsc{iii} \\lambda1887}$\n",
       "$\\newcommand{\\siivl}{Si \\textsc{iv} \\lambda1398}$\n",
       "$\\newcommand{\\oivl}{O \\textsc{iv} \\lambda1402}$\n",
       "$\\newcommand{\\heiil}{He \\textsc{ii} \\lambda1640}$\n",
       "$\\newcommand{\\oiiil}{O \\textsc{iii}] \\lambda1663}$\n",
       "$\\newcommand{\\aliil}{Al \\textsc{ii} \\lambda1671}$\n",
       "$\\newcommand{\\aliiil}{Al \\textsc{iii} \\lambda1857}$\n",
       "$\\newcommand{\\lyal}{Ly \\textsc{\\alpha} \\lambda1216}$\n",
       "$\\newcommand{\\nvciv}{\\nv/\\civ}$\n",
       "$\\newcommand{\\siivoivciv}{(\\siiv+\\oiv)/\\civ}$\n",
       "$\\newcommand{\\oiiialiiciv}{(\\oiii+\\alii)/\\civ}$\n",
       "$\\newcommand{\\aliiiciv}{\\aliii/\\civ}$\n",
       "$\\newcommand{\\siiiiciv}{\\siiii/\\civ}$\n",
       "$\\newcommand{\\ciiiciv}{\\ciii/\\civ}$\n",
       "$\\newcommand{\\angstrom}{\\mbox{\\normalfont\\AA}}$\n",
       "$\\newcommand{\\orcidChrisO}{\\href{https://orcid.org/0000-0003-0017-349X}{\\orcidicon}}$\n",
       "$\\newcommand{\\orcidChrisW}{\\href{https://orcid.org/0000-0002-4569-016X}{\\orcidicon}}$\n",
       "$\\newcommand{\\orcidSamuel}{\\href{https://orcid.org/0000-0001-9372-4611}{\\orcidicon}}$\n",
       "$\\newcommand{\\orcidFuyan}{\\href{https://orcid.org/0000-0002-1620-0897}{\\orcidicon}}$\n",
       "$\\newcommand{\\orcidChiara}{\\href{https://orcid.org/0000-0002-5941-5214}{\\orcidicon}}$\n",
       "$\\newcommand{\\orcidJT}{\\href{https://orcid.org/0000-0002-4544-8242}{\\orcidicon}}$\n",
       "$\\newcommand{\\orcidOnoue}{\\href{https://orcid.org/0000-0003-2984-6803}{\\orcidicon}}$\n",
       "$\\newcommand{\\orcidValentina}{\\href{https://orcid.org/0000-0003-3693-3091}{\\orcidicon}}$\n",
       "$\\newcommand{\\orcidManuela}{\\href{https://orcid.org/0000-0002-4314-021X}{\\orcidicon}}$\n",
       "$\\newcommand{\\orcidjinyi}{\\href{https://orcid.org/0000-0001-5287-4242}{\\orcidicon}}$\n",
       "$\\newcommand{\\orcidfanxiaohui}{\\href{https://orcid.org/0000-0003-3310-0131}{\\orcidicon}}$\n",
       "$\\newcommand{\\orcidACE}{\\href{https://orcid.org/0000-0003-2895-6218}{\\orcidicon}}$\n",
       "$\\newcommand{\\orcidFeige}{\\href{https://orcid.org/0000-0002-7633-431X}{\\orcidicon}}$\n",
       "$\\newcommand{\\orcidEPF}{\\href{https://orcid.org/0000-0002-6822-2254}{\\orcidicon}}$\n",
       "$\\newcommand{\\orcidSarahBosman}{\\href{https://orcid.org/$\n",
       "$0000-0001-8582-7012}{\\orcidicon}}$\n",
       "$\\newcommand{\\orcidYongda}{\\href{https://orcid.org/$\n",
       "$0000-0003-3307-7525}{\\orcidicon}}$\n",
       "$\\newcommand{\\orcidFabian}{\\href{https://orcid.org/0000-0003-4793-7880}{\\orcidicon}}$\n",
       "$\\newcommand{\\orcidGeorgeB}{\\href{https://orcid.org/0000-0003-2344-263X}{\\orcidicon}}$\n",
       "$\\newcommand{\\orcidGuido}{\\href{https://orcid.org/0000-0002-6830-9093}{\\orcidicon}}$\n",
       "$\\newcommand{\\orcidEduardo}{\\href{https://orcid.org/0000-0002-2931-7824}{\\orcidicon}}$\n",
       "$\\newcommand{\\thebibliography}{\\DeclareRobustCommand{\\VAN}[3]{##3}\\VANthebibliography}$</div>\n",
       "\n",
       "<div class=\"macros\" style=\"visibility:hidden;\">\n",
       "$\\newcommand{$\\ensuremath$}{}$\n",
       "$\\newcommand{$\\xspace$}{}$\n",
       "$\\newcommand{$\\object$}[1]{\\texttt{#1}}$\n",
       "$\\newcommand{$\\farcs$}{{.}''}$\n",
       "$\\newcommand{$\\farcm$}{{.}'}$\n",
       "$\\newcommand{$\\arcsec$}{''}$\n",
       "$\\newcommand{$\\arcmin$}{'}$\n",
       "$\\newcommand{$\\ion$}[2]{#1#2}$\n",
       "$\\newcommand{$\\textsc$}[1]{\\textrm{#1}}$\n",
       "$\\newcommand{$\\hl$}[1]{\\textrm{#1}}$\n",
       "$\\newcommand{$\\hl$}$\n",
       "$\\newcommand{$\\cii$}{C $\\textsc${ii}]}$\n",
       "$\\newcommand{$\\cii$i}{C $\\textsc${iii}]}$\n",
       "$\\newcommand{$\\mgii$}{Mg $\\textsc${ii}}$\n",
       "$\\newcommand{$\\civ$}{C $\\textsc${iv}}$\n",
       "$\\newcommand{$\\feii$}{Fe $\\textsc${ii}}$\n",
       "$\\newcommand{$\\nv$}{N $\\textsc${v}}$\n",
       "$\\newcommand{$\\niv$}{N $\\textsc${iv}]}$\n",
       "$\\newcommand{$\\siii$}{Si $\\textsc${ii}}$\n",
       "$\\newcommand{$\\siii$i}{Si $\\textsc${iii}}$\n",
       "$\\newcommand{$\\siiv$}{Si $\\textsc${iv}}$\n",
       "$\\newcommand{$\\oiv$}{O $\\textsc${iv}}$\n",
       "$\\newcommand{$\\heii$}{He $\\textsc${ii}}$\n",
       "$\\newcommand{$\\oi$}{O $\\textsc${i}]}$\n",
       "$\\newcommand{$\\oi$i}{O $\\textsc${ii}]}$\n",
       "$\\newcommand{$\\oi$ii}{O $\\textsc${iii}]}$\n",
       "$\\newcommand{$\\alii$}{Al $\\textsc${ii}}$\n",
       "$\\newcommand{$\\alii$i}{Al $\\textsc${iii}}$\n",
       "$\\newcommand{$\\lya$}{Ly $\\textsc${\\alpha}}$\n",
       "$\\newcommand{$\\cii$il}{C $\\textsc${iii}] \\lambda1909}$\n",
       "$\\newcommand{$\\mgii$l}{Mg $\\textsc${ii} \\lambda2799}$\n",
       "$\\newcommand{$\\civ$l}{C $\\textsc${iv} \\lambda1549}$\n",
       "$\\newcommand{$\\nv$l}{N $\\textsc${v} \\lambda1240}$\n",
       "$\\newcommand{$\\niv$l}{N $\\textsc${iv}] \\lambda1486}$\n",
       "$\\newcommand{$\\siii$l}{Si $\\textsc${ii} \\lambda1263}$\n",
       "$\\newcommand{$\\siii$il}{Si $\\textsc${iii} \\lambda1887}$\n",
       "$\\newcommand{$\\siiv$l}{Si $\\textsc${iv} \\lambda1398}$\n",
       "$\\newcommand{$\\oiv$l}{O $\\textsc${iv} \\lambda1402}$\n",
       "$\\newcommand{$\\heii$l}{He $\\textsc${ii} \\lambda1640}$\n",
       "$\\newcommand{$\\oi$iil}{O $\\textsc${iii}] \\lambda1663}$\n",
       "$\\newcommand{$\\alii$l}{Al $\\textsc${ii} \\lambda1671}$\n",
       "$\\newcommand{$\\alii$il}{Al $\\textsc${iii} \\lambda1857}$\n",
       "$\\newcommand{$\\lya$l}{Ly $\\textsc${\\alpha} \\lambda1216}$\n",
       "$\\newcommand{$\\nv$civ}{$\\nv$/$\\civ$}$\n",
       "$\\newcommand{$\\siiv$oivciv}{($\\siiv$+$\\oiv$)/$\\civ$}$\n",
       "$\\newcommand{$\\oi$iialiiciv}{($\\oi$ii+$\\alii$)/$\\civ$}$\n",
       "$\\newcommand{$\\alii$iciv}{$\\alii$i/$\\civ$}$\n",
       "$\\newcommand{$\\siii$iciv}{$\\siii$i/$\\civ$}$\n",
       "$\\newcommand{$\\cii$iciv}{$\\cii$i/$\\civ$}$\n",
       "$\\newcommand{$\\angstrom$}{\\mbox{\\normalfont\\AA}}$\n",
       "$\\newcommand{$\\orcidChrisO$}{\\href{https://orcid.org/0000-0003-0017-349X}{\\orcidicon}}$\n",
       "$\\newcommand{$\\orcidChrisW$}{\\href{https://orcid.org/0000-0002-4569-016X}{\\orcidicon}}$\n",
       "$\\newcommand{$\\orcidSamuel$}{\\href{https://orcid.org/0000-0001-9372-4611}{\\orcidicon}}$\n",
       "$\\newcommand{$\\orcidFuyan$}{\\href{https://orcid.org/0000-0002-1620-0897}{\\orcidicon}}$\n",
       "$\\newcommand{$\\orcidChiara$}{\\href{https://orcid.org/0000-0002-5941-5214}{\\orcidicon}}$\n",
       "$\\newcommand{$\\orcidJT$}{\\href{https://orcid.org/0000-0002-4544-8242}{\\orcidicon}}$\n",
       "$\\newcommand{$\\orcidOnoue$}{\\href{https://orcid.org/0000-0003-2984-6803}{\\orcidicon}}$\n",
       "$\\newcommand{$\\orcidValentina$}{\\href{https://orcid.org/0000-0003-3693-3091}{\\orcidicon}}$\n",
       "$\\newcommand{$\\orcidManuela$}{\\href{https://orcid.org/0000-0002-4314-021X}{\\orcidicon}}$\n",
       "$\\newcommand{$\\orcidjinyi$}{\\href{https://orcid.org/0000-0001-5287-4242}{\\orcidicon}}$\n",
       "$\\newcommand{$\\orcidfanxiaohui$}{\\href{https://orcid.org/0000-0003-3310-0131}{\\orcidicon}}$\n",
       "$\\newcommand{$\\orcidACE$}{\\href{https://orcid.org/0000-0003-2895-6218}{\\orcidicon}}$\n",
       "$\\newcommand{$\\orcidFeige$}{\\href{https://orcid.org/0000-0002-7633-431X}{\\orcidicon}}$\n",
       "$\\newcommand{$\\orcidEPF$}{\\href{https://orcid.org/0000-0002-6822-2254}{\\orcidicon}}$\n",
       "$\\newcommand{\\orcidSarahBosman}{\\href{https://orcid.org/$\n",
       "$0000-0001-8582-7012}{\\orcidicon}}$\n",
       "$\\newcommand{\\orcidYongda}{\\href{https://orcid.org/$\n",
       "$0000-0003-3307-7525}{\\orcidicon}}$\n",
       "$\\newcommand{$\\orcidFabian$}{\\href{https://orcid.org/0000-0003-4793-7880}{\\orcidicon}}$\n",
       "$\\newcommand{$\\orcidGeorgeB$}{\\href{https://orcid.org/0000-0003-2344-263X}{\\orcidicon}}$\n",
       "$\\newcommand{$\\orcidGuido$}{\\href{https://orcid.org/0000-0002-6830-9093}{\\orcidicon}}$\n",
       "$\\newcommand{$\\orcidEduardo$}{\\href{https://orcid.org/0000-0002-2931-7824}{\\orcidicon}}$\n",
       "$\\newcommand{$\\thebibliography$}{\\DeclareRobustCommand{\\VAN}[3]{##3}\\VANthebibliography}$</div>\n",
       "\n",
       "\n",
       "\n",
       "<div id=\"title\">\n",
       "\n",
       "#  Quasar Broad-Line Regions in the XQR-30 Sample\n",
       "\n",
       "</div>\n",
       "<div id=\"comments\">\n",
       "\n",
       "[![arXiv](https://img.shields.io/badge/arXiv-2204.03335-b31b1b.svg)](https://arxiv.org/abs/2204.03335) _MNRAS accepted, 24 pages, 17 figures, 4 tables_\n",
       "\n",
       "</div>\n",
       "<div id=\"authors\">\n",
       "\n",
       "Samuel Lai, et al. -- incl., <mark><mark>Sarah E.I. Bosman</mark></mark>, <mark><mark>Jan-Torge Schindler</mark></mark>, <mark><mark>Fabian Walter</mark></mark>\n",
       "\n",
       "</div>\n",
       "<div id=\"abstract\">\n",
       "\n",
       "**Abstract:** The elemental abundances in the broad-line regions of high-redshift quasars trace the chemical evolution in the nuclear regions of massive galaxies in the early universe. In this work, we study metallicity-sensitive broad emission-line flux ratios in rest-frame UV spectra of 25 high-redshift (5.8 < z < 7.5) quasars observed with the VLT/X-shooter and Gemini/GNIRS instruments, ranging over$\\log\\left({\\rm{M}_{\\rm{BH}}/\\rm{M}_{\\odot}}\\right)= 8.4-9.8$in black hole mass and$\\log\\left(\\rm{L}_{\\rm{bol}}/\\rm{erg   s}^{-1}\\right)= 46.7-47.7$in bolometric luminosity. We fit individual spectra and composites generated by binning across quasar properties: bolometric luminosity, black hole mass, and blueshift of the$\\civ$line, finding no redshift evolution in the emission-line ratios by comparing our high-redshift quasars to lower-redshift (2.0 < z < 5.0) results presented in the literature. Using\\texttt{Cloudy}-based locally optimally-emitting cloud photoionisation model relations between metallicity and emission-line flux ratios, we find the observable properties of the broad emission lines to be consistent with emission from gas clouds with metallicity that are at least 2-4 times solar. Our high-redshift measurements also confirm that the blueshift of the$\\civ$emission line is correlated with its equivalent width, which influences line ratios normalised against$\\civ$. When accounting for the$\\civ$blueshift, we find that the rest-frame UV emission-line flux ratios do not correlate appreciably with the black hole mass or bolometric luminosity.\n",
       "\n",
       "</div>\n",
       "\n",
       "<div id=\"div_fig1\">\n",
       "\n",
       "<img src=\"tmp_2204.03335/./figs/line_ratio_blueshift.png\" alt=\"Fig3\" width=\"100%\"/>\n",
       "\n",
       "**Figure 3. -** $\\nv$civ and $\\siiv$oivciv flux ratios as a function of the $\\civ$ blueshift of quasars in the sample. Blueshift composites are presented in black while individual fits are mapped onto a blue-green gradient scaled to the black hole mass. The minimum $\\civ$ blueshift error is 200 km s$^{-1}$ based on the 1\\AA wavelength bins, but the contribution from the systemic redshift error is added in quadrature for an average total of 230 km s$^{-1}$ uncertainty. The Spearman correlation coefficients and p-values are derived from the fits to individual quasars. $\\hl${The orange shaded space indicates a range of line ratios which are consistent with the metallicity indicated in the secondary axis based on photoionisation calculations with different ionizing SEDs}. The overlapping region in the $\\nv$civ plot indicates a sub-space of parameters which is consistent with both $\\rm{Z} = 10 \\rm{Z}_{\\odot}$ and $\\rm{Z} = 20 \\rm{Z}_{\\odot}$. The line ratio correlation with the $\\civ$ blueshift is more significant than the correlation with black hole mass or bolometric luminosity. (*fig:blueshift_line_ratio_results*)\n",
       "\n",
       "</div>\n",
       "<div id=\"div_fig2\">\n",
       "\n",
       "<img src=\"tmp_2204.03335/./figs/CIV_Blueshift_EW.png\" alt=\"Fig1\" width=\"100%\"/>\n",
       "\n",
       "**Figure 1. -** $\\civ$ equivalent width as a function of $\\civ$ blueshift. There is a moderate anti-correlation between these two quantities, implying that weaker $\\civ$ lines are more strongly blueshifted and stronger lines are less blueshifted. The outlier with high EW and blueshift is J1216+4519. Its SNR is low ($\\sim 7$ per pixel) which is reflected by the large error in EW. (*fig:CIV_blueshift_ew*)\n",
       "\n",
       "</div>\n",
       "<div id=\"div_fig3\">\n",
       "\n",
       "<img src=\"tmp_2204.03335/./figs/line_ratio_Lbol.png\" alt=\"Fig9.1\" width=\"50%\"/><img src=\"tmp_2204.03335/./figs/line_ratio_Mbh.png\" alt=\"Fig9.2\" width=\"50%\"/>\n",
       "\n",
       "**Figure 9. -** $\\nv$civ and $\\siiv$oivciv flux ratios as a function of the quasar bolometric luminosity (left) and virially estimated black hole mass (right). The low-redshift sample (2.0 < $z$ < 5.0) indicated in grey is from \\citet{Xu2018} while another higher-redshift comparison sample indicated in red is sourced from \\citet{Wang_2021}. Our sample is presented in blue and black. Square points with capped error bars indicate composites while circular points indicate individual fits. Not all individual quasars involved in the composites are plotted. The single red square denotes the composite from \\citet{Wang_2021}. The black hole masses in this study and in \\citet{Wang_2021} are estimated with single-epoch virial estimates using the $\\mgii$ emission line, while the \\citet{Xu2018} study uses the $\\civ$ emission line. $\\hl${The orange shaded space indicates a range of line ratios which are consistent with the metallicity indicated in the secondary axis based on photoionisation calculations with different ionizing SEDs}. The overlapping region in the $\\nv$civ plot indicates a range of line ratios which is consistent with both $\\rm{Z} = 10 \\rm{Z}_{\\odot}$ and $\\rm{Z} = 20 \\rm{Z}_{\\odot}$\\citep[e.g.][]{Hamann_2002, Nagao_2006}. Metallicity values larger than 10 Z$_{\\odot}$ are extrapolated. (*fig:line_ratio_Lbol_Mbh*)\n",
       "\n",
       "</div>"
      ],
      "text/plain": [
       "<IPython.core.display.Markdown object>"
      ]
     },
     "metadata": {},
     "output_type": "display_data"
    }
   ],
   "source": [
    "[display(Markdown(k[1])) for k in documents];"
   ]
  },
  {
   "cell_type": "markdown",
   "id": "873873a4",
   "metadata": {
    "papermill": {
     "duration": 0.010668,
     "end_time": "2022-04-08T10:00:59.084845",
     "exception": false,
     "start_time": "2022-04-08T10:00:59.074177",
     "status": "completed"
    },
    "tags": []
   },
   "source": [
    "# Create HTML index"
   ]
  },
  {
   "cell_type": "code",
   "execution_count": 10,
   "id": "cf665672",
   "metadata": {
    "execution": {
     "iopub.execute_input": "2022-04-08T10:00:59.107896Z",
     "iopub.status.busy": "2022-04-08T10:00:59.107420Z",
     "iopub.status.idle": "2022-04-08T10:00:59.116311Z",
     "shell.execute_reply": "2022-04-08T10:00:59.115657Z"
    },
    "papermill": {
     "duration": 0.022108,
     "end_time": "2022-04-08T10:00:59.117732",
     "exception": false,
     "start_time": "2022-04-08T10:00:59.095624",
     "status": "completed"
    },
    "tags": []
   },
   "outputs": [
    {
     "name": "stdout",
     "output_type": "stream",
     "text": [
      "17  publications in the last 7 days.\n",
      "\t _build/html/2204.03335.md\n",
      "\t _build/html/2204.03253.md\n",
      "\t _build/html/2204.02998.md\n",
      "\t _build/html/2204.02109.md\n",
      "\t _build/html/2204.02017.md\n",
      "\t _build/html/2204.01824.md\n",
      "\t _build/html/2204.01758.md\n",
      "\t _build/html/2204.01245.md\n",
      "\t _build/html/2204.00793.md\n",
      "\t _build/html/2204.00342.md\n",
      "\t _build/html/2203.16959.md\n",
      "\t _build/html/2203.16856.md\n",
      "\t _build/html/2203.16735.md\n",
      "\t _build/html/2203.16734.md\n",
      "\t _build/html/2203.16504.md\n",
      "\t _build/html/2203.15822.md\n",
      "\t _build/html/2203.15811.md\n"
     ]
    }
   ],
   "source": [
    "from datetime import datetime, timedelta, timezone\n",
    "from glob import glob\n",
    "\n",
    "files = glob('_build/html/*.md')\n",
    "days = 7\n",
    "now = datetime.today()\n",
    "res = []\n",
    "for fk in files:\n",
    "    stat_result = os.stat(fk).st_ctime\n",
    "    modified = datetime.fromtimestamp(stat_result, tz=timezone.utc).replace(tzinfo=None)\n",
    "    delta = now.today() - modified\n",
    "    if delta <= timedelta(days=days):\n",
    "        res.append((delta.seconds, fk))\n",
    "res = [k[1] for k in reversed(sorted(res, key=lambda x:x[1]))]\n",
    "npub = len(res)\n",
    "print(len(res), f\" publications in the last {days:d} days.\")\n",
    "[ print('\\t', k) for k in res ];"
   ]
  },
  {
   "cell_type": "code",
   "execution_count": 11,
   "id": "52ca0208",
   "metadata": {
    "execution": {
     "iopub.execute_input": "2022-04-08T10:00:59.140879Z",
     "iopub.status.busy": "2022-04-08T10:00:59.140518Z",
     "iopub.status.idle": "2022-04-08T10:00:59.147371Z",
     "shell.execute_reply": "2022-04-08T10:00:59.146785Z"
    },
    "papermill": {
     "duration": 0.019899,
     "end_time": "2022-04-08T10:00:59.148708",
     "exception": false,
     "start_time": "2022-04-08T10:00:59.128809",
     "status": "completed"
    },
    "scrolled": false,
    "tags": []
   },
   "outputs": [],
   "source": [
    "def create_carousel(npub=4):\n",
    "    \"\"\" Generate the HTML code for a carousel with `npub` slides \"\"\"\n",
    "    carousel = [\"\"\"<section class=\"carousel\" aria-label=\"Gallery\">\"\"\",\n",
    "                \"\"\"  <ol class=\"carousel__viewport\">\"\"\",\n",
    "    ]\n",
    "    for k in range(1, npub + 1):\n",
    "        prev_ = k - 1\n",
    "        next_ = k + 1\n",
    "        if prev_ <= 0:\n",
    "            prev_ = npub\n",
    "        if next_ > npub:\n",
    "            next_ = 1\n",
    "        text  = f\"\"\"    <li id=\"carousel__slide{k}\" tabindex=\"0\" class=\"carousel__slide\">\\n\"\"\"\n",
    "        text += f\"\"\"       <div class=\"carousel__snapper\">\\n\"\"\"\n",
    "        text += f\"\"\"         <a href=\"#carousel__slide{prev_}\" class=\"carousel__prev\">Go to previous slide</a>\\n\"\"\"\n",
    "        text += f\"\"\"         <a href=\"#carousel__slide{next_}\" class=\"carousel__next\">Go to next slide</a>\\n\"\"\"\n",
    "        text += f\"\"\"         <div id=\"slide{k}_content\" class=\"md_view\" >Content {k}</div>\\n\"\"\"\n",
    "        text += f\"\"\"       </div>\\n\"\"\"\n",
    "        text += f\"\"\"    </li>\"\"\"\n",
    "        carousel.append(text)\n",
    "\n",
    "    carousel.extend([\n",
    "        \"\"\"  </ol>\"\"\",\n",
    "        \"\"\"  <aside class=\"carousel__navigation\">\"\"\",\n",
    "        \"\"\"    <ol class=\"carousel__navigation-list\">\"\"\"])\n",
    "\n",
    "    for k in range(1, npub + 1):\n",
    "        text  = f\"\"\"      <li class=\"carousel__navigation-item\">\\n\"\"\"\n",
    "        text += f\"\"\"        <a href=\"#carousel__slide{k}\" class=\"carousel__navigation-button\">Go to {k}</a>\\n\"\"\"\n",
    "        text += f\"\"\"      </li>\"\"\"\n",
    "        carousel.append(text)\n",
    "    carousel.extend([\"\"\"    </ol>\"\"\", \"\"\"  </aside>\"\"\", \"\"\"</section>\"\"\"])\n",
    "\n",
    "    return '\\n'.join(carousel)"
   ]
  },
  {
   "cell_type": "code",
   "execution_count": 12,
   "id": "a6eac5b6",
   "metadata": {
    "execution": {
     "iopub.execute_input": "2022-04-08T10:00:59.171509Z",
     "iopub.status.busy": "2022-04-08T10:00:59.171321Z",
     "iopub.status.idle": "2022-04-08T10:00:59.177523Z",
     "shell.execute_reply": "2022-04-08T10:00:59.176944Z"
    },
    "papermill": {
     "duration": 0.019502,
     "end_time": "2022-04-08T10:00:59.178903",
     "exception": false,
     "start_time": "2022-04-08T10:00:59.159401",
     "status": "completed"
    },
    "scrolled": false,
    "tags": []
   },
   "outputs": [],
   "source": [
    "carousel = create_carousel(npub)\n",
    "docs = ', '.join(['\"{0:s}\"'.format(k.split('/')[-1]) for k in res])\n",
    "slides = ', '.join([f'\"slide{k}_content\"' for k in range(1, npub + 1)])\n",
    "\n",
    "script = f\"\"\"\n",
    "const docs = [{docs}]\n",
    "\n",
    "const slides = [{slides}]\n",
    "\"\"\" + \"\"\"\n",
    "async function run() {\n",
    "    for (let i = 0; i < docs.length; i++) {\n",
    "        let file = await fetch(docs[i]);\n",
    "        let text = await file.text()\n",
    "        document.getElementById(slides[i]).innerHTML =\n",
    "            marked.parse(text);\n",
    "    }\n",
    "    hljs.highlightAll();\n",
    "}\n",
    "run()\n",
    "\"\"\"\n",
    "\n",
    "page = f\"\"\"<!doctype html>\n",
    "<html lang=\"en\">\n",
    "\n",
    "<head>\n",
    "  <meta charset=\"utf-8\">\n",
    "  <meta name=\"viewport\" content=\"width=device-width, initial-scale=1\">\n",
    "  <!-- Bootstrap CSS -->\n",
    "  <link href=\"https://cdn.jsdelivr.net/npm/bootstrap@5.0.2/dist/css/bootstrap.min.css\" rel=\"stylesheet\"\n",
    "   integrity=\"sha384-EVSTQN3/azprG1Anm3QDgpJLIm9Nao0Yz1ztcQTwFspd3yD65VohhpuuCOmLASjC\" crossorigin=\"anonymous\">\n",
    "  <!-- highlight.js CSS -->\n",
    "  <link rel=\"stylesheet\" href=\"https://cdnjs.cloudflare.com/ajax/libs/highlight.js/11.1.0/styles/default.min.css\">\n",
    "  <!-- Mathjax 3 -->\n",
    "  <script type=\"text/javascript\" id=\"MathJax-config\" src=\"mathjax_config.js\"> </script>\n",
    "  <script type=\"text/javascript\" id=\"MathJax-script\" async \n",
    "    src=\"https://cdn.jsdelivr.net/npm/mathjax@3/es5/tex-mml-chtml.js\">\n",
    "  </script>\n",
    "  <link rel=\"stylesheet\" href=\"index_carousel.css\">\n",
    "  <link rel=\"icon\" type=\"image/x-icon\" href=\"https://www.mpia.de/assets/touch-icon-32x32-a66937bcebc4e8894ebff1f41a366c7c7220fd97a38869ee0f2db65a9f59b6c1.png\">\n",
    "  <title>MPIA Arxiv on deck!</title>\n",
    "</head>\n",
    "\n",
    "<body>\n",
    "  <div id=\"header\"> <img src=\"header_banner.png\" width=\"100%\"></div>\n",
    "  <div id=\"suptitle\"> 7-day archives </div>\n",
    "  <div id=\"info\">\n",
    "    <img src=\"https://pngimg.com/uploads/github/github_PNG58.png\" height=30rem></img>\n",
    "    <a href=https://github.com/mpi-astronomy/arxiv_display style=\"color:black;\">github/mpi-astronomy/arxiv_display</a> \n",
    "  </div>\n",
    "  {carousel:s}\n",
    "</body>\n",
    "\n",
    "<!-- Render Markdown -->\n",
    "\n",
    "<body>\n",
    "  <!-- highlight.js: https://highlightjs.org/download/ -->\n",
    "  <script src=\"https://cdnjs.cloudflare.com/ajax/libs/highlight.js/11.5.0/highlight.min.js\"></script>\n",
    "  <!-- marked.js -->\n",
    "  <script src=\"https://cdn.jsdelivr.net/npm/marked/marked.min.js\"></script>\n",
    "  <script>{script:s}</script>\n",
    "</body>\n",
    "</html>\n",
    "\"\"\"\n",
    "with open(\"_build/html/index_7days.html\", 'w') as fout:\n",
    "    fout.write(page)"
   ]
  },
  {
   "cell_type": "markdown",
   "id": "1cebacbc",
   "metadata": {
    "papermill": {
     "duration": 0.010658,
     "end_time": "2022-04-08T10:00:59.200216",
     "exception": false,
     "start_time": "2022-04-08T10:00:59.189558",
     "status": "completed"
    },
    "tags": []
   },
   "source": [
    "# Debugging papers"
   ]
  },
  {
   "cell_type": "raw",
   "id": "debe7cc6",
   "metadata": {
    "papermill": {
     "duration": 0.042372,
     "end_time": "2022-04-08T10:00:59.253451",
     "exception": false,
     "start_time": "2022-04-08T10:00:59.211079",
     "status": "completed"
    },
    "tags": []
   },
   "source": [
    "raise NotImplementedError(\"Manual Stop\")"
   ]
  },
  {
   "cell_type": "raw",
   "id": "eb169192",
   "metadata": {
    "papermill": {
     "duration": 0.010749,
     "end_time": "2022-04-08T10:00:59.275013",
     "exception": false,
     "start_time": "2022-04-08T10:00:59.264264",
     "status": "completed"
    },
    "scrolled": true,
    "tags": []
   },
   "source": [
    "from IPython.display import display, Markdown\n",
    "from TexSoup import TexSoup\n",
    "import re\n",
    "\n",
    "def bracket_error(source: str):\n",
    "    \"\"\" Find problematic portions of the document \"\"\"\n",
    "    \n",
    "    print(\"len(source)\", len(source))\n",
    "    \n",
    "    # Checking header\n",
    "    begin_doc = next(re.finditer(r'\\\\begin\\{document\\}', doc.source)).span()[1]\n",
    "    header = source[:begin_doc]\n",
    "    text = header + r\"\\n\\end{document}\"\n",
    "\n",
    "    try:\n",
    "        # print(\"Header check... \", end='')\n",
    "        TexSoup(text)\n",
    "        display(Markdown(f\"**[OK]** - Header\"))\n",
    "    except:\n",
    "        raise RuntimeError(\"Error in the header\")\n",
    "        \n",
    "    # Check the text per section until the end.\n",
    "    # Do not stop and try them all.\n",
    "    \n",
    "    problematic_text = []\n",
    "    \n",
    "    sections = ([(0, begin_doc, 'until first section')] + \n",
    "                [(g.span()[0], g.span()[1], g.group()) for g in re.finditer(r'\\\\section\\{.*\\}', source)] +\n",
    "                [(g.span()[0], g.span()[1], g.group()) for g in re.finditer(r'\\\\begin\\{appendix\\}', source)]\n",
    "               )\n",
    "    sections.append([len(source), len(source), 'end'])\n",
    "    \n",
    "    sections = sorted(sections, key=lambda x: x[0])\n",
    "    \n",
    "    prev_pos, prev_name = (0, 'header')\n",
    "    parsed = []\n",
    "    \n",
    "    for span, span_end, name in sections:\n",
    "\n",
    "        if span - prev_pos <= 0:\n",
    "            continue\n",
    "            \n",
    "\n",
    "        text = source[prev_pos:span]\n",
    "        if prev_pos > begin_doc:\n",
    "            text = r\"\\n\\begin{document}\" + text + r\"\\n\\end{document}\"\n",
    "        else:\n",
    "            text = text + r\"\\n\\end{document}\"\n",
    "        try:\n",
    "            #print(f\"{prev_pos}:{prev_name}-->{span}:{name} check... \", end='')\n",
    "            parsed.append(TexSoup(text, tolerance=1))  # allow not ending env\n",
    "            display(Markdown(f\"**[OK]** - *{prev_pos}*:{prev_name} &rarr; *{span}*:{name}\"))\n",
    "            # print(\"ok\")\n",
    "\n",
    "            prev_pos = span\n",
    "            prev_name = name\n",
    "        except:\n",
    "            # print(f\"error between {prev_pos} and {span}\")\n",
    "            display(Markdown(f\"**[ERR]** *{prev_pos}*:{prev_name} &rarr; *{span}*:{name}\"))\n",
    "            problematic_text.append((prev_pos, source[prev_pos:span]))\n",
    "            prev_pos = span\n",
    "            prev_name = name\n",
    "            # raise\n",
    "    return problematic_text, parsed\n",
    "\n",
    "\n",
    "def check_environment(text, offset=0):\n",
    "    \"\"\" Check environment \"\"\"\n",
    "    env = re.compile(r\"\\\\begin\\{(?P<env>.*)\\}(.*)\\\\end\\{(?P=env)\\}\", re.DOTALL)\n",
    "\n",
    "    for match in env.finditer(text):\n",
    "        beg, end = match.span()\n",
    "        beg += offset\n",
    "        end += offset\n",
    "        envname = match.groups()[0]\n",
    "        try:\n",
    "            latex.TexSoup(match.group())\n",
    "        except Exception as e:\n",
    "            display(e)\n",
    "            print(f\"Error in {envname:s} between {beg} and {end}\")\n",
    "            return match.groups()[1], beg, end"
   ]
  },
  {
   "cell_type": "raw",
   "id": "2315e835",
   "metadata": {
    "papermill": {
     "duration": 0.010663,
     "end_time": "2022-04-08T10:00:59.296433",
     "exception": false,
     "start_time": "2022-04-08T10:00:59.285770",
     "status": "completed"
    },
    "scrolled": false,
    "tags": []
   },
   "source": [
    "import importlib\n",
    "importlib.reload(latex)\n",
    "which = \"2204.03253\"\n",
    "paper_id = f'{which:s}'\n",
    "folder = f'tmp_{paper_id:s}'\n",
    "\n",
    "if not os.path.isdir(folder):\n",
    "    folder = retrieve_document_source(f\"{paper_id}\", f'tmp_{paper_id}')\n",
    "\n",
    "try:\n",
    "    doc = latex.LatexDocument(folder, validation=validation)    \n",
    "except AffiliationError as affilerror:\n",
    "    msg = f\"ArXiv:{paper_id:s} is not an MPIA paper... \" + str(affilerror)\n",
    "    print(msg)\n",
    "\n",
    "\n",
    "# Hack because sometimes author parsing does not work well\n",
    "if (len(doc.authors) != len(paper['authors'])):\n",
    "    doc._authors = paper['authors']\n",
    "if (doc.abstract) in (None, ''):\n",
    "    doc._abstract = paper['abstract']\n",
    "\n",
    "doc.comment = get_markdown_badge(paper_id) + \" _\" + paper['comments'] + \"_\"\n",
    "doc.highlight_authors_in_list(hl_list)\n",
    "\n",
    "full_md = doc.generate_markdown_text()"
   ]
  },
  {
   "cell_type": "raw",
   "id": "dd3781db",
   "metadata": {
    "papermill": {
     "duration": 0.010726,
     "end_time": "2022-04-08T10:00:59.317944",
     "exception": false,
     "start_time": "2022-04-08T10:00:59.307218",
     "status": "completed"
    },
    "scrolled": false,
    "tags": []
   },
   "source": [
    "doc"
   ]
  },
  {
   "cell_type": "raw",
   "id": "c6eed834",
   "metadata": {
    "papermill": {
     "duration": 0.010748,
     "end_time": "2022-04-08T10:00:59.339633",
     "exception": false,
     "start_time": "2022-04-08T10:00:59.328885",
     "status": "completed"
    },
    "tags": []
   },
   "source": [
    "# [check_environment(k) for k in bracket_error(doc.source)]\n",
    "_, _, a = latex.get_content_per_section(doc.source, verbose=True)\n",
    "if not a:\n",
    "    print(\"no issues per section\")\n",
    "for ak in a:\n",
    "    r = check_environment(ak[1], offset=ak[0])\n",
    "    print(r[1], r[2])\n",
    "    print(r[0])"
   ]
  },
  {
   "cell_type": "code",
   "execution_count": null,
   "id": "71ce768a",
   "metadata": {
    "papermill": {
     "duration": 0.010884,
     "end_time": "2022-04-08T10:00:59.361329",
     "exception": false,
     "start_time": "2022-04-08T10:00:59.350445",
     "status": "completed"
    },
    "tags": []
   },
   "outputs": [],
   "source": []
  }
 ],
 "metadata": {
  "kernelspec": {
   "display_name": "Python 3 (ipykernel)",
   "language": "python",
   "name": "python3"
  },
  "language_info": {
   "codemirror_mode": {
    "name": "ipython",
    "version": 3
   },
   "file_extension": ".py",
   "mimetype": "text/x-python",
   "name": "python",
   "nbconvert_exporter": "python",
   "pygments_lexer": "ipython3",
   "version": "3.9.12"
  },
  "papermill": {
   "default_parameters": {},
   "duration": 94.859412,
   "end_time": "2022-04-08T10:00:59.589963",
   "environment_variables": {},
   "exception": null,
   "input_path": "MPIA daily digest.ipynb",
   "output_path": "log.ipynb",
   "parameters": {},
   "start_time": "2022-04-08T09:59:24.730551",
   "version": "2.3.4"
  },
  "widgets": {
   "application/vnd.jupyter.widget-state+json": {
    "state": {
     "03e6a4feee7f4d3586fd4f69853090e1": {
      "model_module": "@jupyter-widgets/controls",
      "model_module_version": "1.5.0",
      "model_name": "FloatProgressModel",
      "state": {
       "_dom_classes": [],
       "_model_module": "@jupyter-widgets/controls",
       "_model_module_version": "1.5.0",
       "_model_name": "FloatProgressModel",
       "_view_count": null,
       "_view_module": "@jupyter-widgets/controls",
       "_view_module_version": "1.5.0",
       "_view_name": "ProgressView",
       "bar_style": "success",
       "description": "",
       "description_tooltip": null,
       "layout": "IPY_MODEL_3a458d4f1a0843f890e7086449679a23",
       "max": 20.0,
       "min": 0.0,
       "orientation": "horizontal",
       "style": "IPY_MODEL_40ca95d578fa4c7ba9858da2b6bcd66d",
       "value": 20.0
      }
     },
     "1a38c3cb69c3439390cad115987d41e9": {
      "model_module": "@jupyter-widgets/base",
      "model_module_version": "1.2.0",
      "model_name": "LayoutModel",
      "state": {
       "_model_module": "@jupyter-widgets/base",
       "_model_module_version": "1.2.0",
       "_model_name": "LayoutModel",
       "_view_count": null,
       "_view_module": "@jupyter-widgets/base",
       "_view_module_version": "1.2.0",
       "_view_name": "LayoutView",
       "align_content": null,
       "align_items": null,
       "align_self": null,
       "border": null,
       "bottom": null,
       "display": null,
       "flex": null,
       "flex_flow": null,
       "grid_area": null,
       "grid_auto_columns": null,
       "grid_auto_flow": null,
       "grid_auto_rows": null,
       "grid_column": null,
       "grid_gap": null,
       "grid_row": null,
       "grid_template_areas": null,
       "grid_template_columns": null,
       "grid_template_rows": null,
       "height": null,
       "justify_content": null,
       "justify_items": null,
       "left": null,
       "margin": null,
       "max_height": null,
       "max_width": null,
       "min_height": null,
       "min_width": null,
       "object_fit": null,
       "object_position": null,
       "order": null,
       "overflow": null,
       "overflow_x": null,
       "overflow_y": null,
       "padding": null,
       "right": null,
       "top": null,
       "visibility": null,
       "width": null
      }
     },
     "3a458d4f1a0843f890e7086449679a23": {
      "model_module": "@jupyter-widgets/base",
      "model_module_version": "1.2.0",
      "model_name": "LayoutModel",
      "state": {
       "_model_module": "@jupyter-widgets/base",
       "_model_module_version": "1.2.0",
       "_model_name": "LayoutModel",
       "_view_count": null,
       "_view_module": "@jupyter-widgets/base",
       "_view_module_version": "1.2.0",
       "_view_name": "LayoutView",
       "align_content": null,
       "align_items": null,
       "align_self": null,
       "border": null,
       "bottom": null,
       "display": null,
       "flex": null,
       "flex_flow": null,
       "grid_area": null,
       "grid_auto_columns": null,
       "grid_auto_flow": null,
       "grid_auto_rows": null,
       "grid_column": null,
       "grid_gap": null,
       "grid_row": null,
       "grid_template_areas": null,
       "grid_template_columns": null,
       "grid_template_rows": null,
       "height": null,
       "justify_content": null,
       "justify_items": null,
       "left": null,
       "margin": null,
       "max_height": null,
       "max_width": null,
       "min_height": null,
       "min_width": null,
       "object_fit": null,
       "object_position": null,
       "order": null,
       "overflow": null,
       "overflow_x": null,
       "overflow_y": null,
       "padding": null,
       "right": null,
       "top": null,
       "visibility": null,
       "width": null
      }
     },
     "40ca95d578fa4c7ba9858da2b6bcd66d": {
      "model_module": "@jupyter-widgets/controls",
      "model_module_version": "1.5.0",
      "model_name": "ProgressStyleModel",
      "state": {
       "_model_module": "@jupyter-widgets/controls",
       "_model_module_version": "1.5.0",
       "_model_name": "ProgressStyleModel",
       "_view_count": null,
       "_view_module": "@jupyter-widgets/base",
       "_view_module_version": "1.2.0",
       "_view_name": "StyleView",
       "bar_color": null,
       "description_width": ""
      }
     },
     "53684a8341a4476a96d27eb21ec15463": {
      "model_module": "@jupyter-widgets/controls",
      "model_module_version": "1.5.0",
      "model_name": "HTMLModel",
      "state": {
       "_dom_classes": [],
       "_model_module": "@jupyter-widgets/controls",
       "_model_module_version": "1.5.0",
       "_model_name": "HTMLModel",
       "_view_count": null,
       "_view_module": "@jupyter-widgets/controls",
       "_view_module_version": "1.5.0",
       "_view_name": "HTMLView",
       "description": "",
       "description_tooltip": null,
       "layout": "IPY_MODEL_79073234b8364000918f9c8930cf569a",
       "placeholder": "​",
       "style": "IPY_MODEL_80d612e5c1a6470d8be43cf9046dcb52",
       "value": " 20/20 [01:14&lt;00:00,  3.50s/it]"
      }
     },
     "79073234b8364000918f9c8930cf569a": {
      "model_module": "@jupyter-widgets/base",
      "model_module_version": "1.2.0",
      "model_name": "LayoutModel",
      "state": {
       "_model_module": "@jupyter-widgets/base",
       "_model_module_version": "1.2.0",
       "_model_name": "LayoutModel",
       "_view_count": null,
       "_view_module": "@jupyter-widgets/base",
       "_view_module_version": "1.2.0",
       "_view_name": "LayoutView",
       "align_content": null,
       "align_items": null,
       "align_self": null,
       "border": null,
       "bottom": null,
       "display": null,
       "flex": null,
       "flex_flow": null,
       "grid_area": null,
       "grid_auto_columns": null,
       "grid_auto_flow": null,
       "grid_auto_rows": null,
       "grid_column": null,
       "grid_gap": null,
       "grid_row": null,
       "grid_template_areas": null,
       "grid_template_columns": null,
       "grid_template_rows": null,
       "height": null,
       "justify_content": null,
       "justify_items": null,
       "left": null,
       "margin": null,
       "max_height": null,
       "max_width": null,
       "min_height": null,
       "min_width": null,
       "object_fit": null,
       "object_position": null,
       "order": null,
       "overflow": null,
       "overflow_x": null,
       "overflow_y": null,
       "padding": null,
       "right": null,
       "top": null,
       "visibility": null,
       "width": null
      }
     },
     "80d612e5c1a6470d8be43cf9046dcb52": {
      "model_module": "@jupyter-widgets/controls",
      "model_module_version": "1.5.0",
      "model_name": "DescriptionStyleModel",
      "state": {
       "_model_module": "@jupyter-widgets/controls",
       "_model_module_version": "1.5.0",
       "_model_name": "DescriptionStyleModel",
       "_view_count": null,
       "_view_module": "@jupyter-widgets/base",
       "_view_module_version": "1.2.0",
       "_view_name": "StyleView",
       "description_width": ""
      }
     },
     "9380ce647d984eb9b7a59f2b6b4aae2c": {
      "model_module": "@jupyter-widgets/controls",
      "model_module_version": "1.5.0",
      "model_name": "HTMLModel",
      "state": {
       "_dom_classes": [],
       "_model_module": "@jupyter-widgets/controls",
       "_model_module_version": "1.5.0",
       "_model_name": "HTMLModel",
       "_view_count": null,
       "_view_module": "@jupyter-widgets/controls",
       "_view_module_version": "1.5.0",
       "_view_name": "HTMLView",
       "description": "",
       "description_tooltip": null,
       "layout": "IPY_MODEL_1a38c3cb69c3439390cad115987d41e9",
       "placeholder": "​",
       "style": "IPY_MODEL_e979d5409a9040eba5d21edd0895b6e6",
       "value": "100%"
      }
     },
     "9a8b458f1520432fa50021046450450c": {
      "model_module": "@jupyter-widgets/base",
      "model_module_version": "1.2.0",
      "model_name": "LayoutModel",
      "state": {
       "_model_module": "@jupyter-widgets/base",
       "_model_module_version": "1.2.0",
       "_model_name": "LayoutModel",
       "_view_count": null,
       "_view_module": "@jupyter-widgets/base",
       "_view_module_version": "1.2.0",
       "_view_name": "LayoutView",
       "align_content": null,
       "align_items": null,
       "align_self": null,
       "border": null,
       "bottom": null,
       "display": null,
       "flex": null,
       "flex_flow": null,
       "grid_area": null,
       "grid_auto_columns": null,
       "grid_auto_flow": null,
       "grid_auto_rows": null,
       "grid_column": null,
       "grid_gap": null,
       "grid_row": null,
       "grid_template_areas": null,
       "grid_template_columns": null,
       "grid_template_rows": null,
       "height": null,
       "justify_content": null,
       "justify_items": null,
       "left": null,
       "margin": null,
       "max_height": null,
       "max_width": null,
       "min_height": null,
       "min_width": null,
       "object_fit": null,
       "object_position": null,
       "order": null,
       "overflow": null,
       "overflow_x": null,
       "overflow_y": null,
       "padding": null,
       "right": null,
       "top": null,
       "visibility": null,
       "width": null
      }
     },
     "a99ac53af58d49deab8bae80fb94f388": {
      "model_module": "@jupyter-widgets/controls",
      "model_module_version": "1.5.0",
      "model_name": "HBoxModel",
      "state": {
       "_dom_classes": [],
       "_model_module": "@jupyter-widgets/controls",
       "_model_module_version": "1.5.0",
       "_model_name": "HBoxModel",
       "_view_count": null,
       "_view_module": "@jupyter-widgets/controls",
       "_view_module_version": "1.5.0",
       "_view_name": "HBoxView",
       "box_style": "",
       "children": [
        "IPY_MODEL_9380ce647d984eb9b7a59f2b6b4aae2c",
        "IPY_MODEL_03e6a4feee7f4d3586fd4f69853090e1",
        "IPY_MODEL_53684a8341a4476a96d27eb21ec15463"
       ],
       "layout": "IPY_MODEL_9a8b458f1520432fa50021046450450c"
      }
     },
     "e979d5409a9040eba5d21edd0895b6e6": {
      "model_module": "@jupyter-widgets/controls",
      "model_module_version": "1.5.0",
      "model_name": "DescriptionStyleModel",
      "state": {
       "_model_module": "@jupyter-widgets/controls",
       "_model_module_version": "1.5.0",
       "_model_name": "DescriptionStyleModel",
       "_view_count": null,
       "_view_module": "@jupyter-widgets/base",
       "_view_module_version": "1.2.0",
       "_view_name": "StyleView",
       "description_width": ""
      }
     }
    },
    "version_major": 2,
    "version_minor": 0
   }
  }
 },
 "nbformat": 4,
 "nbformat_minor": 5
}