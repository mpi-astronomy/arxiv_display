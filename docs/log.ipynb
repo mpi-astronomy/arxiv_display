{
 "cells": [
  {
   "cell_type": "markdown",
   "id": "92bcb855",
   "metadata": {
    "papermill": {
     "duration": 0.005683,
     "end_time": "2022-12-22T04:05:36.554739",
     "exception": false,
     "start_time": "2022-12-22T04:05:36.549056",
     "status": "completed"
    },
    "tags": []
   },
   "source": [
    "# MPIA Arxiv on Deck 2\n",
    "\n",
    "Contains the steps to produce the paper extractions."
   ]
  },
  {
   "cell_type": "code",
   "execution_count": 1,
   "id": "3a0d6e11",
   "metadata": {
    "execution": {
     "iopub.execute_input": "2022-12-22T04:05:36.564989Z",
     "iopub.status.busy": "2022-12-22T04:05:36.564408Z",
     "iopub.status.idle": "2022-12-22T04:05:36.768702Z",
     "shell.execute_reply": "2022-12-22T04:05:36.767985Z"
    },
    "papermill": {
     "duration": 0.211458,
     "end_time": "2022-12-22T04:05:36.770769",
     "exception": false,
     "start_time": "2022-12-22T04:05:36.559311",
     "status": "completed"
    },
    "tags": []
   },
   "outputs": [],
   "source": [
    "# Imports\n",
    "import os\n",
    "from IPython.display import Markdown, display\n",
    "from tqdm.notebook import tqdm\n",
    "import warnings\n",
    "from PIL import Image \n",
    "\n",
    "# requires arxiv_on_deck_2\n",
    "\n",
    "from arxiv_on_deck_2.arxiv2 import (get_new_papers, \n",
    "                                    get_paper_from_identifier,\n",
    "                                    retrieve_document_source, \n",
    "                                    get_markdown_badge)\n",
    "from arxiv_on_deck_2 import (latex, \n",
    "                             mpia,\n",
    "                             highlight_authors_in_list)\n",
    "\n",
    "# Sometimes images are really big\n",
    "Image.MAX_IMAGE_PIXELS = 1000000000 "
   ]
  },
  {
   "cell_type": "code",
   "execution_count": 2,
   "id": "22aa9d44",
   "metadata": {
    "execution": {
     "iopub.execute_input": "2022-12-22T04:05:36.780916Z",
     "iopub.status.busy": "2022-12-22T04:05:36.780293Z",
     "iopub.status.idle": "2022-12-22T04:05:36.785222Z",
     "shell.execute_reply": "2022-12-22T04:05:36.784576Z"
    },
    "papermill": {
     "duration": 0.011662,
     "end_time": "2022-12-22T04:05:36.786786",
     "exception": false,
     "start_time": "2022-12-22T04:05:36.775124",
     "status": "completed"
    },
    "tags": []
   },
   "outputs": [],
   "source": [
    "# Some useful definitions.\n",
    "\n",
    "class AffiliationWarning(UserWarning):\n",
    "    pass\n",
    "\n",
    "class AffiliationError(RuntimeError):\n",
    "    pass\n",
    "\n",
    "def validation(source: str):\n",
    "    \"\"\"Raises error paper during parsing of source file\n",
    "    \n",
    "    Allows checks before parsing TeX code.\n",
    "    \n",
    "    Raises AffiliationWarning\n",
    "    \"\"\"\n",
    "    check = mpia.affiliation_verifications(source, verbose=True)\n",
    "    if check is not True:\n",
    "        raise AffiliationError(\"mpia.affiliation_verifications: \" + check)\n",
    "\n",
    "        \n",
    "warnings.simplefilter('always', AffiliationWarning)"
   ]
  },
  {
   "cell_type": "code",
   "execution_count": 3,
   "id": "14622700",
   "metadata": {
    "execution": {
     "iopub.execute_input": "2022-12-22T04:05:36.795792Z",
     "iopub.status.busy": "2022-12-22T04:05:36.795222Z",
     "iopub.status.idle": "2022-12-22T04:05:36.798968Z",
     "shell.execute_reply": "2022-12-22T04:05:36.798349Z"
    },
    "papermill": {
     "duration": 0.010001,
     "end_time": "2022-12-22T04:05:36.800551",
     "exception": false,
     "start_time": "2022-12-22T04:05:36.790550",
     "status": "completed"
    },
    "tags": []
   },
   "outputs": [],
   "source": [
    "# additional CSS to consider. \n",
    "# TODO: Current into each exported file. \n",
    "#       This should be set once into the webpages directly.\n",
    "#       With only the class/id definitions in the .md files.\n",
    "\n",
    "debug_html = \"\"\"\n",
    "<style>\n",
    "#wrap{ overflow:auto; }\n",
    "#fig1{ background:yellow; width:100%; float:left; padding:5px;  }\n",
    "#fig2{ background:red; width:50%; float:left; clear:left; padding:5px;  }\n",
    "#fig3{ background:green; width:50%; float:left; padding:5px;   }\n",
    ".macros{ background:yellow; visibility:visible;}\n",
    "h1 {margin: 0 0 0 0;}\n",
    "mark {background-color:#fff3b6;}\n",
    "img {object-fit:contain; max-height:250px; display:inline-block; text-align: center;}\n",
    "</style>\n",
    "\"\"\" \n",
    "html = \"\"\"\n",
    "<style>\n",
    "#wrap{ overflow:auto; }\n",
    "#fig1{ width:100%; float:left; padding: 5px;  }\n",
    "#fig2{ width:50%; float:left; clear:left; padding: 5px;  }\n",
    "#fig3{ width:50%; float:left; padding: 5px;  }\n",
    ".macros{ visibility:hidden; height:0px; }\n",
    "h1 {margin: 0em 0 0 0;}\n",
    "mark {background-color:#fff3b6;}\n",
    "img {object-fit:contain; max-height:250px; display:inline-block; text-align: center;}\n",
    "</style>\n",
    "\"\"\""
   ]
  },
  {
   "cell_type": "markdown",
   "id": "14bd6310",
   "metadata": {
    "papermill": {
     "duration": 0.00375,
     "end_time": "2022-12-22T04:05:36.808115",
     "exception": false,
     "start_time": "2022-12-22T04:05:36.804365",
     "status": "completed"
    },
    "tags": []
   },
   "source": [
    "## get list of arxiv paper candidates\n",
    "\n",
    "We use the MPIA mitarbeiter list webpage from mpia.de to get author names\n",
    "We then get all new papers from Arxiv and match authors"
   ]
  },
  {
   "cell_type": "code",
   "execution_count": 4,
   "id": "2645e73a",
   "metadata": {
    "execution": {
     "iopub.execute_input": "2022-12-22T04:05:36.817122Z",
     "iopub.status.busy": "2022-12-22T04:05:36.816472Z",
     "iopub.status.idle": "2022-12-22T04:05:59.400890Z",
     "shell.execute_reply": "2022-12-22T04:05:59.400103Z"
    },
    "papermill": {
     "duration": 22.591,
     "end_time": "2022-12-22T04:05:59.402867",
     "exception": false,
     "start_time": "2022-12-22T04:05:36.811867",
     "status": "completed"
    },
    "tags": []
   },
   "outputs": [
    {
     "name": "stdout",
     "output_type": "stream",
     "text": [
      "Arxiv has 51 new papers today\n",
      "          18 with possible author matches\n"
     ]
    }
   ],
   "source": [
    "# get list from MPIA website\n",
    "# it automatically filters identified non-scientists :func:`mpia.filter_non_scientists`\n",
    "mpia_authors = mpia.get_mpia_mitarbeiter_list()\n",
    "new_papers = get_new_papers()\n",
    "# add manual references\n",
    "add_paper_refs = []\n",
    "new_papers.extend([get_paper_from_identifier(k) for k in add_paper_refs])\n",
    "\n",
    "# select only papers with matching author names and highlight authors\n",
    "hl_list = [k[0] for k in mpia_authors]\n",
    "\n",
    "candidates = []\n",
    "for paperk in new_papers:\n",
    "    hl_authors = highlight_authors_in_list(paperk['authors'], hl_list)\n",
    "    matches = [(hl, orig) for hl, orig in zip(hl_authors, paperk['authors']) if 'mark' in hl]\n",
    "    paperk['authors'] = hl_authors\n",
    "    if matches:\n",
    "        candidates.append(paperk)\n",
    "print(\"\"\"Arxiv has {0:,d} new papers today\"\"\".format(len(new_papers)))        \n",
    "print(\"\"\"          {0:,d} with possible author matches\"\"\".format(len(candidates)))"
   ]
  },
  {
   "cell_type": "markdown",
   "id": "3543b34a",
   "metadata": {
    "papermill": {
     "duration": 0.004017,
     "end_time": "2022-12-22T04:05:59.411166",
     "exception": false,
     "start_time": "2022-12-22T04:05:59.407149",
     "status": "completed"
    },
    "tags": []
   },
   "source": [
    "# Parse sources and generate relevant outputs\n",
    "\n",
    "From the candidates, we do the following steps:\n",
    "* get their tarball from ArXiv (and extract data)\n",
    "* find the main .tex file: find one with \\documentclass{...} (sometimes it's non trivial)\n",
    "* Check affiliations with :func:`validation`, which uses :func:`mpia.affiliation_verifications`\n",
    "* If passing the affiliations: we parse the .tex source\n",
    "   * inject sub-documents into the main (flatten the main document)\n",
    "   * parse structure, extract information (title, abstract, authors, figures...)\n",
    "   * handles `\\graphicspath` if provided\n",
    "* Generate the .md document."
   ]
  },
  {
   "cell_type": "code",
   "execution_count": 5,
   "id": "9576b79e",
   "metadata": {
    "execution": {
     "iopub.execute_input": "2022-12-22T04:05:59.420537Z",
     "iopub.status.busy": "2022-12-22T04:05:59.419908Z",
     "iopub.status.idle": "2022-12-22T04:06:58.610438Z",
     "shell.execute_reply": "2022-12-22T04:06:58.609652Z"
    },
    "papermill": {
     "duration": 59.203079,
     "end_time": "2022-12-22T04:06:58.618135",
     "exception": false,
     "start_time": "2022-12-22T04:05:59.415056",
     "status": "completed"
    },
    "scrolled": false,
    "tags": []
   },
   "outputs": [
    {
     "data": {
      "application/vnd.jupyter.widget-view+json": {
       "model_id": "7c9d01f814e14cabaceb7f19238bb033",
       "version_major": 2,
       "version_minor": 0
      },
      "text/plain": [
       "  0%|          | 0/17 [00:00<?, ?it/s]"
      ]
     },
     "metadata": {},
     "output_type": "display_data"
    },
    {
     "name": "stdout",
     "output_type": "stream",
     "text": [
      "Retrieving document from  https://arxiv.org/e-print/2212.10574\n"
     ]
    },
    {
     "name": "stdout",
     "output_type": "stream",
     "text": [
      "extracting tarball to tmp_2212.10574..."
     ]
    },
    {
     "name": "stdout",
     "output_type": "stream",
     "text": [
      " done.\n",
      "Retrieving document from  https://arxiv.org/e-print/2212.10576\n"
     ]
    },
    {
     "name": "stderr",
     "output_type": "stream",
     "text": [
      "/opt/hostedtoolcache/Python/3.9.16/x64/lib/python3.9/site-packages/IPython/core/interactiveshell.py:3433: LatexWarning: Multiple tex files.\n",
      "\n",
      "  exec(code_obj, self.user_global_ns, self.user_ns)\n",
      "/opt/hostedtoolcache/Python/3.9.16/x64/lib/python3.9/site-packages/IPython/core/interactiveshell.py:3433: LatexWarning: Found documentclass in tmp_2212.10574/natbib.tex\n",
      "\n",
      "  exec(code_obj, self.user_global_ns, self.user_ns)\n"
     ]
    },
    {
     "name": "stdout",
     "output_type": "stream",
     "text": [
      "extracting tarball to tmp_2212.10576..."
     ]
    },
    {
     "name": "stdout",
     "output_type": "stream",
     "text": [
      " done.\n"
     ]
    },
    {
     "name": "stderr",
     "output_type": "stream",
     "text": [
      "/opt/hostedtoolcache/Python/3.9.16/x64/lib/python3.9/site-packages/arxiv_on_deck_2/latex.py:118: LatexWarning: attempting recovering figure apj_figures/ep_fig_CAUSAL_PRX.pdf\n",
      "  warnings.warn(LatexWarning(f'attempting recovering figure {image}'))\n",
      "/tmp/ipykernel_2076/4030337529.py:34: LatexWarning: 2212.10576 did not run properly\n",
      "Could not find figure apj_figures/ep_fig_CAUSAL_PRX.pdf\n",
      "  warnings.warn(latex.LatexWarning(f\"{paper_id:s} did not run properly\\n\" +\n"
     ]
    },
    {
     "name": "stdout",
     "output_type": "stream",
     "text": [
      "Retrieving document from  https://arxiv.org/e-print/2212.10610\n"
     ]
    },
    {
     "name": "stdout",
     "output_type": "stream",
     "text": [
      "extracting tarball to tmp_2212.10610... done.\n",
      "Retrieving document from  https://arxiv.org/e-print/2212.10619\n"
     ]
    },
    {
     "name": "stdout",
     "output_type": "stream",
     "text": [
      "extracting tarball to tmp_2212.10619..."
     ]
    },
    {
     "name": "stdout",
     "output_type": "stream",
     "text": [
      " done.\n",
      "Retrieving document from  https://arxiv.org/e-print/2212.10684\n"
     ]
    },
    {
     "name": "stdout",
     "output_type": "stream",
     "text": [
      "extracting tarball to tmp_2212.10684... done.\n",
      "Retrieving document from  https://arxiv.org/e-print/2212.10736\n"
     ]
    },
    {
     "name": "stdout",
     "output_type": "stream",
     "text": [
      "extracting tarball to tmp_2212.10736..."
     ]
    },
    {
     "name": "stdout",
     "output_type": "stream",
     "text": [
      " done.\n",
      "Retrieving document from  https://arxiv.org/e-print/2212.10751\n"
     ]
    },
    {
     "name": "stderr",
     "output_type": "stream",
     "text": [
      "/opt/hostedtoolcache/Python/3.9.16/x64/lib/python3.9/site-packages/IPython/core/interactiveshell.py:3433: LatexWarning: Multiple tex files.\n",
      "\n",
      "  exec(code_obj, self.user_global_ns, self.user_ns)\n",
      "/opt/hostedtoolcache/Python/3.9.16/x64/lib/python3.9/site-packages/IPython/core/interactiveshell.py:3433: LatexWarning: Found documentclass in tmp_2212.10736/ms.tex\n",
      "\n",
      "  exec(code_obj, self.user_global_ns, self.user_ns)\n",
      "/opt/hostedtoolcache/Python/3.9.16/x64/lib/python3.9/site-packages/arxiv_on_deck_2/latex.py:292: LatexWarning: Latex injecting: 'BA_appendix' from 'tmp_2212.10736/BA_appendix.tex'\n",
      "  warnings.warn(LatexWarning(f\"Latex injecting: '{ext}' from '{subsource}'\"))\n",
      "/opt/hostedtoolcache/Python/3.9.16/x64/lib/python3.9/site-packages/arxiv_on_deck_2/latex.py:292: LatexWarning: Latex injecting: 'BA_summary' from 'tmp_2212.10736/BA_summary.tex'\n",
      "  warnings.warn(LatexWarning(f\"Latex injecting: '{ext}' from '{subsource}'\"))\n",
      "/opt/hostedtoolcache/Python/3.9.16/x64/lib/python3.9/site-packages/arxiv_on_deck_2/latex.py:292: LatexWarning: Latex injecting: 'BA_discussion' from 'tmp_2212.10736/BA_discussion.tex'\n",
      "  warnings.warn(LatexWarning(f\"Latex injecting: '{ext}' from '{subsource}'\"))\n",
      "/opt/hostedtoolcache/Python/3.9.16/x64/lib/python3.9/site-packages/arxiv_on_deck_2/latex.py:292: LatexWarning: Latex injecting: 'BA_analysis' from 'tmp_2212.10736/BA_analysis.tex'\n",
      "  warnings.warn(LatexWarning(f\"Latex injecting: '{ext}' from '{subsource}'\"))\n",
      "/opt/hostedtoolcache/Python/3.9.16/x64/lib/python3.9/site-packages/arxiv_on_deck_2/latex.py:292: LatexWarning: Latex injecting: 'BA_results' from 'tmp_2212.10736/BA_results.tex'\n",
      "  warnings.warn(LatexWarning(f\"Latex injecting: '{ext}' from '{subsource}'\"))\n",
      "/opt/hostedtoolcache/Python/3.9.16/x64/lib/python3.9/site-packages/arxiv_on_deck_2/latex.py:292: LatexWarning: Latex injecting: 'BA_observations' from 'tmp_2212.10736/BA_observations.tex'\n",
      "  warnings.warn(LatexWarning(f\"Latex injecting: '{ext}' from '{subsource}'\"))\n",
      "/opt/hostedtoolcache/Python/3.9.16/x64/lib/python3.9/site-packages/arxiv_on_deck_2/latex.py:292: LatexWarning: Latex injecting: 'BA_intro' from 'tmp_2212.10736/BA_intro.tex'\n",
      "  warnings.warn(LatexWarning(f\"Latex injecting: '{ext}' from '{subsource}'\"))\n"
     ]
    },
    {
     "name": "stdout",
     "output_type": "stream",
     "text": [
      "extracting tarball to tmp_2212.10751..."
     ]
    },
    {
     "name": "stdout",
     "output_type": "stream",
     "text": [
      " done.\n",
      "Retrieving document from  https://arxiv.org/e-print/2212.10752\n"
     ]
    },
    {
     "name": "stderr",
     "output_type": "stream",
     "text": [
      "/opt/hostedtoolcache/Python/3.9.16/x64/lib/python3.9/site-packages/arxiv_on_deck_2/latex.py:292: LatexWarning: Latex injecting: 'ms_bargradients_mnras.bbl' from 'tmp_2212.10751/ms_bargradients_mnras.tex'\n",
      "  warnings.warn(LatexWarning(f\"Latex injecting: '{ext}' from '{subsource}'\"))\n"
     ]
    },
    {
     "name": "stdout",
     "output_type": "stream",
     "text": [
      "extracting tarball to tmp_2212.10752... done.\n",
      "Retrieving document from  https://arxiv.org/e-print/2212.10804\n"
     ]
    },
    {
     "name": "stderr",
     "output_type": "stream",
     "text": [
      "/opt/hostedtoolcache/Python/3.9.16/x64/lib/python3.9/site-packages/IPython/core/interactiveshell.py:3433: LatexWarning: Multiple tex files.\n",
      "\n",
      "  exec(code_obj, self.user_global_ns, self.user_ns)\n",
      "/opt/hostedtoolcache/Python/3.9.16/x64/lib/python3.9/site-packages/IPython/core/interactiveshell.py:3433: LatexWarning: Found documentclass in tmp_2212.10752/RG22.tex\n",
      "\n",
      "  exec(code_obj, self.user_global_ns, self.user_ns)\n"
     ]
    },
    {
     "name": "stdout",
     "output_type": "stream",
     "text": [
      "extracting tarball to tmp_2212.10804... done.\n"
     ]
    },
    {
     "name": "stdout",
     "output_type": "stream",
     "text": [
      "Retrieving document from  https://arxiv.org/e-print/2212.10884\n"
     ]
    },
    {
     "name": "stdout",
     "output_type": "stream",
     "text": [
      "extracting tarball to tmp_2212.10884..."
     ]
    },
    {
     "name": "stdout",
     "output_type": "stream",
     "text": [
      " done.\n",
      "Retrieving document from  https://arxiv.org/e-print/2212.10943\n"
     ]
    },
    {
     "name": "stderr",
     "output_type": "stream",
     "text": [
      "/opt/hostedtoolcache/Python/3.9.16/x64/lib/python3.9/site-packages/IPython/core/interactiveshell.py:3433: LatexWarning: Multiple tex files.\n",
      "\n",
      "  exec(code_obj, self.user_global_ns, self.user_ns)\n",
      "/opt/hostedtoolcache/Python/3.9.16/x64/lib/python3.9/site-packages/IPython/core/interactiveshell.py:3433: LatexWarning: Found documentclass in tmp_2212.10884/NGC6334.tex\n",
      "\n",
      "  exec(code_obj, self.user_global_ns, self.user_ns)\n",
      "/opt/hostedtoolcache/Python/3.9.16/x64/lib/python3.9/site-packages/arxiv_on_deck_2/latex.py:292: LatexWarning: Latex injecting: 'AuthorList2' from 'tmp_2212.10884/AuthorList2.tex'\n",
      "  warnings.warn(LatexWarning(f\"Latex injecting: '{ext}' from '{subsource}'\"))\n"
     ]
    },
    {
     "name": "stdout",
     "output_type": "stream",
     "text": [
      "extracting tarball to tmp_2212.10943..."
     ]
    },
    {
     "name": "stdout",
     "output_type": "stream",
     "text": [
      " done.\n",
      "Retrieving document from  https://arxiv.org/e-print/2212.10995\n"
     ]
    },
    {
     "name": "stderr",
     "output_type": "stream",
     "text": [
      "/opt/hostedtoolcache/Python/3.9.16/x64/lib/python3.9/site-packages/IPython/core/interactiveshell.py:3433: LatexWarning: Multiple tex files.\n",
      "\n",
      "  exec(code_obj, self.user_global_ns, self.user_ns)\n",
      "/opt/hostedtoolcache/Python/3.9.16/x64/lib/python3.9/site-packages/IPython/core/interactiveshell.py:3433: LatexWarning: Found documentclass in tmp_2212.10943/pasa-main.tex\n",
      "\n",
      "  exec(code_obj, self.user_global_ns, self.user_ns)\n",
      "/opt/hostedtoolcache/Python/3.9.16/x64/lib/python3.9/site-packages/arxiv_on_deck_2/latex.py:292: LatexWarning: Latex injecting: 'appendices' from 'tmp_2212.10943/appendices.tex'\n",
      "  warnings.warn(LatexWarning(f\"Latex injecting: '{ext}' from '{subsource}'\"))\n",
      "/opt/hostedtoolcache/Python/3.9.16/x64/lib/python3.9/site-packages/arxiv_on_deck_2/latex.py:292: LatexWarning: Latex injecting: 'content' from 'tmp_2212.10943/content.tex'\n",
      "  warnings.warn(LatexWarning(f\"Latex injecting: '{ext}' from '{subsource}'\"))\n"
     ]
    },
    {
     "name": "stdout",
     "output_type": "stream",
     "text": [
      "extracting tarball to tmp_2212.10995..."
     ]
    },
    {
     "name": "stdout",
     "output_type": "stream",
     "text": [
      " done.\n",
      "Retrieving document from  https://arxiv.org/e-print/2212.11028\n"
     ]
    },
    {
     "name": "stdout",
     "output_type": "stream",
     "text": [
      "extracting tarball to tmp_2212.11028... done.\n",
      "Retrieving document from  https://arxiv.org/e-print/2212.11034\n"
     ]
    },
    {
     "name": "stderr",
     "output_type": "stream",
     "text": [
      "/opt/hostedtoolcache/Python/3.9.16/x64/lib/python3.9/site-packages/IPython/core/interactiveshell.py:3433: LatexWarning: Multiple tex files.\n",
      "\n",
      "  exec(code_obj, self.user_global_ns, self.user_ns)\n",
      "/opt/hostedtoolcache/Python/3.9.16/x64/lib/python3.9/site-packages/IPython/core/interactiveshell.py:3433: LatexWarning: Found documentclass in tmp_2212.11028/ms.tex\n",
      "\n",
      "  exec(code_obj, self.user_global_ns, self.user_ns)\n",
      "/opt/hostedtoolcache/Python/3.9.16/x64/lib/python3.9/site-packages/arxiv_on_deck_2/latex.py:292: LatexWarning: Latex injecting: 'sample_stats.tex' from 'tmp_2212.11028/sample_stats.tex'\n",
      "  warnings.warn(LatexWarning(f\"Latex injecting: '{ext}' from '{subsource}'\"))\n",
      "/opt/hostedtoolcache/Python/3.9.16/x64/lib/python3.9/site-packages/arxiv_on_deck_2/latex.py:292: LatexWarning: Latex injecting: 'sim_stats.tex' from 'tmp_2212.11028/sim_stats.tex'\n",
      "  warnings.warn(LatexWarning(f\"Latex injecting: '{ext}' from '{subsource}'\"))\n",
      "/opt/hostedtoolcache/Python/3.9.16/x64/lib/python3.9/site-packages/arxiv_on_deck_2/latex.py:292: LatexWarning: Latex injecting: 'redshift_table.tex' from 'tmp_2212.11028/redshift_table.tex'\n",
      "  warnings.warn(LatexWarning(f\"Latex injecting: '{ext}' from '{subsource}'\"))\n"
     ]
    },
    {
     "name": "stdout",
     "output_type": "stream",
     "text": [
      "extracting tarball to tmp_2212.11034..."
     ]
    },
    {
     "name": "stdout",
     "output_type": "stream",
     "text": [
      " done.\n",
      "Retrieving document from  https://arxiv.org/e-print/2212.11044\n"
     ]
    },
    {
     "name": "stdout",
     "output_type": "stream",
     "text": [
      "extracting tarball to tmp_2212.11044... done.\n",
      "Retrieving document from  https://arxiv.org/e-print/2212.11096\n"
     ]
    },
    {
     "name": "stdout",
     "output_type": "stream",
     "text": [
      "extracting tarball to tmp_2212.11096..."
     ]
    },
    {
     "name": "stdout",
     "output_type": "stream",
     "text": [
      " done.\n",
      "Retrieving document from  https://arxiv.org/e-print/2212.11177\n"
     ]
    },
    {
     "name": "stdout",
     "output_type": "stream",
     "text": [
      "extracting tarball to tmp_2212.11177..."
     ]
    },
    {
     "name": "stdout",
     "output_type": "stream",
     "text": [
      " done.\n"
     ]
    },
    {
     "name": "stderr",
     "output_type": "stream",
     "text": [
      "/opt/hostedtoolcache/Python/3.9.16/x64/lib/python3.9/site-packages/IPython/core/interactiveshell.py:3433: LatexWarning: Multiple tex files.\n",
      "\n",
      "  exec(code_obj, self.user_global_ns, self.user_ns)\n",
      "/opt/hostedtoolcache/Python/3.9.16/x64/lib/python3.9/site-packages/IPython/core/interactiveshell.py:3433: LatexWarning: Found documentclass in tmp_2212.11177/pahmaps.tex\n",
      "\n",
      "  exec(code_obj, self.user_global_ns, self.user_ns)\n",
      "/opt/hostedtoolcache/Python/3.9.16/x64/lib/python3.9/site-packages/arxiv_on_deck_2/latex.py:292: LatexWarning: Latex injecting: 'authors' from 'tmp_2212.11177/authors.tex'\n",
      "  warnings.warn(LatexWarning(f\"Latex injecting: '{ext}' from '{subsource}'\"))\n"
     ]
    }
   ],
   "source": [
    "documents = []\n",
    "failed = []\n",
    "for paper in tqdm(candidates[:-1]):\n",
    "    paper_id = paper['identifier'].lower().replace('arxiv:', '')\n",
    "    \n",
    "    folder = f'tmp_{paper_id}'\n",
    "\n",
    "    try:\n",
    "        if not os.path.isdir(folder):\n",
    "            folder = retrieve_document_source(f\"{paper_id}\", f'tmp_{paper_id}')\n",
    "        \n",
    "        try:\n",
    "            doc = latex.LatexDocument(folder, validation=validation)    \n",
    "        except AffiliationError as affilerror:\n",
    "            msg = f\"ArXiv:{paper_id:s} is not an MPIA paper... \" + str(affilerror)\n",
    "            failed.append((paper, \"affiliation error: \" + str(affilerror) ))\n",
    "            continue\n",
    "        \n",
    "        # Hack because sometimes author parsing does not work well\n",
    "        if (len(doc.authors) != len(paper['authors'])):\n",
    "            doc._authors = paper['authors']\n",
    "        if (doc.abstract) in (None, ''):\n",
    "            doc._abstract = paper['abstract']\n",
    "            \n",
    "        doc.comment = (get_markdown_badge(paper_id) + \n",
    "                       \"<mark>Appeared on: \" + paper['date'] + \"</mark> - \" +\n",
    "                       \"_\" + paper['comments'] + \"_\")\n",
    "        doc.highlight_authors_in_list(hl_list)\n",
    "\n",
    "        full_md = doc.generate_markdown_text()\n",
    "        \n",
    "        documents.append((paper_id, full_md))\n",
    "    except Exception as e:\n",
    "        warnings.warn(latex.LatexWarning(f\"{paper_id:s} did not run properly\\n\" +\n",
    "                                         str(e)\n",
    "                                        ))\n",
    "        failed.append((paper, \"latex error \" + str(e)))"
   ]
  },
  {
   "cell_type": "markdown",
   "id": "2505a25c",
   "metadata": {
    "papermill": {
     "duration": 0.005939,
     "end_time": "2022-12-22T04:06:58.630342",
     "exception": false,
     "start_time": "2022-12-22T04:06:58.624403",
     "status": "completed"
    },
    "tags": []
   },
   "source": [
    "### Export the logs\n",
    "\n",
    "Throughout, we also keep track of the logs per paper. see `logs-{today date}.md` "
   ]
  },
  {
   "cell_type": "code",
   "execution_count": 6,
   "id": "d733828a",
   "metadata": {
    "execution": {
     "iopub.execute_input": "2022-12-22T04:06:58.644480Z",
     "iopub.status.busy": "2022-12-22T04:06:58.643852Z",
     "iopub.status.idle": "2022-12-22T04:06:58.671210Z",
     "shell.execute_reply": "2022-12-22T04:06:58.670669Z"
    },
    "papermill": {
     "duration": 0.036307,
     "end_time": "2022-12-22T04:06:58.672649",
     "exception": false,
     "start_time": "2022-12-22T04:06:58.636342",
     "status": "completed"
    },
    "scrolled": false,
    "tags": []
   },
   "outputs": [
    {
     "data": {
      "text/markdown": [
       "## Successful papers"
      ],
      "text/plain": [
       "<IPython.core.display.Markdown object>"
      ]
     },
     "metadata": {},
     "output_type": "display_data"
    },
    {
     "data": {
      "text/markdown": [
       "\n",
       "|||\n",
       "|---:|:---|\n",
       "| [![arXiv](https://img.shields.io/badge/arXiv-arXiv:2212.10804-b31b1b.svg)](https://arxiv.org/abs/arXiv:2212.10804) | **Local Group Dwarf Galaxy Detection Limit in the CSST survey**  |\n",
       "|| Han Qu, et al. -- incl., <mark>Guoliang Li</mark> |\n",
       "|*Appeared on*| *2022-12-22*|\n",
       "|*Comments*| *submitted to MNRAS. 11 pages, 10 figures*|\n",
       "|**Abstract**| We predict the dwarf galaxy detection limits for the upcoming Chinese Space Station Telescope (CSST) survey that will cover 17,500 deg$^{2}$ of the sky with a wide field of view of 1.1 deg$^2$. The point-source depth reaches 26.3 mag in the $g$ band and 25.9 mag in the $i$ band. Constructing mock survey data based on the designed photometric bands, we estimate the recovery rate of artificial dwarf galaxies from mock point-source photometric catalogues. The detection of these artificial dwarf galaxies is strongly dependent on their distance, magnitude and size, in agreement with searches in current surveys. We expect CSST to enable the detection of dwarf galaxies with $M_V = -3.0$ and $\\mu_{250} = 32.0$ mag/arcsec$^2$ (surface-brightness limit for a system of half-light radius $r_{\\rm h}$ = 250 pc at 400 kpc, and $M_V = -4.9$ and $\\mu_{250} = 30.5$ mag/arcsec$^2$ around the Andromeda galaxy. Beyond the Local Group, the CSST survey will achieve $M_V = -5.8$, and $\\mu_{250}$ = 29.7 mag/arcsec$^2$ in the distance range of 1--2 Mpc, opening up an exciting discovery space for faint field dwarf galaxies. With its optical bands, wide survey footprint, and space resolution, CSST will undoubtedly expand our knowledge of low-mass dwarf galaxies to an unprecedented volume. |"
      ],
      "text/plain": [
       "[arXiv:2212.10804] Local Group Dwarf Galaxy Detection Limit in the CSST survey\n",
       "\tHan Qu, et al. -- incl., <mark>Guoliang Li</mark>"
      ]
     },
     "metadata": {},
     "output_type": "display_data"
    },
    {
     "data": {
      "text/markdown": [
       "\n",
       "|||\n",
       "|---:|:---|\n",
       "| [![arXiv](https://img.shields.io/badge/arXiv-arXiv:2212.11177-b31b1b.svg)](https://arxiv.org/abs/arXiv:2212.11177) | **PHANGS-JWST First Results: Tracing the Diffuse ISM with JWST Imaging of  Polycyclic Aromatic Hydrocarbon Emission in Nearby Galaxies**  |\n",
       "|| Karin M. Sandstrom, et al. -- incl., <mark>Rowan J. Smith</mark>, <mark>Janice C. Lee</mark>, <mark>Eva Schinnerer</mark>, <mark>Jonathan D. Henshaw</mark>, <mark>Annie Hughes</mark>, <mark>Kathryn Kreckel</mark>, <mark>Daizhong Liu</mark> |\n",
       "|*Appeared on*| *2022-12-22*|\n",
       "|*Comments*| *18 pages, 6 figures, accepted as part of a PHANGS-JWST Focus Issue to appear in ApJ*|\n",
       "|**Abstract**| JWST observations of polycyclic aromatic hydrocarbon (PAH) emission provide some of the deepest and highest resolution views of the cold interstellar medium (ISM) in nearby galaxies. If PAHs are well mixed with the atomic and molecular gas and illuminated by the average diffuse interstellar radiation field, PAH emission may provide an approximately linear, high resolution, high sensitivity tracer of diffuse gas surface density. We present a pilot study that explores using PAH emission in this way based on MIRI observations of IC 5332, NGC 628, NGC 1365, and NGC 7496 from the PHANGS-JWST Treasury. Using scaling relationships calibrated in Leroy et al. (2022), scaled F1130W provides 10--40 pc resolution and 3$\\sigma$ sensitivity of $\\Sigma_{\\rm gas} \\sim 2$ M$_\\odot$ pc$^{-2}$. We characterize the surface densities of structures seen at $< 7$ M$_\\odot$ pc$^{-2}$ in our targets, where we expect the gas to be HI-dominated. We highlight the existence of filaments, inter-arm emission, and holes in the diffuse ISM at these low surface densities. Below $\\sim 10$ M$_\\odot$ pc$^{-2}$ for NGC 628, NGC 1365, and NGC 7496 the gas distribution shows a ``Swiss cheese''-like topology due to holes and bubbles pervading the relatively smooth distribution of diffuse ISM. Comparing to recent galaxy simulations, we observe similar topology for the low surface density gas, though with notable variations between simulations with different setups and resolution. Such a comparison of high resolution, low surface density gas with simulations is not possible with existing atomic and molecular gas maps, highlighting the unique power of JWST maps of PAH emission. |"
      ],
      "text/plain": [
       "[arXiv:2212.11177] PHANGS-JWST First Results: Tracing the Diffuse ISM with JWST Imaging of  Polycyclic Aromatic Hydrocarbon Emission in Nearby Galaxies\n",
       "\tKarin M. Sandstrom, et al. -- incl., <mark>Rowan J. Smith</mark>, <mark>Janice C. Lee</mark>, <mark>Eva Schinnerer</mark>, <mark>Jonathan D. Henshaw</mark>, <mark>Annie Hughes</mark>, <mark>Kathryn Kreckel</mark>, <mark>Daizhong Liu</mark>"
      ]
     },
     "metadata": {},
     "output_type": "display_data"
    },
    {
     "data": {
      "text/markdown": [
       "## Failed papers"
      ],
      "text/plain": [
       "<IPython.core.display.Markdown object>"
      ]
     },
     "metadata": {},
     "output_type": "display_data"
    },
    {
     "data": {
      "text/markdown": [
       "\n",
       "|||\n",
       "|---:|:---|\n",
       "| [![arXiv](https://img.shields.io/badge/arXiv-arXiv:2212.10574-b31b1b.svg)](https://arxiv.org/abs/arXiv:2212.10574) | **PHANGS-JWST First Results: Mid-infrared emission traces both gas column  density and heating at 100 pc scales**  |\n",
       "|| Adam K. Leroy, et al. -- incl., <mark>Eva Schinnerer</mark>, <mark>Jonathan D. Henshaw</mark>, <mark>Annie Hughes</mark>, <mark>Kathryn Kreckel</mark>, <mark>Janice C. Lee</mark>, <mark>Daizhong Liu</mark>, <mark>Justus Neumann</mark> |\n",
       "|*Appeared on*| *2022-12-22*|\n",
       "|*Comments*| *49 pages, 17 figures, Section 8 provides a detailed summary, submitted to AAS journals and revised according to referee comments, part of a PHANGS-JWST Focus Issue to appear in ApJ*|\n",
       "|**Abstract**| We compare mid-infrared (mid-IR), extinction-corrected H$\\alpha$, and CO (2-1) emission at 70--160 pc resolution in the first four PHANGS-JWST targets. We report correlation strengths, intensity ratios, and power law fits relating emission in JWST's F770W, F1000W, F1130W, and F2100W bands to CO and H$\\alpha$. At these scales, CO and H$\\alpha$ each correlate strongly with mid-IR emission, and these correlations are each stronger than the one relating CO to H$\\alpha$ emission. This reflects that mid-IR emission simultaneously acts as a dust column density tracer, leading to the good match with the molecular gas-tracing CO, and as a heating tracer, leading to the good match with the H$\\alpha$. By combining mid-IR, CO, and H$\\alpha$ at scales where the overall correlation between cold gas and star formation begins to break down, we are able to separate these two effects. We model the mid-IR above $I_\\nu = 0.5$~MJy sr$^{-1}$ at F770W, a cut designed to select regions where the molecular gas dominates the interstellar medium (ISM) mass. This bright emission can be described to first order by a model that combines a CO-tracing component and an H$\\alpha$-tracing component. The best-fitting models imply that $\\sim 50\\%$ of the mid-IR flux arises from molecular gas heated by the diffuse interstellar radiation field, with the remaining $\\sim 50\\%$ associated with bright, dusty star forming regions. We discuss differences between the F770W, F1000W, F1130W bands and the continuum dominated F2100W band and suggest next steps for using the mid-IR as an ISM tracer. |\n",
       "|<p style=\"color:green\"> **ERROR** </p>| <p style=\"color:green\">affiliation error: mpia.affiliation_verifications: 'Heidelberg' keyword not found.</p> |"
      ],
      "text/plain": [
       "<IPython.core.display.Markdown object>"
      ]
     },
     "metadata": {},
     "output_type": "display_data"
    },
    {
     "data": {
      "text/markdown": [
       "\n",
       "|||\n",
       "|---:|:---|\n",
       "| [![arXiv](https://img.shields.io/badge/arXiv-arXiv:2212.10610-b31b1b.svg)](https://arxiv.org/abs/arXiv:2212.10610) | **The kinetic and magnetic energy budget of hub-filament systems during  the gravitational fragmentation of molecular clouds**  |\n",
       "|| Vianey Camacho, <mark>Enrique Vázquez-Semadeni</mark>, Manuel Zamora-Avilés, Aina Palau |\n",
       "|*Appeared on*| *2022-12-22*|\n",
       "|*Comments*| *Abridged abstract, 14 Pages, 10 figures, Submitted to MNRAS, comments welcome*|\n",
       "|**Abstract**| We present a numerical study of the balance between the gravitational (Eg), kinetic (Ek), and magnetic (Em) energies of the clumps and cores within a hub-filament system in a simulation of the formation of a giant molecular cloud and its subsequent hierarchical gravitational contraction. We investigate the scaling of the virial parameter, $\\alpha$ with mass, and of the Larson ratio, $L$ with column density. We also define the magnetic counterparts of $\\alpha$ and $L$, and consider their corresponding scalings, as well as the direct scalings of Ek and Em with Eg. Finally, we compare our numerical results with an observational sample of dense cores. We find that: 1) The magnetic energy budget parameters follow similar scalings as their kinetic counterparts ($\\alpha$ and $L$), although the ratio Em/Ek decreases as |Eg| increases. 2) $\\alpha$ exhibit a large scatter at low masses, as do $L$ at low column density. At large masses/column densities, the structures tend to be moderately subvirial, in agreement with observations. 3) The largest objects, tend to be gravitationally bound, while their internal substructures tend to appear unbound. Thus, the latter are being compressed by the infall of their parent structures. 4) The largest structures are magnetically supercritical, while their internal substructures often appear subcritical, supporting earlier suggestions that the measured mass-to-magnetic flux ratio $\\mu$ decreases inwards in a centrally-peaked cloud. 5) Within a fixed boundary, the mass content increases due to accretion from the parent structure, causing a temporal increase of both $\\mu$ and the fragmentation level. 6) The scatter observed in point two, is strongly reduced when Ek and Em are plotted directly against Eg, suggesting that the main controlling parameter of the energy budget in the structures is Eg and that they derive their kinetic and magnetic energies from it. |\n",
       "|<p style=\"color:green\"> **ERROR** </p>| <p style=\"color:green\">affiliation error: mpia.affiliation_verifications: 'Heidelberg' keyword not found.</p> |"
      ],
      "text/plain": [
       "<IPython.core.display.Markdown object>"
      ]
     },
     "metadata": {},
     "output_type": "display_data"
    },
    {
     "data": {
      "text/markdown": [
       "\n",
       "|||\n",
       "|---:|:---|\n",
       "| [![arXiv](https://img.shields.io/badge/arXiv-arXiv:2212.10619-b31b1b.svg)](https://arxiv.org/abs/arXiv:2212.10619) | **Variations in Differential Rotation and Meridional Flow within the Sun's  Surface Shear Layer 1996-2022**  |\n",
       "|| David H. Hathaway, <mark>Lisa A. Upton</mark>, <mark>Sushant S. Mahajan</mark> |\n",
       "|*Appeared on*| *2022-12-22*|\n",
       "|*Comments*| **|\n",
       "|**Abstract**| We measure differential rotation and meridional flow in the Sun's surface shear layer by tracking the motions of the magnetic network seen in magnetograms from SOHO/MDI and SDO/HMI over solar cycles 23, 24, and the start of 25 (1996-2022). We examine the axisymmetric flows derived from 15-24 daily measurements averaged over individual 27-day Carrington rotations. Variations in the differential rotation include the equatorial torsional oscillation - cyclonic flows centered on the active latitudes with slower flows on the poleward sides of the active latitudes and faster flows equatorward. The fast flow band starts at $\\sim$45$^\\circ$ latitude during the declining phase of the previous cycle and drifts equatorward, terminating at the equator at about the time of cycle minimum. Variations in the differential rotation also include a polar oscillation above 45$^\\circ$ with faster rotation at cycle maxima and slower rotation at cycle minima. The equatorial variations were stronger in cycle 24 than in cycle 23 but the polar variations were weaker. Variations in the meridional flow include a slowing of the poleward flow in the active latitudes during cycle rise and maximum and a speeding up of the poleward flow during cycle decline and minimum. The slowing in the active latitudes was less pronounced in cycle 24 than in cycle 23. Polar countercells (equatorward flow) extend from the poles down to $\\sim$60$^\\circ$ latitude from time to time (1996-2000 and 2016-2022 in the south and 2001-2011 and 2017-2022 in the north). Both axisymmetric flows vary in strength with depth. The rotation rate increases inward while the meridional flow weakens inward. |\n",
       "|<p style=\"color:green\"> **ERROR** </p>| <p style=\"color:green\">affiliation error: mpia.affiliation_verifications: 'Heidelberg' keyword not found.</p> |"
      ],
      "text/plain": [
       "<IPython.core.display.Markdown object>"
      ]
     },
     "metadata": {},
     "output_type": "display_data"
    },
    {
     "data": {
      "text/markdown": [
       "\n",
       "|||\n",
       "|---:|:---|\n",
       "| [![arXiv](https://img.shields.io/badge/arXiv-arXiv:2212.10684-b31b1b.svg)](https://arxiv.org/abs/arXiv:2212.10684) | **Measures of Variance on Windowed Gaussian Processes**  |\n",
       "|| <mark>Daeyoung Lee</mark>, Charles F. Gammie |\n",
       "|*Appeared on*| *2022-12-22*|\n",
       "|*Comments*| *5 pages, 1 figure, submitted to RNAAS*|\n",
       "|**Abstract**| The variance and fractional variance on a fixed time window (variously known as \"rms percent\" or \"modulation index\") are commonly used to characterize the variability of astronomical sources. We summarize properties of this statistic for a Gaussian process. |\n",
       "|<p style=\"color:green\"> **ERROR** </p>| <p style=\"color:green\">affiliation error: mpia.affiliation_verifications: 'Heidelberg' keyword not found.</p> |"
      ],
      "text/plain": [
       "<IPython.core.display.Markdown object>"
      ]
     },
     "metadata": {},
     "output_type": "display_data"
    },
    {
     "data": {
      "text/markdown": [
       "\n",
       "|||\n",
       "|---:|:---|\n",
       "| [![arXiv](https://img.shields.io/badge/arXiv-arXiv:2212.10736-b31b1b.svg)](https://arxiv.org/abs/arXiv:2212.10736) | **The molecular environment of the solar-type protostar IRAS 16293-2422**  |\n",
       "|| K. Angelique Kahle, <mark>Antonio Hernández-Gómez</mark>, Friedrich Wyrowski, Karl M. Menten |\n",
       "|*Appeared on*| *2022-12-22*|\n",
       "|*Comments*| **|\n",
       "|**Abstract**| Studying the physical and chemical processes leading to the formation of low-mass stars is crucial for understanding the origin of our Sun and the Solar System. In particular, analyzing the emission and absorption lines from molecules is a fundamental tool to obtain information on the kinematics and chemistry at the very early stages of star formation. In this work we aim to examine the spatial structures and molecular abundances of material surrounding the very well-known low-mass binary protostar IRAS 16293-2422 and the prestellar core 16293E, which are embedded in the Lynds 1689N dark cloud. We have used the LAsMA heterodyne array installed on the Atacama Pathfinder EXperiment (APEX) 12 meter submillimeter telescope to image a region of about 0.12x0.12pc$^2$ around IRAS 16293-2422 and 16293E and to study their molecular environment covering 45.6GHz in a frequency range from 277GHz to 375GHz. We have identified 144 transitions from 36 molecular species, including isotopologues. The maps reveal the envelope to have a complex morphology around the cloud cores and the emission peaks known as E1, E2, W1, W2, and HE2, including the outflow structure arising from IRAS 16293-2422. Using several transitions of para-H$_2$CO, we have derived new lower limits for the kinetic temperatures toward IRAS 16293-2422 and the surrounding emission peaks. Based on these temperatures, H$_2$ volume densities and column densities for all detected species were derived around the cloud cores and all emission peaks. Our new observations further confirm the scenario of an outflow arising from IRAS 16293-2422 interacting with the prestellar core 16293E. We observe a large-scale velocity gradient across the molecular cloud. Furthermore, we see clear chemical differences at the examined positions. The data suggests that emission peak W2 may be related to a colder dust source. |\n",
       "|<p style=\"color:green\"> **ERROR** </p>| <p style=\"color:green\">affiliation error: mpia.affiliation_verifications: 'Heidelberg' keyword not found.</p> |"
      ],
      "text/plain": [
       "<IPython.core.display.Markdown object>"
      ]
     },
     "metadata": {},
     "output_type": "display_data"
    },
    {
     "data": {
      "text/markdown": [
       "\n",
       "|||\n",
       "|---:|:---|\n",
       "| [![arXiv](https://img.shields.io/badge/arXiv-arXiv:2212.10751-b31b1b.svg)](https://arxiv.org/abs/arXiv:2212.10751) | **Metallicity Gradient of Barred Galaxies with TYPHOON**  |\n",
       "|| Qian-Hui Chen, et al. -- incl., <mark>Lisa J. Kewley</mark> |\n",
       "|*Appeared on*| *2022-12-22*|\n",
       "|*Comments*| *24 pages, 6 figures, 2 tables, accepted by MNRAS*|\n",
       "|**Abstract**| Bars play an important role in mixing material in the inner regions of galaxies and stimulating radial migration. Previous observations have found evidence for the impact of a bar on metallicity gradients but the effect is still inconclusive. We use the TYPHOON/PrISM survey to investigate the metallicity gradients along and beyond the bar region across the entire star-forming disk of five nearby galaxies. Using emission line diagrams to identify star-forming spaxels, we recover the global metallicity gradients ranging from -0.0162 to -0.073 dex/kpc with evidence that the galactic bars act as an agent in affecting in-situ star formation as well as the motions of gas and stars. We observe cases with a `shallow-steep' metallicity radial profile, with evidence of the bar flattening the metallicity gradients inside the bar region (NGC~5068 and NGC~1566) and also note instances where the bar appears to drive a steeper metallicity gradient producing `steep-shallow' metallicity profiles (NGC~1365 and NGC~1744). For NGC~2835, a `steep-shallow' metallicity gradient break occurs at a distance $\\sim$ 4 times the bar radius, which is more likely driven by gas accretion to the outskirt of the galaxy instead of the bar. The variation of metallicity gradients around the bar region traces the fluctuations of star formation rate surface density in NGC~1365, NGC~1566 and NGC~1744. A larger sample combined with hydrodynamical simulations is required to further explore the diversity and the relative importance of different ISM mixing mechanisms on the gas-phase metallicity gradients in local galaxies. |\n",
       "|<p style=\"color:green\"> **ERROR** </p>| <p style=\"color:green\">affiliation error: mpia.affiliation_verifications: 'Heidelberg' keyword not found.</p> |"
      ],
      "text/plain": [
       "<IPython.core.display.Markdown object>"
      ]
     },
     "metadata": {},
     "output_type": "display_data"
    },
    {
     "data": {
      "text/markdown": [
       "\n",
       "|||\n",
       "|---:|:---|\n",
       "| [![arXiv](https://img.shields.io/badge/arXiv-arXiv:2212.10752-b31b1b.svg)](https://arxiv.org/abs/arXiv:2212.10752) | **Modelling the CO streamers in the explosive ejection of Orion BN/KL  region**  |\n",
       "|| Ary Rodríguez-González, et al. -- incl., <mark>Liliana Hernández-Martínez</mark> |\n",
       "|*Appeared on*| *2022-12-22*|\n",
       "|*Comments*| *MNRAS, accepted, 10 figures*|\n",
       "|**Abstract**| We present reactive gasdynamic, axisymmetric simulations of dense, high velocity clumps for modelling the CO streamers observed in Orion BN/KL. We have considered 15 chemical species, a cooling function for atomic and molecular gas, and heating through cosmic rays. Our numerical simulations explore different ejection velocities, interstellar medium density configurations, and CO content. Using the CO density and temperature, we have calculated the CO ($J=2\\to1$) emissivity, and have built CO maps and spatially resolved line profiles, allowing us to see the CO emitting regions of the streamers and to obtain position velocity diagrams to compare with observations. We find that in order to reproduce the images and line profiles of the BN/KL CO streamers and H$_2$ fingers, we need to have clumps that first travel within a dense cloud core, and then emerge into a lower-density environment. |\n",
       "|<p style=\"color:green\"> **ERROR** </p>| <p style=\"color:green\">affiliation error: mpia.affiliation_verifications: 'Heidelberg' keyword not found.</p> |"
      ],
      "text/plain": [
       "<IPython.core.display.Markdown object>"
      ]
     },
     "metadata": {},
     "output_type": "display_data"
    },
    {
     "data": {
      "text/markdown": [
       "\n",
       "|||\n",
       "|---:|:---|\n",
       "| [![arXiv](https://img.shields.io/badge/arXiv-arXiv:2212.10884-b31b1b.svg)](https://arxiv.org/abs/arXiv:2212.10884) | **JCMT BISTRO Observations: Magnetic Field Morphology of Bubbles  Associated with NGC 6334**  |\n",
       "|| Mehrnoosh Tahani, et al. -- incl., <mark>Kyoung Hee Kim</mark>, <mark>Chang Won Lee</mark>, <mark>Hong-Li Liu</mark> |\n",
       "|*Appeared on*| *2022-12-22*|\n",
       "|*Comments*| *Accepted for publication in Astrophysical Journal (ApJ)*|\n",
       "|**Abstract**| We study the HII regions associated with the NGC 6334 molecular cloud observed in the sub-millimeter and taken as part of the B-fields In STar-forming Region Observations (BISTRO) Survey. In particular, we investigate the polarization patterns and magnetic field morphologies associated with these HII regions. Through polarization pattern and pressure calculation analyses, several of these bubbles indicate that the gas and magnetic field lines have been pushed away from the bubble, toward an almost tangential (to the bubble) magnetic field morphology. In the densest part of NGC 6334, where the magnetic field morphology is similar to an hourglass, the polarization observations do not exhibit observable impact from HII regions. We detect two nested radial polarization patterns in a bubble to the south of NGC 6334 that correspond to the previously observed bipolar structure in this bubble. Finally, using the results of this study, we present steps (incorporating computer vision; circular Hough Transform) that can be used in future studies to identify bubbles that have physically impacted magnetic field lines. |\n",
       "|<p style=\"color:green\"> **ERROR** </p>| <p style=\"color:green\">affiliation error: mpia.affiliation_verifications: 'Heidelberg' keyword not found.</p> |"
      ],
      "text/plain": [
       "<IPython.core.display.Markdown object>"
      ]
     },
     "metadata": {},
     "output_type": "display_data"
    },
    {
     "data": {
      "text/markdown": [
       "\n",
       "|||\n",
       "|---:|:---|\n",
       "| [![arXiv](https://img.shields.io/badge/arXiv-arXiv:2212.10943-b31b1b.svg)](https://arxiv.org/abs/arXiv:2212.10943) | **DeepGlow: an efficient neural-network emulator of physical afterglow  models for gamma-ray bursts and gravitational-wave events**  |\n",
       "|| Oliver M. Boersma, <mark>Joeri van Leeuwen</mark> |\n",
       "|*Appeared on*| *2022-12-22*|\n",
       "|*Comments*| *9 pages, 5 figures, 5 tables, submitted to PASA. Code available*|\n",
       "|**Abstract**| Gamma-ray bursts (GRBs) and double neutron-star merger gravitational wave events are followed by afterglows that shine from X-rays to radio, and these broadband transients are generally interpreted using analytical models. Such models are relatively fast to execute, and thus easily allow estimates of the energy and geometry parameters of the blast wave, through many trial-and-error model calculations. One problem, however, is that such analytical models do not capture the underlying physical processes as well as more realistic relativistic numerical hydrodynamic (RHD) simulations do. Ideally, those simulations are used for parameter estimation instead, but their computational cost makes this intractable. To this end, we present DeepGlow, a highly efficient neural network architecture trained to emulate a computationally costly RHD-based model of GRB afterglows, to within a few percent accuracy. As a first scientific application, we compare both the emulator and a different analytical model calibrated to RHD simulations, to estimate the parameters of a broadband GRB afterglow. We find consistent results between these two models, and also give further evidence for a stellar wind progenitor environment around this GRB source. DeepGlow fuses simulations that are otherwise too complex to execute over all parameters, to real broadband data of current and future GRB afterglows. |\n",
       "|<p style=\"color:green\"> **ERROR** </p>| <p style=\"color:green\">affiliation error: mpia.affiliation_verifications: 'Heidelberg' keyword not found.</p> |"
      ],
      "text/plain": [
       "<IPython.core.display.Markdown object>"
      ]
     },
     "metadata": {},
     "output_type": "display_data"
    },
    {
     "data": {
      "text/markdown": [
       "\n",
       "|||\n",
       "|---:|:---|\n",
       "| [![arXiv](https://img.shields.io/badge/arXiv-arXiv:2212.10995-b31b1b.svg)](https://arxiv.org/abs/arXiv:2212.10995) | **XMM-Newton**  |\n",
       "|| Norbert Schartel, et al. -- incl., <mark>Michael Smith</mark> |\n",
       "|*Appeared on*| *2022-12-22*|\n",
       "|*Comments*| *37 pages, 28 figures, Invited chapter for {\\it Handbook of X-ray and Gamma-ray Astrophysics} (Eds. C. Bambi and A. Santangelo, Springer Singapore, expected in 2022*|\n",
       "|**Abstract**| The X-ray Multi-mirror Mission (XMM-Newton) provides simultaneous non-dispersive spectroscopic X-ray imaging and timing, medium resolution dispersive X-ray spectroscopy and optical/UV imaging, spectroscopy and timing. In combination, the imaging cameras offer an effective area over the energy range from 150 eV to 12 keV of up to 2500 cm$^2$ at 1.5 keV and $\\sim$1800 cm$^2$ at 5 keV. The gratings cover an energy range from 0.4 keV to 2.2 keV with a combined effective area of up to 120 cm$^2$ at 0.8 keV. XMM-Newton offers unique opportunities for a wide variety of sensitive X-ray observations accompanied by simultaneous optical/UV measurements. The majority of XMM-Newton's observing time is made available to the astronomical community by peer-reviewed Announcements of Opportunity. The scientific exploitation of XMM-Newton data is aided by an observatory-class X-ray facility which provides analysis software, pipeline processing, calibration and catalogue generation. Around 380 refereed papers based on XMM-Newton data are published each year with a high fraction of papers reporting transformative scientific results. |\n",
       "|<p style=\"color:green\"> **ERROR** </p>| <p style=\"color:green\">affiliation error: mpia.affiliation_verifications: 'Heidelberg' keyword not found.</p> |"
      ],
      "text/plain": [
       "<IPython.core.display.Markdown object>"
      ]
     },
     "metadata": {},
     "output_type": "display_data"
    },
    {
     "data": {
      "text/markdown": [
       "\n",
       "|||\n",
       "|---:|:---|\n",
       "| [![arXiv](https://img.shields.io/badge/arXiv-arXiv:2212.11028-b31b1b.svg)](https://arxiv.org/abs/arXiv:2212.11028) | **Effects of Multiphase Gas and Projection on X-ray Observables in  Simulated Galaxy Clusters as Seen by eROSITA**  |\n",
       "|| J. ZuHone, et al. -- incl., <mark>T. Liu</mark>, <mark>O. König</mark>, <mark>X. Zhang</mark> |\n",
       "|*Appeared on*| *2022-12-22*|\n",
       "|*Comments*| *17 pages, 16 figures, submitted to A&A*|\n",
       "|**Abstract**| The number density of galaxy clusters as a function of mass and redshift is a sensitive function of the cosmological parameters. To use clusters for cosmological parameter studies, it is necessary to determine their masses as accurately as possible, which is typically done via mass-observable scaling relations. X-ray observables can be biased by multiphase gas and projection effects, especially in the case where cluster temperatures and luminosities are estimated from single-model fits to all of the emission with a given radius. Using simulated galaxy clusters from a realistic cosmological simulation, we seek to determine the importance of these biases in the context of Spectrum-Roentgen-Gamma/eROSITA observations of clusters. We extract clusters from the Magneticum suite, and simulate eROSITA observations of these clusters using PHOX and SIXTE. We compare the fitted observables from these observations to those derived from the simulations. We fitted an intrinsically scattered $L_{\\rm X}-T$ scaling relation to these measurements following a Bayesian approach with which we fully took into account the selection effects and the mass function. The largest biases on the cluster observables come from the inadequacy of single-temperature model fits to represent emission from multiphase gas, as well as a bias arising from cluster emission within the projected $r_{500c}$ along the line of sight but outside of the spherical $r_{500c}$. We find that the biases on temperature and luminosity due to the projection of emission from other clusters within $r_{500c}$ is small. We find that our simulated clusters follow a $L_{\\rm X}-T$ scaling relation that has a broadly consistent but slightly shallower slope compared to the literature, and that the intrinsic scatter of $L_{\\rm X}$ at given T is lower compared to the recent observational results where the selection effects are fully considered. |\n",
       "|<p style=\"color:green\"> **ERROR** </p>| <p style=\"color:green\">affiliation error: mpia.affiliation_verifications: 'Heidelberg' keyword not found.</p> |"
      ],
      "text/plain": [
       "<IPython.core.display.Markdown object>"
      ]
     },
     "metadata": {},
     "output_type": "display_data"
    },
    {
     "data": {
      "text/markdown": [
       "\n",
       "|||\n",
       "|---:|:---|\n",
       "| [![arXiv](https://img.shields.io/badge/arXiv-arXiv:2212.11034-b31b1b.svg)](https://arxiv.org/abs/arXiv:2212.11034) | **Hunting for Neighboring Open Clusters with Gaia DR3: 101 New Open  Clusters within 500 pc**  |\n",
       "|| Songmei Qin, Jing Zhong, Tong Tang, <mark>Li Chen</mark> |\n",
       "|*Appeared on*| *2022-12-22*|\n",
       "|*Comments*| *32 pages, 10 figures*|\n",
       "|**Abstract**| We systematically searched for open clusters in the solar neighborhood within 500 pc using pyUPMASK and HDBSCAN clustering algorithms based on {\\it Gaia} DR3. Taking into consideration that the physical size for most open clusters is less than 50 pc, we adopted a slicing approach for different distance shells and identified 324 neighboring open clusters, including 223 reported open clusters and 101 newly discovered open clusters (named as OCSN, Open Cluster of Solar Neighborhood). Our discovery has increased the number of open clusters in the solar neighborhood by about 45\\%. In this work, larger spatial extents and more member stars were attained for our cluster sample. We provided the member stars and the membership probabilities through the pyUPMASK algorithm for each cluster and derived their astrophysical, age, and structural parameters. |\n",
       "|<p style=\"color:green\"> **ERROR** </p>| <p style=\"color:green\">affiliation error: mpia.affiliation_verifications: 'Heidelberg' keyword not found.</p> |"
      ],
      "text/plain": [
       "<IPython.core.display.Markdown object>"
      ]
     },
     "metadata": {},
     "output_type": "display_data"
    },
    {
     "data": {
      "text/markdown": [
       "\n",
       "|||\n",
       "|---:|:---|\n",
       "| [![arXiv](https://img.shields.io/badge/arXiv-arXiv:2212.11044-b31b1b.svg)](https://arxiv.org/abs/arXiv:2212.11044) | **Oscillations and tidal deformations of crystallized white dwarfs**  |\n",
       "|| Yat-To Tang, <mark>Lap-Ming Lin</mark> |\n",
       "|*Appeared on*| *2022-12-22*|\n",
       "|*Comments*| *12 pages, 18 figures*|\n",
       "|**Abstract**| Long predicted more than fifty years ago, strong evidence for the existence of crystalline cores inside white dwarfs has recently been obtained by the Gaia space telescope. It is thus important to investigate how a crystalline core may affect the properties and dynamics of white dwarfs. In this paper, we first study the dependence of the frequencies of the fundamental (f), interfacial (i), and shear (s) oscillation modes on the size of the crystalline core. We find that the frequencies of the i- and s-modes depend sensitively on the size of the core, while the frequency of the f-mode is affected only slightly by at most a few percent for our chosen white dwarf models. We next consider the tidal deformability of crystallized white dwarfs and find that the effect of crystallization becomes significant only when the radius of the core is larger than about 70% of the stellar radius. The tidal deformability can change by a few to about 10 percent when a white dwarf becomes fully crystallized. We also show that there exist approximate equation-of-state insensitive relations connecting the mass, moment of inertia, tidal deformability, and f-mode frequency for pure fluid white dwarfs. Depending on the stellar mass and composition, however, these relations can be affected by a few percent when the white dwarf is crystallized. These changes could leave an imprint on the gravitational waves emitted from the late inspiral or merger of white dwarf binaries, which may be detectable by future space-borne gravitational wave detectors. |\n",
       "|<p style=\"color:green\"> **ERROR** </p>| <p style=\"color:green\">affiliation error: mpia.affiliation_verifications: 'Heidelberg' keyword not found.</p> |"
      ],
      "text/plain": [
       "<IPython.core.display.Markdown object>"
      ]
     },
     "metadata": {},
     "output_type": "display_data"
    },
    {
     "data": {
      "text/markdown": [
       "\n",
       "|||\n",
       "|---:|:---|\n",
       "| [![arXiv](https://img.shields.io/badge/arXiv-arXiv:2212.11096-b31b1b.svg)](https://arxiv.org/abs/arXiv:2212.11096) | **The Sun at millimeter wavelengths IV. Magnetohydrodynamic waves in  small-scale bright features**  |\n",
       "|| Juan Camilo Guevara Gómez, et al. -- incl., <mark>Henrik Eklund</mark> |\n",
       "|*Appeared on*| *2022-12-22*|\n",
       "|*Comments*| *15 pages, 11 figures. Accepted for publication in Astronomy and Astrophysics. Abstract has been shorten to fulfil Arxiv requirements*|\n",
       "|**Abstract**| We used solar observations of a plage/enhanced network with the Atacama Large Millimeter/sub-millimeter Array (ALMA) in Band 3 and Band 6 together with synthetic continuum maps from numerical simulations with Bifrost at the same bands to carry out a detailed study of bright small-scale magnetic features. To this end, we have used an algorithm to automatically identify and trace the features within the field of view (FoV) of the observations and the simulation. We found 193 and 293 features in the Bands 3 and 6 observations, respectively. In the degraded simulation, the total number of features were 24 for Band 3 and 204 for Band 6. In the original simulation, the total number of features were 36 for Band 3 and 392 for Band 6. Based on the simulation, we confirm the magnetic nature of the features which exhibit an oscillatory behaviour in temperature, size and horizontal velocity. The average oscillation periods were of 30-99\\,s for temperature, 37-92\\,s for size and 37-78\\,s for horizontal velocity. There are indications for the possible presence of transverse (kink) waves with average amplitude velocities of 2.1-5.0\\,km\\,s$^{-1}$. An anti-phase behaviour between temperature and size oscillations suggest the presence of compressible fast-sausage Magnetohydrodynamics (MHD) modes. Finally, we have estimated the flux of energy of the fast-sausage waves at the chromospheric heights sampled by ALMA as 453-1838\\,W\\,m$^{-2}$ for Band 3 and 3640-5485\\,W\\,m$^{-2}$ for Band 6. The decrease of wave energy-flux with height (from Band 6 to Band 3) could possibly suggest energy dissipation at chromospheric heights, thus wave heating, with the assumptions that the identified small-scale waves are typical at each band and they propagate upward through the chromosphere. |\n",
       "|<p style=\"color:green\"> **ERROR** </p>| <p style=\"color:green\">affiliation error: mpia.affiliation_verifications: 'Heidelberg' keyword not found.</p> |"
      ],
      "text/plain": [
       "<IPython.core.display.Markdown object>"
      ]
     },
     "metadata": {},
     "output_type": "display_data"
    },
    {
     "data": {
      "text/markdown": [
       "\n",
       "|||\n",
       "|---:|:---|\n",
       "| [![arXiv](https://img.shields.io/badge/arXiv-arXiv:2212.10576-b31b1b.svg)](https://arxiv.org/abs/arXiv:2212.10576) | **Constraints on strong phase transitions in neutron stars**  |\n",
       "|| Tyler Gorda, et al. -- incl., <mark>Kai Hebeler</mark> |\n",
       "|*Appeared on*| *2022-12-22*|\n",
       "|*Comments*| *10 pages, 10 figures*|\n",
       "|**Abstract**| We study current bounds on strong first-order phase transitions (PTs) along the equation of state (EOS) of dense strongly interacting matter in neutron stars, under the simplifying assumption that on either side of the PT the EOS can be approximated by a simple polytropic form. We construct a large ensemble of possible EOSs of this form, anchor them to chiral effective field theory calculations at nuclear density and perturbative QCD at high densities, and subject them to astrophysical constraints from high-mass pulsars and gravitational-wave observations. Within this setup, we find that a PT permits neutron-star solutions with larger radii, but only if the transition begins below twice nuclear saturation density. We also identify a large parameter space of allowed PTs currently unexplored by numerical-relativity studies. Additionally, we locate a small region of parameter space allowing twin-star solutions, though we find them to only marginally pass the current astrophysical constraints. Finally, we find that sizeable cores of high-density matter beyond the PT may be located in the centers of some stable neutron stars, primarily those with larger masses. |\n",
       "|<p style=\"color:red\"> **ERROR** </p>| <p style=\"color:red\">latex error Could not find figure apj_figures/ep_fig_CAUSAL_PRX.pdf</p> |"
      ],
      "text/plain": [
       "<IPython.core.display.Markdown object>"
      ]
     },
     "metadata": {},
     "output_type": "display_data"
    }
   ],
   "source": [
    "import datetime\n",
    "today = str(datetime.date.today())\n",
    "logfile = f\"_build/html/logs/log-{today}.md\"\n",
    "\n",
    "\n",
    "with open(logfile, 'w') as logs:\n",
    "    # Success\n",
    "    logs.write(f'# Arxiv on Deck 2: Logs - {today}\\n\\n')\n",
    "    logs.write(\"\"\"* Arxiv had {0:,d} new papers\\n\"\"\".format(len(new_papers)))\n",
    "    logs.write(\"\"\"    * {0:,d} with possible author matches\\n\\n\"\"\".format(len(candidates)))\n",
    "    logs.write(\"## Sucessful papers\\n\\n\")\n",
    "    display(Markdown(\"## Successful papers\"))\n",
    "    success = [k[0] for k in documents]\n",
    "    for candid in candidates:\n",
    "        if candid['identifier'].split(':')[-1] in success:\n",
    "            display(candid)\n",
    "            logs.write(candid.generate_markdown_text() + '\\n\\n')\n",
    "\n",
    "    ## failed\n",
    "    logs.write(\"## Failed papers\\n\\n\")\n",
    "    display(Markdown(\"## Failed papers\"))\n",
    "    failed = sorted(failed, key=lambda x: x[1])\n",
    "    current_reason = \"\"\n",
    "    for paper, reason in failed:\n",
    "        if 'affiliation' in reason:\n",
    "            color = 'green'\n",
    "        else:\n",
    "            color = 'red'\n",
    "        data = Markdown(\n",
    "                paper.generate_markdown_text() + \n",
    "                f'\\n|<p style=\"color:{color:s}\"> **ERROR** </p>| <p style=\"color:{color:s}\">{reason:s}</p> |'\n",
    "               )\n",
    "        if reason != current_reason:\n",
    "            logs.write(f'### {reason:s} \\n\\n')\n",
    "            current_reason = reason\n",
    "        logs.write(data.data + '\\n\\n')\n",
    "        \n",
    "        # only display here the important errors (all in logs)\n",
    "        # if color in ('red',):\n",
    "        display(data)"
   ]
  },
  {
   "cell_type": "markdown",
   "id": "472d20ee",
   "metadata": {
    "papermill": {
     "duration": 0.008023,
     "end_time": "2022-12-22T04:06:58.689630",
     "exception": false,
     "start_time": "2022-12-22T04:06:58.681607",
     "status": "completed"
    },
    "tags": []
   },
   "source": [
    "## Export documents\n",
    "\n",
    "We now write the .md files and export relevant images"
   ]
  },
  {
   "cell_type": "code",
   "execution_count": 7,
   "id": "d426aed9",
   "metadata": {
    "execution": {
     "iopub.execute_input": "2022-12-22T04:06:58.707788Z",
     "iopub.status.busy": "2022-12-22T04:06:58.707158Z",
     "iopub.status.idle": "2022-12-22T04:06:58.715003Z",
     "shell.execute_reply": "2022-12-22T04:06:58.714262Z"
    },
    "papermill": {
     "duration": 0.019147,
     "end_time": "2022-12-22T04:06:58.716852",
     "exception": false,
     "start_time": "2022-12-22T04:06:58.697705",
     "status": "completed"
    },
    "tags": []
   },
   "outputs": [],
   "source": [
    "def export_markdown_summary(md: str, md_fname:str, directory: str):\n",
    "    \"\"\"Export MD document and associated relevant images\"\"\"\n",
    "    import os\n",
    "    import shutil\n",
    "    import re\n",
    "\n",
    "    if (os.path.exists(directory) and not os.path.isdir(directory)):\n",
    "        raise RuntimeError(f\"a non-directory file exists with name {directory:s}\")\n",
    "\n",
    "    if (not os.path.exists(directory)):\n",
    "        print(f\"creating directory {directory:s}\")\n",
    "        os.mkdir(directory)\n",
    "\n",
    "    fig_fnames = (re.compile(r'\\[Fig.*\\]\\((.*)\\)').findall(md) + \n",
    "                  re.compile(r'\\<img src=\"([^>\\s]*)\"[^>]*/>').findall(md))\n",
    "    for fname in fig_fnames:\n",
    "        if 'http' in fname:\n",
    "            # No need to copy online figures\n",
    "            continue\n",
    "        destdir = os.path.join(directory, os.path.dirname(fname))\n",
    "        destfname = os.path.join(destdir, os.path.basename(fname))\n",
    "        try:\n",
    "            os.makedirs(destdir)\n",
    "        except FileExistsError:\n",
    "            pass\n",
    "        shutil.copy(fname, destfname)\n",
    "    with open(os.path.join(directory, md_fname), 'w') as fout:\n",
    "        fout.write(md)\n",
    "    print(\"exported in \", os.path.join(directory, md_fname))\n",
    "    [print(\"    + \" + os.path.join(directory,fk)) for fk in fig_fnames]"
   ]
  },
  {
   "cell_type": "code",
   "execution_count": 8,
   "id": "014d04a4",
   "metadata": {
    "execution": {
     "iopub.execute_input": "2022-12-22T04:06:58.735733Z",
     "iopub.status.busy": "2022-12-22T04:06:58.734840Z",
     "iopub.status.idle": "2022-12-22T04:06:58.758256Z",
     "shell.execute_reply": "2022-12-22T04:06:58.757477Z"
    },
    "papermill": {
     "duration": 0.034598,
     "end_time": "2022-12-22T04:06:58.759977",
     "exception": false,
     "start_time": "2022-12-22T04:06:58.725379",
     "status": "completed"
    },
    "tags": []
   },
   "outputs": [
    {
     "name": "stdout",
     "output_type": "stream",
     "text": [
      "exported in  _build/html/2212.10804.md\n",
      "    + _build/html/tmp_2212.10804/./nfig/limit_ru_m.png\n",
      "    + _build/html/tmp_2212.10804/./nfig/m1_detect3.png\n",
      "    + _build/html/tmp_2212.10804/./nfig/comp_uncert.png\n",
      "exported in  _build/html/2212.11177.md\n",
      "    + _build/html/tmp_2212.11177/./figures/ngc7496_crop.png\n",
      "    + _build/html/tmp_2212.11177/./figures/ic5332_crop.png\n",
      "    + _build/html/tmp_2212.11177/./figures/genus_figure_with_flair.png\n"
     ]
    }
   ],
   "source": [
    "for paper_id, md in documents:\n",
    "    export_markdown_summary(md, f\"{paper_id:s}.md\", '_build/html/')"
   ]
  },
  {
   "cell_type": "markdown",
   "id": "f087a0a7",
   "metadata": {
    "papermill": {
     "duration": 0.008336,
     "end_time": "2022-12-22T04:06:58.776746",
     "exception": false,
     "start_time": "2022-12-22T04:06:58.768410",
     "status": "completed"
    },
    "tags": []
   },
   "source": [
    "## Display the papers\n",
    "\n",
    "Not necessary but allows for a quick check."
   ]
  },
  {
   "cell_type": "code",
   "execution_count": 9,
   "id": "fd25f625",
   "metadata": {
    "execution": {
     "iopub.execute_input": "2022-12-22T04:06:58.795455Z",
     "iopub.status.busy": "2022-12-22T04:06:58.794693Z",
     "iopub.status.idle": "2022-12-22T04:06:58.801887Z",
     "shell.execute_reply": "2022-12-22T04:06:58.801169Z"
    },
    "papermill": {
     "duration": 0.018339,
     "end_time": "2022-12-22T04:06:58.803438",
     "exception": false,
     "start_time": "2022-12-22T04:06:58.785099",
     "status": "completed"
    },
    "scrolled": false,
    "tags": []
   },
   "outputs": [
    {
     "data": {
      "text/markdown": [
       "<div class=\"macros\" style=\"visibility:hidden;\">\n",
       "$\\newcommand{\\ensuremath}{}$\n",
       "$\\newcommand{\\xspace}{}$\n",
       "$\\newcommand{\\object}[1]{\\texttt{#1}}$\n",
       "$\\newcommand{\\farcs}{{.}''}$\n",
       "$\\newcommand{\\farcm}{{.}'}$\n",
       "$\\newcommand{\\arcsec}{''}$\n",
       "$\\newcommand{\\arcmin}{'}$\n",
       "$\\newcommand{\\ion}[2]{#1#2}$\n",
       "$\\newcommand{\\textsc}[1]{\\textrm{#1}}$\n",
       "$\\newcommand{\\hl}[1]{\\textrm{#1}}$\n",
       "$\\newcommand{\\gkai}[1]{\\begin{CJK*}{UTF8}{gkai}\\raisebox{.1em}{(}#1\\raisebox{.1em}{)}\\end{CJK*}}$\n",
       "$\\newcommand{\\thebibliography}{\\DeclareRobustCommand{\\VAN}[3]{##3}\\VANthebibliography}$\n",
       "$\\newcommand{\\eg}{{ e.g., }}$\n",
       "$\\newcommand{\\ie}{{ i.e., }}$\n",
       "$\\newcommand{\\deg}{^\\circ}$\n",
       "$\\newcommand{\\degg}{\\hbox{\\null^\\circ\\hskip-3pt .}}$\n",
       "$\\newcommand{\\kpc}{{\\rm kpc}}$\n",
       "$\\newcommand{\\Mpc}{{\\rm Mpc}}$\n",
       "$\\newcommand{\\pc}{{\\rm pc}}$\n",
       "$\\newcommand{\\degx}{{\\rm deg}}$\n",
       "$\\newcommand{\\msun}{{\\rm M_{\\odot}}}$\n",
       "$\\newcommand{\\FeH}{{\\rm[Fe/H]}}$\n",
       "$\\newcommand{\\}{zy}$\n",
       "$\\newcommand{\\}{NFM}$\n",
       "$\\newcommand{\\}{Han}$</div>\n",
       "\n",
       "<div class=\"macros\" style=\"visibility:hidden;\">\n",
       "$\\newcommand{$\\ensuremath$}{}$\n",
       "$\\newcommand{$\\xspace$}{}$\n",
       "$\\newcommand{$\\object$}[1]{\\texttt{#1}}$\n",
       "$\\newcommand{$\\farcs$}{{.}''}$\n",
       "$\\newcommand{$\\farcm$}{{.}'}$\n",
       "$\\newcommand{$\\arcsec$}{''}$\n",
       "$\\newcommand{$\\arcmin$}{'}$\n",
       "$\\newcommand{$\\ion$}[2]{#1#2}$\n",
       "$\\newcommand{$\\textsc$}[1]{\\textrm{#1}}$\n",
       "$\\newcommand{$\\hl$}[1]{\\textrm{#1}}$\n",
       "$\\newcommand{$\\gkai$}[1]{\\begin{CJK*}{UTF8}{gkai}\\raisebox{.1em}{(}#1\\raisebox{.1em}{)}\\end{CJK*}}$\n",
       "$\\newcommand{$\\thebibliography$}{\\DeclareRobustCommand{\\VAN}[3]{##3}\\VANthebibliography}$\n",
       "$\\newcommand{$\\eg$}{{ e.g., }}$\n",
       "$\\newcommand{$\\ie$}{{ i.e., }}$\n",
       "$\\newcommand{$\\deg$}{^\\circ}$\n",
       "$\\newcommand{$\\deg$g}{\\hbox{\\null^\\circ\\hskip-3pt .}}$\n",
       "$\\newcommand{$\\kpc$}{{\\rm kpc}}$\n",
       "$\\newcommand{$\\Mpc$}{{\\rm Mpc}}$\n",
       "$\\newcommand{$\\pc$}{{\\rm pc}}$\n",
       "$\\newcommand{$\\deg$x}{{\\rm deg}}$\n",
       "$\\newcommand{$\\msun$}{{\\rm M_{\\odot}}}$\n",
       "$\\newcommand{$\\FeH$}{{\\rm[Fe/H]}}$\n",
       "$\\newcommand{\\}{zy}$\n",
       "$\\newcommand{\\}{NFM}$\n",
       "$\\newcommand{\\}{Han}$</div>\n",
       "\n",
       "\n",
       "\n",
       "<div id=\"title\">\n",
       "\n",
       "# Local Group Dwarf Galaxy Detection Limit in the CSST survey\n",
       "\n",
       "</div>\n",
       "<div id=\"comments\">\n",
       "\n",
       "[![arXiv](https://img.shields.io/badge/arXiv-2212.10804-b31b1b.svg)](https://arxiv.org/abs/2212.10804)<mark>Appeared on: 2022-12-22</mark> - _submitted to MNRAS. 11 pages, 10 figures_\n",
       "\n",
       "</div>\n",
       "<div id=\"authors\">\n",
       "\n",
       "Han Qu, et al. -- incl., <mark><mark>Guoliang Li</mark></mark>\n",
       "\n",
       "</div>\n",
       "<div id=\"abstract\">\n",
       "\n",
       "**Abstract:** We predict the dwarf galaxy detection limits for the upcoming Chinese Space Station Telescope (CSST) survey that will cover 17,500$\\degx^{2}$of the sky with a wide field of view of 1.1 deg$^2$. The point-source depth reaches 26.3 mag in the$g$band and 25.9 mag in the$i$band. Constructing mock survey data based on the designed photometric bands, we estimate the recovery rate of artificial dwarf galaxies from mock point-source photometric catalogues. The detection of these artificial dwarf galaxies is strongly dependent on their distance, magnitude and size, in agreement with searches in current surveys. We expect CSST to enable the detection of dwarf galaxies with$M_V = -3.0$and$\\mu_{250} = 32.0$mag/arcsec$^2$(surface-brightness limit for a system of half-light radius$r_{\\rm h}$= 250$\\pc$) at$400 $\\kpc$$,  and$M_V = -4.9$and$\\mu_{250} = 30.5$mag/arcsec$^2$around the Andromeda galaxy. Beyond the Local Group, the CSST survey will achieve$M_V = -5.8$, and$\\mu_{250}$= 29.7 mag/arcsec$^2$in the distance range of 1--2 Mpc, opening up an exciting discovery space for faint field dwarf galaxies. With its optical bands, wide survey footprint, and space resolution, CSST will undoubtedly expand our knowledge of low-mass dwarf galaxies to an unprecedented volume.\n",
       "\n",
       "</div>\n",
       "\n",
       "<div id=\"div_fig1\">\n",
       "\n",
       "<img src=\"tmp_2212.10804/./nfig/limit_ru_m.png\" alt=\"Fig6\" width=\"100%\"/>\n",
       "\n",
       "**Figure 6. -** Comparisons of detection limit as a function of $M_V$ and $r_{\\rm h}$ in different distance bins for a M field. Same as Fig. \\ref{detect_m}, the error bars represent $\\sigma_{M}$ and $\\sigma_{r}$ respectively in the left panel, based on that the error bar of $\\mu$ is derived and shown in the right panel. The dashed and solid lines represent the results with single and double exposures respectively.\n",
       "    (*detect limit*)\n",
       "\n",
       "</div>\n",
       "<div id=\"div_fig2\">\n",
       "\n",
       "<img src=\"tmp_2212.10804/./nfig/m1_detect3.png\" alt=\"Fig5\" width=\"100%\"/>\n",
       "\n",
       "**Figure 5. -** Detection fraction map as a function of luminosity and size in different distance bins for M field, where the black pixels indicates 100\\% detection fraction, and the white ones indicates 0\\%. The red curve corresponds to the modeled  50\\% recovery fraction and the error bars represent $\\sigma_{M}$ and $\\sigma_{r}$ as the widths of the transition regions.\n",
       "    (*detect_m*)\n",
       "\n",
       "</div>\n",
       "<div id=\"div_fig3\">\n",
       "\n",
       "<img src=\"tmp_2212.10804/./nfig/comp_uncert.png\" alt=\"Fig2\" width=\"100%\"/>\n",
       "\n",
       "**Figure 2. -** \\emph{Left:} Completeness model for point-source detections as a function of $g$(blue) and $i$(red) magnitude estimates for the CSST. The solid and dashed lines represent the single- and double-exposure modes respectively. \\emph{Right:} Expected photometric uncertainties in the two bands for the one-exposure model (crosses) and fitted model (dashed lines). The two-exposure uncertainty model (full lines) corresponds to a shift of these models by 0.38 magnitudes to account for the increased exposure time.\n",
       "     (*fig:comp_uncert*)\n",
       "\n",
       "</div>"
      ],
      "text/plain": [
       "<IPython.core.display.Markdown object>"
      ]
     },
     "metadata": {},
     "output_type": "display_data"
    },
    {
     "data": {
      "text/markdown": [
       "<div class=\"macros\" style=\"visibility:hidden;\">\n",
       "$\\newcommand{\\ensuremath}{}$\n",
       "$\\newcommand{\\xspace}{}$\n",
       "$\\newcommand{\\object}[1]{\\texttt{#1}}$\n",
       "$\\newcommand{\\farcs}{{.}''}$\n",
       "$\\newcommand{\\farcm}{{.}'}$\n",
       "$\\newcommand{\\arcsec}{''}$\n",
       "$\\newcommand{\\arcmin}{'}$\n",
       "$\\newcommand{\\ion}[2]{#1#2}$\n",
       "$\\newcommand{\\textsc}[1]{\\textrm{#1}}$\n",
       "$\\newcommand{\\hl}[1]{\\textrm{#1}}$\n",
       "$\\newcommand{\\vdag}{(v)^\\dagger}$\n",
       "$\\newcommand$\n",
       "$\\newcommand$\n",
       "$\\newcommand{\\mjysr}{MJy sr^{-1}}$\n",
       "$\\newcommand{\\msun}{M_{\\odot}}$\n",
       "$\\newcommand{\\msolpcsq}{M_\\odot pc^{-2}}$\n",
       "$\\newcommand{\\hi}{\\mbox{\\sc{Hi} }}$\n",
       "$\\newcommand{\\htwo}{H_{2}}$</div>\n",
       "\n",
       "<div class=\"macros\" style=\"visibility:hidden;\">\n",
       "$\\newcommand{$\\ensuremath$}{}$\n",
       "$\\newcommand{$\\xspace$}{}$\n",
       "$\\newcommand{$\\object$}[1]{\\texttt{#1}}$\n",
       "$\\newcommand{$\\farcs$}{{.}''}$\n",
       "$\\newcommand{$\\farcm$}{{.}'}$\n",
       "$\\newcommand{$\\arcsec$}{''}$\n",
       "$\\newcommand{$\\arcmin$}{'}$\n",
       "$\\newcommand{$\\ion$}[2]{#1#2}$\n",
       "$\\newcommand{$\\textsc$}[1]{\\textrm{#1}}$\n",
       "$\\newcommand{$\\hl$}[1]{\\textrm{#1}}$\n",
       "$\\newcommand{$\\vdag$}{(v)^\\dagger}$\n",
       "$\\newcommand$\n",
       "$\\newcommand$\n",
       "$\\newcommand{$\\mjysr$}{MJy sr^{-1}}$\n",
       "$\\newcommand{$\\msun$}{M_{\\odot}}$\n",
       "$\\newcommand{$\\msolpcsq$}{M_\\odot pc^{-2}}$\n",
       "$\\newcommand{$\\hi$}{\\mbox{\\sc{Hi} }}$\n",
       "$\\newcommand{$\\htwo$}{H_{2}}$</div>\n",
       "\n",
       "\n",
       "\n",
       "<div id=\"title\">\n",
       "\n",
       "# PHANGS-JWST First Results: Tracing the Diffuse ISM with JWST Imaging of Polycyclic Aromatic Hydrocarbon Emission in Nearby Galaxies\n",
       "\n",
       "</div>\n",
       "<div id=\"comments\">\n",
       "\n",
       "[![arXiv](https://img.shields.io/badge/arXiv-2212.11177-b31b1b.svg)](https://arxiv.org/abs/2212.11177)<mark>Appeared on: 2022-12-22</mark> - _18 pages, 6 figures, accepted as part of a PHANGS-JWST Focus Issue to appear in ApJ_\n",
       "\n",
       "</div>\n",
       "<div id=\"authors\">\n",
       "\n",
       "Karin M. Sandstrom, et al. -- incl., <mark>Rowan J. Smith</mark>, <mark>Janice C. Lee</mark>, <mark>Eva Schinnerer</mark>, <mark>Jonathan~D.~Henshaw</mark>, <mark>Annie~Hughes</mark>, <mark>Kathryn Kreckel</mark>, <mark>Daizhong Liu</mark>\n",
       "\n",
       "</div>\n",
       "<div id=\"abstract\">\n",
       "\n",
       "**Abstract:** JWST observations of polycyclic aromatic hydrocarbon (PAH) emission provide some of the deepest and highest resolution views of the cold interstellar medium (ISM) in nearby galaxies. If PAHs are well mixed with the atomic and molecular gas and illuminated by the average diffuse interstellar radiation field, PAH emission may provide an approximately linear, high resolution, high sensitivity tracer of diffuse gas surface density. We present a pilot study that explores using PAH emission in this way based on MIRI observations of IC 5332, NGC 628, NGC 1365, and NGC 7496 from the PHANGS-JWST Treasury. Using scaling relationships calibrated in\\citet{LEROY1_PHANGSJWST}, scaled F1130W provides 10--40 pc resolution and 3$\\sigma$sensitivity of$\\Sigma_{\\rm gas} \\sim 2$\\msunpc$^{-2}$. We characterize the surface densities of structures seen at$<7$\\msunpc$^{-2}$in our targets, where we expect the gas to be HI-dominated. We highlight the existence of filaments, inter-arm emission, and holes in the diffuse ISM at these low surface densities. Below$\\sim 10$\\msunpc$^{-2}$for NGC 628, NGC 1365, and NGC 7496 the gas distribution shows a \"Swiss cheese’’-like topology due to holes and bubbles pervading the relatively smooth distribution of diffuse ISM. Comparing to recent galaxy simulations, we observe similar topology for the low surface density gas, though with notable variations between simulations with different setups and resolution. Such a comparison of high resolution, low surface density gas with simulations is not possible with existing atomic and molecular gas maps, highlighting the unique power of JWST maps of PAH emission.\n",
       "\n",
       "</div>\n",
       "\n",
       "<div id=\"div_fig1\">\n",
       "\n",
       "<img src=\"tmp_2212.11177/./figures/ngc7496_crop.png\" alt=\"Fig5\" width=\"100%\"/>\n",
       "\n",
       "**Figure 5. -** NGC 7496 gas surface density from scaled F1130W emission. A single black contour highlights the brightness level where the F1130W emission implies $\\Sigma_{\\rm gas} = 7$\\msun pc$^{-2}$. In NGC 7496, saturation in the center leads to an artifact where the columns of pixels with saturation show low values. This is evident in the faint regions of our map. (*fig:contour_7496*)\n",
       "\n",
       "</div>\n",
       "<div id=\"div_fig2\">\n",
       "\n",
       "<img src=\"tmp_2212.11177/./figures/ic5332_crop.png\" alt=\"Fig2\" width=\"100%\"/>\n",
       "\n",
       "**Figure 2. -** IC 5332 gas surface density from scaled F1130W emission. A single black contour highlights the brightness level where the F1130W emission implies $\\Sigma_{\\rm gas} = 7$\\msun pc$^{-2}$. This figure and the subsequent figures for NGC 628, 1365, and 7496 (Figures \\ref{fig:contour_ngc628},  \\ref{fig:contour_1365}, and  \\ref{fig:contour_7496}) are all shown with the same color bar. We show a 500 pc scale bar for reference. (*fig:contour_ic5332*)\n",
       "\n",
       "</div>\n",
       "<div id=\"div_fig3\">\n",
       "\n",
       "<img src=\"tmp_2212.11177/./figures/genus_figure_with_flair.png\" alt=\"Fig1\" width=\"100%\"/>\n",
       "\n",
       "**Figure 1. -** Genus curves for the F1130W band, scaled to gas surface density (Equation \\ref{eq:ratio113}).\n",
       "The gray region shows where the noise dominates the statistic up to $3\\sigma$ significance above the background which corresponds to $\\Sigma_{\\rm gas} \\approx 2$ $\\msolpcsq$.\n",
       "For a consistent comparison, we impose a radial cut at $0.4 R_{25}$ in each galaxy, corresponding to 3.2, 5.7, 13.7, 3.6 kpc in IC 5332, NGC 628, NGC 1365 and NGC 7496, respectively.\n",
       "The $11.3$ $\\mu$m emission traces a clear conversion from a \"Swiss cheese\" (Genus$<0$) to \"meatball\" topology (Genus$>0$) when going from low to high gas surface density.\n",
       " (*fig:genus_1130*)\n",
       "\n",
       "</div>"
      ],
      "text/plain": [
       "<IPython.core.display.Markdown object>"
      ]
     },
     "metadata": {},
     "output_type": "display_data"
    }
   ],
   "source": [
    "[display(Markdown(k[1])) for k in documents];"
   ]
  },
  {
   "cell_type": "markdown",
   "id": "873873a4",
   "metadata": {
    "papermill": {
     "duration": 0.008691,
     "end_time": "2022-12-22T04:06:58.821137",
     "exception": false,
     "start_time": "2022-12-22T04:06:58.812446",
     "status": "completed"
    },
    "tags": []
   },
   "source": [
    "# Create HTML index"
   ]
  },
  {
   "cell_type": "code",
   "execution_count": 10,
   "id": "cf665672",
   "metadata": {
    "execution": {
     "iopub.execute_input": "2022-12-22T04:06:58.840641Z",
     "iopub.status.busy": "2022-12-22T04:06:58.840047Z",
     "iopub.status.idle": "2022-12-22T04:06:58.851110Z",
     "shell.execute_reply": "2022-12-22T04:06:58.850396Z"
    },
    "papermill": {
     "duration": 0.022674,
     "end_time": "2022-12-22T04:06:58.852709",
     "exception": false,
     "start_time": "2022-12-22T04:06:58.830035",
     "status": "completed"
    },
    "tags": []
   },
   "outputs": [
    {
     "name": "stdout",
     "output_type": "stream",
     "text": [
      "145  publications in the last 7 days.\n",
      "\t _build/html/2212.11177.md\n",
      "\t _build/html/2212.10804.md\n",
      "\t _build/html/2212.10512.md\n",
      "\t _build/html/2212.09766.md\n",
      "\t _build/html/2212.09675.md\n",
      "\t _build/html/2212.09661.md\n",
      "\t _build/html/2212.09652.md\n",
      "\t _build/html/2212.09443.md\n",
      "\t _build/html/2212.09307.md\n",
      "\t _build/html/2212.09168.md\n",
      "\t _build/html/2212.09159.md\n",
      "\t _build/html/2212.08702.md\n",
      "\t _build/html/2212.07332.md\n",
      "\t _build/html/2212.06434.md\n",
      "\t _build/html/2212.04710.md\n",
      "\t _build/html/2212.04026.md\n",
      "\t _build/html/2212.03563.md\n",
      "\t _build/html/2212.03514.md\n",
      "\t _build/html/2212.02667.md\n",
      "\t _build/html/2212.02627.md\n",
      "\t _build/html/2212.02235.md\n",
      "\t _build/html/2212.01707.md\n",
      "\t _build/html/2212.01526.md\n",
      "\t _build/html/2212.01397.md\n",
      "\t _build/html/2212.01291.md\n",
      "\t _build/html/2212.01281.md\n",
      "\t _build/html/2212.00812.md\n",
      "\t _build/html/2212.00811.md\n",
      "\t _build/html/2212.00806.md\n",
      "\t _build/html/2212.00047.md\n",
      "\t _build/html/2212.00032.md\n",
      "\t _build/html/2211.16996.md\n",
      "\t _build/html/2211.16510.md\n",
      "\t _build/html/2211.16123.md\n",
      "\t _build/html/2211.15816.md\n",
      "\t _build/html/2211.15698.md\n",
      "\t _build/html/2211.15576.md\n",
      "\t _build/html/2211.15434.md\n",
      "\t _build/html/2211.15288.md\n",
      "\t _build/html/2211.15224.md\n",
      "\t _build/html/2211.14543.md\n",
      "\t _build/html/2211.14330.md\n",
      "\t _build/html/2211.14322.md\n",
      "\t _build/html/2211.14132.md\n",
      "\t _build/html/2211.13811.md\n",
      "\t _build/html/2211.13426.md\n",
      "\t _build/html/2211.13318.md\n",
      "\t _build/html/2211.13146.md\n",
      "\t _build/html/2211.12613.md\n",
      "\t _build/html/2211.11767.md\n",
      "\t _build/html/2211.09840.md\n",
      "\t _build/html/2211.09217.md\n",
      "\t _build/html/2211.08493.md\n",
      "\t _build/html/2211.08487.md\n",
      "\t _build/html/2211.08294.md\n",
      "\t _build/html/2211.07667.md\n",
      "\t _build/html/2211.07659.md\n",
      "\t _build/html/2211.06454.md\n",
      "\t _build/html/2211.06205.md\n",
      "\t _build/html/2211.06194.md\n",
      "\t _build/html/2211.05022.md\n",
      "\t _build/html/2211.04048.md\n",
      "\t _build/html/2211.03641.md\n",
      "\t _build/html/2211.02502.md\n",
      "\t _build/html/2211.01474.md\n",
      "\t _build/html/2211.00667.md\n",
      "\t _build/html/2211.00657.md\n",
      "\t _build/html/2211.00087.md\n",
      "\t _build/html/2211.00036.md\n",
      "\t _build/html/2211.00020.md\n",
      "\t _build/html/2211.00010.md\n",
      "\t _build/html/2210.17434.md\n",
      "\t _build/html/2210.12412.md\n",
      "\t _build/html/2210.11926.md\n",
      "\t _build/html/2210.11551.md\n",
      "\t _build/html/2210.11103.md\n",
      "\t _build/html/2210.10707.md\n",
      "\t _build/html/2210.09930.md\n",
      "\t _build/html/2210.08996.md\n",
      "\t _build/html/2210.08517.md\n",
      "\t _build/html/2210.08510.md\n",
      "\t _build/html/2210.08078.md\n",
      "\t _build/html/2210.06504.md\n",
      "\t _build/html/2210.05695.md\n",
      "\t _build/html/2210.05595.md\n",
      "\t _build/html/2210.05505.md\n",
      "\t _build/html/2210.04721.md\n",
      "\t _build/html/2210.03615.md\n",
      "\t _build/html/2210.01811.md\n",
      "\t _build/html/2210.01809.md\n",
      "\t _build/html/2210.01556.md\n",
      "\t _build/html/2210.00863.md\n",
      "\t _build/html/2210.00560.md\n",
      "\t _build/html/2209.15403.md\n",
      "\t _build/html/2209.15110.md\n",
      "\t _build/html/2209.14410.md\n",
      "\t _build/html/2209.14396.md\n",
      "\t _build/html/2209.13717.md\n",
      "\t _build/html/2209.13336.md\n",
      "\t _build/html/2209.12906.md\n",
      "\t _build/html/2209.11781.md\n",
      "\t _build/html/2209.11602.md\n",
      "\t _build/html/2209.11248.md\n",
      "\t _build/html/2209.11096.md\n",
      "\t _build/html/2209.10618.md\n",
      "\t _build/html/2209.09914.md\n",
      "\t _build/html/2209.09823.md\n",
      "\t _build/html/2209.08242.md\n",
      "\t _build/html/2209.08120.md\n",
      "\t _build/html/2209.08106.md\n",
      "\t _build/html/2209.07962.md\n",
      "\t _build/html/2209.07931.md\n",
      "\t _build/html/2209.06833.md\n",
      "\t _build/html/2209.05814.md\n",
      "\t _build/html/2209.05593.md\n",
      "\t _build/html/2209.04304.md\n",
      "\t _build/html/2209.03367.md\n",
      "\t _build/html/2209.02872.md\n",
      "\t _build/html/2209.02725.md\n",
      "\t _build/html/2209.02722.md\n",
      "\t _build/html/2209.02092.md\n",
      "\t _build/html/2209.01125.md\n",
      "\t _build/html/2209.00828.md\n",
      "\t _build/html/2209.00363.md\n",
      "\t _build/html/2208.14927.md\n",
      "\t _build/html/2208.09335.md\n",
      "\t _build/html/2208.08872.md\n",
      "\t _build/html/2204.06393.md\n",
      "\t _build/html/2204.03335.md\n",
      "\t _build/html/2204.03253.md\n",
      "\t _build/html/2204.02998.md\n",
      "\t _build/html/2204.02109.md\n",
      "\t _build/html/2204.02017.md\n",
      "\t _build/html/2204.01824.md\n",
      "\t _build/html/2204.01758.md\n",
      "\t _build/html/2204.01245.md\n",
      "\t _build/html/2204.00793.md\n",
      "\t _build/html/2204.00342.md\n",
      "\t _build/html/2203.16959.md\n",
      "\t _build/html/2203.16856.md\n",
      "\t _build/html/2203.16735.md\n",
      "\t _build/html/2203.16734.md\n",
      "\t _build/html/2203.16504.md\n",
      "\t _build/html/2203.15822.md\n",
      "\t _build/html/2203.15811.md\n"
     ]
    }
   ],
   "source": [
    "from datetime import datetime, timedelta, timezone\n",
    "from glob import glob\n",
    "\n",
    "files = glob('_build/html/*.md')\n",
    "days = 7\n",
    "now = datetime.today()\n",
    "res = []\n",
    "for fk in files:\n",
    "    stat_result = os.stat(fk).st_ctime\n",
    "    modified = datetime.fromtimestamp(stat_result, tz=timezone.utc).replace(tzinfo=None)\n",
    "    delta = now.today() - modified\n",
    "    if delta <= timedelta(days=days):\n",
    "        res.append((delta.seconds, fk))\n",
    "res = [k[1] for k in reversed(sorted(res, key=lambda x:x[1]))]\n",
    "npub = len(res)\n",
    "print(len(res), f\" publications in the last {days:d} days.\")\n",
    "[ print('\\t', k) for k in res ];"
   ]
  },
  {
   "cell_type": "code",
   "execution_count": 11,
   "id": "52ca0208",
   "metadata": {
    "execution": {
     "iopub.execute_input": "2022-12-22T04:06:58.872551Z",
     "iopub.status.busy": "2022-12-22T04:06:58.871990Z",
     "iopub.status.idle": "2022-12-22T04:06:58.878624Z",
     "shell.execute_reply": "2022-12-22T04:06:58.878048Z"
    },
    "papermill": {
     "duration": 0.018378,
     "end_time": "2022-12-22T04:06:58.880159",
     "exception": false,
     "start_time": "2022-12-22T04:06:58.861781",
     "status": "completed"
    },
    "scrolled": false,
    "tags": []
   },
   "outputs": [],
   "source": [
    "def create_carousel(npub=4):\n",
    "    \"\"\" Generate the HTML code for a carousel with `npub` slides \"\"\"\n",
    "    carousel = [\"\"\"<section class=\"carousel\" aria-label=\"Gallery\">\"\"\",\n",
    "                \"\"\"  <ol class=\"carousel__viewport\">\"\"\",\n",
    "    ]\n",
    "    for k in range(1, npub + 1):\n",
    "        prev_ = k - 1\n",
    "        next_ = k + 1\n",
    "        if prev_ <= 0:\n",
    "            prev_ = npub\n",
    "        if next_ > npub:\n",
    "            next_ = 1\n",
    "        text  = f\"\"\"    <li id=\"carousel__slide{k}\" tabindex=\"0\" class=\"carousel__slide\">\\n\"\"\"\n",
    "        text += f\"\"\"       <div class=\"carousel__snapper\">\\n\"\"\"\n",
    "        text += f\"\"\"         <a href=\"#carousel__slide{prev_}\" class=\"carousel__prev\">Go to previous slide</a>\\n\"\"\"\n",
    "        text += f\"\"\"         <a href=\"#carousel__slide{next_}\" class=\"carousel__next\">Go to next slide</a>\\n\"\"\"\n",
    "        text += f\"\"\"         <div id=\"slide{k}_content\" class=\"md_view\" >Content {k}</div>\\n\"\"\"\n",
    "        text += f\"\"\"       </div>\\n\"\"\"\n",
    "        text += f\"\"\"    </li>\"\"\"\n",
    "        carousel.append(text)\n",
    "\n",
    "    carousel.extend([\n",
    "        \"\"\"  </ol>\"\"\",\n",
    "        \"\"\"  <aside class=\"carousel__navigation\">\"\"\",\n",
    "        \"\"\"    <ol class=\"carousel__navigation-list\">\"\"\"])\n",
    "\n",
    "    for k in range(1, npub + 1):\n",
    "        text  = f\"\"\"      <li class=\"carousel__navigation-item\">\\n\"\"\"\n",
    "        text += f\"\"\"        <a href=\"#carousel__slide{k}\" class=\"carousel__navigation-button\">Go to {k}</a>\\n\"\"\"\n",
    "        text += f\"\"\"      </li>\"\"\"\n",
    "        carousel.append(text)\n",
    "    carousel.extend([\"\"\"    </ol>\"\"\", \"\"\"  </aside>\"\"\", \"\"\"</section>\"\"\"])\n",
    "\n",
    "    return '\\n'.join(carousel)"
   ]
  },
  {
   "cell_type": "code",
   "execution_count": 12,
   "id": "a6eac5b6",
   "metadata": {
    "execution": {
     "iopub.execute_input": "2022-12-22T04:06:58.900293Z",
     "iopub.status.busy": "2022-12-22T04:06:58.899730Z",
     "iopub.status.idle": "2022-12-22T04:06:58.906759Z",
     "shell.execute_reply": "2022-12-22T04:06:58.906126Z"
    },
    "papermill": {
     "duration": 0.019231,
     "end_time": "2022-12-22T04:06:58.908467",
     "exception": false,
     "start_time": "2022-12-22T04:06:58.889236",
     "status": "completed"
    },
    "scrolled": false,
    "tags": []
   },
   "outputs": [],
   "source": [
    "carousel = create_carousel(npub)\n",
    "docs = ', '.join(['\"{0:s}\"'.format(k.split('/')[-1]) for k in res])\n",
    "slides = ', '.join([f'\"slide{k}_content\"' for k in range(1, npub + 1)])\n",
    "\n",
    "script = f\"\"\"\n",
    "const docs = [{docs}]\n",
    "\n",
    "const slides = [{slides}]\n",
    "\"\"\" + \"\"\"\n",
    "async function run() {\n",
    "    for (let i = 0; i < docs.length; i++) {\n",
    "        let file = await fetch(docs[i]);\n",
    "        let text = await file.text()\n",
    "        document.getElementById(slides[i]).innerHTML =\n",
    "            marked.parse(text);\n",
    "    }\n",
    "    hljs.highlightAll();\n",
    "}\n",
    "run()\n",
    "\"\"\"\n",
    "\n",
    "page = f\"\"\"<!doctype html>\n",
    "<html lang=\"en\">\n",
    "\n",
    "<head>\n",
    "  <meta charset=\"utf-8\">\n",
    "  <meta name=\"viewport\" content=\"width=device-width, initial-scale=1\">\n",
    "  <!-- Bootstrap CSS -->\n",
    "  <link href=\"https://cdn.jsdelivr.net/npm/bootstrap@5.0.2/dist/css/bootstrap.min.css\" rel=\"stylesheet\"\n",
    "   integrity=\"sha384-EVSTQN3/azprG1Anm3QDgpJLIm9Nao0Yz1ztcQTwFspd3yD65VohhpuuCOmLASjC\" crossorigin=\"anonymous\">\n",
    "  <!-- highlight.js CSS -->\n",
    "  <link rel=\"stylesheet\" href=\"https://cdnjs.cloudflare.com/ajax/libs/highlight.js/11.1.0/styles/default.min.css\">\n",
    "  <!-- Mathjax 3 -->\n",
    "  <script type=\"text/javascript\" id=\"MathJax-config\" src=\"mathjax_config.js\"> </script>\n",
    "  <script type=\"text/javascript\" id=\"MathJax-script\" async \n",
    "    src=\"https://cdn.jsdelivr.net/npm/mathjax@3/es5/tex-mml-chtml.js\">\n",
    "  </script>\n",
    "  <link rel=\"stylesheet\" href=\"index_carousel.css\">\n",
    "  <link rel=\"icon\" type=\"image/x-icon\" href=\"https://www.mpia.de/assets/touch-icon-32x32-a66937bcebc4e8894ebff1f41a366c7c7220fd97a38869ee0f2db65a9f59b6c1.png\">\n",
    "  <title>MPIA Arxiv on deck!</title>\n",
    "</head>\n",
    "\n",
    "<body>\n",
    "  <div id=\"header\"> <img src=\"header_banner.png\" width=\"100%\"></div>\n",
    "  <div id=\"suptitle\"> 7-day archives </div>\n",
    "  <div id=\"info\">\n",
    "    <img src=\"https://pngimg.com/uploads/github/github_PNG58.png\" height=30rem></img>\n",
    "    <a href=https://github.com/mpi-astronomy/arxiv_display style=\"color:black;\">github/mpi-astronomy/arxiv_display</a> \n",
    "  </div>\n",
    "  {carousel:s}\n",
    "</body>\n",
    "\n",
    "<!-- Render Markdown -->\n",
    "\n",
    "<body>\n",
    "  <!-- highlight.js: https://highlightjs.org/download/ -->\n",
    "  <script src=\"https://cdnjs.cloudflare.com/ajax/libs/highlight.js/11.5.0/highlight.min.js\"></script>\n",
    "  <!-- marked.js -->\n",
    "  <script src=\"https://cdn.jsdelivr.net/npm/marked/marked.min.js\"></script>\n",
    "  <script>{script:s}</script>\n",
    "</body>\n",
    "</html>\n",
    "\"\"\"\n",
    "with open(\"_build/html/index_7days.html\", 'w') as fout:\n",
    "    fout.write(page)"
   ]
  },
  {
   "cell_type": "markdown",
   "id": "1cebacbc",
   "metadata": {
    "papermill": {
     "duration": 0.008935,
     "end_time": "2022-12-22T04:06:58.926463",
     "exception": false,
     "start_time": "2022-12-22T04:06:58.917528",
     "status": "completed"
    },
    "tags": []
   },
   "source": [
    "# Debugging papers"
   ]
  },
  {
   "cell_type": "raw",
   "id": "debe7cc6",
   "metadata": {
    "papermill": {
     "duration": 0.009238,
     "end_time": "2022-12-22T04:06:58.944814",
     "exception": false,
     "start_time": "2022-12-22T04:06:58.935576",
     "status": "completed"
    },
    "tags": []
   },
   "source": [
    "raise NotImplementedError(\"Manual Stop\")"
   ]
  },
  {
   "cell_type": "raw",
   "id": "eb169192",
   "metadata": {
    "papermill": {
     "duration": 0.008935,
     "end_time": "2022-12-22T04:06:58.962884",
     "exception": false,
     "start_time": "2022-12-22T04:06:58.953949",
     "status": "completed"
    },
    "scrolled": true,
    "tags": []
   },
   "source": [
    "from IPython.display import display, Markdown\n",
    "from TexSoup import TexSoup\n",
    "import re\n",
    "\n",
    "def bracket_error(source: str):\n",
    "    \"\"\" Find problematic portions of the document \"\"\"\n",
    "    \n",
    "    print(\"len(source)\", len(source))\n",
    "    \n",
    "    # Checking header\n",
    "    begin_doc = next(re.finditer(r'\\\\begin\\{document\\}', doc.source)).span()[1]\n",
    "    header = source[:begin_doc]\n",
    "    text = header + r\"\\n\\end{document}\"\n",
    "\n",
    "    try:\n",
    "        # print(\"Header check... \", end='')\n",
    "        TexSoup(text)\n",
    "        display(Markdown(f\"**[OK]** - Header\"))\n",
    "    except:\n",
    "        raise RuntimeError(\"Error in the header\")\n",
    "        \n",
    "    # Check the text per section until the end.\n",
    "    # Do not stop and try them all.\n",
    "    \n",
    "    problematic_text = []\n",
    "    \n",
    "    sections = ([(0, begin_doc, 'until first section')] + \n",
    "                [(g.span()[0], g.span()[1], g.group()) for g in re.finditer(r'\\\\section\\{.*\\}', source)] +\n",
    "                [(g.span()[0], g.span()[1], g.group()) for g in re.finditer(r'\\\\begin\\{appendix\\}', source)]\n",
    "               )\n",
    "    sections.append([len(source), len(source), 'end'])\n",
    "    \n",
    "    sections = sorted(sections, key=lambda x: x[0])\n",
    "    \n",
    "    prev_pos, prev_name = (0, 'header')\n",
    "    parsed = []\n",
    "    \n",
    "    for span, span_end, name in sections:\n",
    "\n",
    "        if span - prev_pos <= 0:\n",
    "            continue\n",
    "            \n",
    "\n",
    "        text = source[prev_pos:span]\n",
    "        if prev_pos > begin_doc:\n",
    "            text = r\"\\n\\begin{document}\" + text + r\"\\n\\end{document}\"\n",
    "        else:\n",
    "            text = text + r\"\\n\\end{document}\"\n",
    "        try:\n",
    "            #print(f\"{prev_pos}:{prev_name}-->{span}:{name} check... \", end='')\n",
    "            parsed.append(TexSoup(text, tolerance=1))  # allow not ending env\n",
    "            display(Markdown(f\"**[OK]** - *{prev_pos}*:{prev_name} &rarr; *{span}*:{name}\"))\n",
    "            # print(\"ok\")\n",
    "\n",
    "            prev_pos = span\n",
    "            prev_name = name\n",
    "        except:\n",
    "            # print(f\"error between {prev_pos} and {span}\")\n",
    "            display(Markdown(f\"**[ERR]** *{prev_pos}*:{prev_name} &rarr; *{span}*:{name}\"))\n",
    "            problematic_text.append((prev_pos, source[prev_pos:span]))\n",
    "            prev_pos = span\n",
    "            prev_name = name\n",
    "            # raise\n",
    "    return problematic_text, parsed\n",
    "\n",
    "\n",
    "def check_environment(text, offset=0):\n",
    "    \"\"\" Check environment \"\"\"\n",
    "    env = re.compile(r\"\\\\begin\\{(?P<env>.*)\\}(.*)\\\\end\\{(?P=env)\\}\", re.DOTALL)\n",
    "\n",
    "    for match in env.finditer(text):\n",
    "        beg, end = match.span()\n",
    "        beg += offset\n",
    "        end += offset\n",
    "        envname = match.groups()[0]\n",
    "        try:\n",
    "            latex.TexSoup(match.group())\n",
    "        except Exception as e:\n",
    "            display(e)\n",
    "            print(f\"Error in {envname:s} between {beg} and {end}\")\n",
    "            return match.groups()[1], beg, end"
   ]
  },
  {
   "cell_type": "raw",
   "id": "2315e835",
   "metadata": {
    "papermill": {
     "duration": 0.008941,
     "end_time": "2022-12-22T04:06:58.980877",
     "exception": false,
     "start_time": "2022-12-22T04:06:58.971936",
     "status": "completed"
    },
    "scrolled": false,
    "tags": []
   },
   "source": [
    "import importlib\n",
    "importlib.reload(latex)\n",
    "which = \"2204.03253\"\n",
    "paper_id = f'{which:s}'\n",
    "folder = f'tmp_{paper_id:s}'\n",
    "\n",
    "if not os.path.isdir(folder):\n",
    "    folder = retrieve_document_source(f\"{paper_id}\", f'tmp_{paper_id}')\n",
    "\n",
    "try:\n",
    "    doc = latex.LatexDocument(folder, validation=validation)    \n",
    "except AffiliationError as affilerror:\n",
    "    msg = f\"ArXiv:{paper_id:s} is not an MPIA paper... \" + str(affilerror)\n",
    "    print(msg)\n",
    "\n",
    "\n",
    "# Hack because sometimes author parsing does not work well\n",
    "if (len(doc.authors) != len(paper['authors'])):\n",
    "    doc._authors = paper['authors']\n",
    "if (doc.abstract) in (None, ''):\n",
    "    doc._abstract = paper['abstract']\n",
    "\n",
    "doc.comment = get_markdown_badge(paper_id) + \" _\" + paper['comments'] + \"_\"\n",
    "doc.highlight_authors_in_list(hl_list)\n",
    "\n",
    "full_md = doc.generate_markdown_text()"
   ]
  },
  {
   "cell_type": "raw",
   "id": "dd3781db",
   "metadata": {
    "papermill": {
     "duration": 0.009073,
     "end_time": "2022-12-22T04:06:59.038263",
     "exception": false,
     "start_time": "2022-12-22T04:06:59.029190",
     "status": "completed"
    },
    "scrolled": false,
    "tags": []
   },
   "source": [
    "doc"
   ]
  },
  {
   "cell_type": "raw",
   "id": "c6eed834",
   "metadata": {
    "papermill": {
     "duration": 0.009398,
     "end_time": "2022-12-22T04:06:59.056910",
     "exception": false,
     "start_time": "2022-12-22T04:06:59.047512",
     "status": "completed"
    },
    "tags": []
   },
   "source": [
    "# [check_environment(k) for k in bracket_error(doc.source)]\n",
    "_, _, a = latex.get_content_per_section(doc.source, verbose=True)\n",
    "if not a:\n",
    "    print(\"no issues per section\")\n",
    "for ak in a:\n",
    "    r = check_environment(ak[1], offset=ak[0])\n",
    "    print(r[1], r[2])\n",
    "    print(r[0])"
   ]
  },
  {
   "cell_type": "code",
   "execution_count": null,
   "id": "71ce768a",
   "metadata": {
    "papermill": {
     "duration": 0.009052,
     "end_time": "2022-12-22T04:06:59.075244",
     "exception": false,
     "start_time": "2022-12-22T04:06:59.066192",
     "status": "completed"
    },
    "tags": []
   },
   "outputs": [],
   "source": []
  }
 ],
 "metadata": {
  "kernelspec": {
   "display_name": "Python 3.10.6 64-bit",
   "language": "python",
   "name": "python3"
  },
  "language_info": {
   "codemirror_mode": {
    "name": "ipython",
    "version": 3
   },
   "file_extension": ".py",
   "mimetype": "text/x-python",
   "name": "python",
   "nbconvert_exporter": "python",
   "pygments_lexer": "ipython3",
   "version": "3.9.16"
  },
  "papermill": {
   "default_parameters": {},
   "duration": 84.088995,
   "end_time": "2022-12-22T04:06:59.303689",
   "environment_variables": {},
   "exception": null,
   "input_path": "MPIA daily digest.ipynb",
   "output_path": "log.ipynb",
   "parameters": {},
   "start_time": "2022-12-22T04:05:35.214694",
   "version": "2.4.0"
  },
  "vscode": {
   "interpreter": {
    "hash": "e7370f93d1d0cde622a1f8e1c04877d8463912d04d973331ad4851f04de6915a"
   }
  },
  "widgets": {
   "application/vnd.jupyter.widget-state+json": {
    "state": {
     "15d1868e27e64fd8b21fc11ed6b16646": {
      "model_module": "@jupyter-widgets/controls",
      "model_module_version": "2.0.0",
      "model_name": "HTMLModel",
      "state": {
       "_dom_classes": [],
       "_model_module": "@jupyter-widgets/controls",
       "_model_module_version": "2.0.0",
       "_model_name": "HTMLModel",
       "_view_count": null,
       "_view_module": "@jupyter-widgets/controls",
       "_view_module_version": "2.0.0",
       "_view_name": "HTMLView",
       "description": "",
       "description_allow_html": false,
       "layout": "IPY_MODEL_e40ec6a0730446e0919a7e701157edc1",
       "placeholder": "​",
       "style": "IPY_MODEL_dd5881a4aa924b7b84ab6515eed93c14",
       "tabbable": null,
       "tooltip": null,
       "value": " 17/17 [00:59&lt;00:00, 11.81s/it]"
      }
     },
     "3290756fdcaa4bf1a4c2c2296abc4212": {
      "model_module": "@jupyter-widgets/controls",
      "model_module_version": "2.0.0",
      "model_name": "HTMLModel",
      "state": {
       "_dom_classes": [],
       "_model_module": "@jupyter-widgets/controls",
       "_model_module_version": "2.0.0",
       "_model_name": "HTMLModel",
       "_view_count": null,
       "_view_module": "@jupyter-widgets/controls",
       "_view_module_version": "2.0.0",
       "_view_name": "HTMLView",
       "description": "",
       "description_allow_html": false,
       "layout": "IPY_MODEL_5b3151fd26614a72a248c7eb6eaa0fa3",
       "placeholder": "​",
       "style": "IPY_MODEL_f1935e6d75f0498ea248b7f42c555035",
       "tabbable": null,
       "tooltip": null,
       "value": "100%"
      }
     },
     "421dddbdfcf3435ca977d5b4acf57f4a": {
      "model_module": "@jupyter-widgets/controls",
      "model_module_version": "2.0.0",
      "model_name": "ProgressStyleModel",
      "state": {
       "_model_module": "@jupyter-widgets/controls",
       "_model_module_version": "2.0.0",
       "_model_name": "ProgressStyleModel",
       "_view_count": null,
       "_view_module": "@jupyter-widgets/base",
       "_view_module_version": "2.0.0",
       "_view_name": "StyleView",
       "bar_color": null,
       "description_width": ""
      }
     },
     "5b3151fd26614a72a248c7eb6eaa0fa3": {
      "model_module": "@jupyter-widgets/base",
      "model_module_version": "2.0.0",
      "model_name": "LayoutModel",
      "state": {
       "_model_module": "@jupyter-widgets/base",
       "_model_module_version": "2.0.0",
       "_model_name": "LayoutModel",
       "_view_count": null,
       "_view_module": "@jupyter-widgets/base",
       "_view_module_version": "2.0.0",
       "_view_name": "LayoutView",
       "align_content": null,
       "align_items": null,
       "align_self": null,
       "border_bottom": null,
       "border_left": null,
       "border_right": null,
       "border_top": null,
       "bottom": null,
       "display": null,
       "flex": null,
       "flex_flow": null,
       "grid_area": null,
       "grid_auto_columns": null,
       "grid_auto_flow": null,
       "grid_auto_rows": null,
       "grid_column": null,
       "grid_gap": null,
       "grid_row": null,
       "grid_template_areas": null,
       "grid_template_columns": null,
       "grid_template_rows": null,
       "height": null,
       "justify_content": null,
       "justify_items": null,
       "left": null,
       "margin": null,
       "max_height": null,
       "max_width": null,
       "min_height": null,
       "min_width": null,
       "object_fit": null,
       "object_position": null,
       "order": null,
       "overflow": null,
       "padding": null,
       "right": null,
       "top": null,
       "visibility": null,
       "width": null
      }
     },
     "7c9d01f814e14cabaceb7f19238bb033": {
      "model_module": "@jupyter-widgets/controls",
      "model_module_version": "2.0.0",
      "model_name": "HBoxModel",
      "state": {
       "_dom_classes": [],
       "_model_module": "@jupyter-widgets/controls",
       "_model_module_version": "2.0.0",
       "_model_name": "HBoxModel",
       "_view_count": null,
       "_view_module": "@jupyter-widgets/controls",
       "_view_module_version": "2.0.0",
       "_view_name": "HBoxView",
       "box_style": "",
       "children": [
        "IPY_MODEL_3290756fdcaa4bf1a4c2c2296abc4212",
        "IPY_MODEL_80ba834f090f45d5b0c076121daeae5d",
        "IPY_MODEL_15d1868e27e64fd8b21fc11ed6b16646"
       ],
       "layout": "IPY_MODEL_a1e7dda5b7d840a4b325ff66d91fe9a2",
       "tabbable": null,
       "tooltip": null
      }
     },
     "80ba834f090f45d5b0c076121daeae5d": {
      "model_module": "@jupyter-widgets/controls",
      "model_module_version": "2.0.0",
      "model_name": "FloatProgressModel",
      "state": {
       "_dom_classes": [],
       "_model_module": "@jupyter-widgets/controls",
       "_model_module_version": "2.0.0",
       "_model_name": "FloatProgressModel",
       "_view_count": null,
       "_view_module": "@jupyter-widgets/controls",
       "_view_module_version": "2.0.0",
       "_view_name": "ProgressView",
       "bar_style": "success",
       "description": "",
       "description_allow_html": false,
       "layout": "IPY_MODEL_8cc7bb676b3d4ff4b5089d69c610522d",
       "max": 17.0,
       "min": 0.0,
       "orientation": "horizontal",
       "style": "IPY_MODEL_421dddbdfcf3435ca977d5b4acf57f4a",
       "tabbable": null,
       "tooltip": null,
       "value": 17.0
      }
     },
     "8cc7bb676b3d4ff4b5089d69c610522d": {
      "model_module": "@jupyter-widgets/base",
      "model_module_version": "2.0.0",
      "model_name": "LayoutModel",
      "state": {
       "_model_module": "@jupyter-widgets/base",
       "_model_module_version": "2.0.0",
       "_model_name": "LayoutModel",
       "_view_count": null,
       "_view_module": "@jupyter-widgets/base",
       "_view_module_version": "2.0.0",
       "_view_name": "LayoutView",
       "align_content": null,
       "align_items": null,
       "align_self": null,
       "border_bottom": null,
       "border_left": null,
       "border_right": null,
       "border_top": null,
       "bottom": null,
       "display": null,
       "flex": null,
       "flex_flow": null,
       "grid_area": null,
       "grid_auto_columns": null,
       "grid_auto_flow": null,
       "grid_auto_rows": null,
       "grid_column": null,
       "grid_gap": null,
       "grid_row": null,
       "grid_template_areas": null,
       "grid_template_columns": null,
       "grid_template_rows": null,
       "height": null,
       "justify_content": null,
       "justify_items": null,
       "left": null,
       "margin": null,
       "max_height": null,
       "max_width": null,
       "min_height": null,
       "min_width": null,
       "object_fit": null,
       "object_position": null,
       "order": null,
       "overflow": null,
       "padding": null,
       "right": null,
       "top": null,
       "visibility": null,
       "width": null
      }
     },
     "a1e7dda5b7d840a4b325ff66d91fe9a2": {
      "model_module": "@jupyter-widgets/base",
      "model_module_version": "2.0.0",
      "model_name": "LayoutModel",
      "state": {
       "_model_module": "@jupyter-widgets/base",
       "_model_module_version": "2.0.0",
       "_model_name": "LayoutModel",
       "_view_count": null,
       "_view_module": "@jupyter-widgets/base",
       "_view_module_version": "2.0.0",
       "_view_name": "LayoutView",
       "align_content": null,
       "align_items": null,
       "align_self": null,
       "border_bottom": null,
       "border_left": null,
       "border_right": null,
       "border_top": null,
       "bottom": null,
       "display": null,
       "flex": null,
       "flex_flow": null,
       "grid_area": null,
       "grid_auto_columns": null,
       "grid_auto_flow": null,
       "grid_auto_rows": null,
       "grid_column": null,
       "grid_gap": null,
       "grid_row": null,
       "grid_template_areas": null,
       "grid_template_columns": null,
       "grid_template_rows": null,
       "height": null,
       "justify_content": null,
       "justify_items": null,
       "left": null,
       "margin": null,
       "max_height": null,
       "max_width": null,
       "min_height": null,
       "min_width": null,
       "object_fit": null,
       "object_position": null,
       "order": null,
       "overflow": null,
       "padding": null,
       "right": null,
       "top": null,
       "visibility": null,
       "width": null
      }
     },
     "dd5881a4aa924b7b84ab6515eed93c14": {
      "model_module": "@jupyter-widgets/controls",
      "model_module_version": "2.0.0",
      "model_name": "HTMLStyleModel",
      "state": {
       "_model_module": "@jupyter-widgets/controls",
       "_model_module_version": "2.0.0",
       "_model_name": "HTMLStyleModel",
       "_view_count": null,
       "_view_module": "@jupyter-widgets/base",
       "_view_module_version": "2.0.0",
       "_view_name": "StyleView",
       "background": null,
       "description_width": "",
       "font_size": null,
       "text_color": null
      }
     },
     "e40ec6a0730446e0919a7e701157edc1": {
      "model_module": "@jupyter-widgets/base",
      "model_module_version": "2.0.0",
      "model_name": "LayoutModel",
      "state": {
       "_model_module": "@jupyter-widgets/base",
       "_model_module_version": "2.0.0",
       "_model_name": "LayoutModel",
       "_view_count": null,
       "_view_module": "@jupyter-widgets/base",
       "_view_module_version": "2.0.0",
       "_view_name": "LayoutView",
       "align_content": null,
       "align_items": null,
       "align_self": null,
       "border_bottom": null,
       "border_left": null,
       "border_right": null,
       "border_top": null,
       "bottom": null,
       "display": null,
       "flex": null,
       "flex_flow": null,
       "grid_area": null,
       "grid_auto_columns": null,
       "grid_auto_flow": null,
       "grid_auto_rows": null,
       "grid_column": null,
       "grid_gap": null,
       "grid_row": null,
       "grid_template_areas": null,
       "grid_template_columns": null,
       "grid_template_rows": null,
       "height": null,
       "justify_content": null,
       "justify_items": null,
       "left": null,
       "margin": null,
       "max_height": null,
       "max_width": null,
       "min_height": null,
       "min_width": null,
       "object_fit": null,
       "object_position": null,
       "order": null,
       "overflow": null,
       "padding": null,
       "right": null,
       "top": null,
       "visibility": null,
       "width": null
      }
     },
     "f1935e6d75f0498ea248b7f42c555035": {
      "model_module": "@jupyter-widgets/controls",
      "model_module_version": "2.0.0",
      "model_name": "HTMLStyleModel",
      "state": {
       "_model_module": "@jupyter-widgets/controls",
       "_model_module_version": "2.0.0",
       "_model_name": "HTMLStyleModel",
       "_view_count": null,
       "_view_module": "@jupyter-widgets/base",
       "_view_module_version": "2.0.0",
       "_view_name": "StyleView",
       "background": null,
       "description_width": "",
       "font_size": null,
       "text_color": null
      }
     }
    },
    "version_major": 2,
    "version_minor": 0
   }
  }
 },
 "nbformat": 4,
 "nbformat_minor": 5
}