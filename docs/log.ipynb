{
 "cells": [
  {
   "cell_type": "markdown",
   "id": "92bcb855",
   "metadata": {
    "papermill": {
     "duration": 0.003644,
     "end_time": "2024-02-06T04:07:05.984623",
     "exception": false,
     "start_time": "2024-02-06T04:07:05.980979",
     "status": "completed"
    },
    "tags": []
   },
   "source": [
    "# MPIA Arxiv on Deck 2\n",
    "\n",
    "Contains the steps to produce the paper extractions."
   ]
  },
  {
   "cell_type": "code",
   "execution_count": 1,
   "id": "3a0d6e11",
   "metadata": {
    "execution": {
     "iopub.execute_input": "2024-02-06T04:07:05.993208Z",
     "iopub.status.busy": "2024-02-06T04:07:05.992645Z",
     "iopub.status.idle": "2024-02-06T04:07:06.476605Z",
     "shell.execute_reply": "2024-02-06T04:07:06.475980Z"
    },
    "papermill": {
     "duration": 0.489551,
     "end_time": "2024-02-06T04:07:06.478326",
     "exception": false,
     "start_time": "2024-02-06T04:07:05.988775",
     "status": "completed"
    },
    "tags": []
   },
   "outputs": [],
   "source": [
    "# Imports\n",
    "import os\n",
    "from IPython.display import Markdown, display\n",
    "from tqdm.notebook import tqdm\n",
    "import warnings\n",
    "from PIL import Image \n",
    "\n",
    "# requires arxiv_on_deck_2\n",
    "\n",
    "from arxiv_on_deck_2.arxiv2 import (get_new_papers, \n",
    "                                    get_paper_from_identifier,\n",
    "                                    retrieve_document_source, \n",
    "                                    get_markdown_badge)\n",
    "from arxiv_on_deck_2 import (latex,\n",
    "                             latex_bib,\n",
    "                             mpia,\n",
    "                             highlight_authors_in_list)\n",
    "\n",
    "# Sometimes images are really big\n",
    "Image.MAX_IMAGE_PIXELS = 1000000000 "
   ]
  },
  {
   "cell_type": "code",
   "execution_count": 2,
   "id": "22aa9d44",
   "metadata": {
    "execution": {
     "iopub.execute_input": "2024-02-06T04:07:06.485346Z",
     "iopub.status.busy": "2024-02-06T04:07:06.484871Z",
     "iopub.status.idle": "2024-02-06T04:07:06.489953Z",
     "shell.execute_reply": "2024-02-06T04:07:06.489418Z"
    },
    "papermill": {
     "duration": 0.009882,
     "end_time": "2024-02-06T04:07:06.491226",
     "exception": false,
     "start_time": "2024-02-06T04:07:06.481344",
     "status": "completed"
    },
    "tags": []
   },
   "outputs": [],
   "source": [
    "# Some useful definitions.\n",
    "\n",
    "class AffiliationWarning(UserWarning):\n",
    "    pass\n",
    "\n",
    "class AffiliationError(RuntimeError):\n",
    "    pass\n",
    "\n",
    "def validation(source: str):\n",
    "    \"\"\"Raises error paper during parsing of source file\n",
    "    \n",
    "    Allows checks before parsing TeX code.\n",
    "    \n",
    "    Raises AffiliationWarning\n",
    "    \"\"\"\n",
    "    check = mpia.affiliation_verifications(source, verbose=True)\n",
    "    if check is not True:\n",
    "        raise AffiliationError(\"mpia.affiliation_verifications: \" + check)\n",
    "\n",
    "        \n",
    "warnings.simplefilter('always', AffiliationWarning)\n",
    "\n",
    "\n",
    "def get_markdown_qrcode(paper_id: str):\n",
    "    \"\"\" Generate a qrcode to the arxiv page using qrserver.com\n",
    "    \n",
    "    :param paper: Arxiv paper\n",
    "    :returns: markdown text\n",
    "    \"\"\"\n",
    "    url = r\"https://api.qrserver.com/v1/create-qr-code/?size=100x100&data=\"\n",
    "    txt = f\"\"\"<img src={url}\"https://arxiv.org/abs/{paper_id}\">\"\"\"\n",
    "    txt = '<div id=\"qrcode\">' + txt + '</div>'\n",
    "    return txt"
   ]
  },
  {
   "cell_type": "markdown",
   "id": "14bd6310",
   "metadata": {
    "papermill": {
     "duration": 0.002696,
     "end_time": "2024-02-06T04:07:06.496805",
     "exception": false,
     "start_time": "2024-02-06T04:07:06.494109",
     "status": "completed"
    },
    "tags": []
   },
   "source": [
    "## get list of arxiv paper candidates\n",
    "\n",
    "We use the MPIA mitarbeiter list webpage from mpia.de to get author names\n",
    "We then get all new papers from Arxiv and match authors"
   ]
  },
  {
   "cell_type": "code",
   "execution_count": 3,
   "id": "2645e73a",
   "metadata": {
    "execution": {
     "iopub.execute_input": "2024-02-06T04:07:06.503398Z",
     "iopub.status.busy": "2024-02-06T04:07:06.503014Z",
     "iopub.status.idle": "2024-02-06T04:07:24.432582Z",
     "shell.execute_reply": "2024-02-06T04:07:24.431949Z"
    },
    "papermill": {
     "duration": 17.934342,
     "end_time": "2024-02-06T04:07:24.433925",
     "exception": false,
     "start_time": "2024-02-06T04:07:06.499583",
     "status": "completed"
    },
    "tags": []
   },
   "outputs": [
    {
     "name": "stdout",
     "output_type": "stream",
     "text": [
      "S. Belladitta  ->  S. Belladitta  |  ['S. Belladitta']\n",
      "E. Bañados  ->  E. Bañados  |  ['E. Bañados']\n",
      "S. Bosman  ->  S. Bosman  |  ['S. Bosman']\n",
      "F. Walter  ->  F. Walter  |  ['F. Walter']\n",
      "S. Deshmukh  ->  S. Deshmukh  |  ['S. Deshmukh']\n"
     ]
    },
    {
     "name": "stdout",
     "output_type": "stream",
     "text": [
      "Arxiv has 74 new papers today\n",
      "          3 with possible author matches\n"
     ]
    }
   ],
   "source": [
    "# get list from MPIA website\n",
    "# it automatically filters identified non-scientists :func:`mpia.filter_non_scientists`\n",
    "mpia_authors = mpia.get_mpia_mitarbeiter_list()\n",
    "normed_mpia_authors = [k[1] for k in mpia_authors]   # initials + fullname\n",
    "new_papers = get_new_papers()\n",
    "# add manual references\n",
    "add_paper_refs = []\n",
    "new_papers.extend([get_paper_from_identifier(k) for k in add_paper_refs])\n",
    "\n",
    "candidates = []\n",
    "for paperk in new_papers:\n",
    "    # Check author list with their initials\n",
    "    normed_author_list = [mpia.get_initials(k) for k in paperk['authors']]\n",
    "    hl_authors = highlight_authors_in_list(normed_author_list, normed_mpia_authors, verbose=True)\n",
    "    matches = [(hl, orig) for hl, orig in zip(hl_authors, paperk['authors']) if 'mark' in hl]\n",
    "    paperk['authors'] = hl_authors\n",
    "    if matches:\n",
    "        # only select paper if an author matched our list\n",
    "        candidates.append(paperk)\n",
    "print(\"\"\"Arxiv has {0:,d} new papers today\"\"\".format(len(new_papers)))        \n",
    "print(\"\"\"          {0:,d} with possible author matches\"\"\".format(len(candidates)))"
   ]
  },
  {
   "cell_type": "markdown",
   "id": "3543b34a",
   "metadata": {
    "papermill": {
     "duration": 0.003008,
     "end_time": "2024-02-06T04:07:24.440234",
     "exception": false,
     "start_time": "2024-02-06T04:07:24.437226",
     "status": "completed"
    },
    "tags": []
   },
   "source": [
    "# Parse sources and generate relevant outputs\n",
    "\n",
    "From the candidates, we do the following steps:\n",
    "* get their tarball from ArXiv (and extract data)\n",
    "* find the main .tex file: find one with \\documentclass{...} (sometimes it's non trivial)\n",
    "* Check affiliations with :func:`validation`, which uses :func:`mpia.affiliation_verifications`\n",
    "* If passing the affiliations: we parse the .tex source\n",
    "   * inject sub-documents into the main (flatten the main document)\n",
    "   * parse structure, extract information (title, abstract, authors, figures...)\n",
    "   * handles `\\graphicspath` if provided\n",
    "* Generate the .md document."
   ]
  },
  {
   "cell_type": "code",
   "execution_count": 4,
   "id": "9576b79e",
   "metadata": {
    "execution": {
     "iopub.execute_input": "2024-02-06T04:07:24.447541Z",
     "iopub.status.busy": "2024-02-06T04:07:24.446935Z",
     "iopub.status.idle": "2024-02-06T04:07:56.415607Z",
     "shell.execute_reply": "2024-02-06T04:07:56.414830Z"
    },
    "papermill": {
     "duration": 31.974334,
     "end_time": "2024-02-06T04:07:56.417491",
     "exception": false,
     "start_time": "2024-02-06T04:07:24.443157",
     "status": "completed"
    },
    "scrolled": false,
    "tags": []
   },
   "outputs": [
    {
     "data": {
      "application/vnd.jupyter.widget-view+json": {
       "model_id": "2084a57c7d0043509df26972b9837041",
       "version_major": 2,
       "version_minor": 0
      },
      "text/plain": [
       "  0%|          | 0/3 [00:00<?, ?it/s]"
      ]
     },
     "metadata": {},
     "output_type": "display_data"
    },
    {
     "name": "stdout",
     "output_type": "stream",
     "text": [
      "Retrieving document from  https://arxiv.org/e-print/2402.01835\n"
     ]
    },
    {
     "name": "stdout",
     "output_type": "stream",
     "text": [
      "extracting tarball to tmp_2402.01835... done.\n"
     ]
    },
    {
     "name": "stdout",
     "output_type": "stream",
     "text": [
      "S. Belladitta  ->  S. Belladitta  |  ['S. Belladitta']\n",
      "Retrieving document from  https://arxiv.org/e-print/2402.01844\n"
     ]
    },
    {
     "name": "stderr",
     "output_type": "stream",
     "text": [
      "/tmp/ipykernel_2082/3009462391.py:49: LatexWarning: 2402.01835 did not run properly\n",
      "Unable to locate Ghostscript on paths\n",
      "  warnings.warn(latex.LatexWarning(f\"{paper_id:s} did not run properly\\n\" +\n"
     ]
    },
    {
     "name": "stdout",
     "output_type": "stream",
     "text": [
      "extracting tarball to tmp_2402.01844..."
     ]
    },
    {
     "name": "stdout",
     "output_type": "stream",
     "text": [
      " done.\n"
     ]
    },
    {
     "name": "stdout",
     "output_type": "stream",
     "text": [
      "E. Bañados  ->  E. Bañados  |  ['E. Bañados']\n",
      "S. Bosman  ->  S. Bosman  |  ['S. Bosman']\n",
      "F. Walter  ->  F. Walter  |  ['F. Walter']\n"
     ]
    },
    {
     "name": "stdout",
     "output_type": "stream",
     "text": [
      "list index out of range\n",
      "Retrieving document from  https://arxiv.org/e-print/2402.02476\n"
     ]
    },
    {
     "name": "stdout",
     "output_type": "stream",
     "text": [
      "extracting tarball to tmp_2402.02476..."
     ]
    },
    {
     "name": "stdout",
     "output_type": "stream",
     "text": [
      " done.\n"
     ]
    }
   ],
   "source": [
    "documents = []\n",
    "failed = []\n",
    "for paper in tqdm(candidates):\n",
    "    paper_id = paper['identifier'].lower().replace('arxiv:', '')\n",
    "    \n",
    "    folder = f'tmp_{paper_id}'\n",
    "\n",
    "    try:\n",
    "        if not os.path.isdir(folder):\n",
    "            folder = retrieve_document_source(f\"{paper_id}\", f'tmp_{paper_id}')\n",
    "        \n",
    "        try:\n",
    "            doc = latex.LatexDocument(folder, validation=validation)    \n",
    "        except AffiliationError as affilerror:\n",
    "            msg = f\"ArXiv:{paper_id:s} is not an MPIA paper... \" + str(affilerror)\n",
    "            failed.append((paper, \"affiliation error: \" + str(affilerror) ))\n",
    "            continue\n",
    "        \n",
    "        # Hack because sometimes author parsing does not work well\n",
    "        if (len(doc.authors) != len(paper['authors'])):\n",
    "            doc._authors = paper['authors']\n",
    "        else:\n",
    "            # highlight authors (FIXME: doc.highlight_authors)\n",
    "            # done on arxiv paper already\n",
    "            doc._authors = highlight_authors_in_list(\n",
    "                [mpia.get_initials(k) for k in doc.authors], \n",
    "                normed_mpia_authors, verbose=True)\n",
    "        if (doc.abstract) in (None, ''):\n",
    "            doc._abstract = paper['abstract']\n",
    "            \n",
    "        doc.comment = (get_markdown_badge(paper_id) + \n",
    "                       \"<mark>Appeared on: \" + paper['date'] + \"</mark> - \")\n",
    "        if paper['comments']:\n",
    "            doc.comment += \" _\" + paper['comments'] + \"_\"\n",
    "        \n",
    "        full_md = doc.generate_markdown_text()\n",
    "        \n",
    "        full_md += get_markdown_qrcode(paper_id)\n",
    "        \n",
    "        # replace citations\n",
    "        try:\n",
    "            bibdata = latex_bib.LatexBib.from_doc(doc)\n",
    "            full_md = latex_bib.replace_citations(full_md, bibdata)\n",
    "        except Exception as e:\n",
    "            print(e)\n",
    "        \n",
    "        documents.append((paper_id, full_md))\n",
    "    except Exception as e:\n",
    "        warnings.warn(latex.LatexWarning(f\"{paper_id:s} did not run properly\\n\" +\n",
    "                                         str(e)\n",
    "                                        ))\n",
    "        failed.append((paper, \"latex error \" + str(e)))"
   ]
  },
  {
   "cell_type": "markdown",
   "id": "2505a25c",
   "metadata": {
    "papermill": {
     "duration": 0.003547,
     "end_time": "2024-02-06T04:07:56.424804",
     "exception": false,
     "start_time": "2024-02-06T04:07:56.421257",
     "status": "completed"
    },
    "tags": []
   },
   "source": [
    "### Export the logs\n",
    "\n",
    "Throughout, we also keep track of the logs per paper. see `logs-{today date}.md` "
   ]
  },
  {
   "cell_type": "code",
   "execution_count": 5,
   "id": "d733828a",
   "metadata": {
    "execution": {
     "iopub.execute_input": "2024-02-06T04:07:56.433351Z",
     "iopub.status.busy": "2024-02-06T04:07:56.432721Z",
     "iopub.status.idle": "2024-02-06T04:07:56.446452Z",
     "shell.execute_reply": "2024-02-06T04:07:56.445926Z"
    },
    "papermill": {
     "duration": 0.01945,
     "end_time": "2024-02-06T04:07:56.447715",
     "exception": false,
     "start_time": "2024-02-06T04:07:56.428265",
     "status": "completed"
    },
    "scrolled": false,
    "tags": []
   },
   "outputs": [
    {
     "data": {
      "text/markdown": [
       "## Successful papers"
      ],
      "text/plain": [
       "<IPython.core.display.Markdown object>"
      ]
     },
     "metadata": {},
     "output_type": "display_data"
    },
    {
     "data": {
      "text/markdown": [
       "\n",
       "|||\n",
       "|---:|:---|\n",
       "| [![arXiv](https://img.shields.io/badge/arXiv-arXiv:2402.01844-b31b1b.svg)](https://arxiv.org/abs/arXiv:2402.01844) | **A Massive Protocluster Anchored by a Luminous Quasar at $z=6.63$**  |\n",
       "|| F. Wang, et al. -- incl., <mark>E. Bañados</mark>, <mark>S. Bosman</mark>, <mark>F. Walter</mark> |\n",
       "|*Appeared on*| *2024-02-06*|\n",
       "|*Comments*| *Accepted for publication in ApJL*|\n",
       "|**Abstract**| Protoclusters, the progenitors of galaxy clusters, trace large scale structures in the early Universe and are important to our understanding of structure formation and galaxy evolution. To date, only a handful of protoclusters have been identified in the Epoch of Reionization (EoR). As one of the rarest populations in the early Universe, distant quasars that host active supermassive black holes are thought to reside in the most massive dark matter halos at that cosmic epoch, and could thus potentially pinpoint some of the earliest protoclusters. In this letter, we report the discovery of a massive protocluster around a luminous quasar at $z=6.63$. This protocluster is anchored by the quasar, and includes three [CII] emitters at $z\\sim6.63$, 12 spectroscopically confirmed Ly$\\alpha$ emitters (LAEs) at $6.54<z\\le6.64$, and a large number of narrow-band imaging selected LAE candidates at the same redshift. This structure has an overall overdensity of $\\delta=3.3^{+1.1}_{-0.9}$ within $\\sim35\\times74$ cMpc$^2$ on the sky and an extreme overdensity of $\\delta>30$ in its central region (i.e., $R\\lesssim2$ cMpc). We estimate that this protocluster will collapse into a galaxy cluster with a mass of $6.9^{+1.2}_{-1.4}\\times10^{15}~M_\\odot$ at the current epoch, more massive than the most massive clusters known in the local Universe such as Coma. In the quasar vicinity, we discover a double-peaked LAE which implies that the quasar has a UV lifetime greater than 0.8 Myrs and has already ionized its surrounding intergalactic medium. |"
      ],
      "text/plain": [
       "[arXiv:2402.01844] A Massive Protocluster Anchored by a Luminous Quasar at $z=6.63$\n",
       "\tF. Wang, et al. -- incl., <mark>E. Bañados</mark>, <mark>S. Bosman</mark>, <mark>F. Walter</mark>"
      ]
     },
     "metadata": {},
     "output_type": "display_data"
    },
    {
     "data": {
      "text/markdown": [
       "## Failed papers"
      ],
      "text/plain": [
       "<IPython.core.display.Markdown object>"
      ]
     },
     "metadata": {},
     "output_type": "display_data"
    },
    {
     "data": {
      "text/markdown": [
       "\n",
       "|||\n",
       "|---:|:---|\n",
       "| [![arXiv](https://img.shields.io/badge/arXiv-arXiv:2402.02476-b31b1b.svg)](https://arxiv.org/abs/arXiv:2402.02476) | **Constraints on Triton atmospheric evolution from occultations: 1989-2022**  |\n",
       "|| B. Sicardy, et al. -- incl., <mark>S. Deshmukh</mark> |\n",
       "|*Appeared on*| *2024-02-06*|\n",
       "|*Comments*| *8 pages, 4 figures, accepted for publication in Astronomy and Astrophysics*|\n",
       "|**Abstract**| Context - Around the year 2000, Triton's south pole experienced an extreme summer solstice that occurs every about 650 years, when the subsolar latitude reached about 50{\\deg}. Bracketing this epoch, a few occultations probed Triton's atmosphere in 1989, 1995, 1997, 2008 and 2017. A recent ground-based stellar occultation observed on 6 October 2022 provides a new measurement of Triton's atmospheric pressure which is presented here. Aims- The goal is to constrain the Volatile Transport Models (VTMs) of Triton's atmosphere that is basically in vapor pressure equilibrium with the nitrogen ice at its surface. Methods - Fits to the occultation light curves yield Triton's atmospheric pressure at the reference radius 1400 km, from which the surface pressure is induced. Results - The fits provide a pressure p_1400= 1.211 +/- 0.039 microbar at radius 1400 km (47 km altitude), from which a surface pressure of p_surf= 14.54 +/- 0.47 microbar is induced (1-sigma error bars). To within error bars, this is identical to the pressure derived from the previous occultation of 5 October 2017, p_1400 = 1.18 +/- 0.03 microbar and p_surf= 14.1 +/- 0.4 microbar, respectively. Based on recent models of Triton's volatile cycles, the overall evolution over the last 30 years of the surface pressure is consistent with N2 condensation taking place in the northern hemisphere. However, models typically predict a steady decrease in surface pressure for the period 2005-2060, which is not confirmed by this observation. Complex surface-atmosphere interactions, such as ice albedo runaway and formation of local N2 frosts in the equatorial regions of Triton could explain the relatively constant pressure between 2017 and 2022. |\n",
       "|<p style=\"color:green\"> **ERROR** </p>| <p style=\"color:green\">affiliation error: mpia.affiliation_verifications: 'Heidelberg' keyword not found.</p> |"
      ],
      "text/plain": [
       "<IPython.core.display.Markdown object>"
      ]
     },
     "metadata": {},
     "output_type": "display_data"
    },
    {
     "data": {
      "text/markdown": [
       "\n",
       "|||\n",
       "|---:|:---|\n",
       "| [![arXiv](https://img.shields.io/badge/arXiv-arXiv:2402.01835-b31b1b.svg)](https://arxiv.org/abs/arXiv:2402.01835) | **Obscuration in high redshift jetted QSO**  |\n",
       "|| A. Caccianiga, et al. -- incl., <mark>S. Belladitta</mark> |\n",
       "|*Appeared on*| *2024-02-06*|\n",
       "|*Comments*| *14 pages, 5 figures. Accepted for publication on A&A*|\n",
       "|**Abstract**| Obscuration in high-redshift quasi-stellar objects (QSO) has a profound impact on our understanding of the evolution of supermassive black holes across the cosmic time. An accurate quantification of its relevance is therefore mandatory. We present a study aimed at evaluating the importance of obscuration in high redshift jetted QSO, i.e. those active nuclei characterized by the presence of powerful relativistic jets. We compare the observed number of radio detected QSO at different radio flux density limits with the value predicted by the beaming model on the basis of the number of oriented sources (blazars). Any significant deficit of radio-detected QSO compared to the predictions can be caused by the presence of obscuration along large angles from the jet direction. We apply this method to two sizable samples characterized by the same optical limit (mag=21) but significantly different radio density limits (30 mJy and 1 mJy respectively) and containing a total of 87 independent radio-loud 4<z<6.8 QSO, 31 of which classified as blazars. We find a general good agreement between the numbers predicted by the model and those actually observed, with only a marginal discrepancy at 0.5 mJy that could be caused by the lack of completeness of the sample. We conclude that we have no evidence of obscuration within angles 10-20deg from the relativistic jet direction. We also show how the ongoing deep wide-angle radio surveys will be instrumental to test the presence of obscuration at much larger angles, up to 30-35deg. We finally suggest that, depending on the actual fraction of obscured QSO, relativistic jets could be much more common at high redshifts compared to what is usually observed in the local Universe |\n",
       "|<p style=\"color:red\"> **ERROR** </p>| <p style=\"color:red\">latex error Unable to locate Ghostscript on paths</p> |"
      ],
      "text/plain": [
       "<IPython.core.display.Markdown object>"
      ]
     },
     "metadata": {},
     "output_type": "display_data"
    }
   ],
   "source": [
    "import datetime\n",
    "today = str(datetime.date.today())\n",
    "logfile = f\"_build/html/logs/log-{today}.md\"\n",
    "\n",
    "\n",
    "with open(logfile, 'w') as logs:\n",
    "    # Success\n",
    "    logs.write(f'# Arxiv on Deck 2: Logs - {today}\\n\\n')\n",
    "    logs.write(\"\"\"* Arxiv had {0:,d} new papers\\n\"\"\".format(len(new_papers)))\n",
    "    logs.write(\"\"\"    * {0:,d} with possible author matches\\n\\n\"\"\".format(len(candidates)))\n",
    "    logs.write(\"## Sucessful papers\\n\\n\")\n",
    "    display(Markdown(\"## Successful papers\"))\n",
    "    success = [k[0] for k in documents]\n",
    "    for candid in candidates:\n",
    "        if candid['identifier'].split(':')[-1] in success:\n",
    "            display(candid)\n",
    "            logs.write(candid.generate_markdown_text() + '\\n\\n')\n",
    "\n",
    "    ## failed\n",
    "    logs.write(\"## Failed papers\\n\\n\")\n",
    "    display(Markdown(\"## Failed papers\"))\n",
    "    failed = sorted(failed, key=lambda x: x[1])\n",
    "    current_reason = \"\"\n",
    "    for paper, reason in failed:\n",
    "        if 'affiliation' in reason:\n",
    "            color = 'green'\n",
    "        else:\n",
    "            color = 'red'\n",
    "        data = Markdown(\n",
    "                paper.generate_markdown_text() + \n",
    "                f'\\n|<p style=\"color:{color:s}\"> **ERROR** </p>| <p style=\"color:{color:s}\">{reason:s}</p> |'\n",
    "               )\n",
    "        if reason != current_reason:\n",
    "            logs.write(f'### {reason:s} \\n\\n')\n",
    "            current_reason = reason\n",
    "        logs.write(data.data + '\\n\\n')\n",
    "        \n",
    "        # only display here the important errors (all in logs)\n",
    "        # if color in ('red',):\n",
    "        display(data)"
   ]
  },
  {
   "cell_type": "markdown",
   "id": "472d20ee",
   "metadata": {
    "papermill": {
     "duration": 0.003892,
     "end_time": "2024-02-06T04:07:56.455711",
     "exception": false,
     "start_time": "2024-02-06T04:07:56.451819",
     "status": "completed"
    },
    "tags": []
   },
   "source": [
    "## Export documents\n",
    "\n",
    "We now write the .md files and export relevant images"
   ]
  },
  {
   "cell_type": "code",
   "execution_count": 6,
   "id": "d426aed9",
   "metadata": {
    "execution": {
     "iopub.execute_input": "2024-02-06T04:07:56.464810Z",
     "iopub.status.busy": "2024-02-06T04:07:56.464415Z",
     "iopub.status.idle": "2024-02-06T04:07:56.470862Z",
     "shell.execute_reply": "2024-02-06T04:07:56.470322Z"
    },
    "papermill": {
     "duration": 0.012522,
     "end_time": "2024-02-06T04:07:56.472191",
     "exception": false,
     "start_time": "2024-02-06T04:07:56.459669",
     "status": "completed"
    },
    "tags": []
   },
   "outputs": [],
   "source": [
    "def export_markdown_summary(md: str, md_fname:str, directory: str):\n",
    "    \"\"\"Export MD document and associated relevant images\"\"\"\n",
    "    import os\n",
    "    import shutil\n",
    "    import re\n",
    "\n",
    "    if (os.path.exists(directory) and not os.path.isdir(directory)):\n",
    "        raise RuntimeError(f\"a non-directory file exists with name {directory:s}\")\n",
    "\n",
    "    if (not os.path.exists(directory)):\n",
    "        print(f\"creating directory {directory:s}\")\n",
    "        os.mkdir(directory)\n",
    "\n",
    "    fig_fnames = (re.compile(r'\\[Fig.*\\]\\((.*)\\)').findall(md) + \n",
    "                  re.compile(r'\\<img src=\"([^>\\s]*)\"[^>]*/>').findall(md))\n",
    "    for fname in fig_fnames:\n",
    "        if 'http' in fname:\n",
    "            # No need to copy online figures\n",
    "            continue\n",
    "        destdir = os.path.join(directory, os.path.dirname(fname))\n",
    "        destfname = os.path.join(destdir, os.path.basename(fname))\n",
    "        try:\n",
    "            os.makedirs(destdir)\n",
    "        except FileExistsError:\n",
    "            pass\n",
    "        shutil.copy(fname, destfname)\n",
    "    with open(os.path.join(directory, md_fname), 'w') as fout:\n",
    "        fout.write(md)\n",
    "    print(\"exported in \", os.path.join(directory, md_fname))\n",
    "    [print(\"    + \" + os.path.join(directory,fk)) for fk in fig_fnames]"
   ]
  },
  {
   "cell_type": "code",
   "execution_count": 7,
   "id": "014d04a4",
   "metadata": {
    "execution": {
     "iopub.execute_input": "2024-02-06T04:07:56.481160Z",
     "iopub.status.busy": "2024-02-06T04:07:56.480923Z",
     "iopub.status.idle": "2024-02-06T04:07:56.509970Z",
     "shell.execute_reply": "2024-02-06T04:07:56.509336Z"
    },
    "papermill": {
     "duration": 0.035042,
     "end_time": "2024-02-06T04:07:56.511278",
     "exception": false,
     "start_time": "2024-02-06T04:07:56.476236",
     "status": "completed"
    },
    "tags": []
   },
   "outputs": [
    {
     "name": "stdout",
     "output_type": "stream",
     "text": [
      "exported in  _build/html/2402.01844.md\n",
      "    + _build/html/tmp_2402.01844/figures/fig_map.png\n",
      "    + _build/html/tmp_2402.01844/figures/fig_surface_density.png\n",
      "    + _build/html/tmp_2402.01844/figures/fig_overdensity.png\n",
      "    + _build/html/tmp_2402.01844/./figures/fig_doublepeak_Lya.png\n"
     ]
    }
   ],
   "source": [
    "for paper_id, md in documents:\n",
    "    export_markdown_summary(md, f\"{paper_id:s}.md\", '_build/html/')"
   ]
  },
  {
   "cell_type": "markdown",
   "id": "f087a0a7",
   "metadata": {
    "papermill": {
     "duration": 0.0041,
     "end_time": "2024-02-06T04:07:56.519788",
     "exception": false,
     "start_time": "2024-02-06T04:07:56.515688",
     "status": "completed"
    },
    "tags": []
   },
   "source": [
    "## Display the papers\n",
    "\n",
    "Not necessary but allows for a quick check."
   ]
  },
  {
   "cell_type": "code",
   "execution_count": 8,
   "id": "fd25f625",
   "metadata": {
    "execution": {
     "iopub.execute_input": "2024-02-06T04:07:56.529486Z",
     "iopub.status.busy": "2024-02-06T04:07:56.529023Z",
     "iopub.status.idle": "2024-02-06T04:07:56.533910Z",
     "shell.execute_reply": "2024-02-06T04:07:56.533247Z"
    },
    "papermill": {
     "duration": 0.011201,
     "end_time": "2024-02-06T04:07:56.535226",
     "exception": false,
     "start_time": "2024-02-06T04:07:56.524025",
     "status": "completed"
    },
    "scrolled": false,
    "tags": []
   },
   "outputs": [
    {
     "data": {
      "text/markdown": [
       "<div class=\"macros\" style=\"visibility:hidden;\">\n",
       "$\\newcommand{\\ensuremath}{}$\n",
       "$\\newcommand{\\xspace}{}$\n",
       "$\\newcommand{\\object}[1]{\\texttt{#1}}$\n",
       "$\\newcommand{\\farcs}{{.}''}$\n",
       "$\\newcommand{\\farcm}{{.}'}$\n",
       "$\\newcommand{\\arcsec}{''}$\n",
       "$\\newcommand{\\arcmin}{'}$\n",
       "$\\newcommand{\\ion}[2]{#1#2}$\n",
       "$\\newcommand{\\textsc}[1]{\\textrm{#1}}$\n",
       "$\\newcommand{\\hl}[1]{\\textrm{#1}}$\n",
       "$\\newcommand{\\footnote}[1]{}$\n",
       "$\\newcommand{\\url}[1]{\\href{#1}{#1}}$\n",
       "$\\newcommand{\\dodoi}[1]{doi:~\\href{http://doi.org/#1}{\\nolinkurl{#1}}}$\n",
       "$\\newcommand{\\doeprint}[1]{\\href{http://ascl.net/#1}{\\nolinkurl{http://ascl.net/#1}}}$\n",
       "$\\newcommand{\\doarXiv}[1]{\\href{https://arxiv.org/abs/#1}{\\nolinkurl{https://arxiv.org/abs/#1}}}$\n",
       "$\\newcommand{\\}{natexlab}$</div>\n",
       "\n",
       "\n",
       "\n",
       "<div id=\"title\">\n",
       "\n",
       "# A Massive Protocluster Anchored by a Luminous Quasar at $z=6.63$\n",
       "\n",
       "</div>\n",
       "<div id=\"comments\">\n",
       "\n",
       "[![arXiv](https://img.shields.io/badge/arXiv-2402.01844-b31b1b.svg)](https://arxiv.org/abs/2402.01844)<mark>Appeared on: 2024-02-06</mark> -  _Accepted for publication in ApJL_\n",
       "\n",
       "</div>\n",
       "<div id=\"authors\">\n",
       "\n",
       "F. Wang, et al. -- incl., <mark>E. Bañados</mark>, <mark>S. Bosman</mark>, <mark>F. Walter</mark>\n",
       "\n",
       "</div>\n",
       "<div id=\"abstract\">\n",
       "\n",
       "**Abstract:** Protoclusters, the progenitors of galaxy clusters, trace large scale structures in the early Universe and are important to our understanding of structure formation and galaxy evolution. To date, only a handful of protoclusters have been identified in the Epoch of Reionization (EoR). As one of the rarest populations in the early Universe, distant quasars that host active supermassive black holes are thought to reside in the most massive dark matter halos at that cosmic epoch, and could thus potentially pinpoint some of the earliest protoclusters. In this letter, we report the discovery of a massive protocluster around a luminous quasar at $z=6.63$ . This protocluster is anchored by the quasar, and includes three [ $\\ion{C}{2}$ ] emitters at $z\\sim6.63$ , 12 spectroscopically confirmed Ly $\\alpha$ emitters (LAEs) at $6.54<z\\le6.64$ , and a large number of narrow-band imaging selected LAE candidates at the same redshift. This structure has an overall overdensity of $\\delta=3.3^{+1.1}_{-0.9}$ within $\\sim35\\times74$ cMpc $^2$ on the skyand an extreme overdensity of $\\delta>30$ in its central region (i.e., $R\\lesssim2$ cMpc). We estimate that this protocluster will collapse into a galaxy cluster with a mass of $6.9^{+1.2}_{-1.4}\\times10^{15} M_\\odot$ at the current epoch, more massive than the most massive clusters known in the local Universe such as Coma. In the quasar vicinity, we discover a double-peaked LAE which implies that the quasar has a UV lifetime greater than 0.8 Myrs and has already ionized its surrounding intergalactic medium.\n",
       "\n",
       "</div>\n",
       "\n",
       "<div id=\"div_fig1\">\n",
       "\n",
       "<img src=\"tmp_2402.01844/figures/fig_map.png\" alt=\"Fig2\" width=\"100%\"/>\n",
       "\n",
       "**Figure 2. -** \\small** a,** Large scale overdensity of LAEs around quasar J0910--0414.\n",
       "The background image is HSC $z$-band image.\n",
       "The red dot denotes the position of the quasar.\n",
       "The blue dots represent LAE candidates identified from deep Subaru imaging,\n",
       "the green dots represent spectroscopically confirmed LAEs at $z>6.5$,\n",
       "and the orange point represents a spectroscopically confirmed low-$z$ galaxy.\n",
       "The overdensity of LAEs within the yellow box (14$\\times$30 arcmin$^2$, or $\\sim35\\times74$ cMpc$^2$) is $\\delta=4.3^{+1.1}_{-0.9}$.\n",
       "The colored contours are overdensity isolines of LAEs which were estimated using a quartic kernel and a grid size of 1 arcmin. The blue, light blue, pink, and red lines denote\n",
       "overdensity $\\delta=3, 4, 5,$ and $6$, respectively.\n",
       "The black dashed and solid lines represent $r=50$ cMpc (at $z=6.63$) and $r=40'$($\\sim 99$ cMpc at $z=6.63$), respectively. The average LAE surface density was estimated using galaxies located between these two lines.\n",
       "** b,** Small scale overdensity of [$\\ion${C}{2}] emitting galaxies identified from ALMA observations.\n",
       "** c,**\n",
       "The zoom-in [$\\ion${C}{2}] flux integrated map of the quasar host galaxy and a satellite galaxy (C) with [$\\ion${C}{2}] emission.\n",
       " (*fig:map*)\n",
       "\n",
       "</div>\n",
       "<div id=\"div_fig2\">\n",
       "\n",
       "<img src=\"tmp_2402.01844/figures/fig_surface_density.png\" alt=\"Fig4.1\" width=\"50%\"/><img src=\"tmp_2402.01844/figures/fig_overdensity.png\" alt=\"Fig4.2\" width=\"50%\"/>\n",
       "\n",
       "**Figure 4. -** \\small**Left,**\n",
       " Surface density of LAE candidates as a function of narrow band magnitude.\n",
       " The density of LAE in the central $\\sim14\\times30$ arcmin$^2$ region (solid red points) is $4.3^{+1.1}_{-0.9}$ times higher than that measured in the outskirt ($r>50  {\\rm cMpc}$) of our HSC field and that measured in other LAE surveys \\citep{Ouchi10, Shibuya18, Ono21}.\n",
       "**Right,**\n",
       "Cumulative overdensity profile of galaxies in quasar fields. The orange squares and red dots denote the overdensity profiles measured in J0910--0414 field for [$\\ion${C}{2}] emitters and LAEs, respectively. The black open squares and open circles denote the overdensity profiles of [$\\ion${C}{2}] emitters and LAEs measured from three quasar fields with [$\\ion${C}{2}] companion galaxies.\n",
       "The black dotted line represents the expected overdensity profile of LAEs in quasar fields \\citep{Shen07,Ouchi18,Garcia19}. The magenta dashed line denotes the exptected overdensity profile of CO emitters in quasar fields \\citep{Garcia22}. The blue dot-dashed line shows the expected overdensity profile of LAEs in average protocluster fields \\citep{Hennawi15}.\n",
       " (*fig:density*)\n",
       "\n",
       "</div>\n",
       "<div id=\"div_fig3\">\n",
       "\n",
       "<img src=\"tmp_2402.01844/./figures/fig_doublepeak_Lya.png\" alt=\"Fig1\" width=\"100%\"/>\n",
       "\n",
       "**Figure 1. -** **A double peaked LAE identified in the highly ionized quasar vicinity.**\n",
       "The red asterisk indicates the position of the quasar while the black circle highlight the relative position of the LAE-11 to the quasar.\n",
       "The black line shows the spectrum of the LAE and the gray line denotes the error vector.\n",
       "LAE-11 shows a widely separated double-peaked $\\rm Ly\\alpha$ line. The detection of the blue peak of the double peaked Ly$\\alpha$ line in this galaxy indicates that the strong quasar radiation has ionized its vicinity.\n",
       " (*fig:escape*)\n",
       "\n",
       "</div><div id=\"qrcode\"><img src=https://api.qrserver.com/v1/create-qr-code/?size=100x100&data=\"https://arxiv.org/abs/2402.01844\"></div>"
      ],
      "text/plain": [
       "<IPython.core.display.Markdown object>"
      ]
     },
     "metadata": {},
     "output_type": "display_data"
    }
   ],
   "source": [
    "[display(Markdown(k[1])) for k in documents];"
   ]
  },
  {
   "cell_type": "markdown",
   "id": "873873a4",
   "metadata": {
    "papermill": {
     "duration": 0.004387,
     "end_time": "2024-02-06T04:07:56.544001",
     "exception": false,
     "start_time": "2024-02-06T04:07:56.539614",
     "status": "completed"
    },
    "tags": []
   },
   "source": [
    "# Create HTML index"
   ]
  },
  {
   "cell_type": "code",
   "execution_count": 9,
   "id": "cf665672",
   "metadata": {
    "execution": {
     "iopub.execute_input": "2024-02-06T04:07:56.554074Z",
     "iopub.status.busy": "2024-02-06T04:07:56.553587Z",
     "iopub.status.idle": "2024-02-06T04:07:56.562799Z",
     "shell.execute_reply": "2024-02-06T04:07:56.562290Z"
    },
    "papermill": {
     "duration": 0.015785,
     "end_time": "2024-02-06T04:07:56.564089",
     "exception": false,
     "start_time": "2024-02-06T04:07:56.548304",
     "status": "completed"
    },
    "tags": []
   },
   "outputs": [
    {
     "name": "stdout",
     "output_type": "stream",
     "text": [
      "367  publications files modified in the last 7 days.\n"
     ]
    }
   ],
   "source": [
    "from datetime import datetime, timedelta, timezone\n",
    "from glob import glob\n",
    "import os\n",
    "\n",
    "files = glob('_build/html/*.md')\n",
    "days = 7\n",
    "now = datetime.today()\n",
    "res = []\n",
    "for fk in files:\n",
    "    stat_result = os.stat(fk).st_ctime\n",
    "    modified = datetime.fromtimestamp(stat_result, tz=timezone.utc).replace(tzinfo=None)\n",
    "    delta = now.today() - modified\n",
    "    if delta <= timedelta(days=days):\n",
    "        res.append((delta.seconds, fk))\n",
    "res = [k[1] for k in reversed(sorted(res, key=lambda x:x[1]))]\n",
    "npub = len(res)\n",
    "print(len(res), f\" publications files modified in the last {days:d} days.\")\n",
    "# [ print('\\t', k) for k in res ];"
   ]
  },
  {
   "cell_type": "code",
   "execution_count": 10,
   "id": "015de740",
   "metadata": {
    "execution": {
     "iopub.execute_input": "2024-02-06T04:07:56.573915Z",
     "iopub.status.busy": "2024-02-06T04:07:56.573577Z",
     "iopub.status.idle": "2024-02-06T04:07:56.594009Z",
     "shell.execute_reply": "2024-02-06T04:07:56.593429Z"
    },
    "papermill": {
     "duration": 0.02687,
     "end_time": "2024-02-06T04:07:56.595344",
     "exception": false,
     "start_time": "2024-02-06T04:07:56.568474",
     "status": "completed"
    },
    "tags": []
   },
   "outputs": [
    {
     "name": "stdout",
     "output_type": "stream",
     "text": [
      "5  publications in the last 7 days.\n"
     ]
    }
   ],
   "source": [
    "import datetime\n",
    "from glob import glob\n",
    "\n",
    "def get_last_n_days(lst, days=1):\n",
    "    \"\"\" Get the documents from the last n days \"\"\"\n",
    "    sorted_lst = sorted(lst, key=lambda x: x[1], reverse=True)\n",
    "    for fname, date in sorted_lst:\n",
    "        if date >= str(datetime.date.today() - datetime.timedelta(days=days)):\n",
    "            yield fname\n",
    "\n",
    "def extract_appearance_dates(lst_file):\n",
    "    dates = []\n",
    "\n",
    "    def get_date(line):\n",
    "        return line\\\n",
    "            .split('Appeared on:')[-1]\\\n",
    "            .split('</mark>')[0].strip()\n",
    "\n",
    "    for fname in lst:\n",
    "        with open(fname, 'r') as f:\n",
    "            found_date = False\n",
    "            for line in f:\n",
    "                if not found_date:\n",
    "                    if \"Appeared on\" in line:\n",
    "                        found_date = True\n",
    "                        dates.append((fname, get_date(line)))\n",
    "                else:\n",
    "                    break\n",
    "    return dates\n",
    "\n",
    "from glob import glob\n",
    "lst = glob('_build/html/*md')\n",
    "days = 7\n",
    "dates = extract_appearance_dates(lst)\n",
    "res = list(get_last_n_days(dates, days))\n",
    "npub = len(res)\n",
    "print(len(res), f\" publications in the last {days:d} days.\")"
   ]
  },
  {
   "cell_type": "code",
   "execution_count": 11,
   "id": "52ca0208",
   "metadata": {
    "execution": {
     "iopub.execute_input": "2024-02-06T04:07:56.605631Z",
     "iopub.status.busy": "2024-02-06T04:07:56.605133Z",
     "iopub.status.idle": "2024-02-06T04:07:56.610068Z",
     "shell.execute_reply": "2024-02-06T04:07:56.609382Z"
    },
    "papermill": {
     "duration": 0.011442,
     "end_time": "2024-02-06T04:07:56.611397",
     "exception": false,
     "start_time": "2024-02-06T04:07:56.599955",
     "status": "completed"
    },
    "scrolled": false,
    "tags": []
   },
   "outputs": [],
   "source": [
    "def create_carousel(npub=4):\n",
    "    \"\"\" Generate the HTML code for a carousel with `npub` slides \"\"\"\n",
    "    carousel = [\"\"\"  <div class=\"carousel\" \"\"\",\n",
    "                \"\"\"       data-flickity='{ \"autoPlay\": 10000, \"adaptiveHeight\": true, \"resize\": true, \"wrapAround\": true, \"pauseAutoPlayOnHover\": true, \"groupCells\": 1 }' id=\"asyncTypeset\">\"\"\"\n",
    "                ]\n",
    "    \n",
    "    item_str = \"\"\"    <div class=\"carousel-cell\"> <div id=\"slide{k}\" class=\"md_view\">Content {k}</div> </div>\"\"\"\n",
    "    for k in range(1, npub + 1):\n",
    "        carousel.append(item_str.format(k=k))\n",
    "    carousel.append(\"  </div>\")\n",
    "    return '\\n'.join(carousel)\n",
    "\n",
    "def create_grid(npub=4):\n",
    "    \"\"\" Generate the HTML code for a flat grid with `npub` slides \"\"\"\n",
    "    grid = [\"\"\"  <div class=\"grid\"> \"\"\",\n",
    "                ]\n",
    "    \n",
    "    item_str = \"\"\"    <div class=\"grid-item\"> <div id=\"slide{k}\" class=\"md_view\">Content {k}</div> </div>\"\"\"\n",
    "    for k in range(1, npub + 1):\n",
    "        grid.append(item_str.format(k=k))\n",
    "    grid.append(\"  </div>\")\n",
    "    return '\\n'.join(grid)"
   ]
  },
  {
   "cell_type": "code",
   "execution_count": 12,
   "id": "a6eac5b6",
   "metadata": {
    "execution": {
     "iopub.execute_input": "2024-02-06T04:07:56.621623Z",
     "iopub.status.busy": "2024-02-06T04:07:56.621219Z",
     "iopub.status.idle": "2024-02-06T04:07:56.626129Z",
     "shell.execute_reply": "2024-02-06T04:07:56.625626Z"
    },
    "papermill": {
     "duration": 0.011386,
     "end_time": "2024-02-06T04:07:56.627349",
     "exception": false,
     "start_time": "2024-02-06T04:07:56.615963",
     "status": "completed"
    },
    "scrolled": false,
    "tags": []
   },
   "outputs": [],
   "source": [
    "carousel = create_carousel(npub)\n",
    "docs = ', '.join(['\"{0:s}\"'.format(k.split('/')[-1]) for k in res])\n",
    "slides = ', '.join([f'\"slide{k}\"' for k in range(1, npub + 1)])\n",
    "\n",
    "with open(\"daily_template.html\", \"r\") as tpl:\n",
    "    page = tpl.read()\n",
    "    page = page.replace(\"{%-- carousel:s --%}\", carousel)\\\n",
    "               .replace(\"{%-- suptitle:s --%}\",  \"7-day archives\" )\\\n",
    "               .replace(\"{%-- docs:s --%}\", docs)\\\n",
    "               .replace(\"{%-- slides:s --%}\", slides)\n",
    "    \n",
    "with open(\"_build/html/index_7days.html\", 'w') as fout:\n",
    "    fout.write(page)"
   ]
  },
  {
   "cell_type": "code",
   "execution_count": 13,
   "id": "adc1a1ec",
   "metadata": {
    "execution": {
     "iopub.execute_input": "2024-02-06T04:07:56.637844Z",
     "iopub.status.busy": "2024-02-06T04:07:56.637456Z",
     "iopub.status.idle": "2024-02-06T04:07:56.644233Z",
     "shell.execute_reply": "2024-02-06T04:07:56.643640Z"
    },
    "papermill": {
     "duration": 0.013586,
     "end_time": "2024-02-06T04:07:56.645619",
     "exception": false,
     "start_time": "2024-02-06T04:07:56.632033",
     "status": "completed"
    },
    "tags": []
   },
   "outputs": [
    {
     "name": "stdout",
     "output_type": "stream",
     "text": [
      "1  publications in the last day.\n"
     ]
    }
   ],
   "source": [
    "# redo for today\n",
    "days = 1\n",
    "res = list(get_last_n_days(dates, days))\n",
    "npub = len(res)\n",
    "print(len(res), f\" publications in the last day.\")\n",
    "\n",
    "carousel = create_carousel(npub)\n",
    "docs = ', '.join(['\"{0:s}\"'.format(k.split('/')[-1]) for k in res])\n",
    "slides = ', '.join([f'\"slide{k}\"' for k in range(1, npub + 1)])\n",
    "\n",
    "with open(\"daily_template.html\", \"r\") as tpl:\n",
    "    page = tpl.read()\n",
    "    page = page.replace(\"{%-- carousel:s --%}\", carousel)\\\n",
    "               .replace(\"{%-- suptitle:s --%}\",  \"Daily\" )\\\n",
    "               .replace(\"{%-- docs:s --%}\", docs)\\\n",
    "               .replace(\"{%-- slides:s --%}\", slides)\n",
    "    \n",
    "# print(carousel, docs, slides)\n",
    "# print(page)\n",
    "with open(\"_build/html/index_daily.html\", 'w') as fout:\n",
    "    fout.write(page)"
   ]
  },
  {
   "cell_type": "code",
   "execution_count": 14,
   "id": "00eece82",
   "metadata": {
    "execution": {
     "iopub.execute_input": "2024-02-06T04:07:56.655777Z",
     "iopub.status.busy": "2024-02-06T04:07:56.655437Z",
     "iopub.status.idle": "2024-02-06T04:07:56.661631Z",
     "shell.execute_reply": "2024-02-06T04:07:56.661051Z"
    },
    "papermill": {
     "duration": 0.0127,
     "end_time": "2024-02-06T04:07:56.662950",
     "exception": false,
     "start_time": "2024-02-06T04:07:56.650250",
     "status": "completed"
    },
    "scrolled": false,
    "tags": []
   },
   "outputs": [
    {
     "name": "stdout",
     "output_type": "stream",
     "text": [
      "6  6 publications selected.\n"
     ]
    }
   ],
   "source": [
    "# Create the flat grid of the last N papers (fixed number regardless of dates)\n",
    "from itertools import islice \n",
    "\n",
    "npub = 6\n",
    "res = [k[0] for k in (islice(reversed(sorted(dates, key=lambda x: x[1])), 6))]\n",
    "print(len(res), f\" {npub} publications selected.\")\n",
    "\n",
    "grid = create_grid(npub)\n",
    "docs = ', '.join(['\"{0:s}\"'.format(k.split('/')[-1]) for k in res])\n",
    "slides = ', '.join([f'\"slide{k}\"' for k in range(1, npub + 1)])\n",
    "\n",
    "with open(\"grid_template.html\", \"r\") as tpl:\n",
    "    page = tpl.read()\n",
    "    page = page.replace(\"{%-- grid-content:s --%}\", grid)\\\n",
    "               .replace(\"{%-- suptitle:s --%}\",  f\"Last {npub:,d} papers\" )\\\n",
    "               .replace(\"{%-- docs:s --%}\", docs)\\\n",
    "               .replace(\"{%-- slides:s --%}\", slides)\n",
    "    \n",
    "# print(grid, docs, slides)\n",
    "# print(page)\n",
    "with open(\"_build/html/index_npub_grid.html\", 'w') as fout:\n",
    "    fout.write(page)"
   ]
  }
 ],
 "metadata": {
  "kernelspec": {
   "display_name": "Python 3 (ipykernel)",
   "language": "python",
   "name": "python3"
  },
  "language_info": {
   "codemirror_mode": {
    "name": "ipython",
    "version": 3
   },
   "file_extension": ".py",
   "mimetype": "text/x-python",
   "name": "python",
   "nbconvert_exporter": "python",
   "pygments_lexer": "ipython3",
   "version": "3.9.18"
  },
  "papermill": {
   "default_parameters": {},
   "duration": 51.783978,
   "end_time": "2024-02-06T04:07:56.884483",
   "environment_variables": {},
   "exception": null,
   "input_path": "MPIA daily digest.ipynb",
   "output_path": "log.ipynb",
   "parameters": {},
   "start_time": "2024-02-06T04:07:05.100505",
   "version": "2.5.0"
  },
  "vscode": {
   "interpreter": {
    "hash": "aee8b7b246df8f9039afb4144a1f6fd8d2ca17a180786b69acc140d282b71a49"
   }
  },
  "widgets": {
   "application/vnd.jupyter.widget-state+json": {
    "state": {
     "2084a57c7d0043509df26972b9837041": {
      "model_module": "@jupyter-widgets/controls",
      "model_module_version": "2.0.0",
      "model_name": "HBoxModel",
      "state": {
       "_dom_classes": [],
       "_model_module": "@jupyter-widgets/controls",
       "_model_module_version": "2.0.0",
       "_model_name": "HBoxModel",
       "_view_count": null,
       "_view_module": "@jupyter-widgets/controls",
       "_view_module_version": "2.0.0",
       "_view_name": "HBoxView",
       "box_style": "",
       "children": [
        "IPY_MODEL_92c73f4e29354ae8aec003b16ee98c8f",
        "IPY_MODEL_241e7260fd054620b05640457d5e06e1",
        "IPY_MODEL_cc2ac3c05837404ab4baa4cae05183da"
       ],
       "layout": "IPY_MODEL_9f29278ea08d431b827c3d2a9129f221",
       "tabbable": null,
       "tooltip": null
      }
     },
     "241e7260fd054620b05640457d5e06e1": {
      "model_module": "@jupyter-widgets/controls",
      "model_module_version": "2.0.0",
      "model_name": "FloatProgressModel",
      "state": {
       "_dom_classes": [],
       "_model_module": "@jupyter-widgets/controls",
       "_model_module_version": "2.0.0",
       "_model_name": "FloatProgressModel",
       "_view_count": null,
       "_view_module": "@jupyter-widgets/controls",
       "_view_module_version": "2.0.0",
       "_view_name": "ProgressView",
       "bar_style": "success",
       "description": "",
       "description_allow_html": false,
       "layout": "IPY_MODEL_e77a0d7fadfb414db4712bb4b9b550ab",
       "max": 3.0,
       "min": 0.0,
       "orientation": "horizontal",
       "style": "IPY_MODEL_c6a0e6ceda094256966497cda18627b7",
       "tabbable": null,
       "tooltip": null,
       "value": 3.0
      }
     },
     "2db2af70f9af4fb497517ae5040f86b9": {
      "model_module": "@jupyter-widgets/base",
      "model_module_version": "2.0.0",
      "model_name": "LayoutModel",
      "state": {
       "_model_module": "@jupyter-widgets/base",
       "_model_module_version": "2.0.0",
       "_model_name": "LayoutModel",
       "_view_count": null,
       "_view_module": "@jupyter-widgets/base",
       "_view_module_version": "2.0.0",
       "_view_name": "LayoutView",
       "align_content": null,
       "align_items": null,
       "align_self": null,
       "border_bottom": null,
       "border_left": null,
       "border_right": null,
       "border_top": null,
       "bottom": null,
       "display": null,
       "flex": null,
       "flex_flow": null,
       "grid_area": null,
       "grid_auto_columns": null,
       "grid_auto_flow": null,
       "grid_auto_rows": null,
       "grid_column": null,
       "grid_gap": null,
       "grid_row": null,
       "grid_template_areas": null,
       "grid_template_columns": null,
       "grid_template_rows": null,
       "height": null,
       "justify_content": null,
       "justify_items": null,
       "left": null,
       "margin": null,
       "max_height": null,
       "max_width": null,
       "min_height": null,
       "min_width": null,
       "object_fit": null,
       "object_position": null,
       "order": null,
       "overflow": null,
       "padding": null,
       "right": null,
       "top": null,
       "visibility": null,
       "width": null
      }
     },
     "6a873f20060b4d36a0b7411910812e70": {
      "model_module": "@jupyter-widgets/controls",
      "model_module_version": "2.0.0",
      "model_name": "HTMLStyleModel",
      "state": {
       "_model_module": "@jupyter-widgets/controls",
       "_model_module_version": "2.0.0",
       "_model_name": "HTMLStyleModel",
       "_view_count": null,
       "_view_module": "@jupyter-widgets/base",
       "_view_module_version": "2.0.0",
       "_view_name": "StyleView",
       "background": null,
       "description_width": "",
       "font_size": null,
       "text_color": null
      }
     },
     "92c73f4e29354ae8aec003b16ee98c8f": {
      "model_module": "@jupyter-widgets/controls",
      "model_module_version": "2.0.0",
      "model_name": "HTMLModel",
      "state": {
       "_dom_classes": [],
       "_model_module": "@jupyter-widgets/controls",
       "_model_module_version": "2.0.0",
       "_model_name": "HTMLModel",
       "_view_count": null,
       "_view_module": "@jupyter-widgets/controls",
       "_view_module_version": "2.0.0",
       "_view_name": "HTMLView",
       "description": "",
       "description_allow_html": false,
       "layout": "IPY_MODEL_2db2af70f9af4fb497517ae5040f86b9",
       "placeholder": "​",
       "style": "IPY_MODEL_a349b1e3f74e4c9eb4b678e793a4eb90",
       "tabbable": null,
       "tooltip": null,
       "value": "100%"
      }
     },
     "9f29278ea08d431b827c3d2a9129f221": {
      "model_module": "@jupyter-widgets/base",
      "model_module_version": "2.0.0",
      "model_name": "LayoutModel",
      "state": {
       "_model_module": "@jupyter-widgets/base",
       "_model_module_version": "2.0.0",
       "_model_name": "LayoutModel",
       "_view_count": null,
       "_view_module": "@jupyter-widgets/base",
       "_view_module_version": "2.0.0",
       "_view_name": "LayoutView",
       "align_content": null,
       "align_items": null,
       "align_self": null,
       "border_bottom": null,
       "border_left": null,
       "border_right": null,
       "border_top": null,
       "bottom": null,
       "display": null,
       "flex": null,
       "flex_flow": null,
       "grid_area": null,
       "grid_auto_columns": null,
       "grid_auto_flow": null,
       "grid_auto_rows": null,
       "grid_column": null,
       "grid_gap": null,
       "grid_row": null,
       "grid_template_areas": null,
       "grid_template_columns": null,
       "grid_template_rows": null,
       "height": null,
       "justify_content": null,
       "justify_items": null,
       "left": null,
       "margin": null,
       "max_height": null,
       "max_width": null,
       "min_height": null,
       "min_width": null,
       "object_fit": null,
       "object_position": null,
       "order": null,
       "overflow": null,
       "padding": null,
       "right": null,
       "top": null,
       "visibility": null,
       "width": null
      }
     },
     "a349b1e3f74e4c9eb4b678e793a4eb90": {
      "model_module": "@jupyter-widgets/controls",
      "model_module_version": "2.0.0",
      "model_name": "HTMLStyleModel",
      "state": {
       "_model_module": "@jupyter-widgets/controls",
       "_model_module_version": "2.0.0",
       "_model_name": "HTMLStyleModel",
       "_view_count": null,
       "_view_module": "@jupyter-widgets/base",
       "_view_module_version": "2.0.0",
       "_view_name": "StyleView",
       "background": null,
       "description_width": "",
       "font_size": null,
       "text_color": null
      }
     },
     "a43bb6c2c36c416f952119c45d3492dd": {
      "model_module": "@jupyter-widgets/base",
      "model_module_version": "2.0.0",
      "model_name": "LayoutModel",
      "state": {
       "_model_module": "@jupyter-widgets/base",
       "_model_module_version": "2.0.0",
       "_model_name": "LayoutModel",
       "_view_count": null,
       "_view_module": "@jupyter-widgets/base",
       "_view_module_version": "2.0.0",
       "_view_name": "LayoutView",
       "align_content": null,
       "align_items": null,
       "align_self": null,
       "border_bottom": null,
       "border_left": null,
       "border_right": null,
       "border_top": null,
       "bottom": null,
       "display": null,
       "flex": null,
       "flex_flow": null,
       "grid_area": null,
       "grid_auto_columns": null,
       "grid_auto_flow": null,
       "grid_auto_rows": null,
       "grid_column": null,
       "grid_gap": null,
       "grid_row": null,
       "grid_template_areas": null,
       "grid_template_columns": null,
       "grid_template_rows": null,
       "height": null,
       "justify_content": null,
       "justify_items": null,
       "left": null,
       "margin": null,
       "max_height": null,
       "max_width": null,
       "min_height": null,
       "min_width": null,
       "object_fit": null,
       "object_position": null,
       "order": null,
       "overflow": null,
       "padding": null,
       "right": null,
       "top": null,
       "visibility": null,
       "width": null
      }
     },
     "c6a0e6ceda094256966497cda18627b7": {
      "model_module": "@jupyter-widgets/controls",
      "model_module_version": "2.0.0",
      "model_name": "ProgressStyleModel",
      "state": {
       "_model_module": "@jupyter-widgets/controls",
       "_model_module_version": "2.0.0",
       "_model_name": "ProgressStyleModel",
       "_view_count": null,
       "_view_module": "@jupyter-widgets/base",
       "_view_module_version": "2.0.0",
       "_view_name": "StyleView",
       "bar_color": null,
       "description_width": ""
      }
     },
     "cc2ac3c05837404ab4baa4cae05183da": {
      "model_module": "@jupyter-widgets/controls",
      "model_module_version": "2.0.0",
      "model_name": "HTMLModel",
      "state": {
       "_dom_classes": [],
       "_model_module": "@jupyter-widgets/controls",
       "_model_module_version": "2.0.0",
       "_model_name": "HTMLModel",
       "_view_count": null,
       "_view_module": "@jupyter-widgets/controls",
       "_view_module_version": "2.0.0",
       "_view_name": "HTMLView",
       "description": "",
       "description_allow_html": false,
       "layout": "IPY_MODEL_a43bb6c2c36c416f952119c45d3492dd",
       "placeholder": "​",
       "style": "IPY_MODEL_6a873f20060b4d36a0b7411910812e70",
       "tabbable": null,
       "tooltip": null,
       "value": " 3/3 [00:31&lt;00:00, 10.12s/it]"
      }
     },
     "e77a0d7fadfb414db4712bb4b9b550ab": {
      "model_module": "@jupyter-widgets/base",
      "model_module_version": "2.0.0",
      "model_name": "LayoutModel",
      "state": {
       "_model_module": "@jupyter-widgets/base",
       "_model_module_version": "2.0.0",
       "_model_name": "LayoutModel",
       "_view_count": null,
       "_view_module": "@jupyter-widgets/base",
       "_view_module_version": "2.0.0",
       "_view_name": "LayoutView",
       "align_content": null,
       "align_items": null,
       "align_self": null,
       "border_bottom": null,
       "border_left": null,
       "border_right": null,
       "border_top": null,
       "bottom": null,
       "display": null,
       "flex": null,
       "flex_flow": null,
       "grid_area": null,
       "grid_auto_columns": null,
       "grid_auto_flow": null,
       "grid_auto_rows": null,
       "grid_column": null,
       "grid_gap": null,
       "grid_row": null,
       "grid_template_areas": null,
       "grid_template_columns": null,
       "grid_template_rows": null,
       "height": null,
       "justify_content": null,
       "justify_items": null,
       "left": null,
       "margin": null,
       "max_height": null,
       "max_width": null,
       "min_height": null,
       "min_width": null,
       "object_fit": null,
       "object_position": null,
       "order": null,
       "overflow": null,
       "padding": null,
       "right": null,
       "top": null,
       "visibility": null,
       "width": null
      }
     }
    },
    "version_major": 2,
    "version_minor": 0
   }
  }
 },
 "nbformat": 4,
 "nbformat_minor": 5
}