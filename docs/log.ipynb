{
 "cells": [
  {
   "cell_type": "markdown",
   "id": "92bcb855",
   "metadata": {
    "papermill": {
     "duration": 0.004793,
     "end_time": "2023-10-13T04:07:55.341734",
     "exception": false,
     "start_time": "2023-10-13T04:07:55.336941",
     "status": "completed"
    },
    "tags": []
   },
   "source": [
    "# MPIA Arxiv on Deck 2\n",
    "\n",
    "Contains the steps to produce the paper extractions."
   ]
  },
  {
   "cell_type": "code",
   "execution_count": 1,
   "id": "3a0d6e11",
   "metadata": {
    "execution": {
     "iopub.execute_input": "2023-10-13T04:07:55.351031Z",
     "iopub.status.busy": "2023-10-13T04:07:55.350205Z",
     "iopub.status.idle": "2023-10-13T04:07:55.791749Z",
     "shell.execute_reply": "2023-10-13T04:07:55.791022Z"
    },
    "papermill": {
     "duration": 0.448298,
     "end_time": "2023-10-13T04:07:55.793876",
     "exception": false,
     "start_time": "2023-10-13T04:07:55.345578",
     "status": "completed"
    },
    "tags": []
   },
   "outputs": [],
   "source": [
    "# Imports\n",
    "import os\n",
    "from IPython.display import Markdown, display\n",
    "from tqdm.notebook import tqdm\n",
    "import warnings\n",
    "from PIL import Image \n",
    "\n",
    "# requires arxiv_on_deck_2\n",
    "\n",
    "from arxiv_on_deck_2.arxiv2 import (get_new_papers, \n",
    "                                    get_paper_from_identifier,\n",
    "                                    retrieve_document_source, \n",
    "                                    get_markdown_badge)\n",
    "from arxiv_on_deck_2 import (latex,\n",
    "                             latex_bib,\n",
    "                             mpia,\n",
    "                             highlight_authors_in_list)\n",
    "\n",
    "# Sometimes images are really big\n",
    "Image.MAX_IMAGE_PIXELS = 1000000000 "
   ]
  },
  {
   "cell_type": "code",
   "execution_count": 2,
   "id": "22aa9d44",
   "metadata": {
    "execution": {
     "iopub.execute_input": "2023-10-13T04:07:55.805395Z",
     "iopub.status.busy": "2023-10-13T04:07:55.804686Z",
     "iopub.status.idle": "2023-10-13T04:07:55.811394Z",
     "shell.execute_reply": "2023-10-13T04:07:55.810729Z"
    },
    "papermill": {
     "duration": 0.013035,
     "end_time": "2023-10-13T04:07:55.812866",
     "exception": false,
     "start_time": "2023-10-13T04:07:55.799831",
     "status": "completed"
    },
    "tags": []
   },
   "outputs": [],
   "source": [
    "# Some useful definitions.\n",
    "\n",
    "class AffiliationWarning(UserWarning):\n",
    "    pass\n",
    "\n",
    "class AffiliationError(RuntimeError):\n",
    "    pass\n",
    "\n",
    "def validation(source: str):\n",
    "    \"\"\"Raises error paper during parsing of source file\n",
    "    \n",
    "    Allows checks before parsing TeX code.\n",
    "    \n",
    "    Raises AffiliationWarning\n",
    "    \"\"\"\n",
    "    check = mpia.affiliation_verifications(source, verbose=True)\n",
    "    if check is not True:\n",
    "        raise AffiliationError(\"mpia.affiliation_verifications: \" + check)\n",
    "\n",
    "        \n",
    "warnings.simplefilter('always', AffiliationWarning)\n",
    "\n",
    "\n",
    "def get_markdown_qrcode(paper_id: str):\n",
    "    \"\"\" Generate a qrcode to the arxiv page using qrserver.com\n",
    "    \n",
    "    :param paper: Arxiv paper\n",
    "    :returns: markdown text\n",
    "    \"\"\"\n",
    "    url = r\"https://api.qrserver.com/v1/create-qr-code/?size=100x100&data=\"\n",
    "    txt = f\"\"\"<img src={url}\"https://arxiv.org/abs/{paper_id}\">\"\"\"\n",
    "    txt = '<div id=\"qrcode\">' + txt + '</div>'\n",
    "    return txt"
   ]
  },
  {
   "cell_type": "markdown",
   "id": "14bd6310",
   "metadata": {
    "papermill": {
     "duration": 0.003513,
     "end_time": "2023-10-13T04:07:55.819908",
     "exception": false,
     "start_time": "2023-10-13T04:07:55.816395",
     "status": "completed"
    },
    "tags": []
   },
   "source": [
    "## get list of arxiv paper candidates\n",
    "\n",
    "We use the MPIA mitarbeiter list webpage from mpia.de to get author names\n",
    "We then get all new papers from Arxiv and match authors"
   ]
  },
  {
   "cell_type": "code",
   "execution_count": 3,
   "id": "2645e73a",
   "metadata": {
    "execution": {
     "iopub.execute_input": "2023-10-13T04:07:55.828486Z",
     "iopub.status.busy": "2023-10-13T04:07:55.827840Z",
     "iopub.status.idle": "2023-10-13T04:08:15.946735Z",
     "shell.execute_reply": "2023-10-13T04:08:15.945899Z"
    },
    "papermill": {
     "duration": 20.125014,
     "end_time": "2023-10-13T04:08:15.948475",
     "exception": false,
     "start_time": "2023-10-13T04:07:55.823461",
     "status": "completed"
    },
    "tags": []
   },
   "outputs": [
    {
     "name": "stdout",
     "output_type": "stream",
     "text": [
      "A. Pillepich  ->  A. Pillepich  |  ['A. Pillepich']\n",
      "S. Li  ->  S. Li  |  ['S. Li']\n",
      "M. Hobson  ->  M. Hobson  |  ['M. Hobson']\n",
      "Arxiv has 60 new papers today\n",
      "          3 with possible author matches\n"
     ]
    }
   ],
   "source": [
    "# get list from MPIA website\n",
    "# it automatically filters identified non-scientists :func:`mpia.filter_non_scientists`\n",
    "mpia_authors = mpia.get_mpia_mitarbeiter_list()\n",
    "normed_mpia_authors = [k[1] for k in mpia_authors]   # initials + fullname\n",
    "new_papers = get_new_papers()\n",
    "# add manual references\n",
    "add_paper_refs = []\n",
    "new_papers.extend([get_paper_from_identifier(k) for k in add_paper_refs])\n",
    "\n",
    "candidates = []\n",
    "for paperk in new_papers:\n",
    "    # Check author list with their initials\n",
    "    normed_author_list = [mpia.get_initials(k) for k in paperk['authors']]\n",
    "    hl_authors = highlight_authors_in_list(normed_author_list, normed_mpia_authors, verbose=True)\n",
    "    matches = [(hl, orig) for hl, orig in zip(hl_authors, paperk['authors']) if 'mark' in hl]\n",
    "    paperk['authors'] = hl_authors\n",
    "    if matches:\n",
    "        # only select paper if an author matched our list\n",
    "        candidates.append(paperk)\n",
    "print(\"\"\"Arxiv has {0:,d} new papers today\"\"\".format(len(new_papers)))        \n",
    "print(\"\"\"          {0:,d} with possible author matches\"\"\".format(len(candidates)))"
   ]
  },
  {
   "cell_type": "markdown",
   "id": "3543b34a",
   "metadata": {
    "papermill": {
     "duration": 0.007714,
     "end_time": "2023-10-13T04:08:15.960146",
     "exception": false,
     "start_time": "2023-10-13T04:08:15.952432",
     "status": "completed"
    },
    "tags": []
   },
   "source": [
    "# Parse sources and generate relevant outputs\n",
    "\n",
    "From the candidates, we do the following steps:\n",
    "* get their tarball from ArXiv (and extract data)\n",
    "* find the main .tex file: find one with \\documentclass{...} (sometimes it's non trivial)\n",
    "* Check affiliations with :func:`validation`, which uses :func:`mpia.affiliation_verifications`\n",
    "* If passing the affiliations: we parse the .tex source\n",
    "   * inject sub-documents into the main (flatten the main document)\n",
    "   * parse structure, extract information (title, abstract, authors, figures...)\n",
    "   * handles `\\graphicspath` if provided\n",
    "* Generate the .md document."
   ]
  },
  {
   "cell_type": "code",
   "execution_count": 4,
   "id": "9576b79e",
   "metadata": {
    "execution": {
     "iopub.execute_input": "2023-10-13T04:08:15.979975Z",
     "iopub.status.busy": "2023-10-13T04:08:15.979464Z",
     "iopub.status.idle": "2023-10-13T04:09:30.777589Z",
     "shell.execute_reply": "2023-10-13T04:09:30.776816Z"
    },
    "papermill": {
     "duration": 74.809878,
     "end_time": "2023-10-13T04:09:30.779588",
     "exception": false,
     "start_time": "2023-10-13T04:08:15.969710",
     "status": "completed"
    },
    "scrolled": false,
    "tags": []
   },
   "outputs": [
    {
     "data": {
      "application/vnd.jupyter.widget-view+json": {
       "model_id": "b86ca7d646e141c2b02befebf1a19897",
       "version_major": 2,
       "version_minor": 0
      },
      "text/plain": [
       "  0%|          | 0/3 [00:00<?, ?it/s]"
      ]
     },
     "metadata": {},
     "output_type": "display_data"
    },
    {
     "name": "stdout",
     "output_type": "stream",
     "text": [
      "Retrieving document from  https://arxiv.org/e-print/2310.08023\n"
     ]
    },
    {
     "name": "stdout",
     "output_type": "stream",
     "text": [
      "extracting tarball to tmp_2310.08023..."
     ]
    },
    {
     "name": "stdout",
     "output_type": "stream",
     "text": [
      " done.\n"
     ]
    },
    {
     "name": "stdout",
     "output_type": "stream",
     "text": [
      "A. Pillepich  ->  A. Pillepich  |  ['A. Pillepich']\n"
     ]
    },
    {
     "name": "stdout",
     "output_type": "stream",
     "text": [
      "Found 41 bibliographic references in tmp_2310.08023/main.bbl.\n",
      "Retrieving document from  https://arxiv.org/e-print/2310.08180\n"
     ]
    },
    {
     "name": "stdout",
     "output_type": "stream",
     "text": [
      "extracting tarball to tmp_2310.08180..."
     ]
    },
    {
     "name": "stdout",
     "output_type": "stream",
     "text": [
      " done.\n"
     ]
    },
    {
     "name": "stdout",
     "output_type": "stream",
     "text": [
      "S. Li  ->  S. Li  |  ['S. Li']\n"
     ]
    },
    {
     "name": "stdout",
     "output_type": "stream",
     "text": [
      "list index out of range\n",
      "Retrieving document from  https://arxiv.org/e-print/2310.08490\n"
     ]
    },
    {
     "name": "stdout",
     "output_type": "stream",
     "text": [
      "extracting tarball to tmp_2310.08490... done.\n"
     ]
    }
   ],
   "source": [
    "documents = []\n",
    "failed = []\n",
    "for paper in tqdm(candidates):\n",
    "    paper_id = paper['identifier'].lower().replace('arxiv:', '')\n",
    "    \n",
    "    folder = f'tmp_{paper_id}'\n",
    "\n",
    "    try:\n",
    "        if not os.path.isdir(folder):\n",
    "            folder = retrieve_document_source(f\"{paper_id}\", f'tmp_{paper_id}')\n",
    "        \n",
    "        try:\n",
    "            doc = latex.LatexDocument(folder, validation=validation)    \n",
    "        except AffiliationError as affilerror:\n",
    "            msg = f\"ArXiv:{paper_id:s} is not an MPIA paper... \" + str(affilerror)\n",
    "            failed.append((paper, \"affiliation error: \" + str(affilerror) ))\n",
    "            continue\n",
    "        \n",
    "        # Hack because sometimes author parsing does not work well\n",
    "        if (len(doc.authors) != len(paper['authors'])):\n",
    "            doc._authors = paper['authors']\n",
    "        else:\n",
    "            # highlight authors (FIXME: doc.highlight_authors)\n",
    "            # done on arxiv paper already\n",
    "            doc._authors = highlight_authors_in_list(\n",
    "                [mpia.get_initials(k) for k in doc.authors], \n",
    "                normed_mpia_authors, verbose=True)\n",
    "        if (doc.abstract) in (None, ''):\n",
    "            doc._abstract = paper['abstract']\n",
    "            \n",
    "        doc.comment = (get_markdown_badge(paper_id) + \n",
    "                       \"<mark>Appeared on: \" + paper['date'] + \"</mark> - \")\n",
    "        if paper['comments']:\n",
    "            doc.comment += \" _\" + paper['comments'] + \"_\"\n",
    "        \n",
    "        full_md = doc.generate_markdown_text()\n",
    "        \n",
    "        full_md += get_markdown_qrcode(paper_id)\n",
    "        \n",
    "        # replace citations\n",
    "        try:\n",
    "            bibdata = latex_bib.LatexBib.from_doc(doc)\n",
    "            full_md = latex_bib.replace_citations(full_md, bibdata)\n",
    "        except Exception as e:\n",
    "            print(e)\n",
    "        \n",
    "        documents.append((paper_id, full_md))\n",
    "    except Exception as e:\n",
    "        warnings.warn(latex.LatexWarning(f\"{paper_id:s} did not run properly\\n\" +\n",
    "                                         str(e)\n",
    "                                        ))\n",
    "        failed.append((paper, \"latex error \" + str(e)))"
   ]
  },
  {
   "cell_type": "markdown",
   "id": "2505a25c",
   "metadata": {
    "papermill": {
     "duration": 0.004355,
     "end_time": "2023-10-13T04:09:30.788617",
     "exception": false,
     "start_time": "2023-10-13T04:09:30.784262",
     "status": "completed"
    },
    "tags": []
   },
   "source": [
    "### Export the logs\n",
    "\n",
    "Throughout, we also keep track of the logs per paper. see `logs-{today date}.md` "
   ]
  },
  {
   "cell_type": "code",
   "execution_count": 5,
   "id": "d733828a",
   "metadata": {
    "execution": {
     "iopub.execute_input": "2023-10-13T04:09:30.799257Z",
     "iopub.status.busy": "2023-10-13T04:09:30.798533Z",
     "iopub.status.idle": "2023-10-13T04:09:30.813043Z",
     "shell.execute_reply": "2023-10-13T04:09:30.812388Z"
    },
    "papermill": {
     "duration": 0.021732,
     "end_time": "2023-10-13T04:09:30.814622",
     "exception": false,
     "start_time": "2023-10-13T04:09:30.792890",
     "status": "completed"
    },
    "scrolled": false,
    "tags": []
   },
   "outputs": [
    {
     "data": {
      "text/markdown": [
       "## Successful papers"
      ],
      "text/plain": [
       "<IPython.core.display.Markdown object>"
      ]
     },
     "metadata": {},
     "output_type": "display_data"
    },
    {
     "data": {
      "text/markdown": [
       "\n",
       "|||\n",
       "|---:|:---|\n",
       "| [![arXiv](https://img.shields.io/badge/arXiv-arXiv:2310.08023-b31b1b.svg)](https://arxiv.org/abs/arXiv:2310.08023) | **VERTICO and IllustrisTNG: The spatially resolved effects of environment  on galactic gas**  |\n",
       "|| A. R. H. Stevens, et al. -- incl., <mark>A. Pillepich</mark> |\n",
       "|*Appeared on*| *2023-10-13*|\n",
       "|*Comments*| *9 pages, 4 figures, accepted in ApJL*|\n",
       "|**Abstract**| It has been shown in previous publications that the TNG100 simulation quantitatively reproduces the observed reduction in each of the total atomic and total molecular hydrogen gas for galaxies within massive halos, i.e.~dense environments. In this Letter, we study how well TNG50 reproduces the resolved effects of a Virgo-like cluster environment on the gas surface densities of satellite galaxies with $m_* > \\! 10^9\\,{\\rm M}_\\odot$ and ${\\rm SFR} \\! > 0.05\\,{\\rm M}_\\odot\\,{\\rm yr}^{-1}$. We select galaxies in the simulation that are analogous to those in the HERACLES and VERTICO surveys, and mock-observe them to the common specifications of the data. Although TNG50 does not quantitatively match the observed gas surface densities in the centers of galaxies, the simulation does qualitatively reproduce the trends of gas truncation and central density suppression seen in VERTICO in both HI and H$_2$. This result promises that modern cosmological hydrodynamic simulations can be used to reliably model the post-infall histories of cluster satellite galaxies. |"
      ],
      "text/plain": [
       "[arXiv:2310.08023] VERTICO and IllustrisTNG: The spatially resolved effects of environment  on galactic gas\n",
       "\tA. R. H. Stevens, et al. -- incl., <mark>A. Pillepich</mark>"
      ]
     },
     "metadata": {},
     "output_type": "display_data"
    },
    {
     "data": {
      "text/markdown": [
       "\n",
       "|||\n",
       "|---:|:---|\n",
       "| [![arXiv](https://img.shields.io/badge/arXiv-arXiv:2310.08180-b31b1b.svg)](https://arxiv.org/abs/arXiv:2310.08180) | **A High-Mass Young Star-forming Core Escaping from Its Parental Filament**  |\n",
       "|| Z. Ren, et al. -- incl., <mark>S. Li</mark> |\n",
       "|*Appeared on*| *2023-10-13*|\n",
       "|*Comments*| *15 pages, 6 figures, accepted for publication in the Astrophysical Journal*|\n",
       "|**Abstract**| We studied the unique kinematic properties in massive filament G352.63-1.07 at $10^3$-AU spatial scale with the dense molecular tracers observed with the Atacama Large Millimeter/submillimeter Array (ALMA). We find the central massive core M1 (12 $M_\\odot$) being separated from the surrounding filament with a velocity difference of $v- {v}_{sys}=-2$ km/s and a transverse separation within 3 arcsec. Meanwhile, as shown in multiple dense-gas tracers, M1 has a spatial extension closely aligned with the main filament and is connected to the filament towards its both ends. M1 thus represents a very beginning state for a massive young star-forming core escaping from the parental filament, within a time scale of $\\sim 4000$ years. Based on its kinetic energy ($3.5\\times10^{44}$ erg), the core escape is unlikely solely due to the original filament motion or magnetic field, but requires more energetic events such as a rapid intense anisotropic collapse. The released energy also seems to noticeably increase the environmental turbulence. This may help the filament to become stabilized again. |"
      ],
      "text/plain": [
       "[arXiv:2310.08180] A High-Mass Young Star-forming Core Escaping from Its Parental Filament\n",
       "\tZ. Ren, et al. -- incl., <mark>S. Li</mark>"
      ]
     },
     "metadata": {},
     "output_type": "display_data"
    },
    {
     "data": {
      "text/markdown": [
       "## Failed papers"
      ],
      "text/plain": [
       "<IPython.core.display.Markdown object>"
      ]
     },
     "metadata": {},
     "output_type": "display_data"
    },
    {
     "data": {
      "text/markdown": [
       "\n",
       "|||\n",
       "|---:|:---|\n",
       "| [![arXiv](https://img.shields.io/badge/arXiv-arXiv:2310.08490-b31b1b.svg)](https://arxiv.org/abs/arXiv:2310.08490) | **Balancing ACT: weighing prior dependency and global tensions of DR6  lensing with other datasets**  |\n",
       "|| A. Ormondroyd, W. Handley, <mark>M. Hobson</mark>, A. Lasenby |\n",
       "|*Appeared on*| *2023-10-13*|\n",
       "|*Comments*| *8 pages, 2 figures. Nested sampling chains and analysis code available at this https URL Comments welcome!*|\n",
       "|**Abstract**| We provide a complementary nested sampling analysis for the Atacama Cosmology Telescope lensing data release 6. This allows the quantification of global consistency statistics between ACT lensing and alternative datasets. In the context of flat $\\Lambda$CDM, we find no inconsistency between ACT, Baryonic Acoustic Oscillations, Planck anisotropies, weak lensing datasets, or NPIPE lensing. As part of our analysis, we also investigate the effect of the prior widths used in the ACT analysis and find that the headline results are quantitatively but not qualitatively affected by the chosen priors. We use both Bayes factors and the suspiciousness statistic to quantify the possibility of tension, and find suspiciousness unsuitable in the case of strong agreement between ACT DR6 and NPIPE. Nested sampling provides a competitive alternative to Metropolis Hastings and we recommend it be used alongside existing analyses. We release the chains and plotting source for the analysis using anesthetic. |\n",
       "|<p style=\"color:green\"> **ERROR** </p>| <p style=\"color:green\">affiliation error: mpia.affiliation_verifications: 'Heidelberg' keyword not found.</p> |"
      ],
      "text/plain": [
       "<IPython.core.display.Markdown object>"
      ]
     },
     "metadata": {},
     "output_type": "display_data"
    }
   ],
   "source": [
    "import datetime\n",
    "today = str(datetime.date.today())\n",
    "logfile = f\"_build/html/logs/log-{today}.md\"\n",
    "\n",
    "\n",
    "with open(logfile, 'w') as logs:\n",
    "    # Success\n",
    "    logs.write(f'# Arxiv on Deck 2: Logs - {today}\\n\\n')\n",
    "    logs.write(\"\"\"* Arxiv had {0:,d} new papers\\n\"\"\".format(len(new_papers)))\n",
    "    logs.write(\"\"\"    * {0:,d} with possible author matches\\n\\n\"\"\".format(len(candidates)))\n",
    "    logs.write(\"## Sucessful papers\\n\\n\")\n",
    "    display(Markdown(\"## Successful papers\"))\n",
    "    success = [k[0] for k in documents]\n",
    "    for candid in candidates:\n",
    "        if candid['identifier'].split(':')[-1] in success:\n",
    "            display(candid)\n",
    "            logs.write(candid.generate_markdown_text() + '\\n\\n')\n",
    "\n",
    "    ## failed\n",
    "    logs.write(\"## Failed papers\\n\\n\")\n",
    "    display(Markdown(\"## Failed papers\"))\n",
    "    failed = sorted(failed, key=lambda x: x[1])\n",
    "    current_reason = \"\"\n",
    "    for paper, reason in failed:\n",
    "        if 'affiliation' in reason:\n",
    "            color = 'green'\n",
    "        else:\n",
    "            color = 'red'\n",
    "        data = Markdown(\n",
    "                paper.generate_markdown_text() + \n",
    "                f'\\n|<p style=\"color:{color:s}\"> **ERROR** </p>| <p style=\"color:{color:s}\">{reason:s}</p> |'\n",
    "               )\n",
    "        if reason != current_reason:\n",
    "            logs.write(f'### {reason:s} \\n\\n')\n",
    "            current_reason = reason\n",
    "        logs.write(data.data + '\\n\\n')\n",
    "        \n",
    "        # only display here the important errors (all in logs)\n",
    "        # if color in ('red',):\n",
    "        display(data)"
   ]
  },
  {
   "cell_type": "markdown",
   "id": "472d20ee",
   "metadata": {
    "papermill": {
     "duration": 0.004928,
     "end_time": "2023-10-13T04:09:30.824541",
     "exception": false,
     "start_time": "2023-10-13T04:09:30.819613",
     "status": "completed"
    },
    "tags": []
   },
   "source": [
    "## Export documents\n",
    "\n",
    "We now write the .md files and export relevant images"
   ]
  },
  {
   "cell_type": "code",
   "execution_count": 6,
   "id": "d426aed9",
   "metadata": {
    "execution": {
     "iopub.execute_input": "2023-10-13T04:09:30.835817Z",
     "iopub.status.busy": "2023-10-13T04:09:30.835357Z",
     "iopub.status.idle": "2023-10-13T04:09:30.843003Z",
     "shell.execute_reply": "2023-10-13T04:09:30.842228Z"
    },
    "papermill": {
     "duration": 0.015038,
     "end_time": "2023-10-13T04:09:30.844542",
     "exception": false,
     "start_time": "2023-10-13T04:09:30.829504",
     "status": "completed"
    },
    "tags": []
   },
   "outputs": [],
   "source": [
    "def export_markdown_summary(md: str, md_fname:str, directory: str):\n",
    "    \"\"\"Export MD document and associated relevant images\"\"\"\n",
    "    import os\n",
    "    import shutil\n",
    "    import re\n",
    "\n",
    "    if (os.path.exists(directory) and not os.path.isdir(directory)):\n",
    "        raise RuntimeError(f\"a non-directory file exists with name {directory:s}\")\n",
    "\n",
    "    if (not os.path.exists(directory)):\n",
    "        print(f\"creating directory {directory:s}\")\n",
    "        os.mkdir(directory)\n",
    "\n",
    "    fig_fnames = (re.compile(r'\\[Fig.*\\]\\((.*)\\)').findall(md) + \n",
    "                  re.compile(r'\\<img src=\"([^>\\s]*)\"[^>]*/>').findall(md))\n",
    "    for fname in fig_fnames:\n",
    "        if 'http' in fname:\n",
    "            # No need to copy online figures\n",
    "            continue\n",
    "        destdir = os.path.join(directory, os.path.dirname(fname))\n",
    "        destfname = os.path.join(destdir, os.path.basename(fname))\n",
    "        try:\n",
    "            os.makedirs(destdir)\n",
    "        except FileExistsError:\n",
    "            pass\n",
    "        shutil.copy(fname, destfname)\n",
    "    with open(os.path.join(directory, md_fname), 'w') as fout:\n",
    "        fout.write(md)\n",
    "    print(\"exported in \", os.path.join(directory, md_fname))\n",
    "    [print(\"    + \" + os.path.join(directory,fk)) for fk in fig_fnames]"
   ]
  },
  {
   "cell_type": "code",
   "execution_count": 7,
   "id": "014d04a4",
   "metadata": {
    "execution": {
     "iopub.execute_input": "2023-10-13T04:09:30.855785Z",
     "iopub.status.busy": "2023-10-13T04:09:30.855346Z",
     "iopub.status.idle": "2023-10-13T04:09:30.875375Z",
     "shell.execute_reply": "2023-10-13T04:09:30.874715Z"
    },
    "papermill": {
     "duration": 0.027604,
     "end_time": "2023-10-13T04:09:30.877060",
     "exception": false,
     "start_time": "2023-10-13T04:09:30.849456",
     "status": "completed"
    },
    "tags": []
   },
   "outputs": [
    {
     "name": "stdout",
     "output_type": "stream",
     "text": [
      "exported in  _build/html/2310.08023.md\n",
      "    + _build/html/tmp_2310.08023/./Scaling_relations.png\n",
      "    + _build/html/tmp_2310.08023/./Individual_sequences_HI.png\n",
      "    + _build/html/tmp_2310.08023/./HIH2frac_TNG100_TNG50.png\n",
      "exported in  _build/html/2310.08180.md\n",
      "    + _build/html/tmp_2310.08180/./m1_blue3.png\n",
      "    + _build/html/tmp_2310.08180/./spec_img.png\n",
      "    + _build/html/tmp_2310.08180/./pv_3mol.png\n"
     ]
    }
   ],
   "source": [
    "for paper_id, md in documents:\n",
    "    export_markdown_summary(md, f\"{paper_id:s}.md\", '_build/html/')"
   ]
  },
  {
   "cell_type": "markdown",
   "id": "f087a0a7",
   "metadata": {
    "papermill": {
     "duration": 0.005082,
     "end_time": "2023-10-13T04:09:30.887279",
     "exception": false,
     "start_time": "2023-10-13T04:09:30.882197",
     "status": "completed"
    },
    "tags": []
   },
   "source": [
    "## Display the papers\n",
    "\n",
    "Not necessary but allows for a quick check."
   ]
  },
  {
   "cell_type": "code",
   "execution_count": 8,
   "id": "fd25f625",
   "metadata": {
    "execution": {
     "iopub.execute_input": "2023-10-13T04:09:30.899516Z",
     "iopub.status.busy": "2023-10-13T04:09:30.898819Z",
     "iopub.status.idle": "2023-10-13T04:09:30.905400Z",
     "shell.execute_reply": "2023-10-13T04:09:30.904704Z"
    },
    "papermill": {
     "duration": 0.014523,
     "end_time": "2023-10-13T04:09:30.907029",
     "exception": false,
     "start_time": "2023-10-13T04:09:30.892506",
     "status": "completed"
    },
    "scrolled": false,
    "tags": []
   },
   "outputs": [
    {
     "data": {
      "text/markdown": [
       "<div class=\"macros\" style=\"visibility:hidden;\">\n",
       "$\\newcommand{\\ensuremath}{}$\n",
       "$\\newcommand{\\xspace}{}$\n",
       "$\\newcommand{\\object}[1]{\\texttt{#1}}$\n",
       "$\\newcommand{\\farcs}{{.}''}$\n",
       "$\\newcommand{\\farcm}{{.}'}$\n",
       "$\\newcommand{\\arcsec}{''}$\n",
       "$\\newcommand{\\arcmin}{'}$\n",
       "$\\newcommand{\\ion}[2]{#1#2}$\n",
       "$\\newcommand{\\textsc}[1]{\\textrm{#1}}$\n",
       "$\\newcommand{\\hl}[1]{\\textrm{#1}}$\n",
       "$\\newcommand{\\footnote}[1]{}$\n",
       "$\\newcommand{\\vdag}{(v)^\\dagger}$\n",
       "$\\newcommand$\n",
       "$\\newcommand$\n",
       "$\\newcommand$\n",
       "$\\newcommand$\n",
       "$\\newcommand$\n",
       "$\\newcommand$\n",
       "$\\newcommand$\n",
       "$\\newcommand$</div>\n",
       "\n",
       "\n",
       "\n",
       "<div id=\"title\">\n",
       "\n",
       "# VERTICO and IllustrisTNG: The spatially resolved effects of environment on galactic gas\n",
       "\n",
       "</div>\n",
       "<div id=\"comments\">\n",
       "\n",
       "[![arXiv](https://img.shields.io/badge/arXiv-2310.08023-b31b1b.svg)](https://arxiv.org/abs/2310.08023)<mark>Appeared on: 2023-10-13</mark> -  _9 pages, 4 figures, accepted in ApJL_\n",
       "\n",
       "</div>\n",
       "<div id=\"authors\">\n",
       "\n",
       "A. R.~H.~Stevens, et al. -- incl., <mark>A. Pillepich</mark>\n",
       "\n",
       "</div>\n",
       "<div id=\"abstract\">\n",
       "\n",
       "**Abstract:** $\\noindent$ It has been shown in previous publications that the TNG100 simulation quantitatively reproduces the observed reduction in each of the total atomic and total molecular hydrogen gas for galaxies within massive halos, i.e. dense environments.In this Letter, we study how well TNG50 reproduces the $*resolved*$ effects of a Virgo-like cluster environment on the gas surface densities of satellite galaxies with $m_* > \\! 10^9 {\\rm M}_\\odot$ and ${\\rm SFR} \\! > 0.05 {\\rm M}_\\odot{\\rm yr}^{-1}$ .We select galaxies in the simulation that are analogous to those in the HERACLES and VERTICO surveys, and mock-observe them to the common specifications of the data.Although TNG50 does not quantitatively match the observed gas surface densities in the centers of galaxies, the simulation does qualitatively reproduce the trends of gas truncation and central density suppression seen in VERTICO in both $\\HI$ and $\\Htwo$ .This result promises that modern cosmological hydrodynamic simulations can be used to reliably model the post-infall histories of cluster satellite galaxies.\n",
       "\n",
       "</div>\n",
       "\n",
       "<div id=\"div_fig1\">\n",
       "\n",
       "<img src=\"tmp_2310.08023/./Scaling_relations.png\" alt=\"Fig2\" width=\"100%\"/>\n",
       "\n",
       "**Figure 2. -** Resolved scaling relations for TNG50 galaxies per their field and cluster samples (and a high-mass field sub-sample), compared respectively with HERACLES and VERTICO.\n",
       "Lines are running medians in 0.2-dex bins of $\\Sigma_*$.\n",
       "Shaded regions cover the 16th to 84th percentiles (not shown for the high-mass field sub-sample).\n",
       "The left column accounts for all pixels in both the observations (provided they were detected in stellar emission) and simulations, setting non-detections in either \\SHI or \\SHtwo in the observations to zero, which are accounted for in the percentiles.\n",
       "The right column removes any non-detections in the observations by cutting out any pixels that would fall below the axes as plotted.\n",
       "The lower boundary of each axis represents the 1st percentile of all gas-detected pixels (irrespective of whether the pixel is a detection in \\Ss) across both observational surveys.\n",
       "This boundary also represents the cut in gas surface density applied to TNG50 in the right-hand panels, as to emulate a detection threshold.\n",
       "The top two panels show the one-dimensional histograms of \\Ss for pixels in each sample, normalised by the number of galaxies in that sample.\n",
       "The $y$-axis in the top-right panel is stretched by a factor of two for clarity.\n",
       " (*fig:scalings*)\n",
       "\n",
       "</div>\n",
       "<div id=\"div_fig2\">\n",
       "\n",
       "<img src=\"tmp_2310.08023/./Individual_sequences_HI.png\" alt=\"Fig3\" width=\"100%\"/>\n",
       "\n",
       "**Figure 3. -** Individual \\HI sequences for the nine most \\HI-deficient galaxies among VERTICO analogues in TNG50.\n",
       "Points are pixels from the TNG50 galaxies, with thick solid lines the running median of those points.\n",
       "The thin, solid, red line that repeats in each panel is the median for the TNG50 field sample.\n",
       "Each dashed line is the running median for the VERTICO galaxy that the TNG50 galaxy is matched to, based on its stellar mass and distance from the star-forming main sequence.\n",
       "NGC4533 lacks any detected resolved \\HI.\n",
       "The lower bound of the $y$-axis in each panel is $\\sim$0.5 dex lower than what is detected in VERTICO galaxies.\n",
       " (*fig:HI*)\n",
       "\n",
       "</div>\n",
       "<div id=\"div_fig3\">\n",
       "\n",
       "<img src=\"tmp_2310.08023/./HIH2frac_TNG100_TNG50.png\" alt=\"Fig1\" width=\"100%\"/>\n",
       "\n",
       "**Figure 1. -** The \\HI (top panel) and \\Htwo (bottom panel) fractions of TNG50 and TNG100 galaxies as a function of stellar mass at $z\\!=\\!0$.\n",
       "Only galaxies with $m_* \\! \\geq \\! 10^9 {\\rm M}_\\odot$ and ${\\rm SFR} \\! \\geq 0.05 {\\rm M_\\odot yr}^{-1}$ are included (without any environmental sub-sampling).\n",
       "Hex bins show the number density of TNG50 galaxies.\n",
       "Lines are the running median (thick) and 16th and 84th percentiles (thin) for TNG50 (solid) and TNG100 (dashed).\n",
       "Points with approximate errors compare the VERTICO and HERACLES galaxies that we use in this paper (a subset of the full surveys; cf. fig. 1 of  ([Zabel, Brown and Wilson 2022]()) ).\n",
       "We show these observational data for reference, but we do *not* necessarily expect the simulation medians to align closely with them (but they should be closer to HERACLES than VERTICO).\n",
       "Individual points from our TNG50 cluster and field samples, shown, can be respectively compared to VERTICO and HERACLES. (*fig:HIH2frac*)\n",
       "\n",
       "</div><div id=\"qrcode\"><img src=https://api.qrserver.com/v1/create-qr-code/?size=100x100&data=\"https://arxiv.org/abs/2310.08023\"></div>"
      ],
      "text/plain": [
       "<IPython.core.display.Markdown object>"
      ]
     },
     "metadata": {},
     "output_type": "display_data"
    },
    {
     "data": {
      "text/markdown": [
       "<div class=\"macros\" style=\"visibility:hidden;\">\n",
       "$\\newcommand{\\ensuremath}{}$\n",
       "$\\newcommand{\\xspace}{}$\n",
       "$\\newcommand{\\object}[1]{\\texttt{#1}}$\n",
       "$\\newcommand{\\farcs}{{.}''}$\n",
       "$\\newcommand{\\farcm}{{.}'}$\n",
       "$\\newcommand{\\arcsec}{''}$\n",
       "$\\newcommand{\\arcmin}{'}$\n",
       "$\\newcommand{\\ion}[2]{#1#2}$\n",
       "$\\newcommand{\\textsc}[1]{\\textrm{#1}}$\n",
       "$\\newcommand{\\hl}[1]{\\textrm{#1}}$\n",
       "$\\newcommand{\\footnote}[1]{}$\n",
       "$\\newcommand{\\url}[1]{\\href{#1}{#1}}$\n",
       "$\\newcommand{\\vdag}{(v)^\\dagger}$\n",
       "$\\newcommand$\n",
       "$\\newcommand$\n",
       "$\\newcommand{\\}{aj}$\n",
       "$\\newcommand{\\}{araa}$\n",
       "$\\newcommand{\\}{apj}$\n",
       "$\\newcommand{\\}{icarus}$\n",
       "$\\newcommand{\\}{apjs}$\n",
       "$\\newcommand{\\}{apjl}$\n",
       "$\\newcommand{\\}{apss}$\n",
       "$\\newcommand{\\}{aap}$\n",
       "$\\newcommand{\\}{aapr}$\n",
       "$\\newcommand{\\}{aaps}$\n",
       "$\\newcommand{\\}{baas}$\n",
       "$\\newcommand{\\}{memras}$\n",
       "$\\newcommand{\\}{mnras}$\n",
       "$\\newcommand{\\}{pasp}$\n",
       "$\\newcommand{\\}{prl}$\n",
       "$\\newcommand{\\}{jqsrt}$\n",
       "$\\newcommand{\\}{actaa}$\n",
       "$\\newcommand{\\pc}{{\\rm pc}}$\n",
       "$\\newcommand{\\lsun}{L_\\odot}$\n",
       "$\\newcommand{\\msun}{M_\\odot}$\n",
       "$\\newcommand{\\klms}{{\\rm km s^{-1}}}$\n",
       "$\\newcommand{\\kms}{{\\rm km s^{-1}}}$\n",
       "$\\newcommand{ç}{{\\rm cm^{-3}}}$\n",
       "$\\newcommand{\\yr}{{\\rm yr^{-1}}}$\n",
       "$\\newcommand{\\sc}{{\\rm cm^{-2}}}$\n",
       "$\\newcommand{\\cm2}{{\\rm cm^{-2}}}$\n",
       "$\\newcommand{\\sqc}{{\\rm cm^{-2}}}$\n",
       "$\\newcommand{\\um}{{\\rm \\mu m}}$\n",
       "$\\newcommand{\\micron}{{\\rm \\mu m}}$\n",
       "$\\newcommand{\\htwo}{{\\rm H_2}}$\n",
       "$\\newcommand{\\hone}{{\\rm HI}}$\n",
       "$\\newcommand{\\nht}{{\\rm NH_3}}$\n",
       "$\\newcommand{\\hcn}{{\\rm HCN}}$\n",
       "$\\newcommand{\\nthp}{{\\rm N_2H^+}}$\n",
       "$\\newcommand{\\hctn}{{\\rm HC_3N}}$\n",
       "$\\newcommand{\\ceto}{{\\rm C^{18}O}}$\n",
       "$\\newcommand{\\hcop}{{\\rm HCO^+}}$\n",
       "$\\newcommand{\\chtcn}{{\\rm CH_3CN}}$\n",
       "$\\newcommand{\\htcop}{{\\rm H^{13}CO^+}}$\n",
       "$\\newcommand{\\chtoh}{{\\rm CH_3OH}}$\n",
       "$\\newcommand{\\htcn}{{\\rm H^{13}CN}}$\n",
       "$\\newcommand{\\tco}{{\\rm ^{13}CO}}$\n",
       "$\\newcommand{çh}{{\\rm CCH}}$\n",
       "$\\newcommand{\\cth}{{\\rm C_2H}}$\n",
       "$\\newcommand{\\mjbm}{{\\rm mJy  beam^{-1}}}$\n",
       "$\\newcommand{\\}{natexlab}$</div>\n",
       "\n",
       "\n",
       "\n",
       "<div id=\"title\">\n",
       "\n",
       "# A High-Mass Young Star-forming Core Escaping from Its Parental Filament\n",
       "\n",
       "</div>\n",
       "<div id=\"comments\">\n",
       "\n",
       "[![arXiv](https://img.shields.io/badge/arXiv-2310.08180-b31b1b.svg)](https://arxiv.org/abs/2310.08180)<mark>Appeared on: 2023-10-13</mark> -  _15 pages, 6 figures, accepted for publication in the Astrophysical Journal_\n",
       "\n",
       "</div>\n",
       "<div id=\"authors\">\n",
       "\n",
       "Z. Ren, et al. -- incl., <mark>S. Li</mark>\n",
       "\n",
       "</div>\n",
       "<div id=\"abstract\">\n",
       "\n",
       "**Abstract:** We studied the unique kinematic properties in massive filament G352.63-1.07 at $10^3$ -AU spatial scale with the dense molecular tracers observed with the Atacama Large Millimeter/submillimeter Array (ALMA). We find the central massive core M1 ( $12 \\msun$ ) being separated from the surrounding filament with a velocity difference of $v- \\overline{v}_{\\rm sys}=-2 \\kms$ and a transverse separation within 3 arcsec. Meanwhile, as shown in multiple dense-gas tracers, M1 has a spatial extension closely aligned with the main filament and is connected to the filament towards its both ends. M1 thus represents a very beginning state for a massive young star-forming core escaping from the parental filament, within a time scale of $\\sim 4000$ years. Based on its kinetic energy ( $3.5\\times10^{44}$ erg), the core escape is unlikely solely due to the original filament motion or magnetic field, but requires more energetic events such as a rapid intense anisotropic collapse. The released energy also seems to noticeably increase the environmental turbulence. This may help the filament to become stabilized again.\n",
       "\n",
       "</div>\n",
       "\n",
       "<div id=\"div_fig1\">\n",
       "\n",
       "<img src=\"tmp_2310.08180/./m1_blue3.png\" alt=\"Fig2\" width=\"100%\"/>\n",
       "\n",
       "**Figure 2. -** \\small** (a)** Contours: emission region of the $\\htcop$(1-0) line in three velocity intervals. The background image is the $\\htcop$ emission in (-1.5,+1.5) $\\kms$(red-center component). For the blue-wing component, the contour levels are 4, 6, and 8 times of the rms level (0.3 K $\\kms$). For the other components, the contour levels are 10\\% to 90\\% in 20\\%-step of the peak intensity, which is 15, 11, and 3 K $\\kms$ for the blue-center, red-center, and red-wing, respectively. The green arrows label the mass transfer flow directions onto the main filament (Chen21). The green circles labels the possible arrival points of the transfer flows onto the filament. ** (b)** PV plot and intensity profile along the major axis of the main filament. The sampling direction is labelled in dashed line in panel (a). The vertical dashed lines denote the projected offset of the three dense cores on the sampling direction. The horizontal dotted line represents the average systemic velocity of the filament.  (*fig:m1_blue*)\n",
       "\n",
       "</div>\n",
       "<div id=\"div_fig2\">\n",
       "\n",
       "<img src=\"tmp_2310.08180/./spec_img.png\" alt=\"Fig1\" width=\"100%\"/>\n",
       "\n",
       "**Figure 1. -** \\small** (a)** The velocity-integrated intensity of the $\\htcop$(1-0) line (false-color) and 3 mm continuum. The contour levels are $4\\sigma_{\\rm rms}$($1.6 $\\mjbm$$) to $84\\sigma_{\\rm rms}$(peak) in step of $16\\sigma_{\\rm rms}$.  ** (b)** The $\\htcop$ and $\\chtoh$ emission regions around the main filament, overlaid on the IRAC-RGB image (3.6, 4.5, and 8.0 $\\micron$ bands). The $\\htcop$ contours are 15\\% to 90\\% in 15\\%-step of the peak intensity (8.5 K $\\kms$). The $\\chtoh$ contours are 10\\% to 90\\% in 20\\%-step of the peak intensity (18.7 K $\\kms$). The dashed circles labels the area of each core. ** (c)** The spectra at the selected core centers. The blue and red-shaded areas indicate the velocity ranges of the two velocity components, respectively. The vertical dashed line denotes the division between the blue and main-filament components.  (*fig:spec_img*)\n",
       "\n",
       "</div>\n",
       "<div id=\"div_fig3\">\n",
       "\n",
       "<img src=\"tmp_2310.08180/./pv_3mol.png\" alt=\"Fig3\" width=\"100%\"/>\n",
       "\n",
       "**Figure 3. -** \\small** Left column:** The emission regions of the blue- (contours) and redshifted (false-color) components in CCS and $\\htcn$(1-0) lines. The contour levels are 20\\% to 90\\% of the peak intensity. ** Right column:** The PV diagrams of the two molecular lines. the $\\htcn$ emission at $v_{\\rm lsr}=2$ to 4 $\\kms$ is from anther HFC of $F=1-1$. The HFCs of $\\htcn$ are separated for 6-7 $\\kms$ and would not blend with each other. The CCH (1-0) emission shows an additional small blueshift wings around M3, which should correspond to the transfer flow onto the filament (Chen21). This feature is not seen in other lines probably because of their lower optical depths.  (*fig:pv_3mol*)\n",
       "\n",
       "</div><div id=\"qrcode\"><img src=https://api.qrserver.com/v1/create-qr-code/?size=100x100&data=\"https://arxiv.org/abs/2310.08180\"></div>"
      ],
      "text/plain": [
       "<IPython.core.display.Markdown object>"
      ]
     },
     "metadata": {},
     "output_type": "display_data"
    }
   ],
   "source": [
    "[display(Markdown(k[1])) for k in documents];"
   ]
  },
  {
   "cell_type": "markdown",
   "id": "873873a4",
   "metadata": {
    "papermill": {
     "duration": 0.005535,
     "end_time": "2023-10-13T04:09:30.918217",
     "exception": false,
     "start_time": "2023-10-13T04:09:30.912682",
     "status": "completed"
    },
    "tags": []
   },
   "source": [
    "# Create HTML index"
   ]
  },
  {
   "cell_type": "code",
   "execution_count": 9,
   "id": "cf665672",
   "metadata": {
    "execution": {
     "iopub.execute_input": "2023-10-13T04:09:30.930878Z",
     "iopub.status.busy": "2023-10-13T04:09:30.930406Z",
     "iopub.status.idle": "2023-10-13T04:09:30.941469Z",
     "shell.execute_reply": "2023-10-13T04:09:30.940923Z"
    },
    "papermill": {
     "duration": 0.019161,
     "end_time": "2023-10-13T04:09:30.942970",
     "exception": false,
     "start_time": "2023-10-13T04:09:30.923809",
     "status": "completed"
    },
    "tags": []
   },
   "outputs": [
    {
     "name": "stdout",
     "output_type": "stream",
     "text": [
      "300  publications files modified in the last 7 days.\n"
     ]
    }
   ],
   "source": [
    "from datetime import datetime, timedelta, timezone\n",
    "from glob import glob\n",
    "import os\n",
    "\n",
    "files = glob('_build/html/*.md')\n",
    "days = 7\n",
    "now = datetime.today()\n",
    "res = []\n",
    "for fk in files:\n",
    "    stat_result = os.stat(fk).st_ctime\n",
    "    modified = datetime.fromtimestamp(stat_result, tz=timezone.utc).replace(tzinfo=None)\n",
    "    delta = now.today() - modified\n",
    "    if delta <= timedelta(days=days):\n",
    "        res.append((delta.seconds, fk))\n",
    "res = [k[1] for k in reversed(sorted(res, key=lambda x:x[1]))]\n",
    "npub = len(res)\n",
    "print(len(res), f\" publications files modified in the last {days:d} days.\")\n",
    "# [ print('\\t', k) for k in res ];"
   ]
  },
  {
   "cell_type": "code",
   "execution_count": 10,
   "id": "015de740",
   "metadata": {
    "execution": {
     "iopub.execute_input": "2023-10-13T04:09:30.956059Z",
     "iopub.status.busy": "2023-10-13T04:09:30.955562Z",
     "iopub.status.idle": "2023-10-13T04:09:30.977418Z",
     "shell.execute_reply": "2023-10-13T04:09:30.976673Z"
    },
    "papermill": {
     "duration": 0.030439,
     "end_time": "2023-10-13T04:09:30.979119",
     "exception": false,
     "start_time": "2023-10-13T04:09:30.948680",
     "status": "completed"
    },
    "tags": []
   },
   "outputs": [
    {
     "name": "stdout",
     "output_type": "stream",
     "text": [
      "12  publications in the last 7 days.\n"
     ]
    }
   ],
   "source": [
    "import datetime\n",
    "from glob import glob\n",
    "\n",
    "def get_last_n_days(lst, days=1):\n",
    "    \"\"\" Get the documents from the last n days \"\"\"\n",
    "    sorted_lst = sorted(lst, key=lambda x: x[1], reverse=True)\n",
    "    for fname, date in sorted_lst:\n",
    "        if date >= str(datetime.date.today() - datetime.timedelta(days=days)):\n",
    "            yield fname\n",
    "\n",
    "def extract_appearance_dates(lst_file):\n",
    "    dates = []\n",
    "\n",
    "    def get_date(line):\n",
    "        return line\\\n",
    "            .split('Appeared on:')[-1]\\\n",
    "            .split('</mark>')[0].strip()\n",
    "\n",
    "    for fname in lst:\n",
    "        with open(fname, 'r') as f:\n",
    "            found_date = False\n",
    "            for line in f:\n",
    "                if not found_date:\n",
    "                    if \"Appeared on\" in line:\n",
    "                        found_date = True\n",
    "                        dates.append((fname, get_date(line)))\n",
    "                else:\n",
    "                    break\n",
    "    return dates\n",
    "\n",
    "from glob import glob\n",
    "lst = glob('_build/html/*md')\n",
    "days = 7\n",
    "dates = extract_appearance_dates(lst)\n",
    "res = list(get_last_n_days(dates, days))\n",
    "npub = len(res)\n",
    "print(len(res), f\" publications in the last {days:d} days.\")"
   ]
  },
  {
   "cell_type": "code",
   "execution_count": 11,
   "id": "52ca0208",
   "metadata": {
    "execution": {
     "iopub.execute_input": "2023-10-13T04:09:30.992308Z",
     "iopub.status.busy": "2023-10-13T04:09:30.991913Z",
     "iopub.status.idle": "2023-10-13T04:09:30.997617Z",
     "shell.execute_reply": "2023-10-13T04:09:30.996954Z"
    },
    "papermill": {
     "duration": 0.014279,
     "end_time": "2023-10-13T04:09:30.999297",
     "exception": false,
     "start_time": "2023-10-13T04:09:30.985018",
     "status": "completed"
    },
    "scrolled": false,
    "tags": []
   },
   "outputs": [],
   "source": [
    "def create_carousel(npub=4):\n",
    "    \"\"\" Generate the HTML code for a carousel with `npub` slides \"\"\"\n",
    "    carousel = [\"\"\"  <div class=\"carousel\" \"\"\",\n",
    "                \"\"\"       data-flickity='{ \"autoPlay\": 10000, \"adaptiveHeight\": true, \"resize\": true, \"wrapAround\": true, \"pauseAutoPlayOnHover\": true, \"groupCells\": 1 }' id=\"asyncTypeset\">\"\"\"\n",
    "                ]\n",
    "    \n",
    "    item_str = \"\"\"    <div class=\"carousel-cell\"> <div id=\"slide{k}\" class=\"md_view\">Content {k}</div> </div>\"\"\"\n",
    "    for k in range(1, npub + 1):\n",
    "        carousel.append(item_str.format(k=k))\n",
    "    carousel.append(\"  </div>\")\n",
    "    return '\\n'.join(carousel)\n",
    "\n",
    "def create_grid(npub=4):\n",
    "    \"\"\" Generate the HTML code for a flat grid with `npub` slides \"\"\"\n",
    "    grid = [\"\"\"  <div class=\"grid\"> \"\"\",\n",
    "                ]\n",
    "    \n",
    "    item_str = \"\"\"    <div class=\"grid-item\"> <div id=\"slide{k}\" class=\"md_view\">Content {k}</div> </div>\"\"\"\n",
    "    for k in range(1, npub + 1):\n",
    "        grid.append(item_str.format(k=k))\n",
    "    grid.append(\"  </div>\")\n",
    "    return '\\n'.join(grid)"
   ]
  },
  {
   "cell_type": "code",
   "execution_count": 12,
   "id": "a6eac5b6",
   "metadata": {
    "execution": {
     "iopub.execute_input": "2023-10-13T04:09:31.012640Z",
     "iopub.status.busy": "2023-10-13T04:09:31.012164Z",
     "iopub.status.idle": "2023-10-13T04:09:31.017874Z",
     "shell.execute_reply": "2023-10-13T04:09:31.017221Z"
    },
    "papermill": {
     "duration": 0.014099,
     "end_time": "2023-10-13T04:09:31.019401",
     "exception": false,
     "start_time": "2023-10-13T04:09:31.005302",
     "status": "completed"
    },
    "scrolled": false,
    "tags": []
   },
   "outputs": [],
   "source": [
    "carousel = create_carousel(npub)\n",
    "docs = ', '.join(['\"{0:s}\"'.format(k.split('/')[-1]) for k in res])\n",
    "slides = ', '.join([f'\"slide{k}\"' for k in range(1, npub + 1)])\n",
    "\n",
    "with open(\"daily_template.html\", \"r\") as tpl:\n",
    "    page = tpl.read()\n",
    "    page = page.replace(\"{%-- carousel:s --%}\", carousel)\\\n",
    "               .replace(\"{%-- suptitle:s --%}\",  \"7-day archives\" )\\\n",
    "               .replace(\"{%-- docs:s --%}\", docs)\\\n",
    "               .replace(\"{%-- slides:s --%}\", slides)\n",
    "    \n",
    "with open(\"_build/html/index_7days.html\", 'w') as fout:\n",
    "    fout.write(page)"
   ]
  },
  {
   "cell_type": "code",
   "execution_count": 13,
   "id": "adc1a1ec",
   "metadata": {
    "execution": {
     "iopub.execute_input": "2023-10-13T04:09:31.032645Z",
     "iopub.status.busy": "2023-10-13T04:09:31.032050Z",
     "iopub.status.idle": "2023-10-13T04:09:31.039721Z",
     "shell.execute_reply": "2023-10-13T04:09:31.039020Z"
    },
    "papermill": {
     "duration": 0.016058,
     "end_time": "2023-10-13T04:09:31.041356",
     "exception": false,
     "start_time": "2023-10-13T04:09:31.025298",
     "status": "completed"
    },
    "tags": []
   },
   "outputs": [
    {
     "name": "stdout",
     "output_type": "stream",
     "text": [
      "5  publications in the last day.\n"
     ]
    }
   ],
   "source": [
    "# redo for today\n",
    "days = 1\n",
    "res = list(get_last_n_days(dates, days))\n",
    "npub = len(res)\n",
    "print(len(res), f\" publications in the last day.\")\n",
    "\n",
    "carousel = create_carousel(npub)\n",
    "docs = ', '.join(['\"{0:s}\"'.format(k.split('/')[-1]) for k in res])\n",
    "slides = ', '.join([f'\"slide{k}\"' for k in range(1, npub + 1)])\n",
    "\n",
    "with open(\"daily_template.html\", \"r\") as tpl:\n",
    "    page = tpl.read()\n",
    "    page = page.replace(\"{%-- carousel:s --%}\", carousel)\\\n",
    "               .replace(\"{%-- suptitle:s --%}\",  \"Daily\" )\\\n",
    "               .replace(\"{%-- docs:s --%}\", docs)\\\n",
    "               .replace(\"{%-- slides:s --%}\", slides)\n",
    "    \n",
    "# print(carousel, docs, slides)\n",
    "# print(page)\n",
    "with open(\"_build/html/index_daily.html\", 'w') as fout:\n",
    "    fout.write(page)"
   ]
  },
  {
   "cell_type": "code",
   "execution_count": 14,
   "id": "00eece82",
   "metadata": {
    "execution": {
     "iopub.execute_input": "2023-10-13T04:09:31.054539Z",
     "iopub.status.busy": "2023-10-13T04:09:31.054110Z",
     "iopub.status.idle": "2023-10-13T04:09:31.061396Z",
     "shell.execute_reply": "2023-10-13T04:09:31.060746Z"
    },
    "papermill": {
     "duration": 0.015705,
     "end_time": "2023-10-13T04:09:31.062977",
     "exception": false,
     "start_time": "2023-10-13T04:09:31.047272",
     "status": "completed"
    },
    "scrolled": false,
    "tags": []
   },
   "outputs": [
    {
     "name": "stdout",
     "output_type": "stream",
     "text": [
      "6  6 publications selected.\n"
     ]
    }
   ],
   "source": [
    "# Create the flat grid of the last N papers (fixed number regardless of dates)\n",
    "from itertools import islice \n",
    "\n",
    "npub = 6\n",
    "res = [k[0] for k in (islice(reversed(sorted(dates, key=lambda x: x[1])), 6))]\n",
    "print(len(res), f\" {npub} publications selected.\")\n",
    "\n",
    "grid = create_grid(npub)\n",
    "docs = ', '.join(['\"{0:s}\"'.format(k.split('/')[-1]) for k in res])\n",
    "slides = ', '.join([f'\"slide{k}\"' for k in range(1, npub + 1)])\n",
    "\n",
    "with open(\"grid_template.html\", \"r\") as tpl:\n",
    "    page = tpl.read()\n",
    "    page = page.replace(\"{%-- grid-content:s --%}\", grid)\\\n",
    "               .replace(\"{%-- suptitle:s --%}\",  f\"Last {npub:,d} papers\" )\\\n",
    "               .replace(\"{%-- docs:s --%}\", docs)\\\n",
    "               .replace(\"{%-- slides:s --%}\", slides)\n",
    "    \n",
    "# print(grid, docs, slides)\n",
    "# print(page)\n",
    "with open(\"_build/html/index_npub_grid.html\", 'w') as fout:\n",
    "    fout.write(page)"
   ]
  }
 ],
 "metadata": {
  "kernelspec": {
   "display_name": "Python 3 (ipykernel)",
   "language": "python",
   "name": "python3"
  },
  "language_info": {
   "codemirror_mode": {
    "name": "ipython",
    "version": 3
   },
   "file_extension": ".py",
   "mimetype": "text/x-python",
   "name": "python",
   "nbconvert_exporter": "python",
   "pygments_lexer": "ipython3",
   "version": "3.9.18"
  },
  "papermill": {
   "default_parameters": {},
   "duration": 97.225962,
   "end_time": "2023-10-13T04:09:31.286671",
   "environment_variables": {},
   "exception": null,
   "input_path": "MPIA daily digest.ipynb",
   "output_path": "log.ipynb",
   "parameters": {},
   "start_time": "2023-10-13T04:07:54.060709",
   "version": "2.4.0"
  },
  "vscode": {
   "interpreter": {
    "hash": "aee8b7b246df8f9039afb4144a1f6fd8d2ca17a180786b69acc140d282b71a49"
   }
  },
  "widgets": {
   "application/vnd.jupyter.widget-state+json": {
    "state": {
     "012cf54e316c4e3ca33c6080aeb160ff": {
      "model_module": "@jupyter-widgets/base",
      "model_module_version": "2.0.0",
      "model_name": "LayoutModel",
      "state": {
       "_model_module": "@jupyter-widgets/base",
       "_model_module_version": "2.0.0",
       "_model_name": "LayoutModel",
       "_view_count": null,
       "_view_module": "@jupyter-widgets/base",
       "_view_module_version": "2.0.0",
       "_view_name": "LayoutView",
       "align_content": null,
       "align_items": null,
       "align_self": null,
       "border_bottom": null,
       "border_left": null,
       "border_right": null,
       "border_top": null,
       "bottom": null,
       "display": null,
       "flex": null,
       "flex_flow": null,
       "grid_area": null,
       "grid_auto_columns": null,
       "grid_auto_flow": null,
       "grid_auto_rows": null,
       "grid_column": null,
       "grid_gap": null,
       "grid_row": null,
       "grid_template_areas": null,
       "grid_template_columns": null,
       "grid_template_rows": null,
       "height": null,
       "justify_content": null,
       "justify_items": null,
       "left": null,
       "margin": null,
       "max_height": null,
       "max_width": null,
       "min_height": null,
       "min_width": null,
       "object_fit": null,
       "object_position": null,
       "order": null,
       "overflow": null,
       "padding": null,
       "right": null,
       "top": null,
       "visibility": null,
       "width": null
      }
     },
     "368b888ee21245b6ad567130bba37b83": {
      "model_module": "@jupyter-widgets/base",
      "model_module_version": "2.0.0",
      "model_name": "LayoutModel",
      "state": {
       "_model_module": "@jupyter-widgets/base",
       "_model_module_version": "2.0.0",
       "_model_name": "LayoutModel",
       "_view_count": null,
       "_view_module": "@jupyter-widgets/base",
       "_view_module_version": "2.0.0",
       "_view_name": "LayoutView",
       "align_content": null,
       "align_items": null,
       "align_self": null,
       "border_bottom": null,
       "border_left": null,
       "border_right": null,
       "border_top": null,
       "bottom": null,
       "display": null,
       "flex": null,
       "flex_flow": null,
       "grid_area": null,
       "grid_auto_columns": null,
       "grid_auto_flow": null,
       "grid_auto_rows": null,
       "grid_column": null,
       "grid_gap": null,
       "grid_row": null,
       "grid_template_areas": null,
       "grid_template_columns": null,
       "grid_template_rows": null,
       "height": null,
       "justify_content": null,
       "justify_items": null,
       "left": null,
       "margin": null,
       "max_height": null,
       "max_width": null,
       "min_height": null,
       "min_width": null,
       "object_fit": null,
       "object_position": null,
       "order": null,
       "overflow": null,
       "padding": null,
       "right": null,
       "top": null,
       "visibility": null,
       "width": null
      }
     },
     "482c60603a6c41488c07ff7bfc337b7e": {
      "model_module": "@jupyter-widgets/controls",
      "model_module_version": "2.0.0",
      "model_name": "HTMLStyleModel",
      "state": {
       "_model_module": "@jupyter-widgets/controls",
       "_model_module_version": "2.0.0",
       "_model_name": "HTMLStyleModel",
       "_view_count": null,
       "_view_module": "@jupyter-widgets/base",
       "_view_module_version": "2.0.0",
       "_view_name": "StyleView",
       "background": null,
       "description_width": "",
       "font_size": null,
       "text_color": null
      }
     },
     "4879ed8e5e874752bcd95ade4975be1e": {
      "model_module": "@jupyter-widgets/base",
      "model_module_version": "2.0.0",
      "model_name": "LayoutModel",
      "state": {
       "_model_module": "@jupyter-widgets/base",
       "_model_module_version": "2.0.0",
       "_model_name": "LayoutModel",
       "_view_count": null,
       "_view_module": "@jupyter-widgets/base",
       "_view_module_version": "2.0.0",
       "_view_name": "LayoutView",
       "align_content": null,
       "align_items": null,
       "align_self": null,
       "border_bottom": null,
       "border_left": null,
       "border_right": null,
       "border_top": null,
       "bottom": null,
       "display": null,
       "flex": null,
       "flex_flow": null,
       "grid_area": null,
       "grid_auto_columns": null,
       "grid_auto_flow": null,
       "grid_auto_rows": null,
       "grid_column": null,
       "grid_gap": null,
       "grid_row": null,
       "grid_template_areas": null,
       "grid_template_columns": null,
       "grid_template_rows": null,
       "height": null,
       "justify_content": null,
       "justify_items": null,
       "left": null,
       "margin": null,
       "max_height": null,
       "max_width": null,
       "min_height": null,
       "min_width": null,
       "object_fit": null,
       "object_position": null,
       "order": null,
       "overflow": null,
       "padding": null,
       "right": null,
       "top": null,
       "visibility": null,
       "width": null
      }
     },
     "5a7b0096b48644b2861f2bb01ccee165": {
      "model_module": "@jupyter-widgets/controls",
      "model_module_version": "2.0.0",
      "model_name": "FloatProgressModel",
      "state": {
       "_dom_classes": [],
       "_model_module": "@jupyter-widgets/controls",
       "_model_module_version": "2.0.0",
       "_model_name": "FloatProgressModel",
       "_view_count": null,
       "_view_module": "@jupyter-widgets/controls",
       "_view_module_version": "2.0.0",
       "_view_name": "ProgressView",
       "bar_style": "success",
       "description": "",
       "description_allow_html": false,
       "layout": "IPY_MODEL_012cf54e316c4e3ca33c6080aeb160ff",
       "max": 3.0,
       "min": 0.0,
       "orientation": "horizontal",
       "style": "IPY_MODEL_66ed4d7832b84d95b16bfd53fa97f7f4",
       "tabbable": null,
       "tooltip": null,
       "value": 3.0
      }
     },
     "66ed4d7832b84d95b16bfd53fa97f7f4": {
      "model_module": "@jupyter-widgets/controls",
      "model_module_version": "2.0.0",
      "model_name": "ProgressStyleModel",
      "state": {
       "_model_module": "@jupyter-widgets/controls",
       "_model_module_version": "2.0.0",
       "_model_name": "ProgressStyleModel",
       "_view_count": null,
       "_view_module": "@jupyter-widgets/base",
       "_view_module_version": "2.0.0",
       "_view_name": "StyleView",
       "bar_color": null,
       "description_width": ""
      }
     },
     "7a703f01e67d4b3890fed7470521b0cf": {
      "model_module": "@jupyter-widgets/controls",
      "model_module_version": "2.0.0",
      "model_name": "HTMLStyleModel",
      "state": {
       "_model_module": "@jupyter-widgets/controls",
       "_model_module_version": "2.0.0",
       "_model_name": "HTMLStyleModel",
       "_view_count": null,
       "_view_module": "@jupyter-widgets/base",
       "_view_module_version": "2.0.0",
       "_view_name": "StyleView",
       "background": null,
       "description_width": "",
       "font_size": null,
       "text_color": null
      }
     },
     "aaa3c2e390ed40f4bb46e50b0b326cc5": {
      "model_module": "@jupyter-widgets/controls",
      "model_module_version": "2.0.0",
      "model_name": "HTMLModel",
      "state": {
       "_dom_classes": [],
       "_model_module": "@jupyter-widgets/controls",
       "_model_module_version": "2.0.0",
       "_model_name": "HTMLModel",
       "_view_count": null,
       "_view_module": "@jupyter-widgets/controls",
       "_view_module_version": "2.0.0",
       "_view_name": "HTMLView",
       "description": "",
       "description_allow_html": false,
       "layout": "IPY_MODEL_368b888ee21245b6ad567130bba37b83",
       "placeholder": "​",
       "style": "IPY_MODEL_7a703f01e67d4b3890fed7470521b0cf",
       "tabbable": null,
       "tooltip": null,
       "value": "100%"
      }
     },
     "b86ca7d646e141c2b02befebf1a19897": {
      "model_module": "@jupyter-widgets/controls",
      "model_module_version": "2.0.0",
      "model_name": "HBoxModel",
      "state": {
       "_dom_classes": [],
       "_model_module": "@jupyter-widgets/controls",
       "_model_module_version": "2.0.0",
       "_model_name": "HBoxModel",
       "_view_count": null,
       "_view_module": "@jupyter-widgets/controls",
       "_view_module_version": "2.0.0",
       "_view_name": "HBoxView",
       "box_style": "",
       "children": [
        "IPY_MODEL_aaa3c2e390ed40f4bb46e50b0b326cc5",
        "IPY_MODEL_5a7b0096b48644b2861f2bb01ccee165",
        "IPY_MODEL_d5c365edb584429f988ee73f111d925b"
       ],
       "layout": "IPY_MODEL_4879ed8e5e874752bcd95ade4975be1e",
       "tabbable": null,
       "tooltip": null
      }
     },
     "d5c365edb584429f988ee73f111d925b": {
      "model_module": "@jupyter-widgets/controls",
      "model_module_version": "2.0.0",
      "model_name": "HTMLModel",
      "state": {
       "_dom_classes": [],
       "_model_module": "@jupyter-widgets/controls",
       "_model_module_version": "2.0.0",
       "_model_name": "HTMLModel",
       "_view_count": null,
       "_view_module": "@jupyter-widgets/controls",
       "_view_module_version": "2.0.0",
       "_view_name": "HTMLView",
       "description": "",
       "description_allow_html": false,
       "layout": "IPY_MODEL_fdf49900f5b64f8f8c41bb4d758fbe34",
       "placeholder": "​",
       "style": "IPY_MODEL_482c60603a6c41488c07ff7bfc337b7e",
       "tabbable": null,
       "tooltip": null,
       "value": " 3/3 [01:14&lt;00:00, 21.52s/it]"
      }
     },
     "fdf49900f5b64f8f8c41bb4d758fbe34": {
      "model_module": "@jupyter-widgets/base",
      "model_module_version": "2.0.0",
      "model_name": "LayoutModel",
      "state": {
       "_model_module": "@jupyter-widgets/base",
       "_model_module_version": "2.0.0",
       "_model_name": "LayoutModel",
       "_view_count": null,
       "_view_module": "@jupyter-widgets/base",
       "_view_module_version": "2.0.0",
       "_view_name": "LayoutView",
       "align_content": null,
       "align_items": null,
       "align_self": null,
       "border_bottom": null,
       "border_left": null,
       "border_right": null,
       "border_top": null,
       "bottom": null,
       "display": null,
       "flex": null,
       "flex_flow": null,
       "grid_area": null,
       "grid_auto_columns": null,
       "grid_auto_flow": null,
       "grid_auto_rows": null,
       "grid_column": null,
       "grid_gap": null,
       "grid_row": null,
       "grid_template_areas": null,
       "grid_template_columns": null,
       "grid_template_rows": null,
       "height": null,
       "justify_content": null,
       "justify_items": null,
       "left": null,
       "margin": null,
       "max_height": null,
       "max_width": null,
       "min_height": null,
       "min_width": null,
       "object_fit": null,
       "object_position": null,
       "order": null,
       "overflow": null,
       "padding": null,
       "right": null,
       "top": null,
       "visibility": null,
       "width": null
      }
     }
    },
    "version_major": 2,
    "version_minor": 0
   }
  }
 },
 "nbformat": 4,
 "nbformat_minor": 5
}