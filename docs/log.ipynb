{
 "cells": [
  {
   "cell_type": "markdown",
   "id": "92bcb855",
   "metadata": {
    "papermill": {
     "duration": 0.003976,
     "end_time": "2024-09-11T04:11:18.161168",
     "exception": false,
     "start_time": "2024-09-11T04:11:18.157192",
     "status": "completed"
    },
    "tags": []
   },
   "source": [
    "# MPIA Arxiv on Deck 2\n",
    "\n",
    "Contains the steps to produce the paper extractions."
   ]
  },
  {
   "cell_type": "code",
   "execution_count": 1,
   "id": "3a0d6e11",
   "metadata": {
    "execution": {
     "iopub.execute_input": "2024-09-11T04:11:18.168649Z",
     "iopub.status.busy": "2024-09-11T04:11:18.168366Z",
     "iopub.status.idle": "2024-09-11T04:11:18.514591Z",
     "shell.execute_reply": "2024-09-11T04:11:18.513954Z"
    },
    "papermill": {
     "duration": 0.35196,
     "end_time": "2024-09-11T04:11:18.516314",
     "exception": false,
     "start_time": "2024-09-11T04:11:18.164354",
     "status": "completed"
    },
    "tags": []
   },
   "outputs": [],
   "source": [
    "# Imports\n",
    "import os\n",
    "from IPython.display import Markdown, display\n",
    "from tqdm.notebook import tqdm\n",
    "import warnings\n",
    "from PIL import Image \n",
    "\n",
    "# requires arxiv_on_deck_2\n",
    "\n",
    "from arxiv_on_deck_2.arxiv2 import (get_new_papers, \n",
    "                                    get_paper_from_identifier,\n",
    "                                    retrieve_document_source, \n",
    "                                    get_markdown_badge)\n",
    "from arxiv_on_deck_2 import (latex,\n",
    "                             latex_bib,\n",
    "                             mpia,\n",
    "                             highlight_authors_in_list)\n",
    "\n",
    "# Sometimes images are really big\n",
    "Image.MAX_IMAGE_PIXELS = 1000000000 "
   ]
  },
  {
   "cell_type": "code",
   "execution_count": 2,
   "id": "22aa9d44",
   "metadata": {
    "execution": {
     "iopub.execute_input": "2024-09-11T04:11:18.523818Z",
     "iopub.status.busy": "2024-09-11T04:11:18.523319Z",
     "iopub.status.idle": "2024-09-11T04:11:18.528593Z",
     "shell.execute_reply": "2024-09-11T04:11:18.527970Z"
    },
    "papermill": {
     "duration": 0.010457,
     "end_time": "2024-09-11T04:11:18.529960",
     "exception": false,
     "start_time": "2024-09-11T04:11:18.519503",
     "status": "completed"
    },
    "tags": []
   },
   "outputs": [],
   "source": [
    "# Some useful definitions.\n",
    "\n",
    "class AffiliationWarning(UserWarning):\n",
    "    pass\n",
    "\n",
    "class AffiliationError(RuntimeError):\n",
    "    pass\n",
    "\n",
    "def validation(source: str):\n",
    "    \"\"\"Raises error paper during parsing of source file\n",
    "    \n",
    "    Allows checks before parsing TeX code.\n",
    "    \n",
    "    Raises AffiliationWarning\n",
    "    \"\"\"\n",
    "    check = mpia.affiliation_verifications(source, verbose=True)\n",
    "    if check is not True:\n",
    "        raise AffiliationError(\"mpia.affiliation_verifications: \" + check)\n",
    "\n",
    "        \n",
    "warnings.simplefilter('always', AffiliationWarning)\n",
    "\n",
    "\n",
    "def get_markdown_qrcode(paper_id: str):\n",
    "    \"\"\" Generate a qrcode to the arxiv page using qrserver.com\n",
    "    \n",
    "    :param paper: Arxiv paper\n",
    "    :returns: markdown text\n",
    "    \"\"\"\n",
    "    url = r\"https://api.qrserver.com/v1/create-qr-code/?size=100x100&data=\"\n",
    "    txt = f\"\"\"<img src={url}\"https://arxiv.org/abs/{paper_id}\">\"\"\"\n",
    "    txt = '<div id=\"qrcode\">' + txt + '</div>'\n",
    "    return txt"
   ]
  },
  {
   "cell_type": "markdown",
   "id": "14bd6310",
   "metadata": {
    "papermill": {
     "duration": 0.002823,
     "end_time": "2024-09-11T04:11:18.535729",
     "exception": false,
     "start_time": "2024-09-11T04:11:18.532906",
     "status": "completed"
    },
    "tags": []
   },
   "source": [
    "## get list of arxiv paper candidates\n",
    "\n",
    "We use the MPIA mitarbeiter list webpage from mpia.de to get author names\n",
    "We then get all new papers from Arxiv and match authors"
   ]
  },
  {
   "cell_type": "code",
   "execution_count": 3,
   "id": "7ea813a8",
   "metadata": {
    "execution": {
     "iopub.execute_input": "2024-09-11T04:11:18.542853Z",
     "iopub.status.busy": "2024-09-11T04:11:18.542398Z",
     "iopub.status.idle": "2024-09-11T04:11:36.485871Z",
     "shell.execute_reply": "2024-09-11T04:11:36.485132Z"
    },
    "papermill": {
     "duration": 17.949071,
     "end_time": "2024-09-11T04:11:36.487684",
     "exception": false,
     "start_time": "2024-09-11T04:11:18.538613",
     "status": "completed"
    },
    "tags": []
   },
   "outputs": [],
   "source": [
    "# deal with the author list and edge cases of people that cannot be consistent on their name  \n",
    "\n",
    "def filter_non_scientists(name: str) -> bool:\n",
    "    \"\"\" Loose filter on expected authorships\n",
    "\n",
    "    removing IT, administration, technical staff\n",
    "    :param name: name\n",
    "    :returns: False if name is not a scientist\n",
    "    \"\"\"\n",
    "    remove_list = ['Wolf', 'Licht', 'Binroth', 'Witzel', 'Jordan',\n",
    "                   'Zähringer', 'Scheerer', 'Hoffmann', 'Düe',\n",
    "                   'Hellmich', 'Enkler-Scharpegge', 'Witte-Nguy',\n",
    "                   'Dehen', 'Beckmann', 'Jager', 'Jäger'\n",
    "                  ]\n",
    "\n",
    "    for k in remove_list:\n",
    "        if k in name:\n",
    "            return False\n",
    "    return True\n",
    "\n",
    "def add_author_to_list(author_list: list) -> list:\n",
    "    \"\"\" Add author to list if not already in list\n",
    "    \n",
    "    :param author: author name\n",
    "    :param author_list: list of authors\n",
    "    :returns: updated list of authors\n",
    "    \"\"\"\n",
    "    add_list = ['T. Henning']\n",
    "\n",
    "    for author in add_list:\n",
    "        if author not in author_list:\n",
    "            author_list.append(author)\n",
    "    return author_list\n",
    "\n",
    "# get list from MPIA website\n",
    "# filter for non-scientists (mpia.get_mpia_mitarbeiter_list() does some filtering)\n",
    "mpia_authors = [k[1] for k in mpia.get_mpia_mitarbeiter_list() if filter_non_scientists(k[1])]\n",
    "# add some missing author because of inconsistencies in their MPIA name and author name on papers\n",
    "mpia_authors = add_author_to_list(mpia_authors)"
   ]
  },
  {
   "cell_type": "code",
   "execution_count": 4,
   "id": "2645e73a",
   "metadata": {
    "execution": {
     "iopub.execute_input": "2024-09-11T04:11:36.495289Z",
     "iopub.status.busy": "2024-09-11T04:11:36.495011Z",
     "iopub.status.idle": "2024-09-11T04:11:36.940382Z",
     "shell.execute_reply": "2024-09-11T04:11:36.939637Z"
    },
    "papermill": {
     "duration": 0.450811,
     "end_time": "2024-09-11T04:11:36.941746",
     "exception": false,
     "start_time": "2024-09-11T04:11:36.490935",
     "status": "completed"
    },
    "tags": []
   },
   "outputs": [
    {
     "name": "stdout",
     "output_type": "stream",
     "text": [
      "A. d. Graaff  ->  A. D. Graaff  |  ['A. D. Graaff']\n",
      "H.-W. Rix  ->  H.-W. Rix  |  ['H.-W. Rix']\n",
      "F. Walter  ->  F. Walter  |  ['F. Walter']\n",
      "X. Zhang  ->  X. Zhang  |  ['X. Zhang']\n",
      "H.-W. Rix  ->  H.-W. Rix  |  ['H.-W. Rix']\n",
      "Arxiv has 59 new papers today\n",
      "          4 with possible author matches\n"
     ]
    }
   ],
   "source": [
    "new_papers = get_new_papers()\n",
    "# add manual references\n",
    "add_paper_refs = []\n",
    "new_papers.extend([get_paper_from_identifier(k) for k in add_paper_refs])\n",
    "\n",
    "candidates = []\n",
    "for paperk in new_papers:\n",
    "    # Check author list with their initials\n",
    "    normed_author_list = [mpia.get_initials(k) for k in paperk['authors']]\n",
    "    hl_authors = highlight_authors_in_list(normed_author_list, mpia_authors, verbose=True)\n",
    "    matches = [(hl, orig) for hl, orig in zip(hl_authors, paperk['authors']) if 'mark' in hl]\n",
    "    paperk['authors'] = hl_authors\n",
    "    if matches:\n",
    "        # only select paper if an author matched our list\n",
    "        candidates.append(paperk)\n",
    "print(\"\"\"Arxiv has {0:,d} new papers today\"\"\".format(len(new_papers)))        \n",
    "print(\"\"\"          {0:,d} with possible author matches\"\"\".format(len(candidates)))"
   ]
  },
  {
   "cell_type": "markdown",
   "id": "3543b34a",
   "metadata": {
    "papermill": {
     "duration": 0.003096,
     "end_time": "2024-09-11T04:11:36.949174",
     "exception": false,
     "start_time": "2024-09-11T04:11:36.946078",
     "status": "completed"
    },
    "tags": []
   },
   "source": [
    "# Parse sources and generate relevant outputs\n",
    "\n",
    "From the candidates, we do the following steps:\n",
    "* get their tarball from ArXiv (and extract data)\n",
    "* find the main .tex file: find one with \\documentclass{...} (sometimes it's non trivial)\n",
    "* Check affiliations with :func:`validation`, which uses :func:`mpia.affiliation_verifications`\n",
    "* If passing the affiliations: we parse the .tex source\n",
    "   * inject sub-documents into the main (flatten the main document)\n",
    "   * parse structure, extract information (title, abstract, authors, figures...)\n",
    "   * handles `\\graphicspath` if provided\n",
    "* Generate the .md document."
   ]
  },
  {
   "cell_type": "code",
   "execution_count": 5,
   "id": "9576b79e",
   "metadata": {
    "execution": {
     "iopub.execute_input": "2024-09-11T04:11:36.956912Z",
     "iopub.status.busy": "2024-09-11T04:11:36.956335Z",
     "iopub.status.idle": "2024-09-11T04:12:25.377131Z",
     "shell.execute_reply": "2024-09-11T04:12:25.376388Z"
    },
    "papermill": {
     "duration": 48.427339,
     "end_time": "2024-09-11T04:12:25.379579",
     "exception": false,
     "start_time": "2024-09-11T04:11:36.952240",
     "status": "completed"
    },
    "scrolled": false,
    "tags": []
   },
   "outputs": [
    {
     "data": {
      "application/vnd.jupyter.widget-view+json": {
       "model_id": "2bb5784bca4847dd852f9ae571b57e29",
       "version_major": 2,
       "version_minor": 0
      },
      "text/plain": [
       "  0%|          | 0/4 [00:00<?, ?it/s]"
      ]
     },
     "metadata": {},
     "output_type": "display_data"
    },
    {
     "name": "stdout",
     "output_type": "stream",
     "text": [
      "Retrieving document from  https://arxiv.org/e-print/2409.05948\n",
      "extracting tarball to tmp_2409.05948..."
     ]
    },
    {
     "name": "stdout",
     "output_type": "stream",
     "text": [
      " done.\n"
     ]
    },
    {
     "name": "stdout",
     "output_type": "stream",
     "text": [
      "A. d. Graaff  ->  A. D. Graaff  |  ['A. D. Graaff']\n",
      "H.-W. Rix  ->  H.-W. Rix  |  ['H.-W. Rix']\n"
     ]
    },
    {
     "name": "stdout",
     "output_type": "stream",
     "text": [
      "Found 116 bibliographic references in tmp_2409.05948/main.bbl.\n",
      "Retrieving document from  https://arxiv.org/e-print/2409.06174\n"
     ]
    },
    {
     "name": "stdout",
     "output_type": "stream",
     "text": [
      "extracting tarball to tmp_2409.06174..."
     ]
    },
    {
     "name": "stdout",
     "output_type": "stream",
     "text": [
      " done.\n"
     ]
    },
    {
     "name": "stdout",
     "output_type": "stream",
     "text": [
      "F. Walter  ->  F. Walter  |  ['F. Walter']\n"
     ]
    },
    {
     "name": "stdout",
     "output_type": "stream",
     "text": [
      "Found 102 bibliographic references in tmp_2409.06174/ms.bbl.\n",
      "Error retrieving bib data for 2017ApJ...834...203: 'author'\n",
      "Error retrieving bib data for 2006ApJ...650...57: 'author'\n",
      "Retrieving document from  https://arxiv.org/e-print/2409.06258\n"
     ]
    },
    {
     "name": "stdout",
     "output_type": "stream",
     "text": [
      "extracting tarball to tmp_2409.06258..."
     ]
    },
    {
     "name": "stdout",
     "output_type": "stream",
     "text": [
      " done.\n",
      "Retrieving document from  https://arxiv.org/e-print/2409.06405\n"
     ]
    },
    {
     "name": "stdout",
     "output_type": "stream",
     "text": [
      "extracting tarball to tmp_2409.06405..."
     ]
    },
    {
     "name": "stdout",
     "output_type": "stream",
     "text": [
      " done.\n"
     ]
    },
    {
     "name": "stderr",
     "output_type": "stream",
     "text": [
      "/opt/hostedtoolcache/Python/3.9.19/x64/lib/python3.9/site-packages/IPython/core/interactiveshell.py:3550: LatexWarning: Multiple tex files.\n",
      "\n",
      "  exec(code_obj, self.user_global_ns, self.user_ns)\n",
      "/tmp/ipykernel_2701/1211882699.py:51: LatexWarning: 2409.06405 did not run properly\n",
      "'PosixPath' object is not subscriptable\n",
      "  warnings.warn(latex.LatexWarning(f\"{paper_id:s} did not run properly\\n\" +\n"
     ]
    }
   ],
   "source": [
    "documents = []\n",
    "failed = []\n",
    "for paper in tqdm(candidates):\n",
    "    # debug crap\n",
    "    paper['identifier'] = paper['identifier'].lower().replace('arxiv:', '').replace(r'\\n', '').strip()\n",
    "    paper_id = paper['identifier']\n",
    "    \n",
    "    folder = f'tmp_{paper_id}'\n",
    "\n",
    "    try:\n",
    "        if not os.path.isdir(folder):\n",
    "            folder = retrieve_document_source(f\"{paper_id}\", f'tmp_{paper_id}')\n",
    "        \n",
    "        try:\n",
    "            doc = latex.LatexDocument(folder, validation=validation)    \n",
    "        except AffiliationError as affilerror:\n",
    "            msg = f\"ArXiv:{paper_id:s} is not an MPIA paper... \" + str(affilerror)\n",
    "            failed.append((paper, \"affiliation error: \" + str(affilerror) ))\n",
    "            continue\n",
    "        \n",
    "        # Hack because sometimes author parsing does not work well\n",
    "        if (len(doc.authors) != len(paper['authors'])):\n",
    "            doc._authors = paper['authors']\n",
    "        else:\n",
    "            # highlight authors (FIXME: doc.highlight_authors)\n",
    "            # done on arxiv paper already\n",
    "            doc._authors = highlight_authors_in_list(\n",
    "                [mpia.get_initials(k) for k in doc.authors], \n",
    "                mpia_authors, verbose=True)\n",
    "        if (doc.abstract) in (None, ''):\n",
    "            doc._abstract = paper['abstract']\n",
    "            \n",
    "        doc.comment = (get_markdown_badge(paper_id) + \n",
    "                       \"<mark>Appeared on: \" + paper['date'] + \"</mark> - \")\n",
    "        if paper['comments']:\n",
    "            doc.comment += \" _\" + paper['comments'] + \"_\"\n",
    "        \n",
    "        full_md = doc.generate_markdown_text()\n",
    "        \n",
    "        full_md += get_markdown_qrcode(paper_id)\n",
    "        \n",
    "        # replace citations\n",
    "        try:\n",
    "            bibdata = latex_bib.LatexBib.from_doc(doc)\n",
    "            full_md = latex_bib.replace_citations(full_md, bibdata)\n",
    "        except Exception as e:\n",
    "            print(e)\n",
    "        \n",
    "        documents.append((paper_id, full_md))\n",
    "    except Exception as e:\n",
    "        warnings.warn(latex.LatexWarning(f\"{paper_id:s} did not run properly\\n\" +\n",
    "                                         str(e)\n",
    "                                        ))\n",
    "        failed.append((paper, \"latex error \" + str(e)))"
   ]
  },
  {
   "cell_type": "markdown",
   "id": "2505a25c",
   "metadata": {
    "papermill": {
     "duration": 0.003806,
     "end_time": "2024-09-11T04:12:25.387464",
     "exception": false,
     "start_time": "2024-09-11T04:12:25.383658",
     "status": "completed"
    },
    "tags": []
   },
   "source": [
    "### Export the logs\n",
    "\n",
    "Throughout, we also keep track of the logs per paper. see `logs-{today date}.md` "
   ]
  },
  {
   "cell_type": "code",
   "execution_count": 6,
   "id": "d733828a",
   "metadata": {
    "execution": {
     "iopub.execute_input": "2024-09-11T04:12:25.396809Z",
     "iopub.status.busy": "2024-09-11T04:12:25.396224Z",
     "iopub.status.idle": "2024-09-11T04:12:25.472032Z",
     "shell.execute_reply": "2024-09-11T04:12:25.471457Z"
    },
    "papermill": {
     "duration": 0.082088,
     "end_time": "2024-09-11T04:12:25.473395",
     "exception": false,
     "start_time": "2024-09-11T04:12:25.391307",
     "status": "completed"
    },
    "scrolled": false,
    "tags": []
   },
   "outputs": [
    {
     "data": {
      "text/markdown": [
       "## Successful papers"
      ],
      "text/plain": [
       "<IPython.core.display.Markdown object>"
      ]
     },
     "metadata": {},
     "output_type": "display_data"
    },
    {
     "data": {
      "text/markdown": [
       "\n",
       "|||\n",
       "|---:|:---|\n",
       "| [![arXiv](https://img.shields.io/badge/arXiv-2409.05948-b31b1b.svg)](https://arxiv.org/abs/2409.05948) | **RUBIES: a complete census of the bright and red distant Universe with JWST/NIRSpec**  |\n",
       "|| <mark>A. d. Graaff</mark>, et al. -- incl., <mark>H.-W. Rix</mark> |\n",
       "|*Appeared on*| *2024-09-11*|\n",
       "|*Comments*| *21 pages, 16 figures; submitted to A&A*|\n",
       "|**Abstract**|            We present the Red Unknowns: Bright Infrared Extragalactic Survey (RUBIES), providing JWST/NIRSpec spectroscopy of red sources selected across ~150 arcmin$^2$ from public JWST/NIRCam imaging in the UDS and EGS fields. RUBIES novel observing strategy offers a well-quantified selection function: the survey is optimised to reach high (>70%) completeness for bright and red (F150W-F444W>2) sources that are very rare. To place these rare sources in context, we simultaneously observe a reference sample of the 2<z<7 galaxy population, sampling sources at a rate that is inversely proportional to their number density in the 3D space of F444W magnitude, F150W-F444W colour, and photometric redshift. In total, RUBIES observes ~3000 targets across $1<z_{phot}<10$ with both the PRISM and G395M dispersers, and ~1500 targets at $z_{phot}>3$ using only the G395M disperser. The RUBIES data reveal a highly diverse population of red sources that span a broad redshift range ($z_{spec}\\sim1-9$), with photometric redshift scatter and outlier fraction that are 3 times higher than for similarly bright sources that are less red. This diversity is not apparent from the photometric SEDs. Only spectroscopy reveals that the SEDs encompass a mixture of galaxies with dust-obscured star formation, extreme line emission, a lack of star formation indicating early quenching, and luminous active galactic nuclei. As a first demonstration of our broader selection function we compare the stellar masses and rest-frame U-V colours of the red sources and our reference sample: red sources are typically more massive ($M_*\\sim10^{10-11.5} M_\\odot$) across all redshifts. However, we find that the most massive systems span a wide range in U-V colour. We describe our data reduction procedure and data quality, and publicly release the reduced RUBIES data and vetted spectroscopic redshifts of the first half of the survey through the DJA.         |"
      ],
      "text/plain": [
       "[2409.05948] RUBIES: a complete census of the bright and red distant Universe with JWST/NIRSpec\n",
       "\t<mark>A. d. Graaff</mark>, et al. -- incl., <mark>H.-W. Rix</mark>"
      ]
     },
     "metadata": {},
     "output_type": "display_data"
    },
    {
     "data": {
      "text/markdown": [
       "\n",
       "|||\n",
       "|---:|:---|\n",
       "| [![arXiv](https://img.shields.io/badge/arXiv-2409.06174-b31b1b.svg)](https://arxiv.org/abs/2409.06174) | **No Redshift Evolution in the Fe II/Mg II Flux Ratios of Quasars across Cosmic Time**  |\n",
       "|| D. Jiang, et al. -- incl., <mark>F. Walter</mark> |\n",
       "|*Appeared on*| *2024-09-11*|\n",
       "|*Comments*| *23 pages, 9 figures; Accepted for publication in ApJ. The online materials are available at this https URL*|\n",
       "|**Abstract**|            The Fe II/Mg II emission line flux ratio in quasar spectra serves as a proxy for the relative Fe to alpha-element abundances in the broad line regions of quasars. Due to the expected different enrichment timescales of the two elements, they can be used as a cosmic clock in the early Universe. We present a study of the Fe II/Mg II ratios in a sample of luminous quasars exploiting high-quality near-IR spectra taken primarily by the XQR-30 program with VLT XSHOOTER. These quasars have a median bolometric luminosity of log(L_bol[erg s^-1])~47.3 and cover a redshift range of z=6.0-6.6. The median value of the measured Fe II/Mg II ratios is ~7.9 with a normalized median absolute deviation of ~2.2. In order to trace the cosmic evolution of Fe II/Mg II in an unbiased manner, we select two comparison samples of quasars with similar luminosities and high-quality spectra from the literature, one at intermediate redshifts (z=3.5-4.8) and the other at low redshifts (z=1.0-2.0). We perform the same spectral analysis for all these quasars, including the usage of the same iron template, the same spectral fitting method, and the same wavelength fitting windows. We find no significant redshift evolution in the Fe II/Mg II ratio over the wide redshift range from z=1 to 6.6. The result is consistent with previous studies and supports the scenario of a rapid iron enrichment in the vicinity of accreting supermassive black holes at high redshift.         |"
      ],
      "text/plain": [
       "[2409.06174] No Redshift Evolution in the Fe II/Mg II Flux Ratios of Quasars across Cosmic Time\n",
       "\tD. Jiang, et al. -- incl., <mark>F. Walter</mark>"
      ]
     },
     "metadata": {},
     "output_type": "display_data"
    },
    {
     "data": {
      "text/markdown": [
       "## Failed papers"
      ],
      "text/plain": [
       "<IPython.core.display.Markdown object>"
      ]
     },
     "metadata": {},
     "output_type": "display_data"
    },
    {
     "data": {
      "text/markdown": [
       "\n",
       "|||\n",
       "|---:|:---|\n",
       "| [![arXiv](https://img.shields.io/badge/arXiv-2409.06258-b31b1b.svg)](https://arxiv.org/abs/2409.06258) | **Volatile-rich Sub-Neptunes as Hydrothermal Worlds: The Case of K2-18 b**  |\n",
       "|| C. N. Luu, et al. -- incl., <mark>X. Zhang</mark> |\n",
       "|*Appeared on*| *2024-09-11*|\n",
       "|*Comments*| *15 pages, 5 figures, 1 table*|\n",
       "|**Abstract**|            Temperate exoplanets between the sizes of Earth and Neptune, known as \"sub-Neptunes\", have emerged as intriguing targets for astrobiology. It is unknown whether these planets resemble Earth-like terrestrial worlds with a habitable surface, Neptune-like giant planets with deep atmospheres and no habitable surface, or something exotic in between. Recent JWST transmission spectroscopy observations of the canonical sub-Neptune K2-18 b revealed ~1% CH4, ~1% CO2, and a non-detection of CO in the atmosphere. While previous studies have proposed that the observed atmospheric composition could help constrain the lower atmosphere conditions and determine the interior structure of sub-Neptunes like K2-18 b, the possible interactions between the atmosphere and a hot, supercritical water ocean at its base remain unexplored. In this work, we investigate whether a global supercritical water ocean, resembling a planetary-scale hydrothermal system, can explain these observations on K2-18 b-like sub-Neptunes through equilibrium aqueous geochemical calculations. We find that the observed atmospheric CH4/CO2 ratio implies a minimum ocean temperature of ~715 K, whereas the corresponding CO/CO2 ratio allows ocean temperatures up to ~1060 K. These results indicate that a global supercritical water ocean on K2-18 b is plausible. While life cannot survive in this ocean, this work represents the first step towards understanding how a global supercritical water ocean may influence observable atmospheric characteristics on volatile-rich sub-Neptunes. Future observations with better constrained NH3 and CO mixing ratios could further help distinguish between possible interior compositions of K2-18 b.         |\n",
       "|<p style=\"color:green\"> **ERROR** </p>| <p style=\"color:green\">affiliation error: mpia.affiliation_verifications: 'Heidelberg' keyword not found.</p> |"
      ],
      "text/plain": [
       "<IPython.core.display.Markdown object>"
      ]
     },
     "metadata": {},
     "output_type": "display_data"
    },
    {
     "data": {
      "text/markdown": [
       "\n",
       "|||\n",
       "|---:|:---|\n",
       "| [![arXiv](https://img.shields.io/badge/arXiv-2409.06405-b31b1b.svg)](https://arxiv.org/abs/2409.06405) | **JADES: Measuring reionization properties using Lyman-alpha emission**  |\n",
       "|| G. C. Jones, et al. -- incl., <mark>H.-W. Rix</mark> |\n",
       "|*Appeared on*| *2024-09-11*|\n",
       "|*Comments*| *26 pages, 20 figures, submitted to MNRAS*|\n",
       "|**Abstract**|            Ly$\\alpha$ is the transition to the ground state from the first excited state of hydrogen (the most common element). Resonant scattering of this line by neutral hydrogen greatly impedes its emergence from galaxies, so the fraction of galaxies which show Ly$\\alpha$ is a tracer of the neutral fraction of the intergalactic medium (IGM), and thus the history of reionization. In previous works, we used early JWST/NIRSpec data from the JWST Advanced Deep Extragalactic Survey (JADES) to classify and characterise Ly$\\alpha$ emitting galaxies (LAEs). This survey is now approaching completion, and the current sample is nearly an order of magnitude larger. From a sample of 784 galaxies in JADES at $4.0<z<14.3$, we find evidence for Ly$\\alpha$ emission in 145 sources. We reproduce the previously found correlation between Ly$\\alpha$ escape fraction (\\fesc) - Ly$\\alpha$ rest-frame equivalent width (\\rew) and the negative correlation between Ly$\\alpha$ velocity offset - \\fesc. Both \\fesc and \\rew decrease with redshift ($z\\gtrsim5.5$), indicating the progression of reionization on a population scale. Our data are used to demonstrate an increasing IGM transmission of Ly$\\alpha$ from $z\\sim14-6$. We measure the completeness-corrected fraction of LAEs ($X_{Ly\\alpha}$) from $z=4-9.5$. An application of these $X_{Ly\\alpha}$ values to the results of cosmological models suggests a high neutral fraction at $z=7$ ($\\rm X_{HI}=0.81_{-0.10}^{+0.07}$), likely suggesting the need for models with updated \\rew distributions (based on comparison to other works). This large sample of LAEs and the completeness correction we have detailed will be paramount for unbiased population studies of galaxies in the EoR.         |\n",
       "|<p style=\"color:red\"> **ERROR** </p>| <p style=\"color:red\">latex error 'PosixPath' object is not subscriptable</p> |"
      ],
      "text/plain": [
       "<IPython.core.display.Markdown object>"
      ]
     },
     "metadata": {},
     "output_type": "display_data"
    }
   ],
   "source": [
    "import datetime\n",
    "today = str(datetime.date.today())\n",
    "logfile = f\"_build/html/logs/log-{today}.md\"\n",
    "\n",
    "\n",
    "with open(logfile, 'w') as logs:\n",
    "    # Success\n",
    "    logs.write(f'# Arxiv on Deck 2: Logs - {today}\\n\\n')\n",
    "    logs.write(\"\"\"* Arxiv had {0:,d} new papers\\n\"\"\".format(len(new_papers)))\n",
    "    logs.write(\"\"\"    * {0:,d} with possible author matches\\n\\n\"\"\".format(len(candidates)))\n",
    "    logs.write(\"## Sucessful papers\\n\\n\")\n",
    "    display(Markdown(\"## Successful papers\"))\n",
    "    success = [k[0] for k in documents]\n",
    "    for candid in candidates:\n",
    "        if candid['identifier'].split(':')[-1] in success:\n",
    "            display(candid)\n",
    "            logs.write(candid.generate_markdown_text() + '\\n\\n')\n",
    "\n",
    "    ## failed\n",
    "    logs.write(\"## Failed papers\\n\\n\")\n",
    "    display(Markdown(\"## Failed papers\"))\n",
    "    failed = sorted(failed, key=lambda x: x[1])\n",
    "    current_reason = \"\"\n",
    "    for paper, reason in failed:\n",
    "        if 'affiliation' in reason:\n",
    "            color = 'green'\n",
    "        else:\n",
    "            color = 'red'\n",
    "        data = Markdown(\n",
    "                paper.generate_markdown_text() + \n",
    "                f'\\n|<p style=\"color:{color:s}\"> **ERROR** </p>| <p style=\"color:{color:s}\">{reason:s}</p> |'\n",
    "               )\n",
    "        if reason != current_reason:\n",
    "            logs.write(f'### {reason:s} \\n\\n')\n",
    "            current_reason = reason\n",
    "        logs.write(data.data + '\\n\\n')\n",
    "        \n",
    "        # only display here the important errors (all in logs)\n",
    "        # if color in ('red',):\n",
    "        display(data)"
   ]
  },
  {
   "cell_type": "markdown",
   "id": "472d20ee",
   "metadata": {
    "papermill": {
     "duration": 0.004355,
     "end_time": "2024-09-11T04:12:25.482253",
     "exception": false,
     "start_time": "2024-09-11T04:12:25.477898",
     "status": "completed"
    },
    "tags": []
   },
   "source": [
    "## Export documents\n",
    "\n",
    "We now write the .md files and export relevant images"
   ]
  },
  {
   "cell_type": "code",
   "execution_count": 7,
   "id": "d426aed9",
   "metadata": {
    "execution": {
     "iopub.execute_input": "2024-09-11T04:12:25.492642Z",
     "iopub.status.busy": "2024-09-11T04:12:25.492179Z",
     "iopub.status.idle": "2024-09-11T04:12:25.499459Z",
     "shell.execute_reply": "2024-09-11T04:12:25.498773Z"
    },
    "papermill": {
     "duration": 0.014131,
     "end_time": "2024-09-11T04:12:25.500772",
     "exception": false,
     "start_time": "2024-09-11T04:12:25.486641",
     "status": "completed"
    },
    "tags": []
   },
   "outputs": [],
   "source": [
    "def export_markdown_summary(md: str, md_fname:str, directory: str):\n",
    "    \"\"\"Export MD document and associated relevant images\"\"\"\n",
    "    import os\n",
    "    import shutil\n",
    "    import re\n",
    "\n",
    "    if (os.path.exists(directory) and not os.path.isdir(directory)):\n",
    "        raise RuntimeError(f\"a non-directory file exists with name {directory:s}\")\n",
    "\n",
    "    if (not os.path.exists(directory)):\n",
    "        print(f\"creating directory {directory:s}\")\n",
    "        os.mkdir(directory)\n",
    "\n",
    "    fig_fnames = (re.compile(r'\\[Fig.*\\]\\((.*)\\)').findall(md) + \n",
    "                  re.compile(r'\\<img src=\"([^>\\s]*)\"[^>]*/>').findall(md))\n",
    "    print(\"found figures\", fig_fnames)\n",
    "    for fname in fig_fnames:\n",
    "        if 'http' in fname:\n",
    "            # No need to copy online figures\n",
    "            continue\n",
    "        if not os.path.exists(fname):\n",
    "            print(\"file not found\", fname)\n",
    "            continue\n",
    "        print(\"copying \", fname, \"to\", directory)\n",
    "        destdir = os.path.join(directory, os.path.dirname(fname))\n",
    "        destfname = os.path.join(destdir, os.path.basename(fname))\n",
    "        try:\n",
    "            os.makedirs(destdir)\n",
    "        except FileExistsError:\n",
    "            pass\n",
    "        shutil.copy(fname, destfname)\n",
    "    with open(os.path.join(directory, md_fname), 'w') as fout:\n",
    "        fout.write(md)\n",
    "    print(\"exported in \", os.path.join(directory, md_fname))\n",
    "    [print(\"    + \" + os.path.join(directory,fk)) for fk in fig_fnames]"
   ]
  },
  {
   "cell_type": "code",
   "execution_count": 8,
   "id": "014d04a4",
   "metadata": {
    "execution": {
     "iopub.execute_input": "2024-09-11T04:12:25.510970Z",
     "iopub.status.busy": "2024-09-11T04:12:25.510530Z",
     "iopub.status.idle": "2024-09-11T04:12:25.530138Z",
     "shell.execute_reply": "2024-09-11T04:12:25.529441Z"
    },
    "papermill": {
     "duration": 0.026313,
     "end_time": "2024-09-11T04:12:25.531584",
     "exception": false,
     "start_time": "2024-09-11T04:12:25.505271",
     "status": "completed"
    },
    "tags": []
   },
   "outputs": [
    {
     "name": "stdout",
     "output_type": "stream",
     "text": [
      "found figures ['tmp_2409.05948/./figures/zmag_f444w_completeness.png', 'tmp_2409.05948/./figures/egs_footprint.png', 'tmp_2409.05948/./figures/uds_footprint_nopoints_v4_new3a.png', 'tmp_2409.05948/./figures/redshift_comp_oiii_v3_3panel.png']\n",
      "copying  tmp_2409.05948/./figures/zmag_f444w_completeness.png to _build/html/\n",
      "copying  tmp_2409.05948/./figures/egs_footprint.png to _build/html/\n",
      "copying  tmp_2409.05948/./figures/uds_footprint_nopoints_v4_new3a.png to _build/html/\n",
      "copying  tmp_2409.05948/./figures/redshift_comp_oiii_v3_3panel.png to _build/html/\n",
      "exported in  _build/html/2409.05948.md\n",
      "    + _build/html/tmp_2409.05948/./figures/zmag_f444w_completeness.png\n",
      "    + _build/html/tmp_2409.05948/./figures/egs_footprint.png\n",
      "    + _build/html/tmp_2409.05948/./figures/uds_footprint_nopoints_v4_new3a.png\n",
      "    + _build/html/tmp_2409.05948/./figures/redshift_comp_oiii_v3_3panel.png\n",
      "found figures ['tmp_2409.06174/./fitted_spec_xqr30.png', 'tmp_2409.06174/./FeIIMgII_z.png', 'tmp_2409.06174/./fitted_spec_sdss.png']\n",
      "copying  tmp_2409.06174/./fitted_spec_xqr30.png to _build/html/\n",
      "copying  tmp_2409.06174/./FeIIMgII_z.png to _build/html/\n",
      "copying  tmp_2409.06174/./fitted_spec_sdss.png to _build/html/\n",
      "exported in  _build/html/2409.06174.md\n",
      "    + _build/html/tmp_2409.06174/./fitted_spec_xqr30.png\n",
      "    + _build/html/tmp_2409.06174/./FeIIMgII_z.png\n",
      "    + _build/html/tmp_2409.06174/./fitted_spec_sdss.png\n"
     ]
    }
   ],
   "source": [
    "for paper_id, md in documents:\n",
    "    export_markdown_summary(md, f\"{paper_id:s}.md\", '_build/html/')"
   ]
  },
  {
   "cell_type": "markdown",
   "id": "f087a0a7",
   "metadata": {
    "papermill": {
     "duration": 0.004407,
     "end_time": "2024-09-11T04:12:25.540636",
     "exception": false,
     "start_time": "2024-09-11T04:12:25.536229",
     "status": "completed"
    },
    "tags": []
   },
   "source": [
    "## Display the papers\n",
    "\n",
    "Not necessary but allows for a quick check."
   ]
  },
  {
   "cell_type": "code",
   "execution_count": 9,
   "id": "fd25f625",
   "metadata": {
    "execution": {
     "iopub.execute_input": "2024-09-11T04:12:25.550905Z",
     "iopub.status.busy": "2024-09-11T04:12:25.550429Z",
     "iopub.status.idle": "2024-09-11T04:12:25.556577Z",
     "shell.execute_reply": "2024-09-11T04:12:25.556032Z"
    },
    "papermill": {
     "duration": 0.012935,
     "end_time": "2024-09-11T04:12:25.557981",
     "exception": false,
     "start_time": "2024-09-11T04:12:25.545046",
     "status": "completed"
    },
    "scrolled": false,
    "tags": []
   },
   "outputs": [
    {
     "data": {
      "text/markdown": [
       "<div class=\"macros\" style=\"visibility:hidden;\">\n",
       "$\\newcommand{\\ensuremath}{}$\n",
       "$\\newcommand{\\xspace}{}$\n",
       "$\\newcommand{\\object}[1]{\\texttt{#1}}$\n",
       "$\\newcommand{\\farcs}{{.}''}$\n",
       "$\\newcommand{\\farcm}{{.}'}$\n",
       "$\\newcommand{\\arcsec}{''}$\n",
       "$\\newcommand{\\arcmin}{'}$\n",
       "$\\newcommand{\\ion}[2]{#1#2}$\n",
       "$\\newcommand{\\textsc}[1]{\\textrm{#1}}$\n",
       "$\\newcommand{\\hl}[1]{\\textrm{#1}}$\n",
       "$\\newcommand{\\footnote}[1]{}$\n",
       "$\\newcommand{\\kms}{\\rm km s^{-1}}$\n",
       "$\\newcommand{\\Msun}{\\rm M_\\odot}$\n",
       "$\\newcommand{\\zphot}{z_{\\rm phot}}$\n",
       "$\\newcommand{\\zspec}{z_{\\rm prism}}$\n",
       "$\\newcommand{\\re}{r_{\\rm e}}$\n",
       "$\\newcommand{\\rt}{r_{\\rm t}}$\n",
       "$\\newcommand{\\va}{v_{\\rm a}}$\n",
       "$\\newcommand{\\vc}{v_{\\rm circ}}$\n",
       "$\\newcommand{\\vdisp}{\\sigma_0}$\n",
       "$\\newcommand{\\Mdyn}{M_{\\rm dyn}}$\n",
       "$\\newcommand{\\Mgas}{M_{\\rm gas}}$\n",
       "$\\newcommand{\\Mbar}{M_{\\rm bar}}$\n",
       "$\\newcommand{\\micron}{\\rm \\mu m}$\n",
       "$\\newcommand{\\Oiii}{[O {\\sc iii}]\\xspace}$\n",
       "$\\newcommand{\\Nii}{[N {\\sc ii}]\\xspace}$\n",
       "$\\newcommand{\\Hb}{{\\rm H}\\beta\\xspace}$\n",
       "$\\newcommand{\\Ha}{{\\rm H}\\alpha\\xspace}$\n",
       "$\\newcommand{\\AG}[1]{{\\bf \\color{violet}{#1} }}$</div>\n",
       "\n",
       "\n",
       "\n",
       "<div id=\"title\">\n",
       "\n",
       "# RUBIES: a complete census of the bright and red distant Universe with JWST/NIRSpec  \n",
       "\n",
       "</div>\n",
       "<div id=\"comments\">\n",
       "\n",
       "[![arXiv](https://img.shields.io/badge/arXiv-2409.05948-b31b1b.svg)](https://arxiv.org/abs/2409.05948)<mark>Appeared on: 2024-09-11</mark> -  _21 pages, 16 figures; submitted to A&A_\n",
       "\n",
       "</div>\n",
       "<div id=\"authors\">\n",
       "\n",
       "<mark>A. d. Graaff</mark>, et al. -- incl., <mark>H.-W. Rix</mark>\n",
       "\n",
       "</div>\n",
       "<div id=\"abstract\">\n",
       "\n",
       "**Abstract:** We present the $*Red Unknowns: Bright Infrared Extragalactic Survey*$ (RUBIES), providing JWST/NIRSpec spectroscopy of red sources selected across $\\sim150$ arcmin $^2$ from public JWST/NIRCam imaging in the UDS and EGS fields. RUBIES novel observing strategy offers a well-quantified selection function: the survey is optimised to reach high ( $>70\\%$ ) spectroscopic completeness for bright and red ( $\\mathrm{F150W-F444W}>2$ ) sources that are very rare. To place these rare sources in context, we simultaneously observe a reference sample of the $2<z<7$ galaxy population, sampling sources at a rate that is inversely proportional to their number density in the 3D parameter space of F444W magnitude, $\\mathrm{F150W-F444W}$ colour, and photometric redshift. In total, RUBIES observes $\\sim3000$ targets across $1<z_{\\rm phot}<10$ with both the PRISM and G395M dispersers, and $\\sim1500$ targets at $z_\\mathrm{phot}>3$ using only the G395M disperser. The RUBIES data reveal a highly diverse population of red sources that span a broad redshift range ( $z_\\mathrm{spec}\\sim1-9$ ), with photometric redshift scatter and outlier fraction that are 3 times higher than for similarly bright sources that are less red. This diversity is not apparent from the photometric spectral energy distributions (SEDs). Only spectroscopy reveals that the SEDs encompass a mixture of galaxies with dust-obscured star formation, extreme line emission, a lack of star formation indicating early quenching, and luminous active galactic nuclei. As a first demonstration of our broader selection function we compare the stellar masses and rest-frame $U-V$ colours of the red sources and our reference sample: red sources are typically more massive ( $M_*\\sim10^{10-11.5} \\Msun$ ) across all redshifts. However, we also find that the most massive systems span a wide range in $U-V$ colour. We describe our data reduction procedure and data quality, and publicly release the reduced RUBIES data and vetted spectroscopic redshifts of the first half of the survey through the DAWN JWST Archive.\n",
       "\n",
       "</div>\n",
       "\n",
       "<div id=\"div_fig1\">\n",
       "\n",
       "<img src=\"tmp_2409.05948/./figures/zmag_f444w_completeness.png\" alt=\"Fig1\" width=\"100%\"/>\n",
       "\n",
       "**Figure 1. -** Distribution of photometric redshifts and F444W magnitudes of RUBIES targets for the PRISM (top) and G395M (bottom) observations. Colour coding shows the spectroscopic completeness in each bin: on the left this is computed as the fraction of targets in the RUBIES NIRSpec footprint that are observed. On the right this is calculated as the fraction of observed targets from the full parent catalogue (i.e. the total PRIMER and CEERS area, approximately double the area covered by RUBIES). The RUBIES selection function achieves high ($>50\\%$) spectroscopic targeting completeness for bright, high-redshift sources, even reaching $>70\\%$ in the extremes of the parameter space.  (*fig:zmag_completeness*)\n",
       "\n",
       "</div>\n",
       "<div id=\"div_fig2\">\n",
       "\n",
       "<img src=\"tmp_2409.05948/./figures/egs_footprint.png\" alt=\"Fig5.1\" width=\"50%\"/><img src=\"tmp_2409.05948/./figures/uds_footprint_nopoints_v4_new3a.png\" alt=\"Fig5.2\" width=\"50%\"/>\n",
       "\n",
       "**Figure 5. -** RUBIES footprint of 18 NIRSpec/MSA pointings in the UDS and EGS fields. Purple pointings correspond to the first half of observations in January-March 2024 and form the focus of the current data release. Background images show the NIRCam F444W image mosaics, primarily constructed from public imaging of the CEERS and PRIMER surveys. For the UDS we also show the outline of the PRIMER MIRI imaging footprint in pink. (*fig:footprint*)\n",
       "\n",
       "</div>\n",
       "<div id=\"div_fig3\">\n",
       "\n",
       "<img src=\"tmp_2409.05948/./figures/redshift_comp_oiii_v3_3panel.png\" alt=\"Fig11\" width=\"100%\"/>\n",
       "\n",
       "**Figure 11. -** Redshift and wavelength offset between the observed $\\Oiii$$\\lambda 5008$ emission lines measured from the PRISM and G395M spectra. Taking the G395M spectrum as `truth', we find a systematic offset of $\\Delta z\\sim 0.0044$ or $\\sim0.25$ detector pixel for the PRISM spectrum, which does not appear to depend significantly on wavelength (grey solid lines show the running median). The scatter can be partially explained by the larger uncertainty for fainter emission lines. In addition, the intrashutter position of the source (i.e. the spatial offset in the dispersion direction) also introduces wavelength offsets of up to 1 pixel, if the source is point-like and located at the edge of the shutter. In practice, high-redshift sources are (moderately) spatially extended, resulting in smaller offsets. We indeed find a correlation between the source position in the slit and the wavelength offset. (*fig:wave_offset*)\n",
       "\n",
       "</div><div id=\"qrcode\"><img src=https://api.qrserver.com/v1/create-qr-code/?size=100x100&data=\"https://arxiv.org/abs/2409.05948\"></div>"
      ],
      "text/plain": [
       "<IPython.core.display.Markdown object>"
      ]
     },
     "metadata": {},
     "output_type": "display_data"
    },
    {
     "data": {
      "text/markdown": [
       "<div class=\"macros\" style=\"visibility:hidden;\">\n",
       "$\\newcommand{\\ensuremath}{}$\n",
       "$\\newcommand{\\xspace}{}$\n",
       "$\\newcommand{\\object}[1]{\\texttt{#1}}$\n",
       "$\\newcommand{\\farcs}{{.}''}$\n",
       "$\\newcommand{\\farcm}{{.}'}$\n",
       "$\\newcommand{\\arcsec}{''}$\n",
       "$\\newcommand{\\arcmin}{'}$\n",
       "$\\newcommand{\\ion}[2]{#1#2}$\n",
       "$\\newcommand{\\textsc}[1]{\\textrm{#1}}$\n",
       "$\\newcommand{\\hl}[1]{\\textrm{#1}}$\n",
       "$\\newcommand{\\footnote}[1]{}$\n",
       "$\\newcommand{\\vdag}{(v)^\\dagger}$\n",
       "$\\newcommand$\n",
       "$\\newcommand$</div>\n",
       "\n",
       "\n",
       "\n",
       "<div id=\"title\">\n",
       "\n",
       "# No Redshift Evolution in the $\\ion{Fe}{2}$/$\\ion{Mg}{2}$ Flux Ratios of Quasars across Cosmic Time\n",
       "\n",
       "</div>\n",
       "<div id=\"comments\">\n",
       "\n",
       "[![arXiv](https://img.shields.io/badge/arXiv-2409.06174-b31b1b.svg)](https://arxiv.org/abs/2409.06174)<mark>Appeared on: 2024-09-11</mark> -  _23 pages, 9 figures; Accepted for publication in ApJ. The online materials are available at this https URL_\n",
       "\n",
       "</div>\n",
       "<div id=\"authors\">\n",
       "\n",
       "D. Jiang, et al. -- incl., <mark>F. Walter</mark>\n",
       "\n",
       "</div>\n",
       "<div id=\"abstract\">\n",
       "\n",
       "**Abstract:** The $\\ion{Fe}{2}$ / $\\ion{Mg}{2}$ emission line flux ratio in quasar spectra serves as a proxy for the relative Fe to $\\alpha$ -element abundances in the broad line regions of quasars. Due to the expected different enrichment timescales of the two elements, they can be used as a cosmic clock in the early Universe. We present a study of the $\\ion{Fe}{2}$ / $\\ion{Mg}{2}$ ratios in a sample of luminous quasars exploiting high-quality near-IR spectra taken primarily by the XQR-30 program with VLT XSHOOTER. These quasars have a median bolometric luminosity of log( $L_\\mathrm{bol}$ [ erg s $^{-1}$ ] ) $\\sim47.3$ and cover a redshift range of $z=6.0$ -- $6.6$ . The median value of the measured $\\ion{Fe}{2}$ / $\\ion{Mg}{2}$ ratios is $\\sim7.9$ with a normalized median absolute deviation of $\\sim2.2$ . In order to trace the cosmic evolution of $\\ion{Fe}{2}$ / $\\ion{Mg}{2}$ in an unbiased manner, we select two comparison samples of quasars with similar luminosities and high-quality spectra from the literature, one at intermediate redshifts ( $z=3.5$ -- $4.8$ ) and the other at low redshifts ( $z=1.0$ -- $2.0$ ).We perform the same spectral analysis for all these quasars, including the usage of the same iron template, the same spectral fitting method, and the same wavelength fitting windows.We find no significant redshift evolution in the $\\ion{Fe}{2}$ / $\\ion{Mg}{2}$ ratio over the wide redshift range from $z=1$ to 6.6. The result is consistent with previous studies and supports the scenario of a rapid iron enrichment in the vicinity of accreting supermassive black holes at high redshift.\n",
       "\n",
       "</div>\n",
       "\n",
       "<div id=\"div_fig1\">\n",
       "\n",
       "<img src=\"tmp_2409.06174/./fitted_spec_xqr30.png\" alt=\"Fig5\" width=\"100%\"/>\n",
       "\n",
       "**Figure 5. -** Spectral fitting for two representative spectra in the E-XQR-30 sample at $\\lambda_{\\rm rest}\\sim$$2100 - 3100$ Å.\n",
       "The heavy atmospheric absorption regions at 18,200--19,400 Å are masked out in the figure. In each panel, the color-coded lines show the power-law continuum plus Balmer continuum (PL + BC, orange), the Balmer continuum only (BC, brown), the scaled $\\ion${Fe}{2} template from 2006ApJ...650...57($\\ion${Fe}{2}, green), and the $\\ion${Mg}{2} emission line ($\\ion${Mg}{2}, blue). The red line shows the sum of all components (best-fit model). For each spectrum, the residual flux of the best-fit model with the $\\pm 1\\sigma$ observed errors (grey ranges) is shown in the lower sub-panel.\n",
       "We also smooth the errors and use the pink curves to indicate their boundaries.\n",
       "The full list of the spectra with the best-fit model fits are published as online figures, and the captions of the online figures are the same as the caption of this figure (but for different quasars).\n",
       " (*fig:fitted_spec_xqr30*)\n",
       "\n",
       "</div>\n",
       "<div id=\"div_fig2\">\n",
       "\n",
       "<img src=\"tmp_2409.06174/./FeIIMgII_z.png\" alt=\"Fig9\" width=\"100%\"/>\n",
       "\n",
       "**Figure 9. -** $\\ion${Fe}{2}/$\\ion${Mg}{2} line flux ratios at redshift from $z=0$ to $7$. The top panel shows the observed flux ratios. The middle panel shows the same ratios after correcting the Eddington ratio dependence (see details in Section \\ref{subsec:EddRatio_correlation}).\n",
       "The bottom panel shows the median and $\\pm1\\sigma$ scatter of each sample. The filled symbols show the samples analyzed in this work (red: E-XQR-30, green: XQ-100, blue: low-redshift SDSS), and the open symbols show the samples in the literature. The different colors and symbols are described in the legend on the top. The sub-panels in the lower right corners of the top and middle panels show the typical measurement errors in the logarithmic scale. The grey contours (with a step of 0.2 dex in the logarithmic scale) and grey dots represent the low-redshift sample of 2017ApJ...834...203. Their median $\\ion${Fe}{2}/$\\ion${Mg}{2} flux ratios at six redshift bins (a step of $\\Delta z=0.15$) are shown as the black crosses. Those with Eddington ratios over 0.9 are shown as the purple dots, and the median of this subsample is shown as the purple cross. The dashed line and its shaded region are the median value of the SDSS sample and its $\\pm1\\sigma$ range as our baseline at low redshift. The figure shows no apparent evolution of the line flux ratio with redshift.\n",
       " (*fig:FeIIMgII_z*)\n",
       "\n",
       "</div>\n",
       "<div id=\"div_fig3\">\n",
       "\n",
       "<img src=\"tmp_2409.06174/./fitted_spec_sdss.png\" alt=\"Fig7\" width=\"100%\"/>\n",
       "\n",
       "**Figure 7. -** Same as Figure \\ref{fig:fitted_spec_xqr30} but for the low-redshift SDSS sample.\n",
       "The smoothed errors are not shown for SDSS spectra.\n",
       "The $\\ion${Fe}{2}/$\\ion${Mg}{2} ratios of SDSS 081946.32+414247.2 (upper panel) and SDSS 113448.31+333105.2 (lower panel) are $4.31_{-0.10}^{+0.09}$ and $3.75_{-0.07}^{+0.06}$, respectively.\n",
       " (*fig:fitted_spec_sdss*)\n",
       "\n",
       "</div><div id=\"qrcode\"><img src=https://api.qrserver.com/v1/create-qr-code/?size=100x100&data=\"https://arxiv.org/abs/2409.06174\"></div>"
      ],
      "text/plain": [
       "<IPython.core.display.Markdown object>"
      ]
     },
     "metadata": {},
     "output_type": "display_data"
    }
   ],
   "source": [
    "[display(Markdown(k[1])) for k in documents];"
   ]
  },
  {
   "cell_type": "markdown",
   "id": "873873a4",
   "metadata": {
    "papermill": {
     "duration": 0.004753,
     "end_time": "2024-09-11T04:12:25.567728",
     "exception": false,
     "start_time": "2024-09-11T04:12:25.562975",
     "status": "completed"
    },
    "tags": []
   },
   "source": [
    "# Create HTML index"
   ]
  },
  {
   "cell_type": "code",
   "execution_count": 10,
   "id": "cf665672",
   "metadata": {
    "execution": {
     "iopub.execute_input": "2024-09-11T04:12:25.578761Z",
     "iopub.status.busy": "2024-09-11T04:12:25.578292Z",
     "iopub.status.idle": "2024-09-11T04:12:25.586176Z",
     "shell.execute_reply": "2024-09-11T04:12:25.585593Z"
    },
    "papermill": {
     "duration": 0.01504,
     "end_time": "2024-09-11T04:12:25.587517",
     "exception": false,
     "start_time": "2024-09-11T04:12:25.572477",
     "status": "completed"
    },
    "tags": []
   },
   "outputs": [
    {
     "name": "stdout",
     "output_type": "stream",
     "text": [
      "178  publications files modified in the last 7 days.\n"
     ]
    }
   ],
   "source": [
    "from datetime import datetime, timedelta, timezone\n",
    "from glob import glob\n",
    "import os\n",
    "\n",
    "files = glob('_build/html/*.md')\n",
    "days = 7\n",
    "now = datetime.today()\n",
    "res = []\n",
    "for fk in files:\n",
    "    stat_result = os.stat(fk).st_ctime\n",
    "    modified = datetime.fromtimestamp(stat_result, tz=timezone.utc).replace(tzinfo=None)\n",
    "    delta = now.today() - modified\n",
    "    if delta <= timedelta(days=days):\n",
    "        res.append((delta.seconds, fk))\n",
    "res = [k[1] for k in reversed(sorted(res, key=lambda x:x[1]))]\n",
    "npub = len(res)\n",
    "print(len(res), f\" publications files modified in the last {days:d} days.\")\n",
    "# [ print('\\t', k) for k in res ];"
   ]
  },
  {
   "cell_type": "code",
   "execution_count": 11,
   "id": "015de740",
   "metadata": {
    "execution": {
     "iopub.execute_input": "2024-09-11T04:12:25.599146Z",
     "iopub.status.busy": "2024-09-11T04:12:25.598675Z",
     "iopub.status.idle": "2024-09-11T04:12:25.613516Z",
     "shell.execute_reply": "2024-09-11T04:12:25.612879Z"
    },
    "papermill": {
     "duration": 0.022145,
     "end_time": "2024-09-11T04:12:25.614968",
     "exception": false,
     "start_time": "2024-09-11T04:12:25.592823",
     "status": "completed"
    },
    "tags": []
   },
   "outputs": [
    {
     "name": "stdout",
     "output_type": "stream",
     "text": [
      "7  publications in the last 7 days.\n"
     ]
    }
   ],
   "source": [
    "import datetime\n",
    "from glob import glob\n",
    "\n",
    "def get_last_n_days(lst, days=1):\n",
    "    \"\"\" Get the documents from the last n days \"\"\"\n",
    "    sorted_lst = sorted(lst, key=lambda x: x[1], reverse=True)\n",
    "    for fname, date in sorted_lst:\n",
    "        if date >= str(datetime.date.today() - datetime.timedelta(days=days)):\n",
    "            yield fname\n",
    "\n",
    "def extract_appearance_dates(lst_file):\n",
    "    dates = []\n",
    "\n",
    "    def get_date(line):\n",
    "        return line\\\n",
    "            .split('Appeared on:')[-1]\\\n",
    "            .split('</mark>')[0].strip()\n",
    "\n",
    "    for fname in lst:\n",
    "        with open(fname, 'r') as f:\n",
    "            found_date = False\n",
    "            for line in f:\n",
    "                if not found_date:\n",
    "                    if \"Appeared on\" in line:\n",
    "                        found_date = True\n",
    "                        dates.append((fname, get_date(line)))\n",
    "                else:\n",
    "                    break\n",
    "    return dates\n",
    "\n",
    "from glob import glob\n",
    "lst = glob('_build/html/*md')\n",
    "days = 7\n",
    "dates = extract_appearance_dates(lst)\n",
    "res = list(get_last_n_days(dates, days))\n",
    "npub = len(res)\n",
    "print(len(res), f\" publications in the last {days:d} days.\")"
   ]
  },
  {
   "cell_type": "code",
   "execution_count": 12,
   "id": "52ca0208",
   "metadata": {
    "execution": {
     "iopub.execute_input": "2024-09-11T04:12:25.626887Z",
     "iopub.status.busy": "2024-09-11T04:12:25.626406Z",
     "iopub.status.idle": "2024-09-11T04:12:25.631751Z",
     "shell.execute_reply": "2024-09-11T04:12:25.631045Z"
    },
    "papermill": {
     "duration": 0.012934,
     "end_time": "2024-09-11T04:12:25.633151",
     "exception": false,
     "start_time": "2024-09-11T04:12:25.620217",
     "status": "completed"
    },
    "scrolled": false,
    "tags": []
   },
   "outputs": [],
   "source": [
    "def create_carousel(npub=4):\n",
    "    \"\"\" Generate the HTML code for a carousel with `npub` slides \"\"\"\n",
    "    carousel = [\"\"\"  <div class=\"carousel\" \"\"\",\n",
    "                \"\"\"       data-flickity='{ \"autoPlay\": 10000, \"adaptiveHeight\": true, \"resize\": true, \"wrapAround\": true, \"pauseAutoPlayOnHover\": true, \"groupCells\": 1 }' id=\"asyncTypeset\">\"\"\"\n",
    "                ]\n",
    "    \n",
    "    item_str = \"\"\"    <div class=\"carousel-cell\"> <div id=\"slide{k}\" class=\"md_view\">Content {k}</div> </div>\"\"\"\n",
    "    for k in range(1, npub + 1):\n",
    "        carousel.append(item_str.format(k=k))\n",
    "    carousel.append(\"  </div>\")\n",
    "    return '\\n'.join(carousel)\n",
    "\n",
    "def create_grid(npub=4):\n",
    "    \"\"\" Generate the HTML code for a flat grid with `npub` slides \"\"\"\n",
    "    grid = [\"\"\"  <div class=\"grid\"> \"\"\",\n",
    "                ]\n",
    "    \n",
    "    item_str = \"\"\"    <div class=\"grid-item\"> <div id=\"slide{k}\" class=\"md_view\">Content {k}</div> </div>\"\"\"\n",
    "    for k in range(1, npub + 1):\n",
    "        grid.append(item_str.format(k=k))\n",
    "    grid.append(\"  </div>\")\n",
    "    return '\\n'.join(grid)"
   ]
  },
  {
   "cell_type": "code",
   "execution_count": 13,
   "id": "a6eac5b6",
   "metadata": {
    "execution": {
     "iopub.execute_input": "2024-09-11T04:12:25.644879Z",
     "iopub.status.busy": "2024-09-11T04:12:25.644431Z",
     "iopub.status.idle": "2024-09-11T04:12:25.649694Z",
     "shell.execute_reply": "2024-09-11T04:12:25.649161Z"
    },
    "papermill": {
     "duration": 0.012468,
     "end_time": "2024-09-11T04:12:25.650993",
     "exception": false,
     "start_time": "2024-09-11T04:12:25.638525",
     "status": "completed"
    },
    "scrolled": false,
    "tags": []
   },
   "outputs": [],
   "source": [
    "carousel = create_carousel(npub)\n",
    "docs = ', '.join(['\"{0:s}\"'.format(k.split('/')[-1]) for k in res])\n",
    "slides = ', '.join([f'\"slide{k}\"' for k in range(1, npub + 1)])\n",
    "\n",
    "with open(\"daily_template.html\", \"r\") as tpl:\n",
    "    page = tpl.read()\n",
    "    page = page.replace(\"{%-- carousel:s --%}\", carousel)\\\n",
    "               .replace(\"{%-- suptitle:s --%}\",  \"7-day archives\" )\\\n",
    "               .replace(\"{%-- docs:s --%}\", docs)\\\n",
    "               .replace(\"{%-- slides:s --%}\", slides)\n",
    "    \n",
    "with open(\"_build/html/index_7days.html\", 'w') as fout:\n",
    "    fout.write(page)"
   ]
  },
  {
   "cell_type": "code",
   "execution_count": 14,
   "id": "adc1a1ec",
   "metadata": {
    "execution": {
     "iopub.execute_input": "2024-09-11T04:12:25.662631Z",
     "iopub.status.busy": "2024-09-11T04:12:25.662163Z",
     "iopub.status.idle": "2024-09-11T04:12:25.668838Z",
     "shell.execute_reply": "2024-09-11T04:12:25.668186Z"
    },
    "papermill": {
     "duration": 0.01401,
     "end_time": "2024-09-11T04:12:25.670183",
     "exception": false,
     "start_time": "2024-09-11T04:12:25.656173",
     "status": "completed"
    },
    "tags": []
   },
   "outputs": [
    {
     "name": "stdout",
     "output_type": "stream",
     "text": [
      "2  publications in the last day.\n"
     ]
    }
   ],
   "source": [
    "# redo for today\n",
    "days = 1\n",
    "res = list(get_last_n_days(dates, days))\n",
    "npub = len(res)\n",
    "print(len(res), f\" publications in the last day.\")\n",
    "\n",
    "carousel = create_carousel(npub)\n",
    "docs = ', '.join(['\"{0:s}\"'.format(k.split('/')[-1]) for k in res])\n",
    "slides = ', '.join([f'\"slide{k}\"' for k in range(1, npub + 1)])\n",
    "\n",
    "with open(\"daily_template.html\", \"r\") as tpl:\n",
    "    page = tpl.read()\n",
    "    page = page.replace(\"{%-- carousel:s --%}\", carousel)\\\n",
    "               .replace(\"{%-- suptitle:s --%}\",  \"Daily\" )\\\n",
    "               .replace(\"{%-- docs:s --%}\", docs)\\\n",
    "               .replace(\"{%-- slides:s --%}\", slides)\n",
    "    \n",
    "# print(carousel, docs, slides)\n",
    "# print(page)\n",
    "with open(\"_build/html/index_daily.html\", 'w') as fout:\n",
    "    fout.write(page)"
   ]
  },
  {
   "cell_type": "code",
   "execution_count": 15,
   "id": "00eece82",
   "metadata": {
    "execution": {
     "iopub.execute_input": "2024-09-11T04:12:25.682306Z",
     "iopub.status.busy": "2024-09-11T04:12:25.681821Z",
     "iopub.status.idle": "2024-09-11T04:12:25.688788Z",
     "shell.execute_reply": "2024-09-11T04:12:25.688151Z"
    },
    "papermill": {
     "duration": 0.014624,
     "end_time": "2024-09-11T04:12:25.690128",
     "exception": false,
     "start_time": "2024-09-11T04:12:25.675504",
     "status": "completed"
    },
    "scrolled": false,
    "tags": []
   },
   "outputs": [
    {
     "name": "stdout",
     "output_type": "stream",
     "text": [
      "6  6 publications selected.\n"
     ]
    }
   ],
   "source": [
    "# Create the flat grid of the last N papers (fixed number regardless of dates)\n",
    "from itertools import islice \n",
    "\n",
    "npub = 6\n",
    "res = [k[0] for k in (islice(reversed(sorted(dates, key=lambda x: x[1])), 6))]\n",
    "print(len(res), f\" {npub} publications selected.\")\n",
    "\n",
    "grid = create_grid(npub)\n",
    "docs = ', '.join(['\"{0:s}\"'.format(k.split('/')[-1]) for k in res])\n",
    "slides = ', '.join([f'\"slide{k}\"' for k in range(1, npub + 1)])\n",
    "\n",
    "with open(\"grid_template.html\", \"r\") as tpl:\n",
    "    page = tpl.read()\n",
    "    page = page.replace(\"{%-- grid-content:s --%}\", grid)\\\n",
    "               .replace(\"{%-- suptitle:s --%}\",  f\"Last {npub:,d} papers\" )\\\n",
    "               .replace(\"{%-- docs:s --%}\", docs)\\\n",
    "               .replace(\"{%-- slides:s --%}\", slides)\n",
    "    \n",
    "# print(grid, docs, slides)\n",
    "# print(page)\n",
    "with open(\"_build/html/index_npub_grid.html\", 'w') as fout:\n",
    "    fout.write(page)"
   ]
  }
 ],
 "metadata": {
  "kernelspec": {
   "display_name": "Python 3 (ipykernel)",
   "language": "python",
   "name": "python3"
  },
  "language_info": {
   "codemirror_mode": {
    "name": "ipython",
    "version": 3
   },
   "file_extension": ".py",
   "mimetype": "text/x-python",
   "name": "python",
   "nbconvert_exporter": "python",
   "pygments_lexer": "ipython3",
   "version": "3.9.19"
  },
  "papermill": {
   "default_parameters": {},
   "duration": 68.683362,
   "end_time": "2024-09-11T04:12:25.912537",
   "environment_variables": {},
   "exception": null,
   "input_path": "MPIA daily digest.ipynb",
   "output_path": "log.ipynb",
   "parameters": {},
   "start_time": "2024-09-11T04:11:17.229175",
   "version": "2.6.0"
  },
  "vscode": {
   "interpreter": {
    "hash": "aee8b7b246df8f9039afb4144a1f6fd8d2ca17a180786b69acc140d282b71a49"
   }
  },
  "widgets": {
   "application/vnd.jupyter.widget-state+json": {
    "state": {
     "2bb5784bca4847dd852f9ae571b57e29": {
      "model_module": "@jupyter-widgets/controls",
      "model_module_version": "2.0.0",
      "model_name": "HBoxModel",
      "state": {
       "_dom_classes": [],
       "_model_module": "@jupyter-widgets/controls",
       "_model_module_version": "2.0.0",
       "_model_name": "HBoxModel",
       "_view_count": null,
       "_view_module": "@jupyter-widgets/controls",
       "_view_module_version": "2.0.0",
       "_view_name": "HBoxView",
       "box_style": "",
       "children": [
        "IPY_MODEL_8946851c1aaa473080b1a4c3f3fbc900",
        "IPY_MODEL_cf5d3712e0b54f309ef0c04127408201",
        "IPY_MODEL_7621aba2e7544996a8e4def8decb53e9"
       ],
       "layout": "IPY_MODEL_be8bee442c6348fd950ba41091f2586b",
       "tabbable": null,
       "tooltip": null
      }
     },
     "3c7714a8b2714d0d97585fde5d5727d2": {
      "model_module": "@jupyter-widgets/controls",
      "model_module_version": "2.0.0",
      "model_name": "HTMLStyleModel",
      "state": {
       "_model_module": "@jupyter-widgets/controls",
       "_model_module_version": "2.0.0",
       "_model_name": "HTMLStyleModel",
       "_view_count": null,
       "_view_module": "@jupyter-widgets/base",
       "_view_module_version": "2.0.0",
       "_view_name": "StyleView",
       "background": null,
       "description_width": "",
       "font_size": null,
       "text_color": null
      }
     },
     "6f65fad91e63456eb59a52d95892a71a": {
      "model_module": "@jupyter-widgets/base",
      "model_module_version": "2.0.0",
      "model_name": "LayoutModel",
      "state": {
       "_model_module": "@jupyter-widgets/base",
       "_model_module_version": "2.0.0",
       "_model_name": "LayoutModel",
       "_view_count": null,
       "_view_module": "@jupyter-widgets/base",
       "_view_module_version": "2.0.0",
       "_view_name": "LayoutView",
       "align_content": null,
       "align_items": null,
       "align_self": null,
       "border_bottom": null,
       "border_left": null,
       "border_right": null,
       "border_top": null,
       "bottom": null,
       "display": null,
       "flex": null,
       "flex_flow": null,
       "grid_area": null,
       "grid_auto_columns": null,
       "grid_auto_flow": null,
       "grid_auto_rows": null,
       "grid_column": null,
       "grid_gap": null,
       "grid_row": null,
       "grid_template_areas": null,
       "grid_template_columns": null,
       "grid_template_rows": null,
       "height": null,
       "justify_content": null,
       "justify_items": null,
       "left": null,
       "margin": null,
       "max_height": null,
       "max_width": null,
       "min_height": null,
       "min_width": null,
       "object_fit": null,
       "object_position": null,
       "order": null,
       "overflow": null,
       "padding": null,
       "right": null,
       "top": null,
       "visibility": null,
       "width": null
      }
     },
     "7621aba2e7544996a8e4def8decb53e9": {
      "model_module": "@jupyter-widgets/controls",
      "model_module_version": "2.0.0",
      "model_name": "HTMLModel",
      "state": {
       "_dom_classes": [],
       "_model_module": "@jupyter-widgets/controls",
       "_model_module_version": "2.0.0",
       "_model_name": "HTMLModel",
       "_view_count": null,
       "_view_module": "@jupyter-widgets/controls",
       "_view_module_version": "2.0.0",
       "_view_name": "HTMLView",
       "description": "",
       "description_allow_html": false,
       "layout": "IPY_MODEL_ae70fa0ca0f54ac68b7e772961fb99bc",
       "placeholder": "​",
       "style": "IPY_MODEL_f97fea1fb83e4b2ca3be4ca79bc6e72d",
       "tabbable": null,
       "tooltip": null,
       "value": " 4/4 [00:48&lt;00:00,  9.41s/it]"
      }
     },
     "8946851c1aaa473080b1a4c3f3fbc900": {
      "model_module": "@jupyter-widgets/controls",
      "model_module_version": "2.0.0",
      "model_name": "HTMLModel",
      "state": {
       "_dom_classes": [],
       "_model_module": "@jupyter-widgets/controls",
       "_model_module_version": "2.0.0",
       "_model_name": "HTMLModel",
       "_view_count": null,
       "_view_module": "@jupyter-widgets/controls",
       "_view_module_version": "2.0.0",
       "_view_name": "HTMLView",
       "description": "",
       "description_allow_html": false,
       "layout": "IPY_MODEL_98754222195e4a86b93ec3691ba30716",
       "placeholder": "​",
       "style": "IPY_MODEL_3c7714a8b2714d0d97585fde5d5727d2",
       "tabbable": null,
       "tooltip": null,
       "value": "100%"
      }
     },
     "98754222195e4a86b93ec3691ba30716": {
      "model_module": "@jupyter-widgets/base",
      "model_module_version": "2.0.0",
      "model_name": "LayoutModel",
      "state": {
       "_model_module": "@jupyter-widgets/base",
       "_model_module_version": "2.0.0",
       "_model_name": "LayoutModel",
       "_view_count": null,
       "_view_module": "@jupyter-widgets/base",
       "_view_module_version": "2.0.0",
       "_view_name": "LayoutView",
       "align_content": null,
       "align_items": null,
       "align_self": null,
       "border_bottom": null,
       "border_left": null,
       "border_right": null,
       "border_top": null,
       "bottom": null,
       "display": null,
       "flex": null,
       "flex_flow": null,
       "grid_area": null,
       "grid_auto_columns": null,
       "grid_auto_flow": null,
       "grid_auto_rows": null,
       "grid_column": null,
       "grid_gap": null,
       "grid_row": null,
       "grid_template_areas": null,
       "grid_template_columns": null,
       "grid_template_rows": null,
       "height": null,
       "justify_content": null,
       "justify_items": null,
       "left": null,
       "margin": null,
       "max_height": null,
       "max_width": null,
       "min_height": null,
       "min_width": null,
       "object_fit": null,
       "object_position": null,
       "order": null,
       "overflow": null,
       "padding": null,
       "right": null,
       "top": null,
       "visibility": null,
       "width": null
      }
     },
     "ae70fa0ca0f54ac68b7e772961fb99bc": {
      "model_module": "@jupyter-widgets/base",
      "model_module_version": "2.0.0",
      "model_name": "LayoutModel",
      "state": {
       "_model_module": "@jupyter-widgets/base",
       "_model_module_version": "2.0.0",
       "_model_name": "LayoutModel",
       "_view_count": null,
       "_view_module": "@jupyter-widgets/base",
       "_view_module_version": "2.0.0",
       "_view_name": "LayoutView",
       "align_content": null,
       "align_items": null,
       "align_self": null,
       "border_bottom": null,
       "border_left": null,
       "border_right": null,
       "border_top": null,
       "bottom": null,
       "display": null,
       "flex": null,
       "flex_flow": null,
       "grid_area": null,
       "grid_auto_columns": null,
       "grid_auto_flow": null,
       "grid_auto_rows": null,
       "grid_column": null,
       "grid_gap": null,
       "grid_row": null,
       "grid_template_areas": null,
       "grid_template_columns": null,
       "grid_template_rows": null,
       "height": null,
       "justify_content": null,
       "justify_items": null,
       "left": null,
       "margin": null,
       "max_height": null,
       "max_width": null,
       "min_height": null,
       "min_width": null,
       "object_fit": null,
       "object_position": null,
       "order": null,
       "overflow": null,
       "padding": null,
       "right": null,
       "top": null,
       "visibility": null,
       "width": null
      }
     },
     "be8bee442c6348fd950ba41091f2586b": {
      "model_module": "@jupyter-widgets/base",
      "model_module_version": "2.0.0",
      "model_name": "LayoutModel",
      "state": {
       "_model_module": "@jupyter-widgets/base",
       "_model_module_version": "2.0.0",
       "_model_name": "LayoutModel",
       "_view_count": null,
       "_view_module": "@jupyter-widgets/base",
       "_view_module_version": "2.0.0",
       "_view_name": "LayoutView",
       "align_content": null,
       "align_items": null,
       "align_self": null,
       "border_bottom": null,
       "border_left": null,
       "border_right": null,
       "border_top": null,
       "bottom": null,
       "display": null,
       "flex": null,
       "flex_flow": null,
       "grid_area": null,
       "grid_auto_columns": null,
       "grid_auto_flow": null,
       "grid_auto_rows": null,
       "grid_column": null,
       "grid_gap": null,
       "grid_row": null,
       "grid_template_areas": null,
       "grid_template_columns": null,
       "grid_template_rows": null,
       "height": null,
       "justify_content": null,
       "justify_items": null,
       "left": null,
       "margin": null,
       "max_height": null,
       "max_width": null,
       "min_height": null,
       "min_width": null,
       "object_fit": null,
       "object_position": null,
       "order": null,
       "overflow": null,
       "padding": null,
       "right": null,
       "top": null,
       "visibility": null,
       "width": null
      }
     },
     "cf5d3712e0b54f309ef0c04127408201": {
      "model_module": "@jupyter-widgets/controls",
      "model_module_version": "2.0.0",
      "model_name": "FloatProgressModel",
      "state": {
       "_dom_classes": [],
       "_model_module": "@jupyter-widgets/controls",
       "_model_module_version": "2.0.0",
       "_model_name": "FloatProgressModel",
       "_view_count": null,
       "_view_module": "@jupyter-widgets/controls",
       "_view_module_version": "2.0.0",
       "_view_name": "ProgressView",
       "bar_style": "success",
       "description": "",
       "description_allow_html": false,
       "layout": "IPY_MODEL_6f65fad91e63456eb59a52d95892a71a",
       "max": 4.0,
       "min": 0.0,
       "orientation": "horizontal",
       "style": "IPY_MODEL_d5073d8f03224ab691fc24ff585de27b",
       "tabbable": null,
       "tooltip": null,
       "value": 4.0
      }
     },
     "d5073d8f03224ab691fc24ff585de27b": {
      "model_module": "@jupyter-widgets/controls",
      "model_module_version": "2.0.0",
      "model_name": "ProgressStyleModel",
      "state": {
       "_model_module": "@jupyter-widgets/controls",
       "_model_module_version": "2.0.0",
       "_model_name": "ProgressStyleModel",
       "_view_count": null,
       "_view_module": "@jupyter-widgets/base",
       "_view_module_version": "2.0.0",
       "_view_name": "StyleView",
       "bar_color": null,
       "description_width": ""
      }
     },
     "f97fea1fb83e4b2ca3be4ca79bc6e72d": {
      "model_module": "@jupyter-widgets/controls",
      "model_module_version": "2.0.0",
      "model_name": "HTMLStyleModel",
      "state": {
       "_model_module": "@jupyter-widgets/controls",
       "_model_module_version": "2.0.0",
       "_model_name": "HTMLStyleModel",
       "_view_count": null,
       "_view_module": "@jupyter-widgets/base",
       "_view_module_version": "2.0.0",
       "_view_name": "StyleView",
       "background": null,
       "description_width": "",
       "font_size": null,
       "text_color": null
      }
     }
    },
    "version_major": 2,
    "version_minor": 0
   }
  }
 },
 "nbformat": 4,
 "nbformat_minor": 5
}