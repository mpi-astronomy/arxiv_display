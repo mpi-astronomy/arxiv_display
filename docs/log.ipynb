{
 "cells": [
  {
   "cell_type": "markdown",
   "id": "92bcb855",
   "metadata": {
    "papermill": {
     "duration": 0.003816,
     "end_time": "2025-09-09T04:13:36.757252",
     "exception": false,
     "start_time": "2025-09-09T04:13:36.753436",
     "status": "completed"
    },
    "tags": []
   },
   "source": [
    "# MPIA Arxiv on Deck 2\n",
    "\n",
    "Contains the steps to produce the paper extractions."
   ]
  },
  {
   "cell_type": "code",
   "execution_count": 1,
   "id": "3a0d6e11",
   "metadata": {
    "execution": {
     "iopub.execute_input": "2025-09-09T04:13:36.764129Z",
     "iopub.status.busy": "2025-09-09T04:13:36.763923Z",
     "iopub.status.idle": "2025-09-09T04:13:36.965758Z",
     "shell.execute_reply": "2025-09-09T04:13:36.965110Z"
    },
    "papermill": {
     "duration": 0.206605,
     "end_time": "2025-09-09T04:13:36.967081",
     "exception": false,
     "start_time": "2025-09-09T04:13:36.760476",
     "status": "completed"
    },
    "tags": []
   },
   "outputs": [],
   "source": [
    "# Imports\n",
    "import os\n",
    "from IPython.display import Markdown, display\n",
    "from tqdm.notebook import tqdm\n",
    "import warnings\n",
    "from PIL import Image \n",
    "import re\n",
    "\n",
    "# requires arxiv_on_deck_2\n",
    "\n",
    "from arxiv_on_deck_2.arxiv2 import (get_new_papers, \n",
    "                                    get_paper_from_identifier,\n",
    "                                    retrieve_document_source, \n",
    "                                    get_markdown_badge)\n",
    "from arxiv_on_deck_2 import (latex,\n",
    "                             latex_bib,\n",
    "                             mpia,\n",
    "                             highlight_authors_in_list)\n",
    "\n",
    "# Sometimes images are really big\n",
    "Image.MAX_IMAGE_PIXELS = 1000000000 "
   ]
  },
  {
   "cell_type": "code",
   "execution_count": 2,
   "id": "22aa9d44",
   "metadata": {
    "execution": {
     "iopub.execute_input": "2025-09-09T04:13:36.974309Z",
     "iopub.status.busy": "2025-09-09T04:13:36.974059Z",
     "iopub.status.idle": "2025-09-09T04:13:36.981986Z",
     "shell.execute_reply": "2025-09-09T04:13:36.981301Z"
    },
    "papermill": {
     "duration": 0.012587,
     "end_time": "2025-09-09T04:13:36.983042",
     "exception": false,
     "start_time": "2025-09-09T04:13:36.970455",
     "status": "completed"
    },
    "tags": []
   },
   "outputs": [],
   "source": [
    "# Some useful definitions.\n",
    "\n",
    "class AffiliationWarning(UserWarning):\n",
    "    pass\n",
    "\n",
    "class AffiliationError(RuntimeError):\n",
    "    pass\n",
    "\n",
    "def validation(source: str):\n",
    "    \"\"\"Raises error paper during parsing of source file\n",
    "    \n",
    "    Allows checks before parsing TeX code.\n",
    "    \n",
    "    Raises AffiliationWarning\n",
    "    \"\"\"\n",
    "    check = mpia.affiliation_verifications(source, verbose=True)\n",
    "    if check is not True:\n",
    "        raise AffiliationError(\"mpia.affiliation_verifications: \" + check)\n",
    "\n",
    "        \n",
    "warnings.simplefilter('always', AffiliationWarning)\n",
    "\n",
    "\n",
    "def get_markdown_qrcode(paper_id: str):\n",
    "    \"\"\" Generate a qrcode to the arxiv page using qrserver.com\n",
    "    \n",
    "    :param paper: Arxiv paper\n",
    "    :returns: markdown text\n",
    "    \"\"\"\n",
    "    url = r\"https://api.qrserver.com/v1/create-qr-code/?size=100x100&data=\"\n",
    "    txt = f\"\"\"<img src={url}\"https://arxiv.org/abs/{paper_id}\">\"\"\"\n",
    "    txt = '<div id=\"qrcode\">' + txt + '</div>'\n",
    "    return txt\n",
    "\n",
    "\n",
    "def clean_non_western_encoded_characters_commands(text: str) -> str:\n",
    "    \"\"\" Remove non-western encoded characters from a string\n",
    "    List may need to grow.\n",
    "    \n",
    "    :param text: the text to clean\n",
    "    :return: the cleaned text\n",
    "    \"\"\"\n",
    "    text = re.sub(r\"(\\\\begin{CJK}{UTF8}{gbsn})(.*?)(\\\\end{CJK})\", r\"\\2\", text)\n",
    "    return text\n",
    "\n",
    "\n",
    "def get_initials(name: str) -> str:\n",
    "    \"\"\" Get the short name, e.g., A.-B. FamName\n",
    "    :param name: full name\n",
    "    :returns: initials\n",
    "    \"\"\"\n",
    "    initials = []\n",
    "    # account for non western names often in ()\n",
    "    if '(' in name:\n",
    "        name = clean_non_western_encoded_characters_commands(name)\n",
    "        suffix = re.findall(r\"\\((.*?)\\)\", name)[0]\n",
    "        name = name.replace(f\"({suffix})\", '')\n",
    "    else:\n",
    "        suffix = ''\n",
    "    split = name.split()\n",
    "    for token in split[:-1]:\n",
    "        if '-' in token:\n",
    "            current = '-'.join([k[0] + '.' for k in token.split('-')])\n",
    "        else:\n",
    "            current = token[0] + '.'\n",
    "        initials.append(current)\n",
    "    initials.append(split[-1].strip())\n",
    "    if suffix:\n",
    "        initials.append(f\"({suffix})\")\n",
    "    return ' '.join(initials)"
   ]
  },
  {
   "cell_type": "markdown",
   "id": "14bd6310",
   "metadata": {
    "papermill": {
     "duration": 0.002865,
     "end_time": "2025-09-09T04:13:36.988890",
     "exception": false,
     "start_time": "2025-09-09T04:13:36.986025",
     "status": "completed"
    },
    "tags": []
   },
   "source": [
    "## get list of arxiv paper candidates\n",
    "\n",
    "We use the MPIA mitarbeiter list webpage from mpia.de to get author names\n",
    "We then get all new papers from Arxiv and match authors"
   ]
  },
  {
   "cell_type": "code",
   "execution_count": 3,
   "id": "7ea813a8",
   "metadata": {
    "execution": {
     "iopub.execute_input": "2025-09-09T04:13:36.995430Z",
     "iopub.status.busy": "2025-09-09T04:13:36.995239Z",
     "iopub.status.idle": "2025-09-09T04:13:58.051324Z",
     "shell.execute_reply": "2025-09-09T04:13:58.050688Z"
    },
    "papermill": {
     "duration": 21.060747,
     "end_time": "2025-09-09T04:13:58.052586",
     "exception": false,
     "start_time": "2025-09-09T04:13:36.991839",
     "status": "completed"
    },
    "tags": []
   },
   "outputs": [],
   "source": [
    "# deal with the author list and edge cases of people that cannot be consistent on their name  \n",
    "\n",
    "def filter_non_scientists(name: str) -> bool:\n",
    "    \"\"\" Loose filter on expected authorships\n",
    "\n",
    "    removing IT, administration, technical staff\n",
    "    :param name: name\n",
    "    :returns: False if name is not a scientist\n",
    "    \"\"\"\n",
    "    remove_list = ['Licht', 'Binroth', 'Witzel', 'Jordan',\n",
    "                   'Zähringer', 'Scheerer', 'Hoffmann', 'Düe',\n",
    "                   'Hellmich', 'Enkler-Scharpegge', 'Witte-Nguy',\n",
    "                   'Dehen', 'Beckmann', 'Jager', 'Jäger'\n",
    "                  ]\n",
    "\n",
    "    for k in remove_list:\n",
    "        if k in name:\n",
    "            return False\n",
    "    return True\n",
    "\n",
    "def add_author_to_list(author_list: list) -> list:\n",
    "    \"\"\" Add author to list if not already in list\n",
    "    \n",
    "    :param author: author name\n",
    "    :param author_list: list of authors\n",
    "    :returns: updated list of authors\n",
    "    \"\"\"\n",
    "    add_list = ['T. Henning']\n",
    "\n",
    "    for author in add_list:\n",
    "        if author not in author_list:\n",
    "            author_list.append(author)\n",
    "    return author_list\n",
    "\n",
    "# get list from MPIA website\n",
    "# filter for non-scientists (mpia.get_mpia_mitarbeiter_list() does some filtering)\n",
    "mpia_authors = [k[1] for k in mpia.get_mpia_mitarbeiter_list() if filter_non_scientists(k[1])]\n",
    "# add some missing author because of inconsistencies in their MPIA name and author name on papers\n",
    "mpia_authors = add_author_to_list(mpia_authors)"
   ]
  },
  {
   "cell_type": "code",
   "execution_count": 4,
   "id": "2645e73a",
   "metadata": {
    "execution": {
     "iopub.execute_input": "2025-09-09T04:13:58.059579Z",
     "iopub.status.busy": "2025-09-09T04:13:58.059366Z",
     "iopub.status.idle": "2025-09-09T04:13:59.251633Z",
     "shell.execute_reply": "2025-09-09T04:13:59.250974Z"
    },
    "papermill": {
     "duration": 1.19688,
     "end_time": "2025-09-09T04:13:59.252768",
     "exception": false,
     "start_time": "2025-09-09T04:13:58.055888",
     "status": "completed"
    },
    "tags": []
   },
   "outputs": [
    {
     "name": "stdout",
     "output_type": "stream",
     "text": [
      "A. d. Graaff  ->  A. D. Graaff  |  ['A. D. Graaff']\n",
      "X. Zhang  ->  X. Zhang  |  ['X. Zhang']\n",
      "N. Wang  ->  N. Wang  |  ['N. Wang']\n",
      "Y. Wang  ->  Y. Wang  |  ['Y. Wang']\n"
     ]
    },
    {
     "name": "stdout",
     "output_type": "stream",
     "text": [
      "T. Müller  ->  T. Müller  |  ['T. Müller']\n",
      "H. Beuther  ->  H. Beuther  |  ['H. Beuther']\n",
      "J. Liu  ->  J. Liu  |  ['J. Liu']\n",
      "N. Wang  ->  N. Wang  |  ['N. Wang']\n",
      "K. Jahnke  ->  K. Jahnke  |  ['K. Jahnke']\n",
      "Arxiv has 124 new papers today\n",
      "          8 with possible author matches\n"
     ]
    }
   ],
   "source": [
    "new_papers = get_new_papers()\n",
    "# add manual references\n",
    "add_paper_refs = []\n",
    "new_papers.extend([get_paper_from_identifier(k) for k in add_paper_refs])\n",
    "\n",
    "def robust_call(fn, value, *args, **kwargs):\n",
    "    try:\n",
    "        return fn(value, *args, **kwargs)\n",
    "    except Exception:\n",
    "        return value\n",
    "\n",
    "candidates = []\n",
    "for paperk in new_papers:\n",
    "    # Check author list with their initials\n",
    "    normed_author_list = [robust_call(mpia.get_initials, k) for k in paperk['authors']]\n",
    "    hl_authors = highlight_authors_in_list(normed_author_list, mpia_authors, verbose=True)\n",
    "    matches = [(hl, orig) for hl, orig in zip(hl_authors, paperk['authors']) if 'mark' in hl]\n",
    "    paperk['authors'] = hl_authors\n",
    "    if matches:\n",
    "        # only select paper if an author matched our list\n",
    "        candidates.append(paperk)\n",
    "print(\"\"\"Arxiv has {0:,d} new papers today\"\"\".format(len(new_papers)))        \n",
    "print(\"\"\"          {0:,d} with possible author matches\"\"\".format(len(candidates)))"
   ]
  },
  {
   "cell_type": "markdown",
   "id": "3543b34a",
   "metadata": {
    "papermill": {
     "duration": 0.00313,
     "end_time": "2025-09-09T04:13:59.259479",
     "exception": false,
     "start_time": "2025-09-09T04:13:59.256349",
     "status": "completed"
    },
    "tags": []
   },
   "source": [
    "# Parse sources and generate relevant outputs\n",
    "\n",
    "From the candidates, we do the following steps:\n",
    "* get their tarball from ArXiv (and extract data)\n",
    "* find the main .tex file: find one with \\documentclass{...} (sometimes it's non trivial)\n",
    "* Check affiliations with :func:`validation`, which uses :func:`mpia.affiliation_verifications`\n",
    "* If passing the affiliations: we parse the .tex source\n",
    "   * inject sub-documents into the main (flatten the main document)\n",
    "   * parse structure, extract information (title, abstract, authors, figures...)\n",
    "   * handles `\\graphicspath` if provided\n",
    "* Generate the .md document."
   ]
  },
  {
   "cell_type": "code",
   "execution_count": 5,
   "id": "9576b79e",
   "metadata": {
    "execution": {
     "iopub.execute_input": "2025-09-09T04:13:59.266594Z",
     "iopub.status.busy": "2025-09-09T04:13:59.266359Z",
     "iopub.status.idle": "2025-09-09T04:14:18.687487Z",
     "shell.execute_reply": "2025-09-09T04:14:18.686588Z"
    },
    "papermill": {
     "duration": 19.42612,
     "end_time": "2025-09-09T04:14:18.688764",
     "exception": false,
     "start_time": "2025-09-09T04:13:59.262644",
     "status": "completed"
    },
    "scrolled": false,
    "tags": []
   },
   "outputs": [
    {
     "data": {
      "application/vnd.jupyter.widget-view+json": {
       "model_id": "5aab3241756e409fa0e90ef2dbfc7306",
       "version_major": 2,
       "version_minor": 0
      },
      "text/plain": [
       "  0%|          | 0/8 [00:00<?, ?it/s]"
      ]
     },
     "metadata": {},
     "output_type": "display_data"
    },
    {
     "name": "stdout",
     "output_type": "stream",
     "text": [
      "Retrieving document from  https://arxiv.org/e-print/2509.05434\n"
     ]
    },
    {
     "name": "stdout",
     "output_type": "stream",
     "text": [
      "extracting tarball to tmp_2509.05434... done.\n"
     ]
    },
    {
     "name": "stderr",
     "output_type": "stream",
     "text": [
      "/tmp/ipykernel_3396/2822249172.py:52: LatexWarning: 2509.05434 did not run properly\n",
      "bad escape \\i at position 36\n",
      "  warnings.warn(latex.LatexWarning(f\"{paper_id:s} did not run properly\\n\" +\n"
     ]
    },
    {
     "name": "stdout",
     "output_type": "stream",
     "text": [
      "Retrieving document from  https://arxiv.org/e-print/2509.05705\n"
     ]
    },
    {
     "name": "stdout",
     "output_type": "stream",
     "text": [
      "extracting tarball to tmp_2509.05705... done.\n",
      "Retrieving document from  https://arxiv.org/e-print/2509.05957\n"
     ]
    },
    {
     "name": "stdout",
     "output_type": "stream",
     "text": [
      "extracting tarball to tmp_2509.05957... done.\n",
      "Retrieving document from  https://arxiv.org/e-print/2509.06243\n"
     ]
    },
    {
     "name": "stdout",
     "output_type": "stream",
     "text": [
      "extracting tarball to tmp_2509.06243..."
     ]
    },
    {
     "name": "stdout",
     "output_type": "stream",
     "text": [
      " done.\n",
      "Retrieving document from  https://arxiv.org/e-print/2509.06772\n"
     ]
    },
    {
     "name": "stdout",
     "output_type": "stream",
     "text": [
      "extracting tarball to tmp_2509.06772..."
     ]
    },
    {
     "name": "stdout",
     "output_type": "stream",
     "text": [
      " done.\n",
      "Retrieving document from  https://arxiv.org/e-print/2509.06787\n"
     ]
    },
    {
     "name": "stderr",
     "output_type": "stream",
     "text": [
      "/opt/hostedtoolcache/Python/3.9.23/x64/lib/python3.9/site-packages/IPython/core/interactiveshell.py:3550: LatexWarning: Multiple tex files.\n",
      "\n",
      "  exec(code_obj, self.user_global_ns, self.user_ns)\n",
      "/opt/hostedtoolcache/Python/3.9.23/x64/lib/python3.9/site-packages/IPython/core/interactiveshell.py:3550: LatexWarning: Found documentclass in tmp_2509.06772/Protopapa_Makemake_ApJL.tex\n",
      "\n",
      "  exec(code_obj, self.user_global_ns, self.user_ns)\n",
      "/opt/hostedtoolcache/Python/3.9.23/x64/lib/python3.9/site-packages/arxiv_on_deck_2/latex.py:414: LatexWarning: Latex injecting: 'sp_Table1.tex' from 'tmp_2509.06772/sp_Table1.tex'\n",
      "  warnings.warn(LatexWarning(f\"Latex injecting: '{ext}' from '{subsource}'\"))\n"
     ]
    },
    {
     "name": "stdout",
     "output_type": "stream",
     "text": [
      "extracting tarball to tmp_2509.06787..."
     ]
    },
    {
     "name": "stdout",
     "output_type": "stream",
     "text": [
      " done.\n",
      "Retrieving document from  https://arxiv.org/e-print/2509.06788\n"
     ]
    },
    {
     "name": "stdout",
     "output_type": "stream",
     "text": [
      "extracting tarball to tmp_2509.06788..."
     ]
    },
    {
     "name": "stdout",
     "output_type": "stream",
     "text": [
      " done.\n",
      "Retrieving document from  https://arxiv.org/e-print/2509.06805\n"
     ]
    },
    {
     "name": "stdout",
     "output_type": "stream",
     "text": [
      "extracting tarball to tmp_2509.06805..."
     ]
    },
    {
     "name": "stdout",
     "output_type": "stream",
     "text": [
      " done.\n"
     ]
    },
    {
     "name": "stderr",
     "output_type": "stream",
     "text": [
      "/tmp/ipykernel_3396/2822249172.py:52: LatexWarning: 2509.06805 did not run properly\n",
      "Unable to locate Ghostscript on paths\n",
      "  warnings.warn(latex.LatexWarning(f\"{paper_id:s} did not run properly\\n\" +\n"
     ]
    }
   ],
   "source": [
    "documents = []\n",
    "failed = []\n",
    "for paper in tqdm(candidates):\n",
    "    # debug crap\n",
    "    paper['identifier'] = paper['identifier'].lower().replace('arxiv:', '').replace(r'\\n', '').strip()\n",
    "    paper_id = paper['identifier']\n",
    "    \n",
    "    folder = f'tmp_{paper_id}'\n",
    "\n",
    "    try:\n",
    "        if not os.path.isdir(folder):\n",
    "            folder = retrieve_document_source(f\"{paper_id}\", f'tmp_{paper_id}')\n",
    "        \n",
    "        try:\n",
    "            doc = latex.LatexDocument(folder, validation=validation)    \n",
    "        except AffiliationError as affilerror:\n",
    "            msg = f\"ArXiv:{paper_id:s} is not an MPIA paper... \" + str(affilerror)\n",
    "            failed.append((paper, \"affiliation error: \" + str(affilerror) ))\n",
    "            continue\n",
    "        \n",
    "        # Hack because sometimes author parsing does not work well\n",
    "        if (len(doc.authors) != len(paper['authors'])):\n",
    "            doc._authors = paper['authors']\n",
    "        else:\n",
    "            # highlight authors (FIXME: doc.highlight_authors)\n",
    "            # done on arxiv paper already\n",
    "            doc._authors = highlight_authors_in_list(\n",
    "                [get_initials(k) for k in doc.authors], \n",
    "                mpia_authors, verbose=True)\n",
    "        if (doc.abstract) in (None, ''):\n",
    "            doc._abstract = paper['abstract']\n",
    "            \n",
    "        doc.comment = (get_markdown_badge(paper_id) + \n",
    "                       \"<mark>Appeared on: \" + paper['date'] + \"</mark> - \")\n",
    "        if paper['comments']:\n",
    "            doc.comment += \" _\" + paper['comments'] + \"_\"\n",
    "        \n",
    "        full_md = doc.generate_markdown_text()\n",
    "        \n",
    "        full_md += get_markdown_qrcode(paper_id)\n",
    "        \n",
    "        # replace citations\n",
    "        try:\n",
    "            bibdata = latex_bib.LatexBib.from_doc(doc)\n",
    "            full_md = latex_bib.replace_citations(full_md, bibdata)\n",
    "        except Exception as e:\n",
    "            print(\"Issues with the citations\")\n",
    "            print(e)\n",
    "        \n",
    "        documents.append((paper_id, full_md))\n",
    "    except Exception as e:\n",
    "        warnings.warn(latex.LatexWarning(f\"{paper_id:s} did not run properly\\n\" +\n",
    "                                         str(e)\n",
    "                                        ))\n",
    "        failed.append((paper, \"latex error \" + str(e)))"
   ]
  },
  {
   "cell_type": "markdown",
   "id": "2505a25c",
   "metadata": {
    "papermill": {
     "duration": 0.004099,
     "end_time": "2025-09-09T04:14:18.697364",
     "exception": false,
     "start_time": "2025-09-09T04:14:18.693265",
     "status": "completed"
    },
    "tags": []
   },
   "source": [
    "### Export the logs\n",
    "\n",
    "Throughout, we also keep track of the logs per paper. see `logs-{today date}.md` "
   ]
  },
  {
   "cell_type": "code",
   "execution_count": 6,
   "id": "d733828a",
   "metadata": {
    "execution": {
     "iopub.execute_input": "2025-09-09T04:14:18.706342Z",
     "iopub.status.busy": "2025-09-09T04:14:18.706123Z",
     "iopub.status.idle": "2025-09-09T04:14:18.726644Z",
     "shell.execute_reply": "2025-09-09T04:14:18.726125Z"
    },
    "papermill": {
     "duration": 0.026314,
     "end_time": "2025-09-09T04:14:18.727629",
     "exception": false,
     "start_time": "2025-09-09T04:14:18.701315",
     "status": "completed"
    },
    "scrolled": false,
    "tags": []
   },
   "outputs": [
    {
     "data": {
      "text/markdown": [
       "## Successful papers"
      ],
      "text/plain": [
       "<IPython.core.display.Markdown object>"
      ]
     },
     "metadata": {},
     "output_type": "display_data"
    },
    {
     "data": {
      "text/markdown": [
       "## Failed papers"
      ],
      "text/plain": [
       "<IPython.core.display.Markdown object>"
      ]
     },
     "metadata": {},
     "output_type": "display_data"
    },
    {
     "data": {
      "text/markdown": [
       "\n",
       "|||\n",
       "|---:|:---|\n",
       "| [![arXiv](https://img.shields.io/badge/arXiv-2509.06787-b31b1b.svg)](https://arxiv.org/abs/2509.06787) | **Detection of a septuple stellar system in formation via disk fragmentation**  |\n",
       "|| S. Li, et al. -- incl., <mark>H. Beuther</mark>, <mark>J. Liu</mark> |\n",
       "|*Appeared on*| *2025-09-09*|\n",
       "|*Comments*| *31 pages, 14 figures, 1 table, resubmitted to Nature Astronomy following final referee comments*|\n",
       "|**Abstract**|            Stellar multiple systems play a pivotal role in cluster dynamics and stellar evolution, leading to intense astronomical phenomena like X-ray binaries, gamma-ray bursts, Type Ia supernova, and stellar mergers, which are prime sources of gravitational waves. However, their origin remains poorly understood. Here we report the discovery of a septuple protostellar system embedded in a Keplerian disk within the high-mass star-forming region NGC\\,6334IN, with close separations of 181-461 AU. The stability analysis reveals that the disk surrounding the septuple system is dynamically unstable, indicating that the septuple system formed via disk fragmentation. Previous studies have typically found only 2--3 members forming via disk fragmentation in both low- and high-mass star-forming regions. Our findings provide compelling observational evidence that the fragmentation of a gravitationally unstable disk is a viable mechanism for the formation of extreme high-order multiplicity, confirming what was previously only a theoretical concept. The results shed new light on the formation of extreme high-order multiplicity in cluster environments.         |\n",
       "|<p style=\"color:green\"> **ERROR** </p>| <p style=\"color:green\">affiliation error: mpia.affiliation_verifications: '69117' keyword not found.</p> |"
      ],
      "text/plain": [
       "<IPython.core.display.Markdown object>"
      ]
     },
     "metadata": {},
     "output_type": "display_data"
    },
    {
     "data": {
      "text/markdown": [
       "\n",
       "|||\n",
       "|---:|:---|\n",
       "| [![arXiv](https://img.shields.io/badge/arXiv-2509.05705-b31b1b.svg)](https://arxiv.org/abs/2509.05705) | **The 21 cm forest one-dimensional power spectrum as a probe of dark matter particles and primordial black holes**  |\n",
       "|| M.-L. Zhao, Y. Shao, S. Wang, <mark>X. Zhang</mark> |\n",
       "|*Appeared on*| *2025-09-09*|\n",
       "|*Comments*| *12 pages, 7 figures*|\n",
       "|**Abstract**|            Understanding the nature of dark matter (DM) particles remains a pivotal challenge in modern cosmology. Current cosmological research on these phenomena primarily utilizes cosmic microwave background (CMB) observations and other late-time probes, which predominantly focus on large scales. We introduce a novel probe, the 21 cm forest signal, which can be used to investigate DM properties on small scales during the epoch of reionization, thereby addressing the gap left by other cosmological probes. Annihilation and decay of DM particles, as well as Hawking radiation from PBHs, can heat the intergalactic medium (IGM). This heating suppresses the amplitude of the 21 cm forest 1D power spectrum. Therefore, the 1D power spectrum provides an effective method for constraining DM properties. However, astrophysical heating processes in the early universe can also affect the 21 cm forest 1D power spectrum. In this work, we assess the potential of using the SKA to observe the 21 cm forest 1D power spectrum for constraining DM properties, under the assumption that astrophysical heating can be constrained reliably by other independent probes. Under low astrophysical heating conditions, the 1D power spectrum could constrain the DM annihilation cross section and decay lifetime to $\\langle\\sigma v\\rangle \\sim {10^{-31}}\\,{\\rm cm^{3}\\,s^{-1}}$ and $\\tau \\sim {10^{30}}\\,{\\rm s}$ for ${10}\\,{\\rm GeV}$ DM particles, and probe PBHs with masses $\\sim {10^{15}}\\,{\\rm\\,g}$ at abundances $f_{\\mathrm{PBH}} \\simeq 10^{-13}$. These constraints represent improvements of 5-6 orders of magnitude over current limits. Furthermore, the 21 cm forest 1D power spectrum has the potential to exceed existing bounds on sub-GeV DM and to probe PBHs with masses above $10^{18}\\,{\\rm g}$, which are otherwise inaccessible by conventional cosmological probes.         |\n",
       "|<p style=\"color:green\"> **ERROR** </p>| <p style=\"color:green\">affiliation error: mpia.affiliation_verifications: 'Heidelberg' keyword not found.</p> |"
      ],
      "text/plain": [
       "<IPython.core.display.Markdown object>"
      ]
     },
     "metadata": {},
     "output_type": "display_data"
    },
    {
     "data": {
      "text/markdown": [
       "\n",
       "|||\n",
       "|---:|:---|\n",
       "| [![arXiv](https://img.shields.io/badge/arXiv-2509.05957-b31b1b.svg)](https://arxiv.org/abs/2509.05957) | **FAST Observations of the Microstructure in Interpulse Pulsars**  |\n",
       "|| W. Li, et al. -- incl., <mark>N. Wang</mark> |\n",
       "|*Appeared on*| *2025-09-09*|\n",
       "|*Comments*| *accepted for publication in ApJS*|\n",
       "|**Abstract**|            In this study, we investigate the microstructure properties of four pulsars (PSRs J0953+0755 (B0950+08), J0627+0706, J0826+2637 (B0823+26) and J1946+1805 (B1944+17)) using the Five-hundred-meter Aperture Spherical radio Telescope (FAST), with particular emphasis on identifying microstructure within interpulse (IP). Through the application of autocorrelation function (ACF) analysis and fast Fourier transform (FFT) techniques, we have systematically examined the periodicity of microstructure in these pulsars. Our findings represent the first successful detection of microstructure within IP. Furthermore, we conducted a comprehensive statistical analysis comparing the characteristic timescales ($\\tau_{\\mu}$) and the characteristic periods $P_{\\mu}$ of quasi-periodic microstructure between the main pulse (MP) and IP, and our results indicate that the $\\tau_{\\mu}$ and $P_{\\mu}$ of microstructure across components appear consistent within measurement errors for PSR J0627+0706, but microstructure in IP are relatively smaller than those in MP for PSR J0953+0755. Furthermore, the relationship between $P_{\\mu}$ of microstructure and the rotation period in neutron star populations was reconfirmed: $P_{\\mu}(\\text{ms})=(1.337\\pm0.114)\\times P(\\text{s})^{(1.063\\pm0.038)}$.         |\n",
       "|<p style=\"color:green\"> **ERROR** </p>| <p style=\"color:green\">affiliation error: mpia.affiliation_verifications: 'Heidelberg' keyword not found.</p> |"
      ],
      "text/plain": [
       "<IPython.core.display.Markdown object>"
      ]
     },
     "metadata": {},
     "output_type": "display_data"
    },
    {
     "data": {
      "text/markdown": [
       "\n",
       "|||\n",
       "|---:|:---|\n",
       "| [![arXiv](https://img.shields.io/badge/arXiv-2509.06243-b31b1b.svg)](https://arxiv.org/abs/2509.06243) | **Evidence for Two SNe Type Triggering GRB 220101A: a Pair SN and a Rotating Magnetized Core Collapse SN**  |\n",
       "|| R. Ruffini, et al. -- incl., <mark>Y. Wang</mark> |\n",
       "|*Appeared on*| *2025-09-09*|\n",
       "|*Comments*| *15 pages, 9 figures, submitted to ApJ*|\n",
       "|**Abstract**|            The traditional model which assumed GRBs as originating from a single Black Hole (BH) have been modified by the Binary Driven Hypernova (BdHN) model in which the trigger of the GRB originate from a binary system composed of a 10 solar mass CO core and a 2 solar mass neutron star binary companion. The binary period being as short as minutes to hours. Recent results evidence that the most energetic GRBs may have as precursors a sequence of two types of SN: a pair-SN followed soon after by a more traditional core collapse. All this appear to open the way to two new types of SNe: the Pair-SNe without a remnant and a magnetized-rotating-core collapse leading to the formation of a pulsar. We generalize our previous assumptions, here the possibility of fission of the rapidly rotating CO core is examined. The role of the magnetic field of the CO core are equally examined with the magneto-hydrodynamic associated process, all the way to generate overcritical fields and e+ e- pairs. All this appear to open the way to a new types of SN, much in line with pair-SN models and a significant change from the initial non rotating models. The BdHN are characterized by seven new physics Episodes here all used to formulate the new approach. The substantial modification of each Episode are outlined by a leading order treatment.         |\n",
       "|<p style=\"color:green\"> **ERROR** </p>| <p style=\"color:green\">affiliation error: mpia.affiliation_verifications: 'Heidelberg' keyword not found.</p> |"
      ],
      "text/plain": [
       "<IPython.core.display.Markdown object>"
      ]
     },
     "metadata": {},
     "output_type": "display_data"
    },
    {
     "data": {
      "text/markdown": [
       "\n",
       "|||\n",
       "|---:|:---|\n",
       "| [![arXiv](https://img.shields.io/badge/arXiv-2509.06772-b31b1b.svg)](https://arxiv.org/abs/2509.06772) | **JWST Detection of Hydrocarbon Ices and Methane Gas on Makemake**  |\n",
       "|| S. Protopapa, et al. -- incl., <mark>T. Müller</mark> |\n",
       "|*Appeared on*| *2025-09-09*|\n",
       "|*Comments*| *23 pages, 11 figures, 2 tables. Accepted for publication in The Astrophysical Journal Letters*|\n",
       "|**Abstract**|            JWST/NIRSpec observations of Makemake reveal a chemically complex surface and evidence of gaseous CH$_4$. Our spectral modeling indicates a surface composition consisting of CH$_4$, CH$_3$D, and possibly CH$_3$OH, combined with aggregates of C$_2$H$_2$ and C$_2$H$_6$. The presence of C$_2$H$_4$ is also considered given its expected photochemical origin. Both areal and layered configurations reproduce the observed spectrum, with the latter being preferred. This composition confirms earlier hydrocarbon detections and suggests that CH$_4$ photolysis is either ongoing or occurred recently. The detection of CH$_3$D yields a D/H ratio in CH$_4$ ice of $(3.98 \\pm 0.34) \\times 10^{-4}$, consistent within $2\\sigma$ with previous estimates. We report the first detection of CH$_4$ fluorescence from Makemake, establishing it as only the second trans-Neptunian object$\\unicode{x2014}$after Pluto$\\unicode{x2014}$with confirmed volatile release. We explore two scenarios consistent with the observed CH$_4$ emission, though neither fully reproduces the data: an expanding coma, yielding production rates of $(0.2\\unicode{x2013}1.6) \\times 10^{28}$ molecules s$^{-1}$ and a rovibrational temperature of $\\sim$35 K, possibly originating from a localized plume, and a gravitationally bound atmosphere, which, if adopted, implies gas kinetic temperatures near 40 K and surface pressures of $\\sim$10 pbar$\\unicode{x2014}$values consistent with stellar occultation constraints and an atmosphere in equilibrium with surface CH$_4$ ice. Discriminating between these scenarios will require higher spectral resolution and improved signal-to-noise observations. Together, the gas-phase CH$_4$, intermediate D/H ratio between that in water and CH$_4$ in comets, and complex surface composition challenge the traditional view of Makemake as a quiescent, frozen body.         |\n",
       "|<p style=\"color:green\"> **ERROR** </p>| <p style=\"color:green\">affiliation error: mpia.affiliation_verifications: 'Heidelberg' keyword not found.</p> |"
      ],
      "text/plain": [
       "<IPython.core.display.Markdown object>"
      ]
     },
     "metadata": {},
     "output_type": "display_data"
    },
    {
     "data": {
      "text/markdown": [
       "\n",
       "|||\n",
       "|---:|:---|\n",
       "| [![arXiv](https://img.shields.io/badge/arXiv-2509.06788-b31b1b.svg)](https://arxiv.org/abs/2509.06788) | **An Interpretable AI Framework to Disentangle Self-Interacting and Cold Dark Matter in Galaxy Clusters: The CKAN Approach**  |\n",
       "|| Z. Huang, H. Shi, Z. Liu, <mark>N. Wang</mark> |\n",
       "|*Appeared on*| *2025-09-09*|\n",
       "|*Comments*| *15 pages, 8 figures; accepted for publication in The Astronomical Journal*|\n",
       "|**Abstract**|            Convolutional neural networks have shown their ability to differentiate between self-interacting dark matter (SIDM) and cold dark matter (CDM) on galaxy cluster scales. However, their large parameter counts and ''black-box'' nature make it difficult to assess whether their decisions adhere to physical principles. To address this issue, we have built a Convolutional Kolmogorov-Arnold Network (CKAN) that reduces parameter count and enhances interpretability, and propose a novel analytical framework to understand the network's decision-making process. With this framework, we leverage our network to qualitatively assess the offset between the dark matter distribution center and the galaxy cluster center, as well as the size of heating regions in different models. These findings are consistent with current theoretical predictions and show the reliability and interpretability of our network. By combining network interpretability with unseen test results, we also estimate that for SIDM in galaxy clusters, the minimum cross-section $(\\sigma/m)_{\\mathrm{th}}$ required to reliably identify its collisional nature falls between $0.1\\,\\mathrm{cm}^2/\\mathrm{g}$ and $0.3\\,\\mathrm{cm}^2/\\mathrm{g}$. Moreover, CKAN maintains robust performance under simulated JWST and Euclid noise, highlighting its promise for application to forthcoming observational surveys.         |\n",
       "|<p style=\"color:green\"> **ERROR** </p>| <p style=\"color:green\">affiliation error: mpia.affiliation_verifications: 'Heidelberg' keyword not found.</p> |"
      ],
      "text/plain": [
       "<IPython.core.display.Markdown object>"
      ]
     },
     "metadata": {},
     "output_type": "display_data"
    },
    {
     "data": {
      "text/markdown": [
       "\n",
       "|||\n",
       "|---:|:---|\n",
       "| [![arXiv](https://img.shields.io/badge/arXiv-2509.06805-b31b1b.svg)](https://arxiv.org/abs/2509.06805) | **Euclid preparation. Methodology for validating the Euclid Catalogue of Galaxy Clusters using external data**  |\n",
       "|| E. Collaboration, et al. -- incl., <mark>K. Jahnke</mark> |\n",
       "|*Appeared on*| *2025-09-09*|\n",
       "|*Comments*| *22 pages, 17 figures, submitted to A&A*|\n",
       "|**Abstract**|            We present our methodology for identifying known clusters as counterparts to objects in the Euclid Catalogue of Galaxy Clusters (ECGC). Euclid is expected to detect a large number of optically-selected galaxy clusters over the approximately 14000 square degrees of its extragalactic sky survey. Extending out well beyond redshift unity, the catalogue will contain many new high-redshift clusters, while at lower redshifts a fraction of the clusters will have been observed in other surveys. Identifying these known clusters as counterparts to the Euclid-detected clusters is an important step in the validation and construction of the ECGC to augment information with external observables. We present a set of catalogues and meta-catalogues of known clusters that we have assembled for this step, and we illustrate their application and our methodology using the Dark Energy Survey Year 1 RedMaPPer cluster catalogue in lieu of the future ECGC. In the process of this work, we have constructed and deliver an updated EC-RedMaPPer catalogue with multi-wavelength counterparts.         |\n",
       "|<p style=\"color:red\"> **ERROR** </p>| <p style=\"color:red\">latex error Unable to locate Ghostscript on paths</p> |"
      ],
      "text/plain": [
       "<IPython.core.display.Markdown object>"
      ]
     },
     "metadata": {},
     "output_type": "display_data"
    },
    {
     "data": {
      "text/markdown": [
       "\n",
       "|||\n",
       "|---:|:---|\n",
       "| [![arXiv](https://img.shields.io/badge/arXiv-2509.05434-b31b1b.svg)](https://arxiv.org/abs/2509.05434) | **What you see is what you get: empirically measured bolometric luminosities of Little Red Dots**  |\n",
       "|| J. E. Greene, et al. -- incl., <mark>A. d. Graaff</mark> |\n",
       "|*Appeared on*| *2025-09-09*|\n",
       "|*Comments*| *11 pages, 3 figures, 1 table, posted following referee comments*|\n",
       "|**Abstract**|            New populations of red active galactic nuclei (known as ``Little Red Dots'') discovered by JWST exhibit remarkable spectral energy distributions. Leveraging X-ray through far-infrared observations of two of the most luminous known Little Red Dots, we directly their bolometric luminosities. We find evidence that more than half of the bolometric luminosity likely emerges in the rest-frame optical, with $L_{\\rm bol}/L_{5100} = 5$, roughly half the value for ``standard'' Active Galactic Nuclei. Meanwhile, the X-ray emitting corona, UV-emitting black-body, and reprocessed mid to far-infrared emission are all considerably sub-dominant, assuming that the far-infrared luminosity is well below current measured limits. We present new bolometric corrections that dramatically lower inferred bolometric luminosities by a factor of ten compared to published values in the literature. These bolometric corrections are in accord with expectations from models in which gas absorption and reprocessing are responsible for the red rest-frame optical colors of Little Red Dots. We discuss how this lowered luminosity scale suggests a lower mass scale for the population by at least an order of magnitude {\\bf (e.g., $\\sim 10^5-10^7~{\\rm M_{\\odot}}$ black holes, and $\\sim 10^8~{\\rm M_{\\odot}}$ galaxies)}, alleviating tensions with clustering, overmassive black holes, and the integrated black hole mass density in the Universe.         |\n",
       "|<p style=\"color:red\"> **ERROR** </p>| <p style=\"color:red\">latex error bad escape \\i at position 36</p> |"
      ],
      "text/plain": [
       "<IPython.core.display.Markdown object>"
      ]
     },
     "metadata": {},
     "output_type": "display_data"
    }
   ],
   "source": [
    "import datetime\n",
    "today = str(datetime.date.today())\n",
    "logfile = f\"_build/html/logs/log-{today}.md\"\n",
    "\n",
    "\n",
    "with open(logfile, 'w') as logs:\n",
    "    # Success\n",
    "    logs.write(f'# Arxiv on Deck 2: Logs - {today}\\n\\n')\n",
    "    logs.write(\"\"\"* Arxiv had {0:,d} new papers\\n\"\"\".format(len(new_papers)))\n",
    "    logs.write(\"\"\"    * {0:,d} with possible author matches\\n\\n\"\"\".format(len(candidates)))\n",
    "    logs.write(\"## Sucessful papers\\n\\n\")\n",
    "    display(Markdown(\"## Successful papers\"))\n",
    "    success = [k[0] for k in documents]\n",
    "    for candid in candidates:\n",
    "        if candid['identifier'].split(':')[-1] in success:\n",
    "            display(candid)\n",
    "            logs.write(candid.generate_markdown_text() + '\\n\\n')\n",
    "\n",
    "    ## failed\n",
    "    logs.write(\"## Failed papers\\n\\n\")\n",
    "    display(Markdown(\"## Failed papers\"))\n",
    "    failed = sorted(failed, key=lambda x: x[1])\n",
    "    current_reason = \"\"\n",
    "    for paper, reason in failed:\n",
    "        if 'affiliation' in reason:\n",
    "            color = 'green'\n",
    "        else:\n",
    "            color = 'red'\n",
    "        data = Markdown(\n",
    "                paper.generate_markdown_text() + \n",
    "                f'\\n|<p style=\"color:{color:s}\"> **ERROR** </p>| <p style=\"color:{color:s}\">{reason:s}</p> |'\n",
    "               )\n",
    "        if reason != current_reason:\n",
    "            logs.write(f'### {reason:s} \\n\\n')\n",
    "            current_reason = reason\n",
    "        logs.write(data.data + '\\n\\n')\n",
    "        \n",
    "        # only display here the important errors (all in logs)\n",
    "        # if color in ('red',):\n",
    "        display(data)"
   ]
  },
  {
   "cell_type": "markdown",
   "id": "472d20ee",
   "metadata": {
    "papermill": {
     "duration": 0.004885,
     "end_time": "2025-09-09T04:14:18.737530",
     "exception": false,
     "start_time": "2025-09-09T04:14:18.732645",
     "status": "completed"
    },
    "tags": []
   },
   "source": [
    "## Export documents\n",
    "\n",
    "We now write the .md files and export relevant images"
   ]
  },
  {
   "cell_type": "code",
   "execution_count": 7,
   "id": "d426aed9",
   "metadata": {
    "execution": {
     "iopub.execute_input": "2025-09-09T04:14:18.747951Z",
     "iopub.status.busy": "2025-09-09T04:14:18.747755Z",
     "iopub.status.idle": "2025-09-09T04:14:18.754631Z",
     "shell.execute_reply": "2025-09-09T04:14:18.754063Z"
    },
    "papermill": {
     "duration": 0.013133,
     "end_time": "2025-09-09T04:14:18.755545",
     "exception": false,
     "start_time": "2025-09-09T04:14:18.742412",
     "status": "completed"
    },
    "tags": []
   },
   "outputs": [],
   "source": [
    "def export_markdown_summary(md: str, md_fname:str, directory: str):\n",
    "    \"\"\"Export MD document and associated relevant images\"\"\"\n",
    "    import os\n",
    "    import shutil\n",
    "    import re\n",
    "\n",
    "    if (os.path.exists(directory) and not os.path.isdir(directory)):\n",
    "        raise RuntimeError(f\"a non-directory file exists with name {directory:s}\")\n",
    "\n",
    "    if (not os.path.exists(directory)):\n",
    "        print(f\"creating directory {directory:s}\")\n",
    "        os.mkdir(directory)\n",
    "\n",
    "    fig_fnames = (re.compile(r'\\[Fig.*\\]\\((.*)\\)').findall(md) + \n",
    "                  re.compile(r'\\<img src=\"([^>\\s]*)\"[^>]*/>').findall(md))\n",
    "    print(\"found figures\", fig_fnames)\n",
    "    for fname in fig_fnames:\n",
    "        if 'http' in fname:\n",
    "            # No need to copy online figures\n",
    "            continue\n",
    "        if not os.path.exists(fname):\n",
    "            print(\"file not found\", fname)\n",
    "            continue\n",
    "        print(\"copying \", fname, \"to\", directory)\n",
    "        destdir = os.path.join(directory, os.path.dirname(fname))\n",
    "        destfname = os.path.join(destdir, os.path.basename(fname))\n",
    "        try:\n",
    "            os.makedirs(destdir)\n",
    "        except FileExistsError:\n",
    "            pass\n",
    "        shutil.copy(fname, destfname)\n",
    "    with open(os.path.join(directory, md_fname), 'w') as fout:\n",
    "        fout.write(md)\n",
    "    print(\"exported in \", os.path.join(directory, md_fname))\n",
    "    [print(\"    + \" + os.path.join(directory,fk)) for fk in fig_fnames]"
   ]
  },
  {
   "cell_type": "code",
   "execution_count": 8,
   "id": "014d04a4",
   "metadata": {
    "execution": {
     "iopub.execute_input": "2025-09-09T04:14:18.766574Z",
     "iopub.status.busy": "2025-09-09T04:14:18.766360Z",
     "iopub.status.idle": "2025-09-09T04:14:18.769091Z",
     "shell.execute_reply": "2025-09-09T04:14:18.768572Z"
    },
    "papermill": {
     "duration": 0.009525,
     "end_time": "2025-09-09T04:14:18.770023",
     "exception": false,
     "start_time": "2025-09-09T04:14:18.760498",
     "status": "completed"
    },
    "tags": []
   },
   "outputs": [],
   "source": [
    "for paper_id, md in documents:\n",
    "    export_markdown_summary(md, f\"{paper_id:s}.md\", '_build/html/')"
   ]
  },
  {
   "cell_type": "markdown",
   "id": "f087a0a7",
   "metadata": {
    "papermill": {
     "duration": 0.004887,
     "end_time": "2025-09-09T04:14:18.779954",
     "exception": false,
     "start_time": "2025-09-09T04:14:18.775067",
     "status": "completed"
    },
    "tags": []
   },
   "source": [
    "## Display the papers\n",
    "\n",
    "Not necessary but allows for a quick check."
   ]
  },
  {
   "cell_type": "code",
   "execution_count": 9,
   "id": "fd25f625",
   "metadata": {
    "execution": {
     "iopub.execute_input": "2025-09-09T04:14:18.790501Z",
     "iopub.status.busy": "2025-09-09T04:14:18.790279Z",
     "iopub.status.idle": "2025-09-09T04:14:18.793574Z",
     "shell.execute_reply": "2025-09-09T04:14:18.792899Z"
    },
    "papermill": {
     "duration": 0.009805,
     "end_time": "2025-09-09T04:14:18.794640",
     "exception": false,
     "start_time": "2025-09-09T04:14:18.784835",
     "status": "completed"
    },
    "scrolled": false,
    "tags": []
   },
   "outputs": [],
   "source": [
    "[display(Markdown(k[1])) for k in documents];"
   ]
  },
  {
   "cell_type": "markdown",
   "id": "873873a4",
   "metadata": {
    "papermill": {
     "duration": 0.004958,
     "end_time": "2025-09-09T04:14:18.804726",
     "exception": false,
     "start_time": "2025-09-09T04:14:18.799768",
     "status": "completed"
    },
    "tags": []
   },
   "source": [
    "# Create HTML index"
   ]
  },
  {
   "cell_type": "code",
   "execution_count": 10,
   "id": "cf665672",
   "metadata": {
    "execution": {
     "iopub.execute_input": "2025-09-09T04:14:18.815430Z",
     "iopub.status.busy": "2025-09-09T04:14:18.815239Z",
     "iopub.status.idle": "2025-09-09T04:14:18.822213Z",
     "shell.execute_reply": "2025-09-09T04:14:18.821564Z"
    },
    "papermill": {
     "duration": 0.013573,
     "end_time": "2025-09-09T04:14:18.823276",
     "exception": false,
     "start_time": "2025-09-09T04:14:18.809703",
     "status": "completed"
    },
    "tags": []
   },
   "outputs": [
    {
     "name": "stdout",
     "output_type": "stream",
     "text": [
      "128  publications files modified in the last 7 days.\n"
     ]
    }
   ],
   "source": [
    "from datetime import datetime, timedelta, timezone\n",
    "from glob import glob\n",
    "import os\n",
    "\n",
    "files = glob('_build/html/*.md')\n",
    "days = 7\n",
    "now = datetime.today()\n",
    "res = []\n",
    "for fk in files:\n",
    "    stat_result = os.stat(fk).st_ctime\n",
    "    modified = datetime.fromtimestamp(stat_result, tz=timezone.utc).replace(tzinfo=None)\n",
    "    delta = now.today() - modified\n",
    "    if delta <= timedelta(days=days):\n",
    "        res.append((delta.seconds, fk))\n",
    "res = [k[1] for k in reversed(sorted(res, key=lambda x:x[1]))]\n",
    "npub = len(res)\n",
    "print(len(res), f\" publications files modified in the last {days:d} days.\")\n",
    "# [ print('\\t', k) for k in res ];"
   ]
  },
  {
   "cell_type": "code",
   "execution_count": 11,
   "id": "015de740",
   "metadata": {
    "execution": {
     "iopub.execute_input": "2025-09-09T04:14:18.834181Z",
     "iopub.status.busy": "2025-09-09T04:14:18.834000Z",
     "iopub.status.idle": "2025-09-09T04:14:18.846991Z",
     "shell.execute_reply": "2025-09-09T04:14:18.846195Z"
    },
    "papermill": {
     "duration": 0.019566,
     "end_time": "2025-09-09T04:14:18.847952",
     "exception": false,
     "start_time": "2025-09-09T04:14:18.828386",
     "status": "completed"
    },
    "tags": []
   },
   "outputs": [
    {
     "name": "stdout",
     "output_type": "stream",
     "text": [
      "10  publications in the last 7 days.\n"
     ]
    }
   ],
   "source": [
    "import datetime\n",
    "from glob import glob\n",
    "\n",
    "def get_last_n_days(lst, days=1):\n",
    "    \"\"\" Get the documents from the last n days \"\"\"\n",
    "    sorted_lst = sorted(lst, key=lambda x: x[1], reverse=True)\n",
    "    for fname, date in sorted_lst:\n",
    "        if date >= str(datetime.date.today() - datetime.timedelta(days=days)):\n",
    "            yield fname\n",
    "\n",
    "def extract_appearance_dates(lst_file):\n",
    "    dates = []\n",
    "\n",
    "    def get_date(line):\n",
    "        return line\\\n",
    "            .split('Appeared on:')[-1]\\\n",
    "            .split('</mark>')[0].strip()\n",
    "\n",
    "    for fname in lst:\n",
    "        with open(fname, 'r') as f:\n",
    "            found_date = False\n",
    "            for line in f:\n",
    "                if not found_date:\n",
    "                    if \"Appeared on\" in line:\n",
    "                        found_date = True\n",
    "                        dates.append((fname, get_date(line)))\n",
    "                else:\n",
    "                    break\n",
    "    return dates\n",
    "\n",
    "from glob import glob\n",
    "lst = glob('_build/html/*md')\n",
    "days = 7\n",
    "dates = extract_appearance_dates(lst)\n",
    "res = list(get_last_n_days(dates, days))\n",
    "npub = len(res)\n",
    "print(len(res), f\" publications in the last {days:d} days.\")"
   ]
  },
  {
   "cell_type": "code",
   "execution_count": 12,
   "id": "52ca0208",
   "metadata": {
    "execution": {
     "iopub.execute_input": "2025-09-09T04:14:18.859019Z",
     "iopub.status.busy": "2025-09-09T04:14:18.858824Z",
     "iopub.status.idle": "2025-09-09T04:14:18.863839Z",
     "shell.execute_reply": "2025-09-09T04:14:18.863173Z"
    },
    "papermill": {
     "duration": 0.011658,
     "end_time": "2025-09-09T04:14:18.864796",
     "exception": false,
     "start_time": "2025-09-09T04:14:18.853138",
     "status": "completed"
    },
    "scrolled": false,
    "tags": []
   },
   "outputs": [],
   "source": [
    "def create_carousel(npub=4):\n",
    "    \"\"\" Generate the HTML code for a carousel with `npub` slides \"\"\"\n",
    "    carousel = [\"\"\"  <div class=\"carousel\" \"\"\",\n",
    "                \"\"\"       data-flickity='{ \"autoPlay\": 10000, \"adaptiveHeight\": true, \"resize\": true, \"wrapAround\": true, \"pauseAutoPlayOnHover\": true, \"groupCells\": 1 }' id=\"asyncTypeset\">\"\"\"\n",
    "                ]\n",
    "    \n",
    "    item_str = \"\"\"    <div class=\"carousel-cell\"> <div id=\"slide{k}\" class=\"md_view\">Content {k}</div> </div>\"\"\"\n",
    "    for k in range(1, npub + 1):\n",
    "        carousel.append(item_str.format(k=k))\n",
    "    carousel.append(\"  </div>\")\n",
    "    return '\\n'.join(carousel)\n",
    "\n",
    "def create_grid(npub=4):\n",
    "    \"\"\" Generate the HTML code for a flat grid with `npub` slides \"\"\"\n",
    "    grid = [\"\"\"  <div class=\"grid\"> \"\"\",\n",
    "                ]\n",
    "    \n",
    "    item_str = \"\"\"    <div class=\"grid-item\"> <div id=\"slide{k}\" class=\"md_view\">Content {k}</div> </div>\"\"\"\n",
    "    for k in range(1, npub + 1):\n",
    "        grid.append(item_str.format(k=k))\n",
    "    grid.append(\"  </div>\")\n",
    "    return '\\n'.join(grid)"
   ]
  },
  {
   "cell_type": "code",
   "execution_count": 13,
   "id": "a6eac5b6",
   "metadata": {
    "execution": {
     "iopub.execute_input": "2025-09-09T04:14:18.875843Z",
     "iopub.status.busy": "2025-09-09T04:14:18.875655Z",
     "iopub.status.idle": "2025-09-09T04:14:18.880420Z",
     "shell.execute_reply": "2025-09-09T04:14:18.879895Z"
    },
    "papermill": {
     "duration": 0.011426,
     "end_time": "2025-09-09T04:14:18.881429",
     "exception": false,
     "start_time": "2025-09-09T04:14:18.870003",
     "status": "completed"
    },
    "scrolled": false,
    "tags": []
   },
   "outputs": [],
   "source": [
    "carousel = create_carousel(npub)\n",
    "docs = ', '.join(['\"{0:s}\"'.format(k.split('/')[-1]) for k in res])\n",
    "slides = ', '.join([f'\"slide{k}\"' for k in range(1, npub + 1)])\n",
    "\n",
    "with open(\"daily_template.html\", \"r\") as tpl:\n",
    "    page = tpl.read()\n",
    "    page = page.replace(\"{%-- carousel:s --%}\", carousel)\\\n",
    "               .replace(\"{%-- suptitle:s --%}\",  \"7-day archives\" )\\\n",
    "               .replace(\"{%-- docs:s --%}\", docs)\\\n",
    "               .replace(\"{%-- slides:s --%}\", slides)\n",
    "    \n",
    "with open(\"_build/html/index_7days.html\", 'w') as fout:\n",
    "    fout.write(page)"
   ]
  },
  {
   "cell_type": "code",
   "execution_count": 14,
   "id": "adc1a1ec",
   "metadata": {
    "execution": {
     "iopub.execute_input": "2025-09-09T04:14:18.892718Z",
     "iopub.status.busy": "2025-09-09T04:14:18.892536Z",
     "iopub.status.idle": "2025-09-09T04:14:18.898743Z",
     "shell.execute_reply": "2025-09-09T04:14:18.898170Z"
    },
    "papermill": {
     "duration": 0.012966,
     "end_time": "2025-09-09T04:14:18.899678",
     "exception": false,
     "start_time": "2025-09-09T04:14:18.886712",
     "status": "completed"
    },
    "tags": []
   },
   "outputs": [
    {
     "name": "stdout",
     "output_type": "stream",
     "text": [
      "2  publications in the last day.\n"
     ]
    }
   ],
   "source": [
    "# redo for today\n",
    "days = 1\n",
    "res = list(get_last_n_days(dates, days))\n",
    "npub = len(res)\n",
    "print(len(res), f\" publications in the last day.\")\n",
    "\n",
    "carousel = create_carousel(npub)\n",
    "docs = ', '.join(['\"{0:s}\"'.format(k.split('/')[-1]) for k in res])\n",
    "slides = ', '.join([f'\"slide{k}\"' for k in range(1, npub + 1)])\n",
    "\n",
    "with open(\"daily_template.html\", \"r\") as tpl:\n",
    "    page = tpl.read()\n",
    "    page = page.replace(\"{%-- carousel:s --%}\", carousel)\\\n",
    "               .replace(\"{%-- suptitle:s --%}\",  \"Daily\" )\\\n",
    "               .replace(\"{%-- docs:s --%}\", docs)\\\n",
    "               .replace(\"{%-- slides:s --%}\", slides)\n",
    "    \n",
    "# print(carousel, docs, slides)\n",
    "# print(page)\n",
    "with open(\"_build/html/index_daily.html\", 'w') as fout:\n",
    "    fout.write(page)"
   ]
  },
  {
   "cell_type": "code",
   "execution_count": 15,
   "id": "00eece82",
   "metadata": {
    "execution": {
     "iopub.execute_input": "2025-09-09T04:14:18.911046Z",
     "iopub.status.busy": "2025-09-09T04:14:18.910843Z",
     "iopub.status.idle": "2025-09-09T04:14:18.917083Z",
     "shell.execute_reply": "2025-09-09T04:14:18.916423Z"
    },
    "papermill": {
     "duration": 0.012921,
     "end_time": "2025-09-09T04:14:18.918037",
     "exception": false,
     "start_time": "2025-09-09T04:14:18.905116",
     "status": "completed"
    },
    "scrolled": false,
    "tags": []
   },
   "outputs": [
    {
     "name": "stdout",
     "output_type": "stream",
     "text": [
      "6  6 publications selected.\n"
     ]
    }
   ],
   "source": [
    "# Create the flat grid of the last N papers (fixed number regardless of dates)\n",
    "from itertools import islice \n",
    "\n",
    "npub = 6\n",
    "res = [k[0] for k in (islice(reversed(sorted(dates, key=lambda x: x[1])), 6))]\n",
    "print(len(res), f\" {npub} publications selected.\")\n",
    "\n",
    "grid = create_grid(npub)\n",
    "docs = ', '.join(['\"{0:s}\"'.format(k.split('/')[-1]) for k in res])\n",
    "slides = ', '.join([f'\"slide{k}\"' for k in range(1, npub + 1)])\n",
    "\n",
    "with open(\"grid_template.html\", \"r\") as tpl:\n",
    "    page = tpl.read()\n",
    "    page = page.replace(\"{%-- grid-content:s --%}\", grid)\\\n",
    "               .replace(\"{%-- suptitle:s --%}\",  f\"Last {npub:,d} papers\" )\\\n",
    "               .replace(\"{%-- docs:s --%}\", docs)\\\n",
    "               .replace(\"{%-- slides:s --%}\", slides)\n",
    "    \n",
    "# print(grid, docs, slides)\n",
    "# print(page)\n",
    "with open(\"_build/html/index_npub_grid.html\", 'w') as fout:\n",
    "    fout.write(page)"
   ]
  }
 ],
 "metadata": {
  "kernelspec": {
   "display_name": "Python 3 (ipykernel)",
   "language": "python",
   "name": "python3"
  },
  "language_info": {
   "codemirror_mode": {
    "name": "ipython",
    "version": 3
   },
   "file_extension": ".py",
   "mimetype": "text/x-python",
   "name": "python",
   "nbconvert_exporter": "python",
   "pygments_lexer": "ipython3",
   "version": "3.9.23"
  },
  "papermill": {
   "default_parameters": {},
   "duration": 43.345255,
   "end_time": "2025-09-09T04:14:19.239207",
   "environment_variables": {},
   "exception": null,
   "input_path": "MPIA daily digest.ipynb",
   "output_path": "log.ipynb",
   "parameters": {},
   "start_time": "2025-09-09T04:13:35.893952",
   "version": "2.6.0"
  },
  "vscode": {
   "interpreter": {
    "hash": "aee8b7b246df8f9039afb4144a1f6fd8d2ca17a180786b69acc140d282b71a49"
   }
  },
  "widgets": {
   "application/vnd.jupyter.widget-state+json": {
    "state": {
     "00298978b44f469596e0858c8ceee20b": {
      "model_module": "@jupyter-widgets/controls",
      "model_module_version": "2.0.0",
      "model_name": "HTMLStyleModel",
      "state": {
       "_model_module": "@jupyter-widgets/controls",
       "_model_module_version": "2.0.0",
       "_model_name": "HTMLStyleModel",
       "_view_count": null,
       "_view_module": "@jupyter-widgets/base",
       "_view_module_version": "2.0.0",
       "_view_name": "StyleView",
       "background": null,
       "description_width": "",
       "font_size": null,
       "text_color": null
      }
     },
     "0d81813ed3bb46ee852792ef700e48a5": {
      "model_module": "@jupyter-widgets/base",
      "model_module_version": "2.0.0",
      "model_name": "LayoutModel",
      "state": {
       "_model_module": "@jupyter-widgets/base",
       "_model_module_version": "2.0.0",
       "_model_name": "LayoutModel",
       "_view_count": null,
       "_view_module": "@jupyter-widgets/base",
       "_view_module_version": "2.0.0",
       "_view_name": "LayoutView",
       "align_content": null,
       "align_items": null,
       "align_self": null,
       "border_bottom": null,
       "border_left": null,
       "border_right": null,
       "border_top": null,
       "bottom": null,
       "display": null,
       "flex": null,
       "flex_flow": null,
       "grid_area": null,
       "grid_auto_columns": null,
       "grid_auto_flow": null,
       "grid_auto_rows": null,
       "grid_column": null,
       "grid_gap": null,
       "grid_row": null,
       "grid_template_areas": null,
       "grid_template_columns": null,
       "grid_template_rows": null,
       "height": null,
       "justify_content": null,
       "justify_items": null,
       "left": null,
       "margin": null,
       "max_height": null,
       "max_width": null,
       "min_height": null,
       "min_width": null,
       "object_fit": null,
       "object_position": null,
       "order": null,
       "overflow": null,
       "padding": null,
       "right": null,
       "top": null,
       "visibility": null,
       "width": null
      }
     },
     "30d519ebe1074cdfa219b9ac29e41698": {
      "model_module": "@jupyter-widgets/base",
      "model_module_version": "2.0.0",
      "model_name": "LayoutModel",
      "state": {
       "_model_module": "@jupyter-widgets/base",
       "_model_module_version": "2.0.0",
       "_model_name": "LayoutModel",
       "_view_count": null,
       "_view_module": "@jupyter-widgets/base",
       "_view_module_version": "2.0.0",
       "_view_name": "LayoutView",
       "align_content": null,
       "align_items": null,
       "align_self": null,
       "border_bottom": null,
       "border_left": null,
       "border_right": null,
       "border_top": null,
       "bottom": null,
       "display": null,
       "flex": null,
       "flex_flow": null,
       "grid_area": null,
       "grid_auto_columns": null,
       "grid_auto_flow": null,
       "grid_auto_rows": null,
       "grid_column": null,
       "grid_gap": null,
       "grid_row": null,
       "grid_template_areas": null,
       "grid_template_columns": null,
       "grid_template_rows": null,
       "height": null,
       "justify_content": null,
       "justify_items": null,
       "left": null,
       "margin": null,
       "max_height": null,
       "max_width": null,
       "min_height": null,
       "min_width": null,
       "object_fit": null,
       "object_position": null,
       "order": null,
       "overflow": null,
       "padding": null,
       "right": null,
       "top": null,
       "visibility": null,
       "width": null
      }
     },
     "3c592d849f0c468ab101738dbfc1610b": {
      "model_module": "@jupyter-widgets/controls",
      "model_module_version": "2.0.0",
      "model_name": "ProgressStyleModel",
      "state": {
       "_model_module": "@jupyter-widgets/controls",
       "_model_module_version": "2.0.0",
       "_model_name": "ProgressStyleModel",
       "_view_count": null,
       "_view_module": "@jupyter-widgets/base",
       "_view_module_version": "2.0.0",
       "_view_name": "StyleView",
       "bar_color": null,
       "description_width": ""
      }
     },
     "5a750689d25b4692ad37d5c56c72c6eb": {
      "model_module": "@jupyter-widgets/base",
      "model_module_version": "2.0.0",
      "model_name": "LayoutModel",
      "state": {
       "_model_module": "@jupyter-widgets/base",
       "_model_module_version": "2.0.0",
       "_model_name": "LayoutModel",
       "_view_count": null,
       "_view_module": "@jupyter-widgets/base",
       "_view_module_version": "2.0.0",
       "_view_name": "LayoutView",
       "align_content": null,
       "align_items": null,
       "align_self": null,
       "border_bottom": null,
       "border_left": null,
       "border_right": null,
       "border_top": null,
       "bottom": null,
       "display": null,
       "flex": null,
       "flex_flow": null,
       "grid_area": null,
       "grid_auto_columns": null,
       "grid_auto_flow": null,
       "grid_auto_rows": null,
       "grid_column": null,
       "grid_gap": null,
       "grid_row": null,
       "grid_template_areas": null,
       "grid_template_columns": null,
       "grid_template_rows": null,
       "height": null,
       "justify_content": null,
       "justify_items": null,
       "left": null,
       "margin": null,
       "max_height": null,
       "max_width": null,
       "min_height": null,
       "min_width": null,
       "object_fit": null,
       "object_position": null,
       "order": null,
       "overflow": null,
       "padding": null,
       "right": null,
       "top": null,
       "visibility": null,
       "width": null
      }
     },
     "5aab3241756e409fa0e90ef2dbfc7306": {
      "model_module": "@jupyter-widgets/controls",
      "model_module_version": "2.0.0",
      "model_name": "HBoxModel",
      "state": {
       "_dom_classes": [],
       "_model_module": "@jupyter-widgets/controls",
       "_model_module_version": "2.0.0",
       "_model_name": "HBoxModel",
       "_view_count": null,
       "_view_module": "@jupyter-widgets/controls",
       "_view_module_version": "2.0.0",
       "_view_name": "HBoxView",
       "box_style": "",
       "children": [
        "IPY_MODEL_83106dc903824a83bf8d22dabe94fe1c",
        "IPY_MODEL_dfafcc2f681f41c88b423884fa171153",
        "IPY_MODEL_be3ab981af64472c98d0e20a634c63f0"
       ],
       "layout": "IPY_MODEL_30d519ebe1074cdfa219b9ac29e41698",
       "tabbable": null,
       "tooltip": null
      }
     },
     "68986ec79a414ab0ab19fb685ac2707b": {
      "model_module": "@jupyter-widgets/base",
      "model_module_version": "2.0.0",
      "model_name": "LayoutModel",
      "state": {
       "_model_module": "@jupyter-widgets/base",
       "_model_module_version": "2.0.0",
       "_model_name": "LayoutModel",
       "_view_count": null,
       "_view_module": "@jupyter-widgets/base",
       "_view_module_version": "2.0.0",
       "_view_name": "LayoutView",
       "align_content": null,
       "align_items": null,
       "align_self": null,
       "border_bottom": null,
       "border_left": null,
       "border_right": null,
       "border_top": null,
       "bottom": null,
       "display": null,
       "flex": null,
       "flex_flow": null,
       "grid_area": null,
       "grid_auto_columns": null,
       "grid_auto_flow": null,
       "grid_auto_rows": null,
       "grid_column": null,
       "grid_gap": null,
       "grid_row": null,
       "grid_template_areas": null,
       "grid_template_columns": null,
       "grid_template_rows": null,
       "height": null,
       "justify_content": null,
       "justify_items": null,
       "left": null,
       "margin": null,
       "max_height": null,
       "max_width": null,
       "min_height": null,
       "min_width": null,
       "object_fit": null,
       "object_position": null,
       "order": null,
       "overflow": null,
       "padding": null,
       "right": null,
       "top": null,
       "visibility": null,
       "width": null
      }
     },
     "7befd5a90ab747489f9b77bd60d76d33": {
      "model_module": "@jupyter-widgets/controls",
      "model_module_version": "2.0.0",
      "model_name": "HTMLStyleModel",
      "state": {
       "_model_module": "@jupyter-widgets/controls",
       "_model_module_version": "2.0.0",
       "_model_name": "HTMLStyleModel",
       "_view_count": null,
       "_view_module": "@jupyter-widgets/base",
       "_view_module_version": "2.0.0",
       "_view_name": "StyleView",
       "background": null,
       "description_width": "",
       "font_size": null,
       "text_color": null
      }
     },
     "83106dc903824a83bf8d22dabe94fe1c": {
      "model_module": "@jupyter-widgets/controls",
      "model_module_version": "2.0.0",
      "model_name": "HTMLModel",
      "state": {
       "_dom_classes": [],
       "_model_module": "@jupyter-widgets/controls",
       "_model_module_version": "2.0.0",
       "_model_name": "HTMLModel",
       "_view_count": null,
       "_view_module": "@jupyter-widgets/controls",
       "_view_module_version": "2.0.0",
       "_view_name": "HTMLView",
       "description": "",
       "description_allow_html": false,
       "layout": "IPY_MODEL_68986ec79a414ab0ab19fb685ac2707b",
       "placeholder": "​",
       "style": "IPY_MODEL_00298978b44f469596e0858c8ceee20b",
       "tabbable": null,
       "tooltip": null,
       "value": "100%"
      }
     },
     "be3ab981af64472c98d0e20a634c63f0": {
      "model_module": "@jupyter-widgets/controls",
      "model_module_version": "2.0.0",
      "model_name": "HTMLModel",
      "state": {
       "_dom_classes": [],
       "_model_module": "@jupyter-widgets/controls",
       "_model_module_version": "2.0.0",
       "_model_name": "HTMLModel",
       "_view_count": null,
       "_view_module": "@jupyter-widgets/controls",
       "_view_module_version": "2.0.0",
       "_view_name": "HTMLView",
       "description": "",
       "description_allow_html": false,
       "layout": "IPY_MODEL_0d81813ed3bb46ee852792ef700e48a5",
       "placeholder": "​",
       "style": "IPY_MODEL_7befd5a90ab747489f9b77bd60d76d33",
       "tabbable": null,
       "tooltip": null,
       "value": " 8/8 [00:19&lt;00:00,  3.93s/it]"
      }
     },
     "dfafcc2f681f41c88b423884fa171153": {
      "model_module": "@jupyter-widgets/controls",
      "model_module_version": "2.0.0",
      "model_name": "FloatProgressModel",
      "state": {
       "_dom_classes": [],
       "_model_module": "@jupyter-widgets/controls",
       "_model_module_version": "2.0.0",
       "_model_name": "FloatProgressModel",
       "_view_count": null,
       "_view_module": "@jupyter-widgets/controls",
       "_view_module_version": "2.0.0",
       "_view_name": "ProgressView",
       "bar_style": "success",
       "description": "",
       "description_allow_html": false,
       "layout": "IPY_MODEL_5a750689d25b4692ad37d5c56c72c6eb",
       "max": 8.0,
       "min": 0.0,
       "orientation": "horizontal",
       "style": "IPY_MODEL_3c592d849f0c468ab101738dbfc1610b",
       "tabbable": null,
       "tooltip": null,
       "value": 8.0
      }
     }
    },
    "version_major": 2,
    "version_minor": 0
   }
  }
 },
 "nbformat": 4,
 "nbformat_minor": 5
}