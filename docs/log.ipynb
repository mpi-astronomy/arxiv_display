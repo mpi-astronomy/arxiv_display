{
 "cells": [
  {
   "cell_type": "markdown",
   "id": "92bcb855",
   "metadata": {
    "papermill": {
     "duration": 0.00606,
     "end_time": "2022-09-30T05:16:40.994374",
     "exception": false,
     "start_time": "2022-09-30T05:16:40.988314",
     "status": "completed"
    },
    "tags": []
   },
   "source": [
    "# MPIA Arxiv on Deck 2\n",
    "\n",
    "Contains the steps to produce the paper extractions."
   ]
  },
  {
   "cell_type": "code",
   "execution_count": 1,
   "id": "3a0d6e11",
   "metadata": {
    "execution": {
     "iopub.execute_input": "2022-09-30T05:16:41.006232Z",
     "iopub.status.busy": "2022-09-30T05:16:41.005821Z",
     "iopub.status.idle": "2022-09-30T05:16:41.224192Z",
     "shell.execute_reply": "2022-09-30T05:16:41.223144Z"
    },
    "papermill": {
     "duration": 0.227382,
     "end_time": "2022-09-30T05:16:41.226714",
     "exception": false,
     "start_time": "2022-09-30T05:16:40.999332",
     "status": "completed"
    },
    "tags": []
   },
   "outputs": [],
   "source": [
    "# Imports\n",
    "import os\n",
    "from IPython.display import Markdown, display\n",
    "from tqdm.notebook import tqdm\n",
    "import warnings\n",
    "from PIL import Image \n",
    "\n",
    "# requires arxiv_on_deck_2\n",
    "\n",
    "from arxiv_on_deck_2.arxiv2 import (get_new_papers, \n",
    "                                    get_paper_from_identifier,\n",
    "                                    retrieve_document_source, \n",
    "                                    get_markdown_badge)\n",
    "from arxiv_on_deck_2 import (latex, \n",
    "                             mpia,\n",
    "                             highlight_authors_in_list)\n",
    "\n",
    "# Sometimes images are really big\n",
    "Image.MAX_IMAGE_PIXELS = 1000000000 "
   ]
  },
  {
   "cell_type": "code",
   "execution_count": 2,
   "id": "22aa9d44",
   "metadata": {
    "execution": {
     "iopub.execute_input": "2022-09-30T05:16:41.240685Z",
     "iopub.status.busy": "2022-09-30T05:16:41.240313Z",
     "iopub.status.idle": "2022-09-30T05:16:41.246868Z",
     "shell.execute_reply": "2022-09-30T05:16:41.245892Z"
    },
    "papermill": {
     "duration": 0.016806,
     "end_time": "2022-09-30T05:16:41.249005",
     "exception": false,
     "start_time": "2022-09-30T05:16:41.232199",
     "status": "completed"
    },
    "tags": []
   },
   "outputs": [],
   "source": [
    "# Some useful definitions.\n",
    "\n",
    "class AffiliationWarning(UserWarning):\n",
    "    pass\n",
    "\n",
    "class AffiliationError(RuntimeError):\n",
    "    pass\n",
    "\n",
    "def validation(source: str):\n",
    "    \"\"\"Raises error paper during parsing of source file\n",
    "    \n",
    "    Allows checks before parsing TeX code.\n",
    "    \n",
    "    Raises AffiliationWarning\n",
    "    \"\"\"\n",
    "    check = mpia.affiliation_verifications(source, verbose=True)\n",
    "    if check is not True:\n",
    "        raise AffiliationError(\"mpia.affiliation_verifications: \" + check)\n",
    "\n",
    "        \n",
    "warnings.simplefilter('always', AffiliationWarning)"
   ]
  },
  {
   "cell_type": "code",
   "execution_count": 3,
   "id": "14622700",
   "metadata": {
    "execution": {
     "iopub.execute_input": "2022-09-30T05:16:41.262628Z",
     "iopub.status.busy": "2022-09-30T05:16:41.261934Z",
     "iopub.status.idle": "2022-09-30T05:16:41.267136Z",
     "shell.execute_reply": "2022-09-30T05:16:41.266160Z"
    },
    "papermill": {
     "duration": 0.015764,
     "end_time": "2022-09-30T05:16:41.269688",
     "exception": false,
     "start_time": "2022-09-30T05:16:41.253924",
     "status": "completed"
    },
    "tags": []
   },
   "outputs": [],
   "source": [
    "# additional CSS to consider. \n",
    "# TODO: Current into each exported file. \n",
    "#       This should be set once into the webpages directly.\n",
    "#       With only the class/id definitions in the .md files.\n",
    "\n",
    "debug_html = \"\"\"\n",
    "<style>\n",
    "#wrap{ overflow:auto; }\n",
    "#fig1{ background:yellow; width:100%; float:left; padding:5px;  }\n",
    "#fig2{ background:red; width:50%; float:left; clear:left; padding:5px;  }\n",
    "#fig3{ background:green; width:50%; float:left; padding:5px;   }\n",
    ".macros{ background:yellow; visibility:visible;}\n",
    "h1 {margin: 0 0 0 0;}\n",
    "mark {background-color:#fff3b6;}\n",
    "img {object-fit:contain; max-height:250px; display:inline-block; text-align: center;}\n",
    "</style>\n",
    "\"\"\" \n",
    "html = \"\"\"\n",
    "<style>\n",
    "#wrap{ overflow:auto; }\n",
    "#fig1{ width:100%; float:left; padding: 5px;  }\n",
    "#fig2{ width:50%; float:left; clear:left; padding: 5px;  }\n",
    "#fig3{ width:50%; float:left; padding: 5px;  }\n",
    ".macros{ visibility:hidden; height:0px; }\n",
    "h1 {margin: 0em 0 0 0;}\n",
    "mark {background-color:#fff3b6;}\n",
    "img {object-fit:contain; max-height:250px; display:inline-block; text-align: center;}\n",
    "</style>\n",
    "\"\"\""
   ]
  },
  {
   "cell_type": "markdown",
   "id": "14bd6310",
   "metadata": {
    "papermill": {
     "duration": 0.004741,
     "end_time": "2022-09-30T05:16:41.279049",
     "exception": false,
     "start_time": "2022-09-30T05:16:41.274308",
     "status": "completed"
    },
    "tags": []
   },
   "source": [
    "## get list of arxiv paper candidates\n",
    "\n",
    "We use the MPIA mitarbeiter list webpage from mpia.de to get author names\n",
    "We then get all new papers from Arxiv and match authors"
   ]
  },
  {
   "cell_type": "code",
   "execution_count": 4,
   "id": "2645e73a",
   "metadata": {
    "execution": {
     "iopub.execute_input": "2022-09-30T05:16:41.290270Z",
     "iopub.status.busy": "2022-09-30T05:16:41.289825Z",
     "iopub.status.idle": "2022-09-30T05:17:10.723654Z",
     "shell.execute_reply": "2022-09-30T05:17:10.722503Z"
    },
    "papermill": {
     "duration": 29.442135,
     "end_time": "2022-09-30T05:17:10.725843",
     "exception": false,
     "start_time": "2022-09-30T05:16:41.283708",
     "status": "completed"
    },
    "tags": []
   },
   "outputs": [
    {
     "name": "stdout",
     "output_type": "stream",
     "text": [
      "Arxiv has 60 new papers today\n",
      "          22 with possible author matches\n"
     ]
    }
   ],
   "source": [
    "# get list from MPIA website\n",
    "# it automatically filters identified non-scientists :func:`mpia.filter_non_scientists`\n",
    "mpia_authors = mpia.get_mpia_mitarbeiter_list()\n",
    "new_papers = get_new_papers()\n",
    "# add manual references\n",
    "add_paper_refs = []\n",
    "new_papers.extend([get_paper_from_identifier(k) for k in add_paper_refs])\n",
    "\n",
    "# select only papers with matching author names and highlight authors\n",
    "hl_list = [k[0] for k in mpia_authors]\n",
    "\n",
    "candidates = []\n",
    "for paperk in new_papers:\n",
    "    hl_authors = highlight_authors_in_list(paperk['authors'], hl_list)\n",
    "    matches = [(hl, orig) for hl, orig in zip(hl_authors, paperk['authors']) if 'mark' in hl]\n",
    "    paperk['authors'] = hl_authors\n",
    "    if matches:\n",
    "        candidates.append(paperk)\n",
    "print(\"\"\"Arxiv has {0:,d} new papers today\"\"\".format(len(new_papers)))        \n",
    "print(\"\"\"          {0:,d} with possible author matches\"\"\".format(len(candidates)))"
   ]
  },
  {
   "cell_type": "markdown",
   "id": "3543b34a",
   "metadata": {
    "papermill": {
     "duration": 0.005199,
     "end_time": "2022-09-30T05:17:10.736340",
     "exception": false,
     "start_time": "2022-09-30T05:17:10.731141",
     "status": "completed"
    },
    "tags": []
   },
   "source": [
    "# Parse sources and generate relevant outputs\n",
    "\n",
    "From the candidates, we do the following steps:\n",
    "* get their tarball from ArXiv (and extract data)\n",
    "* find the main .tex file: find one with \\documentclass{...} (sometimes it's non trivial)\n",
    "* Check affiliations with :func:`validation`, which uses :func:`mpia.affiliation_verifications`\n",
    "* If passing the affiliations: we parse the .tex source\n",
    "   * inject sub-documents into the main (flatten the main document)\n",
    "   * parse structure, extract information (title, abstract, authors, figures...)\n",
    "   * handles `\\graphicspath` if provided\n",
    "* Generate the .md document."
   ]
  },
  {
   "cell_type": "code",
   "execution_count": 5,
   "id": "9576b79e",
   "metadata": {
    "execution": {
     "iopub.execute_input": "2022-09-30T05:17:10.747640Z",
     "iopub.status.busy": "2022-09-30T05:17:10.747315Z",
     "iopub.status.idle": "2022-09-30T05:18:55.710265Z",
     "shell.execute_reply": "2022-09-30T05:18:55.709254Z"
    },
    "papermill": {
     "duration": 104.97122,
     "end_time": "2022-09-30T05:18:55.712311",
     "exception": false,
     "start_time": "2022-09-30T05:17:10.741091",
     "status": "completed"
    },
    "scrolled": false,
    "tags": []
   },
   "outputs": [
    {
     "data": {
      "application/vnd.jupyter.widget-view+json": {
       "model_id": "6be717ae39ba4fcb936cf37fd1ce5440",
       "version_major": 2,
       "version_minor": 0
      },
      "text/plain": [
       "  0%|          | 0/21 [00:00<?, ?it/s]"
      ]
     },
     "metadata": {},
     "output_type": "display_data"
    },
    {
     "name": "stdout",
     "output_type": "stream",
     "text": [
      "Retrieving document from  https://arxiv.org/e-print/2209.14312\n"
     ]
    },
    {
     "name": "stdout",
     "output_type": "stream",
     "text": [
      "extracting tarball to tmp_2209.14312..."
     ]
    },
    {
     "name": "stdout",
     "output_type": "stream",
     "text": [
      " done.\n",
      "Retrieving document from  https://arxiv.org/e-print/2209.14314\n"
     ]
    },
    {
     "name": "stderr",
     "output_type": "stream",
     "text": [
      "/opt/hostedtoolcache/Python/3.9.14/x64/lib/python3.9/site-packages/IPython/core/interactiveshell.py:3378: LatexWarning: Multiple tex files.\n",
      "\n",
      "  exec(code_obj, self.user_global_ns, self.user_ns)\n",
      "/opt/hostedtoolcache/Python/3.9.14/x64/lib/python3.9/site-packages/IPython/core/interactiveshell.py:3378: LatexWarning: Found documentclass in tmp_2209.14312/natnotes.tex\n",
      "\n",
      "  exec(code_obj, self.user_global_ns, self.user_ns)\n"
     ]
    },
    {
     "name": "stdout",
     "output_type": "stream",
     "text": [
      "extracting tarball to tmp_2209.14314..."
     ]
    },
    {
     "name": "stdout",
     "output_type": "stream",
     "text": [
      " done.\n",
      "Retrieving document from  https://arxiv.org/e-print/2209.14326\n"
     ]
    },
    {
     "name": "stdout",
     "output_type": "stream",
     "text": [
      "extracting tarball to tmp_2209.14326..."
     ]
    },
    {
     "name": "stdout",
     "output_type": "stream",
     "text": [
      " done.\n",
      "Retrieving document from  https://arxiv.org/e-print/2209.14339\n"
     ]
    },
    {
     "name": "stdout",
     "output_type": "stream",
     "text": [
      "extracting tarball to tmp_2209.14339..."
     ]
    },
    {
     "name": "stdout",
     "output_type": "stream",
     "text": [
      " done.\n",
      "Retrieving document from  https://arxiv.org/e-print/2209.14386\n"
     ]
    },
    {
     "name": "stderr",
     "output_type": "stream",
     "text": [
      "/opt/hostedtoolcache/Python/3.9.14/x64/lib/python3.9/site-packages/IPython/core/interactiveshell.py:3378: LatexWarning: Multiple tex files.\n",
      "\n",
      "  exec(code_obj, self.user_global_ns, self.user_ns)\n",
      "/opt/hostedtoolcache/Python/3.9.14/x64/lib/python3.9/site-packages/IPython/core/interactiveshell.py:3378: LatexWarning: Found documentclass in tmp_2209.14339/manuscript.tex\n",
      "\n",
      "  exec(code_obj, self.user_global_ns, self.user_ns)\n",
      "/opt/hostedtoolcache/Python/3.9.14/x64/lib/python3.9/site-packages/arxiv_on_deck_2/latex.py:292: LatexWarning: Latex injecting: 'conclusions' from 'tmp_2209.14339/sections/conclusions.tex'\n",
      "  warnings.warn(LatexWarning(f\"Latex injecting: '{ext}' from '{subsource}'\"))\n",
      "/opt/hostedtoolcache/Python/3.9.14/x64/lib/python3.9/site-packages/arxiv_on_deck_2/latex.py:292: LatexWarning: Latex injecting: 'results' from 'tmp_2209.14339/sections/results.tex'\n",
      "  warnings.warn(LatexWarning(f\"Latex injecting: '{ext}' from '{subsource}'\"))\n",
      "/opt/hostedtoolcache/Python/3.9.14/x64/lib/python3.9/site-packages/arxiv_on_deck_2/latex.py:292: LatexWarning: Latex injecting: 'numerical_details' from 'tmp_2209.14339/sections/numerical_details.tex'\n",
      "  warnings.warn(LatexWarning(f\"Latex injecting: '{ext}' from '{subsource}'\"))\n",
      "/opt/hostedtoolcache/Python/3.9.14/x64/lib/python3.9/site-packages/arxiv_on_deck_2/latex.py:292: LatexWarning: Latex injecting: 'intro' from 'tmp_2209.14339/sections/intro.tex'\n",
      "  warnings.warn(LatexWarning(f\"Latex injecting: '{ext}' from '{subsource}'\"))\n"
     ]
    },
    {
     "name": "stdout",
     "output_type": "stream",
     "text": [
      "extracting tarball to tmp_2209.14386..."
     ]
    },
    {
     "name": "stdout",
     "output_type": "stream",
     "text": [
      " done.\n",
      "Retrieving document from  https://arxiv.org/e-print/2209.14396\n"
     ]
    },
    {
     "name": "stdout",
     "output_type": "stream",
     "text": [
      "extracting tarball to tmp_2209.14396..."
     ]
    },
    {
     "name": "stdout",
     "output_type": "stream",
     "text": [
      " done.\n"
     ]
    },
    {
     "name": "stderr",
     "output_type": "stream",
     "text": [
      "/opt/hostedtoolcache/Python/3.9.14/x64/lib/python3.9/site-packages/IPython/core/interactiveshell.py:3378: LatexWarning: Multiple tex files.\n",
      "\n",
      "  exec(code_obj, self.user_global_ns, self.user_ns)\n",
      "/opt/hostedtoolcache/Python/3.9.14/x64/lib/python3.9/site-packages/IPython/core/interactiveshell.py:3378: LatexWarning: Found documentclass in tmp_2209.14396/toi2000.tex\n",
      "\n",
      "  exec(code_obj, self.user_global_ns, self.user_ns)\n",
      "/opt/hostedtoolcache/Python/3.9.14/x64/lib/python3.9/site-packages/arxiv_on_deck_2/latex.py:292: LatexWarning: Latex injecting: 'tables/giant_multi.tex' from 'tmp_2209.14396/tables/giant_multi.tex'\n",
      "  warnings.warn(LatexWarning(f\"Latex injecting: '{ext}' from '{subsource}'\"))\n",
      "/opt/hostedtoolcache/Python/3.9.14/x64/lib/python3.9/site-packages/arxiv_on_deck_2/latex.py:292: LatexWarning: Latex injecting: 'tables/nuissance' from 'tmp_2209.14396/tables/nuissance.tex'\n",
      "  warnings.warn(LatexWarning(f\"Latex injecting: '{ext}' from '{subsource}'\"))\n",
      "/opt/hostedtoolcache/Python/3.9.14/x64/lib/python3.9/site-packages/arxiv_on_deck_2/latex.py:292: LatexWarning: Latex injecting: 'tables/planet_params' from 'tmp_2209.14396/tables/planet_params.tex'\n",
      "  warnings.warn(LatexWarning(f\"Latex injecting: '{ext}' from '{subsource}'\"))\n",
      "/opt/hostedtoolcache/Python/3.9.14/x64/lib/python3.9/site-packages/arxiv_on_deck_2/latex.py:292: LatexWarning: Latex injecting: 'tables/stellar_params' from 'tmp_2209.14396/tables/stellar_params.tex'\n",
      "  warnings.warn(LatexWarning(f\"Latex injecting: '{ext}' from '{subsource}'\"))\n",
      "/opt/hostedtoolcache/Python/3.9.14/x64/lib/python3.9/site-packages/arxiv_on_deck_2/latex.py:292: LatexWarning: Latex injecting: 'tables/abundances.tex' from 'tmp_2209.14396/tables/abundances.tex'\n",
      "  warnings.warn(LatexWarning(f\"Latex injecting: '{ext}' from '{subsource}'\"))\n",
      "/opt/hostedtoolcache/Python/3.9.14/x64/lib/python3.9/site-packages/arxiv_on_deck_2/latex.py:292: LatexWarning: Latex injecting: 'tables/rv' from 'tmp_2209.14396/tables/rv.tex'\n",
      "  warnings.warn(LatexWarning(f\"Latex injecting: '{ext}' from '{subsource}'\"))\n",
      "/opt/hostedtoolcache/Python/3.9.14/x64/lib/python3.9/site-packages/arxiv_on_deck_2/latex.py:292: LatexWarning: Latex injecting: 'tables/spectroscopy.tex' from 'tmp_2209.14396/tables/spectroscopy.tex'\n",
      "  warnings.warn(LatexWarning(f\"Latex injecting: '{ext}' from '{subsource}'\"))\n",
      "/opt/hostedtoolcache/Python/3.9.14/x64/lib/python3.9/site-packages/arxiv_on_deck_2/latex.py:292: LatexWarning: Latex injecting: 'tables/astep' from 'tmp_2209.14396/tables/astep.tex'\n",
      "  warnings.warn(LatexWarning(f\"Latex injecting: '{ext}' from '{subsource}'\"))\n",
      "/opt/hostedtoolcache/Python/3.9.14/x64/lib/python3.9/site-packages/arxiv_on_deck_2/latex.py:292: LatexWarning: Latex injecting: 'tables/pest' from 'tmp_2209.14396/tables/pest.tex'\n",
      "  warnings.warn(LatexWarning(f\"Latex injecting: '{ext}' from '{subsource}'\"))\n",
      "/opt/hostedtoolcache/Python/3.9.14/x64/lib/python3.9/site-packages/arxiv_on_deck_2/latex.py:292: LatexWarning: Latex injecting: 'tables/lcogt_sso' from 'tmp_2209.14396/tables/lcogt_sso.tex'\n",
      "  warnings.warn(LatexWarning(f\"Latex injecting: '{ext}' from '{subsource}'\"))\n",
      "/opt/hostedtoolcache/Python/3.9.14/x64/lib/python3.9/site-packages/arxiv_on_deck_2/latex.py:292: LatexWarning: Latex injecting: 'tables/tess_20s' from 'tmp_2209.14396/tables/tess_20s.tex'\n",
      "  warnings.warn(LatexWarning(f\"Latex injecting: '{ext}' from '{subsource}'\"))\n",
      "/opt/hostedtoolcache/Python/3.9.14/x64/lib/python3.9/site-packages/arxiv_on_deck_2/latex.py:292: LatexWarning: Latex injecting: 'tables/tess_30m' from 'tmp_2209.14396/tables/tess_30m.tex'\n",
      "  warnings.warn(LatexWarning(f\"Latex injecting: '{ext}' from '{subsource}'\"))\n",
      "/opt/hostedtoolcache/Python/3.9.14/x64/lib/python3.9/site-packages/arxiv_on_deck_2/latex.py:292: LatexWarning: Latex injecting: 'tables/photometry.tex' from 'tmp_2209.14396/tables/photometry.tex'\n",
      "  warnings.warn(LatexWarning(f\"Latex injecting: '{ext}' from '{subsource}'\"))\n",
      "/opt/hostedtoolcache/Python/3.9.14/x64/lib/python3.9/site-packages/arxiv_on_deck_2/latex.py:292: LatexWarning: Latex injecting: 'all_params' from 'tmp_2209.14396/all_params.tex'\n",
      "  warnings.warn(LatexWarning(f\"Latex injecting: '{ext}' from '{subsource}'\"))\n"
     ]
    },
    {
     "name": "stdout",
     "output_type": "stream",
     "text": [
      "Retrieving document from  https://arxiv.org/e-print/2209.14410\n"
     ]
    },
    {
     "name": "stdout",
     "output_type": "stream",
     "text": [
      "extracting tarball to tmp_2209.14410... done.\n"
     ]
    },
    {
     "name": "stderr",
     "output_type": "stream",
     "text": [
      "/opt/hostedtoolcache/Python/3.9.14/x64/lib/python3.9/site-packages/IPython/core/interactiveshell.py:3378: LatexWarning: Multiple tex files.\n",
      "\n",
      "  exec(code_obj, self.user_global_ns, self.user_ns)\n",
      "/opt/hostedtoolcache/Python/3.9.14/x64/lib/python3.9/site-packages/IPython/core/interactiveshell.py:3378: LatexWarning: Found documentclass in tmp_2209.14410/ms.tex\n",
      "\n",
      "  exec(code_obj, self.user_global_ns, self.user_ns)\n",
      "/opt/hostedtoolcache/Python/3.9.14/x64/lib/python3.9/site-packages/arxiv_on_deck_2/latex.py:292: LatexWarning: Latex injecting: 'tab3' from 'tmp_2209.14410/tab3.tex'\n",
      "  warnings.warn(LatexWarning(f\"Latex injecting: '{ext}' from '{subsource}'\"))\n",
      "/opt/hostedtoolcache/Python/3.9.14/x64/lib/python3.9/site-packages/arxiv_on_deck_2/latex.py:292: LatexWarning: Latex injecting: 'tab2' from 'tmp_2209.14410/tab2.tex'\n",
      "  warnings.warn(LatexWarning(f\"Latex injecting: '{ext}' from '{subsource}'\"))\n",
      "/opt/hostedtoolcache/Python/3.9.14/x64/lib/python3.9/site-packages/arxiv_on_deck_2/latex.py:292: LatexWarning: Latex injecting: 'tab1' from 'tmp_2209.14410/tab1.tex'\n",
      "  warnings.warn(LatexWarning(f\"Latex injecting: '{ext}' from '{subsource}'\"))\n"
     ]
    },
    {
     "name": "stdout",
     "output_type": "stream",
     "text": [
      "Retrieving document from  https://arxiv.org/e-print/2209.14423\n"
     ]
    },
    {
     "name": "stdout",
     "output_type": "stream",
     "text": [
      "extracting tarball to tmp_2209.14423..."
     ]
    },
    {
     "name": "stdout",
     "output_type": "stream",
     "text": [
      " done.\n",
      "Retrieving document from  https://arxiv.org/e-print/2209.14473\n"
     ]
    },
    {
     "name": "stdout",
     "output_type": "stream",
     "text": [
      "extracting tarball to tmp_2209.14473..."
     ]
    },
    {
     "name": "stdout",
     "output_type": "stream",
     "text": [
      " done.\n",
      "Retrieving document from  https://arxiv.org/e-print/2209.14482\n"
     ]
    },
    {
     "name": "stdout",
     "output_type": "stream",
     "text": [
      "extracting tarball to tmp_2209.14482..."
     ]
    },
    {
     "name": "stdout",
     "output_type": "stream",
     "text": [
      " done.\n",
      "Retrieving document from  https://arxiv.org/e-print/2209.14495\n"
     ]
    },
    {
     "name": "stderr",
     "output_type": "stream",
     "text": [
      "/opt/hostedtoolcache/Python/3.9.14/x64/lib/python3.9/site-packages/IPython/core/interactiveshell.py:3378: LatexWarning: Multiple tex files.\n",
      "\n",
      "  exec(code_obj, self.user_global_ns, self.user_ns)\n",
      "/opt/hostedtoolcache/Python/3.9.14/x64/lib/python3.9/site-packages/IPython/core/interactiveshell.py:3378: LatexWarning: Found documentclass in tmp_2209.14482/paper.tex\n",
      "\n",
      "  exec(code_obj, self.user_global_ns, self.user_ns)\n",
      "/opt/hostedtoolcache/Python/3.9.14/x64/lib/python3.9/site-packages/arxiv_on_deck_2/latex.py:292: LatexWarning: Latex injecting: 'offline-qa-example' from 'tmp_2209.14482/offline-qa-example.tex'\n",
      "  warnings.warn(LatexWarning(f\"Latex injecting: '{ext}' from '{subsource}'\"))\n",
      "/opt/hostedtoolcache/Python/3.9.14/x64/lib/python3.9/site-packages/arxiv_on_deck_2/latex.py:292: LatexWarning: Latex injecting: 'resample-resolution' from 'tmp_2209.14482/resample-resolution.tex'\n",
      "  warnings.warn(LatexWarning(f\"Latex injecting: '{ext}' from '{subsource}'\"))\n",
      "/opt/hostedtoolcache/Python/3.9.14/x64/lib/python3.9/site-packages/arxiv_on_deck_2/latex.py:292: LatexWarning: Latex injecting: 'spectroperf-convolution' from 'tmp_2209.14482/spectroperf-convolution.tex'\n",
      "  warnings.warn(LatexWarning(f\"Latex injecting: '{ext}' from '{subsource}'\"))\n",
      "/opt/hostedtoolcache/Python/3.9.14/x64/lib/python3.9/site-packages/arxiv_on_deck_2/latex.py:292: LatexWarning: Latex injecting: 'arclinelisttext' from 'tmp_2209.14482/arclinelisttext.tex'\n",
      "  warnings.warn(LatexWarning(f\"Latex injecting: '{ext}' from '{subsource}'\"))\n",
      "/opt/hostedtoolcache/Python/3.9.14/x64/lib/python3.9/site-packages/arxiv_on_deck_2/latex.py:292: LatexWarning: Latex injecting: 'ccdproperties' from 'tmp_2209.14482/ccdproperties.tex'\n",
      "  warnings.warn(LatexWarning(f\"Latex injecting: '{ext}' from '{subsource}'\"))\n",
      "/opt/hostedtoolcache/Python/3.9.14/x64/lib/python3.9/site-packages/arxiv_on_deck_2/latex.py:292: LatexWarning: Latex injecting: 'acknowledgments' from 'tmp_2209.14482/acknowledgments.tex'\n",
      "  warnings.warn(LatexWarning(f\"Latex injecting: '{ext}' from '{subsource}'\"))\n",
      "/opt/hostedtoolcache/Python/3.9.14/x64/lib/python3.9/site-packages/arxiv_on_deck_2/latex.py:292: LatexWarning: Latex injecting: 'summary' from 'tmp_2209.14482/summary.tex'\n",
      "  warnings.warn(LatexWarning(f\"Latex injecting: '{ext}' from '{subsource}'\"))\n",
      "/opt/hostedtoolcache/Python/3.9.14/x64/lib/python3.9/site-packages/arxiv_on_deck_2/latex.py:292: LatexWarning: Latex injecting: 'dataproducts' from 'tmp_2209.14482/dataproducts.tex'\n",
      "  warnings.warn(LatexWarning(f\"Latex injecting: '{ext}' from '{subsource}'\"))\n",
      "/opt/hostedtoolcache/Python/3.9.14/x64/lib/python3.9/site-packages/arxiv_on_deck_2/latex.py:292: LatexWarning: Latex injecting: 'offline-qa' from 'tmp_2209.14482/offline-qa.tex'\n",
      "  warnings.warn(LatexWarning(f\"Latex injecting: '{ext}' from '{subsource}'\"))\n",
      "/opt/hostedtoolcache/Python/3.9.14/x64/lib/python3.9/site-packages/arxiv_on_deck_2/latex.py:292: LatexWarning: Latex injecting: 'offline-processing' from 'tmp_2209.14482/offline-processing.tex'\n",
      "  warnings.warn(LatexWarning(f\"Latex injecting: '{ext}' from '{subsource}'\"))\n",
      "/opt/hostedtoolcache/Python/3.9.14/x64/lib/python3.9/site-packages/arxiv_on_deck_2/latex.py:292: LatexWarning: Latex injecting: 'realtime-processing' from 'tmp_2209.14482/realtime-processing.tex'\n",
      "  warnings.warn(LatexWarning(f\"Latex injecting: '{ext}' from '{subsource}'\"))\n",
      "/opt/hostedtoolcache/Python/3.9.14/x64/lib/python3.9/site-packages/arxiv_on_deck_2/latex.py:292: LatexWarning: Latex injecting: 'methodology' from 'tmp_2209.14482/methodology.tex'\n",
      "  warnings.warn(LatexWarning(f\"Latex injecting: '{ext}' from '{subsource}'\"))\n",
      "/opt/hostedtoolcache/Python/3.9.14/x64/lib/python3.9/site-packages/arxiv_on_deck_2/latex.py:292: LatexWarning: Latex injecting: 'effectivetime' from 'tmp_2209.14482/effectivetime.tex'\n",
      "  warnings.warn(LatexWarning(f\"Latex injecting: '{ext}' from '{subsource}'\"))\n",
      "/opt/hostedtoolcache/Python/3.9.14/x64/lib/python3.9/site-packages/arxiv_on_deck_2/latex.py:292: LatexWarning: Latex injecting: 'redshifts' from 'tmp_2209.14482/redshifts.tex'\n",
      "  warnings.warn(LatexWarning(f\"Latex injecting: '{ext}' from '{subsource}'\"))\n",
      "/opt/hostedtoolcache/Python/3.9.14/x64/lib/python3.9/site-packages/arxiv_on_deck_2/latex.py:292: LatexWarning: Latex injecting: 'coaddition' from 'tmp_2209.14482/coaddition.tex'\n",
      "  warnings.warn(LatexWarning(f\"Latex injecting: '{ext}' from '{subsource}'\"))\n",
      "/opt/hostedtoolcache/Python/3.9.14/x64/lib/python3.9/site-packages/arxiv_on_deck_2/latex.py:292: LatexWarning: Latex injecting: 'fibercrosstalk' from 'tmp_2209.14482/fibercrosstalk.tex'\n",
      "  warnings.warn(LatexWarning(f\"Latex injecting: '{ext}' from '{subsource}'\"))\n",
      "/opt/hostedtoolcache/Python/3.9.14/x64/lib/python3.9/site-packages/arxiv_on_deck_2/latex.py:292: LatexWarning: Latex injecting: 'fluxcalibration' from 'tmp_2209.14482/fluxcalibration.tex'\n",
      "  warnings.warn(LatexWarning(f\"Latex injecting: '{ext}' from '{subsource}'\"))\n",
      "/opt/hostedtoolcache/Python/3.9.14/x64/lib/python3.9/site-packages/arxiv_on_deck_2/latex.py:292: LatexWarning: Latex injecting: 'starfit' from 'tmp_2209.14482/starfit.tex'\n",
      "  warnings.warn(LatexWarning(f\"Latex injecting: '{ext}' from '{subsource}'\"))\n",
      "/opt/hostedtoolcache/Python/3.9.14/x64/lib/python3.9/site-packages/arxiv_on_deck_2/latex.py:292: LatexWarning: Latex injecting: 'skysubtraction' from 'tmp_2209.14482/skysubtraction.tex'\n",
      "  warnings.warn(LatexWarning(f\"Latex injecting: '{ext}' from '{subsource}'\"))\n",
      "/opt/hostedtoolcache/Python/3.9.14/x64/lib/python3.9/site-packages/arxiv_on_deck_2/latex.py:292: LatexWarning: Latex injecting: 'fiberflat' from 'tmp_2209.14482/fiberflat.tex'\n",
      "  warnings.warn(LatexWarning(f\"Latex injecting: '{ext}' from '{subsource}'\"))\n",
      "/opt/hostedtoolcache/Python/3.9.14/x64/lib/python3.9/site-packages/arxiv_on_deck_2/latex.py:292: LatexWarning: Latex injecting: 'extraction' from 'tmp_2209.14482/extraction.tex'\n",
      "  warnings.warn(LatexWarning(f\"Latex injecting: '{ext}' from '{subsource}'\"))\n",
      "/opt/hostedtoolcache/Python/3.9.14/x64/lib/python3.9/site-packages/arxiv_on_deck_2/latex.py:292: LatexWarning: Latex injecting: 'wavecalib' from 'tmp_2209.14482/wavecalib.tex'\n",
      "  warnings.warn(LatexWarning(f\"Latex injecting: '{ext}' from '{subsource}'\"))\n",
      "/opt/hostedtoolcache/Python/3.9.14/x64/lib/python3.9/site-packages/arxiv_on_deck_2/latex.py:292: LatexWarning: Latex injecting: 'psf' from 'tmp_2209.14482/psf.tex'\n",
      "  warnings.warn(LatexWarning(f\"Latex injecting: '{ext}' from '{subsource}'\"))\n",
      "/opt/hostedtoolcache/Python/3.9.14/x64/lib/python3.9/site-packages/arxiv_on_deck_2/latex.py:292: LatexWarning: Latex injecting: 'preprocessing' from 'tmp_2209.14482/preprocessing.tex'\n",
      "  warnings.warn(LatexWarning(f\"Latex injecting: '{ext}' from '{subsource}'\"))\n",
      "/opt/hostedtoolcache/Python/3.9.14/x64/lib/python3.9/site-packages/arxiv_on_deck_2/latex.py:292: LatexWarning: Latex injecting: 'overview' from 'tmp_2209.14482/overview.tex'\n",
      "  warnings.warn(LatexWarning(f\"Latex injecting: '{ext}' from '{subsource}'\"))\n",
      "/opt/hostedtoolcache/Python/3.9.14/x64/lib/python3.9/site-packages/arxiv_on_deck_2/latex.py:292: LatexWarning: Latex injecting: 'observations' from 'tmp_2209.14482/observations.tex'\n",
      "  warnings.warn(LatexWarning(f\"Latex injecting: '{ext}' from '{subsource}'\"))\n",
      "/opt/hostedtoolcache/Python/3.9.14/x64/lib/python3.9/site-packages/arxiv_on_deck_2/latex.py:292: LatexWarning: Latex injecting: 'instrument' from 'tmp_2209.14482/instrument.tex'\n",
      "  warnings.warn(LatexWarning(f\"Latex injecting: '{ext}' from '{subsource}'\"))\n",
      "/opt/hostedtoolcache/Python/3.9.14/x64/lib/python3.9/site-packages/arxiv_on_deck_2/latex.py:292: LatexWarning: Latex injecting: 'introduction' from 'tmp_2209.14482/introduction.tex'\n",
      "  warnings.warn(LatexWarning(f\"Latex injecting: '{ext}' from '{subsource}'\"))\n",
      "/opt/hostedtoolcache/Python/3.9.14/x64/lib/python3.9/site-packages/arxiv_on_deck_2/latex.py:292: LatexWarning: Latex injecting: 'abstract' from 'tmp_2209.14482/abstract.tex'\n",
      "  warnings.warn(LatexWarning(f\"Latex injecting: '{ext}' from '{subsource}'\"))\n",
      "/opt/hostedtoolcache/Python/3.9.14/x64/lib/python3.9/site-packages/arxiv_on_deck_2/latex.py:292: LatexWarning: Latex injecting: 'authors' from 'tmp_2209.14482/authors.tex'\n",
      "  warnings.warn(LatexWarning(f\"Latex injecting: '{ext}' from '{subsource}'\"))\n"
     ]
    },
    {
     "name": "stdout",
     "output_type": "stream",
     "text": [
      "extracting tarball to tmp_2209.14495..."
     ]
    },
    {
     "name": "stdout",
     "output_type": "stream",
     "text": [
      " done.\n",
      "Retrieving document from  https://arxiv.org/e-print/2209.14629\n"
     ]
    },
    {
     "name": "stderr",
     "output_type": "stream",
     "text": [
      "/tmp/ipykernel_2259/4030337529.py:34: LatexWarning: 2209.14629 did not run properly\n",
      "not a gzip file\n",
      "  warnings.warn(latex.LatexWarning(f\"{paper_id:s} did not run properly\\n\" +\n"
     ]
    },
    {
     "name": "stdout",
     "output_type": "stream",
     "text": [
      "Retrieving document from  https://arxiv.org/e-print/2209.14677\n"
     ]
    },
    {
     "name": "stdout",
     "output_type": "stream",
     "text": [
      "extracting tarball to tmp_2209.14677..."
     ]
    },
    {
     "name": "stdout",
     "output_type": "stream",
     "text": [
      " done.\n",
      "Retrieving document from  https://arxiv.org/e-print/2209.14691\n"
     ]
    },
    {
     "name": "stdout",
     "output_type": "stream",
     "text": [
      "extracting tarball to tmp_2209.14691..."
     ]
    },
    {
     "name": "stdout",
     "output_type": "stream",
     "text": [
      " done.\n",
      "Retrieving document from  https://arxiv.org/e-print/2209.14731\n"
     ]
    },
    {
     "name": "stdout",
     "output_type": "stream",
     "text": [
      "extracting tarball to tmp_2209.14731..."
     ]
    },
    {
     "name": "stdout",
     "output_type": "stream",
     "text": [
      " done.\n",
      "Retrieving document from  https://arxiv.org/e-print/2209.14732\n"
     ]
    },
    {
     "name": "stdout",
     "output_type": "stream",
     "text": [
      "extracting tarball to tmp_2209.14732..."
     ]
    },
    {
     "name": "stdout",
     "output_type": "stream",
     "text": [
      " done.\n",
      "Retrieving document from  https://arxiv.org/e-print/2209.14789\n"
     ]
    },
    {
     "name": "stdout",
     "output_type": "stream",
     "text": [
      "extracting tarball to tmp_2209.14789..."
     ]
    },
    {
     "name": "stdout",
     "output_type": "stream",
     "text": [
      " done.\n",
      "Retrieving document from  https://arxiv.org/e-print/2209.14830\n"
     ]
    },
    {
     "name": "stdout",
     "output_type": "stream",
     "text": [
      "extracting tarball to tmp_2209.14830..."
     ]
    },
    {
     "name": "stdout",
     "output_type": "stream",
     "text": [
      " done.\n",
      "Retrieving document from  https://arxiv.org/e-print/2209.14844\n"
     ]
    },
    {
     "name": "stdout",
     "output_type": "stream",
     "text": [
      "extracting tarball to tmp_2209.14844..."
     ]
    },
    {
     "name": "stdout",
     "output_type": "stream",
     "text": [
      " done.\n",
      "Retrieving document from  https://arxiv.org/e-print/2209.14866\n"
     ]
    },
    {
     "name": "stdout",
     "output_type": "stream",
     "text": [
      "extracting tarball to tmp_2209.14866..."
     ]
    },
    {
     "name": "stdout",
     "output_type": "stream",
     "text": [
      " done.\n",
      "Retrieving document from  https://arxiv.org/e-print/2209.14897\n"
     ]
    },
    {
     "name": "stderr",
     "output_type": "stream",
     "text": [
      "/tmp/ipykernel_2259/4030337529.py:34: LatexWarning: 2209.14897 did not run properly\n",
      "not a gzip file\n",
      "  warnings.warn(latex.LatexWarning(f\"{paper_id:s} did not run properly\\n\" +\n"
     ]
    }
   ],
   "source": [
    "documents = []\n",
    "failed = []\n",
    "for paper in tqdm(candidates[:-1]):\n",
    "    paper_id = paper['identifier'].lower().replace('arxiv:', '')\n",
    "    \n",
    "    folder = f'tmp_{paper_id}'\n",
    "\n",
    "    try:\n",
    "        if not os.path.isdir(folder):\n",
    "            folder = retrieve_document_source(f\"{paper_id}\", f'tmp_{paper_id}')\n",
    "        \n",
    "        try:\n",
    "            doc = latex.LatexDocument(folder, validation=validation)    \n",
    "        except AffiliationError as affilerror:\n",
    "            msg = f\"ArXiv:{paper_id:s} is not an MPIA paper... \" + str(affilerror)\n",
    "            failed.append((paper, \"affiliation error: \" + str(affilerror) ))\n",
    "            continue\n",
    "        \n",
    "        # Hack because sometimes author parsing does not work well\n",
    "        if (len(doc.authors) != len(paper['authors'])):\n",
    "            doc._authors = paper['authors']\n",
    "        if (doc.abstract) in (None, ''):\n",
    "            doc._abstract = paper['abstract']\n",
    "            \n",
    "        doc.comment = (get_markdown_badge(paper_id) + \n",
    "                       \"<mark>Appeared on: \" + paper['date'] + \"</mark> - \" +\n",
    "                       \"_\" + paper['comments'] + \"_\")\n",
    "        doc.highlight_authors_in_list(hl_list)\n",
    "\n",
    "        full_md = doc.generate_markdown_text()\n",
    "        \n",
    "        documents.append((paper_id, full_md))\n",
    "    except Exception as e:\n",
    "        warnings.warn(latex.LatexWarning(f\"{paper_id:s} did not run properly\\n\" +\n",
    "                                         str(e)\n",
    "                                        ))\n",
    "        failed.append((paper, \"latex error \" + str(e)))"
   ]
  },
  {
   "cell_type": "markdown",
   "id": "2505a25c",
   "metadata": {
    "papermill": {
     "duration": 0.007998,
     "end_time": "2022-09-30T05:18:55.728717",
     "exception": false,
     "start_time": "2022-09-30T05:18:55.720719",
     "status": "completed"
    },
    "tags": []
   },
   "source": [
    "### Export the logs\n",
    "\n",
    "Throughout, we also keep track of the logs per paper. see `logs-{today date}.md` "
   ]
  },
  {
   "cell_type": "code",
   "execution_count": 6,
   "id": "d733828a",
   "metadata": {
    "execution": {
     "iopub.execute_input": "2022-09-30T05:18:55.746441Z",
     "iopub.status.busy": "2022-09-30T05:18:55.746068Z",
     "iopub.status.idle": "2022-09-30T05:18:55.797261Z",
     "shell.execute_reply": "2022-09-30T05:18:55.796292Z"
    },
    "papermill": {
     "duration": 0.062918,
     "end_time": "2022-09-30T05:18:55.799453",
     "exception": false,
     "start_time": "2022-09-30T05:18:55.736535",
     "status": "completed"
    },
    "scrolled": false,
    "tags": []
   },
   "outputs": [
    {
     "data": {
      "text/markdown": [
       "## Successful papers"
      ],
      "text/plain": [
       "<IPython.core.display.Markdown object>"
      ]
     },
     "metadata": {},
     "output_type": "display_data"
    },
    {
     "data": {
      "text/markdown": [
       "\n",
       "|||\n",
       "|---:|:---|\n",
       "| [![arXiv](https://img.shields.io/badge/arXiv-arXiv:2209.14396-b31b1b.svg)](https://arxiv.org/abs/arXiv:2209.14396) | **TESS spots a mini-neptune interior to a hot saturn in the TOI-2000  system**  |\n",
       "|| <mark>Lizhou Sha</mark>, et al. -- incl., <mark>Melissa J. Hobson</mark>, <mark>Carl Ziegler</mark>, <mark>Pascal Torres-Miranda</mark>, <mark>Trifon Trifonov</mark>, <mark>Colin Littlefield</mark>, <mark>Jan Eberhardt</mark>, <mark>Richard P. Schwarz</mark>, <mark>Thomas Henning</mark>, <mark>Jack J. Lissauer</mark> |\n",
       "|*Appeared on*| *2022-09-30*|\n",
       "|*Comments*| *20 pages, 7 figures, 13 tables; submitted to MNRAS; CSV tables available as ancillary files; posterior samples available from Zenodo at this https URL*|\n",
       "|**Abstract**| Hot jupiters (P < 10 d, M > 60 $\\mathrm{M}_\\oplus$) are almost always found alone around their stars, but four out of hundreds known have inner companion planets. These rare companions allow us to constrain the hot jupiter's formation history by ruling out high-eccentricity tidal migration. Less is known about inner companions to hot Saturn-mass planets. We report here the discovery of the TOI-2000 system, which features a hot Saturn-mass planet with a smaller inner companion. The mini-neptune TOI-2000 b ($2.64^{+0.11}_{-0.12} \\,\\mathrm{R}_\\oplus$, $10.3 \\pm 2.2 \\,\\mathrm{M}_\\oplus$) is in a 3.10-day orbit, and the hot saturn TOI-2000 c ($7.97 \\pm 0.12 \\,\\mathrm{R}_\\oplus$, $75.7 \\pm 3.8 \\,\\mathrm{M}_\\oplus$) is in a 9.13-day orbit. Both planets transit their host star TOI-2000 (TIC 371188886, V = 10.98, TESS magnitude = 10.36), a metal-rich ([Fe/H] = $0.438^{+0.041}_{-0.042}$) G dwarf 174 pc away. TESS observed the two planets in sectors 9-11 and 36-38, and we followed up with ground-based photometry, spectroscopy, and speckle imaging. Radial velocities from HARPS allowed us to confirm both planets by direct mass measurement. In addition, we demonstrate constraining planetary and stellar parameters with MIST stellar evolutionary tracks through Hamiltonian Monte Carlo under the PyMC framework, achieving higher sampling efficiency and shorter run time compared to traditional Markov chain Monte Carlo. Having the brightest host star in the V band among similar systems, TOI-2000 b and c are superb candidates for atmospheric characterization by the JWST, which can potentially distinguish whether they formed together or TOI-2000 c swept along material during migration to form TOI-2000 b. |"
      ],
      "text/plain": [
       "[arXiv:2209.14396] TESS spots a mini-neptune interior to a hot saturn in the TOI-2000  system\n",
       "\t<mark>Lizhou Sha</mark>, et al. -- incl., <mark>Melissa J. Hobson</mark>, <mark>Carl Ziegler</mark>, <mark>Pascal Torres-Miranda</mark>, <mark>Trifon Trifonov</mark>, <mark>Colin Littlefield</mark>, <mark>Jan Eberhardt</mark>, <mark>Richard P. Schwarz</mark>, <mark>Thomas Henning</mark>, <mark>Jack J. Lissauer</mark>"
      ]
     },
     "metadata": {},
     "output_type": "display_data"
    },
    {
     "data": {
      "text/markdown": [
       "\n",
       "|||\n",
       "|---:|:---|\n",
       "| [![arXiv](https://img.shields.io/badge/arXiv-arXiv:2209.14410-b31b1b.svg)](https://arxiv.org/abs/arXiv:2209.14410) | **Towards measuring supermassive black hole masses with interferometric  observations of the dust continuum**  |\n",
       "|| GRAVITY Collaboration, et al. -- incl., <mark>R. Davies</mark>, <mark>N. M. Förster Schreiber</mark> |\n",
       "|*Appeared on*| *2022-09-30*|\n",
       "|*Comments*| *Accepted for publication in A&A; 11 pages, 5 figures, 3 tables*|\n",
       "|**Abstract**| This work focuses on active galactic nuclei (AGNs), and the relation between the sizes of the hot dust continuum and the broad-line region (BLR). We find that the continuum size measured using optical/near-infrared interferometry (OI) is roughly twice that measured by reverberation mapping (RM). Both OI and RM continuum sizes show a tight relation with the H$\\beta$ BLR size with only an intrinsic scatter of 0.25 dex. The masses of supermassive black holes (BHs) can hence be simply derived from a dust size in combination with a broad line width and virial factor. Since the primary uncertainty of these BH masses comes from the virial factor, the accuracy of the continuum-based BH masses is close to those based on the RM measurement of the broad emission line. Moreover, the necessary continuum measurements can be obtained on a much shorter timescale than those required monitoring for RM, and are also more time efficient than those needed to resolve the BLR with OI. The primary goal of this work is to demonstrate measuring the BH mass based on the dust continuum size with our first calibration of the $R_\\mathrm{BLR}$-$R_\\mathrm{d}$ relation. The current limitation and caveats are discussed in detail. Future GRAVITY observations are expected to improve the continuum-based method and have the potential to measure BH masses for a large sample of AGNs in the low-redshift Universe. |"
      ],
      "text/plain": [
       "[arXiv:2209.14410] Towards measuring supermassive black hole masses with interferometric  observations of the dust continuum\n",
       "\tGRAVITY Collaboration, et al. -- incl., <mark>R. Davies</mark>, <mark>N. M. Förster Schreiber</mark>"
      ]
     },
     "metadata": {},
     "output_type": "display_data"
    },
    {
     "data": {
      "text/markdown": [
       "## Failed papers"
      ],
      "text/plain": [
       "<IPython.core.display.Markdown object>"
      ]
     },
     "metadata": {},
     "output_type": "display_data"
    },
    {
     "data": {
      "text/markdown": [
       "\n",
       "|||\n",
       "|---:|:---|\n",
       "| [![arXiv](https://img.shields.io/badge/arXiv-arXiv:2209.14312-b31b1b.svg)](https://arxiv.org/abs/arXiv:2209.14312) | **Bridging the Gap between Cosmic Dawn and Reionization favors Faint  Galaxies-dominated Models**  |\n",
       "|| Ankita Bera, et al. -- incl., <mark>Aaron Smith</mark> |\n",
       "|*Appeared on*| *2022-09-30*|\n",
       "|*Comments*| *12 pages, 5 figures, submitted to ApJ, comments are welcome*|\n",
       "|**Abstract**| Current standard astrophysical models struggle to explain the tentative detection of the 21 cm absorption trough centered at $z\\sim17$ measured by the EDGES low-band antenna. However, it has been shown that the EDGES results are consistent with an extrapolation of a declining UV luminosity density, following a simple power-law of deep Hubble Space Telescope observations of $4 < z < 9$ galaxies. We here explore the conditions by which the EDGES detection is consistent with current reionization and post-reionization observations, including the volume-averaged neutral hydrogen fraction of the intergalactic medium at $z\\sim6-8$, the optical depth to the cosmic microwave background, and the integrated ionizing emissivity at $z\\sim5$. By coupling a physically motivated source model derived from radiative transfer hydrodynamic simulations of reionization to a Markov Chain Monte Carlo sampler, we find that high contribution from low-mass halos along with high photon escape fractions are required to simultaneously reproduce the high-redshift (cosmic dawn) and low-redshift (reionization) existing constraints. Low-mass faint-galaxies dominated models produce a flatter emissivity evolution that results in an earlier onset of reionization with gradual and longer duration, and higher optical depth. Our results provide insights on the role of faint and bright galaxies during cosmic reionization, which can be tested by upcoming surveys with the James Webb Space Telescope. |\n",
       "|<p style=\"color:green\"> **ERROR** </p>| <p style=\"color:green\">affiliation error: mpia.affiliation_verifications: 'Heidelberg' keyword not found.</p> |"
      ],
      "text/plain": [
       "<IPython.core.display.Markdown object>"
      ]
     },
     "metadata": {},
     "output_type": "display_data"
    },
    {
     "data": {
      "text/markdown": [
       "\n",
       "|||\n",
       "|---:|:---|\n",
       "| [![arXiv](https://img.shields.io/badge/arXiv-arXiv:2209.14314-b31b1b.svg)](https://arxiv.org/abs/arXiv:2209.14314) | **MUSE 3D spectroscopy of BA-type supergiants in NGC 300**  |\n",
       "|| Gemma González-Torà, et al. -- incl., <mark>Martin M. Roth</mark> |\n",
       "|*Appeared on*| *2022-09-30*|\n",
       "|*Comments*| *6 pages, 4 figures, accepted for publication at the Proceedings of the IAUS361: Massive Stars Near and Far*|\n",
       "|**Abstract**| We present the results obtained using spectroscopic data taken with the intermediateresolution Multi Unit Spectroscopic Explorer (MUSE) of B and A-type supergiants and bright giants in the Sculptor Group galaxy NGC 300. For our analysis, a hybrid local thermodynamic equilibrium (LTE) line-blanketing+non-LTE method was used to improve the previously published results for the same data. In addition, we present some further applications of this work, which includes extending the flux-weighted gravity luminosity relationship (FGLR), a distance determination method for supergiants. This pioneering work opens up a new window to explore this relation, and also demonstrates the enormous potential of integral field spectroscopy (IFS) for extragalactic quantitative stellar studies. |\n",
       "|<p style=\"color:green\"> **ERROR** </p>| <p style=\"color:green\">affiliation error: mpia.affiliation_verifications: 'Heidelberg' keyword not found.</p> |"
      ],
      "text/plain": [
       "<IPython.core.display.Markdown object>"
      ]
     },
     "metadata": {},
     "output_type": "display_data"
    },
    {
     "data": {
      "text/markdown": [
       "\n",
       "|||\n",
       "|---:|:---|\n",
       "| [![arXiv](https://img.shields.io/badge/arXiv-arXiv:2209.14326-b31b1b.svg)](https://arxiv.org/abs/arXiv:2209.14326) | **A UFO Seen Edge-On: Resolving Ultrafast Outflow Emission on $\\sim$200-pc  Scales with $Chandra$ in the Active Nucleus of Mrk 34**  |\n",
       "|| W. Peter Maksym, et al. -- incl., <mark>Travis C. Fischer</mark> |\n",
       "|*Appeared on*| *2022-09-30*|\n",
       "|*Comments*| *12 pages, 5 figures. Submitted to ApJL*|\n",
       "|**Abstract**| We present $Chandra$ ACIS imaging spectroscopy of the nucleus of the Seyfert 2 Galaxy Mrk 34. We identify spatially and spectrally resolved features in the band that includes Fe K$\\alpha$, Fe XXV and Fe XXVI. These features indicate high-velocity ($\\gtrsim15,000\\,\\rm{km\\,s}^{-1}$ line-of-sight) material separated spanning $\\sim$0.5 arcsec, within $\\sim200$ pc of the nucleus. This outflow could have deprojected velocities $\\sim12-28\\times$ greater than the [O III] emitting outflows, and could potentially dominate the kinetic power in the outflow. This emission may point to the origins of the optical and X-ray winds observed at larger radii, and could indicate a link between ultra-fast outflows and AGN feedback on $\\gtrsim$kpc scales. |\n",
       "|<p style=\"color:green\"> **ERROR** </p>| <p style=\"color:green\">affiliation error: mpia.affiliation_verifications: 'Heidelberg' keyword not found.</p> |"
      ],
      "text/plain": [
       "<IPython.core.display.Markdown object>"
      ]
     },
     "metadata": {},
     "output_type": "display_data"
    },
    {
     "data": {
      "text/markdown": [
       "\n",
       "|||\n",
       "|---:|:---|\n",
       "| [![arXiv](https://img.shields.io/badge/arXiv-arXiv:2209.14339-b31b1b.svg)](https://arxiv.org/abs/arXiv:2209.14339) | **The Stability of Prendergast Magnetic Fields**  |\n",
       "|| Emma Kaufman, et al. -- incl., <mark>Benjamin P. Brown</mark>, <mark>Keaton J. Burns</mark> |\n",
       "|*Appeared on*| *2022-09-30*|\n",
       "|*Comments*| *9 pages, 8 figures*|\n",
       "|**Abstract**| Convection in massive main sequence stars generates large scale magnetic fields in their cores which persists as they evolve up the red giant branch. The remnants of these fields may take the form of the Prendergast magnetic field, a combination of poloidal and toroidal field components which are expected to stabilize each other. Previous analytic and numerical calculations did not find any evidence for instability of the Prendergast field over short timescales. In this paper, we present numerical simulations which show a long timescale, linear instability of this magnetic field. We find the instability to be robust to changes in boundary conditions and it is not stabilized by strong stable stratification. The instability is a resistive instability, and the growth rate has a power-law dependence on the resistivity, in which the growth rate decreases as the resistivity decreases. We estimate the growth rate of the instability in stars by extrapolating this power-law to stellar values of the resistivity. The instability is sufficiently rapid to destabilize the magnetic field on timescales shorter than the stellar evolution timescale, indicating that the Prendergast field is not a good model to use in studies of magnetic fields in stars. |\n",
       "|<p style=\"color:green\"> **ERROR** </p>| <p style=\"color:green\">affiliation error: mpia.affiliation_verifications: 'Heidelberg' keyword not found.</p> |"
      ],
      "text/plain": [
       "<IPython.core.display.Markdown object>"
      ]
     },
     "metadata": {},
     "output_type": "display_data"
    },
    {
     "data": {
      "text/markdown": [
       "\n",
       "|||\n",
       "|---:|:---|\n",
       "| [![arXiv](https://img.shields.io/badge/arXiv-arXiv:2209.14386-b31b1b.svg)](https://arxiv.org/abs/arXiv:2209.14386) | **Constrained simulations of the local Universe with Modified Gravity**  |\n",
       "|| Krishna Naidoo, et al. -- incl., <mark>Wojciech Hellwing</mark>, <mark>Noam Libeskind</mark> |\n",
       "|*Appeared on*| *2022-09-30*|\n",
       "|*Comments*| *10 pages (+references), 6 figures, to be submitted to PRD*|\n",
       "|**Abstract**| We present a methodology for constructing modified gravity (MG) constrained simulations of the local Universe using positions and peculiar velocities from the CosmicFlows data set. Our analysis focuses on the following MG models: the normal branch of the Dvali-Gabadadze-Porrati (nDGP) model and Hu-Sawicki $f(R)$ model. We develop a model independent methodology for constructing constrained simulations with any given power spectra and numerically calculated linear growth functions. Initial conditions (ICs) for a set of constrained simulations are constructed for the standard cosmological model $\\Lambda$CDM and the MG models. Differences between the model's reconstructed Wiener filtered density and the resultant simulation density are presented showing the importance for the generation of MG constrained ICs to study the subtle effects of MG in the local Universe. These are the first MG constrained simulations ever produced. The current work paves the way for improved approximate methods for models with scale-dependent growth functions, such as $f(R)$, and for high-resolution hydrodynamical MG zoom-in simulations of the local Universe. |\n",
       "|<p style=\"color:green\"> **ERROR** </p>| <p style=\"color:green\">affiliation error: mpia.affiliation_verifications: 'Heidelberg' keyword not found.</p> |"
      ],
      "text/plain": [
       "<IPython.core.display.Markdown object>"
      ]
     },
     "metadata": {},
     "output_type": "display_data"
    },
    {
     "data": {
      "text/markdown": [
       "\n",
       "|||\n",
       "|---:|:---|\n",
       "| [![arXiv](https://img.shields.io/badge/arXiv-arXiv:2209.14423-b31b1b.svg)](https://arxiv.org/abs/arXiv:2209.14423) | **Clarifying Physical Properties of Magnetic Fields in Sunspots**  |\n",
       "|| V.N. Obridko, et al. -- incl., <mark>I.M. Livshits</mark> |\n",
       "|*Appeared on*| *2022-09-30*|\n",
       "|*Comments*| *13 pages, 8 figures. Accepted for publication in Solar Physics*|\n",
       "|**Abstract**| We demonstrate that the radial magnetic-field component at the outer boundary of the sunspot penumbra is about 550 Mx cm$^{-2}$ independent of the sunspot area and the maximum magnetic field in the umbra. The mean magnetic-field intensity in sunspots grows slightly as the sunspot area increases up to 500 -- 1000 millionth of visual hemisphere (m.v.h.) and may reach about 900 -- 2000 Mx cm$^{-2}$. The total magnetic flux weakly depends on the maximum field strength in a sunspot and is determined by the spottedness, i.e. the sunspot number and the total sunspot area; however, the relation between the total flux and the sunspot area is substantially nonlinear. We suggest an explicit parametrization for this relation. The contribution of the magnetic flux associated with sunspots to the total magnetic flux is small, not achieving more than 20% even at the maximum of the solar activity. |\n",
       "|<p style=\"color:green\"> **ERROR** </p>| <p style=\"color:green\">affiliation error: mpia.affiliation_verifications: 'Heidelberg' keyword not found.</p> |"
      ],
      "text/plain": [
       "<IPython.core.display.Markdown object>"
      ]
     },
     "metadata": {},
     "output_type": "display_data"
    },
    {
     "data": {
      "text/markdown": [
       "\n",
       "|||\n",
       "|---:|:---|\n",
       "| [![arXiv](https://img.shields.io/badge/arXiv-arXiv:2209.14473-b31b1b.svg)](https://arxiv.org/abs/arXiv:2209.14473) | **Testing SALT Approximations with Numerical Radiation Transfer Code Part  1: Validity and Applicability**  |\n",
       "|| Cody Carr, et al. -- incl., <mark>Alaina Henry</mark> |\n",
       "|*Appeared on*| *2022-09-30*|\n",
       "|*Comments*| **|\n",
       "|**Abstract**| Absorption line spectroscopy offers one of the best opportunities to constrain the properties of galactic outflows and the environment of the circumgalactic medium. Extracting physical information from line profiles is difficult, however, for the physics governing the underlying radiation transfer is complicated and depends on many different parameters. Idealized analytical models are necessary to constrain the large parameter spaces efficiently, but are typically plagued by model degeneracy and systematic errors. Comparison tests with idealized numerical radiation transfer codes offer an excellent opportunity to confront both of these issues. In this paper, we present a detailed comparison between SALT, an analytical radiation transfer model for predicting UV spectra of galactic outflows, with the numerical radiation transfer software, RASCAS. Our analysis has lead to upgrades to both models including an improved derivation of SALT and a customizable adaptive mesh refinement routine for RASCAS. We explore how well SALT, when paired with a Monte Carlo fitting procedure, can recover flow parameters from non-turbulent and turbulent flows. When the velocity and density gradients are excluded, we find that flow parameters are well recovered from high resolution (20 $\\rm{km}$ $\\rm{s}^{-1}$) data and moderately well from medium resolution (100 $\\rm{km}$ $\\rm{s}^{-1}$) data without turbulence at a S/N = 10, while derived quantities (e.g., mass outflow rates, column density, etc.) are well recovered at all resolutions. In the turbulent case, biased errors emerge in the recovery of individual parameters, but derived quantities are still well recovered. |\n",
       "|<p style=\"color:green\"> **ERROR** </p>| <p style=\"color:green\">affiliation error: mpia.affiliation_verifications: 'Heidelberg' keyword not found.</p> |"
      ],
      "text/plain": [
       "<IPython.core.display.Markdown object>"
      ]
     },
     "metadata": {},
     "output_type": "display_data"
    },
    {
     "data": {
      "text/markdown": [
       "\n",
       "|||\n",
       "|---:|:---|\n",
       "| [![arXiv](https://img.shields.io/badge/arXiv-arXiv:2209.14482-b31b1b.svg)](https://arxiv.org/abs/arXiv:2209.14482) | **The Spectroscopic Data Processing Pipeline for the Dark Energy  Spectroscopic Instrument**  |\n",
       "|| J. Guy, et al. -- incl., <mark>D. Green</mark> |\n",
       "|*Appeared on*| *2022-09-30*|\n",
       "|*Comments*| *AJ, submitted, 55 pages, 55 figures, 5 tables*|\n",
       "|**Abstract**| We describe the spectroscopic data processing pipeline of the Dark Energy Spectroscopic Instrument (DESI), which is conducting a redshift survey of about 40 million galaxies and quasars using a purpose-built instrument on the 4-m Mayall Telescope at Kitt Peak National Observatory. The main goal of DESI is to measure with unprecedented precision the expansion history of the Universe with the Baryon Acoustic Oscillation technique and the growth rate of structure with Redshift Space Distortions. Ten spectrographs with three cameras each disperse the light from 5000 fibers onto 30 CCDs, covering the near UV to near infrared (3600 to 9800 Angstrom) with a spectral resolution ranging from 2000 to 5000. The DESI data pipeline generates wavelength- and flux-calibrated spectra of all the targets, along with spectroscopic classifications and redshift measurements. Fully processed data from each night are typically available to the DESI collaboration the following morning. We give details about the pipeline's algorithms, and provide performance results on the stability of the optics, the quality of the sky background subtraction, and the precision and accuracy of the instrumental calibration. This pipeline has been used to process the DESI Survey Validation data set, and has exceeded the project's requirements for redshift performance, with high efficiency and a purity greater than 99 percent for all target classes. |\n",
       "|<p style=\"color:green\"> **ERROR** </p>| <p style=\"color:green\">affiliation error: mpia.affiliation_verifications: 'Heidelberg' keyword not found.</p> |"
      ],
      "text/plain": [
       "<IPython.core.display.Markdown object>"
      ]
     },
     "metadata": {},
     "output_type": "display_data"
    },
    {
     "data": {
      "text/markdown": [
       "\n",
       "|||\n",
       "|---:|:---|\n",
       "| [![arXiv](https://img.shields.io/badge/arXiv-arXiv:2209.14495-b31b1b.svg)](https://arxiv.org/abs/arXiv:2209.14495) | **Statistical analysis of the Si I 6560.58 Å line observed by CHASE**  |\n",
       "|| Jie Hong, et al. -- incl., <mark>Chuan Li</mark> |\n",
       "|*Appeared on*| *2022-09-30*|\n",
       "|*Comments*| *7 pages, 10 figures, 2 tables. Accepted for publication in A&A. CHASE data are available at this https URL*|\n",
       "|**Abstract**| The Si I 6560.58 \\r{A} line in the H$\\alpha$ blue wing is blended with a telluric absorption line from water vapor in ground-based observations. Recent observations with the space-based telescope CHASE provide a new window to study this line. We aim to study the Si I line statistically and to explore possible diagnostics. We select three scannings in the CHASE observations, and measure the equivalent width (EW) and the full width at half maximum (FWHM) for each pixel on the solar disk. We then calculate the theoretical EW and FWHM from the VALC model. An active region is also studied in particular for difference in the quiet Sun and the sunspots. The Si I line is formed at the bottom of the photosphere. The EW of this line increases from the disk center to $\\mu$ = 0.2, and then decreases toward the solar limb, while the FWHM shows a monotonically increasing trend. Theoretically predicted EW agrees well with observations, while the predicted FWHM is far smaller due to the absence of unresolved turbulence in models. The macroturbulent velocity is estimated to be 2.80 km s$^{-1}$ at the disk center, and increases to 3.52 km s$^{-1}$ at $\\mu$ = 0.2. We do not find any response to flare heating in current observations. Doppler shifts and line widths of the Si I 6560.58 \\r{A} and Fe I 6569.21 \\r{A} lines can be used to study the mass flows and turbulence of the different photospheric layers. The Si I line has good potentials to diagnose the dynamics and energy transport in the photosphere. |\n",
       "|<p style=\"color:green\"> **ERROR** </p>| <p style=\"color:green\">affiliation error: mpia.affiliation_verifications: 'Heidelberg' keyword not found.</p> |"
      ],
      "text/plain": [
       "<IPython.core.display.Markdown object>"
      ]
     },
     "metadata": {},
     "output_type": "display_data"
    },
    {
     "data": {
      "text/markdown": [
       "\n",
       "|||\n",
       "|---:|:---|\n",
       "| [![arXiv](https://img.shields.io/badge/arXiv-arXiv:2209.14677-b31b1b.svg)](https://arxiv.org/abs/arXiv:2209.14677) | **Tracing the Giant Outer Halo of the Mysterious Massive Disk Galaxy M104  I. Photometry of the Extended Globular Cluster Systems**  |\n",
       "|| Jisu Kang, et al. -- incl., <mark>Myung Gyoon Lee</mark> |\n",
       "|*Appeared on*| *2022-09-30*|\n",
       "|*Comments*| *Accepted for publication in ApJ, 19 pages, 13 figures, 7 tables*|\n",
       "|**Abstract**| M104 (NGC 4594, the Sombrero galaxy) is a mysterious massive early-type galaxy that shows a dominant bulge and a prominent disk. However, the presence of a halo in M104 has been elusive, and it is not yet known how M104 has acquired such a peculiar structure. Using wide ($\\sim2$ deg$^2$) and deep $ugi$ images of M104 obtained with the CFHT/MegaCam, we detect a large number of globular clusters (GCs) found out to $R\\approx35'$ ($\\sim100$ kpc). The color distribution of these GCs shows two subpopulations: a blue (metal-poor) system and a red (metal-rich) system. The total number of GCs is estimated to be $N_{GC}=1610\\pm30$ and the specific frequency to be $S_{N}=1.8\\pm0.1$. The radial number density profile of the GCs is steep in the inner region at $R<20'$, and becomes shallow in the outer region at $20'<R<35'$. The outer region is dominated by blue GCs and is extended out to $R\\approx35'$. This shows clearly the existence of a giant metal-poor halo in M104. The inner region is composed of a bulge hosting a disk, corresponding to a metal-rich halo as seen in early-type galaxies. At least two clumps of blue GCs are found in the outer region. One clump is overlapped with a faint stellar stream located in the south west, indicating that it may be a remnant of a disrupted dwarf galaxy. Our results imply that the metal-rich inner halo of M104 formed first via major mergers, and the metal-poor outer halo grew via numerous minor mergers. |\n",
       "|<p style=\"color:green\"> **ERROR** </p>| <p style=\"color:green\">affiliation error: mpia.affiliation_verifications: 'Heidelberg' keyword not found.</p> |"
      ],
      "text/plain": [
       "<IPython.core.display.Markdown object>"
      ]
     },
     "metadata": {},
     "output_type": "display_data"
    },
    {
     "data": {
      "text/markdown": [
       "\n",
       "|||\n",
       "|---:|:---|\n",
       "| [![arXiv](https://img.shields.io/badge/arXiv-arXiv:2209.14691-b31b1b.svg)](https://arxiv.org/abs/arXiv:2209.14691) | **Modification of the radioactive heat budget of Earth-like exoplanets by  the loss of primordial atmospheres**  |\n",
       "|| N. Erkaev, et al. -- incl., <mark>O. Herbort</mark> |\n",
       "|*Appeared on*| *2022-09-30*|\n",
       "|*Comments*| *22 pages, 11 figures. This is a preprint of a 2nd revision submitted to MNRAS*|\n",
       "|**Abstract**| The initial abundance of radioactive heat producing isotopes in the interior of a terrestrial planet are important drivers of its thermal evolution and the related tectonics and possible evolution to an Earth-like habitat. The moderately volatile element K can be outgassed from a magma ocean into H$_2$-dominated primordial atmospheres of protoplanets with assumed masses between 0.55-1.0$ M_{\\rm Earth}$ at the time when the gas disk evaporated. We estimate this outgassing and let these planets grow through impacts of depleted and non-depleted material that resembles the same $^{40}$K abundance of average carbonaceous chondrites until the growing protoplanets reach 1.0 $M_{\\rm Earth}$. We examine different atmospheric compositions and, as a function of pressure and temperature, calculate the proportion of K by Gibbs Free Energy minimisation using the GGChem code. We find that for H$_2$-envelopes and for magma ocean surface temperatures that are $\\ge$ 2500 K, no K condensates are thermally stable, so that outgassed $^{40}$K can populate the atmosphere to a great extent. However, due to magma ocean turn-over time and the limited diffusion of $^{40}$K into the upper atmosphere, from the entire $^{40}$K in the magma ocean only a fraction may be available for escaping into space. The escape rates of the primordial atmospheres and the dragged $^{40}$K are further simulated for different stellar EUV-activities with a multispecies hydrodynamic upper atmosphere evolution model. Our results lead to different abundances of heat producing elements within the fully grown planets which may give rise to different thermal and tectonic histories of terrestrial planets and their habitability conditions. |\n",
       "|<p style=\"color:green\"> **ERROR** </p>| <p style=\"color:green\">affiliation error: mpia.affiliation_verifications: 'Heidelberg' keyword not found.</p> |"
      ],
      "text/plain": [
       "<IPython.core.display.Markdown object>"
      ]
     },
     "metadata": {},
     "output_type": "display_data"
    },
    {
     "data": {
      "text/markdown": [
       "\n",
       "|||\n",
       "|---:|:---|\n",
       "| [![arXiv](https://img.shields.io/badge/arXiv-arXiv:2209.14731-b31b1b.svg)](https://arxiv.org/abs/arXiv:2209.14731) | **SN 2019ein: A Type Ia Supernova Likely Originated from a  Sub-Chandrasekhar-Mass Explosion**  |\n",
       "|| Gaobo Xi, et al. -- incl., <mark>Wenxiong Li</mark>, <mark>Jujia Zhang</mark>, <mark>Jialian Liu</mark>, <mark>Xinghan Zhang</mark>, <mark>Jicheng Zhang</mark> |\n",
       "|*Appeared on*| *2022-09-30*|\n",
       "|*Comments*| *34 pages, 16 figures, accepted for publication in MNRAS*|\n",
       "|**Abstract**| We present extensive optical photometric and spectroscopic observations for the nearby Type Ia supernova (SN Ia) 2019ein, spanning the phases from $\\sim 3$ days to $\\sim 330$ days after the explosion. This SN Ia is characterized by extremely fast expansion at early times, with initial velocities of Si II and Ca II being above ~ 25,000--30,000 km/s. After experiencing an unusually rapid velocity decay, the ejecta velocity dropped to ~ 13,000 km/s around maximum light. Photometrically, SN 2019ein has a moderate post-peak decline rate ($\\Delta m_{15}(B) = 1.35 \\pm 0.01$ mag), while being fainter than normal SNe Ia by about 40% (with $M^{\\rm max}_{B} \\approx -18.71 \\pm 0.15$ mag). The nickel mass synthesized in the explosion is estimated to be 0.27--0.31 $M_{\\odot}$ from the bolometric light curve. Given such a low nickel mass and a relatively high photospheric velocity, we propose that SN 2019ein likely had a sub-Chandrasekhar-mass white dwarf (WD) progenitor, $M_{\\rm WD} \\lesssim 1.22 M_{\\odot}$. In this case, the explosion could have been triggered by a double-detonation mechanism, for which 1- and 2-dimensional models with WD mass $M_{\\rm WD} \\approx 1 M_\\odot$ and a helium shell of 0.01 $M_{\\odot}$ can reasonably produce the observed bolometric light curve and spectra. The predicted asymmetry as a result of double detonation is also favored by the redshifted Fe II and Ni II lines observed in the nebular-phase spectrum. Possible diversity in origin of high velocity SNe Ia is also discussed. |\n",
       "|<p style=\"color:green\"> **ERROR** </p>| <p style=\"color:green\">affiliation error: mpia.affiliation_verifications: 'Heidelberg' keyword not found.</p> |"
      ],
      "text/plain": [
       "<IPython.core.display.Markdown object>"
      ]
     },
     "metadata": {},
     "output_type": "display_data"
    },
    {
     "data": {
      "text/markdown": [
       "\n",
       "|||\n",
       "|---:|:---|\n",
       "| [![arXiv](https://img.shields.io/badge/arXiv-arXiv:2209.14732-b31b1b.svg)](https://arxiv.org/abs/arXiv:2209.14732) | **First detection of the Hubble variation correlation and its scale  dependence**  |\n",
       "|| Wang-Wei Yu, <mark>Li Li</mark>, Shao-Jiang Wang |\n",
       "|*Appeared on*| *2022-09-30*|\n",
       "|*Comments*| *5 pages + appendix, 4 figures, 1 table*|\n",
       "|**Abstract**| The sample variance due to our local density fluctuations in measuring our local Hubble-constant ($H_0$) can be reduced to the percentage level by choosing the Hubble-flow type Ia supernovae (SNe Ia) outside of the homogeneity scale. In this Letter, we have revealed a hidden trend in this one-percent $H_0$ variation both theoretically and observationally. We have derived for the first time our $H_0$ variation measured from any discrete sample of distant SNe Ia. We have also identified a residual linear correlation between our local $H_0$ fitted from different groups of SNe Ia and their ambient density contrasts of SN-host galaxies evaluated at a given scale. We have further traced the scale dependence of this residual linear trend, which becomes more and more positively correlated with the ambient density contrasts of SN-host galaxies estimated at larger and larger scales, on the contrary to but still marginally consistent with the theoretical expectation from the $\\Lambda$-cold-dark-matter model. This might indicate some unknown corrections to the peculiar velocity of the SN-host galaxy from the density contrasts at larger scales or the smoking gun for the new physics. |\n",
       "|<p style=\"color:green\"> **ERROR** </p>| <p style=\"color:green\">affiliation error: mpia.affiliation_verifications: 'Heidelberg' keyword not found.</p> |"
      ],
      "text/plain": [
       "<IPython.core.display.Markdown object>"
      ]
     },
     "metadata": {},
     "output_type": "display_data"
    },
    {
     "data": {
      "text/markdown": [
       "\n",
       "|||\n",
       "|---:|:---|\n",
       "| [![arXiv](https://img.shields.io/badge/arXiv-arXiv:2209.14789-b31b1b.svg)](https://arxiv.org/abs/arXiv:2209.14789) | **FarNet-II: An improved solar far-side active region detection method**  |\n",
       "|| E. G. Broock, <mark>A. Asensio Ramos</mark>, T. Felipe |\n",
       "|*Appeared on*| *2022-09-30*|\n",
       "|*Comments*| *Accepted for publication in Astronomy and Astrophysics. Abridged abstract*|\n",
       "|**Abstract**| Context. Activity on the far side of the Sun is routinely studied through the analysis of the seismic oscillations detected on the near side using helioseismic techniques such as phase shift sensitive holography. Recently, the neural network FarNet was developed to improve these detections. Aims. We aim to create a new machine learning tool, FarNet II, which further increases the scope of FarNet, and to evaluate its performance in comparison to FarNet and the standard helioseismic method for detecting far side activity. Methods. We developed FarNet II, a neural network that retains some of the general characteristics of FarNet but improves the detections in general, as well as the temporal coherence among successive predictions. The main novelties are the implementation of attention and convolutional long short term memory (ConvLSTM) modules. A cross validation approach, training the network 37 times with a different validation set for each run, was employed to leverage the limited amount of data available. We evaluate the performance of FarNet II using three years of extreme ultraviolet observations of the far side of the Sun acquired with the Solar Terrestrial Relations Observatory (STEREO) as a proxy of activity. The results from FarNet II were compared with those obtained from FarNet and the standard helioseismic method using the Dice coefficient as a metric. Results. FarNet II achieves a Dice coefficient that improves that of FarNet by over 0.2 points for every output position on the sequences from the evaluation dates. Its improvement over FarNet is higher than that of FarNet over the standard method. Conclusions. The new network is a very promising tool for improving the detection of activity on the far side of the Sun given by pure helioseismic techniques. Space weather forecasts can potentially benefit from the higher sensitivity provided by this novel method. |\n",
       "|<p style=\"color:green\"> **ERROR** </p>| <p style=\"color:green\">affiliation error: mpia.affiliation_verifications: 'Heidelberg' keyword not found.</p> |"
      ],
      "text/plain": [
       "<IPython.core.display.Markdown object>"
      ]
     },
     "metadata": {},
     "output_type": "display_data"
    },
    {
     "data": {
      "text/markdown": [
       "\n",
       "|||\n",
       "|---:|:---|\n",
       "| [![arXiv](https://img.shields.io/badge/arXiv-arXiv:2209.14830-b31b1b.svg)](https://arxiv.org/abs/arXiv:2209.14830) | **An old warm Jupiter orbiting the metal-poor G-dwarf TOI-5542**  |\n",
       "|| Nolan Grieves, et al. -- incl., <mark>Beth A. Henderson</mark>, <mark>Christopher E. Henze</mark> |\n",
       "|*Appeared on*| *2022-09-30*|\n",
       "|*Comments*| *16 pages, 12 figures, Accepted by Astronomy & Astrophysics September 19, 2022*|\n",
       "|**Abstract**| We report the discovery of a 1.32$^{+0.10}_{-0.10}$ $\\mathrm{M_{\\rm Jup}}$ planet orbiting on a 75.12 day period around the G3V $10.8^{+2.1}_{-3.6}$ Gyr old star TOI-5542 (TIC 466206508; TYC 9086-1210-1). The planet was first detected by the Transiting Exoplanet Survey Satellite (TESS) as a single transit event in TESS Sector 13. A second transit was observed 376 days later in TESS Sector 27. The planetary nature of the object has been confirmed by ground-based spectroscopic and radial velocity observations from the CORALIE and HARPS spectrographs. A third transit event was detected by the ground-based facilities NGTS, EulerCam, and SAAO. We find the planet has a radius of 1.009$^{+0.036}_{-0.035}$ $\\mathrm{R_{\\rm Jup}}$ and an insolation of 9.6$^{+0.9}_{-0.8}$ $S_{\\oplus}$, along with a circular orbit that most likely formed via disk migration or in situ formation, rather than high-eccentricity migration mechanisms. Our analysis of the HARPS spectra yields a host star metallicity of [Fe/H] = $-$0.21$\\pm$0.08, which does not follow the traditional trend of high host star metallicity for giant planets and does not bolster studies suggesting a difference among low- and high-mass giant planet host star metallicities. Additionally, when analyzing a sample of 216 well-characterized giant planets, we find that both high masses (4 $\\mathrm{M_{\\rm Jup}}$ $<M_{p}<$ 13 $\\mathrm{M_{\\rm Jup}}$) and low masses (0.5 $\\mathrm{M_{\\rm Jup}}$ $<M_{p}<$ 4 $\\mathrm{M_{\\rm Jup}}$), as well as both both warm (P $>$ 10 days) and hot (P $<$ 10 days) giant planets are preferentially located around metal-rich stars (mean [Fe/H] $>$ 0.1). TOI-5542b is one of the oldest known warm Jupiters and it is cool enough to be unaffected by inflation due to stellar incident flux, making it a valuable contribution in the context of planetary composition and formation studies. |\n",
       "|<p style=\"color:green\"> **ERROR** </p>| <p style=\"color:green\">affiliation error: mpia.affiliation_verifications: 'Heidelberg' keyword not found.</p> |"
      ],
      "text/plain": [
       "<IPython.core.display.Markdown object>"
      ]
     },
     "metadata": {},
     "output_type": "display_data"
    },
    {
     "data": {
      "text/markdown": [
       "\n",
       "|||\n",
       "|---:|:---|\n",
       "| [![arXiv](https://img.shields.io/badge/arXiv-arXiv:2209.14844-b31b1b.svg)](https://arxiv.org/abs/arXiv:2209.14844) | **First measurements and upgrade plans of the MAGIC intensity  interferometer**  |\n",
       "|| Juan Cortina, et al. -- incl., <mark>R. Walter</mark> |\n",
       "|*Appeared on*| *2022-09-30*|\n",
       "|*Comments*| *15 pages, 9 figures, 1 table, SPIE Astronomical Telescopes + Instrumentation 2022*|\n",
       "|**Abstract**| The two MAGIC 17-m diameter Imaging Atmospheric Cherenkov Telescopes have been equipped to work also as an intensity interferometer with a deadtime-free, 4-channel, GPU-based, real-time correlator. Operating with baselines between approx. 40 and 90 m the MAGIC interferometer is able to measure stellar diameters of 0.5-1 mas in the 400-440 nm wavelength range with a sensitivity roughly 10 times better than that achieved in the 1970s by the Narrabri Stellar Intensity Interferometer. Besides, active mirror control allows to split the primary mirrors into sub-mirrors. This allows to make simultaneous calibration measurements of the zero-baseline correlation or to simultaneously collect six baselines below 17 m with almost arbitrary orientation, corresponding to angular scales of approx. 1-50 mas. We plan to perform test observations adding the nearby Cherenkov Telescope Array (CTA) LST-1 23 m diameter telescope by next year. All three telescope pairs will be correlated simultaneously. Adding LST-1 is expected to increase the sensitivity by at least 1 mag and significantly improve the u-v plane coverage. If successful, the proposed correlator setup is scalable enough to be implemented to the full CTA arrays. |\n",
       "|<p style=\"color:green\"> **ERROR** </p>| <p style=\"color:green\">affiliation error: mpia.affiliation_verifications: 'Heidelberg' keyword not found.</p> |"
      ],
      "text/plain": [
       "<IPython.core.display.Markdown object>"
      ]
     },
     "metadata": {},
     "output_type": "display_data"
    },
    {
     "data": {
      "text/markdown": [
       "\n",
       "|||\n",
       "|---:|:---|\n",
       "| [![arXiv](https://img.shields.io/badge/arXiv-arXiv:2209.14866-b31b1b.svg)](https://arxiv.org/abs/arXiv:2209.14866) | **A Highly Magnified Star at Redshift 6.2**  |\n",
       "|| Brian Welch, et al. -- incl., <mark>Guillaume Mahler</mark>, <mark>Soniya Sharma</mark> |\n",
       "|*Appeared on*| *2022-09-30*|\n",
       "|*Comments*| *50 pages, 11 figures (3 main text, 8 extended data). Published in Nature*|\n",
       "|**Abstract**| Galaxy clusters magnify background objects through strong gravitational lensing. Typical magnifications for lensed galaxies are factors of a few but can also be as high as tens or hundreds, stretching galaxies into giant arcs. Individual stars can attain even higher magnifications given fortuitous alignment with the lensing cluster. Recently, several individual stars at redshift $z \\sim 1 - 1.5$ have been discovered, magnified by factors of thousands, temporarily boosted by microlensing. Here we report observations of a more distant and persistent magnified star at redshift $z_{\\rm phot} = 6.2 \\pm 0.1$, 900 Myr after the Big Bang. This star is magnified by a factor of thousands by the foreground galaxy cluster lens WHL0137--08 ($z = 0.566$), as estimated by four independent lens models. Unlike previous lensed stars, the magnification and observed brightness (AB mag 27.2) have remained roughly constant over 3.5 years of imaging and follow-up. The delensed absolute UV magnitude $M_{UV} = -10 \\pm 2$ is consistent with a star of mass $M > 50 M_{\\odot}$. Confirmation and spectral classification are forthcoming from approved observations with the James Webb Space Telescope |\n",
       "|<p style=\"color:green\"> **ERROR** </p>| <p style=\"color:green\">affiliation error: mpia.affiliation_verifications: 'Heidelberg' keyword not found.</p> |"
      ],
      "text/plain": [
       "<IPython.core.display.Markdown object>"
      ]
     },
     "metadata": {},
     "output_type": "display_data"
    },
    {
     "data": {
      "text/markdown": [
       "\n",
       "|||\n",
       "|---:|:---|\n",
       "| [![arXiv](https://img.shields.io/badge/arXiv-arXiv:2209.14629-b31b1b.svg)](https://arxiv.org/abs/arXiv:2209.14629) | **DeGaPe 35: Amateur discovery of a new southern symbiotic star**  |\n",
       "|| Thomas Petit, et al. -- incl., <mark>Lionel Mulato</mark> |\n",
       "|*Appeared on*| *2022-09-30*|\n",
       "|*Comments*| *accepted for publication in New Astronomy; 7 pages, 5 figures, 1 table*|\n",
       "|**Abstract**| In this work, we present the discovery and characterization of a new southern S-type symbiotic star, DeGaPe 35. We have obtained the low-resolution spectroscopic observations and supplemented them with photometry from Gaia DR3 and other surveys. The optical spectra of this target show prominent emission lines, including highly ionized [Fe VII] and O VI lines. The cool component of this symbiotic binary is an M4-5 giant with effective temperature ~ 3 380 - 3 470 K and luminosity ~ 3 000 L$_\\odot$ (for the adopted distance of 3 kpc). The hot component is a shell-burning white dwarf. The photometric observations of the Gaia satellite, published recently in the Gaia DR3 suggested the variability with the period of about 700 - 800 days that we tentatively attributed to the orbital motion of the binary. |\n",
       "|<p style=\"color:red\"> **ERROR** </p>| <p style=\"color:red\">latex error not a gzip file</p> |"
      ],
      "text/plain": [
       "<IPython.core.display.Markdown object>"
      ]
     },
     "metadata": {},
     "output_type": "display_data"
    },
    {
     "data": {
      "text/markdown": [
       "\n",
       "|||\n",
       "|---:|:---|\n",
       "| [![arXiv](https://img.shields.io/badge/arXiv-arXiv:2209.14897-b31b1b.svg)](https://arxiv.org/abs/arXiv:2209.14897) | **Thermodynamics of the inner heliosheath**  |\n",
       "|| <mark>G. Livadiotis</mark>, et al. |\n",
       "|*Appeared on*| *2022-09-30*|\n",
       "|*Comments*| *34 pages, 18 figures*|\n",
       "|**Abstract**| We derive annual skymaps of the proton temperature in the inner heliosheath (IHS), and track their temporal evolution over the years from 2009 to 2016 of Interstellar Boundary Explorer observations. Other associated thermodynamic parameters also determined are the density, kappa, that is, the parameter that characterizes kappa distributions, temperature rate, polytropic index, and entropy. We exploit the theory of kappa distributions and their connection with polytropes, to (i) express a new polytropic quantity {\\Pi} that remains invariant along streamlines where temperature and density may vary, (ii) parameterize the proton flux in terms of the {\\Pi} invariant and kappa, and (iii) derive the temperature and density, respectively, from the slope and intercept of the linear relationship between kappa and logarithm of {\\Pi}. We find the following thermodynamic characteristics: (1) Temperature sky-maps and histograms shifted to their lowest values in 2012 and their highest in 2015; (2) Temperature negatively correlated with density, reflecting the subisothermal polytropic behavior; (3) Temperature positively correlated with kappa, revealing characteristics of the mechanism responsible for generating kappa distributions; (4) Processes in IHS are sub-isothermal tending toward isobaric, consistent with previously published results; (5) Linear relationship between kappa and polytropic indices, revealing characteristics of the particle potential energy; and (6) Entropy positively correlated with polytropic index, aligned with the underlying theory that entropy increases towards the isothermal state where the kappa distribution reduces to the Maxwell Boltzmann description. |\n",
       "|<p style=\"color:red\"> **ERROR** </p>| <p style=\"color:red\">latex error not a gzip file</p> |"
      ],
      "text/plain": [
       "<IPython.core.display.Markdown object>"
      ]
     },
     "metadata": {},
     "output_type": "display_data"
    }
   ],
   "source": [
    "import datetime\n",
    "today = str(datetime.date.today())\n",
    "logfile = f\"_build/html/logs/log-{today}.md\"\n",
    "\n",
    "\n",
    "with open(logfile, 'w') as logs:\n",
    "    # Success\n",
    "    logs.write(f'# Arxiv on Deck 2: Logs - {today}\\n\\n')\n",
    "    logs.write(\"\"\"* Arxiv had {0:,d} new papers\\n\"\"\".format(len(new_papers)))\n",
    "    logs.write(\"\"\"    * {0:,d} with possible author matches\\n\\n\"\"\".format(len(candidates)))\n",
    "    logs.write(\"## Sucessful papers\\n\\n\")\n",
    "    display(Markdown(\"## Successful papers\"))\n",
    "    success = [k[0] for k in documents]\n",
    "    for candid in candidates:\n",
    "        if candid['identifier'].split(':')[-1] in success:\n",
    "            display(candid)\n",
    "            logs.write(candid.generate_markdown_text() + '\\n\\n')\n",
    "\n",
    "    ## failed\n",
    "    logs.write(\"## Failed papers\\n\\n\")\n",
    "    display(Markdown(\"## Failed papers\"))\n",
    "    failed = sorted(failed, key=lambda x: x[1])\n",
    "    current_reason = \"\"\n",
    "    for paper, reason in failed:\n",
    "        if 'affiliation' in reason:\n",
    "            color = 'green'\n",
    "        else:\n",
    "            color = 'red'\n",
    "        data = Markdown(\n",
    "                paper.generate_markdown_text() + \n",
    "                f'\\n|<p style=\"color:{color:s}\"> **ERROR** </p>| <p style=\"color:{color:s}\">{reason:s}</p> |'\n",
    "               )\n",
    "        if reason != current_reason:\n",
    "            logs.write(f'### {reason:s} \\n\\n')\n",
    "            current_reason = reason\n",
    "        logs.write(data.data + '\\n\\n')\n",
    "        \n",
    "        # only display here the important errors (all in logs)\n",
    "        # if color in ('red',):\n",
    "        display(data)"
   ]
  },
  {
   "cell_type": "markdown",
   "id": "472d20ee",
   "metadata": {
    "papermill": {
     "duration": 0.010707,
     "end_time": "2022-09-30T05:18:55.822383",
     "exception": false,
     "start_time": "2022-09-30T05:18:55.811676",
     "status": "completed"
    },
    "tags": []
   },
   "source": [
    "## Export documents\n",
    "\n",
    "We now write the .md files and export relevant images"
   ]
  },
  {
   "cell_type": "code",
   "execution_count": 7,
   "id": "d426aed9",
   "metadata": {
    "execution": {
     "iopub.execute_input": "2022-09-30T05:18:55.845743Z",
     "iopub.status.busy": "2022-09-30T05:18:55.845262Z",
     "iopub.status.idle": "2022-09-30T05:18:55.856522Z",
     "shell.execute_reply": "2022-09-30T05:18:55.855608Z"
    },
    "papermill": {
     "duration": 0.025656,
     "end_time": "2022-09-30T05:18:55.858840",
     "exception": false,
     "start_time": "2022-09-30T05:18:55.833184",
     "status": "completed"
    },
    "tags": []
   },
   "outputs": [],
   "source": [
    "def export_markdown_summary(md: str, md_fname:str, directory: str):\n",
    "    \"\"\"Export MD document and associated relevant images\"\"\"\n",
    "    import os\n",
    "    import shutil\n",
    "    import re\n",
    "\n",
    "    if (os.path.exists(directory) and not os.path.isdir(directory)):\n",
    "        raise RuntimeError(f\"a non-directory file exists with name {directory:s}\")\n",
    "\n",
    "    if (not os.path.exists(directory)):\n",
    "        print(f\"creating directory {directory:s}\")\n",
    "        os.mkdir(directory)\n",
    "\n",
    "    fig_fnames = (re.compile(r'\\[Fig.*\\]\\((.*)\\)').findall(md) + \n",
    "                  re.compile(r'\\<img src=\"([^>\\s]*)\"[^>]*/>').findall(md))\n",
    "    for fname in fig_fnames:\n",
    "        if 'http' in fname:\n",
    "            # No need to copy online figures\n",
    "            continue\n",
    "        destdir = os.path.join(directory, os.path.dirname(fname))\n",
    "        destfname = os.path.join(destdir, os.path.basename(fname))\n",
    "        try:\n",
    "            os.makedirs(destdir)\n",
    "        except FileExistsError:\n",
    "            pass\n",
    "        shutil.copy(fname, destfname)\n",
    "    with open(os.path.join(directory, md_fname), 'w') as fout:\n",
    "        fout.write(md)\n",
    "    print(\"exported in \", os.path.join(directory, md_fname))\n",
    "    [print(\"    + \" + os.path.join(directory,fk)) for fk in fig_fnames]"
   ]
  },
  {
   "cell_type": "code",
   "execution_count": 8,
   "id": "014d04a4",
   "metadata": {
    "execution": {
     "iopub.execute_input": "2022-09-30T05:18:55.882472Z",
     "iopub.status.busy": "2022-09-30T05:18:55.881843Z",
     "iopub.status.idle": "2022-09-30T05:18:55.892310Z",
     "shell.execute_reply": "2022-09-30T05:18:55.891342Z"
    },
    "papermill": {
     "duration": 0.024944,
     "end_time": "2022-09-30T05:18:55.894397",
     "exception": false,
     "start_time": "2022-09-30T05:18:55.869453",
     "status": "completed"
    },
    "tags": []
   },
   "outputs": [
    {
     "name": "stdout",
     "output_type": "stream",
     "text": [
      "exported in  _build/html/2209.14396.md\n",
      "    + _build/html/tmp_2209.14396/./figures/family_portrait.png\n",
      "    + _build/html/tmp_2209.14396/./figures/toi_2000_lc.png\n",
      "    + _build/html/tmp_2209.14396/./figures/toi_2000_mass_radius.png\n",
      "exported in  _build/html/2209.14410.md\n",
      "    + _build/html/tmp_2209.14410/./fig2.png\n",
      "    + _build/html/tmp_2209.14410/./fig1.png\n",
      "    + _build/html/tmp_2209.14410/./fig3.png\n"
     ]
    }
   ],
   "source": [
    "for paper_id, md in documents:\n",
    "    export_markdown_summary(md, f\"{paper_id:s}.md\", '_build/html/')"
   ]
  },
  {
   "cell_type": "markdown",
   "id": "f087a0a7",
   "metadata": {
    "papermill": {
     "duration": 0.010848,
     "end_time": "2022-09-30T05:18:55.916264",
     "exception": false,
     "start_time": "2022-09-30T05:18:55.905416",
     "status": "completed"
    },
    "tags": []
   },
   "source": [
    "## Display the papers\n",
    "\n",
    "Not necessary but allows for a quick check."
   ]
  },
  {
   "cell_type": "code",
   "execution_count": 9,
   "id": "fd25f625",
   "metadata": {
    "execution": {
     "iopub.execute_input": "2022-09-30T05:18:55.940896Z",
     "iopub.status.busy": "2022-09-30T05:18:55.940430Z",
     "iopub.status.idle": "2022-09-30T05:18:55.949440Z",
     "shell.execute_reply": "2022-09-30T05:18:55.948429Z"
    },
    "papermill": {
     "duration": 0.024864,
     "end_time": "2022-09-30T05:18:55.952837",
     "exception": false,
     "start_time": "2022-09-30T05:18:55.927973",
     "status": "completed"
    },
    "scrolled": false,
    "tags": []
   },
   "outputs": [
    {
     "data": {
      "text/markdown": [
       "<div class=\"macros\" style=\"visibility:hidden;\">\n",
       "$\\newcommand{\\ensuremath}{}$\n",
       "$\\newcommand{\\xspace}{}$\n",
       "$\\newcommand{\\object}[1]{\\texttt{#1}}$\n",
       "$\\newcommand{\\farcs}{{.}''}$\n",
       "$\\newcommand{\\farcm}{{.}'}$\n",
       "$\\newcommand{\\arcsec}{''}$\n",
       "$\\newcommand{\\arcmin}{'}$\n",
       "$\\newcommand{\\ion}[2]{#1#2}$\n",
       "$\\newcommand{\\textsc}[1]{\\textrm{#1}}$\n",
       "$\\newcommand{\\hl}[1]{\\textrm{#1}}$\n",
       "$\\newcommand{\\plusminus}[3]{#1^{+#2}_{-#3}}$\n",
       "$\\newcommand{\\circa}{\\ensuremath{{\\sim}\\mspace{2mu}}}$\n",
       "$\\newcommand{\\ut}{\\textsc{ut}}$\n",
       "$\\newcommand{\\tablenotemark}[1]{\\textsuperscript{\\textit{#1}}}$\n",
       "$\\newcommand{\\bjdtdb}{\\ensuremath{\\mathrm{BJD}_\\text{TDB}}}$\n",
       "$\\newcommand{\\feh}{\\ensuremath{[\\text{Fe}/\\text{H}]}}$\n",
       "$\\newcommand{\\logg}{\\ensuremath{\\log g}}$\n",
       "$\\newcommand{\\tempeff}{\\ensuremath{T_{\\text{eff}}}}$\n",
       "$\\newcommand{\\tempeq}{\\ensuremath{T_{\\text{eq}}}}$\n",
       "$\\newcommand{\\vsini}{\\ensuremath{v \\sin i}}$\n",
       "$\\newcommand{\\normaldist}{\\mathcal{N}}$\n",
       "$\\newcommand{\\uniformdist}{\\mathcal{U}}$\n",
       "$\\newcommand{\\gaiaG}{\\ensuremath{G}}$\n",
       "$\\newcommand{\\gaiaBP}{\\ensuremath{G_\\mathrm{BP}}}$\n",
       "$\\newcommand{\\gaiaRP}{\\ensuremath{G_\\mathrm{RP}}}$\n",
       "$\\newcommand{\\filterB}{\\ensuremath{B}}$\n",
       "$\\newcommand{\\filterIc}{\\ensuremath{I_\\mathrm{c}}}$\n",
       "$\\newcommand{\\filterJ}{\\ensuremath{J}}$\n",
       "$\\newcommand{\\filterH}{\\ensuremath{H}}$\n",
       "$\\newcommand{\\filterK}{\\ensuremath{K_\\mathrm{s}}}$\n",
       "$\\newcommand{\\filterR}{\\ensuremath{R}}$\n",
       "$\\newcommand{\\filterRc}{\\ensuremath{R_\\mathrm{c}}}$\n",
       "$\\newcommand{\\filterV}{\\ensuremath{V}}$\n",
       "$\\newcommand{\\filterWone}{\\ensuremath{W1}}$\n",
       "$\\newcommand{\\filterWtwo}{\\ensuremath{W2}}$\n",
       "$\\newcommand{\\filterWthree}{\\ensuremath{W3}}$\n",
       "$\\newcommand{\\filterWfour}{\\ensuremath{W4}}$\n",
       "$\\newcommand{\\filtergp}{\\ensuremath{g'}}$\n",
       "$\\newcommand{\\filterip}{\\ensuremath{i'}}$\n",
       "$\\newcommand{\\filterrp}{\\ensuremath{r'}}$\n",
       "$\\newcommand{\\filterzs}{\\ensuremath{z_\\mathrm{s}}}$\n",
       "$\\newcommand{\\ares}{\\textsc{ares}}$\n",
       "$\\newcommand{\\arviz}{\\textsc{arviz}}$\n",
       "$\\newcommand{\\astroimagej}{\\textsc{AstroImageJ}}$\n",
       "$\\newcommand{\\batman}{\\textsc{batman}}$\n",
       "$\\newcommand{\\celeritetwo}{\\textsc{celerite2}}$\n",
       "$\\newcommand{\\emcee}{\\textsc{emcee}}$\n",
       "$\\newcommand{\\exofast}{\\textsc{exofast}}$\n",
       "$\\newcommand{\\exoplanetpy}{\\textsc{exoplanet}}$\n",
       "$\\newcommand{\\isochrones}{\\textsc{isochrones}}$\n",
       "$\\newcommand{\\mist}{MIST}$\n",
       "$\\newcommand{\\molusc}{\\textsc{molusc}}$\n",
       "$\\newcommand{\\moog}{\\textsc{moog}}$\n",
       "$\\newcommand{\\pymc}{\\textsc{PyMC}}$\n",
       "$\\newcommand{\\qlp}{\\textsc{qlp}}$\n",
       "$\\newcommand{\\radvel}{\\textsc{radvel}}$\n",
       "$\\newcommand{\\sklearn}{\\textsc{Scikit-learn}}$\n",
       "$\\newcommand{\\triceratops}{\\textsc{triceratops}}$\n",
       "$\\newcommand{\\vartools}{\\textsc{Vartools}}$\n",
       "$\\newcommand{\\planet}[2]{#1\\thinspace #2}$\n",
       "$\\newcommand{\\toitwothousand}{TOI-2000}$\n",
       "$\\newcommand{\\toitwothousandtic}{371188886}$\n",
       "$\\newcommand{\\planetinner}{\\planet{\\toitwothousand}{b}}$\n",
       "$\\newcommand{\\planetouter}{\\planet{\\toitwothousand}{c}}$\n",
       "$\\newcommand{\\waspfortyseven}{WASP-47}$\n",
       "$\\newcommand{\\waspfortysevenhj}{\\planet{\\waspfortyseven}{b}}$\n",
       "$\\newcommand{\\waspfortyseveninner}{\\planet{\\waspfortyseven}{e}}$\n",
       "$\\newcommand{\\waspfortysevenneptune}{\\planet{\\waspfortyseven}{d}}$\n",
       "$\\newcommand{\\keplerseventhirty}{Kepler-730}$\n",
       "$\\newcommand{\\keplerseventhirtyhj}{\\planet{Kepler-730}{b}}$\n",
       "$\\newcommand{\\keplerseventhirtyinner}{\\planet{Kepler-730}{c}}$\n",
       "$\\newcommand{\\toieleventhirty}{TOI-1130}$\n",
       "$\\newcommand{\\toieleventhirtyinner}{\\planet{\\toieleventhirty}{b}}$\n",
       "$\\newcommand{\\toieleventhirtyhj}{\\planet{\\toieleventhirty}{c}}$\n",
       "$\\newcommand{\\keplerthirty}{Kepler-30}$\n",
       "$\\newcommand{\\keplerthirtyb}{\\planet{\\keplerthirty}{b}}$\n",
       "$\\newcommand{\\keplereightynine}{KOI-94}$\n",
       "$\\newcommand{\\keplereightynineb}{\\planet{\\keplereightynine}{b}}$\n",
       "$\\newcommand{\\wasponethirtytwo}{WASP-132}$\n",
       "$\\newcommand{\\wasponethirtytwohj}{\\planet{WASP-132}{b}}$\n",
       "$\\newcommand{\\wasponethirtytwoinner}{\\planet{WASP-132}{c}}$\n",
       "$\\newcommand{\\astep}{ASTEP}$\n",
       "$\\newcommand{\\chiron}{CHI\\-RON}$\n",
       "$\\newcommand{\\edrthree}{EDR3}$\n",
       "$\\newcommand{\\feros}{FEROS}$\n",
       "$\\newcommand{\\gaia}{\\emph{Gaia}}$\n",
       "$\\newcommand{\\geminisouth}{Gemini South}$\n",
       "$\\newcommand{\\harps}{HARPS}$\n",
       "$\\newcommand{\\jwst}{\\emph{JWST}}$\n",
       "$\\newcommand{\\kepler}{\\emph{Kepler}}$\n",
       "$\\newcommand{\\ktwo}{\\emph{K2}}$\n",
       "$\\newcommand{\\lcogt}{LCOGT}$\n",
       "$\\newcommand{\\pest}{PEST}$\n",
       "$\\newcommand{\\soar}{SOAR}$\n",
       "$\\newcommand{\\tess}{\\emph{TESS}}$\n",
       "$\\newcommand{\\twomass}{2MASS}$\n",
       "$\\newcommand{\\wise}{\\emph{WISE}}$\n",
       "$\\newcommand{\\sysParamPeriodSubZero}{9.1270553}$\n",
       "$\\newcommand{\\sysParamPeriodSubZeroUnc}{\\pm 0.0000073}$\n",
       "$\\newcommand{\\sysParamPeriodSubOne}{3.098331}$\n",
       "$\\newcommand{\\sysParamPeriodSubOneUnc}{_{-0.000019}^{+0.000021}}$\n",
       "$\\newcommand{\\sysParamTzeroSubZero}{2459110.06589}$\n",
       "$\\newcommand{\\sysParamTzeroSubZeroUnc}{\\pm 0.00027}$\n",
       "$\\newcommand{\\sysParamTzeroSubOne}{2458901.7192}$\n",
       "$\\newcommand{\\sysParamTzeroSubOneUnc}{_{-0.0020}^{+0.0021}}$\n",
       "$\\newcommand{\\sysParamRpSubZero}{0.06564}$\n",
       "$\\newcommand{\\sysParamRpSubZeroUnc}{\\pm 0.00064}$\n",
       "$\\newcommand{\\sysParamRpSubOne}{0.02178}$\n",
       "$\\newcommand{\\sysParamRpSubOneUnc}{_{-0.00096}^{+0.00089}}$\n",
       "$\\newcommand{\\sysParamBSubZero}{0.618}$\n",
       "$\\newcommand{\\sysParamBSubZeroUnc}{_{-0.042}^{+0.037}}$\n",
       "$\\newcommand{\\sysParamBSubOne}{0.763}$\n",
       "$\\newcommand{\\sysParamBSubOneUnc}{_{-0.072}^{+0.033}}$\n",
       "$\\newcommand{\\sysParamTdurSubZero}{3.90}$\n",
       "$\\newcommand{\\sysParamTdurSubZeroUnc}{\\pm 0.40}$\n",
       "$\\newcommand{\\sysParamTdurSubOne}{1.957}$\n",
       "$\\newcommand{\\sysParamTdurSubOneUnc}{_{-0.099}^{+0.208}}$\n",
       "$\\newcommand{\\sysParamSqrtEccVecZeroSubZero}{-0.213}$\n",
       "$\\newcommand{\\sysParamSqrtEccVecZeroSubZeroUnc}{_{-0.046}^{+0.060}}$\n",
       "$\\newcommand{\\sysParamSqrtEccVecZeroSubOne}{-0.08}$\n",
       "$\\newcommand{\\sysParamSqrtEccVecZeroSubOneUnc}{_{-0.11}^{+0.13}}$\n",
       "$\\newcommand{\\sysParamEccSubZero}{0.064}$\n",
       "$\\newcommand{\\sysParamEccSubZeroUnc}{_{-0.022}^{+0.023}}$\n",
       "$\\newcommand{\\sysParamOmegaSubZero}{-2.43}$\n",
       "$\\newcommand{\\sysParamOmegaSubZeroUnc}{_{-0.46}^{+5.19}}$\n",
       "$\\newcommand{\\sysParamRPlanetEarthSubZero}{7.97}$\n",
       "$\\newcommand{\\sysParamRPlanetEarthSubZeroUnc}{\\pm 0.12}$\n",
       "$\\newcommand{\\sysParamRPlanetEarthSubOne}{2.64}$\n",
       "$\\newcommand{\\sysParamRPlanetEarthSubOneUnc}{_{-0.12}^{+0.11}}$\n",
       "$\\newcommand{\\sysParamMPlanetEarthSubZero}{75.7}$\n",
       "$\\newcommand{\\sysParamMPlanetEarthSubZeroUnc}{\\pm 3.8}$\n",
       "$\\newcommand{\\sysParamMPlanetEarthSubOne}{10.3}$\n",
       "$\\newcommand{\\sysParamMPlanetEarthSubOneUnc}{\\pm 2.2}$\n",
       "$\\newcommand{\\sysParamMPlanetSubZero}{(2.27}$\n",
       "$\\newcommand{\\sysParamMPlanetSubZeroUnc}{_{-0.12}^{+0.11}) \\times 10^{-4}}$\n",
       "$\\newcommand{\\sysParamMPlanetSubOne}{(3.09}$\n",
       "$\\newcommand{\\sysParamMPlanetSubOneUnc}{_{-0.66}^{+0.67}) \\times 10^{-5}}$\n",
       "$\\newcommand{\\sysParamRhoPlanetSubZero}{0.822}$\n",
       "$\\newcommand{\\sysParamRhoPlanetSubZeroUnc}{_{-0.056}^{+0.058}}$\n",
       "$\\newcommand{\\sysParamRhoPlanetSubOne}{3.06}$\n",
       "$\\newcommand{\\sysParamRhoPlanetSubOneUnc}{_{-0.72}^{+0.83}}$\n",
       "$\\newcommand{\\sysParamKSubZero}{23.8}$\n",
       "$\\newcommand{\\sysParamKSubZeroUnc}{\\pm 1.1}$\n",
       "$\\newcommand{\\sysParamKSubOne}{4.63}$\n",
       "$\\newcommand{\\sysParamKSubOneUnc}{_{-0.99}^{+1.00}}$\n",
       "$\\newcommand{\\sysParamASubZero}{0.0875}$\n",
       "$\\newcommand{\\sysParamASubZeroUnc}{_{-0.0014}^{+0.0016}}$\n",
       "$\\newcommand{\\sysParamASubOne}{0.04260}$\n",
       "$\\newcommand{\\sysParamASubOneUnc}{_{-0.00067}^{+0.00076}}$\n",
       "$\\newcommand{\\sysParamInclSubZero}{87.94}$\n",
       "$\\newcommand{\\sysParamInclSubZeroUnc}{_{-0.11}^{+0.13}}$\n",
       "$\\newcommand{\\sysParamInclSubOne}{84.73}$\n",
       "$\\newcommand{\\sysParamInclSubOneUnc}{_{-0.33}^{+0.49}}$\n",
       "$\\newcommand{\\sysParamAorSubZero}{16.92}$\n",
       "$\\newcommand{\\sysParamAorSubZeroUnc}{_{-0.33}^{+0.37}}$\n",
       "$\\newcommand{\\sysParamAorSubOne}{8.23}$\n",
       "$\\newcommand{\\sysParamAorSubOneUnc}{_{-0.16}^{+0.18}}$\n",
       "$\\newcommand{\\sysParamMStarZero}{1.074}$\n",
       "$\\newcommand{\\sysParamMStarZeroUnc}{_{-0.050}^{+0.059}}$\n",
       "$\\newcommand{\\sysParamFehZero}{0.414}$\n",
       "$\\newcommand{\\sysParamFehZeroUnc}{_{-0.041}^{+0.040}}$\n",
       "$\\newcommand{\\sysParamEep}{380}$\n",
       "$\\newcommand{\\sysParamEepUnc}{_{-36}^{+25}}$\n",
       "$\\newcommand{\\sysParamMStar}{1.074}$\n",
       "$\\newcommand{\\sysParamMStarUnc}{_{-0.050}^{+0.059}}$\n",
       "$\\newcommand{\\sysParamRStar}{1.113}$\n",
       "$\\newcommand{\\sysParamRStarUnc}{\\pm 0.011}$\n",
       "$\\newcommand{\\sysParamRhoStar}{1.099}$\n",
       "$\\newcommand{\\sysParamRhoStarUnc}{_{-0.063}^{+0.074}}$\n",
       "$\\newcommand{\\sysParamLoggStar}{4.376}$\n",
       "$\\newcommand{\\sysParamLoggStarUnc}{_{-0.023}^{+0.026}}$\n",
       "$\\newcommand{\\sysParamTeff}{5607}$\n",
       "$\\newcommand{\\sysParamTeffUnc}{_{-82}^{+86}}$\n",
       "$\\newcommand{\\sysParamFeh}{0.438}$\n",
       "$\\newcommand{\\sysParamFehUnc}{_{-0.042}^{+0.041}}$\n",
       "$\\newcommand{\\sysParamAge}{5.1}$\n",
       "$\\newcommand{\\sysParamAgeUnc}{\\pm 2.7}$\n",
       "$\\newcommand{\\sysParamParallax}{5.760}$\n",
       "$\\newcommand{\\sysParamParallaxUnc}{\\pm 0.010}$\n",
       "$\\newcommand{\\sysParamAv}{0.156}$\n",
       "$\\newcommand{\\sysParamAvUnc}{_{-0.072}^{+0.074}}$\n",
       "$\\newcommand{\\sysParamMagBol}{4.634}$\n",
       "$\\newcommand{\\sysParamMagBolUnc}{_{-0.054}^{+0.052}}$\n",
       "$\\newcommand{\\sysParamLStar}{1.103}$\n",
       "$\\newcommand{\\sysParamLStarUnc}{_{-0.051}^{+0.056}}$\n",
       "$\\newcommand{\\sysParamDistance}{173.60}$\n",
       "$\\newcommand{\\sysParamDistanceUnc}{\\pm 0.31}$\n",
       "$\\newcommand{\\sysParamSedUncScale}{1.30}$\n",
       "$\\newcommand{\\sysParamSedUncScaleUnc}{_{-0.22}^{+0.41}}$\n",
       "$\\newcommand{\\sysParamIrradiationSubZero}{(1.961}$\n",
       "$\\newcommand{\\sysParamIrradiationSubZeroUnc}{_{-0.094}^{+0.101}) \\times 10^{8}}$\n",
       "$\\newcommand{\\sysParamIrradiationSubOne}{(8.26}$\n",
       "$\\newcommand{\\sysParamIrradiationSubOneUnc}{_{-0.40}^{+0.43}) \\times 10^{8}}$\n",
       "$\\newcommand{\\sysParamUTessSubZero}{0.124}$\n",
       "$\\newcommand{\\sysParamUTessSubZeroUnc}{_{-0.090}^{+0.163}}$\n",
       "$\\newcommand{\\sysParamUTessSubOne}{0.34}$\n",
       "$\\newcommand{\\sysParamUTessSubOneUnc}{_{-0.23}^{+0.16}}$\n",
       "$\\newcommand{\\sysParamURcSubZero}{0.88}$\n",
       "$\\newcommand{\\sysParamURcSubZeroUnc}{_{-0.28}^{+0.21}}$\n",
       "$\\newcommand{\\sysParamURcSubOne}{-0.28}$\n",
       "$\\newcommand{\\sysParamURcSubOneUnc}{_{-0.20}^{+0.33}}$\n",
       "$\\newcommand{\\sysParamUZsSubZero}{0.42}$\n",
       "$\\newcommand{\\sysParamUZsSubZeroUnc}{_{-0.28}^{+0.34}}$\n",
       "$\\newcommand{\\sysParamUZsSubOne}{0.01}$\n",
       "$\\newcommand{\\sysParamUZsSubOneUnc}{_{-0.27}^{+0.32}}$\n",
       "$\\newcommand{\\sysParamMeanFluxZero}{(-1.3}$\n",
       "$\\newcommand{\\sysParamMeanFluxZeroUnc}{\\pm 1.2) \\times 10^{-5}}$\n",
       "$\\newcommand{\\sysParamMeanFluxOne}{(1.5}$\n",
       "$\\newcommand{\\sysParamMeanFluxOneUnc}{\\pm 1.2) \\times 10^{-5}}$\n",
       "$\\newcommand{\\sysParamLcJitterSubZero}{(9.2}$\n",
       "$\\newcommand{\\sysParamLcJitterSubZeroUnc}{_{-4.2}^{+3.1}) \\times 10^{-5}}$\n",
       "$\\newcommand{\\sysParamLcJitterSubOne}{(2.08}$\n",
       "$\\newcommand{\\sysParamLcJitterSubOneUnc}{_{-1.15}^{+0.86}) \\times 10^{-4}}$\n",
       "$\\newcommand{\\sysParamLcJitterSubTwo}{(1.26}$\n",
       "$\\newcommand{\\sysParamLcJitterSubTwoUnc}{_{-0.88}^{+1.24}) \\times 10^{-4}}$\n",
       "$\\newcommand{\\sysParamLcJitterSubThree}{0.00124}$\n",
       "$\\newcommand{\\sysParamLcJitterSubThreeUnc}{\\pm 0.00014}$\n",
       "$\\newcommand{\\sysParamRvGammaSubZero}{6648.3}$\n",
       "$\\newcommand{\\sysParamRvGammaSubZeroUnc}{_{-13.1}^{+9.5}}$\n",
       "$\\newcommand{\\sysParamRvGammaSubOne}{8114}$\n",
       "$\\newcommand{\\sysParamRvGammaSubOneUnc}{_{-14}^{+11}}$\n",
       "$\\newcommand{\\sysParamRvGammaSubTwo}{8118.5}$\n",
       "$\\newcommand{\\sysParamRvGammaSubTwoUnc}{_{-12.7}^{+8.9}}$\n",
       "$\\newcommand{\\sysParamRvJitterSubZero}{3.2}$\n",
       "$\\newcommand{\\sysParamRvJitterSubZeroUnc}{_{-2.2}^{+3.1}}$\n",
       "$\\newcommand{\\sysParamRvJitterSubOne}{14.1}$\n",
       "$\\newcommand{\\sysParamRvJitterSubOneUnc}{_{-3.4}^{+4.4}}$\n",
       "$\\newcommand{\\sysParamRvJitterSubTwo}{3.16}$\n",
       "$\\newcommand{\\sysParamRvJitterSubTwoUnc}{_{-0.78}^{+0.83}}$\n",
       "$\\newcommand{\\sysParamGpSigma}{22.0}$\n",
       "$\\newcommand{\\sysParamGpSigmaUnc}{_{-7.9}^{+14.6}}$\n",
       "$\\newcommand{\\sysParamGpRho}{118}$\n",
       "$\\newcommand{\\sysParamGpRhoUnc}{_{-40}^{+54}}$\n",
       "$\\newcommand{\\sysParamGpTau}{33}$\n",
       "$\\newcommand{\\sysParamGpTauUnc}{_{-28}^{+94}}$\n",
       "$\\newcommand{\\sysParamRPlanetJupiterSubZero}{0.711}$\n",
       "$\\newcommand{\\sysParamRPlanetJupiterSubZeroUnc}{\\pm 0.011}$\n",
       "$\\newcommand{\\sysParamRPlanetJupiterSubOne}{0.236}$\n",
       "$\\newcommand{\\sysParamRPlanetJupiterSubOneUnc}{_{-0.011}^{+0.010}}$\n",
       "$\\newcommand{\\sysParamMPlanetJupiterSubZero}{0.238}$\n",
       "$\\newcommand{\\sysParamMPlanetJupiterSubZeroUnc}{\\pm 0.012}$\n",
       "$\\newcommand{\\sysParamMPlanetJupiterSubOne}{0.0324}$\n",
       "$\\newcommand{\\sysParamMPlanetJupiterSubOneUnc}{\\pm 0.0070}$\n",
       "$\\newcommand{\\sysParamTempEqSubZero}{1029}$\n",
       "$\\newcommand{\\sysParamTempEqSubZeroUnc}{_{-111}^{+84}}$\n",
       "$\\newcommand{\\sysParamTempEqSubOne}{1475}$\n",
       "$\\newcommand{\\sysParamTempEqSubOneUnc}{_{-158}^{+120}}$\n",
       "$\\newcommand{\\sysParamOmegaFoldSubZero}{200}$\n",
       "$\\newcommand{\\sysParamOmegaFoldSubZeroUnc}{_{-34}^{+27}}$\n",
       "$\\newcommand{\\arraystretch}{1.25}$\n",
       "$\\newcommand{\\arraystretch}{1.25}$\n",
       "$\\newcommand{\\arraystretch}{1.25}$\n",
       "$\\newcommand{\\arraystretch}{1.25}$\n",
       "$\\newcommand{\\arraystretch}{1.05}$</div>\n",
       "\n",
       "<div class=\"macros\" style=\"visibility:hidden;\">\n",
       "$\\newcommand{$\\ensuremath$}{}$\n",
       "$\\newcommand{$\\xspace$}{}$\n",
       "$\\newcommand{$\\object$}[1]{\\texttt{#1}}$\n",
       "$\\newcommand{$\\farcs$}{{.}''}$\n",
       "$\\newcommand{$\\farcm$}{{.}'}$\n",
       "$\\newcommand{$\\arcsec$}{''}$\n",
       "$\\newcommand{$\\arcmin$}{'}$\n",
       "$\\newcommand{$\\ion$}[2]{#1#2}$\n",
       "$\\newcommand{$\\textsc$}[1]{\\textrm{#1}}$\n",
       "$\\newcommand{$\\hl$}[1]{\\textrm{#1}}$\n",
       "$\\newcommand{$\\plusminus$}[3]{#1^{+#2}_{-#3}}$\n",
       "$\\newcommand{$\\circa$}{$\\ensuremath${{\\sim}\\mspace{2mu}}}$\n",
       "$\\newcommand{$\\ut$}{$\\textsc${ut}}$\n",
       "$\\newcommand{$\\tablenotemark$}[1]{\\textsuperscript{\\textit{#1}}}$\n",
       "$\\newcommand{$\\bjdtdb$}{$\\ensuremath${\\mathrm{BJD}_\\text{TDB}}}$\n",
       "$\\newcommand{$\\feh$}{$\\ensuremath${[\\text{Fe}/\\text{H}]}}$\n",
       "$\\newcommand{$\\logg$}{$\\ensuremath${\\log g}}$\n",
       "$\\newcommand{$\\tempeff$}{$\\ensuremath${T_{\\text{eff}}}}$\n",
       "$\\newcommand{$\\tempeq$}{$\\ensuremath${T_{\\text{eq}}}}$\n",
       "$\\newcommand{$\\vsini$}{$\\ensuremath${v \\sin i}}$\n",
       "$\\newcommand{$\\normaldist$}{\\mathcal{N}}$\n",
       "$\\newcommand{$\\uniformdist$}{\\mathcal{U}}$\n",
       "$\\newcommand{$\\gaiaG$}{$\\ensuremath${G}}$\n",
       "$\\newcommand{$\\gaiaBP$}{$\\ensuremath${G_\\mathrm{BP}}}$\n",
       "$\\newcommand{$\\gaiaRP$}{$\\ensuremath${G_\\mathrm{RP}}}$\n",
       "$\\newcommand{$\\filterB$}{$\\ensuremath${B}}$\n",
       "$\\newcommand{$\\filterIc$}{$\\ensuremath${I_\\mathrm{c}}}$\n",
       "$\\newcommand{$\\filterJ$}{$\\ensuremath${J}}$\n",
       "$\\newcommand{$\\filterH$}{$\\ensuremath${H}}$\n",
       "$\\newcommand{$\\filterK$}{$\\ensuremath${K_\\mathrm{s}}}$\n",
       "$\\newcommand{$\\filterR$}{$\\ensuremath${R}}$\n",
       "$\\newcommand{$\\filterR$c}{$\\ensuremath${R_\\mathrm{c}}}$\n",
       "$\\newcommand{$\\filterV$}{$\\ensuremath${V}}$\n",
       "$\\newcommand{$\\filterWone$}{$\\ensuremath${W1}}$\n",
       "$\\newcommand{$\\filterWtwo$}{$\\ensuremath${W2}}$\n",
       "$\\newcommand{$\\filterWthree$}{$\\ensuremath${W3}}$\n",
       "$\\newcommand{$\\filterWfour$}{$\\ensuremath${W4}}$\n",
       "$\\newcommand{$\\filtergp$}{$\\ensuremath${g'}}$\n",
       "$\\newcommand{$\\filterip$}{$\\ensuremath${i'}}$\n",
       "$\\newcommand{$\\filterrp$}{$\\ensuremath${r'}}$\n",
       "$\\newcommand{$\\filterzs$}{$\\ensuremath${z_\\mathrm{s}}}$\n",
       "$\\newcommand{$\\ares$}{$\\textsc${ares}}$\n",
       "$\\newcommand{$\\arviz$}{$\\textsc${arviz}}$\n",
       "$\\newcommand{$\\astroimagej$}{$\\textsc${AstroImageJ}}$\n",
       "$\\newcommand{$\\batman$}{$\\textsc${batman}}$\n",
       "$\\newcommand{$\\celeritetwo$}{$\\textsc${celerite2}}$\n",
       "$\\newcommand{$\\emcee$}{$\\textsc${emcee}}$\n",
       "$\\newcommand{$\\exofast$}{$\\textsc${exofast}}$\n",
       "$\\newcommand{$\\exoplanetpy$}{$\\textsc${exoplanet}}$\n",
       "$\\newcommand{$\\isochrones$}{$\\textsc${isochrones}}$\n",
       "$\\newcommand{$\\mist$}{MIST}$\n",
       "$\\newcommand{$\\molusc$}{$\\textsc${molusc}}$\n",
       "$\\newcommand{$\\moog$}{$\\textsc${moog}}$\n",
       "$\\newcommand{$\\pymc$}{$\\textsc${PyMC}}$\n",
       "$\\newcommand{$\\qlp$}{$\\textsc${qlp}}$\n",
       "$\\newcommand{$\\radvel$}{$\\textsc${radvel}}$\n",
       "$\\newcommand{$\\sklearn$}{$\\textsc${Scikit-learn}}$\n",
       "$\\newcommand{$\\triceratops$}{$\\textsc${triceratops}}$\n",
       "$\\newcommand{$\\vartools$}{$\\textsc${Vartools}}$\n",
       "$\\newcommand{$\\planet$}[2]{#1\\thinspace #2}$\n",
       "$\\newcommand{$\\toitwothousand$}{TOI-2000}$\n",
       "$\\newcommand{$\\toitwothousand$tic}{371188886}$\n",
       "$\\newcommand{$\\planet$inner}{$\\planet${$\\toitwothousand$}{b}}$\n",
       "$\\newcommand{$\\planet$outer}{$\\planet${$\\toitwothousand$}{c}}$\n",
       "$\\newcommand{$\\waspfortyseven$}{WASP-47}$\n",
       "$\\newcommand{$\\waspfortyseven$hj}{$\\planet${$\\waspfortyseven$}{b}}$\n",
       "$\\newcommand{$\\waspfortyseven$inner}{$\\planet${$\\waspfortyseven$}{e}}$\n",
       "$\\newcommand{$\\waspfortyseven$neptune}{$\\planet${$\\waspfortyseven$}{d}}$\n",
       "$\\newcommand{$\\keplerseventhirty$}{Kepler-730}$\n",
       "$\\newcommand{$\\keplerseventhirty$hj}{$\\planet${Kepler-730}{b}}$\n",
       "$\\newcommand{$\\keplerseventhirty$inner}{$\\planet${Kepler-730}{c}}$\n",
       "$\\newcommand{$\\toieleventhirty$}{TOI-1130}$\n",
       "$\\newcommand{$\\toieleventhirty$inner}{$\\planet${$\\toieleventhirty$}{b}}$\n",
       "$\\newcommand{$\\toieleventhirty$hj}{$\\planet${$\\toieleventhirty$}{c}}$\n",
       "$\\newcommand{$\\keplerthirty$}{Kepler-30}$\n",
       "$\\newcommand{$\\keplerthirty$b}{$\\planet${$\\keplerthirty$}{b}}$\n",
       "$\\newcommand{$\\keplereightynine$}{KOI-94}$\n",
       "$\\newcommand{$\\keplereightynine$b}{$\\planet${$\\keplereightynine$}{b}}$\n",
       "$\\newcommand{$\\wasponethirtytwo$}{WASP-132}$\n",
       "$\\newcommand{$\\wasponethirtytwo$hj}{$\\planet${WASP-132}{b}}$\n",
       "$\\newcommand{$\\wasponethirtytwo$inner}{$\\planet${WASP-132}{c}}$\n",
       "$\\newcommand{$\\astep$}{ASTEP}$\n",
       "$\\newcommand{$\\chiron$}{CHI\\-RON}$\n",
       "$\\newcommand{$\\edrthree$}{EDR3}$\n",
       "$\\newcommand{$\\feros$}{FEROS}$\n",
       "$\\newcommand{$\\gaia$}{\\emph{Gaia}}$\n",
       "$\\newcommand{$\\geminisouth$}{Gemini South}$\n",
       "$\\newcommand{$\\harps$}{HARPS}$\n",
       "$\\newcommand{$\\jwst$}{\\emph{JWST}}$\n",
       "$\\newcommand{$\\kepler$}{\\emph{Kepler}}$\n",
       "$\\newcommand{$\\ktwo$}{\\emph{K2}}$\n",
       "$\\newcommand{$\\lcogt$}{LCOGT}$\n",
       "$\\newcommand{$\\pest$}{PEST}$\n",
       "$\\newcommand{$\\soar$}{SOAR}$\n",
       "$\\newcommand{$\\tess$}{\\emph{TESS}}$\n",
       "$\\newcommand{$\\twomass$}{2MASS}$\n",
       "$\\newcommand{$\\wise$}{\\emph{WISE}}$\n",
       "$\\newcommand{$\\sysParamPeriodSubZero$}{9.1270553}$\n",
       "$\\newcommand{$\\sysParamPeriodSubZero$Unc}{\\pm 0.0000073}$\n",
       "$\\newcommand{$\\sysParamPeriodSubOne$}{3.098331}$\n",
       "$\\newcommand{$\\sysParamPeriodSubOne$Unc}{_{-0.000019}^{+0.000021}}$\n",
       "$\\newcommand{$\\sysParamTzeroSubZero$}{2459110.06589}$\n",
       "$\\newcommand{$\\sysParamTzeroSubZero$Unc}{\\pm 0.00027}$\n",
       "$\\newcommand{$\\sysParamTzeroSubOne$}{2458901.7192}$\n",
       "$\\newcommand{$\\sysParamTzeroSubOne$Unc}{_{-0.0020}^{+0.0021}}$\n",
       "$\\newcommand{$\\sysParamRpSubZero$}{0.06564}$\n",
       "$\\newcommand{$\\sysParamRpSubZero$Unc}{\\pm 0.00064}$\n",
       "$\\newcommand{$\\sysParamRpSubOne$}{0.02178}$\n",
       "$\\newcommand{$\\sysParamRpSubOne$Unc}{_{-0.00096}^{+0.00089}}$\n",
       "$\\newcommand{$\\sysParamBSubZero$}{0.618}$\n",
       "$\\newcommand{$\\sysParamBSubZero$Unc}{_{-0.042}^{+0.037}}$\n",
       "$\\newcommand{$\\sysParamBSubOne$}{0.763}$\n",
       "$\\newcommand{$\\sysParamBSubOne$Unc}{_{-0.072}^{+0.033}}$\n",
       "$\\newcommand{$\\sysParamTdurSubZero$}{3.90}$\n",
       "$\\newcommand{$\\sysParamTdurSubZero$Unc}{\\pm 0.40}$\n",
       "$\\newcommand{$\\sysParamTdurSubOne$}{1.957}$\n",
       "$\\newcommand{$\\sysParamTdurSubOne$Unc}{_{-0.099}^{+0.208}}$\n",
       "$\\newcommand{$\\sysParamSqrtEccVecZeroSubZero$}{-0.213}$\n",
       "$\\newcommand{$\\sysParamSqrtEccVecZeroSubZero$Unc}{_{-0.046}^{+0.060}}$\n",
       "$\\newcommand{$\\sysParamSqrtEccVecZeroSubOne$}{-0.08}$\n",
       "$\\newcommand{$\\sysParamSqrtEccVecZeroSubOne$Unc}{_{-0.11}^{+0.13}}$\n",
       "$\\newcommand{$\\sysParamEccSubZero$}{0.064}$\n",
       "$\\newcommand{$\\sysParamEccSubZero$Unc}{_{-0.022}^{+0.023}}$\n",
       "$\\newcommand{$\\sysParamOmegaSubZero$}{-2.43}$\n",
       "$\\newcommand{$\\sysParamOmegaSubZero$Unc}{_{-0.46}^{+5.19}}$\n",
       "$\\newcommand{$\\sysParamRPlanetEarthSubZero$}{7.97}$\n",
       "$\\newcommand{$\\sysParamRPlanetEarthSubZero$Unc}{\\pm 0.12}$\n",
       "$\\newcommand{$\\sysParamRPlanetEarthSubOne$}{2.64}$\n",
       "$\\newcommand{$\\sysParamRPlanetEarthSubOne$Unc}{_{-0.12}^{+0.11}}$\n",
       "$\\newcommand{$\\sysParamMPlanetEarthSubZero$}{75.7}$\n",
       "$\\newcommand{$\\sysParamMPlanetEarthSubZero$Unc}{\\pm 3.8}$\n",
       "$\\newcommand{$\\sysParamMPlanetEarthSubOne$}{10.3}$\n",
       "$\\newcommand{$\\sysParamMPlanetEarthSubOne$Unc}{\\pm 2.2}$\n",
       "$\\newcommand{$\\sysParamMPlanetSubZero$}{(2.27}$\n",
       "$\\newcommand{$\\sysParamMPlanetSubZero$Unc}{_{-0.12}^{+0.11}) \\times 10^{-4}}$\n",
       "$\\newcommand{$\\sysParamMPlanetSubOne$}{(3.09}$\n",
       "$\\newcommand{$\\sysParamMPlanetSubOne$Unc}{_{-0.66}^{+0.67}) \\times 10^{-5}}$\n",
       "$\\newcommand{$\\sysParamRhoPlanetSubZero$}{0.822}$\n",
       "$\\newcommand{$\\sysParamRhoPlanetSubZero$Unc}{_{-0.056}^{+0.058}}$\n",
       "$\\newcommand{$\\sysParamRhoPlanetSubOne$}{3.06}$\n",
       "$\\newcommand{$\\sysParamRhoPlanetSubOne$Unc}{_{-0.72}^{+0.83}}$\n",
       "$\\newcommand{$\\sysParamKSubZero$}{23.8}$\n",
       "$\\newcommand{$\\sysParamKSubZero$Unc}{\\pm 1.1}$\n",
       "$\\newcommand{$\\sysParamKSubOne$}{4.63}$\n",
       "$\\newcommand{$\\sysParamKSubOne$Unc}{_{-0.99}^{+1.00}}$\n",
       "$\\newcommand{$\\sysParamASubZero$}{0.0875}$\n",
       "$\\newcommand{$\\sysParamASubZero$Unc}{_{-0.0014}^{+0.0016}}$\n",
       "$\\newcommand{$\\sysParamASubOne$}{0.04260}$\n",
       "$\\newcommand{$\\sysParamASubOne$Unc}{_{-0.00067}^{+0.00076}}$\n",
       "$\\newcommand{$\\sysParamInclSubZero$}{87.94}$\n",
       "$\\newcommand{$\\sysParamInclSubZero$Unc}{_{-0.11}^{+0.13}}$\n",
       "$\\newcommand{$\\sysParamInclSubOne$}{84.73}$\n",
       "$\\newcommand{$\\sysParamInclSubOne$Unc}{_{-0.33}^{+0.49}}$\n",
       "$\\newcommand{$\\sysParamAorSubZero$}{16.92}$\n",
       "$\\newcommand{$\\sysParamAorSubZero$Unc}{_{-0.33}^{+0.37}}$\n",
       "$\\newcommand{$\\sysParamAorSubOne$}{8.23}$\n",
       "$\\newcommand{$\\sysParamAorSubOne$Unc}{_{-0.16}^{+0.18}}$\n",
       "$\\newcommand{$\\sysParamMStarZero$}{1.074}$\n",
       "$\\newcommand{$\\sysParamMStarZero$Unc}{_{-0.050}^{+0.059}}$\n",
       "$\\newcommand{$\\sysParamFehZero$}{0.414}$\n",
       "$\\newcommand{$\\sysParamFehZero$Unc}{_{-0.041}^{+0.040}}$\n",
       "$\\newcommand{$\\sysParamEep$}{380}$\n",
       "$\\newcommand{$\\sysParamEep$Unc}{_{-36}^{+25}}$\n",
       "$\\newcommand{$\\sysParamMStar$}{1.074}$\n",
       "$\\newcommand{$\\sysParamMStar$Unc}{_{-0.050}^{+0.059}}$\n",
       "$\\newcommand{$\\sysParamRStar$}{1.113}$\n",
       "$\\newcommand{$\\sysParamRStar$Unc}{\\pm 0.011}$\n",
       "$\\newcommand{$\\sysParamRhoStar$}{1.099}$\n",
       "$\\newcommand{$\\sysParamRhoStar$Unc}{_{-0.063}^{+0.074}}$\n",
       "$\\newcommand{$\\sysParamLoggStar$}{4.376}$\n",
       "$\\newcommand{$\\sysParamLoggStar$Unc}{_{-0.023}^{+0.026}}$\n",
       "$\\newcommand{$\\sysParamTeff$}{5607}$\n",
       "$\\newcommand{$\\sysParamTeff$Unc}{_{-82}^{+86}}$\n",
       "$\\newcommand{$\\sysParamFeh$}{0.438}$\n",
       "$\\newcommand{$\\sysParamFeh$Unc}{_{-0.042}^{+0.041}}$\n",
       "$\\newcommand{$\\sysParamAge$}{5.1}$\n",
       "$\\newcommand{$\\sysParamAge$Unc}{\\pm 2.7}$\n",
       "$\\newcommand{$\\sysParamParallax$}{5.760}$\n",
       "$\\newcommand{$\\sysParamParallax$Unc}{\\pm 0.010}$\n",
       "$\\newcommand{$\\sysParamAv$}{0.156}$\n",
       "$\\newcommand{$\\sysParamAv$Unc}{_{-0.072}^{+0.074}}$\n",
       "$\\newcommand{$\\sysParamMagBol$}{4.634}$\n",
       "$\\newcommand{$\\sysParamMagBol$Unc}{_{-0.054}^{+0.052}}$\n",
       "$\\newcommand{$\\sysParamLStar$}{1.103}$\n",
       "$\\newcommand{$\\sysParamLStar$Unc}{_{-0.051}^{+0.056}}$\n",
       "$\\newcommand{$\\sysParamDistance$}{173.60}$\n",
       "$\\newcommand{$\\sysParamDistance$Unc}{\\pm 0.31}$\n",
       "$\\newcommand{$\\sysParamSedUncScale$}{1.30}$\n",
       "$\\newcommand{$\\sysParamSedUncScale$Unc}{_{-0.22}^{+0.41}}$\n",
       "$\\newcommand{$\\sysParamIrradiationSubZero$}{(1.961}$\n",
       "$\\newcommand{$\\sysParamIrradiationSubZero$Unc}{_{-0.094}^{+0.101}) \\times 10^{8}}$\n",
       "$\\newcommand{$\\sysParamIrradiationSubOne$}{(8.26}$\n",
       "$\\newcommand{$\\sysParamIrradiationSubOne$Unc}{_{-0.40}^{+0.43}) \\times 10^{8}}$\n",
       "$\\newcommand{$\\sysParamUTessSubZero$}{0.124}$\n",
       "$\\newcommand{$\\sysParamUTessSubZero$Unc}{_{-0.090}^{+0.163}}$\n",
       "$\\newcommand{$\\sysParamUTessSubOne$}{0.34}$\n",
       "$\\newcommand{$\\sysParamUTessSubOne$Unc}{_{-0.23}^{+0.16}}$\n",
       "$\\newcommand{$\\sysParamURcSubZero$}{0.88}$\n",
       "$\\newcommand{$\\sysParamURcSubZero$Unc}{_{-0.28}^{+0.21}}$\n",
       "$\\newcommand{$\\sysParamURcSubOne$}{-0.28}$\n",
       "$\\newcommand{$\\sysParamURcSubOne$Unc}{_{-0.20}^{+0.33}}$\n",
       "$\\newcommand{$\\sysParamUZsSubZero$}{0.42}$\n",
       "$\\newcommand{$\\sysParamUZsSubZero$Unc}{_{-0.28}^{+0.34}}$\n",
       "$\\newcommand{$\\sysParamUZsSubOne$}{0.01}$\n",
       "$\\newcommand{$\\sysParamUZsSubOne$Unc}{_{-0.27}^{+0.32}}$\n",
       "$\\newcommand{$\\sysParamMeanFluxZero$}{(-1.3}$\n",
       "$\\newcommand{$\\sysParamMeanFluxZero$Unc}{\\pm 1.2) \\times 10^{-5}}$\n",
       "$\\newcommand{$\\sysParamMeanFluxOne$}{(1.5}$\n",
       "$\\newcommand{$\\sysParamMeanFluxOne$Unc}{\\pm 1.2) \\times 10^{-5}}$\n",
       "$\\newcommand{$\\sysParamLcJitterSubZero$}{(9.2}$\n",
       "$\\newcommand{$\\sysParamLcJitterSubZero$Unc}{_{-4.2}^{+3.1}) \\times 10^{-5}}$\n",
       "$\\newcommand{$\\sysParamLcJitterSubOne$}{(2.08}$\n",
       "$\\newcommand{$\\sysParamLcJitterSubOne$Unc}{_{-1.15}^{+0.86}) \\times 10^{-4}}$\n",
       "$\\newcommand{$\\sysParamLcJitterSubTwo$}{(1.26}$\n",
       "$\\newcommand{$\\sysParamLcJitterSubTwo$Unc}{_{-0.88}^{+1.24}) \\times 10^{-4}}$\n",
       "$\\newcommand{$\\sysParamLcJitterSubThree$}{0.00124}$\n",
       "$\\newcommand{$\\sysParamLcJitterSubThree$Unc}{\\pm 0.00014}$\n",
       "$\\newcommand{$\\sysParamRvGammaSubZero$}{6648.3}$\n",
       "$\\newcommand{$\\sysParamRvGammaSubZero$Unc}{_{-13.1}^{+9.5}}$\n",
       "$\\newcommand{$\\sysParamRvGammaSubOne$}{8114}$\n",
       "$\\newcommand{$\\sysParamRvGammaSubOne$Unc}{_{-14}^{+11}}$\n",
       "$\\newcommand{$\\sysParamRvGammaSubTwo$}{8118.5}$\n",
       "$\\newcommand{$\\sysParamRvGammaSubTwo$Unc}{_{-12.7}^{+8.9}}$\n",
       "$\\newcommand{$\\sysParamRvJitterSubZero$}{3.2}$\n",
       "$\\newcommand{$\\sysParamRvJitterSubZero$Unc}{_{-2.2}^{+3.1}}$\n",
       "$\\newcommand{$\\sysParamRvJitterSubOne$}{14.1}$\n",
       "$\\newcommand{$\\sysParamRvJitterSubOne$Unc}{_{-3.4}^{+4.4}}$\n",
       "$\\newcommand{$\\sysParamRvJitterSubTwo$}{3.16}$\n",
       "$\\newcommand{$\\sysParamRvJitterSubTwo$Unc}{_{-0.78}^{+0.83}}$\n",
       "$\\newcommand{$\\sysParamGpSigma$}{22.0}$\n",
       "$\\newcommand{$\\sysParamGpSigma$Unc}{_{-7.9}^{+14.6}}$\n",
       "$\\newcommand{$\\sysParamGpRho$}{118}$\n",
       "$\\newcommand{$\\sysParamGpRho$Unc}{_{-40}^{+54}}$\n",
       "$\\newcommand{$\\sysParamGpTau$}{33}$\n",
       "$\\newcommand{$\\sysParamGpTau$Unc}{_{-28}^{+94}}$\n",
       "$\\newcommand{$\\sysParamRPlanetJupiterSubZero$}{0.711}$\n",
       "$\\newcommand{$\\sysParamRPlanetJupiterSubZero$Unc}{\\pm 0.011}$\n",
       "$\\newcommand{$\\sysParamRPlanetJupiterSubOne$}{0.236}$\n",
       "$\\newcommand{$\\sysParamRPlanetJupiterSubOne$Unc}{_{-0.011}^{+0.010}}$\n",
       "$\\newcommand{$\\sysParamMPlanetJupiterSubZero$}{0.238}$\n",
       "$\\newcommand{$\\sysParamMPlanetJupiterSubZero$Unc}{\\pm 0.012}$\n",
       "$\\newcommand{$\\sysParamMPlanetJupiterSubOne$}{0.0324}$\n",
       "$\\newcommand{$\\sysParamMPlanetJupiterSubOne$Unc}{\\pm 0.0070}$\n",
       "$\\newcommand{$\\sysParamTempEqSubZero$}{1029}$\n",
       "$\\newcommand{$\\sysParamTempEqSubZero$Unc}{_{-111}^{+84}}$\n",
       "$\\newcommand{$\\sysParamTempEqSubOne$}{1475}$\n",
       "$\\newcommand{$\\sysParamTempEqSubOne$Unc}{_{-158}^{+120}}$\n",
       "$\\newcommand{$\\sysParamOmegaFoldSubZero$}{200}$\n",
       "$\\newcommand{$\\sysParamOmegaFoldSubZero$Unc}{_{-34}^{+27}}$\n",
       "$\\newcommand{$\\arraystretch$}{1.25}$\n",
       "$\\newcommand{$\\arraystretch$}{1.25}$\n",
       "$\\newcommand{$\\arraystretch$}{1.25}$\n",
       "$\\newcommand{$\\arraystretch$}{1.25}$\n",
       "$\\newcommand{$\\arraystretch$}{1.05}$</div>\n",
       "\n",
       "\n",
       "\n",
       "<div id=\"title\">\n",
       "\n",
       "#  spots a mini-neptune interior to a hot saturn in the TOI-2000 system\n",
       "\n",
       "</div>\n",
       "<div id=\"comments\">\n",
       "\n",
       "[![arXiv](https://img.shields.io/badge/arXiv-2209.14396-b31b1b.svg)](https://arxiv.org/abs/2209.14396)<mark>Appeared on: 2022-09-30</mark> - _20 pages, 7 figures, 13 tables; submitted to MNRAS; CSV tables available as ancillary files; posterior samples available from Zenodo at this https URL_\n",
       "\n",
       "</div>\n",
       "<div id=\"authors\">\n",
       "\n",
       "<mark><mark>Lizhou Sha</mark></mark>, et al. -- incl., <mark><mark>Melissa J. Hobson</mark></mark>, <mark><mark>Carl Ziegler</mark></mark>, <mark><mark>Pascal Torres-Miranda</mark></mark>, <mark><mark>Trifon Trifonov</mark></mark>, <mark><mark>Colin Littlefield</mark></mark>, <mark><mark>Jan Eberhardt</mark></mark>, <mark><mark>Richard P. Schwarz</mark></mark>, <mark><mark>Thomas Henning</mark></mark>, <mark><mark>Jack J. Lissauer</mark></mark>\n",
       "\n",
       "</div>\n",
       "<div id=\"abstract\">\n",
       "\n",
       "**Abstract:** Hot jupiters ($P < 10 \\text{d}, M > 60  \\mathrm{M}_\\oplus$)are almost always found alone around their stars,but four out of hundreds known have inner companion planets.These rare companions allow us to constrain the hot jupiter's formation historyby ruling out high-eccentricity tidal migration.Less is known about inner companions to hot Saturn-mass planets.We report here the discovery of the TOI-2000 system, which features a hot Saturn-mass planet with a smaller innercompanion.The mini-neptune TOI-2000\\thinspaceb($\\sysParamRPlanetEarthSubOne$$\\sysParamRPlanetEarthSubOne$Unc$  \\mathrm{R}_\\oplus$,$\\sysParamMPlanetEarthSubOne$$\\sysParamMPlanetEarthSubOne$Unc$  \\mathrm{M}_\\oplus$)is in a3.10-day orbit,and the hot saturn TOI-2000\\thinspacec($\\sysParamRPlanetEarthSubZero$$\\sysParamRPlanetEarthSubZero$Unc$  \\mathrm{R}_\\oplus$,$\\sysParamMPlanetEarthSubZero$$\\sysParamMPlanetEarthSubZero$Unc$  \\mathrm{M}_\\oplus$)is in a9.13-day orbit.Both planets transit their host star TOI-2000(TIC\\thinspace371188886,$V = 10.98$,\\textit{TESS}magnitude$= 10.36$),a metal-rich ($[\\text{Fe}/\\text{H}] =$\\sysParamFeh$\\sysParamFeh$Unc)G dwarf174\\thinspacepc away.\\emph{TESS}observed the two planets in sectors 9–11 and 36–38,and we followed up with ground-based photometry, spectroscopy, and speckle imaging.Radial velocities from HARPS allowed us to confirm both planets by direct mass measurement.In addition, we demonstrate constrainingplanetary and stellar parameterswith MIST stellar evolutionary tracksthrough Hamiltonian Monte Carlo under the PyMC framework,achieving higher sampling efficiency and shorter run timecompared to traditional Markov chain Monte Carlo.Having the brightest host star in the$V$band among similar systems,TOI-2000\\thinspaceb and c are superb candidates for atmospheric characterization by the\\emph{JWST},which can potentially distinguish whether they formed together orTOI-2000\\thinspacec swept along material during migration to form TOI-2000\\thinspaceb.\n",
       "\n",
       "</div>\n",
       "\n",
       "<div id=\"div_fig1\">\n",
       "\n",
       "<img src=\"tmp_2209.14396/./figures/family_portrait.png\" alt=\"Fig4\" width=\"100%\"/>\n",
       "\n",
       "**Figure 4. -** Transiting planetary systems hosting small planets orbiting interior to giant planets ($P < 100 \\text{d}$).\n",
       "    Non-transiting planets in these systems are omitted.\n",
       "    The leftmost circle in each row represent the host star,\n",
       "    with the mark's linear size proportional to the stellar radius\n",
       "    and fill colour indicating the effective temperature\n",
       "    \\citep[from TIC\\thinspace 8.1;][]{tess_tic8}.\n",
       "    The solid circles represent the transiting planets in the system,\n",
       "    with their linear sizes proportional to planetary radii\n",
       "    and fill colours indicating whether the planet is a\n",
       "    giant planet (orange, $P < 10 \\text{d}$; blue, $P \\geq 10 \\text{d}$)\n",
       "    or a small planet (grey, $R < \\SI{6}{\\radius\\earth}$).\n",
       "    The relative mark sizes among either the stars or the planets are to scale,\n",
       "    but not between a star and its planets.\n",
       "    The slightly translucent marks are planet candidates,\n",
       "    and systems that contain them are marked with an asterisk.\n",
       "    The systems are sorted in ascending order of the period of the largest planet from top to bottom.\n",
       "    \\autoref{tab:giant_multi} contains the numbers and references underlying this figure.\n",
       "     (*fig:family*)\n",
       "\n",
       "</div>\n",
       "<div id=\"div_fig2\">\n",
       "\n",
       "<img src=\"tmp_2209.14396/./figures/toi_2000_lc.png\" alt=\"Fig5\" width=\"100%\"/>\n",
       "\n",
       "**Figure 5. -** Light curves of $\\toitwothousand$ .\n",
       "    Top two panels: Detrended light curves from $\\tess$  years 1 and 3.\n",
       "    Year 1 points are from the 30-min full-frame images,\n",
       "    whilst year 3 points are binned to 2 min from the 20-s time series,\n",
       "    which results in higher scatter per cadence but lower scatter at 30 min.\n",
       "    The upright triangles indicate transits of planet b (blue) and planet c (orange).\n",
       "    Bottom panels:\n",
       "    Phase-folded light curves zoomed in on the transits of planets b (third row)\n",
       "    and c (last row).\n",
       "    The purple line is the transit model using limb darkening parameters in the $\\tess$  band.\n",
       "    The faint grey marks are $\\tess$  observations from both years,\n",
       "    with year 3 observations binned to 30 min to be consistent with those from year 1.\n",
       "    The orange marks are means within 12-min bins,\n",
       "    with the error bars representing the standard error of the mean.\n",
       "    The bottom right panel includes planet c full-transit light curves from ground observations,\n",
       "    and the model shown uses a different set of limb darkening parameters in $\\filterR$c .\n",
       "    Because the ground observations have different uncertainties,\n",
       "    the binned mean is weighted by inverse variance\n",
       "    and the error bar is the standard error of the weighted mean.\n",
       "     (*fig:lc*)\n",
       "\n",
       "</div>\n",
       "<div id=\"div_fig3\">\n",
       "\n",
       "<img src=\"tmp_2209.14396/./figures/toi_2000_mass_radius.png\" alt=\"Fig7\" width=\"100%\"/>\n",
       "\n",
       "**Figure 7. -** Mass--radius relationship of small exoplanets ($< \\SI{4}{\\radius\\earth}$).\n",
       "    Only planets with mass determination better than 33\\% have been included.\n",
       "    The values used are the \\enquote{default parameter set} of the Planetary Systems Table\n",
       "    from the NASA Exoplanet Archive \\citep[][accessed on 2022 August 19]{nasa_exoplanet_archive,nasa_exoplanet_archive_ps}.\n",
       "    The mini-Neptune $\\planet$inner ,\n",
       "    together with four small planets\n",
       "    $\\planet${$\\waspfortyseven$}{d} and e \\citep{2022AJ....163..197B},\n",
       "    $\\toieleventhirty$inner(Korth et al., submitted),\n",
       "    $\\planet${Kepler-30}{b}\\citep{2012Natur.487..449S},\n",
       "    and $\\planet${KOI-94}{b}\\citep[also known as Kepler-89;][]{2013ApJ...768...14W},\n",
       "    which are also found in systems with giant planets,\n",
       "    are highlighted, with error bars representing quoted uncertainties.\n",
       "    The single letters denote the Solar System planets Venus, Earth, Uranus, and Neptune.\n",
       "    Three theoretical mass--radius curves by\n",
       "    \\citet[available online at \\url{https://lweb.cfa.harvard.edu/ lzeng/planetmodels.html}]{2019PNAS..116.9723Z}\n",
       "    are plotted for reference:\n",
       "    solid brown for an Earth-like rocky core (32.5\\% Fe and 67.5\\%$\\text{MgSiO}_3$),\n",
       "    dotted-dash blue for an 100\\% water world at \\SI{1000}{\\kelvin},\n",
       "    and dotted teal for a planet with 1\\% hydrogen envelope and 99\\% Earth-like rocky core at \\SI{1000}{\\kelvin}.\n",
       "     (*fig:massradius*)\n",
       "\n",
       "</div>"
      ],
      "text/plain": [
       "<IPython.core.display.Markdown object>"
      ]
     },
     "metadata": {},
     "output_type": "display_data"
    },
    {
     "data": {
      "text/markdown": [
       "<div class=\"macros\" style=\"visibility:hidden;\">\n",
       "$\\newcommand{\\ensuremath}{}$\n",
       "$\\newcommand{\\xspace}{}$\n",
       "$\\newcommand{\\object}[1]{\\texttt{#1}}$\n",
       "$\\newcommand{\\farcs}{{.}''}$\n",
       "$\\newcommand{\\farcm}{{.}'}$\n",
       "$\\newcommand{\\arcsec}{''}$\n",
       "$\\newcommand{\\arcmin}{'}$\n",
       "$\\newcommand{\\ion}[2]{#1#2}$\n",
       "$\\newcommand{\\textsc}[1]{\\textrm{#1}}$\n",
       "$\\newcommand{\\hl}[1]{\\textrm{#1}}$\n",
       "$\\newcommand{\\mbh}{{\\mbox{M_\\mathrm{BH}}}}$\n",
       "$\\newcommand{\\hii}{\\mbox{H{\\sevenrm II}}}$\n",
       "$\\newcommand{\\ha}{{\\mbox{H\\alpha}}}$\n",
       "$\\newcommand{\\hb}{{\\mbox{H\\beta}}}$\n",
       "$\\newcommand{\\brg}{{\\mbox{Br\\gamma}}}$\n",
       "$\\newcommand{\\paa}{{\\mbox{Pa\\alpha}}}$\n",
       "$\\newcommand{\\civ}{[C{\\sevenrm IV}]}$\n",
       "$\\newcommand{\\heiia}{He{\\sevenrm II} \\lambda4686}$\n",
       "$\\newcommand{\\heii}{He{\\sevenrm II}}$\n",
       "$\\newcommand{\\hei}{He{\\sevenrm I}}$\n",
       "$\\newcommand{\\feii}{Fe{\\sevenrm II}}$\n",
       "$\\newcommand{\\OIIIa}{[O{\\sevenrm III}] \\lambda4959}$\n",
       "$\\newcommand{\\OIIIb}{[O{\\sevenrm III}] \\lambda5007}$\n",
       "$\\newcommand{\\OIIIc}{[O{\\sevenrm III}] \\lambda\\lambda4959,5007}$\n",
       "$\\newcommand{\\OIII}{[O{\\sevenrm III}]}$\n",
       "$\\newcommand{\\NI}{[N{\\sevenrm I}]}$\n",
       "$\\newcommand{\\uas}{\\mbox{\\muas}}$\n",
       "$\\newcommand{\\lopt}{\\mbox{\\lambda L_\\lambda (5100 \\AA)}}$\n",
       "$\\newcommand{\\Rd}{\\mbox{R_\\mathrm{d}}}$\n",
       "$\\newcommand{\\Rb}{\\mbox{R_\\mathrm{BLR}}}$\n",
       "$\\newcommand{\\rEdd}{\\mbox{\\lambda_\\mathrm{Edd}}}$\n",
       "$\\newcommand{\\rl}{\\mbox{R--L}}$\n",
       "$\\newcommand{\\nodata}{{...}}$\n",
       "$\\newcommand{\\mcl}{\\multicolumn}$\n",
       "$\\newcommand{\\um}{{\\mbox{\\mum}}}$\n",
       "$\\newcommand{\\kms}{{\\mbox{\\mathrm{km s^{-1}}}}}$\n",
       "$\\newcommand{\\ergs}{{\\mbox{\\mathrm{erg s^{-1}}}}}$\n",
       "$\\newcommand{\\msun}{{\\mbox{M_\\odot}}}$\n",
       "$\\newcommand{\\uhc}{{\\mbox{\\mathrm{km s^{-1}~Mpc^{-1}}}}}$\n",
       "$\\newcommand{\\degree}{{\\mbox{^\\circ}}}$\n",
       "$\\newcommand{\\hi}{H{\\sevenrm I}}$\n",
       "$\\newcommand{\\arraystretch}{1.2}$\n",
       "$\\newcommand{\\arraystretch}{1.5}$\n",
       "$\\newcommand{\\arraystretch}{1.2}$</div>\n",
       "\n",
       "<div class=\"macros\" style=\"visibility:hidden;\">\n",
       "$\\newcommand{$\\ensuremath$}{}$\n",
       "$\\newcommand{$\\xspace$}{}$\n",
       "$\\newcommand{$\\object$}[1]{\\texttt{#1}}$\n",
       "$\\newcommand{$\\farcs$}{{.}''}$\n",
       "$\\newcommand{$\\farcm$}{{.}'}$\n",
       "$\\newcommand{$\\arcsec$}{''}$\n",
       "$\\newcommand{$\\arcmin$}{'}$\n",
       "$\\newcommand{$\\ion$}[2]{#1#2}$\n",
       "$\\newcommand{$\\textsc$}[1]{\\textrm{#1}}$\n",
       "$\\newcommand{$\\hl$}[1]{\\textrm{#1}}$\n",
       "$\\newcommand{$\\mbh$}{{\\mbox{M_\\mathrm{BH}}}}$\n",
       "$\\newcommand{$\\hii$}{\\mbox{H{\\sevenrm II}}}$\n",
       "$\\newcommand{$\\ha$}{{\\mbox{H\\alpha}}}$\n",
       "$\\newcommand{$\\hb$}{{\\mbox{H\\beta}}}$\n",
       "$\\newcommand{$\\brg$}{{\\mbox{Br\\gamma}}}$\n",
       "$\\newcommand{$\\paa$}{{\\mbox{Pa\\alpha}}}$\n",
       "$\\newcommand{$\\civ$}{[C{\\sevenrm IV}]}$\n",
       "$\\newcommand{$\\heiia$}{He{\\sevenrm II} \\lambda4686}$\n",
       "$\\newcommand{$\\heii$}{He{\\sevenrm II}}$\n",
       "$\\newcommand{$\\hei$}{He{\\sevenrm I}}$\n",
       "$\\newcommand{$\\feii$}{Fe{\\sevenrm II}}$\n",
       "$\\newcommand{$\\OIIIa$}{[O{\\sevenrm III}] \\lambda4959}$\n",
       "$\\newcommand{$\\OIIIb$}{[O{\\sevenrm III}] \\lambda5007}$\n",
       "$\\newcommand{$\\OIIIc$}{[O{\\sevenrm III}] \\lambda\\lambda4959,5007}$\n",
       "$\\newcommand{$\\OIII$}{[O{\\sevenrm III}]}$\n",
       "$\\newcommand{$\\NI$}{[N{\\sevenrm I}]}$\n",
       "$\\newcommand{$\\uas$}{\\mbox{\\muas}}$\n",
       "$\\newcommand{$\\lopt$}{\\mbox{\\lambda L_\\lambda (5100 \\AA)}}$\n",
       "$\\newcommand{$\\Rd$}{\\mbox{R_\\mathrm{d}}}$\n",
       "$\\newcommand{$\\Rb$}{\\mbox{R_\\mathrm{BLR}}}$\n",
       "$\\newcommand{$\\rEdd$}{\\mbox{\\lambda_\\mathrm{Edd}}}$\n",
       "$\\newcommand{$\\rl$}{\\mbox{R--L}}$\n",
       "$\\newcommand{$\\nodata$}{{...}}$\n",
       "$\\newcommand{$\\mcl$}{\\multicolumn}$\n",
       "$\\newcommand{$\\um$}{{\\mbox{\\mum}}}$\n",
       "$\\newcommand{$\\kms$}{{\\mbox{\\mathrm{km s^{-1}}}}}$\n",
       "$\\newcommand{$\\ergs$}{{\\mbox{\\mathrm{erg s^{-1}}}}}$\n",
       "$\\newcommand{$\\msun$}{{\\mbox{M_\\odot}}}$\n",
       "$\\newcommand{$\\uhc$}{{\\mbox{\\mathrm{km s^{-1}~Mpc^{-1}}}}}$\n",
       "$\\newcommand{$\\degree$}{{\\mbox{^\\circ}}}$\n",
       "$\\newcommand{$\\hi$}{H{\\sevenrm I}}$\n",
       "$\\newcommand{$\\arraystretch$}{1.2}$\n",
       "$\\newcommand{$\\arraystretch$}{1.5}$\n",
       "$\\newcommand{$\\arraystretch$}{1.2}$</div>\n",
       "\n",
       "\n",
       "\n",
       "<div id=\"title\">\n",
       "\n",
       "# Towards measuring supermassive black hole masses with interferometric observations of the dust continuum\n",
       "\n",
       "</div>\n",
       "<div id=\"comments\">\n",
       "\n",
       "[![arXiv](https://img.shields.io/badge/arXiv-2209.14410-b31b1b.svg)](https://arxiv.org/abs/2209.14410)<mark>Appeared on: 2022-09-30</mark> - _Accepted for publication in A&A; 11 pages, 5 figures, 3 tables_\n",
       "\n",
       "</div>\n",
       "<div id=\"authors\">\n",
       "\n",
       "GRAVITY Collaboration, et al. -- incl., <mark><mark>R. Davies</mark></mark>, <mark><mark>N. M. Förster Schreiber</mark></mark>\n",
       "\n",
       "</div>\n",
       "<div id=\"abstract\">\n",
       "\n",
       "**Abstract:** This work focuses on active galactic nuclei (AGNs), and the relationbetween the sizes of the hot dust continuum and the broad-line region (BLR).We find that the continuum size measured using optical/near-infraredinterferometry (OI) is roughly twice that measured by reverberation mapping (RM).Both OI and RM continuum sizes show a tight relation with the$\\hb$BLRsize with only an intrinsic scatter of 0.25 dex.  The massesof supermassive black holes (BHs) can hence be simply derived from a dust sizein combination with a broad line width and virial factor. Since the primaryuncertainty of these BH masses comes from the virial factor, the accuracy ofthe continuum-based BH masses is close to those based on the RM measurement ofthe broad emission line.Moreover, the necessary continuum measurements can be obtained on a much shortertimescale than those required monitoring for RM, and are also more time efficientthan those needed to resolve the BLR with OI.  The primary goal of thiswork is to demonstrate measuring the BH mass based on the dust continuum sizewith our first calibration of the$\\Rb$--$\\Rd$relation.  The current limitationand caveats are discussed in detail.  Future GRAVITY observations are expectedto improve the continuum-based method and have the potential to measure BHmasses for a large sample of AGNs in the low-redshift Universe.\n",
       "\n",
       "</div>\n",
       "\n",
       "<div id=\"div_fig1\">\n",
       "\n",
       "<img src=\"tmp_2209.14410/./fig2.png\" alt=\"Fig3\" width=\"100%\"/>\n",
       "\n",
       "**Figure 3. -** Tight relations between the radii of the BLR and the dust continuum.\n",
       "The blue circles are AGNs measured by RM, and the red diamonds are the targets\n",
       "measured by OI.  The gray dashed lines connect the same sources with\n",
       "both RM and OI measured $\\Rd$.  The best-fit $\\Rb$--$\\Rd$ relations of RM and OI\n",
       "datasets (formula in the lower right corner of each panel) are shown as the blue\n",
       "and red lines, respectively.  The black circles enclose the known changing-look\n",
       "AGNs.  We only exclude Mrk 590, denoted as the empty blue circle, in our\n",
       "analysis.  The best-fit results with the slope free (a) or fixed to unity (b)\n",
       "are almost the same, so we mainly adopt the results of (b) in the discussion.\n",
       "The linear scale is indicated on the top and right axes. (*fig:sc*)\n",
       "\n",
       "</div>\n",
       "<div id=\"div_fig2\">\n",
       "\n",
       "<img src=\"tmp_2209.14410/./fig1.png\" alt=\"Fig2\" width=\"100%\"/>\n",
       "\n",
       "**Figure 2. -** Size--luminosity relations of the dust continuum measured by\n",
       "(a) RM (blue circles) and (b) OI (red diamonds) are systematically above\n",
       "that of the BLR (black circles; same in both panels).\n",
       "The open-colored circles indicate sources without BLR measurements.\n",
       "The dashed lines in both panels are based on RM-measured $\\rl$ relations of the dust continuum \\citep[blue;][]{GC2020cont} and\n",
       "the BLR \\citep[black;][]{Bentz2013}.  The typical uncertainties are shown on\n",
       "the lower right of each panel. (*fig:sample*)\n",
       "\n",
       "</div>\n",
       "<div id=\"div_fig3\">\n",
       "\n",
       "<img src=\"tmp_2209.14410/./fig3.png\" alt=\"Fig4\" width=\"100%\"/>\n",
       "\n",
       "**Figure 4. -** Ratio of BLR and dust continuum sizes as a function of (a) the AGN\n",
       "luminosity and (b) the Eddington ratio.  The $p$-values of Spearman's rank\n",
       "correlation coefficient are reported in the lower right corner of each panel for\n",
       "RM- and OI-measured samples.  The notations are the same as in\n",
       "Figure \\ref{fig:sc}.  The error bars are the quadrature sum of the uncertainties\n",
       "of $\\Rb$ and $\\Rd$.  Panel (c) displays the histograms of the ratios.  The dashed\n",
       "lines indicate the averaged $\\Rb/$\\Rd$$ based on the fitting of the $\\Rb$--$\\Rd$ relations with $\\beta$ fixed to unity (see also Equation (\\ref{eq:rst})).\n",
       "$\\Rb/$\\Rd$$ does not show a statistically significant correlation with the $\\lopt$ nor the Eddington ratio.  The linear scale of $\\Rb/$\\Rd$$ is indicated on\n",
       "the right. (*fig:rat*)\n",
       "\n",
       "</div>"
      ],
      "text/plain": [
       "<IPython.core.display.Markdown object>"
      ]
     },
     "metadata": {},
     "output_type": "display_data"
    }
   ],
   "source": [
    "[display(Markdown(k[1])) for k in documents];"
   ]
  },
  {
   "cell_type": "markdown",
   "id": "873873a4",
   "metadata": {
    "papermill": {
     "duration": 0.012283,
     "end_time": "2022-09-30T05:18:55.978219",
     "exception": false,
     "start_time": "2022-09-30T05:18:55.965936",
     "status": "completed"
    },
    "tags": []
   },
   "source": [
    "# Create HTML index"
   ]
  },
  {
   "cell_type": "code",
   "execution_count": 10,
   "id": "cf665672",
   "metadata": {
    "execution": {
     "iopub.execute_input": "2022-09-30T05:18:56.006805Z",
     "iopub.status.busy": "2022-09-30T05:18:56.005904Z",
     "iopub.status.idle": "2022-09-30T05:18:56.017560Z",
     "shell.execute_reply": "2022-09-30T05:18:56.016610Z"
    },
    "papermill": {
     "duration": 0.027799,
     "end_time": "2022-09-30T05:18:56.019570",
     "exception": false,
     "start_time": "2022-09-30T05:18:55.991771",
     "status": "completed"
    },
    "tags": []
   },
   "outputs": [
    {
     "name": "stdout",
     "output_type": "stream",
     "text": [
      "50  publications in the last 7 days.\n",
      "\t _build/html/2209.14410.md\n",
      "\t _build/html/2209.14396.md\n",
      "\t _build/html/2209.13717.md\n",
      "\t _build/html/2209.13336.md\n",
      "\t _build/html/2209.12906.md\n",
      "\t _build/html/2209.11781.md\n",
      "\t _build/html/2209.11602.md\n",
      "\t _build/html/2209.11248.md\n",
      "\t _build/html/2209.11096.md\n",
      "\t _build/html/2209.10618.md\n",
      "\t _build/html/2209.09914.md\n",
      "\t _build/html/2209.09823.md\n",
      "\t _build/html/2209.08242.md\n",
      "\t _build/html/2209.08120.md\n",
      "\t _build/html/2209.08106.md\n",
      "\t _build/html/2209.07962.md\n",
      "\t _build/html/2209.07931.md\n",
      "\t _build/html/2209.06833.md\n",
      "\t _build/html/2209.05814.md\n",
      "\t _build/html/2209.05593.md\n",
      "\t _build/html/2209.04304.md\n",
      "\t _build/html/2209.03367.md\n",
      "\t _build/html/2209.02872.md\n",
      "\t _build/html/2209.02725.md\n",
      "\t _build/html/2209.02722.md\n",
      "\t _build/html/2209.02092.md\n",
      "\t _build/html/2209.01125.md\n",
      "\t _build/html/2209.00828.md\n",
      "\t _build/html/2209.00363.md\n",
      "\t _build/html/2208.14927.md\n",
      "\t _build/html/2208.09335.md\n",
      "\t _build/html/2208.08872.md\n",
      "\t _build/html/2204.06393.md\n",
      "\t _build/html/2204.03335.md\n",
      "\t _build/html/2204.03253.md\n",
      "\t _build/html/2204.02998.md\n",
      "\t _build/html/2204.02109.md\n",
      "\t _build/html/2204.02017.md\n",
      "\t _build/html/2204.01824.md\n",
      "\t _build/html/2204.01758.md\n",
      "\t _build/html/2204.01245.md\n",
      "\t _build/html/2204.00793.md\n",
      "\t _build/html/2204.00342.md\n",
      "\t _build/html/2203.16959.md\n",
      "\t _build/html/2203.16856.md\n",
      "\t _build/html/2203.16735.md\n",
      "\t _build/html/2203.16734.md\n",
      "\t _build/html/2203.16504.md\n",
      "\t _build/html/2203.15822.md\n",
      "\t _build/html/2203.15811.md\n"
     ]
    }
   ],
   "source": [
    "from datetime import datetime, timedelta, timezone\n",
    "from glob import glob\n",
    "\n",
    "files = glob('_build/html/*.md')\n",
    "days = 7\n",
    "now = datetime.today()\n",
    "res = []\n",
    "for fk in files:\n",
    "    stat_result = os.stat(fk).st_ctime\n",
    "    modified = datetime.fromtimestamp(stat_result, tz=timezone.utc).replace(tzinfo=None)\n",
    "    delta = now.today() - modified\n",
    "    if delta <= timedelta(days=days):\n",
    "        res.append((delta.seconds, fk))\n",
    "res = [k[1] for k in reversed(sorted(res, key=lambda x:x[1]))]\n",
    "npub = len(res)\n",
    "print(len(res), f\" publications in the last {days:d} days.\")\n",
    "[ print('\\t', k) for k in res ];"
   ]
  },
  {
   "cell_type": "code",
   "execution_count": 11,
   "id": "52ca0208",
   "metadata": {
    "execution": {
     "iopub.execute_input": "2022-09-30T05:18:56.047450Z",
     "iopub.status.busy": "2022-09-30T05:18:56.046073Z",
     "iopub.status.idle": "2022-09-30T05:18:56.054919Z",
     "shell.execute_reply": "2022-09-30T05:18:56.054067Z"
    },
    "papermill": {
     "duration": 0.025517,
     "end_time": "2022-09-30T05:18:56.057159",
     "exception": false,
     "start_time": "2022-09-30T05:18:56.031642",
     "status": "completed"
    },
    "scrolled": false,
    "tags": []
   },
   "outputs": [],
   "source": [
    "def create_carousel(npub=4):\n",
    "    \"\"\" Generate the HTML code for a carousel with `npub` slides \"\"\"\n",
    "    carousel = [\"\"\"<section class=\"carousel\" aria-label=\"Gallery\">\"\"\",\n",
    "                \"\"\"  <ol class=\"carousel__viewport\">\"\"\",\n",
    "    ]\n",
    "    for k in range(1, npub + 1):\n",
    "        prev_ = k - 1\n",
    "        next_ = k + 1\n",
    "        if prev_ <= 0:\n",
    "            prev_ = npub\n",
    "        if next_ > npub:\n",
    "            next_ = 1\n",
    "        text  = f\"\"\"    <li id=\"carousel__slide{k}\" tabindex=\"0\" class=\"carousel__slide\">\\n\"\"\"\n",
    "        text += f\"\"\"       <div class=\"carousel__snapper\">\\n\"\"\"\n",
    "        text += f\"\"\"         <a href=\"#carousel__slide{prev_}\" class=\"carousel__prev\">Go to previous slide</a>\\n\"\"\"\n",
    "        text += f\"\"\"         <a href=\"#carousel__slide{next_}\" class=\"carousel__next\">Go to next slide</a>\\n\"\"\"\n",
    "        text += f\"\"\"         <div id=\"slide{k}_content\" class=\"md_view\" >Content {k}</div>\\n\"\"\"\n",
    "        text += f\"\"\"       </div>\\n\"\"\"\n",
    "        text += f\"\"\"    </li>\"\"\"\n",
    "        carousel.append(text)\n",
    "\n",
    "    carousel.extend([\n",
    "        \"\"\"  </ol>\"\"\",\n",
    "        \"\"\"  <aside class=\"carousel__navigation\">\"\"\",\n",
    "        \"\"\"    <ol class=\"carousel__navigation-list\">\"\"\"])\n",
    "\n",
    "    for k in range(1, npub + 1):\n",
    "        text  = f\"\"\"      <li class=\"carousel__navigation-item\">\\n\"\"\"\n",
    "        text += f\"\"\"        <a href=\"#carousel__slide{k}\" class=\"carousel__navigation-button\">Go to {k}</a>\\n\"\"\"\n",
    "        text += f\"\"\"      </li>\"\"\"\n",
    "        carousel.append(text)\n",
    "    carousel.extend([\"\"\"    </ol>\"\"\", \"\"\"  </aside>\"\"\", \"\"\"</section>\"\"\"])\n",
    "\n",
    "    return '\\n'.join(carousel)"
   ]
  },
  {
   "cell_type": "code",
   "execution_count": 12,
   "id": "a6eac5b6",
   "metadata": {
    "execution": {
     "iopub.execute_input": "2022-09-30T05:18:56.087308Z",
     "iopub.status.busy": "2022-09-30T05:18:56.086698Z",
     "iopub.status.idle": "2022-09-30T05:18:56.095174Z",
     "shell.execute_reply": "2022-09-30T05:18:56.094241Z"
    },
    "papermill": {
     "duration": 0.026396,
     "end_time": "2022-09-30T05:18:56.097303",
     "exception": false,
     "start_time": "2022-09-30T05:18:56.070907",
     "status": "completed"
    },
    "scrolled": false,
    "tags": []
   },
   "outputs": [],
   "source": [
    "carousel = create_carousel(npub)\n",
    "docs = ', '.join(['\"{0:s}\"'.format(k.split('/')[-1]) for k in res])\n",
    "slides = ', '.join([f'\"slide{k}_content\"' for k in range(1, npub + 1)])\n",
    "\n",
    "script = f\"\"\"\n",
    "const docs = [{docs}]\n",
    "\n",
    "const slides = [{slides}]\n",
    "\"\"\" + \"\"\"\n",
    "async function run() {\n",
    "    for (let i = 0; i < docs.length; i++) {\n",
    "        let file = await fetch(docs[i]);\n",
    "        let text = await file.text()\n",
    "        document.getElementById(slides[i]).innerHTML =\n",
    "            marked.parse(text);\n",
    "    }\n",
    "    hljs.highlightAll();\n",
    "}\n",
    "run()\n",
    "\"\"\"\n",
    "\n",
    "page = f\"\"\"<!doctype html>\n",
    "<html lang=\"en\">\n",
    "\n",
    "<head>\n",
    "  <meta charset=\"utf-8\">\n",
    "  <meta name=\"viewport\" content=\"width=device-width, initial-scale=1\">\n",
    "  <!-- Bootstrap CSS -->\n",
    "  <link href=\"https://cdn.jsdelivr.net/npm/bootstrap@5.0.2/dist/css/bootstrap.min.css\" rel=\"stylesheet\"\n",
    "   integrity=\"sha384-EVSTQN3/azprG1Anm3QDgpJLIm9Nao0Yz1ztcQTwFspd3yD65VohhpuuCOmLASjC\" crossorigin=\"anonymous\">\n",
    "  <!-- highlight.js CSS -->\n",
    "  <link rel=\"stylesheet\" href=\"https://cdnjs.cloudflare.com/ajax/libs/highlight.js/11.1.0/styles/default.min.css\">\n",
    "  <!-- Mathjax 3 -->\n",
    "  <script type=\"text/javascript\" id=\"MathJax-config\" src=\"mathjax_config.js\"> </script>\n",
    "  <script type=\"text/javascript\" id=\"MathJax-script\" async \n",
    "    src=\"https://cdn.jsdelivr.net/npm/mathjax@3/es5/tex-mml-chtml.js\">\n",
    "  </script>\n",
    "  <link rel=\"stylesheet\" href=\"index_carousel.css\">\n",
    "  <link rel=\"icon\" type=\"image/x-icon\" href=\"https://www.mpia.de/assets/touch-icon-32x32-a66937bcebc4e8894ebff1f41a366c7c7220fd97a38869ee0f2db65a9f59b6c1.png\">\n",
    "  <title>MPIA Arxiv on deck!</title>\n",
    "</head>\n",
    "\n",
    "<body>\n",
    "  <div id=\"header\"> <img src=\"header_banner.png\" width=\"100%\"></div>\n",
    "  <div id=\"suptitle\"> 7-day archives </div>\n",
    "  <div id=\"info\">\n",
    "    <img src=\"https://pngimg.com/uploads/github/github_PNG58.png\" height=30rem></img>\n",
    "    <a href=https://github.com/mpi-astronomy/arxiv_display style=\"color:black;\">github/mpi-astronomy/arxiv_display</a> \n",
    "  </div>\n",
    "  {carousel:s}\n",
    "</body>\n",
    "\n",
    "<!-- Render Markdown -->\n",
    "\n",
    "<body>\n",
    "  <!-- highlight.js: https://highlightjs.org/download/ -->\n",
    "  <script src=\"https://cdnjs.cloudflare.com/ajax/libs/highlight.js/11.5.0/highlight.min.js\"></script>\n",
    "  <!-- marked.js -->\n",
    "  <script src=\"https://cdn.jsdelivr.net/npm/marked/marked.min.js\"></script>\n",
    "  <script>{script:s}</script>\n",
    "</body>\n",
    "</html>\n",
    "\"\"\"\n",
    "with open(\"_build/html/index_7days.html\", 'w') as fout:\n",
    "    fout.write(page)"
   ]
  },
  {
   "cell_type": "markdown",
   "id": "1cebacbc",
   "metadata": {
    "papermill": {
     "duration": 0.01384,
     "end_time": "2022-09-30T05:18:56.123618",
     "exception": false,
     "start_time": "2022-09-30T05:18:56.109778",
     "status": "completed"
    },
    "tags": []
   },
   "source": [
    "# Debugging papers"
   ]
  },
  {
   "cell_type": "raw",
   "id": "debe7cc6",
   "metadata": {
    "papermill": {
     "duration": 0.01296,
     "end_time": "2022-09-30T05:18:56.151299",
     "exception": false,
     "start_time": "2022-09-30T05:18:56.138339",
     "status": "completed"
    },
    "tags": []
   },
   "source": [
    "raise NotImplementedError(\"Manual Stop\")"
   ]
  },
  {
   "cell_type": "raw",
   "id": "eb169192",
   "metadata": {
    "papermill": {
     "duration": 0.013291,
     "end_time": "2022-09-30T05:18:56.212790",
     "exception": false,
     "start_time": "2022-09-30T05:18:56.199499",
     "status": "completed"
    },
    "scrolled": true,
    "tags": []
   },
   "source": [
    "from IPython.display import display, Markdown\n",
    "from TexSoup import TexSoup\n",
    "import re\n",
    "\n",
    "def bracket_error(source: str):\n",
    "    \"\"\" Find problematic portions of the document \"\"\"\n",
    "    \n",
    "    print(\"len(source)\", len(source))\n",
    "    \n",
    "    # Checking header\n",
    "    begin_doc = next(re.finditer(r'\\\\begin\\{document\\}', doc.source)).span()[1]\n",
    "    header = source[:begin_doc]\n",
    "    text = header + r\"\\n\\end{document}\"\n",
    "\n",
    "    try:\n",
    "        # print(\"Header check... \", end='')\n",
    "        TexSoup(text)\n",
    "        display(Markdown(f\"**[OK]** - Header\"))\n",
    "    except:\n",
    "        raise RuntimeError(\"Error in the header\")\n",
    "        \n",
    "    # Check the text per section until the end.\n",
    "    # Do not stop and try them all.\n",
    "    \n",
    "    problematic_text = []\n",
    "    \n",
    "    sections = ([(0, begin_doc, 'until first section')] + \n",
    "                [(g.span()[0], g.span()[1], g.group()) for g in re.finditer(r'\\\\section\\{.*\\}', source)] +\n",
    "                [(g.span()[0], g.span()[1], g.group()) for g in re.finditer(r'\\\\begin\\{appendix\\}', source)]\n",
    "               )\n",
    "    sections.append([len(source), len(source), 'end'])\n",
    "    \n",
    "    sections = sorted(sections, key=lambda x: x[0])\n",
    "    \n",
    "    prev_pos, prev_name = (0, 'header')\n",
    "    parsed = []\n",
    "    \n",
    "    for span, span_end, name in sections:\n",
    "\n",
    "        if span - prev_pos <= 0:\n",
    "            continue\n",
    "            \n",
    "\n",
    "        text = source[prev_pos:span]\n",
    "        if prev_pos > begin_doc:\n",
    "            text = r\"\\n\\begin{document}\" + text + r\"\\n\\end{document}\"\n",
    "        else:\n",
    "            text = text + r\"\\n\\end{document}\"\n",
    "        try:\n",
    "            #print(f\"{prev_pos}:{prev_name}-->{span}:{name} check... \", end='')\n",
    "            parsed.append(TexSoup(text, tolerance=1))  # allow not ending env\n",
    "            display(Markdown(f\"**[OK]** - *{prev_pos}*:{prev_name} &rarr; *{span}*:{name}\"))\n",
    "            # print(\"ok\")\n",
    "\n",
    "            prev_pos = span\n",
    "            prev_name = name\n",
    "        except:\n",
    "            # print(f\"error between {prev_pos} and {span}\")\n",
    "            display(Markdown(f\"**[ERR]** *{prev_pos}*:{prev_name} &rarr; *{span}*:{name}\"))\n",
    "            problematic_text.append((prev_pos, source[prev_pos:span]))\n",
    "            prev_pos = span\n",
    "            prev_name = name\n",
    "            # raise\n",
    "    return problematic_text, parsed\n",
    "\n",
    "\n",
    "def check_environment(text, offset=0):\n",
    "    \"\"\" Check environment \"\"\"\n",
    "    env = re.compile(r\"\\\\begin\\{(?P<env>.*)\\}(.*)\\\\end\\{(?P=env)\\}\", re.DOTALL)\n",
    "\n",
    "    for match in env.finditer(text):\n",
    "        beg, end = match.span()\n",
    "        beg += offset\n",
    "        end += offset\n",
    "        envname = match.groups()[0]\n",
    "        try:\n",
    "            latex.TexSoup(match.group())\n",
    "        except Exception as e:\n",
    "            display(e)\n",
    "            print(f\"Error in {envname:s} between {beg} and {end}\")\n",
    "            return match.groups()[1], beg, end"
   ]
  },
  {
   "cell_type": "raw",
   "id": "2315e835",
   "metadata": {
    "papermill": {
     "duration": 0.012688,
     "end_time": "2022-09-30T05:18:56.238588",
     "exception": false,
     "start_time": "2022-09-30T05:18:56.225900",
     "status": "completed"
    },
    "scrolled": false,
    "tags": []
   },
   "source": [
    "import importlib\n",
    "importlib.reload(latex)\n",
    "which = \"2204.03253\"\n",
    "paper_id = f'{which:s}'\n",
    "folder = f'tmp_{paper_id:s}'\n",
    "\n",
    "if not os.path.isdir(folder):\n",
    "    folder = retrieve_document_source(f\"{paper_id}\", f'tmp_{paper_id}')\n",
    "\n",
    "try:\n",
    "    doc = latex.LatexDocument(folder, validation=validation)    \n",
    "except AffiliationError as affilerror:\n",
    "    msg = f\"ArXiv:{paper_id:s} is not an MPIA paper... \" + str(affilerror)\n",
    "    print(msg)\n",
    "\n",
    "\n",
    "# Hack because sometimes author parsing does not work well\n",
    "if (len(doc.authors) != len(paper['authors'])):\n",
    "    doc._authors = paper['authors']\n",
    "if (doc.abstract) in (None, ''):\n",
    "    doc._abstract = paper['abstract']\n",
    "\n",
    "doc.comment = get_markdown_badge(paper_id) + \" _\" + paper['comments'] + \"_\"\n",
    "doc.highlight_authors_in_list(hl_list)\n",
    "\n",
    "full_md = doc.generate_markdown_text()"
   ]
  },
  {
   "cell_type": "raw",
   "id": "dd3781db",
   "metadata": {
    "papermill": {
     "duration": 0.014583,
     "end_time": "2022-09-30T05:18:56.266058",
     "exception": false,
     "start_time": "2022-09-30T05:18:56.251475",
     "status": "completed"
    },
    "scrolled": false,
    "tags": []
   },
   "source": [
    "doc"
   ]
  },
  {
   "cell_type": "raw",
   "id": "c6eed834",
   "metadata": {
    "papermill": {
     "duration": 0.013455,
     "end_time": "2022-09-30T05:18:56.292329",
     "exception": false,
     "start_time": "2022-09-30T05:18:56.278874",
     "status": "completed"
    },
    "tags": []
   },
   "source": [
    "# [check_environment(k) for k in bracket_error(doc.source)]\n",
    "_, _, a = latex.get_content_per_section(doc.source, verbose=True)\n",
    "if not a:\n",
    "    print(\"no issues per section\")\n",
    "for ak in a:\n",
    "    r = check_environment(ak[1], offset=ak[0])\n",
    "    print(r[1], r[2])\n",
    "    print(r[0])"
   ]
  },
  {
   "cell_type": "code",
   "execution_count": null,
   "id": "71ce768a",
   "metadata": {
    "papermill": {
     "duration": 0.01231,
     "end_time": "2022-09-30T05:18:56.317488",
     "exception": false,
     "start_time": "2022-09-30T05:18:56.305178",
     "status": "completed"
    },
    "tags": []
   },
   "outputs": [],
   "source": []
  }
 ],
 "metadata": {
  "kernelspec": {
   "display_name": "Python 3.10.6 64-bit",
   "language": "python",
   "name": "python3"
  },
  "language_info": {
   "codemirror_mode": {
    "name": "ipython",
    "version": 3
   },
   "file_extension": ".py",
   "mimetype": "text/x-python",
   "name": "python",
   "nbconvert_exporter": "python",
   "pygments_lexer": "ipython3",
   "version": "3.9.14"
  },
  "papermill": {
   "default_parameters": {},
   "duration": 136.980257,
   "end_time": "2022-09-30T05:18:56.651047",
   "environment_variables": {},
   "exception": null,
   "input_path": "MPIA daily digest.ipynb",
   "output_path": "log.ipynb",
   "parameters": {},
   "start_time": "2022-09-30T05:16:39.670790",
   "version": "2.4.0"
  },
  "vscode": {
   "interpreter": {
    "hash": "e7370f93d1d0cde622a1f8e1c04877d8463912d04d973331ad4851f04de6915a"
   }
  },
  "widgets": {
   "application/vnd.jupyter.widget-state+json": {
    "state": {
     "28b340da1be948569182c1864ae4eda8": {
      "model_module": "@jupyter-widgets/base",
      "model_module_version": "2.0.0",
      "model_name": "LayoutModel",
      "state": {
       "_model_module": "@jupyter-widgets/base",
       "_model_module_version": "2.0.0",
       "_model_name": "LayoutModel",
       "_view_count": null,
       "_view_module": "@jupyter-widgets/base",
       "_view_module_version": "2.0.0",
       "_view_name": "LayoutView",
       "align_content": null,
       "align_items": null,
       "align_self": null,
       "border_bottom": null,
       "border_left": null,
       "border_right": null,
       "border_top": null,
       "bottom": null,
       "display": null,
       "flex": null,
       "flex_flow": null,
       "grid_area": null,
       "grid_auto_columns": null,
       "grid_auto_flow": null,
       "grid_auto_rows": null,
       "grid_column": null,
       "grid_gap": null,
       "grid_row": null,
       "grid_template_areas": null,
       "grid_template_columns": null,
       "grid_template_rows": null,
       "height": null,
       "justify_content": null,
       "justify_items": null,
       "left": null,
       "margin": null,
       "max_height": null,
       "max_width": null,
       "min_height": null,
       "min_width": null,
       "object_fit": null,
       "object_position": null,
       "order": null,
       "overflow": null,
       "padding": null,
       "right": null,
       "top": null,
       "visibility": null,
       "width": null
      }
     },
     "32878efadfb241dda51abcf2191420f9": {
      "model_module": "@jupyter-widgets/controls",
      "model_module_version": "2.0.0",
      "model_name": "HTMLStyleModel",
      "state": {
       "_model_module": "@jupyter-widgets/controls",
       "_model_module_version": "2.0.0",
       "_model_name": "HTMLStyleModel",
       "_view_count": null,
       "_view_module": "@jupyter-widgets/base",
       "_view_module_version": "2.0.0",
       "_view_name": "StyleView",
       "background": null,
       "description_width": "",
       "font_size": null,
       "text_color": null
      }
     },
     "6be717ae39ba4fcb936cf37fd1ce5440": {
      "model_module": "@jupyter-widgets/controls",
      "model_module_version": "2.0.0",
      "model_name": "HBoxModel",
      "state": {
       "_dom_classes": [],
       "_model_module": "@jupyter-widgets/controls",
       "_model_module_version": "2.0.0",
       "_model_name": "HBoxModel",
       "_view_count": null,
       "_view_module": "@jupyter-widgets/controls",
       "_view_module_version": "2.0.0",
       "_view_name": "HBoxView",
       "box_style": "",
       "children": [
        "IPY_MODEL_d6bdeaea9d1147c7a16c753bf2168ba7",
        "IPY_MODEL_9e4b8d34791f46f7a9c61019b81d674b",
        "IPY_MODEL_94aa05f4f6444cca91c4540b1bf5addf"
       ],
       "layout": "IPY_MODEL_7ebbbe190e5144e6bd45b79960f31cb0",
       "tabbable": null,
       "tooltip": null
      }
     },
     "7ebbbe190e5144e6bd45b79960f31cb0": {
      "model_module": "@jupyter-widgets/base",
      "model_module_version": "2.0.0",
      "model_name": "LayoutModel",
      "state": {
       "_model_module": "@jupyter-widgets/base",
       "_model_module_version": "2.0.0",
       "_model_name": "LayoutModel",
       "_view_count": null,
       "_view_module": "@jupyter-widgets/base",
       "_view_module_version": "2.0.0",
       "_view_name": "LayoutView",
       "align_content": null,
       "align_items": null,
       "align_self": null,
       "border_bottom": null,
       "border_left": null,
       "border_right": null,
       "border_top": null,
       "bottom": null,
       "display": null,
       "flex": null,
       "flex_flow": null,
       "grid_area": null,
       "grid_auto_columns": null,
       "grid_auto_flow": null,
       "grid_auto_rows": null,
       "grid_column": null,
       "grid_gap": null,
       "grid_row": null,
       "grid_template_areas": null,
       "grid_template_columns": null,
       "grid_template_rows": null,
       "height": null,
       "justify_content": null,
       "justify_items": null,
       "left": null,
       "margin": null,
       "max_height": null,
       "max_width": null,
       "min_height": null,
       "min_width": null,
       "object_fit": null,
       "object_position": null,
       "order": null,
       "overflow": null,
       "padding": null,
       "right": null,
       "top": null,
       "visibility": null,
       "width": null
      }
     },
     "92f80767f78f4322930bd1df077e5921": {
      "model_module": "@jupyter-widgets/controls",
      "model_module_version": "2.0.0",
      "model_name": "ProgressStyleModel",
      "state": {
       "_model_module": "@jupyter-widgets/controls",
       "_model_module_version": "2.0.0",
       "_model_name": "ProgressStyleModel",
       "_view_count": null,
       "_view_module": "@jupyter-widgets/base",
       "_view_module_version": "2.0.0",
       "_view_name": "StyleView",
       "bar_color": null,
       "description_width": ""
      }
     },
     "94aa05f4f6444cca91c4540b1bf5addf": {
      "model_module": "@jupyter-widgets/controls",
      "model_module_version": "2.0.0",
      "model_name": "HTMLModel",
      "state": {
       "_dom_classes": [],
       "_model_module": "@jupyter-widgets/controls",
       "_model_module_version": "2.0.0",
       "_model_name": "HTMLModel",
       "_view_count": null,
       "_view_module": "@jupyter-widgets/controls",
       "_view_module_version": "2.0.0",
       "_view_name": "HTMLView",
       "description": "",
       "description_allow_html": false,
       "layout": "IPY_MODEL_e09846bb76ea49ffb2a60401f6c7d950",
       "placeholder": "​",
       "style": "IPY_MODEL_fa376ddf89d74467b0c4e67fcab42b0d",
       "tabbable": null,
       "tooltip": null,
       "value": " 21/21 [01:44&lt;00:00,  3.85s/it]"
      }
     },
     "9e4b8d34791f46f7a9c61019b81d674b": {
      "model_module": "@jupyter-widgets/controls",
      "model_module_version": "2.0.0",
      "model_name": "FloatProgressModel",
      "state": {
       "_dom_classes": [],
       "_model_module": "@jupyter-widgets/controls",
       "_model_module_version": "2.0.0",
       "_model_name": "FloatProgressModel",
       "_view_count": null,
       "_view_module": "@jupyter-widgets/controls",
       "_view_module_version": "2.0.0",
       "_view_name": "ProgressView",
       "bar_style": "success",
       "description": "",
       "description_allow_html": false,
       "layout": "IPY_MODEL_28b340da1be948569182c1864ae4eda8",
       "max": 21.0,
       "min": 0.0,
       "orientation": "horizontal",
       "style": "IPY_MODEL_92f80767f78f4322930bd1df077e5921",
       "tabbable": null,
       "tooltip": null,
       "value": 21.0
      }
     },
     "d6bdeaea9d1147c7a16c753bf2168ba7": {
      "model_module": "@jupyter-widgets/controls",
      "model_module_version": "2.0.0",
      "model_name": "HTMLModel",
      "state": {
       "_dom_classes": [],
       "_model_module": "@jupyter-widgets/controls",
       "_model_module_version": "2.0.0",
       "_model_name": "HTMLModel",
       "_view_count": null,
       "_view_module": "@jupyter-widgets/controls",
       "_view_module_version": "2.0.0",
       "_view_name": "HTMLView",
       "description": "",
       "description_allow_html": false,
       "layout": "IPY_MODEL_e7a2c78505cd449886a2d52913c7d36c",
       "placeholder": "​",
       "style": "IPY_MODEL_32878efadfb241dda51abcf2191420f9",
       "tabbable": null,
       "tooltip": null,
       "value": "100%"
      }
     },
     "e09846bb76ea49ffb2a60401f6c7d950": {
      "model_module": "@jupyter-widgets/base",
      "model_module_version": "2.0.0",
      "model_name": "LayoutModel",
      "state": {
       "_model_module": "@jupyter-widgets/base",
       "_model_module_version": "2.0.0",
       "_model_name": "LayoutModel",
       "_view_count": null,
       "_view_module": "@jupyter-widgets/base",
       "_view_module_version": "2.0.0",
       "_view_name": "LayoutView",
       "align_content": null,
       "align_items": null,
       "align_self": null,
       "border_bottom": null,
       "border_left": null,
       "border_right": null,
       "border_top": null,
       "bottom": null,
       "display": null,
       "flex": null,
       "flex_flow": null,
       "grid_area": null,
       "grid_auto_columns": null,
       "grid_auto_flow": null,
       "grid_auto_rows": null,
       "grid_column": null,
       "grid_gap": null,
       "grid_row": null,
       "grid_template_areas": null,
       "grid_template_columns": null,
       "grid_template_rows": null,
       "height": null,
       "justify_content": null,
       "justify_items": null,
       "left": null,
       "margin": null,
       "max_height": null,
       "max_width": null,
       "min_height": null,
       "min_width": null,
       "object_fit": null,
       "object_position": null,
       "order": null,
       "overflow": null,
       "padding": null,
       "right": null,
       "top": null,
       "visibility": null,
       "width": null
      }
     },
     "e7a2c78505cd449886a2d52913c7d36c": {
      "model_module": "@jupyter-widgets/base",
      "model_module_version": "2.0.0",
      "model_name": "LayoutModel",
      "state": {
       "_model_module": "@jupyter-widgets/base",
       "_model_module_version": "2.0.0",
       "_model_name": "LayoutModel",
       "_view_count": null,
       "_view_module": "@jupyter-widgets/base",
       "_view_module_version": "2.0.0",
       "_view_name": "LayoutView",
       "align_content": null,
       "align_items": null,
       "align_self": null,
       "border_bottom": null,
       "border_left": null,
       "border_right": null,
       "border_top": null,
       "bottom": null,
       "display": null,
       "flex": null,
       "flex_flow": null,
       "grid_area": null,
       "grid_auto_columns": null,
       "grid_auto_flow": null,
       "grid_auto_rows": null,
       "grid_column": null,
       "grid_gap": null,
       "grid_row": null,
       "grid_template_areas": null,
       "grid_template_columns": null,
       "grid_template_rows": null,
       "height": null,
       "justify_content": null,
       "justify_items": null,
       "left": null,
       "margin": null,
       "max_height": null,
       "max_width": null,
       "min_height": null,
       "min_width": null,
       "object_fit": null,
       "object_position": null,
       "order": null,
       "overflow": null,
       "padding": null,
       "right": null,
       "top": null,
       "visibility": null,
       "width": null
      }
     },
     "fa376ddf89d74467b0c4e67fcab42b0d": {
      "model_module": "@jupyter-widgets/controls",
      "model_module_version": "2.0.0",
      "model_name": "HTMLStyleModel",
      "state": {
       "_model_module": "@jupyter-widgets/controls",
       "_model_module_version": "2.0.0",
       "_model_name": "HTMLStyleModel",
       "_view_count": null,
       "_view_module": "@jupyter-widgets/base",
       "_view_module_version": "2.0.0",
       "_view_name": "StyleView",
       "background": null,
       "description_width": "",
       "font_size": null,
       "text_color": null
      }
     }
    },
    "version_major": 2,
    "version_minor": 0
   }
  }
 },
 "nbformat": 4,
 "nbformat_minor": 5
}