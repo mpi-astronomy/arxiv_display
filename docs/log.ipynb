{
 "cells": [
  {
   "cell_type": "markdown",
   "id": "92bcb855",
   "metadata": {
    "papermill": {
     "duration": 0.004956,
     "end_time": "2022-09-29T05:18:59.141371",
     "exception": false,
     "start_time": "2022-09-29T05:18:59.136415",
     "status": "completed"
    },
    "tags": []
   },
   "source": [
    "# MPIA Arxiv on Deck 2\n",
    "\n",
    "Contains the steps to produce the paper extractions."
   ]
  },
  {
   "cell_type": "code",
   "execution_count": 1,
   "id": "3a0d6e11",
   "metadata": {
    "execution": {
     "iopub.execute_input": "2022-09-29T05:18:59.151180Z",
     "iopub.status.busy": "2022-09-29T05:18:59.150476Z",
     "iopub.status.idle": "2022-09-29T05:18:59.316446Z",
     "shell.execute_reply": "2022-09-29T05:18:59.315791Z"
    },
    "papermill": {
     "duration": 0.173027,
     "end_time": "2022-09-29T05:18:59.318532",
     "exception": false,
     "start_time": "2022-09-29T05:18:59.145505",
     "status": "completed"
    },
    "tags": []
   },
   "outputs": [],
   "source": [
    "# Imports\n",
    "import os\n",
    "from IPython.display import Markdown, display\n",
    "from tqdm.notebook import tqdm\n",
    "import warnings\n",
    "from PIL import Image \n",
    "\n",
    "# requires arxiv_on_deck_2\n",
    "\n",
    "from arxiv_on_deck_2.arxiv2 import (get_new_papers, \n",
    "                                    get_paper_from_identifier,\n",
    "                                    retrieve_document_source, \n",
    "                                    get_markdown_badge)\n",
    "from arxiv_on_deck_2 import (latex, \n",
    "                             mpia,\n",
    "                             highlight_authors_in_list)\n",
    "\n",
    "# Sometimes images are really big\n",
    "Image.MAX_IMAGE_PIXELS = 1000000000 "
   ]
  },
  {
   "cell_type": "code",
   "execution_count": 2,
   "id": "22aa9d44",
   "metadata": {
    "execution": {
     "iopub.execute_input": "2022-09-29T05:18:59.327951Z",
     "iopub.status.busy": "2022-09-29T05:18:59.327726Z",
     "iopub.status.idle": "2022-09-29T05:18:59.332315Z",
     "shell.execute_reply": "2022-09-29T05:18:59.331676Z"
    },
    "papermill": {
     "duration": 0.011328,
     "end_time": "2022-09-29T05:18:59.333968",
     "exception": false,
     "start_time": "2022-09-29T05:18:59.322640",
     "status": "completed"
    },
    "tags": []
   },
   "outputs": [],
   "source": [
    "# Some useful definitions.\n",
    "\n",
    "class AffiliationWarning(UserWarning):\n",
    "    pass\n",
    "\n",
    "class AffiliationError(RuntimeError):\n",
    "    pass\n",
    "\n",
    "def validation(source: str):\n",
    "    \"\"\"Raises error paper during parsing of source file\n",
    "    \n",
    "    Allows checks before parsing TeX code.\n",
    "    \n",
    "    Raises AffiliationWarning\n",
    "    \"\"\"\n",
    "    check = mpia.affiliation_verifications(source, verbose=True)\n",
    "    if check is not True:\n",
    "        raise AffiliationError(\"mpia.affiliation_verifications: \" + check)\n",
    "\n",
    "        \n",
    "warnings.simplefilter('always', AffiliationWarning)"
   ]
  },
  {
   "cell_type": "code",
   "execution_count": 3,
   "id": "14622700",
   "metadata": {
    "execution": {
     "iopub.execute_input": "2022-09-29T05:18:59.344126Z",
     "iopub.status.busy": "2022-09-29T05:18:59.343914Z",
     "iopub.status.idle": "2022-09-29T05:18:59.348350Z",
     "shell.execute_reply": "2022-09-29T05:18:59.347770Z"
    },
    "papermill": {
     "duration": 0.011991,
     "end_time": "2022-09-29T05:18:59.349749",
     "exception": false,
     "start_time": "2022-09-29T05:18:59.337758",
     "status": "completed"
    },
    "tags": []
   },
   "outputs": [],
   "source": [
    "# additional CSS to consider. \n",
    "# TODO: Current into each exported file. \n",
    "#       This should be set once into the webpages directly.\n",
    "#       With only the class/id definitions in the .md files.\n",
    "\n",
    "debug_html = \"\"\"\n",
    "<style>\n",
    "#wrap{ overflow:auto; }\n",
    "#fig1{ background:yellow; width:100%; float:left; padding:5px;  }\n",
    "#fig2{ background:red; width:50%; float:left; clear:left; padding:5px;  }\n",
    "#fig3{ background:green; width:50%; float:left; padding:5px;   }\n",
    ".macros{ background:yellow; visibility:visible;}\n",
    "h1 {margin: 0 0 0 0;}\n",
    "mark {background-color:#fff3b6;}\n",
    "img {object-fit:contain; max-height:250px; display:inline-block; text-align: center;}\n",
    "</style>\n",
    "\"\"\" \n",
    "html = \"\"\"\n",
    "<style>\n",
    "#wrap{ overflow:auto; }\n",
    "#fig1{ width:100%; float:left; padding: 5px;  }\n",
    "#fig2{ width:50%; float:left; clear:left; padding: 5px;  }\n",
    "#fig3{ width:50%; float:left; padding: 5px;  }\n",
    ".macros{ visibility:hidden; height:0px; }\n",
    "h1 {margin: 0em 0 0 0;}\n",
    "mark {background-color:#fff3b6;}\n",
    "img {object-fit:contain; max-height:250px; display:inline-block; text-align: center;}\n",
    "</style>\n",
    "\"\"\""
   ]
  },
  {
   "cell_type": "markdown",
   "id": "14bd6310",
   "metadata": {
    "papermill": {
     "duration": 0.003859,
     "end_time": "2022-09-29T05:18:59.357431",
     "exception": false,
     "start_time": "2022-09-29T05:18:59.353572",
     "status": "completed"
    },
    "tags": []
   },
   "source": [
    "## get list of arxiv paper candidates\n",
    "\n",
    "We use the MPIA mitarbeiter list webpage from mpia.de to get author names\n",
    "We then get all new papers from Arxiv and match authors"
   ]
  },
  {
   "cell_type": "code",
   "execution_count": 4,
   "id": "2645e73a",
   "metadata": {
    "execution": {
     "iopub.execute_input": "2022-09-29T05:18:59.366255Z",
     "iopub.status.busy": "2022-09-29T05:18:59.366032Z",
     "iopub.status.idle": "2022-09-29T05:19:23.357408Z",
     "shell.execute_reply": "2022-09-29T05:19:23.355904Z"
    },
    "papermill": {
     "duration": 23.998034,
     "end_time": "2022-09-29T05:19:23.359355",
     "exception": false,
     "start_time": "2022-09-29T05:18:59.361321",
     "status": "completed"
    },
    "tags": []
   },
   "outputs": [
    {
     "name": "stdout",
     "output_type": "stream",
     "text": [
      "Arxiv has 61 new papers today\n",
      "          21 with possible author matches\n"
     ]
    }
   ],
   "source": [
    "# get list from MPIA website\n",
    "# it automatically filters identified non-scientists :func:`mpia.filter_non_scientists`\n",
    "mpia_authors = mpia.get_mpia_mitarbeiter_list()\n",
    "new_papers = get_new_papers()\n",
    "# add manual references\n",
    "add_paper_refs = []\n",
    "new_papers.extend([get_paper_from_identifier(k) for k in add_paper_refs])\n",
    "\n",
    "# select only papers with matching author names and highlight authors\n",
    "hl_list = [k[0] for k in mpia_authors]\n",
    "\n",
    "candidates = []\n",
    "for paperk in new_papers:\n",
    "    hl_authors = highlight_authors_in_list(paperk['authors'], hl_list)\n",
    "    matches = [(hl, orig) for hl, orig in zip(hl_authors, paperk['authors']) if 'mark' in hl]\n",
    "    paperk['authors'] = hl_authors\n",
    "    if matches:\n",
    "        candidates.append(paperk)\n",
    "print(\"\"\"Arxiv has {0:,d} new papers today\"\"\".format(len(new_papers)))        \n",
    "print(\"\"\"          {0:,d} with possible author matches\"\"\".format(len(candidates)))"
   ]
  },
  {
   "cell_type": "markdown",
   "id": "3543b34a",
   "metadata": {
    "papermill": {
     "duration": 0.003994,
     "end_time": "2022-09-29T05:19:23.367702",
     "exception": false,
     "start_time": "2022-09-29T05:19:23.363708",
     "status": "completed"
    },
    "tags": []
   },
   "source": [
    "# Parse sources and generate relevant outputs\n",
    "\n",
    "From the candidates, we do the following steps:\n",
    "* get their tarball from ArXiv (and extract data)\n",
    "* find the main .tex file: find one with \\documentclass{...} (sometimes it's non trivial)\n",
    "* Check affiliations with :func:`validation`, which uses :func:`mpia.affiliation_verifications`\n",
    "* If passing the affiliations: we parse the .tex source\n",
    "   * inject sub-documents into the main (flatten the main document)\n",
    "   * parse structure, extract information (title, abstract, authors, figures...)\n",
    "   * handles `\\graphicspath` if provided\n",
    "* Generate the .md document."
   ]
  },
  {
   "cell_type": "code",
   "execution_count": 5,
   "id": "9576b79e",
   "metadata": {
    "execution": {
     "iopub.execute_input": "2022-09-29T05:19:23.376979Z",
     "iopub.status.busy": "2022-09-29T05:19:23.376506Z",
     "iopub.status.idle": "2022-09-29T05:20:57.650302Z",
     "shell.execute_reply": "2022-09-29T05:20:57.649732Z"
    },
    "papermill": {
     "duration": 94.287164,
     "end_time": "2022-09-29T05:20:57.658773",
     "exception": false,
     "start_time": "2022-09-29T05:19:23.371609",
     "status": "completed"
    },
    "scrolled": false,
    "tags": []
   },
   "outputs": [
    {
     "data": {
      "application/vnd.jupyter.widget-view+json": {
       "model_id": "9e10129105c14467910ae5b9a2ebf2ad",
       "version_major": 2,
       "version_minor": 0
      },
      "text/plain": [
       "  0%|          | 0/20 [00:00<?, ?it/s]"
      ]
     },
     "metadata": {},
     "output_type": "display_data"
    },
    {
     "name": "stdout",
     "output_type": "stream",
     "text": [
      "Retrieving document from  https://arxiv.org/e-print/2209.13618\n"
     ]
    },
    {
     "name": "stdout",
     "output_type": "stream",
     "text": [
      "extracting tarball to tmp_2209.13618..."
     ]
    },
    {
     "name": "stdout",
     "output_type": "stream",
     "text": [
      " done.\n",
      "Retrieving document from  https://arxiv.org/e-print/2209.13651\n"
     ]
    },
    {
     "name": "stdout",
     "output_type": "stream",
     "text": [
      "extracting tarball to tmp_2209.13651..."
     ]
    },
    {
     "name": "stdout",
     "output_type": "stream",
     "text": [
      " done.\n",
      "Retrieving document from  https://arxiv.org/e-print/2209.13668\n"
     ]
    },
    {
     "name": "stderr",
     "output_type": "stream",
     "text": [
      "/opt/hostedtoolcache/Python/3.9.14/x64/lib/python3.9/site-packages/IPython/core/interactiveshell.py:3378: LatexWarning: Multiple tex files.\n",
      "\n",
      "  exec(code_obj, self.user_global_ns, self.user_ns)\n",
      "/opt/hostedtoolcache/Python/3.9.14/x64/lib/python3.9/site-packages/IPython/core/interactiveshell.py:3378: LatexWarning: Found documentclass in tmp_2209.13651/main.tex\n",
      "\n",
      "  exec(code_obj, self.user_global_ns, self.user_ns)\n",
      "/opt/hostedtoolcache/Python/3.9.14/x64/lib/python3.9/site-packages/arxiv_on_deck_2/latex.py:292: LatexWarning: Latex injecting: 'Table_Derived_parameters.tex' from 'tmp_2209.13651/Table_Derived_parameters.tex'\n",
      "  warnings.warn(LatexWarning(f\"Latex injecting: '{ext}' from '{subsource}'\"))\n",
      "/opt/hostedtoolcache/Python/3.9.14/x64/lib/python3.9/site-packages/arxiv_on_deck_2/latex.py:292: LatexWarning: Latex injecting: 'Table_Fitted_parameters.tex' from 'tmp_2209.13651/Table_Fitted_parameters.tex'\n",
      "  warnings.warn(LatexWarning(f\"Latex injecting: '{ext}' from '{subsource}'\"))\n",
      "/opt/hostedtoolcache/Python/3.9.14/x64/lib/python3.9/site-packages/arxiv_on_deck_2/latex.py:292: LatexWarning: Latex injecting: 'Table_CHIRON_vs_SED.tex' from 'tmp_2209.13651/Table_CHIRON_vs_SED.tex'\n",
      "  warnings.warn(LatexWarning(f\"Latex injecting: '{ext}' from '{subsource}'\"))\n",
      "/opt/hostedtoolcache/Python/3.9.14/x64/lib/python3.9/site-packages/arxiv_on_deck_2/latex.py:292: LatexWarning: Latex injecting: 'Table_CHIRON_RVs.tex' from 'tmp_2209.13651/Table_CHIRON_RVs.tex'\n",
      "  warnings.warn(LatexWarning(f\"Latex injecting: '{ext}' from '{subsource}'\"))\n",
      "/opt/hostedtoolcache/Python/3.9.14/x64/lib/python3.9/site-packages/arxiv_on_deck_2/latex.py:292: LatexWarning: Latex injecting: 'Table_PEST_clearance_latex.tex' from 'tmp_2209.13651/Table_PEST_clearance_latex.tex'\n",
      "  warnings.warn(LatexWarning(f\"Latex injecting: '{ext}' from '{subsource}'\"))\n",
      "/opt/hostedtoolcache/Python/3.9.14/x64/lib/python3.9/site-packages/arxiv_on_deck_2/latex.py:292: LatexWarning: Latex injecting: 'Authors_AAS.tex' from 'tmp_2209.13651/Authors_AAS.tex'\n",
      "  warnings.warn(LatexWarning(f\"Latex injecting: '{ext}' from '{subsource}'\"))\n"
     ]
    },
    {
     "name": "stdout",
     "output_type": "stream",
     "text": [
      "extracting tarball to tmp_2209.13668..."
     ]
    },
    {
     "name": "stdout",
     "output_type": "stream",
     "text": [
      " done.\n",
      "Retrieving document from  https://arxiv.org/e-print/2209.13717\n"
     ]
    },
    {
     "name": "stdout",
     "output_type": "stream",
     "text": [
      "extracting tarball to tmp_2209.13717..."
     ]
    },
    {
     "name": "stdout",
     "output_type": "stream",
     "text": [
      " done.\n"
     ]
    },
    {
     "name": "stdout",
     "output_type": "stream",
     "text": [
      "Retrieving document from  https://arxiv.org/e-print/2209.13722\n"
     ]
    },
    {
     "name": "stdout",
     "output_type": "stream",
     "text": [
      "extracting tarball to tmp_2209.13722..."
     ]
    },
    {
     "name": "stdout",
     "output_type": "stream",
     "text": [
      " done.\n",
      "Retrieving document from  https://arxiv.org/e-print/2209.13779\n"
     ]
    },
    {
     "name": "stdout",
     "output_type": "stream",
     "text": [
      "extracting tarball to tmp_2209.13779... done.\n",
      "Retrieving document from  https://arxiv.org/e-print/2209.13789\n"
     ]
    },
    {
     "name": "stderr",
     "output_type": "stream",
     "text": [
      "/opt/hostedtoolcache/Python/3.9.14/x64/lib/python3.9/site-packages/IPython/core/interactiveshell.py:3378: LatexWarning: Multiple tex files.\n",
      "\n",
      "  exec(code_obj, self.user_global_ns, self.user_ns)\n",
      "/opt/hostedtoolcache/Python/3.9.14/x64/lib/python3.9/site-packages/IPython/core/interactiveshell.py:3378: LatexWarning: Found documentclass in tmp_2209.13779/natnotes.tex\n",
      "\n",
      "  exec(code_obj, self.user_global_ns, self.user_ns)\n"
     ]
    },
    {
     "name": "stderr",
     "output_type": "stream",
     "text": [
      "/tmp/ipykernel_2303/4030337529.py:34: LatexWarning: 2209.13789 did not run properly\n",
      "not a gzip file\n",
      "  warnings.warn(latex.LatexWarning(f\"{paper_id:s} did not run properly\\n\" +\n"
     ]
    },
    {
     "name": "stdout",
     "output_type": "stream",
     "text": [
      "Retrieving document from  https://arxiv.org/e-print/2209.13889\n"
     ]
    },
    {
     "name": "stdout",
     "output_type": "stream",
     "text": [
      "extracting tarball to tmp_2209.13889..."
     ]
    },
    {
     "name": "stdout",
     "output_type": "stream",
     "text": [
      " done.\n",
      "Retrieving document from  https://arxiv.org/e-print/2209.13924\n"
     ]
    },
    {
     "name": "stdout",
     "output_type": "stream",
     "text": [
      "extracting tarball to tmp_2209.13924..."
     ]
    },
    {
     "name": "stdout",
     "output_type": "stream",
     "text": [
      " done.\n",
      "Retrieving document from  https://arxiv.org/e-print/2209.13967\n"
     ]
    },
    {
     "name": "stdout",
     "output_type": "stream",
     "text": [
      "extracting tarball to tmp_2209.13967... done.\n",
      "Retrieving document from  https://arxiv.org/e-print/2209.13982\n"
     ]
    },
    {
     "name": "stdout",
     "output_type": "stream",
     "text": [
      "extracting tarball to tmp_2209.13982... done.\n"
     ]
    },
    {
     "name": "stderr",
     "output_type": "stream",
     "text": [
      "/opt/hostedtoolcache/Python/3.9.14/x64/lib/python3.9/site-packages/arxiv_on_deck_2/latex.py:118: LatexWarning: attempting recovering figure .pdf\n",
      "  warnings.warn(LatexWarning(f'attempting recovering figure {image}'))\n",
      "/tmp/ipykernel_2303/4030337529.py:34: LatexWarning: 2209.13982 did not run properly\n",
      "Could not find figure .pdf\n",
      "  warnings.warn(latex.LatexWarning(f\"{paper_id:s} did not run properly\\n\" +\n"
     ]
    },
    {
     "name": "stdout",
     "output_type": "stream",
     "text": [
      "Retrieving document from  https://arxiv.org/e-print/2209.14004\n"
     ]
    },
    {
     "name": "stdout",
     "output_type": "stream",
     "text": [
      "extracting tarball to tmp_2209.14004..."
     ]
    },
    {
     "name": "stdout",
     "output_type": "stream",
     "text": [
      " done.\n",
      "Retrieving document from  https://arxiv.org/e-print/2209.14023\n"
     ]
    },
    {
     "name": "stdout",
     "output_type": "stream",
     "text": [
      "extracting tarball to tmp_2209.14023..."
     ]
    },
    {
     "name": "stdout",
     "output_type": "stream",
     "text": [
      " done.\n",
      "Retrieving document from  https://arxiv.org/e-print/2209.14037\n"
     ]
    },
    {
     "name": "stdout",
     "output_type": "stream",
     "text": [
      "extracting tarball to tmp_2209.14037... done.\n",
      "Retrieving document from  https://arxiv.org/e-print/2209.14054\n"
     ]
    },
    {
     "name": "stdout",
     "output_type": "stream",
     "text": [
      "extracting tarball to tmp_2209.14054... done.\n",
      "Retrieving document from  https://arxiv.org/e-print/2209.14059\n"
     ]
    },
    {
     "name": "stderr",
     "output_type": "stream",
     "text": [
      "/opt/hostedtoolcache/Python/3.9.14/x64/lib/python3.9/site-packages/IPython/core/interactiveshell.py:3378: LatexWarning: Multiple tex files.\n",
      "\n",
      "  exec(code_obj, self.user_global_ns, self.user_ns)\n",
      "/opt/hostedtoolcache/Python/3.9.14/x64/lib/python3.9/site-packages/IPython/core/interactiveshell.py:3378: LatexWarning: Found documentclass in tmp_2209.14054/main.tex\n",
      "\n",
      "  exec(code_obj, self.user_global_ns, self.user_ns)\n"
     ]
    },
    {
     "name": "stdout",
     "output_type": "stream",
     "text": [
      "extracting tarball to tmp_2209.14059..."
     ]
    },
    {
     "name": "stdout",
     "output_type": "stream",
     "text": [
      " done.\n",
      "Retrieving document from  https://arxiv.org/e-print/2209.14113\n"
     ]
    },
    {
     "name": "stdout",
     "output_type": "stream",
     "text": [
      "extracting tarball to tmp_2209.14113..."
     ]
    },
    {
     "name": "stdout",
     "output_type": "stream",
     "text": [
      " done.\n",
      "Retrieving document from  https://arxiv.org/e-print/2209.14159\n"
     ]
    },
    {
     "name": "stdout",
     "output_type": "stream",
     "text": [
      "extracting tarball to tmp_2209.14159..."
     ]
    },
    {
     "name": "stdout",
     "output_type": "stream",
     "text": [
      " done.\n",
      "Retrieving document from  https://arxiv.org/e-print/2209.14166\n"
     ]
    },
    {
     "name": "stderr",
     "output_type": "stream",
     "text": [
      "/opt/hostedtoolcache/Python/3.9.14/x64/lib/python3.9/site-packages/IPython/core/interactiveshell.py:3378: LatexWarning: Multiple tex files.\n",
      "\n",
      "  exec(code_obj, self.user_global_ns, self.user_ns)\n",
      "/opt/hostedtoolcache/Python/3.9.14/x64/lib/python3.9/site-packages/IPython/core/interactiveshell.py:3378: LatexWarning: Found documentclass in tmp_2209.14159/main.tex\n",
      "\n",
      "  exec(code_obj, self.user_global_ns, self.user_ns)\n"
     ]
    },
    {
     "name": "stdout",
     "output_type": "stream",
     "text": [
      "extracting tarball to tmp_2209.14166..."
     ]
    },
    {
     "name": "stdout",
     "output_type": "stream",
     "text": [
      " done.\n",
      "Retrieving document from  https://arxiv.org/e-print/2209.14226\n"
     ]
    },
    {
     "name": "stdout",
     "output_type": "stream",
     "text": [
      "extracting tarball to tmp_2209.14226..."
     ]
    },
    {
     "name": "stdout",
     "output_type": "stream",
     "text": [
      " done.\n"
     ]
    }
   ],
   "source": [
    "documents = []\n",
    "failed = []\n",
    "for paper in tqdm(candidates[:-1]):\n",
    "    paper_id = paper['identifier'].lower().replace('arxiv:', '')\n",
    "    \n",
    "    folder = f'tmp_{paper_id}'\n",
    "\n",
    "    try:\n",
    "        if not os.path.isdir(folder):\n",
    "            folder = retrieve_document_source(f\"{paper_id}\", f'tmp_{paper_id}')\n",
    "        \n",
    "        try:\n",
    "            doc = latex.LatexDocument(folder, validation=validation)    \n",
    "        except AffiliationError as affilerror:\n",
    "            msg = f\"ArXiv:{paper_id:s} is not an MPIA paper... \" + str(affilerror)\n",
    "            failed.append((paper, \"affiliation error: \" + str(affilerror) ))\n",
    "            continue\n",
    "        \n",
    "        # Hack because sometimes author parsing does not work well\n",
    "        if (len(doc.authors) != len(paper['authors'])):\n",
    "            doc._authors = paper['authors']\n",
    "        if (doc.abstract) in (None, ''):\n",
    "            doc._abstract = paper['abstract']\n",
    "            \n",
    "        doc.comment = (get_markdown_badge(paper_id) + \n",
    "                       \"<mark>Appeared on: \" + paper['date'] + \"</mark> - \" +\n",
    "                       \"_\" + paper['comments'] + \"_\")\n",
    "        doc.highlight_authors_in_list(hl_list)\n",
    "\n",
    "        full_md = doc.generate_markdown_text()\n",
    "        \n",
    "        documents.append((paper_id, full_md))\n",
    "    except Exception as e:\n",
    "        warnings.warn(latex.LatexWarning(f\"{paper_id:s} did not run properly\\n\" +\n",
    "                                         str(e)\n",
    "                                        ))\n",
    "        failed.append((paper, \"latex error \" + str(e)))"
   ]
  },
  {
   "cell_type": "markdown",
   "id": "2505a25c",
   "metadata": {
    "papermill": {
     "duration": 0.006239,
     "end_time": "2022-09-29T05:20:57.671235",
     "exception": false,
     "start_time": "2022-09-29T05:20:57.664996",
     "status": "completed"
    },
    "tags": []
   },
   "source": [
    "### Export the logs\n",
    "\n",
    "Throughout, we also keep track of the logs per paper. see `logs-{today date}.md` "
   ]
  },
  {
   "cell_type": "code",
   "execution_count": 6,
   "id": "d733828a",
   "metadata": {
    "execution": {
     "iopub.execute_input": "2022-09-29T05:20:57.684993Z",
     "iopub.status.busy": "2022-09-29T05:20:57.684487Z",
     "iopub.status.idle": "2022-09-29T05:20:57.712738Z",
     "shell.execute_reply": "2022-09-29T05:20:57.712004Z"
    },
    "papermill": {
     "duration": 0.036918,
     "end_time": "2022-09-29T05:20:57.714197",
     "exception": false,
     "start_time": "2022-09-29T05:20:57.677279",
     "status": "completed"
    },
    "scrolled": false,
    "tags": []
   },
   "outputs": [
    {
     "data": {
      "text/markdown": [
       "## Successful papers"
      ],
      "text/plain": [
       "<IPython.core.display.Markdown object>"
      ]
     },
     "metadata": {},
     "output_type": "display_data"
    },
    {
     "data": {
      "text/markdown": [
       "\n",
       "|||\n",
       "|---:|:---|\n",
       "| [![arXiv](https://img.shields.io/badge/arXiv-arXiv:2209.13717-b31b1b.svg)](https://arxiv.org/abs/arXiv:2209.13717) | **Polarized Emission From Four Supernova Remnants In The THOR Survey**  |\n",
       "|| Russell Shanahan, et al. -- incl., <mark>Henrik Beuther</mark>, <mark>Jonas Syed</mark> |\n",
       "|*Appeared on*| *2022-09-29*|\n",
       "|*Comments*| *Accepted for publication in the Astrophysical Journal. Figures 6, 19 and 20 may not be displayed in the browser pdf viewer, but the downloaded pdf is complete*|\n",
       "|**Abstract**| We present polarization and Faraday rotation for the supernova remnants (SNRs) G46.8-0.3, G43.3-0.2, G41.1-0.3, and G39.2-0.3 in L-band (1-2 GHz) radio continuum in The HI/OH/Recombination line (THOR) survey. We detect polarization from G46.8-0.3, G43.3-0.2 and G39.2-0.3 but find upper limits at the 1% level of Stokes I for G41.1-0.3. For G46.8-0.3 and G39.2-0.3 the fractional polarization varies on small scales from 1% to ~6%. G43.3-0.2 is less polarized with fractional polarization <~3%. We find upper limits at the 1% level for the brighter regions in each SNR with no evidence for associated enhanced Faraday depolarization. We observe significant variation in Faraday depth and fractional polarization on angular scales down to the resolution limit of 16\". Approximately 6% of our polarization detections from G46.8-0.3 and G39.2-0.3 exhibit two-component Faraday rotation and 14% of polarization detections in G43.3-0.2 are multi-component. For G39.2-0.3 we find a bimodal Faraday depth distribution with a narrow peak and a broad peak for all polarization detections as well as for the subset with two-component Faraday rotation. We identify the narrow peak with the front side of the SNR and the broad peak with the back side. Similarly, we interpret the observed Faraday depth distribution of G46.8-0.3 as a superposition of the distributions from the front side and the back side. We interpret our results as evidence for a partially filled shell with small-scale magnetic field structure and internal Faraday rotation. |"
      ],
      "text/plain": [
       "[arXiv:2209.13717] Polarized Emission From Four Supernova Remnants In The THOR Survey\n",
       "\tRussell Shanahan, et al. -- incl., <mark>Henrik Beuther</mark>, <mark>Jonas Syed</mark>"
      ]
     },
     "metadata": {},
     "output_type": "display_data"
    },
    {
     "data": {
      "text/markdown": [
       "## Failed papers"
      ],
      "text/plain": [
       "<IPython.core.display.Markdown object>"
      ]
     },
     "metadata": {},
     "output_type": "display_data"
    },
    {
     "data": {
      "text/markdown": [
       "\n",
       "|||\n",
       "|---:|:---|\n",
       "| [![arXiv](https://img.shields.io/badge/arXiv-arXiv:2209.13618-b31b1b.svg)](https://arxiv.org/abs/arXiv:2209.13618) | **The need for multicomponent dust attenuation in modeling nebular  emission: constraints from SDSS-IV MaNGA**  |\n",
       "|| Xihan Ji, et al. -- incl., <mark>Cheng Li</mark> |\n",
       "|*Appeared on*| *2022-09-29*|\n",
       "|*Comments*| *26 pages, 17 figures, submitted to A&A*|\n",
       "|**Abstract**| A fundamental assumption adopted in nearly every extragalactic emission-line study is that the attenuation of different emission lines can be described by a single attenuation curve. Here we show this assumption fails in many cases with important implications for derived results. We developed a new method to measure the differential nebular attenuation among three kinds of transitions: the Balmer lines of hydrogen, high-ionization transitions, and low-ionization transitions. This method bins the observed data in a multidimensional space spanned by attenuation-insensitive line ratios. Within each small bin, the variations in line ratios are mainly driven by the variations in the nebular attenuation. This allows us to measure the nebular attenuation using both forbidden lines and Balmer lines. We applied this method to a sample of 2.4 million H II region spaxels from SDSS-IV MaNGA. We found that the attenuation of high ionization lines and Balmer lines can be well described by a single Fitzpatrick (1999) extinction curve with $R_V=3.1$. However, no single attenuation curve can simultaneously account for all three transitions. This strongly suggests that different lines have different effective attenuations, likely because spectroscopy at kilo-parsecs resolution mixes multiple regions with different intrinsic line ratios and different levels of attenuation. As a result, the assumption that different lines follow the same attenuation curve breaks down. Using a single attenuation curve determined by Balmer lines to correct attenuation-sensitive forbidden line ratios could bias the nebular parameters derived by 0.06--0.25 dex at $A_V = 1$, depending on the details of the dust attenuation model. Observations of a statistically large sample of H II regions with high spatial resolutions and large spectral coverage are vital for improved modeling and deriving accurate corrections for this effect. |\n",
       "|<p style=\"color:green\"> **ERROR** </p>| <p style=\"color:green\">affiliation error: mpia.affiliation_verifications: '69117' keyword not found.</p> |"
      ],
      "text/plain": [
       "<IPython.core.display.Markdown object>"
      ]
     },
     "metadata": {},
     "output_type": "display_data"
    },
    {
     "data": {
      "text/markdown": [
       "\n",
       "|||\n",
       "|---:|:---|\n",
       "| [![arXiv](https://img.shields.io/badge/arXiv-arXiv:2209.14166-b31b1b.svg)](https://arxiv.org/abs/arXiv:2209.14166) | **Colour gradients of low-redshift galaxies in the DESI Legacy Imaging  Survey**  |\n",
       "|| <mark>Li-Wen Liao</mark>, Andrew Cooper |\n",
       "|*Appeared on*| *2022-09-29*|\n",
       "|*Comments*| *26 pages, 26 figures, Submitted to MNRAS*|\n",
       "|**Abstract**| Radial colour gradients within galaxies arise from gradients of stellar age, metallicity and dust reddening. Large samples of colour gradients from wide-area imaging surveys can complement smaller integral-field spectroscopy datasets and can be used to constrain galaxy formation models. Here we measure colour gradients for low-redshift galaxies (z<0.1) using photometry from the DESI Legacy Imaging Survey DR9. Our sample comprises ~93,000 galaxies with spectroscopic redshifts and ~574,000 galaxies with photometric redshifts. We focus on gradients across a radial range 0.5 Re to Re, which corresponds to the inner disk of typical late type systems at low redshift. This region has been the focus of previous statistical studies of colour gradients and has recently been explored by spectroscopic surveys such as MaNGA. We find the colour gradients of most galaxies in our sample are negative (redder towards the centre), consistent with the literature. We investigate empirical relationships between colour gradient, average $g-r$ and $r-z$ colour, $M_r$, $M_\\star$, and sSFR. Trends of gradient strength with $M_r$ ($M_\\star$) show an inflection around $M_r\\sim-21$ ($\\log_{10} \\, M_\\star/\\mathrm{M_\\odot}\\sim10.5$). Below this mass, colour gradients become steeper with increasing $M_\\star$, whereas colour gradients in more massive galaxies become shallower. We find that positive gradients (bluer stars at smaller radii) are typical for galaxies of $M_{\\star}\\sim10^{8}\\,\\mathrm{M_\\odot}$. We compare our results to age and metallicity gradients in two datasets derived from fits of different stellar population libraries to MaNGA spectra, but find no clear consensus explanation for the trends we observe. Both MaNGA datasets seem to imply a significant contribution from dust reddening, in particular, to explain the flatness of colour gradients along the red sequence. |\n",
       "|<p style=\"color:green\"> **ERROR** </p>| <p style=\"color:green\">affiliation error: mpia.affiliation_verifications: '69117' keyword not found.</p> |"
      ],
      "text/plain": [
       "<IPython.core.display.Markdown object>"
      ]
     },
     "metadata": {},
     "output_type": "display_data"
    },
    {
     "data": {
      "text/markdown": [
       "\n",
       "|||\n",
       "|---:|:---|\n",
       "| [![arXiv](https://img.shields.io/badge/arXiv-arXiv:2209.13651-b31b1b.svg)](https://arxiv.org/abs/arXiv:2209.13651) | **Validation of TOI-1221 b, a warm sub-Neptune exhibiting TTVs around a  Sun-like star**  |\n",
       "|| Christopher R. Mann, et al. -- incl., <mark>Carl Ziegler</mark>, <mark>Coel Hellier</mark>, <mark>Guillermo Torres</mark>, <mark>Richard P. Schwarz</mark> |\n",
       "|*Appeared on*| *2022-09-29*|\n",
       "|*Comments*| *13 pages, 11 figures, 5 tables*|\n",
       "|**Abstract**| We present a successful validation of the long-period ($91.68278^{+0.00032}_{-0.00041}$ days) transiting sub-Neptune planet TOI-1221 b (TIC 349095149.01) around a Sun-like (m$_{\\rm V}$=10.5) star. We combine {\\it TESS} light curve measurements and ground-based time-series photometry from PEST (0.3~m) and LCOGT (1.0~m) to analyze the transit light curves and rule out nearby stars as potential eclipsing binary contaminants. High-contrast imaging from SOAR and Gemini/Zorro rule out nearby stellar contaminants down to $\\Delta$mag = 5 at separation $r = 0.1\"$. Reconnaissance spectroscopy from CHIRON sets a planetary upper limit on the mass of the object (1.1 and 3.5 M$_{\\rm Jup}$ at 1$\\sigma$ and 3$\\sigma$, respectively) and shows no sign of a spectroscopic binary companion. We fit a planetary radius $R_{\\rm p}/R_\\star=0.02679^{+0.00067}_{-0.00056}$ corresponding to $R_{\\rm p} = 2.91^{+0.13}_{-0.12} R_{\\oplus}$, placing it in the sub-Neptune regime. It's orbital semi-major axis of $a=0.404^{+0.026}_{-0.023}$ au predicts an insolation of $S = 5.57^{+0.75}_{-0.68}\\ S_{\\oplus}$, suggesting a moderate equilibrium temperature of $T_{\\rm eq} =$ 400 K given a Neptune-like model. In analyzing 8 transits, we find significant evidence (> $5\\sigma$) of sinusoidal transit timing variations with amplitude of $23.0^{+5.2}_{-4.1}$ minutes, and a super-period of $485^{+15}_{-19}$ days. We find a false positive probability from TRICERATOPS of FPP $ = 0.0014 \\pm 0.0003$ as well as other qualitative and quantitative evidence to support the statistical validation of TOI-1221 b. |\n",
       "|<p style=\"color:green\"> **ERROR** </p>| <p style=\"color:green\">affiliation error: mpia.affiliation_verifications: 'Heidelberg' keyword not found.</p> |"
      ],
      "text/plain": [
       "<IPython.core.display.Markdown object>"
      ]
     },
     "metadata": {},
     "output_type": "display_data"
    },
    {
     "data": {
      "text/markdown": [
       "\n",
       "|||\n",
       "|---:|:---|\n",
       "| [![arXiv](https://img.shields.io/badge/arXiv-arXiv:2209.13668-b31b1b.svg)](https://arxiv.org/abs/arXiv:2209.13668) | **M33 Cepheids from CFHT/MegaCAM survey**  |\n",
       "|| Samuel Adair, <mark>Chien-Hsiu Lee</mark> |\n",
       "|*Appeared on*| *2022-09-29*|\n",
       "|*Comments*| *12 pages, 7 figures, 3 tables. Submitted to AAS journal. Revision after referee report*|\n",
       "|**Abstract**| In this paper we analyze Sloan g,r,i archival imaging data of M33 taken by Hartman et al. (2006) using Megacam at the Canada-France-Hawaii Telescope. To determine the distance to the M33 galaxy, we performed several analytical steps to identify its Cepheid population. We used the Lomb-Scargle algorithm to find periodicity and visually identified 1989 periodic variable stars. Since Cepheids occupy a specific region of the color-magnitude diagram, to differentiate Cepheids from other variables we used the expected position of the Cepheid instability strip to down-select Cepheids in M33 from other variables. This led to our sample of 1622 variables, the largest Cepheid sample known in M33 to date. We further classified these Cepheids into different subclasses, and used the fundamental mode Cepheids to estimate distance moduli for M33 in different filters: {\\mu}= 25.044+/-0.083 mag in the g filter, {\\mu}= 24.886+/-0.074 mag in the r filter, and {\\mu}= 24.785+/-0.068 mag for the i filter. These results are in agreement with previous results. |\n",
       "|<p style=\"color:green\"> **ERROR** </p>| <p style=\"color:green\">affiliation error: mpia.affiliation_verifications: 'Heidelberg' keyword not found.</p> |"
      ],
      "text/plain": [
       "<IPython.core.display.Markdown object>"
      ]
     },
     "metadata": {},
     "output_type": "display_data"
    },
    {
     "data": {
      "text/markdown": [
       "\n",
       "|||\n",
       "|---:|:---|\n",
       "| [![arXiv](https://img.shields.io/badge/arXiv-arXiv:2209.13722-b31b1b.svg)](https://arxiv.org/abs/arXiv:2209.13722) | **QU Vul: An Integral Field Spectroscopy Case Study of a Nova Shell**  |\n",
       "|| E. Santamaría, et al. -- incl., <mark>G. Ramos-Larios</mark> |\n",
       "|*Appeared on*| *2022-09-29*|\n",
       "|*Comments*| *10 pages, 6 figures*|\n",
       "|**Abstract**| We present GTC MEGARA high-dispersion integral field spectroscopic observations of the nova remnant QU\\,Vul, which provide a comprehensive 3D view of this nova shell. The tomographic analysis of the H$\\alpha$ emission reveals a complex physical structure characterized by an inhomogeneous and clumpy distribution of the material within this shell. The overall structure can be described as a prolate ellipsoid with an axial ratio of 1.4$\\pm$0.2, a major axis inclination with the line of sight of $12^{\\circ}\\pm6^{\\circ}$, and polar and equatorial expansion velocities $\\approx$560 km~s$^{-1}$ and 400$\\pm$60 km s$^{-1}$, respectively. The comparison of the expansion velocity on the plane of the sky with the angular expansion implies a distance of 1.43$\\pm$0.23 kpc. The ionized mass is found to be $\\approx 2\\times 10^{-4}$ M$_\\odot$, noting that the information on the 3D distribution of material within the nova shell has allowed us to reduce the uncertainty on its filling factor. The nova shell is still in its free expansion phase, which can be expected as the ejecta mass is much larger than the swept-up circumstellar medium mass. The 3D distribution and radial velocity of material within the nova shell provide an interpretation of the so-called \"castellated\" line profiles observed in early optical spectra of nova shells, which can be attributed to knots and clumps moving radially along different directions. |\n",
       "|<p style=\"color:green\"> **ERROR** </p>| <p style=\"color:green\">affiliation error: mpia.affiliation_verifications: 'Heidelberg' keyword not found.</p> |"
      ],
      "text/plain": [
       "<IPython.core.display.Markdown object>"
      ]
     },
     "metadata": {},
     "output_type": "display_data"
    },
    {
     "data": {
      "text/markdown": [
       "\n",
       "|||\n",
       "|---:|:---|\n",
       "| [![arXiv](https://img.shields.io/badge/arXiv-arXiv:2209.13779-b31b1b.svg)](https://arxiv.org/abs/arXiv:2209.13779) | **Solar Flare Index Prediction Using SDO/HMI Vector Magnetic Data Products  with Statistical and Machine Learning Methods**  |\n",
       "|| <mark>Hewei Zhang</mark>, et al. -- incl., <mark>Qin Li</mark> |\n",
       "|*Appeared on*| *2022-09-29*|\n",
       "|*Comments*| **|\n",
       "|**Abstract**| Solar flares, especially the M- and X-class flares, are often associated with coronal mass ejections (CMEs). They are the most important sources of space weather effects, that can severely impact the near-Earth environment. Thus it is essential to forecast flares (especially the M-and X-class ones) to mitigate their destructive and hazardous consequences. Here, we introduce several statistical and Machine Learning approaches to the prediction of the AR's Flare Index (FI) that quantifies the flare productivity of an AR by taking into account the numbers of different class flares within a certain time interval. Specifically, our sample includes 563 ARs appeared on solar disk from May 2010 to Dec 2017. The 25 magnetic parameters, provided by the Space-weather HMI Active Region Patches (SHARP) from Helioseismic and Magnetic Imager (HMI) on board the Solar Dynamics Observatory (SDO), characterize coronal magnetic energy stored in ARs by proxy and are used as the predictors. We investigate the relationship between these SHARP parameters and the FI of ARs with a machine-learning algorithm (spline regression) and the resampling method (Synthetic Minority Over-Sampling Technique for Regression with Gaussian Noise, short by SMOGN). Based on the established relationship, we are able to predict the value of FIs for a given AR within the next 1-day period. Compared with other 4 popular machine learning algorithms, our methods improve the accuracy of FI prediction, especially for large FI. In addition, we sort the importance of SHARP parameters by Borda Count method calculated from the ranks that are rendered by 9 different machine learning methods. |\n",
       "|<p style=\"color:green\"> **ERROR** </p>| <p style=\"color:green\">affiliation error: mpia.affiliation_verifications: 'Heidelberg' keyword not found.</p> |"
      ],
      "text/plain": [
       "<IPython.core.display.Markdown object>"
      ]
     },
     "metadata": {},
     "output_type": "display_data"
    },
    {
     "data": {
      "text/markdown": [
       "\n",
       "|||\n",
       "|---:|:---|\n",
       "| [![arXiv](https://img.shields.io/badge/arXiv-arXiv:2209.13889-b31b1b.svg)](https://arxiv.org/abs/arXiv:2209.13889) | **A long-period pre-ELM system discovered from LAMOST medium-resolution  survey**  |\n",
       "|| <mark>Zhi-Xiang Zhang</mark>, et al. -- incl., <mark>Ling-Lin Zheng</mark>, <mark>Zhong-Rui Bai</mark>, <mark>Hao-Tong Zhang</mark>, <mark>Xiang-Dong Li</mark>, <mark>Chunqian Li</mark>, <mark>Jifeng Liu</mark> |\n",
       "|*Appeared on*| *2022-09-29*|\n",
       "|*Comments*| *25 pages, 13 figures, ApJ, 933, 193*|\n",
       "|**Abstract**| We present LAMOST~J041920.07+072545.4 (hereafter J0419), a close binary consisting of a bloated extremely low mass pre-white dwarf (pre-ELM WD) and a compact object with an orbital period of 0.607189~days. The large-amplitude ellipsoidal variations and the evident Balmer and He~I emission lines suggest a filled Roche lobe and ongoing mass transfer. No outburst events were detected in the 15 years of monitoring of J0419, indicating a very low mass transfer rate. The temperature of the pre-ELM, $T_\\mathrm{eff} = 5793_{-133}^{+124}\\,\\rm K$, is cooler than the known ELMs, but hotter than most CV donors. Combining the mean density within the Roche lobe and the radius constrained from our SED fitting, we obtain the mass of the pre-ELM, $M_1 = 0.176\\pm 0.014\\,M_\\odot$. The joint fitting of light and radial velocity curves yields an inclination angle of $i = 66.5_{-1.7}^{+1.4}$ degrees, corresponding to the compact object mass of $M_2 = 1.09\\pm 0.05\\,M_\\odot$. The very bloated pre-ELM has a smaller surface gravity ($\\log g = 3.9\\pm 0.01$, $R_1 = 0.78 \\pm 0.02\\,R_\\odot$) than the known ELMs or pre-ELMs. The temperature and the luminosity ($L_\\mathrm{bol} = 0.62_{-0.10}^{+0.11}\\,L_\\odot$) of J0419 are close to the main sequence, which makes the selection of such systems through the HR diagram inefficient. Based on the evolutionary model, the relatively long period and small $\\log g$ indicate that J0419 could be close to the \"bifurcation period\" in the orbit evolution, which makes J0419 to be a unique source to connect ELM/pre-ELM WD systems, wide binaries and cataclysmic variables. |\n",
       "|<p style=\"color:green\"> **ERROR** </p>| <p style=\"color:green\">affiliation error: mpia.affiliation_verifications: 'Heidelberg' keyword not found.</p> |"
      ],
      "text/plain": [
       "<IPython.core.display.Markdown object>"
      ]
     },
     "metadata": {},
     "output_type": "display_data"
    },
    {
     "data": {
      "text/markdown": [
       "\n",
       "|||\n",
       "|---:|:---|\n",
       "| [![arXiv](https://img.shields.io/badge/arXiv-arXiv:2209.13924-b31b1b.svg)](https://arxiv.org/abs/arXiv:2209.13924) | **A White Dwarf-Main Sequence Binary Unveiled by Time-Domain Observations  from LAMOST and TESS**  |\n",
       "|| <mark>Ling-Lin Zheng</mark>, et al. -- incl., <mark>Zhixiang Zhang</mark>, <mark>Liang Wang</mark>, <mark>Zhongrui Bai</mark>, <mark>Haotong Zhang</mark>, <mark>Chun-Qian Li</mark>, <mark>Jifeng Liu</mark> |\n",
       "|*Appeared on*| *2022-09-29*|\n",
       "|*Comments*| *15 pages, 6 figures, ApJ, 936, 33*|\n",
       "|**Abstract**| We report a single-lined white dwarf-main sequence binary system, LAMOST J172900.17+652952.8, which is discovered by LAMOST's medium resolution time-domain surveys. The radial velocity semi-amplitude and orbital period of the optical visible star are measured by using the Palomar 200-inch telescope follow-up observations and the light curves from TESS. Thus the mass function of the invisible candidate white dwarf is derived, $f(M_{\\rm{2}}) = 0.120\\,\\pm\\,0.003\\,M_{\\odot}$. The mass of the visible star is measured based on the spectral energy distribution fitting, $M_{\\mathrm{1}}$ = $0.81^{+0.07}_{-0.06}\\,M_{\\odot}$. Hence, the mass of its invisible companion is $M_{\\rm{2}}\\,\\gtrsim\\,0.63\\,M_{\\odot}$. The companion ought to be a compact object rather than a main-sequence star owing to the mass ratio $q = M_{\\rm{2}} / M_{\\rm 1} \\gtrsim 0.78$ and the single-lined spectra. The compact object is likely to be a white dwarf except for small inclination angle, $i\\,\\lesssim\\,40^{\\circ}$. By using the GALEX NUV flux, the effective temperature of the white dwarf candidate is constrained as $T_{\\rm eff}^{\\rm WD}\\,\\lesssim\\,12000-13500$ K. It is difficult to detect white dwarfs which are outshone by their bright companions via single-epoch optical spectroscopic surveys. Therefore, the optical time-domain surveys can play an important role in unveiling invisible white dwarfs and other compact objects in binaries. |\n",
       "|<p style=\"color:green\"> **ERROR** </p>| <p style=\"color:green\">affiliation error: mpia.affiliation_verifications: 'Heidelberg' keyword not found.</p> |"
      ],
      "text/plain": [
       "<IPython.core.display.Markdown object>"
      ]
     },
     "metadata": {},
     "output_type": "display_data"
    },
    {
     "data": {
      "text/markdown": [
       "\n",
       "|||\n",
       "|---:|:---|\n",
       "| [![arXiv](https://img.shields.io/badge/arXiv-arXiv:2209.13967-b31b1b.svg)](https://arxiv.org/abs/arXiv:2209.13967) | **Calibration-based abundances in the interstellar gas of galaxies from  slit and IFU spectra**  |\n",
       "|| Pilyugin L.S., et al. -- incl., <mark>Lara-Lopez M.A.</mark> |\n",
       "|*Appeared on*| *2022-09-29*|\n",
       "|*Comments*| *15 pages, 14 figures, accepted to the Astronomy and Astrophysics*|\n",
       "|**Abstract**| In this work we make use of available Integral Field Unit (IFU) spectroscopy and slit spectra of several nearby galaxies. The pre-existing empirical R and S calibrations for abundance determinations are constructed using a sample of HII regions with high quality slit spectra. In this paper, we test the applicability of those calibrations to the IFU spectra. We estimate the calibration-based abundances obtained using both the IFU and the slit spectroscopy for eight nearby galaxies. The median values of the slit and IFU spectra-based abundances in bins of 0.1 in fractional radius Rg (normalized to the optical radius) of a galaxy are determined and compared. We find that the IFU and the slit spectra-based abundances obtained through the R calibration are close to each other, the mean value of the differences of abundances is 0.005 dex and the scatter in the differences is 0.037 dex for 38 datapoints. The S calibration can produce systematically underestimated values of the IFU spectra-based abundances at high metallicities, the mean value of the differences is -0.059 dex for 21 datapoints, while at lower metallicities the mean value of the differences is -0.018 dex and the scatter is 0.045 dex for 36 data points. This evidences that the R calibration produces more consistent abundance estimations between the slit and the IFU spectra than the S calibration. We find that the same calibration can produce close estimations of the abundances using IFU spectra obtained with different spatial resolution and different spatial samplings. This is in line with the recent finding that the contribution of the diffuse ionized gas to the large aperture spectra of HII regions has a secondary effect. |\n",
       "|<p style=\"color:green\"> **ERROR** </p>| <p style=\"color:green\">affiliation error: mpia.affiliation_verifications: 'Heidelberg' keyword not found.</p> |"
      ],
      "text/plain": [
       "<IPython.core.display.Markdown object>"
      ]
     },
     "metadata": {},
     "output_type": "display_data"
    },
    {
     "data": {
      "text/markdown": [
       "\n",
       "|||\n",
       "|---:|:---|\n",
       "| [![arXiv](https://img.shields.io/badge/arXiv-arXiv:2209.14004-b31b1b.svg)](https://arxiv.org/abs/arXiv:2209.14004) | **On the Use of Field RR Lyrae as Galactic Probes. VI. Mixed mode RR Lyrae  variables in Fornax and in nearby dwarf galaxies**  |\n",
       "|| V.F. Braga, et al. -- incl., <mark>C.E. Martínez-Vázquez</mark> |\n",
       "|*Appeared on*| *2022-09-29*|\n",
       "|*Comments*| *Accepted for publication by MNRAS*|\n",
       "|**Abstract**| We investigate the properties of the mixed-mode (RRd) RR Lyrae (RRL) variables in the Fornax dwarf spheroidal (dSph) galaxy by using $B$- and $V$-band time series collected over twenty-four years. We compare the properties of the RRds in Fornax with those in the Magellanic Clouds and in nearby dSphs, with special focus on Sculptor. We found that the ratio of RRds over the total number of RRLs decreases with metallicity. Typically, dSphs have very few RRds with 0.49$\\ltsim P_0 \\ltsim $0.53 days, but Fornax fills this period gap in the Petersen diagram (ratio between first overtone over fundamental period versus fundamental period). We also found that the distribution in the Petersen diagram of Fornax RRds is similar to SMC RRds, thus suggesting that their old stars have a similar metallicity distribution. We introduce the Period-Amplitude RatioS (PARS) diagram, a new pulsation diagnostics independent of distance and reddening. We found that LMC RRds in this plane are distributed along a short- and a long-period sequence that we identified as the metal-rich and the metal-poor component. These two groups are also clearly separated in the Petersen and Bailey (luminosity amplitude versus logarithmic period) diagrams. These circumstantial evidence indicates that the two groups have different evolutionary properties. All the pulsation diagnostics adopted in this investigation suggest that old stellar populations in Fornax and Sculptor dSphs underwent different chemical enrichment histories. Fornax RRds are similar to SMC RRds, while Sculptor RRds are more similar to the metal-rich component of the LMC RRds. |\n",
       "|<p style=\"color:green\"> **ERROR** </p>| <p style=\"color:green\">affiliation error: mpia.affiliation_verifications: 'Heidelberg' keyword not found.</p> |"
      ],
      "text/plain": [
       "<IPython.core.display.Markdown object>"
      ]
     },
     "metadata": {},
     "output_type": "display_data"
    },
    {
     "data": {
      "text/markdown": [
       "\n",
       "|||\n",
       "|---:|:---|\n",
       "| [![arXiv](https://img.shields.io/badge/arXiv-arXiv:2209.14023-b31b1b.svg)](https://arxiv.org/abs/arXiv:2209.14023) | **Compact Object Candidates with K/M-dwarf Companions from LAMOST  Low-resolution Survey**  |\n",
       "|| Hui-Jun Mu, et al. -- incl., <mark>Ling-Lin Zheng</mark>, <mark>Zhong-Rui Bai</mark>, <mark>Hao-Tong Zhang</mark>, <mark>Cheng-Ming Li</mark> |\n",
       "|*Appeared on*| *2022-09-29*|\n",
       "|*Comments*| *20 pages, 7 figures, 4 tables, Science China Physics, Mechanics & Astronomy, Vol.65 No.2:229711*|\n",
       "|**Abstract**| Searching for compact objects (black holes, neutron stars, or white dwarfs) in the Milky Way is essential for understanding the stellar evolution history, the physics of compact objects, and the structure of our Galaxy. Compact objects in binaries with a luminous stellar companion are perfect targets for optical observations. Candidate compact objects can be achieved by monitoring the radial velocities of the companion star. However, most of the spectroscopic telescopes usually obtain stellar spectra at a relatively low efficiency, which makes a sky survey for millions of stars practically impossible. The efficiency of a large-scale spectroscopic survey, the Large Sky Area Multi-Object Fiber Spectroscopy Telescope (LAMOST), presents a specific opportunity to search for compact object candidates, i.e., simply from the spectroscopic observations. Late-type K/M stars are the most abundant populations in our Galaxy. Owing to the relatively large Keplerian velocities in the close binaries with a K/M-dwarf companion, a hidden compact object could be discovered and followed-up more easily. In this study, compact object candidates with K/M-dwarf companions are investigated with the LAMOST low-resolution stellar spectra. Based on the LAMOST Data Release 5, we obtained a sample of $56$ binaries, each containing a K/M-dwarf with a large radial velocity variation $\\Delta V_{\\rm R} > 150~{\\rm km~s}^{-1}$. Complemented with the photometric information from the Transiting Exoplanet Survey Satellite, we derived a sample of $35$ compact object candidates, among which, the orbital periods of $16$ sources were revealed by the light curves. Considering two sources as examples, we confirmed that a compact object existed in the two systems by fitting the radial velocity curve. This study demonstrates the principle and the power of searching for compact objects through LAMOST. |\n",
       "|<p style=\"color:green\"> **ERROR** </p>| <p style=\"color:green\">affiliation error: mpia.affiliation_verifications: 'Heidelberg' keyword not found.</p> |"
      ],
      "text/plain": [
       "<IPython.core.display.Markdown object>"
      ]
     },
     "metadata": {},
     "output_type": "display_data"
    },
    {
     "data": {
      "text/markdown": [
       "\n",
       "|||\n",
       "|---:|:---|\n",
       "| [![arXiv](https://img.shields.io/badge/arXiv-arXiv:2209.14037-b31b1b.svg)](https://arxiv.org/abs/arXiv:2209.14037) | **Reduced late bombardment on rocky exoplanets around M-dwarfs**  |\n",
       "|| <mark>Tim Lichtenberg</mark>, Matthew S. Clement |\n",
       "|*Appeared on*| *2022-09-29*|\n",
       "|*Comments*| *17 pages, 3 figures, 1 table; accepted for publication in ApJL*|\n",
       "|**Abstract**| Ocean-vaporizing impacts of chemically reduced planetesimals onto the early Earth have been suggested to catalyse atmospheric production of reduced nitrogen compounds and trigger prebiotic synthesis despite an oxidized lithosphere. While geochemical evidence supports a dry, highly reduced late veneer on Earth, the composition of late-impacting debris around lower-mass stars is subject to variable volatile loss as a result of their hosts' extended pre-main sequence phase. We perform simulations of late-stage planet formation across the M-dwarf mass spectrum to derive upper limits on reducing bombardment epochs in Hadean analog environments. We contrast the Solar System scenario with varying initial volatile distributions due to extended primordial runaway greenhouse phases on protoplanets and desiccation of smaller planetesimals by internal radiogenic heating. We find a decreasing rate of late-accreting reducing impacts with decreasing stellar mass. Young planets around stars $\\leq$ 0.4 $M_\\odot$ experience no impacts of sufficient mass to generate prebiotically relevant concentrations of reduced atmospheric compounds once their stars have reached the main sequence. For M-dwarf planets to not exceed Earth-like concentrations of volatiles, both planetesimals and larger protoplanets must undergo extensive devolatilization processes and can typically emerge from long-lived magma ocean phases with sufficient atmophile content to outgas secondary atmospheres. Our results suggest that transiently reducing surface conditions on young rocky exoplanets are favoured around FGK- stellar types relative to M-dwarfs. |\n",
       "|<p style=\"color:green\"> **ERROR** </p>| <p style=\"color:green\">affiliation error: mpia.affiliation_verifications: 'Heidelberg' keyword not found.</p> |"
      ],
      "text/plain": [
       "<IPython.core.display.Markdown object>"
      ]
     },
     "metadata": {},
     "output_type": "display_data"
    },
    {
     "data": {
      "text/markdown": [
       "\n",
       "|||\n",
       "|---:|:---|\n",
       "| [![arXiv](https://img.shields.io/badge/arXiv-arXiv:2209.14054-b31b1b.svg)](https://arxiv.org/abs/arXiv:2209.14054) | **Quantifying the global \"CMB tension\" between the Atacama Cosmology  Telescope and the Planck satellite in extended models of cosmology**  |\n",
       "|| Eleonora Di Valentino, William Giarè, Alessandro Melchiorri, <mark>Joseph Silk</mark> |\n",
       "|*Appeared on*| *2022-09-29*|\n",
       "|*Comments*| *8 pages, 1 figure, 2 tables*|\n",
       "|**Abstract**| We study the global agreement between the most recent observations of the Cosmic Microwave Background temperature and polarization anisotropies angular power spectra released by the Atacama Cosmology Telescope and the Planck satellite in various cosmological models that differ by the inclusion of different combinations of additional parameters. By using the Suspiciousness statistic, we show that the global \"CMB tension\" between the two experiments, quantified at the Gaussian equivalent level of $\\sim 2.5\\,\\sigma$ within the baseline $\\Lambda$CDM, is reduced at the level of $1.8\\sigma$ when the effective number of relativistic particles ($N_{\\rm eff}$) is significantly less than the standard value, while it ranges between $2.3\\,\\sigma$ and $3.5\\,\\sigma$ in all the other extended models. |\n",
       "|<p style=\"color:green\"> **ERROR** </p>| <p style=\"color:green\">affiliation error: mpia.affiliation_verifications: 'Heidelberg' keyword not found.</p> |"
      ],
      "text/plain": [
       "<IPython.core.display.Markdown object>"
      ]
     },
     "metadata": {},
     "output_type": "display_data"
    },
    {
     "data": {
      "text/markdown": [
       "\n",
       "|||\n",
       "|---:|:---|\n",
       "| [![arXiv](https://img.shields.io/badge/arXiv-arXiv:2209.14059-b31b1b.svg)](https://arxiv.org/abs/arXiv:2209.14059) | **Interstellar scintillation and polarization of PSR B0656+14 in the  Monogem Ring**  |\n",
       "|| Jumei Yao, et al. -- incl., <mark>Michael Kramer</mark>, <mark>Di Li</mark> |\n",
       "|*Appeared on*| *2022-09-29*|\n",
       "|*Comments*| *21 pages, 11 figures, accepted for publication in the Astronomical Journal*|\n",
       "|**Abstract**| High sensitivity interstellar scintillation and polarization observations of PSR~B0656+14 made at three epochs over a year using the Five-hundred-meter Aperture Spherical radio Telescope (FAST) show that the scattering is dominated by two different compact regions. We identify the one nearer to the pulsar with the shell of the Monogem Ring, thereby confirming the association. The other is probably associated with the Local Bubble. We find that the observed position angles of the pulsar spin axis and the space velocity are significantly different, with a separation of $19\\fdg3\\pm$0\\fdg8, inconsistent with a previously published near-perfect alignment of $1\\degr\\pm 2\\degr$. The two independent scattering regions are clearly defined in the secondary spectra which show two strong forward parabolic arcs. The arc curvatures imply that the scattering screens corresponding to the outer and inner arcs are located approximately 28~pc from PSR B0656+14 and 185~pc from the Earth, respectively. Comparison of the observed Doppler profiles with electromagnetic simulations shows that both scattering regions are mildly anisotropic. For the outer arc, we estimate the anisotropy $A_R$ to be approximately 1.3, with the scattering irregularities aligned parallel to the pulsar velocity. For the outer arc, we compare the observed delay profiles with delay profiles computed from a theoretical strong-scattering model. Our results suggest that the spatial spectrum of the scattering irregularities in the Monogem Ring is flatter than Kolmogorov, but further observations are required to confirm this. |\n",
       "|<p style=\"color:green\"> **ERROR** </p>| <p style=\"color:green\">affiliation error: mpia.affiliation_verifications: 'Heidelberg' keyword not found.</p> |"
      ],
      "text/plain": [
       "<IPython.core.display.Markdown object>"
      ]
     },
     "metadata": {},
     "output_type": "display_data"
    },
    {
     "data": {
      "text/markdown": [
       "\n",
       "|||\n",
       "|---:|:---|\n",
       "| [![arXiv](https://img.shields.io/badge/arXiv-arXiv:2209.14113-b31b1b.svg)](https://arxiv.org/abs/arXiv:2209.14113) | **Improving ANAIS-112 sensitivity to DAMA/LIBRA signal with machine  learning techniques**  |\n",
       "|| I. Coarasa, et al. -- incl., <mark>P. Villar</mark> |\n",
       "|*Appeared on*| *2022-09-29*|\n",
       "|*Comments*| **|\n",
       "|**Abstract**| The DAMA/LIBRA observation of an annual modulation in the detection rate compatible with that expected for dark matter particles from the galactic halo has accumulated evidence for more than twenty years. It is the only hint of a direct detection of the elusive dark matter, but it is in strong tension with the negative results of other very sensitive experiments, requiring ad-hoc scenarios to reconcile all the present experimental results. Testing the DAMA/LIBRA result using the same target material, NaI(Tl), removes the dependence on the particle and halo models and is the goal of the ANAIS-112 experiment, taking data at the Canfranc Underground Laboratory in Spain since August 2017 with 112.5 kg of NaI(Tl). At very low energies, the detection rate is dominated by non-bulk scintillation events and careful event selection is mandatory. This article summarizes the efforts devoted to better characterize and filter this contribution in ANAIS-112 data using a boosted decision tree (BDT), trained for this goal with high efficiency. We report on the selection of the training populations, the procedure to determine the optimal cut on the BDT parameter, the estimate of the efficiencies for the selection of bulk scintillation in the region of interest (ROI), and the evaluation of the performance of this analysis with respect to the previous filtering. The improvement achieved in background rejection in the ROI, but moreover, the increase in detection efficiency, push the ANAIS-112 sensitivity to test the DAMA/LIBRA annual modulation result beyond 3$\\sigma$ with three-year exposure, being possible to reach 5$\\sigma$ by extending the data taking for a few more years than the scheduled 5 years which were due in August 2022. |\n",
       "|<p style=\"color:green\"> **ERROR** </p>| <p style=\"color:green\">affiliation error: mpia.affiliation_verifications: 'Heidelberg' keyword not found.</p> |"
      ],
      "text/plain": [
       "<IPython.core.display.Markdown object>"
      ]
     },
     "metadata": {},
     "output_type": "display_data"
    },
    {
     "data": {
      "text/markdown": [
       "\n",
       "|||\n",
       "|---:|:---|\n",
       "| [![arXiv](https://img.shields.io/badge/arXiv-arXiv:2209.14159-b31b1b.svg)](https://arxiv.org/abs/arXiv:2209.14159) | **Spiral Arms are Metal Freeways: Azimuthal Gas-Phase Metallicity  Variations in Simulated Cosmological Zoom-in Flocculent Disks**  |\n",
       "|| Matthew E. Orr, et al. -- incl., <mark>Andrew Wetzel</mark> |\n",
       "|*Appeared on*| *2022-09-29*|\n",
       "|*Comments*| *16 Pages, 14 Figures, submitted to MNRAS*|\n",
       "|**Abstract**| We examine the azimuthal variations in gas-phase metallicity profiles in simulated Milky Way mass disk galaxies from the Feedback in Realistic Environments (FIRE-2) cosmological zoom-in simulation suite, which includes a sub-grid turbulent metal mixing model. We produce spatially resolved maps of the disks at $z \\approx 0$ with pixel sizes ranging from 250 to 750~pc, analogous to modern integral field unit (IFU) galaxy surveys, mapping the gas-phase metallicities in both the cold & dense gas and the ionized gas correlated with HII regions. We report that the spiral arms alternate in a pattern of metal rich and metal poor relative to the median metallicity on the order of $\\lesssim 0.1$~dex, appearing generally in this sample of flocculent spirals. The pattern persists even in a simulation with different strengths of metal mixing, indicating that the pattern emerges from physics above the sub-grid scale. Local enrichment does not appear to be the dominant source of the azimuthal metallicity variations at $z \\approx 0$: there is no correlation with local star formation on these spatial scales. Rather, the arms are moving inwards and outwards relative to each other, carrying their local metallicity gradients with them radially before mixing into the larger-scale interstellar medium. We propose that the arms act as freeways channeling relatively metal poor gas radially inwards, and relatively enriched gas radially outwards. |\n",
       "|<p style=\"color:green\"> **ERROR** </p>| <p style=\"color:green\">affiliation error: mpia.affiliation_verifications: 'Heidelberg' keyword not found.</p> |"
      ],
      "text/plain": [
       "<IPython.core.display.Markdown object>"
      ]
     },
     "metadata": {},
     "output_type": "display_data"
    },
    {
     "data": {
      "text/markdown": [
       "\n",
       "|||\n",
       "|---:|:---|\n",
       "| [![arXiv](https://img.shields.io/badge/arXiv-arXiv:2209.14226-b31b1b.svg)](https://arxiv.org/abs/arXiv:2209.14226) | **Radio source-component association for the LOFAR Two-metre Sky Survey  with region-based convolutional neural networks**  |\n",
       "|| Rafaël I.J. Mostert, et al. -- incl., <mark>Lara Alegre</mark>, <mark>Wendy L. Williams</mark> |\n",
       "|*Appeared on*| *2022-09-29*|\n",
       "|*Comments*| *22 pages; accepted for publication in A&A*|\n",
       "|**Abstract**| Radio loud active galactic nuclei (RLAGNs) are often morphologically complex objects that can consist of multiple, spatially separated, components. Astronomers often rely on visual inspection to resolve radio component association. However, applying visual inspection to all the hundreds of thousands of well-resolved RLAGNs that appear in the images from the Low Frequency Array (LOFAR) Two-metre Sky Survey (LoTSS) at $144$ MHz, is a daunting, time-consuming process, even with extensive manpower. Using a machine learning approach, we aim to automate the radio component association of large ($> 15$ arcsec) radio components. We turned the association problem into a classification problem and trained an adapted Fast region-based convolutional neural network to mimic the expert annotations from the first LoTSS data release. We implemented a rotation data augmentation to reduce overfitting and simplify the component association by removing unresolved radio sources that are likely unrelated to the large and bright radio components that we consider using predictions from an existing gradient boosting classifier. For large ($> 15$ arcsec) and bright ($> 10$ mJy) radio components in the LoTSS first data release, our model provides the same associations for $85.3\\%\\pm0.6$ of the cases as those derived when astronomers perform the association manually. When the association is done through public crowd-sourced efforts, a result similar to that of our model is attained. Our method is able to efficiently carry out manual radio-component association for huge radio surveys and can serve as a basis for either automated radio morphology classification or automated optical host identification. This opens up an avenue to study the completeness and reliability of samples of radio sources with extended, complex morphologies. |\n",
       "|<p style=\"color:green\"> **ERROR** </p>| <p style=\"color:green\">affiliation error: mpia.affiliation_verifications: 'Heidelberg' keyword not found.</p> |"
      ],
      "text/plain": [
       "<IPython.core.display.Markdown object>"
      ]
     },
     "metadata": {},
     "output_type": "display_data"
    },
    {
     "data": {
      "text/markdown": [
       "\n",
       "|||\n",
       "|---:|:---|\n",
       "| [![arXiv](https://img.shields.io/badge/arXiv-arXiv:2209.13982-b31b1b.svg)](https://arxiv.org/abs/arXiv:2209.13982) | **Improved asteroseismic inversions for red-giant surface rotation rates**  |\n",
       "|| F. Ahlborn, et al. -- incl., <mark>S. Hekker</mark> |\n",
       "|*Appeared on*| *2022-09-29*|\n",
       "|*Comments*| *17 pages, 22 figures, accepted for publication in Astronomy and Astrophysics*|\n",
       "|**Abstract**| Asteroseismic observations of internal stellar rotation have indicated a substantial lack of angular momentum transport in theoretical models of subgiant and red-giant stars. Accurate core and surface rotation rate measurements are therefore needed to constrain internal transport processes included in the models. We eliminate substantial systematic errors of asteroseismic surface rotation rates found in previous studies. We propose a new objective function for the Optimally Localized Averages method of rotational inversions for red-giant stars, which results in more accurate envelope rotation rate estimates obtained from the same data. We use synthetic observations from stellar models across a range of evolutionary stages and masses to demonstrate the improvement. We find that our new inversion technique allows us to obtain estimates of the surface rotation rate that are independent of the core rotation. For a star at the base of the red-giant branch, we reduce the systematic error from about 20% to a value close to 0, assuming constant envelope rotation. We also show the equivalence between this method and the method of linearised rotational splittings. Our new rotational inversion method substantially reduces the systematic errors of red-giant surface rotation rates. In combination with independent measures of the surface rotation rate, this will allow better constraints to be set on the internal rotation profile. This will be a very important probe to further constrain the internal angular momentum transport along the lower part of the red-giant branch. |\n",
       "|<p style=\"color:red\"> **ERROR** </p>| <p style=\"color:red\">latex error Could not find figure .pdf</p> |"
      ],
      "text/plain": [
       "<IPython.core.display.Markdown object>"
      ]
     },
     "metadata": {},
     "output_type": "display_data"
    },
    {
     "data": {
      "text/markdown": [
       "\n",
       "|||\n",
       "|---:|:---|\n",
       "| [![arXiv](https://img.shields.io/badge/arXiv-arXiv:2209.13789-b31b1b.svg)](https://arxiv.org/abs/arXiv:2209.13789) | **The role and contribution of magnetic fields, characterized via their  magnetic flux, to the statistical structuring of the solar atmosphere**  |\n",
       "|| <mark>K.J. Li</mark>, J.C. Xu, W. Feng |\n",
       "|*Appeared on*| *2022-09-29*|\n",
       "|*Comments*| *12 pages, 5 figures*|\n",
       "|**Abstract**| The anomalous heating of the solar upper atmosphere is one of the eight key problems in modern astronomy. Moreover, the stratification of the solar atmosphere is an outstanding key-problem in solar physics. In this study, a hot butterfly-like pattern is found to run through the chromosphere to the corona lying right on top of the magnetic butterfly pattern of sunspots in the photosphere. We thus propose to introduce the term butterfly body to describe the butterfly diagram in the 3-dimensional atmosphere. Besides, we discuss the so-called polar brightening in different layers. It is found to be statistically in anti-phase with the solar cycle in the photosphere and the chromosphere, while in phase with the solar cycle in the corona. Accordingly, we describe the role and relationship of solar magnetic elements of different magnetic flux strengths to explain the statistical structuring of the solar atmosphere with the butterfly body over the solar cycle. |\n",
       "|<p style=\"color:red\"> **ERROR** </p>| <p style=\"color:red\">latex error not a gzip file</p> |"
      ],
      "text/plain": [
       "<IPython.core.display.Markdown object>"
      ]
     },
     "metadata": {},
     "output_type": "display_data"
    }
   ],
   "source": [
    "import datetime\n",
    "today = str(datetime.date.today())\n",
    "logfile = f\"_build/html/logs/log-{today}.md\"\n",
    "\n",
    "\n",
    "with open(logfile, 'w') as logs:\n",
    "    # Success\n",
    "    logs.write(f'# Arxiv on Deck 2: Logs - {today}\\n\\n')\n",
    "    logs.write(\"\"\"* Arxiv had {0:,d} new papers\\n\"\"\".format(len(new_papers)))\n",
    "    logs.write(\"\"\"    * {0:,d} with possible author matches\\n\\n\"\"\".format(len(candidates)))\n",
    "    logs.write(\"## Sucessful papers\\n\\n\")\n",
    "    display(Markdown(\"## Successful papers\"))\n",
    "    success = [k[0] for k in documents]\n",
    "    for candid in candidates:\n",
    "        if candid['identifier'].split(':')[-1] in success:\n",
    "            display(candid)\n",
    "            logs.write(candid.generate_markdown_text() + '\\n\\n')\n",
    "\n",
    "    ## failed\n",
    "    logs.write(\"## Failed papers\\n\\n\")\n",
    "    display(Markdown(\"## Failed papers\"))\n",
    "    failed = sorted(failed, key=lambda x: x[1])\n",
    "    current_reason = \"\"\n",
    "    for paper, reason in failed:\n",
    "        if 'affiliation' in reason:\n",
    "            color = 'green'\n",
    "        else:\n",
    "            color = 'red'\n",
    "        data = Markdown(\n",
    "                paper.generate_markdown_text() + \n",
    "                f'\\n|<p style=\"color:{color:s}\"> **ERROR** </p>| <p style=\"color:{color:s}\">{reason:s}</p> |'\n",
    "               )\n",
    "        if reason != current_reason:\n",
    "            logs.write(f'### {reason:s} \\n\\n')\n",
    "            current_reason = reason\n",
    "        logs.write(data.data + '\\n\\n')\n",
    "        \n",
    "        # only display here the important errors (all in logs)\n",
    "        # if color in ('red',):\n",
    "        display(data)"
   ]
  },
  {
   "cell_type": "markdown",
   "id": "472d20ee",
   "metadata": {
    "papermill": {
     "duration": 0.008671,
     "end_time": "2022-09-29T05:20:57.731816",
     "exception": false,
     "start_time": "2022-09-29T05:20:57.723145",
     "status": "completed"
    },
    "tags": []
   },
   "source": [
    "## Export documents\n",
    "\n",
    "We now write the .md files and export relevant images"
   ]
  },
  {
   "cell_type": "code",
   "execution_count": 7,
   "id": "d426aed9",
   "metadata": {
    "execution": {
     "iopub.execute_input": "2022-09-29T05:20:57.750425Z",
     "iopub.status.busy": "2022-09-29T05:20:57.749942Z",
     "iopub.status.idle": "2022-09-29T05:20:57.757212Z",
     "shell.execute_reply": "2022-09-29T05:20:57.756577Z"
    },
    "papermill": {
     "duration": 0.018213,
     "end_time": "2022-09-29T05:20:57.758625",
     "exception": false,
     "start_time": "2022-09-29T05:20:57.740412",
     "status": "completed"
    },
    "tags": []
   },
   "outputs": [],
   "source": [
    "def export_markdown_summary(md: str, md_fname:str, directory: str):\n",
    "    \"\"\"Export MD document and associated relevant images\"\"\"\n",
    "    import os\n",
    "    import shutil\n",
    "    import re\n",
    "\n",
    "    if (os.path.exists(directory) and not os.path.isdir(directory)):\n",
    "        raise RuntimeError(f\"a non-directory file exists with name {directory:s}\")\n",
    "\n",
    "    if (not os.path.exists(directory)):\n",
    "        print(f\"creating directory {directory:s}\")\n",
    "        os.mkdir(directory)\n",
    "\n",
    "    fig_fnames = (re.compile(r'\\[Fig.*\\]\\((.*)\\)').findall(md) + \n",
    "                  re.compile(r'\\<img src=\"([^>\\s]*)\"[^>]*/>').findall(md))\n",
    "    for fname in fig_fnames:\n",
    "        if 'http' in fname:\n",
    "            # No need to copy online figures\n",
    "            continue\n",
    "        destdir = os.path.join(directory, os.path.dirname(fname))\n",
    "        destfname = os.path.join(destdir, os.path.basename(fname))\n",
    "        try:\n",
    "            os.makedirs(destdir)\n",
    "        except FileExistsError:\n",
    "            pass\n",
    "        shutil.copy(fname, destfname)\n",
    "    with open(os.path.join(directory, md_fname), 'w') as fout:\n",
    "        fout.write(md)\n",
    "    print(\"exported in \", os.path.join(directory, md_fname))\n",
    "    [print(\"    + \" + os.path.join(directory,fk)) for fk in fig_fnames]"
   ]
  },
  {
   "cell_type": "code",
   "execution_count": 8,
   "id": "014d04a4",
   "metadata": {
    "execution": {
     "iopub.execute_input": "2022-09-29T05:20:57.777413Z",
     "iopub.status.busy": "2022-09-29T05:20:57.776946Z",
     "iopub.status.idle": "2022-09-29T05:20:57.790617Z",
     "shell.execute_reply": "2022-09-29T05:20:57.789966Z"
    },
    "papermill": {
     "duration": 0.024638,
     "end_time": "2022-09-29T05:20:57.792056",
     "exception": false,
     "start_time": "2022-09-29T05:20:57.767418",
     "status": "completed"
    },
    "tags": []
   },
   "outputs": [
    {
     "name": "stdout",
     "output_type": "stream",
     "text": [
      "exported in  _build/html/2209.13717.md\n",
      "    + _build/html/tmp_2209.13717/./f6.png\n",
      "    + _build/html/tmp_2209.13717/./f9.png\n",
      "    + _build/html/tmp_2209.13717/./f3.png\n"
     ]
    }
   ],
   "source": [
    "for paper_id, md in documents:\n",
    "    export_markdown_summary(md, f\"{paper_id:s}.md\", '_build/html/')"
   ]
  },
  {
   "cell_type": "markdown",
   "id": "f087a0a7",
   "metadata": {
    "papermill": {
     "duration": 0.008744,
     "end_time": "2022-09-29T05:20:57.809562",
     "exception": false,
     "start_time": "2022-09-29T05:20:57.800818",
     "status": "completed"
    },
    "tags": []
   },
   "source": [
    "## Display the papers\n",
    "\n",
    "Not necessary but allows for a quick check."
   ]
  },
  {
   "cell_type": "code",
   "execution_count": 9,
   "id": "fd25f625",
   "metadata": {
    "execution": {
     "iopub.execute_input": "2022-09-29T05:20:57.828816Z",
     "iopub.status.busy": "2022-09-29T05:20:57.828326Z",
     "iopub.status.idle": "2022-09-29T05:20:57.833364Z",
     "shell.execute_reply": "2022-09-29T05:20:57.832708Z"
    },
    "papermill": {
     "duration": 0.016149,
     "end_time": "2022-09-29T05:20:57.834842",
     "exception": false,
     "start_time": "2022-09-29T05:20:57.818693",
     "status": "completed"
    },
    "scrolled": false,
    "tags": []
   },
   "outputs": [
    {
     "data": {
      "text/markdown": [
       "<div class=\"macros\" style=\"visibility:hidden;\">\n",
       "$\\newcommand{\\ensuremath}{}$\n",
       "$\\newcommand{\\xspace}{}$\n",
       "$\\newcommand{\\object}[1]{\\texttt{#1}}$\n",
       "$\\newcommand{\\farcs}{{.}''}$\n",
       "$\\newcommand{\\farcm}{{.}'}$\n",
       "$\\newcommand{\\arcsec}{''}$\n",
       "$\\newcommand{\\arcmin}{'}$\n",
       "$\\newcommand{\\ion}[2]{#1#2}$\n",
       "$\\newcommand{\\textsc}[1]{\\textrm{#1}}$\n",
       "$\\newcommand{\\hl}[1]{\\textrm{#1}}$\n",
       "$\\newcommand{\\vdag}{(v)^\\dagger}$\n",
       "$\\newcommand$\n",
       "$\\newcommand$</div>\n",
       "\n",
       "<div class=\"macros\" style=\"visibility:hidden;\">\n",
       "$\\newcommand{$\\ensuremath$}{}$\n",
       "$\\newcommand{$\\xspace$}{}$\n",
       "$\\newcommand{$\\object$}[1]{\\texttt{#1}}$\n",
       "$\\newcommand{$\\farcs$}{{.}''}$\n",
       "$\\newcommand{$\\farcm$}{{.}'}$\n",
       "$\\newcommand{$\\arcsec$}{''}$\n",
       "$\\newcommand{$\\arcmin$}{'}$\n",
       "$\\newcommand{$\\ion$}[2]{#1#2}$\n",
       "$\\newcommand{$\\textsc$}[1]{\\textrm{#1}}$\n",
       "$\\newcommand{$\\hl$}[1]{\\textrm{#1}}$\n",
       "$\\newcommand{$\\vdag$}{(v)^\\dagger}$\n",
       "$\\newcommand$\n",
       "$\\newcommand$</div>\n",
       "\n",
       "\n",
       "\n",
       "<div id=\"title\">\n",
       "\n",
       "# Polarized Emission From Four Supernova Remnants In The THOR Survey\n",
       "\n",
       "</div>\n",
       "<div id=\"comments\">\n",
       "\n",
       "[![arXiv](https://img.shields.io/badge/arXiv-2209.13717-b31b1b.svg)](https://arxiv.org/abs/2209.13717)<mark>Appeared on: 2022-09-29</mark> - _Accepted for publication in the Astrophysical Journal. Figures 6, 19 and 20 may not be displayed in the browser pdf viewer, but the downloaded pdf is complete_\n",
       "\n",
       "</div>\n",
       "<div id=\"authors\">\n",
       "\n",
       "Russell Shanahan, et al. -- incl., <mark>Henrik Beuther</mark>, <mark>Jonas Syed</mark>\n",
       "\n",
       "</div>\n",
       "<div id=\"abstract\">\n",
       "\n",
       "**Abstract:** We present polarization and Faraday rotation for the supernova remnants (SNRs) G46.8$-$0.3, G43.3$-$0.2, G41.1$-$0.3, and G39.2$-$0.3 in L-band (1-2 GHz) radio continuum in The HI/OH/Recombination line (THOR) survey.  We detect polarization from G46.8$-$0.3, G43.3$-$0.2 and G39.2$-$0.3 but find upper limits at the 1\\%level of Stokes$I$for G41.1$-$0.3.  For G46.8$-$0.3 and G39.2$-$0.3 the fractional polarization varies on small scales from 1\\%to$\\sim$6\\%.  G43.3$-$0.2 is less polarized with fractional polarization$\\lesssim$3\\%.  We find upper limits at the 1\\%level for the brighter regions in each SNR with no evidence for associated enhanced Faraday depolarization.  We observe significant variation in Faraday depth and fractional polarization on angular scales down to the resolution limit of 16$\\arcsec$.  Approximately 6\\%of our polarization detections from G46.8$-$0.3 and G39.2$-$0.3 exhibit two-component Faraday rotation and 14\\%of polarization detections in G43.3$-$0.2 are multi-component.  For G39.2$-$0.3 we find a bimodal Faraday depth distribution with a narrow peak and a broad peak for all polarization detections as well as for the subset with two-component Faraday rotation.  We identify the narrow peak with the front side of the SNR and the broad peak with the back side.  Similarly, we interpret the observed Faraday depth distribution of G46.8$-$0.3 as a superposition of the distributions from the front side and the back side.  We interpret our results as evidence for a partially filled shell with small-scale magnetic field structure and internal Faraday rotation.\n",
       "\n",
       "</div>\n",
       "\n",
       "<div id=\"div_fig1\">\n",
       "\n",
       "<img src=\"tmp_2209.13717/./f6.png\" alt=\"Fig8\" width=\"100%\"/>\n",
       "\n",
       "**Figure 8. -** Grid plot of the Faraday depth spectra for the red box seen in Figure \\ref{fig:G46.8-0.3_RM-Map}.  The horizontal limits are $-1500 \\text{ rad m}^{-2} < \\phi < 1500 \\text{ rad m}^{-2}$ and vertical axis limits are $0 < P < 0.95$ mJy.  The grey region illustrates our Faraday depth rejection range.  The red horizontal line is our detection threshold where $P = 0.27$ mJy.  Colours indicate spectra where zero (black), one (blue) or two (purple) peaks satisfy our detection criteria (see Appendix \\ref{appendix:DT}).  The coordinates of the bottom left and top right corners are $(\\ell, b)=(46\\fdg802, 0\\fdg377)$ and $(\\ell, b)=(46\\fdg777, -0\\fdg352)$.  The physical size of this region is $2.36$ pc on each side. (*fig:G46.8-0.3_RM_Grid2*)\n",
       "\n",
       "</div>\n",
       "<div id=\"div_fig2\">\n",
       "\n",
       "<img src=\"tmp_2209.13717/./f9.png\" alt=\"Fig11\" width=\"100%\"/>\n",
       "\n",
       "**Figure 11. -** Fractional polarization map of SNR G46.8$-$0.3.  Contours are from the THOR+VGPS map at 14, 19, 24, 29, 34 and 39 mJy/beam.  The coloured subregions were calculated by $\\Pi = P/(I - I_{\\text{bg}})$ where $\\Pi$ is the fractional polarization, $P$ is the peak from the Faraday depth spectrum, $I$ is the Stokes $I$ from the THOR+VGPS map and $I_{\\text{bg}}$ is the average background Stokes $I$.  The black subregions are upper limits for regions where polarized signal is heavily affected by leakage.  The criteria for these subregions is that $\\Pi_{\\text{upper}} = P_{\\text{limit}}/(I - I_{\\text{bg}}) < 1\\%$, where $P_{\\text{limit}}$ is the maximum from the noise profiles. (*fig:G46.8-0.3_PP-Map*)\n",
       "\n",
       "</div>\n",
       "<div id=\"div_fig3\">\n",
       "\n",
       "<img src=\"tmp_2209.13717/./f3.png\" alt=\"Fig6\" width=\"100%\"/>\n",
       "\n",
       "**Figure 6. -** Faraday depth map of SNR G46.8$-$0.3. The contour levels correspond to 14, 19, 24, 29, 34 and 39 mJy/beam. The subregions with a purple edge indicate the locations of two-component Faraday rotation.  The Faraday depth shown for subregions with two-component Faraday rotation is derived from the strongest peak.  The red box indicates the region where we present the individual Faraday depth spectra as a grid plot seen in Figure \\ref{fig:G46.8-0.3_RM_Grid2}. (*fig:G46.8-0.3_RM-Map*)\n",
       "\n",
       "</div>"
      ],
      "text/plain": [
       "<IPython.core.display.Markdown object>"
      ]
     },
     "metadata": {},
     "output_type": "display_data"
    }
   ],
   "source": [
    "[display(Markdown(k[1])) for k in documents];"
   ]
  },
  {
   "cell_type": "markdown",
   "id": "873873a4",
   "metadata": {
    "papermill": {
     "duration": 0.008922,
     "end_time": "2022-09-29T05:20:57.852835",
     "exception": false,
     "start_time": "2022-09-29T05:20:57.843913",
     "status": "completed"
    },
    "tags": []
   },
   "source": [
    "# Create HTML index"
   ]
  },
  {
   "cell_type": "code",
   "execution_count": 10,
   "id": "cf665672",
   "metadata": {
    "execution": {
     "iopub.execute_input": "2022-09-29T05:20:57.872243Z",
     "iopub.status.busy": "2022-09-29T05:20:57.871556Z",
     "iopub.status.idle": "2022-09-29T05:20:57.880102Z",
     "shell.execute_reply": "2022-09-29T05:20:57.879485Z"
    },
    "papermill": {
     "duration": 0.019785,
     "end_time": "2022-09-29T05:20:57.881544",
     "exception": false,
     "start_time": "2022-09-29T05:20:57.861759",
     "status": "completed"
    },
    "tags": []
   },
   "outputs": [
    {
     "name": "stdout",
     "output_type": "stream",
     "text": [
      "48  publications in the last 7 days.\n",
      "\t _build/html/2209.13717.md\n",
      "\t _build/html/2209.13336.md\n",
      "\t _build/html/2209.12906.md\n",
      "\t _build/html/2209.11781.md\n",
      "\t _build/html/2209.11602.md\n",
      "\t _build/html/2209.11248.md\n",
      "\t _build/html/2209.11096.md\n",
      "\t _build/html/2209.10618.md\n",
      "\t _build/html/2209.09914.md\n",
      "\t _build/html/2209.09823.md\n",
      "\t _build/html/2209.08242.md\n",
      "\t _build/html/2209.08120.md\n",
      "\t _build/html/2209.08106.md\n",
      "\t _build/html/2209.07962.md\n",
      "\t _build/html/2209.07931.md\n",
      "\t _build/html/2209.06833.md\n",
      "\t _build/html/2209.05814.md\n",
      "\t _build/html/2209.05593.md\n",
      "\t _build/html/2209.04304.md\n",
      "\t _build/html/2209.03367.md\n",
      "\t _build/html/2209.02872.md\n",
      "\t _build/html/2209.02725.md\n",
      "\t _build/html/2209.02722.md\n",
      "\t _build/html/2209.02092.md\n",
      "\t _build/html/2209.01125.md\n",
      "\t _build/html/2209.00828.md\n",
      "\t _build/html/2209.00363.md\n",
      "\t _build/html/2208.14927.md\n",
      "\t _build/html/2208.09335.md\n",
      "\t _build/html/2208.08872.md\n",
      "\t _build/html/2204.06393.md\n",
      "\t _build/html/2204.03335.md\n",
      "\t _build/html/2204.03253.md\n",
      "\t _build/html/2204.02998.md\n",
      "\t _build/html/2204.02109.md\n",
      "\t _build/html/2204.02017.md\n",
      "\t _build/html/2204.01824.md\n",
      "\t _build/html/2204.01758.md\n",
      "\t _build/html/2204.01245.md\n",
      "\t _build/html/2204.00793.md\n",
      "\t _build/html/2204.00342.md\n",
      "\t _build/html/2203.16959.md\n",
      "\t _build/html/2203.16856.md\n",
      "\t _build/html/2203.16735.md\n",
      "\t _build/html/2203.16734.md\n",
      "\t _build/html/2203.16504.md\n",
      "\t _build/html/2203.15822.md\n",
      "\t _build/html/2203.15811.md\n"
     ]
    }
   ],
   "source": [
    "from datetime import datetime, timedelta, timezone\n",
    "from glob import glob\n",
    "\n",
    "files = glob('_build/html/*.md')\n",
    "days = 7\n",
    "now = datetime.today()\n",
    "res = []\n",
    "for fk in files:\n",
    "    stat_result = os.stat(fk).st_ctime\n",
    "    modified = datetime.fromtimestamp(stat_result, tz=timezone.utc).replace(tzinfo=None)\n",
    "    delta = now.today() - modified\n",
    "    if delta <= timedelta(days=days):\n",
    "        res.append((delta.seconds, fk))\n",
    "res = [k[1] for k in reversed(sorted(res, key=lambda x:x[1]))]\n",
    "npub = len(res)\n",
    "print(len(res), f\" publications in the last {days:d} days.\")\n",
    "[ print('\\t', k) for k in res ];"
   ]
  },
  {
   "cell_type": "code",
   "execution_count": 11,
   "id": "52ca0208",
   "metadata": {
    "execution": {
     "iopub.execute_input": "2022-09-29T05:20:57.901339Z",
     "iopub.status.busy": "2022-09-29T05:20:57.900724Z",
     "iopub.status.idle": "2022-09-29T05:20:57.907219Z",
     "shell.execute_reply": "2022-09-29T05:20:57.906567Z"
    },
    "papermill": {
     "duration": 0.017874,
     "end_time": "2022-09-29T05:20:57.908607",
     "exception": false,
     "start_time": "2022-09-29T05:20:57.890733",
     "status": "completed"
    },
    "scrolled": false,
    "tags": []
   },
   "outputs": [],
   "source": [
    "def create_carousel(npub=4):\n",
    "    \"\"\" Generate the HTML code for a carousel with `npub` slides \"\"\"\n",
    "    carousel = [\"\"\"<section class=\"carousel\" aria-label=\"Gallery\">\"\"\",\n",
    "                \"\"\"  <ol class=\"carousel__viewport\">\"\"\",\n",
    "    ]\n",
    "    for k in range(1, npub + 1):\n",
    "        prev_ = k - 1\n",
    "        next_ = k + 1\n",
    "        if prev_ <= 0:\n",
    "            prev_ = npub\n",
    "        if next_ > npub:\n",
    "            next_ = 1\n",
    "        text  = f\"\"\"    <li id=\"carousel__slide{k}\" tabindex=\"0\" class=\"carousel__slide\">\\n\"\"\"\n",
    "        text += f\"\"\"       <div class=\"carousel__snapper\">\\n\"\"\"\n",
    "        text += f\"\"\"         <a href=\"#carousel__slide{prev_}\" class=\"carousel__prev\">Go to previous slide</a>\\n\"\"\"\n",
    "        text += f\"\"\"         <a href=\"#carousel__slide{next_}\" class=\"carousel__next\">Go to next slide</a>\\n\"\"\"\n",
    "        text += f\"\"\"         <div id=\"slide{k}_content\" class=\"md_view\" >Content {k}</div>\\n\"\"\"\n",
    "        text += f\"\"\"       </div>\\n\"\"\"\n",
    "        text += f\"\"\"    </li>\"\"\"\n",
    "        carousel.append(text)\n",
    "\n",
    "    carousel.extend([\n",
    "        \"\"\"  </ol>\"\"\",\n",
    "        \"\"\"  <aside class=\"carousel__navigation\">\"\"\",\n",
    "        \"\"\"    <ol class=\"carousel__navigation-list\">\"\"\"])\n",
    "\n",
    "    for k in range(1, npub + 1):\n",
    "        text  = f\"\"\"      <li class=\"carousel__navigation-item\">\\n\"\"\"\n",
    "        text += f\"\"\"        <a href=\"#carousel__slide{k}\" class=\"carousel__navigation-button\">Go to {k}</a>\\n\"\"\"\n",
    "        text += f\"\"\"      </li>\"\"\"\n",
    "        carousel.append(text)\n",
    "    carousel.extend([\"\"\"    </ol>\"\"\", \"\"\"  </aside>\"\"\", \"\"\"</section>\"\"\"])\n",
    "\n",
    "    return '\\n'.join(carousel)"
   ]
  },
  {
   "cell_type": "code",
   "execution_count": 12,
   "id": "a6eac5b6",
   "metadata": {
    "execution": {
     "iopub.execute_input": "2022-09-29T05:20:57.928202Z",
     "iopub.status.busy": "2022-09-29T05:20:57.927645Z",
     "iopub.status.idle": "2022-09-29T05:20:57.933835Z",
     "shell.execute_reply": "2022-09-29T05:20:57.933213Z"
    },
    "papermill": {
     "duration": 0.017582,
     "end_time": "2022-09-29T05:20:57.935301",
     "exception": false,
     "start_time": "2022-09-29T05:20:57.917719",
     "status": "completed"
    },
    "scrolled": false,
    "tags": []
   },
   "outputs": [],
   "source": [
    "carousel = create_carousel(npub)\n",
    "docs = ', '.join(['\"{0:s}\"'.format(k.split('/')[-1]) for k in res])\n",
    "slides = ', '.join([f'\"slide{k}_content\"' for k in range(1, npub + 1)])\n",
    "\n",
    "script = f\"\"\"\n",
    "const docs = [{docs}]\n",
    "\n",
    "const slides = [{slides}]\n",
    "\"\"\" + \"\"\"\n",
    "async function run() {\n",
    "    for (let i = 0; i < docs.length; i++) {\n",
    "        let file = await fetch(docs[i]);\n",
    "        let text = await file.text()\n",
    "        document.getElementById(slides[i]).innerHTML =\n",
    "            marked.parse(text);\n",
    "    }\n",
    "    hljs.highlightAll();\n",
    "}\n",
    "run()\n",
    "\"\"\"\n",
    "\n",
    "page = f\"\"\"<!doctype html>\n",
    "<html lang=\"en\">\n",
    "\n",
    "<head>\n",
    "  <meta charset=\"utf-8\">\n",
    "  <meta name=\"viewport\" content=\"width=device-width, initial-scale=1\">\n",
    "  <!-- Bootstrap CSS -->\n",
    "  <link href=\"https://cdn.jsdelivr.net/npm/bootstrap@5.0.2/dist/css/bootstrap.min.css\" rel=\"stylesheet\"\n",
    "   integrity=\"sha384-EVSTQN3/azprG1Anm3QDgpJLIm9Nao0Yz1ztcQTwFspd3yD65VohhpuuCOmLASjC\" crossorigin=\"anonymous\">\n",
    "  <!-- highlight.js CSS -->\n",
    "  <link rel=\"stylesheet\" href=\"https://cdnjs.cloudflare.com/ajax/libs/highlight.js/11.1.0/styles/default.min.css\">\n",
    "  <!-- Mathjax 3 -->\n",
    "  <script type=\"text/javascript\" id=\"MathJax-config\" src=\"mathjax_config.js\"> </script>\n",
    "  <script type=\"text/javascript\" id=\"MathJax-script\" async \n",
    "    src=\"https://cdn.jsdelivr.net/npm/mathjax@3/es5/tex-mml-chtml.js\">\n",
    "  </script>\n",
    "  <link rel=\"stylesheet\" href=\"index_carousel.css\">\n",
    "  <link rel=\"icon\" type=\"image/x-icon\" href=\"https://www.mpia.de/assets/touch-icon-32x32-a66937bcebc4e8894ebff1f41a366c7c7220fd97a38869ee0f2db65a9f59b6c1.png\">\n",
    "  <title>MPIA Arxiv on deck!</title>\n",
    "</head>\n",
    "\n",
    "<body>\n",
    "  <div id=\"header\"> <img src=\"header_banner.png\" width=\"100%\"></div>\n",
    "  <div id=\"suptitle\"> 7-day archives </div>\n",
    "  <div id=\"info\">\n",
    "    <img src=\"https://pngimg.com/uploads/github/github_PNG58.png\" height=30rem></img>\n",
    "    <a href=https://github.com/mpi-astronomy/arxiv_display style=\"color:black;\">github/mpi-astronomy/arxiv_display</a> \n",
    "  </div>\n",
    "  {carousel:s}\n",
    "</body>\n",
    "\n",
    "<!-- Render Markdown -->\n",
    "\n",
    "<body>\n",
    "  <!-- highlight.js: https://highlightjs.org/download/ -->\n",
    "  <script src=\"https://cdnjs.cloudflare.com/ajax/libs/highlight.js/11.5.0/highlight.min.js\"></script>\n",
    "  <!-- marked.js -->\n",
    "  <script src=\"https://cdn.jsdelivr.net/npm/marked/marked.min.js\"></script>\n",
    "  <script>{script:s}</script>\n",
    "</body>\n",
    "</html>\n",
    "\"\"\"\n",
    "with open(\"_build/html/index_7days.html\", 'w') as fout:\n",
    "    fout.write(page)"
   ]
  },
  {
   "cell_type": "markdown",
   "id": "1cebacbc",
   "metadata": {
    "papermill": {
     "duration": 0.009535,
     "end_time": "2022-09-29T05:20:57.953980",
     "exception": false,
     "start_time": "2022-09-29T05:20:57.944445",
     "status": "completed"
    },
    "tags": []
   },
   "source": [
    "# Debugging papers"
   ]
  },
  {
   "cell_type": "raw",
   "id": "debe7cc6",
   "metadata": {
    "papermill": {
     "duration": 0.009536,
     "end_time": "2022-09-29T05:20:57.972592",
     "exception": false,
     "start_time": "2022-09-29T05:20:57.963056",
     "status": "completed"
    },
    "tags": []
   },
   "source": [
    "raise NotImplementedError(\"Manual Stop\")"
   ]
  },
  {
   "cell_type": "raw",
   "id": "eb169192",
   "metadata": {
    "papermill": {
     "duration": 0.009168,
     "end_time": "2022-09-29T05:20:57.990880",
     "exception": false,
     "start_time": "2022-09-29T05:20:57.981712",
     "status": "completed"
    },
    "scrolled": true,
    "tags": []
   },
   "source": [
    "from IPython.display import display, Markdown\n",
    "from TexSoup import TexSoup\n",
    "import re\n",
    "\n",
    "def bracket_error(source: str):\n",
    "    \"\"\" Find problematic portions of the document \"\"\"\n",
    "    \n",
    "    print(\"len(source)\", len(source))\n",
    "    \n",
    "    # Checking header\n",
    "    begin_doc = next(re.finditer(r'\\\\begin\\{document\\}', doc.source)).span()[1]\n",
    "    header = source[:begin_doc]\n",
    "    text = header + r\"\\n\\end{document}\"\n",
    "\n",
    "    try:\n",
    "        # print(\"Header check... \", end='')\n",
    "        TexSoup(text)\n",
    "        display(Markdown(f\"**[OK]** - Header\"))\n",
    "    except:\n",
    "        raise RuntimeError(\"Error in the header\")\n",
    "        \n",
    "    # Check the text per section until the end.\n",
    "    # Do not stop and try them all.\n",
    "    \n",
    "    problematic_text = []\n",
    "    \n",
    "    sections = ([(0, begin_doc, 'until first section')] + \n",
    "                [(g.span()[0], g.span()[1], g.group()) for g in re.finditer(r'\\\\section\\{.*\\}', source)] +\n",
    "                [(g.span()[0], g.span()[1], g.group()) for g in re.finditer(r'\\\\begin\\{appendix\\}', source)]\n",
    "               )\n",
    "    sections.append([len(source), len(source), 'end'])\n",
    "    \n",
    "    sections = sorted(sections, key=lambda x: x[0])\n",
    "    \n",
    "    prev_pos, prev_name = (0, 'header')\n",
    "    parsed = []\n",
    "    \n",
    "    for span, span_end, name in sections:\n",
    "\n",
    "        if span - prev_pos <= 0:\n",
    "            continue\n",
    "            \n",
    "\n",
    "        text = source[prev_pos:span]\n",
    "        if prev_pos > begin_doc:\n",
    "            text = r\"\\n\\begin{document}\" + text + r\"\\n\\end{document}\"\n",
    "        else:\n",
    "            text = text + r\"\\n\\end{document}\"\n",
    "        try:\n",
    "            #print(f\"{prev_pos}:{prev_name}-->{span}:{name} check... \", end='')\n",
    "            parsed.append(TexSoup(text, tolerance=1))  # allow not ending env\n",
    "            display(Markdown(f\"**[OK]** - *{prev_pos}*:{prev_name} &rarr; *{span}*:{name}\"))\n",
    "            # print(\"ok\")\n",
    "\n",
    "            prev_pos = span\n",
    "            prev_name = name\n",
    "        except:\n",
    "            # print(f\"error between {prev_pos} and {span}\")\n",
    "            display(Markdown(f\"**[ERR]** *{prev_pos}*:{prev_name} &rarr; *{span}*:{name}\"))\n",
    "            problematic_text.append((prev_pos, source[prev_pos:span]))\n",
    "            prev_pos = span\n",
    "            prev_name = name\n",
    "            # raise\n",
    "    return problematic_text, parsed\n",
    "\n",
    "\n",
    "def check_environment(text, offset=0):\n",
    "    \"\"\" Check environment \"\"\"\n",
    "    env = re.compile(r\"\\\\begin\\{(?P<env>.*)\\}(.*)\\\\end\\{(?P=env)\\}\", re.DOTALL)\n",
    "\n",
    "    for match in env.finditer(text):\n",
    "        beg, end = match.span()\n",
    "        beg += offset\n",
    "        end += offset\n",
    "        envname = match.groups()[0]\n",
    "        try:\n",
    "            latex.TexSoup(match.group())\n",
    "        except Exception as e:\n",
    "            display(e)\n",
    "            print(f\"Error in {envname:s} between {beg} and {end}\")\n",
    "            return match.groups()[1], beg, end"
   ]
  },
  {
   "cell_type": "raw",
   "id": "2315e835",
   "metadata": {
    "papermill": {
     "duration": 0.009051,
     "end_time": "2022-09-29T05:20:58.009233",
     "exception": false,
     "start_time": "2022-09-29T05:20:58.000182",
     "status": "completed"
    },
    "scrolled": false,
    "tags": []
   },
   "source": [
    "import importlib\n",
    "importlib.reload(latex)\n",
    "which = \"2204.03253\"\n",
    "paper_id = f'{which:s}'\n",
    "folder = f'tmp_{paper_id:s}'\n",
    "\n",
    "if not os.path.isdir(folder):\n",
    "    folder = retrieve_document_source(f\"{paper_id}\", f'tmp_{paper_id}')\n",
    "\n",
    "try:\n",
    "    doc = latex.LatexDocument(folder, validation=validation)    \n",
    "except AffiliationError as affilerror:\n",
    "    msg = f\"ArXiv:{paper_id:s} is not an MPIA paper... \" + str(affilerror)\n",
    "    print(msg)\n",
    "\n",
    "\n",
    "# Hack because sometimes author parsing does not work well\n",
    "if (len(doc.authors) != len(paper['authors'])):\n",
    "    doc._authors = paper['authors']\n",
    "if (doc.abstract) in (None, ''):\n",
    "    doc._abstract = paper['abstract']\n",
    "\n",
    "doc.comment = get_markdown_badge(paper_id) + \" _\" + paper['comments'] + \"_\"\n",
    "doc.highlight_authors_in_list(hl_list)\n",
    "\n",
    "full_md = doc.generate_markdown_text()"
   ]
  },
  {
   "cell_type": "raw",
   "id": "dd3781db",
   "metadata": {
    "papermill": {
     "duration": 0.009063,
     "end_time": "2022-09-29T05:20:58.027317",
     "exception": false,
     "start_time": "2022-09-29T05:20:58.018254",
     "status": "completed"
    },
    "scrolled": false,
    "tags": []
   },
   "source": [
    "doc"
   ]
  },
  {
   "cell_type": "raw",
   "id": "c6eed834",
   "metadata": {
    "papermill": {
     "duration": 0.009,
     "end_time": "2022-09-29T05:20:58.045364",
     "exception": false,
     "start_time": "2022-09-29T05:20:58.036364",
     "status": "completed"
    },
    "tags": []
   },
   "source": [
    "# [check_environment(k) for k in bracket_error(doc.source)]\n",
    "_, _, a = latex.get_content_per_section(doc.source, verbose=True)\n",
    "if not a:\n",
    "    print(\"no issues per section\")\n",
    "for ak in a:\n",
    "    r = check_environment(ak[1], offset=ak[0])\n",
    "    print(r[1], r[2])\n",
    "    print(r[0])"
   ]
  },
  {
   "cell_type": "code",
   "execution_count": null,
   "id": "71ce768a",
   "metadata": {
    "papermill": {
     "duration": 0.00902,
     "end_time": "2022-09-29T05:20:58.063460",
     "exception": false,
     "start_time": "2022-09-29T05:20:58.054440",
     "status": "completed"
    },
    "tags": []
   },
   "outputs": [],
   "source": []
  }
 ],
 "metadata": {
  "kernelspec": {
   "display_name": "Python 3.10.6 64-bit",
   "language": "python",
   "name": "python3"
  },
  "language_info": {
   "codemirror_mode": {
    "name": "ipython",
    "version": 3
   },
   "file_extension": ".py",
   "mimetype": "text/x-python",
   "name": "python",
   "nbconvert_exporter": "python",
   "pygments_lexer": "ipython3",
   "version": "3.9.14"
  },
  "papermill": {
   "default_parameters": {},
   "duration": 120.452044,
   "end_time": "2022-09-29T05:20:58.289891",
   "environment_variables": {},
   "exception": null,
   "input_path": "MPIA daily digest.ipynb",
   "output_path": "log.ipynb",
   "parameters": {},
   "start_time": "2022-09-29T05:18:57.837847",
   "version": "2.4.0"
  },
  "vscode": {
   "interpreter": {
    "hash": "e7370f93d1d0cde622a1f8e1c04877d8463912d04d973331ad4851f04de6915a"
   }
  },
  "widgets": {
   "application/vnd.jupyter.widget-state+json": {
    "state": {
     "0ef95f381b6441d0b2beff8f99abcda6": {
      "model_module": "@jupyter-widgets/controls",
      "model_module_version": "2.0.0",
      "model_name": "HTMLModel",
      "state": {
       "_dom_classes": [],
       "_model_module": "@jupyter-widgets/controls",
       "_model_module_version": "2.0.0",
       "_model_name": "HTMLModel",
       "_view_count": null,
       "_view_module": "@jupyter-widgets/controls",
       "_view_module_version": "2.0.0",
       "_view_name": "HTMLView",
       "description": "",
       "description_allow_html": false,
       "layout": "IPY_MODEL_17e3b91da31345d5842498abea869b2f",
       "placeholder": "​",
       "style": "IPY_MODEL_bae41bdf8d2f44819d80b408ecaffe10",
       "tabbable": null,
       "tooltip": null,
       "value": " 20/20 [01:34&lt;00:00,  2.31s/it]"
      }
     },
     "17e3b91da31345d5842498abea869b2f": {
      "model_module": "@jupyter-widgets/base",
      "model_module_version": "2.0.0",
      "model_name": "LayoutModel",
      "state": {
       "_model_module": "@jupyter-widgets/base",
       "_model_module_version": "2.0.0",
       "_model_name": "LayoutModel",
       "_view_count": null,
       "_view_module": "@jupyter-widgets/base",
       "_view_module_version": "2.0.0",
       "_view_name": "LayoutView",
       "align_content": null,
       "align_items": null,
       "align_self": null,
       "border_bottom": null,
       "border_left": null,
       "border_right": null,
       "border_top": null,
       "bottom": null,
       "display": null,
       "flex": null,
       "flex_flow": null,
       "grid_area": null,
       "grid_auto_columns": null,
       "grid_auto_flow": null,
       "grid_auto_rows": null,
       "grid_column": null,
       "grid_gap": null,
       "grid_row": null,
       "grid_template_areas": null,
       "grid_template_columns": null,
       "grid_template_rows": null,
       "height": null,
       "justify_content": null,
       "justify_items": null,
       "left": null,
       "margin": null,
       "max_height": null,
       "max_width": null,
       "min_height": null,
       "min_width": null,
       "object_fit": null,
       "object_position": null,
       "order": null,
       "overflow": null,
       "padding": null,
       "right": null,
       "top": null,
       "visibility": null,
       "width": null
      }
     },
     "2971af17c38846ebacc75d87e2410b7b": {
      "model_module": "@jupyter-widgets/controls",
      "model_module_version": "2.0.0",
      "model_name": "HTMLStyleModel",
      "state": {
       "_model_module": "@jupyter-widgets/controls",
       "_model_module_version": "2.0.0",
       "_model_name": "HTMLStyleModel",
       "_view_count": null,
       "_view_module": "@jupyter-widgets/base",
       "_view_module_version": "2.0.0",
       "_view_name": "StyleView",
       "background": null,
       "description_width": "",
       "font_size": null,
       "text_color": null
      }
     },
     "2f1f5a4d4e8d4852b2fdeb86a70e5473": {
      "model_module": "@jupyter-widgets/controls",
      "model_module_version": "2.0.0",
      "model_name": "FloatProgressModel",
      "state": {
       "_dom_classes": [],
       "_model_module": "@jupyter-widgets/controls",
       "_model_module_version": "2.0.0",
       "_model_name": "FloatProgressModel",
       "_view_count": null,
       "_view_module": "@jupyter-widgets/controls",
       "_view_module_version": "2.0.0",
       "_view_name": "ProgressView",
       "bar_style": "success",
       "description": "",
       "description_allow_html": false,
       "layout": "IPY_MODEL_c45537176ddf47afaa29e6ce3a7a9aa9",
       "max": 20.0,
       "min": 0.0,
       "orientation": "horizontal",
       "style": "IPY_MODEL_850719ad285d4908b25a5c13ab885800",
       "tabbable": null,
       "tooltip": null,
       "value": 20.0
      }
     },
     "657a8c0ca43a4198bedc2c2ff8ef699f": {
      "model_module": "@jupyter-widgets/controls",
      "model_module_version": "2.0.0",
      "model_name": "HTMLModel",
      "state": {
       "_dom_classes": [],
       "_model_module": "@jupyter-widgets/controls",
       "_model_module_version": "2.0.0",
       "_model_name": "HTMLModel",
       "_view_count": null,
       "_view_module": "@jupyter-widgets/controls",
       "_view_module_version": "2.0.0",
       "_view_name": "HTMLView",
       "description": "",
       "description_allow_html": false,
       "layout": "IPY_MODEL_8f6e8ebc46684caab8178e704459f787",
       "placeholder": "​",
       "style": "IPY_MODEL_2971af17c38846ebacc75d87e2410b7b",
       "tabbable": null,
       "tooltip": null,
       "value": "100%"
      }
     },
     "850719ad285d4908b25a5c13ab885800": {
      "model_module": "@jupyter-widgets/controls",
      "model_module_version": "2.0.0",
      "model_name": "ProgressStyleModel",
      "state": {
       "_model_module": "@jupyter-widgets/controls",
       "_model_module_version": "2.0.0",
       "_model_name": "ProgressStyleModel",
       "_view_count": null,
       "_view_module": "@jupyter-widgets/base",
       "_view_module_version": "2.0.0",
       "_view_name": "StyleView",
       "bar_color": null,
       "description_width": ""
      }
     },
     "8f6e8ebc46684caab8178e704459f787": {
      "model_module": "@jupyter-widgets/base",
      "model_module_version": "2.0.0",
      "model_name": "LayoutModel",
      "state": {
       "_model_module": "@jupyter-widgets/base",
       "_model_module_version": "2.0.0",
       "_model_name": "LayoutModel",
       "_view_count": null,
       "_view_module": "@jupyter-widgets/base",
       "_view_module_version": "2.0.0",
       "_view_name": "LayoutView",
       "align_content": null,
       "align_items": null,
       "align_self": null,
       "border_bottom": null,
       "border_left": null,
       "border_right": null,
       "border_top": null,
       "bottom": null,
       "display": null,
       "flex": null,
       "flex_flow": null,
       "grid_area": null,
       "grid_auto_columns": null,
       "grid_auto_flow": null,
       "grid_auto_rows": null,
       "grid_column": null,
       "grid_gap": null,
       "grid_row": null,
       "grid_template_areas": null,
       "grid_template_columns": null,
       "grid_template_rows": null,
       "height": null,
       "justify_content": null,
       "justify_items": null,
       "left": null,
       "margin": null,
       "max_height": null,
       "max_width": null,
       "min_height": null,
       "min_width": null,
       "object_fit": null,
       "object_position": null,
       "order": null,
       "overflow": null,
       "padding": null,
       "right": null,
       "top": null,
       "visibility": null,
       "width": null
      }
     },
     "9e10129105c14467910ae5b9a2ebf2ad": {
      "model_module": "@jupyter-widgets/controls",
      "model_module_version": "2.0.0",
      "model_name": "HBoxModel",
      "state": {
       "_dom_classes": [],
       "_model_module": "@jupyter-widgets/controls",
       "_model_module_version": "2.0.0",
       "_model_name": "HBoxModel",
       "_view_count": null,
       "_view_module": "@jupyter-widgets/controls",
       "_view_module_version": "2.0.0",
       "_view_name": "HBoxView",
       "box_style": "",
       "children": [
        "IPY_MODEL_657a8c0ca43a4198bedc2c2ff8ef699f",
        "IPY_MODEL_2f1f5a4d4e8d4852b2fdeb86a70e5473",
        "IPY_MODEL_0ef95f381b6441d0b2beff8f99abcda6"
       ],
       "layout": "IPY_MODEL_d4aec4423bf34e91926fd84b75d0db19",
       "tabbable": null,
       "tooltip": null
      }
     },
     "bae41bdf8d2f44819d80b408ecaffe10": {
      "model_module": "@jupyter-widgets/controls",
      "model_module_version": "2.0.0",
      "model_name": "HTMLStyleModel",
      "state": {
       "_model_module": "@jupyter-widgets/controls",
       "_model_module_version": "2.0.0",
       "_model_name": "HTMLStyleModel",
       "_view_count": null,
       "_view_module": "@jupyter-widgets/base",
       "_view_module_version": "2.0.0",
       "_view_name": "StyleView",
       "background": null,
       "description_width": "",
       "font_size": null,
       "text_color": null
      }
     },
     "c45537176ddf47afaa29e6ce3a7a9aa9": {
      "model_module": "@jupyter-widgets/base",
      "model_module_version": "2.0.0",
      "model_name": "LayoutModel",
      "state": {
       "_model_module": "@jupyter-widgets/base",
       "_model_module_version": "2.0.0",
       "_model_name": "LayoutModel",
       "_view_count": null,
       "_view_module": "@jupyter-widgets/base",
       "_view_module_version": "2.0.0",
       "_view_name": "LayoutView",
       "align_content": null,
       "align_items": null,
       "align_self": null,
       "border_bottom": null,
       "border_left": null,
       "border_right": null,
       "border_top": null,
       "bottom": null,
       "display": null,
       "flex": null,
       "flex_flow": null,
       "grid_area": null,
       "grid_auto_columns": null,
       "grid_auto_flow": null,
       "grid_auto_rows": null,
       "grid_column": null,
       "grid_gap": null,
       "grid_row": null,
       "grid_template_areas": null,
       "grid_template_columns": null,
       "grid_template_rows": null,
       "height": null,
       "justify_content": null,
       "justify_items": null,
       "left": null,
       "margin": null,
       "max_height": null,
       "max_width": null,
       "min_height": null,
       "min_width": null,
       "object_fit": null,
       "object_position": null,
       "order": null,
       "overflow": null,
       "padding": null,
       "right": null,
       "top": null,
       "visibility": null,
       "width": null
      }
     },
     "d4aec4423bf34e91926fd84b75d0db19": {
      "model_module": "@jupyter-widgets/base",
      "model_module_version": "2.0.0",
      "model_name": "LayoutModel",
      "state": {
       "_model_module": "@jupyter-widgets/base",
       "_model_module_version": "2.0.0",
       "_model_name": "LayoutModel",
       "_view_count": null,
       "_view_module": "@jupyter-widgets/base",
       "_view_module_version": "2.0.0",
       "_view_name": "LayoutView",
       "align_content": null,
       "align_items": null,
       "align_self": null,
       "border_bottom": null,
       "border_left": null,
       "border_right": null,
       "border_top": null,
       "bottom": null,
       "display": null,
       "flex": null,
       "flex_flow": null,
       "grid_area": null,
       "grid_auto_columns": null,
       "grid_auto_flow": null,
       "grid_auto_rows": null,
       "grid_column": null,
       "grid_gap": null,
       "grid_row": null,
       "grid_template_areas": null,
       "grid_template_columns": null,
       "grid_template_rows": null,
       "height": null,
       "justify_content": null,
       "justify_items": null,
       "left": null,
       "margin": null,
       "max_height": null,
       "max_width": null,
       "min_height": null,
       "min_width": null,
       "object_fit": null,
       "object_position": null,
       "order": null,
       "overflow": null,
       "padding": null,
       "right": null,
       "top": null,
       "visibility": null,
       "width": null
      }
     }
    },
    "version_major": 2,
    "version_minor": 0
   }
  }
 },
 "nbformat": 4,
 "nbformat_minor": 5
}