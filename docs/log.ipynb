{
 "cells": [
  {
   "cell_type": "markdown",
   "id": "92bcb855",
   "metadata": {
    "papermill": {
     "duration": 0.004116,
     "end_time": "2025-01-07T04:10:41.161020",
     "exception": false,
     "start_time": "2025-01-07T04:10:41.156904",
     "status": "completed"
    },
    "tags": []
   },
   "source": [
    "# MPIA Arxiv on Deck 2\n",
    "\n",
    "Contains the steps to produce the paper extractions."
   ]
  },
  {
   "cell_type": "code",
   "execution_count": 1,
   "id": "3a0d6e11",
   "metadata": {
    "execution": {
     "iopub.execute_input": "2025-01-07T04:10:41.168877Z",
     "iopub.status.busy": "2025-01-07T04:10:41.168254Z",
     "iopub.status.idle": "2025-01-07T04:10:41.504317Z",
     "shell.execute_reply": "2025-01-07T04:10:41.503572Z"
    },
    "papermill": {
     "duration": 0.341291,
     "end_time": "2025-01-07T04:10:41.505643",
     "exception": false,
     "start_time": "2025-01-07T04:10:41.164352",
     "status": "completed"
    },
    "tags": []
   },
   "outputs": [],
   "source": [
    "# Imports\n",
    "import os\n",
    "from IPython.display import Markdown, display\n",
    "from tqdm.notebook import tqdm\n",
    "import warnings\n",
    "from PIL import Image \n",
    "import re\n",
    "\n",
    "# requires arxiv_on_deck_2\n",
    "\n",
    "from arxiv_on_deck_2.arxiv2 import (get_new_papers, \n",
    "                                    get_paper_from_identifier,\n",
    "                                    retrieve_document_source, \n",
    "                                    get_markdown_badge)\n",
    "from arxiv_on_deck_2 import (latex,\n",
    "                             latex_bib,\n",
    "                             mpia,\n",
    "                             highlight_authors_in_list)\n",
    "\n",
    "# Sometimes images are really big\n",
    "Image.MAX_IMAGE_PIXELS = 1000000000 "
   ]
  },
  {
   "cell_type": "code",
   "execution_count": 2,
   "id": "22aa9d44",
   "metadata": {
    "execution": {
     "iopub.execute_input": "2025-01-07T04:10:41.513229Z",
     "iopub.status.busy": "2025-01-07T04:10:41.512722Z",
     "iopub.status.idle": "2025-01-07T04:10:41.520586Z",
     "shell.execute_reply": "2025-01-07T04:10:41.519941Z"
    },
    "papermill": {
     "duration": 0.012528,
     "end_time": "2025-01-07T04:10:41.521543",
     "exception": false,
     "start_time": "2025-01-07T04:10:41.509015",
     "status": "completed"
    },
    "tags": []
   },
   "outputs": [],
   "source": [
    "# Some useful definitions.\n",
    "\n",
    "class AffiliationWarning(UserWarning):\n",
    "    pass\n",
    "\n",
    "class AffiliationError(RuntimeError):\n",
    "    pass\n",
    "\n",
    "def validation(source: str):\n",
    "    \"\"\"Raises error paper during parsing of source file\n",
    "    \n",
    "    Allows checks before parsing TeX code.\n",
    "    \n",
    "    Raises AffiliationWarning\n",
    "    \"\"\"\n",
    "    check = mpia.affiliation_verifications(source, verbose=True)\n",
    "    if check is not True:\n",
    "        raise AffiliationError(\"mpia.affiliation_verifications: \" + check)\n",
    "\n",
    "        \n",
    "warnings.simplefilter('always', AffiliationWarning)\n",
    "\n",
    "\n",
    "def get_markdown_qrcode(paper_id: str):\n",
    "    \"\"\" Generate a qrcode to the arxiv page using qrserver.com\n",
    "    \n",
    "    :param paper: Arxiv paper\n",
    "    :returns: markdown text\n",
    "    \"\"\"\n",
    "    url = r\"https://api.qrserver.com/v1/create-qr-code/?size=100x100&data=\"\n",
    "    txt = f\"\"\"<img src={url}\"https://arxiv.org/abs/{paper_id}\">\"\"\"\n",
    "    txt = '<div id=\"qrcode\">' + txt + '</div>'\n",
    "    return txt\n",
    "\n",
    "\n",
    "def clean_non_western_encoded_characters_commands(text: str) -> str:\n",
    "    \"\"\" Remove non-western encoded characters from a string\n",
    "    List may need to grow.\n",
    "    \n",
    "    :param text: the text to clean\n",
    "    :return: the cleaned text\n",
    "    \"\"\"\n",
    "    text = re.sub(r\"(\\\\begin{CJK}{UTF8}{gbsn})(.*?)(\\\\end{CJK})\", r\"\\2\", text)\n",
    "    return text\n",
    "\n",
    "\n",
    "def get_initials(name: str) -> str:\n",
    "    \"\"\" Get the short name, e.g., A.-B. FamName\n",
    "    :param name: full name\n",
    "    :returns: initials\n",
    "    \"\"\"\n",
    "    initials = []\n",
    "    # account for non western names often in ()\n",
    "    if '(' in name:\n",
    "        name = clean_non_western_encoded_characters_commands(name)\n",
    "        suffix = re.findall(r\"\\((.*?)\\)\", name)[0]\n",
    "        name = name.replace(f\"({suffix})\", '')\n",
    "    else:\n",
    "        suffix = ''\n",
    "    split = name.split()\n",
    "    for token in split[:-1]:\n",
    "        if '-' in token:\n",
    "            current = '-'.join([k[0] + '.' for k in token.split('-')])\n",
    "        else:\n",
    "            current = token[0] + '.'\n",
    "        initials.append(current)\n",
    "    initials.append(split[-1].strip())\n",
    "    if suffix:\n",
    "        initials.append(f\"({suffix})\")\n",
    "    return ' '.join(initials)"
   ]
  },
  {
   "cell_type": "markdown",
   "id": "14bd6310",
   "metadata": {
    "papermill": {
     "duration": 0.00304,
     "end_time": "2025-01-07T04:10:41.527781",
     "exception": false,
     "start_time": "2025-01-07T04:10:41.524741",
     "status": "completed"
    },
    "tags": []
   },
   "source": [
    "## get list of arxiv paper candidates\n",
    "\n",
    "We use the MPIA mitarbeiter list webpage from mpia.de to get author names\n",
    "We then get all new papers from Arxiv and match authors"
   ]
  },
  {
   "cell_type": "code",
   "execution_count": 3,
   "id": "7ea813a8",
   "metadata": {
    "execution": {
     "iopub.execute_input": "2025-01-07T04:10:41.534843Z",
     "iopub.status.busy": "2025-01-07T04:10:41.534373Z",
     "iopub.status.idle": "2025-01-07T04:10:58.429574Z",
     "shell.execute_reply": "2025-01-07T04:10:58.428765Z"
    },
    "papermill": {
     "duration": 16.900309,
     "end_time": "2025-01-07T04:10:58.431080",
     "exception": false,
     "start_time": "2025-01-07T04:10:41.530771",
     "status": "completed"
    },
    "tags": []
   },
   "outputs": [],
   "source": [
    "# deal with the author list and edge cases of people that cannot be consistent on their name  \n",
    "\n",
    "def filter_non_scientists(name: str) -> bool:\n",
    "    \"\"\" Loose filter on expected authorships\n",
    "\n",
    "    removing IT, administration, technical staff\n",
    "    :param name: name\n",
    "    :returns: False if name is not a scientist\n",
    "    \"\"\"\n",
    "    remove_list = ['Licht', 'Binroth', 'Witzel', 'Jordan',\n",
    "                   'Zähringer', 'Scheerer', 'Hoffmann', 'Düe',\n",
    "                   'Hellmich', 'Enkler-Scharpegge', 'Witte-Nguy',\n",
    "                   'Dehen', 'Beckmann', 'Jager', 'Jäger'\n",
    "                  ]\n",
    "\n",
    "    for k in remove_list:\n",
    "        if k in name:\n",
    "            return False\n",
    "    return True\n",
    "\n",
    "def add_author_to_list(author_list: list) -> list:\n",
    "    \"\"\" Add author to list if not already in list\n",
    "    \n",
    "    :param author: author name\n",
    "    :param author_list: list of authors\n",
    "    :returns: updated list of authors\n",
    "    \"\"\"\n",
    "    add_list = ['T. Henning']\n",
    "\n",
    "    for author in add_list:\n",
    "        if author not in author_list:\n",
    "            author_list.append(author)\n",
    "    return author_list\n",
    "\n",
    "# get list from MPIA website\n",
    "# filter for non-scientists (mpia.get_mpia_mitarbeiter_list() does some filtering)\n",
    "mpia_authors = [k[1] for k in mpia.get_mpia_mitarbeiter_list() if filter_non_scientists(k[1])]\n",
    "# add some missing author because of inconsistencies in their MPIA name and author name on papers\n",
    "mpia_authors = add_author_to_list(mpia_authors)"
   ]
  },
  {
   "cell_type": "code",
   "execution_count": 4,
   "id": "2645e73a",
   "metadata": {
    "execution": {
     "iopub.execute_input": "2025-01-07T04:10:58.439528Z",
     "iopub.status.busy": "2025-01-07T04:10:58.438915Z",
     "iopub.status.idle": "2025-01-07T04:10:59.138080Z",
     "shell.execute_reply": "2025-01-07T04:10:59.137444Z"
    },
    "papermill": {
     "duration": 0.704388,
     "end_time": "2025-01-07T04:10:59.139082",
     "exception": false,
     "start_time": "2025-01-07T04:10:58.434694",
     "status": "completed"
    },
    "tags": []
   },
   "outputs": [
    {
     "name": "stdout",
     "output_type": "stream",
     "text": [
      "C. Gapp  ->  C. Gapp  |  ['C. Gapp']\n",
      "H. Beuther  ->  H. Beuther  |  ['H. Beuther']\n",
      "T. Henning  ->  T. Henning  |  ['T. Henning']\n",
      "X. Zhang  ->  X. Zhang  |  ['X. Zhang']\n",
      "J. Li  ->  J. Li  |  ['J. Li']\n"
     ]
    },
    {
     "name": "stdout",
     "output_type": "stream",
     "text": [
      "Arxiv has 82 new papers today\n",
      "          4 with possible author matches\n"
     ]
    }
   ],
   "source": [
    "new_papers = get_new_papers()\n",
    "# add manual references\n",
    "add_paper_refs = []\n",
    "new_papers.extend([get_paper_from_identifier(k) for k in add_paper_refs])\n",
    "\n",
    "def robust_call(fn, value, *args, **kwargs):\n",
    "    try:\n",
    "        return fn(value, *args, **kwargs)\n",
    "    except Exception:\n",
    "        return value\n",
    "\n",
    "candidates = []\n",
    "for paperk in new_papers:\n",
    "    # Check author list with their initials\n",
    "    normed_author_list = [robust_call(mpia.get_initials, k) for k in paperk['authors']]\n",
    "    hl_authors = highlight_authors_in_list(normed_author_list, mpia_authors, verbose=True)\n",
    "    matches = [(hl, orig) for hl, orig in zip(hl_authors, paperk['authors']) if 'mark' in hl]\n",
    "    paperk['authors'] = hl_authors\n",
    "    if matches:\n",
    "        # only select paper if an author matched our list\n",
    "        candidates.append(paperk)\n",
    "print(\"\"\"Arxiv has {0:,d} new papers today\"\"\".format(len(new_papers)))        \n",
    "print(\"\"\"          {0:,d} with possible author matches\"\"\".format(len(candidates)))"
   ]
  },
  {
   "cell_type": "markdown",
   "id": "3543b34a",
   "metadata": {
    "papermill": {
     "duration": 0.003109,
     "end_time": "2025-01-07T04:10:59.145734",
     "exception": false,
     "start_time": "2025-01-07T04:10:59.142625",
     "status": "completed"
    },
    "tags": []
   },
   "source": [
    "# Parse sources and generate relevant outputs\n",
    "\n",
    "From the candidates, we do the following steps:\n",
    "* get their tarball from ArXiv (and extract data)\n",
    "* find the main .tex file: find one with \\documentclass{...} (sometimes it's non trivial)\n",
    "* Check affiliations with :func:`validation`, which uses :func:`mpia.affiliation_verifications`\n",
    "* If passing the affiliations: we parse the .tex source\n",
    "   * inject sub-documents into the main (flatten the main document)\n",
    "   * parse structure, extract information (title, abstract, authors, figures...)\n",
    "   * handles `\\graphicspath` if provided\n",
    "* Generate the .md document."
   ]
  },
  {
   "cell_type": "code",
   "execution_count": 5,
   "id": "9576b79e",
   "metadata": {
    "execution": {
     "iopub.execute_input": "2025-01-07T04:10:59.153116Z",
     "iopub.status.busy": "2025-01-07T04:10:59.152687Z",
     "iopub.status.idle": "2025-01-07T04:11:35.376740Z",
     "shell.execute_reply": "2025-01-07T04:11:35.375999Z"
    },
    "papermill": {
     "duration": 36.229036,
     "end_time": "2025-01-07T04:11:35.377899",
     "exception": false,
     "start_time": "2025-01-07T04:10:59.148863",
     "status": "completed"
    },
    "scrolled": false,
    "tags": []
   },
   "outputs": [
    {
     "data": {
      "application/vnd.jupyter.widget-view+json": {
       "model_id": "4372dab693f2442691f9a4a399671b49",
       "version_major": 2,
       "version_minor": 0
      },
      "text/plain": [
       "  0%|          | 0/4 [00:00<?, ?it/s]"
      ]
     },
     "metadata": {},
     "output_type": "display_data"
    },
    {
     "name": "stdout",
     "output_type": "stream",
     "text": [
      "Retrieving document from  https://arxiv.org/e-print/2501.02081\n"
     ]
    },
    {
     "name": "stdout",
     "output_type": "stream",
     "text": [
      "extracting tarball to tmp_2501.02081..."
     ]
    },
    {
     "name": "stdout",
     "output_type": "stream",
     "text": [
      " done.\n"
     ]
    },
    {
     "name": "stdout",
     "output_type": "stream",
     "text": [
      "C. Gapp  ->  C. Gapp  |  ['C. Gapp']\n"
     ]
    },
    {
     "name": "stdout",
     "output_type": "stream",
     "text": [
      "Found 68 bibliographic references in tmp_2501.02081/main.bbl.\n",
      "Retrieving document from  https://arxiv.org/e-print/2501.02085\n"
     ]
    },
    {
     "name": "stdout",
     "output_type": "stream",
     "text": [
      "extracting tarball to tmp_2501.02085..."
     ]
    },
    {
     "name": "stdout",
     "output_type": "stream",
     "text": [
      " done.\n"
     ]
    },
    {
     "name": "stdout",
     "output_type": "stream",
     "text": [
      "Found 65 bibliographic references in tmp_2501.02085/new_paper_revised_v2_arxiv.bbl.\n",
      "Retrieving document from  https://arxiv.org/e-print/2501.02206\n"
     ]
    },
    {
     "name": "stdout",
     "output_type": "stream",
     "text": [
      "extracting tarball to tmp_2501.02206..."
     ]
    },
    {
     "name": "stdout",
     "output_type": "stream",
     "text": [
      " done.\n",
      "Retrieving document from  https://arxiv.org/e-print/2501.02720\n"
     ]
    },
    {
     "name": "stdout",
     "output_type": "stream",
     "text": [
      "extracting tarball to tmp_2501.02720..."
     ]
    },
    {
     "name": "stdout",
     "output_type": "stream",
     "text": [
      " done.\n"
     ]
    }
   ],
   "source": [
    "documents = []\n",
    "failed = []\n",
    "for paper in tqdm(candidates):\n",
    "    # debug crap\n",
    "    paper['identifier'] = paper['identifier'].lower().replace('arxiv:', '').replace(r'\\n', '').strip()\n",
    "    paper_id = paper['identifier']\n",
    "    \n",
    "    folder = f'tmp_{paper_id}'\n",
    "\n",
    "    try:\n",
    "        if not os.path.isdir(folder):\n",
    "            folder = retrieve_document_source(f\"{paper_id}\", f'tmp_{paper_id}')\n",
    "        \n",
    "        try:\n",
    "            doc = latex.LatexDocument(folder, validation=validation)    \n",
    "        except AffiliationError as affilerror:\n",
    "            msg = f\"ArXiv:{paper_id:s} is not an MPIA paper... \" + str(affilerror)\n",
    "            failed.append((paper, \"affiliation error: \" + str(affilerror) ))\n",
    "            continue\n",
    "        \n",
    "        # Hack because sometimes author parsing does not work well\n",
    "        if (len(doc.authors) != len(paper['authors'])):\n",
    "            doc._authors = paper['authors']\n",
    "        else:\n",
    "            # highlight authors (FIXME: doc.highlight_authors)\n",
    "            # done on arxiv paper already\n",
    "            doc._authors = highlight_authors_in_list(\n",
    "                [get_initials(k) for k in doc.authors], \n",
    "                mpia_authors, verbose=True)\n",
    "        if (doc.abstract) in (None, ''):\n",
    "            doc._abstract = paper['abstract']\n",
    "            \n",
    "        doc.comment = (get_markdown_badge(paper_id) + \n",
    "                       \"<mark>Appeared on: \" + paper['date'] + \"</mark> - \")\n",
    "        if paper['comments']:\n",
    "            doc.comment += \" _\" + paper['comments'] + \"_\"\n",
    "        \n",
    "        full_md = doc.generate_markdown_text()\n",
    "        \n",
    "        full_md += get_markdown_qrcode(paper_id)\n",
    "        \n",
    "        # replace citations\n",
    "        try:\n",
    "            bibdata = latex_bib.LatexBib.from_doc(doc)\n",
    "            full_md = latex_bib.replace_citations(full_md, bibdata)\n",
    "        except Exception as e:\n",
    "            print(\"Issues with the citations\")\n",
    "            print(e)\n",
    "        \n",
    "        documents.append((paper_id, full_md))\n",
    "    except Exception as e:\n",
    "        warnings.warn(latex.LatexWarning(f\"{paper_id:s} did not run properly\\n\" +\n",
    "                                         str(e)\n",
    "                                        ))\n",
    "        failed.append((paper, \"latex error \" + str(e)))"
   ]
  },
  {
   "cell_type": "markdown",
   "id": "2505a25c",
   "metadata": {
    "papermill": {
     "duration": 0.003796,
     "end_time": "2025-01-07T04:11:35.385881",
     "exception": false,
     "start_time": "2025-01-07T04:11:35.382085",
     "status": "completed"
    },
    "tags": []
   },
   "source": [
    "### Export the logs\n",
    "\n",
    "Throughout, we also keep track of the logs per paper. see `logs-{today date}.md` "
   ]
  },
  {
   "cell_type": "code",
   "execution_count": 6,
   "id": "d733828a",
   "metadata": {
    "execution": {
     "iopub.execute_input": "2025-01-07T04:11:35.394546Z",
     "iopub.status.busy": "2025-01-07T04:11:35.394124Z",
     "iopub.status.idle": "2025-01-07T04:11:35.409142Z",
     "shell.execute_reply": "2025-01-07T04:11:35.408474Z"
    },
    "papermill": {
     "duration": 0.020575,
     "end_time": "2025-01-07T04:11:35.410200",
     "exception": false,
     "start_time": "2025-01-07T04:11:35.389625",
     "status": "completed"
    },
    "scrolled": false,
    "tags": []
   },
   "outputs": [
    {
     "data": {
      "text/markdown": [
       "## Successful papers"
      ],
      "text/plain": [
       "<IPython.core.display.Markdown object>"
      ]
     },
     "metadata": {},
     "output_type": "display_data"
    },
    {
     "data": {
      "text/markdown": [
       "\n",
       "|||\n",
       "|---:|:---|\n",
       "| [![arXiv](https://img.shields.io/badge/arXiv-2501.02081-b31b1b.svg)](https://arxiv.org/abs/2501.02081) | **Statistical trends in JWST transiting exoplanet atmospheres**  |\n",
       "|| G. Fu, et al. -- incl., <mark>C. Gapp</mark> |\n",
       "|*Appeared on*| *2025-01-07*|\n",
       "|*Comments*| *Accepted to ApJ, JWST keeps on delivering!*|\n",
       "|**Abstract**|            Our brains are hardwired for pattern recognition as correlations are useful for predicting and understanding nature. As more exoplanet atmospheres are being characterized with JWST, we are starting to unveil their properties on a population level. Here we present a framework for comparing exoplanet transmission spectroscopy from 3 to 5$\\mu$m with four bands: L (2.9 - 3.7$\\mu$m), SO$_2$ (3.95 - 4.1$\\mu$m), CO$_2$ (4.25 - 4.4$\\mu$m) and CO (4.5 - 4.9$\\mu$m). Together, the four bands cover the major carbon, oxygen, nitrogen, and sulfur-bearing molecules including H$_2$O, CH$_4$, NH$_3$, H$_2$S, SO$_2$, CO$_2$, and CO. Among the eight high-precision gas giant exoplanet planet spectra we collected, we found strong correlations between the SO$_2$-L index and planet mass (r=-0.41$\\pm$0.09) and temperature (r=-0.64$\\pm$0.08), indicating SO$_2$ preferably exists (SO$_2$-L$>$-0.5) among low mass ($\\sim<$0.3M$_J$) and cooler ($\\sim<$1200K) targets. We also observe strong temperature dependency for both CO$_2$-L and CO-L indices. Under equilibrium chemistry and isothermal thermal structure assumptions, we find that the planet sample favors super-solar metallicity and low C/O ratio ($<$0.7). In addition, the presence of a mass-metallicity correlation is favored over uniform metallicity with the eight planets. We further introduce the SO$_2$-L versus CO$_2$-L diagram alike the color-magnitude diagram for stars and brown dwarfs. All reported trends here will be testable and be further quantified with existing and future JWST observations within the next few years.         |"
      ],
      "text/plain": [
       "[2501.02081] Statistical trends in JWST transiting exoplanet atmospheres\n",
       "\tG. Fu, et al. -- incl., <mark>C. Gapp</mark>"
      ]
     },
     "metadata": {},
     "output_type": "display_data"
    },
    {
     "data": {
      "text/markdown": [
       "\n",
       "|||\n",
       "|---:|:---|\n",
       "| [![arXiv](https://img.shields.io/badge/arXiv-2501.02085-b31b1b.svg)](https://arxiv.org/abs/2501.02085) | **JOYS: The [D/H] abundance derived from protostellar outflows across the Galactic disk measured with JWST**  |\n",
       "|| L. Francis, et al. -- incl., <mark>H. Beuther</mark>, <mark>T. Henning</mark> |\n",
       "|*Appeared on*| *2025-01-07*|\n",
       "|*Comments*| *30 Pages, 20 Figures. Accepted for publication in Astronomy and Astrophysics*|\n",
       "|**Abstract**|            The total deuterium abundance [D/H] in the universe is set by just two processes: the creation of deuterium in Big Bang Nucleosynthesis at an abundance of [D/H]$=2.58\\pm0.13\\times10^{-5}$, and its destruction within stellar interiors. Measurements of the total [D/H] abundance can potentially provide a probe of Galactic chemical evolution, however, most measurements of [D/H] are only sensitive to the gas-phase deuterium, and the amount of deuterium sequestered in carbonaceous dust grains is debated. With the launch of JWST, it is now possible to measure the gas-phase [D/H] at unprecedented sensitivity and distances through observation of mid-IR lines of H$_2$ and HD. We employ data from the JWST Observations of Young protoStars (JOYS) program to measure the gas-phase [D/H] abundance with a rotation diagram analysis towards 5 nearby low-mass and 5 distant high-mass protostellar outflows. The gas-phase [D/H] varies between low-mass sources by up to a factor of $\\sim4$, despite these sources likely having formed in a region of the Galactic disk that would be expected to have nearly constant total [D/H]. Most measurements of gas-phase [D/H] from our work or previous studies produce [D/H] $\\lesssim 1.0\\times10^{-5}$, a factor of $2-4$ lower than found from local UV absorption lines and as expected from Galactic chemical evolution models. The variations in [D/H] between our low-mass sources and the low [D/H] with respect to Galactic chemical evolution models suggest that our observations are not sensitive to the total [D/H]. Significant depletion of deuterium onto carbonaceous dust grains is a possible explanation, and tentative evidence of enhanced [D/H] towards shock positions with higher gas-phase Fe abundance is seen in the HH 211 outflow. Deeper observations of HD and H$_2$ in shocked environments and modelling of dust-grain destruction are warranted to test for the effects of depletion.         |"
      ],
      "text/plain": [
       "[2501.02085] JOYS: The [D/H] abundance derived from protostellar outflows across the Galactic disk measured with JWST\n",
       "\tL. Francis, et al. -- incl., <mark>H. Beuther</mark>, <mark>T. Henning</mark>"
      ]
     },
     "metadata": {},
     "output_type": "display_data"
    },
    {
     "data": {
      "text/markdown": [
       "## Failed papers"
      ],
      "text/plain": [
       "<IPython.core.display.Markdown object>"
      ]
     },
     "metadata": {},
     "output_type": "display_data"
    },
    {
     "data": {
      "text/markdown": [
       "\n",
       "|||\n",
       "|---:|:---|\n",
       "| [![arXiv](https://img.shields.io/badge/arXiv-2501.02206-b31b1b.svg)](https://arxiv.org/abs/2501.02206) | **A Comprehensive Catalog of Emission-line Nebulae, Star Clusters, and Supergiants in M31 from the LAMOST Spectroscopic Survey**  |\n",
       "|| P. Chen, et al. -- incl., <mark>X. Zhang</mark> |\n",
       "|*Appeared on*| *2025-01-07*|\n",
       "|*Comments*| *17 pages, 9 figures; Accepted for publication in AJ*|\n",
       "|**Abstract**|            Spectroscopic observations of various tracers in nearby galaxies, such as Andromeda (M31), play a crucial role in identifying and classifying individual stellar populations and nebular objects, thereby enhancing our understanding of galactic composition, environment, and dynamics as well as stellar evolution. While the LAMOST (Large Sky Area Multi-Object Fibre Spectroscopic Telescope) survey of M31 has produced extensive datasets, a comprehensive catalog of emission-line nebulae, star clusters, and supergiants is yet to be completed. In this paper, we present a final catalog of 384 emission-line nebulae, 380 star clusters, and 375 supergiants and candidates in M31, as carefully selected and identified from the LAMOST spectroscopic database. These objects were classified using a random forest algorithm, followed by thorough visual examinations of their spectral characteristics as well as morphologies revealed by archive images. For emission-line nebulae, we measured radial velocities and relative fluxes of emission lines, enabling further classification of planetary nebulae and HII regions. Additionally, we identified 245 emission-line nebulae in M33. This work lays the data foundation for the study of M31, and offers valuable tracers to investigate M31's structure and evolution.         |\n",
       "|<p style=\"color:green\"> **ERROR** </p>| <p style=\"color:green\">affiliation error: mpia.affiliation_verifications: 'Heidelberg' keyword not found.</p> |"
      ],
      "text/plain": [
       "<IPython.core.display.Markdown object>"
      ]
     },
     "metadata": {},
     "output_type": "display_data"
    },
    {
     "data": {
      "text/markdown": [
       "\n",
       "|||\n",
       "|---:|:---|\n",
       "| [![arXiv](https://img.shields.io/badge/arXiv-2501.02720-b31b1b.svg)](https://arxiv.org/abs/2501.02720) | **Contribution of Unresolved Sources to Diffuse Gamma-Ray Emission from the Galactic Plane**  |\n",
       "|| J. He, et al. -- incl., <mark>J. Li</mark> |\n",
       "|*Appeared on*| *2025-01-07*|\n",
       "|*Comments*| *9 pages, 5 figures, accepted for publication in ApJ*|\n",
       "|**Abstract**|            The diffuse gamma-ray emission from the Milky Way serves as a crucial probe for understanding the propagation and interactions of cosmic rays within our galaxy. The Galactic diffuse gamma-ray emission between 10 TeV and 1 PeV has been recently measured by the square kilometer array (KM2A) of the Large High Altitude Air Shower Observatory (LHAASO). The flux is higher than predicted for cosmic rays interacting with the interstellar medium. In this work, we utilize a non-parametric method to derive the source count distribution using the published first LHAASO source catalog. Based on this distribution, we calculate the contribution of unresolved sources to the diffuse emission measured by KM2A. When comparing our results to the measured diffuse gamma-ray emission, we demonstrate that for the outer Galactic region, the contributions from unresolved sources and those predicted by models are roughly consistent with experimental observations within the uncertainty. However, for the inner Galactic region, additional components are required to account for the observed data.         |\n",
       "|<p style=\"color:green\"> **ERROR** </p>| <p style=\"color:green\">affiliation error: mpia.affiliation_verifications: 'Heidelberg' keyword not found.</p> |"
      ],
      "text/plain": [
       "<IPython.core.display.Markdown object>"
      ]
     },
     "metadata": {},
     "output_type": "display_data"
    }
   ],
   "source": [
    "import datetime\n",
    "today = str(datetime.date.today())\n",
    "logfile = f\"_build/html/logs/log-{today}.md\"\n",
    "\n",
    "\n",
    "with open(logfile, 'w') as logs:\n",
    "    # Success\n",
    "    logs.write(f'# Arxiv on Deck 2: Logs - {today}\\n\\n')\n",
    "    logs.write(\"\"\"* Arxiv had {0:,d} new papers\\n\"\"\".format(len(new_papers)))\n",
    "    logs.write(\"\"\"    * {0:,d} with possible author matches\\n\\n\"\"\".format(len(candidates)))\n",
    "    logs.write(\"## Sucessful papers\\n\\n\")\n",
    "    display(Markdown(\"## Successful papers\"))\n",
    "    success = [k[0] for k in documents]\n",
    "    for candid in candidates:\n",
    "        if candid['identifier'].split(':')[-1] in success:\n",
    "            display(candid)\n",
    "            logs.write(candid.generate_markdown_text() + '\\n\\n')\n",
    "\n",
    "    ## failed\n",
    "    logs.write(\"## Failed papers\\n\\n\")\n",
    "    display(Markdown(\"## Failed papers\"))\n",
    "    failed = sorted(failed, key=lambda x: x[1])\n",
    "    current_reason = \"\"\n",
    "    for paper, reason in failed:\n",
    "        if 'affiliation' in reason:\n",
    "            color = 'green'\n",
    "        else:\n",
    "            color = 'red'\n",
    "        data = Markdown(\n",
    "                paper.generate_markdown_text() + \n",
    "                f'\\n|<p style=\"color:{color:s}\"> **ERROR** </p>| <p style=\"color:{color:s}\">{reason:s}</p> |'\n",
    "               )\n",
    "        if reason != current_reason:\n",
    "            logs.write(f'### {reason:s} \\n\\n')\n",
    "            current_reason = reason\n",
    "        logs.write(data.data + '\\n\\n')\n",
    "        \n",
    "        # only display here the important errors (all in logs)\n",
    "        # if color in ('red',):\n",
    "        display(data)"
   ]
  },
  {
   "cell_type": "markdown",
   "id": "472d20ee",
   "metadata": {
    "papermill": {
     "duration": 0.004373,
     "end_time": "2025-01-07T04:11:35.419066",
     "exception": false,
     "start_time": "2025-01-07T04:11:35.414693",
     "status": "completed"
    },
    "tags": []
   },
   "source": [
    "## Export documents\n",
    "\n",
    "We now write the .md files and export relevant images"
   ]
  },
  {
   "cell_type": "code",
   "execution_count": 7,
   "id": "d426aed9",
   "metadata": {
    "execution": {
     "iopub.execute_input": "2025-01-07T04:11:35.429001Z",
     "iopub.status.busy": "2025-01-07T04:11:35.428452Z",
     "iopub.status.idle": "2025-01-07T04:11:35.435449Z",
     "shell.execute_reply": "2025-01-07T04:11:35.434900Z"
    },
    "papermill": {
     "duration": 0.013053,
     "end_time": "2025-01-07T04:11:35.436483",
     "exception": false,
     "start_time": "2025-01-07T04:11:35.423430",
     "status": "completed"
    },
    "tags": []
   },
   "outputs": [],
   "source": [
    "def export_markdown_summary(md: str, md_fname:str, directory: str):\n",
    "    \"\"\"Export MD document and associated relevant images\"\"\"\n",
    "    import os\n",
    "    import shutil\n",
    "    import re\n",
    "\n",
    "    if (os.path.exists(directory) and not os.path.isdir(directory)):\n",
    "        raise RuntimeError(f\"a non-directory file exists with name {directory:s}\")\n",
    "\n",
    "    if (not os.path.exists(directory)):\n",
    "        print(f\"creating directory {directory:s}\")\n",
    "        os.mkdir(directory)\n",
    "\n",
    "    fig_fnames = (re.compile(r'\\[Fig.*\\]\\((.*)\\)').findall(md) + \n",
    "                  re.compile(r'\\<img src=\"([^>\\s]*)\"[^>]*/>').findall(md))\n",
    "    print(\"found figures\", fig_fnames)\n",
    "    for fname in fig_fnames:\n",
    "        if 'http' in fname:\n",
    "            # No need to copy online figures\n",
    "            continue\n",
    "        if not os.path.exists(fname):\n",
    "            print(\"file not found\", fname)\n",
    "            continue\n",
    "        print(\"copying \", fname, \"to\", directory)\n",
    "        destdir = os.path.join(directory, os.path.dirname(fname))\n",
    "        destfname = os.path.join(destdir, os.path.basename(fname))\n",
    "        try:\n",
    "            os.makedirs(destdir)\n",
    "        except FileExistsError:\n",
    "            pass\n",
    "        shutil.copy(fname, destfname)\n",
    "    with open(os.path.join(directory, md_fname), 'w') as fout:\n",
    "        fout.write(md)\n",
    "    print(\"exported in \", os.path.join(directory, md_fname))\n",
    "    [print(\"    + \" + os.path.join(directory,fk)) for fk in fig_fnames]"
   ]
  },
  {
   "cell_type": "code",
   "execution_count": 8,
   "id": "014d04a4",
   "metadata": {
    "execution": {
     "iopub.execute_input": "2025-01-07T04:11:35.446280Z",
     "iopub.status.busy": "2025-01-07T04:11:35.445935Z",
     "iopub.status.idle": "2025-01-07T04:11:35.455531Z",
     "shell.execute_reply": "2025-01-07T04:11:35.454916Z"
    },
    "papermill": {
     "duration": 0.015605,
     "end_time": "2025-01-07T04:11:35.456578",
     "exception": false,
     "start_time": "2025-01-07T04:11:35.440973",
     "status": "completed"
    },
    "tags": []
   },
   "outputs": [
    {
     "name": "stdout",
     "output_type": "stream",
     "text": [
      "found figures ['tmp_2501.02081/./SO2_models.png', 'tmp_2501.02081/./fig1.png', 'tmp_2501.02081/./fig3.png']\n",
      "copying  tmp_2501.02081/./SO2_models.png to _build/html/\n",
      "copying  tmp_2501.02081/./fig1.png to _build/html/\n",
      "copying  tmp_2501.02081/./fig3.png to _build/html/\n",
      "exported in  _build/html/2501.02081.md\n",
      "    + _build/html/tmp_2501.02081/./SO2_models.png\n",
      "    + _build/html/tmp_2501.02081/./fig1.png\n",
      "    + _build/html/tmp_2501.02081/./fig3.png\n",
      "found figures ['tmp_2501.02085/./HH211_moment0.png', 'tmp_2501.02085/./IRAS23385_SourceN_extinction_uncertainty.png', 'tmp_2501.02085/./DtoH_scatter_twoclumn.png']\n",
      "copying  tmp_2501.02085/./HH211_moment0.png to _build/html/\n",
      "copying  tmp_2501.02085/./IRAS23385_SourceN_extinction_uncertainty.png to _build/html/\n",
      "copying  tmp_2501.02085/./DtoH_scatter_twoclumn.png to _build/html/\n",
      "exported in  _build/html/2501.02085.md\n",
      "    + _build/html/tmp_2501.02085/./HH211_moment0.png\n",
      "    + _build/html/tmp_2501.02085/./IRAS23385_SourceN_extinction_uncertainty.png\n",
      "    + _build/html/tmp_2501.02085/./DtoH_scatter_twoclumn.png\n"
     ]
    }
   ],
   "source": [
    "for paper_id, md in documents:\n",
    "    export_markdown_summary(md, f\"{paper_id:s}.md\", '_build/html/')"
   ]
  },
  {
   "cell_type": "markdown",
   "id": "f087a0a7",
   "metadata": {
    "papermill": {
     "duration": 0.004465,
     "end_time": "2025-01-07T04:11:35.465693",
     "exception": false,
     "start_time": "2025-01-07T04:11:35.461228",
     "status": "completed"
    },
    "tags": []
   },
   "source": [
    "## Display the papers\n",
    "\n",
    "Not necessary but allows for a quick check."
   ]
  },
  {
   "cell_type": "code",
   "execution_count": 9,
   "id": "fd25f625",
   "metadata": {
    "execution": {
     "iopub.execute_input": "2025-01-07T04:11:35.475556Z",
     "iopub.status.busy": "2025-01-07T04:11:35.475185Z",
     "iopub.status.idle": "2025-01-07T04:11:35.480859Z",
     "shell.execute_reply": "2025-01-07T04:11:35.480223Z"
    },
    "papermill": {
     "duration": 0.011771,
     "end_time": "2025-01-07T04:11:35.481951",
     "exception": false,
     "start_time": "2025-01-07T04:11:35.470180",
     "status": "completed"
    },
    "scrolled": false,
    "tags": []
   },
   "outputs": [
    {
     "data": {
      "text/markdown": [
       "<div class=\"macros\" style=\"visibility:hidden;\">\n",
       "$\\newcommand{\\ensuremath}{}$\n",
       "$\\newcommand{\\xspace}{}$\n",
       "$\\newcommand{\\object}[1]{\\texttt{#1}}$\n",
       "$\\newcommand{\\farcs}{{.}''}$\n",
       "$\\newcommand{\\farcm}{{.}'}$\n",
       "$\\newcommand{\\arcsec}{''}$\n",
       "$\\newcommand{\\arcmin}{'}$\n",
       "$\\newcommand{\\ion}[2]{#1#2}$\n",
       "$\\newcommand{\\textsc}[1]{\\textrm{#1}}$\n",
       "$\\newcommand{\\hl}[1]{\\textrm{#1}}$\n",
       "$\\newcommand{\\footnote}[1]{}$</div>\n",
       "\n",
       "\n",
       "\n",
       "<div id=\"title\">\n",
       "\n",
       "# Statistical trends in JWST transiting exoplanet atmospheres\n",
       "\n",
       "</div>\n",
       "<div id=\"comments\">\n",
       "\n",
       "[![arXiv](https://img.shields.io/badge/arXiv-2501.02081-b31b1b.svg)](https://arxiv.org/abs/2501.02081)<mark>Appeared on: 2025-01-07</mark> -  _Accepted to ApJ, JWST keeps on delivering!_\n",
       "\n",
       "</div>\n",
       "<div id=\"authors\">\n",
       "\n",
       "G. Fu, et al. -- incl., <mark>C. Gapp</mark>\n",
       "\n",
       "</div>\n",
       "<div id=\"abstract\">\n",
       "\n",
       "**Abstract:** Our brains are hardwired for pattern recognition as correlations are useful for predicting and understanding nature. As more exoplanet atmospheres are being characterized with JWST, we are starting to unveil their properties on a population level. Here we present a framework for comparing exoplanet transmission spectroscopy from 3 to 5 $\\mu$ m with four bands: L (2.9 - 3.7 $\\mu$ m), $SO_2$ (3.95 - 4.1 $\\mu$ m), $CO_2$ (4.25 - 4.4 $\\mu$ m) and CO (4.5 - 4.9 $\\mu$ m). Together, the four bands cover the major carbon, oxygen, nitrogen, and sulfur-bearing molecules including $H_2$ O, $CH_4$ , $NH_3$ , $H_2$ S, $SO_2$ , $CO_2$ , and CO. Among the eight high-precision gas giant exoplanet planet spectra we collected, we found strong correlations between the $SO_2$ -L index and planet mass (r=-0.41 $\\pm$ 0.09) and temperature (r=-0.64 $\\pm$ 0.08), indicating $SO_2$ preferably exists ($SO_2$ -L $>$ -0.5) among low mass ( $\\sim<$ 0.$3M_J$ ) and cooler ( $\\sim<$ 1200K) targets. We also observe strong temperature dependency for both $CO_2$ -L and CO-L indices. Under equilibrium chemistry and isothermal thermal structure assumptions, we find that the planet sample favors super-solar metallicity and low C/O ratio ( $<$ 0.7). In addition, the presence of a mass-metallicity correlation is favored over uniform metallicity with the eight planets. We further introduce the $SO_2$ -L versus $CO_2$ -L diagram alike the color-magnitude diagram for stars and brown dwarfs. All reported trends here will be testable and be further quantified with existing and future JWST observations within the next few years.\n",
       "\n",
       "</div>\n",
       "\n",
       "<div id=\"div_fig1\">\n",
       "\n",
       "<img src=\"tmp_2501.02081/./SO2_models.png\" alt=\"Fig4\" width=\"100%\"/>\n",
       "\n",
       "**Figure 4. -** Volume mixing ratio of $SO_2$ in the atmosphere as a function of metallicity for the model grid at 1100K (Top left). Average $SO_2$ VMR across 10 to 0.01 mbar pressure levels versus temperature for five metallicity values (Top right). The model grid-predicted $SO_2$-L values versus temperature for the five metallicity values are shown in the bottom left, with the metallicities converged to planet masses (shown in color) assuming the solar system mass-metallicity relation. The bottom right shows the $SO_2$-L model values versus planet mass at constant temperatures, again with the model metallicities converted to mass via the solar system mass-metallicity relation. (*SO2_models*)\n",
       "\n",
       "</div>\n",
       "<div id=\"div_fig2\">\n",
       "\n",
       "<img src=\"tmp_2501.02081/./fig1.png\" alt=\"Fig2\" width=\"100%\"/>\n",
       "\n",
       "**Figure 2. -** Transmission spectra included in this study. All spectra are normalized by their respective atmospheric scale heights (H) and plotted with a vertical offset. All spectra cover the 2.7 to 5 $\\mu$m wavelength range. We picked four bands: L (2.9 - 3.7$\\mu$m), $SO_2$(3.95 - 4.1$\\mu$m), $CO_2$(4.25 - 4.4$\\mu$m) and CO (4.5 - 4.9$\\mu$m) which are color shaded with blue, orange, red and grey respectively. These four bands cover major oxygen, carbon, and sulfur-bearing molecules such as $H_2$O, $CH_4$, $NH_3$, $H_2$S, $SO_2$, $CO_2$ and CO. (*fig1*)\n",
       "\n",
       "</div>\n",
       "<div id=\"div_fig3\">\n",
       "\n",
       "<img src=\"tmp_2501.02081/./fig3.png\" alt=\"Fig5\" width=\"100%\"/>\n",
       "\n",
       "**Figure 5. -** $CO_2$-L versus equilibrium temperature (upper left), planet mass (upper right), host star effective temperature (lower left), and planet surface gravity (lower right). There are no clear linear trends, which is expected as $CO_2$ is sensitive to temperature non-monotonically. We overplotted two sets of forward \\texttt{PLATON} models with different Z and C/O in the top left panel. (*fig3*)\n",
       "\n",
       "</div><div id=\"qrcode\"><img src=https://api.qrserver.com/v1/create-qr-code/?size=100x100&data=\"https://arxiv.org/abs/2501.02081\"></div>"
      ],
      "text/plain": [
       "<IPython.core.display.Markdown object>"
      ]
     },
     "metadata": {},
     "output_type": "display_data"
    },
    {
     "data": {
      "text/markdown": [
       "<div class=\"macros\" style=\"visibility:hidden;\">\n",
       "$\\newcommand{\\ensuremath}{}$\n",
       "$\\newcommand{\\xspace}{}$\n",
       "$\\newcommand{\\object}[1]{\\texttt{#1}}$\n",
       "$\\newcommand{\\farcs}{{.}''}$\n",
       "$\\newcommand{\\farcm}{{.}'}$\n",
       "$\\newcommand{\\arcsec}{''}$\n",
       "$\\newcommand{\\arcmin}{'}$\n",
       "$\\newcommand{\\ion}[2]{#1#2}$\n",
       "$\\newcommand{\\textsc}[1]{\\textrm{#1}}$\n",
       "$\\newcommand{\\hl}[1]{\\textrm{#1}}$\n",
       "$\\newcommand{\\footnote}[1]{}$\n",
       "$\\newcommand{\\lf}$\n",
       "$\\newcommand{\\rgc}{R_\\mathrm{GC}}$</div>\n",
       "\n",
       "\n",
       "\n",
       "<div id=\"title\">\n",
       "\n",
       "# JOYS: The [D/H] abundance derived from protostellar outflows across the Galactic disk measured with JWST\n",
       "\n",
       "</div>\n",
       "<div id=\"comments\">\n",
       "\n",
       "[![arXiv](https://img.shields.io/badge/arXiv-2501.02085-b31b1b.svg)](https://arxiv.org/abs/2501.02085)<mark>Appeared on: 2025-01-07</mark> -  _30 Pages, 20 Figures. Accepted for publication in Astronomy and Astrophysics_\n",
       "\n",
       "</div>\n",
       "<div id=\"authors\">\n",
       "\n",
       "L. Francis, et al. -- incl., <mark>H. Beuther</mark>, <mark>T. Henning</mark>\n",
       "\n",
       "</div>\n",
       "<div id=\"abstract\">\n",
       "\n",
       "**Abstract:** The total deuterium abundance [ D/H ] in the universe is set by just two processes: the creation of deuterium in Big Bang Nucleosynthesis at an abundance of [ D/H ] $=2.58\\pm0.13\\times10^{-5}$ , and its destruction within stellar interiors (astration). Measurements of variations in the total [ D/H ] abundance can thus potentially provide a probe of Galactic chemical evolution. However, most observational measurements of [ D/H ] are only sensitive to the gas-phase deuterium, and the amount of deuterium sequestered in dust grains is debated. With the launch of the James Webb Space Telescope (JWST), it is now possible to measure the gas-phase [ D/H ] at unprecedented sensitivity and distances through observation of mid-IR lines of $H_2$ and HD. Comparisons of gas-phase [ D/H ] with the constraints on the total [ D/H ] from the primordial abundance and Galactic chemical evolution models can provide insight into the degree of Deuterium lock-up in grains and the star formation history of our Galaxy. We use data from the JWST Observations of Young protoStars (JOYS) program of 5 nearby and resolved low-mass protostellar outflows and 5 distant high-mass protostellar outflows taken with the JWST Mid Infrafred Instrument (MIRI) Medium Resolution Spectrometer (MRS) to measure gas-phase [ D/H ] via $H_2$ and HD lines, assuming the gas is fully molecular. We extract spectra from various locations in the outflows. Using a rotational diagram analysis covering lines of $H_2$ and HD with similar excitation energies, we derive the column density of HD and $H_2$ or their upper limits. We then calculate the gas-phase [ D/H ] from the column density results, and additionally apply a correction factor for the effect of chemical conversion of HD to atomic D and non-LTE excitation on the HD abundance in the shocks. To investigate the spatial distribution of the bulk gas and species refractory species associated with the dust grains, we also construct integrated line intensity maps of $H_2$ , HD, [ Fe II ] , [ Fe I ] , and [ S I ] lines. A comparison of gas-phase [ D/H ] between our low-mass sources shows variations of up to a factor of $\\sim4$ , despite these sources likely having formed in nearly the same region of the Galactic disk that would be expected to have nearly constant total [ D/H ] . Most measurements of gas-phase [ D/H ] from our work or previous studies produce [ D/H ] $\\lesssim 1.0\\times10^{-5}$ , a factor of $2-4$ lower than found from local UV absorption lines and as expected from Galactic chemical evolution models. In the integrated line intensity maps, the morphology of the HD R(6) line emission is strongly correlated with the $H_2$ S(7), [ S I ] , and [ Fe I ] lines which mostly trace high velocity jet knots and bright bow-shocks. In our extracted spectra along the outflows, there is similarly a strong correlation between the $H_2$ and HD column density and the [ S I ] and [ Fe I ] line flux, however, no correlation is seen between [ D/H ] and the [ S I ] or [ Fe I ] line flux. The variations in [ D/H ] between our low-mass sources and the low [ D/H ] with respect to Galactic chemical evolution models suggest that our observations are not sensitive to the total [ D/H ] . Significant depletion of deuterium onto carbonaceous dust grains is a possible explanation, and tentative evidence of enhanced [ D/H ] towards positions with higher gas-phase Fe abundance is seen in the HH 211 outflow. Deeper observations of HD and $H_2$ across a wider range of shock conditions and modelling of the carbonaceous dust-grain destruction and shock conditions are warranted to test for the effects of depletion.\n",
       "\n",
       "</div>\n",
       "\n",
       "<div id=\"div_fig1\">\n",
       "\n",
       "<img src=\"tmp_2501.02085/./HH211_moment0.png\" alt=\"Fig6\" width=\"100%\"/>\n",
       "\n",
       "**Figure 6. -** Integrated line intensity maps for HH 211  of various lines and the continuum at 17 $\\mu$m shown with a logarithmic stretch. The maps have been smoothed to a common resolution of 1$\\arcsec$, shown by the white circle in the bottom-left. Apertures used for spectral extraction are shown by the green circles. An index for each aperture is provided in the top-left panel. The coordinates of the aperture centers can be found in Table \\ref{tab:apertures} of App. \\ref{sec:app_apertures}. (*fig:moment0_1*)\n",
       "\n",
       "</div>\n",
       "<div id=\"div_fig2\">\n",
       "\n",
       "<img src=\"tmp_2501.02085/./IRAS23385_SourceN_extinction_uncertainty.png\" alt=\"Fig5\" width=\"100%\"/>\n",
       "\n",
       "**Figure 5. -** Example of the effect of extinction uncertainty on the derived column densities and [D/H] for IRAS 23385+6053 ap 1. _ Upper panel_: Effect of varying extinction on derived column density for the warm $H_2$ component and HD. _ Lower panel_: Effect of varying extinction on the derived $\\mathrm{[D/H]}$. The uncertainty in $A_K$ from the single component fit to S(1)-S(4) transitions of $H_2$ is shown as the green shaded region, while the equivalent uncertainty in $\\mathrm{[D/H]}$ is shown as the blue shaded region. (*fig:extinction_uncertainty*)\n",
       "\n",
       "</div>\n",
       "<div id=\"div_fig3\">\n",
       "\n",
       "<img src=\"tmp_2501.02085/./DtoH_scatter_twoclumn.png\" alt=\"Fig10\" width=\"100%\"/>\n",
       "\n",
       "**Figure 10. -** Comparison of [D/H] abundance (Table \\ref{tab:DtoH}) in this work. A correction factor of 2.54 has been applied to our [D/H] measurements (see text). Orange symbols show [D/H] in apertures for high-mass sources, while green symbols show [D/H] in apertures from low-mass sources. The dotted grey lines separate different sources. The blue shaded region shows the primordial total [D/H] abundance of  ([Cyburt, et. al 2016]()) . [D/H] upper limits above the primordial abundance are omitted. (*fig:DtoH_scatter*)\n",
       "\n",
       "</div><div id=\"qrcode\"><img src=https://api.qrserver.com/v1/create-qr-code/?size=100x100&data=\"https://arxiv.org/abs/2501.02085\"></div>"
      ],
      "text/plain": [
       "<IPython.core.display.Markdown object>"
      ]
     },
     "metadata": {},
     "output_type": "display_data"
    }
   ],
   "source": [
    "[display(Markdown(k[1])) for k in documents];"
   ]
  },
  {
   "cell_type": "markdown",
   "id": "873873a4",
   "metadata": {
    "papermill": {
     "duration": 0.004815,
     "end_time": "2025-01-07T04:11:35.491891",
     "exception": false,
     "start_time": "2025-01-07T04:11:35.487076",
     "status": "completed"
    },
    "tags": []
   },
   "source": [
    "# Create HTML index"
   ]
  },
  {
   "cell_type": "code",
   "execution_count": 10,
   "id": "cf665672",
   "metadata": {
    "execution": {
     "iopub.execute_input": "2025-01-07T04:11:35.502587Z",
     "iopub.status.busy": "2025-01-07T04:11:35.502205Z",
     "iopub.status.idle": "2025-01-07T04:11:35.510637Z",
     "shell.execute_reply": "2025-01-07T04:11:35.510006Z"
    },
    "papermill": {
     "duration": 0.014831,
     "end_time": "2025-01-07T04:11:35.511609",
     "exception": false,
     "start_time": "2025-01-07T04:11:35.496778",
     "status": "completed"
    },
    "tags": []
   },
   "outputs": [
    {
     "name": "stdout",
     "output_type": "stream",
     "text": [
      "295  publications files modified in the last 7 days.\n"
     ]
    }
   ],
   "source": [
    "from datetime import datetime, timedelta, timezone\n",
    "from glob import glob\n",
    "import os\n",
    "\n",
    "files = glob('_build/html/*.md')\n",
    "days = 7\n",
    "now = datetime.today()\n",
    "res = []\n",
    "for fk in files:\n",
    "    stat_result = os.stat(fk).st_ctime\n",
    "    modified = datetime.fromtimestamp(stat_result, tz=timezone.utc).replace(tzinfo=None)\n",
    "    delta = now.today() - modified\n",
    "    if delta <= timedelta(days=days):\n",
    "        res.append((delta.seconds, fk))\n",
    "res = [k[1] for k in reversed(sorted(res, key=lambda x:x[1]))]\n",
    "npub = len(res)\n",
    "print(len(res), f\" publications files modified in the last {days:d} days.\")\n",
    "# [ print('\\t', k) for k in res ];"
   ]
  },
  {
   "cell_type": "code",
   "execution_count": 11,
   "id": "015de740",
   "metadata": {
    "execution": {
     "iopub.execute_input": "2025-01-07T04:11:35.522585Z",
     "iopub.status.busy": "2025-01-07T04:11:35.522111Z",
     "iopub.status.idle": "2025-01-07T04:11:35.540074Z",
     "shell.execute_reply": "2025-01-07T04:11:35.539533Z"
    },
    "papermill": {
     "duration": 0.024397,
     "end_time": "2025-01-07T04:11:35.541047",
     "exception": false,
     "start_time": "2025-01-07T04:11:35.516650",
     "status": "completed"
    },
    "tags": []
   },
   "outputs": [
    {
     "name": "stdout",
     "output_type": "stream",
     "text": [
      "4  publications in the last 7 days.\n"
     ]
    }
   ],
   "source": [
    "import datetime\n",
    "from glob import glob\n",
    "\n",
    "def get_last_n_days(lst, days=1):\n",
    "    \"\"\" Get the documents from the last n days \"\"\"\n",
    "    sorted_lst = sorted(lst, key=lambda x: x[1], reverse=True)\n",
    "    for fname, date in sorted_lst:\n",
    "        if date >= str(datetime.date.today() - datetime.timedelta(days=days)):\n",
    "            yield fname\n",
    "\n",
    "def extract_appearance_dates(lst_file):\n",
    "    dates = []\n",
    "\n",
    "    def get_date(line):\n",
    "        return line\\\n",
    "            .split('Appeared on:')[-1]\\\n",
    "            .split('</mark>')[0].strip()\n",
    "\n",
    "    for fname in lst:\n",
    "        with open(fname, 'r') as f:\n",
    "            found_date = False\n",
    "            for line in f:\n",
    "                if not found_date:\n",
    "                    if \"Appeared on\" in line:\n",
    "                        found_date = True\n",
    "                        dates.append((fname, get_date(line)))\n",
    "                else:\n",
    "                    break\n",
    "    return dates\n",
    "\n",
    "from glob import glob\n",
    "lst = glob('_build/html/*md')\n",
    "days = 7\n",
    "dates = extract_appearance_dates(lst)\n",
    "res = list(get_last_n_days(dates, days))\n",
    "npub = len(res)\n",
    "print(len(res), f\" publications in the last {days:d} days.\")"
   ]
  },
  {
   "cell_type": "code",
   "execution_count": 12,
   "id": "52ca0208",
   "metadata": {
    "execution": {
     "iopub.execute_input": "2025-01-07T04:11:35.552277Z",
     "iopub.status.busy": "2025-01-07T04:11:35.551856Z",
     "iopub.status.idle": "2025-01-07T04:11:35.556657Z",
     "shell.execute_reply": "2025-01-07T04:11:35.556097Z"
    },
    "papermill": {
     "duration": 0.011327,
     "end_time": "2025-01-07T04:11:35.557602",
     "exception": false,
     "start_time": "2025-01-07T04:11:35.546275",
     "status": "completed"
    },
    "scrolled": false,
    "tags": []
   },
   "outputs": [],
   "source": [
    "def create_carousel(npub=4):\n",
    "    \"\"\" Generate the HTML code for a carousel with `npub` slides \"\"\"\n",
    "    carousel = [\"\"\"  <div class=\"carousel\" \"\"\",\n",
    "                \"\"\"       data-flickity='{ \"autoPlay\": 10000, \"adaptiveHeight\": true, \"resize\": true, \"wrapAround\": true, \"pauseAutoPlayOnHover\": true, \"groupCells\": 1 }' id=\"asyncTypeset\">\"\"\"\n",
    "                ]\n",
    "    \n",
    "    item_str = \"\"\"    <div class=\"carousel-cell\"> <div id=\"slide{k}\" class=\"md_view\">Content {k}</div> </div>\"\"\"\n",
    "    for k in range(1, npub + 1):\n",
    "        carousel.append(item_str.format(k=k))\n",
    "    carousel.append(\"  </div>\")\n",
    "    return '\\n'.join(carousel)\n",
    "\n",
    "def create_grid(npub=4):\n",
    "    \"\"\" Generate the HTML code for a flat grid with `npub` slides \"\"\"\n",
    "    grid = [\"\"\"  <div class=\"grid\"> \"\"\",\n",
    "                ]\n",
    "    \n",
    "    item_str = \"\"\"    <div class=\"grid-item\"> <div id=\"slide{k}\" class=\"md_view\">Content {k}</div> </div>\"\"\"\n",
    "    for k in range(1, npub + 1):\n",
    "        grid.append(item_str.format(k=k))\n",
    "    grid.append(\"  </div>\")\n",
    "    return '\\n'.join(grid)"
   ]
  },
  {
   "cell_type": "code",
   "execution_count": 13,
   "id": "a6eac5b6",
   "metadata": {
    "execution": {
     "iopub.execute_input": "2025-01-07T04:11:35.568727Z",
     "iopub.status.busy": "2025-01-07T04:11:35.568326Z",
     "iopub.status.idle": "2025-01-07T04:11:35.573258Z",
     "shell.execute_reply": "2025-01-07T04:11:35.572733Z"
    },
    "papermill": {
     "duration": 0.011441,
     "end_time": "2025-01-07T04:11:35.574251",
     "exception": false,
     "start_time": "2025-01-07T04:11:35.562810",
     "status": "completed"
    },
    "scrolled": false,
    "tags": []
   },
   "outputs": [],
   "source": [
    "carousel = create_carousel(npub)\n",
    "docs = ', '.join(['\"{0:s}\"'.format(k.split('/')[-1]) for k in res])\n",
    "slides = ', '.join([f'\"slide{k}\"' for k in range(1, npub + 1)])\n",
    "\n",
    "with open(\"daily_template.html\", \"r\") as tpl:\n",
    "    page = tpl.read()\n",
    "    page = page.replace(\"{%-- carousel:s --%}\", carousel)\\\n",
    "               .replace(\"{%-- suptitle:s --%}\",  \"7-day archives\" )\\\n",
    "               .replace(\"{%-- docs:s --%}\", docs)\\\n",
    "               .replace(\"{%-- slides:s --%}\", slides)\n",
    "    \n",
    "with open(\"_build/html/index_7days.html\", 'w') as fout:\n",
    "    fout.write(page)"
   ]
  },
  {
   "cell_type": "code",
   "execution_count": 14,
   "id": "adc1a1ec",
   "metadata": {
    "execution": {
     "iopub.execute_input": "2025-01-07T04:11:35.585235Z",
     "iopub.status.busy": "2025-01-07T04:11:35.584859Z",
     "iopub.status.idle": "2025-01-07T04:11:35.591364Z",
     "shell.execute_reply": "2025-01-07T04:11:35.590832Z"
    },
    "papermill": {
     "duration": 0.0131,
     "end_time": "2025-01-07T04:11:35.592417",
     "exception": false,
     "start_time": "2025-01-07T04:11:35.579317",
     "status": "completed"
    },
    "tags": []
   },
   "outputs": [
    {
     "name": "stdout",
     "output_type": "stream",
     "text": [
      "2  publications in the last day.\n"
     ]
    }
   ],
   "source": [
    "# redo for today\n",
    "days = 1\n",
    "res = list(get_last_n_days(dates, days))\n",
    "npub = len(res)\n",
    "print(len(res), f\" publications in the last day.\")\n",
    "\n",
    "carousel = create_carousel(npub)\n",
    "docs = ', '.join(['\"{0:s}\"'.format(k.split('/')[-1]) for k in res])\n",
    "slides = ', '.join([f'\"slide{k}\"' for k in range(1, npub + 1)])\n",
    "\n",
    "with open(\"daily_template.html\", \"r\") as tpl:\n",
    "    page = tpl.read()\n",
    "    page = page.replace(\"{%-- carousel:s --%}\", carousel)\\\n",
    "               .replace(\"{%-- suptitle:s --%}\",  \"Daily\" )\\\n",
    "               .replace(\"{%-- docs:s --%}\", docs)\\\n",
    "               .replace(\"{%-- slides:s --%}\", slides)\n",
    "    \n",
    "# print(carousel, docs, slides)\n",
    "# print(page)\n",
    "with open(\"_build/html/index_daily.html\", 'w') as fout:\n",
    "    fout.write(page)"
   ]
  },
  {
   "cell_type": "code",
   "execution_count": 15,
   "id": "00eece82",
   "metadata": {
    "execution": {
     "iopub.execute_input": "2025-01-07T04:11:35.603861Z",
     "iopub.status.busy": "2025-01-07T04:11:35.603429Z",
     "iopub.status.idle": "2025-01-07T04:11:35.609858Z",
     "shell.execute_reply": "2025-01-07T04:11:35.609297Z"
    },
    "papermill": {
     "duration": 0.013124,
     "end_time": "2025-01-07T04:11:35.610861",
     "exception": false,
     "start_time": "2025-01-07T04:11:35.597737",
     "status": "completed"
    },
    "scrolled": false,
    "tags": []
   },
   "outputs": [
    {
     "name": "stdout",
     "output_type": "stream",
     "text": [
      "6  6 publications selected.\n"
     ]
    }
   ],
   "source": [
    "# Create the flat grid of the last N papers (fixed number regardless of dates)\n",
    "from itertools import islice \n",
    "\n",
    "npub = 6\n",
    "res = [k[0] for k in (islice(reversed(sorted(dates, key=lambda x: x[1])), 6))]\n",
    "print(len(res), f\" {npub} publications selected.\")\n",
    "\n",
    "grid = create_grid(npub)\n",
    "docs = ', '.join(['\"{0:s}\"'.format(k.split('/')[-1]) for k in res])\n",
    "slides = ', '.join([f'\"slide{k}\"' for k in range(1, npub + 1)])\n",
    "\n",
    "with open(\"grid_template.html\", \"r\") as tpl:\n",
    "    page = tpl.read()\n",
    "    page = page.replace(\"{%-- grid-content:s --%}\", grid)\\\n",
    "               .replace(\"{%-- suptitle:s --%}\",  f\"Last {npub:,d} papers\" )\\\n",
    "               .replace(\"{%-- docs:s --%}\", docs)\\\n",
    "               .replace(\"{%-- slides:s --%}\", slides)\n",
    "    \n",
    "# print(grid, docs, slides)\n",
    "# print(page)\n",
    "with open(\"_build/html/index_npub_grid.html\", 'w') as fout:\n",
    "    fout.write(page)"
   ]
  }
 ],
 "metadata": {
  "kernelspec": {
   "display_name": "Python 3 (ipykernel)",
   "language": "python",
   "name": "python3"
  },
  "language_info": {
   "codemirror_mode": {
    "name": "ipython",
    "version": 3
   },
   "file_extension": ".py",
   "mimetype": "text/x-python",
   "name": "python",
   "nbconvert_exporter": "python",
   "pygments_lexer": "ipython3",
   "version": "3.9.20"
  },
  "papermill": {
   "default_parameters": {},
   "duration": 55.519734,
   "end_time": "2025-01-07T04:11:35.831435",
   "environment_variables": {},
   "exception": null,
   "input_path": "MPIA daily digest.ipynb",
   "output_path": "log.ipynb",
   "parameters": {},
   "start_time": "2025-01-07T04:10:40.311701",
   "version": "2.6.0"
  },
  "vscode": {
   "interpreter": {
    "hash": "aee8b7b246df8f9039afb4144a1f6fd8d2ca17a180786b69acc140d282b71a49"
   }
  },
  "widgets": {
   "application/vnd.jupyter.widget-state+json": {
    "state": {
     "09ea5861cf6d4f9987fdb174c03b1dc8": {
      "model_module": "@jupyter-widgets/controls",
      "model_module_version": "2.0.0",
      "model_name": "HTMLStyleModel",
      "state": {
       "_model_module": "@jupyter-widgets/controls",
       "_model_module_version": "2.0.0",
       "_model_name": "HTMLStyleModel",
       "_view_count": null,
       "_view_module": "@jupyter-widgets/base",
       "_view_module_version": "2.0.0",
       "_view_name": "StyleView",
       "background": null,
       "description_width": "",
       "font_size": null,
       "text_color": null
      }
     },
     "4372dab693f2442691f9a4a399671b49": {
      "model_module": "@jupyter-widgets/controls",
      "model_module_version": "2.0.0",
      "model_name": "HBoxModel",
      "state": {
       "_dom_classes": [],
       "_model_module": "@jupyter-widgets/controls",
       "_model_module_version": "2.0.0",
       "_model_name": "HBoxModel",
       "_view_count": null,
       "_view_module": "@jupyter-widgets/controls",
       "_view_module_version": "2.0.0",
       "_view_name": "HBoxView",
       "box_style": "",
       "children": [
        "IPY_MODEL_cf36ac9b39604dd1a400a52c8b18d671",
        "IPY_MODEL_8b0b2e00e36d4c98bb3ef28c70619a5e",
        "IPY_MODEL_dad3400a1d784c8397c9c652a2973cb0"
       ],
       "layout": "IPY_MODEL_dcd707ff4a0745a080f5469d6c06a869",
       "tabbable": null,
       "tooltip": null
      }
     },
     "57973025d6df4dceaa0fd1d8babf135f": {
      "model_module": "@jupyter-widgets/base",
      "model_module_version": "2.0.0",
      "model_name": "LayoutModel",
      "state": {
       "_model_module": "@jupyter-widgets/base",
       "_model_module_version": "2.0.0",
       "_model_name": "LayoutModel",
       "_view_count": null,
       "_view_module": "@jupyter-widgets/base",
       "_view_module_version": "2.0.0",
       "_view_name": "LayoutView",
       "align_content": null,
       "align_items": null,
       "align_self": null,
       "border_bottom": null,
       "border_left": null,
       "border_right": null,
       "border_top": null,
       "bottom": null,
       "display": null,
       "flex": null,
       "flex_flow": null,
       "grid_area": null,
       "grid_auto_columns": null,
       "grid_auto_flow": null,
       "grid_auto_rows": null,
       "grid_column": null,
       "grid_gap": null,
       "grid_row": null,
       "grid_template_areas": null,
       "grid_template_columns": null,
       "grid_template_rows": null,
       "height": null,
       "justify_content": null,
       "justify_items": null,
       "left": null,
       "margin": null,
       "max_height": null,
       "max_width": null,
       "min_height": null,
       "min_width": null,
       "object_fit": null,
       "object_position": null,
       "order": null,
       "overflow": null,
       "padding": null,
       "right": null,
       "top": null,
       "visibility": null,
       "width": null
      }
     },
     "6d0bfd5297af43169cdd1d793e58996b": {
      "model_module": "@jupyter-widgets/base",
      "model_module_version": "2.0.0",
      "model_name": "LayoutModel",
      "state": {
       "_model_module": "@jupyter-widgets/base",
       "_model_module_version": "2.0.0",
       "_model_name": "LayoutModel",
       "_view_count": null,
       "_view_module": "@jupyter-widgets/base",
       "_view_module_version": "2.0.0",
       "_view_name": "LayoutView",
       "align_content": null,
       "align_items": null,
       "align_self": null,
       "border_bottom": null,
       "border_left": null,
       "border_right": null,
       "border_top": null,
       "bottom": null,
       "display": null,
       "flex": null,
       "flex_flow": null,
       "grid_area": null,
       "grid_auto_columns": null,
       "grid_auto_flow": null,
       "grid_auto_rows": null,
       "grid_column": null,
       "grid_gap": null,
       "grid_row": null,
       "grid_template_areas": null,
       "grid_template_columns": null,
       "grid_template_rows": null,
       "height": null,
       "justify_content": null,
       "justify_items": null,
       "left": null,
       "margin": null,
       "max_height": null,
       "max_width": null,
       "min_height": null,
       "min_width": null,
       "object_fit": null,
       "object_position": null,
       "order": null,
       "overflow": null,
       "padding": null,
       "right": null,
       "top": null,
       "visibility": null,
       "width": null
      }
     },
     "8b0b2e00e36d4c98bb3ef28c70619a5e": {
      "model_module": "@jupyter-widgets/controls",
      "model_module_version": "2.0.0",
      "model_name": "FloatProgressModel",
      "state": {
       "_dom_classes": [],
       "_model_module": "@jupyter-widgets/controls",
       "_model_module_version": "2.0.0",
       "_model_name": "FloatProgressModel",
       "_view_count": null,
       "_view_module": "@jupyter-widgets/controls",
       "_view_module_version": "2.0.0",
       "_view_name": "ProgressView",
       "bar_style": "success",
       "description": "",
       "description_allow_html": false,
       "layout": "IPY_MODEL_6d0bfd5297af43169cdd1d793e58996b",
       "max": 4.0,
       "min": 0.0,
       "orientation": "horizontal",
       "style": "IPY_MODEL_e5685a0af1b54f33ae628744a175c1aa",
       "tabbable": null,
       "tooltip": null,
       "value": 4.0
      }
     },
     "90c9bda74ccf401482ac56cbb3277dc7": {
      "model_module": "@jupyter-widgets/controls",
      "model_module_version": "2.0.0",
      "model_name": "HTMLStyleModel",
      "state": {
       "_model_module": "@jupyter-widgets/controls",
       "_model_module_version": "2.0.0",
       "_model_name": "HTMLStyleModel",
       "_view_count": null,
       "_view_module": "@jupyter-widgets/base",
       "_view_module_version": "2.0.0",
       "_view_name": "StyleView",
       "background": null,
       "description_width": "",
       "font_size": null,
       "text_color": null
      }
     },
     "b137a10068e64ca38f2f774243fe6614": {
      "model_module": "@jupyter-widgets/base",
      "model_module_version": "2.0.0",
      "model_name": "LayoutModel",
      "state": {
       "_model_module": "@jupyter-widgets/base",
       "_model_module_version": "2.0.0",
       "_model_name": "LayoutModel",
       "_view_count": null,
       "_view_module": "@jupyter-widgets/base",
       "_view_module_version": "2.0.0",
       "_view_name": "LayoutView",
       "align_content": null,
       "align_items": null,
       "align_self": null,
       "border_bottom": null,
       "border_left": null,
       "border_right": null,
       "border_top": null,
       "bottom": null,
       "display": null,
       "flex": null,
       "flex_flow": null,
       "grid_area": null,
       "grid_auto_columns": null,
       "grid_auto_flow": null,
       "grid_auto_rows": null,
       "grid_column": null,
       "grid_gap": null,
       "grid_row": null,
       "grid_template_areas": null,
       "grid_template_columns": null,
       "grid_template_rows": null,
       "height": null,
       "justify_content": null,
       "justify_items": null,
       "left": null,
       "margin": null,
       "max_height": null,
       "max_width": null,
       "min_height": null,
       "min_width": null,
       "object_fit": null,
       "object_position": null,
       "order": null,
       "overflow": null,
       "padding": null,
       "right": null,
       "top": null,
       "visibility": null,
       "width": null
      }
     },
     "cf36ac9b39604dd1a400a52c8b18d671": {
      "model_module": "@jupyter-widgets/controls",
      "model_module_version": "2.0.0",
      "model_name": "HTMLModel",
      "state": {
       "_dom_classes": [],
       "_model_module": "@jupyter-widgets/controls",
       "_model_module_version": "2.0.0",
       "_model_name": "HTMLModel",
       "_view_count": null,
       "_view_module": "@jupyter-widgets/controls",
       "_view_module_version": "2.0.0",
       "_view_name": "HTMLView",
       "description": "",
       "description_allow_html": false,
       "layout": "IPY_MODEL_57973025d6df4dceaa0fd1d8babf135f",
       "placeholder": "​",
       "style": "IPY_MODEL_90c9bda74ccf401482ac56cbb3277dc7",
       "tabbable": null,
       "tooltip": null,
       "value": "100%"
      }
     },
     "dad3400a1d784c8397c9c652a2973cb0": {
      "model_module": "@jupyter-widgets/controls",
      "model_module_version": "2.0.0",
      "model_name": "HTMLModel",
      "state": {
       "_dom_classes": [],
       "_model_module": "@jupyter-widgets/controls",
       "_model_module_version": "2.0.0",
       "_model_name": "HTMLModel",
       "_view_count": null,
       "_view_module": "@jupyter-widgets/controls",
       "_view_module_version": "2.0.0",
       "_view_name": "HTMLView",
       "description": "",
       "description_allow_html": false,
       "layout": "IPY_MODEL_b137a10068e64ca38f2f774243fe6614",
       "placeholder": "​",
       "style": "IPY_MODEL_09ea5861cf6d4f9987fdb174c03b1dc8",
       "tabbable": null,
       "tooltip": null,
       "value": " 4/4 [00:36&lt;00:00,  7.13s/it]"
      }
     },
     "dcd707ff4a0745a080f5469d6c06a869": {
      "model_module": "@jupyter-widgets/base",
      "model_module_version": "2.0.0",
      "model_name": "LayoutModel",
      "state": {
       "_model_module": "@jupyter-widgets/base",
       "_model_module_version": "2.0.0",
       "_model_name": "LayoutModel",
       "_view_count": null,
       "_view_module": "@jupyter-widgets/base",
       "_view_module_version": "2.0.0",
       "_view_name": "LayoutView",
       "align_content": null,
       "align_items": null,
       "align_self": null,
       "border_bottom": null,
       "border_left": null,
       "border_right": null,
       "border_top": null,
       "bottom": null,
       "display": null,
       "flex": null,
       "flex_flow": null,
       "grid_area": null,
       "grid_auto_columns": null,
       "grid_auto_flow": null,
       "grid_auto_rows": null,
       "grid_column": null,
       "grid_gap": null,
       "grid_row": null,
       "grid_template_areas": null,
       "grid_template_columns": null,
       "grid_template_rows": null,
       "height": null,
       "justify_content": null,
       "justify_items": null,
       "left": null,
       "margin": null,
       "max_height": null,
       "max_width": null,
       "min_height": null,
       "min_width": null,
       "object_fit": null,
       "object_position": null,
       "order": null,
       "overflow": null,
       "padding": null,
       "right": null,
       "top": null,
       "visibility": null,
       "width": null
      }
     },
     "e5685a0af1b54f33ae628744a175c1aa": {
      "model_module": "@jupyter-widgets/controls",
      "model_module_version": "2.0.0",
      "model_name": "ProgressStyleModel",
      "state": {
       "_model_module": "@jupyter-widgets/controls",
       "_model_module_version": "2.0.0",
       "_model_name": "ProgressStyleModel",
       "_view_count": null,
       "_view_module": "@jupyter-widgets/base",
       "_view_module_version": "2.0.0",
       "_view_name": "StyleView",
       "bar_color": null,
       "description_width": ""
      }
     }
    },
    "version_major": 2,
    "version_minor": 0
   }
  }
 },
 "nbformat": 4,
 "nbformat_minor": 5
}