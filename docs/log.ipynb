{
 "cells": [
  {
   "cell_type": "markdown",
   "id": "92bcb855",
   "metadata": {
    "papermill": {
     "duration": 0.003915,
     "end_time": "2025-07-30T04:36:03.565816",
     "exception": false,
     "start_time": "2025-07-30T04:36:03.561901",
     "status": "completed"
    },
    "tags": []
   },
   "source": [
    "# MPIA Arxiv on Deck 2\n",
    "\n",
    "Contains the steps to produce the paper extractions."
   ]
  },
  {
   "cell_type": "code",
   "execution_count": 1,
   "id": "3a0d6e11",
   "metadata": {
    "execution": {
     "iopub.execute_input": "2025-07-30T04:36:03.572789Z",
     "iopub.status.busy": "2025-07-30T04:36:03.572573Z",
     "iopub.status.idle": "2025-07-30T04:36:03.803343Z",
     "shell.execute_reply": "2025-07-30T04:36:03.802588Z"
    },
    "papermill": {
     "duration": 0.235714,
     "end_time": "2025-07-30T04:36:03.804820",
     "exception": false,
     "start_time": "2025-07-30T04:36:03.569106",
     "status": "completed"
    },
    "tags": []
   },
   "outputs": [],
   "source": [
    "# Imports\n",
    "import os\n",
    "from IPython.display import Markdown, display\n",
    "from tqdm.notebook import tqdm\n",
    "import warnings\n",
    "from PIL import Image \n",
    "import re\n",
    "\n",
    "# requires arxiv_on_deck_2\n",
    "\n",
    "from arxiv_on_deck_2.arxiv2 import (get_new_papers, \n",
    "                                    get_paper_from_identifier,\n",
    "                                    retrieve_document_source, \n",
    "                                    get_markdown_badge)\n",
    "from arxiv_on_deck_2 import (latex,\n",
    "                             latex_bib,\n",
    "                             mpia,\n",
    "                             highlight_authors_in_list)\n",
    "\n",
    "# Sometimes images are really big\n",
    "Image.MAX_IMAGE_PIXELS = 1000000000 "
   ]
  },
  {
   "cell_type": "code",
   "execution_count": 2,
   "id": "22aa9d44",
   "metadata": {
    "execution": {
     "iopub.execute_input": "2025-07-30T04:36:03.812076Z",
     "iopub.status.busy": "2025-07-30T04:36:03.811873Z",
     "iopub.status.idle": "2025-07-30T04:36:03.819805Z",
     "shell.execute_reply": "2025-07-30T04:36:03.819138Z"
    },
    "papermill": {
     "duration": 0.012621,
     "end_time": "2025-07-30T04:36:03.820787",
     "exception": false,
     "start_time": "2025-07-30T04:36:03.808166",
     "status": "completed"
    },
    "tags": []
   },
   "outputs": [],
   "source": [
    "# Some useful definitions.\n",
    "\n",
    "class AffiliationWarning(UserWarning):\n",
    "    pass\n",
    "\n",
    "class AffiliationError(RuntimeError):\n",
    "    pass\n",
    "\n",
    "def validation(source: str):\n",
    "    \"\"\"Raises error paper during parsing of source file\n",
    "    \n",
    "    Allows checks before parsing TeX code.\n",
    "    \n",
    "    Raises AffiliationWarning\n",
    "    \"\"\"\n",
    "    check = mpia.affiliation_verifications(source, verbose=True)\n",
    "    if check is not True:\n",
    "        raise AffiliationError(\"mpia.affiliation_verifications: \" + check)\n",
    "\n",
    "        \n",
    "warnings.simplefilter('always', AffiliationWarning)\n",
    "\n",
    "\n",
    "def get_markdown_qrcode(paper_id: str):\n",
    "    \"\"\" Generate a qrcode to the arxiv page using qrserver.com\n",
    "    \n",
    "    :param paper: Arxiv paper\n",
    "    :returns: markdown text\n",
    "    \"\"\"\n",
    "    url = r\"https://api.qrserver.com/v1/create-qr-code/?size=100x100&data=\"\n",
    "    txt = f\"\"\"<img src={url}\"https://arxiv.org/abs/{paper_id}\">\"\"\"\n",
    "    txt = '<div id=\"qrcode\">' + txt + '</div>'\n",
    "    return txt\n",
    "\n",
    "\n",
    "def clean_non_western_encoded_characters_commands(text: str) -> str:\n",
    "    \"\"\" Remove non-western encoded characters from a string\n",
    "    List may need to grow.\n",
    "    \n",
    "    :param text: the text to clean\n",
    "    :return: the cleaned text\n",
    "    \"\"\"\n",
    "    text = re.sub(r\"(\\\\begin{CJK}{UTF8}{gbsn})(.*?)(\\\\end{CJK})\", r\"\\2\", text)\n",
    "    return text\n",
    "\n",
    "\n",
    "def get_initials(name: str) -> str:\n",
    "    \"\"\" Get the short name, e.g., A.-B. FamName\n",
    "    :param name: full name\n",
    "    :returns: initials\n",
    "    \"\"\"\n",
    "    initials = []\n",
    "    # account for non western names often in ()\n",
    "    if '(' in name:\n",
    "        name = clean_non_western_encoded_characters_commands(name)\n",
    "        suffix = re.findall(r\"\\((.*?)\\)\", name)[0]\n",
    "        name = name.replace(f\"({suffix})\", '')\n",
    "    else:\n",
    "        suffix = ''\n",
    "    split = name.split()\n",
    "    for token in split[:-1]:\n",
    "        if '-' in token:\n",
    "            current = '-'.join([k[0] + '.' for k in token.split('-')])\n",
    "        else:\n",
    "            current = token[0] + '.'\n",
    "        initials.append(current)\n",
    "    initials.append(split[-1].strip())\n",
    "    if suffix:\n",
    "        initials.append(f\"({suffix})\")\n",
    "    return ' '.join(initials)"
   ]
  },
  {
   "cell_type": "markdown",
   "id": "14bd6310",
   "metadata": {
    "papermill": {
     "duration": 0.00285,
     "end_time": "2025-07-30T04:36:03.826688",
     "exception": false,
     "start_time": "2025-07-30T04:36:03.823838",
     "status": "completed"
    },
    "tags": []
   },
   "source": [
    "## get list of arxiv paper candidates\n",
    "\n",
    "We use the MPIA mitarbeiter list webpage from mpia.de to get author names\n",
    "We then get all new papers from Arxiv and match authors"
   ]
  },
  {
   "cell_type": "code",
   "execution_count": 3,
   "id": "7ea813a8",
   "metadata": {
    "execution": {
     "iopub.execute_input": "2025-07-30T04:36:03.833140Z",
     "iopub.status.busy": "2025-07-30T04:36:03.832947Z",
     "iopub.status.idle": "2025-07-30T04:36:21.612563Z",
     "shell.execute_reply": "2025-07-30T04:36:21.611923Z"
    },
    "papermill": {
     "duration": 17.78421,
     "end_time": "2025-07-30T04:36:21.613761",
     "exception": false,
     "start_time": "2025-07-30T04:36:03.829551",
     "status": "completed"
    },
    "tags": []
   },
   "outputs": [],
   "source": [
    "# deal with the author list and edge cases of people that cannot be consistent on their name  \n",
    "\n",
    "def filter_non_scientists(name: str) -> bool:\n",
    "    \"\"\" Loose filter on expected authorships\n",
    "\n",
    "    removing IT, administration, technical staff\n",
    "    :param name: name\n",
    "    :returns: False if name is not a scientist\n",
    "    \"\"\"\n",
    "    remove_list = ['Licht', 'Binroth', 'Witzel', 'Jordan',\n",
    "                   'Zähringer', 'Scheerer', 'Hoffmann', 'Düe',\n",
    "                   'Hellmich', 'Enkler-Scharpegge', 'Witte-Nguy',\n",
    "                   'Dehen', 'Beckmann', 'Jager', 'Jäger'\n",
    "                  ]\n",
    "\n",
    "    for k in remove_list:\n",
    "        if k in name:\n",
    "            return False\n",
    "    return True\n",
    "\n",
    "def add_author_to_list(author_list: list) -> list:\n",
    "    \"\"\" Add author to list if not already in list\n",
    "    \n",
    "    :param author: author name\n",
    "    :param author_list: list of authors\n",
    "    :returns: updated list of authors\n",
    "    \"\"\"\n",
    "    add_list = ['T. Henning']\n",
    "\n",
    "    for author in add_list:\n",
    "        if author not in author_list:\n",
    "            author_list.append(author)\n",
    "    return author_list\n",
    "\n",
    "# get list from MPIA website\n",
    "# filter for non-scientists (mpia.get_mpia_mitarbeiter_list() does some filtering)\n",
    "mpia_authors = [k[1] for k in mpia.get_mpia_mitarbeiter_list() if filter_non_scientists(k[1])]\n",
    "# add some missing author because of inconsistencies in their MPIA name and author name on papers\n",
    "mpia_authors = add_author_to_list(mpia_authors)"
   ]
  },
  {
   "cell_type": "code",
   "execution_count": 4,
   "id": "2645e73a",
   "metadata": {
    "execution": {
     "iopub.execute_input": "2025-07-30T04:36:21.620902Z",
     "iopub.status.busy": "2025-07-30T04:36:21.620720Z",
     "iopub.status.idle": "2025-07-30T04:36:22.614420Z",
     "shell.execute_reply": "2025-07-30T04:36:22.613784Z"
    },
    "papermill": {
     "duration": 0.99834,
     "end_time": "2025-07-30T04:36:22.615449",
     "exception": false,
     "start_time": "2025-07-30T04:36:21.617109",
     "status": "completed"
    },
    "tags": []
   },
   "outputs": [
    {
     "name": "stdout",
     "output_type": "stream",
     "text": [
      "L. Xie  ->  Z.-L. Xie  |  ['L. Xie']\n",
      "H.-W. Rix  ->  H.-W. Rix  |  ['H.-W. Rix']\n",
      "M. Demianenko  ->  M. Demianenko  |  ['M. Demianenko']\n",
      "J. Liu  ->  J. Liu  |  ['J. Liu']\n",
      "J. Liu  ->  J. Liu  |  ['J. Liu']\n",
      "Arxiv has 75 new papers today\n",
      "          4 with possible author matches\n"
     ]
    }
   ],
   "source": [
    "new_papers = get_new_papers()\n",
    "# add manual references\n",
    "add_paper_refs = []\n",
    "new_papers.extend([get_paper_from_identifier(k) for k in add_paper_refs])\n",
    "\n",
    "def robust_call(fn, value, *args, **kwargs):\n",
    "    try:\n",
    "        return fn(value, *args, **kwargs)\n",
    "    except Exception:\n",
    "        return value\n",
    "\n",
    "candidates = []\n",
    "for paperk in new_papers:\n",
    "    # Check author list with their initials\n",
    "    normed_author_list = [robust_call(mpia.get_initials, k) for k in paperk['authors']]\n",
    "    hl_authors = highlight_authors_in_list(normed_author_list, mpia_authors, verbose=True)\n",
    "    matches = [(hl, orig) for hl, orig in zip(hl_authors, paperk['authors']) if 'mark' in hl]\n",
    "    paperk['authors'] = hl_authors\n",
    "    if matches:\n",
    "        # only select paper if an author matched our list\n",
    "        candidates.append(paperk)\n",
    "print(\"\"\"Arxiv has {0:,d} new papers today\"\"\".format(len(new_papers)))        \n",
    "print(\"\"\"          {0:,d} with possible author matches\"\"\".format(len(candidates)))"
   ]
  },
  {
   "cell_type": "markdown",
   "id": "3543b34a",
   "metadata": {
    "papermill": {
     "duration": 0.003075,
     "end_time": "2025-07-30T04:36:22.622009",
     "exception": false,
     "start_time": "2025-07-30T04:36:22.618934",
     "status": "completed"
    },
    "tags": []
   },
   "source": [
    "# Parse sources and generate relevant outputs\n",
    "\n",
    "From the candidates, we do the following steps:\n",
    "* get their tarball from ArXiv (and extract data)\n",
    "* find the main .tex file: find one with \\documentclass{...} (sometimes it's non trivial)\n",
    "* Check affiliations with :func:`validation`, which uses :func:`mpia.affiliation_verifications`\n",
    "* If passing the affiliations: we parse the .tex source\n",
    "   * inject sub-documents into the main (flatten the main document)\n",
    "   * parse structure, extract information (title, abstract, authors, figures...)\n",
    "   * handles `\\graphicspath` if provided\n",
    "* Generate the .md document."
   ]
  },
  {
   "cell_type": "code",
   "execution_count": 5,
   "id": "9576b79e",
   "metadata": {
    "execution": {
     "iopub.execute_input": "2025-07-30T04:36:22.628791Z",
     "iopub.status.busy": "2025-07-30T04:36:22.628597Z",
     "iopub.status.idle": "2025-07-30T04:36:28.161583Z",
     "shell.execute_reply": "2025-07-30T04:36:28.160866Z"
    },
    "papermill": {
     "duration": 5.537718,
     "end_time": "2025-07-30T04:36:28.162750",
     "exception": false,
     "start_time": "2025-07-30T04:36:22.625032",
     "status": "completed"
    },
    "scrolled": false,
    "tags": []
   },
   "outputs": [
    {
     "data": {
      "application/vnd.jupyter.widget-view+json": {
       "model_id": "8299bc66074b47d48948bef98a43506c",
       "version_major": 2,
       "version_minor": 0
      },
      "text/plain": [
       "  0%|          | 0/4 [00:00<?, ?it/s]"
      ]
     },
     "metadata": {},
     "output_type": "display_data"
    },
    {
     "name": "stdout",
     "output_type": "stream",
     "text": [
      "Retrieving document from  https://arxiv.org/e-print/2507.21551\n",
      "extracting tarball to tmp_2507.21551... done.\n",
      "Retrieving document from  https://arxiv.org/e-print/2507.21632\n"
     ]
    },
    {
     "name": "stdout",
     "output_type": "stream",
     "text": [
      "extracting tarball to tmp_2507.21632... done.\n"
     ]
    },
    {
     "name": "stdout",
     "output_type": "stream",
     "text": [
      "H.-W. Rix  ->  H.-W. Rix  |  ['H.-W. Rix']\n",
      "M. Demianenko  ->  M. Demianenko  |  ['M. Demianenko']\n"
     ]
    },
    {
     "name": "stderr",
     "output_type": "stream",
     "text": [
      "/opt/hostedtoolcache/Python/3.9.23/x64/lib/python3.9/site-packages/arxiv_on_deck_2/latex.py:132: LatexWarning: attempting recovering figure NBursts_sdss_101229_60056_27021598151649911_emiles_n1b1.pdf\n",
      "  warnings.warn(LatexWarning(f'attempting recovering figure {image}'))\n",
      "/opt/hostedtoolcache/Python/3.9.23/x64/lib/python3.9/site-packages/arxiv_on_deck_2/latex.py:707: LatexWarning: Could not find graphic \\includegraphics[width=1.\\linewidth]{NBursts_sdss_101229_60056_27021598151649911_emiles_n1b1.pdf}\n",
      "  warnings.warn(LatexWarning(f\"Could not find graphic {k}\"))\n",
      "/opt/hostedtoolcache/Python/3.9.23/x64/lib/python3.9/site-packages/arxiv_on_deck_2/latex.py:132: LatexWarning: attempting recovering figure NBursts_sdss_103950_59937_27021598052190132_emiles_n1b1.pdf\n",
      "  warnings.warn(LatexWarning(f'attempting recovering figure {image}'))\n",
      "/opt/hostedtoolcache/Python/3.9.23/x64/lib/python3.9/site-packages/arxiv_on_deck_2/latex.py:707: LatexWarning: Could not find graphic \\includegraphics[width=1.\\linewidth]{NBursts_sdss_103950_59937_27021598052190132_emiles_n1b1.pdf}\n",
      "  warnings.warn(LatexWarning(f\"Could not find graphic {k}\"))\n",
      "/opt/hostedtoolcache/Python/3.9.23/x64/lib/python3.9/site-packages/arxiv_on_deck_2/latex.py:132: LatexWarning: attempting recovering figure NBursts_sdss_104366_59904_27021600157908085_emiles_n1b1.pdf\n",
      "  warnings.warn(LatexWarning(f'attempting recovering figure {image}'))\n",
      "/opt/hostedtoolcache/Python/3.9.23/x64/lib/python3.9/site-packages/arxiv_on_deck_2/latex.py:707: LatexWarning: Could not find graphic \\includegraphics[width=1.\\linewidth]{NBursts_sdss_104366_59904_27021600157908085_emiles_n1b1.pdf}\n",
      "  warnings.warn(LatexWarning(f\"Could not find graphic {k}\"))\n",
      "/opt/hostedtoolcache/Python/3.9.23/x64/lib/python3.9/site-packages/arxiv_on_deck_2/latex.py:132: LatexWarning: attempting recovering figure NBursts_sdss_112360_59694_27021598150226158_emiles_n1b1.pdf\n",
      "  warnings.warn(LatexWarning(f'attempting recovering figure {image}'))\n",
      "/opt/hostedtoolcache/Python/3.9.23/x64/lib/python3.9/site-packages/arxiv_on_deck_2/latex.py:707: LatexWarning: Could not find graphic \\includegraphics[width=1.\\linewidth]{NBursts_sdss_112360_59694_27021598150226158_emiles_n1b1.pdf}\n",
      "  warnings.warn(LatexWarning(f\"Could not find graphic {k}\"))\n"
     ]
    },
    {
     "name": "stdout",
     "output_type": "stream",
     "text": [
      "Found 86 bibliographic references in tmp_2507.21632/aa55117-25.bbl.\n",
      "Issues with the citations\n",
      "syntax error in line 107: '}' expected\n",
      "Retrieving document from  https://arxiv.org/e-print/2507.21866\n"
     ]
    },
    {
     "name": "stdout",
     "output_type": "stream",
     "text": [
      "extracting tarball to tmp_2507.21866... done.\n",
      "Retrieving document from  https://arxiv.org/e-print/2507.22006\n",
      "extracting tarball to tmp_2507.22006... done.\n"
     ]
    }
   ],
   "source": [
    "documents = []\n",
    "failed = []\n",
    "for paper in tqdm(candidates):\n",
    "    # debug crap\n",
    "    paper['identifier'] = paper['identifier'].lower().replace('arxiv:', '').replace(r'\\n', '').strip()\n",
    "    paper_id = paper['identifier']\n",
    "    \n",
    "    folder = f'tmp_{paper_id}'\n",
    "\n",
    "    try:\n",
    "        if not os.path.isdir(folder):\n",
    "            folder = retrieve_document_source(f\"{paper_id}\", f'tmp_{paper_id}')\n",
    "        \n",
    "        try:\n",
    "            doc = latex.LatexDocument(folder, validation=validation)    \n",
    "        except AffiliationError as affilerror:\n",
    "            msg = f\"ArXiv:{paper_id:s} is not an MPIA paper... \" + str(affilerror)\n",
    "            failed.append((paper, \"affiliation error: \" + str(affilerror) ))\n",
    "            continue\n",
    "        \n",
    "        # Hack because sometimes author parsing does not work well\n",
    "        if (len(doc.authors) != len(paper['authors'])):\n",
    "            doc._authors = paper['authors']\n",
    "        else:\n",
    "            # highlight authors (FIXME: doc.highlight_authors)\n",
    "            # done on arxiv paper already\n",
    "            doc._authors = highlight_authors_in_list(\n",
    "                [get_initials(k) for k in doc.authors], \n",
    "                mpia_authors, verbose=True)\n",
    "        if (doc.abstract) in (None, ''):\n",
    "            doc._abstract = paper['abstract']\n",
    "            \n",
    "        doc.comment = (get_markdown_badge(paper_id) + \n",
    "                       \"<mark>Appeared on: \" + paper['date'] + \"</mark> - \")\n",
    "        if paper['comments']:\n",
    "            doc.comment += \" _\" + paper['comments'] + \"_\"\n",
    "        \n",
    "        full_md = doc.generate_markdown_text()\n",
    "        \n",
    "        full_md += get_markdown_qrcode(paper_id)\n",
    "        \n",
    "        # replace citations\n",
    "        try:\n",
    "            bibdata = latex_bib.LatexBib.from_doc(doc)\n",
    "            full_md = latex_bib.replace_citations(full_md, bibdata)\n",
    "        except Exception as e:\n",
    "            print(\"Issues with the citations\")\n",
    "            print(e)\n",
    "        \n",
    "        documents.append((paper_id, full_md))\n",
    "    except Exception as e:\n",
    "        warnings.warn(latex.LatexWarning(f\"{paper_id:s} did not run properly\\n\" +\n",
    "                                         str(e)\n",
    "                                        ))\n",
    "        failed.append((paper, \"latex error \" + str(e)))"
   ]
  },
  {
   "cell_type": "markdown",
   "id": "2505a25c",
   "metadata": {
    "papermill": {
     "duration": 0.003518,
     "end_time": "2025-07-30T04:36:28.170353",
     "exception": false,
     "start_time": "2025-07-30T04:36:28.166835",
     "status": "completed"
    },
    "tags": []
   },
   "source": [
    "### Export the logs\n",
    "\n",
    "Throughout, we also keep track of the logs per paper. see `logs-{today date}.md` "
   ]
  },
  {
   "cell_type": "code",
   "execution_count": 6,
   "id": "d733828a",
   "metadata": {
    "execution": {
     "iopub.execute_input": "2025-07-30T04:36:28.178153Z",
     "iopub.status.busy": "2025-07-30T04:36:28.177927Z",
     "iopub.status.idle": "2025-07-30T04:36:28.192561Z",
     "shell.execute_reply": "2025-07-30T04:36:28.192006Z"
    },
    "papermill": {
     "duration": 0.019698,
     "end_time": "2025-07-30T04:36:28.193514",
     "exception": false,
     "start_time": "2025-07-30T04:36:28.173816",
     "status": "completed"
    },
    "scrolled": false,
    "tags": []
   },
   "outputs": [
    {
     "data": {
      "text/markdown": [
       "## Successful papers"
      ],
      "text/plain": [
       "<IPython.core.display.Markdown object>"
      ]
     },
     "metadata": {},
     "output_type": "display_data"
    },
    {
     "data": {
      "text/markdown": [
       "\n",
       "|||\n",
       "|---:|:---|\n",
       "| [![arXiv](https://img.shields.io/badge/arXiv-2507.21632-b31b1b.svg)](https://arxiv.org/abs/2507.21632) | **Optical Emission-Line Properties of eROSITA-selected SDSS-V Galaxies**  |\n",
       "|| N. G. Pulatova, et al. -- incl., <mark>H.-W. Rix</mark>, <mark>M. Demianenko</mark> |\n",
       "|*Appeared on*| *2025-07-30*|\n",
       "|*Comments*| *15 pages, 9 figures, 3 tables*|\n",
       "|**Abstract**|            We present and discuss optical emission line properties obtained from the analysis of Sloan Digital Sky Survey (SDSS) spectra for an X-ray selected sample of 3684 galaxies (0.002 < z < 0.55), drawn from the eRASS1 catalog. We modeled SDSS-V DR19 spectra using the NBursts full spectrum fitting technique with E-MILES simple stellar populations (SSP) models and emission line templates to decompose broad and narrow emission line components for correlation with X-ray properties. We place the galaxies on the Baldwin-Phillips-Terlevich (BPT) diagram to diagnose their dominant excitation mechanism. We show that the consistent use of the narrow component fluxes shifts most galaxies systematically and significantly upward to the active galactic nuclei (AGN) region on the BPT diagram. On this basis, we confirm the dependence between a galaxys position on the BPT diagram and its (0.2-2.3 keV) X-ray/H$\\alpha$ flux ratio. We also verified the correlation between X-ray luminosity and emission line luminosities of the narrow [O\\iii]$\\lambda 5007$ and broad H$\\alpha$ component; as well as the relations between the Supermassive Black Hole (SMBH) mass, the X-ray luminosity, and the velocity dispersion of the stellar component ($\\sigma_{*}$) on the base on the unique sample of optical spectroscopic follow-up of X-ray sources detected by eROSITA. These results highlight the importance of emission line decomposition in AGN classification and refine the connection between X-ray emission and optical emission line properties in galaxies.         |"
      ],
      "text/plain": [
       "[2507.21632] Optical Emission-Line Properties of eROSITA-selected SDSS-V Galaxies\n",
       "\tN. G. Pulatova, et al. -- incl., <mark>H.-W. Rix</mark>, <mark>M. Demianenko</mark>"
      ]
     },
     "metadata": {},
     "output_type": "display_data"
    },
    {
     "data": {
      "text/markdown": [
       "## Failed papers"
      ],
      "text/plain": [
       "<IPython.core.display.Markdown object>"
      ]
     },
     "metadata": {},
     "output_type": "display_data"
    },
    {
     "data": {
      "text/markdown": [
       "\n",
       "|||\n",
       "|---:|:---|\n",
       "| [![arXiv](https://img.shields.io/badge/arXiv-2507.21551-b31b1b.svg)](https://arxiv.org/abs/2507.21551) | **A North-South Metallicity Asymmetry in the Outer Galactic disk -- Evidence for the Pericentric Passage of the Sagittarius Dwarf Galaxy**  |\n",
       "|| C. Wang, et al. -- incl., <mark>L. Xie</mark> |\n",
       "|*Appeared on*| *2025-07-30*|\n",
       "|*Comments*| *12pages, 8figures, accepted by ApJL*|\n",
       "|**Abstract**|            We present maps of the mean metallicity distributions on the Galactocentric $R$--$Z$ plane at different azimuthal angles using red clump stars selected from the LAMOST and APOGEE surveys. In the inner disk ($R < $ 11\\,kpc), the metallicity distribution is symmetric between the upper and lower disk. However, we find a North-South metallicity asymmetry in the outer disk ($R > 11$\\,kpc), especially towards the anti-Galactic center ($-5^\\circ < \\Phi < 15^\\circ$) direction. By further dissecting the map in age space, we detect this asymmetry across all mono-age stellar populations. However, the asymmetry is less pronounced in older populations ($\\tau > 8$ Gyr) compared to younger ones ($\\tau < 6$\\,Gyr). This reduced significance likely stems from three factors: larger age uncertainties, fewer stars in the outer disk, and the kinematically hotter nature of older populations. The observed metallicity asymmetry may be the consequence of the purturbation of the recent pericentric passage through the Galactic disk and tidal force of the well-known Sagittarius dwarf galaxy.         |\n",
       "|<p style=\"color:green\"> **ERROR** </p>| <p style=\"color:green\">affiliation error: mpia.affiliation_verifications: 'Heidelberg' keyword not found.</p> |"
      ],
      "text/plain": [
       "<IPython.core.display.Markdown object>"
      ]
     },
     "metadata": {},
     "output_type": "display_data"
    },
    {
     "data": {
      "text/markdown": [
       "\n",
       "|||\n",
       "|---:|:---|\n",
       "| [![arXiv](https://img.shields.io/badge/arXiv-2507.21866-b31b1b.svg)](https://arxiv.org/abs/2507.21866) | **SARD: A YOLOv8-Based System for Solar Active Region Detection with SDO/HMI Magnetograms**  |\n",
       "|| J. Pan, <mark>J. Liu</mark>, S. Fang, R. Liu |\n",
       "|*Appeared on*| *2025-07-30*|\n",
       "|*Comments*| *19 pages*|\n",
       "|**Abstract**|            Solar active regions are where sunspots are located and photospheric magnetic fluxes are concentrated, therefore being the sources of energetic eruptions in the solar atmosphere. The detection and statistics of solar active regions have been forefront topics in solar physics. In this study, we developed a solar active region detector (SARD) based on the advanced object detection model YOLOv8. First, we applied image processing techniques including thresholding and morphological operations to 6975 line-of-sight magnetograms from 2010 to 2019 at a cadence of 12~h, obtained by the Helioseismic and Magnetic Imager onboard the Solar Dynamic Observatory. With manual refinement, we labeled 26531 active regions in the dataset for further training and test with the detection model. Without any overlap between the training and test sets, the superior performance of SARD is demonstrated by an average precision rate as high as 94\\%. We then performed a statistical analysis on the area and magnetic flux of the detected active regions, both of which yield log-normal distributions. This result sheds light on the underlying complexity and multi-scale nature of solar active regions.         |\n",
       "|<p style=\"color:green\"> **ERROR** </p>| <p style=\"color:green\">affiliation error: mpia.affiliation_verifications: 'Heidelberg' keyword not found.</p> |"
      ],
      "text/plain": [
       "<IPython.core.display.Markdown object>"
      ]
     },
     "metadata": {},
     "output_type": "display_data"
    },
    {
     "data": {
      "text/markdown": [
       "\n",
       "|||\n",
       "|---:|:---|\n",
       "| [![arXiv](https://img.shields.io/badge/arXiv-2507.22006-b31b1b.svg)](https://arxiv.org/abs/2507.22006) | **Probing ALP-Photon Mixing with High-Resolution X-ray Spectroscopy**  |\n",
       "|| Y. Zhou, <mark>J. Liu</mark>, V. Takhistov, K. Mitsuda |\n",
       "|*Appeared on*| *2025-07-30*|\n",
       "|*Comments*| *16 pages, 10 figures*|\n",
       "|**Abstract**|            Axion-like particles (ALPs) provide a compelling avenue for exploring physics beyond the Standard Model. In astrophysical magnetized plasmas an ALP-photon coupling $g_{a\\gamma}$ induces energy-dependent oscillations in the photon survival probability that imprint modulations on emission spectra. X-ray observations of bright spectrally-smooth sources can provide particularly sensitive probes of ultralight ALPs with masses $m_a \\lesssim 10^{-11}$ eV due to long propagation distances, strong magnetic fields and high photon statistics. We present a comprehensive forecast of ALP-photon conversion in three representative systems: (i) background active galactic nuclei (AGNs) observed through foreground intracluster magnetic fields, (ii) central AGNs within their host cluster halos and (iii) Galactic X-ray binaries viewed through the Milky Way field. Using detailed simulations we assess the prospective sensitivity of high-resolution X-ray missions including XRISM, Athena, and Arcus. For typical magnetic field configurations a 5 Ms XRISM observation of the Perseus Cluster AGN NGC 1275 can reach down to $g_{a\\gamma} \\sim 3 \\times 10^{-13}$ GeV$^{-1}$ at $m_a \\lesssim 10^{-12}$ eV, while Athena's superior energy resolution improves this reach by a factor of $\\sim 3$. We quantify the impact of magnetic field modeling, photon statistics, and spectral binning strategies. Our results demonstrate the scientific potential of high-resolution X-ray observations to probe photon-ALP coupling in previously inaccessible parameter space, offering a powerful window into physics beyond the Standard Model.         |\n",
       "|<p style=\"color:green\"> **ERROR** </p>| <p style=\"color:green\">affiliation error: mpia.affiliation_verifications: 'Heidelberg' keyword not found.</p> |"
      ],
      "text/plain": [
       "<IPython.core.display.Markdown object>"
      ]
     },
     "metadata": {},
     "output_type": "display_data"
    }
   ],
   "source": [
    "import datetime\n",
    "today = str(datetime.date.today())\n",
    "logfile = f\"_build/html/logs/log-{today}.md\"\n",
    "\n",
    "\n",
    "with open(logfile, 'w') as logs:\n",
    "    # Success\n",
    "    logs.write(f'# Arxiv on Deck 2: Logs - {today}\\n\\n')\n",
    "    logs.write(\"\"\"* Arxiv had {0:,d} new papers\\n\"\"\".format(len(new_papers)))\n",
    "    logs.write(\"\"\"    * {0:,d} with possible author matches\\n\\n\"\"\".format(len(candidates)))\n",
    "    logs.write(\"## Sucessful papers\\n\\n\")\n",
    "    display(Markdown(\"## Successful papers\"))\n",
    "    success = [k[0] for k in documents]\n",
    "    for candid in candidates:\n",
    "        if candid['identifier'].split(':')[-1] in success:\n",
    "            display(candid)\n",
    "            logs.write(candid.generate_markdown_text() + '\\n\\n')\n",
    "\n",
    "    ## failed\n",
    "    logs.write(\"## Failed papers\\n\\n\")\n",
    "    display(Markdown(\"## Failed papers\"))\n",
    "    failed = sorted(failed, key=lambda x: x[1])\n",
    "    current_reason = \"\"\n",
    "    for paper, reason in failed:\n",
    "        if 'affiliation' in reason:\n",
    "            color = 'green'\n",
    "        else:\n",
    "            color = 'red'\n",
    "        data = Markdown(\n",
    "                paper.generate_markdown_text() + \n",
    "                f'\\n|<p style=\"color:{color:s}\"> **ERROR** </p>| <p style=\"color:{color:s}\">{reason:s}</p> |'\n",
    "               )\n",
    "        if reason != current_reason:\n",
    "            logs.write(f'### {reason:s} \\n\\n')\n",
    "            current_reason = reason\n",
    "        logs.write(data.data + '\\n\\n')\n",
    "        \n",
    "        # only display here the important errors (all in logs)\n",
    "        # if color in ('red',):\n",
    "        display(data)"
   ]
  },
  {
   "cell_type": "markdown",
   "id": "472d20ee",
   "metadata": {
    "papermill": {
     "duration": 0.004027,
     "end_time": "2025-07-30T04:36:28.201627",
     "exception": false,
     "start_time": "2025-07-30T04:36:28.197600",
     "status": "completed"
    },
    "tags": []
   },
   "source": [
    "## Export documents\n",
    "\n",
    "We now write the .md files and export relevant images"
   ]
  },
  {
   "cell_type": "code",
   "execution_count": 7,
   "id": "d426aed9",
   "metadata": {
    "execution": {
     "iopub.execute_input": "2025-07-30T04:36:28.211015Z",
     "iopub.status.busy": "2025-07-30T04:36:28.210803Z",
     "iopub.status.idle": "2025-07-30T04:36:28.217525Z",
     "shell.execute_reply": "2025-07-30T04:36:28.216975Z"
    },
    "papermill": {
     "duration": 0.01233,
     "end_time": "2025-07-30T04:36:28.218536",
     "exception": false,
     "start_time": "2025-07-30T04:36:28.206206",
     "status": "completed"
    },
    "tags": []
   },
   "outputs": [],
   "source": [
    "def export_markdown_summary(md: str, md_fname:str, directory: str):\n",
    "    \"\"\"Export MD document and associated relevant images\"\"\"\n",
    "    import os\n",
    "    import shutil\n",
    "    import re\n",
    "\n",
    "    if (os.path.exists(directory) and not os.path.isdir(directory)):\n",
    "        raise RuntimeError(f\"a non-directory file exists with name {directory:s}\")\n",
    "\n",
    "    if (not os.path.exists(directory)):\n",
    "        print(f\"creating directory {directory:s}\")\n",
    "        os.mkdir(directory)\n",
    "\n",
    "    fig_fnames = (re.compile(r'\\[Fig.*\\]\\((.*)\\)').findall(md) + \n",
    "                  re.compile(r'\\<img src=\"([^>\\s]*)\"[^>]*/>').findall(md))\n",
    "    print(\"found figures\", fig_fnames)\n",
    "    for fname in fig_fnames:\n",
    "        if 'http' in fname:\n",
    "            # No need to copy online figures\n",
    "            continue\n",
    "        if not os.path.exists(fname):\n",
    "            print(\"file not found\", fname)\n",
    "            continue\n",
    "        print(\"copying \", fname, \"to\", directory)\n",
    "        destdir = os.path.join(directory, os.path.dirname(fname))\n",
    "        destfname = os.path.join(destdir, os.path.basename(fname))\n",
    "        try:\n",
    "            os.makedirs(destdir)\n",
    "        except FileExistsError:\n",
    "            pass\n",
    "        shutil.copy(fname, destfname)\n",
    "    with open(os.path.join(directory, md_fname), 'w') as fout:\n",
    "        fout.write(md)\n",
    "    print(\"exported in \", os.path.join(directory, md_fname))\n",
    "    [print(\"    + \" + os.path.join(directory,fk)) for fk in fig_fnames]"
   ]
  },
  {
   "cell_type": "code",
   "execution_count": 8,
   "id": "014d04a4",
   "metadata": {
    "execution": {
     "iopub.execute_input": "2025-07-30T04:36:28.227417Z",
     "iopub.status.busy": "2025-07-30T04:36:28.227205Z",
     "iopub.status.idle": "2025-07-30T04:36:28.233136Z",
     "shell.execute_reply": "2025-07-30T04:36:28.232585Z"
    },
    "papermill": {
     "duration": 0.011473,
     "end_time": "2025-07-30T04:36:28.234115",
     "exception": false,
     "start_time": "2025-07-30T04:36:28.222642",
     "status": "completed"
    },
    "tags": []
   },
   "outputs": [
    {
     "name": "stdout",
     "output_type": "stream",
     "text": [
      "found figures ['tmp_2507.21632/./L_H-alpha-NBursts-br-to-nar.jpg', 'tmp_2507.21632/./L_H-beta-NBursts-br-to-nar.jpg', 'tmp_2507.21632/./SPIDERS.png', 'tmp_2507.21632/./L-X-ray-M-BH-SDSS-V-col-pl.png']\n",
      "copying  tmp_2507.21632/./L_H-alpha-NBursts-br-to-nar.jpg to _build/html/\n",
      "copying  tmp_2507.21632/./L_H-beta-NBursts-br-to-nar.jpg to _build/html/\n",
      "copying  tmp_2507.21632/./SPIDERS.png to _build/html/\n",
      "copying  tmp_2507.21632/./L-X-ray-M-BH-SDSS-V-col-pl.png to _build/html/\n",
      "exported in  _build/html/2507.21632.md\n",
      "    + _build/html/tmp_2507.21632/./L_H-alpha-NBursts-br-to-nar.jpg\n",
      "    + _build/html/tmp_2507.21632/./L_H-beta-NBursts-br-to-nar.jpg\n",
      "    + _build/html/tmp_2507.21632/./SPIDERS.png\n",
      "    + _build/html/tmp_2507.21632/./L-X-ray-M-BH-SDSS-V-col-pl.png\n"
     ]
    }
   ],
   "source": [
    "for paper_id, md in documents:\n",
    "    export_markdown_summary(md, f\"{paper_id:s}.md\", '_build/html/')"
   ]
  },
  {
   "cell_type": "markdown",
   "id": "f087a0a7",
   "metadata": {
    "papermill": {
     "duration": 0.004148,
     "end_time": "2025-07-30T04:36:28.242485",
     "exception": false,
     "start_time": "2025-07-30T04:36:28.238337",
     "status": "completed"
    },
    "tags": []
   },
   "source": [
    "## Display the papers\n",
    "\n",
    "Not necessary but allows for a quick check."
   ]
  },
  {
   "cell_type": "code",
   "execution_count": 9,
   "id": "fd25f625",
   "metadata": {
    "execution": {
     "iopub.execute_input": "2025-07-30T04:36:28.251430Z",
     "iopub.status.busy": "2025-07-30T04:36:28.251210Z",
     "iopub.status.idle": "2025-07-30T04:36:28.255441Z",
     "shell.execute_reply": "2025-07-30T04:36:28.254885Z"
    },
    "papermill": {
     "duration": 0.009806,
     "end_time": "2025-07-30T04:36:28.256411",
     "exception": false,
     "start_time": "2025-07-30T04:36:28.246605",
     "status": "completed"
    },
    "scrolled": false,
    "tags": []
   },
   "outputs": [
    {
     "data": {
      "text/markdown": [
       "<div class=\"macros\" style=\"visibility:hidden;\">\n",
       "$\\newcommand{\\ensuremath}{}$\n",
       "$\\newcommand{\\xspace}{}$\n",
       "$\\newcommand{\\object}[1]{\\texttt{#1}}$\n",
       "$\\newcommand{\\farcs}{{.}''}$\n",
       "$\\newcommand{\\farcm}{{.}'}$\n",
       "$\\newcommand{\\arcsec}{''}$\n",
       "$\\newcommand{\\arcmin}{'}$\n",
       "$\\newcommand{\\ion}[2]{#1#2}$\n",
       "$\\newcommand{\\textsc}[1]{\\textrm{#1}}$\n",
       "$\\newcommand{\\hl}[1]{\\textrm{#1}}$\n",
       "$\\newcommand{\\footnote}[1]{}$\n",
       "$\\newcommand{\\ii}{ {\\sc ii}}$\n",
       "$\\newcommand{\\iii}{ {\\sc iii}}$</div>\n",
       "\n",
       "\n",
       "\n",
       "<div id=\"title\">\n",
       "\n",
       "# Optical Emission-Line Properties of \\ eROSITA-selected SDSS-V Galaxies\n",
       "\n",
       "</div>\n",
       "<div id=\"comments\">\n",
       "\n",
       "[![arXiv](https://img.shields.io/badge/arXiv-2507.21632-b31b1b.svg)](https://arxiv.org/abs/2507.21632)<mark>Appeared on: 2025-07-30</mark> -  _15 pages, 9 figures, 3 tables_\n",
       "\n",
       "</div>\n",
       "<div id=\"authors\">\n",
       "\n",
       "N. G. Pulatova, et al. -- incl., <mark>H.-W. Rix</mark>, <mark>M. Demianenko</mark>\n",
       "\n",
       "</div>\n",
       "<div id=\"abstract\">\n",
       "\n",
       "**Abstract:** We present and discuss optical emission line properties obtained from the analysis of Sloan Digital Sky Survey (SDSS) spectra for an X-ray selected sample of 3684 galaxies ( $0.002 < z < 0.55$ ), drawn from the eRASS1 catalog.We modeled SDSS-V DR19 spectra using the ${\\sc NBursts}$ full spectrum fitting technique with E-MILES simple stellar populations (SSP) models and emission line templates to decompose broad and narrow emission line components for correlation with X-ray properties.We place the galaxies on the Baldwin-Phillips-Terlevich (BPT) diagram to diagnose their dominant excitation mechanism.We show that the consistent use of the narrow component fluxesshifts most galaxies systematically and significantly upward to the active galactic nuclei (AGN) region on the BPT diagram.On this basis, we confirm the dependence between a galaxy’s position on the BPT diagram and its ( $0.2-2.3$ keV) X-ray/H $\\alpha$ flux ratio.We also verified the correlation between X-ray luminosity and emission line luminosities of the narrow [ O $\\iii$ ] $\\lambda 5007$ and broad H $\\alpha$ component; as well as the relations between the Supermassive Black Hole (SMBH) mass, the X-ray luminosity, and the velocity dispersion of the stellar component ( $\\sigma_{*}$ ) on the base on the unique sample of optical spectroscopic follow-up of X-ray sources detected by eROSITA.These results highlight the importance of emission line decomposition in AGN classification and refine the connection between X-ray emission and optical emission line properties in galaxies.\n",
       "\n",
       "</div>\n",
       "\n",
       "<div id=\"div_fig1\">\n",
       "\n",
       "<img src=\"tmp_2507.21632/./L_H-alpha-NBursts-br-to-nar.jpg\" alt=\"Fig8.1\" width=\"50%\"/><img src=\"tmp_2507.21632/./L_H-beta-NBursts-br-to-nar.jpg\" alt=\"Fig8.2\" width=\"50%\"/>\n",
       "\n",
       "**Figure 8. -** \n",
       "        Optical luminosity in the broad and narrow components. Color code: eROSITA X-ray luminosity in $0.2 - 2.3$ keV. The black dashed line represents 1:1 relation. It demonstrates a strong connection between the BLR, NLR, and the X-ray source. Panel a: H$\\alpha$; Panel b: H$\\beta$.\n",
       "         (*Fig-Lum-nar-broad_X*)\n",
       "\n",
       "</div>\n",
       "<div id=\"div_fig2\">\n",
       "\n",
       "<img src=\"tmp_2507.21632/./SPIDERS.png\" alt=\"Fig1\" width=\"100%\"/>\n",
       "\n",
       "**Figure 1. -** \n",
       "        Step-by-step description of samples selection.\n",
       "         (*Fig-sam-sel*)\n",
       "\n",
       "</div>\n",
       "<div id=\"div_fig3\">\n",
       "\n",
       "<img src=\"tmp_2507.21632/./L-X-ray-M-BH-SDSS-V-col-pl.png\" alt=\"Fig3\" width=\"100%\"/>\n",
       "\n",
       "**Figure 3. -** \n",
       "        The X-ray luminosity --- SMBH mass diagram. Color code: velocity dispersion of the stellar component $\\sigma_{*}$.\n",
       "         (*Fig_M_BH_LX*)\n",
       "\n",
       "</div><div id=\"qrcode\"><img src=https://api.qrserver.com/v1/create-qr-code/?size=100x100&data=\"https://arxiv.org/abs/2507.21632\"></div>"
      ],
      "text/plain": [
       "<IPython.core.display.Markdown object>"
      ]
     },
     "metadata": {},
     "output_type": "display_data"
    }
   ],
   "source": [
    "[display(Markdown(k[1])) for k in documents];"
   ]
  },
  {
   "cell_type": "markdown",
   "id": "873873a4",
   "metadata": {
    "papermill": {
     "duration": 0.004289,
     "end_time": "2025-07-30T04:36:28.265150",
     "exception": false,
     "start_time": "2025-07-30T04:36:28.260861",
     "status": "completed"
    },
    "tags": []
   },
   "source": [
    "# Create HTML index"
   ]
  },
  {
   "cell_type": "code",
   "execution_count": 10,
   "id": "cf665672",
   "metadata": {
    "execution": {
     "iopub.execute_input": "2025-07-30T04:36:28.274869Z",
     "iopub.status.busy": "2025-07-30T04:36:28.274656Z",
     "iopub.status.idle": "2025-07-30T04:36:28.281393Z",
     "shell.execute_reply": "2025-07-30T04:36:28.280852Z"
    },
    "papermill": {
     "duration": 0.012692,
     "end_time": "2025-07-30T04:36:28.282437",
     "exception": false,
     "start_time": "2025-07-30T04:36:28.269745",
     "status": "completed"
    },
    "tags": []
   },
   "outputs": [
    {
     "name": "stdout",
     "output_type": "stream",
     "text": [
      "133  publications files modified in the last 7 days.\n"
     ]
    }
   ],
   "source": [
    "from datetime import datetime, timedelta, timezone\n",
    "from glob import glob\n",
    "import os\n",
    "\n",
    "files = glob('_build/html/*.md')\n",
    "days = 7\n",
    "now = datetime.today()\n",
    "res = []\n",
    "for fk in files:\n",
    "    stat_result = os.stat(fk).st_ctime\n",
    "    modified = datetime.fromtimestamp(stat_result, tz=timezone.utc).replace(tzinfo=None)\n",
    "    delta = now.today() - modified\n",
    "    if delta <= timedelta(days=days):\n",
    "        res.append((delta.seconds, fk))\n",
    "res = [k[1] for k in reversed(sorted(res, key=lambda x:x[1]))]\n",
    "npub = len(res)\n",
    "print(len(res), f\" publications files modified in the last {days:d} days.\")\n",
    "# [ print('\\t', k) for k in res ];"
   ]
  },
  {
   "cell_type": "code",
   "execution_count": 11,
   "id": "015de740",
   "metadata": {
    "execution": {
     "iopub.execute_input": "2025-07-30T04:36:28.292121Z",
     "iopub.status.busy": "2025-07-30T04:36:28.291888Z",
     "iopub.status.idle": "2025-07-30T04:36:28.303609Z",
     "shell.execute_reply": "2025-07-30T04:36:28.303065Z"
    },
    "papermill": {
     "duration": 0.017653,
     "end_time": "2025-07-30T04:36:28.304564",
     "exception": false,
     "start_time": "2025-07-30T04:36:28.286911",
     "status": "completed"
    },
    "tags": []
   },
   "outputs": [
    {
     "name": "stdout",
     "output_type": "stream",
     "text": [
      "9  publications in the last 7 days.\n"
     ]
    }
   ],
   "source": [
    "import datetime\n",
    "from glob import glob\n",
    "\n",
    "def get_last_n_days(lst, days=1):\n",
    "    \"\"\" Get the documents from the last n days \"\"\"\n",
    "    sorted_lst = sorted(lst, key=lambda x: x[1], reverse=True)\n",
    "    for fname, date in sorted_lst:\n",
    "        if date >= str(datetime.date.today() - datetime.timedelta(days=days)):\n",
    "            yield fname\n",
    "\n",
    "def extract_appearance_dates(lst_file):\n",
    "    dates = []\n",
    "\n",
    "    def get_date(line):\n",
    "        return line\\\n",
    "            .split('Appeared on:')[-1]\\\n",
    "            .split('</mark>')[0].strip()\n",
    "\n",
    "    for fname in lst:\n",
    "        with open(fname, 'r') as f:\n",
    "            found_date = False\n",
    "            for line in f:\n",
    "                if not found_date:\n",
    "                    if \"Appeared on\" in line:\n",
    "                        found_date = True\n",
    "                        dates.append((fname, get_date(line)))\n",
    "                else:\n",
    "                    break\n",
    "    return dates\n",
    "\n",
    "from glob import glob\n",
    "lst = glob('_build/html/*md')\n",
    "days = 7\n",
    "dates = extract_appearance_dates(lst)\n",
    "res = list(get_last_n_days(dates, days))\n",
    "npub = len(res)\n",
    "print(len(res), f\" publications in the last {days:d} days.\")"
   ]
  },
  {
   "cell_type": "code",
   "execution_count": 12,
   "id": "52ca0208",
   "metadata": {
    "execution": {
     "iopub.execute_input": "2025-07-30T04:36:28.314369Z",
     "iopub.status.busy": "2025-07-30T04:36:28.314165Z",
     "iopub.status.idle": "2025-07-30T04:36:28.318810Z",
     "shell.execute_reply": "2025-07-30T04:36:28.318286Z"
    },
    "papermill": {
     "duration": 0.010742,
     "end_time": "2025-07-30T04:36:28.319819",
     "exception": false,
     "start_time": "2025-07-30T04:36:28.309077",
     "status": "completed"
    },
    "scrolled": false,
    "tags": []
   },
   "outputs": [],
   "source": [
    "def create_carousel(npub=4):\n",
    "    \"\"\" Generate the HTML code for a carousel with `npub` slides \"\"\"\n",
    "    carousel = [\"\"\"  <div class=\"carousel\" \"\"\",\n",
    "                \"\"\"       data-flickity='{ \"autoPlay\": 10000, \"adaptiveHeight\": true, \"resize\": true, \"wrapAround\": true, \"pauseAutoPlayOnHover\": true, \"groupCells\": 1 }' id=\"asyncTypeset\">\"\"\"\n",
    "                ]\n",
    "    \n",
    "    item_str = \"\"\"    <div class=\"carousel-cell\"> <div id=\"slide{k}\" class=\"md_view\">Content {k}</div> </div>\"\"\"\n",
    "    for k in range(1, npub + 1):\n",
    "        carousel.append(item_str.format(k=k))\n",
    "    carousel.append(\"  </div>\")\n",
    "    return '\\n'.join(carousel)\n",
    "\n",
    "def create_grid(npub=4):\n",
    "    \"\"\" Generate the HTML code for a flat grid with `npub` slides \"\"\"\n",
    "    grid = [\"\"\"  <div class=\"grid\"> \"\"\",\n",
    "                ]\n",
    "    \n",
    "    item_str = \"\"\"    <div class=\"grid-item\"> <div id=\"slide{k}\" class=\"md_view\">Content {k}</div> </div>\"\"\"\n",
    "    for k in range(1, npub + 1):\n",
    "        grid.append(item_str.format(k=k))\n",
    "    grid.append(\"  </div>\")\n",
    "    return '\\n'.join(grid)"
   ]
  },
  {
   "cell_type": "code",
   "execution_count": 13,
   "id": "a6eac5b6",
   "metadata": {
    "execution": {
     "iopub.execute_input": "2025-07-30T04:36:28.329591Z",
     "iopub.status.busy": "2025-07-30T04:36:28.329416Z",
     "iopub.status.idle": "2025-07-30T04:36:28.334199Z",
     "shell.execute_reply": "2025-07-30T04:36:28.333545Z"
    },
    "papermill": {
     "duration": 0.010797,
     "end_time": "2025-07-30T04:36:28.335163",
     "exception": false,
     "start_time": "2025-07-30T04:36:28.324366",
     "status": "completed"
    },
    "scrolled": false,
    "tags": []
   },
   "outputs": [],
   "source": [
    "carousel = create_carousel(npub)\n",
    "docs = ', '.join(['\"{0:s}\"'.format(k.split('/')[-1]) for k in res])\n",
    "slides = ', '.join([f'\"slide{k}\"' for k in range(1, npub + 1)])\n",
    "\n",
    "with open(\"daily_template.html\", \"r\") as tpl:\n",
    "    page = tpl.read()\n",
    "    page = page.replace(\"{%-- carousel:s --%}\", carousel)\\\n",
    "               .replace(\"{%-- suptitle:s --%}\",  \"7-day archives\" )\\\n",
    "               .replace(\"{%-- docs:s --%}\", docs)\\\n",
    "               .replace(\"{%-- slides:s --%}\", slides)\n",
    "    \n",
    "with open(\"_build/html/index_7days.html\", 'w') as fout:\n",
    "    fout.write(page)"
   ]
  },
  {
   "cell_type": "code",
   "execution_count": 14,
   "id": "adc1a1ec",
   "metadata": {
    "execution": {
     "iopub.execute_input": "2025-07-30T04:36:28.345024Z",
     "iopub.status.busy": "2025-07-30T04:36:28.344828Z",
     "iopub.status.idle": "2025-07-30T04:36:28.350950Z",
     "shell.execute_reply": "2025-07-30T04:36:28.350319Z"
    },
    "papermill": {
     "duration": 0.012126,
     "end_time": "2025-07-30T04:36:28.351874",
     "exception": false,
     "start_time": "2025-07-30T04:36:28.339748",
     "status": "completed"
    },
    "tags": []
   },
   "outputs": [
    {
     "name": "stdout",
     "output_type": "stream",
     "text": [
      "2  publications in the last day.\n"
     ]
    }
   ],
   "source": [
    "# redo for today\n",
    "days = 1\n",
    "res = list(get_last_n_days(dates, days))\n",
    "npub = len(res)\n",
    "print(len(res), f\" publications in the last day.\")\n",
    "\n",
    "carousel = create_carousel(npub)\n",
    "docs = ', '.join(['\"{0:s}\"'.format(k.split('/')[-1]) for k in res])\n",
    "slides = ', '.join([f'\"slide{k}\"' for k in range(1, npub + 1)])\n",
    "\n",
    "with open(\"daily_template.html\", \"r\") as tpl:\n",
    "    page = tpl.read()\n",
    "    page = page.replace(\"{%-- carousel:s --%}\", carousel)\\\n",
    "               .replace(\"{%-- suptitle:s --%}\",  \"Daily\" )\\\n",
    "               .replace(\"{%-- docs:s --%}\", docs)\\\n",
    "               .replace(\"{%-- slides:s --%}\", slides)\n",
    "    \n",
    "# print(carousel, docs, slides)\n",
    "# print(page)\n",
    "with open(\"_build/html/index_daily.html\", 'w') as fout:\n",
    "    fout.write(page)"
   ]
  },
  {
   "cell_type": "code",
   "execution_count": 15,
   "id": "00eece82",
   "metadata": {
    "execution": {
     "iopub.execute_input": "2025-07-30T04:36:28.362188Z",
     "iopub.status.busy": "2025-07-30T04:36:28.361986Z",
     "iopub.status.idle": "2025-07-30T04:36:28.368157Z",
     "shell.execute_reply": "2025-07-30T04:36:28.367597Z"
    },
    "papermill": {
     "duration": 0.012385,
     "end_time": "2025-07-30T04:36:28.369125",
     "exception": false,
     "start_time": "2025-07-30T04:36:28.356740",
     "status": "completed"
    },
    "scrolled": false,
    "tags": []
   },
   "outputs": [
    {
     "name": "stdout",
     "output_type": "stream",
     "text": [
      "6  6 publications selected.\n"
     ]
    }
   ],
   "source": [
    "# Create the flat grid of the last N papers (fixed number regardless of dates)\n",
    "from itertools import islice \n",
    "\n",
    "npub = 6\n",
    "res = [k[0] for k in (islice(reversed(sorted(dates, key=lambda x: x[1])), 6))]\n",
    "print(len(res), f\" {npub} publications selected.\")\n",
    "\n",
    "grid = create_grid(npub)\n",
    "docs = ', '.join(['\"{0:s}\"'.format(k.split('/')[-1]) for k in res])\n",
    "slides = ', '.join([f'\"slide{k}\"' for k in range(1, npub + 1)])\n",
    "\n",
    "with open(\"grid_template.html\", \"r\") as tpl:\n",
    "    page = tpl.read()\n",
    "    page = page.replace(\"{%-- grid-content:s --%}\", grid)\\\n",
    "               .replace(\"{%-- suptitle:s --%}\",  f\"Last {npub:,d} papers\" )\\\n",
    "               .replace(\"{%-- docs:s --%}\", docs)\\\n",
    "               .replace(\"{%-- slides:s --%}\", slides)\n",
    "    \n",
    "# print(grid, docs, slides)\n",
    "# print(page)\n",
    "with open(\"_build/html/index_npub_grid.html\", 'w') as fout:\n",
    "    fout.write(page)"
   ]
  }
 ],
 "metadata": {
  "kernelspec": {
   "display_name": "Python 3 (ipykernel)",
   "language": "python",
   "name": "python3"
  },
  "language_info": {
   "codemirror_mode": {
    "name": "ipython",
    "version": 3
   },
   "file_extension": ".py",
   "mimetype": "text/x-python",
   "name": "python",
   "nbconvert_exporter": "python",
   "pygments_lexer": "ipython3",
   "version": "3.9.23"
  },
  "papermill": {
   "default_parameters": {},
   "duration": 25.892034,
   "end_time": "2025-07-30T04:36:28.589298",
   "environment_variables": {},
   "exception": null,
   "input_path": "MPIA daily digest.ipynb",
   "output_path": "log.ipynb",
   "parameters": {},
   "start_time": "2025-07-30T04:36:02.697264",
   "version": "2.6.0"
  },
  "vscode": {
   "interpreter": {
    "hash": "aee8b7b246df8f9039afb4144a1f6fd8d2ca17a180786b69acc140d282b71a49"
   }
  },
  "widgets": {
   "application/vnd.jupyter.widget-state+json": {
    "state": {
     "0c2ff6259c0e48b5adb7bba8dd9dffe6": {
      "model_module": "@jupyter-widgets/controls",
      "model_module_version": "2.0.0",
      "model_name": "HTMLStyleModel",
      "state": {
       "_model_module": "@jupyter-widgets/controls",
       "_model_module_version": "2.0.0",
       "_model_name": "HTMLStyleModel",
       "_view_count": null,
       "_view_module": "@jupyter-widgets/base",
       "_view_module_version": "2.0.0",
       "_view_name": "StyleView",
       "background": null,
       "description_width": "",
       "font_size": null,
       "text_color": null
      }
     },
     "4478fccaf5cf43acb5dbc1600fc6a3d3": {
      "model_module": "@jupyter-widgets/base",
      "model_module_version": "2.0.0",
      "model_name": "LayoutModel",
      "state": {
       "_model_module": "@jupyter-widgets/base",
       "_model_module_version": "2.0.0",
       "_model_name": "LayoutModel",
       "_view_count": null,
       "_view_module": "@jupyter-widgets/base",
       "_view_module_version": "2.0.0",
       "_view_name": "LayoutView",
       "align_content": null,
       "align_items": null,
       "align_self": null,
       "border_bottom": null,
       "border_left": null,
       "border_right": null,
       "border_top": null,
       "bottom": null,
       "display": null,
       "flex": null,
       "flex_flow": null,
       "grid_area": null,
       "grid_auto_columns": null,
       "grid_auto_flow": null,
       "grid_auto_rows": null,
       "grid_column": null,
       "grid_gap": null,
       "grid_row": null,
       "grid_template_areas": null,
       "grid_template_columns": null,
       "grid_template_rows": null,
       "height": null,
       "justify_content": null,
       "justify_items": null,
       "left": null,
       "margin": null,
       "max_height": null,
       "max_width": null,
       "min_height": null,
       "min_width": null,
       "object_fit": null,
       "object_position": null,
       "order": null,
       "overflow": null,
       "padding": null,
       "right": null,
       "top": null,
       "visibility": null,
       "width": null
      }
     },
     "773fc689fc534a88b1847a1867457cf2": {
      "model_module": "@jupyter-widgets/base",
      "model_module_version": "2.0.0",
      "model_name": "LayoutModel",
      "state": {
       "_model_module": "@jupyter-widgets/base",
       "_model_module_version": "2.0.0",
       "_model_name": "LayoutModel",
       "_view_count": null,
       "_view_module": "@jupyter-widgets/base",
       "_view_module_version": "2.0.0",
       "_view_name": "LayoutView",
       "align_content": null,
       "align_items": null,
       "align_self": null,
       "border_bottom": null,
       "border_left": null,
       "border_right": null,
       "border_top": null,
       "bottom": null,
       "display": null,
       "flex": null,
       "flex_flow": null,
       "grid_area": null,
       "grid_auto_columns": null,
       "grid_auto_flow": null,
       "grid_auto_rows": null,
       "grid_column": null,
       "grid_gap": null,
       "grid_row": null,
       "grid_template_areas": null,
       "grid_template_columns": null,
       "grid_template_rows": null,
       "height": null,
       "justify_content": null,
       "justify_items": null,
       "left": null,
       "margin": null,
       "max_height": null,
       "max_width": null,
       "min_height": null,
       "min_width": null,
       "object_fit": null,
       "object_position": null,
       "order": null,
       "overflow": null,
       "padding": null,
       "right": null,
       "top": null,
       "visibility": null,
       "width": null
      }
     },
     "7db806446ebb4cc7a40f268974cfb19a": {
      "model_module": "@jupyter-widgets/controls",
      "model_module_version": "2.0.0",
      "model_name": "FloatProgressModel",
      "state": {
       "_dom_classes": [],
       "_model_module": "@jupyter-widgets/controls",
       "_model_module_version": "2.0.0",
       "_model_name": "FloatProgressModel",
       "_view_count": null,
       "_view_module": "@jupyter-widgets/controls",
       "_view_module_version": "2.0.0",
       "_view_name": "ProgressView",
       "bar_style": "success",
       "description": "",
       "description_allow_html": false,
       "layout": "IPY_MODEL_b046d6d0aa1e4b5c849f26a3451c7724",
       "max": 4.0,
       "min": 0.0,
       "orientation": "horizontal",
       "style": "IPY_MODEL_a398b2017c844aa99fed2d7a815276c5",
       "tabbable": null,
       "tooltip": null,
       "value": 4.0
      }
     },
     "8299bc66074b47d48948bef98a43506c": {
      "model_module": "@jupyter-widgets/controls",
      "model_module_version": "2.0.0",
      "model_name": "HBoxModel",
      "state": {
       "_dom_classes": [],
       "_model_module": "@jupyter-widgets/controls",
       "_model_module_version": "2.0.0",
       "_model_name": "HBoxModel",
       "_view_count": null,
       "_view_module": "@jupyter-widgets/controls",
       "_view_module_version": "2.0.0",
       "_view_name": "HBoxView",
       "box_style": "",
       "children": [
        "IPY_MODEL_b177e4125da9449aa97a9925fbdff27b",
        "IPY_MODEL_7db806446ebb4cc7a40f268974cfb19a",
        "IPY_MODEL_a34e5fb5ce214fd9ab495b2a7f422305"
       ],
       "layout": "IPY_MODEL_4478fccaf5cf43acb5dbc1600fc6a3d3",
       "tabbable": null,
       "tooltip": null
      }
     },
     "a34e5fb5ce214fd9ab495b2a7f422305": {
      "model_module": "@jupyter-widgets/controls",
      "model_module_version": "2.0.0",
      "model_name": "HTMLModel",
      "state": {
       "_dom_classes": [],
       "_model_module": "@jupyter-widgets/controls",
       "_model_module_version": "2.0.0",
       "_model_name": "HTMLModel",
       "_view_count": null,
       "_view_module": "@jupyter-widgets/controls",
       "_view_module_version": "2.0.0",
       "_view_name": "HTMLView",
       "description": "",
       "description_allow_html": false,
       "layout": "IPY_MODEL_773fc689fc534a88b1847a1867457cf2",
       "placeholder": "​",
       "style": "IPY_MODEL_eb090fbfacef448599718785689f8e96",
       "tabbable": null,
       "tooltip": null,
       "value": " 4/4 [00:05&lt;00:00,  1.78s/it]"
      }
     },
     "a398b2017c844aa99fed2d7a815276c5": {
      "model_module": "@jupyter-widgets/controls",
      "model_module_version": "2.0.0",
      "model_name": "ProgressStyleModel",
      "state": {
       "_model_module": "@jupyter-widgets/controls",
       "_model_module_version": "2.0.0",
       "_model_name": "ProgressStyleModel",
       "_view_count": null,
       "_view_module": "@jupyter-widgets/base",
       "_view_module_version": "2.0.0",
       "_view_name": "StyleView",
       "bar_color": null,
       "description_width": ""
      }
     },
     "b046d6d0aa1e4b5c849f26a3451c7724": {
      "model_module": "@jupyter-widgets/base",
      "model_module_version": "2.0.0",
      "model_name": "LayoutModel",
      "state": {
       "_model_module": "@jupyter-widgets/base",
       "_model_module_version": "2.0.0",
       "_model_name": "LayoutModel",
       "_view_count": null,
       "_view_module": "@jupyter-widgets/base",
       "_view_module_version": "2.0.0",
       "_view_name": "LayoutView",
       "align_content": null,
       "align_items": null,
       "align_self": null,
       "border_bottom": null,
       "border_left": null,
       "border_right": null,
       "border_top": null,
       "bottom": null,
       "display": null,
       "flex": null,
       "flex_flow": null,
       "grid_area": null,
       "grid_auto_columns": null,
       "grid_auto_flow": null,
       "grid_auto_rows": null,
       "grid_column": null,
       "grid_gap": null,
       "grid_row": null,
       "grid_template_areas": null,
       "grid_template_columns": null,
       "grid_template_rows": null,
       "height": null,
       "justify_content": null,
       "justify_items": null,
       "left": null,
       "margin": null,
       "max_height": null,
       "max_width": null,
       "min_height": null,
       "min_width": null,
       "object_fit": null,
       "object_position": null,
       "order": null,
       "overflow": null,
       "padding": null,
       "right": null,
       "top": null,
       "visibility": null,
       "width": null
      }
     },
     "b177e4125da9449aa97a9925fbdff27b": {
      "model_module": "@jupyter-widgets/controls",
      "model_module_version": "2.0.0",
      "model_name": "HTMLModel",
      "state": {
       "_dom_classes": [],
       "_model_module": "@jupyter-widgets/controls",
       "_model_module_version": "2.0.0",
       "_model_name": "HTMLModel",
       "_view_count": null,
       "_view_module": "@jupyter-widgets/controls",
       "_view_module_version": "2.0.0",
       "_view_name": "HTMLView",
       "description": "",
       "description_allow_html": false,
       "layout": "IPY_MODEL_eb5e9b98807741849861fafb70f97065",
       "placeholder": "​",
       "style": "IPY_MODEL_0c2ff6259c0e48b5adb7bba8dd9dffe6",
       "tabbable": null,
       "tooltip": null,
       "value": "100%"
      }
     },
     "eb090fbfacef448599718785689f8e96": {
      "model_module": "@jupyter-widgets/controls",
      "model_module_version": "2.0.0",
      "model_name": "HTMLStyleModel",
      "state": {
       "_model_module": "@jupyter-widgets/controls",
       "_model_module_version": "2.0.0",
       "_model_name": "HTMLStyleModel",
       "_view_count": null,
       "_view_module": "@jupyter-widgets/base",
       "_view_module_version": "2.0.0",
       "_view_name": "StyleView",
       "background": null,
       "description_width": "",
       "font_size": null,
       "text_color": null
      }
     },
     "eb5e9b98807741849861fafb70f97065": {
      "model_module": "@jupyter-widgets/base",
      "model_module_version": "2.0.0",
      "model_name": "LayoutModel",
      "state": {
       "_model_module": "@jupyter-widgets/base",
       "_model_module_version": "2.0.0",
       "_model_name": "LayoutModel",
       "_view_count": null,
       "_view_module": "@jupyter-widgets/base",
       "_view_module_version": "2.0.0",
       "_view_name": "LayoutView",
       "align_content": null,
       "align_items": null,
       "align_self": null,
       "border_bottom": null,
       "border_left": null,
       "border_right": null,
       "border_top": null,
       "bottom": null,
       "display": null,
       "flex": null,
       "flex_flow": null,
       "grid_area": null,
       "grid_auto_columns": null,
       "grid_auto_flow": null,
       "grid_auto_rows": null,
       "grid_column": null,
       "grid_gap": null,
       "grid_row": null,
       "grid_template_areas": null,
       "grid_template_columns": null,
       "grid_template_rows": null,
       "height": null,
       "justify_content": null,
       "justify_items": null,
       "left": null,
       "margin": null,
       "max_height": null,
       "max_width": null,
       "min_height": null,
       "min_width": null,
       "object_fit": null,
       "object_position": null,
       "order": null,
       "overflow": null,
       "padding": null,
       "right": null,
       "top": null,
       "visibility": null,
       "width": null
      }
     }
    },
    "version_major": 2,
    "version_minor": 0
   }
  }
 },
 "nbformat": 4,
 "nbformat_minor": 5
}