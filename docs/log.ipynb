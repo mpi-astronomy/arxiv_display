{
 "cells": [
  {
   "cell_type": "markdown",
   "id": "92bcb855",
   "metadata": {
    "papermill": {
     "duration": 0.007846,
     "end_time": "2023-01-09T04:08:11.690308",
     "exception": false,
     "start_time": "2023-01-09T04:08:11.682462",
     "status": "completed"
    },
    "tags": []
   },
   "source": [
    "# MPIA Arxiv on Deck 2\n",
    "\n",
    "Contains the steps to produce the paper extractions."
   ]
  },
  {
   "cell_type": "code",
   "execution_count": 1,
   "id": "3a0d6e11",
   "metadata": {
    "execution": {
     "iopub.execute_input": "2023-01-09T04:08:11.703040Z",
     "iopub.status.busy": "2023-01-09T04:08:11.702059Z",
     "iopub.status.idle": "2023-01-09T04:08:11.943252Z",
     "shell.execute_reply": "2023-01-09T04:08:11.941613Z"
    },
    "papermill": {
     "duration": 0.250141,
     "end_time": "2023-01-09T04:08:11.946238",
     "exception": false,
     "start_time": "2023-01-09T04:08:11.696097",
     "status": "completed"
    },
    "tags": []
   },
   "outputs": [],
   "source": [
    "# Imports\n",
    "import os\n",
    "from IPython.display import Markdown, display\n",
    "from tqdm.notebook import tqdm\n",
    "import warnings\n",
    "from PIL import Image \n",
    "\n",
    "# requires arxiv_on_deck_2\n",
    "\n",
    "from arxiv_on_deck_2.arxiv2 import (get_new_papers, \n",
    "                                    get_paper_from_identifier,\n",
    "                                    retrieve_document_source, \n",
    "                                    get_markdown_badge)\n",
    "from arxiv_on_deck_2 import (latex, \n",
    "                             mpia,\n",
    "                             highlight_authors_in_list)\n",
    "\n",
    "# Sometimes images are really big\n",
    "Image.MAX_IMAGE_PIXELS = 1000000000 "
   ]
  },
  {
   "cell_type": "code",
   "execution_count": 2,
   "id": "22aa9d44",
   "metadata": {
    "execution": {
     "iopub.execute_input": "2023-01-09T04:08:11.958587Z",
     "iopub.status.busy": "2023-01-09T04:08:11.958162Z",
     "iopub.status.idle": "2023-01-09T04:08:11.964614Z",
     "shell.execute_reply": "2023-01-09T04:08:11.963900Z"
    },
    "papermill": {
     "duration": 0.014854,
     "end_time": "2023-01-09T04:08:11.966706",
     "exception": false,
     "start_time": "2023-01-09T04:08:11.951852",
     "status": "completed"
    },
    "tags": []
   },
   "outputs": [],
   "source": [
    "# Some useful definitions.\n",
    "\n",
    "class AffiliationWarning(UserWarning):\n",
    "    pass\n",
    "\n",
    "class AffiliationError(RuntimeError):\n",
    "    pass\n",
    "\n",
    "def validation(source: str):\n",
    "    \"\"\"Raises error paper during parsing of source file\n",
    "    \n",
    "    Allows checks before parsing TeX code.\n",
    "    \n",
    "    Raises AffiliationWarning\n",
    "    \"\"\"\n",
    "    check = mpia.affiliation_verifications(source, verbose=True)\n",
    "    if check is not True:\n",
    "        raise AffiliationError(\"mpia.affiliation_verifications: \" + check)\n",
    "\n",
    "        \n",
    "warnings.simplefilter('always', AffiliationWarning)"
   ]
  },
  {
   "cell_type": "code",
   "execution_count": 3,
   "id": "14622700",
   "metadata": {
    "execution": {
     "iopub.execute_input": "2023-01-09T04:08:11.977445Z",
     "iopub.status.busy": "2023-01-09T04:08:11.977179Z",
     "iopub.status.idle": "2023-01-09T04:08:11.981317Z",
     "shell.execute_reply": "2023-01-09T04:08:11.980502Z"
    },
    "papermill": {
     "duration": 0.012212,
     "end_time": "2023-01-09T04:08:11.983559",
     "exception": false,
     "start_time": "2023-01-09T04:08:11.971347",
     "status": "completed"
    },
    "tags": []
   },
   "outputs": [],
   "source": [
    "# additional CSS to consider. \n",
    "# TODO: Current into each exported file. \n",
    "#       This should be set once into the webpages directly.\n",
    "#       With only the class/id definitions in the .md files.\n",
    "\n",
    "debug_html = \"\"\"\n",
    "<style>\n",
    "#wrap{ overflow:auto; }\n",
    "#fig1{ background:yellow; width:100%; float:left; padding:5px;  }\n",
    "#fig2{ background:red; width:50%; float:left; clear:left; padding:5px;  }\n",
    "#fig3{ background:green; width:50%; float:left; padding:5px;   }\n",
    ".macros{ background:yellow; visibility:visible;}\n",
    "h1 {margin: 0 0 0 0;}\n",
    "mark {background-color:#fff3b6;}\n",
    "img {object-fit:contain; max-height:250px; display:inline-block; text-align: center;}\n",
    "</style>\n",
    "\"\"\" \n",
    "html = \"\"\"\n",
    "<style>\n",
    "#wrap{ overflow:auto; }\n",
    "#fig1{ width:100%; float:left; padding: 5px;  }\n",
    "#fig2{ width:50%; float:left; clear:left; padding: 5px;  }\n",
    "#fig3{ width:50%; float:left; padding: 5px;  }\n",
    ".macros{ visibility:hidden; height:0px; }\n",
    "h1 {margin: 0em 0 0 0;}\n",
    "mark {background-color:#fff3b6;}\n",
    "img {object-fit:contain; max-height:250px; display:inline-block; text-align: center;}\n",
    "</style>\n",
    "\"\"\""
   ]
  },
  {
   "cell_type": "markdown",
   "id": "14bd6310",
   "metadata": {
    "papermill": {
     "duration": 0.004815,
     "end_time": "2023-01-09T04:08:11.993042",
     "exception": false,
     "start_time": "2023-01-09T04:08:11.988227",
     "status": "completed"
    },
    "tags": []
   },
   "source": [
    "## get list of arxiv paper candidates\n",
    "\n",
    "We use the MPIA mitarbeiter list webpage from mpia.de to get author names\n",
    "We then get all new papers from Arxiv and match authors"
   ]
  },
  {
   "cell_type": "code",
   "execution_count": 4,
   "id": "2645e73a",
   "metadata": {
    "execution": {
     "iopub.execute_input": "2023-01-09T04:08:12.004541Z",
     "iopub.status.busy": "2023-01-09T04:08:12.004019Z",
     "iopub.status.idle": "2023-01-09T04:08:36.492678Z",
     "shell.execute_reply": "2023-01-09T04:08:36.491724Z"
    },
    "papermill": {
     "duration": 24.497189,
     "end_time": "2023-01-09T04:08:36.494844",
     "exception": false,
     "start_time": "2023-01-09T04:08:11.997655",
     "status": "completed"
    },
    "tags": []
   },
   "outputs": [
    {
     "name": "stdout",
     "output_type": "stream",
     "text": [
      "Arxiv has 54 new papers today\n",
      "          21 with possible author matches\n"
     ]
    }
   ],
   "source": [
    "# get list from MPIA website\n",
    "# it automatically filters identified non-scientists :func:`mpia.filter_non_scientists`\n",
    "mpia_authors = mpia.get_mpia_mitarbeiter_list()\n",
    "new_papers = get_new_papers()\n",
    "# add manual references\n",
    "add_paper_refs = []\n",
    "new_papers.extend([get_paper_from_identifier(k) for k in add_paper_refs])\n",
    "\n",
    "# select only papers with matching author names and highlight authors\n",
    "hl_list = [k[0] for k in mpia_authors]\n",
    "\n",
    "candidates = []\n",
    "for paperk in new_papers:\n",
    "    hl_authors = highlight_authors_in_list(paperk['authors'], hl_list)\n",
    "    matches = [(hl, orig) for hl, orig in zip(hl_authors, paperk['authors']) if 'mark' in hl]\n",
    "    paperk['authors'] = hl_authors\n",
    "    if matches:\n",
    "        candidates.append(paperk)\n",
    "print(\"\"\"Arxiv has {0:,d} new papers today\"\"\".format(len(new_papers)))        \n",
    "print(\"\"\"          {0:,d} with possible author matches\"\"\".format(len(candidates)))"
   ]
  },
  {
   "cell_type": "markdown",
   "id": "3543b34a",
   "metadata": {
    "papermill": {
     "duration": 0.004743,
     "end_time": "2023-01-09T04:08:36.505126",
     "exception": false,
     "start_time": "2023-01-09T04:08:36.500383",
     "status": "completed"
    },
    "tags": []
   },
   "source": [
    "# Parse sources and generate relevant outputs\n",
    "\n",
    "From the candidates, we do the following steps:\n",
    "* get their tarball from ArXiv (and extract data)\n",
    "* find the main .tex file: find one with \\documentclass{...} (sometimes it's non trivial)\n",
    "* Check affiliations with :func:`validation`, which uses :func:`mpia.affiliation_verifications`\n",
    "* If passing the affiliations: we parse the .tex source\n",
    "   * inject sub-documents into the main (flatten the main document)\n",
    "   * parse structure, extract information (title, abstract, authors, figures...)\n",
    "   * handles `\\graphicspath` if provided\n",
    "* Generate the .md document."
   ]
  },
  {
   "cell_type": "code",
   "execution_count": 5,
   "id": "9576b79e",
   "metadata": {
    "execution": {
     "iopub.execute_input": "2023-01-09T04:08:36.516523Z",
     "iopub.status.busy": "2023-01-09T04:08:36.515830Z",
     "iopub.status.idle": "2023-01-09T04:10:46.316880Z",
     "shell.execute_reply": "2023-01-09T04:10:46.315759Z"
    },
    "papermill": {
     "duration": 129.811875,
     "end_time": "2023-01-09T04:10:46.321369",
     "exception": false,
     "start_time": "2023-01-09T04:08:36.509494",
     "status": "completed"
    },
    "scrolled": false,
    "tags": []
   },
   "outputs": [
    {
     "data": {
      "application/vnd.jupyter.widget-view+json": {
       "model_id": "fec66e6d5c2e44acae7fbf0f6ae19f52",
       "version_major": 2,
       "version_minor": 0
      },
      "text/plain": [
       "  0%|          | 0/20 [00:00<?, ?it/s]"
      ]
     },
     "metadata": {},
     "output_type": "display_data"
    },
    {
     "name": "stdout",
     "output_type": "stream",
     "text": [
      "Retrieving document from  https://arxiv.org/e-print/2301.02250\n"
     ]
    },
    {
     "name": "stdout",
     "output_type": "stream",
     "text": [
      "extracting tarball to tmp_2301.02250..."
     ]
    },
    {
     "name": "stdout",
     "output_type": "stream",
     "text": [
      " done.\n",
      "Retrieving document from  https://arxiv.org/e-print/2301.02252\n"
     ]
    },
    {
     "name": "stdout",
     "output_type": "stream",
     "text": [
      "extracting tarball to tmp_2301.02252..."
     ]
    },
    {
     "name": "stdout",
     "output_type": "stream",
     "text": [
      " done.\n",
      "Retrieving document from  https://arxiv.org/e-print/2301.02257\n"
     ]
    },
    {
     "name": "stdout",
     "output_type": "stream",
     "text": [
      "extracting tarball to tmp_2301.02257..."
     ]
    },
    {
     "name": "stdout",
     "output_type": "stream",
     "text": [
      " done.\n",
      "Retrieving document from  https://arxiv.org/e-print/2301.02265\n"
     ]
    },
    {
     "name": "stdout",
     "output_type": "stream",
     "text": [
      "extracting tarball to tmp_2301.02265..."
     ]
    },
    {
     "name": "stdout",
     "output_type": "stream",
     "text": [
      " done.\n"
     ]
    },
    {
     "name": "stdout",
     "output_type": "stream",
     "text": [
      "Retrieving document from  https://arxiv.org/e-print/2301.02289\n"
     ]
    },
    {
     "name": "stdout",
     "output_type": "stream",
     "text": [
      "extracting tarball to tmp_2301.02289... done.\n",
      "Retrieving document from  https://arxiv.org/e-print/2301.02313\n"
     ]
    },
    {
     "name": "stdout",
     "output_type": "stream",
     "text": [
      "extracting tarball to tmp_2301.02313..."
     ]
    },
    {
     "name": "stdout",
     "output_type": "stream",
     "text": [
      " done.\n"
     ]
    },
    {
     "name": "stdout",
     "output_type": "stream",
     "text": [
      "Retrieving document from  https://arxiv.org/e-print/2301.02338\n"
     ]
    },
    {
     "name": "stdout",
     "output_type": "stream",
     "text": [
      "extracting tarball to tmp_2301.02338..."
     ]
    },
    {
     "name": "stdout",
     "output_type": "stream",
     "text": [
      " done.\n",
      "Retrieving document from  https://arxiv.org/e-print/2301.02352\n"
     ]
    },
    {
     "name": "stderr",
     "output_type": "stream",
     "text": [
      "/tmp/ipykernel_2116/4030337529.py:34: LatexWarning: 2301.02338 did not run properly\n",
      "'utf-8' codec can't decode byte 0xd0 in position 8633: invalid continuation byte\n",
      "  warnings.warn(latex.LatexWarning(f\"{paper_id:s} did not run properly\\n\" +\n"
     ]
    },
    {
     "name": "stdout",
     "output_type": "stream",
     "text": [
      "extracting tarball to tmp_2301.02352... done.\n",
      "Retrieving document from  https://arxiv.org/e-print/2301.02407\n"
     ]
    },
    {
     "name": "stdout",
     "output_type": "stream",
     "text": [
      "extracting tarball to tmp_2301.02407... done.\n",
      "Retrieving document from  https://arxiv.org/e-print/2301.02414\n"
     ]
    },
    {
     "name": "stdout",
     "output_type": "stream",
     "text": [
      "extracting tarball to tmp_2301.02414..."
     ]
    },
    {
     "name": "stdout",
     "output_type": "stream",
     "text": [
      " done.\n",
      "Retrieving document from  https://arxiv.org/e-print/2301.02418\n"
     ]
    },
    {
     "name": "stdout",
     "output_type": "stream",
     "text": [
      "extracting tarball to tmp_2301.02418..."
     ]
    },
    {
     "name": "stdout",
     "output_type": "stream",
     "text": [
      " done.\n",
      "Retrieving document from  https://arxiv.org/e-print/2301.02471\n"
     ]
    },
    {
     "name": "stdout",
     "output_type": "stream",
     "text": [
      "extracting tarball to tmp_2301.02471..."
     ]
    },
    {
     "name": "stdout",
     "output_type": "stream",
     "text": [
      " done.\n",
      "Retrieving document from  https://arxiv.org/e-print/2301.02476\n"
     ]
    },
    {
     "name": "stdout",
     "output_type": "stream",
     "text": [
      "extracting tarball to tmp_2301.02476..."
     ]
    },
    {
     "name": "stdout",
     "output_type": "stream",
     "text": [
      " done.\n",
      "Retrieving document from  https://arxiv.org/e-print/2301.02477\n"
     ]
    },
    {
     "name": "stderr",
     "output_type": "stream",
     "text": [
      "/opt/hostedtoolcache/Python/3.9.16/x64/lib/python3.9/site-packages/IPython/core/interactiveshell.py:3442: LatexWarning: Multiple tex files.\n",
      "\n",
      "  exec(code_obj, self.user_global_ns, self.user_ns)\n",
      "/opt/hostedtoolcache/Python/3.9.16/x64/lib/python3.9/site-packages/IPython/core/interactiveshell.py:3442: LatexWarning: Found documentclass in tmp_2301.02476/main.tex\n",
      "\n",
      "  exec(code_obj, self.user_global_ns, self.user_ns)\n",
      "/opt/hostedtoolcache/Python/3.9.16/x64/lib/python3.9/site-packages/arxiv_on_deck_2/latex.py:292: LatexWarning: Latex injecting: 'macros' from 'tmp_2301.02476/macros.tex'\n",
      "  warnings.warn(LatexWarning(f\"Latex injecting: '{ext}' from '{subsource}'\"))\n"
     ]
    },
    {
     "name": "stdout",
     "output_type": "stream",
     "text": [
      "extracting tarball to tmp_2301.02477..."
     ]
    },
    {
     "name": "stdout",
     "output_type": "stream",
     "text": [
      " done.\n"
     ]
    },
    {
     "name": "stderr",
     "output_type": "stream",
     "text": [
      "/opt/hostedtoolcache/Python/3.9.16/x64/lib/python3.9/site-packages/IPython/core/interactiveshell.py:3442: LatexWarning: Multiple tex files.\n",
      "\n",
      "  exec(code_obj, self.user_global_ns, self.user_ns)\n",
      "/opt/hostedtoolcache/Python/3.9.16/x64/lib/python3.9/site-packages/IPython/core/interactiveshell.py:3442: LatexWarning: Found documentclass in tmp_2301.02477/MAIN.tex\n",
      "\n",
      "  exec(code_obj, self.user_global_ns, self.user_ns)\n"
     ]
    },
    {
     "name": "stderr",
     "output_type": "stream",
     "text": [
      "/opt/hostedtoolcache/Python/3.9.16/x64/lib/python3.9/site-packages/arxiv_on_deck_2/latex.py:366: LatexWarning: Error parsing the document directly. Trying to recover.\n",
      "  warnings.warn(LatexWarning(f\"Error parsing the document directly. Trying to recover.\"))\n"
     ]
    },
    {
     "name": "stdout",
     "output_type": "stream",
     "text": [
      "✔ → 0:header\n",
      "  ↳ 9034:\\section{Introduction}\n",
      "✔ → 9034:\\section{Introduction}\n",
      "  ↳ 14123:\\section{Observational data} \\label{sec:data}\n"
     ]
    },
    {
     "name": "stdout",
     "output_type": "stream",
     "text": [
      "✔ → 14123:\\section{Observational data} \\label{sec:data}\n",
      "  ↳ 30812:\\section{Stellar properties} \\label{sec:stellar}\n"
     ]
    },
    {
     "name": "stdout",
     "output_type": "stream",
     "text": [
      "✘ → 30812:\\section{Stellar properties} \\label{sec:stellar}\n",
      "  ↳ 46160:\\section{Analysis and results} \\label{sec:analysis}\n"
     ]
    },
    {
     "name": "stdout",
     "output_type": "stream",
     "text": [
      "✔ → 46160:\\section{Analysis and results} \\label{sec:analysis}\n",
      "  ↳ 70291:\\section{Discussion} \\label{sec:discussion}\n"
     ]
    },
    {
     "name": "stdout",
     "output_type": "stream",
     "text": [
      "✔ → 70291:\\section{Discussion} \\label{sec:discussion}\n",
      "  ↳ 88241:\\section{Conclusion} \\label{sec:conclusion}\n"
     ]
    },
    {
     "name": "stdout",
     "output_type": "stream",
     "text": [
      "✔ → 88241:\\section{Conclusion} \\label{sec:conclusion}\n",
      "  ↳ 94585:\\begin{appendix}\n",
      "✔ → 94585:\\begin{appendix}\n",
      "  ↳ 94602:\\section{\\aliasfinder figures}\n",
      "✔ → 94602:\\section{\\aliasfinder figures}\n",
      "  ↳ 96268:\\section{Known planets in the habitable zone around M dwarfs} \\label{appendix:planetshz}\n",
      "✔ → 96268:\\section{Known planets in the habitable zone around M dwarfs} \\label{appendix:planetshz}\n",
      "  ↳ 97733:\\section{Priors and posteriors}\n"
     ]
    },
    {
     "name": "stdout",
     "output_type": "stream",
     "text": [
      "✔ → 97733:\\section{Priors and posteriors}\n",
      "  ↳ 108007:\\section{Short tables and data tables}\n"
     ]
    },
    {
     "name": "stdout",
     "output_type": "stream",
     "text": [
      "✔ → 108007:\\section{Short tables and data tables}\n",
      "  ↳ 111259:end\n"
     ]
    },
    {
     "name": "stdout",
     "output_type": "stream",
     "text": [
      "Retrieving document from  https://arxiv.org/e-print/2301.02519\n"
     ]
    },
    {
     "name": "stdout",
     "output_type": "stream",
     "text": [
      "extracting tarball to tmp_2301.02519..."
     ]
    },
    {
     "name": "stdout",
     "output_type": "stream",
     "text": [
      " done.\n",
      "Retrieving document from  https://arxiv.org/e-print/2301.02540\n"
     ]
    },
    {
     "name": "stderr",
     "output_type": "stream",
     "text": [
      "/opt/hostedtoolcache/Python/3.9.16/x64/lib/python3.9/site-packages/IPython/core/interactiveshell.py:3442: LatexWarning: Multiple tex files.\n",
      "\n",
      "  exec(code_obj, self.user_global_ns, self.user_ns)\n",
      "/opt/hostedtoolcache/Python/3.9.16/x64/lib/python3.9/site-packages/IPython/core/interactiveshell.py:3442: LatexWarning: Found documentclass in tmp_2301.02519/CombinedDEM.tex\n",
      "\n",
      "  exec(code_obj, self.user_global_ns, self.user_ns)\n"
     ]
    },
    {
     "name": "stdout",
     "output_type": "stream",
     "text": [
      "extracting tarball to tmp_2301.02540..."
     ]
    },
    {
     "name": "stdout",
     "output_type": "stream",
     "text": [
      " done.\n",
      "Retrieving document from  https://arxiv.org/e-print/2301.02558\n"
     ]
    },
    {
     "name": "stdout",
     "output_type": "stream",
     "text": [
      "extracting tarball to tmp_2301.02558..."
     ]
    },
    {
     "name": "stdout",
     "output_type": "stream",
     "text": [
      " done.\n",
      "Retrieving document from  https://arxiv.org/e-print/2301.02559\n"
     ]
    },
    {
     "name": "stderr",
     "output_type": "stream",
     "text": [
      "/opt/hostedtoolcache/Python/3.9.16/x64/lib/python3.9/site-packages/IPython/core/interactiveshell.py:3442: LatexWarning: Multiple tex files.\n",
      "\n",
      "  exec(code_obj, self.user_global_ns, self.user_ns)\n",
      "/opt/hostedtoolcache/Python/3.9.16/x64/lib/python3.9/site-packages/IPython/core/interactiveshell.py:3442: LatexWarning: Found documentclass in tmp_2301.02558/45575corr.tex\n",
      "\n",
      "  exec(code_obj, self.user_global_ns, self.user_ns)\n"
     ]
    },
    {
     "name": "stdout",
     "output_type": "stream",
     "text": [
      "extracting tarball to tmp_2301.02559..."
     ]
    },
    {
     "name": "stdout",
     "output_type": "stream",
     "text": [
      " done.\n"
     ]
    },
    {
     "name": "stderr",
     "output_type": "stream",
     "text": [
      "/tmp/ipykernel_2116/4030337529.py:34: LatexWarning: 2301.02559 did not run properly\n",
      "Unable to get page count.\n",
      "Syntax Warning: May not be a PDF file (continuing anyway)\n",
      "Syntax Error: Couldn't find trailer dictionary\n",
      "Syntax Error: Couldn't find trailer dictionary\n",
      "Syntax Error: Couldn't read xref table\n",
      "\n",
      "  warnings.warn(latex.LatexWarning(f\"{paper_id:s} did not run properly\\n\" +\n"
     ]
    },
    {
     "name": "stdout",
     "output_type": "stream",
     "text": [
      "Retrieving document from  https://arxiv.org/e-print/2301.02584\n"
     ]
    },
    {
     "name": "stdout",
     "output_type": "stream",
     "text": [
      "extracting tarball to tmp_2301.02584..."
     ]
    },
    {
     "name": "stdout",
     "output_type": "stream",
     "text": [
      " done.\n",
      "Retrieving document from  https://arxiv.org/e-print/2301.02652\n"
     ]
    },
    {
     "name": "stdout",
     "output_type": "stream",
     "text": [
      "extracting tarball to tmp_2301.02652... done.\n"
     ]
    }
   ],
   "source": [
    "documents = []\n",
    "failed = []\n",
    "for paper in tqdm(candidates[:-1]):\n",
    "    paper_id = paper['identifier'].lower().replace('arxiv:', '')\n",
    "    \n",
    "    folder = f'tmp_{paper_id}'\n",
    "\n",
    "    try:\n",
    "        if not os.path.isdir(folder):\n",
    "            folder = retrieve_document_source(f\"{paper_id}\", f'tmp_{paper_id}')\n",
    "        \n",
    "        try:\n",
    "            doc = latex.LatexDocument(folder, validation=validation)    \n",
    "        except AffiliationError as affilerror:\n",
    "            msg = f\"ArXiv:{paper_id:s} is not an MPIA paper... \" + str(affilerror)\n",
    "            failed.append((paper, \"affiliation error: \" + str(affilerror) ))\n",
    "            continue\n",
    "        \n",
    "        # Hack because sometimes author parsing does not work well\n",
    "        if (len(doc.authors) != len(paper['authors'])):\n",
    "            doc._authors = paper['authors']\n",
    "        if (doc.abstract) in (None, ''):\n",
    "            doc._abstract = paper['abstract']\n",
    "            \n",
    "        doc.comment = (get_markdown_badge(paper_id) + \n",
    "                       \"<mark>Appeared on: \" + paper['date'] + \"</mark> - \" +\n",
    "                       \"_\" + paper['comments'] + \"_\")\n",
    "        doc.highlight_authors_in_list(hl_list)\n",
    "\n",
    "        full_md = doc.generate_markdown_text()\n",
    "        \n",
    "        documents.append((paper_id, full_md))\n",
    "    except Exception as e:\n",
    "        warnings.warn(latex.LatexWarning(f\"{paper_id:s} did not run properly\\n\" +\n",
    "                                         str(e)\n",
    "                                        ))\n",
    "        failed.append((paper, \"latex error \" + str(e)))"
   ]
  },
  {
   "cell_type": "markdown",
   "id": "2505a25c",
   "metadata": {
    "papermill": {
     "duration": 0.009543,
     "end_time": "2023-01-09T04:10:46.340231",
     "exception": false,
     "start_time": "2023-01-09T04:10:46.330688",
     "status": "completed"
    },
    "tags": []
   },
   "source": [
    "### Export the logs\n",
    "\n",
    "Throughout, we also keep track of the logs per paper. see `logs-{today date}.md` "
   ]
  },
  {
   "cell_type": "code",
   "execution_count": 6,
   "id": "d733828a",
   "metadata": {
    "execution": {
     "iopub.execute_input": "2023-01-09T04:10:46.363626Z",
     "iopub.status.busy": "2023-01-09T04:10:46.362685Z",
     "iopub.status.idle": "2023-01-09T04:10:46.410002Z",
     "shell.execute_reply": "2023-01-09T04:10:46.408983Z"
    },
    "papermill": {
     "duration": 0.061044,
     "end_time": "2023-01-09T04:10:46.412145",
     "exception": false,
     "start_time": "2023-01-09T04:10:46.351101",
     "status": "completed"
    },
    "scrolled": false,
    "tags": []
   },
   "outputs": [
    {
     "data": {
      "text/markdown": [
       "## Successful papers"
      ],
      "text/plain": [
       "<IPython.core.display.Markdown object>"
      ]
     },
     "metadata": {},
     "output_type": "display_data"
    },
    {
     "data": {
      "text/markdown": [
       "\n",
       "|||\n",
       "|---:|:---|\n",
       "| [![arXiv](https://img.shields.io/badge/arXiv-arXiv:2301.02265-b31b1b.svg)](https://arxiv.org/abs/arXiv:2301.02265) | **The Pristine survey -- XX: GTC follow-up observations of extremely  metal-poor stars identified from Pristine and LAMOST**  |\n",
       "|| Anke Arentsen, et al. -- incl., <mark>Jonay I. González Hernández</mark> |\n",
       "|*Appeared on*| *2023-01-09*|\n",
       "|*Comments*| *13 pages, accepted for publication in MNRAS*|\n",
       "|**Abstract**| Ultra metal-poor stars ([Fe/H] < -4.0) are very rare, and finding them is a challenging task. Both narrow-band photometry and low-resolution spectroscopy have been useful tools for identifying candidates, and in this work we combine both approaches. We cross-matched metallicity-sensitive photometry from the Pristine survey with the low-resolution spectroscopic LAMOST database, and re-analysed all LAMOST spectra with [Fe/H]_Pristine < -2.5. We find that ~1/3rd of this sample (selected without [Fe/H]_Pristine quality cuts) also have spectroscopic [Fe/H] < -2.5. From this sample, containing many low signal-to-noise (S/N) spectra, we selected eleven stars potentially having [Fe/H] < -4.0 or [Fe/H] < -3.0 with very high carbon abundances, and we performed higher S/N medium-resolution spectroscopic follow-up with OSIRIS on the 10.4m Gran Telescopio Canarias (GTC). We confirm their extremely low metallicities, with a mean of [Fe/H] = -3.4 and the most metal-poor star having [Fe/H]= -3.8. Three of these are clearly carbon-enhanced metal-poor (CEMP) stars with +1.65 < [C/Fe] < +2.45. The two most carbon-rich stars are either among the most metal-poor CEMP-s stars or the most carbon-rich CEMP-no stars known, the third is likely a CEMP-no star. We derived orbital properties for the OSIRIS sample and find that only one of our targets can be confidently associated with known substructures/accretion events, and that three out of four inner halo stars have prograde orbits. Large spectroscopic surveys may contain many hidden extremely and ultra metal-poor stars, and adding additional information from e.g. photometry as in this work can uncover them more efficiently and confidently. |"
      ],
      "text/plain": [
       "[arXiv:2301.02265] The Pristine survey -- XX: GTC follow-up observations of extremely  metal-poor stars identified from Pristine and LAMOST\n",
       "\tAnke Arentsen, et al. -- incl., <mark>Jonay I. González Hernández</mark>"
      ]
     },
     "metadata": {},
     "output_type": "display_data"
    },
    {
     "data": {
      "text/markdown": [
       "\n",
       "|||\n",
       "|---:|:---|\n",
       "| [![arXiv](https://img.shields.io/badge/arXiv-arXiv:2301.02313-b31b1b.svg)](https://arxiv.org/abs/arXiv:2301.02313) | **MIRI/JWST observations reveal an extremely obscured starburst in the  z=6.9 system SPT0311-58**  |\n",
       "|| J. Álvarez-Márquez, et al. -- incl., <mark>F. Walter</mark>, <mark>A. Alonso-Herrero</mark>, <mark>M. Güdel</mark>, <mark>Th. Henning</mark> |\n",
       "|*Appeared on*| *2023-01-09*|\n",
       "|*Comments*| *18 pages, 8 figures, acepted for publication in A&A*|\n",
       "|**Abstract**| Using MIRI on-board JWST we present mid-infrared sub-arcsec imaging (MIRIM) and spectroscopy (MRS) of the hyperluminous infrared system SPT0311-58 at z=6.9. MIRI observations are compared with existing ALMA far-infrared continuum and [CII]158$\\mu$m imaging. Even though the ALMA observations suggests very high star formation rates (SFR) in the eastern (E) and western (W) galaxies of the system, the H$\\alpha$ line is not detected. This, together with the detection of the Pa$\\alpha$ line, implies very high optical nebular extinction with lower limits of 4.2 (E) and 3.9 mag (W), and even larger 5.6 (E) and 10.0 (W) for SED derived values. The extinction-corrected Pa$\\alpha$ SFRs are 383 and 230M$_{\\odot}$yr$^{-1}$ for the E and W galaxies, respectively. This represents 50% of the SFRs derived from the [CII]158$\\mu$m line and infrared light for the E galaxy and as low as 6% for the W galaxy. The specific SFR in the stellar clumps ranges from 25 to 59Gyr$^{-1}$, which are 3 to 10 times larger than the values measured in galaxies of similar mass at redshifts 6 to 8. The MIRI observations reveal a clumpy stellar structure, with each clump having 3 to 5 $\\times$10$^{9}$M$_\\mathrm{\\odot}$, leading to a total stellar mass of 2.0 and 1.5$\\times$10$^{10}$M$_\\mathrm{\\odot}$ for the E and W galaxies, respectively. The overall gas mass fraction is $M_\\mathrm{gas}$/$M_*\\sim3$, similar to that of z=4.5-6 star-forming galaxies. The observed properties of SPT0311-58 such as the clumpy distribution at sub(kpc) scales and the very high average extinction are similar to those observed in low- and intermediate-z LIRGs and ULIRGs, even though SPT0311-58 is observed only 800 Myr after the Big Bang. Massive, heavily obscured, clumpy starburst systems like SPT0311-58 likely represent the early phases in the formation of massive high-z bulge/spheroids and luminous quasars. |"
      ],
      "text/plain": [
       "[arXiv:2301.02313] MIRI/JWST observations reveal an extremely obscured starburst in the  z=6.9 system SPT0311-58\n",
       "\tJ. Álvarez-Márquez, et al. -- incl., <mark>F. Walter</mark>, <mark>A. Alonso-Herrero</mark>, <mark>M. Güdel</mark>, <mark>Th. Henning</mark>"
      ]
     },
     "metadata": {},
     "output_type": "display_data"
    },
    {
     "data": {
      "text/markdown": [
       "\n",
       "|||\n",
       "|---:|:---|\n",
       "| [![arXiv](https://img.shields.io/badge/arXiv-arXiv:2301.02477-b31b1b.svg)](https://arxiv.org/abs/arXiv:2301.02477) | **The CARMENES search for exoplanets around M dwarfs, Wolf 1069 b:  Earth-mass planet in the habitable zone of a nearby, very low-mass star**  |\n",
       "|| <mark>D. Kossakowski</mark>, et al. -- incl., <mark>M. Kürster</mark>, <mark>T. Trifonov</mark>, <mark>Th. Henning</mark>, <mark>R. Burn</mark>, <mark>E. Herrero</mark>, <mark>A. Pavlov</mark>, <mark>M. Pérez-Torres</mark> |\n",
       "|*Appeared on*| *2023-01-09*|\n",
       "|*Comments*| *26 pages, 15 figures*|\n",
       "|**Abstract**| We present the discovery of an Earth-mass planet ($M_b\\sin i = 1.36\\pm0.21M_\\oplus$) on a 15.6d orbit of a relatively nearby ($d\\sim$9.6pc) and low-mass ($0.167\\pm0.011 M_\\odot$) M5.0V star, Wolf 1069. Sitting at a separation of $0.0672\\pm0.0014$au away from the host star puts Wolf 1069b in the habitable zone (HZ), receiving an incident flux of $S=0.652\\pm0.029S_\\oplus$. The planetary signal was detected using telluric-corrected radial-velocity (RV) data from the CARMENES spectrograph, amounting to a total of 262 spectroscopic observations covering almost four years. There are additional long-period signals in the RVs, one of which we attribute to the stellar rotation period. This is possible thanks to our photometric analysis including new, well-sampled monitoring campaigns undergone with the OSN and TJO facilities that supplement archival photometry (i.e., from MEarth and SuperWASP), and this yielded an updated rotational period range of $P_{rot}=150-170$d, with a likely value at $169.3^{+3.7}_{-3.6}$d. The stellar activity indicators provided by the CARMENES spectra likewise demonstrate evidence for the slow rotation period, though not as accurately due to possible factors such as signal aliasing or spot evolution. Our detectability limits indicate that additional planets more massive than one Earth mass with orbital periods of less than 10 days can be ruled out, suggesting that perhaps Wolf 1069 b had a violent formation history. This planet is also the 6th closest Earth-mass planet situated in the conservative HZ, after Proxima Centauri b, GJ 1061d, Teegarden's Star c, and GJ 1002 b and c. Despite not transiting, Wolf 1069b is nonetheless a very promising target for future three-dimensional climate models to investigate various habitability cases as well as for sub-ms$^{-1}$ RV campaigns to search for potential inner sub-Earth-mass planets in order to test planet formation theories. |"
      ],
      "text/plain": [
       "[arXiv:2301.02477] The CARMENES search for exoplanets around M dwarfs, Wolf 1069 b:  Earth-mass planet in the habitable zone of a nearby, very low-mass star\n",
       "\t<mark>D. Kossakowski</mark>, et al. -- incl., <mark>M. Kürster</mark>, <mark>T. Trifonov</mark>, <mark>Th. Henning</mark>, <mark>R. Burn</mark>, <mark>E. Herrero</mark>, <mark>A. Pavlov</mark>, <mark>M. Pérez-Torres</mark>"
      ]
     },
     "metadata": {},
     "output_type": "display_data"
    },
    {
     "data": {
      "text/markdown": [
       "## Failed papers"
      ],
      "text/plain": [
       "<IPython.core.display.Markdown object>"
      ]
     },
     "metadata": {},
     "output_type": "display_data"
    },
    {
     "data": {
      "text/markdown": [
       "\n",
       "|||\n",
       "|---:|:---|\n",
       "| [![arXiv](https://img.shields.io/badge/arXiv-arXiv:2301.02250-b31b1b.svg)](https://arxiv.org/abs/arXiv:2301.02250) | **The Colorado Ultraviolet Transit Experiment (CUTE) Mission Overview**  |\n",
       "|| Kevin France, et al. -- incl., <mark>Carolina Villarreal DAngelo</mark> |\n",
       "|*Appeared on*| *2023-01-09*|\n",
       "|*Comments*| *12 pages, 5 figures, AJ - accepted*|\n",
       "|**Abstract**| Atmospheric escape is a fundamental process that affects the structure, composition, and evolution of many planets. The signatures of escape are detectable on close-in, gaseous exoplanets orbiting bright stars, owing to the high levels of extreme-ultraviolet irradiation from their parent stars. The Colorado Ultraviolet Transit Experiment (CUTE) is a CubeSat mission designed to take advantage of the near-ultraviolet stellar brightness distribution to conduct a survey of the extended atmospheres of nearby close-in planets. The CUTE payload is a magnifying NUV (2479~--~3306 Ang) spectrograph fed by a rectangular Cassegrain telescope (206mm x 84mm); the spectrogram is recorded on a back-illuminated, UV-enhanced CCD. The science payload is integrated into a 6U Blue Canyon Technology XB1 bus. CUTE was launched into a polar, low-Earth orbit on 27 September 2021 and has been conducting this transit spectroscopy survey following an on-orbit commissioning period. This paper presents the mission motivation, development path, and demonstrates the potential for small satellites to conduct this type of science by presenting initial on-orbit science observations. The primary science mission is being conducted in 2022~--~2023, with a publicly available data archive coming on line in 2023. |\n",
       "|<p style=\"color:green\"> **ERROR** </p>| <p style=\"color:green\">affiliation error: mpia.affiliation_verifications: 'Heidelberg' keyword not found.</p> |"
      ],
      "text/plain": [
       "<IPython.core.display.Markdown object>"
      ]
     },
     "metadata": {},
     "output_type": "display_data"
    },
    {
     "data": {
      "text/markdown": [
       "\n",
       "|||\n",
       "|---:|:---|\n",
       "| [![arXiv](https://img.shields.io/badge/arXiv-arXiv:2301.02252-b31b1b.svg)](https://arxiv.org/abs/arXiv:2301.02252) | **Optical and mid-infrared line emission in nearby Seyfert galaxies**  |\n",
       "|| A. Feltre, et al. -- incl., <mark>A. Mahoro</mark> |\n",
       "|*Appeared on*| *2023-01-09*|\n",
       "|*Comments*| *30 pages, 14 figures, 2 tables. Submitted to A&A. Comments welcome*|\n",
       "|**Abstract**| Line ratio diagnostics provide valuable clues on the source of ionizing radiation in galaxies with intense black hole accretion and starbursting events, like local Seyfert or galaxies at the peak of the star-formation history. We aim at providing a reference joint optical and mid-IR analysis for studying AGN identification via line ratios and test predictions from photoionization models. We obtained homogenous optical spectra with the Southern Africa Large Telescope for 42 Seyfert galaxies with IRS/Spitzer spectroscopy and X-ray to mid-IR multi-band data available. After confirming the power of main optical ([OIII]) and mid-IR ([NeV], [OIV], [NeIII]) emission lines tracing AGN activity, we explore diagrams based on ratios of optical and mid-IR lines by exploiting photoionization models of different ionizing sources (AGN, star formation and shocks). We find that pure AGN photoionization models reproduce well observations of Seyfert galaxies with an AGN fractional contribution to the mid-IR (5-40 micron) emission larger than 50 per cent. For targets with lower AGN contribution these same models do not fully reproduce the observed mid-IR line ratios. Mid-IR ratios like [NeV]/[NeII], [OIV]/[NeII] and [NeIII]/[NeII] show a dependence on the AGN fractional contribution to the mid-IR unlike optical line ratios. An additional source of ionization, either from star formation or radiative shocks, can help explain the observations in the mid-IR. Among combinations of optical and mid-IR diagnostics in line ratio diagrams, only those involving the [OI]/Halpha ratio are promising diagnostics to unravel simultaneously the relative role of AGN, star formation and shocks. A proper identification of the dominant ionizing source would require the exploitation of analysis tools based on advanced statistical techniques as well as spatially resolved data. |\n",
       "|<p style=\"color:green\"> **ERROR** </p>| <p style=\"color:green\">affiliation error: mpia.affiliation_verifications: 'Heidelberg' keyword not found.</p> |"
      ],
      "text/plain": [
       "<IPython.core.display.Markdown object>"
      ]
     },
     "metadata": {},
     "output_type": "display_data"
    },
    {
     "data": {
      "text/markdown": [
       "\n",
       "|||\n",
       "|---:|:---|\n",
       "| [![arXiv](https://img.shields.io/badge/arXiv-arXiv:2301.02257-b31b1b.svg)](https://arxiv.org/abs/arXiv:2301.02257) | **GalCEM I -- An Open-Source Detailed Isotopic Chemical Evolution Code**  |\n",
       "|| Eda Gjergo, et al. -- incl., <mark>Jinning Liang</mark>, <mark>Marco Limongi</mark> |\n",
       "|*Appeared on*| *2023-01-09*|\n",
       "|*Comments*| *Accepted for publication by The Astrophysical Journal Supplement Series. 29 pages, 13 figures, 2 tables, 2 listings*|\n",
       "|**Abstract**| This is the first of a series of papers that will introduce a user-friendly, detailed, and modular GALactic Chemical Evolution Model, GalCEM, that tracks isotope masses as a function of time in a given galaxy. The list of tracked isotopes automatically adapts to the complete set provided by the input yields. The present iteration of GalCEM tracks 86 elements broken down in 451 isotopes. The prescription includes massive stars, low-to-intermediate mass stars, and Type Ia supernovae as enrichment channels. We have developed a preprocessing tool that extracts multi-dimensional interpolation curves from the input yield tables. These interpolation curves improve the computation speeds of the full convolution integrals, which are computed for each isotope and for each enrichment channel. We map the integrand quantities onto consistent array grids in order to perform the numerical integration at each time step. The differential equation is solved with a fourth-order Runge-Kutta method. We constrain our analysis to the evolution of all the light and intermediate elements from carbon to zinc, and lithium. Our results are consistent up to the extremely metal poor regime with Galactic abundances. We provide tools to track the mass rate change of individual isotopes on a typical spiral galaxy with a final baryonic mass of $5\\times 10^{10} M_{\\odot}$. Future iterations of the work will extend to the full periodic table by including the enrichment from neutron-capture channels as well as spatially-dependent treatments of galaxy properties. GalCEM is publicly available at https://github.com/egjergo/GalCEM/ |\n",
       "|<p style=\"color:green\"> **ERROR** </p>| <p style=\"color:green\">affiliation error: mpia.affiliation_verifications: 'Heidelberg' keyword not found.</p> |"
      ],
      "text/plain": [
       "<IPython.core.display.Markdown object>"
      ]
     },
     "metadata": {},
     "output_type": "display_data"
    },
    {
     "data": {
      "text/markdown": [
       "\n",
       "|||\n",
       "|---:|:---|\n",
       "| [![arXiv](https://img.shields.io/badge/arXiv-arXiv:2301.02289-b31b1b.svg)](https://arxiv.org/abs/arXiv:2301.02289) | **Cosmological Fisher forecasts for next-generation spectroscopic surveys**  |\n",
       "|| William d'Assignies D., <mark>Cheng Zhao</mark>, Jiaxi Yu, Jean-Paul Kneib |\n",
       "|*Appeared on*| *2023-01-09*|\n",
       "|*Comments*| *15 pages, 9 figures*|\n",
       "|**Abstract**| Next-generation spectroscopic surveys such as the MegaMapper, MUltiplexed Survey Telescope (MUST), MaunaKea Spectroscopic Explorer (MSE), and Wide Spectroscopic Telescope (WST) are foreseen to increase the number of galaxy/quasar redshifts by an order of magnitude, with hundred millions of spectra that will be measured at $z>2$. We perform a Fisher matrix analysis for these surveys on the baryonic acoustic oscillation (BAO), the redshift-space distortion (RSD) measurement, the non-Gaussianity amplitude $f_{\\rm NL}$, and the total neutrino mass $M_\\nu$. For BAO and RSD parameters, these surveys may achieve precision at sub-percent level (<0.5 per cent), representing an improvement of factor 10 w.r.t. the latest database. For NG, these surveys may reach an accuracy of $\\sigma(f_{\\rm NL})\\sim 1$. They can also put a tight constraint on $M_\\nu$ with $\\sigma(M_\\nu) \\sim 0.02\\,\\rm eV$ if we do joint analysis with Planck and even $ 0.01\\,\\rm eV$ if combined with other data. In addition, we introduce a general survey model, to derive the cosmic volume and number density of tracers, given instrumental facilities and survey strategy. Using our Fisher formalism, we can explore (continuously) a wide range of survey observational parameters, and propose different survey strategies that optimise the cosmological constraints. Fixing the fibre number and survey duration, we show that the best strategy for $f_{\\rm NL}$ and $M_\\nu$ measurement is to observe large volumes, despite the noise increase. However, the strategy differs for the apparent magnitude limit. Finally, we prove that increasing the fibre number improves $M_{\\nu}$ measurement but not significantly $f_{\\rm NL}$. |\n",
       "|<p style=\"color:green\"> **ERROR** </p>| <p style=\"color:green\">affiliation error: mpia.affiliation_verifications: 'Heidelberg' keyword not found.</p> |"
      ],
      "text/plain": [
       "<IPython.core.display.Markdown object>"
      ]
     },
     "metadata": {},
     "output_type": "display_data"
    },
    {
     "data": {
      "text/markdown": [
       "\n",
       "|||\n",
       "|---:|:---|\n",
       "| [![arXiv](https://img.shields.io/badge/arXiv-arXiv:2301.02352-b31b1b.svg)](https://arxiv.org/abs/arXiv:2301.02352) | **Pinning down the primordial black hole formation mechanism with  gamma-rays and gravitational waves**  |\n",
       "|| <mark>Ke-Pan Xie</mark> |\n",
       "|*Appeared on*| *2023-01-09*|\n",
       "|*Comments*| *18 pages + references. 10 figures and 1 table. Comments are welcome*|\n",
       "|**Abstract**| Primordial black holes (PBHs) are predicted in many models via different formation mechanisms. Identifying the origin of PBHs is of the same importance as probing their existence. We propose to probe the asteroid-mass PBHs [$\\mathcal{O}(10^{17})~{\\rm g}\\lesssim M\\lesssim\\mathcal{O}(10^{22})~{\\rm g}$] with gamma-rays from Hawking radiation and the stochastic gravitational waves (GWs) from the early Universe. We consider four concrete formation mechanisms, including collapse from primordial curvature perturbations, first-order phase transitions, or cosmic strings, and derive the extended PBH mass functions of each mechanism for phenomenological study. The results demonstrate that by combining gamma-rays and GW signals we can probe PBHs up to $\\mathcal{O}(10^{19})~{\\rm g}$ and identify their physical origins. |\n",
       "|<p style=\"color:green\"> **ERROR** </p>| <p style=\"color:green\">affiliation error: mpia.affiliation_verifications: 'Heidelberg' keyword not found.</p> |"
      ],
      "text/plain": [
       "<IPython.core.display.Markdown object>"
      ]
     },
     "metadata": {},
     "output_type": "display_data"
    },
    {
     "data": {
      "text/markdown": [
       "\n",
       "|||\n",
       "|---:|:---|\n",
       "| [![arXiv](https://img.shields.io/badge/arXiv-arXiv:2301.02407-b31b1b.svg)](https://arxiv.org/abs/arXiv:2301.02407) | **The detection of an extraordinarily-luminous high-redshift  optical/ultraviolet flare by Swift/UVOT**  |\n",
       "|| Zhi-Ping Jin, et al. -- incl., <mark>Xiang Li</mark> |\n",
       "|*Appeared on*| *2023-01-09*|\n",
       "|*Comments*| *40 pages, 10 figures, 6 tables, submitted*|\n",
       "|**Abstract**| Hyper-luminous optical/ultraviolet flares have been detected in Gamma-ray Bursts and the record was held by naked eye event GRB 080319B. Such flares are widely attributed to internal shock or external reverse shock radiation. With a new dedicated method developed to derive reliable photometry from saturated images of Swift/UVOT, here we carry out time-resolved analysis of the initial White band $150~{\\rm s}$ exposure of GRB 220101A, a burst at the redshift of 4.618, and report a rapidly-evolving optical/ultraviolet flare with an unprecedented-high absolute AB magnitude $\\sim-39.4$. At variance with GRB 080319B, the temporal behavior of this new flare does not trace the gamma-ray activities. Rather than either internal shocks or reverse shock, this optical/ultraviolet monster is most likely from the refreshed shocks induced by the catching-up of the late-ejected extremely-energetic material with the earlier-launched decelerating outflow. We detect the first ultraviolet/optical flare with an absolute AB magnitude brighter than $-39$ and reveal the efficient process to power such transients. |\n",
       "|<p style=\"color:green\"> **ERROR** </p>| <p style=\"color:green\">affiliation error: mpia.affiliation_verifications: 'Heidelberg' keyword not found.</p> |"
      ],
      "text/plain": [
       "<IPython.core.display.Markdown object>"
      ]
     },
     "metadata": {},
     "output_type": "display_data"
    },
    {
     "data": {
      "text/markdown": [
       "\n",
       "|||\n",
       "|---:|:---|\n",
       "| [![arXiv](https://img.shields.io/badge/arXiv-arXiv:2301.02414-b31b1b.svg)](https://arxiv.org/abs/arXiv:2301.02414) | **Stochastic gravitational wave background from the collisions of dark  matter halos**  |\n",
       "|| Qiming Yan, Xin Ren, <mark>Yaqi Zhao</mark>, Emmanuel N. Saridakis |\n",
       "|*Appeared on*| *2023-01-09*|\n",
       "|*Comments*| *18 pages,4 figures*|\n",
       "|**Abstract**| We investigate for the first time the effect of the dark matter (DM) halos collisions, namely collisions of galaxies and galaxy clusters, through gravitational bremsstrahlung, on the stochastic gravitational wave background. We first calculate the gravitational wave signal of a single collision event, assuming point masses and linear perturbation theory. Then we proceed to the calculation of the energy spectrum of the collective effect of all dark matter collisions in the Universe. Concerning the DM halo collision rate we show that it is given by the product of the number density of DM halos, which is calculated by the extended Press-Schechter (EPS) theory, with the collision rate of a single DM halo, which is given by simulation results, with a function of the linear growth rate of matter density through cosmological evolution. Hence, integrating over all mass and distance ranges, we finally extract the spectrum of the stochastic gravitational wave background created by DM halos collisions. As we show, the resulting contribution to the stochastic gravitational wave background is of the order of $h_{c} \\approx 10^{-30}$ in the pulsar timing array (PTA) band of $f \\approx 10^{-9} Hz$, much smaller than other GW sources, such as super-massive black-hole mergers. However, in very low frequency band, it is larger. With current observational sensitivity it cannot be detected, nevertheless it may be accessible by PTA in the future, where techniques of distinguishing signal overlap should be used in order to isolate it and use it for cosmological studies. |\n",
       "|<p style=\"color:green\"> **ERROR** </p>| <p style=\"color:green\">affiliation error: mpia.affiliation_verifications: 'Heidelberg' keyword not found.</p> |"
      ],
      "text/plain": [
       "<IPython.core.display.Markdown object>"
      ]
     },
     "metadata": {},
     "output_type": "display_data"
    },
    {
     "data": {
      "text/markdown": [
       "\n",
       "|||\n",
       "|---:|:---|\n",
       "| [![arXiv](https://img.shields.io/badge/arXiv-arXiv:2301.02418-b31b1b.svg)](https://arxiv.org/abs/arXiv:2301.02418) | **Dynamical tides in Jupiter and the role of interior structure**  |\n",
       "|| <mark>Yufeng Lin</mark> |\n",
       "|*Appeared on*| *2023-01-09*|\n",
       "|*Comments*| *Accepted for publication in A&A*|\n",
       "|**Abstract**| Context. The Juno spacecraft has obtained highly accurate tidal Love numbers, which provide important constraints on the tidal response and interior structure of Jupiter. Aims. In order to exploit these observations, it is necessary to develop an approach for accurately calculating the tidal response of Jupiter for a given interior model and to investigate the role of interior structure. Methods. We directly solve the linearized tidal equations of a compressible, self-gravitating, rotating and viscous fluid body using a pseudo-spectral method. The Coriolis force is fully taken into account but the centrifugal effect is neglected. We can simultaneously obtain the real and imaginary parts of the tidal Love numbers for a given planetary interior model. Results. We calculate the tidal responses for three simple interior models of Jupiter which may contain a compact rigid core or an extended dilute core. All of models we consider can explain the fractional correction $\\Delta k_{22}\\approx -4\\%$ due to dynamical tides, but all have difficulties to reconcile the observed $\\Delta k_{42}\\approx -11\\%$ for the high-degree tidal Love number. We show that the Coriolis force significantly modifies gravity modes in an extended dilute core at the tidal frequency relevant to the Galilean satellites. We demonstrate that a thin stable layer in the outer region, if exists, would also influence the tidal responses of Jupiter. |\n",
       "|<p style=\"color:green\"> **ERROR** </p>| <p style=\"color:green\">affiliation error: mpia.affiliation_verifications: 'Heidelberg' keyword not found.</p> |"
      ],
      "text/plain": [
       "<IPython.core.display.Markdown object>"
      ]
     },
     "metadata": {},
     "output_type": "display_data"
    },
    {
     "data": {
      "text/markdown": [
       "\n",
       "|||\n",
       "|---:|:---|\n",
       "| [![arXiv](https://img.shields.io/badge/arXiv-arXiv:2301.02471-b31b1b.svg)](https://arxiv.org/abs/arXiv:2301.02471) | **The study of eleven contact binaries with mass ratios less than 0.1**  |\n",
       "|| <mark>Xin-Yi Liu</mark>, et al. -- incl., <mark>Kai Li</mark>, <mark>Fei Liu</mark>, <mark>Guo-You Sun</mark> |\n",
       "|*Appeared on*| *2023-01-09*|\n",
       "|*Comments*| *16 pages, 6 figures, and 11 tables, accepted by MNRAS*|\n",
       "|**Abstract**| Multi-band photometric observations of eleven totally eclipsing contact binaries were carried out. Applying the Wilson-Devinney program, photometric solutions were obtained. There are two W-subtype systems, which are CRTS J133031.1+161202 and CRTS J154254.0+324652, and the rest systems are A-subtype systems. CRTS J154254.0+324652 has the highest fill-out factor with 94.3$\\%$, and the lowest object is CRTS J155009.2+493639 with only 18.9$\\%$. The mass ratios of the eleven systems are all less than 0.1, which means that they are extremely low mass ratio binary systems. We performed period variation investigation and found that the orbital periods of three systems decrease slowly, which may be caused by the angular momentum loss, and of six systems increase slowly, which indicates that the materials may transfer from the secondary component to the primary component. LAMOST low$-$resolution spectra of four objects were analyzed, and using the spectral subtraction technique, H$\\alpha$ emission line was detected, which means that the four objects exhibit chromospheric activity. In order to understand their evolutionary status, the mass-luminosity and mass-radius diagrams were plotted. The two diagrams indicate that the primary component is in the main sequence evolution stage, and the secondary component is above TAMS, indicating that they are over-luminous. To determine whether the eleven systems are in stable state, the ratio of spin angular momentum to orbital angular momentum ($J_{s}/J_{o}$) and the instability parameters were calculated, and we argued that CRTS J234634.7+222824 is on the verge of a merger. |\n",
       "|<p style=\"color:green\"> **ERROR** </p>| <p style=\"color:green\">affiliation error: mpia.affiliation_verifications: 'Heidelberg' keyword not found.</p> |"
      ],
      "text/plain": [
       "<IPython.core.display.Markdown object>"
      ]
     },
     "metadata": {},
     "output_type": "display_data"
    },
    {
     "data": {
      "text/markdown": [
       "\n",
       "|||\n",
       "|---:|:---|\n",
       "| [![arXiv](https://img.shields.io/badge/arXiv-arXiv:2301.02476-b31b1b.svg)](https://arxiv.org/abs/arXiv:2301.02476) | **Is there a semi-molten layer at the base of the lunar mantle?**  |\n",
       "|| <mark>Michaela Walterová</mark>, Marie Běhounková, Michael Efroimsky |\n",
       "|*Appeared on*| *2023-01-09*|\n",
       "|*Comments*| *44 pages, 15 figures, submitted to JGR: Planets*|\n",
       "|**Abstract**| Parameterised by the Love number $k_2$ and the tidal quality factor $Q$, and inferred from lunar laser ranging (LLR), tidal dissipation in the Moon follows an unexpected frequency dependence often interpreted as evidence for a highly dissipative, melt-bearing layer encompassing the core-mantle boundary. Within this, more or less standard interpretation, the basal layer's viscosity is required to be of order $10^{15}$ to $10^{16}$ Pa s, and its outer radius is predicted to extend to the zone of deep moonquakes. While the reconciliation of those predictions with the mechanical properties of rocks might be challenging, alternative lunar interior models without the basal layer are said to be unable to fit the frequency dependence of tidal $Q$. The purpose of our paper is to illustrate under what conditions the frequency-dependence of lunar tidal $Q$ can be interpreted without the need for deep-seated partial melt. Devising a simplified lunar model, in which the mantle is described by the Sundberg-Cooper rheology, we predict the relaxation strength and characteristic timescale of elastically-accommodated grain boundary sliding in the mantle that would give rise to the desired frequency dependence. Along with developing this alternative model, we test the traditional model with a basal partial melt; and we show that the two models cannot be distinguished from each other by the available selenodetic measurements. Additional insight into the nature of lunar tidal dissipation can be gained either by measurements of higher-degree Love numbers and quality factors or by farside lunar seismology. |\n",
       "|<p style=\"color:green\"> **ERROR** </p>| <p style=\"color:green\">affiliation error: mpia.affiliation_verifications: 'Heidelberg' keyword not found.</p> |"
      ],
      "text/plain": [
       "<IPython.core.display.Markdown object>"
      ]
     },
     "metadata": {},
     "output_type": "display_data"
    },
    {
     "data": {
      "text/markdown": [
       "\n",
       "|||\n",
       "|---:|:---|\n",
       "| [![arXiv](https://img.shields.io/badge/arXiv-arXiv:2301.02519-b31b1b.svg)](https://arxiv.org/abs/arXiv:2301.02519) | **Role of small-scale impulsive events in heating the X-ray bright points  of the quiet Sun**  |\n",
       "|| Biswajit Mondal, et al. -- incl., <mark>Helen E. Mason</mark> |\n",
       "|*Appeared on*| *2023-01-09*|\n",
       "|*Comments*| *Submitted in the Astrophysical Journal, 20 pages, 10 figures*|\n",
       "|**Abstract**| Small-scale impulsive events, known as nanoflares, are thought to be one of the prime candidates that can keep the solar corona hot at its multi-million Kelvin temperature. Individual nanoflares are difficult to detect with the current generation instruments; however, their presence can be inferred through indirect techniques such as a Differential Emission Measure (DEM) analysis. Here we employ this technique to investigate the possibility of nanoflare heating of the quiet corona during the minimum of solar cycle 24. During this minimum, active regions (ARs) were absent on the solar-disk for extended periods. In the absence of ARs, X-ray bright points (XBP) are the dominant contributor to disk-integrated X-rays. We estimate the DEM of the XBPs using observations from the Solar X-ray Monitor (XSM) onboard the Chandrayaan-2 orbiter and the Atmospheric Imaging Assembly (AIA) onboard the Solar Dynamic Observatory. XBPs consist of small-scale loops associated with bipolar magnetic fields. We simulate such XBP loops using the EBTEL hydrodynamic code. The lengths and magnetic field strengths of these loops are obtained through a potential field extrapolation of the photospheric magnetogram. Each loop is assumed to be heated by random nanoflares having an energy that depends on the loop properties. The composite nanoflare energy distribution for all the loops has a power-law slope close to -2.5. The simulation output is then used to obtain the integrated DEM. It agrees remarkably well with the observed DEM at temperatures above 1 MK, suggesting that the nanoflare distribution, as predicted by our model, can explain the XBP heating. |\n",
       "|<p style=\"color:green\"> **ERROR** </p>| <p style=\"color:green\">affiliation error: mpia.affiliation_verifications: 'Heidelberg' keyword not found.</p> |"
      ],
      "text/plain": [
       "<IPython.core.display.Markdown object>"
      ]
     },
     "metadata": {},
     "output_type": "display_data"
    },
    {
     "data": {
      "text/markdown": [
       "\n",
       "|||\n",
       "|---:|:---|\n",
       "| [![arXiv](https://img.shields.io/badge/arXiv-arXiv:2301.02540-b31b1b.svg)](https://arxiv.org/abs/arXiv:2301.02540) | **Cross-Correlation Forecast of CSST Spectroscopic Galaxy and MeerKAT  Neutral Hydrogen Intensity Mapping Surveys**  |\n",
       "|| Yuer Jiang, et al. -- incl., <mark>Meng Zhang</mark> |\n",
       "|*Appeared on*| *2023-01-09*|\n",
       "|*Comments*| *13 pages, 11 figures, 3 tables*|\n",
       "|**Abstract**| Cross-correlating the data of neutral hydrogen (HI) 21cm intensity mapping with galaxy surveys is an effective method to extract astrophysical and cosmological information. In this work, we investigate the cross-correlation of MeerKAT single-dish mode HI intensity mapping and China Space Station Telescope (CSST) spectroscopic galaxy surveys. We simulate a survey area of $\\sim 300$ $\\mathrm{deg}^2$ of MeerKAT and CSST surveys at $z=0.5$ using Multi-Dark N-body simulation. The PCA algorithm is applied to remove the foregrounds of HI intensity mapping, and signal compensation is considered to solve the signal loss problem in the HI-galaxy cross power spectrum caused by the foreground removal process. We find that from CSST galaxy auto and MeerKAT-CSST cross power spectra, the constraint accuracy of the parameter product $\\Omega_{\\rm HI}b_{\\rm HI}r_{{\\rm HI},g}$ can reach to $\\sim1\\%$, which is about one order of magnitude higher than the current results. After performing the full MeerKAT HI intensity mapping survey with 5000 deg$^2$ survey area, the accuracy can be enhanced to $<0.3\\%$. This implies that the MeerKAT-CSST cross-correlation can be a powerful tool to probe the cosmic HI property and the evolution of galaxies and the Universe. |\n",
       "|<p style=\"color:green\"> **ERROR** </p>| <p style=\"color:green\">affiliation error: mpia.affiliation_verifications: 'Heidelberg' keyword not found.</p> |"
      ],
      "text/plain": [
       "<IPython.core.display.Markdown object>"
      ]
     },
     "metadata": {},
     "output_type": "display_data"
    },
    {
     "data": {
      "text/markdown": [
       "\n",
       "|||\n",
       "|---:|:---|\n",
       "| [![arXiv](https://img.shields.io/badge/arXiv-arXiv:2301.02558-b31b1b.svg)](https://arxiv.org/abs/arXiv:2301.02558) | **General relativistic effects and the near-infrared and X-ray variability  of Sgr A* I**  |\n",
       "|| Sebastiano D. von Fellenberg, et al. -- incl., <mark>Frank Eisenhauer</mark> |\n",
       "|*Appeared on*| *2023-01-09*|\n",
       "|*Comments*| **|\n",
       "|**Abstract**| The near-infrared (NIR) and X-ray emission of Sagittarius A* shows occasional bright flares that are assumed to originate from the innermost region of the accretion flow. We identified $25$ $4.5 \\mu m$ and $24$ X-ray flares in archival data obtained with the \\textit{Spitzer} and \\textit{Chandra} observatories. With the help of general relativistic ray-tracing code, we modeled trajectories of ``hot spots'' and studied the light curves of the flares for signs of the effects of general relativity. Despite their apparent diversity in shape, all flares share a common, exponential impulse response, a characteristic shape that is the building block of the variability. This shape is symmetric, that is, the rise and fall times are the same. Furthermore, the impulse responses in the NIR and X-ray are identical within uncertainties, with an exponential time constant $\\tau\\sim 15$ minute. The observed characteristic flare shape is inconsistent with hot-spot orbits viewed edge-on. Individually modeling the light curves of the flares, we derived constraints on the inclination of the orbital plane of the hot spots with respect to the observer ($i \\sim 30^{\\circ} , < 75^{\\circ} $) and on the characteristic timescale of the intrinsic variability (tens of minutes). |\n",
       "|<p style=\"color:green\"> **ERROR** </p>| <p style=\"color:green\">affiliation error: mpia.affiliation_verifications: 'Heidelberg' keyword not found.</p> |"
      ],
      "text/plain": [
       "<IPython.core.display.Markdown object>"
      ]
     },
     "metadata": {},
     "output_type": "display_data"
    },
    {
     "data": {
      "text/markdown": [
       "\n",
       "|||\n",
       "|---:|:---|\n",
       "| [![arXiv](https://img.shields.io/badge/arXiv-arXiv:2301.02584-b31b1b.svg)](https://arxiv.org/abs/arXiv:2301.02584) | **The Bright Extragalactic ALMA Redshift Survey (BEARS) II: Millimetre  photometry of gravitational lens candidates**  |\n",
       "|| G. J. Bendo, et al. -- incl., <mark>A. I. Harris</mark>, <mark>C. N. Herrera</mark>, <mark>D. H. Hughes</mark>, <mark>M. W. L. Smith</mark> |\n",
       "|*Appeared on*| *2023-01-09*|\n",
       "|*Comments*| *Accepted for publication in Monthly Notices of the Royal Astronomical Society*|\n",
       "|**Abstract**| We present 101 and 151 GHz ALMA continuum images for 85 fields selected from Herschel observations that have 500 micron flux densities >80 mJy and 250-500 micron colours consistent with z > 2, most of which are expected to be gravitationally lensed or hyperluminous infrared galaxies. Approximately half of the Herschel 500 micron sources were resolved into multiple ALMA sources, but 11 of the 15 brightest 500 micron Herschel sources correspond to individual ALMA sources. For the 37 fields containing either a single source with a spectroscopic redshift or two sources with the same spectroscopic redshift, we examined the colour temperatures and dust emissivity indices. The colour temperatures only vary weakly with redshift and are statistically consistent with no redshift-dependent temperature variations, which generally corresponds to results from other samples selected in far-infrared, submillimetre, or millimetre bands but not to results from samples selected in optical or near-infrared bands. The dust emissivity indices, with very few exceptions, are largely consistent with a value of 2. We also compared spectroscopic redshifts to photometric redshifts based on spectral energy distribution templates designed for infrared-bright high-redshift galaxies. While the templates systematically underestimate the redshifts by ~15%, the inclusion of ALMA data decreases the scatter in the predicted redshifts by a factor of ~2, illustrating the potential usefulness of these millimetre data for estimating photometric redshifts. |\n",
       "|<p style=\"color:green\"> **ERROR** </p>| <p style=\"color:green\">affiliation error: mpia.affiliation_verifications: 'Heidelberg' keyword not found.</p> |"
      ],
      "text/plain": [
       "<IPython.core.display.Markdown object>"
      ]
     },
     "metadata": {},
     "output_type": "display_data"
    },
    {
     "data": {
      "text/markdown": [
       "\n",
       "|||\n",
       "|---:|:---|\n",
       "| [![arXiv](https://img.shields.io/badge/arXiv-arXiv:2301.02652-b31b1b.svg)](https://arxiv.org/abs/arXiv:2301.02652) | **Diverse Carbonates in Exoplanet Oceans Promote the Carbon Cycle**  |\n",
       "|| Kaustubh Hakim, Meng Tian, Dan J. Bower, <mark>Kevin Heng</mark> |\n",
       "|*Appeared on*| *2023-01-09*|\n",
       "|*Comments*| *Published in ApJ Letters*|\n",
       "|**Abstract**| Carbonate precipitation in oceans is essential for the carbonate-silicate cycle (inorganic carbon cycle) to maintain temperate climates. By considering the thermodynamics of carbonate chemistry, we demonstrate that the ocean pH decreases by approximately 0.5 for a factor of 10 increase in the atmospheric carbon dioxide content. The upper and lower limits of ocean pH are within 1-4 of each other, where the upper limit is buffered by carbonate precipitation and defines the ocean pH when the carbon cycle operates. If the carbonate compensation depth (CCD) resides above the ocean floor, then carbonate precipitation and the carbon cycle cease to operate. The CCD is deep (>40 km) for high ocean temperature and high atmospheric carbon dioxide content. Key divalent carbonates of magnesium, calcium and iron produce an increasingly wider parameter space of deep CCDs, suggesting that chemical diversity promotes the carbon cycle. The search for life from exoplanets will benefit by including chemically more diverse targets than Earth twins. |\n",
       "|<p style=\"color:green\"> **ERROR** </p>| <p style=\"color:green\">affiliation error: mpia.affiliation_verifications: 'Heidelberg' keyword not found.</p> |"
      ],
      "text/plain": [
       "<IPython.core.display.Markdown object>"
      ]
     },
     "metadata": {},
     "output_type": "display_data"
    },
    {
     "data": {
      "text/markdown": [
       "\n",
       "|||\n",
       "|---:|:---|\n",
       "| [![arXiv](https://img.shields.io/badge/arXiv-arXiv:2301.02338-b31b1b.svg)](https://arxiv.org/abs/arXiv:2301.02338) | **GOALS-JWST: Pulling Back the Curtain on the AGN and Star Formation in VV  114**  |\n",
       "|| J. Rich, et al. -- incl., <mark>S. Linden</mark>, <mark>M. J. I. Brown</mark> |\n",
       "|*Appeared on*| *2023-01-09*|\n",
       "|*Comments*| *12 pages, 4 figures, accepted for publication in ApJL*|\n",
       "|**Abstract**| We present results from the James Webb Space Telescope (JWST) Director's Discretionary Time Early Release Science (ERS) program 1328 targeting the nearby, Luminous Infrared Galaxy (LIRG), VV 114. We use the MIRI and NIRSpec instruments to obtain integral-field spectroscopy of the heavily obscured Eastern nucleus (V114E) and surrounding regions. The spatially resolved, high-resolution, spectra reveal the physical conditions in the gas and dust over a projected area of 2-3 kpc that includes the two brightest IR sources, the NE and SW cores. Our observations show for the first time spectroscopic evidence that the SW core hosts an AGN as evidenced by its very low 6.2 {\\mu}m and 3.3 {\\mu}m PAH equivalent widths (0.12 and 0.017 {\\mu}m respectively) and mid and near-IR colors. Our observations of the NE core show signs of deeply embedded star formation including absorption features due to aliphatic hydrocarbons, large quantities of amorphous silicates, as well as HCN due to cool gas along the line of sight. We detect elevated [Fe II]/Pf{\\alpha} consistent with extended shocks coincident with enhanced emission from warm H$_{2}$, far from the IR-bright cores and clumps. We also identify broadening and multiple kinematic components in both H$_{2}$ and fine structure lines caused by outflows and previously identified tidal features. |\n",
       "|<p style=\"color:red\"> **ERROR** </p>| <p style=\"color:red\">latex error 'utf-8' codec can't decode byte 0xd0 in position 8633: invalid continuation byte</p> |"
      ],
      "text/plain": [
       "<IPython.core.display.Markdown object>"
      ]
     },
     "metadata": {},
     "output_type": "display_data"
    },
    {
     "data": {
      "text/markdown": [
       "\n",
       "|||\n",
       "|---:|:---|\n",
       "| [![arXiv](https://img.shields.io/badge/arXiv-arXiv:2301.02559-b31b1b.svg)](https://arxiv.org/abs/arXiv:2301.02559) | **Forbidden emission lines in protostellar outflows and jets with MUSE**  |\n",
       "|| <mark>Lizxandra Flores-Rivera</mark>, et al. -- incl., <mark>Mario Flock</mark>, <mark>Nicolás Kurtovic</mark>, <mark>André Müller</mark>, <mark>Christian Fendt</mark>, <mark>Thomas Henning</mark>, <mark>Roy van Boekel</mark>, <mark>Ralf Launhardt</mark> |\n",
       "|*Appeared on*| *2023-01-09*|\n",
       "|*Comments*| *Accepted on December 19 2022*|\n",
       "|**Abstract**| Forbidden emission lines in protoplanetary disks are a key diagnostic in studies of the evolution of the disk and the host star. We report spatially resolved emission lines, [OI] 6300, 6363, [NII] 6548, 6583, H$\\alpha$, and [SII] 6716, 6730 Angstrom that are believed to be associated with jets and magnetically driven winds in the inner disks. Observations were carried out with the optical integral field spectrograph of the Multi Unit Spectroscopic Explorer (MUSE), at the Very Large Telescope (VLT). With a resolution of 0.025 X 0.025 arcsec$^{2}$, we aim to derive the position angle of the outflow/jet (PA$_{outflow/jet}$) that is connected with the inner disk. The forbidden emission lines analyzed here have their origin at the inner parts of the protoplanetary disk. From the maximum intensity emission along the outflow/jet in DL Tau, CI Tau, DS Tau, IP Tau, and IM Lup, we were able to reliably measure the PA$_{outflow/jet}$ for most of the identified lines. We found that our estimates agree with PA$_{dust}$ for most of the disks. These estimates depend on the signal-to-noise level and the collimation of the outflow (jet). The outflows/jets in CIDA 9, GO Tau, and GW Lup are too compact for a PA$_{outflow/jet}$ to be estimated. Based on our kinematics analysis, we confirm that DL Tau and CI Tau host a strong outflow/jet with line-of-sight velocities much greater than 100 km s$^{-1}$, whereas DS Tau, IP Tau, and IM Lup velocities are lower and their structures encompass low-velocity components to be more associated with winds. Our estimates for the mass-loss rate, $\\dot{M}_{{loss}}$, range between (1.1-6.5)X10$^{-7}$-10$^{-8}$ $M_{\\odot}$ yr$^{-1}$ for the disk-outflow/jet systems analyzed here. The outflow/jet systems analyzed here are aligned within around 1 degree between the inner and outer disk. Further observations are needed to confirm a potential misalignment in IM Lup. |\n",
       "|<p style=\"color:red\"> **ERROR** </p>| <p style=\"color:red\">latex error Unable to get page count.\n",
       "Syntax Warning: May not be a PDF file (continuing anyway)\n",
       "Syntax Error: Couldn't find trailer dictionary\n",
       "Syntax Error: Couldn't find trailer dictionary\n",
       "Syntax Error: Couldn't read xref table\n",
       "</p> |"
      ],
      "text/plain": [
       "<IPython.core.display.Markdown object>"
      ]
     },
     "metadata": {},
     "output_type": "display_data"
    }
   ],
   "source": [
    "import datetime\n",
    "today = str(datetime.date.today())\n",
    "logfile = f\"_build/html/logs/log-{today}.md\"\n",
    "\n",
    "\n",
    "with open(logfile, 'w') as logs:\n",
    "    # Success\n",
    "    logs.write(f'# Arxiv on Deck 2: Logs - {today}\\n\\n')\n",
    "    logs.write(\"\"\"* Arxiv had {0:,d} new papers\\n\"\"\".format(len(new_papers)))\n",
    "    logs.write(\"\"\"    * {0:,d} with possible author matches\\n\\n\"\"\".format(len(candidates)))\n",
    "    logs.write(\"## Sucessful papers\\n\\n\")\n",
    "    display(Markdown(\"## Successful papers\"))\n",
    "    success = [k[0] for k in documents]\n",
    "    for candid in candidates:\n",
    "        if candid['identifier'].split(':')[-1] in success:\n",
    "            display(candid)\n",
    "            logs.write(candid.generate_markdown_text() + '\\n\\n')\n",
    "\n",
    "    ## failed\n",
    "    logs.write(\"## Failed papers\\n\\n\")\n",
    "    display(Markdown(\"## Failed papers\"))\n",
    "    failed = sorted(failed, key=lambda x: x[1])\n",
    "    current_reason = \"\"\n",
    "    for paper, reason in failed:\n",
    "        if 'affiliation' in reason:\n",
    "            color = 'green'\n",
    "        else:\n",
    "            color = 'red'\n",
    "        data = Markdown(\n",
    "                paper.generate_markdown_text() + \n",
    "                f'\\n|<p style=\"color:{color:s}\"> **ERROR** </p>| <p style=\"color:{color:s}\">{reason:s}</p> |'\n",
    "               )\n",
    "        if reason != current_reason:\n",
    "            logs.write(f'### {reason:s} \\n\\n')\n",
    "            current_reason = reason\n",
    "        logs.write(data.data + '\\n\\n')\n",
    "        \n",
    "        # only display here the important errors (all in logs)\n",
    "        # if color in ('red',):\n",
    "        display(data)"
   ]
  },
  {
   "cell_type": "markdown",
   "id": "472d20ee",
   "metadata": {
    "papermill": {
     "duration": 0.013112,
     "end_time": "2023-01-09T04:10:46.441065",
     "exception": false,
     "start_time": "2023-01-09T04:10:46.427953",
     "status": "completed"
    },
    "tags": []
   },
   "source": [
    "## Export documents\n",
    "\n",
    "We now write the .md files and export relevant images"
   ]
  },
  {
   "cell_type": "code",
   "execution_count": 7,
   "id": "d426aed9",
   "metadata": {
    "execution": {
     "iopub.execute_input": "2023-01-09T04:10:46.468187Z",
     "iopub.status.busy": "2023-01-09T04:10:46.467543Z",
     "iopub.status.idle": "2023-01-09T04:10:46.478778Z",
     "shell.execute_reply": "2023-01-09T04:10:46.477773Z"
    },
    "papermill": {
     "duration": 0.027377,
     "end_time": "2023-01-09T04:10:46.481063",
     "exception": false,
     "start_time": "2023-01-09T04:10:46.453686",
     "status": "completed"
    },
    "tags": []
   },
   "outputs": [],
   "source": [
    "def export_markdown_summary(md: str, md_fname:str, directory: str):\n",
    "    \"\"\"Export MD document and associated relevant images\"\"\"\n",
    "    import os\n",
    "    import shutil\n",
    "    import re\n",
    "\n",
    "    if (os.path.exists(directory) and not os.path.isdir(directory)):\n",
    "        raise RuntimeError(f\"a non-directory file exists with name {directory:s}\")\n",
    "\n",
    "    if (not os.path.exists(directory)):\n",
    "        print(f\"creating directory {directory:s}\")\n",
    "        os.mkdir(directory)\n",
    "\n",
    "    fig_fnames = (re.compile(r'\\[Fig.*\\]\\((.*)\\)').findall(md) + \n",
    "                  re.compile(r'\\<img src=\"([^>\\s]*)\"[^>]*/>').findall(md))\n",
    "    for fname in fig_fnames:\n",
    "        if 'http' in fname:\n",
    "            # No need to copy online figures\n",
    "            continue\n",
    "        destdir = os.path.join(directory, os.path.dirname(fname))\n",
    "        destfname = os.path.join(destdir, os.path.basename(fname))\n",
    "        try:\n",
    "            os.makedirs(destdir)\n",
    "        except FileExistsError:\n",
    "            pass\n",
    "        shutil.copy(fname, destfname)\n",
    "    with open(os.path.join(directory, md_fname), 'w') as fout:\n",
    "        fout.write(md)\n",
    "    print(\"exported in \", os.path.join(directory, md_fname))\n",
    "    [print(\"    + \" + os.path.join(directory,fk)) for fk in fig_fnames]"
   ]
  },
  {
   "cell_type": "code",
   "execution_count": 8,
   "id": "014d04a4",
   "metadata": {
    "execution": {
     "iopub.execute_input": "2023-01-09T04:10:46.507211Z",
     "iopub.status.busy": "2023-01-09T04:10:46.506373Z",
     "iopub.status.idle": "2023-01-09T04:10:46.524554Z",
     "shell.execute_reply": "2023-01-09T04:10:46.523319Z"
    },
    "papermill": {
     "duration": 0.033685,
     "end_time": "2023-01-09T04:10:46.527082",
     "exception": false,
     "start_time": "2023-01-09T04:10:46.493397",
     "status": "completed"
    },
    "tags": []
   },
   "outputs": [
    {
     "name": "stdout",
     "output_type": "stream",
     "text": [
      "exported in  _build/html/2301.02265.md\n",
      "    + _build/html/tmp_2301.02265/./figures/osiris_prist_4-eps-converted-to.png\n",
      "    + _build/html/tmp_2301.02265/./figures/kiel-ulyss.png\n",
      "    + _build/html/tmp_2301.02265/./figures/teff-logg_FERRE-adopted_new.png\n",
      "exported in  _build/html/2301.02313.md\n",
      "    + _build/html/tmp_2301.02313/./plot_apertures.png\n",
      "    + _build/html/tmp_2301.02313/./plot_MRSapert.png\n",
      "    + _build/html/tmp_2301.02313/./plot_fracgas_vs_z.png\n",
      "exported in  _build/html/2301.02477.md\n",
      "    + _build/html/tmp_2301.02477/./20221205_wolf1069_periodogram_carmvis_rv_tellcorr_2cols_equalzoom.png\n",
      "    + _build/html/tmp_2301.02477/./20221205_wolf1069_periodogram_carmvis_tellcorr_2121_bluered_2cols_zoom_martinfap.png\n",
      "    + _build/html/tmp_2301.02477/./rv_vs_time.png\n",
      "    + _build/html/tmp_2301.02477/./phased_rv_pl1.png\n"
     ]
    }
   ],
   "source": [
    "for paper_id, md in documents:\n",
    "    export_markdown_summary(md, f\"{paper_id:s}.md\", '_build/html/')"
   ]
  },
  {
   "cell_type": "markdown",
   "id": "f087a0a7",
   "metadata": {
    "papermill": {
     "duration": 0.012217,
     "end_time": "2023-01-09T04:10:46.551173",
     "exception": false,
     "start_time": "2023-01-09T04:10:46.538956",
     "status": "completed"
    },
    "tags": []
   },
   "source": [
    "## Display the papers\n",
    "\n",
    "Not necessary but allows for a quick check."
   ]
  },
  {
   "cell_type": "code",
   "execution_count": 9,
   "id": "fd25f625",
   "metadata": {
    "execution": {
     "iopub.execute_input": "2023-01-09T04:10:46.577684Z",
     "iopub.status.busy": "2023-01-09T04:10:46.576835Z",
     "iopub.status.idle": "2023-01-09T04:10:46.588691Z",
     "shell.execute_reply": "2023-01-09T04:10:46.587745Z"
    },
    "papermill": {
     "duration": 0.027975,
     "end_time": "2023-01-09T04:10:46.591012",
     "exception": false,
     "start_time": "2023-01-09T04:10:46.563037",
     "status": "completed"
    },
    "scrolled": false,
    "tags": []
   },
   "outputs": [
    {
     "data": {
      "text/markdown": [
       "<div class=\"macros\" style=\"visibility:hidden;\">\n",
       "$\\newcommand{\\ensuremath}{}$\n",
       "$\\newcommand{\\xspace}{}$\n",
       "$\\newcommand{\\object}[1]{\\texttt{#1}}$\n",
       "$\\newcommand{\\farcs}{{.}''}$\n",
       "$\\newcommand{\\farcm}{{.}'}$\n",
       "$\\newcommand{\\arcsec}{''}$\n",
       "$\\newcommand{\\arcmin}{'}$\n",
       "$\\newcommand{\\ion}[2]{#1#2}$\n",
       "$\\newcommand{\\textsc}[1]{\\textrm{#1}}$\n",
       "$\\newcommand{\\hl}[1]{\\textrm{#1}}$\n",
       "$\\newcommand{\\noteab}[1]{\\hl{[AA: #1]}}$\n",
       "$\\newcommand{\\rev}[1]{{\\textbf{\\color{magenta}#1}}}$\n",
       "$\\newcommand{\\teff}{\\ensuremath{T_{\\mathrm{eff}}}\\xspace}$\n",
       "$\\newcommand{\\teffa}{\\ensuremath{T_{\\mathrm{eff,A}}}\\xspace}$\n",
       "$\\newcommand{\\kms}{\\ensuremath{\\rm{km} s^{-1}}\\xspace}$\n",
       "$\\newcommand{\\logg}{\\ensuremath{\\log g}\\xspace}$\n",
       "$\\newcommand{\\feh}{\\rm{[Fe/H]}\\xspace}$\n",
       "$\\newcommand{\\cfe}{\\rm{[C/Fe]}\\xspace}$\n",
       "$\\newcommand{\\nfe}{\\rm{[N/Fe]}\\xspace}$\n",
       "$\\newcommand{\\ch}{\\rm{[C/H]}\\xspace}$\n",
       "$\\newcommand{\\ac}{\\rm{A(C)}\\xspace}$\n",
       "$\\newcommand{\\mgfe}{\\rm{[Mg/Fe]}\\xspace}$\n",
       "$\\newcommand{\\alphafe}{\\rm{[\\ensuremath{\\alpha}/Fe]}\\xspace}$\n",
       "$\\newcommand{\\Gaia}{\\textit{Gaia}\\xspace}$\n",
       "$\\newcommand{\\CaHK}{\\emph{CaHK}\\xspace}$\n",
       "$\\newcommand{\\Pristine}{\\emph{Pristine}\\xspace}$\n",
       "$\\newcommand{\\FERRE}{{\\tt FERRE}\\xspace}$\n",
       "$\\newcommand{\\ULySS}{{\\tt ULySS}\\xspace}$\n",
       "$\\newcommand{\\AA}{\\normalfont\\r{A}\\xspace}$\n",
       "$\\newcommand{\\thebibliography}{\\DeclareRobustCommand{\\VAN}[3]{##3}\\VANthebibliography}$\n",
       "$\\newcommand{\\msun}{{\\rm M_\\odot}}$\n",
       "$\\newcommand{\\eg}{{e.g., }}$\n",
       "$\\newcommand{\\ie}{{i.e., }}$</div>\n",
       "\n",
       "<div class=\"macros\" style=\"visibility:hidden;\">\n",
       "$\\newcommand{$\\ensuremath$}{}$\n",
       "$\\newcommand{$\\xspace$}{}$\n",
       "$\\newcommand{$\\object$}[1]{\\texttt{#1}}$\n",
       "$\\newcommand{$\\farcs$}{{.}''}$\n",
       "$\\newcommand{$\\farcm$}{{.}'}$\n",
       "$\\newcommand{$\\arcsec$}{''}$\n",
       "$\\newcommand{$\\arcmin$}{'}$\n",
       "$\\newcommand{$\\ion$}[2]{#1#2}$\n",
       "$\\newcommand{$\\textsc$}[1]{\\textrm{#1}}$\n",
       "$\\newcommand{$\\hl$}[1]{\\textrm{#1}}$\n",
       "$\\newcommand{$\\noteab$}[1]{$\\hl${[AA: #1]}}$\n",
       "$\\newcommand{$\\rev$}[1]{{\\textbf{\\color{magenta}#1}}}$\n",
       "$\\newcommand{$\\teff$}{$\\ensuremath${T_{\\mathrm{eff}}}$\\xspace$}$\n",
       "$\\newcommand{$\\teff$a}{$\\ensuremath${T_{\\mathrm{eff,A}}}$\\xspace$}$\n",
       "$\\newcommand{$\\kms$}{$\\ensuremath${\\rm{km} s^{-1}}$\\xspace$}$\n",
       "$\\newcommand{$\\logg$}{$\\ensuremath${\\log g}$\\xspace$}$\n",
       "$\\newcommand{$\\feh$}{\\rm{[Fe/H]}$\\xspace$}$\n",
       "$\\newcommand{$\\cfe$}{\\rm{[C/Fe]}$\\xspace$}$\n",
       "$\\newcommand{$\\nfe$}{\\rm{[N/Fe]}$\\xspace$}$\n",
       "$\\newcommand{$\\ch$}{\\rm{[C/H]}$\\xspace$}$\n",
       "$\\newcommand{$\\ac$}{\\rm{A(C)}$\\xspace$}$\n",
       "$\\newcommand{$\\mgfe$}{\\rm{[Mg/Fe]}$\\xspace$}$\n",
       "$\\newcommand{$\\alphafe$}{\\rm{[$\\ensuremath${\\alpha}/Fe]}$\\xspace$}$\n",
       "$\\newcommand{$\\Gaia$}{\\textit{Gaia}$\\xspace$}$\n",
       "$\\newcommand{$\\CaHK$}{\\emph{CaHK}$\\xspace$}$\n",
       "$\\newcommand{$\\Pristine$}{\\emph{Pristine}$\\xspace$}$\n",
       "$\\newcommand{$\\FERRE$}{{\\tt FERRE}$\\xspace$}$\n",
       "$\\newcommand{$\\ULySS$}{{\\tt ULySS}$\\xspace$}$\n",
       "$\\newcommand{$\\AA$}{\\normalfont\\r{A}$\\xspace$}$\n",
       "$\\newcommand{$\\thebibliography$}{\\DeclareRobustCommand{\\VAN}[3]{##3}\\VANthebibliography}$\n",
       "$\\newcommand{$\\msun$}{{\\rm M_\\odot}}$\n",
       "$\\newcommand{$\\eg$}{{e.g., }}$\n",
       "$\\newcommand{$\\ie$}{{i.e., }}$</div>\n",
       "\n",
       "\n",
       "\n",
       "<div id=\"title\">\n",
       "\n",
       "# The Pristine survey -- XX: GTC follow-up observations of extremely metal-poor stars identified from Pristine and LAMOST\n",
       "\n",
       "</div>\n",
       "<div id=\"comments\">\n",
       "\n",
       "[![arXiv](https://img.shields.io/badge/arXiv-2301.02265-b31b1b.svg)](https://arxiv.org/abs/2301.02265)<mark>Appeared on: 2023-01-09</mark> - _13 pages, accepted for publication in MNRAS_\n",
       "\n",
       "</div>\n",
       "<div id=\"authors\">\n",
       "\n",
       "Anke Arentsen, et al. -- incl., <mark><mark>Jonay I. González Hernández</mark></mark>\n",
       "\n",
       "</div>\n",
       "<div id=\"abstract\">\n",
       "\n",
       "**Abstract:** Ultra metal-poor stars ($\\feh < -4.0$) are very rare, and finding them is a challenging task. Both narrow-band photometry and low-resolution spectroscopy have been useful tools for identifying candidates, and in this work we combine both approaches.We cross-matched metallicity-sensitive photometry from the$\\Pristine$survey with the low-resolution spectroscopic LAMOST database, and re-analysed all LAMOST spectra with$\\feh_$\\Pristine$<-2.5$. We find that$\\sim$1/3rd of this sample (selected without$\\feh_$\\Pristine$$quality cuts) also have spectroscopic$\\feh < -2.5$.From this sample, containing many low signal-to-noise (S/N) spectra, we selected eleven stars potentially having$\\feh < -4.0$or$\\feh < -3.0$with very high carbon abundances, and we performed higher S/N medium-resolution spectroscopic follow-up with OSIRIS on the 10.4m Gran Telescopio Canarias (GTC). We confirm their extremely low metallicities, with a mean of$\\feh = -3.4$and the most metal-poor star having$\\feh = -3.8$.Three of these are clearly carbon-enhanced metal-poor (CEMP) stars with$+1.65 < $\\cfe$ < +2.45$.The two most carbon-rich stars are either among the most metal-poor CEMP-s stars or the most carbon-rich CEMP-no stars known, the third is likely a CEMP-no star.We derived orbital properties for the OSIRIS sample and find that only one of our targets can be confidently associated with known substructures/accretion events, and that three out of four inner halo stars have prograde orbits.Large spectroscopic surveys may contain many hidden extremely and ultra metal-poor stars, and adding additional information from e.g. photometry as in this work can uncover them more efficiently and confidently.\n",
       "\n",
       "</div>\n",
       "\n",
       "<div id=\"div_fig1\">\n",
       "\n",
       "<img src=\"tmp_2301.02265/./figures/osiris_prist_4-eps-converted-to.png\" alt=\"Fig5\" width=\"100%\"/>\n",
       "\n",
       "**Figure 5. -** OSIRIS/GTC spectra (3750 $\\AA$-4500 $\\AA$) of our stellar sample\n",
       "(black line) and the best fits calculated with $\\FERRE$, colour-coded by $\\teff$(the bluer the hotter) and sorted by decreasing $\\feh$. The Balmer lines (yellow) and main metallic absorption features (purple) are high-lighted. Above each spectrum the metallicity, effective temperature and carbonicity are displayed.  (*fig:osiris*)\n",
       "\n",
       "</div>\n",
       "<div id=\"div_fig2\">\n",
       "\n",
       "<img src=\"tmp_2301.02265/./figures/kiel-ulyss.png\" alt=\"Fig1\" width=\"100%\"/>\n",
       "\n",
       "**Figure 1. -** Top: Kiel diagram for all exposures of the 4900 unique $\\Pristine$-selected stars in LAMOST analysed with $\\ULySS$, colour-coded by metallicity. No quality cuts were applied to the photometric metallicities in the selection. The results for the eleven stars that were followed up with OSIRIS (see Section \\ref{sec:osiris}) are highlighted with larger symbols (the two high and low $\\logg$ outliers are CEMP stars). Bottom: $\\ULySS$ metallicity histogram of the same sample in black, and $\\FERRE$ metallicity histogram for the VMP sub-sample in red.  (*fig:ulyss*)\n",
       "\n",
       "</div>\n",
       "<div id=\"div_fig3\">\n",
       "\n",
       "<img src=\"tmp_2301.02265/./figures/teff-logg_FERRE-adopted_new.png\" alt=\"Fig2\" width=\"100%\"/>\n",
       "\n",
       "**Figure 2. -** Kiel diagram showing the pure FERRE stellar parameters (black) and the adopted stellar parameters and uncertainties (magenta). See the text for details. Also shown are Yonsei-Yale isochrones for two different metallicities (both with age = 12 Gyr, $\\alphafe = +0.4$). (*fig:tefflogg*)\n",
       "\n",
       "</div>"
      ],
      "text/plain": [
       "<IPython.core.display.Markdown object>"
      ]
     },
     "metadata": {},
     "output_type": "display_data"
    },
    {
     "data": {
      "text/markdown": [
       "<div class=\"macros\" style=\"visibility:hidden;\">\n",
       "$\\newcommand{\\ensuremath}{}$\n",
       "$\\newcommand{\\xspace}{}$\n",
       "$\\newcommand{\\object}[1]{\\texttt{#1}}$\n",
       "$\\newcommand{\\farcs}{{.}''}$\n",
       "$\\newcommand{\\farcm}{{.}'}$\n",
       "$\\newcommand{\\arcsec}{''}$\n",
       "$\\newcommand{\\arcmin}{'}$\n",
       "$\\newcommand{\\ion}[2]{#1#2}$\n",
       "$\\newcommand{\\textsc}[1]{\\textrm{#1}}$\n",
       "$\\newcommand{\\hl}[1]{\\textrm{#1}}$\n",
       "$\\newcommand{\\arcs}{\\arcsec\\xspace}$\n",
       "$\\newcommand{\\CII}{[\\ion{C}{II}]158\\mum}$\n",
       "$\\newcommand{\\oddpm}[2]{\\raisebox{0.5ex}{\\tiny\\substack{+#1 \\-#2}}}$</div>\n",
       "\n",
       "<div class=\"macros\" style=\"visibility:hidden;\">\n",
       "$\\newcommand{$\\ensuremath$}{}$\n",
       "$\\newcommand{$\\xspace$}{}$\n",
       "$\\newcommand{$\\object$}[1]{\\texttt{#1}}$\n",
       "$\\newcommand{$\\farcs$}{{.}''}$\n",
       "$\\newcommand{$\\farcm$}{{.}'}$\n",
       "$\\newcommand{$\\arcsec$}{''}$\n",
       "$\\newcommand{$\\arcmin$}{'}$\n",
       "$\\newcommand{$\\ion$}[2]{#1#2}$\n",
       "$\\newcommand{$\\textsc$}[1]{\\textrm{#1}}$\n",
       "$\\newcommand{$\\hl$}[1]{\\textrm{#1}}$\n",
       "$\\newcommand{$\\arcs$}{$\\arcsec$$\\xspace$}$\n",
       "$\\newcommand{$\\CII$}{[$\\ion${C}{II}]158\\mum}$\n",
       "$\\newcommand{$\\oddpm$}[2]{\\raisebox{0.5ex}{\\tiny\\substack{+#1 \\-#2}}}$</div>\n",
       "\n",
       "\n",
       "\n",
       "<div id=\"title\">\n",
       "\n",
       "# MIRI/JWST observations reveal an extremely obscured starburst in the z=6.9 system SPT0311-58\n",
       "\n",
       "</div>\n",
       "<div id=\"comments\">\n",
       "\n",
       "[![arXiv](https://img.shields.io/badge/arXiv-2301.02313-b31b1b.svg)](https://arxiv.org/abs/2301.02313)<mark>Appeared on: 2023-01-09</mark> - _18 pages, 8 figures, acepted for publication in A&A_\n",
       "\n",
       "</div>\n",
       "<div id=\"authors\">\n",
       "\n",
       "J. Álvarez-Márquez, et al. -- incl., <mark><mark>F. Walter</mark></mark>, <mark><mark>A. Alonso-Herrero</mark></mark>, <mark><mark>M. Güdel</mark></mark>, <mark><mark>Th. Henning</mark></mark>\n",
       "\n",
       "</div>\n",
       "<div id=\"abstract\">\n",
       "\n",
       "**Abstract:** Luminous infrared starbursts in the early universe are thought to be the progenitors of massive quiescent galaxies identified at redshifts 2 to 4. Using MIRI on-board JWST we present mid-infrared sub-arcsec imaging (MIRIM) and spectroscopy (MRS) of such a starburst: the slightly lensed hyperluminous infrared system SPT0311-58 at$z$=6.9. Our observations target the stellar (rest-frame 1.26$\\mu$m emission) structure and ionised (Pa$\\alpha$and H$\\alpha$) medium on kpc scales in the system. MIRI observations are compared with existing ALMA far-infrared continuum and[$\\ion${C}{II}]158$\\mu$m imaging at similar angular resolution. Even though the ALMA observations imply very high star formation rates in the eastern (E) and western (W) galaxies of the system, the H$\\alpha$line is, strikingly, not detected in our MRS observations. This, together with the detection of the ionised gas phase in Pa$\\alpha$, implies very high internal nebular extinction with lower limits ($A_\\mathrm{V}$) of 4.2 (E) and 3.9 mag (W), and even larger (5.6 (E) and 10.0 (W)) for SED derived values. The extinction-corrected Pa$\\alpha$lower limits to the star formation rates are 383 and 230 M$_\\mathrm{\\odot}$yr$^{-1}$for the E and W galaxies, respectively. This represents 50\\%of the SFRs derived from the[$\\ion${C}{II}]158$\\mu$m line and infrared light for the E galaxy and as low as 6\\%for the W galaxy. The specific star formation (sSFR) in the stellar clumps ranges from 25 to 59 Gyr$^{-1}$assuming a star formation with a 50-100 Myr constant rate. This sSFR is 3 to 10 times larger than the values measured in galaxies of similar mass at redshifts 6 to 8: SPT0311-58 thus clearly stands out as a starburst system when compared with typical massive star-forming galaxies at similar high redshifts. The MIRI observations reveal a clumpy stellar structure, with each clump having  3 to 5$\\times$10$^{9}$M$_\\mathrm{\\odot}$mass in stars, leading to a total stellar mass of 2.0 and 1.5$\\times$10$^{10}$M$_\\mathrm{\\odot}$for the E and W galaxies, respectively. The overall gas mass fraction is$M_\\mathrm{gas}$/$M_*\\sim 3$, similar to that of$z$$\\sim$4.5-6 star-forming galaxies, suggesting a flattening of the gas mass fraction in massive starbursts up to redshift 7. The kinematics of the ionised gas in the E galaxy agrees with the known[$\\ion${C}{II}]gas kinematics, indicating a physical association between the ionised gas and cold dust/gas clumps. The situation in the W galaxy is more complex as it appears to be a velocity offset of about +700 km s$^{-1}$in the Pa$\\alpha$relative to the[$\\ion${C}{II}]emitting gas.The nature of this offset, and its reality, is not fully established and requires further investigation. The observed properties of SPT0311-58 such as the clumpy distribution at sub(kpc) scales and the very high average extinction are similar to those observed in low- and intermediate-$z$luminous (E galaxy) and ultraluminous (W galaxy) infrared galaxies, even though SPT0311-58 is observed only$\\sim$800 Myr after the Big Bang. Massive, heavily obscured, clumpy starburst systems like SPT0311-58 likely represent the early phases in the formation of massive high-redshift bulge/spheroids and luminous quasars. MIRI and JWST will be able to explore for the first time the rest-frame near-infrared stellar and ionised gas structure of these galaxies, even during the Epoch of Reionization as demonstrated by this study.\n",
       "\n",
       "</div>\n",
       "\n",
       "<div id=\"div_fig1\">\n",
       "\n",
       "<img src=\"tmp_2301.02313/./plot_apertures.png\" alt=\"Fig6\" width=\"100%\"/>\n",
       "\n",
       "**Figure 6. -** Spatial distribution of ALMA and MIRI clumps. From left to right, ALMA rest-frame 160$\\mu$m continuum, ALMA [$\\ion${C}{II}]158 $\\mu$m, MIRI/F1000W and WFC3/F160W images of SPT0311-58. MIRI and HST images have been subtracted from the lensing galaxy (see $\\S$\\ref{sec:3.1.}). White dashed circles display the apertures used to extract the photometry centred on ALMA continuum clumps and defined by \\citet{Spilker+22}. Cyan circles mark the clumps derived in this work from the F1000W image. (*fig:im_and_apertures*)\n",
       "\n",
       "</div>\n",
       "<div id=\"div_fig2\">\n",
       "\n",
       "<img src=\"tmp_2301.02313/./plot_MRSapert.png\" alt=\"Fig3\" width=\"100%\"/>\n",
       "\n",
       "**Figure 3. -** \\textit{Left:} MIRI F1000W image of the SPT0311-58 system after removal of the lensing galaxy. Cyan circles mark the position of the individual F1000W clumps, while white circles shows the MRS apertures used for the extraction of the Pa $\\alpha$ spectra (see Sect. \\ref{sec:3.3.}). \\textit{Right}: RGB image where red, green and blue colours shows the ALMA $\\CII$ , MIRIM F1000W and WPFC3 F160W lens-subtracted images, representing the [$\\ion${C}{II}], rest-frame 1.25$\\mu$m and rest-frame 200nm continuum, respectively (see Sect. \\ref{sec:2.}). (*fig:MRS_app*)\n",
       "\n",
       "</div>\n",
       "<div id=\"div_fig3\">\n",
       "\n",
       "<img src=\"tmp_2301.02313/./plot_fracgas_vs_z.png\" alt=\"Fig1\" width=\"100%\"/>\n",
       "\n",
       "**Figure 1. -** Gas fraction vs redshift. This figure shows the evolution of the gas mass fraction (i.e. $M_\\mathrm{gas}/M_\\mathrm{*}$) with the redshift. Black and red triangles represent the values derived for the E and W SPT0311-058 clumps, respectively, presented in Table \\ref{tab:Mass_CII_reg}. Red and black empty squares display the $M_\\mathrm{gas}/M_\\mathrm{*}$ ratio obtained using the gas mass derived by \\citet{Marrone+18} and the stellar masses computed in this work via SED fitting (see Sec. \\ref{sec:4.1.}) for the E and W galaxies, respectively. For comparison, galaxies at intermediate redshifts ($z\\sim$1$-$3) from the ASPECS 1.2mm sample presented in \\citep{Aravena+20} are included. The higher redshift range ($z\\sim$4.4$-$6) is covered with the ALPINE sample, for which we calculate the gas mass following the $L_\\mathrm{CII}-M_\\mathrm{gas}$ relation introduced by \\citet{Zanella+18}. The black continuum, dashed and dashed–dotted lines show the gas fraction evolution following \\citet{Liu+19} for a galaxy with a stellar mass of $M_*$=5$\\times$10$^{10}$ M$_\\odot$ and a SFR that is 1, 3 and 10 times the one expected for the SFR main sequence, respectively. (*fig:frac_gas*)\n",
       "\n",
       "</div>"
      ],
      "text/plain": [
       "<IPython.core.display.Markdown object>"
      ]
     },
     "metadata": {},
     "output_type": "display_data"
    },
    {
     "data": {
      "text/markdown": [
       "<div class=\"macros\" style=\"visibility:hidden;\">\n",
       "$\\newcommand{\\ensuremath}{}$\n",
       "$\\newcommand{\\xspace}{}$\n",
       "$\\newcommand{\\object}[1]{\\texttt{#1}}$\n",
       "$\\newcommand{\\farcs}{{.}''}$\n",
       "$\\newcommand{\\farcm}{{.}'}$\n",
       "$\\newcommand{\\arcsec}{''}$\n",
       "$\\newcommand{\\arcmin}{'}$\n",
       "$\\newcommand{\\ion}[2]{#1#2}$\n",
       "$\\newcommand{\\textsc}[1]{\\textrm{#1}}$\n",
       "$\\newcommand{\\hl}[1]{\\textrm{#1}}$\n",
       "$\\newcommand{\\au}{au}$\n",
       "$\\newcommand{\\juliet}{\\texttt{juliet}}$\n",
       "$\\newcommand{\\serval}{\\texttt{serval}}$\n",
       "$\\newcommand{\\raccoon}{\\texttt{raccoon}}$\n",
       "$\\newcommand{\\exostriker}{\\texttt{Exo-Striker}}$\n",
       "$\\newcommand{\\aliasfinder}{\\texttt{AliasFinder}}$\n",
       "$\\newcommand{\\tess}{TESS}$\n",
       "$\\newcommand{\\gaia}{\\textit{Gaia}}$\n",
       "$\\newcommand{\\jwst}{JWST}$\n",
       "$\\newcommand{\\wolf}{Wolf~1069}$\n",
       "$\\newcommand{\\inst}[1]{\\unskip^{\\instrefs{#1}}}$\n",
       "$\\newcommand{\\ms}{m s^{-1}}$\n",
       "$\\newcommand{\\mearth}{M_\\oplus}$\n",
       "$\\newcommand{\\rearth}{R_\\oplus}$\n",
       "$\\newcommand{\\prot}{169.3^{+3.7}_{-3.6}}$\n",
       "$\\newcommand{\\scsep}{\\newcommand{\\}{scsep}{,}}$\n",
       "$\\newcommand{\\}{scsep}$</div>\n",
       "\n",
       "<div class=\"macros\" style=\"visibility:hidden;\">\n",
       "$\\newcommand{$\\ensuremath$}{}$\n",
       "$\\newcommand{$\\xspace$}{}$\n",
       "$\\newcommand{$\\object$}[1]{\\texttt{#1}}$\n",
       "$\\newcommand{$\\farcs$}{{.}''}$\n",
       "$\\newcommand{$\\farcm$}{{.}'}$\n",
       "$\\newcommand{$\\arcsec$}{''}$\n",
       "$\\newcommand{$\\arcmin$}{'}$\n",
       "$\\newcommand{$\\ion$}[2]{#1#2}$\n",
       "$\\newcommand{$\\textsc$}[1]{\\textrm{#1}}$\n",
       "$\\newcommand{$\\hl$}[1]{\\textrm{#1}}$\n",
       "$\\newcommand{$\\au$}{au}$\n",
       "$\\newcommand{$\\juliet$}{\\texttt{juliet}}$\n",
       "$\\newcommand{$\\serval$}{\\texttt{serval}}$\n",
       "$\\newcommand{$\\raccoon$}{\\texttt{raccoon}}$\n",
       "$\\newcommand{$\\exostriker$}{\\texttt{Exo-Striker}}$\n",
       "$\\newcommand{$\\aliasfinder$}{\\texttt{AliasFinder}}$\n",
       "$\\newcommand{$\\tess$}{TESS}$\n",
       "$\\newcommand{$\\gaia$}{\\textit{Gaia}}$\n",
       "$\\newcommand{$\\jwst$}{JWST}$\n",
       "$\\newcommand{$\\wolf$}{Wolf~1069}$\n",
       "$\\newcommand{$\\inst$}[1]{\\unskip^{$\\inst$refs{#1}}}$\n",
       "$\\newcommand{$\\ms$}{m s^{-1}}$\n",
       "$\\newcommand{$\\mearth$}{M_\\oplus}$\n",
       "$\\newcommand{$\\rearth$}{R_\\oplus}$\n",
       "$\\newcommand{$\\prot$}{169.3^{+3.7}_{-3.6}}$\n",
       "$\\newcommand{\\scsep}{\\newcommand{\\}{scsep}{,}}$\n",
       "$\\newcommand{\\}{scsep}$</div>\n",
       "\n",
       "\n",
       "\n",
       "<div id=\"title\">\n",
       "\n",
       "# The CARMENES search for exoplanets around M dwarfs\n",
       "\n",
       "</div>\n",
       "<div id=\"comments\">\n",
       "\n",
       "[![arXiv](https://img.shields.io/badge/arXiv-2301.02477-b31b1b.svg)](https://arxiv.org/abs/2301.02477)<mark>Appeared on: 2023-01-09</mark> - _26 pages, 15 figures_\n",
       "\n",
       "</div>\n",
       "<div id=\"authors\">\n",
       "\n",
       "<mark><mark>D. Kossakowski</mark></mark>, et al. -- incl., <mark><mark>M. Kürster</mark></mark>, <mark><mark>T. Trifonov</mark></mark>, <mark><mark>Th. Henning</mark></mark>, <mark><mark>R. Burn</mark></mark>, <mark><mark>E. Herrero</mark></mark>, <mark><mark>A. Pavlov</mark></mark>, <mark><mark>M. Pérez-Torres</mark></mark>\n",
       "\n",
       "</div>\n",
       "<div id=\"abstract\">\n",
       "\n",
       "**Abstract:** We present the discovery of an Earth-mass planet ($M_\\textnormal{b}\\sin i = 1.36\\pm0.21 M_\\oplus$) on a\\num{15.6}d orbit of a relatively nearby ($d \\sim$9.6 pc) and low-mass ($0.167 \\pm 0.011 M_\\odot$) M5.0 V star,$\\wolf$. Sitting at a separation of$0.0672\\pm0.0014$\\auaway from the host star puts$\\wolf$b in the habitable zone (HZ), receiving an incident flux of$S = 0.652\\pm 0.029 S_\\oplus$.The planetary signal was detected using telluric-corrected radial-velocity (RV) data from the CARMENES spectrograph, amounting to a total of 262 spectroscopic observations covering almost four years. There are additional long-period signals in the RVs, one of which we attribute to the stellar rotation period. This is possible thanks to our photometric analysis including new, well-sampled monitoring campaigns undergone with the OSN and TJO facilities that supplement archival photometry (i.e., from MEarth and SuperWASP), and this yielded an updated rotational period range of$P_\\textnormal{rot} = 150-170$d, with a likely value at$\\prot$d. The stellar activity indicators provided by the CARMENES spectra likewise demonstrate evidence for the slow rotation period, though not as accurately due to possible factors such as signal aliasing or spot evolution.Our detectability limits indicate that additional planets more massive than one Earth mass with orbital periods of less than 10 days can be ruled out, suggesting that perhaps$\\wolf$b had a violent formation history. This planet is also the sixth closest Earth-mass planet situated in the conservative HZ, after$\\object${Proxima Centauri}b,$\\object${GJ 1061}d,$\\object${Teegarden's Star}c, and$\\object${GJ 1002}b and c. Despite not transiting,$\\wolf$b is nonetheless a very promising target for future three-dimensional climate models to investigate various habitability cases as well as for sub-$\\ms$RV campaigns to search for potential inner sub-Earth-mass planets in order to test planet formation theories.\n",
       "\n",
       "</div>\n",
       "\n",
       "<div id=\"div_fig1\">\n",
       "\n",
       "<img src=\"tmp_2301.02477/./20221205_wolf1069_periodogram_carmvis_rv_tellcorr_2cols_equalzoom.png\" alt=\"Fig10\" width=\"100%\"/>\n",
       "\n",
       "**Figure 10. -** GLS periodograms for the RVs of $\\wolf$ after sequentially subtracting out the most prominent signals. The horizontal dashed, dot-dashed, and dotted lines represent the 10 \\%, 1 \\%, and 0.1 \\% FAP levels (from bottom to top). There were no significant signals with periods shorter than 10 d other than the aliases due to the daily sampling. The right panel is a closer zoom-in of the left panel to highlight the longer-period signals.\n",
       "    The 15.6 d planetary signal is illustrated with a vertical blue solid line, and the 90.3 d signal and its alias due to the 270-d sampling with a green solid and dashed line, respectively. The range for the photometric rotation period is shaded in orange, where the stellar rotation period within the RVs is marked with an orange solid line.\n",
       "    The component of residual telluric contamination at 388 d and its alias due to the 365-d sampling period are also represented with a vertical magenta solid and dashed line, respectively.\n",
       "    Panel (a): the window function of the data set. Panel (b): no signal fitted, solely the original RVs with an offset and jitter term. Panel (c): residuals after subtracting the 15.6 d signal. Panel (d): residuals after subtracting a simultaneous model fit of two sinusoids at 15.6 d and 90.3 d. Panel (e): residuals after subtracting a simultaneous model fit of three sinusoids at 15.6 d, 90.3 d, and 165 d. Panel (f): residuals after subtracting the final model choice including 1 Keplerian at 15.6 d (further described in Sect. \\ref{sec:modelcomparison}).\n",
       "     (*fig:rvperiodogram*)\n",
       "\n",
       "</div>\n",
       "<div id=\"div_fig2\">\n",
       "\n",
       "<img src=\"tmp_2301.02477/./20221205_wolf1069_periodogram_carmvis_tellcorr_2121_bluered_2cols_zoom_martinfap.png\" alt=\"Fig1\" width=\"100%\"/>\n",
       "\n",
       "**Figure 1. -** GLS periodograms of the telluric-only (nonTC subtracted from TC; \\textit{top}), nonTC (\\textit{middle}) and TC (\\textit{bottom}) RVs. The red and blue colors represent the \"blue\" and \"red\" subsets within the VIS channel of the CARMENES instrument (Sect. \\ref{sec:90dsignal}). The vertical lines match those in Fig. \\ref{fig:rvperiodogram} for consistency and the horizontal lines are identical in the bottom panels but differ slightly from the top panel.\n",
       "     (*fig:redblue*)\n",
       "\n",
       "</div>\n",
       "<div id=\"div_fig3\">\n",
       "\n",
       "<img src=\"tmp_2301.02477/./rv_vs_time.png\" alt=\"Fig7.1\" width=\"50%\"/><img src=\"tmp_2301.02477/./phased_rv_pl1.png\" alt=\"Fig7.2\" width=\"50%\"/>\n",
       "\n",
       "**Figure 7. -** RV time series for and phase-folded RVs for $\\wolf$ b\n",
       "RV time series and phase-folded plots for $\\wolf$ b.\n",
       "\\textit{Top panel:} CARMENES VIS RV measurements for $\\wolf$  along with the best-fit model (dark gray line) and the stellar rotation period modeled by a dSHO-GP (orange). The light gray band indicates the 68\\% confidence interval of the model. \\textit{Bottom panel:} RVs phase-folded to the period of $\\wolf$ b at 15.6 d ($K_{\\rm b} = 1.07\\pm0.17$\\ms) and with the GP component subtracted out. The black circles represent the data points binned to 0.1 in phase space for visualization purposes. The bottom panel for each plot represents the residuals after subtracting out the model. There are two data points that did not fit within the boundary for visual reasons. (*fig:rv*)\n",
       "\n",
       "</div>"
      ],
      "text/plain": [
       "<IPython.core.display.Markdown object>"
      ]
     },
     "metadata": {},
     "output_type": "display_data"
    }
   ],
   "source": [
    "[display(Markdown(k[1])) for k in documents];"
   ]
  },
  {
   "cell_type": "markdown",
   "id": "873873a4",
   "metadata": {
    "papermill": {
     "duration": 0.048703,
     "end_time": "2023-01-09T04:10:46.652968",
     "exception": false,
     "start_time": "2023-01-09T04:10:46.604265",
     "status": "completed"
    },
    "tags": []
   },
   "source": [
    "# Create HTML index"
   ]
  },
  {
   "cell_type": "code",
   "execution_count": 10,
   "id": "cf665672",
   "metadata": {
    "execution": {
     "iopub.execute_input": "2023-01-09T04:10:46.683861Z",
     "iopub.status.busy": "2023-01-09T04:10:46.683375Z",
     "iopub.status.idle": "2023-01-09T04:10:46.699183Z",
     "shell.execute_reply": "2023-01-09T04:10:46.698356Z"
    },
    "papermill": {
     "duration": 0.03661,
     "end_time": "2023-01-09T04:10:46.703851",
     "exception": false,
     "start_time": "2023-01-09T04:10:46.667241",
     "status": "completed"
    },
    "tags": []
   },
   "outputs": [
    {
     "name": "stdout",
     "output_type": "stream",
     "text": [
      "158  publications in the last 7 days.\n",
      "\t _build/html/2301.02477.md\n",
      "\t _build/html/2301.02313.md\n",
      "\t _build/html/2301.02265.md\n",
      "\t _build/html/2301.01937.md\n",
      "\t _build/html/2301.01895.md\n",
      "\t _build/html/2301.01684.md\n",
      "\t _build/html/2301.01306.md\n",
      "\t _build/html/2301.00881.md\n",
      "\t _build/html/2301.00854.md\n",
      "\t _build/html/2301.00578.md\n",
      "\t _build/html/2212.12039.md\n",
      "\t _build/html/2212.11991.md\n",
      "\t _build/html/2212.11425.md\n",
      "\t _build/html/2212.11177.md\n",
      "\t _build/html/2212.10804.md\n",
      "\t _build/html/2212.10512.md\n",
      "\t _build/html/2212.09766.md\n",
      "\t _build/html/2212.09675.md\n",
      "\t _build/html/2212.09661.md\n",
      "\t _build/html/2212.09652.md\n",
      "\t _build/html/2212.09443.md\n",
      "\t _build/html/2212.09307.md\n",
      "\t _build/html/2212.09168.md\n",
      "\t _build/html/2212.09159.md\n",
      "\t _build/html/2212.08702.md\n",
      "\t _build/html/2212.07332.md\n",
      "\t _build/html/2212.06434.md\n",
      "\t _build/html/2212.04710.md\n",
      "\t _build/html/2212.04026.md\n",
      "\t _build/html/2212.03563.md\n",
      "\t _build/html/2212.03514.md\n",
      "\t _build/html/2212.02667.md\n",
      "\t _build/html/2212.02627.md\n",
      "\t _build/html/2212.02235.md\n",
      "\t _build/html/2212.01707.md\n",
      "\t _build/html/2212.01526.md\n",
      "\t _build/html/2212.01397.md\n",
      "\t _build/html/2212.01291.md\n",
      "\t _build/html/2212.01281.md\n",
      "\t _build/html/2212.00812.md\n",
      "\t _build/html/2212.00811.md\n",
      "\t _build/html/2212.00806.md\n",
      "\t _build/html/2212.00047.md\n",
      "\t _build/html/2212.00032.md\n",
      "\t _build/html/2211.16996.md\n",
      "\t _build/html/2211.16510.md\n",
      "\t _build/html/2211.16123.md\n",
      "\t _build/html/2211.15816.md\n",
      "\t _build/html/2211.15698.md\n",
      "\t _build/html/2211.15576.md\n",
      "\t _build/html/2211.15434.md\n",
      "\t _build/html/2211.15288.md\n",
      "\t _build/html/2211.15224.md\n",
      "\t _build/html/2211.14543.md\n",
      "\t _build/html/2211.14330.md\n",
      "\t _build/html/2211.14322.md\n",
      "\t _build/html/2211.14132.md\n",
      "\t _build/html/2211.13811.md\n",
      "\t _build/html/2211.13426.md\n",
      "\t _build/html/2211.13318.md\n",
      "\t _build/html/2211.13146.md\n",
      "\t _build/html/2211.12613.md\n",
      "\t _build/html/2211.11767.md\n",
      "\t _build/html/2211.09840.md\n",
      "\t _build/html/2211.09217.md\n",
      "\t _build/html/2211.08493.md\n",
      "\t _build/html/2211.08487.md\n",
      "\t _build/html/2211.08294.md\n",
      "\t _build/html/2211.07667.md\n",
      "\t _build/html/2211.07659.md\n",
      "\t _build/html/2211.06454.md\n",
      "\t _build/html/2211.06205.md\n",
      "\t _build/html/2211.06194.md\n",
      "\t _build/html/2211.05022.md\n",
      "\t _build/html/2211.04048.md\n",
      "\t _build/html/2211.03641.md\n",
      "\t _build/html/2211.02502.md\n",
      "\t _build/html/2211.01474.md\n",
      "\t _build/html/2211.00667.md\n",
      "\t _build/html/2211.00657.md\n",
      "\t _build/html/2211.00087.md\n",
      "\t _build/html/2211.00036.md\n",
      "\t _build/html/2211.00020.md\n",
      "\t _build/html/2211.00010.md\n",
      "\t _build/html/2210.17434.md\n",
      "\t _build/html/2210.12412.md\n",
      "\t _build/html/2210.11926.md\n",
      "\t _build/html/2210.11551.md\n",
      "\t _build/html/2210.11103.md\n",
      "\t _build/html/2210.10707.md\n",
      "\t _build/html/2210.09930.md\n",
      "\t _build/html/2210.08996.md\n",
      "\t _build/html/2210.08517.md\n",
      "\t _build/html/2210.08510.md\n",
      "\t _build/html/2210.08078.md\n",
      "\t _build/html/2210.06504.md\n",
      "\t _build/html/2210.05695.md\n",
      "\t _build/html/2210.05595.md\n",
      "\t _build/html/2210.05505.md\n",
      "\t _build/html/2210.04721.md\n",
      "\t _build/html/2210.03615.md\n",
      "\t _build/html/2210.01811.md\n",
      "\t _build/html/2210.01809.md\n",
      "\t _build/html/2210.01556.md\n",
      "\t _build/html/2210.00863.md\n",
      "\t _build/html/2210.00560.md\n",
      "\t _build/html/2209.15403.md\n",
      "\t _build/html/2209.15110.md\n",
      "\t _build/html/2209.14410.md\n",
      "\t _build/html/2209.14396.md\n",
      "\t _build/html/2209.13717.md\n",
      "\t _build/html/2209.13336.md\n",
      "\t _build/html/2209.12906.md\n",
      "\t _build/html/2209.11781.md\n",
      "\t _build/html/2209.11602.md\n",
      "\t _build/html/2209.11248.md\n",
      "\t _build/html/2209.11096.md\n",
      "\t _build/html/2209.10618.md\n",
      "\t _build/html/2209.09914.md\n",
      "\t _build/html/2209.09823.md\n",
      "\t _build/html/2209.08242.md\n",
      "\t _build/html/2209.08120.md\n",
      "\t _build/html/2209.08106.md\n",
      "\t _build/html/2209.07962.md\n",
      "\t _build/html/2209.07931.md\n",
      "\t _build/html/2209.06833.md\n",
      "\t _build/html/2209.05814.md\n",
      "\t _build/html/2209.05593.md\n",
      "\t _build/html/2209.04304.md\n",
      "\t _build/html/2209.03367.md\n",
      "\t _build/html/2209.02872.md\n",
      "\t _build/html/2209.02725.md\n",
      "\t _build/html/2209.02722.md\n",
      "\t _build/html/2209.02092.md\n",
      "\t _build/html/2209.01125.md\n",
      "\t _build/html/2209.00828.md\n",
      "\t _build/html/2209.00363.md\n",
      "\t _build/html/2208.14927.md\n",
      "\t _build/html/2208.09335.md\n",
      "\t _build/html/2208.08872.md\n",
      "\t _build/html/2204.06393.md\n",
      "\t _build/html/2204.03335.md\n",
      "\t _build/html/2204.03253.md\n",
      "\t _build/html/2204.02998.md\n",
      "\t _build/html/2204.02109.md\n",
      "\t _build/html/2204.02017.md\n",
      "\t _build/html/2204.01824.md\n",
      "\t _build/html/2204.01758.md\n",
      "\t _build/html/2204.01245.md\n",
      "\t _build/html/2204.00793.md\n",
      "\t _build/html/2204.00342.md\n",
      "\t _build/html/2203.16959.md\n",
      "\t _build/html/2203.16856.md\n",
      "\t _build/html/2203.16735.md\n",
      "\t _build/html/2203.16734.md\n",
      "\t _build/html/2203.16504.md\n",
      "\t _build/html/2203.15822.md\n",
      "\t _build/html/2203.15811.md\n"
     ]
    }
   ],
   "source": [
    "from datetime import datetime, timedelta, timezone\n",
    "from glob import glob\n",
    "\n",
    "files = glob('_build/html/*.md')\n",
    "days = 7\n",
    "now = datetime.today()\n",
    "res = []\n",
    "for fk in files:\n",
    "    stat_result = os.stat(fk).st_ctime\n",
    "    modified = datetime.fromtimestamp(stat_result, tz=timezone.utc).replace(tzinfo=None)\n",
    "    delta = now.today() - modified\n",
    "    if delta <= timedelta(days=days):\n",
    "        res.append((delta.seconds, fk))\n",
    "res = [k[1] for k in reversed(sorted(res, key=lambda x:x[1]))]\n",
    "npub = len(res)\n",
    "print(len(res), f\" publications in the last {days:d} days.\")\n",
    "[ print('\\t', k) for k in res ];"
   ]
  },
  {
   "cell_type": "code",
   "execution_count": 11,
   "id": "52ca0208",
   "metadata": {
    "execution": {
     "iopub.execute_input": "2023-01-09T04:10:46.737775Z",
     "iopub.status.busy": "2023-01-09T04:10:46.736717Z",
     "iopub.status.idle": "2023-01-09T04:10:46.745633Z",
     "shell.execute_reply": "2023-01-09T04:10:46.744808Z"
    },
    "papermill": {
     "duration": 0.02851,
     "end_time": "2023-01-09T04:10:46.748307",
     "exception": false,
     "start_time": "2023-01-09T04:10:46.719797",
     "status": "completed"
    },
    "scrolled": false,
    "tags": []
   },
   "outputs": [],
   "source": [
    "def create_carousel(npub=4):\n",
    "    \"\"\" Generate the HTML code for a carousel with `npub` slides \"\"\"\n",
    "    carousel = [\"\"\"<section class=\"carousel\" aria-label=\"Gallery\">\"\"\",\n",
    "                \"\"\"  <ol class=\"carousel__viewport\">\"\"\",\n",
    "    ]\n",
    "    for k in range(1, npub + 1):\n",
    "        prev_ = k - 1\n",
    "        next_ = k + 1\n",
    "        if prev_ <= 0:\n",
    "            prev_ = npub\n",
    "        if next_ > npub:\n",
    "            next_ = 1\n",
    "        text  = f\"\"\"    <li id=\"carousel__slide{k}\" tabindex=\"0\" class=\"carousel__slide\">\\n\"\"\"\n",
    "        text += f\"\"\"       <div class=\"carousel__snapper\">\\n\"\"\"\n",
    "        text += f\"\"\"         <a href=\"#carousel__slide{prev_}\" class=\"carousel__prev\">Go to previous slide</a>\\n\"\"\"\n",
    "        text += f\"\"\"         <a href=\"#carousel__slide{next_}\" class=\"carousel__next\">Go to next slide</a>\\n\"\"\"\n",
    "        text += f\"\"\"         <div id=\"slide{k}_content\" class=\"md_view\" >Content {k}</div>\\n\"\"\"\n",
    "        text += f\"\"\"       </div>\\n\"\"\"\n",
    "        text += f\"\"\"    </li>\"\"\"\n",
    "        carousel.append(text)\n",
    "\n",
    "    carousel.extend([\n",
    "        \"\"\"  </ol>\"\"\",\n",
    "        \"\"\"  <aside class=\"carousel__navigation\">\"\"\",\n",
    "        \"\"\"    <ol class=\"carousel__navigation-list\">\"\"\"])\n",
    "\n",
    "    for k in range(1, npub + 1):\n",
    "        text  = f\"\"\"      <li class=\"carousel__navigation-item\">\\n\"\"\"\n",
    "        text += f\"\"\"        <a href=\"#carousel__slide{k}\" class=\"carousel__navigation-button\">Go to {k}</a>\\n\"\"\"\n",
    "        text += f\"\"\"      </li>\"\"\"\n",
    "        carousel.append(text)\n",
    "    carousel.extend([\"\"\"    </ol>\"\"\", \"\"\"  </aside>\"\"\", \"\"\"</section>\"\"\"])\n",
    "\n",
    "    return '\\n'.join(carousel)"
   ]
  },
  {
   "cell_type": "code",
   "execution_count": 12,
   "id": "a6eac5b6",
   "metadata": {
    "execution": {
     "iopub.execute_input": "2023-01-09T04:10:46.778970Z",
     "iopub.status.busy": "2023-01-09T04:10:46.778385Z",
     "iopub.status.idle": "2023-01-09T04:10:46.790956Z",
     "shell.execute_reply": "2023-01-09T04:10:46.790195Z"
    },
    "papermill": {
     "duration": 0.03048,
     "end_time": "2023-01-09T04:10:46.793062",
     "exception": false,
     "start_time": "2023-01-09T04:10:46.762582",
     "status": "completed"
    },
    "scrolled": false,
    "tags": []
   },
   "outputs": [],
   "source": [
    "carousel = create_carousel(npub)\n",
    "docs = ', '.join(['\"{0:s}\"'.format(k.split('/')[-1]) for k in res])\n",
    "slides = ', '.join([f'\"slide{k}_content\"' for k in range(1, npub + 1)])\n",
    "\n",
    "script = f\"\"\"\n",
    "const docs = [{docs}]\n",
    "\n",
    "const slides = [{slides}]\n",
    "\"\"\" + \"\"\"\n",
    "async function run() {\n",
    "    for (let i = 0; i < docs.length; i++) {\n",
    "        let file = await fetch(docs[i]);\n",
    "        let text = await file.text()\n",
    "        document.getElementById(slides[i]).innerHTML =\n",
    "            marked.parse(text);\n",
    "    }\n",
    "    hljs.highlightAll();\n",
    "}\n",
    "run()\n",
    "\"\"\"\n",
    "\n",
    "page = f\"\"\"<!doctype html>\n",
    "<html lang=\"en\">\n",
    "\n",
    "<head>\n",
    "  <meta charset=\"utf-8\">\n",
    "  <meta name=\"viewport\" content=\"width=device-width, initial-scale=1\">\n",
    "  <!-- Bootstrap CSS -->\n",
    "  <link href=\"https://cdn.jsdelivr.net/npm/bootstrap@5.0.2/dist/css/bootstrap.min.css\" rel=\"stylesheet\"\n",
    "   integrity=\"sha384-EVSTQN3/azprG1Anm3QDgpJLIm9Nao0Yz1ztcQTwFspd3yD65VohhpuuCOmLASjC\" crossorigin=\"anonymous\">\n",
    "  <!-- highlight.js CSS -->\n",
    "  <link rel=\"stylesheet\" href=\"https://cdnjs.cloudflare.com/ajax/libs/highlight.js/11.1.0/styles/default.min.css\">\n",
    "  <!-- Mathjax 3 -->\n",
    "  <script type=\"text/javascript\" id=\"MathJax-config\" src=\"mathjax_config.js\"> </script>\n",
    "  <script type=\"text/javascript\" id=\"MathJax-script\" async \n",
    "    src=\"https://cdn.jsdelivr.net/npm/mathjax@3/es5/tex-mml-chtml.js\">\n",
    "  </script>\n",
    "  <link rel=\"stylesheet\" href=\"index_carousel.css\">\n",
    "  <link rel=\"icon\" type=\"image/x-icon\" href=\"https://www.mpia.de/assets/touch-icon-32x32-a66937bcebc4e8894ebff1f41a366c7c7220fd97a38869ee0f2db65a9f59b6c1.png\">\n",
    "  <title>MPIA Arxiv on deck!</title>\n",
    "</head>\n",
    "\n",
    "<body>\n",
    "  <div id=\"header\"> <img src=\"header_banner.png\" width=\"100%\"></div>\n",
    "  <div id=\"suptitle\"> 7-day archives </div>\n",
    "  <div id=\"info\">\n",
    "    <img src=\"https://pngimg.com/uploads/github/github_PNG58.png\" height=30rem></img>\n",
    "    <a href=https://github.com/mpi-astronomy/arxiv_display style=\"color:black;\">github/mpi-astronomy/arxiv_display</a> \n",
    "  </div>\n",
    "  {carousel:s}\n",
    "</body>\n",
    "\n",
    "<!-- Render Markdown -->\n",
    "\n",
    "<body>\n",
    "  <!-- highlight.js: https://highlightjs.org/download/ -->\n",
    "  <script src=\"https://cdnjs.cloudflare.com/ajax/libs/highlight.js/11.5.0/highlight.min.js\"></script>\n",
    "  <!-- marked.js -->\n",
    "  <script src=\"https://cdn.jsdelivr.net/npm/marked/marked.min.js\"></script>\n",
    "  <script>{script:s}</script>\n",
    "</body>\n",
    "</html>\n",
    "\"\"\"\n",
    "with open(\"_build/html/index_7days.html\", 'w') as fout:\n",
    "    fout.write(page)"
   ]
  },
  {
   "cell_type": "markdown",
   "id": "1cebacbc",
   "metadata": {
    "papermill": {
     "duration": 0.013507,
     "end_time": "2023-01-09T04:10:46.818888",
     "exception": false,
     "start_time": "2023-01-09T04:10:46.805381",
     "status": "completed"
    },
    "tags": []
   },
   "source": [
    "# Debugging papers"
   ]
  },
  {
   "cell_type": "raw",
   "id": "debe7cc6",
   "metadata": {
    "papermill": {
     "duration": 0.011745,
     "end_time": "2023-01-09T04:10:46.842524",
     "exception": false,
     "start_time": "2023-01-09T04:10:46.830779",
     "status": "completed"
    },
    "tags": []
   },
   "source": [
    "raise NotImplementedError(\"Manual Stop\")"
   ]
  },
  {
   "cell_type": "raw",
   "id": "eb169192",
   "metadata": {
    "papermill": {
     "duration": 0.011421,
     "end_time": "2023-01-09T04:10:46.866554",
     "exception": false,
     "start_time": "2023-01-09T04:10:46.855133",
     "status": "completed"
    },
    "scrolled": true,
    "tags": []
   },
   "source": [
    "from IPython.display import display, Markdown\n",
    "from TexSoup import TexSoup\n",
    "import re\n",
    "\n",
    "def bracket_error(source: str):\n",
    "    \"\"\" Find problematic portions of the document \"\"\"\n",
    "    \n",
    "    print(\"len(source)\", len(source))\n",
    "    \n",
    "    # Checking header\n",
    "    begin_doc = next(re.finditer(r'\\\\begin\\{document\\}', doc.source)).span()[1]\n",
    "    header = source[:begin_doc]\n",
    "    text = header + r\"\\n\\end{document}\"\n",
    "\n",
    "    try:\n",
    "        # print(\"Header check... \", end='')\n",
    "        TexSoup(text)\n",
    "        display(Markdown(f\"**[OK]** - Header\"))\n",
    "    except:\n",
    "        raise RuntimeError(\"Error in the header\")\n",
    "        \n",
    "    # Check the text per section until the end.\n",
    "    # Do not stop and try them all.\n",
    "    \n",
    "    problematic_text = []\n",
    "    \n",
    "    sections = ([(0, begin_doc, 'until first section')] + \n",
    "                [(g.span()[0], g.span()[1], g.group()) for g in re.finditer(r'\\\\section\\{.*\\}', source)] +\n",
    "                [(g.span()[0], g.span()[1], g.group()) for g in re.finditer(r'\\\\begin\\{appendix\\}', source)]\n",
    "               )\n",
    "    sections.append([len(source), len(source), 'end'])\n",
    "    \n",
    "    sections = sorted(sections, key=lambda x: x[0])\n",
    "    \n",
    "    prev_pos, prev_name = (0, 'header')\n",
    "    parsed = []\n",
    "    \n",
    "    for span, span_end, name in sections:\n",
    "\n",
    "        if span - prev_pos <= 0:\n",
    "            continue\n",
    "            \n",
    "\n",
    "        text = source[prev_pos:span]\n",
    "        if prev_pos > begin_doc:\n",
    "            text = r\"\\n\\begin{document}\" + text + r\"\\n\\end{document}\"\n",
    "        else:\n",
    "            text = text + r\"\\n\\end{document}\"\n",
    "        try:\n",
    "            #print(f\"{prev_pos}:{prev_name}-->{span}:{name} check... \", end='')\n",
    "            parsed.append(TexSoup(text, tolerance=1))  # allow not ending env\n",
    "            display(Markdown(f\"**[OK]** - *{prev_pos}*:{prev_name} &rarr; *{span}*:{name}\"))\n",
    "            # print(\"ok\")\n",
    "\n",
    "            prev_pos = span\n",
    "            prev_name = name\n",
    "        except:\n",
    "            # print(f\"error between {prev_pos} and {span}\")\n",
    "            display(Markdown(f\"**[ERR]** *{prev_pos}*:{prev_name} &rarr; *{span}*:{name}\"))\n",
    "            problematic_text.append((prev_pos, source[prev_pos:span]))\n",
    "            prev_pos = span\n",
    "            prev_name = name\n",
    "            # raise\n",
    "    return problematic_text, parsed\n",
    "\n",
    "\n",
    "def check_environment(text, offset=0):\n",
    "    \"\"\" Check environment \"\"\"\n",
    "    env = re.compile(r\"\\\\begin\\{(?P<env>.*)\\}(.*)\\\\end\\{(?P=env)\\}\", re.DOTALL)\n",
    "\n",
    "    for match in env.finditer(text):\n",
    "        beg, end = match.span()\n",
    "        beg += offset\n",
    "        end += offset\n",
    "        envname = match.groups()[0]\n",
    "        try:\n",
    "            latex.TexSoup(match.group())\n",
    "        except Exception as e:\n",
    "            display(e)\n",
    "            print(f\"Error in {envname:s} between {beg} and {end}\")\n",
    "            return match.groups()[1], beg, end"
   ]
  },
  {
   "cell_type": "raw",
   "id": "2315e835",
   "metadata": {
    "papermill": {
     "duration": 0.012619,
     "end_time": "2023-01-09T04:10:46.891549",
     "exception": false,
     "start_time": "2023-01-09T04:10:46.878930",
     "status": "completed"
    },
    "scrolled": false,
    "tags": []
   },
   "source": [
    "import importlib\n",
    "importlib.reload(latex)\n",
    "which = \"2204.03253\"\n",
    "paper_id = f'{which:s}'\n",
    "folder = f'tmp_{paper_id:s}'\n",
    "\n",
    "if not os.path.isdir(folder):\n",
    "    folder = retrieve_document_source(f\"{paper_id}\", f'tmp_{paper_id}')\n",
    "\n",
    "try:\n",
    "    doc = latex.LatexDocument(folder, validation=validation)    \n",
    "except AffiliationError as affilerror:\n",
    "    msg = f\"ArXiv:{paper_id:s} is not an MPIA paper... \" + str(affilerror)\n",
    "    print(msg)\n",
    "\n",
    "\n",
    "# Hack because sometimes author parsing does not work well\n",
    "if (len(doc.authors) != len(paper['authors'])):\n",
    "    doc._authors = paper['authors']\n",
    "if (doc.abstract) in (None, ''):\n",
    "    doc._abstract = paper['abstract']\n",
    "\n",
    "doc.comment = get_markdown_badge(paper_id) + \" _\" + paper['comments'] + \"_\"\n",
    "doc.highlight_authors_in_list(hl_list)\n",
    "\n",
    "full_md = doc.generate_markdown_text()"
   ]
  },
  {
   "cell_type": "raw",
   "id": "dd3781db",
   "metadata": {
    "papermill": {
     "duration": 0.01176,
     "end_time": "2023-01-09T04:10:46.914685",
     "exception": false,
     "start_time": "2023-01-09T04:10:46.902925",
     "status": "completed"
    },
    "scrolled": false,
    "tags": []
   },
   "source": [
    "doc"
   ]
  },
  {
   "cell_type": "raw",
   "id": "c6eed834",
   "metadata": {
    "papermill": {
     "duration": 0.01285,
     "end_time": "2023-01-09T04:10:46.940269",
     "exception": false,
     "start_time": "2023-01-09T04:10:46.927419",
     "status": "completed"
    },
    "tags": []
   },
   "source": [
    "# [check_environment(k) for k in bracket_error(doc.source)]\n",
    "_, _, a = latex.get_content_per_section(doc.source, verbose=True)\n",
    "if not a:\n",
    "    print(\"no issues per section\")\n",
    "for ak in a:\n",
    "    r = check_environment(ak[1], offset=ak[0])\n",
    "    print(r[1], r[2])\n",
    "    print(r[0])"
   ]
  },
  {
   "cell_type": "code",
   "execution_count": null,
   "id": "71ce768a",
   "metadata": {
    "papermill": {
     "duration": 0.012015,
     "end_time": "2023-01-09T04:10:46.965774",
     "exception": false,
     "start_time": "2023-01-09T04:10:46.953759",
     "status": "completed"
    },
    "tags": []
   },
   "outputs": [],
   "source": []
  }
 ],
 "metadata": {
  "kernelspec": {
   "display_name": "Python 3.10.6 64-bit",
   "language": "python",
   "name": "python3"
  },
  "language_info": {
   "codemirror_mode": {
    "name": "ipython",
    "version": 3
   },
   "file_extension": ".py",
   "mimetype": "text/x-python",
   "name": "python",
   "nbconvert_exporter": "python",
   "pygments_lexer": "ipython3",
   "version": "3.9.16"
  },
  "papermill": {
   "default_parameters": {},
   "duration": 157.14414,
   "end_time": "2023-01-09T04:10:47.299368",
   "environment_variables": {},
   "exception": null,
   "input_path": "MPIA daily digest.ipynb",
   "output_path": "log.ipynb",
   "parameters": {},
   "start_time": "2023-01-09T04:08:10.155228",
   "version": "2.4.0"
  },
  "vscode": {
   "interpreter": {
    "hash": "e7370f93d1d0cde622a1f8e1c04877d8463912d04d973331ad4851f04de6915a"
   }
  },
  "widgets": {
   "application/vnd.jupyter.widget-state+json": {
    "state": {
     "09c3c5c365414791abc9bb00ba0c4674": {
      "model_module": "@jupyter-widgets/base",
      "model_module_version": "2.0.0",
      "model_name": "LayoutModel",
      "state": {
       "_model_module": "@jupyter-widgets/base",
       "_model_module_version": "2.0.0",
       "_model_name": "LayoutModel",
       "_view_count": null,
       "_view_module": "@jupyter-widgets/base",
       "_view_module_version": "2.0.0",
       "_view_name": "LayoutView",
       "align_content": null,
       "align_items": null,
       "align_self": null,
       "border_bottom": null,
       "border_left": null,
       "border_right": null,
       "border_top": null,
       "bottom": null,
       "display": null,
       "flex": null,
       "flex_flow": null,
       "grid_area": null,
       "grid_auto_columns": null,
       "grid_auto_flow": null,
       "grid_auto_rows": null,
       "grid_column": null,
       "grid_gap": null,
       "grid_row": null,
       "grid_template_areas": null,
       "grid_template_columns": null,
       "grid_template_rows": null,
       "height": null,
       "justify_content": null,
       "justify_items": null,
       "left": null,
       "margin": null,
       "max_height": null,
       "max_width": null,
       "min_height": null,
       "min_width": null,
       "object_fit": null,
       "object_position": null,
       "order": null,
       "overflow": null,
       "padding": null,
       "right": null,
       "top": null,
       "visibility": null,
       "width": null
      }
     },
     "28591d94c4c64958a71b30cfe988268e": {
      "model_module": "@jupyter-widgets/controls",
      "model_module_version": "2.0.0",
      "model_name": "HTMLModel",
      "state": {
       "_dom_classes": [],
       "_model_module": "@jupyter-widgets/controls",
       "_model_module_version": "2.0.0",
       "_model_name": "HTMLModel",
       "_view_count": null,
       "_view_module": "@jupyter-widgets/controls",
       "_view_module_version": "2.0.0",
       "_view_name": "HTMLView",
       "description": "",
       "description_allow_html": false,
       "layout": "IPY_MODEL_66d3af14a02240e7a4a375d25565b72e",
       "placeholder": "​",
       "style": "IPY_MODEL_50e82e1c9c974e94bec6f6db75b9b934",
       "tabbable": null,
       "tooltip": null,
       "value": "100%"
      }
     },
     "2d5a426b14724a7caa1c9c82aa13320e": {
      "model_module": "@jupyter-widgets/controls",
      "model_module_version": "2.0.0",
      "model_name": "ProgressStyleModel",
      "state": {
       "_model_module": "@jupyter-widgets/controls",
       "_model_module_version": "2.0.0",
       "_model_name": "ProgressStyleModel",
       "_view_count": null,
       "_view_module": "@jupyter-widgets/base",
       "_view_module_version": "2.0.0",
       "_view_name": "StyleView",
       "bar_color": null,
       "description_width": ""
      }
     },
     "401903fc0d864b61bfefea5780d75e6e": {
      "model_module": "@jupyter-widgets/controls",
      "model_module_version": "2.0.0",
      "model_name": "HTMLModel",
      "state": {
       "_dom_classes": [],
       "_model_module": "@jupyter-widgets/controls",
       "_model_module_version": "2.0.0",
       "_model_name": "HTMLModel",
       "_view_count": null,
       "_view_module": "@jupyter-widgets/controls",
       "_view_module_version": "2.0.0",
       "_view_name": "HTMLView",
       "description": "",
       "description_allow_html": false,
       "layout": "IPY_MODEL_e099cd0a26d84e1ca538cbefee3636ca",
       "placeholder": "​",
       "style": "IPY_MODEL_d528e9449f2e45ec8157983b9f24c40e",
       "tabbable": null,
       "tooltip": null,
       "value": " 20/20 [02:09&lt;00:00,  4.91s/it]"
      }
     },
     "50e82e1c9c974e94bec6f6db75b9b934": {
      "model_module": "@jupyter-widgets/controls",
      "model_module_version": "2.0.0",
      "model_name": "HTMLStyleModel",
      "state": {
       "_model_module": "@jupyter-widgets/controls",
       "_model_module_version": "2.0.0",
       "_model_name": "HTMLStyleModel",
       "_view_count": null,
       "_view_module": "@jupyter-widgets/base",
       "_view_module_version": "2.0.0",
       "_view_name": "StyleView",
       "background": null,
       "description_width": "",
       "font_size": null,
       "text_color": null
      }
     },
     "66d3af14a02240e7a4a375d25565b72e": {
      "model_module": "@jupyter-widgets/base",
      "model_module_version": "2.0.0",
      "model_name": "LayoutModel",
      "state": {
       "_model_module": "@jupyter-widgets/base",
       "_model_module_version": "2.0.0",
       "_model_name": "LayoutModel",
       "_view_count": null,
       "_view_module": "@jupyter-widgets/base",
       "_view_module_version": "2.0.0",
       "_view_name": "LayoutView",
       "align_content": null,
       "align_items": null,
       "align_self": null,
       "border_bottom": null,
       "border_left": null,
       "border_right": null,
       "border_top": null,
       "bottom": null,
       "display": null,
       "flex": null,
       "flex_flow": null,
       "grid_area": null,
       "grid_auto_columns": null,
       "grid_auto_flow": null,
       "grid_auto_rows": null,
       "grid_column": null,
       "grid_gap": null,
       "grid_row": null,
       "grid_template_areas": null,
       "grid_template_columns": null,
       "grid_template_rows": null,
       "height": null,
       "justify_content": null,
       "justify_items": null,
       "left": null,
       "margin": null,
       "max_height": null,
       "max_width": null,
       "min_height": null,
       "min_width": null,
       "object_fit": null,
       "object_position": null,
       "order": null,
       "overflow": null,
       "padding": null,
       "right": null,
       "top": null,
       "visibility": null,
       "width": null
      }
     },
     "d528e9449f2e45ec8157983b9f24c40e": {
      "model_module": "@jupyter-widgets/controls",
      "model_module_version": "2.0.0",
      "model_name": "HTMLStyleModel",
      "state": {
       "_model_module": "@jupyter-widgets/controls",
       "_model_module_version": "2.0.0",
       "_model_name": "HTMLStyleModel",
       "_view_count": null,
       "_view_module": "@jupyter-widgets/base",
       "_view_module_version": "2.0.0",
       "_view_name": "StyleView",
       "background": null,
       "description_width": "",
       "font_size": null,
       "text_color": null
      }
     },
     "d544540ff2df4fa2a19278fc11a08838": {
      "model_module": "@jupyter-widgets/controls",
      "model_module_version": "2.0.0",
      "model_name": "FloatProgressModel",
      "state": {
       "_dom_classes": [],
       "_model_module": "@jupyter-widgets/controls",
       "_model_module_version": "2.0.0",
       "_model_name": "FloatProgressModel",
       "_view_count": null,
       "_view_module": "@jupyter-widgets/controls",
       "_view_module_version": "2.0.0",
       "_view_name": "ProgressView",
       "bar_style": "success",
       "description": "",
       "description_allow_html": false,
       "layout": "IPY_MODEL_f1716a601e64482a826c600c58d774dd",
       "max": 20.0,
       "min": 0.0,
       "orientation": "horizontal",
       "style": "IPY_MODEL_2d5a426b14724a7caa1c9c82aa13320e",
       "tabbable": null,
       "tooltip": null,
       "value": 20.0
      }
     },
     "e099cd0a26d84e1ca538cbefee3636ca": {
      "model_module": "@jupyter-widgets/base",
      "model_module_version": "2.0.0",
      "model_name": "LayoutModel",
      "state": {
       "_model_module": "@jupyter-widgets/base",
       "_model_module_version": "2.0.0",
       "_model_name": "LayoutModel",
       "_view_count": null,
       "_view_module": "@jupyter-widgets/base",
       "_view_module_version": "2.0.0",
       "_view_name": "LayoutView",
       "align_content": null,
       "align_items": null,
       "align_self": null,
       "border_bottom": null,
       "border_left": null,
       "border_right": null,
       "border_top": null,
       "bottom": null,
       "display": null,
       "flex": null,
       "flex_flow": null,
       "grid_area": null,
       "grid_auto_columns": null,
       "grid_auto_flow": null,
       "grid_auto_rows": null,
       "grid_column": null,
       "grid_gap": null,
       "grid_row": null,
       "grid_template_areas": null,
       "grid_template_columns": null,
       "grid_template_rows": null,
       "height": null,
       "justify_content": null,
       "justify_items": null,
       "left": null,
       "margin": null,
       "max_height": null,
       "max_width": null,
       "min_height": null,
       "min_width": null,
       "object_fit": null,
       "object_position": null,
       "order": null,
       "overflow": null,
       "padding": null,
       "right": null,
       "top": null,
       "visibility": null,
       "width": null
      }
     },
     "f1716a601e64482a826c600c58d774dd": {
      "model_module": "@jupyter-widgets/base",
      "model_module_version": "2.0.0",
      "model_name": "LayoutModel",
      "state": {
       "_model_module": "@jupyter-widgets/base",
       "_model_module_version": "2.0.0",
       "_model_name": "LayoutModel",
       "_view_count": null,
       "_view_module": "@jupyter-widgets/base",
       "_view_module_version": "2.0.0",
       "_view_name": "LayoutView",
       "align_content": null,
       "align_items": null,
       "align_self": null,
       "border_bottom": null,
       "border_left": null,
       "border_right": null,
       "border_top": null,
       "bottom": null,
       "display": null,
       "flex": null,
       "flex_flow": null,
       "grid_area": null,
       "grid_auto_columns": null,
       "grid_auto_flow": null,
       "grid_auto_rows": null,
       "grid_column": null,
       "grid_gap": null,
       "grid_row": null,
       "grid_template_areas": null,
       "grid_template_columns": null,
       "grid_template_rows": null,
       "height": null,
       "justify_content": null,
       "justify_items": null,
       "left": null,
       "margin": null,
       "max_height": null,
       "max_width": null,
       "min_height": null,
       "min_width": null,
       "object_fit": null,
       "object_position": null,
       "order": null,
       "overflow": null,
       "padding": null,
       "right": null,
       "top": null,
       "visibility": null,
       "width": null
      }
     },
     "fec66e6d5c2e44acae7fbf0f6ae19f52": {
      "model_module": "@jupyter-widgets/controls",
      "model_module_version": "2.0.0",
      "model_name": "HBoxModel",
      "state": {
       "_dom_classes": [],
       "_model_module": "@jupyter-widgets/controls",
       "_model_module_version": "2.0.0",
       "_model_name": "HBoxModel",
       "_view_count": null,
       "_view_module": "@jupyter-widgets/controls",
       "_view_module_version": "2.0.0",
       "_view_name": "HBoxView",
       "box_style": "",
       "children": [
        "IPY_MODEL_28591d94c4c64958a71b30cfe988268e",
        "IPY_MODEL_d544540ff2df4fa2a19278fc11a08838",
        "IPY_MODEL_401903fc0d864b61bfefea5780d75e6e"
       ],
       "layout": "IPY_MODEL_09c3c5c365414791abc9bb00ba0c4674",
       "tabbable": null,
       "tooltip": null
      }
     }
    },
    "version_major": 2,
    "version_minor": 0
   }
  }
 },
 "nbformat": 4,
 "nbformat_minor": 5
}