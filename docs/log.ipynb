{
 "cells": [
  {
   "cell_type": "markdown",
   "id": "92bcb855",
   "metadata": {
    "papermill": {
     "duration": 0.003673,
     "end_time": "2024-04-08T04:09:01.029334",
     "exception": false,
     "start_time": "2024-04-08T04:09:01.025661",
     "status": "completed"
    },
    "tags": []
   },
   "source": [
    "# MPIA Arxiv on Deck 2\n",
    "\n",
    "Contains the steps to produce the paper extractions."
   ]
  },
  {
   "cell_type": "code",
   "execution_count": 1,
   "id": "3a0d6e11",
   "metadata": {
    "execution": {
     "iopub.execute_input": "2024-04-08T04:09:01.036904Z",
     "iopub.status.busy": "2024-04-08T04:09:01.036278Z",
     "iopub.status.idle": "2024-04-08T04:09:01.545659Z",
     "shell.execute_reply": "2024-04-08T04:09:01.544938Z"
    },
    "papermill": {
     "duration": 0.51499,
     "end_time": "2024-04-08T04:09:01.547372",
     "exception": false,
     "start_time": "2024-04-08T04:09:01.032382",
     "status": "completed"
    },
    "tags": []
   },
   "outputs": [],
   "source": [
    "# Imports\n",
    "import os\n",
    "from IPython.display import Markdown, display\n",
    "from tqdm.notebook import tqdm\n",
    "import warnings\n",
    "from PIL import Image \n",
    "\n",
    "# requires arxiv_on_deck_2\n",
    "\n",
    "from arxiv_on_deck_2.arxiv2 import (get_new_papers, \n",
    "                                    get_paper_from_identifier,\n",
    "                                    retrieve_document_source, \n",
    "                                    get_markdown_badge)\n",
    "from arxiv_on_deck_2 import (latex,\n",
    "                             latex_bib,\n",
    "                             mpia,\n",
    "                             highlight_authors_in_list)\n",
    "\n",
    "# Sometimes images are really big\n",
    "Image.MAX_IMAGE_PIXELS = 1000000000 "
   ]
  },
  {
   "cell_type": "code",
   "execution_count": 2,
   "id": "22aa9d44",
   "metadata": {
    "execution": {
     "iopub.execute_input": "2024-04-08T04:09:01.554815Z",
     "iopub.status.busy": "2024-04-08T04:09:01.554253Z",
     "iopub.status.idle": "2024-04-08T04:09:01.559455Z",
     "shell.execute_reply": "2024-04-08T04:09:01.558838Z"
    },
    "papermill": {
     "duration": 0.010325,
     "end_time": "2024-04-08T04:09:01.560881",
     "exception": false,
     "start_time": "2024-04-08T04:09:01.550556",
     "status": "completed"
    },
    "tags": []
   },
   "outputs": [],
   "source": [
    "# Some useful definitions.\n",
    "\n",
    "class AffiliationWarning(UserWarning):\n",
    "    pass\n",
    "\n",
    "class AffiliationError(RuntimeError):\n",
    "    pass\n",
    "\n",
    "def validation(source: str):\n",
    "    \"\"\"Raises error paper during parsing of source file\n",
    "    \n",
    "    Allows checks before parsing TeX code.\n",
    "    \n",
    "    Raises AffiliationWarning\n",
    "    \"\"\"\n",
    "    check = mpia.affiliation_verifications(source, verbose=True)\n",
    "    if check is not True:\n",
    "        raise AffiliationError(\"mpia.affiliation_verifications: \" + check)\n",
    "\n",
    "        \n",
    "warnings.simplefilter('always', AffiliationWarning)\n",
    "\n",
    "\n",
    "def get_markdown_qrcode(paper_id: str):\n",
    "    \"\"\" Generate a qrcode to the arxiv page using qrserver.com\n",
    "    \n",
    "    :param paper: Arxiv paper\n",
    "    :returns: markdown text\n",
    "    \"\"\"\n",
    "    url = r\"https://api.qrserver.com/v1/create-qr-code/?size=100x100&data=\"\n",
    "    txt = f\"\"\"<img src={url}\"https://arxiv.org/abs/{paper_id}\">\"\"\"\n",
    "    txt = '<div id=\"qrcode\">' + txt + '</div>'\n",
    "    return txt"
   ]
  },
  {
   "cell_type": "markdown",
   "id": "14bd6310",
   "metadata": {
    "papermill": {
     "duration": 0.002805,
     "end_time": "2024-04-08T04:09:01.566544",
     "exception": false,
     "start_time": "2024-04-08T04:09:01.563739",
     "status": "completed"
    },
    "tags": []
   },
   "source": [
    "## get list of arxiv paper candidates\n",
    "\n",
    "We use the MPIA mitarbeiter list webpage from mpia.de to get author names\n",
    "We then get all new papers from Arxiv and match authors"
   ]
  },
  {
   "cell_type": "code",
   "execution_count": 3,
   "id": "2645e73a",
   "metadata": {
    "execution": {
     "iopub.execute_input": "2024-04-08T04:09:01.573556Z",
     "iopub.status.busy": "2024-04-08T04:09:01.573132Z",
     "iopub.status.idle": "2024-04-08T04:09:19.904240Z",
     "shell.execute_reply": "2024-04-08T04:09:19.903496Z"
    },
    "papermill": {
     "duration": 18.336388,
     "end_time": "2024-04-08T04:09:19.905794",
     "exception": false,
     "start_time": "2024-04-08T04:09:01.569406",
     "status": "completed"
    },
    "tags": []
   },
   "outputs": [
    {
     "name": "stdout",
     "output_type": "stream",
     "text": [
      "K. El-Badry  ->  K. El-Badry  |  ['K. El-Badry']\n",
      "M. Häberle  ->  M. Häberle  |  ['M. Häberle']\n",
      "N. Neumayer  ->  N. Neumayer  |  ['N. Neumayer']\n",
      "C. Clontz  ->  C. Clontz  |  ['C. Clontz']\n",
      "E. Nasedkin  ->  E. Nasedkin  |  ['E. Nasedkin']\n",
      "P. Mollière  ->  P. Mollière  |  ['P. Mollière']\n",
      "L. Kreidberg  ->  L. Kreidberg  |  ['L. Kreidberg']\n",
      "P. Garcia  ->  A. P. Garcia  |  ['P. Garcia']\n",
      "S. Li  ->  S. Li  |  ['S. Li']\n",
      "J. Li  ->  J. Li  |  ['J. Li']\n",
      "J. Li  ->  J. Li  |  ['J. Li']\n",
      "J. Li  ->  J. Li  |  ['J. Li']\n",
      "Arxiv has 51 new papers today\n",
      "          5 with possible author matches\n"
     ]
    }
   ],
   "source": [
    "# get list from MPIA website\n",
    "# it automatically filters identified non-scientists :func:`mpia.filter_non_scientists`\n",
    "mpia_authors = mpia.get_mpia_mitarbeiter_list()\n",
    "normed_mpia_authors = [k[1] for k in mpia_authors]   # initials + fullname\n",
    "new_papers = get_new_papers()\n",
    "# add manual references\n",
    "add_paper_refs = []\n",
    "new_papers.extend([get_paper_from_identifier(k) for k in add_paper_refs])\n",
    "\n",
    "candidates = []\n",
    "for paperk in new_papers:\n",
    "    # Check author list with their initials\n",
    "    normed_author_list = [mpia.get_initials(k) for k in paperk['authors']]\n",
    "    hl_authors = highlight_authors_in_list(normed_author_list, normed_mpia_authors, verbose=True)\n",
    "    matches = [(hl, orig) for hl, orig in zip(hl_authors, paperk['authors']) if 'mark' in hl]\n",
    "    paperk['authors'] = hl_authors\n",
    "    if matches:\n",
    "        # only select paper if an author matched our list\n",
    "        candidates.append(paperk)\n",
    "print(\"\"\"Arxiv has {0:,d} new papers today\"\"\".format(len(new_papers)))        \n",
    "print(\"\"\"          {0:,d} with possible author matches\"\"\".format(len(candidates)))"
   ]
  },
  {
   "cell_type": "markdown",
   "id": "3543b34a",
   "metadata": {
    "papermill": {
     "duration": 0.003069,
     "end_time": "2024-04-08T04:09:19.912164",
     "exception": false,
     "start_time": "2024-04-08T04:09:19.909095",
     "status": "completed"
    },
    "tags": []
   },
   "source": [
    "# Parse sources and generate relevant outputs\n",
    "\n",
    "From the candidates, we do the following steps:\n",
    "* get their tarball from ArXiv (and extract data)\n",
    "* find the main .tex file: find one with \\documentclass{...} (sometimes it's non trivial)\n",
    "* Check affiliations with :func:`validation`, which uses :func:`mpia.affiliation_verifications`\n",
    "* If passing the affiliations: we parse the .tex source\n",
    "   * inject sub-documents into the main (flatten the main document)\n",
    "   * parse structure, extract information (title, abstract, authors, figures...)\n",
    "   * handles `\\graphicspath` if provided\n",
    "* Generate the .md document."
   ]
  },
  {
   "cell_type": "code",
   "execution_count": 4,
   "id": "9576b79e",
   "metadata": {
    "execution": {
     "iopub.execute_input": "2024-04-08T04:09:19.919464Z",
     "iopub.status.busy": "2024-04-08T04:09:19.918939Z",
     "iopub.status.idle": "2024-04-08T04:12:30.787999Z",
     "shell.execute_reply": "2024-04-08T04:12:30.787282Z"
    },
    "papermill": {
     "duration": 190.874541,
     "end_time": "2024-04-08T04:12:30.789658",
     "exception": false,
     "start_time": "2024-04-08T04:09:19.915117",
     "status": "completed"
    },
    "scrolled": false,
    "tags": []
   },
   "outputs": [
    {
     "data": {
      "application/vnd.jupyter.widget-view+json": {
       "model_id": "4bf48c0e352a4364978e6495b6db2987",
       "version_major": 2,
       "version_minor": 0
      },
      "text/plain": [
       "  0%|          | 0/5 [00:00<?, ?it/s]"
      ]
     },
     "metadata": {},
     "output_type": "display_data"
    },
    {
     "name": "stdout",
     "output_type": "stream",
     "text": [
      "Retrieving document from  https://arxiv.org/e-print/2404.03719\n"
     ]
    },
    {
     "name": "stdout",
     "output_type": "stream",
     "text": [
      "extracting tarball to tmp_2404.03719..."
     ]
    },
    {
     "name": "stdout",
     "output_type": "stream",
     "text": [
      " done.\n",
      "Retrieving document from  https://arxiv.org/e-print/2404.03722\n"
     ]
    },
    {
     "name": "stdout",
     "output_type": "stream",
     "text": [
      "extracting tarball to tmp_2404.03722..."
     ]
    },
    {
     "name": "stdout",
     "output_type": "stream",
     "text": [
      " done.\n"
     ]
    },
    {
     "name": "stderr",
     "output_type": "stream",
     "text": [
      "/opt/hostedtoolcache/Python/3.9.19/x64/lib/python3.9/site-packages/IPython/core/interactiveshell.py:3550: LatexWarning: Multiple tex files.\n",
      "\n",
      "  exec(code_obj, self.user_global_ns, self.user_ns)\n",
      "/opt/hostedtoolcache/Python/3.9.19/x64/lib/python3.9/site-packages/IPython/core/interactiveshell.py:3550: LatexWarning: Found documentclass in tmp_2404.03722/main_text_manuscript.tex\n",
      "\n",
      "  exec(code_obj, self.user_global_ns, self.user_ns)\n",
      "/opt/hostedtoolcache/Python/3.9.19/x64/lib/python3.9/site-packages/arxiv_on_deck_2/latex.py:399: LatexWarning: Latex injecting: 'table_datafile_photometry.tex' from 'tmp_2404.03722/table_datafile_photometry.tex'\n",
      "  warnings.warn(LatexWarning(f\"Latex injecting: '{ext}' from '{subsource}'\"))\n",
      "/opt/hostedtoolcache/Python/3.9.19/x64/lib/python3.9/site-packages/arxiv_on_deck_2/latex.py:399: LatexWarning: Latex injecting: 'table_datafile_astrometry.tex' from 'tmp_2404.03722/table_datafile_astrometry.tex'\n",
      "  warnings.warn(LatexWarning(f\"Latex injecting: '{ext}' from '{subsource}'\"))\n",
      "/opt/hostedtoolcache/Python/3.9.19/x64/lib/python3.9/site-packages/arxiv_on_deck_2/latex.py:399: LatexWarning: Latex injecting: 'acs_data_table.tex' from 'tmp_2404.03722/acs_data_table.tex'\n",
      "  warnings.warn(LatexWarning(f\"Latex injecting: '{ext}' from '{subsource}'\"))\n",
      "/opt/hostedtoolcache/Python/3.9.19/x64/lib/python3.9/site-packages/arxiv_on_deck_2/latex.py:399: LatexWarning: Latex injecting: 'uvis_data_table.tex' from 'tmp_2404.03722/uvis_data_table.tex'\n",
      "  warnings.warn(LatexWarning(f\"Latex injecting: '{ext}' from '{subsource}'\"))\n",
      "/opt/hostedtoolcache/Python/3.9.19/x64/lib/python3.9/site-packages/arxiv_on_deck_2/latex.py:399: LatexWarning: Latex injecting: 'pm_cat_table.tex' from 'tmp_2404.03722/pm_cat_table.tex'\n",
      "  warnings.warn(LatexWarning(f\"Latex injecting: '{ext}' from '{subsource}'\"))\n"
     ]
    },
    {
     "name": "stdout",
     "output_type": "stream",
     "text": [
      "M. Häberle  ->  M. Häberle  |  ['M. Häberle']\n",
      "N. Neumayer  ->  N. Neumayer  |  ['N. Neumayer']\n",
      "C. Clontz  ->  C. Clontz  |  ['C. Clontz']\n"
     ]
    },
    {
     "name": "stdout",
     "output_type": "stream",
     "text": [
      "Found 102 bibliographic references in tmp_2404.03722/main_text_manuscript.bbl.\n",
      "Retrieving document from  https://arxiv.org/e-print/2404.03776\n"
     ]
    },
    {
     "name": "stdout",
     "output_type": "stream",
     "text": [
      "extracting tarball to tmp_2404.03776..."
     ]
    },
    {
     "name": "stdout",
     "output_type": "stream",
     "text": [
      " done.\n"
     ]
    },
    {
     "name": "stderr",
     "output_type": "stream",
     "text": [
      "/opt/hostedtoolcache/Python/3.9.19/x64/lib/python3.9/site-packages/IPython/core/interactiveshell.py:3550: LatexWarning: Multiple tex files.\n",
      "\n",
      "  exec(code_obj, self.user_global_ns, self.user_ns)\n",
      "/opt/hostedtoolcache/Python/3.9.19/x64/lib/python3.9/site-packages/IPython/core/interactiveshell.py:3550: LatexWarning: Found documentclass in tmp_2404.03776/hr8799_gravity.tex\n",
      "\n",
      "  exec(code_obj, self.user_global_ns, self.user_ns)\n",
      "/opt/hostedtoolcache/Python/3.9.19/x64/lib/python3.9/site-packages/arxiv_on_deck_2/latex.py:399: LatexWarning: Latex injecting: 'commands' from 'tmp_2404.03776/commands.tex'\n",
      "  warnings.warn(LatexWarning(f\"Latex injecting: '{ext}' from '{subsource}'\"))\n"
     ]
    },
    {
     "name": "stderr",
     "output_type": "stream",
     "text": [
      "/opt/hostedtoolcache/Python/3.9.19/x64/lib/python3.9/site-packages/arxiv_on_deck_2/latex.py:473: LatexWarning: Error parsing the document directly. Trying to recover.\n",
      "  warnings.warn(LatexWarning(f\"Error parsing the document directly. Trying to recover.\"))\n"
     ]
    },
    {
     "name": "stdout",
     "output_type": "stream",
     "text": [
      "✔ → 0:header\n",
      "  ↳ 15666:\\section{Introduction}\\label{sec:intro}\n"
     ]
    },
    {
     "name": "stdout",
     "output_type": "stream",
     "text": [
      "✔ → 15666:\\section{Introduction}\\label{sec:intro}\n",
      "  ↳ 27772:\\section{The planetary system of HR 8799}\\label{sec:context}\n"
     ]
    },
    {
     "name": "stdout",
     "output_type": "stream",
     "text": [
      "✔ → 27772:\\section{The planetary system of HR 8799}\\label{sec:context}\n",
      "  ↳ 74023:\\section{Observations}\\label{sec:obs}\n"
     ]
    },
    {
     "name": "stdout",
     "output_type": "stream",
     "text": [
      "✔ → 74023:\\section{Observations}\\label{sec:obs}\n",
      "  ↳ 86939:\\section{Atmospheric modelling}\\label{sec:modelling}\n"
     ]
    },
    {
     "name": "stdout",
     "output_type": "stream",
     "text": [
      "✔ → 86939:\\section{Atmospheric modelling}\\label{sec:modelling}\n",
      "  ↳ 124735:\\section{Results}\\label{sec:retrievals_all}\n"
     ]
    },
    {
     "name": "stdout",
     "output_type": "stream",
     "text": [
      "✔ → 124735:\\section{Results}\\label{sec:retrievals_all}\n",
      "  ↳ 189176:\\section{Discussion}\\label{sec:discussion}\n"
     ]
    },
    {
     "name": "stdout",
     "output_type": "stream",
     "text": [
      "✔ → 189176:\\section{Discussion}\\label{sec:discussion}\n",
      "  ↳ 206425:\\section{Conclusions}\n",
      "✔ → 206425:\\section{Conclusions}\n",
      "  ↳ 211682:\\begin{appendix}\n",
      "✔ → 211682:\\begin{appendix}\n",
      "  ↳ 211699:\\section{Data logs}\\label{ap:photometry}\n"
     ]
    },
    {
     "name": "stdout",
     "output_type": "stream",
     "text": [
      "✔ → 211699:\\section{Data logs}\\label{ap:photometry}\n",
      "  ↳ 221742:\\section{Reprocessing SPHERE and GPI datasets}\\label{ap:algocomp}\n",
      "✔ → 221742:\\section{Reprocessing SPHERE and GPI datasets}\\label{ap:algocomp}\n",
      "  ↳ 223574:\\section{Retrieval validation}\\label{ap:validation}\n",
      "✔ → 223574:\\section{Retrieval validation}\\label{ap:validation}\n",
      "  ↳ 227312:\\section{Using the Hansen distribution with EDDYSED}\\label{ap:hansen}\n"
     ]
    },
    {
     "name": "stdout",
     "output_type": "stream",
     "text": [
      "✔ → 227312:\\section{Using the Hansen distribution with EDDYSED}\\label{ap:hansen}\n",
      "  ↳ 232533:\\section{Complete retrieval results}\\label{ap:retrievalresults}\n"
     ]
    },
    {
     "name": "stdout",
     "output_type": "stream",
     "text": [
      "✔ → 232533:\\section{Complete retrieval results}\\label{ap:retrievalresults}\n",
      "  ↳ 257020:end\n"
     ]
    },
    {
     "name": "stdout",
     "output_type": "stream",
     "text": [
      "Found 259 bibliographic references in tmp_2404.03776/hr8799_gravity.bbl.\n",
      "syntax error in line 5: unbalanced braces\n",
      "Retrieving document from  https://arxiv.org/e-print/2404.03858\n"
     ]
    },
    {
     "name": "stdout",
     "output_type": "stream",
     "text": [
      "extracting tarball to tmp_2404.03858..."
     ]
    },
    {
     "name": "stdout",
     "output_type": "stream",
     "text": [
      " done.\n"
     ]
    },
    {
     "name": "stdout",
     "output_type": "stream",
     "text": [
      "S. Li  ->  S. Li  |  ['S. Li']\n"
     ]
    },
    {
     "name": "stderr",
     "output_type": "stream",
     "text": [
      "/opt/hostedtoolcache/Python/3.9.19/x64/lib/python3.9/site-packages/arxiv_on_deck_2/latex.py:120: LatexWarning: attempting recovering figure fflux_comp_method_v2.pdf\n",
      "  warnings.warn(LatexWarning(f'attempting recovering figure {image}'))\n",
      "/opt/hostedtoolcache/Python/3.9.19/x64/lib/python3.9/site-packages/arxiv_on_deck_2/latex.py:125: LatexWarning: Recovered figure fflux_comp_method_v2.pdf as tmp_2404.03858/./fflux_comp_method_v2.pdf.pdf\n",
      "  warnings.warn(LatexWarning(f'Recovered figure {image} as {fname}'))\n"
     ]
    },
    {
     "name": "stdout",
     "output_type": "stream",
     "text": [
      "Found 106 bibliographic references in tmp_2404.03858/main.bbl.\n",
      "Retrieving document from  https://arxiv.org/e-print/2404.03866\n"
     ]
    },
    {
     "name": "stdout",
     "output_type": "stream",
     "text": [
      "extracting tarball to tmp_2404.03866..."
     ]
    },
    {
     "name": "stdout",
     "output_type": "stream",
     "text": [
      " done.\n"
     ]
    }
   ],
   "source": [
    "documents = []\n",
    "failed = []\n",
    "for paper in tqdm(candidates):\n",
    "    paper_id = paper['identifier'].lower().replace('arxiv:', '')\n",
    "    \n",
    "    folder = f'tmp_{paper_id}'\n",
    "\n",
    "    try:\n",
    "        if not os.path.isdir(folder):\n",
    "            folder = retrieve_document_source(f\"{paper_id}\", f'tmp_{paper_id}')\n",
    "        \n",
    "        try:\n",
    "            doc = latex.LatexDocument(folder, validation=validation)    \n",
    "        except AffiliationError as affilerror:\n",
    "            msg = f\"ArXiv:{paper_id:s} is not an MPIA paper... \" + str(affilerror)\n",
    "            failed.append((paper, \"affiliation error: \" + str(affilerror) ))\n",
    "            continue\n",
    "        \n",
    "        # Hack because sometimes author parsing does not work well\n",
    "        if (len(doc.authors) != len(paper['authors'])):\n",
    "            doc._authors = paper['authors']\n",
    "        else:\n",
    "            # highlight authors (FIXME: doc.highlight_authors)\n",
    "            # done on arxiv paper already\n",
    "            doc._authors = highlight_authors_in_list(\n",
    "                [mpia.get_initials(k) for k in doc.authors], \n",
    "                normed_mpia_authors, verbose=True)\n",
    "        if (doc.abstract) in (None, ''):\n",
    "            doc._abstract = paper['abstract']\n",
    "            \n",
    "        doc.comment = (get_markdown_badge(paper_id) + \n",
    "                       \"<mark>Appeared on: \" + paper['date'] + \"</mark> - \")\n",
    "        if paper['comments']:\n",
    "            doc.comment += \" _\" + paper['comments'] + \"_\"\n",
    "        \n",
    "        full_md = doc.generate_markdown_text()\n",
    "        \n",
    "        full_md += get_markdown_qrcode(paper_id)\n",
    "        \n",
    "        # replace citations\n",
    "        try:\n",
    "            bibdata = latex_bib.LatexBib.from_doc(doc)\n",
    "            full_md = latex_bib.replace_citations(full_md, bibdata)\n",
    "        except Exception as e:\n",
    "            print(e)\n",
    "        \n",
    "        documents.append((paper_id, full_md))\n",
    "    except Exception as e:\n",
    "        warnings.warn(latex.LatexWarning(f\"{paper_id:s} did not run properly\\n\" +\n",
    "                                         str(e)\n",
    "                                        ))\n",
    "        failed.append((paper, \"latex error \" + str(e)))"
   ]
  },
  {
   "cell_type": "markdown",
   "id": "2505a25c",
   "metadata": {
    "papermill": {
     "duration": 0.004494,
     "end_time": "2024-04-08T04:12:30.798944",
     "exception": false,
     "start_time": "2024-04-08T04:12:30.794450",
     "status": "completed"
    },
    "tags": []
   },
   "source": [
    "### Export the logs\n",
    "\n",
    "Throughout, we also keep track of the logs per paper. see `logs-{today date}.md` "
   ]
  },
  {
   "cell_type": "code",
   "execution_count": 5,
   "id": "d733828a",
   "metadata": {
    "execution": {
     "iopub.execute_input": "2024-04-08T04:12:30.809390Z",
     "iopub.status.busy": "2024-04-08T04:12:30.808811Z",
     "iopub.status.idle": "2024-04-08T04:12:30.824367Z",
     "shell.execute_reply": "2024-04-08T04:12:30.823741Z"
    },
    "papermill": {
     "duration": 0.022386,
     "end_time": "2024-04-08T04:12:30.825810",
     "exception": false,
     "start_time": "2024-04-08T04:12:30.803424",
     "status": "completed"
    },
    "scrolled": false,
    "tags": []
   },
   "outputs": [
    {
     "data": {
      "text/markdown": [
       "## Successful papers"
      ],
      "text/plain": [
       "<IPython.core.display.Markdown object>"
      ]
     },
     "metadata": {},
     "output_type": "display_data"
    },
    {
     "data": {
      "text/markdown": [
       "\n",
       "|||\n",
       "|---:|:---|\n",
       "| [![arXiv](https://img.shields.io/badge/arXiv-arXiv:2404.03722-b31b1b.svg)](https://arxiv.org/abs/arXiv:2404.03722) | **oMEGACat II -- Photometry and proper motions for 1.4 million stars in  Omega Centauri and its rotation in the plane of the sky**  |\n",
       "|| <mark>M. Häberle</mark>, et al. -- incl., <mark>N. Neumayer</mark>, <mark>C. Clontz</mark> |\n",
       "|*Appeared on*| *2024-04-08*|\n",
       "|*Comments*| *38 pages, 24 figures, 8 tables, Submitted to ApJ, The full catalog will be made public along with the publication by the journal*|\n",
       "|**Abstract**| Omega Centauri ($\\omega$ Cen) is the most massive globular cluster of the Milky Way. It is thought to be the nucleus of an accreted dwarf galaxy because of its high mass and its complex stellar populations. To decipher its formation history and study its dynamics, we created the most comprehensive kinematic catalog for its inner region, by analyzing both archival and new Hubble Space Telescope (HST) data. Our catalog contains 1 395 781 proper-motion measurements out to the half-light radius of the cluster ($\\sim$5.0') and down to $m_{F625W}\\approx$25. The typical baseline for our proper-motion measurements is 20 years, leading to a median 1D proper motion precision of $\\sim$11 $\\mu$as yr$^{-1}$ for stars with $m_{F625W}\\approx$18 mag, with even better precision ($\\sim$6.6 $\\mu$as yr$^{-1}$) achieved in the extensively observed centermost (r$<$1.5') region. In addition to our astrometric measurements, we also obtained precise HST photometry in seven filters spanning from the ultraviolet to the near-infrared. This allows detailed color-magnitude-diagram studies and to separate the multiple stellar populations of the cluster. In this work, we describe the data reduction used to obtain both the photometric and the proper-motion measurements. We also illustrate the creation and the content of our catalog, which is made publicly available. Finally, we present measurements of the plane-of-sky rotation of $\\omega$ Cen in the previously unprobed inner few arcminutes and a precise measurement of the inclination $i = (43.6\\pm1.5)^\\circ$. |"
      ],
      "text/plain": [
       "[arXiv:2404.03722] oMEGACat II -- Photometry and proper motions for 1.4 million stars in  Omega Centauri and its rotation in the plane of the sky\n",
       "\t<mark>M. Häberle</mark>, et al. -- incl., <mark>N. Neumayer</mark>, <mark>C. Clontz</mark>"
      ]
     },
     "metadata": {},
     "output_type": "display_data"
    },
    {
     "data": {
      "text/markdown": [
       "\n",
       "|||\n",
       "|---:|:---|\n",
       "| [![arXiv](https://img.shields.io/badge/arXiv-arXiv:2404.03776-b31b1b.svg)](https://arxiv.org/abs/arXiv:2404.03776) | **Four-of-a-kind? Comprehensive atmospheric characterisation of the HR  8799 planets with VLTI/GRAVITY**  |\n",
       "|| <mark>E. Nasedkin</mark>, et al. -- incl., <mark>P. Mollière</mark>, <mark>L. Kreidberg</mark>, <mark>P. Garcia</mark> |\n",
       "|*Appeared on*| *2024-04-08*|\n",
       "|*Comments*| *45 pages, 25 figures, submitted to Astronomy & Astrophysics*|\n",
       "|**Abstract**| With four companions at separations from 16 to 71 au, HR 8799 is a unique target for direct imaging, presenting an opportunity for the comparative study of exoplanets with a shared formation history. Combining new VLTI/GRAVITY observations obtained within the ExoGRAVITY program with archival data, we perform a systematic atmospheric characterisation of all four planets. We explore different levels of model flexibility to understand the temperature structure, chemistry and clouds of each planet using both petitRADTRANS atmospheric retrievals and fits to self-consistent radiative-convective equilibrium models. Using Bayesian Model Averaging to combine multiple retrievals, we find that the HR 8799 planets are highly enriched in metals, with [M/H] $\\gtrsim$1, and have stellar to super-stellar C/O ratios. The C/O ratio increases with increasing separation from $0.55^{+0.12}_{-0.10}$ for d to $0.78^{+0.03}_{-0.04}$ for b, with the exception of the innermost planet which has a C/O ratio of $0.87\\pm0.03$. By retrieving a quench pressure and using a disequilibrium chemistry model we derive vertical mixing strengths compatible with predictions for high-metallicity, self-luminous atmospheres. Bayesian evidence comparisons strongly favour the presence of HCN in HR 8799 c and e, as well as CH$_{4}$ in HR 8799 c, with detections at $>5\\sigma$ confidence. All of the planets are cloudy, with no evidence for patchiness. The clouds of c, d and e are best fit by silicate clouds lying above a deep iron cloud layer, while the clouds of the cooler HR 8799 b are more likely composed of Na$_{2}$S. With well defined atmospheric properties, future exploration of this system is well positioned to unveil further detail in these planets, extending our understanding of the composition, structure, and formation history of these siblings. |"
      ],
      "text/plain": [
       "[arXiv:2404.03776] Four-of-a-kind? Comprehensive atmospheric characterisation of the HR  8799 planets with VLTI/GRAVITY\n",
       "\t<mark>E. Nasedkin</mark>, et al. -- incl., <mark>P. Mollière</mark>, <mark>L. Kreidberg</mark>, <mark>P. Garcia</mark>"
      ]
     },
     "metadata": {},
     "output_type": "display_data"
    },
    {
     "data": {
      "text/markdown": [
       "\n",
       "|||\n",
       "|---:|:---|\n",
       "| [![arXiv](https://img.shields.io/badge/arXiv-arXiv:2404.03858-b31b1b.svg)](https://arxiv.org/abs/arXiv:2404.03858) | **INvestigations of massive Filaments ANd sTar formation (INFANT). I. Core  Identification and Core Mass Function**  |\n",
       "|| Y. Cheng, et al. -- incl., <mark>S. Li</mark> |\n",
       "|*Appeared on*| *2024-04-08*|\n",
       "|*Comments*| *25 pages, 8 figures, accepted for ApJ*|\n",
       "|**Abstract**| Filamentary structures are ubiquitously found in high-mass star-forming clouds. To investigate the relationship between filaments and star formation, we carry out the INFANT (INvestigations of massive Filaments ANd sTar formation) survey, a multi-scale, multi-wavelength survey of massive filamentary clouds with ALMA band 3/band 6 and VLA K band. In this first paper, we present the ALMA band 6 continuum observations toward a sample of 8 high-mass star forming filaments. We covered each target with approximately rectangular mosaic field of view with two 12-m array configurations, achieving an angular resolution of $\\sim$0.6\" (2700 AU at 4.5 kpc) and a continuum rms of $\\sim$0.1 mJy/beam ($\\sim$0.06 Msun in gas mass assuming 15 K). We identify cores using the getsf and astrodendro and find the former is more robust in terms of both identification and measuring flux densities. We identify in total 183 dense cores (15--36 cores in each cloud) and classify their star formation states via outflow and warm gas tracers. The protostellar cores are statistically more massive than the prestellar cores, possibly indicating further accretion onto cores after formation of protostars. For the high-mass end ($M_\\text{core}$ $>$ 1.5 Msun) of the core mass function (CMF) we derive a power-law index of $-$1.15 $\\pm$ 0.12 for the whole sample, and $-$1.70 $\\pm$ 0.25 for the prestellar population. We also find a steepening trend in CMF with cloud evolution ($-$0.89 $\\pm$ 0.15 for the young group v.s. $-$1.44 $\\pm$ 0.25 for the evolved group) and discuss its implication for cluster formation. |"
      ],
      "text/plain": [
       "[arXiv:2404.03858] INvestigations of massive Filaments ANd sTar formation (INFANT). I. Core  Identification and Core Mass Function\n",
       "\tY. Cheng, et al. -- incl., <mark>S. Li</mark>"
      ]
     },
     "metadata": {},
     "output_type": "display_data"
    },
    {
     "data": {
      "text/markdown": [
       "## Failed papers"
      ],
      "text/plain": [
       "<IPython.core.display.Markdown object>"
      ]
     },
     "metadata": {},
     "output_type": "display_data"
    },
    {
     "data": {
      "text/markdown": [
       "\n",
       "|||\n",
       "|---:|:---|\n",
       "| [![arXiv](https://img.shields.io/badge/arXiv-arXiv:2404.03719-b31b1b.svg)](https://arxiv.org/abs/arXiv:2404.03719) | **The black hole low mass X-ray binary V404 Cygni is part of a wide  hierarchical triple, and formed without a kick**  |\n",
       "|| K. B. Burdge, et al. -- incl., <mark>K. El-Badry</mark> |\n",
       "|*Appeared on*| *2024-04-08*|\n",
       "|*Comments*| *36 pages, 10 figures, 1 table*|\n",
       "|**Abstract**| Evidence suggests that when compact objects such as black holes and neutron stars form, they may receive a ``natal kick,'' where the stellar remnant gains momentum. Observational evidence for neutron star kicks is substantial, yet limited for black hole natal kicks, and some proposed black hole formation scenarios result in very small kicks. Here, we report the discovery that the canonical black hole low-mass X-ray binary V404 Cygni is part of a wide hierarchical triple with a tertiary companion at least 3500 astronomical units away from the inner binary. Given the orbital configuration, the black hole likely received a sub-5 kilometer per second kick to have avoided unbinding the tertiary. This discovery reveals that at least some black holes form with nearly no natal kick. Furthermore, the tertiary in this system lends credence to evolutionary models of low-mass X-ray binaries involving a hierarchical triple structure. Remarkably, the tertiary is evolved, indicating that the system formed 3-5 billion years ago, and that the black hole has removed at least half a solar mass of matter from its evolved secondary companion. During the event in which the black hole formed, it is likely that at least half of the mass of the black hole progenitor collapsed into the black hole; it may even have undergone a complete implosion, enabling the tertiary to remain loosely bound. |\n",
       "|<p style=\"color:green\"> **ERROR** </p>| <p style=\"color:green\">affiliation error: mpia.affiliation_verifications: 'Heidelberg' keyword not found.</p> |"
      ],
      "text/plain": [
       "<IPython.core.display.Markdown object>"
      ]
     },
     "metadata": {},
     "output_type": "display_data"
    },
    {
     "data": {
      "text/markdown": [
       "\n",
       "|||\n",
       "|---:|:---|\n",
       "| [![arXiv](https://img.shields.io/badge/arXiv-arXiv:2404.03866-b31b1b.svg)](https://arxiv.org/abs/arXiv:2404.03866) | **Derivative Spectroscopy and its Application at Detecting the Weak  Emission/Absorption Lines**  |\n",
       "|| L. Yu, et al. -- incl., <mark>J. Li</mark>, <mark>J. Li</mark>, <mark>J. Li</mark> |\n",
       "|*Appeared on*| *2024-04-08*|\n",
       "|*Comments*| **|\n",
       "|**Abstract**| The development of spectroscopic survey telescopes like Large Sky Area Multi-Object Fiber Spectroscopic Telescope (LAMOST), Apache Point Observatory Galactic Evolution Experiment and Sloan Digital Sky Survey has opened up unprecedented opportunities for stellar classification. Specific types of stars, such as early-type emission-line stars and those with stellar winds, can be distinguished by the profiles of their spectral lines. In this paper, we introduce a method based on derivative spectroscopy (DS) designed to detect signals within complex backgrounds and provide a preliminary estimation of curve profiles. This method exhibits a unique advantage in identifying weak signals and unusual spectral line profiles when compared to other popular line detection methods. We validated our approach using synthesis spectra, demonstrating that DS can detect emission signals three times fainter than Gaussian fitting. Furthermore, we applied our method to 579,680 co-added spectra from LAMOST Medium-Resolution Spectroscopic Survey, identifying 16,629 spectra with emission peaks around the H{\\alpha} line from 10,963 stars. These spectra were classified into three distinct morphological groups, resulting in nine subclasses as follows. (1) Emission peak above the pseudo-continuum line (single peak, double peaks, emission peak situated within an absorption line, P Cygni profile, Inverse P Cygni profile); (2) Emission peak below the pseudo-continuum line (sharp emission peak, double absorption peaks, emission peak shifted to one side of the absorption line); (3) Emission peak between the pseudo-continuum line. |\n",
       "|<p style=\"color:green\"> **ERROR** </p>| <p style=\"color:green\">affiliation error: mpia.affiliation_verifications: 'Heidelberg' keyword not found.</p> |"
      ],
      "text/plain": [
       "<IPython.core.display.Markdown object>"
      ]
     },
     "metadata": {},
     "output_type": "display_data"
    }
   ],
   "source": [
    "import datetime\n",
    "today = str(datetime.date.today())\n",
    "logfile = f\"_build/html/logs/log-{today}.md\"\n",
    "\n",
    "\n",
    "with open(logfile, 'w') as logs:\n",
    "    # Success\n",
    "    logs.write(f'# Arxiv on Deck 2: Logs - {today}\\n\\n')\n",
    "    logs.write(\"\"\"* Arxiv had {0:,d} new papers\\n\"\"\".format(len(new_papers)))\n",
    "    logs.write(\"\"\"    * {0:,d} with possible author matches\\n\\n\"\"\".format(len(candidates)))\n",
    "    logs.write(\"## Sucessful papers\\n\\n\")\n",
    "    display(Markdown(\"## Successful papers\"))\n",
    "    success = [k[0] for k in documents]\n",
    "    for candid in candidates:\n",
    "        if candid['identifier'].split(':')[-1] in success:\n",
    "            display(candid)\n",
    "            logs.write(candid.generate_markdown_text() + '\\n\\n')\n",
    "\n",
    "    ## failed\n",
    "    logs.write(\"## Failed papers\\n\\n\")\n",
    "    display(Markdown(\"## Failed papers\"))\n",
    "    failed = sorted(failed, key=lambda x: x[1])\n",
    "    current_reason = \"\"\n",
    "    for paper, reason in failed:\n",
    "        if 'affiliation' in reason:\n",
    "            color = 'green'\n",
    "        else:\n",
    "            color = 'red'\n",
    "        data = Markdown(\n",
    "                paper.generate_markdown_text() + \n",
    "                f'\\n|<p style=\"color:{color:s}\"> **ERROR** </p>| <p style=\"color:{color:s}\">{reason:s}</p> |'\n",
    "               )\n",
    "        if reason != current_reason:\n",
    "            logs.write(f'### {reason:s} \\n\\n')\n",
    "            current_reason = reason\n",
    "        logs.write(data.data + '\\n\\n')\n",
    "        \n",
    "        # only display here the important errors (all in logs)\n",
    "        # if color in ('red',):\n",
    "        display(data)"
   ]
  },
  {
   "cell_type": "markdown",
   "id": "472d20ee",
   "metadata": {
    "papermill": {
     "duration": 0.005052,
     "end_time": "2024-04-08T04:12:30.836203",
     "exception": false,
     "start_time": "2024-04-08T04:12:30.831151",
     "status": "completed"
    },
    "tags": []
   },
   "source": [
    "## Export documents\n",
    "\n",
    "We now write the .md files and export relevant images"
   ]
  },
  {
   "cell_type": "code",
   "execution_count": 6,
   "id": "d426aed9",
   "metadata": {
    "execution": {
     "iopub.execute_input": "2024-04-08T04:12:30.847667Z",
     "iopub.status.busy": "2024-04-08T04:12:30.847200Z",
     "iopub.status.idle": "2024-04-08T04:12:30.853676Z",
     "shell.execute_reply": "2024-04-08T04:12:30.853018Z"
    },
    "papermill": {
     "duration": 0.013595,
     "end_time": "2024-04-08T04:12:30.854958",
     "exception": false,
     "start_time": "2024-04-08T04:12:30.841363",
     "status": "completed"
    },
    "tags": []
   },
   "outputs": [],
   "source": [
    "def export_markdown_summary(md: str, md_fname:str, directory: str):\n",
    "    \"\"\"Export MD document and associated relevant images\"\"\"\n",
    "    import os\n",
    "    import shutil\n",
    "    import re\n",
    "\n",
    "    if (os.path.exists(directory) and not os.path.isdir(directory)):\n",
    "        raise RuntimeError(f\"a non-directory file exists with name {directory:s}\")\n",
    "\n",
    "    if (not os.path.exists(directory)):\n",
    "        print(f\"creating directory {directory:s}\")\n",
    "        os.mkdir(directory)\n",
    "\n",
    "    fig_fnames = (re.compile(r'\\[Fig.*\\]\\((.*)\\)').findall(md) + \n",
    "                  re.compile(r'\\<img src=\"([^>\\s]*)\"[^>]*/>').findall(md))\n",
    "    for fname in fig_fnames:\n",
    "        if 'http' in fname:\n",
    "            # No need to copy online figures\n",
    "            continue\n",
    "        destdir = os.path.join(directory, os.path.dirname(fname))\n",
    "        destfname = os.path.join(destdir, os.path.basename(fname))\n",
    "        try:\n",
    "            os.makedirs(destdir)\n",
    "        except FileExistsError:\n",
    "            pass\n",
    "        shutil.copy(fname, destfname)\n",
    "    with open(os.path.join(directory, md_fname), 'w') as fout:\n",
    "        fout.write(md)\n",
    "    print(\"exported in \", os.path.join(directory, md_fname))\n",
    "    [print(\"    + \" + os.path.join(directory,fk)) for fk in fig_fnames]"
   ]
  },
  {
   "cell_type": "code",
   "execution_count": 7,
   "id": "014d04a4",
   "metadata": {
    "execution": {
     "iopub.execute_input": "2024-04-08T04:12:30.866283Z",
     "iopub.status.busy": "2024-04-08T04:12:30.865827Z",
     "iopub.status.idle": "2024-04-08T04:12:30.876821Z",
     "shell.execute_reply": "2024-04-08T04:12:30.876232Z"
    },
    "papermill": {
     "duration": 0.018006,
     "end_time": "2024-04-08T04:12:30.878112",
     "exception": false,
     "start_time": "2024-04-08T04:12:30.860106",
     "status": "completed"
    },
    "tags": []
   },
   "outputs": [
    {
     "name": "stdout",
     "output_type": "stream",
     "text": [
      "exported in  _build/html/2404.03722.md\n",
      "    + _build/html/tmp_2404.03722/./comparison_with_bellini_uncorrected.jpg\n",
      "    + _build/html/tmp_2404.03722/./vpd_and_cmd.jpg\n",
      "    + _build/html/tmp_2404.03722/./gaia_footprint_and_cmd.jpg\n",
      "exported in  _build/html/2404.03776.md\n",
      "    + _build/html/tmp_2404.03776/./figures/HR8799bcd_PredictedMRS_gridfits_v04.png\n",
      "    + _build/html/tmp_2404.03776/./figures/HR8799_AllPlanet_GROUPAintB_KDEHists_v8.png\n",
      "    + _build/html/tmp_2404.03776/./figures/HR8799e_ParticleR_g.png\n",
      "exported in  _build/html/2404.03858.md\n",
      "    + _build/html/tmp_2404.03858/./fmap_iden.png\n",
      "    + _build/html/tmp_2404.03858/./fcomp_mass_update.png\n",
      "    + _build/html/tmp_2404.03858/./fcmf_combine.getsf.3panel.png\n"
     ]
    }
   ],
   "source": [
    "for paper_id, md in documents:\n",
    "    export_markdown_summary(md, f\"{paper_id:s}.md\", '_build/html/')"
   ]
  },
  {
   "cell_type": "markdown",
   "id": "f087a0a7",
   "metadata": {
    "papermill": {
     "duration": 0.005191,
     "end_time": "2024-04-08T04:12:30.888902",
     "exception": false,
     "start_time": "2024-04-08T04:12:30.883711",
     "status": "completed"
    },
    "tags": []
   },
   "source": [
    "## Display the papers\n",
    "\n",
    "Not necessary but allows for a quick check."
   ]
  },
  {
   "cell_type": "code",
   "execution_count": 8,
   "id": "fd25f625",
   "metadata": {
    "execution": {
     "iopub.execute_input": "2024-04-08T04:12:30.900795Z",
     "iopub.status.busy": "2024-04-08T04:12:30.900306Z",
     "iopub.status.idle": "2024-04-08T04:12:30.907868Z",
     "shell.execute_reply": "2024-04-08T04:12:30.907190Z"
    },
    "papermill": {
     "duration": 0.015091,
     "end_time": "2024-04-08T04:12:30.909250",
     "exception": false,
     "start_time": "2024-04-08T04:12:30.894159",
     "status": "completed"
    },
    "scrolled": false,
    "tags": []
   },
   "outputs": [
    {
     "data": {
      "text/markdown": [
       "<div class=\"macros\" style=\"visibility:hidden;\">\n",
       "$\\newcommand{\\ensuremath}{}$\n",
       "$\\newcommand{\\xspace}{}$\n",
       "$\\newcommand{\\object}[1]{\\texttt{#1}}$\n",
       "$\\newcommand{\\farcs}{{.}''}$\n",
       "$\\newcommand{\\farcm}{{.}'}$\n",
       "$\\newcommand{\\arcsec}{''}$\n",
       "$\\newcommand{\\arcmin}{'}$\n",
       "$\\newcommand{\\ion}[2]{#1#2}$\n",
       "$\\newcommand{\\textsc}[1]{\\textrm{#1}}$\n",
       "$\\newcommand{\\hl}[1]{\\textrm{#1}}$\n",
       "$\\newcommand{\\footnote}[1]{}$\n",
       "$\\newcommand{\\vdag}{(v)^\\dagger}$\n",
       "$\\newcommand$\n",
       "$\\newcommand$\n",
       "$\\newcommand$</div>\n",
       "\n",
       "\n",
       "\n",
       "<div id=\"title\">\n",
       "\n",
       "# oMEGACat II - Photometry and proper motions for 1.4 million stars in Omega Centauri and its rotation in the plane of the sky\n",
       "\n",
       "</div>\n",
       "<div id=\"comments\">\n",
       "\n",
       "[![arXiv](https://img.shields.io/badge/arXiv-2404.03722-b31b1b.svg)](https://arxiv.org/abs/2404.03722)<mark>Appeared on: 2024-04-08</mark> -  _38 pages, 24 figures, 8 tables, Submitted to ApJ, The full catalog will be made public along with the publication by the journal_\n",
       "\n",
       "</div>\n",
       "<div id=\"authors\">\n",
       "\n",
       "<mark>M. Häberle</mark>, et al. -- incl., <mark>N. Neumayer</mark>, <mark>C. Clontz</mark>\n",
       "\n",
       "</div>\n",
       "<div id=\"abstract\">\n",
       "\n",
       "**Abstract:** Omega Centauri ( $\\omc$ ) is the most massive globular cluster of the Milky Way. It is thought to be the nucleus of an accreted dwarf galaxy because of its high mass and its complex stellar populations. To decipher its formation history and study its dynamics, we created the most comprehensive kinematic catalog for its inner region, by analyzing both archival and new _Hubble Space Telescope (HST)_ data. Our catalog contains 1 395 781 proper-motion measurements out to the half-light radius of the cluster ( $\\sim5.0\\arcmin$ ) and down to $m_{\\rm F625W}\\approx25$ . The typical baseline for our proper-motion measurements is 20 years, leading to a median 1D proper motion precision of $\\sim$ 11 µas yr $^{-1}$ for stars with $m_{\\rm F625W}\\approx 18$ mag, with even better precision ( $\\sim$ 6.6 µas yr $^{-1}$ ) achieved in the extensively observed centermost ( $r<1.5\\arcmin$ ) region.  In addition to our astrometric measurements, we also obtained precise _HST_ photometry in seven filters spanning from the ultraviolet to the near-infrared. This allows detailed color-magnitude-diagram studies and to separate the multiple stellar populations of the cluster. In this work, we describe the data reduction used to obtain both the photometric and the proper-motion measurements. We also illustrate the creation and the content of our catalog, which is made publicly available. Finally, we present measurements of the plane-of-sky rotation of $\\omc$ in the previously unprobed inner few arcminutes and a precise measurement of the inclination $i=(43.6\\pm1.5)^\\circ$ .\n",
       "\n",
       "</div>\n",
       "\n",
       "<div id=\"div_fig1\">\n",
       "\n",
       "<img src=\"tmp_2404.03722/./comparison_with_bellini_uncorrected.jpg\" alt=\"Fig20\" width=\"100%\"/>\n",
       "\n",
       "**Figure 20. -** Comparison of uncorrected proper motions with [Bellini, Anderson and Bedin (2017)]() for the right-ascension (upper row) and the declination proper-motion component (lower row). The panels first-from-the-left show a direct comparison of the proper-motion components. The red line is the plane-bisector and not a fit to the data. The second-from-the-left panels show how the proper motion difference between the two datasets varies over the field. Some mild systematic trends are visible, as expected for the uncorrected, amplifier-based, proper motions. The third-from-the-left panels show a histogram of the differences between the measurements, the fourth-from-the-left panels show the same differences but divided by the combined proper-motion error. (*fig:bellini_uncorrected*)\n",
       "\n",
       "</div>\n",
       "<div id=\"div_fig2\">\n",
       "\n",
       "<img src=\"tmp_2404.03722/./vpd_and_cmd.jpg\" alt=\"Fig7\" width=\"100%\"/>\n",
       "\n",
       "**Figure 7. -** **Left panel: ** A vector-point diagram of the relative proper motions for a subset of around 700 000 well-measured stars in our catalog. Most stars are distributed around the origin, as expected for \\omc's member stars and follow a normal distribution in both velocity components (see marginalized histograms at the edge of the plot). A small fraction of stars has a relative proper motion incompatible with the cluster's motion. Those stars lie outside of the 3.0 mas yr$^{-1}$ radius indicated with a dashed circle (corresponding to a 4.5$\\sigma$ deviation from the velocity distribution of the cluster stars) and are marked with turquoise crosses. The non-member stars show substructures that can be attributed to background galaxies (marked with a solid circle) and Galactic foreground/background stars. **Right panel:** A color-magnitude diagram of the same sample. One can see that the stars with a high relative proper motion do not follow the CMD sequences of \\omc. Our proper motions cover almost the entire CMD, however the brightest stars, indicated with red dots, do not have a proper motion measurement, as they are saturated even in the shortest _HST_ exposures. (*fig:vpd*)\n",
       "\n",
       "</div>\n",
       "<div id=\"div_fig3\">\n",
       "\n",
       "<img src=\"tmp_2404.03722/./gaia_footprint_and_cmd.jpg\" alt=\"Fig13\" width=\"100%\"/>\n",
       "\n",
       "**Figure 13. -** **Left panel:** Footprint of our proper-motion catalog and all _Gaia_ stars that could be crossmatched (blue). High-quality stars from _Gaia FPR_ are marked in cyan, and high-quality stars from _Gaia DR3_ are marked in red. **Middle panel:** The same sample of stars, but plotted as a color-magnitude diagram. One can see that all HQ _Gaia DR3_ measurements are limited to stars brighter than the main-sequence turn-off, while the _Gaia FPR_ sample reaches slightly deeper. **Right panel:** Absolute deviation between the positions from our _HST_ catalog and the two HQ _Gaia_ subsamples. The shift of the centroid can be explained by the absolute proper motion of \\omc , while the spread of the distribution is caused by the displacement due to the velocity dispersion. (*fig:gaia_footprint*)\n",
       "\n",
       "</div><div id=\"qrcode\"><img src=https://api.qrserver.com/v1/create-qr-code/?size=100x100&data=\"https://arxiv.org/abs/2404.03722\"></div>"
      ],
      "text/plain": [
       "<IPython.core.display.Markdown object>"
      ]
     },
     "metadata": {},
     "output_type": "display_data"
    },
    {
     "data": {
      "text/markdown": [
       "<div class=\"macros\" style=\"visibility:hidden;\">\n",
       "$\\newcommand{\\ensuremath}{}$\n",
       "$\\newcommand{\\xspace}{}$\n",
       "$\\newcommand{\\object}[1]{\\texttt{#1}}$\n",
       "$\\newcommand{\\farcs}{{.}''}$\n",
       "$\\newcommand{\\farcm}{{.}'}$\n",
       "$\\newcommand{\\arcsec}{''}$\n",
       "$\\newcommand{\\arcmin}{'}$\n",
       "$\\newcommand{\\ion}[2]{#1#2}$\n",
       "$\\newcommand{\\textsc}[1]{\\textrm{#1}}$\n",
       "$\\newcommand{\\hl}[1]{\\textrm{#1}}$\n",
       "$\\newcommand{\\footnote}[1]{}$\n",
       "$\\newcommand$\n",
       "$\\newcommand$\n",
       "$\\newcommand{\\klip}{{\\tt KLIP}\\xspace}$\n",
       "$\\newcommand{\\pyn}{{\\tt PynPoint}\\xspace}$\n",
       "$\\newcommand{\\kgold}{K_{\\rm Gold}}$\n",
       "$\\newcommand{\\kliss}{K_{\\rm Liss}}$\n",
       "$\\newcommand{\\bliss}{B_{\\rm Liss}}$\n",
       "$\\newcommand{\\rcapt}{R_{\\rm capt}}$\n",
       "$\\newcommand{\\mz}{M_{\\rm Z}}$\n",
       "$\\newcommand{\\mxy}{M_{\\rm XY}}$\n",
       "$\\newcommand{\\lext}{L_{\\rm ext}}$\n",
       "$\\newcommand{\\lsun}{L_{\\odot}}$\n",
       "$\\newcommand{\\fpgsun}{f_{\\rm D/G,\\odot}}$\n",
       "$\\newcommand{\\mdisc}{M_{\\rm disc}}$\n",
       "$\\newcommand{\\tdisc}{t_{\\rm disc}}$\n",
       "$\\newcommand{\\mdotz}{\\dot{M}_{\\rm Z}}$\n",
       "$\\newcommand{\\mdotxy}{\\dot{M}_{\\rm XY}}$\n",
       "$\\newcommand{\\cadia}{C_{\\rm adia }}$\n",
       "$\\newcommand{\\cloc}{C_{\\rm loc }}$\n",
       "$\\newcommand{\\fvisc}{f_{\\rm visc }}$\n",
       "$\\newcommand{\\fsigma}{f_{\\rm \\Sigma}}$\n",
       "$\\newcommand{\\xs}{x_{\\rm s}}$\n",
       "$\\newcommand{\\rp}{r_{\\rm p}}$\n",
       "$\\newcommand{\\omegap}{\\Omega_{\\rm p}}$\n",
       "$\\newcommand{\\sigmap}{\\Sigma_{\\rm p}}$\n",
       "$\\newcommand{\\tauuturn}{\\tau_{\\rm U-turn}}$\n",
       "$\\newcommand{\\taucool}{\\tau_{\\rm cool}}$\n",
       "$\\newcommand{\\taulib}{\\tau_{\\rm lib}}$\n",
       "$\\newcommand{\\tauvisc}{\\tau_{\\rm visc}}$\n",
       "$\\newcommand{\\msat}{M_{\\rm sat}}$\n",
       "$\\newcommand{\\mgap}{M_{\\rm gap}}$\n",
       "$\\newcommand{\\rroche}{r_{\\rm Roche}}$\n",
       "$\\newcommand{\\betat}{\\beta_{\\rm T}}$\n",
       "$\\newcommand{\\betas}{\\beta_{\\rm \\Sigma}}$\n",
       "$\\newcommand{\\dotrp}{\\dot{r}_{\\rm p}}$\n",
       "$\\newcommand{\\rch}[1]{{{\\color{orange}#1}}}$\n",
       "$\\newcommand{\\rea}[1]{{{\\color{red}Reading: #1}}}$\n",
       "$\\newcommand{\\cstart}$\n",
       "$\\newcommand{\\cend}$\n",
       "$\\newcommand{\\checkmark}{\\tikz\\fill[scale=0.4](0,.35) -- (.25,0) -- (1,.7) -- (.25,.15) -- cycle;}$\n",
       "$\\newcommand{\\ptrad}{{\\tt petitRADTRANS}\\xspace}$\n",
       "$\\newcommand{\\ptdoc}{\\url{https://petitradtrans.readthedocs.io}}$\n",
       "$\\newcommand{\\mearth}{{\\rm M}_\\oplus}$\n",
       "$\\newcommand{\\rearth}{{\\rm R}_\\oplus}$\n",
       "$\\newcommand{\\ed}{{\\sc{EddySed}}\\xspace}$\n",
       "$\\newcommand{\\msun}{{\\rm M}_\\odot}$\n",
       "$\\newcommand{\\rsun}{{\\rm R}_\\odot}$\n",
       "$\\newcommand{\\rhill}{R_{\\rm H}}$\n",
       "$\\newcommand{\\mcore}{M_{\\rm core}}$\n",
       "$\\newcommand{\\mheavy}{M_{\\rm heavy}}$\n",
       "$\\newcommand{\\astart}{a_{\\rm start}}$\n",
       "$\\newcommand{\\fpg}{f_{\\rm D/G}}$\n",
       "$\\newcommand{\\fri}{f_{\\rm R/I}}$\n",
       "$\\newcommand{\\f1}{f_{\\rm I}}$\n",
       "$\\newcommand{\\mj}{{M}_{\\textrm{\\tiny Jup}}\\xspace}$\n",
       "$\\newcommand{\\rj}{{R}_{\\textrm{\\tiny Jup}}\\xspace}$\n",
       "$\\newcommand{\\teff}{T_{\\rm eff}}$\n",
       "$\\newcommand{\\Tint}{\\ensuremath{T_{\\rm int}}\\xspace}$\n",
       "$\\newcommand{\\Tbot}{\\ensuremath{T_{\\rm bot}}\\xspace}$\n",
       "$\\newcommand{\\kzz}{\\ensuremath{K_{\\rm zz}}\\xspace}$\n",
       "$\\newcommand{\\fsed}{\\ensuremath{f_{\\rm sed}}\\xspace}$\n",
       "$\\newcommand{\\h2o}{H_{2}O\\xspace}$\n",
       "$\\newcommand{\\ch4}{CH_{4}\\xspace}$\n",
       "$\\newcommand{\\nh3}{NH_{3}\\xspace}$\n",
       "$\\newcommand{\\co2}{CO_{2}\\xspace}$\n",
       "$\\newcommand{\\ph3}{PH_{3}\\xspace}$\n",
       "$\\newcommand{\\Zpl}{\\ensuremath{Z_{\\rm pl}}\\xspace}$\n",
       "$\\newcommand{\\Zstar}{\\ensuremath{Z_{\\star}}\\xspace}$\n",
       "$\\newcommand{\\mstar}{M_*}$\n",
       "$\\newcommand{\\mdisk}{M_{\\rm disk}}$\n",
       "$\\newcommand{\\astart}{a_{\\rm start}}$\n",
       "$\\newcommand{\\tstart}{t_{\\rm start}}$\n",
       "$\\newcommand{\\membstart}{M_{\\rm emb,0}}$\n",
       "$\\newcommand{\\memb}{M_{\\rm emb}}$\n",
       "$\\newcommand{\\anorm}{a_0}$\n",
       "$\\newcommand{\\rcore}{R_{\\rm core}}$\n",
       "$\\newcommand{\\mdotcore}{\\dot{M}_{\\rm core}}$\n",
       "$\\newcommand{\\mwind}{\\dot{M}_{\\rm w}}$\n",
       "$\\newcommand{\\menv}{M_{\\rm env}}$\n",
       "$\\newcommand{\\miso}{M_{\\rm iso}}$\n",
       "$\\newcommand{\\mpla}{m_{\\rm pla}}$\n",
       "$\\newcommand{\\arock}{a_{\\rm rock}}$\n",
       "$\\newcommand{\\aice}{a_{\\rm ice}}$\n",
       "$\\newcommand{\\beq}{\\begin{equation}}$\n",
       "$\\newcommand{\\eeq}{\\end{equation}}$\n",
       "$\\newcommand{\\mplanet}{M_{\\rm planet}}$\n",
       "$\\newcommand{\\aplanet}{a_{\\rm planet}}$\n",
       "$\\newcommand{\\sigmad}{\\Sigma_{\\rm D}}$\n",
       "$\\newcommand{\\atouch}{a_{\\rm touch}}$\n",
       "$\\newcommand{\\sigmanorm}{\\Sigma_{0}}$\n",
       "$\\newcommand{\\tmc}{\\tau_{\\rm RV,MC}}$\n",
       "$\\newcommand{\\epsilonmc}{\\epsilon_{\\rm RV,MC}}$\n",
       "$\\newcommand{\\nref}{N_{\\rm ref}}$\n",
       "$\\newcommand{\\nobsref}{N_{\\rm obsref}}$\n",
       "$\\newcommand{\\nhot}{N_{\\rm hot}}$\n",
       "$\\newcommand{\\nlate}{N_{\\rm late}}$\n",
       "$\\newcommand{\\nobs}{N_{\\rm obs}}$\n",
       "$\\newcommand{\\nsamp}{N_{\\rm samp}}$\n",
       "$\\newcommand{\\dks}{d_{\\rm KS}}$\n",
       "$\\newcommand{\\sam}{S_{\\rm a-M}}$\n",
       "$\\newcommand{\\sm}{S_{\\rm M}}$\n",
       "$\\newcommand{\\sa}{S_{\\rm a}}$\n",
       "$\\newcommand{\\sfeh}{S_{\\rm[Fe/H]}}$\n",
       "$\\newcommand{\\nobsreffv}{N_{\\rm obsrefFV}}$\n",
       "$\\newcommand{\\nobsrefhotfv}{N_{\\rm obsrefhotFV}}$\n",
       "$\\newcommand{\\msini}{M\\sin i}$\n",
       "$\\newcommand{\\amax}{a_{\\rm max}}$\n",
       "$\\newcommand{\\amin}{a_{\\rm min}}$\n",
       "$\\newcommand{\\aphys}{a_{\\rm phys}}$\n",
       "$\\newcommand{\\pwhot}{P_{\\rm whot}}$\n",
       "$\\newcommand{\\pfv}{P_{\\rm FV}}$\n",
       "$\\newcommand{\\pfvwhot}{P_{\\rm FV,whot}}$\n",
       "$\\newcommand{\\ffv}{F_{\\rm FV}}$\n",
       "$\\newcommand{\\fwemb}{F_{\\rm wemb}}$\n",
       "$\\newcommand{\\mmax}{M_{\\rm max}}$\n",
       "$\\newcommand{\\fopa}{f_{\\rm opa}}$\n",
       "$\\newcommand{\\t2}{\\tau_{\\rm II}}$\n",
       "$\\newcommand{\\ltot}{L_{\\rm tot}}$\n",
       "$\\newcommand{\\lcore}{L_{\\rm core}}$\n",
       "$\\newcommand{\\mtot}{M_{\\rm tot}}$\n",
       "$\\newcommand{\\sigmas0}{\\Sigma_{\\rm s,0}}$\n",
       "$\\newcommand{\\LJ}{L_{{\\rm \\jupiter}}}$\n",
       "$\\newcommand{\\RJ}{R_{{\\rm \\jupiter}}}$\n",
       "$\\newcommand{\\petit}{\\emph{petitCODE} }$\n",
       "$\\newcommand{\\kgold}{K_{\\rm Gold}}$\n",
       "$\\newcommand{\\kliss}{K_{\\rm Liss}}$\n",
       "$\\newcommand{\\bliss}{B_{\\rm Liss}}$\n",
       "$\\newcommand{\\rcapt}{R_{\\rm capt}}$\n",
       "$\\newcommand{\\mz}{M_{\\rm Z}}$\n",
       "$\\newcommand{\\mxy}{M_{\\rm XY}}$\n",
       "$\\newcommand{\\lext}{L_{\\rm ext}}$\n",
       "$\\newcommand{\\lsun}{L_{\\odot}}$\n",
       "$\\newcommand{\\fpgsun}{f_{\\rm D/G,\\odot}}$\n",
       "$\\newcommand{\\mdisc}{M_{\\rm disc}}$\n",
       "$\\newcommand{\\tdisc}{t_{\\rm disc}}$\n",
       "$\\newcommand{\\mdotz}{\\dot{M}_{\\rm Z}}$\n",
       "$\\newcommand{\\mdotxy}{\\dot{M}_{\\rm XY}}$\n",
       "$\\newcommand{\\cadia}{C_{\\rm adia }}$\n",
       "$\\newcommand{\\cloc}{C_{\\rm loc }}$\n",
       "$\\newcommand{\\fvisc}{f_{\\rm visc }}$\n",
       "$\\newcommand{\\fsigma}{f_{\\rm \\Sigma}}$\n",
       "$\\newcommand{\\xs}{x_{\\rm s}}$\n",
       "$\\newcommand{\\rp}{r_{\\rm p}}$\n",
       "$\\newcommand{\\omegap}{\\Omega_{\\rm p}}$\n",
       "$\\newcommand{\\sigmap}{\\Sigma_{\\rm p}}$\n",
       "$\\newcommand{\\tauuturn}{\\tau_{\\rm U-turn}}$\n",
       "$\\newcommand{\\taucool}{\\tau_{\\rm cool}}$\n",
       "$\\newcommand{\\taulib}{\\tau_{\\rm lib}}$\n",
       "$\\newcommand{\\tauvisc}{\\tau_{\\rm visc}}$\n",
       "$\\newcommand{\\msat}{M_{\\rm sat}}$\n",
       "$\\newcommand{\\mgap}{M_{\\rm gap}}$\n",
       "$\\newcommand{\\rroche}{r_{\\rm Roche}}$\n",
       "$\\newcommand{\\betat}{\\beta_{\\rm T}}$\n",
       "$\\newcommand{\\betas}{\\beta_{\\rm \\Sigma}}$\n",
       "$\\newcommand{\\dotrp}{\\dot{r}_{\\rm p}}$\n",
       "$\\newcommand\\vol{#1}{ #1}$\n",
       "$\\newcommand{\\(}{\\left(}$\n",
       "$\\newcommand{\\)}{\\right)}$\n",
       "$\\newcommand{\\<}{\\left<}$\n",
       "$\\newcommand{\\>}{\\right>}$\n",
       "$\\newcommand{\\bacon}{\\emph{BACON}~}$\n",
       "$\\newcommand{\\tr}{\\mathcal{T}}$\n",
       "$\\newcommand{\\rch}[1]{{{\\color{orange}#1}}}$\n",
       "$\\newcommand{\\rea}[1]{{{\\color{red}Reading: #1}}}$\n",
       "$\\newcommand{\\cstart} $\n",
       "$\\newcommand{\\cend} $\n",
       "$\\newcommandcitealias{ackerman_precipitating_2001}{AM01}$\n",
       "$\\newcommandcitealias{molliere_retrieving_2020}{M20}$\n",
       "$\\newcommandcitealias{zhang_elemental_2023}{Z23}$\n",
       "$\\newcommandcitealias{guillot_radiative_2010}{G10}$\n",
       "$\\begin{document}$\n",
       "$   \\title{Four-of-a-kind? Comprehensive atmospheric characterisation of the HR~8799 planets with VLTI/GRAVITY}$\n",
       "$    \\titlerunning{HR8799 Atmospheres}$\n",
       "$    \\authorrunning{Nasedkin et al.}$\n",
       "$   \\subtitle $\n",
       "$   \\author{E.~Nasedkin\\inst{\\ref{mpia}}\\fnmsep\\thanks{Corresponding Author, \\href{mailto:nasedkin@mpia.de}{nasedkin@mpia.de}}$\n",
       "$   \\and P.~Mollière\\inst{\\ref{mpia}}$\n",
       "$ \\and S.~Lacour\\inst{\\ref{lesia},\\ref{esog}}$\n",
       "$ \\and M.~Nowak\\inst{\\ref{cam}}$\n",
       "$ \\and L.~Kreidberg\\inst{\\ref{mpia}}$\n",
       "$ \\and T.~Stolker\\inst{\\ref{leiden}}$\n",
       "$ \\and J.~J.~Wang\\inst{\\ref{northwestern}}$\n",
       "$ \\and W.~O.~Balmer\\inst{\\ref{jhupa},\\ref{stsci}}$\n",
       "$ \\and J.~Kammerer\\inst{\\ref{esog}}$\n",
       "$ \\and J.~Shangguan\\inst{\\ref{mpe}}$\n",
       "$ \\and R.~Abuter\\inst{\\ref{esog}}$\n",
       "$ \\and A.~Amorim\\inst{\\ref{lisboa},\\ref{centra}}$\n",
       "$ \\and R.~Asensio-Torres\\inst{\\ref{mpia}}$\n",
       "$ \\and M.~Benisty\\inst{\\ref{ipag}}$\n",
       "$ \\and J.-P.~Berger\\inst{\\ref{ipag}}$\n",
       "$ \\and H.~Beust\\inst{\\ref{ipag}}$\n",
       "$ \\and S.~Blunt\\inst{\\ref{northwestern}}$\n",
       "$ \\and A.~Boccaletti\\inst{\\ref{lesia}}$\n",
       "$ \\and M.~Bonnefoy\\inst{\\ref{ipag}}$\n",
       "$ \\and H.~Bonnet\\inst{\\ref{esog}}$\n",
       "$ \\and M.~S.~Bordoni\\inst{\\ref{mpe}}$\n",
       "$ \\and G.~Bourdarot\\inst{\\ref{mpe}}$\n",
       "$ \\and W.~Brandner\\inst{\\ref{mpia}}$\n",
       "$ \\and F.~Cantalloube\\inst{\\ref{lam}}$\n",
       "$ \\and P.~Caselli \\inst{\\ref{mpe}}$\n",
       "$ \\and B.~Charnay\\inst{\\ref{lesia}}$\n",
       "$ \\and G.~Chauvin\\inst{\\ref{cotedazur}}$\n",
       "$ \\and A.~Chavez\\inst{\\ref{northwestern}}$\n",
       "$ \\and E.~Choquet\\inst{\\ref{lam}}$\n",
       "$ \\and V.~Christiaens\\inst{\\ref{liege}}$\n",
       "$ \\and Y.~Clénet\\inst{\\ref{lesia}}$\n",
       "$ \\and V.~Coudé~du~Foresto\\inst{\\ref{lesia}}$\n",
       "$ \\and A.~Cridland\\inst{\\ref{leiden}}$\n",
       "$ \\and R.~Davies\\inst{\\ref{mpe}}$\n",
       "$ \\and R.~Dembet\\inst{\\ref{lesia}}$\n",
       "$ \\and J.~Dexter\\inst{\\ref{boulder}}$\n",
       "$ \\and A.~Drescher\\inst{\\ref{mpe}}$\n",
       "$ \\and G.~Duvert\\inst{\\ref{ipag}}$\n",
       "$ \\and A.~Eckart\\inst{\\ref{cologne},\\ref{bonn}}$\n",
       "$ \\and F.~Eisenhauer\\inst{\\ref{mpe}}$\n",
       "$ \\and N.~M.~Förster Schreiber\\inst{\\ref{mpe}}$\n",
       "$ \\and P.~Garcia\\inst{\\ref{centra},\\ref{porto}}$\n",
       "$ \\and R.~Garcia~Lopez\\inst{\\ref{dublin},\\ref{mpia}}$\n",
       "$ \\and E.~Gendron\\inst{\\ref{lesia}}$\n",
       "$ \\and R.~Genzel\\inst{\\ref{mpe},\\ref{ucb}}$\n",
       "$ \\and S.~Gillessen\\inst{\\ref{mpe}}$\n",
       "$ \\and J.~H.~Girard\\inst{\\ref{stsci}}$\n",
       "$ \\and S.~Grant\\inst{\\ref{mpe}}$\n",
       "$ \\and X.~Haubois\\inst{\\ref{esoc}}$\n",
       "$ \\and G.~Hei\\ss el\\inst{\\ref{actesa},\\ref{lesia}}$\n",
       "$ \\and Th.~Henning\\inst{\\ref{mpia}}$\n",
       "$ \\and S.~Hinkley\\inst{\\ref{exeter}}$\n",
       "$ \\and S.~Hippler\\inst{\\ref{mpia}}$\n",
       "$ \\and M.~Houllé\\inst{\\ref{cotedazur}}$\n",
       "$ \\and Z.~Hubert\\inst{\\ref{ipag}}$\n",
       "$ \\and L.~Jocou\\inst{\\ref{ipag}}$\n",
       "$ \\and M.~Keppler\\inst{\\ref{arizona}}$\n",
       "$ \\and P.~Kervella\\inst{\\ref{lesia}}$\n",
       "$ \\and N.~T.~Kurtovic\\inst{\\ref{mpe}}$\n",
       "$ \\and A.-M.~Lagrange\\inst{\\ref{ipag},\\ref{lesia}}$\n",
       "$ \\and V.~Lapeyrère\\inst{\\ref{lesia}}$\n",
       "$ \\and J.-B.~Le~Bouquin\\inst{\\ref{ipag}}$\n",
       "$ \\and D.~Lutz\\inst{\\ref{mpe}}$\n",
       "$ \\and A.-L.~Maire\\inst{\\ref{ipag}}$\n",
       "$ \\and F.~Mang\\inst{\\ref{mpe}}$\n",
       "$ \\and G.-D.~Marleau\\inst{\\ref{duisburg},\\ref{tuebingen},\\ref{bern},\\ref{mpia}}$\n",
       "$ \\and A.~Mérand\\inst{\\ref{esog}}$\n",
       "$ \\and J.~D.~Monnier\\inst{\\ref{umich}}$\n",
       "$ \\and C.~Mordasini\\inst{\\ref{bern}}$\n",
       "$ \\and T.~Ott\\inst{\\ref{mpe}}$\n",
       "$ \\and G.~P.~P.~L.~Otten\\inst{\\ref{sinica}}$\n",
       "$ \\and C.~Paladini\\inst{\\ref{esoc}}$\n",
       "$ \\and T.~Paumard\\inst{\\ref{lesia}}$\n",
       "$ \\and K.~Perraut\\inst{\\ref{ipag}}$\n",
       "$ \\and G.~Perrin\\inst{\\ref{lesia}}$\n",
       "$ \\and O.~Pfuhl\\inst{\\ref{esog}}$\n",
       "$ \\and N.~Pourré\\inst{\\ref{ipag}}$\n",
       "$ \\and L.~Pueyo\\inst{\\ref{stsci}}$\n",
       "$ \\and D.~C.~Ribeiro\\inst{\\ref{mpe}}$\n",
       "$ \\and E.~Rickman\\inst{\\ref{esa}}$\n",
       "$ \\and J.B.~Ruffio\\inst{\\ref{sandiego}}$\n",
       "$ \\and Z.~Rustamkulov\\inst{\\ref{jhueps}}$\n",
       "$ \\and T.~Shimizu \\inst{\\ref{mpe}}$\n",
       "$ \\and D.~Sing\\inst{\\ref{jhupa},\\ref{jhueps}}$\n",
       "$ \\and J.~Stadler\\inst{\\ref{mpa},\\ref{origins}}$\n",
       "$ \\and O.~Straub\\inst{\\ref{origins}}$\n",
       "$ \\and C.~Straubmeier\\inst{\\ref{cologne}}$\n",
       "$ \\and E.~Sturm\\inst{\\ref{mpe}}$\n",
       "$ \\and L.~J.~Tacconi\\inst{\\ref{mpe}}$\n",
       "$ \\and E.~F.~van~Dishoeck\\inst{\\ref{leiden},\\ref{mpe}}$\n",
       "$ \\and A.~Vigan\\inst{\\ref{lam}}$\n",
       "$ \\and F.~Vincent\\inst{\\ref{lesia}}$\n",
       "$ \\and S.~D.~von~Fellenberg\\inst{\\ref{bonn}}$\n",
       "$ \\and F.~Widmann\\inst{\\ref{mpe}}$\n",
       "$ \\and T.~O.~Winterhalder\\inst{\\ref{esog}}$\n",
       "$ \\and J.~Woillez\\inst{\\ref{esog}}$\n",
       "$ \\and \\c{S}.~Yaz\\i c\\i \\inst{\\ref{mpe}}$\n",
       "$ \\and  the~GRAVITY~Collaboration}$\n",
       "$\\institute{$\n",
       "$   Max-Planck-Institut für Astronomie, Königstuhl 17, 69117 Heidelberg, Germany$\n",
       "$\\label{mpia}      \\and$\n",
       "$   LESIA, Observatoire de Paris, PSL, CNRS, Sorbonne Université, Université de Paris, 5 place Janssen, 92195 Meudon, France$\n",
       "$\\label{lesia}      \\and$\n",
       "$   European Southern Observatory, Karl-Schwarzschild-Stra\\ss e 2, 85748 Garching, Germany$\n",
       "$\\label{esog}      \\and$\n",
       "$   Institute of Astronomy, University of Cambridge, Madingley Road, Cambridge CB3 0HA, United Kingdom$\n",
       "$\\label{cam}      \\and$\n",
       "$   Leiden Observatory, Leiden University, P.O. Box 9513, 2300 RA Leiden, The Netherlands$\n",
       "$\\label{leiden}      \\and$\n",
       "$   Center for Interdisciplinary Exploration and Research in Astrophysics (CIERA) and Department of Physics and Astronomy, Northwestern University, Evanston, IL 60208, USA$\n",
       "$\\label{northwestern}      \\and$\n",
       "$   Department of Physics \\& Astronomy, Johns Hopkins University, 3400 N. Charles Street, Baltimore, MD 21218, USA$\n",
       "$\\label{jhupa}      \\and$\n",
       "$   Space Telescope Science Institute, 3700 San Martin Drive, Baltimore, MD 21218, USA$\n",
       "$ \\label{stsci}  \\and$\n",
       "$   Max-Planck-Institut für Extraterrestrische Physik, Giessenbachstra\\ss e~1, 85748 Garching, Germany$\n",
       "$\\label{mpe}      \\and$\n",
       "$   Universidade de Lisboa - Faculdade de Ci\\^encias, Campo Grande, 1749-016 Lisboa, Portugal$\n",
       "$\\label{lisboa}      \\and$\n",
       "$   CENTRA - Centro de Astrofísica e Gravitação, IST, Universidade de Lisboa, 1049-001 Lisboa, Portugal$\n",
       "$\\label{centra}      \\and$\n",
       "$   Univ. Grenoble Alpes, CNRS, IPAG, 38000 Grenoble, France$\n",
       "$\\label{ipag}      \\and$\n",
       "$   Aix Marseille Univ, CNRS, CNES, LAM, Marseille, France$\n",
       "$\\label{lam}      \\and$\n",
       "$   Université C\\^{o}te d'Azur, Observatoire de la C\\^{o}te d'Azur, CNRS, Laboratoire Lagrange, France$\n",
       "$\\label{cotedazur}      \\and$\n",
       "$  STAR Institute, Université de Liège, Allée du Six Ao\\^ut 19c, 4000 Liège, Belgium$\n",
       "$\\label{liege}      \\and$\n",
       "$   Department of Astrophysical \\& Planetary Sciences, JILA, Duane Physics Bldg., 2000 Colorado Ave, University of Colorado, Boulder, CO 80309, USA$\n",
       "$\\label{boulder}      \\and$\n",
       "$   1. Institute of Physics, University of Cologne, Zülpicher Stra\\ss e 77, 50937 Cologne, Germany$\n",
       "$\\label{cologne}      \\and$\n",
       "$   Max-Planck-Institut für Radioastronomie, Auf dem Hügel 69, 53121 Bonn, Germany$\n",
       "$\\label{bonn}      \\and$\n",
       "$   Universidade do Porto, Faculdade de Engenharia, Rua Dr.~Roberto Frias, 4200-465 Porto, Portugal$\n",
       "$\\label{porto}      \\and$\n",
       "$   School of Physics, University College Dublin, Belfield, Dublin 4, Ireland$\n",
       "$\\label{dublin}      \\and$\n",
       "$   Astrophysics Group, Department of Physics \\& Astronomy, University of Exeter, Stocker Road, Exeter, EX4 4QL, United Kingdom$\n",
       "$\\label{exeterAstro}      \\and$\n",
       "$   Departments of Physics and Astronomy, Le Conte Hall, University of California, Berkeley, CA 94720, USA$\n",
       "$\\label{ucb}      \\and$\n",
       "$   European Southern Observatory, Casilla 19001, Santiago 19, Chile$\n",
       "$\\label{esoc}      \\and$\n",
       "$   Advanced Concepts Team, European Space Agency, TEC-SF, ESTEC, Keplerlaan 1, NL-2201, AZ Noordwijk, The Netherlands$\n",
       "$\\label{actesa}      \\and$\n",
       "$Department of Astronomy and Steward Observatory, University of Arizona, Tucson, AZ, USA$\n",
       "$\\label{arizona}     \\and$\n",
       "$   University of Exeter, Physics Building, Stocker Road, Exeter EX4 4QL, United Kingdom$\n",
       "$\\label{exeter}      \\and$\n",
       "$   Fakultät für Physik, Universität Duisburg--Essen, Lotharstra\\ss e 1, 47057 Duisburg, Germany$\n",
       "$\\label{duisburg}      \\and$\n",
       "$   Institüt für Astronomie und Astrophysik, Universität Tübingen, Auf der Morgenstelle 10, 72076 Tübingen, Germany$\n",
       "$\\label{tuebingen}      \\and$\n",
       "$   Physikalisches Institut, Universität Bern, Gesellschaftsstr.~6, 3012 Bern, Switzerland$\n",
       "$\\label{bern}      \\and$\n",
       "$   Astronomy Department, University of Michigan, Ann Arbor, MI 48109 USA$\n",
       "$\\label{umich}      \\and$\n",
       "$   Academia Sinica, Institute of Astronomy and Astrophysics, 11F Astronomy-Mathematics Building, NTU/AS campus, No. 1, Section 4, Roosevelt Rd., Taipei 10617, Taiwan$\n",
       "$\\label{sinica}      \\and$\n",
       "$   European Space Agency,$\n",
       "$   ESA Office, Space Telescope Science Institute, 3700 San Martin Drive, Baltimore, MD 21218, USA$\n",
       "$\\label{esa}   \\and$\n",
       "$    Department of Astronomy \\& Astrophysics,  University of California, San Diego, La Jolla, CA 92093, USA$\n",
       "$ \\label{sandiego}   \\and$\n",
       "$   Department of Earth \\& Planetary Sciences, Johns Hopkins University, Baltimore, MD 21218, USA$\n",
       "$\\label{jhueps}      \\and$\n",
       "$   Max-Planck-Institut für Astrophysik, Karl-Schwarzschild-Str. 1, 85741 Garching, Germany$\n",
       "$\\label{mpa}      \\and$\n",
       "$   Excellence Cluster ORIGINS, Boltzmannstra\\ss e 2, 85748 Garching bei München, Germany$\n",
       "$\\label{origins}      \\and$\n",
       "$   Institutionen för astronomi, AlbaNova universitetscentrum, Stockholms universitet, 10691 Stockholm, Sweden$\n",
       "$\\label{stockholm}$\n",
       "$}$\n",
       "$   \\date{Received 2024-01-24}$\n",
       "$  \\abstract{$\n",
       "$  With four companions at separations from 16 to 71 au, HR 8799 is a unique target for direct imaging, presenting an opportunity for the comparative study of exoplanets with a shared formation history.$\n",
       "$  Combining new VLTI/GRAVITY observations obtained within the ExoGRAVITY program with archival data, we perform a systematic atmospheric characterisation across all four planets.$\n",
       "$  We explore different levels of model flexibility to understand the temperature structure, chemistry and clouds of each planet using both {\\tt petitRADTRANS} atmospheric retrievals and fits to self-consistent radiative-convective equilibrium models.$\n",
       "$  Using Bayesian Model Averaging to combine multiple retrievals (a total of 89 across all four planets), we find that the HR 8799 planets are highly enriched in metals, with [M/H] \\gtrsim1, and have stellar to super-stellar C/O ratios.$\n",
       "$  The C/O ratio increases with increasing separation from 0.55^{+0.12}_{-0.10} for d to 0.78^{+0.03}_{-0.04} for b, with the exception of the innermost planet which has a C/O ratio of 0.87\\pm0.03.$\n",
       "$  Such high metallicities are unexpected for these massive planets, challenging planet formation models.$\n",
       "$  By retrieving a quench pressure and using a disequilibrium chemistry model we derive vertical mixing strengths compatible with predictions for high-metallicity, self-luminous atmospheres.$\n",
       "$  Bayesian evidence comparisons strongly favour the presence of HCN in HR 8799 c and e, as well as \\ch4 in HR 8799 c, with detections at >5\\sigma confidence.$\n",
       "$  All of the planets are cloudy, with no evidence for patchiness.$\n",
       "$  The clouds of c, d and e are best fit by silicate clouds lying above a deep iron cloud layer, while the clouds of the cooler HR 8799 b are more likely composed of Na_{2}S.$\n",
       "$  With well newcommandined atmospheric properties, future exploration of this system is well positioned to unveil further detail in these planets, extending our understanding of the composition, structure, and formation history of these siblings.}$\n",
       "$   \\keywords{Methods: observational – planets and satellites: atmospheres  – instrumentation: interferometers – radiative transfer}$\n",
       "$   \\maketitle$\n",
       "$\\n\\end{document}\\end{equation}}$\n",
       "$\\newcommand{\\eeq}{\\end{equation}}$\n",
       "$\\newcommand{\\mplanet}{M_{\\rm planet}}$\n",
       "$\\newcommand{\\aplanet}{a_{\\rm planet}}$\n",
       "$\\newcommand{\\sigmad}{\\Sigma_{\\rm D}}$\n",
       "$\\newcommand{\\atouch}{a_{\\rm touch}}$\n",
       "$\\newcommand{\\sigmanorm}{\\Sigma_{0}}$\n",
       "$\\newcommand{\\tmc}{\\tau_{\\rm RV,MC}}$\n",
       "$\\newcommand{\\epsilonmc}{\\epsilon_{\\rm RV,MC}}$\n",
       "$\\newcommand{\\nref}{N_{\\rm ref}}$\n",
       "$\\newcommand{\\nobsref}{N_{\\rm obsref}}$\n",
       "$\\newcommand{\\nhot}{N_{\\rm hot}}$\n",
       "$\\newcommand{\\nlate}{N_{\\rm late}}$\n",
       "$\\newcommand{\\nobs}{N_{\\rm obs}}$\n",
       "$\\newcommand{\\nsamp}{N_{\\rm samp}}$\n",
       "$\\newcommand{\\dks}{d_{\\rm KS}}$\n",
       "$\\newcommand{\\sam}{S_{\\rm a-M}}$\n",
       "$\\newcommand{\\sm}{S_{\\rm M}}$\n",
       "$\\newcommand{\\sa}{S_{\\rm a}}$\n",
       "$\\newcommand{\\sfeh}{S_{\\rm[Fe/H]}}$\n",
       "$\\newcommand{\\nobsreffv}{N_{\\rm obsrefFV}}$\n",
       "$\\newcommand{\\nobsrefhotfv}{N_{\\rm obsrefhotFV}}$\n",
       "$\\newcommand{\\msini}{M\\sin i}$\n",
       "$\\newcommand{\\amax}{a_{\\rm max}}$\n",
       "$\\newcommand{\\amin}{a_{\\rm min}}$\n",
       "$\\newcommand{\\aphys}{a_{\\rm phys}}$\n",
       "$\\newcommand{\\pwhot}{P_{\\rm whot}}$\n",
       "$\\newcommand{\\pfv}{P_{\\rm FV}}$\n",
       "$\\newcommand{\\pfvwhot}{P_{\\rm FV,whot}}$\n",
       "$\\newcommand{\\ffv}{F_{\\rm FV}}$\n",
       "$\\newcommand{\\fwemb}{F_{\\rm wemb}}$\n",
       "$\\newcommand{\\mmax}{M_{\\rm max}}$\n",
       "$\\newcommand{\\fopa}{f_{\\rm opa}}$\n",
       "$\\newcommand{\\t2}{\\tau_{\\rm II}}$\n",
       "$\\newcommand{\\ltot}{L_{\\rm tot}}$\n",
       "$\\newcommand{\\lcore}{L_{\\rm core}}$\n",
       "$\\newcommand{\\mtot}{M_{\\rm tot}}$\n",
       "$\\newcommand{\\sigmas0}{\\Sigma_{\\rm s,0}}$\n",
       "$\\newcommand{\\LJ}{L_{{\\rm \\jupiter}}}$\n",
       "$\\newcommand{\\RJ}{R_{{\\rm \\jupiter}}}$\n",
       "$\\newcommand{\\petit}{\\emph{petitCODE} }$\n",
       "$\\newcommand\\vol{#1}$\n",
       "$\\newcommand{\\(}{\\left(}$\n",
       "$\\newcommand{\\)}{\\right)}$\n",
       "$\\newcommand{\\<}{\\left<}$\n",
       "$\\newcommand{\\>}{\\right>}$\n",
       "$\\newcommand{\\bacon}{\\emph{BACON}~}$\n",
       "$\\newcommand{\\tr}{\\mathcal{T}}$</div>\n",
       "\n",
       "\n",
       "\n",
       "<div id=\"title\">\n",
       "\n",
       "# Four-of-a-kind? Comprehensive atmospheric characterisation of the HR 8799 planets with VLTI/GRAVITY\n",
       "\n",
       "</div>\n",
       "<div id=\"comments\">\n",
       "\n",
       "[![arXiv](https://img.shields.io/badge/arXiv-2404.03776-b31b1b.svg)](https://arxiv.org/abs/2404.03776)<mark>Appeared on: 2024-04-08</mark> -  _45 pages, 25 figures, submitted to Astronomy & Astrophysics_\n",
       "\n",
       "</div>\n",
       "<div id=\"authors\">\n",
       "\n",
       "<mark>E. Nasedkin</mark>, et al. -- incl., <mark>P. Mollière</mark>, <mark>L. Kreidberg</mark>, <mark>P. Garcia</mark>\n",
       "\n",
       "</div>\n",
       "<div id=\"abstract\">\n",
       "\n",
       "**Abstract:** With four companions at separations from 16 to 71 au, HR 8799 is a unique target for direct imaging, presenting an opportunity for the comparative study of exoplanets with a shared formation history.  Combining new VLTI/GRAVITY observations obtained within the ExoGRAVITY program with archival data, we perform a systematic atmospheric characterisation across all four planets.  We explore different levels of model flexibility to understand the temperature structure, chemistry and clouds of each planet using both ${\\tt petitRADTRANS}$ atmospheric retrievals and fits to self-consistent radiative-convective equilibrium models.  Using Bayesian Model Averaging to combine multiple retrievals (a total of 89 across all four planets), we find that the HR 8799 planets are highly enriched in metals, with [ M/H ] $\\gtrsim$ 1, and have stellar to super-stellar C/O ratios.  The C/O ratio increases with increasing separation from $0.55^{+0.12}_{-0.10}$ for d to $0.78^{+0.03}_{-0.04}$ for b, with the exception of the innermost planet which has a C/O ratio of $0.87\\pm0.03$ .  Such high metallicities are unexpected for these massive planets, challenging planet formation models.  By retrieving a quench pressure and using a disequilibrium chemistry model we derive vertical mixing strengths compatible with predictions for high-metallicity, self-luminous atmospheres.  Bayesian evidence comparisons strongly favour the presence of HCN in HR 8799 c and e, as well as $\\ch$ 4 in HR 8799 c, with detections at $>5\\sigma$ confidence.  All of the planets are cloudy, with no evidence for patchiness.  The clouds of c, d and e are best fit by silicate clouds lying above a deep iron cloud layer, while the clouds of the cooler HR 8799 b are more likely composed of Na $_{2}$ S.  With well defined atmospheric properties, future exploration of this system is well positioned to unveil further detail in these planets, extending our understanding of the composition, structure, and formation history of these siblings.\n",
       "\n",
       "</div>\n",
       "\n",
       "<div id=\"div_fig1\">\n",
       "\n",
       "<img src=\"tmp_2404.03776/./figures/HR8799bcd_PredictedMRS_gridfits_v04.png\" alt=\"Fig7\" width=\"100%\"/>\n",
       "\n",
       "**Figure 7. -** Predictions for MIRI/MRS based on the most favoured disequilibrium (solid) and free chemistry (dashed) retrievals, together with the best-fit self-consistent models from each grid. (*fig:mrs_predictions*)\n",
       "\n",
       "</div>\n",
       "<div id=\"div_fig2\">\n",
       "\n",
       "<img src=\"tmp_2404.03776/./figures/HR8799_AllPlanet_GROUPAintB_KDEHists_v8.png\" alt=\"Fig14\" width=\"100%\"/>\n",
       "\n",
       "**Figure 14. -** Bayesian averaged posterior parameter distributions for each of the HR 8799 planets, based on the group $A\\cap B$ set of retrievals. In faint lines beneath the total posterior distribution are the individual contributions from different retrievals. The coloured dashed and dotted lines indicate the median and $\\pm34.1$\\% confidence regions respectively. The vertical grey lines indicate typical parameter values (e.g. solar metallicity and C/O) and serve as a visual reference for each parameter. For the planet mass, they indicate the dynamical mass estimate from \\cite{zurlo_orbital_2022}. (*fig:retrieval_parameter_summary*)\n",
       "\n",
       "</div>\n",
       "<div id=\"div_fig3\">\n",
       "\n",
       "<img src=\"tmp_2404.03776/./figures/HR8799e_ParticleR_g.png\" alt=\"Fig4\" width=\"100%\"/>\n",
       "\n",
       "**Figure 4. -** Effective particle radii as a function of altitude for silicate (blue) and iron (red) clouds. The solid lines indicate the radii for Case e.AB.13, which used a free cloud base pressure and abundance, while the dashed lines are for Case e.AB.2, which used equilibrium condensation and scaled equilibrium abundances. The horizontal lines indicate the cloud base pressure. The green line indicates the temperature profile, with the free cloud profile in dark green and the equilibrium cloud profile in light green. The shaded regions indicate unphysical particle sizes where the opacity contribution is set to 0. (*fig:cloud_particle_radius*)\n",
       "\n",
       "</div><div id=\"qrcode\"><img src=https://api.qrserver.com/v1/create-qr-code/?size=100x100&data=\"https://arxiv.org/abs/2404.03776\"></div>"
      ],
      "text/plain": [
       "<IPython.core.display.Markdown object>"
      ]
     },
     "metadata": {},
     "output_type": "display_data"
    },
    {
     "data": {
      "text/markdown": [
       "<div class=\"macros\" style=\"visibility:hidden;\">\n",
       "$\\newcommand{\\ensuremath}{}$\n",
       "$\\newcommand{\\xspace}{}$\n",
       "$\\newcommand{\\object}[1]{\\texttt{#1}}$\n",
       "$\\newcommand{\\farcs}{{.}''}$\n",
       "$\\newcommand{\\farcm}{{.}'}$\n",
       "$\\newcommand{\\arcsec}{''}$\n",
       "$\\newcommand{\\arcmin}{'}$\n",
       "$\\newcommand{\\ion}[2]{#1#2}$\n",
       "$\\newcommand{\\textsc}[1]{\\textrm{#1}}$\n",
       "$\\newcommand{\\hl}[1]{\\textrm{#1}}$\n",
       "$\\newcommand{\\footnote}[1]{}$\n",
       "$\\newcommand{\\kms}{\\mbox{km s^{-1}}}$\n",
       "$\\newcommand{\\kmspc}{\\mbox{km s^{-1} pc^{-1}}}$\n",
       "$\\newcommand{\\sqc}{\\mbox{cm^{-2}}}$\n",
       "$\\newcommand{ç}{\\mbox{cm^{-3}}}$\n",
       "$\\newcommand{\\lsol}{\\mbox{L_\\odot}}$\n",
       "$\\newcommand{\\msol}{\\mbox{M_\\odot}}$\n",
       "$\\newcommand{\\msolpyr}{\\mbox{M_\\odot yr^{-1}}}$\n",
       "$\\newcommand{\\mujypbm}{\\mbox{\\muJy beam^{-1}}}$\n",
       "$\\newcommand{\\mjypbm}{\\mbox{mJy beam^{-1}}}$\n",
       "$\\newcommand{\\jypbm}{\\mbox{Jy beam^{-1}}}$\n",
       "$\\newcommand{\\hii}{\\mbox{H {\\sc ii}}}$\n",
       "$\\newcommand{\\vlsr}{\\mbox{V_\\text{lsr}}}$\n",
       "$\\newcommand{\\methanol}{\\mbox{\\rm CH_3OH}}$\n",
       "$\\newcommand{\\ntwodp}{\\mbox{\\rm N_2D^+}}$\n",
       "$\\newcommand{\\ntwohp}{\\mbox{\\rm N_2H^+}}$\n",
       "$\\newcommand{\\htwoco}{\\mbox{\\rm H_2CO}}$\n",
       "$\\newcommand{\\ceighteeno}{\\mbox{\\rm C^{18}O}}$\n",
       "$\\newcommand{\\thirteenco}{\\mbox{\\rm ^{13}CO}}$\n",
       "$\\newcommand{\\dcop}{\\mbox{\\rm DCO^+}}$\n",
       "$\\newcommand{\\hcop}{\\mbox{\\rm HCO^+}}$\n",
       "$\\newcommand{\\dcn}{\\mbox{\\rm DCN}}$\n",
       "$\\newcommand{\\ammonia}{\\mbox{\\rm NH_3}}$\n",
       "$\\newcommand{\\gcm}{\\mbox{g cm^{-2}}}$\n",
       "$\\newcommand{\\lsun}{\\mbox{ L_\\odot}}$\n",
       "$\\newcommand{\\msun}{\\mbox{ M_\\odot}}$\n",
       "$\\newcommand{\\msunyr}{\\mbox{ M_\\odot yr^{-1}}}$\n",
       "$\\newcommand{\\arraystretch}{1.0}$\n",
       "$\\newcommand{\\arraystretch}{1.0}$\n",
       "$\\newcommand{\\arraystretch}{1.0}$\n",
       "$\\newcommand{\\arraystretch}{1.0}$\n",
       "$\\newcommand{\\arraystretch}{1.0}$</div>\n",
       "\n",
       "\n",
       "\n",
       "<div id=\"title\">\n",
       "\n",
       "# INvestigations of massive Filaments ANd sTar formation (INFANT). I. Core Identification and Core Mass Function\n",
       "\n",
       "</div>\n",
       "<div id=\"comments\">\n",
       "\n",
       "[![arXiv](https://img.shields.io/badge/arXiv-2404.03858-b31b1b.svg)](https://arxiv.org/abs/2404.03858)<mark>Appeared on: 2024-04-08</mark> -  _25 pages, 8 figures, accepted for ApJ_\n",
       "\n",
       "</div>\n",
       "<div id=\"authors\">\n",
       "\n",
       "Y. C. (程宇), et al. -- incl., <mark>S. Li</mark>\n",
       "\n",
       "</div>\n",
       "<div id=\"abstract\">\n",
       "\n",
       "**Abstract:** Filamentary structures are ubiquitously found in high-mass star-forming clouds. To investigate the relationship between filaments and star formation, we carry out the INFANT (INvestigations of massive Filaments ANd sTar formation) survey, a multi-scale, multi-wavelength survey of massive filamentary clouds with ALMA band 3/band 6 and VLA K band. In this first paper, we present the ALMA band 6 continuum observations toward a sample of 8 high-mass star forming filaments. We covered each target with approximately rectangular mosaic field of view with two 12-m array configurations, achieving an angular resolution of $\\sim$ 0 $\\farcs{6}$ (2700 AU at 4.5 kpc) and a continuum rms of $\\sim$ 0.1 $\\mjypbm$ ( $\\sim$ 0.06 $\\msol$ in gas mass assuming 15 K). We identify cores using the $_ getsf_$ and $_ astrodendro_$ and find the former is more robust in terms of both identification and measuring flux densities. We identify in total 183 dense cores (15--36 cores in each cloud) and classify their star formation states via outflow and warm gas tracers. The protostellar cores are statistically more massive than the prestellar cores, possibly indicating further accretion onto cores after formation of protostars. For the high-mass end ( $M_\\text{core}$ $>$ 1.5 $\\msun$ ) of the core mass function (CMF) we derive a power-law index of $-$ 1.15 $\\pm$ 0.12 for the whole sample, and $-$ 1.70 $\\pm$ 0.25 for the prestellar population. We also find a steepening trend in CMF with cloud evolution ( $-$ 0.89 $\\pm$ 0.15 for the young group v.s. $-$ 1.44 $\\pm$ 0.25 for the evolved group) and discuss its implication for cluster formation.\n",
       "\n",
       "</div>\n",
       "\n",
       "<div id=\"div_fig1\">\n",
       "\n",
       "<img src=\"tmp_2404.03858/./fmap_iden.png\" alt=\"Fig3\" width=\"100%\"/>\n",
       "\n",
       "**Figure 3. -** Examples of core identification results with _ getsf_ and _ astrodendro_.\n",
       "The 1.3 mm image is shown in grey colorscale and black contours with levels of 0.2 $\\mjypbm$$\\times$(5, 10, 20, 40, 80, 160). Red ellipses show the FWHM size of cores extracted by _ getsf_, and blue contours show the core boundaries identified by _ astrodendro_.  (*fig:map_iden*)\n",
       "\n",
       "</div>\n",
       "<div id=\"div_fig2\">\n",
       "\n",
       "<img src=\"tmp_2404.03858/./fcomp_mass_update.png\" alt=\"Fig7\" width=\"100%\"/>\n",
       "\n",
       "**Figure 7. -** _ (a)_ 1.3 mm flux distribution for the prestellar candidate cores and protostellar cores. The dashed black line indicates the recovery fraction (or completeness level) estimated for I18310 as a representative. _ (b)_ Same as _ (a)_ but only including cores from the relatively early type clouds, defined in \\autoref{sec:evolution}, i.e., I18308, I18337, I18460. _ c)_ Same as _ (a)_ but only including cores from the relatively late type clouds, defined in \\autoref{sec:evolution}, i.e., I18530, I19220, I19368. _ (d)_ Mass distribution for the prestellar candidate cores and protostellar cores, where the masses are estimated using the $\\ammonia$  gas temperature. The dashed lines indicate the estimated recovery fraction for I18310 as a representative. A temperature of 14 K and 19 K, i.e., the median $\\ammonia$  temperature for the two populations, are adopted for the red and blue line, respectively. _ (e)_ Same as _ (d)_ but only including cores from the relatively early type clouds, i.e., I18308, I18337, I18460. _ (f)_ Same as _ (d)_ but only including cores from the relatively early type clouds, i.e., I18530, I19220, I19368.\n",
       " (*fig:comp_mass*)\n",
       "\n",
       "</div>\n",
       "<div id=\"div_fig3\">\n",
       "\n",
       "<img src=\"tmp_2404.03858/./fcmf_combine.getsf.3panel.png\" alt=\"Fig8\" width=\"100%\"/>\n",
       "\n",
       "**Figure 8. -** _ (a)_ CMF and prestellar CMF of the INFANT sample shown in black and blue, respectively. The core masses are calculated using the $\\ammonia$  gas temperatures. The dashed lines show the best power-law fit result for the high-mass end (M $>$ 1.5 $\\msun$) for the corresponding CMFs. _ (b)_ Same as _ (a)_ but only including cores from the relatively early type clouds, i.e., I18308, I18337, I18460.  _ (c)_ Same as _ (a)_ but but only including cores from the relatively late type clouds, i.e., I18530, I19220, I19368.  (*fig:cmf*)\n",
       "\n",
       "</div><div id=\"qrcode\"><img src=https://api.qrserver.com/v1/create-qr-code/?size=100x100&data=\"https://arxiv.org/abs/2404.03858\"></div>"
      ],
      "text/plain": [
       "<IPython.core.display.Markdown object>"
      ]
     },
     "metadata": {},
     "output_type": "display_data"
    }
   ],
   "source": [
    "[display(Markdown(k[1])) for k in documents];"
   ]
  },
  {
   "cell_type": "markdown",
   "id": "873873a4",
   "metadata": {
    "papermill": {
     "duration": 0.006057,
     "end_time": "2024-04-08T04:12:30.921693",
     "exception": false,
     "start_time": "2024-04-08T04:12:30.915636",
     "status": "completed"
    },
    "tags": []
   },
   "source": [
    "# Create HTML index"
   ]
  },
  {
   "cell_type": "code",
   "execution_count": 9,
   "id": "cf665672",
   "metadata": {
    "execution": {
     "iopub.execute_input": "2024-04-08T04:12:30.935167Z",
     "iopub.status.busy": "2024-04-08T04:12:30.934601Z",
     "iopub.status.idle": "2024-04-08T04:12:30.945013Z",
     "shell.execute_reply": "2024-04-08T04:12:30.944468Z"
    },
    "papermill": {
     "duration": 0.018456,
     "end_time": "2024-04-08T04:12:30.946313",
     "exception": false,
     "start_time": "2024-04-08T04:12:30.927857",
     "status": "completed"
    },
    "tags": []
   },
   "outputs": [
    {
     "name": "stdout",
     "output_type": "stream",
     "text": [
      "399  publications files modified in the last 7 days.\n"
     ]
    }
   ],
   "source": [
    "from datetime import datetime, timedelta, timezone\n",
    "from glob import glob\n",
    "import os\n",
    "\n",
    "files = glob('_build/html/*.md')\n",
    "days = 7\n",
    "now = datetime.today()\n",
    "res = []\n",
    "for fk in files:\n",
    "    stat_result = os.stat(fk).st_ctime\n",
    "    modified = datetime.fromtimestamp(stat_result, tz=timezone.utc).replace(tzinfo=None)\n",
    "    delta = now.today() - modified\n",
    "    if delta <= timedelta(days=days):\n",
    "        res.append((delta.seconds, fk))\n",
    "res = [k[1] for k in reversed(sorted(res, key=lambda x:x[1]))]\n",
    "npub = len(res)\n",
    "print(len(res), f\" publications files modified in the last {days:d} days.\")\n",
    "# [ print('\\t', k) for k in res ];"
   ]
  },
  {
   "cell_type": "code",
   "execution_count": 10,
   "id": "015de740",
   "metadata": {
    "execution": {
     "iopub.execute_input": "2024-04-08T04:12:30.959816Z",
     "iopub.status.busy": "2024-04-08T04:12:30.959403Z",
     "iopub.status.idle": "2024-04-08T04:12:30.981338Z",
     "shell.execute_reply": "2024-04-08T04:12:30.980744Z"
    },
    "papermill": {
     "duration": 0.03021,
     "end_time": "2024-04-08T04:12:30.982670",
     "exception": false,
     "start_time": "2024-04-08T04:12:30.952460",
     "status": "completed"
    },
    "tags": []
   },
   "outputs": [
    {
     "name": "stdout",
     "output_type": "stream",
     "text": [
      "6  publications in the last 7 days.\n"
     ]
    }
   ],
   "source": [
    "import datetime\n",
    "from glob import glob\n",
    "\n",
    "def get_last_n_days(lst, days=1):\n",
    "    \"\"\" Get the documents from the last n days \"\"\"\n",
    "    sorted_lst = sorted(lst, key=lambda x: x[1], reverse=True)\n",
    "    for fname, date in sorted_lst:\n",
    "        if date >= str(datetime.date.today() - datetime.timedelta(days=days)):\n",
    "            yield fname\n",
    "\n",
    "def extract_appearance_dates(lst_file):\n",
    "    dates = []\n",
    "\n",
    "    def get_date(line):\n",
    "        return line\\\n",
    "            .split('Appeared on:')[-1]\\\n",
    "            .split('</mark>')[0].strip()\n",
    "\n",
    "    for fname in lst:\n",
    "        with open(fname, 'r') as f:\n",
    "            found_date = False\n",
    "            for line in f:\n",
    "                if not found_date:\n",
    "                    if \"Appeared on\" in line:\n",
    "                        found_date = True\n",
    "                        dates.append((fname, get_date(line)))\n",
    "                else:\n",
    "                    break\n",
    "    return dates\n",
    "\n",
    "from glob import glob\n",
    "lst = glob('_build/html/*md')\n",
    "days = 7\n",
    "dates = extract_appearance_dates(lst)\n",
    "res = list(get_last_n_days(dates, days))\n",
    "npub = len(res)\n",
    "print(len(res), f\" publications in the last {days:d} days.\")"
   ]
  },
  {
   "cell_type": "code",
   "execution_count": 11,
   "id": "52ca0208",
   "metadata": {
    "execution": {
     "iopub.execute_input": "2024-04-08T04:12:30.996614Z",
     "iopub.status.busy": "2024-04-08T04:12:30.996100Z",
     "iopub.status.idle": "2024-04-08T04:12:31.001094Z",
     "shell.execute_reply": "2024-04-08T04:12:31.000415Z"
    },
    "papermill": {
     "duration": 0.013264,
     "end_time": "2024-04-08T04:12:31.002337",
     "exception": false,
     "start_time": "2024-04-08T04:12:30.989073",
     "status": "completed"
    },
    "scrolled": false,
    "tags": []
   },
   "outputs": [],
   "source": [
    "def create_carousel(npub=4):\n",
    "    \"\"\" Generate the HTML code for a carousel with `npub` slides \"\"\"\n",
    "    carousel = [\"\"\"  <div class=\"carousel\" \"\"\",\n",
    "                \"\"\"       data-flickity='{ \"autoPlay\": 10000, \"adaptiveHeight\": true, \"resize\": true, \"wrapAround\": true, \"pauseAutoPlayOnHover\": true, \"groupCells\": 1 }' id=\"asyncTypeset\">\"\"\"\n",
    "                ]\n",
    "    \n",
    "    item_str = \"\"\"    <div class=\"carousel-cell\"> <div id=\"slide{k}\" class=\"md_view\">Content {k}</div> </div>\"\"\"\n",
    "    for k in range(1, npub + 1):\n",
    "        carousel.append(item_str.format(k=k))\n",
    "    carousel.append(\"  </div>\")\n",
    "    return '\\n'.join(carousel)\n",
    "\n",
    "def create_grid(npub=4):\n",
    "    \"\"\" Generate the HTML code for a flat grid with `npub` slides \"\"\"\n",
    "    grid = [\"\"\"  <div class=\"grid\"> \"\"\",\n",
    "                ]\n",
    "    \n",
    "    item_str = \"\"\"    <div class=\"grid-item\"> <div id=\"slide{k}\" class=\"md_view\">Content {k}</div> </div>\"\"\"\n",
    "    for k in range(1, npub + 1):\n",
    "        grid.append(item_str.format(k=k))\n",
    "    grid.append(\"  </div>\")\n",
    "    return '\\n'.join(grid)"
   ]
  },
  {
   "cell_type": "code",
   "execution_count": 12,
   "id": "a6eac5b6",
   "metadata": {
    "execution": {
     "iopub.execute_input": "2024-04-08T04:12:31.016084Z",
     "iopub.status.busy": "2024-04-08T04:12:31.015676Z",
     "iopub.status.idle": "2024-04-08T04:12:31.020864Z",
     "shell.execute_reply": "2024-04-08T04:12:31.020310Z"
    },
    "papermill": {
     "duration": 0.01353,
     "end_time": "2024-04-08T04:12:31.022182",
     "exception": false,
     "start_time": "2024-04-08T04:12:31.008652",
     "status": "completed"
    },
    "scrolled": false,
    "tags": []
   },
   "outputs": [],
   "source": [
    "carousel = create_carousel(npub)\n",
    "docs = ', '.join(['\"{0:s}\"'.format(k.split('/')[-1]) for k in res])\n",
    "slides = ', '.join([f'\"slide{k}\"' for k in range(1, npub + 1)])\n",
    "\n",
    "with open(\"daily_template.html\", \"r\") as tpl:\n",
    "    page = tpl.read()\n",
    "    page = page.replace(\"{%-- carousel:s --%}\", carousel)\\\n",
    "               .replace(\"{%-- suptitle:s --%}\",  \"7-day archives\" )\\\n",
    "               .replace(\"{%-- docs:s --%}\", docs)\\\n",
    "               .replace(\"{%-- slides:s --%}\", slides)\n",
    "    \n",
    "with open(\"_build/html/index_7days.html\", 'w') as fout:\n",
    "    fout.write(page)"
   ]
  },
  {
   "cell_type": "code",
   "execution_count": 13,
   "id": "adc1a1ec",
   "metadata": {
    "execution": {
     "iopub.execute_input": "2024-04-08T04:12:31.036483Z",
     "iopub.status.busy": "2024-04-08T04:12:31.036052Z",
     "iopub.status.idle": "2024-04-08T04:12:31.043043Z",
     "shell.execute_reply": "2024-04-08T04:12:31.042402Z"
    },
    "papermill": {
     "duration": 0.015588,
     "end_time": "2024-04-08T04:12:31.044359",
     "exception": false,
     "start_time": "2024-04-08T04:12:31.028771",
     "status": "completed"
    },
    "tags": []
   },
   "outputs": [
    {
     "name": "stdout",
     "output_type": "stream",
     "text": [
      "3  publications in the last day.\n"
     ]
    }
   ],
   "source": [
    "# redo for today\n",
    "days = 1\n",
    "res = list(get_last_n_days(dates, days))\n",
    "npub = len(res)\n",
    "print(len(res), f\" publications in the last day.\")\n",
    "\n",
    "carousel = create_carousel(npub)\n",
    "docs = ', '.join(['\"{0:s}\"'.format(k.split('/')[-1]) for k in res])\n",
    "slides = ', '.join([f'\"slide{k}\"' for k in range(1, npub + 1)])\n",
    "\n",
    "with open(\"daily_template.html\", \"r\") as tpl:\n",
    "    page = tpl.read()\n",
    "    page = page.replace(\"{%-- carousel:s --%}\", carousel)\\\n",
    "               .replace(\"{%-- suptitle:s --%}\",  \"Daily\" )\\\n",
    "               .replace(\"{%-- docs:s --%}\", docs)\\\n",
    "               .replace(\"{%-- slides:s --%}\", slides)\n",
    "    \n",
    "# print(carousel, docs, slides)\n",
    "# print(page)\n",
    "with open(\"_build/html/index_daily.html\", 'w') as fout:\n",
    "    fout.write(page)"
   ]
  },
  {
   "cell_type": "code",
   "execution_count": 14,
   "id": "00eece82",
   "metadata": {
    "execution": {
     "iopub.execute_input": "2024-04-08T04:12:31.058343Z",
     "iopub.status.busy": "2024-04-08T04:12:31.057793Z",
     "iopub.status.idle": "2024-04-08T04:12:31.064500Z",
     "shell.execute_reply": "2024-04-08T04:12:31.063939Z"
    },
    "papermill": {
     "duration": 0.015076,
     "end_time": "2024-04-08T04:12:31.065828",
     "exception": false,
     "start_time": "2024-04-08T04:12:31.050752",
     "status": "completed"
    },
    "scrolled": false,
    "tags": []
   },
   "outputs": [
    {
     "name": "stdout",
     "output_type": "stream",
     "text": [
      "6  6 publications selected.\n"
     ]
    }
   ],
   "source": [
    "# Create the flat grid of the last N papers (fixed number regardless of dates)\n",
    "from itertools import islice \n",
    "\n",
    "npub = 6\n",
    "res = [k[0] for k in (islice(reversed(sorted(dates, key=lambda x: x[1])), 6))]\n",
    "print(len(res), f\" {npub} publications selected.\")\n",
    "\n",
    "grid = create_grid(npub)\n",
    "docs = ', '.join(['\"{0:s}\"'.format(k.split('/')[-1]) for k in res])\n",
    "slides = ', '.join([f'\"slide{k}\"' for k in range(1, npub + 1)])\n",
    "\n",
    "with open(\"grid_template.html\", \"r\") as tpl:\n",
    "    page = tpl.read()\n",
    "    page = page.replace(\"{%-- grid-content:s --%}\", grid)\\\n",
    "               .replace(\"{%-- suptitle:s --%}\",  f\"Last {npub:,d} papers\" )\\\n",
    "               .replace(\"{%-- docs:s --%}\", docs)\\\n",
    "               .replace(\"{%-- slides:s --%}\", slides)\n",
    "    \n",
    "# print(grid, docs, slides)\n",
    "# print(page)\n",
    "with open(\"_build/html/index_npub_grid.html\", 'w') as fout:\n",
    "    fout.write(page)"
   ]
  }
 ],
 "metadata": {
  "kernelspec": {
   "display_name": "Python 3 (ipykernel)",
   "language": "python",
   "name": "python3"
  },
  "language_info": {
   "codemirror_mode": {
    "name": "ipython",
    "version": 3
   },
   "file_extension": ".py",
   "mimetype": "text/x-python",
   "name": "python",
   "nbconvert_exporter": "python",
   "pygments_lexer": "ipython3",
   "version": "3.9.19"
  },
  "papermill": {
   "default_parameters": {},
   "duration": 211.304784,
   "end_time": "2024-04-08T04:12:31.389799",
   "environment_variables": {},
   "exception": null,
   "input_path": "MPIA daily digest.ipynb",
   "output_path": "log.ipynb",
   "parameters": {},
   "start_time": "2024-04-08T04:09:00.085015",
   "version": "2.5.0"
  },
  "vscode": {
   "interpreter": {
    "hash": "aee8b7b246df8f9039afb4144a1f6fd8d2ca17a180786b69acc140d282b71a49"
   }
  },
  "widgets": {
   "application/vnd.jupyter.widget-state+json": {
    "state": {
     "00a322f425c94784b6d325bd7fb4f259": {
      "model_module": "@jupyter-widgets/base",
      "model_module_version": "2.0.0",
      "model_name": "LayoutModel",
      "state": {
       "_model_module": "@jupyter-widgets/base",
       "_model_module_version": "2.0.0",
       "_model_name": "LayoutModel",
       "_view_count": null,
       "_view_module": "@jupyter-widgets/base",
       "_view_module_version": "2.0.0",
       "_view_name": "LayoutView",
       "align_content": null,
       "align_items": null,
       "align_self": null,
       "border_bottom": null,
       "border_left": null,
       "border_right": null,
       "border_top": null,
       "bottom": null,
       "display": null,
       "flex": null,
       "flex_flow": null,
       "grid_area": null,
       "grid_auto_columns": null,
       "grid_auto_flow": null,
       "grid_auto_rows": null,
       "grid_column": null,
       "grid_gap": null,
       "grid_row": null,
       "grid_template_areas": null,
       "grid_template_columns": null,
       "grid_template_rows": null,
       "height": null,
       "justify_content": null,
       "justify_items": null,
       "left": null,
       "margin": null,
       "max_height": null,
       "max_width": null,
       "min_height": null,
       "min_width": null,
       "object_fit": null,
       "object_position": null,
       "order": null,
       "overflow": null,
       "padding": null,
       "right": null,
       "top": null,
       "visibility": null,
       "width": null
      }
     },
     "1590e0257a114483bdfa956377e07aaf": {
      "model_module": "@jupyter-widgets/controls",
      "model_module_version": "2.0.0",
      "model_name": "HTMLModel",
      "state": {
       "_dom_classes": [],
       "_model_module": "@jupyter-widgets/controls",
       "_model_module_version": "2.0.0",
       "_model_name": "HTMLModel",
       "_view_count": null,
       "_view_module": "@jupyter-widgets/controls",
       "_view_module_version": "2.0.0",
       "_view_name": "HTMLView",
       "description": "",
       "description_allow_html": false,
       "layout": "IPY_MODEL_00a322f425c94784b6d325bd7fb4f259",
       "placeholder": "​",
       "style": "IPY_MODEL_ec460a2dc6174a10808d142c9555cfeb",
       "tabbable": null,
       "tooltip": null,
       "value": "100%"
      }
     },
     "17c34966480e4623a1977859abaeba02": {
      "model_module": "@jupyter-widgets/controls",
      "model_module_version": "2.0.0",
      "model_name": "HTMLModel",
      "state": {
       "_dom_classes": [],
       "_model_module": "@jupyter-widgets/controls",
       "_model_module_version": "2.0.0",
       "_model_name": "HTMLModel",
       "_view_count": null,
       "_view_module": "@jupyter-widgets/controls",
       "_view_module_version": "2.0.0",
       "_view_name": "HTMLView",
       "description": "",
       "description_allow_html": false,
       "layout": "IPY_MODEL_ec1e42e0f80049a8b34a7f98eeb706d8",
       "placeholder": "​",
       "style": "IPY_MODEL_b0cf35375bc24b66b1218b0c69596edc",
       "tabbable": null,
       "tooltip": null,
       "value": " 5/5 [03:10&lt;00:00, 35.32s/it]"
      }
     },
     "4bf48c0e352a4364978e6495b6db2987": {
      "model_module": "@jupyter-widgets/controls",
      "model_module_version": "2.0.0",
      "model_name": "HBoxModel",
      "state": {
       "_dom_classes": [],
       "_model_module": "@jupyter-widgets/controls",
       "_model_module_version": "2.0.0",
       "_model_name": "HBoxModel",
       "_view_count": null,
       "_view_module": "@jupyter-widgets/controls",
       "_view_module_version": "2.0.0",
       "_view_name": "HBoxView",
       "box_style": "",
       "children": [
        "IPY_MODEL_1590e0257a114483bdfa956377e07aaf",
        "IPY_MODEL_fbca05a3d5c34593b8d2030dd37beddb",
        "IPY_MODEL_17c34966480e4623a1977859abaeba02"
       ],
       "layout": "IPY_MODEL_c7be051a4b9b42a0adab4e02a2c1e68b",
       "tabbable": null,
       "tooltip": null
      }
     },
     "6edd26e5b6bd41f3af201287e5a8c416": {
      "model_module": "@jupyter-widgets/controls",
      "model_module_version": "2.0.0",
      "model_name": "ProgressStyleModel",
      "state": {
       "_model_module": "@jupyter-widgets/controls",
       "_model_module_version": "2.0.0",
       "_model_name": "ProgressStyleModel",
       "_view_count": null,
       "_view_module": "@jupyter-widgets/base",
       "_view_module_version": "2.0.0",
       "_view_name": "StyleView",
       "bar_color": null,
       "description_width": ""
      }
     },
     "9b291b01194c4e4a898dcf586ae9c174": {
      "model_module": "@jupyter-widgets/base",
      "model_module_version": "2.0.0",
      "model_name": "LayoutModel",
      "state": {
       "_model_module": "@jupyter-widgets/base",
       "_model_module_version": "2.0.0",
       "_model_name": "LayoutModel",
       "_view_count": null,
       "_view_module": "@jupyter-widgets/base",
       "_view_module_version": "2.0.0",
       "_view_name": "LayoutView",
       "align_content": null,
       "align_items": null,
       "align_self": null,
       "border_bottom": null,
       "border_left": null,
       "border_right": null,
       "border_top": null,
       "bottom": null,
       "display": null,
       "flex": null,
       "flex_flow": null,
       "grid_area": null,
       "grid_auto_columns": null,
       "grid_auto_flow": null,
       "grid_auto_rows": null,
       "grid_column": null,
       "grid_gap": null,
       "grid_row": null,
       "grid_template_areas": null,
       "grid_template_columns": null,
       "grid_template_rows": null,
       "height": null,
       "justify_content": null,
       "justify_items": null,
       "left": null,
       "margin": null,
       "max_height": null,
       "max_width": null,
       "min_height": null,
       "min_width": null,
       "object_fit": null,
       "object_position": null,
       "order": null,
       "overflow": null,
       "padding": null,
       "right": null,
       "top": null,
       "visibility": null,
       "width": null
      }
     },
     "b0cf35375bc24b66b1218b0c69596edc": {
      "model_module": "@jupyter-widgets/controls",
      "model_module_version": "2.0.0",
      "model_name": "HTMLStyleModel",
      "state": {
       "_model_module": "@jupyter-widgets/controls",
       "_model_module_version": "2.0.0",
       "_model_name": "HTMLStyleModel",
       "_view_count": null,
       "_view_module": "@jupyter-widgets/base",
       "_view_module_version": "2.0.0",
       "_view_name": "StyleView",
       "background": null,
       "description_width": "",
       "font_size": null,
       "text_color": null
      }
     },
     "c7be051a4b9b42a0adab4e02a2c1e68b": {
      "model_module": "@jupyter-widgets/base",
      "model_module_version": "2.0.0",
      "model_name": "LayoutModel",
      "state": {
       "_model_module": "@jupyter-widgets/base",
       "_model_module_version": "2.0.0",
       "_model_name": "LayoutModel",
       "_view_count": null,
       "_view_module": "@jupyter-widgets/base",
       "_view_module_version": "2.0.0",
       "_view_name": "LayoutView",
       "align_content": null,
       "align_items": null,
       "align_self": null,
       "border_bottom": null,
       "border_left": null,
       "border_right": null,
       "border_top": null,
       "bottom": null,
       "display": null,
       "flex": null,
       "flex_flow": null,
       "grid_area": null,
       "grid_auto_columns": null,
       "grid_auto_flow": null,
       "grid_auto_rows": null,
       "grid_column": null,
       "grid_gap": null,
       "grid_row": null,
       "grid_template_areas": null,
       "grid_template_columns": null,
       "grid_template_rows": null,
       "height": null,
       "justify_content": null,
       "justify_items": null,
       "left": null,
       "margin": null,
       "max_height": null,
       "max_width": null,
       "min_height": null,
       "min_width": null,
       "object_fit": null,
       "object_position": null,
       "order": null,
       "overflow": null,
       "padding": null,
       "right": null,
       "top": null,
       "visibility": null,
       "width": null
      }
     },
     "ec1e42e0f80049a8b34a7f98eeb706d8": {
      "model_module": "@jupyter-widgets/base",
      "model_module_version": "2.0.0",
      "model_name": "LayoutModel",
      "state": {
       "_model_module": "@jupyter-widgets/base",
       "_model_module_version": "2.0.0",
       "_model_name": "LayoutModel",
       "_view_count": null,
       "_view_module": "@jupyter-widgets/base",
       "_view_module_version": "2.0.0",
       "_view_name": "LayoutView",
       "align_content": null,
       "align_items": null,
       "align_self": null,
       "border_bottom": null,
       "border_left": null,
       "border_right": null,
       "border_top": null,
       "bottom": null,
       "display": null,
       "flex": null,
       "flex_flow": null,
       "grid_area": null,
       "grid_auto_columns": null,
       "grid_auto_flow": null,
       "grid_auto_rows": null,
       "grid_column": null,
       "grid_gap": null,
       "grid_row": null,
       "grid_template_areas": null,
       "grid_template_columns": null,
       "grid_template_rows": null,
       "height": null,
       "justify_content": null,
       "justify_items": null,
       "left": null,
       "margin": null,
       "max_height": null,
       "max_width": null,
       "min_height": null,
       "min_width": null,
       "object_fit": null,
       "object_position": null,
       "order": null,
       "overflow": null,
       "padding": null,
       "right": null,
       "top": null,
       "visibility": null,
       "width": null
      }
     },
     "ec460a2dc6174a10808d142c9555cfeb": {
      "model_module": "@jupyter-widgets/controls",
      "model_module_version": "2.0.0",
      "model_name": "HTMLStyleModel",
      "state": {
       "_model_module": "@jupyter-widgets/controls",
       "_model_module_version": "2.0.0",
       "_model_name": "HTMLStyleModel",
       "_view_count": null,
       "_view_module": "@jupyter-widgets/base",
       "_view_module_version": "2.0.0",
       "_view_name": "StyleView",
       "background": null,
       "description_width": "",
       "font_size": null,
       "text_color": null
      }
     },
     "fbca05a3d5c34593b8d2030dd37beddb": {
      "model_module": "@jupyter-widgets/controls",
      "model_module_version": "2.0.0",
      "model_name": "FloatProgressModel",
      "state": {
       "_dom_classes": [],
       "_model_module": "@jupyter-widgets/controls",
       "_model_module_version": "2.0.0",
       "_model_name": "FloatProgressModel",
       "_view_count": null,
       "_view_module": "@jupyter-widgets/controls",
       "_view_module_version": "2.0.0",
       "_view_name": "ProgressView",
       "bar_style": "success",
       "description": "",
       "description_allow_html": false,
       "layout": "IPY_MODEL_9b291b01194c4e4a898dcf586ae9c174",
       "max": 5.0,
       "min": 0.0,
       "orientation": "horizontal",
       "style": "IPY_MODEL_6edd26e5b6bd41f3af201287e5a8c416",
       "tabbable": null,
       "tooltip": null,
       "value": 5.0
      }
     }
    },
    "version_major": 2,
    "version_minor": 0
   }
  }
 },
 "nbformat": 4,
 "nbformat_minor": 5
}