{
 "cells": [
  {
   "cell_type": "markdown",
   "id": "92bcb855",
   "metadata": {
    "papermill": {
     "duration": 0.003622,
     "end_time": "2025-03-14T04:10:54.190654",
     "exception": false,
     "start_time": "2025-03-14T04:10:54.187032",
     "status": "completed"
    },
    "tags": []
   },
   "source": [
    "# MPIA Arxiv on Deck 2\n",
    "\n",
    "Contains the steps to produce the paper extractions."
   ]
  },
  {
   "cell_type": "code",
   "execution_count": 1,
   "id": "3a0d6e11",
   "metadata": {
    "execution": {
     "iopub.execute_input": "2025-03-14T04:10:54.197602Z",
     "iopub.status.busy": "2025-03-14T04:10:54.197373Z",
     "iopub.status.idle": "2025-03-14T04:10:54.739332Z",
     "shell.execute_reply": "2025-03-14T04:10:54.738680Z"
    },
    "papermill": {
     "duration": 0.546731,
     "end_time": "2025-03-14T04:10:54.740611",
     "exception": false,
     "start_time": "2025-03-14T04:10:54.193880",
     "status": "completed"
    },
    "tags": []
   },
   "outputs": [],
   "source": [
    "# Imports\n",
    "import os\n",
    "from IPython.display import Markdown, display\n",
    "from tqdm.notebook import tqdm\n",
    "import warnings\n",
    "from PIL import Image \n",
    "import re\n",
    "\n",
    "# requires arxiv_on_deck_2\n",
    "\n",
    "from arxiv_on_deck_2.arxiv2 import (get_new_papers, \n",
    "                                    get_paper_from_identifier,\n",
    "                                    retrieve_document_source, \n",
    "                                    get_markdown_badge)\n",
    "from arxiv_on_deck_2 import (latex,\n",
    "                             latex_bib,\n",
    "                             mpia,\n",
    "                             highlight_authors_in_list)\n",
    "\n",
    "# Sometimes images are really big\n",
    "Image.MAX_IMAGE_PIXELS = 1000000000 "
   ]
  },
  {
   "cell_type": "code",
   "execution_count": 2,
   "id": "22aa9d44",
   "metadata": {
    "execution": {
     "iopub.execute_input": "2025-03-14T04:10:54.748023Z",
     "iopub.status.busy": "2025-03-14T04:10:54.747590Z",
     "iopub.status.idle": "2025-03-14T04:10:54.755568Z",
     "shell.execute_reply": "2025-03-14T04:10:54.755037Z"
    },
    "papermill": {
     "duration": 0.012667,
     "end_time": "2025-03-14T04:10:54.756492",
     "exception": false,
     "start_time": "2025-03-14T04:10:54.743825",
     "status": "completed"
    },
    "tags": []
   },
   "outputs": [],
   "source": [
    "# Some useful definitions.\n",
    "\n",
    "class AffiliationWarning(UserWarning):\n",
    "    pass\n",
    "\n",
    "class AffiliationError(RuntimeError):\n",
    "    pass\n",
    "\n",
    "def validation(source: str):\n",
    "    \"\"\"Raises error paper during parsing of source file\n",
    "    \n",
    "    Allows checks before parsing TeX code.\n",
    "    \n",
    "    Raises AffiliationWarning\n",
    "    \"\"\"\n",
    "    check = mpia.affiliation_verifications(source, verbose=True)\n",
    "    if check is not True:\n",
    "        raise AffiliationError(\"mpia.affiliation_verifications: \" + check)\n",
    "\n",
    "        \n",
    "warnings.simplefilter('always', AffiliationWarning)\n",
    "\n",
    "\n",
    "def get_markdown_qrcode(paper_id: str):\n",
    "    \"\"\" Generate a qrcode to the arxiv page using qrserver.com\n",
    "    \n",
    "    :param paper: Arxiv paper\n",
    "    :returns: markdown text\n",
    "    \"\"\"\n",
    "    url = r\"https://api.qrserver.com/v1/create-qr-code/?size=100x100&data=\"\n",
    "    txt = f\"\"\"<img src={url}\"https://arxiv.org/abs/{paper_id}\">\"\"\"\n",
    "    txt = '<div id=\"qrcode\">' + txt + '</div>'\n",
    "    return txt\n",
    "\n",
    "\n",
    "def clean_non_western_encoded_characters_commands(text: str) -> str:\n",
    "    \"\"\" Remove non-western encoded characters from a string\n",
    "    List may need to grow.\n",
    "    \n",
    "    :param text: the text to clean\n",
    "    :return: the cleaned text\n",
    "    \"\"\"\n",
    "    text = re.sub(r\"(\\\\begin{CJK}{UTF8}{gbsn})(.*?)(\\\\end{CJK})\", r\"\\2\", text)\n",
    "    return text\n",
    "\n",
    "\n",
    "def get_initials(name: str) -> str:\n",
    "    \"\"\" Get the short name, e.g., A.-B. FamName\n",
    "    :param name: full name\n",
    "    :returns: initials\n",
    "    \"\"\"\n",
    "    initials = []\n",
    "    # account for non western names often in ()\n",
    "    if '(' in name:\n",
    "        name = clean_non_western_encoded_characters_commands(name)\n",
    "        suffix = re.findall(r\"\\((.*?)\\)\", name)[0]\n",
    "        name = name.replace(f\"({suffix})\", '')\n",
    "    else:\n",
    "        suffix = ''\n",
    "    split = name.split()\n",
    "    for token in split[:-1]:\n",
    "        if '-' in token:\n",
    "            current = '-'.join([k[0] + '.' for k in token.split('-')])\n",
    "        else:\n",
    "            current = token[0] + '.'\n",
    "        initials.append(current)\n",
    "    initials.append(split[-1].strip())\n",
    "    if suffix:\n",
    "        initials.append(f\"({suffix})\")\n",
    "    return ' '.join(initials)"
   ]
  },
  {
   "cell_type": "markdown",
   "id": "14bd6310",
   "metadata": {
    "papermill": {
     "duration": 0.00289,
     "end_time": "2025-03-14T04:10:54.762347",
     "exception": false,
     "start_time": "2025-03-14T04:10:54.759457",
     "status": "completed"
    },
    "tags": []
   },
   "source": [
    "## get list of arxiv paper candidates\n",
    "\n",
    "We use the MPIA mitarbeiter list webpage from mpia.de to get author names\n",
    "We then get all new papers from Arxiv and match authors"
   ]
  },
  {
   "cell_type": "code",
   "execution_count": 3,
   "id": "7ea813a8",
   "metadata": {
    "execution": {
     "iopub.execute_input": "2025-03-14T04:10:54.769016Z",
     "iopub.status.busy": "2025-03-14T04:10:54.768824Z",
     "iopub.status.idle": "2025-03-14T04:11:13.880271Z",
     "shell.execute_reply": "2025-03-14T04:11:13.879480Z"
    },
    "papermill": {
     "duration": 19.116384,
     "end_time": "2025-03-14T04:11:13.881627",
     "exception": false,
     "start_time": "2025-03-14T04:10:54.765243",
     "status": "completed"
    },
    "tags": []
   },
   "outputs": [],
   "source": [
    "# deal with the author list and edge cases of people that cannot be consistent on their name  \n",
    "\n",
    "def filter_non_scientists(name: str) -> bool:\n",
    "    \"\"\" Loose filter on expected authorships\n",
    "\n",
    "    removing IT, administration, technical staff\n",
    "    :param name: name\n",
    "    :returns: False if name is not a scientist\n",
    "    \"\"\"\n",
    "    remove_list = ['Licht', 'Binroth', 'Witzel', 'Jordan',\n",
    "                   'Zähringer', 'Scheerer', 'Hoffmann', 'Düe',\n",
    "                   'Hellmich', 'Enkler-Scharpegge', 'Witte-Nguy',\n",
    "                   'Dehen', 'Beckmann', 'Jager', 'Jäger'\n",
    "                  ]\n",
    "\n",
    "    for k in remove_list:\n",
    "        if k in name:\n",
    "            return False\n",
    "    return True\n",
    "\n",
    "def add_author_to_list(author_list: list) -> list:\n",
    "    \"\"\" Add author to list if not already in list\n",
    "    \n",
    "    :param author: author name\n",
    "    :param author_list: list of authors\n",
    "    :returns: updated list of authors\n",
    "    \"\"\"\n",
    "    add_list = ['T. Henning']\n",
    "\n",
    "    for author in add_list:\n",
    "        if author not in author_list:\n",
    "            author_list.append(author)\n",
    "    return author_list\n",
    "\n",
    "# get list from MPIA website\n",
    "# filter for non-scientists (mpia.get_mpia_mitarbeiter_list() does some filtering)\n",
    "mpia_authors = [k[1] for k in mpia.get_mpia_mitarbeiter_list() if filter_non_scientists(k[1])]\n",
    "# add some missing author because of inconsistencies in their MPIA name and author name on papers\n",
    "mpia_authors = add_author_to_list(mpia_authors)"
   ]
  },
  {
   "cell_type": "code",
   "execution_count": 4,
   "id": "2645e73a",
   "metadata": {
    "execution": {
     "iopub.execute_input": "2025-03-14T04:11:13.889149Z",
     "iopub.status.busy": "2025-03-14T04:11:13.888723Z",
     "iopub.status.idle": "2025-03-14T04:11:14.433515Z",
     "shell.execute_reply": "2025-03-14T04:11:14.432898Z"
    },
    "papermill": {
     "duration": 0.5496,
     "end_time": "2025-03-14T04:11:14.434612",
     "exception": false,
     "start_time": "2025-03-14T04:11:13.885012",
     "status": "completed"
    },
    "tags": []
   },
   "outputs": [
    {
     "name": "stdout",
     "output_type": "stream",
     "text": [
      "A. Dumont  ->  A. Dumont  |  ['A. Dumont']\n",
      "N. Neumayer  ->  N. Neumayer  |  ['N. Neumayer']\n",
      "I. J. M. Crossfield  ->  I. J. M. Crossfield  |  ['I. J. M. Crossfield']\n",
      "L. Kreidberg  ->  L. Kreidberg  |  ['L. Kreidberg']\n",
      "X. Zhang  ->  X. Zhang  |  ['X. Zhang']\n",
      "X. Zhang  ->  X. Zhang  |  ['X. Zhang']\n",
      "L. Xie  ->  Z.-L. Xie  |  ['L. Xie']\n",
      "J. Liu  ->  J. Liu  |  ['J. Liu']\n",
      "X. Zhang  ->  X. Zhang  |  ['X. Zhang']\n",
      "X. Zhang  ->  X. Zhang  |  ['X. Zhang']\n"
     ]
    },
    {
     "name": "stdout",
     "output_type": "stream",
     "text": [
      "Arxiv has 60 new papers today\n",
      "          8 with possible author matches\n"
     ]
    }
   ],
   "source": [
    "new_papers = get_new_papers()\n",
    "# add manual references\n",
    "add_paper_refs = []\n",
    "new_papers.extend([get_paper_from_identifier(k) for k in add_paper_refs])\n",
    "\n",
    "def robust_call(fn, value, *args, **kwargs):\n",
    "    try:\n",
    "        return fn(value, *args, **kwargs)\n",
    "    except Exception:\n",
    "        return value\n",
    "\n",
    "candidates = []\n",
    "for paperk in new_papers:\n",
    "    # Check author list with their initials\n",
    "    normed_author_list = [robust_call(mpia.get_initials, k) for k in paperk['authors']]\n",
    "    hl_authors = highlight_authors_in_list(normed_author_list, mpia_authors, verbose=True)\n",
    "    matches = [(hl, orig) for hl, orig in zip(hl_authors, paperk['authors']) if 'mark' in hl]\n",
    "    paperk['authors'] = hl_authors\n",
    "    if matches:\n",
    "        # only select paper if an author matched our list\n",
    "        candidates.append(paperk)\n",
    "print(\"\"\"Arxiv has {0:,d} new papers today\"\"\".format(len(new_papers)))        \n",
    "print(\"\"\"          {0:,d} with possible author matches\"\"\".format(len(candidates)))"
   ]
  },
  {
   "cell_type": "markdown",
   "id": "3543b34a",
   "metadata": {
    "papermill": {
     "duration": 0.003114,
     "end_time": "2025-03-14T04:11:14.441280",
     "exception": false,
     "start_time": "2025-03-14T04:11:14.438166",
     "status": "completed"
    },
    "tags": []
   },
   "source": [
    "# Parse sources and generate relevant outputs\n",
    "\n",
    "From the candidates, we do the following steps:\n",
    "* get their tarball from ArXiv (and extract data)\n",
    "* find the main .tex file: find one with \\documentclass{...} (sometimes it's non trivial)\n",
    "* Check affiliations with :func:`validation`, which uses :func:`mpia.affiliation_verifications`\n",
    "* If passing the affiliations: we parse the .tex source\n",
    "   * inject sub-documents into the main (flatten the main document)\n",
    "   * parse structure, extract information (title, abstract, authors, figures...)\n",
    "   * handles `\\graphicspath` if provided\n",
    "* Generate the .md document."
   ]
  },
  {
   "cell_type": "code",
   "execution_count": 5,
   "id": "9576b79e",
   "metadata": {
    "execution": {
     "iopub.execute_input": "2025-03-14T04:11:14.448615Z",
     "iopub.status.busy": "2025-03-14T04:11:14.448169Z",
     "iopub.status.idle": "2025-03-14T04:11:54.715872Z",
     "shell.execute_reply": "2025-03-14T04:11:54.715102Z"
    },
    "papermill": {
     "duration": 40.272517,
     "end_time": "2025-03-14T04:11:54.716886",
     "exception": false,
     "start_time": "2025-03-14T04:11:14.444369",
     "status": "completed"
    },
    "scrolled": false,
    "tags": []
   },
   "outputs": [
    {
     "data": {
      "application/vnd.jupyter.widget-view+json": {
       "model_id": "826e60c4eaa140e7931d315b918abf8a",
       "version_major": 2,
       "version_minor": 0
      },
      "text/plain": [
       "  0%|          | 0/8 [00:00<?, ?it/s]"
      ]
     },
     "metadata": {},
     "output_type": "display_data"
    },
    {
     "name": "stdout",
     "output_type": "stream",
     "text": [
      "Retrieving document from  https://arxiv.org/e-print/2503.09697\n"
     ]
    },
    {
     "name": "stdout",
     "output_type": "stream",
     "text": [
      "extracting tarball to tmp_2503.09697... done.\n"
     ]
    },
    {
     "name": "stdout",
     "output_type": "stream",
     "text": [
      "A. Dumont  ->  A. Dumont  |  ['A. Dumont']\n",
      "N. Neumayer  ->  N. Neumayer  |  ['N. Neumayer']\n"
     ]
    },
    {
     "name": "stdout",
     "output_type": "stream",
     "text": [
      "Found 26 bibliographic references in tmp_2503.09697/MAIN_PAPER.bbl.\n",
      "Retrieving document from  https://arxiv.org/e-print/2503.09698\n",
      "extracting tarball to tmp_2503.09698... done.\n"
     ]
    },
    {
     "name": "stdout",
     "output_type": "stream",
     "text": [
      "I. J. M. Crossfield  ->  I. J. M. Crossfield  |  ['I. J. M. Crossfield']\n",
      "L. Kreidberg  ->  L. Kreidberg  |  ['L. Kreidberg']\n"
     ]
    },
    {
     "name": "stdout",
     "output_type": "stream",
     "text": [
      "Found 109 bibliographic references in tmp_2503.09698/main.bbl.\n",
      "Retrieving document from  https://arxiv.org/e-print/2503.09952\n",
      "extracting tarball to tmp_2503.09952..."
     ]
    },
    {
     "name": "stdout",
     "output_type": "stream",
     "text": [
      " done.\n",
      "Retrieving document from  https://arxiv.org/e-print/2503.10035\n",
      "extracting tarball to tmp_2503.10035... done.\n",
      "Retrieving document from  https://arxiv.org/e-print/2503.10180\n"
     ]
    },
    {
     "name": "stderr",
     "output_type": "stream",
     "text": [
      "/opt/hostedtoolcache/Python/3.9.21/x64/lib/python3.9/site-packages/IPython/core/interactiveshell.py:3550: LatexWarning: Multiple tex files.\n",
      "\n",
      "  exec(code_obj, self.user_global_ns, self.user_ns)\n",
      "/opt/hostedtoolcache/Python/3.9.21/x64/lib/python3.9/site-packages/IPython/core/interactiveshell.py:3550: LatexWarning: Found documentclass in tmp_2503.09952/aanda.tex\n",
      "\n",
      "  exec(code_obj, self.user_global_ns, self.user_ns)\n",
      "/opt/hostedtoolcache/Python/3.9.21/x64/lib/python3.9/site-packages/arxiv_on_deck_2/latex.py:414: LatexWarning: Latex injecting: 'table_c1' from 'tmp_2503.09952/table_c1.tex'\n",
      "  warnings.warn(LatexWarning(f\"Latex injecting: '{ext}' from '{subsource}'\"))\n"
     ]
    },
    {
     "name": "stdout",
     "output_type": "stream",
     "text": [
      "extracting tarball to tmp_2503.10180..."
     ]
    },
    {
     "name": "stdout",
     "output_type": "stream",
     "text": [
      " done.\n",
      "  0: tmp_2503.10180/highz_lens.tex, 892 lines\n",
      "  1: tmp_2503.10180/natnotes.tex, 332 lines\n",
      "  2: tmp_2503.10180/natbib.tex, 96 lines\n",
      "Retrieving document from  https://arxiv.org/e-print/2503.10339\n",
      "extracting tarball to tmp_2503.10339..."
     ]
    },
    {
     "name": "stderr",
     "output_type": "stream",
     "text": [
      "/opt/hostedtoolcache/Python/3.9.21/x64/lib/python3.9/site-packages/IPython/core/interactiveshell.py:3550: LatexWarning: Multiple tex files.\n",
      "\n",
      "  exec(code_obj, self.user_global_ns, self.user_ns)\n",
      "/opt/hostedtoolcache/Python/3.9.21/x64/lib/python3.9/site-packages/IPython/core/interactiveshell.py:3550: LatexWarning: Found 3 candidates with documentclass definition.\n",
      "  exec(code_obj, self.user_global_ns, self.user_ns)\n",
      "/opt/hostedtoolcache/Python/3.9.21/x64/lib/python3.9/site-packages/IPython/core/interactiveshell.py:3550: LatexWarning: Assuming tmp_2503.10180/highz_lens.tex as main document.\n",
      "  exec(code_obj, self.user_global_ns, self.user_ns)\n"
     ]
    },
    {
     "name": "stdout",
     "output_type": "stream",
     "text": [
      " done.\n"
     ]
    },
    {
     "name": "stdout",
     "output_type": "stream",
     "text": [
      "Found 73 bibliographic references in tmp_2503.10339/main.bbl.\n",
      "Error retrieving bib data for liu2024: 'author'\n",
      "Retrieving document from  https://arxiv.org/e-print/2503.10346\n",
      "extracting tarball to tmp_2503.10346... done.\n",
      "Retrieving document from  https://arxiv.org/e-print/2503.10423\n",
      "extracting tarball to tmp_2503.10423... done.\n"
     ]
    }
   ],
   "source": [
    "documents = []\n",
    "failed = []\n",
    "for paper in tqdm(candidates):\n",
    "    # debug crap\n",
    "    paper['identifier'] = paper['identifier'].lower().replace('arxiv:', '').replace(r'\\n', '').strip()\n",
    "    paper_id = paper['identifier']\n",
    "    \n",
    "    folder = f'tmp_{paper_id}'\n",
    "\n",
    "    try:\n",
    "        if not os.path.isdir(folder):\n",
    "            folder = retrieve_document_source(f\"{paper_id}\", f'tmp_{paper_id}')\n",
    "        \n",
    "        try:\n",
    "            doc = latex.LatexDocument(folder, validation=validation)    \n",
    "        except AffiliationError as affilerror:\n",
    "            msg = f\"ArXiv:{paper_id:s} is not an MPIA paper... \" + str(affilerror)\n",
    "            failed.append((paper, \"affiliation error: \" + str(affilerror) ))\n",
    "            continue\n",
    "        \n",
    "        # Hack because sometimes author parsing does not work well\n",
    "        if (len(doc.authors) != len(paper['authors'])):\n",
    "            doc._authors = paper['authors']\n",
    "        else:\n",
    "            # highlight authors (FIXME: doc.highlight_authors)\n",
    "            # done on arxiv paper already\n",
    "            doc._authors = highlight_authors_in_list(\n",
    "                [get_initials(k) for k in doc.authors], \n",
    "                mpia_authors, verbose=True)\n",
    "        if (doc.abstract) in (None, ''):\n",
    "            doc._abstract = paper['abstract']\n",
    "            \n",
    "        doc.comment = (get_markdown_badge(paper_id) + \n",
    "                       \"<mark>Appeared on: \" + paper['date'] + \"</mark> - \")\n",
    "        if paper['comments']:\n",
    "            doc.comment += \" _\" + paper['comments'] + \"_\"\n",
    "        \n",
    "        full_md = doc.generate_markdown_text()\n",
    "        \n",
    "        full_md += get_markdown_qrcode(paper_id)\n",
    "        \n",
    "        # replace citations\n",
    "        try:\n",
    "            bibdata = latex_bib.LatexBib.from_doc(doc)\n",
    "            full_md = latex_bib.replace_citations(full_md, bibdata)\n",
    "        except Exception as e:\n",
    "            print(\"Issues with the citations\")\n",
    "            print(e)\n",
    "        \n",
    "        documents.append((paper_id, full_md))\n",
    "    except Exception as e:\n",
    "        warnings.warn(latex.LatexWarning(f\"{paper_id:s} did not run properly\\n\" +\n",
    "                                         str(e)\n",
    "                                        ))\n",
    "        failed.append((paper, \"latex error \" + str(e)))"
   ]
  },
  {
   "cell_type": "markdown",
   "id": "2505a25c",
   "metadata": {
    "papermill": {
     "duration": 0.003845,
     "end_time": "2025-03-14T04:11:54.724926",
     "exception": false,
     "start_time": "2025-03-14T04:11:54.721081",
     "status": "completed"
    },
    "tags": []
   },
   "source": [
    "### Export the logs\n",
    "\n",
    "Throughout, we also keep track of the logs per paper. see `logs-{today date}.md` "
   ]
  },
  {
   "cell_type": "code",
   "execution_count": 6,
   "id": "d733828a",
   "metadata": {
    "execution": {
     "iopub.execute_input": "2025-03-14T04:11:54.733840Z",
     "iopub.status.busy": "2025-03-14T04:11:54.733549Z",
     "iopub.status.idle": "2025-03-14T04:11:54.753149Z",
     "shell.execute_reply": "2025-03-14T04:11:54.752503Z"
    },
    "papermill": {
     "duration": 0.025294,
     "end_time": "2025-03-14T04:11:54.754188",
     "exception": false,
     "start_time": "2025-03-14T04:11:54.728894",
     "status": "completed"
    },
    "scrolled": false,
    "tags": []
   },
   "outputs": [
    {
     "data": {
      "text/markdown": [
       "## Successful papers"
      ],
      "text/plain": [
       "<IPython.core.display.Markdown object>"
      ]
     },
     "metadata": {},
     "output_type": "display_data"
    },
    {
     "data": {
      "text/markdown": [
       "\n",
       "|||\n",
       "|---:|:---|\n",
       "| [![arXiv](https://img.shields.io/badge/arXiv-2503.09697-b31b1b.svg)](https://arxiv.org/abs/2503.09697) | **WIggle Corrector Kit for NIRSpEc Data: WICKED**  |\n",
       "|| <mark>A. Dumont</mark>, et al. -- incl., <mark>N. Neumayer</mark> |\n",
       "|*Appeared on*| *2025-03-14*|\n",
       "|*Comments*| *Submitted to A&A*|\n",
       "|**Abstract**|            The point-spread function of the integral-field unit (IFU) mode of the JWST's NIRSpec is heavily under-sampled, creating resampling noise seen as low-frequency sinusoidal-like artifacts, or \"wiggles\". These artifacts in the data are not corrected in the JWST data pipeline, and significantly impact the science that can be achieved at a single-pixel level. We present WICKED (WIggle Corrector Kit for NIRSpEc Data), a tool designed to empirically remove wiggles. WICKED uses the Fast Fourier Transform to identify wiggle-affected spaxels across the data cube. Spectra are modeled with a mix of integrated aperture and annular templates, a power-law, and a second-degree polynomial. The method works across all medium- and high-resolution NIRSpec gratings: F070LP, F100LP, F170LP, and F290LP. WICKED can recover the true overall spectral shape up to a factor of 3.5x better compared to uncorrected spectra. It recovers the equivalent width of absorption lines within 5% of the true value-~3x better than uncorrected spectra and ~2x better than other methods. WICKED significantly improves kinematic measurements, recovering the line-of-sight velocity (LOSV) within 1% of the true value -- more than 100x better than uncorrected spectra at S/N ~40. As a case study, we applied WICKED to G235H/F170LP IFU data of the elliptical galaxy NGC5128, finding good agreement with previous studies. In wiggle-affected regions, the uncorrected spectrum showed stellar LOSV and velocity dispersion differences compared to the WICKED-cleaned spectrum, of ~17x and ~36x larger than the estimated uncertainties, respectively. Wiggles in NIRSpec IFU data can introduce severe biases in spectral shape, line measurements, and kinematics to values larger than the typical uncertainties. WICKED provides a robust, user-friendly solution, enabling precise single-pixel studies and maximizing JWST's potential.         |"
      ],
      "text/plain": [
       "[2503.09697] WIggle Corrector Kit for NIRSpEc Data: WICKED\n",
       "\t<mark>A. Dumont</mark>, et al. -- incl., <mark>N. Neumayer</mark>"
      ]
     },
     "metadata": {},
     "output_type": "display_data"
    },
    {
     "data": {
      "text/markdown": [
       "\n",
       "|||\n",
       "|---:|:---|\n",
       "| [![arXiv](https://img.shields.io/badge/arXiv-2503.09698-b31b1b.svg)](https://arxiv.org/abs/2503.09698) | **Low 4.5 μm Dayside Emission Disfavors a Dark Bare-Rock scenario for the Hot Super-Earth TOI-431 b**  |\n",
       "|| C. Monaghan, et al. -- incl., <mark>I. J. M. Crossfield</mark>, <mark>L. Kreidberg</mark> |\n",
       "|*Appeared on*| *2025-03-14*|\n",
       "|*Comments*| *14 pages, 5 figures, accepted for publication in The Astronomical Journal*|\n",
       "|**Abstract**|            The full range of conditions under which rocky planets can host atmospheres remains poorly understood, especially in the regime of close-in orbits around late-type stars. One way to assess the presence of atmospheres on rocky exoplanets is to measure their dayside emission as they are eclipsed by their host stars. Here, we present Spitzer observations of the 4.5 $\\mu$m secondary eclipses of the rocky super-Earth TOI-431 b, whose mass and radius indicate an Earth-like bulk composition (3.07 $\\pm$ 0.35 M$_{\\oplus}$, 1.28 $\\pm$ 0.04 R$_{\\oplus}$). Exposed to more than 2000 times the irradiation of Earth, dayside temperatures of up to 2400K are expected if the planet is a dark bare-rock without a significant atmosphere. Intriguingly, despite the strong stellar insolation, we measure a secondary eclipse depth of only 33 $\\pm$ 22 ppm, which corresponds to a dayside brightness temperature of $1520_{-390}^{+360}$K. This notably low eclipse depth disagrees with the dark bare-rock scenario at the 2.5$\\sigma$ level, and suggests either that the planet is surrounded by an atmosphere, or that it is a bare-rock with a highly reflective surface. In the atmosphere scenario, the low dayside emission implies the efficient redistribution of heat to the nightside, or by molecular absorption in the 4-5 $\\mu$m bandpass. In the bare-rock scenario, a surface composition made of a high-albedo mineral species such as ultramafic rock can lead to reduced thermal emission consistent with low eclipse depth measurement. Follow-up spectroscopic observations with the James Webb Space Telescope hold the key to constraining the nature of the planet.         |"
      ],
      "text/plain": [
       "[2503.09698] Low 4.5 μm Dayside Emission Disfavors a Dark Bare-Rock scenario for the Hot Super-Earth TOI-431 b\n",
       "\tC. Monaghan, et al. -- incl., <mark>I. J. M. Crossfield</mark>, <mark>L. Kreidberg</mark>"
      ]
     },
     "metadata": {},
     "output_type": "display_data"
    },
    {
     "data": {
      "text/markdown": [
       "\n",
       "|||\n",
       "|---:|:---|\n",
       "| [![arXiv](https://img.shields.io/badge/arXiv-2503.10339-b31b1b.svg)](https://arxiv.org/abs/2503.10339) | **C3PO IV: co-natal stars depleted in refractories are magnetically more active -- possible imprints of planets**  |\n",
       "|| J. Yu, et al. -- incl., <mark>J. Liu</mark> |\n",
       "|*Appeared on*| *2025-03-14*|\n",
       "|*Comments*| *13 pages, 12 figures. Accepted for publication in MNRAS*|\n",
       "|**Abstract**|            Chemical abundance anomalies in twin stars have recently been considered tell-tale signs of interactions between stars and planets. While such signals are prevalent, their nature remains a subject of debate. On one hand, exoplanet formation may induce chemical depletion in host stars by locking up refractory elements. On the other hand, exoplanet engulfment can result in chemical enrichment, both processes potentially producing similar differential signals. In this study, we aim to observationally disentangle these processes by using the Ca II infrared triplet to measure the magnetic activity of 125 co-moving star pairs with high SNR, high-resolution spectra from the Magellan, Keck, and VLT telescopes. We find that co-natal star pairs in which the two stars exhibit significant chemical abundance differences also show differences in their magnetic activity, with stars depleted in refractories being magnetically more active. Furthermore, the strength of this correlation between differential chemical abundances and differential magnetic activity increases with condensation temperature. One possible explanation is that the chemical anomaly signature may be linked to planet formation, wherein refractory elements are locked into planets, and the host stars become more active due to more efficient contraction during the pre-main-sequence phase or star-planet tidal and magnetic interactions.         |"
      ],
      "text/plain": [
       "[2503.10339] C3PO IV: co-natal stars depleted in refractories are magnetically more active -- possible imprints of planets\n",
       "\tJ. Yu, et al. -- incl., <mark>J. Liu</mark>"
      ]
     },
     "metadata": {},
     "output_type": "display_data"
    },
    {
     "data": {
      "text/markdown": [
       "## Failed papers"
      ],
      "text/plain": [
       "<IPython.core.display.Markdown object>"
      ]
     },
     "metadata": {},
     "output_type": "display_data"
    },
    {
     "data": {
      "text/markdown": [
       "\n",
       "|||\n",
       "|---:|:---|\n",
       "| [![arXiv](https://img.shields.io/badge/arXiv-2503.09952-b31b1b.svg)](https://arxiv.org/abs/2503.09952) | **The SRG/eROSITA All-Sky Survey : Subaru/HSC-SSP weak-lensing mass measurements for the eRASS1 Galaxy Clusters**  |\n",
       "|| N. Okabe, et al. -- incl., <mark>X. Zhang</mark> |\n",
       "|*Appeared on*| *2025-03-14*|\n",
       "|*Comments*| *27 pages, 24 figures; submitted to A&A*|\n",
       "|**Abstract**|            We perform individual weak-lensing (WL) mass measurements for 78 eROSITA's first All-Sky Survey (eRASS1) clusters in the footprint of Hyper Suprime-Cam Subaru Strategic Program (HSC-SSP) S19A, without any priors of the eRASS1 X-ray quantities or assumption of the mass and concentration relation. In the sample, we find 3 clusters are mis-associated with optical counterparts and 12 clusters are poorly fitted with an NFW profile. The average mass for the 12 poor-fit clusters changes from $\\sim 10^{14}h_{70}^{-1}M_\\odot$ to $\\sim 2\\times 10^{13}h_{70}^{-1}M_\\odot$ when lensing contamination from surrounding mass structures is taken into account. The scaling relations between the true mass and cluster richness and X-ray count-rate agree well with the results of the eRASS1 Western Galactic Hemisphere region based on count-rate-inferred masses, which are calibrated with the HSC-SSP, DES, and KiDS surveys. We develop a Bayesian framework for inferring the mass-concentration relation of the cluster sample, explicitly incorporating the effects of weak-lensing mass calibration in the mass-concentration parameter space. The redshift-dependent mass and concentration relation is in excellent agreement with predictions of dark-matter-only numerical simulations and previous studies using X-ray-selected clusters. Based on the two-dimensional (2D) WL analysis, the offsets between the WL-determined centers and the X-ray centroids for 36 eRASS1 clusters with high WL S/N are described by two Gaussian components. We find that the mis-centering effect with X-ray centroids is smaller than that with peaks in the galaxy maps. The projected halo ellipticity is $\\langle \\varepsilon \\rangle=0.45$ at $M_{200}\\sim 4\\times10^{14}h_{70}^{-1}M_\\odot$, in agreement with results of numerical simulations and previous studies of clusters more than twice our mass.         |\n",
       "|<p style=\"color:green\"> **ERROR** </p>| <p style=\"color:green\">affiliation error: mpia.affiliation_verifications: '69117' keyword not found.</p> |"
      ],
      "text/plain": [
       "<IPython.core.display.Markdown object>"
      ]
     },
     "metadata": {},
     "output_type": "display_data"
    },
    {
     "data": {
      "text/markdown": [
       "\n",
       "|||\n",
       "|---:|:---|\n",
       "| [![arXiv](https://img.shields.io/badge/arXiv-2503.10180-b31b1b.svg)](https://arxiv.org/abs/2503.10180) | **Optical+NIR analysis of a newly found Einstein ring at z$\\sim$1 from the Kilo-Degree Survey: Dark matter fraction, total and dark matter density slope and IMF**  |\n",
       "|| R. Li, et al. -- incl., <mark>L. Xie</mark> |\n",
       "|*Appeared on*| *2025-03-14*|\n",
       "|*Comments*| *13 pages, 4 figures, 2 tables*|\n",
       "|**Abstract**|            We report the discovery and spectroscopic confirmation of a new bright blue Einstein ring in the Kilo Degree Survey (KiDS) footprint: the Einstein ``blue eye''. Spectroscopic data from X-Shooter at the Very Large Telescope (VLT) show that the lens is a typical early-type galaxy (ETG) at $z=0.9906$, while the background source is a Ly$\\alpha$ emitter at $z=2.823$. The reference lens modeling was performed on a high-resolution $Y-$band adaptive-optics image from HAWK-I at VLT. Assuming a singular isothermal ellipsoid (SIE) total mass density profile, we inferred an Einstein radius $R_{Ein}=10.47 \\pm 0.06$ kpc. The average slope of the total mass density inside the Einstein radius, as determined by a joint analysis of lensing and isotropic Jeans equations is $\\gamma=2.14^{+0.06}_{-0.07}$, showing no systematic deviation from the slopes of lower redshit galaxies, This can be the evidence of ETGs developing through dry mergers plus moderate dissipationless accretion. Stellar population analysis with 8-band ($gri$ZYJHK$s$) photometries from KiDS and VIKING shows that the total stellar mass of the lens is $M*=(3.95\\pm 0.35)\\times 10^{11} M_\\odot$ (Salpeter Initial Mass Function, IMF), implying a dark matter fraction inside the effective radius to be $f_{\\rm DM}=0.307\\pm 0.151$. We finally explored the dark matter halo slope and found a strong degeneracy with the dynamic stellar mass. Dark matter adiabatic contraction is needed to explain the posterior distribution of the slope, unless IMF heavier than Salpeter is assumed.         |\n",
       "|<p style=\"color:green\"> **ERROR** </p>| <p style=\"color:green\">affiliation error: mpia.affiliation_verifications: 'Heidelberg' keyword not found.</p> |"
      ],
      "text/plain": [
       "<IPython.core.display.Markdown object>"
      ]
     },
     "metadata": {},
     "output_type": "display_data"
    },
    {
     "data": {
      "text/markdown": [
       "\n",
       "|||\n",
       "|---:|:---|\n",
       "| [![arXiv](https://img.shields.io/badge/arXiv-2503.10346-b31b1b.svg)](https://arxiv.org/abs/2503.10346) | **Model-independent $H_0$ within FLRW: Joint constraints from GWTC-3 standard sirens and strong lensing time delays**  |\n",
       "|| J.-Y. Song, J.-Z. Qi, J.-F. Zhang, <mark>X. Zhang</mark> |\n",
       "|*Appeared on*| *2025-03-14*|\n",
       "|*Comments*| *7 pages, 1 figure*|\n",
       "|**Abstract**|            The Hubble tension has emerged as a critical crisis in cosmology, with the cause remaining unclear. Determining the Hubble constant ($H_0$) independently of cosmological models and distance ladders will help resolve this crisis. In this letter, we for the first time use 47 gravitational-wave (GW) standard sirens from the third Gravitational-Wave Transient Catalog to calibrate distances in the strong lensing system, RXJ1131-1231, and constrain $H_0$ through the distance-sum rule, with minimal cosmological assumptions. We assume that light propagation over long distances is described by the Friedmann-Lemaitre-Robertson-Walker metric and that geometrical optics holds, but we do not need to assume the universe's contents or the theory of gravity on cosmological scales. Fixing $\\Omega_K=0$, we obtain $H_0=73.22^{+5.95}_{-5.43}$ ${\\rm km}~{\\rm s}^{-1}~{\\rm Mpc}^{-1}$ and $H_0=70.40^{+8.03}_{-5.60}$ ${\\rm km}~{\\rm s}^{-1}~{\\rm Mpc}^{-1}$ by using the deflector galaxy's mass model and kinematic measurements to break mass-sheet transform, respectively. When $\\Omega_K$ is not fixed, the central value of $H_0$ increases further. We find that our results are still dominated by statistical errors, and at the same time, we notice the great potential of using GW dark sirens to provide calibration, owing to their higher redshifts. When using 42 binary black holes and RXJ1131-1231, we obtain a $8.46 \\%$ $H_0$ constraint precision, which is better than that from the bright siren GW170817 using the Hubble law by about $40\\%$. In the future, as the redshift range of GW dark sirens increases, more and more SGLTDs can be included, and we can achieve high-precision, model-independent measurements of $H_0$ without the need for GW bright sirens.         |\n",
       "|<p style=\"color:green\"> **ERROR** </p>| <p style=\"color:green\">affiliation error: mpia.affiliation_verifications: 'Heidelberg' keyword not found.</p> |"
      ],
      "text/plain": [
       "<IPython.core.display.Markdown object>"
      ]
     },
     "metadata": {},
     "output_type": "display_data"
    },
    {
     "data": {
      "text/markdown": [
       "\n",
       "|||\n",
       "|---:|:---|\n",
       "| [![arXiv](https://img.shields.io/badge/arXiv-2503.10423-b31b1b.svg)](https://arxiv.org/abs/2503.10423) | **A search for sterile neutrinos in interacting dark energy models using DESI baryon acoustic oscillations and DES supernovae data**  |\n",
       "|| L. Feng, et al. -- incl., <mark>X. Zhang</mark> |\n",
       "|*Appeared on*| *2025-03-14*|\n",
       "|*Comments*| *8 pages, 3 figures*|\n",
       "|**Abstract**|            Sterile neutrinos can influence the evolution of the universe, and thus cosmological observations can be used to search for sterile neutrinos. In this study, we utilized the latest baryon acoustic oscillations data from DESI, combined with the cosmic microwave background data from Planck and the five-year supernova data from DES, to constrain the interacting dark energy (IDE) models involving both cases of massless and massive sterile neutrinos. We consider four typical forms of the interaction term $Q=\\beta H \\rho_{\\rm de}$, $Q=\\beta H \\rho_{\\rm c}$, $Q=\\beta H_{0} \\rho_{\\rm de}$, and $Q=\\beta H_{0} \\rho_{\\rm c}$, respectively. Our analysis indicates that the current data provide only a hint of the existence of massless sterile neutrinos (as dark radiation) at about the $1\\sigma$ level. In contrast, no evidence supports the existence of massive sterile neutrinos. Furthermore, in IDE models, the inclusion of (massless/massive) sterile neutrinos has a negligible impact on the constraint of the coupling parameter $\\beta$. The IDE model of $Q=\\beta H \\rho_{\\rm c}$ with sterile neutrinos does not favor an interaction. However, the other three IDE models with sterile neutrinos support an interaction in which dark energy decays into dark matter.         |\n",
       "|<p style=\"color:green\"> **ERROR** </p>| <p style=\"color:green\">affiliation error: mpia.affiliation_verifications: 'Heidelberg' keyword not found.</p> |"
      ],
      "text/plain": [
       "<IPython.core.display.Markdown object>"
      ]
     },
     "metadata": {},
     "output_type": "display_data"
    },
    {
     "data": {
      "text/markdown": [
       "\n",
       "|||\n",
       "|---:|:---|\n",
       "| [![arXiv](https://img.shields.io/badge/arXiv-2503.10035-b31b1b.svg)](https://arxiv.org/abs/2503.10035) | **Temporal variability and obscuration effects in the X-ray emission of classical nova V339 Delphini (Nova Delphini 2013)**  |\n",
       "|| S. Pei, et al. -- incl., <mark>X. Zhang</mark> |\n",
       "|*Appeared on*| *2025-03-14*|\n",
       "|*Comments*| *accepted for publication in Monthly Notices of the Royal Astronomical Society (MNRAS), 19 pages, 16 figures,*|\n",
       "|**Abstract**|            In this study, we present a detailed analysis of public archival soft X-ray data on the classical nova V339 Delphini (Nova Del 2013) during its outburst, obtained using the {\\it Chandra} High-Resolution Camera Spectrometer (HRC-S) and Low Energy Transmission Grating (LETG), as well as {\\it XMM-Newton} in 2013. The observations, spanning from day 85.2 to day 112.0 after the optical maximum, capture the nova during its luminous supersoft X-ray source (SSS) phase. The spectra reveal numerous absorption features with blue-shifted velocities ranging from $\\sim$ 724 to $\\sim$ 1474 km s$^{-1}$, with the majority of lines blue-shifted by approximately 1200 km s$^{-1}$. We confirm the presence of a short-period modulation of the X-ray flux with a period of approximately 54 seconds, as well as the drift of this period, which was detected on days 97.0 and 112.0 during the outburst with both {\\it XMM-Newton} and {\\it Chandra}. This period modulation is transient in nature, with significant variations in amplitude and pulse profile over timescales of a few thousand seconds, likely due to temporary obscuration events that affect the emission from the central hot source. The pulse profiles exhibit substantial deviations from a pure sinusoidal shape, which may be related to the period drift. Additionally, the modulation amplitude shows a possible anti-correlation with the count rates on day 97.0, likely also caused by temporary obscuration events influencing the central source's emission.         |\n",
       "|<p style=\"color:green\"> **ERROR** </p>| <p style=\"color:green\">affiliation error: mpia.affiliation_verifications: 'Planck' keyword not found.</p> |"
      ],
      "text/plain": [
       "<IPython.core.display.Markdown object>"
      ]
     },
     "metadata": {},
     "output_type": "display_data"
    }
   ],
   "source": [
    "import datetime\n",
    "today = str(datetime.date.today())\n",
    "logfile = f\"_build/html/logs/log-{today}.md\"\n",
    "\n",
    "\n",
    "with open(logfile, 'w') as logs:\n",
    "    # Success\n",
    "    logs.write(f'# Arxiv on Deck 2: Logs - {today}\\n\\n')\n",
    "    logs.write(\"\"\"* Arxiv had {0:,d} new papers\\n\"\"\".format(len(new_papers)))\n",
    "    logs.write(\"\"\"    * {0:,d} with possible author matches\\n\\n\"\"\".format(len(candidates)))\n",
    "    logs.write(\"## Sucessful papers\\n\\n\")\n",
    "    display(Markdown(\"## Successful papers\"))\n",
    "    success = [k[0] for k in documents]\n",
    "    for candid in candidates:\n",
    "        if candid['identifier'].split(':')[-1] in success:\n",
    "            display(candid)\n",
    "            logs.write(candid.generate_markdown_text() + '\\n\\n')\n",
    "\n",
    "    ## failed\n",
    "    logs.write(\"## Failed papers\\n\\n\")\n",
    "    display(Markdown(\"## Failed papers\"))\n",
    "    failed = sorted(failed, key=lambda x: x[1])\n",
    "    current_reason = \"\"\n",
    "    for paper, reason in failed:\n",
    "        if 'affiliation' in reason:\n",
    "            color = 'green'\n",
    "        else:\n",
    "            color = 'red'\n",
    "        data = Markdown(\n",
    "                paper.generate_markdown_text() + \n",
    "                f'\\n|<p style=\"color:{color:s}\"> **ERROR** </p>| <p style=\"color:{color:s}\">{reason:s}</p> |'\n",
    "               )\n",
    "        if reason != current_reason:\n",
    "            logs.write(f'### {reason:s} \\n\\n')\n",
    "            current_reason = reason\n",
    "        logs.write(data.data + '\\n\\n')\n",
    "        \n",
    "        # only display here the important errors (all in logs)\n",
    "        # if color in ('red',):\n",
    "        display(data)"
   ]
  },
  {
   "cell_type": "markdown",
   "id": "472d20ee",
   "metadata": {
    "papermill": {
     "duration": 0.00484,
     "end_time": "2025-03-14T04:11:54.764079",
     "exception": false,
     "start_time": "2025-03-14T04:11:54.759239",
     "status": "completed"
    },
    "tags": []
   },
   "source": [
    "## Export documents\n",
    "\n",
    "We now write the .md files and export relevant images"
   ]
  },
  {
   "cell_type": "code",
   "execution_count": 7,
   "id": "d426aed9",
   "metadata": {
    "execution": {
     "iopub.execute_input": "2025-03-14T04:11:54.775094Z",
     "iopub.status.busy": "2025-03-14T04:11:54.774489Z",
     "iopub.status.idle": "2025-03-14T04:11:54.781652Z",
     "shell.execute_reply": "2025-03-14T04:11:54.781095Z"
    },
    "papermill": {
     "duration": 0.013667,
     "end_time": "2025-03-14T04:11:54.782598",
     "exception": false,
     "start_time": "2025-03-14T04:11:54.768931",
     "status": "completed"
    },
    "tags": []
   },
   "outputs": [],
   "source": [
    "def export_markdown_summary(md: str, md_fname:str, directory: str):\n",
    "    \"\"\"Export MD document and associated relevant images\"\"\"\n",
    "    import os\n",
    "    import shutil\n",
    "    import re\n",
    "\n",
    "    if (os.path.exists(directory) and not os.path.isdir(directory)):\n",
    "        raise RuntimeError(f\"a non-directory file exists with name {directory:s}\")\n",
    "\n",
    "    if (not os.path.exists(directory)):\n",
    "        print(f\"creating directory {directory:s}\")\n",
    "        os.mkdir(directory)\n",
    "\n",
    "    fig_fnames = (re.compile(r'\\[Fig.*\\]\\((.*)\\)').findall(md) + \n",
    "                  re.compile(r'\\<img src=\"([^>\\s]*)\"[^>]*/>').findall(md))\n",
    "    print(\"found figures\", fig_fnames)\n",
    "    for fname in fig_fnames:\n",
    "        if 'http' in fname:\n",
    "            # No need to copy online figures\n",
    "            continue\n",
    "        if not os.path.exists(fname):\n",
    "            print(\"file not found\", fname)\n",
    "            continue\n",
    "        print(\"copying \", fname, \"to\", directory)\n",
    "        destdir = os.path.join(directory, os.path.dirname(fname))\n",
    "        destfname = os.path.join(destdir, os.path.basename(fname))\n",
    "        try:\n",
    "            os.makedirs(destdir)\n",
    "        except FileExistsError:\n",
    "            pass\n",
    "        shutil.copy(fname, destfname)\n",
    "    with open(os.path.join(directory, md_fname), 'w') as fout:\n",
    "        fout.write(md)\n",
    "    print(\"exported in \", os.path.join(directory, md_fname))\n",
    "    [print(\"    + \" + os.path.join(directory,fk)) for fk in fig_fnames]"
   ]
  },
  {
   "cell_type": "code",
   "execution_count": 8,
   "id": "014d04a4",
   "metadata": {
    "execution": {
     "iopub.execute_input": "2025-03-14T04:11:54.793385Z",
     "iopub.status.busy": "2025-03-14T04:11:54.792980Z",
     "iopub.status.idle": "2025-03-14T04:11:54.806035Z",
     "shell.execute_reply": "2025-03-14T04:11:54.805350Z"
    },
    "papermill": {
     "duration": 0.019585,
     "end_time": "2025-03-14T04:11:54.807150",
     "exception": false,
     "start_time": "2025-03-14T04:11:54.787565",
     "status": "completed"
    },
    "tags": []
   },
   "outputs": [
    {
     "name": "stdout",
     "output_type": "stream",
     "text": [
      "found figures ['tmp_2503.09697/./Figures/SN_50_spectrum.png', 'tmp_2503.09697/./Figures/SN_15_spectrum.png', 'tmp_2503.09697/./Figures/SN_8_spectrum.png', 'tmp_2503.09697/./Figures/FFT_50.png', 'tmp_2503.09697/./Figures/FFT_15.png', 'tmp_2503.09697/./Figures/FFT_8.png', 'tmp_2503.09697/./Figures/FFT_Panel_2.png', 'tmp_2503.09697/./Figures/MeanDiff_vs_SNR.png']\n",
      "copying  tmp_2503.09697/./Figures/SN_50_spectrum.png to _build/html/\n",
      "copying  tmp_2503.09697/./Figures/SN_15_spectrum.png to _build/html/\n",
      "copying  tmp_2503.09697/./Figures/SN_8_spectrum.png to _build/html/\n",
      "copying  tmp_2503.09697/./Figures/FFT_50.png to _build/html/\n",
      "copying  tmp_2503.09697/./Figures/FFT_15.png to _build/html/\n",
      "copying  tmp_2503.09697/./Figures/FFT_8.png to _build/html/\n",
      "copying  tmp_2503.09697/./Figures/FFT_Panel_2.png to _build/html/\n",
      "copying  tmp_2503.09697/./Figures/MeanDiff_vs_SNR.png to _build/html/\n",
      "exported in  _build/html/2503.09697.md\n",
      "    + _build/html/tmp_2503.09697/./Figures/SN_50_spectrum.png\n",
      "    + _build/html/tmp_2503.09697/./Figures/SN_15_spectrum.png\n",
      "    + _build/html/tmp_2503.09697/./Figures/SN_8_spectrum.png\n",
      "    + _build/html/tmp_2503.09697/./Figures/FFT_50.png\n",
      "    + _build/html/tmp_2503.09697/./Figures/FFT_15.png\n",
      "    + _build/html/tmp_2503.09697/./Figures/FFT_8.png\n",
      "    + _build/html/tmp_2503.09697/./Figures/FFT_Panel_2.png\n",
      "    + _build/html/tmp_2503.09697/./Figures/MeanDiff_vs_SNR.png\n",
      "found figures ['tmp_2503.09698/./scarlet_models_andopacity.png', 'tmp_2503.09698/./sigmagrid.png', 'tmp_2503.09698/./eclipsecomparison.png']\n",
      "copying  tmp_2503.09698/./scarlet_models_andopacity.png to _build/html/\n",
      "copying  tmp_2503.09698/./sigmagrid.png to _build/html/\n",
      "copying  tmp_2503.09698/./eclipsecomparison.png to _build/html/\n",
      "exported in  _build/html/2503.09698.md\n",
      "    + _build/html/tmp_2503.09698/./scarlet_models_andopacity.png\n",
      "    + _build/html/tmp_2503.09698/./sigmagrid.png\n",
      "    + _build/html/tmp_2503.09698/./eclipsecomparison.png\n",
      "found figures ['tmp_2503.10339/./Activity-EWdiffMean-ChemDiff-delta-xh-C-twoGroup.png', 'tmp_2503.10339/./Activity-EWdiffMean-ChemDiff-delta-xh-Na-twoGroup.png', 'tmp_2503.10339/./Activity-EWdiffMean-ChemDiff-delta-xh-Fe2-twoGroup.png', 'tmp_2503.10339/./Activity-EWdiffMean-ChemDiff-delta-xh-Sc2-twoGroup.png', 'tmp_2503.10339/./Activity-EWdiffMean-ChemDiff-CondTeff.png', 'tmp_2503.10339/./ChemicalPatternsSlopeEWdiff.png']\n",
      "copying  tmp_2503.10339/./Activity-EWdiffMean-ChemDiff-delta-xh-C-twoGroup.png to _build/html/\n",
      "copying  tmp_2503.10339/./Activity-EWdiffMean-ChemDiff-delta-xh-Na-twoGroup.png to _build/html/\n",
      "copying  tmp_2503.10339/./Activity-EWdiffMean-ChemDiff-delta-xh-Fe2-twoGroup.png to _build/html/\n",
      "copying  tmp_2503.10339/./Activity-EWdiffMean-ChemDiff-delta-xh-Sc2-twoGroup.png to _build/html/\n",
      "copying  tmp_2503.10339/./Activity-EWdiffMean-ChemDiff-CondTeff.png to _build/html/\n",
      "copying  tmp_2503.10339/./ChemicalPatternsSlopeEWdiff.png to _build/html/\n",
      "exported in  _build/html/2503.10339.md\n",
      "    + _build/html/tmp_2503.10339/./Activity-EWdiffMean-ChemDiff-delta-xh-C-twoGroup.png\n",
      "    + _build/html/tmp_2503.10339/./Activity-EWdiffMean-ChemDiff-delta-xh-Na-twoGroup.png\n",
      "    + _build/html/tmp_2503.10339/./Activity-EWdiffMean-ChemDiff-delta-xh-Fe2-twoGroup.png\n",
      "    + _build/html/tmp_2503.10339/./Activity-EWdiffMean-ChemDiff-delta-xh-Sc2-twoGroup.png\n",
      "    + _build/html/tmp_2503.10339/./Activity-EWdiffMean-ChemDiff-CondTeff.png\n",
      "    + _build/html/tmp_2503.10339/./ChemicalPatternsSlopeEWdiff.png\n"
     ]
    }
   ],
   "source": [
    "for paper_id, md in documents:\n",
    "    export_markdown_summary(md, f\"{paper_id:s}.md\", '_build/html/')"
   ]
  },
  {
   "cell_type": "markdown",
   "id": "f087a0a7",
   "metadata": {
    "papermill": {
     "duration": 0.004981,
     "end_time": "2025-03-14T04:11:54.817198",
     "exception": false,
     "start_time": "2025-03-14T04:11:54.812217",
     "status": "completed"
    },
    "tags": []
   },
   "source": [
    "## Display the papers\n",
    "\n",
    "Not necessary but allows for a quick check."
   ]
  },
  {
   "cell_type": "code",
   "execution_count": 9,
   "id": "fd25f625",
   "metadata": {
    "execution": {
     "iopub.execute_input": "2025-03-14T04:11:54.828510Z",
     "iopub.status.busy": "2025-03-14T04:11:54.828035Z",
     "iopub.status.idle": "2025-03-14T04:11:54.835140Z",
     "shell.execute_reply": "2025-03-14T04:11:54.834543Z"
    },
    "papermill": {
     "duration": 0.013781,
     "end_time": "2025-03-14T04:11:54.836174",
     "exception": false,
     "start_time": "2025-03-14T04:11:54.822393",
     "status": "completed"
    },
    "scrolled": false,
    "tags": []
   },
   "outputs": [
    {
     "data": {
      "text/markdown": [
       "<div class=\"macros\" style=\"visibility:hidden;\">\n",
       "$\\newcommand{\\ensuremath}{}$\n",
       "$\\newcommand{\\xspace}{}$\n",
       "$\\newcommand{\\object}[1]{\\texttt{#1}}$\n",
       "$\\newcommand{\\farcs}{{.}''}$\n",
       "$\\newcommand{\\farcm}{{.}'}$\n",
       "$\\newcommand{\\arcsec}{''}$\n",
       "$\\newcommand{\\arcmin}{'}$\n",
       "$\\newcommand{\\ion}[2]{#1#2}$\n",
       "$\\newcommand{\\textsc}[1]{\\textrm{#1}}$\n",
       "$\\newcommand{\\hl}[1]{\\textrm{#1}}$\n",
       "$\\newcommand{\\footnote}[1]{}$\n",
       "$\\newcommand{\\vdag}{(v)^\\dagger}$\n",
       "$\\newcommand$\n",
       "$\\newcommand$\n",
       "$\\newcommand{\\orcid}[1]{\\protect\\href{https://orcid.org/#1}{\\protect\\includegraphics[width=8pt]{orcid.png}}}$</div>\n",
       "\n",
       "\n",
       "\n",
       "<div id=\"title\">\n",
       "\n",
       "# $_ WI_$ggle $_ C_$orrector $_ K_$it for NIRSp$_ E_$c $_ D_$ata: WICKED\n",
       "\n",
       "</div>\n",
       "<div id=\"comments\">\n",
       "\n",
       "[![arXiv](https://img.shields.io/badge/arXiv-2503.09697-b31b1b.svg)](https://arxiv.org/abs/2503.09697)<mark>Appeared on: 2025-03-14</mark> -  _Submitted to A&A_\n",
       "\n",
       "</div>\n",
       "<div id=\"authors\">\n",
       "\n",
       "<mark>A. Dumont</mark>, et al. -- incl., <mark>N. Neumayer</mark>\n",
       "\n",
       "</div>\n",
       "<div id=\"abstract\">\n",
       "\n",
       "**Abstract:** $_ Context:_$ The point-spread function of the integral-field unit (IFU) mode of the Near-Infrared Spectrograph (NIRSpec) detector of JWST is heavily under-sampled. The resampling of the spectra into a 3D data cube creates resampling noise seen as low-frequency sinusoidal-like artifacts, or \"wiggles\". These artifacts in the data are not corrected in the JWST data pipeline, and significantly impact the science that can be achieved at a single-pixel level. $_ Aims:_$ Here we present the tool \" $_ WI_$ ggle $_ C_$ orrector $_ K_$ it for NIRSp $_ E_$ c $_ D_$ ata\" ( ${\\sc WICKED}$ ), designed to remove these artifacts. While fully characterizing wiggles requires forward modeling of the instrument response, ${\\sc WICKED}$ offers a faster, computationally efficient alternative using an empirical correction. $_ Methods:_$ ${\\sc WICKED}$ uses the  Fast Fourier Transform to identify wiggle-affected spaxels across the (IFU) data cube. Spectra are modeled with a mix of integrated aperture and annular templates, a power-law, and a second-degree polynomial, avoiding high-degree polynomials that distort spectral features. Our correction works across all medium and high-resolution NIRSpec gratings: F070LP, F100LP, F170LP, and F290LP. $_ Results:_$ ${ \\sc WICKED}$ can recover the true overall spectral shape up to a factor of 3.5 $\\times$ better compared to uncorrected spectra. It recovers the equivalent width of  absorption lines within 5 \\% of the true value \\textemdash $\\sim$ 3 $\\times$ better than uncorrected spectra and $\\sim2\\times$ better than other methods. ${\\sc WICKED}$ significantly improves kinematic measurements, recovering the line-of-sight velocity (LOSV) within 1 \\% of the true value \\textemdash more than $100\\times$ better than uncorrected spectra at S/N $\\sim$ 40 . The superior wiggle-removal capabilities of ${\\sc WICKED}$ also reduces the LOSV uncertainties by $\\sim$ 50 \\% compared to other methods. As a case study, we applied ${\\sc WICKED}$ to G235H/F170LP IFU data of the elliptical galaxy NGC 5128, finding good agreement with previous studies. In wiggle-affected regions, the uncorrected spectrum showed stellar LOSV and velocity dispersion differences compared to the ${\\sc WICKED}$ -cleaned spectrum, of $\\sim$ 17 $\\times$ and $\\sim$ 36 $\\times$ larger than the estimated uncertainties, respectively. $_ Conclusions:_$ ${Wiggles in NIRSpec IFU data can significantly distort the overall spectral shape, bias line measurements and kinematics to values larger than the expected uncertainties for uncorrected spectra. \\sc WICKED}$ is a robust, user-friendly solution for mitigating wiggles in NIRSpec data. Unlike other methods, it minimizes residual artifacts, enabling precise single-pixel studies, enhancing JWST’s potential for groundbreaking discoveries in galaxy kinematics and early universe studies.\n",
       "\n",
       "</div>\n",
       "\n",
       "<div id=\"div_fig1\">\n",
       "\n",
       "<img src=\"tmp_2503.09697/./Figures/SN_50_spectrum.png\" alt=\"Fig3.1\" width=\"16%\"/><img src=\"tmp_2503.09697/./Figures/SN_15_spectrum.png\" alt=\"Fig3.2\" width=\"16%\"/><img src=\"tmp_2503.09697/./Figures/SN_8_spectrum.png\" alt=\"Fig3.3\" width=\"16%\"/><img src=\"tmp_2503.09697/./Figures/FFT_50.png\" alt=\"Fig3.4\" width=\"16%\"/><img src=\"tmp_2503.09697/./Figures/FFT_15.png\" alt=\"Fig3.5\" width=\"16%\"/><img src=\"tmp_2503.09697/./Figures/FFT_8.png\" alt=\"Fig3.6\" width=\"16%\"/>\n",
       "\n",
       "**Figure 3. -** Comparison of the spectrum of the A-star J1757132 (top, black) and the degraded spectrum (top, red) with the added wiggle model (green) at _ S/N_ ratios of $50$, $15$ and $8$.\n",
       "_ Middle:_ the Fourier spectra of i) the degraded spectrum (solid, red), ii) the wiggle model (green), iii) the degraded spectrum without wiggles (black), and iv) the data corrected with {\\sc WICKED}(dashed, red).\n",
       "The horizontal lines mark the mean amplitude of the Fourier spectrum at frequencies dominated by wiggles and at larger frequencies. The Fourier ratio can effectively distinguish wiggles from noise down to a _ S/N_ ratio of $\\sim 8$. _ Bottom:_ comparison of the input wiggle model (green) versus the recovered wiggle spectrum for the data cleaned with {\\sc WICKED}. (*fig:FFT_test_SNR*)\n",
       "\n",
       "</div>\n",
       "<div id=\"div_fig2\">\n",
       "\n",
       "<img src=\"tmp_2503.09697/./Figures/FFT_Panel_2.png\" alt=\"Fig2\" width=\"100%\"/>\n",
       "\n",
       "**Figure 2. -** The Fast Fourier Transform is used in {\\sc WICKED} to flag spaxels in the data cube affected by wiggles. The built-in method {\\sc plot\\_wiggle\\_FFT} in WICKED allows for manual examination of the spectrum and its Fourier transform for a specific spaxel in the datacube.\n",
       "    Left panel shows the wiggle spectrum, created by subtracting the spectrum from the best-fit model. Right panel shows the Fourier transform of the wiggle spectrum. The solid fuchsia line represents the mean amplitude in the wiggle-dominated part of the spectrum (shaded red region). WICKED flags spaxels by comparing this value to the standard deviation (blue dashed line). If data from both NRS detectors are available, as in this case, WICKED determines which part of the spectrum shows the most prominent wiggles and bases the flagging on that part of the spectrum.\n",
       "     (*fig:FFT-example*)\n",
       "\n",
       "</div>\n",
       "<div id=\"div_fig3\">\n",
       "\n",
       "<img src=\"tmp_2503.09697/./Figures/MeanDiff_vs_SNR.png\" alt=\"Fig5\" width=\"100%\"/>\n",
       "\n",
       "**Figure 5. -** Comparison of the mean difference flux respect to the aperture spectrum of the A-star J175713. The black rectangles represent the minimum expected the flux difference at a given _ S/N_ ratio. The spectra corrected using {\\sc WICKED}(solid red) shows the smallest mean flux difference compared to the uncorrected spectrum (gray) and the spectrum clean using the method by [Perna, Arribas and Marshall (2023)]()(solid yellow) at all _ S/N_.   (*fig:MeanDiff_vs_SNR*)\n",
       "\n",
       "</div><div id=\"qrcode\"><img src=https://api.qrserver.com/v1/create-qr-code/?size=100x100&data=\"https://arxiv.org/abs/2503.09697\"></div>"
      ],
      "text/plain": [
       "<IPython.core.display.Markdown object>"
      ]
     },
     "metadata": {},
     "output_type": "display_data"
    },
    {
     "data": {
      "text/markdown": [
       "<div class=\"macros\" style=\"visibility:hidden;\">\n",
       "$\\newcommand{\\ensuremath}{}$\n",
       "$\\newcommand{\\xspace}{}$\n",
       "$\\newcommand{\\object}[1]{\\texttt{#1}}$\n",
       "$\\newcommand{\\farcs}{{.}''}$\n",
       "$\\newcommand{\\farcm}{{.}'}$\n",
       "$\\newcommand{\\arcsec}{''}$\n",
       "$\\newcommand{\\arcmin}{'}$\n",
       "$\\newcommand{\\ion}[2]{#1#2}$\n",
       "$\\newcommand{\\textsc}[1]{\\textrm{#1}}$\n",
       "$\\newcommand{\\hl}[1]{\\textrm{#1}}$\n",
       "$\\newcommand{\\footnote}[1]{}$\n",
       "$\\newcommand{\\vdag}{(v)^\\dagger}$\n",
       "$\\newcommand$\n",
       "$\\newcommand$</div>\n",
       "\n",
       "\n",
       "\n",
       "<div id=\"title\">\n",
       "\n",
       "# $\\large{Low 4.5$ \\mu$m  Dayside Emission Disfavors a Dark Bare-Rock scenario\\ for the Hot Super-Earth TOI-431 b}$\n",
       "\n",
       "</div>\n",
       "<div id=\"comments\">\n",
       "\n",
       "[![arXiv](https://img.shields.io/badge/arXiv-2503.09698-b31b1b.svg)](https://arxiv.org/abs/2503.09698)<mark>Appeared on: 2025-03-14</mark> -  _14 pages, 5 figures, accepted for publication in The Astronomical Journal_\n",
       "\n",
       "</div>\n",
       "<div id=\"authors\">\n",
       "\n",
       "C. Monaghan, et al. -- incl., <mark>I. J. M. Crossfield</mark>, <mark>L. Kreidberg</mark>\n",
       "\n",
       "</div>\n",
       "<div id=\"abstract\">\n",
       "\n",
       "**Abstract:** The full range of conditions under which rocky planets can host atmospheres remains poorly understood, especially in the regime of close-in orbits around late-type stars. One way to assess the presence of atmospheres on rocky exoplanets is to measure their dayside emission as they are eclipsed by their host stars. Here, we present Spitzer observations of the 4.5 µm secondary eclipses of the rocky super-Earth TOI-431 b, whose mass and radius indicate an Earth-like bulk composition (3.07 $\\pm 0.35$ M $_{\\oplus}$ , 1.28 $\\pm 0.04$ R $_{\\oplus}$ ). Exposed to more than 2000 times the irradiation of Earth, dayside temperatures of up to 2400 K are expected if the planet is a dark bare-rock without a significant atmosphere. Intriguingly, despite the strong stellar insolation, we measure a secondary eclipse depth of only 33 $\\pm$ 22 ppm, which corresponds to a dayside brightness temperature of $1520_{-390}^{+360}$ K. This notably low eclipse depth disagrees with the dark bare-rock scenario at the 2.5 $\\sigma$ level, and suggests either that the planet is surrounded by an atmosphere, or that it is a bare-rock with a highly reflective surface. In the atmosphere scenario, the low dayside emission implies the efficient redistribution of heat to the nightside, or by molecular absorption in the 4--5 $\\mu$ m bandpass. In the bare-rock scenario, a surface composition made of a high-albedo mineral species such as ultramafic rock can lead to reduced thermal emission consistent with low eclipse depth measurement. Follow-up spectroscopic observations with the James Webb Space Telescope hold the key to constraining the nature of the planet.\n",
       "\n",
       "</div>\n",
       "\n",
       "<div id=\"div_fig1\">\n",
       "\n",
       "<img src=\"tmp_2503.09698/./scarlet_models_andopacity.png\" alt=\"Fig5\" width=\"100%\"/>\n",
       "\n",
       "**Figure 5. -** Eclipse depth of TOI-431 b at 4.5 µm compared to a suite of theoretical emission spectra produced by SCARLET. The coloured lines represent the five atmospheric models simulated by SCARLET using a non-gray temperature profile and a well-mixed composition. The dashed gray lines show the blackbody eclipse spectra corresponding to different combinations of $f$ and A$_{B}$ at uniform dayside temperatures. The black dot represents the measured eclipse depth, with the associated $\\pm1\\sigma$ error bars. Coloured circles represent the models integrated over the IRAC2 bandpass between 4.05 and 4.95  µm. The exact compositions of the atmospheric models are shown in Table \\ref{tab:models}. Normalized opacity bands from dominating molecules in the models (CO, CO$_{2}$, and SiO) are shown in the bottom panel. (*fig:atmospheremodels*)\n",
       "\n",
       "</div>\n",
       "<div id=\"div_fig2\">\n",
       "\n",
       "<img src=\"tmp_2503.09698/./sigmagrid.png\" alt=\"Fig3\" width=\"100%\"/>\n",
       "\n",
       "**Figure 3. -** Joint posterior distribution of the Bond albedo A$_{B}$(vertical axis) and heat redistribution factor $f$(horizontal axis) assuming TOI-431 b radiates as blackbody at its 4.5 µm brightness temperature of $1520$K. The 2D posterior is shown using colored shading, where darker regions indicate lower probabilities. The 1$\\sigma$ and 2$\\sigma$ regions are indicated by the black contour lines. The approximate values for the Moon and Mercury are shown in yellow and magenta at the bottom right, respectively. (*fig:blackbodyAbF*)\n",
       "\n",
       "</div>\n",
       "<div id=\"div_fig3\">\n",
       "\n",
       "<img src=\"tmp_2503.09698/./eclipsecomparison.png\" alt=\"Fig1\" width=\"100%\"/>\n",
       "\n",
       "**Figure 1. -** Measured eclipse depths for all seven visits using three different systematic models, including the associated error bars of each. The rightmost points show the weighted average across all visits for the individual systematics. (*fig:systematicscomparison*)\n",
       "\n",
       "</div><div id=\"qrcode\"><img src=https://api.qrserver.com/v1/create-qr-code/?size=100x100&data=\"https://arxiv.org/abs/2503.09698\"></div>"
      ],
      "text/plain": [
       "<IPython.core.display.Markdown object>"
      ]
     },
     "metadata": {},
     "output_type": "display_data"
    },
    {
     "data": {
      "text/markdown": [
       "<div class=\"macros\" style=\"visibility:hidden;\">\n",
       "$\\newcommand{\\ensuremath}{}$\n",
       "$\\newcommand{\\xspace}{}$\n",
       "$\\newcommand{\\object}[1]{\\texttt{#1}}$\n",
       "$\\newcommand{\\farcs}{{.}''}$\n",
       "$\\newcommand{\\farcm}{{.}'}$\n",
       "$\\newcommand{\\arcsec}{''}$\n",
       "$\\newcommand{\\arcmin}{'}$\n",
       "$\\newcommand{\\ion}[2]{#1#2}$\n",
       "$\\newcommand{\\textsc}[1]{\\textrm{#1}}$\n",
       "$\\newcommand{\\hl}[1]{\\textrm{#1}}$\n",
       "$\\newcommand{\\footnote}[1]{}$\n",
       "$\\newcommand{\\myslash}{\\operatorname{/}}$\n",
       "$\\newcommand{\\myleftbracket}{\\left[}$\n",
       "$\\newcommand{\\myrightbracket}{\\right]}$\n",
       "$\\newcommand{\\highlight}[1]{\\textcolor{black}{\\textnormal{{#1}}}}$\n",
       "$\\newcommand{\\vdag}{(v)^\\dagger}$\n",
       "$\\newcommand$\n",
       "$\\newcommand$\n",
       "$\\newcommand{\\teff}{\\mbox{T_{\\text{eff}}}}$\n",
       "$\\newcommand{\\msun}{\\mbox{M_{\\odot}}}$\n",
       "$\\newcommand{\\logg}{\\mbox{\\log g}}$\n",
       "$\\newcommand{\\feh}{\\mbox{[Fe/H]}}$\n",
       "$\\newcommand{\\vsini}{\\mbox{v \\text{sin} i}}$\n",
       "$\\newcommand{\\logrhk}{\\mbox{\\log R^{\\prime}_{\\text{HK}}}}$\n",
       "$\\newcommand{\\alpham}{\\mbox{[\\rm \\alpha/M]}}$\n",
       "$\\newcommand{\\yar}{\\mbox{young \\alpha--rich}}$\n",
       "$\\newcommand{\\yap}{\\mbox{young \\alpha--poor}}$\n",
       "$\\newcommand{\\oar}{\\mbox{old \\alpha--rich}}$\n",
       "$\\newcommand{\\halpha}{\\mbox{H_{\\alpha}}}$\n",
       "$\\newcommand{\\primerhk}{\\mbox{R^{\\prime}_{\\textrm{HK}}}}$\n",
       "$\\newcommand{\\rhk}{\\mbox{R_{\\textrm{HK}}}}$\n",
       "$\\newcommand{\\rhkphot}{\\mbox{R_{\\textrm{HK,phot}}}}$\n",
       "$\\newcommand{\\dwirt}{\\mbox{\\Delta W_{\\textrm{IRT}}}}$\n",
       "$\\newcommand{\\dsindex}{\\mbox{\\Delta S_{\\textrm{HK}}}}$\n",
       "$\\newcommand{\\dfeh}{\\mbox{\\Delta[\\textrm{Fe/H]}}}$\n",
       "$\\newcommand{\\sigmafeh}{\\mbox{\\sigma_{[\\textrm{Fe/H]}}}}$\n",
       "$\\newcommand{\\sindex}{\\mbox{S_{\\textrm{HK}}}}$\n",
       "$\\newcommand{\\dxh}{\\mbox{\\Delta[\\textit{X}/\\textrm{H}]}}$\n",
       "$\\newcommand{\\dxo}{\\mbox{\\Delta[\\textit{X}/\\textrm{O}]}}$\n",
       "$\\newcommand{\\dxhdtcont}{\\frac{\\partial \\Delta \\myleftbracket X \\myslash \\rm{H} \\myrightbracket}{\\partial T_{\\rm{cond}}}}$\n",
       "$\\newcommand{\\dxhdwirt}{\\frac{\\partial \\Delta \\myleftbracket X \\myslash \\rm{H} \\myrightbracket}{\\partial \\Delta W_{\\textrm{IRT}}}}$\n",
       "$\\newcommand$\n",
       "$\\newcommand{\\thebibliography}{\\DeclareRobustCommand{\\VAN}[3]{##3}\\VANthebibliography}$</div>\n",
       "\n",
       "\n",
       "\n",
       "<div id=\"title\">\n",
       "\n",
       "# $\\centering{C3PO IV: co-natal stars depleted in refractories are magnetically more active--- possible imprints of planets}$\n",
       "\n",
       "</div>\n",
       "<div id=\"comments\">\n",
       "\n",
       "[![arXiv](https://img.shields.io/badge/arXiv-2503.10339-b31b1b.svg)](https://arxiv.org/abs/2503.10339)<mark>Appeared on: 2025-03-14</mark> -  _13 pages, 12 figures. Accepted for publication in MNRAS_\n",
       "\n",
       "</div>\n",
       "<div id=\"authors\">\n",
       "\n",
       "J. Yu, et al. -- incl., <mark>J. Liu</mark>\n",
       "\n",
       "</div>\n",
       "<div id=\"abstract\">\n",
       "\n",
       "**Abstract:** Chemical abundance anomalies in twin stars have recently been considered tell-tale signs of interactions between stars and planets. While such signals are prevalent, their nature remains a subject of debate. On one hand, exoplanet formation may induce chemical depletion in host stars by locking up refractory elements. On the other hand, exoplanet engulfment can result in chemical enrichment, both processes potentially producing similar differential signals. In this study, we aim to observationally disentangle these processes by using the Ca II infrared triplet to measure the magnetic activity of 125 co-moving star pairs with high SNR, high-resolution spectra from the Magellan, Keck, and VLT telescopes. We find that co-natal star pairs in which the two stars exhibit significant chemical abundance differences also show differences in their magnetic activity, with stars depleted in refractories being magnetically more active. Furthermore, the strength of this correlation between differential chemical abundances and differential magnetic activity increases with condensation temperature. One possible explanation is that the chemical anomaly signature may be linked to planet formation, wherein refractory elements are locked into planets, and the host stars become more active due to more efficient contraction during the pre-main-sequence phase or star–planet tidal and magnetic interactions.\n",
       "\n",
       "</div>\n",
       "\n",
       "<div id=\"div_fig1\">\n",
       "\n",
       "<img src=\"tmp_2503.10339/./Activity-EWdiffMean-ChemDiff-delta-xh-C-twoGroup.png\" alt=\"Fig5.1\" width=\"25%\"/><img src=\"tmp_2503.10339/./Activity-EWdiffMean-ChemDiff-delta-xh-Na-twoGroup.png\" alt=\"Fig5.2\" width=\"25%\"/><img src=\"tmp_2503.10339/./Activity-EWdiffMean-ChemDiff-delta-xh-Fe2-twoGroup.png\" alt=\"Fig5.3\" width=\"25%\"/><img src=\"tmp_2503.10339/./Activity-EWdiffMean-ChemDiff-delta-xh-Sc2-twoGroup.png\" alt=\"Fig5.4\" width=\"25%\"/>\n",
       "\n",
       "**Figure 5. -** \\bc{Relationships between the differential activity index, $\\dwirt$, and the elemental abundance difference, $\\Delta$[X/H], for Carbon (**a**), Sodium (**b**), Iron II (**c**), and Scandium II (**d**). The condensation temperatures of these elements increase from 40 K for C to 958 K for Na, 1334 K for Fe II, and 1659 K for Sc II, as noted in each panel. Red circles indicate star pairs with chemical anomalies, while grey circles represent those without. The red dashed line shows the best linear fit to the $\\dwirt$–$\\Delta$[X/H] relation for the chemical anomalies sample, whereas the black dashed line represents the fit for the chemical homogeneous sample. Shaded regions indicate 1$\\sigma$, 2$\\sigma$, and 3$\\sigma$ uncertainties, with blue for the chemical anomalies sample and grey for the homogeneous sample (see legend in panel a). The slope of the red dashed line and its 1$\\sigma$ uncertainty are indicated in each panel. } (*fig:ActivityAbundance*)\n",
       "\n",
       "</div>\n",
       "<div id=\"div_fig2\">\n",
       "\n",
       "<img src=\"tmp_2503.10339/./Activity-EWdiffMean-ChemDiff-CondTeff.png\" alt=\"Fig9\" width=\"100%\"/>\n",
       "\n",
       "**Figure 9. -** Correlation between condensation temperature and the slope of the $\\dwirt$–$\\dxh$ relation (i.e., $\\dxh$dwirt, with 4 examples illustrated in Fig. \\ref{fig:ActivityAbundance}), where _X_ represents 21 individual elements annotated in the plot. Co-natal systems with chemical anomalies (i.e., $|\\dfeh| \\geq 3\\sigma_{\\dfeh}$) are represented by red circles, while those without chemical anomalies (i.e., $|\\dfeh| < 3\\sigma_{\\dfeh}$) are represented by black squares (see legend). The red and black solid lines represent the best linear fits for the chemically anomalous and homogeneous groups, respectively, considering only refractory elements with condensation temperatures greater than $900 \\mathrm{K}$. These lines are extrapolated to lower condensation temperatures ($<900 \\mathrm{K}$) and are shown as dashed lines in this range. The blue and grey shaded regions represent the 1--$\\sigma$ uncertainties of the fits.  The slope of the red dashed line is $\\left(-1.89\\pm0.13\\right) \\times 10^{-5}$, while the slope of the black dashed line is $\\left(2.54\\pm1.19\\right) \\times 10^{-6}$. Including volatile elements in the fitting slightly alters the slopes and  intercepts. (*fig:CondenTeff*)\n",
       "\n",
       "</div>\n",
       "<div id=\"div_fig3\">\n",
       "\n",
       "<img src=\"tmp_2503.10339/./ChemicalPatternsSlopeEWdiff.png\" alt=\"Fig4\" width=\"100%\"/>\n",
       "\n",
       "**Figure 4. -** Differential activity index ($\\dwirt$) as a function of the slope of the condensation temperature versus elemental abundance difference relation ($\\dxh$dtcont) for 21 co-natal systems exhibiting chemical anomalies (i.e., $|\\dfeh| \\geq 3\\sigma_{\\dfeh}$). The red dashed line represents the best fit obtained through weighted linear regression, minimizing the weighted sum of squared residuals between observed data and the fitted line, with weights as the inverse square of the uncertainty in $\\dxh$dtcont as determined from the linear fit. The shaded purple regions indicate the 1-, 2-, and 3-$\\sigma$ uncertainties around the best fit, with the slope value annotated. Green arrows highlight four pairs suggested by liu2024 as potential exoplanet engulfment instances, with corresponding pair IDs. (*fig:chemistrytcondactivity*)\n",
       "\n",
       "</div><div id=\"qrcode\"><img src=https://api.qrserver.com/v1/create-qr-code/?size=100x100&data=\"https://arxiv.org/abs/2503.10339\"></div>"
      ],
      "text/plain": [
       "<IPython.core.display.Markdown object>"
      ]
     },
     "metadata": {},
     "output_type": "display_data"
    }
   ],
   "source": [
    "[display(Markdown(k[1])) for k in documents];"
   ]
  },
  {
   "cell_type": "markdown",
   "id": "873873a4",
   "metadata": {
    "papermill": {
     "duration": 0.005397,
     "end_time": "2025-03-14T04:11:54.847185",
     "exception": false,
     "start_time": "2025-03-14T04:11:54.841788",
     "status": "completed"
    },
    "tags": []
   },
   "source": [
    "# Create HTML index"
   ]
  },
  {
   "cell_type": "code",
   "execution_count": 10,
   "id": "cf665672",
   "metadata": {
    "execution": {
     "iopub.execute_input": "2025-03-14T04:11:54.859781Z",
     "iopub.status.busy": "2025-03-14T04:11:54.859297Z",
     "iopub.status.idle": "2025-03-14T04:11:54.868726Z",
     "shell.execute_reply": "2025-03-14T04:11:54.868159Z"
    },
    "papermill": {
     "duration": 0.016602,
     "end_time": "2025-03-14T04:11:54.869725",
     "exception": false,
     "start_time": "2025-03-14T04:11:54.853123",
     "status": "completed"
    },
    "tags": []
   },
   "outputs": [
    {
     "name": "stdout",
     "output_type": "stream",
     "text": [
      "364  publications files modified in the last 7 days.\n"
     ]
    }
   ],
   "source": [
    "from datetime import datetime, timedelta, timezone\n",
    "from glob import glob\n",
    "import os\n",
    "\n",
    "files = glob('_build/html/*.md')\n",
    "days = 7\n",
    "now = datetime.today()\n",
    "res = []\n",
    "for fk in files:\n",
    "    stat_result = os.stat(fk).st_ctime\n",
    "    modified = datetime.fromtimestamp(stat_result, tz=timezone.utc).replace(tzinfo=None)\n",
    "    delta = now.today() - modified\n",
    "    if delta <= timedelta(days=days):\n",
    "        res.append((delta.seconds, fk))\n",
    "res = [k[1] for k in reversed(sorted(res, key=lambda x:x[1]))]\n",
    "npub = len(res)\n",
    "print(len(res), f\" publications files modified in the last {days:d} days.\")\n",
    "# [ print('\\t', k) for k in res ];"
   ]
  },
  {
   "cell_type": "code",
   "execution_count": 11,
   "id": "015de740",
   "metadata": {
    "execution": {
     "iopub.execute_input": "2025-03-14T04:11:54.882118Z",
     "iopub.status.busy": "2025-03-14T04:11:54.881521Z",
     "iopub.status.idle": "2025-03-14T04:11:54.901760Z",
     "shell.execute_reply": "2025-03-14T04:11:54.901081Z"
    },
    "papermill": {
     "duration": 0.027419,
     "end_time": "2025-03-14T04:11:54.902788",
     "exception": false,
     "start_time": "2025-03-14T04:11:54.875369",
     "status": "completed"
    },
    "tags": []
   },
   "outputs": [
    {
     "name": "stdout",
     "output_type": "stream",
     "text": [
      "13  publications in the last 7 days.\n"
     ]
    }
   ],
   "source": [
    "import datetime\n",
    "from glob import glob\n",
    "\n",
    "def get_last_n_days(lst, days=1):\n",
    "    \"\"\" Get the documents from the last n days \"\"\"\n",
    "    sorted_lst = sorted(lst, key=lambda x: x[1], reverse=True)\n",
    "    for fname, date in sorted_lst:\n",
    "        if date >= str(datetime.date.today() - datetime.timedelta(days=days)):\n",
    "            yield fname\n",
    "\n",
    "def extract_appearance_dates(lst_file):\n",
    "    dates = []\n",
    "\n",
    "    def get_date(line):\n",
    "        return line\\\n",
    "            .split('Appeared on:')[-1]\\\n",
    "            .split('</mark>')[0].strip()\n",
    "\n",
    "    for fname in lst:\n",
    "        with open(fname, 'r') as f:\n",
    "            found_date = False\n",
    "            for line in f:\n",
    "                if not found_date:\n",
    "                    if \"Appeared on\" in line:\n",
    "                        found_date = True\n",
    "                        dates.append((fname, get_date(line)))\n",
    "                else:\n",
    "                    break\n",
    "    return dates\n",
    "\n",
    "from glob import glob\n",
    "lst = glob('_build/html/*md')\n",
    "days = 7\n",
    "dates = extract_appearance_dates(lst)\n",
    "res = list(get_last_n_days(dates, days))\n",
    "npub = len(res)\n",
    "print(len(res), f\" publications in the last {days:d} days.\")"
   ]
  },
  {
   "cell_type": "code",
   "execution_count": 12,
   "id": "52ca0208",
   "metadata": {
    "execution": {
     "iopub.execute_input": "2025-03-14T04:11:54.915454Z",
     "iopub.status.busy": "2025-03-14T04:11:54.914983Z",
     "iopub.status.idle": "2025-03-14T04:11:54.920068Z",
     "shell.execute_reply": "2025-03-14T04:11:54.919399Z"
    },
    "papermill": {
     "duration": 0.012496,
     "end_time": "2025-03-14T04:11:54.921055",
     "exception": false,
     "start_time": "2025-03-14T04:11:54.908559",
     "status": "completed"
    },
    "scrolled": false,
    "tags": []
   },
   "outputs": [],
   "source": [
    "def create_carousel(npub=4):\n",
    "    \"\"\" Generate the HTML code for a carousel with `npub` slides \"\"\"\n",
    "    carousel = [\"\"\"  <div class=\"carousel\" \"\"\",\n",
    "                \"\"\"       data-flickity='{ \"autoPlay\": 10000, \"adaptiveHeight\": true, \"resize\": true, \"wrapAround\": true, \"pauseAutoPlayOnHover\": true, \"groupCells\": 1 }' id=\"asyncTypeset\">\"\"\"\n",
    "                ]\n",
    "    \n",
    "    item_str = \"\"\"    <div class=\"carousel-cell\"> <div id=\"slide{k}\" class=\"md_view\">Content {k}</div> </div>\"\"\"\n",
    "    for k in range(1, npub + 1):\n",
    "        carousel.append(item_str.format(k=k))\n",
    "    carousel.append(\"  </div>\")\n",
    "    return '\\n'.join(carousel)\n",
    "\n",
    "def create_grid(npub=4):\n",
    "    \"\"\" Generate the HTML code for a flat grid with `npub` slides \"\"\"\n",
    "    grid = [\"\"\"  <div class=\"grid\"> \"\"\",\n",
    "                ]\n",
    "    \n",
    "    item_str = \"\"\"    <div class=\"grid-item\"> <div id=\"slide{k}\" class=\"md_view\">Content {k}</div> </div>\"\"\"\n",
    "    for k in range(1, npub + 1):\n",
    "        grid.append(item_str.format(k=k))\n",
    "    grid.append(\"  </div>\")\n",
    "    return '\\n'.join(grid)"
   ]
  },
  {
   "cell_type": "code",
   "execution_count": 13,
   "id": "a6eac5b6",
   "metadata": {
    "execution": {
     "iopub.execute_input": "2025-03-14T04:11:54.933817Z",
     "iopub.status.busy": "2025-03-14T04:11:54.933323Z",
     "iopub.status.idle": "2025-03-14T04:11:54.938417Z",
     "shell.execute_reply": "2025-03-14T04:11:54.937862Z"
    },
    "papermill": {
     "duration": 0.012361,
     "end_time": "2025-03-14T04:11:54.939325",
     "exception": false,
     "start_time": "2025-03-14T04:11:54.926964",
     "status": "completed"
    },
    "scrolled": false,
    "tags": []
   },
   "outputs": [],
   "source": [
    "carousel = create_carousel(npub)\n",
    "docs = ', '.join(['\"{0:s}\"'.format(k.split('/')[-1]) for k in res])\n",
    "slides = ', '.join([f'\"slide{k}\"' for k in range(1, npub + 1)])\n",
    "\n",
    "with open(\"daily_template.html\", \"r\") as tpl:\n",
    "    page = tpl.read()\n",
    "    page = page.replace(\"{%-- carousel:s --%}\", carousel)\\\n",
    "               .replace(\"{%-- suptitle:s --%}\",  \"7-day archives\" )\\\n",
    "               .replace(\"{%-- docs:s --%}\", docs)\\\n",
    "               .replace(\"{%-- slides:s --%}\", slides)\n",
    "    \n",
    "with open(\"_build/html/index_7days.html\", 'w') as fout:\n",
    "    fout.write(page)"
   ]
  },
  {
   "cell_type": "code",
   "execution_count": 14,
   "id": "adc1a1ec",
   "metadata": {
    "execution": {
     "iopub.execute_input": "2025-03-14T04:11:54.952282Z",
     "iopub.status.busy": "2025-03-14T04:11:54.951618Z",
     "iopub.status.idle": "2025-03-14T04:11:54.958503Z",
     "shell.execute_reply": "2025-03-14T04:11:54.957978Z"
    },
    "papermill": {
     "duration": 0.014225,
     "end_time": "2025-03-14T04:11:54.959491",
     "exception": false,
     "start_time": "2025-03-14T04:11:54.945266",
     "status": "completed"
    },
    "tags": []
   },
   "outputs": [
    {
     "name": "stdout",
     "output_type": "stream",
     "text": [
      "3  publications in the last day.\n"
     ]
    }
   ],
   "source": [
    "# redo for today\n",
    "days = 1\n",
    "res = list(get_last_n_days(dates, days))\n",
    "npub = len(res)\n",
    "print(len(res), f\" publications in the last day.\")\n",
    "\n",
    "carousel = create_carousel(npub)\n",
    "docs = ', '.join(['\"{0:s}\"'.format(k.split('/')[-1]) for k in res])\n",
    "slides = ', '.join([f'\"slide{k}\"' for k in range(1, npub + 1)])\n",
    "\n",
    "with open(\"daily_template.html\", \"r\") as tpl:\n",
    "    page = tpl.read()\n",
    "    page = page.replace(\"{%-- carousel:s --%}\", carousel)\\\n",
    "               .replace(\"{%-- suptitle:s --%}\",  \"Daily\" )\\\n",
    "               .replace(\"{%-- docs:s --%}\", docs)\\\n",
    "               .replace(\"{%-- slides:s --%}\", slides)\n",
    "    \n",
    "# print(carousel, docs, slides)\n",
    "# print(page)\n",
    "with open(\"_build/html/index_daily.html\", 'w') as fout:\n",
    "    fout.write(page)"
   ]
  },
  {
   "cell_type": "code",
   "execution_count": 15,
   "id": "00eece82",
   "metadata": {
    "execution": {
     "iopub.execute_input": "2025-03-14T04:11:54.972293Z",
     "iopub.status.busy": "2025-03-14T04:11:54.971670Z",
     "iopub.status.idle": "2025-03-14T04:11:54.978346Z",
     "shell.execute_reply": "2025-03-14T04:11:54.977779Z"
    },
    "papermill": {
     "duration": 0.013965,
     "end_time": "2025-03-14T04:11:54.979288",
     "exception": false,
     "start_time": "2025-03-14T04:11:54.965323",
     "status": "completed"
    },
    "scrolled": false,
    "tags": []
   },
   "outputs": [
    {
     "name": "stdout",
     "output_type": "stream",
     "text": [
      "6  6 publications selected.\n"
     ]
    }
   ],
   "source": [
    "# Create the flat grid of the last N papers (fixed number regardless of dates)\n",
    "from itertools import islice \n",
    "\n",
    "npub = 6\n",
    "res = [k[0] for k in (islice(reversed(sorted(dates, key=lambda x: x[1])), 6))]\n",
    "print(len(res), f\" {npub} publications selected.\")\n",
    "\n",
    "grid = create_grid(npub)\n",
    "docs = ', '.join(['\"{0:s}\"'.format(k.split('/')[-1]) for k in res])\n",
    "slides = ', '.join([f'\"slide{k}\"' for k in range(1, npub + 1)])\n",
    "\n",
    "with open(\"grid_template.html\", \"r\") as tpl:\n",
    "    page = tpl.read()\n",
    "    page = page.replace(\"{%-- grid-content:s --%}\", grid)\\\n",
    "               .replace(\"{%-- suptitle:s --%}\",  f\"Last {npub:,d} papers\" )\\\n",
    "               .replace(\"{%-- docs:s --%}\", docs)\\\n",
    "               .replace(\"{%-- slides:s --%}\", slides)\n",
    "    \n",
    "# print(grid, docs, slides)\n",
    "# print(page)\n",
    "with open(\"_build/html/index_npub_grid.html\", 'w') as fout:\n",
    "    fout.write(page)"
   ]
  }
 ],
 "metadata": {
  "kernelspec": {
   "display_name": "Python 3 (ipykernel)",
   "language": "python",
   "name": "python3"
  },
  "language_info": {
   "codemirror_mode": {
    "name": "ipython",
    "version": 3
   },
   "file_extension": ".py",
   "mimetype": "text/x-python",
   "name": "python",
   "nbconvert_exporter": "python",
   "pygments_lexer": "ipython3",
   "version": "3.9.21"
  },
  "papermill": {
   "default_parameters": {},
   "duration": 61.858612,
   "end_time": "2025-03-14T04:11:55.202034",
   "environment_variables": {},
   "exception": null,
   "input_path": "MPIA daily digest.ipynb",
   "output_path": "log.ipynb",
   "parameters": {},
   "start_time": "2025-03-14T04:10:53.343422",
   "version": "2.6.0"
  },
  "vscode": {
   "interpreter": {
    "hash": "aee8b7b246df8f9039afb4144a1f6fd8d2ca17a180786b69acc140d282b71a49"
   }
  },
  "widgets": {
   "application/vnd.jupyter.widget-state+json": {
    "state": {
     "02cc910472124b5498180c96c8407aa0": {
      "model_module": "@jupyter-widgets/controls",
      "model_module_version": "2.0.0",
      "model_name": "FloatProgressModel",
      "state": {
       "_dom_classes": [],
       "_model_module": "@jupyter-widgets/controls",
       "_model_module_version": "2.0.0",
       "_model_name": "FloatProgressModel",
       "_view_count": null,
       "_view_module": "@jupyter-widgets/controls",
       "_view_module_version": "2.0.0",
       "_view_name": "ProgressView",
       "bar_style": "success",
       "description": "",
       "description_allow_html": false,
       "layout": "IPY_MODEL_d49233beb66e46b3bc2f04c309c4c2a8",
       "max": 8.0,
       "min": 0.0,
       "orientation": "horizontal",
       "style": "IPY_MODEL_7a6f735f0c7c4670b5ad84db46f3d98f",
       "tabbable": null,
       "tooltip": null,
       "value": 8.0
      }
     },
     "159cbd6fcfa84631aebe2bfc7422f120": {
      "model_module": "@jupyter-widgets/controls",
      "model_module_version": "2.0.0",
      "model_name": "HTMLStyleModel",
      "state": {
       "_model_module": "@jupyter-widgets/controls",
       "_model_module_version": "2.0.0",
       "_model_name": "HTMLStyleModel",
       "_view_count": null,
       "_view_module": "@jupyter-widgets/base",
       "_view_module_version": "2.0.0",
       "_view_name": "StyleView",
       "background": null,
       "description_width": "",
       "font_size": null,
       "text_color": null
      }
     },
     "2b8d52b8732349ecb603b0577b20432d": {
      "model_module": "@jupyter-widgets/base",
      "model_module_version": "2.0.0",
      "model_name": "LayoutModel",
      "state": {
       "_model_module": "@jupyter-widgets/base",
       "_model_module_version": "2.0.0",
       "_model_name": "LayoutModel",
       "_view_count": null,
       "_view_module": "@jupyter-widgets/base",
       "_view_module_version": "2.0.0",
       "_view_name": "LayoutView",
       "align_content": null,
       "align_items": null,
       "align_self": null,
       "border_bottom": null,
       "border_left": null,
       "border_right": null,
       "border_top": null,
       "bottom": null,
       "display": null,
       "flex": null,
       "flex_flow": null,
       "grid_area": null,
       "grid_auto_columns": null,
       "grid_auto_flow": null,
       "grid_auto_rows": null,
       "grid_column": null,
       "grid_gap": null,
       "grid_row": null,
       "grid_template_areas": null,
       "grid_template_columns": null,
       "grid_template_rows": null,
       "height": null,
       "justify_content": null,
       "justify_items": null,
       "left": null,
       "margin": null,
       "max_height": null,
       "max_width": null,
       "min_height": null,
       "min_width": null,
       "object_fit": null,
       "object_position": null,
       "order": null,
       "overflow": null,
       "padding": null,
       "right": null,
       "top": null,
       "visibility": null,
       "width": null
      }
     },
     "5009cfedd2f94d8685a8f37f44343836": {
      "model_module": "@jupyter-widgets/base",
      "model_module_version": "2.0.0",
      "model_name": "LayoutModel",
      "state": {
       "_model_module": "@jupyter-widgets/base",
       "_model_module_version": "2.0.0",
       "_model_name": "LayoutModel",
       "_view_count": null,
       "_view_module": "@jupyter-widgets/base",
       "_view_module_version": "2.0.0",
       "_view_name": "LayoutView",
       "align_content": null,
       "align_items": null,
       "align_self": null,
       "border_bottom": null,
       "border_left": null,
       "border_right": null,
       "border_top": null,
       "bottom": null,
       "display": null,
       "flex": null,
       "flex_flow": null,
       "grid_area": null,
       "grid_auto_columns": null,
       "grid_auto_flow": null,
       "grid_auto_rows": null,
       "grid_column": null,
       "grid_gap": null,
       "grid_row": null,
       "grid_template_areas": null,
       "grid_template_columns": null,
       "grid_template_rows": null,
       "height": null,
       "justify_content": null,
       "justify_items": null,
       "left": null,
       "margin": null,
       "max_height": null,
       "max_width": null,
       "min_height": null,
       "min_width": null,
       "object_fit": null,
       "object_position": null,
       "order": null,
       "overflow": null,
       "padding": null,
       "right": null,
       "top": null,
       "visibility": null,
       "width": null
      }
     },
     "7a6f735f0c7c4670b5ad84db46f3d98f": {
      "model_module": "@jupyter-widgets/controls",
      "model_module_version": "2.0.0",
      "model_name": "ProgressStyleModel",
      "state": {
       "_model_module": "@jupyter-widgets/controls",
       "_model_module_version": "2.0.0",
       "_model_name": "ProgressStyleModel",
       "_view_count": null,
       "_view_module": "@jupyter-widgets/base",
       "_view_module_version": "2.0.0",
       "_view_name": "StyleView",
       "bar_color": null,
       "description_width": ""
      }
     },
     "8073db48058b46e89d92094c8dde2d82": {
      "model_module": "@jupyter-widgets/controls",
      "model_module_version": "2.0.0",
      "model_name": "HTMLStyleModel",
      "state": {
       "_model_module": "@jupyter-widgets/controls",
       "_model_module_version": "2.0.0",
       "_model_name": "HTMLStyleModel",
       "_view_count": null,
       "_view_module": "@jupyter-widgets/base",
       "_view_module_version": "2.0.0",
       "_view_name": "StyleView",
       "background": null,
       "description_width": "",
       "font_size": null,
       "text_color": null
      }
     },
     "826e60c4eaa140e7931d315b918abf8a": {
      "model_module": "@jupyter-widgets/controls",
      "model_module_version": "2.0.0",
      "model_name": "HBoxModel",
      "state": {
       "_dom_classes": [],
       "_model_module": "@jupyter-widgets/controls",
       "_model_module_version": "2.0.0",
       "_model_name": "HBoxModel",
       "_view_count": null,
       "_view_module": "@jupyter-widgets/controls",
       "_view_module_version": "2.0.0",
       "_view_name": "HBoxView",
       "box_style": "",
       "children": [
        "IPY_MODEL_a4a6ce10e3c144b8bdf569f83f249cb7",
        "IPY_MODEL_02cc910472124b5498180c96c8407aa0",
        "IPY_MODEL_b215b1d0ae70456c811ff9fb8269fd64"
       ],
       "layout": "IPY_MODEL_5009cfedd2f94d8685a8f37f44343836",
       "tabbable": null,
       "tooltip": null
      }
     },
     "a154e073a4ce495a87b481335ce1c31c": {
      "model_module": "@jupyter-widgets/base",
      "model_module_version": "2.0.0",
      "model_name": "LayoutModel",
      "state": {
       "_model_module": "@jupyter-widgets/base",
       "_model_module_version": "2.0.0",
       "_model_name": "LayoutModel",
       "_view_count": null,
       "_view_module": "@jupyter-widgets/base",
       "_view_module_version": "2.0.0",
       "_view_name": "LayoutView",
       "align_content": null,
       "align_items": null,
       "align_self": null,
       "border_bottom": null,
       "border_left": null,
       "border_right": null,
       "border_top": null,
       "bottom": null,
       "display": null,
       "flex": null,
       "flex_flow": null,
       "grid_area": null,
       "grid_auto_columns": null,
       "grid_auto_flow": null,
       "grid_auto_rows": null,
       "grid_column": null,
       "grid_gap": null,
       "grid_row": null,
       "grid_template_areas": null,
       "grid_template_columns": null,
       "grid_template_rows": null,
       "height": null,
       "justify_content": null,
       "justify_items": null,
       "left": null,
       "margin": null,
       "max_height": null,
       "max_width": null,
       "min_height": null,
       "min_width": null,
       "object_fit": null,
       "object_position": null,
       "order": null,
       "overflow": null,
       "padding": null,
       "right": null,
       "top": null,
       "visibility": null,
       "width": null
      }
     },
     "a4a6ce10e3c144b8bdf569f83f249cb7": {
      "model_module": "@jupyter-widgets/controls",
      "model_module_version": "2.0.0",
      "model_name": "HTMLModel",
      "state": {
       "_dom_classes": [],
       "_model_module": "@jupyter-widgets/controls",
       "_model_module_version": "2.0.0",
       "_model_name": "HTMLModel",
       "_view_count": null,
       "_view_module": "@jupyter-widgets/controls",
       "_view_module_version": "2.0.0",
       "_view_name": "HTMLView",
       "description": "",
       "description_allow_html": false,
       "layout": "IPY_MODEL_a154e073a4ce495a87b481335ce1c31c",
       "placeholder": "​",
       "style": "IPY_MODEL_8073db48058b46e89d92094c8dde2d82",
       "tabbable": null,
       "tooltip": null,
       "value": "100%"
      }
     },
     "b215b1d0ae70456c811ff9fb8269fd64": {
      "model_module": "@jupyter-widgets/controls",
      "model_module_version": "2.0.0",
      "model_name": "HTMLModel",
      "state": {
       "_dom_classes": [],
       "_model_module": "@jupyter-widgets/controls",
       "_model_module_version": "2.0.0",
       "_model_name": "HTMLModel",
       "_view_count": null,
       "_view_module": "@jupyter-widgets/controls",
       "_view_module_version": "2.0.0",
       "_view_name": "HTMLView",
       "description": "",
       "description_allow_html": false,
       "layout": "IPY_MODEL_2b8d52b8732349ecb603b0577b20432d",
       "placeholder": "​",
       "style": "IPY_MODEL_159cbd6fcfa84631aebe2bfc7422f120",
       "tabbable": null,
       "tooltip": null,
       "value": " 8/8 [00:40&lt;00:00,  1.87s/it]"
      }
     },
     "d49233beb66e46b3bc2f04c309c4c2a8": {
      "model_module": "@jupyter-widgets/base",
      "model_module_version": "2.0.0",
      "model_name": "LayoutModel",
      "state": {
       "_model_module": "@jupyter-widgets/base",
       "_model_module_version": "2.0.0",
       "_model_name": "LayoutModel",
       "_view_count": null,
       "_view_module": "@jupyter-widgets/base",
       "_view_module_version": "2.0.0",
       "_view_name": "LayoutView",
       "align_content": null,
       "align_items": null,
       "align_self": null,
       "border_bottom": null,
       "border_left": null,
       "border_right": null,
       "border_top": null,
       "bottom": null,
       "display": null,
       "flex": null,
       "flex_flow": null,
       "grid_area": null,
       "grid_auto_columns": null,
       "grid_auto_flow": null,
       "grid_auto_rows": null,
       "grid_column": null,
       "grid_gap": null,
       "grid_row": null,
       "grid_template_areas": null,
       "grid_template_columns": null,
       "grid_template_rows": null,
       "height": null,
       "justify_content": null,
       "justify_items": null,
       "left": null,
       "margin": null,
       "max_height": null,
       "max_width": null,
       "min_height": null,
       "min_width": null,
       "object_fit": null,
       "object_position": null,
       "order": null,
       "overflow": null,
       "padding": null,
       "right": null,
       "top": null,
       "visibility": null,
       "width": null
      }
     }
    },
    "version_major": 2,
    "version_minor": 0
   }
  }
 },
 "nbformat": 4,
 "nbformat_minor": 5
}