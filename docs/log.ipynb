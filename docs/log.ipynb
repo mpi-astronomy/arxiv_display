{
 "cells": [
  {
   "cell_type": "markdown",
   "id": "92bcb855",
   "metadata": {
    "papermill": {
     "duration": 0.003936,
     "end_time": "2025-07-09T04:25:57.728597",
     "exception": false,
     "start_time": "2025-07-09T04:25:57.724661",
     "status": "completed"
    },
    "tags": []
   },
   "source": [
    "# MPIA Arxiv on Deck 2\n",
    "\n",
    "Contains the steps to produce the paper extractions."
   ]
  },
  {
   "cell_type": "code",
   "execution_count": 1,
   "id": "3a0d6e11",
   "metadata": {
    "execution": {
     "iopub.execute_input": "2025-07-09T04:25:57.736532Z",
     "iopub.status.busy": "2025-07-09T04:25:57.736007Z",
     "iopub.status.idle": "2025-07-09T04:25:57.972017Z",
     "shell.execute_reply": "2025-07-09T04:25:57.971381Z"
    },
    "papermill": {
     "duration": 0.241402,
     "end_time": "2025-07-09T04:25:57.973434",
     "exception": false,
     "start_time": "2025-07-09T04:25:57.732032",
     "status": "completed"
    },
    "tags": []
   },
   "outputs": [],
   "source": [
    "# Imports\n",
    "import os\n",
    "from IPython.display import Markdown, display\n",
    "from tqdm.notebook import tqdm\n",
    "import warnings\n",
    "from PIL import Image \n",
    "import re\n",
    "\n",
    "# requires arxiv_on_deck_2\n",
    "\n",
    "from arxiv_on_deck_2.arxiv2 import (get_new_papers, \n",
    "                                    get_paper_from_identifier,\n",
    "                                    retrieve_document_source, \n",
    "                                    get_markdown_badge)\n",
    "from arxiv_on_deck_2 import (latex,\n",
    "                             latex_bib,\n",
    "                             mpia,\n",
    "                             highlight_authors_in_list)\n",
    "\n",
    "# Sometimes images are really big\n",
    "Image.MAX_IMAGE_PIXELS = 1000000000 "
   ]
  },
  {
   "cell_type": "code",
   "execution_count": 2,
   "id": "22aa9d44",
   "metadata": {
    "execution": {
     "iopub.execute_input": "2025-07-09T04:25:57.980794Z",
     "iopub.status.busy": "2025-07-09T04:25:57.980378Z",
     "iopub.status.idle": "2025-07-09T04:25:57.988375Z",
     "shell.execute_reply": "2025-07-09T04:25:57.987837Z"
    },
    "papermill": {
     "duration": 0.01275,
     "end_time": "2025-07-09T04:25:57.989420",
     "exception": false,
     "start_time": "2025-07-09T04:25:57.976670",
     "status": "completed"
    },
    "tags": []
   },
   "outputs": [],
   "source": [
    "# Some useful definitions.\n",
    "\n",
    "class AffiliationWarning(UserWarning):\n",
    "    pass\n",
    "\n",
    "class AffiliationError(RuntimeError):\n",
    "    pass\n",
    "\n",
    "def validation(source: str):\n",
    "    \"\"\"Raises error paper during parsing of source file\n",
    "    \n",
    "    Allows checks before parsing TeX code.\n",
    "    \n",
    "    Raises AffiliationWarning\n",
    "    \"\"\"\n",
    "    check = mpia.affiliation_verifications(source, verbose=True)\n",
    "    if check is not True:\n",
    "        raise AffiliationError(\"mpia.affiliation_verifications: \" + check)\n",
    "\n",
    "        \n",
    "warnings.simplefilter('always', AffiliationWarning)\n",
    "\n",
    "\n",
    "def get_markdown_qrcode(paper_id: str):\n",
    "    \"\"\" Generate a qrcode to the arxiv page using qrserver.com\n",
    "    \n",
    "    :param paper: Arxiv paper\n",
    "    :returns: markdown text\n",
    "    \"\"\"\n",
    "    url = r\"https://api.qrserver.com/v1/create-qr-code/?size=100x100&data=\"\n",
    "    txt = f\"\"\"<img src={url}\"https://arxiv.org/abs/{paper_id}\">\"\"\"\n",
    "    txt = '<div id=\"qrcode\">' + txt + '</div>'\n",
    "    return txt\n",
    "\n",
    "\n",
    "def clean_non_western_encoded_characters_commands(text: str) -> str:\n",
    "    \"\"\" Remove non-western encoded characters from a string\n",
    "    List may need to grow.\n",
    "    \n",
    "    :param text: the text to clean\n",
    "    :return: the cleaned text\n",
    "    \"\"\"\n",
    "    text = re.sub(r\"(\\\\begin{CJK}{UTF8}{gbsn})(.*?)(\\\\end{CJK})\", r\"\\2\", text)\n",
    "    return text\n",
    "\n",
    "\n",
    "def get_initials(name: str) -> str:\n",
    "    \"\"\" Get the short name, e.g., A.-B. FamName\n",
    "    :param name: full name\n",
    "    :returns: initials\n",
    "    \"\"\"\n",
    "    initials = []\n",
    "    # account for non western names often in ()\n",
    "    if '(' in name:\n",
    "        name = clean_non_western_encoded_characters_commands(name)\n",
    "        suffix = re.findall(r\"\\((.*?)\\)\", name)[0]\n",
    "        name = name.replace(f\"({suffix})\", '')\n",
    "    else:\n",
    "        suffix = ''\n",
    "    split = name.split()\n",
    "    for token in split[:-1]:\n",
    "        if '-' in token:\n",
    "            current = '-'.join([k[0] + '.' for k in token.split('-')])\n",
    "        else:\n",
    "            current = token[0] + '.'\n",
    "        initials.append(current)\n",
    "    initials.append(split[-1].strip())\n",
    "    if suffix:\n",
    "        initials.append(f\"({suffix})\")\n",
    "    return ' '.join(initials)"
   ]
  },
  {
   "cell_type": "markdown",
   "id": "14bd6310",
   "metadata": {
    "papermill": {
     "duration": 0.002892,
     "end_time": "2025-07-09T04:25:57.995319",
     "exception": false,
     "start_time": "2025-07-09T04:25:57.992427",
     "status": "completed"
    },
    "tags": []
   },
   "source": [
    "## get list of arxiv paper candidates\n",
    "\n",
    "We use the MPIA mitarbeiter list webpage from mpia.de to get author names\n",
    "We then get all new papers from Arxiv and match authors"
   ]
  },
  {
   "cell_type": "code",
   "execution_count": 3,
   "id": "7ea813a8",
   "metadata": {
    "execution": {
     "iopub.execute_input": "2025-07-09T04:25:58.001986Z",
     "iopub.status.busy": "2025-07-09T04:25:58.001789Z",
     "iopub.status.idle": "2025-07-09T04:26:20.831725Z",
     "shell.execute_reply": "2025-07-09T04:26:20.831100Z"
    },
    "papermill": {
     "duration": 22.834825,
     "end_time": "2025-07-09T04:26:20.833048",
     "exception": false,
     "start_time": "2025-07-09T04:25:57.998223",
     "status": "completed"
    },
    "tags": []
   },
   "outputs": [],
   "source": [
    "# deal with the author list and edge cases of people that cannot be consistent on their name  \n",
    "\n",
    "def filter_non_scientists(name: str) -> bool:\n",
    "    \"\"\" Loose filter on expected authorships\n",
    "\n",
    "    removing IT, administration, technical staff\n",
    "    :param name: name\n",
    "    :returns: False if name is not a scientist\n",
    "    \"\"\"\n",
    "    remove_list = ['Licht', 'Binroth', 'Witzel', 'Jordan',\n",
    "                   'Zähringer', 'Scheerer', 'Hoffmann', 'Düe',\n",
    "                   'Hellmich', 'Enkler-Scharpegge', 'Witte-Nguy',\n",
    "                   'Dehen', 'Beckmann', 'Jager', 'Jäger'\n",
    "                  ]\n",
    "\n",
    "    for k in remove_list:\n",
    "        if k in name:\n",
    "            return False\n",
    "    return True\n",
    "\n",
    "def add_author_to_list(author_list: list) -> list:\n",
    "    \"\"\" Add author to list if not already in list\n",
    "    \n",
    "    :param author: author name\n",
    "    :param author_list: list of authors\n",
    "    :returns: updated list of authors\n",
    "    \"\"\"\n",
    "    add_list = ['T. Henning']\n",
    "\n",
    "    for author in add_list:\n",
    "        if author not in author_list:\n",
    "            author_list.append(author)\n",
    "    return author_list\n",
    "\n",
    "# get list from MPIA website\n",
    "# filter for non-scientists (mpia.get_mpia_mitarbeiter_list() does some filtering)\n",
    "mpia_authors = [k[1] for k in mpia.get_mpia_mitarbeiter_list() if filter_non_scientists(k[1])]\n",
    "# add some missing author because of inconsistencies in their MPIA name and author name on papers\n",
    "mpia_authors = add_author_to_list(mpia_authors)"
   ]
  },
  {
   "cell_type": "code",
   "execution_count": 4,
   "id": "2645e73a",
   "metadata": {
    "execution": {
     "iopub.execute_input": "2025-07-09T04:26:20.840523Z",
     "iopub.status.busy": "2025-07-09T04:26:20.840121Z",
     "iopub.status.idle": "2025-07-09T04:26:21.754612Z",
     "shell.execute_reply": "2025-07-09T04:26:21.753959Z"
    },
    "papermill": {
     "duration": 0.919263,
     "end_time": "2025-07-09T04:26:21.755686",
     "exception": false,
     "start_time": "2025-07-09T04:26:20.836423",
     "status": "completed"
    },
    "tags": []
   },
   "outputs": [
    {
     "name": "stdout",
     "output_type": "stream",
     "text": [
      "J. Li  ->  J. Li  |  ['J. Li']\n",
      "K. Kreckel  ->  K. Kreckel  |  ['K. Kreckel']\n"
     ]
    },
    {
     "name": "stdout",
     "output_type": "stream",
     "text": [
      "T. Henning  ->  T. Henning  |  ['T. Henning']\n",
      "C. Gieser  ->  C. Gieser  |  ['C. Gieser']\n",
      "D. Semenov  ->  D. Semenov  |  ['D. Semenov']\n",
      "G. Guiglion  ->  G. Guiglion  |  ['G. Guiglion']\n",
      "M. Samland  ->  M. Samland  |  ['M. Samland']\n",
      "M. Benisty  ->  M. Benisty  |  ['M. Benisty']\n",
      "W. Brandner  ->  W. Brandner  |  ['W. Brandner']\n",
      "G. Chauvin  ->  G. Chauvin  |  ['G. Chauvin']\n",
      "P. Garcia  ->  A. P. Garcia  |  ['P. Garcia']\n",
      "T. Henning  ->  T. Henning  |  ['T. Henning']\n",
      "L. Kreidberg  ->  L. Kreidberg  |  ['L. Kreidberg']\n",
      "P. Mollière  ->  P. Mollière  |  ['P. Mollière']\n",
      "Arxiv has 74 new papers today\n",
      "          5 with possible author matches\n"
     ]
    }
   ],
   "source": [
    "new_papers = get_new_papers()\n",
    "# add manual references\n",
    "add_paper_refs = []\n",
    "new_papers.extend([get_paper_from_identifier(k) for k in add_paper_refs])\n",
    "\n",
    "def robust_call(fn, value, *args, **kwargs):\n",
    "    try:\n",
    "        return fn(value, *args, **kwargs)\n",
    "    except Exception:\n",
    "        return value\n",
    "\n",
    "candidates = []\n",
    "for paperk in new_papers:\n",
    "    # Check author list with their initials\n",
    "    normed_author_list = [robust_call(mpia.get_initials, k) for k in paperk['authors']]\n",
    "    hl_authors = highlight_authors_in_list(normed_author_list, mpia_authors, verbose=True)\n",
    "    matches = [(hl, orig) for hl, orig in zip(hl_authors, paperk['authors']) if 'mark' in hl]\n",
    "    paperk['authors'] = hl_authors\n",
    "    if matches:\n",
    "        # only select paper if an author matched our list\n",
    "        candidates.append(paperk)\n",
    "print(\"\"\"Arxiv has {0:,d} new papers today\"\"\".format(len(new_papers)))        \n",
    "print(\"\"\"          {0:,d} with possible author matches\"\"\".format(len(candidates)))"
   ]
  },
  {
   "cell_type": "markdown",
   "id": "3543b34a",
   "metadata": {
    "papermill": {
     "duration": 0.003095,
     "end_time": "2025-07-09T04:26:21.762369",
     "exception": false,
     "start_time": "2025-07-09T04:26:21.759274",
     "status": "completed"
    },
    "tags": []
   },
   "source": [
    "# Parse sources and generate relevant outputs\n",
    "\n",
    "From the candidates, we do the following steps:\n",
    "* get their tarball from ArXiv (and extract data)\n",
    "* find the main .tex file: find one with \\documentclass{...} (sometimes it's non trivial)\n",
    "* Check affiliations with :func:`validation`, which uses :func:`mpia.affiliation_verifications`\n",
    "* If passing the affiliations: we parse the .tex source\n",
    "   * inject sub-documents into the main (flatten the main document)\n",
    "   * parse structure, extract information (title, abstract, authors, figures...)\n",
    "   * handles `\\graphicspath` if provided\n",
    "* Generate the .md document."
   ]
  },
  {
   "cell_type": "code",
   "execution_count": 5,
   "id": "9576b79e",
   "metadata": {
    "execution": {
     "iopub.execute_input": "2025-07-09T04:26:21.769634Z",
     "iopub.status.busy": "2025-07-09T04:26:21.769254Z",
     "iopub.status.idle": "2025-07-09T04:28:21.600745Z",
     "shell.execute_reply": "2025-07-09T04:28:21.599909Z"
    },
    "papermill": {
     "duration": 119.836444,
     "end_time": "2025-07-09T04:28:21.601919",
     "exception": false,
     "start_time": "2025-07-09T04:26:21.765475",
     "status": "completed"
    },
    "scrolled": false,
    "tags": []
   },
   "outputs": [
    {
     "data": {
      "application/vnd.jupyter.widget-view+json": {
       "model_id": "42ca867705984e2ebcd658321620c01e",
       "version_major": 2,
       "version_minor": 0
      },
      "text/plain": [
       "  0%|          | 0/5 [00:00<?, ?it/s]"
      ]
     },
     "metadata": {},
     "output_type": "display_data"
    },
    {
     "name": "stdout",
     "output_type": "stream",
     "text": [
      "Retrieving document from  https://arxiv.org/e-print/2507.05323\n"
     ]
    },
    {
     "name": "stderr",
     "output_type": "stream",
     "text": [
      "/tmp/ipykernel_3381/2822249172.py:52: LatexWarning: 2507.05323 did not run properly\n",
      "not a gzip file\n",
      "  warnings.warn(latex.LatexWarning(f\"{paper_id:s} did not run properly\\n\" +\n"
     ]
    },
    {
     "name": "stdout",
     "output_type": "stream",
     "text": [
      "Retrieving document from  https://arxiv.org/e-print/2507.05414\n"
     ]
    },
    {
     "name": "stdout",
     "output_type": "stream",
     "text": [
      "extracting tarball to tmp_2507.05414..."
     ]
    },
    {
     "name": "stdout",
     "output_type": "stream",
     "text": [
      " done.\n",
      "Retrieving document from  https://arxiv.org/e-print/2507.05830\n"
     ]
    },
    {
     "name": "stdout",
     "output_type": "stream",
     "text": [
      "extracting tarball to tmp_2507.05830... done.\n"
     ]
    },
    {
     "name": "stdout",
     "output_type": "stream",
     "text": [
      "T. Henning  ->  T. Henning  |  ['T. Henning']\n",
      "C. Gieser  ->  C. Gieser  |  ['C. Gieser']\n",
      "D. Semenov  ->  D. Semenov  |  ['D. Semenov']\n"
     ]
    },
    {
     "name": "stdout",
     "output_type": "stream",
     "text": [
      "Found 151 bibliographic references in tmp_2507.05830/aa54018-25.bbl.\n",
      "Retrieving document from  https://arxiv.org/e-print/2507.05901\n"
     ]
    },
    {
     "name": "stdout",
     "output_type": "stream",
     "text": [
      "extracting tarball to tmp_2507.05901..."
     ]
    },
    {
     "name": "stdout",
     "output_type": "stream",
     "text": [
      " done.\n"
     ]
    },
    {
     "name": "stdout",
     "output_type": "stream",
     "text": [
      "G. Guiglion  ->  G. Guiglion  |  ['G. Guiglion']\n"
     ]
    },
    {
     "name": "stdout",
     "output_type": "stream",
     "text": [
      "Found 67 bibliographic references in tmp_2507.05901/aa55695-25.bbl.\n",
      "Retrieving document from  https://arxiv.org/e-print/2507.06206\n"
     ]
    },
    {
     "name": "stdout",
     "output_type": "stream",
     "text": [
      "extracting tarball to tmp_2507.06206..."
     ]
    },
    {
     "name": "stdout",
     "output_type": "stream",
     "text": [
      " done.\n"
     ]
    },
    {
     "name": "stdout",
     "output_type": "stream",
     "text": [
      "Found 78 bibliographic references in tmp_2507.06206/aa55064-25.bbl.\n"
     ]
    }
   ],
   "source": [
    "documents = []\n",
    "failed = []\n",
    "for paper in tqdm(candidates):\n",
    "    # debug crap\n",
    "    paper['identifier'] = paper['identifier'].lower().replace('arxiv:', '').replace(r'\\n', '').strip()\n",
    "    paper_id = paper['identifier']\n",
    "    \n",
    "    folder = f'tmp_{paper_id}'\n",
    "\n",
    "    try:\n",
    "        if not os.path.isdir(folder):\n",
    "            folder = retrieve_document_source(f\"{paper_id}\", f'tmp_{paper_id}')\n",
    "        \n",
    "        try:\n",
    "            doc = latex.LatexDocument(folder, validation=validation)    \n",
    "        except AffiliationError as affilerror:\n",
    "            msg = f\"ArXiv:{paper_id:s} is not an MPIA paper... \" + str(affilerror)\n",
    "            failed.append((paper, \"affiliation error: \" + str(affilerror) ))\n",
    "            continue\n",
    "        \n",
    "        # Hack because sometimes author parsing does not work well\n",
    "        if (len(doc.authors) != len(paper['authors'])):\n",
    "            doc._authors = paper['authors']\n",
    "        else:\n",
    "            # highlight authors (FIXME: doc.highlight_authors)\n",
    "            # done on arxiv paper already\n",
    "            doc._authors = highlight_authors_in_list(\n",
    "                [get_initials(k) for k in doc.authors], \n",
    "                mpia_authors, verbose=True)\n",
    "        if (doc.abstract) in (None, ''):\n",
    "            doc._abstract = paper['abstract']\n",
    "            \n",
    "        doc.comment = (get_markdown_badge(paper_id) + \n",
    "                       \"<mark>Appeared on: \" + paper['date'] + \"</mark> - \")\n",
    "        if paper['comments']:\n",
    "            doc.comment += \" _\" + paper['comments'] + \"_\"\n",
    "        \n",
    "        full_md = doc.generate_markdown_text()\n",
    "        \n",
    "        full_md += get_markdown_qrcode(paper_id)\n",
    "        \n",
    "        # replace citations\n",
    "        try:\n",
    "            bibdata = latex_bib.LatexBib.from_doc(doc)\n",
    "            full_md = latex_bib.replace_citations(full_md, bibdata)\n",
    "        except Exception as e:\n",
    "            print(\"Issues with the citations\")\n",
    "            print(e)\n",
    "        \n",
    "        documents.append((paper_id, full_md))\n",
    "    except Exception as e:\n",
    "        warnings.warn(latex.LatexWarning(f\"{paper_id:s} did not run properly\\n\" +\n",
    "                                         str(e)\n",
    "                                        ))\n",
    "        failed.append((paper, \"latex error \" + str(e)))"
   ]
  },
  {
   "cell_type": "markdown",
   "id": "2505a25c",
   "metadata": {
    "papermill": {
     "duration": 0.003891,
     "end_time": "2025-07-09T04:28:21.610055",
     "exception": false,
     "start_time": "2025-07-09T04:28:21.606164",
     "status": "completed"
    },
    "tags": []
   },
   "source": [
    "### Export the logs\n",
    "\n",
    "Throughout, we also keep track of the logs per paper. see `logs-{today date}.md` "
   ]
  },
  {
   "cell_type": "code",
   "execution_count": 6,
   "id": "d733828a",
   "metadata": {
    "execution": {
     "iopub.execute_input": "2025-07-09T04:28:21.619018Z",
     "iopub.status.busy": "2025-07-09T04:28:21.618517Z",
     "iopub.status.idle": "2025-07-09T04:28:21.634973Z",
     "shell.execute_reply": "2025-07-09T04:28:21.634326Z"
    },
    "papermill": {
     "duration": 0.022164,
     "end_time": "2025-07-09T04:28:21.636057",
     "exception": false,
     "start_time": "2025-07-09T04:28:21.613893",
     "status": "completed"
    },
    "scrolled": false,
    "tags": []
   },
   "outputs": [
    {
     "data": {
      "text/markdown": [
       "## Successful papers"
      ],
      "text/plain": [
       "<IPython.core.display.Markdown object>"
      ]
     },
     "metadata": {},
     "output_type": "display_data"
    },
    {
     "data": {
      "text/markdown": [
       "\n",
       "|||\n",
       "|---:|:---|\n",
       "| [![arXiv](https://img.shields.io/badge/arXiv-2507.05830-b31b1b.svg)](https://arxiv.org/abs/2507.05830) | **PRODIGE VI -- Envelope to Disk with NOEMA: VI. The Missing Sulfur Problem**  |\n",
       "|| J. J. Miranzo-Pastor, et al. -- incl., <mark>T. Henning</mark>, <mark>C. Gieser</mark>, <mark>D. Semenov</mark> |\n",
       "|*Appeared on*| *2025-07-09*|\n",
       "|*Comments*| *Main text: 20 pages, 11 figures. Appendixes: 10 pages, 5 figures. Article accepted for publication on Astronomy & Astrophysics*|\n",
       "|**Abstract**|            Determining the amount of sulfur in volatiles and refractories in the ISM remains one of the main problems in astrochemistry. The detection of H$_2$S ices, which are thought to be one of the main sulfur reservoirs, has not been achieved yet, and the only S-bearing species detected in the ices to date is OCS. PRODIGE large survey observations with NOEMA of several Class 0/I protostars in the Perseus Molecular Cloud provide a perfect opportunity to study the H$_2$S and OCS composition of the ices through the volatiles sublimated in the warm inner core (T$>$100K, n $\\sim10^6$cm$^{-3}$) of these protostars. Our aim is to determine the H$_2$S/OCS ratio in the warm inner core of 24 protostars in order to study how it is affected by different factors during its evolution. We used the NOEMA millimeter observations from the PRODIGE program of H$_2$S, H$_2^{33}$S, OCS, OC$^{33}$S and OC$^{34}$S to estimate the H$_2$S and OCS column densities in the warm inner cores. We used SO and SO$_2$ data from the ALMA archive to give a rough estimate of the total sulfur abundance. We explore the chemistry of H$_2$S and OCS in the warm cores using chemical and dynamical simulations of the collapse of a dense core to form a protostar. The estimated H$_2$S/OCS ratio reveals a segregation of the sources into ``OCS-poor'' and ``OCS-rich'' protostars, where the OCS-poor protostars present higher H$_2$S/OCS ratios than the OCS-rich ones. Total sulfur abundance is always dominated by either H$_2$S or OCS, grows with evolution during the Class 0 phase up to $D_S<8$, and decreases again in the Class I. Simulations show that temperature changes in the pre-stellar phase and during the collapse can produce substantial differences in the H$_2$S and OCS abundances and in the H$_2$S/OCS ratio. Our analysis shows that the H$_2$S/OCS ratio is strongly influenced by the environment and the initial conditions of the cloud.         |"
      ],
      "text/plain": [
       "[2507.05830] PRODIGE VI -- Envelope to Disk with NOEMA: VI. The Missing Sulfur Problem\n",
       "\tJ. J. Miranzo-Pastor, et al. -- incl., <mark>T. Henning</mark>, <mark>C. Gieser</mark>, <mark>D. Semenov</mark>"
      ]
     },
     "metadata": {},
     "output_type": "display_data"
    },
    {
     "data": {
      "text/markdown": [
       "\n",
       "|||\n",
       "|---:|:---|\n",
       "| [![arXiv](https://img.shields.io/badge/arXiv-2507.05901-b31b1b.svg)](https://arxiv.org/abs/2507.05901) | **Survey of Surveys. II. Stellar parameters for 23 millions of stars**  |\n",
       "|| A. Turchi, et al. -- incl., <mark>G. Guiglion</mark> |\n",
       "|*Appeared on*| *2025-07-09*|\n",
       "|*Comments*| *19 pages, 17 figures*|\n",
       "|**Abstract**|            In the current panorama of large surveys, the vast amount of data obtained with different methods, data types, formats, and stellar samples, is making an efficient use of the available information difficult. The Survey of Surveys is a project to critically compile survey results in a single catalogue, facilitating the scientific use of the available information. In this second release, we present two new catalogs of stellar parameters (Teff, logg, and [Fe/H]). To build the first catalog, SoS-Spectro, we calibrated internally and externally stellar parameters from five spectroscopic surveys (APOGEE, GALAH, Gaia-ESO, RAVE, and LAMOST) and externally on the PASTEL database. The second catalog, SoS-ML catalog, is obtained by using SoS-Spectro as a reference to train a multi-layer perceptron, which predicts stellar parameters based on two photometric surveys, SDSS and SkyMapper. As a novel approach, we build on previous parameters sets, from Gaia DR3 and Andrae et al. (2023), aiming to improve their precision and accuracy. We obtain a catalog of stellar parameters for around 23 millions of stars, which we make publicly available. We validate our results with several comparisons with other machine learning catalogs, stellar clusters, and astroseismic samples. We find substantial improvements in the parameters estimates compared to other Machine Learning methods in terms of precision and accuracy, especially in the metal-poor range, as shown in particular when validating our results with globular clusters. We believe that there are two reasons behind our improved results at the low-metallicity end: first, our use of a reference catalog, the SoS-Spectro, which is calibrated using high-resolution spectroscopic data; and second, our choice to build on pre-existing parameter estimates from em Gaia and Andrae et al., rather than attempting to obtain our predictions from survey data alone.         |"
      ],
      "text/plain": [
       "[2507.05901] Survey of Surveys. II. Stellar parameters for 23 millions of stars\n",
       "\tA. Turchi, et al. -- incl., <mark>G. Guiglion</mark>"
      ]
     },
     "metadata": {},
     "output_type": "display_data"
    },
    {
     "data": {
      "text/markdown": [
       "\n",
       "|||\n",
       "|---:|:---|\n",
       "| [![arXiv](https://img.shields.io/badge/arXiv-2507.06206-b31b1b.svg)](https://arxiv.org/abs/2507.06206) | **Direct imaging discovery of a young giant planet orbiting on Solar System scales**  |\n",
       "|| T. Stolker, et al. -- incl., <mark>M. Samland</mark>, <mark>M. Benisty</mark>, <mark>W. Brandner</mark>, <mark>G. Chauvin</mark>, <mark>P. Garcia</mark>, <mark>T. Henning</mark>, <mark>L. Kreidberg</mark>, <mark>P. Mollière</mark> |\n",
       "|*Appeared on*| *2025-07-09*|\n",
       "|*Comments*| *13 pages, 11 figures, accepted for publication in A&A*|\n",
       "|**Abstract**|            HD 135344 AB is a young visual binary system that is best known for the protoplanetary disk around the secondary star. The circumstellar environment of the A0-type primary star, on the other hand, is already depleted. HD 135344 A is therefore an ideal target for the exploration of recently formed giant planets because it is not obscured by dust. We searched for and characterized substellar companions to HD 135344 A down to separations of about 10 au. We observed HD 135344 A with VLT/SPHERE in the $H23$ and $K12$ bands and obtained $YJ$ and $YJH$ spectroscopy. In addition, we carried out VLTI/GRAVITY observations for the further astrometric and spectroscopic confirmation of a detected companion. We discovered a close-in young giant planet, HD 135344 Ab, with a mass of about 10 $M_\\mathrm{J}$. The multi-epoch astrometry confirms the bound nature based on common parallax and common proper motion. This firmly rules out the scenario of a non-stationary background star. The semi-major axis of the planetary orbit is approximately 15-20 au, and the photometry is consistent with that of a mid L-type object. The inferred atmospheric and bulk parameters further confirm the young and planetary nature of the companion. HD 135344 Ab is one of the youngest directly imaged planets that has fully formed and orbits on Solar System scales. It is a valuable target for studying the early evolution and atmosphere of a giant planet that could have formed in the vicinity of the snowline.         |"
      ],
      "text/plain": [
       "[2507.06206] Direct imaging discovery of a young giant planet orbiting on Solar System scales\n",
       "\tT. Stolker, et al. -- incl., <mark>M. Samland</mark>, <mark>M. Benisty</mark>, <mark>W. Brandner</mark>, <mark>G. Chauvin</mark>, <mark>P. Garcia</mark>, <mark>T. Henning</mark>, <mark>L. Kreidberg</mark>, <mark>P. Mollière</mark>"
      ]
     },
     "metadata": {},
     "output_type": "display_data"
    },
    {
     "data": {
      "text/markdown": [
       "## Failed papers"
      ],
      "text/plain": [
       "<IPython.core.display.Markdown object>"
      ]
     },
     "metadata": {},
     "output_type": "display_data"
    },
    {
     "data": {
      "text/markdown": [
       "\n",
       "|||\n",
       "|---:|:---|\n",
       "| [![arXiv](https://img.shields.io/badge/arXiv-2507.05414-b31b1b.svg)](https://arxiv.org/abs/2507.05414) | **Physical properties of HII regions at sub-kpc scales using integral field spectroscopy on IC 342**  |\n",
       "|| J. K. Barrera-Ballesteros, et al. -- incl., <mark>K. Kreckel</mark> |\n",
       "|*Appeared on*| *2025-07-09*|\n",
       "|*Comments*| *Accepted for publication at RMxAA. 27 pages, 18 Figures*|\n",
       "|**Abstract**|            In this study we use Integral Field Spectroscopic (IFS) observations for one of the closest galaxy to us, the grand design spiral IC 342, to derive physical properties of HII regions at sub-kpc scales. This IFS data represents, to our knowledge, the most comprehensive observational effort in the optical for this galaxy. The final IFS datacube consists of 349 individual pointings using the IFS instrumentation from the SDSS-IV MaNGA survey. Using a prototype of the data analysis pipeline that will be devoted to the SDSS-V Local Volume Mapper (LVM) survey, we measure different observables from the emission line in the optical. In particular, using the flux map of the H$\\alpha$ emission line, we derive the location and sizes of H ii region candidates for IC 342. Using the integrated flux for different emission lines within each region, we derived the radial distribution of different physical properties from the ionized gas (e.g., optical extinction, H$\\alpha$ luminosity, oxygen abundance, etc). Comparing with larger samples of galaxies with IFS data, our results suggest that physical properties of the ionized gas of IC 342 are similar to galaxies with similar stellar mass in the nearby universe.         |\n",
       "|<p style=\"color:green\"> **ERROR** </p>| <p style=\"color:green\">affiliation error: mpia.affiliation_verifications: '69117' keyword not found.</p> |"
      ],
      "text/plain": [
       "<IPython.core.display.Markdown object>"
      ]
     },
     "metadata": {},
     "output_type": "display_data"
    },
    {
     "data": {
      "text/markdown": [
       "\n",
       "|||\n",
       "|---:|:---|\n",
       "| [![arXiv](https://img.shields.io/badge/arXiv-2507.05323-b31b1b.svg)](https://arxiv.org/abs/2507.05323) | **SKYSURF-10: A Novel Method for Measuring Integrated Galaxy Light**  |\n",
       "|| D. D. Carter, et al. -- incl., <mark>J. Li</mark> |\n",
       "|*Appeared on*| *2025-07-09*|\n",
       "|*Comments*| *62 pages, 18 figures, 10688 words*|\n",
       "|**Abstract**|            We describe the drizzling pipeline and contents of the drizzled database for Hubble Space Telescope Cycle 27-29 Archival Legacy project \"SKYSURF,\" the largest archival project ever approved for Hubble. SKYSURF aims to investigate the extragalactic background light (EBL) using all 143,914 ACSWFC, WFC3UVIS, and WFC3IR images that have been taken by Hubble since its launch in 2002. SKYSURF has produced 38,027 single-visit mosaics and 7,893 multi-visit mosaics across 28 ACSWFC, WFC3UVIS, and WFC3IR filters using non-standard drizzling methods, which include preserving the lowest sky-level of each visit/group in the drizzled products, applying wider apertures for cosmic ray rejection, correcting effects caused by charge transfer efficiency (CTE) degradation, and removing potential light gradients from input images via sky-map subtraction. We generate source catalogs for all drizzled products with Source Extractor and provide updated star-galaxy separation parameters and integrated galaxy light (IGL) estimates for 25 of the 28 SKYSURF filters (wavelength range 0.2-1.7 microns) using a novel IGL fitting method made possible by the vast SKYSURF dataset. We discuss the data processing and data analysis challenges encountered, detail our solutions, and offer suggestions that may facilitate future large-scale IGL investigations with Webb, SPHEREx, and Roman.         |\n",
       "|<p style=\"color:red\"> **ERROR** </p>| <p style=\"color:red\">latex error not a gzip file</p> |"
      ],
      "text/plain": [
       "<IPython.core.display.Markdown object>"
      ]
     },
     "metadata": {},
     "output_type": "display_data"
    }
   ],
   "source": [
    "import datetime\n",
    "today = str(datetime.date.today())\n",
    "logfile = f\"_build/html/logs/log-{today}.md\"\n",
    "\n",
    "\n",
    "with open(logfile, 'w') as logs:\n",
    "    # Success\n",
    "    logs.write(f'# Arxiv on Deck 2: Logs - {today}\\n\\n')\n",
    "    logs.write(\"\"\"* Arxiv had {0:,d} new papers\\n\"\"\".format(len(new_papers)))\n",
    "    logs.write(\"\"\"    * {0:,d} with possible author matches\\n\\n\"\"\".format(len(candidates)))\n",
    "    logs.write(\"## Sucessful papers\\n\\n\")\n",
    "    display(Markdown(\"## Successful papers\"))\n",
    "    success = [k[0] for k in documents]\n",
    "    for candid in candidates:\n",
    "        if candid['identifier'].split(':')[-1] in success:\n",
    "            display(candid)\n",
    "            logs.write(candid.generate_markdown_text() + '\\n\\n')\n",
    "\n",
    "    ## failed\n",
    "    logs.write(\"## Failed papers\\n\\n\")\n",
    "    display(Markdown(\"## Failed papers\"))\n",
    "    failed = sorted(failed, key=lambda x: x[1])\n",
    "    current_reason = \"\"\n",
    "    for paper, reason in failed:\n",
    "        if 'affiliation' in reason:\n",
    "            color = 'green'\n",
    "        else:\n",
    "            color = 'red'\n",
    "        data = Markdown(\n",
    "                paper.generate_markdown_text() + \n",
    "                f'\\n|<p style=\"color:{color:s}\"> **ERROR** </p>| <p style=\"color:{color:s}\">{reason:s}</p> |'\n",
    "               )\n",
    "        if reason != current_reason:\n",
    "            logs.write(f'### {reason:s} \\n\\n')\n",
    "            current_reason = reason\n",
    "        logs.write(data.data + '\\n\\n')\n",
    "        \n",
    "        # only display here the important errors (all in logs)\n",
    "        # if color in ('red',):\n",
    "        display(data)"
   ]
  },
  {
   "cell_type": "markdown",
   "id": "472d20ee",
   "metadata": {
    "papermill": {
     "duration": 0.004542,
     "end_time": "2025-07-09T04:28:21.645769",
     "exception": false,
     "start_time": "2025-07-09T04:28:21.641227",
     "status": "completed"
    },
    "tags": []
   },
   "source": [
    "## Export documents\n",
    "\n",
    "We now write the .md files and export relevant images"
   ]
  },
  {
   "cell_type": "code",
   "execution_count": 7,
   "id": "d426aed9",
   "metadata": {
    "execution": {
     "iopub.execute_input": "2025-07-09T04:28:21.655890Z",
     "iopub.status.busy": "2025-07-09T04:28:21.655518Z",
     "iopub.status.idle": "2025-07-09T04:28:21.662589Z",
     "shell.execute_reply": "2025-07-09T04:28:21.662004Z"
    },
    "papermill": {
     "duration": 0.013252,
     "end_time": "2025-07-09T04:28:21.663571",
     "exception": false,
     "start_time": "2025-07-09T04:28:21.650319",
     "status": "completed"
    },
    "tags": []
   },
   "outputs": [],
   "source": [
    "def export_markdown_summary(md: str, md_fname:str, directory: str):\n",
    "    \"\"\"Export MD document and associated relevant images\"\"\"\n",
    "    import os\n",
    "    import shutil\n",
    "    import re\n",
    "\n",
    "    if (os.path.exists(directory) and not os.path.isdir(directory)):\n",
    "        raise RuntimeError(f\"a non-directory file exists with name {directory:s}\")\n",
    "\n",
    "    if (not os.path.exists(directory)):\n",
    "        print(f\"creating directory {directory:s}\")\n",
    "        os.mkdir(directory)\n",
    "\n",
    "    fig_fnames = (re.compile(r'\\[Fig.*\\]\\((.*)\\)').findall(md) + \n",
    "                  re.compile(r'\\<img src=\"([^>\\s]*)\"[^>]*/>').findall(md))\n",
    "    print(\"found figures\", fig_fnames)\n",
    "    for fname in fig_fnames:\n",
    "        if 'http' in fname:\n",
    "            # No need to copy online figures\n",
    "            continue\n",
    "        if not os.path.exists(fname):\n",
    "            print(\"file not found\", fname)\n",
    "            continue\n",
    "        print(\"copying \", fname, \"to\", directory)\n",
    "        destdir = os.path.join(directory, os.path.dirname(fname))\n",
    "        destfname = os.path.join(destdir, os.path.basename(fname))\n",
    "        try:\n",
    "            os.makedirs(destdir)\n",
    "        except FileExistsError:\n",
    "            pass\n",
    "        shutil.copy(fname, destfname)\n",
    "    with open(os.path.join(directory, md_fname), 'w') as fout:\n",
    "        fout.write(md)\n",
    "    print(\"exported in \", os.path.join(directory, md_fname))\n",
    "    [print(\"    + \" + os.path.join(directory,fk)) for fk in fig_fnames]"
   ]
  },
  {
   "cell_type": "code",
   "execution_count": 8,
   "id": "014d04a4",
   "metadata": {
    "execution": {
     "iopub.execute_input": "2025-07-09T04:28:21.673614Z",
     "iopub.status.busy": "2025-07-09T04:28:21.673381Z",
     "iopub.status.idle": "2025-07-09T04:28:21.691598Z",
     "shell.execute_reply": "2025-07-09T04:28:21.690988Z"
    },
    "papermill": {
     "duration": 0.024422,
     "end_time": "2025-07-09T04:28:21.692638",
     "exception": false,
     "start_time": "2025-07-09T04:28:21.668216",
     "status": "completed"
    },
    "tags": []
   },
   "outputs": [
    {
     "name": "stdout",
     "output_type": "stream",
     "text": [
      "found figures ['tmp_2507.05830/./figures/histoCompPreMHD.png', 'tmp_2507.05830/./figures/comparison_15K.png', 'tmp_2507.05830/./figures/comparison_25K.png', 'tmp_2507.05830/./figures/maps/B1-bS_mean-cropped.png', 'tmp_2507.05830/./figures/maps/HH211_mean-cropped.png', 'tmp_2507.05830/./figures/maps/IRAS2A_mean-cropped.png', 'tmp_2507.05830/./figures/maps/IRAS4B_mean-cropped.png']\n",
      "copying  tmp_2507.05830/./figures/histoCompPreMHD.png to _build/html/\n",
      "copying  tmp_2507.05830/./figures/comparison_15K.png to _build/html/\n",
      "copying  tmp_2507.05830/./figures/comparison_25K.png to _build/html/\n",
      "copying  tmp_2507.05830/./figures/maps/B1-bS_mean-cropped.png to _build/html/\n",
      "copying  tmp_2507.05830/./figures/maps/HH211_mean-cropped.png to _build/html/\n",
      "copying  tmp_2507.05830/./figures/maps/IRAS2A_mean-cropped.png to _build/html/\n",
      "copying  tmp_2507.05830/./figures/maps/IRAS4B_mean-cropped.png to _build/html/\n",
      "exported in  _build/html/2507.05830.md\n",
      "    + _build/html/tmp_2507.05830/./figures/histoCompPreMHD.png\n",
      "    + _build/html/tmp_2507.05830/./figures/comparison_15K.png\n",
      "    + _build/html/tmp_2507.05830/./figures/comparison_25K.png\n",
      "    + _build/html/tmp_2507.05830/./figures/maps/B1-bS_mean-cropped.png\n",
      "    + _build/html/tmp_2507.05830/./figures/maps/HH211_mean-cropped.png\n",
      "    + _build/html/tmp_2507.05830/./figures/maps/IRAS2A_mean-cropped.png\n",
      "    + _build/html/tmp_2507.05830/./figures/maps/IRAS4B_mean-cropped.png\n",
      "found figures ['tmp_2507.05901/./KIEL.png', 'tmp_2507.05901/./metallicity_summary_v2.png', 'tmp_2507.05901/./metallicity_summary_saga_v2.png', 'tmp_2507.05901/./zhang_comp_ondens2.png', 'tmp_2507.05901/./gu_comp_ondens.png', 'tmp_2507.05901/./andrae_comp_ondens2.png']\n",
      "copying  tmp_2507.05901/./KIEL.png to _build/html/\n",
      "copying  tmp_2507.05901/./metallicity_summary_v2.png to _build/html/\n",
      "copying  tmp_2507.05901/./metallicity_summary_saga_v2.png to _build/html/\n",
      "copying  tmp_2507.05901/./zhang_comp_ondens2.png to _build/html/\n",
      "copying  tmp_2507.05901/./gu_comp_ondens.png to _build/html/\n",
      "copying  tmp_2507.05901/./andrae_comp_ondens2.png to _build/html/\n",
      "exported in  _build/html/2507.05901.md\n",
      "    + _build/html/tmp_2507.05901/./KIEL.png\n",
      "    + _build/html/tmp_2507.05901/./metallicity_summary_v2.png\n",
      "    + _build/html/tmp_2507.05901/./metallicity_summary_saga_v2.png\n",
      "    + _build/html/tmp_2507.05901/./zhang_comp_ondens2.png\n",
      "    + _build/html/tmp_2507.05901/./gu_comp_ondens.png\n",
      "    + _build/html/tmp_2507.05901/./andrae_comp_ondens2.png\n",
      "found figures ['tmp_2507.06206/./fig_relative_astrometry.png', 'tmp_2507.06206/./fig_age_separation.png', 'tmp_2507.06206/./fig_sed_planet.png']\n",
      "copying  tmp_2507.06206/./fig_relative_astrometry.png to _build/html/\n",
      "copying  tmp_2507.06206/./fig_age_separation.png to _build/html/\n",
      "copying  tmp_2507.06206/./fig_sed_planet.png to _build/html/\n",
      "exported in  _build/html/2507.06206.md\n",
      "    + _build/html/tmp_2507.06206/./fig_relative_astrometry.png\n",
      "    + _build/html/tmp_2507.06206/./fig_age_separation.png\n",
      "    + _build/html/tmp_2507.06206/./fig_sed_planet.png\n"
     ]
    }
   ],
   "source": [
    "for paper_id, md in documents:\n",
    "    export_markdown_summary(md, f\"{paper_id:s}.md\", '_build/html/')"
   ]
  },
  {
   "cell_type": "markdown",
   "id": "f087a0a7",
   "metadata": {
    "papermill": {
     "duration": 0.004682,
     "end_time": "2025-07-09T04:28:21.702120",
     "exception": false,
     "start_time": "2025-07-09T04:28:21.697438",
     "status": "completed"
    },
    "tags": []
   },
   "source": [
    "## Display the papers\n",
    "\n",
    "Not necessary but allows for a quick check."
   ]
  },
  {
   "cell_type": "code",
   "execution_count": 9,
   "id": "fd25f625",
   "metadata": {
    "execution": {
     "iopub.execute_input": "2025-07-09T04:28:21.712555Z",
     "iopub.status.busy": "2025-07-09T04:28:21.712300Z",
     "iopub.status.idle": "2025-07-09T04:28:21.719768Z",
     "shell.execute_reply": "2025-07-09T04:28:21.719220Z"
    },
    "papermill": {
     "duration": 0.013881,
     "end_time": "2025-07-09T04:28:21.720738",
     "exception": false,
     "start_time": "2025-07-09T04:28:21.706857",
     "status": "completed"
    },
    "scrolled": false,
    "tags": []
   },
   "outputs": [
    {
     "data": {
      "text/markdown": [
       "<div class=\"macros\" style=\"visibility:hidden;\">\n",
       "$\\newcommand{\\ensuremath}{}$\n",
       "$\\newcommand{\\xspace}{}$\n",
       "$\\newcommand{\\object}[1]{\\texttt{#1}}$\n",
       "$\\newcommand{\\farcs}{{.}''}$\n",
       "$\\newcommand{\\farcm}{{.}'}$\n",
       "$\\newcommand{\\arcsec}{''}$\n",
       "$\\newcommand{\\arcmin}{'}$\n",
       "$\\newcommand{\\ion}[2]{#1#2}$\n",
       "$\\newcommand{\\textsc}[1]{\\textrm{#1}}$\n",
       "$\\newcommand{\\hl}[1]{\\textrm{#1}}$\n",
       "$\\newcommand{\\footnote}[1]{}$\n",
       "$\\newcommand{\\citet}[1]{\\textcolor[rgb]{0,0,1}{\\oldcitet{#1}}}$\n",
       "$\\newcommand{\\citep}[1]{\\textcolor[rgb]{0,0,1}{\\oldcitep{#1}}}$\n",
       "$\\newcommand{\\citealp}[1]{\\textcolor[rgb]{0,0,1}{\\oldcitealp{#1}}}$\n",
       "$\\newcommand{\\arraystretch}{1.5}$\n",
       "$\\newcommand{\\arraystretch}{1}$\n",
       "$\\newcommand{\\arraystretch}{1.5}$\n",
       "$\\newcommand{\\arraystretch}{1.5}$\n",
       "$\\newcommand{\\arraystretch}{1.5}$\n",
       "$\\newcommand{\\arraystretch}{1.5}$\n",
       "$\\newcommand{\\arraystretch}{1.5}$</div>\n",
       "\n",
       "\n",
       "\n",
       "<div id=\"title\">\n",
       "\n",
       "# PRODIGE - Envelope to Disk with NOEMA$\\thanks{Based on observations carried out under project number L19MB with the IRAM NOEMA Interferometer. IRAM is supported by INSU/CNRS (France), MPG (Germany) and IGN (Spain)}$: VI: The missing Sulfur Problem\n",
       "\n",
       "</div>\n",
       "<div id=\"comments\">\n",
       "\n",
       "[![arXiv](https://img.shields.io/badge/arXiv-2507.05830-b31b1b.svg)](https://arxiv.org/abs/2507.05830)<mark>Appeared on: 2025-07-09</mark> -  _Main text: 20 pages, 11 figures. Appendixes: 10 pages, 5 figures. Article accepted for publication on Astronomy & Astrophysics_\n",
       "\n",
       "</div>\n",
       "<div id=\"authors\">\n",
       "\n",
       "J. J. Miranzo-Pastor, et al. -- incl., <mark>T. Henning</mark>, <mark>C. Gieser</mark>, <mark>D. Semenov</mark>\n",
       "\n",
       "</div>\n",
       "<div id=\"abstract\">\n",
       "\n",
       "**Abstract:** Determining the amount of sulfur in volatiles and refractories in the interstellar medium remains one of the main problems in astrochemistry. The detection of $H_2$ S ices, which are thought to be one of the main sulfur reservoirs, is still a great challenge and has not been achieved yet, and the only sulfur-bearing species detected in the ices to date is OCS. PRODIGE (PROtostars and DIsks: Global Evolution) large survey observations with the NOrthern Extended Millimeter Array (NOEMA) of several Class 0/I protostars in the Perseus Molecular Cloud provide a perfect opportunity to study the $H_2$ S and OCS composition of the ices through the volatiles sublimated in the warm inner core (T>100K, $n\\sim$ 10 $^6$ cm $^{-3}$ ) of these protostars. Our aim is to determine the $H_2$ S/OCS ratio in the warm inner core of the protostars of our sample in order to study how it is affected by different factors during its evolution. We used the NOEMA millimeter observations from the PRODIGE program of $H_2$ S, $H_2^{33}$ S, OCS, OC $^{33}$ S and OC $^{34}$ S to estimate the $H_2$ S and OCS column densities in the warm inner core of 24 protostars of Perseus. In addition, we used SO and $SO_2$ data from the Atacama Large Millimeter/submillimeter Array (ALMA) archive to complete the sulfur budget and give a rough estimate of the total sulfur abundance in each of the sources. We explore the chemistry of $H_2$ S and OCS in the warm cores using chemical and dynamical simulations of the collapse of a dense core to form a protostar. The compound $H_2$ S is detected in 21 protostars and OCS in 17 protostars of our sample. The estimated $H_2$ S/OCS ratio reveals a segregation of the sources into \"OCS-poor\" and \"OCS-rich\" protostars, where the OCS-poor protostars present higher $H_2$ S/OCS ratios than the OCS-rich ones. Total sulfur abundance, which is always dominated by either $H_2$ S or OCS, grows with evolution during the Class 0 phase, reaching a minimum depletion of a factor $<$ 8 in the Class 0/I objects, and decreasing again in the Class I. Simulations show that temperature changes in the pre-stellar phase and during the collapse can produce substantial differences in the $H_2$ S and OCS (ice and gas-phase) abundances and in the $H_2$ S/OCS ratio. Our analysis shows that the $H_2$ S/OCS ratio is strongly influenced by the environment and the initial conditions of the cloud.\n",
       "\n",
       "</div>\n",
       "\n",
       "<div id=\"div_fig1\">\n",
       "\n",
       "<img src=\"tmp_2507.05830/./figures/histoCompPreMHD.png\" alt=\"Fig10\" width=\"100%\"/>\n",
       "\n",
       "**Figure 10. -** Evolution of the models with different warming curves. _Left:_ Initial ice and gas-phase components of the $H_2$S, OCS, SO and $SO_2$ species in the inner core before the collapse. Comparison with the final abundance of these species in the gas-phase after the Fiducial MHD collapse. _Center:_ Comparison of the Fiducial MHD warming curve with the rest of warming curves explored in the section. _Right:_ Comparison of the Fiducial MHD density curve with the rest of warming curves explored in the section. The different density curves are obtained using the barotropic equation of state from $\\citet${Machida2006}.\n",
       "             (*fig:histoCompPreMHD*)\n",
       "\n",
       "</div>\n",
       "<div id=\"div_fig2\">\n",
       "\n",
       "<img src=\"tmp_2507.05830/./figures/comparison_15K.png\" alt=\"Fig13.1\" width=\"50%\"/><img src=\"tmp_2507.05830/./figures/comparison_25K.png\" alt=\"Fig13.2\" width=\"50%\"/>\n",
       "\n",
       "**Figure 13. -** Comparison between the 15 K and 25 K models. Initial ice and gas-phase components of the $H_2$S, OCS, SO, $SO_2$ and $H_2$$S_3$ species in the inner core before the collapse. Comparison with the final abundance of these species in the gas-phase after the collapse. There is a significant fall of $H_2$S, OCS, SO and $SO_2$ in the ices after the 25 K pre-phase, compared with the 15 K pre-stellar phase. On the contrary, $H_2$$S_3$ is formed in the ices during the warmer pre-phase, something that did not happen in the cooler one. After the collapse of the 25 K model, the final $H_2$S, SO and $SO_2$ drops in $\\sim$1 order of magnitude with respect to the 15 K simulation. This is not true for OCS, whose abundance falls more than 2 orders of magnitude. $H_2$$S_3$ final gas-phase abundance is greater in the warmer model, reaching an abundance of $\\sim$5$\\times$10$^{-6}$.Initial Temperature before the pre-phase: 15 KInitial Temperature before de pre-phase: 25 K (*fig:model_comparison*)\n",
       "\n",
       "</div>\n",
       "<div id=\"div_fig3\">\n",
       "\n",
       "<img src=\"tmp_2507.05830/./figures/maps/B1-bS_mean-cropped.png\" alt=\"Fig6.1\" width=\"25%\"/><img src=\"tmp_2507.05830/./figures/maps/HH211_mean-cropped.png\" alt=\"Fig6.2\" width=\"25%\"/><img src=\"tmp_2507.05830/./figures/maps/IRAS2A_mean-cropped.png\" alt=\"Fig6.3\" width=\"25%\"/><img src=\"tmp_2507.05830/./figures/maps/IRAS4B_mean-cropped.png\" alt=\"Fig6.4\" width=\"25%\"/>\n",
       "\n",
       "**Figure 6. -** Emission of the main species ($H_2$S, and both OCS lines) in the inner core of protostars B1bS, HH211MMS, IRAS2A, IRAS4B. The colormap represents the >3$\\sigma$ emission integrated images in a 4$\\arcsec\\times$4$\\arcsec$ square region. The color scale, shown at the right of each map, is the brightness temperature in K. The white contours represent 10\\%, 30\\%, 50\\%, 70\\% and 90\\% of the peak temperature. The pink star shows the position of the protostar, determined by the position of the maximum emission in the continuum $\\citep${Tobin2016}. The green cross marks the point with maximum emission of the line.B1bSHH211MMSIRAS2AIRAS4B (*fig:moment-0-maps*)\n",
       "\n",
       "</div><div id=\"qrcode\"><img src=https://api.qrserver.com/v1/create-qr-code/?size=100x100&data=\"https://arxiv.org/abs/2507.05830\"></div>"
      ],
      "text/plain": [
       "<IPython.core.display.Markdown object>"
      ]
     },
     "metadata": {},
     "output_type": "display_data"
    },
    {
     "data": {
      "text/markdown": [
       "<div class=\"macros\" style=\"visibility:hidden;\">\n",
       "$\\newcommand{\\ensuremath}{}$\n",
       "$\\newcommand{\\xspace}{}$\n",
       "$\\newcommand{\\object}[1]{\\texttt{#1}}$\n",
       "$\\newcommand{\\farcs}{{.}''}$\n",
       "$\\newcommand{\\farcm}{{.}'}$\n",
       "$\\newcommand{\\arcsec}{''}$\n",
       "$\\newcommand{\\arcmin}{'}$\n",
       "$\\newcommand{\\ion}[2]{#1#2}$\n",
       "$\\newcommand{\\textsc}[1]{\\textrm{#1}}$\n",
       "$\\newcommand{\\hl}[1]{\\textrm{#1}}$\n",
       "$\\newcommand{\\footnote}[1]{}$</div>\n",
       "\n",
       "\n",
       "\n",
       "<div id=\"title\">\n",
       "\n",
       "# Survey of Surveys. II. Stellar parameters for 23 millions of stars\n",
       "\n",
       "</div>\n",
       "<div id=\"comments\">\n",
       "\n",
       "[![arXiv](https://img.shields.io/badge/arXiv-2507.05901-b31b1b.svg)](https://arxiv.org/abs/2507.05901)<mark>Appeared on: 2025-07-09</mark> -  _19 pages, 17 figures_\n",
       "\n",
       "</div>\n",
       "<div id=\"authors\">\n",
       "\n",
       "A. Turchi, et al. -- incl., <mark>G. Guiglion</mark>\n",
       "\n",
       "</div>\n",
       "<div id=\"abstract\">\n",
       "\n",
       "**Abstract:** In the current panorama of large surveys, the vast amount of data obtained with different methods, data types, formats, and stellar samples, is making an efficient use of the available information difficult. The Survey of Surveys is a project to critically compile survey results in a single catalogue, facilitating the scientific use of the available information. In this second release, we present two new catalogs of stellar parameters (T $_{\\rm{eff}}$ , log $g$ , and [ Fe/H ] ). To build the first catalog, SoS-Spectro, we calibrated internally and externally stellar parameters from five spectroscopic surveys (APOGEE, GALAH, Gaia-ESO, RAVE, and LAMOST). Our external calibration on the PASTEL database of high-resolution spectroscopy ensures better performances for metal-poor red giants. The second catalog, SoS-ML catalog, is obtained by using SoS-Spectro as a reference to train a multi-layer perceptron, which predicts stellar parameters based on two photometric surveys, SDSS and SkyMapper. As a novel approach, we build on previous parameters sets, from $* Gaia*$ DR3 and $* Andrae et al. (2023)*$ , aiming to improve their precision and accuracy. We obtain a catalog of stellar parameters for around 23 millions of stars, which we make publicly available. We validate our results with several comparisons with other machine learning catalogs, stellar clusters, and astroseismic samples. We find substantial improvements in the parameters estimates compared to other Machine Learning methods in terms of precision and accuracy, especially in the metal-poor range, as shown in particular when validating our results with globular clusters. We believe that there are two reasons behind our improved results at the low-metallicity end: first, our use of a reference catalog—the SoS-Spectro—which is calibrated using high-resolution spectroscopic data; and second, our choice to build on pre-existing parameter estimates from $* Gaia*$ and Andrae et al., rather than attempting to obtain our predictions from survey data alone.\n",
       "\n",
       "</div>\n",
       "\n",
       "<div id=\"div_fig1\">\n",
       "\n",
       "<img src=\"tmp_2507.05901/./KIEL.png\" alt=\"Fig13\" width=\"100%\"/>\n",
       "\n",
       "**Figure 13. -** Kiel Diagram for the SM (above) and SDSS (below) full sample, colored with the estimated errors on the three parameters. From left to right: T$_{\\rm{eff}}$, log $g$, and [Fe/H]. Hexagonal bins are colored based on the average of the errors inside the bin. The black line approximately encloses the region covered by the respective \"train\\_area\" flags described in Sect.\\ref{sec:cat}. (*KielA*)\n",
       "\n",
       "</div>\n",
       "<div id=\"div_fig2\">\n",
       "\n",
       "<img src=\"tmp_2507.05901/./metallicity_summary_v2.png\" alt=\"Fig15.1\" width=\"50%\"/><img src=\"tmp_2507.05901/./metallicity_summary_saga_v2.png\" alt=\"Fig15.2\" width=\"50%\"/>\n",
       "\n",
       "**Figure 15. -** Comparison of the [Fe/H] predicted by this work and by three literature ML catalogs with the PASTEL (top row) and SAGA (bottom row) databases. Our results are shown in the leftmost plots, where the grey points show the results before, and the purple ones after, augmenting the reference SoS-Spectro catalog with very metal-poor stars. The median [Fe/H] differences for the before and after augmentation samples (computed only for [Fe/H] < –2) are indicated in the top-left corner of the first plot in each row. A similar comparison is presented for the following catalogs: \\citet[][ blue, center-left panels]{andrae23}, \\citet[][ red, center-right panels]{gu25}, and \\citet[][ green, rightmost panels]{Zhang2023}.  (*fig:metal_sum*)\n",
       "\n",
       "</div>\n",
       "<div id=\"div_fig3\">\n",
       "\n",
       "<img src=\"tmp_2507.05901/./zhang_comp_ondens2.png\" alt=\"Fig10.1\" width=\"33%\"/><img src=\"tmp_2507.05901/./gu_comp_ondens.png\" alt=\"Fig10.2\" width=\"33%\"/><img src=\"tmp_2507.05901/./andrae_comp_ondens2.png\" alt=\"Fig10.3\" width=\"33%\"/>\n",
       "\n",
       "**Figure 10. -** Comparison of atmospheric parameters predicted by our ML approach (abscissae) and literature ML catalogs (ordinates). The left plots show T$_{\\rm{eff}}$ comparisons, the middle ones log $g$, and the right ones [Fe/H]. The top row shows the comparison with [Zhang, Green and Rix (2023)](), the middle row with [Gu, Fan and Zhao (2025)](), and the bottom row with [Andrae, Rix and Chandra (2023)](). The dashed line represents the 1:1 relationship. (*fig:litml*)\n",
       "\n",
       "</div><div id=\"qrcode\"><img src=https://api.qrserver.com/v1/create-qr-code/?size=100x100&data=\"https://arxiv.org/abs/2507.05901\"></div>"
      ],
      "text/plain": [
       "<IPython.core.display.Markdown object>"
      ]
     },
     "metadata": {},
     "output_type": "display_data"
    },
    {
     "data": {
      "text/markdown": [
       "<div class=\"macros\" style=\"visibility:hidden;\">\n",
       "$\\newcommand{\\ensuremath}{}$\n",
       "$\\newcommand{\\xspace}{}$\n",
       "$\\newcommand{\\object}[1]{\\texttt{#1}}$\n",
       "$\\newcommand{\\farcs}{{.}''}$\n",
       "$\\newcommand{\\farcm}{{.}'}$\n",
       "$\\newcommand{\\arcsec}{''}$\n",
       "$\\newcommand{\\arcmin}{'}$\n",
       "$\\newcommand{\\ion}[2]{#1#2}$\n",
       "$\\newcommand{\\textsc}[1]{\\textrm{#1}}$\n",
       "$\\newcommand{\\hl}[1]{\\textrm{#1}}$\n",
       "$\\newcommand{\\footnote}[1]{}$\n",
       "$\\newcommand{\\todo}[1]{\\textcolor{red}{#1}}$\n",
       "$\\newcommand{\\ffdeg}{\\mbox{\\ensuremath{.\\!\\!◦}}}$\n",
       "$\\newcommand{\\ffarcs}{\\mbox{\\ensuremath{.\\!\\!^{\\prime\\prime}}}}$\n",
       "$\\newcommand{\\arraystretch}{1.25}$\n",
       "$\\newcommand{\\arraystretch}{1.25}$\n",
       "$\\newcommand{\\arraystretch}{1.25}$\n",
       "$\\newcommand{\\arraystretch}{1.25}$\n",
       "$\\newcommand{\\arraystretch}{1.25}$\n",
       "$\\newcommand{\\arraystretch}{1.25}$</div>\n",
       "\n",
       "\n",
       "\n",
       "<div id=\"title\">\n",
       "\n",
       "# Direct imaging discovery of a young giant planet\\\\orbiting on Solar System scales\n",
       "\n",
       "</div>\n",
       "<div id=\"comments\">\n",
       "\n",
       "[![arXiv](https://img.shields.io/badge/arXiv-2507.06206-b31b1b.svg)](https://arxiv.org/abs/2507.06206)<mark>Appeared on: 2025-07-09</mark> -  _13 pages, 11 figures, accepted for publication in A&A_\n",
       "\n",
       "</div>\n",
       "<div id=\"authors\">\n",
       "\n",
       "T. Stolker, et al. -- incl., <mark>M. Samland</mark>, <mark>M. Benisty</mark>, <mark>W. Brandner</mark>, <mark>G. Chauvin</mark>, <mark>P. Garcia</mark>, <mark>T. Henning</mark>, <mark>L. Kreidberg</mark>, <mark>P. Mollière</mark>\n",
       "\n",
       "</div>\n",
       "<div id=\"abstract\">\n",
       "\n",
       "**Abstract:** HD 135344 AB is a young visual binary system that is best known for the protoplanetary disk around the secondary star. The circumstellar environment of the A0-type primary star, on the other hand, is already depleted. HD 135344 A is therefore an ideal target for the exploration of recently formed giant planets because it is not obscured by dust. We searched for and characterized substellar companions to HD 135344 A down to separations of about 10 au. We observed HD 135344 A with VLT/SPHERE in the $H23$ and $K12$ bands and obtained $YJ$ and $YJH$ spectroscopy. In addition, we carried out VLTI/GRAVITY observations for the further astrometric and spectroscopic confirmation of a detected companion. We discovered a close-in young giant planet, HD 135344 Ab, with a mass of about 10 $M_\\mathrm{J}$ . The multi-epoch astrometry confirms the bound nature based on common parallax and common proper motion. This firmly rules out the scenario of a non-stationary background star. The semi-major axis of the planetary orbit is approximately 15--20 au, and the photometry is consistent with that of a mid L-type object. The inferred atmospheric and bulk parameters further confirm the young and planetary nature of the companion. HD 135344 Ab is one of the youngest directly imaged planets that has fully formed and orbits on Solar System scales. It is a valuable target for studying the early evolution and atmosphere of a giant planet that could have formed in the vicinity of the snowline.\n",
       "\n",
       "</div>\n",
       "\n",
       "<div id=\"div_fig1\">\n",
       "\n",
       "<img src=\"tmp_2507.06206/./fig_relative_astrometry.png\" alt=\"Fig2\" width=\"100%\"/>\n",
       "\n",
       "**Figure 2. -** Astrometric measurements relative to the first epoch. The crosses show the positions of HD 135344 Ab, which moves eastward. The colored circles show the positions of the suspected background sources in the IRDIS field of view, which are connected with dotted lines between epochs. The dashed line shows the track for a stationary background source, and the gray circles and squares indicate the three SPHERE and three GRAVITY epochs, respectively, after the initial detection. The small dots represent a sample of Gaia sources within 0.1 deg from HD 135344 A (see main text for details). The colors indicate a specific epoch, for example, all pink markers correspond to 2021 Jul 16. (*fig:relative_astrometry*)\n",
       "\n",
       "</div>\n",
       "<div id=\"div_fig2\">\n",
       "\n",
       "<img src=\"tmp_2507.06206/./fig_age_separation.png\" alt=\"Fig7\" width=\"100%\"/>\n",
       "\n",
       "**Figure 7. -** Age vs. semi-major axis of directly imaged planets. We selected young companions with planetary masses (except for HD 206893 B), $M \\lesssim 13$ $M_\\mathrm{J}$, planet-to-star mass ratios of $q \\lesssim \\frac{1}{25}$, and orbits smaller than $\\approx$100 au. The locations of the giant planets in the Solar System are indicated with vertically dashed lines, and the gray areas from left to right are separated by the approximate locations of the $H_2$O and $CO_2$ ice lines of an A0-type star  ([Öberg, Murray-Clay and Bergin 2011]()) . The semi-major axes were retrieved from \\texttt{whereistheplanet} when available  ([Wang, Kulikauskas and Blunt 2021]()) , and from [Wang, Vigan and Lacour (2021)](), [Hinkley, Lacour and Marleau (2023)](), [Currie, Brandt and Brandt (2023)](), and [Nielsen and Wahhaj (2023)]() otherwise. The ages were adopted from [Pecaut, Mamajek and Bubar (2012)](), [Bell, Mamajek and Naylor (2015)](), [Macintosh, Graham and Barman (2015)](), [Chauvin, Desidera and Lagrange (2017)](), [Müller, Keppler and Henning (2018)](), [Garufi, Benisty and Pinilla (2018)](), [ and Zuckerman (2019)](), [Miret-Roig, Galli and Brandner (2020)](), [Brandt, et. al (2021)](), and [Hinkley, Lacour and Marleau (2023)](). Systematic uncertainties on the ages (e.g., due to uncertain cluster membership) are not reflected by the error bars. (*fig:age_separation*)\n",
       "\n",
       "</div>\n",
       "<div id=\"div_fig3\">\n",
       "\n",
       "<img src=\"tmp_2507.06206/./fig_sed_planet.png\" alt=\"Fig11\" width=\"100%\"/>\n",
       "\n",
       "**Figure 11. -** Near-infrared spectral energy distribution of HD 135344 Ab. The black line shows the best-fit model spectrum from Sonora Diamondback, and the gray lines show 30 random samples from the posterior distribution, both shown at $R = 500$. The SPHERE/IFS and GRAVITY spectra are shown with circular markers, and the latter are downsampled for clarity. The SPHERE/IRDIS photometry is shown by square markers, with horizontal error bars indicating the FWHM of the corresponding filter profiles. The bottom panel shows the residuals of the best-fit model, calculated at the resolution and wavelength sampling of the data. (*fig:sed_planet*)\n",
       "\n",
       "</div><div id=\"qrcode\"><img src=https://api.qrserver.com/v1/create-qr-code/?size=100x100&data=\"https://arxiv.org/abs/2507.06206\"></div>"
      ],
      "text/plain": [
       "<IPython.core.display.Markdown object>"
      ]
     },
     "metadata": {},
     "output_type": "display_data"
    }
   ],
   "source": [
    "[display(Markdown(k[1])) for k in documents];"
   ]
  },
  {
   "cell_type": "markdown",
   "id": "873873a4",
   "metadata": {
    "papermill": {
     "duration": 0.005182,
     "end_time": "2025-07-09T04:28:21.731124",
     "exception": false,
     "start_time": "2025-07-09T04:28:21.725942",
     "status": "completed"
    },
    "tags": []
   },
   "source": [
    "# Create HTML index"
   ]
  },
  {
   "cell_type": "code",
   "execution_count": 10,
   "id": "cf665672",
   "metadata": {
    "execution": {
     "iopub.execute_input": "2025-07-09T04:28:21.742339Z",
     "iopub.status.busy": "2025-07-09T04:28:21.742111Z",
     "iopub.status.idle": "2025-07-09T04:28:21.749623Z",
     "shell.execute_reply": "2025-07-09T04:28:21.749090Z"
    },
    "papermill": {
     "duration": 0.014267,
     "end_time": "2025-07-09T04:28:21.750576",
     "exception": false,
     "start_time": "2025-07-09T04:28:21.736309",
     "status": "completed"
    },
    "tags": []
   },
   "outputs": [
    {
     "name": "stdout",
     "output_type": "stream",
     "text": [
      "137  publications files modified in the last 7 days.\n"
     ]
    }
   ],
   "source": [
    "from datetime import datetime, timedelta, timezone\n",
    "from glob import glob\n",
    "import os\n",
    "\n",
    "files = glob('_build/html/*.md')\n",
    "days = 7\n",
    "now = datetime.today()\n",
    "res = []\n",
    "for fk in files:\n",
    "    stat_result = os.stat(fk).st_ctime\n",
    "    modified = datetime.fromtimestamp(stat_result, tz=timezone.utc).replace(tzinfo=None)\n",
    "    delta = now.today() - modified\n",
    "    if delta <= timedelta(days=days):\n",
    "        res.append((delta.seconds, fk))\n",
    "res = [k[1] for k in reversed(sorted(res, key=lambda x:x[1]))]\n",
    "npub = len(res)\n",
    "print(len(res), f\" publications files modified in the last {days:d} days.\")\n",
    "# [ print('\\t', k) for k in res ];"
   ]
  },
  {
   "cell_type": "code",
   "execution_count": 11,
   "id": "015de740",
   "metadata": {
    "execution": {
     "iopub.execute_input": "2025-07-09T04:28:21.761872Z",
     "iopub.status.busy": "2025-07-09T04:28:21.761677Z",
     "iopub.status.idle": "2025-07-09T04:28:21.774081Z",
     "shell.execute_reply": "2025-07-09T04:28:21.773528Z"
    },
    "papermill": {
     "duration": 0.019193,
     "end_time": "2025-07-09T04:28:21.775097",
     "exception": false,
     "start_time": "2025-07-09T04:28:21.755904",
     "status": "completed"
    },
    "tags": []
   },
   "outputs": [
    {
     "name": "stdout",
     "output_type": "stream",
     "text": [
      "17  publications in the last 7 days.\n"
     ]
    }
   ],
   "source": [
    "import datetime\n",
    "from glob import glob\n",
    "\n",
    "def get_last_n_days(lst, days=1):\n",
    "    \"\"\" Get the documents from the last n days \"\"\"\n",
    "    sorted_lst = sorted(lst, key=lambda x: x[1], reverse=True)\n",
    "    for fname, date in sorted_lst:\n",
    "        if date >= str(datetime.date.today() - datetime.timedelta(days=days)):\n",
    "            yield fname\n",
    "\n",
    "def extract_appearance_dates(lst_file):\n",
    "    dates = []\n",
    "\n",
    "    def get_date(line):\n",
    "        return line\\\n",
    "            .split('Appeared on:')[-1]\\\n",
    "            .split('</mark>')[0].strip()\n",
    "\n",
    "    for fname in lst:\n",
    "        with open(fname, 'r') as f:\n",
    "            found_date = False\n",
    "            for line in f:\n",
    "                if not found_date:\n",
    "                    if \"Appeared on\" in line:\n",
    "                        found_date = True\n",
    "                        dates.append((fname, get_date(line)))\n",
    "                else:\n",
    "                    break\n",
    "    return dates\n",
    "\n",
    "from glob import glob\n",
    "lst = glob('_build/html/*md')\n",
    "days = 7\n",
    "dates = extract_appearance_dates(lst)\n",
    "res = list(get_last_n_days(dates, days))\n",
    "npub = len(res)\n",
    "print(len(res), f\" publications in the last {days:d} days.\")"
   ]
  },
  {
   "cell_type": "code",
   "execution_count": 12,
   "id": "52ca0208",
   "metadata": {
    "execution": {
     "iopub.execute_input": "2025-07-09T04:28:21.786844Z",
     "iopub.status.busy": "2025-07-09T04:28:21.786595Z",
     "iopub.status.idle": "2025-07-09T04:28:21.791718Z",
     "shell.execute_reply": "2025-07-09T04:28:21.791149Z"
    },
    "papermill": {
     "duration": 0.01223,
     "end_time": "2025-07-09T04:28:21.792740",
     "exception": false,
     "start_time": "2025-07-09T04:28:21.780510",
     "status": "completed"
    },
    "scrolled": false,
    "tags": []
   },
   "outputs": [],
   "source": [
    "def create_carousel(npub=4):\n",
    "    \"\"\" Generate the HTML code for a carousel with `npub` slides \"\"\"\n",
    "    carousel = [\"\"\"  <div class=\"carousel\" \"\"\",\n",
    "                \"\"\"       data-flickity='{ \"autoPlay\": 10000, \"adaptiveHeight\": true, \"resize\": true, \"wrapAround\": true, \"pauseAutoPlayOnHover\": true, \"groupCells\": 1 }' id=\"asyncTypeset\">\"\"\"\n",
    "                ]\n",
    "    \n",
    "    item_str = \"\"\"    <div class=\"carousel-cell\"> <div id=\"slide{k}\" class=\"md_view\">Content {k}</div> </div>\"\"\"\n",
    "    for k in range(1, npub + 1):\n",
    "        carousel.append(item_str.format(k=k))\n",
    "    carousel.append(\"  </div>\")\n",
    "    return '\\n'.join(carousel)\n",
    "\n",
    "def create_grid(npub=4):\n",
    "    \"\"\" Generate the HTML code for a flat grid with `npub` slides \"\"\"\n",
    "    grid = [\"\"\"  <div class=\"grid\"> \"\"\",\n",
    "                ]\n",
    "    \n",
    "    item_str = \"\"\"    <div class=\"grid-item\"> <div id=\"slide{k}\" class=\"md_view\">Content {k}</div> </div>\"\"\"\n",
    "    for k in range(1, npub + 1):\n",
    "        grid.append(item_str.format(k=k))\n",
    "    grid.append(\"  </div>\")\n",
    "    return '\\n'.join(grid)"
   ]
  },
  {
   "cell_type": "code",
   "execution_count": 13,
   "id": "a6eac5b6",
   "metadata": {
    "execution": {
     "iopub.execute_input": "2025-07-09T04:28:21.804693Z",
     "iopub.status.busy": "2025-07-09T04:28:21.804272Z",
     "iopub.status.idle": "2025-07-09T04:28:21.809467Z",
     "shell.execute_reply": "2025-07-09T04:28:21.808922Z"
    },
    "papermill": {
     "duration": 0.012117,
     "end_time": "2025-07-09T04:28:21.810399",
     "exception": false,
     "start_time": "2025-07-09T04:28:21.798282",
     "status": "completed"
    },
    "scrolled": false,
    "tags": []
   },
   "outputs": [],
   "source": [
    "carousel = create_carousel(npub)\n",
    "docs = ', '.join(['\"{0:s}\"'.format(k.split('/')[-1]) for k in res])\n",
    "slides = ', '.join([f'\"slide{k}\"' for k in range(1, npub + 1)])\n",
    "\n",
    "with open(\"daily_template.html\", \"r\") as tpl:\n",
    "    page = tpl.read()\n",
    "    page = page.replace(\"{%-- carousel:s --%}\", carousel)\\\n",
    "               .replace(\"{%-- suptitle:s --%}\",  \"7-day archives\" )\\\n",
    "               .replace(\"{%-- docs:s --%}\", docs)\\\n",
    "               .replace(\"{%-- slides:s --%}\", slides)\n",
    "    \n",
    "with open(\"_build/html/index_7days.html\", 'w') as fout:\n",
    "    fout.write(page)"
   ]
  },
  {
   "cell_type": "code",
   "execution_count": 14,
   "id": "adc1a1ec",
   "metadata": {
    "execution": {
     "iopub.execute_input": "2025-07-09T04:28:21.823724Z",
     "iopub.status.busy": "2025-07-09T04:28:21.823011Z",
     "iopub.status.idle": "2025-07-09T04:28:21.829916Z",
     "shell.execute_reply": "2025-07-09T04:28:21.829258Z"
    },
    "papermill": {
     "duration": 0.014575,
     "end_time": "2025-07-09T04:28:21.830917",
     "exception": false,
     "start_time": "2025-07-09T04:28:21.816342",
     "status": "completed"
    },
    "tags": []
   },
   "outputs": [
    {
     "name": "stdout",
     "output_type": "stream",
     "text": [
      "9  publications in the last day.\n"
     ]
    }
   ],
   "source": [
    "# redo for today\n",
    "days = 1\n",
    "res = list(get_last_n_days(dates, days))\n",
    "npub = len(res)\n",
    "print(len(res), f\" publications in the last day.\")\n",
    "\n",
    "carousel = create_carousel(npub)\n",
    "docs = ', '.join(['\"{0:s}\"'.format(k.split('/')[-1]) for k in res])\n",
    "slides = ', '.join([f'\"slide{k}\"' for k in range(1, npub + 1)])\n",
    "\n",
    "with open(\"daily_template.html\", \"r\") as tpl:\n",
    "    page = tpl.read()\n",
    "    page = page.replace(\"{%-- carousel:s --%}\", carousel)\\\n",
    "               .replace(\"{%-- suptitle:s --%}\",  \"Daily\" )\\\n",
    "               .replace(\"{%-- docs:s --%}\", docs)\\\n",
    "               .replace(\"{%-- slides:s --%}\", slides)\n",
    "    \n",
    "# print(carousel, docs, slides)\n",
    "# print(page)\n",
    "with open(\"_build/html/index_daily.html\", 'w') as fout:\n",
    "    fout.write(page)"
   ]
  },
  {
   "cell_type": "code",
   "execution_count": 15,
   "id": "00eece82",
   "metadata": {
    "execution": {
     "iopub.execute_input": "2025-07-09T04:28:21.842895Z",
     "iopub.status.busy": "2025-07-09T04:28:21.842652Z",
     "iopub.status.idle": "2025-07-09T04:28:21.849869Z",
     "shell.execute_reply": "2025-07-09T04:28:21.849271Z"
    },
    "papermill": {
     "duration": 0.014437,
     "end_time": "2025-07-09T04:28:21.850930",
     "exception": false,
     "start_time": "2025-07-09T04:28:21.836493",
     "status": "completed"
    },
    "scrolled": false,
    "tags": []
   },
   "outputs": [
    {
     "name": "stdout",
     "output_type": "stream",
     "text": [
      "6  6 publications selected.\n"
     ]
    }
   ],
   "source": [
    "# Create the flat grid of the last N papers (fixed number regardless of dates)\n",
    "from itertools import islice \n",
    "\n",
    "npub = 6\n",
    "res = [k[0] for k in (islice(reversed(sorted(dates, key=lambda x: x[1])), 6))]\n",
    "print(len(res), f\" {npub} publications selected.\")\n",
    "\n",
    "grid = create_grid(npub)\n",
    "docs = ', '.join(['\"{0:s}\"'.format(k.split('/')[-1]) for k in res])\n",
    "slides = ', '.join([f'\"slide{k}\"' for k in range(1, npub + 1)])\n",
    "\n",
    "with open(\"grid_template.html\", \"r\") as tpl:\n",
    "    page = tpl.read()\n",
    "    page = page.replace(\"{%-- grid-content:s --%}\", grid)\\\n",
    "               .replace(\"{%-- suptitle:s --%}\",  f\"Last {npub:,d} papers\" )\\\n",
    "               .replace(\"{%-- docs:s --%}\", docs)\\\n",
    "               .replace(\"{%-- slides:s --%}\", slides)\n",
    "    \n",
    "# print(grid, docs, slides)\n",
    "# print(page)\n",
    "with open(\"_build/html/index_npub_grid.html\", 'w') as fout:\n",
    "    fout.write(page)"
   ]
  }
 ],
 "metadata": {
  "kernelspec": {
   "display_name": "Python 3 (ipykernel)",
   "language": "python",
   "name": "python3"
  },
  "language_info": {
   "codemirror_mode": {
    "name": "ipython",
    "version": 3
   },
   "file_extension": ".py",
   "mimetype": "text/x-python",
   "name": "python",
   "nbconvert_exporter": "python",
   "pygments_lexer": "ipython3",
   "version": "3.9.23"
  },
  "papermill": {
   "default_parameters": {},
   "duration": 145.333617,
   "end_time": "2025-07-09T04:28:22.174397",
   "environment_variables": {},
   "exception": null,
   "input_path": "MPIA daily digest.ipynb",
   "output_path": "log.ipynb",
   "parameters": {},
   "start_time": "2025-07-09T04:25:56.840780",
   "version": "2.6.0"
  },
  "vscode": {
   "interpreter": {
    "hash": "aee8b7b246df8f9039afb4144a1f6fd8d2ca17a180786b69acc140d282b71a49"
   }
  },
  "widgets": {
   "application/vnd.jupyter.widget-state+json": {
    "state": {
     "40dd739a7fff4bcfbc07a4ee77816927": {
      "model_module": "@jupyter-widgets/base",
      "model_module_version": "2.0.0",
      "model_name": "LayoutModel",
      "state": {
       "_model_module": "@jupyter-widgets/base",
       "_model_module_version": "2.0.0",
       "_model_name": "LayoutModel",
       "_view_count": null,
       "_view_module": "@jupyter-widgets/base",
       "_view_module_version": "2.0.0",
       "_view_name": "LayoutView",
       "align_content": null,
       "align_items": null,
       "align_self": null,
       "border_bottom": null,
       "border_left": null,
       "border_right": null,
       "border_top": null,
       "bottom": null,
       "display": null,
       "flex": null,
       "flex_flow": null,
       "grid_area": null,
       "grid_auto_columns": null,
       "grid_auto_flow": null,
       "grid_auto_rows": null,
       "grid_column": null,
       "grid_gap": null,
       "grid_row": null,
       "grid_template_areas": null,
       "grid_template_columns": null,
       "grid_template_rows": null,
       "height": null,
       "justify_content": null,
       "justify_items": null,
       "left": null,
       "margin": null,
       "max_height": null,
       "max_width": null,
       "min_height": null,
       "min_width": null,
       "object_fit": null,
       "object_position": null,
       "order": null,
       "overflow": null,
       "padding": null,
       "right": null,
       "top": null,
       "visibility": null,
       "width": null
      }
     },
     "42ca867705984e2ebcd658321620c01e": {
      "model_module": "@jupyter-widgets/controls",
      "model_module_version": "2.0.0",
      "model_name": "HBoxModel",
      "state": {
       "_dom_classes": [],
       "_model_module": "@jupyter-widgets/controls",
       "_model_module_version": "2.0.0",
       "_model_name": "HBoxModel",
       "_view_count": null,
       "_view_module": "@jupyter-widgets/controls",
       "_view_module_version": "2.0.0",
       "_view_name": "HBoxView",
       "box_style": "",
       "children": [
        "IPY_MODEL_63dc390d354f4958ab1d195f3b388f41",
        "IPY_MODEL_a6a5c2e0491b4039980625f5992905d9",
        "IPY_MODEL_dd3233f5dc914c3cb626267c115aa754"
       ],
       "layout": "IPY_MODEL_82ccbec3db0d4e54b80a2591813421b0",
       "tabbable": null,
       "tooltip": null
      }
     },
     "5ddfbf1769234df092fb4ec093f88611": {
      "model_module": "@jupyter-widgets/controls",
      "model_module_version": "2.0.0",
      "model_name": "HTMLStyleModel",
      "state": {
       "_model_module": "@jupyter-widgets/controls",
       "_model_module_version": "2.0.0",
       "_model_name": "HTMLStyleModel",
       "_view_count": null,
       "_view_module": "@jupyter-widgets/base",
       "_view_module_version": "2.0.0",
       "_view_name": "StyleView",
       "background": null,
       "description_width": "",
       "font_size": null,
       "text_color": null
      }
     },
     "63dc390d354f4958ab1d195f3b388f41": {
      "model_module": "@jupyter-widgets/controls",
      "model_module_version": "2.0.0",
      "model_name": "HTMLModel",
      "state": {
       "_dom_classes": [],
       "_model_module": "@jupyter-widgets/controls",
       "_model_module_version": "2.0.0",
       "_model_name": "HTMLModel",
       "_view_count": null,
       "_view_module": "@jupyter-widgets/controls",
       "_view_module_version": "2.0.0",
       "_view_name": "HTMLView",
       "description": "",
       "description_allow_html": false,
       "layout": "IPY_MODEL_40dd739a7fff4bcfbc07a4ee77816927",
       "placeholder": "​",
       "style": "IPY_MODEL_9df5da6a596c4125a2b1f97ec487af52",
       "tabbable": null,
       "tooltip": null,
       "value": "100%"
      }
     },
     "82ccbec3db0d4e54b80a2591813421b0": {
      "model_module": "@jupyter-widgets/base",
      "model_module_version": "2.0.0",
      "model_name": "LayoutModel",
      "state": {
       "_model_module": "@jupyter-widgets/base",
       "_model_module_version": "2.0.0",
       "_model_name": "LayoutModel",
       "_view_count": null,
       "_view_module": "@jupyter-widgets/base",
       "_view_module_version": "2.0.0",
       "_view_name": "LayoutView",
       "align_content": null,
       "align_items": null,
       "align_self": null,
       "border_bottom": null,
       "border_left": null,
       "border_right": null,
       "border_top": null,
       "bottom": null,
       "display": null,
       "flex": null,
       "flex_flow": null,
       "grid_area": null,
       "grid_auto_columns": null,
       "grid_auto_flow": null,
       "grid_auto_rows": null,
       "grid_column": null,
       "grid_gap": null,
       "grid_row": null,
       "grid_template_areas": null,
       "grid_template_columns": null,
       "grid_template_rows": null,
       "height": null,
       "justify_content": null,
       "justify_items": null,
       "left": null,
       "margin": null,
       "max_height": null,
       "max_width": null,
       "min_height": null,
       "min_width": null,
       "object_fit": null,
       "object_position": null,
       "order": null,
       "overflow": null,
       "padding": null,
       "right": null,
       "top": null,
       "visibility": null,
       "width": null
      }
     },
     "9df5da6a596c4125a2b1f97ec487af52": {
      "model_module": "@jupyter-widgets/controls",
      "model_module_version": "2.0.0",
      "model_name": "HTMLStyleModel",
      "state": {
       "_model_module": "@jupyter-widgets/controls",
       "_model_module_version": "2.0.0",
       "_model_name": "HTMLStyleModel",
       "_view_count": null,
       "_view_module": "@jupyter-widgets/base",
       "_view_module_version": "2.0.0",
       "_view_name": "StyleView",
       "background": null,
       "description_width": "",
       "font_size": null,
       "text_color": null
      }
     },
     "a6a5c2e0491b4039980625f5992905d9": {
      "model_module": "@jupyter-widgets/controls",
      "model_module_version": "2.0.0",
      "model_name": "FloatProgressModel",
      "state": {
       "_dom_classes": [],
       "_model_module": "@jupyter-widgets/controls",
       "_model_module_version": "2.0.0",
       "_model_name": "FloatProgressModel",
       "_view_count": null,
       "_view_module": "@jupyter-widgets/controls",
       "_view_module_version": "2.0.0",
       "_view_name": "ProgressView",
       "bar_style": "success",
       "description": "",
       "description_allow_html": false,
       "layout": "IPY_MODEL_b7cce5f4cdce476c872cec4851d7c396",
       "max": 5.0,
       "min": 0.0,
       "orientation": "horizontal",
       "style": "IPY_MODEL_c9e165132a394ee380102f2b8bc6d62b",
       "tabbable": null,
       "tooltip": null,
       "value": 5.0
      }
     },
     "b7cce5f4cdce476c872cec4851d7c396": {
      "model_module": "@jupyter-widgets/base",
      "model_module_version": "2.0.0",
      "model_name": "LayoutModel",
      "state": {
       "_model_module": "@jupyter-widgets/base",
       "_model_module_version": "2.0.0",
       "_model_name": "LayoutModel",
       "_view_count": null,
       "_view_module": "@jupyter-widgets/base",
       "_view_module_version": "2.0.0",
       "_view_name": "LayoutView",
       "align_content": null,
       "align_items": null,
       "align_self": null,
       "border_bottom": null,
       "border_left": null,
       "border_right": null,
       "border_top": null,
       "bottom": null,
       "display": null,
       "flex": null,
       "flex_flow": null,
       "grid_area": null,
       "grid_auto_columns": null,
       "grid_auto_flow": null,
       "grid_auto_rows": null,
       "grid_column": null,
       "grid_gap": null,
       "grid_row": null,
       "grid_template_areas": null,
       "grid_template_columns": null,
       "grid_template_rows": null,
       "height": null,
       "justify_content": null,
       "justify_items": null,
       "left": null,
       "margin": null,
       "max_height": null,
       "max_width": null,
       "min_height": null,
       "min_width": null,
       "object_fit": null,
       "object_position": null,
       "order": null,
       "overflow": null,
       "padding": null,
       "right": null,
       "top": null,
       "visibility": null,
       "width": null
      }
     },
     "c9e165132a394ee380102f2b8bc6d62b": {
      "model_module": "@jupyter-widgets/controls",
      "model_module_version": "2.0.0",
      "model_name": "ProgressStyleModel",
      "state": {
       "_model_module": "@jupyter-widgets/controls",
       "_model_module_version": "2.0.0",
       "_model_name": "ProgressStyleModel",
       "_view_count": null,
       "_view_module": "@jupyter-widgets/base",
       "_view_module_version": "2.0.0",
       "_view_name": "StyleView",
       "bar_color": null,
       "description_width": ""
      }
     },
     "dd3233f5dc914c3cb626267c115aa754": {
      "model_module": "@jupyter-widgets/controls",
      "model_module_version": "2.0.0",
      "model_name": "HTMLModel",
      "state": {
       "_dom_classes": [],
       "_model_module": "@jupyter-widgets/controls",
       "_model_module_version": "2.0.0",
       "_model_name": "HTMLModel",
       "_view_count": null,
       "_view_module": "@jupyter-widgets/controls",
       "_view_module_version": "2.0.0",
       "_view_name": "HTMLView",
       "description": "",
       "description_allow_html": false,
       "layout": "IPY_MODEL_e9be246780894d7eb1a4b7fffc4a9b14",
       "placeholder": "​",
       "style": "IPY_MODEL_5ddfbf1769234df092fb4ec093f88611",
       "tabbable": null,
       "tooltip": null,
       "value": " 5/5 [01:59&lt;00:00, 26.79s/it]"
      }
     },
     "e9be246780894d7eb1a4b7fffc4a9b14": {
      "model_module": "@jupyter-widgets/base",
      "model_module_version": "2.0.0",
      "model_name": "LayoutModel",
      "state": {
       "_model_module": "@jupyter-widgets/base",
       "_model_module_version": "2.0.0",
       "_model_name": "LayoutModel",
       "_view_count": null,
       "_view_module": "@jupyter-widgets/base",
       "_view_module_version": "2.0.0",
       "_view_name": "LayoutView",
       "align_content": null,
       "align_items": null,
       "align_self": null,
       "border_bottom": null,
       "border_left": null,
       "border_right": null,
       "border_top": null,
       "bottom": null,
       "display": null,
       "flex": null,
       "flex_flow": null,
       "grid_area": null,
       "grid_auto_columns": null,
       "grid_auto_flow": null,
       "grid_auto_rows": null,
       "grid_column": null,
       "grid_gap": null,
       "grid_row": null,
       "grid_template_areas": null,
       "grid_template_columns": null,
       "grid_template_rows": null,
       "height": null,
       "justify_content": null,
       "justify_items": null,
       "left": null,
       "margin": null,
       "max_height": null,
       "max_width": null,
       "min_height": null,
       "min_width": null,
       "object_fit": null,
       "object_position": null,
       "order": null,
       "overflow": null,
       "padding": null,
       "right": null,
       "top": null,
       "visibility": null,
       "width": null
      }
     }
    },
    "version_major": 2,
    "version_minor": 0
   }
  }
 },
 "nbformat": 4,
 "nbformat_minor": 5
}