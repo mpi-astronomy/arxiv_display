{
 "cells": [
  {
   "cell_type": "markdown",
   "id": "92bcb855",
   "metadata": {
    "papermill": {
     "duration": 0.003601,
     "end_time": "2025-03-21T04:11:23.081931",
     "exception": false,
     "start_time": "2025-03-21T04:11:23.078330",
     "status": "completed"
    },
    "tags": []
   },
   "source": [
    "# MPIA Arxiv on Deck 2\n",
    "\n",
    "Contains the steps to produce the paper extractions."
   ]
  },
  {
   "cell_type": "code",
   "execution_count": 1,
   "id": "3a0d6e11",
   "metadata": {
    "execution": {
     "iopub.execute_input": "2025-03-21T04:11:23.088880Z",
     "iopub.status.busy": "2025-03-21T04:11:23.088506Z",
     "iopub.status.idle": "2025-03-21T04:11:23.574326Z",
     "shell.execute_reply": "2025-03-21T04:11:23.573612Z"
    },
    "papermill": {
     "duration": 0.49073,
     "end_time": "2025-03-21T04:11:23.575836",
     "exception": false,
     "start_time": "2025-03-21T04:11:23.085106",
     "status": "completed"
    },
    "tags": []
   },
   "outputs": [],
   "source": [
    "# Imports\n",
    "import os\n",
    "from IPython.display import Markdown, display\n",
    "from tqdm.notebook import tqdm\n",
    "import warnings\n",
    "from PIL import Image \n",
    "import re\n",
    "\n",
    "# requires arxiv_on_deck_2\n",
    "\n",
    "from arxiv_on_deck_2.arxiv2 import (get_new_papers, \n",
    "                                    get_paper_from_identifier,\n",
    "                                    retrieve_document_source, \n",
    "                                    get_markdown_badge)\n",
    "from arxiv_on_deck_2 import (latex,\n",
    "                             latex_bib,\n",
    "                             mpia,\n",
    "                             highlight_authors_in_list)\n",
    "\n",
    "# Sometimes images are really big\n",
    "Image.MAX_IMAGE_PIXELS = 1000000000 "
   ]
  },
  {
   "cell_type": "code",
   "execution_count": 2,
   "id": "22aa9d44",
   "metadata": {
    "execution": {
     "iopub.execute_input": "2025-03-21T04:11:23.583413Z",
     "iopub.status.busy": "2025-03-21T04:11:23.582777Z",
     "iopub.status.idle": "2025-03-21T04:11:23.590792Z",
     "shell.execute_reply": "2025-03-21T04:11:23.590169Z"
    },
    "papermill": {
     "duration": 0.012734,
     "end_time": "2025-03-21T04:11:23.591787",
     "exception": false,
     "start_time": "2025-03-21T04:11:23.579053",
     "status": "completed"
    },
    "tags": []
   },
   "outputs": [],
   "source": [
    "# Some useful definitions.\n",
    "\n",
    "class AffiliationWarning(UserWarning):\n",
    "    pass\n",
    "\n",
    "class AffiliationError(RuntimeError):\n",
    "    pass\n",
    "\n",
    "def validation(source: str):\n",
    "    \"\"\"Raises error paper during parsing of source file\n",
    "    \n",
    "    Allows checks before parsing TeX code.\n",
    "    \n",
    "    Raises AffiliationWarning\n",
    "    \"\"\"\n",
    "    check = mpia.affiliation_verifications(source, verbose=True)\n",
    "    if check is not True:\n",
    "        raise AffiliationError(\"mpia.affiliation_verifications: \" + check)\n",
    "\n",
    "        \n",
    "warnings.simplefilter('always', AffiliationWarning)\n",
    "\n",
    "\n",
    "def get_markdown_qrcode(paper_id: str):\n",
    "    \"\"\" Generate a qrcode to the arxiv page using qrserver.com\n",
    "    \n",
    "    :param paper: Arxiv paper\n",
    "    :returns: markdown text\n",
    "    \"\"\"\n",
    "    url = r\"https://api.qrserver.com/v1/create-qr-code/?size=100x100&data=\"\n",
    "    txt = f\"\"\"<img src={url}\"https://arxiv.org/abs/{paper_id}\">\"\"\"\n",
    "    txt = '<div id=\"qrcode\">' + txt + '</div>'\n",
    "    return txt\n",
    "\n",
    "\n",
    "def clean_non_western_encoded_characters_commands(text: str) -> str:\n",
    "    \"\"\" Remove non-western encoded characters from a string\n",
    "    List may need to grow.\n",
    "    \n",
    "    :param text: the text to clean\n",
    "    :return: the cleaned text\n",
    "    \"\"\"\n",
    "    text = re.sub(r\"(\\\\begin{CJK}{UTF8}{gbsn})(.*?)(\\\\end{CJK})\", r\"\\2\", text)\n",
    "    return text\n",
    "\n",
    "\n",
    "def get_initials(name: str) -> str:\n",
    "    \"\"\" Get the short name, e.g., A.-B. FamName\n",
    "    :param name: full name\n",
    "    :returns: initials\n",
    "    \"\"\"\n",
    "    initials = []\n",
    "    # account for non western names often in ()\n",
    "    if '(' in name:\n",
    "        name = clean_non_western_encoded_characters_commands(name)\n",
    "        suffix = re.findall(r\"\\((.*?)\\)\", name)[0]\n",
    "        name = name.replace(f\"({suffix})\", '')\n",
    "    else:\n",
    "        suffix = ''\n",
    "    split = name.split()\n",
    "    for token in split[:-1]:\n",
    "        if '-' in token:\n",
    "            current = '-'.join([k[0] + '.' for k in token.split('-')])\n",
    "        else:\n",
    "            current = token[0] + '.'\n",
    "        initials.append(current)\n",
    "    initials.append(split[-1].strip())\n",
    "    if suffix:\n",
    "        initials.append(f\"({suffix})\")\n",
    "    return ' '.join(initials)"
   ]
  },
  {
   "cell_type": "markdown",
   "id": "14bd6310",
   "metadata": {
    "papermill": {
     "duration": 0.002883,
     "end_time": "2025-03-21T04:11:23.597622",
     "exception": false,
     "start_time": "2025-03-21T04:11:23.594739",
     "status": "completed"
    },
    "tags": []
   },
   "source": [
    "## get list of arxiv paper candidates\n",
    "\n",
    "We use the MPIA mitarbeiter list webpage from mpia.de to get author names\n",
    "We then get all new papers from Arxiv and match authors"
   ]
  },
  {
   "cell_type": "code",
   "execution_count": 3,
   "id": "7ea813a8",
   "metadata": {
    "execution": {
     "iopub.execute_input": "2025-03-21T04:11:23.604463Z",
     "iopub.status.busy": "2025-03-21T04:11:23.604009Z",
     "iopub.status.idle": "2025-03-21T04:11:42.392569Z",
     "shell.execute_reply": "2025-03-21T04:11:42.391844Z"
    },
    "papermill": {
     "duration": 18.793307,
     "end_time": "2025-03-21T04:11:42.393847",
     "exception": false,
     "start_time": "2025-03-21T04:11:23.600540",
     "status": "completed"
    },
    "tags": []
   },
   "outputs": [],
   "source": [
    "# deal with the author list and edge cases of people that cannot be consistent on their name  \n",
    "\n",
    "def filter_non_scientists(name: str) -> bool:\n",
    "    \"\"\" Loose filter on expected authorships\n",
    "\n",
    "    removing IT, administration, technical staff\n",
    "    :param name: name\n",
    "    :returns: False if name is not a scientist\n",
    "    \"\"\"\n",
    "    remove_list = ['Licht', 'Binroth', 'Witzel', 'Jordan',\n",
    "                   'Zähringer', 'Scheerer', 'Hoffmann', 'Düe',\n",
    "                   'Hellmich', 'Enkler-Scharpegge', 'Witte-Nguy',\n",
    "                   'Dehen', 'Beckmann', 'Jager', 'Jäger'\n",
    "                  ]\n",
    "\n",
    "    for k in remove_list:\n",
    "        if k in name:\n",
    "            return False\n",
    "    return True\n",
    "\n",
    "def add_author_to_list(author_list: list) -> list:\n",
    "    \"\"\" Add author to list if not already in list\n",
    "    \n",
    "    :param author: author name\n",
    "    :param author_list: list of authors\n",
    "    :returns: updated list of authors\n",
    "    \"\"\"\n",
    "    add_list = ['T. Henning']\n",
    "\n",
    "    for author in add_list:\n",
    "        if author not in author_list:\n",
    "            author_list.append(author)\n",
    "    return author_list\n",
    "\n",
    "# get list from MPIA website\n",
    "# filter for non-scientists (mpia.get_mpia_mitarbeiter_list() does some filtering)\n",
    "mpia_authors = [k[1] for k in mpia.get_mpia_mitarbeiter_list() if filter_non_scientists(k[1])]\n",
    "# add some missing author because of inconsistencies in their MPIA name and author name on papers\n",
    "mpia_authors = add_author_to_list(mpia_authors)"
   ]
  },
  {
   "cell_type": "code",
   "execution_count": 4,
   "id": "2645e73a",
   "metadata": {
    "execution": {
     "iopub.execute_input": "2025-03-21T04:11:42.401177Z",
     "iopub.status.busy": "2025-03-21T04:11:42.400672Z",
     "iopub.status.idle": "2025-03-21T04:11:43.105457Z",
     "shell.execute_reply": "2025-03-21T04:11:43.104791Z"
    },
    "papermill": {
     "duration": 0.709396,
     "end_time": "2025-03-21T04:11:43.106469",
     "exception": false,
     "start_time": "2025-03-21T04:11:42.397073",
     "status": "completed"
    },
    "tags": []
   },
   "outputs": [
    {
     "name": "stdout",
     "output_type": "stream",
     "text": [
      "F. Walter  ->  F. Walter  |  ['F. Walter']\n",
      "K. Jahnke  ->  K. Jahnke  |  ['K. Jahnke']\n",
      "J. Li  ->  J. Li  |  ['J. Li']\n"
     ]
    },
    {
     "name": "stdout",
     "output_type": "stream",
     "text": [
      "K. El-Badry  ->  K. El-Badry  |  ['K. El-Badry']\n",
      "M. Schirmer  ->  M. Schirmer  |  ['M. Schirmer']\n",
      "K. Jahnke  ->  K. Jahnke  |  ['K. Jahnke']\n",
      "Arxiv has 75 new papers today\n",
      "          5 with possible author matches\n"
     ]
    }
   ],
   "source": [
    "new_papers = get_new_papers()\n",
    "# add manual references\n",
    "add_paper_refs = []\n",
    "new_papers.extend([get_paper_from_identifier(k) for k in add_paper_refs])\n",
    "\n",
    "def robust_call(fn, value, *args, **kwargs):\n",
    "    try:\n",
    "        return fn(value, *args, **kwargs)\n",
    "    except Exception:\n",
    "        return value\n",
    "\n",
    "candidates = []\n",
    "for paperk in new_papers:\n",
    "    # Check author list with their initials\n",
    "    normed_author_list = [robust_call(mpia.get_initials, k) for k in paperk['authors']]\n",
    "    hl_authors = highlight_authors_in_list(normed_author_list, mpia_authors, verbose=True)\n",
    "    matches = [(hl, orig) for hl, orig in zip(hl_authors, paperk['authors']) if 'mark' in hl]\n",
    "    paperk['authors'] = hl_authors\n",
    "    if matches:\n",
    "        # only select paper if an author matched our list\n",
    "        candidates.append(paperk)\n",
    "print(\"\"\"Arxiv has {0:,d} new papers today\"\"\".format(len(new_papers)))        \n",
    "print(\"\"\"          {0:,d} with possible author matches\"\"\".format(len(candidates)))"
   ]
  },
  {
   "cell_type": "markdown",
   "id": "3543b34a",
   "metadata": {
    "papermill": {
     "duration": 0.003043,
     "end_time": "2025-03-21T04:11:43.112969",
     "exception": false,
     "start_time": "2025-03-21T04:11:43.109926",
     "status": "completed"
    },
    "tags": []
   },
   "source": [
    "# Parse sources and generate relevant outputs\n",
    "\n",
    "From the candidates, we do the following steps:\n",
    "* get their tarball from ArXiv (and extract data)\n",
    "* find the main .tex file: find one with \\documentclass{...} (sometimes it's non trivial)\n",
    "* Check affiliations with :func:`validation`, which uses :func:`mpia.affiliation_verifications`\n",
    "* If passing the affiliations: we parse the .tex source\n",
    "   * inject sub-documents into the main (flatten the main document)\n",
    "   * parse structure, extract information (title, abstract, authors, figures...)\n",
    "   * handles `\\graphicspath` if provided\n",
    "* Generate the .md document."
   ]
  },
  {
   "cell_type": "code",
   "execution_count": 5,
   "id": "9576b79e",
   "metadata": {
    "execution": {
     "iopub.execute_input": "2025-03-21T04:11:43.120047Z",
     "iopub.status.busy": "2025-03-21T04:11:43.119683Z",
     "iopub.status.idle": "2025-03-21T04:14:30.899621Z",
     "shell.execute_reply": "2025-03-21T04:14:30.898862Z"
    },
    "papermill": {
     "duration": 167.789068,
     "end_time": "2025-03-21T04:14:30.905059",
     "exception": false,
     "start_time": "2025-03-21T04:11:43.115991",
     "status": "completed"
    },
    "scrolled": false,
    "tags": []
   },
   "outputs": [
    {
     "data": {
      "application/vnd.jupyter.widget-view+json": {
       "model_id": "4fda0e8668bc45edb1118c4fe2997746",
       "version_major": 2,
       "version_minor": 0
      },
      "text/plain": [
       "  0%|          | 0/5 [00:00<?, ?it/s]"
      ]
     },
     "metadata": {},
     "output_type": "display_data"
    },
    {
     "name": "stdout",
     "output_type": "stream",
     "text": [
      "Retrieving document from  https://arxiv.org/e-print/2503.15594\n"
     ]
    },
    {
     "name": "stdout",
     "output_type": "stream",
     "text": [
      "extracting tarball to tmp_2503.15594..."
     ]
    },
    {
     "name": "stdout",
     "output_type": "stream",
     "text": [
      " done.\n"
     ]
    },
    {
     "name": "stderr",
     "output_type": "stream",
     "text": [
      "/opt/hostedtoolcache/Python/3.9.21/x64/lib/python3.9/site-packages/IPython/core/interactiveshell.py:3550: LatexWarning: Multiple tex files.\n",
      "\n",
      "  exec(code_obj, self.user_global_ns, self.user_ns)\n",
      "/opt/hostedtoolcache/Python/3.9.21/x64/lib/python3.9/site-packages/IPython/core/interactiveshell.py:3550: LatexWarning: Found documentclass in tmp_2503.15594/midisngdeep_zgt14.tex\n",
      "\n",
      "  exec(code_obj, self.user_global_ns, self.user_ns)\n",
      "/opt/hostedtoolcache/Python/3.9.21/x64/lib/python3.9/site-packages/arxiv_on_deck_2/latex.py:414: LatexWarning: Latex injecting: 'appendixA' from 'tmp_2503.15594/appendixA.tex'\n",
      "  warnings.warn(LatexWarning(f\"Latex injecting: '{ext}' from '{subsource}'\"))\n",
      "/opt/hostedtoolcache/Python/3.9.21/x64/lib/python3.9/site-packages/arxiv_on_deck_2/latex.py:414: LatexWarning: Latex injecting: 'fig8' from 'tmp_2503.15594/fig8.tex'\n",
      "  warnings.warn(LatexWarning(f\"Latex injecting: '{ext}' from '{subsource}'\"))\n",
      "/opt/hostedtoolcache/Python/3.9.21/x64/lib/python3.9/site-packages/arxiv_on_deck_2/latex.py:414: LatexWarning: Latex injecting: 'table_physicalprops_v7' from 'tmp_2503.15594/table_physicalprops_v7.tex'\n",
      "  warnings.warn(LatexWarning(f\"Latex injecting: '{ext}' from '{subsource}'\"))\n",
      "/opt/hostedtoolcache/Python/3.9.21/x64/lib/python3.9/site-packages/arxiv_on_deck_2/latex.py:414: LatexWarning: Latex injecting: 'fig7' from 'tmp_2503.15594/fig7.tex'\n",
      "  warnings.warn(LatexWarning(f\"Latex injecting: '{ext}' from '{subsource}'\"))\n",
      "/opt/hostedtoolcache/Python/3.9.21/x64/lib/python3.9/site-packages/arxiv_on_deck_2/latex.py:414: LatexWarning: Latex injecting: 'fig6b' from 'tmp_2503.15594/fig6b.tex'\n",
      "  warnings.warn(LatexWarning(f\"Latex injecting: '{ext}' from '{subsource}'\"))\n",
      "/opt/hostedtoolcache/Python/3.9.21/x64/lib/python3.9/site-packages/arxiv_on_deck_2/latex.py:414: LatexWarning: Latex injecting: 'fig6a' from 'tmp_2503.15594/fig6a.tex'\n",
      "  warnings.warn(LatexWarning(f\"Latex injecting: '{ext}' from '{subsource}'\"))\n",
      "/opt/hostedtoolcache/Python/3.9.21/x64/lib/python3.9/site-packages/arxiv_on_deck_2/latex.py:414: LatexWarning: Latex injecting: 'table_schechter_v3' from 'tmp_2503.15594/table_schechter_v3.tex'\n",
      "  warnings.warn(LatexWarning(f\"Latex injecting: '{ext}' from '{subsource}'\"))\n",
      "/opt/hostedtoolcache/Python/3.9.21/x64/lib/python3.9/site-packages/arxiv_on_deck_2/latex.py:414: LatexWarning: Latex injecting: 'fig5' from 'tmp_2503.15594/fig5.tex'\n",
      "  warnings.warn(LatexWarning(f\"Latex injecting: '{ext}' from '{subsource}'\"))\n",
      "/opt/hostedtoolcache/Python/3.9.21/x64/lib/python3.9/site-packages/arxiv_on_deck_2/latex.py:414: LatexWarning: Latex injecting: 'fig4' from 'tmp_2503.15594/fig4.tex'\n",
      "  warnings.warn(LatexWarning(f\"Latex injecting: '{ext}' from '{subsource}'\"))\n",
      "/opt/hostedtoolcache/Python/3.9.21/x64/lib/python3.9/site-packages/arxiv_on_deck_2/latex.py:414: LatexWarning: Latex injecting: 'fig3' from 'tmp_2503.15594/fig3.tex'\n",
      "  warnings.warn(LatexWarning(f\"Latex injecting: '{ext}' from '{subsource}'\"))\n",
      "/opt/hostedtoolcache/Python/3.9.21/x64/lib/python3.9/site-packages/arxiv_on_deck_2/latex.py:414: LatexWarning: Latex injecting: 'fig2' from 'tmp_2503.15594/fig2.tex'\n",
      "  warnings.warn(LatexWarning(f\"Latex injecting: '{ext}' from '{subsource}'\"))\n",
      "/opt/hostedtoolcache/Python/3.9.21/x64/lib/python3.9/site-packages/arxiv_on_deck_2/latex.py:414: LatexWarning: Latex injecting: 'table_sample_v3' from 'tmp_2503.15594/table_sample_v3.tex'\n",
      "  warnings.warn(LatexWarning(f\"Latex injecting: '{ext}' from '{subsource}'\"))\n",
      "/opt/hostedtoolcache/Python/3.9.21/x64/lib/python3.9/site-packages/arxiv_on_deck_2/latex.py:414: LatexWarning: Latex injecting: 'table_data' from 'tmp_2503.15594/table_data.tex'\n",
      "  warnings.warn(LatexWarning(f\"Latex injecting: '{ext}' from '{subsource}'\"))\n",
      "/opt/hostedtoolcache/Python/3.9.21/x64/lib/python3.9/site-packages/arxiv_on_deck_2/latex.py:414: LatexWarning: Latex injecting: 'fig1' from 'tmp_2503.15594/fig1.tex'\n",
      "  warnings.warn(LatexWarning(f\"Latex injecting: '{ext}' from '{subsource}'\"))\n"
     ]
    },
    {
     "name": "stdout",
     "output_type": "stream",
     "text": [
      "F. Walter  ->  F. Walter  |  ['F. Walter']\n"
     ]
    },
    {
     "name": "stdout",
     "output_type": "stream",
     "text": [
      "Found 107 bibliographic references in tmp_2503.15594/midisngdeep_zgt14.bbl.\n",
      "Retrieving document from  https://arxiv.org/e-print/2503.15635\n"
     ]
    },
    {
     "name": "stdout",
     "output_type": "stream",
     "text": [
      "extracting tarball to tmp_2503.15635..."
     ]
    },
    {
     "name": "stdout",
     "output_type": "stream",
     "text": [
      " done.\n"
     ]
    },
    {
     "name": "stderr",
     "output_type": "stream",
     "text": [
      "/opt/hostedtoolcache/Python/3.9.21/x64/lib/python3.9/site-packages/IPython/core/interactiveshell.py:3550: LatexWarning: Multiple tex files.\n",
      "\n",
      "  exec(code_obj, self.user_global_ns, self.user_ns)\n",
      "/opt/hostedtoolcache/Python/3.9.21/x64/lib/python3.9/site-packages/IPython/core/interactiveshell.py:3550: LatexWarning: Found documentclass in tmp_2503.15635/aanda.tex\n",
      "\n",
      "  exec(code_obj, self.user_global_ns, self.user_ns)\n",
      "/opt/hostedtoolcache/Python/3.9.21/x64/lib/python3.9/site-packages/arxiv_on_deck_2/latex.py:414: LatexWarning: Latex injecting: 'tbl_apdx_murhosigma_comp_fitting_no_priors' from 'tmp_2503.15635/tbl_apdx_murhosigma_comp_fitting_no_priors.tex'\n",
      "  warnings.warn(LatexWarning(f\"Latex injecting: '{ext}' from '{subsource}'\"))\n",
      "/opt/hostedtoolcache/Python/3.9.21/x64/lib/python3.9/site-packages/arxiv_on_deck_2/latex.py:414: LatexWarning: Latex injecting: 'tbl_apdx_murhosigma_comp_fitting_with_priors' from 'tmp_2503.15635/tbl_apdx_murhosigma_comp_fitting_with_priors.tex'\n",
      "  warnings.warn(LatexWarning(f\"Latex injecting: '{ext}' from '{subsource}'\"))\n",
      "/opt/hostedtoolcache/Python/3.9.21/x64/lib/python3.9/site-packages/arxiv_on_deck_2/latex.py:414: LatexWarning: Latex injecting: 'tbl_murhosigma_comp_fitting_no_priors' from 'tmp_2503.15635/tbl_murhosigma_comp_fitting_no_priors.tex'\n",
      "  warnings.warn(LatexWarning(f\"Latex injecting: '{ext}' from '{subsource}'\"))\n",
      "/opt/hostedtoolcache/Python/3.9.21/x64/lib/python3.9/site-packages/arxiv_on_deck_2/latex.py:414: LatexWarning: Latex injecting: 'tbl_murhosigma_comp_fitting_with_priors' from 'tmp_2503.15635/tbl_murhosigma_comp_fitting_with_priors.tex'\n",
      "  warnings.warn(LatexWarning(f\"Latex injecting: '{ext}' from '{subsource}'\"))\n",
      "/opt/hostedtoolcache/Python/3.9.21/x64/lib/python3.9/site-packages/arxiv_on_deck_2/latex.py:414: LatexWarning: Latex injecting: 'tbl-fitting_params' from 'tmp_2503.15635/tbl-fitting_params.tex'\n",
      "  warnings.warn(LatexWarning(f\"Latex injecting: '{ext}' from '{subsource}'\"))\n",
      "/opt/hostedtoolcache/Python/3.9.21/x64/lib/python3.9/site-packages/arxiv_on_deck_2/latex.py:414: LatexWarning: Latex injecting: 'tbl-image_processing' from 'tmp_2503.15635/tbl-image_processing.tex'\n",
      "  warnings.warn(LatexWarning(f\"Latex injecting: '{ext}' from '{subsource}'\"))\n",
      "/opt/hostedtoolcache/Python/3.9.21/x64/lib/python3.9/site-packages/arxiv_on_deck_2/latex.py:414: LatexWarning: Latex injecting: 'tbl-images' from 'tmp_2503.15635/tbl-images.tex'\n",
      "  warnings.warn(LatexWarning(f\"Latex injecting: '{ext}' from '{subsource}'\"))\n",
      "/opt/hostedtoolcache/Python/3.9.21/x64/lib/python3.9/site-packages/arxiv_on_deck_2/latex.py:414: LatexWarning: Latex injecting: 'newcommands' from 'tmp_2503.15635/newcommands.tex'\n",
      "  warnings.warn(LatexWarning(f\"Latex injecting: '{ext}' from '{subsource}'\"))\n"
     ]
    },
    {
     "name": "stderr",
     "output_type": "stream",
     "text": [
      "/opt/hostedtoolcache/Python/3.9.21/x64/lib/python3.9/site-packages/arxiv_on_deck_2/latex.py:132: LatexWarning: attempting recovering figure empty.eps\n",
      "  warnings.warn(LatexWarning(f'attempting recovering figure {image}'))\n",
      "/opt/hostedtoolcache/Python/3.9.21/x64/lib/python3.9/site-packages/arxiv_on_deck_2/latex.py:707: LatexWarning: Could not find graphic \\includegraphics[width=\\hsize]{empty.eps}\n",
      "  warnings.warn(LatexWarning(f\"Could not find graphic {k}\"))\n",
      "/opt/hostedtoolcache/Python/3.9.21/x64/lib/python3.9/site-packages/arxiv_on_deck_2/latex.py:132: LatexWarning: attempting recovering figure empty.eps\n",
      "  warnings.warn(LatexWarning(f'attempting recovering figure {image}'))\n",
      "/opt/hostedtoolcache/Python/3.9.21/x64/lib/python3.9/site-packages/arxiv_on_deck_2/latex.py:707: LatexWarning: Could not find graphic \\includegraphics[angle=-90,width=3cm]{empty.eps}\n",
      "  warnings.warn(LatexWarning(f\"Could not find graphic {k}\"))\n",
      "/opt/hostedtoolcache/Python/3.9.21/x64/lib/python3.9/site-packages/arxiv_on_deck_2/latex.py:132: LatexWarning: attempting recovering figure empty.eps\n",
      "  warnings.warn(LatexWarning(f'attempting recovering figure {image}'))\n",
      "/opt/hostedtoolcache/Python/3.9.21/x64/lib/python3.9/site-packages/arxiv_on_deck_2/latex.py:707: LatexWarning: Could not find graphic \\includegraphics[width=3cm]{empty.eps}\n",
      "  warnings.warn(LatexWarning(f\"Could not find graphic {k}\"))\n",
      "/opt/hostedtoolcache/Python/3.9.21/x64/lib/python3.9/site-packages/arxiv_on_deck_2/latex.py:132: LatexWarning: attempting recovering figure empty.eps\n",
      "  warnings.warn(LatexWarning(f'attempting recovering figure {image}'))\n",
      "/opt/hostedtoolcache/Python/3.9.21/x64/lib/python3.9/site-packages/arxiv_on_deck_2/latex.py:707: LatexWarning: Could not find graphic \\includegraphics[bb=10 20 100 300,width=3cm,clip]{empty.eps}\n",
      "  warnings.warn(LatexWarning(f\"Could not find graphic {k}\"))\n",
      "/opt/hostedtoolcache/Python/3.9.21/x64/lib/python3.9/site-packages/arxiv_on_deck_2/latex.py:132: LatexWarning: attempting recovering figure empty.eps\n",
      "  warnings.warn(LatexWarning(f'attempting recovering figure {image}'))\n",
      "/opt/hostedtoolcache/Python/3.9.21/x64/lib/python3.9/site-packages/arxiv_on_deck_2/latex.py:707: LatexWarning: Could not find graphic \\includegraphics[bb=10 20 100 300,clip]{empty.eps}\n",
      "  warnings.warn(LatexWarning(f\"Could not find graphic {k}\"))\n",
      "/opt/hostedtoolcache/Python/3.9.21/x64/lib/python3.9/site-packages/arxiv_on_deck_2/latex.py:132: LatexWarning: attempting recovering figure empty.eps\n",
      "  warnings.warn(LatexWarning(f'attempting recovering figure {image}'))\n",
      "/opt/hostedtoolcache/Python/3.9.21/x64/lib/python3.9/site-packages/arxiv_on_deck_2/latex.py:707: LatexWarning: Could not find graphic \\includegraphics[bb=10 20 100 300,clip]{empty.eps}\n",
      "  warnings.warn(LatexWarning(f\"Could not find graphic {k}\"))\n",
      "/opt/hostedtoolcache/Python/3.9.21/x64/lib/python3.9/site-packages/arxiv_on_deck_2/latex.py:132: LatexWarning: attempting recovering figure 1787f23.eps\n",
      "  warnings.warn(LatexWarning(f'attempting recovering figure {image}'))\n",
      "/opt/hostedtoolcache/Python/3.9.21/x64/lib/python3.9/site-packages/arxiv_on_deck_2/latex.py:707: LatexWarning: Could not find graphic \\includegraphics[width=10.9cm]{1787f23.eps}\n",
      "  warnings.warn(LatexWarning(f\"Could not find graphic {k}\"))\n",
      "/opt/hostedtoolcache/Python/3.9.21/x64/lib/python3.9/site-packages/arxiv_on_deck_2/latex.py:132: LatexWarning: attempting recovering figure 1787f24.ps\n",
      "  warnings.warn(LatexWarning(f'attempting recovering figure {image}'))\n",
      "/opt/hostedtoolcache/Python/3.9.21/x64/lib/python3.9/site-packages/arxiv_on_deck_2/latex.py:707: LatexWarning: Could not find graphic \\includegraphics[width=16.4cm,clip]{1787f24.ps}\n",
      "  warnings.warn(LatexWarning(f\"Could not find graphic {k}\"))\n"
     ]
    },
    {
     "name": "stderr",
     "output_type": "stream",
     "text": [
      "/opt/hostedtoolcache/Python/3.9.21/x64/lib/python3.9/site-packages/arxiv_on_deck_2/latex.py:132: LatexWarning: attempting recovering figure empty.eps\n",
      "  warnings.warn(LatexWarning(f'attempting recovering figure {image}'))\n",
      "/opt/hostedtoolcache/Python/3.9.21/x64/lib/python3.9/site-packages/arxiv_on_deck_2/latex.py:707: LatexWarning: Could not find graphic \\includegraphics[bb=10 20 100 300,clip]{empty.eps}\n",
      "  warnings.warn(LatexWarning(f\"Could not find graphic {k}\"))\n",
      "/opt/hostedtoolcache/Python/3.9.21/x64/lib/python3.9/site-packages/arxiv_on_deck_2/latex.py:132: LatexWarning: attempting recovering figure 1787f23.eps\n",
      "  warnings.warn(LatexWarning(f'attempting recovering figure {image}'))\n",
      "/opt/hostedtoolcache/Python/3.9.21/x64/lib/python3.9/site-packages/arxiv_on_deck_2/latex.py:707: LatexWarning: Could not find graphic \\includegraphics[width=10.9cm]{1787f23.eps}\n",
      "  warnings.warn(LatexWarning(f\"Could not find graphic {k}\"))\n",
      "/opt/hostedtoolcache/Python/3.9.21/x64/lib/python3.9/site-packages/arxiv_on_deck_2/latex.py:132: LatexWarning: attempting recovering figure 1787f24.ps\n",
      "  warnings.warn(LatexWarning(f'attempting recovering figure {image}'))\n",
      "/opt/hostedtoolcache/Python/3.9.21/x64/lib/python3.9/site-packages/arxiv_on_deck_2/latex.py:707: LatexWarning: Could not find graphic \\includegraphics[width=16.4cm,clip]{1787f24.ps}\n",
      "  warnings.warn(LatexWarning(f\"Could not find graphic {k}\"))\n",
      "/opt/hostedtoolcache/Python/3.9.21/x64/lib/python3.9/site-packages/arxiv_on_deck_2/latex.py:132: LatexWarning: attempting recovering figure 1787f23.eps\n",
      "  warnings.warn(LatexWarning(f'attempting recovering figure {image}'))\n",
      "/opt/hostedtoolcache/Python/3.9.21/x64/lib/python3.9/site-packages/arxiv_on_deck_2/latex.py:707: LatexWarning: Could not find graphic \\includegraphics[width=10.9cm]{1787f23.eps}\n",
      "  warnings.warn(LatexWarning(f\"Could not find graphic {k}\"))\n",
      "/opt/hostedtoolcache/Python/3.9.21/x64/lib/python3.9/site-packages/arxiv_on_deck_2/latex.py:132: LatexWarning: attempting recovering figure 1787f24.ps\n",
      "  warnings.warn(LatexWarning(f'attempting recovering figure {image}'))\n",
      "/opt/hostedtoolcache/Python/3.9.21/x64/lib/python3.9/site-packages/arxiv_on_deck_2/latex.py:707: LatexWarning: Could not find graphic \\includegraphics[width=16.4cm,clip]{1787f24.ps}\n",
      "  warnings.warn(LatexWarning(f\"Could not find graphic {k}\"))\n"
     ]
    },
    {
     "name": "stdout",
     "output_type": "stream",
     "text": [
      "Found 124 bibliographic references in tmp_2503.15635/aanda.bbl.\n",
      "Retrieving document from  https://arxiv.org/e-print/2503.16145\n"
     ]
    },
    {
     "name": "stdout",
     "output_type": "stream",
     "text": [
      "extracting tarball to tmp_2503.16145..."
     ]
    },
    {
     "name": "stdout",
     "output_type": "stream",
     "text": [
      " done.\n",
      "  2: tmp_2503.16145/aassymbols.tex, 579 lines\n",
      "  3: tmp_2503.16145/paper2.tex, 882 lines\n",
      "Retrieving document from  https://arxiv.org/e-print/2503.16204\n"
     ]
    },
    {
     "name": "stderr",
     "output_type": "stream",
     "text": [
      "/opt/hostedtoolcache/Python/3.9.21/x64/lib/python3.9/site-packages/IPython/core/interactiveshell.py:3550: LatexWarning: Multiple tex files.\n",
      "\n",
      "  exec(code_obj, self.user_global_ns, self.user_ns)\n",
      "/opt/hostedtoolcache/Python/3.9.21/x64/lib/python3.9/site-packages/IPython/core/interactiveshell.py:3550: LatexWarning: Found 2 candidates with documentclass definition.\n",
      "  exec(code_obj, self.user_global_ns, self.user_ns)\n",
      "/opt/hostedtoolcache/Python/3.9.21/x64/lib/python3.9/site-packages/IPython/core/interactiveshell.py:3550: LatexWarning: Assuming tmp_2503.16145/paper2.tex as main document.\n",
      "  exec(code_obj, self.user_global_ns, self.user_ns)\n",
      "/opt/hostedtoolcache/Python/3.9.21/x64/lib/python3.9/site-packages/arxiv_on_deck_2/latex.py:414: LatexWarning: Latex injecting: 'the_parameters_of_C18O_clumps' from 'tmp_2503.16145/the_parameters_of_C18O_clumps.tex'\n",
      "  warnings.warn(LatexWarning(f\"Latex injecting: '{ext}' from '{subsource}'\"))\n",
      "/opt/hostedtoolcache/Python/3.9.21/x64/lib/python3.9/site-packages/arxiv_on_deck_2/latex.py:414: LatexWarning: Latex injecting: 'the_parameters_of_13CO_clumps' from 'tmp_2503.16145/the_parameters_of_13CO_clumps.tex'\n",
      "  warnings.warn(LatexWarning(f\"Latex injecting: '{ext}' from '{subsource}'\"))\n",
      "/opt/hostedtoolcache/Python/3.9.21/x64/lib/python3.9/site-packages/arxiv_on_deck_2/latex.py:414: LatexWarning: Latex injecting: 'the_parameters_of_12CO_clumps' from 'tmp_2503.16145/the_parameters_of_12CO_clumps.tex'\n",
      "  warnings.warn(LatexWarning(f\"Latex injecting: '{ext}' from '{subsource}'\"))\n"
     ]
    },
    {
     "name": "stdout",
     "output_type": "stream",
     "text": [
      "extracting tarball to tmp_2503.16204..."
     ]
    },
    {
     "name": "stdout",
     "output_type": "stream",
     "text": [
      " done.\n",
      "Retrieving document from  https://arxiv.org/e-print/2503.16367\n"
     ]
    },
    {
     "name": "stdout",
     "output_type": "stream",
     "text": [
      "extracting tarball to tmp_2503.16367..."
     ]
    },
    {
     "name": "stdout",
     "output_type": "stream",
     "text": [
      " done.\n"
     ]
    },
    {
     "name": "stdout",
     "output_type": "stream",
     "text": [
      "Found 96 bibliographic references in tmp_2503.16367/main.bbl.\n",
      "Issues with the citations\n",
      "syntax error in line 88: '=' expected\n"
     ]
    }
   ],
   "source": [
    "documents = []\n",
    "failed = []\n",
    "for paper in tqdm(candidates):\n",
    "    # debug crap\n",
    "    paper['identifier'] = paper['identifier'].lower().replace('arxiv:', '').replace(r'\\n', '').strip()\n",
    "    paper_id = paper['identifier']\n",
    "    \n",
    "    folder = f'tmp_{paper_id}'\n",
    "\n",
    "    try:\n",
    "        if not os.path.isdir(folder):\n",
    "            folder = retrieve_document_source(f\"{paper_id}\", f'tmp_{paper_id}')\n",
    "        \n",
    "        try:\n",
    "            doc = latex.LatexDocument(folder, validation=validation)    \n",
    "        except AffiliationError as affilerror:\n",
    "            msg = f\"ArXiv:{paper_id:s} is not an MPIA paper... \" + str(affilerror)\n",
    "            failed.append((paper, \"affiliation error: \" + str(affilerror) ))\n",
    "            continue\n",
    "        \n",
    "        # Hack because sometimes author parsing does not work well\n",
    "        if (len(doc.authors) != len(paper['authors'])):\n",
    "            doc._authors = paper['authors']\n",
    "        else:\n",
    "            # highlight authors (FIXME: doc.highlight_authors)\n",
    "            # done on arxiv paper already\n",
    "            doc._authors = highlight_authors_in_list(\n",
    "                [get_initials(k) for k in doc.authors], \n",
    "                mpia_authors, verbose=True)\n",
    "        if (doc.abstract) in (None, ''):\n",
    "            doc._abstract = paper['abstract']\n",
    "            \n",
    "        doc.comment = (get_markdown_badge(paper_id) + \n",
    "                       \"<mark>Appeared on: \" + paper['date'] + \"</mark> - \")\n",
    "        if paper['comments']:\n",
    "            doc.comment += \" _\" + paper['comments'] + \"_\"\n",
    "        \n",
    "        full_md = doc.generate_markdown_text()\n",
    "        \n",
    "        full_md += get_markdown_qrcode(paper_id)\n",
    "        \n",
    "        # replace citations\n",
    "        try:\n",
    "            bibdata = latex_bib.LatexBib.from_doc(doc)\n",
    "            full_md = latex_bib.replace_citations(full_md, bibdata)\n",
    "        except Exception as e:\n",
    "            print(\"Issues with the citations\")\n",
    "            print(e)\n",
    "        \n",
    "        documents.append((paper_id, full_md))\n",
    "    except Exception as e:\n",
    "        warnings.warn(latex.LatexWarning(f\"{paper_id:s} did not run properly\\n\" +\n",
    "                                         str(e)\n",
    "                                        ))\n",
    "        failed.append((paper, \"latex error \" + str(e)))"
   ]
  },
  {
   "cell_type": "markdown",
   "id": "2505a25c",
   "metadata": {
    "papermill": {
     "duration": 0.004197,
     "end_time": "2025-03-21T04:14:30.913636",
     "exception": false,
     "start_time": "2025-03-21T04:14:30.909439",
     "status": "completed"
    },
    "tags": []
   },
   "source": [
    "### Export the logs\n",
    "\n",
    "Throughout, we also keep track of the logs per paper. see `logs-{today date}.md` "
   ]
  },
  {
   "cell_type": "code",
   "execution_count": 6,
   "id": "d733828a",
   "metadata": {
    "execution": {
     "iopub.execute_input": "2025-03-21T04:14:30.922982Z",
     "iopub.status.busy": "2025-03-21T04:14:30.922779Z",
     "iopub.status.idle": "2025-03-21T04:14:30.938950Z",
     "shell.execute_reply": "2025-03-21T04:14:30.938342Z"
    },
    "papermill": {
     "duration": 0.022093,
     "end_time": "2025-03-21T04:14:30.939925",
     "exception": false,
     "start_time": "2025-03-21T04:14:30.917832",
     "status": "completed"
    },
    "scrolled": false,
    "tags": []
   },
   "outputs": [
    {
     "data": {
      "text/markdown": [
       "## Successful papers"
      ],
      "text/plain": [
       "<IPython.core.display.Markdown object>"
      ]
     },
     "metadata": {},
     "output_type": "display_data"
    },
    {
     "data": {
      "text/markdown": [
       "\n",
       "|||\n",
       "|---:|:---|\n",
       "| [![arXiv](https://img.shields.io/badge/arXiv-2503.15594-b31b1b.svg)](https://arxiv.org/abs/2503.15594) | **The rise of the galactic empire: luminosity functions at $z\\sim17$ and $z\\sim25$ estimated with the MIDIS$+$NGDEEP ultra-deep JWST/NIRCam dataset**  |\n",
       "|| P. G. Pérez-González, et al. -- incl., <mark>F. Walter</mark> |\n",
       "|*Appeared on*| *2025-03-21*|\n",
       "|*Comments*| *Submitted to ApJ. Comments welcome*|\n",
       "|**Abstract**|            We present a sample of six F200W and three F277W dropout sources identified as $16<z<25$ galaxy candidates based on the deepest JWST/NIRCam data to date, provided by the MIRI Deep Imaging Survey (MIDIS) and the Next Generation Deep Extragalactic Exploratory Public survey (NGDEEP), reaching 5$\\sigma$ depths of $\\sim31.5$ mag (AB) at $\\geq2$ $\\mu$m. We estimate ultraviolet (UV) luminosity functions and densities at $z\\sim17$ and $z\\sim25$. We find that the number density of galaxies with absolute magnitudes $-19<M_\\mathrm{UV}<-18$ (AB) at $z\\sim17$ ($z\\sim25$) is a factor of 4 (25) smaller than at $z\\sim12$; a similar evolution is observed for the luminosity density. Compared to state-of-the-art galaxy simulations, we find the need for an enhanced UV-photon production at $z=17-25$ in $\\mathrm{M}_\\mathrm{DM}=10^{8.5-9.5}$ M$_\\odot$ dark matter halos, maybe provided by an increase in the star formation efficiency at early times and/or by intense bursts fed by very low metallicity or primordial gas. There are few robust theoretical predictions for the evolution of galaxies above $z\\sim20$ in the literature, however, the continuing rapid drop in the halo mass function suggests more rapid evolution than we observe if photon production efficiencies remained constant. Our $z>16$ galaxy candidates present mass-weighted ages around 30 Myr, and attenuations $\\mathrm{A(V)}<0.1$ mag. Their average stellar mass is $\\mathrm{M}_\\bigstar\\sim10^{7}\\,\\mathrm{M}_\\odot$, implying a star formation efficiency (stellar-to-baryon mass fraction) around 10%. We find three galaxies with very blue UV spectral slopes ($\\beta\\sim-3$) compatible with low metallicity or Pop III and young ($\\lesssim10$ Myr) stars and/or high escape fractions of ionizing photons, the rest presenting slopes $\\beta\\sim-2.5$ similar to $z=10-12$ samples.         |"
      ],
      "text/plain": [
       "[2503.15594] The rise of the galactic empire: luminosity functions at $z\\sim17$ and $z\\sim25$ estimated with the MIDIS$+$NGDEEP ultra-deep JWST/NIRCam dataset\n",
       "\tP. G. Pérez-González, et al. -- incl., <mark>F. Walter</mark>"
      ]
     },
     "metadata": {},
     "output_type": "display_data"
    },
    {
     "data": {
      "text/markdown": [
       "\n",
       "|||\n",
       "|---:|:---|\n",
       "| [![arXiv](https://img.shields.io/badge/arXiv-2503.15635-b31b1b.svg)](https://arxiv.org/abs/2503.15635) | **Euclid preparation. Spatially resolved stellar populations of local galaxies with Euclid: a proof of concept using synthetic images with the TNG50 simulation**  |\n",
       "|| E. Collaboration, et al. -- incl., <mark>K. Jahnke</mark> |\n",
       "|*Appeared on*| *2025-03-21*|\n",
       "|*Comments*| *31 pages, 18 figures, submitted to A&A*|\n",
       "|**Abstract**|            The European Space Agency's Euclid mission will observe approximately 14,000 $\\rm{deg}^{2}$ of the extragalactic sky and deliver high-quality imaging for many galaxies. The depth and high spatial resolution of the data will enable a detailed analysis of stellar population properties of local galaxies. In this study, we test our pipeline for spatially resolved SED fitting using synthetic images of Euclid, LSST, and GALEX generated from the TNG50 simulation. We apply our pipeline to 25 local simulated galaxies to recover their resolved stellar population properties. We produce 3 types of data cubes: GALEX + LSST + Euclid, LSST + Euclid, and Euclid-only. We perform the SED fitting tests with two SPS models in a Bayesian framework. Because the age, metallicity, and dust attenuation estimates are biased when applying only classical formulations of flat priors, we examine the effects of additional priors in the forms of mass-age-$Z$ relations, constructed using a combination of empirical and simulated data. Stellar-mass surface densities can be recovered well using any of the 3 data cubes, regardless of the SPS model and prior variations. The new priors then significantly improve the measurements of mass-weighted age and $Z$ compared to results obtained without priors, but they may play an excessive role compared to the data in determining the outcome when no UV data is available. The spatially resolved SED fitting method is powerful for mapping the stellar populations of galaxies with the current abundance of high-quality imaging data. Our study re-emphasizes the gain added by including multiwavelength data from ancillary surveys and the roles of priors in Bayesian SED fitting. With the Euclid data alone, we will be able to generate complete and deep stellar mass maps of galaxies in the local Universe, thus exploiting the telescope's wide field, NIR sensitivity, and high spatial resolution.         |"
      ],
      "text/plain": [
       "[2503.15635] Euclid preparation. Spatially resolved stellar populations of local galaxies with Euclid: a proof of concept using synthetic images with the TNG50 simulation\n",
       "\tE. Collaboration, et al. -- incl., <mark>K. Jahnke</mark>"
      ]
     },
     "metadata": {},
     "output_type": "display_data"
    },
    {
     "data": {
      "text/markdown": [
       "\n",
       "|||\n",
       "|---:|:---|\n",
       "| [![arXiv](https://img.shields.io/badge/arXiv-2503.16367-b31b1b.svg)](https://arxiv.org/abs/2503.16367) | **Euclid: Early Release Observations -- Interplay between dwarf galaxies and their globular clusters in the Perseus galaxy cluster**  |\n",
       "|| T. Saifollahi, et al. -- incl., <mark>M. Schirmer</mark>, <mark>K. Jahnke</mark> |\n",
       "|*Appeared on*| *2025-03-21*|\n",
       "|*Comments*| *23 pages, 17 figures, Submitted to A&A*|\n",
       "|**Abstract**|            We present an analysis of globular clusters (GCs) of dwarf galaxies in the Perseus galaxy cluster to explore the relationship between dwarf galaxy properties and their GCs. Our focus is on GC numbers ($N_{\\rm GC}$) and GC half-number radii ($R_{\\rm GC}$) around dwarf galaxies, and their relations with host galaxy stellar masses ($M_*$), central surface brightnesses ($\\mu_0$), and effective radii ($R_{\\rm e}$). Interestingly, we find that at a given stellar mass, $R_{\\rm GC}$ is almost independent of the host galaxy $\\mu_0$ and $R_{\\rm e}$, while $R_{\\rm GC}/R_{\\rm e}$ depends on $\\mu_0$ and $R_{\\rm e}$; lower surface brightness and diffuse dwarf galaxies show $R_{\\rm GC}/R_{\\rm e}\\approx 1$ while higher surface brightness and compact dwarf galaxies show $R_{\\rm GC}/R_{\\rm e}\\approx 1.5$-$2$. This means that for dwarf galaxies of similar stellar mass, the GCs have a similar median extent; however, their distribution is different from the field stars of their host. Additionally, low surface brightness and diffuse dwarf galaxies on average have a higher $N_{\\rm GC}$ than high surface brightness and compact dwarf galaxies at any given stellar mass. We also find that UDGs (ultra-diffuse galaxies) and non-UDGs have similar $R_{\\rm GC}$, while UDGs have smaller $R_{\\rm GC}/R_{\\rm e}$ (typically less than 1) and 3-4 times higher $N_{\\rm GC}$ than non-UDGs. Examining nucleated and not-nucleated dwarf galaxies, we find that for $M_*>10^8M_{\\odot}$, nucleated dwarf galaxies seem to have smaller $R_{\\rm GC}$ and $R_{\\rm GC}/R_{\\rm e}$, with no significant differences between their $N_{\\rm GC}$, except at $M_*<10^8M_{\\odot}$ where the nucleated dwarf galaxies tend to have a higher $N_{\\rm GC}$. Lastly, we explore the stellar-to-halo mass ratio (SHMR) of dwarf galaxies and conclude that the Perseus cluster dwarf galaxies follow the expected SHMR at $z=0$ extrapolated down to $M_*=10^6M_{\\odot}$.         |"
      ],
      "text/plain": [
       "[2503.16367] Euclid: Early Release Observations -- Interplay between dwarf galaxies and their globular clusters in the Perseus galaxy cluster\n",
       "\tT. Saifollahi, et al. -- incl., <mark>M. Schirmer</mark>, <mark>K. Jahnke</mark>"
      ]
     },
     "metadata": {},
     "output_type": "display_data"
    },
    {
     "data": {
      "text/markdown": [
       "## Failed papers"
      ],
      "text/plain": [
       "<IPython.core.display.Markdown object>"
      ]
     },
     "metadata": {},
     "output_type": "display_data"
    },
    {
     "data": {
      "text/markdown": [
       "\n",
       "|||\n",
       "|---:|:---|\n",
       "| [![arXiv](https://img.shields.io/badge/arXiv-2503.16145-b31b1b.svg)](https://arxiv.org/abs/2503.16145) | **Distributions and Physical Properties of Molecular Clouds in the G24 Region of the Milky Way**  |\n",
       "|| T. Yang, et al. -- incl., <mark>J. Li</mark> |\n",
       "|*Appeared on*| *2025-03-21*|\n",
       "|*Comments*| **|\n",
       "|**Abstract**|            We report the spatial distribution and physical characteristics of molecular clouds in the G24 region, which is located near the intersection of the Milky Way's Galactic bar with the Norma arm and the 3 kpc arm. Utilizing molecular line data from the Milky Way Imaging Scroll Painting (MWISP) project, including $^{12}$CO, $^{13}$CO, and C$^{18}$O, along with our own observations of HCO$^{+}$ line using the Purple Mountain Observatory (PMO) 13.7 m telescope, we have revealed the complex architecture of molecular clouds in the G24 region. Seven giant molecular clouds, each with a mass exceeding $10^4$ $M_\\odot$ and a typical H$_2$ column density of $10^{21}$ cm$^{-2}$, have been identified through observations of CO and its isotopes. The conversion factor $X_{\\text{CO}}$ for the G24 region is estimated to be 8.25 $\\times$ 10$^{19}$ cm$^{-2}$ (K km s$^{-1}$)$^{-1}$, aligning with the typical values observed in other regions. Adopting the GaussClumps algorithm, we have identified a total of 257, 201, and 110 clumps in $^{12}$CO, $^{13}$CO and C$^{18}$O within G24 region, respectively. The derived physical properties (including effective radius, mass, and virial parameter) indicate that the majority of these clumps are gravitationally bound, with a subset possessing the potential to form massive stars. Examination of gas infall activities within these clumps further suggests ongoing massive star formation. The complex physical and kinematic environment, shaped by the G24 region's unique location within the Milky Way, has limited the clear detection of gas outflows.         |\n",
       "|<p style=\"color:green\"> **ERROR** </p>| <p style=\"color:green\">affiliation error: mpia.affiliation_verifications: 'Heidelberg' keyword not found.</p> |"
      ],
      "text/plain": [
       "<IPython.core.display.Markdown object>"
      ]
     },
     "metadata": {},
     "output_type": "display_data"
    },
    {
     "data": {
      "text/markdown": [
       "\n",
       "|||\n",
       "|---:|:---|\n",
       "| [![arXiv](https://img.shields.io/badge/arXiv-2503.16204-b31b1b.svg)](https://arxiv.org/abs/2503.16204) | **Resolution of a paradox: SDSS J1257+5428 can be explained as a descendant of a cataclysmic variable with an evolved donor**  |\n",
       "|| D. Belloni, M. R. Schreiber, <mark>K. El-Badry</mark> |\n",
       "|*Appeared on*| *2025-03-21*|\n",
       "|*Comments*| *Accepted for publication in A&A*|\n",
       "|**Abstract**|            The existence of the binary system SDSS J1257+5428 has been described as paradoxical. Here we investigate under which conditions SDSS J1257+5428 could be understood as a descendant of a cataclysmic variable with an evolved donor star, which is a scenario that has never been explored in detail. We used the BSE code for pre-common-envelope (CE) evolution and the MESA code for post-CE evolution to run binary evolution simulations and searched for potential formation pathways for SDSS J1257+5428 that lead to its observed characteristics. For the post-CE evolution, we adopted a boosted version of the CARB model. We find that SDSS J1257+5428 can be explained as a post-cataclysmic-variable system if (i) the progenitor of the extremely low-mass WD was initially a solar-type star that evolved into a subgiant before the onset of mass transfer and underwent hydrogen shell flashes after the mass transfer stopped, (ii) the massive WD was highly or entirely rejuvenated during the cataclysmic variable evolution, and (iii) magnetic braking was strong enough to make the evolution convergent. In this case, the torques due to magnetic braking need to be stronger than those provided by the CARB model by a factor of ${\\sim100}$. We conclude that SDSS J1257+5428 can be reasonably well explained as having originated from a cataclysmic variable that hosted an evolved donor star and should no longer be regarded as paradoxical. If our formation channel is correct, our findings provide further support that stronger magnetic braking acts on progenitors of (i) close detached WD binaries, (ii) close detached millisecond pulsar with extremely low-mass WDs, (iii) AM CVn binaries, and (iv) ultra-compact X-ray binaries, in comparison to the magnetic braking strength required to explain binaries hosting main-sequence stars and single main-sequence stars.         |\n",
       "|<p style=\"color:green\"> **ERROR** </p>| <p style=\"color:green\">affiliation error: mpia.affiliation_verifications: 'Heidelberg' keyword not found.</p> |"
      ],
      "text/plain": [
       "<IPython.core.display.Markdown object>"
      ]
     },
     "metadata": {},
     "output_type": "display_data"
    }
   ],
   "source": [
    "import datetime\n",
    "today = str(datetime.date.today())\n",
    "logfile = f\"_build/html/logs/log-{today}.md\"\n",
    "\n",
    "\n",
    "with open(logfile, 'w') as logs:\n",
    "    # Success\n",
    "    logs.write(f'# Arxiv on Deck 2: Logs - {today}\\n\\n')\n",
    "    logs.write(\"\"\"* Arxiv had {0:,d} new papers\\n\"\"\".format(len(new_papers)))\n",
    "    logs.write(\"\"\"    * {0:,d} with possible author matches\\n\\n\"\"\".format(len(candidates)))\n",
    "    logs.write(\"## Sucessful papers\\n\\n\")\n",
    "    display(Markdown(\"## Successful papers\"))\n",
    "    success = [k[0] for k in documents]\n",
    "    for candid in candidates:\n",
    "        if candid['identifier'].split(':')[-1] in success:\n",
    "            display(candid)\n",
    "            logs.write(candid.generate_markdown_text() + '\\n\\n')\n",
    "\n",
    "    ## failed\n",
    "    logs.write(\"## Failed papers\\n\\n\")\n",
    "    display(Markdown(\"## Failed papers\"))\n",
    "    failed = sorted(failed, key=lambda x: x[1])\n",
    "    current_reason = \"\"\n",
    "    for paper, reason in failed:\n",
    "        if 'affiliation' in reason:\n",
    "            color = 'green'\n",
    "        else:\n",
    "            color = 'red'\n",
    "        data = Markdown(\n",
    "                paper.generate_markdown_text() + \n",
    "                f'\\n|<p style=\"color:{color:s}\"> **ERROR** </p>| <p style=\"color:{color:s}\">{reason:s}</p> |'\n",
    "               )\n",
    "        if reason != current_reason:\n",
    "            logs.write(f'### {reason:s} \\n\\n')\n",
    "            current_reason = reason\n",
    "        logs.write(data.data + '\\n\\n')\n",
    "        \n",
    "        # only display here the important errors (all in logs)\n",
    "        # if color in ('red',):\n",
    "        display(data)"
   ]
  },
  {
   "cell_type": "markdown",
   "id": "472d20ee",
   "metadata": {
    "papermill": {
     "duration": 0.004771,
     "end_time": "2025-03-21T04:14:30.949597",
     "exception": false,
     "start_time": "2025-03-21T04:14:30.944826",
     "status": "completed"
    },
    "tags": []
   },
   "source": [
    "## Export documents\n",
    "\n",
    "We now write the .md files and export relevant images"
   ]
  },
  {
   "cell_type": "code",
   "execution_count": 7,
   "id": "d426aed9",
   "metadata": {
    "execution": {
     "iopub.execute_input": "2025-03-21T04:14:30.960086Z",
     "iopub.status.busy": "2025-03-21T04:14:30.959856Z",
     "iopub.status.idle": "2025-03-21T04:14:30.966431Z",
     "shell.execute_reply": "2025-03-21T04:14:30.965903Z"
    },
    "papermill": {
     "duration": 0.013004,
     "end_time": "2025-03-21T04:14:30.967426",
     "exception": false,
     "start_time": "2025-03-21T04:14:30.954422",
     "status": "completed"
    },
    "tags": []
   },
   "outputs": [],
   "source": [
    "def export_markdown_summary(md: str, md_fname:str, directory: str):\n",
    "    \"\"\"Export MD document and associated relevant images\"\"\"\n",
    "    import os\n",
    "    import shutil\n",
    "    import re\n",
    "\n",
    "    if (os.path.exists(directory) and not os.path.isdir(directory)):\n",
    "        raise RuntimeError(f\"a non-directory file exists with name {directory:s}\")\n",
    "\n",
    "    if (not os.path.exists(directory)):\n",
    "        print(f\"creating directory {directory:s}\")\n",
    "        os.mkdir(directory)\n",
    "\n",
    "    fig_fnames = (re.compile(r'\\[Fig.*\\]\\((.*)\\)').findall(md) + \n",
    "                  re.compile(r'\\<img src=\"([^>\\s]*)\"[^>]*/>').findall(md))\n",
    "    print(\"found figures\", fig_fnames)\n",
    "    for fname in fig_fnames:\n",
    "        if 'http' in fname:\n",
    "            # No need to copy online figures\n",
    "            continue\n",
    "        if not os.path.exists(fname):\n",
    "            print(\"file not found\", fname)\n",
    "            continue\n",
    "        print(\"copying \", fname, \"to\", directory)\n",
    "        destdir = os.path.join(directory, os.path.dirname(fname))\n",
    "        destfname = os.path.join(destdir, os.path.basename(fname))\n",
    "        try:\n",
    "            os.makedirs(destdir)\n",
    "        except FileExistsError:\n",
    "            pass\n",
    "        shutil.copy(fname, destfname)\n",
    "    with open(os.path.join(directory, md_fname), 'w') as fout:\n",
    "        fout.write(md)\n",
    "    print(\"exported in \", os.path.join(directory, md_fname))\n",
    "    [print(\"    + \" + os.path.join(directory,fk)) for fk in fig_fnames]"
   ]
  },
  {
   "cell_type": "code",
   "execution_count": 8,
   "id": "014d04a4",
   "metadata": {
    "execution": {
     "iopub.execute_input": "2025-03-21T04:14:30.978128Z",
     "iopub.status.busy": "2025-03-21T04:14:30.977710Z",
     "iopub.status.idle": "2025-03-21T04:14:30.990621Z",
     "shell.execute_reply": "2025-03-21T04:14:30.990076Z"
    },
    "papermill": {
     "duration": 0.019233,
     "end_time": "2025-03-21T04:14:30.991563",
     "exception": false,
     "start_time": "2025-03-21T04:14:30.972330",
     "status": "completed"
    },
    "tags": []
   },
   "outputs": [
    {
     "name": "stdout",
     "output_type": "stream",
     "text": [
      "found figures ['tmp_2503.15594/./Figures/masstolight_v20250307_v3.13.png', 'tmp_2503.15594/./Figures/surveys_v3.12.png', 'tmp_2503.15594/./Figures/midisred0019207.png']\n",
      "copying  tmp_2503.15594/./Figures/masstolight_v20250307_v3.13.png to _build/html/\n",
      "copying  tmp_2503.15594/./Figures/surveys_v3.12.png to _build/html/\n",
      "copying  tmp_2503.15594/./Figures/midisred0019207.png to _build/html/\n",
      "exported in  _build/html/2503.15594.md\n",
      "    + _build/html/tmp_2503.15594/./Figures/masstolight_v20250307_v3.13.png\n",
      "    + _build/html/tmp_2503.15594/./Figures/surveys_v3.12.png\n",
      "    + _build/html/tmp_2503.15594/./Figures/midisred0019207.png\n",
      "found figures ['tmp_2503.15635/./comp_fitsim_GLE_fsps_new2.png', 'tmp_2503.15635/./comp_fitsim_GLE_bc16_new2.png', 'tmp_2503.15635/./comp_fitsim_LE_fsps_new2.png', 'tmp_2503.15635/./comp_fitsim_LE_bc16_new2.png', 'tmp_2503.15635/./comp_fitsim_E_fsps_new2.png', 'tmp_2503.15635/./comp_fitsim_E_bc16_new2.png']\n",
      "copying  tmp_2503.15635/./comp_fitsim_GLE_fsps_new2.png to _build/html/\n",
      "copying  tmp_2503.15635/./comp_fitsim_GLE_bc16_new2.png to _build/html/\n",
      "copying  tmp_2503.15635/./comp_fitsim_LE_fsps_new2.png to _build/html/\n",
      "copying  tmp_2503.15635/./comp_fitsim_LE_bc16_new2.png to _build/html/\n",
      "copying  tmp_2503.15635/./comp_fitsim_E_fsps_new2.png to _build/html/\n",
      "copying  tmp_2503.15635/./comp_fitsim_E_bc16_new2.png to _build/html/\n",
      "exported in  _build/html/2503.15635.md\n",
      "    + _build/html/tmp_2503.15635/./comp_fitsim_GLE_fsps_new2.png\n",
      "    + _build/html/tmp_2503.15635/./comp_fitsim_GLE_bc16_new2.png\n",
      "    + _build/html/tmp_2503.15635/./comp_fitsim_LE_fsps_new2.png\n",
      "    + _build/html/tmp_2503.15635/./comp_fitsim_LE_bc16_new2.png\n",
      "    + _build/html/tmp_2503.15635/./comp_fitsim_E_fsps_new2.png\n",
      "    + _build/html/tmp_2503.15635/./comp_fitsim_E_bc16_new2.png\n",
      "found figures ['tmp_2503.16367/./figures/results/ERO-PERSEUS_stacked-radial-profiles-stellarmass_all.png', 'tmp_2503.16367/./figures/results/ERO-PERSEUS_stacked-radial-profiles+RE.png', 'tmp_2503.16367/./figures/results/ERO-PERSEUS_dwarf-division.png']\n",
      "copying  tmp_2503.16367/./figures/results/ERO-PERSEUS_stacked-radial-profiles-stellarmass_all.png to _build/html/\n",
      "copying  tmp_2503.16367/./figures/results/ERO-PERSEUS_stacked-radial-profiles+RE.png to _build/html/\n",
      "copying  tmp_2503.16367/./figures/results/ERO-PERSEUS_dwarf-division.png to _build/html/\n",
      "exported in  _build/html/2503.16367.md\n",
      "    + _build/html/tmp_2503.16367/./figures/results/ERO-PERSEUS_stacked-radial-profiles-stellarmass_all.png\n",
      "    + _build/html/tmp_2503.16367/./figures/results/ERO-PERSEUS_stacked-radial-profiles+RE.png\n",
      "    + _build/html/tmp_2503.16367/./figures/results/ERO-PERSEUS_dwarf-division.png\n"
     ]
    }
   ],
   "source": [
    "for paper_id, md in documents:\n",
    "    export_markdown_summary(md, f\"{paper_id:s}.md\", '_build/html/')"
   ]
  },
  {
   "cell_type": "markdown",
   "id": "f087a0a7",
   "metadata": {
    "papermill": {
     "duration": 0.004984,
     "end_time": "2025-03-21T04:14:31.001665",
     "exception": false,
     "start_time": "2025-03-21T04:14:30.996681",
     "status": "completed"
    },
    "tags": []
   },
   "source": [
    "## Display the papers\n",
    "\n",
    "Not necessary but allows for a quick check."
   ]
  },
  {
   "cell_type": "code",
   "execution_count": 9,
   "id": "fd25f625",
   "metadata": {
    "execution": {
     "iopub.execute_input": "2025-03-21T04:14:31.012556Z",
     "iopub.status.busy": "2025-03-21T04:14:31.012101Z",
     "iopub.status.idle": "2025-03-21T04:14:31.019363Z",
     "shell.execute_reply": "2025-03-21T04:14:31.018723Z"
    },
    "papermill": {
     "duration": 0.013719,
     "end_time": "2025-03-21T04:14:31.020338",
     "exception": false,
     "start_time": "2025-03-21T04:14:31.006619",
     "status": "completed"
    },
    "scrolled": false,
    "tags": []
   },
   "outputs": [
    {
     "data": {
      "text/markdown": [
       "<div class=\"macros\" style=\"visibility:hidden;\">\n",
       "$\\newcommand{\\ensuremath}{}$\n",
       "$\\newcommand{\\xspace}{}$\n",
       "$\\newcommand{\\object}[1]{\\texttt{#1}}$\n",
       "$\\newcommand{\\farcs}{{.}''}$\n",
       "$\\newcommand{\\farcm}{{.}'}$\n",
       "$\\newcommand{\\arcsec}{''}$\n",
       "$\\newcommand{\\arcmin}{'}$\n",
       "$\\newcommand{\\ion}[2]{#1#2}$\n",
       "$\\newcommand{\\textsc}[1]{\\textrm{#1}}$\n",
       "$\\newcommand{\\hl}[1]{\\textrm{#1}}$\n",
       "$\\newcommand{\\footnote}[1]{}$\n",
       "$\\newcommand{\\vdag}{(v)^\\dagger}$\n",
       "$\\newcommand$\n",
       "$\\newcommand$</div>\n",
       "\n",
       "\n",
       "\n",
       "<div id=\"title\">\n",
       "\n",
       "# The rise of the galactic empire: luminosity functions  at $\\boldmath{$z\\sim17$}$ and $\\boldmath{$z\\sim25$}$ estimated with the MIDIS$+$NGDEEP ultra-deep JWST/NIRCam dataset\n",
       "\n",
       "</div>\n",
       "<div id=\"comments\">\n",
       "\n",
       "[![arXiv](https://img.shields.io/badge/arXiv-2503.15594-b31b1b.svg)](https://arxiv.org/abs/2503.15594)<mark>Appeared on: 2025-03-21</mark> -  _Submitted to ApJ. Comments welcome_\n",
       "\n",
       "</div>\n",
       "<div id=\"authors\">\n",
       "\n",
       "P. G. Pérez-González, et al. -- incl., <mark>F. Walter</mark>\n",
       "\n",
       "</div>\n",
       "<div id=\"abstract\">\n",
       "\n",
       "**Abstract:** We present a sample of six F200W and three F277W dropout sources identified as $16<z<25$ galaxy candidates based on the deepest JWST/NIRCam data to date, provided by the MIRI Deep Imaging Survey (MIDIS) and the Next Generation Deep Extragalactic Exploratory Public survey  (NGDEEP), reaching 5 $\\sigma$ depths of $\\sim31.5$ mag (AB) at $\\geq2$  $\\mu$ m. We estimate ultraviolet (UV) luminosity functions and densities at $z\\sim17$ and $z\\sim25$ . We find that the number density of galaxies with absolute magnitudes $-19<M_\\mathrm{UV}<-18$ (AB) at $z\\sim17$ ( $z\\sim25$ )is a factor of 4 (25) smaller than at $z\\sim12$ ; a similar evolution is observed for the luminosity density. Compared to state-of-the-art galaxy simulations, we find the need for an enhanced UV-photon production at $z=17-25$ in $\\mathrm{M}_\\mathrm{DM}=10^{8.5-9.5}$ M $_\\odot$ dark matter halos, maybe provided by an increase in the star formation efficiency at early times and/or by intense bursts fed by very low metallicity or primordial gas.There are few robust theoretical predictions for the evolution of galaxies above $z\\sim 20$ in the literature, however, the continuing rapid drop in the halo mass function suggests more rapid evolution than we observe if photon production efficiencies remained constant.Our $z>16$ galaxy candidates present mass-weighted ages around 30 Myr, and attenuations $\\mathrm{A(V)}<0.1$ mag.  Their average stellar mass is $\\mathrm{M}_\\bigstar\\sim10^{7} \\mathrm{M}_\\odot$ , implying a star formation efficiency (stellar-to-baryon mass fraction) around 10 \\% .  We find three galaxies with very blue UV spectral slopes ( $\\beta\\sim-3$ ) compatible with low metallicity or Pop III and young ( $\\lesssim10$ Myr) stars and/or high escape fractions of ionizing photons, the rest presenting slopes $\\beta\\sim-2.5$ similar to $z=10-12$ samples.\n",
       "\n",
       "</div>\n",
       "\n",
       "<div id=\"div_fig1\">\n",
       "\n",
       "<img src=\"tmp_2503.15594/./Figures/masstolight_v20250307_v3.13.png\" alt=\"Fig9\" width=\"100%\"/>\n",
       "\n",
       "**Figure 9. -** Stellar mass-to-light ratios as a function of halo mass for redshifts $z\\sim9$ to $z\\sim25$. The left y-axis give UV luminosity densities in solar units (assuming an AB absolute magnitude for the Sun $M^{UV}_\\odot=17.30$,  ([ and Willmer 2018]()) ), the right y-axis in CGS units. The vertical axes could also be read in terms of dark matter mass-to-light ratios considering the baryon-to-dark matter density ratio ($\\sim19$\\%) and the star formation efficiency, defined as stellar mass divided by baryon mass, assumed to be 15\\% in the plot. The curved lines provide results based on an abundance matching comparison between luminosity functions from this work and [Pérez-González, Costantin and Langeroodi (2023)]() and dark matter mass functions from [Yung, Somerville and Nguyen (2024)](). Thick segments show the calculations based on the range of absolute magnitudes actually probed by those works, while the thin lines show results based on extrapolated Schechter fits. We differentiate between the faint/light ends of the luminosity and mass functions, which might be well characterized by the current data with a faint-end slope (where we use a continuous line) and the bright/massive ends, whose behavior is more complex and unconstrained for most redshifts above $z=10$(where we used a dotted line). Oblique lines show the UV absolute magnitudes corresponding to the dark matter masses according to the abundance matching exercise, running from -17 to -20 every one magnitude (the extreme values are marked).  Horizontal lines show mass-to-light ratios for a compilation of relevant stellar populations models from [Zackrisson, et. al (2011)](), with metallicities spanning expected values from 1/5 Z$_\\odot$ to Pop-III stars, and different IMFs including [ and Kroupa (2001)]() and top-heavy parametrizations. Lines in black and light gray show predictions for 30 and 1 Myr old instantaneous bursts. We note that the models with the most extreme top-heavy IMF do not extend to 30 Myr, those massive stars die earlier. This effect also affects the relative mass-to-light ratios between the Kroupa and top-heavy IMFs for 30 Myr (reversed compared to 1 Myr predictions). (*fig:m/l*)\n",
       "\n",
       "</div>\n",
       "<div id=\"div_fig2\">\n",
       "\n",
       "<img src=\"tmp_2503.15594/./Figures/surveys_v3.12.png\" alt=\"Fig2\" width=\"100%\"/>\n",
       "\n",
       "**Figure 2. -** Compilation of spectroscopically confirmed galaxies (red hexagons,  ([Dickinson and Finkelstein 2023](), [Curtis-Lake, Carniani and Cameron 2023](), [Castellano, Napolitano and Fontana 2024](), [Carniani and Hainline 2024]()) ) and photometric samples (including  ([Leung, Bagley and Finkelstein 2023]())  -green pointing-up triangles-,  ([Finkelstein, Leung and Bagley 2024]())  -pointing-down triangle-,  ([Pérez-González, Costantin and Langeroodi 2023]())  -green stars-,  ([Kokorev, Atek and Chisholm 2024]())  -red squares-, and  ([Casey, Akins and Shuntov 2024]())  -green crosses-) of galaxies at $z>11$. The $16<z<25$ galaxy candidates presented in this work are plotted with green and orange diamonds, the color representing the band used in the plot, the one closer to and redward of the Lyman break. We also show their magnitude and photometric redshift uncertainties. Lines show the expected magnitudes as a function of redshift of a very young (1 Myr old) starburst with stellar mass $M_\\star=10^8 M_\\odot$ according to the [Bruzual and Charlot (2003)]() models (thick dotted line) and a less massive $M_\\star=10^7 M_\\odot$ starburst according to the [Eldridge, Stanway and Xiao (2017)]() BPASS models (thin dotted line). The expected magnitudes for a more extended star formation history (50 Myr constant star formation population) and a dormant galaxy (which experienced an instantaneous burst 30 Myr before the observation) are also shown (thick continuous and dashed-dotted lines, respectively). All models assume no dust. Shaded regions show the 5$\\sigma$ depths of the major galaxy surveys used in the identification of $z>11$ galaxy candidates. The darkest regions refer to the dataset used in this paper (MIDIS24, which stands for the 2024 depth, including NGDEEP). The color for all data points, lines, and shaded regions indicates the NIRCam band considered.  (*fig:depths*)\n",
       "\n",
       "</div>\n",
       "<div id=\"div_fig3\">\n",
       "\n",
       "<img src=\"tmp_2503.15594/./Figures/midisred0019207.png\" alt=\"Fig10\" width=\"100%\"/>\n",
       "\n",
       "**Figure 10. -** One of the galaxies selected in the $z\\sim17$ sample. The figure shows the same information depicted for an example galaxy in the main text (Figure \\ref{fig:sed_examples}). (*fig:z17_2*)\n",
       "\n",
       "</div><div id=\"qrcode\"><img src=https://api.qrserver.com/v1/create-qr-code/?size=100x100&data=\"https://arxiv.org/abs/2503.15594\"></div>"
      ],
      "text/plain": [
       "<IPython.core.display.Markdown object>"
      ]
     },
     "metadata": {},
     "output_type": "display_data"
    },
    {
     "data": {
      "text/markdown": [
       "<div class=\"macros\" style=\"visibility:hidden;\">\n",
       "$\\newcommand{\\ensuremath}{}$\n",
       "$\\newcommand{\\xspace}{}$\n",
       "$\\newcommand{\\object}[1]{\\texttt{#1}}$\n",
       "$\\newcommand{\\farcs}{{.}''}$\n",
       "$\\newcommand{\\farcm}{{.}'}$\n",
       "$\\newcommand{\\arcsec}{''}$\n",
       "$\\newcommand{\\arcmin}{'}$\n",
       "$\\newcommand{\\ion}[2]{#1#2}$\n",
       "$\\newcommand{\\textsc}[1]{\\textrm{#1}}$\n",
       "$\\newcommand{\\hl}[1]{\\textrm{#1}}$\n",
       "$\\newcommand{\\footnote}[1]{}$\n",
       "$\\newcommand{\\pixedfit}{\\texttt{piXedfit}}$\n",
       "$\\newcommand{\\bagpipes}{\\textsc{BAGPIPES}}$\n",
       "$\\newcommand{\\sextractor}{\\textsc{SExtractor}}$\n",
       "$\\newcommand{\\sep}{\\textsc{sep}}$\n",
       "$\\newcommand{\\galfit}{\\textsc{GALFIT}}$\n",
       "$\\newcommand{\\skirt}{\\textsc{SKIRT}}$\n",
       "$\\newcommand{\\photutils}{\\textsc{photutils}}$\n",
       "$\\newcommand{\\scipy}{\\textsc{scipy}}$\n",
       "$\\newcommand{\\magphys}{\\textsc{MAGPHYS}}$\n",
       "$\\newcommand{\\galex}{GALEX}$\n",
       "$\\newcommand{\\lsst}{LSST}$\n",
       "$\\newcommand{\\euclid}{\\textit{Euclid}}$\n",
       "$\\newcommand{\\wise}{WISE}$\n",
       "$\\newcommand{\\jwst}{JWST}$\n",
       "$\\newcommand{\\hst}{HST}$\n",
       "$\\newcommand{\\hsc}{HSC}$\n",
       "$\\newcommand{\\des}{DES}$\n",
       "$\\newcommand{\\ie}{I_{\\rm E}}$\n",
       "$\\newcommand{\\ye}{Y_{\\rm E}}$\n",
       "$\\newcommand{\\je}{J_{\\rm E}}$\n",
       "$\\newcommand{\\he}{H_{\\rm E}}$\n",
       "$\\newcommand{\\mass}{M_{*}}$\n",
       "$\\newcommand{\\msun}{M_{\\odot}}$\n",
       "$\\newcommand{\\massd}{\\Sigma_{*}}$\n",
       "$\\newcommand{\\sfrd}{\\Sigma_{\\rm SFR}}$\n",
       "$\\newcommand{\\gledc}{G + L + E}$\n",
       "$\\newcommand{\\ledc}{L + E}$\n",
       "$\\newcommand{\\logten}{\\ensuremath{\\log_{10}}}$\n",
       "$\\newcommand{\\orcid}[1]$\n",
       "$\\newcommand{\\msun}{\\mbox{M_{\\rm \\odot}}}$\n",
       "$\\newcommand{\\om}{\\mbox{\\Omega_{\\rm m}}}$\n",
       "$\\newcommand{\\ol}{\\mbox{\\Omega_{\\rm \\Lambda}}}$\n",
       "$\\newcommand{\\hnot}{\\mbox{H_{\\rm 0}}}$</div>\n",
       "\n",
       "\n",
       "\n",
       "<div id=\"title\">\n",
       "\n",
       "# $\\euclid$ preparation: Spatially resolved stellar populations of local galaxies with $\\euclid$: a proof of concept using synthetic images with the TNG50 simulation\n",
       "\n",
       "</div>\n",
       "<div id=\"comments\">\n",
       "\n",
       "[![arXiv](https://img.shields.io/badge/arXiv-2503.15635-b31b1b.svg)](https://arxiv.org/abs/2503.15635)<mark>Appeared on: 2025-03-21</mark> -  _31 pages, 18 figures, submitted to A&A_\n",
       "\n",
       "</div>\n",
       "<div id=\"authors\">\n",
       "\n",
       "E. Collaboration, et al. -- incl., <mark>K. Jahnke</mark>\n",
       "\n",
       "</div>\n",
       "<div id=\"abstract\">\n",
       "\n",
       "**Abstract:** The European Space Agency's $\\euclid$ mission will observe approximately $14 000  \\rm{deg}^{2}$ of the extragalactic sky and deliver high-quality imaging for a large number of galaxies. The depth and high spatial resolution of the data will enable a detailed analysis of stellar population properties of local galaxies through spatially resolved spectral energy distribution (SED) fitting.In this study, we test our pipeline for spatially resolved SED fitting using synthetic images of $\\euclid$ , $\\lsst$ , and $\\galex$ generated from the TNG50 simulation using the SKIRT 3D radiative transfer code. Our pipeline uses functionalities in $\\pixedfit$ for processing the simulated data cubes and carrying out SED fitting. We apply our pipeline to 25 simulated galaxies in the local universe to recover their resolved stellar population properties. For each galaxy, we produce 3 types of data cubes: $\\galex$ + $\\lsst$ + $\\euclid$ , $\\lsst$ + $\\euclid$ , and $\\euclid$ -only.We perform the SED fitting tests with two stellar population synthesis (SPS) models in a Bayesian framework. Because the age, metallicity ( $Z$ ), and dust attenuation estimates are biased when applying only classical formulations of flat priors (even with the combined $\\galex$ + $\\lsst$ + $\\euclid$ data), we examine the effects of additional physically motivated priors in the forms of mass-age and mass-metallicity relations, constructed using a combination of empirical and simulated data.Stellar-mass surface densities can be recovered well using any of the 3 data cubes, regardless of the SPS model and prior variations. The new priors then significantly improve the measurements of mass-weighted age and $Z$ compared to results obtained without priors, but they may play an excessive role compared to the data in determining the outcome when no ultraviolet (UV) data is available.Compared to varying the spectral extent of the data cube or including and discarding the additional priors, replacing one SPS model family with the other has little effect on the results.The spatially resolved SED fitting method is powerful for mapping the stellar population properties of many galaxies with the current abundance of high-quality imaging data. Our study re-emphasizes the gain added by including multiwavelength data from ancillary surveys and the roles of priors in Bayesian SED fitting.With the $\\euclid$ data alone, we will be able to generate complete and deep stellar mass maps of galaxies in the local Universe, thus exploiting the telescope's wide field, near-infrared (NIR) sensitivity, and high spatial resolution.\n",
       "\n",
       "</div>\n",
       "\n",
       "<div id=\"div_fig1\">\n",
       "\n",
       "<img src=\"tmp_2503.15635/./comp_fitsim_GLE_fsps_new2.png\" alt=\"Fig12.1\" width=\"50%\"/><img src=\"tmp_2503.15635/./comp_fitsim_GLE_bc16_new2.png\" alt=\"Fig12.2\" width=\"50%\"/>\n",
       "\n",
       "**Figure 12. -** Comparisons of the spatially resolved stellar population properties derived from SED fitting on the $\\gledc$ data cubes (ordinate) and the true properties (abscissa). These include all spatial bins from the whole sample of galaxies. We focus on four main properties in this test analysis: $\\mass$d, $Z$, age, and $\\sfrd$. The top row (a) shows results obtained with the FSPS model, while the bottom row (b) shows results using the BC16 model. The blue and red colors represent results obtained with and without applying the mass-$Z$-age prior. (*fig:comp_simfits_GLE*)\n",
       "\n",
       "</div>\n",
       "<div id=\"div_fig2\">\n",
       "\n",
       "<img src=\"tmp_2503.15635/./comp_fitsim_LE_fsps_new2.png\" alt=\"Fig13.1\" width=\"50%\"/><img src=\"tmp_2503.15635/./comp_fitsim_LE_bc16_new2.png\" alt=\"Fig13.2\" width=\"50%\"/>\n",
       "\n",
       "**Figure 13. -** Similar to Fig. \\ref{fig:comp_simfits_GLE} but for results of SED fitting on the $\\ledc$ data cubes. (*fig:comp_simfits_LE*)\n",
       "\n",
       "</div>\n",
       "<div id=\"div_fig3\">\n",
       "\n",
       "<img src=\"tmp_2503.15635/./comp_fitsim_E_fsps_new2.png\" alt=\"Fig14.1\" width=\"50%\"/><img src=\"tmp_2503.15635/./comp_fitsim_E_bc16_new2.png\" alt=\"Fig14.2\" width=\"50%\"/>\n",
       "\n",
       "**Figure 14. -** Similar to Fig. \\ref{fig:comp_simfits_GLE} but for results of SED fitting on the E data cube. (*fig:comp_simfits_E*)\n",
       "\n",
       "</div><div id=\"qrcode\"><img src=https://api.qrserver.com/v1/create-qr-code/?size=100x100&data=\"https://arxiv.org/abs/2503.15635\"></div>"
      ],
      "text/plain": [
       "<IPython.core.display.Markdown object>"
      ]
     },
     "metadata": {},
     "output_type": "display_data"
    },
    {
     "data": {
      "text/markdown": [
       "<div class=\"macros\" style=\"visibility:hidden;\">\n",
       "$\\newcommand{\\ensuremath}{}$\n",
       "$\\newcommand{\\xspace}{}$\n",
       "$\\newcommand{\\object}[1]{\\texttt{#1}}$\n",
       "$\\newcommand{\\farcs}{{.}''}$\n",
       "$\\newcommand{\\farcm}{{.}'}$\n",
       "$\\newcommand{\\arcsec}{''}$\n",
       "$\\newcommand{\\arcmin}{'}$\n",
       "$\\newcommand{\\ion}[2]{#1#2}$\n",
       "$\\newcommand{\\textsc}[1]{\\textrm{#1}}$\n",
       "$\\newcommand{\\hl}[1]{\\textrm{#1}}$\n",
       "$\\newcommand{\\footnote}[1]{}$\n",
       "$\\newcommand{\\orcid}[1]{\\orcidlink{#1}}$</div>\n",
       "\n",
       "\n",
       "\n",
       "<div id=\"title\">\n",
       "\n",
       "# $\\Euclid$: Early Release Observations -- Interplay between dwarf galaxies and their globular clusters in the Perseus galaxy cluster$\\thanks{This paper is published on       behalf of the Euclid Consortium}$\n",
       "\n",
       "</div>\n",
       "<div id=\"comments\">\n",
       "\n",
       "[![arXiv](https://img.shields.io/badge/arXiv-2503.16367-b31b1b.svg)](https://arxiv.org/abs/2503.16367)<mark>Appeared on: 2025-03-21</mark> -  _23 pages, 17 figures, Submitted to A&A_\n",
       "\n",
       "</div>\n",
       "<div id=\"authors\">\n",
       "\n",
       "T. Saifollahi, et al. -- incl., <mark>M. Schirmer</mark>, <mark>K. Jahnke</mark>\n",
       "\n",
       "</div>\n",
       "<div id=\"abstract\">\n",
       "\n",
       "**Abstract:** We present an analysis of globular clusters (GCs) of dwarf galaxies in the Perseus galaxy cluster to explore the relationship between dwarf galaxy properties and their GCs, which offer important clues on the origin and subsequent evolution of dwarf galaxies. Our focus is on GC numbers ( $N_{\\rm GC}$ ) and GC half-number radii ( $R_{\\rm GC}$ ) around dwarf galaxies, and their relations with host galaxy stellar masses ( $M_{\\ast}$ ), central surface brightnesses ( $\\mu_0$ ), and effective radii ( $R_{\\rm e}$ ). Interestingly, we find that at a given stellar mass, $R_{\\rm GC}$ is almost independent of the host galaxy $\\mu_0$ and $R_{\\rm e}$ , while $R_{\\rm GC}/R_{\\rm e}$ depends on $\\mu_0$ and $R_{\\rm e}$ ; lower surface brightness and diffuse dwarf galaxies show $R_{\\rm GC}/R_{\\rm e}\\approx 1$ while higher surface brightness and compact dwarf galaxies show $R_{\\rm GC}/R_{\\rm e} \\approx $ $1.5$ -- $2$ . This means that for dwarf galaxies of similar stellar mass, the GCs have a similar median extent; however, their distribution is different from the field stars of their host. Additionally, low surface brightness and diffuse dwarf galaxies on average have a higher $N_{\\rm GC}$ than high surface brightness and compact dwarf galaxies at any given stellar mass. We also find that UDGs (ultra-diffuse galaxies) and non-UDGs in the sample have similar $R_{\\rm GC}$ , while UDGs have smaller $R_{\\rm GC}/R_{\\rm e}$ (typically less than 1) and 3--4 times higher $N_{\\rm GC}$ than non-UDGs. Furthermore, examining nucleated versus not-nucleated dwarf galaxies, we find that for $M_{\\ast} > 10^{8} \\si{M_{\\odot}}$ , nucleated dwarf galaxies seem to have smaller $R_{\\rm GC}$ and $R_{\\rm GC}/R_{\\rm e}$ , with no significant differences seen between their $N_{\\rm GC}$ , except at $M_{\\ast} < 10^{8} \\si{M_{\\odot}}$ where the nucleated dwarf galaxies tend to have a higher $N_{\\rm GC}$ . Lastly, we explore the stellar-to-halo mass ratio (SHMR) of dwarf galaxies (halo mass based on $N_{\\rm GC}$ ) and conclude that the Perseus cluster dwarf galaxies follow the expected SHMR at $z=0$ extrapolated down to $M_{\\ast} = 10^{6} \\si{M_{\\odot}}$ .\n",
       "\n",
       "</div>\n",
       "\n",
       "<div id=\"div_fig1\">\n",
       "\n",
       "<img src=\"tmp_2503.16367/./figures/results/ERO-PERSEUS_stacked-radial-profiles-stellarmass_all.png\" alt=\"Fig3\" width=\"100%\"/>\n",
       "\n",
       "**Figure 3. -** GC half-number radius ($R_{\\rm GC}$, top panel), and ratio between the GC half-number radius and the average of the host-galaxies effective radius ($R_{\\rm GC} / \\langle R_{\\rm e} \\rangle$, bottom panel), as functions of the stellar mass of the host galaxies ($M_{\\ast}$) for all dwarf galaxies in the sample. The values are estimated from stacked GC radial profiles that we fit with a Sérsic function, with a Sérsic index fixed to $n=1$(see text). The shaded region around each line represent the 68\\% percentiles of the estimated average value. The dashed lines show the trends one would expect from a simple extension of the equations in \\citet{lim2024}, that were derived for GCs in massive galaxies, to our lower mass regime (an extrapolation beyond the range examined by these authors).  (*dwarfs-stacked-rgc-all*)\n",
       "\n",
       "</div>\n",
       "<div id=\"div_fig2\">\n",
       "\n",
       "<img src=\"tmp_2503.16367/./figures/results/ERO-PERSEUS_stacked-radial-profiles+RE.png\" alt=\"Fig4\" width=\"100%\"/>\n",
       "\n",
       "**Figure 4. -** Similar to Fig. \\ref{dwarfs-stacked-rgc-all} for different dwarf galaxy categories. The two top panels represent the estimations for UDGs and non-UDGs (in purple and grey), the two middle panels for LSB and HSB dwarf galaxies (in red and blue), and the bottom two panels for DIFF and COMP dwarf galaxies (in orange and green). (*dwarfs-stacked-rgc*)\n",
       "\n",
       "</div>\n",
       "<div id=\"div_fig3\">\n",
       "\n",
       "<img src=\"tmp_2503.16367/./figures/results/ERO-PERSEUS_dwarf-division.png\" alt=\"Fig2\" width=\"100%\"/>\n",
       "\n",
       "**Figure 2. -** Division of the dwarf galaxy sample into high surface brightness dwarf galaxies (HSB, blue points), low surface brightness dwarf galaxies (LSB, red points), compact dwarf galaxies (COMP, green points), and diffuse dwarf galaxies (DIFF, orange points) based on their central surface brightness ($\\mu_0$) and effective radius ($R_{\\rm e}$). A distance of 72 Mpc was assumed to convert angular to physical scale. This division is stellarmass dependent and is indicated with the black dashed curve. Coloured points represent the dwarf galaxies that have been used for the analysis in this paper. Those dwarf galaxies that also satisfy the UDG criteria in $\\mu_{0, \\IE}$ and $R_{\\rm e}$(shown with dashed horizontal lines) are indicated with the black circles around the coloured circles. Grey points show those dwarf galaxies that have been removed from the sample after initial assessment (as was mentioned in Sect. \\ref{sc:Data-dwarf-cat}). (*dwarfs-division*)\n",
       "\n",
       "</div><div id=\"qrcode\"><img src=https://api.qrserver.com/v1/create-qr-code/?size=100x100&data=\"https://arxiv.org/abs/2503.16367\"></div>"
      ],
      "text/plain": [
       "<IPython.core.display.Markdown object>"
      ]
     },
     "metadata": {},
     "output_type": "display_data"
    }
   ],
   "source": [
    "[display(Markdown(k[1])) for k in documents];"
   ]
  },
  {
   "cell_type": "markdown",
   "id": "873873a4",
   "metadata": {
    "papermill": {
     "duration": 0.005713,
     "end_time": "2025-03-21T04:14:31.031674",
     "exception": false,
     "start_time": "2025-03-21T04:14:31.025961",
     "status": "completed"
    },
    "tags": []
   },
   "source": [
    "# Create HTML index"
   ]
  },
  {
   "cell_type": "code",
   "execution_count": 10,
   "id": "cf665672",
   "metadata": {
    "execution": {
     "iopub.execute_input": "2025-03-21T04:14:31.043529Z",
     "iopub.status.busy": "2025-03-21T04:14:31.043156Z",
     "iopub.status.idle": "2025-03-21T04:14:31.052266Z",
     "shell.execute_reply": "2025-03-21T04:14:31.051728Z"
    },
    "papermill": {
     "duration": 0.016106,
     "end_time": "2025-03-21T04:14:31.053218",
     "exception": false,
     "start_time": "2025-03-21T04:14:31.037112",
     "status": "completed"
    },
    "tags": []
   },
   "outputs": [
    {
     "name": "stdout",
     "output_type": "stream",
     "text": [
      "396  publications files modified in the last 7 days.\n"
     ]
    }
   ],
   "source": [
    "from datetime import datetime, timedelta, timezone\n",
    "from glob import glob\n",
    "import os\n",
    "\n",
    "files = glob('_build/html/*.md')\n",
    "days = 7\n",
    "now = datetime.today()\n",
    "res = []\n",
    "for fk in files:\n",
    "    stat_result = os.stat(fk).st_ctime\n",
    "    modified = datetime.fromtimestamp(stat_result, tz=timezone.utc).replace(tzinfo=None)\n",
    "    delta = now.today() - modified\n",
    "    if delta <= timedelta(days=days):\n",
    "        res.append((delta.seconds, fk))\n",
    "res = [k[1] for k in reversed(sorted(res, key=lambda x:x[1]))]\n",
    "npub = len(res)\n",
    "print(len(res), f\" publications files modified in the last {days:d} days.\")\n",
    "# [ print('\\t', k) for k in res ];"
   ]
  },
  {
   "cell_type": "code",
   "execution_count": 11,
   "id": "015de740",
   "metadata": {
    "execution": {
     "iopub.execute_input": "2025-03-21T04:14:31.065451Z",
     "iopub.status.busy": "2025-03-21T04:14:31.065043Z",
     "iopub.status.idle": "2025-03-21T04:14:31.085860Z",
     "shell.execute_reply": "2025-03-21T04:14:31.085368Z"
    },
    "papermill": {
     "duration": 0.028012,
     "end_time": "2025-03-21T04:14:31.086860",
     "exception": false,
     "start_time": "2025-03-21T04:14:31.058848",
     "status": "completed"
    },
    "tags": []
   },
   "outputs": [
    {
     "name": "stdout",
     "output_type": "stream",
     "text": [
      "35  publications in the last 7 days.\n"
     ]
    }
   ],
   "source": [
    "import datetime\n",
    "from glob import glob\n",
    "\n",
    "def get_last_n_days(lst, days=1):\n",
    "    \"\"\" Get the documents from the last n days \"\"\"\n",
    "    sorted_lst = sorted(lst, key=lambda x: x[1], reverse=True)\n",
    "    for fname, date in sorted_lst:\n",
    "        if date >= str(datetime.date.today() - datetime.timedelta(days=days)):\n",
    "            yield fname\n",
    "\n",
    "def extract_appearance_dates(lst_file):\n",
    "    dates = []\n",
    "\n",
    "    def get_date(line):\n",
    "        return line\\\n",
    "            .split('Appeared on:')[-1]\\\n",
    "            .split('</mark>')[0].strip()\n",
    "\n",
    "    for fname in lst:\n",
    "        with open(fname, 'r') as f:\n",
    "            found_date = False\n",
    "            for line in f:\n",
    "                if not found_date:\n",
    "                    if \"Appeared on\" in line:\n",
    "                        found_date = True\n",
    "                        dates.append((fname, get_date(line)))\n",
    "                else:\n",
    "                    break\n",
    "    return dates\n",
    "\n",
    "from glob import glob\n",
    "lst = glob('_build/html/*md')\n",
    "days = 7\n",
    "dates = extract_appearance_dates(lst)\n",
    "res = list(get_last_n_days(dates, days))\n",
    "npub = len(res)\n",
    "print(len(res), f\" publications in the last {days:d} days.\")"
   ]
  },
  {
   "cell_type": "code",
   "execution_count": 12,
   "id": "52ca0208",
   "metadata": {
    "execution": {
     "iopub.execute_input": "2025-03-21T04:14:31.099049Z",
     "iopub.status.busy": "2025-03-21T04:14:31.098681Z",
     "iopub.status.idle": "2025-03-21T04:14:31.103380Z",
     "shell.execute_reply": "2025-03-21T04:14:31.102854Z"
    },
    "papermill": {
     "duration": 0.01177,
     "end_time": "2025-03-21T04:14:31.104301",
     "exception": false,
     "start_time": "2025-03-21T04:14:31.092531",
     "status": "completed"
    },
    "scrolled": false,
    "tags": []
   },
   "outputs": [],
   "source": [
    "def create_carousel(npub=4):\n",
    "    \"\"\" Generate the HTML code for a carousel with `npub` slides \"\"\"\n",
    "    carousel = [\"\"\"  <div class=\"carousel\" \"\"\",\n",
    "                \"\"\"       data-flickity='{ \"autoPlay\": 10000, \"adaptiveHeight\": true, \"resize\": true, \"wrapAround\": true, \"pauseAutoPlayOnHover\": true, \"groupCells\": 1 }' id=\"asyncTypeset\">\"\"\"\n",
    "                ]\n",
    "    \n",
    "    item_str = \"\"\"    <div class=\"carousel-cell\"> <div id=\"slide{k}\" class=\"md_view\">Content {k}</div> </div>\"\"\"\n",
    "    for k in range(1, npub + 1):\n",
    "        carousel.append(item_str.format(k=k))\n",
    "    carousel.append(\"  </div>\")\n",
    "    return '\\n'.join(carousel)\n",
    "\n",
    "def create_grid(npub=4):\n",
    "    \"\"\" Generate the HTML code for a flat grid with `npub` slides \"\"\"\n",
    "    grid = [\"\"\"  <div class=\"grid\"> \"\"\",\n",
    "                ]\n",
    "    \n",
    "    item_str = \"\"\"    <div class=\"grid-item\"> <div id=\"slide{k}\" class=\"md_view\">Content {k}</div> </div>\"\"\"\n",
    "    for k in range(1, npub + 1):\n",
    "        grid.append(item_str.format(k=k))\n",
    "    grid.append(\"  </div>\")\n",
    "    return '\\n'.join(grid)"
   ]
  },
  {
   "cell_type": "code",
   "execution_count": 13,
   "id": "a6eac5b6",
   "metadata": {
    "execution": {
     "iopub.execute_input": "2025-03-21T04:14:31.116612Z",
     "iopub.status.busy": "2025-03-21T04:14:31.116248Z",
     "iopub.status.idle": "2025-03-21T04:14:31.121115Z",
     "shell.execute_reply": "2025-03-21T04:14:31.120632Z"
    },
    "papermill": {
     "duration": 0.012046,
     "end_time": "2025-03-21T04:14:31.122036",
     "exception": false,
     "start_time": "2025-03-21T04:14:31.109990",
     "status": "completed"
    },
    "scrolled": false,
    "tags": []
   },
   "outputs": [],
   "source": [
    "carousel = create_carousel(npub)\n",
    "docs = ', '.join(['\"{0:s}\"'.format(k.split('/')[-1]) for k in res])\n",
    "slides = ', '.join([f'\"slide{k}\"' for k in range(1, npub + 1)])\n",
    "\n",
    "with open(\"daily_template.html\", \"r\") as tpl:\n",
    "    page = tpl.read()\n",
    "    page = page.replace(\"{%-- carousel:s --%}\", carousel)\\\n",
    "               .replace(\"{%-- suptitle:s --%}\",  \"7-day archives\" )\\\n",
    "               .replace(\"{%-- docs:s --%}\", docs)\\\n",
    "               .replace(\"{%-- slides:s --%}\", slides)\n",
    "    \n",
    "with open(\"_build/html/index_7days.html\", 'w') as fout:\n",
    "    fout.write(page)"
   ]
  },
  {
   "cell_type": "code",
   "execution_count": 14,
   "id": "adc1a1ec",
   "metadata": {
    "execution": {
     "iopub.execute_input": "2025-03-21T04:14:31.134587Z",
     "iopub.status.busy": "2025-03-21T04:14:31.134190Z",
     "iopub.status.idle": "2025-03-21T04:14:31.140681Z",
     "shell.execute_reply": "2025-03-21T04:14:31.140178Z"
    },
    "papermill": {
     "duration": 0.013777,
     "end_time": "2025-03-21T04:14:31.141644",
     "exception": false,
     "start_time": "2025-03-21T04:14:31.127867",
     "status": "completed"
    },
    "tags": []
   },
   "outputs": [
    {
     "name": "stdout",
     "output_type": "stream",
     "text": [
      "29  publications in the last day.\n"
     ]
    }
   ],
   "source": [
    "# redo for today\n",
    "days = 1\n",
    "res = list(get_last_n_days(dates, days))\n",
    "npub = len(res)\n",
    "print(len(res), f\" publications in the last day.\")\n",
    "\n",
    "carousel = create_carousel(npub)\n",
    "docs = ', '.join(['\"{0:s}\"'.format(k.split('/')[-1]) for k in res])\n",
    "slides = ', '.join([f'\"slide{k}\"' for k in range(1, npub + 1)])\n",
    "\n",
    "with open(\"daily_template.html\", \"r\") as tpl:\n",
    "    page = tpl.read()\n",
    "    page = page.replace(\"{%-- carousel:s --%}\", carousel)\\\n",
    "               .replace(\"{%-- suptitle:s --%}\",  \"Daily\" )\\\n",
    "               .replace(\"{%-- docs:s --%}\", docs)\\\n",
    "               .replace(\"{%-- slides:s --%}\", slides)\n",
    "    \n",
    "# print(carousel, docs, slides)\n",
    "# print(page)\n",
    "with open(\"_build/html/index_daily.html\", 'w') as fout:\n",
    "    fout.write(page)"
   ]
  },
  {
   "cell_type": "code",
   "execution_count": 15,
   "id": "00eece82",
   "metadata": {
    "execution": {
     "iopub.execute_input": "2025-03-21T04:14:31.154155Z",
     "iopub.status.busy": "2025-03-21T04:14:31.153798Z",
     "iopub.status.idle": "2025-03-21T04:14:31.160158Z",
     "shell.execute_reply": "2025-03-21T04:14:31.159530Z"
    },
    "papermill": {
     "duration": 0.01372,
     "end_time": "2025-03-21T04:14:31.161204",
     "exception": false,
     "start_time": "2025-03-21T04:14:31.147484",
     "status": "completed"
    },
    "scrolled": false,
    "tags": []
   },
   "outputs": [
    {
     "name": "stdout",
     "output_type": "stream",
     "text": [
      "6  6 publications selected.\n"
     ]
    }
   ],
   "source": [
    "# Create the flat grid of the last N papers (fixed number regardless of dates)\n",
    "from itertools import islice \n",
    "\n",
    "npub = 6\n",
    "res = [k[0] for k in (islice(reversed(sorted(dates, key=lambda x: x[1])), 6))]\n",
    "print(len(res), f\" {npub} publications selected.\")\n",
    "\n",
    "grid = create_grid(npub)\n",
    "docs = ', '.join(['\"{0:s}\"'.format(k.split('/')[-1]) for k in res])\n",
    "slides = ', '.join([f'\"slide{k}\"' for k in range(1, npub + 1)])\n",
    "\n",
    "with open(\"grid_template.html\", \"r\") as tpl:\n",
    "    page = tpl.read()\n",
    "    page = page.replace(\"{%-- grid-content:s --%}\", grid)\\\n",
    "               .replace(\"{%-- suptitle:s --%}\",  f\"Last {npub:,d} papers\" )\\\n",
    "               .replace(\"{%-- docs:s --%}\", docs)\\\n",
    "               .replace(\"{%-- slides:s --%}\", slides)\n",
    "    \n",
    "# print(grid, docs, slides)\n",
    "# print(page)\n",
    "with open(\"_build/html/index_npub_grid.html\", 'w') as fout:\n",
    "    fout.write(page)"
   ]
  }
 ],
 "metadata": {
  "kernelspec": {
   "display_name": "Python 3 (ipykernel)",
   "language": "python",
   "name": "python3"
  },
  "language_info": {
   "codemirror_mode": {
    "name": "ipython",
    "version": 3
   },
   "file_extension": ".py",
   "mimetype": "text/x-python",
   "name": "python",
   "nbconvert_exporter": "python",
   "pygments_lexer": "ipython3",
   "version": "3.9.21"
  },
  "papermill": {
   "default_parameters": {},
   "duration": 189.161368,
   "end_time": "2025-03-21T04:14:31.382572",
   "environment_variables": {},
   "exception": null,
   "input_path": "MPIA daily digest.ipynb",
   "output_path": "log.ipynb",
   "parameters": {},
   "start_time": "2025-03-21T04:11:22.221204",
   "version": "2.6.0"
  },
  "vscode": {
   "interpreter": {
    "hash": "aee8b7b246df8f9039afb4144a1f6fd8d2ca17a180786b69acc140d282b71a49"
   }
  },
  "widgets": {
   "application/vnd.jupyter.widget-state+json": {
    "state": {
     "37ac58e1048543a8958943d421321b24": {
      "model_module": "@jupyter-widgets/controls",
      "model_module_version": "2.0.0",
      "model_name": "ProgressStyleModel",
      "state": {
       "_model_module": "@jupyter-widgets/controls",
       "_model_module_version": "2.0.0",
       "_model_name": "ProgressStyleModel",
       "_view_count": null,
       "_view_module": "@jupyter-widgets/base",
       "_view_module_version": "2.0.0",
       "_view_name": "StyleView",
       "bar_color": null,
       "description_width": ""
      }
     },
     "410332d593a546e08245b123fec989b7": {
      "model_module": "@jupyter-widgets/base",
      "model_module_version": "2.0.0",
      "model_name": "LayoutModel",
      "state": {
       "_model_module": "@jupyter-widgets/base",
       "_model_module_version": "2.0.0",
       "_model_name": "LayoutModel",
       "_view_count": null,
       "_view_module": "@jupyter-widgets/base",
       "_view_module_version": "2.0.0",
       "_view_name": "LayoutView",
       "align_content": null,
       "align_items": null,
       "align_self": null,
       "border_bottom": null,
       "border_left": null,
       "border_right": null,
       "border_top": null,
       "bottom": null,
       "display": null,
       "flex": null,
       "flex_flow": null,
       "grid_area": null,
       "grid_auto_columns": null,
       "grid_auto_flow": null,
       "grid_auto_rows": null,
       "grid_column": null,
       "grid_gap": null,
       "grid_row": null,
       "grid_template_areas": null,
       "grid_template_columns": null,
       "grid_template_rows": null,
       "height": null,
       "justify_content": null,
       "justify_items": null,
       "left": null,
       "margin": null,
       "max_height": null,
       "max_width": null,
       "min_height": null,
       "min_width": null,
       "object_fit": null,
       "object_position": null,
       "order": null,
       "overflow": null,
       "padding": null,
       "right": null,
       "top": null,
       "visibility": null,
       "width": null
      }
     },
     "414b3d3a63e1416aabb772272dbc6fcb": {
      "model_module": "@jupyter-widgets/base",
      "model_module_version": "2.0.0",
      "model_name": "LayoutModel",
      "state": {
       "_model_module": "@jupyter-widgets/base",
       "_model_module_version": "2.0.0",
       "_model_name": "LayoutModel",
       "_view_count": null,
       "_view_module": "@jupyter-widgets/base",
       "_view_module_version": "2.0.0",
       "_view_name": "LayoutView",
       "align_content": null,
       "align_items": null,
       "align_self": null,
       "border_bottom": null,
       "border_left": null,
       "border_right": null,
       "border_top": null,
       "bottom": null,
       "display": null,
       "flex": null,
       "flex_flow": null,
       "grid_area": null,
       "grid_auto_columns": null,
       "grid_auto_flow": null,
       "grid_auto_rows": null,
       "grid_column": null,
       "grid_gap": null,
       "grid_row": null,
       "grid_template_areas": null,
       "grid_template_columns": null,
       "grid_template_rows": null,
       "height": null,
       "justify_content": null,
       "justify_items": null,
       "left": null,
       "margin": null,
       "max_height": null,
       "max_width": null,
       "min_height": null,
       "min_width": null,
       "object_fit": null,
       "object_position": null,
       "order": null,
       "overflow": null,
       "padding": null,
       "right": null,
       "top": null,
       "visibility": null,
       "width": null
      }
     },
     "4fda0e8668bc45edb1118c4fe2997746": {
      "model_module": "@jupyter-widgets/controls",
      "model_module_version": "2.0.0",
      "model_name": "HBoxModel",
      "state": {
       "_dom_classes": [],
       "_model_module": "@jupyter-widgets/controls",
       "_model_module_version": "2.0.0",
       "_model_name": "HBoxModel",
       "_view_count": null,
       "_view_module": "@jupyter-widgets/controls",
       "_view_module_version": "2.0.0",
       "_view_name": "HBoxView",
       "box_style": "",
       "children": [
        "IPY_MODEL_9e96fe92ea374706a7e908b199b4c170",
        "IPY_MODEL_6c658c0e1ef7473fb5d9558eaac41b90",
        "IPY_MODEL_720ffa185c964fa5925d942f7b594ec8"
       ],
       "layout": "IPY_MODEL_410332d593a546e08245b123fec989b7",
       "tabbable": null,
       "tooltip": null
      }
     },
     "509b2583f5fb431ea9066b99f42029f1": {
      "model_module": "@jupyter-widgets/base",
      "model_module_version": "2.0.0",
      "model_name": "LayoutModel",
      "state": {
       "_model_module": "@jupyter-widgets/base",
       "_model_module_version": "2.0.0",
       "_model_name": "LayoutModel",
       "_view_count": null,
       "_view_module": "@jupyter-widgets/base",
       "_view_module_version": "2.0.0",
       "_view_name": "LayoutView",
       "align_content": null,
       "align_items": null,
       "align_self": null,
       "border_bottom": null,
       "border_left": null,
       "border_right": null,
       "border_top": null,
       "bottom": null,
       "display": null,
       "flex": null,
       "flex_flow": null,
       "grid_area": null,
       "grid_auto_columns": null,
       "grid_auto_flow": null,
       "grid_auto_rows": null,
       "grid_column": null,
       "grid_gap": null,
       "grid_row": null,
       "grid_template_areas": null,
       "grid_template_columns": null,
       "grid_template_rows": null,
       "height": null,
       "justify_content": null,
       "justify_items": null,
       "left": null,
       "margin": null,
       "max_height": null,
       "max_width": null,
       "min_height": null,
       "min_width": null,
       "object_fit": null,
       "object_position": null,
       "order": null,
       "overflow": null,
       "padding": null,
       "right": null,
       "top": null,
       "visibility": null,
       "width": null
      }
     },
     "5d9ff6bb545b458dabc68e4625d9eb5b": {
      "model_module": "@jupyter-widgets/controls",
      "model_module_version": "2.0.0",
      "model_name": "HTMLStyleModel",
      "state": {
       "_model_module": "@jupyter-widgets/controls",
       "_model_module_version": "2.0.0",
       "_model_name": "HTMLStyleModel",
       "_view_count": null,
       "_view_module": "@jupyter-widgets/base",
       "_view_module_version": "2.0.0",
       "_view_name": "StyleView",
       "background": null,
       "description_width": "",
       "font_size": null,
       "text_color": null
      }
     },
     "6c658c0e1ef7473fb5d9558eaac41b90": {
      "model_module": "@jupyter-widgets/controls",
      "model_module_version": "2.0.0",
      "model_name": "FloatProgressModel",
      "state": {
       "_dom_classes": [],
       "_model_module": "@jupyter-widgets/controls",
       "_model_module_version": "2.0.0",
       "_model_name": "FloatProgressModel",
       "_view_count": null,
       "_view_module": "@jupyter-widgets/controls",
       "_view_module_version": "2.0.0",
       "_view_name": "ProgressView",
       "bar_style": "success",
       "description": "",
       "description_allow_html": false,
       "layout": "IPY_MODEL_414b3d3a63e1416aabb772272dbc6fcb",
       "max": 5.0,
       "min": 0.0,
       "orientation": "horizontal",
       "style": "IPY_MODEL_37ac58e1048543a8958943d421321b24",
       "tabbable": null,
       "tooltip": null,
       "value": 5.0
      }
     },
     "720ffa185c964fa5925d942f7b594ec8": {
      "model_module": "@jupyter-widgets/controls",
      "model_module_version": "2.0.0",
      "model_name": "HTMLModel",
      "state": {
       "_dom_classes": [],
       "_model_module": "@jupyter-widgets/controls",
       "_model_module_version": "2.0.0",
       "_model_name": "HTMLModel",
       "_view_count": null,
       "_view_module": "@jupyter-widgets/controls",
       "_view_module_version": "2.0.0",
       "_view_name": "HTMLView",
       "description": "",
       "description_allow_html": false,
       "layout": "IPY_MODEL_509b2583f5fb431ea9066b99f42029f1",
       "placeholder": "​",
       "style": "IPY_MODEL_9843975c82834c4987a65c162d62d28e",
       "tabbable": null,
       "tooltip": null,
       "value": " 5/5 [02:47&lt;00:00, 24.85s/it]"
      }
     },
     "9843975c82834c4987a65c162d62d28e": {
      "model_module": "@jupyter-widgets/controls",
      "model_module_version": "2.0.0",
      "model_name": "HTMLStyleModel",
      "state": {
       "_model_module": "@jupyter-widgets/controls",
       "_model_module_version": "2.0.0",
       "_model_name": "HTMLStyleModel",
       "_view_count": null,
       "_view_module": "@jupyter-widgets/base",
       "_view_module_version": "2.0.0",
       "_view_name": "StyleView",
       "background": null,
       "description_width": "",
       "font_size": null,
       "text_color": null
      }
     },
     "9e96fe92ea374706a7e908b199b4c170": {
      "model_module": "@jupyter-widgets/controls",
      "model_module_version": "2.0.0",
      "model_name": "HTMLModel",
      "state": {
       "_dom_classes": [],
       "_model_module": "@jupyter-widgets/controls",
       "_model_module_version": "2.0.0",
       "_model_name": "HTMLModel",
       "_view_count": null,
       "_view_module": "@jupyter-widgets/controls",
       "_view_module_version": "2.0.0",
       "_view_name": "HTMLView",
       "description": "",
       "description_allow_html": false,
       "layout": "IPY_MODEL_c8b76fc39416479d86ba2b0c004d8025",
       "placeholder": "​",
       "style": "IPY_MODEL_5d9ff6bb545b458dabc68e4625d9eb5b",
       "tabbable": null,
       "tooltip": null,
       "value": "100%"
      }
     },
     "c8b76fc39416479d86ba2b0c004d8025": {
      "model_module": "@jupyter-widgets/base",
      "model_module_version": "2.0.0",
      "model_name": "LayoutModel",
      "state": {
       "_model_module": "@jupyter-widgets/base",
       "_model_module_version": "2.0.0",
       "_model_name": "LayoutModel",
       "_view_count": null,
       "_view_module": "@jupyter-widgets/base",
       "_view_module_version": "2.0.0",
       "_view_name": "LayoutView",
       "align_content": null,
       "align_items": null,
       "align_self": null,
       "border_bottom": null,
       "border_left": null,
       "border_right": null,
       "border_top": null,
       "bottom": null,
       "display": null,
       "flex": null,
       "flex_flow": null,
       "grid_area": null,
       "grid_auto_columns": null,
       "grid_auto_flow": null,
       "grid_auto_rows": null,
       "grid_column": null,
       "grid_gap": null,
       "grid_row": null,
       "grid_template_areas": null,
       "grid_template_columns": null,
       "grid_template_rows": null,
       "height": null,
       "justify_content": null,
       "justify_items": null,
       "left": null,
       "margin": null,
       "max_height": null,
       "max_width": null,
       "min_height": null,
       "min_width": null,
       "object_fit": null,
       "object_position": null,
       "order": null,
       "overflow": null,
       "padding": null,
       "right": null,
       "top": null,
       "visibility": null,
       "width": null
      }
     }
    },
    "version_major": 2,
    "version_minor": 0
   }
  }
 },
 "nbformat": 4,
 "nbformat_minor": 5
}