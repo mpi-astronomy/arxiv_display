{
 "cells": [
  {
   "cell_type": "markdown",
   "id": "92bcb855",
   "metadata": {
    "papermill": {
     "duration": 0.004161,
     "end_time": "2024-05-27T04:09:19.745022",
     "exception": false,
     "start_time": "2024-05-27T04:09:19.740861",
     "status": "completed"
    },
    "tags": []
   },
   "source": [
    "# MPIA Arxiv on Deck 2\n",
    "\n",
    "Contains the steps to produce the paper extractions."
   ]
  },
  {
   "cell_type": "code",
   "execution_count": 1,
   "id": "3a0d6e11",
   "metadata": {
    "execution": {
     "iopub.execute_input": "2024-05-27T04:09:19.753249Z",
     "iopub.status.busy": "2024-05-27T04:09:19.752657Z",
     "iopub.status.idle": "2024-05-27T04:09:20.097621Z",
     "shell.execute_reply": "2024-05-27T04:09:20.096860Z"
    },
    "papermill": {
     "duration": 0.351149,
     "end_time": "2024-05-27T04:09:20.099456",
     "exception": false,
     "start_time": "2024-05-27T04:09:19.748307",
     "status": "completed"
    },
    "tags": []
   },
   "outputs": [],
   "source": [
    "# Imports\n",
    "import os\n",
    "from IPython.display import Markdown, display\n",
    "from tqdm.notebook import tqdm\n",
    "import warnings\n",
    "from PIL import Image \n",
    "\n",
    "# requires arxiv_on_deck_2\n",
    "\n",
    "from arxiv_on_deck_2.arxiv2 import (get_new_papers, \n",
    "                                    get_paper_from_identifier,\n",
    "                                    retrieve_document_source, \n",
    "                                    get_markdown_badge)\n",
    "from arxiv_on_deck_2 import (latex,\n",
    "                             latex_bib,\n",
    "                             mpia,\n",
    "                             highlight_authors_in_list)\n",
    "\n",
    "# Sometimes images are really big\n",
    "Image.MAX_IMAGE_PIXELS = 1000000000 "
   ]
  },
  {
   "cell_type": "code",
   "execution_count": 2,
   "id": "22aa9d44",
   "metadata": {
    "execution": {
     "iopub.execute_input": "2024-05-27T04:09:20.107344Z",
     "iopub.status.busy": "2024-05-27T04:09:20.106667Z",
     "iopub.status.idle": "2024-05-27T04:09:20.112124Z",
     "shell.execute_reply": "2024-05-27T04:09:20.111439Z"
    },
    "papermill": {
     "duration": 0.010673,
     "end_time": "2024-05-27T04:09:20.113435",
     "exception": false,
     "start_time": "2024-05-27T04:09:20.102762",
     "status": "completed"
    },
    "tags": []
   },
   "outputs": [],
   "source": [
    "# Some useful definitions.\n",
    "\n",
    "class AffiliationWarning(UserWarning):\n",
    "    pass\n",
    "\n",
    "class AffiliationError(RuntimeError):\n",
    "    pass\n",
    "\n",
    "def validation(source: str):\n",
    "    \"\"\"Raises error paper during parsing of source file\n",
    "    \n",
    "    Allows checks before parsing TeX code.\n",
    "    \n",
    "    Raises AffiliationWarning\n",
    "    \"\"\"\n",
    "    check = mpia.affiliation_verifications(source, verbose=True)\n",
    "    if check is not True:\n",
    "        raise AffiliationError(\"mpia.affiliation_verifications: \" + check)\n",
    "\n",
    "        \n",
    "warnings.simplefilter('always', AffiliationWarning)\n",
    "\n",
    "\n",
    "def get_markdown_qrcode(paper_id: str):\n",
    "    \"\"\" Generate a qrcode to the arxiv page using qrserver.com\n",
    "    \n",
    "    :param paper: Arxiv paper\n",
    "    :returns: markdown text\n",
    "    \"\"\"\n",
    "    url = r\"https://api.qrserver.com/v1/create-qr-code/?size=100x100&data=\"\n",
    "    txt = f\"\"\"<img src={url}\"https://arxiv.org/abs/{paper_id}\">\"\"\"\n",
    "    txt = '<div id=\"qrcode\">' + txt + '</div>'\n",
    "    return txt"
   ]
  },
  {
   "cell_type": "markdown",
   "id": "14bd6310",
   "metadata": {
    "papermill": {
     "duration": 0.002931,
     "end_time": "2024-05-27T04:09:20.119497",
     "exception": false,
     "start_time": "2024-05-27T04:09:20.116566",
     "status": "completed"
    },
    "tags": []
   },
   "source": [
    "## get list of arxiv paper candidates\n",
    "\n",
    "We use the MPIA mitarbeiter list webpage from mpia.de to get author names\n",
    "We then get all new papers from Arxiv and match authors"
   ]
  },
  {
   "cell_type": "code",
   "execution_count": 3,
   "id": "7ea813a8",
   "metadata": {
    "execution": {
     "iopub.execute_input": "2024-05-27T04:09:20.127059Z",
     "iopub.status.busy": "2024-05-27T04:09:20.126477Z",
     "iopub.status.idle": "2024-05-27T04:09:37.094773Z",
     "shell.execute_reply": "2024-05-27T04:09:37.094148Z"
    },
    "papermill": {
     "duration": 16.973967,
     "end_time": "2024-05-27T04:09:37.096493",
     "exception": false,
     "start_time": "2024-05-27T04:09:20.122526",
     "status": "completed"
    },
    "tags": []
   },
   "outputs": [],
   "source": [
    "# deal with the author list and edge cases of people that cannot be consistent on their name  \n",
    "\n",
    "def filter_non_scientists(name: str) -> bool:\n",
    "    \"\"\" Loose filter on expected authorships\n",
    "\n",
    "    removing IT, administration, technical staff\n",
    "    :param name: name\n",
    "    :returns: False if name is not a scientist\n",
    "    \"\"\"\n",
    "    remove_list = ['Wolf', 'Licht', 'Binroth', 'Witzel', 'Jordan',\n",
    "                   'Zähringer', 'Scheerer', 'Hoffmann', 'Düe',\n",
    "                   'Hellmich', 'Enkler-Scharpegge', 'Witte-Nguy',\n",
    "                   'Dehen', 'Beckmann', 'Jager', 'Jäger'\n",
    "                  ]\n",
    "\n",
    "    for k in remove_list:\n",
    "        if k in name:\n",
    "            return False\n",
    "    return True\n",
    "\n",
    "def add_author_to_list(author_list: list) -> list:\n",
    "    \"\"\" Add author to list if not already in list\n",
    "    \n",
    "    :param author: author name\n",
    "    :param author_list: list of authors\n",
    "    :returns: updated list of authors\n",
    "    \"\"\"\n",
    "    add_list = ['T. Henning']\n",
    "\n",
    "    for author in add_list:\n",
    "        if author not in author_list:\n",
    "            author_list.append(author)\n",
    "    return author_list\n",
    "\n",
    "# get list from MPIA website\n",
    "# filter for non-scientists (mpia.get_mpia_mitarbeiter_list() does some filtering)\n",
    "mpia_authors = [k[1] for k in mpia.get_mpia_mitarbeiter_list() if filter_non_scientists(k[1])]\n",
    "# add some missing author because of inconsistencies in their MPIA name and author name on papers\n",
    "mpia_authors = add_author_to_list(mpia_authors)"
   ]
  },
  {
   "cell_type": "code",
   "execution_count": 4,
   "id": "2645e73a",
   "metadata": {
    "execution": {
     "iopub.execute_input": "2024-05-27T04:09:37.104331Z",
     "iopub.status.busy": "2024-05-27T04:09:37.103895Z",
     "iopub.status.idle": "2024-05-27T04:09:37.581131Z",
     "shell.execute_reply": "2024-05-27T04:09:37.580404Z"
    },
    "papermill": {
     "duration": 0.482864,
     "end_time": "2024-05-27T04:09:37.582643",
     "exception": false,
     "start_time": "2024-05-27T04:09:37.099779",
     "status": "completed"
    },
    "tags": []
   },
   "outputs": [
    {
     "name": "stdout",
     "output_type": "stream",
     "text": [
      "K. Kreckel  ->  K. Kreckel  |  ['K. Kreckel']\n",
      "P. Garcia  ->  A. P. Garcia  |  ['P. Garcia']\n",
      "J. Li  ->  J. Li  |  ['J. Li']\n",
      "H.-W. Rix  ->  H.-W. Rix  |  ['H.-W. Rix']\n",
      "J. Li  ->  J. Li  |  ['J. Li']\n",
      "K. Kreckel  ->  K. Kreckel  |  ['K. Kreckel']\n",
      "M. Benisty  ->  M. Benisty  |  ['M. Benisty']\n",
      "Arxiv has 56 new papers today\n",
      "          4 with possible author matches\n"
     ]
    }
   ],
   "source": [
    "new_papers = get_new_papers()\n",
    "# add manual references\n",
    "add_paper_refs = []\n",
    "new_papers.extend([get_paper_from_identifier(k) for k in add_paper_refs])\n",
    "\n",
    "candidates = []\n",
    "for paperk in new_papers:\n",
    "    # Check author list with their initials\n",
    "    normed_author_list = [mpia.get_initials(k) for k in paperk['authors']]\n",
    "    hl_authors = highlight_authors_in_list(normed_author_list, mpia_authors, verbose=True)\n",
    "    matches = [(hl, orig) for hl, orig in zip(hl_authors, paperk['authors']) if 'mark' in hl]\n",
    "    paperk['authors'] = hl_authors\n",
    "    if matches:\n",
    "        # only select paper if an author matched our list\n",
    "        candidates.append(paperk)\n",
    "print(\"\"\"Arxiv has {0:,d} new papers today\"\"\".format(len(new_papers)))        \n",
    "print(\"\"\"          {0:,d} with possible author matches\"\"\".format(len(candidates)))"
   ]
  },
  {
   "cell_type": "markdown",
   "id": "3543b34a",
   "metadata": {
    "papermill": {
     "duration": 0.003202,
     "end_time": "2024-05-27T04:09:37.589315",
     "exception": false,
     "start_time": "2024-05-27T04:09:37.586113",
     "status": "completed"
    },
    "tags": []
   },
   "source": [
    "# Parse sources and generate relevant outputs\n",
    "\n",
    "From the candidates, we do the following steps:\n",
    "* get their tarball from ArXiv (and extract data)\n",
    "* find the main .tex file: find one with \\documentclass{...} (sometimes it's non trivial)\n",
    "* Check affiliations with :func:`validation`, which uses :func:`mpia.affiliation_verifications`\n",
    "* If passing the affiliations: we parse the .tex source\n",
    "   * inject sub-documents into the main (flatten the main document)\n",
    "   * parse structure, extract information (title, abstract, authors, figures...)\n",
    "   * handles `\\graphicspath` if provided\n",
    "* Generate the .md document."
   ]
  },
  {
   "cell_type": "code",
   "execution_count": 5,
   "id": "9576b79e",
   "metadata": {
    "execution": {
     "iopub.execute_input": "2024-05-27T04:09:37.596701Z",
     "iopub.status.busy": "2024-05-27T04:09:37.596216Z",
     "iopub.status.idle": "2024-05-27T04:10:07.664128Z",
     "shell.execute_reply": "2024-05-27T04:10:07.663350Z"
    },
    "papermill": {
     "duration": 30.078021,
     "end_time": "2024-05-27T04:10:07.670371",
     "exception": false,
     "start_time": "2024-05-27T04:09:37.592350",
     "status": "completed"
    },
    "scrolled": false,
    "tags": []
   },
   "outputs": [
    {
     "data": {
      "application/vnd.jupyter.widget-view+json": {
       "model_id": "f5979a062fe249718d99dc449b2bb202",
       "version_major": 2,
       "version_minor": 0
      },
      "text/plain": [
       "  0%|          | 0/4 [00:00<?, ?it/s]"
      ]
     },
     "metadata": {},
     "output_type": "display_data"
    },
    {
     "name": "stdout",
     "output_type": "stream",
     "text": [
      "Retrieving document from  https://arxiv.org/e-print/2405.14943\n"
     ]
    },
    {
     "name": "stdout",
     "output_type": "stream",
     "text": [
      "extracting tarball to tmp_2405.14943..."
     ]
    },
    {
     "name": "stdout",
     "output_type": "stream",
     "text": [
      " done.\n"
     ]
    },
    {
     "name": "stdout",
     "output_type": "stream",
     "text": [
      "K. Kreckel  ->  K. Kreckel  |  ['K. Kreckel']\n",
      "J. Li  ->  J. Li  |  ['J. Li']\n",
      "H.-W. Rix  ->  H.-W. Rix  |  ['H.-W. Rix']\n"
     ]
    },
    {
     "name": "stdout",
     "output_type": "stream",
     "text": [
      "list index out of range\n",
      "Retrieving document from  https://arxiv.org/e-print/2405.14980\n"
     ]
    },
    {
     "name": "stdout",
     "output_type": "stream",
     "text": [
      "extracting tarball to tmp_2405.14980... done.\n",
      "Retrieving document from  https://arxiv.org/e-print/2405.15102\n"
     ]
    },
    {
     "name": "stdout",
     "output_type": "stream",
     "text": [
      "extracting tarball to tmp_2405.15102..."
     ]
    },
    {
     "name": "stdout",
     "output_type": "stream",
     "text": [
      " done.\n",
      "Retrieving document from  https://arxiv.org/e-print/2405.15611\n",
      "extracting tarball to tmp_2405.15611... done.\n"
     ]
    },
    {
     "name": "stderr",
     "output_type": "stream",
     "text": [
      "/opt/hostedtoolcache/Python/3.9.19/x64/lib/python3.9/site-packages/IPython/core/interactiveshell.py:3550: LatexWarning: Multiple tex files.\n",
      "\n",
      "  exec(code_obj, self.user_global_ns, self.user_ns)\n",
      "/tmp/ipykernel_2257/1211882699.py:51: LatexWarning: 2405.15102 did not run properly\n",
      "'PosixPath' object is not subscriptable\n",
      "  warnings.warn(latex.LatexWarning(f\"{paper_id:s} did not run properly\\n\" +\n"
     ]
    }
   ],
   "source": [
    "documents = []\n",
    "failed = []\n",
    "for paper in tqdm(candidates):\n",
    "    # debug crap\n",
    "    paper['identifier'] = paper['identifier'].lower().replace('arxiv:', '').replace(r'\\n', '').strip()\n",
    "    paper_id = paper['identifier']\n",
    "    \n",
    "    folder = f'tmp_{paper_id}'\n",
    "\n",
    "    try:\n",
    "        if not os.path.isdir(folder):\n",
    "            folder = retrieve_document_source(f\"{paper_id}\", f'tmp_{paper_id}')\n",
    "        \n",
    "        try:\n",
    "            doc = latex.LatexDocument(folder, validation=validation)    \n",
    "        except AffiliationError as affilerror:\n",
    "            msg = f\"ArXiv:{paper_id:s} is not an MPIA paper... \" + str(affilerror)\n",
    "            failed.append((paper, \"affiliation error: \" + str(affilerror) ))\n",
    "            continue\n",
    "        \n",
    "        # Hack because sometimes author parsing does not work well\n",
    "        if (len(doc.authors) != len(paper['authors'])):\n",
    "            doc._authors = paper['authors']\n",
    "        else:\n",
    "            # highlight authors (FIXME: doc.highlight_authors)\n",
    "            # done on arxiv paper already\n",
    "            doc._authors = highlight_authors_in_list(\n",
    "                [mpia.get_initials(k) for k in doc.authors], \n",
    "                mpia_authors, verbose=True)\n",
    "        if (doc.abstract) in (None, ''):\n",
    "            doc._abstract = paper['abstract']\n",
    "            \n",
    "        doc.comment = (get_markdown_badge(paper_id) + \n",
    "                       \"<mark>Appeared on: \" + paper['date'] + \"</mark> - \")\n",
    "        if paper['comments']:\n",
    "            doc.comment += \" _\" + paper['comments'] + \"_\"\n",
    "        \n",
    "        full_md = doc.generate_markdown_text()\n",
    "        \n",
    "        full_md += get_markdown_qrcode(paper_id)\n",
    "        \n",
    "        # replace citations\n",
    "        try:\n",
    "            bibdata = latex_bib.LatexBib.from_doc(doc)\n",
    "            full_md = latex_bib.replace_citations(full_md, bibdata)\n",
    "        except Exception as e:\n",
    "            print(e)\n",
    "        \n",
    "        documents.append((paper_id, full_md))\n",
    "    except Exception as e:\n",
    "        warnings.warn(latex.LatexWarning(f\"{paper_id:s} did not run properly\\n\" +\n",
    "                                         str(e)\n",
    "                                        ))\n",
    "        failed.append((paper, \"latex error \" + str(e)))"
   ]
  },
  {
   "cell_type": "markdown",
   "id": "2505a25c",
   "metadata": {
    "papermill": {
     "duration": 0.003612,
     "end_time": "2024-05-27T04:10:07.677752",
     "exception": false,
     "start_time": "2024-05-27T04:10:07.674140",
     "status": "completed"
    },
    "tags": []
   },
   "source": [
    "### Export the logs\n",
    "\n",
    "Throughout, we also keep track of the logs per paper. see `logs-{today date}.md` "
   ]
  },
  {
   "cell_type": "code",
   "execution_count": 6,
   "id": "d733828a",
   "metadata": {
    "execution": {
     "iopub.execute_input": "2024-05-27T04:10:07.687286Z",
     "iopub.status.busy": "2024-05-27T04:10:07.686640Z",
     "iopub.status.idle": "2024-05-27T04:10:07.702570Z",
     "shell.execute_reply": "2024-05-27T04:10:07.702020Z"
    },
    "papermill": {
     "duration": 0.021908,
     "end_time": "2024-05-27T04:10:07.703911",
     "exception": false,
     "start_time": "2024-05-27T04:10:07.682003",
     "status": "completed"
    },
    "scrolled": false,
    "tags": []
   },
   "outputs": [
    {
     "data": {
      "text/markdown": [
       "## Successful papers"
      ],
      "text/plain": [
       "<IPython.core.display.Markdown object>"
      ]
     },
     "metadata": {},
     "output_type": "display_data"
    },
    {
     "data": {
      "text/markdown": [
       "\n",
       "|||\n",
       "|---:|:---|\n",
       "| [![arXiv](https://img.shields.io/badge/arXiv-2405.14943-b31b1b.svg)](https://arxiv.org/abs/2405.14943) | **SDSS-V Local Volume Mapper (LVM): A Glimpse into Orion**  |\n",
       "|| <mark>K. Kreckel</mark>, et al. -- incl., <mark>P. Garcia</mark>, <mark>J. Li</mark>, <mark>H.-W. Rix</mark> |\n",
       "|*Appeared on*| *2024-05-27*|\n",
       "|*Comments*| *12 pages, 9 figures, submitted to A&A*|\n",
       "|**Abstract**|            The Orion Molecular Cloud complex, one of the nearest (D~400 pc) and most extensively studied massive star-forming regions, is ideal for constraining the physics of stellar feedback, but its ~12 deg diameter on the sky requires a dedicated approach to mapping ionized gas structures within and around the nebula. The Sloan Digital Sky Survey (SDSS-V) Local Volume Mapper (LVM) is a new optical integral field unit (IFU) that will map the ionized gas within the Milky Way and Local Group galaxies, covering 4300 deg^2 of the sky with the new LVM Instrument (LVM-I). We showcase optical emission line maps from LVM covering 12 deg^2 inside of the Orion belt region, with 195,000 individual spectra combined to produce images at 0.07 pc (35.3 arcsec) resolution. This is the largest IFU map made (to date) of the Milky Way, and contains well-known nebulae (the Horsehead Nebula, Flame Nebula, IC 434, and IC 432), as well as ionized interfaces with the neighboring dense Orion B molecular cloud. We resolve the ionization structure of each nebula, and map the increase in both the [SII]/Ha and [NII]/Ha line ratios at the outskirts of nebulae and along the ionization front with Orion B. [OIII] line emission is only spatially resolved within the center of the Flame Nebula and IC 434, and our ~0.1 pc scale line ratio diagrams show how variations in these diagnostics are lost as we move from the resolved to the integrated view of each nebula. We detect ionized gas emission associated with the dusty bow wave driven ahead of the star sigma Orionis, where the stellar wind interacts with the ambient interstellar medium. The Horsehead Nebula is seen as a dark occlusion of the bright surrounding photo-disassociation region. This small glimpse into Orion only hints at the rich science that will be enabled by the LVM.         |"
      ],
      "text/plain": [
       "[2405.14943] SDSS-V Local Volume Mapper (LVM): A Glimpse into Orion\n",
       "\t<mark>K. Kreckel</mark>, et al. -- incl., <mark>P. Garcia</mark>, <mark>J. Li</mark>, <mark>H.-W. Rix</mark>"
      ]
     },
     "metadata": {},
     "output_type": "display_data"
    },
    {
     "data": {
      "text/markdown": [
       "## Failed papers"
      ],
      "text/plain": [
       "<IPython.core.display.Markdown object>"
      ]
     },
     "metadata": {},
     "output_type": "display_data"
    },
    {
     "data": {
      "text/markdown": [
       "\n",
       "|||\n",
       "|---:|:---|\n",
       "| [![arXiv](https://img.shields.io/badge/arXiv-2405.14980-b31b1b.svg)](https://arxiv.org/abs/2405.14980) | **Active Galactic Nuclei and Host Galaxies in COSMOS-Web. II. First Look at the Kpc-scale Dual and Offset AGN Population**  |\n",
       "|| <mark>J. Li</mark>, et al. |\n",
       "|*Appeared on*| *2024-05-27*|\n",
       "|*Comments*| *20 pages, 8 figures, submitted to ApJ*|\n",
       "|**Abstract**|            Kpc-scale dual and offset Active Galactic Nuclei (AGNs) are signposts of accreting supermassive black holes (SMBHs) triggered during late-stage galaxy mergers, offering crucial insights into the coevolution of SMBHs and galaxies. However, robustly confirmed systems at high redshift (e.g., $z>1$) are scarce and biased towards the most luminous and unobscured systems. In this study, we systematically search for kpc-scale (projected separation $<15$ kpc) dual and offset AGNs around 571 moderate-luminosity, X-ray-selected AGNs including the obscured population, utilizing deep HST ACS/F814W and multiband JWST NIRCam imaging from the COSMOS-Web survey. We identify 59 dual and 30 offset AGN candidates in late stage major mergers based on spatially-resolved spectral energy distribution analyses. This translates to $\\sim28$ and $\\sim10$ bona-fide dual and offset AGNs using a probabilistic pair counting scheme to minimize chance superpositions. Notably, the fraction of dual and offset AGNs among moderate-luminosity ($L_{\\rm bol}\\sim10^{43}-10^{46}\\ \\rm erg\\ s^{-1}$), obscured AGNs is nearly two orders of magnitude higher than that of the most luminous, unobscured quasar pairs. We find tentative evidence for an increasing pair fraction among AGNs with redshift (from a few percent at $z\\sim 0.5$ to $\\sim22.9_{-17.7}^{+27.5}\\%$ at $z\\sim4.5$) and a higher occurrence rate of dual over offset AGNs. There is no pileup of dual/offset AGNs below $\\sim 2~{\\rm kpc}$ separations. These results generally align with predictions from the ASTRID and Horizon-AGN cosmological simulations when matching sample selection criteria, implying a high probability of both BHs being active simultaneously in late-stage major mergers.         |\n",
       "|<p style=\"color:green\"> **ERROR** </p>| <p style=\"color:green\">affiliation error: mpia.affiliation_verifications: 'Heidelberg' keyword not found.</p> |"
      ],
      "text/plain": [
       "<IPython.core.display.Markdown object>"
      ]
     },
     "metadata": {},
     "output_type": "display_data"
    },
    {
     "data": {
      "text/markdown": [
       "\n",
       "|||\n",
       "|---:|:---|\n",
       "| [![arXiv](https://img.shields.io/badge/arXiv-2405.15611-b31b1b.svg)](https://arxiv.org/abs/2405.15611) | **Planet-driven spirals in protoplanetary discs: limitations of the semi-analytical theory for observations**  |\n",
       "|| D. Fasano, et al. -- incl., <mark>M. Benisty</mark> |\n",
       "|*Appeared on*| *2024-05-27*|\n",
       "|*Comments*| *10 pages, 7 figures. Submitted for publication in A&A March 22, 2024. After first iteration with the referee, resubmitted May 24, 2024*|\n",
       "|**Abstract**|            Detecting protoplanets during their formation stage is an important but elusive goal of modern astronomy. Kinematic detections via the spiral wakes in the gaseous disc are a promising avenue to achieve this goal. We aim to test the applicability to observations in the low and intermediate planet mass regimes of a commonly used semi-analytical model for planet induced spiral waves. In contrast with previous works which proposed to use the semi-analytical model to interpret observations, in this study we analyse for the first time both the structure of the velocity and density perturbations. We run a set of FARGO3D hydrodynamic simulations and compare them with the output of the semi-analytic model in the code wakeflow, which is obtained by solving Burgers' equation using the simulations as an initial condition. We find that the velocity field derived from the analytic theory is discontinuous at the interface between the linear and nonlinear regions. After 0.2 r$_p$ from the planet, the behaviour of the velocity field closely follows that of the density perturbations. In the low mass limit, the analytical model is in qualitative agreement with the simulations, although it underestimates the azimuthal width and the amplitude of the perturbations, predicting a stronger decay but a slower azimuthal advance of the shock fronts. In the intermediate regime, the discrepancy increases, resulting in a different pitch angle between the spirals of the simulations and the analytic model. The implementation of a fitting procedure based on the minimisation of intensity residuals is bound to fail due to the deviation in pitch angle between the analytic model and the simulations. In order to apply this model to observations, it needs to be revisited accounting also for higher planet masses.         |\n",
       "|<p style=\"color:green\"> **ERROR** </p>| <p style=\"color:green\">affiliation error: mpia.affiliation_verifications: 'Heidelberg' keyword not found.</p> |"
      ],
      "text/plain": [
       "<IPython.core.display.Markdown object>"
      ]
     },
     "metadata": {},
     "output_type": "display_data"
    },
    {
     "data": {
      "text/markdown": [
       "\n",
       "|||\n",
       "|---:|:---|\n",
       "| [![arXiv](https://img.shields.io/badge/arXiv-2405.15102-b31b1b.svg)](https://arxiv.org/abs/2405.15102) | **The Fraction of Dust Mass in the Form of PAHs on 10-50 pc Scales in Nearby Galaxies**  |\n",
       "|| J. Sutter, et al. -- incl., <mark>K. Kreckel</mark> |\n",
       "|*Appeared on*| *2024-05-27*|\n",
       "|*Comments*| *Accepted at ApJ, 39 pages, 25 figures*|\n",
       "|**Abstract**|            Polycyclic aromatic hydrocarbons (PAHs) are a ubiquitous component of the interstellar medium (ISM) in z~0 massive, star-forming galaxies and play key roles in ISM energy balance, chemistry, and shielding. Wide field of view, high resolution mid-infrared (MIR) images from JWST provides the ability to map the fraction of dust in the form of PAHs and the properties of these key dust grains at 10-50 pc resolution in galaxies outside the Local Group. We use MIR JWST photometric observations of a sample of 19 nearby galaxies from the \"Physics at High Angular Resolution in Nearby GalaxieS\" (PHANGS) survey to investigate the variations of the PAH fraction. By comparison to lower resolution far-IR mapping, we show that a combination of the MIRI filters (R$_{\\rm{PAH}}$ = [F770W+F1130W]/F2100W) traces the fraction of dust by mass in the form of PAHs (i.e., the PAH fraction, or q$_{\\rm{PAH}}$). Mapping R$_{\\rm{PAH}}$ across the 19 PHANGS galaxies, we find that the PAH fraction steeply decreases in HII regions, revealing the destruction of these small grains in regions of ionized gas. Outside HII regions, we find R$_{\\rm{PAH}}$ is constant across the PHANGS sample with an average value of 3.43$\\pm$0.98, which, for an illuminating radiation field of intensity 2-5 times that of the radiation field in the solar neighborhood, corresponds to q$_{\\rm{PAH}}$ values of 3-6%.         |\n",
       "|<p style=\"color:red\"> **ERROR** </p>| <p style=\"color:red\">latex error 'PosixPath' object is not subscriptable</p> |"
      ],
      "text/plain": [
       "<IPython.core.display.Markdown object>"
      ]
     },
     "metadata": {},
     "output_type": "display_data"
    }
   ],
   "source": [
    "import datetime\n",
    "today = str(datetime.date.today())\n",
    "logfile = f\"_build/html/logs/log-{today}.md\"\n",
    "\n",
    "\n",
    "with open(logfile, 'w') as logs:\n",
    "    # Success\n",
    "    logs.write(f'# Arxiv on Deck 2: Logs - {today}\\n\\n')\n",
    "    logs.write(\"\"\"* Arxiv had {0:,d} new papers\\n\"\"\".format(len(new_papers)))\n",
    "    logs.write(\"\"\"    * {0:,d} with possible author matches\\n\\n\"\"\".format(len(candidates)))\n",
    "    logs.write(\"## Sucessful papers\\n\\n\")\n",
    "    display(Markdown(\"## Successful papers\"))\n",
    "    success = [k[0] for k in documents]\n",
    "    for candid in candidates:\n",
    "        if candid['identifier'].split(':')[-1] in success:\n",
    "            display(candid)\n",
    "            logs.write(candid.generate_markdown_text() + '\\n\\n')\n",
    "\n",
    "    ## failed\n",
    "    logs.write(\"## Failed papers\\n\\n\")\n",
    "    display(Markdown(\"## Failed papers\"))\n",
    "    failed = sorted(failed, key=lambda x: x[1])\n",
    "    current_reason = \"\"\n",
    "    for paper, reason in failed:\n",
    "        if 'affiliation' in reason:\n",
    "            color = 'green'\n",
    "        else:\n",
    "            color = 'red'\n",
    "        data = Markdown(\n",
    "                paper.generate_markdown_text() + \n",
    "                f'\\n|<p style=\"color:{color:s}\"> **ERROR** </p>| <p style=\"color:{color:s}\">{reason:s}</p> |'\n",
    "               )\n",
    "        if reason != current_reason:\n",
    "            logs.write(f'### {reason:s} \\n\\n')\n",
    "            current_reason = reason\n",
    "        logs.write(data.data + '\\n\\n')\n",
    "        \n",
    "        # only display here the important errors (all in logs)\n",
    "        # if color in ('red',):\n",
    "        display(data)"
   ]
  },
  {
   "cell_type": "markdown",
   "id": "472d20ee",
   "metadata": {
    "papermill": {
     "duration": 0.004225,
     "end_time": "2024-05-27T04:10:07.712649",
     "exception": false,
     "start_time": "2024-05-27T04:10:07.708424",
     "status": "completed"
    },
    "tags": []
   },
   "source": [
    "## Export documents\n",
    "\n",
    "We now write the .md files and export relevant images"
   ]
  },
  {
   "cell_type": "code",
   "execution_count": 7,
   "id": "d426aed9",
   "metadata": {
    "execution": {
     "iopub.execute_input": "2024-05-27T04:10:07.722358Z",
     "iopub.status.busy": "2024-05-27T04:10:07.722065Z",
     "iopub.status.idle": "2024-05-27T04:10:07.729030Z",
     "shell.execute_reply": "2024-05-27T04:10:07.728340Z"
    },
    "papermill": {
     "duration": 0.013622,
     "end_time": "2024-05-27T04:10:07.730473",
     "exception": false,
     "start_time": "2024-05-27T04:10:07.716851",
     "status": "completed"
    },
    "tags": []
   },
   "outputs": [],
   "source": [
    "def export_markdown_summary(md: str, md_fname:str, directory: str):\n",
    "    \"\"\"Export MD document and associated relevant images\"\"\"\n",
    "    import os\n",
    "    import shutil\n",
    "    import re\n",
    "\n",
    "    if (os.path.exists(directory) and not os.path.isdir(directory)):\n",
    "        raise RuntimeError(f\"a non-directory file exists with name {directory:s}\")\n",
    "\n",
    "    if (not os.path.exists(directory)):\n",
    "        print(f\"creating directory {directory:s}\")\n",
    "        os.mkdir(directory)\n",
    "\n",
    "    fig_fnames = (re.compile(r'\\[Fig.*\\]\\((.*)\\)').findall(md) + \n",
    "                  re.compile(r'\\<img src=\"([^>\\s]*)\"[^>]*/>').findall(md))\n",
    "    for fname in fig_fnames:\n",
    "        if 'http' in fname:\n",
    "            # No need to copy online figures\n",
    "            continue\n",
    "        destdir = os.path.join(directory, os.path.dirname(fname))\n",
    "        destfname = os.path.join(destdir, os.path.basename(fname))\n",
    "        try:\n",
    "            os.makedirs(destdir)\n",
    "        except FileExistsError:\n",
    "            pass\n",
    "        shutil.copy(fname, destfname)\n",
    "    with open(os.path.join(directory, md_fname), 'w') as fout:\n",
    "        fout.write(md)\n",
    "    print(\"exported in \", os.path.join(directory, md_fname))\n",
    "    [print(\"    + \" + os.path.join(directory,fk)) for fk in fig_fnames]"
   ]
  },
  {
   "cell_type": "code",
   "execution_count": 8,
   "id": "014d04a4",
   "metadata": {
    "execution": {
     "iopub.execute_input": "2024-05-27T04:10:07.740852Z",
     "iopub.status.busy": "2024-05-27T04:10:07.740350Z",
     "iopub.status.idle": "2024-05-27T04:10:07.754073Z",
     "shell.execute_reply": "2024-05-27T04:10:07.753477Z"
    },
    "papermill": {
     "duration": 0.020531,
     "end_time": "2024-05-27T04:10:07.755462",
     "exception": false,
     "start_time": "2024-05-27T04:10:07.734931",
     "status": "completed"
    },
    "tags": []
   },
   "outputs": [
    {
     "name": "stdout",
     "output_type": "stream",
     "text": [
      "exported in  _build/html/2405.14943.md\n",
      "    + _build/html/tmp_2405.14943/./f3.png\n",
      "    + _build/html/tmp_2405.14943/./f2.png\n",
      "    + _build/html/tmp_2405.14943/./f4.png\n"
     ]
    }
   ],
   "source": [
    "for paper_id, md in documents:\n",
    "    export_markdown_summary(md, f\"{paper_id:s}.md\", '_build/html/')"
   ]
  },
  {
   "cell_type": "markdown",
   "id": "f087a0a7",
   "metadata": {
    "papermill": {
     "duration": 0.004256,
     "end_time": "2024-05-27T04:10:07.764241",
     "exception": false,
     "start_time": "2024-05-27T04:10:07.759985",
     "status": "completed"
    },
    "tags": []
   },
   "source": [
    "## Display the papers\n",
    "\n",
    "Not necessary but allows for a quick check."
   ]
  },
  {
   "cell_type": "code",
   "execution_count": 9,
   "id": "fd25f625",
   "metadata": {
    "execution": {
     "iopub.execute_input": "2024-05-27T04:10:07.774143Z",
     "iopub.status.busy": "2024-05-27T04:10:07.773733Z",
     "iopub.status.idle": "2024-05-27T04:10:07.778955Z",
     "shell.execute_reply": "2024-05-27T04:10:07.778369Z"
    },
    "papermill": {
     "duration": 0.011866,
     "end_time": "2024-05-27T04:10:07.780374",
     "exception": false,
     "start_time": "2024-05-27T04:10:07.768508",
     "status": "completed"
    },
    "scrolled": false,
    "tags": []
   },
   "outputs": [
    {
     "data": {
      "text/markdown": [
       "<div class=\"macros\" style=\"visibility:hidden;\">\n",
       "$\\newcommand{\\ensuremath}{}$\n",
       "$\\newcommand{\\xspace}{}$\n",
       "$\\newcommand{\\object}[1]{\\texttt{#1}}$\n",
       "$\\newcommand{\\farcs}{{.}''}$\n",
       "$\\newcommand{\\farcm}{{.}'}$\n",
       "$\\newcommand{\\arcsec}{''}$\n",
       "$\\newcommand{\\arcmin}{'}$\n",
       "$\\newcommand{\\ion}[2]{#1#2}$\n",
       "$\\newcommand{\\textsc}[1]{\\textrm{#1}}$\n",
       "$\\newcommand{\\hl}[1]{\\textrm{#1}}$\n",
       "$\\newcommand{\\footnote}[1]{}$\n",
       "$\\newcommand{\\oiii}{[O \\textsc{iii}]}$\n",
       "$\\newcommand{\\nii}{[N \\textsc{ii}]}$\n",
       "$\\newcommand{\\sii}{[S \\textsc{ii}]}$\n",
       "$\\newcommand{\\oi}{[O \\textsc{i}]}$\n",
       "$\\newcommand{\\niion}{[N \\textsc{i}]}$\n",
       "$\\newcommand{\\hei}{[He \\textsc{i}]}$\n",
       "$\\newcommand{\\siii}{[S \\textsc{iii}]}$\n",
       "$\\newcommand{\\oii}{[O \\textsc{ii}]}$\n",
       "$\\newcommand{\\neii}{[Ne \\textsc{ii}]}$\n",
       "$\\newcommand{\\hii}{H \\textsc{ii}}$\n",
       "$\\newcommand{\\ha}{H\\alpha}$\n",
       "$\\newcommand{\\hb}{H\\beta}$\n",
       "$\\newcommand{\\cii}{[C \\textsc{ii}]}$\n",
       "$\\newcommand{\\revone}$\n",
       "$\\newcommand{\\OSU}{\\label{OSU} Department of Astronomy, The Ohio State University, 140 West 18th Avenue, Columbus, Ohio 43210, USA}$\n",
       "$\\newcommand{\\Alberta}{\\label{Alberta} Department of Physics, University of Alberta, Edmonton, AB T6G 2E1, Canada}$\n",
       "$\\newcommand{\\ANU}{\\label{ANU} Research School of Astronomy and Astrophysics, Australian National University, Canberra, ACT 2611, Australia}$\n",
       "$\\newcommand{\\IPAC}{\\label{IPAC} Caltech-IPAC, 1200 E. California Blvd. Pasadena, CA 91125, USA}$\n",
       "$\\newcommand{\\Carnegie}{\\label{Carnegie} Observatories of the Carnegie Institution for Science, 813 Santa Barbara Street, Pasadena, CA 91101, USA}$\n",
       "$\\newcommand{ÇAPP}{\\label{CCAPP} Center for Cosmology and Astroparticle Physics, 191 West Woodruff Avenue, Columbus, OH 43210, USA}$\n",
       "$\\newcommand{\\CfA}{\\label{CfA}Harvard-Smithsonian Center for Astrophysics, 60 Garden Street, Cambridge, MA 02138, USA}$\n",
       "$\\newcommand{\\CITEVA}{\\label{CITEVA} Centro de Astronomía (CITEVA), Universidad de Antofagasta, Avenida Angamos 601, Antofagasta, Chile}$\n",
       "$\\newcommand{\\CNRS}{\\label{CNRS} CNRS, IRAP, 9 Av. du Colonel Roche, BP 44346, F-31028 Toulouse cedex 4, France}$\n",
       "$\\newcommand{\\ESO}{\\label{ESO} European Southern Observatory, Karl-Schwarzschild Stra{\\ss}e 2, D-85748 Garching bei München, Germany}$\n",
       "$\\newcommand{\\ESOChile}{\\label{ESOChile} European Southern Observatory, Avenida Alonso de Cordoba 3107, Casilla 19, Santiago 19001, Chile}$\n",
       "$\\newcommand{\\HD}{\\label{HD} Astronomisches Rechen-Institut, Zentrum für Astronomie der Universität Heidelberg, Mönchhofstra\\ss e 12-14, D-69120 Heidelberg, Germany}$\n",
       "$\\newcommand{\\ICRAR}{\\label{ICRAR} International Centre for Radio Astronomy Research, University of Western Australia, 35 Stirling Highway, Crawley, WA 6009, Australia}$\n",
       "$\\newcommand{\\IRAM}{\\label{IRAM} Institut de Radioastronomie Millimétrique (IRAM), 300 Rue de la Piscine, F-38406 Saint Martin d'Hères, France}$\n",
       "$\\newcommand{\\ITA}{\\label{ITA} Universität Heidelberg, Zentrum für Astronomie, Institut für Theoretische Astrophysik, Albert-Ueberle-Str 2, D-69120 Heidelberg, Germany}$\n",
       "$\\newcommand{\\IWR}{\\label{IWR} Universität Heidelberg, Interdisziplinäres Zentrum für Wissenschaftliches Rechnen, Im Neuenheimer Feld 205, D-69120 Heidelberg, Germany}$\n",
       "$\\newcommand{\\JHU}{\\label{JHU} Department of Physics and Astronomy, The Johns Hopkins University, Baltimore, MD 21218, USA}$\n",
       "$\\newcommand{\\Leiden}{\\label{Leiden} Leiden Observatory, Leiden University, P.O. Box 9513, 2300 RA Leiden, The Netherlands}$\n",
       "$\\newcommand{\\Maryland}{\\label{Maryland} Department of Astronomy, University of Maryland, College Park, MD 20742, USA}$\n",
       "$\\newcommand{\\MPE}{\\label{MPE} Max-Planck-Institut für extraterrestrische Physik, Giessenbachstra{\\ss}e 1, D-85748 Garching, Germany}$\n",
       "$\\newcommand{\\MPIA}{\\label{MPIA} Max-Planck-Institut für Astronomie, Königstuhl 17, D-69117, Heidelberg, Germany}$\n",
       "$\\newcommand{\\Nagoya}{\\label{Nagoya} Department of Physics, Nagoya University, Furo-cho, Chikusa-ku, Nagoya, Aichi 464-8602, Japan}$\n",
       "$\\newcommand{\\NRAO}{\\label{NRAO} National Radio Astronomy Observatory, 520 Edgemont Road, Charlottesville, VA 22903-2475, USA}$\n",
       "$\\newcommand{\\OAN}{\\label{OAN} Observatorio Astronómico Nacional (IGN), C/Alfonso XII, 3, E-28014 Madrid, Spain}$\n",
       "$\\newcommand{\\ObsParis}{\\label{ObsParis} Sorbonne Université, Observatoire de Paris, Université PSL, CNRS, LERMA, F-75014, Paris, France}$\n",
       "$\\newcommand{\\Princeton}{\\label{Princeton} Department of Astrophysical Sciences, Princeton University, Princeton, NJ 08544 USA}$\n",
       "$\\newcommand{\\UToledo}{\\label{UToledo} University of Toledo, 2801 W. Bancroft St., Mail Stop 111, Toledo, OH, 43606}$\n",
       "$\\newcommand{\\Toulouse}{\\label{Toulouse} Université de Toulouse, UPS-OMP, IRAP, F-31028 Toulouse cedex 4, France}$\n",
       "$\\newcommand{\\UBonn}{\\label{UBonn} Argelander-Institut für Astronomie, Universität Bonn, Auf dem Hügel 71, 53121 Bonn, Germany}$\n",
       "$\\newcommand{\\UChile}{\\label{UChile} Departamento de Astronomía, Universidad de Chile, Camino del Observatorio 1515, Las Condes, Santiago, Chile}$\n",
       "$\\newcommand{\\UConn}{\\label{UConn} Department of Physics, University of Connecticut, Storrs, CT, 06269, USA}$\n",
       "$\\newcommand{\\UCSD}{\\label{UCSD}Center for Astrophysics and Space Sciences, Department of Physics,  University of California, San Diego, 9500 Gilman Drive, La Jolla, CA 92093, USA}$\n",
       "$\\newcommand{\\UGent}{\\label{UGent} Sterrenkundig Observatorium, Universiteit Gent, Krijgslaan 281 S9, B-9000 Gent, Belgium}$\n",
       "$\\newcommand{\\ULyon}{\\label{ULyon} Univ Lyon, Univ Lyon 1, ENS de Lyon, CNRS, Centre de Recherche Astrophysique de Lyon UMR5574,\\ F-69230 Saint-Genis-Laval, France}$\n",
       "$\\newcommand{\\UMass}{\\label{UMass} University of Massachusetts—Amherst, 710 N. Pleasant Street, Amherst, MA 01003, USA}$\n",
       "$\\newcommand{\\UWyoming}{\\label{UWyoming} Department of Physics and Astronomy, University of Wyoming, Laramie, WY 82071, USA}$\n",
       "$\\newcommand{\\LAM}{\\label{LAM} Aix Marseille Univ, CNRS, CNES, LAM (Laboratoire d’Astrophysique de Marseille), Marseille, France}$\n",
       "$\\newcommand{\\UHawaii}{\\label{UHawaii} Institute for Astronomy, University of Hawaii, 2680 Woodlawn Drive, Honolulu, HI 96822, USA}$\n",
       "$\\newcommand{\\UCM}{\\label{UCM} Departamento de Física de la Tierra y Astrofísica, Universidad Complutense de Madrid, E-28040, Spain}$\n",
       "$\\newcommand{\\IPARC}{\\label{IPARC} Instituto de Física de Partículas y del Cosmos IPARCOS, Facultad de Ciencias Físicas, Universidad Complutense de Madrid, E-28040, Spain}$\n",
       "$\\newcommand{\\STScI}{\\label{STScI} Space Telescope Science Institute, 3700 San Martin Drive, Baltimore, MD 21218, USA}$\n",
       "$\\newcommand{\\McMaster}{\\label{McMaster} Department of Physics and Astronomy, McMaster University, 1280 Main Street West, Hamilton, ON L8S 4M1, Canada}$\n",
       "$\\newcommand{\\INAF}{\\label{INAF} INAF -- Osservatorio Astrofisico di Arcetri, Largo E. Fermi 5, I-50157, Firenze, Italy}$\n",
       "$\\newcommand{\\Sydney}{\\label{Sydney} Sydney Institute for Astronomy, School of Physics A28, The University of Sydney, NSW 2006, Australia}$\n",
       "$\\newcommand{\\CITA}{\\label{CITA} Canadian Institute for Theoretical Astrophysics (CITA), University of Toronto, 60 St George St, Toronto, ON M5S 3H8, Canada}$\n",
       "$\\newcommand{\\ASIAA}{\\label{ASIAA} Institute of Astronomy and Astrophysics, Academia Sinica, No. 1, Sec. 4, Roosevelt Road, Taipei 10617, Taiwan}$\n",
       "$\\newcommand{\\TKU}{\\label{TKU} Department of Physics, Tamkang University, No.151, Yingzhuan Rd., Tamsui Dist., New Taipei City 251301, Taiwan}$\n",
       "$\\newcommand{\\PSMA}{\\label{PSMA} Penn State Mont Alto, 1 Campus Drive, Mont Alto, PA  17237, USA}$\n",
       "$\\newcommand{\\ILL}{\\label{ILL} ILL}$\n",
       "$\\newcommand{\\stromlo}{\\label{stromlo} Research School of Astronomy and Astrophysics, Australian National University, Mt Stromlo Observatory, Weston Creek, ACT 2611, Australia}$\n",
       "$\\newcommand{\\UCatolica}{\\label{UCatolica} Instituto de Astronomía, Universidad Católica del Norte, Av. Angamos 0610, Antofagasta, Chile}$\n",
       "$\\newcommand{\\UT}{\\label{UT} McDonald Observatory, The University of Texas at Austin, 1 University Station, Austin, TX 78712-0259, USA}$\n",
       "$\\newcommand{\\Vanderbilt}{\\label{Vanderbilt} Department of Physics and Astronomy, Vanderbilt University, VU Station 1807, Nashville, TN 37235, USA}$\n",
       "$\\newcommand{\\UNF}{\\label{UNF} Department of Physics, University of North Florida, 1 UNF Dr. Jacksonville FL 32224}$\n",
       "$\\newcommand{\\NAOC}{\\label{NAOC} Chinese Academy of Sciences South America Center for Astronomy, National Astronomical Observatories, CAS, Beijing 100101, China}$\n",
       "$\\newcommand{\\CASA}{\\label{CASA} Center for Astrophysics and Space Astronomy, University of Colorado, 389 UCB, Boulder, CO 80309-0389, USA}$\n",
       "$\\newcommand{\\UNAM}{\\label{UNAM} Universidad Nacional Autónoma de México, Instituto de Astronomía, AP 106, Ensenada 22800, BC, México}$\n",
       "$\\newcommand{\\UDP}{\\label{UDP} Instituto de Estudios Astrofísicos, Facultad de Ingeniería y Ciencias, Universidad Diego Portales, Av. Ejército Libertador 441, Santiago, Chile}$\n",
       "$\\newcommand{\\Steward}{\\label{Steward} Steward Observatory, University of Arizona, 933 N. Cherry Ave., Tucson, AZ 85721-0065, USA}$\n",
       "$\\newcommand{\\APO}{\\label{APO} Apache Point Observatory and New Mexico State University, P.O. Box 59,$\n",
       "$Sunspot, NM 88349-0059, USA}$\n",
       "$\\newcommand{\\UNAMCU}{\\label{UNAMCU} Universidad Nacional Autónoma de México, Instituto de Astronomía, AP 70-264, CDMX 04510, México}$\n",
       "$\\newcommand{\\UWash}{\\label{UWash}Department of Astronomy, University of Washington, Seattle, WA, 98195}$\n",
       "$\\newcommand{Ç}{\\label{CC}Department of Physics, Colorado College, Colorado Springs, CO 80903}$\n",
       "$\\newcommand{\\Utah}{\\label{Utah}Department of Physics and Astronomy, University of Utah, 115 S. 1400 E., Salt Lake City, UT 84112, USA}$\n",
       "$\\newcommand{\\UConcepcion}{\\label{UConcepcion}Departamento de Astronomía, Universidad de Concepción, Casilla 160-C, Concepción, Chile}$\n",
       "$\\newcommand{\\FCLA}{\\label{FCLA}Franco-Chilean Laboratory for Astronomy, IRL 3386, CNRS and Universidad de Chile, Santiago, Chile}$\n",
       "$\\newcommand{\\Oklahoma}{\\label{Oklahoma}Homer L. Dodge Department of Physics and Astronomy, University of Oklahoma, Norman, OK 73019, USA}$\n",
       "$\\newcommand{\\UIUC}{\\label{UIUC}Department of Astronomy, University of Illinois, Urbana, IL 61801, USA}$\n",
       "$\\newcommand{\\Harvard}{\\label{Harvard}Harvard-Smithsonian Center for Astrophysics, Cambridge, MA 02138, USA}$\n",
       "$\\newcommand{\\caltech}{\\label{caltech}Department of Astronomy, California Institute of Technology, Pasadena, CA 91125, USA}$\n",
       "$\\newcommand\\natexlab{#1}$</div>\n",
       "\n",
       "\n",
       "\n",
       "<div id=\"title\">\n",
       "\n",
       "# SDSS-V Local Volume Mapper (LVM): A Glimpse into Orion\n",
       "\n",
       "</div>\n",
       "<div id=\"comments\">\n",
       "\n",
       "[![arXiv](https://img.shields.io/badge/arXiv-2405.14943-b31b1b.svg)](https://arxiv.org/abs/2405.14943)<mark>Appeared on: 2024-05-27</mark> -  _12 pages, 9 figures, submitted to A&A_\n",
       "\n",
       "</div>\n",
       "<div id=\"authors\">\n",
       "\n",
       "<mark>K. Kreckel</mark>, et al. -- incl., <mark>J. Li</mark>, <mark>H.-W. Rix</mark>\n",
       "\n",
       "</div>\n",
       "<div id=\"abstract\">\n",
       "\n",
       "**Abstract:** The Orion Molecular Cloud complex, one of the nearest (D $\\sim$ 400 pc) and most extensively studied massive star-forming regions, is ideal for constraining the physics of stellar feedback, but its $\\sim$ 12 deg diameter on the sky requires a dedicated approach to mapping ionized gas structures within and around the nebula. The Sloan Digital Sky Survey (SDSS-V) Local Volume Mapper (LVM) is a new optical integral field unit (IFU) that will map the ionized gas within the Milky Way and Local Group galaxies, covering 4300 deg $^2$ of the sky with the new LVM Instrument. We showcase optical emission line maps from LVM covering 12 deg $^2$ inside of the Orion belt region, with 195,000 individual spectra combined to produce images at 0.07 pc (35.3 $\\arcsec$ ) resolution. This is the largest IFU map made (to date) of the Milky Way, and contains well-known nebulae (the Horsehead Nebula, Flame Nebula, IC 434, and IC 432),  as well as ionized interfaces with the neighboring dense Orion B molecular cloud. We resolve the ionization structure of each nebula, and map the increase in both the $\\sii$ / $\\ha$ and $\\nii$ / $\\ha$ line ratios at the outskirts of nebulae and along the ionization front with Orion B. $\\oiii$ line emission is only spatially resolved within the center of the Flame Nebula and IC 434, and our $\\sim$ 0.1 pc scale line ratio diagrams show how variations in these diagnostics are lost as we move from the resolved to the integrated view of each nebula. We detect ionized gas emission associated with the dusty bow wave driven ahead of the star $\\sigma$ Orionis, where the stellar wind interacts with the ambient interstellar medium. The Horsehead Nebula is seen as a dark occlusion of the bright surrounding photo-disassociation region. This small glimpse into Orion only hints at the rich science that will be enabled by the LVM.\n",
       "\n",
       "</div>\n",
       "\n",
       "<div id=\"div_fig1\">\n",
       "\n",
       "<img src=\"tmp_2405.14943/./f3.png\" alt=\"Fig5\" width=\"100%\"/>\n",
       "\n",
       "**Figure 5. -** Line emission and line ratios mapped across 20 pc$\\times$20 pc of the Orion belt region. Top left: $\\ha$ line emission is prominent within IC 434, the flame Nebula, and IC 432.\n",
       "   Star symbols mark all individual ionizing O type (blue) and B type (cyan) stars, and dashed lines show the approximate boundaries of each nebula.  Missing individual pixels are masked fibers with bright stars where our simplistic stellar continuum fitting was insufficient.   Top center and right: $\\sii$/$\\ha$  and $\\nii$/$\\ha$ line ratio maps increase at the outskirts of IC 434 and the Flame nebulae. Bottom left: Dust extinction via the Balmer decrement increases along the extent of the neighboring Orion B molecular cloud, and peaks at the young embedded Flame Nebula. Bottom center: The increased dust concentration in the Flame Nebula is particularly pronounced in the $\\sii$$\\lambda$6717/$\\sii$$\\lambda$6731 line ratio, which traces changes in gas density.  Bottom right: $\\oiii$/$\\hb$ line ratios can only be mapped in the centers of IC 434 and the Flame Nebula. Higher values towards the center of IC 434 reflect the changing ionizing structure of the nebula, with more highly ionized oxygen found closer to the ionizing source.  (*fig:neb_conditions*)\n",
       "\n",
       "</div>\n",
       "<div id=\"div_fig2\">\n",
       "\n",
       "<img src=\"tmp_2405.14943/./f2.png\" alt=\"Fig4\" width=\"100%\"/>\n",
       "\n",
       "**Figure 4. -** A glimpse into Orion with LVM. 108 tiles cover 4 deg $\\times$ 4 deg (30 pc $\\times$ 30 pc), producing a total of almost 195,000 spectra. Colors show different emission lines ($\\ha$: orange, $\\sii$6717+6731: light blue, $\\oiii$5007: magenta) trace the ionization structure of the nebula, and carve a bubble into surrounding dense gas (WISE 12$\\mu$m: yellow). The ionized gas emission traces wispy, filamentary structures and dusty eroding clouds and clumps.  The iconic Horsehead Nebula sits at the bright filamentary ionization front and photo-disassociation region between the central ionized nebula IC 434 and the dark neighboring molecular cloud Orion B to the east, while  channels for escaping radiation are apparent in the north.    (*fig:orion_3color*)\n",
       "\n",
       "</div>\n",
       "<div id=\"div_fig3\">\n",
       "\n",
       "<img src=\"tmp_2405.14943/./f4.png\" alt=\"Fig6\" width=\"100%\"/>\n",
       "\n",
       "**Figure 6. -** Diagnostic line ratios (left: $\\oiii$/$\\hb$ vs $\\nii$/$\\ha$; right: $\\oiii$/$\\hb$ vs $\\sii$/$\\ha$) for all pixels with significant detections in all lines. The curves shown from \\cite{Kewley2001}(solid) and \\cite{Kauffmann2003}(dashed) are commonly used (in integrated and kpc regions) to distinguish photoionized gas from gas ionized by harder ionizing sources. Requiring the detection of $\\oiii$  this diagnostic is limited to the areas of the Flame Nebula and the center of NGC 434 (see Figure \\ref{fig:neb_conditions}), as well as to regions consistent with photoionization. Integrated results for IC 434 (triangle), IC 432 (square) and the Flame Nebula (circle) are overplotted, as well as integrated measurements from WHAM for single O-star powered Milky Way $\\hii$ regions (orange) and extragalactic PHANGS $\\hii$ regions with matched $\\ha$ luminosity (purple). (*fig:bpt*)\n",
       "\n",
       "</div><div id=\"qrcode\"><img src=https://api.qrserver.com/v1/create-qr-code/?size=100x100&data=\"https://arxiv.org/abs/2405.14943\"></div>"
      ],
      "text/plain": [
       "<IPython.core.display.Markdown object>"
      ]
     },
     "metadata": {},
     "output_type": "display_data"
    }
   ],
   "source": [
    "[display(Markdown(k[1])) for k in documents];"
   ]
  },
  {
   "cell_type": "markdown",
   "id": "873873a4",
   "metadata": {
    "papermill": {
     "duration": 0.004699,
     "end_time": "2024-05-27T04:10:07.790159",
     "exception": false,
     "start_time": "2024-05-27T04:10:07.785460",
     "status": "completed"
    },
    "tags": []
   },
   "source": [
    "# Create HTML index"
   ]
  },
  {
   "cell_type": "code",
   "execution_count": 10,
   "id": "cf665672",
   "metadata": {
    "execution": {
     "iopub.execute_input": "2024-05-27T04:10:07.801077Z",
     "iopub.status.busy": "2024-05-27T04:10:07.800574Z",
     "iopub.status.idle": "2024-05-27T04:10:07.808212Z",
     "shell.execute_reply": "2024-05-27T04:10:07.807625Z"
    },
    "papermill": {
     "duration": 0.014753,
     "end_time": "2024-05-27T04:10:07.809544",
     "exception": false,
     "start_time": "2024-05-27T04:10:07.794791",
     "status": "completed"
    },
    "tags": []
   },
   "outputs": [
    {
     "name": "stdout",
     "output_type": "stream",
     "text": [
      "78  publications files modified in the last 7 days.\n"
     ]
    }
   ],
   "source": [
    "from datetime import datetime, timedelta, timezone\n",
    "from glob import glob\n",
    "import os\n",
    "\n",
    "files = glob('_build/html/*.md')\n",
    "days = 7\n",
    "now = datetime.today()\n",
    "res = []\n",
    "for fk in files:\n",
    "    stat_result = os.stat(fk).st_ctime\n",
    "    modified = datetime.fromtimestamp(stat_result, tz=timezone.utc).replace(tzinfo=None)\n",
    "    delta = now.today() - modified\n",
    "    if delta <= timedelta(days=days):\n",
    "        res.append((delta.seconds, fk))\n",
    "res = [k[1] for k in reversed(sorted(res, key=lambda x:x[1]))]\n",
    "npub = len(res)\n",
    "print(len(res), f\" publications files modified in the last {days:d} days.\")\n",
    "# [ print('\\t', k) for k in res ];"
   ]
  },
  {
   "cell_type": "code",
   "execution_count": 11,
   "id": "015de740",
   "metadata": {
    "execution": {
     "iopub.execute_input": "2024-05-27T04:10:07.820786Z",
     "iopub.status.busy": "2024-05-27T04:10:07.820306Z",
     "iopub.status.idle": "2024-05-27T04:10:07.831151Z",
     "shell.execute_reply": "2024-05-27T04:10:07.830564Z"
    },
    "papermill": {
     "duration": 0.018126,
     "end_time": "2024-05-27T04:10:07.832566",
     "exception": false,
     "start_time": "2024-05-27T04:10:07.814440",
     "status": "completed"
    },
    "tags": []
   },
   "outputs": [
    {
     "name": "stdout",
     "output_type": "stream",
     "text": [
      "6  publications in the last 7 days.\n"
     ]
    }
   ],
   "source": [
    "import datetime\n",
    "from glob import glob\n",
    "\n",
    "def get_last_n_days(lst, days=1):\n",
    "    \"\"\" Get the documents from the last n days \"\"\"\n",
    "    sorted_lst = sorted(lst, key=lambda x: x[1], reverse=True)\n",
    "    for fname, date in sorted_lst:\n",
    "        if date >= str(datetime.date.today() - datetime.timedelta(days=days)):\n",
    "            yield fname\n",
    "\n",
    "def extract_appearance_dates(lst_file):\n",
    "    dates = []\n",
    "\n",
    "    def get_date(line):\n",
    "        return line\\\n",
    "            .split('Appeared on:')[-1]\\\n",
    "            .split('</mark>')[0].strip()\n",
    "\n",
    "    for fname in lst:\n",
    "        with open(fname, 'r') as f:\n",
    "            found_date = False\n",
    "            for line in f:\n",
    "                if not found_date:\n",
    "                    if \"Appeared on\" in line:\n",
    "                        found_date = True\n",
    "                        dates.append((fname, get_date(line)))\n",
    "                else:\n",
    "                    break\n",
    "    return dates\n",
    "\n",
    "from glob import glob\n",
    "lst = glob('_build/html/*md')\n",
    "days = 7\n",
    "dates = extract_appearance_dates(lst)\n",
    "res = list(get_last_n_days(dates, days))\n",
    "npub = len(res)\n",
    "print(len(res), f\" publications in the last {days:d} days.\")"
   ]
  },
  {
   "cell_type": "code",
   "execution_count": 12,
   "id": "52ca0208",
   "metadata": {
    "execution": {
     "iopub.execute_input": "2024-05-27T04:10:07.843996Z",
     "iopub.status.busy": "2024-05-27T04:10:07.843490Z",
     "iopub.status.idle": "2024-05-27T04:10:07.848860Z",
     "shell.execute_reply": "2024-05-27T04:10:07.848293Z"
    },
    "papermill": {
     "duration": 0.012622,
     "end_time": "2024-05-27T04:10:07.850254",
     "exception": false,
     "start_time": "2024-05-27T04:10:07.837632",
     "status": "completed"
    },
    "scrolled": false,
    "tags": []
   },
   "outputs": [],
   "source": [
    "def create_carousel(npub=4):\n",
    "    \"\"\" Generate the HTML code for a carousel with `npub` slides \"\"\"\n",
    "    carousel = [\"\"\"  <div class=\"carousel\" \"\"\",\n",
    "                \"\"\"       data-flickity='{ \"autoPlay\": 10000, \"adaptiveHeight\": true, \"resize\": true, \"wrapAround\": true, \"pauseAutoPlayOnHover\": true, \"groupCells\": 1 }' id=\"asyncTypeset\">\"\"\"\n",
    "                ]\n",
    "    \n",
    "    item_str = \"\"\"    <div class=\"carousel-cell\"> <div id=\"slide{k}\" class=\"md_view\">Content {k}</div> </div>\"\"\"\n",
    "    for k in range(1, npub + 1):\n",
    "        carousel.append(item_str.format(k=k))\n",
    "    carousel.append(\"  </div>\")\n",
    "    return '\\n'.join(carousel)\n",
    "\n",
    "def create_grid(npub=4):\n",
    "    \"\"\" Generate the HTML code for a flat grid with `npub` slides \"\"\"\n",
    "    grid = [\"\"\"  <div class=\"grid\"> \"\"\",\n",
    "                ]\n",
    "    \n",
    "    item_str = \"\"\"    <div class=\"grid-item\"> <div id=\"slide{k}\" class=\"md_view\">Content {k}</div> </div>\"\"\"\n",
    "    for k in range(1, npub + 1):\n",
    "        grid.append(item_str.format(k=k))\n",
    "    grid.append(\"  </div>\")\n",
    "    return '\\n'.join(grid)"
   ]
  },
  {
   "cell_type": "code",
   "execution_count": 13,
   "id": "a6eac5b6",
   "metadata": {
    "execution": {
     "iopub.execute_input": "2024-05-27T04:10:07.861647Z",
     "iopub.status.busy": "2024-05-27T04:10:07.861172Z",
     "iopub.status.idle": "2024-05-27T04:10:07.866641Z",
     "shell.execute_reply": "2024-05-27T04:10:07.865966Z"
    },
    "papermill": {
     "duration": 0.012965,
     "end_time": "2024-05-27T04:10:07.868243",
     "exception": false,
     "start_time": "2024-05-27T04:10:07.855278",
     "status": "completed"
    },
    "scrolled": false,
    "tags": []
   },
   "outputs": [],
   "source": [
    "carousel = create_carousel(npub)\n",
    "docs = ', '.join(['\"{0:s}\"'.format(k.split('/')[-1]) for k in res])\n",
    "slides = ', '.join([f'\"slide{k}\"' for k in range(1, npub + 1)])\n",
    "\n",
    "with open(\"daily_template.html\", \"r\") as tpl:\n",
    "    page = tpl.read()\n",
    "    page = page.replace(\"{%-- carousel:s --%}\", carousel)\\\n",
    "               .replace(\"{%-- suptitle:s --%}\",  \"7-day archives\" )\\\n",
    "               .replace(\"{%-- docs:s --%}\", docs)\\\n",
    "               .replace(\"{%-- slides:s --%}\", slides)\n",
    "    \n",
    "with open(\"_build/html/index_7days.html\", 'w') as fout:\n",
    "    fout.write(page)"
   ]
  },
  {
   "cell_type": "code",
   "execution_count": 14,
   "id": "adc1a1ec",
   "metadata": {
    "execution": {
     "iopub.execute_input": "2024-05-27T04:10:07.880732Z",
     "iopub.status.busy": "2024-05-27T04:10:07.880167Z",
     "iopub.status.idle": "2024-05-27T04:10:07.886760Z",
     "shell.execute_reply": "2024-05-27T04:10:07.886110Z"
    },
    "papermill": {
     "duration": 0.014058,
     "end_time": "2024-05-27T04:10:07.888189",
     "exception": false,
     "start_time": "2024-05-27T04:10:07.874131",
     "status": "completed"
    },
    "tags": []
   },
   "outputs": [
    {
     "name": "stdout",
     "output_type": "stream",
     "text": [
      "1  publications in the last day.\n"
     ]
    }
   ],
   "source": [
    "# redo for today\n",
    "days = 1\n",
    "res = list(get_last_n_days(dates, days))\n",
    "npub = len(res)\n",
    "print(len(res), f\" publications in the last day.\")\n",
    "\n",
    "carousel = create_carousel(npub)\n",
    "docs = ', '.join(['\"{0:s}\"'.format(k.split('/')[-1]) for k in res])\n",
    "slides = ', '.join([f'\"slide{k}\"' for k in range(1, npub + 1)])\n",
    "\n",
    "with open(\"daily_template.html\", \"r\") as tpl:\n",
    "    page = tpl.read()\n",
    "    page = page.replace(\"{%-- carousel:s --%}\", carousel)\\\n",
    "               .replace(\"{%-- suptitle:s --%}\",  \"Daily\" )\\\n",
    "               .replace(\"{%-- docs:s --%}\", docs)\\\n",
    "               .replace(\"{%-- slides:s --%}\", slides)\n",
    "    \n",
    "# print(carousel, docs, slides)\n",
    "# print(page)\n",
    "with open(\"_build/html/index_daily.html\", 'w') as fout:\n",
    "    fout.write(page)"
   ]
  },
  {
   "cell_type": "code",
   "execution_count": 15,
   "id": "00eece82",
   "metadata": {
    "execution": {
     "iopub.execute_input": "2024-05-27T04:10:07.900160Z",
     "iopub.status.busy": "2024-05-27T04:10:07.899683Z",
     "iopub.status.idle": "2024-05-27T04:10:07.906479Z",
     "shell.execute_reply": "2024-05-27T04:10:07.905839Z"
    },
    "papermill": {
     "duration": 0.014437,
     "end_time": "2024-05-27T04:10:07.907868",
     "exception": false,
     "start_time": "2024-05-27T04:10:07.893431",
     "status": "completed"
    },
    "scrolled": false,
    "tags": []
   },
   "outputs": [
    {
     "name": "stdout",
     "output_type": "stream",
     "text": [
      "6  6 publications selected.\n"
     ]
    }
   ],
   "source": [
    "# Create the flat grid of the last N papers (fixed number regardless of dates)\n",
    "from itertools import islice \n",
    "\n",
    "npub = 6\n",
    "res = [k[0] for k in (islice(reversed(sorted(dates, key=lambda x: x[1])), 6))]\n",
    "print(len(res), f\" {npub} publications selected.\")\n",
    "\n",
    "grid = create_grid(npub)\n",
    "docs = ', '.join(['\"{0:s}\"'.format(k.split('/')[-1]) for k in res])\n",
    "slides = ', '.join([f'\"slide{k}\"' for k in range(1, npub + 1)])\n",
    "\n",
    "with open(\"grid_template.html\", \"r\") as tpl:\n",
    "    page = tpl.read()\n",
    "    page = page.replace(\"{%-- grid-content:s --%}\", grid)\\\n",
    "               .replace(\"{%-- suptitle:s --%}\",  f\"Last {npub:,d} papers\" )\\\n",
    "               .replace(\"{%-- docs:s --%}\", docs)\\\n",
    "               .replace(\"{%-- slides:s --%}\", slides)\n",
    "    \n",
    "# print(grid, docs, slides)\n",
    "# print(page)\n",
    "with open(\"_build/html/index_npub_grid.html\", 'w') as fout:\n",
    "    fout.write(page)"
   ]
  }
 ],
 "metadata": {
  "kernelspec": {
   "display_name": "Python 3 (ipykernel)",
   "language": "python",
   "name": "python3"
  },
  "language_info": {
   "codemirror_mode": {
    "name": "ipython",
    "version": 3
   },
   "file_extension": ".py",
   "mimetype": "text/x-python",
   "name": "python",
   "nbconvert_exporter": "python",
   "pygments_lexer": "ipython3",
   "version": "3.9.19"
  },
  "papermill": {
   "default_parameters": {},
   "duration": 49.34584,
   "end_time": "2024-05-27T04:10:08.229862",
   "environment_variables": {},
   "exception": null,
   "input_path": "MPIA daily digest.ipynb",
   "output_path": "log.ipynb",
   "parameters": {},
   "start_time": "2024-05-27T04:09:18.884022",
   "version": "2.6.0"
  },
  "vscode": {
   "interpreter": {
    "hash": "aee8b7b246df8f9039afb4144a1f6fd8d2ca17a180786b69acc140d282b71a49"
   }
  },
  "widgets": {
   "application/vnd.jupyter.widget-state+json": {
    "state": {
     "08bcc92f559e46319249da54e200b4e3": {
      "model_module": "@jupyter-widgets/base",
      "model_module_version": "2.0.0",
      "model_name": "LayoutModel",
      "state": {
       "_model_module": "@jupyter-widgets/base",
       "_model_module_version": "2.0.0",
       "_model_name": "LayoutModel",
       "_view_count": null,
       "_view_module": "@jupyter-widgets/base",
       "_view_module_version": "2.0.0",
       "_view_name": "LayoutView",
       "align_content": null,
       "align_items": null,
       "align_self": null,
       "border_bottom": null,
       "border_left": null,
       "border_right": null,
       "border_top": null,
       "bottom": null,
       "display": null,
       "flex": null,
       "flex_flow": null,
       "grid_area": null,
       "grid_auto_columns": null,
       "grid_auto_flow": null,
       "grid_auto_rows": null,
       "grid_column": null,
       "grid_gap": null,
       "grid_row": null,
       "grid_template_areas": null,
       "grid_template_columns": null,
       "grid_template_rows": null,
       "height": null,
       "justify_content": null,
       "justify_items": null,
       "left": null,
       "margin": null,
       "max_height": null,
       "max_width": null,
       "min_height": null,
       "min_width": null,
       "object_fit": null,
       "object_position": null,
       "order": null,
       "overflow": null,
       "padding": null,
       "right": null,
       "top": null,
       "visibility": null,
       "width": null
      }
     },
     "2f0975f540f444e0ab61f9792144e3fd": {
      "model_module": "@jupyter-widgets/controls",
      "model_module_version": "2.0.0",
      "model_name": "HTMLModel",
      "state": {
       "_dom_classes": [],
       "_model_module": "@jupyter-widgets/controls",
       "_model_module_version": "2.0.0",
       "_model_name": "HTMLModel",
       "_view_count": null,
       "_view_module": "@jupyter-widgets/controls",
       "_view_module_version": "2.0.0",
       "_view_name": "HTMLView",
       "description": "",
       "description_allow_html": false,
       "layout": "IPY_MODEL_08bcc92f559e46319249da54e200b4e3",
       "placeholder": "​",
       "style": "IPY_MODEL_3fa00f8b34fa452fa96cda9b9162471f",
       "tabbable": null,
       "tooltip": null,
       "value": "100%"
      }
     },
     "3fa00f8b34fa452fa96cda9b9162471f": {
      "model_module": "@jupyter-widgets/controls",
      "model_module_version": "2.0.0",
      "model_name": "HTMLStyleModel",
      "state": {
       "_model_module": "@jupyter-widgets/controls",
       "_model_module_version": "2.0.0",
       "_model_name": "HTMLStyleModel",
       "_view_count": null,
       "_view_module": "@jupyter-widgets/base",
       "_view_module_version": "2.0.0",
       "_view_name": "StyleView",
       "background": null,
       "description_width": "",
       "font_size": null,
       "text_color": null
      }
     },
     "408e2f5e37264420b9c05a242c7fd60e": {
      "model_module": "@jupyter-widgets/base",
      "model_module_version": "2.0.0",
      "model_name": "LayoutModel",
      "state": {
       "_model_module": "@jupyter-widgets/base",
       "_model_module_version": "2.0.0",
       "_model_name": "LayoutModel",
       "_view_count": null,
       "_view_module": "@jupyter-widgets/base",
       "_view_module_version": "2.0.0",
       "_view_name": "LayoutView",
       "align_content": null,
       "align_items": null,
       "align_self": null,
       "border_bottom": null,
       "border_left": null,
       "border_right": null,
       "border_top": null,
       "bottom": null,
       "display": null,
       "flex": null,
       "flex_flow": null,
       "grid_area": null,
       "grid_auto_columns": null,
       "grid_auto_flow": null,
       "grid_auto_rows": null,
       "grid_column": null,
       "grid_gap": null,
       "grid_row": null,
       "grid_template_areas": null,
       "grid_template_columns": null,
       "grid_template_rows": null,
       "height": null,
       "justify_content": null,
       "justify_items": null,
       "left": null,
       "margin": null,
       "max_height": null,
       "max_width": null,
       "min_height": null,
       "min_width": null,
       "object_fit": null,
       "object_position": null,
       "order": null,
       "overflow": null,
       "padding": null,
       "right": null,
       "top": null,
       "visibility": null,
       "width": null
      }
     },
     "52bdabd084f748d0b6296302346855ba": {
      "model_module": "@jupyter-widgets/controls",
      "model_module_version": "2.0.0",
      "model_name": "ProgressStyleModel",
      "state": {
       "_model_module": "@jupyter-widgets/controls",
       "_model_module_version": "2.0.0",
       "_model_name": "ProgressStyleModel",
       "_view_count": null,
       "_view_module": "@jupyter-widgets/base",
       "_view_module_version": "2.0.0",
       "_view_name": "StyleView",
       "bar_color": null,
       "description_width": ""
      }
     },
     "815181dc219e4b92a01f6e94974e4a99": {
      "model_module": "@jupyter-widgets/base",
      "model_module_version": "2.0.0",
      "model_name": "LayoutModel",
      "state": {
       "_model_module": "@jupyter-widgets/base",
       "_model_module_version": "2.0.0",
       "_model_name": "LayoutModel",
       "_view_count": null,
       "_view_module": "@jupyter-widgets/base",
       "_view_module_version": "2.0.0",
       "_view_name": "LayoutView",
       "align_content": null,
       "align_items": null,
       "align_self": null,
       "border_bottom": null,
       "border_left": null,
       "border_right": null,
       "border_top": null,
       "bottom": null,
       "display": null,
       "flex": null,
       "flex_flow": null,
       "grid_area": null,
       "grid_auto_columns": null,
       "grid_auto_flow": null,
       "grid_auto_rows": null,
       "grid_column": null,
       "grid_gap": null,
       "grid_row": null,
       "grid_template_areas": null,
       "grid_template_columns": null,
       "grid_template_rows": null,
       "height": null,
       "justify_content": null,
       "justify_items": null,
       "left": null,
       "margin": null,
       "max_height": null,
       "max_width": null,
       "min_height": null,
       "min_width": null,
       "object_fit": null,
       "object_position": null,
       "order": null,
       "overflow": null,
       "padding": null,
       "right": null,
       "top": null,
       "visibility": null,
       "width": null
      }
     },
     "9f16bc7de8744f688e8a73f0d7d2e8f8": {
      "model_module": "@jupyter-widgets/controls",
      "model_module_version": "2.0.0",
      "model_name": "HTMLStyleModel",
      "state": {
       "_model_module": "@jupyter-widgets/controls",
       "_model_module_version": "2.0.0",
       "_model_name": "HTMLStyleModel",
       "_view_count": null,
       "_view_module": "@jupyter-widgets/base",
       "_view_module_version": "2.0.0",
       "_view_name": "StyleView",
       "background": null,
       "description_width": "",
       "font_size": null,
       "text_color": null
      }
     },
     "a45eade8d6664fa58323b85a40921d2a": {
      "model_module": "@jupyter-widgets/controls",
      "model_module_version": "2.0.0",
      "model_name": "HTMLModel",
      "state": {
       "_dom_classes": [],
       "_model_module": "@jupyter-widgets/controls",
       "_model_module_version": "2.0.0",
       "_model_name": "HTMLModel",
       "_view_count": null,
       "_view_module": "@jupyter-widgets/controls",
       "_view_module_version": "2.0.0",
       "_view_name": "HTMLView",
       "description": "",
       "description_allow_html": false,
       "layout": "IPY_MODEL_408e2f5e37264420b9c05a242c7fd60e",
       "placeholder": "​",
       "style": "IPY_MODEL_9f16bc7de8744f688e8a73f0d7d2e8f8",
       "tabbable": null,
       "tooltip": null,
       "value": " 4/4 [00:30&lt;00:00,  5.21s/it]"
      }
     },
     "a8f19f066e384c269c4e68219af4109d": {
      "model_module": "@jupyter-widgets/controls",
      "model_module_version": "2.0.0",
      "model_name": "FloatProgressModel",
      "state": {
       "_dom_classes": [],
       "_model_module": "@jupyter-widgets/controls",
       "_model_module_version": "2.0.0",
       "_model_name": "FloatProgressModel",
       "_view_count": null,
       "_view_module": "@jupyter-widgets/controls",
       "_view_module_version": "2.0.0",
       "_view_name": "ProgressView",
       "bar_style": "success",
       "description": "",
       "description_allow_html": false,
       "layout": "IPY_MODEL_815181dc219e4b92a01f6e94974e4a99",
       "max": 4.0,
       "min": 0.0,
       "orientation": "horizontal",
       "style": "IPY_MODEL_52bdabd084f748d0b6296302346855ba",
       "tabbable": null,
       "tooltip": null,
       "value": 4.0
      }
     },
     "caab355f60c3446ca333d9ea70b428eb": {
      "model_module": "@jupyter-widgets/base",
      "model_module_version": "2.0.0",
      "model_name": "LayoutModel",
      "state": {
       "_model_module": "@jupyter-widgets/base",
       "_model_module_version": "2.0.0",
       "_model_name": "LayoutModel",
       "_view_count": null,
       "_view_module": "@jupyter-widgets/base",
       "_view_module_version": "2.0.0",
       "_view_name": "LayoutView",
       "align_content": null,
       "align_items": null,
       "align_self": null,
       "border_bottom": null,
       "border_left": null,
       "border_right": null,
       "border_top": null,
       "bottom": null,
       "display": null,
       "flex": null,
       "flex_flow": null,
       "grid_area": null,
       "grid_auto_columns": null,
       "grid_auto_flow": null,
       "grid_auto_rows": null,
       "grid_column": null,
       "grid_gap": null,
       "grid_row": null,
       "grid_template_areas": null,
       "grid_template_columns": null,
       "grid_template_rows": null,
       "height": null,
       "justify_content": null,
       "justify_items": null,
       "left": null,
       "margin": null,
       "max_height": null,
       "max_width": null,
       "min_height": null,
       "min_width": null,
       "object_fit": null,
       "object_position": null,
       "order": null,
       "overflow": null,
       "padding": null,
       "right": null,
       "top": null,
       "visibility": null,
       "width": null
      }
     },
     "f5979a062fe249718d99dc449b2bb202": {
      "model_module": "@jupyter-widgets/controls",
      "model_module_version": "2.0.0",
      "model_name": "HBoxModel",
      "state": {
       "_dom_classes": [],
       "_model_module": "@jupyter-widgets/controls",
       "_model_module_version": "2.0.0",
       "_model_name": "HBoxModel",
       "_view_count": null,
       "_view_module": "@jupyter-widgets/controls",
       "_view_module_version": "2.0.0",
       "_view_name": "HBoxView",
       "box_style": "",
       "children": [
        "IPY_MODEL_2f0975f540f444e0ab61f9792144e3fd",
        "IPY_MODEL_a8f19f066e384c269c4e68219af4109d",
        "IPY_MODEL_a45eade8d6664fa58323b85a40921d2a"
       ],
       "layout": "IPY_MODEL_caab355f60c3446ca333d9ea70b428eb",
       "tabbable": null,
       "tooltip": null
      }
     }
    },
    "version_major": 2,
    "version_minor": 0
   }
  }
 },
 "nbformat": 4,
 "nbformat_minor": 5
}