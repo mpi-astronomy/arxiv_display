{
 "cells": [
  {
   "cell_type": "markdown",
   "id": "92bcb855",
   "metadata": {
    "papermill": {
     "duration": 0.00382,
     "end_time": "2025-05-06T04:12:44.401819",
     "exception": false,
     "start_time": "2025-05-06T04:12:44.397999",
     "status": "completed"
    },
    "tags": []
   },
   "source": [
    "# MPIA Arxiv on Deck 2\n",
    "\n",
    "Contains the steps to produce the paper extractions."
   ]
  },
  {
   "cell_type": "code",
   "execution_count": 1,
   "id": "3a0d6e11",
   "metadata": {
    "execution": {
     "iopub.execute_input": "2025-05-06T04:12:44.409613Z",
     "iopub.status.busy": "2025-05-06T04:12:44.408947Z",
     "iopub.status.idle": "2025-05-06T04:12:45.026551Z",
     "shell.execute_reply": "2025-05-06T04:12:45.025844Z"
    },
    "papermill": {
     "duration": 0.622743,
     "end_time": "2025-05-06T04:12:45.027872",
     "exception": false,
     "start_time": "2025-05-06T04:12:44.405129",
     "status": "completed"
    },
    "tags": []
   },
   "outputs": [],
   "source": [
    "# Imports\n",
    "import os\n",
    "from IPython.display import Markdown, display\n",
    "from tqdm.notebook import tqdm\n",
    "import warnings\n",
    "from PIL import Image \n",
    "import re\n",
    "\n",
    "# requires arxiv_on_deck_2\n",
    "\n",
    "from arxiv_on_deck_2.arxiv2 import (get_new_papers, \n",
    "                                    get_paper_from_identifier,\n",
    "                                    retrieve_document_source, \n",
    "                                    get_markdown_badge)\n",
    "from arxiv_on_deck_2 import (latex,\n",
    "                             latex_bib,\n",
    "                             mpia,\n",
    "                             highlight_authors_in_list)\n",
    "\n",
    "# Sometimes images are really big\n",
    "Image.MAX_IMAGE_PIXELS = 1000000000 "
   ]
  },
  {
   "cell_type": "code",
   "execution_count": 2,
   "id": "22aa9d44",
   "metadata": {
    "execution": {
     "iopub.execute_input": "2025-05-06T04:12:45.035211Z",
     "iopub.status.busy": "2025-05-06T04:12:45.034876Z",
     "iopub.status.idle": "2025-05-06T04:12:45.043116Z",
     "shell.execute_reply": "2025-05-06T04:12:45.042571Z"
    },
    "papermill": {
     "duration": 0.012913,
     "end_time": "2025-05-06T04:12:45.044073",
     "exception": false,
     "start_time": "2025-05-06T04:12:45.031160",
     "status": "completed"
    },
    "tags": []
   },
   "outputs": [],
   "source": [
    "# Some useful definitions.\n",
    "\n",
    "class AffiliationWarning(UserWarning):\n",
    "    pass\n",
    "\n",
    "class AffiliationError(RuntimeError):\n",
    "    pass\n",
    "\n",
    "def validation(source: str):\n",
    "    \"\"\"Raises error paper during parsing of source file\n",
    "    \n",
    "    Allows checks before parsing TeX code.\n",
    "    \n",
    "    Raises AffiliationWarning\n",
    "    \"\"\"\n",
    "    check = mpia.affiliation_verifications(source, verbose=True)\n",
    "    if check is not True:\n",
    "        raise AffiliationError(\"mpia.affiliation_verifications: \" + check)\n",
    "\n",
    "        \n",
    "warnings.simplefilter('always', AffiliationWarning)\n",
    "\n",
    "\n",
    "def get_markdown_qrcode(paper_id: str):\n",
    "    \"\"\" Generate a qrcode to the arxiv page using qrserver.com\n",
    "    \n",
    "    :param paper: Arxiv paper\n",
    "    :returns: markdown text\n",
    "    \"\"\"\n",
    "    url = r\"https://api.qrserver.com/v1/create-qr-code/?size=100x100&data=\"\n",
    "    txt = f\"\"\"<img src={url}\"https://arxiv.org/abs/{paper_id}\">\"\"\"\n",
    "    txt = '<div id=\"qrcode\">' + txt + '</div>'\n",
    "    return txt\n",
    "\n",
    "\n",
    "def clean_non_western_encoded_characters_commands(text: str) -> str:\n",
    "    \"\"\" Remove non-western encoded characters from a string\n",
    "    List may need to grow.\n",
    "    \n",
    "    :param text: the text to clean\n",
    "    :return: the cleaned text\n",
    "    \"\"\"\n",
    "    text = re.sub(r\"(\\\\begin{CJK}{UTF8}{gbsn})(.*?)(\\\\end{CJK})\", r\"\\2\", text)\n",
    "    return text\n",
    "\n",
    "\n",
    "def get_initials(name: str) -> str:\n",
    "    \"\"\" Get the short name, e.g., A.-B. FamName\n",
    "    :param name: full name\n",
    "    :returns: initials\n",
    "    \"\"\"\n",
    "    initials = []\n",
    "    # account for non western names often in ()\n",
    "    if '(' in name:\n",
    "        name = clean_non_western_encoded_characters_commands(name)\n",
    "        suffix = re.findall(r\"\\((.*?)\\)\", name)[0]\n",
    "        name = name.replace(f\"({suffix})\", '')\n",
    "    else:\n",
    "        suffix = ''\n",
    "    split = name.split()\n",
    "    for token in split[:-1]:\n",
    "        if '-' in token:\n",
    "            current = '-'.join([k[0] + '.' for k in token.split('-')])\n",
    "        else:\n",
    "            current = token[0] + '.'\n",
    "        initials.append(current)\n",
    "    initials.append(split[-1].strip())\n",
    "    if suffix:\n",
    "        initials.append(f\"({suffix})\")\n",
    "    return ' '.join(initials)"
   ]
  },
  {
   "cell_type": "markdown",
   "id": "14bd6310",
   "metadata": {
    "papermill": {
     "duration": 0.002909,
     "end_time": "2025-05-06T04:12:45.049903",
     "exception": false,
     "start_time": "2025-05-06T04:12:45.046994",
     "status": "completed"
    },
    "tags": []
   },
   "source": [
    "## get list of arxiv paper candidates\n",
    "\n",
    "We use the MPIA mitarbeiter list webpage from mpia.de to get author names\n",
    "We then get all new papers from Arxiv and match authors"
   ]
  },
  {
   "cell_type": "code",
   "execution_count": 3,
   "id": "7ea813a8",
   "metadata": {
    "execution": {
     "iopub.execute_input": "2025-05-06T04:12:45.056742Z",
     "iopub.status.busy": "2025-05-06T04:12:45.056497Z",
     "iopub.status.idle": "2025-05-06T04:13:10.913018Z",
     "shell.execute_reply": "2025-05-06T04:13:10.912363Z"
    },
    "papermill": {
     "duration": 25.861567,
     "end_time": "2025-05-06T04:13:10.914412",
     "exception": false,
     "start_time": "2025-05-06T04:12:45.052845",
     "status": "completed"
    },
    "tags": []
   },
   "outputs": [],
   "source": [
    "# deal with the author list and edge cases of people that cannot be consistent on their name  \n",
    "\n",
    "def filter_non_scientists(name: str) -> bool:\n",
    "    \"\"\" Loose filter on expected authorships\n",
    "\n",
    "    removing IT, administration, technical staff\n",
    "    :param name: name\n",
    "    :returns: False if name is not a scientist\n",
    "    \"\"\"\n",
    "    remove_list = ['Licht', 'Binroth', 'Witzel', 'Jordan',\n",
    "                   'Zähringer', 'Scheerer', 'Hoffmann', 'Düe',\n",
    "                   'Hellmich', 'Enkler-Scharpegge', 'Witte-Nguy',\n",
    "                   'Dehen', 'Beckmann', 'Jager', 'Jäger'\n",
    "                  ]\n",
    "\n",
    "    for k in remove_list:\n",
    "        if k in name:\n",
    "            return False\n",
    "    return True\n",
    "\n",
    "def add_author_to_list(author_list: list) -> list:\n",
    "    \"\"\" Add author to list if not already in list\n",
    "    \n",
    "    :param author: author name\n",
    "    :param author_list: list of authors\n",
    "    :returns: updated list of authors\n",
    "    \"\"\"\n",
    "    add_list = ['T. Henning']\n",
    "\n",
    "    for author in add_list:\n",
    "        if author not in author_list:\n",
    "            author_list.append(author)\n",
    "    return author_list\n",
    "\n",
    "# get list from MPIA website\n",
    "# filter for non-scientists (mpia.get_mpia_mitarbeiter_list() does some filtering)\n",
    "mpia_authors = [k[1] for k in mpia.get_mpia_mitarbeiter_list() if filter_non_scientists(k[1])]\n",
    "# add some missing author because of inconsistencies in their MPIA name and author name on papers\n",
    "mpia_authors = add_author_to_list(mpia_authors)"
   ]
  },
  {
   "cell_type": "code",
   "execution_count": 4,
   "id": "2645e73a",
   "metadata": {
    "execution": {
     "iopub.execute_input": "2025-05-06T04:13:10.922160Z",
     "iopub.status.busy": "2025-05-06T04:13:10.921608Z",
     "iopub.status.idle": "2025-05-06T04:13:11.759744Z",
     "shell.execute_reply": "2025-05-06T04:13:11.759015Z"
    },
    "papermill": {
     "duration": 0.843154,
     "end_time": "2025-05-06T04:13:11.760887",
     "exception": false,
     "start_time": "2025-05-06T04:13:10.917733",
     "status": "completed"
    },
    "tags": []
   },
   "outputs": [
    {
     "name": "stdout",
     "output_type": "stream",
     "text": [
      "L. Kreidberg  ->  L. Kreidberg  |  ['L. Kreidberg']\n",
      "Y. Wang  ->  Y. Wang  |  ['Y. Wang']\n",
      "X. Zhang  ->  X. Zhang  |  ['X. Zhang']\n"
     ]
    },
    {
     "name": "stdout",
     "output_type": "stream",
     "text": [
      "J. Liu  ->  J. Liu  |  ['J. Liu']\n",
      "Arxiv has 79 new papers today\n",
      "          4 with possible author matches\n"
     ]
    }
   ],
   "source": [
    "new_papers = get_new_papers()\n",
    "# add manual references\n",
    "add_paper_refs = []\n",
    "new_papers.extend([get_paper_from_identifier(k) for k in add_paper_refs])\n",
    "\n",
    "def robust_call(fn, value, *args, **kwargs):\n",
    "    try:\n",
    "        return fn(value, *args, **kwargs)\n",
    "    except Exception:\n",
    "        return value\n",
    "\n",
    "candidates = []\n",
    "for paperk in new_papers:\n",
    "    # Check author list with their initials\n",
    "    normed_author_list = [robust_call(mpia.get_initials, k) for k in paperk['authors']]\n",
    "    hl_authors = highlight_authors_in_list(normed_author_list, mpia_authors, verbose=True)\n",
    "    matches = [(hl, orig) for hl, orig in zip(hl_authors, paperk['authors']) if 'mark' in hl]\n",
    "    paperk['authors'] = hl_authors\n",
    "    if matches:\n",
    "        # only select paper if an author matched our list\n",
    "        candidates.append(paperk)\n",
    "print(\"\"\"Arxiv has {0:,d} new papers today\"\"\".format(len(new_papers)))        \n",
    "print(\"\"\"          {0:,d} with possible author matches\"\"\".format(len(candidates)))"
   ]
  },
  {
   "cell_type": "markdown",
   "id": "3543b34a",
   "metadata": {
    "papermill": {
     "duration": 0.003107,
     "end_time": "2025-05-06T04:13:11.767633",
     "exception": false,
     "start_time": "2025-05-06T04:13:11.764526",
     "status": "completed"
    },
    "tags": []
   },
   "source": [
    "# Parse sources and generate relevant outputs\n",
    "\n",
    "From the candidates, we do the following steps:\n",
    "* get their tarball from ArXiv (and extract data)\n",
    "* find the main .tex file: find one with \\documentclass{...} (sometimes it's non trivial)\n",
    "* Check affiliations with :func:`validation`, which uses :func:`mpia.affiliation_verifications`\n",
    "* If passing the affiliations: we parse the .tex source\n",
    "   * inject sub-documents into the main (flatten the main document)\n",
    "   * parse structure, extract information (title, abstract, authors, figures...)\n",
    "   * handles `\\graphicspath` if provided\n",
    "* Generate the .md document."
   ]
  },
  {
   "cell_type": "code",
   "execution_count": 5,
   "id": "9576b79e",
   "metadata": {
    "execution": {
     "iopub.execute_input": "2025-05-06T04:13:11.775276Z",
     "iopub.status.busy": "2025-05-06T04:13:11.774743Z",
     "iopub.status.idle": "2025-05-06T04:14:22.698262Z",
     "shell.execute_reply": "2025-05-06T04:14:22.697471Z"
    },
    "papermill": {
     "duration": 70.928612,
     "end_time": "2025-05-06T04:14:22.699506",
     "exception": false,
     "start_time": "2025-05-06T04:13:11.770894",
     "status": "completed"
    },
    "scrolled": false,
    "tags": []
   },
   "outputs": [
    {
     "data": {
      "application/vnd.jupyter.widget-view+json": {
       "model_id": "9a4034e74e5f420e8c030a1023d54771",
       "version_major": 2,
       "version_minor": 0
      },
      "text/plain": [
       "  0%|          | 0/4 [00:00<?, ?it/s]"
      ]
     },
     "metadata": {},
     "output_type": "display_data"
    },
    {
     "name": "stdout",
     "output_type": "stream",
     "text": [
      "Retrieving document from  https://arxiv.org/e-print/2505.01544\n"
     ]
    },
    {
     "name": "stdout",
     "output_type": "stream",
     "text": [
      "extracting tarball to tmp_2505.01544..."
     ]
    },
    {
     "name": "stdout",
     "output_type": "stream",
     "text": [
      " done.\n"
     ]
    },
    {
     "name": "stderr",
     "output_type": "stream",
     "text": [
      "/opt/hostedtoolcache/Python/3.9.22/x64/lib/python3.9/site-packages/arxiv_on_deck_2/latex.py:132: LatexWarning: attempting recovering figure images/WASP18b_emission_spectra_tp_V07_corr.png\n",
      "  warnings.warn(LatexWarning(f'attempting recovering figure {image}'))\n",
      "/opt/hostedtoolcache/Python/3.9.22/x64/lib/python3.9/site-packages/arxiv_on_deck_2/latex.py:707: LatexWarning: Could not find graphic \\includegraphics[width=\\linewidth,clip]{images/WASP18b_emission_spectra_tp_V07_corr.png}\n",
      "  warnings.warn(LatexWarning(f\"Could not find graphic {k}\"))\n",
      "/opt/hostedtoolcache/Python/3.9.22/x64/lib/python3.9/site-packages/arxiv_on_deck_2/latex.py:132: LatexWarning: attempting recovering figure images/WASP18b_emission_retrievals_vmr_V06.png\n",
      "  warnings.warn(LatexWarning(f'attempting recovering figure {image}'))\n",
      "/opt/hostedtoolcache/Python/3.9.22/x64/lib/python3.9/site-packages/arxiv_on_deck_2/latex.py:707: LatexWarning: Could not find graphic \\includegraphics[width=\\linewidth,clip]{images/WASP18b_emission_retrievals_vmr_V06.png}\n",
      "  warnings.warn(LatexWarning(f\"Could not find graphic {k}\"))\n"
     ]
    },
    {
     "name": "stdout",
     "output_type": "stream",
     "text": [
      "Found 179 bibliographic references in tmp_2505.01544/aa50939-24.bbl.\n",
      "Issues with the citations\n",
      "syntax error in line 438: '=' expected\n",
      "Retrieving document from  https://arxiv.org/e-print/2505.01606\n",
      "extracting tarball to tmp_2505.01606..."
     ]
    },
    {
     "name": "stdout",
     "output_type": "stream",
     "text": [
      " done.\n",
      "Retrieving document from  https://arxiv.org/e-print/2505.02127\n",
      "extracting tarball to tmp_2505.02127..."
     ]
    },
    {
     "name": "stdout",
     "output_type": "stream",
     "text": [
      " done.\n",
      "Retrieving document from  https://arxiv.org/e-print/2505.02434\n"
     ]
    },
    {
     "name": "stdout",
     "output_type": "stream",
     "text": [
      "extracting tarball to tmp_2505.02434..."
     ]
    },
    {
     "name": "stdout",
     "output_type": "stream",
     "text": [
      " done.\n"
     ]
    }
   ],
   "source": [
    "documents = []\n",
    "failed = []\n",
    "for paper in tqdm(candidates):\n",
    "    # debug crap\n",
    "    paper['identifier'] = paper['identifier'].lower().replace('arxiv:', '').replace(r'\\n', '').strip()\n",
    "    paper_id = paper['identifier']\n",
    "    \n",
    "    folder = f'tmp_{paper_id}'\n",
    "\n",
    "    try:\n",
    "        if not os.path.isdir(folder):\n",
    "            folder = retrieve_document_source(f\"{paper_id}\", f'tmp_{paper_id}')\n",
    "        \n",
    "        try:\n",
    "            doc = latex.LatexDocument(folder, validation=validation)    \n",
    "        except AffiliationError as affilerror:\n",
    "            msg = f\"ArXiv:{paper_id:s} is not an MPIA paper... \" + str(affilerror)\n",
    "            failed.append((paper, \"affiliation error: \" + str(affilerror) ))\n",
    "            continue\n",
    "        \n",
    "        # Hack because sometimes author parsing does not work well\n",
    "        if (len(doc.authors) != len(paper['authors'])):\n",
    "            doc._authors = paper['authors']\n",
    "        else:\n",
    "            # highlight authors (FIXME: doc.highlight_authors)\n",
    "            # done on arxiv paper already\n",
    "            doc._authors = highlight_authors_in_list(\n",
    "                [get_initials(k) for k in doc.authors], \n",
    "                mpia_authors, verbose=True)\n",
    "        if (doc.abstract) in (None, ''):\n",
    "            doc._abstract = paper['abstract']\n",
    "            \n",
    "        doc.comment = (get_markdown_badge(paper_id) + \n",
    "                       \"<mark>Appeared on: \" + paper['date'] + \"</mark> - \")\n",
    "        if paper['comments']:\n",
    "            doc.comment += \" _\" + paper['comments'] + \"_\"\n",
    "        \n",
    "        full_md = doc.generate_markdown_text()\n",
    "        \n",
    "        full_md += get_markdown_qrcode(paper_id)\n",
    "        \n",
    "        # replace citations\n",
    "        try:\n",
    "            bibdata = latex_bib.LatexBib.from_doc(doc)\n",
    "            full_md = latex_bib.replace_citations(full_md, bibdata)\n",
    "        except Exception as e:\n",
    "            print(\"Issues with the citations\")\n",
    "            print(e)\n",
    "        \n",
    "        documents.append((paper_id, full_md))\n",
    "    except Exception as e:\n",
    "        warnings.warn(latex.LatexWarning(f\"{paper_id:s} did not run properly\\n\" +\n",
    "                                         str(e)\n",
    "                                        ))\n",
    "        failed.append((paper, \"latex error \" + str(e)))"
   ]
  },
  {
   "cell_type": "markdown",
   "id": "2505a25c",
   "metadata": {
    "papermill": {
     "duration": 0.003868,
     "end_time": "2025-05-06T04:14:22.707449",
     "exception": false,
     "start_time": "2025-05-06T04:14:22.703581",
     "status": "completed"
    },
    "tags": []
   },
   "source": [
    "### Export the logs\n",
    "\n",
    "Throughout, we also keep track of the logs per paper. see `logs-{today date}.md` "
   ]
  },
  {
   "cell_type": "code",
   "execution_count": 6,
   "id": "d733828a",
   "metadata": {
    "execution": {
     "iopub.execute_input": "2025-05-06T04:14:22.716978Z",
     "iopub.status.busy": "2025-05-06T04:14:22.716149Z",
     "iopub.status.idle": "2025-05-06T04:14:22.732506Z",
     "shell.execute_reply": "2025-05-06T04:14:22.731746Z"
    },
    "papermill": {
     "duration": 0.022322,
     "end_time": "2025-05-06T04:14:22.733540",
     "exception": false,
     "start_time": "2025-05-06T04:14:22.711218",
     "status": "completed"
    },
    "scrolled": false,
    "tags": []
   },
   "outputs": [
    {
     "data": {
      "text/markdown": [
       "## Successful papers"
      ],
      "text/plain": [
       "<IPython.core.display.Markdown object>"
      ]
     },
     "metadata": {},
     "output_type": "display_data"
    },
    {
     "data": {
      "text/markdown": [
       "\n",
       "|||\n",
       "|---:|:---|\n",
       "| [![arXiv](https://img.shields.io/badge/arXiv-2505.01544-b31b1b.svg)](https://arxiv.org/abs/2505.01544) | **Dark skies of the slightly eccentric WASP-18 b from its optical-to-infrared dayside emission**  |\n",
       "|| A. Deline, et al. -- incl., <mark>L. Kreidberg</mark> |\n",
       "|*Appeared on*| *2025-05-06*|\n",
       "|*Comments*| *31 pages, 17 figures, 13 tables (including the appendix); accepted for publication in A&A*|\n",
       "|**Abstract**|            We analyse jointly phase-curve observations of the ultra-hot Jupiter WASP-18 b from the visible to the mid-infrared, using unpublished data from CHEOPS, TESS and Spitzer. We aim to characterise the planetary atmosphere with a consistent view over the large wavelength range covered using GCMs and retrieval analyses, and including JWST data. We obtain new ephemerides with unprecedented precisions of 1 second and 1.4 millisecond on the time of inferior conjunction and orbital period, respectively. We compute a planetary radius of $R_p = 1.1926 \\pm 0.0077 R_J$ with a precision of 0.65%, or 550 km. Through a timing inconsistency with JWST, we discuss and confirm orbital eccentricity ($e = 0.00852 \\pm 0.00091$), and constrain the argument of periastron to $\\omega = 261.9^{+1.3}_{-1.4}$ deg. We show that the large dayside emission implies the presence of magnetic drag and super-solar metallicity. We find a steep thermally-inverted gradient in the planetary atmosphere, which is common for UHJs. We detect the presence of strong CO emission lines at 4.5 $\\mu$m from an excess of dayside brightness in the Spitzer/IRAC/Ch2 passband. Using these models to constrain the reflected contribution in the CHEOPS passband, we derive an extremely low geometric albedo $A_g^\\text{CHEOPS} = 0.027 \\pm 0.011$.         |"
      ],
      "text/plain": [
       "[2505.01544] Dark skies of the slightly eccentric WASP-18 b from its optical-to-infrared dayside emission\n",
       "\tA. Deline, et al. -- incl., <mark>L. Kreidberg</mark>"
      ]
     },
     "metadata": {},
     "output_type": "display_data"
    },
    {
     "data": {
      "text/markdown": [
       "## Failed papers"
      ],
      "text/plain": [
       "<IPython.core.display.Markdown object>"
      ]
     },
     "metadata": {},
     "output_type": "display_data"
    },
    {
     "data": {
      "text/markdown": [
       "\n",
       "|||\n",
       "|---:|:---|\n",
       "| [![arXiv](https://img.shields.io/badge/arXiv-2505.01606-b31b1b.svg)](https://arxiv.org/abs/2505.01606) | **X-ray Emission Signatures of Neutron Star Mergers**  |\n",
       "|| C. Chen, <mark>Y. Wang</mark>, B. Zhang |\n",
       "|*Appeared on*| *2025-05-06*|\n",
       "|*Comments*| *18 pages, 14 figures. Submitted to ApJ*|\n",
       "|**Abstract**|            Neutron star (NS) mergers, including both binary NS mergers and black hole - NS mergers, are multi-messenger sources detectable in both gravitational waves (GWs) and electromagnetic (EM) radiation. The expected EM emission signatures depend on the source's progenitor, merger remnant, and observer's line of sight (LoS). Widely discussed EM counterparts of NS mergers have been focused in the gamma-ray (in terms of short-duration gamma-ray bursts) and optical (in terms of kilonova) bands. In this paper, we show that X-ray emission carries unique post-merger signatures that are inaccessible in other EM bands and plays an important role in understanding the physics and geometry of these mergers. We consider several binary progenitor and central engine models and investigate X-ray emission signatures from the prompt phase immediately after the merger to the afterglow phase extending years later. For the prompt phase, we devise a general method for computing phenomenological X-ray light curves and spectra for structured jets viewed from any LoS, which can be applied to X-ray observations of NS mergers to constrain the geometry. The geometric constraints can in turn be used to model the afterglow and estimate a peak time and flux -- to preemptively determine afterglow characteristics would be monumental for follow-up observation campaigns of future GW sources. Finally, we provide constraints on the time window for X-ray counterpart searches of NS mergers across a range of luminosity distances and detector sensitivities.         |\n",
       "|<p style=\"color:green\"> **ERROR** </p>| <p style=\"color:green\">affiliation error: mpia.affiliation_verifications: 'Heidelberg' keyword not found.</p> |"
      ],
      "text/plain": [
       "<IPython.core.display.Markdown object>"
      ]
     },
     "metadata": {},
     "output_type": "display_data"
    },
    {
     "data": {
      "text/markdown": [
       "\n",
       "|||\n",
       "|---:|:---|\n",
       "| [![arXiv](https://img.shields.io/badge/arXiv-2505.02127-b31b1b.svg)](https://arxiv.org/abs/2505.02127) | **Evaluating the Accuracy of Non-parametric Galaxy Morphological Indicator Measurements in the CSST Imaging Survey**  |\n",
       "|| Y. Luo, et al. -- incl., <mark>X. Zhang</mark> |\n",
       "|*Appeared on*| *2025-05-06*|\n",
       "|*Comments*| *15 pages, 14 figures, to be published in PASP. Comments welcome*|\n",
       "|**Abstract**|            The Chinese Space Station Telescope (CSST) is China's upcoming next-generation ultraviolet and optical survey telescope, with imaging resolution capabilities comparable to the Hubble Space Telescope (HST). In this study, we utilized a comprehensive sample of 3,679 CSST realistic mock galaxies constructed from HST CANDELS/GOODS-North deep imaging observations, with stellar masses $\\log\\left(M_{*} / M_{\\odot}\\right) > 9.0$ and redshifts $z < 2$. We evaluate the detection capabilities of CSST surveys and the accuracy in measuring the non-parametric morphological indicators ($C$, $A$, $Gini$, $M_{\\rm 20}$, $A_{\\rm O}$, $D_{\\rm O}$) of galaxies. Our findings show that in terms of galaxy detection capabilities, CSST's deep field surveys can achieve the same level as HST's deep field observations; however, in wide-field surveys, CSST exhibits a significant deficiency in detecting high-redshift, low-mass, low-surface-brightness galaxies. Regarding the measurement of galaxy morphology, CSST's deep field surveys achieve high accuracy across all indicators except for the asymmetry indicator ($A$), whereas its wide-field surveys suffer from significant systematic biases. We thus provide simple correction functions to adjust the non-parametric morphological indicators obtained from CSST's wide-field and deep-field observations, thereby aligning CSST measurements with those from HST. This adjustment enables the direct application of non-parametric morphological classification methods originally developed for HST data to galaxies observed by CSST.         |\n",
       "|<p style=\"color:green\"> **ERROR** </p>| <p style=\"color:green\">affiliation error: mpia.affiliation_verifications: 'Heidelberg' keyword not found.</p> |"
      ],
      "text/plain": [
       "<IPython.core.display.Markdown object>"
      ]
     },
     "metadata": {},
     "output_type": "display_data"
    },
    {
     "data": {
      "text/markdown": [
       "\n",
       "|||\n",
       "|---:|:---|\n",
       "| [![arXiv](https://img.shields.io/badge/arXiv-2505.02434-b31b1b.svg)](https://arxiv.org/abs/2505.02434) | **Early evolution of super-Eddington accretion flow in tidal disruption events**  |\n",
       "|| E. Qiao, et al. -- incl., <mark>J. Liu</mark> |\n",
       "|*Appeared on*| *2025-05-06*|\n",
       "|*Comments*| *18 pages, 45 figures, accepted for publication by MNRAS*|\n",
       "|**Abstract**|            Tidal disruption events (TDEs) are luminous black hole (BH) transient sources, which are detected mainly in X-ray and optical bands. It is generally believed that the X-ray emission in TDEs is produced by an accretion disc formed as the stellar debris accreted onto the central BH. The origin of the optical emission is not determined, but could be explained by the `reprocessing' model with the X-ray emission reprocessed into optical band by a surrounding optically thick envelope or outflow. In this paper, we performed radiation hydrodynamic simulations of super-Eddington accretion flow with Athena++ code in the environment of TDEs, i.e., injecting a continuous mass flow rate at the circularization radius in the form of $\\dot M_{\\rm inject} \\propto t^{-5/3}$ for the mass supply rate. We show that a significant fraction of the matter in the accretion inflow are blowed off forming outflow, and the properties of the outflow are viewing-angle dependent. We further calculate the emergent spectra of such an inflow/outflow system for different viewing angles with the method of Monto Carlo radiative transfer. Based on the emergent spectra, we show that the observed features of TDEs, such as the X-ray and optical luminosities, the blackbody temperature of X-ray and optical emission and the corresponding emission radii, the ratio of X-ray luminosity to optical luminosity, as well as the evolution of these quantities can be explained in the framework of viewing-angle effect of super-Eddington accretion around a BH.         |\n",
       "|<p style=\"color:green\"> **ERROR** </p>| <p style=\"color:green\">affiliation error: mpia.affiliation_verifications: 'Heidelberg' keyword not found.</p> |"
      ],
      "text/plain": [
       "<IPython.core.display.Markdown object>"
      ]
     },
     "metadata": {},
     "output_type": "display_data"
    }
   ],
   "source": [
    "import datetime\n",
    "today = str(datetime.date.today())\n",
    "logfile = f\"_build/html/logs/log-{today}.md\"\n",
    "\n",
    "\n",
    "with open(logfile, 'w') as logs:\n",
    "    # Success\n",
    "    logs.write(f'# Arxiv on Deck 2: Logs - {today}\\n\\n')\n",
    "    logs.write(\"\"\"* Arxiv had {0:,d} new papers\\n\"\"\".format(len(new_papers)))\n",
    "    logs.write(\"\"\"    * {0:,d} with possible author matches\\n\\n\"\"\".format(len(candidates)))\n",
    "    logs.write(\"## Sucessful papers\\n\\n\")\n",
    "    display(Markdown(\"## Successful papers\"))\n",
    "    success = [k[0] for k in documents]\n",
    "    for candid in candidates:\n",
    "        if candid['identifier'].split(':')[-1] in success:\n",
    "            display(candid)\n",
    "            logs.write(candid.generate_markdown_text() + '\\n\\n')\n",
    "\n",
    "    ## failed\n",
    "    logs.write(\"## Failed papers\\n\\n\")\n",
    "    display(Markdown(\"## Failed papers\"))\n",
    "    failed = sorted(failed, key=lambda x: x[1])\n",
    "    current_reason = \"\"\n",
    "    for paper, reason in failed:\n",
    "        if 'affiliation' in reason:\n",
    "            color = 'green'\n",
    "        else:\n",
    "            color = 'red'\n",
    "        data = Markdown(\n",
    "                paper.generate_markdown_text() + \n",
    "                f'\\n|<p style=\"color:{color:s}\"> **ERROR** </p>| <p style=\"color:{color:s}\">{reason:s}</p> |'\n",
    "               )\n",
    "        if reason != current_reason:\n",
    "            logs.write(f'### {reason:s} \\n\\n')\n",
    "            current_reason = reason\n",
    "        logs.write(data.data + '\\n\\n')\n",
    "        \n",
    "        # only display here the important errors (all in logs)\n",
    "        # if color in ('red',):\n",
    "        display(data)"
   ]
  },
  {
   "cell_type": "markdown",
   "id": "472d20ee",
   "metadata": {
    "papermill": {
     "duration": 0.004396,
     "end_time": "2025-05-06T04:14:22.742541",
     "exception": false,
     "start_time": "2025-05-06T04:14:22.738145",
     "status": "completed"
    },
    "tags": []
   },
   "source": [
    "## Export documents\n",
    "\n",
    "We now write the .md files and export relevant images"
   ]
  },
  {
   "cell_type": "code",
   "execution_count": 7,
   "id": "d426aed9",
   "metadata": {
    "execution": {
     "iopub.execute_input": "2025-05-06T04:14:22.752512Z",
     "iopub.status.busy": "2025-05-06T04:14:22.752020Z",
     "iopub.status.idle": "2025-05-06T04:14:22.759620Z",
     "shell.execute_reply": "2025-05-06T04:14:22.758984Z"
    },
    "papermill": {
     "duration": 0.013833,
     "end_time": "2025-05-06T04:14:22.760666",
     "exception": false,
     "start_time": "2025-05-06T04:14:22.746833",
     "status": "completed"
    },
    "tags": []
   },
   "outputs": [],
   "source": [
    "def export_markdown_summary(md: str, md_fname:str, directory: str):\n",
    "    \"\"\"Export MD document and associated relevant images\"\"\"\n",
    "    import os\n",
    "    import shutil\n",
    "    import re\n",
    "\n",
    "    if (os.path.exists(directory) and not os.path.isdir(directory)):\n",
    "        raise RuntimeError(f\"a non-directory file exists with name {directory:s}\")\n",
    "\n",
    "    if (not os.path.exists(directory)):\n",
    "        print(f\"creating directory {directory:s}\")\n",
    "        os.mkdir(directory)\n",
    "\n",
    "    fig_fnames = (re.compile(r'\\[Fig.*\\]\\((.*)\\)').findall(md) + \n",
    "                  re.compile(r'\\<img src=\"([^>\\s]*)\"[^>]*/>').findall(md))\n",
    "    print(\"found figures\", fig_fnames)\n",
    "    for fname in fig_fnames:\n",
    "        if 'http' in fname:\n",
    "            # No need to copy online figures\n",
    "            continue\n",
    "        if not os.path.exists(fname):\n",
    "            print(\"file not found\", fname)\n",
    "            continue\n",
    "        print(\"copying \", fname, \"to\", directory)\n",
    "        destdir = os.path.join(directory, os.path.dirname(fname))\n",
    "        destfname = os.path.join(destdir, os.path.basename(fname))\n",
    "        try:\n",
    "            os.makedirs(destdir)\n",
    "        except FileExistsError:\n",
    "            pass\n",
    "        shutil.copy(fname, destfname)\n",
    "    with open(os.path.join(directory, md_fname), 'w') as fout:\n",
    "        fout.write(md)\n",
    "    print(\"exported in \", os.path.join(directory, md_fname))\n",
    "    [print(\"    + \" + os.path.join(directory,fk)) for fk in fig_fnames]"
   ]
  },
  {
   "cell_type": "code",
   "execution_count": 8,
   "id": "014d04a4",
   "metadata": {
    "execution": {
     "iopub.execute_input": "2025-05-06T04:14:22.770746Z",
     "iopub.status.busy": "2025-05-06T04:14:22.770258Z",
     "iopub.status.idle": "2025-05-06T04:14:22.776369Z",
     "shell.execute_reply": "2025-05-06T04:14:22.775754Z"
    },
    "papermill": {
     "duration": 0.012225,
     "end_time": "2025-05-06T04:14:22.777414",
     "exception": false,
     "start_time": "2025-05-06T04:14:22.765189",
     "status": "completed"
    },
    "tags": []
   },
   "outputs": [
    {
     "name": "stdout",
     "output_type": "stream",
     "text": [
      "found figures ['tmp_2505.01544/./images/geometric_albedo.png', 'tmp_2505.01544/./images/FpFs_plot.png', 'tmp_2505.01544/./images/W18b_JWST_e-w_ALL.png']\n",
      "copying  tmp_2505.01544/./images/geometric_albedo.png to _build/html/\n",
      "copying  tmp_2505.01544/./images/FpFs_plot.png to _build/html/\n",
      "copying  tmp_2505.01544/./images/W18b_JWST_e-w_ALL.png to _build/html/\n",
      "exported in  _build/html/2505.01544.md\n",
      "    + _build/html/tmp_2505.01544/./images/geometric_albedo.png\n",
      "    + _build/html/tmp_2505.01544/./images/FpFs_plot.png\n",
      "    + _build/html/tmp_2505.01544/./images/W18b_JWST_e-w_ALL.png\n"
     ]
    }
   ],
   "source": [
    "for paper_id, md in documents:\n",
    "    export_markdown_summary(md, f\"{paper_id:s}.md\", '_build/html/')"
   ]
  },
  {
   "cell_type": "markdown",
   "id": "f087a0a7",
   "metadata": {
    "papermill": {
     "duration": 0.004234,
     "end_time": "2025-05-06T04:14:22.786610",
     "exception": false,
     "start_time": "2025-05-06T04:14:22.782376",
     "status": "completed"
    },
    "tags": []
   },
   "source": [
    "## Display the papers\n",
    "\n",
    "Not necessary but allows for a quick check."
   ]
  },
  {
   "cell_type": "code",
   "execution_count": 9,
   "id": "fd25f625",
   "metadata": {
    "execution": {
     "iopub.execute_input": "2025-05-06T04:14:22.796678Z",
     "iopub.status.busy": "2025-05-06T04:14:22.796168Z",
     "iopub.status.idle": "2025-05-06T04:14:22.801224Z",
     "shell.execute_reply": "2025-05-06T04:14:22.800601Z"
    },
    "papermill": {
     "duration": 0.011353,
     "end_time": "2025-05-06T04:14:22.802306",
     "exception": false,
     "start_time": "2025-05-06T04:14:22.790953",
     "status": "completed"
    },
    "scrolled": false,
    "tags": []
   },
   "outputs": [
    {
     "data": {
      "text/markdown": [
       "<div class=\"macros\" style=\"visibility:hidden;\">\n",
       "$\\newcommand{\\ensuremath}{}$\n",
       "$\\newcommand{\\xspace}{}$\n",
       "$\\newcommand{\\object}[1]{\\texttt{#1}}$\n",
       "$\\newcommand{\\farcs}{{.}''}$\n",
       "$\\newcommand{\\farcm}{{.}'}$\n",
       "$\\newcommand{\\arcsec}{''}$\n",
       "$\\newcommand{\\arcmin}{'}$\n",
       "$\\newcommand{\\ion}[2]{#1#2}$\n",
       "$\\newcommand{\\textsc}[1]{\\textrm{#1}}$\n",
       "$\\newcommand{\\hl}[1]{\\textrm{#1}}$\n",
       "$\\newcommand{\\footnote}[1]{}$\n",
       "$\\newcommand{\\host}{WASP-18}$\n",
       "$\\newcommand{\\planet}{WASP-18 b}$\n",
       "$\\newcommand{\\cheops}{CHEOPS}$\n",
       "$\\newcommand{\\tess}{TESS}$\n",
       "$\\newcommand{\\hst}{HST}$\n",
       "$\\newcommand{\\spitzer}{Spitzer}$\n",
       "$\\newcommand{\\gaia}{Gaia}$\n",
       "$\\newcommand{\\jwst}{JWST}$\n",
       "$\\newcommand{\\kepler}{Kepler}$\n",
       "$\\newcommand{\\batman}{\\texttt{batman}}$\n",
       "$\\newcommand{\\pipe}{PIPE}$\n",
       "$\\newcommand{\\citepipe}{Brandeker et~al. (in~prep.)}$\n",
       "$\\newcommand{\\pyratbay}{\\textsc{Pyrat Bay}}$\n",
       "$\\newcommand{\\cmark}{\\ding{51}}$\n",
       "$\\newcommand{\\xmark}{\\ding{55}}$\n",
       "$\\newcommand{\\missingref}{{\\bf[REF TO BE ADDED]}}$\n",
       "$\\newcommand{\\tbc}[1]{{\\bf \\color{orange} [TBC\\expandafter\\ifx\\expandafter\\relax\\detokenize{#1}\\relax\\else\\textnormal{\\bf: #1}\\fi]}}$\n",
       "$\\newcommand{\\tbd}[1]{{\\bf \\color{orange} [TBD\\expandafter\\ifx\\expandafter\\relax\\detokenize{#1}\\relax\\else\\textnormal{\\bf: #1}\\fi]}}$\n",
       "$\\newcommand{\\comment}[1]{{\\bf \\color{violet} [#1]}}$\n",
       "$\\newcommand{\\au}{au}$\n",
       "$\\newcommand{\\um}{\\textmu m}$\n",
       "$\\newcommand{\\arraystretch}{1.3}$\n",
       "$\\newcommand{\\arraystretch}{1.25}$</div>\n",
       "\n",
       "\n",
       "\n",
       "<div id=\"title\">\n",
       "\n",
       "# ${Dark skies of the slightly eccentric \\planet \\\\from its optical-to-infrared dayside emission}$$\\thanks{This work makes use of CHEOPS data from the Guaranteed Time Observation (GTO) programmes \\texttt{CH\\_PR100012} and \\texttt{CH\\_PR100016}.}$\\textsuperscript{,}$\\thanks{Raw and detrended light curves are available at the CDS via anonymous ftp to \\href{ftp://cdsarc.u-strasbg.fr}{cdsarc.u-strasbg.fr} (\\href{ftp://130.79.128.5}{130.79.128.5}) or via \\url{http://cdsweb.u-strasbg.fr/cgi-bin/qcat?J/A+A/}.}$\n",
       "\n",
       "</div>\n",
       "<div id=\"comments\">\n",
       "\n",
       "[![arXiv](https://img.shields.io/badge/arXiv-2505.01544-b31b1b.svg)](https://arxiv.org/abs/2505.01544)<mark>Appeared on: 2025-05-06</mark> -  _31 pages, 17 figures, 13 tables (including the appendix); accepted for publication in A&A_\n",
       "\n",
       "</div>\n",
       "<div id=\"authors\">\n",
       "\n",
       "A. Deline, et al. -- incl., <mark>L. Kreidberg</mark>\n",
       "\n",
       "</div>\n",
       "<div id=\"abstract\">\n",
       "\n",
       "**Abstract:** ${Ultra-hot Jupiters are gas giant exoplanets strongly irradiated by their star, which sets intense molecular dissociation leading to atmospheric chemistry}$ dominated by ions and atoms. These conditions inhibit ${day-to-night}$ heat redistribution resulting in ${large}$ temperature contrast. Phase-curve observations ${over several}$ passbands offer insights on the thermal structure and properties of these extreme atmospheres. We aim to perform a joint analysis of ${multiple}$ observations of $\\planet$ from the visible to the mid-infrared, using unpublished data from $\\cheops$ , $\\tess$ and $\\spitzer$ . Our purpose is to characterise the ${planetary atmosphere}$ with a consistent view over the large wavelength range covered, including $\\jwst{data}$ . We implement a model for the planetary signal including transits, occultations, phase signal, ellipsoidal variations, Doppler boosting, and light-travel time. We fit jointly more than 250 ${{eclipse events} and derive atmospheric properties}$ using General Circulation Models and retrieval ${analyses}$ . ${We obtain}$ new ephemerides with unprecedented precisions of 1 second and 1.4 millisecond on the time of inferior conjunction and orbital period, respectively. We ${compute}$ a planetary radius of $R_p=1.1926\\pm0.0077 R_J$ with a precision of 0.65 \\% , or 550 km. Through a timing inconsistency with $\\jwst$ , we ${discuss and confirm orbital eccentricity ($e=0.00852\\pm0.00091$),}$ and constrain the argument of periastron to ${$\\omega=261.9^{+1.3}_{-1.4} \\deg$}$ . We show that the large dayside emission implies the presence of magnetic drag and super-solar metallicity. We ${find a steep thermally-inverted gradient in the planetary atmosphere, which is common for ultra-hot Jupiters}$ . ${We detect the presence of strong CO emission lines at 4.5 \\textmu m from an excess of dayside brightness in the \\spitzer /IRAC/Channel 2 passband. {Using these models to} constrain the reflected contribution in the \\cheops  passband{, we derive an extremely low geometric albedo} $A_g^\\text{\\cheops }={0.027}\\pm{0.011}$.}$ The orbital eccentricity remains a potential challenge for planetary dynamics that might require further study given the short-period massive planet and despite the young age of the system. The characterisation of the atmosphere of $\\planet$ reveals the necessity to account for magnetic friction and super-solar metallicity to explain the full picture of the dayside emission. ${We find the planetary dayside to be extremely unreflective, but when juxtaposing \\tess  and \\cheops  data, we get hints of increased scattering efficiency in the visible, likely due to Rayleigh scattering.}$\n",
       "\n",
       "</div>\n",
       "\n",
       "<div id=\"div_fig1\">\n",
       "\n",
       "<img src=\"tmp_2505.01544/./images/geometric_albedo.png\" alt=\"Fig7\" width=\"100%\"/>\n",
       "\n",
       "**Figure 7. -** Estimated geometric albedo of $\\planet$  based on the retrieval results in comparison to the passbands of $\\cheops$  and $\\tess$ . {The green line shows the geometric albedo with an \\ch{H-} abundance derived by assuming chemical equilibrium {(extremely low $A_g$ values, reaching 0.03 at short wavelengths)}. For the purple line, this abundance is artificially reduced by 98\\% {(yielding $A_g$ values comparable to our results in the $\\cheops$  and $\\tess$  passbands)}, while for the yellow case the \\ch{H-} continuum is entirely removed as an opacity source. {We further explored the effect of removing} TiO and VO (red) as well as {Na and K} (blue).}{The impact of the former is negligible and the red curve lies hidden behind the yellow model. The latter reveals however more significant scattering spectral features, especially in the $\\cheops$  and $\\tess$  passbands.} The strong increase of $A_g$ towards lower wavelengths is caused by the $\\lambda^{-4}$-dependence of Rayleigh scattering. (*fig:geometric_albedo*)\n",
       "\n",
       "</div>\n",
       "<div id=\"div_fig2\">\n",
       "\n",
       "<img src=\"tmp_2505.01544/./images/FpFs_plot.png\" alt=\"Fig14\" width=\"100%\"/>\n",
       "\n",
       "**Figure 14. -** Occultation depths as a function of wavelength. The black points with errorbars represent the measurement from this work ($\\cheops$ , $\\tess$  and $\\spitzer$  -- 2 leftmost and 4 rightmost points) and from \\cite{Coulombe2023} with $\\jwst$(0.8--3 $\\um$). The GCM simulations {including TiO and VO}(Section \\ref{ssec:gcm}) with and without magnetic drag are shown in orange and light brown, respectively.\n",
       "                        {The orange-filled diamonds mark the passband-integrated GCM values with magnetic drag ($\\tau_\\text{fric}=10^4 \\text{s}$).}\n",
       "                        The retrieval runs (Section \\ref{ssec:retrieval}) are shown in {blue, pink, purple and green}(same colours as in Fig. \\ref{fig:bright_temp} and Table \\ref{table:retrievals}) depending on the data points included in the fit.\n",
       "                        {An inset zoomed-in view of the $\\cheops$ -to-1.75 $\\um$  range is shown in the lower right corner for convenience.} (*fig:docc_wl*)\n",
       "\n",
       "</div>\n",
       "<div id=\"div_fig3\">\n",
       "\n",
       "<img src=\"tmp_2505.01544/./images/W18b_JWST_e-w_ALL.png\" alt=\"Fig2\" width=\"100%\"/>\n",
       "\n",
       "**Figure 2. -** Correlation plot of the posterior distribution of the eccentricity $e$ and argument of periastron $\\omega$ of the orbit of $\\planet$  that match the mid-occultation time $T_\\text{occ}^\\text{JWST}$ from \\cite{Coulombe2023}. We used our posterior distribution on planetary parameters from Table \\ref{tab:parameters}, and Gaussian priors on $e \\cos\\omega$ and $e \\sin\\omega${from \\cite{Triaud2010_HJs} in blue, \\cite{Nymeyer2011_WASP-18b} in orange, and \\cite{Csizmadia2019_WASP-18b} in green. Overall, the 3 posterior distributions are all consistent with each other within $<1.2 \\sigma$.}\n",
       "                This plot made use of the package \\texttt{corner.py}\\citep{corner}. (*fig:e-w*)\n",
       "\n",
       "</div><div id=\"qrcode\"><img src=https://api.qrserver.com/v1/create-qr-code/?size=100x100&data=\"https://arxiv.org/abs/2505.01544\"></div>"
      ],
      "text/plain": [
       "<IPython.core.display.Markdown object>"
      ]
     },
     "metadata": {},
     "output_type": "display_data"
    }
   ],
   "source": [
    "[display(Markdown(k[1])) for k in documents];"
   ]
  },
  {
   "cell_type": "markdown",
   "id": "873873a4",
   "metadata": {
    "papermill": {
     "duration": 0.005011,
     "end_time": "2025-05-06T04:14:22.812280",
     "exception": false,
     "start_time": "2025-05-06T04:14:22.807269",
     "status": "completed"
    },
    "tags": []
   },
   "source": [
    "# Create HTML index"
   ]
  },
  {
   "cell_type": "code",
   "execution_count": 10,
   "id": "cf665672",
   "metadata": {
    "execution": {
     "iopub.execute_input": "2025-05-06T04:14:22.824201Z",
     "iopub.status.busy": "2025-05-06T04:14:22.823601Z",
     "iopub.status.idle": "2025-05-06T04:14:22.836187Z",
     "shell.execute_reply": "2025-05-06T04:14:22.835536Z"
    },
    "papermill": {
     "duration": 0.020028,
     "end_time": "2025-05-06T04:14:22.837329",
     "exception": false,
     "start_time": "2025-05-06T04:14:22.817301",
     "status": "completed"
    },
    "tags": []
   },
   "outputs": [
    {
     "name": "stdout",
     "output_type": "stream",
     "text": [
      "476  publications files modified in the last 7 days.\n"
     ]
    }
   ],
   "source": [
    "from datetime import datetime, timedelta, timezone\n",
    "from glob import glob\n",
    "import os\n",
    "\n",
    "files = glob('_build/html/*.md')\n",
    "days = 7\n",
    "now = datetime.today()\n",
    "res = []\n",
    "for fk in files:\n",
    "    stat_result = os.stat(fk).st_ctime\n",
    "    modified = datetime.fromtimestamp(stat_result, tz=timezone.utc).replace(tzinfo=None)\n",
    "    delta = now.today() - modified\n",
    "    if delta <= timedelta(days=days):\n",
    "        res.append((delta.seconds, fk))\n",
    "res = [k[1] for k in reversed(sorted(res, key=lambda x:x[1]))]\n",
    "npub = len(res)\n",
    "print(len(res), f\" publications files modified in the last {days:d} days.\")\n",
    "# [ print('\\t', k) for k in res ];"
   ]
  },
  {
   "cell_type": "code",
   "execution_count": 11,
   "id": "015de740",
   "metadata": {
    "execution": {
     "iopub.execute_input": "2025-05-06T04:14:22.848565Z",
     "iopub.status.busy": "2025-05-06T04:14:22.848016Z",
     "iopub.status.idle": "2025-05-06T04:14:22.873380Z",
     "shell.execute_reply": "2025-05-06T04:14:22.872749Z"
    },
    "papermill": {
     "duration": 0.032149,
     "end_time": "2025-05-06T04:14:22.874513",
     "exception": false,
     "start_time": "2025-05-06T04:14:22.842364",
     "status": "completed"
    },
    "tags": []
   },
   "outputs": [
    {
     "name": "stdout",
     "output_type": "stream",
     "text": [
      "24  publications in the last 7 days.\n"
     ]
    }
   ],
   "source": [
    "import datetime\n",
    "from glob import glob\n",
    "\n",
    "def get_last_n_days(lst, days=1):\n",
    "    \"\"\" Get the documents from the last n days \"\"\"\n",
    "    sorted_lst = sorted(lst, key=lambda x: x[1], reverse=True)\n",
    "    for fname, date in sorted_lst:\n",
    "        if date >= str(datetime.date.today() - datetime.timedelta(days=days)):\n",
    "            yield fname\n",
    "\n",
    "def extract_appearance_dates(lst_file):\n",
    "    dates = []\n",
    "\n",
    "    def get_date(line):\n",
    "        return line\\\n",
    "            .split('Appeared on:')[-1]\\\n",
    "            .split('</mark>')[0].strip()\n",
    "\n",
    "    for fname in lst:\n",
    "        with open(fname, 'r') as f:\n",
    "            found_date = False\n",
    "            for line in f:\n",
    "                if not found_date:\n",
    "                    if \"Appeared on\" in line:\n",
    "                        found_date = True\n",
    "                        dates.append((fname, get_date(line)))\n",
    "                else:\n",
    "                    break\n",
    "    return dates\n",
    "\n",
    "from glob import glob\n",
    "lst = glob('_build/html/*md')\n",
    "days = 7\n",
    "dates = extract_appearance_dates(lst)\n",
    "res = list(get_last_n_days(dates, days))\n",
    "npub = len(res)\n",
    "print(len(res), f\" publications in the last {days:d} days.\")"
   ]
  },
  {
   "cell_type": "code",
   "execution_count": 12,
   "id": "52ca0208",
   "metadata": {
    "execution": {
     "iopub.execute_input": "2025-05-06T04:14:22.885709Z",
     "iopub.status.busy": "2025-05-06T04:14:22.885252Z",
     "iopub.status.idle": "2025-05-06T04:14:22.890333Z",
     "shell.execute_reply": "2025-05-06T04:14:22.889777Z"
    },
    "papermill": {
     "duration": 0.011785,
     "end_time": "2025-05-06T04:14:22.891434",
     "exception": false,
     "start_time": "2025-05-06T04:14:22.879649",
     "status": "completed"
    },
    "scrolled": false,
    "tags": []
   },
   "outputs": [],
   "source": [
    "def create_carousel(npub=4):\n",
    "    \"\"\" Generate the HTML code for a carousel with `npub` slides \"\"\"\n",
    "    carousel = [\"\"\"  <div class=\"carousel\" \"\"\",\n",
    "                \"\"\"       data-flickity='{ \"autoPlay\": 10000, \"adaptiveHeight\": true, \"resize\": true, \"wrapAround\": true, \"pauseAutoPlayOnHover\": true, \"groupCells\": 1 }' id=\"asyncTypeset\">\"\"\"\n",
    "                ]\n",
    "    \n",
    "    item_str = \"\"\"    <div class=\"carousel-cell\"> <div id=\"slide{k}\" class=\"md_view\">Content {k}</div> </div>\"\"\"\n",
    "    for k in range(1, npub + 1):\n",
    "        carousel.append(item_str.format(k=k))\n",
    "    carousel.append(\"  </div>\")\n",
    "    return '\\n'.join(carousel)\n",
    "\n",
    "def create_grid(npub=4):\n",
    "    \"\"\" Generate the HTML code for a flat grid with `npub` slides \"\"\"\n",
    "    grid = [\"\"\"  <div class=\"grid\"> \"\"\",\n",
    "                ]\n",
    "    \n",
    "    item_str = \"\"\"    <div class=\"grid-item\"> <div id=\"slide{k}\" class=\"md_view\">Content {k}</div> </div>\"\"\"\n",
    "    for k in range(1, npub + 1):\n",
    "        grid.append(item_str.format(k=k))\n",
    "    grid.append(\"  </div>\")\n",
    "    return '\\n'.join(grid)"
   ]
  },
  {
   "cell_type": "code",
   "execution_count": 13,
   "id": "a6eac5b6",
   "metadata": {
    "execution": {
     "iopub.execute_input": "2025-05-06T04:14:22.902382Z",
     "iopub.status.busy": "2025-05-06T04:14:22.901882Z",
     "iopub.status.idle": "2025-05-06T04:14:22.907347Z",
     "shell.execute_reply": "2025-05-06T04:14:22.906762Z"
    },
    "papermill": {
     "duration": 0.011994,
     "end_time": "2025-05-06T04:14:22.908378",
     "exception": false,
     "start_time": "2025-05-06T04:14:22.896384",
     "status": "completed"
    },
    "scrolled": false,
    "tags": []
   },
   "outputs": [],
   "source": [
    "carousel = create_carousel(npub)\n",
    "docs = ', '.join(['\"{0:s}\"'.format(k.split('/')[-1]) for k in res])\n",
    "slides = ', '.join([f'\"slide{k}\"' for k in range(1, npub + 1)])\n",
    "\n",
    "with open(\"daily_template.html\", \"r\") as tpl:\n",
    "    page = tpl.read()\n",
    "    page = page.replace(\"{%-- carousel:s --%}\", carousel)\\\n",
    "               .replace(\"{%-- suptitle:s --%}\",  \"7-day archives\" )\\\n",
    "               .replace(\"{%-- docs:s --%}\", docs)\\\n",
    "               .replace(\"{%-- slides:s --%}\", slides)\n",
    "    \n",
    "with open(\"_build/html/index_7days.html\", 'w') as fout:\n",
    "    fout.write(page)"
   ]
  },
  {
   "cell_type": "code",
   "execution_count": 14,
   "id": "adc1a1ec",
   "metadata": {
    "execution": {
     "iopub.execute_input": "2025-05-06T04:14:22.920022Z",
     "iopub.status.busy": "2025-05-06T04:14:22.919431Z",
     "iopub.status.idle": "2025-05-06T04:14:22.927175Z",
     "shell.execute_reply": "2025-05-06T04:14:22.926564Z"
    },
    "papermill": {
     "duration": 0.014837,
     "end_time": "2025-05-06T04:14:22.928357",
     "exception": false,
     "start_time": "2025-05-06T04:14:22.913520",
     "status": "completed"
    },
    "tags": []
   },
   "outputs": [
    {
     "name": "stdout",
     "output_type": "stream",
     "text": [
      "2  publications in the last day.\n"
     ]
    }
   ],
   "source": [
    "# redo for today\n",
    "days = 1\n",
    "res = list(get_last_n_days(dates, days))\n",
    "npub = len(res)\n",
    "print(len(res), f\" publications in the last day.\")\n",
    "\n",
    "carousel = create_carousel(npub)\n",
    "docs = ', '.join(['\"{0:s}\"'.format(k.split('/')[-1]) for k in res])\n",
    "slides = ', '.join([f'\"slide{k}\"' for k in range(1, npub + 1)])\n",
    "\n",
    "with open(\"daily_template.html\", \"r\") as tpl:\n",
    "    page = tpl.read()\n",
    "    page = page.replace(\"{%-- carousel:s --%}\", carousel)\\\n",
    "               .replace(\"{%-- suptitle:s --%}\",  \"Daily\" )\\\n",
    "               .replace(\"{%-- docs:s --%}\", docs)\\\n",
    "               .replace(\"{%-- slides:s --%}\", slides)\n",
    "    \n",
    "# print(carousel, docs, slides)\n",
    "# print(page)\n",
    "with open(\"_build/html/index_daily.html\", 'w') as fout:\n",
    "    fout.write(page)"
   ]
  },
  {
   "cell_type": "code",
   "execution_count": 15,
   "id": "00eece82",
   "metadata": {
    "execution": {
     "iopub.execute_input": "2025-05-06T04:14:22.939606Z",
     "iopub.status.busy": "2025-05-06T04:14:22.938973Z",
     "iopub.status.idle": "2025-05-06T04:14:22.945886Z",
     "shell.execute_reply": "2025-05-06T04:14:22.945341Z"
    },
    "papermill": {
     "duration": 0.01353,
     "end_time": "2025-05-06T04:14:22.946976",
     "exception": false,
     "start_time": "2025-05-06T04:14:22.933446",
     "status": "completed"
    },
    "scrolled": false,
    "tags": []
   },
   "outputs": [
    {
     "name": "stdout",
     "output_type": "stream",
     "text": [
      "6  6 publications selected.\n"
     ]
    }
   ],
   "source": [
    "# Create the flat grid of the last N papers (fixed number regardless of dates)\n",
    "from itertools import islice \n",
    "\n",
    "npub = 6\n",
    "res = [k[0] for k in (islice(reversed(sorted(dates, key=lambda x: x[1])), 6))]\n",
    "print(len(res), f\" {npub} publications selected.\")\n",
    "\n",
    "grid = create_grid(npub)\n",
    "docs = ', '.join(['\"{0:s}\"'.format(k.split('/')[-1]) for k in res])\n",
    "slides = ', '.join([f'\"slide{k}\"' for k in range(1, npub + 1)])\n",
    "\n",
    "with open(\"grid_template.html\", \"r\") as tpl:\n",
    "    page = tpl.read()\n",
    "    page = page.replace(\"{%-- grid-content:s --%}\", grid)\\\n",
    "               .replace(\"{%-- suptitle:s --%}\",  f\"Last {npub:,d} papers\" )\\\n",
    "               .replace(\"{%-- docs:s --%}\", docs)\\\n",
    "               .replace(\"{%-- slides:s --%}\", slides)\n",
    "    \n",
    "# print(grid, docs, slides)\n",
    "# print(page)\n",
    "with open(\"_build/html/index_npub_grid.html\", 'w') as fout:\n",
    "    fout.write(page)"
   ]
  }
 ],
 "metadata": {
  "kernelspec": {
   "display_name": "Python 3 (ipykernel)",
   "language": "python",
   "name": "python3"
  },
  "language_info": {
   "codemirror_mode": {
    "name": "ipython",
    "version": 3
   },
   "file_extension": ".py",
   "mimetype": "text/x-python",
   "name": "python",
   "nbconvert_exporter": "python",
   "pygments_lexer": "ipython3",
   "version": "3.9.22"
  },
  "papermill": {
   "default_parameters": {},
   "duration": 99.871329,
   "end_time": "2025-05-06T04:14:23.369132",
   "environment_variables": {},
   "exception": null,
   "input_path": "MPIA daily digest.ipynb",
   "output_path": "log.ipynb",
   "parameters": {},
   "start_time": "2025-05-06T04:12:43.497803",
   "version": "2.6.0"
  },
  "vscode": {
   "interpreter": {
    "hash": "aee8b7b246df8f9039afb4144a1f6fd8d2ca17a180786b69acc140d282b71a49"
   }
  },
  "widgets": {
   "application/vnd.jupyter.widget-state+json": {
    "state": {
     "11b71e319fb4463085769ad8b1dae31d": {
      "model_module": "@jupyter-widgets/base",
      "model_module_version": "2.0.0",
      "model_name": "LayoutModel",
      "state": {
       "_model_module": "@jupyter-widgets/base",
       "_model_module_version": "2.0.0",
       "_model_name": "LayoutModel",
       "_view_count": null,
       "_view_module": "@jupyter-widgets/base",
       "_view_module_version": "2.0.0",
       "_view_name": "LayoutView",
       "align_content": null,
       "align_items": null,
       "align_self": null,
       "border_bottom": null,
       "border_left": null,
       "border_right": null,
       "border_top": null,
       "bottom": null,
       "display": null,
       "flex": null,
       "flex_flow": null,
       "grid_area": null,
       "grid_auto_columns": null,
       "grid_auto_flow": null,
       "grid_auto_rows": null,
       "grid_column": null,
       "grid_gap": null,
       "grid_row": null,
       "grid_template_areas": null,
       "grid_template_columns": null,
       "grid_template_rows": null,
       "height": null,
       "justify_content": null,
       "justify_items": null,
       "left": null,
       "margin": null,
       "max_height": null,
       "max_width": null,
       "min_height": null,
       "min_width": null,
       "object_fit": null,
       "object_position": null,
       "order": null,
       "overflow": null,
       "padding": null,
       "right": null,
       "top": null,
       "visibility": null,
       "width": null
      }
     },
     "4f7b7e0296414ca6a0e3c0a190434257": {
      "model_module": "@jupyter-widgets/controls",
      "model_module_version": "2.0.0",
      "model_name": "ProgressStyleModel",
      "state": {
       "_model_module": "@jupyter-widgets/controls",
       "_model_module_version": "2.0.0",
       "_model_name": "ProgressStyleModel",
       "_view_count": null,
       "_view_module": "@jupyter-widgets/base",
       "_view_module_version": "2.0.0",
       "_view_name": "StyleView",
       "bar_color": null,
       "description_width": ""
      }
     },
     "55971a9e236b43e48dbab5d1838634cd": {
      "model_module": "@jupyter-widgets/controls",
      "model_module_version": "2.0.0",
      "model_name": "HTMLModel",
      "state": {
       "_dom_classes": [],
       "_model_module": "@jupyter-widgets/controls",
       "_model_module_version": "2.0.0",
       "_model_name": "HTMLModel",
       "_view_count": null,
       "_view_module": "@jupyter-widgets/controls",
       "_view_module_version": "2.0.0",
       "_view_name": "HTMLView",
       "description": "",
       "description_allow_html": false,
       "layout": "IPY_MODEL_96419f340ef241189ecfd51031083748",
       "placeholder": "​",
       "style": "IPY_MODEL_710f55d9186a4c41af54706dcff4042e",
       "tabbable": null,
       "tooltip": null,
       "value": "100%"
      }
     },
     "710f55d9186a4c41af54706dcff4042e": {
      "model_module": "@jupyter-widgets/controls",
      "model_module_version": "2.0.0",
      "model_name": "HTMLStyleModel",
      "state": {
       "_model_module": "@jupyter-widgets/controls",
       "_model_module_version": "2.0.0",
       "_model_name": "HTMLStyleModel",
       "_view_count": null,
       "_view_module": "@jupyter-widgets/base",
       "_view_module_version": "2.0.0",
       "_view_name": "StyleView",
       "background": null,
       "description_width": "",
       "font_size": null,
       "text_color": null
      }
     },
     "762c073ddf8d45228e4fc525ee39192a": {
      "model_module": "@jupyter-widgets/controls",
      "model_module_version": "2.0.0",
      "model_name": "FloatProgressModel",
      "state": {
       "_dom_classes": [],
       "_model_module": "@jupyter-widgets/controls",
       "_model_module_version": "2.0.0",
       "_model_name": "FloatProgressModel",
       "_view_count": null,
       "_view_module": "@jupyter-widgets/controls",
       "_view_module_version": "2.0.0",
       "_view_name": "ProgressView",
       "bar_style": "success",
       "description": "",
       "description_allow_html": false,
       "layout": "IPY_MODEL_11b71e319fb4463085769ad8b1dae31d",
       "max": 4.0,
       "min": 0.0,
       "orientation": "horizontal",
       "style": "IPY_MODEL_4f7b7e0296414ca6a0e3c0a190434257",
       "tabbable": null,
       "tooltip": null,
       "value": 4.0
      }
     },
     "8434dbebceb749d8b301bb1df5615a67": {
      "model_module": "@jupyter-widgets/base",
      "model_module_version": "2.0.0",
      "model_name": "LayoutModel",
      "state": {
       "_model_module": "@jupyter-widgets/base",
       "_model_module_version": "2.0.0",
       "_model_name": "LayoutModel",
       "_view_count": null,
       "_view_module": "@jupyter-widgets/base",
       "_view_module_version": "2.0.0",
       "_view_name": "LayoutView",
       "align_content": null,
       "align_items": null,
       "align_self": null,
       "border_bottom": null,
       "border_left": null,
       "border_right": null,
       "border_top": null,
       "bottom": null,
       "display": null,
       "flex": null,
       "flex_flow": null,
       "grid_area": null,
       "grid_auto_columns": null,
       "grid_auto_flow": null,
       "grid_auto_rows": null,
       "grid_column": null,
       "grid_gap": null,
       "grid_row": null,
       "grid_template_areas": null,
       "grid_template_columns": null,
       "grid_template_rows": null,
       "height": null,
       "justify_content": null,
       "justify_items": null,
       "left": null,
       "margin": null,
       "max_height": null,
       "max_width": null,
       "min_height": null,
       "min_width": null,
       "object_fit": null,
       "object_position": null,
       "order": null,
       "overflow": null,
       "padding": null,
       "right": null,
       "top": null,
       "visibility": null,
       "width": null
      }
     },
     "96419f340ef241189ecfd51031083748": {
      "model_module": "@jupyter-widgets/base",
      "model_module_version": "2.0.0",
      "model_name": "LayoutModel",
      "state": {
       "_model_module": "@jupyter-widgets/base",
       "_model_module_version": "2.0.0",
       "_model_name": "LayoutModel",
       "_view_count": null,
       "_view_module": "@jupyter-widgets/base",
       "_view_module_version": "2.0.0",
       "_view_name": "LayoutView",
       "align_content": null,
       "align_items": null,
       "align_self": null,
       "border_bottom": null,
       "border_left": null,
       "border_right": null,
       "border_top": null,
       "bottom": null,
       "display": null,
       "flex": null,
       "flex_flow": null,
       "grid_area": null,
       "grid_auto_columns": null,
       "grid_auto_flow": null,
       "grid_auto_rows": null,
       "grid_column": null,
       "grid_gap": null,
       "grid_row": null,
       "grid_template_areas": null,
       "grid_template_columns": null,
       "grid_template_rows": null,
       "height": null,
       "justify_content": null,
       "justify_items": null,
       "left": null,
       "margin": null,
       "max_height": null,
       "max_width": null,
       "min_height": null,
       "min_width": null,
       "object_fit": null,
       "object_position": null,
       "order": null,
       "overflow": null,
       "padding": null,
       "right": null,
       "top": null,
       "visibility": null,
       "width": null
      }
     },
     "9a4034e74e5f420e8c030a1023d54771": {
      "model_module": "@jupyter-widgets/controls",
      "model_module_version": "2.0.0",
      "model_name": "HBoxModel",
      "state": {
       "_dom_classes": [],
       "_model_module": "@jupyter-widgets/controls",
       "_model_module_version": "2.0.0",
       "_model_name": "HBoxModel",
       "_view_count": null,
       "_view_module": "@jupyter-widgets/controls",
       "_view_module_version": "2.0.0",
       "_view_name": "HBoxView",
       "box_style": "",
       "children": [
        "IPY_MODEL_55971a9e236b43e48dbab5d1838634cd",
        "IPY_MODEL_762c073ddf8d45228e4fc525ee39192a",
        "IPY_MODEL_ac92c1f6e4364a8ab0f998d02dba97e4"
       ],
       "layout": "IPY_MODEL_fd22161059e34672b5ca9788d2a2c324",
       "tabbable": null,
       "tooltip": null
      }
     },
     "ac92c1f6e4364a8ab0f998d02dba97e4": {
      "model_module": "@jupyter-widgets/controls",
      "model_module_version": "2.0.0",
      "model_name": "HTMLModel",
      "state": {
       "_dom_classes": [],
       "_model_module": "@jupyter-widgets/controls",
       "_model_module_version": "2.0.0",
       "_model_name": "HTMLModel",
       "_view_count": null,
       "_view_module": "@jupyter-widgets/controls",
       "_view_module_version": "2.0.0",
       "_view_name": "HTMLView",
       "description": "",
       "description_allow_html": false,
       "layout": "IPY_MODEL_8434dbebceb749d8b301bb1df5615a67",
       "placeholder": "​",
       "style": "IPY_MODEL_ff5b6fe61b1641dcb7c7c04bbac665e2",
       "tabbable": null,
       "tooltip": null,
       "value": " 4/4 [01:10&lt;00:00, 10.27s/it]"
      }
     },
     "fd22161059e34672b5ca9788d2a2c324": {
      "model_module": "@jupyter-widgets/base",
      "model_module_version": "2.0.0",
      "model_name": "LayoutModel",
      "state": {
       "_model_module": "@jupyter-widgets/base",
       "_model_module_version": "2.0.0",
       "_model_name": "LayoutModel",
       "_view_count": null,
       "_view_module": "@jupyter-widgets/base",
       "_view_module_version": "2.0.0",
       "_view_name": "LayoutView",
       "align_content": null,
       "align_items": null,
       "align_self": null,
       "border_bottom": null,
       "border_left": null,
       "border_right": null,
       "border_top": null,
       "bottom": null,
       "display": null,
       "flex": null,
       "flex_flow": null,
       "grid_area": null,
       "grid_auto_columns": null,
       "grid_auto_flow": null,
       "grid_auto_rows": null,
       "grid_column": null,
       "grid_gap": null,
       "grid_row": null,
       "grid_template_areas": null,
       "grid_template_columns": null,
       "grid_template_rows": null,
       "height": null,
       "justify_content": null,
       "justify_items": null,
       "left": null,
       "margin": null,
       "max_height": null,
       "max_width": null,
       "min_height": null,
       "min_width": null,
       "object_fit": null,
       "object_position": null,
       "order": null,
       "overflow": null,
       "padding": null,
       "right": null,
       "top": null,
       "visibility": null,
       "width": null
      }
     },
     "ff5b6fe61b1641dcb7c7c04bbac665e2": {
      "model_module": "@jupyter-widgets/controls",
      "model_module_version": "2.0.0",
      "model_name": "HTMLStyleModel",
      "state": {
       "_model_module": "@jupyter-widgets/controls",
       "_model_module_version": "2.0.0",
       "_model_name": "HTMLStyleModel",
       "_view_count": null,
       "_view_module": "@jupyter-widgets/base",
       "_view_module_version": "2.0.0",
       "_view_name": "StyleView",
       "background": null,
       "description_width": "",
       "font_size": null,
       "text_color": null
      }
     }
    },
    "version_major": 2,
    "version_minor": 0
   }
  }
 },
 "nbformat": 4,
 "nbformat_minor": 5
}