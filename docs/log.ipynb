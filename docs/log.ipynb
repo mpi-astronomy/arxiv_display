{
 "cells": [
  {
   "cell_type": "markdown",
   "id": "92bcb855",
   "metadata": {
    "papermill": {
     "duration": 0.003528,
     "end_time": "2023-11-21T04:09:46.941240",
     "exception": false,
     "start_time": "2023-11-21T04:09:46.937712",
     "status": "completed"
    },
    "tags": []
   },
   "source": [
    "# MPIA Arxiv on Deck 2\n",
    "\n",
    "Contains the steps to produce the paper extractions."
   ]
  },
  {
   "cell_type": "code",
   "execution_count": 1,
   "id": "3a0d6e11",
   "metadata": {
    "execution": {
     "iopub.execute_input": "2023-11-21T04:09:46.949341Z",
     "iopub.status.busy": "2023-11-21T04:09:46.948928Z",
     "iopub.status.idle": "2023-11-21T04:09:47.247593Z",
     "shell.execute_reply": "2023-11-21T04:09:47.247047Z"
    },
    "papermill": {
     "duration": 0.303987,
     "end_time": "2023-11-21T04:09:47.249298",
     "exception": false,
     "start_time": "2023-11-21T04:09:46.945311",
     "status": "completed"
    },
    "tags": []
   },
   "outputs": [],
   "source": [
    "# Imports\n",
    "import os\n",
    "from IPython.display import Markdown, display\n",
    "from tqdm.notebook import tqdm\n",
    "import warnings\n",
    "from PIL import Image \n",
    "\n",
    "# requires arxiv_on_deck_2\n",
    "\n",
    "from arxiv_on_deck_2.arxiv2 import (get_new_papers, \n",
    "                                    get_paper_from_identifier,\n",
    "                                    retrieve_document_source, \n",
    "                                    get_markdown_badge)\n",
    "from arxiv_on_deck_2 import (latex,\n",
    "                             latex_bib,\n",
    "                             mpia,\n",
    "                             highlight_authors_in_list)\n",
    "\n",
    "# Sometimes images are really big\n",
    "Image.MAX_IMAGE_PIXELS = 1000000000 "
   ]
  },
  {
   "cell_type": "code",
   "execution_count": 2,
   "id": "22aa9d44",
   "metadata": {
    "execution": {
     "iopub.execute_input": "2023-11-21T04:09:47.256354Z",
     "iopub.status.busy": "2023-11-21T04:09:47.255852Z",
     "iopub.status.idle": "2023-11-21T04:09:47.261270Z",
     "shell.execute_reply": "2023-11-21T04:09:47.260664Z"
    },
    "papermill": {
     "duration": 0.011015,
     "end_time": "2023-11-21T04:09:47.263356",
     "exception": false,
     "start_time": "2023-11-21T04:09:47.252341",
     "status": "completed"
    },
    "tags": []
   },
   "outputs": [],
   "source": [
    "# Some useful definitions.\n",
    "\n",
    "class AffiliationWarning(UserWarning):\n",
    "    pass\n",
    "\n",
    "class AffiliationError(RuntimeError):\n",
    "    pass\n",
    "\n",
    "def validation(source: str):\n",
    "    \"\"\"Raises error paper during parsing of source file\n",
    "    \n",
    "    Allows checks before parsing TeX code.\n",
    "    \n",
    "    Raises AffiliationWarning\n",
    "    \"\"\"\n",
    "    check = mpia.affiliation_verifications(source, verbose=True)\n",
    "    if check is not True:\n",
    "        raise AffiliationError(\"mpia.affiliation_verifications: \" + check)\n",
    "\n",
    "        \n",
    "warnings.simplefilter('always', AffiliationWarning)\n",
    "\n",
    "\n",
    "def get_markdown_qrcode(paper_id: str):\n",
    "    \"\"\" Generate a qrcode to the arxiv page using qrserver.com\n",
    "    \n",
    "    :param paper: Arxiv paper\n",
    "    :returns: markdown text\n",
    "    \"\"\"\n",
    "    url = r\"https://api.qrserver.com/v1/create-qr-code/?size=100x100&data=\"\n",
    "    txt = f\"\"\"<img src={url}\"https://arxiv.org/abs/{paper_id}\">\"\"\"\n",
    "    txt = '<div id=\"qrcode\">' + txt + '</div>'\n",
    "    return txt"
   ]
  },
  {
   "cell_type": "markdown",
   "id": "14bd6310",
   "metadata": {
    "papermill": {
     "duration": 0.005146,
     "end_time": "2023-11-21T04:09:47.273527",
     "exception": false,
     "start_time": "2023-11-21T04:09:47.268381",
     "status": "completed"
    },
    "tags": []
   },
   "source": [
    "## get list of arxiv paper candidates\n",
    "\n",
    "We use the MPIA mitarbeiter list webpage from mpia.de to get author names\n",
    "We then get all new papers from Arxiv and match authors"
   ]
  },
  {
   "cell_type": "code",
   "execution_count": 3,
   "id": "2645e73a",
   "metadata": {
    "execution": {
     "iopub.execute_input": "2023-11-21T04:09:47.283389Z",
     "iopub.status.busy": "2023-11-21T04:09:47.283020Z",
     "iopub.status.idle": "2023-11-21T04:10:11.407967Z",
     "shell.execute_reply": "2023-11-21T04:10:11.407264Z"
    },
    "papermill": {
     "duration": 24.130519,
     "end_time": "2023-11-21T04:10:11.409338",
     "exception": false,
     "start_time": "2023-11-21T04:09:47.278819",
     "status": "completed"
    },
    "tags": []
   },
   "outputs": [
    {
     "name": "stdout",
     "output_type": "stream",
     "text": [
      "J. Li  ->  J. Li  |  ['J. Li']\n",
      "X. Zhang  ->  X. Zhang  |  ['X. Zhang']\n",
      "E. Schinnerer  ->  E. Schinnerer  |  ['E. Schinnerer']\n",
      "H. Beuther  ->  H. Beuther  |  ['H. Beuther']\n",
      "D. Semenov  ->  D. Semenov  |  ['D. Semenov']\n",
      "X. Zhang  ->  X. Zhang  |  ['X. Zhang']\n",
      "Arxiv has 65 new papers today\n",
      "          5 with possible author matches\n"
     ]
    }
   ],
   "source": [
    "# get list from MPIA website\n",
    "# it automatically filters identified non-scientists :func:`mpia.filter_non_scientists`\n",
    "mpia_authors = mpia.get_mpia_mitarbeiter_list()\n",
    "normed_mpia_authors = [k[1] for k in mpia_authors]   # initials + fullname\n",
    "new_papers = get_new_papers()\n",
    "# add manual references\n",
    "add_paper_refs = []\n",
    "new_papers.extend([get_paper_from_identifier(k) for k in add_paper_refs])\n",
    "\n",
    "candidates = []\n",
    "for paperk in new_papers:\n",
    "    # Check author list with their initials\n",
    "    normed_author_list = [mpia.get_initials(k) for k in paperk['authors']]\n",
    "    hl_authors = highlight_authors_in_list(normed_author_list, normed_mpia_authors, verbose=True)\n",
    "    matches = [(hl, orig) for hl, orig in zip(hl_authors, paperk['authors']) if 'mark' in hl]\n",
    "    paperk['authors'] = hl_authors\n",
    "    if matches:\n",
    "        # only select paper if an author matched our list\n",
    "        candidates.append(paperk)\n",
    "print(\"\"\"Arxiv has {0:,d} new papers today\"\"\".format(len(new_papers)))        \n",
    "print(\"\"\"          {0:,d} with possible author matches\"\"\".format(len(candidates)))"
   ]
  },
  {
   "cell_type": "markdown",
   "id": "3543b34a",
   "metadata": {
    "papermill": {
     "duration": 0.002897,
     "end_time": "2023-11-21T04:10:11.415382",
     "exception": false,
     "start_time": "2023-11-21T04:10:11.412485",
     "status": "completed"
    },
    "tags": []
   },
   "source": [
    "# Parse sources and generate relevant outputs\n",
    "\n",
    "From the candidates, we do the following steps:\n",
    "* get their tarball from ArXiv (and extract data)\n",
    "* find the main .tex file: find one with \\documentclass{...} (sometimes it's non trivial)\n",
    "* Check affiliations with :func:`validation`, which uses :func:`mpia.affiliation_verifications`\n",
    "* If passing the affiliations: we parse the .tex source\n",
    "   * inject sub-documents into the main (flatten the main document)\n",
    "   * parse structure, extract information (title, abstract, authors, figures...)\n",
    "   * handles `\\graphicspath` if provided\n",
    "* Generate the .md document."
   ]
  },
  {
   "cell_type": "code",
   "execution_count": 4,
   "id": "9576b79e",
   "metadata": {
    "execution": {
     "iopub.execute_input": "2023-11-21T04:10:11.422509Z",
     "iopub.status.busy": "2023-11-21T04:10:11.421975Z",
     "iopub.status.idle": "2023-11-21T04:12:44.406055Z",
     "shell.execute_reply": "2023-11-21T04:12:44.405371Z"
    },
    "papermill": {
     "duration": 152.993982,
     "end_time": "2023-11-21T04:12:44.412204",
     "exception": false,
     "start_time": "2023-11-21T04:10:11.418222",
     "status": "completed"
    },
    "scrolled": false,
    "tags": []
   },
   "outputs": [
    {
     "data": {
      "application/vnd.jupyter.widget-view+json": {
       "model_id": "4599f6ead09b416090f1221d4517c177",
       "version_major": 2,
       "version_minor": 0
      },
      "text/plain": [
       "  0%|          | 0/5 [00:00<?, ?it/s]"
      ]
     },
     "metadata": {},
     "output_type": "display_data"
    },
    {
     "name": "stdout",
     "output_type": "stream",
     "text": [
      "Retrieving document from  https://arxiv.org/e-print/2311.11534\n"
     ]
    },
    {
     "name": "stdout",
     "output_type": "stream",
     "text": [
      "extracting tarball to tmp_2311.11534..."
     ]
    },
    {
     "name": "stdout",
     "output_type": "stream",
     "text": [
      " done.\n",
      "Retrieving document from  https://arxiv.org/e-print/2311.11588\n"
     ]
    },
    {
     "name": "stdout",
     "output_type": "stream",
     "text": [
      "extracting tarball to tmp_2311.11588..."
     ]
    },
    {
     "name": "stdout",
     "output_type": "stream",
     "text": [
      " done.\n",
      "Retrieving document from  https://arxiv.org/e-print/2311.11832\n"
     ]
    },
    {
     "name": "stderr",
     "output_type": "stream",
     "text": [
      "/opt/hostedtoolcache/Python/3.9.18/x64/lib/python3.9/site-packages/IPython/core/interactiveshell.py:3548: LatexWarning: Multiple tex files.\n",
      "\n",
      "  exec(code_obj, self.user_global_ns, self.user_ns)\n",
      "/opt/hostedtoolcache/Python/3.9.18/x64/lib/python3.9/site-packages/IPython/core/interactiveshell.py:3548: LatexWarning: Found documentclass in tmp_2311.11588/tidal_bns.tex\n",
      "\n",
      "  exec(code_obj, self.user_global_ns, self.user_ns)\n"
     ]
    },
    {
     "name": "stdout",
     "output_type": "stream",
     "text": [
      "extracting tarball to tmp_2311.11832..."
     ]
    },
    {
     "name": "stdout",
     "output_type": "stream",
     "text": [
      " done.\n"
     ]
    },
    {
     "name": "stdout",
     "output_type": "stream",
     "text": [
      "list index out of range\n",
      "Retrieving document from  https://arxiv.org/e-print/2311.11874\n"
     ]
    },
    {
     "name": "stdout",
     "output_type": "stream",
     "text": [
      "extracting tarball to tmp_2311.11874..."
     ]
    },
    {
     "name": "stdout",
     "output_type": "stream",
     "text": [
      " done.\n"
     ]
    },
    {
     "name": "stderr",
     "output_type": "stream",
     "text": [
      "/opt/hostedtoolcache/Python/3.9.18/x64/lib/python3.9/site-packages/arxiv_on_deck_2/latex.py:399: LatexWarning: Latex injecting: 'CORE_magfield_density_1123' from 'tmp_2311.11874/CORE_magfield_density_1123.tex'\n",
      "  warnings.warn(LatexWarning(f\"Latex injecting: '{ext}' from '{subsource}'\"))\n"
     ]
    },
    {
     "name": "stderr",
     "output_type": "stream",
     "text": [
      "/opt/hostedtoolcache/Python/3.9.18/x64/lib/python3.9/site-packages/arxiv_on_deck_2/latex.py:473: LatexWarning: Error parsing the document directly. Trying to recover.\n",
      "  warnings.warn(LatexWarning(f\"Error parsing the document directly. Trying to recover.\"))\n"
     ]
    },
    {
     "name": "stdout",
     "output_type": "stream",
     "text": [
      "✔ → 0:header\n",
      "  ↳ 6999:\\section{Introduction}\n"
     ]
    },
    {
     "name": "stdout",
     "output_type": "stream",
     "text": [
      "✘ → 6999:\\section{Introduction}\n",
      "  ↳ 21650:\\section{Observations}\n",
      "✔ → 21650:\\section{Observations}\n",
      "  ↳ 27539:\\section{Results}\n"
     ]
    },
    {
     "name": "stdout",
     "output_type": "stream",
     "text": [
      "✘ → 27539:\\section{Results}\n",
      "  ↳ 65767:\\section{Discussion}\n"
     ]
    },
    {
     "name": "stdout",
     "output_type": "stream",
     "text": [
      "✔ → 65767:\\section{Discussion}\n",
      "  ↳ 76714:\\section{Conclusions and summary}\n"
     ]
    },
    {
     "name": "stdout",
     "output_type": "stream",
     "text": [
      "✔ → 76714:\\section{Conclusions and summary}\n",
      "  ↳ 92531:\\section{Introduction}\n"
     ]
    },
    {
     "name": "stdout",
     "output_type": "stream",
     "text": [
      "✘ → 92531:\\section{Introduction}\n",
      "  ↳ 107182:\\section{Observations}\n",
      "✔ → 107182:\\section{Observations}\n",
      "  ↳ 113071:\\section{Results}\n"
     ]
    },
    {
     "name": "stdout",
     "output_type": "stream",
     "text": [
      "✘ → 113071:\\section{Results}\n",
      "  ↳ 151299:\\section{Discussion}\n"
     ]
    },
    {
     "name": "stdout",
     "output_type": "stream",
     "text": [
      "✔ → 151299:\\section{Discussion}\n",
      "  ↳ 162246:\\section{Conclusions and summary}\n"
     ]
    },
    {
     "name": "stdout",
     "output_type": "stream",
     "text": [
      "✔ → 162246:\\section{Conclusions and summary}\n",
      "  ↳ 197506:\\begin{appendix}\n",
      "✔ → 197506:\\begin{appendix}\n",
      "  ↳ 197523:\\section{IRAM 30 m data}\n",
      "✔ → 197523:\\section{IRAM 30 m data}\n",
      "  ↳ 200451:\\section{SMA data}\n"
     ]
    },
    {
     "name": "stdout",
     "output_type": "stream",
     "text": [
      "✔ → 200451:\\section{SMA data}\n",
      "  ↳ 229432:\\begin{appendix}\n",
      "✔ → 229432:\\begin{appendix}\n",
      "  ↳ 229449:\\section{IRAM 30 m data}\n",
      "✔ → 229449:\\section{IRAM 30 m data}\n",
      "  ↳ 232377:\\section{SMA data}\n"
     ]
    },
    {
     "name": "stdout",
     "output_type": "stream",
     "text": [
      "✔ → 232377:\\section{SMA data}\n",
      "  ↳ 234915:end\n"
     ]
    },
    {
     "name": "stdout",
     "output_type": "stream",
     "text": [
      "list index out of range\n",
      "Retrieving document from  https://arxiv.org/e-print/2311.11909\n"
     ]
    },
    {
     "name": "stdout",
     "output_type": "stream",
     "text": [
      "extracting tarball to tmp_2311.11909..."
     ]
    },
    {
     "name": "stdout",
     "output_type": "stream",
     "text": [
      " done.\n"
     ]
    }
   ],
   "source": [
    "documents = []\n",
    "failed = []\n",
    "for paper in tqdm(candidates):\n",
    "    paper_id = paper['identifier'].lower().replace('arxiv:', '')\n",
    "    \n",
    "    folder = f'tmp_{paper_id}'\n",
    "\n",
    "    try:\n",
    "        if not os.path.isdir(folder):\n",
    "            folder = retrieve_document_source(f\"{paper_id}\", f'tmp_{paper_id}')\n",
    "        \n",
    "        try:\n",
    "            doc = latex.LatexDocument(folder, validation=validation)    \n",
    "        except AffiliationError as affilerror:\n",
    "            msg = f\"ArXiv:{paper_id:s} is not an MPIA paper... \" + str(affilerror)\n",
    "            failed.append((paper, \"affiliation error: \" + str(affilerror) ))\n",
    "            continue\n",
    "        \n",
    "        # Hack because sometimes author parsing does not work well\n",
    "        if (len(doc.authors) != len(paper['authors'])):\n",
    "            doc._authors = paper['authors']\n",
    "        else:\n",
    "            # highlight authors (FIXME: doc.highlight_authors)\n",
    "            # done on arxiv paper already\n",
    "            doc._authors = highlight_authors_in_list(\n",
    "                [mpia.get_initials(k) for k in doc.authors], \n",
    "                normed_mpia_authors, verbose=True)\n",
    "        if (doc.abstract) in (None, ''):\n",
    "            doc._abstract = paper['abstract']\n",
    "            \n",
    "        doc.comment = (get_markdown_badge(paper_id) + \n",
    "                       \"<mark>Appeared on: \" + paper['date'] + \"</mark> - \")\n",
    "        if paper['comments']:\n",
    "            doc.comment += \" _\" + paper['comments'] + \"_\"\n",
    "        \n",
    "        full_md = doc.generate_markdown_text()\n",
    "        \n",
    "        full_md += get_markdown_qrcode(paper_id)\n",
    "        \n",
    "        # replace citations\n",
    "        try:\n",
    "            bibdata = latex_bib.LatexBib.from_doc(doc)\n",
    "            full_md = latex_bib.replace_citations(full_md, bibdata)\n",
    "        except Exception as e:\n",
    "            print(e)\n",
    "        \n",
    "        documents.append((paper_id, full_md))\n",
    "    except Exception as e:\n",
    "        warnings.warn(latex.LatexWarning(f\"{paper_id:s} did not run properly\\n\" +\n",
    "                                         str(e)\n",
    "                                        ))\n",
    "        failed.append((paper, \"latex error \" + str(e)))"
   ]
  },
  {
   "cell_type": "markdown",
   "id": "2505a25c",
   "metadata": {
    "papermill": {
     "duration": 0.004263,
     "end_time": "2023-11-21T04:12:44.420618",
     "exception": false,
     "start_time": "2023-11-21T04:12:44.416355",
     "status": "completed"
    },
    "tags": []
   },
   "source": [
    "### Export the logs\n",
    "\n",
    "Throughout, we also keep track of the logs per paper. see `logs-{today date}.md` "
   ]
  },
  {
   "cell_type": "code",
   "execution_count": 5,
   "id": "d733828a",
   "metadata": {
    "execution": {
     "iopub.execute_input": "2023-11-21T04:12:44.430211Z",
     "iopub.status.busy": "2023-11-21T04:12:44.429940Z",
     "iopub.status.idle": "2023-11-21T04:12:44.445005Z",
     "shell.execute_reply": "2023-11-21T04:12:44.444420Z"
    },
    "papermill": {
     "duration": 0.021403,
     "end_time": "2023-11-21T04:12:44.446247",
     "exception": false,
     "start_time": "2023-11-21T04:12:44.424844",
     "status": "completed"
    },
    "scrolled": false,
    "tags": []
   },
   "outputs": [
    {
     "data": {
      "text/markdown": [
       "## Successful papers"
      ],
      "text/plain": [
       "<IPython.core.display.Markdown object>"
      ]
     },
     "metadata": {},
     "output_type": "display_data"
    },
    {
     "data": {
      "text/markdown": [
       "\n",
       "|||\n",
       "|---:|:---|\n",
       "| [![arXiv](https://img.shields.io/badge/arXiv-arXiv:2311.11832-b31b1b.svg)](https://arxiv.org/abs/arXiv:2311.11832) | **A$^{3}$COSMOS: Dissecting the gas content of star-forming galaxies  across the main sequence at 1.2 $\\leq z$ < 1.6**  |\n",
       "|| T.-M. Wang, et al. -- incl., <mark>E. Schinnerer</mark> |\n",
       "|*Appeared on*| *2023-11-21*|\n",
       "|*Comments*| *20 pages, 17 figures*|\n",
       "|**Abstract**| We aim to understand the physical mechanisms that drive star formation in a sample of mass-complete (>10$^{9.5}M_{\\odot}$) star-forming galaxies (SFGs) at 1.2 $\\leq z$ < 1.6. We selected SFGs from the COSMOS2020 catalog and applied a $uv$-domain stacking analysis to their archival Atacama Large Millimeter/submillimeter Array (ALMA) data. Our stacking analysis provides precise measurements of the mean molecular gas mass and size of SFGs. We also applied an image-domain stacking analysis on their \\textit{HST} $i$-band and UltraVISTA $J$- and $K_{\\rm s}$-band images. Correcting these rest-frame optical sizes using the $R_{\\rm half-stellar-light}$-to-$R_{\\rm half-stellar-mass}$ conversion at rest 5,000 angstrom, we obtain the stellar mass size of MS galaxies. Across the MS (-0.2 < $\\Delta$MS < 0.2), the mean molecular gas fraction of SFGs increases by a factor of $\\sim$1.4, while their mean molecular gas depletion time decreases by a factor of $\\sim$1.8. The scatter of the MS could thus be caused by variations in both the star formation efficiency and molecular gas fraction of SFGs. The majority of the SFGs lying on the MS have $R_{\\rm FIR}$ $\\approx$ $R_{\\rm stellar}$. Their central regions are subject to large dust attenuation. Starbursts (SBs, $\\Delta$MS>0.7) have a mean molecular gas fraction $\\sim$2.1 times larger and mean molecular gas depletion time $\\sim$3.3 times shorter than MS galaxies. Additionally, they have more compact star-forming regions ($\\sim$2.5~kpc for MS galaxies vs. $\\sim$1.4~kpc for SBs) and systematically disturbed rest-frame optical morphologies, which is consistent with their association with major-mergers. SBs and MS galaxies follow the same relation between their molecular gas mass and star formation rate surface densities with a slope of $\\sim1.1-1.2$, that is, the so-called KS relation. |"
      ],
      "text/plain": [
       "[arXiv:2311.11832] A$^{3}$COSMOS: Dissecting the gas content of star-forming galaxies  across the main sequence at 1.2 $\\leq z$ < 1.6\n",
       "\tT.-M. Wang, et al. -- incl., <mark>E. Schinnerer</mark>"
      ]
     },
     "metadata": {},
     "output_type": "display_data"
    },
    {
     "data": {
      "text/markdown": [
       "\n",
       "|||\n",
       "|---:|:---|\n",
       "| [![arXiv](https://img.shields.io/badge/arXiv-arXiv:2311.11874-b31b1b.svg)](https://arxiv.org/abs/arXiv:2311.11874) | **Density distributions, magnetic field structures and fragmentation in  high-mass star formation**  |\n",
       "|| <mark>H. Beuther</mark>, et al. -- incl., <mark>D. Semenov</mark> |\n",
       "|*Appeared on*| *2023-11-21*|\n",
       "|*Comments*| *Accepted for Astronomy & Astrophysics, 14 pages, 14 figures plus appendices, also download option at this https URL*|\n",
       "|**Abstract**| Methods: Observing the large pc-scale Stokes I mm dust continuum emission with the IRAM 30m telescope and the intermediate-scale (<0.1pc) polarized submm dust emission with the Submillimeter Array toward a sample of 20 high-mass star-forming regions allows us to quantify the dependence of the fragmentation behaviour of these regions depending on the density and magnetic field structures. Results: We infer density distributions n~r^{-p} of the regions with typical power-law slopes p around ~1.5. There is no obvious correlation between the power-law slopes of the density structures on larger clump scales (~1pc) and the number of fragments on smaller core scales (<0.1pc). Comparing the large-scale single-dish density profiles to those derived earlier from interferometric observations at smaller spatial scales, we find that the smaller-scale power-law slopes are steeper, typically around ~2.0. The flattening toward larger scales is consistent with the star-forming regions being embedded in larger cloud structures that do not decrease in density away from a particular core. Regarding the magnetic field, for several regions it appears aligned with filamentary structures leading toward the densest central cores. Furthermore, we find different polarization structures with some regions exhibiting central polarization holes whereas other regions show polarized emission also toward the central peak positions. Nevertheless, the polarized intensities are inversely related to the Stokes I intensities. We estimate magnetic field strengths between ~0.2 and ~4.5mG, and we find no clear correlation between magnetic field strength and the fragmentation level of the regions. Comparison of the turbulent to magnetic energies shows that they are of roughly equal importance in this sample. The mass-to-flux ratios range between ~2 and ~7, consistent with collapsing star-forming regions. |"
      ],
      "text/plain": [
       "[arXiv:2311.11874] Density distributions, magnetic field structures and fragmentation in  high-mass star formation\n",
       "\t<mark>H. Beuther</mark>, et al. -- incl., <mark>D. Semenov</mark>"
      ]
     },
     "metadata": {},
     "output_type": "display_data"
    },
    {
     "data": {
      "text/markdown": [
       "## Failed papers"
      ],
      "text/plain": [
       "<IPython.core.display.Markdown object>"
      ]
     },
     "metadata": {},
     "output_type": "display_data"
    },
    {
     "data": {
      "text/markdown": [
       "\n",
       "|||\n",
       "|---:|:---|\n",
       "| [![arXiv](https://img.shields.io/badge/arXiv-arXiv:2311.11534-b31b1b.svg)](https://arxiv.org/abs/arXiv:2311.11534) | **Spatial distribution of NH2D in massive star-forming regions**  |\n",
       "|| Y. Li, et al. -- incl., <mark>J. Li</mark> |\n",
       "|*Appeared on*| *2023-11-21*|\n",
       "|*Comments*| *30 pages, 20 figures, 4 tables. Accepted to MNRAS*|\n",
       "|**Abstract**| To understand the relation between NH$_2$D and its physical environment, we mapped ortho-NH$_2$D $1_{11}^s-1_{01}^a$ at 85.9 GHz toward 24 Galactic late-stage massive star-forming regions with Institut de Radioastronomie Millim$ \\'e$trique (IRAM) 30-m telescope. Ortho-NH$_2$D $1_{11}^s-1_{01}^a$ was detected in 18 of 24 sources. Comparing with the distribution of H$^{13}$CN 1-0 as a dense gas tracer and radio recombination line H42$\\alpha$, ortho-NH$_2$D $1_{11}^s-1_{01}^a$ present complex and diverse spatial distribution in these targets. 11 of the 18 targets, present a different distribution between ortho-NH$_2$D $1_{11}^s-1_{01}^a$ and H$^{13}$CN 1-0, while no significant difference between these two lines can be found in the other 7 sources, mainly due to limited spatial resolution and sensitivity. Moreover, with H42$\\alpha$ tracing massive young stellar objects, ortho-NH$_2$D $1_{11}^s-1_{01}^a$ seems to show a relatively weak emission near the massive young stellar objects. |\n",
       "|<p style=\"color:green\"> **ERROR** </p>| <p style=\"color:green\">affiliation error: mpia.affiliation_verifications: 'Heidelberg' keyword not found.</p> |"
      ],
      "text/plain": [
       "<IPython.core.display.Markdown object>"
      ]
     },
     "metadata": {},
     "output_type": "display_data"
    },
    {
     "data": {
      "text/markdown": [
       "\n",
       "|||\n",
       "|---:|:---|\n",
       "| [![arXiv](https://img.shields.io/badge/arXiv-arXiv:2311.11588-b31b1b.svg)](https://arxiv.org/abs/arXiv:2311.11588) | **Measuring the Hubble constant with coalescences of binary neutron star  and neutron star-black hole: bright sirens \\& dark sirens**  |\n",
       "|| J. Yu, et al. -- incl., <mark>X. Zhang</mark> |\n",
       "|*Appeared on*| *2023-11-21*|\n",
       "|*Comments*| *26 pages, 13 figures, submitted to APJS, comments welcome*|\n",
       "|**Abstract**| The observations of gravitational wave (GW) provide us a new probe to study the universe. GW events can be used as standard sirens if their redshifts are measured. Normally, stardard sirens can be divided into bright/dark sirens according to whether the redshifts are measured by electromagnetic (EM) counterpart observations. Firstly, we investigate the capability of the 2.5-meter Wide-Field Survey Telescope (WFST) to take follow-up observations of kilonova counterparts. For binary neutron star (BNS) bright sirens, WFST is expected to observe 10-20 kilonovae per year in the second-generation (2G) GW detection era. As for neutron star-black hole (NSBH) mergers, when a BH spin is extremely high and the NS is stiff, the observation rate is $\\sim10$ per year. Combining optical and GW observations, the bright sirens are expected to constrain the Hubble constant $H_0$ to $\\sim2.8\\%$ in five years of observations. As for dark sirens, tidal effects of neutron stars (NSs) during merging time provide us a cosmological model-independent approach to measure the redshifts of GW sources. Then we investigate the applications of tidal effects in redshift measurements. We find in 3G era, the host galaxy groups of around 45\\% BNS mergers at $z<0.1$ can be identified through this method, if the EOS is ms1, which is roughly equivalent to the results from luminosity distant constraints. Therefore, tidal effect observations provide a reliable and cosmological model-independent method of identifying BNS mergers' host galaxy groups. Using this method, the BNS/NSBH dark sirens can constrain $H_0$ to 0.2\\%/0.3\\% over a five-year observation period. |\n",
       "|<p style=\"color:green\"> **ERROR** </p>| <p style=\"color:green\">affiliation error: mpia.affiliation_verifications: 'Heidelberg' keyword not found.</p> |"
      ],
      "text/plain": [
       "<IPython.core.display.Markdown object>"
      ]
     },
     "metadata": {},
     "output_type": "display_data"
    },
    {
     "data": {
      "text/markdown": [
       "\n",
       "|||\n",
       "|---:|:---|\n",
       "| [![arXiv](https://img.shields.io/badge/arXiv-arXiv:2311.11909-b31b1b.svg)](https://arxiv.org/abs/arXiv:2311.11909) | **Near-Infrared Observations of Outflows and YSOs in the Massive  Star-Forming Region AFGL 5180**  |\n",
       "|| S. Crowe, et al. -- incl., <mark>X. Zhang</mark> |\n",
       "|*Appeared on*| *2023-11-21*|\n",
       "|*Comments*| *Accepted to Astronomy & Astrophysics (A&A)*|\n",
       "|**Abstract**| Methods: Broad- and narrow-band imaging of AFGL 5180 was made in the NIR with the LBT, in both seeing-limited ($\\sim0.5\\arcsec$) and high angular resolution ($\\sim0.09\\arcsec$) Adaptive Optics (AO) modes, as well as with HST. Archival ALMA continuum data was also utilized. Results: At least 40 jet knots were identified via NIR emission from H$_2$ and [FeII] tracing shocked gas. Bright jet knots outflowing from the central most massive protostar, S4, are detected towards the east of the source and are resolved in fine detail with the AO imaging. Additional knots are distributed throughout the field, likely indicating the presence of multiple driving sources. Sub-millimeter sources detected by ALMA are shown to be grouped in two main complexes, AFGL 5180 M and a small cluster $\\sim15\\arcsec$ to the south, AFGL 5180 S. From our NIR continuum images we identify YSO candidates down to masses of $\\sim 0.1\\:M_\\odot$. Combined with the sub-mm sources, this yields a surface number density of such YSOs of $N_* \\sim 10^3 {\\rm pc}^{-2}$ within a projected radius of about 0.1 pc. Such a value is similar to those predicted by models of both Core Accretion from a turbulent clump environment and Competitive Accretion. The radial profile of $N_*$ is relatively flat on scales out to 0.2~pc, with only modest enhancement around the massive protostar inside 0.05~pc. Conclusions: This study demonstrates the utility of high-resolution NIR imaging, in particular with AO, for detecting outflow activity and YSOs in distant regions. The presented images reveal the complex morphology of outflow-shocked gas within the large-scale bipolar flow of a massive protostar, as well as clear evidence for several other outflow driving sources in the region. Finally, this work presents a novel approach to compare the observed YSO surface number density from our study against different models of massive star formation. |\n",
       "|<p style=\"color:green\"> **ERROR** </p>| <p style=\"color:green\">affiliation error: mpia.affiliation_verifications: 'Heidelberg' keyword not found.</p> |"
      ],
      "text/plain": [
       "<IPython.core.display.Markdown object>"
      ]
     },
     "metadata": {},
     "output_type": "display_data"
    }
   ],
   "source": [
    "import datetime\n",
    "today = str(datetime.date.today())\n",
    "logfile = f\"_build/html/logs/log-{today}.md\"\n",
    "\n",
    "\n",
    "with open(logfile, 'w') as logs:\n",
    "    # Success\n",
    "    logs.write(f'# Arxiv on Deck 2: Logs - {today}\\n\\n')\n",
    "    logs.write(\"\"\"* Arxiv had {0:,d} new papers\\n\"\"\".format(len(new_papers)))\n",
    "    logs.write(\"\"\"    * {0:,d} with possible author matches\\n\\n\"\"\".format(len(candidates)))\n",
    "    logs.write(\"## Sucessful papers\\n\\n\")\n",
    "    display(Markdown(\"## Successful papers\"))\n",
    "    success = [k[0] for k in documents]\n",
    "    for candid in candidates:\n",
    "        if candid['identifier'].split(':')[-1] in success:\n",
    "            display(candid)\n",
    "            logs.write(candid.generate_markdown_text() + '\\n\\n')\n",
    "\n",
    "    ## failed\n",
    "    logs.write(\"## Failed papers\\n\\n\")\n",
    "    display(Markdown(\"## Failed papers\"))\n",
    "    failed = sorted(failed, key=lambda x: x[1])\n",
    "    current_reason = \"\"\n",
    "    for paper, reason in failed:\n",
    "        if 'affiliation' in reason:\n",
    "            color = 'green'\n",
    "        else:\n",
    "            color = 'red'\n",
    "        data = Markdown(\n",
    "                paper.generate_markdown_text() + \n",
    "                f'\\n|<p style=\"color:{color:s}\"> **ERROR** </p>| <p style=\"color:{color:s}\">{reason:s}</p> |'\n",
    "               )\n",
    "        if reason != current_reason:\n",
    "            logs.write(f'### {reason:s} \\n\\n')\n",
    "            current_reason = reason\n",
    "        logs.write(data.data + '\\n\\n')\n",
    "        \n",
    "        # only display here the important errors (all in logs)\n",
    "        # if color in ('red',):\n",
    "        display(data)"
   ]
  },
  {
   "cell_type": "markdown",
   "id": "472d20ee",
   "metadata": {
    "papermill": {
     "duration": 0.004496,
     "end_time": "2023-11-21T04:12:44.455650",
     "exception": false,
     "start_time": "2023-11-21T04:12:44.451154",
     "status": "completed"
    },
    "tags": []
   },
   "source": [
    "## Export documents\n",
    "\n",
    "We now write the .md files and export relevant images"
   ]
  },
  {
   "cell_type": "code",
   "execution_count": 6,
   "id": "d426aed9",
   "metadata": {
    "execution": {
     "iopub.execute_input": "2023-11-21T04:12:44.466177Z",
     "iopub.status.busy": "2023-11-21T04:12:44.465840Z",
     "iopub.status.idle": "2023-11-21T04:12:44.472110Z",
     "shell.execute_reply": "2023-11-21T04:12:44.471480Z"
    },
    "papermill": {
     "duration": 0.013073,
     "end_time": "2023-11-21T04:12:44.473456",
     "exception": false,
     "start_time": "2023-11-21T04:12:44.460383",
     "status": "completed"
    },
    "tags": []
   },
   "outputs": [],
   "source": [
    "def export_markdown_summary(md: str, md_fname:str, directory: str):\n",
    "    \"\"\"Export MD document and associated relevant images\"\"\"\n",
    "    import os\n",
    "    import shutil\n",
    "    import re\n",
    "\n",
    "    if (os.path.exists(directory) and not os.path.isdir(directory)):\n",
    "        raise RuntimeError(f\"a non-directory file exists with name {directory:s}\")\n",
    "\n",
    "    if (not os.path.exists(directory)):\n",
    "        print(f\"creating directory {directory:s}\")\n",
    "        os.mkdir(directory)\n",
    "\n",
    "    fig_fnames = (re.compile(r'\\[Fig.*\\]\\((.*)\\)').findall(md) + \n",
    "                  re.compile(r'\\<img src=\"([^>\\s]*)\"[^>]*/>').findall(md))\n",
    "    for fname in fig_fnames:\n",
    "        if 'http' in fname:\n",
    "            # No need to copy online figures\n",
    "            continue\n",
    "        destdir = os.path.join(directory, os.path.dirname(fname))\n",
    "        destfname = os.path.join(destdir, os.path.basename(fname))\n",
    "        try:\n",
    "            os.makedirs(destdir)\n",
    "        except FileExistsError:\n",
    "            pass\n",
    "        shutil.copy(fname, destfname)\n",
    "    with open(os.path.join(directory, md_fname), 'w') as fout:\n",
    "        fout.write(md)\n",
    "    print(\"exported in \", os.path.join(directory, md_fname))\n",
    "    [print(\"    + \" + os.path.join(directory,fk)) for fk in fig_fnames]"
   ]
  },
  {
   "cell_type": "code",
   "execution_count": 7,
   "id": "014d04a4",
   "metadata": {
    "execution": {
     "iopub.execute_input": "2023-11-21T04:12:44.484370Z",
     "iopub.status.busy": "2023-11-21T04:12:44.484004Z",
     "iopub.status.idle": "2023-11-21T04:12:44.489936Z",
     "shell.execute_reply": "2023-11-21T04:12:44.489431Z"
    },
    "papermill": {
     "duration": 0.012809,
     "end_time": "2023-11-21T04:12:44.491256",
     "exception": false,
     "start_time": "2023-11-21T04:12:44.478447",
     "status": "completed"
    },
    "tags": []
   },
   "outputs": [
    {
     "name": "stdout",
     "output_type": "stream",
     "text": [
      "exported in  _build/html/2311.11832.md\n",
      "    + _build/html/tmp_2311.11832/./FIR_size.png\n",
      "    + _build/html/tmp_2311.11832/./ALMA_img.png\n",
      "    + _build/html/tmp_2311.11832/./Gini_M20.png\n",
      "exported in  _build/html/2311.11874.md\n",
      "    + _build/html/tmp_2311.11874/./beta_numcores_st21.png\n",
      "    + _build/html/tmp_2311.11874/./mass_flux_st21.png\n",
      "    + _build/html/tmp_2311.11874/./beta_numcores_st21.png\n"
     ]
    }
   ],
   "source": [
    "for paper_id, md in documents:\n",
    "    export_markdown_summary(md, f\"{paper_id:s}.md\", '_build/html/')"
   ]
  },
  {
   "cell_type": "markdown",
   "id": "f087a0a7",
   "metadata": {
    "papermill": {
     "duration": 0.004928,
     "end_time": "2023-11-21T04:12:44.501201",
     "exception": false,
     "start_time": "2023-11-21T04:12:44.496273",
     "status": "completed"
    },
    "tags": []
   },
   "source": [
    "## Display the papers\n",
    "\n",
    "Not necessary but allows for a quick check."
   ]
  },
  {
   "cell_type": "code",
   "execution_count": 8,
   "id": "fd25f625",
   "metadata": {
    "execution": {
     "iopub.execute_input": "2023-11-21T04:12:44.512222Z",
     "iopub.status.busy": "2023-11-21T04:12:44.511782Z",
     "iopub.status.idle": "2023-11-21T04:12:44.517616Z",
     "shell.execute_reply": "2023-11-21T04:12:44.517003Z"
    },
    "papermill": {
     "duration": 0.012729,
     "end_time": "2023-11-21T04:12:44.518934",
     "exception": false,
     "start_time": "2023-11-21T04:12:44.506205",
     "status": "completed"
    },
    "scrolled": false,
    "tags": []
   },
   "outputs": [
    {
     "data": {
      "text/markdown": [
       "<div class=\"macros\" style=\"visibility:hidden;\">\n",
       "$\\newcommand{\\ensuremath}{}$\n",
       "$\\newcommand{\\xspace}{}$\n",
       "$\\newcommand{\\object}[1]{\\texttt{#1}}$\n",
       "$\\newcommand{\\farcs}{{.}''}$\n",
       "$\\newcommand{\\farcm}{{.}'}$\n",
       "$\\newcommand{\\arcsec}{''}$\n",
       "$\\newcommand{\\arcmin}{'}$\n",
       "$\\newcommand{\\ion}[2]{#1#2}$\n",
       "$\\newcommand{\\textsc}[1]{\\textrm{#1}}$\n",
       "$\\newcommand{\\hl}[1]{\\textrm{#1}}$\n",
       "$\\newcommand{\\footnote}[1]{}$</div>\n",
       "\n",
       "\n",
       "\n",
       "<div id=\"title\">\n",
       "\n",
       "# A$^{3}$COSMOS: Dissecting the gas content of star-forming galaxies across the main sequence at 1.2 $\\leq z$ < 1.6\n",
       "\n",
       "</div>\n",
       "<div id=\"comments\">\n",
       "\n",
       "[![arXiv](https://img.shields.io/badge/arXiv-2311.11832-b31b1b.svg)](https://arxiv.org/abs/2311.11832)<mark>Appeared on: 2023-11-21</mark> -  _20 pages, 17 figures_\n",
       "\n",
       "</div>\n",
       "<div id=\"authors\">\n",
       "\n",
       "T.-M. Wang, et al. -- incl., <mark>E. Schinnerer</mark>\n",
       "\n",
       "</div>\n",
       "<div id=\"abstract\">\n",
       "\n",
       "**Abstract:** We aim to understand the physical mechanisms that drive star formation in a sample of mass-complete (>10$^{9.5}M_{\\odot}$) star-forming galaxies (SFGs) at 1.2 $\\leq z$ < 1.6. We selected SFGs from the COSMOS2020 catalog and applied a $uv$-domain stacking analysis to their archival Atacama Large Millimeter/submillimeter Array (ALMA) data. Our stacking analysis provides precise measurements of the mean molecular gas mass and size of SFGs. We also applied an image-domain stacking analysis on their _HST_ $i$-band and UltraVISTA $J$- and $K_{\\rm s}$-band images. Correcting these rest-frame optical sizes using the $R_{\\rm half-stellar-light}$-to-$R_{\\rm half-stellar-mass}$ conversion at rest 5,000 angstrom, we obtain the stellar mass size of MS galaxies. Across the MS (-0.2 < $\\Delta$MS < 0.2), the mean molecular gas fraction of SFGs increases by a factor of $\\sim$1.4, while their mean molecular gas depletion time decreases by a factor of $\\sim$1.8. The scatter of the MS could thus be caused by variations in both the star formation efficiency and molecular gas fraction of SFGs. The majority of the SFGs lying on the MS have $R_{\\rm FIR}$ $\\approx$ $R_{\\rm stellar}$. Their central regions are subject to large dust attenuation. Starbursts (SBs, $\\Delta$MS>0.7) have a mean molecular gas fraction $\\sim$2.1 times larger and mean molecular gas depletion time $\\sim$3.3 times shorter than MS galaxies. Additionally, they have more compact star-forming regions ($\\sim$2.5~kpc for MS galaxies vs. $\\sim$1.4~kpc for SBs) and systematically disturbed rest-frame optical morphologies, which is consistent with their association with major-mergers. SBs and MS galaxies follow the same relation between their molecular gas mass and star formation rate surface densities with a slope of $\\sim1.1-1.2$, that is, the so-called KS relation. \n",
       "\n",
       "</div>\n",
       "\n",
       "<div id=\"div_fig1\">\n",
       "\n",
       "<img src=\"tmp_2311.11832/./FIR_size.png\" alt=\"Fig6\" width=\"100%\"/>\n",
       "\n",
       "**Figure 6. -** Circularized effective FIR radius as a function of distance to the MS. Circles and stars show the mean and upper limit FIR sizes for the resolved and unresolved stacked galaxies, respectively. Error bars are the same as in Fig. \\ref{fig:gas_frac}, but for the circularized effective FIR radius. Crosses are the mean radio sizes of SFGs at $M_{\\star}$ > 10$^{10.5}M_{\\odot}$ from \\citet[][]{2019A&A...625A.114J}. (*fig:FIR_size*)\n",
       "\n",
       "</div>\n",
       "<div id=\"div_fig2\">\n",
       "\n",
       "<img src=\"tmp_2311.11832/./ALMA_img.png\" alt=\"Fig11\" width=\"100%\"/>\n",
       "\n",
       "**Figure 11. -** Results in image-domain of our ALMA stacking analysis in $uv$-domain. The maximun values of $\\Delta$MS from the lowest to highest stellar mass bins are 1.3, 0.9, 1.0, and 1.1; and the minimum values from the lowest to highest stellar mass bins are -0.7, -0.7, -0.7, and -0.6, respectively. Each panel has a size of 6 arcsec $\\times$ 6 arcsec. The synthesized beam of the image is shown in the right-bottom corner of each panel. (*fig:ALMA_img*)\n",
       "\n",
       "</div>\n",
       "<div id=\"div_fig3\">\n",
       "\n",
       "<img src=\"tmp_2311.11832/./Gini_M20.png\" alt=\"Fig13\" width=\"100%\"/>\n",
       "\n",
       "**Figure 13. -** Morphological classification of our $M_{\\star}$> $10^{10}M_{\\odot}$ SFGs measured on their _HST_$i$-band images. Circles in the left panel are the Gini and M20 coefficient measured on _HST_$i$-band images of each individual galaxy, while the right panel shows the Gini and M20 coefficient measured for the stacked images of the different stellar mass and $\\Delta$MS bin. Orange, pink, green, and dark blue show SBs ($\\Delta$MS > 0.7) at 10$^{11}\\leq M_{\\star}/{\\rm M}_{\\odot}<10^{12}$, SBs at 10$^{10.5}\\leq M_{\\star}/{\\rm M}_{\\odot}<10^{11}$, SBs at 10$^{10}\\leq M_{\\star}/{\\rm M}_{\\odot}<10^{10.5}$, and $M_{\\star}$> $10^{10}M_{\\odot}$ SFGs without SBs ($\\Delta$MS < 0.7), respectively. Stars in the left panel are the median Gini and M20 coefficients of SBs in these three stellar mass bins. Gray dashed lines are the morphology classification from \\citet{2008ApJ...672..177L}. (*fig:gini_m20*)\n",
       "\n",
       "</div><div id=\"qrcode\"><img src=https://api.qrserver.com/v1/create-qr-code/?size=100x100&data=\"https://arxiv.org/abs/2311.11832\"></div>"
      ],
      "text/plain": [
       "<IPython.core.display.Markdown object>"
      ]
     },
     "metadata": {},
     "output_type": "display_data"
    },
    {
     "data": {
      "text/markdown": [
       "<div class=\"macros\" style=\"visibility:hidden;\">\n",
       "$\\newcommand{\\ensuremath}{}$\n",
       "$\\newcommand{\\xspace}{}$\n",
       "$\\newcommand{\\object}[1]{\\texttt{#1}}$\n",
       "$\\newcommand{\\farcs}{{.}''}$\n",
       "$\\newcommand{\\farcm}{{.}'}$\n",
       "$\\newcommand{\\arcsec}{''}$\n",
       "$\\newcommand{\\arcmin}{'}$\n",
       "$\\newcommand{\\ion}[2]{#1#2}$\n",
       "$\\newcommand{\\textsc}[1]{\\textrm{#1}}$\n",
       "$\\newcommand{\\hl}[1]{\\textrm{#1}}$\n",
       "$\\newcommand{\\footnote}[1]{}$\n",
       "$\\newcommand{\\}{natexlab}$\n",
       "$\\newcommand{\\}{natexlab}$</div>\n",
       "\n",
       "\n",
       "\n",
       "<div id=\"title\">\n",
       "\n",
       "# Density distributions, magnetic field structures and fragmentation in high-mass star formation\n",
       "\n",
       "</div>\n",
       "<div id=\"comments\">\n",
       "\n",
       "[![arXiv](https://img.shields.io/badge/arXiv-2311.11874-b31b1b.svg)](https://arxiv.org/abs/2311.11874)<mark>Appeared on: 2023-11-21</mark> -  _Accepted for Astronomy & Astrophysics, 14 pages, 14 figures plus appendices, also download option at this https URL_\n",
       "\n",
       "</div>\n",
       "<div id=\"authors\">\n",
       "\n",
       "<mark>H. Beuther</mark>, et al. -- incl., <mark>D. Semenov</mark>\n",
       "\n",
       "</div>\n",
       "<div id=\"abstract\">\n",
       "\n",
       "**Abstract:** The fragmentation of high-mass star-forming regions depends on a variety of physical parameters, including the density, magnetic field and turbulent gas properties. We evaluate the importance of the density and magnetic field structures in relation to the fragmentation properties during high-mass star formation. Observing the large pc-scale Stokes $I$ mm dust continuum emission with the IRAM 30 m telescope and the intermediate-scale ( $<$ 0.1 pc) polarized submm dust emission with the Submillimeter Array toward a sample of 20 high-mass star-forming regions allows us to quantify the dependence of the fragmentation behaviour of these regions depending on the density and magnetic field structures. Based on the IRAM 30 m data, we infer density distributions $n\\propto r^{-p}$ of the regions with typical power-law slopes $p$ around $\\sim$ 1.5. There is no obvious correlation between the power-law slopes of the density structures on larger clump scales ( $\\sim$ 1 pc) and the number of fragments on smaller core scales ( $<$ 0.1 pc). Comparing the large-scale single-dish density profiles to those derived earlier from interferometric observations at smaller spatial scales, we find that the smaller-scale power-law slopes are steeper, typically around $\\sim$ 2.0. The flattening toward larger scales is consistent with the star-forming regions being embedded in larger cloud structures that do not decrease in density away from a particular core. Regarding the magnetic field, for several regions it appears aligned with filamentary structures leading toward the densest central cores. Furthermore, we find different polarization structures with some regions exhibiting central polarization holes whereas other regions show polarized emission also toward the central peak positions. Nevertheless, the polarized intensities are inversely related to the Stokes $I$ intensities, following roughly a power law slope of $\\propto S_I^{-0.62}$ . We estimate magnetic field strengths between $\\sim$ 0.2 and $\\sim$ 4.5 mG, and we find no clear correlation between magnetic field strength and the fragmentation level of the regions.   Comparison of the turbulent to magnetic energies shows that they are of roughly equal importance in this sample. The mass-to-flux ratios range between $\\sim$ 2 and $\\sim$ 7, consistent with collapsing star-forming regions. Finding no clear correlations between the present-day large-scale density structure, the magnetic field strength and the smaller-scale fragmentation properties of the regions, indicates that the fragmentation of high-mass star-forming regions may not be affected strongly by the initial density profiles and magnetic field properties.   However, considering the limited evolutionary range and spatial scales of the presented CORE analysis, future research directions should include density structure analysis of younger regions that better resemble the initial conditions, as well as connecting the observed intermediate-scale magnetic field structure with the larger-scale magnetic fields of the parental molecular clouds.\n",
       "\n",
       "</div>\n",
       "\n",
       "<div id=\"div_fig1\">\n",
       "\n",
       "<img src=\"tmp_2311.11874/./beta_numcores_st21.png\" alt=\"Fig1\" width=\"100%\"/>\n",
       "\n",
       "**Figure 1. -** Plot of the ratio of turbulent to magnetic energy $\\beta$ versus number of cores. Approximate uncertainties on $\\beta$ are around a factor 4. (*beta*)\n",
       "\n",
       "</div>\n",
       "<div id=\"div_fig2\">\n",
       "\n",
       "<img src=\"tmp_2311.11874/./mass_flux_st21.png\" alt=\"Fig2\" width=\"100%\"/>\n",
       "\n",
       "**Figure 2. -** Plot of the mass-to-flux ratio versus number of cores. For clarity in the logarithmic plotting, the red errorbars are only shown one-sided to higher values. (*mass_flux*)\n",
       "\n",
       "</div>\n",
       "<div id=\"div_fig3\">\n",
       "\n",
       "<img src=\"tmp_2311.11874/./beta_numcores_st21.png\" alt=\"Fig3\" width=\"100%\"/>\n",
       "\n",
       "**Figure 3. -** Plot of the ratio of turbulent to magnetic energy $\\beta$ versus number of cores. Approximate uncertainties on $\\beta$ are around a factor 4. (*beta*)\n",
       "\n",
       "</div><div id=\"qrcode\"><img src=https://api.qrserver.com/v1/create-qr-code/?size=100x100&data=\"https://arxiv.org/abs/2311.11874\"></div>"
      ],
      "text/plain": [
       "<IPython.core.display.Markdown object>"
      ]
     },
     "metadata": {},
     "output_type": "display_data"
    }
   ],
   "source": [
    "[display(Markdown(k[1])) for k in documents];"
   ]
  },
  {
   "cell_type": "markdown",
   "id": "873873a4",
   "metadata": {
    "papermill": {
     "duration": 0.005308,
     "end_time": "2023-11-21T04:12:44.529735",
     "exception": false,
     "start_time": "2023-11-21T04:12:44.524427",
     "status": "completed"
    },
    "tags": []
   },
   "source": [
    "# Create HTML index"
   ]
  },
  {
   "cell_type": "code",
   "execution_count": 9,
   "id": "cf665672",
   "metadata": {
    "execution": {
     "iopub.execute_input": "2023-11-21T04:12:44.541720Z",
     "iopub.status.busy": "2023-11-21T04:12:44.541181Z",
     "iopub.status.idle": "2023-11-21T04:12:44.550492Z",
     "shell.execute_reply": "2023-11-21T04:12:44.549959Z"
    },
    "papermill": {
     "duration": 0.016608,
     "end_time": "2023-11-21T04:12:44.551771",
     "exception": false,
     "start_time": "2023-11-21T04:12:44.535163",
     "status": "completed"
    },
    "tags": []
   },
   "outputs": [
    {
     "name": "stdout",
     "output_type": "stream",
     "text": [
      "324  publications files modified in the last 7 days.\n"
     ]
    }
   ],
   "source": [
    "from datetime import datetime, timedelta, timezone\n",
    "from glob import glob\n",
    "import os\n",
    "\n",
    "files = glob('_build/html/*.md')\n",
    "days = 7\n",
    "now = datetime.today()\n",
    "res = []\n",
    "for fk in files:\n",
    "    stat_result = os.stat(fk).st_ctime\n",
    "    modified = datetime.fromtimestamp(stat_result, tz=timezone.utc).replace(tzinfo=None)\n",
    "    delta = now.today() - modified\n",
    "    if delta <= timedelta(days=days):\n",
    "        res.append((delta.seconds, fk))\n",
    "res = [k[1] for k in reversed(sorted(res, key=lambda x:x[1]))]\n",
    "npub = len(res)\n",
    "print(len(res), f\" publications files modified in the last {days:d} days.\")\n",
    "# [ print('\\t', k) for k in res ];"
   ]
  },
  {
   "cell_type": "code",
   "execution_count": 10,
   "id": "015de740",
   "metadata": {
    "execution": {
     "iopub.execute_input": "2023-11-21T04:12:44.563578Z",
     "iopub.status.busy": "2023-11-21T04:12:44.563392Z",
     "iopub.status.idle": "2023-11-21T04:12:44.582494Z",
     "shell.execute_reply": "2023-11-21T04:12:44.581977Z"
    },
    "papermill": {
     "duration": 0.026394,
     "end_time": "2023-11-21T04:12:44.583765",
     "exception": false,
     "start_time": "2023-11-21T04:12:44.557371",
     "status": "completed"
    },
    "tags": []
   },
   "outputs": [
    {
     "name": "stdout",
     "output_type": "stream",
     "text": [
      "4  publications in the last 7 days.\n"
     ]
    }
   ],
   "source": [
    "import datetime\n",
    "from glob import glob\n",
    "\n",
    "def get_last_n_days(lst, days=1):\n",
    "    \"\"\" Get the documents from the last n days \"\"\"\n",
    "    sorted_lst = sorted(lst, key=lambda x: x[1], reverse=True)\n",
    "    for fname, date in sorted_lst:\n",
    "        if date >= str(datetime.date.today() - datetime.timedelta(days=days)):\n",
    "            yield fname\n",
    "\n",
    "def extract_appearance_dates(lst_file):\n",
    "    dates = []\n",
    "\n",
    "    def get_date(line):\n",
    "        return line\\\n",
    "            .split('Appeared on:')[-1]\\\n",
    "            .split('</mark>')[0].strip()\n",
    "\n",
    "    for fname in lst:\n",
    "        with open(fname, 'r') as f:\n",
    "            found_date = False\n",
    "            for line in f:\n",
    "                if not found_date:\n",
    "                    if \"Appeared on\" in line:\n",
    "                        found_date = True\n",
    "                        dates.append((fname, get_date(line)))\n",
    "                else:\n",
    "                    break\n",
    "    return dates\n",
    "\n",
    "from glob import glob\n",
    "lst = glob('_build/html/*md')\n",
    "days = 7\n",
    "dates = extract_appearance_dates(lst)\n",
    "res = list(get_last_n_days(dates, days))\n",
    "npub = len(res)\n",
    "print(len(res), f\" publications in the last {days:d} days.\")"
   ]
  },
  {
   "cell_type": "code",
   "execution_count": 11,
   "id": "52ca0208",
   "metadata": {
    "execution": {
     "iopub.execute_input": "2023-11-21T04:12:44.595669Z",
     "iopub.status.busy": "2023-11-21T04:12:44.595481Z",
     "iopub.status.idle": "2023-11-21T04:12:44.600269Z",
     "shell.execute_reply": "2023-11-21T04:12:44.599720Z"
    },
    "papermill": {
     "duration": 0.012121,
     "end_time": "2023-11-21T04:12:44.601566",
     "exception": false,
     "start_time": "2023-11-21T04:12:44.589445",
     "status": "completed"
    },
    "scrolled": false,
    "tags": []
   },
   "outputs": [],
   "source": [
    "def create_carousel(npub=4):\n",
    "    \"\"\" Generate the HTML code for a carousel with `npub` slides \"\"\"\n",
    "    carousel = [\"\"\"  <div class=\"carousel\" \"\"\",\n",
    "                \"\"\"       data-flickity='{ \"autoPlay\": 10000, \"adaptiveHeight\": true, \"resize\": true, \"wrapAround\": true, \"pauseAutoPlayOnHover\": true, \"groupCells\": 1 }' id=\"asyncTypeset\">\"\"\"\n",
    "                ]\n",
    "    \n",
    "    item_str = \"\"\"    <div class=\"carousel-cell\"> <div id=\"slide{k}\" class=\"md_view\">Content {k}</div> </div>\"\"\"\n",
    "    for k in range(1, npub + 1):\n",
    "        carousel.append(item_str.format(k=k))\n",
    "    carousel.append(\"  </div>\")\n",
    "    return '\\n'.join(carousel)\n",
    "\n",
    "def create_grid(npub=4):\n",
    "    \"\"\" Generate the HTML code for a flat grid with `npub` slides \"\"\"\n",
    "    grid = [\"\"\"  <div class=\"grid\"> \"\"\",\n",
    "                ]\n",
    "    \n",
    "    item_str = \"\"\"    <div class=\"grid-item\"> <div id=\"slide{k}\" class=\"md_view\">Content {k}</div> </div>\"\"\"\n",
    "    for k in range(1, npub + 1):\n",
    "        grid.append(item_str.format(k=k))\n",
    "    grid.append(\"  </div>\")\n",
    "    return '\\n'.join(grid)"
   ]
  },
  {
   "cell_type": "code",
   "execution_count": 12,
   "id": "a6eac5b6",
   "metadata": {
    "execution": {
     "iopub.execute_input": "2023-11-21T04:12:44.613637Z",
     "iopub.status.busy": "2023-11-21T04:12:44.613164Z",
     "iopub.status.idle": "2023-11-21T04:12:44.618373Z",
     "shell.execute_reply": "2023-11-21T04:12:44.617781Z"
    },
    "papermill": {
     "duration": 0.012705,
     "end_time": "2023-11-21T04:12:44.619784",
     "exception": false,
     "start_time": "2023-11-21T04:12:44.607079",
     "status": "completed"
    },
    "scrolled": false,
    "tags": []
   },
   "outputs": [],
   "source": [
    "carousel = create_carousel(npub)\n",
    "docs = ', '.join(['\"{0:s}\"'.format(k.split('/')[-1]) for k in res])\n",
    "slides = ', '.join([f'\"slide{k}\"' for k in range(1, npub + 1)])\n",
    "\n",
    "with open(\"daily_template.html\", \"r\") as tpl:\n",
    "    page = tpl.read()\n",
    "    page = page.replace(\"{%-- carousel:s --%}\", carousel)\\\n",
    "               .replace(\"{%-- suptitle:s --%}\",  \"7-day archives\" )\\\n",
    "               .replace(\"{%-- docs:s --%}\", docs)\\\n",
    "               .replace(\"{%-- slides:s --%}\", slides)\n",
    "    \n",
    "with open(\"_build/html/index_7days.html\", 'w') as fout:\n",
    "    fout.write(page)"
   ]
  },
  {
   "cell_type": "code",
   "execution_count": 13,
   "id": "adc1a1ec",
   "metadata": {
    "execution": {
     "iopub.execute_input": "2023-11-21T04:12:44.632012Z",
     "iopub.status.busy": "2023-11-21T04:12:44.631499Z",
     "iopub.status.idle": "2023-11-21T04:12:44.638080Z",
     "shell.execute_reply": "2023-11-21T04:12:44.637620Z"
    },
    "papermill": {
     "duration": 0.013765,
     "end_time": "2023-11-21T04:12:44.639286",
     "exception": false,
     "start_time": "2023-11-21T04:12:44.625521",
     "status": "completed"
    },
    "tags": []
   },
   "outputs": [
    {
     "name": "stdout",
     "output_type": "stream",
     "text": [
      "2  publications in the last day.\n"
     ]
    }
   ],
   "source": [
    "# redo for today\n",
    "days = 1\n",
    "res = list(get_last_n_days(dates, days))\n",
    "npub = len(res)\n",
    "print(len(res), f\" publications in the last day.\")\n",
    "\n",
    "carousel = create_carousel(npub)\n",
    "docs = ', '.join(['\"{0:s}\"'.format(k.split('/')[-1]) for k in res])\n",
    "slides = ', '.join([f'\"slide{k}\"' for k in range(1, npub + 1)])\n",
    "\n",
    "with open(\"daily_template.html\", \"r\") as tpl:\n",
    "    page = tpl.read()\n",
    "    page = page.replace(\"{%-- carousel:s --%}\", carousel)\\\n",
    "               .replace(\"{%-- suptitle:s --%}\",  \"Daily\" )\\\n",
    "               .replace(\"{%-- docs:s --%}\", docs)\\\n",
    "               .replace(\"{%-- slides:s --%}\", slides)\n",
    "    \n",
    "# print(carousel, docs, slides)\n",
    "# print(page)\n",
    "with open(\"_build/html/index_daily.html\", 'w') as fout:\n",
    "    fout.write(page)"
   ]
  },
  {
   "cell_type": "code",
   "execution_count": 14,
   "id": "00eece82",
   "metadata": {
    "execution": {
     "iopub.execute_input": "2023-11-21T04:12:44.651475Z",
     "iopub.status.busy": "2023-11-21T04:12:44.651092Z",
     "iopub.status.idle": "2023-11-21T04:12:44.657201Z",
     "shell.execute_reply": "2023-11-21T04:12:44.656686Z"
    },
    "papermill": {
     "duration": 0.013684,
     "end_time": "2023-11-21T04:12:44.658539",
     "exception": false,
     "start_time": "2023-11-21T04:12:44.644855",
     "status": "completed"
    },
    "scrolled": false,
    "tags": []
   },
   "outputs": [
    {
     "name": "stdout",
     "output_type": "stream",
     "text": [
      "6  6 publications selected.\n"
     ]
    }
   ],
   "source": [
    "# Create the flat grid of the last N papers (fixed number regardless of dates)\n",
    "from itertools import islice \n",
    "\n",
    "npub = 6\n",
    "res = [k[0] for k in (islice(reversed(sorted(dates, key=lambda x: x[1])), 6))]\n",
    "print(len(res), f\" {npub} publications selected.\")\n",
    "\n",
    "grid = create_grid(npub)\n",
    "docs = ', '.join(['\"{0:s}\"'.format(k.split('/')[-1]) for k in res])\n",
    "slides = ', '.join([f'\"slide{k}\"' for k in range(1, npub + 1)])\n",
    "\n",
    "with open(\"grid_template.html\", \"r\") as tpl:\n",
    "    page = tpl.read()\n",
    "    page = page.replace(\"{%-- grid-content:s --%}\", grid)\\\n",
    "               .replace(\"{%-- suptitle:s --%}\",  f\"Last {npub:,d} papers\" )\\\n",
    "               .replace(\"{%-- docs:s --%}\", docs)\\\n",
    "               .replace(\"{%-- slides:s --%}\", slides)\n",
    "    \n",
    "# print(grid, docs, slides)\n",
    "# print(page)\n",
    "with open(\"_build/html/index_npub_grid.html\", 'w') as fout:\n",
    "    fout.write(page)"
   ]
  }
 ],
 "metadata": {
  "kernelspec": {
   "display_name": "Python 3 (ipykernel)",
   "language": "python",
   "name": "python3"
  },
  "language_info": {
   "codemirror_mode": {
    "name": "ipython",
    "version": 3
   },
   "file_extension": ".py",
   "mimetype": "text/x-python",
   "name": "python",
   "nbconvert_exporter": "python",
   "pygments_lexer": "ipython3",
   "version": "3.9.18"
  },
  "papermill": {
   "default_parameters": {},
   "duration": 178.925457,
   "end_time": "2023-11-21T04:12:44.980582",
   "environment_variables": {},
   "exception": null,
   "input_path": "MPIA daily digest.ipynb",
   "output_path": "log.ipynb",
   "parameters": {},
   "start_time": "2023-11-21T04:09:46.055125",
   "version": "2.5.0"
  },
  "vscode": {
   "interpreter": {
    "hash": "aee8b7b246df8f9039afb4144a1f6fd8d2ca17a180786b69acc140d282b71a49"
   }
  },
  "widgets": {
   "application/vnd.jupyter.widget-state+json": {
    "state": {
     "0047b6e93dcd40e9a965ffb387729936": {
      "model_module": "@jupyter-widgets/controls",
      "model_module_version": "2.0.0",
      "model_name": "HTMLStyleModel",
      "state": {
       "_model_module": "@jupyter-widgets/controls",
       "_model_module_version": "2.0.0",
       "_model_name": "HTMLStyleModel",
       "_view_count": null,
       "_view_module": "@jupyter-widgets/base",
       "_view_module_version": "2.0.0",
       "_view_name": "StyleView",
       "background": null,
       "description_width": "",
       "font_size": null,
       "text_color": null
      }
     },
     "103dd7577e2a4bb7bfa735170dd7a0af": {
      "model_module": "@jupyter-widgets/controls",
      "model_module_version": "2.0.0",
      "model_name": "FloatProgressModel",
      "state": {
       "_dom_classes": [],
       "_model_module": "@jupyter-widgets/controls",
       "_model_module_version": "2.0.0",
       "_model_name": "FloatProgressModel",
       "_view_count": null,
       "_view_module": "@jupyter-widgets/controls",
       "_view_module_version": "2.0.0",
       "_view_name": "ProgressView",
       "bar_style": "success",
       "description": "",
       "description_allow_html": false,
       "layout": "IPY_MODEL_bd00e9209c374561ae0558fa0af3dbbf",
       "max": 5.0,
       "min": 0.0,
       "orientation": "horizontal",
       "style": "IPY_MODEL_5814f46dae96445a8089c590a223dc01",
       "tabbable": null,
       "tooltip": null,
       "value": 5.0
      }
     },
     "3cd5b7d92bdc421f91aaaa26a7f052a4": {
      "model_module": "@jupyter-widgets/base",
      "model_module_version": "2.0.0",
      "model_name": "LayoutModel",
      "state": {
       "_model_module": "@jupyter-widgets/base",
       "_model_module_version": "2.0.0",
       "_model_name": "LayoutModel",
       "_view_count": null,
       "_view_module": "@jupyter-widgets/base",
       "_view_module_version": "2.0.0",
       "_view_name": "LayoutView",
       "align_content": null,
       "align_items": null,
       "align_self": null,
       "border_bottom": null,
       "border_left": null,
       "border_right": null,
       "border_top": null,
       "bottom": null,
       "display": null,
       "flex": null,
       "flex_flow": null,
       "grid_area": null,
       "grid_auto_columns": null,
       "grid_auto_flow": null,
       "grid_auto_rows": null,
       "grid_column": null,
       "grid_gap": null,
       "grid_row": null,
       "grid_template_areas": null,
       "grid_template_columns": null,
       "grid_template_rows": null,
       "height": null,
       "justify_content": null,
       "justify_items": null,
       "left": null,
       "margin": null,
       "max_height": null,
       "max_width": null,
       "min_height": null,
       "min_width": null,
       "object_fit": null,
       "object_position": null,
       "order": null,
       "overflow": null,
       "padding": null,
       "right": null,
       "top": null,
       "visibility": null,
       "width": null
      }
     },
     "4599f6ead09b416090f1221d4517c177": {
      "model_module": "@jupyter-widgets/controls",
      "model_module_version": "2.0.0",
      "model_name": "HBoxModel",
      "state": {
       "_dom_classes": [],
       "_model_module": "@jupyter-widgets/controls",
       "_model_module_version": "2.0.0",
       "_model_name": "HBoxModel",
       "_view_count": null,
       "_view_module": "@jupyter-widgets/controls",
       "_view_module_version": "2.0.0",
       "_view_name": "HBoxView",
       "box_style": "",
       "children": [
        "IPY_MODEL_cb32e47bcc504eed80bcb91d651038f2",
        "IPY_MODEL_103dd7577e2a4bb7bfa735170dd7a0af",
        "IPY_MODEL_9b90a5042feb473ead9edc1d2aabcf64"
       ],
       "layout": "IPY_MODEL_3cd5b7d92bdc421f91aaaa26a7f052a4",
       "tabbable": null,
       "tooltip": null
      }
     },
     "5814f46dae96445a8089c590a223dc01": {
      "model_module": "@jupyter-widgets/controls",
      "model_module_version": "2.0.0",
      "model_name": "ProgressStyleModel",
      "state": {
       "_model_module": "@jupyter-widgets/controls",
       "_model_module_version": "2.0.0",
       "_model_name": "ProgressStyleModel",
       "_view_count": null,
       "_view_module": "@jupyter-widgets/base",
       "_view_module_version": "2.0.0",
       "_view_name": "StyleView",
       "bar_color": null,
       "description_width": ""
      }
     },
     "9b90a5042feb473ead9edc1d2aabcf64": {
      "model_module": "@jupyter-widgets/controls",
      "model_module_version": "2.0.0",
      "model_name": "HTMLModel",
      "state": {
       "_dom_classes": [],
       "_model_module": "@jupyter-widgets/controls",
       "_model_module_version": "2.0.0",
       "_model_name": "HTMLModel",
       "_view_count": null,
       "_view_module": "@jupyter-widgets/controls",
       "_view_module_version": "2.0.0",
       "_view_name": "HTMLView",
       "description": "",
       "description_allow_html": false,
       "layout": "IPY_MODEL_dd85351680bc46bfa117cea353008678",
       "placeholder": "​",
       "style": "IPY_MODEL_0047b6e93dcd40e9a965ffb387729936",
       "tabbable": null,
       "tooltip": null,
       "value": " 5/5 [02:32&lt;00:00, 39.62s/it]"
      }
     },
     "a337d8a3359348cb8d2c825a7c515774": {
      "model_module": "@jupyter-widgets/base",
      "model_module_version": "2.0.0",
      "model_name": "LayoutModel",
      "state": {
       "_model_module": "@jupyter-widgets/base",
       "_model_module_version": "2.0.0",
       "_model_name": "LayoutModel",
       "_view_count": null,
       "_view_module": "@jupyter-widgets/base",
       "_view_module_version": "2.0.0",
       "_view_name": "LayoutView",
       "align_content": null,
       "align_items": null,
       "align_self": null,
       "border_bottom": null,
       "border_left": null,
       "border_right": null,
       "border_top": null,
       "bottom": null,
       "display": null,
       "flex": null,
       "flex_flow": null,
       "grid_area": null,
       "grid_auto_columns": null,
       "grid_auto_flow": null,
       "grid_auto_rows": null,
       "grid_column": null,
       "grid_gap": null,
       "grid_row": null,
       "grid_template_areas": null,
       "grid_template_columns": null,
       "grid_template_rows": null,
       "height": null,
       "justify_content": null,
       "justify_items": null,
       "left": null,
       "margin": null,
       "max_height": null,
       "max_width": null,
       "min_height": null,
       "min_width": null,
       "object_fit": null,
       "object_position": null,
       "order": null,
       "overflow": null,
       "padding": null,
       "right": null,
       "top": null,
       "visibility": null,
       "width": null
      }
     },
     "bd00e9209c374561ae0558fa0af3dbbf": {
      "model_module": "@jupyter-widgets/base",
      "model_module_version": "2.0.0",
      "model_name": "LayoutModel",
      "state": {
       "_model_module": "@jupyter-widgets/base",
       "_model_module_version": "2.0.0",
       "_model_name": "LayoutModel",
       "_view_count": null,
       "_view_module": "@jupyter-widgets/base",
       "_view_module_version": "2.0.0",
       "_view_name": "LayoutView",
       "align_content": null,
       "align_items": null,
       "align_self": null,
       "border_bottom": null,
       "border_left": null,
       "border_right": null,
       "border_top": null,
       "bottom": null,
       "display": null,
       "flex": null,
       "flex_flow": null,
       "grid_area": null,
       "grid_auto_columns": null,
       "grid_auto_flow": null,
       "grid_auto_rows": null,
       "grid_column": null,
       "grid_gap": null,
       "grid_row": null,
       "grid_template_areas": null,
       "grid_template_columns": null,
       "grid_template_rows": null,
       "height": null,
       "justify_content": null,
       "justify_items": null,
       "left": null,
       "margin": null,
       "max_height": null,
       "max_width": null,
       "min_height": null,
       "min_width": null,
       "object_fit": null,
       "object_position": null,
       "order": null,
       "overflow": null,
       "padding": null,
       "right": null,
       "top": null,
       "visibility": null,
       "width": null
      }
     },
     "cb32e47bcc504eed80bcb91d651038f2": {
      "model_module": "@jupyter-widgets/controls",
      "model_module_version": "2.0.0",
      "model_name": "HTMLModel",
      "state": {
       "_dom_classes": [],
       "_model_module": "@jupyter-widgets/controls",
       "_model_module_version": "2.0.0",
       "_model_name": "HTMLModel",
       "_view_count": null,
       "_view_module": "@jupyter-widgets/controls",
       "_view_module_version": "2.0.0",
       "_view_name": "HTMLView",
       "description": "",
       "description_allow_html": false,
       "layout": "IPY_MODEL_a337d8a3359348cb8d2c825a7c515774",
       "placeholder": "​",
       "style": "IPY_MODEL_f16869ec626a4fdaa61331538ac1938d",
       "tabbable": null,
       "tooltip": null,
       "value": "100%"
      }
     },
     "dd85351680bc46bfa117cea353008678": {
      "model_module": "@jupyter-widgets/base",
      "model_module_version": "2.0.0",
      "model_name": "LayoutModel",
      "state": {
       "_model_module": "@jupyter-widgets/base",
       "_model_module_version": "2.0.0",
       "_model_name": "LayoutModel",
       "_view_count": null,
       "_view_module": "@jupyter-widgets/base",
       "_view_module_version": "2.0.0",
       "_view_name": "LayoutView",
       "align_content": null,
       "align_items": null,
       "align_self": null,
       "border_bottom": null,
       "border_left": null,
       "border_right": null,
       "border_top": null,
       "bottom": null,
       "display": null,
       "flex": null,
       "flex_flow": null,
       "grid_area": null,
       "grid_auto_columns": null,
       "grid_auto_flow": null,
       "grid_auto_rows": null,
       "grid_column": null,
       "grid_gap": null,
       "grid_row": null,
       "grid_template_areas": null,
       "grid_template_columns": null,
       "grid_template_rows": null,
       "height": null,
       "justify_content": null,
       "justify_items": null,
       "left": null,
       "margin": null,
       "max_height": null,
       "max_width": null,
       "min_height": null,
       "min_width": null,
       "object_fit": null,
       "object_position": null,
       "order": null,
       "overflow": null,
       "padding": null,
       "right": null,
       "top": null,
       "visibility": null,
       "width": null
      }
     },
     "f16869ec626a4fdaa61331538ac1938d": {
      "model_module": "@jupyter-widgets/controls",
      "model_module_version": "2.0.0",
      "model_name": "HTMLStyleModel",
      "state": {
       "_model_module": "@jupyter-widgets/controls",
       "_model_module_version": "2.0.0",
       "_model_name": "HTMLStyleModel",
       "_view_count": null,
       "_view_module": "@jupyter-widgets/base",
       "_view_module_version": "2.0.0",
       "_view_name": "StyleView",
       "background": null,
       "description_width": "",
       "font_size": null,
       "text_color": null
      }
     }
    },
    "version_major": 2,
    "version_minor": 0
   }
  }
 },
 "nbformat": 4,
 "nbformat_minor": 5
}