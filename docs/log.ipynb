{
 "cells": [
  {
   "cell_type": "markdown",
   "id": "92bcb855",
   "metadata": {
    "papermill": {
     "duration": 0.003757,
     "end_time": "2025-10-30T04:12:34.912964",
     "exception": false,
     "start_time": "2025-10-30T04:12:34.909207",
     "status": "completed"
    },
    "tags": []
   },
   "source": [
    "# MPIA Arxiv on Deck 2\n",
    "\n",
    "Contains the steps to produce the paper extractions."
   ]
  },
  {
   "cell_type": "code",
   "execution_count": 1,
   "id": "3a0d6e11",
   "metadata": {
    "execution": {
     "iopub.execute_input": "2025-10-30T04:12:34.920259Z",
     "iopub.status.busy": "2025-10-30T04:12:34.920004Z",
     "iopub.status.idle": "2025-10-30T04:12:35.128882Z",
     "shell.execute_reply": "2025-10-30T04:12:35.128216Z"
    },
    "papermill": {
     "duration": 0.213995,
     "end_time": "2025-10-30T04:12:35.130209",
     "exception": false,
     "start_time": "2025-10-30T04:12:34.916214",
     "status": "completed"
    },
    "tags": []
   },
   "outputs": [],
   "source": [
    "# Imports\n",
    "import os\n",
    "from IPython.display import Markdown, display\n",
    "from tqdm.notebook import tqdm\n",
    "import warnings\n",
    "from PIL import Image \n",
    "import re\n",
    "\n",
    "# requires arxiv_on_deck_2\n",
    "\n",
    "from arxiv_on_deck_2.arxiv2 import (get_new_papers, \n",
    "                                    get_paper_from_identifier,\n",
    "                                    retrieve_document_source, \n",
    "                                    get_markdown_badge)\n",
    "from arxiv_on_deck_2 import (latex,\n",
    "                             latex_bib,\n",
    "                             mpia,\n",
    "                             highlight_authors_in_list)\n",
    "\n",
    "# Sometimes images are really big\n",
    "Image.MAX_IMAGE_PIXELS = 1000000000 "
   ]
  },
  {
   "cell_type": "code",
   "execution_count": 2,
   "id": "22aa9d44",
   "metadata": {
    "execution": {
     "iopub.execute_input": "2025-10-30T04:12:35.137428Z",
     "iopub.status.busy": "2025-10-30T04:12:35.137192Z",
     "iopub.status.idle": "2025-10-30T04:12:35.145183Z",
     "shell.execute_reply": "2025-10-30T04:12:35.144624Z"
    },
    "papermill": {
     "duration": 0.012657,
     "end_time": "2025-10-30T04:12:35.146161",
     "exception": false,
     "start_time": "2025-10-30T04:12:35.133504",
     "status": "completed"
    },
    "tags": []
   },
   "outputs": [],
   "source": [
    "# Some useful definitions.\n",
    "\n",
    "class AffiliationWarning(UserWarning):\n",
    "    pass\n",
    "\n",
    "class AffiliationError(RuntimeError):\n",
    "    pass\n",
    "\n",
    "def validation(source: str):\n",
    "    \"\"\"Raises error paper during parsing of source file\n",
    "    \n",
    "    Allows checks before parsing TeX code.\n",
    "    \n",
    "    Raises AffiliationWarning\n",
    "    \"\"\"\n",
    "    check = mpia.affiliation_verifications(source, verbose=True)\n",
    "    if check is not True:\n",
    "        raise AffiliationError(\"mpia.affiliation_verifications: \" + check)\n",
    "\n",
    "        \n",
    "warnings.simplefilter('always', AffiliationWarning)\n",
    "\n",
    "\n",
    "def get_markdown_qrcode(paper_id: str):\n",
    "    \"\"\" Generate a qrcode to the arxiv page using qrserver.com\n",
    "    \n",
    "    :param paper: Arxiv paper\n",
    "    :returns: markdown text\n",
    "    \"\"\"\n",
    "    url = r\"https://api.qrserver.com/v1/create-qr-code/?size=100x100&data=\"\n",
    "    txt = f\"\"\"<img src={url}\"https://arxiv.org/abs/{paper_id}\">\"\"\"\n",
    "    txt = '<div id=\"qrcode\">' + txt + '</div>'\n",
    "    return txt\n",
    "\n",
    "\n",
    "def clean_non_western_encoded_characters_commands(text: str) -> str:\n",
    "    \"\"\" Remove non-western encoded characters from a string\n",
    "    List may need to grow.\n",
    "    \n",
    "    :param text: the text to clean\n",
    "    :return: the cleaned text\n",
    "    \"\"\"\n",
    "    text = re.sub(r\"(\\\\begin{CJK}{UTF8}{gbsn})(.*?)(\\\\end{CJK})\", r\"\\2\", text)\n",
    "    return text\n",
    "\n",
    "\n",
    "def get_initials(name: str) -> str:\n",
    "    \"\"\" Get the short name, e.g., A.-B. FamName\n",
    "    :param name: full name\n",
    "    :returns: initials\n",
    "    \"\"\"\n",
    "    initials = []\n",
    "    # account for non western names often in ()\n",
    "    if '(' in name:\n",
    "        name = clean_non_western_encoded_characters_commands(name)\n",
    "        suffix = re.findall(r\"\\((.*?)\\)\", name)[0]\n",
    "        name = name.replace(f\"({suffix})\", '')\n",
    "    else:\n",
    "        suffix = ''\n",
    "    split = name.split()\n",
    "    for token in split[:-1]:\n",
    "        if '-' in token:\n",
    "            current = '-'.join([k[0] + '.' for k in token.split('-')])\n",
    "        else:\n",
    "            current = token[0] + '.'\n",
    "        initials.append(current)\n",
    "    initials.append(split[-1].strip())\n",
    "    if suffix:\n",
    "        initials.append(f\"({suffix})\")\n",
    "    return ' '.join(initials)"
   ]
  },
  {
   "cell_type": "markdown",
   "id": "14bd6310",
   "metadata": {
    "papermill": {
     "duration": 0.002894,
     "end_time": "2025-10-30T04:12:35.152086",
     "exception": false,
     "start_time": "2025-10-30T04:12:35.149192",
     "status": "completed"
    },
    "tags": []
   },
   "source": [
    "## get list of arxiv paper candidates\n",
    "\n",
    "We use the MPIA mitarbeiter list webpage from mpia.de to get author names\n",
    "We then get all new papers from Arxiv and match authors"
   ]
  },
  {
   "cell_type": "code",
   "execution_count": 3,
   "id": "7ea813a8",
   "metadata": {
    "execution": {
     "iopub.execute_input": "2025-10-30T04:12:35.158840Z",
     "iopub.status.busy": "2025-10-30T04:12:35.158617Z",
     "iopub.status.idle": "2025-10-30T04:12:57.315254Z",
     "shell.execute_reply": "2025-10-30T04:12:57.314501Z"
    },
    "papermill": {
     "duration": 22.16159,
     "end_time": "2025-10-30T04:12:57.316692",
     "exception": false,
     "start_time": "2025-10-30T04:12:35.155102",
     "status": "completed"
    },
    "tags": []
   },
   "outputs": [],
   "source": [
    "# deal with the author list and edge cases of people that cannot be consistent on their name  \n",
    "\n",
    "def filter_non_scientists(name: str) -> bool:\n",
    "    \"\"\" Loose filter on expected authorships\n",
    "\n",
    "    removing IT, administration, technical staff\n",
    "    :param name: name\n",
    "    :returns: False if name is not a scientist\n",
    "    \"\"\"\n",
    "    remove_list = ['Licht', 'Binroth', 'Witzel', 'Jordan',\n",
    "                   'Zähringer', 'Scheerer', 'Hoffmann', 'Düe',\n",
    "                   'Hellmich', 'Enkler-Scharpegge', 'Witte-Nguy',\n",
    "                   'Dehen', 'Beckmann', 'Jager', 'Jäger'\n",
    "                  ]\n",
    "\n",
    "    for k in remove_list:\n",
    "        if k in name:\n",
    "            return False\n",
    "    return True\n",
    "\n",
    "def add_author_to_list(author_list: list) -> list:\n",
    "    \"\"\" Add author to list if not already in list\n",
    "    \n",
    "    :param author: author name\n",
    "    :param author_list: list of authors\n",
    "    :returns: updated list of authors\n",
    "    \"\"\"\n",
    "    add_list = ['T. Henning']\n",
    "\n",
    "    for author in add_list:\n",
    "        if author not in author_list:\n",
    "            author_list.append(author)\n",
    "    return author_list\n",
    "\n",
    "# get list from MPIA website\n",
    "# filter for non-scientists (mpia.get_mpia_mitarbeiter_list() does some filtering)\n",
    "mpia_authors = [k[1] for k in mpia.get_mpia_mitarbeiter_list() if filter_non_scientists(k[1])]\n",
    "# add some missing author because of inconsistencies in their MPIA name and author name on papers\n",
    "mpia_authors = add_author_to_list(mpia_authors)"
   ]
  },
  {
   "cell_type": "code",
   "execution_count": 4,
   "id": "2645e73a",
   "metadata": {
    "execution": {
     "iopub.execute_input": "2025-10-30T04:12:57.324025Z",
     "iopub.status.busy": "2025-10-30T04:12:57.323774Z",
     "iopub.status.idle": "2025-10-30T04:12:58.203547Z",
     "shell.execute_reply": "2025-10-30T04:12:58.202805Z"
    },
    "papermill": {
     "duration": 0.884533,
     "end_time": "2025-10-30T04:12:58.204565",
     "exception": false,
     "start_time": "2025-10-30T04:12:57.320032",
     "status": "completed"
    },
    "tags": []
   },
   "outputs": [
    {
     "name": "stdout",
     "output_type": "stream",
     "text": [
      "K. El-Badry  ->  K. El-Badry  |  ['K. El-Badry']\n",
      "H. Jiang  ->  H. Jiang  |  ['H. Jiang']\n",
      "A. d. Graaff  ->  A. D. Graaff  |  ['A. D. Graaff']\n",
      "F. Xu  ->  F. Xu  |  ['F. Xu']\n",
      "H. Beuther  ->  H. Beuther  |  ['H. Beuther']\n",
      "X. Zhang  ->  X. Zhang  |  ['X. Zhang']\n",
      "Y. Wang  ->  Y. Wang  |  ['Y. Wang']\n",
      "M. Kürster  ->  M. Kürster  |  ['M. Kürster']\n"
     ]
    },
    {
     "name": "stdout",
     "output_type": "stream",
     "text": [
      "H. Beuther  ->  H. Beuther  |  ['H. Beuther']\n",
      "C. Gieser  ->  C. Gieser  |  ['C. Gieser']\n",
      "S. Jiao  ->  S. Jiao  |  ['S. Jiao']\n",
      "M. Wells  ->  M. Wells  |  ['M. Wells']\n",
      "J. Wolf  ->  D. J. Wolf  |  ['J. Wolf']\n",
      "S. Belladitta  ->  S. Belladitta  |  ['S. Belladitta']\n",
      "Arxiv has 75 new papers today\n",
      "          9 with possible author matches\n"
     ]
    }
   ],
   "source": [
    "new_papers = get_new_papers()\n",
    "# add manual references\n",
    "add_paper_refs = []\n",
    "new_papers.extend([get_paper_from_identifier(k) for k in add_paper_refs])\n",
    "\n",
    "def robust_call(fn, value, *args, **kwargs):\n",
    "    try:\n",
    "        return fn(value, *args, **kwargs)\n",
    "    except Exception:\n",
    "        return value\n",
    "\n",
    "candidates = []\n",
    "for paperk in new_papers:\n",
    "    # Check author list with their initials\n",
    "    normed_author_list = [robust_call(mpia.get_initials, k) for k in paperk['authors']]\n",
    "    hl_authors = highlight_authors_in_list(normed_author_list, mpia_authors, verbose=True)\n",
    "    matches = [(hl, orig) for hl, orig in zip(hl_authors, paperk['authors']) if 'mark' in hl]\n",
    "    paperk['authors'] = hl_authors\n",
    "    if matches:\n",
    "        # only select paper if an author matched our list\n",
    "        candidates.append(paperk)\n",
    "print(\"\"\"Arxiv has {0:,d} new papers today\"\"\".format(len(new_papers)))        \n",
    "print(\"\"\"          {0:,d} with possible author matches\"\"\".format(len(candidates)))"
   ]
  },
  {
   "cell_type": "markdown",
   "id": "3543b34a",
   "metadata": {
    "papermill": {
     "duration": 0.003111,
     "end_time": "2025-10-30T04:12:58.211219",
     "exception": false,
     "start_time": "2025-10-30T04:12:58.208108",
     "status": "completed"
    },
    "tags": []
   },
   "source": [
    "# Parse sources and generate relevant outputs\n",
    "\n",
    "From the candidates, we do the following steps:\n",
    "* get their tarball from ArXiv (and extract data)\n",
    "* find the main .tex file: find one with \\documentclass{...} (sometimes it's non trivial)\n",
    "* Check affiliations with :func:`validation`, which uses :func:`mpia.affiliation_verifications`\n",
    "* If passing the affiliations: we parse the .tex source\n",
    "   * inject sub-documents into the main (flatten the main document)\n",
    "   * parse structure, extract information (title, abstract, authors, figures...)\n",
    "   * handles `\\graphicspath` if provided\n",
    "* Generate the .md document."
   ]
  },
  {
   "cell_type": "code",
   "execution_count": 5,
   "id": "9576b79e",
   "metadata": {
    "execution": {
     "iopub.execute_input": "2025-10-30T04:12:58.218117Z",
     "iopub.status.busy": "2025-10-30T04:12:58.217910Z",
     "iopub.status.idle": "2025-10-30T04:14:40.378790Z",
     "shell.execute_reply": "2025-10-30T04:14:40.377971Z"
    },
    "papermill": {
     "duration": 102.172643,
     "end_time": "2025-10-30T04:14:40.386920",
     "exception": false,
     "start_time": "2025-10-30T04:12:58.214277",
     "status": "completed"
    },
    "scrolled": false,
    "tags": []
   },
   "outputs": [
    {
     "data": {
      "application/vnd.jupyter.widget-view+json": {
       "model_id": "b1bcb95b1e984a2eaf0913cee5c02507",
       "version_major": 2,
       "version_minor": 0
      },
      "text/plain": [
       "  0%|          | 0/9 [00:00<?, ?it/s]"
      ]
     },
     "metadata": {},
     "output_type": "display_data"
    },
    {
     "name": "stdout",
     "output_type": "stream",
     "text": [
      "Retrieving document from  https://arxiv.org/e-print/2510.24877\n"
     ]
    },
    {
     "name": "stdout",
     "output_type": "stream",
     "text": [
      "extracting tarball to tmp_2510.24877..."
     ]
    },
    {
     "name": "stdout",
     "output_type": "stream",
     "text": [
      " done.\n",
      "Retrieving document from  https://arxiv.org/e-print/2510.24886\n"
     ]
    },
    {
     "name": "stdout",
     "output_type": "stream",
     "text": [
      "extracting tarball to tmp_2510.24886... done.\n",
      "  0: tmp_2510.24886/natbib.tex, 96 lines\n",
      "  1: tmp_2510.24886/aassymbols.tex, 579 lines\n",
      "  2: tmp_2510.24886/natnotes.tex, 332 lines\n",
      "  3: tmp_2510.24886/main.tex, 869 lines\n",
      "Retrieving document from  https://arxiv.org/e-print/2510.25024\n"
     ]
    },
    {
     "name": "stderr",
     "output_type": "stream",
     "text": [
      "/opt/hostedtoolcache/Python/3.9.23/x64/lib/python3.9/site-packages/IPython/core/interactiveshell.py:3550: LatexWarning: Multiple tex files.\n",
      "\n",
      "  exec(code_obj, self.user_global_ns, self.user_ns)\n",
      "/opt/hostedtoolcache/Python/3.9.23/x64/lib/python3.9/site-packages/IPython/core/interactiveshell.py:3550: LatexWarning: Found 4 candidates with documentclass definition.\n",
      "  exec(code_obj, self.user_global_ns, self.user_ns)\n",
      "/opt/hostedtoolcache/Python/3.9.23/x64/lib/python3.9/site-packages/IPython/core/interactiveshell.py:3550: LatexWarning: Assuming tmp_2510.24886/main.tex as main document.\n",
      "  exec(code_obj, self.user_global_ns, self.user_ns)\n"
     ]
    },
    {
     "name": "stdout",
     "output_type": "stream",
     "text": [
      "extracting tarball to tmp_2510.25024..."
     ]
    },
    {
     "name": "stdout",
     "output_type": "stream",
     "text": [
      " done.\n"
     ]
    },
    {
     "name": "stderr",
     "output_type": "stream",
     "text": [
      "/tmp/ipykernel_3392/2822249172.py:52: LatexWarning: 2510.25024 did not run properly\n",
      "list index out of range\n",
      "  warnings.warn(latex.LatexWarning(f\"{paper_id:s} did not run properly\\n\" +\n"
     ]
    },
    {
     "name": "stdout",
     "output_type": "stream",
     "text": [
      "Retrieving document from  https://arxiv.org/e-print/2510.25078\n",
      "extracting tarball to tmp_2510.25078..."
     ]
    },
    {
     "name": "stdout",
     "output_type": "stream",
     "text": [
      " done.\n"
     ]
    },
    {
     "name": "stdout",
     "output_type": "stream",
     "text": [
      "H. Beuther  ->  H. Beuther  |  ['H. Beuther']\n"
     ]
    },
    {
     "name": "stderr",
     "output_type": "stream",
     "text": [
      "/opt/hostedtoolcache/Python/3.9.23/x64/lib/python3.9/site-packages/arxiv_on_deck_2/latex.py:132: LatexWarning: attempting recovering figure mom1_G35.pdf\n",
      "  warnings.warn(LatexWarning(f'attempting recovering figure {image}'))\n",
      "/opt/hostedtoolcache/Python/3.9.23/x64/lib/python3.9/site-packages/arxiv_on_deck_2/latex.py:707: LatexWarning: Could not find graphic \\includegraphics{mom1_G35.pdf}\n",
      "  warnings.warn(LatexWarning(f\"Could not find graphic {k}\"))\n"
     ]
    },
    {
     "name": "stdout",
     "output_type": "stream",
     "text": [
      "Issues with the citations\n",
      "list index out of range\n",
      "Retrieving document from  https://arxiv.org/e-print/2510.25097\n",
      "extracting tarball to tmp_2510.25097... done.\n",
      "Retrieving document from  https://arxiv.org/e-print/2510.25247\n"
     ]
    },
    {
     "name": "stdout",
     "output_type": "stream",
     "text": [
      "extracting tarball to tmp_2510.25247... done.\n",
      "Retrieving document from  https://arxiv.org/e-print/2510.25334\n"
     ]
    },
    {
     "name": "stdout",
     "output_type": "stream",
     "text": [
      "extracting tarball to tmp_2510.25334... done.\n"
     ]
    },
    {
     "name": "stderr",
     "output_type": "stream",
     "text": [
      "/opt/hostedtoolcache/Python/3.9.23/x64/lib/python3.9/site-packages/IPython/core/interactiveshell.py:3550: LatexWarning: Multiple tex files.\n",
      "\n",
      "  exec(code_obj, self.user_global_ns, self.user_ns)\n",
      "/opt/hostedtoolcache/Python/3.9.23/x64/lib/python3.9/site-packages/IPython/core/interactiveshell.py:3550: LatexWarning: Found documentclass in tmp_2510.25334/CRX_main_ALL.tex\n",
      "\n",
      "  exec(code_obj, self.user_global_ns, self.user_ns)\n",
      "/opt/hostedtoolcache/Python/3.9.23/x64/lib/python3.9/site-packages/arxiv_on_deck_2/latex.py:414: LatexWarning: Latex injecting: 'TableB1' from 'tmp_2510.25334/TableB1.tex'\n",
      "  warnings.warn(LatexWarning(f\"Latex injecting: '{ext}' from '{subsource}'\"))\n"
     ]
    },
    {
     "name": "stderr",
     "output_type": "stream",
     "text": [
      "/opt/hostedtoolcache/Python/3.9.23/x64/lib/python3.9/site-packages/arxiv_on_deck_2/latex.py:488: LatexWarning: Error parsing the document directly. Trying to recover.\n",
      "  warnings.warn(LatexWarning(f\"Error parsing the document directly. Trying to recover.\"))\n"
     ]
    },
    {
     "name": "stdout",
     "output_type": "stream",
     "text": [
      "✘ → 0:header\n",
      "  ↳ 6787:\\section{Introduction}\n",
      "✔ → 6787:\\section{Introduction}\n",
      "  ↳ 12525:\\section{CRX: dependence of RVs with wavelength}\n"
     ]
    },
    {
     "name": "stdout",
     "output_type": "stream",
     "text": [
      "✔ → 12525:\\section{CRX: dependence of RVs with wavelength}\n",
      "  ↳ 27038:\\section{Data}\n"
     ]
    },
    {
     "name": "stdout",
     "output_type": "stream",
     "text": [
      "✔ → 27038:\\section{Data}\n",
      "  ↳ 35719:\\section{Results: CRX: gradient and length}\n"
     ]
    },
    {
     "name": "stdout",
     "output_type": "stream",
     "text": [
      "✔ → 35719:\\section{Results: CRX: gradient and length}\n",
      "  ↳ 55646:\\section{Results: Removing stellar activity from RVs using CRX}\n",
      "✔ → 55646:\\section{Results: Removing stellar activity from RVs using CRX}\n",
      "  ↳ 61056:\\section{Discussion}\n"
     ]
    },
    {
     "name": "stdout",
     "output_type": "stream",
     "text": [
      "✔ → 61056:\\section{Discussion}\n",
      "  ↳ 82020:\\section{Conclusions}\n",
      "✔ → 82020:\\section{Conclusions}\n",
      "  ↳ 83115:\\section{Data availability}\n",
      "✔ → 83115:\\section{Data availability}\n",
      "  ↳ 85656:\\begin{appendix}\n",
      "✔ → 85656:\\begin{appendix}\n",
      "  ↳ 85673:\\section{Supplementary information}\n"
     ]
    },
    {
     "name": "stdout",
     "output_type": "stream",
     "text": [
      "✔ → 85673:\\section{Supplementary information}\n",
      "  ↳ 95145:\\section{Stellar Parameters}\n",
      "✔ → 95145:\\section{Stellar Parameters}\n",
      "  ↳ 97424:end\n"
     ]
    },
    {
     "name": "stderr",
     "output_type": "stream",
     "text": [
      "/tmp/ipykernel_3392/2822249172.py:52: LatexWarning: 2510.25334 did not run properly\n",
      "list index out of range\n",
      "  warnings.warn(latex.LatexWarning(f\"{paper_id:s} did not run properly\\n\" +\n"
     ]
    },
    {
     "name": "stdout",
     "output_type": "stream",
     "text": [
      "Retrieving document from  https://arxiv.org/e-print/2510.25538\n",
      "extracting tarball to tmp_2510.25538... done.\n"
     ]
    },
    {
     "name": "stdout",
     "output_type": "stream",
     "text": [
      "H. Beuther  ->  H. Beuther  |  ['H. Beuther']\n",
      "C. Gieser  ->  C. Gieser  |  ['C. Gieser']\n",
      "S. Jiao  ->  S. Jiao  |  ['S. Jiao']\n",
      "M. Wells  ->  M. Wells  |  ['M. Wells']\n"
     ]
    },
    {
     "name": "stdout",
     "output_type": "stream",
     "text": [
      "Found 47 bibliographic references in tmp_2510.25538/AA56074-25.bbl.\n",
      "Retrieving document from  https://arxiv.org/e-print/2510.25589\n"
     ]
    },
    {
     "name": "stdout",
     "output_type": "stream",
     "text": [
      "extracting tarball to tmp_2510.25589..."
     ]
    },
    {
     "name": "stdout",
     "output_type": "stream",
     "text": [
      " done.\n"
     ]
    },
    {
     "name": "stdout",
     "output_type": "stream",
     "text": [
      "J. Wolf  ->  D. J. Wolf  |  ['J. Wolf']\n",
      "S. Belladitta  ->  S. Belladitta  |  ['S. Belladitta']\n"
     ]
    },
    {
     "name": "stderr",
     "output_type": "stream",
     "text": [
      "/opt/hostedtoolcache/Python/3.9.23/x64/lib/python3.9/site-packages/arxiv_on_deck_2/latex.py:132: LatexWarning: attempting recovering figure blazar_erass1_angsep_corrected\n",
      "  warnings.warn(LatexWarning(f'attempting recovering figure {image}'))\n",
      "/opt/hostedtoolcache/Python/3.9.23/x64/lib/python3.9/site-packages/arxiv_on_deck_2/latex.py:137: LatexWarning: Recovered figure blazar_erass1_angsep_corrected as tmp_2510.25589/./plots/blazar_erass1_angsep_corrected.pdf\n",
      "  warnings.warn(LatexWarning(f'Recovered figure {image} as {fname}'))\n"
     ]
    },
    {
     "name": "stderr",
     "output_type": "stream",
     "text": [
      "/opt/hostedtoolcache/Python/3.9.23/x64/lib/python3.9/site-packages/arxiv_on_deck_2/latex.py:132: LatexWarning: attempting recovering figure blazar_erass1_map_paper\n",
      "  warnings.warn(LatexWarning(f'attempting recovering figure {image}'))\n",
      "/opt/hostedtoolcache/Python/3.9.23/x64/lib/python3.9/site-packages/arxiv_on_deck_2/latex.py:137: LatexWarning: Recovered figure blazar_erass1_map_paper as tmp_2510.25589/./plots/blazar_erass1_map_paper.pdf\n",
      "  warnings.warn(LatexWarning(f'Recovered figure {image} as {fname}'))\n"
     ]
    },
    {
     "name": "stderr",
     "output_type": "stream",
     "text": [
      "/opt/hostedtoolcache/Python/3.9.23/x64/lib/python3.9/site-packages/arxiv_on_deck_2/latex.py:132: LatexWarning: attempting recovering figure erosita_sensitivity_minflux_lin\n",
      "  warnings.warn(LatexWarning(f'attempting recovering figure {image}'))\n",
      "/opt/hostedtoolcache/Python/3.9.23/x64/lib/python3.9/site-packages/arxiv_on_deck_2/latex.py:137: LatexWarning: Recovered figure erosita_sensitivity_minflux_lin as tmp_2510.25589/./plots/erosita_sensitivity_minflux_lin.pdf\n",
      "  warnings.warn(LatexWarning(f'Recovered figure {image} as {fname}'))\n"
     ]
    },
    {
     "name": "stderr",
     "output_type": "stream",
     "text": [
      "/opt/hostedtoolcache/Python/3.9.23/x64/lib/python3.9/site-packages/arxiv_on_deck_2/latex.py:132: LatexWarning: attempting recovering figure comp_specs\n",
      "  warnings.warn(LatexWarning(f'attempting recovering figure {image}'))\n",
      "/opt/hostedtoolcache/Python/3.9.23/x64/lib/python3.9/site-packages/arxiv_on_deck_2/latex.py:137: LatexWarning: Recovered figure comp_specs as tmp_2510.25589/./plots/comp_specs.pdf\n",
      "  warnings.warn(LatexWarning(f'Recovered figure {image} as {fname}'))\n"
     ]
    },
    {
     "name": "stderr",
     "output_type": "stream",
     "text": [
      "/opt/hostedtoolcache/Python/3.9.23/x64/lib/python3.9/site-packages/arxiv_on_deck_2/latex.py:132: LatexWarning: attempting recovering figure counts_hist_all\n",
      "  warnings.warn(LatexWarning(f'attempting recovering figure {image}'))\n",
      "/opt/hostedtoolcache/Python/3.9.23/x64/lib/python3.9/site-packages/arxiv_on_deck_2/latex.py:137: LatexWarning: Recovered figure counts_hist_all as tmp_2510.25589/./plots/counts_hist_all.pdf\n",
      "  warnings.warn(LatexWarning(f'Recovered figure {image} as {fname}'))\n"
     ]
    },
    {
     "name": "stderr",
     "output_type": "stream",
     "text": [
      "/opt/hostedtoolcache/Python/3.9.23/x64/lib/python3.9/site-packages/arxiv_on_deck_2/latex.py:132: LatexWarning: attempting recovering figure flux_hist_all\n",
      "  warnings.warn(LatexWarning(f'attempting recovering figure {image}'))\n",
      "/opt/hostedtoolcache/Python/3.9.23/x64/lib/python3.9/site-packages/arxiv_on_deck_2/latex.py:137: LatexWarning: Recovered figure flux_hist_all as tmp_2510.25589/./plots/flux_hist_all.pdf\n",
      "  warnings.warn(LatexWarning(f'Recovered figure {image} as {fname}'))\n"
     ]
    },
    {
     "name": "stderr",
     "output_type": "stream",
     "text": [
      "/opt/hostedtoolcache/Python/3.9.23/x64/lib/python3.9/site-packages/arxiv_on_deck_2/latex.py:132: LatexWarning: attempting recovering figure z_hist\n",
      "  warnings.warn(LatexWarning(f'attempting recovering figure {image}'))\n",
      "/opt/hostedtoolcache/Python/3.9.23/x64/lib/python3.9/site-packages/arxiv_on_deck_2/latex.py:137: LatexWarning: Recovered figure z_hist as tmp_2510.25589/./plots/z_hist.pdf\n",
      "  warnings.warn(LatexWarning(f'Recovered figure {image} as {fname}'))\n"
     ]
    },
    {
     "name": "stderr",
     "output_type": "stream",
     "text": [
      "/opt/hostedtoolcache/Python/3.9.23/x64/lib/python3.9/site-packages/arxiv_on_deck_2/latex.py:132: LatexWarning: attempting recovering figure lum_z_log\n",
      "  warnings.warn(LatexWarning(f'attempting recovering figure {image}'))\n",
      "/opt/hostedtoolcache/Python/3.9.23/x64/lib/python3.9/site-packages/arxiv_on_deck_2/latex.py:137: LatexWarning: Recovered figure lum_z_log as tmp_2510.25589/./plots/lum_z_log.pdf\n",
      "  warnings.warn(LatexWarning(f'Recovered figure {image} as {fname}'))\n"
     ]
    },
    {
     "name": "stderr",
     "output_type": "stream",
     "text": [
      "/opt/hostedtoolcache/Python/3.9.23/x64/lib/python3.9/site-packages/arxiv_on_deck_2/latex.py:132: LatexWarning: attempting recovering figure lum_hist\n",
      "  warnings.warn(LatexWarning(f'attempting recovering figure {image}'))\n",
      "/opt/hostedtoolcache/Python/3.9.23/x64/lib/python3.9/site-packages/arxiv_on_deck_2/latex.py:137: LatexWarning: Recovered figure lum_hist as tmp_2510.25589/./plots/lum_hist.pdf\n",
      "  warnings.warn(LatexWarning(f'Recovered figure {image} as {fname}'))\n"
     ]
    },
    {
     "name": "stderr",
     "output_type": "stream",
     "text": [
      "/opt/hostedtoolcache/Python/3.9.23/x64/lib/python3.9/site-packages/arxiv_on_deck_2/latex.py:132: LatexWarning: attempting recovering figure HR_scatterplots_combined_mincounts50_all_in_bkg\n",
      "  warnings.warn(LatexWarning(f'attempting recovering figure {image}'))\n",
      "/opt/hostedtoolcache/Python/3.9.23/x64/lib/python3.9/site-packages/arxiv_on_deck_2/latex.py:137: LatexWarning: Recovered figure HR_scatterplots_combined_mincounts50_all_in_bkg as tmp_2510.25589/./plots/HR_scatterplots_combined_mincounts50_all_in_bkg.pdf\n",
      "  warnings.warn(LatexWarning(f'Recovered figure {image} as {fname}'))\n"
     ]
    },
    {
     "name": "stderr",
     "output_type": "stream",
     "text": [
      "/opt/hostedtoolcache/Python/3.9.23/x64/lib/python3.9/site-packages/arxiv_on_deck_2/latex.py:132: LatexWarning: attempting recovering figure gamma_master_gaus\n",
      "  warnings.warn(LatexWarning(f'attempting recovering figure {image}'))\n",
      "/opt/hostedtoolcache/Python/3.9.23/x64/lib/python3.9/site-packages/arxiv_on_deck_2/latex.py:137: LatexWarning: Recovered figure gamma_master_gaus as tmp_2510.25589/./plots/gamma_master_gaus.pdf\n",
      "  warnings.warn(LatexWarning(f'Recovered figure {image} as {fname}'))\n"
     ]
    },
    {
     "name": "stderr",
     "output_type": "stream",
     "text": [
      "/opt/hostedtoolcache/Python/3.9.23/x64/lib/python3.9/site-packages/arxiv_on_deck_2/latex.py:132: LatexWarning: attempting recovering figure eROSITA_vs_OUSXB_flux\n",
      "  warnings.warn(LatexWarning(f'attempting recovering figure {image}'))\n",
      "/opt/hostedtoolcache/Python/3.9.23/x64/lib/python3.9/site-packages/arxiv_on_deck_2/latex.py:137: LatexWarning: Recovered figure eROSITA_vs_OUSXB_flux as tmp_2510.25589/./plots/eROSITA_vs_OUSXB_flux.pdf\n",
      "  warnings.warn(LatexWarning(f'Recovered figure {image} as {fname}'))\n"
     ]
    },
    {
     "name": "stderr",
     "output_type": "stream",
     "text": [
      "/opt/hostedtoolcache/Python/3.9.23/x64/lib/python3.9/site-packages/arxiv_on_deck_2/latex.py:132: LatexWarning: attempting recovering figure eROSITA_vs_OUSXB_gamma\n",
      "  warnings.warn(LatexWarning(f'attempting recovering figure {image}'))\n",
      "/opt/hostedtoolcache/Python/3.9.23/x64/lib/python3.9/site-packages/arxiv_on_deck_2/latex.py:137: LatexWarning: Recovered figure eROSITA_vs_OUSXB_gamma as tmp_2510.25589/./plots/eROSITA_vs_OUSXB_gamma.pdf\n",
      "  warnings.warn(LatexWarning(f'Recovered figure {image} as {fname}'))\n"
     ]
    },
    {
     "name": "stderr",
     "output_type": "stream",
     "text": [
      "/opt/hostedtoolcache/Python/3.9.23/x64/lib/python3.9/site-packages/arxiv_on_deck_2/latex.py:132: LatexWarning: attempting recovering figure eRO_LAT\n",
      "  warnings.warn(LatexWarning(f'attempting recovering figure {image}'))\n",
      "/opt/hostedtoolcache/Python/3.9.23/x64/lib/python3.9/site-packages/arxiv_on_deck_2/latex.py:137: LatexWarning: Recovered figure eRO_LAT as tmp_2510.25589/./plots/eRO_LAT.pdf\n",
      "  warnings.warn(LatexWarning(f'Recovered figure {image} as {fname}'))\n"
     ]
    },
    {
     "name": "stderr",
     "output_type": "stream",
     "text": [
      "/opt/hostedtoolcache/Python/3.9.23/x64/lib/python3.9/site-packages/arxiv_on_deck_2/latex.py:132: LatexWarning: attempting recovering figure eROSITA_vs_LAT_gamma\n",
      "  warnings.warn(LatexWarning(f'attempting recovering figure {image}'))\n",
      "/opt/hostedtoolcache/Python/3.9.23/x64/lib/python3.9/site-packages/arxiv_on_deck_2/latex.py:137: LatexWarning: Recovered figure eROSITA_vs_LAT_gamma as tmp_2510.25589/./plots/eROSITA_vs_LAT_gamma.pdf\n",
      "  warnings.warn(LatexWarning(f'Recovered figure {image} as {fname}'))\n"
     ]
    },
    {
     "name": "stderr",
     "output_type": "stream",
     "text": [
      "/opt/hostedtoolcache/Python/3.9.23/x64/lib/python3.9/site-packages/arxiv_on_deck_2/latex.py:132: LatexWarning: attempting recovering figure eRO_Radio\n",
      "  warnings.warn(LatexWarning(f'attempting recovering figure {image}'))\n",
      "/opt/hostedtoolcache/Python/3.9.23/x64/lib/python3.9/site-packages/arxiv_on_deck_2/latex.py:137: LatexWarning: Recovered figure eRO_Radio as tmp_2510.25589/./plots/eRO_Radio.pdf\n",
      "  warnings.warn(LatexWarning(f'Recovered figure {image} as {fname}'))\n"
     ]
    },
    {
     "name": "stderr",
     "output_type": "stream",
     "text": [
      "/opt/hostedtoolcache/Python/3.9.23/x64/lib/python3.9/site-packages/arxiv_on_deck_2/latex.py:132: LatexWarning: attempting recovering figure wise_cols\n",
      "  warnings.warn(LatexWarning(f'attempting recovering figure {image}'))\n",
      "/opt/hostedtoolcache/Python/3.9.23/x64/lib/python3.9/site-packages/arxiv_on_deck_2/latex.py:137: LatexWarning: Recovered figure wise_cols as tmp_2510.25589/./plots/wise_cols.pdf\n",
      "  warnings.warn(LatexWarning(f'Recovered figure {image} as {fname}'))\n"
     ]
    },
    {
     "name": "stderr",
     "output_type": "stream",
     "text": [
      "/opt/hostedtoolcache/Python/3.9.23/x64/lib/python3.9/site-packages/arxiv_on_deck_2/latex.py:132: LatexWarning: attempting recovering figure alpha_master_scatter_mod\n",
      "  warnings.warn(LatexWarning(f'attempting recovering figure {image}'))\n",
      "/opt/hostedtoolcache/Python/3.9.23/x64/lib/python3.9/site-packages/arxiv_on_deck_2/latex.py:137: LatexWarning: Recovered figure alpha_master_scatter_mod as tmp_2510.25589/./plots/alpha_master_scatter_mod.pdf\n",
      "  warnings.warn(LatexWarning(f'Recovered figure {image} as {fname}'))\n"
     ]
    },
    {
     "name": "stderr",
     "output_type": "stream",
     "text": [
      "/opt/hostedtoolcache/Python/3.9.23/x64/lib/python3.9/site-packages/arxiv_on_deck_2/latex.py:132: LatexWarning: attempting recovering figure ul_lum_z_log\n",
      "  warnings.warn(LatexWarning(f'attempting recovering figure {image}'))\n",
      "/opt/hostedtoolcache/Python/3.9.23/x64/lib/python3.9/site-packages/arxiv_on_deck_2/latex.py:137: LatexWarning: Recovered figure ul_lum_z_log as tmp_2510.25589/./plots/ul_lum_z_log.pdf\n",
      "  warnings.warn(LatexWarning(f'Recovered figure {image} as {fname}'))\n"
     ]
    },
    {
     "name": "stderr",
     "output_type": "stream",
     "text": [
      "/opt/hostedtoolcache/Python/3.9.23/x64/lib/python3.9/site-packages/arxiv_on_deck_2/latex.py:132: LatexWarning: attempting recovering figure gamma_xray_ul\n",
      "  warnings.warn(LatexWarning(f'attempting recovering figure {image}'))\n",
      "/opt/hostedtoolcache/Python/3.9.23/x64/lib/python3.9/site-packages/arxiv_on_deck_2/latex.py:137: LatexWarning: Recovered figure gamma_xray_ul as tmp_2510.25589/./plots/gamma_xray_ul.pdf\n",
      "  warnings.warn(LatexWarning(f'Recovered figure {image} as {fname}'))\n"
     ]
    },
    {
     "name": "stderr",
     "output_type": "stream",
     "text": [
      "/opt/hostedtoolcache/Python/3.9.23/x64/lib/python3.9/site-packages/arxiv_on_deck_2/latex.py:132: LatexWarning: attempting recovering figure all_sky_secure_map\n",
      "  warnings.warn(LatexWarning(f'attempting recovering figure {image}'))\n",
      "/opt/hostedtoolcache/Python/3.9.23/x64/lib/python3.9/site-packages/arxiv_on_deck_2/latex.py:137: LatexWarning: Recovered figure all_sky_secure_map as tmp_2510.25589/./plots/all_sky_secure_map.pdf\n",
      "  warnings.warn(LatexWarning(f'Recovered figure {image} as {fname}'))\n"
     ]
    },
    {
     "name": "stderr",
     "output_type": "stream",
     "text": [
      "/opt/hostedtoolcache/Python/3.9.23/x64/lib/python3.9/site-packages/arxiv_on_deck_2/latex.py:132: LatexWarning: attempting recovering figure blazar_gamma_flux\n",
      "  warnings.warn(LatexWarning(f'attempting recovering figure {image}'))\n",
      "/opt/hostedtoolcache/Python/3.9.23/x64/lib/python3.9/site-packages/arxiv_on_deck_2/latex.py:137: LatexWarning: Recovered figure blazar_gamma_flux as tmp_2510.25589/./plots/blazar_gamma_flux.pdf\n",
      "  warnings.warn(LatexWarning(f'Recovered figure {image} as {fname}'))\n"
     ]
    },
    {
     "name": "stderr",
     "output_type": "stream",
     "text": [
      "/opt/hostedtoolcache/Python/3.9.23/x64/lib/python3.9/site-packages/arxiv_on_deck_2/latex.py:132: LatexWarning: attempting recovering figure logn_logs_fin\n",
      "  warnings.warn(LatexWarning(f'attempting recovering figure {image}'))\n",
      "/opt/hostedtoolcache/Python/3.9.23/x64/lib/python3.9/site-packages/arxiv_on_deck_2/latex.py:137: LatexWarning: Recovered figure logn_logs_fin as tmp_2510.25589/./plots/logn_logs_fin.pdf\n",
      "  warnings.warn(LatexWarning(f'Recovered figure {image} as {fname}'))\n"
     ]
    },
    {
     "name": "stderr",
     "output_type": "stream",
     "text": [
      "/opt/hostedtoolcache/Python/3.9.23/x64/lib/python3.9/site-packages/arxiv_on_deck_2/latex.py:132: LatexWarning: attempting recovering figure mara_combiplotfin\n",
      "  warnings.warn(LatexWarning(f'attempting recovering figure {image}'))\n",
      "/opt/hostedtoolcache/Python/3.9.23/x64/lib/python3.9/site-packages/arxiv_on_deck_2/latex.py:137: LatexWarning: Recovered figure mara_combiplotfin as tmp_2510.25589/./plots/mara_combiplotfin.pdf\n",
      "  warnings.warn(LatexWarning(f'Recovered figure {image} as {fname}'))\n"
     ]
    },
    {
     "name": "stderr",
     "output_type": "stream",
     "text": [
      "/opt/hostedtoolcache/Python/3.9.23/x64/lib/python3.9/site-packages/arxiv_on_deck_2/latex.py:132: LatexWarning: attempting recovering figure mara_sep_combi_blaze\n",
      "  warnings.warn(LatexWarning(f'attempting recovering figure {image}'))\n",
      "/opt/hostedtoolcache/Python/3.9.23/x64/lib/python3.9/site-packages/arxiv_on_deck_2/latex.py:137: LatexWarning: Recovered figure mara_sep_combi_blaze as tmp_2510.25589/./plots/mara_sep_combi_blaze.pdf\n",
      "  warnings.warn(LatexWarning(f'Recovered figure {image} as {fname}'))\n"
     ]
    },
    {
     "name": "stderr",
     "output_type": "stream",
     "text": [
      "/opt/hostedtoolcache/Python/3.9.23/x64/lib/python3.9/site-packages/arxiv_on_deck_2/latex.py:132: LatexWarning: attempting recovering figure mara_sep_combi_LS10\n",
      "  warnings.warn(LatexWarning(f'attempting recovering figure {image}'))\n",
      "/opt/hostedtoolcache/Python/3.9.23/x64/lib/python3.9/site-packages/arxiv_on_deck_2/latex.py:137: LatexWarning: Recovered figure mara_sep_combi_LS10 as tmp_2510.25589/./plots/mara_sep_combi_LS10.pdf\n",
      "  warnings.warn(LatexWarning(f'Recovered figure {image} as {fname}'))\n"
     ]
    },
    {
     "name": "stderr",
     "output_type": "stream",
     "text": [
      "/opt/hostedtoolcache/Python/3.9.23/x64/lib/python3.9/site-packages/arxiv_on_deck_2/latex.py:132: LatexWarning: attempting recovering figure logn_logs_fin_fit\n",
      "  warnings.warn(LatexWarning(f'attempting recovering figure {image}'))\n",
      "/opt/hostedtoolcache/Python/3.9.23/x64/lib/python3.9/site-packages/arxiv_on_deck_2/latex.py:137: LatexWarning: Recovered figure logn_logs_fin_fit as tmp_2510.25589/./plots/logn_logs_fin_fit.pdf\n",
      "  warnings.warn(LatexWarning(f'Recovered figure {image} as {fname}'))\n"
     ]
    },
    {
     "name": "stderr",
     "output_type": "stream",
     "text": [
      "/opt/hostedtoolcache/Python/3.9.23/x64/lib/python3.9/site-packages/arxiv_on_deck_2/latex.py:132: LatexWarning: attempting recovering figure 4LAC_alpha\n",
      "  warnings.warn(LatexWarning(f'attempting recovering figure {image}'))\n",
      "/opt/hostedtoolcache/Python/3.9.23/x64/lib/python3.9/site-packages/arxiv_on_deck_2/latex.py:137: LatexWarning: Recovered figure 4LAC_alpha as tmp_2510.25589/./plots/4LAC_alpha.pdf\n",
      "  warnings.warn(LatexWarning(f'Recovered figure {image} as {fname}'))\n"
     ]
    },
    {
     "name": "stdout",
     "output_type": "stream",
     "text": [
      "Found 198 bibliographic references in tmp_2510.25589/main.bbl.\n",
      "Issues with the citations\n",
      "syntax error in line 277: '=' expected\n"
     ]
    },
    {
     "name": "stderr",
     "output_type": "stream",
     "text": [
      "/opt/hostedtoolcache/Python/3.9.23/x64/lib/python3.9/site-packages/arxiv_on_deck_2/latex_bib.py:132: UserWarning: Error processing bibitem\n",
      " item = \\bibitem[{{HI4PI Collaboration}(2016)}]{hi4picollaboration:2016}{HI4PI Collaboration}. 2016, \\aap, 594, A116\n",
      " regex = \n",
      "        \\\\bibitem(\\[[^\\[\\]]*?\\]){(?P<bibkey>[a-zA-Z0-9\\-\\+\\.\\S]+?)}(?P<authors>|([\\D]*?))(?P<year>[12][0-9]{3})(?P<rest>.*)\n",
      "        \n",
      "  warnings.warn(str(e))\n"
     ]
    }
   ],
   "source": [
    "documents = []\n",
    "failed = []\n",
    "for paper in tqdm(candidates):\n",
    "    # debug crap\n",
    "    paper['identifier'] = paper['identifier'].lower().replace('arxiv:', '').replace(r'\\n', '').strip()\n",
    "    paper_id = paper['identifier']\n",
    "    \n",
    "    folder = f'tmp_{paper_id}'\n",
    "\n",
    "    try:\n",
    "        if not os.path.isdir(folder):\n",
    "            folder = retrieve_document_source(f\"{paper_id}\", f'tmp_{paper_id}')\n",
    "        \n",
    "        try:\n",
    "            doc = latex.LatexDocument(folder, validation=validation)    \n",
    "        except AffiliationError as affilerror:\n",
    "            msg = f\"ArXiv:{paper_id:s} is not an MPIA paper... \" + str(affilerror)\n",
    "            failed.append((paper, \"affiliation error: \" + str(affilerror) ))\n",
    "            continue\n",
    "        \n",
    "        # Hack because sometimes author parsing does not work well\n",
    "        if (len(doc.authors) != len(paper['authors'])):\n",
    "            doc._authors = paper['authors']\n",
    "        else:\n",
    "            # highlight authors (FIXME: doc.highlight_authors)\n",
    "            # done on arxiv paper already\n",
    "            doc._authors = highlight_authors_in_list(\n",
    "                [get_initials(k) for k in doc.authors], \n",
    "                mpia_authors, verbose=True)\n",
    "        if (doc.abstract) in (None, ''):\n",
    "            doc._abstract = paper['abstract']\n",
    "            \n",
    "        doc.comment = (get_markdown_badge(paper_id) + \n",
    "                       \"<mark>Appeared on: \" + paper['date'] + \"</mark> - \")\n",
    "        if paper['comments']:\n",
    "            doc.comment += \" _\" + paper['comments'] + \"_\"\n",
    "        \n",
    "        full_md = doc.generate_markdown_text()\n",
    "        \n",
    "        full_md += get_markdown_qrcode(paper_id)\n",
    "        \n",
    "        # replace citations\n",
    "        try:\n",
    "            bibdata = latex_bib.LatexBib.from_doc(doc)\n",
    "            full_md = latex_bib.replace_citations(full_md, bibdata)\n",
    "        except Exception as e:\n",
    "            print(\"Issues with the citations\")\n",
    "            print(e)\n",
    "        \n",
    "        documents.append((paper_id, full_md))\n",
    "    except Exception as e:\n",
    "        warnings.warn(latex.LatexWarning(f\"{paper_id:s} did not run properly\\n\" +\n",
    "                                         str(e)\n",
    "                                        ))\n",
    "        failed.append((paper, \"latex error \" + str(e)))"
   ]
  },
  {
   "cell_type": "markdown",
   "id": "2505a25c",
   "metadata": {
    "papermill": {
     "duration": 0.006463,
     "end_time": "2025-10-30T04:14:40.399506",
     "exception": false,
     "start_time": "2025-10-30T04:14:40.393043",
     "status": "completed"
    },
    "tags": []
   },
   "source": [
    "### Export the logs\n",
    "\n",
    "Throughout, we also keep track of the logs per paper. see `logs-{today date}.md` "
   ]
  },
  {
   "cell_type": "code",
   "execution_count": 6,
   "id": "d733828a",
   "metadata": {
    "execution": {
     "iopub.execute_input": "2025-10-30T04:14:40.412660Z",
     "iopub.status.busy": "2025-10-30T04:14:40.412359Z",
     "iopub.status.idle": "2025-10-30T04:14:40.433919Z",
     "shell.execute_reply": "2025-10-30T04:14:40.433226Z"
    },
    "papermill": {
     "duration": 0.02945,
     "end_time": "2025-10-30T04:14:40.434924",
     "exception": false,
     "start_time": "2025-10-30T04:14:40.405474",
     "status": "completed"
    },
    "scrolled": false,
    "tags": []
   },
   "outputs": [
    {
     "data": {
      "text/markdown": [
       "## Successful papers"
      ],
      "text/plain": [
       "<IPython.core.display.Markdown object>"
      ]
     },
     "metadata": {},
     "output_type": "display_data"
    },
    {
     "data": {
      "text/markdown": [
       "\n",
       "|||\n",
       "|---:|:---|\n",
       "| [![arXiv](https://img.shields.io/badge/arXiv-2510.25078-b31b1b.svg)](https://arxiv.org/abs/2510.25078) | **Magnetic Fields in Massive Star-forming Regions (MagMaR). VI. Magnetic Field Dragging in the Filamentary High-mass Star-forming Region G35.20--0.74N due to Gravity**  |\n",
       "|| J. Hwang, et al. -- incl., <mark>F. Xu</mark>, <mark>H. Beuther</mark> |\n",
       "|*Appeared on*| *2025-10-30*|\n",
       "|*Comments*| *submitted to AJ*|\n",
       "|**Abstract**|            We investigate the magnetic field orientation and strength in the massive star-forming region G35.20-0.74N (G35), using polarized dust emission data obtained with the Atacama Large Millimeter/submillimeter Array (ALMA) as part of the Magnetic fields in Massive star-forming Regions (MagMaR) survey. The G35 region shows a filamentary structure (a length of $\\sim$0.1 pc) with six bright cores located along the filament's long axis. Magnetic field strengths across the G35 region range from 0.2 to 4.4 mG with a mean value of 0.8 $\\pm$ 0.4 mG. The mass-to-flux ratio ($\\lambda$) varies from 0.1 to 6.0 the critical value. The highest values are found locally around cores, whereas the remains of the filament are subcritical. A H$^{13}$CO$^+$ (3--2) velocity gradient of 29 km s$^{-1}$ pc$^{-1}$ is evident along the filament's long axis, aligned with the magnetic field direction. At larger scales ($\\sim$0.1 pc), the magnetic field lines appear roughly perpendicular to the filament's long axis, in contrast to the smaller-scale structure ($\\sim$0.003 pc) traced by ALMA. The magnetic field lines could be dragged along the filament as a result of the gas motion induced by the gravitational potential of the filament. Six cores in the filament have similar spacings between 0.02--0.04 pc. The initial filament fragmentation could have produced a core spacing of 0.06 pc, following filament fragmentation theory, and the current core spacing is the result of cores comoving with the gas along the filament. This core migration could occur in a few 10$^4$ years, consistent with high-mass star formation time scales.         |"
      ],
      "text/plain": [
       "[2510.25078] Magnetic Fields in Massive Star-forming Regions (MagMaR). VI. Magnetic Field Dragging in the Filamentary High-mass Star-forming Region G35.20--0.74N due to Gravity\n",
       "\tJ. Hwang, et al. -- incl., <mark>F. Xu</mark>, <mark>H. Beuther</mark>"
      ]
     },
     "metadata": {},
     "output_type": "display_data"
    },
    {
     "data": {
      "text/markdown": [
       "\n",
       "|||\n",
       "|---:|:---|\n",
       "| [![arXiv](https://img.shields.io/badge/arXiv-2510.25538-b31b1b.svg)](https://arxiv.org/abs/2510.25538) | **Filamentary accretion flows in high-mass star-forming clouds**  |\n",
       "|| J.-E. Schneider, et al. -- incl., <mark>H. Beuther</mark>, <mark>C. Gieser</mark>, <mark>S. Jiao</mark>, <mark>M. Wells</mark> |\n",
       "|*Appeared on*| *2025-10-30*|\n",
       "|*Comments*| **|\n",
       "|**Abstract**|            The scope of this paper is focused on the question if gas is transported to dense clumps inside high-mass star-forming regions through filamentary structures on a scale of several parsecs to the sub-parsec scale. We quantify the gas flows from a scale of up to several parsecs down to the sub-parsec scale along filamentary structures. In this work the accretion flow mechanisms based on gas kinematic data in the three high-mass star-forming regions G75.78, IRAS21078+5211 and NGC7538 are studied with data obtained from the IRAM 30 m telescope. The analysis is carried out using the surface density derived from 1.2 mm continuum emission and velocity differences estimated from HCO+ and H13CO+ molecular line data.         |"
      ],
      "text/plain": [
       "[2510.25538] Filamentary accretion flows in high-mass star-forming clouds\n",
       "\tJ.-E. Schneider, et al. -- incl., <mark>H. Beuther</mark>, <mark>C. Gieser</mark>, <mark>S. Jiao</mark>, <mark>M. Wells</mark>"
      ]
     },
     "metadata": {},
     "output_type": "display_data"
    },
    {
     "data": {
      "text/markdown": [
       "\n",
       "|||\n",
       "|---:|:---|\n",
       "| [![arXiv](https://img.shields.io/badge/arXiv-2510.25589-b31b1b.svg)](https://arxiv.org/abs/2510.25589) | **BlazEr1: The eROSITA Blazar Catalog. Blazars and Blazar Candidates in the First eROSITA Survey**  |\n",
       "|| S. Haemmerich, et al. -- incl., <mark>J. Wolf</mark>, <mark>S. Belladitta</mark> |\n",
       "|*Appeared on*| *2025-10-30*|\n",
       "|*Comments*| *39 pages, 28 figures, submitted to A&A. Pre-referee version, comments are appreciated*|\n",
       "|**Abstract**|            Aims. eROSITA on board of the Spectrum Roentgen Gamma (SRG) spacecraft performed its first X-ray all-sky survey (eRASS1) between December 2019 and June 2020. It detected about 930000 sources, providing us with an unprecedented opportunity for a detailed blazar census. We present the properties of blazars and blazar candidates in eRASS1 and the compilation of the eROSITA blazar catalog. Methods. We compile a list of blazar and blazar candidates from the literature and match it with the eRASS1 catalog, creating the Blazars in eRASS1 (BlazEr1) catalog. For sources with more than 50 counts we obtain their X-ray spectral properties. We compile multiwavelength data from the radio to the gamma-ray regimes for all sources, including multiwavelength spectral indices and redshifts. The full catalog is available online. Results. We present the BlazEr1 catalog, containing 5865 sources, of which 2106 are associated with confirmed blazars. For 3668 sources, eROSITA provides the first X-ray data. The contamination from non-blazar sources of the entire sample is less than 11%. Most candidates exhibit properties typical for blazars. We present properties of the entire X-ray detected blazar population, including the distributions of X-ray luminosities and photon indices, multiwavelength properties, and the blazar log N-log S distribution. Our catalog provides follow up targets, such as potential MeV and TeV blazars. Conclusions. The BlazEr1 catalog provides a compilation of X-ray detected blazars and blazar candidates. The catalog serves as a starting point for exploiting further eROSITA surveys using the same methodology, enabling us to study the X-ray variability and a large number of spectral energy distributions of blazars in the future.         |"
      ],
      "text/plain": [
       "[2510.25589] BlazEr1: The eROSITA Blazar Catalog. Blazars and Blazar Candidates in the First eROSITA Survey\n",
       "\tS. Haemmerich, et al. -- incl., <mark>J. Wolf</mark>, <mark>S. Belladitta</mark>"
      ]
     },
     "metadata": {},
     "output_type": "display_data"
    },
    {
     "data": {
      "text/markdown": [
       "## Failed papers"
      ],
      "text/plain": [
       "<IPython.core.display.Markdown object>"
      ]
     },
     "metadata": {},
     "output_type": "display_data"
    },
    {
     "data": {
      "text/markdown": [
       "\n",
       "|||\n",
       "|---:|:---|\n",
       "| [![arXiv](https://img.shields.io/badge/arXiv-2510.24877-b31b1b.svg)](https://arxiv.org/abs/2510.24877) | **The White Dwarf Initial-Final Mass Relation from Open Clusters in Gaia DR3**  |\n",
       "|| D. R. Miller, et al. -- incl., <mark>K. El-Badry</mark> |\n",
       "|*Appeared on*| *2025-10-30*|\n",
       "|*Comments*| *88 pages, 81 figures, 13 tables (including appendix). Accepted for publication in The Astrophysical Journal*|\n",
       "|**Abstract**|            The initial-final mass relation (IFMR) links a star's birth mass to the mass of its white dwarf (WD) remnant, providing key constraints on stellar evolution. Open clusters offer the most straightforward way to empirically determine the IFMR, as their well-defined ages allow for direct progenitor lifetime estimates. We construct the most comprehensive open cluster WD IFMR to date by combining new spectroscopy of 22 WDs with an extensive literature review of WDs with strong cluster associations. To minimize systematics, we restrict our analysis to spectroscopically confirmed hydrogen-atmosphere (DA) WDs consistent with single-stellar origins. We separately analyze a subset with reliable Gaia-based astrometric membership assessments, as well as a full sample that adds WDs with strong cluster associations whose membership cannot be reliably assessed with Gaia. The Gaia-based sample includes 69 spectroscopically confirmed DA WDs, more than doubling the sample size of previous Gaia-based open cluster IFMRs. The full sample, which includes 53 additional literature WDs, increases the total number of cluster WDs by over $50\\%$ relative to earlier works. We provide functional forms for both the Gaia-based and full-sample IFMRs. The Gaia-based result useful for $M_i \\geq 2.67\\,\\mathrm{M}_\\odot$ is $$M_f = \\left[0.179 - 0.100 H(M_i-3.84\\,\\mathrm{M}_\\odot) \\right ] \\times (M_i-3.84\\,\\mathrm{M}_\\odot)+0.628\\,\\mathrm{M}_\\odot$$ where $H(x)$ is the Heaviside step function. Comparing our IFMR to recent literature, we identify significant deviations from best-fit IFMRs derived from both Gaia-based volume limited samples of field WDs and double WD binaries, with the largest discrepancy occurring for initial masses of about $5\\,\\mathrm{M}_\\odot$.         |\n",
       "|<p style=\"color:green\"> **ERROR** </p>| <p style=\"color:green\">affiliation error: mpia.affiliation_verifications: 'Heidelberg' keyword not found.</p> |"
      ],
      "text/plain": [
       "<IPython.core.display.Markdown object>"
      ]
     },
     "metadata": {},
     "output_type": "display_data"
    },
    {
     "data": {
      "text/markdown": [
       "\n",
       "|||\n",
       "|---:|:---|\n",
       "| [![arXiv](https://img.shields.io/badge/arXiv-2510.24886-b31b1b.svg)](https://arxiv.org/abs/2510.24886) | **Dissecting the mass quenching in TNG50: Galaxy size determines the quenching mode**  |\n",
       "|| <mark>H. Jiang</mark>, et al. |\n",
       "|*Appeared on*| *2025-10-30*|\n",
       "|*Comments*| *15 pages, 7 figures, ApJ accepted*|\n",
       "|**Abstract**|            The diminishing of star formation is accompanied by size differentiating, as quiescent galaxies are more compact than star-forming galaxies at fixed stellar mass. In order to understand how galaxy quenching is related to galaxy sizes, we performed a demographic study of 46 massive quiescent central galaxies with stellar mass from $10^{10.5}\\rm M_\\odot$ to $10^{11}\\rm M_\\odot$ in the TNG50 simulation. We found that, in addition to the triggering active galactic nucleus (AGN) feedback, galaxy size is also a major determinant of the quenching process, as small and compact galaxies are immediately quenched by the kinetic AGN feedback, while galaxies with large sizes are still active until strangulated by the cutoff of new gas replenishment. Further spatially resolved inspection reveals that this short and intense kinetic AGN feedback can only suppress the star formation within 1-2 kpc, resulting in this size-dependent effect of quenching. We also identify a long-term effect of a few Gyr timescale that the gas inflow rate is progressively suppressed after triggering kinetic feedback, which appears to effectively quench large galaxies entirely. We conclude that kinetic AGN feedback has two key roles in quenching: a short-term, intense effect that quenches the central 2 kpc region, and a long-term effect that suppresses the gas inflow rate and further quenches the entire galaxy.         |\n",
       "|<p style=\"color:green\"> **ERROR** </p>| <p style=\"color:green\">affiliation error: mpia.affiliation_verifications: 'Heidelberg' keyword not found.</p> |"
      ],
      "text/plain": [
       "<IPython.core.display.Markdown object>"
      ]
     },
     "metadata": {},
     "output_type": "display_data"
    },
    {
     "data": {
      "text/markdown": [
       "\n",
       "|||\n",
       "|---:|:---|\n",
       "| [![arXiv](https://img.shields.io/badge/arXiv-2510.25097-b31b1b.svg)](https://arxiv.org/abs/2510.25097) | **A Systematic Search for Gaseous Debris Disks in DESI Early Data Release White Dwarfs**  |\n",
       "|| Z. Ma, et al. -- incl., <mark>X. Zhang</mark> |\n",
       "|*Appeared on*| *2025-10-30*|\n",
       "|*Comments*| *9 pages, 3 figures, 1 table; AJ accepted*|\n",
       "|**Abstract**|            Detecting gaseous debris disks around white dwarfs offers a unique window into the ultimate fate of planetary systems and the composition of accreted planetary material. Here we present a systematic search for such disks through the Ca II infrared triplet using the Dark Energy Spectroscopic Instrument (DESI) Early Data Release. From a parent sample of 2706 spectroscopically confirmed white dwarfs, we identify 22 candidate systems showing tentative emission-line features, which corresponds to a raw occurrence rate of 0.81%, more than ten times higher than previous estimates. The detected emission lines are predominantly weak and require confirmation by follow-up observations. Three of these candidates also exhibit infrared excess in WISE photometry, suggesting a possible coexistence of gas and dust. However, the high candidate rate indicates that most are likely false positives due to telluric residuals or unresolved binaries. This work demonstrates the potential of DESI spectra for blind searches of rare circumstellar phenomena. The recently released DESI DR1, with its substantially larger spectroscopic sample, will enable searches for more gaseous disks and provide better insights into their occurrence and nature.         |\n",
       "|<p style=\"color:green\"> **ERROR** </p>| <p style=\"color:green\">affiliation error: mpia.affiliation_verifications: 'Heidelberg' keyword not found.</p> |"
      ],
      "text/plain": [
       "<IPython.core.display.Markdown object>"
      ]
     },
     "metadata": {},
     "output_type": "display_data"
    },
    {
     "data": {
      "text/markdown": [
       "\n",
       "|||\n",
       "|---:|:---|\n",
       "| [![arXiv](https://img.shields.io/badge/arXiv-2510.25247-b31b1b.svg)](https://arxiv.org/abs/2510.25247) | **Evolution of accretion disc-corona in the TDE Candidate AT 2019avd**  |\n",
       "|| H. Xu, X. Cao, <mark>Y. Wang</mark>, A. A. Zdziarski |\n",
       "|*Appeared on*| *2025-10-30*|\n",
       "|*Comments*| *10 pages,6 figures,1 table*|\n",
       "|**Abstract**|            X-ray observations of the tidal disruption event (TDE) candidate AT 2019avd show drastic variabilities in flux and spectral shape over hundreds of days, providing clues on the accretion disc-corona evolution. We utilize a disc-corona model, in which a fraction of the gravitational energy released in the disc is transported into the hot corona above/below. Some soft photons emitted from the disc are upscattered to X-ray photons by the hot electrons in the optically thin corona. By fitting the NICER observations of AT 2019avd during epochs when the spectra exhibit significant hardening, we derive the evolution of the mass accretion rate, $\\dot{m}$, and the coronal energy fraction, $f$. Our results show that $f$ decreases with increasing $\\dot{m}$, which is qualitatively consistent with that observed in active galactic nuclei (AGNs), while the slope of this source, $f\\propto \\dot{m}^{-0.30}$, is much shallower than that of AGNs. We also find that the non-thermal X-ray spectrum in this source is significantly softer than those typically seen in AGNs and black-hole X-ray binaries. We argue that these quantitative differences can be a powerful diagnostic of the underlying magnetic turbulence, which may imply a stronger magnetic field within the TDE accretion disc than that in typical AGNs. It is also found that the evolution of the fitted neutral hydrogen column density follows a similar pattern to that of the accretion rate evolution, which may reflect the accumulation of absorbing material originating from the inflowing streams of stellar debris and/or other related sources.         |\n",
       "|<p style=\"color:green\"> **ERROR** </p>| <p style=\"color:green\">affiliation error: mpia.affiliation_verifications: 'Heidelberg' keyword not found.</p> |"
      ],
      "text/plain": [
       "<IPython.core.display.Markdown object>"
      ]
     },
     "metadata": {},
     "output_type": "display_data"
    },
    {
     "data": {
      "text/markdown": [
       "\n",
       "|||\n",
       "|---:|:---|\n",
       "| [![arXiv](https://img.shields.io/badge/arXiv-2510.25024-b31b1b.svg)](https://arxiv.org/abs/2510.25024) | **Where Galaxies Go to Die: The Environments of Massive Quiescent Galaxies at $3<z<5$**  |\n",
       "|| I. McConachie, et al. -- incl., <mark>A. d. Graaff</mark> |\n",
       "|*Appeared on*| *2025-10-30*|\n",
       "|*Comments*| *Submitted to ApJ; 27 pages, 14 figures, 4 tables. Comments welcome! Animation and interactive figure hosted on Google Drive at this https URL*|\n",
       "|**Abstract**|            At low redshift, massive quiescent galaxies (MQGs) are most frequently found in massive, rich galaxy clusters, but at high redshift the trend is less clear. Here, we present spectroscopic evidence of the effects of environment on the formation and assembly of high-redshift MQGs. We identify 25 (5) $\\log (M_*/\\mathrm{M_\\odot}\\geq10.5$ ($10.0\\leq\\log (M_*/\\mathrm{M_\\odot}<10.5$) spectroscopically-confirmed quiescent galaxies in the UDS and EGS fields at $3<z<5$ with NIRSpec PRISM spectroscopy from RUBIES and other public JWST NIRSpec programs. We measure the density contrast in these fields by applying a Monte Carlo Voronoi Tesselation density mapping technique to photometric and spectroscopic redshifts of $m_\\mathrm{F444W}<27.5$ sources. We robustly detect 12 massive overdense peaks with $\\log (M_\\mathrm{Peak}/\\mathrm{M_\\odot})\\geq13$ and six extended massive protoclusters ($\\log (M_\\mathrm{Struct}/\\mathrm{M_\\odot})\\geq13.85$). We observe that MQGs are preferentially found in these massive peaks and within these massive structures: $\\approx50\\%$ of MQGs are found in massive peaks, compared to $\\approx20\\%$ of massive star forming galaxies (MSFGs) and $\\approx15\\%$ of the overall spectroscopically-confirmed population. We also find an apparent dependence on both quiescent galaxy mass and environment, with $75\\%$ of the most massive ($\\log (M_*/\\mathrm{M_\\odot}\\geq10.75$) residing inside overdense peaks. We compare the star formation histories (SFHs) of the MQGs with the high-redshift galaxy stellar mass function from observations and simulated quiescent galaxies at $z>5$, finding that the masses from the inferred MQG SFHs regularly exceed either observed or simulated high-redshift galaxies, which suggests indicates that mergers and ex-situ star formation play a key role in the mass assembly of MQGs in overdense environments.         |\n",
       "|<p style=\"color:red\"> **ERROR** </p>| <p style=\"color:red\">latex error list index out of range</p> |"
      ],
      "text/plain": [
       "<IPython.core.display.Markdown object>"
      ]
     },
     "metadata": {},
     "output_type": "display_data"
    },
    {
     "data": {
      "text/markdown": [
       "\n",
       "|||\n",
       "|---:|:---|\n",
       "| [![arXiv](https://img.shields.io/badge/arXiv-2510.25334-b31b1b.svg)](https://arxiv.org/abs/2510.25334) | **The CARMENES search for exoplanets around M dwarfs : Understanding the wavelength dependence of radial velocity measurements**  |\n",
       "|| S. V. Jeffers, et al. -- incl., <mark>M. Kürster</mark> |\n",
       "|*Appeared on*| *2025-10-30*|\n",
       "|*Comments*| *published in A&A*|\n",
       "|**Abstract**|            Context. Current exoplanet surveys are focused on detecting small exoplanets orbiting in the liquid-water habitable zones of their host stars. Despite the recent significant advancements in instrumental developments, the current limitation in detecting these exoplanets is the intrinsic variability of the host star itself. Aims. Our aim is to use the full CARMENES guaranteed time observations (GTO) data set spanning more than 8 years of observations of over 350 stars to investigate the wavelength dependence of high-precision radial velocities (RV), as stellar activity features should exhibit a wavelength dependence while the RV variation due to an orbiting planet will be wavelength independent. Methods. We use the chromatic index (CRX) to quantify the slope of the measured RVs as a function of logarithmic wavelength. We investigate the dependence of the CRX in the full CARMENES GTO sample on 24 stellar activity indices in the visible and near-infrared channels of the CARMENES spectrograph and each star's stellar parameters. We also present an updated convective turnover time scaling for the calculation of the stellar Rossby number for M dwarfs. Results. Our results show that approximately 17\\% of GTO stars show a strong or a moderate correlation between CRX and RV. We can improve the measured RVs by a factor of up to nearly 4 in rms by subtracting the RV predicted by the CRX-RV correlation from the measured RVs. Mid M dwarfs with moderate rotational velocities, moderate CRX-gradients and quasi-stable activity features have the best rms improvement factors. Conclusions. We conclude that the CRX is a powerful diagnostic in mitigation of stellar activity and the search for low mass rocky planets.         |\n",
       "|<p style=\"color:red\"> **ERROR** </p>| <p style=\"color:red\">latex error list index out of range</p> |"
      ],
      "text/plain": [
       "<IPython.core.display.Markdown object>"
      ]
     },
     "metadata": {},
     "output_type": "display_data"
    }
   ],
   "source": [
    "import datetime\n",
    "today = str(datetime.date.today())\n",
    "logfile = f\"_build/html/logs/log-{today}.md\"\n",
    "\n",
    "\n",
    "with open(logfile, 'w') as logs:\n",
    "    # Success\n",
    "    logs.write(f'# Arxiv on Deck 2: Logs - {today}\\n\\n')\n",
    "    logs.write(\"\"\"* Arxiv had {0:,d} new papers\\n\"\"\".format(len(new_papers)))\n",
    "    logs.write(\"\"\"    * {0:,d} with possible author matches\\n\\n\"\"\".format(len(candidates)))\n",
    "    logs.write(\"## Sucessful papers\\n\\n\")\n",
    "    display(Markdown(\"## Successful papers\"))\n",
    "    success = [k[0] for k in documents]\n",
    "    for candid in candidates:\n",
    "        if candid['identifier'].split(':')[-1] in success:\n",
    "            display(candid)\n",
    "            logs.write(candid.generate_markdown_text() + '\\n\\n')\n",
    "\n",
    "    ## failed\n",
    "    logs.write(\"## Failed papers\\n\\n\")\n",
    "    display(Markdown(\"## Failed papers\"))\n",
    "    failed = sorted(failed, key=lambda x: x[1])\n",
    "    current_reason = \"\"\n",
    "    for paper, reason in failed:\n",
    "        if 'affiliation' in reason:\n",
    "            color = 'green'\n",
    "        else:\n",
    "            color = 'red'\n",
    "        data = Markdown(\n",
    "                paper.generate_markdown_text() + \n",
    "                f'\\n|<p style=\"color:{color:s}\"> **ERROR** </p>| <p style=\"color:{color:s}\">{reason:s}</p> |'\n",
    "               )\n",
    "        if reason != current_reason:\n",
    "            logs.write(f'### {reason:s} \\n\\n')\n",
    "            current_reason = reason\n",
    "        logs.write(data.data + '\\n\\n')\n",
    "        \n",
    "        # only display here the important errors (all in logs)\n",
    "        # if color in ('red',):\n",
    "        display(data)"
   ]
  },
  {
   "cell_type": "markdown",
   "id": "472d20ee",
   "metadata": {
    "papermill": {
     "duration": 0.006857,
     "end_time": "2025-10-30T04:14:40.448952",
     "exception": false,
     "start_time": "2025-10-30T04:14:40.442095",
     "status": "completed"
    },
    "tags": []
   },
   "source": [
    "## Export documents\n",
    "\n",
    "We now write the .md files and export relevant images"
   ]
  },
  {
   "cell_type": "code",
   "execution_count": 7,
   "id": "d426aed9",
   "metadata": {
    "execution": {
     "iopub.execute_input": "2025-10-30T04:14:40.463969Z",
     "iopub.status.busy": "2025-10-30T04:14:40.463678Z",
     "iopub.status.idle": "2025-10-30T04:14:40.470835Z",
     "shell.execute_reply": "2025-10-30T04:14:40.470247Z"
    },
    "papermill": {
     "duration": 0.015929,
     "end_time": "2025-10-30T04:14:40.471873",
     "exception": false,
     "start_time": "2025-10-30T04:14:40.455944",
     "status": "completed"
    },
    "tags": []
   },
   "outputs": [],
   "source": [
    "def export_markdown_summary(md: str, md_fname:str, directory: str):\n",
    "    \"\"\"Export MD document and associated relevant images\"\"\"\n",
    "    import os\n",
    "    import shutil\n",
    "    import re\n",
    "\n",
    "    if (os.path.exists(directory) and not os.path.isdir(directory)):\n",
    "        raise RuntimeError(f\"a non-directory file exists with name {directory:s}\")\n",
    "\n",
    "    if (not os.path.exists(directory)):\n",
    "        print(f\"creating directory {directory:s}\")\n",
    "        os.mkdir(directory)\n",
    "\n",
    "    fig_fnames = (re.compile(r'\\[Fig.*\\]\\((.*)\\)').findall(md) + \n",
    "                  re.compile(r'\\<img src=\"([^>\\s]*)\"[^>]*/>').findall(md))\n",
    "    print(\"found figures\", fig_fnames)\n",
    "    for fname in fig_fnames:\n",
    "        if 'http' in fname:\n",
    "            # No need to copy online figures\n",
    "            continue\n",
    "        if not os.path.exists(fname):\n",
    "            print(\"file not found\", fname)\n",
    "            continue\n",
    "        print(\"copying \", fname, \"to\", directory)\n",
    "        destdir = os.path.join(directory, os.path.dirname(fname))\n",
    "        destfname = os.path.join(destdir, os.path.basename(fname))\n",
    "        try:\n",
    "            os.makedirs(destdir)\n",
    "        except FileExistsError:\n",
    "            pass\n",
    "        shutil.copy(fname, destfname)\n",
    "    with open(os.path.join(directory, md_fname), 'w') as fout:\n",
    "        fout.write(md)\n",
    "    print(\"exported in \", os.path.join(directory, md_fname))\n",
    "    [print(\"    + \" + os.path.join(directory,fk)) for fk in fig_fnames]"
   ]
  },
  {
   "cell_type": "code",
   "execution_count": 8,
   "id": "014d04a4",
   "metadata": {
    "execution": {
     "iopub.execute_input": "2025-10-30T04:14:40.487054Z",
     "iopub.status.busy": "2025-10-30T04:14:40.486825Z",
     "iopub.status.idle": "2025-10-30T04:14:40.503389Z",
     "shell.execute_reply": "2025-10-30T04:14:40.502693Z"
    },
    "papermill": {
     "duration": 0.025109,
     "end_time": "2025-10-30T04:14:40.504422",
     "exception": false,
     "start_time": "2025-10-30T04:14:40.479313",
     "status": "completed"
    },
    "tags": []
   },
   "outputs": [
    {
     "name": "stdout",
     "output_type": "stream",
     "text": [
      "found figures ['tmp_2510.25078/./G35_angdisp_volden_veldisp.png', 'tmp_2510.25078/./G35_magnetic_field_orientation_v6.png', 'tmp_2510.25078/./G35_mag_fila_orientations_v3.png']\n",
      "copying  tmp_2510.25078/./G35_angdisp_volden_veldisp.png to _build/html/\n",
      "copying  tmp_2510.25078/./G35_magnetic_field_orientation_v6.png to _build/html/\n",
      "copying  tmp_2510.25078/./G35_mag_fila_orientations_v3.png to _build/html/\n",
      "exported in  _build/html/2510.25078.md\n",
      "    + _build/html/tmp_2510.25078/./G35_angdisp_volden_veldisp.png\n",
      "    + _build/html/tmp_2510.25078/./G35_magnetic_field_orientation_v6.png\n",
      "    + _build/html/tmp_2510.25078/./G35_mag_fila_orientations_v3.png\n",
      "found figures ['tmp_2510.25538/./Images/dust_cont_allsources.png', 'tmp_2510.25538/./Images/mom1_hco+_allsources.png', 'tmp_2510.25538/./Images/mom1_h13co+_allsources.png']\n",
      "copying  tmp_2510.25538/./Images/dust_cont_allsources.png to _build/html/\n",
      "copying  tmp_2510.25538/./Images/mom1_hco+_allsources.png to _build/html/\n",
      "copying  tmp_2510.25538/./Images/mom1_h13co+_allsources.png to _build/html/\n",
      "exported in  _build/html/2510.25538.md\n",
      "    + _build/html/tmp_2510.25538/./Images/dust_cont_allsources.png\n",
      "    + _build/html/tmp_2510.25538/./Images/mom1_hco+_allsources.png\n",
      "    + _build/html/tmp_2510.25538/./Images/mom1_h13co+_allsources.png\n",
      "found figures ['tmp_2510.25589/./plots/blazar_erass1_map_paper.png', 'tmp_2510.25589/./plots/gamma_master_gaus.png', 'tmp_2510.25589/./plots/mara_combiplotfin.png']\n",
      "copying  tmp_2510.25589/./plots/blazar_erass1_map_paper.png to _build/html/\n",
      "copying  tmp_2510.25589/./plots/gamma_master_gaus.png to _build/html/\n",
      "copying  tmp_2510.25589/./plots/mara_combiplotfin.png to _build/html/\n",
      "exported in  _build/html/2510.25589.md\n",
      "    + _build/html/tmp_2510.25589/./plots/blazar_erass1_map_paper.png\n",
      "    + _build/html/tmp_2510.25589/./plots/gamma_master_gaus.png\n",
      "    + _build/html/tmp_2510.25589/./plots/mara_combiplotfin.png\n"
     ]
    }
   ],
   "source": [
    "for paper_id, md in documents:\n",
    "    export_markdown_summary(md, f\"{paper_id:s}.md\", '_build/html/')"
   ]
  },
  {
   "cell_type": "markdown",
   "id": "f087a0a7",
   "metadata": {
    "papermill": {
     "duration": 0.007099,
     "end_time": "2025-10-30T04:14:40.519069",
     "exception": false,
     "start_time": "2025-10-30T04:14:40.511970",
     "status": "completed"
    },
    "tags": []
   },
   "source": [
    "## Display the papers\n",
    "\n",
    "Not necessary but allows for a quick check."
   ]
  },
  {
   "cell_type": "code",
   "execution_count": 9,
   "id": "fd25f625",
   "metadata": {
    "execution": {
     "iopub.execute_input": "2025-10-30T04:14:40.534298Z",
     "iopub.status.busy": "2025-10-30T04:14:40.534050Z",
     "iopub.status.idle": "2025-10-30T04:14:40.541666Z",
     "shell.execute_reply": "2025-10-30T04:14:40.540968Z"
    },
    "papermill": {
     "duration": 0.016562,
     "end_time": "2025-10-30T04:14:40.542726",
     "exception": false,
     "start_time": "2025-10-30T04:14:40.526164",
     "status": "completed"
    },
    "scrolled": false,
    "tags": []
   },
   "outputs": [
    {
     "data": {
      "text/markdown": [
       "<div class=\"macros\" style=\"visibility:hidden;\">\n",
       "$\\newcommand{\\ensuremath}{}$\n",
       "$\\newcommand{\\xspace}{}$\n",
       "$\\newcommand{\\object}[1]{\\texttt{#1}}$\n",
       "$\\newcommand{\\farcs}{{.}''}$\n",
       "$\\newcommand{\\farcm}{{.}'}$\n",
       "$\\newcommand{\\arcsec}{''}$\n",
       "$\\newcommand{\\arcmin}{'}$\n",
       "$\\newcommand{\\ion}[2]{#1#2}$\n",
       "$\\newcommand{\\textsc}[1]{\\textrm{#1}}$\n",
       "$\\newcommand{\\hl}[1]{\\textrm{#1}}$\n",
       "$\\newcommand{\\footnote}[1]{}$\n",
       "$\\newcommand{\\vdag}{(v)^\\dagger}$\n",
       "$\\newcommand$\n",
       "$\\newcommand$</div>\n",
       "\n",
       "\n",
       "\n",
       "<div id=\"title\">\n",
       "\n",
       "# Magnetic Fields in Massive Star-forming Regions (MagMaR). VI. Magnetic Field Dragging in the Filamentary High-mass Star-forming Region G35.20--0.74N due to Gravity\n",
       "\n",
       "</div>\n",
       "<div id=\"comments\">\n",
       "\n",
       "[![arXiv](https://img.shields.io/badge/arXiv-2510.25078-b31b1b.svg)](https://arxiv.org/abs/2510.25078)<mark>Appeared on: 2025-10-30</mark> -  _submitted to AJ_\n",
       "\n",
       "</div>\n",
       "<div id=\"authors\">\n",
       "\n",
       "J. Hwang, et al. -- incl., <mark>H. Beuther</mark>\n",
       "\n",
       "</div>\n",
       "<div id=\"abstract\">\n",
       "\n",
       "**Abstract:** We investigate the magnetic field orientation and strength in the massive star-forming region G35.20-0.74N (G35), using polarized dust emission data obtained with the Atacama Large Millimeter/submillimeter Array (ALMA) as part of the Magnetic fields in Massive star-forming Regions (MagMaR) survey. The G35 region shows a filamentary structure (a length of $\\sim$ 0.1 pc) with six bright cores located along the filament's long axis. Magnetic field strengths across the G35 region range from 0.2 to 4.4 mG with a mean value of 0.8 $\\pm$ 0.4 mG. The mass-to-flux ratio ( $\\lambda$ ) varies from 0.1 to 6.0 the critical value. The highest values are found locally around cores, whereas the remains of the filament are subcritical.A H $^{13}$ CO $^+$ (3--2) velocity gradient of 29 km s $^{-1}$ pc $^{-1}$ is evident along the filament's long axis, aligned with the magnetic field direction. At larger scales ( $\\sim$ 0.1 pc), the magnetic field lines appear roughly perpendicular to the filament's long axis, in contrast to the smaller-scale structure ( $\\sim$ 0.003 pc) traced by ALMA.The magnetic field lines could be dragged along the filament as a result of the gas motion induced by the gravitational potential of the filament. Six cores in the filament have similar spacings between 0.02--0.04 pc. The initial filament fragmentation could have produced a core spacing of 0.06 pc, following filament fragmentation theory, and the current core spacing is the result of cores comoving with the gas along the filament. This core migration could occur in a few 10 $^4$ years, consistent with high-mass star formation time scales.\n",
       "\n",
       "</div>\n",
       "\n",
       "<div id=\"div_fig1\">\n",
       "\n",
       "<img src=\"tmp_2510.25078/./G35_angdisp_volden_veldisp.png\" alt=\"Fig3\" width=\"100%\"/>\n",
       "\n",
       "**Figure 3. -** The maps of polarization angle dispersion (Left), volume density (Middle), and non-thermal velocity dispersion of the non-thermal component of H$^{13}$CO$^+$(Right) in G35. Black contours show the flux density of G35 at 10, 20, 30, and 40 $\\times$$\\delta I$ levels. The region within 10 $\\times$$\\delta I$ level is comparable to the filament with the width of 0.015 estimated in Section \\ref{sec:vol} along the black skeleton shown in Figure \\ref{fig:fila}.\n",
       " (*fig:poldisp*)\n",
       "\n",
       "</div>\n",
       "<div id=\"div_fig2\">\n",
       "\n",
       "<img src=\"tmp_2510.25078/./G35_magnetic_field_orientation_v6.png\" alt=\"Fig1\" width=\"100%\"/>\n",
       "\n",
       "**Figure 1. -** Map of the magnetic field orientation obtained from dust polarization observations using ALMA in G35. The background image is the intensity (Stokes $I$) at Band 6 frequency, $\\sim250$ GHz. The white segments show the magnetic field orientatio,n which is the polarization angle rotated by 90 degrees, and is plotted roughly per independent beam. The triangles are the positions of cores found in previous ALMA dust continuum observations with a higher angular resolution  dthan ours \\citep{Zhang2022} The core names are labeled based on previous studies \\citep{Zhang2022, Sanchez2013}. The physical scale and beam size are shown in the bottom left and right corners, respectively.\n",
       " (*fig:magori*)\n",
       "\n",
       "</div>\n",
       "<div id=\"div_fig3\">\n",
       "\n",
       "<img src=\"tmp_2510.25078/./G35_mag_fila_orientations_v3.png\" alt=\"Fig2\" width=\"100%\"/>\n",
       "\n",
       "**Figure 2. -** (Left) The skeleton of the filament in G35. Background image is the same as in Figure \\ref{fig:magori}. White contours show the flux density of G35 at 3, 10, 20, 30, and 40 $\\times$$\\delta I$ levels. (Right) Angle difference between the main skeleton and magnetic field orientations.\n",
       " (*fig:fila*)\n",
       "\n",
       "</div><div id=\"qrcode\"><img src=https://api.qrserver.com/v1/create-qr-code/?size=100x100&data=\"https://arxiv.org/abs/2510.25078\"></div>"
      ],
      "text/plain": [
       "<IPython.core.display.Markdown object>"
      ]
     },
     "metadata": {},
     "output_type": "display_data"
    },
    {
     "data": {
      "text/markdown": [
       "<div class=\"macros\" style=\"visibility:hidden;\">\n",
       "$\\newcommand{\\ensuremath}{}$\n",
       "$\\newcommand{\\xspace}{}$\n",
       "$\\newcommand{\\object}[1]{\\texttt{#1}}$\n",
       "$\\newcommand{\\farcs}{{.}''}$\n",
       "$\\newcommand{\\farcm}{{.}'}$\n",
       "$\\newcommand{\\arcsec}{''}$\n",
       "$\\newcommand{\\arcmin}{'}$\n",
       "$\\newcommand{\\ion}[2]{#1#2}$\n",
       "$\\newcommand{\\textsc}[1]{\\textrm{#1}}$\n",
       "$\\newcommand{\\hl}[1]{\\textrm{#1}}$\n",
       "$\\newcommand{\\footnote}[1]{}$\n",
       "$\\newcommand$</div>\n",
       "\n",
       "\n",
       "\n",
       "<div id=\"title\">\n",
       "\n",
       "# Filamentary accretion flows in high-mass star-forming clouds\n",
       "\n",
       "</div>\n",
       "<div id=\"comments\">\n",
       "\n",
       "[![arXiv](https://img.shields.io/badge/arXiv-2510.25538-b31b1b.svg)](https://arxiv.org/abs/2510.25538)<mark>Appeared on: 2025-10-30</mark> - \n",
       "\n",
       "</div>\n",
       "<div id=\"authors\">\n",
       "\n",
       "J.-E. Schneider, et al. -- incl., <mark>H. Beuther</mark>, <mark>C. Gieser</mark>, <mark>S. Jiao</mark>, <mark>M. Wells</mark>\n",
       "\n",
       "</div>\n",
       "<div id=\"abstract\">\n",
       "\n",
       "**Abstract:** Filamentary accretion-flows as gas-funneling mechanisms are a key aspect in high-mass star formation research. The kinematic properties along these structures are of particular interest. The scope of this paper is focused on the question if gas is transported to dense clumps inside high-mass star-forming regions through filamentary structures on a scale of several parsecs to the sub-parsec scale. We quantify the gas flows from a scale of up to several parsecs down to the sub-parsec scale along filamentary structures. In this work the accretion flow mechanisms based on gas kinematic data in the three high-mass star-forming regions G75.78, IRAS21078+5211 and NGC7538 are studied with data obtained from the IRAM 30 m telescope. The analysis is carried out using the surface density derived from 1.2 mm continuum emission and velocity differences estimated from HCO $^+$ ( $1-0$ ) and H $^{13}$ CO $^+$ ( $1-0$ ) molecular line data. The mass flow-behavior of the gas in the vicinity of high-mass star-forming clumps shows characteristic dynamical patterns, such as an increased mass flow rate towards the clumps. We assume the velocity differences to originate from filamentary-gas infall onto the high-mass star-forming clumps; the inclination of the filament-structures along the line of sight is however unknown. Nevertheless, using the velocity differences and mass surface densities, we can estimate mean flow rates along the filamentary structures with respect to the line of sight and towards clumps. We quantify the flow rates towards the clumps in a range from about $10^{-3} M_{\\odot} $ yr $^{-1}$ to $10^{-5} M_{\\odot}$ yr $^{-1}$ , inferred from clump-centered polar plots. Slight variations of the flow rates along the filamentary structures may be caused by overdensities and velocity gradients along the filaments. While the initial studies presented here already reveal interesting results such as an increasing mass flow rate towards clumps, the properties of filamentary gas flows from large to small spatial scales, as well as potential variations over the evolutionary sequence, are subject to future studies.\n",
       "\n",
       "</div>\n",
       "\n",
       "<div id=\"div_fig1\">\n",
       "\n",
       "<img src=\"tmp_2510.25538/./Images/dust_cont_allsources.png\" alt=\"Fig30\" width=\"100%\"/>\n",
       "\n",
       "**Figure 30. -** Naming and measuring pattern for the three sourcesTop row: NIKA2 1.2 mm dust continuum maps (see  ([Beuther, Gieser and Soler 2024]()) ) of the star-forming regions showing the clump and filament designations. The red and magenta markers indicate the data points used for the flow rate estimation in Section \\ref{sec:fila-flows}. Triangular magenta markers indicate a separate section along a structure. Black contours outline the 1.2 mm continuum, ranging from 3$\\sigma$ to 39$\\sigma$ in steps of 3$\\sigma$(the RMS-values are presented in Table \\ref{tab:dust_hii_rms}). The red contours in the upper panels mark the peak-positions of the continuum emission from 20\\% to 100\\% in steps of 20\\%. Designations used in the following refer to clumps and filament-structures, filaments are marked by an \"F\" in the designation; \"CF\" in G75 stands for \"central filament\", \"CC\" in IRAS21078 refers to \"central clump\" while the clumps in NGC7538 are the known objects IRS9, IRS1 and S (e.g.  ([ and Beuther 2020]()) ). G75 S1 is the object G75.78+0.34. We present the clump-designations together with their coordinates in Table \\ref{tab:clumps}. Bottom row: The same dust-maps with red contour lines outlining the \\HII-regions at 1.4 GHz (21 cm) ( ([Condon, Cotton and Greisen 1998]()) ); the contours range from 10\\% to 100\\% of the peak emission in steps of 10\\%(see Table \\ref{tab:dust_hii_rms} for reference). The positions of the two main exciting sources of the \\HII-region in NGC7538, NGC7538 IRS5 and NGC7538 IRS6, are marked in the lower right panel ( ([Puga, Marín-Franch and Najarro 2010]()) ). (*fig:dusttags*)\n",
       "\n",
       "</div>\n",
       "<div id=\"div_fig2\">\n",
       "\n",
       "<img src=\"tmp_2510.25538/./Images/mom1_hco+_allsources.png\" alt=\"Fig31\" width=\"100%\"/>\n",
       "\n",
       "**Figure 31. -** 1st moment maps HCO$^+$($1-0$)First moment (intensity-weighted peak-velocity) maps for the HCO$^+$($1-0$)-line. The beam size is \\SI{27}{$\\arcsec$ond}(lower left corner). The sources are labeled in each panel. The scale bar indicates the length of 1 parsec in each panel. Contour lines show the 1.2 mm dust continuum ranging from 3$\\sigma$ to 39$\\sigma$ in 3$\\sigma$-steps. (*fig:1stmoment_hco+*)\n",
       "\n",
       "</div>\n",
       "<div id=\"div_fig3\">\n",
       "\n",
       "<img src=\"tmp_2510.25538/./Images/mom1_h13co+_allsources.png\" alt=\"Fig32\" width=\"100%\"/>\n",
       "\n",
       "**Figure 32. -** 1st moment maps H13CO$^+$($1-0$)As for Fig. \\ref{fig:1stmoment_hco+} but for H$^{13}$CO$^+$($1-0$)-transition. (*fig:1stmoment_h13co+*)\n",
       "\n",
       "</div><div id=\"qrcode\"><img src=https://api.qrserver.com/v1/create-qr-code/?size=100x100&data=\"https://arxiv.org/abs/2510.25538\"></div>"
      ],
      "text/plain": [
       "<IPython.core.display.Markdown object>"
      ]
     },
     "metadata": {},
     "output_type": "display_data"
    },
    {
     "data": {
      "text/markdown": [
       "<div class=\"macros\" style=\"visibility:hidden;\">\n",
       "$\\newcommand{\\ensuremath}{}$\n",
       "$\\newcommand{\\xspace}{}$\n",
       "$\\newcommand{\\object}[1]{\\texttt{#1}}$\n",
       "$\\newcommand{\\farcs}{{.}''}$\n",
       "$\\newcommand{\\farcm}{{.}'}$\n",
       "$\\newcommand{\\arcsec}{''}$\n",
       "$\\newcommand{\\arcmin}{'}$\n",
       "$\\newcommand{\\ion}[2]{#1#2}$\n",
       "$\\newcommand{\\textsc}[1]{\\textrm{#1}}$\n",
       "$\\newcommand{\\hl}[1]{\\textrm{#1}}$\n",
       "$\\newcommand{\\footnote}[1]{}$\n",
       "$\\newcommand{\\makeLineNumber}$\n",
       "$\\newcommand{\\arraystretch}{1.1}$\n",
       "$\\newcommand{\\arraystretch}{1.1}$\n",
       "$\\newcommand{\\arraystretch}{1.5}$\n",
       "$\\newcommand{\\arraystretch}{1.2}$</div>\n",
       "\n",
       "\n",
       "\n",
       "<div id=\"title\">\n",
       "\n",
       "# BlazEr1: The eROSITA Blazar Catalog: Blazars and Blazar Candidates in the First eROSITA Survey\n",
       "\n",
       "</div>\n",
       "<div id=\"comments\">\n",
       "\n",
       "[![arXiv](https://img.shields.io/badge/arXiv-2510.25589-b31b1b.svg)](https://arxiv.org/abs/2510.25589)<mark>Appeared on: 2025-10-30</mark> -  _39 pages, 28 figures, submitted to A&A. Pre-referee version, comments are appreciated_\n",
       "\n",
       "</div>\n",
       "<div id=\"authors\">\n",
       "\n",
       "S. Hämmerich, et al. -- incl., <mark>J. Wolf</mark>, <mark>S. Belladitta</mark>\n",
       "\n",
       "</div>\n",
       "<div id=\"abstract\">\n",
       "\n",
       "**Abstract:**            Aims. eROSITA on board of the Spectrum Roentgen Gamma (SRG) spacecraft performed its first X-ray all-sky survey (eRASS1) between December 2019 and June 2020. It detected about 930000 sources, providing us with an unprecedented opportunity for a detailed blazar census. We present the properties of blazars and blazar candidates in eRASS1 and the compilation of the eROSITA blazar catalog. Methods. We compile a list of blazar and blazar candidates from the literature and match it with the eRASS1 catalog, creating the Blazars in eRASS1 (BlazEr1) catalog. For sources with more than 50 counts we obtain their X-ray spectral properties. We compile multiwavelength data from the radio to the gamma-ray regimes for all sources, including multiwavelength spectral indices and redshifts. The full catalog is available online. Results. We present the BlazEr1 catalog, containing 5865 sources, of which 2106 are associated with confirmed blazars. For 3668 sources, eROSITA provides the first X-ray data. The contamination from non-blazar sources of the entire sample is less than 11%. Most candidates exhibit properties typical for blazars. We present properties of the entire X-ray detected blazar population, including the distributions of X-ray luminosities and photon indices, multiwavelength properties, and the blazar log N-log S distribution. Our catalog provides follow up targets, such as potential MeV and TeV blazars. Conclusions. The BlazEr1 catalog provides a compilation of X-ray detected blazars and blazar candidates. The catalog serves as a starting point for exploiting further eROSITA surveys using the same methodology, enabling us to study the X-ray variability and a large number of spectral energy distributions of blazars in the future.         \n",
       "\n",
       "</div>\n",
       "\n",
       "<div id=\"div_fig1\">\n",
       "\n",
       "<img src=\"tmp_2510.25589/./plots/blazar_erass1_map_paper.png\" alt=\"Fig2\" width=\"100%\"/>\n",
       "\n",
       "**Figure 2. -** Positions of the BlazEr1 sources in Galactic coordinates. The\n",
       "  different colors and symbols indicate the blazar types in the\n",
       "  catalog. Candidates, especially _BCUC_s, dominate the sample.\n",
       "  The overdensity along $l\\sim 240◦$ coincides with the footprint\n",
       "  of BROS. Confirmed blazars are displayed by filled symbols,\n",
       "  candidates are shown in the same color without filling. All\n",
       "  following figures will adapt the same color and symbol scheme.  (*fig:blazar_erass1_map_paper*)\n",
       "\n",
       "</div>\n",
       "<div id=\"div_fig2\">\n",
       "\n",
       "<img src=\"tmp_2510.25589/./plots/gamma_master_gaus.png\" alt=\"Fig11\" width=\"100%\"/>\n",
       "\n",
       "**Figure 11. -** Probability distribution of photon indices for\n",
       "\tdifferent types of _eROSITA_ observed blazars and blazar candidates.\n",
       "\tThe distribution takes into account the uncertainties of\n",
       "individual measurements of the photon index. (*fig:gamma_master_gaus*)\n",
       "\n",
       "</div>\n",
       "<div id=\"div_fig3\">\n",
       "\n",
       "<img src=\"tmp_2510.25589/./plots/mara_combiplotfin.png\" alt=\"Fig24\" width=\"100%\"/>\n",
       "\n",
       "**Figure 24. -** Different photometric spaces combining optical, infrared and X-ray data, similar to\n",
       "  \\citet[][; Fig. 18]{salvato:2022} for point sources detected in eFEDS, using the\n",
       "  color scheme introduced in\n",
       "  Fig. \\ref{fig:blazar_erass1_map_paper}. Solid gray lines\n",
       "  show positions usually occupied by quasars, whereas the gray dotted\n",
       "  lines corresponded to Seyfert 2 galaxies. The dashed black lines in\n",
       "  the upper panels distinguish between Galactic and\n",
       "  extragalactic sources. (*fig:mara_combiplotfin*)\n",
       "\n",
       "</div><div id=\"qrcode\"><img src=https://api.qrserver.com/v1/create-qr-code/?size=100x100&data=\"https://arxiv.org/abs/2510.25589\"></div>"
      ],
      "text/plain": [
       "<IPython.core.display.Markdown object>"
      ]
     },
     "metadata": {},
     "output_type": "display_data"
    }
   ],
   "source": [
    "[display(Markdown(k[1])) for k in documents];"
   ]
  },
  {
   "cell_type": "markdown",
   "id": "873873a4",
   "metadata": {
    "papermill": {
     "duration": 0.007536,
     "end_time": "2025-10-30T04:14:40.557840",
     "exception": false,
     "start_time": "2025-10-30T04:14:40.550304",
     "status": "completed"
    },
    "tags": []
   },
   "source": [
    "# Create HTML index"
   ]
  },
  {
   "cell_type": "code",
   "execution_count": 10,
   "id": "cf665672",
   "metadata": {
    "execution": {
     "iopub.execute_input": "2025-10-30T04:14:40.573859Z",
     "iopub.status.busy": "2025-10-30T04:14:40.573561Z",
     "iopub.status.idle": "2025-10-30T04:14:40.581078Z",
     "shell.execute_reply": "2025-10-30T04:14:40.580428Z"
    },
    "papermill": {
     "duration": 0.016782,
     "end_time": "2025-10-30T04:14:40.582092",
     "exception": false,
     "start_time": "2025-10-30T04:14:40.565310",
     "status": "completed"
    },
    "tags": []
   },
   "outputs": [
    {
     "name": "stdout",
     "output_type": "stream",
     "text": [
      "111  publications files modified in the last 7 days.\n"
     ]
    }
   ],
   "source": [
    "from datetime import datetime, timedelta, timezone\n",
    "from glob import glob\n",
    "import os\n",
    "\n",
    "files = glob('_build/html/*.md')\n",
    "days = 7\n",
    "now = datetime.today()\n",
    "res = []\n",
    "for fk in files:\n",
    "    stat_result = os.stat(fk).st_ctime\n",
    "    modified = datetime.fromtimestamp(stat_result, tz=timezone.utc).replace(tzinfo=None)\n",
    "    delta = now.today() - modified\n",
    "    if delta <= timedelta(days=days):\n",
    "        res.append((delta.seconds, fk))\n",
    "res = [k[1] for k in reversed(sorted(res, key=lambda x:x[1]))]\n",
    "npub = len(res)\n",
    "print(len(res), f\" publications files modified in the last {days:d} days.\")\n",
    "# [ print('\\t', k) for k in res ];"
   ]
  },
  {
   "cell_type": "code",
   "execution_count": 11,
   "id": "015de740",
   "metadata": {
    "execution": {
     "iopub.execute_input": "2025-10-30T04:14:40.598167Z",
     "iopub.status.busy": "2025-10-30T04:14:40.597910Z",
     "iopub.status.idle": "2025-10-30T04:14:40.609664Z",
     "shell.execute_reply": "2025-10-30T04:14:40.609112Z"
    },
    "papermill": {
     "duration": 0.020962,
     "end_time": "2025-10-30T04:14:40.610702",
     "exception": false,
     "start_time": "2025-10-30T04:14:40.589740",
     "status": "completed"
    },
    "tags": []
   },
   "outputs": [
    {
     "name": "stdout",
     "output_type": "stream",
     "text": [
      "5  publications in the last 7 days.\n"
     ]
    }
   ],
   "source": [
    "import datetime\n",
    "from glob import glob\n",
    "\n",
    "def get_last_n_days(lst, days=1):\n",
    "    \"\"\" Get the documents from the last n days \"\"\"\n",
    "    sorted_lst = sorted(lst, key=lambda x: x[1], reverse=True)\n",
    "    for fname, date in sorted_lst:\n",
    "        if date >= str(datetime.date.today() - datetime.timedelta(days=days)):\n",
    "            yield fname\n",
    "\n",
    "def extract_appearance_dates(lst_file):\n",
    "    dates = []\n",
    "\n",
    "    def get_date(line):\n",
    "        return line\\\n",
    "            .split('Appeared on:')[-1]\\\n",
    "            .split('</mark>')[0].strip()\n",
    "\n",
    "    for fname in lst:\n",
    "        with open(fname, 'r') as f:\n",
    "            found_date = False\n",
    "            for line in f:\n",
    "                if not found_date:\n",
    "                    if \"Appeared on\" in line:\n",
    "                        found_date = True\n",
    "                        dates.append((fname, get_date(line)))\n",
    "                else:\n",
    "                    break\n",
    "    return dates\n",
    "\n",
    "from glob import glob\n",
    "lst = glob('_build/html/*md')\n",
    "days = 7\n",
    "dates = extract_appearance_dates(lst)\n",
    "res = list(get_last_n_days(dates, days))\n",
    "npub = len(res)\n",
    "print(len(res), f\" publications in the last {days:d} days.\")"
   ]
  },
  {
   "cell_type": "code",
   "execution_count": 12,
   "id": "52ca0208",
   "metadata": {
    "execution": {
     "iopub.execute_input": "2025-10-30T04:14:40.627351Z",
     "iopub.status.busy": "2025-10-30T04:14:40.627110Z",
     "iopub.status.idle": "2025-10-30T04:14:40.632161Z",
     "shell.execute_reply": "2025-10-30T04:14:40.631478Z"
    },
    "papermill": {
     "duration": 0.014551,
     "end_time": "2025-10-30T04:14:40.633178",
     "exception": false,
     "start_time": "2025-10-30T04:14:40.618627",
     "status": "completed"
    },
    "scrolled": false,
    "tags": []
   },
   "outputs": [],
   "source": [
    "def create_carousel(npub=4):\n",
    "    \"\"\" Generate the HTML code for a carousel with `npub` slides \"\"\"\n",
    "    carousel = [\"\"\"  <div class=\"carousel\" \"\"\",\n",
    "                \"\"\"       data-flickity='{ \"autoPlay\": 10000, \"adaptiveHeight\": true, \"resize\": true, \"wrapAround\": true, \"pauseAutoPlayOnHover\": true, \"groupCells\": 1 }' id=\"asyncTypeset\">\"\"\"\n",
    "                ]\n",
    "    \n",
    "    item_str = \"\"\"    <div class=\"carousel-cell\"> <div id=\"slide{k}\" class=\"md_view\">Content {k}</div> </div>\"\"\"\n",
    "    for k in range(1, npub + 1):\n",
    "        carousel.append(item_str.format(k=k))\n",
    "    carousel.append(\"  </div>\")\n",
    "    return '\\n'.join(carousel)\n",
    "\n",
    "def create_grid(npub=4):\n",
    "    \"\"\" Generate the HTML code for a flat grid with `npub` slides \"\"\"\n",
    "    grid = [\"\"\"  <div class=\"grid\"> \"\"\",\n",
    "                ]\n",
    "    \n",
    "    item_str = \"\"\"    <div class=\"grid-item\"> <div id=\"slide{k}\" class=\"md_view\">Content {k}</div> </div>\"\"\"\n",
    "    for k in range(1, npub + 1):\n",
    "        grid.append(item_str.format(k=k))\n",
    "    grid.append(\"  </div>\")\n",
    "    return '\\n'.join(grid)"
   ]
  },
  {
   "cell_type": "code",
   "execution_count": 13,
   "id": "a6eac5b6",
   "metadata": {
    "execution": {
     "iopub.execute_input": "2025-10-30T04:14:40.649394Z",
     "iopub.status.busy": "2025-10-30T04:14:40.649182Z",
     "iopub.status.idle": "2025-10-30T04:14:40.654094Z",
     "shell.execute_reply": "2025-10-30T04:14:40.653555Z"
    },
    "papermill": {
     "duration": 0.014187,
     "end_time": "2025-10-30T04:14:40.655083",
     "exception": false,
     "start_time": "2025-10-30T04:14:40.640896",
     "status": "completed"
    },
    "scrolled": false,
    "tags": []
   },
   "outputs": [],
   "source": [
    "carousel = create_carousel(npub)\n",
    "docs = ', '.join(['\"{0:s}\"'.format(k.split('/')[-1]) for k in res])\n",
    "slides = ', '.join([f'\"slide{k}\"' for k in range(1, npub + 1)])\n",
    "\n",
    "with open(\"daily_template.html\", \"r\") as tpl:\n",
    "    page = tpl.read()\n",
    "    page = page.replace(\"{%-- carousel:s --%}\", carousel)\\\n",
    "               .replace(\"{%-- suptitle:s --%}\",  \"7-day archives\" )\\\n",
    "               .replace(\"{%-- docs:s --%}\", docs)\\\n",
    "               .replace(\"{%-- slides:s --%}\", slides)\n",
    "    \n",
    "with open(\"_build/html/index_7days.html\", 'w') as fout:\n",
    "    fout.write(page)"
   ]
  },
  {
   "cell_type": "code",
   "execution_count": 14,
   "id": "adc1a1ec",
   "metadata": {
    "execution": {
     "iopub.execute_input": "2025-10-30T04:14:40.671338Z",
     "iopub.status.busy": "2025-10-30T04:14:40.671093Z",
     "iopub.status.idle": "2025-10-30T04:14:40.677462Z",
     "shell.execute_reply": "2025-10-30T04:14:40.676794Z"
    },
    "papermill": {
     "duration": 0.015579,
     "end_time": "2025-10-30T04:14:40.678420",
     "exception": false,
     "start_time": "2025-10-30T04:14:40.662841",
     "status": "completed"
    },
    "tags": []
   },
   "outputs": [
    {
     "name": "stdout",
     "output_type": "stream",
     "text": [
      "3  publications in the last day.\n"
     ]
    }
   ],
   "source": [
    "# redo for today\n",
    "days = 1\n",
    "res = list(get_last_n_days(dates, days))\n",
    "npub = len(res)\n",
    "print(len(res), f\" publications in the last day.\")\n",
    "\n",
    "carousel = create_carousel(npub)\n",
    "docs = ', '.join(['\"{0:s}\"'.format(k.split('/')[-1]) for k in res])\n",
    "slides = ', '.join([f'\"slide{k}\"' for k in range(1, npub + 1)])\n",
    "\n",
    "with open(\"daily_template.html\", \"r\") as tpl:\n",
    "    page = tpl.read()\n",
    "    page = page.replace(\"{%-- carousel:s --%}\", carousel)\\\n",
    "               .replace(\"{%-- suptitle:s --%}\",  \"Daily\" )\\\n",
    "               .replace(\"{%-- docs:s --%}\", docs)\\\n",
    "               .replace(\"{%-- slides:s --%}\", slides)\n",
    "    \n",
    "# print(carousel, docs, slides)\n",
    "# print(page)\n",
    "with open(\"_build/html/index_daily.html\", 'w') as fout:\n",
    "    fout.write(page)"
   ]
  },
  {
   "cell_type": "code",
   "execution_count": 15,
   "id": "00eece82",
   "metadata": {
    "execution": {
     "iopub.execute_input": "2025-10-30T04:14:40.694814Z",
     "iopub.status.busy": "2025-10-30T04:14:40.694538Z",
     "iopub.status.idle": "2025-10-30T04:14:40.701033Z",
     "shell.execute_reply": "2025-10-30T04:14:40.700489Z"
    },
    "papermill": {
     "duration": 0.015776,
     "end_time": "2025-10-30T04:14:40.702006",
     "exception": false,
     "start_time": "2025-10-30T04:14:40.686230",
     "status": "completed"
    },
    "scrolled": false,
    "tags": []
   },
   "outputs": [
    {
     "name": "stdout",
     "output_type": "stream",
     "text": [
      "6  6 publications selected.\n"
     ]
    }
   ],
   "source": [
    "# Create the flat grid of the last N papers (fixed number regardless of dates)\n",
    "from itertools import islice \n",
    "\n",
    "npub = 6\n",
    "res = [k[0] for k in (islice(reversed(sorted(dates, key=lambda x: x[1])), 6))]\n",
    "print(len(res), f\" {npub} publications selected.\")\n",
    "\n",
    "grid = create_grid(npub)\n",
    "docs = ', '.join(['\"{0:s}\"'.format(k.split('/')[-1]) for k in res])\n",
    "slides = ', '.join([f'\"slide{k}\"' for k in range(1, npub + 1)])\n",
    "\n",
    "with open(\"grid_template.html\", \"r\") as tpl:\n",
    "    page = tpl.read()\n",
    "    page = page.replace(\"{%-- grid-content:s --%}\", grid)\\\n",
    "               .replace(\"{%-- suptitle:s --%}\",  f\"Last {npub:,d} papers\" )\\\n",
    "               .replace(\"{%-- docs:s --%}\", docs)\\\n",
    "               .replace(\"{%-- slides:s --%}\", slides)\n",
    "    \n",
    "# print(grid, docs, slides)\n",
    "# print(page)\n",
    "with open(\"_build/html/index_npub_grid.html\", 'w') as fout:\n",
    "    fout.write(page)"
   ]
  }
 ],
 "metadata": {
  "kernelspec": {
   "display_name": "Python 3 (ipykernel)",
   "language": "python",
   "name": "python3"
  },
  "language_info": {
   "codemirror_mode": {
    "name": "ipython",
    "version": 3
   },
   "file_extension": ".py",
   "mimetype": "text/x-python",
   "name": "python",
   "nbconvert_exporter": "python",
   "pygments_lexer": "ipython3",
   "version": "3.9.23"
  },
  "papermill": {
   "default_parameters": {},
   "duration": 127.009274,
   "end_time": "2025-10-30T04:14:41.025891",
   "environment_variables": {},
   "exception": null,
   "input_path": "MPIA daily digest.ipynb",
   "output_path": "log.ipynb",
   "parameters": {},
   "start_time": "2025-10-30T04:12:34.016617",
   "version": "2.6.0"
  },
  "vscode": {
   "interpreter": {
    "hash": "aee8b7b246df8f9039afb4144a1f6fd8d2ca17a180786b69acc140d282b71a49"
   }
  },
  "widgets": {
   "application/vnd.jupyter.widget-state+json": {
    "state": {
     "23f8749677994f9d9f4ff31a17a11990": {
      "model_module": "@jupyter-widgets/controls",
      "model_module_version": "2.0.0",
      "model_name": "ProgressStyleModel",
      "state": {
       "_model_module": "@jupyter-widgets/controls",
       "_model_module_version": "2.0.0",
       "_model_name": "ProgressStyleModel",
       "_view_count": null,
       "_view_module": "@jupyter-widgets/base",
       "_view_module_version": "2.0.0",
       "_view_name": "StyleView",
       "bar_color": null,
       "description_width": ""
      }
     },
     "49caaaae7d0a44fbb115f76f02f2b401": {
      "model_module": "@jupyter-widgets/base",
      "model_module_version": "2.0.0",
      "model_name": "LayoutModel",
      "state": {
       "_model_module": "@jupyter-widgets/base",
       "_model_module_version": "2.0.0",
       "_model_name": "LayoutModel",
       "_view_count": null,
       "_view_module": "@jupyter-widgets/base",
       "_view_module_version": "2.0.0",
       "_view_name": "LayoutView",
       "align_content": null,
       "align_items": null,
       "align_self": null,
       "border_bottom": null,
       "border_left": null,
       "border_right": null,
       "border_top": null,
       "bottom": null,
       "display": null,
       "flex": null,
       "flex_flow": null,
       "grid_area": null,
       "grid_auto_columns": null,
       "grid_auto_flow": null,
       "grid_auto_rows": null,
       "grid_column": null,
       "grid_gap": null,
       "grid_row": null,
       "grid_template_areas": null,
       "grid_template_columns": null,
       "grid_template_rows": null,
       "height": null,
       "justify_content": null,
       "justify_items": null,
       "left": null,
       "margin": null,
       "max_height": null,
       "max_width": null,
       "min_height": null,
       "min_width": null,
       "object_fit": null,
       "object_position": null,
       "order": null,
       "overflow": null,
       "padding": null,
       "right": null,
       "top": null,
       "visibility": null,
       "width": null
      }
     },
     "4db9da6bdc914aa888388db500f67132": {
      "model_module": "@jupyter-widgets/controls",
      "model_module_version": "2.0.0",
      "model_name": "HTMLStyleModel",
      "state": {
       "_model_module": "@jupyter-widgets/controls",
       "_model_module_version": "2.0.0",
       "_model_name": "HTMLStyleModel",
       "_view_count": null,
       "_view_module": "@jupyter-widgets/base",
       "_view_module_version": "2.0.0",
       "_view_name": "StyleView",
       "background": null,
       "description_width": "",
       "font_size": null,
       "text_color": null
      }
     },
     "50483089975c4d55abb9912f93859c32": {
      "model_module": "@jupyter-widgets/base",
      "model_module_version": "2.0.0",
      "model_name": "LayoutModel",
      "state": {
       "_model_module": "@jupyter-widgets/base",
       "_model_module_version": "2.0.0",
       "_model_name": "LayoutModel",
       "_view_count": null,
       "_view_module": "@jupyter-widgets/base",
       "_view_module_version": "2.0.0",
       "_view_name": "LayoutView",
       "align_content": null,
       "align_items": null,
       "align_self": null,
       "border_bottom": null,
       "border_left": null,
       "border_right": null,
       "border_top": null,
       "bottom": null,
       "display": null,
       "flex": null,
       "flex_flow": null,
       "grid_area": null,
       "grid_auto_columns": null,
       "grid_auto_flow": null,
       "grid_auto_rows": null,
       "grid_column": null,
       "grid_gap": null,
       "grid_row": null,
       "grid_template_areas": null,
       "grid_template_columns": null,
       "grid_template_rows": null,
       "height": null,
       "justify_content": null,
       "justify_items": null,
       "left": null,
       "margin": null,
       "max_height": null,
       "max_width": null,
       "min_height": null,
       "min_width": null,
       "object_fit": null,
       "object_position": null,
       "order": null,
       "overflow": null,
       "padding": null,
       "right": null,
       "top": null,
       "visibility": null,
       "width": null
      }
     },
     "70c16456875544b5949b71badcf6367a": {
      "model_module": "@jupyter-widgets/controls",
      "model_module_version": "2.0.0",
      "model_name": "HTMLModel",
      "state": {
       "_dom_classes": [],
       "_model_module": "@jupyter-widgets/controls",
       "_model_module_version": "2.0.0",
       "_model_name": "HTMLModel",
       "_view_count": null,
       "_view_module": "@jupyter-widgets/controls",
       "_view_module_version": "2.0.0",
       "_view_name": "HTMLView",
       "description": "",
       "description_allow_html": false,
       "layout": "IPY_MODEL_50483089975c4d55abb9912f93859c32",
       "placeholder": "​",
       "style": "IPY_MODEL_4db9da6bdc914aa888388db500f67132",
       "tabbable": null,
       "tooltip": null,
       "value": " 9/9 [01:42&lt;00:00, 21.88s/it]"
      }
     },
     "7371100bc8b74cec9b2b30b33582f674": {
      "model_module": "@jupyter-widgets/base",
      "model_module_version": "2.0.0",
      "model_name": "LayoutModel",
      "state": {
       "_model_module": "@jupyter-widgets/base",
       "_model_module_version": "2.0.0",
       "_model_name": "LayoutModel",
       "_view_count": null,
       "_view_module": "@jupyter-widgets/base",
       "_view_module_version": "2.0.0",
       "_view_name": "LayoutView",
       "align_content": null,
       "align_items": null,
       "align_self": null,
       "border_bottom": null,
       "border_left": null,
       "border_right": null,
       "border_top": null,
       "bottom": null,
       "display": null,
       "flex": null,
       "flex_flow": null,
       "grid_area": null,
       "grid_auto_columns": null,
       "grid_auto_flow": null,
       "grid_auto_rows": null,
       "grid_column": null,
       "grid_gap": null,
       "grid_row": null,
       "grid_template_areas": null,
       "grid_template_columns": null,
       "grid_template_rows": null,
       "height": null,
       "justify_content": null,
       "justify_items": null,
       "left": null,
       "margin": null,
       "max_height": null,
       "max_width": null,
       "min_height": null,
       "min_width": null,
       "object_fit": null,
       "object_position": null,
       "order": null,
       "overflow": null,
       "padding": null,
       "right": null,
       "top": null,
       "visibility": null,
       "width": null
      }
     },
     "76fc0d363d9b4c1f8d76d0c583fe23bd": {
      "model_module": "@jupyter-widgets/controls",
      "model_module_version": "2.0.0",
      "model_name": "HTMLStyleModel",
      "state": {
       "_model_module": "@jupyter-widgets/controls",
       "_model_module_version": "2.0.0",
       "_model_name": "HTMLStyleModel",
       "_view_count": null,
       "_view_module": "@jupyter-widgets/base",
       "_view_module_version": "2.0.0",
       "_view_name": "StyleView",
       "background": null,
       "description_width": "",
       "font_size": null,
       "text_color": null
      }
     },
     "b0374db00aa441d589ed399718d268ca": {
      "model_module": "@jupyter-widgets/controls",
      "model_module_version": "2.0.0",
      "model_name": "HTMLModel",
      "state": {
       "_dom_classes": [],
       "_model_module": "@jupyter-widgets/controls",
       "_model_module_version": "2.0.0",
       "_model_name": "HTMLModel",
       "_view_count": null,
       "_view_module": "@jupyter-widgets/controls",
       "_view_module_version": "2.0.0",
       "_view_name": "HTMLView",
       "description": "",
       "description_allow_html": false,
       "layout": "IPY_MODEL_49caaaae7d0a44fbb115f76f02f2b401",
       "placeholder": "​",
       "style": "IPY_MODEL_76fc0d363d9b4c1f8d76d0c583fe23bd",
       "tabbable": null,
       "tooltip": null,
       "value": "100%"
      }
     },
     "b1bcb95b1e984a2eaf0913cee5c02507": {
      "model_module": "@jupyter-widgets/controls",
      "model_module_version": "2.0.0",
      "model_name": "HBoxModel",
      "state": {
       "_dom_classes": [],
       "_model_module": "@jupyter-widgets/controls",
       "_model_module_version": "2.0.0",
       "_model_name": "HBoxModel",
       "_view_count": null,
       "_view_module": "@jupyter-widgets/controls",
       "_view_module_version": "2.0.0",
       "_view_name": "HBoxView",
       "box_style": "",
       "children": [
        "IPY_MODEL_b0374db00aa441d589ed399718d268ca",
        "IPY_MODEL_fb1ee29b27ce4e8e86168e2e721ca587",
        "IPY_MODEL_70c16456875544b5949b71badcf6367a"
       ],
       "layout": "IPY_MODEL_7371100bc8b74cec9b2b30b33582f674",
       "tabbable": null,
       "tooltip": null
      }
     },
     "fb1ee29b27ce4e8e86168e2e721ca587": {
      "model_module": "@jupyter-widgets/controls",
      "model_module_version": "2.0.0",
      "model_name": "FloatProgressModel",
      "state": {
       "_dom_classes": [],
       "_model_module": "@jupyter-widgets/controls",
       "_model_module_version": "2.0.0",
       "_model_name": "FloatProgressModel",
       "_view_count": null,
       "_view_module": "@jupyter-widgets/controls",
       "_view_module_version": "2.0.0",
       "_view_name": "ProgressView",
       "bar_style": "success",
       "description": "",
       "description_allow_html": false,
       "layout": "IPY_MODEL_fc68b890c19f4c78ae50ffd2bef97e55",
       "max": 9.0,
       "min": 0.0,
       "orientation": "horizontal",
       "style": "IPY_MODEL_23f8749677994f9d9f4ff31a17a11990",
       "tabbable": null,
       "tooltip": null,
       "value": 9.0
      }
     },
     "fc68b890c19f4c78ae50ffd2bef97e55": {
      "model_module": "@jupyter-widgets/base",
      "model_module_version": "2.0.0",
      "model_name": "LayoutModel",
      "state": {
       "_model_module": "@jupyter-widgets/base",
       "_model_module_version": "2.0.0",
       "_model_name": "LayoutModel",
       "_view_count": null,
       "_view_module": "@jupyter-widgets/base",
       "_view_module_version": "2.0.0",
       "_view_name": "LayoutView",
       "align_content": null,
       "align_items": null,
       "align_self": null,
       "border_bottom": null,
       "border_left": null,
       "border_right": null,
       "border_top": null,
       "bottom": null,
       "display": null,
       "flex": null,
       "flex_flow": null,
       "grid_area": null,
       "grid_auto_columns": null,
       "grid_auto_flow": null,
       "grid_auto_rows": null,
       "grid_column": null,
       "grid_gap": null,
       "grid_row": null,
       "grid_template_areas": null,
       "grid_template_columns": null,
       "grid_template_rows": null,
       "height": null,
       "justify_content": null,
       "justify_items": null,
       "left": null,
       "margin": null,
       "max_height": null,
       "max_width": null,
       "min_height": null,
       "min_width": null,
       "object_fit": null,
       "object_position": null,
       "order": null,
       "overflow": null,
       "padding": null,
       "right": null,
       "top": null,
       "visibility": null,
       "width": null
      }
     }
    },
    "version_major": 2,
    "version_minor": 0
   }
  }
 },
 "nbformat": 4,
 "nbformat_minor": 5
}