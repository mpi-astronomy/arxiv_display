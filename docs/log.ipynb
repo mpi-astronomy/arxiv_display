{
 "cells": [
  {
   "cell_type": "markdown",
   "id": "92bcb855",
   "metadata": {
    "papermill": {
     "duration": 0.005735,
     "end_time": "2022-10-04T04:46:43.228987",
     "exception": false,
     "start_time": "2022-10-04T04:46:43.223252",
     "status": "completed"
    },
    "tags": []
   },
   "source": [
    "# MPIA Arxiv on Deck 2\n",
    "\n",
    "Contains the steps to produce the paper extractions."
   ]
  },
  {
   "cell_type": "code",
   "execution_count": 1,
   "id": "3a0d6e11",
   "metadata": {
    "execution": {
     "iopub.execute_input": "2022-10-04T04:46:43.239457Z",
     "iopub.status.busy": "2022-10-04T04:46:43.238637Z",
     "iopub.status.idle": "2022-10-04T04:46:43.410039Z",
     "shell.execute_reply": "2022-10-04T04:46:43.409317Z"
    },
    "papermill": {
     "duration": 0.178901,
     "end_time": "2022-10-04T04:46:43.412321",
     "exception": false,
     "start_time": "2022-10-04T04:46:43.233420",
     "status": "completed"
    },
    "tags": []
   },
   "outputs": [],
   "source": [
    "# Imports\n",
    "import os\n",
    "from IPython.display import Markdown, display\n",
    "from tqdm.notebook import tqdm\n",
    "import warnings\n",
    "from PIL import Image \n",
    "\n",
    "# requires arxiv_on_deck_2\n",
    "\n",
    "from arxiv_on_deck_2.arxiv2 import (get_new_papers, \n",
    "                                    get_paper_from_identifier,\n",
    "                                    retrieve_document_source, \n",
    "                                    get_markdown_badge)\n",
    "from arxiv_on_deck_2 import (latex, \n",
    "                             mpia,\n",
    "                             highlight_authors_in_list)\n",
    "\n",
    "# Sometimes images are really big\n",
    "Image.MAX_IMAGE_PIXELS = 1000000000 "
   ]
  },
  {
   "cell_type": "code",
   "execution_count": 2,
   "id": "22aa9d44",
   "metadata": {
    "execution": {
     "iopub.execute_input": "2022-10-04T04:46:43.422339Z",
     "iopub.status.busy": "2022-10-04T04:46:43.421767Z",
     "iopub.status.idle": "2022-10-04T04:46:43.426817Z",
     "shell.execute_reply": "2022-10-04T04:46:43.426181Z"
    },
    "papermill": {
     "duration": 0.011732,
     "end_time": "2022-10-04T04:46:43.428442",
     "exception": false,
     "start_time": "2022-10-04T04:46:43.416710",
     "status": "completed"
    },
    "tags": []
   },
   "outputs": [],
   "source": [
    "# Some useful definitions.\n",
    "\n",
    "class AffiliationWarning(UserWarning):\n",
    "    pass\n",
    "\n",
    "class AffiliationError(RuntimeError):\n",
    "    pass\n",
    "\n",
    "def validation(source: str):\n",
    "    \"\"\"Raises error paper during parsing of source file\n",
    "    \n",
    "    Allows checks before parsing TeX code.\n",
    "    \n",
    "    Raises AffiliationWarning\n",
    "    \"\"\"\n",
    "    check = mpia.affiliation_verifications(source, verbose=True)\n",
    "    if check is not True:\n",
    "        raise AffiliationError(\"mpia.affiliation_verifications: \" + check)\n",
    "\n",
    "        \n",
    "warnings.simplefilter('always', AffiliationWarning)"
   ]
  },
  {
   "cell_type": "code",
   "execution_count": 3,
   "id": "14622700",
   "metadata": {
    "execution": {
     "iopub.execute_input": "2022-10-04T04:46:43.439092Z",
     "iopub.status.busy": "2022-10-04T04:46:43.438545Z",
     "iopub.status.idle": "2022-10-04T04:46:43.442549Z",
     "shell.execute_reply": "2022-10-04T04:46:43.441891Z"
    },
    "papermill": {
     "duration": 0.012084,
     "end_time": "2022-10-04T04:46:43.444321",
     "exception": false,
     "start_time": "2022-10-04T04:46:43.432237",
     "status": "completed"
    },
    "tags": []
   },
   "outputs": [],
   "source": [
    "# additional CSS to consider. \n",
    "# TODO: Current into each exported file. \n",
    "#       This should be set once into the webpages directly.\n",
    "#       With only the class/id definitions in the .md files.\n",
    "\n",
    "debug_html = \"\"\"\n",
    "<style>\n",
    "#wrap{ overflow:auto; }\n",
    "#fig1{ background:yellow; width:100%; float:left; padding:5px;  }\n",
    "#fig2{ background:red; width:50%; float:left; clear:left; padding:5px;  }\n",
    "#fig3{ background:green; width:50%; float:left; padding:5px;   }\n",
    ".macros{ background:yellow; visibility:visible;}\n",
    "h1 {margin: 0 0 0 0;}\n",
    "mark {background-color:#fff3b6;}\n",
    "img {object-fit:contain; max-height:250px; display:inline-block; text-align: center;}\n",
    "</style>\n",
    "\"\"\" \n",
    "html = \"\"\"\n",
    "<style>\n",
    "#wrap{ overflow:auto; }\n",
    "#fig1{ width:100%; float:left; padding: 5px;  }\n",
    "#fig2{ width:50%; float:left; clear:left; padding: 5px;  }\n",
    "#fig3{ width:50%; float:left; padding: 5px;  }\n",
    ".macros{ visibility:hidden; height:0px; }\n",
    "h1 {margin: 0em 0 0 0;}\n",
    "mark {background-color:#fff3b6;}\n",
    "img {object-fit:contain; max-height:250px; display:inline-block; text-align: center;}\n",
    "</style>\n",
    "\"\"\""
   ]
  },
  {
   "cell_type": "markdown",
   "id": "14bd6310",
   "metadata": {
    "papermill": {
     "duration": 0.003848,
     "end_time": "2022-10-04T04:46:43.451947",
     "exception": false,
     "start_time": "2022-10-04T04:46:43.448099",
     "status": "completed"
    },
    "tags": []
   },
   "source": [
    "## get list of arxiv paper candidates\n",
    "\n",
    "We use the MPIA mitarbeiter list webpage from mpia.de to get author names\n",
    "We then get all new papers from Arxiv and match authors"
   ]
  },
  {
   "cell_type": "code",
   "execution_count": 4,
   "id": "2645e73a",
   "metadata": {
    "execution": {
     "iopub.execute_input": "2022-10-04T04:46:43.460969Z",
     "iopub.status.busy": "2022-10-04T04:46:43.460501Z",
     "iopub.status.idle": "2022-10-04T04:47:06.622415Z",
     "shell.execute_reply": "2022-10-04T04:47:06.621758Z"
    },
    "papermill": {
     "duration": 23.168495,
     "end_time": "2022-10-04T04:47:06.624308",
     "exception": false,
     "start_time": "2022-10-04T04:46:43.455813",
     "status": "completed"
    },
    "tags": []
   },
   "outputs": [
    {
     "name": "stdout",
     "output_type": "stream",
     "text": [
      "Arxiv has 61 new papers today\n",
      "          22 with possible author matches\n"
     ]
    }
   ],
   "source": [
    "# get list from MPIA website\n",
    "# it automatically filters identified non-scientists :func:`mpia.filter_non_scientists`\n",
    "mpia_authors = mpia.get_mpia_mitarbeiter_list()\n",
    "new_papers = get_new_papers()\n",
    "# add manual references\n",
    "add_paper_refs = []\n",
    "new_papers.extend([get_paper_from_identifier(k) for k in add_paper_refs])\n",
    "\n",
    "# select only papers with matching author names and highlight authors\n",
    "hl_list = [k[0] for k in mpia_authors]\n",
    "\n",
    "candidates = []\n",
    "for paperk in new_papers:\n",
    "    hl_authors = highlight_authors_in_list(paperk['authors'], hl_list)\n",
    "    matches = [(hl, orig) for hl, orig in zip(hl_authors, paperk['authors']) if 'mark' in hl]\n",
    "    paperk['authors'] = hl_authors\n",
    "    if matches:\n",
    "        candidates.append(paperk)\n",
    "print(\"\"\"Arxiv has {0:,d} new papers today\"\"\".format(len(new_papers)))        \n",
    "print(\"\"\"          {0:,d} with possible author matches\"\"\".format(len(candidates)))"
   ]
  },
  {
   "cell_type": "markdown",
   "id": "3543b34a",
   "metadata": {
    "papermill": {
     "duration": 0.004188,
     "end_time": "2022-10-04T04:47:06.632929",
     "exception": false,
     "start_time": "2022-10-04T04:47:06.628741",
     "status": "completed"
    },
    "tags": []
   },
   "source": [
    "# Parse sources and generate relevant outputs\n",
    "\n",
    "From the candidates, we do the following steps:\n",
    "* get their tarball from ArXiv (and extract data)\n",
    "* find the main .tex file: find one with \\documentclass{...} (sometimes it's non trivial)\n",
    "* Check affiliations with :func:`validation`, which uses :func:`mpia.affiliation_verifications`\n",
    "* If passing the affiliations: we parse the .tex source\n",
    "   * inject sub-documents into the main (flatten the main document)\n",
    "   * parse structure, extract information (title, abstract, authors, figures...)\n",
    "   * handles `\\graphicspath` if provided\n",
    "* Generate the .md document."
   ]
  },
  {
   "cell_type": "code",
   "execution_count": 5,
   "id": "9576b79e",
   "metadata": {
    "execution": {
     "iopub.execute_input": "2022-10-04T04:47:06.643022Z",
     "iopub.status.busy": "2022-10-04T04:47:06.642282Z",
     "iopub.status.idle": "2022-10-04T04:48:54.371483Z",
     "shell.execute_reply": "2022-10-04T04:48:54.370784Z"
    },
    "papermill": {
     "duration": 107.736624,
     "end_time": "2022-10-04T04:48:54.373550",
     "exception": false,
     "start_time": "2022-10-04T04:47:06.636926",
     "status": "completed"
    },
    "scrolled": false,
    "tags": []
   },
   "outputs": [
    {
     "data": {
      "application/vnd.jupyter.widget-view+json": {
       "model_id": "5dab0e7ca92d4aee86152285887e16e5",
       "version_major": 2,
       "version_minor": 0
      },
      "text/plain": [
       "  0%|          | 0/21 [00:00<?, ?it/s]"
      ]
     },
     "metadata": {},
     "output_type": "display_data"
    },
    {
     "name": "stdout",
     "output_type": "stream",
     "text": [
      "Retrieving document from  https://arxiv.org/e-print/2210.00004\n"
     ]
    },
    {
     "name": "stdout",
     "output_type": "stream",
     "text": [
      "extracting tarball to tmp_2210.00004..."
     ]
    },
    {
     "name": "stdout",
     "output_type": "stream",
     "text": [
      " done.\n",
      "Retrieving document from  https://arxiv.org/e-print/2210.00009\n"
     ]
    },
    {
     "name": "stdout",
     "output_type": "stream",
     "text": [
      "extracting tarball to tmp_2210.00009... done.\n",
      "Retrieving document from  https://arxiv.org/e-print/2210.00028\n"
     ]
    },
    {
     "name": "stderr",
     "output_type": "stream",
     "text": [
      "/opt/hostedtoolcache/Python/3.9.14/x64/lib/python3.9/site-packages/IPython/core/interactiveshell.py:3378: LatexWarning: Multiple tex files.\n",
      "\n",
      "  exec(code_obj, self.user_global_ns, self.user_ns)\n",
      "/opt/hostedtoolcache/Python/3.9.14/x64/lib/python3.9/site-packages/IPython/core/interactiveshell.py:3378: LatexWarning: Found documentclass in tmp_2210.00009/extendingudgfreq.tex\n",
      "\n",
      "  exec(code_obj, self.user_global_ns, self.user_ns)\n"
     ]
    },
    {
     "name": "stdout",
     "output_type": "stream",
     "text": [
      "extracting tarball to tmp_2210.00028..."
     ]
    },
    {
     "name": "stdout",
     "output_type": "stream",
     "text": [
      " done.\n",
      "Retrieving document from  https://arxiv.org/e-print/2210.00149\n"
     ]
    },
    {
     "name": "stderr",
     "output_type": "stream",
     "text": [
      "/opt/hostedtoolcache/Python/3.9.14/x64/lib/python3.9/site-packages/arxiv_on_deck_2/latex.py:292: LatexWarning: Latex injecting: 'main.bbl' from 'tmp_2210.00028/main.tex'\n",
      "  warnings.warn(LatexWarning(f\"Latex injecting: '{ext}' from '{subsource}'\"))\n"
     ]
    },
    {
     "name": "stdout",
     "output_type": "stream",
     "text": [
      "extracting tarball to tmp_2210.00149..."
     ]
    },
    {
     "name": "stdout",
     "output_type": "stream",
     "text": [
      " done.\n",
      "Retrieving document from  https://arxiv.org/e-print/2210.00341\n"
     ]
    },
    {
     "name": "stderr",
     "output_type": "stream",
     "text": [
      "/opt/hostedtoolcache/Python/3.9.14/x64/lib/python3.9/site-packages/IPython/core/interactiveshell.py:3378: LatexWarning: Multiple tex files.\n",
      "\n",
      "  exec(code_obj, self.user_global_ns, self.user_ns)\n",
      "/opt/hostedtoolcache/Python/3.9.14/x64/lib/python3.9/site-packages/IPython/core/interactiveshell.py:3378: LatexWarning: Found documentclass in tmp_2210.00149/paper_for_arxiv.tex\n",
      "\n",
      "  exec(code_obj, self.user_global_ns, self.user_ns)\n",
      "/opt/hostedtoolcache/Python/3.9.14/x64/lib/python3.9/site-packages/arxiv_on_deck_2/latex.py:292: LatexWarning: Latex injecting: 'journal_definitions' from 'tmp_2210.00149/journal_definitions.tex'\n",
      "  warnings.warn(LatexWarning(f\"Latex injecting: '{ext}' from '{subsource}'\"))\n"
     ]
    },
    {
     "name": "stdout",
     "output_type": "stream",
     "text": [
      "extracting tarball to tmp_2210.00341..."
     ]
    },
    {
     "name": "stdout",
     "output_type": "stream",
     "text": [
      " done.\n"
     ]
    },
    {
     "name": "stderr",
     "output_type": "stream",
     "text": [
      "/opt/hostedtoolcache/Python/3.9.14/x64/lib/python3.9/site-packages/IPython/core/interactiveshell.py:3378: LatexWarning: Multiple tex files.\n",
      "\n",
      "  exec(code_obj, self.user_global_ns, self.user_ns)\n",
      "/opt/hostedtoolcache/Python/3.9.14/x64/lib/python3.9/site-packages/IPython/core/interactiveshell.py:3378: LatexWarning: Found documentclass in tmp_2210.00341/MAIN_TEXT.tex\n",
      "\n",
      "  exec(code_obj, self.user_global_ns, self.user_ns)\n"
     ]
    },
    {
     "name": "stderr",
     "output_type": "stream",
     "text": [
      "/opt/hostedtoolcache/Python/3.9.14/x64/lib/python3.9/site-packages/arxiv_on_deck_2/latex.py:366: LatexWarning: Error parsing the document directly. Trying to recover.\n",
      "  warnings.warn(LatexWarning(f\"Error parsing the document directly. Trying to recover.\"))\n"
     ]
    },
    {
     "name": "stdout",
     "output_type": "stream",
     "text": [
      "✘ → 0:header\n",
      "  ↳ 3409:\\section{Introduction}\n",
      "✔ → 3409:\\section{Introduction}\n",
      "  ↳ 6823:\\section{Simulations}\n",
      "✔ → 6823:\\section{Simulations}\n",
      "  ↳ 7741:\\section{Spectral analysis}\n"
     ]
    },
    {
     "name": "stdout",
     "output_type": "stream",
     "text": [
      "✔ → 7741:\\section{Spectral analysis}\n",
      "  ↳ 13223:\\section{Results}\n"
     ]
    },
    {
     "name": "stdout",
     "output_type": "stream",
     "text": [
      "✔ → 13223:\\section{Results}\n",
      "  ↳ 26045:\\section{Conclusions}\n",
      "✔ → 26045:\\section{Conclusions}\n",
      "  ↳ 27910:end\n",
      "Retrieving document from  https://arxiv.org/e-print/2210.00398\n"
     ]
    },
    {
     "name": "stderr",
     "output_type": "stream",
     "text": [
      "/tmp/ipykernel_2247/4030337529.py:34: LatexWarning: 2210.00341 did not run properly\n",
      "list index out of range\n",
      "  warnings.warn(latex.LatexWarning(f\"{paper_id:s} did not run properly\\n\" +\n"
     ]
    },
    {
     "name": "stdout",
     "output_type": "stream",
     "text": [
      "extracting tarball to tmp_2210.00398..."
     ]
    },
    {
     "name": "stdout",
     "output_type": "stream",
     "text": [
      " done.\n",
      "Retrieving document from  https://arxiv.org/e-print/2210.00410\n"
     ]
    },
    {
     "name": "stdout",
     "output_type": "stream",
     "text": [
      "extracting tarball to tmp_2210.00410... done.\n",
      "Retrieving document from  https://arxiv.org/e-print/2210.00509\n"
     ]
    },
    {
     "name": "stderr",
     "output_type": "stream",
     "text": [
      "/opt/hostedtoolcache/Python/3.9.14/x64/lib/python3.9/site-packages/IPython/core/interactiveshell.py:3378: LatexWarning: Multiple tex files.\n",
      "\n",
      "  exec(code_obj, self.user_global_ns, self.user_ns)\n",
      "/opt/hostedtoolcache/Python/3.9.14/x64/lib/python3.9/site-packages/IPython/core/interactiveshell.py:3378: LatexWarning: Found documentclass in tmp_2210.00410/arxiv_ms_universe_b.tex\n",
      "\n",
      "  exec(code_obj, self.user_global_ns, self.user_ns)\n"
     ]
    },
    {
     "name": "stdout",
     "output_type": "stream",
     "text": [
      "extracting tarball to tmp_2210.00509..."
     ]
    },
    {
     "name": "stdout",
     "output_type": "stream",
     "text": [
      " done.\n",
      "Retrieving document from  https://arxiv.org/e-print/2210.00544\n"
     ]
    },
    {
     "name": "stdout",
     "output_type": "stream",
     "text": [
      "extracting tarball to tmp_2210.00544... done.\n",
      "Retrieving document from  https://arxiv.org/e-print/2210.00550\n"
     ]
    },
    {
     "name": "stdout",
     "output_type": "stream",
     "text": [
      "extracting tarball to tmp_2210.00550..."
     ]
    },
    {
     "name": "stdout",
     "output_type": "stream",
     "text": [
      " done.\n",
      "Retrieving document from  https://arxiv.org/e-print/2210.00560\n"
     ]
    },
    {
     "name": "stdout",
     "output_type": "stream",
     "text": [
      "extracting tarball to tmp_2210.00560..."
     ]
    },
    {
     "name": "stdout",
     "output_type": "stream",
     "text": [
      " done.\n"
     ]
    },
    {
     "name": "stderr",
     "output_type": "stream",
     "text": [
      "/opt/hostedtoolcache/Python/3.9.14/x64/lib/python3.9/site-packages/IPython/core/interactiveshell.py:3378: LatexWarning: Multiple tex files.\n",
      "\n",
      "  exec(code_obj, self.user_global_ns, self.user_ns)\n",
      "/opt/hostedtoolcache/Python/3.9.14/x64/lib/python3.9/site-packages/IPython/core/interactiveshell.py:3378: LatexWarning: Found documentclass in tmp_2210.00560/main.tex\n",
      "\n",
      "  exec(code_obj, self.user_global_ns, self.user_ns)\n"
     ]
    },
    {
     "name": "stderr",
     "output_type": "stream",
     "text": [
      "/opt/hostedtoolcache/Python/3.9.14/x64/lib/python3.9/site-packages/arxiv_on_deck_2/latex.py:118: LatexWarning: attempting recovering figure Gstr_er\n",
      "  warnings.warn(LatexWarning(f'attempting recovering figure {image}'))\n"
     ]
    },
    {
     "name": "stderr",
     "output_type": "stream",
     "text": [
      "/opt/hostedtoolcache/Python/3.9.14/x64/lib/python3.9/site-packages/arxiv_on_deck_2/latex.py:118: LatexWarning: attempting recovering figure HistoSI\n",
      "  warnings.warn(LatexWarning(f'attempting recovering figure {image}'))\n"
     ]
    },
    {
     "name": "stdout",
     "output_type": "stream",
     "text": [
      "Retrieving document from  https://arxiv.org/e-print/2210.00633\n"
     ]
    },
    {
     "name": "stdout",
     "output_type": "stream",
     "text": [
      "extracting tarball to tmp_2210.00633..."
     ]
    },
    {
     "name": "stdout",
     "output_type": "stream",
     "text": [
      " done.\n",
      "Retrieving document from  https://arxiv.org/e-print/2210.00684\n"
     ]
    },
    {
     "name": "stdout",
     "output_type": "stream",
     "text": [
      "extracting tarball to tmp_2210.00684... done.\n",
      "Retrieving document from  https://arxiv.org/e-print/2210.00746\n"
     ]
    },
    {
     "name": "stdout",
     "output_type": "stream",
     "text": [
      "extracting tarball to tmp_2210.00746..."
     ]
    },
    {
     "name": "stdout",
     "output_type": "stream",
     "text": [
      " done.\n",
      "Retrieving document from  https://arxiv.org/e-print/2210.00819\n"
     ]
    },
    {
     "name": "stdout",
     "output_type": "stream",
     "text": [
      "extracting tarball to tmp_2210.00819..."
     ]
    },
    {
     "name": "stdout",
     "output_type": "stream",
     "text": [
      " done.\n",
      "Retrieving document from  https://arxiv.org/e-print/2210.00830\n"
     ]
    },
    {
     "name": "stderr",
     "output_type": "stream",
     "text": [
      "/tmp/ipykernel_2247/4030337529.py:34: LatexWarning: 2210.00830 did not run properly\n",
      "not a gzip file\n",
      "  warnings.warn(latex.LatexWarning(f\"{paper_id:s} did not run properly\\n\" +\n"
     ]
    },
    {
     "name": "stdout",
     "output_type": "stream",
     "text": [
      "Retrieving document from  https://arxiv.org/e-print/2210.00863\n"
     ]
    },
    {
     "name": "stdout",
     "output_type": "stream",
     "text": [
      "extracting tarball to tmp_2210.00863... done.\n"
     ]
    },
    {
     "name": "stdout",
     "output_type": "stream",
     "text": [
      "Retrieving document from  https://arxiv.org/e-print/2210.01027\n"
     ]
    },
    {
     "name": "stdout",
     "output_type": "stream",
     "text": [
      "extracting tarball to tmp_2210.01027..."
     ]
    },
    {
     "name": "stdout",
     "output_type": "stream",
     "text": [
      " done.\n",
      "Retrieving document from  https://arxiv.org/e-print/2210.01040\n"
     ]
    },
    {
     "name": "stderr",
     "output_type": "stream",
     "text": [
      "/opt/hostedtoolcache/Python/3.9.14/x64/lib/python3.9/site-packages/IPython/core/interactiveshell.py:3378: LatexWarning: Multiple tex files.\n",
      "\n",
      "  exec(code_obj, self.user_global_ns, self.user_ns)\n",
      "/opt/hostedtoolcache/Python/3.9.14/x64/lib/python3.9/site-packages/IPython/core/interactiveshell.py:3378: LatexWarning: Found documentclass in tmp_2210.01027/mnras_guide.tex\n",
      "\n",
      "  exec(code_obj, self.user_global_ns, self.user_ns)\n"
     ]
    },
    {
     "name": "stdout",
     "output_type": "stream",
     "text": [
      "extracting tarball to tmp_2210.01040..."
     ]
    },
    {
     "name": "stdout",
     "output_type": "stream",
     "text": [
      " done.\n",
      "Retrieving document from  https://arxiv.org/e-print/2210.01051\n"
     ]
    },
    {
     "name": "stdout",
     "output_type": "stream",
     "text": [
      "extracting tarball to tmp_2210.01051..."
     ]
    },
    {
     "name": "stdout",
     "output_type": "stream",
     "text": [
      " done.\n",
      "Retrieving document from  https://arxiv.org/e-print/2210.01101\n"
     ]
    },
    {
     "name": "stdout",
     "output_type": "stream",
     "text": [
      "extracting tarball to tmp_2210.01101..."
     ]
    },
    {
     "name": "stdout",
     "output_type": "stream",
     "text": [
      " done.\n"
     ]
    }
   ],
   "source": [
    "documents = []\n",
    "failed = []\n",
    "for paper in tqdm(candidates[:-1]):\n",
    "    paper_id = paper['identifier'].lower().replace('arxiv:', '')\n",
    "    \n",
    "    folder = f'tmp_{paper_id}'\n",
    "\n",
    "    try:\n",
    "        if not os.path.isdir(folder):\n",
    "            folder = retrieve_document_source(f\"{paper_id}\", f'tmp_{paper_id}')\n",
    "        \n",
    "        try:\n",
    "            doc = latex.LatexDocument(folder, validation=validation)    \n",
    "        except AffiliationError as affilerror:\n",
    "            msg = f\"ArXiv:{paper_id:s} is not an MPIA paper... \" + str(affilerror)\n",
    "            failed.append((paper, \"affiliation error: \" + str(affilerror) ))\n",
    "            continue\n",
    "        \n",
    "        # Hack because sometimes author parsing does not work well\n",
    "        if (len(doc.authors) != len(paper['authors'])):\n",
    "            doc._authors = paper['authors']\n",
    "        if (doc.abstract) in (None, ''):\n",
    "            doc._abstract = paper['abstract']\n",
    "            \n",
    "        doc.comment = (get_markdown_badge(paper_id) + \n",
    "                       \"<mark>Appeared on: \" + paper['date'] + \"</mark> - \" +\n",
    "                       \"_\" + paper['comments'] + \"_\")\n",
    "        doc.highlight_authors_in_list(hl_list)\n",
    "\n",
    "        full_md = doc.generate_markdown_text()\n",
    "        \n",
    "        documents.append((paper_id, full_md))\n",
    "    except Exception as e:\n",
    "        warnings.warn(latex.LatexWarning(f\"{paper_id:s} did not run properly\\n\" +\n",
    "                                         str(e)\n",
    "                                        ))\n",
    "        failed.append((paper, \"latex error \" + str(e)))"
   ]
  },
  {
   "cell_type": "markdown",
   "id": "2505a25c",
   "metadata": {
    "papermill": {
     "duration": 0.007103,
     "end_time": "2022-10-04T04:48:54.387717",
     "exception": false,
     "start_time": "2022-10-04T04:48:54.380614",
     "status": "completed"
    },
    "tags": []
   },
   "source": [
    "### Export the logs\n",
    "\n",
    "Throughout, we also keep track of the logs per paper. see `logs-{today date}.md` "
   ]
  },
  {
   "cell_type": "code",
   "execution_count": 6,
   "id": "d733828a",
   "metadata": {
    "execution": {
     "iopub.execute_input": "2022-10-04T04:48:54.402754Z",
     "iopub.status.busy": "2022-10-04T04:48:54.402282Z",
     "iopub.status.idle": "2022-10-04T04:48:54.436112Z",
     "shell.execute_reply": "2022-10-04T04:48:54.435442Z"
    },
    "papermill": {
     "duration": 0.043375,
     "end_time": "2022-10-04T04:48:54.437713",
     "exception": false,
     "start_time": "2022-10-04T04:48:54.394338",
     "status": "completed"
    },
    "scrolled": false,
    "tags": []
   },
   "outputs": [
    {
     "data": {
      "text/markdown": [
       "## Successful papers"
      ],
      "text/plain": [
       "<IPython.core.display.Markdown object>"
      ]
     },
     "metadata": {},
     "output_type": "display_data"
    },
    {
     "data": {
      "text/markdown": [
       "\n",
       "|||\n",
       "|---:|:---|\n",
       "| [![arXiv](https://img.shields.io/badge/arXiv-arXiv:2210.00560-b31b1b.svg)](https://arxiv.org/abs/arXiv:2210.00560) | **GLOSTAR -- Radio Source Catalog II: $28^\\circ < \\ell < 36^\\circ$ and  $|b| < 1^\\circ$, VLA B-configuration**  |\n",
       "|| S. A. Dzib, et al. -- incl., <mark>H. Beuther</mark> |\n",
       "|*Appeared on*| *2022-10-04*|\n",
       "|*Comments*| *25 pages, 15 figures, and 6 tables, Accepted for publication in the Astronomy \\& Astrophysics*|\n",
       "|**Abstract**| As part of the GLOSTAR survey we have used the VLA in its B-configuration to observe the part of the Galactic plane between longitudes of 28d and 36d and latitudes from -1d to +1d at the C-band (4--8 GHz). To reduce the contamination of extended sources that are not well recovered by our coverage of the (u, v)-plane we discarded short baselines that are sensitive to emission on angular scales $<4''$. The resulting radio continuum images have an angular resolution of 1.0'', and sensitivity of $\\sim60 \\mu$Jy~beam$^{-1}$; making it the most sensitive radio survey covering a large area of the Galactic plane with this angular resolution. An automatic source extraction algorithm was used in combination with visual inspection to identify a total of 3325 radio sources. A total of 1457 radio sources are $\\geq7\\sigma$ and comprise our highly reliable catalog; 72 of these are grouped as 22 fragmented sources, e.g., multiple components of an extended and resolved source. To explore the nature of the catalogued radio sources we searched for counterparts at millimeter and infrared wavelengths. Our classification attempts resulted in 93 HII region candidates, 104 radio stars, 64 planetary nebulae, while most of the remaining radio sources are suggested to be extragalactic sources. We investigated the spectral indices ($\\alpha$, $S_\\nu\\propto\\nu^\\alpha$) of radio sources classified as HII region candidates and found that many have negative values. This may imply that these radio sources represent young stellar objects that are members of the star clusters around the high mass stars that excite the HII regions, but not these HII regions themselves. By comparing the peak flux densities from the GLOSTAR and CORNISH surveys we have identified 49 variable radio sources, most of them with an unknown nature. Additionally, we provide the list of 1866 radio sources detected within 5 to 7$\\sigma$ levels. |"
      ],
      "text/plain": [
       "[arXiv:2210.00560] GLOSTAR -- Radio Source Catalog II: $28^\\circ < \\ell < 36^\\circ$ and  $|b| < 1^\\circ$, VLA B-configuration\n",
       "\tS. A. Dzib, et al. -- incl., <mark>H. Beuther</mark>"
      ]
     },
     "metadata": {},
     "output_type": "display_data"
    },
    {
     "data": {
      "text/markdown": [
       "\n",
       "|||\n",
       "|---:|:---|\n",
       "| [![arXiv](https://img.shields.io/badge/arXiv-arXiv:2210.00863-b31b1b.svg)](https://arxiv.org/abs/arXiv:2210.00863) | **Test of binary spectral model on FEROS spectra. First estimation of the  fundamental parameters for HD 20784**  |\n",
       "|| Mikhail Kovalev, <mark>Sarah Gebruers</mark>, Ilya Straumit |\n",
       "|*Appeared on*| *2022-10-04*|\n",
       "|*Comments*| *11 pages, 10 figures, submitted to MNRAS. arXiv admin note: text overlap with arXiv:2204.10680, arXiv:2209.12548*|\n",
       "|**Abstract**| We analyse spectra of 26 early-type stars, with suspected binarity, using a binary spectral model adapted for high-resolution FEROS spectra. We confirm seven SB2 candidates (AE Pic, $\\epsilon$ Vol, HD 20784, HD 208433, HD 43519, HD 56024, CD-73~375A) and derive mass ratios and spectroscopic parameters for them. We find good agreement with theoretical models. For slightly evolved system HD 20784 we made the first estimation of the fundamental parameters and age $\\log{t}=8.5$ yr. |"
      ],
      "text/plain": [
       "[arXiv:2210.00863] Test of binary spectral model on FEROS spectra. First estimation of the  fundamental parameters for HD 20784\n",
       "\tMikhail Kovalev, <mark>Sarah Gebruers</mark>, Ilya Straumit"
      ]
     },
     "metadata": {},
     "output_type": "display_data"
    },
    {
     "data": {
      "text/markdown": [
       "## Failed papers"
      ],
      "text/plain": [
       "<IPython.core.display.Markdown object>"
      ]
     },
     "metadata": {},
     "output_type": "display_data"
    },
    {
     "data": {
      "text/markdown": [
       "\n",
       "|||\n",
       "|---:|:---|\n",
       "| [![arXiv](https://img.shields.io/badge/arXiv-arXiv:2210.00398-b31b1b.svg)](https://arxiv.org/abs/arXiv:2210.00398) | **Globular cluster metallicity distributions in the E-MOSAICS simulations**  |\n",
       "|| Joel Pfeffer, et al. -- incl., <mark>J. M. Diederik Kruijssen</mark> |\n",
       "|*Appeared on*| *2022-10-04*|\n",
       "|*Comments*| *18 pages, 15 figures. Submitted to MNRAS*|\n",
       "|**Abstract**| The metallicity distributions of globular cluster (GC) systems in galaxies are a critical test of any GC formation scenario. In this work, we investigate the predicted GC metallicity distributions of galaxies in the MOdelling Star cluster population Assembly In Cosmological Simulations within EAGLE (E-MOSAICS) simulation of a representative cosmological volume ($L = 34.4$ comoving Mpc). We find that the predicted GC metallicity distributions and median metallicities from the fiducial E-MOSAICS GC formation model agree well the observed distributions, except for galaxies with masses $M_\\ast \\sim 2 \\times 10^{10}$ M$_\\odot$, which contain an overabundance of metal-rich GCs. The predicted fraction of galaxies with bimodal GC metallicity distributions ($37 \\pm 2$ per cent in total; $45 \\pm 7$ per cent for $M_\\ast > 10^{10.5}$ M$_\\odot$) is in good agreement with observed fractions ($44^{+10}_{-9}$ per cent), as are the mean metallicities of the metal-poor and metal-rich peaks. We show that, for massive galaxies ($M_\\ast > 10^{10}$ M$_\\odot$), bimodal GC distributions primarily occur as a result of cluster disruption from initially-unimodal distributions, rather than as a result of cluster formation processes. Based on the distribution of field stars with GC-like abundances in the Milky Way, we suggest that the bimodal GC metallicity distribution of Milky Way GCs also occurred as a result of cluster disruption, rather than formation processes. We conclude that separate formation processes are not required to explain metal-poor and metal-rich GCs, and that GCs can be considered as the surviving analogues of young massive star clusters that are readily observed to form in the local Universe today. |\n",
       "|<p style=\"color:green\"> **ERROR** </p>| <p style=\"color:green\">affiliation error: mpia.affiliation_verifications: '69117' keyword not found.</p> |"
      ],
      "text/plain": [
       "<IPython.core.display.Markdown object>"
      ]
     },
     "metadata": {},
     "output_type": "display_data"
    },
    {
     "data": {
      "text/markdown": [
       "\n",
       "|||\n",
       "|---:|:---|\n",
       "| [![arXiv](https://img.shields.io/badge/arXiv-arXiv:2210.00004-b31b1b.svg)](https://arxiv.org/abs/arXiv:2210.00004) | **A comparative study on different background estimation methods for  extensive air shower arrays**  |\n",
       "|| Yan-Jin Wang, et al. -- incl., <mark>Jian-Li Zhang</mark>, <mark>Xin Zhang</mark> |\n",
       "|*Appeared on*| *2022-10-04*|\n",
       "|*Comments*| *19 pages*|\n",
       "|**Abstract**| By applying four different methods including equi-zenith angle method, surrounding window method, direct integration method, and time-swapping method, the number of the background events is calculated. Based on simulation samples, the statistical significance of the excess signal from different background methods is determined. After that, we discuss the limits and the applicability of the four background method under different conditions. Under the detector stability assumption with signal, the results from above four methods are consistent within 1{\\sigma} level. On no signal condition, when the acceptance of the detector changes with both space and time, the surrounding window method is most stable and hardly affected. In this acceptance assumption, we find that the background estimation in the direct integration method is sensitive to the selection of time integration window, and the time window of 4 hour is more applicable, which can reduce the impact on the background estimation to some extent. |\n",
       "|<p style=\"color:green\"> **ERROR** </p>| <p style=\"color:green\">affiliation error: mpia.affiliation_verifications: 'Heidelberg' keyword not found.</p> |"
      ],
      "text/plain": [
       "<IPython.core.display.Markdown object>"
      ]
     },
     "metadata": {},
     "output_type": "display_data"
    },
    {
     "data": {
      "text/markdown": [
       "\n",
       "|||\n",
       "|---:|:---|\n",
       "| [![arXiv](https://img.shields.io/badge/arXiv-arXiv:2210.00009-b31b1b.svg)](https://arxiv.org/abs/arXiv:2210.00009) | **Extending Ultra-Diffuse Galaxy Abundances to Milky Way Analogs**  |\n",
       "|| Ananthan Karunakaran, <mark>Dennis Zaritsky</mark> |\n",
       "|*Appeared on*| *2022-10-04*|\n",
       "|*Comments*| *7 pages, 4 figures, 1 table. Submitted to MNRAS and comments welcome!*|\n",
       "|**Abstract**| We extend the Ultra-Diffuse Galaxy (UDG) abundance relation, $N_{UDG}-M_{200}$, to lower halo mass hosts $(M_{200}\\sim10^{11.6-12.2}M_{\\odot})$. We select UDG satellites from published catalogs of dwarf satellite galaxies around Milky Way analogs, namely the Exploration of Local Volume Satellites (ELVES) survey, Satellite Around Galactic Analogs (SAGA) survey, and a survey of Milky Way-like systems conducted using the Hyper-Suprime Cam. Of the 516 satellites around a total of 75 Milky Way-like hosts, we find 41 satellites around 33 hosts satisfy the UDG criteria. The distributions of host halo masses peak around $M_{200}\\sim10^{12}M_{\\odot}$ independent of whether the host has a UDG satellite or not. We use literature UDG abundances and those derived here to trace the $N_{UDG}-M_{200}$ relation over three orders of magnitude down to $M_{200}=10^{11.6}M_{\\odot}$ and find a best-fit linear relation of $N_{UDG} = (37\\pm4)\\cdot(\\frac{M_{200}}{10^{14}})^{0.85\\pm0.07}$. This sub-linear slope is consistent with earlier studies of UDG abundances as well as abundance relations for brighter dwarf galaxies, excluding UDG formation mechanisms that require high-density environments. However, we highlight the need for further homogeneous characterization of UDGs across a wide range of environments to properly understand the $N_{UDG}-M_{200}$ relation. |\n",
       "|<p style=\"color:green\"> **ERROR** </p>| <p style=\"color:green\">affiliation error: mpia.affiliation_verifications: 'Heidelberg' keyword not found.</p> |"
      ],
      "text/plain": [
       "<IPython.core.display.Markdown object>"
      ]
     },
     "metadata": {},
     "output_type": "display_data"
    },
    {
     "data": {
      "text/markdown": [
       "\n",
       "|||\n",
       "|---:|:---|\n",
       "| [![arXiv](https://img.shields.io/badge/arXiv-arXiv:2210.00028-b31b1b.svg)](https://arxiv.org/abs/arXiv:2210.00028) | **High Resolution HST Imaging Survey of Local Star-Forming Galaxies I:  Spatially-Resolved Obscured Star Formation with H$α$ and Paschen-$β$  Recombination Lines**  |\n",
       "|| Clara Giménez-Arteaga, et al. -- incl., <mark>Daniel Lange-Vagle</mark> |\n",
       "|*Appeared on*| *2022-10-04*|\n",
       "|*Comments*| *Accepted for publication in ApJS*|\n",
       "|**Abstract**| We present a sample of 24 local star-forming galaxies observed with broad- and narrow-band photometry from the Hubble Space Telescope, that are part of the GOALS survey of local luminous and ultra-luminous infrared galaxies. With narrow-band filters around the emission lines H$\\alpha$ (and [NII]) and Pa$\\beta$, we obtain robust estimates of the dust attenuation affecting the gas in each galaxy, probing higher attenuation than can be traced by the optical Balmer decrement H$\\alpha$/H$\\beta$ alone by a factor of $>1$ mag. We also infer the dust attenuation towards the stars via a spatially-resolved SED-fitting procedure that uses all available HST imaging filters. We use various indicators to obtain the star formation rate (SFR) per spatial bin, and find that Pa$\\beta$ traces star-forming regions where the H$\\alpha$ and the optical stellar continuum are heavily obscured. The dust-corrected Pa$\\beta$ SFR recovers the 24$\\mu$m-inferred SFR with a ratio $-0.14\\pm0.32$ dex and the SFR inferred from the $8\\mathrm{-}1000\\,\\mu\\mathrm{m}$ infrared luminosity at $-0.04\\pm0.23$ dex. Both in a spatially-resolved and integrated sense, rest-frame near infrared recombination lines can paint a more comprehensive picture of star formation across cosmic time, particularly with upcoming JWST observations of Paschen-series line emission in galaxies as early as the epoch of reionization. |\n",
       "|<p style=\"color:green\"> **ERROR** </p>| <p style=\"color:green\">affiliation error: mpia.affiliation_verifications: 'Heidelberg' keyword not found.</p> |"
      ],
      "text/plain": [
       "<IPython.core.display.Markdown object>"
      ]
     },
     "metadata": {},
     "output_type": "display_data"
    },
    {
     "data": {
      "text/markdown": [
       "\n",
       "|||\n",
       "|---:|:---|\n",
       "| [![arXiv](https://img.shields.io/badge/arXiv-arXiv:2210.00149-b31b1b.svg)](https://arxiv.org/abs/arXiv:2210.00149) | **CO$_2$ ocean bistability on terrestrial exoplanets**  |\n",
       "|| R.J. Graham, <mark>Tim Lichtenberg</mark>, Ray Pierrehumbert |\n",
       "|*Appeared on*| *2022-10-04*|\n",
       "|*Comments*| *Accepted for publication in JGR-Planets. 19 pages (including references and Tables), 6 figures, corresponding author email: robert.graham@physics.ox.ac.uk*|\n",
       "|**Abstract**| Cycling of carbon dioxide between the atmosphere and interior of rocky planets can stabilize global climate and enable planetary surface temperatures above freezing over geologic time. However, variations in global carbon budget and unstable feedback cycles between planetary sub-systems may destabilize the climate of rocky exoplanets toward regimes unknown in the Solar System. Here, we perform clear-sky atmospheric radiative transfer and surface weathering simulations to probe the stability of climate equilibria for rocky, ocean-bearing exoplanets at instellations relevant for planetary systems in the outer regions of the circumstellar habitable zone. Our simulations suggest that planets orbiting G- and F-type stars (but not M-type stars) may display bistability between an Earth-like climate state with efficient carbon sequestration and an alternative stable climate equilibrium where CO$_2$ condenses at the surface and forms a blanket of either clathrate hydrate or liquid CO$_2$. At increasing instellation and with ineffective weathering, the latter state oscillates between cool, surface CO$_2$-condensing and hot, non-condensing climates. CO$_2$ bistable climates may emerge early in planetary history and remain stable for billions of years. The carbon dioxide-condensing climates follow an opposite trend in $p$CO$_2$ versus instellation compared to the weathering-stabilized planet population, suggesting the possibility of observational discrimination between these distinct climate categories. |\n",
       "|<p style=\"color:green\"> **ERROR** </p>| <p style=\"color:green\">affiliation error: mpia.affiliation_verifications: 'Heidelberg' keyword not found.</p> |"
      ],
      "text/plain": [
       "<IPython.core.display.Markdown object>"
      ]
     },
     "metadata": {},
     "output_type": "display_data"
    },
    {
     "data": {
      "text/markdown": [
       "\n",
       "|||\n",
       "|---:|:---|\n",
       "| [![arXiv](https://img.shields.io/badge/arXiv-arXiv:2210.00410-b31b1b.svg)](https://arxiv.org/abs/arXiv:2210.00410) | **A Comprehensive Study of Bright Fermi-GBM Short Gamma-Ray Bursts: II.  Very Short Burst and Its Implications**  |\n",
       "|| Ying-Yong Hu, et al. -- incl., <mark>Yao-Lin Huang</mark> |\n",
       "|*Appeared on*| *2022-10-04*|\n",
       "|*Comments*| *14 pages, 6 figures, published in the Universe journal*|\n",
       "|**Abstract**| A thermal component is suggested to be the physical composition of the ejecta of several bright gamma-ray bursts (GRBs). Such a thermal component is discovered in the time-integrated spectra of several short GRBs as well as long GRBs. In this work, we present a comprehensive analysis of ten very short GRBs detected by Fermi Gamma-Ray Burst Monitor to search for the thermal component. We found that both the resultant low-energy spectral index and the peak energy in each GRB imply a common hard spectral feature, which is in favor of the main classification of the short/hard versus long/soft dichotomy in the GRB duration. We also found moderate evidence for the detection of thermal component in eight GRBs. Although such a thermal component contributes a small proportion of the global prompt gamma-ray emission, the modified thermal-radiation mechanism could enhance the proportion significantly, such as in subphotospheric dissipation. |\n",
       "|<p style=\"color:green\"> **ERROR** </p>| <p style=\"color:green\">affiliation error: mpia.affiliation_verifications: 'Heidelberg' keyword not found.</p> |"
      ],
      "text/plain": [
       "<IPython.core.display.Markdown object>"
      ]
     },
     "metadata": {},
     "output_type": "display_data"
    },
    {
     "data": {
      "text/markdown": [
       "\n",
       "|||\n",
       "|---:|:---|\n",
       "| [![arXiv](https://img.shields.io/badge/arXiv-arXiv:2210.00509-b31b1b.svg)](https://arxiv.org/abs/arXiv:2210.00509) | **Estimate of spot size of a flat top beam in detection of gravitational  waves in space**  |\n",
       "|| Zhen-Xiang Hao, et al. -- incl., <mark>Yue-Liang Wu</mark> |\n",
       "|*Appeared on*| *2022-10-04*|\n",
       "|*Comments*| *28 pages, 12 figures*|\n",
       "|**Abstract**| Motivated by the necessity of a high-quality stray light control in the detection of the gravitational waves in space, the spot size of a flat top beam generated by the clipping of the Gaussian beam(GB) is studied. By adopting the mode expansion method (MEM) approach to simulating the beam, a slight variant of the definition of the mean square deviation (MSD) spot size for the MEM beam is proposed and this enables us to quickly estimate the spot size for arbitrary propagation distance. Given that the degree of clipping is dependent on the power ratio within the surface of an optical element, the power ratio within the MSD spot range is used as a measure of spot size. The definition is then validated in the cases of simple astigmatic Gaussian beam and nearly-Gaussian beam profiles. As a representative example, the MSD spot size for a top-hat beam in a science interferometer in the detection of gravitational waves in space is then simulated. As in traditional MSD spot size analysis, the spot size is divergent when diffraction is taken into account. A careful error analysis is carried out on the divergence and in the present context, it is argued that this error will have little effect on our estimation. Using the results of our study allows an optimal design of optical systems with top-hat or other types of non-Gaussian beams. Furthermore, it allows testing the interferometry of space-based gravitational wave detectors for beam clipping in optical simulations. The present work will serve as a useful guide in the future system design of the optical bench and the sizes of the optical components. |\n",
       "|<p style=\"color:green\"> **ERROR** </p>| <p style=\"color:green\">affiliation error: mpia.affiliation_verifications: 'Heidelberg' keyword not found.</p> |"
      ],
      "text/plain": [
       "<IPython.core.display.Markdown object>"
      ]
     },
     "metadata": {},
     "output_type": "display_data"
    },
    {
     "data": {
      "text/markdown": [
       "\n",
       "|||\n",
       "|---:|:---|\n",
       "| [![arXiv](https://img.shields.io/badge/arXiv-arXiv:2210.00544-b31b1b.svg)](https://arxiv.org/abs/arXiv:2210.00544) | **Detection of p-mode Oscillations in HD 35833 with NEID and TESS**  |\n",
       "|| Arvind F. Gupta, et al. -- incl., <mark>Suvrath Mahadevan</mark>, <mark>Fred R. Hearty</mark> |\n",
       "|*Appeared on*| *2022-10-04*|\n",
       "|*Comments*| *19 Pages, 14 Figures, Appendix*|\n",
       "|**Abstract**| We report the results of observations of p-mode oscillations in the G0 subgiant star HD 35833 in both radial velocities and photometry with NEID and TESS, respectively. We achieve separate, robust detections of the oscillation signal with both instruments (radial velocity amplitude $A_{\\rm RV}=1.11\\pm0.09$ m s$^{-1}$, photometric amplitude $A_{\\rm phot}=6.42\\pm0.60$ ppm, frequency of maximum power $\\nu_{\\rm max} = 595.71\\pm17.28$ $\\mu$Hz, and mode spacing $\\Delta \\nu = 36.65\\pm0.96$ $\\mu$Hz) as well as a non-detection in a TESS sector concurrent with the NEID observations. These data shed light on our ability to mitigate the correlated noise impact of oscillations with radial velocities alone, and on the robustness of commonly used asteroseismic scaling relations. The NEID data are used to validate models for the attenuation of oscillation signals for exposure times $t<\\nu_{\\rm max}^{-1}$, and we compare our results to predictions from theoretical scaling relations and find that the observed amplitudes are weaker than expected by $>4\\sigma$, hinting at gaps in the underlying physical models. |\n",
       "|<p style=\"color:green\"> **ERROR** </p>| <p style=\"color:green\">affiliation error: mpia.affiliation_verifications: 'Heidelberg' keyword not found.</p> |"
      ],
      "text/plain": [
       "<IPython.core.display.Markdown object>"
      ]
     },
     "metadata": {},
     "output_type": "display_data"
    },
    {
     "data": {
      "text/markdown": [
       "\n",
       "|||\n",
       "|---:|:---|\n",
       "| [![arXiv](https://img.shields.io/badge/arXiv-arXiv:2210.00550-b31b1b.svg)](https://arxiv.org/abs/arXiv:2210.00550) | **Real-time exposure control and instrument operation with the NEID  spectrograph GUI**  |\n",
       "|| Arvind F. Gupta, et al. -- incl., <mark>Suvrath Mahadevan</mark> |\n",
       "|*Appeared on*| *2022-10-04*|\n",
       "|*Comments*| *Published in Proceedings of the SPIE Astronomical Telescopes + Instrumentation, 2022; 12 pages*|\n",
       "|**Abstract**| The NEID spectrograph on the WIYN 3.5-m telescope at Kitt Peak has completed its first full year of science operations and is reliably delivering sub-m/s precision radial velocity measurements. The NEID instrument control system uses the TIMS package (Bender et al. 2016), which is a client-server software system built around the twisted python software stack. During science observations, interaction with the NEID spectrograph is handled through a pair of graphical user interfaces (GUIs), written in PyQT, which wrap the underlying instrument control software and provide straightforward and reliable access to the instrument. Here, we detail the design of these interfaces and present an overview of their use for NEID operations. Observers can use the NEID GUIs to set the exposure time, signal-to-noise ratio (SNR) threshold, and other relevant parameters for observations, configure the calibration bench and observing mode, track or edit observation metadata, and monitor the current state of the instrument. These GUIs facilitate automatic spectrograph configuration and target ingestion from the nightly observing queue, which improves operational efficiency and consistency across epochs. By interfacing with the NEID exposure meter, the GUIs also allow observers to monitor the progress of individual exposures and trigger the shutter on user-defined SNR thresholds. In addition, inset plots of the instantaneous and cumulative exposure meter counts as each observation progresses allow for rapid diagnosis of changing observing conditions as well as guiding failure and other emergent issues. |\n",
       "|<p style=\"color:green\"> **ERROR** </p>| <p style=\"color:green\">affiliation error: mpia.affiliation_verifications: 'Heidelberg' keyword not found.</p> |"
      ],
      "text/plain": [
       "<IPython.core.display.Markdown object>"
      ]
     },
     "metadata": {},
     "output_type": "display_data"
    },
    {
     "data": {
      "text/markdown": [
       "\n",
       "|||\n",
       "|---:|:---|\n",
       "| [![arXiv](https://img.shields.io/badge/arXiv-arXiv:2210.00633-b31b1b.svg)](https://arxiv.org/abs/arXiv:2210.00633) | **X-ray analysis of JWST's first galaxy cluster lens SMACS J0723.3-7327**  |\n",
       "|| <mark>A. Liu</mark>, et al. -- incl., <mark>M. E. Ramos-Ceja</mark>, <mark>X. Zhang</mark> |\n",
       "|*Appeared on*| *2022-10-04*|\n",
       "|*Comments*| *9 pages, 7 figures, submitted to A&A*|\n",
       "|**Abstract**| SMACS~J0723.3-7327 is the first galaxy cluster lens observed by JWST. Based on the ERO data from JWST, several groups have reported the results on strong lensing analysis and mass distribution of this cluster. However, limited by the angular coverage of the JWST data, the strong lensing models only cover the central region. X-ray analysis on the hot ICM is necessary to obtain a more complete constraint on the mass distribution in this very massive cluster. In this work, we aim to perform a comprehensive X-ray analysis of J0723 to obtain accurate ICM hydrostatic mass measurements, using the X-ray data from SRG/eROSITA and Chandra X-ray observatories. By comparing the hydrostatic mass profile with the strong lensing model, we aim to provide the most reliable constraint on the distribution of mass up to R500. Thanks to the eROSITA all-sky survey and Chandra data, which provide high S/N and high angular resolution respectively, we are able to constrain the ICM gas density profile and temperature profile with good accuracy both in the core and to the outskirts. With the density and temperature profiles, we compute the hydrostatic mass profile, which is then projected along the line of sight to compare with the mass distribution obtained from the recent strong lensing analysis based on JWST data. We also deproject the strong lensing mass distribution using the hydrostatic mass profile we obtained in this work. The X-ray results obtained from eROSITA and Chandra agree very well with each other. The hydrostatic mass profiles we measured in this work, both projected and deprojected, are in good agreement with recent strong lensing results based on JWST data, at all radii. |\n",
       "|<p style=\"color:green\"> **ERROR** </p>| <p style=\"color:green\">affiliation error: mpia.affiliation_verifications: 'Heidelberg' keyword not found.</p> |"
      ],
      "text/plain": [
       "<IPython.core.display.Markdown object>"
      ]
     },
     "metadata": {},
     "output_type": "display_data"
    },
    {
     "data": {
      "text/markdown": [
       "\n",
       "|||\n",
       "|---:|:---|\n",
       "| [![arXiv](https://img.shields.io/badge/arXiv-arXiv:2210.00684-b31b1b.svg)](https://arxiv.org/abs/arXiv:2210.00684) | **The Relation between the Optical \\feii Emission and the Dimensionless  Accretion Rate for Active Galactic Nuclei**  |\n",
       "|| <mark>Liu Y. S.</mark>, Bian W. H. |\n",
       "|*Appeared on*| *2022-10-04*|\n",
       "|*Comments*| *11 pages, 6 figures, published in ApJ*|\n",
       "|**Abstract**| It was suggested that the prominent feature of the optical Fe II emission has a connection with the accretion process in active galactic nuclei (AGN). For a large sample of 4037 quasars ($z < 0.8$) with measured $\\rm H\\beta$ line dispersion ($\\sigma_{\\rm H\\beta}$) selected from the Sloan Digital Sky Survey (SDSS) and 120 compiled reverberation-mapped (RM) AGN, we use $\\sigma_{\\rm H\\beta}$ and the extended $R_{\\rm BLR}-L_{\\rm 5100}$ relation to calculate supermassive black holes masses ($M_{\\rm BH}$) from the single-epoch spectra for the SDSS subsample, and $\\sigma_{\\rm H\\beta}$ from the mean spectra for the RM subsample. We find a strong correlation between the relative optical Fe II strength $R_{\\rm Fe}$ and $\\dot{\\mathscr{M}}$ for the SDSS subsample with the Spearman correlation coefficient $r_s$ of $0.727$, which is consistent with that derived from the mean spectra for the RM subsample. The magnitude of velocity shift of the optical Fe II emission has a strong anticorrelation with $\\dot{\\mathscr{M}}$, whenever there is inflow or outflow. These strong correlations show that the optical Fe II emission has an intimate connection with the accretion process. Assuming that the difference of $M_{\\rm BH}$ is due to the variable virial factor $f$ for adopting $ \\rm FWHM_{H\\beta}$ as the velocity tracer, we find that there is a relation between $f$ and $\\rm FWHM_{H\\beta}$, $\\log f=-(0.41\\pm 0.002) \\rm \\log FWHM_{\\rm H\\beta}+(1.719\\pm 0.009)$ for the single-epoch spectrum. The relation between $\\log f$ and $\\sigma_{\\rm H\\beta}$ is not too strong, suggesting that $\\sigma_{\\rm H\\beta}$ does not seem to depend much on the broad-line region inclination and a constant $\\sigma$-based $f$ is suitable for $\\sigma_{\\rm H\\beta}$ as the velocity tracer. |\n",
       "|<p style=\"color:green\"> **ERROR** </p>| <p style=\"color:green\">affiliation error: mpia.affiliation_verifications: 'Heidelberg' keyword not found.</p> |"
      ],
      "text/plain": [
       "<IPython.core.display.Markdown object>"
      ]
     },
     "metadata": {},
     "output_type": "display_data"
    },
    {
     "data": {
      "text/markdown": [
       "\n",
       "|||\n",
       "|---:|:---|\n",
       "| [![arXiv](https://img.shields.io/badge/arXiv-arXiv:2210.00746-b31b1b.svg)](https://arxiv.org/abs/arXiv:2210.00746) | **Constraints on Cosmological Parameters with a Sample of Type Ia  Supernovae from JWST**  |\n",
       "|| Jia Lu, et al. -- incl., <mark>Lifan Wang</mark> |\n",
       "|*Appeared on*| *2022-10-04*|\n",
       "|*Comments*| *Accepted for publication in ApJ*|\n",
       "|**Abstract**| We investigate the potential of using a sample of very high-redshift ($2\\lesssim z \\lesssim6$) (VHZ) Type Ia supernovae (SNe~Ia) attainable by the James Webb Space Telescope (JWST) on constraining cosmological parameters. At such high redshifts, the age of the universe is young enough that the VHZ SNIa sample comprises the very first SNe~Ia of the universe, with progenitors among the very first generation of low mass stars that the universe has made. We show that the VHZ SNe~Ia can be used to disentangle systematic effects due to the luminosity distance evolution with redshifts intrinsic to SNIa standardization. Assuming that the systematic evolution can be described by a linear or logarithmic formula, we found that the coefficients of this dependence can be determined accurately and decoupled from cosmological models. Systematic evolution as large as 0.15 mag and 0.45 mag out to $z=5$ can be robustly separated from popular cosmological models for the linear and logarithmic evolution, respectively. The VHZ SNe~Ia will lay the foundation for quantifying the systematic redshift evolution of SNIa luminosity distance scales. When combined with SNIa surveys at comparatively lower redshifts, the VHZ SNe~Ia allow for a precise measurement of the history of the expansion of the universe from $z\\sim 0$ to the epoch approaching reionization. |\n",
       "|<p style=\"color:green\"> **ERROR** </p>| <p style=\"color:green\">affiliation error: mpia.affiliation_verifications: 'Heidelberg' keyword not found.</p> |"
      ],
      "text/plain": [
       "<IPython.core.display.Markdown object>"
      ]
     },
     "metadata": {},
     "output_type": "display_data"
    },
    {
     "data": {
      "text/markdown": [
       "\n",
       "|||\n",
       "|---:|:---|\n",
       "| [![arXiv](https://img.shields.io/badge/arXiv-arXiv:2210.00819-b31b1b.svg)](https://arxiv.org/abs/arXiv:2210.00819) | **Solar-MACH: An open-source tool to analyze solar magnetic connection  configurations**  |\n",
       "|| Jan Gieseler, et al. -- incl., <mark>Markus Roth</mark> |\n",
       "|*Appeared on*| *2022-10-04*|\n",
       "|*Comments*| *14 pages, 5 figures*|\n",
       "|**Abstract**| The Solar MAgnetic Connection HAUS tool (Solar-MACH) is an open-source tool completely written in Python that derives and visualizes the spatial configuration and solar magnetic connection of different observers (i.e., spacecraft or planets) in the heliosphere at different times. For doing this, the magnetic connection in the interplanetary space is obtained by the classic Parker Heliospheric Magnetic Field (HMF). In close vicinity of the Sun, a Potential Field Source Surface (PFSS) model can be applied to connect the HMF to the solar photosphere. Solar-MACH is especially aimed at providing publication-ready figures for the analyses of Solar Energetic Particle events (SEPs) or solar transients such as Coronal Mass Ejections (CMEs). It is provided as an installable Python package (listed on PyPI and conda-forge), but also as a web tool at solar-mach.github.io that completely runs in any web browser and requires neither Python knowledge nor installation. The development of Solar-MACH is open to everyone and takes place on GitHub, where the source code is publicly available under the BSD 3-Clause License. Established Python libraries like sunpy and pfsspy are utilized to obtain functionalities when possible. In this article, the Python code of Solar-MACH is explained, and its functionality is demonstrated using real science examples. In addition, we introduce the overarching SERPENTINE project, the umbrella under which the recent development took place. |\n",
       "|<p style=\"color:green\"> **ERROR** </p>| <p style=\"color:green\">affiliation error: mpia.affiliation_verifications: 'Heidelberg' keyword not found.</p> |"
      ],
      "text/plain": [
       "<IPython.core.display.Markdown object>"
      ]
     },
     "metadata": {},
     "output_type": "display_data"
    },
    {
     "data": {
      "text/markdown": [
       "\n",
       "|||\n",
       "|---:|:---|\n",
       "| [![arXiv](https://img.shields.io/badge/arXiv-arXiv:2210.01027-b31b1b.svg)](https://arxiv.org/abs/arXiv:2210.01027) | **NGTS-21b: An Inflated Super-Jupiter Orbiting a Metal-poor K dwarf**  |\n",
       "|| Douglas R. Alves, et al. -- incl., <mark>Beth A. Henderson</mark>, <mark>Alexis M. S. Smith</mark> |\n",
       "|*Appeared on*| *2022-10-04*|\n",
       "|*Comments*| *Accepted for publication on October 3 in the monthly notices of the royal astronomical society*|\n",
       "|**Abstract**| We report the discovery of NGTS-21b, a massive hot Jupiter orbiting a low-mass star as part of the Next Generation Transit Survey (NGTS). The planet has a mass and radius of $2.36 \\pm 0.21$ M$_{\\rm J}$, and $1.33 \\pm 0.03$ R$_{\\rm J}$, and an orbital period of 1.543 days. The host is a K3V ($T_{\\rm eff}=4660 \\pm 41$, K) metal-poor (${\\rm [Fe/H]}=-0.26 \\pm 0.07$, dex) dwarf star with a mass and radius of $0.72 \\pm 0.04$, M$_{\\odot}$,and $0.86 \\pm 0.04$, R$_{\\odot}$. Its age and rotation period of $10.02^{+3.29}_{-7.30}$, Gyr and $17.88 \\pm 0.08$, d respectively, are in accordance with the observed moderately low stellar activity level. When comparing NGTS-21b with currently known transiting hot Jupiters with similar equilibrium temperatures, it is found to have one of the largest measured radii despite its large mass. Inflation-free planetary structure models suggest the planet's atmosphere is inflated by $\\sim21\\%$, while inflationary models predict a radius consistent with observations, thus pointing to stellar irradiation as the probable origin of NGTS-21b's radius inflation. Additionally, NGTS-21b's bulk density ($1.25 \\pm 0.15$, g/cm$^3$) is also amongst the largest within the population of metal-poor giant hosts ([Fe/H] < 0.0), helping to reveal a falling upper boundary in metallicity-planet density parameter space that is in concordance with core accretion formation models. The discovery of rare planetary systems such as NGTS-21 greatly contributes towards better constraints being placed on the formation and evolution mechanisms of massive planets orbiting low-mass stars. |\n",
       "|<p style=\"color:green\"> **ERROR** </p>| <p style=\"color:green\">affiliation error: mpia.affiliation_verifications: 'Heidelberg' keyword not found.</p> |"
      ],
      "text/plain": [
       "<IPython.core.display.Markdown object>"
      ]
     },
     "metadata": {},
     "output_type": "display_data"
    },
    {
     "data": {
      "text/markdown": [
       "\n",
       "|||\n",
       "|---:|:---|\n",
       "| [![arXiv](https://img.shields.io/badge/arXiv-arXiv:2210.01040-b31b1b.svg)](https://arxiv.org/abs/arXiv:2210.01040) | **Achromatic design of a photonic tricoupler and phase shifter for  broadband nulling interferometry**  |\n",
       "|| Teresa Klinner-Teo, et al. -- incl., <mark>Simon Gross</mark> |\n",
       "|*Appeared on*| *2022-10-04*|\n",
       "|*Comments*| *20 pages, 17 figures, submitted to Journal of Astronomical Telescopes, Instruments, and Systems*|\n",
       "|**Abstract**| Nulling interferometry is one of the most promising technologies for imaging exoplanets within stellar habitable zones. The use of photonics for carrying out nulling interferometry enables the contrast and separation required for exoplanet detection. So far, two key issues limiting current-generation photonic nullers have been identified: phase variations and chromaticity within the beam combiner. The use of tricouplers addresses both limitations, delivering a broadband, achromatic null together with phase measurements for fringe tracking. Here, we present a derivation of the transfer matrix of the tricoupler, including its chromatic behaviour, and our 3D design of a fully symmetric tricoupler, built upon a previous design proposed for the GLINT instrument. It enables a broadband null with symmetric, baseline-phase-dependent splitting into a pair of bright channels when inputs are in anti-phase. Within some design trade space, either the science signal or the fringe tracking ability can be prioritised. We also present a tapered-waveguide $180^\\circ$-phase shifter with a phase variation of $0.6^\\circ$ in the $1.4-1.7~\\mu$m band, producing a near-achromatic differential phase between beams{ for optimal operation of the tricoupler nulling stage}. Both devices can be integrated to deliver a deep, broadband null together with a real-time fringe phase metrology signal. |\n",
       "|<p style=\"color:green\"> **ERROR** </p>| <p style=\"color:green\">affiliation error: mpia.affiliation_verifications: 'Heidelberg' keyword not found.</p> |"
      ],
      "text/plain": [
       "<IPython.core.display.Markdown object>"
      ]
     },
     "metadata": {},
     "output_type": "display_data"
    },
    {
     "data": {
      "text/markdown": [
       "\n",
       "|||\n",
       "|---:|:---|\n",
       "| [![arXiv](https://img.shields.io/badge/arXiv-arXiv:2210.01051-b31b1b.svg)](https://arxiv.org/abs/arXiv:2210.01051) | **Gas Morphology of Milky Way-like Galaxies in the TNG50: Signals of  Twisting and Stretching**  |\n",
       "|| Thomas K. Waters, et al. -- incl., <mark>Lars Hernquist</mark>, <mark>Randall Smith</mark>, <mark>Matthew Liska</mark> |\n",
       "|*Appeared on*| *2022-10-04*|\n",
       "|*Comments*| *21 pages, 14 figures*|\n",
       "|**Abstract**| We present an in-depth analysis of gas morphologies for a sample of 25 Milky Way-like galaxies from the Illustris TNG50 simulation. We constrain the morphology of cold, warm, hot gas, and gas particles as a whole using a Local Shell Iterative Method (LSIM) and explore its observational implications by computing the hard-to-soft X-ray ratio, which ranges between $10^{-3}$-$10^{-2}$ in the inner $\\sim 50 \\rm kpc$ of the distribution and $10^{-5}$-$10^{-4}$ at the outer portion of the hot gas distribution. We group galaxies into three main categories: simple, stretched, and twisted. These categories are based on the radial reorientation of the principal axes of the reduced inertia tensor. We find that the vast majority ($76\\%$) of galaxies in our sample exhibit twisting patterns in their radial profiles. Additionally, we present detailed comparisons between 1) the gaseous distributions belonging to individual temperature regimes, 2) the cold gas distributions and stellar distributions, and 3) the gaseous distributions and dark matter (DM) halos. We find a strong correlation between the morphological properties of the cold gas and stellar distributions. Furthermore, we find a correlation between gaseous distributions with DM halo which increases with gas temperature, implying that we may use the gaseous morphology as a tracer to probe the DM morphology. Finally, we show gaseous distributions exhibit significantly more prolate morphologies than the stellar distributions and DM halos, which we hypothesize may be due to stellar and AGN feedback. |\n",
       "|<p style=\"color:green\"> **ERROR** </p>| <p style=\"color:green\">affiliation error: mpia.affiliation_verifications: 'Heidelberg' keyword not found.</p> |"
      ],
      "text/plain": [
       "<IPython.core.display.Markdown object>"
      ]
     },
     "metadata": {},
     "output_type": "display_data"
    },
    {
     "data": {
      "text/markdown": [
       "\n",
       "|||\n",
       "|---:|:---|\n",
       "| [![arXiv](https://img.shields.io/badge/arXiv-arXiv:2210.01101-b31b1b.svg)](https://arxiv.org/abs/arXiv:2210.01101) | **Deep diving off the `Cosmic Cliffs': previously hidden outflows in NGC  3324 revealed by JWST**  |\n",
       "|| Megan Reiter, et al. -- incl., <mark>Nathan Smith</mark>, <mark>Pamela D. Klaassen</mark> |\n",
       "|*Appeared on*| *2022-10-04*|\n",
       "|*Comments*| *MNRAS, accepted*|\n",
       "|**Abstract**| We present a detailed analysis of the protostellar outflow activity in the massive star-forming region NGC 3324, as revealed by new Early Release Observations (ERO) from the James Webb Space Telescope (JWST). Emission from numerous outflows is revealed in narrow-band images of hydrogen Paschen-$\\alpha$ (Pa-$\\alpha$) and molecular hydrogen. In particular, we report the discovery of 24 previously unknown outflows based on their H$_2$ emission. We find three candidate driving sources for these H$_2$ flows in published catalogs of young stellar objects (YSOs) and we identify 15 IR point sources in the new JWST images as potential driving protostars. We also identify several Herbig-Haro (HH) objects in Pa-$\\alpha$ images from JWST; most are confirmed as jets based on their proper motions measured in a comparison with previous Hubble Space Telescope (HST) H$\\alpha$ images. This confirmed all previous HST-identified HH jets and candidate jets, and revealed 7 new HH objects. The unprecedented capabilities of JWST allow the direct comparison of atomic and molecular outflow components at comparable angular resolution. Future observations will allow quantitative analysis of the excitation, mass-loss rates, and velocities of these new flows. As a relatively modest region of massive star formation (larger than Orion but smaller than starburst clusters), NGC 3324 offers a preview of what star formation studies with JWST may provide. |\n",
       "|<p style=\"color:green\"> **ERROR** </p>| <p style=\"color:green\">affiliation error: mpia.affiliation_verifications: 'Heidelberg' keyword not found.</p> |"
      ],
      "text/plain": [
       "<IPython.core.display.Markdown object>"
      ]
     },
     "metadata": {},
     "output_type": "display_data"
    },
    {
     "data": {
      "text/markdown": [
       "\n",
       "|||\n",
       "|---:|:---|\n",
       "| [![arXiv](https://img.shields.io/badge/arXiv-arXiv:2210.00341-b31b1b.svg)](https://arxiv.org/abs/arXiv:2210.00341) | **The pattern speeds of vertical breathing waves**  |\n",
       "|| Tigran Khachaturyants, et al. -- incl., <mark>Soumavo Ghosh</mark> |\n",
       "|*Appeared on*| *2022-10-04*|\n",
       "|*Comments*| *5 pages, 4 figures, published in MNRAS Letters*|\n",
       "|**Abstract**| We measure and compare the pattern speeds of vertical breathing, vertical bending, and spiral density waves in two isolated N-body+SPH simulations, using windowed Fourier transforms over 1 Gyr time intervals. We show that the pattern speeds of the breathing waves match those of the spirals but are different from those of the bending waves. We also observe matching pattern speeds between the bar and breathing waves. Our results not only strengthen the case that, throughout the disc, breathing motions are driven by spirals but indeed that the breathing motions are part and parcel of the spirals. |\n",
       "|<p style=\"color:red\"> **ERROR** </p>| <p style=\"color:red\">latex error list index out of range</p> |"
      ],
      "text/plain": [
       "<IPython.core.display.Markdown object>"
      ]
     },
     "metadata": {},
     "output_type": "display_data"
    },
    {
     "data": {
      "text/markdown": [
       "\n",
       "|||\n",
       "|---:|:---|\n",
       "| [![arXiv](https://img.shields.io/badge/arXiv-arXiv:2210.00830-b31b1b.svg)](https://arxiv.org/abs/arXiv:2210.00830) | **Effects of Solar Activity, Solar Insolation and the Lower Atmospheric  Dust on the Martian Thermosphere**  |\n",
       "|| N. V. Rao, et al. -- incl., <mark>V. Leelavathi</mark> |\n",
       "|*Appeared on*| *2022-10-04*|\n",
       "|*Comments*| *23 pages, 10 figures, 1 table, submitted for publication in JGR Planets*|\n",
       "|**Abstract**| A diagnosis of the Ar densities measured by the Neutral Gas and Ion Mass Spectrometer aboard the Mars Atmosphere and Volatile EvolutioN (MAVEN) and the temperatures derived from these densities shows that solar activity, solar insolation, and the lower atmospheric dust are the dominant forcings of the Martian thermosphere. A methodology, based on multiple linear regression analysis, is developed to quantify the contributions of the dominant forcings to the densities and temperatures. The results of the present study show that a 100 sfu (solar flux units) change in the solar activity results in approx. 136 K corresponding change in the thermospheric temperatures. The solar insolation constrains the seasonal, latitudinal, and diurnal variations to be interdependent. Diurnal variation dominates the solar insolation variability, followed by the latitudinal and seasonal variations. Both the global and regional dust storms lead to considerable enhancements in the densities and temperatures of the Martian thermosphere. Using past data of the solar fluxes and the dust optical depths, the state of the Martian thermosphere is extrapolated back to Martian year (MY) 24. While the global dust storms of MY 25, MY 28 and MY 34 raise the thermospheric temperatures by approx. 22-38 K, the regional dust storm of MY 34 leads to approx. 15 K warming. Dust driven thermospheric temperatures alone can enhance the hydrogen escape fluxes by 1.67-2.14 times compared to those without the dust. Dusts effects are relatively significant for global dust storms that occur in solar minimum compared to those that occur in solar maximum. |\n",
       "|<p style=\"color:red\"> **ERROR** </p>| <p style=\"color:red\">latex error not a gzip file</p> |"
      ],
      "text/plain": [
       "<IPython.core.display.Markdown object>"
      ]
     },
     "metadata": {},
     "output_type": "display_data"
    }
   ],
   "source": [
    "import datetime\n",
    "today = str(datetime.date.today())\n",
    "logfile = f\"_build/html/logs/log-{today}.md\"\n",
    "\n",
    "\n",
    "with open(logfile, 'w') as logs:\n",
    "    # Success\n",
    "    logs.write(f'# Arxiv on Deck 2: Logs - {today}\\n\\n')\n",
    "    logs.write(\"\"\"* Arxiv had {0:,d} new papers\\n\"\"\".format(len(new_papers)))\n",
    "    logs.write(\"\"\"    * {0:,d} with possible author matches\\n\\n\"\"\".format(len(candidates)))\n",
    "    logs.write(\"## Sucessful papers\\n\\n\")\n",
    "    display(Markdown(\"## Successful papers\"))\n",
    "    success = [k[0] for k in documents]\n",
    "    for candid in candidates:\n",
    "        if candid['identifier'].split(':')[-1] in success:\n",
    "            display(candid)\n",
    "            logs.write(candid.generate_markdown_text() + '\\n\\n')\n",
    "\n",
    "    ## failed\n",
    "    logs.write(\"## Failed papers\\n\\n\")\n",
    "    display(Markdown(\"## Failed papers\"))\n",
    "    failed = sorted(failed, key=lambda x: x[1])\n",
    "    current_reason = \"\"\n",
    "    for paper, reason in failed:\n",
    "        if 'affiliation' in reason:\n",
    "            color = 'green'\n",
    "        else:\n",
    "            color = 'red'\n",
    "        data = Markdown(\n",
    "                paper.generate_markdown_text() + \n",
    "                f'\\n|<p style=\"color:{color:s}\"> **ERROR** </p>| <p style=\"color:{color:s}\">{reason:s}</p> |'\n",
    "               )\n",
    "        if reason != current_reason:\n",
    "            logs.write(f'### {reason:s} \\n\\n')\n",
    "            current_reason = reason\n",
    "        logs.write(data.data + '\\n\\n')\n",
    "        \n",
    "        # only display here the important errors (all in logs)\n",
    "        # if color in ('red',):\n",
    "        display(data)"
   ]
  },
  {
   "cell_type": "markdown",
   "id": "472d20ee",
   "metadata": {
    "papermill": {
     "duration": 0.009274,
     "end_time": "2022-10-04T04:48:54.456539",
     "exception": false,
     "start_time": "2022-10-04T04:48:54.447265",
     "status": "completed"
    },
    "tags": []
   },
   "source": [
    "## Export documents\n",
    "\n",
    "We now write the .md files and export relevant images"
   ]
  },
  {
   "cell_type": "code",
   "execution_count": 7,
   "id": "d426aed9",
   "metadata": {
    "execution": {
     "iopub.execute_input": "2022-10-04T04:48:54.476837Z",
     "iopub.status.busy": "2022-10-04T04:48:54.476059Z",
     "iopub.status.idle": "2022-10-04T04:48:54.484560Z",
     "shell.execute_reply": "2022-10-04T04:48:54.483643Z"
    },
    "papermill": {
     "duration": 0.020409,
     "end_time": "2022-10-04T04:48:54.486152",
     "exception": false,
     "start_time": "2022-10-04T04:48:54.465743",
     "status": "completed"
    },
    "tags": []
   },
   "outputs": [],
   "source": [
    "def export_markdown_summary(md: str, md_fname:str, directory: str):\n",
    "    \"\"\"Export MD document and associated relevant images\"\"\"\n",
    "    import os\n",
    "    import shutil\n",
    "    import re\n",
    "\n",
    "    if (os.path.exists(directory) and not os.path.isdir(directory)):\n",
    "        raise RuntimeError(f\"a non-directory file exists with name {directory:s}\")\n",
    "\n",
    "    if (not os.path.exists(directory)):\n",
    "        print(f\"creating directory {directory:s}\")\n",
    "        os.mkdir(directory)\n",
    "\n",
    "    fig_fnames = (re.compile(r'\\[Fig.*\\]\\((.*)\\)').findall(md) + \n",
    "                  re.compile(r'\\<img src=\"([^>\\s]*)\"[^>]*/>').findall(md))\n",
    "    for fname in fig_fnames:\n",
    "        if 'http' in fname:\n",
    "            # No need to copy online figures\n",
    "            continue\n",
    "        destdir = os.path.join(directory, os.path.dirname(fname))\n",
    "        destfname = os.path.join(destdir, os.path.basename(fname))\n",
    "        try:\n",
    "            os.makedirs(destdir)\n",
    "        except FileExistsError:\n",
    "            pass\n",
    "        shutil.copy(fname, destfname)\n",
    "    with open(os.path.join(directory, md_fname), 'w') as fout:\n",
    "        fout.write(md)\n",
    "    print(\"exported in \", os.path.join(directory, md_fname))\n",
    "    [print(\"    + \" + os.path.join(directory,fk)) for fk in fig_fnames]"
   ]
  },
  {
   "cell_type": "code",
   "execution_count": 8,
   "id": "014d04a4",
   "metadata": {
    "execution": {
     "iopub.execute_input": "2022-10-04T04:48:54.506699Z",
     "iopub.status.busy": "2022-10-04T04:48:54.506044Z",
     "iopub.status.idle": "2022-10-04T04:48:54.513459Z",
     "shell.execute_reply": "2022-10-04T04:48:54.512744Z"
    },
    "papermill": {
     "duration": 0.019131,
     "end_time": "2022-10-04T04:48:54.514999",
     "exception": false,
     "start_time": "2022-10-04T04:48:54.495868",
     "status": "completed"
    },
    "tags": []
   },
   "outputs": [
    {
     "name": "stdout",
     "output_type": "stream",
     "text": [
      "exported in  _build/html/2210.00560.md\n",
      "    + _build/html/tmp_2210.00560/./HII_MB9.png\n",
      "    + _build/html/tmp_2210.00560/./HII_5ghz_radio.png\n",
      "    + _build/html/tmp_2210.00560/./0norelated.png\n",
      "    + _build/html/tmp_2210.00560/./0resolved.png\n",
      "    + _build/html/tmp_2210.00560/./0fragmented.png\n",
      "    + _build/html/tmp_2210.00560/./HistoSI.png\n",
      "exported in  _build/html/2210.00863.md\n",
      "    + _build/html/tmp_2210.00863/./figs/HD62153_paper.png\n",
      "    + _build/html/tmp_2210.00863/./figs/epsVol__paper.png\n",
      "    + _build/html/tmp_2210.00863/./figs/HD20784_paper.png\n",
      "    + _build/html/tmp_2210.00863/./figs/HD208433_paper.png\n",
      "    + _build/html/tmp_2210.00863/./figs/HD56024_paper.png\n",
      "    + _build/html/tmp_2210.00863/./figs/CCDMJ06125-6128AB_paper.png\n",
      "    + _build/html/tmp_2210.00863/./figs/ltte.png\n"
     ]
    }
   ],
   "source": [
    "for paper_id, md in documents:\n",
    "    export_markdown_summary(md, f\"{paper_id:s}.md\", '_build/html/')"
   ]
  },
  {
   "cell_type": "markdown",
   "id": "f087a0a7",
   "metadata": {
    "papermill": {
     "duration": 0.009351,
     "end_time": "2022-10-04T04:48:54.533585",
     "exception": false,
     "start_time": "2022-10-04T04:48:54.524234",
     "status": "completed"
    },
    "tags": []
   },
   "source": [
    "## Display the papers\n",
    "\n",
    "Not necessary but allows for a quick check."
   ]
  },
  {
   "cell_type": "code",
   "execution_count": 9,
   "id": "fd25f625",
   "metadata": {
    "execution": {
     "iopub.execute_input": "2022-10-04T04:48:54.553698Z",
     "iopub.status.busy": "2022-10-04T04:48:54.553199Z",
     "iopub.status.idle": "2022-10-04T04:48:54.559864Z",
     "shell.execute_reply": "2022-10-04T04:48:54.559164Z"
    },
    "papermill": {
     "duration": 0.018585,
     "end_time": "2022-10-04T04:48:54.561453",
     "exception": false,
     "start_time": "2022-10-04T04:48:54.542868",
     "status": "completed"
    },
    "scrolled": false,
    "tags": []
   },
   "outputs": [
    {
     "data": {
      "text/markdown": [
       "<div class=\"macros\" style=\"visibility:hidden;\">\n",
       "$\\newcommand{\\ensuremath}{}$\n",
       "$\\newcommand{\\xspace}{}$\n",
       "$\\newcommand{\\object}[1]{\\texttt{#1}}$\n",
       "$\\newcommand{\\farcs}{{.}''}$\n",
       "$\\newcommand{\\farcm}{{.}'}$\n",
       "$\\newcommand{\\arcsec}{''}$\n",
       "$\\newcommand{\\arcmin}{'}$\n",
       "$\\newcommand{\\ion}[2]{#1#2}$\n",
       "$\\newcommand{\\textsc}[1]{\\textrm{#1}}$\n",
       "$\\newcommand{\\hl}[1]{\\textrm{#1}}$\n",
       "$\\newcommand{\\ie}{i.e., }$\n",
       "$\\newcommand{\\lsun}{L_\\odot}$\n",
       "$\\newcommand{\\msun}{M_\\odot}$\n",
       "$\\newcommand{\\rsun}{R_\\odot}$\n",
       "$\\newcommand{\\hi}{H~{\\sc i}}$\n",
       "$\\newcommand{\\hii}{H~{\\sc ii}}$\n",
       "$\\newcommand{\\uchii}{UC H~{\\sc ii}}$\n",
       "$\\newcommand{\\hchii}{HC H~{\\sc ii}}$\n",
       "$\\newcommand{\\sex}{\\texttt{SExtractor}}$\n",
       "$\\newcommand{\\blobcat}{\\texttt{BLOBCAT}}$\n",
       "$\\newcommand{\\rms}{r.m.s.}$\n",
       "$\\newcommand{\\submm}{submillimetre}$\n",
       "$\\newcommand{\\Submm}{Submillimetre}$\n",
       "$\\newcommand{\\glo}{GLOSTAR}$\n",
       "$\\newcommand{\\atlas}{ATLASGAL}$\n",
       "$\\newcommand{\\fstblobs}{3880}$\n",
       "$\\newcommand{\\Rblobs}{3325}$\n",
       "$\\newcommand{\\Spblobs}{555}$\n",
       "$\\newcommand{\\HRC}{1457}$\n",
       "$\\newcommand{\\LRC}{1866}$\n",
       "$\\newcommand{\\Plike}{904}$\n",
       "$\\newcommand{\\Clike}{455}$\n",
       "$\\newcommand{\\Elike}{100}$\n",
       "$\\newcommand{\\arraystretch}{1.1}$\n",
       "$\\newcommand{\\arraystretch}{1.1}$\n",
       "$\\newcommand{\\arraystretch}{1.4}$\n",
       "$\\newcommand{\\arraystretch}{1.4}$\n",
       "$\\newcommand{\\arraystretch}{1.1}$\n",
       "$\\newcommand{\\arraystretch}{1.1}$</div>\n",
       "\n",
       "<div class=\"macros\" style=\"visibility:hidden;\">\n",
       "$\\newcommand{$\\ensuremath$}{}$\n",
       "$\\newcommand{$\\xspace$}{}$\n",
       "$\\newcommand{$\\object$}[1]{\\texttt{#1}}$\n",
       "$\\newcommand{$\\farcs$}{{.}''}$\n",
       "$\\newcommand{$\\farcm$}{{.}'}$\n",
       "$\\newcommand{$\\arcsec$}{''}$\n",
       "$\\newcommand{$\\arcmin$}{'}$\n",
       "$\\newcommand{$\\ion$}[2]{#1#2}$\n",
       "$\\newcommand{$\\textsc$}[1]{\\textrm{#1}}$\n",
       "$\\newcommand{$\\hl$}[1]{\\textrm{#1}}$\n",
       "$\\newcommand{$\\ie$}{i.e., }$\n",
       "$\\newcommand{$\\lsun$}{L_\\odot}$\n",
       "$\\newcommand{$\\msun$}{M_\\odot}$\n",
       "$\\newcommand{$\\rsun$}{R_\\odot}$\n",
       "$\\newcommand{$\\hi$}{H~{\\sc i}}$\n",
       "$\\newcommand{$\\hi$i}{H~{\\sc ii}}$\n",
       "$\\newcommand{$\\uchii$}{UC H~{\\sc ii}}$\n",
       "$\\newcommand{$\\hchii$}{HC H~{\\sc ii}}$\n",
       "$\\newcommand{$\\sex$}{\\texttt{SExtractor}}$\n",
       "$\\newcommand{$\\blobcat$}{\\texttt{BLOBCAT}}$\n",
       "$\\newcommand{$\\rms$}{r.m.s.}$\n",
       "$\\newcommand{$\\submm$}{submillimetre}$\n",
       "$\\newcommand{$\\Submm$}{Submillimetre}$\n",
       "$\\newcommand{$\\glo$}{GLOSTAR}$\n",
       "$\\newcommand{$\\atlas$}{ATLASGAL}$\n",
       "$\\newcommand{$\\fstblobs$}{3880}$\n",
       "$\\newcommand{$\\Rblobs$}{3325}$\n",
       "$\\newcommand{$\\Spblobs$}{555}$\n",
       "$\\newcommand{$\\HRC$}{1457}$\n",
       "$\\newcommand{$\\LRC$}{1866}$\n",
       "$\\newcommand{$\\Plike$}{904}$\n",
       "$\\newcommand{$\\Clike$}{455}$\n",
       "$\\newcommand{$\\Elike$}{100}$\n",
       "$\\newcommand{$\\arraystretch$}{1.1}$\n",
       "$\\newcommand{$\\arraystretch$}{1.1}$\n",
       "$\\newcommand{$\\arraystretch$}{1.4}$\n",
       "$\\newcommand{$\\arraystretch$}{1.4}$\n",
       "$\\newcommand{$\\arraystretch$}{1.1}$\n",
       "$\\newcommand{$\\arraystretch$}{1.1}$</div>\n",
       "\n",
       "\n",
       "\n",
       "<div id=\"title\">\n",
       "\n",
       "# , VLA B-configuration.\n",
       "\n",
       "</div>\n",
       "<div id=\"comments\">\n",
       "\n",
       "[![arXiv](https://img.shields.io/badge/arXiv-2210.00560-b31b1b.svg)](https://arxiv.org/abs/2210.00560)<mark>Appeared on: 2022-10-04</mark> - _25 pages, 15 figures, and 6 tables, Accepted for publication in the Astronomy \\& Astrophysics_\n",
       "\n",
       "</div>\n",
       "<div id=\"authors\">\n",
       "\n",
       "S. A. Dzib, et al. -- incl., <mark><mark>H. Beuther</mark></mark>\n",
       "\n",
       "</div>\n",
       "<div id=\"abstract\">\n",
       "\n",
       "**Abstract:** As part of the Global View on Star Formation (GLOSTAR) surveywe have used the Karl G. Jansky Very Large Array (VLA) in itsB-configuration to observe thepart of the Galacticplane between   longitudes of$28^\\circ$and$36^\\circ$and  latitudes from$-1^\\circ$to$+1^\\circ$at the C-band (4--8 GHz).{ To reduce the contamination ofextended sources that are not well recovered by our coverage of the($u, v$)-plane we discarded short baselines that are sensitiveto emission on angular scales $<4\"$.}The resultingradio continuum images have an angular resolution of${1\\rlap{.}\"0}$,and a sensitivity of{${\\sim60 \\mu}$Jy beam$^{-1}$;}making it the mostsensitive radio survey covering a large area of the Galacticplane with this angular resolution.An automatic source extraction algorithm was used in combination withvisual inspection toidentify a total of{ $\\Rblobs$}radio sources.A total of{$\\HRC$}radio sources are$\\geq7\\sigma$and compriseour highlyreliable catalog;{72}of these are grouped as{22}fragmented sources,e.g., multiple components of an extended and resolved source.To explore the natureof the catalogued radio sources we searched for counterparts at millimeterand infrared wavelengths. Our classification attempts resulted in 93$\\hi$iregion candidates,  104  radio stars,  64  planetary nebulae, while most of theremaining radio sources are suggested to be extragalactic sources.We investigated the spectral indices ($\\alpha$,$S_\\nu\\propto\\nu^{\\alpha}$)of radio sources classified as$\\hi$iregion candidates and found that manyhave negative values. This may imply that these radio sources represent young  stellarobjects that are members of the star clusters around the high mass stars thatexcite the$\\hi$iregions, but not these$\\hi$iregionsthemselves. By comparing the{peak flux densities}from the GLOSTARand CORNISH surveys we have identified{49}variable radio sources,most of them with an unknown nature.Additionally, we provide the list of{$\\LRC$}radio sources detected within 5 to 7$\\sigma$levels.\n",
       "\n",
       "</div>\n",
       "\n",
       "<div id=\"div_fig1\">\n",
       "\n",
       "<img src=\"tmp_2210.00560/./HII_MB9.png\" alt=\"Fig11.1\" width=\"50%\"/><img src=\"tmp_2210.00560/./HII_5ghz_radio.png\" alt=\"Fig11.2\" width=\"50%\"/>\n",
       "\n",
       "**Figure 11. -** Radio source classified as HII region. {\\it Left:} Panels are from top-left to\n",
       "    bottom right: RGB image of UKIDSS three observed bands, RGB image of GLIMPSE\n",
       "    three observed bands, WISE 12 $\\mu$m, Hi-GAL 70 $\\mu$m, Hi-GAL 160 $\\mu$m,\n",
       "    Hi-GAL 250 $\\mu$m, Hi-GAL 500 $\\mu$m, and ATLASGAL 870 $\\mu$m. {\\it Right:}\n",
       "    Radio source detected in the GLOSTAR B-configuration image. (*fig:eHII*)\n",
       "\n",
       "</div>\n",
       "<div id=\"div_fig2\">\n",
       "\n",
       "<img src=\"tmp_2210.00560/./0norelated.png\" alt=\"Fig2.1\" width=\"33%\"/><img src=\"tmp_2210.00560/./0resolved.png\" alt=\"Fig2.2\" width=\"33%\"/><img src=\"tmp_2210.00560/./0fragmented.png\" alt=\"Fig2.3\" width=\"33%\"/>\n",
       "\n",
       "**Figure 2. -** Source examples of the differences between the two sets of VLA images, D-configuration ({\\it background}) and\n",
       "    B-configuration ({\\it contours}). Contour levels are $-5$, 5, 7, 10 and 15 times 60 $\\mu$Jy beam$^{-1}$, the mean noise level of the images. Circles at the bottom-left side indicate the beam sizes of D-configuration ($18\"$, white) and B-configuration ($1\\rlap{.}\"5$, green) images. {\\it Top: } B-configuration compact radio source seen in projection in the area of a D-configuration extended radio source. {\\it Middle: } D-configuration compact source that is resolved in three individual compact radio sources in the B-configuration images. {\\it Bottom:} D-configuration compact source that is resolved as a fragmented radio source. The position of fragments considered in the final catalog are indicated with green crosses.   (*fig:DB*)\n",
       "\n",
       "</div>\n",
       "<div id=\"div_fig3\">\n",
       "\n",
       "<img src=\"tmp_2210.00560/./HistoSI.png\" alt=\"Fig5\" width=\"100%\"/>\n",
       "\n",
       "**Figure 5. -** Distribution of the in-band determined spectral indices. Blue dotted bars\n",
       "    show the spectral index distribution of sources with {no counterparts} at any other\n",
       "    wavelength. (*fig:hsi*)\n",
       "\n",
       "</div>"
      ],
      "text/plain": [
       "<IPython.core.display.Markdown object>"
      ]
     },
     "metadata": {},
     "output_type": "display_data"
    },
    {
     "data": {
      "text/markdown": [
       "<div class=\"macros\" style=\"visibility:hidden;\">\n",
       "$\\newcommand{\\ensuremath}{}$\n",
       "$\\newcommand{\\xspace}{}$\n",
       "$\\newcommand{\\object}[1]{\\texttt{#1}}$\n",
       "$\\newcommand{\\farcs}{{.}''}$\n",
       "$\\newcommand{\\farcm}{{.}'}$\n",
       "$\\newcommand{\\arcsec}{''}$\n",
       "$\\newcommand{\\arcmin}{'}$\n",
       "$\\newcommand{\\ion}[2]{#1#2}$\n",
       "$\\newcommand{\\textsc}[1]{\\textrm{#1}}$\n",
       "$\\newcommand{\\hl}[1]{\\textrm{#1}}$\n",
       "$\\newcommand{\\teff}{T_{\\rm eff}}$\n",
       "$\\newcommand{\\rv}{{\\rm RV}}$\n",
       "$\\newcommand{\\ha}{\\hbox{H\\alpha}}$\n",
       "$\\newcommand{\\thebibliography}{\\DeclareRobustCommand{\\VAN}[3]{##3}\\VANthebibliography}$\n",
       "$\\newcommand{\\kms}{ {\\rm km} {\\rm s}^{-1}}$\n",
       "$\\newcommand{\\Msun}{ {\\rm M}_\\odot}$\n",
       "$\\newcommand{\\feh}{\\hbox{[M/H]}}$\n",
       "$\\newcommand{\\mgfe}{\\hbox{[Mg/Fe]}}$\n",
       "$\\newcommand{\\tife}{\\hbox{[Ti/Fe]}}$\n",
       "$\\newcommand{\\mnfe}{\\hbox{[Mn/Fe]}}$\n",
       "$\\newcommand{\\Vmic}{V_{\\rm mic}}$\n",
       "$\\newcommand{\\Vmac}{V_{\\rm mac}}$\n",
       "$\\newcommand{\\vsini}{V \\sin{i}}$\n",
       "$\\newcommand{\\logg}{\\log{\\rm (g)}}$\n",
       "$\\newcommand{\\snr}{\\hbox{S/N}}$\n",
       "$\\newcommand{\\}{mn}$\n",
       "$\\newcommand{\\}{mn}$\n",
       "$\\newcommand{\\}{mn}$\n",
       "$\\newcommand{\\}{mn}$\n",
       "$\\newcommand{\\}{mn}$\n",
       "$\\newcommand{\\}{mn}$\n",
       "$\\newcommand{\\}{mn}$\n",
       "$\\newcommand{\\@}{tempa}$\n",
       "$\\newcommand{\\@}{tempa }$\n",
       "$\\newcommand{\\@}{tempb }$\n",
       "$\\newcommand{\\@}{tempc$\n",
       "$  }$\n",
       "$\\newcommand{\\@}{tempb }$</div>\n",
       "\n",
       "<div class=\"macros\" style=\"visibility:hidden;\">\n",
       "$\\newcommand{$\\ensuremath$}{}$\n",
       "$\\newcommand{$\\xspace$}{}$\n",
       "$\\newcommand{$\\object$}[1]{\\texttt{#1}}$\n",
       "$\\newcommand{$\\farcs$}{{.}''}$\n",
       "$\\newcommand{$\\farcm$}{{.}'}$\n",
       "$\\newcommand{$\\arcsec$}{''}$\n",
       "$\\newcommand{$\\arcmin$}{'}$\n",
       "$\\newcommand{$\\ion$}[2]{#1#2}$\n",
       "$\\newcommand{$\\textsc$}[1]{\\textrm{#1}}$\n",
       "$\\newcommand{$\\hl$}[1]{\\textrm{#1}}$\n",
       "$\\newcommand{$\\teff$}{T_{\\rm eff}}$\n",
       "$\\newcommand{$\\rv$}{{\\rm RV}}$\n",
       "$\\newcommand{$\\ha$}{\\hbox{H\\alpha}}$\n",
       "$\\newcommand{$\\thebibliography$}{\\DeclareRobustCommand{\\VAN}[3]{##3}\\VANthebibliography}$\n",
       "$\\newcommand{$\\kms$}{ {\\rm km} {\\rm s}^{-1}}$\n",
       "$\\newcommand{$\\Msun$}{ {\\rm M}_\\odot}$\n",
       "$\\newcommand{$\\feh$}{\\hbox{[M/H]}}$\n",
       "$\\newcommand{$\\mgfe$}{\\hbox{[Mg/Fe]}}$\n",
       "$\\newcommand{$\\tife$}{\\hbox{[Ti/Fe]}}$\n",
       "$\\newcommand{$\\mnfe$}{\\hbox{[Mn/Fe]}}$\n",
       "$\\newcommand{$\\Vmic$}{V_{\\rm mic}}$\n",
       "$\\newcommand{$\\Vmac$}{V_{\\rm mac}}$\n",
       "$\\newcommand{$\\vsini$}{V \\sin{i}}$\n",
       "$\\newcommand{$\\logg$}{\\log{\\rm (g)}}$\n",
       "$\\newcommand{$\\snr$}{\\hbox{S/N}}$\n",
       "$\\newcommand{\\}{mn}$\n",
       "$\\newcommand{\\}{mn}$\n",
       "$\\newcommand{\\}{mn}$\n",
       "$\\newcommand{\\}{mn}$\n",
       "$\\newcommand{\\}{mn}$\n",
       "$\\newcommand{\\}{mn}$\n",
       "$\\newcommand{\\}{mn}$\n",
       "$\\newcommand{\\@}{tempa}$\n",
       "$\\newcommand{\\@}{tempa }$\n",
       "$\\newcommand{\\@}{tempb }$\n",
       "$\\newcommand{\\@}{tempc$\n",
       "$  }$\n",
       "$\\newcommand{\\@}{tempb }$</div>\n",
       "\n",
       "\n",
       "\n",
       "<div id=\"title\">\n",
       "\n",
       "# Test of binary spectral model on FEROS spectra. First estimation of the fundamental parameters for HD 20784.\n",
       "\n",
       "</div>\n",
       "<div id=\"comments\">\n",
       "\n",
       "[![arXiv](https://img.shields.io/badge/arXiv-2210.00863-b31b1b.svg)](https://arxiv.org/abs/2210.00863)<mark>Appeared on: 2022-10-04</mark> - _11 pages, 10 figures, submitted to MNRAS. arXiv admin note: text overlap with arXiv:2204.10680, arXiv:2209.12548_\n",
       "\n",
       "</div>\n",
       "<div id=\"authors\">\n",
       "\n",
       "Mikhail Kovalev, <mark><mark>Sarah Gebruers</mark></mark>, Ilya Straumit\n",
       "\n",
       "</div>\n",
       "<div id=\"abstract\">\n",
       "\n",
       "**Abstract:** We analyse spectra of 26 early-type stars, with suspected binarity, using a binary spectral model adapted for high-resolution FEROS spectra. We confirm seven SB2 candidates (AE Pic,$\\epsilon$Vol, HD 20784, HD 208433, HD 43519, HD 56024, CD-73 375A) and derive mass ratios and spectroscopic parameters for them. We find good agreement with theoretical models. For slightly evolved system HD 20784 we made the first estimation of the fundamental parameters and age$\\log{t}=8.5$yr.\n",
       "\n",
       "</div>\n",
       "\n",
       "<div id=\"div_fig1\">\n",
       "\n",
       "<img src=\"tmp_2210.00863/./figs/HD62153_paper.png\" alt=\"Fig7.1\" width=\"33%\"/><img src=\"tmp_2210.00863/./figs/epsVol__paper.png\" alt=\"Fig7.2\" width=\"33%\"/><img src=\"tmp_2210.00863/./figs/HD20784_paper.png\" alt=\"Fig7.3\" width=\"33%\"/>\n",
       "\n",
       "**Figure 7. -** Example of the multi-epoch spectra fitting for three stars with slow rotation. The observed spectrum is shown as a gray line, the best fit is shown as a red line. The primary component is shown as the orange line, the secondary as a blue line. The difference O-C is shown as a green line. (*fig:spfit*)\n",
       "\n",
       "</div>\n",
       "<div id=\"div_fig2\">\n",
       "\n",
       "<img src=\"tmp_2210.00863/./figs/HD208433_paper.png\" alt=\"Fig9.1\" width=\"33%\"/><img src=\"tmp_2210.00863/./figs/HD56024_paper.png\" alt=\"Fig9.2\" width=\"33%\"/><img src=\"tmp_2210.00863/./figs/CCDMJ06125-6128AB_paper.png\" alt=\"Fig9.3\" width=\"33%\"/>\n",
       "\n",
       "**Figure 9. -** Same as Figure \\protect\\ref{fig:spfit} for three stars with a fast rotating primary and a slow rotating secondary. (*fig:spfit2*)\n",
       "\n",
       "</div>\n",
       "<div id=\"div_fig3\">\n",
       "\n",
       "<img src=\"tmp_2210.00863/./figs/ltte.png\" alt=\"Fig5\" width=\"100%\"/>\n",
       "\n",
       "**Figure 5. -** Folded TESS LC for HD 20784 from different sectors shown as green and red crosses respectively (top panel). $t_{min}$ folded with $P/2$ versus observation time are shown on lower panel. $t_0$ computed as median is shown as horizontal line. (*fig:period*)\n",
       "\n",
       "</div>"
      ],
      "text/plain": [
       "<IPython.core.display.Markdown object>"
      ]
     },
     "metadata": {},
     "output_type": "display_data"
    }
   ],
   "source": [
    "[display(Markdown(k[1])) for k in documents];"
   ]
  },
  {
   "cell_type": "markdown",
   "id": "873873a4",
   "metadata": {
    "papermill": {
     "duration": 0.00974,
     "end_time": "2022-10-04T04:48:54.580945",
     "exception": false,
     "start_time": "2022-10-04T04:48:54.571205",
     "status": "completed"
    },
    "tags": []
   },
   "source": [
    "# Create HTML index"
   ]
  },
  {
   "cell_type": "code",
   "execution_count": 10,
   "id": "cf665672",
   "metadata": {
    "execution": {
     "iopub.execute_input": "2022-10-04T04:48:54.602092Z",
     "iopub.status.busy": "2022-10-04T04:48:54.601442Z",
     "iopub.status.idle": "2022-10-04T04:48:54.611704Z",
     "shell.execute_reply": "2022-10-04T04:48:54.611018Z"
    },
    "papermill": {
     "duration": 0.022744,
     "end_time": "2022-10-04T04:48:54.613419",
     "exception": false,
     "start_time": "2022-10-04T04:48:54.590675",
     "status": "completed"
    },
    "tags": []
   },
   "outputs": [
    {
     "name": "stdout",
     "output_type": "stream",
     "text": [
      "54  publications in the last 7 days.\n",
      "\t _build/html/2210.00863.md\n",
      "\t _build/html/2210.00560.md\n",
      "\t _build/html/2209.15403.md\n",
      "\t _build/html/2209.15110.md\n",
      "\t _build/html/2209.14410.md\n",
      "\t _build/html/2209.14396.md\n",
      "\t _build/html/2209.13717.md\n",
      "\t _build/html/2209.13336.md\n",
      "\t _build/html/2209.12906.md\n",
      "\t _build/html/2209.11781.md\n",
      "\t _build/html/2209.11602.md\n",
      "\t _build/html/2209.11248.md\n",
      "\t _build/html/2209.11096.md\n",
      "\t _build/html/2209.10618.md\n",
      "\t _build/html/2209.09914.md\n",
      "\t _build/html/2209.09823.md\n",
      "\t _build/html/2209.08242.md\n",
      "\t _build/html/2209.08120.md\n",
      "\t _build/html/2209.08106.md\n",
      "\t _build/html/2209.07962.md\n",
      "\t _build/html/2209.07931.md\n",
      "\t _build/html/2209.06833.md\n",
      "\t _build/html/2209.05814.md\n",
      "\t _build/html/2209.05593.md\n",
      "\t _build/html/2209.04304.md\n",
      "\t _build/html/2209.03367.md\n",
      "\t _build/html/2209.02872.md\n",
      "\t _build/html/2209.02725.md\n",
      "\t _build/html/2209.02722.md\n",
      "\t _build/html/2209.02092.md\n",
      "\t _build/html/2209.01125.md\n",
      "\t _build/html/2209.00828.md\n",
      "\t _build/html/2209.00363.md\n",
      "\t _build/html/2208.14927.md\n",
      "\t _build/html/2208.09335.md\n",
      "\t _build/html/2208.08872.md\n",
      "\t _build/html/2204.06393.md\n",
      "\t _build/html/2204.03335.md\n",
      "\t _build/html/2204.03253.md\n",
      "\t _build/html/2204.02998.md\n",
      "\t _build/html/2204.02109.md\n",
      "\t _build/html/2204.02017.md\n",
      "\t _build/html/2204.01824.md\n",
      "\t _build/html/2204.01758.md\n",
      "\t _build/html/2204.01245.md\n",
      "\t _build/html/2204.00793.md\n",
      "\t _build/html/2204.00342.md\n",
      "\t _build/html/2203.16959.md\n",
      "\t _build/html/2203.16856.md\n",
      "\t _build/html/2203.16735.md\n",
      "\t _build/html/2203.16734.md\n",
      "\t _build/html/2203.16504.md\n",
      "\t _build/html/2203.15822.md\n",
      "\t _build/html/2203.15811.md\n"
     ]
    }
   ],
   "source": [
    "from datetime import datetime, timedelta, timezone\n",
    "from glob import glob\n",
    "\n",
    "files = glob('_build/html/*.md')\n",
    "days = 7\n",
    "now = datetime.today()\n",
    "res = []\n",
    "for fk in files:\n",
    "    stat_result = os.stat(fk).st_ctime\n",
    "    modified = datetime.fromtimestamp(stat_result, tz=timezone.utc).replace(tzinfo=None)\n",
    "    delta = now.today() - modified\n",
    "    if delta <= timedelta(days=days):\n",
    "        res.append((delta.seconds, fk))\n",
    "res = [k[1] for k in reversed(sorted(res, key=lambda x:x[1]))]\n",
    "npub = len(res)\n",
    "print(len(res), f\" publications in the last {days:d} days.\")\n",
    "[ print('\\t', k) for k in res ];"
   ]
  },
  {
   "cell_type": "code",
   "execution_count": 11,
   "id": "52ca0208",
   "metadata": {
    "execution": {
     "iopub.execute_input": "2022-10-04T04:48:54.634864Z",
     "iopub.status.busy": "2022-10-04T04:48:54.634370Z",
     "iopub.status.idle": "2022-10-04T04:48:54.641466Z",
     "shell.execute_reply": "2022-10-04T04:48:54.640754Z"
    },
    "papermill": {
     "duration": 0.019545,
     "end_time": "2022-10-04T04:48:54.642953",
     "exception": false,
     "start_time": "2022-10-04T04:48:54.623408",
     "status": "completed"
    },
    "scrolled": false,
    "tags": []
   },
   "outputs": [],
   "source": [
    "def create_carousel(npub=4):\n",
    "    \"\"\" Generate the HTML code for a carousel with `npub` slides \"\"\"\n",
    "    carousel = [\"\"\"<section class=\"carousel\" aria-label=\"Gallery\">\"\"\",\n",
    "                \"\"\"  <ol class=\"carousel__viewport\">\"\"\",\n",
    "    ]\n",
    "    for k in range(1, npub + 1):\n",
    "        prev_ = k - 1\n",
    "        next_ = k + 1\n",
    "        if prev_ <= 0:\n",
    "            prev_ = npub\n",
    "        if next_ > npub:\n",
    "            next_ = 1\n",
    "        text  = f\"\"\"    <li id=\"carousel__slide{k}\" tabindex=\"0\" class=\"carousel__slide\">\\n\"\"\"\n",
    "        text += f\"\"\"       <div class=\"carousel__snapper\">\\n\"\"\"\n",
    "        text += f\"\"\"         <a href=\"#carousel__slide{prev_}\" class=\"carousel__prev\">Go to previous slide</a>\\n\"\"\"\n",
    "        text += f\"\"\"         <a href=\"#carousel__slide{next_}\" class=\"carousel__next\">Go to next slide</a>\\n\"\"\"\n",
    "        text += f\"\"\"         <div id=\"slide{k}_content\" class=\"md_view\" >Content {k}</div>\\n\"\"\"\n",
    "        text += f\"\"\"       </div>\\n\"\"\"\n",
    "        text += f\"\"\"    </li>\"\"\"\n",
    "        carousel.append(text)\n",
    "\n",
    "    carousel.extend([\n",
    "        \"\"\"  </ol>\"\"\",\n",
    "        \"\"\"  <aside class=\"carousel__navigation\">\"\"\",\n",
    "        \"\"\"    <ol class=\"carousel__navigation-list\">\"\"\"])\n",
    "\n",
    "    for k in range(1, npub + 1):\n",
    "        text  = f\"\"\"      <li class=\"carousel__navigation-item\">\\n\"\"\"\n",
    "        text += f\"\"\"        <a href=\"#carousel__slide{k}\" class=\"carousel__navigation-button\">Go to {k}</a>\\n\"\"\"\n",
    "        text += f\"\"\"      </li>\"\"\"\n",
    "        carousel.append(text)\n",
    "    carousel.extend([\"\"\"    </ol>\"\"\", \"\"\"  </aside>\"\"\", \"\"\"</section>\"\"\"])\n",
    "\n",
    "    return '\\n'.join(carousel)"
   ]
  },
  {
   "cell_type": "code",
   "execution_count": 12,
   "id": "a6eac5b6",
   "metadata": {
    "execution": {
     "iopub.execute_input": "2022-10-04T04:48:54.696618Z",
     "iopub.status.busy": "2022-10-04T04:48:54.696020Z",
     "iopub.status.idle": "2022-10-04T04:48:54.703139Z",
     "shell.execute_reply": "2022-10-04T04:48:54.702492Z"
    },
    "papermill": {
     "duration": 0.051687,
     "end_time": "2022-10-04T04:48:54.704762",
     "exception": false,
     "start_time": "2022-10-04T04:48:54.653075",
     "status": "completed"
    },
    "scrolled": false,
    "tags": []
   },
   "outputs": [],
   "source": [
    "carousel = create_carousel(npub)\n",
    "docs = ', '.join(['\"{0:s}\"'.format(k.split('/')[-1]) for k in res])\n",
    "slides = ', '.join([f'\"slide{k}_content\"' for k in range(1, npub + 1)])\n",
    "\n",
    "script = f\"\"\"\n",
    "const docs = [{docs}]\n",
    "\n",
    "const slides = [{slides}]\n",
    "\"\"\" + \"\"\"\n",
    "async function run() {\n",
    "    for (let i = 0; i < docs.length; i++) {\n",
    "        let file = await fetch(docs[i]);\n",
    "        let text = await file.text()\n",
    "        document.getElementById(slides[i]).innerHTML =\n",
    "            marked.parse(text);\n",
    "    }\n",
    "    hljs.highlightAll();\n",
    "}\n",
    "run()\n",
    "\"\"\"\n",
    "\n",
    "page = f\"\"\"<!doctype html>\n",
    "<html lang=\"en\">\n",
    "\n",
    "<head>\n",
    "  <meta charset=\"utf-8\">\n",
    "  <meta name=\"viewport\" content=\"width=device-width, initial-scale=1\">\n",
    "  <!-- Bootstrap CSS -->\n",
    "  <link href=\"https://cdn.jsdelivr.net/npm/bootstrap@5.0.2/dist/css/bootstrap.min.css\" rel=\"stylesheet\"\n",
    "   integrity=\"sha384-EVSTQN3/azprG1Anm3QDgpJLIm9Nao0Yz1ztcQTwFspd3yD65VohhpuuCOmLASjC\" crossorigin=\"anonymous\">\n",
    "  <!-- highlight.js CSS -->\n",
    "  <link rel=\"stylesheet\" href=\"https://cdnjs.cloudflare.com/ajax/libs/highlight.js/11.1.0/styles/default.min.css\">\n",
    "  <!-- Mathjax 3 -->\n",
    "  <script type=\"text/javascript\" id=\"MathJax-config\" src=\"mathjax_config.js\"> </script>\n",
    "  <script type=\"text/javascript\" id=\"MathJax-script\" async \n",
    "    src=\"https://cdn.jsdelivr.net/npm/mathjax@3/es5/tex-mml-chtml.js\">\n",
    "  </script>\n",
    "  <link rel=\"stylesheet\" href=\"index_carousel.css\">\n",
    "  <link rel=\"icon\" type=\"image/x-icon\" href=\"https://www.mpia.de/assets/touch-icon-32x32-a66937bcebc4e8894ebff1f41a366c7c7220fd97a38869ee0f2db65a9f59b6c1.png\">\n",
    "  <title>MPIA Arxiv on deck!</title>\n",
    "</head>\n",
    "\n",
    "<body>\n",
    "  <div id=\"header\"> <img src=\"header_banner.png\" width=\"100%\"></div>\n",
    "  <div id=\"suptitle\"> 7-day archives </div>\n",
    "  <div id=\"info\">\n",
    "    <img src=\"https://pngimg.com/uploads/github/github_PNG58.png\" height=30rem></img>\n",
    "    <a href=https://github.com/mpi-astronomy/arxiv_display style=\"color:black;\">github/mpi-astronomy/arxiv_display</a> \n",
    "  </div>\n",
    "  {carousel:s}\n",
    "</body>\n",
    "\n",
    "<!-- Render Markdown -->\n",
    "\n",
    "<body>\n",
    "  <!-- highlight.js: https://highlightjs.org/download/ -->\n",
    "  <script src=\"https://cdnjs.cloudflare.com/ajax/libs/highlight.js/11.5.0/highlight.min.js\"></script>\n",
    "  <!-- marked.js -->\n",
    "  <script src=\"https://cdn.jsdelivr.net/npm/marked/marked.min.js\"></script>\n",
    "  <script>{script:s}</script>\n",
    "</body>\n",
    "</html>\n",
    "\"\"\"\n",
    "with open(\"_build/html/index_7days.html\", 'w') as fout:\n",
    "    fout.write(page)"
   ]
  },
  {
   "cell_type": "markdown",
   "id": "1cebacbc",
   "metadata": {
    "papermill": {
     "duration": 0.009952,
     "end_time": "2022-10-04T04:48:54.724668",
     "exception": false,
     "start_time": "2022-10-04T04:48:54.714716",
     "status": "completed"
    },
    "tags": []
   },
   "source": [
    "# Debugging papers"
   ]
  },
  {
   "cell_type": "raw",
   "id": "debe7cc6",
   "metadata": {
    "papermill": {
     "duration": 0.009873,
     "end_time": "2022-10-04T04:48:54.744553",
     "exception": false,
     "start_time": "2022-10-04T04:48:54.734680",
     "status": "completed"
    },
    "tags": []
   },
   "source": [
    "raise NotImplementedError(\"Manual Stop\")"
   ]
  },
  {
   "cell_type": "raw",
   "id": "eb169192",
   "metadata": {
    "papermill": {
     "duration": 0.009884,
     "end_time": "2022-10-04T04:48:54.764297",
     "exception": false,
     "start_time": "2022-10-04T04:48:54.754413",
     "status": "completed"
    },
    "scrolled": true,
    "tags": []
   },
   "source": [
    "from IPython.display import display, Markdown\n",
    "from TexSoup import TexSoup\n",
    "import re\n",
    "\n",
    "def bracket_error(source: str):\n",
    "    \"\"\" Find problematic portions of the document \"\"\"\n",
    "    \n",
    "    print(\"len(source)\", len(source))\n",
    "    \n",
    "    # Checking header\n",
    "    begin_doc = next(re.finditer(r'\\\\begin\\{document\\}', doc.source)).span()[1]\n",
    "    header = source[:begin_doc]\n",
    "    text = header + r\"\\n\\end{document}\"\n",
    "\n",
    "    try:\n",
    "        # print(\"Header check... \", end='')\n",
    "        TexSoup(text)\n",
    "        display(Markdown(f\"**[OK]** - Header\"))\n",
    "    except:\n",
    "        raise RuntimeError(\"Error in the header\")\n",
    "        \n",
    "    # Check the text per section until the end.\n",
    "    # Do not stop and try them all.\n",
    "    \n",
    "    problematic_text = []\n",
    "    \n",
    "    sections = ([(0, begin_doc, 'until first section')] + \n",
    "                [(g.span()[0], g.span()[1], g.group()) for g in re.finditer(r'\\\\section\\{.*\\}', source)] +\n",
    "                [(g.span()[0], g.span()[1], g.group()) for g in re.finditer(r'\\\\begin\\{appendix\\}', source)]\n",
    "               )\n",
    "    sections.append([len(source), len(source), 'end'])\n",
    "    \n",
    "    sections = sorted(sections, key=lambda x: x[0])\n",
    "    \n",
    "    prev_pos, prev_name = (0, 'header')\n",
    "    parsed = []\n",
    "    \n",
    "    for span, span_end, name in sections:\n",
    "\n",
    "        if span - prev_pos <= 0:\n",
    "            continue\n",
    "            \n",
    "\n",
    "        text = source[prev_pos:span]\n",
    "        if prev_pos > begin_doc:\n",
    "            text = r\"\\n\\begin{document}\" + text + r\"\\n\\end{document}\"\n",
    "        else:\n",
    "            text = text + r\"\\n\\end{document}\"\n",
    "        try:\n",
    "            #print(f\"{prev_pos}:{prev_name}-->{span}:{name} check... \", end='')\n",
    "            parsed.append(TexSoup(text, tolerance=1))  # allow not ending env\n",
    "            display(Markdown(f\"**[OK]** - *{prev_pos}*:{prev_name} &rarr; *{span}*:{name}\"))\n",
    "            # print(\"ok\")\n",
    "\n",
    "            prev_pos = span\n",
    "            prev_name = name\n",
    "        except:\n",
    "            # print(f\"error between {prev_pos} and {span}\")\n",
    "            display(Markdown(f\"**[ERR]** *{prev_pos}*:{prev_name} &rarr; *{span}*:{name}\"))\n",
    "            problematic_text.append((prev_pos, source[prev_pos:span]))\n",
    "            prev_pos = span\n",
    "            prev_name = name\n",
    "            # raise\n",
    "    return problematic_text, parsed\n",
    "\n",
    "\n",
    "def check_environment(text, offset=0):\n",
    "    \"\"\" Check environment \"\"\"\n",
    "    env = re.compile(r\"\\\\begin\\{(?P<env>.*)\\}(.*)\\\\end\\{(?P=env)\\}\", re.DOTALL)\n",
    "\n",
    "    for match in env.finditer(text):\n",
    "        beg, end = match.span()\n",
    "        beg += offset\n",
    "        end += offset\n",
    "        envname = match.groups()[0]\n",
    "        try:\n",
    "            latex.TexSoup(match.group())\n",
    "        except Exception as e:\n",
    "            display(e)\n",
    "            print(f\"Error in {envname:s} between {beg} and {end}\")\n",
    "            return match.groups()[1], beg, end"
   ]
  },
  {
   "cell_type": "raw",
   "id": "2315e835",
   "metadata": {
    "papermill": {
     "duration": 0.009895,
     "end_time": "2022-10-04T04:48:54.784052",
     "exception": false,
     "start_time": "2022-10-04T04:48:54.774157",
     "status": "completed"
    },
    "scrolled": false,
    "tags": []
   },
   "source": [
    "import importlib\n",
    "importlib.reload(latex)\n",
    "which = \"2204.03253\"\n",
    "paper_id = f'{which:s}'\n",
    "folder = f'tmp_{paper_id:s}'\n",
    "\n",
    "if not os.path.isdir(folder):\n",
    "    folder = retrieve_document_source(f\"{paper_id}\", f'tmp_{paper_id}')\n",
    "\n",
    "try:\n",
    "    doc = latex.LatexDocument(folder, validation=validation)    \n",
    "except AffiliationError as affilerror:\n",
    "    msg = f\"ArXiv:{paper_id:s} is not an MPIA paper... \" + str(affilerror)\n",
    "    print(msg)\n",
    "\n",
    "\n",
    "# Hack because sometimes author parsing does not work well\n",
    "if (len(doc.authors) != len(paper['authors'])):\n",
    "    doc._authors = paper['authors']\n",
    "if (doc.abstract) in (None, ''):\n",
    "    doc._abstract = paper['abstract']\n",
    "\n",
    "doc.comment = get_markdown_badge(paper_id) + \" _\" + paper['comments'] + \"_\"\n",
    "doc.highlight_authors_in_list(hl_list)\n",
    "\n",
    "full_md = doc.generate_markdown_text()"
   ]
  },
  {
   "cell_type": "raw",
   "id": "dd3781db",
   "metadata": {
    "papermill": {
     "duration": 0.009878,
     "end_time": "2022-10-04T04:48:54.803799",
     "exception": false,
     "start_time": "2022-10-04T04:48:54.793921",
     "status": "completed"
    },
    "scrolled": false,
    "tags": []
   },
   "source": [
    "doc"
   ]
  },
  {
   "cell_type": "raw",
   "id": "c6eed834",
   "metadata": {
    "papermill": {
     "duration": 0.01009,
     "end_time": "2022-10-04T04:48:54.823757",
     "exception": false,
     "start_time": "2022-10-04T04:48:54.813667",
     "status": "completed"
    },
    "tags": []
   },
   "source": [
    "# [check_environment(k) for k in bracket_error(doc.source)]\n",
    "_, _, a = latex.get_content_per_section(doc.source, verbose=True)\n",
    "if not a:\n",
    "    print(\"no issues per section\")\n",
    "for ak in a:\n",
    "    r = check_environment(ak[1], offset=ak[0])\n",
    "    print(r[1], r[2])\n",
    "    print(r[0])"
   ]
  },
  {
   "cell_type": "code",
   "execution_count": null,
   "id": "71ce768a",
   "metadata": {
    "papermill": {
     "duration": 0.010421,
     "end_time": "2022-10-04T04:48:54.844080",
     "exception": false,
     "start_time": "2022-10-04T04:48:54.833659",
     "status": "completed"
    },
    "tags": []
   },
   "outputs": [],
   "source": []
  }
 ],
 "metadata": {
  "kernelspec": {
   "display_name": "Python 3.10.6 64-bit",
   "language": "python",
   "name": "python3"
  },
  "language_info": {
   "codemirror_mode": {
    "name": "ipython",
    "version": 3
   },
   "file_extension": ".py",
   "mimetype": "text/x-python",
   "name": "python",
   "nbconvert_exporter": "python",
   "pygments_lexer": "ipython3",
   "version": "3.9.14"
  },
  "papermill": {
   "default_parameters": {},
   "duration": 133.158275,
   "end_time": "2022-10-04T04:48:55.072196",
   "environment_variables": {},
   "exception": null,
   "input_path": "MPIA daily digest.ipynb",
   "output_path": "log.ipynb",
   "parameters": {},
   "start_time": "2022-10-04T04:46:41.913921",
   "version": "2.4.0"
  },
  "vscode": {
   "interpreter": {
    "hash": "e7370f93d1d0cde622a1f8e1c04877d8463912d04d973331ad4851f04de6915a"
   }
  },
  "widgets": {
   "application/vnd.jupyter.widget-state+json": {
    "state": {
     "33b3fd6c79964da38af925060bb0fd6a": {
      "model_module": "@jupyter-widgets/controls",
      "model_module_version": "2.0.0",
      "model_name": "HTMLStyleModel",
      "state": {
       "_model_module": "@jupyter-widgets/controls",
       "_model_module_version": "2.0.0",
       "_model_name": "HTMLStyleModel",
       "_view_count": null,
       "_view_module": "@jupyter-widgets/base",
       "_view_module_version": "2.0.0",
       "_view_name": "StyleView",
       "background": null,
       "description_width": "",
       "font_size": null,
       "text_color": null
      }
     },
     "3ac774f322714f80a9371934e782eda9": {
      "model_module": "@jupyter-widgets/base",
      "model_module_version": "2.0.0",
      "model_name": "LayoutModel",
      "state": {
       "_model_module": "@jupyter-widgets/base",
       "_model_module_version": "2.0.0",
       "_model_name": "LayoutModel",
       "_view_count": null,
       "_view_module": "@jupyter-widgets/base",
       "_view_module_version": "2.0.0",
       "_view_name": "LayoutView",
       "align_content": null,
       "align_items": null,
       "align_self": null,
       "border_bottom": null,
       "border_left": null,
       "border_right": null,
       "border_top": null,
       "bottom": null,
       "display": null,
       "flex": null,
       "flex_flow": null,
       "grid_area": null,
       "grid_auto_columns": null,
       "grid_auto_flow": null,
       "grid_auto_rows": null,
       "grid_column": null,
       "grid_gap": null,
       "grid_row": null,
       "grid_template_areas": null,
       "grid_template_columns": null,
       "grid_template_rows": null,
       "height": null,
       "justify_content": null,
       "justify_items": null,
       "left": null,
       "margin": null,
       "max_height": null,
       "max_width": null,
       "min_height": null,
       "min_width": null,
       "object_fit": null,
       "object_position": null,
       "order": null,
       "overflow": null,
       "padding": null,
       "right": null,
       "top": null,
       "visibility": null,
       "width": null
      }
     },
     "5dab0e7ca92d4aee86152285887e16e5": {
      "model_module": "@jupyter-widgets/controls",
      "model_module_version": "2.0.0",
      "model_name": "HBoxModel",
      "state": {
       "_dom_classes": [],
       "_model_module": "@jupyter-widgets/controls",
       "_model_module_version": "2.0.0",
       "_model_name": "HBoxModel",
       "_view_count": null,
       "_view_module": "@jupyter-widgets/controls",
       "_view_module_version": "2.0.0",
       "_view_name": "HBoxView",
       "box_style": "",
       "children": [
        "IPY_MODEL_f090c8f7295e4e5888e7c58f1dbb2fe4",
        "IPY_MODEL_6a48881bea9240d090ad03597efb5b53",
        "IPY_MODEL_a269310e889a4100ab719e109d57bc2c"
       ],
       "layout": "IPY_MODEL_6193cbb1dfa74523939b055644286054",
       "tabbable": null,
       "tooltip": null
      }
     },
     "6193cbb1dfa74523939b055644286054": {
      "model_module": "@jupyter-widgets/base",
      "model_module_version": "2.0.0",
      "model_name": "LayoutModel",
      "state": {
       "_model_module": "@jupyter-widgets/base",
       "_model_module_version": "2.0.0",
       "_model_name": "LayoutModel",
       "_view_count": null,
       "_view_module": "@jupyter-widgets/base",
       "_view_module_version": "2.0.0",
       "_view_name": "LayoutView",
       "align_content": null,
       "align_items": null,
       "align_self": null,
       "border_bottom": null,
       "border_left": null,
       "border_right": null,
       "border_top": null,
       "bottom": null,
       "display": null,
       "flex": null,
       "flex_flow": null,
       "grid_area": null,
       "grid_auto_columns": null,
       "grid_auto_flow": null,
       "grid_auto_rows": null,
       "grid_column": null,
       "grid_gap": null,
       "grid_row": null,
       "grid_template_areas": null,
       "grid_template_columns": null,
       "grid_template_rows": null,
       "height": null,
       "justify_content": null,
       "justify_items": null,
       "left": null,
       "margin": null,
       "max_height": null,
       "max_width": null,
       "min_height": null,
       "min_width": null,
       "object_fit": null,
       "object_position": null,
       "order": null,
       "overflow": null,
       "padding": null,
       "right": null,
       "top": null,
       "visibility": null,
       "width": null
      }
     },
     "6a48881bea9240d090ad03597efb5b53": {
      "model_module": "@jupyter-widgets/controls",
      "model_module_version": "2.0.0",
      "model_name": "FloatProgressModel",
      "state": {
       "_dom_classes": [],
       "_model_module": "@jupyter-widgets/controls",
       "_model_module_version": "2.0.0",
       "_model_name": "FloatProgressModel",
       "_view_count": null,
       "_view_module": "@jupyter-widgets/controls",
       "_view_module_version": "2.0.0",
       "_view_name": "ProgressView",
       "bar_style": "success",
       "description": "",
       "description_allow_html": false,
       "layout": "IPY_MODEL_da6369cc3cea4c459a1ccbf2edc63e1a",
       "max": 21.0,
       "min": 0.0,
       "orientation": "horizontal",
       "style": "IPY_MODEL_83950ce151d941759e27c14684a277bc",
       "tabbable": null,
       "tooltip": null,
       "value": 21.0
      }
     },
     "83950ce151d941759e27c14684a277bc": {
      "model_module": "@jupyter-widgets/controls",
      "model_module_version": "2.0.0",
      "model_name": "ProgressStyleModel",
      "state": {
       "_model_module": "@jupyter-widgets/controls",
       "_model_module_version": "2.0.0",
       "_model_name": "ProgressStyleModel",
       "_view_count": null,
       "_view_module": "@jupyter-widgets/base",
       "_view_module_version": "2.0.0",
       "_view_name": "StyleView",
       "bar_color": null,
       "description_width": ""
      }
     },
     "a269310e889a4100ab719e109d57bc2c": {
      "model_module": "@jupyter-widgets/controls",
      "model_module_version": "2.0.0",
      "model_name": "HTMLModel",
      "state": {
       "_dom_classes": [],
       "_model_module": "@jupyter-widgets/controls",
       "_model_module_version": "2.0.0",
       "_model_name": "HTMLModel",
       "_view_count": null,
       "_view_module": "@jupyter-widgets/controls",
       "_view_module_version": "2.0.0",
       "_view_name": "HTMLView",
       "description": "",
       "description_allow_html": false,
       "layout": "IPY_MODEL_e40c035bab454f97b9dd7e68c6f0fa3b",
       "placeholder": "​",
       "style": "IPY_MODEL_fe39f53e54de4c31843874fd90c3c322",
       "tabbable": null,
       "tooltip": null,
       "value": " 21/21 [01:47&lt;00:00,  2.33s/it]"
      }
     },
     "da6369cc3cea4c459a1ccbf2edc63e1a": {
      "model_module": "@jupyter-widgets/base",
      "model_module_version": "2.0.0",
      "model_name": "LayoutModel",
      "state": {
       "_model_module": "@jupyter-widgets/base",
       "_model_module_version": "2.0.0",
       "_model_name": "LayoutModel",
       "_view_count": null,
       "_view_module": "@jupyter-widgets/base",
       "_view_module_version": "2.0.0",
       "_view_name": "LayoutView",
       "align_content": null,
       "align_items": null,
       "align_self": null,
       "border_bottom": null,
       "border_left": null,
       "border_right": null,
       "border_top": null,
       "bottom": null,
       "display": null,
       "flex": null,
       "flex_flow": null,
       "grid_area": null,
       "grid_auto_columns": null,
       "grid_auto_flow": null,
       "grid_auto_rows": null,
       "grid_column": null,
       "grid_gap": null,
       "grid_row": null,
       "grid_template_areas": null,
       "grid_template_columns": null,
       "grid_template_rows": null,
       "height": null,
       "justify_content": null,
       "justify_items": null,
       "left": null,
       "margin": null,
       "max_height": null,
       "max_width": null,
       "min_height": null,
       "min_width": null,
       "object_fit": null,
       "object_position": null,
       "order": null,
       "overflow": null,
       "padding": null,
       "right": null,
       "top": null,
       "visibility": null,
       "width": null
      }
     },
     "e40c035bab454f97b9dd7e68c6f0fa3b": {
      "model_module": "@jupyter-widgets/base",
      "model_module_version": "2.0.0",
      "model_name": "LayoutModel",
      "state": {
       "_model_module": "@jupyter-widgets/base",
       "_model_module_version": "2.0.0",
       "_model_name": "LayoutModel",
       "_view_count": null,
       "_view_module": "@jupyter-widgets/base",
       "_view_module_version": "2.0.0",
       "_view_name": "LayoutView",
       "align_content": null,
       "align_items": null,
       "align_self": null,
       "border_bottom": null,
       "border_left": null,
       "border_right": null,
       "border_top": null,
       "bottom": null,
       "display": null,
       "flex": null,
       "flex_flow": null,
       "grid_area": null,
       "grid_auto_columns": null,
       "grid_auto_flow": null,
       "grid_auto_rows": null,
       "grid_column": null,
       "grid_gap": null,
       "grid_row": null,
       "grid_template_areas": null,
       "grid_template_columns": null,
       "grid_template_rows": null,
       "height": null,
       "justify_content": null,
       "justify_items": null,
       "left": null,
       "margin": null,
       "max_height": null,
       "max_width": null,
       "min_height": null,
       "min_width": null,
       "object_fit": null,
       "object_position": null,
       "order": null,
       "overflow": null,
       "padding": null,
       "right": null,
       "top": null,
       "visibility": null,
       "width": null
      }
     },
     "f090c8f7295e4e5888e7c58f1dbb2fe4": {
      "model_module": "@jupyter-widgets/controls",
      "model_module_version": "2.0.0",
      "model_name": "HTMLModel",
      "state": {
       "_dom_classes": [],
       "_model_module": "@jupyter-widgets/controls",
       "_model_module_version": "2.0.0",
       "_model_name": "HTMLModel",
       "_view_count": null,
       "_view_module": "@jupyter-widgets/controls",
       "_view_module_version": "2.0.0",
       "_view_name": "HTMLView",
       "description": "",
       "description_allow_html": false,
       "layout": "IPY_MODEL_3ac774f322714f80a9371934e782eda9",
       "placeholder": "​",
       "style": "IPY_MODEL_33b3fd6c79964da38af925060bb0fd6a",
       "tabbable": null,
       "tooltip": null,
       "value": "100%"
      }
     },
     "fe39f53e54de4c31843874fd90c3c322": {
      "model_module": "@jupyter-widgets/controls",
      "model_module_version": "2.0.0",
      "model_name": "HTMLStyleModel",
      "state": {
       "_model_module": "@jupyter-widgets/controls",
       "_model_module_version": "2.0.0",
       "_model_name": "HTMLStyleModel",
       "_view_count": null,
       "_view_module": "@jupyter-widgets/base",
       "_view_module_version": "2.0.0",
       "_view_name": "StyleView",
       "background": null,
       "description_width": "",
       "font_size": null,
       "text_color": null
      }
     }
    },
    "version_major": 2,
    "version_minor": 0
   }
  }
 },
 "nbformat": 4,
 "nbformat_minor": 5
}