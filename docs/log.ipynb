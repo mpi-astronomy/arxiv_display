{
 "cells": [
  {
   "cell_type": "markdown",
   "id": "92bcb855",
   "metadata": {
    "papermill": {
     "duration": 0.004116,
     "end_time": "2024-09-27T04:10:37.553147",
     "exception": false,
     "start_time": "2024-09-27T04:10:37.549031",
     "status": "completed"
    },
    "tags": []
   },
   "source": [
    "# MPIA Arxiv on Deck 2\n",
    "\n",
    "Contains the steps to produce the paper extractions."
   ]
  },
  {
   "cell_type": "code",
   "execution_count": 1,
   "id": "3a0d6e11",
   "metadata": {
    "execution": {
     "iopub.execute_input": "2024-09-27T04:10:37.560787Z",
     "iopub.status.busy": "2024-09-27T04:10:37.560521Z",
     "iopub.status.idle": "2024-09-27T04:10:38.075246Z",
     "shell.execute_reply": "2024-09-27T04:10:38.074613Z"
    },
    "papermill": {
     "duration": 0.520088,
     "end_time": "2024-09-27T04:10:38.076620",
     "exception": false,
     "start_time": "2024-09-27T04:10:37.556532",
     "status": "completed"
    },
    "tags": []
   },
   "outputs": [],
   "source": [
    "# Imports\n",
    "import os\n",
    "from IPython.display import Markdown, display\n",
    "from tqdm.notebook import tqdm\n",
    "import warnings\n",
    "from PIL import Image \n",
    "import re\n",
    "\n",
    "# requires arxiv_on_deck_2\n",
    "\n",
    "from arxiv_on_deck_2.arxiv2 import (get_new_papers, \n",
    "                                    get_paper_from_identifier,\n",
    "                                    retrieve_document_source, \n",
    "                                    get_markdown_badge)\n",
    "from arxiv_on_deck_2 import (latex,\n",
    "                             latex_bib,\n",
    "                             mpia,\n",
    "                             highlight_authors_in_list)\n",
    "\n",
    "# Sometimes images are really big\n",
    "Image.MAX_IMAGE_PIXELS = 1000000000 "
   ]
  },
  {
   "cell_type": "code",
   "execution_count": 2,
   "id": "22aa9d44",
   "metadata": {
    "execution": {
     "iopub.execute_input": "2024-09-27T04:10:38.084562Z",
     "iopub.status.busy": "2024-09-27T04:10:38.084039Z",
     "iopub.status.idle": "2024-09-27T04:10:38.092243Z",
     "shell.execute_reply": "2024-09-27T04:10:38.091686Z"
    },
    "papermill": {
     "duration": 0.013244,
     "end_time": "2024-09-27T04:10:38.093228",
     "exception": false,
     "start_time": "2024-09-27T04:10:38.079984",
     "status": "completed"
    },
    "tags": []
   },
   "outputs": [],
   "source": [
    "# Some useful definitions.\n",
    "\n",
    "class AffiliationWarning(UserWarning):\n",
    "    pass\n",
    "\n",
    "class AffiliationError(RuntimeError):\n",
    "    pass\n",
    "\n",
    "def validation(source: str):\n",
    "    \"\"\"Raises error paper during parsing of source file\n",
    "    \n",
    "    Allows checks before parsing TeX code.\n",
    "    \n",
    "    Raises AffiliationWarning\n",
    "    \"\"\"\n",
    "    check = mpia.affiliation_verifications(source, verbose=True)\n",
    "    if check is not True:\n",
    "        raise AffiliationError(\"mpia.affiliation_verifications: \" + check)\n",
    "\n",
    "        \n",
    "warnings.simplefilter('always', AffiliationWarning)\n",
    "\n",
    "\n",
    "def get_markdown_qrcode(paper_id: str):\n",
    "    \"\"\" Generate a qrcode to the arxiv page using qrserver.com\n",
    "    \n",
    "    :param paper: Arxiv paper\n",
    "    :returns: markdown text\n",
    "    \"\"\"\n",
    "    url = r\"https://api.qrserver.com/v1/create-qr-code/?size=100x100&data=\"\n",
    "    txt = f\"\"\"<img src={url}\"https://arxiv.org/abs/{paper_id}\">\"\"\"\n",
    "    txt = '<div id=\"qrcode\">' + txt + '</div>'\n",
    "    return txt\n",
    "\n",
    "\n",
    "def clean_non_western_encoded_characters_commands(text: str) -> str:\n",
    "    \"\"\" Remove non-western encoded characters from a string\n",
    "    List may need to grow.\n",
    "    \n",
    "    :param text: the text to clean\n",
    "    :return: the cleaned text\n",
    "    \"\"\"\n",
    "    text = re.sub(r\"(\\\\begin{CJK}{UTF8}{gbsn})(.*?)(\\\\end{CJK})\", r\"\\2\", text)\n",
    "    return text\n",
    "\n",
    "\n",
    "def get_initials(name: str) -> str:\n",
    "    \"\"\" Get the short name, e.g., A.-B. FamName\n",
    "    :param name: full name\n",
    "    :returns: initials\n",
    "    \"\"\"\n",
    "    initials = []\n",
    "    # account for non western names often in ()\n",
    "    if '(' in name:\n",
    "        name = clean_non_western_encoded_characters_commands(name)\n",
    "        suffix = re.findall(r\"\\((.*?)\\)\", name)[0]\n",
    "        name = name.replace(f\"({suffix})\", '')\n",
    "    else:\n",
    "        suffix = ''\n",
    "    split = name.split()\n",
    "    for token in split[:-1]:\n",
    "        if '-' in token:\n",
    "            current = '-'.join([k[0] + '.' for k in token.split('-')])\n",
    "        else:\n",
    "            current = token[0] + '.'\n",
    "        initials.append(current)\n",
    "    initials.append(split[-1].strip())\n",
    "    if suffix:\n",
    "        initials.append(f\"({suffix})\")\n",
    "    return ' '.join(initials)"
   ]
  },
  {
   "cell_type": "markdown",
   "id": "14bd6310",
   "metadata": {
    "papermill": {
     "duration": 0.003078,
     "end_time": "2024-09-27T04:10:38.099444",
     "exception": false,
     "start_time": "2024-09-27T04:10:38.096366",
     "status": "completed"
    },
    "tags": []
   },
   "source": [
    "## get list of arxiv paper candidates\n",
    "\n",
    "We use the MPIA mitarbeiter list webpage from mpia.de to get author names\n",
    "We then get all new papers from Arxiv and match authors"
   ]
  },
  {
   "cell_type": "code",
   "execution_count": 3,
   "id": "7ea813a8",
   "metadata": {
    "execution": {
     "iopub.execute_input": "2024-09-27T04:10:38.106596Z",
     "iopub.status.busy": "2024-09-27T04:10:38.106137Z",
     "iopub.status.idle": "2024-09-27T04:10:54.742794Z",
     "shell.execute_reply": "2024-09-27T04:10:54.742136Z"
    },
    "papermill": {
     "duration": 16.641597,
     "end_time": "2024-09-27T04:10:54.744034",
     "exception": false,
     "start_time": "2024-09-27T04:10:38.102437",
     "status": "completed"
    },
    "tags": []
   },
   "outputs": [],
   "source": [
    "# deal with the author list and edge cases of people that cannot be consistent on their name  \n",
    "\n",
    "def filter_non_scientists(name: str) -> bool:\n",
    "    \"\"\" Loose filter on expected authorships\n",
    "\n",
    "    removing IT, administration, technical staff\n",
    "    :param name: name\n",
    "    :returns: False if name is not a scientist\n",
    "    \"\"\"\n",
    "    remove_list = ['Licht', 'Binroth', 'Witzel', 'Jordan',\n",
    "                   'Zähringer', 'Scheerer', 'Hoffmann', 'Düe',\n",
    "                   'Hellmich', 'Enkler-Scharpegge', 'Witte-Nguy',\n",
    "                   'Dehen', 'Beckmann', 'Jager', 'Jäger'\n",
    "                  ]\n",
    "\n",
    "    for k in remove_list:\n",
    "        if k in name:\n",
    "            return False\n",
    "    return True\n",
    "\n",
    "def add_author_to_list(author_list: list) -> list:\n",
    "    \"\"\" Add author to list if not already in list\n",
    "    \n",
    "    :param author: author name\n",
    "    :param author_list: list of authors\n",
    "    :returns: updated list of authors\n",
    "    \"\"\"\n",
    "    add_list = ['T. Henning']\n",
    "\n",
    "    for author in add_list:\n",
    "        if author not in author_list:\n",
    "            author_list.append(author)\n",
    "    return author_list\n",
    "\n",
    "# get list from MPIA website\n",
    "# filter for non-scientists (mpia.get_mpia_mitarbeiter_list() does some filtering)\n",
    "mpia_authors = [k[1] for k in mpia.get_mpia_mitarbeiter_list() if filter_non_scientists(k[1])]\n",
    "# add some missing author because of inconsistencies in their MPIA name and author name on papers\n",
    "mpia_authors = add_author_to_list(mpia_authors)"
   ]
  },
  {
   "cell_type": "code",
   "execution_count": 4,
   "id": "2645e73a",
   "metadata": {
    "execution": {
     "iopub.execute_input": "2024-09-27T04:10:54.751887Z",
     "iopub.status.busy": "2024-09-27T04:10:54.751655Z",
     "iopub.status.idle": "2024-09-27T04:10:55.515158Z",
     "shell.execute_reply": "2024-09-27T04:10:55.514427Z"
    },
    "papermill": {
     "duration": 0.768731,
     "end_time": "2024-09-27T04:10:55.516261",
     "exception": false,
     "start_time": "2024-09-27T04:10:54.747530",
     "status": "completed"
    },
    "tags": []
   },
   "outputs": [
    {
     "name": "stdout",
     "output_type": "stream",
     "text": [
      "M. Benisty  ->  M. Benisty  |  ['M. Benisty']\n"
     ]
    },
    {
     "name": "stdout",
     "output_type": "stream",
     "text": [
      "L. Acuña  ->  L. Acuña  |  ['L. Acuña']\n",
      "Arxiv has 67 new papers today\n",
      "          2 with possible author matches\n"
     ]
    }
   ],
   "source": [
    "new_papers = get_new_papers()\n",
    "# add manual references\n",
    "add_paper_refs = []\n",
    "new_papers.extend([get_paper_from_identifier(k) for k in add_paper_refs])\n",
    "\n",
    "def robust_call(fn, value, *args, **kwargs):\n",
    "    try:\n",
    "        return fn(value, *args, **kwargs)\n",
    "    except Exception:\n",
    "        return value\n",
    "\n",
    "candidates = []\n",
    "for paperk in new_papers:\n",
    "    # Check author list with their initials\n",
    "    normed_author_list = [robust_call(mpia.get_initials, k) for k in paperk['authors']]\n",
    "    hl_authors = highlight_authors_in_list(normed_author_list, mpia_authors, verbose=True)\n",
    "    matches = [(hl, orig) for hl, orig in zip(hl_authors, paperk['authors']) if 'mark' in hl]\n",
    "    paperk['authors'] = hl_authors\n",
    "    if matches:\n",
    "        # only select paper if an author matched our list\n",
    "        candidates.append(paperk)\n",
    "print(\"\"\"Arxiv has {0:,d} new papers today\"\"\".format(len(new_papers)))        \n",
    "print(\"\"\"          {0:,d} with possible author matches\"\"\".format(len(candidates)))"
   ]
  },
  {
   "cell_type": "markdown",
   "id": "3543b34a",
   "metadata": {
    "papermill": {
     "duration": 0.003249,
     "end_time": "2024-09-27T04:10:55.523190",
     "exception": false,
     "start_time": "2024-09-27T04:10:55.519941",
     "status": "completed"
    },
    "tags": []
   },
   "source": [
    "# Parse sources and generate relevant outputs\n",
    "\n",
    "From the candidates, we do the following steps:\n",
    "* get their tarball from ArXiv (and extract data)\n",
    "* find the main .tex file: find one with \\documentclass{...} (sometimes it's non trivial)\n",
    "* Check affiliations with :func:`validation`, which uses :func:`mpia.affiliation_verifications`\n",
    "* If passing the affiliations: we parse the .tex source\n",
    "   * inject sub-documents into the main (flatten the main document)\n",
    "   * parse structure, extract information (title, abstract, authors, figures...)\n",
    "   * handles `\\graphicspath` if provided\n",
    "* Generate the .md document."
   ]
  },
  {
   "cell_type": "code",
   "execution_count": 5,
   "id": "9576b79e",
   "metadata": {
    "execution": {
     "iopub.execute_input": "2024-09-27T04:10:55.530854Z",
     "iopub.status.busy": "2024-09-27T04:10:55.530434Z",
     "iopub.status.idle": "2024-09-27T04:13:37.410235Z",
     "shell.execute_reply": "2024-09-27T04:13:37.409496Z"
    },
    "papermill": {
     "duration": 161.889044,
     "end_time": "2024-09-27T04:13:37.415548",
     "exception": false,
     "start_time": "2024-09-27T04:10:55.526504",
     "status": "completed"
    },
    "scrolled": false,
    "tags": []
   },
   "outputs": [
    {
     "data": {
      "application/vnd.jupyter.widget-view+json": {
       "model_id": "bf235fa8ece74767bf91d6e54b77978a",
       "version_major": 2,
       "version_minor": 0
      },
      "text/plain": [
       "  0%|          | 0/2 [00:00<?, ?it/s]"
      ]
     },
     "metadata": {},
     "output_type": "display_data"
    },
    {
     "name": "stdout",
     "output_type": "stream",
     "text": [
      "Retrieving document from  https://arxiv.org/e-print/2409.17220\n",
      "extracting tarball to tmp_2409.17220..."
     ]
    },
    {
     "name": "stdout",
     "output_type": "stream",
     "text": [
      " done.\n"
     ]
    },
    {
     "name": "stdout",
     "output_type": "stream",
     "text": [
      "M. Benisty  ->  M. Benisty  |  ['M. Benisty']\n"
     ]
    },
    {
     "name": "stdout",
     "output_type": "stream",
     "text": [
      "Found 95 bibliographic references in tmp_2409.17220/aa.bbl.\n",
      "Retrieving document from  https://arxiv.org/e-print/2409.18129\n"
     ]
    },
    {
     "name": "stdout",
     "output_type": "stream",
     "text": [
      "extracting tarball to tmp_2409.18129..."
     ]
    },
    {
     "name": "stdout",
     "output_type": "stream",
     "text": [
      " done.\n"
     ]
    },
    {
     "name": "stderr",
     "output_type": "stream",
     "text": [
      "/opt/hostedtoolcache/Python/3.9.20/x64/lib/python3.9/site-packages/IPython/core/interactiveshell.py:3550: LatexWarning: Multiple tex files.\n",
      "\n",
      "  exec(code_obj, self.user_global_ns, self.user_ns)\n",
      "/opt/hostedtoolcache/Python/3.9.20/x64/lib/python3.9/site-packages/IPython/core/interactiveshell.py:3550: LatexWarning: Found documentclass in tmp_2409.18129/aa.tex\n",
      "\n",
      "  exec(code_obj, self.user_global_ns, self.user_ns)\n",
      "/opt/hostedtoolcache/Python/3.9.20/x64/lib/python3.9/site-packages/arxiv_on_deck_2/latex.py:414: LatexWarning: Latex injecting: 'table_parameters_joint_analysis' from 'tmp_2409.18129/table_parameters_joint_analysis.tex'\n",
      "  warnings.warn(LatexWarning(f\"Latex injecting: '{ext}' from '{subsource}'\"))\n",
      "/opt/hostedtoolcache/Python/3.9.20/x64/lib/python3.9/site-packages/arxiv_on_deck_2/latex.py:414: LatexWarning: Latex injecting: 'table_HARPS_data' from 'tmp_2409.18129/table_HARPS_data.tex'\n",
      "  warnings.warn(LatexWarning(f\"Latex injecting: '{ext}' from '{subsource}'\"))\n",
      "/opt/hostedtoolcache/Python/3.9.20/x64/lib/python3.9/site-packages/arxiv_on_deck_2/latex.py:414: LatexWarning: Latex injecting: 'table_TRAPPIST_data' from 'tmp_2409.18129/table_TRAPPIST_data.tex'\n",
      "  warnings.warn(LatexWarning(f\"Latex injecting: '{ext}' from '{subsource}'\"))\n",
      "/opt/hostedtoolcache/Python/3.9.20/x64/lib/python3.9/site-packages/arxiv_on_deck_2/latex.py:414: LatexWarning: Latex injecting: 'table_PEST_data' from 'tmp_2409.18129/table_PEST_data.tex'\n",
      "  warnings.warn(LatexWarning(f\"Latex injecting: '{ext}' from '{subsource}'\"))\n",
      "/opt/hostedtoolcache/Python/3.9.20/x64/lib/python3.9/site-packages/arxiv_on_deck_2/latex.py:414: LatexWarning: Latex injecting: 'table_TESS_data' from 'tmp_2409.18129/table_TESS_data.tex'\n",
      "  warnings.warn(LatexWarning(f\"Latex injecting: '{ext}' from '{subsource}'\"))\n",
      "/opt/hostedtoolcache/Python/3.9.20/x64/lib/python3.9/site-packages/arxiv_on_deck_2/latex.py:414: LatexWarning: Latex injecting: 'table_MSPIs' from 'tmp_2409.18129/table_MSPIs.tex'\n",
      "  warnings.warn(LatexWarning(f\"Latex injecting: '{ext}' from '{subsource}'\"))\n",
      "/opt/hostedtoolcache/Python/3.9.20/x64/lib/python3.9/site-packages/arxiv_on_deck_2/latex.py:414: LatexWarning: Latex injecting: 'table_stellar_parameters' from 'tmp_2409.18129/table_stellar_parameters.tex'\n",
      "  warnings.warn(LatexWarning(f\"Latex injecting: '{ext}' from '{subsource}'\"))\n",
      "/opt/hostedtoolcache/Python/3.9.20/x64/lib/python3.9/site-packages/arxiv_on_deck_2/latex.py:414: LatexWarning: Latex injecting: 'table_stellar_general_prop' from 'tmp_2409.18129/table_stellar_general_prop.tex'\n",
      "  warnings.warn(LatexWarning(f\"Latex injecting: '{ext}' from '{subsource}'\"))\n",
      "/opt/hostedtoolcache/Python/3.9.20/x64/lib/python3.9/site-packages/arxiv_on_deck_2/latex.py:414: LatexWarning: Latex injecting: 'table_TESS_summary' from 'tmp_2409.18129/table_TESS_summary.tex'\n",
      "  warnings.warn(LatexWarning(f\"Latex injecting: '{ext}' from '{subsource}'\"))\n"
     ]
    },
    {
     "name": "stdout",
     "output_type": "stream",
     "text": [
      "Found 235 bibliographic references in tmp_2409.18129/aa.bbl.\n",
      "Issues with the citations\n",
      "syntax error in line 450: '}' expected\n"
     ]
    }
   ],
   "source": [
    "documents = []\n",
    "failed = []\n",
    "for paper in tqdm(candidates):\n",
    "    # debug crap\n",
    "    paper['identifier'] = paper['identifier'].lower().replace('arxiv:', '').replace(r'\\n', '').strip()\n",
    "    paper_id = paper['identifier']\n",
    "    \n",
    "    folder = f'tmp_{paper_id}'\n",
    "\n",
    "    try:\n",
    "        if not os.path.isdir(folder):\n",
    "            folder = retrieve_document_source(f\"{paper_id}\", f'tmp_{paper_id}')\n",
    "        \n",
    "        try:\n",
    "            doc = latex.LatexDocument(folder, validation=validation)    \n",
    "        except AffiliationError as affilerror:\n",
    "            msg = f\"ArXiv:{paper_id:s} is not an MPIA paper... \" + str(affilerror)\n",
    "            failed.append((paper, \"affiliation error: \" + str(affilerror) ))\n",
    "            continue\n",
    "        \n",
    "        # Hack because sometimes author parsing does not work well\n",
    "        if (len(doc.authors) != len(paper['authors'])):\n",
    "            doc._authors = paper['authors']\n",
    "        else:\n",
    "            # highlight authors (FIXME: doc.highlight_authors)\n",
    "            # done on arxiv paper already\n",
    "            doc._authors = highlight_authors_in_list(\n",
    "                [get_initials(k) for k in doc.authors], \n",
    "                mpia_authors, verbose=True)\n",
    "        if (doc.abstract) in (None, ''):\n",
    "            doc._abstract = paper['abstract']\n",
    "            \n",
    "        doc.comment = (get_markdown_badge(paper_id) + \n",
    "                       \"<mark>Appeared on: \" + paper['date'] + \"</mark> - \")\n",
    "        if paper['comments']:\n",
    "            doc.comment += \" _\" + paper['comments'] + \"_\"\n",
    "        \n",
    "        full_md = doc.generate_markdown_text()\n",
    "        \n",
    "        full_md += get_markdown_qrcode(paper_id)\n",
    "        \n",
    "        # replace citations\n",
    "        try:\n",
    "            bibdata = latex_bib.LatexBib.from_doc(doc)\n",
    "            full_md = latex_bib.replace_citations(full_md, bibdata)\n",
    "        except Exception as e:\n",
    "            print(\"Issues with the citations\")\n",
    "            print(e)\n",
    "        \n",
    "        documents.append((paper_id, full_md))\n",
    "    except Exception as e:\n",
    "        warnings.warn(latex.LatexWarning(f\"{paper_id:s} did not run properly\\n\" +\n",
    "                                         str(e)\n",
    "                                        ))\n",
    "        failed.append((paper, \"latex error \" + str(e)))"
   ]
  },
  {
   "cell_type": "markdown",
   "id": "2505a25c",
   "metadata": {
    "papermill": {
     "duration": 0.003675,
     "end_time": "2024-09-27T04:13:37.423160",
     "exception": false,
     "start_time": "2024-09-27T04:13:37.419485",
     "status": "completed"
    },
    "tags": []
   },
   "source": [
    "### Export the logs\n",
    "\n",
    "Throughout, we also keep track of the logs per paper. see `logs-{today date}.md` "
   ]
  },
  {
   "cell_type": "code",
   "execution_count": 6,
   "id": "d733828a",
   "metadata": {
    "execution": {
     "iopub.execute_input": "2024-09-27T04:13:37.431859Z",
     "iopub.status.busy": "2024-09-27T04:13:37.431338Z",
     "iopub.status.idle": "2024-09-27T04:13:37.444125Z",
     "shell.execute_reply": "2024-09-27T04:13:37.443590Z"
    },
    "papermill": {
     "duration": 0.018265,
     "end_time": "2024-09-27T04:13:37.445110",
     "exception": false,
     "start_time": "2024-09-27T04:13:37.426845",
     "status": "completed"
    },
    "scrolled": false,
    "tags": []
   },
   "outputs": [
    {
     "data": {
      "text/markdown": [
       "## Successful papers"
      ],
      "text/plain": [
       "<IPython.core.display.Markdown object>"
      ]
     },
     "metadata": {},
     "output_type": "display_data"
    },
    {
     "data": {
      "text/markdown": [
       "\n",
       "|||\n",
       "|---:|:---|\n",
       "| [![arXiv](https://img.shields.io/badge/arXiv-2409.17220-b31b1b.svg)](https://arxiv.org/abs/2409.17220) | **Spatially correlated stellar accretion in the Lupus star forming region: Evidence for ongoing infall from the interstellar medium?**  |\n",
       "|| A. J. Winter, <mark>M. Benisty</mark>, C. Manara, A. Gupta |\n",
       "|*Appeared on*| *2024-09-27*|\n",
       "|*Comments*| *10 pages, 6 figures, accepted for publication in A&A Letters*|\n",
       "|**Abstract**|            Growing evidence suggests that protoplanetary discs may be influenced by late stage infall from the interstellar medium (ISM). It remains unclear the degree to which infall shapes disc populations at ages $\\gtrsim 1$~Myr. We explore possible spatial correlations between stellar accretion rates in the Lupus star forming region, which would support the hypothesis that infall can regulate stellar accretion. We consider both the `clustered' stars towards the center of Lupus 3, and the `distributed' stars that are more sparsely distributed across the Lupus complex. We take the observed accretion rates in the literature and explore spatial correlations. In particular, we test whether the clustered stars exhibit a radial gradient in normalised accretion rates, and whether the distributed stars have spatially correlated accretion rates. We find statistically significant correlations for both the clustered and distributed samples. The clustered sample exhibits higher accretion rates in the central region, consistent with the expected Bondi-Hoyle-Lyttleton accretion rate. Stars that are spatially closer among the distributed population also exhibit more similar accretion rates. These results cannot be explained by the stellar mass distribution for either sample. Age gradients are disfavoured, though not discounted, because normalised disc dust masses are not spatially correlated across the region. Spatially correlated stellar accretion rates within the Lupus star forming region argue in favour of an environmental influence on stellar accretion, possibly combined with internal processes in the inner disc. Refined age measurements and searches for evidence of infalling material is a potential way to further test this finding.         |"
      ],
      "text/plain": [
       "[2409.17220] Spatially correlated stellar accretion in the Lupus star forming region: Evidence for ongoing infall from the interstellar medium?\n",
       "\tA. J. Winter, <mark>M. Benisty</mark>, C. Manara, A. Gupta"
      ]
     },
     "metadata": {},
     "output_type": "display_data"
    },
    {
     "data": {
      "text/markdown": [
       "\n",
       "|||\n",
       "|---:|:---|\n",
       "| [![arXiv](https://img.shields.io/badge/arXiv-2409.18129-b31b1b.svg)](https://arxiv.org/abs/2409.18129) | **TOI-5005 b: A super-Neptune in the savanna near the ridge**  |\n",
       "|| A. Castro-González, et al. -- incl., <mark>L. Acuña</mark> |\n",
       "|*Appeared on*| *2024-09-27*|\n",
       "|*Comments*| *Accepted for publication in A&A. Abstract shortened. 35 pages, 26 figures*|\n",
       "|**Abstract**|            The Neptunian desert and savanna have been recently found to be separated by a ridge, an overdensity of planets in the $\\simeq$3-5 days period range. These features are thought to be shaped by dynamical and atmospheric processes. However, their relative roles are not yet well understood. We intend to confirm and characterise the super-Neptune TESS candidate TOI-5005.01, which orbits a moderately bright (V = 11.8) solar-type star (G2 V) with an orbital period of 6.3 days. We confirm TOI-5005 b to be a transiting super-Neptune with a radius of $R_{\\rm p}$ = $6.25\\pm 0.24$ $\\rm R_{\\rm \\oplus}$ ($R_{\\rm p}$ = $0.558\\pm 0.021$ $\\rm R_{\\rm J}$) and a mass of $M_{\\rm p}$ = $32.7\\pm 5.9$ $\\rm M_{\\oplus}$ ($M_{\\rm p}$ = $0.103\\pm 0.018$ $\\rm M_{\\rm J}$), which corresponds to a mean density of $\\rho_{\\rm p}$ = $0.74 \\pm 0.16$ $\\rm g \\, cm^{-3}$. Our internal structure modelling indicates that the overall metal mass fraction is well constrained to a value slightly lower than that of Neptune and Uranus ($Z_{\\rm planet}$ = $0.76^{+0.04}_{-0.11}$). We also estimated the present-day atmospheric mass-loss rate of TOI-5005 b but found contrasting predictions depending on the choice of photoevaporation model. At a population level, we find statistical evidence ($p$-value = $0.0092^{+0.0184}_{-0.0066}$) that planets in the savanna such as TOI-5005 b tend to show lower densities than planets in the ridge, with a dividing line around 1 $\\rm g \\, cm^{-3}$, which supports the hypothesis of different evolutionary pathways populating both regimes. TOI-5005 b is located in a key region of the period-radius space to study the transition between the Neptunian ridge and the savanna. It orbits the brightest star of all such planets, which makes it a target of interest for atmospheric and orbital architecture observations that will bring a clearer picture of its overall evolution.         |"
      ],
      "text/plain": [
       "[2409.18129] TOI-5005 b: A super-Neptune in the savanna near the ridge\n",
       "\tA. Castro-González, et al. -- incl., <mark>L. Acuña</mark>"
      ]
     },
     "metadata": {},
     "output_type": "display_data"
    },
    {
     "data": {
      "text/markdown": [
       "## Failed papers"
      ],
      "text/plain": [
       "<IPython.core.display.Markdown object>"
      ]
     },
     "metadata": {},
     "output_type": "display_data"
    }
   ],
   "source": [
    "import datetime\n",
    "today = str(datetime.date.today())\n",
    "logfile = f\"_build/html/logs/log-{today}.md\"\n",
    "\n",
    "\n",
    "with open(logfile, 'w') as logs:\n",
    "    # Success\n",
    "    logs.write(f'# Arxiv on Deck 2: Logs - {today}\\n\\n')\n",
    "    logs.write(\"\"\"* Arxiv had {0:,d} new papers\\n\"\"\".format(len(new_papers)))\n",
    "    logs.write(\"\"\"    * {0:,d} with possible author matches\\n\\n\"\"\".format(len(candidates)))\n",
    "    logs.write(\"## Sucessful papers\\n\\n\")\n",
    "    display(Markdown(\"## Successful papers\"))\n",
    "    success = [k[0] for k in documents]\n",
    "    for candid in candidates:\n",
    "        if candid['identifier'].split(':')[-1] in success:\n",
    "            display(candid)\n",
    "            logs.write(candid.generate_markdown_text() + '\\n\\n')\n",
    "\n",
    "    ## failed\n",
    "    logs.write(\"## Failed papers\\n\\n\")\n",
    "    display(Markdown(\"## Failed papers\"))\n",
    "    failed = sorted(failed, key=lambda x: x[1])\n",
    "    current_reason = \"\"\n",
    "    for paper, reason in failed:\n",
    "        if 'affiliation' in reason:\n",
    "            color = 'green'\n",
    "        else:\n",
    "            color = 'red'\n",
    "        data = Markdown(\n",
    "                paper.generate_markdown_text() + \n",
    "                f'\\n|<p style=\"color:{color:s}\"> **ERROR** </p>| <p style=\"color:{color:s}\">{reason:s}</p> |'\n",
    "               )\n",
    "        if reason != current_reason:\n",
    "            logs.write(f'### {reason:s} \\n\\n')\n",
    "            current_reason = reason\n",
    "        logs.write(data.data + '\\n\\n')\n",
    "        \n",
    "        # only display here the important errors (all in logs)\n",
    "        # if color in ('red',):\n",
    "        display(data)"
   ]
  },
  {
   "cell_type": "markdown",
   "id": "472d20ee",
   "metadata": {
    "papermill": {
     "duration": 0.004057,
     "end_time": "2024-09-27T04:13:37.453419",
     "exception": false,
     "start_time": "2024-09-27T04:13:37.449362",
     "status": "completed"
    },
    "tags": []
   },
   "source": [
    "## Export documents\n",
    "\n",
    "We now write the .md files and export relevant images"
   ]
  },
  {
   "cell_type": "code",
   "execution_count": 7,
   "id": "d426aed9",
   "metadata": {
    "execution": {
     "iopub.execute_input": "2024-09-27T04:13:37.462797Z",
     "iopub.status.busy": "2024-09-27T04:13:37.462584Z",
     "iopub.status.idle": "2024-09-27T04:13:37.469617Z",
     "shell.execute_reply": "2024-09-27T04:13:37.469035Z"
    },
    "papermill": {
     "duration": 0.012881,
     "end_time": "2024-09-27T04:13:37.470587",
     "exception": false,
     "start_time": "2024-09-27T04:13:37.457706",
     "status": "completed"
    },
    "tags": []
   },
   "outputs": [],
   "source": [
    "def export_markdown_summary(md: str, md_fname:str, directory: str):\n",
    "    \"\"\"Export MD document and associated relevant images\"\"\"\n",
    "    import os\n",
    "    import shutil\n",
    "    import re\n",
    "\n",
    "    if (os.path.exists(directory) and not os.path.isdir(directory)):\n",
    "        raise RuntimeError(f\"a non-directory file exists with name {directory:s}\")\n",
    "\n",
    "    if (not os.path.exists(directory)):\n",
    "        print(f\"creating directory {directory:s}\")\n",
    "        os.mkdir(directory)\n",
    "\n",
    "    fig_fnames = (re.compile(r'\\[Fig.*\\]\\((.*)\\)').findall(md) + \n",
    "                  re.compile(r'\\<img src=\"([^>\\s]*)\"[^>]*/>').findall(md))\n",
    "    print(\"found figures\", fig_fnames)\n",
    "    for fname in fig_fnames:\n",
    "        if 'http' in fname:\n",
    "            # No need to copy online figures\n",
    "            continue\n",
    "        if not os.path.exists(fname):\n",
    "            print(\"file not found\", fname)\n",
    "            continue\n",
    "        print(\"copying \", fname, \"to\", directory)\n",
    "        destdir = os.path.join(directory, os.path.dirname(fname))\n",
    "        destfname = os.path.join(destdir, os.path.basename(fname))\n",
    "        try:\n",
    "            os.makedirs(destdir)\n",
    "        except FileExistsError:\n",
    "            pass\n",
    "        shutil.copy(fname, destfname)\n",
    "    with open(os.path.join(directory, md_fname), 'w') as fout:\n",
    "        fout.write(md)\n",
    "    print(\"exported in \", os.path.join(directory, md_fname))\n",
    "    [print(\"    + \" + os.path.join(directory,fk)) for fk in fig_fnames]"
   ]
  },
  {
   "cell_type": "code",
   "execution_count": 8,
   "id": "014d04a4",
   "metadata": {
    "execution": {
     "iopub.execute_input": "2024-09-27T04:13:37.479694Z",
     "iopub.status.busy": "2024-09-27T04:13:37.479498Z",
     "iopub.status.idle": "2024-09-27T04:13:37.490133Z",
     "shell.execute_reply": "2024-09-27T04:13:37.489582Z"
    },
    "papermill": {
     "duration": 0.016428,
     "end_time": "2024-09-27T04:13:37.491191",
     "exception": false,
     "start_time": "2024-09-27T04:13:37.474763",
     "status": "completed"
    },
    "tags": []
   },
   "outputs": [
    {
     "name": "stdout",
     "output_type": "stream",
     "text": [
      "found figures ['tmp_2409.17220/./Lupus_100micron.png', 'tmp_2409.17220/./normMdisc_sep.png', 'tmp_2409.17220/./spatial_corr_CDF_Md.png']\n",
      "copying  tmp_2409.17220/./Lupus_100micron.png to _build/html/\n",
      "copying  tmp_2409.17220/./normMdisc_sep.png to _build/html/\n",
      "copying  tmp_2409.17220/./spatial_corr_CDF_Md.png to _build/html/\n",
      "exported in  _build/html/2409.17220.md\n",
      "    + _build/html/tmp_2409.17220/./Lupus_100micron.png\n",
      "    + _build/html/tmp_2409.17220/./normMdisc_sep.png\n",
      "    + _build/html/tmp_2409.17220/./spatial_corr_CDF_Md.png\n",
      "found figures ['tmp_2409.18129/./gls_to_HARPS.png', 'tmp_2409.18129/./toi5005.png', 'tmp_2409.18129/./dens_porb.png', 'tmp_2409.18129/./nep_des_TOI-5005.png']\n",
      "copying  tmp_2409.18129/./gls_to_HARPS.png to _build/html/\n",
      "copying  tmp_2409.18129/./toi5005.png to _build/html/\n",
      "copying  tmp_2409.18129/./dens_porb.png to _build/html/\n",
      "copying  tmp_2409.18129/./nep_des_TOI-5005.png to _build/html/\n",
      "exported in  _build/html/2409.18129.md\n",
      "    + _build/html/tmp_2409.18129/./gls_to_HARPS.png\n",
      "    + _build/html/tmp_2409.18129/./toi5005.png\n",
      "    + _build/html/tmp_2409.18129/./dens_porb.png\n",
      "    + _build/html/tmp_2409.18129/./nep_des_TOI-5005.png\n"
     ]
    }
   ],
   "source": [
    "for paper_id, md in documents:\n",
    "    export_markdown_summary(md, f\"{paper_id:s}.md\", '_build/html/')"
   ]
  },
  {
   "cell_type": "markdown",
   "id": "f087a0a7",
   "metadata": {
    "papermill": {
     "duration": 0.004305,
     "end_time": "2024-09-27T04:13:37.499852",
     "exception": false,
     "start_time": "2024-09-27T04:13:37.495547",
     "status": "completed"
    },
    "tags": []
   },
   "source": [
    "## Display the papers\n",
    "\n",
    "Not necessary but allows for a quick check."
   ]
  },
  {
   "cell_type": "code",
   "execution_count": 9,
   "id": "fd25f625",
   "metadata": {
    "execution": {
     "iopub.execute_input": "2024-09-27T04:13:37.509484Z",
     "iopub.status.busy": "2024-09-27T04:13:37.509042Z",
     "iopub.status.idle": "2024-09-27T04:13:37.515171Z",
     "shell.execute_reply": "2024-09-27T04:13:37.514634Z"
    },
    "papermill": {
     "duration": 0.012106,
     "end_time": "2024-09-27T04:13:37.516224",
     "exception": false,
     "start_time": "2024-09-27T04:13:37.504118",
     "status": "completed"
    },
    "scrolled": false,
    "tags": []
   },
   "outputs": [
    {
     "data": {
      "text/markdown": [
       "<div class=\"macros\" style=\"visibility:hidden;\">\n",
       "$\\newcommand{\\ensuremath}{}$\n",
       "$\\newcommand{\\xspace}{}$\n",
       "$\\newcommand{\\object}[1]{\\texttt{#1}}$\n",
       "$\\newcommand{\\farcs}{{.}''}$\n",
       "$\\newcommand{\\farcm}{{.}'}$\n",
       "$\\newcommand{\\arcsec}{''}$\n",
       "$\\newcommand{\\arcmin}{'}$\n",
       "$\\newcommand{\\ion}[2]{#1#2}$\n",
       "$\\newcommand{\\textsc}[1]{\\textrm{#1}}$\n",
       "$\\newcommand{\\hl}[1]{\\textrm{#1}}$\n",
       "$\\newcommand{\\footnote}[1]{}$</div>\n",
       "\n",
       "\n",
       "\n",
       "<div id=\"title\">\n",
       "\n",
       "# Spatially correlated stellar accretion in the Lupus star-forming region: Evidence for ongoing infall from the interstellar medium?\n",
       "\n",
       "</div>\n",
       "<div id=\"comments\">\n",
       "\n",
       "[![arXiv](https://img.shields.io/badge/arXiv-2409.17220-b31b1b.svg)](https://arxiv.org/abs/2409.17220)<mark>Appeared on: 2024-09-27</mark> -  _10 pages, 6 figures, accepted for publication in A&A Letters_\n",
       "\n",
       "</div>\n",
       "<div id=\"authors\">\n",
       "\n",
       "A. J. Winter, <mark>M. Benisty</mark>, C. Manara, A. Gupta\n",
       "\n",
       "</div>\n",
       "<div id=\"abstract\">\n",
       "\n",
       "**Abstract:** Growing evidence suggests that protoplanetary discs may be influenced by late stage infall from the interstellar medium (ISM). It remains unclear the degree to which infall shapes disc populations at ages $\\gtrsim 1$ Myr. We explored possible spatial correlations between stellar accretion rates in the Lupus star-forming region, which would support the hypothesis that infall can regulate stellar accretion. We considered both the `clustered' stars towards the center of Lupus 3, and the `distributed' stars that are more sparsely distributed across the Lupus complex. We took the observed accretion rates in the literature and explore spatial correlations. In particular, we tested whether the clustered stars exhibit a radial gradient in normalised accretion rates, and whether the distributed stars have spatially correlated accretion rates. We found statistically significant correlations for both the clustered and distributed samples. The clustered sample exhibits higher accretion rates in the central region, consistent with the expected Bondi-Hoyle-Lyttleton accretion rate. Stars that are spatially closer among the distributed population also exhibit more similar accretion rates. These results cannot be explained by the stellar mass distribution for either sample. ${Age gradients are disfavoured, though not discounted,}$ because normalised disc dust masses are not spatially correlated across the region. Spatially correlated stellar accretion rates within the Lupus star-forming region argue in favour of an environmental influence on stellar accretion, possibly combined with internal processes in the inner disc. ${Refined age measurements and}$ searches for evidence of infalling material is a potential way to further test this finding.\n",
       "\n",
       "</div>\n",
       "\n",
       "<div id=\"div_fig1\">\n",
       "\n",
       "<img src=\"tmp_2409.17220/./Lupus_100micron.png\" alt=\"Fig5\" width=\"100%\"/>\n",
       "\n",
       "**Figure 5. -** {Distribution of candidate Lupus members with _Gaia_ kinematics as identified by [ and Luhman (2020)](), which we show as hollow shapes (fuchsia circles the `on cloud' sample that coincide with Lupus 1-4, and red squares are the `off cloud' sample). The locations of stars with discs included in the PP7 catalogue of [Manara, Ansdell and Rosotti (2023)]() but without measurements of stellar mass, accretion rate or disc dust mass are shown as lime triangles. Those stars which have stellar masses, dust masses and accretion rates recorded by [Manara, Ansdell and Rosotti (2023)]() are shown as filled coloured circles (or downward triangles for upper limits in accretion rate) that represent the normalised accretion rate according to the colour bar. The greyscale overlay is the IRIS $100$ $\\mu$m map of the region  ([ and Lagache 2005]()) . We mark with cyan stars and labels the locations of systems which exhibit some evidence of interaction with the ISM or high levels of outer disc turbulence, discussed in Section \\ref{sec:individ_syst}. We also show a zoom-in on a region centered on Lupus 3, which we define as the `clustered' region (inside the solid red ellipse). Within this circle, we show the `on cloud' sample with fuchsia circles and inner points to make the sample clear in the crowded central region.} (*fig:lupus*)\n",
       "\n",
       "</div>\n",
       "<div id=\"div_fig2\">\n",
       "\n",
       "<img src=\"tmp_2409.17220/./normMdisc_sep.png\" alt=\"Fig2\" width=\"100%\"/>\n",
       "\n",
       "**Figure 2. -** As in Figure \\ref{subfig:mdacc_sep}, but for normalised disc dust masses rather than accretion rates. (*fig:mdiscsep*)\n",
       "\n",
       "</div>\n",
       "<div id=\"div_fig3\">\n",
       "\n",
       "<img src=\"tmp_2409.17220/./spatial_corr_CDF_Md.png\" alt=\"Fig3\" width=\"100%\"/>\n",
       "\n",
       "**Figure 3. -** As in Figure \\ref{subfig:corr_CDF}, but for normalised disc dust masses rather than accretion rates. (*fig:corr_CDF_Md*)\n",
       "\n",
       "</div><div id=\"qrcode\"><img src=https://api.qrserver.com/v1/create-qr-code/?size=100x100&data=\"https://arxiv.org/abs/2409.17220\"></div>"
      ],
      "text/plain": [
       "<IPython.core.display.Markdown object>"
      ]
     },
     "metadata": {},
     "output_type": "display_data"
    },
    {
     "data": {
      "text/markdown": [
       "<div class=\"macros\" style=\"visibility:hidden;\">\n",
       "$\\newcommand{\\ensuremath}{}$\n",
       "$\\newcommand{\\xspace}{}$\n",
       "$\\newcommand{\\object}[1]{\\texttt{#1}}$\n",
       "$\\newcommand{\\farcs}{{.}''}$\n",
       "$\\newcommand{\\farcm}{{.}'}$\n",
       "$\\newcommand{\\arcsec}{''}$\n",
       "$\\newcommand{\\arcmin}{'}$\n",
       "$\\newcommand{\\ion}[2]{#1#2}$\n",
       "$\\newcommand{\\textsc}[1]{\\textrm{#1}}$\n",
       "$\\newcommand{\\hl}[1]{\\textrm{#1}}$\n",
       "$\\newcommand{\\footnote}[1]{}$\n",
       "$\\newcommand{\\maketitle}{\\begingroup\\let\\footnote=\\thanks \\ACMmaketitle\\endgroup}$\n",
       "$\\newcommand{\\arraystretch}{1.4}$\n",
       "$\\newcommand{\\arraystretch}{1.3}$\n",
       "$\\newcommand{\\arraystretch}{1.3}$\n",
       "$\\newcommand{\\arraystretch}{1.4}$\n",
       "$\\newcommand{\\arraystretch}{1.35}$\n",
       "$\\newcommand{\\arraystretch}{1.23}$\n",
       "$\\newcommand{\\arraystretch}{1.23}$\n",
       "$\\newcommand{\\arraystretch}{1.23}$\n",
       "$\\newcommand{\\arraystretch}{1.3}$\n",
       "$\\newcommand{\\arraystretch}{1.14}$</div>\n",
       "\n",
       "\n",
       "\n",
       "<div id=\"title\">\n",
       "\n",
       "# TOI-5005 b: A super-Neptune in the savanna near the ridge\n",
       "\n",
       "</div>\n",
       "<div id=\"comments\">\n",
       "\n",
       "[![arXiv](https://img.shields.io/badge/arXiv-2409.18129-b31b1b.svg)](https://arxiv.org/abs/2409.18129)<mark>Appeared on: 2024-09-27</mark> -  _Accepted for publication in A&A. Abstract shortened. 35 pages, 26 figures_\n",
       "\n",
       "</div>\n",
       "<div id=\"authors\">\n",
       "\n",
       "A. Castro-González, et al. -- incl., <mark>L. Acuña</mark>\n",
       "\n",
       "</div>\n",
       "<div id=\"abstract\">\n",
       "\n",
       "**Abstract:** The Neptunian desert and savanna have been recently found to be separated by a ridge, an overdensity of planets in the $\\simeq$ 3-5 days period range. These features are thought to be shaped by dynamical and atmospheric processes. However, their relative roles are not yet well understood. We intend to confirm and characterise the super-Neptune TESS candidate TOI-5005.01, which orbits a moderately bright (V = 11.8) solar-type star (G2 V) with an orbital period of 6.3 days. With such properties, TOI-5005.01 is located in the Neptunian savanna near the ridge. We used Bayesian inference to analyze 38 HARPS radial velocity measurements, three sectors of TESS photometry, and two PEST and TRAPPIST-South transits. We tested a set of models involving eccentric and circular orbits, long-term drifts, and Gaussian processes to account for correlated stellar and instrumental noise. We computed the Bayesian evidences to find the model that best represents our data set and infer the orbital and physical properties of the system. We confirm TOI-5005 b to be a transiting super-Neptune with a radius of $R_{\\rm p}$ = $6.25\\pm 0.24$  $\\rm R_{\\rm \\oplus}$ ( $R_{\\rm p}$ = $0.558\\pm 0.021$ $\\rm R_{\\rm J}$ ) and a mass of $M_{\\rm p}$ = $32.7\\pm 5.9$ $\\rm M_{\\oplus}$ ( $M_{\\rm p}$ = $0.103\\pm 0.018$ $\\rm M_{\\rm J}$ ), which corresponds to a mean density of $\\rho_{\\rm p}$ = $0.74 \\pm 0.16$ $\\rm g   cm^{-3}$ .  Our internal structure modelling indicates that the core mass fraction (CMF = $0.74^{+0.05}_{-0.45}$ ) and envelope metal mass fraction ( $Z_{\\rm env}$ = $0.08^{+0.41}_{-0.06}$ ) of TOI-5005 b are degenerate, but the overall metal mass fraction is well constrained to a value slightly lower than that of Neptune and Uranus ( $Z_{\\rm planet}$ = $0.76^{+0.04}_{-0.11}$ ). The $Z_{\\rm planet}$ / $Z_{\\rm star}$ ratio is consistent with the well-known mass-metallicity relation, which suggests that TOI-5005 b was formed via core accretion. We also estimated the present-day atmospheric mass-loss rate of TOI-5005 b but found contrasting predictions depending on the choice of photoevaporation model ( $0.013\\pm 0.008$  $\\rm M_{\\oplus}$ Gyr $^{-1}$ versus $0.17\\pm 0.12$  $\\rm M_{\\oplus}$ Gyr $^{-1}$ ). At a population level, we find statistical evidence ( $p$ -value = $0.0092^{+0.0184}_{-0.0066}$ ) that planets in the savanna such as TOI-5005 b tend to show lower densities than planets in the ridge, with a dividing line around 1 $\\rm g   cm^{-3}$ , which supports the hypothesis of different evolutionary pathways populating both regimes. TOI-5005 b is located in a key region of the period-radius space to study the transition between the Neptunian ridge and the savanna. It orbits the brightest star of all such planets known today, which makes it a target of interest for atmospheric and orbital architecture observations that will bring a clearer picture of its overall evolution.\n",
       "\n",
       "</div>\n",
       "\n",
       "<div id=\"div_fig1\">\n",
       "\n",
       "<img src=\"tmp_2409.18129/./gls_to_HARPS.png\" alt=\"Fig8\" width=\"100%\"/>\n",
       "\n",
       "**Figure 8. -** Left panels: time series of the HARPS RVs, activity indicators, and the window function. The magenta dashed lines represent the linear trends fit to the data. Centre panels: GLS periodograms of the original time series and de-trended time series. The green dotted vertical lines indicate the location of the orbital period of TOI-5005.01 ($P_{\\rm orb}$ = 6.3 days). The magenta dotted vertical lines indicate the $\\simeq$21 days activity-related signal that most likely reflects the stellar rotation period. The horizontal dotted lines correspond to the 10 (orange), 1 (blue), and 0.1$\\%$(green) FAP levels. Right panels: HARPS data folded to the maximum power periods; that is, 6.3 days (RVs), 21.3 days (FWHM), 20.8 days (S-index), 21.0 days (Contrast), 20.5 days (Ca), 6.2 days ($\\rm H_{\\alpha}$), and 129.8 days (window function). The RV panel shows the de-trended data and the indicators panels show the original time series.  (*fig:gls_to_HARPS*)\n",
       "\n",
       "</div>\n",
       "<div id=\"div_fig2\">\n",
       "\n",
       "<img src=\"tmp_2409.18129/./toi5005.png\" alt=\"Fig15.1\" width=\"50%\"/><img src=\"tmp_2409.18129/./dens_porb.png\" alt=\"Fig15.2\" width=\"50%\"/>\n",
       "\n",
       "**Figure 15. -** Left: Mass-radius diagram of all known Neptunian planets with masses and radii with precisions better than 20$\\%$. Right: Density-period diagram of the same sample. The data were collected from the NASA Exoplanet Archive on 20 September 2024. This plot was generated with \\texttt{mr-plotter}\\citep[\\url{https://github.com/castro-gzlz/mr-plotter};][]{2023A&A...675A..52C}.  (*fig:mass-radius-density-period*)\n",
       "\n",
       "</div>\n",
       "<div id=\"div_fig3\">\n",
       "\n",
       "<img src=\"tmp_2409.18129/./nep_des_TOI-5005.png\" alt=\"Fig4\" width=\"100%\"/>\n",
       "\n",
       "**Figure 4. -** Contextualization of TOI-5005 b in the period-radius diagram of close-in exoplanets, where we highlight the population-based boundaries of the Neptunian desert, ridge, and savanna derived in \\citet{2024A&A...689A.250C}. The data were collected from the NASA Exoplanet Archive \\citep{2013PASP..125..989A} on 20 September 2024. This plot has been generated with \\texttt{nep-des}(\\url{https://github.com/castro-gzlz/nep-des}). (*fig:nep_desert*)\n",
       "\n",
       "</div><div id=\"qrcode\"><img src=https://api.qrserver.com/v1/create-qr-code/?size=100x100&data=\"https://arxiv.org/abs/2409.18129\"></div>"
      ],
      "text/plain": [
       "<IPython.core.display.Markdown object>"
      ]
     },
     "metadata": {},
     "output_type": "display_data"
    }
   ],
   "source": [
    "[display(Markdown(k[1])) for k in documents];"
   ]
  },
  {
   "cell_type": "markdown",
   "id": "873873a4",
   "metadata": {
    "papermill": {
     "duration": 0.004549,
     "end_time": "2024-09-27T04:13:37.525541",
     "exception": false,
     "start_time": "2024-09-27T04:13:37.520992",
     "status": "completed"
    },
    "tags": []
   },
   "source": [
    "# Create HTML index"
   ]
  },
  {
   "cell_type": "code",
   "execution_count": 10,
   "id": "cf665672",
   "metadata": {
    "execution": {
     "iopub.execute_input": "2024-09-27T04:13:37.535811Z",
     "iopub.status.busy": "2024-09-27T04:13:37.535458Z",
     "iopub.status.idle": "2024-09-27T04:13:37.543378Z",
     "shell.execute_reply": "2024-09-27T04:13:37.542723Z"
    },
    "papermill": {
     "duration": 0.014198,
     "end_time": "2024-09-27T04:13:37.544371",
     "exception": false,
     "start_time": "2024-09-27T04:13:37.530173",
     "status": "completed"
    },
    "tags": []
   },
   "outputs": [
    {
     "name": "stdout",
     "output_type": "stream",
     "text": [
      "199  publications files modified in the last 7 days.\n"
     ]
    }
   ],
   "source": [
    "from datetime import datetime, timedelta, timezone\n",
    "from glob import glob\n",
    "import os\n",
    "\n",
    "files = glob('_build/html/*.md')\n",
    "days = 7\n",
    "now = datetime.today()\n",
    "res = []\n",
    "for fk in files:\n",
    "    stat_result = os.stat(fk).st_ctime\n",
    "    modified = datetime.fromtimestamp(stat_result, tz=timezone.utc).replace(tzinfo=None)\n",
    "    delta = now.today() - modified\n",
    "    if delta <= timedelta(days=days):\n",
    "        res.append((delta.seconds, fk))\n",
    "res = [k[1] for k in reversed(sorted(res, key=lambda x:x[1]))]\n",
    "npub = len(res)\n",
    "print(len(res), f\" publications files modified in the last {days:d} days.\")\n",
    "# [ print('\\t', k) for k in res ];"
   ]
  },
  {
   "cell_type": "code",
   "execution_count": 11,
   "id": "015de740",
   "metadata": {
    "execution": {
     "iopub.execute_input": "2024-09-27T04:13:37.554828Z",
     "iopub.status.busy": "2024-09-27T04:13:37.554455Z",
     "iopub.status.idle": "2024-09-27T04:13:37.568486Z",
     "shell.execute_reply": "2024-09-27T04:13:37.567821Z"
    },
    "papermill": {
     "duration": 0.020489,
     "end_time": "2024-09-27T04:13:37.569602",
     "exception": false,
     "start_time": "2024-09-27T04:13:37.549113",
     "status": "completed"
    },
    "tags": []
   },
   "outputs": [
    {
     "name": "stdout",
     "output_type": "stream",
     "text": [
      "14  publications in the last 7 days.\n"
     ]
    }
   ],
   "source": [
    "import datetime\n",
    "from glob import glob\n",
    "\n",
    "def get_last_n_days(lst, days=1):\n",
    "    \"\"\" Get the documents from the last n days \"\"\"\n",
    "    sorted_lst = sorted(lst, key=lambda x: x[1], reverse=True)\n",
    "    for fname, date in sorted_lst:\n",
    "        if date >= str(datetime.date.today() - datetime.timedelta(days=days)):\n",
    "            yield fname\n",
    "\n",
    "def extract_appearance_dates(lst_file):\n",
    "    dates = []\n",
    "\n",
    "    def get_date(line):\n",
    "        return line\\\n",
    "            .split('Appeared on:')[-1]\\\n",
    "            .split('</mark>')[0].strip()\n",
    "\n",
    "    for fname in lst:\n",
    "        with open(fname, 'r') as f:\n",
    "            found_date = False\n",
    "            for line in f:\n",
    "                if not found_date:\n",
    "                    if \"Appeared on\" in line:\n",
    "                        found_date = True\n",
    "                        dates.append((fname, get_date(line)))\n",
    "                else:\n",
    "                    break\n",
    "    return dates\n",
    "\n",
    "from glob import glob\n",
    "lst = glob('_build/html/*md')\n",
    "days = 7\n",
    "dates = extract_appearance_dates(lst)\n",
    "res = list(get_last_n_days(dates, days))\n",
    "npub = len(res)\n",
    "print(len(res), f\" publications in the last {days:d} days.\")"
   ]
  },
  {
   "cell_type": "code",
   "execution_count": 12,
   "id": "52ca0208",
   "metadata": {
    "execution": {
     "iopub.execute_input": "2024-09-27T04:13:37.580196Z",
     "iopub.status.busy": "2024-09-27T04:13:37.579853Z",
     "iopub.status.idle": "2024-09-27T04:13:37.584755Z",
     "shell.execute_reply": "2024-09-27T04:13:37.584204Z"
    },
    "papermill": {
     "duration": 0.01128,
     "end_time": "2024-09-27T04:13:37.585711",
     "exception": false,
     "start_time": "2024-09-27T04:13:37.574431",
     "status": "completed"
    },
    "scrolled": false,
    "tags": []
   },
   "outputs": [],
   "source": [
    "def create_carousel(npub=4):\n",
    "    \"\"\" Generate the HTML code for a carousel with `npub` slides \"\"\"\n",
    "    carousel = [\"\"\"  <div class=\"carousel\" \"\"\",\n",
    "                \"\"\"       data-flickity='{ \"autoPlay\": 10000, \"adaptiveHeight\": true, \"resize\": true, \"wrapAround\": true, \"pauseAutoPlayOnHover\": true, \"groupCells\": 1 }' id=\"asyncTypeset\">\"\"\"\n",
    "                ]\n",
    "    \n",
    "    item_str = \"\"\"    <div class=\"carousel-cell\"> <div id=\"slide{k}\" class=\"md_view\">Content {k}</div> </div>\"\"\"\n",
    "    for k in range(1, npub + 1):\n",
    "        carousel.append(item_str.format(k=k))\n",
    "    carousel.append(\"  </div>\")\n",
    "    return '\\n'.join(carousel)\n",
    "\n",
    "def create_grid(npub=4):\n",
    "    \"\"\" Generate the HTML code for a flat grid with `npub` slides \"\"\"\n",
    "    grid = [\"\"\"  <div class=\"grid\"> \"\"\",\n",
    "                ]\n",
    "    \n",
    "    item_str = \"\"\"    <div class=\"grid-item\"> <div id=\"slide{k}\" class=\"md_view\">Content {k}</div> </div>\"\"\"\n",
    "    for k in range(1, npub + 1):\n",
    "        grid.append(item_str.format(k=k))\n",
    "    grid.append(\"  </div>\")\n",
    "    return '\\n'.join(grid)"
   ]
  },
  {
   "cell_type": "code",
   "execution_count": 13,
   "id": "a6eac5b6",
   "metadata": {
    "execution": {
     "iopub.execute_input": "2024-09-27T04:13:37.596305Z",
     "iopub.status.busy": "2024-09-27T04:13:37.595790Z",
     "iopub.status.idle": "2024-09-27T04:13:37.600791Z",
     "shell.execute_reply": "2024-09-27T04:13:37.600247Z"
    },
    "papermill": {
     "duration": 0.011291,
     "end_time": "2024-09-27T04:13:37.601749",
     "exception": false,
     "start_time": "2024-09-27T04:13:37.590458",
     "status": "completed"
    },
    "scrolled": false,
    "tags": []
   },
   "outputs": [],
   "source": [
    "carousel = create_carousel(npub)\n",
    "docs = ', '.join(['\"{0:s}\"'.format(k.split('/')[-1]) for k in res])\n",
    "slides = ', '.join([f'\"slide{k}\"' for k in range(1, npub + 1)])\n",
    "\n",
    "with open(\"daily_template.html\", \"r\") as tpl:\n",
    "    page = tpl.read()\n",
    "    page = page.replace(\"{%-- carousel:s --%}\", carousel)\\\n",
    "               .replace(\"{%-- suptitle:s --%}\",  \"7-day archives\" )\\\n",
    "               .replace(\"{%-- docs:s --%}\", docs)\\\n",
    "               .replace(\"{%-- slides:s --%}\", slides)\n",
    "    \n",
    "with open(\"_build/html/index_7days.html\", 'w') as fout:\n",
    "    fout.write(page)"
   ]
  },
  {
   "cell_type": "code",
   "execution_count": 14,
   "id": "adc1a1ec",
   "metadata": {
    "execution": {
     "iopub.execute_input": "2024-09-27T04:13:37.612270Z",
     "iopub.status.busy": "2024-09-27T04:13:37.611878Z",
     "iopub.status.idle": "2024-09-27T04:13:37.618191Z",
     "shell.execute_reply": "2024-09-27T04:13:37.617666Z"
    },
    "papermill": {
     "duration": 0.012657,
     "end_time": "2024-09-27T04:13:37.619207",
     "exception": false,
     "start_time": "2024-09-27T04:13:37.606550",
     "status": "completed"
    },
    "tags": []
   },
   "outputs": [
    {
     "name": "stdout",
     "output_type": "stream",
     "text": [
      "5  publications in the last day.\n"
     ]
    }
   ],
   "source": [
    "# redo for today\n",
    "days = 1\n",
    "res = list(get_last_n_days(dates, days))\n",
    "npub = len(res)\n",
    "print(len(res), f\" publications in the last day.\")\n",
    "\n",
    "carousel = create_carousel(npub)\n",
    "docs = ', '.join(['\"{0:s}\"'.format(k.split('/')[-1]) for k in res])\n",
    "slides = ', '.join([f'\"slide{k}\"' for k in range(1, npub + 1)])\n",
    "\n",
    "with open(\"daily_template.html\", \"r\") as tpl:\n",
    "    page = tpl.read()\n",
    "    page = page.replace(\"{%-- carousel:s --%}\", carousel)\\\n",
    "               .replace(\"{%-- suptitle:s --%}\",  \"Daily\" )\\\n",
    "               .replace(\"{%-- docs:s --%}\", docs)\\\n",
    "               .replace(\"{%-- slides:s --%}\", slides)\n",
    "    \n",
    "# print(carousel, docs, slides)\n",
    "# print(page)\n",
    "with open(\"_build/html/index_daily.html\", 'w') as fout:\n",
    "    fout.write(page)"
   ]
  },
  {
   "cell_type": "code",
   "execution_count": 15,
   "id": "00eece82",
   "metadata": {
    "execution": {
     "iopub.execute_input": "2024-09-27T04:13:37.630344Z",
     "iopub.status.busy": "2024-09-27T04:13:37.630076Z",
     "iopub.status.idle": "2024-09-27T04:13:37.636670Z",
     "shell.execute_reply": "2024-09-27T04:13:37.636106Z"
    },
    "papermill": {
     "duration": 0.013213,
     "end_time": "2024-09-27T04:13:37.637691",
     "exception": false,
     "start_time": "2024-09-27T04:13:37.624478",
     "status": "completed"
    },
    "scrolled": false,
    "tags": []
   },
   "outputs": [
    {
     "name": "stdout",
     "output_type": "stream",
     "text": [
      "6  6 publications selected.\n"
     ]
    }
   ],
   "source": [
    "# Create the flat grid of the last N papers (fixed number regardless of dates)\n",
    "from itertools import islice \n",
    "\n",
    "npub = 6\n",
    "res = [k[0] for k in (islice(reversed(sorted(dates, key=lambda x: x[1])), 6))]\n",
    "print(len(res), f\" {npub} publications selected.\")\n",
    "\n",
    "grid = create_grid(npub)\n",
    "docs = ', '.join(['\"{0:s}\"'.format(k.split('/')[-1]) for k in res])\n",
    "slides = ', '.join([f'\"slide{k}\"' for k in range(1, npub + 1)])\n",
    "\n",
    "with open(\"grid_template.html\", \"r\") as tpl:\n",
    "    page = tpl.read()\n",
    "    page = page.replace(\"{%-- grid-content:s --%}\", grid)\\\n",
    "               .replace(\"{%-- suptitle:s --%}\",  f\"Last {npub:,d} papers\" )\\\n",
    "               .replace(\"{%-- docs:s --%}\", docs)\\\n",
    "               .replace(\"{%-- slides:s --%}\", slides)\n",
    "    \n",
    "# print(grid, docs, slides)\n",
    "# print(page)\n",
    "with open(\"_build/html/index_npub_grid.html\", 'w') as fout:\n",
    "    fout.write(page)"
   ]
  }
 ],
 "metadata": {
  "kernelspec": {
   "display_name": "Python 3 (ipykernel)",
   "language": "python",
   "name": "python3"
  },
  "language_info": {
   "codemirror_mode": {
    "name": "ipython",
    "version": 3
   },
   "file_extension": ".py",
   "mimetype": "text/x-python",
   "name": "python",
   "nbconvert_exporter": "python",
   "pygments_lexer": "ipython3",
   "version": "3.9.20"
  },
  "papermill": {
   "default_parameters": {},
   "duration": 181.160604,
   "end_time": "2024-09-27T04:13:37.858621",
   "environment_variables": {},
   "exception": null,
   "input_path": "MPIA daily digest.ipynb",
   "output_path": "log.ipynb",
   "parameters": {},
   "start_time": "2024-09-27T04:10:36.698017",
   "version": "2.6.0"
  },
  "vscode": {
   "interpreter": {
    "hash": "aee8b7b246df8f9039afb4144a1f6fd8d2ca17a180786b69acc140d282b71a49"
   }
  },
  "widgets": {
   "application/vnd.jupyter.widget-state+json": {
    "state": {
     "040e00528b724375ac5eb08b4647384e": {
      "model_module": "@jupyter-widgets/controls",
      "model_module_version": "2.0.0",
      "model_name": "HTMLStyleModel",
      "state": {
       "_model_module": "@jupyter-widgets/controls",
       "_model_module_version": "2.0.0",
       "_model_name": "HTMLStyleModel",
       "_view_count": null,
       "_view_module": "@jupyter-widgets/base",
       "_view_module_version": "2.0.0",
       "_view_name": "StyleView",
       "background": null,
       "description_width": "",
       "font_size": null,
       "text_color": null
      }
     },
     "122013ef723b4db9a570c4dd9b75c9f9": {
      "model_module": "@jupyter-widgets/controls",
      "model_module_version": "2.0.0",
      "model_name": "ProgressStyleModel",
      "state": {
       "_model_module": "@jupyter-widgets/controls",
       "_model_module_version": "2.0.0",
       "_model_name": "ProgressStyleModel",
       "_view_count": null,
       "_view_module": "@jupyter-widgets/base",
       "_view_module_version": "2.0.0",
       "_view_name": "StyleView",
       "bar_color": null,
       "description_width": ""
      }
     },
     "1511730ced1c46feab85b65cc33c81ee": {
      "model_module": "@jupyter-widgets/base",
      "model_module_version": "2.0.0",
      "model_name": "LayoutModel",
      "state": {
       "_model_module": "@jupyter-widgets/base",
       "_model_module_version": "2.0.0",
       "_model_name": "LayoutModel",
       "_view_count": null,
       "_view_module": "@jupyter-widgets/base",
       "_view_module_version": "2.0.0",
       "_view_name": "LayoutView",
       "align_content": null,
       "align_items": null,
       "align_self": null,
       "border_bottom": null,
       "border_left": null,
       "border_right": null,
       "border_top": null,
       "bottom": null,
       "display": null,
       "flex": null,
       "flex_flow": null,
       "grid_area": null,
       "grid_auto_columns": null,
       "grid_auto_flow": null,
       "grid_auto_rows": null,
       "grid_column": null,
       "grid_gap": null,
       "grid_row": null,
       "grid_template_areas": null,
       "grid_template_columns": null,
       "grid_template_rows": null,
       "height": null,
       "justify_content": null,
       "justify_items": null,
       "left": null,
       "margin": null,
       "max_height": null,
       "max_width": null,
       "min_height": null,
       "min_width": null,
       "object_fit": null,
       "object_position": null,
       "order": null,
       "overflow": null,
       "padding": null,
       "right": null,
       "top": null,
       "visibility": null,
       "width": null
      }
     },
     "2789e8549144420891a811a1b59264db": {
      "model_module": "@jupyter-widgets/base",
      "model_module_version": "2.0.0",
      "model_name": "LayoutModel",
      "state": {
       "_model_module": "@jupyter-widgets/base",
       "_model_module_version": "2.0.0",
       "_model_name": "LayoutModel",
       "_view_count": null,
       "_view_module": "@jupyter-widgets/base",
       "_view_module_version": "2.0.0",
       "_view_name": "LayoutView",
       "align_content": null,
       "align_items": null,
       "align_self": null,
       "border_bottom": null,
       "border_left": null,
       "border_right": null,
       "border_top": null,
       "bottom": null,
       "display": null,
       "flex": null,
       "flex_flow": null,
       "grid_area": null,
       "grid_auto_columns": null,
       "grid_auto_flow": null,
       "grid_auto_rows": null,
       "grid_column": null,
       "grid_gap": null,
       "grid_row": null,
       "grid_template_areas": null,
       "grid_template_columns": null,
       "grid_template_rows": null,
       "height": null,
       "justify_content": null,
       "justify_items": null,
       "left": null,
       "margin": null,
       "max_height": null,
       "max_width": null,
       "min_height": null,
       "min_width": null,
       "object_fit": null,
       "object_position": null,
       "order": null,
       "overflow": null,
       "padding": null,
       "right": null,
       "top": null,
       "visibility": null,
       "width": null
      }
     },
     "370c8c7d77a84123b56f5cf154a19310": {
      "model_module": "@jupyter-widgets/controls",
      "model_module_version": "2.0.0",
      "model_name": "FloatProgressModel",
      "state": {
       "_dom_classes": [],
       "_model_module": "@jupyter-widgets/controls",
       "_model_module_version": "2.0.0",
       "_model_name": "FloatProgressModel",
       "_view_count": null,
       "_view_module": "@jupyter-widgets/controls",
       "_view_module_version": "2.0.0",
       "_view_name": "ProgressView",
       "bar_style": "success",
       "description": "",
       "description_allow_html": false,
       "layout": "IPY_MODEL_1511730ced1c46feab85b65cc33c81ee",
       "max": 2.0,
       "min": 0.0,
       "orientation": "horizontal",
       "style": "IPY_MODEL_122013ef723b4db9a570c4dd9b75c9f9",
       "tabbable": null,
       "tooltip": null,
       "value": 2.0
      }
     },
     "37aec5d19098417f9f63c2b8285b4a42": {
      "model_module": "@jupyter-widgets/controls",
      "model_module_version": "2.0.0",
      "model_name": "HTMLModel",
      "state": {
       "_dom_classes": [],
       "_model_module": "@jupyter-widgets/controls",
       "_model_module_version": "2.0.0",
       "_model_name": "HTMLModel",
       "_view_count": null,
       "_view_module": "@jupyter-widgets/controls",
       "_view_module_version": "2.0.0",
       "_view_name": "HTMLView",
       "description": "",
       "description_allow_html": false,
       "layout": "IPY_MODEL_2789e8549144420891a811a1b59264db",
       "placeholder": "​",
       "style": "IPY_MODEL_7f0b41340e804e6880ae1890f731149d",
       "tabbable": null,
       "tooltip": null,
       "value": " 2/2 [02:41&lt;00:00, 91.86s/it]"
      }
     },
     "435f6a5f07554fc096af7a3e0d1f5512": {
      "model_module": "@jupyter-widgets/base",
      "model_module_version": "2.0.0",
      "model_name": "LayoutModel",
      "state": {
       "_model_module": "@jupyter-widgets/base",
       "_model_module_version": "2.0.0",
       "_model_name": "LayoutModel",
       "_view_count": null,
       "_view_module": "@jupyter-widgets/base",
       "_view_module_version": "2.0.0",
       "_view_name": "LayoutView",
       "align_content": null,
       "align_items": null,
       "align_self": null,
       "border_bottom": null,
       "border_left": null,
       "border_right": null,
       "border_top": null,
       "bottom": null,
       "display": null,
       "flex": null,
       "flex_flow": null,
       "grid_area": null,
       "grid_auto_columns": null,
       "grid_auto_flow": null,
       "grid_auto_rows": null,
       "grid_column": null,
       "grid_gap": null,
       "grid_row": null,
       "grid_template_areas": null,
       "grid_template_columns": null,
       "grid_template_rows": null,
       "height": null,
       "justify_content": null,
       "justify_items": null,
       "left": null,
       "margin": null,
       "max_height": null,
       "max_width": null,
       "min_height": null,
       "min_width": null,
       "object_fit": null,
       "object_position": null,
       "order": null,
       "overflow": null,
       "padding": null,
       "right": null,
       "top": null,
       "visibility": null,
       "width": null
      }
     },
     "7404283a5c69480a99de5f8b5173ca32": {
      "model_module": "@jupyter-widgets/controls",
      "model_module_version": "2.0.0",
      "model_name": "HTMLModel",
      "state": {
       "_dom_classes": [],
       "_model_module": "@jupyter-widgets/controls",
       "_model_module_version": "2.0.0",
       "_model_name": "HTMLModel",
       "_view_count": null,
       "_view_module": "@jupyter-widgets/controls",
       "_view_module_version": "2.0.0",
       "_view_name": "HTMLView",
       "description": "",
       "description_allow_html": false,
       "layout": "IPY_MODEL_435f6a5f07554fc096af7a3e0d1f5512",
       "placeholder": "​",
       "style": "IPY_MODEL_040e00528b724375ac5eb08b4647384e",
       "tabbable": null,
       "tooltip": null,
       "value": "100%"
      }
     },
     "7f0b41340e804e6880ae1890f731149d": {
      "model_module": "@jupyter-widgets/controls",
      "model_module_version": "2.0.0",
      "model_name": "HTMLStyleModel",
      "state": {
       "_model_module": "@jupyter-widgets/controls",
       "_model_module_version": "2.0.0",
       "_model_name": "HTMLStyleModel",
       "_view_count": null,
       "_view_module": "@jupyter-widgets/base",
       "_view_module_version": "2.0.0",
       "_view_name": "StyleView",
       "background": null,
       "description_width": "",
       "font_size": null,
       "text_color": null
      }
     },
     "9cbad11ad5be407d8a0e81eac2cae48d": {
      "model_module": "@jupyter-widgets/base",
      "model_module_version": "2.0.0",
      "model_name": "LayoutModel",
      "state": {
       "_model_module": "@jupyter-widgets/base",
       "_model_module_version": "2.0.0",
       "_model_name": "LayoutModel",
       "_view_count": null,
       "_view_module": "@jupyter-widgets/base",
       "_view_module_version": "2.0.0",
       "_view_name": "LayoutView",
       "align_content": null,
       "align_items": null,
       "align_self": null,
       "border_bottom": null,
       "border_left": null,
       "border_right": null,
       "border_top": null,
       "bottom": null,
       "display": null,
       "flex": null,
       "flex_flow": null,
       "grid_area": null,
       "grid_auto_columns": null,
       "grid_auto_flow": null,
       "grid_auto_rows": null,
       "grid_column": null,
       "grid_gap": null,
       "grid_row": null,
       "grid_template_areas": null,
       "grid_template_columns": null,
       "grid_template_rows": null,
       "height": null,
       "justify_content": null,
       "justify_items": null,
       "left": null,
       "margin": null,
       "max_height": null,
       "max_width": null,
       "min_height": null,
       "min_width": null,
       "object_fit": null,
       "object_position": null,
       "order": null,
       "overflow": null,
       "padding": null,
       "right": null,
       "top": null,
       "visibility": null,
       "width": null
      }
     },
     "bf235fa8ece74767bf91d6e54b77978a": {
      "model_module": "@jupyter-widgets/controls",
      "model_module_version": "2.0.0",
      "model_name": "HBoxModel",
      "state": {
       "_dom_classes": [],
       "_model_module": "@jupyter-widgets/controls",
       "_model_module_version": "2.0.0",
       "_model_name": "HBoxModel",
       "_view_count": null,
       "_view_module": "@jupyter-widgets/controls",
       "_view_module_version": "2.0.0",
       "_view_name": "HBoxView",
       "box_style": "",
       "children": [
        "IPY_MODEL_7404283a5c69480a99de5f8b5173ca32",
        "IPY_MODEL_370c8c7d77a84123b56f5cf154a19310",
        "IPY_MODEL_37aec5d19098417f9f63c2b8285b4a42"
       ],
       "layout": "IPY_MODEL_9cbad11ad5be407d8a0e81eac2cae48d",
       "tabbable": null,
       "tooltip": null
      }
     }
    },
    "version_major": 2,
    "version_minor": 0
   }
  }
 },
 "nbformat": 4,
 "nbformat_minor": 5
}