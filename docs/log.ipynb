{
 "cells": [
  {
   "cell_type": "markdown",
   "id": "92bcb855",
   "metadata": {
    "papermill": {
     "duration": 0.004034,
     "end_time": "2024-10-04T04:10:16.433484",
     "exception": false,
     "start_time": "2024-10-04T04:10:16.429450",
     "status": "completed"
    },
    "tags": []
   },
   "source": [
    "# MPIA Arxiv on Deck 2\n",
    "\n",
    "Contains the steps to produce the paper extractions."
   ]
  },
  {
   "cell_type": "code",
   "execution_count": 1,
   "id": "3a0d6e11",
   "metadata": {
    "execution": {
     "iopub.execute_input": "2024-10-04T04:10:16.441049Z",
     "iopub.status.busy": "2024-10-04T04:10:16.440780Z",
     "iopub.status.idle": "2024-10-04T04:10:16.993827Z",
     "shell.execute_reply": "2024-10-04T04:10:16.993013Z"
    },
    "papermill": {
     "duration": 0.558647,
     "end_time": "2024-10-04T04:10:16.995438",
     "exception": false,
     "start_time": "2024-10-04T04:10:16.436791",
     "status": "completed"
    },
    "tags": []
   },
   "outputs": [],
   "source": [
    "# Imports\n",
    "import os\n",
    "from IPython.display import Markdown, display\n",
    "from tqdm.notebook import tqdm\n",
    "import warnings\n",
    "from PIL import Image \n",
    "import re\n",
    "\n",
    "# requires arxiv_on_deck_2\n",
    "\n",
    "from arxiv_on_deck_2.arxiv2 import (get_new_papers, \n",
    "                                    get_paper_from_identifier,\n",
    "                                    retrieve_document_source, \n",
    "                                    get_markdown_badge)\n",
    "from arxiv_on_deck_2 import (latex,\n",
    "                             latex_bib,\n",
    "                             mpia,\n",
    "                             highlight_authors_in_list)\n",
    "\n",
    "# Sometimes images are really big\n",
    "Image.MAX_IMAGE_PIXELS = 1000000000 "
   ]
  },
  {
   "cell_type": "code",
   "execution_count": 2,
   "id": "22aa9d44",
   "metadata": {
    "execution": {
     "iopub.execute_input": "2024-10-04T04:10:17.003205Z",
     "iopub.status.busy": "2024-10-04T04:10:17.002710Z",
     "iopub.status.idle": "2024-10-04T04:10:17.010935Z",
     "shell.execute_reply": "2024-10-04T04:10:17.010349Z"
    },
    "papermill": {
     "duration": 0.013081,
     "end_time": "2024-10-04T04:10:17.011941",
     "exception": false,
     "start_time": "2024-10-04T04:10:16.998860",
     "status": "completed"
    },
    "tags": []
   },
   "outputs": [],
   "source": [
    "# Some useful definitions.\n",
    "\n",
    "class AffiliationWarning(UserWarning):\n",
    "    pass\n",
    "\n",
    "class AffiliationError(RuntimeError):\n",
    "    pass\n",
    "\n",
    "def validation(source: str):\n",
    "    \"\"\"Raises error paper during parsing of source file\n",
    "    \n",
    "    Allows checks before parsing TeX code.\n",
    "    \n",
    "    Raises AffiliationWarning\n",
    "    \"\"\"\n",
    "    check = mpia.affiliation_verifications(source, verbose=True)\n",
    "    if check is not True:\n",
    "        raise AffiliationError(\"mpia.affiliation_verifications: \" + check)\n",
    "\n",
    "        \n",
    "warnings.simplefilter('always', AffiliationWarning)\n",
    "\n",
    "\n",
    "def get_markdown_qrcode(paper_id: str):\n",
    "    \"\"\" Generate a qrcode to the arxiv page using qrserver.com\n",
    "    \n",
    "    :param paper: Arxiv paper\n",
    "    :returns: markdown text\n",
    "    \"\"\"\n",
    "    url = r\"https://api.qrserver.com/v1/create-qr-code/?size=100x100&data=\"\n",
    "    txt = f\"\"\"<img src={url}\"https://arxiv.org/abs/{paper_id}\">\"\"\"\n",
    "    txt = '<div id=\"qrcode\">' + txt + '</div>'\n",
    "    return txt\n",
    "\n",
    "\n",
    "def clean_non_western_encoded_characters_commands(text: str) -> str:\n",
    "    \"\"\" Remove non-western encoded characters from a string\n",
    "    List may need to grow.\n",
    "    \n",
    "    :param text: the text to clean\n",
    "    :return: the cleaned text\n",
    "    \"\"\"\n",
    "    text = re.sub(r\"(\\\\begin{CJK}{UTF8}{gbsn})(.*?)(\\\\end{CJK})\", r\"\\2\", text)\n",
    "    return text\n",
    "\n",
    "\n",
    "def get_initials(name: str) -> str:\n",
    "    \"\"\" Get the short name, e.g., A.-B. FamName\n",
    "    :param name: full name\n",
    "    :returns: initials\n",
    "    \"\"\"\n",
    "    initials = []\n",
    "    # account for non western names often in ()\n",
    "    if '(' in name:\n",
    "        name = clean_non_western_encoded_characters_commands(name)\n",
    "        suffix = re.findall(r\"\\((.*?)\\)\", name)[0]\n",
    "        name = name.replace(f\"({suffix})\", '')\n",
    "    else:\n",
    "        suffix = ''\n",
    "    split = name.split()\n",
    "    for token in split[:-1]:\n",
    "        if '-' in token:\n",
    "            current = '-'.join([k[0] + '.' for k in token.split('-')])\n",
    "        else:\n",
    "            current = token[0] + '.'\n",
    "        initials.append(current)\n",
    "    initials.append(split[-1].strip())\n",
    "    if suffix:\n",
    "        initials.append(f\"({suffix})\")\n",
    "    return ' '.join(initials)"
   ]
  },
  {
   "cell_type": "markdown",
   "id": "14bd6310",
   "metadata": {
    "papermill": {
     "duration": 0.003072,
     "end_time": "2024-10-04T04:10:17.018107",
     "exception": false,
     "start_time": "2024-10-04T04:10:17.015035",
     "status": "completed"
    },
    "tags": []
   },
   "source": [
    "## get list of arxiv paper candidates\n",
    "\n",
    "We use the MPIA mitarbeiter list webpage from mpia.de to get author names\n",
    "We then get all new papers from Arxiv and match authors"
   ]
  },
  {
   "cell_type": "code",
   "execution_count": 3,
   "id": "7ea813a8",
   "metadata": {
    "execution": {
     "iopub.execute_input": "2024-10-04T04:10:17.025017Z",
     "iopub.status.busy": "2024-10-04T04:10:17.024780Z",
     "iopub.status.idle": "2024-10-04T04:10:34.521894Z",
     "shell.execute_reply": "2024-10-04T04:10:34.521254Z"
    },
    "papermill": {
     "duration": 17.501965,
     "end_time": "2024-10-04T04:10:34.523097",
     "exception": false,
     "start_time": "2024-10-04T04:10:17.021132",
     "status": "completed"
    },
    "tags": []
   },
   "outputs": [],
   "source": [
    "# deal with the author list and edge cases of people that cannot be consistent on their name  \n",
    "\n",
    "def filter_non_scientists(name: str) -> bool:\n",
    "    \"\"\" Loose filter on expected authorships\n",
    "\n",
    "    removing IT, administration, technical staff\n",
    "    :param name: name\n",
    "    :returns: False if name is not a scientist\n",
    "    \"\"\"\n",
    "    remove_list = ['Licht', 'Binroth', 'Witzel', 'Jordan',\n",
    "                   'Zähringer', 'Scheerer', 'Hoffmann', 'Düe',\n",
    "                   'Hellmich', 'Enkler-Scharpegge', 'Witte-Nguy',\n",
    "                   'Dehen', 'Beckmann', 'Jager', 'Jäger'\n",
    "                  ]\n",
    "\n",
    "    for k in remove_list:\n",
    "        if k in name:\n",
    "            return False\n",
    "    return True\n",
    "\n",
    "def add_author_to_list(author_list: list) -> list:\n",
    "    \"\"\" Add author to list if not already in list\n",
    "    \n",
    "    :param author: author name\n",
    "    :param author_list: list of authors\n",
    "    :returns: updated list of authors\n",
    "    \"\"\"\n",
    "    add_list = ['T. Henning']\n",
    "\n",
    "    for author in add_list:\n",
    "        if author not in author_list:\n",
    "            author_list.append(author)\n",
    "    return author_list\n",
    "\n",
    "# get list from MPIA website\n",
    "# filter for non-scientists (mpia.get_mpia_mitarbeiter_list() does some filtering)\n",
    "mpia_authors = [k[1] for k in mpia.get_mpia_mitarbeiter_list() if filter_non_scientists(k[1])]\n",
    "# add some missing author because of inconsistencies in their MPIA name and author name on papers\n",
    "mpia_authors = add_author_to_list(mpia_authors)"
   ]
  },
  {
   "cell_type": "code",
   "execution_count": 4,
   "id": "2645e73a",
   "metadata": {
    "execution": {
     "iopub.execute_input": "2024-10-04T04:10:34.531124Z",
     "iopub.status.busy": "2024-10-04T04:10:34.530582Z",
     "iopub.status.idle": "2024-10-04T04:10:35.359117Z",
     "shell.execute_reply": "2024-10-04T04:10:35.358505Z"
    },
    "papermill": {
     "duration": 0.833575,
     "end_time": "2024-10-04T04:10:35.360171",
     "exception": false,
     "start_time": "2024-10-04T04:10:34.526596",
     "status": "completed"
    },
    "tags": []
   },
   "outputs": [
    {
     "name": "stdout",
     "output_type": "stream",
     "text": [
      "A. d. Graaff  ->  A. D. Graaff  |  ['A. D. Graaff']\n",
      "J. Li  ->  J. Li  |  ['J. Li']\n",
      "J. Li  ->  J. Li  |  ['J. Li']\n"
     ]
    },
    {
     "name": "stdout",
     "output_type": "stream",
     "text": [
      "J. Li  ->  J. Li  |  ['J. Li']\n",
      "Arxiv has 75 new papers today\n",
      "          4 with possible author matches\n"
     ]
    }
   ],
   "source": [
    "new_papers = get_new_papers()\n",
    "# add manual references\n",
    "add_paper_refs = []\n",
    "new_papers.extend([get_paper_from_identifier(k) for k in add_paper_refs])\n",
    "\n",
    "def robust_call(fn, value, *args, **kwargs):\n",
    "    try:\n",
    "        return fn(value, *args, **kwargs)\n",
    "    except Exception:\n",
    "        return value\n",
    "\n",
    "candidates = []\n",
    "for paperk in new_papers:\n",
    "    # Check author list with their initials\n",
    "    normed_author_list = [robust_call(mpia.get_initials, k) for k in paperk['authors']]\n",
    "    hl_authors = highlight_authors_in_list(normed_author_list, mpia_authors, verbose=True)\n",
    "    matches = [(hl, orig) for hl, orig in zip(hl_authors, paperk['authors']) if 'mark' in hl]\n",
    "    paperk['authors'] = hl_authors\n",
    "    if matches:\n",
    "        # only select paper if an author matched our list\n",
    "        candidates.append(paperk)\n",
    "print(\"\"\"Arxiv has {0:,d} new papers today\"\"\".format(len(new_papers)))        \n",
    "print(\"\"\"          {0:,d} with possible author matches\"\"\".format(len(candidates)))"
   ]
  },
  {
   "cell_type": "markdown",
   "id": "3543b34a",
   "metadata": {
    "papermill": {
     "duration": 0.003165,
     "end_time": "2024-10-04T04:10:35.366910",
     "exception": false,
     "start_time": "2024-10-04T04:10:35.363745",
     "status": "completed"
    },
    "tags": []
   },
   "source": [
    "# Parse sources and generate relevant outputs\n",
    "\n",
    "From the candidates, we do the following steps:\n",
    "* get their tarball from ArXiv (and extract data)\n",
    "* find the main .tex file: find one with \\documentclass{...} (sometimes it's non trivial)\n",
    "* Check affiliations with :func:`validation`, which uses :func:`mpia.affiliation_verifications`\n",
    "* If passing the affiliations: we parse the .tex source\n",
    "   * inject sub-documents into the main (flatten the main document)\n",
    "   * parse structure, extract information (title, abstract, authors, figures...)\n",
    "   * handles `\\graphicspath` if provided\n",
    "* Generate the .md document."
   ]
  },
  {
   "cell_type": "code",
   "execution_count": 5,
   "id": "9576b79e",
   "metadata": {
    "execution": {
     "iopub.execute_input": "2024-10-04T04:10:35.374439Z",
     "iopub.status.busy": "2024-10-04T04:10:35.373995Z",
     "iopub.status.idle": "2024-10-04T04:11:37.894214Z",
     "shell.execute_reply": "2024-10-04T04:11:37.893445Z"
    },
    "papermill": {
     "duration": 62.525218,
     "end_time": "2024-10-04T04:11:37.895344",
     "exception": false,
     "start_time": "2024-10-04T04:10:35.370126",
     "status": "completed"
    },
    "scrolled": false,
    "tags": []
   },
   "outputs": [
    {
     "data": {
      "application/vnd.jupyter.widget-view+json": {
       "model_id": "8621bc36066245aeb4a4a812a5ea24dd",
       "version_major": 2,
       "version_minor": 0
      },
      "text/plain": [
       "  0%|          | 0/4 [00:00<?, ?it/s]"
      ]
     },
     "metadata": {},
     "output_type": "display_data"
    },
    {
     "name": "stdout",
     "output_type": "stream",
     "text": [
      "Retrieving document from  https://arxiv.org/e-print/2410.01874\n"
     ]
    },
    {
     "name": "stdout",
     "output_type": "stream",
     "text": [
      "extracting tarball to tmp_2410.01874..."
     ]
    },
    {
     "name": "stdout",
     "output_type": "stream",
     "text": [
      " done.\n"
     ]
    },
    {
     "name": "stdout",
     "output_type": "stream",
     "text": [
      "Found 245 bibliographic references in tmp_2410.01874/main.bbl.\n",
      "Issues with the citations\n",
      "syntax error in line 1278: '=' expected\n",
      "Retrieving document from  https://arxiv.org/e-print/2410.01884\n"
     ]
    },
    {
     "name": "stdout",
     "output_type": "stream",
     "text": [
      "extracting tarball to tmp_2410.01884..."
     ]
    },
    {
     "name": "stdout",
     "output_type": "stream",
     "text": [
      " done.\n",
      "Retrieving document from  https://arxiv.org/e-print/2410.01886\n",
      "extracting tarball to tmp_2410.01886..."
     ]
    },
    {
     "name": "stdout",
     "output_type": "stream",
     "text": [
      " done.\n",
      "Retrieving document from  https://arxiv.org/e-print/2410.02731\n"
     ]
    },
    {
     "name": "stdout",
     "output_type": "stream",
     "text": [
      "extracting tarball to tmp_2410.02731..."
     ]
    },
    {
     "name": "stdout",
     "output_type": "stream",
     "text": [
      " done.\n"
     ]
    }
   ],
   "source": [
    "documents = []\n",
    "failed = []\n",
    "for paper in tqdm(candidates):\n",
    "    # debug crap\n",
    "    paper['identifier'] = paper['identifier'].lower().replace('arxiv:', '').replace(r'\\n', '').strip()\n",
    "    paper_id = paper['identifier']\n",
    "    \n",
    "    folder = f'tmp_{paper_id}'\n",
    "\n",
    "    try:\n",
    "        if not os.path.isdir(folder):\n",
    "            folder = retrieve_document_source(f\"{paper_id}\", f'tmp_{paper_id}')\n",
    "        \n",
    "        try:\n",
    "            doc = latex.LatexDocument(folder, validation=validation)    \n",
    "        except AffiliationError as affilerror:\n",
    "            msg = f\"ArXiv:{paper_id:s} is not an MPIA paper... \" + str(affilerror)\n",
    "            failed.append((paper, \"affiliation error: \" + str(affilerror) ))\n",
    "            continue\n",
    "        \n",
    "        # Hack because sometimes author parsing does not work well\n",
    "        if (len(doc.authors) != len(paper['authors'])):\n",
    "            doc._authors = paper['authors']\n",
    "        else:\n",
    "            # highlight authors (FIXME: doc.highlight_authors)\n",
    "            # done on arxiv paper already\n",
    "            doc._authors = highlight_authors_in_list(\n",
    "                [get_initials(k) for k in doc.authors], \n",
    "                mpia_authors, verbose=True)\n",
    "        if (doc.abstract) in (None, ''):\n",
    "            doc._abstract = paper['abstract']\n",
    "            \n",
    "        doc.comment = (get_markdown_badge(paper_id) + \n",
    "                       \"<mark>Appeared on: \" + paper['date'] + \"</mark> - \")\n",
    "        if paper['comments']:\n",
    "            doc.comment += \" _\" + paper['comments'] + \"_\"\n",
    "        \n",
    "        full_md = doc.generate_markdown_text()\n",
    "        \n",
    "        full_md += get_markdown_qrcode(paper_id)\n",
    "        \n",
    "        # replace citations\n",
    "        try:\n",
    "            bibdata = latex_bib.LatexBib.from_doc(doc)\n",
    "            full_md = latex_bib.replace_citations(full_md, bibdata)\n",
    "        except Exception as e:\n",
    "            print(\"Issues with the citations\")\n",
    "            print(e)\n",
    "        \n",
    "        documents.append((paper_id, full_md))\n",
    "    except Exception as e:\n",
    "        warnings.warn(latex.LatexWarning(f\"{paper_id:s} did not run properly\\n\" +\n",
    "                                         str(e)\n",
    "                                        ))\n",
    "        failed.append((paper, \"latex error \" + str(e)))"
   ]
  },
  {
   "cell_type": "markdown",
   "id": "2505a25c",
   "metadata": {
    "papermill": {
     "duration": 0.003661,
     "end_time": "2024-10-04T04:11:37.903172",
     "exception": false,
     "start_time": "2024-10-04T04:11:37.899511",
     "status": "completed"
    },
    "tags": []
   },
   "source": [
    "### Export the logs\n",
    "\n",
    "Throughout, we also keep track of the logs per paper. see `logs-{today date}.md` "
   ]
  },
  {
   "cell_type": "code",
   "execution_count": 6,
   "id": "d733828a",
   "metadata": {
    "execution": {
     "iopub.execute_input": "2024-10-04T04:11:37.911575Z",
     "iopub.status.busy": "2024-10-04T04:11:37.911343Z",
     "iopub.status.idle": "2024-10-04T04:11:37.927229Z",
     "shell.execute_reply": "2024-10-04T04:11:37.926744Z"
    },
    "papermill": {
     "duration": 0.021328,
     "end_time": "2024-10-04T04:11:37.928218",
     "exception": false,
     "start_time": "2024-10-04T04:11:37.906890",
     "status": "completed"
    },
    "scrolled": false,
    "tags": []
   },
   "outputs": [
    {
     "data": {
      "text/markdown": [
       "## Successful papers"
      ],
      "text/plain": [
       "<IPython.core.display.Markdown object>"
      ]
     },
     "metadata": {},
     "output_type": "display_data"
    },
    {
     "data": {
      "text/markdown": [
       "\n",
       "|||\n",
       "|---:|:---|\n",
       "| [![arXiv](https://img.shields.io/badge/arXiv-2410.01874-b31b1b.svg)](https://arxiv.org/abs/2410.01874) | **All the Little Things in Abell 2744: $>$1000 Gravitationally Lensed Dwarf Galaxies at $z=0-9$ from JWST NIRCam Grism Spectroscopy**  |\n",
       "|| R. P. Naidu, et al. -- incl., <mark>A. d. Graaff</mark> |\n",
       "|*Appeared on*| *2024-10-04*|\n",
       "|*Comments*| *Submitted to the Open Journal of Astrophysics. Figs. 6 and 10 illustrate the quality of the spectra and imaging, while Fig. 12 summarizes the yield of the survey. Comments warmly welcomed and greatly appreciated. The ALT DR1 catalog is available at this https URL*|\n",
       "|**Abstract**|            Dwarf galaxies hold the key to crucial frontiers of astrophysics, however, their faintness renders spectroscopy challenging. Here we present the JWST Cycle 2 survey, All the Little Things (ALT, PID 3516), which is designed to seek late-forming Pop III stars and the drivers of reionization at $z\\sim6-7$. ALT has acquired the deepest NIRCam grism spectroscopy yet (7-27 hr), at JWST's most sensitive wavelengths (3-4 $\\mu$m), covering the powerful lensing cluster Abell 2744. Over the same 30 arcmin$^2$, ALT's ultra-deep F070W+F090W imaging ($\\sim$30 mag) enables selection of very faint sources at $z>6$. We demonstrate the success of ALT's novel ``butterfly\" mosaic to solve spectral confusion and contamination, and introduce the ``Allegro\" method for emission line identification. By collecting spectra for every source in the field of view, ALT has measured precise ($R\\sim1600$) redshifts for 1630 sources at $z=0.2-8.5$. This includes one of the largest samples of distant dwarf galaxies: [1015, 475, 50] sources less massive than the SMC, Fornax, and Sculptor with $\\log(M_{*}/M_{\\odot})<$[8.5, 7.5, 6.5]. We showcase ALT's discovery space with: (i) spatially resolved spectra of lensed clumps in galaxies as faint as $M_{\\rm{UV}}\\sim-15$; (ii) large-scale clustering -- overdensities at $z$=[2.50, 2.58, 3.97, 4.30, 5.66, 5.77, 6.33] hosting massive galaxies with striking Balmer breaks; (iii) small-scale clustering -- a system of satellites around a Milky Way analog at $z\\sim6$; (iv) spectroscopically confirmed multiple images that help constrain the lensing model underlying all science in this legacy field; (v) sensitive star-formation maps based on dust-insensitive tracers such as Pa$\\alpha$; (vi) direct spectroscopic discovery of rare sources such as AGN with ionized outflows. These results provide a powerful proof of concept for how grism surveys maximize the potential of strong lensing fields.         |"
      ],
      "text/plain": [
       "[2410.01874] All the Little Things in Abell 2744: $>$1000 Gravitationally Lensed Dwarf Galaxies at $z=0-9$ from JWST NIRCam Grism Spectroscopy\n",
       "\tR. P. Naidu, et al. -- incl., <mark>A. d. Graaff</mark>"
      ]
     },
     "metadata": {},
     "output_type": "display_data"
    },
    {
     "data": {
      "text/markdown": [
       "## Failed papers"
      ],
      "text/plain": [
       "<IPython.core.display.Markdown object>"
      ]
     },
     "metadata": {},
     "output_type": "display_data"
    },
    {
     "data": {
      "text/markdown": [
       "\n",
       "|||\n",
       "|---:|:---|\n",
       "| [![arXiv](https://img.shields.io/badge/arXiv-2410.01884-b31b1b.svg)](https://arxiv.org/abs/2410.01884) | **Merian: A Wide-Field Imaging Survey of Dwarf Galaxies at z~0.06-0.10**  |\n",
       "|| S. Danieli, et al. -- incl., <mark>J. Li</mark> |\n",
       "|*Appeared on*| *2024-10-04*|\n",
       "|*Comments*| *24 pages, 13 figures, 2 tables. Submitted to ApJ*|\n",
       "|**Abstract**|            We present the Merian Survey, an optical imaging survey optimized for studying the physical properties of bright star-forming dwarf galaxies. Merian is carried out with two medium-band filters ($N708$ and $N540$, centered at $708$ and $540$ nm), custom-built for the Dark Energy Camera (DECam) on the Blanco telescope. Merian covers $\\sim 750\\,\\mathrm{deg}^2$ of equatorial fields, overlapping with the Hyper Suprime-Cam Subaru Strategic Program (HSC-SSP) wide, deep, and ultra-deep fields. When combined with the HSC-SSP imaging data ($grizy$), the new Merian DECam medium-band imaging allows for photometric redshift measurements via the detection of H$\\rm\\alpha$ and [OIII] line emission flux excess in the $N708$ and $N540$ filters, respectively, at $0.06<z<0.10$. We present an overview of the survey design, observations taken to date, data reduction using the LSST Science Pipelines, including aperture-matched photometry for accurate galaxy colors, and a description of the data included in the first data release (DR1). The key science goals of Merian include: probing the dark matter halos of dwarf galaxies out to their virial radii using high signal-to-noise weak lensing profile measurements, decoupling the effects of baryonic processes from dark matter, and understanding the role of black holes in dwarf galaxy evolution. This rich dataset will also offer unique opportunities for studying extremely metal-poor galaxies via their strong [OIII] emission and H$\\rm\\alpha$ lines, as well as [OIII] emitters at $z\\sim 0.4$, and Ly$\\rm\\alpha$ emitters at $z\\sim 3.3$ and $z\\sim 4.8$. Merian showcases the power of utilizing narrow and medium-band filters alongside broad-band filters for sky imaging, demonstrating their synergistic capacity to unveil astrophysical insights across diverse astrophysical phenomena.         |\n",
       "|<p style=\"color:green\"> **ERROR** </p>| <p style=\"color:green\">affiliation error: mpia.affiliation_verifications: 'Heidelberg' keyword not found.</p> |"
      ],
      "text/plain": [
       "<IPython.core.display.Markdown object>"
      ]
     },
     "metadata": {},
     "output_type": "display_data"
    },
    {
     "data": {
      "text/markdown": [
       "\n",
       "|||\n",
       "|---:|:---|\n",
       "| [![arXiv](https://img.shields.io/badge/arXiv-2410.01886-b31b1b.svg)](https://arxiv.org/abs/2410.01886) | **A Nonparametric Morphological Analysis of H$\\alpha$ Emission in Bright Dwarfs Using the Merian Survey**  |\n",
       "|| A. Mintz, et al. -- incl., <mark>J. Li</mark> |\n",
       "|*Appeared on*| *2024-10-04*|\n",
       "|*Comments*| *33 pages, 15 figures, 2 tables. Accepted to ApJ*|\n",
       "|**Abstract**|            Using medium-band imaging from the newly released Merian Survey, we conduct a nonparametric morphological analysis of H$\\alpha$ emission maps and stellar continua for a sample of galaxies with $8\\lesssim\\log (M_\\star/M_\\odot) < 10.3$ at $0.064<z<0.1$. We present a novel method for estimating the stellar continuum emission through the Merian Survey's N708 medium-band filter, which we use to measure H$\\alpha$ emission and produce H$\\alpha$ maps for our sample of galaxies with seven-band Merian photometry and available spectroscopy. We measure nonparametric morphological statistics for the H$\\alpha$ and stellar continuum images, explore how the morphology of the H$\\alpha$ differs from the continuum, and investigate how the parameters evolve with the galaxies' physical properties. In agreement with previous results for more massive galaxies, we find that the asymmetry of the stellar continuum increases with specific star formation rate (SSFR) and we extend the trend to lower masses, also showing that it holds for the asymmetry of the H$\\alpha$ emission. We find that the lowest-mass galaxies with the highest SSFR have H$\\alpha$ emission that is consistently heterogeneous and compact, while the less active galaxies in this mass range have H$\\alpha$ emission that appears diffuse. At higher masses, our data do not span a sufficient range in SSFR to evaluate whether similar trends apply. We conclude that high SSFRs in low-mass galaxies likely result from dynamical instabilities that compress a galaxy's molecular gas to a dense region near the center.         |\n",
       "|<p style=\"color:green\"> **ERROR** </p>| <p style=\"color:green\">affiliation error: mpia.affiliation_verifications: 'Heidelberg' keyword not found.</p> |"
      ],
      "text/plain": [
       "<IPython.core.display.Markdown object>"
      ]
     },
     "metadata": {},
     "output_type": "display_data"
    },
    {
     "data": {
      "text/markdown": [
       "\n",
       "|||\n",
       "|---:|:---|\n",
       "| [![arXiv](https://img.shields.io/badge/arXiv-2410.02731-b31b1b.svg)](https://arxiv.org/abs/2410.02731) | **Extinction of Taurus, Orion, Perseus and California Molecular Clouds Based on the LAMOST, 2MASS, and Gaia Surveys II: The Extinction Law**  |\n",
       "|| Z. Cao, B. Jiang, S. Wang, <mark>J. Li</mark> |\n",
       "|*Appeared on*| *2024-10-04*|\n",
       "|*Comments*| *9 pages, 10 figures, Accepted by The Astronomical Journal*|\n",
       "|**Abstract**|            The extinction law from ultraviolet (UV) to infrared (IR) (0.2-24 $\\mu$m) is determined by relying on the blue-edge method and color excess ratios for some nearby molecular clouds, from low mass star forming region to massive star forming region. The observational data are collected from nine photometric surveys, along with stellar parameters from the APOGEE and LAMOST spectroscopic surveys. Within the uncertainties, the optical ratio of selective to total extinction ($R_{G_{BP}}$) does not vary substantially across the clouds, irrespective of the density, specifically $R_{G_{BP}} =2.302\\pm0.027$, where $R_{G_{BP}} \\equiv A_{G_{BP}}/E_{G_{BP},G_{RP}}$. The IR extinction law is consistent with \\citet{Wang19_law}. The extinction law in the UV band is compromised by the shallow depth with $A_{V} \\leq 2$ mag and is hard to describe by one parameter $R$. In addition, the extinction in the WISE/W1 band is significantly larger than in the Spitzer/IRAC1 band in the dense regions, which is attributed to the ice water absorption.         |\n",
       "|<p style=\"color:green\"> **ERROR** </p>| <p style=\"color:green\">affiliation error: mpia.affiliation_verifications: 'Heidelberg' keyword not found.</p> |"
      ],
      "text/plain": [
       "<IPython.core.display.Markdown object>"
      ]
     },
     "metadata": {},
     "output_type": "display_data"
    }
   ],
   "source": [
    "import datetime\n",
    "today = str(datetime.date.today())\n",
    "logfile = f\"_build/html/logs/log-{today}.md\"\n",
    "\n",
    "\n",
    "with open(logfile, 'w') as logs:\n",
    "    # Success\n",
    "    logs.write(f'# Arxiv on Deck 2: Logs - {today}\\n\\n')\n",
    "    logs.write(\"\"\"* Arxiv had {0:,d} new papers\\n\"\"\".format(len(new_papers)))\n",
    "    logs.write(\"\"\"    * {0:,d} with possible author matches\\n\\n\"\"\".format(len(candidates)))\n",
    "    logs.write(\"## Sucessful papers\\n\\n\")\n",
    "    display(Markdown(\"## Successful papers\"))\n",
    "    success = [k[0] for k in documents]\n",
    "    for candid in candidates:\n",
    "        if candid['identifier'].split(':')[-1] in success:\n",
    "            display(candid)\n",
    "            logs.write(candid.generate_markdown_text() + '\\n\\n')\n",
    "\n",
    "    ## failed\n",
    "    logs.write(\"## Failed papers\\n\\n\")\n",
    "    display(Markdown(\"## Failed papers\"))\n",
    "    failed = sorted(failed, key=lambda x: x[1])\n",
    "    current_reason = \"\"\n",
    "    for paper, reason in failed:\n",
    "        if 'affiliation' in reason:\n",
    "            color = 'green'\n",
    "        else:\n",
    "            color = 'red'\n",
    "        data = Markdown(\n",
    "                paper.generate_markdown_text() + \n",
    "                f'\\n|<p style=\"color:{color:s}\"> **ERROR** </p>| <p style=\"color:{color:s}\">{reason:s}</p> |'\n",
    "               )\n",
    "        if reason != current_reason:\n",
    "            logs.write(f'### {reason:s} \\n\\n')\n",
    "            current_reason = reason\n",
    "        logs.write(data.data + '\\n\\n')\n",
    "        \n",
    "        # only display here the important errors (all in logs)\n",
    "        # if color in ('red',):\n",
    "        display(data)"
   ]
  },
  {
   "cell_type": "markdown",
   "id": "472d20ee",
   "metadata": {
    "papermill": {
     "duration": 0.004237,
     "end_time": "2024-10-04T04:11:37.936838",
     "exception": false,
     "start_time": "2024-10-04T04:11:37.932601",
     "status": "completed"
    },
    "tags": []
   },
   "source": [
    "## Export documents\n",
    "\n",
    "We now write the .md files and export relevant images"
   ]
  },
  {
   "cell_type": "code",
   "execution_count": 7,
   "id": "d426aed9",
   "metadata": {
    "execution": {
     "iopub.execute_input": "2024-10-04T04:11:37.946511Z",
     "iopub.status.busy": "2024-10-04T04:11:37.946128Z",
     "iopub.status.idle": "2024-10-04T04:11:37.953070Z",
     "shell.execute_reply": "2024-10-04T04:11:37.952411Z"
    },
    "papermill": {
     "duration": 0.012888,
     "end_time": "2024-10-04T04:11:37.954122",
     "exception": false,
     "start_time": "2024-10-04T04:11:37.941234",
     "status": "completed"
    },
    "tags": []
   },
   "outputs": [],
   "source": [
    "def export_markdown_summary(md: str, md_fname:str, directory: str):\n",
    "    \"\"\"Export MD document and associated relevant images\"\"\"\n",
    "    import os\n",
    "    import shutil\n",
    "    import re\n",
    "\n",
    "    if (os.path.exists(directory) and not os.path.isdir(directory)):\n",
    "        raise RuntimeError(f\"a non-directory file exists with name {directory:s}\")\n",
    "\n",
    "    if (not os.path.exists(directory)):\n",
    "        print(f\"creating directory {directory:s}\")\n",
    "        os.mkdir(directory)\n",
    "\n",
    "    fig_fnames = (re.compile(r'\\[Fig.*\\]\\((.*)\\)').findall(md) + \n",
    "                  re.compile(r'\\<img src=\"([^>\\s]*)\"[^>]*/>').findall(md))\n",
    "    print(\"found figures\", fig_fnames)\n",
    "    for fname in fig_fnames:\n",
    "        if 'http' in fname:\n",
    "            # No need to copy online figures\n",
    "            continue\n",
    "        if not os.path.exists(fname):\n",
    "            print(\"file not found\", fname)\n",
    "            continue\n",
    "        print(\"copying \", fname, \"to\", directory)\n",
    "        destdir = os.path.join(directory, os.path.dirname(fname))\n",
    "        destfname = os.path.join(destdir, os.path.basename(fname))\n",
    "        try:\n",
    "            os.makedirs(destdir)\n",
    "        except FileExistsError:\n",
    "            pass\n",
    "        shutil.copy(fname, destfname)\n",
    "    with open(os.path.join(directory, md_fname), 'w') as fout:\n",
    "        fout.write(md)\n",
    "    print(\"exported in \", os.path.join(directory, md_fname))\n",
    "    [print(\"    + \" + os.path.join(directory,fk)) for fk in fig_fnames]"
   ]
  },
  {
   "cell_type": "code",
   "execution_count": 8,
   "id": "014d04a4",
   "metadata": {
    "execution": {
     "iopub.execute_input": "2024-10-04T04:11:37.963907Z",
     "iopub.status.busy": "2024-10-04T04:11:37.963477Z",
     "iopub.status.idle": "2024-10-04T04:11:37.976699Z",
     "shell.execute_reply": "2024-10-04T04:11:37.976122Z"
    },
    "papermill": {
     "duration": 0.019165,
     "end_time": "2024-10-04T04:11:37.977715",
     "exception": false,
     "start_time": "2024-10-04T04:11:37.958550",
     "status": "completed"
    },
    "tags": []
   },
   "outputs": [
    {
     "name": "stdout",
     "output_type": "stream",
     "text": [
      "found figures ['tmp_2410.01874/./figs/ALT_roll_example.png', 'tmp_2410.01874/./figs/ALT_field_coverage.png', 'tmp_2410.01874/./figs/redshift_distribution.png']\n",
      "copying  tmp_2410.01874/./figs/ALT_roll_example.png to _build/html/\n",
      "copying  tmp_2410.01874/./figs/ALT_field_coverage.png to _build/html/\n",
      "copying  tmp_2410.01874/./figs/redshift_distribution.png to _build/html/\n",
      "exported in  _build/html/2410.01874.md\n",
      "    + _build/html/tmp_2410.01874/./figs/ALT_roll_example.png\n",
      "    + _build/html/tmp_2410.01874/./figs/ALT_field_coverage.png\n",
      "    + _build/html/tmp_2410.01874/./figs/redshift_distribution.png\n"
     ]
    }
   ],
   "source": [
    "for paper_id, md in documents:\n",
    "    export_markdown_summary(md, f\"{paper_id:s}.md\", '_build/html/')"
   ]
  },
  {
   "cell_type": "markdown",
   "id": "f087a0a7",
   "metadata": {
    "papermill": {
     "duration": 0.004479,
     "end_time": "2024-10-04T04:11:37.986659",
     "exception": false,
     "start_time": "2024-10-04T04:11:37.982180",
     "status": "completed"
    },
    "tags": []
   },
   "source": [
    "## Display the papers\n",
    "\n",
    "Not necessary but allows for a quick check."
   ]
  },
  {
   "cell_type": "code",
   "execution_count": 9,
   "id": "fd25f625",
   "metadata": {
    "execution": {
     "iopub.execute_input": "2024-10-04T04:11:37.996504Z",
     "iopub.status.busy": "2024-10-04T04:11:37.996089Z",
     "iopub.status.idle": "2024-10-04T04:11:38.000633Z",
     "shell.execute_reply": "2024-10-04T04:11:37.999982Z"
    },
    "papermill": {
     "duration": 0.010654,
     "end_time": "2024-10-04T04:11:38.001704",
     "exception": false,
     "start_time": "2024-10-04T04:11:37.991050",
     "status": "completed"
    },
    "scrolled": false,
    "tags": []
   },
   "outputs": [
    {
     "data": {
      "text/markdown": [
       "<div class=\"macros\" style=\"visibility:hidden;\">\n",
       "$\\newcommand{\\ensuremath}{}$\n",
       "$\\newcommand{\\xspace}{}$\n",
       "$\\newcommand{\\object}[1]{\\texttt{#1}}$\n",
       "$\\newcommand{\\farcs}{{.}''}$\n",
       "$\\newcommand{\\farcm}{{.}'}$\n",
       "$\\newcommand{\\arcsec}{''}$\n",
       "$\\newcommand{\\arcmin}{'}$\n",
       "$\\newcommand{\\ion}[2]{#1#2}$\n",
       "$\\newcommand{\\textsc}[1]{\\textrm{#1}}$\n",
       "$\\newcommand{\\hl}[1]{\\textrm{#1}}$\n",
       "$\\newcommand{\\footnote}[1]{}$\n",
       "$\\newcommand{\\xiion}{\\xi_{\\rm{ion}}}$\n",
       "$\\newcommand{\\halpha}{H\\ensuremath{\\alpha}}$\n",
       "$\\newcommand{\\hbeta}{H\\ensuremath{\\beta}}$\n",
       "$\\newcommand{\\mstar}{\\ensuremath{\\log(M_{\\rm{\\star}}/M_{\\rm{\\odot}})}}$\n",
       "$\\newcommand{\\orcidauthor}[3]{\\author{\\href{http://orcid.org/#1}{#2^{#3}}}}$</div>\n",
       "\n",
       "\n",
       "\n",
       "<div id=\"title\">\n",
       "\n",
       "# $\\vspace{-0.8cm}$All the Little Things in Abell 2744: $>1000$ Gravitationally Lensed Dwarf Galaxies at $\\MakeLowercase{z}=0-9$ from JWST NIRCam Grism Spectroscopy$\\vspace{-1.6cm}$\n",
       "\n",
       "</div>\n",
       "<div id=\"comments\">\n",
       "\n",
       "[![arXiv](https://img.shields.io/badge/arXiv-2410.01874-b31b1b.svg)](https://arxiv.org/abs/2410.01874)<mark>Appeared on: 2024-10-04</mark> -  _Submitted to the Open Journal of Astrophysics. Figs. 6 and 10 illustrate the quality of the spectra and imaging, while Fig. 12 summarizes the yield of the survey. Comments warmly welcomed and greatly appreciated. The ALT DR1 catalog is available at this https URL_\n",
       "\n",
       "</div>\n",
       "<div id=\"authors\">\n",
       "\n",
       "R. P. Naidu, et al. -- incl., <mark>A. d. Graaff</mark>\n",
       "\n",
       "</div>\n",
       "<div id=\"abstract\">\n",
       "\n",
       "**Abstract:** Dwarf galaxies hold the key to crucial frontiers of astrophysics, however, their faintness renders spectroscopy challenging. Here we present the JWST Cycle 2 survey, All the Little Things (ALT, PID 3516), which is designed to seek late-forming Pop III stars and the drivers of reionization at $z\\sim6$ - $7$ . ALT has acquired the deepest NIRCam grism spectroscopy yet (7-27 hr), at JWST's most sensitive wavelengths (3-4 $\\mu$ m), covering the powerful lensing cluster Abell 2744. Over the same 30 arcmin $^{2}$ , ALT's ultra-deep F070W+F090W imaging ( $\\sim30$ mag, 5 $\\sigma$ ) enables selection of very faint sources at $z>6$ . We demonstrate the success of ALT's novel \"butterfly\" mosaic to solve spectral confusion and contamination, and introduce the \"Allegro\" method for emission line identification. By collecting spectra for every source in the field of view, ALT has measured precise ( $\\mathcal{R}\\sim1600$ ) redshifts for 1630 sources at $z=0.2$ - $8.5$ . This includes one of the largest samples of distant dwarf galaxies: [ 1015, 475, 50 ] sources less massive than the SMC, Fornax, and Sculptor with $\\log(M_{*}/M_{\\rm{\\odot}})<$ [ 8.5, 7.5, 6.5 ] . We showcase ALT's discovery space with: (i) spatially resolved spectra of lensed clumps in galaxies as faint as $M_{\\rm{UV}}\\sim-15$ ; (ii) large-scale clustering -- overdensities at $z$ = [ 2.50, 2.58, 3.97, 4.30, 5.66, 5.77, 6.33 ] hosting massive galaxies with striking Balmer breaks; (iii) small-scale clustering -- a system of satellites around a Milky Way analog at $z\\sim6$ ; (iv) spectroscopically confirmed multiple images that help constrain the lensing model underlying all science in this legacy field; (v) sensitive star-formation maps based on dust-insensitive tracers such as Pa $\\alpha$ ; (vi) direct spectroscopic discovery of rare sources such as AGN with ionized outflows. These results provide a powerful proof of concept for how grism surveys maximize the potential of strong lensing fields.\n",
       "\n",
       "</div>\n",
       "\n",
       "<div id=\"div_fig1\">\n",
       "\n",
       "<img src=\"tmp_2410.01874/./figs/ALT_roll_example.png\" alt=\"Fig4\" width=\"100%\"/>\n",
       "\n",
       "**Figure 4. -** **Illustration of how the mosaic design facilitates the analysis of the grism data**. **Left**: ALT field of view in the two rolls (solid and dashed black line) on top of the same background F356W image as in Figure $\\ref{fig:RADEC}$. Blue circles show the galaxies for which the ALT data measured a spectroscopic redshift. The three shaded regions highlight the stripes observed twice (either twice with module A, or once with each module, or twice with module B, from left to right respectively). We highlight the positions of four example objects with red squares. **Right:** NIRCam false colour stamps (based on F115W/F200W/F356W imaging) and 2D grism emission-line spectra for the four objects highlighted in the left panel. The grism spectra span $\\approx15$ nm in the observed frame. For objects 1 and 4, we show 2D spectra separated by Roll 1 vs. Roll 2, while for objects 2 and 3 we separate Module A vs. Module B. These spectra illustrate how observations of the same source across different rolls and modules helps in disentangling contamination and confusion. (*fig:rolls*)\n",
       "\n",
       "</div>\n",
       "<div id=\"div_fig2\">\n",
       "\n",
       "<img src=\"tmp_2410.01874/./figs/ALT_field_coverage.png\" alt=\"Fig3\" width=\"100%\"/>\n",
       "\n",
       "**Figure 3. -** **The ** The ALT survey footprint around the Abell 2744 lensing cluster**.** Top: Maximum on sky field of view of the ALT NIRCam WFSS data (red lines; at the undeviated wavelength, $\\lambda=3.95 \\mu$m) illustrated on top of a background F356W image (combining ALT and UNCOVER data). The dashed purple line shows the minimum field of view at 3.15 $\\mu$m. Contours highlight the increasing magnification closer to the three main cores of the cluster (at $z=6$ from the model by \\citealt{Furtak23}). The center of the footprint is at $\\alpha=$0:14:18.0, $\\delta=-$30:22:47.3 (J2000). Bottom, left: Wavelength dependence of the spectroscopic data and the total field of view (along the main axis of the mosaic, it is constant along the minor axis). Our data are most sensitive in the deep stripes and around 3.8 $\\mu$m. Bottom, right: Spatial variation of the sensitivity of the grism data, shown at a wavelength of 3.8 $\\mu$m. The deep stripes and mosaic pattern, as well as the difference in sensitivity between module A and B data can clearly be seen. One can also notice the slight decrease in sensitivity near bright objects. (*fig:RADEC*)\n",
       "\n",
       "</div>\n",
       "<div id=\"div_fig3\">\n",
       "\n",
       "<img src=\"tmp_2410.01874/./figs/redshift_distribution.png\" alt=\"Fig1\" width=\"100%\"/>\n",
       "\n",
       "**Figure 1. -** ** Spectroscopic redshift distribution of the emission-line galaxies in ALT DR1.** The red histogram shows all redshifts, while the blue histogram show the galaxies for which more than one line is detected above S/N $>10$. This illustrates that the majority of pairs are HeI+Pa$\\gamma$ at $z\\sim2.5$ and the [OIII] doublet at $z\\sim6$ and that the vast majority of H$\\alpha$ emitters are single-line emitters in our data. We highlight the redshift ranges at which the primary lines are covered in the F356W grism spectra.  (*fig:redshifts*)\n",
       "\n",
       "</div><div id=\"qrcode\"><img src=https://api.qrserver.com/v1/create-qr-code/?size=100x100&data=\"https://arxiv.org/abs/2410.01874\"></div>"
      ],
      "text/plain": [
       "<IPython.core.display.Markdown object>"
      ]
     },
     "metadata": {},
     "output_type": "display_data"
    }
   ],
   "source": [
    "[display(Markdown(k[1])) for k in documents];"
   ]
  },
  {
   "cell_type": "markdown",
   "id": "873873a4",
   "metadata": {
    "papermill": {
     "duration": 0.004694,
     "end_time": "2024-10-04T04:11:38.011182",
     "exception": false,
     "start_time": "2024-10-04T04:11:38.006488",
     "status": "completed"
    },
    "tags": []
   },
   "source": [
    "# Create HTML index"
   ]
  },
  {
   "cell_type": "code",
   "execution_count": 10,
   "id": "cf665672",
   "metadata": {
    "execution": {
     "iopub.execute_input": "2024-10-04T04:11:38.021541Z",
     "iopub.status.busy": "2024-10-04T04:11:38.021149Z",
     "iopub.status.idle": "2024-10-04T04:11:38.029038Z",
     "shell.execute_reply": "2024-10-04T04:11:38.028367Z"
    },
    "papermill": {
     "duration": 0.014121,
     "end_time": "2024-10-04T04:11:38.030028",
     "exception": false,
     "start_time": "2024-10-04T04:11:38.015907",
     "status": "completed"
    },
    "tags": []
   },
   "outputs": [
    {
     "name": "stdout",
     "output_type": "stream",
     "text": [
      "206  publications files modified in the last 7 days.\n"
     ]
    }
   ],
   "source": [
    "from datetime import datetime, timedelta, timezone\n",
    "from glob import glob\n",
    "import os\n",
    "\n",
    "files = glob('_build/html/*.md')\n",
    "days = 7\n",
    "now = datetime.today()\n",
    "res = []\n",
    "for fk in files:\n",
    "    stat_result = os.stat(fk).st_ctime\n",
    "    modified = datetime.fromtimestamp(stat_result, tz=timezone.utc).replace(tzinfo=None)\n",
    "    delta = now.today() - modified\n",
    "    if delta <= timedelta(days=days):\n",
    "        res.append((delta.seconds, fk))\n",
    "res = [k[1] for k in reversed(sorted(res, key=lambda x:x[1]))]\n",
    "npub = len(res)\n",
    "print(len(res), f\" publications files modified in the last {days:d} days.\")\n",
    "# [ print('\\t', k) for k in res ];"
   ]
  },
  {
   "cell_type": "code",
   "execution_count": 11,
   "id": "015de740",
   "metadata": {
    "execution": {
     "iopub.execute_input": "2024-10-04T04:11:38.040427Z",
     "iopub.status.busy": "2024-10-04T04:11:38.040047Z",
     "iopub.status.idle": "2024-10-04T04:11:38.054336Z",
     "shell.execute_reply": "2024-10-04T04:11:38.053696Z"
    },
    "papermill": {
     "duration": 0.020695,
     "end_time": "2024-10-04T04:11:38.055453",
     "exception": false,
     "start_time": "2024-10-04T04:11:38.034758",
     "status": "completed"
    },
    "tags": []
   },
   "outputs": [
    {
     "name": "stdout",
     "output_type": "stream",
     "text": [
      "9  publications in the last 7 days.\n"
     ]
    }
   ],
   "source": [
    "import datetime\n",
    "from glob import glob\n",
    "\n",
    "def get_last_n_days(lst, days=1):\n",
    "    \"\"\" Get the documents from the last n days \"\"\"\n",
    "    sorted_lst = sorted(lst, key=lambda x: x[1], reverse=True)\n",
    "    for fname, date in sorted_lst:\n",
    "        if date >= str(datetime.date.today() - datetime.timedelta(days=days)):\n",
    "            yield fname\n",
    "\n",
    "def extract_appearance_dates(lst_file):\n",
    "    dates = []\n",
    "\n",
    "    def get_date(line):\n",
    "        return line\\\n",
    "            .split('Appeared on:')[-1]\\\n",
    "            .split('</mark>')[0].strip()\n",
    "\n",
    "    for fname in lst:\n",
    "        with open(fname, 'r') as f:\n",
    "            found_date = False\n",
    "            for line in f:\n",
    "                if not found_date:\n",
    "                    if \"Appeared on\" in line:\n",
    "                        found_date = True\n",
    "                        dates.append((fname, get_date(line)))\n",
    "                else:\n",
    "                    break\n",
    "    return dates\n",
    "\n",
    "from glob import glob\n",
    "lst = glob('_build/html/*md')\n",
    "days = 7\n",
    "dates = extract_appearance_dates(lst)\n",
    "res = list(get_last_n_days(dates, days))\n",
    "npub = len(res)\n",
    "print(len(res), f\" publications in the last {days:d} days.\")"
   ]
  },
  {
   "cell_type": "code",
   "execution_count": 12,
   "id": "52ca0208",
   "metadata": {
    "execution": {
     "iopub.execute_input": "2024-10-04T04:11:38.066418Z",
     "iopub.status.busy": "2024-10-04T04:11:38.066167Z",
     "iopub.status.idle": "2024-10-04T04:11:38.071275Z",
     "shell.execute_reply": "2024-10-04T04:11:38.070652Z"
    },
    "papermill": {
     "duration": 0.011865,
     "end_time": "2024-10-04T04:11:38.072290",
     "exception": false,
     "start_time": "2024-10-04T04:11:38.060425",
     "status": "completed"
    },
    "scrolled": false,
    "tags": []
   },
   "outputs": [],
   "source": [
    "def create_carousel(npub=4):\n",
    "    \"\"\" Generate the HTML code for a carousel with `npub` slides \"\"\"\n",
    "    carousel = [\"\"\"  <div class=\"carousel\" \"\"\",\n",
    "                \"\"\"       data-flickity='{ \"autoPlay\": 10000, \"adaptiveHeight\": true, \"resize\": true, \"wrapAround\": true, \"pauseAutoPlayOnHover\": true, \"groupCells\": 1 }' id=\"asyncTypeset\">\"\"\"\n",
    "                ]\n",
    "    \n",
    "    item_str = \"\"\"    <div class=\"carousel-cell\"> <div id=\"slide{k}\" class=\"md_view\">Content {k}</div> </div>\"\"\"\n",
    "    for k in range(1, npub + 1):\n",
    "        carousel.append(item_str.format(k=k))\n",
    "    carousel.append(\"  </div>\")\n",
    "    return '\\n'.join(carousel)\n",
    "\n",
    "def create_grid(npub=4):\n",
    "    \"\"\" Generate the HTML code for a flat grid with `npub` slides \"\"\"\n",
    "    grid = [\"\"\"  <div class=\"grid\"> \"\"\",\n",
    "                ]\n",
    "    \n",
    "    item_str = \"\"\"    <div class=\"grid-item\"> <div id=\"slide{k}\" class=\"md_view\">Content {k}</div> </div>\"\"\"\n",
    "    for k in range(1, npub + 1):\n",
    "        grid.append(item_str.format(k=k))\n",
    "    grid.append(\"  </div>\")\n",
    "    return '\\n'.join(grid)"
   ]
  },
  {
   "cell_type": "code",
   "execution_count": 13,
   "id": "a6eac5b6",
   "metadata": {
    "execution": {
     "iopub.execute_input": "2024-10-04T04:11:38.083128Z",
     "iopub.status.busy": "2024-10-04T04:11:38.082670Z",
     "iopub.status.idle": "2024-10-04T04:11:38.087862Z",
     "shell.execute_reply": "2024-10-04T04:11:38.087180Z"
    },
    "papermill": {
     "duration": 0.011719,
     "end_time": "2024-10-04T04:11:38.088921",
     "exception": false,
     "start_time": "2024-10-04T04:11:38.077202",
     "status": "completed"
    },
    "scrolled": false,
    "tags": []
   },
   "outputs": [],
   "source": [
    "carousel = create_carousel(npub)\n",
    "docs = ', '.join(['\"{0:s}\"'.format(k.split('/')[-1]) for k in res])\n",
    "slides = ', '.join([f'\"slide{k}\"' for k in range(1, npub + 1)])\n",
    "\n",
    "with open(\"daily_template.html\", \"r\") as tpl:\n",
    "    page = tpl.read()\n",
    "    page = page.replace(\"{%-- carousel:s --%}\", carousel)\\\n",
    "               .replace(\"{%-- suptitle:s --%}\",  \"7-day archives\" )\\\n",
    "               .replace(\"{%-- docs:s --%}\", docs)\\\n",
    "               .replace(\"{%-- slides:s --%}\", slides)\n",
    "    \n",
    "with open(\"_build/html/index_7days.html\", 'w') as fout:\n",
    "    fout.write(page)"
   ]
  },
  {
   "cell_type": "code",
   "execution_count": 14,
   "id": "adc1a1ec",
   "metadata": {
    "execution": {
     "iopub.execute_input": "2024-10-04T04:11:38.103755Z",
     "iopub.status.busy": "2024-10-04T04:11:38.103555Z",
     "iopub.status.idle": "2024-10-04T04:11:38.110135Z",
     "shell.execute_reply": "2024-10-04T04:11:38.109498Z"
    },
    "papermill": {
     "duration": 0.015847,
     "end_time": "2024-10-04T04:11:38.111277",
     "exception": false,
     "start_time": "2024-10-04T04:11:38.095430",
     "status": "completed"
    },
    "tags": []
   },
   "outputs": [
    {
     "name": "stdout",
     "output_type": "stream",
     "text": [
      "1  publications in the last day.\n"
     ]
    }
   ],
   "source": [
    "# redo for today\n",
    "days = 1\n",
    "res = list(get_last_n_days(dates, days))\n",
    "npub = len(res)\n",
    "print(len(res), f\" publications in the last day.\")\n",
    "\n",
    "carousel = create_carousel(npub)\n",
    "docs = ', '.join(['\"{0:s}\"'.format(k.split('/')[-1]) for k in res])\n",
    "slides = ', '.join([f'\"slide{k}\"' for k in range(1, npub + 1)])\n",
    "\n",
    "with open(\"daily_template.html\", \"r\") as tpl:\n",
    "    page = tpl.read()\n",
    "    page = page.replace(\"{%-- carousel:s --%}\", carousel)\\\n",
    "               .replace(\"{%-- suptitle:s --%}\",  \"Daily\" )\\\n",
    "               .replace(\"{%-- docs:s --%}\", docs)\\\n",
    "               .replace(\"{%-- slides:s --%}\", slides)\n",
    "    \n",
    "# print(carousel, docs, slides)\n",
    "# print(page)\n",
    "with open(\"_build/html/index_daily.html\", 'w') as fout:\n",
    "    fout.write(page)"
   ]
  },
  {
   "cell_type": "code",
   "execution_count": 15,
   "id": "00eece82",
   "metadata": {
    "execution": {
     "iopub.execute_input": "2024-10-04T04:11:38.122164Z",
     "iopub.status.busy": "2024-10-04T04:11:38.121973Z",
     "iopub.status.idle": "2024-10-04T04:11:38.128788Z",
     "shell.execute_reply": "2024-10-04T04:11:38.128125Z"
    },
    "papermill": {
     "duration": 0.013517,
     "end_time": "2024-10-04T04:11:38.129861",
     "exception": false,
     "start_time": "2024-10-04T04:11:38.116344",
     "status": "completed"
    },
    "scrolled": false,
    "tags": []
   },
   "outputs": [
    {
     "name": "stdout",
     "output_type": "stream",
     "text": [
      "6  6 publications selected.\n"
     ]
    }
   ],
   "source": [
    "# Create the flat grid of the last N papers (fixed number regardless of dates)\n",
    "from itertools import islice \n",
    "\n",
    "npub = 6\n",
    "res = [k[0] for k in (islice(reversed(sorted(dates, key=lambda x: x[1])), 6))]\n",
    "print(len(res), f\" {npub} publications selected.\")\n",
    "\n",
    "grid = create_grid(npub)\n",
    "docs = ', '.join(['\"{0:s}\"'.format(k.split('/')[-1]) for k in res])\n",
    "slides = ', '.join([f'\"slide{k}\"' for k in range(1, npub + 1)])\n",
    "\n",
    "with open(\"grid_template.html\", \"r\") as tpl:\n",
    "    page = tpl.read()\n",
    "    page = page.replace(\"{%-- grid-content:s --%}\", grid)\\\n",
    "               .replace(\"{%-- suptitle:s --%}\",  f\"Last {npub:,d} papers\" )\\\n",
    "               .replace(\"{%-- docs:s --%}\", docs)\\\n",
    "               .replace(\"{%-- slides:s --%}\", slides)\n",
    "    \n",
    "# print(grid, docs, slides)\n",
    "# print(page)\n",
    "with open(\"_build/html/index_npub_grid.html\", 'w') as fout:\n",
    "    fout.write(page)"
   ]
  }
 ],
 "metadata": {
  "kernelspec": {
   "display_name": "Python 3 (ipykernel)",
   "language": "python",
   "name": "python3"
  },
  "language_info": {
   "codemirror_mode": {
    "name": "ipython",
    "version": 3
   },
   "file_extension": ".py",
   "mimetype": "text/x-python",
   "name": "python",
   "nbconvert_exporter": "python",
   "pygments_lexer": "ipython3",
   "version": "3.9.20"
  },
  "papermill": {
   "default_parameters": {},
   "duration": 82.823007,
   "end_time": "2024-10-04T04:11:38.350482",
   "environment_variables": {},
   "exception": null,
   "input_path": "MPIA daily digest.ipynb",
   "output_path": "log.ipynb",
   "parameters": {},
   "start_time": "2024-10-04T04:10:15.527475",
   "version": "2.6.0"
  },
  "vscode": {
   "interpreter": {
    "hash": "aee8b7b246df8f9039afb4144a1f6fd8d2ca17a180786b69acc140d282b71a49"
   }
  },
  "widgets": {
   "application/vnd.jupyter.widget-state+json": {
    "state": {
     "1df76e9b3206417e8d1b95c160bbe82d": {
      "model_module": "@jupyter-widgets/controls",
      "model_module_version": "2.0.0",
      "model_name": "HTMLModel",
      "state": {
       "_dom_classes": [],
       "_model_module": "@jupyter-widgets/controls",
       "_model_module_version": "2.0.0",
       "_model_name": "HTMLModel",
       "_view_count": null,
       "_view_module": "@jupyter-widgets/controls",
       "_view_module_version": "2.0.0",
       "_view_name": "HTMLView",
       "description": "",
       "description_allow_html": false,
       "layout": "IPY_MODEL_7f8774ed178840949dc20171cc698bb8",
       "placeholder": "​",
       "style": "IPY_MODEL_8e1f0e4cd56c4592b9d28d82795c819e",
       "tabbable": null,
       "tooltip": null,
       "value": " 4/4 [01:02&lt;00:00,  9.22s/it]"
      }
     },
     "224354b17dd943b383c77219c7a5d708": {
      "model_module": "@jupyter-widgets/controls",
      "model_module_version": "2.0.0",
      "model_name": "HTMLStyleModel",
      "state": {
       "_model_module": "@jupyter-widgets/controls",
       "_model_module_version": "2.0.0",
       "_model_name": "HTMLStyleModel",
       "_view_count": null,
       "_view_module": "@jupyter-widgets/base",
       "_view_module_version": "2.0.0",
       "_view_name": "StyleView",
       "background": null,
       "description_width": "",
       "font_size": null,
       "text_color": null
      }
     },
     "41612c46101e44aa92534b7a911196c3": {
      "model_module": "@jupyter-widgets/controls",
      "model_module_version": "2.0.0",
      "model_name": "FloatProgressModel",
      "state": {
       "_dom_classes": [],
       "_model_module": "@jupyter-widgets/controls",
       "_model_module_version": "2.0.0",
       "_model_name": "FloatProgressModel",
       "_view_count": null,
       "_view_module": "@jupyter-widgets/controls",
       "_view_module_version": "2.0.0",
       "_view_name": "ProgressView",
       "bar_style": "success",
       "description": "",
       "description_allow_html": false,
       "layout": "IPY_MODEL_a0123c09c2974035b2288eb7c5632d06",
       "max": 4.0,
       "min": 0.0,
       "orientation": "horizontal",
       "style": "IPY_MODEL_f9549848ad844df2b07d228367891e9b",
       "tabbable": null,
       "tooltip": null,
       "value": 4.0
      }
     },
     "6128ca9f3b4a4535b0181f8b75d18a77": {
      "model_module": "@jupyter-widgets/controls",
      "model_module_version": "2.0.0",
      "model_name": "HTMLModel",
      "state": {
       "_dom_classes": [],
       "_model_module": "@jupyter-widgets/controls",
       "_model_module_version": "2.0.0",
       "_model_name": "HTMLModel",
       "_view_count": null,
       "_view_module": "@jupyter-widgets/controls",
       "_view_module_version": "2.0.0",
       "_view_name": "HTMLView",
       "description": "",
       "description_allow_html": false,
       "layout": "IPY_MODEL_98b6836d0b3d41f9a61beb43b212c977",
       "placeholder": "​",
       "style": "IPY_MODEL_224354b17dd943b383c77219c7a5d708",
       "tabbable": null,
       "tooltip": null,
       "value": "100%"
      }
     },
     "7f8774ed178840949dc20171cc698bb8": {
      "model_module": "@jupyter-widgets/base",
      "model_module_version": "2.0.0",
      "model_name": "LayoutModel",
      "state": {
       "_model_module": "@jupyter-widgets/base",
       "_model_module_version": "2.0.0",
       "_model_name": "LayoutModel",
       "_view_count": null,
       "_view_module": "@jupyter-widgets/base",
       "_view_module_version": "2.0.0",
       "_view_name": "LayoutView",
       "align_content": null,
       "align_items": null,
       "align_self": null,
       "border_bottom": null,
       "border_left": null,
       "border_right": null,
       "border_top": null,
       "bottom": null,
       "display": null,
       "flex": null,
       "flex_flow": null,
       "grid_area": null,
       "grid_auto_columns": null,
       "grid_auto_flow": null,
       "grid_auto_rows": null,
       "grid_column": null,
       "grid_gap": null,
       "grid_row": null,
       "grid_template_areas": null,
       "grid_template_columns": null,
       "grid_template_rows": null,
       "height": null,
       "justify_content": null,
       "justify_items": null,
       "left": null,
       "margin": null,
       "max_height": null,
       "max_width": null,
       "min_height": null,
       "min_width": null,
       "object_fit": null,
       "object_position": null,
       "order": null,
       "overflow": null,
       "padding": null,
       "right": null,
       "top": null,
       "visibility": null,
       "width": null
      }
     },
     "8621bc36066245aeb4a4a812a5ea24dd": {
      "model_module": "@jupyter-widgets/controls",
      "model_module_version": "2.0.0",
      "model_name": "HBoxModel",
      "state": {
       "_dom_classes": [],
       "_model_module": "@jupyter-widgets/controls",
       "_model_module_version": "2.0.0",
       "_model_name": "HBoxModel",
       "_view_count": null,
       "_view_module": "@jupyter-widgets/controls",
       "_view_module_version": "2.0.0",
       "_view_name": "HBoxView",
       "box_style": "",
       "children": [
        "IPY_MODEL_6128ca9f3b4a4535b0181f8b75d18a77",
        "IPY_MODEL_41612c46101e44aa92534b7a911196c3",
        "IPY_MODEL_1df76e9b3206417e8d1b95c160bbe82d"
       ],
       "layout": "IPY_MODEL_a270fae201634c65bd4ae812fd7efefc",
       "tabbable": null,
       "tooltip": null
      }
     },
     "8e1f0e4cd56c4592b9d28d82795c819e": {
      "model_module": "@jupyter-widgets/controls",
      "model_module_version": "2.0.0",
      "model_name": "HTMLStyleModel",
      "state": {
       "_model_module": "@jupyter-widgets/controls",
       "_model_module_version": "2.0.0",
       "_model_name": "HTMLStyleModel",
       "_view_count": null,
       "_view_module": "@jupyter-widgets/base",
       "_view_module_version": "2.0.0",
       "_view_name": "StyleView",
       "background": null,
       "description_width": "",
       "font_size": null,
       "text_color": null
      }
     },
     "98b6836d0b3d41f9a61beb43b212c977": {
      "model_module": "@jupyter-widgets/base",
      "model_module_version": "2.0.0",
      "model_name": "LayoutModel",
      "state": {
       "_model_module": "@jupyter-widgets/base",
       "_model_module_version": "2.0.0",
       "_model_name": "LayoutModel",
       "_view_count": null,
       "_view_module": "@jupyter-widgets/base",
       "_view_module_version": "2.0.0",
       "_view_name": "LayoutView",
       "align_content": null,
       "align_items": null,
       "align_self": null,
       "border_bottom": null,
       "border_left": null,
       "border_right": null,
       "border_top": null,
       "bottom": null,
       "display": null,
       "flex": null,
       "flex_flow": null,
       "grid_area": null,
       "grid_auto_columns": null,
       "grid_auto_flow": null,
       "grid_auto_rows": null,
       "grid_column": null,
       "grid_gap": null,
       "grid_row": null,
       "grid_template_areas": null,
       "grid_template_columns": null,
       "grid_template_rows": null,
       "height": null,
       "justify_content": null,
       "justify_items": null,
       "left": null,
       "margin": null,
       "max_height": null,
       "max_width": null,
       "min_height": null,
       "min_width": null,
       "object_fit": null,
       "object_position": null,
       "order": null,
       "overflow": null,
       "padding": null,
       "right": null,
       "top": null,
       "visibility": null,
       "width": null
      }
     },
     "a0123c09c2974035b2288eb7c5632d06": {
      "model_module": "@jupyter-widgets/base",
      "model_module_version": "2.0.0",
      "model_name": "LayoutModel",
      "state": {
       "_model_module": "@jupyter-widgets/base",
       "_model_module_version": "2.0.0",
       "_model_name": "LayoutModel",
       "_view_count": null,
       "_view_module": "@jupyter-widgets/base",
       "_view_module_version": "2.0.0",
       "_view_name": "LayoutView",
       "align_content": null,
       "align_items": null,
       "align_self": null,
       "border_bottom": null,
       "border_left": null,
       "border_right": null,
       "border_top": null,
       "bottom": null,
       "display": null,
       "flex": null,
       "flex_flow": null,
       "grid_area": null,
       "grid_auto_columns": null,
       "grid_auto_flow": null,
       "grid_auto_rows": null,
       "grid_column": null,
       "grid_gap": null,
       "grid_row": null,
       "grid_template_areas": null,
       "grid_template_columns": null,
       "grid_template_rows": null,
       "height": null,
       "justify_content": null,
       "justify_items": null,
       "left": null,
       "margin": null,
       "max_height": null,
       "max_width": null,
       "min_height": null,
       "min_width": null,
       "object_fit": null,
       "object_position": null,
       "order": null,
       "overflow": null,
       "padding": null,
       "right": null,
       "top": null,
       "visibility": null,
       "width": null
      }
     },
     "a270fae201634c65bd4ae812fd7efefc": {
      "model_module": "@jupyter-widgets/base",
      "model_module_version": "2.0.0",
      "model_name": "LayoutModel",
      "state": {
       "_model_module": "@jupyter-widgets/base",
       "_model_module_version": "2.0.0",
       "_model_name": "LayoutModel",
       "_view_count": null,
       "_view_module": "@jupyter-widgets/base",
       "_view_module_version": "2.0.0",
       "_view_name": "LayoutView",
       "align_content": null,
       "align_items": null,
       "align_self": null,
       "border_bottom": null,
       "border_left": null,
       "border_right": null,
       "border_top": null,
       "bottom": null,
       "display": null,
       "flex": null,
       "flex_flow": null,
       "grid_area": null,
       "grid_auto_columns": null,
       "grid_auto_flow": null,
       "grid_auto_rows": null,
       "grid_column": null,
       "grid_gap": null,
       "grid_row": null,
       "grid_template_areas": null,
       "grid_template_columns": null,
       "grid_template_rows": null,
       "height": null,
       "justify_content": null,
       "justify_items": null,
       "left": null,
       "margin": null,
       "max_height": null,
       "max_width": null,
       "min_height": null,
       "min_width": null,
       "object_fit": null,
       "object_position": null,
       "order": null,
       "overflow": null,
       "padding": null,
       "right": null,
       "top": null,
       "visibility": null,
       "width": null
      }
     },
     "f9549848ad844df2b07d228367891e9b": {
      "model_module": "@jupyter-widgets/controls",
      "model_module_version": "2.0.0",
      "model_name": "ProgressStyleModel",
      "state": {
       "_model_module": "@jupyter-widgets/controls",
       "_model_module_version": "2.0.0",
       "_model_name": "ProgressStyleModel",
       "_view_count": null,
       "_view_module": "@jupyter-widgets/base",
       "_view_module_version": "2.0.0",
       "_view_name": "StyleView",
       "bar_color": null,
       "description_width": ""
      }
     }
    },
    "version_major": 2,
    "version_minor": 0
   }
  }
 },
 "nbformat": 4,
 "nbformat_minor": 5
}