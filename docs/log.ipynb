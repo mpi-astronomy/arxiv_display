{
 "cells": [
  {
   "cell_type": "markdown",
   "id": "92bcb855",
   "metadata": {
    "papermill": {
     "duration": 0.003752,
     "end_time": "2025-08-19T04:13:10.490326",
     "exception": false,
     "start_time": "2025-08-19T04:13:10.486574",
     "status": "completed"
    },
    "tags": []
   },
   "source": [
    "# MPIA Arxiv on Deck 2\n",
    "\n",
    "Contains the steps to produce the paper extractions."
   ]
  },
  {
   "cell_type": "code",
   "execution_count": 1,
   "id": "3a0d6e11",
   "metadata": {
    "execution": {
     "iopub.execute_input": "2025-08-19T04:13:10.497373Z",
     "iopub.status.busy": "2025-08-19T04:13:10.497114Z",
     "iopub.status.idle": "2025-08-19T04:13:10.702304Z",
     "shell.execute_reply": "2025-08-19T04:13:10.701634Z"
    },
    "papermill": {
     "duration": 0.210145,
     "end_time": "2025-08-19T04:13:10.703680",
     "exception": false,
     "start_time": "2025-08-19T04:13:10.493535",
     "status": "completed"
    },
    "tags": []
   },
   "outputs": [],
   "source": [
    "# Imports\n",
    "import os\n",
    "from IPython.display import Markdown, display\n",
    "from tqdm.notebook import tqdm\n",
    "import warnings\n",
    "from PIL import Image \n",
    "import re\n",
    "\n",
    "# requires arxiv_on_deck_2\n",
    "\n",
    "from arxiv_on_deck_2.arxiv2 import (get_new_papers, \n",
    "                                    get_paper_from_identifier,\n",
    "                                    retrieve_document_source, \n",
    "                                    get_markdown_badge)\n",
    "from arxiv_on_deck_2 import (latex,\n",
    "                             latex_bib,\n",
    "                             mpia,\n",
    "                             highlight_authors_in_list)\n",
    "\n",
    "# Sometimes images are really big\n",
    "Image.MAX_IMAGE_PIXELS = 1000000000 "
   ]
  },
  {
   "cell_type": "code",
   "execution_count": 2,
   "id": "22aa9d44",
   "metadata": {
    "execution": {
     "iopub.execute_input": "2025-08-19T04:13:10.710812Z",
     "iopub.status.busy": "2025-08-19T04:13:10.710579Z",
     "iopub.status.idle": "2025-08-19T04:13:10.718482Z",
     "shell.execute_reply": "2025-08-19T04:13:10.717925Z"
    },
    "papermill": {
     "duration": 0.012547,
     "end_time": "2025-08-19T04:13:10.719500",
     "exception": false,
     "start_time": "2025-08-19T04:13:10.706953",
     "status": "completed"
    },
    "tags": []
   },
   "outputs": [],
   "source": [
    "# Some useful definitions.\n",
    "\n",
    "class AffiliationWarning(UserWarning):\n",
    "    pass\n",
    "\n",
    "class AffiliationError(RuntimeError):\n",
    "    pass\n",
    "\n",
    "def validation(source: str):\n",
    "    \"\"\"Raises error paper during parsing of source file\n",
    "    \n",
    "    Allows checks before parsing TeX code.\n",
    "    \n",
    "    Raises AffiliationWarning\n",
    "    \"\"\"\n",
    "    check = mpia.affiliation_verifications(source, verbose=True)\n",
    "    if check is not True:\n",
    "        raise AffiliationError(\"mpia.affiliation_verifications: \" + check)\n",
    "\n",
    "        \n",
    "warnings.simplefilter('always', AffiliationWarning)\n",
    "\n",
    "\n",
    "def get_markdown_qrcode(paper_id: str):\n",
    "    \"\"\" Generate a qrcode to the arxiv page using qrserver.com\n",
    "    \n",
    "    :param paper: Arxiv paper\n",
    "    :returns: markdown text\n",
    "    \"\"\"\n",
    "    url = r\"https://api.qrserver.com/v1/create-qr-code/?size=100x100&data=\"\n",
    "    txt = f\"\"\"<img src={url}\"https://arxiv.org/abs/{paper_id}\">\"\"\"\n",
    "    txt = '<div id=\"qrcode\">' + txt + '</div>'\n",
    "    return txt\n",
    "\n",
    "\n",
    "def clean_non_western_encoded_characters_commands(text: str) -> str:\n",
    "    \"\"\" Remove non-western encoded characters from a string\n",
    "    List may need to grow.\n",
    "    \n",
    "    :param text: the text to clean\n",
    "    :return: the cleaned text\n",
    "    \"\"\"\n",
    "    text = re.sub(r\"(\\\\begin{CJK}{UTF8}{gbsn})(.*?)(\\\\end{CJK})\", r\"\\2\", text)\n",
    "    return text\n",
    "\n",
    "\n",
    "def get_initials(name: str) -> str:\n",
    "    \"\"\" Get the short name, e.g., A.-B. FamName\n",
    "    :param name: full name\n",
    "    :returns: initials\n",
    "    \"\"\"\n",
    "    initials = []\n",
    "    # account for non western names often in ()\n",
    "    if '(' in name:\n",
    "        name = clean_non_western_encoded_characters_commands(name)\n",
    "        suffix = re.findall(r\"\\((.*?)\\)\", name)[0]\n",
    "        name = name.replace(f\"({suffix})\", '')\n",
    "    else:\n",
    "        suffix = ''\n",
    "    split = name.split()\n",
    "    for token in split[:-1]:\n",
    "        if '-' in token:\n",
    "            current = '-'.join([k[0] + '.' for k in token.split('-')])\n",
    "        else:\n",
    "            current = token[0] + '.'\n",
    "        initials.append(current)\n",
    "    initials.append(split[-1].strip())\n",
    "    if suffix:\n",
    "        initials.append(f\"({suffix})\")\n",
    "    return ' '.join(initials)"
   ]
  },
  {
   "cell_type": "markdown",
   "id": "14bd6310",
   "metadata": {
    "papermill": {
     "duration": 0.002849,
     "end_time": "2025-08-19T04:13:10.725346",
     "exception": false,
     "start_time": "2025-08-19T04:13:10.722497",
     "status": "completed"
    },
    "tags": []
   },
   "source": [
    "## get list of arxiv paper candidates\n",
    "\n",
    "We use the MPIA mitarbeiter list webpage from mpia.de to get author names\n",
    "We then get all new papers from Arxiv and match authors"
   ]
  },
  {
   "cell_type": "code",
   "execution_count": 3,
   "id": "7ea813a8",
   "metadata": {
    "execution": {
     "iopub.execute_input": "2025-08-19T04:13:10.731968Z",
     "iopub.status.busy": "2025-08-19T04:13:10.731735Z",
     "iopub.status.idle": "2025-08-19T04:13:30.735006Z",
     "shell.execute_reply": "2025-08-19T04:13:30.734388Z"
    },
    "papermill": {
     "duration": 20.007972,
     "end_time": "2025-08-19T04:13:30.736304",
     "exception": false,
     "start_time": "2025-08-19T04:13:10.728332",
     "status": "completed"
    },
    "tags": []
   },
   "outputs": [],
   "source": [
    "# deal with the author list and edge cases of people that cannot be consistent on their name  \n",
    "\n",
    "def filter_non_scientists(name: str) -> bool:\n",
    "    \"\"\" Loose filter on expected authorships\n",
    "\n",
    "    removing IT, administration, technical staff\n",
    "    :param name: name\n",
    "    :returns: False if name is not a scientist\n",
    "    \"\"\"\n",
    "    remove_list = ['Licht', 'Binroth', 'Witzel', 'Jordan',\n",
    "                   'Zähringer', 'Scheerer', 'Hoffmann', 'Düe',\n",
    "                   'Hellmich', 'Enkler-Scharpegge', 'Witte-Nguy',\n",
    "                   'Dehen', 'Beckmann', 'Jager', 'Jäger'\n",
    "                  ]\n",
    "\n",
    "    for k in remove_list:\n",
    "        if k in name:\n",
    "            return False\n",
    "    return True\n",
    "\n",
    "def add_author_to_list(author_list: list) -> list:\n",
    "    \"\"\" Add author to list if not already in list\n",
    "    \n",
    "    :param author: author name\n",
    "    :param author_list: list of authors\n",
    "    :returns: updated list of authors\n",
    "    \"\"\"\n",
    "    add_list = ['T. Henning']\n",
    "\n",
    "    for author in add_list:\n",
    "        if author not in author_list:\n",
    "            author_list.append(author)\n",
    "    return author_list\n",
    "\n",
    "# get list from MPIA website\n",
    "# filter for non-scientists (mpia.get_mpia_mitarbeiter_list() does some filtering)\n",
    "mpia_authors = [k[1] for k in mpia.get_mpia_mitarbeiter_list() if filter_non_scientists(k[1])]\n",
    "# add some missing author because of inconsistencies in their MPIA name and author name on papers\n",
    "mpia_authors = add_author_to_list(mpia_authors)"
   ]
  },
  {
   "cell_type": "code",
   "execution_count": 4,
   "id": "2645e73a",
   "metadata": {
    "execution": {
     "iopub.execute_input": "2025-08-19T04:13:30.743609Z",
     "iopub.status.busy": "2025-08-19T04:13:30.743365Z",
     "iopub.status.idle": "2025-08-19T04:13:31.554187Z",
     "shell.execute_reply": "2025-08-19T04:13:31.553564Z"
    },
    "papermill": {
     "duration": 0.815638,
     "end_time": "2025-08-19T04:13:31.555333",
     "exception": false,
     "start_time": "2025-08-19T04:13:30.739695",
     "status": "completed"
    },
    "tags": []
   },
   "outputs": [
    {
     "name": "stdout",
     "output_type": "stream",
     "text": [
      "T. Henning  ->  T. Henning  |  ['T. Henning']\n",
      "M. Zhang  ->  M. Zhang  |  ['M. Zhang']\n",
      "J. Bouwman  ->  J. Bouwman  |  ['J. Bouwman']\n",
      "T. Henning  ->  T. Henning  |  ['T. Henning']\n",
      "J. Liu  ->  J. Liu  |  ['J. Liu']\n"
     ]
    },
    {
     "name": "stdout",
     "output_type": "stream",
     "text": [
      "J. Li  ->  J. Li  |  ['J. Li']\n",
      "L. Kreidberg  ->  L. Kreidberg  |  ['L. Kreidberg']\n",
      "Arxiv has 77 new papers today\n",
      "          6 with possible author matches\n"
     ]
    }
   ],
   "source": [
    "new_papers = get_new_papers()\n",
    "# add manual references\n",
    "add_paper_refs = []\n",
    "new_papers.extend([get_paper_from_identifier(k) for k in add_paper_refs])\n",
    "\n",
    "def robust_call(fn, value, *args, **kwargs):\n",
    "    try:\n",
    "        return fn(value, *args, **kwargs)\n",
    "    except Exception:\n",
    "        return value\n",
    "\n",
    "candidates = []\n",
    "for paperk in new_papers:\n",
    "    # Check author list with their initials\n",
    "    normed_author_list = [robust_call(mpia.get_initials, k) for k in paperk['authors']]\n",
    "    hl_authors = highlight_authors_in_list(normed_author_list, mpia_authors, verbose=True)\n",
    "    matches = [(hl, orig) for hl, orig in zip(hl_authors, paperk['authors']) if 'mark' in hl]\n",
    "    paperk['authors'] = hl_authors\n",
    "    if matches:\n",
    "        # only select paper if an author matched our list\n",
    "        candidates.append(paperk)\n",
    "print(\"\"\"Arxiv has {0:,d} new papers today\"\"\".format(len(new_papers)))        \n",
    "print(\"\"\"          {0:,d} with possible author matches\"\"\".format(len(candidates)))"
   ]
  },
  {
   "cell_type": "markdown",
   "id": "3543b34a",
   "metadata": {
    "papermill": {
     "duration": 0.004633,
     "end_time": "2025-08-19T04:13:31.563554",
     "exception": false,
     "start_time": "2025-08-19T04:13:31.558921",
     "status": "completed"
    },
    "tags": []
   },
   "source": [
    "# Parse sources and generate relevant outputs\n",
    "\n",
    "From the candidates, we do the following steps:\n",
    "* get their tarball from ArXiv (and extract data)\n",
    "* find the main .tex file: find one with \\documentclass{...} (sometimes it's non trivial)\n",
    "* Check affiliations with :func:`validation`, which uses :func:`mpia.affiliation_verifications`\n",
    "* If passing the affiliations: we parse the .tex source\n",
    "   * inject sub-documents into the main (flatten the main document)\n",
    "   * parse structure, extract information (title, abstract, authors, figures...)\n",
    "   * handles `\\graphicspath` if provided\n",
    "* Generate the .md document."
   ]
  },
  {
   "cell_type": "code",
   "execution_count": 5,
   "id": "9576b79e",
   "metadata": {
    "execution": {
     "iopub.execute_input": "2025-08-19T04:13:31.570621Z",
     "iopub.status.busy": "2025-08-19T04:13:31.570401Z",
     "iopub.status.idle": "2025-08-19T04:14:00.772370Z",
     "shell.execute_reply": "2025-08-19T04:14:00.771608Z"
    },
    "papermill": {
     "duration": 29.207263,
     "end_time": "2025-08-19T04:14:00.773955",
     "exception": false,
     "start_time": "2025-08-19T04:13:31.566692",
     "status": "completed"
    },
    "scrolled": false,
    "tags": []
   },
   "outputs": [
    {
     "data": {
      "application/vnd.jupyter.widget-view+json": {
       "model_id": "092331a1c4a743eab82c86f646cf7ea0",
       "version_major": 2,
       "version_minor": 0
      },
      "text/plain": [
       "  0%|          | 0/6 [00:00<?, ?it/s]"
      ]
     },
     "metadata": {},
     "output_type": "display_data"
    },
    {
     "name": "stdout",
     "output_type": "stream",
     "text": [
      "Retrieving document from  https://arxiv.org/e-print/2508.11761\n"
     ]
    },
    {
     "name": "stdout",
     "output_type": "stream",
     "text": [
      "extracting tarball to tmp_2508.11761..."
     ]
    },
    {
     "name": "stdout",
     "output_type": "stream",
     "text": [
      " done.\n"
     ]
    },
    {
     "name": "stderr",
     "output_type": "stream",
     "text": [
      "/opt/hostedtoolcache/Python/3.9.23/x64/lib/python3.9/site-packages/arxiv_on_deck_2/latex.py:132: LatexWarning: attempting recovering figure empty.eps\n",
      "  warnings.warn(LatexWarning(f'attempting recovering figure {image}'))\n",
      "/opt/hostedtoolcache/Python/3.9.23/x64/lib/python3.9/site-packages/arxiv_on_deck_2/latex.py:707: LatexWarning: Could not find graphic \\includegraphics[width=\\hsize]{empty.eps}\n",
      "  warnings.warn(LatexWarning(f\"Could not find graphic {k}\"))\n",
      "/opt/hostedtoolcache/Python/3.9.23/x64/lib/python3.9/site-packages/arxiv_on_deck_2/latex.py:132: LatexWarning: attempting recovering figure empty.eps\n",
      "  warnings.warn(LatexWarning(f'attempting recovering figure {image}'))\n",
      "/opt/hostedtoolcache/Python/3.9.23/x64/lib/python3.9/site-packages/arxiv_on_deck_2/latex.py:707: LatexWarning: Could not find graphic \\includegraphics[angle=-90,width=3cm]{empty.eps}\n",
      "  warnings.warn(LatexWarning(f\"Could not find graphic {k}\"))\n",
      "/opt/hostedtoolcache/Python/3.9.23/x64/lib/python3.9/site-packages/arxiv_on_deck_2/latex.py:132: LatexWarning: attempting recovering figure empty.eps\n",
      "  warnings.warn(LatexWarning(f'attempting recovering figure {image}'))\n",
      "/opt/hostedtoolcache/Python/3.9.23/x64/lib/python3.9/site-packages/arxiv_on_deck_2/latex.py:707: LatexWarning: Could not find graphic \\includegraphics[width=3cm]{empty.eps}\n",
      "  warnings.warn(LatexWarning(f\"Could not find graphic {k}\"))\n",
      "/opt/hostedtoolcache/Python/3.9.23/x64/lib/python3.9/site-packages/arxiv_on_deck_2/latex.py:132: LatexWarning: attempting recovering figure empty.eps\n",
      "  warnings.warn(LatexWarning(f'attempting recovering figure {image}'))\n",
      "/opt/hostedtoolcache/Python/3.9.23/x64/lib/python3.9/site-packages/arxiv_on_deck_2/latex.py:707: LatexWarning: Could not find graphic \\includegraphics[bb=10 20 100 300,width=3cm,clip]{empty.eps}\n",
      "  warnings.warn(LatexWarning(f\"Could not find graphic {k}\"))\n",
      "/opt/hostedtoolcache/Python/3.9.23/x64/lib/python3.9/site-packages/arxiv_on_deck_2/latex.py:132: LatexWarning: attempting recovering figure empty.eps\n",
      "  warnings.warn(LatexWarning(f'attempting recovering figure {image}'))\n",
      "/opt/hostedtoolcache/Python/3.9.23/x64/lib/python3.9/site-packages/arxiv_on_deck_2/latex.py:707: LatexWarning: Could not find graphic \\includegraphics[bb=10 20 100 300,clip]{empty.eps}\n",
      "  warnings.warn(LatexWarning(f\"Could not find graphic {k}\"))\n",
      "/opt/hostedtoolcache/Python/3.9.23/x64/lib/python3.9/site-packages/arxiv_on_deck_2/latex.py:132: LatexWarning: attempting recovering figure empty.eps\n",
      "  warnings.warn(LatexWarning(f'attempting recovering figure {image}'))\n",
      "/opt/hostedtoolcache/Python/3.9.23/x64/lib/python3.9/site-packages/arxiv_on_deck_2/latex.py:707: LatexWarning: Could not find graphic \\includegraphics[bb=10 20 100 300,clip]{empty.eps}\n",
      "  warnings.warn(LatexWarning(f\"Could not find graphic {k}\"))\n",
      "/opt/hostedtoolcache/Python/3.9.23/x64/lib/python3.9/site-packages/arxiv_on_deck_2/latex.py:132: LatexWarning: attempting recovering figure 1787f23.eps\n",
      "  warnings.warn(LatexWarning(f'attempting recovering figure {image}'))\n",
      "/opt/hostedtoolcache/Python/3.9.23/x64/lib/python3.9/site-packages/arxiv_on_deck_2/latex.py:707: LatexWarning: Could not find graphic \\includegraphics[width=10.9cm]{1787f23.eps}\n",
      "  warnings.warn(LatexWarning(f\"Could not find graphic {k}\"))\n",
      "/opt/hostedtoolcache/Python/3.9.23/x64/lib/python3.9/site-packages/arxiv_on_deck_2/latex.py:132: LatexWarning: attempting recovering figure 1787f24.ps\n",
      "  warnings.warn(LatexWarning(f'attempting recovering figure {image}'))\n",
      "/opt/hostedtoolcache/Python/3.9.23/x64/lib/python3.9/site-packages/arxiv_on_deck_2/latex.py:707: LatexWarning: Could not find graphic \\includegraphics[width=16.4cm,clip]{1787f24.ps}\n",
      "  warnings.warn(LatexWarning(f\"Could not find graphic {k}\"))\n"
     ]
    },
    {
     "name": "stderr",
     "output_type": "stream",
     "text": [
      "/opt/hostedtoolcache/Python/3.9.23/x64/lib/python3.9/site-packages/arxiv_on_deck_2/latex.py:132: LatexWarning: attempting recovering figure empty.eps\n",
      "  warnings.warn(LatexWarning(f'attempting recovering figure {image}'))\n",
      "/opt/hostedtoolcache/Python/3.9.23/x64/lib/python3.9/site-packages/arxiv_on_deck_2/latex.py:707: LatexWarning: Could not find graphic \\includegraphics[bb=10 20 100 300,clip]{empty.eps}\n",
      "  warnings.warn(LatexWarning(f\"Could not find graphic {k}\"))\n",
      "/opt/hostedtoolcache/Python/3.9.23/x64/lib/python3.9/site-packages/arxiv_on_deck_2/latex.py:132: LatexWarning: attempting recovering figure 1787f23.eps\n",
      "  warnings.warn(LatexWarning(f'attempting recovering figure {image}'))\n",
      "/opt/hostedtoolcache/Python/3.9.23/x64/lib/python3.9/site-packages/arxiv_on_deck_2/latex.py:707: LatexWarning: Could not find graphic \\includegraphics[width=10.9cm]{1787f23.eps}\n",
      "  warnings.warn(LatexWarning(f\"Could not find graphic {k}\"))\n",
      "/opt/hostedtoolcache/Python/3.9.23/x64/lib/python3.9/site-packages/arxiv_on_deck_2/latex.py:132: LatexWarning: attempting recovering figure 1787f24.ps\n",
      "  warnings.warn(LatexWarning(f'attempting recovering figure {image}'))\n",
      "/opt/hostedtoolcache/Python/3.9.23/x64/lib/python3.9/site-packages/arxiv_on_deck_2/latex.py:707: LatexWarning: Could not find graphic \\includegraphics[width=16.4cm,clip]{1787f24.ps}\n",
      "  warnings.warn(LatexWarning(f\"Could not find graphic {k}\"))\n",
      "/opt/hostedtoolcache/Python/3.9.23/x64/lib/python3.9/site-packages/arxiv_on_deck_2/latex.py:132: LatexWarning: attempting recovering figure 1787f23.eps\n",
      "  warnings.warn(LatexWarning(f'attempting recovering figure {image}'))\n",
      "/opt/hostedtoolcache/Python/3.9.23/x64/lib/python3.9/site-packages/arxiv_on_deck_2/latex.py:707: LatexWarning: Could not find graphic \\includegraphics[width=10.9cm]{1787f23.eps}\n",
      "  warnings.warn(LatexWarning(f\"Could not find graphic {k}\"))\n",
      "/opt/hostedtoolcache/Python/3.9.23/x64/lib/python3.9/site-packages/arxiv_on_deck_2/latex.py:132: LatexWarning: attempting recovering figure 1787f24.ps\n",
      "  warnings.warn(LatexWarning(f'attempting recovering figure {image}'))\n",
      "/opt/hostedtoolcache/Python/3.9.23/x64/lib/python3.9/site-packages/arxiv_on_deck_2/latex.py:707: LatexWarning: Could not find graphic \\includegraphics[width=16.4cm,clip]{1787f24.ps}\n",
      "  warnings.warn(LatexWarning(f\"Could not find graphic {k}\"))\n"
     ]
    },
    {
     "name": "stdout",
     "output_type": "stream",
     "text": [
      "Found 83 bibliographic references in tmp_2508.11761/aanda.bbl.\n",
      "Retrieving document from  https://arxiv.org/e-print/2508.12516\n"
     ]
    },
    {
     "name": "stdout",
     "output_type": "stream",
     "text": [
      "extracting tarball to tmp_2508.12516... done.\n",
      "Retrieving document from  https://arxiv.org/e-print/2508.12601\n"
     ]
    },
    {
     "name": "stdout",
     "output_type": "stream",
     "text": [
      "extracting tarball to tmp_2508.12601..."
     ]
    },
    {
     "name": "stdout",
     "output_type": "stream",
     "text": [
      " done.\n"
     ]
    },
    {
     "name": "stdout",
     "output_type": "stream",
     "text": [
      "J. Bouwman  ->  J. Bouwman  |  ['J. Bouwman']\n",
      "T. Henning  ->  T. Henning  |  ['T. Henning']\n"
     ]
    },
    {
     "name": "stdout",
     "output_type": "stream",
     "text": [
      "Found 127 bibliographic references in tmp_2508.12601/main.bbl.\n",
      "Error retrieving bib data for chiar2013structure: 'author'\n",
      "Retrieving document from  https://arxiv.org/e-print/2508.13015\n"
     ]
    },
    {
     "name": "stdout",
     "output_type": "stream",
     "text": [
      "extracting tarball to tmp_2508.13015..."
     ]
    },
    {
     "name": "stdout",
     "output_type": "stream",
     "text": [
      " done.\n",
      "Retrieving document from  https://arxiv.org/e-print/2508.13136\n"
     ]
    },
    {
     "name": "stdout",
     "output_type": "stream",
     "text": [
      "extracting tarball to tmp_2508.13136..."
     ]
    },
    {
     "name": "stdout",
     "output_type": "stream",
     "text": [
      " done.\n",
      "Retrieving document from  https://arxiv.org/e-print/2508.13145\n"
     ]
    },
    {
     "name": "stdout",
     "output_type": "stream",
     "text": [
      "extracting tarball to tmp_2508.13145..."
     ]
    },
    {
     "name": "stdout",
     "output_type": "stream",
     "text": [
      " done.\n"
     ]
    },
    {
     "name": "stderr",
     "output_type": "stream",
     "text": [
      "/opt/hostedtoolcache/Python/3.9.23/x64/lib/python3.9/site-packages/IPython/core/interactiveshell.py:3550: LatexWarning: Multiple tex files.\n",
      "\n",
      "  exec(code_obj, self.user_global_ns, self.user_ns)\n",
      "/opt/hostedtoolcache/Python/3.9.23/x64/lib/python3.9/site-packages/IPython/core/interactiveshell.py:3550: LatexWarning: Found documentclass in tmp_2508.13145/main.tex\n",
      "\n",
      "  exec(code_obj, self.user_global_ns, self.user_ns)\n",
      "/opt/hostedtoolcache/Python/3.9.23/x64/lib/python3.9/site-packages/arxiv_on_deck_2/latex.py:414: LatexWarning: Latex injecting: 'tables/occurrence_table' from 'tmp_2508.13145/tables/occurrence_table.tex'\n",
      "  warnings.warn(LatexWarning(f\"Latex injecting: '{ext}' from '{subsource}'\"))\n",
      "/opt/hostedtoolcache/Python/3.9.23/x64/lib/python3.9/site-packages/arxiv_on_deck_2/latex.py:414: LatexWarning: Latex injecting: 'tables/TOI-5293A_RVtable' from 'tmp_2508.13145/tables/TOI-5293A_RVtable.tex'\n",
      "  warnings.warn(LatexWarning(f\"Latex injecting: '{ext}' from '{subsource}'\"))\n",
      "/opt/hostedtoolcache/Python/3.9.23/x64/lib/python3.9/site-packages/arxiv_on_deck_2/latex.py:414: LatexWarning: Latex injecting: 'tables/TOI-3714_RVtable' from 'tmp_2508.13145/tables/TOI-3714_RVtable.tex'\n",
      "  warnings.warn(LatexWarning(f\"Latex injecting: '{ext}' from '{subsource}'\"))\n",
      "/opt/hostedtoolcache/Python/3.9.23/x64/lib/python3.9/site-packages/arxiv_on_deck_2/latex.py:414: LatexWarning: Latex injecting: 'tables/table_results' from 'tmp_2508.13145/tables/table_results.tex'\n",
      "  warnings.warn(LatexWarning(f\"Latex injecting: '{ext}' from '{subsource}'\"))\n",
      "/opt/hostedtoolcache/Python/3.9.23/x64/lib/python3.9/site-packages/arxiv_on_deck_2/latex.py:414: LatexWarning: Latex injecting: 'tables/table_stars' from 'tmp_2508.13145/tables/table_stars.tex'\n",
      "  warnings.warn(LatexWarning(f\"Latex injecting: '{ext}' from '{subsource}'\"))\n",
      "/opt/hostedtoolcache/Python/3.9.23/x64/lib/python3.9/site-packages/arxiv_on_deck_2/latex.py:414: LatexWarning: Latex injecting: 'allauthors' from 'tmp_2508.13145/allauthors.tex'\n",
      "  warnings.warn(LatexWarning(f\"Latex injecting: '{ext}' from '{subsource}'\"))\n"
     ]
    }
   ],
   "source": [
    "documents = []\n",
    "failed = []\n",
    "for paper in tqdm(candidates):\n",
    "    # debug crap\n",
    "    paper['identifier'] = paper['identifier'].lower().replace('arxiv:', '').replace(r'\\n', '').strip()\n",
    "    paper_id = paper['identifier']\n",
    "    \n",
    "    folder = f'tmp_{paper_id}'\n",
    "\n",
    "    try:\n",
    "        if not os.path.isdir(folder):\n",
    "            folder = retrieve_document_source(f\"{paper_id}\", f'tmp_{paper_id}')\n",
    "        \n",
    "        try:\n",
    "            doc = latex.LatexDocument(folder, validation=validation)    \n",
    "        except AffiliationError as affilerror:\n",
    "            msg = f\"ArXiv:{paper_id:s} is not an MPIA paper... \" + str(affilerror)\n",
    "            failed.append((paper, \"affiliation error: \" + str(affilerror) ))\n",
    "            continue\n",
    "        \n",
    "        # Hack because sometimes author parsing does not work well\n",
    "        if (len(doc.authors) != len(paper['authors'])):\n",
    "            doc._authors = paper['authors']\n",
    "        else:\n",
    "            # highlight authors (FIXME: doc.highlight_authors)\n",
    "            # done on arxiv paper already\n",
    "            doc._authors = highlight_authors_in_list(\n",
    "                [get_initials(k) for k in doc.authors], \n",
    "                mpia_authors, verbose=True)\n",
    "        if (doc.abstract) in (None, ''):\n",
    "            doc._abstract = paper['abstract']\n",
    "            \n",
    "        doc.comment = (get_markdown_badge(paper_id) + \n",
    "                       \"<mark>Appeared on: \" + paper['date'] + \"</mark> - \")\n",
    "        if paper['comments']:\n",
    "            doc.comment += \" _\" + paper['comments'] + \"_\"\n",
    "        \n",
    "        full_md = doc.generate_markdown_text()\n",
    "        \n",
    "        full_md += get_markdown_qrcode(paper_id)\n",
    "        \n",
    "        # replace citations\n",
    "        try:\n",
    "            bibdata = latex_bib.LatexBib.from_doc(doc)\n",
    "            full_md = latex_bib.replace_citations(full_md, bibdata)\n",
    "        except Exception as e:\n",
    "            print(\"Issues with the citations\")\n",
    "            print(e)\n",
    "        \n",
    "        documents.append((paper_id, full_md))\n",
    "    except Exception as e:\n",
    "        warnings.warn(latex.LatexWarning(f\"{paper_id:s} did not run properly\\n\" +\n",
    "                                         str(e)\n",
    "                                        ))\n",
    "        failed.append((paper, \"latex error \" + str(e)))"
   ]
  },
  {
   "cell_type": "markdown",
   "id": "2505a25c",
   "metadata": {
    "papermill": {
     "duration": 0.004057,
     "end_time": "2025-08-19T04:14:00.782581",
     "exception": false,
     "start_time": "2025-08-19T04:14:00.778524",
     "status": "completed"
    },
    "tags": []
   },
   "source": [
    "### Export the logs\n",
    "\n",
    "Throughout, we also keep track of the logs per paper. see `logs-{today date}.md` "
   ]
  },
  {
   "cell_type": "code",
   "execution_count": 6,
   "id": "d733828a",
   "metadata": {
    "execution": {
     "iopub.execute_input": "2025-08-19T04:14:00.791616Z",
     "iopub.status.busy": "2025-08-19T04:14:00.791416Z",
     "iopub.status.idle": "2025-08-19T04:14:00.807891Z",
     "shell.execute_reply": "2025-08-19T04:14:00.807252Z"
    },
    "papermill": {
     "duration": 0.02224,
     "end_time": "2025-08-19T04:14:00.808887",
     "exception": false,
     "start_time": "2025-08-19T04:14:00.786647",
     "status": "completed"
    },
    "scrolled": false,
    "tags": []
   },
   "outputs": [
    {
     "data": {
      "text/markdown": [
       "## Successful papers"
      ],
      "text/plain": [
       "<IPython.core.display.Markdown object>"
      ]
     },
     "metadata": {},
     "output_type": "display_data"
    },
    {
     "data": {
      "text/markdown": [
       "\n",
       "|||\n",
       "|---:|:---|\n",
       "| [![arXiv](https://img.shields.io/badge/arXiv-2508.11761-b31b1b.svg)](https://arxiv.org/abs/2508.11761) | **MINDS. Strong oxygen depletion in the inner regions of a very low-mass star disk?**  |\n",
       "|| J. Kanwar, et al. -- incl., <mark>T. Henning</mark> |\n",
       "|*Appeared on*| *2025-08-19*|\n",
       "|*Comments*| *accepted for publication in AandA*|\n",
       "|**Abstract**|            JWST is discovering a plethora of species in planet-forming disks around very low-mass stars such as C2H2, C6H6, C4H2, CH3 etc. The column densities of these species retrieved from 0D slab models are very large, e.g. of the order of $10^{20}$\\,cm$^{-2}$. This is indicating a carbon-dominated chemistry in a gas with a high C/O ratio. The disk around 2MASS-J1605321-1993159 (M4.5) is one such source showing a molecular pseudo-continuum of C2H2. Still two oxygen-bearing molecules, CO and CO2 are also detected in this source. We aim to take the next step beyond 0D slab models to interpret the spectrum. We examine whether 2D thermo-chemical disk models can produce the large inferred column densities of \\ce{C2H2} in the inner regions of the disk and produce a pseudo-continuum in the mid-IR spectrum. We also want to constrain whether depletion of oxygen or enrichment of carbon is causing the high C/O ratio triggering a carbon-dominated chemistry. We utilize the radiative thermo-chemical disk model P{\\tiny RO}D{\\tiny I}M{\\tiny O} to identify a disk structure which is capable of producing the observed molecular emission of species such as CO, CO2, C2H2, and H2O simultaneously. The spectrum is generated using the fast line tracer FLiTs. We derive the gas temperature $\\langle T \\rangle$, column density $\\langle$ log$_{\\rm {10}} N\\rangle$ and the emitting area $\\langle r_{\\rm{1}} - r_{\\rm{2}} \\rangle$ for these molecules from the 2D disk model and compare them to the parameters retrieved originally from 0D slab models. We use the different effect that changing the O or C abundance has on CO and C2H2 respectively to discriminate between O depletion and C enhancement. We find that a disk structure characterised by the presence of a gap can best explain the observations. The inner disk is strongly depleted in dust, especially small grains ($<5\\,\\mu$m), and ..         |"
      ],
      "text/plain": [
       "[2508.11761] MINDS. Strong oxygen depletion in the inner regions of a very low-mass star disk?\n",
       "\tJ. Kanwar, et al. -- incl., <mark>T. Henning</mark>"
      ]
     },
     "metadata": {},
     "output_type": "display_data"
    },
    {
     "data": {
      "text/markdown": [
       "\n",
       "|||\n",
       "|---:|:---|\n",
       "| [![arXiv](https://img.shields.io/badge/arXiv-2508.12601-b31b1b.svg)](https://arxiv.org/abs/2508.12601) | **A Tale of Two Sightlines: Comparison of Hydrocarbon Dust Absorption Bands toward Cygnus OB2-12 and the Galactic Center**  |\n",
       "|| Y. J. Pendleton, et al. -- incl., <mark>J. Bouwman</mark>, <mark>T. Henning</mark> |\n",
       "|*Appeared on*| *2025-08-19*|\n",
       "|*Comments*| *28 pages, 7 figures, accepted by ApJ*|\n",
       "|**Abstract**|            Infrared spectra of hydrocarbon dust absorption bands toward the bright hypergiant Cygnus OB2-12 are compared to published spectra of the Quintuplet Cluster, a sightline to the Galactic center. The Cyg OB2-12 data include a new ground-based 2.86-3.70 microns spectrum and a previously published, but here further analyzed, spectrum of the 5.50-7.34 microns region. Higher spectral resolution data for the Cyg OB2-12 sightline in the 3 micron region allows a detailed comparison of the 3.4 micron aliphatic bands to those observed toward the Quintuplet. Despite differences in interstellar environments along each sightline, strong similarities are observed in the central wavelengths and relative strengths for bands at 3.3, 3.4, 5.85, 6.2, and 6.85 microns. Analysis of these bands, produced by aromatic, aliphatic, olefinic, hydrogenated, and oxygenated components, shows that carbonaceous dust is a significant component of the diffuse interstellar medium, second in abundance only to silicates, and is primarily aromatic in nature. The grains producing these bands likely consist of large aromatic carbon cores with thin aliphatic mantles composed of hydrogenated amorphous carbon (HAC). Laboratory analog spectra reproduce the observed aliphatic absorption bands well, supporting the presence of such mantles. We present evidence that the carriers of both the 3.4 micron aliphatic and the 3.3 micron aromatic bands reside exclusively in the diffuse ISM, and that the 3.3 micron bands observed in the diffuse ISM differ from those seen in dense clouds, implying chemically distinct carriers.         |"
      ],
      "text/plain": [
       "[2508.12601] A Tale of Two Sightlines: Comparison of Hydrocarbon Dust Absorption Bands toward Cygnus OB2-12 and the Galactic Center\n",
       "\tY. J. Pendleton, et al. -- incl., <mark>J. Bouwman</mark>, <mark>T. Henning</mark>"
      ]
     },
     "metadata": {},
     "output_type": "display_data"
    },
    {
     "data": {
      "text/markdown": [
       "## Failed papers"
      ],
      "text/plain": [
       "<IPython.core.display.Markdown object>"
      ]
     },
     "metadata": {},
     "output_type": "display_data"
    },
    {
     "data": {
      "text/markdown": [
       "\n",
       "|||\n",
       "|---:|:---|\n",
       "| [![arXiv](https://img.shields.io/badge/arXiv-2508.13145-b31b1b.svg)](https://arxiv.org/abs/2508.13145) | **Aligned Stellar Obliquities for Two Hot Jupiter-hosting M Dwarfs Revealed by MAROON-X: Implications for Hot Jupiter Formation**  |\n",
       "|| D. Weisserman, et al. -- incl., <mark>L. Kreidberg</mark> |\n",
       "|*Appeared on*| *2025-08-19*|\n",
       "|*Comments*| *Resubmitted to The Astronomical Journal following a positive referee report. 21 pages, 5 figures, 5 tables. Our spectroscopic time series (i.e. Tables 3 & 4) are included as csv files in the arXiv source files*|\n",
       "|**Abstract**|            Hot Jupiters (HJs) are $2-3\\times$ less common around early M dwarfs than around AFGK stars, suggesting that HJs may form and/or migrate via distinct pathways around different types of stars. One source of insight into HJ formation mechanisms is to trace their dynamical histories through measurements of host stellar obliquities via the Rossiter-McLaughlin (RM) effect. Here we present measurements of the RM effect for the HJs TOI-3714 b and TOI-5293 A b using the Gemini-North/MAROON-X spectrograph. Our measurements represent just the second and third hot Jupiters around M dwarfs (HJMD) with a detection of the RM effect. We find that both systems are well-aligned with sky-projected obliquities of $\\lambda = 21^{+14}_{-11}$$\\mathrm{^{\\circ}}$ and $-12^{+19}_{-14}$$\\mathrm{^{\\circ}}$ and deprojected obliquities of $\\psi = 26^{+11}_{-10}$$\\mathrm{^{\\circ}}$ and $24^{+11}_{-10}$$\\mathrm{^{\\circ}}$ for TOI-3714 and TOI-5293 A, respectively. Both stars are in wide binary systems. We refine the stellar parameters by decontaminating their unresolved $K_s$-band photometry and constrain the binary orbits using Gaia DR3 astrometry. We find that the minimum mutual inclination of the planet and binary companion in the TOI-5293 system is sufficiently large to drive Kozai-Lidov (KL) migration while the result for TOI-3714 is inconclusive. We present a population-level analysis of HJs around AFGK versus early M dwarfs and argue that KL migration is more efficient around the latter, which is expected to produce misaligned stellar obliquities in HJMD systems in the absence of efficient tidal damping. The emerging population of well-aligned HJMD hosts supports the expectation that M dwarfs, with their deep convective envelopes, do efficiently dampen misaligned obliquities.         |\n",
       "|<p style=\"color:green\"> **ERROR** </p>| <p style=\"color:green\">affiliation error: mpia.affiliation_verifications: '69117' keyword not found.</p> |"
      ],
      "text/plain": [
       "<IPython.core.display.Markdown object>"
      ]
     },
     "metadata": {},
     "output_type": "display_data"
    },
    {
     "data": {
      "text/markdown": [
       "\n",
       "|||\n",
       "|---:|:---|\n",
       "| [![arXiv](https://img.shields.io/badge/arXiv-2508.13015-b31b1b.svg)](https://arxiv.org/abs/2508.13015) | **Size Distributions of Arcsecond-Scale Properties of Solar Flare Ribbons**  |\n",
       "|| Y. Zhang, R. Liu, W. Wang, <mark>J. Liu</mark> |\n",
       "|*Appeared on*| *2025-08-19*|\n",
       "|*Comments*| *Accepted for publication in The Astrophysical Journal 12 pages, 5 figures, 3 tables*|\n",
       "|**Abstract**|            Solar flare ribbons are believed to map the footpoints of newly reconnected magnetic flux tubes, therefore shedding light on the reconnecting current sheet, which is rarely observed by direct imaging or spectroscopy. Here we study the detailed evolution of flare ribbons down to the arcsecond scale for 10 flares characterized by the classic double ribbons. Identifying the flaring pixels by combining the intensity variances of the UV filter ratio and intensity threshold, we found that the waiting time distributions of the flaring pixels are well described by power laws, distinct from those in the preflare or quiet-Sun regions, and that the power-law slopes are generally consistent with those predicted by nonstationary Poisson processes in the nonlinear regime or by the 2D/3D self-organized criticality (SOC) model. The size distributions for flaring duration also follow power laws but the slopes are more scattered. In contrast, the size distributions for other parameters, including peak intensity, energy, and radial magnetic field strength of the flaring pixels, deviate from power laws, and the estimated slopes significantly differ from the SOC predictions. These results suggest that a nonstationary Poisson process or an avalanche-like process might be ongoing in the temporal dimension in the reconnecting current sheet, but in other aspects, e.g., space- and energy-wise, the avalanche is likely modulated by other physical processes or the fine structures of the reconnecting current sheet.         |\n",
       "|<p style=\"color:green\"> **ERROR** </p>| <p style=\"color:green\">affiliation error: mpia.affiliation_verifications: 'Heidelberg' keyword not found.</p> |"
      ],
      "text/plain": [
       "<IPython.core.display.Markdown object>"
      ]
     },
     "metadata": {},
     "output_type": "display_data"
    },
    {
     "data": {
      "text/markdown": [
       "\n",
       "|||\n",
       "|---:|:---|\n",
       "| [![arXiv](https://img.shields.io/badge/arXiv-2508.13136-b31b1b.svg)](https://arxiv.org/abs/2508.13136) | **The ALPINE-CRISTAL-JWST survey: spatially resolved star formation relations at $z\\sim5$**  |\n",
       "|| C. Accard, et al. -- incl., <mark>J. Li</mark> |\n",
       "|*Appeared on*| *2025-08-19*|\n",
       "|*Comments*| *20 pages, 13 figures*|\n",
       "|**Abstract**|            Star formation governs galaxy evolution, shaping stellar mass assembly and gas consumption across cosmic time. The Kennicutt-Schmidt (KS) relation, linking star formation rate (SFR) and gas surface densities, is fundamental to understand star formation regulation, yet remains poorly constrained at $z > 2$ due to observational limitations and uncertainties in locally calibrated gas tracers. The [CII] $158 {\\rm \\mu m}$ line has recently emerged as a key probe of the cold ISM and star formation in the early Universe. We investigate whether the resolved [CII]-SFR and KS relations established at low redshift remain valid at $4 < z < 6$ by analysing 13 main-sequence galaxies from the ALPINE and CRISTAL surveys, using multi-wavelength data (HST, JWST, ALMA) at $\\sim2$ kpc resolution. We perform pixel-by-pixel spectral energy distribution (SED) modelling with CIGALE on resolution-homogenised images. We develop a statistical framework to fit the [CII]-SFR relation that accounts for pixel covariance and compare our results to classical fitting methods. We test two [CII]-to-gas conversion prescriptions to assess their impact on inferred gas surface densities and depletion times. We find a resolved [CII]-SFR relation with a slope of $0.87 \\pm 0.15$ and intrinsic scatter of $0.19 \\pm 0.03$ dex, which is shallower and tighter than previous studies at $z\\sim5$. The resolved KS relation is highly sensitive to the [CII]-to-gas conversion factor: using a fixed global $\\alpha_{\\rm [CII]}$ yields depletion times of $0.5$-$1$ Gyr, while a surface brightness-dependent $W_{\\rm [CII]}$, places some galaxies with high gas density in the starburst regime ($<0.1$ Gyr). Future inputs from both simulations and observations are required to better understand how the [CII]-to-gas conversion factor depends on local ISM properties. We need to break this fundamental limit to properly study the KS relation at $z\\gtrsim4$.         |\n",
       "|<p style=\"color:green\"> **ERROR** </p>| <p style=\"color:green\">affiliation error: mpia.affiliation_verifications: 'Heidelberg' keyword not found.</p> |"
      ],
      "text/plain": [
       "<IPython.core.display.Markdown object>"
      ]
     },
     "metadata": {},
     "output_type": "display_data"
    },
    {
     "data": {
      "text/markdown": [
       "\n",
       "|||\n",
       "|---:|:---|\n",
       "| [![arXiv](https://img.shields.io/badge/arXiv-2508.12516-b31b1b.svg)](https://arxiv.org/abs/2508.12516) | **The JWST Rocky Worlds DDT Program reveals GJ 3929b to likely be a bare rock**  |\n",
       "|| Q. Xue, et al. -- incl., <mark>M. Zhang</mark> |\n",
       "|*Appeared on*| *2025-08-19*|\n",
       "|*Comments*| *Submitted To AAS*|\n",
       "|**Abstract**|            We report first results from the JWST Rocky Worlds Director's Discretionary Time program. Two secondary eclipses of the terrestrial exoplanet GJ 3929b were recently observed using MIRI photometric imaging at 15 um. We present a reduction of these data using the updated SPARTA pipeline. We also refine the planet mass, radius, and predicted time of secondary eclipse using a new sector of TESS data and new, high-precision radial velocities from the MAROON-X spectrograph. For the two JWST observations, we recover secondary eclipse depths of 177+47-45ppm and 143+34-35ppm at times consistent with a nearly circular orbit, as expected from the radial velocity data. A joint fit of the two visits yields a dayside brightness temperature Tp,dayside = 782+/-79K for GJ 3929b, which is consistent with the maximum brightness temperature Tmax = 737+/-14K for a bare, black rock (i.e., assuming zero Bond albedo and no heat redistribution). These results rule out CO2-rich atmospheres thicker than 100mbar at >3sigma, suggesting that GJ 3929b has lost any significant secondary atmosphere. The radial velocity data also indicate two additional non-transiting planets in the system: a previously-identified planet in a 15.0d orbit, and a newly-identified planet candidate in a 6.1d orbit.         |\n",
       "|<p style=\"color:green\"> **ERROR** </p>| <p style=\"color:green\">affiliation error: mpia.affiliation_verifications: 'Planck' keyword not found.</p> |"
      ],
      "text/plain": [
       "<IPython.core.display.Markdown object>"
      ]
     },
     "metadata": {},
     "output_type": "display_data"
    }
   ],
   "source": [
    "import datetime\n",
    "today = str(datetime.date.today())\n",
    "logfile = f\"_build/html/logs/log-{today}.md\"\n",
    "\n",
    "\n",
    "with open(logfile, 'w') as logs:\n",
    "    # Success\n",
    "    logs.write(f'# Arxiv on Deck 2: Logs - {today}\\n\\n')\n",
    "    logs.write(\"\"\"* Arxiv had {0:,d} new papers\\n\"\"\".format(len(new_papers)))\n",
    "    logs.write(\"\"\"    * {0:,d} with possible author matches\\n\\n\"\"\".format(len(candidates)))\n",
    "    logs.write(\"## Sucessful papers\\n\\n\")\n",
    "    display(Markdown(\"## Successful papers\"))\n",
    "    success = [k[0] for k in documents]\n",
    "    for candid in candidates:\n",
    "        if candid['identifier'].split(':')[-1] in success:\n",
    "            display(candid)\n",
    "            logs.write(candid.generate_markdown_text() + '\\n\\n')\n",
    "\n",
    "    ## failed\n",
    "    logs.write(\"## Failed papers\\n\\n\")\n",
    "    display(Markdown(\"## Failed papers\"))\n",
    "    failed = sorted(failed, key=lambda x: x[1])\n",
    "    current_reason = \"\"\n",
    "    for paper, reason in failed:\n",
    "        if 'affiliation' in reason:\n",
    "            color = 'green'\n",
    "        else:\n",
    "            color = 'red'\n",
    "        data = Markdown(\n",
    "                paper.generate_markdown_text() + \n",
    "                f'\\n|<p style=\"color:{color:s}\"> **ERROR** </p>| <p style=\"color:{color:s}\">{reason:s}</p> |'\n",
    "               )\n",
    "        if reason != current_reason:\n",
    "            logs.write(f'### {reason:s} \\n\\n')\n",
    "            current_reason = reason\n",
    "        logs.write(data.data + '\\n\\n')\n",
    "        \n",
    "        # only display here the important errors (all in logs)\n",
    "        # if color in ('red',):\n",
    "        display(data)"
   ]
  },
  {
   "cell_type": "markdown",
   "id": "472d20ee",
   "metadata": {
    "papermill": {
     "duration": 0.004832,
     "end_time": "2025-08-19T04:14:00.818652",
     "exception": false,
     "start_time": "2025-08-19T04:14:00.813820",
     "status": "completed"
    },
    "tags": []
   },
   "source": [
    "## Export documents\n",
    "\n",
    "We now write the .md files and export relevant images"
   ]
  },
  {
   "cell_type": "code",
   "execution_count": 7,
   "id": "d426aed9",
   "metadata": {
    "execution": {
     "iopub.execute_input": "2025-08-19T04:14:00.829071Z",
     "iopub.status.busy": "2025-08-19T04:14:00.828885Z",
     "iopub.status.idle": "2025-08-19T04:14:00.835325Z",
     "shell.execute_reply": "2025-08-19T04:14:00.834787Z"
    },
    "papermill": {
     "duration": 0.012757,
     "end_time": "2025-08-19T04:14:00.836276",
     "exception": false,
     "start_time": "2025-08-19T04:14:00.823519",
     "status": "completed"
    },
    "tags": []
   },
   "outputs": [],
   "source": [
    "def export_markdown_summary(md: str, md_fname:str, directory: str):\n",
    "    \"\"\"Export MD document and associated relevant images\"\"\"\n",
    "    import os\n",
    "    import shutil\n",
    "    import re\n",
    "\n",
    "    if (os.path.exists(directory) and not os.path.isdir(directory)):\n",
    "        raise RuntimeError(f\"a non-directory file exists with name {directory:s}\")\n",
    "\n",
    "    if (not os.path.exists(directory)):\n",
    "        print(f\"creating directory {directory:s}\")\n",
    "        os.mkdir(directory)\n",
    "\n",
    "    fig_fnames = (re.compile(r'\\[Fig.*\\]\\((.*)\\)').findall(md) + \n",
    "                  re.compile(r'\\<img src=\"([^>\\s]*)\"[^>]*/>').findall(md))\n",
    "    print(\"found figures\", fig_fnames)\n",
    "    for fname in fig_fnames:\n",
    "        if 'http' in fname:\n",
    "            # No need to copy online figures\n",
    "            continue\n",
    "        if not os.path.exists(fname):\n",
    "            print(\"file not found\", fname)\n",
    "            continue\n",
    "        print(\"copying \", fname, \"to\", directory)\n",
    "        destdir = os.path.join(directory, os.path.dirname(fname))\n",
    "        destfname = os.path.join(destdir, os.path.basename(fname))\n",
    "        try:\n",
    "            os.makedirs(destdir)\n",
    "        except FileExistsError:\n",
    "            pass\n",
    "        shutil.copy(fname, destfname)\n",
    "    with open(os.path.join(directory, md_fname), 'w') as fout:\n",
    "        fout.write(md)\n",
    "    print(\"exported in \", os.path.join(directory, md_fname))\n",
    "    [print(\"    + \" + os.path.join(directory,fk)) for fk in fig_fnames]"
   ]
  },
  {
   "cell_type": "code",
   "execution_count": 8,
   "id": "014d04a4",
   "metadata": {
    "execution": {
     "iopub.execute_input": "2025-08-19T04:14:00.847163Z",
     "iopub.status.busy": "2025-08-19T04:14:00.846970Z",
     "iopub.status.idle": "2025-08-19T04:14:00.852744Z",
     "shell.execute_reply": "2025-08-19T04:14:00.852098Z"
    },
    "papermill": {
     "duration": 0.012508,
     "end_time": "2025-08-19T04:14:00.853716",
     "exception": false,
     "start_time": "2025-08-19T04:14:00.841208",
     "status": "completed"
    },
    "tags": []
   },
   "outputs": [
    {
     "name": "stdout",
     "output_type": "stream",
     "text": [
      "found figures ['tmp_2508.11761/./CO_blowup.png', 'tmp_2508.11761/./spectrum_new.png', '', '', '', '']\n",
      "copying  tmp_2508.11761/./CO_blowup.png to _build/html/\n",
      "copying  tmp_2508.11761/./spectrum_new.png to _build/html/\n",
      "file not found \n",
      "file not found \n",
      "file not found \n",
      "file not found \n",
      "exported in  _build/html/2508.11761.md\n",
      "    + _build/html/tmp_2508.11761/./CO_blowup.png\n",
      "    + _build/html/tmp_2508.11761/./spectrum_new.png\n",
      "    + _build/html/\n",
      "    + _build/html/\n",
      "    + _build/html/\n",
      "    + _build/html/\n",
      "found figures ['tmp_2508.12601/./Figures/fig3.png', 'tmp_2508.12601/./Figures/fig6.png', 'tmp_2508.12601/./Figures/fig1.png']\n",
      "copying  tmp_2508.12601/./Figures/fig3.png to _build/html/\n",
      "copying  tmp_2508.12601/./Figures/fig6.png to _build/html/\n",
      "copying  tmp_2508.12601/./Figures/fig1.png to _build/html/\n",
      "exported in  _build/html/2508.12601.md\n",
      "    + _build/html/tmp_2508.12601/./Figures/fig3.png\n",
      "    + _build/html/tmp_2508.12601/./Figures/fig6.png\n",
      "    + _build/html/tmp_2508.12601/./Figures/fig1.png\n"
     ]
    }
   ],
   "source": [
    "for paper_id, md in documents:\n",
    "    export_markdown_summary(md, f\"{paper_id:s}.md\", '_build/html/')"
   ]
  },
  {
   "cell_type": "markdown",
   "id": "f087a0a7",
   "metadata": {
    "papermill": {
     "duration": 0.004875,
     "end_time": "2025-08-19T04:14:00.863615",
     "exception": false,
     "start_time": "2025-08-19T04:14:00.858740",
     "status": "completed"
    },
    "tags": []
   },
   "source": [
    "## Display the papers\n",
    "\n",
    "Not necessary but allows for a quick check."
   ]
  },
  {
   "cell_type": "code",
   "execution_count": 9,
   "id": "fd25f625",
   "metadata": {
    "execution": {
     "iopub.execute_input": "2025-08-19T04:14:00.874209Z",
     "iopub.status.busy": "2025-08-19T04:14:00.874018Z",
     "iopub.status.idle": "2025-08-19T04:14:00.879540Z",
     "shell.execute_reply": "2025-08-19T04:14:00.878890Z"
    },
    "papermill": {
     "duration": 0.012072,
     "end_time": "2025-08-19T04:14:00.880627",
     "exception": false,
     "start_time": "2025-08-19T04:14:00.868555",
     "status": "completed"
    },
    "scrolled": false,
    "tags": []
   },
   "outputs": [
    {
     "data": {
      "text/markdown": [
       "<div class=\"macros\" style=\"visibility:hidden;\">\n",
       "$\\newcommand{\\ensuremath}{}$\n",
       "$\\newcommand{\\xspace}{}$\n",
       "$\\newcommand{\\object}[1]{\\texttt{#1}}$\n",
       "$\\newcommand{\\farcs}{{.}''}$\n",
       "$\\newcommand{\\farcm}{{.}'}$\n",
       "$\\newcommand{\\arcsec}{''}$\n",
       "$\\newcommand{\\arcmin}{'}$\n",
       "$\\newcommand{\\ion}[2]{#1#2}$\n",
       "$\\newcommand{\\textsc}[1]{\\textrm{#1}}$\n",
       "$\\newcommand{\\hl}[1]{\\textrm{#1}}$\n",
       "$\\newcommand{\\footnote}[1]{}$\n",
       "$\\newcommand{\\ikc}[1]{\\textcolor{green}{\\textsf{#1 }}}$\n",
       "$\\newcommand{\\jk}[1]{\\textcolor{purple}{\\rm #1^{(\\rm new)}}}$</div>\n",
       "\n",
       "\n",
       "\n",
       "<div id=\"title\">\n",
       "\n",
       "# MINDS. Strong oxygen depletion in the inner regions of a very low-mass star disk?\n",
       "\n",
       "</div>\n",
       "<div id=\"comments\">\n",
       "\n",
       "[![arXiv](https://img.shields.io/badge/arXiv-2508.11761-b31b1b.svg)](https://arxiv.org/abs/2508.11761)<mark>Appeared on: 2025-08-19</mark> -  _accepted for publication in AandA_\n",
       "\n",
       "</div>\n",
       "<div id=\"authors\">\n",
       "\n",
       "J. Kanwar, et al. -- incl., <mark>T. Henning</mark>\n",
       "\n",
       "</div>\n",
       "<div id=\"abstract\">\n",
       "\n",
       "**Abstract:** JWST is discovering a plethora of species in planet-forming disks around very low-mass stars such as $\\ce{C2H2}$ , $\\ce{C6H6}$ , $\\ce{C4H2}$ , $\\ce{CH3}$ etc. The column densities of these species retrieved from 0D slab models are very large, e.g. of the order of $10^{20}$ cm $^{-2}$ . This is indicating a carbon-dominated chemistry in a gas with a high C/O ratio. The disk around 2MASS-J1605321-1993159 (M4.5) is one such source showing a molecular pseudo-continuum of $\\ce{C2H2}$ . Still two oxygen-bearing molecules, CO and $\\ce{CO2}$ are also detected in this source. We aim to take the next step beyond 0D slab models to interpret the spectrum. We examine whether 2D thermo-chemical disk models can produce the large inferred column densities of $\\ce{C2H2}$ in the inner regions of the disk and produce a pseudo-continuum in the mid-IR spectrum. We also want to constrain  whether depletion of oxygen or enrichment of carbon is causing the high C/O ratio triggering a carbon-dominated chemistry. We utilize the radiative thermo-chemical disk model P ${\\tiny RO}$ D ${\\tiny I}$ M ${\\tiny O}$ to identify a disk structure which is capable of producing the observed molecular emission of species such as CO, $\\ce{CO2}$ , $\\ce{C2H2}$ , and $\\ce{H2O}$ simultaneously. The spectrum is generated using the fast line tracer FLiTs. We derive the gas temperature $\\langle T \\rangle$ , column density $\\langle$ log $_{\\rm{10}} N\\rangle$ and the emitting area $\\langle r_{\\rm{1}} - r_{\\rm{2}} \\rangle$ for these molecules from the 2D disk model and compare them to the parameters retrieved originally from 0D slab models. We use the different effect that changing the O or C abundance has on $\\ce{CO}$ and $\\ce{C2H2}$ respectively to discriminate between O depletion and C enhancement. We find that a disk structure characterised by the presence of a gap can best explain the observations. The inner disk is strongly depleted in dust, especially small grains ( $<5 \\mu$ m), and elemental oxygen, leading to a large C/O ratio. This is required to produce a molecular pseudo-continuum of $\\ce{C2H2}$ and at the same time a relatively weak $\\ce{CO}$ emission. The P- and R-branch of $\\ce{C2H2}$ probe deeper layers of the disk whereas the Q-branch probes mostly the surface layers. The combined emission of CO and $\\ce{CO2}$ puts strong constraints on the gap's location (0.1-0.5 au) given a disk gas mass. We report here also the new detection of the CO $\\nu$ = 2 $\\rightarrow$ 1 transition in the JWST spectrum. 2D thermo-chemical disk models are able to produce the observed molecular pseudo-continuum of $\\ce{C2H2}$ . We find that the combination of different species emission in the JWST spectra can be used to discriminate between different scenarios such as O-depletion, C-enhancement or both and offers the potential to extract spatial substructure at scales smaller than $\\sim 1$ au.\n",
       "\n",
       "</div>\n",
       "\n",
       "<div id=\"div_fig1\">\n",
       "\n",
       "<img src=\"tmp_2508.11761/./CO_blowup.png\" alt=\"Fig9\" width=\"100%\"/>\n",
       "\n",
       "**Figure 9. -** The zoom-in JWST/MIRI MRS spectrum (black) showing CO emission. The emission of CO from the best thermo-chemical model convolved to 3500 and resampled to JWST-MIRI/MRS resolution is shown in brown. The H {\\sc i} 10-6 line is marked in grey. (*CO*)\n",
       "\n",
       "</div>\n",
       "<div id=\"div_fig2\">\n",
       "\n",
       "<img src=\"tmp_2508.11761/./spectrum_new.png\" alt=\"Fig23\" width=\"100%\"/>\n",
       "\n",
       "**Figure 23. -** The modelled spectrum of the best disk model convolved and resampled to the JWST-MIRI/MRS resolution and compared to the continuum subtracted observed spectrum. \\citet[Extended Data Figure 5]{Tabone2023} provide two different continua and therefore, we use the continuum from their middle panel to depict \\ce{C2H2} and \\ce{CH4} whereas the continuum from their bottom panel is used to depict the rest of the molecules. The solid black line depicts the region where the modeled fluxes approximately match the observations. These are the regions where little effect from blending is expected. (*spectrum*)\n",
       "\n",
       "</div>\n",
       "<div id=\"div_fig3\">\n",
       "\n",
       "<img src=\"\" alt=\"Fig5.1\" width=\"25%\"/><img src=\"\" alt=\"Fig5.2\" width=\"25%\"/><img src=\"\" alt=\"Fig5.3\" width=\"25%\"/><img src=\"\" alt=\"Fig5.4\" width=\"25%\"/>\n",
       "\n",
       "**Figure 5. -** Vibrational stability equation of state\n",
       "               $S_{\\mathrm{vib}}(\\lg e, \\lg \\rho)$.\n",
       "               $>0$ means vibrational stability.\n",
       "              Vibrational stability equation of state\n",
       "               $S_{\\mathrm{vib}}(\\lg e, \\lg \\rho)$.\n",
       "               $>0$ means vibrational stability.\n",
       "              Nonlinear Model ResultsNonlinear Model ResultsSpectral types and photometry for stars in the\n",
       "  region.Spectral types and photometry for stars in the\n",
       "  region.List of nearby SNe used in this work.Summary for ISOCAM sources with mid-IR excess\n",
       "(YSO candidates).Summary for ISOCAM sources with mid-IR excess\n",
       "(YSO candidates). Sample stars with absolute magnitudecontinued. Sample stars with absolute magnitudecontinued.Shown in greyscale is a...Plotted above...Complexes characterisation.Line data and abundances ...Continued. (*FigVibStab*)\n",
       "\n",
       "</div><div id=\"qrcode\"><img src=https://api.qrserver.com/v1/create-qr-code/?size=100x100&data=\"https://arxiv.org/abs/2508.11761\"></div>"
      ],
      "text/plain": [
       "<IPython.core.display.Markdown object>"
      ]
     },
     "metadata": {},
     "output_type": "display_data"
    },
    {
     "data": {
      "text/markdown": [
       "<div class=\"macros\" style=\"visibility:hidden;\">\n",
       "$\\newcommand{\\ensuremath}{}$\n",
       "$\\newcommand{\\xspace}{}$\n",
       "$\\newcommand{\\object}[1]{\\texttt{#1}}$\n",
       "$\\newcommand{\\farcs}{{.}''}$\n",
       "$\\newcommand{\\farcm}{{.}'}$\n",
       "$\\newcommand{\\arcsec}{''}$\n",
       "$\\newcommand{\\arcmin}{'}$\n",
       "$\\newcommand{\\ion}[2]{#1#2}$\n",
       "$\\newcommand{\\textsc}[1]{\\textrm{#1}}$\n",
       "$\\newcommand{\\hl}[1]{\\textrm{#1}}$\n",
       "$\\newcommand{\\footnote}[1]{}$\n",
       "$\\newcommand{\\vdag}{(v)^\\dagger}$\n",
       "$\\newcommand$\n",
       "$\\newcommand$\n",
       "$\\newcommand{\\Ou}{`Oumuamua}$\n",
       "$\\newcommand{\\choh}{CH_3OH }$\n",
       "$\\newcommand{\\hto}{H_2O }$\n",
       "$\\newcommand{\\chisq}{\\chi^2 }$\n",
       "$\\newcommand{\\Av}{A_V }$\n",
       "$\\newcommand{\\Ak}{A_K }$\n",
       "$\\newcommand{\\cm}{cm^{-3} }$\n",
       "$\\newcommand{\\mum}{\\textmu m}$\n",
       "$\\newcommand{\\arcm}{\\mbox{\\ensuremath{.\\mkern-4mu^\\prime}}}$\n",
       "$\\newcommand{\\arcs}{\\mbox{\\ensuremath{.\\!\\!^{\\prime\\prime}}}}$\n",
       "$\\newcommand{\\arcd}{\\mbox{\\ensuremath{.\\!\\!^\\circ}}}$\n",
       "$\\newcommand{\\degs}{\\ensuremath{^{\\circ}}}$\n",
       "$\\newcommand{\\Lsun}{\\ensuremath{L_\\odot}}$\n",
       "$\\newcommand{\\Msun}{\\ensuremath{M_\\odot}}$\n",
       "$\\newcommand{\\eg}{e.g.,}$\n",
       "$\\newcommand{\\ie}{i. e. }$\n",
       "$\\newcommand{\\hawaii}{Hawai\\!`i}$</div>\n",
       "\n",
       "\n",
       "\n",
       "<div id=\"title\">\n",
       "\n",
       "# A Tale of Two Sightlines: Comparison of Hydrocarbon Dust Absorption Bands toward Cygnus OB2-12 and the Galactic Center\n",
       "\n",
       "</div>\n",
       "<div id=\"comments\">\n",
       "\n",
       "[![arXiv](https://img.shields.io/badge/arXiv-2508.12601-b31b1b.svg)](https://arxiv.org/abs/2508.12601)<mark>Appeared on: 2025-08-19</mark> -  _28 pages, 7 figures, accepted by ApJ_\n",
       "\n",
       "</div>\n",
       "<div id=\"authors\">\n",
       "\n",
       "Y. J. Pendleton, et al. -- incl., <mark>J. Bouwman</mark>, <mark>T. Henning</mark>\n",
       "\n",
       "</div>\n",
       "<div id=\"abstract\">\n",
       "\n",
       "**Abstract:** Infrared spectra of hydrocarbon dust absorption bands toward the bright hypergiant Cygnus OB2-12 are compared to published spectra of the Quintuplet Cluster, a sightline to the Galactic center. The Cyg OB2-12 data include a new ground-based 2.86 $-$ 3.70 $\\mum$ spectrum and a previously published, but here further analyzed, spectrum of the 5.50--7.34 $\\mum$ region. Higher spectral resolution data for the  Cyg OB2-12 sightline in the 3 $\\mum$ region allows a detailed comparison of the 3.4 $\\mum$ aliphatic bands to those observed toward the Quintuplet. Despite differences in interstellar environments along each sightline, strong similarities are observed  in the central wavelengths and relative strengths for bands at $\\sim$ 3.3, 3.4, 5.85, 6.2, and 6.85 $\\mum$ . Analysis of these bands, produced by aromatic, aliphatic, olefinic, hydrogenated, and oxygenated components, shows that carbonaceous dust is a significant component of the diffuse interstellar medium, second in abundance only to silicates, and is primarily aromatic in nature. The grains producing these bands likely consist of large aromatic carbon cores with thin aliphatic mantles composed of hydrogenated amorphous carbon (HAC). Laboratory analog spectra reproduce the observed aliphatic absorption bands well, supporting the presence of such mantles. We present evidence that the carriers of both the 3.4 $\\mum$ aliphatic and the 3.3 $\\mum$ aromatic bands reside exclusively in the diffuse ISM, and that the 3.3 $\\mum$ bands observed in the diffuse ISM differ from those seen in dense clouds, implying chemically distinct carriers. $\\keywords{astrochemistry---dust,extinction---ISM:molecules---ISM:lines and bands---infrared:ISM---techniques:spectroscopic}$\n",
       "\n",
       "</div>\n",
       "\n",
       "<div id=\"div_fig1\">\n",
       "\n",
       "<img src=\"tmp_2508.12601/./Figures/fig3.png\" alt=\"Fig1\" width=\"100%\"/>\n",
       "\n",
       "**Figure 1. -** Optical depth spectra of Cyg OB2-12 (black) and Quintuplet (blue) sightlines.  Both the near-IR and mid-IR optical depth spectra of the Quintuplet \\cite[both from][]{chiar2013structure} are divided by 3.5 so that the strengths of the 3.4 $\\mum$ match and thus facilitate comparison of relative band intensities. The continuum level of the mid-IR spectrum of the Quintuplet is slightly shifted from that in chiar2013structure as discussed in the text. (*fig:fig3*)\n",
       "\n",
       "</div>\n",
       "<div id=\"div_fig2\">\n",
       "\n",
       "<img src=\"tmp_2508.12601/./Figures/fig6.png\" alt=\"Fig2\" width=\"100%\"/>\n",
       "\n",
       "**Figure 2. -** \n",
       "Comparison of spectral profiles of the 3.3 $\\mum$ absorption bands towards Cyg OB2-12 (red) and the GC Quintuplet (blue; data from Figure \\ref{fig:fig3}, this paper), and the 3.25 $\\mum$ band in the deeply embedded YSO Mon R2 IRS3 \\citep[][shown with its Gaussian fit, both in gray]{sellgren95}. The Gaussian used to fit the 3.3 $\\mum$ bands in the spectra of Cyg OB2-12 and the Quintuplet is shown in black.  (*fig:fig6*)\n",
       "\n",
       "</div>\n",
       "<div id=\"div_fig3\">\n",
       "\n",
       "<img src=\"tmp_2508.12601/./Figures/fig1.png\" alt=\"Fig3\" width=\"100%\"/>\n",
       "\n",
       "**Figure 3. -** The 2.86$-$3.70 $\\mum$ optical depth spectrum of Cyg OB2-12 obtained with SpeX on the NASA IRTF. The spectrum is displayed at a resolution of 0.004 $\\mum$. Telluric line residuals were removed as described in \\S \\ref{sec: NIR obs}. Three $\\ion${H}{1}  Pfund series (_ n_$-$5) absorption lines and a weak $\\ion${He}{2} emission line are labeled. The wavelengths of the  $\\ion${H}{1}  Humphreys series (_ n_$-$6) lines and the series limit at 3.283 $\\mum$ are indicated by short vertical lines. Data points in the interval  3.31$-$3.32 $\\mum$ are spurious  due to incomplete correction of the nearly totally opaque telluric absorption by closely spaced lines of the methane $\\nu_{3}$ Q-branch, and are not shown. The noise level varies with wavelength but can be estimated from the point to point fluctuations in the signal in regions devoid of absorption features, such as 2.90$-$3.00 $\\mum$ and 3.12$-$3.20 $\\mum$. (*fig:fig1*)\n",
       "\n",
       "</div><div id=\"qrcode\"><img src=https://api.qrserver.com/v1/create-qr-code/?size=100x100&data=\"https://arxiv.org/abs/2508.12601\"></div>"
      ],
      "text/plain": [
       "<IPython.core.display.Markdown object>"
      ]
     },
     "metadata": {},
     "output_type": "display_data"
    }
   ],
   "source": [
    "[display(Markdown(k[1])) for k in documents];"
   ]
  },
  {
   "cell_type": "markdown",
   "id": "873873a4",
   "metadata": {
    "papermill": {
     "duration": 0.005311,
     "end_time": "2025-08-19T04:14:00.891471",
     "exception": false,
     "start_time": "2025-08-19T04:14:00.886160",
     "status": "completed"
    },
    "tags": []
   },
   "source": [
    "# Create HTML index"
   ]
  },
  {
   "cell_type": "code",
   "execution_count": 10,
   "id": "cf665672",
   "metadata": {
    "execution": {
     "iopub.execute_input": "2025-08-19T04:14:00.902723Z",
     "iopub.status.busy": "2025-08-19T04:14:00.902542Z",
     "iopub.status.idle": "2025-08-19T04:14:00.909615Z",
     "shell.execute_reply": "2025-08-19T04:14:00.909067Z"
    },
    "papermill": {
     "duration": 0.013866,
     "end_time": "2025-08-19T04:14:00.910605",
     "exception": false,
     "start_time": "2025-08-19T04:14:00.896739",
     "status": "completed"
    },
    "tags": []
   },
   "outputs": [
    {
     "name": "stdout",
     "output_type": "stream",
     "text": [
      "129  publications files modified in the last 7 days.\n"
     ]
    }
   ],
   "source": [
    "from datetime import datetime, timedelta, timezone\n",
    "from glob import glob\n",
    "import os\n",
    "\n",
    "files = glob('_build/html/*.md')\n",
    "days = 7\n",
    "now = datetime.today()\n",
    "res = []\n",
    "for fk in files:\n",
    "    stat_result = os.stat(fk).st_ctime\n",
    "    modified = datetime.fromtimestamp(stat_result, tz=timezone.utc).replace(tzinfo=None)\n",
    "    delta = now.today() - modified\n",
    "    if delta <= timedelta(days=days):\n",
    "        res.append((delta.seconds, fk))\n",
    "res = [k[1] for k in reversed(sorted(res, key=lambda x:x[1]))]\n",
    "npub = len(res)\n",
    "print(len(res), f\" publications files modified in the last {days:d} days.\")\n",
    "# [ print('\\t', k) for k in res ];"
   ]
  },
  {
   "cell_type": "code",
   "execution_count": 11,
   "id": "015de740",
   "metadata": {
    "execution": {
     "iopub.execute_input": "2025-08-19T04:14:00.922145Z",
     "iopub.status.busy": "2025-08-19T04:14:00.921927Z",
     "iopub.status.idle": "2025-08-19T04:14:00.933775Z",
     "shell.execute_reply": "2025-08-19T04:14:00.933241Z"
    },
    "papermill": {
     "duration": 0.01875,
     "end_time": "2025-08-19T04:14:00.934743",
     "exception": false,
     "start_time": "2025-08-19T04:14:00.915993",
     "status": "completed"
    },
    "tags": []
   },
   "outputs": [
    {
     "name": "stdout",
     "output_type": "stream",
     "text": [
      "7  publications in the last 7 days.\n"
     ]
    }
   ],
   "source": [
    "import datetime\n",
    "from glob import glob\n",
    "\n",
    "def get_last_n_days(lst, days=1):\n",
    "    \"\"\" Get the documents from the last n days \"\"\"\n",
    "    sorted_lst = sorted(lst, key=lambda x: x[1], reverse=True)\n",
    "    for fname, date in sorted_lst:\n",
    "        if date >= str(datetime.date.today() - datetime.timedelta(days=days)):\n",
    "            yield fname\n",
    "\n",
    "def extract_appearance_dates(lst_file):\n",
    "    dates = []\n",
    "\n",
    "    def get_date(line):\n",
    "        return line\\\n",
    "            .split('Appeared on:')[-1]\\\n",
    "            .split('</mark>')[0].strip()\n",
    "\n",
    "    for fname in lst:\n",
    "        with open(fname, 'r') as f:\n",
    "            found_date = False\n",
    "            for line in f:\n",
    "                if not found_date:\n",
    "                    if \"Appeared on\" in line:\n",
    "                        found_date = True\n",
    "                        dates.append((fname, get_date(line)))\n",
    "                else:\n",
    "                    break\n",
    "    return dates\n",
    "\n",
    "from glob import glob\n",
    "lst = glob('_build/html/*md')\n",
    "days = 7\n",
    "dates = extract_appearance_dates(lst)\n",
    "res = list(get_last_n_days(dates, days))\n",
    "npub = len(res)\n",
    "print(len(res), f\" publications in the last {days:d} days.\")"
   ]
  },
  {
   "cell_type": "code",
   "execution_count": 12,
   "id": "52ca0208",
   "metadata": {
    "execution": {
     "iopub.execute_input": "2025-08-19T04:14:00.946479Z",
     "iopub.status.busy": "2025-08-19T04:14:00.946288Z",
     "iopub.status.idle": "2025-08-19T04:14:00.950859Z",
     "shell.execute_reply": "2025-08-19T04:14:00.950294Z"
    },
    "papermill": {
     "duration": 0.011564,
     "end_time": "2025-08-19T04:14:00.951838",
     "exception": false,
     "start_time": "2025-08-19T04:14:00.940274",
     "status": "completed"
    },
    "scrolled": false,
    "tags": []
   },
   "outputs": [],
   "source": [
    "def create_carousel(npub=4):\n",
    "    \"\"\" Generate the HTML code for a carousel with `npub` slides \"\"\"\n",
    "    carousel = [\"\"\"  <div class=\"carousel\" \"\"\",\n",
    "                \"\"\"       data-flickity='{ \"autoPlay\": 10000, \"adaptiveHeight\": true, \"resize\": true, \"wrapAround\": true, \"pauseAutoPlayOnHover\": true, \"groupCells\": 1 }' id=\"asyncTypeset\">\"\"\"\n",
    "                ]\n",
    "    \n",
    "    item_str = \"\"\"    <div class=\"carousel-cell\"> <div id=\"slide{k}\" class=\"md_view\">Content {k}</div> </div>\"\"\"\n",
    "    for k in range(1, npub + 1):\n",
    "        carousel.append(item_str.format(k=k))\n",
    "    carousel.append(\"  </div>\")\n",
    "    return '\\n'.join(carousel)\n",
    "\n",
    "def create_grid(npub=4):\n",
    "    \"\"\" Generate the HTML code for a flat grid with `npub` slides \"\"\"\n",
    "    grid = [\"\"\"  <div class=\"grid\"> \"\"\",\n",
    "                ]\n",
    "    \n",
    "    item_str = \"\"\"    <div class=\"grid-item\"> <div id=\"slide{k}\" class=\"md_view\">Content {k}</div> </div>\"\"\"\n",
    "    for k in range(1, npub + 1):\n",
    "        grid.append(item_str.format(k=k))\n",
    "    grid.append(\"  </div>\")\n",
    "    return '\\n'.join(grid)"
   ]
  },
  {
   "cell_type": "code",
   "execution_count": 13,
   "id": "a6eac5b6",
   "metadata": {
    "execution": {
     "iopub.execute_input": "2025-08-19T04:14:00.963608Z",
     "iopub.status.busy": "2025-08-19T04:14:00.963414Z",
     "iopub.status.idle": "2025-08-19T04:14:00.968397Z",
     "shell.execute_reply": "2025-08-19T04:14:00.967756Z"
    },
    "papermill": {
     "duration": 0.012137,
     "end_time": "2025-08-19T04:14:00.969476",
     "exception": false,
     "start_time": "2025-08-19T04:14:00.957339",
     "status": "completed"
    },
    "scrolled": false,
    "tags": []
   },
   "outputs": [],
   "source": [
    "carousel = create_carousel(npub)\n",
    "docs = ', '.join(['\"{0:s}\"'.format(k.split('/')[-1]) for k in res])\n",
    "slides = ', '.join([f'\"slide{k}\"' for k in range(1, npub + 1)])\n",
    "\n",
    "with open(\"daily_template.html\", \"r\") as tpl:\n",
    "    page = tpl.read()\n",
    "    page = page.replace(\"{%-- carousel:s --%}\", carousel)\\\n",
    "               .replace(\"{%-- suptitle:s --%}\",  \"7-day archives\" )\\\n",
    "               .replace(\"{%-- docs:s --%}\", docs)\\\n",
    "               .replace(\"{%-- slides:s --%}\", slides)\n",
    "    \n",
    "with open(\"_build/html/index_7days.html\", 'w') as fout:\n",
    "    fout.write(page)"
   ]
  },
  {
   "cell_type": "code",
   "execution_count": 14,
   "id": "adc1a1ec",
   "metadata": {
    "execution": {
     "iopub.execute_input": "2025-08-19T04:14:00.981462Z",
     "iopub.status.busy": "2025-08-19T04:14:00.981205Z",
     "iopub.status.idle": "2025-08-19T04:14:00.987215Z",
     "shell.execute_reply": "2025-08-19T04:14:00.986610Z"
    },
    "papermill": {
     "duration": 0.013132,
     "end_time": "2025-08-19T04:14:00.988189",
     "exception": false,
     "start_time": "2025-08-19T04:14:00.975057",
     "status": "completed"
    },
    "tags": []
   },
   "outputs": [
    {
     "name": "stdout",
     "output_type": "stream",
     "text": [
      "2  publications in the last day.\n"
     ]
    }
   ],
   "source": [
    "# redo for today\n",
    "days = 1\n",
    "res = list(get_last_n_days(dates, days))\n",
    "npub = len(res)\n",
    "print(len(res), f\" publications in the last day.\")\n",
    "\n",
    "carousel = create_carousel(npub)\n",
    "docs = ', '.join(['\"{0:s}\"'.format(k.split('/')[-1]) for k in res])\n",
    "slides = ', '.join([f'\"slide{k}\"' for k in range(1, npub + 1)])\n",
    "\n",
    "with open(\"daily_template.html\", \"r\") as tpl:\n",
    "    page = tpl.read()\n",
    "    page = page.replace(\"{%-- carousel:s --%}\", carousel)\\\n",
    "               .replace(\"{%-- suptitle:s --%}\",  \"Daily\" )\\\n",
    "               .replace(\"{%-- docs:s --%}\", docs)\\\n",
    "               .replace(\"{%-- slides:s --%}\", slides)\n",
    "    \n",
    "# print(carousel, docs, slides)\n",
    "# print(page)\n",
    "with open(\"_build/html/index_daily.html\", 'w') as fout:\n",
    "    fout.write(page)"
   ]
  },
  {
   "cell_type": "code",
   "execution_count": 15,
   "id": "00eece82",
   "metadata": {
    "execution": {
     "iopub.execute_input": "2025-08-19T04:14:01.000305Z",
     "iopub.status.busy": "2025-08-19T04:14:01.000091Z",
     "iopub.status.idle": "2025-08-19T04:14:01.006213Z",
     "shell.execute_reply": "2025-08-19T04:14:01.005673Z"
    },
    "papermill": {
     "duration": 0.013249,
     "end_time": "2025-08-19T04:14:01.007166",
     "exception": false,
     "start_time": "2025-08-19T04:14:00.993917",
     "status": "completed"
    },
    "scrolled": false,
    "tags": []
   },
   "outputs": [
    {
     "name": "stdout",
     "output_type": "stream",
     "text": [
      "6  6 publications selected.\n"
     ]
    }
   ],
   "source": [
    "# Create the flat grid of the last N papers (fixed number regardless of dates)\n",
    "from itertools import islice \n",
    "\n",
    "npub = 6\n",
    "res = [k[0] for k in (islice(reversed(sorted(dates, key=lambda x: x[1])), 6))]\n",
    "print(len(res), f\" {npub} publications selected.\")\n",
    "\n",
    "grid = create_grid(npub)\n",
    "docs = ', '.join(['\"{0:s}\"'.format(k.split('/')[-1]) for k in res])\n",
    "slides = ', '.join([f'\"slide{k}\"' for k in range(1, npub + 1)])\n",
    "\n",
    "with open(\"grid_template.html\", \"r\") as tpl:\n",
    "    page = tpl.read()\n",
    "    page = page.replace(\"{%-- grid-content:s --%}\", grid)\\\n",
    "               .replace(\"{%-- suptitle:s --%}\",  f\"Last {npub:,d} papers\" )\\\n",
    "               .replace(\"{%-- docs:s --%}\", docs)\\\n",
    "               .replace(\"{%-- slides:s --%}\", slides)\n",
    "    \n",
    "# print(grid, docs, slides)\n",
    "# print(page)\n",
    "with open(\"_build/html/index_npub_grid.html\", 'w') as fout:\n",
    "    fout.write(page)"
   ]
  }
 ],
 "metadata": {
  "kernelspec": {
   "display_name": "Python 3 (ipykernel)",
   "language": "python",
   "name": "python3"
  },
  "language_info": {
   "codemirror_mode": {
    "name": "ipython",
    "version": 3
   },
   "file_extension": ".py",
   "mimetype": "text/x-python",
   "name": "python",
   "nbconvert_exporter": "python",
   "pygments_lexer": "ipython3",
   "version": "3.9.23"
  },
  "papermill": {
   "default_parameters": {},
   "duration": 51.67372,
   "end_time": "2025-08-19T04:14:01.227920",
   "environment_variables": {},
   "exception": null,
   "input_path": "MPIA daily digest.ipynb",
   "output_path": "log.ipynb",
   "parameters": {},
   "start_time": "2025-08-19T04:13:09.554200",
   "version": "2.6.0"
  },
  "vscode": {
   "interpreter": {
    "hash": "aee8b7b246df8f9039afb4144a1f6fd8d2ca17a180786b69acc140d282b71a49"
   }
  },
  "widgets": {
   "application/vnd.jupyter.widget-state+json": {
    "state": {
     "01dd65a8db3a4d3da819953a53eb76eb": {
      "model_module": "@jupyter-widgets/controls",
      "model_module_version": "2.0.0",
      "model_name": "FloatProgressModel",
      "state": {
       "_dom_classes": [],
       "_model_module": "@jupyter-widgets/controls",
       "_model_module_version": "2.0.0",
       "_model_name": "FloatProgressModel",
       "_view_count": null,
       "_view_module": "@jupyter-widgets/controls",
       "_view_module_version": "2.0.0",
       "_view_name": "ProgressView",
       "bar_style": "success",
       "description": "",
       "description_allow_html": false,
       "layout": "IPY_MODEL_c8c6f331b20241c2aaba2101b29f2fb1",
       "max": 6.0,
       "min": 0.0,
       "orientation": "horizontal",
       "style": "IPY_MODEL_78b5ecb4c1e1444284bd5af4f17047bd",
       "tabbable": null,
       "tooltip": null,
       "value": 6.0
      }
     },
     "092331a1c4a743eab82c86f646cf7ea0": {
      "model_module": "@jupyter-widgets/controls",
      "model_module_version": "2.0.0",
      "model_name": "HBoxModel",
      "state": {
       "_dom_classes": [],
       "_model_module": "@jupyter-widgets/controls",
       "_model_module_version": "2.0.0",
       "_model_name": "HBoxModel",
       "_view_count": null,
       "_view_module": "@jupyter-widgets/controls",
       "_view_module_version": "2.0.0",
       "_view_name": "HBoxView",
       "box_style": "",
       "children": [
        "IPY_MODEL_3c5bbf1b60934cda991d34376c856664",
        "IPY_MODEL_01dd65a8db3a4d3da819953a53eb76eb",
        "IPY_MODEL_7957f64528a548d7a3b30084cb4a8e4c"
       ],
       "layout": "IPY_MODEL_b24bbf904d3a44a5aff49dcd595a7548",
       "tabbable": null,
       "tooltip": null
      }
     },
     "3c5bbf1b60934cda991d34376c856664": {
      "model_module": "@jupyter-widgets/controls",
      "model_module_version": "2.0.0",
      "model_name": "HTMLModel",
      "state": {
       "_dom_classes": [],
       "_model_module": "@jupyter-widgets/controls",
       "_model_module_version": "2.0.0",
       "_model_name": "HTMLModel",
       "_view_count": null,
       "_view_module": "@jupyter-widgets/controls",
       "_view_module_version": "2.0.0",
       "_view_name": "HTMLView",
       "description": "",
       "description_allow_html": false,
       "layout": "IPY_MODEL_6c80b045a5914966b35d86795239ce4a",
       "placeholder": "​",
       "style": "IPY_MODEL_cb8fd5d2627a4e0e91dac3e0507888ef",
       "tabbable": null,
       "tooltip": null,
       "value": "100%"
      }
     },
     "6203cde7379c424ca0147a03263f19eb": {
      "model_module": "@jupyter-widgets/controls",
      "model_module_version": "2.0.0",
      "model_name": "HTMLStyleModel",
      "state": {
       "_model_module": "@jupyter-widgets/controls",
       "_model_module_version": "2.0.0",
       "_model_name": "HTMLStyleModel",
       "_view_count": null,
       "_view_module": "@jupyter-widgets/base",
       "_view_module_version": "2.0.0",
       "_view_name": "StyleView",
       "background": null,
       "description_width": "",
       "font_size": null,
       "text_color": null
      }
     },
     "6c80b045a5914966b35d86795239ce4a": {
      "model_module": "@jupyter-widgets/base",
      "model_module_version": "2.0.0",
      "model_name": "LayoutModel",
      "state": {
       "_model_module": "@jupyter-widgets/base",
       "_model_module_version": "2.0.0",
       "_model_name": "LayoutModel",
       "_view_count": null,
       "_view_module": "@jupyter-widgets/base",
       "_view_module_version": "2.0.0",
       "_view_name": "LayoutView",
       "align_content": null,
       "align_items": null,
       "align_self": null,
       "border_bottom": null,
       "border_left": null,
       "border_right": null,
       "border_top": null,
       "bottom": null,
       "display": null,
       "flex": null,
       "flex_flow": null,
       "grid_area": null,
       "grid_auto_columns": null,
       "grid_auto_flow": null,
       "grid_auto_rows": null,
       "grid_column": null,
       "grid_gap": null,
       "grid_row": null,
       "grid_template_areas": null,
       "grid_template_columns": null,
       "grid_template_rows": null,
       "height": null,
       "justify_content": null,
       "justify_items": null,
       "left": null,
       "margin": null,
       "max_height": null,
       "max_width": null,
       "min_height": null,
       "min_width": null,
       "object_fit": null,
       "object_position": null,
       "order": null,
       "overflow": null,
       "padding": null,
       "right": null,
       "top": null,
       "visibility": null,
       "width": null
      }
     },
     "78b5ecb4c1e1444284bd5af4f17047bd": {
      "model_module": "@jupyter-widgets/controls",
      "model_module_version": "2.0.0",
      "model_name": "ProgressStyleModel",
      "state": {
       "_model_module": "@jupyter-widgets/controls",
       "_model_module_version": "2.0.0",
       "_model_name": "ProgressStyleModel",
       "_view_count": null,
       "_view_module": "@jupyter-widgets/base",
       "_view_module_version": "2.0.0",
       "_view_name": "StyleView",
       "bar_color": null,
       "description_width": ""
      }
     },
     "7957f64528a548d7a3b30084cb4a8e4c": {
      "model_module": "@jupyter-widgets/controls",
      "model_module_version": "2.0.0",
      "model_name": "HTMLModel",
      "state": {
       "_dom_classes": [],
       "_model_module": "@jupyter-widgets/controls",
       "_model_module_version": "2.0.0",
       "_model_name": "HTMLModel",
       "_view_count": null,
       "_view_module": "@jupyter-widgets/controls",
       "_view_module_version": "2.0.0",
       "_view_name": "HTMLView",
       "description": "",
       "description_allow_html": false,
       "layout": "IPY_MODEL_b106e5a0ccda431292ef2d711158cbc5",
       "placeholder": "​",
       "style": "IPY_MODEL_6203cde7379c424ca0147a03263f19eb",
       "tabbable": null,
       "tooltip": null,
       "value": " 6/6 [00:29&lt;00:00,  2.64s/it]"
      }
     },
     "b106e5a0ccda431292ef2d711158cbc5": {
      "model_module": "@jupyter-widgets/base",
      "model_module_version": "2.0.0",
      "model_name": "LayoutModel",
      "state": {
       "_model_module": "@jupyter-widgets/base",
       "_model_module_version": "2.0.0",
       "_model_name": "LayoutModel",
       "_view_count": null,
       "_view_module": "@jupyter-widgets/base",
       "_view_module_version": "2.0.0",
       "_view_name": "LayoutView",
       "align_content": null,
       "align_items": null,
       "align_self": null,
       "border_bottom": null,
       "border_left": null,
       "border_right": null,
       "border_top": null,
       "bottom": null,
       "display": null,
       "flex": null,
       "flex_flow": null,
       "grid_area": null,
       "grid_auto_columns": null,
       "grid_auto_flow": null,
       "grid_auto_rows": null,
       "grid_column": null,
       "grid_gap": null,
       "grid_row": null,
       "grid_template_areas": null,
       "grid_template_columns": null,
       "grid_template_rows": null,
       "height": null,
       "justify_content": null,
       "justify_items": null,
       "left": null,
       "margin": null,
       "max_height": null,
       "max_width": null,
       "min_height": null,
       "min_width": null,
       "object_fit": null,
       "object_position": null,
       "order": null,
       "overflow": null,
       "padding": null,
       "right": null,
       "top": null,
       "visibility": null,
       "width": null
      }
     },
     "b24bbf904d3a44a5aff49dcd595a7548": {
      "model_module": "@jupyter-widgets/base",
      "model_module_version": "2.0.0",
      "model_name": "LayoutModel",
      "state": {
       "_model_module": "@jupyter-widgets/base",
       "_model_module_version": "2.0.0",
       "_model_name": "LayoutModel",
       "_view_count": null,
       "_view_module": "@jupyter-widgets/base",
       "_view_module_version": "2.0.0",
       "_view_name": "LayoutView",
       "align_content": null,
       "align_items": null,
       "align_self": null,
       "border_bottom": null,
       "border_left": null,
       "border_right": null,
       "border_top": null,
       "bottom": null,
       "display": null,
       "flex": null,
       "flex_flow": null,
       "grid_area": null,
       "grid_auto_columns": null,
       "grid_auto_flow": null,
       "grid_auto_rows": null,
       "grid_column": null,
       "grid_gap": null,
       "grid_row": null,
       "grid_template_areas": null,
       "grid_template_columns": null,
       "grid_template_rows": null,
       "height": null,
       "justify_content": null,
       "justify_items": null,
       "left": null,
       "margin": null,
       "max_height": null,
       "max_width": null,
       "min_height": null,
       "min_width": null,
       "object_fit": null,
       "object_position": null,
       "order": null,
       "overflow": null,
       "padding": null,
       "right": null,
       "top": null,
       "visibility": null,
       "width": null
      }
     },
     "c8c6f331b20241c2aaba2101b29f2fb1": {
      "model_module": "@jupyter-widgets/base",
      "model_module_version": "2.0.0",
      "model_name": "LayoutModel",
      "state": {
       "_model_module": "@jupyter-widgets/base",
       "_model_module_version": "2.0.0",
       "_model_name": "LayoutModel",
       "_view_count": null,
       "_view_module": "@jupyter-widgets/base",
       "_view_module_version": "2.0.0",
       "_view_name": "LayoutView",
       "align_content": null,
       "align_items": null,
       "align_self": null,
       "border_bottom": null,
       "border_left": null,
       "border_right": null,
       "border_top": null,
       "bottom": null,
       "display": null,
       "flex": null,
       "flex_flow": null,
       "grid_area": null,
       "grid_auto_columns": null,
       "grid_auto_flow": null,
       "grid_auto_rows": null,
       "grid_column": null,
       "grid_gap": null,
       "grid_row": null,
       "grid_template_areas": null,
       "grid_template_columns": null,
       "grid_template_rows": null,
       "height": null,
       "justify_content": null,
       "justify_items": null,
       "left": null,
       "margin": null,
       "max_height": null,
       "max_width": null,
       "min_height": null,
       "min_width": null,
       "object_fit": null,
       "object_position": null,
       "order": null,
       "overflow": null,
       "padding": null,
       "right": null,
       "top": null,
       "visibility": null,
       "width": null
      }
     },
     "cb8fd5d2627a4e0e91dac3e0507888ef": {
      "model_module": "@jupyter-widgets/controls",
      "model_module_version": "2.0.0",
      "model_name": "HTMLStyleModel",
      "state": {
       "_model_module": "@jupyter-widgets/controls",
       "_model_module_version": "2.0.0",
       "_model_name": "HTMLStyleModel",
       "_view_count": null,
       "_view_module": "@jupyter-widgets/base",
       "_view_module_version": "2.0.0",
       "_view_name": "StyleView",
       "background": null,
       "description_width": "",
       "font_size": null,
       "text_color": null
      }
     }
    },
    "version_major": 2,
    "version_minor": 0
   }
  }
 },
 "nbformat": 4,
 "nbformat_minor": 5
}