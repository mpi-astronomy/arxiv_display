{
 "cells": [
  {
   "cell_type": "markdown",
   "id": "92bcb855",
   "metadata": {
    "papermill": {
     "duration": 0.005907,
     "end_time": "2022-11-02T04:52:24.826846",
     "exception": false,
     "start_time": "2022-11-02T04:52:24.820939",
     "status": "completed"
    },
    "tags": []
   },
   "source": [
    "# MPIA Arxiv on Deck 2\n",
    "\n",
    "Contains the steps to produce the paper extractions."
   ]
  },
  {
   "cell_type": "code",
   "execution_count": 1,
   "id": "3a0d6e11",
   "metadata": {
    "execution": {
     "iopub.execute_input": "2022-11-02T04:52:24.838209Z",
     "iopub.status.busy": "2022-11-02T04:52:24.837529Z",
     "iopub.status.idle": "2022-11-02T04:52:25.037908Z",
     "shell.execute_reply": "2022-11-02T04:52:25.036954Z"
    },
    "papermill": {
     "duration": 0.208903,
     "end_time": "2022-11-02T04:52:25.040301",
     "exception": false,
     "start_time": "2022-11-02T04:52:24.831398",
     "status": "completed"
    },
    "tags": []
   },
   "outputs": [],
   "source": [
    "# Imports\n",
    "import os\n",
    "from IPython.display import Markdown, display\n",
    "from tqdm.notebook import tqdm\n",
    "import warnings\n",
    "from PIL import Image \n",
    "\n",
    "# requires arxiv_on_deck_2\n",
    "\n",
    "from arxiv_on_deck_2.arxiv2 import (get_new_papers, \n",
    "                                    get_paper_from_identifier,\n",
    "                                    retrieve_document_source, \n",
    "                                    get_markdown_badge)\n",
    "from arxiv_on_deck_2 import (latex, \n",
    "                             mpia,\n",
    "                             highlight_authors_in_list)\n",
    "\n",
    "# Sometimes images are really big\n",
    "Image.MAX_IMAGE_PIXELS = 1000000000 "
   ]
  },
  {
   "cell_type": "code",
   "execution_count": 2,
   "id": "22aa9d44",
   "metadata": {
    "execution": {
     "iopub.execute_input": "2022-11-02T04:52:25.051609Z",
     "iopub.status.busy": "2022-11-02T04:52:25.051347Z",
     "iopub.status.idle": "2022-11-02T04:52:25.060449Z",
     "shell.execute_reply": "2022-11-02T04:52:25.057425Z"
    },
    "papermill": {
     "duration": 0.021121,
     "end_time": "2022-11-02T04:52:25.066434",
     "exception": false,
     "start_time": "2022-11-02T04:52:25.045313",
     "status": "completed"
    },
    "tags": []
   },
   "outputs": [],
   "source": [
    "# Some useful definitions.\n",
    "\n",
    "class AffiliationWarning(UserWarning):\n",
    "    pass\n",
    "\n",
    "class AffiliationError(RuntimeError):\n",
    "    pass\n",
    "\n",
    "def validation(source: str):\n",
    "    \"\"\"Raises error paper during parsing of source file\n",
    "    \n",
    "    Allows checks before parsing TeX code.\n",
    "    \n",
    "    Raises AffiliationWarning\n",
    "    \"\"\"\n",
    "    check = mpia.affiliation_verifications(source, verbose=True)\n",
    "    if check is not True:\n",
    "        raise AffiliationError(\"mpia.affiliation_verifications: \" + check)\n",
    "\n",
    "        \n",
    "warnings.simplefilter('always', AffiliationWarning)"
   ]
  },
  {
   "cell_type": "code",
   "execution_count": 3,
   "id": "14622700",
   "metadata": {
    "execution": {
     "iopub.execute_input": "2022-11-02T04:52:25.079613Z",
     "iopub.status.busy": "2022-11-02T04:52:25.079307Z",
     "iopub.status.idle": "2022-11-02T04:52:25.083484Z",
     "shell.execute_reply": "2022-11-02T04:52:25.082668Z"
    },
    "papermill": {
     "duration": 0.014178,
     "end_time": "2022-11-02T04:52:25.085617",
     "exception": false,
     "start_time": "2022-11-02T04:52:25.071439",
     "status": "completed"
    },
    "tags": []
   },
   "outputs": [],
   "source": [
    "# additional CSS to consider. \n",
    "# TODO: Current into each exported file. \n",
    "#       This should be set once into the webpages directly.\n",
    "#       With only the class/id definitions in the .md files.\n",
    "\n",
    "debug_html = \"\"\"\n",
    "<style>\n",
    "#wrap{ overflow:auto; }\n",
    "#fig1{ background:yellow; width:100%; float:left; padding:5px;  }\n",
    "#fig2{ background:red; width:50%; float:left; clear:left; padding:5px;  }\n",
    "#fig3{ background:green; width:50%; float:left; padding:5px;   }\n",
    ".macros{ background:yellow; visibility:visible;}\n",
    "h1 {margin: 0 0 0 0;}\n",
    "mark {background-color:#fff3b6;}\n",
    "img {object-fit:contain; max-height:250px; display:inline-block; text-align: center;}\n",
    "</style>\n",
    "\"\"\" \n",
    "html = \"\"\"\n",
    "<style>\n",
    "#wrap{ overflow:auto; }\n",
    "#fig1{ width:100%; float:left; padding: 5px;  }\n",
    "#fig2{ width:50%; float:left; clear:left; padding: 5px;  }\n",
    "#fig3{ width:50%; float:left; padding: 5px;  }\n",
    ".macros{ visibility:hidden; height:0px; }\n",
    "h1 {margin: 0em 0 0 0;}\n",
    "mark {background-color:#fff3b6;}\n",
    "img {object-fit:contain; max-height:250px; display:inline-block; text-align: center;}\n",
    "</style>\n",
    "\"\"\""
   ]
  },
  {
   "cell_type": "markdown",
   "id": "14bd6310",
   "metadata": {
    "papermill": {
     "duration": 0.004331,
     "end_time": "2022-11-02T04:52:25.094461",
     "exception": false,
     "start_time": "2022-11-02T04:52:25.090130",
     "status": "completed"
    },
    "tags": []
   },
   "source": [
    "## get list of arxiv paper candidates\n",
    "\n",
    "We use the MPIA mitarbeiter list webpage from mpia.de to get author names\n",
    "We then get all new papers from Arxiv and match authors"
   ]
  },
  {
   "cell_type": "code",
   "execution_count": 4,
   "id": "2645e73a",
   "metadata": {
    "execution": {
     "iopub.execute_input": "2022-11-02T04:52:25.104962Z",
     "iopub.status.busy": "2022-11-02T04:52:25.104248Z",
     "iopub.status.idle": "2022-11-02T04:52:55.606630Z",
     "shell.execute_reply": "2022-11-02T04:52:55.605767Z"
    },
    "papermill": {
     "duration": 30.511495,
     "end_time": "2022-11-02T04:52:55.610579",
     "exception": false,
     "start_time": "2022-11-02T04:52:25.099084",
     "status": "completed"
    },
    "tags": []
   },
   "outputs": [
    {
     "name": "stdout",
     "output_type": "stream",
     "text": [
      "Arxiv has 53 new papers today\n",
      "          20 with possible author matches\n"
     ]
    }
   ],
   "source": [
    "# get list from MPIA website\n",
    "# it automatically filters identified non-scientists :func:`mpia.filter_non_scientists`\n",
    "mpia_authors = mpia.get_mpia_mitarbeiter_list()\n",
    "new_papers = get_new_papers()\n",
    "# add manual references\n",
    "add_paper_refs = []\n",
    "new_papers.extend([get_paper_from_identifier(k) for k in add_paper_refs])\n",
    "\n",
    "# select only papers with matching author names and highlight authors\n",
    "hl_list = [k[0] for k in mpia_authors]\n",
    "\n",
    "candidates = []\n",
    "for paperk in new_papers:\n",
    "    hl_authors = highlight_authors_in_list(paperk['authors'], hl_list)\n",
    "    matches = [(hl, orig) for hl, orig in zip(hl_authors, paperk['authors']) if 'mark' in hl]\n",
    "    paperk['authors'] = hl_authors\n",
    "    if matches:\n",
    "        candidates.append(paperk)\n",
    "print(\"\"\"Arxiv has {0:,d} new papers today\"\"\".format(len(new_papers)))        \n",
    "print(\"\"\"          {0:,d} with possible author matches\"\"\".format(len(candidates)))"
   ]
  },
  {
   "cell_type": "markdown",
   "id": "3543b34a",
   "metadata": {
    "papermill": {
     "duration": 0.004887,
     "end_time": "2022-11-02T04:52:55.620061",
     "exception": false,
     "start_time": "2022-11-02T04:52:55.615174",
     "status": "completed"
    },
    "tags": []
   },
   "source": [
    "# Parse sources and generate relevant outputs\n",
    "\n",
    "From the candidates, we do the following steps:\n",
    "* get their tarball from ArXiv (and extract data)\n",
    "* find the main .tex file: find one with \\documentclass{...} (sometimes it's non trivial)\n",
    "* Check affiliations with :func:`validation`, which uses :func:`mpia.affiliation_verifications`\n",
    "* If passing the affiliations: we parse the .tex source\n",
    "   * inject sub-documents into the main (flatten the main document)\n",
    "   * parse structure, extract information (title, abstract, authors, figures...)\n",
    "   * handles `\\graphicspath` if provided\n",
    "* Generate the .md document."
   ]
  },
  {
   "cell_type": "code",
   "execution_count": 5,
   "id": "9576b79e",
   "metadata": {
    "execution": {
     "iopub.execute_input": "2022-11-02T04:52:55.632019Z",
     "iopub.status.busy": "2022-11-02T04:52:55.630922Z",
     "iopub.status.idle": "2022-11-02T04:58:27.612994Z",
     "shell.execute_reply": "2022-11-02T04:58:27.611517Z"
    },
    "papermill": {
     "duration": 331.990667,
     "end_time": "2022-11-02T04:58:27.615830",
     "exception": false,
     "start_time": "2022-11-02T04:52:55.625163",
     "status": "completed"
    },
    "scrolled": false,
    "tags": []
   },
   "outputs": [
    {
     "data": {
      "application/vnd.jupyter.widget-view+json": {
       "model_id": "969f93e3bae840bcb2cb75f782020efb",
       "version_major": 2,
       "version_minor": 0
      },
      "text/plain": [
       "  0%|          | 0/19 [00:00<?, ?it/s]"
      ]
     },
     "metadata": {},
     "output_type": "display_data"
    },
    {
     "name": "stdout",
     "output_type": "stream",
     "text": [
      "Retrieving document from  https://arxiv.org/e-print/2211.00010\n"
     ]
    },
    {
     "name": "stdout",
     "output_type": "stream",
     "text": [
      "extracting tarball to tmp_2211.00010..."
     ]
    },
    {
     "name": "stdout",
     "output_type": "stream",
     "text": [
      " done.\n"
     ]
    },
    {
     "name": "stderr",
     "output_type": "stream",
     "text": [
      "/opt/hostedtoolcache/Python/3.9.15/x64/lib/python3.9/site-packages/IPython/core/interactiveshell.py:3433: LatexWarning: Multiple tex files.\n",
      "\n",
      "  exec(code_obj, self.user_global_ns, self.user_ns)\n",
      "/opt/hostedtoolcache/Python/3.9.15/x64/lib/python3.9/site-packages/IPython/core/interactiveshell.py:3433: LatexWarning: Found documentclass in tmp_2211.00010/MWM31Sats_gasContent.tex\n",
      "\n",
      "  exec(code_obj, self.user_global_ns, self.user_ns)\n"
     ]
    },
    {
     "name": "stderr",
     "output_type": "stream",
     "text": [
      "/opt/hostedtoolcache/Python/3.9.15/x64/lib/python3.9/site-packages/arxiv_on_deck_2/latex.py:118: LatexWarning: attempting recovering figure t90_vs_t50_MWM31\n",
      "  warnings.warn(LatexWarning(f'attempting recovering figure {image}'))\n"
     ]
    },
    {
     "name": "stderr",
     "output_type": "stream",
     "text": [
      "/opt/hostedtoolcache/Python/3.9.15/x64/lib/python3.9/site-packages/arxiv_on_deck_2/latex.py:118: LatexWarning: attempting recovering figure fquench_vs_mstar_compSAGAIIMatchings_limBySurfBright\n",
      "  warnings.warn(LatexWarning(f'attempting recovering figure {image}'))\n"
     ]
    },
    {
     "name": "stderr",
     "output_type": "stream",
     "text": [
      "/opt/hostedtoolcache/Python/3.9.15/x64/lib/python3.9/site-packages/arxiv_on_deck_2/latex.py:118: LatexWarning: attempting recovering figure fquench_vs_mstar_main_SAGAII_incELVES\n",
      "  warnings.warn(LatexWarning(f'attempting recovering figure {image}'))\n",
      "/opt/hostedtoolcache/Python/3.9.15/x64/lib/python3.9/site-packages/arxiv_on_deck_2/latex.py:118: LatexWarning: attempting recovering figure fquench_vs_mstar_incScatter\n",
      "  warnings.warn(LatexWarning(f'attempting recovering figure {image}'))\n",
      "/opt/hostedtoolcache/Python/3.9.15/x64/lib/python3.9/site-packages/arxiv_on_deck_2/latex.py:118: LatexWarning: attempting recovering figure fquench_vs_mstar_compSAGAII_alt\n",
      "  warnings.warn(LatexWarning(f'attempting recovering figure {image}'))\n"
     ]
    },
    {
     "name": "stderr",
     "output_type": "stream",
     "text": [
      "/opt/hostedtoolcache/Python/3.9.15/x64/lib/python3.9/site-packages/arxiv_on_deck_2/latex.py:118: LatexWarning: attempting recovering figure fquench_vs_mstar_perMHost_medCut\n",
      "  warnings.warn(LatexWarning(f'attempting recovering figure {image}'))\n",
      "/opt/hostedtoolcache/Python/3.9.15/x64/lib/python3.9/site-packages/arxiv_on_deck_2/latex.py:118: LatexWarning: attempting recovering figure fquench_vs_mstar_perInfall_Infall_medCut\n",
      "  warnings.warn(LatexWarning(f'attempting recovering figure {image}'))\n",
      "/opt/hostedtoolcache/Python/3.9.15/x64/lib/python3.9/site-packages/arxiv_on_deck_2/latex.py:118: LatexWarning: attempting recovering figure fquench_vs_mstar_perDist\n",
      "  warnings.warn(LatexWarning(f'attempting recovering figure {image}'))\n",
      "/opt/hostedtoolcache/Python/3.9.15/x64/lib/python3.9/site-packages/arxiv_on_deck_2/latex.py:118: LatexWarning: attempting recovering figure fquench_vs_mstar_iso-vs-LGHosts1000kpc\n",
      "  warnings.warn(LatexWarning(f'attempting recovering figure {image}'))\n"
     ]
    },
    {
     "name": "stderr",
     "output_type": "stream",
     "text": [
      "/opt/hostedtoolcache/Python/3.9.15/x64/lib/python3.9/site-packages/arxiv_on_deck_2/latex.py:118: LatexWarning: attempting recovering figure mHI_vs_disthost\n",
      "  warnings.warn(LatexWarning(f'attempting recovering figure {image}'))\n"
     ]
    },
    {
     "name": "stderr",
     "output_type": "stream",
     "text": [
      "/opt/hostedtoolcache/Python/3.9.15/x64/lib/python3.9/site-packages/arxiv_on_deck_2/latex.py:118: LatexWarning: attempting recovering figure phaseSpace2D_gasFracInBins_inRad\n",
      "  warnings.warn(LatexWarning(f'attempting recovering figure {image}'))\n",
      "/opt/hostedtoolcache/Python/3.9.15/x64/lib/python3.9/site-packages/arxiv_on_deck_2/latex.py:118: LatexWarning: attempting recovering figure phaseSpace3D_gasFracInBins_inRad\n",
      "  warnings.warn(LatexWarning(f'attempting recovering figure {image}'))\n"
     ]
    },
    {
     "name": "stderr",
     "output_type": "stream",
     "text": [
      "/opt/hostedtoolcache/Python/3.9.15/x64/lib/python3.9/site-packages/arxiv_on_deck_2/latex.py:118: LatexWarning: attempting recovering figure phaseSpace3D_infallInBins_Infall\n",
      "  warnings.warn(LatexWarning(f'attempting recovering figure {image}'))\n",
      "/opt/hostedtoolcache/Python/3.9.15/x64/lib/python3.9/site-packages/arxiv_on_deck_2/latex.py:118: LatexWarning: attempting recovering figure gasfrac-inRad_vs_infalltime\n",
      "  warnings.warn(LatexWarning(f'attempting recovering figure {image}'))\n"
     ]
    },
    {
     "name": "stderr",
     "output_type": "stream",
     "text": [
      "/opt/hostedtoolcache/Python/3.9.15/x64/lib/python3.9/site-packages/arxiv_on_deck_2/latex.py:118: LatexWarning: attempting recovering figure SFH_perMstar_perInfall_MWlikeHosts\n",
      "  warnings.warn(LatexWarning(f'attempting recovering figure {image}'))\n"
     ]
    },
    {
     "name": "stderr",
     "output_type": "stream",
     "text": [
      "/opt/hostedtoolcache/Python/3.9.15/x64/lib/python3.9/site-packages/arxiv_on_deck_2/latex.py:118: LatexWarning: attempting recovering figure SFH_perMstar_perInfall_M31likeHosts\n",
      "  warnings.warn(LatexWarning(f'attempting recovering figure {image}'))\n"
     ]
    },
    {
     "name": "stderr",
     "output_type": "stream",
     "text": [
      "/opt/hostedtoolcache/Python/3.9.15/x64/lib/python3.9/site-packages/arxiv_on_deck_2/latex.py:118: LatexWarning: attempting recovering figure stellarAssembly_vs_VMag_MWM31\n",
      "  warnings.warn(LatexWarning(f'attempting recovering figure {image}'))\n"
     ]
    },
    {
     "name": "stderr",
     "output_type": "stream",
     "text": [
      "/opt/hostedtoolcache/Python/3.9.15/x64/lib/python3.9/site-packages/arxiv_on_deck_2/latex.py:118: LatexWarning: attempting recovering figure massEvo_afterInfall\n",
      "  warnings.warn(LatexWarning(f'attempting recovering figure {image}'))\n"
     ]
    },
    {
     "name": "stderr",
     "output_type": "stream",
     "text": [
      "/opt/hostedtoolcache/Python/3.9.15/x64/lib/python3.9/site-packages/arxiv_on_deck_2/latex.py:118: LatexWarning: attempting recovering figure jellyfish_ID424295\n",
      "  warnings.warn(LatexWarning(f'attempting recovering figure {image}'))\n",
      "/opt/hostedtoolcache/Python/3.9.15/x64/lib/python3.9/site-packages/arxiv_on_deck_2/latex.py:118: LatexWarning: attempting recovering figure jellyfish_ID443056\n",
      "  warnings.warn(LatexWarning(f'attempting recovering figure {image}'))\n",
      "/opt/hostedtoolcache/Python/3.9.15/x64/lib/python3.9/site-packages/arxiv_on_deck_2/latex.py:118: LatexWarning: attempting recovering figure jellyfish_ID499706\n",
      "  warnings.warn(LatexWarning(f'attempting recovering figure {image}'))\n",
      "/opt/hostedtoolcache/Python/3.9.15/x64/lib/python3.9/site-packages/arxiv_on_deck_2/latex.py:118: LatexWarning: attempting recovering figure jellyfish_ID515298\n",
      "  warnings.warn(LatexWarning(f'attempting recovering figure {image}'))\n",
      "/opt/hostedtoolcache/Python/3.9.15/x64/lib/python3.9/site-packages/arxiv_on_deck_2/latex.py:118: LatexWarning: attempting recovering figure surfBright_vs_mag_SFact\n",
      "  warnings.warn(LatexWarning(f'attempting recovering figure {image}'))\n",
      "/opt/hostedtoolcache/Python/3.9.15/x64/lib/python3.9/site-packages/arxiv_on_deck_2/latex.py:118: LatexWarning: attempting recovering figure surfBright_vs_mag_SFact_SAGAlike\n",
      "  warnings.warn(LatexWarning(f'attempting recovering figure {image}'))\n"
     ]
    },
    {
     "name": "stderr",
     "output_type": "stream",
     "text": [
      "/opt/hostedtoolcache/Python/3.9.15/x64/lib/python3.9/site-packages/arxiv_on_deck_2/latex.py:118: LatexWarning: attempting recovering figure SFH_perMstar_perInfall_in600kpc\n",
      "  warnings.warn(LatexWarning(f'attempting recovering figure {image}'))\n"
     ]
    },
    {
     "name": "stdout",
     "output_type": "stream",
     "text": [
      "Retrieving document from  https://arxiv.org/e-print/2211.00013\n"
     ]
    },
    {
     "name": "stdout",
     "output_type": "stream",
     "text": [
      "extracting tarball to tmp_2211.00013..."
     ]
    },
    {
     "name": "stdout",
     "output_type": "stream",
     "text": [
      " done.\n",
      "Retrieving document from  https://arxiv.org/e-print/2211.00020\n"
     ]
    },
    {
     "name": "stdout",
     "output_type": "stream",
     "text": [
      "extracting tarball to tmp_2211.00020..."
     ]
    },
    {
     "name": "stdout",
     "output_type": "stream",
     "text": [
      " done.\n"
     ]
    },
    {
     "name": "stdout",
     "output_type": "stream",
     "text": [
      "Retrieving document from  https://arxiv.org/e-print/2211.00036\n"
     ]
    },
    {
     "name": "stdout",
     "output_type": "stream",
     "text": [
      "extracting tarball to tmp_2211.00036..."
     ]
    },
    {
     "name": "stdout",
     "output_type": "stream",
     "text": [
      " done.\n"
     ]
    },
    {
     "name": "stderr",
     "output_type": "stream",
     "text": [
      "/opt/hostedtoolcache/Python/3.9.15/x64/lib/python3.9/site-packages/IPython/core/interactiveshell.py:3433: LatexWarning: Multiple tex files.\n",
      "\n",
      "  exec(code_obj, self.user_global_ns, self.user_ns)\n",
      "/opt/hostedtoolcache/Python/3.9.15/x64/lib/python3.9/site-packages/IPython/core/interactiveshell.py:3433: LatexWarning: Found documentclass in tmp_2211.00036/main.tex\n",
      "\n",
      "  exec(code_obj, self.user_global_ns, self.user_ns)\n"
     ]
    },
    {
     "name": "stderr",
     "output_type": "stream",
     "text": [
      "/opt/hostedtoolcache/Python/3.9.15/x64/lib/python3.9/site-packages/arxiv_on_deck_2/latex.py:118: LatexWarning: attempting recovering figure Figures/scatter_h12_4rdVsLength_OnlyDiskStars_fits_z0_Lin005_5kpc02_RdFromDiego_Lin1R12_4R12_2\n",
      "  warnings.warn(LatexWarning(f'attempting recovering figure {image}'))\n"
     ]
    },
    {
     "name": "stdout",
     "output_type": "stream",
     "text": [
      "Retrieving document from  https://arxiv.org/e-print/2211.00038\n"
     ]
    },
    {
     "name": "stdout",
     "output_type": "stream",
     "text": [
      "extracting tarball to tmp_2211.00038..."
     ]
    },
    {
     "name": "stdout",
     "output_type": "stream",
     "text": [
      " done.\n",
      "Retrieving document from  https://arxiv.org/e-print/2211.00045\n"
     ]
    },
    {
     "name": "stderr",
     "output_type": "stream",
     "text": [
      "/opt/hostedtoolcache/Python/3.9.15/x64/lib/python3.9/site-packages/IPython/core/interactiveshell.py:3433: LatexWarning: Multiple tex files.\n",
      "\n",
      "  exec(code_obj, self.user_global_ns, self.user_ns)\n",
      "/opt/hostedtoolcache/Python/3.9.15/x64/lib/python3.9/site-packages/IPython/core/interactiveshell.py:3433: LatexWarning: Found documentclass in tmp_2211.00038/main.tex\n",
      "\n",
      "  exec(code_obj, self.user_global_ns, self.user_ns)\n",
      "/opt/hostedtoolcache/Python/3.9.15/x64/lib/python3.9/site-packages/arxiv_on_deck_2/latex.py:292: LatexWarning: Latex injecting: 'affil' from 'tmp_2211.00038/affil.tex'\n",
      "  warnings.warn(LatexWarning(f\"Latex injecting: '{ext}' from '{subsource}'\"))\n"
     ]
    },
    {
     "name": "stdout",
     "output_type": "stream",
     "text": [
      "extracting tarball to tmp_2211.00045..."
     ]
    },
    {
     "name": "stdout",
     "output_type": "stream",
     "text": [
      " done.\n",
      "Retrieving document from  https://arxiv.org/e-print/2211.00048\n"
     ]
    },
    {
     "name": "stdout",
     "output_type": "stream",
     "text": [
      "extracting tarball to tmp_2211.00048..."
     ]
    },
    {
     "name": "stdout",
     "output_type": "stream",
     "text": [
      " done.\n",
      "Retrieving document from  https://arxiv.org/e-print/2211.00050\n"
     ]
    },
    {
     "name": "stdout",
     "output_type": "stream",
     "text": [
      "extracting tarball to tmp_2211.00050..."
     ]
    },
    {
     "name": "stdout",
     "output_type": "stream",
     "text": [
      " done.\n",
      "Retrieving document from  https://arxiv.org/e-print/2211.00087\n"
     ]
    },
    {
     "name": "stdout",
     "output_type": "stream",
     "text": [
      "extracting tarball to tmp_2211.00087..."
     ]
    },
    {
     "name": "stdout",
     "output_type": "stream",
     "text": [
      " done.\n"
     ]
    },
    {
     "name": "stderr",
     "output_type": "stream",
     "text": [
      "/opt/hostedtoolcache/Python/3.9.15/x64/lib/python3.9/site-packages/IPython/core/interactiveshell.py:3433: LatexWarning: Multiple tex files.\n",
      "\n",
      "  exec(code_obj, self.user_global_ns, self.user_ns)\n",
      "/opt/hostedtoolcache/Python/3.9.15/x64/lib/python3.9/site-packages/IPython/core/interactiveshell.py:3433: LatexWarning: Found documentclass in tmp_2211.00087/emp.tex\n",
      "\n",
      "  exec(code_obj, self.user_global_ns, self.user_ns)\n",
      "/opt/hostedtoolcache/Python/3.9.15/x64/lib/python3.9/site-packages/arxiv_on_deck_2/latex.py:292: LatexWarning: Latex injecting: 'emp_app' from 'tmp_2211.00087/emp_app.tex'\n",
      "  warnings.warn(LatexWarning(f\"Latex injecting: '{ext}' from '{subsource}'\"))\n",
      "/opt/hostedtoolcache/Python/3.9.15/x64/lib/python3.9/site-packages/arxiv_on_deck_2/latex.py:292: LatexWarning: Latex injecting: 'emp_conclu' from 'tmp_2211.00087/emp_conclu.tex'\n",
      "  warnings.warn(LatexWarning(f\"Latex injecting: '{ext}' from '{subsource}'\"))\n",
      "/opt/hostedtoolcache/Python/3.9.15/x64/lib/python3.9/site-packages/arxiv_on_deck_2/latex.py:292: LatexWarning: Latex injecting: 'emp_body' from 'tmp_2211.00087/emp_body.tex'\n",
      "  warnings.warn(LatexWarning(f\"Latex injecting: '{ext}' from '{subsource}'\"))\n",
      "/opt/hostedtoolcache/Python/3.9.15/x64/lib/python3.9/site-packages/arxiv_on_deck_2/latex.py:292: LatexWarning: Latex injecting: 'emp_intro' from 'tmp_2211.00087/emp_intro.tex'\n",
      "  warnings.warn(LatexWarning(f\"Latex injecting: '{ext}' from '{subsource}'\"))\n",
      "/opt/hostedtoolcache/Python/3.9.15/x64/lib/python3.9/site-packages/arxiv_on_deck_2/latex.py:292: LatexWarning: Latex injecting: 'emp_abs' from 'tmp_2211.00087/emp_abs.tex'\n",
      "  warnings.warn(LatexWarning(f\"Latex injecting: '{ext}' from '{subsource}'\"))\n"
     ]
    },
    {
     "name": "stdout",
     "output_type": "stream",
     "text": [
      "Retrieving document from  https://arxiv.org/e-print/2211.00152\n"
     ]
    },
    {
     "name": "stdout",
     "output_type": "stream",
     "text": [
      "extracting tarball to tmp_2211.00152..."
     ]
    },
    {
     "name": "stdout",
     "output_type": "stream",
     "text": [
      " done.\n"
     ]
    },
    {
     "name": "stderr",
     "output_type": "stream",
     "text": [
      "/tmp/ipykernel_2219/4030337529.py:34: LatexWarning: 2211.00152 did not run properly\n",
      "list index out of range\n",
      "  warnings.warn(latex.LatexWarning(f\"{paper_id:s} did not run properly\\n\" +\n"
     ]
    },
    {
     "name": "stdout",
     "output_type": "stream",
     "text": [
      "Retrieving document from  https://arxiv.org/e-print/2211.00156\n"
     ]
    },
    {
     "name": "stdout",
     "output_type": "stream",
     "text": [
      "extracting tarball to tmp_2211.00156..."
     ]
    },
    {
     "name": "stdout",
     "output_type": "stream",
     "text": [
      " done.\n",
      "Retrieving document from  https://arxiv.org/e-print/2211.00220\n"
     ]
    },
    {
     "name": "stdout",
     "output_type": "stream",
     "text": [
      "extracting tarball to tmp_2211.00220..."
     ]
    },
    {
     "name": "stdout",
     "output_type": "stream",
     "text": [
      " done.\n",
      "Retrieving document from  https://arxiv.org/e-print/2211.00236\n"
     ]
    },
    {
     "name": "stderr",
     "output_type": "stream",
     "text": [
      "/tmp/ipykernel_2219/4030337529.py:34: LatexWarning: 2211.00236 did not run properly\n",
      "not a gzip file\n",
      "  warnings.warn(latex.LatexWarning(f\"{paper_id:s} did not run properly\\n\" +\n"
     ]
    },
    {
     "name": "stdout",
     "output_type": "stream",
     "text": [
      "Retrieving document from  https://arxiv.org/e-print/2211.00271\n"
     ]
    },
    {
     "name": "stdout",
     "output_type": "stream",
     "text": [
      "extracting tarball to tmp_2211.00271..."
     ]
    },
    {
     "name": "stdout",
     "output_type": "stream",
     "text": [
      " done.\n",
      "Retrieving document from  https://arxiv.org/e-print/2211.00283\n"
     ]
    },
    {
     "name": "stdout",
     "output_type": "stream",
     "text": [
      "extracting tarball to tmp_2211.00283..."
     ]
    },
    {
     "name": "stdout",
     "output_type": "stream",
     "text": [
      " done.\n",
      "Retrieving document from  https://arxiv.org/e-print/2211.00293\n"
     ]
    },
    {
     "name": "stdout",
     "output_type": "stream",
     "text": [
      "extracting tarball to tmp_2211.00293..."
     ]
    },
    {
     "name": "stdout",
     "output_type": "stream",
     "text": [
      " done.\n",
      "Retrieving document from  https://arxiv.org/e-print/2211.00429\n"
     ]
    },
    {
     "name": "stderr",
     "output_type": "stream",
     "text": [
      "/opt/hostedtoolcache/Python/3.9.15/x64/lib/python3.9/site-packages/IPython/core/interactiveshell.py:3433: LatexWarning: Multiple tex files.\n",
      "\n",
      "  exec(code_obj, self.user_global_ns, self.user_ns)\n",
      "/opt/hostedtoolcache/Python/3.9.15/x64/lib/python3.9/site-packages/IPython/core/interactiveshell.py:3433: LatexWarning: Found documentclass in tmp_2211.00293/main.tex\n",
      "\n",
      "  exec(code_obj, self.user_global_ns, self.user_ns)\n",
      "/opt/hostedtoolcache/Python/3.9.15/x64/lib/python3.9/site-packages/arxiv_on_deck_2/latex.py:292: LatexWarning: Latex injecting: 'TabA1.tex' from 'tmp_2211.00293/TabA1.tex'\n",
      "  warnings.warn(LatexWarning(f\"Latex injecting: '{ext}' from '{subsource}'\"))\n",
      "/opt/hostedtoolcache/Python/3.9.15/x64/lib/python3.9/site-packages/arxiv_on_deck_2/latex.py:292: LatexWarning: Latex injecting: 'Tab1' from 'tmp_2211.00293/Tab1.tex'\n",
      "  warnings.warn(LatexWarning(f\"Latex injecting: '{ext}' from '{subsource}'\"))\n",
      "/opt/hostedtoolcache/Python/3.9.15/x64/lib/python3.9/site-packages/arxiv_on_deck_2/latex.py:292: LatexWarning: Latex injecting: 'authors' from 'tmp_2211.00293/authors.tex'\n",
      "  warnings.warn(LatexWarning(f\"Latex injecting: '{ext}' from '{subsource}'\"))\n"
     ]
    },
    {
     "name": "stdout",
     "output_type": "stream",
     "text": [
      "extracting tarball to tmp_2211.00429..."
     ]
    },
    {
     "name": "stdout",
     "output_type": "stream",
     "text": [
      " done.\n",
      "Retrieving document from  https://arxiv.org/e-print/2211.00485\n"
     ]
    },
    {
     "name": "stderr",
     "output_type": "stream",
     "text": [
      "/opt/hostedtoolcache/Python/3.9.15/x64/lib/python3.9/site-packages/IPython/core/interactiveshell.py:3433: LatexWarning: Multiple tex files.\n",
      "\n",
      "  exec(code_obj, self.user_global_ns, self.user_ns)\n",
      "/opt/hostedtoolcache/Python/3.9.15/x64/lib/python3.9/site-packages/IPython/core/interactiveshell.py:3433: LatexWarning: Found documentclass in tmp_2211.00429/mnras_guide.tex\n",
      "\n",
      "  exec(code_obj, self.user_global_ns, self.user_ns)\n"
     ]
    },
    {
     "name": "stdout",
     "output_type": "stream",
     "text": [
      "extracting tarball to tmp_2211.00485..."
     ]
    },
    {
     "name": "stdout",
     "output_type": "stream",
     "text": [
      " done.\n",
      "Retrieving document from  https://arxiv.org/e-print/2211.00613\n"
     ]
    },
    {
     "name": "stdout",
     "output_type": "stream",
     "text": [
      "extracting tarball to tmp_2211.00613..."
     ]
    },
    {
     "name": "stdout",
     "output_type": "stream",
     "text": [
      " done.\n"
     ]
    }
   ],
   "source": [
    "documents = []\n",
    "failed = []\n",
    "for paper in tqdm(candidates[:-1]):\n",
    "    paper_id = paper['identifier'].lower().replace('arxiv:', '')\n",
    "    \n",
    "    folder = f'tmp_{paper_id}'\n",
    "\n",
    "    try:\n",
    "        if not os.path.isdir(folder):\n",
    "            folder = retrieve_document_source(f\"{paper_id}\", f'tmp_{paper_id}')\n",
    "        \n",
    "        try:\n",
    "            doc = latex.LatexDocument(folder, validation=validation)    \n",
    "        except AffiliationError as affilerror:\n",
    "            msg = f\"ArXiv:{paper_id:s} is not an MPIA paper... \" + str(affilerror)\n",
    "            failed.append((paper, \"affiliation error: \" + str(affilerror) ))\n",
    "            continue\n",
    "        \n",
    "        # Hack because sometimes author parsing does not work well\n",
    "        if (len(doc.authors) != len(paper['authors'])):\n",
    "            doc._authors = paper['authors']\n",
    "        if (doc.abstract) in (None, ''):\n",
    "            doc._abstract = paper['abstract']\n",
    "            \n",
    "        doc.comment = (get_markdown_badge(paper_id) + \n",
    "                       \"<mark>Appeared on: \" + paper['date'] + \"</mark> - \" +\n",
    "                       \"_\" + paper['comments'] + \"_\")\n",
    "        doc.highlight_authors_in_list(hl_list)\n",
    "\n",
    "        full_md = doc.generate_markdown_text()\n",
    "        \n",
    "        documents.append((paper_id, full_md))\n",
    "    except Exception as e:\n",
    "        warnings.warn(latex.LatexWarning(f\"{paper_id:s} did not run properly\\n\" +\n",
    "                                         str(e)\n",
    "                                        ))\n",
    "        failed.append((paper, \"latex error \" + str(e)))"
   ]
  },
  {
   "cell_type": "markdown",
   "id": "2505a25c",
   "metadata": {
    "papermill": {
     "duration": 0.009441,
     "end_time": "2022-11-02T04:58:27.635446",
     "exception": false,
     "start_time": "2022-11-02T04:58:27.626005",
     "status": "completed"
    },
    "tags": []
   },
   "source": [
    "### Export the logs\n",
    "\n",
    "Throughout, we also keep track of the logs per paper. see `logs-{today date}.md` "
   ]
  },
  {
   "cell_type": "code",
   "execution_count": 6,
   "id": "d733828a",
   "metadata": {
    "execution": {
     "iopub.execute_input": "2022-11-02T04:58:27.655769Z",
     "iopub.status.busy": "2022-11-02T04:58:27.654383Z",
     "iopub.status.idle": "2022-11-02T04:58:27.701761Z",
     "shell.execute_reply": "2022-11-02T04:58:27.700737Z"
    },
    "papermill": {
     "duration": 0.062456,
     "end_time": "2022-11-02T04:58:27.706138",
     "exception": false,
     "start_time": "2022-11-02T04:58:27.643682",
     "status": "completed"
    },
    "scrolled": false,
    "tags": []
   },
   "outputs": [
    {
     "data": {
      "text/markdown": [
       "## Successful papers"
      ],
      "text/plain": [
       "<IPython.core.display.Markdown object>"
      ]
     },
     "metadata": {},
     "output_type": "display_data"
    },
    {
     "data": {
      "text/markdown": [
       "\n",
       "|||\n",
       "|---:|:---|\n",
       "| [![arXiv](https://img.shields.io/badge/arXiv-arXiv:2211.00010-b31b1b.svg)](https://arxiv.org/abs/arXiv:2211.00010) | **Satellites of MW/M31-like galaxies with TNG50: quenched fractions, gas  content, and star formation histories**  |\n",
       "|| Christoph Engler, et al. -- incl., <mark>Annalisa Pillepich</mark> |\n",
       "|*Appeared on*| *2022-11-02*|\n",
       "|*Comments*| *Submitted to MNRAS -- comments welcome. Part of a set of papers based on TNG50 MW/M31-like galaxies*|\n",
       "|**Abstract**| We analyse the quenched fractions, gas content, and star formation histories of ~1200 satellite galaxies with M* >= 5x10^6 Msun around 198 Milky Way- (MW) and Andromeda-like (M31) hosts in TNG50, the highest-resolution run of the IllustrisTNG simulations. Satellites exhibit larger quenched fractions for smaller masses, at smaller distances to their host galaxy, and in the more massive M31-like compared to MW-like hosts. As satellites cross their host's virial radius, their gas content drops significantly: most satellites within 300 kpc do not contain any detectable gas reservoirs at z=0, unless they are massive like the Magellanic Clouds and M32. Nevertheless, their stellar assembly exhibits a large degree of diversity. On average, the cumulative star formation histories of satellites are more extended for brighter, more massive satellites with a later infall, and for those in less massive hosts. Based on these relationships, we can even infer infall periods for observed MW and M31 dwarfs: e.g. 0-4 Gyr ago for the Magellanic Clouds and Leo I, 4-8 and 0-2 Gyr ago for M32 and IC 10, respectively. Ram pressure stripping (in combination with tidal stripping) deprives TNG50 satellites of their gas reservoirs and ultimately quenches their star formation activity, even though only a few per cent of the present-day satellites around the 198 TNG50 MW/M31-like hosts appear as jellyfish. The typical time since quenching for currently quenched TNG50 satellites is 6.9 (+2.5)(-3.3) Gyr ago. The TNG50 results are consistent with the quenched fractions and stellar assembly of observed MW and M31 satellites, however, satellites of the SAGA survey exhibit lower quenched fractions than TNG50 and other, observed analogues. |"
      ],
      "text/plain": [
       "[arXiv:2211.00010] Satellites of MW/M31-like galaxies with TNG50: quenched fractions, gas  content, and star formation histories\n",
       "\tChristoph Engler, et al. -- incl., <mark>Annalisa Pillepich</mark>"
      ]
     },
     "metadata": {},
     "output_type": "display_data"
    },
    {
     "data": {
      "text/markdown": [
       "\n",
       "|||\n",
       "|---:|:---|\n",
       "| [![arXiv](https://img.shields.io/badge/arXiv-arXiv:2211.00020-b31b1b.svg)](https://arxiv.org/abs/arXiv:2211.00020) | **The Circumgalactic Medium of Milky Way-like Galaxies in the TNG50  Simulation -- I: Halo Gas Properties and the Role of SMBH Feedback**  |\n",
       "|| Rahul Ramesh, Dylan Nelson, <mark>Annalisa Pillepich</mark> |\n",
       "|*Appeared on*| *2022-11-02*|\n",
       "|*Comments*| *Submitted to MNRAS. Part of a set of papers based on TNG50 MW/M31-like galaxies. Additional visuals at www.tng-project.org/ramesh22!*|\n",
       "|**Abstract**| We analyze the physical properties of gas in the circumgalactic medium (CGM) of 132 Milky Way (MW)-like galaxies at $z=0$ from the cosmological magneto-hydrodynamical simulation TNG50, part of the IllustrisTNG project. The properties and abundance of CGM gas across the sample are diverse, and the fractional budgets of different phases (cold, warm, and hot), as well as neutral HI mass and metal mass, vary considerably. Over our stellar mass range of $10.5 < \\rm{M}_\\star / \\rm{M}_\\odot < 10.9$, radial profiles of gas physical properties from $0.15 < \\rm{R/R_{\\rm 200c}} < 1.0$ reveal great CGM structural complexity, with significant variations both at fixed distance around individual galaxies, and across different galaxies. CGM gas is multi-phase: the distributions of density, temperature and entropy are all multimodal, while metallicity and thermal pressure distributions are unimodal; all are broad. We present predictions for magnetic fields in MW-like halos: a median field strength of $|B|\\sim\\,1\\mu$G in the inner halo decreases rapidly at larger distance, while magnetic pressure dominates over thermal pressure only within $\\sim0.2 \\times \\RVIR$. Virial temperature gas at $\\sim 10^6\\,$K coexists with a sub-dominant cool, $< 10^5\\,$K component in approximate pressure equilibrium. Finally, the physical properties of the CGM are tightly connected to the galactic star formation rate, in turn dependent on feedback from supermassive black holes (SMBHs). In TNG50, we find that energy from SMBH-driven kinetic winds generates high-velocity outflows ($\\gtrsim 2000$ km/s), heats gas to super-virial temperatures ($> 10^{6.5-7}$ K), and regulates the net balance of inflows versus outflows in otherwise quasi-static gaseous halos. |"
      ],
      "text/plain": [
       "[arXiv:2211.00020] The Circumgalactic Medium of Milky Way-like Galaxies in the TNG50  Simulation -- I: Halo Gas Properties and the Role of SMBH Feedback\n",
       "\tRahul Ramesh, Dylan Nelson, <mark>Annalisa Pillepich</mark>"
      ]
     },
     "metadata": {},
     "output_type": "display_data"
    },
    {
     "data": {
      "text/markdown": [
       "\n",
       "|||\n",
       "|---:|:---|\n",
       "| [![arXiv](https://img.shields.io/badge/arXiv-arXiv:2211.00036-b31b1b.svg)](https://arxiv.org/abs/arXiv:2211.00036) | **The merger and assembly histories of Milky Way- and M31-like galaxies  with TNG50: disk survival through mergers**  |\n",
       "|| <mark>Diego Sotillo-Ramos</mark>, et al. -- incl., <mark>Annalisa Pillepich</mark>, <mark>Lukas Eisert</mark>, <mark>Lars Hernquist</mark> |\n",
       "|*Appeared on*| *2022-11-02*|\n",
       "|*Comments*| *Published by MNRAS. Check also Chen et al., Engler et al. and Ramesh et al., on arxiv.org today, for further analyses of Milky Way- and Andromeda-like galaxies using the cosmological simulation TNG50. Main figures: 2, 7, 16*|\n",
       "|**Abstract**| We analyze the merger and assembly histories of Milky Way (MW) and Andromeda (M31)-like galaxies to quantify how, and how often, disk galaxies of this mass can survive recent major mergers (stellar mass ratio $\\ge$ 1:4). For this, we use the cosmological magneto-hydrodynamical simulation TNG50 and identify 198 analog galaxies, selected based on their $z=0$ stellar mass ($10^{10.5-11.2} {\\rm M_{\\odot}}$), disky stellar morphology and local environment. Firstly, major mergers are common: 85 per cent (168) of MW/M31-like galaxies in TNG50 have undergone at least one major merger across their lifetime. In fact, 31 galaxies (16 per cent) have undergone a recent major merger, i.e. in the last 5 Gyr. The gas available during the merger suffices to either induce starbursts at pericentric passages or to sustain prolonged star formation after coalescence: in roughly half of the cases, the pre-existing stellar disk is destroyed because of the merger but reforms thanks to star formation. Moreover, higher merger mass ratios are more likely to destroy the stellar disks. In comparison to those with more ancient massive mergers, MW/M31-like galaxies with recent major mergers have, on average, somewhat thicker stellar disks, more massive and somewhat shallower stellar haloes, larger stellar ex-situ mass fractions, but similarly massive kinematically-defined bulges. All this is qualitatively consistent with the different observed properties of the Galaxy and Andromeda and with the constraints on their most recent major mergers, 8-11 and ~2 Gyr ago, respectively. According to contemporary cosmological simulations, a recent quiet merger history is not a pre-requisite for obtaining a relatively-thin stellar disk at $z=0$. |"
      ],
      "text/plain": [
       "[arXiv:2211.00036] The merger and assembly histories of Milky Way- and M31-like galaxies  with TNG50: disk survival through mergers\n",
       "\t<mark>Diego Sotillo-Ramos</mark>, et al. -- incl., <mark>Annalisa Pillepich</mark>, <mark>Lukas Eisert</mark>, <mark>Lars Hernquist</mark>"
      ]
     },
     "metadata": {},
     "output_type": "display_data"
    },
    {
     "data": {
      "text/markdown": [
       "\n",
       "|||\n",
       "|---:|:---|\n",
       "| [![arXiv](https://img.shields.io/badge/arXiv-arXiv:2211.00087-b31b1b.svg)](https://arxiv.org/abs/arXiv:2211.00087) | **Where are the extremely metal-poor stars in the Milky Way and Andromeda?  Expectations from TNG50**  |\n",
       "|| <mark>Li-Hsin Chen</mark>, <mark>Annalisa Pillepich</mark>, Simon C. O. Glover, Ralf S. Klessen |\n",
       "|*Appeared on*| *2022-11-02*|\n",
       "|*Comments*| *Part of a set of papers based on TNG50 MW/M31-like galaxies. 15 pages, 9 figures. Revised manuscript to be submitted to MNRAS after receiving positive feedback*|\n",
       "|**Abstract**| We analyse the location of extremely metal-poor stars (EMPs, [Fe/H]$ < -3$) in 198 Milky Way (MW)/M31-like galaxies at $z=0$ in the TNG50 simulation. Each system is divided into four kinematically-defined morphological stellar components based on stellar circularity and galactocentric distance, namely bulge, cold disk, warm disk, and stellar halo, in addition to satellites (with stellar mass $\\ge 5\\times10^6\\,M_\\odot$). According to TNG50 and across all simulated systems, the stellar halo of the main galaxy and satellites present the highest frequency of EMPs (largest $M_{\\mathrm{EMP, comp}}$-to-$M_{\\mathrm{tot, comp}}$ stellar mass ratio), and thus the highest chances of finding them. Such frequency is larger in lower-mass than high-mass satellites. Moreover, TNG50 predicts that the stellar halo of the main galaxy always hosts and thus contributes the majority of the EMPs of the system. Namely, it has the highest mass ratio of EMPs in it to all the EMPs in the system (largest $M_{\\mathrm{EMP, comp}}$-to-$M_\\mathrm{EMP} (<300\\mathrm{kpc})$). However, notably, we also find that 33 MW/M31-like galaxies in TNG50 have cold disks that contribute more than 10 per cent to the total EMP mass, each with $\\gtrsim 10^{6.5-7}\\, M_\\odot$ of EMPs in cold circular orbits. These qualitative statements do not depend on the precise definition of EMP stars, i.e. on the adopted metallicity threshold. The results of this work provide a theoretical prediction for the location of EMP stars from both a spatial and kinematic perspective and across an unprecedented number of well-resolved MW/M31-like systems. |"
      ],
      "text/plain": [
       "[arXiv:2211.00087] Where are the extremely metal-poor stars in the Milky Way and Andromeda?  Expectations from TNG50\n",
       "\t<mark>Li-Hsin Chen</mark>, <mark>Annalisa Pillepich</mark>, Simon C. O. Glover, Ralf S. Klessen"
      ]
     },
     "metadata": {},
     "output_type": "display_data"
    },
    {
     "data": {
      "text/markdown": [
       "## Failed papers"
      ],
      "text/plain": [
       "<IPython.core.display.Markdown object>"
      ]
     },
     "metadata": {},
     "output_type": "display_data"
    },
    {
     "data": {
      "text/markdown": [
       "\n",
       "|||\n",
       "|---:|:---|\n",
       "| [![arXiv](https://img.shields.io/badge/arXiv-arXiv:2211.00013-b31b1b.svg)](https://arxiv.org/abs/arXiv:2211.00013) | **White Dwarfs in Dwarf Spheroidal Galaxies: A New Class of  Compact-Dark-Matter Detectors**  |\n",
       "|| Juri Smirnov, Ariel Goobar, <mark>Tim Linden</mark>, Edvard Mörtsell |\n",
       "|*Appeared on*| *2022-11-02*|\n",
       "|*Comments*| *5 pages, 4 figures, one appendix*|\n",
       "|**Abstract**| Recent surveys have discovered a population of faint supernovae, known as Ca-rich gap transients, inferred to originate from explosive ignitions of white dwarfs. In addition to their unique spectra and luminosities, these supernovae have an unusual spatial distribution and are predominantly found at large distances from their presumed host galaxies. We show that the locations of Ca-rich gap transients are well matched to the distribution of dwarf spheroidal galaxies surrounding large galaxies, in accordance with a scenario where dark matter interactions induce thermonuclear explosions among low-mass white dwarfs that may be otherwise difficult to ignite with standard stellar or binary evolution mechanisms. A plausible candidate to explain the observed event rate are primordial black holes with masses above $10^{21}$ grams. |\n",
       "|<p style=\"color:green\"> **ERROR** </p>| <p style=\"color:green\">affiliation error: mpia.affiliation_verifications: 'Heidelberg' keyword not found.</p> |"
      ],
      "text/plain": [
       "<IPython.core.display.Markdown object>"
      ]
     },
     "metadata": {},
     "output_type": "display_data"
    },
    {
     "data": {
      "text/markdown": [
       "\n",
       "|||\n",
       "|---:|:---|\n",
       "| [![arXiv](https://img.shields.io/badge/arXiv-arXiv:2211.00038-b31b1b.svg)](https://arxiv.org/abs/arXiv:2211.00038) | **A JWST Near- and Mid-Infrared Nebular Spectrum of the Type Ia Supernova  2021aefx**  |\n",
       "|| <mark>Lindsey A. Kwok</mark>, et al. -- incl., <mark>John P. Hughes</mark>, <mark>Chris R. Burns</mark>, <mark>Thomas de Jaeger</mark> |\n",
       "|*Appeared on*| *2022-11-02*|\n",
       "|*Comments*| *submitted to ApJ Letters, 16 pages, 12 figures*|\n",
       "|**Abstract**| We present JWST near- and mid-infrared spectroscopic observations of the nearby normal Type Ia supernova SN 2021aefx in the nebular phase at $+255$ days past maximum light. Our Near Infrared Spectrograph (NIRSpec) and Mid Infrared Instrument (MIRI) observations, combined with ground-based optical data from the South African Large Telescope (SALT), constitute the first complete optical $+$ NIR $+$ MIR nebular SN Ia spectrum covering 0.3$-$14 $\\mu$m. This spectrum unveils the previously unobserved 2.5$-$5 $\\mu$m region, revealing strong nebular iron and stable nickel emission, indicative of high-density burning that can constrain the progenitor mass. The data show a significant improvement in sensitivity and resolution compared to previous Spitzer MIR data. We identify numerous NIR and MIR nebular emission lines from iron-group elements and as well as lines from the intermediate-mass element argon. The argon lines extend to higher velocities than the iron-group elements, suggesting stratified ejecta that are a hallmark of delayed-detonation or double-detonation SN Ia models. We present fits to simple geometric line profiles to features beyond 1.2 $\\mu$m and find that most lines are consistent with Gaussian or spherical emission distributions, while the [Ar III] 8.99 $\\mu$m line has a distinctively flat-topped profile indicating a thick spherical shell of emission. Using our line profile fits, we investigate the emissivity structure of SN 2021aefx and measure kinematic properties. Continued observations of SN 2021aefx and other SNe Ia with JWST will be transformative to the study of SN Ia composition, ionization structure, density, and temperature, and will provide important constraints on SN Ia progenitor and explosion models. |\n",
       "|<p style=\"color:green\"> **ERROR** </p>| <p style=\"color:green\">affiliation error: mpia.affiliation_verifications: 'Heidelberg' keyword not found.</p> |"
      ],
      "text/plain": [
       "<IPython.core.display.Markdown object>"
      ]
     },
     "metadata": {},
     "output_type": "display_data"
    },
    {
     "data": {
      "text/markdown": [
       "\n",
       "|||\n",
       "|---:|:---|\n",
       "| [![arXiv](https://img.shields.io/badge/arXiv-arXiv:2211.00045-b31b1b.svg)](https://arxiv.org/abs/arXiv:2211.00045) | **CEERS Key Paper V: A triality on the nature of HST-dark galaxies**  |\n",
       "|| Pablo G. Pérez-González, et al. -- incl., <mark>Henry C. Ferguson</mark>, <mark>Yuchen Guo</mark>, <mark>Lisa J. Kewley</mark> |\n",
       "|*Appeared on*| *2022-11-02*|\n",
       "|*Comments*| *Submitted to ApJL*|\n",
       "|**Abstract**| The new capabilities that JWST offers in the near- and mid-infrared (IR) are used to investigate in unprecedented detail the nature of optical/near-IR faint, mid-IR bright sources, the so-called HST-dark galaxies among them. We gather JWST data from the CEERS survey in the EGS, jointly with HST data, to face this task by analyzing spatially resolved optical-to-mid-IR spectral energy distributions (SEDs) to estimate both photometric redshifts and stellar populations properties in two dimensions. We select 138 galaxies with F150W-F356W>1.5 mag, F356W<27.5 mag, which include faint-to-dark HST galaxies (H>24 mag). The nature of these sources is threefold: (1) 71% are dusty star-forming galaxies at 2<z<6 with masses 9<log M/M_sun<11 and a variety of specific SFRs (<1 to >100 Gyr^-1); (2) 18% are quiescent/dormant (i.e., subject to reignition and rejuvenation) galaxies at 3<z<5, masses log M/M_sun~10 and post-starburst stellar mass-weighted ages (0.5-1 Gyr); and (3) 11% are strong young starbursts with indications of high-EW emission lines at 6<z<7 and log M/M_sun~9.5. Morphologically, the sample is biased towards disk-like galaxies with a remarkable compactness for XELG-z6 (effective radii smaller than 0.4 kpc). Large attenuations in SFGs, 2<A(V)<5 mag, are found within 1.5 times the effective radius, approximately 2 kpc. Our technique reproduces the expected dust emission luminosities of IR-bright and sub-millimeter galaxies. Our results imply high levels of star formation activity between z~20 and z~10, where virtually 100% of our galaxies had already formed 10^8 M_sun of their stellar content, 60% of them had assembled 10^9 M_sun, and 10% up to 10^10 M_sun (in situ or ex situ). (abridged) |\n",
       "|<p style=\"color:green\"> **ERROR** </p>| <p style=\"color:green\">affiliation error: mpia.affiliation_verifications: 'Heidelberg' keyword not found.</p> |"
      ],
      "text/plain": [
       "<IPython.core.display.Markdown object>"
      ]
     },
     "metadata": {},
     "output_type": "display_data"
    },
    {
     "data": {
      "text/markdown": [
       "\n",
       "|||\n",
       "|---:|:---|\n",
       "| [![arXiv](https://img.shields.io/badge/arXiv-arXiv:2211.00048-b31b1b.svg)](https://arxiv.org/abs/arXiv:2211.00048) | **A compact symmetric ejection from the low mass AGN in the LINER galaxy  NGC 4293**  |\n",
       "|| Xiaolong Yang, Ruiling Wang, <mark>Quan Guo</mark> |\n",
       "|*Appeared on*| *2022-11-02*|\n",
       "|*Comments*| *9 pages, 5 figures, 2 tables, accepted for publication in MNRAS*|\n",
       "|**Abstract**| We conducted a Very Long Baseline Array (VLBA) observation of the low mass active galactic nucleus (AGN) in galaxy NGC 4293 ($z=0.003$). The object is associated with a low-ionization nuclear emission-line region (LINER). Its black hole mass is estimated as $\\sim10^5$ or $\\sim10^7 M_\\odot$. The VLBA 1.5 GHz image shows an inverse symmetric structure with two discrete radio blobs separated by an angular distance of $\\sim120$ mas, corresponding to $\\sim7$ parsec. Furthermore, its integrated radio spectrum has a turnover at the frequency of $\\sim0.44$ GHz. Based on the compactness and spectrum, the nuclear radio source in NGC 4293 belongs to a sample of (megahertz) peaked spectrum (PS/MPS) radio sources with compact symmetric morphologies. NGC 4293 has 1.4 GHz radio power of only $\\sim10^{20}\\,\\mathrm{W\\,Hz^{-1}}$ with the VLBA observation, which is consistent with local AGNs but lower than the current PS samples. One of the two blobs has a steep radio spectrum $\\alpha=-0.62\\pm0.08$ ($S_\\nu\\propto\\nu^{+\\alpha}$), while the other one has an inverted spectrum $\\alpha=0.32\\pm0.10$. The VLBA 1.5 GHz luminosity ratio of the two blobs is 3.23 and both blobs show lateral-flowing structures where the hotspots reside at the edge of each radio lobe. This can be explained as jet interactions with dense circumnuclear medium. We estimate the black hole mass of NGC 4293 through the fundamental plane of black hole activity, which constrains the black hole mass to be $\\lesssim10^6 M_\\odot$. It supports that the object is a low-mass AGN and a potential candidate for accreting and ejecting IMBHs. |\n",
       "|<p style=\"color:green\"> **ERROR** </p>| <p style=\"color:green\">affiliation error: mpia.affiliation_verifications: 'Heidelberg' keyword not found.</p> |"
      ],
      "text/plain": [
       "<IPython.core.display.Markdown object>"
      ]
     },
     "metadata": {},
     "output_type": "display_data"
    },
    {
     "data": {
      "text/markdown": [
       "\n",
       "|||\n",
       "|---:|:---|\n",
       "| [![arXiv](https://img.shields.io/badge/arXiv-arXiv:2211.00050-b31b1b.svg)](https://arxiv.org/abs/arXiv:2211.00050) | **Radio observations of four active galactic nuclei hosting  intermediate-mass black hole candidates: studying the outflow activity and  evolution**  |\n",
       "|| Xiaolong Yang, et al. -- incl., <mark>Shaohua Zhang</mark> |\n",
       "|*Appeared on*| *2022-11-02*|\n",
       "|*Comments*| *21 pages, 3 figures, 5 tabels, accepted for publication in ApJ*|\n",
       "|**Abstract**| Observational searches for intermediate-mass black holes (IMBHs; $10^2 - 10^6$ $M_\\odot$) include relatively isolated dwarf galaxies. For those that host active galactic nuclei (AGNs), the IMBH nature may be discerned through the accretion - jet activity. We present radio observations of four AGN-hosting dwarf galaxies (which potentially harbor IMBHs). Very large array (VLA) observations indicate steep spectra (indices of $-$0.63 to $-$1.05) between 1.4 and 9 GHz. A comparison with the 9 GHz in-band spectral index however shows a steepening for GH047 and GH158 (implying older/relic emission) and flattening for GH106 and GH163 (implying recent activity). Overlapping emission regions in the VLA 1.4 GHz and our very long baseline array (VLBA) 1.5 GHz observations, and possibly symmetric pc-scale extensions are consistent with recent activity in the latter two. Using the compact VLBA radio luminosity, X-ray luminosity (probing the accretion activity) and the black hole masses, all AGNs are found to lie on the empirical fundamental plane relation. The four AGN are radio quiet with relatively higher Eddington ratios ($0.04 - 0.32$) and resemble the X-ray binaries during spectral state transitions that entail an outflow ejection. Furthermore, the radio to X-ray luminosity ratio $\\log{R_\\mathrm{X}}$ of $-3.9$ to $-5.6$ in these four sources support the scenarios including corona mass ejection from accretion disk and wind activity. The growth to kpc-scales likely proceeds along a trajectory similar to young AGNs and peaked spectrum sources. The above complex clues can thus aid in the detection and monitoring of IMBHs in the nearby Universe. |\n",
       "|<p style=\"color:green\"> **ERROR** </p>| <p style=\"color:green\">affiliation error: mpia.affiliation_verifications: 'Heidelberg' keyword not found.</p> |"
      ],
      "text/plain": [
       "<IPython.core.display.Markdown object>"
      ]
     },
     "metadata": {},
     "output_type": "display_data"
    },
    {
     "data": {
      "text/markdown": [
       "\n",
       "|||\n",
       "|---:|:---|\n",
       "| [![arXiv](https://img.shields.io/badge/arXiv-arXiv:2211.00156-b31b1b.svg)](https://arxiv.org/abs/arXiv:2211.00156) | **Precise near-infrared photometry, accounting for precipitable water  vapour at SPECULOOS Southern Observatory**  |\n",
       "|| Peter P. Pedersen, et al. -- incl., <mark>J. McCormac</mark>, <mark>R. Wells</mark> |\n",
       "|*Appeared on*| *2022-11-02*|\n",
       "|*Comments*| *Accepted for publication in MNRAS, 10 pages, 7 figures, 3 tables*|\n",
       "|**Abstract**| The variability induced by precipitable water vapour (PWV) can heavily affect the accuracy of time-series photometric measurements gathered from the ground, especially in the near-infrared. We present here a novel method of modelling and mitigating this variability, as well as open-sourcing the developed tool -- Umbrella. In this study, we evaluate the extent to which the photometry in three common bandpasses (r', i', z'), and SPECULOOS' primary bandpass (I+z'), are photometrically affected by PWV variability. In this selection of bandpasses, the I+z' bandpass was found to be most sensitive to PWV variability, followed by z', i', and r'. The correction was evaluated on global light curves of nearby late M- and L-type stars observed by SPECULOOS' Southern Observatory (SSO) with the I+z' bandpass, using PWV measurements from the LHATPRO and local temperature/humidity sensors. A median reduction in RMS of 1.1% was observed for variability shorter than the expected transit duration for SSO's targets. On timescales longer than the expected transit duration, where long-term variability may be induced, a median reduction in RMS of 53.8% was observed for the same method of correction. |\n",
       "|<p style=\"color:green\"> **ERROR** </p>| <p style=\"color:green\">affiliation error: mpia.affiliation_verifications: 'Heidelberg' keyword not found.</p> |"
      ],
      "text/plain": [
       "<IPython.core.display.Markdown object>"
      ]
     },
     "metadata": {},
     "output_type": "display_data"
    },
    {
     "data": {
      "text/markdown": [
       "\n",
       "|||\n",
       "|---:|:---|\n",
       "| [![arXiv](https://img.shields.io/badge/arXiv-arXiv:2211.00220-b31b1b.svg)](https://arxiv.org/abs/arXiv:2211.00220) | **Giga-Year Dynamical Evolution of Particles Around Mars**  |\n",
       "|| <mark>Yuying Liang</mark>, Ryuki Hyodo |\n",
       "|*Appeared on*| *2022-11-02*|\n",
       "|*Comments*| *28 pages, 13 Figures, accepted for publication in Icarus*|\n",
       "|**Abstract**| Particles of various sizes can exist around Mars. The orbits of large particles are mainly governed by Martian gravity, while those of small particles could be significantly affected by non-gravitational forces. Many of the previous studies of particle dynamics around Mars have focused on relatively small particles (radius of $r_{\\rm p} \\lesssim 100 \\, \\mu m$) for $\\lesssim 10^{4}$ years. In this paper, using direct numerical orbital integration and analytical approaches, we consider Martian gravity, Martian $J_{2}$, the solar radiation pressure (SRP) and the Poynting-Robertson (PR) force to study the giga-year dynamical evolution of particles orbiting near the Martian equatorial plane with radius ranging from micrometer to meter. We also newly study the effect of the planetary shadow upon the particle dynamics. Our results show that small particles ($r_{\\rm p} \\lesssim 10 \\, \\mu m$) initially at $\\lesssim 8$ Martian radii (below the orbit of today's Deimos) are quickly removed by the SRP due to eccentricity increase, resulting in a collision with Mars at the pericenter distnace. The orbits of larger particles ($r_{\\rm p} > 10 \\, \\mu m$) slowly decay due to the PR forces (timescale of $> 10^{4}$ years). The planetary shadow reduces the sunlit area in the orbit and thus the efficiency of the PR drag force is reduced. However, we show that, even including the planetary shadow, particles up to $\\sim 10$ cm in radius, initially at $\\lesssim 8$ Martian radii, eventually spiral onto the Martian surface within $\\sim 10^{9}$ years. Smaller particles require less time to reach Mars, and vice versa. Our results would be important to better understand and constrain the nature of the remaining particle around Mars in a context of giant impact hypothesis for the formation of Phobos and Deimos. |\n",
       "|<p style=\"color:green\"> **ERROR** </p>| <p style=\"color:green\">affiliation error: mpia.affiliation_verifications: 'Heidelberg' keyword not found.</p> |"
      ],
      "text/plain": [
       "<IPython.core.display.Markdown object>"
      ]
     },
     "metadata": {},
     "output_type": "display_data"
    },
    {
     "data": {
      "text/markdown": [
       "\n",
       "|||\n",
       "|---:|:---|\n",
       "| [![arXiv](https://img.shields.io/badge/arXiv-arXiv:2211.00271-b31b1b.svg)](https://arxiv.org/abs/arXiv:2211.00271) | **Photometric properties and stellar parameters of the rapidly rotating  magnetic early-B star HD 345439**  |\n",
       "|| Dong-Xiang Shen, et al. -- incl., <mark>Jin-Zhong Liu</mark>, <mark>Guo-Liang Lv</mark>, <mark>Yu Zhang</mark>, <mark>Lei Li</mark> |\n",
       "|*Appeared on*| *2022-11-02*|\n",
       "|*Comments*| **|\n",
       "|**Abstract**| We first present the multicolor photometry results of the rapidly rotating magnetic star HD 345439 using the Nanshan One-meter Wide-field Telescope. From the photometric observations, we derive a rotational period of 0.7699\\pm0.0014 day. The light curves of HD 345439 are dominated by the double asymmetric S-wave feature that arises from the magnetic clouds. Pulsating behaviors are not observed in Sector 41 of the Transiting Exoplanet Survey Satellite. No evidence is found of the occurrence of centrifugal breakout events neither in the residual flux nor in the systematic variations at the extremum of the light curve. Based on the hypothesis of the Rigidly Rotating Magnetosphere model, we restrict the magnetic obliquity angle {$\\beta$} and the rotational inclination angle $i$ so that they satisfy the approximate relation {$\\beta + i \\approx 105^{\\circ}$}. The colour excess, extinction, and luminosity are determined to be $E_{(B-V)}=0.745\\pm0.016\\,$mag, $A_{V}=2.31\\pm0.05\\,$mag, and $\\rm log\\,(L/L_{\\odot})=3.82\\pm0.1 $dex, respectively. Furthermore, we derive the effective temperature as $T$$\\rm _{eff}=22\\pm1 $kK and the surface gravity as log$g=4.00\\pm0.22$. The mass$ M=7.24_{-1.24}^{+1.75}\\rm M_{\\odot}$, radius$ R=4.44_{-1.93}^{+2.68}\\rm R_{\\odot}$, and age$\\rm \\tau_{age}=23.62\\,_{-21.97}^{+4.24} $Myr are estimated from the Hertzsprung--Russell Diagram |\n",
       "|<p style=\"color:green\"> **ERROR** </p>| <p style=\"color:green\">affiliation error: mpia.affiliation_verifications: 'Heidelberg' keyword not found.</p> |"
      ],
      "text/plain": [
       "<IPython.core.display.Markdown object>"
      ]
     },
     "metadata": {},
     "output_type": "display_data"
    },
    {
     "data": {
      "text/markdown": [
       "\n",
       "|||\n",
       "|---:|:---|\n",
       "| [![arXiv](https://img.shields.io/badge/arXiv-arXiv:2211.00283-b31b1b.svg)](https://arxiv.org/abs/arXiv:2211.00283) | **Using Shell Models to Investigate Clumping in the WN4 Star HD 50896**  |\n",
       "|| <mark>Brian L. Flores</mark>, D. John Hillier, Luc Dessart |\n",
       "|*Appeared on*| *2022-11-02*|\n",
       "|*Comments*| *18 pages, 17 figures. Accepted for publication in MNRAS*|\n",
       "|**Abstract**| The spectra of Wolf-Rayet (WR) stars exhibit strong, broad emission lines that originate in the wind. These winds are radiatively driven and are susceptible to hydrodynamic instabilities that result in the formation of clumps. When modelling spectra of WR stars the volume-filling factor (VFF) approach is usually employed to treat clumpy winds. However, it is based on the assumption that the entire wind mass resides in optically thin clumps, which is not necessarily justifiable in dense winds. To test the validity of the VFF approach we use a previously described method of treating clumping, the ``Shell'' approach, to study line and continuum formation in the dense wind of the WN4 star, HD 50896. Our models indicate that fully intact spherical shells are in tension with observed spectra; a persistent ``dip'' in emission lines occurs at line centre. Removing this dip requires our models to use ``broken'' shells -- shells that are highly decoherent laterally. This insinuates that the wind of HD 50896, and by extension the winds of other WR stars, are comprised of small laterally confined and radially compressed clumps -- clumps smaller than the Sobolev length. We discuss some of the conditions necessary for the VFF approach to be valid. |\n",
       "|<p style=\"color:green\"> **ERROR** </p>| <p style=\"color:green\">affiliation error: mpia.affiliation_verifications: 'Heidelberg' keyword not found.</p> |"
      ],
      "text/plain": [
       "<IPython.core.display.Markdown object>"
      ]
     },
     "metadata": {},
     "output_type": "display_data"
    },
    {
     "data": {
      "text/markdown": [
       "\n",
       "|||\n",
       "|---:|:---|\n",
       "| [![arXiv](https://img.shields.io/badge/arXiv-arXiv:2211.00293-b31b1b.svg)](https://arxiv.org/abs/arXiv:2211.00293) | **Neutral Atmospheric Density Measurement Using Insight-HXMT Data by Earth  Occultation Technique**  |\n",
       "|| Wang-Chen Xue, et al. -- incl., <mark>Xiao-Bo Li</mark>, <mark>Shao-Lin Xiong</mark>, <mark>Shuang-Nan Zhang</mark>, <mark>Li-Ming Song</mark>, <mark>Shu Zhang</mark>, <mark>You-Li Tuo</mark>, <mark>Hai-Tao Li</mark>, <mark>Dong-Ya Guo</mark>, <mark>Jia-Cong Liu</mark>, <mark>Yan-Qiu Zhang</mark> |\n",
       "|*Appeared on*| *2022-11-02*|\n",
       "|*Comments*| *20 pages, 12 figures, accepted for publication in ApJS*|\n",
       "|**Abstract**| The Earth occultation technique has broad applications in both astronomy and atmospheric density measurements. We construct the background model during the occultation of the Crab Nebula observed by the Insight-Hard X-ray Modulation Telescope (Insight-HXMT) at energies between 6 keV and 100 keV. We propose a Bayesian atmospheric density retrieval method based on the Earth occultation technique, combining Poisson and Gaussian statistics. By modeling the atmospheric attenuation of X-ray photons during the occultation, we simultaneously retrieved the neutral densities of the atmosphere at different altitude ranges. Our method considers the correlation of densities between neighboring atmospheric layers and reduces the potential systematic bias to which previous work may be subject. Previous analyses based on light curve fitting or spectral fitting also lost some spectral or temporal information of the data. In contrast to previous work, the occultation data observed by the three telescopes onboard Insight-HXMT is fully used in our analysis, further reducing the statistical error in density retrieval. We apply our method to cross-check the (semi-)empirical atmospheric models, using 115 sets of occultation data of the Crab Nebula observed by Insight-HXMT. We find that the retrieved neutral density is ~10%, ~20%, and ~25% less than the values of the widely used atmospheric model NRLMSISE-00, in the altitude range of 55--80 km, 80--90 km, and 90--100 km, respectively. We also show that the newly released atmospheric model NRLMSIS 2.0 is generally consistent with our density measurements. |\n",
       "|<p style=\"color:green\"> **ERROR** </p>| <p style=\"color:green\">affiliation error: mpia.affiliation_verifications: 'Heidelberg' keyword not found.</p> |"
      ],
      "text/plain": [
       "<IPython.core.display.Markdown object>"
      ]
     },
     "metadata": {},
     "output_type": "display_data"
    },
    {
     "data": {
      "text/markdown": [
       "\n",
       "|||\n",
       "|---:|:---|\n",
       "| [![arXiv](https://img.shields.io/badge/arXiv-arXiv:2211.00429-b31b1b.svg)](https://arxiv.org/abs/arXiv:2211.00429) | **The survival of stellar discs in Fornax-like environments, from TNG50 to  real galaxies**  |\n",
       "|| Pablo M. Galán-de Anta, et al. -- incl., <mark>A. Pillepich</mark>, <mark>F. Pinna</mark> |\n",
       "|*Appeared on*| *2022-11-02*|\n",
       "|*Comments*| *12 pages, 7 figures. Accepted on 21 of October, published on 25 of October*|\n",
       "|**Abstract**| We study the evolution of kinematically-defined stellar discs in 10 Fornax-like clusters identified in the TNG50 run from the IllustrisTNG suite of cosmological simulations. We considered disc galaxies with present-day stellar mass $M_{\\star}\\geq 3 \\times 10^{8} M_{\\odot}$ and follow their evolution since first entering their host cluster. Very few stellar discs survive since falling in such dense environments, ranging from 40% surviving to all being disrupted. Such survival rates are consistent with what reported earlier for the two more massive, Virgo-like clusters in TNG50. In absolute terms, however, the low number of present-day disc galaxies in Fornax-like clusters could be at odds with the presence of three edge-on disc galaxies in the central regions of the actual Fornax cluster, as delineated by the Fornax3D survey. When looking at the Fornax analogues from random directions and with the same selection function of Fornax3D, the probability of finding three edge-on disc galaxies in any one Fornax-like cluster in TNG50 is rather low, albeit not impossible. We also compared the stellar-population properties near the equatorial plane derived from integral-field spectroscopy for the three edge-ons in Fornax to similar line-of-sight integrated values for present-day disc galaxies in TNG50. For one of these, the very old and metal-rich stellar population of its disc cannot be matched by any the disc galaxies in TNG50, including objects in the field. We discuss possible interpretations of these findings, while pointing to future studies on passive cluster spirals as a way to further test state-of-the-art cosmological simulations. |\n",
       "|<p style=\"color:green\"> **ERROR** </p>| <p style=\"color:green\">affiliation error: mpia.affiliation_verifications: 'Heidelberg' keyword not found.</p> |"
      ],
      "text/plain": [
       "<IPython.core.display.Markdown object>"
      ]
     },
     "metadata": {},
     "output_type": "display_data"
    },
    {
     "data": {
      "text/markdown": [
       "\n",
       "|||\n",
       "|---:|:---|\n",
       "| [![arXiv](https://img.shields.io/badge/arXiv-arXiv:2211.00485-b31b1b.svg)](https://arxiv.org/abs/arXiv:2211.00485) | **Relating galaxies across different redshift to study galaxy evolution**  |\n",
       "|| Kai Wang, Houjun Mo, <mark>Cheng Li</mark>, Yangyao Chen |\n",
       "|*Appeared on*| *2022-11-02*|\n",
       "|*Comments*| *15 pages, 10+3 figures, submitted to MNRAS, comments are welcome*|\n",
       "|**Abstract**| We propose a general framework leveraging the halo-galaxy connection to link galaxies observed at different redshift in a statistical way, and use the link to infer the redshift evolution of the galaxy population. Our tests based on hydrodynamic simulations show that our method can accurately recover the stellar mass assembly histories up to $z\\sim 3$ for present star-forming and quiescent galaxies down to $10^{10}h^{-1}M_{\\odot}$. Applying the method to observational data shows that the stellar mass evolution of the main progenitors of galaxies depends strongly on the properties of descendants, such as stellar mass, halo mass, and star formation states. Galaxies hosted by low-mass groups/halos at the present time have since $z\\sim 1.8$ grown their stellar mass $\\sim 2.5$ times as fast as those hosted by massive clusters. This dependence on host halo mass becomes much weaker for descendant galaxies with similar star formation states. Star-forming galaxies grow about 2-4 times faster than their quiescent counterparts since $z\\sim 1.8$. Both TNG and EAGLE simulations over-predict the progenitor stellar mass at $z>1$, particularly for low-mass descendants. |\n",
       "|<p style=\"color:green\"> **ERROR** </p>| <p style=\"color:green\">affiliation error: mpia.affiliation_verifications: 'Heidelberg' keyword not found.</p> |"
      ],
      "text/plain": [
       "<IPython.core.display.Markdown object>"
      ]
     },
     "metadata": {},
     "output_type": "display_data"
    },
    {
     "data": {
      "text/markdown": [
       "\n",
       "|||\n",
       "|---:|:---|\n",
       "| [![arXiv](https://img.shields.io/badge/arXiv-arXiv:2211.00613-b31b1b.svg)](https://arxiv.org/abs/arXiv:2211.00613) | **Building an Acceleration Ladder with Tidal Streams and Pulsar Timing**  |\n",
       "|| Peter Craig, Sukanya Chakrabarti, <mark>Robyn E. Sanderson</mark>, Farnik Nikakhtar |\n",
       "|*Appeared on*| *2022-11-02*|\n",
       "|*Comments*| *8 pages, 4 figures, 1 table. Submitted to ApJ Letters*|\n",
       "|**Abstract**| We analyze stellar streams in action-angle coordinates combined with recent local direct acceleration measurements to provide joint constraints on the potential of our Galaxy. Our stream analysis uses the Kullback-Leibler divergence with a likelihood analysis based on the two-point correlation function. We provide joint constraints from pulsar accelerations and stellar streams for local and global parameters that describe the potential of the Milky Way (MW). Our goal is to build an ``acceleration ladder\", where direct acceleration measurements that are currently limited in dynamic range are combined with indirect techniques that can access a much larger volume of the MW. To constrain the MW potential with stellar streams, we consider the Palomar 5, Orphan, Nyx, Helmi and GD1 streams. Of the potential models that we have considered here, the preferred potential for the streams is a two-component Staeckel potential. We also compare the vertical accelerations from stellar streams and pulsar timing, defining a function $f(z) = \\alpha_{1pulsar}z - \\frac{\\partial\\Phi}{\\partial z}$, where $\\Phi$ is the MW potential determined from stellar streams, and $\\alpha_{1~\\rm pulsar}z$ is the vertical acceleration determined from pulsar timing observations. Our analysis indicates that the Oort limit determined from streams is consistently (regardless of the choice of potential) lower than that determined from pulsar timing observations. The calibration we have derived here may be used to correct the estimate of the acceleration from stellar streams. |\n",
       "|<p style=\"color:green\"> **ERROR** </p>| <p style=\"color:green\">affiliation error: mpia.affiliation_verifications: 'Heidelberg' keyword not found.</p> |"
      ],
      "text/plain": [
       "<IPython.core.display.Markdown object>"
      ]
     },
     "metadata": {},
     "output_type": "display_data"
    },
    {
     "data": {
      "text/markdown": [
       "\n",
       "|||\n",
       "|---:|:---|\n",
       "| [![arXiv](https://img.shields.io/badge/arXiv-arXiv:2211.00152-b31b1b.svg)](https://arxiv.org/abs/arXiv:2211.00152) | **Multi-scale physical properties of NGC 6334 as revealed by relative  orientations between magnetic fields, density gradients, velocity gradients,  and gravity**  |\n",
       "|| <mark>Junhao Liu</mark>, et al. -- incl., <mark>Qizhou Zhang</mark>, <mark>Hauyu Baobab Liu</mark>, <mark>Zhi-Yun Li</mark>, <mark>Shanghuo Li</mark> |\n",
       "|*Appeared on*| *2022-11-02*|\n",
       "|*Comments*| *27 pages, 19 figures. Submitted to ApJ. Revisions on the manuscript will be made during and after peer review*|\n",
       "|**Abstract**| We present ALMA dust polarization and molecular line observations toward 4 clumps (I(N), I, IV, and V) in the massive star-forming region NGC 6334. In conjunction with large-scale dust polarization and molecular line data from JCMT, Planck, and NANTEN2, we make a synergistic analysis of relative orientations between magnetic fields ($\\theta_{\\mathrm{B}}$), column density gradients ($\\theta_{\\mathrm{NG}}$), local gravity ($\\theta_{\\mathrm{LG}}$), and velocity gradients ($\\theta_{\\mathrm{VG}}$) to investigate the multi-scale (from $\\sim$30 pc to 0.003 pc) physical properties in NGC 6334. We find that the relative orientation between $\\theta_{\\mathrm{B}}$ and $\\theta_{\\mathrm{NG}}$ changes from statistically more perpendicular to parallel as column density ($N_{\\mathrm{H_2}}$) increases, which is a signature of trans-to-sub-Alfv\\'{e}nic turbulence at complex/cloud scales as revealed by previous numerical studies. Because $\\theta_{\\mathrm{NG}}$ and $\\theta_{\\mathrm{LG}}$ are preferentially aligned within the NGC 6334 cloud, we suggest that the more parallel alignment between $\\theta_{\\mathrm{B}}$ and $\\theta_{\\mathrm{NG}}$ at higher $N_{\\mathrm{H_2}}$ is because the magnetic field line is dragged by gravity. At even higher $N_{\\mathrm{H_2}}$, the angle between $\\theta_{\\mathrm{B}}$ and $\\theta_{\\mathrm{NG}}$ or $\\theta_{\\mathrm{LG}}$ transits back to having no preferred orientation or statistically slightly more perpendicular, suggesting that the magnetic field structure is impacted by star formation activities. A statistically more perpendicular alignment is found between $\\theta_{\\mathrm{B}}$ and $\\theta_{\\mathrm{VG}}$ throughout our studied $N_{\\mathrm{H_2}}$ range, which indicates a trans-to-sub-Alfv\\'{e}nic state at small scales as well. The normalised mass-to-flux ratio derived from the polarization-intensity gradient (KTH) method increases with $N_{\\mathrm{H_2}}$. |\n",
       "|<p style=\"color:red\"> **ERROR** </p>| <p style=\"color:red\">latex error list index out of range</p> |"
      ],
      "text/plain": [
       "<IPython.core.display.Markdown object>"
      ]
     },
     "metadata": {},
     "output_type": "display_data"
    },
    {
     "data": {
      "text/markdown": [
       "\n",
       "|||\n",
       "|---:|:---|\n",
       "| [![arXiv](https://img.shields.io/badge/arXiv-arXiv:2211.00236-b31b1b.svg)](https://arxiv.org/abs/arXiv:2211.00236) | **The Age and Erosion Rate of Young Sedimentary Rock on Mars**  |\n",
       "|| <mark>An Y. Li</mark>, Edwin S. Kite, Katarina Keating |\n",
       "|*Appeared on*| *2022-11-02*|\n",
       "|*Comments*| *17 pages, 12 figures*|\n",
       "|**Abstract**| The Medusae Fossae Formation (MFF) is an enigmatic sedimentary unit near the equator of Mars, with an uncertain formation process and absolute age. Due to the heavily wind-eroded surface, it is difficult to determine the absolute model age of the MFF using a one-parameter model based on the crater size-frequency distribution function with existing crater count data. We create a new two-parameter model that estimates both age and a constant erosion rate ($\\beta$) by treating cratering as a random Poisson process. Our study uses new crater count data collected from Context Camera imagery for both the MFF and other young equatorial sedimentary rock. Based on our new model, the Central MFF formed $>$1.5 Gyr ago and had low erosion rates ($<$650 nm yr$^{-1}$), whereas the East MFF, Far East MFF, and Zephyria Planum most likely formed $<$1.5 Gyr ago and had higher erosion rates ($>$740 nm $^{-1}$). The top of Aeolis Mons (informally known as Mount Sharp) in Gale Crater and Eastern Candor have relatively young ages and low erosion rates. Based on the estimated erosion rates (since fast erosion permits metastable shallow ice), we also identify several sites, including Zephyria Planum, as plausible locations for shallow subsurface equatorial water ice that is detectable by gamma-ray spectroscopy or neutron spectroscopy. In addition to confirming $<$1.5 Gyr sedimentary rock formations on Mars, and distinguishing older and younger MFF sites, we find that fast-eroding locations have younger ages and MFF locations with slower erosion have older best-fit ages. |\n",
       "|<p style=\"color:red\"> **ERROR** </p>| <p style=\"color:red\">latex error not a gzip file</p> |"
      ],
      "text/plain": [
       "<IPython.core.display.Markdown object>"
      ]
     },
     "metadata": {},
     "output_type": "display_data"
    }
   ],
   "source": [
    "import datetime\n",
    "today = str(datetime.date.today())\n",
    "logfile = f\"_build/html/logs/log-{today}.md\"\n",
    "\n",
    "\n",
    "with open(logfile, 'w') as logs:\n",
    "    # Success\n",
    "    logs.write(f'# Arxiv on Deck 2: Logs - {today}\\n\\n')\n",
    "    logs.write(\"\"\"* Arxiv had {0:,d} new papers\\n\"\"\".format(len(new_papers)))\n",
    "    logs.write(\"\"\"    * {0:,d} with possible author matches\\n\\n\"\"\".format(len(candidates)))\n",
    "    logs.write(\"## Sucessful papers\\n\\n\")\n",
    "    display(Markdown(\"## Successful papers\"))\n",
    "    success = [k[0] for k in documents]\n",
    "    for candid in candidates:\n",
    "        if candid['identifier'].split(':')[-1] in success:\n",
    "            display(candid)\n",
    "            logs.write(candid.generate_markdown_text() + '\\n\\n')\n",
    "\n",
    "    ## failed\n",
    "    logs.write(\"## Failed papers\\n\\n\")\n",
    "    display(Markdown(\"## Failed papers\"))\n",
    "    failed = sorted(failed, key=lambda x: x[1])\n",
    "    current_reason = \"\"\n",
    "    for paper, reason in failed:\n",
    "        if 'affiliation' in reason:\n",
    "            color = 'green'\n",
    "        else:\n",
    "            color = 'red'\n",
    "        data = Markdown(\n",
    "                paper.generate_markdown_text() + \n",
    "                f'\\n|<p style=\"color:{color:s}\"> **ERROR** </p>| <p style=\"color:{color:s}\">{reason:s}</p> |'\n",
    "               )\n",
    "        if reason != current_reason:\n",
    "            logs.write(f'### {reason:s} \\n\\n')\n",
    "            current_reason = reason\n",
    "        logs.write(data.data + '\\n\\n')\n",
    "        \n",
    "        # only display here the important errors (all in logs)\n",
    "        # if color in ('red',):\n",
    "        display(data)"
   ]
  },
  {
   "cell_type": "markdown",
   "id": "472d20ee",
   "metadata": {
    "papermill": {
     "duration": 0.012689,
     "end_time": "2022-11-02T04:58:27.731696",
     "exception": false,
     "start_time": "2022-11-02T04:58:27.719007",
     "status": "completed"
    },
    "tags": []
   },
   "source": [
    "## Export documents\n",
    "\n",
    "We now write the .md files and export relevant images"
   ]
  },
  {
   "cell_type": "code",
   "execution_count": 7,
   "id": "d426aed9",
   "metadata": {
    "execution": {
     "iopub.execute_input": "2022-11-02T04:58:27.756748Z",
     "iopub.status.busy": "2022-11-02T04:58:27.756251Z",
     "iopub.status.idle": "2022-11-02T04:58:27.765882Z",
     "shell.execute_reply": "2022-11-02T04:58:27.764993Z"
    },
    "papermill": {
     "duration": 0.024537,
     "end_time": "2022-11-02T04:58:27.767655",
     "exception": false,
     "start_time": "2022-11-02T04:58:27.743118",
     "status": "completed"
    },
    "tags": []
   },
   "outputs": [],
   "source": [
    "def export_markdown_summary(md: str, md_fname:str, directory: str):\n",
    "    \"\"\"Export MD document and associated relevant images\"\"\"\n",
    "    import os\n",
    "    import shutil\n",
    "    import re\n",
    "\n",
    "    if (os.path.exists(directory) and not os.path.isdir(directory)):\n",
    "        raise RuntimeError(f\"a non-directory file exists with name {directory:s}\")\n",
    "\n",
    "    if (not os.path.exists(directory)):\n",
    "        print(f\"creating directory {directory:s}\")\n",
    "        os.mkdir(directory)\n",
    "\n",
    "    fig_fnames = (re.compile(r'\\[Fig.*\\]\\((.*)\\)').findall(md) + \n",
    "                  re.compile(r'\\<img src=\"([^>\\s]*)\"[^>]*/>').findall(md))\n",
    "    for fname in fig_fnames:\n",
    "        if 'http' in fname:\n",
    "            # No need to copy online figures\n",
    "            continue\n",
    "        destdir = os.path.join(directory, os.path.dirname(fname))\n",
    "        destfname = os.path.join(destdir, os.path.basename(fname))\n",
    "        try:\n",
    "            os.makedirs(destdir)\n",
    "        except FileExistsError:\n",
    "            pass\n",
    "        shutil.copy(fname, destfname)\n",
    "    with open(os.path.join(directory, md_fname), 'w') as fout:\n",
    "        fout.write(md)\n",
    "    print(\"exported in \", os.path.join(directory, md_fname))\n",
    "    [print(\"    + \" + os.path.join(directory,fk)) for fk in fig_fnames]"
   ]
  },
  {
   "cell_type": "code",
   "execution_count": 8,
   "id": "014d04a4",
   "metadata": {
    "execution": {
     "iopub.execute_input": "2022-11-02T04:58:27.791113Z",
     "iopub.status.busy": "2022-11-02T04:58:27.790412Z",
     "iopub.status.idle": "2022-11-02T04:58:27.835976Z",
     "shell.execute_reply": "2022-11-02T04:58:27.834971Z"
    },
    "papermill": {
     "duration": 0.059486,
     "end_time": "2022-11-02T04:58:27.838302",
     "exception": false,
     "start_time": "2022-11-02T04:58:27.778816",
     "status": "completed"
    },
    "tags": []
   },
   "outputs": [
    {
     "name": "stdout",
     "output_type": "stream",
     "text": [
      "exported in  _build/html/2211.00010.md\n",
      "    + _build/html/tmp_2211.00010/./fquench_vs_mstar_main_SAGAII_incELVES.png\n",
      "    + _build/html/tmp_2211.00010/./fquench_vs_mstar_incScatter.png\n",
      "    + _build/html/tmp_2211.00010/./fquench_vs_mstar_compSAGAII_alt.png\n",
      "    + _build/html/tmp_2211.00010/./stellarAssembly_vs_VMag_MWM31.png\n",
      "    + _build/html/tmp_2211.00010/./SFH_perMstar_perInfall_MWlikeHosts.png\n",
      "exported in  _build/html/2211.00020.md\n",
      "    + _build/html/tmp_2211.00020/./figures/fig6.png\n",
      "    + _build/html/tmp_2211.00020/./figures/fig6Cbar.png\n",
      "    + _build/html/tmp_2211.00020/./figures/fig4_2.png\n",
      "    + _build/html/tmp_2211.00020/./figures/fig4_2Cbar.png\n",
      "    + _build/html/tmp_2211.00020/./figures/histPlots.png\n",
      "    + _build/html/tmp_2211.00020/./figures/fig6Cbar.png\n",
      "exported in  _build/html/2211.00036.md\n",
      "    + _build/html/tmp_2211.00036/./Figures/TNG50-1_550934_73_MajorMerger1_starAndGasMass_sfrLog_dist_circ_starsCirc_images.png\n",
      "    + _build/html/tmp_2211.00036/./Figures/circularitiesZ0vsTbirth_BeforeDuringAfterLMMlast5Gyr_stacked.png\n",
      "    + _build/html/tmp_2211.00036/./Figures/scatter_insituLast5GyrVSTotal_z0.png\n",
      "    + _build/html/tmp_2211.00036/./Figures/scatter_exsituFromLMMVSinsituLast5Gyr_z0.png\n",
      "    + _build/html/tmp_2211.00036/./Figures/histogram_LMM_lookbackTime.png\n",
      "    + _build/html/tmp_2211.00036/./Figures/histogram_LMM_mergerDuration.png\n",
      "    + _build/html/tmp_2211.00036/./Figures/histogram_LMM_tmaxMassType4Ratio.png\n",
      "    + _build/html/tmp_2211.00036/./Figures/scatter_LMM_tmaxMassType4Ratio_vs_MassType4z0.png\n",
      "exported in  _build/html/2211.00087.md\n",
      "    + _build/html/tmp_2211.00087/./figs/Mstar_McompLowZ.png\n",
      "    + _build/html/tmp_2211.00087/./figs/fraction.png\n",
      "    + _build/html/tmp_2211.00087/./figs/morph.png\n",
      "    + _build/html/tmp_2211.00087/./figs/MDF_All.png\n",
      "    + _build/html/tmp_2211.00087/./figs/MDF_Y20B21.png\n",
      "    + _build/html/tmp_2211.00087/./figs/MDF_Hayden15.png\n"
     ]
    }
   ],
   "source": [
    "for paper_id, md in documents:\n",
    "    export_markdown_summary(md, f\"{paper_id:s}.md\", '_build/html/')"
   ]
  },
  {
   "cell_type": "markdown",
   "id": "f087a0a7",
   "metadata": {
    "papermill": {
     "duration": 0.011696,
     "end_time": "2022-11-02T04:58:27.862159",
     "exception": false,
     "start_time": "2022-11-02T04:58:27.850463",
     "status": "completed"
    },
    "tags": []
   },
   "source": [
    "## Display the papers\n",
    "\n",
    "Not necessary but allows for a quick check."
   ]
  },
  {
   "cell_type": "code",
   "execution_count": 9,
   "id": "fd25f625",
   "metadata": {
    "execution": {
     "iopub.execute_input": "2022-11-02T04:58:27.887078Z",
     "iopub.status.busy": "2022-11-02T04:58:27.886421Z",
     "iopub.status.idle": "2022-11-02T04:58:27.898209Z",
     "shell.execute_reply": "2022-11-02T04:58:27.897273Z"
    },
    "papermill": {
     "duration": 0.026874,
     "end_time": "2022-11-02T04:58:27.900719",
     "exception": false,
     "start_time": "2022-11-02T04:58:27.873845",
     "status": "completed"
    },
    "scrolled": false,
    "tags": []
   },
   "outputs": [
    {
     "data": {
      "text/markdown": [
       "<div class=\"macros\" style=\"visibility:hidden;\">\n",
       "$\\newcommand{\\ensuremath}{}$\n",
       "$\\newcommand{\\xspace}{}$\n",
       "$\\newcommand{\\object}[1]{\\texttt{#1}}$\n",
       "$\\newcommand{\\farcs}{{.}''}$\n",
       "$\\newcommand{\\farcm}{{.}'}$\n",
       "$\\newcommand{\\arcsec}{''}$\n",
       "$\\newcommand{\\arcmin}{'}$\n",
       "$\\newcommand{\\ion}[2]{#1#2}$\n",
       "$\\newcommand{\\textsc}[1]{\\textrm{#1}}$\n",
       "$\\newcommand{\\hl}[1]{\\textrm{#1}}$\n",
       "$\\newcommand{\\MSUN}{{\\rm M}_{\\sun}}$\n",
       "$\\newcommand{\\MHOST}{M_{\\rm 200c}}$\n",
       "$\\newcommand{\\RHOST}{R_{\\rm 200c}}$\n",
       "$\\newcommand{\\MSTAR}{M_{\\rm *}}$\n",
       "$\\newcommand{\\ap}[1]{\\textcolor{magenta}{#1}}$\n",
       "$\\newcommand{\\thebibliography}{\\DeclareRobustCommand{\\VAN}[3]{##3}\\VANthebibliography}$</div>\n",
       "\n",
       "<div class=\"macros\" style=\"visibility:hidden;\">\n",
       "$\\newcommand{$\\ensuremath$}{}$\n",
       "$\\newcommand{$\\xspace$}{}$\n",
       "$\\newcommand{$\\object$}[1]{\\texttt{#1}}$\n",
       "$\\newcommand{$\\farcs$}{{.}''}$\n",
       "$\\newcommand{$\\farcm$}{{.}'}$\n",
       "$\\newcommand{$\\arcsec$}{''}$\n",
       "$\\newcommand{$\\arcmin$}{'}$\n",
       "$\\newcommand{$\\ion$}[2]{#1#2}$\n",
       "$\\newcommand{$\\textsc$}[1]{\\textrm{#1}}$\n",
       "$\\newcommand{$\\hl$}[1]{\\textrm{#1}}$\n",
       "$\\newcommand{$\\MSUN$}{{\\rm M}_{\\sun}}$\n",
       "$\\newcommand{$\\MHOST$}{M_{\\rm 200c}}$\n",
       "$\\newcommand{$\\RHOST$}{R_{\\rm 200c}}$\n",
       "$\\newcommand{$\\MSTAR$}{M_{\\rm *}}$\n",
       "$\\newcommand{$\\ap$}[1]{\\textcolor{magenta}{#1}}$\n",
       "$\\newcommand{$\\thebibliography$}{\\DeclareRobustCommand{\\VAN}[3]{##3}\\VANthebibliography}$</div>\n",
       "\n",
       "\n",
       "\n",
       "<div id=\"title\">\n",
       "\n",
       "# Satellites of MW/M31-like galaxies with TNG50: quenched fractions, gas content, and star formation histories\n",
       "\n",
       "</div>\n",
       "<div id=\"comments\">\n",
       "\n",
       "[![arXiv](https://img.shields.io/badge/arXiv-2211.00010-b31b1b.svg)](https://arxiv.org/abs/2211.00010)<mark>Appeared on: 2022-11-02</mark> - _Submitted to MNRAS -- comments welcome. Part of a set of papers based on TNG50 MW/M31-like galaxies_\n",
       "\n",
       "</div>\n",
       "<div id=\"authors\">\n",
       "\n",
       "Christoph Engler, et al. -- incl., <mark><mark>Annalisa Pillepich</mark></mark>\n",
       "\n",
       "</div>\n",
       "<div id=\"abstract\">\n",
       "\n",
       "**Abstract:** We analyse the quenched fractions, gas content, and star formation histories of$\\sim$1200 satellite galaxies with$M_* \\geq 5 \\times 10^6 $\\MSUN$$around 198 Milky Way- (MW) and Andromeda-like (M31) hosts in TNG50, the highest-resolution run of the IllustrisTNG simulations. Satellites exhibit larger quenched fractions for smaller masses, at smaller distances to their host galaxy, and in the more massive M31-like compared to MW-like hosts. As satellites cross their host’s virial radius, their gas content drops significantly: most satellites within$300 {\\rm kpc}$do not contain any detectable gas reservoirs at$z = 0$, unless they are massive like the Magellanic Clouds and M32. Nevertheless, their stellar assembly exhibits a large degree of diversity. On average, the cumulative star formation histories of satellites are more extended for brighter, more massive satellites with a later infall, and for those in less massive hosts. Based on these relationships, we can even infer infall periods for observed MW and M31 dwarfs: e.g.$0-4 {\\rm Gyr}$ago for the Magellanic Clouds and Leo I,$4-8$and$0-2 {\\rm Gyr}$ago for M32 and IC 10, respectively. Ram pressure stripping (in combination with tidal stripping) deprives TNG50 satellites of their gas reservoirs and ultimately quenches their star formation activity, even though only a few per cent of the present-day satellites around the 198 TNG50 MW/M31-like hosts appear as jellyfish. The typical time since quenching for currently quenched TNG50 satellites is$6.9\\substack{+2.5\\\\-3.3}$Gyr ago. The TNG50 results are consistent with the quenched fractions and stellar assembly of observed MW and M31 satellites, however, satellites of the SAGA survey exhibit lower quenched fractions than TNG50 and other, observed analogues.\n",
       "\n",
       "</div>\n",
       "\n",
       "<div id=\"div_fig1\">\n",
       "\n",
       "<img src=\"tmp_2211.00010/./fquench_vs_mstar_main_SAGAII_incELVES.png\" alt=\"Fig4.1\" width=\"33%\"/><img src=\"tmp_2211.00010/./fquench_vs_mstar_incScatter.png\" alt=\"Fig4.2\" width=\"33%\"/><img src=\"tmp_2211.00010/./fquench_vs_mstar_compSAGAII_alt.png\" alt=\"Fig4.3\" width=\"33%\"/>\n",
       "\n",
       "**Figure 4. -** {\\bf Quenched fractions of satellite galaxies with $\\mathbf{M_{\\boldsymbol{*}} \\boldsymbol{\\geq} 5 \\boldsymbol{\\times} 10^{6} {\\bf M}_{\\boldsymbol{\\odot}0}}$ around MW/M31-like hosts in TNG50, the observed MW and M31, ELVES, and SAGA-II.}{\\it Top panel:} median quenched fractions of TNG50 satellites stacked across all hosts (curves) and of observed satellites (points). In each comparison, we impose the respective observations' selection criteria on TNG50: galaxies within $300 {\\rm kpc}$ (3D) of their host for the MW and M31 (black curve), galaxies within $300 {\\rm kpc}$(2D) and $\\pm 500 {\\rm kpc}$ along the line of sight for ELVES (red curve), and galaxies within $300 {\\rm kpc}$(2D) with line-of-sight velocities of $\\pm 275 {\\rm km s}^{-1}$ that have been matched to the absolute $r$-band magnitude $M_{\\rm r}$ of each observed SAGA-II satellite for the SAGA survey (pink curve). The black points denote the quenched fractions of the observed MW and M31 satellites \\protect\\citep{Wetzel2015} while the red and pink points correspond to the stacked satellites of ELVES \\citep{Carlsten2022} and SAGA-II \\protect\\citep{Mao2021}. While our fiducial quenched definition is based on the satellites' distance to the SFMS (solid curves), \\protect\\cite{Wetzel2015} employ a gas fraction criterion for LG satellites, \\protect\\cite{Carlsten2022} determine star formation activity based on their satellites' morphology, and the quenched fractions of \\protect\\cite{Mao2021} are based on H$\\alpha$ equivalent widths. Thus, the solid curves represent a comparison at face value. We adopt the gas fraction-based criterion of \\protect\\cite{Wetzel2015}(dotted, black curve) to more directly compare to their observations. {\\it Bottom left panel:} satellite quenched fractions including host-to-host variations. The thin, grey curves in the background denote the quenched fractions of satellites around individual TNG50 MW/M31-like hosts while the thick, black curve and the grey shaded area correspond to their mean and scatter as $16^{\\rm th}$ and $84^{\\rm th}$ percentiles. {\\it Bottom right panel:} effects of host and satellite selections on the quenched fractions of the TNG50 SAGA-II analogue sample using our fiducial quenched definition. We show the quenched fractions for satellites around both TNG50 MW/M31-like and SAGA-like hosts according to the spatial SAGA-II selection criteria (dark and medium purple solid curves, respectively), and for the smaller sample of TNG50 satellites that are matched to the SAGA-II satellites based on their absolute $r$-band magnitude (pink solid curve, as in the top panel). The dashed light pink curve gives the quenched fractions predicted by TNG50 for SAGA-like satellites including an implicit selection cut on their surface brightness as suggested by \\protect\\citet[][see text for more details]{Font2022}. We illustrate the effects of different quenched definitions by adopting the gas fraction-based definition for our matched SAGA-like satellite sample (dotted vs. solid pink curves). (*fig:fquench*)\n",
       "\n",
       "</div>\n",
       "<div id=\"div_fig2\">\n",
       "\n",
       "<img src=\"tmp_2211.00010/./stellarAssembly_vs_VMag_MWM31.png\" alt=\"Fig11\" width=\"100%\"/>\n",
       "\n",
       "**Figure 11. -** {\\bf Satellite stellar assembly times as a function of absolute $V$-band magnitude and stellar mass.} We define satellites (circles) as all galaxies with $M_* \\geq 5 \\times 10^6 $\\MSUN$$ within $300 {\\rm kpc}$ of either TNG50 MW-like hosts (left panels) or M31-like hosts (right panels) and define their stellar assembly in terms of $\\tau_{90}$(top panels) and $\\tau_{50}$(bottom panels), i.e. the lookback times at which the satellites had assembled 90 and 50 per cent of their present-day stellar mass. Filled blue circles denote galaxies that are star-forming or in the green valley at $z=0$, according to their distance to the SFMS; empty circles represent quenched satellites. Furthermore, we compare our TNG50 satellites to the observed dwarfs of the MW and M31 \\protect\\citep[red and brown diamonds, respectively,][]{Weisz2013, Weisz2014a, Navabi2021}. (*fig:stellarAssembly_vs_Vmag*)\n",
       "\n",
       "</div>\n",
       "<div id=\"div_fig3\">\n",
       "\n",
       "<img src=\"tmp_2211.00010/./SFH_perMstar_perInfall_MWlikeHosts.png\" alt=\"Fig9\" width=\"100%\"/>\n",
       "\n",
       "**Figure 9. -** {\\bf Cumulative star formation histories (SFHs) of satellites within $\\mathbf{300 {\\rm \\bf kpc}}$ of TNG50 MW-like hosts (i.e. with $\\mathbf{M_{\\boldsymbol{*}} \\boldsymbol{=} 10^{10.5} \\boldsymbol{-} 10^{10.9} {\\rm \\bf M}_{\\boldsymbol{\\odot}}}$)}. Each row depicts a different bin in satellite stellar mass (decreasing from top to bottom) whereas each column corresponds to a different bin of time since infall (accretion time $t_{\\rm acc}$, with early to late infallers from left to right). The thin, grey curves show the cumulative SFHs of individual TNG50 satellites. For bins containing at least ten satellite galaxies, we compute the median SFH and its scatter as $16^{\\rm th}$ and $84^{\\rm th}$ percentiles (black curves and grey shaded areas, respectively). The grey diamonds denote the median stellar assembly times $\\tau_{10}$, $\\tau_{50}$, and $\\tau_{90}$, i.e.  the times at which 10, 50, and 90 per cent of the present-day stellar mass has been assembled. Furthermore, we compare the normalised, cumulative SFHs of TNG50 satellites to those of observed satellites around the MW (coloured curves): the LMC and SMC \\protect\\citep{Weisz2013}, as well as Sagittarius, Fornax, and Leo I \\protect\\citep{Weisz2014a} using the best fit SFHs and their 68 per cent confidence intervals due to random and systematic uncertainties. (*fig:sfh_MWlike*)\n",
       "\n",
       "</div>"
      ],
      "text/plain": [
       "<IPython.core.display.Markdown object>"
      ]
     },
     "metadata": {},
     "output_type": "display_data"
    },
    {
     "data": {
      "text/markdown": [
       "<div class=\"macros\" style=\"visibility:hidden;\">\n",
       "$\\newcommand{\\ensuremath}{}$\n",
       "$\\newcommand{\\xspace}{}$\n",
       "$\\newcommand{\\object}[1]{\\texttt{#1}}$\n",
       "$\\newcommand{\\farcs}{{.}''}$\n",
       "$\\newcommand{\\farcm}{{.}'}$\n",
       "$\\newcommand{\\arcsec}{''}$\n",
       "$\\newcommand{\\arcmin}{'}$\n",
       "$\\newcommand{\\ion}[2]{#1#2}$\n",
       "$\\newcommand{\\textsc}[1]{\\textrm{#1}}$\n",
       "$\\newcommand{\\hl}[1]{\\textrm{#1}}$\n",
       "$\\newcommand{\\ap}[1]{{\\color{magenta} #1}}$\n",
       "$\\newcommand{\\}{MSUN}$\n",
       "$\\newcommand{\\}{RVIR}$\n",
       "$\\newcommand{\\}{RTC}$\n",
       "$\\newcommand{\\}{MTC}$\n",
       "$\\newcommand{\\}{MSTC}$\n",
       "$\\newcommand{\\}{RFC}$\n",
       "$\\newcommand{\\}{MFC}$\n",
       "$\\newcommand{\\}{ROUT}$\n",
       "$\\newcommand{\\}{RHALF}$\n",
       "$\\newcommand{\\}{MVIR}$\n",
       "$\\newcommand{\\}{MHALO}$\n",
       "$\\newcommand{\\}{MSH}$\n",
       "$\\newcommand{\\}{MS}$\n",
       "$\\newcommand{\\}{AS}$\n",
       "$\\newcommand{\\}{ADM}$\n",
       "$\\newcommand{\\}{etal}$</div>\n",
       "\n",
       "<div class=\"macros\" style=\"visibility:hidden;\">\n",
       "$\\newcommand{$\\ensuremath$}{}$\n",
       "$\\newcommand{$\\xspace$}{}$\n",
       "$\\newcommand{$\\object$}[1]{\\texttt{#1}}$\n",
       "$\\newcommand{$\\farcs$}{{.}''}$\n",
       "$\\newcommand{$\\farcm$}{{.}'}$\n",
       "$\\newcommand{$\\arcsec$}{''}$\n",
       "$\\newcommand{$\\arcmin$}{'}$\n",
       "$\\newcommand{$\\ion$}[2]{#1#2}$\n",
       "$\\newcommand{$\\textsc$}[1]{\\textrm{#1}}$\n",
       "$\\newcommand{$\\hl$}[1]{\\textrm{#1}}$\n",
       "$\\newcommand{$\\ap$}[1]{{\\color{magenta} #1}}$\n",
       "$\\newcommand{\\}{MSUN}$\n",
       "$\\newcommand{\\}{RVIR}$\n",
       "$\\newcommand{\\}{RTC}$\n",
       "$\\newcommand{\\}{MTC}$\n",
       "$\\newcommand{\\}{MSTC}$\n",
       "$\\newcommand{\\}{RFC}$\n",
       "$\\newcommand{\\}{MFC}$\n",
       "$\\newcommand{\\}{ROUT}$\n",
       "$\\newcommand{\\}{RHALF}$\n",
       "$\\newcommand{\\}{MVIR}$\n",
       "$\\newcommand{\\}{MHALO}$\n",
       "$\\newcommand{\\}{MSH}$\n",
       "$\\newcommand{\\}{MS}$\n",
       "$\\newcommand{\\}{AS}$\n",
       "$\\newcommand{\\}{ADM}$\n",
       "$\\newcommand{\\}{etal}$</div>\n",
       "\n",
       "\n",
       "\n",
       "<div id=\"title\">\n",
       "\n",
       "# The Circumgalactic Medium of Milky Way-like Galaxies in the TNG50 Simulation -- I: Halo Gas Properties and the Role of SMBH Feedback\n",
       "\n",
       "</div>\n",
       "<div id=\"comments\">\n",
       "\n",
       "[![arXiv](https://img.shields.io/badge/arXiv-2211.00020-b31b1b.svg)](https://arxiv.org/abs/2211.00020)<mark>Appeared on: 2022-11-02</mark> - _Submitted to MNRAS. Part of a set of papers based on TNG50 MW/M31-like galaxies. Additional visuals at www.tng-project.org/ramesh22!_\n",
       "\n",
       "</div>\n",
       "<div id=\"authors\">\n",
       "\n",
       "Rahul Ramesh, Dylan Nelson, <mark><mark>Annalisa Pillepich</mark></mark>\n",
       "\n",
       "</div>\n",
       "<div id=\"abstract\">\n",
       "\n",
       "**Abstract:** We analyze the physical properties of gas in the circumgalactic medium (CGM) of 132 Milky Way (MW)-like galaxies at$z=0$from the cosmological magneto-hydrodynamical simulation TNG50, part of the IllustrisTNG project. The properties and abundance of CGM gas across the sample are diverse, and the fractional budgets of different phases (cold, warm, and hot), as well as neutral HI mass and metal mass, vary considerably. Over our stellar mass range of$10.5 < \\rm{M}_\\star / \\rm{M}_\\odot < 10.9$, radial profiles of gas physical properties from$0.15 < \\rm{R/R_{\\rm 200c}} < 1.0$reveal great CGM structural complexity, with significant variations both at fixed distance around individual galaxies, and across different galaxies. CGM gas is multi-phase: the distributions of density, temperature and entropy are all multimodal, while metallicity and thermal pressure distributions are unimodal; all are broad. We present predictions for magnetic fields in MW-like halos: a median field strength of$|B|\\sim 1\\mu$G in the inner halo decreases rapidly at larger distance, while magnetic pressure dominates over thermal pressure only within$\\sim0.2 \\times \\RVIR$. Virial temperature gas at$\\sim 10^6 $K coexists with a sub-dominant cool,$< 10^5 $K component in approximate pressure equilibrium. Finally, the physical properties of the CGM are tightly connected to the galactic star formation rate, in turn dependent on feedback from supermassive black holes (SMBHs). In TNG50, we find that energy from SMBH-driven kinetic winds generates high-velocity outflows ($\\gtrsim 2000$km/s), heats gas to super-virial temperatures ($> 10^{6.5-7}$K), and regulates the net balance of inflows versus outflows in otherwise quasi-static gaseous halos.\n",
       "\n",
       "</div>\n",
       "\n",
       "<div id=\"div_fig1\">\n",
       "\n",
       "<img src=\"tmp_2211.00020/./figures/fig6.png\" alt=\"Fig6.1\" width=\"50%\"/><img src=\"tmp_2211.00020/./figures/fig6Cbar.png\" alt=\"Fig6.2\" width=\"50%\"/>\n",
       "\n",
       "**Figure 6. -** Spherically-averaged radial profiles of six physical gas quantities as a function of (3D) galactocentric distance around TNG50 MW-like galaxies. We consider density (upper left), HI density (upper right), temperature (center left), metallicity (center right), thermal pressure (lower left) and entropy (lower right). Each panel shows the median profile across the galaxy sample (black line), while the thinner curves correspond to profiles of individual halos, colored by galaxy stellar mass. Such profiles represent the azimuthally-averages of the depicted integrated or mass-weighted gas property at the given radius. Whereas the temperature and entropy of gas is generally lower in the inner halo as compared to the outskirts, due to the presence of a second cooler component becoming dominant, no such trend is clearly seen in the other four panels. The galaxy-to-galaxy scatter of individual curves about the median profile is large, and often correlates well with stellar mass. (*fig:radial_profiles*)\n",
       "\n",
       "</div>\n",
       "<div id=\"div_fig2\">\n",
       "\n",
       "<img src=\"tmp_2211.00020/./figures/fig4_2.png\" alt=\"Fig4.1\" width=\"50%\"/><img src=\"tmp_2211.00020/./figures/fig4_2Cbar.png\" alt=\"Fig4.2\" width=\"50%\"/>\n",
       "\n",
       "**Figure 4. -** Selected integral properties of the CGM plotted as a function of galaxy stellar mass for all 132 MW-like galaxies from the TNG50 simulation, at $z=0$: total CGM gas mass (top-left), CGM cold gas (T $<10^{4.5}$K) mass (along with the median line of CGM HI mass; top-right panel), CGM metal mass (bottom-left), and CGM X-ray luminosity (0.5-2.0 keV; bottom right panel). The first three quantities depend only weakly on galaxy stellar mass, while X-ray luminosity rises sharply with increasing stellar mass of the galaxy. In each panel, the circular markers are color coded by the sSFR of the galaxy -- in all cases, we note that galaxies with a lower sSFR have smaller values of the corresponding quantity. In the top-left panel, we consider two different definitions for the CGM: variable volume (extends between 0.15 and 1.0 R$_{\\rm{200,c}}$) and constant volume (extends between 30 and 200 kpc) -- the two definitions yield statistically similar results at the low mass end, while differences are apparent towards the high mass end. In all other panels, we adopt the variable volume definition, which is our fiducial choice. (*fig:cgm_props_vs_mass*)\n",
       "\n",
       "</div>\n",
       "<div id=\"div_fig3\">\n",
       "\n",
       "<img src=\"tmp_2211.00020/./figures/histPlots.png\" alt=\"Fig8.1\" width=\"50%\"/><img src=\"tmp_2211.00020/./figures/fig6Cbar.png\" alt=\"Fig8.2\" width=\"50%\"/>\n",
       "\n",
       "**Figure 8. -** Distributions of the physical properties of gas in the CGM of TNG50 MW-like galaxies at $z=0$(in each case, histograms employ 30 bins, and extend between the visible tick marks. Each (thin) curve corresponds to a single galaxy/halo, color showing its stellar mass, and accounts, as per definition, only of the gas between $0.15$ and $1.00 \\times \\rm{R_{vir}}$. The thicker curves show medians across halos binned into four galaxy stellar mass quartiles. While the metallicity and thermal pressure distributions are unimodal, gas density, HI density, temperature, and entropy are multimodal, suggesting that the CGM hosts multi-phase gas that forms distinct populations in density, temperature, and entropy. Only temperature and entropy show peaks with strong monotonic trends as a function of stellar mass, with more more massive galaxies hosting gas at higher temperatures and higher entropy in their CGM. (*fig:histPlots*)\n",
       "\n",
       "</div>"
      ],
      "text/plain": [
       "<IPython.core.display.Markdown object>"
      ]
     },
     "metadata": {},
     "output_type": "display_data"
    },
    {
     "data": {
      "text/markdown": [
       "<div class=\"macros\" style=\"visibility:hidden;\">\n",
       "$\\newcommand{\\ensuremath}{}$\n",
       "$\\newcommand{\\xspace}{}$\n",
       "$\\newcommand{\\object}[1]{\\texttt{#1}}$\n",
       "$\\newcommand{\\farcs}{{.}''}$\n",
       "$\\newcommand{\\farcm}{{.}'}$\n",
       "$\\newcommand{\\arcsec}{''}$\n",
       "$\\newcommand{\\arcmin}{'}$\n",
       "$\\newcommand{\\ion}[2]{#1#2}$\n",
       "$\\newcommand{\\textsc}[1]{\\textrm{#1}}$\n",
       "$\\newcommand{\\hl}[1]{\\textrm{#1}}$\n",
       "$\\newcommand{\\DSR}[1]{\\textcolor{red}{#1}}$\n",
       "$\\newcommand{\\DSRc}[1]{\\textit{\\textcolor{red}{#1}}}$\n",
       "$\\newcommand{\\DTA}[1]{\\textcolor{cyan}{#1}}$\n",
       "$\\newcommand{\\ap}[1]{\\textcolor{magenta}{#1}}$\n",
       "$\\newcommand{\\apn}[1]{\\textcolor{red}{#1}}$\n",
       "$\\newcommand{\\MS}{\\rm{M}_{\\odot}}$\n",
       "$\\newcommand{\\MH}{\\rm{M}_{\\rm 200c}}$\n",
       "$\\newcommand{\\thebibliography}{\\DeclareRobustCommand{\\VAN}[3]{##3}\\VANthebibliography}$\n",
       "$\\newcommand{\\}{blankpage}$</div>\n",
       "\n",
       "<div class=\"macros\" style=\"visibility:hidden;\">\n",
       "$\\newcommand{$\\ensuremath$}{}$\n",
       "$\\newcommand{$\\xspace$}{}$\n",
       "$\\newcommand{$\\object$}[1]{\\texttt{#1}}$\n",
       "$\\newcommand{$\\farcs$}{{.}''}$\n",
       "$\\newcommand{$\\farcm$}{{.}'}$\n",
       "$\\newcommand{$\\arcsec$}{''}$\n",
       "$\\newcommand{$\\arcmin$}{'}$\n",
       "$\\newcommand{$\\ion$}[2]{#1#2}$\n",
       "$\\newcommand{$\\textsc$}[1]{\\textrm{#1}}$\n",
       "$\\newcommand{$\\hl$}[1]{\\textrm{#1}}$\n",
       "$\\newcommand{$\\DSR$}[1]{\\textcolor{red}{#1}}$\n",
       "$\\newcommand{$\\DSR$c}[1]{\\textit{\\textcolor{red}{#1}}}$\n",
       "$\\newcommand{$\\DTA$}[1]{\\textcolor{cyan}{#1}}$\n",
       "$\\newcommand{$\\ap$}[1]{\\textcolor{magenta}{#1}}$\n",
       "$\\newcommand{$\\ap$n}[1]{\\textcolor{red}{#1}}$\n",
       "$\\newcommand{$\\MS$}{\\rm{M}_{\\odot}}$\n",
       "$\\newcommand{$\\MH$}{\\rm{M}_{\\rm 200c}}$\n",
       "$\\newcommand{$\\thebibliography$}{\\DeclareRobustCommand{\\VAN}[3]{##3}\\VANthebibliography}$\n",
       "$\\newcommand{\\}{blankpage}$</div>\n",
       "\n",
       "\n",
       "\n",
       "<div id=\"title\">\n",
       "\n",
       "# The merger and assembly histories of Milky Way- and M31-like galaxies with TNG50: disk survival through mergers\n",
       "\n",
       "</div>\n",
       "<div id=\"comments\">\n",
       "\n",
       "[![arXiv](https://img.shields.io/badge/arXiv-2211.00036-b31b1b.svg)](https://arxiv.org/abs/2211.00036)<mark>Appeared on: 2022-11-02</mark> - _Published by MNRAS. Check also Chen et al., Engler et al. and Ramesh et al., on arxiv.org today, for further analyses of Milky Way- and Andromeda-like galaxies using the cosmological simulation TNG50. Main figures: 2, 7, 16_\n",
       "\n",
       "</div>\n",
       "<div id=\"authors\">\n",
       "\n",
       "<mark><mark>Diego Sotillo-Ramos</mark></mark>, et al. -- incl., <mark><mark>Annalisa Pillepich</mark></mark>, <mark><mark>Lukas Eisert</mark></mark>, <mark><mark>Lars Hernquist</mark></mark>\n",
       "\n",
       "</div>\n",
       "<div id=\"abstract\">\n",
       "\n",
       "**Abstract:** We analyze the merger and assembly histories of Milky Way (MW) and Andromeda (M31)-like galaxies to quantify how, and how often, disk galaxies of this mass can survive recent major mergers (stellar mass ratio$\\ge$1:4).For this, we use the cosmological magneto-hydrodynamical simulation TNG50 and identify 198 analog galaxies, selected based on their$z=0$stellar mass ($10^{10.5-11.2} $\\MS$$), disky stellar morphology and local environment.Firstly, major mergers are common: 85 per cent (168) of MW/M31-like galaxies in TNG50 have undergone at least one major merger across their lifetime.In fact, 31 galaxies (16 per cent) have undergone a recent major merger, i.e. in the last 5 Gyr. The gas available during the merger suffices to either induce starbursts at pericentric passages or to sustain prolonged star formation after coalescence: in roughly half of the cases, the pre-existing stellar disk is destroyed because of the merger but reforms thanks to star formation. Moreover, higher merger mass ratios are more likely to destroy the stellar disks.In comparison to those with more ancient massive mergers, MW/M31-like galaxies with recent major mergers have, on average, somewhat thicker stellar disks, more massive and somewhat shallower stellar haloes, larger stellar ex-situ mass fractions, but similarly massive kinematically-defined bulges. All this is qualitatively consistent with the different observed properties of the Galaxy and Andromeda and with the constraints on their most recent major mergers,$8-11$and  2 Gyr ago, respectively.According to contemporary cosmological simulations, a recent quiet merger history is not a pre-requisite for obtaining a relatively-thin stellar disk at$z=0$.\n",
       "\n",
       "</div>\n",
       "\n",
       "<div id=\"div_fig1\">\n",
       "\n",
       "<img src=\"tmp_2211.00036/./Figures/TNG50-1_550934_73_MajorMerger1_starAndGasMass_sfrLog_dist_circ_starsCirc_images.png\" alt=\"Fig13\" width=\"100%\"/>\n",
       "\n",
       "**Figure 13. -** Evolutionary tracks of an example TNG50 MW/M31-like galaxy whose last major merger destroys the stellar disk, but a new one reforms.\n",
       "    In all panels, but the images at the bottom, values are shown as a function of cosmic time. The vertical thick solid line represents the time of the last major merger; the thin vertical line in the top panel denotes the time when the stellar mass ratio is evaluated.\n",
       "    \\textit{Top panel:} Time evolution of the gravitationaly-bound stellar and gas mass (solid and dashed line, respectively) for the primary and secondary progenitors.\n",
       "    \\textit{Second to fourth panels:} SFR of the main progenitor (fuchsia), distance between progenitors (red), and diskyness i.e. D/T mass ratio (blue -- see definition in Section \\ref{sec:galStarProperties}).\n",
       "    \\textit{Fifth to seventh panels:} Distributions of the orbit circularities of stellar particles. From top to bottom: circularities of the in-situ stars along the main-progenitor branch of the galaxy; in-situ circularities evaluated at $z=0$ and shown as a function of the birth time of the stars; in-situ circularity evaluated at the time of birth and shown as as a function of birth time.\n",
       "    \\textit{Bottom panels:} Stellar density images of the main progenitors, centered at the main galaxy, face-on and an edge-on views, across snapshots separated by about 150 Myrs.\n",
       "     (*fig:circularitiesLMMdestroysDisk*)\n",
       "\n",
       "</div>\n",
       "<div id=\"div_fig2\">\n",
       "\n",
       "<img src=\"tmp_2211.00036/./Figures/circularitiesZ0vsTbirth_BeforeDuringAfterLMMlast5Gyr_stacked.png\" alt=\"Fig16.1\" width=\"33%\"/><img src=\"tmp_2211.00036/./Figures/scatter_insituLast5GyrVSTotal_z0.png\" alt=\"Fig16.2\" width=\"33%\"/><img src=\"tmp_2211.00036/./Figures/scatter_exsituFromLMMVSinsituLast5Gyr_z0.png\" alt=\"Fig16.3\" width=\"33%\"/>\n",
       "\n",
       "**Figure 16. -** \n",
       "    Connection between star formation, orbital circularities of the stars and the amount of in-situ star formation triggered by the merger and of the ex-situ stars brought in by the mergers.\n",
       "    \\textit{Top}: circularities of the stellar orbits at the time of formation vs. at $z=0$, stacked for all 31 TNG50 MW/M31-like galaxies with a recent major merger, for stars formed before (before $t_{\\rm{max}}$),  during (between $t_{\\rm{max}}$ and $t_{\\rm{merger}}$), and after the last major merger, from left to right. In all panels, stars in perfectly circular orbits have a circularity $=1$(or $-1$ if they are counter-rotating); stars in radial orbits have a circularity of $\\sim0$. Histograms show the total stellar mass per galaxy born in the respective periods of time.\n",
       "    \\textit{Bottom left}: Fraction of in-situ stellar mass formed in the last 5 Gyr as a function of total stellar mass at $z=0$.\n",
       "    \\textit{Bottom right}: Ex-situ stellar mass brought during the last major merger vs. in situ stellar mass in the last 5 Gyr. In both cases, TNG50 MW/M31-like galaxies with a recent major merger (blue) are contrasted with those with at least one major merger across their history but irrespective of when (light blue). Most of the stars were born in circular orbits, this is generally the case both before and after the times of the last major merger and, to a lesser extent, during the last major merger; however, the orbits of the stars born after the last recent major merger remain mostly unaltered, i.e. in circular orbits, all the way to $z=0$. Furthermore, recent major mergers also seem to trigger more in-situ star formation in the resulting galaxy than in galaxies with more ancient mergers, in addition to bringing large amounts of ex-situ stellar mass. (*fig:circularitiesPrePostLMM*)\n",
       "\n",
       "</div>\n",
       "<div id=\"div_fig3\">\n",
       "\n",
       "<img src=\"tmp_2211.00036/./Figures/histogram_LMM_lookbackTime.png\" alt=\"Fig12.1\" width=\"25%\"/><img src=\"tmp_2211.00036/./Figures/histogram_LMM_mergerDuration.png\" alt=\"Fig12.2\" width=\"25%\"/><img src=\"tmp_2211.00036/./Figures/histogram_LMM_tmaxMassType4Ratio.png\" alt=\"Fig12.3\" width=\"25%\"/><img src=\"tmp_2211.00036/./Figures/scatter_LMM_tmaxMassType4Ratio_vs_MassType4z0.png\" alt=\"Fig12.4\" width=\"25%\"/>\n",
       "\n",
       "**Figure 12. -** Characteristics of the last major mergers of MW/M31-like galaxies in TNG50 at $z=0$: major mergers. In all panels, MW/M31-like galaxies that experienced their final major merger in the last 5 Gyr are depicted in blue; MW/M31 analogues with their last major merger at any cosmic time are indicated in light blue.\n",
       "    \\textit{Top left}: Time of the last major merger (in lookback Gyr) for each of the 198 galaxies, in bins of $1 $Gyr: 30 MW/M31-like galaxies did not undergo any major mergers (orange bin); 95 galaxies (approximately 50 per cent) underwent their last major merger more than 9 Gyr ago ($z\\gtrsim1.3)$; 31 galaxies have had a late major merger, i.e. as recent as in the last 5 Gyr. The occurrence of the latter is distributed in an approximately uniform way in the considered period of time.\n",
       "    \\textit{Top right}: Duration of the major mergers, defined as the time elapsed since the secondary reached its maximum in stellar mass ($t_\\rmn{max}$) and the moment of coalescence -- bins span 330 million years. 77 per cent of the major mergers lasting longer than $1.5 $Gyr are recent.\n",
       "    \\textit{Bottom left}: Stellar-mass ratios between the secondary and the primary, at $t_\\rmn{max}$. \\textit{Bottom right}: Stellar mass of both progenitors, at $t_\\rmn{max}$, versus the stellar mass of the galaxy at $z=0$. For the Galaxy and Andromeda, we show observational estimates with magenta and orange annotations, respectively: the mass-ratio and the time of the known last major merger are taken for the case of GES \\citep[][]{Helmi2018, Gallart2019, Naidu2021} and for M32 \\citep[][]{DSouza2018}.\n",
       "     (*fig:lastMajorMerger*)\n",
       "\n",
       "</div>"
      ],
      "text/plain": [
       "<IPython.core.display.Markdown object>"
      ]
     },
     "metadata": {},
     "output_type": "display_data"
    },
    {
     "data": {
      "text/markdown": [
       "<div class=\"macros\" style=\"visibility:hidden;\">\n",
       "$\\newcommand{\\ensuremath}{}$\n",
       "$\\newcommand{\\xspace}{}$\n",
       "$\\newcommand{\\object}[1]{\\texttt{#1}}$\n",
       "$\\newcommand{\\farcs}{{.}''}$\n",
       "$\\newcommand{\\farcm}{{.}'}$\n",
       "$\\newcommand{\\arcsec}{''}$\n",
       "$\\newcommand{\\arcmin}{'}$\n",
       "$\\newcommand{\\ion}[2]{#1#2}$\n",
       "$\\newcommand{\\textsc}[1]{\\textrm{#1}}$\n",
       "$\\newcommand{\\hl}[1]{\\textrm{#1}}$\n",
       "$\\newcommand{\\angstrom}{\\textup{\\AA}}$\n",
       "$\\newcommand{\\lhnote}[1]{\\textcolor{cyan}{{#1}}}$\n",
       "$\\newcommand{\\msun}{{\\rm M}_\\odot}$\n",
       "$\\newcommand{\\zsun}{Z_\\odot}$\n",
       "$\\newcommand{\\mste}{M_{\\rm *}}$\n",
       "$\\newcommand{\\feh}{\\mathrm{[Fe/H]}}$\n",
       "$\\newcommand{\\epz}{\\epsilon_\\mathrm{z}}$\n",
       "$\\newcommand{\\empempall}{M_{\\mathrm{EMP, comp}}-to-M_\\mathrm{EMP} (<300\\mathrm{kpc}) }$\n",
       "$\\newcommand{\\empall}{M_{\\mathrm{EMP, comp}}-to-M_{\\mathrm{tot, comp}} }$\n",
       "$\\newcommand{\\empallr}{M_{\\mathrm{EMP}}(r)-to-M_{\\mathrm{tot}}(r) }$\n",
       "$\\newcommand{\\ap}[1]{\\textcolor{magenta}{#1}}$</div>\n",
       "\n",
       "<div class=\"macros\" style=\"visibility:hidden;\">\n",
       "$\\newcommand{$\\ensuremath$}{}$\n",
       "$\\newcommand{$\\xspace$}{}$\n",
       "$\\newcommand{$\\object$}[1]{\\texttt{#1}}$\n",
       "$\\newcommand{$\\farcs$}{{.}''}$\n",
       "$\\newcommand{$\\farcm$}{{.}'}$\n",
       "$\\newcommand{$\\arcsec$}{''}$\n",
       "$\\newcommand{$\\arcmin$}{'}$\n",
       "$\\newcommand{$\\ion$}[2]{#1#2}$\n",
       "$\\newcommand{$\\textsc$}[1]{\\textrm{#1}}$\n",
       "$\\newcommand{$\\hl$}[1]{\\textrm{#1}}$\n",
       "$\\newcommand{$\\angstrom$}{\\textup{\\AA}}$\n",
       "$\\newcommand{$\\lhnote$}[1]{\\textcolor{cyan}{{#1}}}$\n",
       "$\\newcommand{$\\msun$}{{\\rm M}_\\odot}$\n",
       "$\\newcommand{$\\zsun$}{Z_\\odot}$\n",
       "$\\newcommand{$\\mste$}{M_{\\rm *}}$\n",
       "$\\newcommand{$\\feh$}{\\mathrm{[Fe/H]}}$\n",
       "$\\newcommand{$\\epz$}{\\epsilon_\\mathrm{z}}$\n",
       "$\\newcommand{$\\empempall$}{M_{\\mathrm{EMP, comp}}-to-M_\\mathrm{EMP} (<300\\mathrm{kpc}) }$\n",
       "$\\newcommand{$\\empall$}{M_{\\mathrm{EMP, comp}}-to-M_{\\mathrm{tot, comp}} }$\n",
       "$\\newcommand{$\\empall$r}{M_{\\mathrm{EMP}}(r)-to-M_{\\mathrm{tot}}(r) }$\n",
       "$\\newcommand{$\\ap$}[1]{\\textcolor{magenta}{#1}}$</div>\n",
       "\n",
       "\n",
       "\n",
       "<div id=\"title\">\n",
       "\n",
       "# Where are the extremely metal-poor stars in the Milky Way and Andromeda? Expectations from TNG50\n",
       "\n",
       "</div>\n",
       "<div id=\"comments\">\n",
       "\n",
       "[![arXiv](https://img.shields.io/badge/arXiv-2211.00087-b31b1b.svg)](https://arxiv.org/abs/2211.00087)<mark>Appeared on: 2022-11-02</mark> - _Part of a set of papers based on TNG50 MW/M31-like galaxies. 15 pages, 9 figures. Revised manuscript to be submitted to MNRAS after receiving positive feedback_\n",
       "\n",
       "</div>\n",
       "<div id=\"authors\">\n",
       "\n",
       "<mark><mark>Li-Hsin Chen</mark></mark>, <mark><mark>Annalisa Pillepich</mark></mark>, Simon C. O. Glover, Ralf S. Klessen\n",
       "\n",
       "</div>\n",
       "<div id=\"abstract\">\n",
       "\n",
       "**Abstract:** We analyse the location of extremely metal-poor stars (EMPs,$\\feh < -3$) in 198 Milky Way (MW)/M31-like galaxies at$z=0$in the TNG50 simulation. Each system is divided into four kinematically-defined morphological stellar components based on stellar circularity and galactocentric distance, namely bulge, cold disk, warm disk, and stellar halo, in addition to satellites (with stellar mass$\\ge5\\times10^6 $\\msun$$). According to TNG50 and across all simulated systems, the stellar halo of the main galaxy and satellites present the highest frequency of EMPs (largest$\\empall$stellar mass ratio), and thus the highest chances of finding them. Such frequency is larger in lower-mass than high-mass satellites. Moreover, TNG50 predicts that the stellar halo of the main galaxy always hosts and thus contributes the majority of the EMPs of the system. Namely, it has the highest mass ratio  of EMPs in it to all the EMPs in the system (largest$\\empempall$). However, notably, we also find that 33 MW/M31-like galaxies in TNG50 have cold disks that contribute more than 10 per cent to the total EMP mass, each with$\\gtrsim 10^{6.5-7}  $\\msun$$of EMPs in cold circular orbits. These qualitative statements do not depend on the precise definition of EMP stars, i.e. on  the adopted metallicity threshold. The results of this work provide a theoretical prediction for the location of EMP stars from both a spatial and kinematic perspective and across an unprecedented number of well-resolved MW/M31-like systems.\n",
       "\n",
       "</div>\n",
       "\n",
       "<div id=\"div_fig1\">\n",
       "\n",
       "<img src=\"tmp_2211.00087/./figs/Mstar_McompLowZ.png\" alt=\"Fig8.1\" width=\"50%\"/><img src=\"tmp_2211.00087/./figs/fraction.png\" alt=\"Fig8.2\" width=\"50%\"/>\n",
       "\n",
       "**Figure 8. -** Mass fraction of EMP stars in 198 TNG50 MW/M31 analogues in different morphological components\\textbf{Stellar mass and mass fractions of EMPs in 198 TNG50 MW/M31 analogues across their different morphological components.} In the top panel, we give the amounts of stellar mass in EMP stellar populations predicted by TNG50 across and within the different galaxies. In the bottom left panel, we show the $\\empall$ fraction, i.e. the frequency of EMPs on a component-by-component basis. In the bottom right, we show the $\\empempall$ fractions, i.e. the contribution of each morphological component to the total mass in EMPs, i.e. across all components. Satellites belonging to each galaxy are considered as one component in the system (the \"satellites\", see Sec. \\ref{sec:morph} for details). Bulge, cold disk, warm disk, stellar halo, and satellites in each MW/M31-like system are shown as red, blue, green, orange, and grey circles, respectively. The amount of EMPs across all the morphological components ($M_\\mathrm{EMP} (<300\\mathrm{kpc})$) is shown as black crosses.\n",
       "    There are 6 MW/M31 analogues without any satellites and 1 MW/M31 analogue that has only one metal-enriched satellite. They are manually added in the bottom of the top panel in filled grey circles.\n",
       "     (*fig:empfraction*)\n",
       "\n",
       "</div>\n",
       "<div id=\"div_fig2\">\n",
       "\n",
       "<img src=\"tmp_2211.00087/./figs/morph.png\" alt=\"Fig3\" width=\"100%\"/>\n",
       "\n",
       "**Figure 3. -** Kinematically-defined morphological decomposition of the simulated MW/M31-like galaxies adopted throughout.{\\bf Kinematically-defined morphological decomposition of the simulated MW/M31-like galaxies adopted throughout.}{\\it Top}: Cartoon plot of the morphological decomposition of the main galaxy's body, based on circularity and galactocentric distance of the stars: $r_\\mathrm{cut} = 3.5$ kpc, $r_\\mathrm{disk} = 6 \\times r_\\mathrm{disk scale length}$, and $r_\\mathrm{halo} = 300$ kpc. In addition to the depicted components, namely bulge, cold disk, warm disk, and stellar halo, satellite galaxies are identified as gravitationally-bound substructures of stars within 300 kpc from the centre, via the $\\textsc${Subfind} algorithm. In this paper, we only consider satellites more massive than $5\\times10^6 $\\msun$$ in stars.\n",
       "    {\\it Bottom}: stellar mass in the distinct morphological components of all 198 MW/M31-like systems of TNG50 at $z=0$. (*fig:morph_decomp*)\n",
       "\n",
       "</div>\n",
       "<div id=\"div_fig3\">\n",
       "\n",
       "<img src=\"tmp_2211.00087/./figs/MDF_All.png\" alt=\"Fig4.1\" width=\"33%\"/><img src=\"tmp_2211.00087/./figs/MDF_Y20B21.png\" alt=\"Fig4.2\" width=\"33%\"/><img src=\"tmp_2211.00087/./figs/MDF_Hayden15.png\" alt=\"Fig4.3\" width=\"33%\"/>\n",
       "\n",
       "**Figure 4. -** MDFs of TNG50 MW/M31 analogues{\\bf Stellar metallicity distribution functions (MDFs) of MW/M31-like galaxies in TNG50.}{\\it Top panels:} we show the MDFs of all 198 MW/M31 systems, across {\\it all} their morphological components: disks, bulge, stellar halo and satellites, colour coded by galaxy stellar mass. The redder the colour, the higher the galaxy stellar mass. On the left, we show the cumulative fraction and on the right, we show the stellar mass. {\\it Five bottom panels:} MDFs of the subsample TNG50 galaxies with mass more similar to the Milky Way (gray curves) overlaid to results from observations and thus with stars selected by height and radial distance to attempt to account for the surveys' selection functions: we report here the Milky Way's MDF by \\citet{Youakim:2020aa}(green, top left), \\citet{Bonifacio:2021aa}(magenta, top right), and by \\citet{Hayden:2015aa}(shades of blue, three bottom panels, for three different height selections). For the middle left panel, we select stars that have heliocentric distances between 6 and 20 kpc, and at Galactic latitudes between 30 and 78 degrees. The solar position in each MW-like galaxy is randomly sampled from the galactic centre and we compute the mean MDF over 100 runs. The probability is then normalised to the total number of stars between $-4. < $\\feh$ < -1.05$ to compare with \\citet{Youakim:2020aa}. In the middle right panel, we select stars that are < 6 kpc from the galactic plane and < 14 kpc from the galactic centre. The probability is again normalised to the total number of stars between $-4. < $\\feh$ < -1.05$ to compare with \\citet{Bonifacio:2021aa}. In the bottom three panels, we group stars at different distances from the galactic plane to compare with \\citet{Hayden:2015aa}, where the probabilities are normalised to total number of stars in each subset. We do not impose any additional selection function to TNG50 star particles but for the aforementioned geometrical spatial cuts that account for the effective footprints of the APOGEE survey. Note that the MDF in \\citet{Hayden:2015aa} is not suitable for comparison below $\\feh \\leq -1$. (*fig:mdf*)\n",
       "\n",
       "</div>"
      ],
      "text/plain": [
       "<IPython.core.display.Markdown object>"
      ]
     },
     "metadata": {},
     "output_type": "display_data"
    }
   ],
   "source": [
    "[display(Markdown(k[1])) for k in documents];"
   ]
  },
  {
   "cell_type": "markdown",
   "id": "873873a4",
   "metadata": {
    "papermill": {
     "duration": 0.013939,
     "end_time": "2022-11-02T04:58:27.928299",
     "exception": false,
     "start_time": "2022-11-02T04:58:27.914360",
     "status": "completed"
    },
    "tags": []
   },
   "source": [
    "# Create HTML index"
   ]
  },
  {
   "cell_type": "code",
   "execution_count": 10,
   "id": "cf665672",
   "metadata": {
    "execution": {
     "iopub.execute_input": "2022-11-02T04:58:27.958483Z",
     "iopub.status.busy": "2022-11-02T04:58:27.958141Z",
     "iopub.status.idle": "2022-11-02T04:58:27.971963Z",
     "shell.execute_reply": "2022-11-02T04:58:27.971208Z"
    },
    "papermill": {
     "duration": 0.031105,
     "end_time": "2022-11-02T04:58:27.974100",
     "exception": false,
     "start_time": "2022-11-02T04:58:27.942995",
     "status": "completed"
    },
    "tags": []
   },
   "outputs": [
    {
     "name": "stdout",
     "output_type": "stream",
     "text": [
      "78  publications in the last 7 days.\n",
      "\t _build/html/2211.00087.md\n",
      "\t _build/html/2211.00036.md\n",
      "\t _build/html/2211.00020.md\n",
      "\t _build/html/2211.00010.md\n",
      "\t _build/html/2210.17434.md\n",
      "\t _build/html/2210.12412.md\n",
      "\t _build/html/2210.11926.md\n",
      "\t _build/html/2210.11551.md\n",
      "\t _build/html/2210.11103.md\n",
      "\t _build/html/2210.10707.md\n",
      "\t _build/html/2210.09930.md\n",
      "\t _build/html/2210.08996.md\n",
      "\t _build/html/2210.08517.md\n",
      "\t _build/html/2210.08510.md\n",
      "\t _build/html/2210.08078.md\n",
      "\t _build/html/2210.06504.md\n",
      "\t _build/html/2210.05695.md\n",
      "\t _build/html/2210.05595.md\n",
      "\t _build/html/2210.05505.md\n",
      "\t _build/html/2210.04721.md\n",
      "\t _build/html/2210.03615.md\n",
      "\t _build/html/2210.01811.md\n",
      "\t _build/html/2210.01809.md\n",
      "\t _build/html/2210.01556.md\n",
      "\t _build/html/2210.00863.md\n",
      "\t _build/html/2210.00560.md\n",
      "\t _build/html/2209.15403.md\n",
      "\t _build/html/2209.15110.md\n",
      "\t _build/html/2209.14410.md\n",
      "\t _build/html/2209.14396.md\n",
      "\t _build/html/2209.13717.md\n",
      "\t _build/html/2209.13336.md\n",
      "\t _build/html/2209.12906.md\n",
      "\t _build/html/2209.11781.md\n",
      "\t _build/html/2209.11602.md\n",
      "\t _build/html/2209.11248.md\n",
      "\t _build/html/2209.11096.md\n",
      "\t _build/html/2209.10618.md\n",
      "\t _build/html/2209.09914.md\n",
      "\t _build/html/2209.09823.md\n",
      "\t _build/html/2209.08242.md\n",
      "\t _build/html/2209.08120.md\n",
      "\t _build/html/2209.08106.md\n",
      "\t _build/html/2209.07962.md\n",
      "\t _build/html/2209.07931.md\n",
      "\t _build/html/2209.06833.md\n",
      "\t _build/html/2209.05814.md\n",
      "\t _build/html/2209.05593.md\n",
      "\t _build/html/2209.04304.md\n",
      "\t _build/html/2209.03367.md\n",
      "\t _build/html/2209.02872.md\n",
      "\t _build/html/2209.02725.md\n",
      "\t _build/html/2209.02722.md\n",
      "\t _build/html/2209.02092.md\n",
      "\t _build/html/2209.01125.md\n",
      "\t _build/html/2209.00828.md\n",
      "\t _build/html/2209.00363.md\n",
      "\t _build/html/2208.14927.md\n",
      "\t _build/html/2208.09335.md\n",
      "\t _build/html/2208.08872.md\n",
      "\t _build/html/2204.06393.md\n",
      "\t _build/html/2204.03335.md\n",
      "\t _build/html/2204.03253.md\n",
      "\t _build/html/2204.02998.md\n",
      "\t _build/html/2204.02109.md\n",
      "\t _build/html/2204.02017.md\n",
      "\t _build/html/2204.01824.md\n",
      "\t _build/html/2204.01758.md\n",
      "\t _build/html/2204.01245.md\n",
      "\t _build/html/2204.00793.md\n",
      "\t _build/html/2204.00342.md\n",
      "\t _build/html/2203.16959.md\n",
      "\t _build/html/2203.16856.md\n",
      "\t _build/html/2203.16735.md\n",
      "\t _build/html/2203.16734.md\n",
      "\t _build/html/2203.16504.md\n",
      "\t _build/html/2203.15822.md\n",
      "\t _build/html/2203.15811.md\n"
     ]
    }
   ],
   "source": [
    "from datetime import datetime, timedelta, timezone\n",
    "from glob import glob\n",
    "\n",
    "files = glob('_build/html/*.md')\n",
    "days = 7\n",
    "now = datetime.today()\n",
    "res = []\n",
    "for fk in files:\n",
    "    stat_result = os.stat(fk).st_ctime\n",
    "    modified = datetime.fromtimestamp(stat_result, tz=timezone.utc).replace(tzinfo=None)\n",
    "    delta = now.today() - modified\n",
    "    if delta <= timedelta(days=days):\n",
    "        res.append((delta.seconds, fk))\n",
    "res = [k[1] for k in reversed(sorted(res, key=lambda x:x[1]))]\n",
    "npub = len(res)\n",
    "print(len(res), f\" publications in the last {days:d} days.\")\n",
    "[ print('\\t', k) for k in res ];"
   ]
  },
  {
   "cell_type": "code",
   "execution_count": 11,
   "id": "52ca0208",
   "metadata": {
    "execution": {
     "iopub.execute_input": "2022-11-02T04:58:28.034386Z",
     "iopub.status.busy": "2022-11-02T04:58:28.034021Z",
     "iopub.status.idle": "2022-11-02T04:58:28.041911Z",
     "shell.execute_reply": "2022-11-02T04:58:28.040976Z"
    },
    "papermill": {
     "duration": 0.024249,
     "end_time": "2022-11-02T04:58:28.043790",
     "exception": false,
     "start_time": "2022-11-02T04:58:28.019541",
     "status": "completed"
    },
    "scrolled": false,
    "tags": []
   },
   "outputs": [],
   "source": [
    "def create_carousel(npub=4):\n",
    "    \"\"\" Generate the HTML code for a carousel with `npub` slides \"\"\"\n",
    "    carousel = [\"\"\"<section class=\"carousel\" aria-label=\"Gallery\">\"\"\",\n",
    "                \"\"\"  <ol class=\"carousel__viewport\">\"\"\",\n",
    "    ]\n",
    "    for k in range(1, npub + 1):\n",
    "        prev_ = k - 1\n",
    "        next_ = k + 1\n",
    "        if prev_ <= 0:\n",
    "            prev_ = npub\n",
    "        if next_ > npub:\n",
    "            next_ = 1\n",
    "        text  = f\"\"\"    <li id=\"carousel__slide{k}\" tabindex=\"0\" class=\"carousel__slide\">\\n\"\"\"\n",
    "        text += f\"\"\"       <div class=\"carousel__snapper\">\\n\"\"\"\n",
    "        text += f\"\"\"         <a href=\"#carousel__slide{prev_}\" class=\"carousel__prev\">Go to previous slide</a>\\n\"\"\"\n",
    "        text += f\"\"\"         <a href=\"#carousel__slide{next_}\" class=\"carousel__next\">Go to next slide</a>\\n\"\"\"\n",
    "        text += f\"\"\"         <div id=\"slide{k}_content\" class=\"md_view\" >Content {k}</div>\\n\"\"\"\n",
    "        text += f\"\"\"       </div>\\n\"\"\"\n",
    "        text += f\"\"\"    </li>\"\"\"\n",
    "        carousel.append(text)\n",
    "\n",
    "    carousel.extend([\n",
    "        \"\"\"  </ol>\"\"\",\n",
    "        \"\"\"  <aside class=\"carousel__navigation\">\"\"\",\n",
    "        \"\"\"    <ol class=\"carousel__navigation-list\">\"\"\"])\n",
    "\n",
    "    for k in range(1, npub + 1):\n",
    "        text  = f\"\"\"      <li class=\"carousel__navigation-item\">\\n\"\"\"\n",
    "        text += f\"\"\"        <a href=\"#carousel__slide{k}\" class=\"carousel__navigation-button\">Go to {k}</a>\\n\"\"\"\n",
    "        text += f\"\"\"      </li>\"\"\"\n",
    "        carousel.append(text)\n",
    "    carousel.extend([\"\"\"    </ol>\"\"\", \"\"\"  </aside>\"\"\", \"\"\"</section>\"\"\"])\n",
    "\n",
    "    return '\\n'.join(carousel)"
   ]
  },
  {
   "cell_type": "code",
   "execution_count": 12,
   "id": "a6eac5b6",
   "metadata": {
    "execution": {
     "iopub.execute_input": "2022-11-02T04:58:28.076051Z",
     "iopub.status.busy": "2022-11-02T04:58:28.074966Z",
     "iopub.status.idle": "2022-11-02T04:58:28.085934Z",
     "shell.execute_reply": "2022-11-02T04:58:28.084865Z"
    },
    "papermill": {
     "duration": 0.031778,
     "end_time": "2022-11-02T04:58:28.087885",
     "exception": false,
     "start_time": "2022-11-02T04:58:28.056107",
     "status": "completed"
    },
    "scrolled": false,
    "tags": []
   },
   "outputs": [],
   "source": [
    "carousel = create_carousel(npub)\n",
    "docs = ', '.join(['\"{0:s}\"'.format(k.split('/')[-1]) for k in res])\n",
    "slides = ', '.join([f'\"slide{k}_content\"' for k in range(1, npub + 1)])\n",
    "\n",
    "script = f\"\"\"\n",
    "const docs = [{docs}]\n",
    "\n",
    "const slides = [{slides}]\n",
    "\"\"\" + \"\"\"\n",
    "async function run() {\n",
    "    for (let i = 0; i < docs.length; i++) {\n",
    "        let file = await fetch(docs[i]);\n",
    "        let text = await file.text()\n",
    "        document.getElementById(slides[i]).innerHTML =\n",
    "            marked.parse(text);\n",
    "    }\n",
    "    hljs.highlightAll();\n",
    "}\n",
    "run()\n",
    "\"\"\"\n",
    "\n",
    "page = f\"\"\"<!doctype html>\n",
    "<html lang=\"en\">\n",
    "\n",
    "<head>\n",
    "  <meta charset=\"utf-8\">\n",
    "  <meta name=\"viewport\" content=\"width=device-width, initial-scale=1\">\n",
    "  <!-- Bootstrap CSS -->\n",
    "  <link href=\"https://cdn.jsdelivr.net/npm/bootstrap@5.0.2/dist/css/bootstrap.min.css\" rel=\"stylesheet\"\n",
    "   integrity=\"sha384-EVSTQN3/azprG1Anm3QDgpJLIm9Nao0Yz1ztcQTwFspd3yD65VohhpuuCOmLASjC\" crossorigin=\"anonymous\">\n",
    "  <!-- highlight.js CSS -->\n",
    "  <link rel=\"stylesheet\" href=\"https://cdnjs.cloudflare.com/ajax/libs/highlight.js/11.1.0/styles/default.min.css\">\n",
    "  <!-- Mathjax 3 -->\n",
    "  <script type=\"text/javascript\" id=\"MathJax-config\" src=\"mathjax_config.js\"> </script>\n",
    "  <script type=\"text/javascript\" id=\"MathJax-script\" async \n",
    "    src=\"https://cdn.jsdelivr.net/npm/mathjax@3/es5/tex-mml-chtml.js\">\n",
    "  </script>\n",
    "  <link rel=\"stylesheet\" href=\"index_carousel.css\">\n",
    "  <link rel=\"icon\" type=\"image/x-icon\" href=\"https://www.mpia.de/assets/touch-icon-32x32-a66937bcebc4e8894ebff1f41a366c7c7220fd97a38869ee0f2db65a9f59b6c1.png\">\n",
    "  <title>MPIA Arxiv on deck!</title>\n",
    "</head>\n",
    "\n",
    "<body>\n",
    "  <div id=\"header\"> <img src=\"header_banner.png\" width=\"100%\"></div>\n",
    "  <div id=\"suptitle\"> 7-day archives </div>\n",
    "  <div id=\"info\">\n",
    "    <img src=\"https://pngimg.com/uploads/github/github_PNG58.png\" height=30rem></img>\n",
    "    <a href=https://github.com/mpi-astronomy/arxiv_display style=\"color:black;\">github/mpi-astronomy/arxiv_display</a> \n",
    "  </div>\n",
    "  {carousel:s}\n",
    "</body>\n",
    "\n",
    "<!-- Render Markdown -->\n",
    "\n",
    "<body>\n",
    "  <!-- highlight.js: https://highlightjs.org/download/ -->\n",
    "  <script src=\"https://cdnjs.cloudflare.com/ajax/libs/highlight.js/11.5.0/highlight.min.js\"></script>\n",
    "  <!-- marked.js -->\n",
    "  <script src=\"https://cdn.jsdelivr.net/npm/marked/marked.min.js\"></script>\n",
    "  <script>{script:s}</script>\n",
    "</body>\n",
    "</html>\n",
    "\"\"\"\n",
    "with open(\"_build/html/index_7days.html\", 'w') as fout:\n",
    "    fout.write(page)"
   ]
  },
  {
   "cell_type": "markdown",
   "id": "1cebacbc",
   "metadata": {
    "papermill": {
     "duration": 0.011607,
     "end_time": "2022-11-02T04:58:28.111223",
     "exception": false,
     "start_time": "2022-11-02T04:58:28.099616",
     "status": "completed"
    },
    "tags": []
   },
   "source": [
    "# Debugging papers"
   ]
  },
  {
   "cell_type": "raw",
   "id": "debe7cc6",
   "metadata": {
    "papermill": {
     "duration": 0.012259,
     "end_time": "2022-11-02T04:58:28.135714",
     "exception": false,
     "start_time": "2022-11-02T04:58:28.123455",
     "status": "completed"
    },
    "tags": []
   },
   "source": [
    "raise NotImplementedError(\"Manual Stop\")"
   ]
  },
  {
   "cell_type": "raw",
   "id": "eb169192",
   "metadata": {
    "papermill": {
     "duration": 0.011992,
     "end_time": "2022-11-02T04:58:28.159931",
     "exception": false,
     "start_time": "2022-11-02T04:58:28.147939",
     "status": "completed"
    },
    "scrolled": true,
    "tags": []
   },
   "source": [
    "from IPython.display import display, Markdown\n",
    "from TexSoup import TexSoup\n",
    "import re\n",
    "\n",
    "def bracket_error(source: str):\n",
    "    \"\"\" Find problematic portions of the document \"\"\"\n",
    "    \n",
    "    print(\"len(source)\", len(source))\n",
    "    \n",
    "    # Checking header\n",
    "    begin_doc = next(re.finditer(r'\\\\begin\\{document\\}', doc.source)).span()[1]\n",
    "    header = source[:begin_doc]\n",
    "    text = header + r\"\\n\\end{document}\"\n",
    "\n",
    "    try:\n",
    "        # print(\"Header check... \", end='')\n",
    "        TexSoup(text)\n",
    "        display(Markdown(f\"**[OK]** - Header\"))\n",
    "    except:\n",
    "        raise RuntimeError(\"Error in the header\")\n",
    "        \n",
    "    # Check the text per section until the end.\n",
    "    # Do not stop and try them all.\n",
    "    \n",
    "    problematic_text = []\n",
    "    \n",
    "    sections = ([(0, begin_doc, 'until first section')] + \n",
    "                [(g.span()[0], g.span()[1], g.group()) for g in re.finditer(r'\\\\section\\{.*\\}', source)] +\n",
    "                [(g.span()[0], g.span()[1], g.group()) for g in re.finditer(r'\\\\begin\\{appendix\\}', source)]\n",
    "               )\n",
    "    sections.append([len(source), len(source), 'end'])\n",
    "    \n",
    "    sections = sorted(sections, key=lambda x: x[0])\n",
    "    \n",
    "    prev_pos, prev_name = (0, 'header')\n",
    "    parsed = []\n",
    "    \n",
    "    for span, span_end, name in sections:\n",
    "\n",
    "        if span - prev_pos <= 0:\n",
    "            continue\n",
    "            \n",
    "\n",
    "        text = source[prev_pos:span]\n",
    "        if prev_pos > begin_doc:\n",
    "            text = r\"\\n\\begin{document}\" + text + r\"\\n\\end{document}\"\n",
    "        else:\n",
    "            text = text + r\"\\n\\end{document}\"\n",
    "        try:\n",
    "            #print(f\"{prev_pos}:{prev_name}-->{span}:{name} check... \", end='')\n",
    "            parsed.append(TexSoup(text, tolerance=1))  # allow not ending env\n",
    "            display(Markdown(f\"**[OK]** - *{prev_pos}*:{prev_name} &rarr; *{span}*:{name}\"))\n",
    "            # print(\"ok\")\n",
    "\n",
    "            prev_pos = span\n",
    "            prev_name = name\n",
    "        except:\n",
    "            # print(f\"error between {prev_pos} and {span}\")\n",
    "            display(Markdown(f\"**[ERR]** *{prev_pos}*:{prev_name} &rarr; *{span}*:{name}\"))\n",
    "            problematic_text.append((prev_pos, source[prev_pos:span]))\n",
    "            prev_pos = span\n",
    "            prev_name = name\n",
    "            # raise\n",
    "    return problematic_text, parsed\n",
    "\n",
    "\n",
    "def check_environment(text, offset=0):\n",
    "    \"\"\" Check environment \"\"\"\n",
    "    env = re.compile(r\"\\\\begin\\{(?P<env>.*)\\}(.*)\\\\end\\{(?P=env)\\}\", re.DOTALL)\n",
    "\n",
    "    for match in env.finditer(text):\n",
    "        beg, end = match.span()\n",
    "        beg += offset\n",
    "        end += offset\n",
    "        envname = match.groups()[0]\n",
    "        try:\n",
    "            latex.TexSoup(match.group())\n",
    "        except Exception as e:\n",
    "            display(e)\n",
    "            print(f\"Error in {envname:s} between {beg} and {end}\")\n",
    "            return match.groups()[1], beg, end"
   ]
  },
  {
   "cell_type": "raw",
   "id": "2315e835",
   "metadata": {
    "papermill": {
     "duration": 0.013228,
     "end_time": "2022-11-02T04:58:28.185110",
     "exception": false,
     "start_time": "2022-11-02T04:58:28.171882",
     "status": "completed"
    },
    "scrolled": false,
    "tags": []
   },
   "source": [
    "import importlib\n",
    "importlib.reload(latex)\n",
    "which = \"2204.03253\"\n",
    "paper_id = f'{which:s}'\n",
    "folder = f'tmp_{paper_id:s}'\n",
    "\n",
    "if not os.path.isdir(folder):\n",
    "    folder = retrieve_document_source(f\"{paper_id}\", f'tmp_{paper_id}')\n",
    "\n",
    "try:\n",
    "    doc = latex.LatexDocument(folder, validation=validation)    \n",
    "except AffiliationError as affilerror:\n",
    "    msg = f\"ArXiv:{paper_id:s} is not an MPIA paper... \" + str(affilerror)\n",
    "    print(msg)\n",
    "\n",
    "\n",
    "# Hack because sometimes author parsing does not work well\n",
    "if (len(doc.authors) != len(paper['authors'])):\n",
    "    doc._authors = paper['authors']\n",
    "if (doc.abstract) in (None, ''):\n",
    "    doc._abstract = paper['abstract']\n",
    "\n",
    "doc.comment = get_markdown_badge(paper_id) + \" _\" + paper['comments'] + \"_\"\n",
    "doc.highlight_authors_in_list(hl_list)\n",
    "\n",
    "full_md = doc.generate_markdown_text()"
   ]
  },
  {
   "cell_type": "raw",
   "id": "dd3781db",
   "metadata": {
    "papermill": {
     "duration": 0.011942,
     "end_time": "2022-11-02T04:58:28.209267",
     "exception": false,
     "start_time": "2022-11-02T04:58:28.197325",
     "status": "completed"
    },
    "scrolled": false,
    "tags": []
   },
   "source": [
    "doc"
   ]
  },
  {
   "cell_type": "raw",
   "id": "c6eed834",
   "metadata": {
    "papermill": {
     "duration": 0.012171,
     "end_time": "2022-11-02T04:58:28.232821",
     "exception": false,
     "start_time": "2022-11-02T04:58:28.220650",
     "status": "completed"
    },
    "tags": []
   },
   "source": [
    "# [check_environment(k) for k in bracket_error(doc.source)]\n",
    "_, _, a = latex.get_content_per_section(doc.source, verbose=True)\n",
    "if not a:\n",
    "    print(\"no issues per section\")\n",
    "for ak in a:\n",
    "    r = check_environment(ak[1], offset=ak[0])\n",
    "    print(r[1], r[2])\n",
    "    print(r[0])"
   ]
  },
  {
   "cell_type": "code",
   "execution_count": null,
   "id": "71ce768a",
   "metadata": {
    "papermill": {
     "duration": 0.012232,
     "end_time": "2022-11-02T04:58:28.258361",
     "exception": false,
     "start_time": "2022-11-02T04:58:28.246129",
     "status": "completed"
    },
    "tags": []
   },
   "outputs": [],
   "source": []
  }
 ],
 "metadata": {
  "kernelspec": {
   "display_name": "Python 3.10.6 64-bit",
   "language": "python",
   "name": "python3"
  },
  "language_info": {
   "codemirror_mode": {
    "name": "ipython",
    "version": 3
   },
   "file_extension": ".py",
   "mimetype": "text/x-python",
   "name": "python",
   "nbconvert_exporter": "python",
   "pygments_lexer": "ipython3",
   "version": "3.9.15"
  },
  "papermill": {
   "default_parameters": {},
   "duration": 364.991146,
   "end_time": "2022-11-02T04:58:28.498383",
   "environment_variables": {},
   "exception": null,
   "input_path": "MPIA daily digest.ipynb",
   "output_path": "log.ipynb",
   "parameters": {},
   "start_time": "2022-11-02T04:52:23.507237",
   "version": "2.4.0"
  },
  "vscode": {
   "interpreter": {
    "hash": "e7370f93d1d0cde622a1f8e1c04877d8463912d04d973331ad4851f04de6915a"
   }
  },
  "widgets": {
   "application/vnd.jupyter.widget-state+json": {
    "state": {
     "03cc83bc9834487a883bfc9dac2852c3": {
      "model_module": "@jupyter-widgets/base",
      "model_module_version": "2.0.0",
      "model_name": "LayoutModel",
      "state": {
       "_model_module": "@jupyter-widgets/base",
       "_model_module_version": "2.0.0",
       "_model_name": "LayoutModel",
       "_view_count": null,
       "_view_module": "@jupyter-widgets/base",
       "_view_module_version": "2.0.0",
       "_view_name": "LayoutView",
       "align_content": null,
       "align_items": null,
       "align_self": null,
       "border_bottom": null,
       "border_left": null,
       "border_right": null,
       "border_top": null,
       "bottom": null,
       "display": null,
       "flex": null,
       "flex_flow": null,
       "grid_area": null,
       "grid_auto_columns": null,
       "grid_auto_flow": null,
       "grid_auto_rows": null,
       "grid_column": null,
       "grid_gap": null,
       "grid_row": null,
       "grid_template_areas": null,
       "grid_template_columns": null,
       "grid_template_rows": null,
       "height": null,
       "justify_content": null,
       "justify_items": null,
       "left": null,
       "margin": null,
       "max_height": null,
       "max_width": null,
       "min_height": null,
       "min_width": null,
       "object_fit": null,
       "object_position": null,
       "order": null,
       "overflow": null,
       "padding": null,
       "right": null,
       "top": null,
       "visibility": null,
       "width": null
      }
     },
     "0dc0cb3094054c15afec65952bc5d907": {
      "model_module": "@jupyter-widgets/controls",
      "model_module_version": "2.0.0",
      "model_name": "HTMLStyleModel",
      "state": {
       "_model_module": "@jupyter-widgets/controls",
       "_model_module_version": "2.0.0",
       "_model_name": "HTMLStyleModel",
       "_view_count": null,
       "_view_module": "@jupyter-widgets/base",
       "_view_module_version": "2.0.0",
       "_view_name": "StyleView",
       "background": null,
       "description_width": "",
       "font_size": null,
       "text_color": null
      }
     },
     "3f4d6e408af7422293416b0aa318f4c7": {
      "model_module": "@jupyter-widgets/controls",
      "model_module_version": "2.0.0",
      "model_name": "HTMLModel",
      "state": {
       "_dom_classes": [],
       "_model_module": "@jupyter-widgets/controls",
       "_model_module_version": "2.0.0",
       "_model_name": "HTMLModel",
       "_view_count": null,
       "_view_module": "@jupyter-widgets/controls",
       "_view_module_version": "2.0.0",
       "_view_name": "HTMLView",
       "description": "",
       "description_allow_html": false,
       "layout": "IPY_MODEL_befac5dd4c0f4b2f801c7c668f9c4721",
       "placeholder": "​",
       "style": "IPY_MODEL_e98c4c6eb0f54cdb8860f2db8e382bc8",
       "tabbable": null,
       "tooltip": null,
       "value": " 19/19 [05:31&lt;00:00,  2.88s/it]"
      }
     },
     "5c7224852b584e39a30a1f3a487cb05f": {
      "model_module": "@jupyter-widgets/controls",
      "model_module_version": "2.0.0",
      "model_name": "FloatProgressModel",
      "state": {
       "_dom_classes": [],
       "_model_module": "@jupyter-widgets/controls",
       "_model_module_version": "2.0.0",
       "_model_name": "FloatProgressModel",
       "_view_count": null,
       "_view_module": "@jupyter-widgets/controls",
       "_view_module_version": "2.0.0",
       "_view_name": "ProgressView",
       "bar_style": "success",
       "description": "",
       "description_allow_html": false,
       "layout": "IPY_MODEL_9df30c583ea041b085ead9acd8c734e6",
       "max": 19.0,
       "min": 0.0,
       "orientation": "horizontal",
       "style": "IPY_MODEL_ab81fdf64a194ec89e67b3d165cacd7f",
       "tabbable": null,
       "tooltip": null,
       "value": 19.0
      }
     },
     "633dc8c59ef944f588fd6ce82632c659": {
      "model_module": "@jupyter-widgets/controls",
      "model_module_version": "2.0.0",
      "model_name": "HTMLModel",
      "state": {
       "_dom_classes": [],
       "_model_module": "@jupyter-widgets/controls",
       "_model_module_version": "2.0.0",
       "_model_name": "HTMLModel",
       "_view_count": null,
       "_view_module": "@jupyter-widgets/controls",
       "_view_module_version": "2.0.0",
       "_view_name": "HTMLView",
       "description": "",
       "description_allow_html": false,
       "layout": "IPY_MODEL_03cc83bc9834487a883bfc9dac2852c3",
       "placeholder": "​",
       "style": "IPY_MODEL_0dc0cb3094054c15afec65952bc5d907",
       "tabbable": null,
       "tooltip": null,
       "value": "100%"
      }
     },
     "969f93e3bae840bcb2cb75f782020efb": {
      "model_module": "@jupyter-widgets/controls",
      "model_module_version": "2.0.0",
      "model_name": "HBoxModel",
      "state": {
       "_dom_classes": [],
       "_model_module": "@jupyter-widgets/controls",
       "_model_module_version": "2.0.0",
       "_model_name": "HBoxModel",
       "_view_count": null,
       "_view_module": "@jupyter-widgets/controls",
       "_view_module_version": "2.0.0",
       "_view_name": "HBoxView",
       "box_style": "",
       "children": [
        "IPY_MODEL_633dc8c59ef944f588fd6ce82632c659",
        "IPY_MODEL_5c7224852b584e39a30a1f3a487cb05f",
        "IPY_MODEL_3f4d6e408af7422293416b0aa318f4c7"
       ],
       "layout": "IPY_MODEL_a283b2ceeb16487ea89629609faa9361",
       "tabbable": null,
       "tooltip": null
      }
     },
     "9df30c583ea041b085ead9acd8c734e6": {
      "model_module": "@jupyter-widgets/base",
      "model_module_version": "2.0.0",
      "model_name": "LayoutModel",
      "state": {
       "_model_module": "@jupyter-widgets/base",
       "_model_module_version": "2.0.0",
       "_model_name": "LayoutModel",
       "_view_count": null,
       "_view_module": "@jupyter-widgets/base",
       "_view_module_version": "2.0.0",
       "_view_name": "LayoutView",
       "align_content": null,
       "align_items": null,
       "align_self": null,
       "border_bottom": null,
       "border_left": null,
       "border_right": null,
       "border_top": null,
       "bottom": null,
       "display": null,
       "flex": null,
       "flex_flow": null,
       "grid_area": null,
       "grid_auto_columns": null,
       "grid_auto_flow": null,
       "grid_auto_rows": null,
       "grid_column": null,
       "grid_gap": null,
       "grid_row": null,
       "grid_template_areas": null,
       "grid_template_columns": null,
       "grid_template_rows": null,
       "height": null,
       "justify_content": null,
       "justify_items": null,
       "left": null,
       "margin": null,
       "max_height": null,
       "max_width": null,
       "min_height": null,
       "min_width": null,
       "object_fit": null,
       "object_position": null,
       "order": null,
       "overflow": null,
       "padding": null,
       "right": null,
       "top": null,
       "visibility": null,
       "width": null
      }
     },
     "a283b2ceeb16487ea89629609faa9361": {
      "model_module": "@jupyter-widgets/base",
      "model_module_version": "2.0.0",
      "model_name": "LayoutModel",
      "state": {
       "_model_module": "@jupyter-widgets/base",
       "_model_module_version": "2.0.0",
       "_model_name": "LayoutModel",
       "_view_count": null,
       "_view_module": "@jupyter-widgets/base",
       "_view_module_version": "2.0.0",
       "_view_name": "LayoutView",
       "align_content": null,
       "align_items": null,
       "align_self": null,
       "border_bottom": null,
       "border_left": null,
       "border_right": null,
       "border_top": null,
       "bottom": null,
       "display": null,
       "flex": null,
       "flex_flow": null,
       "grid_area": null,
       "grid_auto_columns": null,
       "grid_auto_flow": null,
       "grid_auto_rows": null,
       "grid_column": null,
       "grid_gap": null,
       "grid_row": null,
       "grid_template_areas": null,
       "grid_template_columns": null,
       "grid_template_rows": null,
       "height": null,
       "justify_content": null,
       "justify_items": null,
       "left": null,
       "margin": null,
       "max_height": null,
       "max_width": null,
       "min_height": null,
       "min_width": null,
       "object_fit": null,
       "object_position": null,
       "order": null,
       "overflow": null,
       "padding": null,
       "right": null,
       "top": null,
       "visibility": null,
       "width": null
      }
     },
     "ab81fdf64a194ec89e67b3d165cacd7f": {
      "model_module": "@jupyter-widgets/controls",
      "model_module_version": "2.0.0",
      "model_name": "ProgressStyleModel",
      "state": {
       "_model_module": "@jupyter-widgets/controls",
       "_model_module_version": "2.0.0",
       "_model_name": "ProgressStyleModel",
       "_view_count": null,
       "_view_module": "@jupyter-widgets/base",
       "_view_module_version": "2.0.0",
       "_view_name": "StyleView",
       "bar_color": null,
       "description_width": ""
      }
     },
     "befac5dd4c0f4b2f801c7c668f9c4721": {
      "model_module": "@jupyter-widgets/base",
      "model_module_version": "2.0.0",
      "model_name": "LayoutModel",
      "state": {
       "_model_module": "@jupyter-widgets/base",
       "_model_module_version": "2.0.0",
       "_model_name": "LayoutModel",
       "_view_count": null,
       "_view_module": "@jupyter-widgets/base",
       "_view_module_version": "2.0.0",
       "_view_name": "LayoutView",
       "align_content": null,
       "align_items": null,
       "align_self": null,
       "border_bottom": null,
       "border_left": null,
       "border_right": null,
       "border_top": null,
       "bottom": null,
       "display": null,
       "flex": null,
       "flex_flow": null,
       "grid_area": null,
       "grid_auto_columns": null,
       "grid_auto_flow": null,
       "grid_auto_rows": null,
       "grid_column": null,
       "grid_gap": null,
       "grid_row": null,
       "grid_template_areas": null,
       "grid_template_columns": null,
       "grid_template_rows": null,
       "height": null,
       "justify_content": null,
       "justify_items": null,
       "left": null,
       "margin": null,
       "max_height": null,
       "max_width": null,
       "min_height": null,
       "min_width": null,
       "object_fit": null,
       "object_position": null,
       "order": null,
       "overflow": null,
       "padding": null,
       "right": null,
       "top": null,
       "visibility": null,
       "width": null
      }
     },
     "e98c4c6eb0f54cdb8860f2db8e382bc8": {
      "model_module": "@jupyter-widgets/controls",
      "model_module_version": "2.0.0",
      "model_name": "HTMLStyleModel",
      "state": {
       "_model_module": "@jupyter-widgets/controls",
       "_model_module_version": "2.0.0",
       "_model_name": "HTMLStyleModel",
       "_view_count": null,
       "_view_module": "@jupyter-widgets/base",
       "_view_module_version": "2.0.0",
       "_view_name": "StyleView",
       "background": null,
       "description_width": "",
       "font_size": null,
       "text_color": null
      }
     }
    },
    "version_major": 2,
    "version_minor": 0
   }
  }
 },
 "nbformat": 4,
 "nbformat_minor": 5
}