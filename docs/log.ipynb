{
 "cells": [
  {
   "cell_type": "markdown",
   "id": "92bcb855",
   "metadata": {
    "papermill": {
     "duration": 0.004149,
     "end_time": "2024-10-16T04:10:42.109981",
     "exception": false,
     "start_time": "2024-10-16T04:10:42.105832",
     "status": "completed"
    },
    "tags": []
   },
   "source": [
    "# MPIA Arxiv on Deck 2\n",
    "\n",
    "Contains the steps to produce the paper extractions."
   ]
  },
  {
   "cell_type": "code",
   "execution_count": 1,
   "id": "3a0d6e11",
   "metadata": {
    "execution": {
     "iopub.execute_input": "2024-10-16T04:10:42.117925Z",
     "iopub.status.busy": "2024-10-16T04:10:42.117284Z",
     "iopub.status.idle": "2024-10-16T04:10:42.458015Z",
     "shell.execute_reply": "2024-10-16T04:10:42.457252Z"
    },
    "papermill": {
     "duration": 0.34615,
     "end_time": "2024-10-16T04:10:42.459458",
     "exception": false,
     "start_time": "2024-10-16T04:10:42.113308",
     "status": "completed"
    },
    "tags": []
   },
   "outputs": [],
   "source": [
    "# Imports\n",
    "import os\n",
    "from IPython.display import Markdown, display\n",
    "from tqdm.notebook import tqdm\n",
    "import warnings\n",
    "from PIL import Image \n",
    "import re\n",
    "\n",
    "# requires arxiv_on_deck_2\n",
    "\n",
    "from arxiv_on_deck_2.arxiv2 import (get_new_papers, \n",
    "                                    get_paper_from_identifier,\n",
    "                                    retrieve_document_source, \n",
    "                                    get_markdown_badge)\n",
    "from arxiv_on_deck_2 import (latex,\n",
    "                             latex_bib,\n",
    "                             mpia,\n",
    "                             highlight_authors_in_list)\n",
    "\n",
    "# Sometimes images are really big\n",
    "Image.MAX_IMAGE_PIXELS = 1000000000 "
   ]
  },
  {
   "cell_type": "code",
   "execution_count": 2,
   "id": "22aa9d44",
   "metadata": {
    "execution": {
     "iopub.execute_input": "2024-10-16T04:10:42.467078Z",
     "iopub.status.busy": "2024-10-16T04:10:42.466625Z",
     "iopub.status.idle": "2024-10-16T04:10:42.474759Z",
     "shell.execute_reply": "2024-10-16T04:10:42.474115Z"
    },
    "papermill": {
     "duration": 0.013058,
     "end_time": "2024-10-16T04:10:42.475772",
     "exception": false,
     "start_time": "2024-10-16T04:10:42.462714",
     "status": "completed"
    },
    "tags": []
   },
   "outputs": [],
   "source": [
    "# Some useful definitions.\n",
    "\n",
    "class AffiliationWarning(UserWarning):\n",
    "    pass\n",
    "\n",
    "class AffiliationError(RuntimeError):\n",
    "    pass\n",
    "\n",
    "def validation(source: str):\n",
    "    \"\"\"Raises error paper during parsing of source file\n",
    "    \n",
    "    Allows checks before parsing TeX code.\n",
    "    \n",
    "    Raises AffiliationWarning\n",
    "    \"\"\"\n",
    "    check = mpia.affiliation_verifications(source, verbose=True)\n",
    "    if check is not True:\n",
    "        raise AffiliationError(\"mpia.affiliation_verifications: \" + check)\n",
    "\n",
    "        \n",
    "warnings.simplefilter('always', AffiliationWarning)\n",
    "\n",
    "\n",
    "def get_markdown_qrcode(paper_id: str):\n",
    "    \"\"\" Generate a qrcode to the arxiv page using qrserver.com\n",
    "    \n",
    "    :param paper: Arxiv paper\n",
    "    :returns: markdown text\n",
    "    \"\"\"\n",
    "    url = r\"https://api.qrserver.com/v1/create-qr-code/?size=100x100&data=\"\n",
    "    txt = f\"\"\"<img src={url}\"https://arxiv.org/abs/{paper_id}\">\"\"\"\n",
    "    txt = '<div id=\"qrcode\">' + txt + '</div>'\n",
    "    return txt\n",
    "\n",
    "\n",
    "def clean_non_western_encoded_characters_commands(text: str) -> str:\n",
    "    \"\"\" Remove non-western encoded characters from a string\n",
    "    List may need to grow.\n",
    "    \n",
    "    :param text: the text to clean\n",
    "    :return: the cleaned text\n",
    "    \"\"\"\n",
    "    text = re.sub(r\"(\\\\begin{CJK}{UTF8}{gbsn})(.*?)(\\\\end{CJK})\", r\"\\2\", text)\n",
    "    return text\n",
    "\n",
    "\n",
    "def get_initials(name: str) -> str:\n",
    "    \"\"\" Get the short name, e.g., A.-B. FamName\n",
    "    :param name: full name\n",
    "    :returns: initials\n",
    "    \"\"\"\n",
    "    initials = []\n",
    "    # account for non western names often in ()\n",
    "    if '(' in name:\n",
    "        name = clean_non_western_encoded_characters_commands(name)\n",
    "        suffix = re.findall(r\"\\((.*?)\\)\", name)[0]\n",
    "        name = name.replace(f\"({suffix})\", '')\n",
    "    else:\n",
    "        suffix = ''\n",
    "    split = name.split()\n",
    "    for token in split[:-1]:\n",
    "        if '-' in token:\n",
    "            current = '-'.join([k[0] + '.' for k in token.split('-')])\n",
    "        else:\n",
    "            current = token[0] + '.'\n",
    "        initials.append(current)\n",
    "    initials.append(split[-1].strip())\n",
    "    if suffix:\n",
    "        initials.append(f\"({suffix})\")\n",
    "    return ' '.join(initials)"
   ]
  },
  {
   "cell_type": "markdown",
   "id": "14bd6310",
   "metadata": {
    "papermill": {
     "duration": 0.002943,
     "end_time": "2024-10-16T04:10:42.481765",
     "exception": false,
     "start_time": "2024-10-16T04:10:42.478822",
     "status": "completed"
    },
    "tags": []
   },
   "source": [
    "## get list of arxiv paper candidates\n",
    "\n",
    "We use the MPIA mitarbeiter list webpage from mpia.de to get author names\n",
    "We then get all new papers from Arxiv and match authors"
   ]
  },
  {
   "cell_type": "code",
   "execution_count": 3,
   "id": "7ea813a8",
   "metadata": {
    "execution": {
     "iopub.execute_input": "2024-10-16T04:10:42.488735Z",
     "iopub.status.busy": "2024-10-16T04:10:42.488325Z",
     "iopub.status.idle": "2024-10-16T04:10:59.979391Z",
     "shell.execute_reply": "2024-10-16T04:10:59.978745Z"
    },
    "papermill": {
     "duration": 17.495998,
     "end_time": "2024-10-16T04:10:59.980702",
     "exception": false,
     "start_time": "2024-10-16T04:10:42.484704",
     "status": "completed"
    },
    "tags": []
   },
   "outputs": [],
   "source": [
    "# deal with the author list and edge cases of people that cannot be consistent on their name  \n",
    "\n",
    "def filter_non_scientists(name: str) -> bool:\n",
    "    \"\"\" Loose filter on expected authorships\n",
    "\n",
    "    removing IT, administration, technical staff\n",
    "    :param name: name\n",
    "    :returns: False if name is not a scientist\n",
    "    \"\"\"\n",
    "    remove_list = ['Licht', 'Binroth', 'Witzel', 'Jordan',\n",
    "                   'Zähringer', 'Scheerer', 'Hoffmann', 'Düe',\n",
    "                   'Hellmich', 'Enkler-Scharpegge', 'Witte-Nguy',\n",
    "                   'Dehen', 'Beckmann', 'Jager', 'Jäger'\n",
    "                  ]\n",
    "\n",
    "    for k in remove_list:\n",
    "        if k in name:\n",
    "            return False\n",
    "    return True\n",
    "\n",
    "def add_author_to_list(author_list: list) -> list:\n",
    "    \"\"\" Add author to list if not already in list\n",
    "    \n",
    "    :param author: author name\n",
    "    :param author_list: list of authors\n",
    "    :returns: updated list of authors\n",
    "    \"\"\"\n",
    "    add_list = ['T. Henning']\n",
    "\n",
    "    for author in add_list:\n",
    "        if author not in author_list:\n",
    "            author_list.append(author)\n",
    "    return author_list\n",
    "\n",
    "# get list from MPIA website\n",
    "# filter for non-scientists (mpia.get_mpia_mitarbeiter_list() does some filtering)\n",
    "mpia_authors = [k[1] for k in mpia.get_mpia_mitarbeiter_list() if filter_non_scientists(k[1])]\n",
    "# add some missing author because of inconsistencies in their MPIA name and author name on papers\n",
    "mpia_authors = add_author_to_list(mpia_authors)"
   ]
  },
  {
   "cell_type": "code",
   "execution_count": 4,
   "id": "2645e73a",
   "metadata": {
    "execution": {
     "iopub.execute_input": "2024-10-16T04:10:59.988431Z",
     "iopub.status.busy": "2024-10-16T04:10:59.987991Z",
     "iopub.status.idle": "2024-10-16T04:11:00.551814Z",
     "shell.execute_reply": "2024-10-16T04:11:00.551094Z"
    },
    "papermill": {
     "duration": 0.568795,
     "end_time": "2024-10-16T04:11:00.552926",
     "exception": false,
     "start_time": "2024-10-16T04:10:59.984131",
     "status": "completed"
    },
    "tags": []
   },
   "outputs": [
    {
     "name": "stdout",
     "output_type": "stream",
     "text": [
      "P. Mollière  ->  P. Mollière  |  ['P. Mollière']\n",
      "E. Matthews  ->  E. Matthews  |  ['E. Matthews']\n",
      "T. Henning  ->  T. Henning  |  ['T. Henning']\n",
      "T. Trifonov  ->  T. Trifonov  |  ['T. Trifonov']\n",
      "T. Henning  ->  T. Henning  |  ['T. Henning']\n",
      "T. Trifonov  ->  T. Trifonov  |  ['T. Trifonov']\n",
      "J. Li  ->  J. Li  |  ['J. Li']\n"
     ]
    },
    {
     "name": "stdout",
     "output_type": "stream",
     "text": [
      "J. Liu  ->  J. Liu  |  ['J. Liu']\n",
      "M. Clausen  ->  M. Clausen  |  ['M. Clausen']\n",
      "Arxiv has 76 new papers today\n",
      "          6 with possible author matches\n"
     ]
    }
   ],
   "source": [
    "new_papers = get_new_papers()\n",
    "# add manual references\n",
    "add_paper_refs = []\n",
    "new_papers.extend([get_paper_from_identifier(k) for k in add_paper_refs])\n",
    "\n",
    "def robust_call(fn, value, *args, **kwargs):\n",
    "    try:\n",
    "        return fn(value, *args, **kwargs)\n",
    "    except Exception:\n",
    "        return value\n",
    "\n",
    "candidates = []\n",
    "for paperk in new_papers:\n",
    "    # Check author list with their initials\n",
    "    normed_author_list = [robust_call(mpia.get_initials, k) for k in paperk['authors']]\n",
    "    hl_authors = highlight_authors_in_list(normed_author_list, mpia_authors, verbose=True)\n",
    "    matches = [(hl, orig) for hl, orig in zip(hl_authors, paperk['authors']) if 'mark' in hl]\n",
    "    paperk['authors'] = hl_authors\n",
    "    if matches:\n",
    "        # only select paper if an author matched our list\n",
    "        candidates.append(paperk)\n",
    "print(\"\"\"Arxiv has {0:,d} new papers today\"\"\".format(len(new_papers)))        \n",
    "print(\"\"\"          {0:,d} with possible author matches\"\"\".format(len(candidates)))"
   ]
  },
  {
   "cell_type": "markdown",
   "id": "3543b34a",
   "metadata": {
    "papermill": {
     "duration": 0.003187,
     "end_time": "2024-10-16T04:11:00.559665",
     "exception": false,
     "start_time": "2024-10-16T04:11:00.556478",
     "status": "completed"
    },
    "tags": []
   },
   "source": [
    "# Parse sources and generate relevant outputs\n",
    "\n",
    "From the candidates, we do the following steps:\n",
    "* get their tarball from ArXiv (and extract data)\n",
    "* find the main .tex file: find one with \\documentclass{...} (sometimes it's non trivial)\n",
    "* Check affiliations with :func:`validation`, which uses :func:`mpia.affiliation_verifications`\n",
    "* If passing the affiliations: we parse the .tex source\n",
    "   * inject sub-documents into the main (flatten the main document)\n",
    "   * parse structure, extract information (title, abstract, authors, figures...)\n",
    "   * handles `\\graphicspath` if provided\n",
    "* Generate the .md document."
   ]
  },
  {
   "cell_type": "code",
   "execution_count": 5,
   "id": "9576b79e",
   "metadata": {
    "execution": {
     "iopub.execute_input": "2024-10-16T04:11:00.567453Z",
     "iopub.status.busy": "2024-10-16T04:11:00.566874Z",
     "iopub.status.idle": "2024-10-16T04:16:00.456945Z",
     "shell.execute_reply": "2024-10-16T04:16:00.456167Z"
    },
    "papermill": {
     "duration": 299.898848,
     "end_time": "2024-10-16T04:16:00.461701",
     "exception": false,
     "start_time": "2024-10-16T04:11:00.562853",
     "status": "completed"
    },
    "scrolled": false,
    "tags": []
   },
   "outputs": [
    {
     "data": {
      "application/vnd.jupyter.widget-view+json": {
       "model_id": "dde8083307c840089558c139be7c1a29",
       "version_major": 2,
       "version_minor": 0
      },
      "text/plain": [
       "  0%|          | 0/6 [00:00<?, ?it/s]"
      ]
     },
     "metadata": {},
     "output_type": "display_data"
    },
    {
     "name": "stdout",
     "output_type": "stream",
     "text": [
      "Retrieving document from  https://arxiv.org/e-print/2410.10933\n"
     ]
    },
    {
     "name": "stdout",
     "output_type": "stream",
     "text": [
      "extracting tarball to tmp_2410.10933..."
     ]
    },
    {
     "name": "stdout",
     "output_type": "stream",
     "text": [
      " done.\n"
     ]
    },
    {
     "name": "stdout",
     "output_type": "stream",
     "text": [
      "P. Mollière  ->  P. Mollière  |  ['P. Mollière']\n",
      "E. Matthews  ->  E. Matthews  |  ['E. Matthews']\n",
      "T. Henning  ->  T. Henning  |  ['T. Henning']\n"
     ]
    },
    {
     "name": "stdout",
     "output_type": "stream",
     "text": [
      "Found 80 bibliographic references in tmp_2410.10933/aanda.bbl.\n",
      "Error retrieving bib data for Lacy2023: 'author'\n",
      "Retrieving document from  https://arxiv.org/e-print/2410.11037\n"
     ]
    },
    {
     "name": "stdout",
     "output_type": "stream",
     "text": [
      "extracting tarball to tmp_2410.11037..."
     ]
    },
    {
     "name": "stdout",
     "output_type": "stream",
     "text": [
      " done.\n"
     ]
    },
    {
     "name": "stdout",
     "output_type": "stream",
     "text": [
      "T. Trifonov  ->  T. Trifonov  |  ['T. Trifonov']\n",
      "T. Henning  ->  T. Henning  |  ['T. Henning']\n"
     ]
    },
    {
     "name": "stderr",
     "output_type": "stream",
     "text": [
      "/tmp/ipykernel_2912/2822249172.py:52: LatexWarning: 2410.11037 did not run properly\n",
      "list index out of range\n",
      "  warnings.warn(latex.LatexWarning(f\"{paper_id:s} did not run properly\\n\" +\n"
     ]
    },
    {
     "name": "stdout",
     "output_type": "stream",
     "text": [
      "Retrieving document from  https://arxiv.org/e-print/2410.11424\n"
     ]
    },
    {
     "name": "stdout",
     "output_type": "stream",
     "text": [
      "extracting tarball to tmp_2410.11424..."
     ]
    },
    {
     "name": "stdout",
     "output_type": "stream",
     "text": [
      " done.\n",
      "Retrieving document from  https://arxiv.org/e-print/2410.11436\n"
     ]
    },
    {
     "name": "stdout",
     "output_type": "stream",
     "text": [
      "extracting tarball to tmp_2410.11436..."
     ]
    },
    {
     "name": "stdout",
     "output_type": "stream",
     "text": [
      " done.\n",
      "Retrieving document from  https://arxiv.org/e-print/2410.11611\n"
     ]
    },
    {
     "name": "stdout",
     "output_type": "stream",
     "text": [
      "extracting tarball to tmp_2410.11611..."
     ]
    },
    {
     "name": "stdout",
     "output_type": "stream",
     "text": [
      " done.\n",
      "Retrieving document from  https://arxiv.org/e-print/2410.11808\n"
     ]
    },
    {
     "name": "stdout",
     "output_type": "stream",
     "text": [
      "extracting tarball to tmp_2410.11808..."
     ]
    },
    {
     "name": "stdout",
     "output_type": "stream",
     "text": [
      " done.\n"
     ]
    }
   ],
   "source": [
    "documents = []\n",
    "failed = []\n",
    "for paper in tqdm(candidates):\n",
    "    # debug crap\n",
    "    paper['identifier'] = paper['identifier'].lower().replace('arxiv:', '').replace(r'\\n', '').strip()\n",
    "    paper_id = paper['identifier']\n",
    "    \n",
    "    folder = f'tmp_{paper_id}'\n",
    "\n",
    "    try:\n",
    "        if not os.path.isdir(folder):\n",
    "            folder = retrieve_document_source(f\"{paper_id}\", f'tmp_{paper_id}')\n",
    "        \n",
    "        try:\n",
    "            doc = latex.LatexDocument(folder, validation=validation)    \n",
    "        except AffiliationError as affilerror:\n",
    "            msg = f\"ArXiv:{paper_id:s} is not an MPIA paper... \" + str(affilerror)\n",
    "            failed.append((paper, \"affiliation error: \" + str(affilerror) ))\n",
    "            continue\n",
    "        \n",
    "        # Hack because sometimes author parsing does not work well\n",
    "        if (len(doc.authors) != len(paper['authors'])):\n",
    "            doc._authors = paper['authors']\n",
    "        else:\n",
    "            # highlight authors (FIXME: doc.highlight_authors)\n",
    "            # done on arxiv paper already\n",
    "            doc._authors = highlight_authors_in_list(\n",
    "                [get_initials(k) for k in doc.authors], \n",
    "                mpia_authors, verbose=True)\n",
    "        if (doc.abstract) in (None, ''):\n",
    "            doc._abstract = paper['abstract']\n",
    "            \n",
    "        doc.comment = (get_markdown_badge(paper_id) + \n",
    "                       \"<mark>Appeared on: \" + paper['date'] + \"</mark> - \")\n",
    "        if paper['comments']:\n",
    "            doc.comment += \" _\" + paper['comments'] + \"_\"\n",
    "        \n",
    "        full_md = doc.generate_markdown_text()\n",
    "        \n",
    "        full_md += get_markdown_qrcode(paper_id)\n",
    "        \n",
    "        # replace citations\n",
    "        try:\n",
    "            bibdata = latex_bib.LatexBib.from_doc(doc)\n",
    "            full_md = latex_bib.replace_citations(full_md, bibdata)\n",
    "        except Exception as e:\n",
    "            print(\"Issues with the citations\")\n",
    "            print(e)\n",
    "        \n",
    "        documents.append((paper_id, full_md))\n",
    "    except Exception as e:\n",
    "        warnings.warn(latex.LatexWarning(f\"{paper_id:s} did not run properly\\n\" +\n",
    "                                         str(e)\n",
    "                                        ))\n",
    "        failed.append((paper, \"latex error \" + str(e)))"
   ]
  },
  {
   "cell_type": "markdown",
   "id": "2505a25c",
   "metadata": {
    "papermill": {
     "duration": 0.004218,
     "end_time": "2024-10-16T04:16:00.470429",
     "exception": false,
     "start_time": "2024-10-16T04:16:00.466211",
     "status": "completed"
    },
    "tags": []
   },
   "source": [
    "### Export the logs\n",
    "\n",
    "Throughout, we also keep track of the logs per paper. see `logs-{today date}.md` "
   ]
  },
  {
   "cell_type": "code",
   "execution_count": 6,
   "id": "d733828a",
   "metadata": {
    "execution": {
     "iopub.execute_input": "2024-10-16T04:16:00.480327Z",
     "iopub.status.busy": "2024-10-16T04:16:00.479700Z",
     "iopub.status.idle": "2024-10-16T04:16:00.497680Z",
     "shell.execute_reply": "2024-10-16T04:16:00.497068Z"
    },
    "papermill": {
     "duration": 0.024181,
     "end_time": "2024-10-16T04:16:00.498751",
     "exception": false,
     "start_time": "2024-10-16T04:16:00.474570",
     "status": "completed"
    },
    "scrolled": false,
    "tags": []
   },
   "outputs": [
    {
     "data": {
      "text/markdown": [
       "## Successful papers"
      ],
      "text/plain": [
       "<IPython.core.display.Markdown object>"
      ]
     },
     "metadata": {},
     "output_type": "display_data"
    },
    {
     "data": {
      "text/markdown": [
       "\n",
       "|||\n",
       "|---:|:---|\n",
       "| [![arXiv](https://img.shields.io/badge/arXiv-2410.10933-b31b1b.svg)](https://arxiv.org/abs/2410.10933) | **Water depletion and 15NH3 in the atmosphere of the coldest brown dwarf observed with JWST/MIRI**  |\n",
       "|| H. Kühnle, et al. -- incl., <mark>P. Mollière</mark>, <mark>E. Matthews</mark>, <mark>T. Henning</mark> |\n",
       "|*Appeared on*| *2024-10-16*|\n",
       "|*Comments*| *Submitted to A&A, 29 pages, 21 figures*|\n",
       "|**Abstract**|            With a temperature of $\\sim 285$ K WISE0855 is the coldest brown dwarf observed so far. Using the James Webb Space Telescope (JWST) we obtained observations that allow us to characterize WISE0855s atmosphere focusing on vertical variation in the water steam abundance, measuring trace gas abundances and receiving bulk parameters for this cold object. We observed the ultra cool dwarf WISE0855 using the Mid-Infrared Instrument Medium Resolution Spectrometer (MIRI/MRS) onboard JWST at a spectral resolution of up to 3750. We combined the observation with published data from the Near Infrared Spectrograph (NIRSpec) G395M and PRISM modes yielding a spectrum ranging from 0.8 to 22 um. We apply atmospheric retrievals using petitRADTRANS to measure atmospheric abundances, the pressure-temperature structure, radius and gravity of the brown dwarf. We also employ publicly available clear and cloudy self-consistent grid models to estimate bulk properties of the atmosphere such as the effective temperature, radius, gravity and metallicity. Atmospheric retrievals constrain a variable water abundance profile in the atmosphere, as predicted by equilibrium chemistry. We detect the 15NH3 isotopologue and infer a ratio of mass fraction of 14NH3/15NH3 = 332+63-43 for the clear retrieval. We measure the bolometric luminosity by integrating the presented spectrum and obtain a value of log(L/L$_{\\odot}$) = -7.291+/-0.008. The detected water depletion indicates that water condenses out in the upper atmosphere due to the very low effective temperature of WISE0855. The height in the atmosphere where this occurs is covered by the MIRI/MRS data, and thus demonstrates the potential of MIRI to characterize cold gas giants atmospheres. Comparing the data to retrievals and self-consistent grid models, we do not detect signs for water ice clouds, although their spectral features have been predicted in previous studies.         |"
      ],
      "text/plain": [
       "[2410.10933] Water depletion and 15NH3 in the atmosphere of the coldest brown dwarf observed with JWST/MIRI\n",
       "\tH. Kühnle, et al. -- incl., <mark>P. Mollière</mark>, <mark>E. Matthews</mark>, <mark>T. Henning</mark>"
      ]
     },
     "metadata": {},
     "output_type": "display_data"
    },
    {
     "data": {
      "text/markdown": [
       "## Failed papers"
      ],
      "text/plain": [
       "<IPython.core.display.Markdown object>"
      ]
     },
     "metadata": {},
     "output_type": "display_data"
    },
    {
     "data": {
      "text/markdown": [
       "\n",
       "|||\n",
       "|---:|:---|\n",
       "| [![arXiv](https://img.shields.io/badge/arXiv-2410.11436-b31b1b.svg)](https://arxiv.org/abs/2410.11436) | **Search for young stellar objects within 4XMM-DR13 using CatBoost and SPE**  |\n",
       "|| X. Ma, et al. -- incl., <mark>J. Li</mark> |\n",
       "|*Appeared on*| *2024-10-16*|\n",
       "|*Comments*| *14 pages, 22 figures, 3 tables, accepted by the Astronomical Journal*|\n",
       "|**Abstract**|            Classifying and summarizing large data sets from different sky survey projects is essential for various subsequent scientific research. By combining data from 4XMM-DR13, SDSS DR18, and CatWISE, we formed an XMM-WISE-SDSS sample that included information in the X-ray, optical, and infrared bands. By cross-matching this sample with datasets from known spectral classifications from SDSS and LAMOST, we obtained a training dataset containing stars, galaxies, quasars, and Young Stellar Objects (YSOs). Two machine learning methods, CatBoost and Self-Paced Ensemble (SPE), were used to train and construct machine learning models through training sets to classify the XMM-WISE-SDSS sample. Notably, the SPE classifier showed excellent performance in YSO classification, identifying 1102 YSO candidates from 160,545 sources, including 258 known YSOs. Then we further verify whether these candidates are YSOs by the spectra in LAMOST and the identification in the SIMBAD and VizieR dabtabases. Finally there are 412 unidentified YSO candidates. The discovery of these new YSOs is an important addition to existing YSO samples and will deepen our understanding of star formation and evolution. Moreover we provided a classification catalog for the whole XMM-WISE-SDSS sample.         |\n",
       "|<p style=\"color:green\"> **ERROR** </p>| <p style=\"color:green\">affiliation error: mpia.affiliation_verifications: '69117' keyword not found.</p> |"
      ],
      "text/plain": [
       "<IPython.core.display.Markdown object>"
      ]
     },
     "metadata": {},
     "output_type": "display_data"
    },
    {
     "data": {
      "text/markdown": [
       "\n",
       "|||\n",
       "|---:|:---|\n",
       "| [![arXiv](https://img.shields.io/badge/arXiv-2410.11611-b31b1b.svg)](https://arxiv.org/abs/2410.11611) | **Predicting photospheric UV emission from stellar evolutionary models**  |\n",
       "|| S. Wang, X. Li, H. Han, <mark>J. Liu</mark> |\n",
       "|*Appeared on*| *2024-10-16*|\n",
       "|*Comments*| *10 pages, 6 figures, 3 tables. Accepted for publication in ApJ*|\n",
       "|**Abstract**|            Stellar ultraviolet (UV) emission serves as a crucial indicator for estimating magnetic activity and evaluating the habitability of exoplanets orbiting stars. In this paper, we present a straightforward method to derive stellar photospheric UV emission for F to M main-sequence stars. By using PARSEC models, we establish relations between near-UV (NUV) and far-UV (FUV) magnitudes from the Galaxy Evolution Explorer (GALEX), NUV magnitudes from the China Space Station Telescope, and stellar effective temperatures and Gaia BP$-$RP color for different metallicities. Together with the observed sample, we find that for NUV emission, the photospheric contribution to the observed flux is less than 20% for M stars, around 10% to 70% for G stars, and ranges from 30% to 85% for G and F stars. For FUV emission, the photospheric contribution is less than $10^{-6}$ for M stars, below $10^{-4}$ for K stars, around $10^{-4}$ to 10% for G stars, and between 6% and 50% for F stars. Our work enables the simple and effective determination of stellar excess UV emission and the exploration of magnetic activity.         |\n",
       "|<p style=\"color:green\"> **ERROR** </p>| <p style=\"color:green\">affiliation error: mpia.affiliation_verifications: 'Heidelberg' keyword not found.</p> |"
      ],
      "text/plain": [
       "<IPython.core.display.Markdown object>"
      ]
     },
     "metadata": {},
     "output_type": "display_data"
    },
    {
     "data": {
      "text/markdown": [
       "\n",
       "|||\n",
       "|---:|:---|\n",
       "| [![arXiv](https://img.shields.io/badge/arXiv-2410.11808-b31b1b.svg)](https://arxiv.org/abs/2410.11808) | **The JWST Emission Line Survey (JELS): An untargeted search for H$\\alpha$ emission line galaxies at $z > 6$ and their physical properties**  |\n",
       "|| C. A. Pirie, et al. -- incl., <mark>M. Clausen</mark> |\n",
       "|*Appeared on*| *2024-10-16*|\n",
       "|*Comments*| *Submitted to MRNAS; 27 pages, 19 figures. Accompanying data will be publicly released upon acceptance of this manuscript*|\n",
       "|**Abstract**|            We present the first results of the JWST Emission Line Survey (JELS). Utilising the first NIRCam narrow-band imaging at 4.7$\\mu$m, over 63 arcmin$^{2}$ in the PRIMER/COSMOS field, we have identified 609 emission line galaxy candidates. From these, we robustly selected 35 H$\\alpha$ star-forming galaxies at $z \\sim 6.1$, with H$\\alpha$ star-formation rates ($\\rm{SFR_{H\\alpha}}$) of $\\sim0.9-15\\ \\rm{M_{\\odot} yr^{-1}}$. Combining our unique H$\\alpha$ sample with the exquisite panchromatic data in the field, we explore their physical properties and star-formation histories, and compare these to a broad-band selected sample at $z\\sim 6$ to offer vital new insight into the nature of high-redshift galaxies. UV-continuum slopes ($\\beta$) are considerably redder for our H$\\alpha$ sample ($\\langle\\beta\\rangle\\sim-1.92$) compared to the broad-band sample ($\\langle\\beta\\rangle\\sim-2.35$). This is not due to dust attenuation as our H$\\alpha$ sample is relatively dust-poor (median $A_V=0.23$); instead, we argue that the reddened slopes could be due to nebular continuum. We compared $\\rm{SFR_{H\\alpha}}$ and the UV-continuum-derived $\\rm{SFR_{UV}}$ to SED-fitted measurements averaged over canonical timescales of 10 and 100 Myr ($\\rm{SFR_{10}}$ and $\\rm{SFR_{100}}$). We find an increase in recent SFR for our sample of H$\\alpha$ emitters, particularly at lower stellar masses ($<10^9 \\rm{M_{\\odot}}$). We also find that $\\rm{SFR_{H\\alpha}}$ strongly traces SFR averaged over 10 Myr timescales, whereas the UV-continuum over-predicts SFR on 100 Myr timescales at low stellar masses. These results point to our H$\\alpha$ sample undergoing `bursty' star formation. Our F356W $z \\sim 6$ sample show a larger scatter in $\\rm{SFR_{10}/SFR_{100}}$ across all stellar masses, highlighting how narrow-band photometric selections of H$\\alpha$ emitters are key to quantifying the burstiness of star-formation activity.         |\n",
       "|<p style=\"color:green\"> **ERROR** </p>| <p style=\"color:green\">affiliation error: mpia.affiliation_verifications: 'Heidelberg' keyword not found.</p> |"
      ],
      "text/plain": [
       "<IPython.core.display.Markdown object>"
      ]
     },
     "metadata": {},
     "output_type": "display_data"
    },
    {
     "data": {
      "text/markdown": [
       "\n",
       "|||\n",
       "|---:|:---|\n",
       "| [![arXiv](https://img.shields.io/badge/arXiv-2410.11424-b31b1b.svg)](https://arxiv.org/abs/2410.11424) | **Radial velocity technique**  |\n",
       "|| <mark>T. Trifonov</mark> |\n",
       "|*Appeared on*| *2024-10-16*|\n",
       "|*Comments*| *Preprint of a chapter for the 'Encyclopedia of Astrophysics' (Editor-in-Chief Ilya Mandel, Section Editor Dimitri Veras) to be published by Elsevier as a Reference Module. 23 pages, 14 Figures, 2 Tables*|\n",
       "|**Abstract**|            The precise Doppler method for measuring stellar radial velocities (RV) is a fundamental technique in modern astronomy. This method records a star's spectrum and detects periodic Doppler shifts in its spectral features, which indicate the gravitational influences induced by orbiting companions. The Doppler technique has yielded remarkable successes in exoplanet detection, uncovering a diverse array of planetary systems ranging from hot Jupiters to Neptune-mass planets and super-Earths. Having led to the discovery of over 1100 exoplanets, the RV method is the most effective approach for measuring orbital geometries and minimum masses, which are of fundamental importance when accessing planet formation and evolution scenarios. However, exoplanet detection via precise RV measurements poses significant challenges, including managing various sources of interference, such as instrumental errors, and mitigating spurious Doppler shifts induced by phenomena like stellar activity. Key to this technique's advancement is instrumental calibration methods, notably precise calibration methods and ultra-stable spectrographs. This technique holds promise in systematically exploring the domain of Jovian analogs, rocky and icy planets within the habitable zones of their parent stars, and providing crucial follow-up observations for transiting candidates detected by space missions. The synergy between transit and Doppler measurements of exoplanets, when feasible, has provided a comprehensive set of orbital and physical parameters for exoplanets, such as the dynamical mass and mean planet density, which is enhancing our understanding of their internal composition. Additionally, ongoing efforts aim to improve the RV technique further by developing more stable calibration techniques aimed at detecting Earth-like analogs around Solar-type stars that require cm/s RV precision.         |\n",
       "|<p style=\"color:green\"> **ERROR** </p>| <p style=\"color:green\">affiliation error: mpia.affiliation_verifications: 'Planck' keyword not found.</p> |"
      ],
      "text/plain": [
       "<IPython.core.display.Markdown object>"
      ]
     },
     "metadata": {},
     "output_type": "display_data"
    },
    {
     "data": {
      "text/markdown": [
       "\n",
       "|||\n",
       "|---:|:---|\n",
       "| [![arXiv](https://img.shields.io/badge/arXiv-2410.11037-b31b1b.svg)](https://arxiv.org/abs/2410.11037) | **TESS Giants Transiting Giants. VII. A Hot Saturn Orbiting an Oscillating Red Giant Star**  |\n",
       "|| N. Saunders, et al. -- incl., <mark>T. Trifonov</mark>, <mark>T. Henning</mark> |\n",
       "|*Appeared on*| *2024-10-16*|\n",
       "|*Comments*| *16 pages, 9 figures, 3 tables*|\n",
       "|**Abstract**|            We present the discovery of TOI-7041 b (TIC 201175570 b), a hot Saturn transiting a red giant star with measurable stellar oscillations. We observe solar-like oscillations in TOI-7041 with a frequency of maximum power of $\\nu_{\\rm max} = 218.50\\pm2.23$ $\\mu$Hz and a large frequency separation of $\\Delta\\nu = 16.5282\\pm0.0186$ $\\mu$Hz. Our asteroseismic analysis indicates that TOI-7041 has a radius of $4.10 \\pm 0.06$(stat) $\\pm$ 0.05(sys) $R_\\odot$, making it one of the largest stars around which a transiting planet has been discovered with the Transiting Exoplanet Survey Satellite (TESS), and the mission's first oscillating red giant with a transiting planet. TOI-7041 b has an orbital period of $9.691 \\pm 0.006$ days and a low eccentricity of $e = 0.04 \\pm 0.04$. We measure a planet radius of $1.02 \\pm 0.03$ $R_J$ with photometry from TESS, and a planet mass of $0.36 \\pm 0.16$ $M_J$ ($114 \\pm 51$ $M_\\oplus$) with ground-based radial velocity measurements. TOI-7041 b appears less inflated than similar systems receiving equivalent incident flux, and its circular orbit indicates that it is not undergoing tidal heating due to circularization. The asteroseismic analysis of the host star provides some of the tightest constraints on stellar properties for a TESS planet host and enables precise characterization of the hot Saturn. This system joins a small number of TESS-discovered exoplanets orbiting stars that exhibit clear stellar oscillations and indicates that extended TESS observations of evolved stars will similarly provide a path to improved exoplanet characterization.         |\n",
       "|<p style=\"color:red\"> **ERROR** </p>| <p style=\"color:red\">latex error list index out of range</p> |"
      ],
      "text/plain": [
       "<IPython.core.display.Markdown object>"
      ]
     },
     "metadata": {},
     "output_type": "display_data"
    }
   ],
   "source": [
    "import datetime\n",
    "today = str(datetime.date.today())\n",
    "logfile = f\"_build/html/logs/log-{today}.md\"\n",
    "\n",
    "\n",
    "with open(logfile, 'w') as logs:\n",
    "    # Success\n",
    "    logs.write(f'# Arxiv on Deck 2: Logs - {today}\\n\\n')\n",
    "    logs.write(\"\"\"* Arxiv had {0:,d} new papers\\n\"\"\".format(len(new_papers)))\n",
    "    logs.write(\"\"\"    * {0:,d} with possible author matches\\n\\n\"\"\".format(len(candidates)))\n",
    "    logs.write(\"## Sucessful papers\\n\\n\")\n",
    "    display(Markdown(\"## Successful papers\"))\n",
    "    success = [k[0] for k in documents]\n",
    "    for candid in candidates:\n",
    "        if candid['identifier'].split(':')[-1] in success:\n",
    "            display(candid)\n",
    "            logs.write(candid.generate_markdown_text() + '\\n\\n')\n",
    "\n",
    "    ## failed\n",
    "    logs.write(\"## Failed papers\\n\\n\")\n",
    "    display(Markdown(\"## Failed papers\"))\n",
    "    failed = sorted(failed, key=lambda x: x[1])\n",
    "    current_reason = \"\"\n",
    "    for paper, reason in failed:\n",
    "        if 'affiliation' in reason:\n",
    "            color = 'green'\n",
    "        else:\n",
    "            color = 'red'\n",
    "        data = Markdown(\n",
    "                paper.generate_markdown_text() + \n",
    "                f'\\n|<p style=\"color:{color:s}\"> **ERROR** </p>| <p style=\"color:{color:s}\">{reason:s}</p> |'\n",
    "               )\n",
    "        if reason != current_reason:\n",
    "            logs.write(f'### {reason:s} \\n\\n')\n",
    "            current_reason = reason\n",
    "        logs.write(data.data + '\\n\\n')\n",
    "        \n",
    "        # only display here the important errors (all in logs)\n",
    "        # if color in ('red',):\n",
    "        display(data)"
   ]
  },
  {
   "cell_type": "markdown",
   "id": "472d20ee",
   "metadata": {
    "papermill": {
     "duration": 0.004937,
     "end_time": "2024-10-16T04:16:00.508968",
     "exception": false,
     "start_time": "2024-10-16T04:16:00.504031",
     "status": "completed"
    },
    "tags": []
   },
   "source": [
    "## Export documents\n",
    "\n",
    "We now write the .md files and export relevant images"
   ]
  },
  {
   "cell_type": "code",
   "execution_count": 7,
   "id": "d426aed9",
   "metadata": {
    "execution": {
     "iopub.execute_input": "2024-10-16T04:16:00.520405Z",
     "iopub.status.busy": "2024-10-16T04:16:00.519828Z",
     "iopub.status.idle": "2024-10-16T04:16:00.527118Z",
     "shell.execute_reply": "2024-10-16T04:16:00.526553Z"
    },
    "papermill": {
     "duration": 0.014269,
     "end_time": "2024-10-16T04:16:00.528196",
     "exception": false,
     "start_time": "2024-10-16T04:16:00.513927",
     "status": "completed"
    },
    "tags": []
   },
   "outputs": [],
   "source": [
    "def export_markdown_summary(md: str, md_fname:str, directory: str):\n",
    "    \"\"\"Export MD document and associated relevant images\"\"\"\n",
    "    import os\n",
    "    import shutil\n",
    "    import re\n",
    "\n",
    "    if (os.path.exists(directory) and not os.path.isdir(directory)):\n",
    "        raise RuntimeError(f\"a non-directory file exists with name {directory:s}\")\n",
    "\n",
    "    if (not os.path.exists(directory)):\n",
    "        print(f\"creating directory {directory:s}\")\n",
    "        os.mkdir(directory)\n",
    "\n",
    "    fig_fnames = (re.compile(r'\\[Fig.*\\]\\((.*)\\)').findall(md) + \n",
    "                  re.compile(r'\\<img src=\"([^>\\s]*)\"[^>]*/>').findall(md))\n",
    "    print(\"found figures\", fig_fnames)\n",
    "    for fname in fig_fnames:\n",
    "        if 'http' in fname:\n",
    "            # No need to copy online figures\n",
    "            continue\n",
    "        if not os.path.exists(fname):\n",
    "            print(\"file not found\", fname)\n",
    "            continue\n",
    "        print(\"copying \", fname, \"to\", directory)\n",
    "        destdir = os.path.join(directory, os.path.dirname(fname))\n",
    "        destfname = os.path.join(destdir, os.path.basename(fname))\n",
    "        try:\n",
    "            os.makedirs(destdir)\n",
    "        except FileExistsError:\n",
    "            pass\n",
    "        shutil.copy(fname, destfname)\n",
    "    with open(os.path.join(directory, md_fname), 'w') as fout:\n",
    "        fout.write(md)\n",
    "    print(\"exported in \", os.path.join(directory, md_fname))\n",
    "    [print(\"    + \" + os.path.join(directory,fk)) for fk in fig_fnames]"
   ]
  },
  {
   "cell_type": "code",
   "execution_count": 8,
   "id": "014d04a4",
   "metadata": {
    "execution": {
     "iopub.execute_input": "2024-10-16T04:16:00.539992Z",
     "iopub.status.busy": "2024-10-16T04:16:00.539364Z",
     "iopub.status.idle": "2024-10-16T04:16:00.547181Z",
     "shell.execute_reply": "2024-10-16T04:16:00.546602Z"
    },
    "papermill": {
     "duration": 0.01467,
     "end_time": "2024-10-16T04:16:00.548189",
     "exception": false,
     "start_time": "2024-10-16T04:16:00.533519",
     "status": "completed"
    },
    "tags": []
   },
   "outputs": [
    {
     "name": "stdout",
     "output_type": "stream",
     "text": [
      "found figures ['tmp_2410.10933/./DetEmpError.png', 'tmp_2410.10933/./CompCloudy.png', 'tmp_2410.10933/./Isotopologue.png']\n",
      "copying  tmp_2410.10933/./DetEmpError.png to _build/html/\n",
      "copying  tmp_2410.10933/./CompCloudy.png to _build/html/\n",
      "copying  tmp_2410.10933/./Isotopologue.png to _build/html/\n",
      "exported in  _build/html/2410.10933.md\n",
      "    + _build/html/tmp_2410.10933/./DetEmpError.png\n",
      "    + _build/html/tmp_2410.10933/./CompCloudy.png\n",
      "    + _build/html/tmp_2410.10933/./Isotopologue.png\n"
     ]
    }
   ],
   "source": [
    "for paper_id, md in documents:\n",
    "    export_markdown_summary(md, f\"{paper_id:s}.md\", '_build/html/')"
   ]
  },
  {
   "cell_type": "markdown",
   "id": "f087a0a7",
   "metadata": {
    "papermill": {
     "duration": 0.005175,
     "end_time": "2024-10-16T04:16:00.558730",
     "exception": false,
     "start_time": "2024-10-16T04:16:00.553555",
     "status": "completed"
    },
    "tags": []
   },
   "source": [
    "## Display the papers\n",
    "\n",
    "Not necessary but allows for a quick check."
   ]
  },
  {
   "cell_type": "code",
   "execution_count": 9,
   "id": "fd25f625",
   "metadata": {
    "execution": {
     "iopub.execute_input": "2024-10-16T04:16:00.570900Z",
     "iopub.status.busy": "2024-10-16T04:16:00.570278Z",
     "iopub.status.idle": "2024-10-16T04:16:00.575400Z",
     "shell.execute_reply": "2024-10-16T04:16:00.574742Z"
    },
    "papermill": {
     "duration": 0.012436,
     "end_time": "2024-10-16T04:16:00.576438",
     "exception": false,
     "start_time": "2024-10-16T04:16:00.564002",
     "status": "completed"
    },
    "scrolled": false,
    "tags": []
   },
   "outputs": [
    {
     "data": {
      "text/markdown": [
       "<div class=\"macros\" style=\"visibility:hidden;\">\n",
       "$\\newcommand{\\ensuremath}{}$\n",
       "$\\newcommand{\\xspace}{}$\n",
       "$\\newcommand{\\object}[1]{\\texttt{#1}}$\n",
       "$\\newcommand{\\farcs}{{.}''}$\n",
       "$\\newcommand{\\farcm}{{.}'}$\n",
       "$\\newcommand{\\arcsec}{''}$\n",
       "$\\newcommand{\\arcmin}{'}$\n",
       "$\\newcommand{\\ion}[2]{#1#2}$\n",
       "$\\newcommand{\\textsc}[1]{\\textrm{#1}}$\n",
       "$\\newcommand{\\hl}[1]{\\textrm{#1}}$\n",
       "$\\newcommand{\\footnote}[1]{}$\n",
       "$\\newcommand{\\todo}[1]{\\textbf{\\color{orange}#1}}$\n",
       "$\\newcommand{\\RJ}{R_\\mathrm{J}}$\n",
       "$\\newcommand{\\MJ}{M_\\mathrm{J}}$</div>\n",
       "\n",
       "\n",
       "\n",
       "<div id=\"title\">\n",
       "\n",
       "# Water depletion and $\\mathrm{^{15}NH_3}$ in the atmosphere of the coldest brown dwarf observed with JWST/MIRI\n",
       "\n",
       "</div>\n",
       "<div id=\"comments\">\n",
       "\n",
       "[![arXiv](https://img.shields.io/badge/arXiv-2410.10933-b31b1b.svg)](https://arxiv.org/abs/2410.10933)<mark>Appeared on: 2024-10-16</mark> -  _Submitted to A&A, 29 pages, 21 figures_\n",
       "\n",
       "</div>\n",
       "<div id=\"authors\">\n",
       "\n",
       "H. Kühnle, et al. -- incl., <mark>P. Mollière</mark>, <mark>E. Matthews</mark>, <mark>T. Henning</mark>\n",
       "\n",
       "</div>\n",
       "<div id=\"abstract\">\n",
       "\n",
       "**Abstract:** With a temperature of $\\sim$ 285 K WISE 0855 is the coldest brown dwarf observed so far. Such cold gas giants enable probing atmospheric physics and chemistry of evolved objects similar to the Solar System gas giants. Using the James Webb Space Telescope (JWST) we obtained observations that allow us to characterize WISE 0855's atmosphere focusing on vertical variation in the water steam abundance, measuring trace gas abundances and receiving bulk parameters for this cold object. We observed the ultra cool dwarf WISE 0855 using the Mid-Infrared Instrument Medium Resolution Spectrometer (MIRI/MRS) onboard JWST at a spectral resolution of up to 3'750. We combined the observation with the published data from the Near Infrared Spectrograph (NIRSpec) G395M and PRISM modes yielding a spectrum ranging from 0.8 to 22 µm. We applied atmospheric retrievals using \\texttt{petitRADTRANS} to measure atmospheric abundances, the pressure-temperature structure, radius and gravity of the brown dwarf. We also employed publicly available clear and cloudy self-consistent grid models to estimate bulk properties of the atmosphere such as the effective temperature, radius, gravity and metallicity. Atmospheric retrievals constrain a variable water abundance profile in the atmosphere, as predicted by equilibrium chemistry. We detect the $\\mathrm{^{15}NH_3}$ isotopologue and infer a ratio of mass fraction of $\\mathrm{^{14}NH_3}$ / $\\mathrm{^{15}NH_3}$ = 332 $^{+63}_{-43}$ for the clear retrieval. We measure the bolometric luminosity by integrating the presented spectrum and obtain a value of $\\mathrm{log(L/\\textup{L}_\\odot)} = -7.291 \\pm 0.008$ . The detected water depletion indicates that water condenses out in the upper atmosphere due to the very low effective temperature of WISE 0855. The height in the atmosphere where this occurs is covered by the MIRI/MRS data, and thus demonstrates the potential of MIRI to characterize cold gas giant's atmospheres. Comparing the data to retrievals and self-consistent grid models, we do not detect signs for water ice clouds, although their spectral features have been predicted in previous studies.\n",
       "\n",
       "</div>\n",
       "\n",
       "<div id=\"div_fig1\">\n",
       "\n",
       "<img src=\"tmp_2410.10933/./DetEmpError.png\" alt=\"Fig5\" width=\"100%\"/>\n",
       "\n",
       "**Figure 5. -** Resulting cube images of channels 1 to 4 with sub channels A to C after dither subtraction. The wavelengths are chosen such that they refer to the detector image with the highest flux at the source in each band. The red circle shows the aperture for the flux extraction of the spectrum at one FWHM of the PSF of the source. The blue circle refers to three times the FWHM on which nine black circles of one FWHM are placed. We extract the flux from each circle and measure the variability to obtain an error including the noise in the background, $\\sigma_{emp}$.  (*fig:errorestimation*)\n",
       "\n",
       "</div>\n",
       "<div id=\"div_fig2\">\n",
       "\n",
       "<img src=\"tmp_2410.10933/./CompCloudy.png\" alt=\"Fig9\" width=\"100%\"/>\n",
       "\n",
       "**Figure 9. -** Best fit grid model spectra for the clear ATMO++ in red, the thick cloudy non-equilibrium model by Lacy2023 in blue and and the clear non-equilibrium in orange. Subplot a) shows an inset of the PRISM data, which has a significant lower amount of flux. Subfigure b) gives the NIRSpec/G395M and MIRI/MRS data set. Subplot c) and d) show insets in panel b) on the NIRspec/G395M region and the prominent $NH_3$ absorption feature. The corresponding $\\chi^2$ values are 2.57, 1.97 and 5.66 for ATMO++, the Lacy cloudy (thick) and clear non-equilibrium model fits. As for the retrievals and for better visibility we re-bined the models and data to a resolution R = 500 for the NIRSpec/G395M and MIRI/MRS and kept NIRSpec/PRISM at R = 100. (*fig:cloud_self*)\n",
       "\n",
       "</div>\n",
       "<div id=\"div_fig3\">\n",
       "\n",
       "<img src=\"tmp_2410.10933/./Isotopologue.png\" alt=\"Fig11\" width=\"100%\"/>\n",
       "\n",
       "**Figure 11. -** We show the best fit spectrum with $^{15}$$NH_3$ included in blue, the best fit removing the $^{15}$$NH_3$ opacity in red and in black the data with error bars. The top right panel b) shows the $^{15}$$NH_3$ feature observed by the MIRI/MRS spectrum of WISE 0855 with an inset shown in panel a). The middle plot d) shows the residuals of the fit with and without $^{15}$$NH_3$ in blue and red respectively. The lowest plot f) shows the $^{15}$$NH_3$ opacity used for the retrieval at 277 K and for the pressures of the clear retrieval with varying $H_2$O profile. Insets of the middle and lower plots are shown in panels c) and e) (*fig:isotop*)\n",
       "\n",
       "</div><div id=\"qrcode\"><img src=https://api.qrserver.com/v1/create-qr-code/?size=100x100&data=\"https://arxiv.org/abs/2410.10933\"></div>"
      ],
      "text/plain": [
       "<IPython.core.display.Markdown object>"
      ]
     },
     "metadata": {},
     "output_type": "display_data"
    }
   ],
   "source": [
    "[display(Markdown(k[1])) for k in documents];"
   ]
  },
  {
   "cell_type": "markdown",
   "id": "873873a4",
   "metadata": {
    "papermill": {
     "duration": 0.005433,
     "end_time": "2024-10-16T04:16:00.587535",
     "exception": false,
     "start_time": "2024-10-16T04:16:00.582102",
     "status": "completed"
    },
    "tags": []
   },
   "source": [
    "# Create HTML index"
   ]
  },
  {
   "cell_type": "code",
   "execution_count": 10,
   "id": "cf665672",
   "metadata": {
    "execution": {
     "iopub.execute_input": "2024-10-16T04:16:00.599969Z",
     "iopub.status.busy": "2024-10-16T04:16:00.599377Z",
     "iopub.status.idle": "2024-10-16T04:16:00.607989Z",
     "shell.execute_reply": "2024-10-16T04:16:00.607366Z"
    },
    "papermill": {
     "duration": 0.015871,
     "end_time": "2024-10-16T04:16:00.609011",
     "exception": false,
     "start_time": "2024-10-16T04:16:00.593140",
     "status": "completed"
    },
    "tags": []
   },
   "outputs": [
    {
     "name": "stdout",
     "output_type": "stream",
     "text": [
      "220  publications files modified in the last 7 days.\n"
     ]
    }
   ],
   "source": [
    "from datetime import datetime, timedelta, timezone\n",
    "from glob import glob\n",
    "import os\n",
    "\n",
    "files = glob('_build/html/*.md')\n",
    "days = 7\n",
    "now = datetime.today()\n",
    "res = []\n",
    "for fk in files:\n",
    "    stat_result = os.stat(fk).st_ctime\n",
    "    modified = datetime.fromtimestamp(stat_result, tz=timezone.utc).replace(tzinfo=None)\n",
    "    delta = now.today() - modified\n",
    "    if delta <= timedelta(days=days):\n",
    "        res.append((delta.seconds, fk))\n",
    "res = [k[1] for k in reversed(sorted(res, key=lambda x:x[1]))]\n",
    "npub = len(res)\n",
    "print(len(res), f\" publications files modified in the last {days:d} days.\")\n",
    "# [ print('\\t', k) for k in res ];"
   ]
  },
  {
   "cell_type": "code",
   "execution_count": 11,
   "id": "015de740",
   "metadata": {
    "execution": {
     "iopub.execute_input": "2024-10-16T04:16:00.621442Z",
     "iopub.status.busy": "2024-10-16T04:16:00.620934Z",
     "iopub.status.idle": "2024-10-16T04:16:00.637434Z",
     "shell.execute_reply": "2024-10-16T04:16:00.636755Z"
    },
    "papermill": {
     "duration": 0.023882,
     "end_time": "2024-10-16T04:16:00.638544",
     "exception": false,
     "start_time": "2024-10-16T04:16:00.614662",
     "status": "completed"
    },
    "tags": []
   },
   "outputs": [
    {
     "name": "stdout",
     "output_type": "stream",
     "text": [
      "12  publications in the last 7 days.\n"
     ]
    }
   ],
   "source": [
    "import datetime\n",
    "from glob import glob\n",
    "\n",
    "def get_last_n_days(lst, days=1):\n",
    "    \"\"\" Get the documents from the last n days \"\"\"\n",
    "    sorted_lst = sorted(lst, key=lambda x: x[1], reverse=True)\n",
    "    for fname, date in sorted_lst:\n",
    "        if date >= str(datetime.date.today() - datetime.timedelta(days=days)):\n",
    "            yield fname\n",
    "\n",
    "def extract_appearance_dates(lst_file):\n",
    "    dates = []\n",
    "\n",
    "    def get_date(line):\n",
    "        return line\\\n",
    "            .split('Appeared on:')[-1]\\\n",
    "            .split('</mark>')[0].strip()\n",
    "\n",
    "    for fname in lst:\n",
    "        with open(fname, 'r') as f:\n",
    "            found_date = False\n",
    "            for line in f:\n",
    "                if not found_date:\n",
    "                    if \"Appeared on\" in line:\n",
    "                        found_date = True\n",
    "                        dates.append((fname, get_date(line)))\n",
    "                else:\n",
    "                    break\n",
    "    return dates\n",
    "\n",
    "from glob import glob\n",
    "lst = glob('_build/html/*md')\n",
    "days = 7\n",
    "dates = extract_appearance_dates(lst)\n",
    "res = list(get_last_n_days(dates, days))\n",
    "npub = len(res)\n",
    "print(len(res), f\" publications in the last {days:d} days.\")"
   ]
  },
  {
   "cell_type": "code",
   "execution_count": 12,
   "id": "52ca0208",
   "metadata": {
    "execution": {
     "iopub.execute_input": "2024-10-16T04:16:00.651662Z",
     "iopub.status.busy": "2024-10-16T04:16:00.651082Z",
     "iopub.status.idle": "2024-10-16T04:16:00.656500Z",
     "shell.execute_reply": "2024-10-16T04:16:00.655885Z"
    },
    "papermill": {
     "duration": 0.013003,
     "end_time": "2024-10-16T04:16:00.657554",
     "exception": false,
     "start_time": "2024-10-16T04:16:00.644551",
     "status": "completed"
    },
    "scrolled": false,
    "tags": []
   },
   "outputs": [],
   "source": [
    "def create_carousel(npub=4):\n",
    "    \"\"\" Generate the HTML code for a carousel with `npub` slides \"\"\"\n",
    "    carousel = [\"\"\"  <div class=\"carousel\" \"\"\",\n",
    "                \"\"\"       data-flickity='{ \"autoPlay\": 10000, \"adaptiveHeight\": true, \"resize\": true, \"wrapAround\": true, \"pauseAutoPlayOnHover\": true, \"groupCells\": 1 }' id=\"asyncTypeset\">\"\"\"\n",
    "                ]\n",
    "    \n",
    "    item_str = \"\"\"    <div class=\"carousel-cell\"> <div id=\"slide{k}\" class=\"md_view\">Content {k}</div> </div>\"\"\"\n",
    "    for k in range(1, npub + 1):\n",
    "        carousel.append(item_str.format(k=k))\n",
    "    carousel.append(\"  </div>\")\n",
    "    return '\\n'.join(carousel)\n",
    "\n",
    "def create_grid(npub=4):\n",
    "    \"\"\" Generate the HTML code for a flat grid with `npub` slides \"\"\"\n",
    "    grid = [\"\"\"  <div class=\"grid\"> \"\"\",\n",
    "                ]\n",
    "    \n",
    "    item_str = \"\"\"    <div class=\"grid-item\"> <div id=\"slide{k}\" class=\"md_view\">Content {k}</div> </div>\"\"\"\n",
    "    for k in range(1, npub + 1):\n",
    "        grid.append(item_str.format(k=k))\n",
    "    grid.append(\"  </div>\")\n",
    "    return '\\n'.join(grid)"
   ]
  },
  {
   "cell_type": "code",
   "execution_count": 13,
   "id": "a6eac5b6",
   "metadata": {
    "execution": {
     "iopub.execute_input": "2024-10-16T04:16:00.670190Z",
     "iopub.status.busy": "2024-10-16T04:16:00.669684Z",
     "iopub.status.idle": "2024-10-16T04:16:00.675213Z",
     "shell.execute_reply": "2024-10-16T04:16:00.674676Z"
    },
    "papermill": {
     "duration": 0.012938,
     "end_time": "2024-10-16T04:16:00.676220",
     "exception": false,
     "start_time": "2024-10-16T04:16:00.663282",
     "status": "completed"
    },
    "scrolled": false,
    "tags": []
   },
   "outputs": [],
   "source": [
    "carousel = create_carousel(npub)\n",
    "docs = ', '.join(['\"{0:s}\"'.format(k.split('/')[-1]) for k in res])\n",
    "slides = ', '.join([f'\"slide{k}\"' for k in range(1, npub + 1)])\n",
    "\n",
    "with open(\"daily_template.html\", \"r\") as tpl:\n",
    "    page = tpl.read()\n",
    "    page = page.replace(\"{%-- carousel:s --%}\", carousel)\\\n",
    "               .replace(\"{%-- suptitle:s --%}\",  \"7-day archives\" )\\\n",
    "               .replace(\"{%-- docs:s --%}\", docs)\\\n",
    "               .replace(\"{%-- slides:s --%}\", slides)\n",
    "    \n",
    "with open(\"_build/html/index_7days.html\", 'w') as fout:\n",
    "    fout.write(page)"
   ]
  },
  {
   "cell_type": "code",
   "execution_count": 14,
   "id": "adc1a1ec",
   "metadata": {
    "execution": {
     "iopub.execute_input": "2024-10-16T04:16:00.688628Z",
     "iopub.status.busy": "2024-10-16T04:16:00.688185Z",
     "iopub.status.idle": "2024-10-16T04:16:00.695025Z",
     "shell.execute_reply": "2024-10-16T04:16:00.694472Z"
    },
    "papermill": {
     "duration": 0.014026,
     "end_time": "2024-10-16T04:16:00.695986",
     "exception": false,
     "start_time": "2024-10-16T04:16:00.681960",
     "status": "completed"
    },
    "tags": []
   },
   "outputs": [
    {
     "name": "stdout",
     "output_type": "stream",
     "text": [
      "4  publications in the last day.\n"
     ]
    }
   ],
   "source": [
    "# redo for today\n",
    "days = 1\n",
    "res = list(get_last_n_days(dates, days))\n",
    "npub = len(res)\n",
    "print(len(res), f\" publications in the last day.\")\n",
    "\n",
    "carousel = create_carousel(npub)\n",
    "docs = ', '.join(['\"{0:s}\"'.format(k.split('/')[-1]) for k in res])\n",
    "slides = ', '.join([f'\"slide{k}\"' for k in range(1, npub + 1)])\n",
    "\n",
    "with open(\"daily_template.html\", \"r\") as tpl:\n",
    "    page = tpl.read()\n",
    "    page = page.replace(\"{%-- carousel:s --%}\", carousel)\\\n",
    "               .replace(\"{%-- suptitle:s --%}\",  \"Daily\" )\\\n",
    "               .replace(\"{%-- docs:s --%}\", docs)\\\n",
    "               .replace(\"{%-- slides:s --%}\", slides)\n",
    "    \n",
    "# print(carousel, docs, slides)\n",
    "# print(page)\n",
    "with open(\"_build/html/index_daily.html\", 'w') as fout:\n",
    "    fout.write(page)"
   ]
  },
  {
   "cell_type": "code",
   "execution_count": 15,
   "id": "00eece82",
   "metadata": {
    "execution": {
     "iopub.execute_input": "2024-10-16T04:16:00.708904Z",
     "iopub.status.busy": "2024-10-16T04:16:00.708235Z",
     "iopub.status.idle": "2024-10-16T04:16:00.715197Z",
     "shell.execute_reply": "2024-10-16T04:16:00.714549Z"
    },
    "papermill": {
     "duration": 0.014435,
     "end_time": "2024-10-16T04:16:00.716261",
     "exception": false,
     "start_time": "2024-10-16T04:16:00.701826",
     "status": "completed"
    },
    "scrolled": false,
    "tags": []
   },
   "outputs": [
    {
     "name": "stdout",
     "output_type": "stream",
     "text": [
      "6  6 publications selected.\n"
     ]
    }
   ],
   "source": [
    "# Create the flat grid of the last N papers (fixed number regardless of dates)\n",
    "from itertools import islice \n",
    "\n",
    "npub = 6\n",
    "res = [k[0] for k in (islice(reversed(sorted(dates, key=lambda x: x[1])), 6))]\n",
    "print(len(res), f\" {npub} publications selected.\")\n",
    "\n",
    "grid = create_grid(npub)\n",
    "docs = ', '.join(['\"{0:s}\"'.format(k.split('/')[-1]) for k in res])\n",
    "slides = ', '.join([f'\"slide{k}\"' for k in range(1, npub + 1)])\n",
    "\n",
    "with open(\"grid_template.html\", \"r\") as tpl:\n",
    "    page = tpl.read()\n",
    "    page = page.replace(\"{%-- grid-content:s --%}\", grid)\\\n",
    "               .replace(\"{%-- suptitle:s --%}\",  f\"Last {npub:,d} papers\" )\\\n",
    "               .replace(\"{%-- docs:s --%}\", docs)\\\n",
    "               .replace(\"{%-- slides:s --%}\", slides)\n",
    "    \n",
    "# print(grid, docs, slides)\n",
    "# print(page)\n",
    "with open(\"_build/html/index_npub_grid.html\", 'w') as fout:\n",
    "    fout.write(page)"
   ]
  }
 ],
 "metadata": {
  "kernelspec": {
   "display_name": "Python 3 (ipykernel)",
   "language": "python",
   "name": "python3"
  },
  "language_info": {
   "codemirror_mode": {
    "name": "ipython",
    "version": 3
   },
   "file_extension": ".py",
   "mimetype": "text/x-python",
   "name": "python",
   "nbconvert_exporter": "python",
   "pygments_lexer": "ipython3",
   "version": "3.9.20"
  },
  "papermill": {
   "default_parameters": {},
   "duration": 319.800861,
   "end_time": "2024-10-16T04:16:01.038664",
   "environment_variables": {},
   "exception": null,
   "input_path": "MPIA daily digest.ipynb",
   "output_path": "log.ipynb",
   "parameters": {},
   "start_time": "2024-10-16T04:10:41.237803",
   "version": "2.6.0"
  },
  "vscode": {
   "interpreter": {
    "hash": "aee8b7b246df8f9039afb4144a1f6fd8d2ca17a180786b69acc140d282b71a49"
   }
  },
  "widgets": {
   "application/vnd.jupyter.widget-state+json": {
    "state": {
     "21802dd5c99a45d5b92fce7179f2df6f": {
      "model_module": "@jupyter-widgets/base",
      "model_module_version": "2.0.0",
      "model_name": "LayoutModel",
      "state": {
       "_model_module": "@jupyter-widgets/base",
       "_model_module_version": "2.0.0",
       "_model_name": "LayoutModel",
       "_view_count": null,
       "_view_module": "@jupyter-widgets/base",
       "_view_module_version": "2.0.0",
       "_view_name": "LayoutView",
       "align_content": null,
       "align_items": null,
       "align_self": null,
       "border_bottom": null,
       "border_left": null,
       "border_right": null,
       "border_top": null,
       "bottom": null,
       "display": null,
       "flex": null,
       "flex_flow": null,
       "grid_area": null,
       "grid_auto_columns": null,
       "grid_auto_flow": null,
       "grid_auto_rows": null,
       "grid_column": null,
       "grid_gap": null,
       "grid_row": null,
       "grid_template_areas": null,
       "grid_template_columns": null,
       "grid_template_rows": null,
       "height": null,
       "justify_content": null,
       "justify_items": null,
       "left": null,
       "margin": null,
       "max_height": null,
       "max_width": null,
       "min_height": null,
       "min_width": null,
       "object_fit": null,
       "object_position": null,
       "order": null,
       "overflow": null,
       "padding": null,
       "right": null,
       "top": null,
       "visibility": null,
       "width": null
      }
     },
     "38813139adf04f4a9e66aaf7581dfc6b": {
      "model_module": "@jupyter-widgets/base",
      "model_module_version": "2.0.0",
      "model_name": "LayoutModel",
      "state": {
       "_model_module": "@jupyter-widgets/base",
       "_model_module_version": "2.0.0",
       "_model_name": "LayoutModel",
       "_view_count": null,
       "_view_module": "@jupyter-widgets/base",
       "_view_module_version": "2.0.0",
       "_view_name": "LayoutView",
       "align_content": null,
       "align_items": null,
       "align_self": null,
       "border_bottom": null,
       "border_left": null,
       "border_right": null,
       "border_top": null,
       "bottom": null,
       "display": null,
       "flex": null,
       "flex_flow": null,
       "grid_area": null,
       "grid_auto_columns": null,
       "grid_auto_flow": null,
       "grid_auto_rows": null,
       "grid_column": null,
       "grid_gap": null,
       "grid_row": null,
       "grid_template_areas": null,
       "grid_template_columns": null,
       "grid_template_rows": null,
       "height": null,
       "justify_content": null,
       "justify_items": null,
       "left": null,
       "margin": null,
       "max_height": null,
       "max_width": null,
       "min_height": null,
       "min_width": null,
       "object_fit": null,
       "object_position": null,
       "order": null,
       "overflow": null,
       "padding": null,
       "right": null,
       "top": null,
       "visibility": null,
       "width": null
      }
     },
     "3ecb271c08d84782910aed8d88d25602": {
      "model_module": "@jupyter-widgets/controls",
      "model_module_version": "2.0.0",
      "model_name": "HTMLStyleModel",
      "state": {
       "_model_module": "@jupyter-widgets/controls",
       "_model_module_version": "2.0.0",
       "_model_name": "HTMLStyleModel",
       "_view_count": null,
       "_view_module": "@jupyter-widgets/base",
       "_view_module_version": "2.0.0",
       "_view_name": "StyleView",
       "background": null,
       "description_width": "",
       "font_size": null,
       "text_color": null
      }
     },
     "409bb19fdb84490da4c23260a938fcc3": {
      "model_module": "@jupyter-widgets/controls",
      "model_module_version": "2.0.0",
      "model_name": "HTMLModel",
      "state": {
       "_dom_classes": [],
       "_model_module": "@jupyter-widgets/controls",
       "_model_module_version": "2.0.0",
       "_model_name": "HTMLModel",
       "_view_count": null,
       "_view_module": "@jupyter-widgets/controls",
       "_view_module_version": "2.0.0",
       "_view_name": "HTMLView",
       "description": "",
       "description_allow_html": false,
       "layout": "IPY_MODEL_21802dd5c99a45d5b92fce7179f2df6f",
       "placeholder": "​",
       "style": "IPY_MODEL_3ecb271c08d84782910aed8d88d25602",
       "tabbable": null,
       "tooltip": null,
       "value": "100%"
      }
     },
     "498ce663093546b6abd1a03ae6ceb986": {
      "model_module": "@jupyter-widgets/controls",
      "model_module_version": "2.0.0",
      "model_name": "ProgressStyleModel",
      "state": {
       "_model_module": "@jupyter-widgets/controls",
       "_model_module_version": "2.0.0",
       "_model_name": "ProgressStyleModel",
       "_view_count": null,
       "_view_module": "@jupyter-widgets/base",
       "_view_module_version": "2.0.0",
       "_view_name": "StyleView",
       "bar_color": null,
       "description_width": ""
      }
     },
     "7f228105f05b495fa6e4f357c3ae3eac": {
      "model_module": "@jupyter-widgets/controls",
      "model_module_version": "2.0.0",
      "model_name": "FloatProgressModel",
      "state": {
       "_dom_classes": [],
       "_model_module": "@jupyter-widgets/controls",
       "_model_module_version": "2.0.0",
       "_model_name": "FloatProgressModel",
       "_view_count": null,
       "_view_module": "@jupyter-widgets/controls",
       "_view_module_version": "2.0.0",
       "_view_name": "ProgressView",
       "bar_style": "success",
       "description": "",
       "description_allow_html": false,
       "layout": "IPY_MODEL_9511f262706548c3b34ae115df0f1b4a",
       "max": 6.0,
       "min": 0.0,
       "orientation": "horizontal",
       "style": "IPY_MODEL_498ce663093546b6abd1a03ae6ceb986",
       "tabbable": null,
       "tooltip": null,
       "value": 6.0
      }
     },
     "9511f262706548c3b34ae115df0f1b4a": {
      "model_module": "@jupyter-widgets/base",
      "model_module_version": "2.0.0",
      "model_name": "LayoutModel",
      "state": {
       "_model_module": "@jupyter-widgets/base",
       "_model_module_version": "2.0.0",
       "_model_name": "LayoutModel",
       "_view_count": null,
       "_view_module": "@jupyter-widgets/base",
       "_view_module_version": "2.0.0",
       "_view_name": "LayoutView",
       "align_content": null,
       "align_items": null,
       "align_self": null,
       "border_bottom": null,
       "border_left": null,
       "border_right": null,
       "border_top": null,
       "bottom": null,
       "display": null,
       "flex": null,
       "flex_flow": null,
       "grid_area": null,
       "grid_auto_columns": null,
       "grid_auto_flow": null,
       "grid_auto_rows": null,
       "grid_column": null,
       "grid_gap": null,
       "grid_row": null,
       "grid_template_areas": null,
       "grid_template_columns": null,
       "grid_template_rows": null,
       "height": null,
       "justify_content": null,
       "justify_items": null,
       "left": null,
       "margin": null,
       "max_height": null,
       "max_width": null,
       "min_height": null,
       "min_width": null,
       "object_fit": null,
       "object_position": null,
       "order": null,
       "overflow": null,
       "padding": null,
       "right": null,
       "top": null,
       "visibility": null,
       "width": null
      }
     },
     "a992c5a47bac406c9462a42d013b2623": {
      "model_module": "@jupyter-widgets/controls",
      "model_module_version": "2.0.0",
      "model_name": "HTMLModel",
      "state": {
       "_dom_classes": [],
       "_model_module": "@jupyter-widgets/controls",
       "_model_module_version": "2.0.0",
       "_model_name": "HTMLModel",
       "_view_count": null,
       "_view_module": "@jupyter-widgets/controls",
       "_view_module_version": "2.0.0",
       "_view_name": "HTMLView",
       "description": "",
       "description_allow_html": false,
       "layout": "IPY_MODEL_38813139adf04f4a9e66aaf7581dfc6b",
       "placeholder": "​",
       "style": "IPY_MODEL_cfa9246139b54771aa9dbab7085d090a",
       "tabbable": null,
       "tooltip": null,
       "value": " 6/6 [04:59&lt;00:00, 46.94s/it]"
      }
     },
     "b3ccf445da3e4bff8e2472236a4b7cd1": {
      "model_module": "@jupyter-widgets/base",
      "model_module_version": "2.0.0",
      "model_name": "LayoutModel",
      "state": {
       "_model_module": "@jupyter-widgets/base",
       "_model_module_version": "2.0.0",
       "_model_name": "LayoutModel",
       "_view_count": null,
       "_view_module": "@jupyter-widgets/base",
       "_view_module_version": "2.0.0",
       "_view_name": "LayoutView",
       "align_content": null,
       "align_items": null,
       "align_self": null,
       "border_bottom": null,
       "border_left": null,
       "border_right": null,
       "border_top": null,
       "bottom": null,
       "display": null,
       "flex": null,
       "flex_flow": null,
       "grid_area": null,
       "grid_auto_columns": null,
       "grid_auto_flow": null,
       "grid_auto_rows": null,
       "grid_column": null,
       "grid_gap": null,
       "grid_row": null,
       "grid_template_areas": null,
       "grid_template_columns": null,
       "grid_template_rows": null,
       "height": null,
       "justify_content": null,
       "justify_items": null,
       "left": null,
       "margin": null,
       "max_height": null,
       "max_width": null,
       "min_height": null,
       "min_width": null,
       "object_fit": null,
       "object_position": null,
       "order": null,
       "overflow": null,
       "padding": null,
       "right": null,
       "top": null,
       "visibility": null,
       "width": null
      }
     },
     "cfa9246139b54771aa9dbab7085d090a": {
      "model_module": "@jupyter-widgets/controls",
      "model_module_version": "2.0.0",
      "model_name": "HTMLStyleModel",
      "state": {
       "_model_module": "@jupyter-widgets/controls",
       "_model_module_version": "2.0.0",
       "_model_name": "HTMLStyleModel",
       "_view_count": null,
       "_view_module": "@jupyter-widgets/base",
       "_view_module_version": "2.0.0",
       "_view_name": "StyleView",
       "background": null,
       "description_width": "",
       "font_size": null,
       "text_color": null
      }
     },
     "dde8083307c840089558c139be7c1a29": {
      "model_module": "@jupyter-widgets/controls",
      "model_module_version": "2.0.0",
      "model_name": "HBoxModel",
      "state": {
       "_dom_classes": [],
       "_model_module": "@jupyter-widgets/controls",
       "_model_module_version": "2.0.0",
       "_model_name": "HBoxModel",
       "_view_count": null,
       "_view_module": "@jupyter-widgets/controls",
       "_view_module_version": "2.0.0",
       "_view_name": "HBoxView",
       "box_style": "",
       "children": [
        "IPY_MODEL_409bb19fdb84490da4c23260a938fcc3",
        "IPY_MODEL_7f228105f05b495fa6e4f357c3ae3eac",
        "IPY_MODEL_a992c5a47bac406c9462a42d013b2623"
       ],
       "layout": "IPY_MODEL_b3ccf445da3e4bff8e2472236a4b7cd1",
       "tabbable": null,
       "tooltip": null
      }
     }
    },
    "version_major": 2,
    "version_minor": 0
   }
  }
 },
 "nbformat": 4,
 "nbformat_minor": 5
}