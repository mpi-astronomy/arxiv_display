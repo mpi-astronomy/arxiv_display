{
 "cells": [
  {
   "cell_type": "markdown",
   "id": "92bcb855",
   "metadata": {
    "papermill": {
     "duration": 0.003806,
     "end_time": "2024-01-25T04:09:08.950162",
     "exception": false,
     "start_time": "2024-01-25T04:09:08.946356",
     "status": "completed"
    },
    "tags": []
   },
   "source": [
    "# MPIA Arxiv on Deck 2\n",
    "\n",
    "Contains the steps to produce the paper extractions."
   ]
  },
  {
   "cell_type": "code",
   "execution_count": 1,
   "id": "3a0d6e11",
   "metadata": {
    "execution": {
     "iopub.execute_input": "2024-01-25T04:09:08.958868Z",
     "iopub.status.busy": "2024-01-25T04:09:08.958205Z",
     "iopub.status.idle": "2024-01-25T04:09:09.457022Z",
     "shell.execute_reply": "2024-01-25T04:09:09.456391Z"
    },
    "papermill": {
     "duration": 0.504391,
     "end_time": "2024-01-25T04:09:09.458739",
     "exception": false,
     "start_time": "2024-01-25T04:09:08.954348",
     "status": "completed"
    },
    "tags": []
   },
   "outputs": [],
   "source": [
    "# Imports\n",
    "import os\n",
    "from IPython.display import Markdown, display\n",
    "from tqdm.notebook import tqdm\n",
    "import warnings\n",
    "from PIL import Image \n",
    "\n",
    "# requires arxiv_on_deck_2\n",
    "\n",
    "from arxiv_on_deck_2.arxiv2 import (get_new_papers, \n",
    "                                    get_paper_from_identifier,\n",
    "                                    retrieve_document_source, \n",
    "                                    get_markdown_badge)\n",
    "from arxiv_on_deck_2 import (latex,\n",
    "                             latex_bib,\n",
    "                             mpia,\n",
    "                             highlight_authors_in_list)\n",
    "\n",
    "# Sometimes images are really big\n",
    "Image.MAX_IMAGE_PIXELS = 1000000000 "
   ]
  },
  {
   "cell_type": "code",
   "execution_count": 2,
   "id": "22aa9d44",
   "metadata": {
    "execution": {
     "iopub.execute_input": "2024-01-25T04:09:09.466004Z",
     "iopub.status.busy": "2024-01-25T04:09:09.465413Z",
     "iopub.status.idle": "2024-01-25T04:09:09.470585Z",
     "shell.execute_reply": "2024-01-25T04:09:09.470074Z"
    },
    "papermill": {
     "duration": 0.010155,
     "end_time": "2024-01-25T04:09:09.471892",
     "exception": false,
     "start_time": "2024-01-25T04:09:09.461737",
     "status": "completed"
    },
    "tags": []
   },
   "outputs": [],
   "source": [
    "# Some useful definitions.\n",
    "\n",
    "class AffiliationWarning(UserWarning):\n",
    "    pass\n",
    "\n",
    "class AffiliationError(RuntimeError):\n",
    "    pass\n",
    "\n",
    "def validation(source: str):\n",
    "    \"\"\"Raises error paper during parsing of source file\n",
    "    \n",
    "    Allows checks before parsing TeX code.\n",
    "    \n",
    "    Raises AffiliationWarning\n",
    "    \"\"\"\n",
    "    check = mpia.affiliation_verifications(source, verbose=True)\n",
    "    if check is not True:\n",
    "        raise AffiliationError(\"mpia.affiliation_verifications: \" + check)\n",
    "\n",
    "        \n",
    "warnings.simplefilter('always', AffiliationWarning)\n",
    "\n",
    "\n",
    "def get_markdown_qrcode(paper_id: str):\n",
    "    \"\"\" Generate a qrcode to the arxiv page using qrserver.com\n",
    "    \n",
    "    :param paper: Arxiv paper\n",
    "    :returns: markdown text\n",
    "    \"\"\"\n",
    "    url = r\"https://api.qrserver.com/v1/create-qr-code/?size=100x100&data=\"\n",
    "    txt = f\"\"\"<img src={url}\"https://arxiv.org/abs/{paper_id}\">\"\"\"\n",
    "    txt = '<div id=\"qrcode\">' + txt + '</div>'\n",
    "    return txt"
   ]
  },
  {
   "cell_type": "markdown",
   "id": "14bd6310",
   "metadata": {
    "papermill": {
     "duration": 0.002712,
     "end_time": "2024-01-25T04:09:09.477450",
     "exception": false,
     "start_time": "2024-01-25T04:09:09.474738",
     "status": "completed"
    },
    "tags": []
   },
   "source": [
    "## get list of arxiv paper candidates\n",
    "\n",
    "We use the MPIA mitarbeiter list webpage from mpia.de to get author names\n",
    "We then get all new papers from Arxiv and match authors"
   ]
  },
  {
   "cell_type": "code",
   "execution_count": 3,
   "id": "2645e73a",
   "metadata": {
    "execution": {
     "iopub.execute_input": "2024-01-25T04:09:09.483722Z",
     "iopub.status.busy": "2024-01-25T04:09:09.483538Z",
     "iopub.status.idle": "2024-01-25T04:09:28.479022Z",
     "shell.execute_reply": "2024-01-25T04:09:28.478382Z"
    },
    "papermill": {
     "duration": 19.000277,
     "end_time": "2024-01-25T04:09:28.480460",
     "exception": false,
     "start_time": "2024-01-25T04:09:09.480183",
     "status": "completed"
    },
    "tags": []
   },
   "outputs": [
    {
     "name": "stdout",
     "output_type": "stream",
     "text": [
      "L. Kreidberg  ->  L. Kreidberg  |  ['L. Kreidberg']\n",
      "E.-M. Ahrer  ->  E.-M. Ahrer  |  ['E.-M. Ahrer']\n",
      "R. Zhang  ->  R. Zhang  |  ['R. Zhang']\n",
      "X. Zhang  ->  X. Zhang  |  ['X. Zhang']\n",
      "N. Storm  ->  N. Storm  |  ['N. Storm']\n",
      "M. Bergemann  ->  M. Bergemann  |  ['M. Bergemann']\n",
      "R. Hoppe  ->  R. Hoppe  |  ['R. Hoppe']\n",
      "M. Habouzit  ->  M. Habouzit  |  ['M. Habouzit']\n"
     ]
    },
    {
     "name": "stdout",
     "output_type": "stream",
     "text": [
      "Arxiv has 60 new papers today\n",
      "          5 with possible author matches\n"
     ]
    }
   ],
   "source": [
    "# get list from MPIA website\n",
    "# it automatically filters identified non-scientists :func:`mpia.filter_non_scientists`\n",
    "mpia_authors = mpia.get_mpia_mitarbeiter_list()\n",
    "normed_mpia_authors = [k[1] for k in mpia_authors]   # initials + fullname\n",
    "new_papers = get_new_papers()\n",
    "# add manual references\n",
    "add_paper_refs = []\n",
    "new_papers.extend([get_paper_from_identifier(k) for k in add_paper_refs])\n",
    "\n",
    "candidates = []\n",
    "for paperk in new_papers:\n",
    "    # Check author list with their initials\n",
    "    normed_author_list = [mpia.get_initials(k) for k in paperk['authors']]\n",
    "    hl_authors = highlight_authors_in_list(normed_author_list, normed_mpia_authors, verbose=True)\n",
    "    matches = [(hl, orig) for hl, orig in zip(hl_authors, paperk['authors']) if 'mark' in hl]\n",
    "    paperk['authors'] = hl_authors\n",
    "    if matches:\n",
    "        # only select paper if an author matched our list\n",
    "        candidates.append(paperk)\n",
    "print(\"\"\"Arxiv has {0:,d} new papers today\"\"\".format(len(new_papers)))        \n",
    "print(\"\"\"          {0:,d} with possible author matches\"\"\".format(len(candidates)))"
   ]
  },
  {
   "cell_type": "markdown",
   "id": "3543b34a",
   "metadata": {
    "papermill": {
     "duration": 0.00299,
     "end_time": "2024-01-25T04:09:28.486786",
     "exception": false,
     "start_time": "2024-01-25T04:09:28.483796",
     "status": "completed"
    },
    "tags": []
   },
   "source": [
    "# Parse sources and generate relevant outputs\n",
    "\n",
    "From the candidates, we do the following steps:\n",
    "* get their tarball from ArXiv (and extract data)\n",
    "* find the main .tex file: find one with \\documentclass{...} (sometimes it's non trivial)\n",
    "* Check affiliations with :func:`validation`, which uses :func:`mpia.affiliation_verifications`\n",
    "* If passing the affiliations: we parse the .tex source\n",
    "   * inject sub-documents into the main (flatten the main document)\n",
    "   * parse structure, extract information (title, abstract, authors, figures...)\n",
    "   * handles `\\graphicspath` if provided\n",
    "* Generate the .md document."
   ]
  },
  {
   "cell_type": "code",
   "execution_count": 4,
   "id": "9576b79e",
   "metadata": {
    "execution": {
     "iopub.execute_input": "2024-01-25T04:09:28.493971Z",
     "iopub.status.busy": "2024-01-25T04:09:28.493478Z",
     "iopub.status.idle": "2024-01-25T04:10:07.543833Z",
     "shell.execute_reply": "2024-01-25T04:10:07.543045Z"
    },
    "papermill": {
     "duration": 39.056088,
     "end_time": "2024-01-25T04:10:07.545798",
     "exception": false,
     "start_time": "2024-01-25T04:09:28.489710",
     "status": "completed"
    },
    "scrolled": false,
    "tags": []
   },
   "outputs": [
    {
     "data": {
      "application/vnd.jupyter.widget-view+json": {
       "model_id": "ade913e747994e84b2ca195fdbe5bf35",
       "version_major": 2,
       "version_minor": 0
      },
      "text/plain": [
       "  0%|          | 0/5 [00:00<?, ?it/s]"
      ]
     },
     "metadata": {},
     "output_type": "display_data"
    },
    {
     "name": "stdout",
     "output_type": "stream",
     "text": [
      "Retrieving document from  https://arxiv.org/e-print/2401.13027\n"
     ]
    },
    {
     "name": "stdout",
     "output_type": "stream",
     "text": [
      "extracting tarball to tmp_2401.13027..."
     ]
    },
    {
     "name": "stdout",
     "output_type": "stream",
     "text": [
      " done.\n",
      "Retrieving document from  https://arxiv.org/e-print/2401.13167\n"
     ]
    },
    {
     "name": "stderr",
     "output_type": "stream",
     "text": [
      "/opt/hostedtoolcache/Python/3.9.18/x64/lib/python3.9/site-packages/IPython/core/interactiveshell.py:3550: LatexWarning: Multiple tex files.\n",
      "\n",
      "  exec(code_obj, self.user_global_ns, self.user_ns)\n",
      "/opt/hostedtoolcache/Python/3.9.18/x64/lib/python3.9/site-packages/IPython/core/interactiveshell.py:3550: LatexWarning: Found documentclass in tmp_2401.13027/ms_arXiv.tex\n",
      "\n",
      "  exec(code_obj, self.user_global_ns, self.user_ns)\n",
      "/opt/hostedtoolcache/Python/3.9.18/x64/lib/python3.9/site-packages/arxiv_on_deck_2/latex.py:399: LatexWarning: Latex injecting: 'affilations' from 'tmp_2401.13027/affilations.tex'\n",
      "  warnings.warn(LatexWarning(f\"Latex injecting: '{ext}' from '{subsource}'\"))\n",
      "/opt/hostedtoolcache/Python/3.9.18/x64/lib/python3.9/site-packages/arxiv_on_deck_2/latex.py:399: LatexWarning: Latex injecting: 'authors' from 'tmp_2401.13027/authors.tex'\n",
      "  warnings.warn(LatexWarning(f\"Latex injecting: '{ext}' from '{subsource}'\"))\n"
     ]
    },
    {
     "name": "stdout",
     "output_type": "stream",
     "text": [
      "extracting tarball to tmp_2401.13167..."
     ]
    },
    {
     "name": "stdout",
     "output_type": "stream",
     "text": [
      " done.\n",
      "Retrieving document from  https://arxiv.org/e-print/2401.13319\n"
     ]
    },
    {
     "name": "stdout",
     "output_type": "stream",
     "text": [
      "extracting tarball to tmp_2401.13319... done.\n",
      "Retrieving document from  https://arxiv.org/e-print/2401.13450\n"
     ]
    },
    {
     "name": "stdout",
     "output_type": "stream",
     "text": [
      "extracting tarball to tmp_2401.13450... done.\n"
     ]
    },
    {
     "name": "stdout",
     "output_type": "stream",
     "text": [
      "Found 83 bibliographic references in tmp_2401.13450/main.bbl.\n",
      "Retrieving document from  https://arxiv.org/e-print/2401.13515\n"
     ]
    },
    {
     "name": "stdout",
     "output_type": "stream",
     "text": [
      "extracting tarball to tmp_2401.13515..."
     ]
    },
    {
     "name": "stdout",
     "output_type": "stream",
     "text": [
      " done.\n"
     ]
    },
    {
     "name": "stdout",
     "output_type": "stream",
     "text": [
      "M. Habouzit  ->  M. Habouzit  |  ['M. Habouzit']\n"
     ]
    },
    {
     "name": "stderr",
     "output_type": "stream",
     "text": [
      "/opt/hostedtoolcache/Python/3.9.18/x64/lib/python3.9/site-packages/arxiv_on_deck_2/latex.py:120: LatexWarning: attempting recovering figure dkl_dist\n",
      "  warnings.warn(LatexWarning(f'attempting recovering figure {image}'))\n",
      "/opt/hostedtoolcache/Python/3.9.18/x64/lib/python3.9/site-packages/arxiv_on_deck_2/latex.py:125: LatexWarning: Recovered figure dkl_dist as tmp_2401.13515/./dkl_dist.pdf\n",
      "  warnings.warn(LatexWarning(f'Recovered figure {image} as {fname}'))\n",
      "/opt/hostedtoolcache/Python/3.9.18/x64/lib/python3.9/site-packages/arxiv_on_deck_2/latex.py:120: LatexWarning: attempting recovering figure dkl_vs_counts\n",
      "  warnings.warn(LatexWarning(f'attempting recovering figure {image}'))\n",
      "/opt/hostedtoolcache/Python/3.9.18/x64/lib/python3.9/site-packages/arxiv_on_deck_2/latex.py:125: LatexWarning: Recovered figure dkl_vs_counts as tmp_2401.13515/./dkl_vs_counts.pdf\n",
      "  warnings.warn(LatexWarning(f'Recovered figure {image} as {fname}'))\n",
      "/opt/hostedtoolcache/Python/3.9.18/x64/lib/python3.9/site-packages/arxiv_on_deck_2/latex.py:120: LatexWarning: attempting recovering figure dkl_lognh_dists\n",
      "  warnings.warn(LatexWarning(f'attempting recovering figure {image}'))\n",
      "/opt/hostedtoolcache/Python/3.9.18/x64/lib/python3.9/site-packages/arxiv_on_deck_2/latex.py:125: LatexWarning: Recovered figure dkl_lognh_dists as tmp_2401.13515/./dkl_lognh_dists.pdf\n",
      "  warnings.warn(LatexWarning(f'Recovered figure {image} as {fname}'))\n"
     ]
    },
    {
     "name": "stdout",
     "output_type": "stream",
     "text": [
      "Found 189 bibliographic references in tmp_2401.13515/aanda.bbl.\n",
      "syntax error in line 676: '=' expected\n"
     ]
    }
   ],
   "source": [
    "documents = []\n",
    "failed = []\n",
    "for paper in tqdm(candidates):\n",
    "    paper_id = paper['identifier'].lower().replace('arxiv:', '')\n",
    "    \n",
    "    folder = f'tmp_{paper_id}'\n",
    "\n",
    "    try:\n",
    "        if not os.path.isdir(folder):\n",
    "            folder = retrieve_document_source(f\"{paper_id}\", f'tmp_{paper_id}')\n",
    "        \n",
    "        try:\n",
    "            doc = latex.LatexDocument(folder, validation=validation)    \n",
    "        except AffiliationError as affilerror:\n",
    "            msg = f\"ArXiv:{paper_id:s} is not an MPIA paper... \" + str(affilerror)\n",
    "            failed.append((paper, \"affiliation error: \" + str(affilerror) ))\n",
    "            continue\n",
    "        \n",
    "        # Hack because sometimes author parsing does not work well\n",
    "        if (len(doc.authors) != len(paper['authors'])):\n",
    "            doc._authors = paper['authors']\n",
    "        else:\n",
    "            # highlight authors (FIXME: doc.highlight_authors)\n",
    "            # done on arxiv paper already\n",
    "            doc._authors = highlight_authors_in_list(\n",
    "                [mpia.get_initials(k) for k in doc.authors], \n",
    "                normed_mpia_authors, verbose=True)\n",
    "        if (doc.abstract) in (None, ''):\n",
    "            doc._abstract = paper['abstract']\n",
    "            \n",
    "        doc.comment = (get_markdown_badge(paper_id) + \n",
    "                       \"<mark>Appeared on: \" + paper['date'] + \"</mark> - \")\n",
    "        if paper['comments']:\n",
    "            doc.comment += \" _\" + paper['comments'] + \"_\"\n",
    "        \n",
    "        full_md = doc.generate_markdown_text()\n",
    "        \n",
    "        full_md += get_markdown_qrcode(paper_id)\n",
    "        \n",
    "        # replace citations\n",
    "        try:\n",
    "            bibdata = latex_bib.LatexBib.from_doc(doc)\n",
    "            full_md = latex_bib.replace_citations(full_md, bibdata)\n",
    "        except Exception as e:\n",
    "            print(e)\n",
    "        \n",
    "        documents.append((paper_id, full_md))\n",
    "    except Exception as e:\n",
    "        warnings.warn(latex.LatexWarning(f\"{paper_id:s} did not run properly\\n\" +\n",
    "                                         str(e)\n",
    "                                        ))\n",
    "        failed.append((paper, \"latex error \" + str(e)))"
   ]
  },
  {
   "cell_type": "markdown",
   "id": "2505a25c",
   "metadata": {
    "papermill": {
     "duration": 0.003801,
     "end_time": "2024-01-25T04:10:07.553660",
     "exception": false,
     "start_time": "2024-01-25T04:10:07.549859",
     "status": "completed"
    },
    "tags": []
   },
   "source": [
    "### Export the logs\n",
    "\n",
    "Throughout, we also keep track of the logs per paper. see `logs-{today date}.md` "
   ]
  },
  {
   "cell_type": "code",
   "execution_count": 5,
   "id": "d733828a",
   "metadata": {
    "execution": {
     "iopub.execute_input": "2024-01-25T04:10:07.562036Z",
     "iopub.status.busy": "2024-01-25T04:10:07.561809Z",
     "iopub.status.idle": "2024-01-25T04:10:07.577200Z",
     "shell.execute_reply": "2024-01-25T04:10:07.576665Z"
    },
    "papermill": {
     "duration": 0.02123,
     "end_time": "2024-01-25T04:10:07.578521",
     "exception": false,
     "start_time": "2024-01-25T04:10:07.557291",
     "status": "completed"
    },
    "scrolled": false,
    "tags": []
   },
   "outputs": [
    {
     "data": {
      "text/markdown": [
       "## Successful papers"
      ],
      "text/plain": [
       "<IPython.core.display.Markdown object>"
      ]
     },
     "metadata": {},
     "output_type": "display_data"
    },
    {
     "data": {
      "text/markdown": [
       "\n",
       "|||\n",
       "|---:|:---|\n",
       "| [![arXiv](https://img.shields.io/badge/arXiv-arXiv:2401.13450-b31b1b.svg)](https://arxiv.org/abs/arXiv:2401.13450) | **3D NLTE modelling of Y and Eu. Centre-to-limb variation and solar  abundances**  |\n",
       "|| <mark>N. Storm</mark>, et al. -- incl., <mark>M. Bergemann</mark>, <mark>R. Hoppe</mark> |\n",
       "|*Appeared on*| *2024-01-25*|\n",
       "|*Comments*| *8 pages, 4 figures, accepted by A&A*|\n",
       "|**Abstract**| Context. Abundances of s- and r-process elements in Sun-like stars constrain nucleosynthesis in extreme astrophysical events, such as compact binary mergers and explosions of highly magnetised rapidly rotating massive stars. Aims. We measure solar abundances of yttrium (Y) and europium (Eu) using 3D non-local thermal equilibrium (NLTE) models. We use the model to determine the abundance of Y, and also explore the model's ability to reproduce the solar centre-to-limb variation of its lines. In addition, we determine the Eu abundance using solar disc-centre and integrated flux spectra. Methods. We developed an NLTE model of Eu and updated our model of Y with collisional data from detailed quantum-mechanical calculations. We used the IAG spatially resolved high-resolution solar spectra to derive the solar abundances of Y across the solar disc and of Eu for integrated flux and at disc centre using a set of carefully selected lines and a 3D radiation-hydrodynamics model of the solar atmosphere. Results. We find 3D NLTE solar abundances of A(Y)$_{\\textrm{3D NLTE}}$=$2.30 \\pm 0.03_{\\textrm{stat}} \\pm 0.07_{\\textrm{syst}}$ dex based on observations at all angles and A(Eu)$_{\\textrm{3D NLTE}}$=$0.57 \\pm 0.01_{\\textrm{stat}} \\pm 0.06_{\\textrm{syst}}$ dex based on the integrated flux and disc-centre intensity. 3D NLTE modelling offers the most consistent abundances across the solar disc, and resolves the problem of severe systematic bias in Y and Eu abundances inherent to 1D LTE, 1D NLTE, and 3D LTE modelling. |"
      ],
      "text/plain": [
       "[arXiv:2401.13450] 3D NLTE modelling of Y and Eu. Centre-to-limb variation and solar  abundances\n",
       "\t<mark>N. Storm</mark>, et al. -- incl., <mark>M. Bergemann</mark>, <mark>R. Hoppe</mark>"
      ]
     },
     "metadata": {},
     "output_type": "display_data"
    },
    {
     "data": {
      "text/markdown": [
       "\n",
       "|||\n",
       "|---:|:---|\n",
       "| [![arXiv](https://img.shields.io/badge/arXiv-arXiv:2401.13515-b31b1b.svg)](https://arxiv.org/abs/arXiv:2401.13515) | **AGN X-ray luminosity function and absorption function in the Early  Universe ($3\\leq z \\leq 6$)**  |\n",
       "|| E. Pouliasis, et al. -- incl., <mark>M. Habouzit</mark> |\n",
       "|*Appeared on*| *2024-01-25*|\n",
       "|*Comments*| *Accepted for publication in A&A. 25 pages, 15 figures (+4 in Appendix), 2 tables (+1 in Appendix)*|\n",
       "|**Abstract**| The XLF of AGN offers a robust tool to study the evolution and the growth of SMBHs over cosmic time. Owing to the limited area probed by X-ray surveys, optical surveys are routinely used to probe the accretion in the high redshift Universe $z\\geq 3$. However, optical surveys may be incomplete because they are strongly affected by dust redenning. In this work, we derive the XLF and its evolution at high redshifts using a large sample of AGNs selected in different fields with various areas and depths covering a wide range of luminosities. Additionally, we put the tightest yet constraints on the absorption function in this redshift regime. In particular, we use more than 600 soft X-ray selected high-z sources in the Chandra Deep fields, the Chandra COSMOS Legacy survey and the XMM-XXL northern field. We derive the X-ray spectral properties for all sources via spectral fitting, using a consistent technique and model. For modeling the parametric form of the XLF and the absorption function, we use a Bayesian methodology allowing us to correctly propagate the uncertainties for the observed X-ray properties of our sources and also the absorption effects. The evolution of XLF is in agreement with a pure density evolution model similar to what is witnessed at optical wavelengths, although a luminosity dependent density evolution model cannot be securely ruled out. A large fraction ($60\\%)$ of our sources are absorbed by column densities of $\\rm N_H \\geq 10^{23} cm^{-2} $, while $17$\\% of the sources are CTK. Our results favor a scenario where both the ISM of the host and the AGN torus contribute to the obscuration. The derived BHAD is in agreement with the simulations, if one takes into account that the X-ray AGN are hosted by massive galaxies, while it differs from the one derived using JWST data. The latter could be due to the differences in the AGN and host-galaxy properties. |"
      ],
      "text/plain": [
       "[arXiv:2401.13515] AGN X-ray luminosity function and absorption function in the Early  Universe ($3\\leq z \\leq 6$)\n",
       "\tE. Pouliasis, et al. -- incl., <mark>M. Habouzit</mark>"
      ]
     },
     "metadata": {},
     "output_type": "display_data"
    },
    {
     "data": {
      "text/markdown": [
       "## Failed papers"
      ],
      "text/plain": [
       "<IPython.core.display.Markdown object>"
      ]
     },
     "metadata": {},
     "output_type": "display_data"
    },
    {
     "data": {
      "text/markdown": [
       "\n",
       "|||\n",
       "|---:|:---|\n",
       "| [![arXiv](https://img.shields.io/badge/arXiv-arXiv:2401.13027-b31b1b.svg)](https://arxiv.org/abs/arXiv:2401.13027) | **Nightside clouds and disequilibrium chemistry on the hot Jupiter  WASP-43b**  |\n",
       "|| T. J. Bell, et al. -- incl., <mark>L. Kreidberg</mark>, <mark>E.-M. Ahrer</mark> |\n",
       "|*Appeared on*| *2024-01-25*|\n",
       "|*Comments*| *61 pages, 13 figures, 4 tables. This preprint has been submitted to and accepted in principle for publication in Nature Astronomy without significant changes*|\n",
       "|**Abstract**| Hot Jupiters are among the best-studied exoplanets, but it is still poorly understood how their chemical composition and cloud properties vary with longitude. Theoretical models predict that clouds may condense on the nightside and that molecular abundances can be driven out of equilibrium by zonal winds. Here we report a phase-resolved emission spectrum of the hot Jupiter WASP-43b measured from 5-12 $\\mu$m with JWST's Mid-Infrared Instrument (MIRI). The spectra reveal a large day-night temperature contrast (with average brightness temperatures of 1524$\\pm$35 and 863$\\pm$23 Kelvin, respectively) and evidence for water absorption at all orbital phases. Comparisons with three-dimensional atmospheric models show that both the phase curve shape and emission spectra strongly suggest the presence of nightside clouds which become optically thick to thermal emission at pressures greater than ~100 mbar. The dayside is consistent with a cloudless atmosphere above the mid-infrared photosphere. Contrary to expectations from equilibrium chemistry but consistent with disequilibrium kinetics models, methane is not detected on the nightside (2$\\sigma$ upper limit of 1-6 parts per million, depending on model assumptions). |\n",
       "|<p style=\"color:green\"> **ERROR** </p>| <p style=\"color:green\">affiliation error: mpia.affiliation_verifications: '69117' keyword not found.</p> |"
      ],
      "text/plain": [
       "<IPython.core.display.Markdown object>"
      ]
     },
     "metadata": {},
     "output_type": "display_data"
    },
    {
     "data": {
      "text/markdown": [
       "\n",
       "|||\n",
       "|---:|:---|\n",
       "| [![arXiv](https://img.shields.io/badge/arXiv-arXiv:2401.13167-b31b1b.svg)](https://arxiv.org/abs/arXiv:2401.13167) | **A star-based method for precise flux calibration of the Chinese Space  Station Telescope (CSST) slitless spectroscopic survey**  |\n",
       "|| L. Yang, et al. -- incl., <mark>R. Zhang</mark> |\n",
       "|*Appeared on*| *2024-01-25*|\n",
       "|*Comments*| *20 pages, 15 figures, accepted by ApJS*|\n",
       "|**Abstract**| The upcoming Chinese Space Station Telescope (CSST) slitless spectroscopic survey poses a challenge of flux calibration, which requires a large number of flux-standard stars. In this work, we design an uncertainty-aware residual attention network, the UaRA-net, to derive the CSST SEDs with a resolution of R = 200 over the wavelength range of 2500-10000 \\AA using LAMOST normalized spectra with a resolution of R = 2000 over the wavelength range of 4000-7000 \\AA. With the special structure and training strategy, the proposed model can not only provide accurate predictions of SEDs but also their corresponding errors. The precision of the predicted SEDs depends on effective temperature (Teff), wavelength, and the LAMOST spectral signal-to-noise ratios (SNRs), particularly in the GU band. For stars with Teff = 6000 K, the typical SED precisions in the GU band are 4.2%, 2.1%, and 1.5% at SNR values of 20, 40, and 80, respectively. As Teff increases to 8000 K, the precision increases to 1.2%, 0.6%, and 0.5%, respectively. The precision is higher at redder wavelengths. In the GI band, the typical SED precisions for stars with Teff = 6000 K increase to 0.3%, 0.1%, and 0.1% at SNR values of 20, 40, and 80, respectively. We further verify our model using the empirical spectra of the MILES and find good performance. The proposed method will open up new possibilities for optimal utilization of slitless spectra of the CSST and other surveys. |\n",
       "|<p style=\"color:green\"> **ERROR** </p>| <p style=\"color:green\">affiliation error: mpia.affiliation_verifications: 'Heidelberg' keyword not found.</p> |"
      ],
      "text/plain": [
       "<IPython.core.display.Markdown object>"
      ]
     },
     "metadata": {},
     "output_type": "display_data"
    },
    {
     "data": {
      "text/markdown": [
       "\n",
       "|||\n",
       "|---:|:---|\n",
       "| [![arXiv](https://img.shields.io/badge/arXiv-arXiv:2401.13319-b31b1b.svg)](https://arxiv.org/abs/arXiv:2401.13319) | **Two high-amplitude $δ$ Scuti-$γ$ Doradus hybrids constrained  by the radial fundamental p and equally spaced g modes**  |\n",
       "|| X. Chen, <mark>X. Zhang</mark>, Y. Li, J. Su |\n",
       "|*Appeared on*| *2024-01-25*|\n",
       "|*Comments*| *16 pages, 6 figures, 5 tables, accepted for publication in The Astrophysical Journal*|\n",
       "|**Abstract**| Based on 2-minute cadence TESS data, we investigate pulsations of TIC 65138566 and TIC 139729335 and discover them to be two new HADS stars with equally spaced g modes. We recognize the radial fundamental mode $f_1$ = 18.3334 c/d and the first overtone $f_3$ = 23.6429 c/d for TIC 65138566, and identify the highest peak $f_1$ = 19.0955 c/d as the radial fundamental mode for TIC 139729335. For g modes, both stars display a regular period spacing of 2413 s. Through detailed seismological analysis, we deduce that these period spacing patterns correspond to modes with $\\ell$ = 1. Moreover, our analysis reveals that with the increase in masses and metallicities, the star should display a higher degree of evolution to match a specific period spacing $\\Pi_0$. Conversely, the star should have a lower extent of evolution to match the radial fundamental mode. These two contradictory behaviors allow us to precisely obtain stellar physical parameters. TIC 65138566 and TIC 139729335 are determined to be two main sequence stars that have almost the same range of masses and metallicities, with $M$ = 1.36 $\\pm$ 0.06 $M_{\\odot}$ and $Z$ = 0.005 $\\pm$ 0.002. The hydrogen abundance in the core of TIC 65138566 is estimated to be about 0.28, while TIC 139729335 has a slightly higher value of around 0.31. Finally, we suggest that the HADS $\\delta$ Scuti-$\\gamma$ Doradus star TIC 308396022 is a main sequence star with $M$ = 1.54 $\\pm$ 0.08 $M_{\\odot}$, $Z$ = 0.007 $\\pm$ 0.001, and $X_{\\rm c}$ = 0.18 $\\pm$ 0.02. |\n",
       "|<p style=\"color:green\"> **ERROR** </p>| <p style=\"color:green\">affiliation error: mpia.affiliation_verifications: 'Heidelberg' keyword not found.</p> |"
      ],
      "text/plain": [
       "<IPython.core.display.Markdown object>"
      ]
     },
     "metadata": {},
     "output_type": "display_data"
    }
   ],
   "source": [
    "import datetime\n",
    "today = str(datetime.date.today())\n",
    "logfile = f\"_build/html/logs/log-{today}.md\"\n",
    "\n",
    "\n",
    "with open(logfile, 'w') as logs:\n",
    "    # Success\n",
    "    logs.write(f'# Arxiv on Deck 2: Logs - {today}\\n\\n')\n",
    "    logs.write(\"\"\"* Arxiv had {0:,d} new papers\\n\"\"\".format(len(new_papers)))\n",
    "    logs.write(\"\"\"    * {0:,d} with possible author matches\\n\\n\"\"\".format(len(candidates)))\n",
    "    logs.write(\"## Sucessful papers\\n\\n\")\n",
    "    display(Markdown(\"## Successful papers\"))\n",
    "    success = [k[0] for k in documents]\n",
    "    for candid in candidates:\n",
    "        if candid['identifier'].split(':')[-1] in success:\n",
    "            display(candid)\n",
    "            logs.write(candid.generate_markdown_text() + '\\n\\n')\n",
    "\n",
    "    ## failed\n",
    "    logs.write(\"## Failed papers\\n\\n\")\n",
    "    display(Markdown(\"## Failed papers\"))\n",
    "    failed = sorted(failed, key=lambda x: x[1])\n",
    "    current_reason = \"\"\n",
    "    for paper, reason in failed:\n",
    "        if 'affiliation' in reason:\n",
    "            color = 'green'\n",
    "        else:\n",
    "            color = 'red'\n",
    "        data = Markdown(\n",
    "                paper.generate_markdown_text() + \n",
    "                f'\\n|<p style=\"color:{color:s}\"> **ERROR** </p>| <p style=\"color:{color:s}\">{reason:s}</p> |'\n",
    "               )\n",
    "        if reason != current_reason:\n",
    "            logs.write(f'### {reason:s} \\n\\n')\n",
    "            current_reason = reason\n",
    "        logs.write(data.data + '\\n\\n')\n",
    "        \n",
    "        # only display here the important errors (all in logs)\n",
    "        # if color in ('red',):\n",
    "        display(data)"
   ]
  },
  {
   "cell_type": "markdown",
   "id": "472d20ee",
   "metadata": {
    "papermill": {
     "duration": 0.004302,
     "end_time": "2024-01-25T04:10:07.587299",
     "exception": false,
     "start_time": "2024-01-25T04:10:07.582997",
     "status": "completed"
    },
    "tags": []
   },
   "source": [
    "## Export documents\n",
    "\n",
    "We now write the .md files and export relevant images"
   ]
  },
  {
   "cell_type": "code",
   "execution_count": 6,
   "id": "d426aed9",
   "metadata": {
    "execution": {
     "iopub.execute_input": "2024-01-25T04:10:07.597256Z",
     "iopub.status.busy": "2024-01-25T04:10:07.596836Z",
     "iopub.status.idle": "2024-01-25T04:10:07.603290Z",
     "shell.execute_reply": "2024-01-25T04:10:07.602747Z"
    },
    "papermill": {
     "duration": 0.01289,
     "end_time": "2024-01-25T04:10:07.604555",
     "exception": false,
     "start_time": "2024-01-25T04:10:07.591665",
     "status": "completed"
    },
    "tags": []
   },
   "outputs": [],
   "source": [
    "def export_markdown_summary(md: str, md_fname:str, directory: str):\n",
    "    \"\"\"Export MD document and associated relevant images\"\"\"\n",
    "    import os\n",
    "    import shutil\n",
    "    import re\n",
    "\n",
    "    if (os.path.exists(directory) and not os.path.isdir(directory)):\n",
    "        raise RuntimeError(f\"a non-directory file exists with name {directory:s}\")\n",
    "\n",
    "    if (not os.path.exists(directory)):\n",
    "        print(f\"creating directory {directory:s}\")\n",
    "        os.mkdir(directory)\n",
    "\n",
    "    fig_fnames = (re.compile(r'\\[Fig.*\\]\\((.*)\\)').findall(md) + \n",
    "                  re.compile(r'\\<img src=\"([^>\\s]*)\"[^>]*/>').findall(md))\n",
    "    for fname in fig_fnames:\n",
    "        if 'http' in fname:\n",
    "            # No need to copy online figures\n",
    "            continue\n",
    "        destdir = os.path.join(directory, os.path.dirname(fname))\n",
    "        destfname = os.path.join(destdir, os.path.basename(fname))\n",
    "        try:\n",
    "            os.makedirs(destdir)\n",
    "        except FileExistsError:\n",
    "            pass\n",
    "        shutil.copy(fname, destfname)\n",
    "    with open(os.path.join(directory, md_fname), 'w') as fout:\n",
    "        fout.write(md)\n",
    "    print(\"exported in \", os.path.join(directory, md_fname))\n",
    "    [print(\"    + \" + os.path.join(directory,fk)) for fk in fig_fnames]"
   ]
  },
  {
   "cell_type": "code",
   "execution_count": 7,
   "id": "014d04a4",
   "metadata": {
    "execution": {
     "iopub.execute_input": "2024-01-25T04:10:07.614192Z",
     "iopub.status.busy": "2024-01-25T04:10:07.613996Z",
     "iopub.status.idle": "2024-01-25T04:10:07.621630Z",
     "shell.execute_reply": "2024-01-25T04:10:07.621087Z"
    },
    "papermill": {
     "duration": 0.013897,
     "end_time": "2024-01-25T04:10:07.622891",
     "exception": false,
     "start_time": "2024-01-25T04:10:07.608994",
     "status": "completed"
    },
    "tags": []
   },
   "outputs": [
    {
     "name": "stdout",
     "output_type": "stream",
     "text": [
      "exported in  _build/html/2401.13450.md\n",
      "    + _build/html/tmp_2401.13450/./figures/plot_example_yttrium_lines_diff_mu_0_v2_arx.png\n",
      "    + _build/html/tmp_2401.13450/./figures/plot_example_yttrium_lines_diff_mu_12_v2_arx.png\n",
      "    + _build/html/tmp_2401.13450/./figures/y_abund_10_comb.png\n",
      "exported in  _build/html/2401.13515.md\n",
      "    + _build/html/tmp_2401.13515/./plot_xlf_all_z_ldde_pde2ssss2024.png\n",
      "    + _build/html/tmp_2401.13515/./plot_bhadxVOL_SEP2023sB82024.png\n",
      "    + _build/html/tmp_2401.13515/./FIG1_plot_area_curves.png\n"
     ]
    }
   ],
   "source": [
    "for paper_id, md in documents:\n",
    "    export_markdown_summary(md, f\"{paper_id:s}.md\", '_build/html/')"
   ]
  },
  {
   "cell_type": "markdown",
   "id": "f087a0a7",
   "metadata": {
    "papermill": {
     "duration": 0.00444,
     "end_time": "2024-01-25T04:10:07.631928",
     "exception": false,
     "start_time": "2024-01-25T04:10:07.627488",
     "status": "completed"
    },
    "tags": []
   },
   "source": [
    "## Display the papers\n",
    "\n",
    "Not necessary but allows for a quick check."
   ]
  },
  {
   "cell_type": "code",
   "execution_count": 8,
   "id": "fd25f625",
   "metadata": {
    "execution": {
     "iopub.execute_input": "2024-01-25T04:10:07.641914Z",
     "iopub.status.busy": "2024-01-25T04:10:07.641509Z",
     "iopub.status.idle": "2024-01-25T04:10:07.647184Z",
     "shell.execute_reply": "2024-01-25T04:10:07.646668Z"
    },
    "papermill": {
     "duration": 0.012099,
     "end_time": "2024-01-25T04:10:07.648484",
     "exception": false,
     "start_time": "2024-01-25T04:10:07.636385",
     "status": "completed"
    },
    "scrolled": false,
    "tags": []
   },
   "outputs": [
    {
     "data": {
      "text/markdown": [
       "<div class=\"macros\" style=\"visibility:hidden;\">\n",
       "$\\newcommand{\\ensuremath}{}$\n",
       "$\\newcommand{\\xspace}{}$\n",
       "$\\newcommand{\\object}[1]{\\texttt{#1}}$\n",
       "$\\newcommand{\\farcs}{{.}''}$\n",
       "$\\newcommand{\\farcm}{{.}'}$\n",
       "$\\newcommand{\\arcsec}{''}$\n",
       "$\\newcommand{\\arcmin}{'}$\n",
       "$\\newcommand{\\ion}[2]{#1#2}$\n",
       "$\\newcommand{\\textsc}[1]{\\textrm{#1}}$\n",
       "$\\newcommand{\\hl}[1]{\\textrm{#1}}$\n",
       "$\\newcommand{\\footnote}[1]{}$\n",
       "$\\newcommand{\\teff}{T_{\\rm eff}}$\n",
       "$\\newcommand{\\logg}{\\log g}$\n",
       "$\\newcommand{\\vmic}{\\xi_{\\rm t}}$\n",
       "$\\newcommand{\\Vmic}{\\xi_{\\rm t}}$\n",
       "$\\newcommand{\\vmac}{V_{\\rm mac}}$\n",
       "$\\newcommand{\\EW}{W_{\\lambda}}$\n",
       "$\\newcommand{\\mA}{{\\rm mÅ}}$\n",
       "$\\newcommand{\\Elow}{E_{\\rm low}}$\n",
       "$\\newcommand{\\Eup}{E_{\\rm up}}$\n",
       "$\\newcommand{\\SH}{S\\!_{\\rm H}}$\n",
       "$\\newcommand{\\Eu}[5]{\\mbox{#1 ^#2{\\rm #3}^{{\\rm #4}}_{\\rm #5}}}$\n",
       "$\\newcommand{\\Y}[5]{\\mbox{#1 ^#2{\\rm #3}^{{\\rm #4}}_{\\rm #5}}}$\n",
       "$\\newcommand{\\footnoterule}$\n",
       "$\\newcommand{\\footnoterule}$\n",
       "$\\newcommand{\\footnoterule}$</div>\n",
       "\n",
       "\n",
       "\n",
       "<div id=\"title\">\n",
       "\n",
       "# 3D NLTE modelling of Y and Eu\n",
       "\n",
       "</div>\n",
       "<div id=\"comments\">\n",
       "\n",
       "[![arXiv](https://img.shields.io/badge/arXiv-2401.13450-b31b1b.svg)](https://arxiv.org/abs/2401.13450)<mark>Appeared on: 2024-01-25</mark> -  _8 pages, 4 figures, accepted by A&A_\n",
       "\n",
       "</div>\n",
       "<div id=\"authors\">\n",
       "\n",
       "<mark>N. Storm</mark>, et al. -- incl., <mark>M. Bergemann</mark>, <mark>R. Hoppe</mark>\n",
       "\n",
       "</div>\n",
       "<div id=\"abstract\">\n",
       "\n",
       "**Abstract:** Abundances of s- and r-process elements in Sun-like stars constrain nucleosynthesis in extreme astrophysical events, such as compact binary mergers and explosions of highly magnetised rapidly rotating massive stars. We measure solar abundances of yttrium (Y) and europium (Eu) using 3D non-local thermal equilibrium (NLTE) models. We use the model to determine the abundance of Y, and also explore the model's ability to reproduce the solar centre-to-limb variation of its lines. In addition, we determine the Eu abundance using solar disc-centre and integrated flux spectra. We developed an NLTE model of Eu and updated our model of Y with collisional data from detailed quantum-mechanical calculations. We used the IAG spatially resolved  high-resolutionsolar spectra to derive the solar abundances of Y across the solar disc and of Eu for integrated flux and at disc ${centre}$ using a set of carefully selected lines and a 3D radiation-hydrodynamics model of the solar atmosphere. We find 3D NLTE solar abundances of ${A(Y)$_{\\textrm{3D NLTE}} $ = $2.30 \\pm 0.03_{\\textrm{stat}} \\pm 0.07_{\\textrm{syst}}$}$ dex based on observations at all angles and ${A(Eu) = $0.57 \\pm 0.01_{\\textrm{stat}} \\pm 0.06_{\\textrm{syst}}$}$ dex based on the integrated flux and disc-centre intensity. ${3D}$ NLTE modelling offers the most consistent abundances across the solar disc, and resolves the problem of severe systematic bias in Y and Eu abundances inherent to 1D LTE, 1D NLTE, and 3D LTE modelling.\n",
       "\n",
       "</div>\n",
       "\n",
       "<div id=\"div_fig1\">\n",
       "\n",
       "<img src=\"tmp_2401.13450/./figures/plot_example_yttrium_lines_diff_mu_0_v2_arx.png\" alt=\"Fig1\" width=\"100%\"/>\n",
       "\n",
       "**Figure 1. -** {Comparison of the observed Y II line profiles from the solar disc-centre ($\\mu = 1.00$) intensity atlas (black) with the 3D NLTE (blue) and 1D LTE (red) model profiles with the instrumental broadening and a constant microturbulence of $\\vmic = 1$ km/s for 1D models. A(Y) = 2.3 dex is used for all models for clear comparison.} (*fig:y_lines_examples_1.0*)\n",
       "\n",
       "</div>\n",
       "<div id=\"div_fig2\">\n",
       "\n",
       "<img src=\"tmp_2401.13450/./figures/plot_example_yttrium_lines_diff_mu_12_v2_arx.png\" alt=\"Fig2\" width=\"100%\"/>\n",
       "\n",
       "**Figure 2. -** Same as Fig. \\ref{fig:y_lines_examples_1.0} but for the limb, $\\mu = 0.20$. (*fig:y_lines_examples_0.2*)\n",
       "\n",
       "</div>\n",
       "<div id=\"div_fig3\">\n",
       "\n",
       "<img src=\"tmp_2401.13450/./figures/y_abund_10_comb.png\" alt=\"Fig3\" width=\"100%\"/>\n",
       "\n",
       "**Figure 3. -** {Abundances of Y determined from the IAG high-resolution solar observations taken at different viewing angles ($\\mu$) using 1D LTE, 1D NLTE, 3D LTE, and 3D NLTE models. The results obtained using 1D LTE and 1D NLTE line formation models are shown in the left panel (a). The results obtained using 3D LTE and 3D NLTE models are shown in the right panel (b). The average solar A(Y) value and its standard deviation are provided in the figure inset for each model. See the main text for further details.} (*fig:y_fit_4883*)\n",
       "\n",
       "</div><div id=\"qrcode\"><img src=https://api.qrserver.com/v1/create-qr-code/?size=100x100&data=\"https://arxiv.org/abs/2401.13450\"></div>"
      ],
      "text/plain": [
       "<IPython.core.display.Markdown object>"
      ]
     },
     "metadata": {},
     "output_type": "display_data"
    },
    {
     "data": {
      "text/markdown": [
       "<div class=\"macros\" style=\"visibility:hidden;\">\n",
       "$\\newcommand{\\ensuremath}{}$\n",
       "$\\newcommand{\\xspace}{}$\n",
       "$\\newcommand{\\object}[1]{\\texttt{#1}}$\n",
       "$\\newcommand{\\farcs}{{.}''}$\n",
       "$\\newcommand{\\farcm}{{.}'}$\n",
       "$\\newcommand{\\arcsec}{''}$\n",
       "$\\newcommand{\\arcmin}{'}$\n",
       "$\\newcommand{\\ion}[2]{#1#2}$\n",
       "$\\newcommand{\\textsc}[1]{\\textrm{#1}}$\n",
       "$\\newcommand{\\hl}[1]{\\textrm{#1}}$\n",
       "$\\newcommand{\\footnote}[1]{}$\n",
       "$\\newcommand{\\XMM}{\\textit{XMM-Newton}}$\n",
       "$\\newcommand{\\Chandra}{\\textit{Chandra}}$\n",
       "$\\newcommand{\\La}{\\mathcal{L}}$\n",
       "$\\newcommand{\\LX}{L_\\mathrm{X}}$\n",
       "$\\newcommand{\\mnh}{N_\\mathrm{H}}$\n",
       "$\\newcommand{\\nh}{N_\\mathrm{H}}$\n",
       "$\\newcommand{\\dlog}{\\mathrm{dlog}}$\n",
       "$\\newcommand{\\pden}{{p_\\mathrm{den}}}$\n",
       "$\\newcommand{\\fabs}{f_\\mathrm{abs}}$\n",
       "$\\newcommand{\\fctk}{f_{\\mathrm{CTK},r}}$\n",
       "$\\newcommand{\\Lbol}{L_\\mathrm{bol}}$</div>\n",
       "\n",
       "\n",
       "\n",
       "<div id=\"title\">\n",
       "\n",
       "# AGN X-ray luminosity function and absorption function in the Early Universe ($3\\leq z \\leq 6$)\n",
       "\n",
       "</div>\n",
       "<div id=\"comments\">\n",
       "\n",
       "[![arXiv](https://img.shields.io/badge/arXiv-2401.13515-b31b1b.svg)](https://arxiv.org/abs/2401.13515)<mark>Appeared on: 2024-01-25</mark> -  _Accepted for publication in A&A. 25 pages, 15 figures (+4 in Appendix), 2 tables (+1 in Appendix)_\n",
       "\n",
       "</div>\n",
       "<div id=\"authors\">\n",
       "\n",
       "E. Pouliasis, et al. -- incl., <mark>M. Habouzit</mark>\n",
       "\n",
       "</div>\n",
       "<div id=\"abstract\">\n",
       "\n",
       "**Abstract:** The X-ray luminosity function (XLF) of active galactic nuclei (AGN) offers a robust tool to study the evolution and the growth of the super-massive black-hole population over cosmic time. Owing to the limited area probed by X-ray surveys, optical surveys are routinely used to probe the accretion in the high redshift Universe $z\\geq 3$ . However, optical surveys may be incomplete because they are strongly affected by dust redenning.   In this work, we derive the XLF and its evolution at high redshifts ( $z\\geq 3$ ) using a large sample of AGNs selected in different fields with various areas and depths covering a wide range of luminosities. Additionally, we put the tightest yet constraints on the absorption function in this redshift regime.   In particular, we use more than 600 soft X-ray selected ( $0.5-2$ keV) high-z sources in the Chandra Deep fields, the Chandra COSMOS Legacy survey and the XMM-XXL northern field. We derive the X-ray spectral properties for all sources via spectral fitting, using a consistent technique and model. For modeling the parametric form of the XLF and the absorption function, we use a Bayesian methodology allowing us to correctly propagate the uncertainties for the observed X-ray properties of our sources and also the absorption effects.   The evolution of XLF is in agreement with a pure density evolution model similar to what is witnessed at optical wavelengths, although a luminosity dependent density evolution model cannot be securely ruled out. A large fraction ( $\\sim 60 \\%)$ of our sources are absorbed by column densities of $\\rm N_H \\geq 10^{23} cm^{-2} $ , while $\\sim 17$ \\% of the sources are Compton-thick. Our results favor a scenario where both the interstellar medium of the host and the AGN torus contribute to the obscuration. The derived black hole accretion rate density is roughly in agreement with the large-scale cosmological hydro-dynamical simulations, if one takes into account the results that the X-ray AGN are hosted by massive galaxies, while it differs from the one derived using JWST data. The latter could be due to the differences in the AGN and host-galaxy properties.\n",
       "\n",
       "</div>\n",
       "\n",
       "<div id=\"div_fig1\">\n",
       "\n",
       "<img src=\"tmp_2401.13515/./plot_xlf_all_z_ldde_pde2ssss2024.png\" alt=\"Fig14\" width=\"100%\"/>\n",
       "\n",
       "**Figure 14. -** The best-fitting PDE model in several redshift bins computed by integrating the XLF over redshift and column density. The purple shaded regions represent the 68\\% and 95\\% confidence intervals of the model, while the purple data points indicate the binned luminosity function. We compare our results with the parametric forms of the XLF derived by previous X-ray studies \\citep{Ueda2014,Vito2014,Georgakakis2015,Peca2023} in the column density interval of $\\log N_{\\rm H} = 20-24$(upper panels). Furthermore, we present our XLF integrating over $\\log N_{\\rm H} = 20-26$(lower panels) to the results of \\citep{Buchner2015,Vito2018,Wolf2021,BarlowHall2023}. The XLF of \\citet{Buchner2015} in the first two panels are derived in the redshift range $3.2 \\leq z \\leq 4.0$ and $4.0 \\leq z \\leq 7.0$, respectively. Our PDE model at the last panel is extrapolated at z=6.05. The brown dashed-dotted lines show the predicted XLF derived by \\citet{Ananna2019}. (*xlf_full*)\n",
       "\n",
       "</div>\n",
       "<div id=\"div_fig2\">\n",
       "\n",
       "<img src=\"tmp_2401.13515/./plot_bhadxVOL_SEP2023sB82024.png\" alt=\"Fig17\" width=\"100%\"/>\n",
       "\n",
       "**Figure 17. -** Redshift evolution of the black hole accretion rate density. The shaded regions represent the 68\\% and 99\\% confidence intervals of the BHAD using the best-fitting PDE model. From left to right, we compare our results with previous X-ray studies \\citep{Georgakakis2015,Ueda2014,Vito2018,Wolf2021,Peca2023}, with simulations \\citep{Volonteri2016,Ni2022,Sijacki2015} and with the star-formation rate density scaled down by a factor of 3000 \\citep{Madau2014, Harikane2022}. The black regions in the first two panels indicate the 99\\% confidence interval of the BHAD adopting the bolometric correction by \\citet{Lusso2012} so we can compare directly to the results of \\citet{Vito2018}. The black points in the middle panel correspond to the _JWST_ results by \\citet{Yang2023}. The brown dashed-dotted line shows the predicted XLF derived by \\citet{Ananna2019}. (*bhad*)\n",
       "\n",
       "</div>\n",
       "<div id=\"div_fig3\">\n",
       "\n",
       "<img src=\"tmp_2401.13515/./FIG1_plot_area_curves.png\" alt=\"Fig1\" width=\"100%\"/>\n",
       "\n",
       "**Figure 1. -** X-ray sensitivity curves presented individually for the CDF-S/N, CCLS and XMM-XXL-N fields. The total area curve is shown with the orange solid line. (*area_curves*)\n",
       "\n",
       "</div><div id=\"qrcode\"><img src=https://api.qrserver.com/v1/create-qr-code/?size=100x100&data=\"https://arxiv.org/abs/2401.13515\"></div>"
      ],
      "text/plain": [
       "<IPython.core.display.Markdown object>"
      ]
     },
     "metadata": {},
     "output_type": "display_data"
    }
   ],
   "source": [
    "[display(Markdown(k[1])) for k in documents];"
   ]
  },
  {
   "cell_type": "markdown",
   "id": "873873a4",
   "metadata": {
    "papermill": {
     "duration": 0.004877,
     "end_time": "2024-01-25T04:10:07.658405",
     "exception": false,
     "start_time": "2024-01-25T04:10:07.653528",
     "status": "completed"
    },
    "tags": []
   },
   "source": [
    "# Create HTML index"
   ]
  },
  {
   "cell_type": "code",
   "execution_count": 9,
   "id": "cf665672",
   "metadata": {
    "execution": {
     "iopub.execute_input": "2024-01-25T04:10:07.669264Z",
     "iopub.status.busy": "2024-01-25T04:10:07.668782Z",
     "iopub.status.idle": "2024-01-25T04:10:07.677775Z",
     "shell.execute_reply": "2024-01-25T04:10:07.677238Z"
    },
    "papermill": {
     "duration": 0.015749,
     "end_time": "2024-01-25T04:10:07.679015",
     "exception": false,
     "start_time": "2024-01-25T04:10:07.663266",
     "status": "completed"
    },
    "tags": []
   },
   "outputs": [
    {
     "name": "stdout",
     "output_type": "stream",
     "text": [
      "361  publications files modified in the last 7 days.\n"
     ]
    }
   ],
   "source": [
    "from datetime import datetime, timedelta, timezone\n",
    "from glob import glob\n",
    "import os\n",
    "\n",
    "files = glob('_build/html/*.md')\n",
    "days = 7\n",
    "now = datetime.today()\n",
    "res = []\n",
    "for fk in files:\n",
    "    stat_result = os.stat(fk).st_ctime\n",
    "    modified = datetime.fromtimestamp(stat_result, tz=timezone.utc).replace(tzinfo=None)\n",
    "    delta = now.today() - modified\n",
    "    if delta <= timedelta(days=days):\n",
    "        res.append((delta.seconds, fk))\n",
    "res = [k[1] for k in reversed(sorted(res, key=lambda x:x[1]))]\n",
    "npub = len(res)\n",
    "print(len(res), f\" publications files modified in the last {days:d} days.\")\n",
    "# [ print('\\t', k) for k in res ];"
   ]
  },
  {
   "cell_type": "code",
   "execution_count": 10,
   "id": "015de740",
   "metadata": {
    "execution": {
     "iopub.execute_input": "2024-01-25T04:10:07.690210Z",
     "iopub.status.busy": "2024-01-25T04:10:07.689869Z",
     "iopub.status.idle": "2024-01-25T04:10:07.710419Z",
     "shell.execute_reply": "2024-01-25T04:10:07.709814Z"
    },
    "papermill": {
     "duration": 0.027548,
     "end_time": "2024-01-25T04:10:07.711724",
     "exception": false,
     "start_time": "2024-01-25T04:10:07.684176",
     "status": "completed"
    },
    "tags": []
   },
   "outputs": [
    {
     "name": "stdout",
     "output_type": "stream",
     "text": [
      "7  publications in the last 7 days.\n"
     ]
    }
   ],
   "source": [
    "import datetime\n",
    "from glob import glob\n",
    "\n",
    "def get_last_n_days(lst, days=1):\n",
    "    \"\"\" Get the documents from the last n days \"\"\"\n",
    "    sorted_lst = sorted(lst, key=lambda x: x[1], reverse=True)\n",
    "    for fname, date in sorted_lst:\n",
    "        if date >= str(datetime.date.today() - datetime.timedelta(days=days)):\n",
    "            yield fname\n",
    "\n",
    "def extract_appearance_dates(lst_file):\n",
    "    dates = []\n",
    "\n",
    "    def get_date(line):\n",
    "        return line\\\n",
    "            .split('Appeared on:')[-1]\\\n",
    "            .split('</mark>')[0].strip()\n",
    "\n",
    "    for fname in lst:\n",
    "        with open(fname, 'r') as f:\n",
    "            found_date = False\n",
    "            for line in f:\n",
    "                if not found_date:\n",
    "                    if \"Appeared on\" in line:\n",
    "                        found_date = True\n",
    "                        dates.append((fname, get_date(line)))\n",
    "                else:\n",
    "                    break\n",
    "    return dates\n",
    "\n",
    "from glob import glob\n",
    "lst = glob('_build/html/*md')\n",
    "days = 7\n",
    "dates = extract_appearance_dates(lst)\n",
    "res = list(get_last_n_days(dates, days))\n",
    "npub = len(res)\n",
    "print(len(res), f\" publications in the last {days:d} days.\")"
   ]
  },
  {
   "cell_type": "code",
   "execution_count": 11,
   "id": "52ca0208",
   "metadata": {
    "execution": {
     "iopub.execute_input": "2024-01-25T04:10:07.722798Z",
     "iopub.status.busy": "2024-01-25T04:10:07.722421Z",
     "iopub.status.idle": "2024-01-25T04:10:07.727177Z",
     "shell.execute_reply": "2024-01-25T04:10:07.726619Z"
    },
    "papermill": {
     "duration": 0.011742,
     "end_time": "2024-01-25T04:10:07.728544",
     "exception": false,
     "start_time": "2024-01-25T04:10:07.716802",
     "status": "completed"
    },
    "scrolled": false,
    "tags": []
   },
   "outputs": [],
   "source": [
    "def create_carousel(npub=4):\n",
    "    \"\"\" Generate the HTML code for a carousel with `npub` slides \"\"\"\n",
    "    carousel = [\"\"\"  <div class=\"carousel\" \"\"\",\n",
    "                \"\"\"       data-flickity='{ \"autoPlay\": 10000, \"adaptiveHeight\": true, \"resize\": true, \"wrapAround\": true, \"pauseAutoPlayOnHover\": true, \"groupCells\": 1 }' id=\"asyncTypeset\">\"\"\"\n",
    "                ]\n",
    "    \n",
    "    item_str = \"\"\"    <div class=\"carousel-cell\"> <div id=\"slide{k}\" class=\"md_view\">Content {k}</div> </div>\"\"\"\n",
    "    for k in range(1, npub + 1):\n",
    "        carousel.append(item_str.format(k=k))\n",
    "    carousel.append(\"  </div>\")\n",
    "    return '\\n'.join(carousel)\n",
    "\n",
    "def create_grid(npub=4):\n",
    "    \"\"\" Generate the HTML code for a flat grid with `npub` slides \"\"\"\n",
    "    grid = [\"\"\"  <div class=\"grid\"> \"\"\",\n",
    "                ]\n",
    "    \n",
    "    item_str = \"\"\"    <div class=\"grid-item\"> <div id=\"slide{k}\" class=\"md_view\">Content {k}</div> </div>\"\"\"\n",
    "    for k in range(1, npub + 1):\n",
    "        grid.append(item_str.format(k=k))\n",
    "    grid.append(\"  </div>\")\n",
    "    return '\\n'.join(grid)"
   ]
  },
  {
   "cell_type": "code",
   "execution_count": 12,
   "id": "a6eac5b6",
   "metadata": {
    "execution": {
     "iopub.execute_input": "2024-01-25T04:10:07.739920Z",
     "iopub.status.busy": "2024-01-25T04:10:07.739334Z",
     "iopub.status.idle": "2024-01-25T04:10:07.744692Z",
     "shell.execute_reply": "2024-01-25T04:10:07.744138Z"
    },
    "papermill": {
     "duration": 0.012332,
     "end_time": "2024-01-25T04:10:07.745985",
     "exception": false,
     "start_time": "2024-01-25T04:10:07.733653",
     "status": "completed"
    },
    "scrolled": false,
    "tags": []
   },
   "outputs": [],
   "source": [
    "carousel = create_carousel(npub)\n",
    "docs = ', '.join(['\"{0:s}\"'.format(k.split('/')[-1]) for k in res])\n",
    "slides = ', '.join([f'\"slide{k}\"' for k in range(1, npub + 1)])\n",
    "\n",
    "with open(\"daily_template.html\", \"r\") as tpl:\n",
    "    page = tpl.read()\n",
    "    page = page.replace(\"{%-- carousel:s --%}\", carousel)\\\n",
    "               .replace(\"{%-- suptitle:s --%}\",  \"7-day archives\" )\\\n",
    "               .replace(\"{%-- docs:s --%}\", docs)\\\n",
    "               .replace(\"{%-- slides:s --%}\", slides)\n",
    "    \n",
    "with open(\"_build/html/index_7days.html\", 'w') as fout:\n",
    "    fout.write(page)"
   ]
  },
  {
   "cell_type": "code",
   "execution_count": 13,
   "id": "adc1a1ec",
   "metadata": {
    "execution": {
     "iopub.execute_input": "2024-01-25T04:10:07.757260Z",
     "iopub.status.busy": "2024-01-25T04:10:07.756751Z",
     "iopub.status.idle": "2024-01-25T04:10:07.763448Z",
     "shell.execute_reply": "2024-01-25T04:10:07.762938Z"
    },
    "papermill": {
     "duration": 0.01373,
     "end_time": "2024-01-25T04:10:07.764795",
     "exception": false,
     "start_time": "2024-01-25T04:10:07.751065",
     "status": "completed"
    },
    "tags": []
   },
   "outputs": [
    {
     "name": "stdout",
     "output_type": "stream",
     "text": [
      "4  publications in the last day.\n"
     ]
    }
   ],
   "source": [
    "# redo for today\n",
    "days = 1\n",
    "res = list(get_last_n_days(dates, days))\n",
    "npub = len(res)\n",
    "print(len(res), f\" publications in the last day.\")\n",
    "\n",
    "carousel = create_carousel(npub)\n",
    "docs = ', '.join(['\"{0:s}\"'.format(k.split('/')[-1]) for k in res])\n",
    "slides = ', '.join([f'\"slide{k}\"' for k in range(1, npub + 1)])\n",
    "\n",
    "with open(\"daily_template.html\", \"r\") as tpl:\n",
    "    page = tpl.read()\n",
    "    page = page.replace(\"{%-- carousel:s --%}\", carousel)\\\n",
    "               .replace(\"{%-- suptitle:s --%}\",  \"Daily\" )\\\n",
    "               .replace(\"{%-- docs:s --%}\", docs)\\\n",
    "               .replace(\"{%-- slides:s --%}\", slides)\n",
    "    \n",
    "# print(carousel, docs, slides)\n",
    "# print(page)\n",
    "with open(\"_build/html/index_daily.html\", 'w') as fout:\n",
    "    fout.write(page)"
   ]
  },
  {
   "cell_type": "code",
   "execution_count": 14,
   "id": "00eece82",
   "metadata": {
    "execution": {
     "iopub.execute_input": "2024-01-25T04:10:07.776446Z",
     "iopub.status.busy": "2024-01-25T04:10:07.776023Z",
     "iopub.status.idle": "2024-01-25T04:10:07.782773Z",
     "shell.execute_reply": "2024-01-25T04:10:07.782220Z"
    },
    "papermill": {
     "duration": 0.014025,
     "end_time": "2024-01-25T04:10:07.784136",
     "exception": false,
     "start_time": "2024-01-25T04:10:07.770111",
     "status": "completed"
    },
    "scrolled": false,
    "tags": []
   },
   "outputs": [
    {
     "name": "stdout",
     "output_type": "stream",
     "text": [
      "6  6 publications selected.\n"
     ]
    }
   ],
   "source": [
    "# Create the flat grid of the last N papers (fixed number regardless of dates)\n",
    "from itertools import islice \n",
    "\n",
    "npub = 6\n",
    "res = [k[0] for k in (islice(reversed(sorted(dates, key=lambda x: x[1])), 6))]\n",
    "print(len(res), f\" {npub} publications selected.\")\n",
    "\n",
    "grid = create_grid(npub)\n",
    "docs = ', '.join(['\"{0:s}\"'.format(k.split('/')[-1]) for k in res])\n",
    "slides = ', '.join([f'\"slide{k}\"' for k in range(1, npub + 1)])\n",
    "\n",
    "with open(\"grid_template.html\", \"r\") as tpl:\n",
    "    page = tpl.read()\n",
    "    page = page.replace(\"{%-- grid-content:s --%}\", grid)\\\n",
    "               .replace(\"{%-- suptitle:s --%}\",  f\"Last {npub:,d} papers\" )\\\n",
    "               .replace(\"{%-- docs:s --%}\", docs)\\\n",
    "               .replace(\"{%-- slides:s --%}\", slides)\n",
    "    \n",
    "# print(grid, docs, slides)\n",
    "# print(page)\n",
    "with open(\"_build/html/index_npub_grid.html\", 'w') as fout:\n",
    "    fout.write(page)"
   ]
  }
 ],
 "metadata": {
  "kernelspec": {
   "display_name": "Python 3 (ipykernel)",
   "language": "python",
   "name": "python3"
  },
  "language_info": {
   "codemirror_mode": {
    "name": "ipython",
    "version": 3
   },
   "file_extension": ".py",
   "mimetype": "text/x-python",
   "name": "python",
   "nbconvert_exporter": "python",
   "pygments_lexer": "ipython3",
   "version": "3.9.18"
  },
  "papermill": {
   "default_parameters": {},
   "duration": 59.944959,
   "end_time": "2024-01-25T04:10:08.006049",
   "environment_variables": {},
   "exception": null,
   "input_path": "MPIA daily digest.ipynb",
   "output_path": "log.ipynb",
   "parameters": {},
   "start_time": "2024-01-25T04:09:08.061090",
   "version": "2.5.0"
  },
  "vscode": {
   "interpreter": {
    "hash": "aee8b7b246df8f9039afb4144a1f6fd8d2ca17a180786b69acc140d282b71a49"
   }
  },
  "widgets": {
   "application/vnd.jupyter.widget-state+json": {
    "state": {
     "07b75afe89a84a3b9e490a9c306766c6": {
      "model_module": "@jupyter-widgets/base",
      "model_module_version": "2.0.0",
      "model_name": "LayoutModel",
      "state": {
       "_model_module": "@jupyter-widgets/base",
       "_model_module_version": "2.0.0",
       "_model_name": "LayoutModel",
       "_view_count": null,
       "_view_module": "@jupyter-widgets/base",
       "_view_module_version": "2.0.0",
       "_view_name": "LayoutView",
       "align_content": null,
       "align_items": null,
       "align_self": null,
       "border_bottom": null,
       "border_left": null,
       "border_right": null,
       "border_top": null,
       "bottom": null,
       "display": null,
       "flex": null,
       "flex_flow": null,
       "grid_area": null,
       "grid_auto_columns": null,
       "grid_auto_flow": null,
       "grid_auto_rows": null,
       "grid_column": null,
       "grid_gap": null,
       "grid_row": null,
       "grid_template_areas": null,
       "grid_template_columns": null,
       "grid_template_rows": null,
       "height": null,
       "justify_content": null,
       "justify_items": null,
       "left": null,
       "margin": null,
       "max_height": null,
       "max_width": null,
       "min_height": null,
       "min_width": null,
       "object_fit": null,
       "object_position": null,
       "order": null,
       "overflow": null,
       "padding": null,
       "right": null,
       "top": null,
       "visibility": null,
       "width": null
      }
     },
     "0a4031571dbb485fa60a387b25cfd22f": {
      "model_module": "@jupyter-widgets/controls",
      "model_module_version": "2.0.0",
      "model_name": "HTMLModel",
      "state": {
       "_dom_classes": [],
       "_model_module": "@jupyter-widgets/controls",
       "_model_module_version": "2.0.0",
       "_model_name": "HTMLModel",
       "_view_count": null,
       "_view_module": "@jupyter-widgets/controls",
       "_view_module_version": "2.0.0",
       "_view_name": "HTMLView",
       "description": "",
       "description_allow_html": false,
       "layout": "IPY_MODEL_7ac34064ea184464b0729b4591c97f6f",
       "placeholder": "​",
       "style": "IPY_MODEL_89f64cccbb67493e92475511157d32ca",
       "tabbable": null,
       "tooltip": null,
       "value": "100%"
      }
     },
     "1d6adb28b81e410985df71962c77e023": {
      "model_module": "@jupyter-widgets/base",
      "model_module_version": "2.0.0",
      "model_name": "LayoutModel",
      "state": {
       "_model_module": "@jupyter-widgets/base",
       "_model_module_version": "2.0.0",
       "_model_name": "LayoutModel",
       "_view_count": null,
       "_view_module": "@jupyter-widgets/base",
       "_view_module_version": "2.0.0",
       "_view_name": "LayoutView",
       "align_content": null,
       "align_items": null,
       "align_self": null,
       "border_bottom": null,
       "border_left": null,
       "border_right": null,
       "border_top": null,
       "bottom": null,
       "display": null,
       "flex": null,
       "flex_flow": null,
       "grid_area": null,
       "grid_auto_columns": null,
       "grid_auto_flow": null,
       "grid_auto_rows": null,
       "grid_column": null,
       "grid_gap": null,
       "grid_row": null,
       "grid_template_areas": null,
       "grid_template_columns": null,
       "grid_template_rows": null,
       "height": null,
       "justify_content": null,
       "justify_items": null,
       "left": null,
       "margin": null,
       "max_height": null,
       "max_width": null,
       "min_height": null,
       "min_width": null,
       "object_fit": null,
       "object_position": null,
       "order": null,
       "overflow": null,
       "padding": null,
       "right": null,
       "top": null,
       "visibility": null,
       "width": null
      }
     },
     "40ecb72e59b54b259f418193877952c3": {
      "model_module": "@jupyter-widgets/controls",
      "model_module_version": "2.0.0",
      "model_name": "HTMLModel",
      "state": {
       "_dom_classes": [],
       "_model_module": "@jupyter-widgets/controls",
       "_model_module_version": "2.0.0",
       "_model_name": "HTMLModel",
       "_view_count": null,
       "_view_module": "@jupyter-widgets/controls",
       "_view_module_version": "2.0.0",
       "_view_name": "HTMLView",
       "description": "",
       "description_allow_html": false,
       "layout": "IPY_MODEL_07b75afe89a84a3b9e490a9c306766c6",
       "placeholder": "​",
       "style": "IPY_MODEL_6a308dd03d1248058b2c8b08378f2f36",
       "tabbable": null,
       "tooltip": null,
       "value": " 5/5 [00:39&lt;00:00, 12.31s/it]"
      }
     },
     "439376a518594fc68cda137a7a97eced": {
      "model_module": "@jupyter-widgets/controls",
      "model_module_version": "2.0.0",
      "model_name": "FloatProgressModel",
      "state": {
       "_dom_classes": [],
       "_model_module": "@jupyter-widgets/controls",
       "_model_module_version": "2.0.0",
       "_model_name": "FloatProgressModel",
       "_view_count": null,
       "_view_module": "@jupyter-widgets/controls",
       "_view_module_version": "2.0.0",
       "_view_name": "ProgressView",
       "bar_style": "success",
       "description": "",
       "description_allow_html": false,
       "layout": "IPY_MODEL_5ff74255b3dd45af8f57788627b27624",
       "max": 5.0,
       "min": 0.0,
       "orientation": "horizontal",
       "style": "IPY_MODEL_71ac0786ae0e4fa3bd02778e550b3d62",
       "tabbable": null,
       "tooltip": null,
       "value": 5.0
      }
     },
     "5ff74255b3dd45af8f57788627b27624": {
      "model_module": "@jupyter-widgets/base",
      "model_module_version": "2.0.0",
      "model_name": "LayoutModel",
      "state": {
       "_model_module": "@jupyter-widgets/base",
       "_model_module_version": "2.0.0",
       "_model_name": "LayoutModel",
       "_view_count": null,
       "_view_module": "@jupyter-widgets/base",
       "_view_module_version": "2.0.0",
       "_view_name": "LayoutView",
       "align_content": null,
       "align_items": null,
       "align_self": null,
       "border_bottom": null,
       "border_left": null,
       "border_right": null,
       "border_top": null,
       "bottom": null,
       "display": null,
       "flex": null,
       "flex_flow": null,
       "grid_area": null,
       "grid_auto_columns": null,
       "grid_auto_flow": null,
       "grid_auto_rows": null,
       "grid_column": null,
       "grid_gap": null,
       "grid_row": null,
       "grid_template_areas": null,
       "grid_template_columns": null,
       "grid_template_rows": null,
       "height": null,
       "justify_content": null,
       "justify_items": null,
       "left": null,
       "margin": null,
       "max_height": null,
       "max_width": null,
       "min_height": null,
       "min_width": null,
       "object_fit": null,
       "object_position": null,
       "order": null,
       "overflow": null,
       "padding": null,
       "right": null,
       "top": null,
       "visibility": null,
       "width": null
      }
     },
     "6a308dd03d1248058b2c8b08378f2f36": {
      "model_module": "@jupyter-widgets/controls",
      "model_module_version": "2.0.0",
      "model_name": "HTMLStyleModel",
      "state": {
       "_model_module": "@jupyter-widgets/controls",
       "_model_module_version": "2.0.0",
       "_model_name": "HTMLStyleModel",
       "_view_count": null,
       "_view_module": "@jupyter-widgets/base",
       "_view_module_version": "2.0.0",
       "_view_name": "StyleView",
       "background": null,
       "description_width": "",
       "font_size": null,
       "text_color": null
      }
     },
     "71ac0786ae0e4fa3bd02778e550b3d62": {
      "model_module": "@jupyter-widgets/controls",
      "model_module_version": "2.0.0",
      "model_name": "ProgressStyleModel",
      "state": {
       "_model_module": "@jupyter-widgets/controls",
       "_model_module_version": "2.0.0",
       "_model_name": "ProgressStyleModel",
       "_view_count": null,
       "_view_module": "@jupyter-widgets/base",
       "_view_module_version": "2.0.0",
       "_view_name": "StyleView",
       "bar_color": null,
       "description_width": ""
      }
     },
     "7ac34064ea184464b0729b4591c97f6f": {
      "model_module": "@jupyter-widgets/base",
      "model_module_version": "2.0.0",
      "model_name": "LayoutModel",
      "state": {
       "_model_module": "@jupyter-widgets/base",
       "_model_module_version": "2.0.0",
       "_model_name": "LayoutModel",
       "_view_count": null,
       "_view_module": "@jupyter-widgets/base",
       "_view_module_version": "2.0.0",
       "_view_name": "LayoutView",
       "align_content": null,
       "align_items": null,
       "align_self": null,
       "border_bottom": null,
       "border_left": null,
       "border_right": null,
       "border_top": null,
       "bottom": null,
       "display": null,
       "flex": null,
       "flex_flow": null,
       "grid_area": null,
       "grid_auto_columns": null,
       "grid_auto_flow": null,
       "grid_auto_rows": null,
       "grid_column": null,
       "grid_gap": null,
       "grid_row": null,
       "grid_template_areas": null,
       "grid_template_columns": null,
       "grid_template_rows": null,
       "height": null,
       "justify_content": null,
       "justify_items": null,
       "left": null,
       "margin": null,
       "max_height": null,
       "max_width": null,
       "min_height": null,
       "min_width": null,
       "object_fit": null,
       "object_position": null,
       "order": null,
       "overflow": null,
       "padding": null,
       "right": null,
       "top": null,
       "visibility": null,
       "width": null
      }
     },
     "89f64cccbb67493e92475511157d32ca": {
      "model_module": "@jupyter-widgets/controls",
      "model_module_version": "2.0.0",
      "model_name": "HTMLStyleModel",
      "state": {
       "_model_module": "@jupyter-widgets/controls",
       "_model_module_version": "2.0.0",
       "_model_name": "HTMLStyleModel",
       "_view_count": null,
       "_view_module": "@jupyter-widgets/base",
       "_view_module_version": "2.0.0",
       "_view_name": "StyleView",
       "background": null,
       "description_width": "",
       "font_size": null,
       "text_color": null
      }
     },
     "ade913e747994e84b2ca195fdbe5bf35": {
      "model_module": "@jupyter-widgets/controls",
      "model_module_version": "2.0.0",
      "model_name": "HBoxModel",
      "state": {
       "_dom_classes": [],
       "_model_module": "@jupyter-widgets/controls",
       "_model_module_version": "2.0.0",
       "_model_name": "HBoxModel",
       "_view_count": null,
       "_view_module": "@jupyter-widgets/controls",
       "_view_module_version": "2.0.0",
       "_view_name": "HBoxView",
       "box_style": "",
       "children": [
        "IPY_MODEL_0a4031571dbb485fa60a387b25cfd22f",
        "IPY_MODEL_439376a518594fc68cda137a7a97eced",
        "IPY_MODEL_40ecb72e59b54b259f418193877952c3"
       ],
       "layout": "IPY_MODEL_1d6adb28b81e410985df71962c77e023",
       "tabbable": null,
       "tooltip": null
      }
     }
    },
    "version_major": 2,
    "version_minor": 0
   }
  }
 },
 "nbformat": 4,
 "nbformat_minor": 5
}