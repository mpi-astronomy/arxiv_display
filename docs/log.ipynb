{
 "cells": [
  {
   "cell_type": "markdown",
   "id": "92bcb855",
   "metadata": {
    "papermill": {
     "duration": 0.004919,
     "end_time": "2023-04-21T04:04:23.440771",
     "exception": false,
     "start_time": "2023-04-21T04:04:23.435852",
     "status": "completed"
    },
    "tags": []
   },
   "source": [
    "# MPIA Arxiv on Deck 2\n",
    "\n",
    "Contains the steps to produce the paper extractions."
   ]
  },
  {
   "cell_type": "code",
   "execution_count": 1,
   "id": "3a0d6e11",
   "metadata": {
    "execution": {
     "iopub.execute_input": "2023-04-21T04:04:23.449844Z",
     "iopub.status.busy": "2023-04-21T04:04:23.449213Z",
     "iopub.status.idle": "2023-04-21T04:04:23.694244Z",
     "shell.execute_reply": "2023-04-21T04:04:23.693503Z"
    },
    "papermill": {
     "duration": 0.251991,
     "end_time": "2023-04-21T04:04:23.696494",
     "exception": false,
     "start_time": "2023-04-21T04:04:23.444503",
     "status": "completed"
    },
    "tags": []
   },
   "outputs": [],
   "source": [
    "# Imports\n",
    "import os\n",
    "from IPython.display import Markdown, display\n",
    "from tqdm.notebook import tqdm\n",
    "import warnings\n",
    "from PIL import Image \n",
    "\n",
    "# requires arxiv_on_deck_2\n",
    "\n",
    "from arxiv_on_deck_2.arxiv2 import (get_new_papers, \n",
    "                                    get_paper_from_identifier,\n",
    "                                    retrieve_document_source, \n",
    "                                    get_markdown_badge)\n",
    "from arxiv_on_deck_2 import (latex,\n",
    "                             latex_bib,\n",
    "                             mpia,\n",
    "                             highlight_authors_in_list)\n",
    "\n",
    "# Sometimes images are really big\n",
    "Image.MAX_IMAGE_PIXELS = 1000000000 "
   ]
  },
  {
   "cell_type": "code",
   "execution_count": 2,
   "id": "22aa9d44",
   "metadata": {
    "execution": {
     "iopub.execute_input": "2023-04-21T04:04:23.706593Z",
     "iopub.status.busy": "2023-04-21T04:04:23.705799Z",
     "iopub.status.idle": "2023-04-21T04:04:23.713388Z",
     "shell.execute_reply": "2023-04-21T04:04:23.712707Z"
    },
    "papermill": {
     "duration": 0.014568,
     "end_time": "2023-04-21T04:04:23.715105",
     "exception": false,
     "start_time": "2023-04-21T04:04:23.700537",
     "status": "completed"
    },
    "tags": []
   },
   "outputs": [],
   "source": [
    "# Some useful definitions.\n",
    "\n",
    "class AffiliationWarning(UserWarning):\n",
    "    pass\n",
    "\n",
    "class AffiliationError(RuntimeError):\n",
    "    pass\n",
    "\n",
    "def validation(source: str):\n",
    "    \"\"\"Raises error paper during parsing of source file\n",
    "    \n",
    "    Allows checks before parsing TeX code.\n",
    "    \n",
    "    Raises AffiliationWarning\n",
    "    \"\"\"\n",
    "    check = mpia.affiliation_verifications(source, verbose=True)\n",
    "    if check is not True:\n",
    "        raise AffiliationError(\"mpia.affiliation_verifications: \" + check)\n",
    "\n",
    "        \n",
    "warnings.simplefilter('always', AffiliationWarning)\n",
    "\n",
    "\n",
    "def get_markdown_qrcode(paper_id: str):\n",
    "    \"\"\" Generate a qrcode to the arxiv page using qrserver.com\n",
    "    \n",
    "    :param paper: Arxiv paper\n",
    "    :returns: markdown text\n",
    "    \"\"\"\n",
    "    url = r\"https://api.qrserver.com/v1/create-qr-code/?size=100x100&data=\"\n",
    "    txt = f\"\"\"<img src={url}\"https://arxiv.org/abs/{paper_id}\">\"\"\"\n",
    "    txt = '<div id=\"qrcode\">' + txt + '</div>'\n",
    "    return txt"
   ]
  },
  {
   "cell_type": "markdown",
   "id": "14bd6310",
   "metadata": {
    "papermill": {
     "duration": 0.003489,
     "end_time": "2023-04-21T04:04:23.722210",
     "exception": false,
     "start_time": "2023-04-21T04:04:23.718721",
     "status": "completed"
    },
    "tags": []
   },
   "source": [
    "## get list of arxiv paper candidates\n",
    "\n",
    "We use the MPIA mitarbeiter list webpage from mpia.de to get author names\n",
    "We then get all new papers from Arxiv and match authors"
   ]
  },
  {
   "cell_type": "code",
   "execution_count": 3,
   "id": "2645e73a",
   "metadata": {
    "execution": {
     "iopub.execute_input": "2023-04-21T04:04:23.730880Z",
     "iopub.status.busy": "2023-04-21T04:04:23.730379Z",
     "iopub.status.idle": "2023-04-21T04:04:48.981001Z",
     "shell.execute_reply": "2023-04-21T04:04:48.980007Z"
    },
    "papermill": {
     "duration": 25.25705,
     "end_time": "2023-04-21T04:04:48.982749",
     "exception": false,
     "start_time": "2023-04-21T04:04:23.725699",
     "status": "completed"
    },
    "tags": []
   },
   "outputs": [
    {
     "name": "stdout",
     "output_type": "stream",
     "text": [
      "Arxiv has 53 new papers today\n",
      "          3 with possible author matches\n"
     ]
    }
   ],
   "source": [
    "# get list from MPIA website\n",
    "# it automatically filters identified non-scientists :func:`mpia.filter_non_scientists`\n",
    "mpia_authors = mpia.get_mpia_mitarbeiter_list()\n",
    "normed_mpia_authors = [k[1] for k in mpia_authors]   # initials + fullname\n",
    "new_papers = get_new_papers()\n",
    "# add manual references\n",
    "add_paper_refs = []\n",
    "new_papers.extend([get_paper_from_identifier(k) for k in add_paper_refs])\n",
    "\n",
    "candidates = []\n",
    "for paperk in new_papers:\n",
    "    # Check author list with their initials\n",
    "    normed_author_list = [mpia.get_initials(k) for k in paperk['authors']]\n",
    "    hl_authors = highlight_authors_in_list(normed_author_list, normed_mpia_authors, verbose=True)\n",
    "    matches = [(hl, orig) for hl, orig in zip(hl_authors, paperk['authors']) if 'mark' in hl]\n",
    "    paperk['authors'] = hl_authors\n",
    "    if matches:\n",
    "        # only select paper if an author matched our list\n",
    "        candidates.append(paperk)\n",
    "print(\"\"\"Arxiv has {0:,d} new papers today\"\"\".format(len(new_papers)))        \n",
    "print(\"\"\"          {0:,d} with possible author matches\"\"\".format(len(candidates)))"
   ]
  },
  {
   "cell_type": "markdown",
   "id": "3543b34a",
   "metadata": {
    "papermill": {
     "duration": 0.003773,
     "end_time": "2023-04-21T04:04:48.990467",
     "exception": false,
     "start_time": "2023-04-21T04:04:48.986694",
     "status": "completed"
    },
    "tags": []
   },
   "source": [
    "# Parse sources and generate relevant outputs\n",
    "\n",
    "From the candidates, we do the following steps:\n",
    "* get their tarball from ArXiv (and extract data)\n",
    "* find the main .tex file: find one with \\documentclass{...} (sometimes it's non trivial)\n",
    "* Check affiliations with :func:`validation`, which uses :func:`mpia.affiliation_verifications`\n",
    "* If passing the affiliations: we parse the .tex source\n",
    "   * inject sub-documents into the main (flatten the main document)\n",
    "   * parse structure, extract information (title, abstract, authors, figures...)\n",
    "   * handles `\\graphicspath` if provided\n",
    "* Generate the .md document."
   ]
  },
  {
   "cell_type": "code",
   "execution_count": 4,
   "id": "9576b79e",
   "metadata": {
    "execution": {
     "iopub.execute_input": "2023-04-21T04:04:48.999689Z",
     "iopub.status.busy": "2023-04-21T04:04:48.999273Z",
     "iopub.status.idle": "2023-04-21T04:05:22.105701Z",
     "shell.execute_reply": "2023-04-21T04:05:22.104885Z"
    },
    "papermill": {
     "duration": 33.118011,
     "end_time": "2023-04-21T04:05:22.112066",
     "exception": false,
     "start_time": "2023-04-21T04:04:48.994055",
     "status": "completed"
    },
    "scrolled": false,
    "tags": []
   },
   "outputs": [
    {
     "data": {
      "application/vnd.jupyter.widget-view+json": {
       "model_id": "f8a13703af55485f909031402a9f2c77",
       "version_major": 2,
       "version_minor": 0
      },
      "text/plain": [
       "  0%|          | 0/2 [00:00<?, ?it/s]"
      ]
     },
     "metadata": {},
     "output_type": "display_data"
    },
    {
     "name": "stdout",
     "output_type": "stream",
     "text": [
      "Retrieving document from  https://arxiv.org/e-print/2304.09888\n"
     ]
    },
    {
     "name": "stdout",
     "output_type": "stream",
     "text": [
      "extracting tarball to tmp_2304.09888..."
     ]
    },
    {
     "name": "stdout",
     "output_type": "stream",
     "text": [
      " done.\n"
     ]
    },
    {
     "name": "stdout",
     "output_type": "stream",
     "text": [
      "list index out of range\n",
      "Retrieving document from  https://arxiv.org/e-print/2304.09894\n"
     ]
    },
    {
     "name": "stdout",
     "output_type": "stream",
     "text": [
      "extracting tarball to tmp_2304.09894..."
     ]
    },
    {
     "name": "stdout",
     "output_type": "stream",
     "text": [
      " done.\n"
     ]
    },
    {
     "name": "stdout",
     "output_type": "stream",
     "text": [
      "list index out of range\n"
     ]
    }
   ],
   "source": [
    "documents = []\n",
    "failed = []\n",
    "for paper in tqdm(candidates[:-1]):\n",
    "    paper_id = paper['identifier'].lower().replace('arxiv:', '')\n",
    "    \n",
    "    folder = f'tmp_{paper_id}'\n",
    "\n",
    "    try:\n",
    "        if not os.path.isdir(folder):\n",
    "            folder = retrieve_document_source(f\"{paper_id}\", f'tmp_{paper_id}')\n",
    "        \n",
    "        try:\n",
    "            doc = latex.LatexDocument(folder, validation=validation)    \n",
    "        except AffiliationError as affilerror:\n",
    "            msg = f\"ArXiv:{paper_id:s} is not an MPIA paper... \" + str(affilerror)\n",
    "            failed.append((paper, \"affiliation error: \" + str(affilerror) ))\n",
    "            continue\n",
    "        \n",
    "        # Hack because sometimes author parsing does not work well\n",
    "        if (len(doc.authors) != len(paper['authors'])):\n",
    "            doc._authors = paper['authors']\n",
    "        else:\n",
    "            # highlight authors (FIXME: doc.highlight_authors)\n",
    "            # done on arxiv paper already\n",
    "            doc._authors = highlight_authors_in_list(\n",
    "                [mpia.get_initials(k) for k in doc.authors], \n",
    "                normed_mpia_authors, verbose=True)\n",
    "        if (doc.abstract) in (None, ''):\n",
    "            doc._abstract = paper['abstract']\n",
    "            \n",
    "        doc.comment = (get_markdown_badge(paper_id) + \n",
    "                       \"<mark>Appeared on: \" + paper['date'] + \"</mark> - \")\n",
    "        if paper['comments']:\n",
    "            doc.comment += \" _\" + paper['comments'] + \"_\"\n",
    "        \n",
    "        full_md = doc.generate_markdown_text()\n",
    "        \n",
    "        full_md += get_markdown_qrcode(paper_id)\n",
    "        \n",
    "        # replace citations\n",
    "        try:\n",
    "            bibdata = latex_bib.LatexBib.from_doc(doc)\n",
    "            full_md = latex_bib.replace_citations(full_md, bibdata)\n",
    "        except Exception as e:\n",
    "            print(e)\n",
    "        \n",
    "        documents.append((paper_id, full_md))\n",
    "    except Exception as e:\n",
    "        warnings.warn(latex.LatexWarning(f\"{paper_id:s} did not run properly\\n\" +\n",
    "                                         str(e)\n",
    "                                        ))\n",
    "        failed.append((paper, \"latex error \" + str(e)))"
   ]
  },
  {
   "cell_type": "markdown",
   "id": "2505a25c",
   "metadata": {
    "papermill": {
     "duration": 0.004048,
     "end_time": "2023-04-21T04:05:22.120320",
     "exception": false,
     "start_time": "2023-04-21T04:05:22.116272",
     "status": "completed"
    },
    "tags": []
   },
   "source": [
    "### Export the logs\n",
    "\n",
    "Throughout, we also keep track of the logs per paper. see `logs-{today date}.md` "
   ]
  },
  {
   "cell_type": "code",
   "execution_count": 5,
   "id": "d733828a",
   "metadata": {
    "execution": {
     "iopub.execute_input": "2023-04-21T04:05:22.140485Z",
     "iopub.status.busy": "2023-04-21T04:05:22.139685Z",
     "iopub.status.idle": "2023-04-21T04:05:22.157110Z",
     "shell.execute_reply": "2023-04-21T04:05:22.156363Z"
    },
    "papermill": {
     "duration": 0.028183,
     "end_time": "2023-04-21T04:05:22.160147",
     "exception": false,
     "start_time": "2023-04-21T04:05:22.131964",
     "status": "completed"
    },
    "scrolled": false,
    "tags": []
   },
   "outputs": [
    {
     "data": {
      "text/markdown": [
       "## Successful papers"
      ],
      "text/plain": [
       "<IPython.core.display.Markdown object>"
      ]
     },
     "metadata": {},
     "output_type": "display_data"
    },
    {
     "data": {
      "text/markdown": [
       "\n",
       "|||\n",
       "|---:|:---|\n",
       "| [![arXiv](https://img.shields.io/badge/arXiv-arXiv:2304.09888-b31b1b.svg)](https://arxiv.org/abs/arXiv:2304.09888) | **A SPectroscopic survey of biased halos In the Reionization Era (ASPIRE):  A First Look at the Rest-frame Optical Spectra of $z > 6.5$ Quasars Using  JWST**  |\n",
       "|| J. Yang, et al. -- incl., <mark>E. Bañados</mark>, <mark>S. Bosman</mark>, <mark>M. Habouzit</mark>, <mark>Y. Khusanova</mark>, <mark>S. Rojas-Ruiz</mark> |\n",
       "|*Appeared on*| *2023-04-21*|\n",
       "|*Comments*| *13 pages, 4 figures, accepted for publication in ApJL*|\n",
       "|**Abstract**| Studies of rest-frame optical emission in quasars at $z>6$ have historically been limited by the wavelengths accessible by ground-based telescopes. The James Webb Space Telescope (JWST) now offers the opportunity to probe this emission deep into the reionization epoch. We report the observations of eight quasars at $z>6.5$ using the JWST/NIRCam Wide Field Slitless Spectroscopy, as a part of the ''A SPectroscopic survey of biased halos In the Reionization Era (ASPIRE)\" program. Our JWST spectra cover the quasars' emission between rest frame $\\sim$ 4100 and 5100 \\r{A}. The profiles of these quasars' broad H$\\beta$ emission lines span a FWHM from 3000 to 6000 $\\rm{km~s^{-1}}$. The H$\\beta$-based virial black hole (BH) masses, ranging from 0.6 to 2.1 billion solar masses, are generally consistent with their MgII-based BH masses. The new measurements based on the more reliable H$\\beta$ tracer thus confirm the existence of billion solar-mass BHs in the reionization epoch. In the observed [OIII] $\\lambda\\lambda$4960,5008 doublets of these luminous quasars, broad components are more common than narrow core components ($\\le~1200~\\rm{km~s^{-1}}$), and only one quasar shows stronger narrow components than broad. Two quasars exhibit significantly broad and blueshifted [OIII] emission, thought to trace galactic-scale outflows, with median velocities of $-610~\\rm{km~s^{-1}}$ and $-1430~\\rm{km~s^{-1}}$ relative to the [CII] $158\\,\\mu$m line. All eight quasars show strong optical FeII emission, and follow the Eigenvector 1 relations defined by low-redshift quasars. The entire ASPIRE program will eventually cover 25 quasars and provide a statistical sample for the studies of the BHs and quasar spectral properties. |"
      ],
      "text/plain": [
       "[arXiv:2304.09888] A SPectroscopic survey of biased halos In the Reionization Era (ASPIRE):  A First Look at the Rest-frame Optical Spectra of $z > 6.5$ Quasars Using  JWST\n",
       "\tJ. Yang, et al. -- incl., <mark>E. Bañados</mark>, <mark>S. Bosman</mark>, <mark>M. Habouzit</mark>, <mark>Y. Khusanova</mark>, <mark>S. Rojas-Ruiz</mark>"
      ]
     },
     "metadata": {},
     "output_type": "display_data"
    },
    {
     "data": {
      "text/markdown": [
       "\n",
       "|||\n",
       "|---:|:---|\n",
       "| [![arXiv](https://img.shields.io/badge/arXiv-arXiv:2304.09894-b31b1b.svg)](https://arxiv.org/abs/arXiv:2304.09894) | **A SPectroscopic survey of biased halos In the Reionization Era (ASPIRE):  JWST Reveals a Filamentary Structure around a z=6.61 Quasar**  |\n",
       "|| F. Wang, et al. -- incl., <mark>M. Habouzit</mark>, <mark>E. Bañados</mark>, <mark>S. Bosman</mark>, <mark>Y. Khusanova</mark>, <mark>S. Rojas-Ruiz</mark> |\n",
       "|*Appeared on*| *2023-04-21*|\n",
       "|*Comments*| *accepted for publication in ApJL*|\n",
       "|**Abstract**| We present the first results from the JWST ASPIRE program (A SPectroscopic survey of biased halos In the Reionization Era). This program represents an imaging and spectroscopic survey of 25 reionization-era quasars and their environments by utilizing the unprecedented capabilities of NIRCam Wide Field Slitless Spectroscopy (WFSS) mode. ASPIRE will deliver the largest ($\\sim280~{\\rm arcmin}^2$) galaxy redshift survey at 3-4 $\\mu$m among JWST Cycle-1 programs and provide extensive legacy values for studying the formation of the earliest supermassive black holes (SMBHs), the assembly of galaxies, early metal enrichment, and cosmic reionization. In this first ASPIRE paper, we report the discovery of a filamentary structure traced by the luminous quasar J0305-3150 and ten [OIII] emitters at $z=6.6$. This structure has a 3D galaxy overdensity of $\\delta_{\\rm gal}=12.6$ over 637 cMpc$^3$, one of the most overdense structures known in the early universe, and could eventually evolve into a massive galaxy cluster. Together with existing VLT/MUSE and ALMA observations of this field, our JWST observations reveal that J0305-3150 traces a complex environment where both UV-bright and dusty galaxies are present, and indicate that the early evolution of galaxies around the quasar is not simultaneous. In addition, we discovered 31 [OIII] emitters in this field at other redshifts, $5.3<z<6.7$, with half of them situated at $z\\sim5.4$ and $z\\sim6.2$. This indicates that star-forming galaxies, such as [OIII] emitters, are generally clustered at high redshifts. These discoveries demonstrate the unparalleled redshift survey capabilities of NIRCam WFSS and the potential of the full ASPIRE survey dataset. |"
      ],
      "text/plain": [
       "[arXiv:2304.09894] A SPectroscopic survey of biased halos In the Reionization Era (ASPIRE):  JWST Reveals a Filamentary Structure around a z=6.61 Quasar\n",
       "\tF. Wang, et al. -- incl., <mark>M. Habouzit</mark>, <mark>E. Bañados</mark>, <mark>S. Bosman</mark>, <mark>Y. Khusanova</mark>, <mark>S. Rojas-Ruiz</mark>"
      ]
     },
     "metadata": {},
     "output_type": "display_data"
    },
    {
     "data": {
      "text/markdown": [
       "## Failed papers"
      ],
      "text/plain": [
       "<IPython.core.display.Markdown object>"
      ]
     },
     "metadata": {},
     "output_type": "display_data"
    }
   ],
   "source": [
    "import datetime\n",
    "today = str(datetime.date.today())\n",
    "logfile = f\"_build/html/logs/log-{today}.md\"\n",
    "\n",
    "\n",
    "with open(logfile, 'w') as logs:\n",
    "    # Success\n",
    "    logs.write(f'# Arxiv on Deck 2: Logs - {today}\\n\\n')\n",
    "    logs.write(\"\"\"* Arxiv had {0:,d} new papers\\n\"\"\".format(len(new_papers)))\n",
    "    logs.write(\"\"\"    * {0:,d} with possible author matches\\n\\n\"\"\".format(len(candidates)))\n",
    "    logs.write(\"## Sucessful papers\\n\\n\")\n",
    "    display(Markdown(\"## Successful papers\"))\n",
    "    success = [k[0] for k in documents]\n",
    "    for candid in candidates:\n",
    "        if candid['identifier'].split(':')[-1] in success:\n",
    "            display(candid)\n",
    "            logs.write(candid.generate_markdown_text() + '\\n\\n')\n",
    "\n",
    "    ## failed\n",
    "    logs.write(\"## Failed papers\\n\\n\")\n",
    "    display(Markdown(\"## Failed papers\"))\n",
    "    failed = sorted(failed, key=lambda x: x[1])\n",
    "    current_reason = \"\"\n",
    "    for paper, reason in failed:\n",
    "        if 'affiliation' in reason:\n",
    "            color = 'green'\n",
    "        else:\n",
    "            color = 'red'\n",
    "        data = Markdown(\n",
    "                paper.generate_markdown_text() + \n",
    "                f'\\n|<p style=\"color:{color:s}\"> **ERROR** </p>| <p style=\"color:{color:s}\">{reason:s}</p> |'\n",
    "               )\n",
    "        if reason != current_reason:\n",
    "            logs.write(f'### {reason:s} \\n\\n')\n",
    "            current_reason = reason\n",
    "        logs.write(data.data + '\\n\\n')\n",
    "        \n",
    "        # only display here the important errors (all in logs)\n",
    "        # if color in ('red',):\n",
    "        display(data)"
   ]
  },
  {
   "cell_type": "markdown",
   "id": "472d20ee",
   "metadata": {
    "papermill": {
     "duration": 0.004488,
     "end_time": "2023-04-21T04:05:22.169311",
     "exception": false,
     "start_time": "2023-04-21T04:05:22.164823",
     "status": "completed"
    },
    "tags": []
   },
   "source": [
    "## Export documents\n",
    "\n",
    "We now write the .md files and export relevant images"
   ]
  },
  {
   "cell_type": "code",
   "execution_count": 6,
   "id": "d426aed9",
   "metadata": {
    "execution": {
     "iopub.execute_input": "2023-04-21T04:05:22.180149Z",
     "iopub.status.busy": "2023-04-21T04:05:22.179632Z",
     "iopub.status.idle": "2023-04-21T04:05:22.187645Z",
     "shell.execute_reply": "2023-04-21T04:05:22.186910Z"
    },
    "papermill": {
     "duration": 0.015447,
     "end_time": "2023-04-21T04:05:22.189243",
     "exception": false,
     "start_time": "2023-04-21T04:05:22.173796",
     "status": "completed"
    },
    "tags": []
   },
   "outputs": [],
   "source": [
    "def export_markdown_summary(md: str, md_fname:str, directory: str):\n",
    "    \"\"\"Export MD document and associated relevant images\"\"\"\n",
    "    import os\n",
    "    import shutil\n",
    "    import re\n",
    "\n",
    "    if (os.path.exists(directory) and not os.path.isdir(directory)):\n",
    "        raise RuntimeError(f\"a non-directory file exists with name {directory:s}\")\n",
    "\n",
    "    if (not os.path.exists(directory)):\n",
    "        print(f\"creating directory {directory:s}\")\n",
    "        os.mkdir(directory)\n",
    "\n",
    "    fig_fnames = (re.compile(r'\\[Fig.*\\]\\((.*)\\)').findall(md) + \n",
    "                  re.compile(r'\\<img src=\"([^>\\s]*)\"[^>]*/>').findall(md))\n",
    "    for fname in fig_fnames:\n",
    "        if 'http' in fname:\n",
    "            # No need to copy online figures\n",
    "            continue\n",
    "        destdir = os.path.join(directory, os.path.dirname(fname))\n",
    "        destfname = os.path.join(destdir, os.path.basename(fname))\n",
    "        try:\n",
    "            os.makedirs(destdir)\n",
    "        except FileExistsError:\n",
    "            pass\n",
    "        shutil.copy(fname, destfname)\n",
    "    with open(os.path.join(directory, md_fname), 'w') as fout:\n",
    "        fout.write(md)\n",
    "    print(\"exported in \", os.path.join(directory, md_fname))\n",
    "    [print(\"    + \" + os.path.join(directory,fk)) for fk in fig_fnames]"
   ]
  },
  {
   "cell_type": "code",
   "execution_count": 7,
   "id": "014d04a4",
   "metadata": {
    "execution": {
     "iopub.execute_input": "2023-04-21T04:05:22.199859Z",
     "iopub.status.busy": "2023-04-21T04:05:22.199349Z",
     "iopub.status.idle": "2023-04-21T04:05:22.212735Z",
     "shell.execute_reply": "2023-04-21T04:05:22.211928Z"
    },
    "papermill": {
     "duration": 0.020491,
     "end_time": "2023-04-21T04:05:22.214239",
     "exception": false,
     "start_time": "2023-04-21T04:05:22.193748",
     "status": "completed"
    },
    "tags": []
   },
   "outputs": [
    {
     "name": "stdout",
     "output_type": "stream",
     "text": [
      "exported in  _build/html/2304.09888.md\n",
      "    + _build/html/tmp_2304.09888/./Spec_01.png\n",
      "    + _build/html/tmp_2304.09888/./Spec_02.png\n",
      "    + _build/html/tmp_2304.09888/./Spec_03.png\n",
      "exported in  _build/html/2304.09894.md\n",
      "    + _build/html/tmp_2304.09894/figures/fig_final_structure_3d_zoomin.png\n",
      "    + _build/html/tmp_2304.09894/figures/fig_final_vicinity.png\n",
      "    + _build/html/tmp_2304.09894/figures/fig_final_mosaic.png\n",
      "    + _build/html/tmp_2304.09894/figures/fig_final_redshift.png\n"
     ]
    }
   ],
   "source": [
    "for paper_id, md in documents:\n",
    "    export_markdown_summary(md, f\"{paper_id:s}.md\", '_build/html/')"
   ]
  },
  {
   "cell_type": "markdown",
   "id": "f087a0a7",
   "metadata": {
    "papermill": {
     "duration": 0.004941,
     "end_time": "2023-04-21T04:05:22.224024",
     "exception": false,
     "start_time": "2023-04-21T04:05:22.219083",
     "status": "completed"
    },
    "tags": []
   },
   "source": [
    "## Display the papers\n",
    "\n",
    "Not necessary but allows for a quick check."
   ]
  },
  {
   "cell_type": "code",
   "execution_count": 8,
   "id": "fd25f625",
   "metadata": {
    "execution": {
     "iopub.execute_input": "2023-04-21T04:05:22.235109Z",
     "iopub.status.busy": "2023-04-21T04:05:22.234479Z",
     "iopub.status.idle": "2023-04-21T04:05:22.241958Z",
     "shell.execute_reply": "2023-04-21T04:05:22.241200Z"
    },
    "papermill": {
     "duration": 0.01496,
     "end_time": "2023-04-21T04:05:22.243589",
     "exception": false,
     "start_time": "2023-04-21T04:05:22.228629",
     "status": "completed"
    },
    "scrolled": false,
    "tags": []
   },
   "outputs": [
    {
     "data": {
      "text/markdown": [
       "<div class=\"macros\" style=\"visibility:hidden;\">\n",
       "$\\newcommand{\\ensuremath}{}$\n",
       "$\\newcommand{\\xspace}{}$\n",
       "$\\newcommand{\\object}[1]{\\texttt{#1}}$\n",
       "$\\newcommand{\\farcs}{{.}''}$\n",
       "$\\newcommand{\\farcm}{{.}'}$\n",
       "$\\newcommand{\\arcsec}{''}$\n",
       "$\\newcommand{\\arcmin}{'}$\n",
       "$\\newcommand{\\ion}[2]{#1#2}$\n",
       "$\\newcommand{\\textsc}[1]{\\textrm{#1}}$\n",
       "$\\newcommand{\\hl}[1]{\\textrm{#1}}$\n",
       "$\\newcommand{\\footnote}[1]{}$\n",
       "$\\newcommand{\\vdag}{(v)^\\dagger}$\n",
       "$\\newcommand$\n",
       "$\\newcommand$\n",
       "$\\newcommand{\\mgii}{\\ion{Mg}{2}}$\n",
       "$\\newcommand{\\civ}{\\ion{C}{4}}$\n",
       "$\\newcommand{\\cii}{\\ion{C}{2}}$\n",
       "$\\newcommand{\\nv}{\\ion{N}{5}}$\n",
       "$\\newcommand{\\heii}{\\ion{He}{2}}$\n",
       "$\\newcommand{\\hii}{\\ion{H}{2}}$\n",
       "$\\newcommand{\\hi}{\\ion{H}{1}}$\n",
       "$\\newcommand{\\feii}{\\ion{Fe}{2}}$\n",
       "$\\newcommand{\\oiii}{\\ion{O}{3}}$</div>\n",
       "\n",
       "\n",
       "\n",
       "<div id=\"title\">\n",
       "\n",
       "# A SPectroscopic survey of biased halos In the Reionization Era (ASPIRE): A First Look at the Rest-frame Optical Spectra of $z > 6.5$ Quasars Using JWST\n",
       "\n",
       "</div>\n",
       "<div id=\"comments\">\n",
       "\n",
       "[![arXiv](https://img.shields.io/badge/arXiv-2304.09888-b31b1b.svg)](https://arxiv.org/abs/2304.09888)<mark>Appeared on: 2023-04-21</mark> -  _13 pages, 4 figures, accepted for publication in ApJL_\n",
       "\n",
       "</div>\n",
       "<div id=\"authors\">\n",
       "\n",
       "J. Yang, et al. -- incl., <mark>E. Bañados</mark>, <mark>S. Bosman</mark>, <mark>M. Habouzit</mark>, <mark>Y. Khusanova</mark>, <mark>S. Rojas-Ruiz</mark>\n",
       "\n",
       "</div>\n",
       "<div id=\"abstract\">\n",
       "\n",
       "**Abstract:** Studies of rest--frame optical emission in quasars at $z>6$ have historically been limited by the wavelengths accessible by ground-based telescopes. The James Webb Space Telescope (JWST) now offers the opportunity to probe this emission deep into the reionization epoch. We report the observations of eight quasars at $z>6.5$ using the JWST/NIRCam Wide Field Slitless Spectroscopy, as a part of the \"A SPectroscopic survey of biased halos In the Reionization Era (ASPIRE)\" program. Our JWST spectra cover the quasars' emission between rest frame $\\sim$ 4100 and 5100 Å. The profiles of these quasars' broad H $\\beta$ emission lines span a FWHM from 3000 to 6000 $\\rm{km s^{-1}}$ . The H $\\beta$ -based virial black hole (BH) masses, ranging from 0.6 to 2.1 billion solar masses, are generally consistent with their $\\mgii$ -based BH masses. The new measurements based on the more reliable H $\\beta$ tracer thus confirm the existence of billion solar-mass BHs in the reionization epoch. In the observed [ $\\oiii$ ] $\\lambda\\lambda$ 4960,5008 doublets of these luminous quasars, broad components are more common than narrow core components ( $\\le 1200 \\rm{km s^{-1}}$ ), and only one quasar shows stronger narrow components than broad. Two quasars exhibit significantly broad and blueshifted [ $\\oiii$ ] emission, thought to trace galactic--scale outflows, with median velocities of $-610 \\rm{km s^{-1}}$ and $-1430 \\rm{km s^{-1}}$ relative to the [ $\\cii$ ] $158 \\mu$ m line. All eight quasars show strong optical $\\feii$ emission, and follow the Eigenvector 1 relations defined by low--redshift quasars. The entire ASPIRE program will eventually cover 25 quasars and provide a statistical sample for the studies of the BHs and quasar spectral properties.\n",
       "\n",
       "</div>\n",
       "\n",
       "<div id=\"div_fig1\">\n",
       "\n",
       "<img src=\"tmp_2304.09888/./Spec_01.png\" alt=\"Fig4\" width=\"100%\"/>\n",
       "\n",
       "**Figure 4. -** The JWST NIRCam WFSS F356W spectra of eight ASPIRE quasars (black line) with spectral uncertainty (grey), ordered by RA. The red solid lines  denote the best total fits. The best-fits of different spectral components are shown with dashed and dotted lines. For each object, the left panel presents the entire spectrum with total fit, power-law continuum, and pseudo continuum (i.e., power-law plus $\\feii$ emission). The right panel shows the zoomed-in region of H$\\beta$ and [$\\oiii$] lines. The systemic redshifts of the quasars are based on their [$\\cii$] line measurements from ALMA observations. The blue squares with error bars are the photometric data in the WISE $W1$ 3.4 $\\mu$m band. The panels below the spectra present the residuals (data--model) of each best-fit model. (*fig:spec01*)\n",
       "\n",
       "</div>\n",
       "<div id=\"div_fig2\">\n",
       "\n",
       "<img src=\"tmp_2304.09888/./Spec_02.png\" alt=\"Fig5\" width=\"100%\"/>\n",
       "\n",
       "**Figure 5. -** Continued (*fig:spec01*)\n",
       "\n",
       "</div>\n",
       "<div id=\"div_fig3\">\n",
       "\n",
       "<img src=\"tmp_2304.09888/./Spec_03.png\" alt=\"Fig6\" width=\"100%\"/>\n",
       "\n",
       "**Figure 6. -** Continued (*fig:spec01*)\n",
       "\n",
       "</div><div id=\"qrcode\"><img src=https://api.qrserver.com/v1/create-qr-code/?size=100x100&data=\"https://arxiv.org/abs/2304.09888\"></div>"
      ],
      "text/plain": [
       "<IPython.core.display.Markdown object>"
      ]
     },
     "metadata": {},
     "output_type": "display_data"
    },
    {
     "data": {
      "text/markdown": [
       "<div class=\"macros\" style=\"visibility:hidden;\">\n",
       "$\\newcommand{\\ensuremath}{}$\n",
       "$\\newcommand{\\xspace}{}$\n",
       "$\\newcommand{\\object}[1]{\\texttt{#1}}$\n",
       "$\\newcommand{\\farcs}{{.}''}$\n",
       "$\\newcommand{\\farcm}{{.}'}$\n",
       "$\\newcommand{\\arcsec}{''}$\n",
       "$\\newcommand{\\arcmin}{'}$\n",
       "$\\newcommand{\\ion}[2]{#1#2}$\n",
       "$\\newcommand{\\textsc}[1]{\\textrm{#1}}$\n",
       "$\\newcommand{\\hl}[1]{\\textrm{#1}}$\n",
       "$\\newcommand{\\footnote}[1]{}$\n",
       "$\\newcommand{\\url}[1]{\\href{#1}{#1}}$\n",
       "$\\newcommand{\\dodoi}[1]{doi:~\\href{http://doi.org/#1}{\\nolinkurl{#1}}}$\n",
       "$\\newcommand{\\doeprint}[1]{\\href{http://ascl.net/#1}{\\nolinkurl{http://ascl.net/#1}}}$\n",
       "$\\newcommand{\\doarXiv}[1]{\\href{https://arxiv.org/abs/#1}{\\nolinkurl{https://arxiv.org/abs/#1}}}$\n",
       "$\\newcommand{\\}{natexlab}$</div>\n",
       "\n",
       "\n",
       "\n",
       "<div id=\"title\">\n",
       "\n",
       "# A SPectroscopic survey of biased halos In the Reionization Era (ASPIRE): JWST Reveals a Filamentary Structure around a $z=6.61$ Quasar\n",
       "\n",
       "</div>\n",
       "<div id=\"comments\">\n",
       "\n",
       "[![arXiv](https://img.shields.io/badge/arXiv-2304.09894-b31b1b.svg)](https://arxiv.org/abs/2304.09894)<mark>Appeared on: 2023-04-21</mark> -  _accepted for publication in ApJL_\n",
       "\n",
       "</div>\n",
       "<div id=\"authors\">\n",
       "\n",
       "F. Wang, et al. -- incl., <mark>M. Habouzit</mark>, <mark>E. Bañados</mark>, <mark>S. Bosman</mark>, <mark>Y. Khusanova</mark>, <mark>S. Rojas-Ruiz</mark>\n",
       "\n",
       "</div>\n",
       "<div id=\"abstract\">\n",
       "\n",
       "**Abstract:** We present the first results from the JWST ASPIRE program (A SPectroscopic survey of biased halos In the Reionization Era). This program represents an imaging and spectroscopic survey of 25 reionization-era quasars and their environments by utilizing the unprecedented capabilities of NIRCam Wide Field Slitless Spectroscopy (WFSS) mode. ASPIRE will deliver the largest ( $\\sim280 {\\rm arcmin}^2$ ) galaxy redshift survey at 3--4 $\\mu$ m among JWST Cycle-1 programs and provide extensive legacy values for studying the formation of the earliest supermassive black holes (SMBHs), the assembly of galaxies, early metal enrichment, and cosmic reionization. In this first ASPIRE paper, we report the discovery of a filamentary structure traced by the luminous quasar J0305--3150 and ten [ $\\ion{O}{3}$ ] emitters at $z=6.6$ . This structure has a 3D galaxy overdensity of $\\delta_{\\rm gal}=12.6$ over 637 cMpc $^3$ , one of the most overdense structures known in the early universe, and could eventually evolve into a massive galaxy cluster. Together with existing VLT/MUSE and ALMA observations of this field, our JWST observations reveal that J0305–3150 traces a complex environment where both UV-bright and dusty galaxies are present, and indicate that the early evolution of galaxies around the quasar is not simultaneous. In addition, we discovered 31 [ $\\ion{O}{3}$ ] emitters in this field at other redshifts, $5.3<z<6.7$ , with half of them situated at $z\\sim5.4$ and $z\\sim6.2$ . This indicates that star-forming galaxies, such as [ $\\ion{O}{3}$ ] emitters, are generally clustered at high redshifts. These discoveries demonstrate the unparalleled redshift survey capabilities of NIRCam WFSS and the potential of the full ASPIRE survey dataset.\n",
       "\n",
       "</div>\n",
       "\n",
       "<div id=\"div_fig1\">\n",
       "\n",
       "<img src=\"tmp_2304.09894/figures/fig_final_structure_3d_zoomin.png\" alt=\"Fig4.1\" width=\"50%\"/><img src=\"tmp_2304.09894/figures/fig_final_vicinity.png\" alt=\"Fig4.2\" width=\"50%\"/>\n",
       "\n",
       "**Figure 4. -** **Left: 3D structure of the galaxy overdensity at $z=6.6$.**\n",
       "In this plot, we show both [$\\ion${O}{3}] emitters and [$\\ion${C}{2}] emitters in the vicinity of the quasar. The blue shaded region highlights a cylinder volume with line-of-sight length of 2000 km $\\rm s^{-1}$(or 18.8 cMpc) and a projected radius of 3.28 cMpc at $z=6.6$(corresponding to an effective area of $\\rm 5.5  arcmin^2$ in the projected plane).\n",
       "**Right: The immediate vicinity of quasar J0305--3150.**\n",
       "The background is a RGB image made using NIRCam imaging in F115W (B), F200W (G), and F356W (R).\n",
       "Quasar J0305--3150 is surrounded by three [$\\ion${C}{2}] emitters \\citep[C1, C2, and C3;][]{Venemans19} and two [$\\ion${O}{3}] emitters (ASPIRE-J0305M31-O3-003 and ASPIRE-J0305M31-O3-004) with line-of-sight velocities relative to the quasar of $\\Delta v_{\\rm los}<1000 {\\rm km s^{-1}}$. Galaxy C3 is undetected in our deep JWST observations which indicates that it is a dusty star forming galaxy (DSFG). Galaxy [$\\ion${O}{3}]-04 is also detected in Ly$\\alpha$\\citep{Farina17}. Two foreground galaxies are also shown with a DSFG at $z=2.566$ and a [$\\ion${O}{3}] emitter at $z=5.428$.\n",
       " (*fig:vicinity*)\n",
       "\n",
       "</div>\n",
       "<div id=\"div_fig2\">\n",
       "\n",
       "<img src=\"tmp_2304.09894/figures/fig_final_mosaic.png\" alt=\"Fig2\" width=\"100%\"/>\n",
       "\n",
       "**Figure 2. -** **F356W-band imaging of the J0305--3150 quasar field.**\n",
       "We identified 41 [$\\ion${O}{3}] emitters as highlighted by colored circles.\n",
       "The quasar J0305--3150 and [$\\ion${O}{3}] emitters with line-of-sight velocity relative to the quasar of $\\Delta v_{\\rm los}<1000 {\\rm km s^{-1}}$ are highlighted by red circles.\n",
       "The magenta circles and orange circles denote the member galaxies of two galaxy overdensities at $z=6.2$ and $z=5.4$, respectively. The green circles are other field [$\\ion${O}{3}] emitters. The compass and the scale length (at $z=6.6$) are shown as blue lines.\n",
       " (*fig:map*)\n",
       "\n",
       "</div>\n",
       "<div id=\"div_fig3\">\n",
       "\n",
       "<img src=\"tmp_2304.09894/figures/fig_final_redshift.png\" alt=\"Fig1\" width=\"100%\"/>\n",
       "\n",
       "**Figure 1. -** **Redshift distribution of [$\\ion${O**{3}] emitters.}\n",
       "The [$\\ion${O}{3}] emitters are strongly clustered in redshift space. There are obvious galaxy number excess at $z\\sim5.4$, $z\\sim6.2$, and $z\\sim6.6$ in this field.\n",
       "The most significant excess in galaxy number appears at $z\\sim6.6$, the same redshift as the quasar. The inner plot shows the distribution of the line-of-sight velocities relative to the quasar of galaxies at $6.6<z<6.7$. Ten of the twelve galaxies at $z\\sim6.6-6.7$ have $v_{\\rm los}<1000 {\\rm km s^{-1}}$ relative to the quasar. A positive velocity offset means that the galaxy has a higher redshift than the quasar. Limited by the precision of NIRCam/WFSS wavelength calibration, the redshifts of [$\\ion${O}{3}] emitters could have a constant offset up to 0.003 as discussed in \\S\\ref{sec:wfss}, which could explain the asymmetric distribution of $v_{\\rm los}$.\n",
       " (*fig:redshift*)\n",
       "\n",
       "</div><div id=\"qrcode\"><img src=https://api.qrserver.com/v1/create-qr-code/?size=100x100&data=\"https://arxiv.org/abs/2304.09894\"></div>"
      ],
      "text/plain": [
       "<IPython.core.display.Markdown object>"
      ]
     },
     "metadata": {},
     "output_type": "display_data"
    }
   ],
   "source": [
    "[display(Markdown(k[1])) for k in documents];"
   ]
  },
  {
   "cell_type": "markdown",
   "id": "873873a4",
   "metadata": {
    "papermill": {
     "duration": 0.005163,
     "end_time": "2023-04-21T04:05:22.254165",
     "exception": false,
     "start_time": "2023-04-21T04:05:22.249002",
     "status": "completed"
    },
    "tags": []
   },
   "source": [
    "# Create HTML index"
   ]
  },
  {
   "cell_type": "code",
   "execution_count": 9,
   "id": "cf665672",
   "metadata": {
    "execution": {
     "iopub.execute_input": "2023-04-21T04:05:22.266351Z",
     "iopub.status.busy": "2023-04-21T04:05:22.265705Z",
     "iopub.status.idle": "2023-04-21T04:05:22.275929Z",
     "shell.execute_reply": "2023-04-21T04:05:22.275221Z"
    },
    "papermill": {
     "duration": 0.01824,
     "end_time": "2023-04-21T04:05:22.277508",
     "exception": false,
     "start_time": "2023-04-21T04:05:22.259268",
     "status": "completed"
    },
    "tags": []
   },
   "outputs": [
    {
     "name": "stdout",
     "output_type": "stream",
     "text": [
      "194  publications files modified in the last 7 days.\n"
     ]
    }
   ],
   "source": [
    "from datetime import datetime, timedelta, timezone\n",
    "from glob import glob\n",
    "import os\n",
    "\n",
    "files = glob('_build/html/*.md')\n",
    "days = 7\n",
    "now = datetime.today()\n",
    "res = []\n",
    "for fk in files:\n",
    "    stat_result = os.stat(fk).st_ctime\n",
    "    modified = datetime.fromtimestamp(stat_result, tz=timezone.utc).replace(tzinfo=None)\n",
    "    delta = now.today() - modified\n",
    "    if delta <= timedelta(days=days):\n",
    "        res.append((delta.seconds, fk))\n",
    "res = [k[1] for k in reversed(sorted(res, key=lambda x:x[1]))]\n",
    "npub = len(res)\n",
    "print(len(res), f\" publications files modified in the last {days:d} days.\")\n",
    "# [ print('\\t', k) for k in res ];"
   ]
  },
  {
   "cell_type": "code",
   "execution_count": 10,
   "id": "015de740",
   "metadata": {
    "execution": {
     "iopub.execute_input": "2023-04-21T04:05:22.289723Z",
     "iopub.status.busy": "2023-04-21T04:05:22.289187Z",
     "iopub.status.idle": "2023-04-21T04:05:22.306424Z",
     "shell.execute_reply": "2023-04-21T04:05:22.305704Z"
    },
    "papermill": {
     "duration": 0.025242,
     "end_time": "2023-04-21T04:05:22.307965",
     "exception": false,
     "start_time": "2023-04-21T04:05:22.282723",
     "status": "completed"
    },
    "tags": []
   },
   "outputs": [
    {
     "name": "stdout",
     "output_type": "stream",
     "text": [
      "8  publications in the last 7 days.\n"
     ]
    }
   ],
   "source": [
    "import datetime\n",
    "from glob import glob\n",
    "\n",
    "def get_last_n_days(lst, days=1):\n",
    "    \"\"\" Get the documents from the last n days \"\"\"\n",
    "    sorted_lst = sorted(lst, key=lambda x: x[1], reverse=True)\n",
    "    for fname, date in sorted_lst:\n",
    "        if date >= str(datetime.date.today() - datetime.timedelta(days=days)):\n",
    "            yield fname\n",
    "\n",
    "def extract_appearance_dates(lst_file):\n",
    "    dates = []\n",
    "\n",
    "    def get_date(line):\n",
    "        return line\\\n",
    "            .split('Appeared on:')[-1]\\\n",
    "            .split('</mark>')[0].strip()\n",
    "\n",
    "    for fname in lst:\n",
    "        with open(fname, 'r') as f:\n",
    "            found_date = False\n",
    "            for line in f:\n",
    "                if not found_date:\n",
    "                    if \"Appeared on\" in line:\n",
    "                        found_date = True\n",
    "                        dates.append((fname, get_date(line)))\n",
    "                else:\n",
    "                    break\n",
    "    return dates\n",
    "\n",
    "from glob import glob\n",
    "lst = glob('_build/html/*md')\n",
    "days = 7\n",
    "dates = extract_appearance_dates(lst)\n",
    "res = list(get_last_n_days(dates, days))\n",
    "npub = len(res)\n",
    "print(len(res), f\" publications in the last {days:d} days.\")"
   ]
  },
  {
   "cell_type": "code",
   "execution_count": 11,
   "id": "52ca0208",
   "metadata": {
    "execution": {
     "iopub.execute_input": "2023-04-21T04:05:22.320626Z",
     "iopub.status.busy": "2023-04-21T04:05:22.320022Z",
     "iopub.status.idle": "2023-04-21T04:05:22.326076Z",
     "shell.execute_reply": "2023-04-21T04:05:22.325373Z"
    },
    "papermill": {
     "duration": 0.014171,
     "end_time": "2023-04-21T04:05:22.327571",
     "exception": false,
     "start_time": "2023-04-21T04:05:22.313400",
     "status": "completed"
    },
    "scrolled": false,
    "tags": []
   },
   "outputs": [],
   "source": [
    "def create_carousel(npub=4):\n",
    "    \"\"\" Generate the HTML code for a carousel with `npub` slides \"\"\"\n",
    "    carousel = [\"\"\"  <div class=\"carousel\" \"\"\",\n",
    "                \"\"\"       data-flickity='{ \"autoPlay\": 10000, \"adaptiveHeight\": true, \"resize\": true, \"wrapAround\": true, \"pauseAutoPlayOnHover\": true, \"groupCells\": 1 }' id=\"asyncTypeset\">\"\"\"\n",
    "                ]\n",
    "    \n",
    "    item_str = \"\"\"    <div class=\"carousel-cell\"> <div id=\"slide{k}\" class=\"md_view\">Content {k}</div> </div>\"\"\"\n",
    "    for k in range(1, npub + 1):\n",
    "        carousel.append(item_str.format(k=k))\n",
    "    carousel.append(\"  </div>\")\n",
    "    return '\\n'.join(carousel)\n",
    "\n",
    "def create_grid(npub=4):\n",
    "    \"\"\" Generate the HTML code for a flat grid with `npub` slides \"\"\"\n",
    "    grid = [\"\"\"  <div class=\"grid\"> \"\"\",\n",
    "                ]\n",
    "    \n",
    "    item_str = \"\"\"    <div class=\"grid-item\"> <div id=\"slide{k}\" class=\"md_view\">Content {k}</div> </div>\"\"\"\n",
    "    for k in range(1, npub + 1):\n",
    "        grid.append(item_str.format(k=k))\n",
    "    grid.append(\"  </div>\")\n",
    "    return '\\n'.join(grid)"
   ]
  },
  {
   "cell_type": "code",
   "execution_count": 12,
   "id": "a6eac5b6",
   "metadata": {
    "execution": {
     "iopub.execute_input": "2023-04-21T04:05:22.340765Z",
     "iopub.status.busy": "2023-04-21T04:05:22.340170Z",
     "iopub.status.idle": "2023-04-21T04:05:22.346304Z",
     "shell.execute_reply": "2023-04-21T04:05:22.345582Z"
    },
    "papermill": {
     "duration": 0.014732,
     "end_time": "2023-04-21T04:05:22.347873",
     "exception": false,
     "start_time": "2023-04-21T04:05:22.333141",
     "status": "completed"
    },
    "scrolled": false,
    "tags": []
   },
   "outputs": [],
   "source": [
    "carousel = create_carousel(npub)\n",
    "docs = ', '.join(['\"{0:s}\"'.format(k.split('/')[-1]) for k in res])\n",
    "slides = ', '.join([f'\"slide{k}\"' for k in range(1, npub + 1)])\n",
    "\n",
    "with open(\"daily_template.html\", \"r\") as tpl:\n",
    "    page = tpl.read()\n",
    "    page = page.replace(\"{%-- carousel:s --%}\", carousel)\\\n",
    "               .replace(\"{%-- suptitle:s --%}\",  \"7-day archives\" )\\\n",
    "               .replace(\"{%-- docs:s --%}\", docs)\\\n",
    "               .replace(\"{%-- slides:s --%}\", slides)\n",
    "    \n",
    "with open(\"_build/html/index_7days.html\", 'w') as fout:\n",
    "    fout.write(page)"
   ]
  },
  {
   "cell_type": "code",
   "execution_count": 13,
   "id": "adc1a1ec",
   "metadata": {
    "execution": {
     "iopub.execute_input": "2023-04-21T04:05:22.360768Z",
     "iopub.status.busy": "2023-04-21T04:05:22.360264Z",
     "iopub.status.idle": "2023-04-21T04:05:22.368041Z",
     "shell.execute_reply": "2023-04-21T04:05:22.367317Z"
    },
    "papermill": {
     "duration": 0.016122,
     "end_time": "2023-04-21T04:05:22.369589",
     "exception": false,
     "start_time": "2023-04-21T04:05:22.353467",
     "status": "completed"
    },
    "tags": []
   },
   "outputs": [
    {
     "name": "stdout",
     "output_type": "stream",
     "text": [
      "2  publications in the last day.\n"
     ]
    }
   ],
   "source": [
    "# redo for today\n",
    "days = 1\n",
    "res = list(get_last_n_days(dates, days))\n",
    "npub = len(res)\n",
    "print(len(res), f\" publications in the last day.\")\n",
    "\n",
    "carousel = create_carousel(npub)\n",
    "docs = ', '.join(['\"{0:s}\"'.format(k.split('/')[-1]) for k in res])\n",
    "slides = ', '.join([f'\"slide{k}\"' for k in range(1, npub + 1)])\n",
    "\n",
    "with open(\"daily_template.html\", \"r\") as tpl:\n",
    "    page = tpl.read()\n",
    "    page = page.replace(\"{%-- carousel:s --%}\", carousel)\\\n",
    "               .replace(\"{%-- suptitle:s --%}\",  \"Daily\" )\\\n",
    "               .replace(\"{%-- docs:s --%}\", docs)\\\n",
    "               .replace(\"{%-- slides:s --%}\", slides)\n",
    "    \n",
    "# print(carousel, docs, slides)\n",
    "# print(page)\n",
    "with open(\"_build/html/index_daily.html\", 'w') as fout:\n",
    "    fout.write(page)"
   ]
  },
  {
   "cell_type": "code",
   "execution_count": 14,
   "id": "00eece82",
   "metadata": {
    "execution": {
     "iopub.execute_input": "2023-04-21T04:05:22.382430Z",
     "iopub.status.busy": "2023-04-21T04:05:22.381953Z",
     "iopub.status.idle": "2023-04-21T04:05:22.389769Z",
     "shell.execute_reply": "2023-04-21T04:05:22.389024Z"
    },
    "papermill": {
     "duration": 0.016136,
     "end_time": "2023-04-21T04:05:22.391315",
     "exception": false,
     "start_time": "2023-04-21T04:05:22.375179",
     "status": "completed"
    },
    "scrolled": false,
    "tags": []
   },
   "outputs": [
    {
     "name": "stdout",
     "output_type": "stream",
     "text": [
      "6  6 publications selected.\n"
     ]
    }
   ],
   "source": [
    "# Create the flat grid of the last N papers (fixed number regardless of dates)\n",
    "from itertools import islice \n",
    "\n",
    "npub = 6\n",
    "res = [k[0] for k in (islice(reversed(sorted(dates, key=lambda x: x[1])), 6))]\n",
    "print(len(res), f\" {npub} publications selected.\")\n",
    "\n",
    "grid = create_grid(npub)\n",
    "docs = ', '.join(['\"{0:s}\"'.format(k.split('/')[-1]) for k in res])\n",
    "slides = ', '.join([f'\"slide{k}\"' for k in range(1, npub + 1)])\n",
    "\n",
    "with open(\"grid_template.html\", \"r\") as tpl:\n",
    "    page = tpl.read()\n",
    "    page = page.replace(\"{%-- grid-content:s --%}\", grid)\\\n",
    "               .replace(\"{%-- suptitle:s --%}\",  f\"Last {npub:,d} papers\" )\\\n",
    "               .replace(\"{%-- docs:s --%}\", docs)\\\n",
    "               .replace(\"{%-- slides:s --%}\", slides)\n",
    "    \n",
    "# print(grid, docs, slides)\n",
    "# print(page)\n",
    "with open(\"_build/html/index_npub_grid.html\", 'w') as fout:\n",
    "    fout.write(page)"
   ]
  }
 ],
 "metadata": {
  "kernelspec": {
   "display_name": "Python 3 (ipykernel)",
   "language": "python",
   "name": "python3"
  },
  "language_info": {
   "codemirror_mode": {
    "name": "ipython",
    "version": 3
   },
   "file_extension": ".py",
   "mimetype": "text/x-python",
   "name": "python",
   "nbconvert_exporter": "python",
   "pygments_lexer": "ipython3",
   "version": "3.9.16"
  },
  "papermill": {
   "default_parameters": {},
   "duration": 60.613005,
   "end_time": "2023-04-21T04:05:22.716717",
   "environment_variables": {},
   "exception": null,
   "input_path": "MPIA daily digest.ipynb",
   "output_path": "log.ipynb",
   "parameters": {},
   "start_time": "2023-04-21T04:04:22.103712",
   "version": "2.4.0"
  },
  "vscode": {
   "interpreter": {
    "hash": "aee8b7b246df8f9039afb4144a1f6fd8d2ca17a180786b69acc140d282b71a49"
   }
  },
  "widgets": {
   "application/vnd.jupyter.widget-state+json": {
    "state": {
     "38b2aa66e903443c9f5a4e21c6b466f4": {
      "model_module": "@jupyter-widgets/controls",
      "model_module_version": "2.0.0",
      "model_name": "FloatProgressModel",
      "state": {
       "_dom_classes": [],
       "_model_module": "@jupyter-widgets/controls",
       "_model_module_version": "2.0.0",
       "_model_name": "FloatProgressModel",
       "_view_count": null,
       "_view_module": "@jupyter-widgets/controls",
       "_view_module_version": "2.0.0",
       "_view_name": "ProgressView",
       "bar_style": "success",
       "description": "",
       "description_allow_html": false,
       "layout": "IPY_MODEL_6089c076116642d68bfd8fe5834e2d32",
       "max": 2.0,
       "min": 0.0,
       "orientation": "horizontal",
       "style": "IPY_MODEL_d978daf4cf304a51977e5f8313481337",
       "tabbable": null,
       "tooltip": null,
       "value": 2.0
      }
     },
     "3ceade819de94c67be19a5e257644719": {
      "model_module": "@jupyter-widgets/base",
      "model_module_version": "2.0.0",
      "model_name": "LayoutModel",
      "state": {
       "_model_module": "@jupyter-widgets/base",
       "_model_module_version": "2.0.0",
       "_model_name": "LayoutModel",
       "_view_count": null,
       "_view_module": "@jupyter-widgets/base",
       "_view_module_version": "2.0.0",
       "_view_name": "LayoutView",
       "align_content": null,
       "align_items": null,
       "align_self": null,
       "border_bottom": null,
       "border_left": null,
       "border_right": null,
       "border_top": null,
       "bottom": null,
       "display": null,
       "flex": null,
       "flex_flow": null,
       "grid_area": null,
       "grid_auto_columns": null,
       "grid_auto_flow": null,
       "grid_auto_rows": null,
       "grid_column": null,
       "grid_gap": null,
       "grid_row": null,
       "grid_template_areas": null,
       "grid_template_columns": null,
       "grid_template_rows": null,
       "height": null,
       "justify_content": null,
       "justify_items": null,
       "left": null,
       "margin": null,
       "max_height": null,
       "max_width": null,
       "min_height": null,
       "min_width": null,
       "object_fit": null,
       "object_position": null,
       "order": null,
       "overflow": null,
       "padding": null,
       "right": null,
       "top": null,
       "visibility": null,
       "width": null
      }
     },
     "5eb6b6d9a1b54b589d0bc55d80c80ff0": {
      "model_module": "@jupyter-widgets/controls",
      "model_module_version": "2.0.0",
      "model_name": "HTMLModel",
      "state": {
       "_dom_classes": [],
       "_model_module": "@jupyter-widgets/controls",
       "_model_module_version": "2.0.0",
       "_model_name": "HTMLModel",
       "_view_count": null,
       "_view_module": "@jupyter-widgets/controls",
       "_view_module_version": "2.0.0",
       "_view_name": "HTMLView",
       "description": "",
       "description_allow_html": false,
       "layout": "IPY_MODEL_3ceade819de94c67be19a5e257644719",
       "placeholder": "​",
       "style": "IPY_MODEL_6802596d0681499db8f090a6984ac548",
       "tabbable": null,
       "tooltip": null,
       "value": " 2/2 [00:33&lt;00:00, 17.49s/it]"
      }
     },
     "6089c076116642d68bfd8fe5834e2d32": {
      "model_module": "@jupyter-widgets/base",
      "model_module_version": "2.0.0",
      "model_name": "LayoutModel",
      "state": {
       "_model_module": "@jupyter-widgets/base",
       "_model_module_version": "2.0.0",
       "_model_name": "LayoutModel",
       "_view_count": null,
       "_view_module": "@jupyter-widgets/base",
       "_view_module_version": "2.0.0",
       "_view_name": "LayoutView",
       "align_content": null,
       "align_items": null,
       "align_self": null,
       "border_bottom": null,
       "border_left": null,
       "border_right": null,
       "border_top": null,
       "bottom": null,
       "display": null,
       "flex": null,
       "flex_flow": null,
       "grid_area": null,
       "grid_auto_columns": null,
       "grid_auto_flow": null,
       "grid_auto_rows": null,
       "grid_column": null,
       "grid_gap": null,
       "grid_row": null,
       "grid_template_areas": null,
       "grid_template_columns": null,
       "grid_template_rows": null,
       "height": null,
       "justify_content": null,
       "justify_items": null,
       "left": null,
       "margin": null,
       "max_height": null,
       "max_width": null,
       "min_height": null,
       "min_width": null,
       "object_fit": null,
       "object_position": null,
       "order": null,
       "overflow": null,
       "padding": null,
       "right": null,
       "top": null,
       "visibility": null,
       "width": null
      }
     },
     "6802596d0681499db8f090a6984ac548": {
      "model_module": "@jupyter-widgets/controls",
      "model_module_version": "2.0.0",
      "model_name": "HTMLStyleModel",
      "state": {
       "_model_module": "@jupyter-widgets/controls",
       "_model_module_version": "2.0.0",
       "_model_name": "HTMLStyleModel",
       "_view_count": null,
       "_view_module": "@jupyter-widgets/base",
       "_view_module_version": "2.0.0",
       "_view_name": "StyleView",
       "background": null,
       "description_width": "",
       "font_size": null,
       "text_color": null
      }
     },
     "d59901d5532b4954b541bf70e45fd679": {
      "model_module": "@jupyter-widgets/base",
      "model_module_version": "2.0.0",
      "model_name": "LayoutModel",
      "state": {
       "_model_module": "@jupyter-widgets/base",
       "_model_module_version": "2.0.0",
       "_model_name": "LayoutModel",
       "_view_count": null,
       "_view_module": "@jupyter-widgets/base",
       "_view_module_version": "2.0.0",
       "_view_name": "LayoutView",
       "align_content": null,
       "align_items": null,
       "align_self": null,
       "border_bottom": null,
       "border_left": null,
       "border_right": null,
       "border_top": null,
       "bottom": null,
       "display": null,
       "flex": null,
       "flex_flow": null,
       "grid_area": null,
       "grid_auto_columns": null,
       "grid_auto_flow": null,
       "grid_auto_rows": null,
       "grid_column": null,
       "grid_gap": null,
       "grid_row": null,
       "grid_template_areas": null,
       "grid_template_columns": null,
       "grid_template_rows": null,
       "height": null,
       "justify_content": null,
       "justify_items": null,
       "left": null,
       "margin": null,
       "max_height": null,
       "max_width": null,
       "min_height": null,
       "min_width": null,
       "object_fit": null,
       "object_position": null,
       "order": null,
       "overflow": null,
       "padding": null,
       "right": null,
       "top": null,
       "visibility": null,
       "width": null
      }
     },
     "d978daf4cf304a51977e5f8313481337": {
      "model_module": "@jupyter-widgets/controls",
      "model_module_version": "2.0.0",
      "model_name": "ProgressStyleModel",
      "state": {
       "_model_module": "@jupyter-widgets/controls",
       "_model_module_version": "2.0.0",
       "_model_name": "ProgressStyleModel",
       "_view_count": null,
       "_view_module": "@jupyter-widgets/base",
       "_view_module_version": "2.0.0",
       "_view_name": "StyleView",
       "bar_color": null,
       "description_width": ""
      }
     },
     "e6f2b02c6b6844f88a3ef4b01b3eca18": {
      "model_module": "@jupyter-widgets/controls",
      "model_module_version": "2.0.0",
      "model_name": "HTMLStyleModel",
      "state": {
       "_model_module": "@jupyter-widgets/controls",
       "_model_module_version": "2.0.0",
       "_model_name": "HTMLStyleModel",
       "_view_count": null,
       "_view_module": "@jupyter-widgets/base",
       "_view_module_version": "2.0.0",
       "_view_name": "StyleView",
       "background": null,
       "description_width": "",
       "font_size": null,
       "text_color": null
      }
     },
     "e77fb29d6e06433d852a833a6277e236": {
      "model_module": "@jupyter-widgets/controls",
      "model_module_version": "2.0.0",
      "model_name": "HTMLModel",
      "state": {
       "_dom_classes": [],
       "_model_module": "@jupyter-widgets/controls",
       "_model_module_version": "2.0.0",
       "_model_name": "HTMLModel",
       "_view_count": null,
       "_view_module": "@jupyter-widgets/controls",
       "_view_module_version": "2.0.0",
       "_view_name": "HTMLView",
       "description": "",
       "description_allow_html": false,
       "layout": "IPY_MODEL_f2479e2a1d044ff89d7a8587762dec0b",
       "placeholder": "​",
       "style": "IPY_MODEL_e6f2b02c6b6844f88a3ef4b01b3eca18",
       "tabbable": null,
       "tooltip": null,
       "value": "100%"
      }
     },
     "f2479e2a1d044ff89d7a8587762dec0b": {
      "model_module": "@jupyter-widgets/base",
      "model_module_version": "2.0.0",
      "model_name": "LayoutModel",
      "state": {
       "_model_module": "@jupyter-widgets/base",
       "_model_module_version": "2.0.0",
       "_model_name": "LayoutModel",
       "_view_count": null,
       "_view_module": "@jupyter-widgets/base",
       "_view_module_version": "2.0.0",
       "_view_name": "LayoutView",
       "align_content": null,
       "align_items": null,
       "align_self": null,
       "border_bottom": null,
       "border_left": null,
       "border_right": null,
       "border_top": null,
       "bottom": null,
       "display": null,
       "flex": null,
       "flex_flow": null,
       "grid_area": null,
       "grid_auto_columns": null,
       "grid_auto_flow": null,
       "grid_auto_rows": null,
       "grid_column": null,
       "grid_gap": null,
       "grid_row": null,
       "grid_template_areas": null,
       "grid_template_columns": null,
       "grid_template_rows": null,
       "height": null,
       "justify_content": null,
       "justify_items": null,
       "left": null,
       "margin": null,
       "max_height": null,
       "max_width": null,
       "min_height": null,
       "min_width": null,
       "object_fit": null,
       "object_position": null,
       "order": null,
       "overflow": null,
       "padding": null,
       "right": null,
       "top": null,
       "visibility": null,
       "width": null
      }
     },
     "f8a13703af55485f909031402a9f2c77": {
      "model_module": "@jupyter-widgets/controls",
      "model_module_version": "2.0.0",
      "model_name": "HBoxModel",
      "state": {
       "_dom_classes": [],
       "_model_module": "@jupyter-widgets/controls",
       "_model_module_version": "2.0.0",
       "_model_name": "HBoxModel",
       "_view_count": null,
       "_view_module": "@jupyter-widgets/controls",
       "_view_module_version": "2.0.0",
       "_view_name": "HBoxView",
       "box_style": "",
       "children": [
        "IPY_MODEL_e77fb29d6e06433d852a833a6277e236",
        "IPY_MODEL_38b2aa66e903443c9f5a4e21c6b466f4",
        "IPY_MODEL_5eb6b6d9a1b54b589d0bc55d80c80ff0"
       ],
       "layout": "IPY_MODEL_d59901d5532b4954b541bf70e45fd679",
       "tabbable": null,
       "tooltip": null
      }
     }
    },
    "version_major": 2,
    "version_minor": 0
   }
  }
 },
 "nbformat": 4,
 "nbformat_minor": 5
}