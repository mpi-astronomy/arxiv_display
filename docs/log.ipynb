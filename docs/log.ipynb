{
 "cells": [
  {
   "cell_type": "markdown",
   "id": "92bcb855",
   "metadata": {
    "papermill": {
     "duration": 0.004872,
     "end_time": "2022-10-19T05:20:58.063375",
     "exception": false,
     "start_time": "2022-10-19T05:20:58.058503",
     "status": "completed"
    },
    "tags": []
   },
   "source": [
    "# MPIA Arxiv on Deck 2\n",
    "\n",
    "Contains the steps to produce the paper extractions."
   ]
  },
  {
   "cell_type": "code",
   "execution_count": 1,
   "id": "3a0d6e11",
   "metadata": {
    "execution": {
     "iopub.execute_input": "2022-10-19T05:20:58.073164Z",
     "iopub.status.busy": "2022-10-19T05:20:58.072480Z",
     "iopub.status.idle": "2022-10-19T05:20:58.237850Z",
     "shell.execute_reply": "2022-10-19T05:20:58.237214Z"
    },
    "papermill": {
     "duration": 0.172392,
     "end_time": "2022-10-19T05:20:58.239929",
     "exception": false,
     "start_time": "2022-10-19T05:20:58.067537",
     "status": "completed"
    },
    "tags": []
   },
   "outputs": [],
   "source": [
    "# Imports\n",
    "import os\n",
    "from IPython.display import Markdown, display\n",
    "from tqdm.notebook import tqdm\n",
    "import warnings\n",
    "from PIL import Image \n",
    "\n",
    "# requires arxiv_on_deck_2\n",
    "\n",
    "from arxiv_on_deck_2.arxiv2 import (get_new_papers, \n",
    "                                    get_paper_from_identifier,\n",
    "                                    retrieve_document_source, \n",
    "                                    get_markdown_badge)\n",
    "from arxiv_on_deck_2 import (latex, \n",
    "                             mpia,\n",
    "                             highlight_authors_in_list)\n",
    "\n",
    "# Sometimes images are really big\n",
    "Image.MAX_IMAGE_PIXELS = 1000000000 "
   ]
  },
  {
   "cell_type": "code",
   "execution_count": 2,
   "id": "22aa9d44",
   "metadata": {
    "execution": {
     "iopub.execute_input": "2022-10-19T05:20:58.249097Z",
     "iopub.status.busy": "2022-10-19T05:20:58.248859Z",
     "iopub.status.idle": "2022-10-19T05:20:58.254685Z",
     "shell.execute_reply": "2022-10-19T05:20:58.254097Z"
    },
    "papermill": {
     "duration": 0.012144,
     "end_time": "2022-10-19T05:20:58.256203",
     "exception": false,
     "start_time": "2022-10-19T05:20:58.244059",
     "status": "completed"
    },
    "tags": []
   },
   "outputs": [],
   "source": [
    "# Some useful definitions.\n",
    "\n",
    "class AffiliationWarning(UserWarning):\n",
    "    pass\n",
    "\n",
    "class AffiliationError(RuntimeError):\n",
    "    pass\n",
    "\n",
    "def validation(source: str):\n",
    "    \"\"\"Raises error paper during parsing of source file\n",
    "    \n",
    "    Allows checks before parsing TeX code.\n",
    "    \n",
    "    Raises AffiliationWarning\n",
    "    \"\"\"\n",
    "    check = mpia.affiliation_verifications(source, verbose=True)\n",
    "    if check is not True:\n",
    "        raise AffiliationError(\"mpia.affiliation_verifications: \" + check)\n",
    "\n",
    "        \n",
    "warnings.simplefilter('always', AffiliationWarning)"
   ]
  },
  {
   "cell_type": "code",
   "execution_count": 3,
   "id": "14622700",
   "metadata": {
    "execution": {
     "iopub.execute_input": "2022-10-19T05:20:58.266394Z",
     "iopub.status.busy": "2022-10-19T05:20:58.266150Z",
     "iopub.status.idle": "2022-10-19T05:20:58.269549Z",
     "shell.execute_reply": "2022-10-19T05:20:58.268948Z"
    },
    "papermill": {
     "duration": 0.010981,
     "end_time": "2022-10-19T05:20:58.271019",
     "exception": false,
     "start_time": "2022-10-19T05:20:58.260038",
     "status": "completed"
    },
    "tags": []
   },
   "outputs": [],
   "source": [
    "# additional CSS to consider. \n",
    "# TODO: Current into each exported file. \n",
    "#       This should be set once into the webpages directly.\n",
    "#       With only the class/id definitions in the .md files.\n",
    "\n",
    "debug_html = \"\"\"\n",
    "<style>\n",
    "#wrap{ overflow:auto; }\n",
    "#fig1{ background:yellow; width:100%; float:left; padding:5px;  }\n",
    "#fig2{ background:red; width:50%; float:left; clear:left; padding:5px;  }\n",
    "#fig3{ background:green; width:50%; float:left; padding:5px;   }\n",
    ".macros{ background:yellow; visibility:visible;}\n",
    "h1 {margin: 0 0 0 0;}\n",
    "mark {background-color:#fff3b6;}\n",
    "img {object-fit:contain; max-height:250px; display:inline-block; text-align: center;}\n",
    "</style>\n",
    "\"\"\" \n",
    "html = \"\"\"\n",
    "<style>\n",
    "#wrap{ overflow:auto; }\n",
    "#fig1{ width:100%; float:left; padding: 5px;  }\n",
    "#fig2{ width:50%; float:left; clear:left; padding: 5px;  }\n",
    "#fig3{ width:50%; float:left; padding: 5px;  }\n",
    ".macros{ visibility:hidden; height:0px; }\n",
    "h1 {margin: 0em 0 0 0;}\n",
    "mark {background-color:#fff3b6;}\n",
    "img {object-fit:contain; max-height:250px; display:inline-block; text-align: center;}\n",
    "</style>\n",
    "\"\"\""
   ]
  },
  {
   "cell_type": "markdown",
   "id": "14bd6310",
   "metadata": {
    "papermill": {
     "duration": 0.003855,
     "end_time": "2022-10-19T05:20:58.278714",
     "exception": false,
     "start_time": "2022-10-19T05:20:58.274859",
     "status": "completed"
    },
    "tags": []
   },
   "source": [
    "## get list of arxiv paper candidates\n",
    "\n",
    "We use the MPIA mitarbeiter list webpage from mpia.de to get author names\n",
    "We then get all new papers from Arxiv and match authors"
   ]
  },
  {
   "cell_type": "code",
   "execution_count": 4,
   "id": "2645e73a",
   "metadata": {
    "execution": {
     "iopub.execute_input": "2022-10-19T05:20:58.287803Z",
     "iopub.status.busy": "2022-10-19T05:20:58.287257Z",
     "iopub.status.idle": "2022-10-19T05:21:24.967414Z",
     "shell.execute_reply": "2022-10-19T05:21:24.966870Z"
    },
    "papermill": {
     "duration": 26.686471,
     "end_time": "2022-10-19T05:21:24.969070",
     "exception": false,
     "start_time": "2022-10-19T05:20:58.282599",
     "status": "completed"
    },
    "tags": []
   },
   "outputs": [
    {
     "name": "stdout",
     "output_type": "stream",
     "text": [
      "Arxiv has 73 new papers today\n",
      "          28 with possible author matches\n"
     ]
    }
   ],
   "source": [
    "# get list from MPIA website\n",
    "# it automatically filters identified non-scientists :func:`mpia.filter_non_scientists`\n",
    "mpia_authors = mpia.get_mpia_mitarbeiter_list()\n",
    "new_papers = get_new_papers()\n",
    "# add manual references\n",
    "add_paper_refs = []\n",
    "new_papers.extend([get_paper_from_identifier(k) for k in add_paper_refs])\n",
    "\n",
    "# select only papers with matching author names and highlight authors\n",
    "hl_list = [k[0] for k in mpia_authors]\n",
    "\n",
    "candidates = []\n",
    "for paperk in new_papers:\n",
    "    hl_authors = highlight_authors_in_list(paperk['authors'], hl_list)\n",
    "    matches = [(hl, orig) for hl, orig in zip(hl_authors, paperk['authors']) if 'mark' in hl]\n",
    "    paperk['authors'] = hl_authors\n",
    "    if matches:\n",
    "        candidates.append(paperk)\n",
    "print(\"\"\"Arxiv has {0:,d} new papers today\"\"\".format(len(new_papers)))        \n",
    "print(\"\"\"          {0:,d} with possible author matches\"\"\".format(len(candidates)))"
   ]
  },
  {
   "cell_type": "markdown",
   "id": "3543b34a",
   "metadata": {
    "papermill": {
     "duration": 0.005411,
     "end_time": "2022-10-19T05:21:24.983387",
     "exception": false,
     "start_time": "2022-10-19T05:21:24.977976",
     "status": "completed"
    },
    "tags": []
   },
   "source": [
    "# Parse sources and generate relevant outputs\n",
    "\n",
    "From the candidates, we do the following steps:\n",
    "* get their tarball from ArXiv (and extract data)\n",
    "* find the main .tex file: find one with \\documentclass{...} (sometimes it's non trivial)\n",
    "* Check affiliations with :func:`validation`, which uses :func:`mpia.affiliation_verifications`\n",
    "* If passing the affiliations: we parse the .tex source\n",
    "   * inject sub-documents into the main (flatten the main document)\n",
    "   * parse structure, extract information (title, abstract, authors, figures...)\n",
    "   * handles `\\graphicspath` if provided\n",
    "* Generate the .md document."
   ]
  },
  {
   "cell_type": "code",
   "execution_count": 5,
   "id": "9576b79e",
   "metadata": {
    "execution": {
     "iopub.execute_input": "2022-10-19T05:21:25.091919Z",
     "iopub.status.busy": "2022-10-19T05:21:25.090529Z",
     "iopub.status.idle": "2022-10-19T05:22:56.883560Z",
     "shell.execute_reply": "2022-10-19T05:22:56.882995Z"
    },
    "papermill": {
     "duration": 91.843603,
     "end_time": "2022-10-19T05:22:56.885165",
     "exception": false,
     "start_time": "2022-10-19T05:21:25.041562",
     "status": "completed"
    },
    "scrolled": false,
    "tags": []
   },
   "outputs": [
    {
     "data": {
      "application/vnd.jupyter.widget-view+json": {
       "model_id": "56ac7c02de05438fb75881bb85385286",
       "version_major": 2,
       "version_minor": 0
      },
      "text/plain": [
       "  0%|          | 0/27 [00:00<?, ?it/s]"
      ]
     },
     "metadata": {},
     "output_type": "display_data"
    },
    {
     "name": "stdout",
     "output_type": "stream",
     "text": [
      "Retrieving document from  https://arxiv.org/e-print/2210.09320\n"
     ]
    },
    {
     "name": "stdout",
     "output_type": "stream",
     "text": [
      "extracting tarball to tmp_2210.09320..."
     ]
    },
    {
     "name": "stdout",
     "output_type": "stream",
     "text": [
      " done.\n",
      "Retrieving document from  https://arxiv.org/e-print/2210.09322\n"
     ]
    },
    {
     "name": "stdout",
     "output_type": "stream",
     "text": [
      "extracting tarball to tmp_2210.09322..."
     ]
    },
    {
     "name": "stdout",
     "output_type": "stream",
     "text": [
      " done.\n",
      "Retrieving document from  https://arxiv.org/e-print/2210.09383\n"
     ]
    },
    {
     "name": "stderr",
     "output_type": "stream",
     "text": [
      "/opt/hostedtoolcache/Python/3.9.14/x64/lib/python3.9/site-packages/IPython/core/interactiveshell.py:3378: LatexWarning: Multiple tex files.\n",
      "\n",
      "  exec(code_obj, self.user_global_ns, self.user_ns)\n",
      "/opt/hostedtoolcache/Python/3.9.14/x64/lib/python3.9/site-packages/IPython/core/interactiveshell.py:3378: LatexWarning: Found documentclass in tmp_2210.09322/main.tex\n",
      "\n",
      "  exec(code_obj, self.user_global_ns, self.user_ns)\n",
      "/opt/hostedtoolcache/Python/3.9.14/x64/lib/python3.9/site-packages/arxiv_on_deck_2/latex.py:292: LatexWarning: Latex injecting: 'footnotes/nights' from 'tmp_2210.09322/footnotes/nights.tex'\n",
      "  warnings.warn(LatexWarning(f\"Latex injecting: '{ext}' from '{subsource}'\"))\n",
      "/opt/hostedtoolcache/Python/3.9.14/x64/lib/python3.9/site-packages/arxiv_on_deck_2/latex.py:292: LatexWarning: Latex injecting: 'papers' from 'tmp_2210.09322/papers.tex'\n",
      "  warnings.warn(LatexWarning(f\"Latex injecting: '{ext}' from '{subsource}'\"))\n",
      "/opt/hostedtoolcache/Python/3.9.14/x64/lib/python3.9/site-packages/arxiv_on_deck_2/latex.py:292: LatexWarning: Latex injecting: 'footnotes/gray' from 'tmp_2210.09322/footnotes/gray.tex'\n",
      "  warnings.warn(LatexWarning(f\"Latex injecting: '{ext}' from '{subsource}'\"))\n",
      "/opt/hostedtoolcache/Python/3.9.14/x64/lib/python3.9/site-packages/arxiv_on_deck_2/latex.py:292: LatexWarning: Latex injecting: 'phottbl' from 'tmp_2210.09322/phottbl.tex'\n",
      "  warnings.warn(LatexWarning(f\"Latex injecting: '{ext}' from '{subsource}'\"))\n",
      "/opt/hostedtoolcache/Python/3.9.14/x64/lib/python3.9/site-packages/arxiv_on_deck_2/latex.py:292: LatexWarning: Latex injecting: 'rmsthresh' from 'tmp_2210.09322/rmsthresh.tex'\n",
      "  warnings.warn(LatexWarning(f\"Latex injecting: '{ext}' from '{subsource}'\"))\n",
      "/opt/hostedtoolcache/Python/3.9.14/x64/lib/python3.9/site-packages/arxiv_on_deck_2/latex.py:292: LatexWarning: Latex injecting: 'footnotes/calspec' from 'tmp_2210.09322/footnotes/calspec.tex'\n",
      "  warnings.warn(LatexWarning(f\"Latex injecting: '{ext}' from '{subsource}'\"))\n",
      "/opt/hostedtoolcache/Python/3.9.14/x64/lib/python3.9/site-packages/arxiv_on_deck_2/latex.py:292: LatexWarning: Latex injecting: 'def' from 'tmp_2210.09322/def.tex'\n",
      "  warnings.warn(LatexWarning(f\"Latex injecting: '{ext}' from '{subsource}'\"))\n"
     ]
    },
    {
     "name": "stdout",
     "output_type": "stream",
     "text": [
      "extracting tarball to tmp_2210.09383..."
     ]
    },
    {
     "name": "stdout",
     "output_type": "stream",
     "text": [
      " done.\n",
      "Retrieving document from  https://arxiv.org/e-print/2210.09532\n"
     ]
    },
    {
     "name": "stderr",
     "output_type": "stream",
     "text": [
      "/opt/hostedtoolcache/Python/3.9.14/x64/lib/python3.9/site-packages/IPython/core/interactiveshell.py:3378: LatexWarning: Multiple tex files.\n",
      "\n",
      "  exec(code_obj, self.user_global_ns, self.user_ns)\n",
      "/opt/hostedtoolcache/Python/3.9.14/x64/lib/python3.9/site-packages/IPython/core/interactiveshell.py:3378: LatexWarning: Found documentclass in tmp_2210.09383/Kamphuis_HALOGAS_Accepted.tex\n",
      "\n",
      "  exec(code_obj, self.user_global_ns, self.user_ns)\n",
      "/opt/hostedtoolcache/Python/3.9.14/x64/lib/python3.9/site-packages/arxiv_on_deck_2/latex.py:292: LatexWarning: Latex injecting: 'Figures_App_New/Ind_sources_images.tex' from 'tmp_2210.09383/Figures_App_New/Ind_sources_images.tex'\n",
      "  warnings.warn(LatexWarning(f\"Latex injecting: '{ext}' from '{subsource}'\"))\n",
      "/opt/hostedtoolcache/Python/3.9.14/x64/lib/python3.9/site-packages/arxiv_on_deck_2/latex.py:292: LatexWarning: Latex injecting: 'Figures_App_New/Cloud_images.tex' from 'tmp_2210.09383/Figures_App_New/Cloud_images.tex'\n",
      "  warnings.warn(LatexWarning(f\"Latex injecting: '{ext}' from '{subsource}'\"))\n",
      "/opt/hostedtoolcache/Python/3.9.14/x64/lib/python3.9/site-packages/arxiv_on_deck_2/latex.py:292: LatexWarning: Latex injecting: 'Figures_App_New/Overview_images.tex' from 'tmp_2210.09383/Figures_App_New/Overview_images.tex'\n",
      "  warnings.warn(LatexWarning(f\"Latex injecting: '{ext}' from '{subsource}'\"))\n",
      "/opt/hostedtoolcache/Python/3.9.14/x64/lib/python3.9/site-packages/arxiv_on_deck_2/latex.py:292: LatexWarning: Latex injecting: 'sources_Table.tex' from 'tmp_2210.09383/sources_Table.tex'\n",
      "  warnings.warn(LatexWarning(f\"Latex injecting: '{ext}' from '{subsource}'\"))\n",
      "/opt/hostedtoolcache/Python/3.9.14/x64/lib/python3.9/site-packages/arxiv_on_deck_2/latex.py:292: LatexWarning: Latex injecting: 'Accretion_Upper_Final.tex' from 'tmp_2210.09383/Accretion_Upper_Final.tex'\n",
      "  warnings.warn(LatexWarning(f\"Latex injecting: '{ext}' from '{subsource}'\"))\n",
      "/opt/hostedtoolcache/Python/3.9.14/x64/lib/python3.9/site-packages/arxiv_on_deck_2/latex.py:292: LatexWarning: Latex injecting: 'Accretion_Companions.tex' from 'tmp_2210.09383/Accretion_Companions.tex'\n",
      "  warnings.warn(LatexWarning(f\"Latex injecting: '{ext}' from '{subsource}'\"))\n",
      "/opt/hostedtoolcache/Python/3.9.14/x64/lib/python3.9/site-packages/arxiv_on_deck_2/latex.py:292: LatexWarning: Latex injecting: 'Accretion_Clouds.tex' from 'tmp_2210.09383/Accretion_Clouds.tex'\n",
      "  warnings.warn(LatexWarning(f\"Latex injecting: '{ext}' from '{subsource}'\"))\n",
      "/opt/hostedtoolcache/Python/3.9.14/x64/lib/python3.9/site-packages/arxiv_on_deck_2/latex.py:292: LatexWarning: Latex injecting: 'Target_Table.tex' from 'tmp_2210.09383/Target_Table.tex'\n",
      "  warnings.warn(LatexWarning(f\"Latex injecting: '{ext}' from '{subsource}'\"))\n",
      "/opt/hostedtoolcache/Python/3.9.14/x64/lib/python3.9/site-packages/arxiv_on_deck_2/latex.py:292: LatexWarning: Latex injecting: 'Clouds_Table.tex' from 'tmp_2210.09383/Clouds_Table.tex'\n",
      "  warnings.warn(LatexWarning(f\"Latex injecting: '{ext}' from '{subsource}'\"))\n",
      "/opt/hostedtoolcache/Python/3.9.14/x64/lib/python3.9/site-packages/arxiv_on_deck_2/latex.py:292: LatexWarning: Latex injecting: 'Threshold_Table.tex' from 'tmp_2210.09383/Threshold_Table.tex'\n",
      "  warnings.warn(LatexWarning(f\"Latex injecting: '{ext}' from '{subsource}'\"))\n"
     ]
    },
    {
     "name": "stdout",
     "output_type": "stream",
     "text": [
      "extracting tarball to tmp_2210.09532..."
     ]
    },
    {
     "name": "stdout",
     "output_type": "stream",
     "text": [
      " done.\n",
      "Retrieving document from  https://arxiv.org/e-print/2210.09536\n"
     ]
    },
    {
     "name": "stdout",
     "output_type": "stream",
     "text": [
      "extracting tarball to tmp_2210.09536..."
     ]
    },
    {
     "name": "stdout",
     "output_type": "stream",
     "text": [
      " done.\n",
      "Retrieving document from  https://arxiv.org/e-print/2210.09591\n"
     ]
    },
    {
     "name": "stdout",
     "output_type": "stream",
     "text": [
      "extracting tarball to tmp_2210.09591... done.\n",
      "Retrieving document from  https://arxiv.org/e-print/2210.09592\n"
     ]
    },
    {
     "name": "stdout",
     "output_type": "stream",
     "text": [
      "extracting tarball to tmp_2210.09592..."
     ]
    },
    {
     "name": "stdout",
     "output_type": "stream",
     "text": [
      " done.\n",
      "Retrieving document from  https://arxiv.org/e-print/2210.09621\n"
     ]
    },
    {
     "name": "stdout",
     "output_type": "stream",
     "text": [
      "extracting tarball to tmp_2210.09621..."
     ]
    },
    {
     "name": "stdout",
     "output_type": "stream",
     "text": [
      " done.\n"
     ]
    },
    {
     "name": "stderr",
     "output_type": "stream",
     "text": [
      "/tmp/ipykernel_2273/4030337529.py:34: LatexWarning: 2210.09621 did not run properly\n",
      "[Errno 2] No such file or directory: 'gs'\n",
      "  warnings.warn(latex.LatexWarning(f\"{paper_id:s} did not run properly\\n\" +\n"
     ]
    },
    {
     "name": "stdout",
     "output_type": "stream",
     "text": [
      "Retrieving document from  https://arxiv.org/e-print/2210.09662\n"
     ]
    },
    {
     "name": "stdout",
     "output_type": "stream",
     "text": [
      "extracting tarball to tmp_2210.09662..."
     ]
    },
    {
     "name": "stdout",
     "output_type": "stream",
     "text": [
      " done.\n",
      "Retrieving document from  https://arxiv.org/e-print/2210.09697\n"
     ]
    },
    {
     "name": "stdout",
     "output_type": "stream",
     "text": [
      "extracting tarball to tmp_2210.09697..."
     ]
    },
    {
     "name": "stdout",
     "output_type": "stream",
     "text": [
      " done.\n",
      "Retrieving document from  https://arxiv.org/e-print/2210.09711\n"
     ]
    },
    {
     "name": "stdout",
     "output_type": "stream",
     "text": [
      "extracting tarball to tmp_2210.09711..."
     ]
    },
    {
     "name": "stdout",
     "output_type": "stream",
     "text": [
      " done.\n",
      "Retrieving document from  https://arxiv.org/e-print/2210.09713\n"
     ]
    },
    {
     "name": "stderr",
     "output_type": "stream",
     "text": [
      "/opt/hostedtoolcache/Python/3.9.14/x64/lib/python3.9/site-packages/IPython/core/interactiveshell.py:3378: LatexWarning: Multiple tex files.\n",
      "\n",
      "  exec(code_obj, self.user_global_ns, self.user_ns)\n",
      "/opt/hostedtoolcache/Python/3.9.14/x64/lib/python3.9/site-packages/IPython/core/interactiveshell.py:3378: LatexWarning: Found documentclass in tmp_2210.09711/main.tex\n",
      "\n",
      "  exec(code_obj, self.user_global_ns, self.user_ns)\n",
      "/opt/hostedtoolcache/Python/3.9.14/x64/lib/python3.9/site-packages/arxiv_on_deck_2/latex.py:292: LatexWarning: Latex injecting: 'acknowledgements.tex' from 'tmp_2210.09711/acknowledgements.tex'\n",
      "  warnings.warn(LatexWarning(f\"Latex injecting: '{ext}' from '{subsource}'\"))\n",
      "/opt/hostedtoolcache/Python/3.9.14/x64/lib/python3.9/site-packages/arxiv_on_deck_2/latex.py:292: LatexWarning: Latex injecting: 'conclusion.tex' from 'tmp_2210.09711/conclusion.tex'\n",
      "  warnings.warn(LatexWarning(f\"Latex injecting: '{ext}' from '{subsource}'\"))\n",
      "/opt/hostedtoolcache/Python/3.9.14/x64/lib/python3.9/site-packages/arxiv_on_deck_2/latex.py:292: LatexWarning: Latex injecting: 'results.tex' from 'tmp_2210.09711/results.tex'\n",
      "  warnings.warn(LatexWarning(f\"Latex injecting: '{ext}' from '{subsource}'\"))\n",
      "/opt/hostedtoolcache/Python/3.9.14/x64/lib/python3.9/site-packages/arxiv_on_deck_2/latex.py:292: LatexWarning: Latex injecting: 'simulation.tex' from 'tmp_2210.09711/simulation.tex'\n",
      "  warnings.warn(LatexWarning(f\"Latex injecting: '{ext}' from '{subsource}'\"))\n",
      "/opt/hostedtoolcache/Python/3.9.14/x64/lib/python3.9/site-packages/arxiv_on_deck_2/latex.py:292: LatexWarning: Latex injecting: 'filter-intro.tex' from 'tmp_2210.09711/filter-intro.tex'\n",
      "  warnings.warn(LatexWarning(f\"Latex injecting: '{ext}' from '{subsource}'\"))\n",
      "/opt/hostedtoolcache/Python/3.9.14/x64/lib/python3.9/site-packages/arxiv_on_deck_2/latex.py:292: LatexWarning: Latex injecting: 'atm-review.tex' from 'tmp_2210.09711/atm-review.tex'\n",
      "  warnings.warn(LatexWarning(f\"Latex injecting: '{ext}' from '{subsource}'\"))\n",
      "/opt/hostedtoolcache/Python/3.9.14/x64/lib/python3.9/site-packages/arxiv_on_deck_2/latex.py:292: LatexWarning: Latex injecting: 'introduction.tex' from 'tmp_2210.09711/introduction.tex'\n",
      "  warnings.warn(LatexWarning(f\"Latex injecting: '{ext}' from '{subsource}'\"))\n",
      "/opt/hostedtoolcache/Python/3.9.14/x64/lib/python3.9/site-packages/arxiv_on_deck_2/latex.py:292: LatexWarning: Latex injecting: 'abstract.tex' from 'tmp_2210.09711/abstract.tex'\n",
      "  warnings.warn(LatexWarning(f\"Latex injecting: '{ext}' from '{subsource}'\"))\n",
      "/opt/hostedtoolcache/Python/3.9.14/x64/lib/python3.9/site-packages/arxiv_on_deck_2/latex.py:292: LatexWarning: Latex injecting: 'authors.tex' from 'tmp_2210.09711/authors.tex'\n",
      "  warnings.warn(LatexWarning(f\"Latex injecting: '{ext}' from '{subsource}'\"))\n"
     ]
    },
    {
     "name": "stdout",
     "output_type": "stream",
     "text": [
      "extracting tarball to tmp_2210.09713..."
     ]
    },
    {
     "name": "stdout",
     "output_type": "stream",
     "text": [
      " done.\n",
      "Retrieving document from  https://arxiv.org/e-print/2210.09737\n"
     ]
    },
    {
     "name": "stdout",
     "output_type": "stream",
     "text": [
      "extracting tarball to tmp_2210.09737... done.\n",
      "Retrieving document from  https://arxiv.org/e-print/2210.09776\n"
     ]
    },
    {
     "name": "stdout",
     "output_type": "stream",
     "text": [
      "extracting tarball to tmp_2210.09776..."
     ]
    },
    {
     "name": "stdout",
     "output_type": "stream",
     "text": [
      " done.\n",
      "Retrieving document from  https://arxiv.org/e-print/2210.09797\n"
     ]
    },
    {
     "name": "stdout",
     "output_type": "stream",
     "text": [
      "extracting tarball to tmp_2210.09797..."
     ]
    },
    {
     "name": "stdout",
     "output_type": "stream",
     "text": [
      " done.\n",
      "Retrieving document from  https://arxiv.org/e-print/2210.09856\n"
     ]
    },
    {
     "name": "stdout",
     "output_type": "stream",
     "text": [
      "extracting tarball to tmp_2210.09856..."
     ]
    },
    {
     "name": "stdout",
     "output_type": "stream",
     "text": [
      " done.\n",
      "Retrieving document from  https://arxiv.org/e-print/2210.09865\n"
     ]
    },
    {
     "name": "stdout",
     "output_type": "stream",
     "text": [
      "extracting tarball to tmp_2210.09865..."
     ]
    },
    {
     "name": "stdout",
     "output_type": "stream",
     "text": [
      " done.\n",
      "Retrieving document from  https://arxiv.org/e-print/2210.09888\n"
     ]
    },
    {
     "name": "stdout",
     "output_type": "stream",
     "text": [
      "extracting tarball to tmp_2210.09888..."
     ]
    },
    {
     "name": "stdout",
     "output_type": "stream",
     "text": [
      " done.\n",
      "Retrieving document from  https://arxiv.org/e-print/2210.09892\n"
     ]
    },
    {
     "name": "stdout",
     "output_type": "stream",
     "text": [
      "extracting tarball to tmp_2210.09892..."
     ]
    },
    {
     "name": "stdout",
     "output_type": "stream",
     "text": [
      " done.\n",
      "Retrieving document from  https://arxiv.org/e-print/2210.09895\n"
     ]
    },
    {
     "name": "stderr",
     "output_type": "stream",
     "text": [
      "/opt/hostedtoolcache/Python/3.9.14/x64/lib/python3.9/site-packages/IPython/core/interactiveshell.py:3378: LatexWarning: Multiple tex files.\n",
      "\n",
      "  exec(code_obj, self.user_global_ns, self.user_ns)\n",
      "/opt/hostedtoolcache/Python/3.9.14/x64/lib/python3.9/site-packages/IPython/core/interactiveshell.py:3378: LatexWarning: Found documentclass in tmp_2210.09892/gw.tex\n",
      "\n",
      "  exec(code_obj, self.user_global_ns, self.user_ns)\n"
     ]
    },
    {
     "name": "stdout",
     "output_type": "stream",
     "text": [
      "extracting tarball to tmp_2210.09895..."
     ]
    },
    {
     "name": "stdout",
     "output_type": "stream",
     "text": [
      " done.\n",
      "Retrieving document from  https://arxiv.org/e-print/2210.09930\n"
     ]
    },
    {
     "name": "stderr",
     "output_type": "stream",
     "text": [
      "/opt/hostedtoolcache/Python/3.9.14/x64/lib/python3.9/site-packages/IPython/core/interactiveshell.py:3378: LatexWarning: Multiple tex files.\n",
      "\n",
      "  exec(code_obj, self.user_global_ns, self.user_ns)\n",
      "/opt/hostedtoolcache/Python/3.9.14/x64/lib/python3.9/site-packages/IPython/core/interactiveshell.py:3378: LatexWarning: Found documentclass in tmp_2210.09895/main.tex\n",
      "\n",
      "  exec(code_obj, self.user_global_ns, self.user_ns)\n"
     ]
    },
    {
     "name": "stdout",
     "output_type": "stream",
     "text": [
      "extracting tarball to tmp_2210.09930... done.\n"
     ]
    },
    {
     "name": "stdout",
     "output_type": "stream",
     "text": [
      "Retrieving document from  https://arxiv.org/e-print/2210.09945\n"
     ]
    },
    {
     "name": "stdout",
     "output_type": "stream",
     "text": [
      "extracting tarball to tmp_2210.09945..."
     ]
    },
    {
     "name": "stdout",
     "output_type": "stream",
     "text": [
      " done.\n",
      "Retrieving document from  https://arxiv.org/e-print/2210.09952\n"
     ]
    },
    {
     "name": "stdout",
     "output_type": "stream",
     "text": [
      "extracting tarball to tmp_2210.09952..."
     ]
    },
    {
     "name": "stdout",
     "output_type": "stream",
     "text": [
      " done.\n",
      "Retrieving document from  https://arxiv.org/e-print/2210.09965\n"
     ]
    },
    {
     "name": "stdout",
     "output_type": "stream",
     "text": [
      "extracting tarball to tmp_2210.09965..."
     ]
    },
    {
     "name": "stdout",
     "output_type": "stream",
     "text": [
      " done.\n",
      "Retrieving document from  https://arxiv.org/e-print/2210.09987\n"
     ]
    },
    {
     "name": "stdout",
     "output_type": "stream",
     "text": [
      "extracting tarball to tmp_2210.09987..."
     ]
    },
    {
     "name": "stdout",
     "output_type": "stream",
     "text": [
      " done.\n",
      "Retrieving document from  https://arxiv.org/e-print/2210.10008\n"
     ]
    },
    {
     "name": "stderr",
     "output_type": "stream",
     "text": [
      "/opt/hostedtoolcache/Python/3.9.14/x64/lib/python3.9/site-packages/IPython/core/interactiveshell.py:3378: LatexWarning: Multiple tex files.\n",
      "\n",
      "  exec(code_obj, self.user_global_ns, self.user_ns)\n",
      "/opt/hostedtoolcache/Python/3.9.14/x64/lib/python3.9/site-packages/IPython/core/interactiveshell.py:3378: LatexWarning: Found documentclass in tmp_2210.09987/ms.tex\n",
      "\n",
      "  exec(code_obj, self.user_global_ns, self.user_ns)\n"
     ]
    },
    {
     "name": "stdout",
     "output_type": "stream",
     "text": [
      "extracting tarball to tmp_2210.10008..."
     ]
    },
    {
     "name": "stdout",
     "output_type": "stream",
     "text": [
      " done.\n"
     ]
    },
    {
     "name": "stderr",
     "output_type": "stream",
     "text": [
      "/opt/hostedtoolcache/Python/3.9.14/x64/lib/python3.9/site-packages/IPython/core/interactiveshell.py:3378: LatexWarning: Multiple tex files.\n",
      "\n",
      "  exec(code_obj, self.user_global_ns, self.user_ns)\n",
      "/opt/hostedtoolcache/Python/3.9.14/x64/lib/python3.9/site-packages/IPython/core/interactiveshell.py:3378: LatexWarning: Found documentclass in tmp_2210.10008/retrieval.tex\n",
      "\n",
      "  exec(code_obj, self.user_global_ns, self.user_ns)\n"
     ]
    },
    {
     "name": "stderr",
     "output_type": "stream",
     "text": [
      "/opt/hostedtoolcache/Python/3.9.14/x64/lib/python3.9/site-packages/arxiv_on_deck_2/latex.py:118: LatexWarning: attempting recovering figure images/white_lc_fit.pdf\n",
      "  warnings.warn(LatexWarning(f'attempting recovering figure {image}'))\n",
      "/tmp/ipykernel_2273/4030337529.py:34: LatexWarning: 2210.10008 did not run properly\n",
      "Could not find figure images/white_lc_fit.pdf\n",
      "  warnings.warn(latex.LatexWarning(f\"{paper_id:s} did not run properly\\n\" +\n"
     ]
    },
    {
     "name": "stdout",
     "output_type": "stream",
     "text": [
      "Retrieving document from  https://arxiv.org/e-print/2210.10023\n"
     ]
    },
    {
     "name": "stdout",
     "output_type": "stream",
     "text": [
      "extracting tarball to tmp_2210.10023..."
     ]
    },
    {
     "name": "stdout",
     "output_type": "stream",
     "text": [
      " done.\n"
     ]
    }
   ],
   "source": [
    "documents = []\n",
    "failed = []\n",
    "for paper in tqdm(candidates[:-1]):\n",
    "    paper_id = paper['identifier'].lower().replace('arxiv:', '')\n",
    "    \n",
    "    folder = f'tmp_{paper_id}'\n",
    "\n",
    "    try:\n",
    "        if not os.path.isdir(folder):\n",
    "            folder = retrieve_document_source(f\"{paper_id}\", f'tmp_{paper_id}')\n",
    "        \n",
    "        try:\n",
    "            doc = latex.LatexDocument(folder, validation=validation)    \n",
    "        except AffiliationError as affilerror:\n",
    "            msg = f\"ArXiv:{paper_id:s} is not an MPIA paper... \" + str(affilerror)\n",
    "            failed.append((paper, \"affiliation error: \" + str(affilerror) ))\n",
    "            continue\n",
    "        \n",
    "        # Hack because sometimes author parsing does not work well\n",
    "        if (len(doc.authors) != len(paper['authors'])):\n",
    "            doc._authors = paper['authors']\n",
    "        if (doc.abstract) in (None, ''):\n",
    "            doc._abstract = paper['abstract']\n",
    "            \n",
    "        doc.comment = (get_markdown_badge(paper_id) + \n",
    "                       \"<mark>Appeared on: \" + paper['date'] + \"</mark> - \" +\n",
    "                       \"_\" + paper['comments'] + \"_\")\n",
    "        doc.highlight_authors_in_list(hl_list)\n",
    "\n",
    "        full_md = doc.generate_markdown_text()\n",
    "        \n",
    "        documents.append((paper_id, full_md))\n",
    "    except Exception as e:\n",
    "        warnings.warn(latex.LatexWarning(f\"{paper_id:s} did not run properly\\n\" +\n",
    "                                         str(e)\n",
    "                                        ))\n",
    "        failed.append((paper, \"latex error \" + str(e)))"
   ]
  },
  {
   "cell_type": "markdown",
   "id": "2505a25c",
   "metadata": {
    "papermill": {
     "duration": 0.007306,
     "end_time": "2022-10-19T05:22:56.899914",
     "exception": false,
     "start_time": "2022-10-19T05:22:56.892608",
     "status": "completed"
    },
    "tags": []
   },
   "source": [
    "### Export the logs\n",
    "\n",
    "Throughout, we also keep track of the logs per paper. see `logs-{today date}.md` "
   ]
  },
  {
   "cell_type": "code",
   "execution_count": 6,
   "id": "d733828a",
   "metadata": {
    "execution": {
     "iopub.execute_input": "2022-10-19T05:22:56.916119Z",
     "iopub.status.busy": "2022-10-19T05:22:56.915397Z",
     "iopub.status.idle": "2022-10-19T05:22:56.949399Z",
     "shell.execute_reply": "2022-10-19T05:22:56.948616Z"
    },
    "papermill": {
     "duration": 0.043911,
     "end_time": "2022-10-19T05:22:56.950972",
     "exception": false,
     "start_time": "2022-10-19T05:22:56.907061",
     "status": "completed"
    },
    "scrolled": false,
    "tags": []
   },
   "outputs": [
    {
     "data": {
      "text/markdown": [
       "## Successful papers"
      ],
      "text/plain": [
       "<IPython.core.display.Markdown object>"
      ]
     },
     "metadata": {},
     "output_type": "display_data"
    },
    {
     "data": {
      "text/markdown": [
       "\n",
       "|||\n",
       "|---:|:---|\n",
       "| [![arXiv](https://img.shields.io/badge/arXiv-arXiv:2210.09930-b31b1b.svg)](https://arxiv.org/abs/arXiv:2210.09930) | **An Intermediate-field Fast Radio Burst Model and the Quasi-periodic  Oscillation**  |\n",
       "|| Jie-Shuang Wang, <mark>Xinyu Li</mark>, Zigao Dai, Xuefeng Wu |\n",
       "|*Appeared on*| *2022-10-19*|\n",
       "|*Comments*| *5 pages, 1 figure, submitted. Comments welcome!*|\n",
       "|**Abstract**| Quasi-periodic oscillation (QPO) signals are discovered in some fast radio bursts (FRBs) such as FRB 20191221A, as well as in the X-ray burst associated with the galactic FRB from SGR 1935+2154. We revisit the intermediate-field FRB model where the radio waves are generated as fast-magnetosonic waves through magnetic reconnection near the light cylinder. The current sheet in the magnetar wind is compressed by a low frequency pulse emitted from the inner magnetosphere to trigger magnetic reconnection. By incorporating the wave dynamics of the magnetosphere, we demonstrate how the FRB frequency, the single pulse width, and luminosity are determined by the period, magnetic field, QPO frequency and quake energetics of the magnetar. We find that this model can naturally and self-consistently interpret the X-ray/radio event from SGR 1935+2154 and the QPO in FRB 20191221A. It can also explain the observed wide energy range of repeating FRBs in a narrow bandwidth. |"
      ],
      "text/plain": [
       "[arXiv:2210.09930] An Intermediate-field Fast Radio Burst Model and the Quasi-periodic  Oscillation\n",
       "\tJie-Shuang Wang, <mark>Xinyu Li</mark>, Zigao Dai, Xuefeng Wu"
      ]
     },
     "metadata": {},
     "output_type": "display_data"
    },
    {
     "data": {
      "text/markdown": [
       "## Failed papers"
      ],
      "text/plain": [
       "<IPython.core.display.Markdown object>"
      ]
     },
     "metadata": {},
     "output_type": "display_data"
    },
    {
     "data": {
      "text/markdown": [
       "\n",
       "|||\n",
       "|---:|:---|\n",
       "| [![arXiv](https://img.shields.io/badge/arXiv-arXiv:2210.09536-b31b1b.svg)](https://arxiv.org/abs/arXiv:2210.09536) | **A search for relativistic ejecta in a sample of ZTF broad-lined Type Ic  supernovae**  |\n",
       "|| Alessandra Corsi, et al. -- incl., <mark>Frank J. Masci</mark> |\n",
       "|*Appeared on*| *2022-10-19*|\n",
       "|*Comments*| *28 pages, 11 figures, submitted to AAS journal*|\n",
       "|**Abstract**| The dividing line between gamma-ray bursts (GRBs) and ordinary stripped-envelope core-collapse supernovae (SNe) is yet to be fully understood. Observationally mapping the variety of ejecta outcomes (ultra-relativistic, mildly-relativistic or non-relativistic) in SNe of Type Ic with broad lines (Ic-BL) can provide a key test to stellar explosion models. However, this requires large samples of the rare Ic-BL events with follow-up observations in the radio, where fast ejecta can be probed largely free of geometry and viewing angle effects. Here, we present the results of a radio (and X-ray) follow-up campaign of 16 SNe Ic-BL detected by the Zwicky Transient Facility (ZTF). Our radio campaign resulted in 4 counterpart detections and 12 deep upper limits. None of the events in our sample is as relativistic as SN 1998bw and we constrain the fraction of SN 1998bw-like explosions to $< 19\\%$ (3$\\sigma$ Gaussian equivalent), a factor of $\\approx 2$ smaller than previously established. We exclude relativistic ejecta with radio luminosity densities in between $\\approx 5\\times10^{27}$ erg s$^{-1}$ Hz$^{-1}$ and $\\approx 10^{29}$ erg s$^{-1}$ Hz$^{-1}$ at $t\\gtrsim 20$ d since explosion for $\\approx 60\\%$ of the events in our sample. This shows that SNe Ic-BL similar to the GRB-associated SN 1998bw, SN 2003lw, SN 2010dh, or to the relativistic SN 2009bb and iPTF17cw, are rare. Our results also exclude an association of the SNe Ic-BL in our sample with largely off-axis GRBs with energies $E\\gtrsim 10^{50}$ erg. The parameter space of SN2006aj-like events (faint and fast-peaking radio emission) is, on the other hand, left largely unconstrained and systematically exploring it represents a promising line of future research. |\n",
       "|<p style=\"color:green\"> **ERROR** </p>| <p style=\"color:green\">affiliation error: mpia.affiliation_verifications: '69117' keyword not found.</p> |"
      ],
      "text/plain": [
       "<IPython.core.display.Markdown object>"
      ]
     },
     "metadata": {},
     "output_type": "display_data"
    },
    {
     "data": {
      "text/markdown": [
       "\n",
       "|||\n",
       "|---:|:---|\n",
       "| [![arXiv](https://img.shields.io/badge/arXiv-arXiv:2210.09320-b31b1b.svg)](https://arxiv.org/abs/arXiv:2210.09320) | **Stellar feedback-regulated black hole growth: driving factors from  nuclear to halo scales**  |\n",
       "|| <mark>Lindsey Byrne</mark>, et al. |\n",
       "|*Appeared on*| *2022-10-19*|\n",
       "|*Comments*| *21 pages, 9 figures, submitted to MNRAS*|\n",
       "|**Abstract**| Several recent simulations of galaxy formation predict two main phases of supermassive black hole (BH) accretion: an early, highly intermittent phase (during which BHs are under-massive relative to local scaling relations), followed by a phase of accelerated growth. We investigate physical factors that drive the transition in BH accretion in cosmological zoom-in simulations from the FIRE project, ranging from dwarf galaxies to galaxies sufficiently massive to host luminous quasars. The simulations model multi-channel stellar feedback, but neglect AGN feedback. We show that multiple physical properties, including halo mass, galaxy stellar mass, and depth of the central gravitational potential correlate with accelerated BH fueling: constant thresholds in these properties are typically crossed within ~0.1 Hubble time of accelerated BH fueling. Black hole masses increase sharply when the stellar surface density in the inner 1 kpc crosses a threshold Sigma1 ~ 10^9.5 Msun/kpc^2, a characteristic value above which gravity prevents stellar feedback from ejecting gas, and similar to the value above which galaxies are observed to quench. We further show that accelerated BH growth correlates with the emergence of long-lived, thin gas disks, as well as with virialization of the inner circumgalactic medium. The halo mass Mh ~ 10^12 Msun and stellar mass Mstar ~ 10^10.5 Msun at which BH growth accelerates correspond to ~L* galaxies. The fact that stellar feedback becomes inefficient at ejecting gas from the nucleus above this mass scale may play an important role in explaining why AGN feedback appears to be most important in galaxies above ~L*. |\n",
       "|<p style=\"color:green\"> **ERROR** </p>| <p style=\"color:green\">affiliation error: mpia.affiliation_verifications: 'Heidelberg' keyword not found.</p> |"
      ],
      "text/plain": [
       "<IPython.core.display.Markdown object>"
      ]
     },
     "metadata": {},
     "output_type": "display_data"
    },
    {
     "data": {
      "text/markdown": [
       "\n",
       "|||\n",
       "|---:|:---|\n",
       "| [![arXiv](https://img.shields.io/badge/arXiv-arXiv:2210.09322-b31b1b.svg)](https://arxiv.org/abs/arXiv:2210.09322) | **The Spectroscopic Classification of Astronomical Transients (SCAT)  Survey: Overview, Pipeline Description, Initial Results, and Future Plans**  |\n",
       "|| M. A. Tucker, et al. -- incl., <mark>M. E. Huber</mark>, <mark>T. de Jaeger</mark> |\n",
       "|*Appeared on*| *2022-10-19*|\n",
       "|*Comments*| *12 pages, 9 figures, 2 tables. Submitted to PASP*|\n",
       "|**Abstract**| We present the Spectroscopic Classification of Astronomical Transients (SCAT) survey, which is dedicated to spectrophotometric observations of transient objects such as supernovae and tidal disruption events. SCAT uses the SuperNova Integral-Field Spectrograph (SNIFS) on the University of Hawai'i 2.2-meter (UH2.2m) telescope. SNIFS was designed specifically for accurate transient spectrophotometry, including absolute flux calibration and host-galaxy removal. We describe the data reduction and calibration pipeline including spectral extraction, telluric correction, atmospheric characterization, nightly photometricity, and spectrophotometric precision. We achieve $\\lesssim 5\\%$ spectrophotometry across the full optical wavelength range ($3500-9000~\\r{A}$) under photometric conditions. The inclusion of photometry from the SNIFS multi-filter mosaic imager allows for decent spectrophotometric calibration ($10-20\\%$) even under unfavorable weather/atmospheric conditions. SCAT obtained $\\approx 650$ spectra of transients over the first 3 years of operations, including supernovae of all types, active galactic nuclei, cataclysmic variables, and rare transients such as superluminous supernovae and tidal disruption events. These observations will provide the community with benchmark spectrophotometry to constrain the next generation of hydrodynamic and radiative transfer models. |\n",
       "|<p style=\"color:green\"> **ERROR** </p>| <p style=\"color:green\">affiliation error: mpia.affiliation_verifications: 'Heidelberg' keyword not found.</p> |"
      ],
      "text/plain": [
       "<IPython.core.display.Markdown object>"
      ]
     },
     "metadata": {},
     "output_type": "display_data"
    },
    {
     "data": {
      "text/markdown": [
       "\n",
       "|||\n",
       "|---:|:---|\n",
       "| [![arXiv](https://img.shields.io/badge/arXiv-arXiv:2210.09383-b31b1b.svg)](https://arxiv.org/abs/arXiv:2210.09383) | **HALOGAS: Strong Constraints on the Neutral Gas Reservoir and Accretion  Rate in Nearby Spiral Galaxies**  |\n",
       "|| P. Kamphuis, et al. -- incl., <mark>G. H. Heald</mark>, <mark>N. Herrera Ruiz</mark>, <mark>R. A. M. Walterbos</mark> |\n",
       "|*Appeared on*| *2022-10-19*|\n",
       "|*Comments*| *Accepted for publication in Astronomy & Astrophysics section 4. Extragalactic astronomy. Data available at this https URL*|\n",
       "|**Abstract**| Galaxies in the local Universe are thought to require ongoing replenishment of their gas reservoir in order to maintain the observed star formation rates. Cosmological simulations predict that such accretion can occur in both a dynamically hot and cold mode. However, until now observational evidence of the accretion required to match the observed star formation histories is lacking. This paper attempts to determine whether galaxies in the local Universe possess a significant reservoir of HI and what would be the accretion rates derived from such reservoirs. We search the vicinity of 22 nearby galaxies for isolated HI clouds or distinct streams in a systematic and automated manner. The HALOGAS observations represent one of the most sensitive and detailed HI surveys to date. These observations typically reach column density sensitivities of 10^19 cm^-2 over a 20 km/s width. We find 14 secure HI cloud candidates without an observed optical counterpart. These cloud candidates appear to be analogues to the most massive clouds detected around the Milky Way and M31. However, on average their numbers seem significantly reduced. We constrain upper limits for HI accretion in the local Universe. The average HI mass currently observed amounts to a rate of 0.05 Msun/yr with a stringent upper limit of 0.22 Msun/yr, confirming previous estimates. This is much lower than the average star formation rate in this sample. Our best estimate, based on GBT detection limits of several galaxies, suggests that another 0.04 Msun/yr could be accreted from undetected clouds and streams. These results show that in nearby galaxies HI is not being accreted at the same rate as stars are currently being formed. Our study can not exclude that other forms of gas accretion are at work. However, these observations also do not reveal extended neutral gas reservoirs around most nearby spiral galaxies. |\n",
       "|<p style=\"color:green\"> **ERROR** </p>| <p style=\"color:green\">affiliation error: mpia.affiliation_verifications: 'Heidelberg' keyword not found.</p> |"
      ],
      "text/plain": [
       "<IPython.core.display.Markdown object>"
      ]
     },
     "metadata": {},
     "output_type": "display_data"
    },
    {
     "data": {
      "text/markdown": [
       "\n",
       "|||\n",
       "|---:|:---|\n",
       "| [![arXiv](https://img.shields.io/badge/arXiv-arXiv:2210.09532-b31b1b.svg)](https://arxiv.org/abs/arXiv:2210.09532) | **HI-shielding of ${\\rm H_2}$ in UV-irradiated protogalaxies: suppression  of the photodissociation rate**  |\n",
       "|| Meredith Neyer, <mark>Jemma Wolcott-Green</mark> |\n",
       "|*Appeared on*| *2022-10-19*|\n",
       "|*Comments*| *6 pages, 4 figures*|\n",
       "|**Abstract**| We study the impact of neutral hydrogen absorption on ${\\rm H_2}$ photodissociation in protogalactic haloes exposed to soft-UV radiation. Lyman-series absorption can significantly deplete dissociating photons as line overlap with the ${\\rm H_2}$ Lyman-Werner bands occurs for neutral column densities exceeding $10^{22}$ ${\\rm cm^{-2}}$, but this effect has not been previously included in studies of protogalactic haloes. We use high-resolution three-dimensional hydrodynamic simulations to investigate this \"HI-shielding\" in three metal-free atomic cooling haloes collapsing at redshift $z \\sim 10-20$. We use CLOUDY modeling to update a previous fitting formula for HI-shielding which is a better model for shielding of non-ground state ${\\rm H_2}$ rovibrational populations and implement the new fit in our simulations. We find that the inclusion of HI-shielding increases the \"critical flux\" for suppression of ${\\rm H_2}$ cooling in these haloes by $\\sim 60-100$ per cent. The larger critical flux has implications in particular for the predicted numbers of candidate haloes in which \"direct collapse\" could seed massive ($\\sim 10^5$ ${\\rm M_\\odot}$) black holes at $z \\sim 15$. |\n",
       "|<p style=\"color:green\"> **ERROR** </p>| <p style=\"color:green\">affiliation error: mpia.affiliation_verifications: 'Heidelberg' keyword not found.</p> |"
      ],
      "text/plain": [
       "<IPython.core.display.Markdown object>"
      ]
     },
     "metadata": {},
     "output_type": "display_data"
    },
    {
     "data": {
      "text/markdown": [
       "\n",
       "|||\n",
       "|---:|:---|\n",
       "| [![arXiv](https://img.shields.io/badge/arXiv-arXiv:2210.09591-b31b1b.svg)](https://arxiv.org/abs/arXiv:2210.09591) | **Evidence of fresh cosmic ray in galactic plane based on DAMPE  measurement of B/C and B/O ratios**  |\n",
       "|| <mark>Pei-Pei Zhang</mark>, <mark>Xin-Yu He</mark>, <mark>Wei Liu</mark>, <mark>Yi-Qing Guo</mark> |\n",
       "|*Appeared on*| *2022-10-19*|\n",
       "|*Comments*| *13 pages, 4 figures*|\n",
       "|**Abstract**| More and more experiments have identified that the energy spectra of both primary and secondary cosmic-rays exhibit a hardening above $\\sim 200$ GV. Most recently, the DAMPE experiment has reported a hardening of boron-to-carbon ratio at $200$ GV. These signs call for modifications of the conventional cosmic-ray (CR) picture. In this work, we propose that the plethoric secondary cosmic rays, for example, boron, antiprotons, originate from the hadronic interactions of freshly accelerated cosmic rays with the interstellar gas near the sources. We find that secondary-to-primary ratios, for example, boron-to-carbon, boron-to-oxygen and antiproton-to-proton ratios, could be well described. The measurements of electrons and positrons could also be accounted for. |\n",
       "|<p style=\"color:green\"> **ERROR** </p>| <p style=\"color:green\">affiliation error: mpia.affiliation_verifications: 'Heidelberg' keyword not found.</p> |"
      ],
      "text/plain": [
       "<IPython.core.display.Markdown object>"
      ]
     },
     "metadata": {},
     "output_type": "display_data"
    },
    {
     "data": {
      "text/markdown": [
       "\n",
       "|||\n",
       "|---:|:---|\n",
       "| [![arXiv](https://img.shields.io/badge/arXiv-arXiv:2210.09592-b31b1b.svg)](https://arxiv.org/abs/arXiv:2210.09592) | **Search for continuous gravitational waves from HESS~J1427-608 with a  hidden Markov model**  |\n",
       "|| Deeksha Beniwal, et al. -- incl., <mark>Liam Dunn</mark> |\n",
       "|*Appeared on*| *2022-10-19*|\n",
       "|*Comments*| *16 pages, 7 figures*|\n",
       "|**Abstract**| We present a search for continuous gravitational wave signals from an unidentified pulsar potentially powering HESS J1427-608, a spatially-unresolved TeV point source detected by the High Energy Stereoscopic System (H.E.S.S). The search uses a semi-coherent algorithm, which combines the maximum likelihood $\\mathcal{F}-$statistic with a hidden Markov Model to efficiently detect and track quasi-monochromatic signals that wander randomly in frequency. It uses data from the second observing run of the Advanced Laser Interferometer Gravitational-Wave Observatory. Multi-wavelength observations of the H.E.S.S. source are combined with the proprieties of the population of TeV-bright pulsar wind nebulae to constrain the search parameters. We find no evidence of gravitational-wave emission from this target. We set upper limits on the characteristic wave strain $h_0^{95\\%}$ (for circularly-polarised signals) at $95\\%$ confidence level in sample sub-bands and interpolate it to estimate the sensitivity in the full band. We find $h_0^{95\\%} = 1.3\\times 10^{-25}$ near 185~Hz. The implied constraints on the ellipticity and r-mode amplitude reach $\\epsilon\\leq 10^{-5}$ and $\\alpha \\leq 10^{-3}$ at 200~Hz, respectively. |\n",
       "|<p style=\"color:green\"> **ERROR** </p>| <p style=\"color:green\">affiliation error: mpia.affiliation_verifications: 'Heidelberg' keyword not found.</p> |"
      ],
      "text/plain": [
       "<IPython.core.display.Markdown object>"
      ]
     },
     "metadata": {},
     "output_type": "display_data"
    },
    {
     "data": {
      "text/markdown": [
       "\n",
       "|||\n",
       "|---:|:---|\n",
       "| [![arXiv](https://img.shields.io/badge/arXiv-arXiv:2210.09697-b31b1b.svg)](https://arxiv.org/abs/arXiv:2210.09697) | **Deep Investigation of Neutral Gas Origins (DINGO): HI stacking  experiments with early science data**  |\n",
       "|| Jonghwan Rhee, et al. -- incl., <mark>Martin Meyer</mark>, <mark>Michael J. I. Brown</mark>, <mark>Karen Lee-Waddell</mark>, <mark>Elizabeth Mahony</mark>, <mark>Lister Staveley-Smith</mark> |\n",
       "|*Appeared on*| *2022-10-19*|\n",
       "|*Comments*| *27 pages, 25 figures, 10 tables, accepted for publication in MNRAS*|\n",
       "|**Abstract**| We present early science results from Deep Investigation of Neutral Gas Origins (DINGO), an HI survey using the Australian Square Kilometre Array Pathfinder (ASKAP). Using ASKAP sub-arrays available during its commissioning phase, DINGO early science data were taken over $\\sim$ 60 deg$^{2}$ of the Galaxy And Mass Assembly (GAMA) 23 h region with 35.5 hr integration time. We make direct detections of six known and one new sources at $z < 0.01$. Using HI spectral stacking, we investigate the HI gas content of galaxies at $0.04 < z< 0.09$ for different galaxy colours. The results show that galaxy morphology based on optical colour is strongly linked to HI gas properties. To examine environmental impacts on the HI gas content of galaxies, three sub-samples are made based on the GAMA group catalogue. The average HI mass of group central galaxies is larger than those of satellite and isolated galaxies, but with a lower HI gas fraction. We derive a variety of HI scaling relations for physical properties of our sample, including stellar mass, stellar mass surface density, $NUV-r$ colour, specific star formation rate, and halo mass. We find that the derived HI scaling relations are comparable to other published results, with consistent trends also observed to $\\sim$0.5 dex lower limits in stellar mass and stellar surface density. The cosmic HI densities derived from our data are consistent with other published values at similar redshifts. DINGO early science highlights the power of HI spectral stacking techniques with ASKAP. |\n",
       "|<p style=\"color:green\"> **ERROR** </p>| <p style=\"color:green\">affiliation error: mpia.affiliation_verifications: 'Heidelberg' keyword not found.</p> |"
      ],
      "text/plain": [
       "<IPython.core.display.Markdown object>"
      ]
     },
     "metadata": {},
     "output_type": "display_data"
    },
    {
     "data": {
      "text/markdown": [
       "\n",
       "|||\n",
       "|---:|:---|\n",
       "| [![arXiv](https://img.shields.io/badge/arXiv-arXiv:2210.09711-b31b1b.svg)](https://arxiv.org/abs/arXiv:2210.09711) | **Study on the filters of atmospheric contamination in ground based CMB  observation**  |\n",
       "|| Yi-Wen Wu, <mark>SiYu Li</mark>, <mark>Yang Liu</mark>, <mark>Hao Liu</mark>, <mark>Hong Li</mark> |\n",
       "|*Appeared on*| *2022-10-19*|\n",
       "|*Comments*| *19 pages, 11 figures*|\n",
       "|**Abstract**| The atmosphere is one of the most important contamination sources in the ground-based Cosmic Microwave Background (CMB) observations. In this paper, we study three kinds of filters, which are polynomial filter, high-pass filter, and Wiener filter, to investigate their ability for removing atmospheric noise, as well as their impact on the data analysis process through the end-to-end simulations of CMB experiment. We track their performance by analyzing the response of different components of the data, including both signals and noise. In the time domain, the calculation shows that the high-pass filter has the smallest root mean square error and can achieve high filtering efficiency, followed by the Wiener filter and polynomial filter. We then perform map-making with the filtered time ordered data (TOD) to trace the effects from filters on the map domain, and the results show that the polynomial filter gives high noise residual at low frequency, which gives rise to serious leakage to small scales in map domain during the map-making process, while the high-pass filter and Wiener filter do not have such significant leakage. Then we estimate the angular power spectra of residual noise, as well as those of the input signal for comparing the filter effects in the power spectra domain. Finally, we estimate the standard deviation of the filter corrected power spectra to compare the effects from different filters, and the results show that, at low noise level, the three filters give almost comparable standard deviations on the medium and small scales, but at high noise level, the standard deviation of the polynomial filter is significantly larger. These studies can be used for the reduction of atmospheric noise in future ground-based CMB data processing. |\n",
       "|<p style=\"color:green\"> **ERROR** </p>| <p style=\"color:green\">affiliation error: mpia.affiliation_verifications: 'Heidelberg' keyword not found.</p> |"
      ],
      "text/plain": [
       "<IPython.core.display.Markdown object>"
      ]
     },
     "metadata": {},
     "output_type": "display_data"
    },
    {
     "data": {
      "text/markdown": [
       "\n",
       "|||\n",
       "|---:|:---|\n",
       "| [![arXiv](https://img.shields.io/badge/arXiv-arXiv:2210.09713-b31b1b.svg)](https://arxiv.org/abs/arXiv:2210.09713) | **Planetary system around LTT 1445A unveiled by ESPRESSO: Multiple planets  in a triple M-dwarf system**  |\n",
       "|| B. Lavie, et al. -- incl., <mark>J. I. Gonzalez Hernandez</mark>, <mark>J. Lillo-Box</mark> |\n",
       "|*Appeared on*| *2022-10-19*|\n",
       "|*Comments*| *31 pages, 20 figures Accepted A&A*|\n",
       "|**Abstract**| We present radial velocity follow-up obtained with ESPRESSO of the M-type star LTT 1445A (TOI-455), for which a transiting planet b with an orbital period of~5.4 days was detected by TESS. We report the discovery of a second transiting planet (LTT 1445A c) and a third non-transiting candidate planet (LTT 1445A d) with orbital periods of 3.12 and 24.30 days, respectively. The host star is the main component of a triple M-dwarf system at a distance of 6.9 pc. We used 84 ESPRESSO high-resolution spectra to determine accurate masses of 2.3$\\pm$0.3 $\\mathrm{M}_\\oplus$ and 1.0$\\pm$0.2 $\\mathrm{M}_\\oplus$ for planets b and c and a minimum mass of 2.7$\\pm$0.7 $\\mathrm{M}_\\oplus$ for planet d. Based on its radius of 1.43$\\pm0.09$ $\\mathrm{R}_\\oplus$ as derived from the TESS observations, LTT 1445A b has a lower density than the Earth and may therefore hold a sizeable atmosphere, which makes it a prime target for the James Webb Space Telescope. We used a Bayesian inference approach with the nested sampling algorithm and a set of models to test the robustness of the retrieved physical values of the system. There is a probability of 85$\\%$ that the transit of planet c is grazing, which results in a retrieved radius with large uncertainties at 1.60$^{+0.67}_{-0.34}$ $\\mathrm{R}_\\oplus$. LTT 1445A d orbits the inner boundary of the habitable zone of its host star and could be a prime target for the James Webb Space Telescope. |\n",
       "|<p style=\"color:green\"> **ERROR** </p>| <p style=\"color:green\">affiliation error: mpia.affiliation_verifications: 'Heidelberg' keyword not found.</p> |"
      ],
      "text/plain": [
       "<IPython.core.display.Markdown object>"
      ]
     },
     "metadata": {},
     "output_type": "display_data"
    },
    {
     "data": {
      "text/markdown": [
       "\n",
       "|||\n",
       "|---:|:---|\n",
       "| [![arXiv](https://img.shields.io/badge/arXiv-arXiv:2210.09737-b31b1b.svg)](https://arxiv.org/abs/arXiv:2210.09737) | **Moving gravitational wave sources at cosmological distances: Impact on  the measurement of the Hubble constant**  |\n",
       "|| <mark>Alejandro Torres-Orjuela</mark>, Xian Chen |\n",
       "|*Appeared on*| *2022-10-19*|\n",
       "|*Comments*| *12 pages, 5 figures*|\n",
       "|**Abstract**| Standard sirens -- gravitational wave (GW) sources with an electromagnetic (EM) counterpart -- can be used to measure the Hubble constant directly which should help to ease the existing Hubble tension. However, if the source is moving, a relativistic redshift affects the redshift of the EM counterpart and the apparent distance of the GW source, and thus it needs to be corrected to obtain accurate measurements. We study the effect of velocity on GWs for a source in an expanding universe showing that the total redshift of the wave is equal to the product of the relativistic redshift and the cosmological redshift. We, further, find that a motion of the source changes its apparent distance by a factor $(1+z_{\\rm rel})^2$ in contrast to a linear factor for the cosmological redshift. We discuss that the additional factor for the relativistic redshift is a consequence of a velocity-dependent amplitude for GWs. We consider the effect of the velocity on the chirp mass and the apparent distance of the source an observer would infer when ignoring the velocity. We find that for different astrophysical scenarios the error in the chirp mass can range between 0.1\\,\\% and 7\\,\\% while the error in the apparent distance can be between 0.25\\,\\% and 15\\,\\%. Furthermore, we consider the error introduced in the measurement of the Hubble constant using standard sirens for two cases: (i) when the effect of velocity on the redshift of the EM counterpart is considered but not on the apparent distance obtained from GWs and (ii) when the effect of the velocity is ignored completely. We find that in the first case the error can reach 1\\,\\% for a source moving due to the peculiar velocity of its host galaxy and that in the second case the error can be more than 5\\,\\% for a source at the distance of GW150914 with the same velocity. |\n",
       "|<p style=\"color:green\"> **ERROR** </p>| <p style=\"color:green\">affiliation error: mpia.affiliation_verifications: 'Heidelberg' keyword not found.</p> |"
      ],
      "text/plain": [
       "<IPython.core.display.Markdown object>"
      ]
     },
     "metadata": {},
     "output_type": "display_data"
    },
    {
     "data": {
      "text/markdown": [
       "\n",
       "|||\n",
       "|---:|:---|\n",
       "| [![arXiv](https://img.shields.io/badge/arXiv-arXiv:2210.09776-b31b1b.svg)](https://arxiv.org/abs/arXiv:2210.09776) | **Survey for Distant Solar Twins (SDST) -- II. Design, observations and  data**  |\n",
       "|| <mark>Fan Liu</mark>, et al. -- incl., <mark>Daniel Smith</mark> |\n",
       "|*Appeared on*| *2022-10-19*|\n",
       "|*Comments*| *15 pages, 13 figures. Accepted by MNRAS*|\n",
       "|**Abstract**| Studies of solar twins have key impacts on the astronomical community, but only $\\sim$100--200 nearby solar twins ($<$ 1 kpc) have been reliably identified over the last few decades. The aim of our survey (SDST) is to identify $\\sim$150--200 distant solar twins and analogues (up to $\\lesssim$ 4 kpc) closer to the Galactic Centre. We took advantage of the precise Gaia and Skymapper surveys to select Sun-like candidates in a 2-degree field, which were observed with the HERMES spectrograph on the Anglo-Australian Telescope. We successfully built up the required signal-to-noise ratio (25-per-pixel in the HERMES red band) for most targets as faint as Gaia G of 17.4 mag. The stellar photometric/astrometric parameters (e.g., \\teff, \\logg, mass) of our candidates are derived in this paper, while the spectroscopic parameters will be presented in the third paper in this SDST series. The selection success rate - the fraction of targets which belong to solar twins or analogues - was estimated from simulated survey data and the Besan\\c{c}on stellar population model, and compared with the actual success rate of the survey. We find that expected and actual success rates agree well, indicating that the numbers of solar twins and analogues we discover in SDST are consistent with expectations, affirming the survey approach. These distant solar analogues are prime targets for testing for any variation in the strength of electromagnetism in regions of higher dark matter density, and can make additional contributions to our understanding of, e.g., Galactic chemical evolution in the inner Milky Way. |\n",
       "|<p style=\"color:green\"> **ERROR** </p>| <p style=\"color:green\">affiliation error: mpia.affiliation_verifications: 'Heidelberg' keyword not found.</p> |"
      ],
      "text/plain": [
       "<IPython.core.display.Markdown object>"
      ]
     },
     "metadata": {},
     "output_type": "display_data"
    },
    {
     "data": {
      "text/markdown": [
       "\n",
       "|||\n",
       "|---:|:---|\n",
       "| [![arXiv](https://img.shields.io/badge/arXiv-arXiv:2210.09797-b31b1b.svg)](https://arxiv.org/abs/arXiv:2210.09797) | **Hadronuclear interactions in the jet of low TeV luminosity AGN:  Implications for the low-state very-high-energy gamma-ray emission**  |\n",
       "|| Rui Xue, Ze-Rui Wang, <mark>Wei-Jian Li</mark> |\n",
       "|*Appeared on*| *2022-10-19*|\n",
       "|*Comments*| *18 pages, 13 figures, 2 tables.Accepted for publication in PhRvD*|\n",
       "|**Abstract**| In the study of radiation mechanisms of AGNs' jets, hadronuclear (pp) interactions are commonly neglected, because the number density of cold protons in the jet is considered insufficient. Very recently, our previous work proves that pp interactions in the low TeV luminosity AGNs, which have potential to generate detectable very-high-energy (VHE) emission, could be important. Based on this, the one-zone pp model is employed to study low-state quasi-simultaneous spectral energy distributions of a sample of low TeV luminosity AGNs in this work. Our modeling results show that the gamma-ray generated in pp interactions can explain the observed TeV spectra and has contribution to higher energy band that could be detected by the Large High Altitude Air Shower Observatory (LHAASO). In the sample, we suggest that M 87, Mrk 421 and Mrk 501 are the most likely objects to be detected by LHAASO in the near future. Other possible origins of VHE emission are also briefly discussed. |\n",
       "|<p style=\"color:green\"> **ERROR** </p>| <p style=\"color:green\">affiliation error: mpia.affiliation_verifications: 'Heidelberg' keyword not found.</p> |"
      ],
      "text/plain": [
       "<IPython.core.display.Markdown object>"
      ]
     },
     "metadata": {},
     "output_type": "display_data"
    },
    {
     "data": {
      "text/markdown": [
       "\n",
       "|||\n",
       "|---:|:---|\n",
       "| [![arXiv](https://img.shields.io/badge/arXiv-arXiv:2210.09856-b31b1b.svg)](https://arxiv.org/abs/arXiv:2210.09856) | **MHD turbulence formation in solar flares: 3D simulation and synthetic  observations**  |\n",
       "|| Wenzhi Ruan, <mark>Limei Yan</mark>, Rony Keppens |\n",
       "|*Appeared on*| *2022-10-19*|\n",
       "|*Comments*| **|\n",
       "|**Abstract**| Turbulent plasma motion is common in the universe, and invoked in solar flares to drive effective acceleration leading to high energy electrons. Unresolved mass motions are frequently detected in flares from extreme ultraviolet (EUV) observations, which are often regarded as turbulence. However, how this plasma turbulence forms during the flare is still largely a mystery. Here we successfully reproduce observed turbulence in our 3D magnetohydrodynamic simulation where the magnetic reconnection process is included. The turbulence forms as a result of an intricate non-linear interaction between the reconnection outflows and the magnetic arcades below the reconnection site, in which the shear-flow driven Kelvin-Helmholtz Instability (KHI) plays a key role for generating turbulent vortices. The turbulence is produced above high density flare loops, and then propagates to chromospheric footpoints along the magnetic field as Alfvenic perturbations. High turbulent velocities above 200 km s^-1 can be found around the termination shock, while the low atmosphere reaches turbulent velocities of 10 km s^-1 at a layer where the number density is about 10^11 cm^-3. The turbulent region with maximum non-thermal velocity coincides with the region where the observed high-energy electrons are concentrated, demonstrating the potential role of turbulence in acceleration. Synthetic views in EUV and fitted Hinode-EIS spectra show excellent agreement with observational results. An energy analysis demonstrates that more than 10% of the reconnection downflow kinetic energy can be converted to turbulent energy via KHI. |\n",
       "|<p style=\"color:green\"> **ERROR** </p>| <p style=\"color:green\">affiliation error: mpia.affiliation_verifications: 'Heidelberg' keyword not found.</p> |"
      ],
      "text/plain": [
       "<IPython.core.display.Markdown object>"
      ]
     },
     "metadata": {},
     "output_type": "display_data"
    },
    {
     "data": {
      "text/markdown": [
       "\n",
       "|||\n",
       "|---:|:---|\n",
       "| [![arXiv](https://img.shields.io/badge/arXiv-arXiv:2210.09865-b31b1b.svg)](https://arxiv.org/abs/arXiv:2210.09865) | **Revealing the effects of curvature on the cosmological models**  |\n",
       "|| Weiqiang Yang, et al. -- incl., <mark>Joseph Silk</mark> |\n",
       "|*Appeared on*| *2022-10-19*|\n",
       "|*Comments*| *40 pages, 17 tables and 22 captioned figures*|\n",
       "|**Abstract**| In this paper we consider the effects of adding curvature in extended cosmologies involving a free-to-vary neutrino sector and different parametrizations of Dark Energy (DE). We make use of the Planck 2018 cosmic microwave background temperature and polarization data, Baryon Acoustic Oscillations and Pantheon type Ia Supernovae data. Our main result is that a non-flat Universe cannot be discarded in light of the current astronomical data, because we find an indication for a closed Universe in most of the DE cosmologies explored in this work. On the other hand, forcing the Universe to be flat can significantly bias the constraints on the equation of state of the DE component and its dynamical nature. |\n",
       "|<p style=\"color:green\"> **ERROR** </p>| <p style=\"color:green\">affiliation error: mpia.affiliation_verifications: 'Heidelberg' keyword not found.</p> |"
      ],
      "text/plain": [
       "<IPython.core.display.Markdown object>"
      ]
     },
     "metadata": {},
     "output_type": "display_data"
    },
    {
     "data": {
      "text/markdown": [
       "\n",
       "|||\n",
       "|---:|:---|\n",
       "| [![arXiv](https://img.shields.io/badge/arXiv-arXiv:2210.09888-b31b1b.svg)](https://arxiv.org/abs/arXiv:2210.09888) | **Does the lockstep growth between black holes and bulges create their  mass relation?**  |\n",
       "|| Guang Yang, et al. -- incl., <mark>Chengpeng Zhang</mark> |\n",
       "|*Appeared on*| *2022-10-19*|\n",
       "|*Comments*| *15 pages, 7 figures, and 3 tables. Accepted by ApJ*|\n",
       "|**Abstract**| Recent studies have revealed a strong relation between sample-averaged black-hole (BH) accretion rate (BHAR) and star formation rate (SFR) among bulge-dominated galaxies, i.e., \"lockstep\" BH-bulge growth, in the distant universe. This relation might be closely related to the BH-bulge mass correlation observed in the local universe. To understand further BH-bulge coevolution, we present ALMA CO(2-1) or CO(3-2) observations of 7 star-forming bulge-dominated galaxies at z=0.5-2.5. Using the ALMA data, we detect significant ($>3\\sigma$) CO emission from 4 objects. For our sample of 7 galaxies, we measure (or constrain with upper limits) their CO line fluxes and estimate molecular gas masses ($M_{gas}$). We also estimate their stellar masses ($M_{star}$) and SFRs by modelling their spectral energy distributions (SEDs). Using these physical properties, we derive the gas-depletion timescales ($t_{dep} = M_{gas}/SFR$) and compare them with the bulge/BH growth timescales ($t_{grow} = M_{star}/SFR \\sim M_{BH}/BHAR$). Our sample generally has $t_{dep}$ shorter than $t_{grow}$ by a median factor of $\\gtrsim 4$, indicating that the cold gas will be depleted before significant bulge/BH growth takes place. This result suggests that the BH-bulge lockstep growth is mainly responsible for maintaining their mass relation, not creating it. We note that our sample is small and limited to $z<2.5$; JWST and ALMA will be able to probe to higher redshifts in the near future. |\n",
       "|<p style=\"color:green\"> **ERROR** </p>| <p style=\"color:green\">affiliation error: mpia.affiliation_verifications: 'Heidelberg' keyword not found.</p> |"
      ],
      "text/plain": [
       "<IPython.core.display.Markdown object>"
      ]
     },
     "metadata": {},
     "output_type": "display_data"
    },
    {
     "data": {
      "text/markdown": [
       "\n",
       "|||\n",
       "|---:|:---|\n",
       "| [![arXiv](https://img.shields.io/badge/arXiv-arXiv:2210.09892-b31b1b.svg)](https://arxiv.org/abs/arXiv:2210.09892) | **Constraining the origin of stellar binary black hole mergers by  detections of their lensed host galaxies and gravitational wave signals**  |\n",
       "|| Zhiwei Chen, Youjun Lu, <mark>Yuetong Zhao</mark> |\n",
       "|*Appeared on*| *2022-10-19*|\n",
       "|*Comments*| *13 pages, 5 figures, accepted for publication in ApJ*|\n",
       "|**Abstract**| A significant number of stellar binary black hole (sBBH) mergers may be lensed and detected by the third generation gravitational wave (GW) detectors. Their lensed host galaxies may be detectable, which thus helps to accurately localize these sources and provide a new approach to study the origin of sBBHs. In this paper, we investigate the detectability of the lensed host galaxies for the lensed sBBH mergers. We find that the detection fraction of the host galaxies to the lensed GW events can be significantly different for a survey with a given limiting magnitude if sBBHs are produced by different mechanisms, such as the evolution of massive binary stars, the dynamical interactions in dense star clusters, and that assisted by active galactic nuclei or massive black holes. Furthermore, we illustrate that the statistical spatial distribution of those lensed sBBHs in its hosts resulting from different sBBH formation channels can be different from each other. Therefore, with the third generation GW detectors and future large scale galaxy surveys, it is possible to independently constrain the sBBH origin via the detection fraction of those lensed events with identifiable lensing host signatures and/or even constrain the contribution fractions from different sBBH formation mechanisms |\n",
       "|<p style=\"color:green\"> **ERROR** </p>| <p style=\"color:green\">affiliation error: mpia.affiliation_verifications: 'Heidelberg' keyword not found.</p> |"
      ],
      "text/plain": [
       "<IPython.core.display.Markdown object>"
      ]
     },
     "metadata": {},
     "output_type": "display_data"
    },
    {
     "data": {
      "text/markdown": [
       "\n",
       "|||\n",
       "|---:|:---|\n",
       "| [![arXiv](https://img.shields.io/badge/arXiv-arXiv:2210.09895-b31b1b.svg)](https://arxiv.org/abs/arXiv:2210.09895) | **A survey for variable young stars with small telescopes: VII -- Spot  Properties on YSOs in IC5070**  |\n",
       "|| <mark>Carys Herbert</mark>, Dirk Froebrich, Aleks Scholz |\n",
       "|*Appeared on*| *2022-10-19*|\n",
       "|*Comments*| *Accepted for publication by MNRAS. 13 pages, 7 figures, 2 tables*|\n",
       "|**Abstract**| We present measurements of spot properties on 31 young stellar objects, based on multi-band data from the HOYS (Hunting Outbursting Young Stars) project. On average the analysis for each object is based on 270 data points during 80 days in at least 3 bands. All the young low-mass stars in our sample show periodic photometric variations. We determine spot temperatures and coverage by comparing the measured photometric amplitudes in optical bands with simulated amplitudes based on atmosphere models, including a complete error propagation. 21 objects in our sample feature cool spots, with spot temperatures 500 - 2500 K below the stellar effective temperature ($T_{\\rm eff}$), and a coverage of 0.05 - 0.4. Six more have hot spots, with temperatures up to 3000 K above $T_{\\rm eff}$ and coverage below 0.15. The remaining four stars have ambiguous solutions or are AA Tau-type contaminants. All of the stars with large spots (i.e. high coverage $>0.1$) are relatively cool with $T_{\\rm eff} < 4500$ K, which could be a result of having deeper convection zones. Apart from that, spot properties show no significant trends with rotation period, infrared excess, or stellar properties. Most notably, we find hot spots in stars that do not show $K-W2$ infrared excess, indicating the possibility of accretion across an inner disk cavity or the presence of plage. |\n",
       "|<p style=\"color:green\"> **ERROR** </p>| <p style=\"color:green\">affiliation error: mpia.affiliation_verifications: 'Heidelberg' keyword not found.</p> |"
      ],
      "text/plain": [
       "<IPython.core.display.Markdown object>"
      ]
     },
     "metadata": {},
     "output_type": "display_data"
    },
    {
     "data": {
      "text/markdown": [
       "\n",
       "|||\n",
       "|---:|:---|\n",
       "| [![arXiv](https://img.shields.io/badge/arXiv-arXiv:2210.09945-b31b1b.svg)](https://arxiv.org/abs/arXiv:2210.09945) | **Tidal Stripping of a White Dwarf by an Intermediate-Mass Black Hole**  |\n",
       "|| Jin-Hong Chen, Rong-Feng Shen, <mark>Shang-Fei Liu</mark> |\n",
       "|*Appeared on*| *2022-10-19*|\n",
       "|*Comments*| *16 pages, 13 figures, Submitted to ApJ*|\n",
       "|**Abstract**| During the inspiralling of a white dwarf (WD) into an intermediate-mass black hole (~10^{2-5} M_sun), both gravitational waves (GWs) and electromagnetic (EM) radiation are emitted. Once the eccentric orbit's pericenter radius approaches the tidal radius, the WD would be tidally stripped upon each pericenter passage. The accretion of these stripped mass would produce EM radiation. It is suspected that the recently discovered new types of transients, namely the quasi-periodic eruptions and the fast ultraluminous X-ray bursts, might originate from such systems. Modeling these flares requires a prediction of the amount of stripped mass from the WD and the details of the mass supply to the accretion disk. We run hydrodynamical simulations to study the orbital parameter dependence of the stripped mass. We find that our results match the analytical estimate that the stripped mass is proportional to a 5/2-th power of the excess depth by which the WD overfills its instantaneous Roche lobe at the pericenter. The corresponding fallback rate of the stripped mass is calculated, which may be useful in interpreting the individual flaring light curve in candidate EM sources. We further calculate the long-term mass-loss evolution of a WD during its inspiral and the detectability of the GW and EM signals. The EM signal from the mass-loss stage can be easily detected: the limiting distance is ~320(M_h/10^4 M_sun) Mpc for Einstein Probe. The GW signal, for the space-borne detectors such as Laser Interferometer Space Antenna or TianQin, can be detected only within the Local Supercluster (~33 Mpc). |\n",
       "|<p style=\"color:green\"> **ERROR** </p>| <p style=\"color:green\">affiliation error: mpia.affiliation_verifications: 'Heidelberg' keyword not found.</p> |"
      ],
      "text/plain": [
       "<IPython.core.display.Markdown object>"
      ]
     },
     "metadata": {},
     "output_type": "display_data"
    },
    {
     "data": {
      "text/markdown": [
       "\n",
       "|||\n",
       "|---:|:---|\n",
       "| [![arXiv](https://img.shields.io/badge/arXiv-arXiv:2210.09952-b31b1b.svg)](https://arxiv.org/abs/arXiv:2210.09952) | **Upper limits on the Polarized Isotropic Stochastic Gravitational-Wave  Background from Advanced LIGO-Virgo's First Three Observing Runs**  |\n",
       "|| Yang Jiang, <mark>Qing-Guo Huang</mark> |\n",
       "|*Appeared on*| *2022-10-19*|\n",
       "|*Comments*| *6 pages, 4 figures and 2 tables*|\n",
       "|**Abstract**| Parity violation is expected to generate an asymmetry between the amplitude of left and right-handed gravitational-wave modes which leads to a circularly polarized stochastic gravitational-wave background (SGWB). Due to the three independent baselines in the LIGO-Virgo network, we focus on the amplitude difference in strain power characterized by Stokes' parameters and do maximum-likelihood estimation to constrain the polarization degree of SGWB. Our results indicate that there is no evidence for the circularly polarized SGWB in the data. Furthermore, by modeling the SGWB as a power-law spectrum, we place upper limit on the normalized energy density $\\Omega_\\text{gw}(25\\,\\text{Hz})<5.3\\times10^{-9}$ at $95\\%$ confidence level after marginalizing over the polarization degree and spectral index. |\n",
       "|<p style=\"color:green\"> **ERROR** </p>| <p style=\"color:green\">affiliation error: mpia.affiliation_verifications: 'Heidelberg' keyword not found.</p> |"
      ],
      "text/plain": [
       "<IPython.core.display.Markdown object>"
      ]
     },
     "metadata": {},
     "output_type": "display_data"
    },
    {
     "data": {
      "text/markdown": [
       "\n",
       "|||\n",
       "|---:|:---|\n",
       "| [![arXiv](https://img.shields.io/badge/arXiv-arXiv:2210.09965-b31b1b.svg)](https://arxiv.org/abs/arXiv:2210.09965) | **pynucastro: A Python Library for Nuclear Astrophysics**  |\n",
       "|| <mark>Alexander Smith Clark</mark>, et al. |\n",
       "|*Appeared on*| *2022-10-19*|\n",
       "|*Comments*| *Submitted to Astrophysical Journal notebooks to reproduce all figures are available via Zenodo DOI: this https URL*|\n",
       "|**Abstract**| We describe pynucastro 2.0, an open source library for interactively creating and exploring astrophysical nuclear reaction networks. We demonstrate new methods for approximating rates and using detailed balance to create reverse rates, show how to build networks and determine whether they are appropriate for a particular science application, and discuss the changes made to the library over the past few years. Finally, we demonstrate the validity of the networks produced and share how we use pynucastro networks in simulation codes. |\n",
       "|<p style=\"color:green\"> **ERROR** </p>| <p style=\"color:green\">affiliation error: mpia.affiliation_verifications: 'Heidelberg' keyword not found.</p> |"
      ],
      "text/plain": [
       "<IPython.core.display.Markdown object>"
      ]
     },
     "metadata": {},
     "output_type": "display_data"
    },
    {
     "data": {
      "text/markdown": [
       "\n",
       "|||\n",
       "|---:|:---|\n",
       "| [![arXiv](https://img.shields.io/badge/arXiv-arXiv:2210.09987-b31b1b.svg)](https://arxiv.org/abs/arXiv:2210.09987) | **Discovery of one neutron star candidate from radial velocity monitoring**  |\n",
       "|| Hailong Yuan, et al. -- incl., <mark>Yongheng Zhao</mark>, <mark>Jifeng Liu</mark>, <mark>Haotong Zhang</mark> |\n",
       "|*Appeared on*| *2022-10-19*|\n",
       "|*Comments*| *16 pages, 9 figures*|\n",
       "|**Abstract**| We report the discovery of one possible neutron star binary ($P_{\\rm orb} =$ 0.8666 day) by using the LAMOST low-resolution spectroscopic data. The visible companion is a late A-type dwarf ($T_{\\rm eff} = 7900 \\pm 200$ K; log$g$ $=$ 4.3$\\pm$0.2; $M =$ 1.7$\\pm$0.1 M$_{\\odot}$; $R\\ =\\ 1.7\\pm0.2$ R$_{\\odot}$), at a distance of 1.11$\\pm0.03$ kpc. No double-lined feature can be seen from the GTC/HORuS high-resolution spectra, thus the radial velocity variation indicates an invisible object hiding in the binary. The system's optical light curves show clear ellipsoidal variability, suggesting that the visible companion is tidal distorted. By fitting the multi-band light curves with the ELC and WD codes, we constrain the mass of the invisible star to be 1.1--1.3 M$_{\\odot}$. Spectral disentangling shows no additional component with optical absorption spectra, supporting the system contains one compact object. No X-ray or UV emission are detected in the ROSAT archive observations. Therefore, we suspect the invisible object is more likely a neutron star rather than a white dwarf. Our finding suggests the ability of LAMOST spectroscopic survey to discover X-ray quiescent compact objects. |\n",
       "|<p style=\"color:green\"> **ERROR** </p>| <p style=\"color:green\">affiliation error: mpia.affiliation_verifications: 'Heidelberg' keyword not found.</p> |"
      ],
      "text/plain": [
       "<IPython.core.display.Markdown object>"
      ]
     },
     "metadata": {},
     "output_type": "display_data"
    },
    {
     "data": {
      "text/markdown": [
       "\n",
       "|||\n",
       "|---:|:---|\n",
       "| [![arXiv](https://img.shields.io/badge/arXiv-arXiv:2210.10023-b31b1b.svg)](https://arxiv.org/abs/arXiv:2210.10023) | **An extended [CII] halo around a massive star-forming galaxy at z = 5.3**  |\n",
       "|| T. S. Lambert, et al. -- incl., <mark>R. Herrera-Camus</mark> |\n",
       "|*Appeared on*| *2022-10-19*|\n",
       "|*Comments*| *8 pages, 6 figures. Accepted to be published in MNRAS*|\n",
       "|**Abstract**| High-redshift observations are often biased towards massive and bright galaxies that are not necessarily representative of the full population. In order to accurately study galaxy evolution and mass assembly at these redshifts, observations of ``normal'' main sequence galaxies are required. Here we present Atacama Large Millimeter/Submillimeter Array (ALMA) 0.3\" resolution observations of the [CII] emission line at 158$\\mu$m of HZ7, a main sequence galaxy at $z=5.25$. Comparing to archival rest-frame UV observations taken by the Hubble Space Telescope (HST), we find strong evidence of the existence of extended [CII] emission, which we estimate to be twice the size of the rest-frame UV emission, yielding one of the first high-redshift objects where a clear signature of a [CII] ``Halo'' has been detected to date. For a matched S\\'ersic profile with n = 1, we measured a [CII] effective radius of $0.50\\pm 0.04$\" (3.07$\\pm 0.25$ kpc) and an average rest-frame UV effective radius of $0.2\\pm0.04$\" ($1.48\\pm0.16$ kpc). The [CII] morphology and kinematics of the system suggest a merging event resulting in a non rotating disk system. This event could be responsible for the extended [CII] emission. Alternatively, some potential obscured emission could also explain the [CII] to UV size ratio. These results contribute to the growing consensus with respect to the existence of extended [CII] emission around galaxies. |\n",
       "|<p style=\"color:green\"> **ERROR** </p>| <p style=\"color:green\">affiliation error: mpia.affiliation_verifications: 'Heidelberg' keyword not found.</p> |"
      ],
      "text/plain": [
       "<IPython.core.display.Markdown object>"
      ]
     },
     "metadata": {},
     "output_type": "display_data"
    },
    {
     "data": {
      "text/markdown": [
       "\n",
       "|||\n",
       "|---:|:---|\n",
       "| [![arXiv](https://img.shields.io/badge/arXiv-arXiv:2210.09662-b31b1b.svg)](https://arxiv.org/abs/arXiv:2210.09662) | **The burst mode of accretion in massive star formation with stellar  inertia**  |\n",
       "|| <mark>D. M.-A. Meyer</mark>, et al. -- incl., <mark>S.-Y. Liu</mark> |\n",
       "|*Appeared on*| *2022-10-19*|\n",
       "|*Comments*| *Accepted to MNRAS, see this https URL&utm_campaign=mnras&utm_medium=email*|\n",
       "|**Abstract**| The burst mode of accretion in massive star formation is a scenario linking the initial gravitational collapse of parent pre-stellar cores to the properties of their gravitationally unstable discs and of their accretion-driven bursts. In this study, we present a series of high-resolution 3D radiation-hydrodynamics numerical simulations for young massive stars formed out of collapsing 100 Mo molecular cores spinning with several values of the ratio of rotational-to-gravitational energies beta=5%-9%. The models include the indirect gravitational potential caused by disc asymmetries. We find that this modifies the barycenter of the disc, causing significant excursions of the central star position, which we term stellar wobbling. The stellar wobbling slows down and protracts the development of gravitational instability in the disc, reducing the number and magnitude of the accretion-driven bursts undergone by the young massive stars, whose properties are in good agreement with that of the burst monitored from the massive protostar M17 MIR. Including stellar wobbling is therefore important for accurate modeling disc structures. Synthetic ALMA interferometric images in the millimeter waveband show that the outcomes of efficient gravitational instability such as spiral arms and gaseous clumps can be detected for as long as the disc is old enough and has already entered the burst mode of accretion. |\n",
       "|<p style=\"color:green\"> **ERROR** </p>| <p style=\"color:green\">affiliation error: mpia.affiliation_verifications: 'Planck' keyword not found.</p> |"
      ],
      "text/plain": [
       "<IPython.core.display.Markdown object>"
      ]
     },
     "metadata": {},
     "output_type": "display_data"
    },
    {
     "data": {
      "text/markdown": [
       "\n",
       "|||\n",
       "|---:|:---|\n",
       "| [![arXiv](https://img.shields.io/badge/arXiv-arXiv:2210.10008-b31b1b.svg)](https://arxiv.org/abs/arXiv:2210.10008) | **A transmission spectrum of the sub-Earth planet L98-59~b in 1.1-1.7  $μ$m**  |\n",
       "|| Mario Damiano, et al. -- incl., <mark>Sebastian Zieba</mark>, <mark>Laura Kreidberg</mark>, <mark>Christina L. Hedges</mark> |\n",
       "|*Appeared on*| *2022-10-19*|\n",
       "|*Comments*| *17 pages, 5 figures, 7 tables, accepted for publication in AJ*|\n",
       "|**Abstract**| With the increasing number of planets discovered by TESS, the atmospheric characterization of small exoplanets is accelerating. L98-59 is a M-dwarf hosting a multi-planet system, and so far, four small planets have been confirmed. The innermost planet b is $\\sim15\\%$ smaller and $\\sim60\\%$ lighter than Earth, and should thus have a predominantly rocky composition. The Hubble Space Telescope observed five primary transits of L98-59b in $1.1-1.7\\ \\mu$m, and here we report the data analysis and the resulting transmission spectrum of the planet. We measure the transit depths for each of the five transits and, by combination, we obtain a transmission spectrum with an overall precision of $\\sim20$ ppm in for each of the 18 spectrophotometric channels. With this level of precision, the transmission spectrum does not show significant modulation, and is thus consistent with a planet without any atmosphere or a planet having an atmosphere and high-altitude clouds or haze. The scenarios involving an aerosol-free, H$_2$-dominated atmosphere with H$_2$O or CH$_4$ are inconsistent with the data. The transmission spectrum also disfavors, but does not rules out, an H$_2$O-dominated atmosphere without clouds. A spectral retrieval process suggests that an H$_2$-dominated atmosphere with HCN and clouds or haze may be the preferred solution, but this indication is non-conclusive. Future James Webb Space Telescope observations may find out the nature of the planet among the remaining viable scenarios. |\n",
       "|<p style=\"color:red\"> **ERROR** </p>| <p style=\"color:red\">latex error Could not find figure images/white_lc_fit.pdf</p> |"
      ],
      "text/plain": [
       "<IPython.core.display.Markdown object>"
      ]
     },
     "metadata": {},
     "output_type": "display_data"
    },
    {
     "data": {
      "text/markdown": [
       "\n",
       "|||\n",
       "|---:|:---|\n",
       "| [![arXiv](https://img.shields.io/badge/arXiv-arXiv:2210.09621-b31b1b.svg)](https://arxiv.org/abs/arXiv:2210.09621) | **Dust extinction map of the Galactic plane based on the VVV survey data**  |\n",
       "|| <mark>Miaomiao Zhang</mark>, Jouni Kainulainen |\n",
       "|*Appeared on*| *2022-10-19*|\n",
       "|*Comments*| *accepted by MNRAS, 37 pages*|\n",
       "|**Abstract**| Dust extinction is one of the most reliable tracers of the gas distribution in the Milky Way. The near-infrared (NIR) Vista Variables in the Via Lactea (VVV) survey enables extinction mapping based on stellar photometry over a large area in the Galactic plane. We devise a novel extinction mapping approach, XPNICER, by bringing together VVV photometric catalogs, stellar parameter data from StarHorse catalogs, and previously published Xpercentile and PNICER extinction mapping techniques. We apply the approach to the VVV survey area, resulting in an extinction map that covers the Galactic disk between 295 and 350 degrees at longitude and -2 to 2 degrees at latitude, and the Galactic bulge between -10 and 5 degrees at latitude. The map has 30 arcseconds spatial resolution and it traces extinctions typically up to about 10-20 mag of visual extinction and maximally up to Av~30 mag. We compare our map to previous dust based maps, concluding that it provides a high-fidelity extinction-based map, especially in its ability to recover both the diffuse dust component of the Galaxy and moderately extincted giant molecular cloud regions. The map is especially useful as independent, extinction-based data on the Galactic dust distribution and applicable for a wide range of studies from individual molecular clouds to the studies of the Galactic stellar populations. |\n",
       "|<p style=\"color:red\"> **ERROR** </p>| <p style=\"color:red\">latex error [Errno 2] No such file or directory: 'gs'</p> |"
      ],
      "text/plain": [
       "<IPython.core.display.Markdown object>"
      ]
     },
     "metadata": {},
     "output_type": "display_data"
    }
   ],
   "source": [
    "import datetime\n",
    "today = str(datetime.date.today())\n",
    "logfile = f\"_build/html/logs/log-{today}.md\"\n",
    "\n",
    "\n",
    "with open(logfile, 'w') as logs:\n",
    "    # Success\n",
    "    logs.write(f'# Arxiv on Deck 2: Logs - {today}\\n\\n')\n",
    "    logs.write(\"\"\"* Arxiv had {0:,d} new papers\\n\"\"\".format(len(new_papers)))\n",
    "    logs.write(\"\"\"    * {0:,d} with possible author matches\\n\\n\"\"\".format(len(candidates)))\n",
    "    logs.write(\"## Sucessful papers\\n\\n\")\n",
    "    display(Markdown(\"## Successful papers\"))\n",
    "    success = [k[0] for k in documents]\n",
    "    for candid in candidates:\n",
    "        if candid['identifier'].split(':')[-1] in success:\n",
    "            display(candid)\n",
    "            logs.write(candid.generate_markdown_text() + '\\n\\n')\n",
    "\n",
    "    ## failed\n",
    "    logs.write(\"## Failed papers\\n\\n\")\n",
    "    display(Markdown(\"## Failed papers\"))\n",
    "    failed = sorted(failed, key=lambda x: x[1])\n",
    "    current_reason = \"\"\n",
    "    for paper, reason in failed:\n",
    "        if 'affiliation' in reason:\n",
    "            color = 'green'\n",
    "        else:\n",
    "            color = 'red'\n",
    "        data = Markdown(\n",
    "                paper.generate_markdown_text() + \n",
    "                f'\\n|<p style=\"color:{color:s}\"> **ERROR** </p>| <p style=\"color:{color:s}\">{reason:s}</p> |'\n",
    "               )\n",
    "        if reason != current_reason:\n",
    "            logs.write(f'### {reason:s} \\n\\n')\n",
    "            current_reason = reason\n",
    "        logs.write(data.data + '\\n\\n')\n",
    "        \n",
    "        # only display here the important errors (all in logs)\n",
    "        # if color in ('red',):\n",
    "        display(data)"
   ]
  },
  {
   "cell_type": "markdown",
   "id": "472d20ee",
   "metadata": {
    "papermill": {
     "duration": 0.010663,
     "end_time": "2022-10-19T05:22:56.972483",
     "exception": false,
     "start_time": "2022-10-19T05:22:56.961820",
     "status": "completed"
    },
    "tags": []
   },
   "source": [
    "## Export documents\n",
    "\n",
    "We now write the .md files and export relevant images"
   ]
  },
  {
   "cell_type": "code",
   "execution_count": 7,
   "id": "d426aed9",
   "metadata": {
    "execution": {
     "iopub.execute_input": "2022-10-19T05:22:56.995589Z",
     "iopub.status.busy": "2022-10-19T05:22:56.994905Z",
     "iopub.status.idle": "2022-10-19T05:22:57.002202Z",
     "shell.execute_reply": "2022-10-19T05:22:57.001570Z"
    },
    "papermill": {
     "duration": 0.020768,
     "end_time": "2022-10-19T05:22:57.003668",
     "exception": false,
     "start_time": "2022-10-19T05:22:56.982900",
     "status": "completed"
    },
    "tags": []
   },
   "outputs": [],
   "source": [
    "def export_markdown_summary(md: str, md_fname:str, directory: str):\n",
    "    \"\"\"Export MD document and associated relevant images\"\"\"\n",
    "    import os\n",
    "    import shutil\n",
    "    import re\n",
    "\n",
    "    if (os.path.exists(directory) and not os.path.isdir(directory)):\n",
    "        raise RuntimeError(f\"a non-directory file exists with name {directory:s}\")\n",
    "\n",
    "    if (not os.path.exists(directory)):\n",
    "        print(f\"creating directory {directory:s}\")\n",
    "        os.mkdir(directory)\n",
    "\n",
    "    fig_fnames = (re.compile(r'\\[Fig.*\\]\\((.*)\\)').findall(md) + \n",
    "                  re.compile(r'\\<img src=\"([^>\\s]*)\"[^>]*/>').findall(md))\n",
    "    for fname in fig_fnames:\n",
    "        if 'http' in fname:\n",
    "            # No need to copy online figures\n",
    "            continue\n",
    "        destdir = os.path.join(directory, os.path.dirname(fname))\n",
    "        destfname = os.path.join(destdir, os.path.basename(fname))\n",
    "        try:\n",
    "            os.makedirs(destdir)\n",
    "        except FileExistsError:\n",
    "            pass\n",
    "        shutil.copy(fname, destfname)\n",
    "    with open(os.path.join(directory, md_fname), 'w') as fout:\n",
    "        fout.write(md)\n",
    "    print(\"exported in \", os.path.join(directory, md_fname))\n",
    "    [print(\"    + \" + os.path.join(directory,fk)) for fk in fig_fnames]"
   ]
  },
  {
   "cell_type": "code",
   "execution_count": 8,
   "id": "014d04a4",
   "metadata": {
    "execution": {
     "iopub.execute_input": "2022-10-19T05:22:57.026343Z",
     "iopub.status.busy": "2022-10-19T05:22:57.025860Z",
     "iopub.status.idle": "2022-10-19T05:22:57.031161Z",
     "shell.execute_reply": "2022-10-19T05:22:57.030538Z"
    },
    "papermill": {
     "duration": 0.018164,
     "end_time": "2022-10-19T05:22:57.032528",
     "exception": false,
     "start_time": "2022-10-19T05:22:57.014364",
     "status": "completed"
    },
    "tags": []
   },
   "outputs": [
    {
     "name": "stdout",
     "output_type": "stream",
     "text": [
      "exported in  _build/html/2210.09930.md\n",
      "    + _build/html/tmp_2210.09930/./QPO_model.png\n"
     ]
    }
   ],
   "source": [
    "for paper_id, md in documents:\n",
    "    export_markdown_summary(md, f\"{paper_id:s}.md\", '_build/html/')"
   ]
  },
  {
   "cell_type": "markdown",
   "id": "f087a0a7",
   "metadata": {
    "papermill": {
     "duration": 0.01061,
     "end_time": "2022-10-19T05:22:57.053756",
     "exception": false,
     "start_time": "2022-10-19T05:22:57.043146",
     "status": "completed"
    },
    "tags": []
   },
   "source": [
    "## Display the papers\n",
    "\n",
    "Not necessary but allows for a quick check."
   ]
  },
  {
   "cell_type": "code",
   "execution_count": 9,
   "id": "fd25f625",
   "metadata": {
    "execution": {
     "iopub.execute_input": "2022-10-19T05:22:57.076613Z",
     "iopub.status.busy": "2022-10-19T05:22:57.075984Z",
     "iopub.status.idle": "2022-10-19T05:22:57.083215Z",
     "shell.execute_reply": "2022-10-19T05:22:57.082689Z"
    },
    "papermill": {
     "duration": 0.02049,
     "end_time": "2022-10-19T05:22:57.084841",
     "exception": false,
     "start_time": "2022-10-19T05:22:57.064351",
     "status": "completed"
    },
    "scrolled": false,
    "tags": []
   },
   "outputs": [
    {
     "data": {
      "text/markdown": [
       "<div class=\"macros\" style=\"visibility:hidden;\">\n",
       "$\\newcommand{\\ensuremath}{}$\n",
       "$\\newcommand{\\xspace}{}$\n",
       "$\\newcommand{\\object}[1]{\\texttt{#1}}$\n",
       "$\\newcommand{\\farcs}{{.}''}$\n",
       "$\\newcommand{\\farcm}{{.}'}$\n",
       "$\\newcommand{\\arcsec}{''}$\n",
       "$\\newcommand{\\arcmin}{'}$\n",
       "$\\newcommand{\\ion}[2]{#1#2}$\n",
       "$\\newcommand{\\textsc}[1]{\\textrm{#1}}$\n",
       "$\\newcommand{\\hl}[1]{\\textrm{#1}}$\n",
       "$\\newcommand{\\beq}{\\begin{eqnarray}}$\n",
       "$\\newcommand{\\eeq}{\\end{eqnarray}}$\n",
       "$\\newcommand{\\bq}{B_{\\rm QED}}$\n",
       "$\\newcommand{\\fa}{f_{A}}$\n",
       "$\\newcommand{\\fac}{f_{A,2}}$\n",
       "$\\newcommand{\\Gc}{\\Gamma_2}$\n",
       "$\\newcommand{\\ffrb}{f_{\\rm FRB}}$\n",
       "$\\newcommand{\\lc}{L_{\\rm FRB,43}}$\n",
       "$\\newcommand{\\nuc}{\\nu_{\\rm c}}$\n",
       "$\\newcommand{\\ncc}{\\nu_{\\rm c,9}}$\n",
       "$\\newcommand{\\lwc}{L_{\\rm w,45}}$\n",
       "$\\newcommand{\\muc}{\\mu_{33}}$\n",
       "$\\newcommand{\\Bc}{B_{ d,15}}$\n",
       "$\\newcommand{\\lac}{L_{A,44}}$\n",
       "$\\newcommand{\\Bfms}{B_{\\rm FMS}}$\n",
       "$\\newcommand{\\xl}{\\textcolor{red}}$\n",
       "$\\newcommand{\\js}{\\textcolor{cyan}}$\n",
       "$\\begin{document}$\n",
       "$\\begin{CJK*}{UTF8}{gkai}$\n",
       "$\\title[An Intermediate-field FRB model and QPO]{{An Intermediate-field Fast Radio Burst Model and the Quasi-periodic Oscillation}$\n",
       "$}$\n",
       "$\\author[Wang et al.]{Jie-Shuang Wang$\n",
       "$^{1}\\thanks{E-mail:jiesh.wang@gmail.com},$\n",
       "$Xinyu Li$\n",
       "$^{2,3},$\n",
       "$Zigao Dai$\n",
       "$^{4,5},$\n",
       "$Xuefeng Wu$\n",
       "$^6\\^{1}Max-Planck-Institut f\\\"ur Kernphysik, Saupfercheckweg 1, D-69117 Heidelberg, Germany \\^2Canadian Institute for Theoretical Astrophysics, 60 St George St, Toronto, ON M5R 2M8\\^3Perimeter Institute for Theoretical Physics, 31 Caroline Street North, Waterloo, Ontario, Canada, N2L 2Y5\\^4Department of Astronomy, University of Science and Technology of China, Hefei 230026, China\\^5School of Astronomy and Space Science, Nanjing University, Nanjing 210023, China\\^6Purple Mountain Observatory, Chinese Academy of Sciences, Nanjing 210023, China$\n",
       "$}$\n",
       "$\\label{firstpage}$\n",
       "$\\pagerange{\\pageref{firstpage}--\\pageref{lastpage}}$\n",
       "$\\maketitle$\n",
       "$\\end{CJK*}$\n",
       "$\\begin{abstract}$\n",
       "$Quasi-periodic oscillation (QPO) signals are discovered in some fast radio bursts (FRBs) such as FRB 20191221A, as well as in the X-ray burst associated with the galactic FRB from SGR 1935+2154.$\n",
       "$We revisit the intermediate-field FRB model where the radio waves are generated as fast-magnetosonic waves through magnetic reconnection near the light cylinder.$\n",
       "$The current sheet in the magnetar wind is compressed by a low frequency pulse emitted from the inner magnetosphere to trigger magnetic reconnection.$\n",
       "$By incorporating the wave dynamics of the magnetosphere, we demonstrate how the FRB frequency, the single pulse width, and luminosity are determined by the period, magnetic field, QPO frequency and quake energetics of the magnetar.$\n",
       "$We find that this model can naturally and self-consistently interpret the X-ray/radio event from SGR 1935+2154 and the QPO in FRB 20191221A.$\n",
       "$It can also explain the observed wide energy range of repeating FRBs in a narrow bandwidth.$\n",
       "$\\end{abstract}$\n",
       "$\\begin{keywords}$\n",
       "$fast radio bursts -- stars: magnetars -- radiation mechanisms: non-thermal -- MHD -- magnetic reconnection$\n",
       "$\\end{keywords}$\n",
       "$\\section{Introduction}$\n",
       "$In recent years, the study of fast radio bursts (FRBs) has been greatly advanced by the progress in the observations.$\n",
       "$New detections of the galactic events \\citep{CHIME2020Naturmagnetar,Bochenek2020Natur}, burst polarisation \\citep[e.g.][]{Michilli2018,Luo2020Natur}, burst morphology \\citep[e.g.][]{Pleunis2021ApJ}, source periodicity \\citep[e.g.][]{Chime2020NaturPeriod,Pastor-Marazuela2021Natur,CHIME2022Natur}, source activity \\citep[e.g.][]{Li2021Natur} and host galaxies \\citep[e.g.][]{Bassa2017ApJL,Bhandari2022AJ}, have led to constraints on both progenitor models and radiation mechanisms.$\n",
       "$However, a complete theoretical understanding of fast radio bursts is still not available and requires more effort \\citep[see][for recent reviews]{Zhang2020Natur,Xiao2021SCPMA}.$\n",
       "$Highly magnetised compact objects are usually involved as the central engine of FRBs, such as magnetars, pulsars, and accreting black holes. Among them, the magnetar scenario has been confirmed by the detection of the galactic event \\citep{CHIME2020Naturmagnetar,Bochenek2020Natur,Li2021NatAs,Mereghetti2020ApJL,Ridnaia2021NatAs,Tavani2021NatAs}.$\n",
       "$Theoretically, the energy resource can come from the internal magnetic energy of magnetars \\citep[e.g.][]{Popov2013,Katz2016,Beloborodov2017,Margalit2020ApJL} or the gravitational potential energy when a companion star is involved \\citep[e.g.][]{Wang2016,Dai2016,Wang2018,Zhang2020ApJL,Dai2020ApJL,Most2022MNRAS}.$\n",
       "$Currently, the mainstream FRB radiation mechanisms can be divided into two categories: the near-field (or close-in) and the far-field (or far-away) model.$\n",
       "$The near-field model, mainly based on the coherent curvature radiation model near the magnetar surface \\citep[e.g.][]{Kumar2017,Yang2018,Lu2020MNRAS,WangFY2020ApJ,Yang2020ApJL,WangWY2020ApJ}, can explain the complex temporal behavior of FRBs, while the bunching mechanism for the coherent curvature radiation is unclear.$\n",
       "$The far-field model incorporates the synchrotron maser emission at the shock front far from the magnetosphere as the coherent radio emission mechanism  \\citep[e.g.][]{Lyubarsky2014,Beloborodov2017,Margalit2018,Waxman2017,Metzger2019MNRAS,Beloborodov2020ApJ,Plotnikov2019,Margalit2020ApJL,Wu2020ApJL,Xiao2020ApJL}.$\n",
       "$This mechanism has been demonstrated using kinetic plasma simulations \\citep[e.g.][]{Plotnikov2019,Sironi2021PhRvL}.$\n",
       "$However, it is difficult to explain the sub-second scale quasi-periodic oscillations (QPOs) from FRBs \\citep{CHIME2022Natur,Pastor-Marazuela2022arXiv}.$\n",
       "$It is also found that neither model can fully explain the X-ray/radio event from SGR 1935+2154 \\citep{Wang2020ApJ}.$\n",
       "$Recently, a new type of FRB model is proposed where an FRB is radiated as fast-magnetosonic (FMS) waves generated from violent magnetic reconnection triggered by a low-frequency pulse (LFP) compressing the current sheet \\citep{Lyubarsky2020ApJ}.$\n",
       "$As the coherent radio emission is produced near the light cylinder, we refer to it as the \"intermediate-field\" model.$\n",
       "$Kinetic plasma simulations \\citep{Philippov2019,Mahlmann2022ApJL} have successfully demonstrated the emission of coherent FMS waves through this mechanism.$\n",
       "$It is also found that the high linear polarisation \\citep{Lyubarsky2020ApJ} and the downward frequency drifting \\citep{Mahlmann2022ApJL} can be well explained.$\n",
       "$However, the predicted frequency is significantly lower than the observation of the SGR 1935+2154 event \\citep{Wang2020ApJ}.$\n",
       "$In this paper, we revisit the intermediate-field model and propose that the LFP is produced through nonlinear conversion of Alfv\\'en waves, which further leads to the generation of QPOs.$\n",
       "$In section \\ref{sec:radiation_injection}, we briefly review the coherent radiation mechanism from magnetic reconnection.$\n",
       "$In section \\ref{sec:FRB_QPO}, we study the injection of energy through Alfv\\'en waves, the wave dynamics in the magnetosphere, and the generation of FRBs and QPOs.$\n",
       "$In section \\ref{sec:explainQPO}, we apply our model to observations.$\n",
       "$The conclusion and discussion are presented in section \\ref{sec:conclusion}.$\n",
       "$Throughout this paper we adopt the shorthand X=X_n\\times 10^n to describe the normalization of quantity X in cgs units.$\n",
       "$\\vspace{-5pt}$\n",
       "$\\section{Reconnection Driven Coherent Radio Emission}\\label{sec:radiation_injection}$\n",
       "$Magnetic reconnection is a process of changing the magnetic topology when two oppositely directed magnetic field lines approach each other forming a current sheet at the centre.$\n",
       "$The onset of magnetic reconnection is triggered when the current sheet becomes tearing or kink unstable and breaks into a self-similar chain of plasmoids extending down to the kinetic scale \\citep{Uzdensky2010PhRvL}.$\n",
       "$Fast magnetic reconnection proceeds when the plasmoids collide and merge into larger islands.$\n",
       "$During the coalescence of plasmoids, magnetic energy is dissipated and FMS waves are produced.$\n",
       "$In highly magnetized systems with magnetization parameter \\sigma\\equiv B^2/4\\pi \\rho c^2 \\gg1, FMS waves have similar dispersion relation as vacuum electromagnetic waves \\citep{Thompson1998,Li2019} and can convert to coherent radio waves \\citep[e.g.][]{Lyubarsky2019,Philippov2019,Lyubarsky2020ApJ}.$\n",
       "$\\cite{Lyubarsky2020ApJ} proposed that the coherent emission of FRBs are GHz FMS waves generated by the plasmoid collision during magnetic reconnection.$\n",
       "$In their picture, the current sheets in the magnetar wind are compressed by an external outgoing LFP and become tearing unstable under the perturbation, and magnetic reconnection is  initiated.$\n",
       "$Coherent FMS waves are produced in the reconnection and can escape as fast radio bursts.$\n",
       "$Kinetic simulations by \\citet{Mahlmann2022ApJL} have confirmed this process and found that FMS waves takes only a small fraction of the reconnection energy.$\n",
       "$The characteristic frequency of the coherent FMS waves is determined by the size of the plasmoid \\lambda'_c. Note we use the primed symbols to mark parameters measured in the co-moving frame of the plasma throughout the paper.$\n",
       "$In the plasma comoving frame, \\omega'_c \\approx c/ \\lambda'_c.$\n",
       "$The typical plasmoid size is found to be proportional to the width of the current sheet \\lambda'_c=\\varsigma a' with \\varsigma\\sim10-100 \\citep{Philippov2019,Lyubarsky2020ApJ}, and the width depends on the Larmor radius a'=\\varpi r_{\\rm L} with \\varpi being a few.$\n",
       "$\\cite{Lyubarsky2020ApJ} gave the expression of the plasmoid size by balancing the pressure and energy,$\n",
       "$\\begin{eqnarray}$\n",
       "$    \\lambda'_c=\\sqrt{\\frac{8\\pi\\beta_{\\rm rec}\\varpi}{e\\sigma_T}}\\frac{m_ec^2}{B'^{3/2}},$\n",
       "$\\end{eqnarray}$\n",
       "$where \\sigma_T is the Thomson scattering cross section, \\beta_{\\rm rec}\\sim0.1 is the reconnection rate, B'=B/\\Gamma is the magnetic field in the comoving frame and \\Gamma is the bulk Lorentz factor.$\n",
       "$Therefore, the characteristic frequency in the observer's frame is,$\n",
       "$\\beq$\n",
       "$\\nu_{\\rm c}\\equiv\\Gamma\\omega'_c/2\\pi\\approx 2.1 \\eta_1^{-1} \\Gamma^{-1/2} B_{8}^{3/2}~{\\rm GHz},\\label{Eq:nuc}$\n",
       "$\\eeq$\n",
       "$where \\eta\\equiv\\varsigma \\varpi^{1/2}\\beta_{\\rm rec}^{1/2}.$\n",
       "$This expression is confirmed numerically by \\cite{Mahlmann2022ApJL} but with a slightly different expression of \\eta.$\n",
       "$\\begin{figure}$\n",
       "$    \\centering$\n",
       "$    \\vspace{-5pt}$\n",
       "$    \\includegraphics[width=0.35\\textwidth]{QPO_model.pdf}$\n",
       "$    \\caption{The schematic picture of the intermediate-field FRB model (not to scale):$\n",
       "$    Alfv\\'en waves propagate along field lines of R\\gtrsim R_0, and become non-linear at R_{\\rm m}, which leads to the conversion to an LFP.$\n",
       "$    (The Alfv\\'en waves and LFP are drawn with different styles and unrealistic wavelengths to make their presence clear.)$\n",
       "$    The LFP compress the current sheet in the striped magnetar wind near the light cylinder.$\n",
       "$    High-frequency FMS waves are generated by merging islands during the violent magnetic reconnection, which can escape as an FRB.}$\n",
       "$    \\label{fig:magnetar_model}$\n",
       "$\\end{figure}$\n",
       "$\\vspace{-5pt}$\n",
       "$\\section{Intermediate-field FRB models and QPOs}\\label{sec:FRB_QPO}$\n",
       "$\\subsection{Energy injection via Alfv\\'en waves}$\n",
       "$For a magnetar with a surface dipole magnetic field B_d and radius R_*\\approx10^6 cm, the total magnetic energy is E_{B}=B_d^2R_{*}^3/6\\approx1.7\\times10^{47}\\Bc^2 erg.$\n",
       "$The internal magnetic field B_* can be higher and we parameterize it by B_*= \\zeta B_d with \\zeta>1.$\n",
       "$The internal magnetic energy can be released by a sudden starquake and crustal motion which are accompanied by the crustal shear oscillations \\citep[e.g.][]{Thompson1995MNRAS,Thompson2001,Duncan1998ApJL}.$\n",
       "$Such oscillations are proposed to explain the QPOs observed in magnetar X-ray flares \\citep[e.g.][]{Israel2005,Strohmayer2005,Strohmayer2006ApJ}.$\n",
       "$As the shear wave propagates in the crust, it shakes the anchored magnetic field lines, and launches Alfv\\'en waves into the magnetosphere \\citep{Thompson2001,Li2016,Thompson2017,Bransgrove2020}.$\n",
       "$The Alfv\\'en waves carry energy into the magnetosphere and propagate along the field lines,$\n",
       "$as sketched in Fig.~\\ref{fig:magnetar_model}.$\n",
       "$The field-line equation is r=R\\sin^2{\\theta}, where R is the maximum distance of the field line to the magnetar center and \\theta is the angle to the magnetic axis.$\n",
       "$For field lines with R\\gg R_*, the field-line length is l\\simeq\\pi R/2.$\n",
       "$The generated Alfv\\'en waves of frequency \\fa in the magnetosphere can propagate along field lines with l\\geq l_0=\\pi R_0/2=c/\\fa=1.9\\times10^{10}\\fa^{-1}~{\\rm cm} as a perturbation.$\n",
       "$Note that Alfv\\'en waves travelling on field lines with l<l_0 may suffer strong nonlinear interaction and the dissipation mechanism is unclear. Thus we only consider magnetar quakes occurred near the magnetic polar region, so that magnetar oscillations can launch Alfv\\'en waves into the magnetosphere before damping \\citep[e.g.][]{Levin2007MNRAS,Hoven2012}.$\n",
       "$We consider a sudden release of internal magnetic energy of E_q=h S B_*^2/8\\pi in the crust with a crust thickness h\\approx10^5 cm and an area S_q.$\n",
       "$The magnetar quake can simultaneously launch a number of waves with different frequencies, that are of different damping time-scales \\citep[e.g.][]{Levin2007MNRAS,Hoven2012,Gabler2016MNRAS}.$\n",
       "$We assume that the Alfv\\'en wave of frequency f_A is the dominated one, and a number (n_A) of waves at this frequency has been excited.$\n",
       "$The energy carried by each wave is parameterized as \\epsilon E_q\\approx L_A/f_A with a power L_A and \\epsilon<1/n_A.$\n",
       "$The wave is launched from the magnetar surface within the same area,$\n",
       "$\\begin{eqnarray}$\n",
       "$    S_q=2.5\\times10^8\\lac\\fac^{-1}\\Bc^{-2}\\epsilon^{-1}\\zeta^{-2} {\\rm cm}^2.$\n",
       "$\\end{eqnarray}$\n",
       "$The corresponding wave amplitude in the magnetosphere is {\\delta B}=\\sqrt{8\\pi L_A/S_qc}.$\n",
       "$Its relative amplitude to the background field near the magnetar surface is$\n",
       "$\\begin{eqnarray}$\n",
       "$    \\frac{\\delta B}{B_d}\\approx 0.02\\fac^{1/2}\\epsilon^{1/2}\\zeta,$\n",
       "$\\end{eqnarray}$\n",
       "$As the Alfv\\'en wave propagates in the magnetosphere, its amplitude grows as {\\delta B}/{B_d}\\propto r^{3/2} \\citep[e.g.][]{Kumar2020,Yuan2020}.$\n",
       "$When the relative amplitude grows to {\\delta B}/{ B}\\approx1 \\citep{Yuan2020,Yuan2022ApJ} at a distance of$\n",
       "$\\begin{eqnarray}$\n",
       "$   R_{\\rm m}\\approx 1.4\\times 10^7\\fac^{-1/3}\\epsilon^{-1/3}\\zeta^{-2/3}~\\rm{cm},$\n",
       "$\\end{eqnarray}$\n",
       "$the Alfv\\'en waves will become nonlinear and shear the magnetosphere.$\n",
       "$The background magnetic field here can be estimated from a dipole B_{\\rm m}=B_*R_*^3R_{\\rm m}^{-3}.$\n",
       "$Under the strong shear, the magnetosphere becomes unstable.$\n",
       "$A large part of the Alfv\\'en waves will be converted to FMS waves that propagates outwards radially in the form of a LFP \\citep{Yuan2021} due to the interaction with the curved magnetic field line.$\n",
       "$The remaining Alfv\\'en waves will dissipate inside the magnetosphere by nonlinear instabilities \\citep{Yuan2020} or absorbed by the magnetar \\citep{Li2015}.$\n",
       "$Self interactions among multiple Alfv\\'en waves can enhance the wave dissipation through turbulence cascade, increasing fast wave conversion rate \\citep{Li2019} or leading to fast dissipation \\citep{Li2021}.$\n",
       "$\\vspace{-5pt}$\n",
       "$\\subsection{Generation of FRBs}$\n",
       "$An illustration for the generation of FRBs is shown in Fig. \\ref{fig:magnetar_model}.$\n",
       "$During the propagation of the LFP at r>R_{\\rm m}, its toroidal field follows rB_{\\rm LFP } = B_{\\rm LFP, m}R_{\\rm m} with B_{\\rm LFP, m}\\approx B_{\\rm m} \\citep{Yuan2020,Yuan2022ApJ}.$\n",
       "$As the energy contained in the LFP is higher than that of background field, the magnetosphere is distorted.$\n",
       "$The poloidal field follows r^2 B_p= B_{\\rm m}R_{\\rm m}^{2} from the conservation of magnetic flux.$\n",
       "$Thus the magnetosphere at R>R_{\\rm m} can be treated as a split monopole \\citep{Parfrey2013,Yuan2020,Yuan2022ApJ}.$\n",
       "$When the LFP propagates beyond the light cylinder at R_L=c P/2\\pi, where P is the magnetar rotation period, it enters the magnetar wind zone.$\n",
       "$The toroidal field of the LFP and the poloidal field of the magnetosphere at the light cylinder are$\n",
       "$\\begin{eqnarray}$\n",
       "$    B_{\\rm LFP, L}=3.4\\times10^8\\Bc\\fac^{2/3}\\epsilon^{2/3}\\zeta^{4/3}\\left(\\frac{P}{3 {\\rm s}}\\right)^{-1} \\rm{G}\\label{eq:bphi_LC};\\B_{p,m}(R_{\\rm L})=3.4\\times10^5\\Bc\\fac^{1/3}\\epsilon^{1/3}\\zeta^{2/3}\\left(\\frac{P}{3 {\\rm s}}\\right)^{-2} \\rm{G}.\\label{eq:bpol_LC}$\n",
       "$\\end{eqnarray}$\n",
       "$The LFP compresses the striped wind and accelerates the plasma to a bulk Lorentz factor of \\Gamma\\approx0.5\\sqrt{B_{\\rm LFP, L}/B_{\\rm w}(R_{\\rm L}) }, where the wind field is described as a monopole with B_{\\rm w}(r)=B_{p}(R_L)R_L/r and B_{p}(R_L) is the poloidal field of the magnetosphere at the light cylinder.$\n",
       "$The pulse front propagates into the magnetar wind launched by the unperturbed magnetosphere with B_{p}(R_L)=B_*R_*^3R_{\\rm L}^{-3}.$\n",
       "$However, the energy carried by the LFP amplifies the magnetic field at the light cylinder to B_{p,m}(R_{\\rm L}) \\citep{Yuan2020,Yuan2022ApJ}, which further enhances the toroidal magnetic field in the striped wind to B_{\\rm w}(R_{\\rm L})\\sim B_{p,m}(R_{\\rm L}).$\n",
       "$Therefore, the rear part of LFP will interact with the current sheets in the striped wind launched by the perturbed magnetosphere (see. Fig. \\ref{fig:magnetar_model}).$\n",
       "$In reality, the amplification of the wind toroidal field is highly dynamic, we therefore expect the wind field to be in the range B_{\\rm w}(R_{\\rm L})\\in[B_*R_*^3R_{\\rm L}^{-3},\\; B_{p,m}(R_{\\rm L})].$\n",
       "$The corresponding maximum and minimum Lorentz factors of the accelerated LFPs are then$\n",
       "$\\begin{eqnarray}$\n",
       "$    &&\\Gamma^{\\rm max}=496 \\epsilon^{1/3}\\zeta^{2/3}\\fac^{1/3}\\left(\\frac{P}{3 {\\rm s}}\\right);\\\\\\nonumber$\n",
       "$    &&\\Gamma^{\\rm min}=16 \\epsilon^{1/6}\\zeta^{1/3}\\fac^{1/6}\\left(\\frac{P}{3 {\\rm s}}\\right)^{1/2}.\\label{eq.Gamma}$\n",
       "$\\end{eqnarray}$\n",
       "$In the following we parameterize \\Gamma=100\\Gc which lies between \\Gamma^{\\rm min} and \\Gamma^{\\rm max}.$\n",
       "$And we expect \\Gamma\\rightarrow\\Gamma^{\\rm min} for LFPs consisting of multiple waves (e.g. n_A\\gtrsim3), such as in the SGR 1935+2154 event and FRB 20191221A (see Sec. \\ref{sec:explainQPO} for more details).$\n",
       "$The LFP compresses the current sheet in the striped wind, which triggers magnetic reconnection and leads to the generation of high-frequency FMS waves \\citep{Lyubarsky2020ApJ,Mahlmann2022ApJL}.$\n",
       "$Substituting B_{\\rm LFP,L} and \\Gamma into Eq.~(\\ref{Eq:nuc}), we obtain the frequency of the FMS waves,$\n",
       "$\\begin{eqnarray}$\n",
       "$    \\nuc=1.3\\fac\\Bc^{3/2}\\epsilon\\zeta^2\\left(\\frac{P}{3 {\\rm s}}\\right)^{-3/2}\\eta_1^{-1}\\Gc^{-1/2} \\rm{GHz},\\label{eq:nu_final}$\n",
       "$\\end{eqnarray}$\n",
       "$which lies in the radio band.$\n",
       "$The produced FMS waves suffers from nonlinear interactions in the magnetosphere that may prevent it from escaping.$\n",
       "$We can estimate the optical depth of the nonlinear interactions for the FMS waves following \\citet{Lyubarsky2020ApJ},$\n",
       "$\\begin{eqnarray}$\n",
       "$    \\tau_{\\rm NL}\\sim \\frac{\\kappa 2\\pi\\nu R_{\\rm L}}{2\\Gamma^2c}=0.5\\kappa_{-5.5}\\ncc\\left(\\frac{P}{3 {\\rm s}}\\right)\\Gc^{-2},$\n",
       "$\\end{eqnarray}$\n",
       "$where \\kappa=\\Bfms^2/B_{\\rm LFP, L}^2 is the energy ratio of the high-frequency FMS waves to the LFP. In 2D simulations, it is found that a fraction \\kappa\\sim10^{-4} of energy from the LFP is converted to the FMS, interpreted as an upper limit of the efficiency \\citep{Mahlmann2022ApJL}.$\n",
       "$The ratio of radio to X-ray energy of FRB200428 is found to be 10^{-6}-10^{-5} \\citep{Ridnaia2021NatAs}.$\n",
       "$Here we take \\kappa\\sim10^{-5.5} to be the fiducial value.$\n",
       "$Therefore, the FMS waves generated at the light cylinder can escape the magnetosphere without significant dissipation and be observed as FRBs.$\n",
       "$There are also current sheets behind the LFP inside the magnetosphere, which has been suggested to produce an FRB \\citep{Wang2020ApJ,Yuan2020,Yuan2022ApJ}.$\n",
       "$However, we would argue below that the FMS waves produced behind the LFP cannot be the primary source of FRB.$\n",
       "$On one hand, FMS waves emitted deep inside the magnetosphere suffers from strong dissipation due to the nonlinear interactions.$\n",
       "$The optical depth inside the magnetosphere is \\tau_{\\rm NL}\\approx({\\Bfms}/{B_p})^2\\omega R/c \\citep[see Eq. A3 in][]{Lyubarsky2020ApJ} with the FMS wave magnetic field {\\Bfms}=\\sqrt{2L_{\\rm FMS}/ r^2} and B_p being treated as a monopole.$\n",
       "$Setting \\tau_{\\rm NL}\\sim10, we obtain a mean-free-path$\n",
       "$\\begin{eqnarray}$\n",
       "$\\ell\\sim6.1\\times10^7\\Bc^{1/2}\\fac^{1/6}\\epsilon^{1/6}\\zeta^{1/3}\\ncc^{-1/4}L_{\\rm FMS,42}^{-1/4} {\\rm cm},$\n",
       "$\\end{eqnarray}$\n",
       "$which is much smaller than R_L for a typical magnetar with period 0.1-10~s.$\n",
       "$On the other hand, the reconnection of the current sheet behind the LFP is supported by the reversed poloidal magnetic field \\citep{Yuan2022ApJ}.$\n",
       "$Near the light cylinder where the produced FMS can escape, we can estimate$\n",
       "$\\begin{eqnarray}$\n",
       "$    \\frac{B_{p,m}^2(R_{\\rm L})}{B_{\\rm LFP, L}^2}=1.0\\times10^{-6}\\fac^{-2/3}\\epsilon^{-2/3}\\zeta^{-4/3}\\left(\\frac{P}{3 {\\rm s}}\\right)^{-2}.$\n",
       "$\\end{eqnarray}$\n",
       "$The magnetic energy here is much smaller than the energy of the LFP, therefore the escaping FMS wave must be dominated by those generated in the striped wind.$\n",
       "$\\vspace{-5pt}$\n",
       "$\\subsection{QPOs in FRBs}$\n",
       "$The LFP is made up of low-frequency FMS waves converted from the propagating Alfv\\'en waves.$\n",
       "$This process can be viewed as the nonlinear interaction between Alfv\\'en waves and the curved background magnetic field.$\n",
       "$The leading order wave interaction is the three-wave interaction with the frequency of FMS wave given by f_{\\rm LFP}=f_A+f_{\\rm bg}.$\n",
       "$As the background magnetic field can be viewed as a large scale perturbation, i.e. f_{\\rm bg}\\approx 0, the resulting LFP wave will have the same frequency as the Alfv\\'en wave f_{\\rm LFP}\\approx \\fa.$\n",
       "$The LFP propagates outward radially with its thickness conserved as found by numerical simulations \\citep{Yuan2022ApJ}. Therefore the LFP frequency remains constant.$\n",
       "$The energy dissipation of the magnetic reconnection at the light cylinder will be mediated by this LFP wave frequency, so that we expect$\n",
       "$\\begin{eqnarray}$\n",
       "$    \\ffrb\\sim f_{\\rm LFP}\\approx\\fa.$\n",
       "$\\end{eqnarray}$\n",
       "$Note in this expression, we assume \\fa>1/P, which will in general be satisfied for magnetars with P\\gtrsim0.1 s. Otherwise the FRB profile will also be modulated by the spin period.$\n",
       "$The LFP accelerates during the propagation to the light cylinder.$\n",
       "$Therefore the observed width of one single pulse and peak luminosity is$\n",
       "$\\begin{eqnarray}$\n",
       "$    W_{\\rm p}\\approx1/(\\Gamma\\fa),\\label{eq:tpulse}\\L_{\\rm FMS}\\approx\\kappa L_A \\Gamma\\label{eq:lfrb}.$\n",
       "$\\end{eqnarray}$\n",
       "$The frequency of Alfv\\'en waves depends on the magnetar properties.$\n",
       "$\\cite{Duncan1998ApJL} studied the shear wave in the magnetar crust and found that the frequency of toroidal modes with the lowest radial node (symbolized by _lt_0) follows \\fa(_lt_0)\\approx12.2l^{1/2}(l+1)^{1/2} \\rm{Hz} with l\\geq2 being an integer \\citep{Duncan1998ApJL}.$\n",
       "$Later it is found that the crustal shear modes would couple with the MHD modes of the magnetar core, and the frequency and duration of the oscillation will be modified \\citep[e.g.][]{Levin2007MNRAS,Hoven2012,Gabler2016MNRAS}.$\n",
       "$Such theories indicate that the fundamental frequency of magnetar QPOs can be as low as a few Hz, and it can be much higher for high order overtones, even up to a few kHz \\citep[e.g.][]{Hoven2012}.$\n",
       "$The observed QPO signals in FRBs will be dominated by one or several major frequencies which carries most of the energy, and the FRB light curve is made by their superposition.$\n",
       "$\\vspace{-5pt}$\n",
       "$\\section{Application to the observed QPOs and the SGR 1935+2154 event}\\label{sec:explainQPO}$\n",
       "$Observations show that the FRB from the galactic magnetar, SGR 1935+2154 \\citep{CHIME2020Naturmagnetar,Bochenek2020Natur}, is associated with a hard X-ray burst by several X-ray instruments\\citep{Li2021NatAs,Mereghetti2020ApJL,Ridnaia2021NatAs,Tavani2021NatAs}.$\n",
       "$This magnetar is of spin period and surface magnetic field P=3.2 s and B_*=2.2\\times10^{14} G respectively \\citep{Olausen2014,Israel2016}.$\n",
       "$Two radio pulses separated by 30 ms are found in this FRB, while more pulses are detected in X-ray bands.$\n",
       "$Especially, a QPO of \\fa\\approx40 Hz and n_A\\gtrsim8 is detected in the X-ray light curve by the Insight-HXMT \\citep{Li2022ApJ}.$\n",
       "$The observed pulse width is 0.3-0.6 ms ms by CHIME and STARE2 in 0.6-1.3 GHz \\citep{CHIME2020Naturmagnetar,Bochenek2020Natur}.$\n",
       "$Substituting \\epsilon<1/n_A\\sim1/8, W_{\\rm p}\\sim0.5 ms, and  \\nuc\\sim1 GHz as well as the observed radio peak luminosity L_{\\rm FMS}\\approx10^{38} erg/s \\citep{Bochenek2020Natur,Zhou2020ApJ} into Eqs. (\\ref{eq:nu_final}, \\ref{eq:tpulse} and \\ref{eq:lfrb}), we obtain \\Gamma\\sim50, \\zeta\\gtrsim11\\eta_1^{1/2} and L_A\\approx 6\\times10^{41} \\kappa_{-5.5}^{-1} erg/s.$\n",
       "$The required \\Gamma is in the allowed range [22\\eta_1^{1/6}, 977\\eta_1^{1/3}] from Eq. (\\ref{eq.Gamma}).$\n",
       "$And the required L_A is higher than the observed X-ray luminosity, 1.1\\times10^{41}~erg/s \\citep{Ridnaia2021NatAs}.$\n",
       "$Therefore, our model can explain this event self-consistently.$\n",
       "$QPO signals are also observed in individual FRB events, such as the 4.6 Hz QPO in FRB 20191221A, 357.1 Hz in FRB 20210206A, 93.4 Hz in FRB 20210213A detected by CHIME \\citep{CHIME2022Natur}, and the 2.4 kHz QPO in FRB 20201020A detected by Apertif \\citep{Pastor-Marazuela2022arXiv}.$\n",
       "$The observed QPOs with frequencies larger than 93.4 Hz mentioned above can be explained by the overtones in a wide parameter range. While the 4.6 Hz QPO in FRB 20191221A may relate to the fundamental mode. We here focus on this source, which has the highest significance \\citep{CHIME2022Natur}.$\n",
       "$The observed radio frequency, single pulse width, and QPO frequency of FRB 20191221A are \\nuc\\approx0.7 GHz, W_{\\rm p}\\approx4 ms, and f_A\\approx4.6 Hz with n_A\\approx9, respectively.$\n",
       "$The total duration of this event is \\sim3 s and we would expect P>3 s so that the QPO signal is not contaminated by the magnetar rotation.$\n",
       "$Substituting them into Eqs. (\\ref{eq:nu_final} and \\ref{eq:tpulse}), we obtain \\Gamma=54 and \\zeta\\gtrsim9\\eta_1^{1/2}(P/3 {\\rm s})^{3/4}\\Bc^{-3/4}.$\n",
       "$The required \\Gamma is in the allowed range [14\\eta_1^{1/6}(P/3 {\\rm s})^{3/4}\\Bc^{-1/4},367\\eta_1^{1/3}(P/3 {\\rm s})^{3/2}\\Bc^{-1/2}].$\n",
       "$Thus the QPO in FRB 20191221A can also be explained by our model.$\n",
       "$\\vspace{-5pt}$\n",
       "$\\section{Conclusion and Discussion}\\label{sec:conclusion}$\n",
       "$In this paper we revisited the intermediate-field FRB model and studied the QPOs.$\n",
       "$The launch of Alfv\\'en waves into the magnetosphere generates an LFP, which is made up of FMS waves at approximately the same frequencies of Alfv\\'en waves (\\fa).$\n",
       "$This further generates FRBs when the LFP dissipates its energy at the current sheet near the light cylinder.$\n",
       "$The FRB light curve is thus modulated by the frequency of the LFP, exhibiting QPOs at a frequency \\sim\\fa.$\n",
       "$The major difference of our calculations from \\cite{Lyubarsky2020ApJ} is the treatment of magnetic field configurations of the LFP and the magnetar wind, as we considered the wave dynamics in the magnetosphere.$\n",
       "$The FRB frequency (Eq. \\ref{eq:nu_final}), the single pulse width (Eq. \\ref{eq:tpulse}), and luminosity (Eq. \\ref{eq:lfrb}) depend mainly on the magnetar's period and magnetic field and the quake energetics and QPO frequency.$\n",
       "$For the dynamics in the magnetosphere and the compressed striped wind, numerical simulations \\citep{Yu2020,Yuan2022ApJ,Mahlmann2022ApJL} have improved the understanding of the related parameters.$\n",
       "$Therefore, the major uncertainties mainly come from two quake energetic parameters (\\epsilon and \\zeta), which requires further studies for a better understanding.$\n",
       "$With physically reasonable values for these two parameters, we find that this model can naturally and self-consistently interpret the observed frequency, pulse width, luminosity and QPO signal of the radio/X-ray event from SGR 1935+2154 and FRB 20191221A.$\n",
       "$Our model can also naturally explain the observed wide energy span detected in a relative narrow frequency band, such as the broad energy range (4\\times10^{36}-8\\times10^{39} erg) observed in FRB 121102 at 1.25 GHz \\citep{Li2021Natur}, as the frequency does not depend on the flare energy apparently.$\n",
       "$And in certain parameter space for young magnetars, the frequency is in the optical band, indicating the possibility of producing fast optical transients.$\n",
       "$In general, QPOs will modulate the FRB light curve. Direct identification of QPOs may require at least around ten individual pulses (n_A\\gtrsim10) in one event \\citep[e.g.][]{CHIME2022Natur}.$\n",
       "$For the high-frequency QPOs (\\fa\\gtrsim1 kHz), the corresponding FRB pulses may overlap with each other, making it difficult to identify from the data.$\n",
       "$While for the low-frequency QPOs (\\fa\\sim10 Hz), one may only expect to detect them from magnetars with P\\gtrsim10/\\fa\\sim1 s so that the QPO signal is not contaminated by the magnetar spin.$\n",
       "$For repeating FRBs, QPOs would affect the waiting time distribution even if only several pulses are presented in the observed individual events.$\n",
       "$The peak at 3.4 ms in the waiting time distribution of FRB 121102 may be such a case \\citep{Li2021Natur}.$\n",
       "$As only a small portion of energy is dissipated to power FRBs, the majority of the energy will be dissipated into X-rays or carried by the ejecta.$\n",
       "$The ejecta would further power an afterglow or a nebula \\citep[e.g.][]{Waxman2017,Beloborodov2017,Margalit2018,WangLai2020}.$\n",
       "$As magnetar flares may eject a large fraction of mass \\citep[e.g.][]{Granot2006ApJ}, high-energy cosmic rays can also be produced in such afterglows/nebulae.$\n",
       "$Besides, such a magnetic reconnection process could also take place in neutron star mergers \\citep[e.g.][]{Wang2018,Most2022MNRAS} and accreting black holes \\citep[e.g.][]{Beloborodov2017ApJ,Sridhar2021MNRAS}, thus we might also expect such reconnection driven transients from neutron star mergers, X-ray binaries, or active galactic nuclei.$\n",
       "$\\vspace{-5pt}$\n",
       "$\\section*{Acknowledgements}$\n",
       "$JSW thanks J. Kirk, B. Reville, and F. Guo for discussions.$\n",
       "$JSW acknowledges the support from the Alexander von Humboldt Foundation.$\n",
       "$XL is supported by NSERC, fundingreference \\#CITA 490888-16 and the Jeffrey L. Bishop Fellowship. Research at Perimeter Institute is supported in part by the Government of Canada through the Department of Innovation, Science and Economic Development Canada and theProvince of Ontario through the Ministry of Colleges and Universities.$\n",
       "$ZGD is supported by the National Key Research and Development Program of China (grant No. 2017YFA0402600), the National SKA Program of China (grant No. 2020SKA0120300), and the National Natural Science Foundation of China (grant No. 11833003).$\n",
       "$XFW is supported by the National Natural Science Foundation of China (Grant Nos. 11725314, 12041306).$\n",
       "$\\vspace{-5pt}$\n",
       "$\\section*{Data Availability}$\n",
       "$There are no new data associated with this article.$\n",
       "$\\vspace{-5pt}$\n",
       "$\\bibliographystyle{mnras}$\n",
       "$\\bibliography{ref}$\n",
       "$\\bsp$\n",
       "$\\label{lastpage}$\n",
       "$\\end{document}\\end{eqnarray}}$\n",
       "$\\newcommand{\\eeq}{\\end{eqnarray}}$\n",
       "$\\newcommand{\\bq}{B_{\\rm QED}}$\n",
       "$\\newcommand{\\fa}{f_{A}}$\n",
       "$\\newcommand{\\fac}{f_{A,2}}$\n",
       "$\\newcommand{\\Gc}{\\Gamma_2}$\n",
       "$\\newcommand{\\ffrb}{f_{\\rm FRB}}$\n",
       "$\\newcommand{\\lc}{L_{\\rm FRB,43}}$\n",
       "$\\newcommand{\\nuc}{\\nu_{\\rm c}}$\n",
       "$\\newcommand{\\ncc}{\\nu_{\\rm c,9}}$\n",
       "$\\newcommand{\\lwc}{L_{\\rm w,45}}$\n",
       "$\\newcommand{\\muc}{\\mu_{33}}$\n",
       "$\\newcommand{\\Bc}{B_{ d,15}}$\n",
       "$\\newcommand{\\lac}{L_{A,44}}$\n",
       "$\\newcommand{\\Bfms}{B_{\\rm FMS}}$\n",
       "$\\newcommand{\\xl}{\\textcolor{red}}$\n",
       "$\\newcommand{\\js}{\\textcolor{cyan}}$\n",
       "$\\newcommand{\\thebibliography}{\\DeclareRobustCommand{\\VAN}[3]{##3}\\VANthebibliography}$</div>\n",
       "\n",
       "<div class=\"macros\" style=\"visibility:hidden;\">\n",
       "$\\newcommand{$\\ensuremath$}{}$\n",
       "$\\newcommand{$\\xspace$}{}$\n",
       "$\\newcommand{$\\object$}[1]{\\texttt{#1}}$\n",
       "$\\newcommand{$\\farcs$}{{.}''}$\n",
       "$\\newcommand{$\\farcm$}{{.}'}$\n",
       "$\\newcommand{$\\arcsec$}{''}$\n",
       "$\\newcommand{$\\arcmin$}{'}$\n",
       "$\\newcommand{$\\ion$}[2]{#1#2}$\n",
       "$\\newcommand{$\\textsc$}[1]{\\textrm{#1}}$\n",
       "$\\newcommand{$\\hl$}[1]{\\textrm{#1}}$\n",
       "$\\newcommand{\\beq}{\\begin{eqnarray}}$\n",
       "$\\newcommand{$\\eeq$}{\\end{eqnarray}}$\n",
       "$\\newcommand{$\\bq$}{B_{\\rm QED}}$\n",
       "$\\newcommand{$\\fa$}{f_{A}}$\n",
       "$\\newcommand{$\\fa$c}{f_{A,2}}$\n",
       "$\\newcommand{$\\Gc$}{\\Gamma_2}$\n",
       "$\\newcommand{$\\ffrb$}{f_{\\rm FRB}}$\n",
       "$\\newcommand{$\\lc$}{L_{\\rm FRB,43}}$\n",
       "$\\newcommand{$\\nuc$}{\\nu_{\\rm c}}$\n",
       "$\\newcommand{$\\ncc$}{\\nu_{\\rm c,9}}$\n",
       "$\\newcommand{$\\lwc$}{L_{\\rm w,45}}$\n",
       "$\\newcommand{$\\muc$}{\\mu_{33}}$\n",
       "$\\newcommand{$\\Bc$}{B_{ d,15}}$\n",
       "$\\newcommand{$\\lac$}{L_{A,44}}$\n",
       "$\\newcommand{$\\Bfms$}{B_{\\rm FMS}}$\n",
       "$\\newcommand{$\\xl$}{\\textcolor{red}}$\n",
       "$\\newcommand{$\\js$}{\\textcolor{cyan}}$\n",
       "$\\begin{document}$\n",
       "$\\begin{CJK*}{UTF8}{gkai}$\n",
       "$\\title[An Intermediate-field FRB model and QPO]{{An Intermediate-field Fast Radio Burst Model and the Quasi-periodic Oscillation}$\n",
       "$}$\n",
       "$\\author[Wang et al.]{Jie-Shuang Wang$\n",
       "$^{1}\\thanks{E-mail:jiesh.wang@gmail.com},$\n",
       "$Xinyu Li$\n",
       "$^{2,3},$\n",
       "$Zigao Dai$\n",
       "$^{4,5},$\n",
       "$Xuefeng Wu$\n",
       "$^6\\^{1}Max-Planck-Institut f\\\"ur Kernphysik, Saupfercheckweg 1, D-69117 Heidelberg, Germany \\^2Canadian Institute for Theoretical Astrophysics, 60 St George St, Toronto, ON M5R 2M8\\^3Perimeter Institute for Theoretical Physics, 31 Caroline Street North, Waterloo, Ontario, Canada, N2L 2Y5\\^4Department of Astronomy, University of Science and Technology of China, Hefei 230026, China\\^5School of Astronomy and Space Science, Nanjing University, Nanjing 210023, China\\^6Purple Mountain Observatory, Chinese Academy of Sciences, Nanjing 210023, China$\n",
       "$}$\n",
       "$\\label{firstpage}$\n",
       "$\\pagerange{\\pageref{firstpage}--\\pageref{lastpage}}$\n",
       "$\\maketitle$\n",
       "$\\end{CJK*}$\n",
       "$\\begin{abstract}$\n",
       "$Quasi-periodic oscillation (QPO) signals are discovered in some fast radio bursts (FRBs) such as FRB 20191221A, as well as in the X-ray burst associated with the galactic FRB from SGR 1935+2154.$\n",
       "$We revisit the intermediate-field FRB model where the radio waves are generated as fast-magnetosonic waves through magnetic reconnection near the light cylinder.$\n",
       "$The current sheet in the magnetar wind is compressed by a low frequency pulse emitted from the inner magnetosphere to trigger magnetic reconnection.$\n",
       "$By incorporating the wave dynamics of the magnetosphere, we demonstrate how the FRB frequency, the single pulse width, and luminosity are determined by the period, magnetic field, QPO frequency and quake energetics of the magnetar.$\n",
       "$We find that this model can naturally and self-consistently interpret the X-ray/radio event from SGR 1935+2154 and the QPO in FRB 20191221A.$\n",
       "$It can also explain the observed wide energy range of repeating FRBs in a narrow bandwidth.$\n",
       "$\\end{abstract}$\n",
       "$\\begin{keywords}$\n",
       "$fast radio bursts -- stars: magnetars -- radiation mechanisms: non-thermal -- MHD -- magnetic reconnection$\n",
       "$\\end{keywords}$\n",
       "$\\section{Introduction}$\n",
       "$In recent years, the study of fast radio bursts (FRBs) has been greatly advanced by the progress in the observations.$\n",
       "$New detections of the galactic events \\citep{CHIME2020Naturmagnetar,Bochenek2020Natur}, burst polarisation \\citep[e.g.][]{Michilli2018,Luo2020Natur}, burst morphology \\citep[e.g.][]{Pleunis2021ApJ}, source periodicity \\citep[e.g.][]{Chime2020NaturPeriod,Pastor-Marazuela2021Natur,CHIME2022Natur}, source activity \\citep[e.g.][]{Li2021Natur} and host galaxies \\citep[e.g.][]{Bassa2017ApJL,Bhandari2022AJ}, have led to constraints on both progenitor models and radiation mechanisms.$\n",
       "$However, a complete theoretical understanding of fast radio bursts is still not available and requires more effort \\citep[see][for recent reviews]{Zhang2020Natur,Xiao2021SCPMA}.$\n",
       "$Highly magnetised compact objects are usually involved as the central engine of FRBs, such as magnetars, pulsars, and accreting black holes. Among them, the magnetar scenario has been confirmed by the detection of the galactic event \\citep{CHIME2020Naturmagnetar,Bochenek2020Natur,Li2021NatAs,Mereghetti2020ApJL,Ridnaia2021NatAs,Tavani2021NatAs}.$\n",
       "$Theoretically, the energy resource can come from the internal magnetic energy of magnetars \\citep[e.g.][]{Popov2013,Katz2016,Beloborodov2017,Margalit2020ApJL} or the gravitational potential energy when a companion star is involved \\citep[e.g.][]{Wang2016,Dai2016,Wang2018,Zhang2020ApJL,Dai2020ApJL,Most2022MNRAS}.$\n",
       "$Currently, the mainstream FRB radiation mechanisms can be divided into two categories: the near-field (or close-in) and the far-field (or far-away) model.$\n",
       "$The near-field model, mainly based on the coherent curvature radiation model near the magnetar surface \\citep[e.g.][]{Kumar2017,Yang2018,Lu2020MNRAS,WangFY2020ApJ,Yang2020ApJL,WangWY2020ApJ}, can explain the complex temporal behavior of FRBs, while the bunching mechanism for the coherent curvature radiation is unclear.$\n",
       "$The far-field model incorporates the synchrotron maser emission at the shock front far from the magnetosphere as the coherent radio emission mechanism  \\citep[e.g.][]{Lyubarsky2014,Beloborodov2017,Margalit2018,Waxman2017,Metzger2019MNRAS,Beloborodov2020ApJ,Plotnikov2019,Margalit2020ApJL,Wu2020ApJL,Xiao2020ApJL}.$\n",
       "$This mechanism has been demonstrated using kinetic plasma simulations \\citep[e.g.][]{Plotnikov2019,Sironi2021PhRvL}.$\n",
       "$However, it is difficult to explain the sub-second scale quasi-periodic oscillations (QPOs) from FRBs \\citep{CHIME2022Natur,Pastor-Marazuela2022arXiv}.$\n",
       "$It is also found that neither model can fully explain the X-ray/radio event from SGR 1935+2154 \\citep{Wang2020ApJ}.$\n",
       "$Recently, a new type of FRB model is proposed where an FRB is radiated as fast-magnetosonic (FMS) waves generated from violent magnetic reconnection triggered by a low-frequency pulse (LFP) compressing the current sheet \\citep{Lyubarsky2020ApJ}.$\n",
       "$As the coherent radio emission is produced near the light cylinder, we refer to it as the \"intermediate-field\" model.$\n",
       "$Kinetic plasma simulations \\citep{Philippov2019,Mahlmann2022ApJL} have successfully demonstrated the emission of coherent FMS waves through this mechanism.$\n",
       "$It is also found that the high linear polarisation \\citep{Lyubarsky2020ApJ} and the downward frequency drifting \\citep{Mahlmann2022ApJL} can be well explained.$\n",
       "$However, the predicted frequency is significantly lower than the observation of the SGR 1935+2154 event \\citep{Wang2020ApJ}.$\n",
       "$In this paper, we revisit the intermediate-field model and propose that the LFP is produced through nonlinear conversion of Alfv\\'en waves, which further leads to the generation of QPOs.$\n",
       "$In section \\ref{sec:radiation_injection}, we briefly review the coherent radiation mechanism from magnetic reconnection.$\n",
       "$In section \\ref{sec:FRB_QPO}, we study the injection of energy through Alfv\\'en waves, the wave dynamics in the magnetosphere, and the generation of FRBs and QPOs.$\n",
       "$In section \\ref{sec:explainQPO}, we apply our model to observations.$\n",
       "$The conclusion and discussion are presented in section \\ref{sec:conclusion}.$\n",
       "$Throughout this paper we adopt the shorthand X=X_n\\times 10^n to describe the normalization of quantity X in cgs units.$\n",
       "$\\vspace{-5pt}$\n",
       "$\\section{Reconnection Driven Coherent Radio Emission}\\label{sec:radiation_injection}$\n",
       "$Magnetic reconnection is a process of changing the magnetic topology when two oppositely directed magnetic field lines approach each other forming a current sheet at the centre.$\n",
       "$The onset of magnetic reconnection is triggered when the current sheet becomes tearing or kink unstable and breaks into a self-similar chain of plasmoids extending down to the kinetic scale \\citep{Uzdensky2010PhRvL}.$\n",
       "$Fast magnetic reconnection proceeds when the plasmoids collide and merge into larger islands.$\n",
       "$During the coalescence of plasmoids, magnetic energy is dissipated and FMS waves are produced.$\n",
       "$In highly magnetized systems with magnetization parameter \\sigma\\equiv B^2/4\\pi \\rho c^2 \\gg1, FMS waves have similar dispersion relation as vacuum electromagnetic waves \\citep{Thompson1998,Li2019} and can convert to coherent radio waves \\citep[e.g.][]{Lyubarsky2019,Philippov2019,Lyubarsky2020ApJ}.$\n",
       "$\\cite{Lyubarsky2020ApJ} proposed that the coherent emission of FRBs are GHz FMS waves generated by the plasmoid collision during magnetic reconnection.$\n",
       "$In their picture, the current sheets in the magnetar wind are compressed by an external outgoing LFP and become tearing unstable under the perturbation, and magnetic reconnection is  initiated.$\n",
       "$Coherent FMS waves are produced in the reconnection and can escape as fast radio bursts.$\n",
       "$Kinetic simulations by \\citet{Mahlmann2022ApJL} have confirmed this process and found that FMS waves takes only a small fraction of the reconnection energy.$\n",
       "$The characteristic frequency of the coherent FMS waves is determined by the size of the plasmoid \\lambda'_c. Note we use the primed symbols to mark parameters measured in the co-moving frame of the plasma throughout the paper.$\n",
       "$In the plasma comoving frame, \\omega'_c \\approx c/ \\lambda'_c.$\n",
       "$The typical plasmoid size is found to be proportional to the width of the current sheet \\lambda'_c=\\varsigma a' with \\varsigma\\sim10-100 \\citep{Philippov2019,Lyubarsky2020ApJ}, and the width depends on the Larmor radius a'=\\varpi r_{\\rm L} with \\varpi being a few.$\n",
       "$\\cite{Lyubarsky2020ApJ} gave the expression of the plasmoid size by balancing the pressure and energy,$\n",
       "$\\begin{eqnarray}$\n",
       "$    \\lambda'_c=\\sqrt{\\frac{8\\pi\\beta_{\\rm rec}\\varpi}{e\\sigma_T}}\\frac{m_ec^2}{B'^{3/2}},$\n",
       "$\\end{eqnarray}$\n",
       "$where \\sigma_T is the Thomson scattering cross section, \\beta_{\\rm rec}\\sim0.1 is the reconnection rate, B'=B/\\Gamma is the magnetic field in the comoving frame and \\Gamma is the bulk Lorentz factor.$\n",
       "$Therefore, the characteristic frequency in the observer's frame is,$\n",
       "$\\beq$\n",
       "$\\nu_{\\rm c}\\equiv\\Gamma\\omega'_c/2\\pi\\approx 2.1 \\eta_1^{-1} \\Gamma^{-1/2} B_{8}^{3/2}~{\\rm GHz},\\label{Eq:nuc}$\n",
       "$\\eeq$\n",
       "$where \\eta\\equiv\\varsigma \\varpi^{1/2}\\beta_{\\rm rec}^{1/2}.$\n",
       "$This expression is confirmed numerically by \\cite{Mahlmann2022ApJL} but with a slightly different expression of \\eta.$\n",
       "$\\begin{figure}$\n",
       "$    \\centering$\n",
       "$    \\vspace{-5pt}$\n",
       "$    \\includegraphics[width=0.35\\textwidth]{QPO_model.pdf}$\n",
       "$    \\caption{The schematic picture of the intermediate-field FRB model (not to scale):$\n",
       "$    Alfv\\'en waves propagate along field lines of R\\gtrsim R_0, and become non-linear at R_{\\rm m}, which leads to the conversion to an LFP.$\n",
       "$    (The Alfv\\'en waves and LFP are drawn with different styles and unrealistic wavelengths to make their presence clear.)$\n",
       "$    The LFP compress the current sheet in the striped magnetar wind near the light cylinder.$\n",
       "$    High-frequency FMS waves are generated by merging islands during the violent magnetic reconnection, which can escape as an FRB.}$\n",
       "$    \\label{fig:magnetar_model}$\n",
       "$\\end{figure}$\n",
       "$\\vspace{-5pt}$\n",
       "$\\section{Intermediate-field FRB models and QPOs}\\label{sec:FRB_QPO}$\n",
       "$\\subsection{Energy injection via Alfv\\'en waves}$\n",
       "$For a magnetar with a surface dipole magnetic field B_d and radius R_*\\approx10^6 cm, the total magnetic energy is E_{B}=B_d^2R_{*}^3/6\\approx1.7\\times10^{47}$\\Bc$^2 erg.$\n",
       "$The internal magnetic field B_* can be higher and we parameterize it by B_*= \\zeta B_d with \\zeta>1.$\n",
       "$The internal magnetic energy can be released by a sudden starquake and crustal motion which are accompanied by the crustal shear oscillations \\citep[e.g.][]{Thompson1995MNRAS,Thompson2001,Duncan1998ApJL}.$\n",
       "$Such oscillations are proposed to explain the QPOs observed in magnetar X-ray flares \\citep[e.g.][]{Israel2005,Strohmayer2005,Strohmayer2006ApJ}.$\n",
       "$As the shear wave propagates in the crust, it shakes the anchored magnetic field lines, and launches Alfv\\'en waves into the magnetosphere \\citep{Thompson2001,Li2016,Thompson2017,Bransgrove2020}.$\n",
       "$The Alfv\\'en waves carry energy into the magnetosphere and propagate along the field lines,$\n",
       "$as sketched in Fig.~\\ref{fig:magnetar_model}.$\n",
       "$The field-line equation is r=R\\sin^2{\\theta}, where R is the maximum distance of the field line to the magnetar center and \\theta is the angle to the magnetic axis.$\n",
       "$For field lines with R\\gg R_*, the field-line length is l\\simeq\\pi R/2.$\n",
       "$The generated Alfv\\'en waves of frequency $\\fa$ in the magnetosphere can propagate along field lines with l\\geq l_0=\\pi R_0/2=c/$\\fa$=1.9\\times10^{10}$\\fa$^{-1}~{\\rm cm} as a perturbation.$\n",
       "$Note that Alfv\\'en waves travelling on field lines with l<l_0 may suffer strong nonlinear interaction and the dissipation mechanism is unclear. Thus we only consider magnetar quakes occurred near the magnetic polar region, so that magnetar oscillations can launch Alfv\\'en waves into the magnetosphere before damping \\citep[e.g.][]{Levin2007MNRAS,Hoven2012}.$\n",
       "$We consider a sudden release of internal magnetic energy of E_q=h S B_*^2/8\\pi in the crust with a crust thickness h\\approx10^5 cm and an area S_q.$\n",
       "$The magnetar quake can simultaneously launch a number of waves with different frequencies, that are of different damping time-scales \\citep[e.g.][]{Levin2007MNRAS,Hoven2012,Gabler2016MNRAS}.$\n",
       "$We assume that the Alfv\\'en wave of frequency f_A is the dominated one, and a number (n_A) of waves at this frequency has been excited.$\n",
       "$The energy carried by each wave is parameterized as \\epsilon E_q\\approx L_A/f_A with a power L_A and \\epsilon<1/n_A.$\n",
       "$The wave is launched from the magnetar surface within the same area,$\n",
       "$\\begin{eqnarray}$\n",
       "$    S_q=2.5\\times10^8$\\lac$$\\fa$c^{-1}$\\Bc$^{-2}\\epsilon^{-1}\\zeta^{-2} {\\rm cm}^2.$\n",
       "$\\end{eqnarray}$\n",
       "$The corresponding wave amplitude in the magnetosphere is {\\delta B}=\\sqrt{8\\pi L_A/S_qc}.$\n",
       "$Its relative amplitude to the background field near the magnetar surface is$\n",
       "$\\begin{eqnarray}$\n",
       "$    \\frac{\\delta B}{B_d}\\approx 0.02$\\fa$c^{1/2}\\epsilon^{1/2}\\zeta,$\n",
       "$\\end{eqnarray}$\n",
       "$As the Alfv\\'en wave propagates in the magnetosphere, its amplitude grows as {\\delta B}/{B_d}\\propto r^{3/2} \\citep[e.g.][]{Kumar2020,Yuan2020}.$\n",
       "$When the relative amplitude grows to {\\delta B}/{ B}\\approx1 \\citep{Yuan2020,Yuan2022ApJ} at a distance of$\n",
       "$\\begin{eqnarray}$\n",
       "$   R_{\\rm m}\\approx 1.4\\times 10^7$\\fa$c^{-1/3}\\epsilon^{-1/3}\\zeta^{-2/3}~\\rm{cm},$\n",
       "$\\end{eqnarray}$\n",
       "$the Alfv\\'en waves will become nonlinear and shear the magnetosphere.$\n",
       "$The background magnetic field here can be estimated from a dipole B_{\\rm m}=B_*R_*^3R_{\\rm m}^{-3}.$\n",
       "$Under the strong shear, the magnetosphere becomes unstable.$\n",
       "$A large part of the Alfv\\'en waves will be converted to FMS waves that propagates outwards radially in the form of a LFP \\citep{Yuan2021} due to the interaction with the curved magnetic field line.$\n",
       "$The remaining Alfv\\'en waves will dissipate inside the magnetosphere by nonlinear instabilities \\citep{Yuan2020} or absorbed by the magnetar \\citep{Li2015}.$\n",
       "$Self interactions among multiple Alfv\\'en waves can enhance the wave dissipation through turbulence cascade, increasing fast wave conversion rate \\citep{Li2019} or leading to fast dissipation \\citep{Li2021}.$\n",
       "$\\vspace{-5pt}$\n",
       "$\\subsection{Generation of FRBs}$\n",
       "$An illustration for the generation of FRBs is shown in Fig. \\ref{fig:magnetar_model}.$\n",
       "$During the propagation of the LFP at r>R_{\\rm m}, its toroidal field follows rB_{\\rm LFP } = B_{\\rm LFP, m}R_{\\rm m} with B_{\\rm LFP, m}\\approx B_{\\rm m} \\citep{Yuan2020,Yuan2022ApJ}.$\n",
       "$As the energy contained in the LFP is higher than that of background field, the magnetosphere is distorted.$\n",
       "$The poloidal field follows r^2 B_p= B_{\\rm m}R_{\\rm m}^{2} from the conservation of magnetic flux.$\n",
       "$Thus the magnetosphere at R>R_{\\rm m} can be treated as a split monopole \\citep{Parfrey2013,Yuan2020,Yuan2022ApJ}.$\n",
       "$When the LFP propagates beyond the light cylinder at R_L=c P/2\\pi, where P is the magnetar rotation period, it enters the magnetar wind zone.$\n",
       "$The toroidal field of the LFP and the poloidal field of the magnetosphere at the light cylinder are$\n",
       "$\\begin{eqnarray}$\n",
       "$    B_{\\rm LFP, L}=3.4\\times10^8$\\Bc$$\\fa$c^{2/3}\\epsilon^{2/3}\\zeta^{4/3}\\left(\\frac{P}{3 {\\rm s}}\\right)^{-1} \\rm{G}\\label{eq:bphi_LC};\\B_{p,m}(R_{\\rm L})=3.4\\times10^5$\\Bc$$\\fa$c^{1/3}\\epsilon^{1/3}\\zeta^{2/3}\\left(\\frac{P}{3 {\\rm s}}\\right)^{-2} \\rm{G}.\\label{eq:bpol_LC}$\n",
       "$\\end{eqnarray}$\n",
       "$The LFP compresses the striped wind and accelerates the plasma to a bulk Lorentz factor of \\Gamma\\approx0.5\\sqrt{B_{\\rm LFP, L}/B_{\\rm w}(R_{\\rm L}) }, where the wind field is described as a monopole with B_{\\rm w}(r)=B_{p}(R_L)R_L/r and B_{p}(R_L) is the poloidal field of the magnetosphere at the light cylinder.$\n",
       "$The pulse front propagates into the magnetar wind launched by the unperturbed magnetosphere with B_{p}(R_L)=B_*R_*^3R_{\\rm L}^{-3}.$\n",
       "$However, the energy carried by the LFP amplifies the magnetic field at the light cylinder to B_{p,m}(R_{\\rm L}) \\citep{Yuan2020,Yuan2022ApJ}, which further enhances the toroidal magnetic field in the striped wind to B_{\\rm w}(R_{\\rm L})\\sim B_{p,m}(R_{\\rm L}).$\n",
       "$Therefore, the rear part of LFP will interact with the current sheets in the striped wind launched by the perturbed magnetosphere (see. Fig. \\ref{fig:magnetar_model}).$\n",
       "$In reality, the amplification of the wind toroidal field is highly dynamic, we therefore expect the wind field to be in the range B_{\\rm w}(R_{\\rm L})\\in[B_*R_*^3R_{\\rm L}^{-3},\\; B_{p,m}(R_{\\rm L})].$\n",
       "$The corresponding maximum and minimum Lorentz factors of the accelerated LFPs are then$\n",
       "$\\begin{eqnarray}$\n",
       "$    &&\\Gamma^{\\rm max}=496 \\epsilon^{1/3}\\zeta^{2/3}$\\fa$c^{1/3}\\left(\\frac{P}{3 {\\rm s}}\\right);\\\\\\nonumber$\n",
       "$    &&\\Gamma^{\\rm min}=16 \\epsilon^{1/6}\\zeta^{1/3}$\\fa$c^{1/6}\\left(\\frac{P}{3 {\\rm s}}\\right)^{1/2}.\\label{eq.Gamma}$\n",
       "$\\end{eqnarray}$\n",
       "$In the following we parameterize \\Gamma=100$\\Gc$ which lies between \\Gamma^{\\rm min} and \\Gamma^{\\rm max}.$\n",
       "$And we expect \\Gamma\\rightarrow\\Gamma^{\\rm min} for LFPs consisting of multiple waves (e.g. n_A\\gtrsim3), such as in the SGR 1935+2154 event and FRB 20191221A (see Sec. \\ref{sec:explainQPO} for more details).$\n",
       "$The LFP compresses the current sheet in the striped wind, which triggers magnetic reconnection and leads to the generation of high-frequency FMS waves \\citep{Lyubarsky2020ApJ,Mahlmann2022ApJL}.$\n",
       "$Substituting B_{\\rm LFP,L} and \\Gamma into Eq.~(\\ref{Eq:nuc}), we obtain the frequency of the FMS waves,$\n",
       "$\\begin{eqnarray}$\n",
       "$    $\\nuc$=1.3$\\fa$c$\\Bc$^{3/2}\\epsilon\\zeta^2\\left(\\frac{P}{3 {\\rm s}}\\right)^{-3/2}\\eta_1^{-1}$\\Gc$^{-1/2} \\rm{GHz},\\label{eq:nu_final}$\n",
       "$\\end{eqnarray}$\n",
       "$which lies in the radio band.$\n",
       "$The produced FMS waves suffers from nonlinear interactions in the magnetosphere that may prevent it from escaping.$\n",
       "$We can estimate the optical depth of the nonlinear interactions for the FMS waves following \\citet{Lyubarsky2020ApJ},$\n",
       "$\\begin{eqnarray}$\n",
       "$    \\tau_{\\rm NL}\\sim \\frac{\\kappa 2\\pi\\nu R_{\\rm L}}{2\\Gamma^2c}=0.5\\kappa_{-5.5}$\\ncc$\\left(\\frac{P}{3 {\\rm s}}\\right)$\\Gc$^{-2},$\n",
       "$\\end{eqnarray}$\n",
       "$where \\kappa=$\\Bfms$^2/B_{\\rm LFP, L}^2 is the energy ratio of the high-frequency FMS waves to the LFP. In 2D simulations, it is found that a fraction \\kappa\\sim10^{-4} of energy from the LFP is converted to the FMS, interpreted as an upper limit of the efficiency \\citep{Mahlmann2022ApJL}.$\n",
       "$The ratio of radio to X-ray energy of FRB200428 is found to be 10^{-6}-10^{-5} \\citep{Ridnaia2021NatAs}.$\n",
       "$Here we take \\kappa\\sim10^{-5.5} to be the fiducial value.$\n",
       "$Therefore, the FMS waves generated at the light cylinder can escape the magnetosphere without significant dissipation and be observed as FRBs.$\n",
       "$There are also current sheets behind the LFP inside the magnetosphere, which has been suggested to produce an FRB \\citep{Wang2020ApJ,Yuan2020,Yuan2022ApJ}.$\n",
       "$However, we would argue below that the FMS waves produced behind the LFP cannot be the primary source of FRB.$\n",
       "$On one hand, FMS waves emitted deep inside the magnetosphere suffers from strong dissipation due to the nonlinear interactions.$\n",
       "$The optical depth inside the magnetosphere is \\tau_{\\rm NL}\\approx({$\\Bfms$}/{B_p})^2\\omega R/c \\citep[see Eq. A3 in][]{Lyubarsky2020ApJ} with the FMS wave magnetic field {$\\Bfms$}=\\sqrt{2L_{\\rm FMS}/ r^2} and B_p being treated as a monopole.$\n",
       "$Setting \\tau_{\\rm NL}\\sim10, we obtain a mean-free-path$\n",
       "$\\begin{eqnarray}$\n",
       "$\\ell\\sim6.1\\times10^7$\\Bc$^{1/2}$\\fa$c^{1/6}\\epsilon^{1/6}\\zeta^{1/3}$\\ncc$^{-1/4}L_{\\rm FMS,42}^{-1/4} {\\rm cm},$\n",
       "$\\end{eqnarray}$\n",
       "$which is much smaller than R_L for a typical magnetar with period 0.1-10~s.$\n",
       "$On the other hand, the reconnection of the current sheet behind the LFP is supported by the reversed poloidal magnetic field \\citep{Yuan2022ApJ}.$\n",
       "$Near the light cylinder where the produced FMS can escape, we can estimate$\n",
       "$\\begin{eqnarray}$\n",
       "$    \\frac{B_{p,m}^2(R_{\\rm L})}{B_{\\rm LFP, L}^2}=1.0\\times10^{-6}$\\fa$c^{-2/3}\\epsilon^{-2/3}\\zeta^{-4/3}\\left(\\frac{P}{3 {\\rm s}}\\right)^{-2}.$\n",
       "$\\end{eqnarray}$\n",
       "$The magnetic energy here is much smaller than the energy of the LFP, therefore the escaping FMS wave must be dominated by those generated in the striped wind.$\n",
       "$\\vspace{-5pt}$\n",
       "$\\subsection{QPOs in FRBs}$\n",
       "$The LFP is made up of low-frequency FMS waves converted from the propagating Alfv\\'en waves.$\n",
       "$This process can be viewed as the nonlinear interaction between Alfv\\'en waves and the curved background magnetic field.$\n",
       "$The leading order wave interaction is the three-wave interaction with the frequency of FMS wave given by f_{\\rm LFP}=f_A+f_{\\rm bg}.$\n",
       "$As the background magnetic field can be viewed as a large scale perturbation, i.e. f_{\\rm bg}\\approx 0, the resulting LFP wave will have the same frequency as the Alfv\\'en wave f_{\\rm LFP}\\approx $\\fa$.$\n",
       "$The LFP propagates outward radially with its thickness conserved as found by numerical simulations \\citep{Yuan2022ApJ}. Therefore the LFP frequency remains constant.$\n",
       "$The energy dissipation of the magnetic reconnection at the light cylinder will be mediated by this LFP wave frequency, so that we expect$\n",
       "$\\begin{eqnarray}$\n",
       "$    $\\ffrb$\\sim f_{\\rm LFP}\\approx$\\fa$.$\n",
       "$\\end{eqnarray}$\n",
       "$Note in this expression, we assume $\\fa$>1/P, which will in general be satisfied for magnetars with P\\gtrsim0.1 s. Otherwise the FRB profile will also be modulated by the spin period.$\n",
       "$The LFP accelerates during the propagation to the light cylinder.$\n",
       "$Therefore the observed width of one single pulse and peak luminosity is$\n",
       "$\\begin{eqnarray}$\n",
       "$    W_{\\rm p}\\approx1/(\\Gamma$\\fa$),\\label{eq:tpulse}\\L_{\\rm FMS}\\approx\\kappa L_A \\Gamma\\label{eq:lfrb}.$\n",
       "$\\end{eqnarray}$\n",
       "$The frequency of Alfv\\'en waves depends on the magnetar properties.$\n",
       "$\\cite{Duncan1998ApJL} studied the shear wave in the magnetar crust and found that the frequency of toroidal modes with the lowest radial node (symbolized by _lt_0) follows $\\fa$(_lt_0)\\approx12.2l^{1/2}(l+1)^{1/2} \\rm{Hz} with l\\geq2 being an integer \\citep{Duncan1998ApJL}.$\n",
       "$Later it is found that the crustal shear modes would couple with the MHD modes of the magnetar core, and the frequency and duration of the oscillation will be modified \\citep[e.g.][]{Levin2007MNRAS,Hoven2012,Gabler2016MNRAS}.$\n",
       "$Such theories indicate that the fundamental frequency of magnetar QPOs can be as low as a few Hz, and it can be much higher for high order overtones, even up to a few kHz \\citep[e.g.][]{Hoven2012}.$\n",
       "$The observed QPO signals in FRBs will be dominated by one or several major frequencies which carries most of the energy, and the FRB light curve is made by their superposition.$\n",
       "$\\vspace{-5pt}$\n",
       "$\\section{Application to the observed QPOs and the SGR 1935+2154 event}\\label{sec:explainQPO}$\n",
       "$Observations show that the FRB from the galactic magnetar, SGR 1935+2154 \\citep{CHIME2020Naturmagnetar,Bochenek2020Natur}, is associated with a hard X-ray burst by several X-ray instruments\\citep{Li2021NatAs,Mereghetti2020ApJL,Ridnaia2021NatAs,Tavani2021NatAs}.$\n",
       "$This magnetar is of spin period and surface magnetic field P=3.2 s and B_*=2.2\\times10^{14} G respectively \\citep{Olausen2014,Israel2016}.$\n",
       "$Two radio pulses separated by 30 ms are found in this FRB, while more pulses are detected in X-ray bands.$\n",
       "$Especially, a QPO of $\\fa$\\approx40 Hz and n_A\\gtrsim8 is detected in the X-ray light curve by the Insight-HXMT \\citep{Li2022ApJ}.$\n",
       "$The observed pulse width is 0.3-0.6 ms ms by CHIME and STARE2 in 0.6-1.3 GHz \\citep{CHIME2020Naturmagnetar,Bochenek2020Natur}.$\n",
       "$Substituting \\epsilon<1/n_A\\sim1/8, W_{\\rm p}\\sim0.5 ms, and  $\\nuc$\\sim1 GHz as well as the observed radio peak luminosity L_{\\rm FMS}\\approx10^{38} erg/s \\citep{Bochenek2020Natur,Zhou2020ApJ} into Eqs. (\\ref{eq:nu_final}, \\ref{eq:tpulse} and \\ref{eq:lfrb}), we obtain \\Gamma\\sim50, \\zeta\\gtrsim11\\eta_1^{1/2} and L_A\\approx 6\\times10^{41} \\kappa_{-5.5}^{-1} erg/s.$\n",
       "$The required \\Gamma is in the allowed range [22\\eta_1^{1/6}, 977\\eta_1^{1/3}] from Eq. (\\ref{eq.Gamma}).$\n",
       "$And the required L_A is higher than the observed X-ray luminosity, 1.1\\times10^{41}~erg/s \\citep{Ridnaia2021NatAs}.$\n",
       "$Therefore, our model can explain this event self-consistently.$\n",
       "$QPO signals are also observed in individual FRB events, such as the 4.6 Hz QPO in FRB 20191221A, 357.1 Hz in FRB 20210206A, 93.4 Hz in FRB 20210213A detected by CHIME \\citep{CHIME2022Natur}, and the 2.4 kHz QPO in FRB 20201020A detected by Apertif \\citep{Pastor-Marazuela2022arXiv}.$\n",
       "$The observed QPOs with frequencies larger than 93.4 Hz mentioned above can be explained by the overtones in a wide parameter range. While the 4.6 Hz QPO in FRB 20191221A may relate to the fundamental mode. We here focus on this source, which has the highest significance \\citep{CHIME2022Natur}.$\n",
       "$The observed radio frequency, single pulse width, and QPO frequency of FRB 20191221A are $\\nuc$\\approx0.7 GHz, W_{\\rm p}\\approx4 ms, and f_A\\approx4.6 Hz with n_A\\approx9, respectively.$\n",
       "$The total duration of this event is \\sim3 s and we would expect P>3 s so that the QPO signal is not contaminated by the magnetar rotation.$\n",
       "$Substituting them into Eqs. (\\ref{eq:nu_final} and \\ref{eq:tpulse}), we obtain \\Gamma=54 and \\zeta\\gtrsim9\\eta_1^{1/2}(P/3 {\\rm s})^{3/4}$\\Bc$^{-3/4}.$\n",
       "$The required \\Gamma is in the allowed range [14\\eta_1^{1/6}(P/3 {\\rm s})^{3/4}$\\Bc$^{-1/4},367\\eta_1^{1/3}(P/3 {\\rm s})^{3/2}$\\Bc$^{-1/2}].$\n",
       "$Thus the QPO in FRB 20191221A can also be explained by our model.$\n",
       "$\\vspace{-5pt}$\n",
       "$\\section{Conclusion and Discussion}\\label{sec:conclusion}$\n",
       "$In this paper we revisited the intermediate-field FRB model and studied the QPOs.$\n",
       "$The launch of Alfv\\'en waves into the magnetosphere generates an LFP, which is made up of FMS waves at approximately the same frequencies of Alfv\\'en waves ($\\fa$).$\n",
       "$This further generates FRBs when the LFP dissipates its energy at the current sheet near the light cylinder.$\n",
       "$The FRB light curve is thus modulated by the frequency of the LFP, exhibiting QPOs at a frequency \\sim$\\fa$.$\n",
       "$The major difference of our calculations from \\cite{Lyubarsky2020ApJ} is the treatment of magnetic field configurations of the LFP and the magnetar wind, as we considered the wave dynamics in the magnetosphere.$\n",
       "$The FRB frequency (Eq. \\ref{eq:nu_final}), the single pulse width (Eq. \\ref{eq:tpulse}), and luminosity (Eq. \\ref{eq:lfrb}) depend mainly on the magnetar's period and magnetic field and the quake energetics and QPO frequency.$\n",
       "$For the dynamics in the magnetosphere and the compressed striped wind, numerical simulations \\citep{Yu2020,Yuan2022ApJ,Mahlmann2022ApJL} have improved the understanding of the related parameters.$\n",
       "$Therefore, the major uncertainties mainly come from two quake energetic parameters (\\epsilon and \\zeta), which requires further studies for a better understanding.$\n",
       "$With physically reasonable values for these two parameters, we find that this model can naturally and self-consistently interpret the observed frequency, pulse width, luminosity and QPO signal of the radio/X-ray event from SGR 1935+2154 and FRB 20191221A.$\n",
       "$Our model can also naturally explain the observed wide energy span detected in a relative narrow frequency band, such as the broad energy range (4\\times10^{36}-8\\times10^{39} erg) observed in FRB 121102 at 1.25 GHz \\citep{Li2021Natur}, as the frequency does not depend on the flare energy apparently.$\n",
       "$And in certain parameter space for young magnetars, the frequency is in the optical band, indicating the possibility of producing fast optical transients.$\n",
       "$In general, QPOs will modulate the FRB light curve. Direct identification of QPOs may require at least around ten individual pulses (n_A\\gtrsim10) in one event \\citep[e.g.][]{CHIME2022Natur}.$\n",
       "$For the high-frequency QPOs ($\\fa$\\gtrsim1 kHz), the corresponding FRB pulses may overlap with each other, making it difficult to identify from the data.$\n",
       "$While for the low-frequency QPOs ($\\fa$\\sim10 Hz), one may only expect to detect them from magnetars with P\\gtrsim10/$\\fa$\\sim1 s so that the QPO signal is not contaminated by the magnetar spin.$\n",
       "$For repeating FRBs, QPOs would affect the waiting time distribution even if only several pulses are presented in the observed individual events.$\n",
       "$The peak at 3.4 ms in the waiting time distribution of FRB 121102 may be such a case \\citep{Li2021Natur}.$\n",
       "$As only a small portion of energy is dissipated to power FRBs, the majority of the energy will be dissipated into X-rays or carried by the ejecta.$\n",
       "$The ejecta would further power an afterglow or a nebula \\citep[e.g.][]{Waxman2017,Beloborodov2017,Margalit2018,WangLai2020}.$\n",
       "$As magnetar flares may eject a large fraction of mass \\citep[e.g.][]{Granot2006ApJ}, high-energy cosmic rays can also be produced in such afterglows/nebulae.$\n",
       "$Besides, such a magnetic reconnection process could also take place in neutron star mergers \\citep[e.g.][]{Wang2018,Most2022MNRAS} and accreting black holes \\citep[e.g.][]{Beloborodov2017ApJ,Sridhar2021MNRAS}, thus we might also expect such reconnection driven transients from neutron star mergers, X-ray binaries, or active galactic nuclei.$\n",
       "$\\vspace{-5pt}$\n",
       "$\\section*{Acknowledgements}$\n",
       "$JSW thanks J. Kirk, B. Reville, and F. Guo for discussions.$\n",
       "$JSW acknowledges the support from the Alexander von Humboldt Foundation.$\n",
       "$XL is supported by NSERC, fundingreference \\#CITA 490888-16 and the Jeffrey L. Bishop Fellowship. Research at Perimeter Institute is supported in part by the Government of Canada through the Department of Innovation, Science and Economic Development Canada and theProvince of Ontario through the Ministry of Colleges and Universities.$\n",
       "$ZGD is supported by the National Key Research and Development Program of China (grant No. 2017YFA0402600), the National SKA Program of China (grant No. 2020SKA0120300), and the National Natural Science Foundation of China (grant No. 11833003).$\n",
       "$XFW is supported by the National Natural Science Foundation of China (Grant Nos. 11725314, 12041306).$\n",
       "$\\vspace{-5pt}$\n",
       "$\\section*{Data Availability}$\n",
       "$There are no new data associated with this article.$\n",
       "$\\vspace{-5pt}$\n",
       "$\\bibliographystyle{mnras}$\n",
       "$\\bibliography{ref}$\n",
       "$\\bsp$\n",
       "$\\label{lastpage}$\n",
       "$\\end{document}\\end{eqnarray}}$\n",
       "$\\newcommand{$\\eeq$}{\\end{eqnarray}}$\n",
       "$\\newcommand{$\\bq$}{B_{\\rm QED}}$\n",
       "$\\newcommand{$\\fa$}{f_{A}}$\n",
       "$\\newcommand{$\\fa$c}{f_{A,2}}$\n",
       "$\\newcommand{$\\Gc$}{\\Gamma_2}$\n",
       "$\\newcommand{$\\ffrb$}{f_{\\rm FRB}}$\n",
       "$\\newcommand{$\\lc$}{L_{\\rm FRB,43}}$\n",
       "$\\newcommand{$\\nuc$}{\\nu_{\\rm c}}$\n",
       "$\\newcommand{$\\ncc$}{\\nu_{\\rm c,9}}$\n",
       "$\\newcommand{$\\lwc$}{L_{\\rm w,45}}$\n",
       "$\\newcommand{$\\muc$}{\\mu_{33}}$\n",
       "$\\newcommand{$\\Bc$}{B_{ d,15}}$\n",
       "$\\newcommand{$\\lac$}{L_{A,44}}$\n",
       "$\\newcommand{$\\Bfms$}{B_{\\rm FMS}}$\n",
       "$\\newcommand{$\\xl$}{\\textcolor{red}}$\n",
       "$\\newcommand{$\\js$}{\\textcolor{cyan}}$\n",
       "$\\newcommand{$\\thebibliography$}{\\DeclareRobustCommand{\\VAN}[3]{##3}\\VANthebibliography}$</div>\n",
       "\n",
       "\n",
       "\n",
       "<div id=\"title\">\n",
       "\n",
       "# An Intermediate-field Fast Radio Burst Model and the Quasi-periodic Oscillation\n",
       "\n",
       "</div>\n",
       "<div id=\"comments\">\n",
       "\n",
       "[![arXiv](https://img.shields.io/badge/arXiv-2210.09930-b31b1b.svg)](https://arxiv.org/abs/2210.09930)<mark>Appeared on: 2022-10-19</mark> - _5 pages, 1 figure, submitted. Comments welcome!_\n",
       "\n",
       "</div>\n",
       "<div id=\"authors\">\n",
       "\n",
       "Jie-Shuang Wang, <mark><mark>Xinyu Li</mark></mark>, Zigao Dai, Xuefeng Wu\n",
       "\n",
       "</div>\n",
       "<div id=\"abstract\">\n",
       "\n",
       "**Abstract:** Quasi-periodic oscillation (QPO) signals are discovered in some fast radio bursts (FRBs) such as FRB 20191221A, as well as in the X-ray burst associated with the galactic FRB from SGR 1935+2154.We revisit the intermediate-field FRB model where the radio waves are generated as fast-magnetosonic waves through magnetic reconnection near the light cylinder.The current sheet in the magnetar wind is compressed by a low frequency pulse emitted from the inner magnetosphere to trigger magnetic reconnection.By incorporating the wave dynamics of the magnetosphere, we demonstrate how the FRB frequency, the single pulse width, and luminosity are determined by the period, magnetic field, QPO frequency and quake energetics of the magnetar.We find that this model can naturally and self-consistently interpret the X-ray/radio event from SGR 1935+2154 and the QPO in FRB 20191221A.It can also explain the observed wide energy range of repeating FRBs in a narrow bandwidth.\n",
       "\n",
       "</div>\n",
       "\n",
       "<div id=\"div_fig1\">\n",
       "\n",
       "<img src=\"tmp_2210.09930/./QPO_model.png\" alt=\"Fig1\" width=\"100%\"/>\n",
       "\n",
       "**Figure 1. -** The schematic picture of the intermediate-field FRB model (not to scale):\n",
       "    Alfv\\'en waves propagate along field lines of $R\\gtrsim R_0$, and become non-linear at $R_{\\rm m}$, which leads to the conversion to an LFP.\n",
       "    (The Alfv\\'en waves and LFP are drawn with different styles and unrealistic wavelengths to make their presence clear.)\n",
       "    The LFP compress the current sheet in the striped magnetar wind near the light cylinder.\n",
       "    High-frequency FMS waves are generated by merging islands during the violent magnetic reconnection, which can escape as an FRB. (*fig:magnetar_model*)\n",
       "\n",
       "</div>"
      ],
      "text/plain": [
       "<IPython.core.display.Markdown object>"
      ]
     },
     "metadata": {},
     "output_type": "display_data"
    }
   ],
   "source": [
    "[display(Markdown(k[1])) for k in documents];"
   ]
  },
  {
   "cell_type": "markdown",
   "id": "873873a4",
   "metadata": {
    "papermill": {
     "duration": 0.01189,
     "end_time": "2022-10-19T05:22:57.108755",
     "exception": false,
     "start_time": "2022-10-19T05:22:57.096865",
     "status": "completed"
    },
    "tags": []
   },
   "source": [
    "# Create HTML index"
   ]
  },
  {
   "cell_type": "code",
   "execution_count": 10,
   "id": "cf665672",
   "metadata": {
    "execution": {
     "iopub.execute_input": "2022-10-19T05:22:57.134331Z",
     "iopub.status.busy": "2022-10-19T05:22:57.133659Z",
     "iopub.status.idle": "2022-10-19T05:22:57.142731Z",
     "shell.execute_reply": "2022-10-19T05:22:57.142078Z"
    },
    "papermill": {
     "duration": 0.023556,
     "end_time": "2022-10-19T05:22:57.144216",
     "exception": false,
     "start_time": "2022-10-19T05:22:57.120660",
     "status": "completed"
    },
    "tags": []
   },
   "outputs": [
    {
     "name": "stdout",
     "output_type": "stream",
     "text": [
      "68  publications in the last 7 days.\n",
      "\t _build/html/2210.09930.md\n",
      "\t _build/html/2210.08996.md\n",
      "\t _build/html/2210.08517.md\n",
      "\t _build/html/2210.08510.md\n",
      "\t _build/html/2210.08078.md\n",
      "\t _build/html/2210.06504.md\n",
      "\t _build/html/2210.05695.md\n",
      "\t _build/html/2210.05595.md\n",
      "\t _build/html/2210.05505.md\n",
      "\t _build/html/2210.04721.md\n",
      "\t _build/html/2210.03615.md\n",
      "\t _build/html/2210.01811.md\n",
      "\t _build/html/2210.01809.md\n",
      "\t _build/html/2210.01556.md\n",
      "\t _build/html/2210.00863.md\n",
      "\t _build/html/2210.00560.md\n",
      "\t _build/html/2209.15403.md\n",
      "\t _build/html/2209.15110.md\n",
      "\t _build/html/2209.14410.md\n",
      "\t _build/html/2209.14396.md\n",
      "\t _build/html/2209.13717.md\n",
      "\t _build/html/2209.13336.md\n",
      "\t _build/html/2209.12906.md\n",
      "\t _build/html/2209.11781.md\n",
      "\t _build/html/2209.11602.md\n",
      "\t _build/html/2209.11248.md\n",
      "\t _build/html/2209.11096.md\n",
      "\t _build/html/2209.10618.md\n",
      "\t _build/html/2209.09914.md\n",
      "\t _build/html/2209.09823.md\n",
      "\t _build/html/2209.08242.md\n",
      "\t _build/html/2209.08120.md\n",
      "\t _build/html/2209.08106.md\n",
      "\t _build/html/2209.07962.md\n",
      "\t _build/html/2209.07931.md\n",
      "\t _build/html/2209.06833.md\n",
      "\t _build/html/2209.05814.md\n",
      "\t _build/html/2209.05593.md\n",
      "\t _build/html/2209.04304.md\n",
      "\t _build/html/2209.03367.md\n",
      "\t _build/html/2209.02872.md\n",
      "\t _build/html/2209.02725.md\n",
      "\t _build/html/2209.02722.md\n",
      "\t _build/html/2209.02092.md\n",
      "\t _build/html/2209.01125.md\n",
      "\t _build/html/2209.00828.md\n",
      "\t _build/html/2209.00363.md\n",
      "\t _build/html/2208.14927.md\n",
      "\t _build/html/2208.09335.md\n",
      "\t _build/html/2208.08872.md\n",
      "\t _build/html/2204.06393.md\n",
      "\t _build/html/2204.03335.md\n",
      "\t _build/html/2204.03253.md\n",
      "\t _build/html/2204.02998.md\n",
      "\t _build/html/2204.02109.md\n",
      "\t _build/html/2204.02017.md\n",
      "\t _build/html/2204.01824.md\n",
      "\t _build/html/2204.01758.md\n",
      "\t _build/html/2204.01245.md\n",
      "\t _build/html/2204.00793.md\n",
      "\t _build/html/2204.00342.md\n",
      "\t _build/html/2203.16959.md\n",
      "\t _build/html/2203.16856.md\n",
      "\t _build/html/2203.16735.md\n",
      "\t _build/html/2203.16734.md\n",
      "\t _build/html/2203.16504.md\n",
      "\t _build/html/2203.15822.md\n",
      "\t _build/html/2203.15811.md\n"
     ]
    }
   ],
   "source": [
    "from datetime import datetime, timedelta, timezone\n",
    "from glob import glob\n",
    "\n",
    "files = glob('_build/html/*.md')\n",
    "days = 7\n",
    "now = datetime.today()\n",
    "res = []\n",
    "for fk in files:\n",
    "    stat_result = os.stat(fk).st_ctime\n",
    "    modified = datetime.fromtimestamp(stat_result, tz=timezone.utc).replace(tzinfo=None)\n",
    "    delta = now.today() - modified\n",
    "    if delta <= timedelta(days=days):\n",
    "        res.append((delta.seconds, fk))\n",
    "res = [k[1] for k in reversed(sorted(res, key=lambda x:x[1]))]\n",
    "npub = len(res)\n",
    "print(len(res), f\" publications in the last {days:d} days.\")\n",
    "[ print('\\t', k) for k in res ];"
   ]
  },
  {
   "cell_type": "code",
   "execution_count": 11,
   "id": "52ca0208",
   "metadata": {
    "execution": {
     "iopub.execute_input": "2022-10-19T05:22:57.170264Z",
     "iopub.status.busy": "2022-10-19T05:22:57.169740Z",
     "iopub.status.idle": "2022-10-19T05:22:57.176104Z",
     "shell.execute_reply": "2022-10-19T05:22:57.175466Z"
    },
    "papermill": {
     "duration": 0.021446,
     "end_time": "2022-10-19T05:22:57.177745",
     "exception": false,
     "start_time": "2022-10-19T05:22:57.156299",
     "status": "completed"
    },
    "scrolled": false,
    "tags": []
   },
   "outputs": [],
   "source": [
    "def create_carousel(npub=4):\n",
    "    \"\"\" Generate the HTML code for a carousel with `npub` slides \"\"\"\n",
    "    carousel = [\"\"\"<section class=\"carousel\" aria-label=\"Gallery\">\"\"\",\n",
    "                \"\"\"  <ol class=\"carousel__viewport\">\"\"\",\n",
    "    ]\n",
    "    for k in range(1, npub + 1):\n",
    "        prev_ = k - 1\n",
    "        next_ = k + 1\n",
    "        if prev_ <= 0:\n",
    "            prev_ = npub\n",
    "        if next_ > npub:\n",
    "            next_ = 1\n",
    "        text  = f\"\"\"    <li id=\"carousel__slide{k}\" tabindex=\"0\" class=\"carousel__slide\">\\n\"\"\"\n",
    "        text += f\"\"\"       <div class=\"carousel__snapper\">\\n\"\"\"\n",
    "        text += f\"\"\"         <a href=\"#carousel__slide{prev_}\" class=\"carousel__prev\">Go to previous slide</a>\\n\"\"\"\n",
    "        text += f\"\"\"         <a href=\"#carousel__slide{next_}\" class=\"carousel__next\">Go to next slide</a>\\n\"\"\"\n",
    "        text += f\"\"\"         <div id=\"slide{k}_content\" class=\"md_view\" >Content {k}</div>\\n\"\"\"\n",
    "        text += f\"\"\"       </div>\\n\"\"\"\n",
    "        text += f\"\"\"    </li>\"\"\"\n",
    "        carousel.append(text)\n",
    "\n",
    "    carousel.extend([\n",
    "        \"\"\"  </ol>\"\"\",\n",
    "        \"\"\"  <aside class=\"carousel__navigation\">\"\"\",\n",
    "        \"\"\"    <ol class=\"carousel__navigation-list\">\"\"\"])\n",
    "\n",
    "    for k in range(1, npub + 1):\n",
    "        text  = f\"\"\"      <li class=\"carousel__navigation-item\">\\n\"\"\"\n",
    "        text += f\"\"\"        <a href=\"#carousel__slide{k}\" class=\"carousel__navigation-button\">Go to {k}</a>\\n\"\"\"\n",
    "        text += f\"\"\"      </li>\"\"\"\n",
    "        carousel.append(text)\n",
    "    carousel.extend([\"\"\"    </ol>\"\"\", \"\"\"  </aside>\"\"\", \"\"\"</section>\"\"\"])\n",
    "\n",
    "    return '\\n'.join(carousel)"
   ]
  },
  {
   "cell_type": "code",
   "execution_count": 12,
   "id": "a6eac5b6",
   "metadata": {
    "execution": {
     "iopub.execute_input": "2022-10-19T05:22:57.231352Z",
     "iopub.status.busy": "2022-10-19T05:22:57.231071Z",
     "iopub.status.idle": "2022-10-19T05:22:57.237360Z",
     "shell.execute_reply": "2022-10-19T05:22:57.236766Z"
    },
    "papermill": {
     "duration": 0.021297,
     "end_time": "2022-10-19T05:22:57.238813",
     "exception": false,
     "start_time": "2022-10-19T05:22:57.217516",
     "status": "completed"
    },
    "scrolled": false,
    "tags": []
   },
   "outputs": [],
   "source": [
    "carousel = create_carousel(npub)\n",
    "docs = ', '.join(['\"{0:s}\"'.format(k.split('/')[-1]) for k in res])\n",
    "slides = ', '.join([f'\"slide{k}_content\"' for k in range(1, npub + 1)])\n",
    "\n",
    "script = f\"\"\"\n",
    "const docs = [{docs}]\n",
    "\n",
    "const slides = [{slides}]\n",
    "\"\"\" + \"\"\"\n",
    "async function run() {\n",
    "    for (let i = 0; i < docs.length; i++) {\n",
    "        let file = await fetch(docs[i]);\n",
    "        let text = await file.text()\n",
    "        document.getElementById(slides[i]).innerHTML =\n",
    "            marked.parse(text);\n",
    "    }\n",
    "    hljs.highlightAll();\n",
    "}\n",
    "run()\n",
    "\"\"\"\n",
    "\n",
    "page = f\"\"\"<!doctype html>\n",
    "<html lang=\"en\">\n",
    "\n",
    "<head>\n",
    "  <meta charset=\"utf-8\">\n",
    "  <meta name=\"viewport\" content=\"width=device-width, initial-scale=1\">\n",
    "  <!-- Bootstrap CSS -->\n",
    "  <link href=\"https://cdn.jsdelivr.net/npm/bootstrap@5.0.2/dist/css/bootstrap.min.css\" rel=\"stylesheet\"\n",
    "   integrity=\"sha384-EVSTQN3/azprG1Anm3QDgpJLIm9Nao0Yz1ztcQTwFspd3yD65VohhpuuCOmLASjC\" crossorigin=\"anonymous\">\n",
    "  <!-- highlight.js CSS -->\n",
    "  <link rel=\"stylesheet\" href=\"https://cdnjs.cloudflare.com/ajax/libs/highlight.js/11.1.0/styles/default.min.css\">\n",
    "  <!-- Mathjax 3 -->\n",
    "  <script type=\"text/javascript\" id=\"MathJax-config\" src=\"mathjax_config.js\"> </script>\n",
    "  <script type=\"text/javascript\" id=\"MathJax-script\" async \n",
    "    src=\"https://cdn.jsdelivr.net/npm/mathjax@3/es5/tex-mml-chtml.js\">\n",
    "  </script>\n",
    "  <link rel=\"stylesheet\" href=\"index_carousel.css\">\n",
    "  <link rel=\"icon\" type=\"image/x-icon\" href=\"https://www.mpia.de/assets/touch-icon-32x32-a66937bcebc4e8894ebff1f41a366c7c7220fd97a38869ee0f2db65a9f59b6c1.png\">\n",
    "  <title>MPIA Arxiv on deck!</title>\n",
    "</head>\n",
    "\n",
    "<body>\n",
    "  <div id=\"header\"> <img src=\"header_banner.png\" width=\"100%\"></div>\n",
    "  <div id=\"suptitle\"> 7-day archives </div>\n",
    "  <div id=\"info\">\n",
    "    <img src=\"https://pngimg.com/uploads/github/github_PNG58.png\" height=30rem></img>\n",
    "    <a href=https://github.com/mpi-astronomy/arxiv_display style=\"color:black;\">github/mpi-astronomy/arxiv_display</a> \n",
    "  </div>\n",
    "  {carousel:s}\n",
    "</body>\n",
    "\n",
    "<!-- Render Markdown -->\n",
    "\n",
    "<body>\n",
    "  <!-- highlight.js: https://highlightjs.org/download/ -->\n",
    "  <script src=\"https://cdnjs.cloudflare.com/ajax/libs/highlight.js/11.5.0/highlight.min.js\"></script>\n",
    "  <!-- marked.js -->\n",
    "  <script src=\"https://cdn.jsdelivr.net/npm/marked/marked.min.js\"></script>\n",
    "  <script>{script:s}</script>\n",
    "</body>\n",
    "</html>\n",
    "\"\"\"\n",
    "with open(\"_build/html/index_7days.html\", 'w') as fout:\n",
    "    fout.write(page)"
   ]
  },
  {
   "cell_type": "markdown",
   "id": "1cebacbc",
   "metadata": {
    "papermill": {
     "duration": 0.011993,
     "end_time": "2022-10-19T05:22:57.262969",
     "exception": false,
     "start_time": "2022-10-19T05:22:57.250976",
     "status": "completed"
    },
    "tags": []
   },
   "source": [
    "# Debugging papers"
   ]
  },
  {
   "cell_type": "raw",
   "id": "debe7cc6",
   "metadata": {
    "papermill": {
     "duration": 0.01207,
     "end_time": "2022-10-19T05:22:57.287021",
     "exception": false,
     "start_time": "2022-10-19T05:22:57.274951",
     "status": "completed"
    },
    "tags": []
   },
   "source": [
    "raise NotImplementedError(\"Manual Stop\")"
   ]
  },
  {
   "cell_type": "raw",
   "id": "eb169192",
   "metadata": {
    "papermill": {
     "duration": 0.012006,
     "end_time": "2022-10-19T05:22:57.311007",
     "exception": false,
     "start_time": "2022-10-19T05:22:57.299001",
     "status": "completed"
    },
    "scrolled": true,
    "tags": []
   },
   "source": [
    "from IPython.display import display, Markdown\n",
    "from TexSoup import TexSoup\n",
    "import re\n",
    "\n",
    "def bracket_error(source: str):\n",
    "    \"\"\" Find problematic portions of the document \"\"\"\n",
    "    \n",
    "    print(\"len(source)\", len(source))\n",
    "    \n",
    "    # Checking header\n",
    "    begin_doc = next(re.finditer(r'\\\\begin\\{document\\}', doc.source)).span()[1]\n",
    "    header = source[:begin_doc]\n",
    "    text = header + r\"\\n\\end{document}\"\n",
    "\n",
    "    try:\n",
    "        # print(\"Header check... \", end='')\n",
    "        TexSoup(text)\n",
    "        display(Markdown(f\"**[OK]** - Header\"))\n",
    "    except:\n",
    "        raise RuntimeError(\"Error in the header\")\n",
    "        \n",
    "    # Check the text per section until the end.\n",
    "    # Do not stop and try them all.\n",
    "    \n",
    "    problematic_text = []\n",
    "    \n",
    "    sections = ([(0, begin_doc, 'until first section')] + \n",
    "                [(g.span()[0], g.span()[1], g.group()) for g in re.finditer(r'\\\\section\\{.*\\}', source)] +\n",
    "                [(g.span()[0], g.span()[1], g.group()) for g in re.finditer(r'\\\\begin\\{appendix\\}', source)]\n",
    "               )\n",
    "    sections.append([len(source), len(source), 'end'])\n",
    "    \n",
    "    sections = sorted(sections, key=lambda x: x[0])\n",
    "    \n",
    "    prev_pos, prev_name = (0, 'header')\n",
    "    parsed = []\n",
    "    \n",
    "    for span, span_end, name in sections:\n",
    "\n",
    "        if span - prev_pos <= 0:\n",
    "            continue\n",
    "            \n",
    "\n",
    "        text = source[prev_pos:span]\n",
    "        if prev_pos > begin_doc:\n",
    "            text = r\"\\n\\begin{document}\" + text + r\"\\n\\end{document}\"\n",
    "        else:\n",
    "            text = text + r\"\\n\\end{document}\"\n",
    "        try:\n",
    "            #print(f\"{prev_pos}:{prev_name}-->{span}:{name} check... \", end='')\n",
    "            parsed.append(TexSoup(text, tolerance=1))  # allow not ending env\n",
    "            display(Markdown(f\"**[OK]** - *{prev_pos}*:{prev_name} &rarr; *{span}*:{name}\"))\n",
    "            # print(\"ok\")\n",
    "\n",
    "            prev_pos = span\n",
    "            prev_name = name\n",
    "        except:\n",
    "            # print(f\"error between {prev_pos} and {span}\")\n",
    "            display(Markdown(f\"**[ERR]** *{prev_pos}*:{prev_name} &rarr; *{span}*:{name}\"))\n",
    "            problematic_text.append((prev_pos, source[prev_pos:span]))\n",
    "            prev_pos = span\n",
    "            prev_name = name\n",
    "            # raise\n",
    "    return problematic_text, parsed\n",
    "\n",
    "\n",
    "def check_environment(text, offset=0):\n",
    "    \"\"\" Check environment \"\"\"\n",
    "    env = re.compile(r\"\\\\begin\\{(?P<env>.*)\\}(.*)\\\\end\\{(?P=env)\\}\", re.DOTALL)\n",
    "\n",
    "    for match in env.finditer(text):\n",
    "        beg, end = match.span()\n",
    "        beg += offset\n",
    "        end += offset\n",
    "        envname = match.groups()[0]\n",
    "        try:\n",
    "            latex.TexSoup(match.group())\n",
    "        except Exception as e:\n",
    "            display(e)\n",
    "            print(f\"Error in {envname:s} between {beg} and {end}\")\n",
    "            return match.groups()[1], beg, end"
   ]
  },
  {
   "cell_type": "raw",
   "id": "2315e835",
   "metadata": {
    "papermill": {
     "duration": 0.01194,
     "end_time": "2022-10-19T05:22:57.334881",
     "exception": false,
     "start_time": "2022-10-19T05:22:57.322941",
     "status": "completed"
    },
    "scrolled": false,
    "tags": []
   },
   "source": [
    "import importlib\n",
    "importlib.reload(latex)\n",
    "which = \"2204.03253\"\n",
    "paper_id = f'{which:s}'\n",
    "folder = f'tmp_{paper_id:s}'\n",
    "\n",
    "if not os.path.isdir(folder):\n",
    "    folder = retrieve_document_source(f\"{paper_id}\", f'tmp_{paper_id}')\n",
    "\n",
    "try:\n",
    "    doc = latex.LatexDocument(folder, validation=validation)    \n",
    "except AffiliationError as affilerror:\n",
    "    msg = f\"ArXiv:{paper_id:s} is not an MPIA paper... \" + str(affilerror)\n",
    "    print(msg)\n",
    "\n",
    "\n",
    "# Hack because sometimes author parsing does not work well\n",
    "if (len(doc.authors) != len(paper['authors'])):\n",
    "    doc._authors = paper['authors']\n",
    "if (doc.abstract) in (None, ''):\n",
    "    doc._abstract = paper['abstract']\n",
    "\n",
    "doc.comment = get_markdown_badge(paper_id) + \" _\" + paper['comments'] + \"_\"\n",
    "doc.highlight_authors_in_list(hl_list)\n",
    "\n",
    "full_md = doc.generate_markdown_text()"
   ]
  },
  {
   "cell_type": "raw",
   "id": "dd3781db",
   "metadata": {
    "papermill": {
     "duration": 0.011964,
     "end_time": "2022-10-19T05:22:57.358804",
     "exception": false,
     "start_time": "2022-10-19T05:22:57.346840",
     "status": "completed"
    },
    "scrolled": false,
    "tags": []
   },
   "source": [
    "doc"
   ]
  },
  {
   "cell_type": "raw",
   "id": "c6eed834",
   "metadata": {
    "papermill": {
     "duration": 0.012017,
     "end_time": "2022-10-19T05:22:57.383099",
     "exception": false,
     "start_time": "2022-10-19T05:22:57.371082",
     "status": "completed"
    },
    "tags": []
   },
   "source": [
    "# [check_environment(k) for k in bracket_error(doc.source)]\n",
    "_, _, a = latex.get_content_per_section(doc.source, verbose=True)\n",
    "if not a:\n",
    "    print(\"no issues per section\")\n",
    "for ak in a:\n",
    "    r = check_environment(ak[1], offset=ak[0])\n",
    "    print(r[1], r[2])\n",
    "    print(r[0])"
   ]
  },
  {
   "cell_type": "code",
   "execution_count": null,
   "id": "71ce768a",
   "metadata": {
    "papermill": {
     "duration": 0.01196,
     "end_time": "2022-10-19T05:22:57.406962",
     "exception": false,
     "start_time": "2022-10-19T05:22:57.395002",
     "status": "completed"
    },
    "tags": []
   },
   "outputs": [],
   "source": []
  }
 ],
 "metadata": {
  "kernelspec": {
   "display_name": "Python 3.10.6 64-bit",
   "language": "python",
   "name": "python3"
  },
  "language_info": {
   "codemirror_mode": {
    "name": "ipython",
    "version": 3
   },
   "file_extension": ".py",
   "mimetype": "text/x-python",
   "name": "python",
   "nbconvert_exporter": "python",
   "pygments_lexer": "ipython3",
   "version": "3.9.14"
  },
  "papermill": {
   "default_parameters": {},
   "duration": 120.878882,
   "end_time": "2022-10-19T05:22:57.637615",
   "environment_variables": {},
   "exception": null,
   "input_path": "MPIA daily digest.ipynb",
   "output_path": "log.ipynb",
   "parameters": {},
   "start_time": "2022-10-19T05:20:56.758733",
   "version": "2.4.0"
  },
  "vscode": {
   "interpreter": {
    "hash": "e7370f93d1d0cde622a1f8e1c04877d8463912d04d973331ad4851f04de6915a"
   }
  },
  "widgets": {
   "application/vnd.jupyter.widget-state+json": {
    "state": {
     "0ea636d3cc84481ebccca457b06b496c": {
      "model_module": "@jupyter-widgets/base",
      "model_module_version": "2.0.0",
      "model_name": "LayoutModel",
      "state": {
       "_model_module": "@jupyter-widgets/base",
       "_model_module_version": "2.0.0",
       "_model_name": "LayoutModel",
       "_view_count": null,
       "_view_module": "@jupyter-widgets/base",
       "_view_module_version": "2.0.0",
       "_view_name": "LayoutView",
       "align_content": null,
       "align_items": null,
       "align_self": null,
       "border_bottom": null,
       "border_left": null,
       "border_right": null,
       "border_top": null,
       "bottom": null,
       "display": null,
       "flex": null,
       "flex_flow": null,
       "grid_area": null,
       "grid_auto_columns": null,
       "grid_auto_flow": null,
       "grid_auto_rows": null,
       "grid_column": null,
       "grid_gap": null,
       "grid_row": null,
       "grid_template_areas": null,
       "grid_template_columns": null,
       "grid_template_rows": null,
       "height": null,
       "justify_content": null,
       "justify_items": null,
       "left": null,
       "margin": null,
       "max_height": null,
       "max_width": null,
       "min_height": null,
       "min_width": null,
       "object_fit": null,
       "object_position": null,
       "order": null,
       "overflow": null,
       "padding": null,
       "right": null,
       "top": null,
       "visibility": null,
       "width": null
      }
     },
     "0ff5366539ab443f8a304df3dfabe8ee": {
      "model_module": "@jupyter-widgets/base",
      "model_module_version": "2.0.0",
      "model_name": "LayoutModel",
      "state": {
       "_model_module": "@jupyter-widgets/base",
       "_model_module_version": "2.0.0",
       "_model_name": "LayoutModel",
       "_view_count": null,
       "_view_module": "@jupyter-widgets/base",
       "_view_module_version": "2.0.0",
       "_view_name": "LayoutView",
       "align_content": null,
       "align_items": null,
       "align_self": null,
       "border_bottom": null,
       "border_left": null,
       "border_right": null,
       "border_top": null,
       "bottom": null,
       "display": null,
       "flex": null,
       "flex_flow": null,
       "grid_area": null,
       "grid_auto_columns": null,
       "grid_auto_flow": null,
       "grid_auto_rows": null,
       "grid_column": null,
       "grid_gap": null,
       "grid_row": null,
       "grid_template_areas": null,
       "grid_template_columns": null,
       "grid_template_rows": null,
       "height": null,
       "justify_content": null,
       "justify_items": null,
       "left": null,
       "margin": null,
       "max_height": null,
       "max_width": null,
       "min_height": null,
       "min_width": null,
       "object_fit": null,
       "object_position": null,
       "order": null,
       "overflow": null,
       "padding": null,
       "right": null,
       "top": null,
       "visibility": null,
       "width": null
      }
     },
     "56ac7c02de05438fb75881bb85385286": {
      "model_module": "@jupyter-widgets/controls",
      "model_module_version": "2.0.0",
      "model_name": "HBoxModel",
      "state": {
       "_dom_classes": [],
       "_model_module": "@jupyter-widgets/controls",
       "_model_module_version": "2.0.0",
       "_model_name": "HBoxModel",
       "_view_count": null,
       "_view_module": "@jupyter-widgets/controls",
       "_view_module_version": "2.0.0",
       "_view_name": "HBoxView",
       "box_style": "",
       "children": [
        "IPY_MODEL_f8e18611298040418f1dfe946692a8f8",
        "IPY_MODEL_5f0114e05027443ca2dd1f62c679421e",
        "IPY_MODEL_9c55b79605a0468486ec1005dbb074a2"
       ],
       "layout": "IPY_MODEL_65165fb0804f4e8984f4413c3251b94a",
       "tabbable": null,
       "tooltip": null
      }
     },
     "5f0114e05027443ca2dd1f62c679421e": {
      "model_module": "@jupyter-widgets/controls",
      "model_module_version": "2.0.0",
      "model_name": "FloatProgressModel",
      "state": {
       "_dom_classes": [],
       "_model_module": "@jupyter-widgets/controls",
       "_model_module_version": "2.0.0",
       "_model_name": "FloatProgressModel",
       "_view_count": null,
       "_view_module": "@jupyter-widgets/controls",
       "_view_module_version": "2.0.0",
       "_view_name": "ProgressView",
       "bar_style": "success",
       "description": "",
       "description_allow_html": false,
       "layout": "IPY_MODEL_0ff5366539ab443f8a304df3dfabe8ee",
       "max": 27.0,
       "min": 0.0,
       "orientation": "horizontal",
       "style": "IPY_MODEL_8e22ddd95ca043e8b3a707defab06a24",
       "tabbable": null,
       "tooltip": null,
       "value": 27.0
      }
     },
     "65165fb0804f4e8984f4413c3251b94a": {
      "model_module": "@jupyter-widgets/base",
      "model_module_version": "2.0.0",
      "model_name": "LayoutModel",
      "state": {
       "_model_module": "@jupyter-widgets/base",
       "_model_module_version": "2.0.0",
       "_model_name": "LayoutModel",
       "_view_count": null,
       "_view_module": "@jupyter-widgets/base",
       "_view_module_version": "2.0.0",
       "_view_name": "LayoutView",
       "align_content": null,
       "align_items": null,
       "align_self": null,
       "border_bottom": null,
       "border_left": null,
       "border_right": null,
       "border_top": null,
       "bottom": null,
       "display": null,
       "flex": null,
       "flex_flow": null,
       "grid_area": null,
       "grid_auto_columns": null,
       "grid_auto_flow": null,
       "grid_auto_rows": null,
       "grid_column": null,
       "grid_gap": null,
       "grid_row": null,
       "grid_template_areas": null,
       "grid_template_columns": null,
       "grid_template_rows": null,
       "height": null,
       "justify_content": null,
       "justify_items": null,
       "left": null,
       "margin": null,
       "max_height": null,
       "max_width": null,
       "min_height": null,
       "min_width": null,
       "object_fit": null,
       "object_position": null,
       "order": null,
       "overflow": null,
       "padding": null,
       "right": null,
       "top": null,
       "visibility": null,
       "width": null
      }
     },
     "68ce931ce065459abab0f92bb76c9c31": {
      "model_module": "@jupyter-widgets/controls",
      "model_module_version": "2.0.0",
      "model_name": "HTMLStyleModel",
      "state": {
       "_model_module": "@jupyter-widgets/controls",
       "_model_module_version": "2.0.0",
       "_model_name": "HTMLStyleModel",
       "_view_count": null,
       "_view_module": "@jupyter-widgets/base",
       "_view_module_version": "2.0.0",
       "_view_name": "StyleView",
       "background": null,
       "description_width": "",
       "font_size": null,
       "text_color": null
      }
     },
     "8e22ddd95ca043e8b3a707defab06a24": {
      "model_module": "@jupyter-widgets/controls",
      "model_module_version": "2.0.0",
      "model_name": "ProgressStyleModel",
      "state": {
       "_model_module": "@jupyter-widgets/controls",
       "_model_module_version": "2.0.0",
       "_model_name": "ProgressStyleModel",
       "_view_count": null,
       "_view_module": "@jupyter-widgets/base",
       "_view_module_version": "2.0.0",
       "_view_name": "StyleView",
       "bar_color": null,
       "description_width": ""
      }
     },
     "9304f0b7d0114f6baec4f3929d84b8cf": {
      "model_module": "@jupyter-widgets/base",
      "model_module_version": "2.0.0",
      "model_name": "LayoutModel",
      "state": {
       "_model_module": "@jupyter-widgets/base",
       "_model_module_version": "2.0.0",
       "_model_name": "LayoutModel",
       "_view_count": null,
       "_view_module": "@jupyter-widgets/base",
       "_view_module_version": "2.0.0",
       "_view_name": "LayoutView",
       "align_content": null,
       "align_items": null,
       "align_self": null,
       "border_bottom": null,
       "border_left": null,
       "border_right": null,
       "border_top": null,
       "bottom": null,
       "display": null,
       "flex": null,
       "flex_flow": null,
       "grid_area": null,
       "grid_auto_columns": null,
       "grid_auto_flow": null,
       "grid_auto_rows": null,
       "grid_column": null,
       "grid_gap": null,
       "grid_row": null,
       "grid_template_areas": null,
       "grid_template_columns": null,
       "grid_template_rows": null,
       "height": null,
       "justify_content": null,
       "justify_items": null,
       "left": null,
       "margin": null,
       "max_height": null,
       "max_width": null,
       "min_height": null,
       "min_width": null,
       "object_fit": null,
       "object_position": null,
       "order": null,
       "overflow": null,
       "padding": null,
       "right": null,
       "top": null,
       "visibility": null,
       "width": null
      }
     },
     "9c55b79605a0468486ec1005dbb074a2": {
      "model_module": "@jupyter-widgets/controls",
      "model_module_version": "2.0.0",
      "model_name": "HTMLModel",
      "state": {
       "_dom_classes": [],
       "_model_module": "@jupyter-widgets/controls",
       "_model_module_version": "2.0.0",
       "_model_name": "HTMLModel",
       "_view_count": null,
       "_view_module": "@jupyter-widgets/controls",
       "_view_module_version": "2.0.0",
       "_view_name": "HTMLView",
       "description": "",
       "description_allow_html": false,
       "layout": "IPY_MODEL_9304f0b7d0114f6baec4f3929d84b8cf",
       "placeholder": "​",
       "style": "IPY_MODEL_fd9ba90545ed4ab3b7ed532b18f74358",
       "tabbable": null,
       "tooltip": null,
       "value": " 27/27 [01:31&lt;00:00,  2.61s/it]"
      }
     },
     "f8e18611298040418f1dfe946692a8f8": {
      "model_module": "@jupyter-widgets/controls",
      "model_module_version": "2.0.0",
      "model_name": "HTMLModel",
      "state": {
       "_dom_classes": [],
       "_model_module": "@jupyter-widgets/controls",
       "_model_module_version": "2.0.0",
       "_model_name": "HTMLModel",
       "_view_count": null,
       "_view_module": "@jupyter-widgets/controls",
       "_view_module_version": "2.0.0",
       "_view_name": "HTMLView",
       "description": "",
       "description_allow_html": false,
       "layout": "IPY_MODEL_0ea636d3cc84481ebccca457b06b496c",
       "placeholder": "​",
       "style": "IPY_MODEL_68ce931ce065459abab0f92bb76c9c31",
       "tabbable": null,
       "tooltip": null,
       "value": "100%"
      }
     },
     "fd9ba90545ed4ab3b7ed532b18f74358": {
      "model_module": "@jupyter-widgets/controls",
      "model_module_version": "2.0.0",
      "model_name": "HTMLStyleModel",
      "state": {
       "_model_module": "@jupyter-widgets/controls",
       "_model_module_version": "2.0.0",
       "_model_name": "HTMLStyleModel",
       "_view_count": null,
       "_view_module": "@jupyter-widgets/base",
       "_view_module_version": "2.0.0",
       "_view_name": "StyleView",
       "background": null,
       "description_width": "",
       "font_size": null,
       "text_color": null
      }
     }
    },
    "version_major": 2,
    "version_minor": 0
   }
  }
 },
 "nbformat": 4,
 "nbformat_minor": 5
}