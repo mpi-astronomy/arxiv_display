{
 "cells": [
  {
   "cell_type": "markdown",
   "id": "92bcb855",
   "metadata": {
    "papermill": {
     "duration": 0.003952,
     "end_time": "2025-07-21T04:36:36.689087",
     "exception": false,
     "start_time": "2025-07-21T04:36:36.685135",
     "status": "completed"
    },
    "tags": []
   },
   "source": [
    "# MPIA Arxiv on Deck 2\n",
    "\n",
    "Contains the steps to produce the paper extractions."
   ]
  },
  {
   "cell_type": "code",
   "execution_count": 1,
   "id": "3a0d6e11",
   "metadata": {
    "execution": {
     "iopub.execute_input": "2025-07-21T04:36:36.696824Z",
     "iopub.status.busy": "2025-07-21T04:36:36.696307Z",
     "iopub.status.idle": "2025-07-21T04:36:36.933140Z",
     "shell.execute_reply": "2025-07-21T04:36:36.932369Z"
    },
    "papermill": {
     "duration": 0.242248,
     "end_time": "2025-07-21T04:36:36.934639",
     "exception": false,
     "start_time": "2025-07-21T04:36:36.692391",
     "status": "completed"
    },
    "tags": []
   },
   "outputs": [],
   "source": [
    "# Imports\n",
    "import os\n",
    "from IPython.display import Markdown, display\n",
    "from tqdm.notebook import tqdm\n",
    "import warnings\n",
    "from PIL import Image \n",
    "import re\n",
    "\n",
    "# requires arxiv_on_deck_2\n",
    "\n",
    "from arxiv_on_deck_2.arxiv2 import (get_new_papers, \n",
    "                                    get_paper_from_identifier,\n",
    "                                    retrieve_document_source, \n",
    "                                    get_markdown_badge)\n",
    "from arxiv_on_deck_2 import (latex,\n",
    "                             latex_bib,\n",
    "                             mpia,\n",
    "                             highlight_authors_in_list)\n",
    "\n",
    "# Sometimes images are really big\n",
    "Image.MAX_IMAGE_PIXELS = 1000000000 "
   ]
  },
  {
   "cell_type": "code",
   "execution_count": 2,
   "id": "22aa9d44",
   "metadata": {
    "execution": {
     "iopub.execute_input": "2025-07-21T04:36:36.942110Z",
     "iopub.status.busy": "2025-07-21T04:36:36.941869Z",
     "iopub.status.idle": "2025-07-21T04:36:36.950180Z",
     "shell.execute_reply": "2025-07-21T04:36:36.949611Z"
    },
    "papermill": {
     "duration": 0.013251,
     "end_time": "2025-07-21T04:36:36.951217",
     "exception": false,
     "start_time": "2025-07-21T04:36:36.937966",
     "status": "completed"
    },
    "tags": []
   },
   "outputs": [],
   "source": [
    "# Some useful definitions.\n",
    "\n",
    "class AffiliationWarning(UserWarning):\n",
    "    pass\n",
    "\n",
    "class AffiliationError(RuntimeError):\n",
    "    pass\n",
    "\n",
    "def validation(source: str):\n",
    "    \"\"\"Raises error paper during parsing of source file\n",
    "    \n",
    "    Allows checks before parsing TeX code.\n",
    "    \n",
    "    Raises AffiliationWarning\n",
    "    \"\"\"\n",
    "    check = mpia.affiliation_verifications(source, verbose=True)\n",
    "    if check is not True:\n",
    "        raise AffiliationError(\"mpia.affiliation_verifications: \" + check)\n",
    "\n",
    "        \n",
    "warnings.simplefilter('always', AffiliationWarning)\n",
    "\n",
    "\n",
    "def get_markdown_qrcode(paper_id: str):\n",
    "    \"\"\" Generate a qrcode to the arxiv page using qrserver.com\n",
    "    \n",
    "    :param paper: Arxiv paper\n",
    "    :returns: markdown text\n",
    "    \"\"\"\n",
    "    url = r\"https://api.qrserver.com/v1/create-qr-code/?size=100x100&data=\"\n",
    "    txt = f\"\"\"<img src={url}\"https://arxiv.org/abs/{paper_id}\">\"\"\"\n",
    "    txt = '<div id=\"qrcode\">' + txt + '</div>'\n",
    "    return txt\n",
    "\n",
    "\n",
    "def clean_non_western_encoded_characters_commands(text: str) -> str:\n",
    "    \"\"\" Remove non-western encoded characters from a string\n",
    "    List may need to grow.\n",
    "    \n",
    "    :param text: the text to clean\n",
    "    :return: the cleaned text\n",
    "    \"\"\"\n",
    "    text = re.sub(r\"(\\\\begin{CJK}{UTF8}{gbsn})(.*?)(\\\\end{CJK})\", r\"\\2\", text)\n",
    "    return text\n",
    "\n",
    "\n",
    "def get_initials(name: str) -> str:\n",
    "    \"\"\" Get the short name, e.g., A.-B. FamName\n",
    "    :param name: full name\n",
    "    :returns: initials\n",
    "    \"\"\"\n",
    "    initials = []\n",
    "    # account for non western names often in ()\n",
    "    if '(' in name:\n",
    "        name = clean_non_western_encoded_characters_commands(name)\n",
    "        suffix = re.findall(r\"\\((.*?)\\)\", name)[0]\n",
    "        name = name.replace(f\"({suffix})\", '')\n",
    "    else:\n",
    "        suffix = ''\n",
    "    split = name.split()\n",
    "    for token in split[:-1]:\n",
    "        if '-' in token:\n",
    "            current = '-'.join([k[0] + '.' for k in token.split('-')])\n",
    "        else:\n",
    "            current = token[0] + '.'\n",
    "        initials.append(current)\n",
    "    initials.append(split[-1].strip())\n",
    "    if suffix:\n",
    "        initials.append(f\"({suffix})\")\n",
    "    return ' '.join(initials)"
   ]
  },
  {
   "cell_type": "markdown",
   "id": "14bd6310",
   "metadata": {
    "papermill": {
     "duration": 0.002903,
     "end_time": "2025-07-21T04:36:36.957156",
     "exception": false,
     "start_time": "2025-07-21T04:36:36.954253",
     "status": "completed"
    },
    "tags": []
   },
   "source": [
    "## get list of arxiv paper candidates\n",
    "\n",
    "We use the MPIA mitarbeiter list webpage from mpia.de to get author names\n",
    "We then get all new papers from Arxiv and match authors"
   ]
  },
  {
   "cell_type": "code",
   "execution_count": 3,
   "id": "7ea813a8",
   "metadata": {
    "execution": {
     "iopub.execute_input": "2025-07-21T04:36:36.963990Z",
     "iopub.status.busy": "2025-07-21T04:36:36.963694Z",
     "iopub.status.idle": "2025-07-21T04:36:56.315844Z",
     "shell.execute_reply": "2025-07-21T04:36:56.315212Z"
    },
    "papermill": {
     "duration": 19.357132,
     "end_time": "2025-07-21T04:36:56.317196",
     "exception": false,
     "start_time": "2025-07-21T04:36:36.960064",
     "status": "completed"
    },
    "tags": []
   },
   "outputs": [],
   "source": [
    "# deal with the author list and edge cases of people that cannot be consistent on their name  \n",
    "\n",
    "def filter_non_scientists(name: str) -> bool:\n",
    "    \"\"\" Loose filter on expected authorships\n",
    "\n",
    "    removing IT, administration, technical staff\n",
    "    :param name: name\n",
    "    :returns: False if name is not a scientist\n",
    "    \"\"\"\n",
    "    remove_list = ['Licht', 'Binroth', 'Witzel', 'Jordan',\n",
    "                   'Zähringer', 'Scheerer', 'Hoffmann', 'Düe',\n",
    "                   'Hellmich', 'Enkler-Scharpegge', 'Witte-Nguy',\n",
    "                   'Dehen', 'Beckmann', 'Jager', 'Jäger'\n",
    "                  ]\n",
    "\n",
    "    for k in remove_list:\n",
    "        if k in name:\n",
    "            return False\n",
    "    return True\n",
    "\n",
    "def add_author_to_list(author_list: list) -> list:\n",
    "    \"\"\" Add author to list if not already in list\n",
    "    \n",
    "    :param author: author name\n",
    "    :param author_list: list of authors\n",
    "    :returns: updated list of authors\n",
    "    \"\"\"\n",
    "    add_list = ['T. Henning']\n",
    "\n",
    "    for author in add_list:\n",
    "        if author not in author_list:\n",
    "            author_list.append(author)\n",
    "    return author_list\n",
    "\n",
    "# get list from MPIA website\n",
    "# filter for non-scientists (mpia.get_mpia_mitarbeiter_list() does some filtering)\n",
    "mpia_authors = [k[1] for k in mpia.get_mpia_mitarbeiter_list() if filter_non_scientists(k[1])]\n",
    "# add some missing author because of inconsistencies in their MPIA name and author name on papers\n",
    "mpia_authors = add_author_to_list(mpia_authors)"
   ]
  },
  {
   "cell_type": "code",
   "execution_count": 4,
   "id": "2645e73a",
   "metadata": {
    "execution": {
     "iopub.execute_input": "2025-07-21T04:36:56.325284Z",
     "iopub.status.busy": "2025-07-21T04:36:56.324779Z",
     "iopub.status.idle": "2025-07-21T04:36:57.077454Z",
     "shell.execute_reply": "2025-07-21T04:36:57.076860Z"
    },
    "papermill": {
     "duration": 0.757944,
     "end_time": "2025-07-21T04:36:57.078537",
     "exception": false,
     "start_time": "2025-07-21T04:36:56.320593",
     "status": "completed"
    },
    "tags": []
   },
   "outputs": [
    {
     "name": "stdout",
     "output_type": "stream",
     "text": [
      "K. A. Kahle  ->  K. A. Kahle  |  ['K. A. Kahle']\n",
      "L. Kreidberg  ->  L. Kreidberg  |  ['L. Kreidberg']\n",
      "P. Mollière  ->  P. Mollière  |  ['P. Mollière']\n",
      "L. Acuña  ->  L. Acuña  |  ['L. Acuña']\n",
      "C. Gapp  ->  C. Gapp  |  ['C. Gapp']\n",
      "Y. Wang  ->  Y. Wang  |  ['Y. Wang']\n",
      "X. Zhang  ->  X. Zhang  |  ['X. Zhang']\n",
      "K. El-Badry  ->  K. El-Badry  |  ['K. El-Badry']\n"
     ]
    },
    {
     "name": "stdout",
     "output_type": "stream",
     "text": [
      "A. Winter  ->  A. Winter  |  ['A. Winter']\n",
      "T. Henning  ->  T. Henning  |  ['T. Henning']\n",
      "G. Perotti  ->  G. Perotti  |  ['G. Perotti']\n",
      "Arxiv has 69 new papers today\n",
      "          6 with possible author matches\n"
     ]
    }
   ],
   "source": [
    "new_papers = get_new_papers()\n",
    "# add manual references\n",
    "add_paper_refs = []\n",
    "new_papers.extend([get_paper_from_identifier(k) for k in add_paper_refs])\n",
    "\n",
    "def robust_call(fn, value, *args, **kwargs):\n",
    "    try:\n",
    "        return fn(value, *args, **kwargs)\n",
    "    except Exception:\n",
    "        return value\n",
    "\n",
    "candidates = []\n",
    "for paperk in new_papers:\n",
    "    # Check author list with their initials\n",
    "    normed_author_list = [robust_call(mpia.get_initials, k) for k in paperk['authors']]\n",
    "    hl_authors = highlight_authors_in_list(normed_author_list, mpia_authors, verbose=True)\n",
    "    matches = [(hl, orig) for hl, orig in zip(hl_authors, paperk['authors']) if 'mark' in hl]\n",
    "    paperk['authors'] = hl_authors\n",
    "    if matches:\n",
    "        # only select paper if an author matched our list\n",
    "        candidates.append(paperk)\n",
    "print(\"\"\"Arxiv has {0:,d} new papers today\"\"\".format(len(new_papers)))        \n",
    "print(\"\"\"          {0:,d} with possible author matches\"\"\".format(len(candidates)))"
   ]
  },
  {
   "cell_type": "markdown",
   "id": "3543b34a",
   "metadata": {
    "papermill": {
     "duration": 0.003082,
     "end_time": "2025-07-21T04:36:57.085199",
     "exception": false,
     "start_time": "2025-07-21T04:36:57.082117",
     "status": "completed"
    },
    "tags": []
   },
   "source": [
    "# Parse sources and generate relevant outputs\n",
    "\n",
    "From the candidates, we do the following steps:\n",
    "* get their tarball from ArXiv (and extract data)\n",
    "* find the main .tex file: find one with \\documentclass{...} (sometimes it's non trivial)\n",
    "* Check affiliations with :func:`validation`, which uses :func:`mpia.affiliation_verifications`\n",
    "* If passing the affiliations: we parse the .tex source\n",
    "   * inject sub-documents into the main (flatten the main document)\n",
    "   * parse structure, extract information (title, abstract, authors, figures...)\n",
    "   * handles `\\graphicspath` if provided\n",
    "* Generate the .md document."
   ]
  },
  {
   "cell_type": "code",
   "execution_count": 5,
   "id": "9576b79e",
   "metadata": {
    "execution": {
     "iopub.execute_input": "2025-07-21T04:36:57.092788Z",
     "iopub.status.busy": "2025-07-21T04:36:57.092276Z",
     "iopub.status.idle": "2025-07-21T04:37:24.805586Z",
     "shell.execute_reply": "2025-07-21T04:37:24.804793Z"
    },
    "papermill": {
     "duration": 27.718473,
     "end_time": "2025-07-21T04:37:24.806804",
     "exception": false,
     "start_time": "2025-07-21T04:36:57.088331",
     "status": "completed"
    },
    "scrolled": false,
    "tags": []
   },
   "outputs": [
    {
     "data": {
      "application/vnd.jupyter.widget-view+json": {
       "model_id": "a64f593a3c9e4849b5085c67a2141162",
       "version_major": 2,
       "version_minor": 0
      },
      "text/plain": [
       "  0%|          | 0/6 [00:00<?, ?it/s]"
      ]
     },
     "metadata": {},
     "output_type": "display_data"
    },
    {
     "name": "stdout",
     "output_type": "stream",
     "text": [
      "Retrieving document from  https://arxiv.org/e-print/2507.13439\n"
     ]
    },
    {
     "name": "stdout",
     "output_type": "stream",
     "text": [
      "extracting tarball to tmp_2507.13439..."
     ]
    },
    {
     "name": "stdout",
     "output_type": "stream",
     "text": [
      " done.\n"
     ]
    },
    {
     "name": "stdout",
     "output_type": "stream",
     "text": [
      "K. A. Kahle  ->  K. A. Kahle  |  ['K. A. Kahle']\n",
      "L. Kreidberg  ->  L. Kreidberg  |  ['L. Kreidberg']\n",
      "P. Mollière  ->  P. Mollière  |  ['P. Mollière']\n",
      "L. Acuña  ->  L. Acuña  |  ['L. Acuña']\n",
      "C. Gapp  ->  C. Gapp  |  ['C. Gapp']\n"
     ]
    },
    {
     "name": "stderr",
     "output_type": "stream",
     "text": [
      "/opt/hostedtoolcache/Python/3.9.23/x64/lib/python3.9/site-packages/arxiv_on_deck_2/latex.py:132: LatexWarning: attempting recovering figure figs/family_portrait_v3.png\n",
      "  warnings.warn(LatexWarning(f'attempting recovering figure {image}'))\n",
      "/opt/hostedtoolcache/Python/3.9.23/x64/lib/python3.9/site-packages/arxiv_on_deck_2/latex.py:707: LatexWarning: Could not find graphic \\includegraphics[width=0.49\\textwidth]{figs/family_portrait_v3.png}\n",
      "  warnings.warn(LatexWarning(f\"Could not find graphic {k}\"))\n",
      "/opt/hostedtoolcache/Python/3.9.23/x64/lib/python3.9/site-packages/arxiv_on_deck_2/latex.py:132: LatexWarning: attempting recovering figure figs/HD86226c_mass_radius.png\n",
      "  warnings.warn(LatexWarning(f'attempting recovering figure {image}'))\n",
      "/opt/hostedtoolcache/Python/3.9.23/x64/lib/python3.9/site-packages/arxiv_on_deck_2/latex.py:707: LatexWarning: Could not find graphic \\includegraphics[width=0.49\\textwidth]{figs/HD86226c_mass_radius.png}\n",
      "  warnings.warn(LatexWarning(f\"Could not find graphic {k}\"))\n",
      "/opt/hostedtoolcache/Python/3.9.23/x64/lib/python3.9/site-packages/arxiv_on_deck_2/latex.py:132: LatexWarning: attempting recovering figure figs/rowshift_stretch.png\n",
      "  warnings.warn(LatexWarning(f'attempting recovering figure {image}'))\n",
      "/opt/hostedtoolcache/Python/3.9.23/x64/lib/python3.9/site-packages/arxiv_on_deck_2/latex.py:707: LatexWarning: Could not find graphic \\includegraphics[width=0.49\\textwidth]{figs/rowshift_stretch.png}\n",
      "  warnings.warn(LatexWarning(f\"Could not find graphic {k}\"))\n",
      "/opt/hostedtoolcache/Python/3.9.23/x64/lib/python3.9/site-packages/arxiv_on_deck_2/latex.py:132: LatexWarning: attempting recovering figure figs/hd86226_sed_lowresphx.pdf\n",
      "  warnings.warn(LatexWarning(f'attempting recovering figure {image}'))\n",
      "/opt/hostedtoolcache/Python/3.9.23/x64/lib/python3.9/site-packages/arxiv_on_deck_2/latex.py:707: LatexWarning: Could not find graphic \\includegraphics[trim = 5mm 5mm 5mm 5mm,clip, width=\\linewidth]{figs/hd86226_sed_lowresphx.pdf}\n",
      "  warnings.warn(LatexWarning(f\"Could not find graphic {k}\"))\n",
      "/opt/hostedtoolcache/Python/3.9.23/x64/lib/python3.9/site-packages/arxiv_on_deck_2/latex.py:132: LatexWarning: attempting recovering figure figs/Wesleyan_monitoring.pdf\n",
      "  warnings.warn(LatexWarning(f'attempting recovering figure {image}'))\n",
      "/opt/hostedtoolcache/Python/3.9.23/x64/lib/python3.9/site-packages/arxiv_on_deck_2/latex.py:707: LatexWarning: Could not find graphic \\includegraphics[width=0.49\\textwidth]{figs/Wesleyan_monitoring.pdf}\n",
      "  warnings.warn(LatexWarning(f\"Could not find graphic {k}\"))\n",
      "/opt/hostedtoolcache/Python/3.9.23/x64/lib/python3.9/site-packages/arxiv_on_deck_2/latex.py:132: LatexWarning: attempting recovering figure figs/spectrum_flat_fit_chi2_1sig_compare_eureka_v8.png\n",
      "  warnings.warn(LatexWarning(f'attempting recovering figure {image}'))\n",
      "/opt/hostedtoolcache/Python/3.9.23/x64/lib/python3.9/site-packages/arxiv_on_deck_2/latex.py:707: LatexWarning: Could not find graphic \\includegraphics[width=0.49\\textwidth]{figs/spectrum_flat_fit_chi2_1sig_compare_eureka_v8.png}\n",
      "  warnings.warn(LatexWarning(f\"Could not find graphic {k}\"))\n",
      "/opt/hostedtoolcache/Python/3.9.23/x64/lib/python3.9/site-packages/arxiv_on_deck_2/latex.py:132: LatexWarning: attempting recovering figure figs/JB_VP_RC_TPs_new.pdf\n",
      "  warnings.warn(LatexWarning(f'attempting recovering figure {image}'))\n",
      "/opt/hostedtoolcache/Python/3.9.23/x64/lib/python3.9/site-packages/arxiv_on_deck_2/latex.py:707: LatexWarning: Could not find graphic \\includegraphics[width=0.99\\linewidth, trim = 4mm -6mm 1mm 1mm, clip]{figs/JB_VP_RC_TPs_new.pdf}\n",
      "  warnings.warn(LatexWarning(f\"Could not find graphic {k}\"))\n",
      "/opt/hostedtoolcache/Python/3.9.23/x64/lib/python3.9/site-packages/arxiv_on_deck_2/latex.py:132: LatexWarning: attempting recovering figure figs/trends.png\n",
      "  warnings.warn(LatexWarning(f'attempting recovering figure {image}'))\n",
      "/opt/hostedtoolcache/Python/3.9.23/x64/lib/python3.9/site-packages/arxiv_on_deck_2/latex.py:707: LatexWarning: Could not find graphic \\includegraphics[width=0.49\\textwidth]{figs/trends.png}\n",
      "  warnings.warn(LatexWarning(f\"Could not find graphic {k}\"))\n",
      "/opt/hostedtoolcache/Python/3.9.23/x64/lib/python3.9/site-packages/arxiv_on_deck_2/latex.py:132: LatexWarning: attempting recovering figure figs/atmosphere_scenarios_JWST_paper.png\n",
      "  warnings.warn(LatexWarning(f'attempting recovering figure {image}'))\n",
      "/opt/hostedtoolcache/Python/3.9.23/x64/lib/python3.9/site-packages/arxiv_on_deck_2/latex.py:707: LatexWarning: Could not find graphic \\includegraphics[width=0.49\\textwidth]{figs/atmosphere_scenarios_JWST_paper.png}\n",
      "  warnings.warn(LatexWarning(f\"Could not find graphic {k}\"))\n",
      "/opt/hostedtoolcache/Python/3.9.23/x64/lib/python3.9/site-packages/arxiv_on_deck_2/latex.py:132: LatexWarning: attempting recovering figure figs/lightcurves_v9.png\n",
      "  warnings.warn(LatexWarning(f'attempting recovering figure {image}'))\n",
      "/opt/hostedtoolcache/Python/3.9.23/x64/lib/python3.9/site-packages/arxiv_on_deck_2/latex.py:707: LatexWarning: Could not find graphic \\includegraphics[width=0.99\\textwidth]{figs/lightcurves_v9.png}\n",
      "  warnings.warn(LatexWarning(f\"Could not find graphic {k}\"))\n",
      "/opt/hostedtoolcache/Python/3.9.23/x64/lib/python3.9/site-packages/arxiv_on_deck_2/latex.py:132: LatexWarning: attempting recovering figure figs/Envelopes_full_HST_withsolar.png\n",
      "  warnings.warn(LatexWarning(f'attempting recovering figure {image}'))\n",
      "/opt/hostedtoolcache/Python/3.9.23/x64/lib/python3.9/site-packages/arxiv_on_deck_2/latex.py:707: LatexWarning: Could not find graphic \\includegraphics[width=0.59\\textwidth]{figs/Envelopes_full_HST_withsolar.png}\n",
      "  warnings.warn(LatexWarning(f\"Could not find graphic {k}\"))\n",
      "/opt/hostedtoolcache/Python/3.9.23/x64/lib/python3.9/site-packages/arxiv_on_deck_2/latex.py:132: LatexWarning: attempting recovering figure figs/cornerplot_both.png\n",
      "  warnings.warn(LatexWarning(f'attempting recovering figure {image}'))\n",
      "/opt/hostedtoolcache/Python/3.9.23/x64/lib/python3.9/site-packages/arxiv_on_deck_2/latex.py:707: LatexWarning: Could not find graphic \\includegraphics[width=0.405\\textwidth]{figs/cornerplot_both.png}\n",
      "  warnings.warn(LatexWarning(f\"Could not find graphic {k}\"))\n",
      "/opt/hostedtoolcache/Python/3.9.23/x64/lib/python3.9/site-packages/arxiv_on_deck_2/latex.py:132: LatexWarning: attempting recovering figure figs/JB_MnS.pdf\n",
      "  warnings.warn(LatexWarning(f'attempting recovering figure {image}'))\n",
      "/opt/hostedtoolcache/Python/3.9.23/x64/lib/python3.9/site-packages/arxiv_on_deck_2/latex.py:707: LatexWarning: Could not find graphic \\includegraphics[width=0.3\\linewidth]{figs/JB_MnS.pdf}\n",
      "  warnings.warn(LatexWarning(f\"Could not find graphic {k}\"))\n",
      "/opt/hostedtoolcache/Python/3.9.23/x64/lib/python3.9/site-packages/arxiv_on_deck_2/latex.py:132: LatexWarning: attempting recovering figure figs/JB_MgSiO3.pdf\n",
      "  warnings.warn(LatexWarning(f'attempting recovering figure {image}'))\n",
      "/opt/hostedtoolcache/Python/3.9.23/x64/lib/python3.9/site-packages/arxiv_on_deck_2/latex.py:707: LatexWarning: Could not find graphic \\includegraphics[width=0.3\\linewidth]{figs/JB_MgSiO3.pdf}\n",
      "  warnings.warn(LatexWarning(f\"Could not find graphic {k}\"))\n",
      "/opt/hostedtoolcache/Python/3.9.23/x64/lib/python3.9/site-packages/arxiv_on_deck_2/latex.py:132: LatexWarning: attempting recovering figure figs/JB_Fe.pdf\n",
      "  warnings.warn(LatexWarning(f'attempting recovering figure {image}'))\n",
      "/opt/hostedtoolcache/Python/3.9.23/x64/lib/python3.9/site-packages/arxiv_on_deck_2/latex.py:707: LatexWarning: Could not find graphic \\includegraphics[width=0.3\\linewidth]{figs/JB_Fe.pdf}\n",
      "  warnings.warn(LatexWarning(f\"Could not find graphic {k}\"))\n",
      "/opt/hostedtoolcache/Python/3.9.23/x64/lib/python3.9/site-packages/arxiv_on_deck_2/latex.py:132: LatexWarning: attempting recovering figure figs/MnS_grid_new_Ian_4June2025.pdf\n",
      "  warnings.warn(LatexWarning(f'attempting recovering figure {image}'))\n",
      "/opt/hostedtoolcache/Python/3.9.23/x64/lib/python3.9/site-packages/arxiv_on_deck_2/latex.py:707: LatexWarning: Could not find graphic \\includegraphics[width=0.45\\linewidth, trim = 4mm 4mm 3mm 8mm, clip]{figs/MnS_grid_new_Ian_4June2025.pdf}\n",
      "  warnings.warn(LatexWarning(f\"Could not find graphic {k}\"))\n",
      "/opt/hostedtoolcache/Python/3.9.23/x64/lib/python3.9/site-packages/arxiv_on_deck_2/latex.py:132: LatexWarning: attempting recovering figure figs/MnS_q=1e-04__r_g0p10__R_p2p313_2panels_Radius2p313.pdf\n",
      "  warnings.warn(LatexWarning(f'attempting recovering figure {image}'))\n",
      "/opt/hostedtoolcache/Python/3.9.23/x64/lib/python3.9/site-packages/arxiv_on_deck_2/latex.py:707: LatexWarning: Could not find graphic \\includegraphics[width=0.55\\linewidth, trim = 5mm 1mm 0mm 0mm, clip]{figs/MnS_q=1e-04__r_g0p10__R_p2p313_2panels_Radius2p313.pdf}\n",
      "  warnings.warn(LatexWarning(f\"Could not find graphic {k}\"))\n",
      "/opt/hostedtoolcache/Python/3.9.23/x64/lib/python3.9/site-packages/arxiv_on_deck_2/latex.py:132: LatexWarning: attempting recovering figure figs/MgSiO3_grid_new_4June2025.pdf\n",
      "  warnings.warn(LatexWarning(f'attempting recovering figure {image}'))\n",
      "/opt/hostedtoolcache/Python/3.9.23/x64/lib/python3.9/site-packages/arxiv_on_deck_2/latex.py:707: LatexWarning: Could not find graphic \\includegraphics[width=0.45\\linewidth, trim = 4mm 4mm 3mm 8mm, clip]{figs/MgSiO3_grid_new_4June2025.pdf}\n",
      "  warnings.warn(LatexWarning(f\"Could not find graphic {k}\"))\n",
      "/opt/hostedtoolcache/Python/3.9.23/x64/lib/python3.9/site-packages/arxiv_on_deck_2/latex.py:132: LatexWarning: attempting recovering figure figs/MgSiO3_q=1e-04__r_g0p01__R_p2p313_2panels_Radius2p313.pdf\n",
      "  warnings.warn(LatexWarning(f'attempting recovering figure {image}'))\n",
      "/opt/hostedtoolcache/Python/3.9.23/x64/lib/python3.9/site-packages/arxiv_on_deck_2/latex.py:707: LatexWarning: Could not find graphic \\includegraphics[width=0.55\\linewidth, trim = 5mm 1mm 0mm 0mm, clip]{figs/MgSiO3_q=1e-04__r_g0p01__R_p2p313_2panels_Radius2p313.pdf}\n",
      "  warnings.warn(LatexWarning(f\"Could not find graphic {k}\"))\n",
      "/opt/hostedtoolcache/Python/3.9.23/x64/lib/python3.9/site-packages/arxiv_on_deck_2/latex.py:132: LatexWarning: attempting recovering figure figs/Fe_grid_new_4June2025.pdf\n",
      "  warnings.warn(LatexWarning(f'attempting recovering figure {image}'))\n",
      "/opt/hostedtoolcache/Python/3.9.23/x64/lib/python3.9/site-packages/arxiv_on_deck_2/latex.py:707: LatexWarning: Could not find graphic \\includegraphics[width=0.45\\linewidth, trim = 4mm 4mm 3mm 8mm, clip]{figs/Fe_grid_new_4June2025.pdf}\n",
      "  warnings.warn(LatexWarning(f\"Could not find graphic {k}\"))\n",
      "/opt/hostedtoolcache/Python/3.9.23/x64/lib/python3.9/site-packages/arxiv_on_deck_2/latex.py:132: LatexWarning: attempting recovering figure figs/Fe_q1e-04__r_g1p00__R_p2p313_2panels_Radius2p313.pdf\n",
      "  warnings.warn(LatexWarning(f'attempting recovering figure {image}'))\n",
      "/opt/hostedtoolcache/Python/3.9.23/x64/lib/python3.9/site-packages/arxiv_on_deck_2/latex.py:707: LatexWarning: Could not find graphic \\includegraphics[width=0.55\\linewidth, trim = 5mm 1mm 0mm 0mm, clip]{figs/Fe_q1e-04__r_g1p00__R_p2p313_2panels_Radius2p313.pdf}\n",
      "  warnings.warn(LatexWarning(f\"Could not find graphic {k}\"))\n",
      "/opt/hostedtoolcache/Python/3.9.23/x64/lib/python3.9/site-packages/arxiv_on_deck_2/latex.py:132: LatexWarning: attempting recovering figure figs/haze_chi2.pdf\n",
      "  warnings.warn(LatexWarning(f'attempting recovering figure {image}'))\n",
      "/opt/hostedtoolcache/Python/3.9.23/x64/lib/python3.9/site-packages/arxiv_on_deck_2/latex.py:707: LatexWarning: Could not find graphic \\includegraphics[width=\\linewidth]{figs/haze_chi2.pdf}\n",
      "  warnings.warn(LatexWarning(f\"Could not find graphic {k}\"))\n",
      "/opt/hostedtoolcache/Python/3.9.23/x64/lib/python3.9/site-packages/arxiv_on_deck_2/latex.py:132: LatexWarning: attempting recovering figure figs/haze_spec.pdf\n",
      "  warnings.warn(LatexWarning(f'attempting recovering figure {image}'))\n",
      "/opt/hostedtoolcache/Python/3.9.23/x64/lib/python3.9/site-packages/arxiv_on_deck_2/latex.py:707: LatexWarning: Could not find graphic \\includegraphics[width=\\linewidth]{figs/haze_spec.pdf}\n",
      "  warnings.warn(LatexWarning(f\"Could not find graphic {k}\"))\n"
     ]
    },
    {
     "name": "stdout",
     "output_type": "stream",
     "text": [
      "Found 157 bibliographic references in tmp_2507.13439/aa54916-25.bbl.\n",
      "Retrieving document from  https://arxiv.org/e-print/2507.13448\n"
     ]
    },
    {
     "name": "stdout",
     "output_type": "stream",
     "text": [
      "extracting tarball to tmp_2507.13448... done.\n",
      "Retrieving document from  https://arxiv.org/e-print/2507.13771\n"
     ]
    },
    {
     "name": "stderr",
     "output_type": "stream",
     "text": [
      "/opt/hostedtoolcache/Python/3.9.23/x64/lib/python3.9/site-packages/IPython/core/interactiveshell.py:3550: LatexWarning: Multiple tex files.\n",
      "\n",
      "  exec(code_obj, self.user_global_ns, self.user_ns)\n",
      "/opt/hostedtoolcache/Python/3.9.23/x64/lib/python3.9/site-packages/IPython/core/interactiveshell.py:3550: LatexWarning: Found documentclass in tmp_2507.13448/highz_sats.tex\n",
      "\n",
      "  exec(code_obj, self.user_global_ns, self.user_ns)\n",
      "/opt/hostedtoolcache/Python/3.9.23/x64/lib/python3.9/site-packages/arxiv_on_deck_2/latex.py:414: LatexWarning: Latex injecting: 'tables/observed_hosts.tex' from 'tmp_2507.13448/tables/observed_hosts.tex'\n",
      "  warnings.warn(LatexWarning(f\"Latex injecting: '{ext}' from '{subsource}'\"))\n"
     ]
    },
    {
     "name": "stderr",
     "output_type": "stream",
     "text": [
      "/tmp/ipykernel_3400/2822249172.py:52: LatexWarning: 2507.13771 did not run properly\n",
      "invalid header\n",
      "  warnings.warn(latex.LatexWarning(f\"{paper_id:s} did not run properly\\n\" +\n"
     ]
    },
    {
     "name": "stdout",
     "output_type": "stream",
     "text": [
      "Retrieving document from  https://arxiv.org/e-print/2507.13811\n"
     ]
    },
    {
     "name": "stdout",
     "output_type": "stream",
     "text": [
      "extracting tarball to tmp_2507.13811... done.\n",
      "Retrieving document from  https://arxiv.org/e-print/2507.13850\n"
     ]
    },
    {
     "name": "stdout",
     "output_type": "stream",
     "text": [
      "extracting tarball to tmp_2507.13850..."
     ]
    },
    {
     "name": "stdout",
     "output_type": "stream",
     "text": [
      " done.\n",
      "  0: tmp_2507.13850/latest_draft.tex, 1,259 lines\n",
      "  1: tmp_2507.13850/J2008_paper_ARXIV_submission/latest_draft.tex, 1,259 lines\n",
      "Retrieving document from  https://arxiv.org/e-print/2507.13921\n",
      "extracting tarball to tmp_2507.13921..."
     ]
    },
    {
     "name": "stderr",
     "output_type": "stream",
     "text": [
      "/opt/hostedtoolcache/Python/3.9.23/x64/lib/python3.9/site-packages/IPython/core/interactiveshell.py:3550: LatexWarning: Multiple tex files.\n",
      "\n",
      "  exec(code_obj, self.user_global_ns, self.user_ns)\n",
      "/opt/hostedtoolcache/Python/3.9.23/x64/lib/python3.9/site-packages/IPython/core/interactiveshell.py:3550: LatexWarning: Found 2 candidates with documentclass definition.\n",
      "  exec(code_obj, self.user_global_ns, self.user_ns)\n",
      "/opt/hostedtoolcache/Python/3.9.23/x64/lib/python3.9/site-packages/IPython/core/interactiveshell.py:3550: LatexWarning: Assuming tmp_2507.13850/latest_draft.tex as main document.\n",
      "  exec(code_obj, self.user_global_ns, self.user_ns)\n"
     ]
    },
    {
     "name": "stdout",
     "output_type": "stream",
     "text": [
      " done.\n"
     ]
    },
    {
     "name": "stdout",
     "output_type": "stream",
     "text": [
      "A. Winter  ->  A. Winter  |  ['A. Winter']\n",
      "T. Henning  ->  T. Henning  |  ['T. Henning']\n",
      "G. Perotti  ->  G. Perotti  |  ['G. Perotti']\n"
     ]
    },
    {
     "name": "stdout",
     "output_type": "stream",
     "text": [
      "Found 183 bibliographic references in tmp_2507.13921/aa55718-25.bbl.\n",
      "Issues with the citations\n",
      "syntax error in line 16: '}' expected\n"
     ]
    }
   ],
   "source": [
    "documents = []\n",
    "failed = []\n",
    "for paper in tqdm(candidates):\n",
    "    # debug crap\n",
    "    paper['identifier'] = paper['identifier'].lower().replace('arxiv:', '').replace(r'\\n', '').strip()\n",
    "    paper_id = paper['identifier']\n",
    "    \n",
    "    folder = f'tmp_{paper_id}'\n",
    "\n",
    "    try:\n",
    "        if not os.path.isdir(folder):\n",
    "            folder = retrieve_document_source(f\"{paper_id}\", f'tmp_{paper_id}')\n",
    "        \n",
    "        try:\n",
    "            doc = latex.LatexDocument(folder, validation=validation)    \n",
    "        except AffiliationError as affilerror:\n",
    "            msg = f\"ArXiv:{paper_id:s} is not an MPIA paper... \" + str(affilerror)\n",
    "            failed.append((paper, \"affiliation error: \" + str(affilerror) ))\n",
    "            continue\n",
    "        \n",
    "        # Hack because sometimes author parsing does not work well\n",
    "        if (len(doc.authors) != len(paper['authors'])):\n",
    "            doc._authors = paper['authors']\n",
    "        else:\n",
    "            # highlight authors (FIXME: doc.highlight_authors)\n",
    "            # done on arxiv paper already\n",
    "            doc._authors = highlight_authors_in_list(\n",
    "                [get_initials(k) for k in doc.authors], \n",
    "                mpia_authors, verbose=True)\n",
    "        if (doc.abstract) in (None, ''):\n",
    "            doc._abstract = paper['abstract']\n",
    "            \n",
    "        doc.comment = (get_markdown_badge(paper_id) + \n",
    "                       \"<mark>Appeared on: \" + paper['date'] + \"</mark> - \")\n",
    "        if paper['comments']:\n",
    "            doc.comment += \" _\" + paper['comments'] + \"_\"\n",
    "        \n",
    "        full_md = doc.generate_markdown_text()\n",
    "        \n",
    "        full_md += get_markdown_qrcode(paper_id)\n",
    "        \n",
    "        # replace citations\n",
    "        try:\n",
    "            bibdata = latex_bib.LatexBib.from_doc(doc)\n",
    "            full_md = latex_bib.replace_citations(full_md, bibdata)\n",
    "        except Exception as e:\n",
    "            print(\"Issues with the citations\")\n",
    "            print(e)\n",
    "        \n",
    "        documents.append((paper_id, full_md))\n",
    "    except Exception as e:\n",
    "        warnings.warn(latex.LatexWarning(f\"{paper_id:s} did not run properly\\n\" +\n",
    "                                         str(e)\n",
    "                                        ))\n",
    "        failed.append((paper, \"latex error \" + str(e)))"
   ]
  },
  {
   "cell_type": "markdown",
   "id": "2505a25c",
   "metadata": {
    "papermill": {
     "duration": 0.004146,
     "end_time": "2025-07-21T04:37:24.815523",
     "exception": false,
     "start_time": "2025-07-21T04:37:24.811377",
     "status": "completed"
    },
    "tags": []
   },
   "source": [
    "### Export the logs\n",
    "\n",
    "Throughout, we also keep track of the logs per paper. see `logs-{today date}.md` "
   ]
  },
  {
   "cell_type": "code",
   "execution_count": 6,
   "id": "d733828a",
   "metadata": {
    "execution": {
     "iopub.execute_input": "2025-07-21T04:37:24.825134Z",
     "iopub.status.busy": "2025-07-21T04:37:24.824844Z",
     "iopub.status.idle": "2025-07-21T04:37:24.843237Z",
     "shell.execute_reply": "2025-07-21T04:37:24.842638Z"
    },
    "papermill": {
     "duration": 0.02463,
     "end_time": "2025-07-21T04:37:24.844306",
     "exception": false,
     "start_time": "2025-07-21T04:37:24.819676",
     "status": "completed"
    },
    "scrolled": false,
    "tags": []
   },
   "outputs": [
    {
     "data": {
      "text/markdown": [
       "## Successful papers"
      ],
      "text/plain": [
       "<IPython.core.display.Markdown object>"
      ]
     },
     "metadata": {},
     "output_type": "display_data"
    },
    {
     "data": {
      "text/markdown": [
       "\n",
       "|||\n",
       "|---:|:---|\n",
       "| [![arXiv](https://img.shields.io/badge/arXiv-2507.13439-b31b1b.svg)](https://arxiv.org/abs/2507.13439) | **The SPACE Program I: The featureless spectrum of HD 86226 c challenges sub-Neptune atmosphere trends**  |\n",
       "|| <mark>K. A. Kahle</mark>, et al. -- incl., <mark>L. Kreidberg</mark>, <mark>P. Mollière</mark>, <mark>L. Acuña</mark>, <mark>C. Gapp</mark> |\n",
       "|*Appeared on*| *2025-07-21*|\n",
       "|*Comments*| *Accepted for publication in Astronomy & Astrophysics*|\n",
       "|**Abstract**|            Sub-Neptune exoplanets are the most abundant type of planet known today. As they do not have a Solar System counterpart, many open questions exist about their composition and formation. Previous spectroscopic studies rule out aerosol-free hydrogen-helium-dominated atmospheres for many characterized sub-Neptunes but are inconclusive about their exact atmospheric compositions. Here we characterize the hot (Teq=1311K) sub-Neptune HD 86226 c, which orbits its G-type host star. Its high equilibrium temperature prohibits methane-based haze formation, increasing the chances for a clear atmosphere on this planet. We use HST data taken with WFC3 and STIS from the Sub-neptune Planetary Atmosphere Characterization Experiment (SPACE) Program to perform near-infrared 1.1-1.7micrometer transmission spectroscopy and UV characterization of the host star. We report a featureless transmission spectrum that is consistent within 0.4 sigma with a constant transit depth of 418+-14ppm. The amplitude of this spectrum is only 0.01 scale heights for a H/He-dominated atmosphere, excluding a cloud-free solar-metallicity atmosphere on HD 86226 c with a confidence of 6.5 sigma. Based on an atmospheric retrieval analysis and forward models of cloud and haze formation, we find that the featureless spectrum could be due to a metal enrichment [M/H] above 2.3 (3 sigma confidence lower limit) of a cloudless atmosphere, or silicate (MgSiO3), iron (Fe), or manganese sulfide (MnS) clouds. For these species, we perform an investigation of cloud formation in high-metallicity, high-temperature atmospheres. Our results highlight that HD 86226c does not follow the aerosol trend of sub-Neptunes found by previous studies. Follow-up observations with the JWST could determine whether this planet aligns with the recent detections of metal-enriched atmospheres or if it harbors a cloud species otherwise atypical for sub-Neptunes.         |"
      ],
      "text/plain": [
       "[2507.13439] The SPACE Program I: The featureless spectrum of HD 86226 c challenges sub-Neptune atmosphere trends\n",
       "\t<mark>K. A. Kahle</mark>, et al. -- incl., <mark>L. Kreidberg</mark>, <mark>P. Mollière</mark>, <mark>L. Acuña</mark>, <mark>C. Gapp</mark>"
      ]
     },
     "metadata": {},
     "output_type": "display_data"
    },
    {
     "data": {
      "text/markdown": [
       "\n",
       "|||\n",
       "|---:|:---|\n",
       "| [![arXiv](https://img.shields.io/badge/arXiv-2507.13921-b31b1b.svg)](https://arxiv.org/abs/2507.13921) | **XUE 10. The CO$_2$-rich terrestrial planet-forming region of an externally irradiated Herbig disk**  |\n",
       "|| J. Frediani, et al. -- incl., <mark>A. Winter</mark>, <mark>T. Henning</mark>, <mark>G. Perotti</mark> |\n",
       "|*Appeared on*| *2025-07-21*|\n",
       "|*Comments*| *20 pages, 13 figures, 4 tables*|\n",
       "|**Abstract**|            We investigate the James Webb Space Telescope (JWST) MIRI MRS gas molecular content of an externally irradiated Herbig disk, the F-type XUE 10 source, in the context of the eXtreme UV Environments (XUE) program. XUE 10 belongs to the massive star cluster NGC 6357 (1.69 kpc), where it is exposed to an external far-ultraviolet (FUV) radiation $\\approx$ 10$^3$ times stronger than in the Solar neighborhood. We modeled the molecular features in the mid-infrared spectrum with Local Thermodynamic Equilibrium (LTE) 0D slab models. We derived basic parameters of the stellar host from a VLT FORS2 optical spectrum using PHOENIX stellar templates. We detect bright CO2 gas with the first simultaneous detection (> 5$\\sigma$) of four isotopologues (12CO2, 13CO2, 16O12C18O, 16O12C17O) in a protoplanetary disk. We also detect faint CO emission (2$\\sigma$) and the HI Pf$\\alpha$ line (8$\\sigma$). We also place strict upper limits on the water content, finding a total column density $\\lesssim$ 10$^{18}$ cm$^{-2}$. The CO2 species trace low gas temperatures (300-370 K) with a range of column densities of 7.4 $\\times$ 10$^{17}$ cm$^{-2}$ (16O12C17O)-1.3 $\\times$ 10$^{20}$ cm$^{-2}$ (12CO2) in an equivalent emitting radius of 1.15 au. The emission of 13CO2 is likely affected by line optical depth effects. 16O12C18O and 16O12C17O abundances may be isotopically anomalous compared to the 16O/18O and 16O/17O ratios measured in the interstellar medium and the Solar System. We propose that the mid-infrared spectrum of XUE 10 is explained by H2O removal either via advection or strong photo-dissociation by stellar UV irradiation, and enhanced local CO2 gas-phase production. Outer disk truncation supports the observed CO2-H2O dichotomy. A CO2 vapor enrichment in 18O and 17O can be explained by means of external UV irradiation and early on (10$^{4-5}$ yr) delivery of isotopically anomalous water ice to the inner disk.         |"
      ],
      "text/plain": [
       "[2507.13921] XUE 10. The CO$_2$-rich terrestrial planet-forming region of an externally irradiated Herbig disk\n",
       "\tJ. Frediani, et al. -- incl., <mark>A. Winter</mark>, <mark>T. Henning</mark>, <mark>G. Perotti</mark>"
      ]
     },
     "metadata": {},
     "output_type": "display_data"
    },
    {
     "data": {
      "text/markdown": [
       "## Failed papers"
      ],
      "text/plain": [
       "<IPython.core.display.Markdown object>"
      ]
     },
     "metadata": {},
     "output_type": "display_data"
    },
    {
     "data": {
      "text/markdown": [
       "\n",
       "|||\n",
       "|---:|:---|\n",
       "| [![arXiv](https://img.shields.io/badge/arXiv-2507.13850-b31b1b.svg)](https://arxiv.org/abs/2507.13850) | **A half-ring of ionized circumstellar material trapped in the magnetosphere of a white dwarf merger remnant**  |\n",
       "|| A. A. Cristea, et al. -- incl., <mark>K. El-Badry</mark> |\n",
       "|*Appeared on*| *2025-07-21*|\n",
       "|*Comments*| *Submitted to A&A, 36 pages, 27 figures. Comments are very welcome*|\n",
       "|**Abstract**|            Many white dwarfs are observed in compact double white dwarf binaries and, through the emission of gravitational waves, a large fraction are destined to merge. The merger remnants that do not explode in a Type Ia supernova are expected to initially be rapidly rotating and highly magnetized. We here present our discovery of the variable white dwarf ZTF J200832.79+444939.67, hereafter ZTF J2008+4449, as a likely merger remnant showing signs of circumstellar material without a stellar or substellar companion. The nature of ZTF J2008+4449 as a merger remnant is supported by its physical properties: hot ($35,500\\pm300$ K) and massive ($1.12\\pm0.03$ M$_\\odot$), the white dwarf is rapidly rotating with a period of $\\approx$ 6.6 minutes and likely possesses exceptionally strong magnetic fields ($\\sim$ 400-600 MG) at its surface. Remarkably, we detect a significant period derivative of $(1.80\\pm0.09)\\times10^{-12}$ s/s, indicating that the white dwarf is spinning down, and a soft X-ray emission that is inconsistent with photospheric emission. As the presence of a mass-transferring stellar or brown dwarf companion is excluded by infrared photometry, the detected spin down and X-ray emission could be tell-tale signs of a magnetically driven wind or of interaction with circumstellar material, possibly originating from the fallback of gravitationally bound merger ejecta or from the tidal disruption of a planetary object. We also detect Balmer emission, which requires the presence of ionized hydrogen in the vicinity of the white dwarf, showing Doppler shifts as high as $\\approx$ 2000 km s$^{-1}$. The unusual variability of the Balmer emission on the spin period of the white dwarf is consistent with the trapping of a half ring of ionised gas in the magnetosphere of the white dwarf.         |\n",
       "|<p style=\"color:green\"> **ERROR** </p>| <p style=\"color:green\">affiliation error: mpia.affiliation_verifications: '69117' keyword not found.</p> |"
      ],
      "text/plain": [
       "<IPython.core.display.Markdown object>"
      ]
     },
     "metadata": {},
     "output_type": "display_data"
    },
    {
     "data": {
      "text/markdown": [
       "\n",
       "|||\n",
       "|---:|:---|\n",
       "| [![arXiv](https://img.shields.io/badge/arXiv-2507.13448-b31b1b.svg)](https://arxiv.org/abs/2507.13448) | **Dwarf Galaxies at Cosmic Noon: New JWST Constraints on Satellite Models and Subhalo Tidal Evolution**  |\n",
       "|| J. T. Wan, et al. -- incl., <mark>Y. Wang</mark> |\n",
       "|*Appeared on*| *2025-07-21*|\n",
       "|*Comments*| *Submitted to ApJ; comments welcome!*|\n",
       "|**Abstract**|            The advent of JWST has revolutionized the study of faint satellite galaxies at $z \\gtrsim 1$, enabling statistical constraints on galaxy evolution and the galaxy$-$halo connection in a previously unexplored mass and redshift regime. We compare satellite abundances at $1 < z < 3.5$ from recent JWST observations with predictions from cosmological dark matter-only zoom-in simulations. We identify and quantify several sources of biases that can impact theoretical satellite counts, finding that assumptions about subhalo tidal evolution introduce the largest uncertainty in predictions for the satellite mass function. Using a flexible galaxy disruption model, we explore a range of disruption scenarios, spanning hydrodynamically motivated and idealized prescriptions, to bracket plausible physical outcomes. We show that varying galaxy durability can change the predicted satellite mass functions by a factor of $\\sim3.5$. The JWST data and our fiducial model are consistent within $1-2\\sigma$ across the full redshift ($1 < z < 3.5$) and stellar mass ($M_\\star> 10^7~\\mathrm{M}_\\odot$) range probed. We find evidence that subhalos are at least as long-lived as predicted by hydrodynamic simulations. Our framework will enable robust constraints on the tidal evolution of subhalos with future observations. This work presents the first direct comparison between cosmological models and observations of the high-redshift satellite population in this low-mass regime. These results showcase JWST's emerging power to test structure formation in the first half of the Universe in a new domain and to constrain the physical processes driving the evolution of low-mass galaxies across cosmic time.         |\n",
       "|<p style=\"color:green\"> **ERROR** </p>| <p style=\"color:green\">affiliation error: mpia.affiliation_verifications: 'Heidelberg' keyword not found.</p> |"
      ],
      "text/plain": [
       "<IPython.core.display.Markdown object>"
      ]
     },
     "metadata": {},
     "output_type": "display_data"
    },
    {
     "data": {
      "text/markdown": [
       "\n",
       "|||\n",
       "|---:|:---|\n",
       "| [![arXiv](https://img.shields.io/badge/arXiv-2507.13811-b31b1b.svg)](https://arxiv.org/abs/2507.13811) | **Testing the cosmic distance duality relation with baryon acoustic oscillations and supernovae data**  |\n",
       "|| T.-N. Li, et al. -- incl., <mark>X. Zhang</mark> |\n",
       "|*Appeared on*| *2025-07-21*|\n",
       "|*Comments*| *9 pages, 4 figures*|\n",
       "|**Abstract**|            One of the most fundamental relationships in modern cosmology is the cosmic distance duality relation (CDDR), which describes the relationship between the angular diameter distance ($D_{\\rm A}$) and the luminosity distance ($D_{\\rm L}$), and is expressed as: $\\eta(z)=D_{\\rm L}(z)(1+z)^{-2}/D_{\\rm A}(z)=1$. In this work, we conduct a comprehensive test of the CDDR by combining baryon acoustic oscillation (BAO) data from the SDSS and DESI surveys with type Ia supernova (SN) data from PantheonPlus and DESY5. We utilize an artificial neural network approach to match the SN and BAO data at the same redshift. To explore potential violations of the CDDR, we consider three different parameterizations: (i) $\\eta(z)=1+\\eta_0z$; (ii) $\\eta(z)=1+\\eta_0z/(1+z)$; (iii) $\\eta(z)=1+\\eta_0\\ln(1+z)$. Our results indicate that the calibration of the SN absolute magnitude $M_{\\rm B}$ plays a crucial role in testing potential deviations from the CDDR, as there exists a significant negative correlation between $\\eta_0$ and $M_{\\rm B}$. For PantheonPlus analysis, when $M_{\\rm B}$ is treated as a free parameter, no evidence of CDDR violation is found. In contrast, fixing $M_{\\rm B}$ to the $M_{\\rm B}^{\\rm D20}$ prior with $-19.230\\pm0.040$ mag leads to a deviation at approximately the $2\\sigma$ level, while fixing $M_{\\rm B}$ to the $M_{\\rm B}^{\\rm B23}$ prior with $-19.396\\pm0.016$ mag remains in agreement with the CDDR. Furthermore, overall analyses based on the SDSS+DESY5 and DESI+DESY5 data consistently show no evidence of the deviation from the CDDR.         |\n",
       "|<p style=\"color:green\"> **ERROR** </p>| <p style=\"color:green\">affiliation error: mpia.affiliation_verifications: 'Heidelberg' keyword not found.</p> |"
      ],
      "text/plain": [
       "<IPython.core.display.Markdown object>"
      ]
     },
     "metadata": {},
     "output_type": "display_data"
    },
    {
     "data": {
      "text/markdown": [
       "\n",
       "|||\n",
       "|---:|:---|\n",
       "| [![arXiv](https://img.shields.io/badge/arXiv-2507.13771-b31b1b.svg)](https://arxiv.org/abs/2507.13771) | **The Pierre Auger Observatory: Contributions to the 39th International Cosmic Rays Conference**  |\n",
       "|| P. A. Collaboration, et al. |\n",
       "|*Appeared on*| *2025-07-21*|\n",
       "|*Comments*| **|\n",
       "|**Abstract**|            The Pierre Auger Observatory, located in La Pampa Amarilla, Argentina, has been continuously acquiring data since 2004. It comprises a surface detector array covering 3,000 km$^2$ and 27 fluorescence telescopes, designed to detect extensive air showers initiated by ultra-high-energy cosmic rays. An upgrade to the Observatory was commissioned in 2024, enhancing the existing water-Cherenkov detectors with additional radio antennas, surface scintillator detectors, and a buried scintillator array. This compilation of contributions to the 39th International Cosmic Ray Conference, held in Geneva, Switzerland (July 15-24, 2025), presents recent results from the Pierre Auger Collaboration, addressing a wide range of fundamental questions in astroparticle physics. The included papers cover measurements of the energy spectrum, mass composition, and arrival directions of ultra-high-energy cosmic rays, investigations of hadronic interactions in extensive air showers, and searches for ultra-high-energy photons and neutrinos. Additional topics include radio detection techniques, solar-related phenomena, and atmospheric events such as ELVES and TGFs. The list also contains first results and performance evaluations of the upgraded detectors, AugerPrime, along with reports on outreach and social engagement initiatives conducted by the Collaboration.         |\n",
       "|<p style=\"color:red\"> **ERROR** </p>| <p style=\"color:red\">latex error invalid header</p> |"
      ],
      "text/plain": [
       "<IPython.core.display.Markdown object>"
      ]
     },
     "metadata": {},
     "output_type": "display_data"
    }
   ],
   "source": [
    "import datetime\n",
    "today = str(datetime.date.today())\n",
    "logfile = f\"_build/html/logs/log-{today}.md\"\n",
    "\n",
    "\n",
    "with open(logfile, 'w') as logs:\n",
    "    # Success\n",
    "    logs.write(f'# Arxiv on Deck 2: Logs - {today}\\n\\n')\n",
    "    logs.write(\"\"\"* Arxiv had {0:,d} new papers\\n\"\"\".format(len(new_papers)))\n",
    "    logs.write(\"\"\"    * {0:,d} with possible author matches\\n\\n\"\"\".format(len(candidates)))\n",
    "    logs.write(\"## Sucessful papers\\n\\n\")\n",
    "    display(Markdown(\"## Successful papers\"))\n",
    "    success = [k[0] for k in documents]\n",
    "    for candid in candidates:\n",
    "        if candid['identifier'].split(':')[-1] in success:\n",
    "            display(candid)\n",
    "            logs.write(candid.generate_markdown_text() + '\\n\\n')\n",
    "\n",
    "    ## failed\n",
    "    logs.write(\"## Failed papers\\n\\n\")\n",
    "    display(Markdown(\"## Failed papers\"))\n",
    "    failed = sorted(failed, key=lambda x: x[1])\n",
    "    current_reason = \"\"\n",
    "    for paper, reason in failed:\n",
    "        if 'affiliation' in reason:\n",
    "            color = 'green'\n",
    "        else:\n",
    "            color = 'red'\n",
    "        data = Markdown(\n",
    "                paper.generate_markdown_text() + \n",
    "                f'\\n|<p style=\"color:{color:s}\"> **ERROR** </p>| <p style=\"color:{color:s}\">{reason:s}</p> |'\n",
    "               )\n",
    "        if reason != current_reason:\n",
    "            logs.write(f'### {reason:s} \\n\\n')\n",
    "            current_reason = reason\n",
    "        logs.write(data.data + '\\n\\n')\n",
    "        \n",
    "        # only display here the important errors (all in logs)\n",
    "        # if color in ('red',):\n",
    "        display(data)"
   ]
  },
  {
   "cell_type": "markdown",
   "id": "472d20ee",
   "metadata": {
    "papermill": {
     "duration": 0.005422,
     "end_time": "2025-07-21T04:37:24.854859",
     "exception": false,
     "start_time": "2025-07-21T04:37:24.849437",
     "status": "completed"
    },
    "tags": []
   },
   "source": [
    "## Export documents\n",
    "\n",
    "We now write the .md files and export relevant images"
   ]
  },
  {
   "cell_type": "code",
   "execution_count": 7,
   "id": "d426aed9",
   "metadata": {
    "execution": {
     "iopub.execute_input": "2025-07-21T04:37:24.865698Z",
     "iopub.status.busy": "2025-07-21T04:37:24.865434Z",
     "iopub.status.idle": "2025-07-21T04:37:24.872963Z",
     "shell.execute_reply": "2025-07-21T04:37:24.872390Z"
    },
    "papermill": {
     "duration": 0.014244,
     "end_time": "2025-07-21T04:37:24.874015",
     "exception": false,
     "start_time": "2025-07-21T04:37:24.859771",
     "status": "completed"
    },
    "tags": []
   },
   "outputs": [],
   "source": [
    "def export_markdown_summary(md: str, md_fname:str, directory: str):\n",
    "    \"\"\"Export MD document and associated relevant images\"\"\"\n",
    "    import os\n",
    "    import shutil\n",
    "    import re\n",
    "\n",
    "    if (os.path.exists(directory) and not os.path.isdir(directory)):\n",
    "        raise RuntimeError(f\"a non-directory file exists with name {directory:s}\")\n",
    "\n",
    "    if (not os.path.exists(directory)):\n",
    "        print(f\"creating directory {directory:s}\")\n",
    "        os.mkdir(directory)\n",
    "\n",
    "    fig_fnames = (re.compile(r'\\[Fig.*\\]\\((.*)\\)').findall(md) + \n",
    "                  re.compile(r'\\<img src=\"([^>\\s]*)\"[^>]*/>').findall(md))\n",
    "    print(\"found figures\", fig_fnames)\n",
    "    for fname in fig_fnames:\n",
    "        if 'http' in fname:\n",
    "            # No need to copy online figures\n",
    "            continue\n",
    "        if not os.path.exists(fname):\n",
    "            print(\"file not found\", fname)\n",
    "            continue\n",
    "        print(\"copying \", fname, \"to\", directory)\n",
    "        destdir = os.path.join(directory, os.path.dirname(fname))\n",
    "        destfname = os.path.join(destdir, os.path.basename(fname))\n",
    "        try:\n",
    "            os.makedirs(destdir)\n",
    "        except FileExistsError:\n",
    "            pass\n",
    "        shutil.copy(fname, destfname)\n",
    "    with open(os.path.join(directory, md_fname), 'w') as fout:\n",
    "        fout.write(md)\n",
    "    print(\"exported in \", os.path.join(directory, md_fname))\n",
    "    [print(\"    + \" + os.path.join(directory,fk)) for fk in fig_fnames]"
   ]
  },
  {
   "cell_type": "code",
   "execution_count": 8,
   "id": "014d04a4",
   "metadata": {
    "execution": {
     "iopub.execute_input": "2025-07-21T04:37:24.885183Z",
     "iopub.status.busy": "2025-07-21T04:37:24.884647Z",
     "iopub.status.idle": "2025-07-21T04:37:24.892278Z",
     "shell.execute_reply": "2025-07-21T04:37:24.891514Z"
    },
    "papermill": {
     "duration": 0.014332,
     "end_time": "2025-07-21T04:37:24.893364",
     "exception": false,
     "start_time": "2025-07-21T04:37:24.879032",
     "status": "completed"
    },
    "tags": []
   },
   "outputs": [
    {
     "name": "stdout",
     "output_type": "stream",
     "text": [
      "found figures ['', '', '', '', '', '', '', '', '', '', '']\n",
      "file not found \n",
      "file not found \n",
      "file not found \n",
      "file not found \n",
      "file not found \n",
      "file not found \n",
      "file not found \n",
      "file not found \n",
      "file not found \n",
      "file not found \n",
      "file not found \n",
      "exported in  _build/html/2507.13439.md\n",
      "    + _build/html/\n",
      "    + _build/html/\n",
      "    + _build/html/\n",
      "    + _build/html/\n",
      "    + _build/html/\n",
      "    + _build/html/\n",
      "    + _build/html/\n",
      "    + _build/html/\n",
      "    + _build/html/\n",
      "    + _build/html/\n",
      "    + _build/html/\n",
      "found figures ['tmp_2507.13921/./XUE10_chi2maps-cropped.png', 'tmp_2507.13921/./XUE10_CO2models-cropped.png', 'tmp_2507.13921/./XUE10_H2O_models-cropped.png']\n",
      "copying  tmp_2507.13921/./XUE10_chi2maps-cropped.png to _build/html/\n",
      "copying  tmp_2507.13921/./XUE10_CO2models-cropped.png to _build/html/\n",
      "copying  tmp_2507.13921/./XUE10_H2O_models-cropped.png to _build/html/\n",
      "exported in  _build/html/2507.13921.md\n",
      "    + _build/html/tmp_2507.13921/./XUE10_chi2maps-cropped.png\n",
      "    + _build/html/tmp_2507.13921/./XUE10_CO2models-cropped.png\n",
      "    + _build/html/tmp_2507.13921/./XUE10_H2O_models-cropped.png\n"
     ]
    }
   ],
   "source": [
    "for paper_id, md in documents:\n",
    "    export_markdown_summary(md, f\"{paper_id:s}.md\", '_build/html/')"
   ]
  },
  {
   "cell_type": "markdown",
   "id": "f087a0a7",
   "metadata": {
    "papermill": {
     "duration": 0.005641,
     "end_time": "2025-07-21T04:37:24.904863",
     "exception": false,
     "start_time": "2025-07-21T04:37:24.899222",
     "status": "completed"
    },
    "tags": []
   },
   "source": [
    "## Display the papers\n",
    "\n",
    "Not necessary but allows for a quick check."
   ]
  },
  {
   "cell_type": "code",
   "execution_count": 9,
   "id": "fd25f625",
   "metadata": {
    "execution": {
     "iopub.execute_input": "2025-07-21T04:37:24.917784Z",
     "iopub.status.busy": "2025-07-21T04:37:24.917248Z",
     "iopub.status.idle": "2025-07-21T04:37:24.923572Z",
     "shell.execute_reply": "2025-07-21T04:37:24.923017Z"
    },
    "papermill": {
     "duration": 0.014315,
     "end_time": "2025-07-21T04:37:24.924774",
     "exception": false,
     "start_time": "2025-07-21T04:37:24.910459",
     "status": "completed"
    },
    "scrolled": false,
    "tags": []
   },
   "outputs": [
    {
     "data": {
      "text/markdown": [
       "<div class=\"macros\" style=\"visibility:hidden;\">\n",
       "$\\newcommand{\\ensuremath}{}$\n",
       "$\\newcommand{\\xspace}{}$\n",
       "$\\newcommand{\\object}[1]{\\texttt{#1}}$\n",
       "$\\newcommand{\\farcs}{{.}''}$\n",
       "$\\newcommand{\\farcm}{{.}'}$\n",
       "$\\newcommand{\\arcsec}{''}$\n",
       "$\\newcommand{\\arcmin}{'}$\n",
       "$\\newcommand{\\ion}[2]{#1#2}$\n",
       "$\\newcommand{\\textsc}[1]{\\textrm{#1}}$\n",
       "$\\newcommand{\\hl}[1]{\\textrm{#1}}$\n",
       "$\\newcommand{\\footnote}[1]{}$\n",
       "$\\newcommand{\\orcit}[1]{\\protect\\href{https://orcid.org/#1}{\\protect\\includegraphics[width=8pt]{figs/orcid.png}}}$\n",
       "$\\newcommand$\n",
       "$\\newcommand{\\HD}{HD 86226 c\\xspace}$\n",
       "$\\newcommand{\\U}{\\mathrm}$\n",
       "$\\newcommand{\\tr}{\\textcolor{red}}$\n",
       "$\\newcommand{\\tg}{\\textcolor{green}}$\n",
       "$\\newcommand$\n",
       "$\\newcommand{\\hii}{\\hbox{{\\rm H {\\scriptsize II}}}~}$</div>\n",
       "\n",
       "\n",
       "\n",
       "<div id=\"title\">\n",
       "\n",
       "# The SPACE Program I: The featureless spectrum of $\\HD$ challenges sub-Neptune atmosphere trends\n",
       "\n",
       "</div>\n",
       "<div id=\"comments\">\n",
       "\n",
       "[![arXiv](https://img.shields.io/badge/arXiv-2507.13439-b31b1b.svg)](https://arxiv.org/abs/2507.13439)<mark>Appeared on: 2025-07-21</mark> -  _Accepted for publication in Astronomy & Astrophysics_\n",
       "\n",
       "</div>\n",
       "<div id=\"authors\">\n",
       "\n",
       "<mark>K. A. Kahle</mark>, et al. -- incl., <mark>L. Kreidberg</mark>, <mark>P. Mollière</mark>, <mark>L. Acuña</mark>, <mark>C. Gapp</mark>\n",
       "\n",
       "</div>\n",
       "<div id=\"abstract\">\n",
       "\n",
       "**Abstract:** Sub-Neptune exoplanets are the most abundant type of planet known today. As they do not have a Solar System counterpart, many open questions exist about their composition and formation.    Previous spectroscopic studies rule out aerosol-free hydrogen-helium-dominated atmospheres for many characterized sub-Neptunes but are inconclusive about their exact atmospheric compositions. Here we characterize the hot (T $_\\mathrm{eq}$ =1311 K) sub-Neptune HD 86226 c (R=2.2 $ \\si{\\rearth}$ , M= $\\SI{7.25}{\\mearth}$ ), which orbits its G-type host star on a 4 day orbit. The planet is located in a special part of the sub-Neptune parameter space:    its high equilibrium temperature prohibits methane-based haze formation, increasing the chances for a clear atmosphere on this planet.    We use HST data taken with WFC3 and STIS from the Sub-neptune Planetary Atmosphere Characterization Experiment (SPACE) Program to perform near-infrared ( $1.1$ -- $1.7$ $\\si{\\micro\\meter}$ ) transmission spectroscopy and ultraviolet characterization of the host star.    We report a featureless transmission spectrum that is consistent within $0.4 \\sigma$ with a constant transit depth of $418\\pm14$ ppm. The amplitude of this spectrum is only 0.01 scale heights for a H/He-dominated atmosphere, excluding a cloud-free solar-metallicity atmosphere on HD 86226 c with a confidence of $6.5 \\sigma$ .    Based on an atmospheric retrieval analysis and forward models of cloud and haze formation, we find that the featureless spectrum could be due to a metal enrichment $[\\mathrm{M}/\\mathrm{H}]>2.3$ ( $3 \\sigma$ confidence lower limit) of a cloudless atmosphere, or alternatively silicate ($MgSiO_3$ ), iron (Fe), or manganese sulfide (MnS) clouds. For these species, we perform a detailed investigation of cloud formation in high metallicity, high-temperature atmospheres. Our results highlight that HD 86226 c does not follow the aerosol trend of sub-Neptunes found by previous studies. Follow-up observations with the James Webb Space Telescope could determine whether this planet aligns with the recent detections of metal-enriched atmospheres or if it harbors a cloud species otherwise atypical for sub-Neptunes.\n",
       "\n",
       "</div>\n",
       "\n",
       "<div id=\"div_fig1\">\n",
       "\n",
       "<img src=\"\" alt=\"Fig12.1\" width=\"16%\"/><img src=\"\" alt=\"Fig12.2\" width=\"16%\"/><img src=\"\" alt=\"Fig12.3\" width=\"16%\"/><img src=\"\" alt=\"Fig12.4\" width=\"16%\"/><img src=\"\" alt=\"Fig12.5\" width=\"16%\"/><img src=\"\" alt=\"Fig12.6\" width=\"16%\"/>\n",
       "\n",
       "**Figure 12. -**  Comparison between different grid models and the goodness of fit for the MnS (top row), $MgSiO_3$(middle row), and Fe (bottom row) clouds calculated at the planetary radius set to 2.313 $\\si{\\rearth}$. For each species, the left panel shows our observations with uncertainties compared against some selected lowest reduced chi-squared ($\\chi^2_\\nu$) models, with the corresponding $\\chi^2_\\nu$ values in the bottom legend. The parameter values for clear, no-cloud models are given in the left legend, and for cloudy models, they are given in the right legend. The flat model is drawn as a dotted line at a transit depth of 418 ppm. The tables in the middle and right panels display the models' $\\chi^2_\\nu$ values on a grid of cloud droplet radius $r_g$, droplet volume mixing ratio $q^*$, and metallicity [M/H]. The table titles list fixed parameters. The color bar extent is set between 1 and 2 to highlight only the models that best fit the data.  (*fig:JB_MnS_MgSiO3_Fe*)\n",
       "\n",
       "</div>\n",
       "<div id=\"div_fig2\">\n",
       "\n",
       "<img src=\"\" alt=\"Fig1.1\" width=\"50%\"/><img src=\"\" alt=\"Fig1.2\" width=\"50%\"/>\n",
       "\n",
       "**Figure 1. -** SPACE targetsSub-Neptune targets of the SPACE program. $\\HD$ is shown with a green square marker, and the other SPACE targets are shown in purple. Top: Temperature-radius plane. Gray circles show the known population of planets with radii between $\\SI{1.8}{\\rearth}$ and $\\SI{4}{\\rearth}$ based on the entries of the NASA Exoplanet Archive$\\footnote$mark in May 2024. Black crosses mark JWST Cycle 1-4 targets, except for the SPACE targets TOI-431d and $\\HD$, which will be observed in Cycle 4. Bottom: Mass-radius plane. Color curves show models from [Zeng, Jacobsen and Sasselov (2019)]() for various planetary compositions and temperatures. (*fig:intro:SPACE*)\n",
       "\n",
       "</div>\n",
       "<div id=\"div_fig3\">\n",
       "\n",
       "<img src=\"\" alt=\"Fig11.1\" width=\"33%\"/><img src=\"\" alt=\"Fig11.2\" width=\"33%\"/><img src=\"\" alt=\"Fig11.3\" width=\"33%\"/>\n",
       "\n",
       "**Figure 11. -** Cloud scattering and absorption coefficients of MnS, $MgSiO_3$, and Fe condensates. All species are featureless on the narrow wavelength range of our observations, 1.1 -- 1.7 $\\si{\\micro\\meter}$(marked with blue vertical lines), for the expected sizes of the cloud droplets of 0.01 -- 100 $\\si{\\micro\\meter}$. As shown, this is not the case for MnS and $MgSiO_3$ clouds in the range of 0.2 -- 15 $\\si{\\micro\\meter}$, where their effect on the spectra should be distinguishable, providing high-resolution observations. Note that values are plotted in log-log space to highlight the narrow wavelength range of our observations. (*fig:JB_Mieff_coeffs*)\n",
       "\n",
       "</div><div id=\"qrcode\"><img src=https://api.qrserver.com/v1/create-qr-code/?size=100x100&data=\"https://arxiv.org/abs/2507.13439\"></div>"
      ],
      "text/plain": [
       "<IPython.core.display.Markdown object>"
      ]
     },
     "metadata": {},
     "output_type": "display_data"
    },
    {
     "data": {
      "text/markdown": [
       "<div class=\"macros\" style=\"visibility:hidden;\">\n",
       "$\\newcommand{\\ensuremath}{}$\n",
       "$\\newcommand{\\xspace}{}$\n",
       "$\\newcommand{\\object}[1]{\\texttt{#1}}$\n",
       "$\\newcommand{\\farcs}{{.}''}$\n",
       "$\\newcommand{\\farcm}{{.}'}$\n",
       "$\\newcommand{\\arcsec}{''}$\n",
       "$\\newcommand{\\arcmin}{'}$\n",
       "$\\newcommand{\\ion}[2]{#1#2}$\n",
       "$\\newcommand{\\textsc}[1]{\\textrm{#1}}$\n",
       "$\\newcommand{\\hl}[1]{\\textrm{#1}}$\n",
       "$\\newcommand{\\footnote}[1]{}$\n",
       "$\\newcommand{\\vdag}{(v)^\\dagger}$\n",
       "$\\newcommand$\n",
       "$\\newcommand$</div>\n",
       "\n",
       "\n",
       "\n",
       "<div id=\"title\">\n",
       "\n",
       "# XUE: The $CO_2$-rich terrestrial planet-forming region\\ of an externally irradiated Herbig disk\n",
       "\n",
       "</div>\n",
       "<div id=\"comments\">\n",
       "\n",
       "[![arXiv](https://img.shields.io/badge/arXiv-2507.13921-b31b1b.svg)](https://arxiv.org/abs/2507.13921)<mark>Appeared on: 2025-07-21</mark> -  _20 pages, 13 figures, 4 tables_\n",
       "\n",
       "</div>\n",
       "<div id=\"authors\">\n",
       "\n",
       "J. Frediani, et al. -- incl., <mark>A. Winter</mark>, <mark>T. Henning</mark>, <mark>G. Perotti</mark>\n",
       "\n",
       "</div>\n",
       "<div id=\"abstract\">\n",
       "\n",
       "**Abstract:**            We investigate the James Webb Space Telescope (JWST) MIRI MRS gas molecular content of an externally irradiated Herbig disk, the F-type XUE 10 source, in the context of the eXtreme UV Environments (XUE) program. XUE 10 belongs to the massive star cluster NGC 6357 (1.69 kpc), where it is exposed to an external far-ultraviolet (FUV) radiation $\\approx$ 10$^3$ times stronger than in the Solar neighborhood. We modeled the molecular features in the mid-infrared spectrum with Local Thermodynamic Equilibrium (LTE) 0D slab models. We derived basic parameters of the stellar host from a VLT FORS2 optical spectrum using PHOENIX stellar templates. We detect bright CO2 gas with the first simultaneous detection (> 5$\\sigma$) of four isotopologues (12CO2, 13CO2, 16O12C18O, 16O12C17O) in a protoplanetary disk. We also detect faint CO emission (2$\\sigma$) and the HI Pf$\\alpha$ line (8$\\sigma$). We also place strict upper limits on the water content, finding a total column density $\\lesssim$ 10$^{18}$ cm$^{-2}$. The CO2 species trace low gas temperatures (300-370 K) with a range of column densities of 7.4 $\\times$ 10$^{17}$ cm$^{-2}$ (16O12C17O)-1.3 $\\times$ 10$^{20}$ cm$^{-2}$ (12CO2) in an equivalent emitting radius of 1.15 au. The emission of 13CO2 is likely affected by line optical depth effects. 16O12C18O and 16O12C17O abundances may be isotopically anomalous compared to the 16O/18O and 16O/17O ratios measured in the interstellar medium and the Solar System. We propose that the mid-infrared spectrum of XUE 10 is explained by H2O removal either via advection or strong photo-dissociation by stellar UV irradiation, and enhanced local CO2 gas-phase production. Outer disk truncation supports the observed CO2-H2O dichotomy. A CO2 vapor enrichment in 18O and 17O can be explained by means of external UV irradiation and early on (10$^{4-5}$ yr) delivery of isotopically anomalous water ice to the inner disk.         \n",
       "\n",
       "</div>\n",
       "\n",
       "<div id=\"div_fig1\">\n",
       "\n",
       "<img src=\"tmp_2507.13921/./XUE10_chi2maps-cropped.png\" alt=\"Fig13\" width=\"100%\"/>\n",
       "\n",
       "**Figure 13. -** Reduced chi-square $N_{\\rm tot}$--$T_{\\rm gas}$ maps resulting from the fitting of 0D LTE gas slab models to the MIRI MRS spectrum for various molecular species at increasing wavelength.\n",
       "    The fit of the carbon dioxide isotopologues, $^{13}$$CO_2$, $^{16}$O$^{12}$C$^{18}$O, and $^{16}$O$^{12}$C$^{17}$O with fixed/free emitting radius are labeled in figure. In colorbar are the $\\chi^{2}_{red}/\\chi^{2}$ values, with 1.0 corresponding to the best-fit model. The white contours show the range of fitted emitting radii in au, while the red contours show the 1$\\sigma$, 2$\\sigma$, and 3$\\sigma$ confidence intervals. The location of the best-fit models in the parameter space is indicated by a black cross marker. (*fig:chisquaremaps*)\n",
       "\n",
       "</div>\n",
       "<div id=\"div_fig2\">\n",
       "\n",
       "<img src=\"tmp_2507.13921/./XUE10_CO2models-cropped.png\" alt=\"Fig5\" width=\"100%\"/>\n",
       "\n",
       "**Figure 5. -** Continuum-subtracted MIRI spectrum of XUE 10 (black) with overlaid best-fit slab models of the identified carbon dioxide isotopologues, $^{12}$$CO_2$(red), $^{13}$$CO_2$(orange), $^{16}$O$^{12}$C$^{18}$O (green), $^{16}$O$^{12}$C$^{17}$O (purple) between 12.93 $\\mu$m and 17.6 $\\mu$m (from top to bottom panel). The vibrational quantum numbers $(\\upsilon_1 \\upsilon_2 \\upsilon_3)$ corresponding to the fundamental $\\upsilon_2$$\\mathit{Q}$-branch and its associated hot bands are labeled for each species. The inset in the bottom panel shows the fiducial LTE slab model of $H_2$O that matches the observed line luminosity between 17.08--17.4 $\\mu$m. The colored horizontal bars indicate the fitted wavelength ranges for $CO_2$ listed in Table \\ref{tab:fitting_ranges}. The spectral uncertainty is indicated in each panel. (*fig:13-18mu_slabmodels*)\n",
       "\n",
       "</div>\n",
       "<div id=\"div_fig3\">\n",
       "\n",
       "<img src=\"tmp_2507.13921/./XUE10_H2O_models-cropped.png\" alt=\"Fig8\" width=\"100%\"/>\n",
       "\n",
       "**Figure 8. -** Continuum-subtracted MIRI spectrum of XUE 10 (black) and fiducial LTE slab models of $H_2$O between 6.4 $\\mu$m and 7.6 $\\mu$m (top panel), and between 18 $\\mu$m and 25 $\\mu$m (middle and bottom panel). The observed spectrum is vertically offset for visual clarity. The vertical dotted line marks the detected H$\\alpha$ line of the Pfund series. The colored horizontal bars indicate where $H_2$O lines are tentatively identified. The spectral uncertainty is indicated in each panel. (*fig:1825mu_slabmodels*)\n",
       "\n",
       "</div><div id=\"qrcode\"><img src=https://api.qrserver.com/v1/create-qr-code/?size=100x100&data=\"https://arxiv.org/abs/2507.13921\"></div>"
      ],
      "text/plain": [
       "<IPython.core.display.Markdown object>"
      ]
     },
     "metadata": {},
     "output_type": "display_data"
    }
   ],
   "source": [
    "[display(Markdown(k[1])) for k in documents];"
   ]
  },
  {
   "cell_type": "markdown",
   "id": "873873a4",
   "metadata": {
    "papermill": {
     "duration": 0.006163,
     "end_time": "2025-07-21T04:37:24.937781",
     "exception": false,
     "start_time": "2025-07-21T04:37:24.931618",
     "status": "completed"
    },
    "tags": []
   },
   "source": [
    "# Create HTML index"
   ]
  },
  {
   "cell_type": "code",
   "execution_count": 10,
   "id": "cf665672",
   "metadata": {
    "execution": {
     "iopub.execute_input": "2025-07-21T04:37:24.951923Z",
     "iopub.status.busy": "2025-07-21T04:37:24.951251Z",
     "iopub.status.idle": "2025-07-21T04:37:24.959273Z",
     "shell.execute_reply": "2025-07-21T04:37:24.958735Z"
    },
    "papermill": {
     "duration": 0.01672,
     "end_time": "2025-07-21T04:37:24.960336",
     "exception": false,
     "start_time": "2025-07-21T04:37:24.943616",
     "status": "completed"
    },
    "tags": []
   },
   "outputs": [
    {
     "name": "stdout",
     "output_type": "stream",
     "text": [
      "145  publications files modified in the last 7 days.\n"
     ]
    }
   ],
   "source": [
    "from datetime import datetime, timedelta, timezone\n",
    "from glob import glob\n",
    "import os\n",
    "\n",
    "files = glob('_build/html/*.md')\n",
    "days = 7\n",
    "now = datetime.today()\n",
    "res = []\n",
    "for fk in files:\n",
    "    stat_result = os.stat(fk).st_ctime\n",
    "    modified = datetime.fromtimestamp(stat_result, tz=timezone.utc).replace(tzinfo=None)\n",
    "    delta = now.today() - modified\n",
    "    if delta <= timedelta(days=days):\n",
    "        res.append((delta.seconds, fk))\n",
    "res = [k[1] for k in reversed(sorted(res, key=lambda x:x[1]))]\n",
    "npub = len(res)\n",
    "print(len(res), f\" publications files modified in the last {days:d} days.\")\n",
    "# [ print('\\t', k) for k in res ];"
   ]
  },
  {
   "cell_type": "code",
   "execution_count": 11,
   "id": "015de740",
   "metadata": {
    "execution": {
     "iopub.execute_input": "2025-07-21T04:37:24.972157Z",
     "iopub.status.busy": "2025-07-21T04:37:24.971952Z",
     "iopub.status.idle": "2025-07-21T04:37:24.985412Z",
     "shell.execute_reply": "2025-07-21T04:37:24.984719Z"
    },
    "papermill": {
     "duration": 0.020728,
     "end_time": "2025-07-21T04:37:24.986559",
     "exception": false,
     "start_time": "2025-07-21T04:37:24.965831",
     "status": "completed"
    },
    "tags": []
   },
   "outputs": [
    {
     "name": "stdout",
     "output_type": "stream",
     "text": [
      "18  publications in the last 7 days.\n"
     ]
    }
   ],
   "source": [
    "import datetime\n",
    "from glob import glob\n",
    "\n",
    "def get_last_n_days(lst, days=1):\n",
    "    \"\"\" Get the documents from the last n days \"\"\"\n",
    "    sorted_lst = sorted(lst, key=lambda x: x[1], reverse=True)\n",
    "    for fname, date in sorted_lst:\n",
    "        if date >= str(datetime.date.today() - datetime.timedelta(days=days)):\n",
    "            yield fname\n",
    "\n",
    "def extract_appearance_dates(lst_file):\n",
    "    dates = []\n",
    "\n",
    "    def get_date(line):\n",
    "        return line\\\n",
    "            .split('Appeared on:')[-1]\\\n",
    "            .split('</mark>')[0].strip()\n",
    "\n",
    "    for fname in lst:\n",
    "        with open(fname, 'r') as f:\n",
    "            found_date = False\n",
    "            for line in f:\n",
    "                if not found_date:\n",
    "                    if \"Appeared on\" in line:\n",
    "                        found_date = True\n",
    "                        dates.append((fname, get_date(line)))\n",
    "                else:\n",
    "                    break\n",
    "    return dates\n",
    "\n",
    "from glob import glob\n",
    "lst = glob('_build/html/*md')\n",
    "days = 7\n",
    "dates = extract_appearance_dates(lst)\n",
    "res = list(get_last_n_days(dates, days))\n",
    "npub = len(res)\n",
    "print(len(res), f\" publications in the last {days:d} days.\")"
   ]
  },
  {
   "cell_type": "code",
   "execution_count": 12,
   "id": "52ca0208",
   "metadata": {
    "execution": {
     "iopub.execute_input": "2025-07-21T04:37:24.998881Z",
     "iopub.status.busy": "2025-07-21T04:37:24.998358Z",
     "iopub.status.idle": "2025-07-21T04:37:25.003351Z",
     "shell.execute_reply": "2025-07-21T04:37:25.002813Z"
    },
    "papermill": {
     "duration": 0.012262,
     "end_time": "2025-07-21T04:37:25.004402",
     "exception": false,
     "start_time": "2025-07-21T04:37:24.992140",
     "status": "completed"
    },
    "scrolled": false,
    "tags": []
   },
   "outputs": [],
   "source": [
    "def create_carousel(npub=4):\n",
    "    \"\"\" Generate the HTML code for a carousel with `npub` slides \"\"\"\n",
    "    carousel = [\"\"\"  <div class=\"carousel\" \"\"\",\n",
    "                \"\"\"       data-flickity='{ \"autoPlay\": 10000, \"adaptiveHeight\": true, \"resize\": true, \"wrapAround\": true, \"pauseAutoPlayOnHover\": true, \"groupCells\": 1 }' id=\"asyncTypeset\">\"\"\"\n",
    "                ]\n",
    "    \n",
    "    item_str = \"\"\"    <div class=\"carousel-cell\"> <div id=\"slide{k}\" class=\"md_view\">Content {k}</div> </div>\"\"\"\n",
    "    for k in range(1, npub + 1):\n",
    "        carousel.append(item_str.format(k=k))\n",
    "    carousel.append(\"  </div>\")\n",
    "    return '\\n'.join(carousel)\n",
    "\n",
    "def create_grid(npub=4):\n",
    "    \"\"\" Generate the HTML code for a flat grid with `npub` slides \"\"\"\n",
    "    grid = [\"\"\"  <div class=\"grid\"> \"\"\",\n",
    "                ]\n",
    "    \n",
    "    item_str = \"\"\"    <div class=\"grid-item\"> <div id=\"slide{k}\" class=\"md_view\">Content {k}</div> </div>\"\"\"\n",
    "    for k in range(1, npub + 1):\n",
    "        grid.append(item_str.format(k=k))\n",
    "    grid.append(\"  </div>\")\n",
    "    return '\\n'.join(grid)"
   ]
  },
  {
   "cell_type": "code",
   "execution_count": 13,
   "id": "a6eac5b6",
   "metadata": {
    "execution": {
     "iopub.execute_input": "2025-07-21T04:37:25.016492Z",
     "iopub.status.busy": "2025-07-21T04:37:25.016103Z",
     "iopub.status.idle": "2025-07-21T04:37:25.021311Z",
     "shell.execute_reply": "2025-07-21T04:37:25.020782Z"
    },
    "papermill": {
     "duration": 0.012581,
     "end_time": "2025-07-21T04:37:25.022533",
     "exception": false,
     "start_time": "2025-07-21T04:37:25.009952",
     "status": "completed"
    },
    "scrolled": false,
    "tags": []
   },
   "outputs": [],
   "source": [
    "carousel = create_carousel(npub)\n",
    "docs = ', '.join(['\"{0:s}\"'.format(k.split('/')[-1]) for k in res])\n",
    "slides = ', '.join([f'\"slide{k}\"' for k in range(1, npub + 1)])\n",
    "\n",
    "with open(\"daily_template.html\", \"r\") as tpl:\n",
    "    page = tpl.read()\n",
    "    page = page.replace(\"{%-- carousel:s --%}\", carousel)\\\n",
    "               .replace(\"{%-- suptitle:s --%}\",  \"7-day archives\" )\\\n",
    "               .replace(\"{%-- docs:s --%}\", docs)\\\n",
    "               .replace(\"{%-- slides:s --%}\", slides)\n",
    "    \n",
    "with open(\"_build/html/index_7days.html\", 'w') as fout:\n",
    "    fout.write(page)"
   ]
  },
  {
   "cell_type": "code",
   "execution_count": 14,
   "id": "adc1a1ec",
   "metadata": {
    "execution": {
     "iopub.execute_input": "2025-07-21T04:37:25.034688Z",
     "iopub.status.busy": "2025-07-21T04:37:25.034291Z",
     "iopub.status.idle": "2025-07-21T04:37:25.040725Z",
     "shell.execute_reply": "2025-07-21T04:37:25.040182Z"
    },
    "papermill": {
     "duration": 0.013734,
     "end_time": "2025-07-21T04:37:25.041799",
     "exception": false,
     "start_time": "2025-07-21T04:37:25.028065",
     "status": "completed"
    },
    "tags": []
   },
   "outputs": [
    {
     "name": "stdout",
     "output_type": "stream",
     "text": [
      "2  publications in the last day.\n"
     ]
    }
   ],
   "source": [
    "# redo for today\n",
    "days = 1\n",
    "res = list(get_last_n_days(dates, days))\n",
    "npub = len(res)\n",
    "print(len(res), f\" publications in the last day.\")\n",
    "\n",
    "carousel = create_carousel(npub)\n",
    "docs = ', '.join(['\"{0:s}\"'.format(k.split('/')[-1]) for k in res])\n",
    "slides = ', '.join([f'\"slide{k}\"' for k in range(1, npub + 1)])\n",
    "\n",
    "with open(\"daily_template.html\", \"r\") as tpl:\n",
    "    page = tpl.read()\n",
    "    page = page.replace(\"{%-- carousel:s --%}\", carousel)\\\n",
    "               .replace(\"{%-- suptitle:s --%}\",  \"Daily\" )\\\n",
    "               .replace(\"{%-- docs:s --%}\", docs)\\\n",
    "               .replace(\"{%-- slides:s --%}\", slides)\n",
    "    \n",
    "# print(carousel, docs, slides)\n",
    "# print(page)\n",
    "with open(\"_build/html/index_daily.html\", 'w') as fout:\n",
    "    fout.write(page)"
   ]
  },
  {
   "cell_type": "code",
   "execution_count": 15,
   "id": "00eece82",
   "metadata": {
    "execution": {
     "iopub.execute_input": "2025-07-21T04:37:25.054631Z",
     "iopub.status.busy": "2025-07-21T04:37:25.054172Z",
     "iopub.status.idle": "2025-07-21T04:37:25.060857Z",
     "shell.execute_reply": "2025-07-21T04:37:25.060283Z"
    },
    "papermill": {
     "duration": 0.014415,
     "end_time": "2025-07-21T04:37:25.061945",
     "exception": false,
     "start_time": "2025-07-21T04:37:25.047530",
     "status": "completed"
    },
    "scrolled": false,
    "tags": []
   },
   "outputs": [
    {
     "name": "stdout",
     "output_type": "stream",
     "text": [
      "6  6 publications selected.\n"
     ]
    }
   ],
   "source": [
    "# Create the flat grid of the last N papers (fixed number regardless of dates)\n",
    "from itertools import islice \n",
    "\n",
    "npub = 6\n",
    "res = [k[0] for k in (islice(reversed(sorted(dates, key=lambda x: x[1])), 6))]\n",
    "print(len(res), f\" {npub} publications selected.\")\n",
    "\n",
    "grid = create_grid(npub)\n",
    "docs = ', '.join(['\"{0:s}\"'.format(k.split('/')[-1]) for k in res])\n",
    "slides = ', '.join([f'\"slide{k}\"' for k in range(1, npub + 1)])\n",
    "\n",
    "with open(\"grid_template.html\", \"r\") as tpl:\n",
    "    page = tpl.read()\n",
    "    page = page.replace(\"{%-- grid-content:s --%}\", grid)\\\n",
    "               .replace(\"{%-- suptitle:s --%}\",  f\"Last {npub:,d} papers\" )\\\n",
    "               .replace(\"{%-- docs:s --%}\", docs)\\\n",
    "               .replace(\"{%-- slides:s --%}\", slides)\n",
    "    \n",
    "# print(grid, docs, slides)\n",
    "# print(page)\n",
    "with open(\"_build/html/index_npub_grid.html\", 'w') as fout:\n",
    "    fout.write(page)"
   ]
  }
 ],
 "metadata": {
  "kernelspec": {
   "display_name": "Python 3 (ipykernel)",
   "language": "python",
   "name": "python3"
  },
  "language_info": {
   "codemirror_mode": {
    "name": "ipython",
    "version": 3
   },
   "file_extension": ".py",
   "mimetype": "text/x-python",
   "name": "python",
   "nbconvert_exporter": "python",
   "pygments_lexer": "ipython3",
   "version": "3.9.23"
  },
  "papermill": {
   "default_parameters": {},
   "duration": 49.59525,
   "end_time": "2025-07-21T04:37:25.383943",
   "environment_variables": {},
   "exception": null,
   "input_path": "MPIA daily digest.ipynb",
   "output_path": "log.ipynb",
   "parameters": {},
   "start_time": "2025-07-21T04:36:35.788693",
   "version": "2.6.0"
  },
  "vscode": {
   "interpreter": {
    "hash": "aee8b7b246df8f9039afb4144a1f6fd8d2ca17a180786b69acc140d282b71a49"
   }
  },
  "widgets": {
   "application/vnd.jupyter.widget-state+json": {
    "state": {
     "0ed6d8d4e9914957a95d44dfff7d53f3": {
      "model_module": "@jupyter-widgets/controls",
      "model_module_version": "2.0.0",
      "model_name": "HTMLStyleModel",
      "state": {
       "_model_module": "@jupyter-widgets/controls",
       "_model_module_version": "2.0.0",
       "_model_name": "HTMLStyleModel",
       "_view_count": null,
       "_view_module": "@jupyter-widgets/base",
       "_view_module_version": "2.0.0",
       "_view_name": "StyleView",
       "background": null,
       "description_width": "",
       "font_size": null,
       "text_color": null
      }
     },
     "542aa81e7728430880456166cd79a889": {
      "model_module": "@jupyter-widgets/controls",
      "model_module_version": "2.0.0",
      "model_name": "ProgressStyleModel",
      "state": {
       "_model_module": "@jupyter-widgets/controls",
       "_model_module_version": "2.0.0",
       "_model_name": "ProgressStyleModel",
       "_view_count": null,
       "_view_module": "@jupyter-widgets/base",
       "_view_module_version": "2.0.0",
       "_view_name": "StyleView",
       "bar_color": null,
       "description_width": ""
      }
     },
     "5fdbecea49344d869b3b4881611d6f44": {
      "model_module": "@jupyter-widgets/base",
      "model_module_version": "2.0.0",
      "model_name": "LayoutModel",
      "state": {
       "_model_module": "@jupyter-widgets/base",
       "_model_module_version": "2.0.0",
       "_model_name": "LayoutModel",
       "_view_count": null,
       "_view_module": "@jupyter-widgets/base",
       "_view_module_version": "2.0.0",
       "_view_name": "LayoutView",
       "align_content": null,
       "align_items": null,
       "align_self": null,
       "border_bottom": null,
       "border_left": null,
       "border_right": null,
       "border_top": null,
       "bottom": null,
       "display": null,
       "flex": null,
       "flex_flow": null,
       "grid_area": null,
       "grid_auto_columns": null,
       "grid_auto_flow": null,
       "grid_auto_rows": null,
       "grid_column": null,
       "grid_gap": null,
       "grid_row": null,
       "grid_template_areas": null,
       "grid_template_columns": null,
       "grid_template_rows": null,
       "height": null,
       "justify_content": null,
       "justify_items": null,
       "left": null,
       "margin": null,
       "max_height": null,
       "max_width": null,
       "min_height": null,
       "min_width": null,
       "object_fit": null,
       "object_position": null,
       "order": null,
       "overflow": null,
       "padding": null,
       "right": null,
       "top": null,
       "visibility": null,
       "width": null
      }
     },
     "9062c260a32e4b17a53ebc97c0468830": {
      "model_module": "@jupyter-widgets/controls",
      "model_module_version": "2.0.0",
      "model_name": "FloatProgressModel",
      "state": {
       "_dom_classes": [],
       "_model_module": "@jupyter-widgets/controls",
       "_model_module_version": "2.0.0",
       "_model_name": "FloatProgressModel",
       "_view_count": null,
       "_view_module": "@jupyter-widgets/controls",
       "_view_module_version": "2.0.0",
       "_view_name": "ProgressView",
       "bar_style": "success",
       "description": "",
       "description_allow_html": false,
       "layout": "IPY_MODEL_e27c97b86645407e9d559c2724d3ea7e",
       "max": 6.0,
       "min": 0.0,
       "orientation": "horizontal",
       "style": "IPY_MODEL_542aa81e7728430880456166cd79a889",
       "tabbable": null,
       "tooltip": null,
       "value": 6.0
      }
     },
     "a64f593a3c9e4849b5085c67a2141162": {
      "model_module": "@jupyter-widgets/controls",
      "model_module_version": "2.0.0",
      "model_name": "HBoxModel",
      "state": {
       "_dom_classes": [],
       "_model_module": "@jupyter-widgets/controls",
       "_model_module_version": "2.0.0",
       "_model_name": "HBoxModel",
       "_view_count": null,
       "_view_module": "@jupyter-widgets/controls",
       "_view_module_version": "2.0.0",
       "_view_name": "HBoxView",
       "box_style": "",
       "children": [
        "IPY_MODEL_bc9e8c2636ce485bb2a26e7039e20915",
        "IPY_MODEL_9062c260a32e4b17a53ebc97c0468830",
        "IPY_MODEL_b10aa33d85174a629a6b1b697d93cf22"
       ],
       "layout": "IPY_MODEL_5fdbecea49344d869b3b4881611d6f44",
       "tabbable": null,
       "tooltip": null
      }
     },
     "b10aa33d85174a629a6b1b697d93cf22": {
      "model_module": "@jupyter-widgets/controls",
      "model_module_version": "2.0.0",
      "model_name": "HTMLModel",
      "state": {
       "_dom_classes": [],
       "_model_module": "@jupyter-widgets/controls",
       "_model_module_version": "2.0.0",
       "_model_name": "HTMLModel",
       "_view_count": null,
       "_view_module": "@jupyter-widgets/controls",
       "_view_module_version": "2.0.0",
       "_view_name": "HTMLView",
       "description": "",
       "description_allow_html": false,
       "layout": "IPY_MODEL_f44cb9b9a36b42b28b1987ce8a5b3b8d",
       "placeholder": "​",
       "style": "IPY_MODEL_0ed6d8d4e9914957a95d44dfff7d53f3",
       "tabbable": null,
       "tooltip": null,
       "value": " 6/6 [00:27&lt;00:00,  6.28s/it]"
      }
     },
     "b893f589fa064952a89677f8affb875d": {
      "model_module": "@jupyter-widgets/base",
      "model_module_version": "2.0.0",
      "model_name": "LayoutModel",
      "state": {
       "_model_module": "@jupyter-widgets/base",
       "_model_module_version": "2.0.0",
       "_model_name": "LayoutModel",
       "_view_count": null,
       "_view_module": "@jupyter-widgets/base",
       "_view_module_version": "2.0.0",
       "_view_name": "LayoutView",
       "align_content": null,
       "align_items": null,
       "align_self": null,
       "border_bottom": null,
       "border_left": null,
       "border_right": null,
       "border_top": null,
       "bottom": null,
       "display": null,
       "flex": null,
       "flex_flow": null,
       "grid_area": null,
       "grid_auto_columns": null,
       "grid_auto_flow": null,
       "grid_auto_rows": null,
       "grid_column": null,
       "grid_gap": null,
       "grid_row": null,
       "grid_template_areas": null,
       "grid_template_columns": null,
       "grid_template_rows": null,
       "height": null,
       "justify_content": null,
       "justify_items": null,
       "left": null,
       "margin": null,
       "max_height": null,
       "max_width": null,
       "min_height": null,
       "min_width": null,
       "object_fit": null,
       "object_position": null,
       "order": null,
       "overflow": null,
       "padding": null,
       "right": null,
       "top": null,
       "visibility": null,
       "width": null
      }
     },
     "bc9e8c2636ce485bb2a26e7039e20915": {
      "model_module": "@jupyter-widgets/controls",
      "model_module_version": "2.0.0",
      "model_name": "HTMLModel",
      "state": {
       "_dom_classes": [],
       "_model_module": "@jupyter-widgets/controls",
       "_model_module_version": "2.0.0",
       "_model_name": "HTMLModel",
       "_view_count": null,
       "_view_module": "@jupyter-widgets/controls",
       "_view_module_version": "2.0.0",
       "_view_name": "HTMLView",
       "description": "",
       "description_allow_html": false,
       "layout": "IPY_MODEL_b893f589fa064952a89677f8affb875d",
       "placeholder": "​",
       "style": "IPY_MODEL_ec67019bc39645409c659ad7b385cced",
       "tabbable": null,
       "tooltip": null,
       "value": "100%"
      }
     },
     "e27c97b86645407e9d559c2724d3ea7e": {
      "model_module": "@jupyter-widgets/base",
      "model_module_version": "2.0.0",
      "model_name": "LayoutModel",
      "state": {
       "_model_module": "@jupyter-widgets/base",
       "_model_module_version": "2.0.0",
       "_model_name": "LayoutModel",
       "_view_count": null,
       "_view_module": "@jupyter-widgets/base",
       "_view_module_version": "2.0.0",
       "_view_name": "LayoutView",
       "align_content": null,
       "align_items": null,
       "align_self": null,
       "border_bottom": null,
       "border_left": null,
       "border_right": null,
       "border_top": null,
       "bottom": null,
       "display": null,
       "flex": null,
       "flex_flow": null,
       "grid_area": null,
       "grid_auto_columns": null,
       "grid_auto_flow": null,
       "grid_auto_rows": null,
       "grid_column": null,
       "grid_gap": null,
       "grid_row": null,
       "grid_template_areas": null,
       "grid_template_columns": null,
       "grid_template_rows": null,
       "height": null,
       "justify_content": null,
       "justify_items": null,
       "left": null,
       "margin": null,
       "max_height": null,
       "max_width": null,
       "min_height": null,
       "min_width": null,
       "object_fit": null,
       "object_position": null,
       "order": null,
       "overflow": null,
       "padding": null,
       "right": null,
       "top": null,
       "visibility": null,
       "width": null
      }
     },
     "ec67019bc39645409c659ad7b385cced": {
      "model_module": "@jupyter-widgets/controls",
      "model_module_version": "2.0.0",
      "model_name": "HTMLStyleModel",
      "state": {
       "_model_module": "@jupyter-widgets/controls",
       "_model_module_version": "2.0.0",
       "_model_name": "HTMLStyleModel",
       "_view_count": null,
       "_view_module": "@jupyter-widgets/base",
       "_view_module_version": "2.0.0",
       "_view_name": "StyleView",
       "background": null,
       "description_width": "",
       "font_size": null,
       "text_color": null
      }
     },
     "f44cb9b9a36b42b28b1987ce8a5b3b8d": {
      "model_module": "@jupyter-widgets/base",
      "model_module_version": "2.0.0",
      "model_name": "LayoutModel",
      "state": {
       "_model_module": "@jupyter-widgets/base",
       "_model_module_version": "2.0.0",
       "_model_name": "LayoutModel",
       "_view_count": null,
       "_view_module": "@jupyter-widgets/base",
       "_view_module_version": "2.0.0",
       "_view_name": "LayoutView",
       "align_content": null,
       "align_items": null,
       "align_self": null,
       "border_bottom": null,
       "border_left": null,
       "border_right": null,
       "border_top": null,
       "bottom": null,
       "display": null,
       "flex": null,
       "flex_flow": null,
       "grid_area": null,
       "grid_auto_columns": null,
       "grid_auto_flow": null,
       "grid_auto_rows": null,
       "grid_column": null,
       "grid_gap": null,
       "grid_row": null,
       "grid_template_areas": null,
       "grid_template_columns": null,
       "grid_template_rows": null,
       "height": null,
       "justify_content": null,
       "justify_items": null,
       "left": null,
       "margin": null,
       "max_height": null,
       "max_width": null,
       "min_height": null,
       "min_width": null,
       "object_fit": null,
       "object_position": null,
       "order": null,
       "overflow": null,
       "padding": null,
       "right": null,
       "top": null,
       "visibility": null,
       "width": null
      }
     }
    },
    "version_major": 2,
    "version_minor": 0
   }
  }
 },
 "nbformat": 4,
 "nbformat_minor": 5
}