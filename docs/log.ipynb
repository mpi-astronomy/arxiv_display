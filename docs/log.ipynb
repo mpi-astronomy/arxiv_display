{
 "cells": [
  {
   "cell_type": "markdown",
   "id": "92bcb855",
   "metadata": {
    "papermill": {
     "duration": 0.003985,
     "end_time": "2024-12-13T04:11:39.689821",
     "exception": false,
     "start_time": "2024-12-13T04:11:39.685836",
     "status": "completed"
    },
    "tags": []
   },
   "source": [
    "# MPIA Arxiv on Deck 2\n",
    "\n",
    "Contains the steps to produce the paper extractions."
   ]
  },
  {
   "cell_type": "code",
   "execution_count": 1,
   "id": "3a0d6e11",
   "metadata": {
    "execution": {
     "iopub.execute_input": "2024-12-13T04:11:39.697276Z",
     "iopub.status.busy": "2024-12-13T04:11:39.696731Z",
     "iopub.status.idle": "2024-12-13T04:11:40.185051Z",
     "shell.execute_reply": "2024-12-13T04:11:40.184433Z"
    },
    "papermill": {
     "duration": 0.493269,
     "end_time": "2024-12-13T04:11:40.186346",
     "exception": false,
     "start_time": "2024-12-13T04:11:39.693077",
     "status": "completed"
    },
    "tags": []
   },
   "outputs": [],
   "source": [
    "# Imports\n",
    "import os\n",
    "from IPython.display import Markdown, display\n",
    "from tqdm.notebook import tqdm\n",
    "import warnings\n",
    "from PIL import Image \n",
    "import re\n",
    "\n",
    "# requires arxiv_on_deck_2\n",
    "\n",
    "from arxiv_on_deck_2.arxiv2 import (get_new_papers, \n",
    "                                    get_paper_from_identifier,\n",
    "                                    retrieve_document_source, \n",
    "                                    get_markdown_badge)\n",
    "from arxiv_on_deck_2 import (latex,\n",
    "                             latex_bib,\n",
    "                             mpia,\n",
    "                             highlight_authors_in_list)\n",
    "\n",
    "# Sometimes images are really big\n",
    "Image.MAX_IMAGE_PIXELS = 1000000000 "
   ]
  },
  {
   "cell_type": "code",
   "execution_count": 2,
   "id": "22aa9d44",
   "metadata": {
    "execution": {
     "iopub.execute_input": "2024-12-13T04:11:40.193638Z",
     "iopub.status.busy": "2024-12-13T04:11:40.193385Z",
     "iopub.status.idle": "2024-12-13T04:11:40.201159Z",
     "shell.execute_reply": "2024-12-13T04:11:40.200622Z"
    },
    "papermill": {
     "duration": 0.012479,
     "end_time": "2024-12-13T04:11:40.202135",
     "exception": false,
     "start_time": "2024-12-13T04:11:40.189656",
     "status": "completed"
    },
    "tags": []
   },
   "outputs": [],
   "source": [
    "# Some useful definitions.\n",
    "\n",
    "class AffiliationWarning(UserWarning):\n",
    "    pass\n",
    "\n",
    "class AffiliationError(RuntimeError):\n",
    "    pass\n",
    "\n",
    "def validation(source: str):\n",
    "    \"\"\"Raises error paper during parsing of source file\n",
    "    \n",
    "    Allows checks before parsing TeX code.\n",
    "    \n",
    "    Raises AffiliationWarning\n",
    "    \"\"\"\n",
    "    check = mpia.affiliation_verifications(source, verbose=True)\n",
    "    if check is not True:\n",
    "        raise AffiliationError(\"mpia.affiliation_verifications: \" + check)\n",
    "\n",
    "        \n",
    "warnings.simplefilter('always', AffiliationWarning)\n",
    "\n",
    "\n",
    "def get_markdown_qrcode(paper_id: str):\n",
    "    \"\"\" Generate a qrcode to the arxiv page using qrserver.com\n",
    "    \n",
    "    :param paper: Arxiv paper\n",
    "    :returns: markdown text\n",
    "    \"\"\"\n",
    "    url = r\"https://api.qrserver.com/v1/create-qr-code/?size=100x100&data=\"\n",
    "    txt = f\"\"\"<img src={url}\"https://arxiv.org/abs/{paper_id}\">\"\"\"\n",
    "    txt = '<div id=\"qrcode\">' + txt + '</div>'\n",
    "    return txt\n",
    "\n",
    "\n",
    "def clean_non_western_encoded_characters_commands(text: str) -> str:\n",
    "    \"\"\" Remove non-western encoded characters from a string\n",
    "    List may need to grow.\n",
    "    \n",
    "    :param text: the text to clean\n",
    "    :return: the cleaned text\n",
    "    \"\"\"\n",
    "    text = re.sub(r\"(\\\\begin{CJK}{UTF8}{gbsn})(.*?)(\\\\end{CJK})\", r\"\\2\", text)\n",
    "    return text\n",
    "\n",
    "\n",
    "def get_initials(name: str) -> str:\n",
    "    \"\"\" Get the short name, e.g., A.-B. FamName\n",
    "    :param name: full name\n",
    "    :returns: initials\n",
    "    \"\"\"\n",
    "    initials = []\n",
    "    # account for non western names often in ()\n",
    "    if '(' in name:\n",
    "        name = clean_non_western_encoded_characters_commands(name)\n",
    "        suffix = re.findall(r\"\\((.*?)\\)\", name)[0]\n",
    "        name = name.replace(f\"({suffix})\", '')\n",
    "    else:\n",
    "        suffix = ''\n",
    "    split = name.split()\n",
    "    for token in split[:-1]:\n",
    "        if '-' in token:\n",
    "            current = '-'.join([k[0] + '.' for k in token.split('-')])\n",
    "        else:\n",
    "            current = token[0] + '.'\n",
    "        initials.append(current)\n",
    "    initials.append(split[-1].strip())\n",
    "    if suffix:\n",
    "        initials.append(f\"({suffix})\")\n",
    "    return ' '.join(initials)"
   ]
  },
  {
   "cell_type": "markdown",
   "id": "14bd6310",
   "metadata": {
    "papermill": {
     "duration": 0.002981,
     "end_time": "2024-12-13T04:11:40.208158",
     "exception": false,
     "start_time": "2024-12-13T04:11:40.205177",
     "status": "completed"
    },
    "tags": []
   },
   "source": [
    "## get list of arxiv paper candidates\n",
    "\n",
    "We use the MPIA mitarbeiter list webpage from mpia.de to get author names\n",
    "We then get all new papers from Arxiv and match authors"
   ]
  },
  {
   "cell_type": "code",
   "execution_count": 3,
   "id": "7ea813a8",
   "metadata": {
    "execution": {
     "iopub.execute_input": "2024-12-13T04:11:40.214888Z",
     "iopub.status.busy": "2024-12-13T04:11:40.214650Z",
     "iopub.status.idle": "2024-12-13T04:11:58.863107Z",
     "shell.execute_reply": "2024-12-13T04:11:58.862481Z"
    },
    "papermill": {
     "duration": 18.653265,
     "end_time": "2024-12-13T04:11:58.864398",
     "exception": false,
     "start_time": "2024-12-13T04:11:40.211133",
     "status": "completed"
    },
    "tags": []
   },
   "outputs": [],
   "source": [
    "# deal with the author list and edge cases of people that cannot be consistent on their name  \n",
    "\n",
    "def filter_non_scientists(name: str) -> bool:\n",
    "    \"\"\" Loose filter on expected authorships\n",
    "\n",
    "    removing IT, administration, technical staff\n",
    "    :param name: name\n",
    "    :returns: False if name is not a scientist\n",
    "    \"\"\"\n",
    "    remove_list = ['Licht', 'Binroth', 'Witzel', 'Jordan',\n",
    "                   'Zähringer', 'Scheerer', 'Hoffmann', 'Düe',\n",
    "                   'Hellmich', 'Enkler-Scharpegge', 'Witte-Nguy',\n",
    "                   'Dehen', 'Beckmann', 'Jager', 'Jäger'\n",
    "                  ]\n",
    "\n",
    "    for k in remove_list:\n",
    "        if k in name:\n",
    "            return False\n",
    "    return True\n",
    "\n",
    "def add_author_to_list(author_list: list) -> list:\n",
    "    \"\"\" Add author to list if not already in list\n",
    "    \n",
    "    :param author: author name\n",
    "    :param author_list: list of authors\n",
    "    :returns: updated list of authors\n",
    "    \"\"\"\n",
    "    add_list = ['T. Henning']\n",
    "\n",
    "    for author in add_list:\n",
    "        if author not in author_list:\n",
    "            author_list.append(author)\n",
    "    return author_list\n",
    "\n",
    "# get list from MPIA website\n",
    "# filter for non-scientists (mpia.get_mpia_mitarbeiter_list() does some filtering)\n",
    "mpia_authors = [k[1] for k in mpia.get_mpia_mitarbeiter_list() if filter_non_scientists(k[1])]\n",
    "# add some missing author because of inconsistencies in their MPIA name and author name on papers\n",
    "mpia_authors = add_author_to_list(mpia_authors)"
   ]
  },
  {
   "cell_type": "code",
   "execution_count": 4,
   "id": "2645e73a",
   "metadata": {
    "execution": {
     "iopub.execute_input": "2024-12-13T04:11:58.872155Z",
     "iopub.status.busy": "2024-12-13T04:11:58.871692Z",
     "iopub.status.idle": "2024-12-13T04:11:59.603383Z",
     "shell.execute_reply": "2024-12-13T04:11:59.602672Z"
    },
    "papermill": {
     "duration": 0.736561,
     "end_time": "2024-12-13T04:11:59.604501",
     "exception": false,
     "start_time": "2024-12-13T04:11:58.867940",
     "status": "completed"
    },
    "tags": []
   },
   "outputs": [
    {
     "name": "stdout",
     "output_type": "stream",
     "text": [
      "J. Liu  ->  J. Liu  |  ['J. Liu']\n",
      "H. Beuther  ->  H. Beuther  |  ['H. Beuther']\n",
      "J. Li  ->  J. Li  |  ['J. Li']\n",
      "X. Zhang  ->  X. Zhang  |  ['X. Zhang']\n",
      "X. Zhang  ->  X. Zhang  |  ['X. Zhang']\n",
      "X. Zhang  ->  X. Zhang  |  ['X. Zhang']\n",
      "E. Schinnerer  ->  E. Schinnerer  |  ['E. Schinnerer']\n",
      "Arxiv has 76 new papers today\n",
      "          5 with possible author matches\n"
     ]
    }
   ],
   "source": [
    "new_papers = get_new_papers()\n",
    "# add manual references\n",
    "add_paper_refs = []\n",
    "new_papers.extend([get_paper_from_identifier(k) for k in add_paper_refs])\n",
    "\n",
    "def robust_call(fn, value, *args, **kwargs):\n",
    "    try:\n",
    "        return fn(value, *args, **kwargs)\n",
    "    except Exception:\n",
    "        return value\n",
    "\n",
    "candidates = []\n",
    "for paperk in new_papers:\n",
    "    # Check author list with their initials\n",
    "    normed_author_list = [robust_call(mpia.get_initials, k) for k in paperk['authors']]\n",
    "    hl_authors = highlight_authors_in_list(normed_author_list, mpia_authors, verbose=True)\n",
    "    matches = [(hl, orig) for hl, orig in zip(hl_authors, paperk['authors']) if 'mark' in hl]\n",
    "    paperk['authors'] = hl_authors\n",
    "    if matches:\n",
    "        # only select paper if an author matched our list\n",
    "        candidates.append(paperk)\n",
    "print(\"\"\"Arxiv has {0:,d} new papers today\"\"\".format(len(new_papers)))        \n",
    "print(\"\"\"          {0:,d} with possible author matches\"\"\".format(len(candidates)))"
   ]
  },
  {
   "cell_type": "markdown",
   "id": "3543b34a",
   "metadata": {
    "papermill": {
     "duration": 0.003071,
     "end_time": "2024-12-13T04:11:59.611041",
     "exception": false,
     "start_time": "2024-12-13T04:11:59.607970",
     "status": "completed"
    },
    "tags": []
   },
   "source": [
    "# Parse sources and generate relevant outputs\n",
    "\n",
    "From the candidates, we do the following steps:\n",
    "* get their tarball from ArXiv (and extract data)\n",
    "* find the main .tex file: find one with \\documentclass{...} (sometimes it's non trivial)\n",
    "* Check affiliations with :func:`validation`, which uses :func:`mpia.affiliation_verifications`\n",
    "* If passing the affiliations: we parse the .tex source\n",
    "   * inject sub-documents into the main (flatten the main document)\n",
    "   * parse structure, extract information (title, abstract, authors, figures...)\n",
    "   * handles `\\graphicspath` if provided\n",
    "* Generate the .md document."
   ]
  },
  {
   "cell_type": "code",
   "execution_count": 5,
   "id": "9576b79e",
   "metadata": {
    "execution": {
     "iopub.execute_input": "2024-12-13T04:11:59.618365Z",
     "iopub.status.busy": "2024-12-13T04:11:59.617907Z",
     "iopub.status.idle": "2024-12-13T04:12:17.645718Z",
     "shell.execute_reply": "2024-12-13T04:12:17.644914Z"
    },
    "papermill": {
     "duration": 18.032713,
     "end_time": "2024-12-13T04:12:17.646874",
     "exception": false,
     "start_time": "2024-12-13T04:11:59.614161",
     "status": "completed"
    },
    "scrolled": false,
    "tags": []
   },
   "outputs": [
    {
     "data": {
      "application/vnd.jupyter.widget-view+json": {
       "model_id": "52c5c604454d40ecac45d77e3454bade",
       "version_major": 2,
       "version_minor": 0
      },
      "text/plain": [
       "  0%|          | 0/5 [00:00<?, ?it/s]"
      ]
     },
     "metadata": {},
     "output_type": "display_data"
    },
    {
     "name": "stdout",
     "output_type": "stream",
     "text": [
      "Retrieving document from  https://arxiv.org/e-print/2412.08790\n"
     ]
    },
    {
     "name": "stdout",
     "output_type": "stream",
     "text": [
      "extracting tarball to tmp_2412.08790... done.\n"
     ]
    },
    {
     "name": "stderr",
     "output_type": "stream",
     "text": [
      "/tmp/ipykernel_2679/2822249172.py:52: LatexWarning: 2412.08790 did not run properly\n",
      "string index out of range\n",
      "  warnings.warn(latex.LatexWarning(f\"{paper_id:s} did not run properly\\n\" +\n"
     ]
    },
    {
     "name": "stdout",
     "output_type": "stream",
     "text": [
      "Retrieving document from  https://arxiv.org/e-print/2412.08877\n"
     ]
    },
    {
     "name": "stdout",
     "output_type": "stream",
     "text": [
      "extracting tarball to tmp_2412.08877..."
     ]
    },
    {
     "name": "stdout",
     "output_type": "stream",
     "text": [
      " done.\n",
      "Retrieving document from  https://arxiv.org/e-print/2412.08903\n",
      "extracting tarball to tmp_2412.08903..."
     ]
    },
    {
     "name": "stdout",
     "output_type": "stream",
     "text": [
      " done.\n",
      "Retrieving document from  https://arxiv.org/e-print/2412.09297\n"
     ]
    },
    {
     "name": "stdout",
     "output_type": "stream",
     "text": [
      "extracting tarball to tmp_2412.09297... done.\n",
      "Retrieving document from  https://arxiv.org/e-print/2412.09363\n"
     ]
    },
    {
     "name": "stdout",
     "output_type": "stream",
     "text": [
      "extracting tarball to tmp_2412.09363..."
     ]
    },
    {
     "name": "stdout",
     "output_type": "stream",
     "text": [
      " done.\n"
     ]
    },
    {
     "name": "stdout",
     "output_type": "stream",
     "text": [
      "E. Schinnerer  ->  E. Schinnerer  |  ['E. Schinnerer']\n"
     ]
    },
    {
     "name": "stdout",
     "output_type": "stream",
     "text": [
      "Found 87 bibliographic references in tmp_2412.09363/aanda.bbl.\n"
     ]
    }
   ],
   "source": [
    "documents = []\n",
    "failed = []\n",
    "for paper in tqdm(candidates):\n",
    "    # debug crap\n",
    "    paper['identifier'] = paper['identifier'].lower().replace('arxiv:', '').replace(r'\\n', '').strip()\n",
    "    paper_id = paper['identifier']\n",
    "    \n",
    "    folder = f'tmp_{paper_id}'\n",
    "\n",
    "    try:\n",
    "        if not os.path.isdir(folder):\n",
    "            folder = retrieve_document_source(f\"{paper_id}\", f'tmp_{paper_id}')\n",
    "        \n",
    "        try:\n",
    "            doc = latex.LatexDocument(folder, validation=validation)    \n",
    "        except AffiliationError as affilerror:\n",
    "            msg = f\"ArXiv:{paper_id:s} is not an MPIA paper... \" + str(affilerror)\n",
    "            failed.append((paper, \"affiliation error: \" + str(affilerror) ))\n",
    "            continue\n",
    "        \n",
    "        # Hack because sometimes author parsing does not work well\n",
    "        if (len(doc.authors) != len(paper['authors'])):\n",
    "            doc._authors = paper['authors']\n",
    "        else:\n",
    "            # highlight authors (FIXME: doc.highlight_authors)\n",
    "            # done on arxiv paper already\n",
    "            doc._authors = highlight_authors_in_list(\n",
    "                [get_initials(k) for k in doc.authors], \n",
    "                mpia_authors, verbose=True)\n",
    "        if (doc.abstract) in (None, ''):\n",
    "            doc._abstract = paper['abstract']\n",
    "            \n",
    "        doc.comment = (get_markdown_badge(paper_id) + \n",
    "                       \"<mark>Appeared on: \" + paper['date'] + \"</mark> - \")\n",
    "        if paper['comments']:\n",
    "            doc.comment += \" _\" + paper['comments'] + \"_\"\n",
    "        \n",
    "        full_md = doc.generate_markdown_text()\n",
    "        \n",
    "        full_md += get_markdown_qrcode(paper_id)\n",
    "        \n",
    "        # replace citations\n",
    "        try:\n",
    "            bibdata = latex_bib.LatexBib.from_doc(doc)\n",
    "            full_md = latex_bib.replace_citations(full_md, bibdata)\n",
    "        except Exception as e:\n",
    "            print(\"Issues with the citations\")\n",
    "            print(e)\n",
    "        \n",
    "        documents.append((paper_id, full_md))\n",
    "    except Exception as e:\n",
    "        warnings.warn(latex.LatexWarning(f\"{paper_id:s} did not run properly\\n\" +\n",
    "                                         str(e)\n",
    "                                        ))\n",
    "        failed.append((paper, \"latex error \" + str(e)))"
   ]
  },
  {
   "cell_type": "markdown",
   "id": "2505a25c",
   "metadata": {
    "papermill": {
     "duration": 0.003807,
     "end_time": "2024-12-13T04:12:17.654850",
     "exception": false,
     "start_time": "2024-12-13T04:12:17.651043",
     "status": "completed"
    },
    "tags": []
   },
   "source": [
    "### Export the logs\n",
    "\n",
    "Throughout, we also keep track of the logs per paper. see `logs-{today date}.md` "
   ]
  },
  {
   "cell_type": "code",
   "execution_count": 6,
   "id": "d733828a",
   "metadata": {
    "execution": {
     "iopub.execute_input": "2024-12-13T04:12:17.663278Z",
     "iopub.status.busy": "2024-12-13T04:12:17.663056Z",
     "iopub.status.idle": "2024-12-13T04:12:17.679934Z",
     "shell.execute_reply": "2024-12-13T04:12:17.679414Z"
    },
    "papermill": {
     "duration": 0.022308,
     "end_time": "2024-12-13T04:12:17.680885",
     "exception": false,
     "start_time": "2024-12-13T04:12:17.658577",
     "status": "completed"
    },
    "scrolled": false,
    "tags": []
   },
   "outputs": [
    {
     "data": {
      "text/markdown": [
       "## Successful papers"
      ],
      "text/plain": [
       "<IPython.core.display.Markdown object>"
      ]
     },
     "metadata": {},
     "output_type": "display_data"
    },
    {
     "data": {
      "text/markdown": [
       "\n",
       "|||\n",
       "|---:|:---|\n",
       "| [![arXiv](https://img.shields.io/badge/arXiv-2412.09363-b31b1b.svg)](https://arxiv.org/abs/2412.09363) | **Behind the dust veil: A panchromatic view of an optically dark galaxy at z=4.82**  |\n",
       "|| N. B. Sillassen, et al. -- incl., <mark>E. Schinnerer</mark> |\n",
       "|*Appeared on*| *2024-12-13*|\n",
       "|*Comments*| *11 pages, 7 figures, accepted in Astronomy & Astrophysics*|\n",
       "|**Abstract**|            Optically dark dusty star-forming galaxies (DSFGs) play an essential role in massive galaxy formation at early cosmic time, however their nature remains elusive. Here we present a detailed case study of all the baryonic components of a $z=4.821$ DSFG, XS55. Selected from the ultra-deep COSMOS-XS 3GHz map with a red SCUBA-2 450$\\mu$m/850$\\mu$m colour, XS55 was followed up with ALMA 3mm line scans and spectroscopically confirmed to be at $z=4.821$ via detections of the CO(5-4) and [CI](1-0) lines. JWST/NIRCam imaging reveals that XS55 is a F150W-dropout with red F277W/F444W colour, and a complex morphology: a compact central component embedded in an extended structure with a likely companion. XS55 is tentatively detected in X-rays with both Chandra and XMM-Newton, suggesting an active galactic nucleus (AGN) nature. By fitting a panchromatic SED spanning NIR to radio wavelengths, we revealed that XS55 is a massive main-sequence galaxy with a stellar mass of $M_\\ast=(5\\pm1)\\times10^{10}\\,{\\rm M_\\odot}$ and a star formation rate of ${\\rm SFR}=540\\pm177~{\\rm M_\\odot\\,yr^{-1}}$. The dust of XS55 is optically thick in the far infrared (FIR) with a surprisingly cold dust temperature of $T_{\\rm dust}=33\\pm2\\,{\\rm K}$, making XS55 one of the coldest DSFGs at $z>4$ known to date. This work unveils the nature of a radio-selected F150W-dropout, suggesting the existence of a population of DSFGs hosting active black holes embedded in optically thick dust.         |"
      ],
      "text/plain": [
       "[2412.09363] Behind the dust veil: A panchromatic view of an optically dark galaxy at z=4.82\n",
       "\tN. B. Sillassen, et al. -- incl., <mark>E. Schinnerer</mark>"
      ]
     },
     "metadata": {},
     "output_type": "display_data"
    },
    {
     "data": {
      "text/markdown": [
       "## Failed papers"
      ],
      "text/plain": [
       "<IPython.core.display.Markdown object>"
      ]
     },
     "metadata": {},
     "output_type": "display_data"
    },
    {
     "data": {
      "text/markdown": [
       "\n",
       "|||\n",
       "|---:|:---|\n",
       "| [![arXiv](https://img.shields.io/badge/arXiv-2412.08877-b31b1b.svg)](https://arxiv.org/abs/2412.08877) | **Discoveries and Properties of EL CVn-type Binaries in the TESS Survey**  |\n",
       "|| J. Xiong, et al. -- incl., <mark>J. Li</mark>, <mark>X. Zhang</mark> |\n",
       "|*Appeared on*| *2024-12-13*|\n",
       "|*Comments*| *13 pages, 10 figures, 2 tables*|\n",
       "|**Abstract**|            EL CVn-type systems represent a rare evolutionary stage in binary star evolution, providing ideal laboratories for investigating stable mass transfer processes and the formation of extremely low-mass white dwarfs (ELM WDs). The Transiting Exoplanet Survey Satellite (TESS) has delivered an extensive collection of high-precision time-domain photometric data, which is invaluable for studying EL CVn binaries. In this study, we identified 29 EL CVn systems from the TESS eclipsing binary catalogs (sectors 1-65), 11 of which are newly discovered. These systems consist of smaller, hotter pre-He white dwarfs and A/F main-sequence stars. The orbital periods of these binaries range from 0.64 to 2.5 days. Utilizing TESS light curves, Gaia distances, and multi-band photometric data (e.g., GALEX, 2MASS, WISE, SkyMapper), we modeled the light curves and spectral energy distributions to derive system parameters, including effective temperatures, masses, and radii. These systems were then compared with the white dwarf mass-period relation and the evolutionary tracks of ELM WDs. The comparison reveals that these binaries are consistent with the expected mass-period relation for white dwarfs and align well with the evolutionary tracks on the Teff-logg diagram for ELM WDs. This result suggests that these EL CVn systems likely formed through stable mass transfer processes. We provide a catalog of complete parameters for 29 EL CVn systems identified from the TESS survey. This catalog will serve as an essential resource for studying binary mass transfer, white dwarf formation, and pulsation phenomena in EL CVn-type systems.         |\n",
       "|<p style=\"color:green\"> **ERROR** </p>| <p style=\"color:green\">affiliation error: mpia.affiliation_verifications: 'Heidelberg' keyword not found.</p> |"
      ],
      "text/plain": [
       "<IPython.core.display.Markdown object>"
      ]
     },
     "metadata": {},
     "output_type": "display_data"
    },
    {
     "data": {
      "text/markdown": [
       "\n",
       "|||\n",
       "|---:|:---|\n",
       "| [![arXiv](https://img.shields.io/badge/arXiv-2412.08903-b31b1b.svg)](https://arxiv.org/abs/2412.08903) | **Binary Evolution Pathways to Blue Large-Amplitude Pulsators: Insights from HD 133729**  |\n",
       "|| Z. Zhang, C. Wu, <mark>X. Zhang</mark>, B. Wang |\n",
       "|*Appeared on*| *2024-12-13*|\n",
       "|*Comments*| *Comments are welcome*|\n",
       "|**Abstract**|            Blue Large-Amplitude Pulsators (BLAPs) represent a recently identified class of pulsating stars distinguished by their short pulsation periods (22-40 minutes) and asymmetric light curves. This study investigates the evolutionary channel of HD 133729, the first confirmed BLAP in a binary system. Through binary evolution simulations with MESA, we explored various mass ratios and initial orbital periods, finding that a mass ratio of q = 0.30 coupled with non-conservative mass transfer ($\\rm \\beta$ = 0.15) successfully reproduces the observational characteristics (including luminosity, surface gravity, and effective temperature) of the binary system. Our models not only match the observed pulsational properties but also predict significant helium and nitrogen enhancements on the surface of the main-sequence companion. The system is expected to eventually undergo a common envelope phase leading to a stellar merger. Our findings provide crucial insights into the formation mechanism and evolutionary fate of BLAPs with main-sequence companions, while also placing constraints on the elemental abundances of their binary companions.         |\n",
       "|<p style=\"color:green\"> **ERROR** </p>| <p style=\"color:green\">affiliation error: mpia.affiliation_verifications: 'Heidelberg' keyword not found.</p> |"
      ],
      "text/plain": [
       "<IPython.core.display.Markdown object>"
      ]
     },
     "metadata": {},
     "output_type": "display_data"
    },
    {
     "data": {
      "text/markdown": [
       "\n",
       "|||\n",
       "|---:|:---|\n",
       "| [![arXiv](https://img.shields.io/badge/arXiv-2412.09297-b31b1b.svg)](https://arxiv.org/abs/2412.09297) | **Constraining primordial black hole abundance with Insight-HXMT**  |\n",
       "|| C. Yang, <mark>X. Zhang</mark> |\n",
       "|*Appeared on*| *2024-12-13*|\n",
       "|*Comments*| *10 pages, 2 figures*|\n",
       "|**Abstract**|            Primordial black holes (PBHs) are a major candidate for dark matter and they have been extensively constrained across most mass ranges. However, PBHs in the mass range of $10^{17}-10^{21}$ g remain a viable explanation for all dark matter. In this work, we use observational data from the Hard X-ray Modulation Telescope (Insight-HXMT) to refine constraints on PBHs within the mass range of $10^{16}-10^{18}$ g. Our analysis explores three scenarios: directly using observational data, incorporating the astrophysical background model (ABM), and employing the power-law spectrum with an exponential cutoff. Additionally, we also account for photon flux from positron annihilation due to Hawking radiation in our calculations. Our findings indicate that directly using observational data significantly tightens constraints on PBHs with masses above $10^{17}$ g, owing to Insight-HXMT's exceptional sensitivity to hard X-rays. Incorporating the ABM further enhances the constraints by approximately 0.8 orders of magnitude. The exclusion limit for PBHs as dark matter extends to $8\\times 10^{17}$ g, nearly doubling the current threshold. Moreover, extrapolating the energy limit with a power-law model improves constraints by approximately one order of magnitude compared to the ABM scenario.         |\n",
       "|<p style=\"color:green\"> **ERROR** </p>| <p style=\"color:green\">affiliation error: mpia.affiliation_verifications: 'Heidelberg' keyword not found.</p> |"
      ],
      "text/plain": [
       "<IPython.core.display.Markdown object>"
      ]
     },
     "metadata": {},
     "output_type": "display_data"
    },
    {
     "data": {
      "text/markdown": [
       "\n",
       "|||\n",
       "|---:|:---|\n",
       "| [![arXiv](https://img.shields.io/badge/arXiv-2412.08790-b31b1b.svg)](https://arxiv.org/abs/2412.08790) | **Magnetic Fields in Massive Star-forming Regions (MagMaR). V. The Magnetic Field at the Onset of High-mass Star Formation**  |\n",
       "|| P. Sanhueza, et al. -- incl., <mark>J. Liu</mark>, <mark>H. Beuther</mark> |\n",
       "|*Appeared on*| *2024-12-13*|\n",
       "|*Comments*| *Accepted for publications in ApJ (9 pages, 3 figures, Appendix)*|\n",
       "|**Abstract**|            A complete understanding of the initial conditions of high-mass star formation and what processes determine multiplicity require the study of the magnetic field (B-field) in young, massive cores. Using ALMA 250 GHz polarization (0.3\" = 1000 au) and ALMA 220 GHz high-angular resolution observations (0.05\" = 160 au), we have performed a full energy analysis including the B-field at core scales and have assessed what influences the multiplicity inside a massive core previously believed to be in the prestellar phase. With 31 Msun, the G11.92 MM2 core has a young CS outflow with a dynamical time scale of a few thousand years. At high-resolution, the MM2 core fragments into a binary system with a projected separation of 505 au and a binary mass ratio of 1.14. Using the DCF method with an ADF analysis, we estimate in this core a B-field strength of 6.2 mG and a mass-to-flux ratio of 18. The MM2 core is strongly subvirialized with a virial parameter of 0.064, including the B-field. The high mass-to-flux ratio and low virial parameter indicate that this massive core is very likely undergoing runaway collapse, which is in direct contradiction with the core-accretion model. The MM2 core is embedded in a filament that has a velocity gradient consistent with infall. In line with clump-fed scenarios, the core can grow in mass at a rate of 1.9--5.6 x 10^-4 Msun/yr. In spite of the B-field having only a minor contribution to the total energy budget at core scales, it likely plays a more important role at smaller scales by setting the binary properties. Considering energy ratios and a fragmentation criterion at the core scale, the binary could have been formed by core fragmentation. The binary properties (separation and mass ratio), however, are also consistent with radiation-magnetohydrodynamic simulations with super-Alfvenic, supersonic (or sonic) turbulence that form binaries by disk fragmentation.         |\n",
       "|<p style=\"color:red\"> **ERROR** </p>| <p style=\"color:red\">latex error string index out of range</p> |"
      ],
      "text/plain": [
       "<IPython.core.display.Markdown object>"
      ]
     },
     "metadata": {},
     "output_type": "display_data"
    }
   ],
   "source": [
    "import datetime\n",
    "today = str(datetime.date.today())\n",
    "logfile = f\"_build/html/logs/log-{today}.md\"\n",
    "\n",
    "\n",
    "with open(logfile, 'w') as logs:\n",
    "    # Success\n",
    "    logs.write(f'# Arxiv on Deck 2: Logs - {today}\\n\\n')\n",
    "    logs.write(\"\"\"* Arxiv had {0:,d} new papers\\n\"\"\".format(len(new_papers)))\n",
    "    logs.write(\"\"\"    * {0:,d} with possible author matches\\n\\n\"\"\".format(len(candidates)))\n",
    "    logs.write(\"## Sucessful papers\\n\\n\")\n",
    "    display(Markdown(\"## Successful papers\"))\n",
    "    success = [k[0] for k in documents]\n",
    "    for candid in candidates:\n",
    "        if candid['identifier'].split(':')[-1] in success:\n",
    "            display(candid)\n",
    "            logs.write(candid.generate_markdown_text() + '\\n\\n')\n",
    "\n",
    "    ## failed\n",
    "    logs.write(\"## Failed papers\\n\\n\")\n",
    "    display(Markdown(\"## Failed papers\"))\n",
    "    failed = sorted(failed, key=lambda x: x[1])\n",
    "    current_reason = \"\"\n",
    "    for paper, reason in failed:\n",
    "        if 'affiliation' in reason:\n",
    "            color = 'green'\n",
    "        else:\n",
    "            color = 'red'\n",
    "        data = Markdown(\n",
    "                paper.generate_markdown_text() + \n",
    "                f'\\n|<p style=\"color:{color:s}\"> **ERROR** </p>| <p style=\"color:{color:s}\">{reason:s}</p> |'\n",
    "               )\n",
    "        if reason != current_reason:\n",
    "            logs.write(f'### {reason:s} \\n\\n')\n",
    "            current_reason = reason\n",
    "        logs.write(data.data + '\\n\\n')\n",
    "        \n",
    "        # only display here the important errors (all in logs)\n",
    "        # if color in ('red',):\n",
    "        display(data)"
   ]
  },
  {
   "cell_type": "markdown",
   "id": "472d20ee",
   "metadata": {
    "papermill": {
     "duration": 0.004455,
     "end_time": "2024-12-13T04:12:17.689963",
     "exception": false,
     "start_time": "2024-12-13T04:12:17.685508",
     "status": "completed"
    },
    "tags": []
   },
   "source": [
    "## Export documents\n",
    "\n",
    "We now write the .md files and export relevant images"
   ]
  },
  {
   "cell_type": "code",
   "execution_count": 7,
   "id": "d426aed9",
   "metadata": {
    "execution": {
     "iopub.execute_input": "2024-12-13T04:12:17.699944Z",
     "iopub.status.busy": "2024-12-13T04:12:17.699482Z",
     "iopub.status.idle": "2024-12-13T04:12:17.706326Z",
     "shell.execute_reply": "2024-12-13T04:12:17.705687Z"
    },
    "papermill": {
     "duration": 0.01294,
     "end_time": "2024-12-13T04:12:17.707334",
     "exception": false,
     "start_time": "2024-12-13T04:12:17.694394",
     "status": "completed"
    },
    "tags": []
   },
   "outputs": [],
   "source": [
    "def export_markdown_summary(md: str, md_fname:str, directory: str):\n",
    "    \"\"\"Export MD document and associated relevant images\"\"\"\n",
    "    import os\n",
    "    import shutil\n",
    "    import re\n",
    "\n",
    "    if (os.path.exists(directory) and not os.path.isdir(directory)):\n",
    "        raise RuntimeError(f\"a non-directory file exists with name {directory:s}\")\n",
    "\n",
    "    if (not os.path.exists(directory)):\n",
    "        print(f\"creating directory {directory:s}\")\n",
    "        os.mkdir(directory)\n",
    "\n",
    "    fig_fnames = (re.compile(r'\\[Fig.*\\]\\((.*)\\)').findall(md) + \n",
    "                  re.compile(r'\\<img src=\"([^>\\s]*)\"[^>]*/>').findall(md))\n",
    "    print(\"found figures\", fig_fnames)\n",
    "    for fname in fig_fnames:\n",
    "        if 'http' in fname:\n",
    "            # No need to copy online figures\n",
    "            continue\n",
    "        if not os.path.exists(fname):\n",
    "            print(\"file not found\", fname)\n",
    "            continue\n",
    "        print(\"copying \", fname, \"to\", directory)\n",
    "        destdir = os.path.join(directory, os.path.dirname(fname))\n",
    "        destfname = os.path.join(destdir, os.path.basename(fname))\n",
    "        try:\n",
    "            os.makedirs(destdir)\n",
    "        except FileExistsError:\n",
    "            pass\n",
    "        shutil.copy(fname, destfname)\n",
    "    with open(os.path.join(directory, md_fname), 'w') as fout:\n",
    "        fout.write(md)\n",
    "    print(\"exported in \", os.path.join(directory, md_fname))\n",
    "    [print(\"    + \" + os.path.join(directory,fk)) for fk in fig_fnames]"
   ]
  },
  {
   "cell_type": "code",
   "execution_count": 8,
   "id": "014d04a4",
   "metadata": {
    "execution": {
     "iopub.execute_input": "2024-12-13T04:12:17.717296Z",
     "iopub.status.busy": "2024-12-13T04:12:17.716916Z",
     "iopub.status.idle": "2024-12-13T04:12:17.726925Z",
     "shell.execute_reply": "2024-12-13T04:12:17.726404Z"
    },
    "papermill": {
     "duration": 0.016051,
     "end_time": "2024-12-13T04:12:17.727940",
     "exception": false,
     "start_time": "2024-12-13T04:12:17.711889",
     "status": "completed"
    },
    "tags": []
   },
   "outputs": [
    {
     "name": "stdout",
     "output_type": "stream",
     "text": [
      "found figures ['tmp_2412.09363/./XS55_spectrum_full.png', 'tmp_2412.09363/./lines_velocity.png', 'tmp_2412.09363/./XS55_cont_image.png', 'tmp_2412.09363/./XS55_CO54_image.png', 'tmp_2412.09363/./XS55_CI10_image.png', 'tmp_2412.09363/./XS55_galfit_full.png', 'tmp_2412.09363/./60000055.png']\n",
      "copying  tmp_2412.09363/./XS55_spectrum_full.png to _build/html/\n",
      "copying  tmp_2412.09363/./lines_velocity.png to _build/html/\n",
      "copying  tmp_2412.09363/./XS55_cont_image.png to _build/html/\n",
      "copying  tmp_2412.09363/./XS55_CO54_image.png to _build/html/\n",
      "copying  tmp_2412.09363/./XS55_CI10_image.png to _build/html/\n",
      "copying  tmp_2412.09363/./XS55_galfit_full.png to _build/html/\n",
      "copying  tmp_2412.09363/./60000055.png to _build/html/\n",
      "exported in  _build/html/2412.09363.md\n",
      "    + _build/html/tmp_2412.09363/./XS55_spectrum_full.png\n",
      "    + _build/html/tmp_2412.09363/./lines_velocity.png\n",
      "    + _build/html/tmp_2412.09363/./XS55_cont_image.png\n",
      "    + _build/html/tmp_2412.09363/./XS55_CO54_image.png\n",
      "    + _build/html/tmp_2412.09363/./XS55_CI10_image.png\n",
      "    + _build/html/tmp_2412.09363/./XS55_galfit_full.png\n",
      "    + _build/html/tmp_2412.09363/./60000055.png\n"
     ]
    }
   ],
   "source": [
    "for paper_id, md in documents:\n",
    "    export_markdown_summary(md, f\"{paper_id:s}.md\", '_build/html/')"
   ]
  },
  {
   "cell_type": "markdown",
   "id": "f087a0a7",
   "metadata": {
    "papermill": {
     "duration": 0.004516,
     "end_time": "2024-12-13T04:12:17.737192",
     "exception": false,
     "start_time": "2024-12-13T04:12:17.732676",
     "status": "completed"
    },
    "tags": []
   },
   "source": [
    "## Display the papers\n",
    "\n",
    "Not necessary but allows for a quick check."
   ]
  },
  {
   "cell_type": "code",
   "execution_count": 9,
   "id": "fd25f625",
   "metadata": {
    "execution": {
     "iopub.execute_input": "2024-12-13T04:12:17.747358Z",
     "iopub.status.busy": "2024-12-13T04:12:17.746985Z",
     "iopub.status.idle": "2024-12-13T04:12:17.751580Z",
     "shell.execute_reply": "2024-12-13T04:12:17.751058Z"
    },
    "papermill": {
     "duration": 0.010705,
     "end_time": "2024-12-13T04:12:17.752550",
     "exception": false,
     "start_time": "2024-12-13T04:12:17.741845",
     "status": "completed"
    },
    "scrolled": false,
    "tags": []
   },
   "outputs": [
    {
     "data": {
      "text/markdown": [
       "<div class=\"macros\" style=\"visibility:hidden;\">\n",
       "$\\newcommand{\\ensuremath}{}$\n",
       "$\\newcommand{\\xspace}{}$\n",
       "$\\newcommand{\\object}[1]{\\texttt{#1}}$\n",
       "$\\newcommand{\\farcs}{{.}''}$\n",
       "$\\newcommand{\\farcm}{{.}'}$\n",
       "$\\newcommand{\\arcsec}{''}$\n",
       "$\\newcommand{\\arcmin}{'}$\n",
       "$\\newcommand{\\ion}[2]{#1#2}$\n",
       "$\\newcommand{\\textsc}[1]{\\textrm{#1}}$\n",
       "$\\newcommand{\\hl}[1]{\\textrm{#1}}$\n",
       "$\\newcommand{\\footnote}[1]{}$\n",
       "$\\newcommand{\\changes}[1]{\\textcolor{purple}{\\bf #1}}$\n",
       "$\\newcommand{\\nochanges}[1]{#1}$\n",
       "$\\newcommand$\n",
       "$\\newcommand$\n",
       "$\\newcommand$</div>\n",
       "\n",
       "\n",
       "\n",
       "<div id=\"title\">\n",
       "\n",
       "# Behind the dust veil: A panchromatic view of an optically dark galaxy at z=4.82\n",
       "\n",
       "</div>\n",
       "<div id=\"comments\">\n",
       "\n",
       "[![arXiv](https://img.shields.io/badge/arXiv-2412.09363-b31b1b.svg)](https://arxiv.org/abs/2412.09363)<mark>Appeared on: 2024-12-13</mark> -  _11 pages, 7 figures, accepted in Astronomy & Astrophysics_\n",
       "\n",
       "</div>\n",
       "<div id=\"authors\">\n",
       "\n",
       "N. B. Sillassen, et al. -- incl., <mark>E. Schinnerer</mark>\n",
       "\n",
       "</div>\n",
       "<div id=\"abstract\">\n",
       "\n",
       "**Abstract:** Optically dark dusty star-forming galaxies (DSFGs) play an essential role in massive galaxy formation at early cosmic time, however their nature remains elusive.Here we present a detailed case study of all the baryonic components of a $z=4.821$ DSFG, XS55. Selected from the ultra-deep COSMOS-XS 3GHz map with a red SCUBA-2 450 $\\mu$ m/850 $\\mu$ m colour, XS55 was followed up with ALMA 3mm line scans and spectroscopically confirmed to be at $z=4.821$ via detections of the CO(5-4) and [ C ${\\tiny I}$ ] (1-0) lines.JWST/NIRCam imaging reveals that XS55 is a F150W-dropout with red F277W/F444W colour, and a complex morphology: a compact central component embedded in an extended structure with a likely companion.XS55 is tentatively detected in X-rays with both Chandra and XMM-Newton, suggesting an active galactic nucleus (AGN) nature. By fitting a panchromatic SED spanning NIR to radio wavelengths, we revealed that XS55 is a massive main-sequence galaxy with a stellar mass of $M_\\ast=(5\\pm1)\\times10^{10} {\\rm M_\\odot}$ and a star formation rate of ${\\rm SFR}=540\\pm177 {\\rm M_\\odot yr^{-1}}$ . The dust of XS55 is optically thick in the far infrared (FIR) with a surprisingly cold dust temperature of $T_{\\rm dust}=33\\pm2 {\\rm K}$ , making XS55 one of the coldest DSFGs at $z>4$ known to date. This work unveils the nature of a radio-selected F150W-dropout, suggesting the existence of a population of DSFGs hosting active black holes embedded in optically thick dust.\n",
       "\n",
       "</div>\n",
       "\n",
       "<div id=\"div_fig1\">\n",
       "\n",
       "<img src=\"tmp_2412.09363/./XS55_spectrum_full.png\" alt=\"Fig3.1\" width=\"20%\"/><img src=\"tmp_2412.09363/./lines_velocity.png\" alt=\"Fig3.2\" width=\"20%\"/><img src=\"tmp_2412.09363/./XS55_cont_image.png\" alt=\"Fig3.3\" width=\"20%\"/><img src=\"tmp_2412.09363/./XS55_CO54_image.png\" alt=\"Fig3.4\" width=\"20%\"/><img src=\"tmp_2412.09363/./XS55_CI10_image.png\" alt=\"Fig3.5\" width=\"20%\"/>\n",
       "\n",
       "**Figure 3. -** ** Top:** ALMA 3mm spectrum of XS55. The red line shows the line-free continuum, and the blue dotted line indicates the flux error per channel at $1\\sigma$ level. The spectroscopic redshift is shown in text, along with the velocity width of the channels. ** Bottom-left:** Velocity space spectrum of CO(5-4) (blue) and [C{\\tiny I}](1-0) (red) at $z=4.8214$, the uncertainty per channel is shown as dashed lines. ** Bottom-right:** Continuum and continuum subtracted moment-0 line maps of XS55. Contour levels are 5, 8, and 11$\\sigma$ for continuum, and 3, 4, 5$\\sigma$ for the line maps. The beam size is shown as a white ellipse, and the peak JWST/F444W position is marked by a grey cross. (*fig:spectrum*)\n",
       "\n",
       "</div>\n",
       "<div id=\"div_fig2\">\n",
       "\n",
       "<img src=\"tmp_2412.09363/./XS55_galfit_full.png\" alt=\"Fig1\" width=\"100%\"/>\n",
       "\n",
       "**Figure 1. -** Morphological fit of XS55 in JWST/F444W (top and middle row) and JWST/F277W (bottom row). The different components of each fit are stated in the right column of each row. (*fig:morph*)\n",
       "\n",
       "</div>\n",
       "<div id=\"div_fig3\">\n",
       "\n",
       "<img src=\"tmp_2412.09363/./60000055.png\" alt=\"Fig2\" width=\"100%\"/>\n",
       "\n",
       "**Figure 2. -** Multi-wavelength cutout images of XS55. The instrument, wavelength and field of view (FoV) are shown in green text in each panel. (*fig:cutouts*)\n",
       "\n",
       "</div><div id=\"qrcode\"><img src=https://api.qrserver.com/v1/create-qr-code/?size=100x100&data=\"https://arxiv.org/abs/2412.09363\"></div>"
      ],
      "text/plain": [
       "<IPython.core.display.Markdown object>"
      ]
     },
     "metadata": {},
     "output_type": "display_data"
    }
   ],
   "source": [
    "[display(Markdown(k[1])) for k in documents];"
   ]
  },
  {
   "cell_type": "markdown",
   "id": "873873a4",
   "metadata": {
    "papermill": {
     "duration": 0.004845,
     "end_time": "2024-12-13T04:12:17.762307",
     "exception": false,
     "start_time": "2024-12-13T04:12:17.757462",
     "status": "completed"
    },
    "tags": []
   },
   "source": [
    "# Create HTML index"
   ]
  },
  {
   "cell_type": "code",
   "execution_count": 10,
   "id": "cf665672",
   "metadata": {
    "execution": {
     "iopub.execute_input": "2024-12-13T04:12:17.773030Z",
     "iopub.status.busy": "2024-12-13T04:12:17.772591Z",
     "iopub.status.idle": "2024-12-13T04:12:17.781305Z",
     "shell.execute_reply": "2024-12-13T04:12:17.780744Z"
    },
    "papermill": {
     "duration": 0.015138,
     "end_time": "2024-12-13T04:12:17.782219",
     "exception": false,
     "start_time": "2024-12-13T04:12:17.767081",
     "status": "completed"
    },
    "tags": []
   },
   "outputs": [
    {
     "name": "stdout",
     "output_type": "stream",
     "text": [
      "281  publications files modified in the last 7 days.\n"
     ]
    }
   ],
   "source": [
    "from datetime import datetime, timedelta, timezone\n",
    "from glob import glob\n",
    "import os\n",
    "\n",
    "files = glob('_build/html/*.md')\n",
    "days = 7\n",
    "now = datetime.today()\n",
    "res = []\n",
    "for fk in files:\n",
    "    stat_result = os.stat(fk).st_ctime\n",
    "    modified = datetime.fromtimestamp(stat_result, tz=timezone.utc).replace(tzinfo=None)\n",
    "    delta = now.today() - modified\n",
    "    if delta <= timedelta(days=days):\n",
    "        res.append((delta.seconds, fk))\n",
    "res = [k[1] for k in reversed(sorted(res, key=lambda x:x[1]))]\n",
    "npub = len(res)\n",
    "print(len(res), f\" publications files modified in the last {days:d} days.\")\n",
    "# [ print('\\t', k) for k in res ];"
   ]
  },
  {
   "cell_type": "code",
   "execution_count": 11,
   "id": "015de740",
   "metadata": {
    "execution": {
     "iopub.execute_input": "2024-12-13T04:12:17.792993Z",
     "iopub.status.busy": "2024-12-13T04:12:17.792593Z",
     "iopub.status.idle": "2024-12-13T04:12:17.810335Z",
     "shell.execute_reply": "2024-12-13T04:12:17.809805Z"
    },
    "papermill": {
     "duration": 0.024166,
     "end_time": "2024-12-13T04:12:17.811288",
     "exception": false,
     "start_time": "2024-12-13T04:12:17.787122",
     "status": "completed"
    },
    "tags": []
   },
   "outputs": [
    {
     "name": "stdout",
     "output_type": "stream",
     "text": [
      "13  publications in the last 7 days.\n"
     ]
    }
   ],
   "source": [
    "import datetime\n",
    "from glob import glob\n",
    "\n",
    "def get_last_n_days(lst, days=1):\n",
    "    \"\"\" Get the documents from the last n days \"\"\"\n",
    "    sorted_lst = sorted(lst, key=lambda x: x[1], reverse=True)\n",
    "    for fname, date in sorted_lst:\n",
    "        if date >= str(datetime.date.today() - datetime.timedelta(days=days)):\n",
    "            yield fname\n",
    "\n",
    "def extract_appearance_dates(lst_file):\n",
    "    dates = []\n",
    "\n",
    "    def get_date(line):\n",
    "        return line\\\n",
    "            .split('Appeared on:')[-1]\\\n",
    "            .split('</mark>')[0].strip()\n",
    "\n",
    "    for fname in lst:\n",
    "        with open(fname, 'r') as f:\n",
    "            found_date = False\n",
    "            for line in f:\n",
    "                if not found_date:\n",
    "                    if \"Appeared on\" in line:\n",
    "                        found_date = True\n",
    "                        dates.append((fname, get_date(line)))\n",
    "                else:\n",
    "                    break\n",
    "    return dates\n",
    "\n",
    "from glob import glob\n",
    "lst = glob('_build/html/*md')\n",
    "days = 7\n",
    "dates = extract_appearance_dates(lst)\n",
    "res = list(get_last_n_days(dates, days))\n",
    "npub = len(res)\n",
    "print(len(res), f\" publications in the last {days:d} days.\")"
   ]
  },
  {
   "cell_type": "code",
   "execution_count": 12,
   "id": "52ca0208",
   "metadata": {
    "execution": {
     "iopub.execute_input": "2024-12-13T04:12:17.822192Z",
     "iopub.status.busy": "2024-12-13T04:12:17.821727Z",
     "iopub.status.idle": "2024-12-13T04:12:17.826707Z",
     "shell.execute_reply": "2024-12-13T04:12:17.826051Z"
    },
    "papermill": {
     "duration": 0.011453,
     "end_time": "2024-12-13T04:12:17.827802",
     "exception": false,
     "start_time": "2024-12-13T04:12:17.816349",
     "status": "completed"
    },
    "scrolled": false,
    "tags": []
   },
   "outputs": [],
   "source": [
    "def create_carousel(npub=4):\n",
    "    \"\"\" Generate the HTML code for a carousel with `npub` slides \"\"\"\n",
    "    carousel = [\"\"\"  <div class=\"carousel\" \"\"\",\n",
    "                \"\"\"       data-flickity='{ \"autoPlay\": 10000, \"adaptiveHeight\": true, \"resize\": true, \"wrapAround\": true, \"pauseAutoPlayOnHover\": true, \"groupCells\": 1 }' id=\"asyncTypeset\">\"\"\"\n",
    "                ]\n",
    "    \n",
    "    item_str = \"\"\"    <div class=\"carousel-cell\"> <div id=\"slide{k}\" class=\"md_view\">Content {k}</div> </div>\"\"\"\n",
    "    for k in range(1, npub + 1):\n",
    "        carousel.append(item_str.format(k=k))\n",
    "    carousel.append(\"  </div>\")\n",
    "    return '\\n'.join(carousel)\n",
    "\n",
    "def create_grid(npub=4):\n",
    "    \"\"\" Generate the HTML code for a flat grid with `npub` slides \"\"\"\n",
    "    grid = [\"\"\"  <div class=\"grid\"> \"\"\",\n",
    "                ]\n",
    "    \n",
    "    item_str = \"\"\"    <div class=\"grid-item\"> <div id=\"slide{k}\" class=\"md_view\">Content {k}</div> </div>\"\"\"\n",
    "    for k in range(1, npub + 1):\n",
    "        grid.append(item_str.format(k=k))\n",
    "    grid.append(\"  </div>\")\n",
    "    return '\\n'.join(grid)"
   ]
  },
  {
   "cell_type": "code",
   "execution_count": 13,
   "id": "a6eac5b6",
   "metadata": {
    "execution": {
     "iopub.execute_input": "2024-12-13T04:12:17.838705Z",
     "iopub.status.busy": "2024-12-13T04:12:17.838178Z",
     "iopub.status.idle": "2024-12-13T04:12:17.843222Z",
     "shell.execute_reply": "2024-12-13T04:12:17.842705Z"
    },
    "papermill": {
     "duration": 0.011457,
     "end_time": "2024-12-13T04:12:17.844186",
     "exception": false,
     "start_time": "2024-12-13T04:12:17.832729",
     "status": "completed"
    },
    "scrolled": false,
    "tags": []
   },
   "outputs": [],
   "source": [
    "carousel = create_carousel(npub)\n",
    "docs = ', '.join(['\"{0:s}\"'.format(k.split('/')[-1]) for k in res])\n",
    "slides = ', '.join([f'\"slide{k}\"' for k in range(1, npub + 1)])\n",
    "\n",
    "with open(\"daily_template.html\", \"r\") as tpl:\n",
    "    page = tpl.read()\n",
    "    page = page.replace(\"{%-- carousel:s --%}\", carousel)\\\n",
    "               .replace(\"{%-- suptitle:s --%}\",  \"7-day archives\" )\\\n",
    "               .replace(\"{%-- docs:s --%}\", docs)\\\n",
    "               .replace(\"{%-- slides:s --%}\", slides)\n",
    "    \n",
    "with open(\"_build/html/index_7days.html\", 'w') as fout:\n",
    "    fout.write(page)"
   ]
  },
  {
   "cell_type": "code",
   "execution_count": 14,
   "id": "adc1a1ec",
   "metadata": {
    "execution": {
     "iopub.execute_input": "2024-12-13T04:12:17.855326Z",
     "iopub.status.busy": "2024-12-13T04:12:17.854936Z",
     "iopub.status.idle": "2024-12-13T04:12:17.861337Z",
     "shell.execute_reply": "2024-12-13T04:12:17.860816Z"
    },
    "papermill": {
     "duration": 0.012984,
     "end_time": "2024-12-13T04:12:17.862343",
     "exception": false,
     "start_time": "2024-12-13T04:12:17.849359",
     "status": "completed"
    },
    "tags": []
   },
   "outputs": [
    {
     "name": "stdout",
     "output_type": "stream",
     "text": [
      "3  publications in the last day.\n"
     ]
    }
   ],
   "source": [
    "# redo for today\n",
    "days = 1\n",
    "res = list(get_last_n_days(dates, days))\n",
    "npub = len(res)\n",
    "print(len(res), f\" publications in the last day.\")\n",
    "\n",
    "carousel = create_carousel(npub)\n",
    "docs = ', '.join(['\"{0:s}\"'.format(k.split('/')[-1]) for k in res])\n",
    "slides = ', '.join([f'\"slide{k}\"' for k in range(1, npub + 1)])\n",
    "\n",
    "with open(\"daily_template.html\", \"r\") as tpl:\n",
    "    page = tpl.read()\n",
    "    page = page.replace(\"{%-- carousel:s --%}\", carousel)\\\n",
    "               .replace(\"{%-- suptitle:s --%}\",  \"Daily\" )\\\n",
    "               .replace(\"{%-- docs:s --%}\", docs)\\\n",
    "               .replace(\"{%-- slides:s --%}\", slides)\n",
    "    \n",
    "# print(carousel, docs, slides)\n",
    "# print(page)\n",
    "with open(\"_build/html/index_daily.html\", 'w') as fout:\n",
    "    fout.write(page)"
   ]
  },
  {
   "cell_type": "code",
   "execution_count": 15,
   "id": "00eece82",
   "metadata": {
    "execution": {
     "iopub.execute_input": "2024-12-13T04:12:17.873524Z",
     "iopub.status.busy": "2024-12-13T04:12:17.873178Z",
     "iopub.status.idle": "2024-12-13T04:12:17.879346Z",
     "shell.execute_reply": "2024-12-13T04:12:17.878821Z"
    },
    "papermill": {
     "duration": 0.012809,
     "end_time": "2024-12-13T04:12:17.880333",
     "exception": false,
     "start_time": "2024-12-13T04:12:17.867524",
     "status": "completed"
    },
    "scrolled": false,
    "tags": []
   },
   "outputs": [
    {
     "name": "stdout",
     "output_type": "stream",
     "text": [
      "6  6 publications selected.\n"
     ]
    }
   ],
   "source": [
    "# Create the flat grid of the last N papers (fixed number regardless of dates)\n",
    "from itertools import islice \n",
    "\n",
    "npub = 6\n",
    "res = [k[0] for k in (islice(reversed(sorted(dates, key=lambda x: x[1])), 6))]\n",
    "print(len(res), f\" {npub} publications selected.\")\n",
    "\n",
    "grid = create_grid(npub)\n",
    "docs = ', '.join(['\"{0:s}\"'.format(k.split('/')[-1]) for k in res])\n",
    "slides = ', '.join([f'\"slide{k}\"' for k in range(1, npub + 1)])\n",
    "\n",
    "with open(\"grid_template.html\", \"r\") as tpl:\n",
    "    page = tpl.read()\n",
    "    page = page.replace(\"{%-- grid-content:s --%}\", grid)\\\n",
    "               .replace(\"{%-- suptitle:s --%}\",  f\"Last {npub:,d} papers\" )\\\n",
    "               .replace(\"{%-- docs:s --%}\", docs)\\\n",
    "               .replace(\"{%-- slides:s --%}\", slides)\n",
    "    \n",
    "# print(grid, docs, slides)\n",
    "# print(page)\n",
    "with open(\"_build/html/index_npub_grid.html\", 'w') as fout:\n",
    "    fout.write(page)"
   ]
  }
 ],
 "metadata": {
  "kernelspec": {
   "display_name": "Python 3 (ipykernel)",
   "language": "python",
   "name": "python3"
  },
  "language_info": {
   "codemirror_mode": {
    "name": "ipython",
    "version": 3
   },
   "file_extension": ".py",
   "mimetype": "text/x-python",
   "name": "python",
   "nbconvert_exporter": "python",
   "pygments_lexer": "ipython3",
   "version": "3.9.20"
  },
  "papermill": {
   "default_parameters": {},
   "duration": 39.288591,
   "end_time": "2024-12-13T04:12:18.101163",
   "environment_variables": {},
   "exception": null,
   "input_path": "MPIA daily digest.ipynb",
   "output_path": "log.ipynb",
   "parameters": {},
   "start_time": "2024-12-13T04:11:38.812572",
   "version": "2.6.0"
  },
  "vscode": {
   "interpreter": {
    "hash": "aee8b7b246df8f9039afb4144a1f6fd8d2ca17a180786b69acc140d282b71a49"
   }
  },
  "widgets": {
   "application/vnd.jupyter.widget-state+json": {
    "state": {
     "0aa9dcc370ed45d8b4d490cf7dfd573e": {
      "model_module": "@jupyter-widgets/base",
      "model_module_version": "2.0.0",
      "model_name": "LayoutModel",
      "state": {
       "_model_module": "@jupyter-widgets/base",
       "_model_module_version": "2.0.0",
       "_model_name": "LayoutModel",
       "_view_count": null,
       "_view_module": "@jupyter-widgets/base",
       "_view_module_version": "2.0.0",
       "_view_name": "LayoutView",
       "align_content": null,
       "align_items": null,
       "align_self": null,
       "border_bottom": null,
       "border_left": null,
       "border_right": null,
       "border_top": null,
       "bottom": null,
       "display": null,
       "flex": null,
       "flex_flow": null,
       "grid_area": null,
       "grid_auto_columns": null,
       "grid_auto_flow": null,
       "grid_auto_rows": null,
       "grid_column": null,
       "grid_gap": null,
       "grid_row": null,
       "grid_template_areas": null,
       "grid_template_columns": null,
       "grid_template_rows": null,
       "height": null,
       "justify_content": null,
       "justify_items": null,
       "left": null,
       "margin": null,
       "max_height": null,
       "max_width": null,
       "min_height": null,
       "min_width": null,
       "object_fit": null,
       "object_position": null,
       "order": null,
       "overflow": null,
       "padding": null,
       "right": null,
       "top": null,
       "visibility": null,
       "width": null
      }
     },
     "0ef720a22ff842b59b376b36cfa31730": {
      "model_module": "@jupyter-widgets/base",
      "model_module_version": "2.0.0",
      "model_name": "LayoutModel",
      "state": {
       "_model_module": "@jupyter-widgets/base",
       "_model_module_version": "2.0.0",
       "_model_name": "LayoutModel",
       "_view_count": null,
       "_view_module": "@jupyter-widgets/base",
       "_view_module_version": "2.0.0",
       "_view_name": "LayoutView",
       "align_content": null,
       "align_items": null,
       "align_self": null,
       "border_bottom": null,
       "border_left": null,
       "border_right": null,
       "border_top": null,
       "bottom": null,
       "display": null,
       "flex": null,
       "flex_flow": null,
       "grid_area": null,
       "grid_auto_columns": null,
       "grid_auto_flow": null,
       "grid_auto_rows": null,
       "grid_column": null,
       "grid_gap": null,
       "grid_row": null,
       "grid_template_areas": null,
       "grid_template_columns": null,
       "grid_template_rows": null,
       "height": null,
       "justify_content": null,
       "justify_items": null,
       "left": null,
       "margin": null,
       "max_height": null,
       "max_width": null,
       "min_height": null,
       "min_width": null,
       "object_fit": null,
       "object_position": null,
       "order": null,
       "overflow": null,
       "padding": null,
       "right": null,
       "top": null,
       "visibility": null,
       "width": null
      }
     },
     "1a8b2f98355a44a8a0a247c0c17051e1": {
      "model_module": "@jupyter-widgets/controls",
      "model_module_version": "2.0.0",
      "model_name": "HTMLStyleModel",
      "state": {
       "_model_module": "@jupyter-widgets/controls",
       "_model_module_version": "2.0.0",
       "_model_name": "HTMLStyleModel",
       "_view_count": null,
       "_view_module": "@jupyter-widgets/base",
       "_view_module_version": "2.0.0",
       "_view_name": "StyleView",
       "background": null,
       "description_width": "",
       "font_size": null,
       "text_color": null
      }
     },
     "20f9b8400db3400ba89dfb0bb998dc38": {
      "model_module": "@jupyter-widgets/controls",
      "model_module_version": "2.0.0",
      "model_name": "HTMLStyleModel",
      "state": {
       "_model_module": "@jupyter-widgets/controls",
       "_model_module_version": "2.0.0",
       "_model_name": "HTMLStyleModel",
       "_view_count": null,
       "_view_module": "@jupyter-widgets/base",
       "_view_module_version": "2.0.0",
       "_view_name": "StyleView",
       "background": null,
       "description_width": "",
       "font_size": null,
       "text_color": null
      }
     },
     "29a9a14a39654ed08f3ce9d3cb6ab13c": {
      "model_module": "@jupyter-widgets/base",
      "model_module_version": "2.0.0",
      "model_name": "LayoutModel",
      "state": {
       "_model_module": "@jupyter-widgets/base",
       "_model_module_version": "2.0.0",
       "_model_name": "LayoutModel",
       "_view_count": null,
       "_view_module": "@jupyter-widgets/base",
       "_view_module_version": "2.0.0",
       "_view_name": "LayoutView",
       "align_content": null,
       "align_items": null,
       "align_self": null,
       "border_bottom": null,
       "border_left": null,
       "border_right": null,
       "border_top": null,
       "bottom": null,
       "display": null,
       "flex": null,
       "flex_flow": null,
       "grid_area": null,
       "grid_auto_columns": null,
       "grid_auto_flow": null,
       "grid_auto_rows": null,
       "grid_column": null,
       "grid_gap": null,
       "grid_row": null,
       "grid_template_areas": null,
       "grid_template_columns": null,
       "grid_template_rows": null,
       "height": null,
       "justify_content": null,
       "justify_items": null,
       "left": null,
       "margin": null,
       "max_height": null,
       "max_width": null,
       "min_height": null,
       "min_width": null,
       "object_fit": null,
       "object_position": null,
       "order": null,
       "overflow": null,
       "padding": null,
       "right": null,
       "top": null,
       "visibility": null,
       "width": null
      }
     },
     "2aef30482eda44188c71a1fc4b98e791": {
      "model_module": "@jupyter-widgets/controls",
      "model_module_version": "2.0.0",
      "model_name": "HTMLModel",
      "state": {
       "_dom_classes": [],
       "_model_module": "@jupyter-widgets/controls",
       "_model_module_version": "2.0.0",
       "_model_name": "HTMLModel",
       "_view_count": null,
       "_view_module": "@jupyter-widgets/controls",
       "_view_module_version": "2.0.0",
       "_view_name": "HTMLView",
       "description": "",
       "description_allow_html": false,
       "layout": "IPY_MODEL_af80c4d1a029452f9ac19ea38fbdbbf9",
       "placeholder": "​",
       "style": "IPY_MODEL_20f9b8400db3400ba89dfb0bb998dc38",
       "tabbable": null,
       "tooltip": null,
       "value": "100%"
      }
     },
     "52c5c604454d40ecac45d77e3454bade": {
      "model_module": "@jupyter-widgets/controls",
      "model_module_version": "2.0.0",
      "model_name": "HBoxModel",
      "state": {
       "_dom_classes": [],
       "_model_module": "@jupyter-widgets/controls",
       "_model_module_version": "2.0.0",
       "_model_name": "HBoxModel",
       "_view_count": null,
       "_view_module": "@jupyter-widgets/controls",
       "_view_module_version": "2.0.0",
       "_view_name": "HBoxView",
       "box_style": "",
       "children": [
        "IPY_MODEL_2aef30482eda44188c71a1fc4b98e791",
        "IPY_MODEL_72622adddb744a1ca11993f6f1ad1142",
        "IPY_MODEL_8d02591515ec49e4a98eb74a8a8b118a"
       ],
       "layout": "IPY_MODEL_0ef720a22ff842b59b376b36cfa31730",
       "tabbable": null,
       "tooltip": null
      }
     },
     "72622adddb744a1ca11993f6f1ad1142": {
      "model_module": "@jupyter-widgets/controls",
      "model_module_version": "2.0.0",
      "model_name": "FloatProgressModel",
      "state": {
       "_dom_classes": [],
       "_model_module": "@jupyter-widgets/controls",
       "_model_module_version": "2.0.0",
       "_model_name": "FloatProgressModel",
       "_view_count": null,
       "_view_module": "@jupyter-widgets/controls",
       "_view_module_version": "2.0.0",
       "_view_name": "ProgressView",
       "bar_style": "success",
       "description": "",
       "description_allow_html": false,
       "layout": "IPY_MODEL_0aa9dcc370ed45d8b4d490cf7dfd573e",
       "max": 5.0,
       "min": 0.0,
       "orientation": "horizontal",
       "style": "IPY_MODEL_809f8969ff374b828bbcfe9082fa7a24",
       "tabbable": null,
       "tooltip": null,
       "value": 5.0
      }
     },
     "809f8969ff374b828bbcfe9082fa7a24": {
      "model_module": "@jupyter-widgets/controls",
      "model_module_version": "2.0.0",
      "model_name": "ProgressStyleModel",
      "state": {
       "_model_module": "@jupyter-widgets/controls",
       "_model_module_version": "2.0.0",
       "_model_name": "ProgressStyleModel",
       "_view_count": null,
       "_view_module": "@jupyter-widgets/base",
       "_view_module_version": "2.0.0",
       "_view_name": "StyleView",
       "bar_color": null,
       "description_width": ""
      }
     },
     "8d02591515ec49e4a98eb74a8a8b118a": {
      "model_module": "@jupyter-widgets/controls",
      "model_module_version": "2.0.0",
      "model_name": "HTMLModel",
      "state": {
       "_dom_classes": [],
       "_model_module": "@jupyter-widgets/controls",
       "_model_module_version": "2.0.0",
       "_model_name": "HTMLModel",
       "_view_count": null,
       "_view_module": "@jupyter-widgets/controls",
       "_view_module_version": "2.0.0",
       "_view_name": "HTMLView",
       "description": "",
       "description_allow_html": false,
       "layout": "IPY_MODEL_29a9a14a39654ed08f3ce9d3cb6ab13c",
       "placeholder": "​",
       "style": "IPY_MODEL_1a8b2f98355a44a8a0a247c0c17051e1",
       "tabbable": null,
       "tooltip": null,
       "value": " 5/5 [00:18&lt;00:00,  5.05s/it]"
      }
     },
     "af80c4d1a029452f9ac19ea38fbdbbf9": {
      "model_module": "@jupyter-widgets/base",
      "model_module_version": "2.0.0",
      "model_name": "LayoutModel",
      "state": {
       "_model_module": "@jupyter-widgets/base",
       "_model_module_version": "2.0.0",
       "_model_name": "LayoutModel",
       "_view_count": null,
       "_view_module": "@jupyter-widgets/base",
       "_view_module_version": "2.0.0",
       "_view_name": "LayoutView",
       "align_content": null,
       "align_items": null,
       "align_self": null,
       "border_bottom": null,
       "border_left": null,
       "border_right": null,
       "border_top": null,
       "bottom": null,
       "display": null,
       "flex": null,
       "flex_flow": null,
       "grid_area": null,
       "grid_auto_columns": null,
       "grid_auto_flow": null,
       "grid_auto_rows": null,
       "grid_column": null,
       "grid_gap": null,
       "grid_row": null,
       "grid_template_areas": null,
       "grid_template_columns": null,
       "grid_template_rows": null,
       "height": null,
       "justify_content": null,
       "justify_items": null,
       "left": null,
       "margin": null,
       "max_height": null,
       "max_width": null,
       "min_height": null,
       "min_width": null,
       "object_fit": null,
       "object_position": null,
       "order": null,
       "overflow": null,
       "padding": null,
       "right": null,
       "top": null,
       "visibility": null,
       "width": null
      }
     }
    },
    "version_major": 2,
    "version_minor": 0
   }
  }
 },
 "nbformat": 4,
 "nbformat_minor": 5
}